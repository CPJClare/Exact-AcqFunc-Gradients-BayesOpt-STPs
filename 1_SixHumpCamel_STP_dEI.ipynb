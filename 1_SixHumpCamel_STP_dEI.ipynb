{
  "cells": [
    {
      "cell_type": "markdown",
      "metadata": {
        "id": "Dqn4dFx7Z2Ir"
      },
      "source": [
        "\n",
        "SixHumpCamel: 2D\n"
      ]
    },
    {
      "cell_type": "code",
      "execution_count": 1,
      "metadata": {
        "colab": {
          "base_uri": "https://localhost:8080/"
        },
        "id": "MJTM_GZZZb5x",
        "outputId": "8e112c62-a7b2-4665-f83d-85fa1c6bf2a7"
      },
      "outputs": [
        {
          "output_type": "stream",
          "name": "stdout",
          "text": [
            "Looking in indexes: https://pypi.org/simple, https://us-python.pkg.dev/colab-wheels/public/simple/\n",
            "Requirement already satisfied: pyGPGO in /usr/local/lib/python3.7/dist-packages (0.5.1)\n",
            "Requirement already satisfied: scikit-learn in /usr/local/lib/python3.7/dist-packages (from pyGPGO) (1.0.2)\n",
            "Requirement already satisfied: mkl in /usr/local/lib/python3.7/dist-packages (from pyGPGO) (2019.0)\n",
            "Requirement already satisfied: numpy in /usr/local/lib/python3.7/dist-packages (from pyGPGO) (1.21.6)\n",
            "Requirement already satisfied: joblib in /usr/local/lib/python3.7/dist-packages (from pyGPGO) (1.1.0)\n",
            "Requirement already satisfied: Theano-PyMC in /usr/local/lib/python3.7/dist-packages (from pyGPGO) (1.1.2)\n",
            "Requirement already satisfied: scipy in /usr/local/lib/python3.7/dist-packages (from pyGPGO) (1.7.3)\n",
            "Requirement already satisfied: pyMC3 in /usr/local/lib/python3.7/dist-packages (from pyGPGO) (3.11.5)\n",
            "Requirement already satisfied: intel-openmp in /usr/local/lib/python3.7/dist-packages (from mkl->pyGPGO) (2022.1.0)\n",
            "Requirement already satisfied: deprecat in /usr/local/lib/python3.7/dist-packages (from pyMC3->pyGPGO) (2.1.1)\n",
            "Requirement already satisfied: typing-extensions>=3.7.4 in /usr/local/lib/python3.7/dist-packages (from pyMC3->pyGPGO) (4.1.1)\n",
            "Requirement already satisfied: semver>=2.13.0 in /usr/local/lib/python3.7/dist-packages (from pyMC3->pyGPGO) (2.13.0)\n",
            "Requirement already satisfied: cachetools>=4.2.1 in /usr/local/lib/python3.7/dist-packages (from pyMC3->pyGPGO) (4.2.4)\n",
            "Requirement already satisfied: patsy>=0.5.1 in /usr/local/lib/python3.7/dist-packages (from pyMC3->pyGPGO) (0.5.2)\n",
            "Requirement already satisfied: fastprogress>=0.2.0 in /usr/local/lib/python3.7/dist-packages (from pyMC3->pyGPGO) (1.0.3)\n",
            "Requirement already satisfied: pandas>=0.24.0 in /usr/local/lib/python3.7/dist-packages (from pyMC3->pyGPGO) (1.3.5)\n",
            "Requirement already satisfied: dill in /usr/local/lib/python3.7/dist-packages (from pyMC3->pyGPGO) (0.3.5.1)\n",
            "Requirement already satisfied: arviz>=0.11.0 in /usr/local/lib/python3.7/dist-packages (from pyMC3->pyGPGO) (0.12.1)\n",
            "Requirement already satisfied: filelock in /usr/local/lib/python3.7/dist-packages (from Theano-PyMC->pyGPGO) (3.8.0)\n",
            "Requirement already satisfied: packaging in /usr/local/lib/python3.7/dist-packages (from arviz>=0.11.0->pyMC3->pyGPGO) (21.3)\n",
            "Requirement already satisfied: xarray-einstats>=0.2 in /usr/local/lib/python3.7/dist-packages (from arviz>=0.11.0->pyMC3->pyGPGO) (0.2.2)\n",
            "Requirement already satisfied: netcdf4 in /usr/local/lib/python3.7/dist-packages (from arviz>=0.11.0->pyMC3->pyGPGO) (1.6.0)\n",
            "Requirement already satisfied: setuptools>=38.4 in /usr/local/lib/python3.7/dist-packages (from arviz>=0.11.0->pyMC3->pyGPGO) (57.4.0)\n",
            "Requirement already satisfied: xarray>=0.16.1 in /usr/local/lib/python3.7/dist-packages (from arviz>=0.11.0->pyMC3->pyGPGO) (0.20.2)\n",
            "Requirement already satisfied: matplotlib>=3.0 in /usr/local/lib/python3.7/dist-packages (from arviz>=0.11.0->pyMC3->pyGPGO) (3.2.2)\n",
            "Requirement already satisfied: kiwisolver>=1.0.1 in /usr/local/lib/python3.7/dist-packages (from matplotlib>=3.0->arviz>=0.11.0->pyMC3->pyGPGO) (1.4.4)\n",
            "Requirement already satisfied: cycler>=0.10 in /usr/local/lib/python3.7/dist-packages (from matplotlib>=3.0->arviz>=0.11.0->pyMC3->pyGPGO) (0.11.0)\n",
            "Requirement already satisfied: python-dateutil>=2.1 in /usr/local/lib/python3.7/dist-packages (from matplotlib>=3.0->arviz>=0.11.0->pyMC3->pyGPGO) (2.8.2)\n",
            "Requirement already satisfied: pyparsing!=2.0.4,!=2.1.2,!=2.1.6,>=2.0.1 in /usr/local/lib/python3.7/dist-packages (from matplotlib>=3.0->arviz>=0.11.0->pyMC3->pyGPGO) (3.0.9)\n",
            "Requirement already satisfied: pytz>=2017.3 in /usr/local/lib/python3.7/dist-packages (from pandas>=0.24.0->pyMC3->pyGPGO) (2022.2.1)\n",
            "Requirement already satisfied: six in /usr/local/lib/python3.7/dist-packages (from patsy>=0.5.1->pyMC3->pyGPGO) (1.15.0)\n",
            "Requirement already satisfied: importlib-metadata in /usr/local/lib/python3.7/dist-packages (from xarray>=0.16.1->arviz>=0.11.0->pyMC3->pyGPGO) (4.12.0)\n",
            "Requirement already satisfied: wrapt<2,>=1.10 in /usr/local/lib/python3.7/dist-packages (from deprecat->pyMC3->pyGPGO) (1.14.1)\n",
            "Requirement already satisfied: zipp>=0.5 in /usr/local/lib/python3.7/dist-packages (from importlib-metadata->xarray>=0.16.1->arviz>=0.11.0->pyMC3->pyGPGO) (3.8.1)\n",
            "Requirement already satisfied: cftime in /usr/local/lib/python3.7/dist-packages (from netcdf4->arviz>=0.11.0->pyMC3->pyGPGO) (1.6.1)\n",
            "Requirement already satisfied: threadpoolctl>=2.0.0 in /usr/local/lib/python3.7/dist-packages (from scikit-learn->pyGPGO) (3.1.0)\n"
          ]
        }
      ],
      "source": [
        "pip install pyGPGO\n"
      ]
    },
    {
      "cell_type": "code",
      "execution_count": 2,
      "metadata": {
        "id": "ZJSSPbwPaEUB"
      },
      "outputs": [],
      "source": [
        "### 1. Import python modules/packages required:\n",
        "\n",
        "import numpy as np\n",
        "import pandas as pd\n",
        "import scipy as sp\n",
        "import matplotlib.pyplot as plt\n",
        "import warnings\n",
        "import itertools\n",
        "import seaborn as sns\n",
        "import time\n",
        "\n",
        "from pyGPGO.GPGO import GPGO\n",
        "from pyGPGO.surrogates.tStudentProcess import tStudentProcess\n",
        "from pyGPGO.acquisition import Acquisition\n",
        "from pyGPGO.covfunc import squaredExponential\n",
        "from joblib import Parallel, delayed\n",
        "from scipy.linalg import inv\n",
        "from scipy.spatial.distance import cdist\n",
        "from scipy.optimize import minimize\n",
        "from scipy.stats import t\n",
        "from mpl_toolkits.axes_grid1.inset_locator import inset_axes, mark_inset\n",
        "\n",
        "warnings.filterwarnings(\"ignore\", category=RuntimeWarning)\n"
      ]
    },
    {
      "cell_type": "code",
      "execution_count": 3,
      "metadata": {
        "id": "OeYcTUNoaJWa"
      },
      "outputs": [],
      "source": [
        "### Inputs:\n",
        "\n",
        "func = 'SixHumpCamel'\n",
        "n_test = 500\n",
        "eps = 1e-08\n",
        "\n",
        "util = 'EI'\n",
        "\n",
        "n_init = 5 # random initialisations\n",
        "iters = 20\n",
        "opt = True\n",
        "\n",
        "df = 3"
      ]
    },
    {
      "cell_type": "code",
      "execution_count": 4,
      "metadata": {
        "id": "xpaEOjdzaPMS"
      },
      "outputs": [],
      "source": [
        "### Objective Function - SixHumpCamel(x) 2-D:\n",
        "\n",
        "def objfunc(x1_training, x2_training):\n",
        "        return operator * ((4 - 2.1 * x1_training ** 2 + 1 / 3 * x1_training ** 4) * x1_training ** 2 +\n",
        "                (x1_training * x2_training) + (-4 + 4 * x2_training ** 2) * x2_training ** 2)\n",
        "    \n",
        "# Constraints:\n",
        "lb_x1 = -3\n",
        "ub_x1 = +3\n",
        "    \n",
        "lb_x2 = -2\n",
        "ub_x2 = +2\n",
        "\n",
        "# Input array dimension(s):\n",
        "dim = 2\n",
        "\n",
        "# 2-D inputs' parameter bounds:\n",
        "param = {'x1_training': ('cont', [lb_x1, ub_x1]),\n",
        "             'x2_training': ('cont', [lb_x2, ub_x2])}\n",
        "\n",
        "# True y bounds:\n",
        "operator = -1\n",
        "y_global_orig = -1.0316 # targets global minimum\n",
        "\n",
        "# Test data:\n",
        "x1_test = np.linspace(lb_x1, ub_x1, n_test) \n",
        "x2_test = np.linspace(lb_x2, ub_x2, n_test)\n",
        "  \n",
        "x_test = np.column_stack((x1_test,x2_test))\n"
      ]
    },
    {
      "cell_type": "code",
      "execution_count": 5,
      "metadata": {
        "id": "eYpI3Zm4aGxi"
      },
      "outputs": [],
      "source": [
        "n_start_AcqFunc = iters\n",
        "inverse = -1\n"
      ]
    },
    {
      "cell_type": "code",
      "execution_count": 6,
      "metadata": {
        "id": "oO_GUmOoaV0T"
      },
      "outputs": [],
      "source": [
        "### Cumulative Regret Calculators:\n",
        "\n",
        "def min_max_array(x):\n",
        "    new_list = []\n",
        "    for i, num in enumerate(x):\n",
        "            new_list.append(np.min(x[0:i+1]))\n",
        "    return new_list\n",
        "  \n",
        "def acqFuncExact(x):\n",
        "    new_array = []\n",
        "    x = np.array(x) \n",
        "    for i, num in enumerate(x):\n",
        "            new_array = x[:-2][::-3]\n",
        "    return new_array[::-1]\n",
        "\n",
        "def acqFuncApprox(x):\n",
        "    new_array = []\n",
        "    x = np.array(x) \n",
        "    for i, num in enumerate(x):\n",
        "            new_array = x[:-1][::-3]\n",
        "    return new_array[::-1]\n"
      ]
    },
    {
      "cell_type": "code",
      "execution_count": 7,
      "metadata": {
        "id": "kuuJx0IMam9S"
      },
      "outputs": [],
      "source": [
        "### Surrogate derivatives: \n",
        "\n",
        "cov_func = squaredExponential()\n",
        "\n",
        "def kronDelta(X, Xstar):                     # Kronecker's Delta method\n",
        "    return cdist(X, Xstar) < np.finfo(np.float32).eps\n",
        "\n",
        "def se(X, Xstar, sigmaf, l, sigman):         # S.E. kernel method\n",
        "    return sigmaf * np.exp(-0.5 * cdist(X, Xstar) ** 2 / l ** 2) + sigman * kronDelta(X, Xstar)\n",
        "\n",
        "def delta(X, Xstar):                         # Distance between training X and test Xstar vectors\n",
        "    return (X - Xstar)\n",
        "   \n",
        "def der_covmat(X, Xstar, sigmaf, l, sigman): # Covariance matrix derivative terms (i.e. exact, first-order)\n",
        "    nx = len(X)\n",
        "    ny = len(Xstar)\n",
        "    return np.round(np.array([(delta(np.atleast_2d(i), np.atleast_2d(j))[0] * se(np.atleast_2d(i), np.atleast_2d(j), sigmaf, l, sigman)[0]).sum() for (i, j) in itertools.product(X, Xstar)]).reshape(nx, ny), 8)\n",
        "\n",
        "class dtStudentProcess(tStudentProcess):    # Via inheritance, also optimises hyperparameters when opt = TRUE\n",
        "    \n",
        "    def AcqGrad(self, Xstar):               # Method returning exact, first-order derivatives of the STP's posterior mean and standard deviation\n",
        "        Xstar = np.atleast_2d(Xstar)\n",
        "        Kstar = self.covfunc.K(self.X, Xstar).T\n",
        "        dKstar = der_covmat(self.X, Xstar, self.covfunc.sigmaf, self.covfunc.l, self.covfunc.sigman).T\n",
        "        \n",
        "        smd_adj = (self.nu + self.beta1 - 2) / (self.nu + self.n1 - 2)\n",
        "\n",
        "        alpha = np.dot(np.linalg.inv(self.K11 + (self.covfunc.sigman**2) * np.eye(len(self.X))), self.y)\n",
        "        alpha_Kstar = np.dot(np.linalg.inv(self.K11 + (self.covfunc.sigman**2) * np.eye(len(self.X))), Kstar.T)      \n",
        "        \n",
        "        dm = np.dot(dKstar, alpha)\n",
        "        ds = -2 * smd_adj * np.dot(dKstar, alpha_Kstar)\n",
        "        \n",
        "        return dm, ds \n",
        "        "
      ]
    },
    {
      "cell_type": "code",
      "execution_count": 8,
      "metadata": {
        "id": "_Dc3YVHVaXz7"
      },
      "outputs": [],
      "source": [
        "### Add exact acquisition function gradient as attribute:\n",
        "\n",
        "class Acquisition_grad(Acquisition):    \n",
        "    def __init__(self, mode, eps=eps, **params):\n",
        "        \n",
        "        self.params = params\n",
        "        self.eps = eps\n",
        "\n",
        "        mode_dict = {\n",
        "            'EI': self.EI\n",
        "        }\n",
        "\n",
        "        self.f = mode_dict[mode]\n",
        "    \n",
        "    def EI(self, tau, mean, std, ds, dm, nu=3.0):\n",
        "        gamma = (mean - tau - self.eps) / (std + self.eps)\n",
        "        gamma_h = (mean - tau) / (std + self.eps)\n",
        "        dsdx = ds / (2 * (std + self.eps))\n",
        "        dmdx = (dm - gamma * dsdx) / (std + self.eps)\n",
        "        \n",
        "        f = (std + self.eps) * (gamma * t.cdf(gamma, df=nu) + (nu + gamma ** 2)/(nu - 1) * t.pdf(gamma, df=nu))\n",
        "        df1 = f / (std + self.eps) * dsdx \n",
        "        df2 = (std + self.eps) * (t.cdf(gamma, df=nu) * dmdx + gamma * t.pdf(gamma, df=nu) \\\n",
        "            * (1 - (nu + gamma ** 2)/(nu - 1) + 2/(nu - 1) * dmdx))\n",
        "        df = (df1 + df2)[0]\n",
        "        df_arr = []\n",
        "\n",
        "        for j in range(0, dim):\n",
        "          df_arr.append(df)\n",
        "        return f, np.asarray(df_arr).transpose()\n",
        "        \n",
        "    def d_eval(self, tau, mean, std, ds, dm, nu=3.0):\n",
        "    \n",
        "        return self.f(tau, mean, std, ds, dm, nu=3.0, **self.params)\n",
        "        "
      ]
    },
    {
      "cell_type": "code",
      "execution_count": 9,
      "metadata": {
        "id": "PITEQC8YSl7i"
      },
      "outputs": [],
      "source": [
        "## GPGO_multi: \n",
        "\n",
        "class GPGO_multi(GPGO):\n",
        "    n_start = n_start_AcqFunc\n",
        "\n",
        "    def __init__(self, surrogate, acquisition, f, parameter_dict, n_jobs=1):\n",
        "        self.GP = surrogate\n",
        "        self.A = acquisition\n",
        "        self.f = f\n",
        "        self.parameters = parameter_dict\n",
        "        self.n_jobs = n_jobs\n",
        "\n",
        "        self.parameter_key = list(parameter_dict.keys())\n",
        "        self.parameter_value = list(parameter_dict.values())\n",
        "        self.parameter_type = [p[0] for p in self.parameter_value]\n",
        "        self.parameter_range = [p[1] for p in self.parameter_value]\n",
        "\n",
        "        self.history = []\n",
        "        self.header =   'Evaluation \\t Proposed point \\t  Current eval. \\t  Best eval. \\t        Exact EI: StdDev. x \\t Approx EI: StdDev. x '\n",
        "        self.template = '{:3}\\t {}\\t {:3}\\t {:3}\\t {:3}\\t {:3}'\n",
        " \n",
        "    def acqfuncExact(self, xnew, n_start=n_start_AcqFunc):\n",
        "        new_mean, new_var = self.GP.predict(xnew, return_std=True)\n",
        "        new_std = np.sqrt(new_var + eps)\n",
        "        dm, ds = self.GP.AcqGrad(xnew)\n",
        "        f, df = self.A.d_eval(self.tau, new_mean, new_std, ds=ds, dm=dm, nu=3.0)\n",
        "\n",
        "        return -f, -df\n",
        "   \n",
        "    def acqfuncApprox(self, xnew, n_start=n_start_AcqFunc):\n",
        "        new_mean, new_var = self.GP.predict(xnew, return_std=True)\n",
        "        new_std = np.sqrt(new_var + eps)\n",
        "        dm, ds = self.GP.AcqGrad(xnew)\n",
        "        f, df = self.A.d_eval(self.tau, new_mean, new_std, ds=ds, dm=dm, nu=3.0)\n",
        "\n",
        "        return -f\n",
        "   \n",
        "    def _optimizeAcq(self, method='L-BFGS-B', n_start=n_start_AcqFunc):\n",
        "        \n",
        "        start_points_dict = [self._sampleParam() for i in range(n_start)]\n",
        "        start_points_arr = np.array([list(s.values())\n",
        "                                     for s in start_points_dict])\n",
        "        x_best = np.empty((n_start, len(self.parameter_key)))\n",
        "        f_best = np.empty((n_start,))\n",
        "        opt = Parallel(n_jobs=self.n_jobs)(delayed(minimize)(self.acqfuncApprox,\n",
        "                                                                 x0=start_point,\n",
        "                                                                 method=method,\n",
        "                                                                 jac = False,\n",
        "                                                                 bounds=self.parameter_range) for start_point in\n",
        "                                               start_points_arr)\n",
        "        x_best = np.array([res.x for res in opt])\n",
        "        f_best = np.array([np.atleast_1d(res.fun)[0] for res in opt])\n",
        "        f_best_min = min(f_best)\n",
        "\n",
        "        self.x_best = x_best\n",
        "        self.f_best = f_best\n",
        "        self.f_best_min = f_best_min\n",
        "        self.x_best_std = np.std(x_best)\n",
        "        self.best = x_best[np.argmin(f_best)]\n",
        "        self.start_points_arr = start_points_arr        \n",
        "        self.history.append(self.x_best_std)\n",
        "\n",
        "        x_best_exact = np.empty((n_start, len(self.parameter_key)))\n",
        "        f_best_exact = np.empty((n_start,))\n",
        "        opt_exact = Parallel(n_jobs=self.n_jobs)(delayed(minimize)(self.acqfuncExact,\n",
        "                                                                 x0=start_point,\n",
        "                                                                 method=method,\n",
        "                                                                 jac = True,\n",
        "                                                                 bounds=self.parameter_range) for start_point in\n",
        "                                               start_points_arr)\n",
        "        x_best_exact = np.array([res.x for res in opt_exact])\n",
        "        f_best_exact = np.array([np.atleast_1d(res.fun)[0] for res in opt_exact])\n",
        "        f_best_min_exact = min(f_best_exact)\n",
        "\n",
        "        self.x_best_exact = x_best_exact\n",
        "        self.f_best_exact = f_best_exact\n",
        "        self.f_best_min_exact = f_best_min_exact\n",
        "        self.x_best_std_exact = np.std(x_best_exact)\n",
        "        self.best_exact = x_best_exact[np.argmin(f_best_exact)]\n",
        "        self.start_points_arr = start_points_arr\n",
        "        self.history.append(self.x_best_std_exact)\n",
        "\n",
        "    def _printInit(self):\n",
        "        print(self.header)\n",
        "        for init_eval in range(self.init_evals):\n",
        "            print(self.template.format('init', self.GP.X[init_eval], inverse * self.GP.y[init_eval], inverse * self.tau, '', ''))\n",
        "      \n",
        "    def _printCurrent(self):\n",
        "        OKGREEN = '\\033[92m'\n",
        "        ENDC = '\\033[0m'\n",
        "        BOLD = '\\033[1m'\n",
        "        eval = str(len(self.GP.y) - self.init_evals)\n",
        "        proposed = str(self.best)\n",
        "        curr_eval = str(inverse * self.GP.y[-1])\n",
        "        curr_best = str(inverse * self.tau)\n",
        "        min_acqfunc = str(self.f_best_min)\n",
        "        min_acqfunc_exact = str(self.f_best_min_exact)\n",
        "        x_best_std = str(self.x_best_std)\n",
        "        x_best_std_exact = str(self.x_best_std_exact)\n",
        "        if float(curr_eval) <= float(curr_best):\n",
        "            eval = BOLD + OKGREEN + eval + ENDC\n",
        "            proposed = BOLD + OKGREEN + proposed + ENDC\n",
        "            curr_eval = BOLD + OKGREEN + curr_eval + ENDC\n",
        "            curr_best = BOLD + OKGREEN + curr_best + ENDC\n",
        "            x_best_std = BOLD + OKGREEN + x_best_std + ENDC\n",
        "            x_best_std_exact = BOLD + OKGREEN + x_best_std_exact + ENDC\n",
        "        print(self.template.format(eval, proposed, curr_eval, curr_best, x_best_std_exact, x_best_std))\n",
        "        \n",
        "    def run(self, max_iter=10, init_evals=3, resume=False):\n",
        "        \n",
        "        if not resume:\n",
        "            self.init_evals = init_evals\n",
        "            self._firstRun(self.init_evals)\n",
        "            self._printInit()\n",
        "        for iteration in range(max_iter):\n",
        "            self._optimizeAcq()\n",
        "            self.updateGP()\n",
        "            self._printCurrent()\n"
      ]
    },
    {
      "cell_type": "code",
      "execution_count": 10,
      "metadata": {
        "id": "b_B-w81BJxKN"
      },
      "outputs": [],
      "source": [
        "## dGPGO:\n",
        "\n",
        "class dGPGO(GPGO):\n",
        "    n_start = n_start_AcqFunc\n",
        "\n",
        "    def __init__(self, surrogate, acquisition, f, parameter_dict, n_jobs=1):\n",
        "        self.GP = surrogate\n",
        "        self.A = acquisition\n",
        "        self.f = f\n",
        "        self.parameters = parameter_dict\n",
        "        self.n_jobs = n_jobs\n",
        "\n",
        "        self.parameter_key = list(parameter_dict.keys())\n",
        "        self.parameter_value = list(parameter_dict.values())\n",
        "        self.parameter_type = [p[0] for p in self.parameter_value]\n",
        "        self.parameter_range = [p[1] for p in self.parameter_value]\n",
        "\n",
        "        self.history = []\n",
        "        self.header =   'Evaluation \\t Proposed point \\t  Current eval. \\t  Best eval. \\t        Exact EI: StdDev. x \\t Approx EI: StdDev. x '\n",
        "        self.template = '{:3}\\t {}\\t {:3}\\t {:3}\\t {:3}\\t {:3}'\n",
        "\n",
        "    def acqfuncExact(self, xnew, n_start=n_start_AcqFunc):\n",
        "        new_mean, new_var = self.GP.predict(xnew, return_std=True)\n",
        "        new_std = np.sqrt(new_var + eps)\n",
        "        dm, ds = self.GP.AcqGrad(xnew)\n",
        "        f, df = self.A.d_eval(self.tau, new_mean, new_std, ds=ds, dm=dm, nu=3.0)\n",
        "\n",
        "        return -f, -df\n",
        "   \n",
        "    def acqfuncApprox(self, xnew, n_start=n_start_AcqFunc):\n",
        "        new_mean, new_var = self.GP.predict(xnew, return_std=True)\n",
        "        new_std = np.sqrt(new_var + eps)\n",
        "        dm, ds = self.GP.AcqGrad(xnew)\n",
        "        f, df = self.A.d_eval(self.tau, new_mean, new_std, ds=ds, dm=dm, nu=3.0)\n",
        "\n",
        "        return -f\n",
        "\n",
        "    def d_optimizeAcq(self, method='L-BFGS-B', n_start=n_start_AcqFunc):\n",
        "        start_points_dict = [self._sampleParam() for i in range(n_start)]\n",
        "        start_points_arr = np.array([list(s.values())\n",
        "                                     for s in start_points_dict])\n",
        "        x_best = np.empty((n_start, len(self.parameter_key)))\n",
        "        f_best = np.empty((n_start,))\n",
        "        opt = Parallel(n_jobs=self.n_jobs)(delayed(minimize)(self.acqfuncExact,\n",
        "                                                                 x0=start_point,\n",
        "                                                                 method=method,\n",
        "                                                                 jac = True,\n",
        "                                                                 bounds=self.parameter_range) for start_point in\n",
        "                                               start_points_arr)\n",
        "        x_best = np.array([res.x for res in opt])\n",
        "        f_best = np.array([np.atleast_1d(res.fun)[0] for res in opt])\n",
        "        f_best_min = min(f_best)\n",
        "\n",
        "        self.x_best = x_best\n",
        "        self.f_best = f_best\n",
        "        self.f_best_min = f_best_min\n",
        "        self.x_best_std = np.std(x_best)\n",
        "        self.best = x_best[np.argmin(f_best)]\n",
        "        self.start_points_arr = start_points_arr\n",
        "        self.history.append(self.x_best_std)\n",
        "\n",
        "        x_best_approx = np.empty((n_start, len(self.parameter_key)))\n",
        "        f_best_approx = np.empty((n_start,))\n",
        "        opt_approx = Parallel(n_jobs=self.n_jobs)(delayed(minimize)(self.acqfuncApprox,\n",
        "                                                                 x0=start_point,\n",
        "                                                                 method=method,\n",
        "                                                                 jac = False,\n",
        "                                                                 bounds=self.parameter_range) for start_point in\n",
        "                                               start_points_arr)\n",
        "        x_best_approx = np.array([res.x for res in opt_approx])\n",
        "        f_best_approx = np.array([np.atleast_1d(res.fun)[0] for res in opt_approx])\n",
        "        f_best_min_approx = min(f_best_approx)\n",
        "\n",
        "        self.x_best_approx = x_best_approx\n",
        "        self.f_best_approx = f_best_approx\n",
        "        self.f_best_min_approx = f_best_min_approx\n",
        "        self.x_best_std_approx = np.std(x_best_approx)\n",
        "        self.best_approx = x_best_approx[np.argmin(f_best_approx)]\n",
        "        self.start_points_arr = start_points_arr\n",
        "        self.history.append(self.x_best_std_approx)\n",
        "    \n",
        "    def _printInit(self):\n",
        "        print(self.header)\n",
        "        for init_eval in range(self.init_evals):\n",
        "            print(self.template.format('init', self.GP.X[init_eval], inverse * self.GP.y[init_eval], inverse * self.tau, '', ''))\n",
        "      \n",
        "    def _printCurrent(self):\n",
        "        OKGREEN = '\\033[92m'\n",
        "        ENDC = '\\033[0m'\n",
        "        BOLD = '\\033[1m'\n",
        "        eval = str(len(self.GP.y) - self.init_evals)\n",
        "        proposed = str(self.best)\n",
        "        curr_eval = str(inverse * self.GP.y[-1])\n",
        "        curr_best = str(inverse * self.tau)\n",
        "        min_acqfunc = str(self.f_best_min)\n",
        "        min_acqfunc_approx = str(self.f_best_min_approx)\n",
        "        x_best_std = str(self.x_best_std)\n",
        "        x_best_std_approx = str(self.x_best_std_approx)\n",
        "        if float(curr_eval) <= float(curr_best):\n",
        "            eval = BOLD + OKGREEN + eval + ENDC\n",
        "            proposed = BOLD + OKGREEN + proposed + ENDC\n",
        "            curr_eval = BOLD + OKGREEN + curr_eval + ENDC\n",
        "            curr_best = BOLD + OKGREEN + curr_best + ENDC\n",
        "            x_best_std = BOLD + OKGREEN + x_best_std + ENDC\n",
        "            x_best_std_approx = BOLD + OKGREEN + x_best_std_approx + ENDC\n",
        "        print(self.template.format(eval, proposed, curr_eval, curr_best, x_best_std, x_best_std_approx))\n",
        "\n",
        "    def run(self, max_iter=10, init_evals=3, resume=False):\n",
        "        \n",
        "        if not resume:\n",
        "            self.init_evals = init_evals\n",
        "            self._firstRun(self.init_evals)\n",
        "            self._printInit()\n",
        "        for iteration in range(max_iter):\n",
        "            self.d_optimizeAcq()\n",
        "            self.updateGP()\n",
        "            self._printCurrent()\n"
      ]
    },
    {
      "cell_type": "code",
      "execution_count": 11,
      "metadata": {
        "id": "qXIKGuXVGEg2"
      },
      "outputs": [],
      "source": [
        "###Reproducible set-seeds:\n",
        "\n",
        "run_num_1 = 1\n",
        "run_num_2 = 2\n",
        "run_num_3 = 3\n",
        "run_num_4 = 4\n",
        "run_num_5 = 5\n",
        "run_num_6 = 6\n",
        "run_num_7 = 7\n",
        "run_num_8 = 8\n",
        "run_num_9 = 9\n",
        "run_num_10 = 10\n",
        "run_num_11 = 11\n",
        "run_num_12 = 12\n",
        "run_num_13 = 13\n",
        "run_num_14 = 14\n",
        "run_num_15 = 15\n",
        "run_num_16 = 16\n",
        "run_num_17 = 17\n",
        "run_num_18 = 18\n",
        "run_num_19 = 19\n",
        "run_num_20 = 20\n"
      ]
    },
    {
      "cell_type": "code",
      "execution_count": 12,
      "metadata": {
        "colab": {
          "base_uri": "https://localhost:8080/"
        },
        "id": "JEhagQmnTVIK",
        "outputId": "ec139018-9b8b-40ea-c8b2-acad5d9b3ac6"
      },
      "outputs": [
        {
          "output_type": "execute_result",
          "data": {
            "text/plain": [
              "1662384659.5477173"
            ]
          },
          "metadata": {},
          "execution_count": 12
        }
      ],
      "source": [
        "start_approx = time.time()\n",
        "start_approx\n"
      ]
    },
    {
      "cell_type": "code",
      "execution_count": 13,
      "metadata": {
        "colab": {
          "base_uri": "https://localhost:8080/"
        },
        "id": "aH0YSTXufD1v",
        "outputId": "12e80018-64b2-4ff4-bb43-a05bdbf865d4"
      },
      "outputs": [
        {
          "output_type": "stream",
          "name": "stdout",
          "text": [
            "Evaluation \t Proposed point \t  Current eval. \t  Best eval. \t        Exact EI: StdDev. x \t Approx EI: StdDev. x \n",
            "init\t [-0.49786797  0.88129797]\t -0.2650082867644827\t -0.2650082867644827\t    \t    \n",
            "init\t [-2.99931375 -0.79066971]\t 110.13991869176735\t -0.2650082867644827\t    \t    \n",
            "init\t [-2.11946466 -1.63064562]\t 26.90935479429681\t -0.2650082867644827\t    \t    \n",
            "init\t [-1.88243873 -0.61775709]\t 2.8558363102363344\t -0.2650082867644827\t    \t    \n",
            "init\t [-0.61939515  0.15526694]\t 1.0540522096005847\t -0.2650082867644827\t    \t    \n",
            "1  \t [1.68341794 2.        ]\t 53.42369813747565\t -0.2650082867644827\t 1.434137932380688\t 2.0809613621168177\n",
            "2  \t [ 3. -2.]\t 150.89999999999998\t -0.2650082867644827\t 1.5589060944630586\t 2.324015345464217\n",
            "3  \t [-2.05534887  2.        ]\t 48.44039931582469\t -0.2650082867644827\t 1.4218796724190161\t 1.6714484420373046\n",
            "4  \t [-0.2108713  -1.60821956]\t 16.924632722023766\t -0.2650082867644827\t 1.379467090201238\t 1.7700487349903478\n",
            "5  \t [ 0.86263233 -0.08744386]\t 1.84525977291359\t -0.2650082867644827\t 1.1533228604544585\t 1.3181877490812632\n",
            "6  \t [3.        0.6097493]\t 109.79499480240494\t -0.2650082867644827\t 1.0453734486487203\t 1.6769782197542484\n",
            "7  \t [-0.13368777  2.        ]\t 47.80344525227681\t -0.2650082867644827\t 1.1788455048417545\t 1.6378925739036583\n",
            "8  \t [-0.61667797 -0.35206663]\t 1.0185573287304508\t -0.2650082867644827\t 1.603378859279483\t 1.5224099254844718\n",
            "9  \t [ 0.14714274 -0.15780288]\t -0.03472324130375824\t -0.2650082867644827\t 1.560233306171806\t 1.4116655113966594\n",
            "10 \t [-1.28079916 -1.17242812]\t 5.943325420285094\t -0.2650082867644827\t 1.2209976676508822\t 1.8322968892304532\n",
            "11 \t [-1.7342611   0.50517753]\t 0.46670752599351417\t -0.2650082867644827\t 1.6559011950392397\t 1.6436555889816535\n",
            "12 \t [ 0.92086339 -1.23801302]\t 4.210776091491895\t -0.2650082867644827\t 1.2749715415380078\t 1.9812299464692138\n",
            "13 \t [0.51377725 0.8520456 ]\t 0.5577066890170111\t -0.2650082867644827\t 1.3842920743866383\t 1.4927092849050818\n",
            "14 \t [-3.          1.25782495]\t 108.81049120404268\t -0.2650082867644827\t 1.6941523932919071\t 1.9098757742073074\n",
            "15 \t [-1.43686308 -0.16664385]\t 2.371957653291491\t -0.2650082867644827\t 2.2842492652246653\t 1.770032499241801\n",
            "16 \t [ 0.84214245 -2.        ]\t 48.2151961530935\t -0.2650082867644827\t 1.6593559676871221\t 1.5468261155067218\n",
            "\u001b[1m\u001b[92m17\u001b[0m\t \u001b[1m\u001b[92m[ 0.44976557 -0.80265858]\u001b[0m\t \u001b[1m\u001b[92m-0.5517817422086269\u001b[0m\t \u001b[1m\u001b[92m-0.5517817422086269\u001b[0m\t \u001b[1m\u001b[92m1.7026261435796548\u001b[0m\t \u001b[1m\u001b[92m1.8141498199956607\u001b[0m\n",
            "18 \t [3. 2.]\t 162.89999999999998\t -0.5517817422086269\t 1.1906846187657583\t 1.5693365053502086\n",
            "19 \t [ 1.77377075 -0.59854992]\t 0.1974698487679224\t -0.5517817422086269\t 1.6095144316330612\t 1.5178026850615387\n",
            "20 \t [ 1.02725279 -0.20826871]\t 1.8943083867450414\t -0.5517817422086269\t 1.1172809077787453\t 1.1441537130842958\n"
          ]
        }
      ],
      "source": [
        "### ESTIMATED STP EI GRADIENTS\n",
        "\n",
        "np.random.seed(run_num_1)\n",
        "surrogate_approx_1 = dtStudentProcess(cov_func, optimize=opt, nu = df)\n",
        "\n",
        "approx_1 = GPGO_multi(surrogate_approx_1, Acquisition_grad(util), objfunc, param)\n",
        "approx_1.run(init_evals=n_init, max_iter=iters)\n"
      ]
    },
    {
      "cell_type": "code",
      "execution_count": 14,
      "metadata": {
        "id": "wTxsSZxFGBB5",
        "colab": {
          "base_uri": "https://localhost:8080/"
        },
        "outputId": "5d4ffdb6-7a7b-424f-b359-18ad1f65494f"
      },
      "outputs": [
        {
          "output_type": "stream",
          "name": "stdout",
          "text": [
            "Evaluation \t Proposed point \t  Current eval. \t  Best eval. \t        Exact EI: StdDev. x \t Approx EI: StdDev. x \n",
            "init\t [-0.38403059 -1.89629507]\t 38.61280125654363\t 0.011939608840498828\t    \t    \n",
            "init\t [ 0.29797487 -0.25871043]\t 0.011939608840498828\t 0.011939608840498828\t    \t    \n",
            "init\t [-0.47779319 -0.67866072]\t 0.1381453419305213\t 0.011939608840498828\t    \t    \n",
            "init\t [-1.7721082   0.47708387]\t 0.626144759281101\t 0.011939608840498828\t    \t    \n",
            "init\t [-1.20207196 -0.9326909 ]\t 3.0693811601417798\t 0.011939608840498828\t    \t    \n",
            "\u001b[1m\u001b[92m1\u001b[0m\t \u001b[1m\u001b[92m[-0.44593918  0.61110202]\u001b[0m\t \u001b[1m\u001b[92m-0.49342853514823987\u001b[0m\t \u001b[1m\u001b[92m-0.49342853514823987\u001b[0m\t \u001b[1m\u001b[92m1.7868238777244847\u001b[0m\t \u001b[1m\u001b[92m2.010534968046823\u001b[0m\n",
            "2  \t [1.00632059 2.        ]\t 52.255943195732286\t -0.49342853514823987\t 1.3755621928660742\t 1.696198288119014\n",
            "3  \t [ 3.         -1.26603965]\t 108.96705001064748\t -0.49342853514823987\t 2.0587248002744194\t 2.122425505552987\n",
            "4  \t [-3.  2.]\t 150.89999999999998\t -0.49342853514823987\t 2.068669358894786\t 2.406008211735885\n",
            "5  \t [-3.         -1.41000077]\t 120.9877946974706\t -0.49342853514823987\t 2.2238695861520448\t 2.111964404902006\n",
            "6  \t [3. 2.]\t 162.89999999999998\t -0.49342853514823987\t 1.1533883392463002\t 1.575215082336297\n",
            "7  \t [-0.92994646  0.18633627]\t 1.7968977377670636\t -0.49342853514823987\t 1.0751933482197447\t 1.1674570663271393\n",
            "8  \t [-0.68171317  2.        ]\t 48.07541128816662\t -0.49342853514823987\t 0.8945976306346994\t 1.1402641233239401\n",
            "9  \t [ 1.27970096 -2.        ]\t 47.823219480192286\t -0.49342853514823987\t 1.275644381982741\t 1.5193757948307438\n",
            "10 \t [0.85950315 0.16376956]\t 1.979662707600982\t -0.49342853514823987\t 1.145186444716489\t 0.9525105241677796\n",
            "11 \t [-0.74303731 -0.04681929]\t 1.6504340871781824\t -0.49342853514823987\t 1.1707649465232224\t 0.6437466319251625\n",
            "12 \t [-3.          0.19509668]\t 108.16825419233285\t -0.49342853514823987\t 1.493072093660259\t 1.7085574647121764\n",
            "13 \t [0.40305344 0.7949226 ]\t -0.014194262056733797\t -0.49342853514823987\t 1.4478389502111595\t 1.602149984549147\n",
            "14 \t [2.47168655 0.25490442]\t 22.45066580256068\t -0.49342853514823987\t 1.2766979307875739\t 1.5966447453427368\n",
            "15 \t [-1.60957623 -2.        ]\t 53.28334407589492\t -0.49342853514823987\t 1.4800613714783148\t 1.437343674810734\n",
            "16 \t [ 1.54263321 -0.59418714]\t 0.2883656921872799\t -0.49342853514823987\t 1.2068702732608563\t 1.4932350725116266\n",
            "17 \t [-1.4967262   1.12242346]\t 1.7988736003419017\t -0.49342853514823987\t 1.2116866058547395\t 1.2515253151656904\n",
            "18 \t [ 0.84227989 -0.93061245]\t 0.6519374791037793\t -0.49342853514823987\t 1.35119420865684\t 1.3666026707964976\n",
            "19 \t [1.64266551 0.7557373 ]\t 2.3137506744846306\t -0.49342853514823987\t 1.2280252570166754\t 1.2958125268943814\n",
            "20 \t [1.19062171 0.04776554]\t 2.447623865896797\t -0.49342853514823987\t 1.1018423225459566\t 0.9134845510040229\n"
          ]
        }
      ],
      "source": [
        "### ESTIMATED STP EI GRADIENTS\n",
        "\n",
        "np.random.seed(run_num_2)\n",
        "surrogate_approx_2 = dtStudentProcess(cov_func, optimize=opt, nu = df)\n",
        "\n",
        "approx_2 = GPGO_multi(surrogate_approx_2, Acquisition_grad(util), objfunc, param)\n",
        "approx_2.run(init_evals=n_init, max_iter=iters)\n"
      ]
    },
    {
      "cell_type": "code",
      "execution_count": 15,
      "metadata": {
        "id": "-dgzIrUIGCGT",
        "colab": {
          "base_uri": "https://localhost:8080/"
        },
        "outputId": "64dc51f5-5509-4ae4-8a4f-366a6c182a36"
      },
      "outputs": [
        {
          "output_type": "stream",
          "name": "stdout",
          "text": [
            "Evaluation \t Proposed point \t  Current eval. \t  Best eval. \t        Exact EI: StdDev. x \t Approx EI: StdDev. x \n",
            "init\t [0.30478742 0.83259129]\t -0.2431922946563294\t -0.2431922946563294\t    \t    \n",
            "init\t [-1.25457157  0.04331042]\t 2.3313310458730996\t -0.2431922946563294\t    \t    \n",
            "init\t [2.35768173 1.58517236]\t 33.54152175045586\t -0.2431922946563294\t    \t    \n",
            "init\t [-2.24648814 -1.17102849]\t 14.214109412296352\t -0.2431922946563294\t    \t    \n",
            "init\t [-2.69119678 -0.23676063]\t 45.87579771712209\t -0.2431922946563294\t    \t    \n",
            "1  \t [ 0.33352933 -1.13768435]\t 1.5638011698755878\t -0.2431922946563294\t 1.346888153693927\t 1.5947454313575025\n",
            "2  \t [ 3. -2.]\t 150.89999999999998\t -0.2431922946563294\t 1.3169103601703525\t 2.0068470040281743\n",
            "3  \t [-1.05128869  2.        ]\t 48.20313487908503\t -0.2431922946563294\t 1.5389291138049412\t 1.637605950714788\n",
            "4  \t [-0.75917554 -2.        ]\t 51.189986904726716\t -0.2431922946563294\t 1.7947213720956328\t 1.4553066538208617\n",
            "5  \t [ 0.80965978 -0.09533903]\t 1.700418869915255\t -0.2431922946563294\t 1.2218156789405359\t 1.6811128284814831\n",
            "6  \t [-3.  2.]\t 150.89999999999998\t -0.2431922946563294\t 1.3944147583287567\t 1.7897539675105927\n",
            "7  \t [-3. -2.]\t 162.89999999999998\t -0.2431922946563294\t 1.348057696998072\t 1.455445812676139\n",
            "8  \t [0.77818498 2.        ]\t 51.282575677697906\t -0.2431922946563294\t 1.134858439251487\t 1.2808041021145922\n",
            "9  \t [-0.27013996 -0.10321769]\t 0.26657019512453806\t -0.2431922946563294\t 1.2772713223339691\t 1.2688315176784721\n",
            "10 \t [3.         0.35343267]\t 109.52305408387508\t -0.2431922946563294\t 1.0166327306423382\t 1.3417737294654417\n",
            "11 \t [-0.0447225  -0.08692515]\t -0.018116035933521724\t -0.2431922946563294\t 1.2609715520685127\t 1.2675074778835862\n",
            "12 \t [ 0.82252335 -2.        ]\t 48.20315634049481\t -0.2431922946563294\t 1.3633014468859534\t 1.048410468154948\n",
            "13 \t [-1.46493077 -0.83458594]\t 2.5842759870277012\t -0.2431922946563294\t 1.4717121283752435\t 1.7087589877786937\n",
            "14 \t [-0.61369666  0.82803648]\t -0.1438812332069831\t -0.2431922946563294\t 1.0642797753032158\t 1.6019105816744343\n",
            "15 \t [3. 2.]\t 162.89999999999998\t -0.2431922946563294\t 1.2243803960514166\t 1.3603193568849763\n",
            "16 \t [1.59009169 1.0548318 ]\t 4.2553034831411125\t -0.2431922946563294\t 1.3808650374030724\t 1.3438688924635322\n",
            "17 \t [ 1.29848706 -0.95717692]\t 0.822037775726032\t -0.2431922946563294\t 1.3320028233934873\t 1.246346114208436\n",
            "18 \t [1.03754848 0.14489041]\t 2.3563702271851312\t -0.2431922946563294\t 1.197981287369567\t 0.7655866448985359\n",
            "19 \t [-0.97630073 -0.37553337]\t 2.0755013211462052\t -0.2431922946563294\t 1.1904713803445486\t 0.6557023062657744\n",
            "20 \t [ 0.47092589 -0.01774235]\t 0.7778232644269323\t -0.2431922946563294\t 0.9117384963647049\t 0.244333542750743\n"
          ]
        }
      ],
      "source": [
        "### ESTIMATED STP EI GRADIENTS\n",
        "\n",
        "np.random.seed(run_num_3)\n",
        "surrogate_approx_3 = dtStudentProcess(cov_func, optimize=opt, nu = df)\n",
        "\n",
        "approx_3 = GPGO_multi(surrogate_approx_3, Acquisition_grad(util), objfunc, param)\n",
        "approx_3.run(init_evals=n_init, max_iter=iters)\n"
      ]
    },
    {
      "cell_type": "code",
      "execution_count": 16,
      "metadata": {
        "id": "hOtG-2sCGCKS",
        "colab": {
          "base_uri": "https://localhost:8080/"
        },
        "outputId": "d3732d57-65c7-4cab-dcce-26cf8d4ec197"
      },
      "outputs": [
        {
          "output_type": "stream",
          "name": "stdout",
          "text": [
            "Evaluation \t Proposed point \t  Current eval. \t  Best eval. \t        Exact EI: StdDev. x \t Approx EI: StdDev. x \n",
            "init\t [2.80217903 0.188929  ]\t 63.70212732873661\t 2.3196402150601703\t    \t    \n",
            "init\t [2.83610616 0.85926397]\t 71.43837110827245\t 2.3196402150601703\t    \t    \n",
            "init\t [ 1.18637295 -1.13564202]\t 2.5463267765341566\t 2.3196402150601703\t    \t    \n",
            "init\t [ 2.85764673 -1.97507898]\t 113.76785286351424\t 2.3196402150601703\t    \t    \n",
            "init\t [-1.48210583 -0.26083387]\t 2.3196402150601703\t 2.3196402150601703\t    \t    \n",
            "1  \t [-0.36663887 -2.        ]\t 49.233837005106544\t 2.3196402150601703\t 1.6059145396209382\t 2.1470024837926927\n",
            "2  \t [-3.  2.]\t 150.89999999999998\t 2.3196402150601703\t 1.473621798183142\t 2.5027784884206183\n",
            "3  \t [-3. -2.]\t 162.89999999999998\t 2.3196402150601703\t 1.835066721022337\t 1.787079714993016\n",
            "\u001b[1m\u001b[92m4\u001b[0m\t \u001b[1m\u001b[92m[-0.02333912  0.91298451]\u001b[0m\t \u001b[1m\u001b[92m-0.5741324067427832\u001b[0m\t \u001b[1m\u001b[92m-0.5741324067427832\u001b[0m\t \u001b[1m\u001b[92m1.1506834351242972\u001b[0m\t \u001b[1m\u001b[92m1.1171701135498089\u001b[0m\n",
            "5  \t [0.58556763 2.        ]\t 50.30922757355598\t -0.5741324067427832\t 1.359039099901898\t 1.109378315858413\n",
            "6  \t [ 0.09794323 -0.16735732]\t -0.08710895170662278\t -0.5741324067427832\t 1.4738426843879873\t 1.0518188676704807\n",
            "7  \t [-0.91722079  0.50599327]\t 0.8513091477567026\t -0.5741324067427832\t 1.4610811568046143\t 1.367532960063583\n",
            "8  \t [ 0.66020483 -0.11825583]\t 1.2388914244828724\t -0.5741324067427832\t 1.40732234281591\t 1.0716466720696851\n",
            "9  \t [-3.         0.0223164]\t 108.83105970417077\t -0.5741324067427832\t 1.4144951571271704\t 1.4903355612821392\n",
            "10 \t [-0.88037296  2.        ]\t 48.23317912627548\t -0.5741324067427832\t 0.8342531483809965\t 1.4840600448343912\n",
            "11 \t [ 0.99275496 -2.        ]\t 48.23604305008171\t -0.5741324067427832\t 1.627700411489311\t 1.5866059463478166\n",
            "12 \t [-0.90249091 -0.66255958]\t 1.6577869749658127\t -0.5741324067427832\t 1.387403400194929\t 1.371525409033812\n",
            "13 \t [3. 2.]\t 162.89999999999998\t -0.5741324067427832\t 1.1735896000060722\t 1.5378915090282472\n",
            "14 \t [1.3887703  0.88920618]\t 2.867464273540674\t -0.5741324067427832\t 1.182252055909731\t 1.2590049328551165\n",
            "15 \t [ 0.44152541 -0.99601124]\t 0.23108391266866918\t -0.5741324067427832\t 1.3548486958509527\t 1.416640987010034\n",
            "16 \t [-0.84571073 -0.06780999]\t 1.9476506403470593\t -0.5741324067427832\t 1.411251666488937\t 1.3479674016289664\n",
            "17 \t [-1.48785403 -2.        ]\t 53.155577203202014\t -0.5741324067427832\t 1.1991543661050812\t 1.1828262348951155\n",
            "18 \t [0.68378772 0.78398565]\t 1.0338813704407936\t -0.5741324067427832\t 1.3990679284174588\t 1.2555155996493452\n",
            "19 \t [ 1.64320632 -0.15304074]\t 1.7090245305567426\t -0.5741324067427832\t 1.305754139991616\t 1.2336575770661746\n",
            "20 \t [6.15601402e-01 2.24446708e-04]\t 1.2325494168530837\t -0.5741324067427832\t 0.9447575844421066\t 0.3076917602144218\n"
          ]
        }
      ],
      "source": [
        "### ESTIMATED STP EI GRADIENTS\n",
        "\n",
        "np.random.seed(run_num_4)\n",
        "surrogate_approx_4 = dtStudentProcess(cov_func, optimize=opt, nu = df)\n",
        "\n",
        "approx_4= GPGO_multi(surrogate_approx_4, Acquisition_grad(util), objfunc, param)\n",
        "approx_4.run(init_evals=n_init, max_iter=iters)\n"
      ]
    },
    {
      "cell_type": "code",
      "execution_count": 17,
      "metadata": {
        "id": "JF_SxcEvGCOl",
        "colab": {
          "base_uri": "https://localhost:8080/"
        },
        "outputId": "49442a3a-dead-4c41-9bb9-d872b484bb24"
      },
      "outputs": [
        {
          "output_type": "stream",
          "name": "stdout",
          "text": [
            "Evaluation \t Proposed point \t  Current eval. \t  Best eval. \t        Exact EI: StdDev. x \t Approx EI: StdDev. x \n",
            "init\t [-1.66804097  1.48292922]\t 10.126030408244933\t -0.6512780061070701\t    \t    \n",
            "init\t [-1.75968507  1.67444363]\t 19.4300499315822\t -0.6512780061070701\t    \t    \n",
            "init\t [-0.06953287  0.44697545]\t -0.6512780061070701\t -0.6512780061070701\t    \t    \n",
            "init\t [1.59544714 0.07367195]\t 2.168775388880503\t -0.6512780061070701\t    \t    \n",
            "init\t [-1.21919699 -1.24911509]\t 7.420330936884148\t -0.6512780061070701\t    \t    \n",
            "1  \t [ 3. -2.]\t 150.89999999999998\t -0.6512780061070701\t 1.961447640376032\t 2.2492283323172573\n",
            "2  \t [-2.73873339  0.00843465]\t 52.495609863311294\t -0.6512780061070701\t 2.2600885837050373\t 2.0241065708468984\n",
            "3  \t [3. 2.]\t 162.89999999999998\t -0.6512780061070701\t 1.6511987254702538\t 2.053302129532406\n",
            "4  \t [ 0.14439022 -2.        ]\t 47.79370393754889\t -0.6512780061070701\t 1.598487902011011\t 1.798369968740863\n",
            "5  \t [0.05529356 2.        ]\t 48.12279699971865\t -0.6512780061070701\t 1.7250398766309905\t 1.9532912211039661\n",
            "6  \t [-3. -2.]\t 162.89999999999998\t -0.6512780061070701\t 1.819062050922294\t 1.8742951397240144\n",
            "7  \t [-3.  2.]\t 150.89999999999998\t -0.6512780061070701\t 1.0834924803666508\t 0.9918410872199179\n",
            "8  \t [-0.90846203  0.05233863]\t 1.9997529407338168\t -0.6512780061070701\t 1.1530338803238511\t 0.9101688291271023\n",
            "9  \t [ 0.53015603 -0.50269205]\t -0.05610713127045386\t -0.6512780061070701\t 1.3042565462475961\t 1.2970018322578087\n",
            "10 \t [ 3.         -0.03512823]\t 108.78968541753727\t -0.6512780061070701\t 1.2405747340816926\t 1.381221097592126\n",
            "11 \t [0.96607463 0.59494888]\t 1.8350516939145654\t -0.6512780061070701\t 1.2195334511442335\t 1.1688758166309448\n",
            "12 \t [-1.04726094  2.        ]\t 48.20621997684549\t -0.6512780061070701\t 1.369222625843395\t 1.50224812010632\n",
            "13 \t [ 1.41752315 -1.0283772 ]\t 1.0486520081365627\t -0.6512780061070701\t 1.3821292878393696\t 1.4143636341253758\n",
            "14 \t [ 1.16236363 -0.31129677]\t 1.6811402929217982\t -0.6512780061070701\t 1.172649803927831\t 1.05095920040207\n",
            "15 \t [-0.47816555 -0.74816843]\t 0.18080262023970017\t -0.6512780061070701\t 1.5532639310821443\t 1.352030177381982\n",
            "16 \t [1.28284431 2.        ]\t 52.94669965596213\t -0.6512780061070701\t 1.52033507377243\t 1.4761541543657677\n",
            "17 \t [ 1.34196642 -2.        ]\t 47.65578729978468\t -0.6512780061070701\t 1.2622341498477168\t 1.3334098429211776\n",
            "18 \t [ 0.4655941  -0.09402416]\t 0.6929959420156475\t -0.6512780061070701\t 0.9481827779395866\t 0.27980916145366846\n",
            "19 \t [-1.11797821 -2.        ]\t 52.60570910337309\t -0.6512780061070701\t 1.3504994514736857\t 1.3180280960308348\n",
            "20 \t [ 0.50366922 -0.11856667]\t 0.7698672448323\t -0.6512780061070701\t 1.068358495200148\t 0.775985375024575\n"
          ]
        }
      ],
      "source": [
        "### ESTIMATED STP EI GRADIENTS\n",
        "\n",
        "np.random.seed(run_num_5)\n",
        "surrogate_approx_5 = dtStudentProcess(cov_func, optimize=opt, nu = df)\n",
        "\n",
        "approx_5 = GPGO_multi(surrogate_approx_5, Acquisition_grad(util), objfunc, param)\n",
        "approx_5.run(init_evals=n_init, max_iter=iters)\n"
      ]
    },
    {
      "cell_type": "code",
      "execution_count": 18,
      "metadata": {
        "id": "-kDxZtJsGCR3",
        "colab": {
          "base_uri": "https://localhost:8080/"
        },
        "outputId": "11709183-e691-4ba8-8a40-6c544e96660e"
      },
      "outputs": [
        {
          "output_type": "stream",
          "name": "stdout",
          "text": [
            "Evaluation \t Proposed point \t  Current eval. \t  Best eval. \t        Exact EI: StdDev. x \t Approx EI: StdDev. x \n",
            "init\t [ 2.35716091 -0.67208078]\t 11.995980169715628\t -0.3096187466378422\t    \t    \n",
            "init\t [ 1.92737474 -1.8332135 ]\t 31.167927894156623\t -0.3096187466378422\t    \t    \n",
            "init\t [-2.35405992  0.38020826]\t 13.013381745677465\t -0.3096187466378422\t    \t    \n",
            "init\t [ 0.17890417 -0.32477029]\t -0.3096187466378422\t -0.3096187466378422\t    \t    \n",
            "init\t [-0.9875529   0.49007773]\t 0.9989196280666852\t -0.3096187466378422\t    \t    \n",
            "1  \t [0.53141755 1.81924719]\t 32.513191045682476\t -0.3096187466378422\t 1.948217761665057\t 1.7120893002989233\n",
            "2  \t [-1.18720652 -2.        ]\t 52.773774100963564\t -0.3096187466378422\t 1.9780835876290808\t 2.2416842370236485\n",
            "3  \t [3. 2.]\t 162.89999999999998\t -0.3096187466378422\t 1.618953692185848\t 2.2939285949552857\n",
            "4  \t [-3.  2.]\t 150.89999999999998\t -0.3096187466378422\t 1.52468367330185\t 2.1541799228664797\n",
            "5  \t [-3.         -1.10139283]\t 113.23803190169806\t -0.3096187466378422\t 1.4139093535432508\t 1.7381496648022823\n",
            "6  \t [1.05202774 0.02718077]\t 2.332252765881577\t -0.3096187466378422\t 0.9644277691885\t 1.818771541108061\n",
            "7  \t [ 3. -2.]\t 150.89999999999998\t -0.3096187466378422\t 1.1033660231345435\t 1.6161274337301001\n",
            "8  \t [ 0.55599322 -2.        ]\t 47.933697363811945\t -0.3096187466378422\t 1.0187598891485288\t 1.45778075066144\n",
            "\u001b[1m\u001b[92m9\u001b[0m\t \u001b[1m\u001b[92m[-0.30104587  0.43900774]\u001b[0m\t \u001b[1m\u001b[92m-0.4089824774837864\u001b[0m\t \u001b[1m\u001b[92m-0.4089824774837864\u001b[0m\t \u001b[1m\u001b[92m0.8151691045187701\u001b[0m\t \u001b[1m\u001b[92m0.850951883360158\u001b[0m\n",
            "10 \t [-0.76680641  2.        ]\t 48.16007572724724\t -0.4089824774837864\t 1.0152620919490654\t 1.1521321164201133\n",
            "11 \t [-0.81387186 -0.16054336]\t 1.8552577422532093\t -0.4089824774837864\t 1.0545655328033852\t 1.1743577103599\n",
            "12 \t [3.         0.16119393]\t 109.28234841648191\t -0.4089824774837864\t 1.4837230984905185\t 1.9059707461784623\n",
            "13 \t [ 0.88833025 -0.37258549]\t 1.2034250218409315\t -0.4089824774837864\t 1.0740959268925439\t 0.866822253512477\n",
            "14 \t [ 1.70515616 -0.8484729 ]\t -0.1828929944907174\t -0.4089824774837864\t 1.296500033969171\t 1.5868228437637042\n",
            "15 \t [-1.69904192 -0.01111204]\t 2.0841434474829947\t -0.4089824774837864\t 1.3198074457951343\t 1.4740675125587006\n",
            "16 \t [0.40972273 0.23092363]\t 0.506573486590521\t -0.4089824774837864\t 1.2634905011197664\t 1.6452907806228327\n",
            "17 \t [1.48984761 2.        ]\t 53.157211314344686\t -0.4089824774837864\t 1.439930400094007\t 1.6438873962728786\n",
            "18 \t [-2.34813466 -2.        ]\t 66.78340582612412\t -0.4089824774837864\t 1.3513730141936307\t 1.3325766059250646\n",
            "19 \t [ 1.78602307 -0.40821893]\t 0.926101694677277\t -0.4089824774837864\t 1.299989604293085\t 1.3802176959789745\n",
            "20 \t [-0.46912192 -1.09463357]\t 2.2457209120431685\t -0.4089824774837864\t 1.1884408792362666\t 1.374702057038133\n"
          ]
        }
      ],
      "source": [
        "### ESTIMATED STP EI GRADIENTS\n",
        "\n",
        "np.random.seed(run_num_6)\n",
        "surrogate_approx_6 = dtStudentProcess(cov_func, optimize=opt, nu = df)\n",
        "\n",
        "approx_6 = GPGO_multi(surrogate_approx_6, Acquisition_grad(util), objfunc, param)\n",
        "approx_6.run(init_evals=n_init, max_iter=iters)\n"
      ]
    },
    {
      "cell_type": "code",
      "execution_count": 19,
      "metadata": {
        "id": "fKB8MCD_GCVI",
        "colab": {
          "base_uri": "https://localhost:8080/"
        },
        "outputId": "5372b9a6-2f2b-4d2d-f28f-8611048786da"
      },
      "outputs": [
        {
          "output_type": "stream",
          "name": "stdout",
          "text": [
            "Evaluation \t Proposed point \t  Current eval. \t  Best eval. \t        Exact EI: StdDev. x \t Approx EI: StdDev. x \n",
            "init\t [-2.54215026  1.11967517]\t 26.53843863832488\t -0.46481072558790276\t    \t    \n",
            "init\t [-0.36954461  0.89386071]\t -0.46481072558790276\t -0.46481072558790276\t    \t    \n",
            "init\t [2.86793707 0.15398348]\t 76.66051064695093\t -0.46481072558790276\t    \t    \n",
            "init\t [ 0.00672278 -1.71179547]\t 22.613010892757885\t -0.46481072558790276\t    \t    \n",
            "init\t [-1.38936612e+00 -4.69996698e-04]\t 2.294585534557751\t -0.46481072558790276\t    \t    \n",
            "1  \t [-3. -2.]\t 162.89999999999998\t -0.46481072558790276\t 1.7314281907059572\t 2.0029441788527937\n",
            "2  \t [0.7782618 2.       ]\t 51.28294730589477\t -0.46481072558790276\t 0.981344388105674\t 1.712926049389197\n",
            "3  \t [ 3. -2.]\t 150.89999999999998\t -0.46481072558790276\t 1.5580524304732377\t 2.0252676422238007\n",
            "4  \t [-0.4522468   0.37454932]\t 0.08129919115999285\t -0.46481072558790276\t 1.408169035892431\t 1.489299361091831\n",
            "5  \t [-1.28778149  2.        ]\t 47.80279150386332\t -0.46481072558790276\t 1.2818505626530798\t 2.023058839404336\n",
            "6  \t [3. 2.]\t 162.89999999999998\t -0.46481072558790276\t 1.953997948970848\t 2.0342577490175153\n",
            "7  \t [ 0.52246703 -0.19800772]\t 0.6880567047704451\t -0.46481072558790276\t 1.2484405436878518\t 1.2351237637951558\n",
            "8  \t [-3.          0.02626428]\t 108.81844980482691\t -0.46481072558790276\t 1.5117077588955705\t 1.6629908459708764\n",
            "9  \t [-0.47985817 -0.41126998]\t 0.44899672444782124\t -0.46481072558790276\t 1.1398645574610462\t 1.1280268163345564\n",
            "10 \t [-3.  2.]\t 150.89999999999998\t -0.46481072558790276\t 1.5243025652197975\t 1.5985101842259697\n",
            "11 \t [-0.3283297  -0.00921835]\t 0.4099019783828033\t -0.46481072558790276\t 1.0727361417162598\t 0.8291175621800128\n",
            "12 \t [-1.64892122  0.85300647]\t -0.14802646886638915\t -0.46481072558790276\t 1.3531033021483432\t 1.4100176082498679\n",
            "13 \t [-1.12984652 -2.        ]\t 52.637189499893324\t -0.46481072558790276\t 1.3435875436445892\t 1.4302916839487245\n",
            "14 \t [ 1.18294219 -2.        ]\t 48.03273017856188\t -0.46481072558790276\t 1.2780031945123718\t 1.1370870369732833\n",
            "15 \t [0.91492795 0.69059632]\t 1.706350263986645\t -0.46481072558790276\t 1.1616482933831134\t 1.090807199528345\n",
            "16 \t [ 1.61655385 -0.31666728]\t 1.1878362243257314\t -0.46481072558790276\t 1.4430113961098046\t 1.219605269704968\n",
            "17 \t [1.31555955 0.14060813]\t 2.4680844516066887\t -0.46481072558790276\t 1.2153215451381372\t 1.1887533395278758\n",
            "\u001b[1m\u001b[92m18\u001b[0m\t \u001b[1m\u001b[92m[0.26570304 0.71757464]\u001b[0m\t \u001b[1m\u001b[92m-0.5364054861076595\u001b[0m\t \u001b[1m\u001b[92m-0.5364054861076595\u001b[0m\t \u001b[1m\u001b[92m1.4123907111209357\u001b[0m\t \u001b[1m\u001b[92m1.3088605039373031\u001b[0m\n",
            "19 \t [ 0.99074663 -0.9186292 ]\t 0.7811050558830948\t -0.5364054861076595\t 1.3308985885937288\t 1.3620601435143662\n",
            "20 \t [ 0.69724318 -0.13122263]\t 1.3273915113590575\t -0.5364054861076595\t 1.0989409197411801\t 0.6672034763288692\n"
          ]
        }
      ],
      "source": [
        "### ESTIMATED STP EI GRADIENTS\n",
        "\n",
        "np.random.seed(run_num_7)\n",
        "surrogate_approx_7 = dtStudentProcess(cov_func, optimize=opt, nu = df)\n",
        "\n",
        "approx_7 = GPGO_multi(surrogate_approx_7, Acquisition_grad(util), objfunc, param)\n",
        "approx_7.run(init_evals=n_init, max_iter=iters)\n"
      ]
    },
    {
      "cell_type": "code",
      "execution_count": 20,
      "metadata": {
        "id": "4unvifF-GCXp",
        "colab": {
          "base_uri": "https://localhost:8080/"
        },
        "outputId": "a0e1f8eb-5545-4062-d198-0b1d329201fb"
      },
      "outputs": [
        {
          "output_type": "stream",
          "name": "stdout",
          "text": [
            "Evaluation \t Proposed point \t  Current eval. \t  Best eval. \t        Exact EI: StdDev. x \t Approx EI: StdDev. x \n",
            "init\t [2.24057642 1.87416265]\t 48.82879577505094\t 0.03190064766213015\t    \t    \n",
            "init\t [2.21516724 0.12342277]\t 8.660623551418242\t 0.03190064766213015\t    \t    \n",
            "init\t [-1.60363003 -1.95440478]\t 48.28332373939171\t 0.03190064766213015\t    \t    \n",
            "init\t [-0.41718709 -0.39059456]\t 0.2801229037700297\t 0.03190064766213015\t    \t    \n",
            "init\t [ 0.13604803 -0.08643282]\t 0.03190064766213015\t 0.03190064766213015\t    \t    \n",
            "1  \t [-1.50892044  1.58942006]\t 15.179885874125155\t 0.03190064766213015\t 1.353727213963116\t 2.0456683383074803\n",
            "2  \t [ 3. -2.]\t 150.89999999999998\t 0.03190064766213015\t 1.5970334108161144\t 2.252628701502371\n",
            "3  \t [-3.          0.25341065]\t 107.8993954999826\t 0.03190064766213015\t 0.893921645979682\t 1.9191939842185677\n",
            "4  \t [-0.00496972  2.        ]\t 47.990159357571514\t 0.03190064766213015\t 1.1097325740999582\t 1.9154808342294902\n",
            "5  \t [ 0.41228346 -2.        ]\t 47.79630666052944\t 0.03190064766213015\t 1.4636126749615082\t 1.8200539844684878\n",
            "6  \t [0.9619139  0.03124758]\t 2.1934309502132896\t 0.03190064766213015\t 1.4772268584231287\t 1.6876881692214583\n",
            "7  \t [-3.  2.]\t 150.89999999999998\t 0.03190064766213015\t 1.2527083301202582\t 1.7104844303907378\n",
            "8  \t [-0.65965088  0.40924701]\t 0.5427038666173077\t 0.03190064766213015\t 1.4340679089529462\t 1.424751054616003\n",
            "9  \t [-3. -2.]\t 162.89999999999998\t 0.03190064766213015\t 2.0585320630630908\t 2.004136558562891\n",
            "10 \t [3.         0.75000273]\t 110.16563524266175\t 0.03190064766213015\t 1.5581909768349818\t 1.5700785687000862\n",
            "\u001b[1m\u001b[92m11\u001b[0m\t \u001b[1m\u001b[92m[ 1.69514759 -0.65929476]\u001b[0m\t \u001b[1m\u001b[92m-0.03739762640777522\u001b[0m\t \u001b[1m\u001b[92m-0.03739762640777522\u001b[0m\t \u001b[1m\u001b[92m1.461899558536209\u001b[0m\t \u001b[1m\u001b[92m1.3605090549051673\u001b[0m\n",
            "12 \t [1.15038285 1.22187237]\t 6.737873194524512\t -0.03739762640777522\t 1.3365620015838358\t 1.4159903156269404\n",
            "13 \t [-0.67012607 -2.        ]\t 50.74322263495756\t -0.03739762640777522\t 1.4371695511157023\t 1.343386861331731\n",
            "14 \t [-1.59170953 -0.44077759]\t 2.150847872358379\t -0.03739762640777522\t 1.4732616761859312\t 1.3868398182694424\n",
            "15 \t [-1.50412585  0.49210654]\t 0.6865632196230319\t -0.03739762640777522\t 1.3883845368632037\t 1.2457698042836962\n",
            "16 \t [1.26358357 2.        ]\t 52.917031883436266\t -0.03739762640777522\t 1.5453214428572966\t 1.4032887759737076\n",
            "17 \t [1.57038388 0.55527103]\t 2.1111979972438144\t -0.03739762640777522\t 1.3682403208227392\t 1.4163232519292765\n",
            "18 \t [0.47360776 0.73874385]\t 0.1535672524062872\t -0.03739762640777522\t 1.454006618600328\t 1.4311336242087944\n",
            "19 \t [ 1.92450874 -0.29015014]\t 2.076588548727069\t -0.03739762640777522\t 1.6174494868938034\t 1.3589857019607423\n",
            "20 \t [-1.06741325 -0.17130604]\t 2.3932818454233438\t -0.03739762640777522\t 1.3404752281671688\t 1.029426319865882\n"
          ]
        }
      ],
      "source": [
        "### ESTIMATED STP EI GRADIENTS\n",
        "\n",
        "np.random.seed(run_num_8)\n",
        "surrogate_approx_8 = dtStudentProcess(cov_func, optimize=opt, nu = df)\n",
        "\n",
        "approx_8 = GPGO_multi(surrogate_approx_8, Acquisition_grad(util), objfunc, param)\n",
        "approx_8.run(init_evals=n_init, max_iter=iters)\n"
      ]
    },
    {
      "cell_type": "code",
      "execution_count": 21,
      "metadata": {
        "id": "85OIXcg7GCaJ",
        "colab": {
          "base_uri": "https://localhost:8080/"
        },
        "outputId": "f6403b6a-937a-4b11-a5cb-caee4460e0a5"
      },
      "outputs": [
        {
          "output_type": "stream",
          "name": "stdout",
          "text": [
            "Evaluation \t Proposed point \t  Current eval. \t  Best eval. \t        Exact EI: StdDev. x \t Approx EI: StdDev. x \n",
            "init\t [-2.93775508  0.00749837]\t 92.35857237145763\t 1.395407492769129\t    \t    \n",
            "init\t [-0.02536024 -1.46468188]\t 9.867672894921913\t 1.395407492769129\t    \t    \n",
            "init\t [-2.14733349 -1.1257653 ]\t 10.24680089963123\t 1.395407492769129\t    \t    \n",
            "init\t [-0.48895092 -1.00759533]\t 1.395407492769129\t 1.395407492769129\t    \t    \n",
            "init\t [-2.49564209 -0.61800544]\t 24.58298635463645\t 1.395407492769129\t    \t    \n",
            "1  \t [3. 2.]\t 162.89999999999998\t 1.395407492769129\t 1.4936301182816052\t 1.4064130493067746\n",
            "2  \t [ 3. -2.]\t 150.89999999999998\t 1.395407492769129\t 1.596793955767884\t 1.9153480839656625\n",
            "3  \t [-0.45842262  2.        ]\t 47.83411013856234\t 1.395407492769129\t 1.5085948219850027\t 1.9007965507554103\n",
            "4  \t [0.84776961 0.0408162 ]\t 1.9418008647592155\t 1.395407492769129\t 1.60649220376861\t 1.7119994299981642\n",
            "5  \t [-1.48330496 -2.        ]\t 53.151865818962285\t 1.395407492769129\t 1.5161991849656629\t 1.3591029955209153\n",
            "6  \t [-3.  2.]\t 150.89999999999998\t 1.395407492769129\t 1.3817964686342175\t 1.4814024074028138\n",
            "\u001b[1m\u001b[92m7\u001b[0m\t \u001b[1m\u001b[92m[-0.40813149  0.08370261]\u001b[0m\t \u001b[1m\u001b[92m0.5475693842732073\u001b[0m\t \u001b[1m\u001b[92m0.5475693842732073\u001b[0m\t \u001b[1m\u001b[92m1.034024905106424\u001b[0m\t \u001b[1m\u001b[92m1.2218143701115445\u001b[0m\n",
            "8  \t [-3. -2.]\t 162.89999999999998\t 0.5475693842732073\t 1.014151568161216\t 1.128786529923468\n",
            "9  \t [-1.50967184 -0.46561322]\t 2.1782224950522284\t 0.5475693842732073\t 1.3073431712976014\t 1.4958780056341645\n",
            "\u001b[1m\u001b[92m10\u001b[0m\t \u001b[1m\u001b[92m[ 0.92050445 -0.80306045]\u001b[0m\t \u001b[1m\u001b[92m0.42914081359567713\u001b[0m\t \u001b[1m\u001b[92m0.42914081359567713\u001b[0m\t \u001b[1m\u001b[92m0.9187950930004325\u001b[0m\t \u001b[1m\u001b[92m0.8394466886586257\u001b[0m\n",
            "11 \t [ 2.4907537  -0.03929581]\t 23.477889617628566\t 0.42914081359567713\t 1.0697089065207428\t 1.6783102546822881\n",
            "12 \t [0.97393187 2.        ]\t 52.137073711288785\t 0.42914081359567713\t 1.3935229032646614\t 1.357183039803829\n",
            "\u001b[1m\u001b[92m13\u001b[0m\t \u001b[1m\u001b[92m[ 0.19718774 -0.47611868]\u001b[0m\t \u001b[1m\u001b[92m-0.6427124971547828\u001b[0m\t \u001b[1m\u001b[92m-0.6427124971547828\u001b[0m\t \u001b[1m\u001b[92m1.0142861945390107\u001b[0m\t \u001b[1m\u001b[92m1.0016836912265457\u001b[0m\n",
            "14 \t [ 1.0932531 -2.       ]\t 48.16355398749164\t -0.6427124971547828\t 1.2952643513508373\t 1.4449755021060025\n",
            "15 \t [0.15729428 0.90945087]\t -0.33128309803809475\t -0.6427124971547828\t 1.3450640535681022\t 1.2239005009794854\n",
            "16 \t [-1.11254367  1.00573741]\t 1.2934703854117815\t -0.6427124971547828\t 1.2466649615806644\t 1.4290190269988343\n",
            "17 \t [-0.5349693   0.84022855]\t -0.2991990895382681\t -0.6427124971547828\t 1.3149096039939405\t 1.389184129495031\n",
            "18 \t [-0.89325666 -0.11763826]\t 2.07447468893769\t -0.6427124971547828\t 0.9536159493152596\t 0.8495115891486964\n",
            "19 \t [-0.07962247  0.01454   ]\t 0.0232714540872041\t -0.6427124971547828\t 1.1092581232496914\t 0.573700737175077\n",
            "20 \t [1.60877337 0.8678307 ]\t 2.7170743703165448\t -0.6427124971547828\t 1.2538965445778587\t 1.551679385050815\n"
          ]
        }
      ],
      "source": [
        "### ESTIMATED STP EI GRADIENTS\n",
        "\n",
        "np.random.seed(run_num_9)\n",
        "surrogate_approx_9 = dtStudentProcess(cov_func, optimize=opt, nu = df)\n",
        "\n",
        "approx_9 = GPGO_multi(surrogate_approx_9, Acquisition_grad(util), objfunc, param)\n",
        "approx_9.run(init_evals=n_init, max_iter=iters)\n"
      ]
    },
    {
      "cell_type": "code",
      "execution_count": 22,
      "metadata": {
        "id": "QQBR-qJPGCcp",
        "colab": {
          "base_uri": "https://localhost:8080/"
        },
        "outputId": "d1dc1f67-61c0-4b40-a2ca-df4e2ecd829d"
      },
      "outputs": [
        {
          "output_type": "stream",
          "name": "stdout",
          "text": [
            "Evaluation \t Proposed point \t  Current eval. \t  Best eval. \t        Exact EI: StdDev. x \t Approx EI: StdDev. x \n",
            "init\t [ 1.62792386 -1.9169922 ]\t 38.25414770674631\t 0.7775687473184012\t    \t    \n",
            "init\t [0.80188941 0.99521553]\t 2.552651714051803\t 0.7775687473184012\t    \t    \n",
            "init\t [-0.00895793 -1.10081342]\t 1.0367630165263393\t 0.7775687473184012\t    \t    \n",
            "init\t [-1.81162281  1.04212285]\t 0.7775687473184012\t 0.7775687473184012\t    \t    \n",
            "init\t [-1.98533498 -1.64664074]\t 25.383481436170044\t 0.7775687473184012\t    \t    \n",
            "1  \t [3. 2.]\t 162.89999999999998\t 0.7775687473184012\t 1.433276481033487\t 1.8987240463192738\n",
            "2  \t [-3.  2.]\t 150.89999999999998\t 0.7775687473184012\t 1.1216009857856564\t 1.9377377050087825\n",
            "3  \t [-0.61236851  2.        ]\t 47.99751627293058\t 0.7775687473184012\t 1.3713012692874058\t 1.8618109663188545\n",
            "4  \t [ 3.         -0.33692046]\t 107.48672003674453\t 0.7775687473184012\t 1.4352641499167933\t 2.071806296695398\n",
            "5  \t [-0.9653428   0.00630428]\t 2.167389251779799\t 0.7775687473184012\t 1.5751547735383504\t 1.4265890016694223\n",
            "6  \t [-3.        -0.4517964]\t 109.6055691308833\t 0.7775687473184012\t 1.6436603305796984\t 1.6112700340799555\n",
            "7  \t [-0.5180965 -2.       ]\t 49.965027707376215\t 0.7775687473184012\t 1.2046013441285726\t 1.4835653360701464\n",
            "\u001b[1m\u001b[92m8\u001b[0m\t \u001b[1m\u001b[92m[0.2497983  0.03115779]\u001b[0m\t \u001b[1m\u001b[92m0.2454047709053833\u001b[0m\t \u001b[1m\u001b[92m0.2454047709053833\u001b[0m\t \u001b[1m\u001b[92m1.1811266951144748\u001b[0m\t \u001b[1m\u001b[92m1.4814183156308938\u001b[0m\n",
            "\u001b[1m\u001b[92m9\u001b[0m\t \u001b[1m\u001b[92m[-0.42130862  0.32963778]\u001b[0m\t \u001b[1m\u001b[92m0.11940953939852827\u001b[0m\t \u001b[1m\u001b[92m0.11940953939852827\u001b[0m\t \u001b[1m\u001b[92m1.2778724420949064\u001b[0m\t \u001b[1m\u001b[92m1.6799935495526612\u001b[0m\n",
            "10 \t [-3. -2.]\t 162.89999999999998\t 0.11940953939852827\t 1.7785164919878753\t 1.7971700390402252\n",
            "11 \t [ 0.67393988 -0.15567576]\t 1.2152902926913387\t 0.11940953939852827\t 0.909458733813051\t 1.327249904310632\n",
            "12 \t [ 3. -2.]\t 150.89999999999998\t 0.11940953939852827\t 1.5130343896346636\t 1.4715066091034017\n",
            "13 \t [0.98390993 2.        ]\t 52.17448448170495\t 0.11940953939852827\t 1.4360136048287415\t 1.2795220605137\n",
            "14 \t [-1.27461627 -1.11142645]\t 4.964213881244524\t 0.11940953939852827\t 1.4445403135076604\t 1.2888794382406104\n",
            "15 \t [ 0.77961036 -1.37708615]\t 7.456011344512561\t 0.11940953939852827\t 1.3998141179760242\t 1.2824202441501564\n",
            "16 \t [-1.25190239  0.8265981 ]\t 0.49354737437591123\t 0.11940953939852827\t 1.4149776164449226\t 0.9450543977228006\n",
            "17 \t [1.64229161 0.56077932]\t 2.1107924592313623\t 0.11940953939852827\t 1.47904404850663\t 1.284900238391497\n",
            "18 \t [1.02494193 0.05676951]\t 2.3163109993344038\t 0.11940953939852827\t 1.1180282049556187\t 0.9620180628593143\n",
            "19 \t [-1.97790614  0.43698683]\t 1.9842537851122206\t 0.11940953939852827\t 1.2789782686919036\t 1.3529402339722114\n",
            "20 \t [-1.05829938 -0.04564169]\t 2.354055282727933\t 0.11940953939852827\t 1.2020641972912378\t 0.5063262449922932\n"
          ]
        }
      ],
      "source": [
        "### ESTIMATED STP EI GRADIENTS\n",
        "\n",
        "np.random.seed(run_num_10)\n",
        "surrogate_approx_10 = dtStudentProcess(cov_func, optimize=opt, nu = df)\n",
        "\n",
        "approx_10 = GPGO_multi(surrogate_approx_10, Acquisition_grad(util), objfunc, param)\n",
        "approx_10.run(init_evals=n_init, max_iter=iters)\n"
      ]
    },
    {
      "cell_type": "code",
      "execution_count": 23,
      "metadata": {
        "id": "JS8ejeQ2GCfi",
        "colab": {
          "base_uri": "https://localhost:8080/"
        },
        "outputId": "ebdf2c0e-8624-4cd9-bb33-2295d306c98a"
      },
      "outputs": [
        {
          "output_type": "stream",
          "name": "stdout",
          "text": [
            "Evaluation \t Proposed point \t  Current eval. \t  Best eval. \t        Exact EI: StdDev. x \t Approx EI: StdDev. x \n",
            "init\t [-1.91838187 -1.92209903]\t 46.39910375151002\t -0.6254688257880329\t    \t    \n",
            "init\t [-0.22068884  0.89973572]\t -0.6254688257880329\t -0.6254688257880329\t    \t    \n",
            "init\t [-0.47877837 -0.05829161]\t 0.8249470187639529\t -0.6254688257880329\t    \t    \n",
            "init\t [-2.92331511 -0.05051357]\t 88.99028404075307\t -0.6254688257880329\t    \t    \n",
            "init\t [2.65083991 1.40318036]\t 51.423425402262914\t -0.6254688257880329\t    \t    \n",
            "1  \t [ 1.80838797 -2.        ]\t 46.66365121171516\t -0.6254688257880329\t 1.10107047727253\t 2.163895216707745\n",
            "2  \t [-0.97168508  2.        ]\t 48.24181423274248\t -0.6254688257880329\t 0.6569960722820816\t 1.530179182288152\n",
            "3  \t [0.64654596 0.05794637]\t 1.3535558977673994\t -0.6254688257880329\t 1.0840847919447254\t 1.7816629596191438\n",
            "\u001b[1m\u001b[92m4\u001b[0m\t \u001b[1m\u001b[92m[ 0.0215381  -0.88144043]\u001b[0m\t \u001b[1m\u001b[92m-0.7103525060042222\u001b[0m\t \u001b[1m\u001b[92m-0.7103525060042222\u001b[0m\t \u001b[1m\u001b[92m1.3264151025491875\u001b[0m\t \u001b[1m\u001b[92m1.7521747048482426\u001b[0m\n",
            "5  \t [0.25279225 0.10650137]\t 0.22919403732540183\t -0.7103525060042222\t 1.1118242942010332\t 1.4100389165347396\n",
            "6  \t [ 3.         -0.61863258]\t 106.09913355217812\t -0.7103525060042222\t 1.2423519888924734\t 1.7092785750074522\n",
            "7  \t [0.89337902 2.        ]\t 51.81102151690318\t -0.7103525060042222\t 1.9973097154499806\t 2.264576313642186\n",
            "8  \t [-0.02383611 -2.        ]\t 48.049944181290755\t -0.7103525060042222\t 1.8009716277476506\t 1.977335569848736\n",
            "9  \t [-3.  2.]\t 150.89999999999998\t -0.7103525060042222\t 1.5541939713541064\t 2.197352602642228\n",
            "10 \t [-3. -2.]\t 162.89999999999998\t -0.7103525060042222\t 1.8300312119557554\t 1.932584166072564\n",
            "11 \t [-1.0861147 -1.1099735]\t 4.692577955261953\t -0.7103525060042222\t 1.6839212759400242\t 1.6943506032838804\n",
            "12 \t [ 0.97100485 -0.84617658]\t 0.5489667780513787\t -0.7103525060042222\t 1.4315754329113004\t 1.7111875605504556\n",
            "13 \t [-1.3378001   0.65892942]\t 0.4790699888675669\t -0.7103525060042222\t 1.353375017277779\t 1.6971252751212247\n",
            "14 \t [ 3. -2.]\t 150.89999999999998\t -0.7103525060042222\t 1.3094463534787633\t 1.7441606132297527\n",
            "15 \t [-1.54197874 -0.25415755]\t 2.2694939169266597\t -0.7103525060042222\t 1.5409483365891707\t 1.3825644601019362\n",
            "16 \t [3. 2.]\t 162.89999999999998\t -0.7103525060042222\t 1.3956362007439944\t 1.608007198561733\n",
            "17 \t [2.03305144 0.66914523]\t 4.565761583924281\t -0.7103525060042222\t 1.348369510777224\t 1.264543638620324\n",
            "18 \t [1.46168742 1.12136988]\t 5.145176845377758\t -0.7103525060042222\t 1.4944244917301592\t 1.2638065609136517\n",
            "19 \t [3.         0.61023772]\t 109.7958503301845\t -0.7103525060042222\t 1.245175720896203\t 1.415207334003448\n",
            "20 \t [1.38361077 0.12344082]\t 2.410745076894838\t -0.7103525060042222\t 1.11002001346581\t 0.8429819855292077\n"
          ]
        }
      ],
      "source": [
        "### ESTIMATED STP EI GRADIENTS\n",
        "\n",
        "np.random.seed(run_num_11)\n",
        "surrogate_approx_11 = dtStudentProcess(cov_func, optimize=opt, nu = df)\n",
        "\n",
        "approx_11 = GPGO_multi(surrogate_approx_11, Acquisition_grad(util), objfunc, param)\n",
        "approx_11.run(init_evals=n_init, max_iter=iters)\n"
      ]
    },
    {
      "cell_type": "code",
      "execution_count": 24,
      "metadata": {
        "id": "DXwjUVZ4GCii",
        "colab": {
          "base_uri": "https://localhost:8080/"
        },
        "outputId": "27f1cf81-598b-4301-b3ec-7b8404a196f1"
      },
      "outputs": [
        {
          "output_type": "stream",
          "name": "stdout",
          "text": [
            "Evaluation \t Proposed point \t  Current eval. \t  Best eval. \t        Exact EI: StdDev. x \t Approx EI: StdDev. x \n",
            "init\t [-2.07502295  0.96019879]\t 2.6185857163917037\t 1.9967735906956543\t    \t    \n",
            "init\t [-1.42010991  0.13495757]\t 1.9967735906956543\t 1.9967735906956543\t    \t    \n",
            "init\t [-2.91255023  1.67498803]\t 101.67816714332157\t 1.9967735906956543\t    \t    \n",
            "init\t [ 2.40428912 -1.86631429]\t 47.44624883788006\t 1.9967735906956543\t    \t    \n",
            "init\t [ 2.74169602 -1.45116271]\t 58.32400185681089\t 1.9967735906956543\t    \t    \n",
            "1  \t [-0.4008835   1.51465342]\t 11.859033029966305\t 1.9967735906956543\t 2.033635102457796\t 1.9495225362901039\n",
            "2  \t [3. 2.]\t 162.89999999999998\t 1.9967735906956543\t 2.1686544124244627\t 2.1386358018224447\n",
            "3  \t [-3. -2.]\t 162.89999999999998\t 1.9967735906956543\t 1.9001516618242433\t 1.5032921963698125\n",
            "\u001b[1m\u001b[92m4\u001b[0m\t \u001b[1m\u001b[92m[-0.01679101 -1.10753109]\u001b[0m\t \u001b[1m\u001b[92m1.1316603520233026\u001b[0m\t \u001b[1m\u001b[92m1.1316603520233026\u001b[0m\t \u001b[1m\u001b[92m1.1522503355896498\u001b[0m\t \u001b[1m\u001b[92m1.1686167547684654\u001b[0m\n",
            "5  \t [0.66814175 0.19008727]\t 1.3845047210586219\t 1.1316603520233026\t 1.0249174378195582\t 0.7143960644914277\n",
            "6  \t [-0.05729342 -2.        ]\t 48.12769437063314\t 1.1316603520233026\t 1.334695192538729\t 1.1230404736058934\n",
            "\u001b[1m\u001b[92m7\u001b[0m\t \u001b[1m\u001b[92m[-0.47337706  0.07503686]\u001b[0m\t \u001b[1m\u001b[92m0.7367277385845967\u001b[0m\t \u001b[1m\u001b[92m0.7367277385845967\u001b[0m\t \u001b[1m\u001b[92m1.1090653641969008\u001b[0m\t \u001b[1m\u001b[92m1.0816904350950143\u001b[0m\n",
            "\u001b[1m\u001b[92m8\u001b[0m\t \u001b[1m\u001b[92m[ 1.09012026 -0.87390239]\u001b[0m\t \u001b[1m\u001b[92m0.6727258846377024\u001b[0m\t \u001b[1m\u001b[92m0.6727258846377024\u001b[0m\t \u001b[1m\u001b[92m1.4171924123944086\u001b[0m\t \u001b[1m\u001b[92m1.504894582019578\u001b[0m\n",
            "9  \t [0.82211708 2.        ]\t 51.49135666594188\t 0.6727258846377024\t 1.217549218279171\t 1.3244294828286878\n",
            "10 \t [-1.30726788  2.        ]\t 47.75186179249132\t 0.6727258846377024\t 1.4063786625777261\t 1.7438042540857324\n",
            "11 \t [-3.          0.09578308]\t 108.57628984669734\t 0.6727258846377024\t 1.4492687518726288\t 1.4187768533096827\n",
            "\u001b[1m\u001b[92m12\u001b[0m\t \u001b[1m\u001b[92m[-1.32753883  0.85472159]\u001b[0m\t \u001b[1m\u001b[92m0.42953743920647636\u001b[0m\t \u001b[1m\u001b[92m0.42953743920647636\u001b[0m\t \u001b[1m\u001b[92m1.1772302720647339\u001b[0m\t \u001b[1m\u001b[92m1.2810670572977862\u001b[0m\n",
            "13 \t [2.12738599 0.08636063]\t 6.1435876855269\t 0.42953743920647636\t 1.378485992386543\t 1.6052835594342347\n",
            "14 \t [-0.99982052 -1.03143358]\t 3.536025384388398\t 0.42953743920647636\t 1.3733231653033164\t 1.3637990898432855\n",
            "15 \t [3.         0.05012608]\t 109.0403529941724\t 0.42953743920647636\t 1.3196704758272906\t 1.530788895062585\n",
            "16 \t [ 1.49069918 -0.08606517]\t 2.018805903116672\t 0.42953743920647636\t 1.1711920034532632\t 1.6354740033700357\n",
            "\u001b[1m\u001b[92m17\u001b[0m\t \u001b[1m\u001b[92m[-0.17928232 -0.5511148 ]\u001b[0m\t \u001b[1m\u001b[92m-0.6206931993553122\u001b[0m\t \u001b[1m\u001b[92m-0.6206931993553122\u001b[0m\t \u001b[1m\u001b[92m1.0161981085108007\u001b[0m\t \u001b[1m\u001b[92m1.4629680468725486\u001b[0m\n",
            "18 \t [1.47553159 0.68106805]\t 2.204667650337517\t -0.6206931993553122\t 1.2592285038449862\t 1.4662434560179791\n",
            "19 \t [ 0.70239308 -0.08204182]\t 1.4179436045251457\t -0.6206931993553122\t 1.0054609039375193\t 0.4878344909952929\n",
            "20 \t [0.15592101 0.86066796]\t -0.5379537509586987\t -0.6206931993553122\t 1.3644688622465975\t 1.1858743574493835\n"
          ]
        }
      ],
      "source": [
        "### ESTIMATED STP EI GRADIENTS\n",
        "\n",
        "np.random.seed(run_num_12)\n",
        "surrogate_approx_12 = dtStudentProcess(cov_func, optimize=opt, nu = df)\n",
        "\n",
        "approx_12 = GPGO_multi(surrogate_approx_12, Acquisition_grad(util), objfunc, param)\n",
        "approx_12.run(init_evals=n_init, max_iter=iters)\n"
      ]
    },
    {
      "cell_type": "code",
      "execution_count": 25,
      "metadata": {
        "id": "CphOPndPGClX",
        "colab": {
          "base_uri": "https://localhost:8080/"
        },
        "outputId": "e8ae0e01-684d-498a-a457-43935558a7b6"
      },
      "outputs": [
        {
          "output_type": "stream",
          "name": "stdout",
          "text": [
            "Evaluation \t Proposed point \t  Current eval. \t  Best eval. \t        Exact EI: StdDev. x \t Approx EI: StdDev. x \n",
            "init\t [ 1.66621446 -1.04983512]\t 0.752930921147986\t 0.752930921147986\t    \t    \n",
            "init\t [1.9456712  1.86299679]\t 41.05776363102951\t 0.752930921147986\t    \t    \n",
            "init\t [ 2.83560668 -0.18620301]\t 69.0134544723513\t 0.752930921147986\t    \t    \n",
            "init\t [0.65425478 1.10210606]\t 3.117452174069064\t 0.752930921147986\t    \t    \n",
            "init\t [0.84968007 0.88807292]\t 2.006601529383926\t 0.752930921147986\t    \t    \n",
            "1  \t [ 0.13641661 -1.17692619]\t 2.047159952325697\t 0.752930921147986\t 1.6281845977038312\t 0.6628193871729265\n",
            "2  \t [-1.12201787  1.01391999]\t 1.3501551648904058\t 0.752930921147986\t 2.0834179362873138\t 1.4959241099483633\n",
            "3  \t [-3. -2.]\t 162.89999999999998\t 0.752930921147986\t 1.9820057712762045\t 1.728505731068089\n",
            "4  \t [-3.  2.]\t 150.89999999999998\t 0.752930921147986\t 1.6938516851122294\t 2.114952760682104\n",
            "5  \t [ 3. -2.]\t 150.89999999999998\t 0.752930921147986\t 1.885680196005651\t 1.7456911850603816\n",
            "\u001b[1m\u001b[92m6\u001b[0m\t \u001b[1m\u001b[92m[-0.36260321  0.00504749]\u001b[0m\t \u001b[1m\u001b[92m0.4884465846489348\u001b[0m\t \u001b[1m\u001b[92m0.4884465846489348\u001b[0m\t \u001b[1m\u001b[92m1.5315324659029221\u001b[0m\t \u001b[1m\u001b[92m0.9869514607884182\u001b[0m\n",
            "7  \t [-0.26185648  2.        ]\t 47.74079623396392\t 0.4884465846489348\t 1.5290118498130663\t 1.3823092511246096\n",
            "8  \t [ 0.4501232 -2.       ]\t 47.826762186821064\t 0.4884465846489348\t 1.6132585960492378\t 1.6139052313646796\n",
            "9  \t [ 0.93899897 -0.55579522]\t 0.7469405416869157\t 0.4884465846489348\t 1.7223512208763807\t 1.6442076356118838\n",
            "10 \t [-1.28644575 -0.17075911]\t 2.485526993118263\t 0.4884465846489348\t 1.625489417987936\t 1.177282714466898\n",
            "11 \t [-0.94979926 -1.60884751]\t 20.117755106991574\t 0.4884465846489348\t 1.6348897836590275\t 1.9694042304349324\n",
            "12 \t [ 0.50977296 -0.03656493]\t 0.8795266154159576\t 0.4884465846489348\t 1.601899326864659\t 1.0963071170092968\n",
            "13 \t [-3.          0.06052174]\t 108.70383691283257\t 0.4884465846489348\t 1.9245065256779028\t 1.8755098669730053\n",
            "14 \t [3. 2.]\t 162.89999999999998\t 0.4884465846489348\t 1.3990694630650737\t 1.335888299359267\n",
            "15 \t [1.09244733 2.        ]\t 52.534232319073126\t 0.4884465846489348\t 1.3454641065688062\t 1.2782514485214398\n",
            "\u001b[1m\u001b[92m16\u001b[0m\t \u001b[1m\u001b[92m[-0.21052798  0.83403659]\u001b[0m\t \u001b[1m\u001b[92m-0.8493321226462412\u001b[0m\t \u001b[1m\u001b[92m-0.8493321226462412\u001b[0m\t \u001b[1m\u001b[92m1.2073114419447726\u001b[0m\t \u001b[1m\u001b[92m1.2200494310507426\u001b[0m\n",
            "17 \t [-0.66677528 -0.81385095]\t 1.0406544910683895\t -0.8493321226462412\t 1.4674514305235795\t 1.384716408559544\n",
            "18 \t [-0.26487831  0.08096329]\t 0.2229261992935476\t -0.8493321226462412\t 0.7739125809513137\t 0.7742455198110051\n",
            "19 \t [1.11263115 0.00727924]\t 2.3737885605840168\t -0.8493321226462412\t 1.0589578941928859\t 0.8368051852039841\n",
            "20 \t [-0.71030244  0.25881559]\t 1.0925412584016199\t -0.8493321226462412\t 1.135590126359263\t 0.7949677243499061\n"
          ]
        }
      ],
      "source": [
        "### ESTIMATED STP EI GRADIENTS\n",
        "\n",
        "np.random.seed(run_num_13)\n",
        "surrogate_approx_13 = dtStudentProcess(cov_func, optimize=opt, nu = df)\n",
        "\n",
        "approx_13 = GPGO_multi(surrogate_approx_13, Acquisition_grad(util), objfunc, param)\n",
        "approx_13.run(init_evals=n_init, max_iter=iters)\n"
      ]
    },
    {
      "cell_type": "code",
      "execution_count": 26,
      "metadata": {
        "id": "ojHTeARNGCoi",
        "colab": {
          "base_uri": "https://localhost:8080/"
        },
        "outputId": "13368878-e3b4-4a1e-db4b-e8648562a15e"
      },
      "outputs": [
        {
          "output_type": "stream",
          "name": "stdout",
          "text": [
            "Evaluation \t Proposed point \t  Current eval. \t  Best eval. \t        Exact EI: StdDev. x \t Approx EI: StdDev. x \n",
            "init\t [0.08366006 1.09266021]\t 1.0453292732107575\t -1.029299726828387\t    \t    \n",
            "init\t [ 2.22256611 -1.96781221]\t 48.81113313056442\t -1.029299726828387\t    \t    \n",
            "init\t [-1.14158445  1.83041496]\t 31.794043287944216\t -1.029299726828387\t    \t    \n",
            "init\t [ 0.07870027 -0.7268623 ]\t -1.029299726828387\t -1.029299726828387\t    \t    \n",
            "init\t [ 0.23519962 -1.11498023]\t 1.161934062902255\t -1.029299726828387\t    \t    \n",
            "1  \t [1.89851197 1.50328635]\t 16.98660304161551\t -1.029299726828387\t 2.074095546775086\t 1.7956208163224197\n",
            "2  \t [-1.88205439 -1.63894538]\t 23.83592700754102\t -1.029299726828387\t 1.7770821210414363\t 1.6818726692933856\n",
            "3  \t [-3.          0.43460124]\t 106.98338325790517\t -1.029299726828387\t 1.517169899360818\t 1.6131099633311954\n",
            "4  \t [3.        0.2366106]\t 109.39843058422534\t -1.029299726828387\t 1.23347185346398\t 1.5975558404760253\n",
            "5  \t [-0.19979526 -2.        ]\t 48.55593804000941\t -1.029299726828387\t 1.2407925861195366\t 1.6851597456417828\n",
            "6  \t [0.3289711  0.12145022]\t 0.39053850309063143\t -1.029299726828387\t 1.0856768171193414\t 1.7761265297452378\n",
            "7  \t [0.76300004 2.        ]\t 51.20871233792046\t -1.029299726828387\t 1.1635929124058875\t 1.6477150040399144\n",
            "8  \t [-3. -2.]\t 162.89999999999998\t -1.029299726828387\t 2.245214834165072\t 2.059278757276605\n",
            "9  \t [-0.64870059 -0.08834119]\t 1.3625487886438006\t -1.029299726828387\t 1.0781132467364898\t 1.6421279557640442\n",
            "10 \t [ 0.28736391 -0.02914931]\t 0.30440730098553587\t -1.029299726828387\t 1.1152001675583798\t 1.6766251913555257\n",
            "11 \t [-0.39776487 -0.0507176 ]\t 0.5915303806263877\t -1.029299726828387\t 1.1821099657501934\t 1.6055434519029408\n",
            "12 \t [3. 2.]\t 162.89999999999998\t -1.029299726828387\t 1.491884506837347\t 1.9478977111726317\n",
            "13 \t [ 0.88093803 -0.00678565]\t 1.9891009411290403\t -1.029299726828387\t 1.2679131152413807\t 1.4411070773599248\n",
            "14 \t [-3.  2.]\t 150.89999999999998\t -1.029299726828387\t 1.3980416733120988\t 2.0973829627551814\n",
            "15 \t [-1.38462236 -0.98824981]\t 3.5760064885320197\t -1.029299726828387\t 1.2181905381745792\t 1.7375610102497472\n",
            "16 \t [1.3608797  0.97189512]\t 3.4358361979351697\t -1.029299726828387\t 1.4611426777736956\t 1.7213821225767576\n",
            "17 \t [-0.75747301  0.84212864]\t 0.20382632923030108\t -1.029299726828387\t 1.4125198550808418\t 1.660846949867816\n",
            "18 \t [ 1.19337456 -1.03035925]\t 1.4323490138958939\t -1.029299726828387\t 1.3629235028637445\t 1.9406557234815218\n",
            "19 \t [ 3.         -1.34611077]\t 110.7471928230138\t -1.029299726828387\t 1.3152907980051116\t 1.6543096482867587\n",
            "20 \t [0.6110775  0.12593822]\t 1.2327190911950803\t -1.029299726828387\t 1.1030360538277173\t 0.872983517123414\n"
          ]
        }
      ],
      "source": [
        "### ESTIMATED STP EI GRADIENTS\n",
        "\n",
        "np.random.seed(run_num_14)\n",
        "surrogate_approx_14 = dtStudentProcess(cov_func, optimize=opt, nu = df)\n",
        "\n",
        "approx_14 = GPGO_multi(surrogate_approx_14, Acquisition_grad(util), objfunc, param)\n",
        "approx_14.run(init_evals=n_init, max_iter=iters)\n"
      ]
    },
    {
      "cell_type": "code",
      "execution_count": 27,
      "metadata": {
        "id": "vCJzn4vWGCs3",
        "colab": {
          "base_uri": "https://localhost:8080/"
        },
        "outputId": "da8d239a-d70f-445d-c4dd-94e31dc52bf9"
      },
      "outputs": [
        {
          "output_type": "stream",
          "name": "stdout",
          "text": [
            "Evaluation \t Proposed point \t  Current eval. \t  Best eval. \t        Exact EI: StdDev. x \t Approx EI: StdDev. x \n",
            "init\t [ 2.09290618 -1.2844163 ]\t 6.84252100896936\t 2.1163170846379233\t    \t    \n",
            "init\t [-2.67382071 -0.55384622]\t 43.69785230561242\t 2.1163170846379233\t    \t    \n",
            "init\t [-1.34759443  0.1200009 ]\t 2.1163170846379233\t 2.1163170846379233\t    \t    \n",
            "init\t [-1.16448651 -0.78210256]\t 2.3544087277459513\t 2.1163170846379233\t    \t    \n",
            "init\t [-2.32955234 -1.00040394]\t 15.469119251600274\t 2.1163170846379233\t    \t    \n",
            "\u001b[1m\u001b[92m1\u001b[0m\t \u001b[1m\u001b[92m[0.03075323 0.71877927]\u001b[0m\t \u001b[1m\u001b[92m-0.9730060052623005\u001b[0m\t \u001b[1m\u001b[92m-0.9730060052623005\u001b[0m\t \u001b[1m\u001b[92m1.3302255160459608\u001b[0m\t \u001b[1m\u001b[92m1.4987426678780162\u001b[0m\n",
            "2  \t [-1.0441117  2.       ]\t 48.20854615803708\t -0.9730060052623005\t 1.4271927931805357\t 1.8748035019074512\n",
            "3  \t [ 0.2135478  -0.47732729]\t -0.6275757564135115\t -0.9730060052623005\t 1.5961605182136116\t 1.6317824779938115\n",
            "4  \t [1.76261537 1.19255452]\t 6.6571245228721825\t -0.9730060052623005\t 1.6925539369175\t 1.7965351473889979\n",
            "5  \t [-0.19385181 -2.        ]\t 48.53506991308548\t -0.9730060052623005\t 1.7702696640737177\t 1.974769120122596\n",
            "6  \t [3. 2.]\t 162.89999999999998\t -0.9730060052623005\t 1.234162941339851\t 1.999492312152097\n",
            "7  \t [1.11947086 0.20165775]\t 2.440489005170258\t -0.9730060052623005\t 1.1272321846898838\t 1.938227785612352\n",
            "8  \t [ 3. -2.]\t 150.89999999999998\t -0.9730060052623005\t 1.7826189979378857\t 2.2238428628731786\n",
            "9  \t [-3.  2.]\t 150.89999999999998\t -0.9730060052623005\t 1.294213377771825\t 1.7127337208778368\n",
            "10 \t [0.63811874 2.        ]\t 50.57932783322936\t -0.9730060052623005\t 1.4381168940175666\t 1.5289919501607334\n",
            "11 \t [ 1.59381312 -0.22857094]\t 1.5115826475943728\t -0.9730060052623005\t 1.345052010583967\t 1.4134442626216264\n",
            "12 \t [-3. -2.]\t 162.89999999999998\t -0.9730060052623005\t 1.3454197488500463\t 1.1077705260981334\n",
            "13 \t [-0.4769305  -0.00787371]\t 0.8086284708970426\t -0.9730060052623005\t 1.1293547201170189\t 0.9325411508752361\n",
            "14 \t [ 1.19947897 -1.52006221]\t 12.690384226224133\t -0.9730060052623005\t 1.4037534167969097\t 1.683460480101404\n",
            "15 \t [ 3.        -0.1150198]\t 108.50272245984263\t -0.9730060052623005\t 1.3016206329620763\t 1.4072229699958394\n",
            "16 \t [ 1.48214548 -0.88940729]\t 0.20723081283341727\t -0.9730060052623005\t 1.4424834032575147\t 1.3349378274171793\n",
            "17 \t [-1.46730674 -2.        ]\t 53.13893755692397\t -0.9730060052623005\t 1.3027943245302067\t 1.3028666384665248\n",
            "18 \t [0.90176181 0.48669639]\t 1.7591316740645486\t -0.9730060052623005\t 1.1897303153814032\t 1.1499633795886663\n",
            "19 \t [-0.9806881   0.93013145]\t 0.8222577949158634\t -0.9730060052623005\t 1.346779482287484\t 1.1787035616888988\n",
            "20 \t [ 0.92769932 -0.47836961]\t 0.9498973614207633\t -0.9730060052623005\t 1.1675389246245962\t 0.7416334030588692\n"
          ]
        }
      ],
      "source": [
        "### ESTIMATED STP EI GRADIENTS\n",
        "\n",
        "np.random.seed(run_num_15)\n",
        "surrogate_approx_15 = dtStudentProcess(cov_func, optimize=opt, nu = df)\n",
        "\n",
        "approx_15 = GPGO_multi(surrogate_approx_15, Acquisition_grad(util), objfunc, param)\n",
        "approx_15.run(init_evals=n_init, max_iter=iters)\n"
      ]
    },
    {
      "cell_type": "code",
      "execution_count": 28,
      "metadata": {
        "id": "bGGkhp-kGCw6",
        "colab": {
          "base_uri": "https://localhost:8080/"
        },
        "outputId": "019f45d2-9306-402d-835f-75bb2d423bbd"
      },
      "outputs": [
        {
          "output_type": "stream",
          "name": "stdout",
          "text": [
            "Evaluation \t Proposed point \t  Current eval. \t  Best eval. \t        Exact EI: StdDev. x \t Approx EI: StdDev. x \n",
            "init\t [-1.66025353  0.09265337]\t 1.8632773736203017\t 1.8632773736203017\t    \t    \n",
            "init\t [ 0.30420874 -1.8175922 ]\t 30.24114424375299\t 1.8632773736203017\t    \t    \n",
            "init\t [-0.83562699 -1.10767623]\t 3.922061281476444\t 1.8632773736203017\t    \t    \n",
            "init\t [ 1.13235697 -1.3450743 ]\t 6.7121671493737685\t 1.8632773736203017\t    \t    \n",
            "init\t [-2.5780508   1.76404344]\t 53.42443470756798\t 1.8632773736203017\t    \t    \n",
            "1  \t [3.         0.28478105]\t 109.45625116829714\t 1.8632773736203017\t 1.7729635039730078\t 2.2085757755719375\n",
            "2  \t [-3. -2.]\t 162.89999999999998\t 1.8632773736203017\t 1.6210806046689186\t 1.9421469563296485\n",
            "3  \t [0.34111463 2.        ]\t 49.11975830701962\t 1.8632773736203017\t 1.328008604380046\t 1.6663062472960255\n",
            "4  \t [ 3. -2.]\t 150.89999999999998\t 1.8632773736203017\t 1.3353184142966386\t 1.7695876244179929\n",
            "\u001b[1m\u001b[92m5\u001b[0m\t \u001b[1m\u001b[92m[-0.02607083 -0.00272705]\u001b[0m\t \u001b[1m\u001b[92m0.002759132000035536\u001b[0m\t \u001b[1m\u001b[92m0.002759132000035536\u001b[0m\t \u001b[1m\u001b[92m1.4994569295400606\u001b[0m\t \u001b[1m\u001b[92m1.5433577941856873\u001b[0m\n",
            "6  \t [-0.80850964  0.1944773 ]\t 1.507713006876967\t 0.002759132000035536\t 1.2526842009658894\t 1.7815374503153805\n",
            "7  \t [3. 2.]\t 162.89999999999998\t 0.002759132000035536\t 1.1119939757454895\t 1.7366926558576552\n",
            "8  \t [ 0.74586449 -0.14728483]\t 1.4379834542934673\t 0.002759132000035536\t 0.9933391697474943\t 1.1814164850980495\n",
            "9  \t [-3.          0.22481922]\t 108.03358624696703\t 0.002759132000035536\t 1.5218775384154157\t 1.337189330558679\n",
            "10 \t [-1.19800212  2.        ]\t 48.004625917370106\t 0.002759132000035536\t 1.1803762382986152\t 1.5945917380634878\n",
            "11 \t [-1.23120641 -0.45527761]\t 2.302342856039076\t 0.002759132000035536\t 1.3453093660057853\t 1.3453820672310357\n",
            "\u001b[1m\u001b[92m12\u001b[0m\t \u001b[1m\u001b[92m[ 0.27403007 -0.77656763]\u001b[0m\t \u001b[1m\u001b[92m-0.8816502585978456\u001b[0m\t \u001b[1m\u001b[92m-0.8816502585978456\u001b[0m\t \u001b[1m\u001b[92m1.5357052491015983\u001b[0m\t \u001b[1m\u001b[92m1.308168295352892\u001b[0m\n",
            "13 \t [-1.17579479 -2.        ]\t 52.74863938214418\t -0.8816502585978456\t 1.3172730397937318\t 1.3649638483257145\n",
            "14 \t [1.14629313 1.01521735]\t 3.676558325960053\t -0.8816502585978456\t 1.0922543755702847\t 1.391715222727243\n",
            "15 \t [0.38897437 0.83026216]\t 0.02462760941122555\t -0.8816502585978456\t 1.0924757165097223\t 1.492571982253958\n",
            "16 \t [-1.55600957  0.89510383]\t 0.07548632568596225\t -0.8816502585978456\t 1.1077810995529862\t 1.2732841357381655\n",
            "17 \t [ 1.79651932 -0.59546948]\t 0.25630064153246257\t -0.8816502585978456\t 1.3436672913967123\t 1.4457400620175525\n",
            "18 \t [-0.4402437  -0.65695294]\t 0.006740989687078369\t -0.8816502585978456\t 1.4656002742888652\t 1.3589321883284882\n",
            "19 \t [ 1.30411301 -0.75138476]\t 0.40527995617066304\t -0.8816502585978456\t 1.1859317846566841\t 1.497830904254872\n",
            "20 \t [1.59142132 0.25982293]\t 2.2373003521364576\t -0.8816502585978456\t 1.516694664740166\t 1.4490890174713091\n"
          ]
        }
      ],
      "source": [
        "### ESTIMATED STP EI GRADIENTS\n",
        "\n",
        "np.random.seed(run_num_16)\n",
        "surrogate_approx_16 = dtStudentProcess(cov_func, optimize=opt, nu = df)\n",
        "\n",
        "approx_16 = GPGO_multi(surrogate_approx_16, Acquisition_grad(util), objfunc, param)\n",
        "approx_16.run(init_evals=n_init, max_iter=iters)\n"
      ]
    },
    {
      "cell_type": "code",
      "execution_count": 29,
      "metadata": {
        "id": "Yrs2mp7hGC1Z",
        "colab": {
          "base_uri": "https://localhost:8080/"
        },
        "outputId": "618d9aa5-8166-407d-9a14-68ed9852a084"
      },
      "outputs": [
        {
          "output_type": "stream",
          "name": "stdout",
          "text": [
            "Evaluation \t Proposed point \t  Current eval. \t  Best eval. \t        Exact EI: StdDev. x \t Approx EI: StdDev. x \n",
            "init\t [-1.23200998  0.12234702]\t 2.189206652278967\t 1.7722768782964888\t    \t    \n",
            "init\t [-1.85087528 -1.72839857]\t 29.406067820453675\t 1.7722768782964888\t    \t    \n",
            "init\t [1.72191276 0.62533409]\t 2.2113401446731897\t 1.7722768782964888\t    \t    \n",
            "init\t [0.82512538 0.30241158]\t 1.7722768782964888\t 1.7722768782964888\t    \t    \n",
            "init\t [-2.7656225  -0.56874558]\t 57.5922315952177\t 1.7722768782964888\t    \t    \n",
            "1  \t [-0.76840067  1.92232424]\t 40.06170340878602\t 1.7722768782964888\t 1.421289030148379\t 1.9037521923340597\n",
            "2  \t [ 3. -2.]\t 150.89999999999998\t 1.7722768782964888\t 1.6322495169213216\t 2.365903632864196\n",
            "3  \t [3. 2.]\t 162.89999999999998\t 1.7722768782964888\t 1.5375938094105517\t 1.8761614984936366\n",
            "4  \t [-3.  2.]\t 150.89999999999998\t 1.7722768782964888\t 1.3842919087554835\t 1.7360199110986114\n",
            "5  \t [ 0.16887003 -1.3834079 ]\t 6.874270910214307\t 1.7722768782964888\t 1.1025176496429778\t 1.3303742675798944\n",
            "\u001b[1m\u001b[92m6\u001b[0m\t \u001b[1m\u001b[92m[-0.12605589 -0.12365915]\u001b[0m\t \u001b[1m\u001b[92m0.018388392407506615\u001b[0m\t \u001b[1m\u001b[92m0.018388392407506615\u001b[0m\t \u001b[1m\u001b[92m1.1485732790016638\u001b[0m\t \u001b[1m\u001b[92m1.1857259070723798\u001b[0m\n",
            "7  \t [ 1.16420969 -0.47015876]\t 1.1575650723202817\t 0.018388392407506615\t 1.2611414354136017\t 1.3118393917844609\n",
            "8  \t [-0.25946377 -2.        ]\t 48.778797475550405\t 0.018388392407506615\t 1.3598184939204534\t 1.4854124206257389\n",
            "9  \t [0.80436523 2.        ]\t 51.407937378093855\t 0.018388392407506615\t 1.6256985328837112\t 1.8282233099217382\n",
            "10 \t [ 0.61660301 -0.20552626]\t 0.9470033698704793\t 0.018388392407506615\t 1.0147894173242256\t 1.1715369165518537\n",
            "11 \t [-3. -2.]\t 162.89999999999998\t 0.018388392407506615\t 1.771414822402679\t 1.879986275235518\n",
            "12 \t [-1.12806356 -0.8754036 ]\t 2.6476446211868594\t 0.018388392407506615\t 1.2345400543218341\t 1.3420206525288052\n",
            "13 \t [ 3.         -0.02268778]\t 108.82987878701638\t 0.018388392407506615\t 1.1750589262609867\t 1.454309389810129\n",
            "14 \t [ 1.13592973 -2.        ]\t 48.10917622116759\t 0.018388392407506615\t 1.0648044485790928\t 1.304854757589785\n",
            "\u001b[1m\u001b[92m15\u001b[0m\t \u001b[1m\u001b[92m[-0.55705254  0.84406857]\u001b[0m\t \u001b[1m\u001b[92m-0.24066811220968332\u001b[0m\t \u001b[1m\u001b[92m-0.24066811220968332\u001b[0m\t \u001b[1m\u001b[92m1.204149791356709\u001b[0m\t \u001b[1m\u001b[92m1.3378133895715052\u001b[0m\n",
            "16 \t [-3.          0.45621473]\t 106.87210378330066\t -0.24066811220968332\t 1.154498219581199\t 1.3466779467262313\n",
            "17 \t [ 0.65050291 -0.94991734]\t 0.3714434971530034\t -0.24066811220968332\t 1.2814524053765481\t 1.2161915166131454\n",
            "18 \t [1.426994   0.20964419]\t 2.3831109287559427\t -0.24066811220968332\t 1.3747415897239308\t 1.2969047216200673\n",
            "19 \t [-1.38407072  1.0585221 ]\t 1.3743523433371911\t -0.24066811220968332\t 1.1897817679337115\t 1.1209677906538165\n",
            "20 \t [-0.48686362 -0.04375813]\t 0.8482529982909751\t -0.24066811220968332\t 1.1183127373604047\t 0.2215531612137801\n"
          ]
        }
      ],
      "source": [
        "### ESTIMATED STP EI GRADIENTS\n",
        "\n",
        "np.random.seed(run_num_17)\n",
        "surrogate_approx_17 = dtStudentProcess(cov_func, optimize=opt, nu = df)\n",
        "\n",
        "approx_17 = GPGO_multi(surrogate_approx_17, Acquisition_grad(util), objfunc, param)\n",
        "approx_17.run(init_evals=n_init, max_iter=iters)\n"
      ]
    },
    {
      "cell_type": "code",
      "execution_count": 30,
      "metadata": {
        "id": "f0HIEP3PIUEa",
        "colab": {
          "base_uri": "https://localhost:8080/"
        },
        "outputId": "814c0f9f-aa55-4141-fb60-592c43833550"
      },
      "outputs": [
        {
          "output_type": "stream",
          "name": "stdout",
          "text": [
            "Evaluation \t Proposed point \t  Current eval. \t  Best eval. \t        Exact EI: StdDev. x \t Approx EI: StdDev. x \n",
            "init\t [0.90224545 0.02181349]\t 2.062169771852028\t 2.062169771852028\t    \t    \n",
            "init\t [ 2.27160883 -1.2726391 ]\t 11.64729291207819\t 2.062169771852028\t    \t    \n",
            "init\t [2.11339841 1.00054514]\t 7.792128760671214\t 2.062169771852028\t    \t    \n",
            "init\t [0.99661    1.95158179]\t 46.96206222999227\t 2.062169771852028\t    \t    \n",
            "init\t [-1.45818946 -1.8867763 ]\t 41.4190528039297\t 2.062169771852028\t    \t    \n",
            "1  \t [-3.  2.]\t 150.89999999999998\t 2.062169771852028\t 1.7891323431717607\t 2.2731013494823062\n",
            "2  \t [ 0.79403905 -2.        ]\t 48.18265250300378\t 2.062169771852028\t 1.660940610139706\t 1.953802500121954\n",
            "3  \t [3.         0.05400711]\t 109.05038828204638\t 2.062169771852028\t 1.5281315231445076\t 2.14480317236465\n",
            "\u001b[1m\u001b[92m4\u001b[0m\t \u001b[1m\u001b[92m[-0.68773212  0.29561109]\u001b[0m\t \u001b[1m\u001b[92m0.9350891217016865\u001b[0m\t \u001b[1m\u001b[92m0.9350891217016865\u001b[0m\t \u001b[1m\u001b[92m1.781805565744416\u001b[0m\t \u001b[1m\u001b[92m1.9221522413522\u001b[0m\n",
            "5  \t [-3.         -0.79663006]\t 110.36237977551632\t 0.9350891217016865\t 1.405145126485827\t 1.9612023996573822\n",
            "6  \t [3. 2.]\t 162.89999999999998\t 0.9350891217016865\t 1.4018072556651513\t 1.5645250595044027\n",
            "7  \t [ 3. -2.]\t 150.89999999999998\t 0.9350891217016865\t 1.2073238803388169\t 1.8415973727546548\n",
            "8  \t [-0.65284623  2.        ]\t 48.0434755307709\t 0.9350891217016865\t 0.8829274838300983\t 1.4079140129191996\n",
            "\u001b[1m\u001b[92m9\u001b[0m\t \u001b[1m\u001b[92m[-0.02806563 -0.3739069 ]\u001b[0m\t \u001b[1m\u001b[92m-0.4673988430399331\u001b[0m\t \u001b[1m\u001b[92m-0.4673988430399331\u001b[0m\t \u001b[1m\u001b[92m1.0716954202370146\u001b[0m\t \u001b[1m\u001b[92m0.8941567179178049\u001b[0m\n",
            "10 \t [0.81899727 0.26555264]\t 1.794105701169448\t -0.4673988430399331\t 1.1317230908227744\t 0.8952582862471212\n",
            "11 \t [ 1.10186642 -0.45265395]\t 1.2070478533565372\t -0.4673988430399331\t 1.0735200014673416\t 0.872755145970029\n",
            "12 \t [-0.27383333 -0.14264036]\t 0.24760210237815813\t -0.4673988430399331\t 1.015635626524049\t 0.9772049374183241\n",
            "13 \t [0.29127383 0.29086283]\t 0.09939518102837891\t -0.4673988430399331\t 1.1467971953665868\t 1.042375972655456\n",
            "14 \t [-3. -2.]\t 162.89999999999998\t -0.4673988430399331\t 1.6978712710518205\t 1.5465658942654674\n",
            "15 \t [-1.99534366  0.37553976]\t 2.44056359899984\t -0.4673988430399331\t 1.3824367150053782\t 1.384639640047249\n",
            "16 \t [-0.49004834 -2.        ]\t 49.824194070292414\t -0.4673988430399331\t 1.2852475797028953\t 1.1034091384481328\n",
            "17 \t [ 1.69251968 -1.22362052]\t 2.9685223336780453\t -0.4673988430399331\t 1.4926394530136518\t 1.5113168202195266\n",
            "18 \t [-1.53382786 -0.46017262]\t 2.1659543225694966\t -0.4673988430399331\t 1.5208453410112122\t 1.569734427237968\n",
            "19 \t [-1.0421583   0.12840857]\t 2.095578222215934\t -0.4673988430399331\t 1.1129473698700392\t 0.8069599614008394\n",
            "20 \t [-1.53959568  1.16647875]\t 2.2888656405619097\t -0.4673988430399331\t 1.2740158610172596\t 1.3682500507332658\n"
          ]
        }
      ],
      "source": [
        "### ESTIMATED STP EI GRADIENTS\n",
        "\n",
        "np.random.seed(run_num_18)\n",
        "surrogate_approx_18 = dtStudentProcess(cov_func, optimize=opt, nu = df)\n",
        "\n",
        "approx_18 = GPGO_multi(surrogate_approx_18, Acquisition_grad(util), objfunc, param)\n",
        "approx_18.run(init_evals=n_init, max_iter=iters)\n"
      ]
    },
    {
      "cell_type": "code",
      "execution_count": 31,
      "metadata": {
        "id": "S3mxRQDLIUPC",
        "colab": {
          "base_uri": "https://localhost:8080/"
        },
        "outputId": "724dbbba-41df-4106-95ad-52520ffadce1"
      },
      "outputs": [
        {
          "output_type": "stream",
          "name": "stdout",
          "text": [
            "Evaluation \t Proposed point \t  Current eval. \t  Best eval. \t        Exact EI: StdDev. x \t Approx EI: StdDev. x \n",
            "init\t [-2.41479839  1.04499887]\t 15.890475442873509\t 6.578088852480828\t    \t    \n",
            "init\t [-1.51837216 -1.44747325]\t 13.520839509777993\t 6.578088852480828\t    \t    \n",
            "init\t [-1.01132062 -1.66800174]\t 23.772158573571232\t 6.578088852480828\t    \t    \n",
            "init\t [1.03186249 1.22637519]\t 6.578088852480828\t 6.578088852480828\t    \t    \n",
            "init\t [2.89645149 0.54264294]\t 83.31828503667734\t 6.578088852480828\t    \t    \n",
            "1  \t [ 1.61606476 -2.        ]\t 46.82873926111724\t 6.578088852480828\t 1.891916377953788\t 2.0722434971732717\n",
            "2  \t [-0.3660937  2.       ]\t 47.766992019903135\t 6.578088852480828\t 1.7891648041534356\t 2.3209364241880337\n",
            "3  \t [-3. -2.]\t 162.89999999999998\t 6.578088852480828\t 2.1212443474010225\t 1.817503480982744\n",
            "\u001b[1m\u001b[92m4\u001b[0m\t \u001b[1m\u001b[92m[-0.14422352 -0.20729864]\u001b[0m\t \u001b[1m\u001b[92m-0.05231083292606856\u001b[0m\t \u001b[1m\u001b[92m-0.05231083292606856\u001b[0m\t \u001b[1m\u001b[92m1.6154067596310866\u001b[0m\t \u001b[1m\u001b[92m1.9640227656590834\u001b[0m\n",
            "5  \t [-3.  2.]\t 150.89999999999998\t -0.05231083292606856\t 1.4180733583875504\t 1.6118769395290382\n",
            "6  \t [-1.39036663  0.07660078]\t 2.163035733488472\t -0.05231083292606856\t 1.3767079017057686\t 1.5881213578782716\n",
            "7  \t [ 0.6917034  -0.15889718]\t 1.261242683308272\t -0.05231083292606856\t 1.2651168708973022\t 1.5737010150572315\n",
            "8  \t [ 3. -2.]\t 150.89999999999998\t -0.05231083292606856\t 1.6384642681351884\t 1.080631173515244\n",
            "9  \t [ 0.10723931 -2.        ]\t 47.83124522572879\t -0.05231083292606856\t 1.4933320123557565\t 1.2655931986056541\n",
            "10 \t [1.80635434 2.        ]\t 53.88614544007705\t -0.05231083292606856\t 0.7050288169222196\t 1.3865763071403623\n",
            "11 \t [-0.46990586  0.31995086]\t 0.2665398634389072\t -0.05231083292606856\t 1.3368201332727676\t 0.999916361564117\n",
            "12 \t [-2.99909346  0.11329908]\t 108.25302836558977\t -0.05231083292606856\t 1.644920421019677\t 1.5565418380332887\n",
            "13 \t [-0.73732386 -0.1423438 ]\t 1.6330348789980582\t -0.05231083292606856\t 1.3229842257203266\t 1.0793234567675227\n",
            "14 \t [-1.59886033  1.12190358]\t 1.579113995660476\t -0.05231083292606856\t 1.5720752088050203\t 1.6517921669590439\n",
            "15 \t [0.46219736 0.59648133]\t 0.1207974071716933\t -0.05231083292606856\t 1.4566007464987951\t 1.6045498084940615\n",
            "16 \t [ 0.9989919  -1.08090153]\t 1.9386616491414328\t -0.05231083292606856\t 1.7400031602319463\t 1.3791415864671943\n",
            "17 \t [3. 2.]\t 162.89999999999998\t -0.05231083292606856\t 1.564998204421253\t 1.6275606673920182\n",
            "18 \t [0.79187504 2.        ]\t 51.34845940207058\t -0.05231083292606856\t 1.3372405712437598\t 1.3252596207864944\n",
            "19 \t [ 0.90081393 -0.04157612]\t 1.9968177086858876\t -0.05231083292606856\t 0.9933884867342522\t 0.7794477735328492\n",
            "20 \t [ 1.88473507 -0.54770895]\t 0.7792211358852195\t -0.05231083292606856\t 1.171735468208788\t 1.2106121309663413\n"
          ]
        }
      ],
      "source": [
        "### ESTIMATED STP EI GRADIENTS\n",
        "\n",
        "np.random.seed(run_num_19)\n",
        "surrogate_approx_19 = dtStudentProcess(cov_func, optimize=opt, nu = df)\n",
        "\n",
        "approx_19 = GPGO_multi(surrogate_approx_19, Acquisition_grad(util), objfunc, param)\n",
        "approx_19.run(init_evals=n_init, max_iter=iters)\n"
      ]
    },
    {
      "cell_type": "code",
      "execution_count": 32,
      "metadata": {
        "id": "Aawd59dRIUYn",
        "colab": {
          "base_uri": "https://localhost:8080/"
        },
        "outputId": "33570ec2-78d2-4c09-d050-5c6a501aa540"
      },
      "outputs": [
        {
          "output_type": "stream",
          "name": "stdout",
          "text": [
            "Evaluation \t Proposed point \t  Current eval. \t  Best eval. \t        Exact EI: StdDev. x \t Approx EI: StdDev. x \n",
            "init\t [0.52878481 1.59085491]\t 17.29968374481291\t 1.5037392797834441\t    \t    \n",
            "init\t [2.34918438 1.26334991]\t 20.91583049569433\t 1.5037392797834441\t    \t    \n",
            "init\t [-2.78466249  0.76703033]\t 57.06253405225224\t 1.5037392797834441\t    \t    \n",
            "init\t [-0.72791435  0.07404378]\t 1.5037392797834441\t 1.5037392797834441\t    \t    \n",
            "init\t [ 0.94770879 -1.22459913]\t 3.9766737661914173\t 1.5037392797834441\t    \t    \n",
            "1  \t [-1.26505268 -2.        ]\t 52.91938130845355\t 1.5037392797834441\t 1.7661529221093413\t 1.6494404427232987\n",
            "2  \t [ 3. -2.]\t 150.89999999999998\t 1.5037392797834441\t 1.5561676526508326\t 2.1239883905141648\n",
            "3  \t [-1.03750485  2.        ]\t 48.21318203218444\t 1.5037392797834441\t 1.4568878450102154\t 1.8660047551490488\n",
            "\u001b[1m\u001b[92m4\u001b[0m\t \u001b[1m\u001b[92m[ 0.58313016 -0.10893456]\u001b[0m\t \u001b[1m\u001b[92m1.0200242279492753\u001b[0m\t \u001b[1m\u001b[92m1.0200242279492753\u001b[0m\t \u001b[1m\u001b[92m1.5193401321516318\u001b[0m\t \u001b[1m\u001b[92m1.7186075322005032\u001b[0m\n",
            "5  \t [-3. -2.]\t 162.89999999999998\t 1.0200242279492753\t 1.3714353263298893\t 1.707662309775303\n",
            "6  \t [3. 2.]\t 162.89999999999998\t 1.0200242279492753\t 1.0738830264663677\t 1.8791333381495665\n",
            "7  \t [1.60618552 0.12472754]\t 2.205170003124328\t 1.0200242279492753\t 1.2692101599770869\t 1.3518108480354618\n",
            "8  \t [ 0.36544475 -2.        ]\t 47.766649250929014\t 1.0200242279492753\t 1.2586891821562671\t 1.4459988044876921\n",
            "9  \t [0.90668537 0.37174755]\t 1.9149627716396511\t 1.0200242279492753\t 0.7363462185035526\t 1.2922758669005316\n",
            "\u001b[1m\u001b[92m10\u001b[0m\t \u001b[1m\u001b[92m[-0.05350115 -0.22260793]\u001b[0m\t \u001b[1m\u001b[92m-0.1650525748477791\u001b[0m\t \u001b[1m\u001b[92m-0.1650525748477791\u001b[0m\t \u001b[1m\u001b[92m0.9255889570155101\u001b[0m\t \u001b[1m\u001b[92m1.301476527560379\u001b[0m\n",
            "11 \t [ 1.58839728 -0.04309978]\t 2.0019214882591303\t -0.1650525748477791\t 0.9747601782813671\t 1.233903174149025\n",
            "12 \t [3.         0.15835023]\t 109.27726648594921\t -0.1650525748477791\t 1.5058833720889653\t 1.8551223440679796\n",
            "13 \t [1.53821162 1.46376283]\t 14.167318803398903\t -0.1650525748477791\t 1.4610865142779124\t 1.8935140171543001\n",
            "14 \t [-3.  2.]\t 150.89999999999998\t -0.1650525748477791\t 1.1863586432310291\t 1.6629527467891607\n",
            "15 \t [-1.83699065 -0.43954046]\t 2.5775221301244238\t -0.1650525748477791\t 1.3019024927214529\t 1.5335342304257105\n",
            "16 \t [-0.89898319 -0.79271045]\t 1.815607830484864\t -0.1650525748477791\t 1.2572165733257565\t 1.4032382085355057\n",
            "17 \t [-3.         -0.23355874]\t 109.39438014796853\t -0.1650525748477791\t 1.2437348818737382\t 1.2101403905276198\n",
            "18 \t [-1.75495744  0.38679504]\t 0.9501448878879981\t -0.1650525748477791\t 1.2996969710042963\t 1.3234513321313346\n",
            "\u001b[1m\u001b[92m19\u001b[0m\t \u001b[1m\u001b[92m[-0.13748844  0.92021322]\u001b[0m\t \u001b[1m\u001b[92m-0.57059475828171\u001b[0m\t \u001b[1m\u001b[92m-0.57059475828171\u001b[0m\t \u001b[1m\u001b[92m1.2394238332966592\u001b[0m\t \u001b[1m\u001b[92m1.429008535034241\u001b[0m\n",
            "20 \t [-1.06719385  0.07091487]\t 2.2284310396024427\t -0.57059475828171\t 0.8161170679653039\t 0.8090248686058689\n"
          ]
        }
      ],
      "source": [
        "### ESTIMATED STP EI GRADIENTS\n",
        "\n",
        "np.random.seed(run_num_20)\n",
        "surrogate_approx_20 = dtStudentProcess(cov_func, optimize=opt, nu = df)\n",
        "\n",
        "approx_20 = GPGO_multi(surrogate_approx_20, Acquisition_grad(util), objfunc, param)\n",
        "approx_20.run(init_evals=n_init, max_iter=iters)\n"
      ]
    },
    {
      "cell_type": "code",
      "execution_count": 33,
      "metadata": {
        "id": "xkgzPRbBTHaq",
        "colab": {
          "base_uri": "https://localhost:8080/"
        },
        "outputId": "150a0d32-4b8c-427d-bf8a-75ca53e0e081"
      },
      "outputs": [
        {
          "output_type": "execute_result",
          "data": {
            "text/plain": [
              "1662385888.5354116"
            ]
          },
          "metadata": {},
          "execution_count": 33
        }
      ],
      "source": [
        "end_approx = time.time()\n",
        "end_approx\n",
        "\n",
        "time_approx = end_approx - start_approx\n",
        "time_approx\n",
        "\n",
        "start_exact = time.time()\n",
        "start_exact"
      ]
    },
    {
      "cell_type": "code",
      "execution_count": 34,
      "metadata": {
        "id": "7CG3Ndvb16Rb",
        "colab": {
          "base_uri": "https://localhost:8080/"
        },
        "outputId": "6a2c487f-7fa6-42d6-d45e-6a61d6e2c98c"
      },
      "outputs": [
        {
          "output_type": "stream",
          "name": "stdout",
          "text": [
            "Evaluation \t Proposed point \t  Current eval. \t  Best eval. \t        Exact EI: StdDev. x \t Approx EI: StdDev. x \n",
            "init\t [-0.49786797  0.88129797]\t -0.2650082867644827\t -0.2650082867644827\t    \t    \n",
            "init\t [-2.99931375 -0.79066971]\t 110.13991869176735\t -0.2650082867644827\t    \t    \n",
            "init\t [-2.11946466 -1.63064562]\t 26.90935479429681\t -0.2650082867644827\t    \t    \n",
            "init\t [-1.88243873 -0.61775709]\t 2.8558363102363344\t -0.2650082867644827\t    \t    \n",
            "init\t [-0.61939515  0.15526694]\t 1.0540522096005847\t -0.2650082867644827\t    \t    \n",
            "1  \t [1.72565682 2.        ]\t 53.54290653592616\t -0.2650082867644827\t 1.434137932380688\t 2.0809613621168177\n",
            "2  \t [ 1.26914855 -1.50291615]\t 11.85303832920594\t -0.2650082867644827\t 1.5417921757310364\t 2.3245347167979666\n",
            "3  \t [-1.60215436  1.22842078]\t 3.172845166925801\t -0.2650082867644827\t 1.1986498464912037\t 2.1221071723040463\n",
            "4  \t [ 3.         -0.40917164]\t 107.11491909223521\t -0.2650082867644827\t 1.439228021873481\t 2.100822760946402\n",
            "5  \t [-0.40572212 -1.98934551]\t 48.22724880813665\t -0.2650082867644827\t 1.536019858313829\t 1.5557467879677698\n",
            "6  \t [-0.31571141  1.76034648]\t 25.837856457693842\t -0.2650082867644827\t 1.3139123806608115\t 1.6117113050967373\n",
            "7  \t [-2.14196503  1.60523375]\t 19.15332411148959\t -0.2650082867644827\t 1.4818127913710615\t 1.8417746785794809\n",
            "8  \t [0.02328626 0.05086692]\t -0.006970113794866357\t -0.2650082867644827\t 1.5862458280847263\t 2.0168869783717427\n",
            "9  \t [-1.06983738  0.13056773]\t 2.1202815060075815\t -0.2650082867644827\t 1.5428280880788854\t 1.9252324803232355\n",
            "10 \t [-0.95781684  0.10551955]\t 2.0144633884741547\t -0.2650082867644827\t 1.3041618226558453\t 1.9466782739713309\n",
            "11 \t [3. 2.]\t 162.89999999999998\t -0.2650082867644827\t 1.3895733069827216\t 2.184715661124767\n",
            "12 \t [ 2.17179935 -1.9208996 ]\t 42.65441649764527\t -0.2650082867644827\t 1.3834559777199202\t 2.046636113607648\n",
            "13 \t [0.84566509 1.10146037]\t 3.8746636403444628\t -0.2650082867644827\t 1.2515770557400794\t 1.6838986448683004\n",
            "14 \t [-1.41139185 -0.9409279 ]\t 3.191831366679754\t -0.2650082867644827\t 1.422588599604384\t 1.8381177791562344\n",
            "15 \t [1.22364834 0.4341035 ]\t 2.3195838909451587\t -0.2650082867644827\t 1.6221900825668882\t 2.1889574533357776\n",
            "16 \t [ 0.94217699 -0.51278906]\t 0.8707739509198991\t -0.2650082867644827\t 1.1467531319190125\t 1.6674269711637049\n",
            "17 \t [ 0.3332277 -1.0257525]\t 0.2964757647191955\t -0.2650082867644827\t 1.6611988134595286\t 1.880013850489855\n",
            "18 \t [-1.04419676  1.09790906]\t 2.140825729821025\t -0.2650082867644827\t 1.5634129179710268\t 1.9241557705563033\n",
            "19 \t [-2.35530893  0.64595668]\t 11.976393721681143\t -0.2650082867644827\t 1.4093754607042766\t 1.891048267921386\n",
            "20 \t [ 0.45882041 -0.02278612]\t 0.7395781875267036\t -0.2650082867644827\t 1.206034224906036\t 1.5564594872396091\n"
          ]
        }
      ],
      "source": [
        "### EXACT STP EI GRADIENTS\n",
        "\n",
        "np.random.seed(run_num_1)\n",
        "surrogate_exact_1 = dtStudentProcess(cov_func, optimize=opt, nu = df)\n",
        "\n",
        "exact_1 = dGPGO(surrogate_exact_1, Acquisition_grad(util), objfunc, param)\n",
        "exact_1.run(init_evals=n_init, max_iter=iters)\n"
      ]
    },
    {
      "cell_type": "code",
      "execution_count": 35,
      "metadata": {
        "id": "-ilCPSAu9SAg",
        "colab": {
          "base_uri": "https://localhost:8080/"
        },
        "outputId": "52c61c0e-45e0-4638-a95b-0123215999a2"
      },
      "outputs": [
        {
          "output_type": "stream",
          "name": "stdout",
          "text": [
            "Evaluation \t Proposed point \t  Current eval. \t  Best eval. \t        Exact EI: StdDev. x \t Approx EI: StdDev. x \n",
            "init\t [-0.38403059 -1.89629507]\t 38.61280125654363\t 0.011939608840498828\t    \t    \n",
            "init\t [ 0.29797487 -0.25871043]\t 0.011939608840498828\t 0.011939608840498828\t    \t    \n",
            "init\t [-0.47779319 -0.67866072]\t 0.1381453419305213\t 0.011939608840498828\t    \t    \n",
            "init\t [-1.7721082   0.47708387]\t 0.626144759281101\t 0.011939608840498828\t    \t    \n",
            "init\t [-1.20207196 -0.9326909 ]\t 3.0693811601417798\t 0.011939608840498828\t    \t    \n",
            "\u001b[1m\u001b[92m1\u001b[0m\t \u001b[1m\u001b[92m[-0.38456495  0.83432964]\u001b[0m\t \u001b[1m\u001b[92m-0.6203149326416677\u001b[0m\t \u001b[1m\u001b[92m-0.6203149326416677\u001b[0m\t \u001b[1m\u001b[92m1.7868238777244847\u001b[0m\t \u001b[1m\u001b[92m2.010534968046823\u001b[0m\n",
            "2  \t [1.23837802 1.89272439]\t 41.746463017358984\t -0.6203149326416677\t 1.4273539668191737\t 1.8279079046229945\n",
            "3  \t [ 3.         -1.44809183]\t 113.75697650189262\t -0.6203149326416677\t 1.8991576972440865\t 2.0997467188605907\n",
            "4  \t [-3.         -1.77640011]\t 141.43798961982034\t -0.6203149326416677\t 2.2002006367178244\t 2.446675359179597\n",
            "5  \t [-1.43496797  1.90367931]\t 37.548390398418526\t -0.6203149326416677\t 1.3521159073061437\t 1.9871849201277036\n",
            "6  \t [3. 2.]\t 162.89999999999998\t -0.6203149326416677\t 1.4351214750563552\t 1.8674559132422615\n",
            "7  \t [-2.71567378  0.53539141]\t 46.71493053876734\t -0.6203149326416677\t 1.2461515065027682\t 1.6244887521161193\n",
            "8  \t [-0.50934598  0.07290545]\t 0.8439299599309843\t -0.6203149326416677\t 1.0051283988720432\t 1.3078449090748334\n",
            "9  \t [1.40447077 0.31820161]\t 2.3604729771726256\t -0.6203149326416677\t 1.3382394081556859\t 1.5982303857977989\n",
            "10 \t [0.39938567 0.31253399]\t 0.35823315623926216\t -0.6203149326416677\t 1.0126578090063738\t 1.2512150145348053\n",
            "11 \t [-0.68918496  0.00530211]\t 1.4580911372544931\t -0.6203149326416677\t 1.0395454962966537\t 1.4927515344946358\n",
            "12 \t [0.0583512 2.       ]\t 48.13029751629367\t -0.6203149326416677\t 1.3581635886205572\t 1.6530387081756157\n",
            "13 \t [ 0.8278778  -1.24810058]\t 4.304482888015195\t -0.6203149326416677\t 1.5233850219180103\t 1.7093725055827127\n",
            "14 \t [-2.89715543  1.79049987]\t 105.83732286904238\t -0.6203149326416677\t 1.6123655369538998\t 1.9000752954617004\n",
            "15 \t [ 1.32797407 -0.3183317 ]\t 1.564258279807429\t -0.6203149326416677\t 1.4523569573939978\t 1.5452445944379882\n",
            "16 \t [-1.88579672 -0.34272851]\t 2.8899627340880496\t -0.6203149326416677\t 1.2767337291812133\t 1.5738071558094904\n",
            "17 \t [2.67756311 0.1538789 ]\t 43.891542888432596\t -0.6203149326416677\t 1.3066806202349666\t 1.5591994257122372\n",
            "18 \t [-0.89414026  0.66133308]\t 0.45037926002598405\t -0.6203149326416677\t 1.3172932324216187\t 1.5618513544374524\n",
            "19 \t [ 1.34546289 -1.47544864]\t 10.600148510493064\t -0.6203149326416677\t 1.188960506131025\t 1.4751339462215642\n",
            "20 \t [ 0.82063356 -1.89991672]\t 37.964562091325504\t -0.6203149326416677\t 1.432913786706227\t 1.425001537532006\n"
          ]
        }
      ],
      "source": [
        "### EXACT STP EI GRADIENTS\n",
        "\n",
        "np.random.seed(run_num_2)\n",
        "surrogate_exact_2 = dtStudentProcess(cov_func, optimize=opt, nu = df)\n",
        "\n",
        "exact_2 = dGPGO(surrogate_exact_2, Acquisition_grad(util), objfunc, param)\n",
        "exact_2.run(init_evals=n_init, max_iter=iters)\n"
      ]
    },
    {
      "cell_type": "code",
      "execution_count": 36,
      "metadata": {
        "id": "XieJ158mIvlP",
        "colab": {
          "base_uri": "https://localhost:8080/"
        },
        "outputId": "bff4f841-ca0d-40c6-ada9-6f5a1e3ba2a4"
      },
      "outputs": [
        {
          "output_type": "stream",
          "name": "stdout",
          "text": [
            "Evaluation \t Proposed point \t  Current eval. \t  Best eval. \t        Exact EI: StdDev. x \t Approx EI: StdDev. x \n",
            "init\t [0.30478742 0.83259129]\t -0.2431922946563294\t -0.2431922946563294\t    \t    \n",
            "init\t [-1.25457157  0.04331042]\t 2.3313310458730996\t -0.2431922946563294\t    \t    \n",
            "init\t [2.35768173 1.58517236]\t 33.54152175045586\t -0.2431922946563294\t    \t    \n",
            "init\t [-2.24648814 -1.17102849]\t 14.214109412296352\t -0.2431922946563294\t    \t    \n",
            "init\t [-2.69119678 -0.23676063]\t 45.87579771712209\t -0.2431922946563294\t    \t    \n",
            "1  \t [ 0.51355669 -1.12712529]\t 1.710295440543633\t -0.2431922946563294\t 1.346888153693927\t 1.5947454313575025\n",
            "2  \t [-0.30063422  1.99221261]\t 46.87906421880781\t -0.2431922946563294\t 1.396611902405937\t 1.9527258625439068\n",
            "3  \t [ 2.25342631 -0.75724173]\t 7.123047987074203\t -0.2431922946563294\t 1.5267235469105604\t 2.073645761230577\n",
            "4  \t [-0.68567183 -2.        ]\t 50.822389002481465\t -0.2431922946563294\t 1.6079967897970495\t 1.8772436763353657\n",
            "5  \t [ 0.48091391 -0.04580213]\t 0.7865076280542719\t -0.2431922946563294\t 1.4579214741645055\t 1.8130252450038156\n",
            "6  \t [ 2.97471783 -1.80377467]\t 125.89014881851493\t -0.2431922946563294\t 1.6187169158911994\t 1.8183918152397327\n",
            "7  \t [ 1.43216324 -0.02599569]\t 2.2060821196259814\t -0.2431922946563294\t 1.369148702443858\t 1.8757653495457143\n",
            "8  \t [-3. -2.]\t 162.89999999999998\t -0.2431922946563294\t 1.6185970693199931\t 1.7563255904452861\n",
            "9  \t [-0.3507043  -0.08748084]\t 0.46112924607275074\t -0.2431922946563294\t 1.4318203964526859\t 1.6753926355114874\n",
            "10 \t [ 0.70755551 -0.03042011]\t 1.4928088032028306\t -0.2431922946563294\t 1.27722690672023\t 1.6508397825460004\n",
            "11 \t [-1.77436577  1.53735661]\t 12.342431286747095\t -0.2431922946563294\t 1.532118528468186\t 2.0096580800268455\n",
            "12 \t [0.89559356 0.03464509]\t 2.055565959825856\t -0.2431922946563294\t 1.455619296979554\t 1.8055802578414841\n",
            "13 \t [-1.38221346 -1.02928413]\t 3.9759407344807003\t -0.2431922946563294\t 1.6213270856205513\t 2.1280490471964524\n",
            "14 \t [2.70157023 0.34260385]\t 47.43408141483464\t -0.2431922946563294\t 1.6896413822064615\t 2.2148517869409026\n",
            "15 \t [3. 2.]\t 162.89999999999998\t -0.2431922946563294\t 1.4050619967484093\t 1.9498604146546437\n",
            "16 \t [1.36662329 1.73433011]\t 28.845522936776938\t -0.2431922946563294\t 1.4885033739254474\t 1.7606158315914175\n",
            "17 \t [-2.62881595  1.60625472]\t 49.448037721150925\t -0.2431922946563294\t 1.0979710362324204\t 1.3073512347126295\n",
            "18 \t [ 1.29016576 -1.28507727]\t 5.022158994841739\t -0.2431922946563294\t 1.4543003780623673\t 1.6066441938125662\n",
            "19 \t [-0.73978483 -0.02760653]\t 1.6321571729965338\t -0.2431922946563294\t 1.1732684976483074\t 0.8270464553176808\n",
            "20 \t [ 1.05031913 -0.88109022]\t 0.6845120942495171\t -0.2431922946563294\t 1.0366383883241646\t 0.9199886082385242\n"
          ]
        }
      ],
      "source": [
        "### EXACT STP EI GRADIENTS\n",
        "\n",
        "np.random.seed(run_num_3)\n",
        "surrogate_exact_3 = dtStudentProcess(cov_func, optimize=opt, nu = df)\n",
        "\n",
        "exact_3 = dGPGO(surrogate_exact_3, Acquisition_grad(util), objfunc, param)\n",
        "exact_3.run(init_evals=n_init, max_iter=iters)\n"
      ]
    },
    {
      "cell_type": "code",
      "execution_count": 37,
      "metadata": {
        "id": "PhLBVOIfIvol",
        "colab": {
          "base_uri": "https://localhost:8080/"
        },
        "outputId": "2a10f219-7757-4aae-c50e-d3fa281d354d"
      },
      "outputs": [
        {
          "output_type": "stream",
          "name": "stdout",
          "text": [
            "Evaluation \t Proposed point \t  Current eval. \t  Best eval. \t        Exact EI: StdDev. x \t Approx EI: StdDev. x \n",
            "init\t [2.80217903 0.188929  ]\t 63.70212732873661\t 2.3196402150601703\t    \t    \n",
            "init\t [2.83610616 0.85926397]\t 71.43837110827245\t 2.3196402150601703\t    \t    \n",
            "init\t [ 1.18637295 -1.13564202]\t 2.5463267765341566\t 2.3196402150601703\t    \t    \n",
            "init\t [ 2.85764673 -1.97507898]\t 113.76785286351424\t 2.3196402150601703\t    \t    \n",
            "init\t [-1.48210583 -0.26083387]\t 2.3196402150601703\t 2.3196402150601703\t    \t    \n",
            "1  \t [-3. -2.]\t 162.89999999999998\t 2.3196402150601703\t 1.6059145396209382\t 2.1470024837926927\n",
            "2  \t [-1.95732124  1.7703434 ]\t 26.534597980825662\t 2.3196402150601703\t 1.209933441515038\t 1.7159802381494655\n",
            "\u001b[1m\u001b[92m3\u001b[0m\t \u001b[1m\u001b[92m[ 0.03332207 -0.16857736]\u001b[0m\t \u001b[1m\u001b[92m-0.1116213955880341\u001b[0m\t \u001b[1m\u001b[92m-0.1116213955880341\u001b[0m\t \u001b[1m\u001b[92m1.619819729539745\u001b[0m\t \u001b[1m\u001b[92m1.9418518961345856\u001b[0m\n",
            "4  \t [0.4726431 2.       ]\t 49.737770302246844\t -0.1116213955880341\t 1.027006881079345\t 1.800874592341724\n",
            "5  \t [-0.09171163 -1.80306188]\t 29.47156876610926\t -0.1116213955880341\t 1.4285392740069156\t 1.4549233167558615\n",
            "6  \t [-2.66730573  0.38486496]\t 40.669487487042495\t -0.1116213955880341\t 1.6047685405990815\t 1.5107656826595959\n",
            "7  \t [-0.26748717 -0.12494534]\t 0.2475198518155983\t -0.1116213955880341\t 1.2920474953029124\t 1.6102336478214707\n",
            "8  \t [ 1.36738717 -0.03096196]\t 2.270166538541977\t -0.1116213955880341\t 1.507406727559964\t 1.507454111599958\n",
            "9  \t [-0.99093562  0.7530146 ]\t 0.49031946882012634\t -0.1116213955880341\t 1.3445733796168358\t 1.77904785718031\n",
            "10 \t [3. 2.]\t 162.89999999999998\t -0.1116213955880341\t 1.2602632535324374\t 2.0410440675048305\n",
            "11 \t [0.37787183 0.79371205]\t -0.1031968784360624\t -0.1116213955880341\t 1.575344242191723\t 1.6287688603105719\n",
            "12 \t [ 0.81340579 -1.93398578]\t 41.24886525550365\t -0.1116213955880341\t 1.3536763544894872\t 1.7920796727918538\n",
            "13 \t [-1.32086166 -1.21018169]\t 6.676559277038669\t -0.1116213955880341\t 1.2518153127267289\t 1.6560881816598199\n",
            "14 \t [-1.10120048 -2.        ]\t 52.559314781065225\t -0.1116213955880341\t 1.194707410390326\t 1.7802060541646267\n",
            "15 \t [-0.87803769 -0.75947113]\t 1.6788126936299896\t -0.1116213955880341\t 1.3331234151323215\t 1.7229087789985853\n",
            "\u001b[1m\u001b[92m16\u001b[0m\t \u001b[1m\u001b[92m[-0.3345852   0.66194469]\u001b[0m\t \u001b[1m\u001b[92m-0.7842464135452991\u001b[0m\t \u001b[1m\u001b[92m-0.7842464135452991\u001b[0m\t \u001b[1m\u001b[92m1.4065182936243303\u001b[0m\t \u001b[1m\u001b[92m1.7502674025704092\u001b[0m\n",
            "17 \t [-0.85239974  2.        ]\t 48.22075786784592\t -0.7842464135452991\t 1.220440714917367\t 1.8175260288335489\n",
            "18 \t [ 0.85079654 -0.53820557]\t 0.640575478426348\t -0.7842464135452991\t 1.456483963741828\t 1.6964591404868665\n",
            "19 \t [1.71508038 1.03382234]\t 4.1467839382727165\t -0.7842464135452991\t 1.4416677753346558\t 1.7899581651029568\n",
            "20 \t [0.61135042 0.22987179]\t 1.1593909518934231\t -0.7842464135452991\t 1.0333777293535826\t 1.0842588066693184\n"
          ]
        }
      ],
      "source": [
        "### EXACT STP EI GRADIENTS\n",
        "\n",
        "np.random.seed(run_num_4)\n",
        "surrogate_exact_4 = dtStudentProcess(cov_func, optimize=opt, nu = df)\n",
        "\n",
        "exact_4 = dGPGO(surrogate_exact_4, Acquisition_grad(util), objfunc, param)\n",
        "exact_4.run(init_evals=n_init, max_iter=iters)\n"
      ]
    },
    {
      "cell_type": "code",
      "execution_count": 38,
      "metadata": {
        "id": "arbiPyj2IvsJ",
        "colab": {
          "base_uri": "https://localhost:8080/"
        },
        "outputId": "351337b8-36f3-48bc-f598-3eeea482a6b7"
      },
      "outputs": [
        {
          "output_type": "stream",
          "name": "stdout",
          "text": [
            "Evaluation \t Proposed point \t  Current eval. \t  Best eval. \t        Exact EI: StdDev. x \t Approx EI: StdDev. x \n",
            "init\t [-1.66804097  1.48292922]\t 10.126030408244933\t -0.6512780061070701\t    \t    \n",
            "init\t [-1.75968507  1.67444363]\t 19.4300499315822\t -0.6512780061070701\t    \t    \n",
            "init\t [-0.06953287  0.44697545]\t -0.6512780061070701\t -0.6512780061070701\t    \t    \n",
            "init\t [1.59544714 0.07367195]\t 2.168775388880503\t -0.6512780061070701\t    \t    \n",
            "init\t [-1.21919699 -1.24911509]\t 7.420330936884148\t -0.6512780061070701\t    \t    \n",
            "1  \t [3. 2.]\t 162.89999999999998\t -0.6512780061070701\t 1.961447640376032\t 2.2492283323172573\n",
            "2  \t [ 1.99876975 -1.97693373]\t 45.231336871053784\t -0.6512780061070701\t 1.923983800240329\t 1.9492789281190732\n",
            "3  \t [-2.47503082 -0.10856423]\t 22.545979739890676\t -0.6512780061070701\t 2.001548304857134\t 2.1326546327070615\n",
            "4  \t [-3. -2.]\t 162.89999999999998\t -0.6512780061070701\t 1.545282794067434\t 1.8589819737967228\n",
            "5  \t [0.14753586 2.        ]\t 48.38114749360768\t -0.6512780061070701\t 1.2379299098437515\t 1.6921248256881618\n",
            "6  \t [-0.03039725 -1.92902143]\t 40.56488245683931\t -0.6512780061070701\t 1.4743518440859658\t 1.682288235735635\n",
            "7  \t [ 2.99019009 -0.55861176]\t 103.62108412983811\t -0.6512780061070701\t 1.0637576135248326\t 1.3687132301654217\n",
            "8  \t [ 0.45617309 -0.27281363]\t 0.3444411399726952\t -0.6512780061070701\t 1.2947792886052145\t 1.6153823241390315\n",
            "9  \t [-1.12325354 -0.04822243]\t 2.4182176916075724\t -0.6512780061070701\t 1.4305027301720485\t 1.5436230936008737\n",
            "10 \t [-2.80935068  1.02092284]\t 61.94297266345289\t -0.6512780061070701\t 1.3295854123862205\t 1.639566612785296\n",
            "11 \t [0.97245754 0.40183108]\t 2.035751073999185\t -0.6512780061070701\t 1.0228281318615704\t 1.6368814392655409\n",
            "12 \t [-0.85558797  0.86422022]\t 0.43793139958793914\t -0.6512780061070701\t 1.438822497511918\t 1.6514598614891172\n",
            "13 \t [ 1.2797968  -0.67362236]\t 0.5290234221302891\t -0.6512780061070701\t 1.373693024038912\t 1.7300893532704376\n",
            "14 \t [-0.60753883 -0.62213284]\t 0.636078501564998\t -0.6512780061070701\t 1.200044410801268\t 1.7095504396478354\n",
            "15 \t [1.41238693 1.55954324]\t 18.404610230805638\t -0.6512780061070701\t 1.422273540247669\t 1.6456466179679123\n",
            "16 \t [-1.13464931 -2.        ]\t 52.64961355870258\t -0.6512780061070701\t 1.4122089503247357\t 1.6498385607065789\n",
            "17 \t [-1.55469324 -0.64209176]\t 2.135659970469441\t -0.6512780061070701\t 1.4502325904814983\t 1.796076157658428\n",
            "18 \t [-1.59798736  0.53148668]\t 0.41109542060554327\t -0.6512780061070701\t 1.1033530225072095\t 1.7650605813896785\n",
            "19 \t [1.72391656 0.81595302]\t 2.6060252095191645\t -0.6512780061070701\t 1.2517047275542454\t 1.7028546211911106\n",
            "20 \t [-0.48834846  0.06580554]\t 0.7896387029089079\t -0.6512780061070701\t 1.1167905218893073\t 1.134119319719793\n"
          ]
        }
      ],
      "source": [
        "### EXACT STP EI GRADIENTS\n",
        "\n",
        "np.random.seed(run_num_5)\n",
        "surrogate_exact_5 = dtStudentProcess(cov_func, optimize=opt, nu = df)\n",
        "\n",
        "exact_5 = dGPGO(surrogate_exact_5, Acquisition_grad(util), objfunc, param)\n",
        "exact_5.run(init_evals=n_init, max_iter=iters)\n"
      ]
    },
    {
      "cell_type": "code",
      "execution_count": 39,
      "metadata": {
        "id": "04KJCEm_Ivvf",
        "colab": {
          "base_uri": "https://localhost:8080/"
        },
        "outputId": "bfea438f-20a2-4c32-bdc3-d1bb1f6c11e6"
      },
      "outputs": [
        {
          "output_type": "stream",
          "name": "stdout",
          "text": [
            "Evaluation \t Proposed point \t  Current eval. \t  Best eval. \t        Exact EI: StdDev. x \t Approx EI: StdDev. x \n",
            "init\t [ 2.35716091 -0.67208078]\t 11.995980169715628\t -0.3096187466378422\t    \t    \n",
            "init\t [ 1.92737474 -1.8332135 ]\t 31.167927894156623\t -0.3096187466378422\t    \t    \n",
            "init\t [-2.35405992  0.38020826]\t 13.013381745677465\t -0.3096187466378422\t    \t    \n",
            "init\t [ 0.17890417 -0.32477029]\t -0.3096187466378422\t -0.3096187466378422\t    \t    \n",
            "init\t [-0.9875529   0.49007773]\t 0.9989196280666852\t -0.3096187466378422\t    \t    \n",
            "1  \t [0.5049671 2.       ]\t 49.89888418736083\t -0.3096187466378422\t 1.948217761665057\t 1.7120893002989233\n",
            "2  \t [-1.24660285 -2.        ]\t 52.888806491966854\t -0.3096187466378422\t 1.948938286844879\t 2.2549717070206348\n",
            "3  \t [3. 2.]\t 162.89999999999998\t -0.3096187466378422\t 1.704477450590668\t 2.2820157446715315\n",
            "4  \t [-1.70805801  1.72097302]\t 22.374222241265805\t -0.3096187466378422\t 1.6559854343838538\t 2.153299865698536\n",
            "5  \t [-3. -2.]\t 162.89999999999998\t -0.3096187466378422\t 1.4264756880562002\t 1.6705902090970335\n",
            "6  \t [ 1.07611426 -0.06596719]\t 2.2452789878820907\t -0.3096187466378422\t 1.1062937295135837\t 1.5557605717846152\n",
            "7  \t [-2.93949014  1.58456008]\t 103.32816572636087\t -0.3096187466378422\t 1.433439259112353\t 1.6919601706347014\n",
            "8  \t [ 0.43982881 -1.45349417]\t 9.460833818186076\t -0.3096187466378422\t 1.1284475320554441\t 1.3226222748539165\n",
            "9  \t [-0.72675386 -0.12818096]\t 1.6044867525735187\t -0.3096187466378422\t 0.9543592633662141\t 1.2428718131576506\n",
            "\u001b[1m\u001b[92m10\u001b[0m\t \u001b[1m\u001b[92m[0.01941617 0.31792295]\u001b[0m\t \u001b[1m\u001b[92m-0.35575489114599146\u001b[0m\t \u001b[1m\u001b[92m-0.35575489114599146\u001b[0m\t \u001b[1m\u001b[92m0.8931976657681874\u001b[0m\t \u001b[1m\u001b[92m1.365320227879072\u001b[0m\n",
            "11 \t [-0.63986519  1.49365849]\t 11.338483721578001\t -0.35575489114599146\t 1.4299579812169076\t 1.812770781540195\n",
            "12 \t [-1.83430076 -0.30041342]\t 2.604340808490633\t -0.35575489114599146\t 1.462861177101066\t 1.7768520700796748\n",
            "13 \t [2.96826786 0.15473701]\t 100.57202204427742\t -0.35575489114599146\t 1.525213576352736\t 2.0236580806898807\n",
            "14 \t [-0.69086584 -1.02722486]\t 2.4096458468344037\t -0.35575489114599146\t 1.4037217786699439\t 1.6574793461675352\n",
            "15 \t [ 1.31811613 -0.78726781]\t 0.37845497264382266\t -0.35575489114599146\t 1.4490867781363919\t 1.7038101815107094\n",
            "16 \t [ 2.8738618  -1.29448475]\t 78.38972546419765\t -0.35575489114599146\t 1.4157690887316725\t 1.7664590194220229\n",
            "17 \t [-0.38405794 -1.97312679]\t 46.35919887525677\t -0.35575489114599146\t 1.5431825683873255\t 1.6045777640150418\n",
            "18 \t [ 1.76546168 -0.42636905]\t 0.8118541846181692\t -0.35575489114599146\t 1.4895352551936678\t 1.4675298927451619\n",
            "19 \t [ 0.96545614 -1.97134386]\t 45.135906422652226\t -0.35575489114599146\t 1.4668484787786042\t 1.3856794868887041\n",
            "20 \t [-1.32046461e+00  6.50769794e-04]\t 2.35616532040583\t -0.35575489114599146\t 1.2800270286913988\t 1.3275386935641849\n"
          ]
        }
      ],
      "source": [
        "### EXACT STP EI GRADIENTS\n",
        "\n",
        "np.random.seed(run_num_6)\n",
        "surrogate_exact_6 = dtStudentProcess(cov_func, optimize=opt, nu = df)\n",
        "\n",
        "exact_6 = dGPGO(surrogate_exact_6, Acquisition_grad(util), objfunc, param)\n",
        "exact_6.run(init_evals=n_init, max_iter=iters)\n"
      ]
    },
    {
      "cell_type": "code",
      "execution_count": 40,
      "metadata": {
        "id": "tAOkme3CIvyO",
        "colab": {
          "base_uri": "https://localhost:8080/"
        },
        "outputId": "4a421366-6623-4cc7-f4c6-22aa0b292a6b"
      },
      "outputs": [
        {
          "output_type": "stream",
          "name": "stdout",
          "text": [
            "Evaluation \t Proposed point \t  Current eval. \t  Best eval. \t        Exact EI: StdDev. x \t Approx EI: StdDev. x \n",
            "init\t [-2.54215026  1.11967517]\t 26.53843863832488\t -0.46481072558790276\t    \t    \n",
            "init\t [-0.36954461  0.89386071]\t -0.46481072558790276\t -0.46481072558790276\t    \t    \n",
            "init\t [2.86793707 0.15398348]\t 76.66051064695093\t -0.46481072558790276\t    \t    \n",
            "init\t [ 0.00672278 -1.71179547]\t 22.613010892757885\t -0.46481072558790276\t    \t    \n",
            "init\t [-1.38936612e+00 -4.69996698e-04]\t 2.294585534557751\t -0.46481072558790276\t    \t    \n",
            "1  \t [-3. -2.]\t 162.89999999999998\t -0.46481072558790276\t 1.7314281907059572\t 2.0029441788527937\n",
            "2  \t [0.77937282 2.        ]\t 51.28831959309001\t -0.46481072558790276\t 0.981344388105674\t 1.712926049389197\n",
            "3  \t [ 1.87919597 -1.98403343]\t 45.12337044436332\t -0.46481072558790276\t 1.558129605883402\t 2.0252352533503784\n",
            "4  \t [-0.4522468   0.37454932]\t 0.08129919115999285\t -0.46481072558790276\t 1.4087898233702871\t 1.489296982548402\n",
            "5  \t [-0.97779432  1.94087862]\t 41.99168144066137\t -0.46481072558790276\t 1.304567052104851\t 2.1257919816922337\n",
            "6  \t [3. 2.]\t 162.89999999999998\t -0.46481072558790276\t 1.9007160913947982\t 2.0622231861867455\n",
            "7  \t [ 0.51829184 -0.21148469]\t 0.6489184701425882\t -0.46481072558790276\t 1.25109030094067\t 1.416579997931607\n",
            "8  \t [0.74661974 0.70254965]\t 1.1596514116084298\t -0.46481072558790276\t 1.5197514545132844\t 1.9671422648139953\n",
            "9  \t [-0.62058906 -0.48144485]\t 0.8346083691834518\t -0.46481072558790276\t 1.2789718362836056\t 1.5999583841425635\n",
            "10 \t [-2.94154498  1.92471741]\t 127.73976738684357\t -0.46481072558790276\t 1.584487522265923\t 2.0518138948280544\n",
            "11 \t [-2.31564633 -0.35225896]\t 12.841688137109678\t -0.46481072558790276\t 1.4279846180200548\t 1.8718810926870282\n",
            "12 \t [-2.14897422  0.35591758]\t 5.308421728013228\t -0.46481072558790276\t 1.3410845176195683\t 1.8629969277113505\n",
            "13 \t [-1.17939325 -1.78786248]\t 32.589898791768825\t -0.46481072558790276\t 1.4628278439876419\t 1.9296671567375159\n",
            "14 \t [ 1.77966979 -0.56136043]\t 0.3312942875929016\t -0.46481072558790276\t 1.2930105898067346\t 1.5625056253795142\n",
            "15 \t [ 1.1173031  -0.96866747]\t 1.055469664955019\t -0.46481072558790276\t 1.1954650995742755\t 1.80261101969524\n",
            "16 \t [-1.21615744 -0.85883327]\t 2.671062603696017\t -0.46481072558790276\t 1.3675768982684364\t 1.5625807554294076\n",
            "17 \t [ 1.23050001 -0.11822457]\t 2.1985725313851106\t -0.46481072558790276\t 1.2292060565795442\t 1.7215983782459272\n",
            "18 \t [-2.88415998 -0.08489963]\t 80.04394931688324\t -0.46481072558790276\t 1.4342766375925895\t 1.866465891469408\n",
            "19 \t [-1.42473559  0.45816169]\t 0.9384823536837361\t -0.46481072558790276\t 1.1721599043500541\t 1.387041552909551\n",
            "20 \t [-0.02229762 -0.11408663]\t -0.046853318132794856\t -0.46481072558790276\t 1.2084032796323387\t 0.9264427298649041\n"
          ]
        }
      ],
      "source": [
        "### EXACT STP EI GRADIENTS\n",
        "\n",
        "np.random.seed(run_num_7)\n",
        "surrogate_exact_7 = dtStudentProcess(cov_func, optimize=opt, nu = df)\n",
        "\n",
        "exact_7 = dGPGO(surrogate_exact_7, Acquisition_grad(util), objfunc, param)\n",
        "exact_7.run(init_evals=n_init, max_iter=iters)\n"
      ]
    },
    {
      "cell_type": "code",
      "execution_count": 41,
      "metadata": {
        "id": "69-J3EF4Iv1S",
        "colab": {
          "base_uri": "https://localhost:8080/"
        },
        "outputId": "be849b4f-ff32-4e2f-973b-8573015302f3"
      },
      "outputs": [
        {
          "output_type": "stream",
          "name": "stdout",
          "text": [
            "Evaluation \t Proposed point \t  Current eval. \t  Best eval. \t        Exact EI: StdDev. x \t Approx EI: StdDev. x \n",
            "init\t [2.24057642 1.87416265]\t 48.82879577505094\t 0.03190064766213015\t    \t    \n",
            "init\t [2.21516724 0.12342277]\t 8.660623551418242\t 0.03190064766213015\t    \t    \n",
            "init\t [-1.60363003 -1.95440478]\t 48.28332373939171\t 0.03190064766213015\t    \t    \n",
            "init\t [-0.41718709 -0.39059456]\t 0.2801229037700297\t 0.03190064766213015\t    \t    \n",
            "init\t [ 0.13604803 -0.08643282]\t 0.03190064766213015\t 0.03190064766213015\t    \t    \n",
            "1  \t [-1.66005297  1.66225999]\t 18.778332222766345\t 0.03190064766213015\t 1.353727213963116\t 2.0456683383074803\n",
            "2  \t [ 1.44055706 -1.98827193]\t 46.07100132137815\t 0.03190064766213015\t 1.596653708361136\t 2.182330119377141\n",
            "\u001b[1m\u001b[92m3\u001b[0m\t \u001b[1m\u001b[92m[0.14751036 0.72863173]\u001b[0m\t \u001b[1m\u001b[92m-0.8026526192332897\u001b[0m\t \u001b[1m\u001b[92m-0.8026526192332897\u001b[0m\t \u001b[1m\u001b[92m0.9233169317142133\u001b[0m\t \u001b[1m\u001b[92m1.676361562124802\u001b[0m\n",
            "4  \t [-2.52897784  0.12610399]\t 26.50667860947816\t -0.8026526192332897\t 1.3382073438758544\t 1.9715442110008414\n",
            "5  \t [0.02037012 1.84700895]\t 32.9452625579242\t -0.8026526192332897\t 0.9274404736718385\t 1.6959003285968306\n",
            "6  \t [ 0.81994294 -0.14055694]\t 1.6486150633718126\t -0.8026526192332897\t 1.3041602182871663\t 1.8741989849040428\n",
            "7  \t [ 2.88710231 -0.58600511]\t 77.88540012550138\t -0.8026526192332897\t 1.4662857581447715\t 1.8209859609899286\n",
            "8  \t [-0.28511639  0.10115117]\t 0.2421197481394694\t -0.8026526192332897\t 1.55375028177981\t 1.803838707106418\n",
            "9  \t [1.29113671 0.54830769]\t 2.2433772382364925\t -0.8026526192332897\t 2.081944933509878\t 2.1122856024892815\n",
            "10 \t [-3. -2.]\t 162.89999999999998\t -0.8026526192332897\t 2.15520283914057\t 2.0970363771047733\n",
            "11 \t [-0.30557089 -1.85511713]\t 34.5310633901579\t -0.8026526192332897\t 1.8062219267997108\t 2.000625846146753\n",
            "12 \t [-1.3455807  -0.66852176]\t 2.2473981493921356\t -0.8026526192332897\t 1.6432223154725767\t 1.9971539880718727\n",
            "13 \t [3.        1.8505247]\t 147.66101000285153\t -0.8026526192332897\t 1.4469846581725156\t 1.710781907564516\n",
            "14 \t [-2.59376219  1.95370077]\t 71.3026987868534\t -0.8026526192332897\t 1.3856052503753407\t 1.8696285803823895\n",
            "15 \t [-1.4673528   0.68283684]\t 0.20685838593566153\t -0.8026526192332897\t 1.2399633304681743\t 1.628871151561568\n",
            "16 \t [1.31836745 1.54230892]\t 17.510218872507515\t -0.8026526192332897\t 1.3454236203205951\t 1.3522251994995051\n",
            "17 \t [-0.68979086  1.033237  ]\t 1.039585228300745\t -0.8026526192332897\t 1.3079212588629834\t 1.5490560098441755\n",
            "18 \t [-0.96590588 -1.04705332]\t 3.608418851586695\t -0.8026526192332897\t 1.3428311737381162\t 1.7391491286208325\n",
            "19 \t [-0.88672191  0.14250249]\t 1.8029154864748405\t -0.8026526192332897\t 1.030353996504624\t 0.8745697021308084\n",
            "20 \t [ 1.73636061 -0.43508788]\t 0.7368463302798259\t -0.8026526192332897\t 1.1382165719649928\t 1.7982857965024799\n"
          ]
        }
      ],
      "source": [
        "### EXACT STP EI GRADIENTS\n",
        "\n",
        "np.random.seed(run_num_8)\n",
        "surrogate_exact_8 = dtStudentProcess(cov_func, optimize=opt, nu = df)\n",
        "\n",
        "exact_8 = dGPGO(surrogate_exact_8, Acquisition_grad(util), objfunc, param)\n",
        "exact_8.run(init_evals=n_init, max_iter=iters)\n"
      ]
    },
    {
      "cell_type": "code",
      "execution_count": 42,
      "metadata": {
        "id": "vonm9jyuIv4t",
        "colab": {
          "base_uri": "https://localhost:8080/"
        },
        "outputId": "2a0ab0d5-3066-4db2-ff0a-e23d2c2c0791"
      },
      "outputs": [
        {
          "output_type": "stream",
          "name": "stdout",
          "text": [
            "Evaluation \t Proposed point \t  Current eval. \t  Best eval. \t        Exact EI: StdDev. x \t Approx EI: StdDev. x \n",
            "init\t [-2.93775508  0.00749837]\t 92.35857237145763\t 1.395407492769129\t    \t    \n",
            "init\t [-0.02536024 -1.46468188]\t 9.867672894921913\t 1.395407492769129\t    \t    \n",
            "init\t [-2.14733349 -1.1257653 ]\t 10.24680089963123\t 1.395407492769129\t    \t    \n",
            "init\t [-0.48895092 -1.00759533]\t 1.395407492769129\t 1.395407492769129\t    \t    \n",
            "init\t [-2.49564209 -0.61800544]\t 24.58298635463645\t 1.395407492769129\t    \t    \n",
            "1  \t [3. 2.]\t 162.89999999999998\t 1.395407492769129\t 1.4936301182816052\t 1.4064130493067746\n",
            "2  \t [-0.42447343  1.93696449]\t 41.12992716442278\t 1.395407492769129\t 1.596793955767884\t 1.9153480839656625\n",
            "3  \t [ 2.31498963 -1.67906603]\t 29.058549318696002\t 1.395407492769129\t 1.4601080570791707\t 2.4757177032244013\n",
            "4  \t [0.78697322 0.28962011]\t 1.6715508608297975\t 1.395407492769129\t 1.6272146488148203\t 1.7593059141188856\n",
            "5  \t [-1.82744088 -2.        ]\t 54.00750485483481\t 1.395407492769129\t 1.6020492823465533\t 1.4848701021628294\n",
            "\u001b[1m\u001b[92m6\u001b[0m\t \u001b[1m\u001b[92m[-0.34557433 -0.03499033]\u001b[0m\t \u001b[1m\u001b[92m0.4555054369177626\u001b[0m\t \u001b[1m\u001b[92m0.4555054369177626\u001b[0m\t \u001b[1m\u001b[92m1.0465009676608739\u001b[0m\t \u001b[1m\u001b[92m1.4993676171620673\u001b[0m\n",
            "7  \t [ 0.8910068  -0.53844871]\t 0.7155624596306207\t 0.4555054369177626\t 1.1420608254769606\t 1.6559497748948215\n",
            "8  \t [ 0.62871444 -2.        ]\t 48.01616555163378\t 0.4555054369177626\t 1.0696899699205569\t 1.61963357131144\n",
            "9  \t [ 2.76413191 -0.11731716]\t 56.26605661240446\t 0.4555054369177626\t 1.918679374594729\t 2.1242994473904497\n",
            "\u001b[1m\u001b[92m10\u001b[0m\t \u001b[1m\u001b[92m[ 0.01189927 -0.12449704]\u001b[0m\t \u001b[1m\u001b[92m-0.06195221085348817\u001b[0m\t \u001b[1m\u001b[92m-0.06195221085348817\u001b[0m\t \u001b[1m\u001b[92m0.9614295500559957\u001b[0m\t \u001b[1m\u001b[92m1.4486280100650777\u001b[0m\n",
            "11 \t [-1.97806541  1.88619075]\t 36.135843668932885\t -0.06195221085348817\t 1.8265704251980528\t 2.1973099931067344\n",
            "12 \t [-3. -2.]\t 162.89999999999998\t -0.06195221085348817\t 2.0561657259783046\t 2.1324571635686618\n",
            "13 \t [-1.49588012 -0.78522246]\t 2.3993869618493613\t -0.06195221085348817\t 1.3551701748999352\t 1.7217270192509082\n",
            "14 \t [1.07162853 2.        ]\t 52.47216885615525\t -0.06195221085348817\t 1.2017452351237068\t 2.0515182333967785\n",
            "15 \t [-0.82896287  0.89308429]\t 0.4791588961413251\t -0.06195221085348817\t 1.2246087784985986\t 1.6882156618146813\n",
            "16 \t [-0.89387714 -1.75881725]\t 29.501258199446738\t -0.06195221085348817\t 1.2796594722333439\t 1.6159240782431281\n",
            "17 \t [-1.38265879  0.41442941]\t 1.158933745271882\t -0.06195221085348817\t 1.2788221593173295\t 1.838491580122987\n",
            "18 \t [1.65943274 0.31683921]\t 2.2156324159344356\t -0.06195221085348817\t 1.078991386243798\t 1.6398504933307319\n",
            "19 \t [-0.92880347  0.11863362]\t 1.9361763582538274\t -0.06195221085348817\t 1.1842167603079552\t 1.2010760964621077\n",
            "\u001b[1m\u001b[92m20\u001b[0m\t \u001b[1m\u001b[92m[ 0.0173738 -0.7931555]\u001b[0m\t \u001b[1m\u001b[92m-0.9459101666741925\u001b[0m\t \u001b[1m\u001b[92m-0.9459101666741925\u001b[0m\t \u001b[1m\u001b[92m1.2958318032171217\u001b[0m\t \u001b[1m\u001b[92m1.8637518904651351\u001b[0m\n"
          ]
        }
      ],
      "source": [
        "### EXACT STP EI GRADIENTS\n",
        "\n",
        "np.random.seed(run_num_9)\n",
        "surrogate_exact_9 = dtStudentProcess(cov_func, optimize=opt, nu = df)\n",
        "\n",
        "exact_9 = dGPGO(surrogate_exact_9, Acquisition_grad(util), objfunc, param)\n",
        "exact_9.run(init_evals=n_init, max_iter=iters)\n"
      ]
    },
    {
      "cell_type": "code",
      "execution_count": 43,
      "metadata": {
        "id": "6amuYlUdIv7r",
        "colab": {
          "base_uri": "https://localhost:8080/"
        },
        "outputId": "1b80135a-1348-49c8-f50b-e7c8b4ede2d8"
      },
      "outputs": [
        {
          "output_type": "stream",
          "name": "stdout",
          "text": [
            "Evaluation \t Proposed point \t  Current eval. \t  Best eval. \t        Exact EI: StdDev. x \t Approx EI: StdDev. x \n",
            "init\t [ 1.62792386 -1.9169922 ]\t 38.25414770674631\t 0.7775687473184012\t    \t    \n",
            "init\t [0.80188941 0.99521553]\t 2.552651714051803\t 0.7775687473184012\t    \t    \n",
            "init\t [-0.00895793 -1.10081342]\t 1.0367630165263393\t 0.7775687473184012\t    \t    \n",
            "init\t [-1.81162281  1.04212285]\t 0.7775687473184012\t 0.7775687473184012\t    \t    \n",
            "init\t [-1.98533498 -1.64664074]\t 25.383481436170044\t 0.7775687473184012\t    \t    \n",
            "1  \t [3.         1.93535021]\t 155.84121972695567\t 0.7775687473184012\t 1.433276481033487\t 1.8987240463192738\n",
            "2  \t [-0.24407823  1.8043193 ]\t 29.163141953066063\t 0.7775687473184012\t 1.096952087699425\t 1.9574488384711881\n",
            "3  \t [-3.          0.34075951]\t 107.46718597182844\t 0.7775687473184012\t 1.4773786200827024\t 1.8139460622382082\n",
            "4  \t [ 2.8681837  -0.36662059]\t 74.84708310917392\t 0.7775687473184012\t 1.385320857711519\t 1.9326611759744747\n",
            "\u001b[1m\u001b[92m5\u001b[0m\t \u001b[1m\u001b[92m[-0.47732049  0.09790786]\u001b[0m\t \u001b[1m\u001b[92m0.7215636507102541\u001b[0m\t \u001b[1m\u001b[92m0.7215636507102541\u001b[0m\t \u001b[1m\u001b[92m1.1673262424443105\u001b[0m\t \u001b[1m\u001b[92m1.6148271802580176\u001b[0m\n",
            "6  \t [-0.54798149 -2.        ]\t 50.11676572216176\t 0.7215636507102541\t 1.2767513757322795\t 1.7555173479629798\n",
            "\u001b[1m\u001b[92m7\u001b[0m\t \u001b[1m\u001b[92m[ 0.45211679 -0.0402453 ]\u001b[0m\t \u001b[1m\u001b[92m0.7080766295933905\u001b[0m\t \u001b[1m\u001b[92m0.7080766295933905\u001b[0m\t \u001b[1m\u001b[92m1.1497225187981437\u001b[0m\t \u001b[1m\u001b[92m1.4967366712142014\u001b[0m\n",
            "8  \t [-3. -2.]\t 162.89999999999998\t 0.7080766295933905\t 1.2258810182778854\t 1.515718296200656\n",
            "9  \t [-0.82291737 -0.03970421]\t 1.8756278303503904\t 0.7080766295933905\t 1.163074358349973\t 1.34874846481041\n",
            "10 \t [0.66257069 0.09547953]\t 1.4066162350708864\t 0.7080766295933905\t 1.1360165299431246\t 1.3687819568791253\n",
            "11 \t [-1.60356237  1.87705691]\t 34.62006638724295\t 0.7080766295933905\t 1.0134822050386425\t 1.1544691643042353\n",
            "12 \t [-1.33788792 -1.04981352]\t 4.197858229231535\t 0.7080766295933905\t 1.5148425352602641\t 1.8906587352599025\n",
            "\u001b[1m\u001b[92m13\u001b[0m\t \u001b[1m\u001b[92m[ 0.76516669 -0.86399086]\u001b[0m\t \u001b[1m\u001b[92m0.2708790111427354\u001b[0m\t \u001b[1m\u001b[92m0.2708790111427354\u001b[0m\t \u001b[1m\u001b[92m1.4161284316929255\u001b[0m\t \u001b[1m\u001b[92m1.9269305277755164\u001b[0m\n",
            "14 \t [-1.10098557  0.79022718]\t 0.5486664561786603\t 0.2708790111427354\t 1.3293592783085841\t 1.9490365205691154\n",
            "15 \t [1.20779806 2.        ]\t 52.81661430770384\t 0.2708790111427354\t 1.42251965670527\t 1.887858572278234\n",
            "16 \t [2.06004518 0.60697073]\t 4.950845973616544\t 0.2708790111427354\t 1.4736913678860508\t 1.7379183071775017\n",
            "17 \t [1.50691932 0.51133974]\t 2.1557678398424205\t 0.2708790111427354\t 1.545032545754513\t 2.093905241162015\n",
            "18 \t [ 0.63612328 -1.75686422]\t 25.940669773020602\t 0.2708790111427354\t 1.35855748806306\t 2.083574096230058\n",
            "\u001b[1m\u001b[92m19\u001b[0m\t \u001b[1m\u001b[92m[0.19160971 0.73882074]\u001b[0m\t \u001b[1m\u001b[92m-0.7059807026872787\u001b[0m\t \u001b[1m\u001b[92m-0.7059807026872787\u001b[0m\t \u001b[1m\u001b[92m1.327915128474955\u001b[0m\t \u001b[1m\u001b[92m1.7759483236174187\u001b[0m\n",
            "20 \t [ 0.90721499 -0.01787432]\t 2.037977272282956\t -0.7059807026872787\t 1.1604852394458165\t 1.2432277718919424\n"
          ]
        }
      ],
      "source": [
        "### EXACT STP EI GRADIENTS\n",
        "\n",
        "np.random.seed(run_num_10)\n",
        "surrogate_exact_10 = dtStudentProcess(cov_func, optimize=opt, nu = df)\n",
        "\n",
        "exact_10 = dGPGO(surrogate_exact_10, Acquisition_grad(util), objfunc, param)\n",
        "exact_10.run(init_evals=n_init, max_iter=iters)\n"
      ]
    },
    {
      "cell_type": "code",
      "execution_count": 44,
      "metadata": {
        "id": "VwbLIP9cIv-F",
        "colab": {
          "base_uri": "https://localhost:8080/"
        },
        "outputId": "8841184a-2e93-4ad4-b931-e6c8b9890be0"
      },
      "outputs": [
        {
          "output_type": "stream",
          "name": "stdout",
          "text": [
            "Evaluation \t Proposed point \t  Current eval. \t  Best eval. \t        Exact EI: StdDev. x \t Approx EI: StdDev. x \n",
            "init\t [-1.91838187 -1.92209903]\t 46.39910375151002\t -0.6254688257880329\t    \t    \n",
            "init\t [-0.22068884  0.89973572]\t -0.6254688257880329\t -0.6254688257880329\t    \t    \n",
            "init\t [-0.47877837 -0.05829161]\t 0.8249470187639529\t -0.6254688257880329\t    \t    \n",
            "init\t [-2.92331511 -0.05051357]\t 88.99028404075307\t -0.6254688257880329\t    \t    \n",
            "init\t [2.65083991 1.40318036]\t 51.423425402262914\t -0.6254688257880329\t    \t    \n",
            "1  \t [ 1.77861452 -1.74525428]\t 24.013441075396727\t -0.6254688257880329\t 1.10107047727253\t 2.163895216707745\n",
            "2  \t [0.45680415 1.7651231 ]\t 27.91928344083832\t -0.6254688257880329\t 0.6821626465601874\t 1.663926348637913\n",
            "3  \t [ 0.45701216 -0.36865878]\t 0.10863673381118483\t -0.6254688257880329\t 1.4324136246801817\t 2.013957376647369\n",
            "4  \t [ 0.21513201 -1.47830049]\t 10.224552080551451\t -0.6254688257880329\t 1.343682630678952\t 1.789722724739355\n",
            "5  \t [-1.10366755  1.37388284]\t 7.543855712296749\t -0.6254688257880329\t 1.2857500728428695\t 1.3820235368612444\n",
            "6  \t [0.55767639 0.00490062]\t 1.0535577783136942\t -0.6254688257880329\t 1.1832040386195362\t 1.5427064205996648\n",
            "7  \t [ 2.86680778 -0.51410308]\t 73.81981862403502\t -0.6254688257880329\t 1.508239135867412\t 2.079006928145068\n",
            "8  \t [-2.04878527  1.79275865]\t 29.23194677573562\t -0.6254688257880329\t 1.823038940684768\t 2.0593967232080588\n",
            "9  \t [-0.28317953  2.        ]\t 47.741071280994916\t -0.6254688257880329\t 1.4964480341625406\t 1.847217475501387\n",
            "10 \t [-0.959885    0.70224425]\t 0.48958949179795697\t -0.6254688257880329\t 1.3950607039372203\t 1.8682331297562322\n",
            "11 \t [-3. -2.]\t 162.8999999999998\t -0.6254688257880329\t 1.8682941533200335\t 1.8917490416850844\n",
            "12 \t [-1.053306   -1.17589944]\t 5.663653130918377\t -0.6254688257880329\t 1.6742971657784933\t 2.1747297964497116\n",
            "13 \t [1.44587031 1.03480777]\t 4.029450200083554\t -0.6254688257880329\t 1.3763980105083098\t 1.9890637129052866\n",
            "14 \t [1.62748002 2.        ]\t 53.31106001597129\t -0.6254688257880329\t 1.3036101390564623\t 1.9233410735065577\n",
            "15 \t [-1.00937586 -1.97115199]\t 49.0824708283377\t -0.6254688257880329\t 1.5931744011319375\t 1.6444749987843486\n",
            "16 \t [ 0.8966181 -2.       ]\t 48.238433211239936\t -0.6254688257880329\t 1.6657309206004924\t 1.6994344826952443\n",
            "17 \t [0.76046187 0.85047447]\t 1.5215836982930981\t -0.6254688257880329\t 1.499234639026471\t 1.7044854442620143\n",
            "18 \t [1.48996817 0.09008851]\t 2.2794026979795152\t -0.6254688257880329\t 1.5949651168927055\t 1.9744057635493768\n",
            "19 \t [-0.07977466 -0.08575491]\t 0.0030127890193003617\t -0.6254688257880329\t 1.4487111906120729\t 1.4284450918457594\n",
            "20 \t [ 2.72867161 -1.65351429]\t 65.4063842386457\t -0.6254688257880329\t 1.7702064323151412\t 1.930590604258393\n"
          ]
        }
      ],
      "source": [
        "### EXACT STP EI GRADIENTS\n",
        "\n",
        "np.random.seed(run_num_11)\n",
        "surrogate_exact_11 = dtStudentProcess(cov_func, optimize=opt, nu = df)\n",
        "\n",
        "exact_11 = dGPGO(surrogate_exact_11, Acquisition_grad(util), objfunc, param)\n",
        "exact_11.run(init_evals=n_init, max_iter=iters)\n"
      ]
    },
    {
      "cell_type": "code",
      "execution_count": 45,
      "metadata": {
        "id": "MlUNFjc-JTBY",
        "colab": {
          "base_uri": "https://localhost:8080/"
        },
        "outputId": "3b909cc4-9177-463e-e7f3-0b53ed47a467"
      },
      "outputs": [
        {
          "output_type": "stream",
          "name": "stdout",
          "text": [
            "Evaluation \t Proposed point \t  Current eval. \t  Best eval. \t        Exact EI: StdDev. x \t Approx EI: StdDev. x \n",
            "init\t [-2.07502295  0.96019879]\t 2.6185857163917037\t 1.9967735906956543\t    \t    \n",
            "init\t [-1.42010991  0.13495757]\t 1.9967735906956543\t 1.9967735906956543\t    \t    \n",
            "init\t [-2.91255023  1.67498803]\t 101.67816714332157\t 1.9967735906956543\t    \t    \n",
            "init\t [ 2.40428912 -1.86631429]\t 47.44624883788006\t 1.9967735906956543\t    \t    \n",
            "init\t [ 2.74169602 -1.45116271]\t 58.32400185681089\t 1.9967735906956543\t    \t    \n",
            "1  \t [-0.38079302  1.46219043]\t 9.712270211606386\t 1.9967735906956543\t 2.033635102457796\t 1.9495225362901039\n",
            "2  \t [3. 2.]\t 162.89999999999998\t 1.9967735906956543\t 2.166093222016209\t 2.138608462967428\n",
            "3  \t [-3. -2.]\t 162.89999999999998\t 1.9967735906956543\t 1.9068839548815657\t 1.5000838347580014\n",
            "4  \t [-0.0330239 -2.       ]\t 48.07040760997795\t 1.9967735906956543\t 1.1541643192151836\t 1.1411508195904987\n",
            "\u001b[1m\u001b[92m5\u001b[0m\t \u001b[1m\u001b[92m[0.59110155 0.24203734]\u001b[0m\t \u001b[1m\u001b[92m1.0779200995566014\u001b[0m\t \u001b[1m\u001b[92m1.0779200995566014\u001b[0m\t \u001b[1m\u001b[92m0.8005230774438593\u001b[0m\t \u001b[1m\u001b[92m0.6009911911357021\u001b[0m\n",
            "6  \t [0.53372001 1.98993604]\t 48.92092245483155\t 1.0779200995566014\t 1.1882781884530238\t 1.0626712353117442\n",
            "7  \t [-0.62218497  0.13835625]\t 1.0919061337649754\t 1.0779200995566014\t 1.1797099061009189\t 0.9239457843421915\n",
            "8  \t [-1.31045838  1.70120437]\t 22.06165452701821\t 1.0779200995566014\t 1.4375906667742584\t 1.3819954945269428\n",
            "\u001b[1m\u001b[92m9\u001b[0m\t \u001b[1m\u001b[92m[ 1.08440747 -0.79300664]\u001b[0m\t \u001b[1m\u001b[92m0.5483269581255809\u001b[0m\t \u001b[1m\u001b[92m0.5483269581255809\u001b[0m\t \u001b[1m\u001b[92m1.1478414279566167\u001b[0m\t \u001b[1m\u001b[92m1.4262150339206254\u001b[0m\n",
            "10 \t [-2.65329981 -0.02892962]\t 40.45860617336203\t 0.5483269581255809\t 1.3989997946204713\t 1.6484016635935421\n",
            "11 \t [-1.12383084  0.7116422 ]\t 0.5741101854909141\t 0.5483269581255809\t 1.2847104169777728\t 1.3035971949090044\n",
            "12 \t [2.20461774 0.19702671]\t 8.390156586173864\t 0.5483269581255809\t 1.3115412706372973\t 1.199616234071799\n",
            "\u001b[1m\u001b[92m13\u001b[0m\t \u001b[1m\u001b[92m[ 0.07272209 -0.64632806]\u001b[0m\t \u001b[1m\u001b[92m-0.9988401434142266\u001b[0m\t \u001b[1m\u001b[92m-0.9988401434142266\u001b[0m\t \u001b[1m\u001b[92m1.335885500864031\u001b[0m\t \u001b[1m\u001b[92m1.5596388996150121\u001b[0m\n",
            "14 \t [ 1.52161023 -0.19019621]\t 1.7121860298267197\t -0.9988401434142266\t 1.4487965835944898\t 1.569870366946209\n",
            "15 \t [ 1.15787399 -1.9834551 ]\t 46.26680638512337\t -0.9988401434142266\t 1.5038796053356114\t 1.624390252068841\n",
            "16 \t [-1.17050777 -1.1892989 ]\t 6.132464656902977\t -0.9988401434142266\t 1.2362142867487147\t 1.4959826301180696\n",
            "17 \t [1.51397243 0.88100977]\t 2.7885194354216614\t -0.9988401434142266\t 1.2432053896921254\t 1.6789036351599442\n",
            "18 \t [0.6912841  0.17121005]\t 1.4728484462379807\t -0.9988401434142266\t 1.2167974035368754\t 1.0697061798427305\n",
            "19 \t [-0.72196913  0.05372835]\t 1.5113090134048612\t -0.9988401434142266\t 0.9874962512685932\t 0.6821668617124735\n",
            "20 \t [-0.79687003 -0.67119395]\t 1.3232348219051357\t -0.9988401434142266\t 1.3221789167091311\t 1.3863246753650382\n"
          ]
        }
      ],
      "source": [
        "### EXACT STP EI GRADIENTS\n",
        "\n",
        "np.random.seed(run_num_12)\n",
        "surrogate_exact_12 = dtStudentProcess(cov_func, optimize=opt, nu = df)\n",
        "\n",
        "exact_12 = dGPGO(surrogate_exact_12, Acquisition_grad(util), objfunc, param)\n",
        "exact_12.run(init_evals=n_init, max_iter=iters)\n"
      ]
    },
    {
      "cell_type": "code",
      "execution_count": 46,
      "metadata": {
        "id": "9BsKdU9eJTFL",
        "colab": {
          "base_uri": "https://localhost:8080/"
        },
        "outputId": "f49801bd-ffb4-4800-abe6-d2750a0e3fea"
      },
      "outputs": [
        {
          "output_type": "stream",
          "name": "stdout",
          "text": [
            "Evaluation \t Proposed point \t  Current eval. \t  Best eval. \t        Exact EI: StdDev. x \t Approx EI: StdDev. x \n",
            "init\t [ 1.66621446 -1.04983512]\t 0.752930921147986\t 0.752930921147986\t    \t    \n",
            "init\t [1.9456712  1.86299679]\t 41.05776363102951\t 0.752930921147986\t    \t    \n",
            "init\t [ 2.83560668 -0.18620301]\t 69.0134544723513\t 0.752930921147986\t    \t    \n",
            "init\t [0.65425478 1.10210606]\t 3.117452174069064\t 0.752930921147986\t    \t    \n",
            "init\t [0.84968007 0.88807292]\t 2.006601529383926\t 0.752930921147986\t    \t    \n",
            "1  \t [ 0.23587915 -1.47477622]\t 10.090273025412356\t 0.752930921147986\t 1.6281845977038312\t 0.6628193871729265\n",
            "\u001b[1m\u001b[92m2\u001b[0m\t \u001b[1m\u001b[92m[-1.47360489  0.67541883]\u001b[0m\t \u001b[1m\u001b[92m0.2091788113751344\u001b[0m\t \u001b[1m\u001b[92m0.2091788113751344\u001b[0m\t \u001b[1m\u001b[92m2.0942742275410615\u001b[0m\t \u001b[1m\u001b[92m1.6202267251173132\u001b[0m\n",
            "3  \t [-3. -2.]\t 162.89999999999998\t 0.2091788113751344\t 2.051008903645183\t 1.91022286308788\n",
            "4  \t [-0.83161724  2.        ]\t 48.20895978458556\t 0.2091788113751344\t 1.518744013854799\t 2.0279199460016395\n",
            "\u001b[1m\u001b[92m5\u001b[0m\t \u001b[1m\u001b[92m[-0.17068708 -0.00925109]\u001b[0m\t \u001b[1m\u001b[92m0.11599882883335777\u001b[0m\t \u001b[1m\u001b[92m0.11599882883335777\u001b[0m\t \u001b[1m\u001b[92m1.8299520075711109\u001b[0m\t \u001b[1m\u001b[92m2.159254356507096\u001b[0m\n",
            "6  \t [-2.63823727  0.5919663 ]\t 36.03176430078794\t 0.11599882883335777\t 1.64416059588742\t 1.5185322374665593\n",
            "7  \t [ 0.52707804 -0.30342734]\t 0.4620197021535548\t 0.11599882883335777\t 1.675942757715851\t 1.8991274455072777\n",
            "8  \t [-1.20963193 -0.59729715]\t 2.205586843322375\t 0.11599882883335777\t 1.49544116648059\t 1.912128687903035\n",
            "9  \t [ 1.21597094 -1.75620743]\t 25.9789879385469\t 0.11599882883335777\t 1.8089537744668227\t 2.1481795376597397\n",
            "10 \t [-0.53848857  0.00518057]\t 0.9885364768895852\t 0.11599882883335777\t 1.5197840713866995\t 1.754940675725308\n",
            "11 \t [ 2.69659614 -1.57666994]\t 56.73540221539666\t 0.11599882883335777\t 1.540048267014425\t 2.1784433473662737\n",
            "12 \t [-0.72497427 -0.55279923]\t 1.1225891127492542\t 0.11599882883335777\t 1.584534644277608\t 1.4787190893681283\n",
            "13 \t [-0.89681598 -1.671821  ]\t 23.59926880361908\t 0.11599882883335777\t 1.8193868163104192\t 1.8768678102987888\n",
            "14 \t [3. 2.]\t 162.89999999999998\t 0.11599882883335777\t 1.1871029563833955\t 1.913064474164015\n",
            "15 \t [-2.56341616  1.79739172]\t 54.40403487591364\t 0.11599882883335777\t 1.5549908446156453\t 1.8722595826420692\n",
            "16 \t [1.10003579 2.        ]\t 52.556011991383556\t 0.11599882883335777\t 1.3062574903656867\t 1.5764482379923686\n",
            "17 \t [ 1.43124116 -0.11218626]\t 2.036814302099442\t 0.11599882883335777\t 1.5900931393630806\t 1.7424760369441197\n",
            "\u001b[1m\u001b[92m18\u001b[0m\t \u001b[1m\u001b[92m[-0.15773283  0.81579393]\u001b[0m\t \u001b[1m\u001b[92m-0.9208665219197336\u001b[0m\t \u001b[1m\u001b[92m-0.9208665219197336\u001b[0m\t \u001b[1m\u001b[92m1.2066606198673386\u001b[0m\t \u001b[1m\u001b[92m1.2046866945224113\u001b[0m\n",
            "19 \t [ 0.75408279 -0.26593402]\t 1.1933996886445404\t -0.9208665219197336\t 1.1384382829414406\t 1.2175112312020016\n",
            "20 \t [0.08967044 0.06900332]\t 0.019259963508323364\t -0.9208665219197336\t 1.143952709097486\t 1.2801003349616875\n"
          ]
        }
      ],
      "source": [
        "### EXACT STP EI GRADIENTS\n",
        "\n",
        "np.random.seed(run_num_13)\n",
        "surrogate_exact_13 = dtStudentProcess(cov_func, optimize=opt, nu = df)\n",
        "\n",
        "exact_13 = dGPGO(surrogate_exact_13, Acquisition_grad(util), objfunc, param)\n",
        "exact_13.run(init_evals=n_init, max_iter=iters)\n"
      ]
    },
    {
      "cell_type": "code",
      "execution_count": 47,
      "metadata": {
        "id": "k6GjFBr1JTJf",
        "colab": {
          "base_uri": "https://localhost:8080/"
        },
        "outputId": "366df09d-ab74-4b8c-cbf6-01882c8655c6"
      },
      "outputs": [
        {
          "output_type": "stream",
          "name": "stdout",
          "text": [
            "Evaluation \t Proposed point \t  Current eval. \t  Best eval. \t        Exact EI: StdDev. x \t Approx EI: StdDev. x \n",
            "init\t [0.08366006 1.09266021]\t 1.0453292732107575\t -1.029299726828387\t    \t    \n",
            "init\t [ 2.22256611 -1.96781221]\t 48.81113313056442\t -1.029299726828387\t    \t    \n",
            "init\t [-1.14158445  1.83041496]\t 31.794043287944216\t -1.029299726828387\t    \t    \n",
            "init\t [ 0.07870027 -0.7268623 ]\t -1.029299726828387\t -1.029299726828387\t    \t    \n",
            "init\t [ 0.23519962 -1.11498023]\t 1.161934062902255\t -1.029299726828387\t    \t    \n",
            "1  \t [2.13633803 2.        ]\t 58.474655228320884\t -1.029299726828387\t 2.074095546775086\t 1.7956208163224197\n",
            "2  \t [-1.70819975 -1.78918524]\t 33.31491597310788\t -1.029299726828387\t 1.7667169120623019\t 1.4631122982779006\n",
            "3  \t [-2.62038556  0.28589381]\t 35.318125044471785\t -1.029299726828387\t 1.2787316124930084\t 1.557273101284742\n",
            "4  \t [0.6180226  0.06422126]\t 1.2632791619555415\t -1.029299726828387\t 1.3752661919593088\t 1.6054347433689664\n",
            "5  \t [-0.19108994  0.05099186]\t 0.12315995192178304\t -1.029299726828387\t 1.1276396135839577\t 1.3619326159717713\n",
            "6  \t [ 2.98469085 -0.01061268]\t 104.60104920671759\t -1.029299726828387\t 1.022140867046554\t 1.6375931714054002\n",
            "7  \t [-3. -2.]\t 162.89999999999998\t -1.029299726828387\t 1.3652540786756058\t 2.1051603120989055\n",
            "8  \t [-0.66512549 -1.94458781]\t 44.75174589511355\t -1.029299726828387\t 1.7671416341710577\t 1.9465550300125176\n",
            "9  \t [-2.78759204  1.7019334 ]\t 77.91400476455041\t -1.029299726828387\t 1.4625680564044359\t 1.5680365348090204\n",
            "10 \t [-1.34959722 -0.64326553]\t 2.230891324893611\t -1.029299726828387\t 1.774465871156741\t 1.731329415713772\n",
            "11 \t [-0.17440728 -0.14436058]\t 0.06329280188114628\t -1.029299726828387\t 1.395496491533793\t 1.33641670923705\n",
            "12 \t [ 0.92598486 -0.86335213]\t 0.537361188728809\t -1.029299726828387\t 1.4926891459984724\t 1.8262906777550265\n",
            "13 \t [-1.3315274   0.82233871]\t 0.3777022429664175\t -1.029299726828387\t 1.5353891886409297\t 1.6302033099362094\n",
            "14 \t [0.90388532 1.89292098]\t 40.78229876531316\t -1.029299726828387\t 1.4616370284776798\t 1.663765080947041\n",
            "15 \t [3. 2.]\t 162.89999999999998\t -1.029299726828387\t 1.5984255018190117\t 1.7198772127451383\n",
            "16 \t [ 0.96508899 -1.98548504]\t 46.65060575372383\t -1.029299726828387\t 1.3914312625271916\t 1.5995234160676473\n",
            "17 \t [1.37856523 0.99718724]\t 3.6575131546763857\t -1.029299726828387\t 1.4424739577420056\t 1.6825015792731952\n",
            "18 \t [-0.7383317   0.05252441]\t 1.5606902359238508\t -1.029299726828387\t 0.9011081830425197\t 0.9196270250292141\n",
            "19 \t [0.79392502 0.09605421]\t 1.8101084682628157\t -1.029299726828387\t 1.0137537871422955\t 1.0650175548569356\n",
            "20 \t [0.31210719 0.03553876]\t 0.3760713233073387\t -1.029299726828387\t 1.0488697588232592\t 1.3296591728304346\n"
          ]
        }
      ],
      "source": [
        "### EXACT STP EI GRADIENTS\n",
        "\n",
        "np.random.seed(run_num_14)\n",
        "surrogate_exact_14 = dtStudentProcess(cov_func, optimize=opt, nu = df)\n",
        "\n",
        "exact_14 = dGPGO(surrogate_exact_14, Acquisition_grad(util), objfunc, param)\n",
        "exact_14.run(init_evals=n_init, max_iter=iters)\n"
      ]
    },
    {
      "cell_type": "code",
      "execution_count": 48,
      "metadata": {
        "id": "dPS8WB3aJTN6",
        "colab": {
          "base_uri": "https://localhost:8080/"
        },
        "outputId": "890ff8ed-311b-425a-bfb5-37e0f41f0d8b"
      },
      "outputs": [
        {
          "output_type": "stream",
          "name": "stdout",
          "text": [
            "Evaluation \t Proposed point \t  Current eval. \t  Best eval. \t        Exact EI: StdDev. x \t Approx EI: StdDev. x \n",
            "init\t [ 2.09290618 -1.2844163 ]\t 6.84252100896936\t 2.1163170846379233\t    \t    \n",
            "init\t [-2.67382071 -0.55384622]\t 43.69785230561242\t 2.1163170846379233\t    \t    \n",
            "init\t [-1.34759443  0.1200009 ]\t 2.1163170846379233\t 2.1163170846379233\t    \t    \n",
            "init\t [-1.16448651 -0.78210256]\t 2.3544087277459513\t 2.1163170846379233\t    \t    \n",
            "init\t [-2.32955234 -1.00040394]\t 15.469119251600274\t 2.1163170846379233\t    \t    \n",
            "\u001b[1m\u001b[92m1\u001b[0m\t \u001b[1m\u001b[92m[0.06134716 0.497386  ]\u001b[0m\t \u001b[1m\u001b[92m-0.6992210784880215\u001b[0m\t \u001b[1m\u001b[92m-0.6992210784880215\u001b[0m\t \u001b[1m\u001b[92m1.3302255160459608\u001b[0m\t \u001b[1m\u001b[92m1.4987426678780162\u001b[0m\n",
            "2  \t [-0.91639636  2.        ]\t 48.24275884336802\t -0.6992210784880215\t 1.4500408937165779\t 1.8983075023692009\n",
            "3  \t [3. 2.]\t 162.89999999999998\t -0.6992210784880215\t 1.7417022587210456\t 2.0249201288039513\n",
            "4  \t [ 0.03662474 -1.80057353]\t 29.015098902185894\t -0.6992210784880215\t 1.2840950106170455\t 1.8370897453369812\n",
            "5  \t [-2.83192397  1.65653321]\t 83.40267621557427\t -0.6992210784880215\t 1.6430659944019887\t 1.991945390598682\n",
            "6  \t [1.23006079 0.10097355]\t 2.483082868642941\t -0.6992210784880215\t 1.5668452456805215\t 1.8687371835490219\n",
            "7  \t [ 2.94694232 -0.51379023]\t 92.39214050669591\t -0.6992210784880215\t 1.1862188064018078\t 1.7629465905696764\n",
            "8  \t [ 0.12418652 -0.20597216]\t -0.12688681907659943\t -0.6992210784880215\t 1.6193294776446319\t 1.880661331770516\n",
            "9  \t [-3. -2.]\t 162.89999999999998\t -0.6992210784880215\t 1.9773635750402978\t 1.7758309305753375\n",
            "10 \t [ 1.18896205 -1.95384955]\t 43.10054484329797\t -0.6992210784880215\t 1.007538505321956\t 1.2253077137895052\n",
            "11 \t [0.67445998 1.68301222]\t 23.314319784286827\t -0.6992210784880215\t 0.7678226762275017\t 1.4092289651613432\n",
            "12 \t [-0.679487   -0.09006299]\t 1.4609762424244415\t -0.6992210784880215\t 1.0116804071381127\t 1.5117438184932237\n",
            "13 \t [ 1.17177735 -0.72388871]\t 0.5500676311538879\t -0.6992210784880215\t 1.348310760944881\t 1.845576429893117\n",
            "14 \t [-1.41073247 -1.89833644]\t 42.47998450724773\t -0.6992210784880215\t 1.5240921720646052\t 1.8492438316512496\n",
            "15 \t [-1.86375069 -0.41145341]\t 2.7309796707809078\t -0.6992210784880215\t 1.1686032406911981\t 1.3094871160794999\n",
            "16 \t [-0.7664788   0.78431929]\t 0.14462592642540972\t -0.6992210784880215\t 1.1819650440670442\t 1.819300203715543\n",
            "17 \t [-1.73377391 -0.86710105]\t 2.8595204930688016\t -0.6992210784880215\t 1.3808994502986307\t 1.604590651655736\n",
            "18 \t [0.47137359 0.14583185]\t 0.774234994012446\t -0.6992210784880215\t 1.197318526138924\t 1.3315256460821776\n",
            "19 \t [1.40962959 1.06766808]\t 4.414808986001351\t -0.6992210784880215\t 1.1906226207296735\t 1.4117197807176685\n",
            "20 \t [-0.95209802 -0.1349155 ]\t 2.20560419225444\t -0.6992210784880215\t 1.1686218696897246\t 1.2441776709390477\n"
          ]
        }
      ],
      "source": [
        "### EXACT STP EI GRADIENTS\n",
        "\n",
        "np.random.seed(run_num_15)\n",
        "surrogate_exact_15 = dtStudentProcess(cov_func, optimize=opt, nu = df)\n",
        "\n",
        "exact_15 = dGPGO(surrogate_exact_15, Acquisition_grad(util), objfunc, param)\n",
        "exact_15.run(init_evals=n_init, max_iter=iters)\n"
      ]
    },
    {
      "cell_type": "code",
      "execution_count": 49,
      "metadata": {
        "id": "lu8ki9XIQPPN",
        "colab": {
          "base_uri": "https://localhost:8080/"
        },
        "outputId": "cba93d9e-5d9b-4df4-b22b-a3d295d75246"
      },
      "outputs": [
        {
          "output_type": "stream",
          "name": "stdout",
          "text": [
            "Evaluation \t Proposed point \t  Current eval. \t  Best eval. \t        Exact EI: StdDev. x \t Approx EI: StdDev. x \n",
            "init\t [-1.66025353  0.09265337]\t 1.8632773736203017\t 1.8632773736203017\t    \t    \n",
            "init\t [ 0.30420874 -1.8175922 ]\t 30.24114424375299\t 1.8632773736203017\t    \t    \n",
            "init\t [-0.83562699 -1.10767623]\t 3.922061281476444\t 1.8632773736203017\t    \t    \n",
            "init\t [ 1.13235697 -1.3450743 ]\t 6.7121671493737685\t 1.8632773736203017\t    \t    \n",
            "init\t [-2.5780508   1.76404344]\t 53.42443470756798\t 1.8632773736203017\t    \t    \n",
            "1  \t [2.79397277 0.56248615]\t 62.52823122476681\t 1.8632773736203017\t 1.7729635039730078\t 2.2085757755719375\n",
            "2  \t [-3.         -1.88824474]\t 151.15311502016874\t 1.8632773736203017\t 1.8860450943981246\t 1.8959299584253055\n",
            "3  \t [0.28151036 2.        ]\t 48.86699041736814\t 1.8632773736203017\t 1.2266258503707133\t 1.7161088482303601\n",
            "\u001b[1m\u001b[92m4\u001b[0m\t \u001b[1m\u001b[92m[-0.12904515 -0.01764584]\u001b[0m\t \u001b[1m\u001b[92m0.06706178397838826\u001b[0m\t \u001b[1m\u001b[92m0.06706178397838826\u001b[0m\t \u001b[1m\u001b[92m1.2730335000042867\u001b[0m\t \u001b[1m\u001b[92m1.7832779042531413\u001b[0m\n",
            "5  \t [-0.54095943 -0.23049217]\t 0.9225353942453041\t 0.06706178397838826\t 1.4667342965854415\t 1.6778782204768692\n",
            "6  \t [ 2.68268432 -1.59170878]\t 55.54104474368225\t 0.06706178397838826\t 1.9614465199631057\t 2.1267172368595566\n",
            "7  \t [ 1.08571063 -0.33179794]\t 1.5909811739484991\t 0.06706178397838826\t 1.582842379754815\t 1.6845101365085922\n",
            "8  \t [3. 2.]\t 162.89999999999998\t 0.06706178397838826\t 1.2523514351381242\t 1.5912400235018818\n",
            "9  \t [-3.          0.09068007]\t 108.59533875274322\t 0.06706178397838826\t 1.3465907980075846\t 1.493688878618248\n",
            "10 \t [-0.84317827  0.83014367]\t 0.3452722068971268\t 0.06706178397838826\t 1.3486951998371284\t 1.704778151260349\n",
            "11 \t [0.92492933 0.73734994]\t 1.7833828855018656\t 0.06706178397838826\t 1.322558266819155\t 1.6604275715805104\n",
            "12 \t [-1.36704954 -0.70501457]\t 2.28048857180308\t 0.06706178397838826\t 1.4587647846972145\t 1.6122769166205568\n",
            "13 \t [ 2.12741437 -0.48854691]\t 4.223951348794108\t 0.06706178397838826\t 1.1228531686061216\t 1.4013616131334687\n",
            "14 \t [-1.19688404 -1.84415342]\t 37.268703939857176\t 0.06706178397838826\t 1.1488277686644384\t 1.4464954666060184\n",
            "\u001b[1m\u001b[92m15\u001b[0m\t \u001b[1m\u001b[92m[0.18685926 0.66345693]\u001b[0m\t \u001b[1m\u001b[92m-0.7245913655168056\u001b[0m\t \u001b[1m\u001b[92m-0.7245913655168056\u001b[0m\t \u001b[1m\u001b[92m1.073784081404423\u001b[0m\t \u001b[1m\u001b[92m1.5975476362274723\u001b[0m\n",
            "16 \t [-1.01280734  1.44173385]\t 9.760899805833391\t -0.7245913655168056\t 1.0487450026568572\t 1.349868162763308\n",
            "17 \t [-1.59533328  0.98849263]\t 0.4064949546984436\t -0.7245913655168056\t 1.221340024804705\t 1.7472103335628695\n",
            "18 \t [0.64916579 0.26133612]\t 1.2527910193486511\t -0.7245913655168056\t 1.197065052676578\t 1.5776953865541137\n",
            "\u001b[1m\u001b[92m19\u001b[0m\t \u001b[1m\u001b[92m[ 0.30709116 -0.80183574]\u001b[0m\t \u001b[1m\u001b[92m-0.8056853774067756\u001b[0m\t \u001b[1m\u001b[92m-0.8056853774067756\u001b[0m\t \u001b[1m\u001b[92m1.351980547325082\u001b[0m\t \u001b[1m\u001b[92m1.5693172490674416\u001b[0m\n",
            "20 \t [-0.80234693  0.11069748]\t 1.6564420646875044\t -0.8056853774067756\t 1.1705256448104089\t 1.011344919590885\n"
          ]
        }
      ],
      "source": [
        "### EXACT STP EI GRADIENTS\n",
        "\n",
        "np.random.seed(run_num_16)\n",
        "surrogate_exact_16 = dtStudentProcess(cov_func, optimize=opt, nu = df)\n",
        "\n",
        "exact_16 = dGPGO(surrogate_exact_16, Acquisition_grad(util), objfunc, param)\n",
        "exact_16.run(init_evals=n_init, max_iter=iters)\n"
      ]
    },
    {
      "cell_type": "code",
      "execution_count": 50,
      "metadata": {
        "id": "yU2SflSsJTUs",
        "colab": {
          "base_uri": "https://localhost:8080/"
        },
        "outputId": "9da1645b-367e-47a0-b321-eae3a1f83fc9"
      },
      "outputs": [
        {
          "output_type": "stream",
          "name": "stdout",
          "text": [
            "Evaluation \t Proposed point \t  Current eval. \t  Best eval. \t        Exact EI: StdDev. x \t Approx EI: StdDev. x \n",
            "init\t [-1.23200998  0.12234702]\t 2.189206652278967\t 1.7722768782964888\t    \t    \n",
            "init\t [-1.85087528 -1.72839857]\t 29.406067820453675\t 1.7722768782964888\t    \t    \n",
            "init\t [1.72191276 0.62533409]\t 2.2113401446731897\t 1.7722768782964888\t    \t    \n",
            "init\t [0.82512538 0.30241158]\t 1.7722768782964888\t 1.7722768782964888\t    \t    \n",
            "init\t [-2.7656225  -0.56874558]\t 57.5922315952177\t 1.7722768782964888\t    \t    \n",
            "1  \t [-0.85289729  1.94586621]\t 42.468761535884376\t 1.7722768782964888\t 1.421289030148379\t 1.9037521923340597\n",
            "2  \t [ 2.00014779 -2.        ]\t 47.734930206972756\t 1.7722768782964888\t 1.6367315768744046\t 2.365903632864196\n",
            "3  \t [3. 2.]\t 162.89999999999998\t 1.7722768782964888\t 1.3934127466052042\t 1.590025232006182\n",
            "\u001b[1m\u001b[92m4\u001b[0m\t \u001b[1m\u001b[92m[-0.013755   -0.77119872]\u001b[0m\t \u001b[1m\u001b[92m-0.9527271127448717\u001b[0m\t \u001b[1m\u001b[92m-0.9527271127448717\u001b[0m\t \u001b[1m\u001b[92m1.4454884223815947\u001b[0m\t \u001b[1m\u001b[92m2.004649038566336\u001b[0m\n",
            "5  \t [-0.15582747 -1.99661846]\t 48.02934189637039\t -0.9527271127448717\t 1.1062515864127023\t 1.9401969342713654\n",
            "6  \t [0.07571978 0.14233465]\t -0.04575235902663552\t -0.9527271127448717\t 1.0852556545798875\t 1.8190173057165047\n",
            "7  \t [ 1.3442314  -0.17573722]\t 1.9818084216676646\t -0.9527271127448717\t 1.0406915010498532\t 1.8183117449447177\n",
            "8  \t [ 2.72715585 -0.42443492]\t 48.97246917624302\t -0.9527271127448717\t 1.3121139848105745\t 1.8786995399496431\n",
            "9  \t [-2.77841674  1.45843178]\t 64.61411498315542\t -0.9527271127448717\t 1.8024839645357436\t 2.3134122989524077\n",
            "10 \t [0.65290186 0.56038897]\t 0.8535514353222081\t -0.9527271127448717\t 0.9876486254373128\t 1.1184544833148509\n",
            "11 \t [0.80288759 2.        ]\t 51.40093364742912\t -0.9527271127448717\t 1.8666093174217693\t 1.7817743333945226\n",
            "12 \t [-0.73486644 -0.53424401]\t 1.176968061511512\t -0.9527271127448717\t 1.4759766589492598\t 1.47341964677899\n",
            "13 \t [-3. -2.]\t 162.89999999999998\t -0.9527271127448717\t 1.55022732246114\t 1.5621180258294258\n",
            "14 \t [ 0.83004057 -0.90610984]\t 0.5282079432911477\t -0.9527271127448717\t 1.200537778836674\t 1.681602754625091\n",
            "15 \t [-0.58118065  0.81007684]\t -0.24883484196106154\t -0.9527271127448717\t 1.3660942580223534\t 1.6174828743533365\n",
            "16 \t [-1.39692654 -1.02604293]\t 3.9413299511417477\t -0.9527271127448717\t 1.3763232796228178\t 1.7089007604525237\n",
            "17 \t [3.         0.51187345]\t 109.66216887569838\t -0.9527271127448717\t 1.1740096896991277\t 1.7923336003177108\n",
            "18 \t [-1.57676786  1.08853999]\t 1.2469424373093392\t -0.9527271127448717\t 1.3045220364557868\t 1.7749804309892834\n",
            "19 \t [-1.18099597 -1.50906322]\t 15.81520514334142\t -0.9527271127448717\t 1.3682066383727758\t 1.4101297808549749\n",
            "20 \t [ 0.33661022 -0.09533194]\t 0.35863807779856305\t -0.9527271127448717\t 1.2301668412332114\t 1.0263877519374984\n"
          ]
        }
      ],
      "source": [
        "### EXACT STP EI GRADIENTS\n",
        "\n",
        "np.random.seed(run_num_17)\n",
        "surrogate_exact_17 = dtStudentProcess(cov_func, optimize=opt, nu = df)\n",
        "\n",
        "exact_17 = dGPGO(surrogate_exact_17, Acquisition_grad(util), objfunc, param)\n",
        "exact_17.run(init_evals=n_init, max_iter=iters)\n"
      ]
    },
    {
      "cell_type": "code",
      "execution_count": 51,
      "metadata": {
        "id": "eVEhyZ9BQS-1",
        "colab": {
          "base_uri": "https://localhost:8080/"
        },
        "outputId": "13f66f52-07b8-43f9-95c3-99d26faad54e"
      },
      "outputs": [
        {
          "output_type": "stream",
          "name": "stdout",
          "text": [
            "Evaluation \t Proposed point \t  Current eval. \t  Best eval. \t        Exact EI: StdDev. x \t Approx EI: StdDev. x \n",
            "init\t [0.90224545 0.02181349]\t 2.062169771852028\t 2.062169771852028\t    \t    \n",
            "init\t [ 2.27160883 -1.2726391 ]\t 11.64729291207819\t 2.062169771852028\t    \t    \n",
            "init\t [2.11339841 1.00054514]\t 7.792128760671214\t 2.062169771852028\t    \t    \n",
            "init\t [0.99661    1.95158179]\t 46.96206222999227\t 2.062169771852028\t    \t    \n",
            "init\t [-1.45818946 -1.8867763 ]\t 41.4190528039297\t 2.062169771852028\t    \t    \n",
            "1  \t [-2.93389983  1.13961102]\t 89.63634825741386\t 2.062169771852028\t 1.7891323431717607\t 2.2731013494823062\n",
            "2  \t [ 0.7571308 -1.9917567]\t 47.24065779877466\t 2.062169771852028\t 1.6765071240430063\t 1.7613691560476719\n",
            "3  \t [3. 2.]\t 162.89999999999998\t 2.062169771852028\t 1.482301183570424\t 1.8207959533082532\n",
            "\u001b[1m\u001b[92m4\u001b[0m\t \u001b[1m\u001b[92m[-0.54671068  0.47475898]\u001b[0m\t \u001b[1m\u001b[92m0.05893718115105817\u001b[0m\t \u001b[1m\u001b[92m0.05893718115105817\u001b[0m\t \u001b[1m\u001b[92m1.3941085307077894\u001b[0m\t \u001b[1m\u001b[92m2.0085329993936285\u001b[0m\n",
            "5  \t [-3. -2.]\t 162.89999999999998\t 0.05893718115105817\t 1.1820811876661395\t 2.086410861071758\n",
            "6  \t [ 2.55336361 -0.19697835]\t 28.538898759259734\t 0.05893718115105817\t 0.9652032868166563\t 1.6459147082718053\n",
            "7  \t [-0.62482454  1.45172882]\t 9.69074508724797\t 0.05893718115105817\t 1.1246002902999754\t 1.6160501516348849\n",
            "8  \t [-0.44014893 -0.34227758]\t 0.4354689086846478\t 0.05893718115105817\t 0.9445056826823234\t 0.997654142302399\n",
            "\u001b[1m\u001b[92m9\u001b[0m\t \u001b[1m\u001b[92m[0.22439957 0.38371591]\u001b[0m\t \u001b[1m\u001b[92m-0.21999154879524285\u001b[0m\t \u001b[1m\u001b[92m-0.21999154879524285\u001b[0m\t \u001b[1m\u001b[92m1.0622669239881417\u001b[0m\t \u001b[1m\u001b[92m1.6941867467165266\u001b[0m\n",
            "10 \t [-1.07766867  0.01813343]\t 2.314328936181978\t -0.21999154879524285\t 1.2736808193677016\t 1.5472087545191102\n",
            "11 \t [1.47509304 0.66532422]\t 2.189595282377065\t -0.21999154879524285\t 1.3696546695084229\t 2.092884840402516\n",
            "12 \t [ 0.01351515 -0.03958096]\t -0.006061166674102227\t -0.21999154879524285\t 0.9274583449536834\t 1.331259176250952\n",
            "13 \t [ 2.87499839 -1.82536482]\t 103.65834348020223\t -0.21999154879524285\t 1.5035931189793785\t 1.946697956560041\n",
            "14 \t [-2.33210126 -0.31856533]\t 13.640684625398036\t -0.21999154879524285\t 1.35728666948032\t 1.8833326325423878\n",
            "15 \t [ 1.62814366 -1.02446353]\t 0.5958065946845705\t -0.21999154879524285\t 1.3184252830012182\t 1.737700826358379\n",
            "16 \t [-1.47554077 -0.78553837]\t 2.4084089882407547\t -0.21999154879524285\t 1.4731646920415375\t 1.6843139938224732\n",
            "17 \t [-1.35706828  1.71416616]\t 22.78244827961764\t -0.21999154879524285\t 1.4673393699707522\t 1.9709420810718485\n",
            "18 \t [-0.56769012 -1.387593  ]\t 8.997087784170377\t -0.21999154879524285\t 1.4446321689572692\t 1.9113856257187523\n",
            "19 \t [ 1.93336005 -0.7058966 ]\t 0.6543511628586479\t -0.21999154879524285\t 1.359217810370526\t 1.8752943118416725\n",
            "20 \t [ 1.26578343 -0.12090024]\t 2.178331299734357\t -0.21999154879524285\t 0.780407274225066\t 1.1827211204868375\n"
          ]
        }
      ],
      "source": [
        "### EXACT STP EI GRADIENTS\n",
        "\n",
        "np.random.seed(run_num_18)\n",
        "surrogate_exact_18 = dtStudentProcess(cov_func, optimize=opt, nu = df)\n",
        "\n",
        "exact_18 = dGPGO(surrogate_exact_18, Acquisition_grad(util), objfunc, param)\n",
        "exact_18.run(init_evals=n_init, max_iter=iters)\n"
      ]
    },
    {
      "cell_type": "code",
      "execution_count": 52,
      "metadata": {
        "id": "B6gTz1ojQUxn",
        "colab": {
          "base_uri": "https://localhost:8080/"
        },
        "outputId": "7b8423b7-7079-465a-eb9b-93cba26f2b55"
      },
      "outputs": [
        {
          "output_type": "stream",
          "name": "stdout",
          "text": [
            "Evaluation \t Proposed point \t  Current eval. \t  Best eval. \t        Exact EI: StdDev. x \t Approx EI: StdDev. x \n",
            "init\t [-2.41479839  1.04499887]\t 15.890475442873509\t 6.578088852480828\t    \t    \n",
            "init\t [-1.51837216 -1.44747325]\t 13.520839509777993\t 6.578088852480828\t    \t    \n",
            "init\t [-1.01132062 -1.66800174]\t 23.772158573571232\t 6.578088852480828\t    \t    \n",
            "init\t [1.03186249 1.22637519]\t 6.578088852480828\t 6.578088852480828\t    \t    \n",
            "init\t [2.89645149 0.54264294]\t 83.31828503667734\t 6.578088852480828\t    \t    \n",
            "1  \t [-0.38620012  2.        ]\t 47.778591534031925\t 6.578088852480828\t 1.891916377953788\t 2.0722434971732717\n",
            "2  \t [ 1.29082589 -1.8233282 ]\t 30.934823232474344\t 6.578088852480828\t 2.2387027280868312\t 2.318744786755643\n",
            "3  \t [-3. -2.]\t 162.89999999999998\t 6.578088852480828\t 2.12730655812531\t 1.8234348722633855\n",
            "\u001b[1m\u001b[92m4\u001b[0m\t \u001b[1m\u001b[92m[-0.27915424 -0.15846995]\u001b[0m\t \u001b[1m\u001b[92m0.24542283535795584\u001b[0m\t \u001b[1m\u001b[92m0.24542283535795584\u001b[0m\t \u001b[1m\u001b[92m1.5906025261633114\u001b[0m\t \u001b[1m\u001b[92m1.9633155529340411\u001b[0m\n",
            "5  \t [ 0.72450913 -0.23798928]\t 1.1830935797499074\t 0.24542283535795584\t 1.3948049919896044\t 1.6180533337835363\n",
            "6  \t [-0.91829676  0.14790936]\t 1.8582250948138423\t 0.24542283535795584\t 1.5504655588494625\t 1.72003093974767\n",
            "\u001b[1m\u001b[92m7\u001b[0m\t \u001b[1m\u001b[92m[-0.0171703 -0.3216414]\u001b[0m\t \u001b[1m\u001b[92m-0.3643007348911084\u001b[0m\t \u001b[1m\u001b[92m-0.3643007348911084\u001b[0m\t \u001b[1m\u001b[92m1.4493067730993787\u001b[0m\t \u001b[1m\u001b[92m1.7628272558949982\u001b[0m\n",
            "8  \t [-1.40737785 -0.6155002 ]\t 2.1993019557420945\t -0.3643007348911084\t 1.5498195068579348\t 2.0760616342905456\n",
            "9  \t [1.91213776 2.        ]\t 54.66862283989211\t -0.3643007348911084\t 1.7165346590914863\t 2.294126939441234\n",
            "10 \t [ 2.75502254 -0.96426066]\t 52.218266962100344\t -0.3643007348911084\t 1.8617878408796915\t 2.39669138951623\n",
            "\u001b[1m\u001b[92m11\u001b[0m\t \u001b[1m\u001b[92m[0.24660205 0.67878916]\u001b[0m\t \u001b[1m\u001b[92m-0.5908893407414078\u001b[0m\t \u001b[1m\u001b[92m-0.5908893407414078\u001b[0m\t \u001b[1m\u001b[92m1.816341278405809\u001b[0m\t \u001b[1m\u001b[92m2.334823086256301\u001b[0m\n",
            "12 \t [-2.64876839 -0.10865582]\t 40.052707700994205\t -0.5908893407414078\t 1.661612928475848\t 1.9169239180558943\n",
            "13 \t [-1.75655497  1.75951354]\t 25.00483323635399\t -0.5908893407414078\t 1.5757039534474693\t 2.3597105804487564\n",
            "14 \t [0.62781232 0.44425601]\t 0.9160278821312567\t -0.5908893407414078\t 1.1278826666860555\t 2.0950338996430933\n",
            "15 \t [-2.94654728  1.44028649]\t 99.25486852831676\t -0.5908893407414078\t 1.8536062269345948\t 1.7699816024811073\n",
            "16 \t [-1.66169503  0.62130802]\t 0.07080248394250577\t -0.5908893407414078\t 1.6015908529618086\t 1.721002393845852\n",
            "17 \t [3. 2.]\t 162.89999999999998\t -0.5908893407414078\t 1.3534049173855487\t 1.7073553860898776\n",
            "18 \t [0.89688887 1.97549036]\t 49.11379841196653\t -0.5908893407414078\t 1.2758145305944422\t 1.5555768941068107\n",
            "19 \t [-0.85857128  0.1335845 ]\t 1.7561956634792106\t -0.5908893407414078\t 1.1517512701931272\t 1.0951059384965616\n",
            "20 \t [1.79573877 0.25058992]\t 2.453669561565651\t -0.5908893407414078\t 1.2488368657269096\t 1.3915518975789158\n"
          ]
        }
      ],
      "source": [
        "### EXACT STP EI GRADIENTS\n",
        "\n",
        "np.random.seed(run_num_19)\n",
        "surrogate_exact_19 = dtStudentProcess(cov_func, optimize=opt, nu = df)\n",
        "\n",
        "exact_19 = dGPGO(surrogate_exact_19, Acquisition_grad(util), objfunc, param)\n",
        "exact_19.run(init_evals=n_init, max_iter=iters)\n"
      ]
    },
    {
      "cell_type": "code",
      "execution_count": 53,
      "metadata": {
        "id": "aw3xvSryIwDi",
        "colab": {
          "base_uri": "https://localhost:8080/"
        },
        "outputId": "43cb3d4e-4925-4621-c6e7-fc0ec35b0a9b"
      },
      "outputs": [
        {
          "output_type": "stream",
          "name": "stdout",
          "text": [
            "Evaluation \t Proposed point \t  Current eval. \t  Best eval. \t        Exact EI: StdDev. x \t Approx EI: StdDev. x \n",
            "init\t [0.52878481 1.59085491]\t 17.29968374481291\t 1.5037392797834441\t    \t    \n",
            "init\t [2.34918438 1.26334991]\t 20.91583049569433\t 1.5037392797834441\t    \t    \n",
            "init\t [-2.78466249  0.76703033]\t 57.06253405225224\t 1.5037392797834441\t    \t    \n",
            "init\t [-0.72791435  0.07404378]\t 1.5037392797834441\t 1.5037392797834441\t    \t    \n",
            "init\t [ 0.94770879 -1.22459913]\t 3.9766737661914173\t 1.5037392797834441\t    \t    \n",
            "1  \t [-1.29358633 -2.        ]\t 52.962207875768364\t 1.5037392797834441\t 1.7661529221093413\t 1.6494404427232987\n",
            "2  \t [ 2.77604483 -1.46935502]\t 64.59793259600005\t 1.5037392797834441\t 1.52433164094046\t 2.123913686015603\n",
            "\u001b[1m\u001b[92m3\u001b[0m\t \u001b[1m\u001b[92m[ 0.40079531 -0.02815866]\u001b[0m\t \u001b[1m\u001b[92m0.5752854046043101\u001b[0m\t \u001b[1m\u001b[92m0.5752854046043101\u001b[0m\t \u001b[1m\u001b[92m1.4788067524368331\u001b[0m\t \u001b[1m\u001b[92m1.7648925125648625\u001b[0m\n",
            "4  \t [-0.63018161  1.68862292]\t 21.331278346830658\t 0.5752854046043101\t 1.5068510487176974\t 1.7926418785748444\n",
            "\u001b[1m\u001b[92m5\u001b[0m\t \u001b[1m\u001b[92m[-0.07548319 -0.1479765 ]\u001b[0m\t \u001b[1m\u001b[92m-0.05177777666480351\u001b[0m\t \u001b[1m\u001b[92m-0.05177777666480351\u001b[0m\t \u001b[1m\u001b[92m1.2569987357985153\u001b[0m\t \u001b[1m\u001b[92m1.73511029977671\u001b[0m\n",
            "6  \t [-3. -2.]\t 162.89999999999998\t -0.05177777666480351\t 1.651038233093459\t 1.8051237544121446\n",
            "7  \t [ 0.05001257 -1.97777856]\t 45.46735599792216\t -0.05177777666480351\t 1.4513949176120755\t 2.0718679609866584\n",
            "8  \t [3. 2.]\t 162.89999999999998\t -0.05177777666480351\t 1.1936108802132115\t 1.7848584776443157\n",
            "9  \t [1.40477312 0.07012105]\t 2.356167583119763\t -0.05177777666480351\t 0.7578476957628578\t 1.332684549790404\n",
            "10 \t [1.05777937 0.2711009 ]\t 2.327849772457197\t -0.05177777666480351\t 0.8839913877635621\t 1.067023809753252\n",
            "11 \t [2.99823786 0.28162007]\t 108.95416493193079\t -0.05177777666480351\t 1.3613459477567385\t 2.084847532279809\n",
            "12 \t [1.82883939 0.89223732]\t 3.3408453848729116\t -0.05177777666480351\t 1.4276050587845137\t 1.8731205876318129\n",
            "13 \t [1.59014007 1.74136245]\t 29.496588738209738\t -0.05177777666480351\t 1.5199623103101818\t 2.019364165632354\n",
            "14 \t [-1.18891152 -0.70715023]\t 2.2403596379603243\t -0.05177777666480351\t 1.2095593142353311\t 1.8788953304347886\n",
            "15 \t [ 1.61618066 -1.60492666]\t 15.702571678452083\t -0.05177777666480351\t 1.2424067801591336\t 2.0134807501009675\n",
            "16 \t [ 1.0057638  -0.53786239]\t 0.879057754087676\t -0.05177777666480351\t 1.2981375544585223\t 2.0394191383833027\n",
            "\u001b[1m\u001b[92m17\u001b[0m\t \u001b[1m\u001b[92m[-0.02050533  0.71554361]\u001b[0m\t \u001b[1m\u001b[92m-1.0124146982761264\u001b[0m\t \u001b[1m\u001b[92m-1.0124146982761264\u001b[0m\t \u001b[1m\u001b[92m1.3075079357527206\u001b[0m\t \u001b[1m\u001b[92m1.6601503134735995\u001b[0m\n",
            "18 \t [-1.930326    1.56368622]\t 14.108133907280044\t -1.0124146982761264\t 1.3019304851250817\t 2.177650056233924\n",
            "19 \t [-2.1507819   1.99019678]\t 49.19242171652023\t -1.0124146982761264\t 1.421382830802753\t 1.8516328640580122\n",
            "20 \t [0.73208631 0.40705337]\t 1.3369519269163237\t -1.0124146982761264\t 0.7826314148603125\t 0.9233183932153943\n"
          ]
        }
      ],
      "source": [
        "### EXACT STP EI GRADIENTS\n",
        "\n",
        "np.random.seed(run_num_20)\n",
        "surrogate_exact_20 = dtStudentProcess(cov_func, optimize=opt, nu = df)\n",
        "\n",
        "exact_20 = dGPGO(surrogate_exact_20, Acquisition_grad(util), objfunc, param)\n",
        "exact_20.run(init_evals=n_init, max_iter=iters)\n"
      ]
    },
    {
      "cell_type": "code",
      "execution_count": 54,
      "metadata": {
        "id": "5c8szjivRPme",
        "colab": {
          "base_uri": "https://localhost:8080/"
        },
        "outputId": "231c4362-197e-427a-b01a-e79c711bf4d8"
      },
      "outputs": [
        {
          "output_type": "execute_result",
          "data": {
            "text/plain": [
              "1174.9589641094208"
            ]
          },
          "metadata": {},
          "execution_count": 54
        }
      ],
      "source": [
        "end_exact = time.time()\n",
        "end_exact\n",
        "\n",
        "time_exact = end_exact - start_exact\n",
        "time_exact\n"
      ]
    },
    {
      "cell_type": "code",
      "execution_count": 55,
      "metadata": {
        "id": "f6gCKnp6RR8c",
        "colab": {
          "base_uri": "https://localhost:8080/"
        },
        "outputId": "2c633fc3-db45-411d-9d13-1279d03e88c1"
      },
      "outputs": [
        {
          "output_type": "execute_result",
          "data": {
            "text/plain": [
              "(-0.7343478763797924, -0.2658009358573259)"
            ]
          },
          "metadata": {},
          "execution_count": 55
        }
      ],
      "source": [
        "### Simple regret minimization: run number = 1\n",
        "\n",
        "approx_output_1 = np.append(np.min(-approx_1.GP.y[0:n_init]),-approx_1.GP.y[n_init:(n_init+iters)]) \n",
        "exact_output_1 = np.append(np.min(-exact_1.GP.y[0:n_init]),-exact_1.GP.y[n_init:(n_init+iters)]) \n",
        "\n",
        "regret_approx_1 = np.log(approx_output_1 - y_global_orig)\n",
        "regret_exact_1 = np.log(exact_output_1 - y_global_orig)\n",
        "\n",
        "simple_regret_approx_1 = min_max_array(regret_approx_1)\n",
        "simple_regret_exact_1 = min_max_array(regret_exact_1)\n",
        "\n",
        "min_simple_regret_approx_1 = min(simple_regret_approx_1)\n",
        "min_simple_regret_exact_1 = min(simple_regret_exact_1)\n",
        "\n",
        "min_simple_regret_approx_1, min_simple_regret_exact_1\n"
      ]
    },
    {
      "cell_type": "code",
      "execution_count": 56,
      "metadata": {
        "id": "94yBw5tqQxfk",
        "colab": {
          "base_uri": "https://localhost:8080/"
        },
        "outputId": "f929cfc6-44c2-4abb-c97b-621bf6fcba7a"
      },
      "outputs": [
        {
          "output_type": "execute_result",
          "data": {
            "text/plain": [
              "(-0.6195780616940281, -0.8884687103656131)"
            ]
          },
          "metadata": {},
          "execution_count": 56
        }
      ],
      "source": [
        "### Simple regret minimization: run number = 2\n",
        "\n",
        "approx_output_2 = np.append(np.min(-approx_2.GP.y[0:n_init]),-approx_2.GP.y[n_init:(n_init+iters)]) \n",
        "exact_output_2 = np.append(np.min(-exact_2.GP.y[0:n_init]),-exact_2.GP.y[n_init:(n_init+iters)]) \n",
        "\n",
        "regret_approx_2 = np.log(approx_output_2 - y_global_orig)\n",
        "regret_exact_2 = np.log(exact_output_2 - y_global_orig)\n",
        "\n",
        "simple_regret_approx_2 = min_max_array(regret_approx_2)\n",
        "simple_regret_exact_2 = min_max_array(regret_exact_2)\n",
        "\n",
        "min_simple_regret_approx_2 = min(simple_regret_approx_2)\n",
        "min_simple_regret_exact_2 = min(simple_regret_exact_2)\n",
        "\n",
        "min_simple_regret_approx_2, min_simple_regret_exact_2\n"
      ]
    },
    {
      "cell_type": "code",
      "execution_count": 57,
      "metadata": {
        "id": "Bu6SBWALQxfl",
        "colab": {
          "base_uri": "https://localhost:8080/"
        },
        "outputId": "3e46cfba-0726-4522-88fd-28c4272222f9"
      },
      "outputs": [
        {
          "output_type": "execute_result",
          "data": {
            "text/plain": [
              "(-0.23773993035753282, -0.23773993035753282)"
            ]
          },
          "metadata": {},
          "execution_count": 57
        }
      ],
      "source": [
        "### Simple regret minimization: run number = 3\n",
        "\n",
        "approx_output_3 = np.append(np.min(-approx_3.GP.y[0:n_init]),-approx_3.GP.y[n_init:(n_init+iters)]) \n",
        "exact_output_3 = np.append(np.min(-exact_3.GP.y[0:n_init]),-exact_3.GP.y[n_init:(n_init+iters)]) \n",
        "\n",
        "regret_approx_3 = np.log(approx_output_3 - y_global_orig)\n",
        "regret_exact_3 = np.log(exact_output_3 - y_global_orig)\n",
        "\n",
        "simple_regret_approx_3 = min_max_array(regret_approx_3)\n",
        "simple_regret_exact_3 = min_max_array(regret_exact_3)\n",
        "\n",
        "min_simple_regret_approx_3 = min(simple_regret_approx_3)\n",
        "min_simple_regret_exact_3 = min(simple_regret_exact_3)\n",
        "\n",
        "min_simple_regret_approx_3, min_simple_regret_exact_3"
      ]
    },
    {
      "cell_type": "code",
      "execution_count": 58,
      "metadata": {
        "id": "AZm0jgxkQxfm",
        "colab": {
          "base_uri": "https://localhost:8080/"
        },
        "outputId": "7a535a98-7091-4c8c-deb1-d500a4bfe646"
      },
      "outputs": [
        {
          "output_type": "execute_result",
          "data": {
            "text/plain": [
              "(-0.7820492311858913, -1.396936441899888)"
            ]
          },
          "metadata": {},
          "execution_count": 58
        }
      ],
      "source": [
        "### Simple regret minimization: run number = 4\n",
        "\n",
        "approx_output_4 = np.append(np.min(-approx_4.GP.y[0:n_init]),-approx_4.GP.y[n_init:(n_init+iters)]) \n",
        "exact_output_4 = np.append(np.min(-exact_4.GP.y[0:n_init]),-exact_4.GP.y[n_init:(n_init+iters)]) \n",
        "\n",
        "regret_approx_4 = np.log(approx_output_4 - y_global_orig)\n",
        "regret_exact_4 = np.log(exact_output_4 - y_global_orig)\n",
        "\n",
        "simple_regret_approx_4 = min_max_array(regret_approx_4)\n",
        "simple_regret_exact_4 = min_max_array(regret_exact_4)\n",
        "\n",
        "min_simple_regret_approx_4 = min(simple_regret_approx_4)\n",
        "min_simple_regret_exact_4 = min(simple_regret_exact_4)\n",
        "\n",
        "min_simple_regret_approx_4, min_simple_regret_exact_4"
      ]
    },
    {
      "cell_type": "code",
      "execution_count": 59,
      "metadata": {
        "id": "NONPm8JIQxfn",
        "colab": {
          "base_uri": "https://localhost:8080/"
        },
        "outputId": "971487fd-d528-4c20-afd9-bbae8bb61d86"
      },
      "outputs": [
        {
          "output_type": "execute_result",
          "data": {
            "text/plain": [
              "(-0.9667370327122197, -0.9667370327122197)"
            ]
          },
          "metadata": {},
          "execution_count": 59
        }
      ],
      "source": [
        "### Simple regret minimization: run number = 5\n",
        "\n",
        "approx_output_5 = np.append(np.min(-approx_5.GP.y[0:n_init]),-approx_5.GP.y[n_init:(n_init+iters)]) \n",
        "exact_output_5 = np.append(np.min(-exact_5.GP.y[0:n_init]),-exact_5.GP.y[n_init:(n_init+iters)]) \n",
        "\n",
        "regret_approx_5 = np.log(approx_output_5 - y_global_orig)\n",
        "regret_exact_5 = np.log(exact_output_5 - y_global_orig)\n",
        "\n",
        "simple_regret_approx_5 = min_max_array(regret_approx_5)\n",
        "simple_regret_exact_5 = min_max_array(regret_exact_5)\n",
        "\n",
        "min_simple_regret_approx_5 = min(simple_regret_approx_5)\n",
        "min_simple_regret_exact_5 = min(simple_regret_exact_5)\n",
        "\n",
        "min_simple_regret_approx_5, min_simple_regret_exact_5"
      ]
    },
    {
      "cell_type": "code",
      "execution_count": 60,
      "metadata": {
        "id": "CJv3lPuSQxfp",
        "colab": {
          "base_uri": "https://localhost:8080/"
        },
        "outputId": "6ba2210c-e891-4719-994c-91d58acf5a06"
      },
      "outputs": [
        {
          "output_type": "execute_result",
          "data": {
            "text/plain": [
              "(-0.47382287727138395, -0.3917913581074015)"
            ]
          },
          "metadata": {},
          "execution_count": 60
        }
      ],
      "source": [
        "### Simple regret minimization: run number = 6\n",
        "\n",
        "approx_output_6 = np.append(np.min(-approx_6.GP.y[0:n_init]),-approx_6.GP.y[n_init:(n_init+iters)]) \n",
        "exact_output_6 = np.append(np.min(-exact_6.GP.y[0:n_init]),-exact_6.GP.y[n_init:(n_init+iters)]) \n",
        "\n",
        "regret_approx_6 = np.log(approx_output_6 - y_global_orig)\n",
        "regret_exact_6 = np.log(exact_output_6 - y_global_orig)\n",
        "\n",
        "simple_regret_approx_6 = min_max_array(regret_approx_6)\n",
        "simple_regret_exact_6 = min_max_array(regret_exact_6)\n",
        "\n",
        "min_simple_regret_approx_6 = min(simple_regret_approx_6)\n",
        "min_simple_regret_exact_6 = min(simple_regret_exact_6)\n",
        "\n",
        "min_simple_regret_approx_6, min_simple_regret_exact_6"
      ]
    },
    {
      "cell_type": "code",
      "execution_count": 61,
      "metadata": {
        "id": "quR2ZyApQxfq",
        "colab": {
          "base_uri": "https://localhost:8080/"
        },
        "outputId": "91bb3c0d-0819-4880-c296-7bad50af75b8"
      },
      "outputs": [
        {
          "output_type": "execute_result",
          "data": {
            "text/plain": [
              "(-0.7028046362427054, -0.567767694400235)"
            ]
          },
          "metadata": {},
          "execution_count": 61
        }
      ],
      "source": [
        "### Simple regret minimization: run number = 7\n",
        "\n",
        "approx_output_7 = np.append(np.min(-approx_7.GP.y[0:n_init]),-approx_7.GP.y[n_init:(n_init+iters)]) \n",
        "exact_output_7 = np.append(np.min(-exact_7.GP.y[0:n_init]),-exact_7.GP.y[n_init:(n_init+iters)]) \n",
        "\n",
        "regret_approx_7 = np.log(approx_output_7 - y_global_orig)\n",
        "regret_exact_7 = np.log(exact_output_7 - y_global_orig)\n",
        "\n",
        "simple_regret_approx_7 = min_max_array(regret_approx_7)\n",
        "simple_regret_exact_7 = min_max_array(regret_exact_7)\n",
        "\n",
        "min_simple_regret_approx_7 = min(simple_regret_approx_7)\n",
        "min_simple_regret_exact_7 = min(simple_regret_exact_7)\n",
        "\n",
        "min_simple_regret_approx_7, min_simple_regret_exact_7"
      ]
    },
    {
      "cell_type": "code",
      "execution_count": 62,
      "metadata": {
        "id": "99wY5nK6Qxfr",
        "colab": {
          "base_uri": "https://localhost:8080/"
        },
        "outputId": "4a3352e8-556f-4b57-b844-51ec461ed6a7"
      },
      "outputs": [
        {
          "output_type": "execute_result",
          "data": {
            "text/plain": [
              "(-0.005814497885041535, -1.4742630801422865)"
            ]
          },
          "metadata": {},
          "execution_count": 62
        }
      ],
      "source": [
        "### Simple regret minimization: run number = 8\n",
        "\n",
        "approx_output_8 = np.append(np.min(-approx_8.GP.y[0:n_init]),-approx_8.GP.y[n_init:(n_init+iters)]) \n",
        "exact_output_8 = np.append(np.min(-exact_8.GP.y[0:n_init]),-exact_8.GP.y[n_init:(n_init+iters)]) \n",
        "\n",
        "regret_approx_8 = np.log(approx_output_8 - y_global_orig)\n",
        "regret_exact_8 = np.log(exact_output_8 - y_global_orig)\n",
        "\n",
        "simple_regret_approx_8 = min_max_array(regret_approx_8)\n",
        "simple_regret_exact_8 = min_max_array(regret_exact_8)\n",
        "\n",
        "min_simple_regret_approx_8 = min(simple_regret_approx_8)\n",
        "min_simple_regret_exact_8 = min(simple_regret_exact_8)\n",
        "\n",
        "min_simple_regret_approx_8, min_simple_regret_exact_8"
      ]
    },
    {
      "cell_type": "code",
      "execution_count": 63,
      "metadata": {
        "id": "qt0P5t9qQxfs",
        "colab": {
          "base_uri": "https://localhost:8080/"
        },
        "outputId": "ac042cb5-9b34-44d6-b182-2ec28184a268"
      },
      "outputs": [
        {
          "output_type": "execute_result",
          "data": {
            "text/plain": [
              "(-0.9444651729595014, -2.457021091386353)"
            ]
          },
          "metadata": {},
          "execution_count": 63
        }
      ],
      "source": [
        "### Simple regret minimization: run number = 9\n",
        "\n",
        "approx_output_9 = np.append(np.min(-approx_9.GP.y[0:n_init]),-approx_9.GP.y[n_init:(n_init+iters)]) \n",
        "exact_output_9 = np.append(np.min(-exact_9.GP.y[0:n_init]),-exact_9.GP.y[n_init:(n_init+iters)]) \n",
        "\n",
        "regret_approx_9 = np.log(approx_output_9 - y_global_orig)\n",
        "regret_exact_9 = np.log(exact_output_9 - y_global_orig)\n",
        "\n",
        "simple_regret_approx_9 = min_max_array(regret_approx_9)\n",
        "simple_regret_exact_9 = min_max_array(regret_exact_9)\n",
        "\n",
        "min_simple_regret_approx_9 = min(simple_regret_approx_9)\n",
        "min_simple_regret_exact_9 = min(simple_regret_exact_9)\n",
        "\n",
        "min_simple_regret_approx_9, min_simple_regret_exact_9"
      ]
    },
    {
      "cell_type": "code",
      "execution_count": 64,
      "metadata": {
        "id": "vx8to9stQxft",
        "colab": {
          "base_uri": "https://localhost:8080/"
        },
        "outputId": "3223988f-36cd-4835-b6a7-bf99f52a256d"
      },
      "outputs": [
        {
          "output_type": "execute_result",
          "data": {
            "text/plain": [
              "(0.14063941762766702, -1.1220263796790046)"
            ]
          },
          "metadata": {},
          "execution_count": 64
        }
      ],
      "source": [
        "### Simple regret minimization: run number = 10\n",
        "\n",
        "approx_output_10 = np.append(np.min(-approx_10.GP.y[0:n_init]),-approx_10.GP.y[n_init:(n_init+iters)]) \n",
        "exact_output_10 = np.append(np.min(-exact_10.GP.y[0:n_init]),-exact_10.GP.y[n_init:(n_init+iters)]) \n",
        "\n",
        "regret_approx_10 = np.log(approx_output_10 - y_global_orig)\n",
        "regret_exact_10 = np.log(exact_output_10 - y_global_orig)\n",
        "\n",
        "simple_regret_approx_10 = min_max_array(regret_approx_10)\n",
        "simple_regret_exact_10 = min_max_array(regret_exact_10)\n",
        "\n",
        "min_simple_regret_approx_10 = min(simple_regret_approx_10)\n",
        "min_simple_regret_exact_10 = min(simple_regret_exact_10)\n",
        "\n",
        "min_simple_regret_approx_10, min_simple_regret_exact_10"
      ]
    },
    {
      "cell_type": "code",
      "execution_count": 65,
      "metadata": {
        "id": "d-FGzWyHQxfu",
        "colab": {
          "base_uri": "https://localhost:8080/"
        },
        "outputId": "bba07bb9-d5a2-47ae-e318-adcf71f65fe3"
      },
      "outputs": [
        {
          "output_type": "execute_result",
          "data": {
            "text/plain": [
              "(-1.1355434435944867, -0.9010790823704407)"
            ]
          },
          "metadata": {},
          "execution_count": 65
        }
      ],
      "source": [
        "### Simple regret minimization: run number = 11\n",
        "\n",
        "approx_output_11 = np.append(np.min(-approx_11.GP.y[0:n_init]),-approx_11.GP.y[n_init:(n_init+iters)]) \n",
        "exact_output_11 = np.append(np.min(-exact_11.GP.y[0:n_init]),-exact_11.GP.y[n_init:(n_init+iters)]) \n",
        "\n",
        "regret_approx_11 = np.log(approx_output_11 - y_global_orig)\n",
        "regret_exact_11 = np.log(exact_output_11 - y_global_orig)\n",
        "\n",
        "simple_regret_approx_11 = min_max_array(regret_approx_11)\n",
        "simple_regret_exact_11 = min_max_array(regret_exact_11)\n",
        "\n",
        "min_simple_regret_approx_11 = min(simple_regret_approx_11)\n",
        "min_simple_regret_exact_11 = min(simple_regret_exact_11)\n",
        "\n",
        "min_simple_regret_approx_11, min_simple_regret_exact_11"
      ]
    },
    {
      "cell_type": "code",
      "execution_count": 66,
      "metadata": {
        "id": "SvtsssyjQxfv",
        "colab": {
          "base_uri": "https://localhost:8080/"
        },
        "outputId": "4e642182-61ea-459c-d288-0fd39d717538"
      },
      "outputs": [
        {
          "output_type": "execute_result",
          "data": {
            "text/plain": [
              "(-0.8893888526220719, -3.4185513977304915)"
            ]
          },
          "metadata": {},
          "execution_count": 66
        }
      ],
      "source": [
        "### Simple regret minimization: run number = 12\n",
        "\n",
        "approx_output_12 = np.append(np.min(-approx_12.GP.y[0:n_init]),-approx_12.GP.y[n_init:(n_init+iters)]) \n",
        "exact_output_12 = np.append(np.min(-exact_12.GP.y[0:n_init]),-exact_12.GP.y[n_init:(n_init+iters)]) \n",
        "\n",
        "regret_approx_12 = np.log(approx_output_12 - y_global_orig)\n",
        "regret_exact_12 = np.log(exact_output_12 - y_global_orig)\n",
        "\n",
        "simple_regret_approx_12 = min_max_array(regret_approx_12)\n",
        "simple_regret_exact_12 = min_max_array(regret_exact_12)\n",
        "\n",
        "min_simple_regret_approx_12 = min(simple_regret_approx_12)\n",
        "min_simple_regret_exact_12 = min(simple_regret_exact_12)\n",
        "\n",
        "min_simple_regret_approx_12, min_simple_regret_exact_12"
      ]
    },
    {
      "cell_type": "code",
      "execution_count": 67,
      "metadata": {
        "id": "K6OiGcHkQxfw",
        "colab": {
          "base_uri": "https://localhost:8080/"
        },
        "outputId": "1ea2ac2c-a73e-45c3-e1b6-9d4b07e2d592"
      },
      "outputs": [
        {
          "output_type": "execute_result",
          "data": {
            "text/plain": [
              "(-1.7022778204280788, -2.2006290633051413)"
            ]
          },
          "metadata": {},
          "execution_count": 67
        }
      ],
      "source": [
        "### Simple regret minimization: run number = 13\n",
        "\n",
        "approx_output_13 = np.append(np.min(-approx_13.GP.y[0:n_init]),-approx_13.GP.y[n_init:(n_init+iters)]) \n",
        "exact_output_13 = np.append(np.min(-exact_13.GP.y[0:n_init]),-exact_13.GP.y[n_init:(n_init+iters)]) \n",
        "\n",
        "regret_approx_13 = np.log(approx_output_13 - y_global_orig)\n",
        "regret_exact_13 = np.log(exact_output_13 - y_global_orig)\n",
        "\n",
        "simple_regret_approx_13 = min_max_array(regret_approx_13)\n",
        "simple_regret_exact_13 = min_max_array(regret_exact_13)\n",
        "\n",
        "min_simple_regret_approx_13 = min(simple_regret_approx_13)\n",
        "min_simple_regret_exact_13 = min(simple_regret_exact_13)\n",
        "\n",
        "min_simple_regret_approx_13, min_simple_regret_exact_13"
      ]
    },
    {
      "cell_type": "code",
      "execution_count": 68,
      "metadata": {
        "id": "ogML73shQxfx",
        "colab": {
          "base_uri": "https://localhost:8080/"
        },
        "outputId": "b55ee2e0-345a-4846-88d7-eeef48b0aaed"
      },
      "outputs": [
        {
          "output_type": "execute_result",
          "data": {
            "text/plain": [
              "(-6.074727392833108, -6.074727392833108)"
            ]
          },
          "metadata": {},
          "execution_count": 68
        }
      ],
      "source": [
        "### Simple regret minimization: run number = 14\n",
        "\n",
        "approx_output_14 = np.append(np.min(-approx_14.GP.y[0:n_init]),-approx_14.GP.y[n_init:(n_init+iters)]) \n",
        "exact_output_14 = np.append(np.min(-exact_14.GP.y[0:n_init]),-exact_14.GP.y[n_init:(n_init+iters)]) \n",
        "\n",
        "regret_approx_14 = np.log(approx_output_14 - y_global_orig)\n",
        "regret_exact_14 = np.log(exact_output_14 - y_global_orig)\n",
        "\n",
        "simple_regret_approx_14 = min_max_array(regret_approx_14)\n",
        "simple_regret_exact_14 = min_max_array(regret_exact_14)\n",
        "\n",
        "min_simple_regret_approx_14 = min(simple_regret_approx_14)\n",
        "min_simple_regret_exact_14 = min(simple_regret_exact_14)\n",
        "\n",
        "min_simple_regret_approx_14, min_simple_regret_exact_14"
      ]
    },
    {
      "cell_type": "code",
      "execution_count": 69,
      "metadata": {
        "id": "9Eg7gFT9Qxfx",
        "colab": {
          "base_uri": "https://localhost:8080/"
        },
        "outputId": "03e25d0b-2ca9-4226-b7c0-112d0f30afe6"
      },
      "outputs": [
        {
          "output_type": "execute_result",
          "data": {
            "text/plain": [
              "(-2.8371230665293363, -1.1014796310320563)"
            ]
          },
          "metadata": {},
          "execution_count": 69
        }
      ],
      "source": [
        "### Simple regret minimization: run number = 15\n",
        "\n",
        "approx_output_15 = np.append(np.min(-approx_15.GP.y[0:n_init]),-approx_15.GP.y[n_init:(n_init+iters)]) \n",
        "exact_output_15 = np.append(np.min(-exact_15.GP.y[0:n_init]),-exact_15.GP.y[n_init:(n_init+iters)]) \n",
        "\n",
        "regret_approx_15 = np.log(approx_output_15 - y_global_orig)\n",
        "regret_exact_15 = np.log(exact_output_15 - y_global_orig)\n",
        "\n",
        "simple_regret_approx_15 = min_max_array(regret_approx_15)\n",
        "simple_regret_exact_15 = min_max_array(regret_exact_15)\n",
        "\n",
        "min_simple_regret_approx_15 = min(simple_regret_approx_15)\n",
        "min_simple_regret_exact_15 = min(simple_regret_exact_15)\n",
        "\n",
        "min_simple_regret_approx_15, min_simple_regret_exact_15"
      ]
    },
    {
      "cell_type": "code",
      "execution_count": 70,
      "metadata": {
        "id": "lIAC1U7ZQxfy",
        "colab": {
          "base_uri": "https://localhost:8080/"
        },
        "outputId": "4de79226-1aa0-4e3a-872f-f67688b22a71"
      },
      "outputs": [
        {
          "output_type": "execute_result",
          "data": {
            "text/plain": [
              "(-1.8974550983490965, -1.4875981272214072)"
            ]
          },
          "metadata": {},
          "execution_count": 70
        }
      ],
      "source": [
        "### Simple regret minimization: run number = 16\n",
        "\n",
        "approx_output_16 = np.append(np.min(-approx_16.GP.y[0:n_init]),-approx_16.GP.y[n_init:(n_init+iters)]) \n",
        "exact_output_16 = np.append(np.min(-exact_16.GP.y[0:n_init]),-exact_16.GP.y[n_init:(n_init+iters)]) \n",
        "\n",
        "regret_approx_16 = np.log(approx_output_16 - y_global_orig)\n",
        "regret_exact_16 = np.log(exact_output_16 - y_global_orig)\n",
        "\n",
        "simple_regret_approx_16 = min_max_array(regret_approx_16)\n",
        "simple_regret_exact_16 = min_max_array(regret_exact_16)\n",
        "\n",
        "min_simple_regret_approx_16 = min(simple_regret_approx_16)\n",
        "min_simple_regret_exact_16 = min(simple_regret_exact_16)\n",
        "\n",
        "min_simple_regret_approx_16, min_simple_regret_exact_16"
      ]
    },
    {
      "cell_type": "code",
      "execution_count": 71,
      "metadata": {
        "id": "bGott36OQxfz",
        "colab": {
          "base_uri": "https://localhost:8080/"
        },
        "outputId": "b5e2582a-1054-4dcd-d0aa-28c85cd63135"
      },
      "outputs": [
        {
          "output_type": "execute_result",
          "data": {
            "text/plain": [
              "(-0.23454342391029648, -2.539917744468374)"
            ]
          },
          "metadata": {},
          "execution_count": 71
        }
      ],
      "source": [
        "### Simple regret minimization: run number = 17\n",
        "\n",
        "approx_output_17 = np.append(np.min(-approx_17.GP.y[0:n_init]),-approx_17.GP.y[n_init:(n_init+iters)]) \n",
        "exact_output_17 = np.append(np.min(-exact_17.GP.y[0:n_init]),-exact_17.GP.y[n_init:(n_init+iters)]) \n",
        "\n",
        "regret_approx_17 = np.log(approx_output_17 - y_global_orig)\n",
        "regret_exact_17 = np.log(exact_output_17 - y_global_orig)\n",
        "\n",
        "simple_regret_approx_17 = min_max_array(regret_approx_17)\n",
        "simple_regret_exact_17 = min_max_array(regret_exact_17)\n",
        "\n",
        "min_simple_regret_approx_17 = min(simple_regret_approx_17)\n",
        "min_simple_regret_exact_17 = min(simple_regret_exact_17)\n",
        "\n",
        "min_simple_regret_approx_17, min_simple_regret_exact_17"
      ]
    },
    {
      "cell_type": "code",
      "execution_count": 72,
      "metadata": {
        "id": "Cz9ZYMBMQxfz",
        "colab": {
          "base_uri": "https://localhost:8080/"
        },
        "outputId": "0acdf1e5-7878-42b6-de74-28a2e9d2eb82"
      },
      "outputs": [
        {
          "output_type": "execute_result",
          "data": {
            "text/plain": [
              "(-0.5723444297958777, -0.2087372580674953)"
            ]
          },
          "metadata": {},
          "execution_count": 72
        }
      ],
      "source": [
        "### Simple regret minimization: run number = 18\n",
        "\n",
        "approx_output_18 = np.append(np.min(-approx_18.GP.y[0:n_init]),-approx_18.GP.y[n_init:(n_init+iters)]) \n",
        "exact_output_18 = np.append(np.min(-exact_18.GP.y[0:n_init]),-exact_18.GP.y[n_init:(n_init+iters)]) \n",
        "\n",
        "regret_approx_18 = np.log(approx_output_18 - y_global_orig)\n",
        "regret_exact_18 = np.log(exact_output_18 - y_global_orig)\n",
        "\n",
        "simple_regret_approx_18 = min_max_array(regret_approx_18)\n",
        "simple_regret_exact_18 = min_max_array(regret_exact_18)\n",
        "\n",
        "min_simple_regret_approx_18 = min(simple_regret_approx_18)\n",
        "min_simple_regret_exact_18 = min(simple_regret_exact_18)\n",
        "\n",
        "min_simple_regret_approx_18, min_simple_regret_exact_18"
      ]
    },
    {
      "cell_type": "code",
      "execution_count": 73,
      "metadata": {
        "id": "OBfpWOHNQxf0",
        "colab": {
          "base_uri": "https://localhost:8080/"
        },
        "outputId": "4ba93948-c986-4962-c83d-564f1402c0cc"
      },
      "outputs": [
        {
          "output_type": "execute_result",
          "data": {
            "text/plain": [
              "(-0.02092831022412645, -0.8193667203184797)"
            ]
          },
          "metadata": {},
          "execution_count": 73
        }
      ],
      "source": [
        "### Simple regret minimization: run number = 19\n",
        "\n",
        "approx_output_19 = np.append(np.min(-approx_19.GP.y[0:n_init]),-approx_19.GP.y[n_init:(n_init+iters)]) \n",
        "exact_output_19 = np.append(np.min(-exact_19.GP.y[0:n_init]),-exact_19.GP.y[n_init:(n_init+iters)]) \n",
        "\n",
        "regret_approx_19 = np.log(approx_output_19 - y_global_orig)\n",
        "regret_exact_19 = np.log(exact_output_19 - y_global_orig)\n",
        "\n",
        "simple_regret_approx_19 = min_max_array(regret_approx_19)\n",
        "simple_regret_exact_19 = min_max_array(regret_exact_19)\n",
        "\n",
        "min_simple_regret_approx_19 = min(simple_regret_approx_19)\n",
        "min_simple_regret_exact_19 = min(simple_regret_exact_19)\n",
        "\n",
        "min_simple_regret_approx_19, min_simple_regret_exact_19"
      ]
    },
    {
      "cell_type": "code",
      "execution_count": 74,
      "metadata": {
        "id": "BE1AJ7NsQxf0",
        "colab": {
          "base_uri": "https://localhost:8080/"
        },
        "outputId": "648ab646-dd16-404f-fea2-cff484b329ce"
      },
      "outputs": [
        {
          "output_type": "execute_result",
          "data": {
            "text/plain": [
              "(-0.7743458657284598, -3.9536108283350284)"
            ]
          },
          "metadata": {},
          "execution_count": 74
        }
      ],
      "source": [
        "### Simple regret minimization: run number = 20\n",
        "\n",
        "approx_output_20 = np.append(np.min(-approx_20.GP.y[0:n_init]),-approx_20.GP.y[n_init:(n_init+iters)]) \n",
        "exact_output_20 = np.append(np.min(-exact_20.GP.y[0:n_init]),-exact_20.GP.y[n_init:(n_init+iters)]) \n",
        "\n",
        "regret_approx_20 = np.log(approx_output_20 - y_global_orig)\n",
        "regret_exact_20 = np.log(exact_output_20 - y_global_orig)\n",
        "\n",
        "simple_regret_approx_20 = min_max_array(regret_approx_20)\n",
        "simple_regret_exact_20 = min_max_array(regret_exact_20)\n",
        "\n",
        "min_simple_regret_approx_20 = min(simple_regret_approx_20)\n",
        "min_simple_regret_exact_20 = min(simple_regret_exact_20)\n",
        "\n",
        "min_simple_regret_approx_20, min_simple_regret_exact_20"
      ]
    },
    {
      "cell_type": "code",
      "execution_count": 75,
      "metadata": {
        "id": "bpX-bKAHQxf1"
      },
      "outputs": [],
      "source": [
        "# Iteration1 :\n",
        "\n",
        "slice1 = 0\n",
        "\n",
        "approx1 = [simple_regret_approx_1[slice1],\n",
        "       simple_regret_approx_2[slice1],\n",
        "       simple_regret_approx_3[slice1],\n",
        "       simple_regret_approx_4[slice1],\n",
        "       simple_regret_approx_5[slice1],\n",
        "       simple_regret_approx_6[slice1],\n",
        "       simple_regret_approx_7[slice1],\n",
        "       simple_regret_approx_8[slice1],\n",
        "       simple_regret_approx_9[slice1],\n",
        "       simple_regret_approx_10[slice1],\n",
        "       simple_regret_approx_11[slice1],\n",
        "       simple_regret_approx_12[slice1],\n",
        "       simple_regret_approx_13[slice1],\n",
        "       simple_regret_approx_14[slice1],\n",
        "       simple_regret_approx_15[slice1],\n",
        "       simple_regret_approx_16[slice1],\n",
        "       simple_regret_approx_17[slice1],\n",
        "       simple_regret_approx_18[slice1],\n",
        "       simple_regret_approx_19[slice1],\n",
        "       simple_regret_approx_20[slice1]]\n",
        "\n",
        "exact1 = [simple_regret_exact_1[slice1],\n",
        "       simple_regret_exact_2[slice1],\n",
        "       simple_regret_exact_3[slice1],\n",
        "       simple_regret_exact_4[slice1],\n",
        "       simple_regret_exact_5[slice1],\n",
        "       simple_regret_exact_6[slice1],\n",
        "       simple_regret_exact_7[slice1],\n",
        "       simple_regret_exact_8[slice1],\n",
        "       simple_regret_exact_9[slice1],\n",
        "       simple_regret_exact_10[slice1],\n",
        "       simple_regret_exact_11[slice1],\n",
        "       simple_regret_exact_12[slice1],\n",
        "       simple_regret_exact_13[slice1],\n",
        "       simple_regret_exact_14[slice1],\n",
        "       simple_regret_exact_15[slice1],\n",
        "       simple_regret_exact_16[slice1],\n",
        "       simple_regret_exact_17[slice1],\n",
        "       simple_regret_exact_18[slice1],\n",
        "       simple_regret_exact_19[slice1],\n",
        "       simple_regret_exact_20[slice1]]\n",
        "\n",
        "approx1_results = pd.DataFrame(approx1).sort_values(by=[0], ascending=False)\n",
        "exact1_results = pd.DataFrame(exact1).sort_values(by=[0], ascending=False)\n",
        "\n",
        "### Best simple regret minimization IQR - approx:\n",
        "lower_approx1 = np.asarray(approx1_results[4:5][0])[0]\n",
        "median_approx1 = np.asarray(approx1_results[9:10][0])[0]\n",
        "upper_approx1 = np.asarray(approx1_results[14:15][0])[0]\n",
        "\n",
        "lower_exact1 = np.asarray(exact1_results[4:5][0])[0]\n",
        "median_exact1 = np.asarray(exact1_results[9:10][0])[0]\n",
        "upper_exact1 = np.asarray(exact1_results[14:15][0])[0]"
      ]
    },
    {
      "cell_type": "code",
      "execution_count": 76,
      "metadata": {
        "id": "CgIkJA1xQxf2"
      },
      "outputs": [],
      "source": [
        "# Iteration11 :\n",
        "\n",
        "slice11 = 10\n",
        "\n",
        "approx11 = [simple_regret_approx_1[slice11],\n",
        "       simple_regret_approx_2[slice11],\n",
        "       simple_regret_approx_3[slice11],\n",
        "       simple_regret_approx_4[slice11],\n",
        "       simple_regret_approx_5[slice11],\n",
        "       simple_regret_approx_6[slice11],\n",
        "       simple_regret_approx_7[slice11],\n",
        "       simple_regret_approx_8[slice11],\n",
        "       simple_regret_approx_9[slice11],\n",
        "       simple_regret_approx_10[slice11],\n",
        "       simple_regret_approx_11[slice11],\n",
        "       simple_regret_approx_12[slice11],\n",
        "       simple_regret_approx_13[slice11],\n",
        "       simple_regret_approx_14[slice11],\n",
        "       simple_regret_approx_15[slice11],\n",
        "       simple_regret_approx_16[slice11],\n",
        "       simple_regret_approx_17[slice11],\n",
        "       simple_regret_approx_18[slice11],\n",
        "       simple_regret_approx_19[slice11],\n",
        "       simple_regret_approx_20[slice11]]\n",
        "\n",
        "exact11 = [simple_regret_exact_1[slice11],\n",
        "       simple_regret_exact_2[slice11],\n",
        "       simple_regret_exact_3[slice11],\n",
        "       simple_regret_exact_4[slice11],\n",
        "       simple_regret_exact_5[slice11],\n",
        "       simple_regret_exact_6[slice11],\n",
        "       simple_regret_exact_7[slice11],\n",
        "       simple_regret_exact_8[slice11],\n",
        "       simple_regret_exact_9[slice11],\n",
        "       simple_regret_exact_10[slice11],\n",
        "       simple_regret_exact_11[slice11],\n",
        "       simple_regret_exact_12[slice11],\n",
        "       simple_regret_exact_13[slice11],\n",
        "       simple_regret_exact_14[slice11],\n",
        "       simple_regret_exact_15[slice11],\n",
        "       simple_regret_exact_16[slice11],\n",
        "       simple_regret_exact_17[slice11],\n",
        "       simple_regret_exact_18[slice11],\n",
        "       simple_regret_exact_19[slice11],\n",
        "       simple_regret_exact_20[slice11]]\n",
        "\n",
        "approx11_results = pd.DataFrame(approx11).sort_values(by=[0], ascending=False)\n",
        "exact11_results = pd.DataFrame(exact11).sort_values(by=[0], ascending=False)\n",
        "\n",
        "### Best simple regret minimization IQR - approx:\n",
        "lower_approx11 = np.asarray(approx11_results[4:5][0])[0]\n",
        "median_approx11 = np.asarray(approx11_results[9:10][0])[0]\n",
        "upper_approx11 = np.asarray(approx11_results[14:15][0])[0]\n",
        "\n",
        "lower_exact11 = np.asarray(exact11_results[4:5][0])[0]\n",
        "median_exact11 = np.asarray(exact11_results[9:10][0])[0]\n",
        "upper_exact11 = np.asarray(exact11_results[14:15][0])[0]"
      ]
    },
    {
      "cell_type": "code",
      "execution_count": 77,
      "metadata": {
        "id": "MFePDfGuQxf2"
      },
      "outputs": [],
      "source": [
        "# Iteration21 :\n",
        "\n",
        "slice21 = 20\n",
        "\n",
        "approx21 = [simple_regret_approx_1[slice21],\n",
        "       simple_regret_approx_2[slice21],\n",
        "       simple_regret_approx_3[slice21],\n",
        "       simple_regret_approx_4[slice21],\n",
        "       simple_regret_approx_5[slice21],\n",
        "       simple_regret_approx_6[slice21],\n",
        "       simple_regret_approx_7[slice21],\n",
        "       simple_regret_approx_8[slice21],\n",
        "       simple_regret_approx_9[slice21],\n",
        "       simple_regret_approx_10[slice21],\n",
        "       simple_regret_approx_11[slice21],\n",
        "       simple_regret_approx_12[slice21],\n",
        "       simple_regret_approx_13[slice21],\n",
        "       simple_regret_approx_14[slice21],\n",
        "       simple_regret_approx_15[slice21],\n",
        "       simple_regret_approx_16[slice21],\n",
        "       simple_regret_approx_17[slice21],\n",
        "       simple_regret_approx_18[slice21],\n",
        "       simple_regret_approx_19[slice21],\n",
        "       simple_regret_approx_20[slice21]]\n",
        "\n",
        "exact21 = [simple_regret_exact_1[slice21],\n",
        "       simple_regret_exact_2[slice21],\n",
        "       simple_regret_exact_3[slice21],\n",
        "       simple_regret_exact_4[slice21],\n",
        "       simple_regret_exact_5[slice21],\n",
        "       simple_regret_exact_6[slice21],\n",
        "       simple_regret_exact_7[slice21],\n",
        "       simple_regret_exact_8[slice21],\n",
        "       simple_regret_exact_9[slice21],\n",
        "       simple_regret_exact_10[slice21],\n",
        "       simple_regret_exact_11[slice21],\n",
        "       simple_regret_exact_12[slice21],\n",
        "       simple_regret_exact_13[slice21],\n",
        "       simple_regret_exact_14[slice21],\n",
        "       simple_regret_exact_15[slice21],\n",
        "       simple_regret_exact_16[slice21],\n",
        "       simple_regret_exact_17[slice21],\n",
        "       simple_regret_exact_18[slice21],\n",
        "       simple_regret_exact_19[slice21],\n",
        "       simple_regret_exact_20[slice21]]\n",
        "\n",
        "approx21_results = pd.DataFrame(approx21).sort_values(by=[0], ascending=False)\n",
        "exact21_results = pd.DataFrame(exact21).sort_values(by=[0], ascending=False)\n",
        "\n",
        "### Best simple regret minimization IQR - approx:\n",
        "lower_approx21 = np.asarray(approx21_results[4:5][0])[0]\n",
        "median_approx21 = np.asarray(approx21_results[9:10][0])[0]\n",
        "upper_approx21 = np.asarray(approx21_results[14:15][0])[0]\n",
        "\n",
        "lower_exact21 = np.asarray(exact21_results[4:5][0])[0]\n",
        "median_exact21 = np.asarray(exact21_results[9:10][0])[0]\n",
        "upper_exact21 = np.asarray(exact21_results[14:15][0])[0]"
      ]
    },
    {
      "cell_type": "code",
      "execution_count": 78,
      "metadata": {
        "id": "PrRDB1kfQxf3"
      },
      "outputs": [],
      "source": [
        "# Iteration2 :\n",
        "\n",
        "slice2 = 1\n",
        "\n",
        "approx2 = [simple_regret_approx_1[slice2],\n",
        "       simple_regret_approx_2[slice2],\n",
        "       simple_regret_approx_3[slice2],\n",
        "       simple_regret_approx_4[slice2],\n",
        "       simple_regret_approx_5[slice2],\n",
        "       simple_regret_approx_6[slice2],\n",
        "       simple_regret_approx_7[slice2],\n",
        "       simple_regret_approx_8[slice2],\n",
        "       simple_regret_approx_9[slice2],\n",
        "       simple_regret_approx_10[slice2],\n",
        "       simple_regret_approx_11[slice2],\n",
        "       simple_regret_approx_12[slice2],\n",
        "       simple_regret_approx_13[slice2],\n",
        "       simple_regret_approx_14[slice2],\n",
        "       simple_regret_approx_15[slice2],\n",
        "       simple_regret_approx_16[slice2],\n",
        "       simple_regret_approx_17[slice2],\n",
        "       simple_regret_approx_18[slice2],\n",
        "       simple_regret_approx_19[slice2],\n",
        "       simple_regret_approx_20[slice2]]\n",
        "\n",
        "exact2 = [simple_regret_exact_1[slice2],\n",
        "       simple_regret_exact_2[slice2],\n",
        "       simple_regret_exact_3[slice2],\n",
        "       simple_regret_exact_4[slice2],\n",
        "       simple_regret_exact_5[slice2],\n",
        "       simple_regret_exact_6[slice2],\n",
        "       simple_regret_exact_7[slice2],\n",
        "       simple_regret_exact_8[slice2],\n",
        "       simple_regret_exact_9[slice2],\n",
        "       simple_regret_exact_10[slice2],\n",
        "       simple_regret_exact_11[slice2],\n",
        "       simple_regret_exact_12[slice2],\n",
        "       simple_regret_exact_13[slice2],\n",
        "       simple_regret_exact_14[slice2],\n",
        "       simple_regret_exact_15[slice2],\n",
        "       simple_regret_exact_16[slice2],\n",
        "       simple_regret_exact_17[slice2],\n",
        "       simple_regret_exact_18[slice2],\n",
        "       simple_regret_exact_19[slice2],\n",
        "       simple_regret_exact_20[slice2]]\n",
        "\n",
        "approx2_results = pd.DataFrame(approx2).sort_values(by=[0], ascending=False)\n",
        "exact2_results = pd.DataFrame(exact2).sort_values(by=[0], ascending=False)\n",
        "\n",
        "### Best simple regret minimization IQR - approx:\n",
        "lower_approx2 = np.asarray(approx2_results[4:5][0])[0]\n",
        "median_approx2 = np.asarray(approx2_results[9:10][0])[0]\n",
        "upper_approx2 = np.asarray(approx2_results[14:15][0])[0]\n",
        "\n",
        "lower_exact2 = np.asarray(exact2_results[4:5][0])[0]\n",
        "median_exact2 = np.asarray(exact2_results[9:10][0])[0]\n",
        "upper_exact2 = np.asarray(exact2_results[14:15][0])[0]"
      ]
    },
    {
      "cell_type": "code",
      "execution_count": 79,
      "metadata": {
        "id": "B8ncJDYeQxf3"
      },
      "outputs": [],
      "source": [
        "# Iteration12 :\n",
        "\n",
        "slice12 = 11\n",
        "\n",
        "approx12 = [simple_regret_approx_1[slice12],\n",
        "       simple_regret_approx_2[slice12],\n",
        "       simple_regret_approx_3[slice12],\n",
        "       simple_regret_approx_4[slice12],\n",
        "       simple_regret_approx_5[slice12],\n",
        "       simple_regret_approx_6[slice12],\n",
        "       simple_regret_approx_7[slice12],\n",
        "       simple_regret_approx_8[slice12],\n",
        "       simple_regret_approx_9[slice12],\n",
        "       simple_regret_approx_10[slice12],\n",
        "       simple_regret_approx_11[slice12],\n",
        "       simple_regret_approx_12[slice12],\n",
        "       simple_regret_approx_13[slice12],\n",
        "       simple_regret_approx_14[slice12],\n",
        "       simple_regret_approx_15[slice12],\n",
        "       simple_regret_approx_16[slice12],\n",
        "       simple_regret_approx_17[slice12],\n",
        "       simple_regret_approx_18[slice12],\n",
        "       simple_regret_approx_19[slice12],\n",
        "       simple_regret_approx_20[slice12]]\n",
        "\n",
        "exact12 = [simple_regret_exact_1[slice12],\n",
        "       simple_regret_exact_2[slice12],\n",
        "       simple_regret_exact_3[slice12],\n",
        "       simple_regret_exact_4[slice12],\n",
        "       simple_regret_exact_5[slice12],\n",
        "       simple_regret_exact_6[slice12],\n",
        "       simple_regret_exact_7[slice12],\n",
        "       simple_regret_exact_8[slice12],\n",
        "       simple_regret_exact_9[slice12],\n",
        "       simple_regret_exact_10[slice12],\n",
        "       simple_regret_exact_11[slice12],\n",
        "       simple_regret_exact_12[slice12],\n",
        "       simple_regret_exact_13[slice12],\n",
        "       simple_regret_exact_14[slice12],\n",
        "       simple_regret_exact_15[slice12],\n",
        "       simple_regret_exact_16[slice12],\n",
        "       simple_regret_exact_17[slice12],\n",
        "       simple_regret_exact_18[slice12],\n",
        "       simple_regret_exact_19[slice12],\n",
        "       simple_regret_exact_20[slice12]]\n",
        "\n",
        "approx12_results = pd.DataFrame(approx12).sort_values(by=[0], ascending=False)\n",
        "exact12_results = pd.DataFrame(exact12).sort_values(by=[0], ascending=False)\n",
        "\n",
        "### Best simple regret minimization IQR - approx:\n",
        "lower_approx12 = np.asarray(approx12_results[4:5][0])[0]\n",
        "median_approx12 = np.asarray(approx12_results[9:10][0])[0]\n",
        "upper_approx12 = np.asarray(approx12_results[14:15][0])[0]\n",
        "\n",
        "lower_exact12 = np.asarray(exact12_results[4:5][0])[0]\n",
        "median_exact12 = np.asarray(exact12_results[9:10][0])[0]\n",
        "upper_exact12 = np.asarray(exact12_results[14:15][0])[0]"
      ]
    },
    {
      "cell_type": "code",
      "execution_count": 80,
      "metadata": {
        "id": "Jn4KpGvcQxf4"
      },
      "outputs": [],
      "source": [
        "# Iteration3 :\n",
        "\n",
        "slice3 = 2\n",
        "\n",
        "approx3 = [simple_regret_approx_1[slice3],\n",
        "       simple_regret_approx_2[slice3],\n",
        "       simple_regret_approx_3[slice3],\n",
        "       simple_regret_approx_4[slice3],\n",
        "       simple_regret_approx_5[slice3],\n",
        "       simple_regret_approx_6[slice3],\n",
        "       simple_regret_approx_7[slice3],\n",
        "       simple_regret_approx_8[slice3],\n",
        "       simple_regret_approx_9[slice3],\n",
        "       simple_regret_approx_10[slice3],\n",
        "       simple_regret_approx_11[slice3],\n",
        "       simple_regret_approx_12[slice3],\n",
        "       simple_regret_approx_13[slice3],\n",
        "       simple_regret_approx_14[slice3],\n",
        "       simple_regret_approx_15[slice3],\n",
        "       simple_regret_approx_16[slice3],\n",
        "       simple_regret_approx_17[slice3],\n",
        "       simple_regret_approx_18[slice3],\n",
        "       simple_regret_approx_19[slice3],\n",
        "       simple_regret_approx_20[slice3]]\n",
        "\n",
        "exact3 = [simple_regret_exact_1[slice3],\n",
        "       simple_regret_exact_2[slice3],\n",
        "       simple_regret_exact_3[slice3],\n",
        "       simple_regret_exact_4[slice3],\n",
        "       simple_regret_exact_5[slice3],\n",
        "       simple_regret_exact_6[slice3],\n",
        "       simple_regret_exact_7[slice3],\n",
        "       simple_regret_exact_8[slice3],\n",
        "       simple_regret_exact_9[slice3],\n",
        "       simple_regret_exact_10[slice3],\n",
        "       simple_regret_exact_11[slice3],\n",
        "       simple_regret_exact_12[slice3],\n",
        "       simple_regret_exact_13[slice3],\n",
        "       simple_regret_exact_14[slice3],\n",
        "       simple_regret_exact_15[slice3],\n",
        "       simple_regret_exact_16[slice3],\n",
        "       simple_regret_exact_17[slice3],\n",
        "       simple_regret_exact_18[slice3],\n",
        "       simple_regret_exact_19[slice3],\n",
        "       simple_regret_exact_20[slice3]]\n",
        "\n",
        "approx3_results = pd.DataFrame(approx3).sort_values(by=[0], ascending=False)\n",
        "exact3_results = pd.DataFrame(exact3).sort_values(by=[0], ascending=False)\n",
        "\n",
        "### Best simple regret minimization IQR - approx:\n",
        "lower_approx3 = np.asarray(approx3_results[4:5][0])[0]\n",
        "median_approx3 = np.asarray(approx3_results[9:10][0])[0]\n",
        "upper_approx3 = np.asarray(approx3_results[14:15][0])[0]\n",
        "\n",
        "lower_exact3 = np.asarray(exact3_results[4:5][0])[0]\n",
        "median_exact3 = np.asarray(exact3_results[9:10][0])[0]\n",
        "upper_exact3 = np.asarray(exact3_results[14:15][0])[0]"
      ]
    },
    {
      "cell_type": "code",
      "execution_count": 81,
      "metadata": {
        "id": "plf83wxrQxf4"
      },
      "outputs": [],
      "source": [
        "# Iteration13 :\n",
        "\n",
        "slice13 = 12\n",
        "\n",
        "approx13 = [simple_regret_approx_1[slice13],\n",
        "       simple_regret_approx_2[slice13],\n",
        "       simple_regret_approx_3[slice13],\n",
        "       simple_regret_approx_4[slice13],\n",
        "       simple_regret_approx_5[slice13],\n",
        "       simple_regret_approx_6[slice13],\n",
        "       simple_regret_approx_7[slice13],\n",
        "       simple_regret_approx_8[slice13],\n",
        "       simple_regret_approx_9[slice13],\n",
        "       simple_regret_approx_10[slice13],\n",
        "       simple_regret_approx_11[slice13],\n",
        "       simple_regret_approx_12[slice13],\n",
        "       simple_regret_approx_13[slice13],\n",
        "       simple_regret_approx_14[slice13],\n",
        "       simple_regret_approx_15[slice13],\n",
        "       simple_regret_approx_16[slice13],\n",
        "       simple_regret_approx_17[slice13],\n",
        "       simple_regret_approx_18[slice13],\n",
        "       simple_regret_approx_19[slice13],\n",
        "       simple_regret_approx_20[slice13]]\n",
        "\n",
        "exact13 = [simple_regret_exact_1[slice13],\n",
        "       simple_regret_exact_2[slice13],\n",
        "       simple_regret_exact_3[slice13],\n",
        "       simple_regret_exact_4[slice13],\n",
        "       simple_regret_exact_5[slice13],\n",
        "       simple_regret_exact_6[slice13],\n",
        "       simple_regret_exact_7[slice13],\n",
        "       simple_regret_exact_8[slice13],\n",
        "       simple_regret_exact_9[slice13],\n",
        "       simple_regret_exact_10[slice13],\n",
        "       simple_regret_exact_11[slice13],\n",
        "       simple_regret_exact_12[slice13],\n",
        "       simple_regret_exact_13[slice13],\n",
        "       simple_regret_exact_14[slice13],\n",
        "       simple_regret_exact_15[slice13],\n",
        "       simple_regret_exact_16[slice13],\n",
        "       simple_regret_exact_17[slice13],\n",
        "       simple_regret_exact_18[slice13],\n",
        "       simple_regret_exact_19[slice13],\n",
        "       simple_regret_exact_20[slice13]]\n",
        "\n",
        "approx13_results = pd.DataFrame(approx13).sort_values(by=[0], ascending=False)\n",
        "exact13_results = pd.DataFrame(exact13).sort_values(by=[0], ascending=False)\n",
        "\n",
        "### Best simple regret minimization IQR - approx:\n",
        "lower_approx13 = np.asarray(approx13_results[4:5][0])[0]\n",
        "median_approx13 = np.asarray(approx13_results[9:10][0])[0]\n",
        "upper_approx13 = np.asarray(approx13_results[14:15][0])[0]\n",
        "\n",
        "lower_exact13 = np.asarray(exact13_results[4:5][0])[0]\n",
        "median_exact13 = np.asarray(exact13_results[9:10][0])[0]\n",
        "upper_exact13 = np.asarray(exact13_results[14:15][0])[0]"
      ]
    },
    {
      "cell_type": "code",
      "execution_count": 82,
      "metadata": {
        "id": "9A7mlVvJQxf5"
      },
      "outputs": [],
      "source": [
        "# Iteration4 :\n",
        "\n",
        "slice4 = 3\n",
        "\n",
        "approx4 = [simple_regret_approx_1[slice4],\n",
        "       simple_regret_approx_2[slice4],\n",
        "       simple_regret_approx_3[slice4],\n",
        "       simple_regret_approx_4[slice4],\n",
        "       simple_regret_approx_5[slice4],\n",
        "       simple_regret_approx_6[slice4],\n",
        "       simple_regret_approx_7[slice4],\n",
        "       simple_regret_approx_8[slice4],\n",
        "       simple_regret_approx_9[slice4],\n",
        "       simple_regret_approx_10[slice4],\n",
        "       simple_regret_approx_11[slice4],\n",
        "       simple_regret_approx_12[slice4],\n",
        "       simple_regret_approx_13[slice4],\n",
        "       simple_regret_approx_14[slice4],\n",
        "       simple_regret_approx_15[slice4],\n",
        "       simple_regret_approx_16[slice4],\n",
        "       simple_regret_approx_17[slice4],\n",
        "       simple_regret_approx_18[slice4],\n",
        "       simple_regret_approx_19[slice4],\n",
        "       simple_regret_approx_20[slice4]]\n",
        "\n",
        "exact4 = [simple_regret_exact_1[slice4],\n",
        "       simple_regret_exact_2[slice4],\n",
        "       simple_regret_exact_3[slice4],\n",
        "       simple_regret_exact_4[slice4],\n",
        "       simple_regret_exact_5[slice4],\n",
        "       simple_regret_exact_6[slice4],\n",
        "       simple_regret_exact_7[slice4],\n",
        "       simple_regret_exact_8[slice4],\n",
        "       simple_regret_exact_9[slice4],\n",
        "       simple_regret_exact_10[slice4],\n",
        "       simple_regret_exact_11[slice4],\n",
        "       simple_regret_exact_12[slice4],\n",
        "       simple_regret_exact_13[slice4],\n",
        "       simple_regret_exact_14[slice4],\n",
        "       simple_regret_exact_15[slice4],\n",
        "       simple_regret_exact_16[slice4],\n",
        "       simple_regret_exact_17[slice4],\n",
        "       simple_regret_exact_18[slice4],\n",
        "       simple_regret_exact_19[slice4],\n",
        "       simple_regret_exact_20[slice4]]\n",
        "\n",
        "approx4_results = pd.DataFrame(approx4).sort_values(by=[0], ascending=False)\n",
        "exact4_results = pd.DataFrame(exact4).sort_values(by=[0], ascending=False)\n",
        "\n",
        "### Best simple regret minimization IQR - approx:\n",
        "lower_approx4 = np.asarray(approx4_results[4:5][0])[0]\n",
        "median_approx4 = np.asarray(approx4_results[9:10][0])[0]\n",
        "upper_approx4 = np.asarray(approx4_results[14:15][0])[0]\n",
        "\n",
        "lower_exact4 = np.asarray(exact4_results[4:5][0])[0]\n",
        "median_exact4 = np.asarray(exact4_results[9:10][0])[0]\n",
        "upper_exact4 = np.asarray(exact4_results[14:15][0])[0]"
      ]
    },
    {
      "cell_type": "code",
      "execution_count": 83,
      "metadata": {
        "id": "ijq-rioYQxf5"
      },
      "outputs": [],
      "source": [
        "# Iteration14 :\n",
        "\n",
        "slice14 = 13\n",
        "\n",
        "approx14 = [simple_regret_approx_1[slice14],\n",
        "       simple_regret_approx_2[slice14],\n",
        "       simple_regret_approx_3[slice14],\n",
        "       simple_regret_approx_4[slice14],\n",
        "       simple_regret_approx_5[slice14],\n",
        "       simple_regret_approx_6[slice14],\n",
        "       simple_regret_approx_7[slice14],\n",
        "       simple_regret_approx_8[slice14],\n",
        "       simple_regret_approx_9[slice14],\n",
        "       simple_regret_approx_10[slice14],\n",
        "       simple_regret_approx_11[slice14],\n",
        "       simple_regret_approx_12[slice14],\n",
        "       simple_regret_approx_13[slice14],\n",
        "       simple_regret_approx_14[slice14],\n",
        "       simple_regret_approx_15[slice14],\n",
        "       simple_regret_approx_16[slice14],\n",
        "       simple_regret_approx_17[slice14],\n",
        "       simple_regret_approx_18[slice14],\n",
        "       simple_regret_approx_19[slice14],\n",
        "       simple_regret_approx_20[slice14]]\n",
        "\n",
        "exact14 = [simple_regret_exact_1[slice14],\n",
        "       simple_regret_exact_2[slice14],\n",
        "       simple_regret_exact_3[slice14],\n",
        "       simple_regret_exact_4[slice14],\n",
        "       simple_regret_exact_5[slice14],\n",
        "       simple_regret_exact_6[slice14],\n",
        "       simple_regret_exact_7[slice14],\n",
        "       simple_regret_exact_8[slice14],\n",
        "       simple_regret_exact_9[slice14],\n",
        "       simple_regret_exact_10[slice14],\n",
        "       simple_regret_exact_11[slice14],\n",
        "       simple_regret_exact_12[slice14],\n",
        "       simple_regret_exact_13[slice14],\n",
        "       simple_regret_exact_14[slice14],\n",
        "       simple_regret_exact_15[slice14],\n",
        "       simple_regret_exact_16[slice14],\n",
        "       simple_regret_exact_17[slice14],\n",
        "       simple_regret_exact_18[slice14],\n",
        "       simple_regret_exact_19[slice14],\n",
        "       simple_regret_exact_20[slice14]]\n",
        "\n",
        "approx14_results = pd.DataFrame(approx14).sort_values(by=[0], ascending=False)\n",
        "exact14_results = pd.DataFrame(exact14).sort_values(by=[0], ascending=False)\n",
        "\n",
        "### Best simple regret minimization IQR - approx:\n",
        "lower_approx14 = np.asarray(approx14_results[4:5][0])[0]\n",
        "median_approx14 = np.asarray(approx14_results[9:10][0])[0]\n",
        "upper_approx14 = np.asarray(approx14_results[14:15][0])[0]\n",
        "\n",
        "lower_exact14 = np.asarray(exact14_results[4:5][0])[0]\n",
        "median_exact14 = np.asarray(exact14_results[9:10][0])[0]\n",
        "upper_exact14 = np.asarray(exact14_results[14:15][0])[0]"
      ]
    },
    {
      "cell_type": "code",
      "execution_count": 84,
      "metadata": {
        "id": "XINlZjoTd-ZK"
      },
      "outputs": [],
      "source": [
        "# Iteration5 :\n",
        "\n",
        "slice5 = 4\n",
        "\n",
        "approx5 = [simple_regret_approx_1[slice5],\n",
        "       simple_regret_approx_2[slice5],\n",
        "       simple_regret_approx_3[slice5],\n",
        "       simple_regret_approx_4[slice5],\n",
        "       simple_regret_approx_5[slice5],\n",
        "       simple_regret_approx_6[slice5],\n",
        "       simple_regret_approx_7[slice5],\n",
        "       simple_regret_approx_8[slice5],\n",
        "       simple_regret_approx_9[slice5],\n",
        "       simple_regret_approx_10[slice5],\n",
        "       simple_regret_approx_11[slice5],\n",
        "       simple_regret_approx_12[slice5],\n",
        "       simple_regret_approx_13[slice5],\n",
        "       simple_regret_approx_14[slice5],\n",
        "       simple_regret_approx_15[slice5],\n",
        "       simple_regret_approx_16[slice5],\n",
        "       simple_regret_approx_17[slice5],\n",
        "       simple_regret_approx_18[slice5],\n",
        "       simple_regret_approx_19[slice5],\n",
        "       simple_regret_approx_20[slice5]]\n",
        "\n",
        "exact5 = [simple_regret_exact_1[slice5],\n",
        "       simple_regret_exact_2[slice5],\n",
        "       simple_regret_exact_3[slice5],\n",
        "       simple_regret_exact_4[slice5],\n",
        "       simple_regret_exact_5[slice5],\n",
        "       simple_regret_exact_6[slice5],\n",
        "       simple_regret_exact_7[slice5],\n",
        "       simple_regret_exact_8[slice5],\n",
        "       simple_regret_exact_9[slice5],\n",
        "       simple_regret_exact_10[slice5],\n",
        "       simple_regret_exact_11[slice5],\n",
        "       simple_regret_exact_12[slice5],\n",
        "       simple_regret_exact_13[slice5],\n",
        "       simple_regret_exact_14[slice5],\n",
        "       simple_regret_exact_15[slice5],\n",
        "       simple_regret_exact_16[slice5],\n",
        "       simple_regret_exact_17[slice5],\n",
        "       simple_regret_exact_18[slice5],\n",
        "       simple_regret_exact_19[slice5],\n",
        "       simple_regret_exact_20[slice5]]\n",
        "\n",
        "approx5_results = pd.DataFrame(approx5).sort_values(by=[0], ascending=False)\n",
        "exact5_results = pd.DataFrame(exact5).sort_values(by=[0], ascending=False)\n",
        "\n",
        "### Best simple regret minimization IQR - approx:\n",
        "lower_approx5 = np.asarray(approx5_results[4:5][0])[0]\n",
        "median_approx5 = np.asarray(approx5_results[9:10][0])[0]\n",
        "upper_approx5 = np.asarray(approx5_results[14:15][0])[0]\n",
        "\n",
        "lower_exact5 = np.asarray(exact5_results[4:5][0])[0]\n",
        "median_exact5 = np.asarray(exact5_results[9:10][0])[0]\n",
        "upper_exact5 = np.asarray(exact5_results[14:15][0])[0]"
      ]
    },
    {
      "cell_type": "code",
      "execution_count": 85,
      "metadata": {
        "id": "4aZ7C8sOQxf6"
      },
      "outputs": [],
      "source": [
        "# Iteration15 :\n",
        "\n",
        "slice15 = 14\n",
        "\n",
        "approx15 = [simple_regret_approx_1[slice15],\n",
        "       simple_regret_approx_2[slice15],\n",
        "       simple_regret_approx_3[slice15],\n",
        "       simple_regret_approx_4[slice15],\n",
        "       simple_regret_approx_5[slice15],\n",
        "       simple_regret_approx_6[slice15],\n",
        "       simple_regret_approx_7[slice15],\n",
        "       simple_regret_approx_8[slice15],\n",
        "       simple_regret_approx_9[slice15],\n",
        "       simple_regret_approx_10[slice15],\n",
        "       simple_regret_approx_11[slice15],\n",
        "       simple_regret_approx_12[slice15],\n",
        "       simple_regret_approx_13[slice15],\n",
        "       simple_regret_approx_14[slice15],\n",
        "       simple_regret_approx_15[slice15],\n",
        "       simple_regret_approx_16[slice15],\n",
        "       simple_regret_approx_17[slice15],\n",
        "       simple_regret_approx_18[slice15],\n",
        "       simple_regret_approx_19[slice15],\n",
        "       simple_regret_approx_20[slice15]]\n",
        "\n",
        "exact15 = [simple_regret_exact_1[slice15],\n",
        "       simple_regret_exact_2[slice15],\n",
        "       simple_regret_exact_3[slice15],\n",
        "       simple_regret_exact_4[slice15],\n",
        "       simple_regret_exact_5[slice15],\n",
        "       simple_regret_exact_6[slice15],\n",
        "       simple_regret_exact_7[slice15],\n",
        "       simple_regret_exact_8[slice15],\n",
        "       simple_regret_exact_9[slice15],\n",
        "       simple_regret_exact_10[slice15],\n",
        "       simple_regret_exact_11[slice15],\n",
        "       simple_regret_exact_12[slice15],\n",
        "       simple_regret_exact_13[slice15],\n",
        "       simple_regret_exact_14[slice15],\n",
        "       simple_regret_exact_15[slice15],\n",
        "       simple_regret_exact_16[slice15],\n",
        "       simple_regret_exact_17[slice15],\n",
        "       simple_regret_exact_18[slice15],\n",
        "       simple_regret_exact_19[slice15],\n",
        "       simple_regret_exact_20[slice15]]\n",
        "\n",
        "approx15_results = pd.DataFrame(approx15).sort_values(by=[0], ascending=False)\n",
        "exact15_results = pd.DataFrame(exact15).sort_values(by=[0], ascending=False)\n",
        "\n",
        "### Best simple regret minimization IQR - approx:\n",
        "lower_approx15 = np.asarray(approx15_results[4:5][0])[0]\n",
        "median_approx15 = np.asarray(approx15_results[9:10][0])[0]\n",
        "upper_approx15 = np.asarray(approx15_results[14:15][0])[0]\n",
        "\n",
        "lower_exact15 = np.asarray(exact15_results[4:5][0])[0]\n",
        "median_exact15 = np.asarray(exact15_results[9:10][0])[0]\n",
        "upper_exact15 = np.asarray(exact15_results[14:15][0])[0]"
      ]
    },
    {
      "cell_type": "code",
      "execution_count": 86,
      "metadata": {
        "id": "KJINKhv1Qxf6"
      },
      "outputs": [],
      "source": [
        "# Iteration6 :\n",
        "\n",
        "slice6 = 5\n",
        "\n",
        "approx6 = [simple_regret_approx_1[slice6],\n",
        "       simple_regret_approx_2[slice6],\n",
        "       simple_regret_approx_3[slice6],\n",
        "       simple_regret_approx_4[slice6],\n",
        "       simple_regret_approx_5[slice6],\n",
        "       simple_regret_approx_6[slice6],\n",
        "       simple_regret_approx_7[slice6],\n",
        "       simple_regret_approx_8[slice6],\n",
        "       simple_regret_approx_9[slice6],\n",
        "       simple_regret_approx_10[slice6],\n",
        "       simple_regret_approx_11[slice6],\n",
        "       simple_regret_approx_12[slice6],\n",
        "       simple_regret_approx_13[slice6],\n",
        "       simple_regret_approx_14[slice6],\n",
        "       simple_regret_approx_15[slice6],\n",
        "       simple_regret_approx_16[slice6],\n",
        "       simple_regret_approx_17[slice6],\n",
        "       simple_regret_approx_18[slice6],\n",
        "       simple_regret_approx_19[slice6],\n",
        "       simple_regret_approx_20[slice6]]\n",
        "\n",
        "exact6 = [simple_regret_exact_1[slice6],\n",
        "       simple_regret_exact_2[slice6],\n",
        "       simple_regret_exact_3[slice6],\n",
        "       simple_regret_exact_4[slice6],\n",
        "       simple_regret_exact_5[slice6],\n",
        "       simple_regret_exact_6[slice6],\n",
        "       simple_regret_exact_7[slice6],\n",
        "       simple_regret_exact_8[slice6],\n",
        "       simple_regret_exact_9[slice6],\n",
        "       simple_regret_exact_10[slice6],\n",
        "       simple_regret_exact_11[slice6],\n",
        "       simple_regret_exact_12[slice6],\n",
        "       simple_regret_exact_13[slice6],\n",
        "       simple_regret_exact_14[slice6],\n",
        "       simple_regret_exact_15[slice6],\n",
        "       simple_regret_exact_16[slice6],\n",
        "       simple_regret_exact_17[slice6],\n",
        "       simple_regret_exact_18[slice6],\n",
        "       simple_regret_exact_19[slice6],\n",
        "       simple_regret_exact_20[slice6]]\n",
        "\n",
        "approx6_results = pd.DataFrame(approx6).sort_values(by=[0], ascending=False)\n",
        "exact6_results = pd.DataFrame(exact6).sort_values(by=[0], ascending=False)\n",
        "\n",
        "### Best simple regret minimization IQR - approx:\n",
        "lower_approx6 = np.asarray(approx6_results[4:5][0])[0]\n",
        "median_approx6 = np.asarray(approx6_results[9:10][0])[0]\n",
        "upper_approx6 = np.asarray(approx6_results[14:15][0])[0]\n",
        "\n",
        "lower_exact6 = np.asarray(exact6_results[4:5][0])[0]\n",
        "median_exact6 = np.asarray(exact6_results[9:10][0])[0]\n",
        "upper_exact6 = np.asarray(exact6_results[14:15][0])[0]"
      ]
    },
    {
      "cell_type": "code",
      "execution_count": 87,
      "metadata": {
        "id": "nwC5N1FsQxf7"
      },
      "outputs": [],
      "source": [
        "# Iteration16 :\n",
        "\n",
        "slice16 = 15\n",
        "\n",
        "approx16 = [simple_regret_approx_1[slice16],\n",
        "       simple_regret_approx_2[slice16],\n",
        "       simple_regret_approx_3[slice16],\n",
        "       simple_regret_approx_4[slice16],\n",
        "       simple_regret_approx_5[slice16],\n",
        "       simple_regret_approx_6[slice16],\n",
        "       simple_regret_approx_7[slice16],\n",
        "       simple_regret_approx_8[slice16],\n",
        "       simple_regret_approx_9[slice16],\n",
        "       simple_regret_approx_10[slice16],\n",
        "       simple_regret_approx_11[slice16],\n",
        "       simple_regret_approx_12[slice16],\n",
        "       simple_regret_approx_13[slice16],\n",
        "       simple_regret_approx_14[slice16],\n",
        "       simple_regret_approx_15[slice16],\n",
        "       simple_regret_approx_16[slice16],\n",
        "       simple_regret_approx_17[slice16],\n",
        "       simple_regret_approx_18[slice16],\n",
        "       simple_regret_approx_19[slice16],\n",
        "       simple_regret_approx_20[slice16]]\n",
        "\n",
        "exact16 = [simple_regret_exact_1[slice16],\n",
        "       simple_regret_exact_2[slice16],\n",
        "       simple_regret_exact_3[slice16],\n",
        "       simple_regret_exact_4[slice16],\n",
        "       simple_regret_exact_5[slice16],\n",
        "       simple_regret_exact_6[slice16],\n",
        "       simple_regret_exact_7[slice16],\n",
        "       simple_regret_exact_8[slice16],\n",
        "       simple_regret_exact_9[slice16],\n",
        "       simple_regret_exact_10[slice16],\n",
        "       simple_regret_exact_11[slice16],\n",
        "       simple_regret_exact_12[slice16],\n",
        "       simple_regret_exact_13[slice16],\n",
        "       simple_regret_exact_14[slice16],\n",
        "       simple_regret_exact_15[slice16],\n",
        "       simple_regret_exact_16[slice16],\n",
        "       simple_regret_exact_17[slice16],\n",
        "       simple_regret_exact_18[slice16],\n",
        "       simple_regret_exact_19[slice16],\n",
        "       simple_regret_exact_20[slice16]]\n",
        "\n",
        "approx16_results = pd.DataFrame(approx16).sort_values(by=[0], ascending=False)\n",
        "exact16_results = pd.DataFrame(exact16).sort_values(by=[0], ascending=False)\n",
        "\n",
        "### Best simple regret minimization IQR - approx:\n",
        "lower_approx16 = np.asarray(approx16_results[4:5][0])[0]\n",
        "median_approx16 = np.asarray(approx16_results[9:10][0])[0]\n",
        "upper_approx16 = np.asarray(approx16_results[14:15][0])[0]\n",
        "\n",
        "lower_exact16 = np.asarray(exact16_results[4:5][0])[0]\n",
        "median_exact16 = np.asarray(exact16_results[9:10][0])[0]\n",
        "upper_exact16 = np.asarray(exact16_results[14:15][0])[0]"
      ]
    },
    {
      "cell_type": "code",
      "execution_count": 88,
      "metadata": {
        "id": "TrPV0AfnQxf7"
      },
      "outputs": [],
      "source": [
        "# Iteration7 :\n",
        "\n",
        "slice7 = 6\n",
        "\n",
        "approx7 = [simple_regret_approx_1[slice7],\n",
        "       simple_regret_approx_2[slice7],\n",
        "       simple_regret_approx_3[slice7],\n",
        "       simple_regret_approx_4[slice7],\n",
        "       simple_regret_approx_5[slice7],\n",
        "       simple_regret_approx_6[slice7],\n",
        "       simple_regret_approx_7[slice7],\n",
        "       simple_regret_approx_8[slice7],\n",
        "       simple_regret_approx_9[slice7],\n",
        "       simple_regret_approx_10[slice7],\n",
        "       simple_regret_approx_11[slice7],\n",
        "       simple_regret_approx_12[slice7],\n",
        "       simple_regret_approx_13[slice7],\n",
        "       simple_regret_approx_14[slice7],\n",
        "       simple_regret_approx_15[slice7],\n",
        "       simple_regret_approx_16[slice7],\n",
        "       simple_regret_approx_17[slice7],\n",
        "       simple_regret_approx_18[slice7],\n",
        "       simple_regret_approx_19[slice7],\n",
        "       simple_regret_approx_20[slice7]]\n",
        "\n",
        "exact7 = [simple_regret_exact_1[slice7],\n",
        "       simple_regret_exact_2[slice7],\n",
        "       simple_regret_exact_3[slice7],\n",
        "       simple_regret_exact_4[slice7],\n",
        "       simple_regret_exact_5[slice7],\n",
        "       simple_regret_exact_6[slice7],\n",
        "       simple_regret_exact_7[slice7],\n",
        "       simple_regret_exact_8[slice7],\n",
        "       simple_regret_exact_9[slice7],\n",
        "       simple_regret_exact_10[slice7],\n",
        "       simple_regret_exact_11[slice7],\n",
        "       simple_regret_exact_12[slice7],\n",
        "       simple_regret_exact_13[slice7],\n",
        "       simple_regret_exact_14[slice7],\n",
        "       simple_regret_exact_15[slice7],\n",
        "       simple_regret_exact_16[slice7],\n",
        "       simple_regret_exact_17[slice7],\n",
        "       simple_regret_exact_18[slice7],\n",
        "       simple_regret_exact_19[slice7],\n",
        "       simple_regret_exact_20[slice7]]\n",
        "\n",
        "approx7_results = pd.DataFrame(approx7).sort_values(by=[0], ascending=False)\n",
        "exact7_results = pd.DataFrame(exact7).sort_values(by=[0], ascending=False)\n",
        "\n",
        "### Best simple regret minimization IQR - approx:\n",
        "lower_approx7 = np.asarray(approx7_results[4:5][0])[0]\n",
        "median_approx7 = np.asarray(approx7_results[9:10][0])[0]\n",
        "upper_approx7 = np.asarray(approx7_results[14:15][0])[0]\n",
        "\n",
        "lower_exact7 = np.asarray(exact7_results[4:5][0])[0]\n",
        "median_exact7 = np.asarray(exact7_results[9:10][0])[0]\n",
        "upper_exact7 = np.asarray(exact7_results[14:15][0])[0]"
      ]
    },
    {
      "cell_type": "code",
      "execution_count": 89,
      "metadata": {
        "id": "Ub_-wpK4Qxf8"
      },
      "outputs": [],
      "source": [
        "# Iteration17 :\n",
        "\n",
        "slice17 = 16\n",
        "\n",
        "approx17 = [simple_regret_approx_1[slice17],\n",
        "       simple_regret_approx_2[slice17],\n",
        "       simple_regret_approx_3[slice17],\n",
        "       simple_regret_approx_4[slice17],\n",
        "       simple_regret_approx_5[slice17],\n",
        "       simple_regret_approx_6[slice17],\n",
        "       simple_regret_approx_7[slice17],\n",
        "       simple_regret_approx_8[slice17],\n",
        "       simple_regret_approx_9[slice17],\n",
        "       simple_regret_approx_10[slice17],\n",
        "       simple_regret_approx_11[slice17],\n",
        "       simple_regret_approx_12[slice17],\n",
        "       simple_regret_approx_13[slice17],\n",
        "       simple_regret_approx_14[slice17],\n",
        "       simple_regret_approx_15[slice17],\n",
        "       simple_regret_approx_16[slice17],\n",
        "       simple_regret_approx_17[slice17],\n",
        "       simple_regret_approx_18[slice17],\n",
        "       simple_regret_approx_19[slice17],\n",
        "       simple_regret_approx_20[slice17]]\n",
        "\n",
        "exact17 = [simple_regret_exact_1[slice17],\n",
        "       simple_regret_exact_2[slice17],\n",
        "       simple_regret_exact_3[slice17],\n",
        "       simple_regret_exact_4[slice17],\n",
        "       simple_regret_exact_5[slice17],\n",
        "       simple_regret_exact_6[slice17],\n",
        "       simple_regret_exact_7[slice17],\n",
        "       simple_regret_exact_8[slice17],\n",
        "       simple_regret_exact_9[slice17],\n",
        "       simple_regret_exact_10[slice17],\n",
        "       simple_regret_exact_11[slice17],\n",
        "       simple_regret_exact_12[slice17],\n",
        "       simple_regret_exact_13[slice17],\n",
        "       simple_regret_exact_14[slice17],\n",
        "       simple_regret_exact_15[slice17],\n",
        "       simple_regret_exact_16[slice17],\n",
        "       simple_regret_exact_17[slice17],\n",
        "       simple_regret_exact_18[slice17],\n",
        "       simple_regret_exact_19[slice17],\n",
        "       simple_regret_exact_20[slice17]]\n",
        "\n",
        "approx17_results = pd.DataFrame(approx17).sort_values(by=[0], ascending=False)\n",
        "exact17_results = pd.DataFrame(exact17).sort_values(by=[0], ascending=False)\n",
        "\n",
        "### Best simple regret minimization IQR - approx:\n",
        "lower_approx17 = np.asarray(approx17_results[4:5][0])[0]\n",
        "median_approx17 = np.asarray(approx17_results[9:10][0])[0]\n",
        "upper_approx17 = np.asarray(approx17_results[14:15][0])[0]\n",
        "\n",
        "lower_exact17 = np.asarray(exact17_results[4:5][0])[0]\n",
        "median_exact17 = np.asarray(exact17_results[9:10][0])[0]\n",
        "upper_exact17 = np.asarray(exact17_results[14:15][0])[0]"
      ]
    },
    {
      "cell_type": "code",
      "execution_count": 90,
      "metadata": {
        "id": "-6VLo37PQxf8"
      },
      "outputs": [],
      "source": [
        "# Iteration8 :\n",
        "\n",
        "slice8 = 7\n",
        "\n",
        "approx8 = [simple_regret_approx_1[slice8],\n",
        "       simple_regret_approx_2[slice8],\n",
        "       simple_regret_approx_3[slice8],\n",
        "       simple_regret_approx_4[slice8],\n",
        "       simple_regret_approx_5[slice8],\n",
        "       simple_regret_approx_6[slice8],\n",
        "       simple_regret_approx_7[slice8],\n",
        "       simple_regret_approx_8[slice8],\n",
        "       simple_regret_approx_9[slice8],\n",
        "       simple_regret_approx_10[slice8],\n",
        "       simple_regret_approx_11[slice8],\n",
        "       simple_regret_approx_12[slice8],\n",
        "       simple_regret_approx_13[slice8],\n",
        "       simple_regret_approx_14[slice8],\n",
        "       simple_regret_approx_15[slice8],\n",
        "       simple_regret_approx_16[slice8],\n",
        "       simple_regret_approx_17[slice8],\n",
        "       simple_regret_approx_18[slice8],\n",
        "       simple_regret_approx_19[slice8],\n",
        "       simple_regret_approx_20[slice8]]\n",
        "\n",
        "exact8 = [simple_regret_exact_1[slice8],\n",
        "       simple_regret_exact_2[slice8],\n",
        "       simple_regret_exact_3[slice8],\n",
        "       simple_regret_exact_4[slice8],\n",
        "       simple_regret_exact_5[slice8],\n",
        "       simple_regret_exact_6[slice8],\n",
        "       simple_regret_exact_7[slice8],\n",
        "       simple_regret_exact_8[slice8],\n",
        "       simple_regret_exact_9[slice8],\n",
        "       simple_regret_exact_10[slice8],\n",
        "       simple_regret_exact_11[slice8],\n",
        "       simple_regret_exact_12[slice8],\n",
        "       simple_regret_exact_13[slice8],\n",
        "       simple_regret_exact_14[slice8],\n",
        "       simple_regret_exact_15[slice8],\n",
        "       simple_regret_exact_16[slice8],\n",
        "       simple_regret_exact_17[slice8],\n",
        "       simple_regret_exact_18[slice8],\n",
        "       simple_regret_exact_19[slice8],\n",
        "       simple_regret_exact_20[slice8]]\n",
        "\n",
        "approx8_results = pd.DataFrame(approx8).sort_values(by=[0], ascending=False)\n",
        "exact8_results = pd.DataFrame(exact8).sort_values(by=[0], ascending=False)\n",
        "\n",
        "### Best simple regret minimization IQR - approx:\n",
        "lower_approx8 = np.asarray(approx8_results[4:5][0])[0]\n",
        "median_approx8 = np.asarray(approx8_results[9:10][0])[0]\n",
        "upper_approx8 = np.asarray(approx8_results[14:15][0])[0]\n",
        "\n",
        "lower_exact8 = np.asarray(exact8_results[4:5][0])[0]\n",
        "median_exact8 = np.asarray(exact8_results[9:10][0])[0]\n",
        "upper_exact8 = np.asarray(exact8_results[14:15][0])[0]"
      ]
    },
    {
      "cell_type": "code",
      "execution_count": 91,
      "metadata": {
        "id": "2Dp-9CC2Qxf9"
      },
      "outputs": [],
      "source": [
        "# Iteration18 :\n",
        "\n",
        "slice18 = 17\n",
        "\n",
        "approx18 = [simple_regret_approx_1[slice18],\n",
        "       simple_regret_approx_2[slice18],\n",
        "       simple_regret_approx_3[slice18],\n",
        "       simple_regret_approx_4[slice18],\n",
        "       simple_regret_approx_5[slice18],\n",
        "       simple_regret_approx_6[slice18],\n",
        "       simple_regret_approx_7[slice18],\n",
        "       simple_regret_approx_8[slice18],\n",
        "       simple_regret_approx_9[slice18],\n",
        "       simple_regret_approx_10[slice18],\n",
        "       simple_regret_approx_11[slice18],\n",
        "       simple_regret_approx_12[slice18],\n",
        "       simple_regret_approx_13[slice18],\n",
        "       simple_regret_approx_14[slice18],\n",
        "       simple_regret_approx_15[slice18],\n",
        "       simple_regret_approx_16[slice18],\n",
        "       simple_regret_approx_17[slice18],\n",
        "       simple_regret_approx_18[slice18],\n",
        "       simple_regret_approx_19[slice18],\n",
        "       simple_regret_approx_20[slice18]]\n",
        "\n",
        "exact18 = [simple_regret_exact_1[slice18],\n",
        "       simple_regret_exact_2[slice18],\n",
        "       simple_regret_exact_3[slice18],\n",
        "       simple_regret_exact_4[slice18],\n",
        "       simple_regret_exact_5[slice18],\n",
        "       simple_regret_exact_6[slice18],\n",
        "       simple_regret_exact_7[slice18],\n",
        "       simple_regret_exact_8[slice18],\n",
        "       simple_regret_exact_9[slice18],\n",
        "       simple_regret_exact_10[slice18],\n",
        "       simple_regret_exact_11[slice18],\n",
        "       simple_regret_exact_12[slice18],\n",
        "       simple_regret_exact_13[slice18],\n",
        "       simple_regret_exact_14[slice18],\n",
        "       simple_regret_exact_15[slice18],\n",
        "       simple_regret_exact_16[slice18],\n",
        "       simple_regret_exact_17[slice18],\n",
        "       simple_regret_exact_18[slice18],\n",
        "       simple_regret_exact_19[slice18],\n",
        "       simple_regret_exact_20[slice18]]\n",
        "\n",
        "approx18_results = pd.DataFrame(approx18).sort_values(by=[0], ascending=False)\n",
        "exact18_results = pd.DataFrame(exact18).sort_values(by=[0], ascending=False)\n",
        "\n",
        "### Best simple regret minimization IQR - approx:\n",
        "lower_approx18 = np.asarray(approx18_results[4:5][0])[0]\n",
        "median_approx18 = np.asarray(approx18_results[9:10][0])[0]\n",
        "upper_approx18 = np.asarray(approx18_results[14:15][0])[0]\n",
        "\n",
        "lower_exact18 = np.asarray(exact18_results[4:5][0])[0]\n",
        "median_exact18 = np.asarray(exact18_results[9:10][0])[0]\n",
        "upper_exact18 = np.asarray(exact18_results[14:15][0])[0]"
      ]
    },
    {
      "cell_type": "code",
      "execution_count": 92,
      "metadata": {
        "id": "SqiaOpB7Qxf9"
      },
      "outputs": [],
      "source": [
        "# Iteration9 :\n",
        "\n",
        "slice9 = 8\n",
        "\n",
        "approx9 = [simple_regret_approx_1[slice9],\n",
        "       simple_regret_approx_2[slice9],\n",
        "       simple_regret_approx_3[slice9],\n",
        "       simple_regret_approx_4[slice9],\n",
        "       simple_regret_approx_5[slice9],\n",
        "       simple_regret_approx_6[slice9],\n",
        "       simple_regret_approx_7[slice9],\n",
        "       simple_regret_approx_8[slice9],\n",
        "       simple_regret_approx_9[slice9],\n",
        "       simple_regret_approx_10[slice9],\n",
        "       simple_regret_approx_11[slice9],\n",
        "       simple_regret_approx_12[slice9],\n",
        "       simple_regret_approx_13[slice9],\n",
        "       simple_regret_approx_14[slice9],\n",
        "       simple_regret_approx_15[slice9],\n",
        "       simple_regret_approx_16[slice9],\n",
        "       simple_regret_approx_17[slice9],\n",
        "       simple_regret_approx_18[slice9],\n",
        "       simple_regret_approx_19[slice9],\n",
        "       simple_regret_approx_20[slice9]]\n",
        "\n",
        "exact9 = [simple_regret_exact_1[slice9],\n",
        "       simple_regret_exact_2[slice9],\n",
        "       simple_regret_exact_3[slice9],\n",
        "       simple_regret_exact_4[slice9],\n",
        "       simple_regret_exact_5[slice9],\n",
        "       simple_regret_exact_6[slice9],\n",
        "       simple_regret_exact_7[slice9],\n",
        "       simple_regret_exact_8[slice9],\n",
        "       simple_regret_exact_9[slice9],\n",
        "       simple_regret_exact_10[slice9],\n",
        "       simple_regret_exact_11[slice9],\n",
        "       simple_regret_exact_12[slice9],\n",
        "       simple_regret_exact_13[slice9],\n",
        "       simple_regret_exact_14[slice9],\n",
        "       simple_regret_exact_15[slice9],\n",
        "       simple_regret_exact_16[slice9],\n",
        "       simple_regret_exact_17[slice9],\n",
        "       simple_regret_exact_18[slice9],\n",
        "       simple_regret_exact_19[slice9],\n",
        "       simple_regret_exact_20[slice9]]\n",
        "\n",
        "approx9_results = pd.DataFrame(approx9).sort_values(by=[0], ascending=False)\n",
        "exact9_results = pd.DataFrame(exact9).sort_values(by=[0], ascending=False)\n",
        "\n",
        "### Best simple regret minimization IQR - approx:\n",
        "lower_approx9 = np.asarray(approx9_results[4:5][0])[0]\n",
        "median_approx9 = np.asarray(approx9_results[9:10][0])[0]\n",
        "upper_approx9 = np.asarray(approx9_results[14:15][0])[0]\n",
        "\n",
        "lower_exact9 = np.asarray(exact9_results[4:5][0])[0]\n",
        "median_exact9 = np.asarray(exact9_results[9:10][0])[0]\n",
        "upper_exact9 = np.asarray(exact9_results[14:15][0])[0]"
      ]
    },
    {
      "cell_type": "code",
      "execution_count": 93,
      "metadata": {
        "id": "OQkCCOsPQxf9"
      },
      "outputs": [],
      "source": [
        "# Iteration19 :\n",
        "\n",
        "slice19 = 18\n",
        "\n",
        "approx19 = [simple_regret_approx_1[slice19],\n",
        "       simple_regret_approx_2[slice19],\n",
        "       simple_regret_approx_3[slice19],\n",
        "       simple_regret_approx_4[slice19],\n",
        "       simple_regret_approx_5[slice19],\n",
        "       simple_regret_approx_6[slice19],\n",
        "       simple_regret_approx_7[slice19],\n",
        "       simple_regret_approx_8[slice19],\n",
        "       simple_regret_approx_9[slice19],\n",
        "       simple_regret_approx_10[slice19],\n",
        "       simple_regret_approx_11[slice19],\n",
        "       simple_regret_approx_12[slice19],\n",
        "       simple_regret_approx_13[slice19],\n",
        "       simple_regret_approx_14[slice19],\n",
        "       simple_regret_approx_15[slice19],\n",
        "       simple_regret_approx_16[slice19],\n",
        "       simple_regret_approx_17[slice19],\n",
        "       simple_regret_approx_18[slice19],\n",
        "       simple_regret_approx_19[slice19],\n",
        "       simple_regret_approx_20[slice19]]\n",
        "\n",
        "exact19 = [simple_regret_exact_1[slice19],\n",
        "       simple_regret_exact_2[slice19],\n",
        "       simple_regret_exact_3[slice19],\n",
        "       simple_regret_exact_4[slice19],\n",
        "       simple_regret_exact_5[slice19],\n",
        "       simple_regret_exact_6[slice19],\n",
        "       simple_regret_exact_7[slice19],\n",
        "       simple_regret_exact_8[slice19],\n",
        "       simple_regret_exact_9[slice19],\n",
        "       simple_regret_exact_10[slice19],\n",
        "       simple_regret_exact_11[slice19],\n",
        "       simple_regret_exact_12[slice19],\n",
        "       simple_regret_exact_13[slice19],\n",
        "       simple_regret_exact_14[slice19],\n",
        "       simple_regret_exact_15[slice19],\n",
        "       simple_regret_exact_16[slice19],\n",
        "       simple_regret_exact_17[slice19],\n",
        "       simple_regret_exact_18[slice19],\n",
        "       simple_regret_exact_19[slice19],\n",
        "       simple_regret_exact_20[slice19]]\n",
        "\n",
        "approx19_results = pd.DataFrame(approx19).sort_values(by=[0], ascending=False)\n",
        "exact19_results = pd.DataFrame(exact19).sort_values(by=[0], ascending=False)\n",
        "\n",
        "### Best simple regret minimization IQR - approx:\n",
        "lower_approx19 = np.asarray(approx19_results[4:5][0])[0]\n",
        "median_approx19 = np.asarray(approx19_results[9:10][0])[0]\n",
        "upper_approx19 = np.asarray(approx19_results[14:15][0])[0]\n",
        "\n",
        "lower_exact19 = np.asarray(exact19_results[4:5][0])[0]\n",
        "median_exact19 = np.asarray(exact19_results[9:10][0])[0]\n",
        "upper_exact19 = np.asarray(exact19_results[14:15][0])[0]"
      ]
    },
    {
      "cell_type": "code",
      "execution_count": 94,
      "metadata": {
        "id": "h4vtWahcQxf-"
      },
      "outputs": [],
      "source": [
        "# Iteration10 :\n",
        "\n",
        "slice10 = 9\n",
        "\n",
        "approx10 = [simple_regret_approx_1[slice10],\n",
        "       simple_regret_approx_2[slice10],\n",
        "       simple_regret_approx_3[slice10],\n",
        "       simple_regret_approx_4[slice10],\n",
        "       simple_regret_approx_5[slice10],\n",
        "       simple_regret_approx_6[slice10],\n",
        "       simple_regret_approx_7[slice10],\n",
        "       simple_regret_approx_8[slice10],\n",
        "       simple_regret_approx_9[slice10],\n",
        "       simple_regret_approx_10[slice10],\n",
        "       simple_regret_approx_11[slice10],\n",
        "       simple_regret_approx_12[slice10],\n",
        "       simple_regret_approx_13[slice10],\n",
        "       simple_regret_approx_14[slice10],\n",
        "       simple_regret_approx_15[slice10],\n",
        "       simple_regret_approx_16[slice10],\n",
        "       simple_regret_approx_17[slice10],\n",
        "       simple_regret_approx_18[slice10],\n",
        "       simple_regret_approx_19[slice10],\n",
        "       simple_regret_approx_20[slice10]]\n",
        "\n",
        "exact10 = [simple_regret_exact_1[slice10],\n",
        "       simple_regret_exact_2[slice10],\n",
        "       simple_regret_exact_3[slice10],\n",
        "       simple_regret_exact_4[slice10],\n",
        "       simple_regret_exact_5[slice10],\n",
        "       simple_regret_exact_6[slice10],\n",
        "       simple_regret_exact_7[slice10],\n",
        "       simple_regret_exact_8[slice10],\n",
        "       simple_regret_exact_9[slice10],\n",
        "       simple_regret_exact_10[slice10],\n",
        "       simple_regret_exact_11[slice10],\n",
        "       simple_regret_exact_12[slice10],\n",
        "       simple_regret_exact_13[slice10],\n",
        "       simple_regret_exact_14[slice10],\n",
        "       simple_regret_exact_15[slice10],\n",
        "       simple_regret_exact_16[slice10],\n",
        "       simple_regret_exact_17[slice10],\n",
        "       simple_regret_exact_18[slice10],\n",
        "       simple_regret_exact_19[slice10],\n",
        "       simple_regret_exact_20[slice10]]\n",
        "\n",
        "approx10_results = pd.DataFrame(approx10).sort_values(by=[0], ascending=False)\n",
        "exact10_results = pd.DataFrame(exact10).sort_values(by=[0], ascending=False)\n",
        "\n",
        "### Best simple regret minimization IQR - approx:\n",
        "lower_approx10 = np.asarray(approx10_results[4:5][0])[0]\n",
        "median_approx10 = np.asarray(approx10_results[9:10][0])[0]\n",
        "upper_approx10 = np.asarray(approx10_results[14:15][0])[0]\n",
        "\n",
        "lower_exact10 = np.asarray(exact10_results[4:5][0])[0]\n",
        "median_exact10 = np.asarray(exact10_results[9:10][0])[0]\n",
        "upper_exact10 = np.asarray(exact10_results[14:15][0])[0]"
      ]
    },
    {
      "cell_type": "code",
      "execution_count": 95,
      "metadata": {
        "id": "Rsf240pWQxf-"
      },
      "outputs": [],
      "source": [
        "# Iteration20 :\n",
        "\n",
        "slice20 = 19\n",
        "\n",
        "approx20 = [simple_regret_approx_1[slice20],\n",
        "       simple_regret_approx_2[slice20],\n",
        "       simple_regret_approx_3[slice20],\n",
        "       simple_regret_approx_4[slice20],\n",
        "       simple_regret_approx_5[slice20],\n",
        "       simple_regret_approx_6[slice20],\n",
        "       simple_regret_approx_7[slice20],\n",
        "       simple_regret_approx_8[slice20],\n",
        "       simple_regret_approx_9[slice20],\n",
        "       simple_regret_approx_10[slice20],\n",
        "       simple_regret_approx_11[slice20],\n",
        "       simple_regret_approx_12[slice20],\n",
        "       simple_regret_approx_13[slice20],\n",
        "       simple_regret_approx_14[slice20],\n",
        "       simple_regret_approx_15[slice20],\n",
        "       simple_regret_approx_16[slice20],\n",
        "       simple_regret_approx_17[slice20],\n",
        "       simple_regret_approx_18[slice20],\n",
        "       simple_regret_approx_19[slice20],\n",
        "       simple_regret_approx_20[slice20]]\n",
        "\n",
        "exact20 = [simple_regret_exact_1[slice20],\n",
        "       simple_regret_exact_2[slice20],\n",
        "       simple_regret_exact_3[slice20],\n",
        "       simple_regret_exact_4[slice20],\n",
        "       simple_regret_exact_5[slice20],\n",
        "       simple_regret_exact_6[slice20],\n",
        "       simple_regret_exact_7[slice20],\n",
        "       simple_regret_exact_8[slice20],\n",
        "       simple_regret_exact_9[slice20],\n",
        "       simple_regret_exact_10[slice20],\n",
        "       simple_regret_exact_11[slice20],\n",
        "       simple_regret_exact_12[slice20],\n",
        "       simple_regret_exact_13[slice20],\n",
        "       simple_regret_exact_14[slice20],\n",
        "       simple_regret_exact_15[slice20],\n",
        "       simple_regret_exact_16[slice20],\n",
        "       simple_regret_exact_17[slice20],\n",
        "       simple_regret_exact_18[slice20],\n",
        "       simple_regret_exact_19[slice20],\n",
        "       simple_regret_exact_20[slice20]]\n",
        "\n",
        "approx20_results = pd.DataFrame(approx20).sort_values(by=[0], ascending=False)\n",
        "exact20_results = pd.DataFrame(exact20).sort_values(by=[0], ascending=False)\n",
        "\n",
        "### Best simple regret minimization IQR - approx:\n",
        "lower_approx20 = np.asarray(approx20_results[4:5][0])[0]\n",
        "median_approx20 = np.asarray(approx20_results[9:10][0])[0]\n",
        "upper_approx20 = np.asarray(approx20_results[14:15][0])[0]\n",
        "\n",
        "lower_exact20 = np.asarray(exact20_results[4:5][0])[0]\n",
        "median_exact20 = np.asarray(exact20_results[9:10][0])[0]\n",
        "upper_exact20 = np.asarray(exact20_results[14:15][0])[0]"
      ]
    },
    {
      "cell_type": "code",
      "execution_count": 96,
      "metadata": {
        "id": "gn36RejbQxf_"
      },
      "outputs": [],
      "source": [
        "### Summarize arrays: 'Loser'\n",
        "\n",
        "lower_approx = [lower_approx1,\n",
        "            lower_approx2,\n",
        "            lower_approx3,\n",
        "            lower_approx4,\n",
        "            lower_approx5,\n",
        "            lower_approx6,\n",
        "            lower_approx7,\n",
        "            lower_approx8,\n",
        "            lower_approx9,\n",
        "            lower_approx10,\n",
        "            lower_approx11,\n",
        "            lower_approx12,\n",
        "            lower_approx13,\n",
        "            lower_approx14,\n",
        "            lower_approx15,\n",
        "            lower_approx16,\n",
        "            lower_approx17,\n",
        "            lower_approx18,\n",
        "            lower_approx19,\n",
        "            lower_approx20,\n",
        "            lower_approx21]\n",
        "\n",
        "median_approx = [median_approx1,\n",
        "            median_approx2,\n",
        "            median_approx3,\n",
        "            median_approx4,\n",
        "            median_approx5,\n",
        "            median_approx6,\n",
        "            median_approx7,\n",
        "            median_approx8,\n",
        "            median_approx9,\n",
        "            median_approx10,\n",
        "            median_approx11,\n",
        "            median_approx12,\n",
        "            median_approx13,\n",
        "            median_approx14,\n",
        "            median_approx15,\n",
        "            median_approx16,\n",
        "            median_approx17,\n",
        "            median_approx18,\n",
        "            median_approx19,\n",
        "            median_approx20,\n",
        "            median_approx21]\n",
        "\n",
        "upper_approx = [upper_approx1,\n",
        "            upper_approx2,\n",
        "            upper_approx3,\n",
        "            upper_approx4,\n",
        "            upper_approx5,\n",
        "            upper_approx6,\n",
        "            upper_approx7,\n",
        "            upper_approx8,\n",
        "            upper_approx9,\n",
        "            upper_approx10,\n",
        "            upper_approx11,\n",
        "            upper_approx12,\n",
        "            upper_approx13,\n",
        "            upper_approx14,\n",
        "            upper_approx15,\n",
        "            upper_approx16,\n",
        "            upper_approx17,\n",
        "            upper_approx18,\n",
        "            upper_approx19,\n",
        "            upper_approx20,\n",
        "            upper_approx21]"
      ]
    },
    {
      "cell_type": "code",
      "execution_count": 97,
      "metadata": {
        "id": "wxtGTOYfQxf_"
      },
      "outputs": [],
      "source": [
        "### Summarize arrays: 'exact'\n",
        "\n",
        "lower_exact = [lower_exact1,\n",
        "            lower_exact2,\n",
        "            lower_exact3,\n",
        "            lower_exact4,\n",
        "            lower_exact5,\n",
        "            lower_exact6,\n",
        "            lower_exact7,\n",
        "            lower_exact8,\n",
        "            lower_exact9,\n",
        "            lower_exact10,\n",
        "            lower_exact11,\n",
        "            lower_exact12,\n",
        "            lower_exact13,\n",
        "            lower_exact14,\n",
        "            lower_exact15,\n",
        "            lower_exact16,\n",
        "            lower_exact17,\n",
        "            lower_exact18,\n",
        "            lower_exact19,\n",
        "            lower_exact20,\n",
        "            lower_exact21]\n",
        "\n",
        "median_exact = [median_exact1,\n",
        "            median_exact2,\n",
        "            median_exact3,\n",
        "            median_exact4,\n",
        "            median_exact5,\n",
        "            median_exact6,\n",
        "            median_exact7,\n",
        "            median_exact8,\n",
        "            median_exact9,\n",
        "            median_exact10,\n",
        "            median_exact11,\n",
        "            median_exact12,\n",
        "            median_exact13,\n",
        "            median_exact14,\n",
        "            median_exact15,\n",
        "            median_exact16,\n",
        "            median_exact17,\n",
        "            median_exact18,\n",
        "            median_exact19,\n",
        "            median_exact20,\n",
        "            median_exact21]\n",
        "\n",
        "upper_exact = [upper_exact1,\n",
        "            upper_exact2,\n",
        "            upper_exact3,\n",
        "            upper_exact4,\n",
        "            upper_exact5,\n",
        "            upper_exact6,\n",
        "            upper_exact7,\n",
        "            upper_exact8,\n",
        "            upper_exact9,\n",
        "            upper_exact10,\n",
        "            upper_exact11,\n",
        "            upper_exact12,\n",
        "            upper_exact13,\n",
        "            upper_exact14,\n",
        "            upper_exact15,\n",
        "            upper_exact16,\n",
        "            upper_exact17,\n",
        "            upper_exact18,\n",
        "            upper_exact19,\n",
        "            upper_exact20,\n",
        "            upper_exact21]"
      ]
    },
    {
      "cell_type": "code",
      "execution_count": 98,
      "metadata": {
        "id": "2MONq-BXQxgA",
        "colab": {
          "base_uri": "https://localhost:8080/",
          "height": 299
        },
        "outputId": "27c17656-b24d-4331-de5a-443c018ca878"
      },
      "outputs": [
        {
          "output_type": "display_data",
          "data": {
            "text/plain": [
              "<Figure size 432x288 with 1 Axes>"
            ],
            "image/png": "[encoded data removed]"
          },
          "metadata": {
            "needs_background": "light"
          }
        }
      ],
      "source": [
        "### Visualise!\n",
        "\n",
        "title = func\n",
        "plt.figure()\n",
        "\n",
        "plt.plot(median_approx, color = 'Yellow', ls='--')\n",
        "plt.plot(median_exact, color = 'Red', ls='--')\n",
        "\n",
        "xstar = np.arange(0, iters+1, step=1)\n",
        "plt.fill_between(xstar, lower_approx, upper_approx, facecolor = 'Yellow', alpha=0.4, label='STP EI Optimisation: Approx STP EI gradients ' r'($\\nu$' ' = {})'.format(df))\n",
        "plt.fill_between(xstar, lower_exact, upper_exact, facecolor = 'Red', alpha=0.4, label='STP EI Optimisation: Exact STP dEI gradients ' r'($\\nu$' ' = {})'.format(df))\n",
        "\n",
        "plt.title(title, weight = 'bold')\n",
        "plt.xlabel('(Post-initialisation) iteration $\\it{k}$', weight = 'bold')\n",
        "plt.ylabel('log(Regret)', weight = 'bold') \n",
        "plt.legend(loc=3) # add plot legend\n",
        "\n",
        "### Make the x-ticks integers, not floats:\n",
        "count = len(xstar)\n",
        "plt.xticks(np.arange(count), np.arange(0, count))\n",
        "plt.show() #visualise!\n"
      ]
    },
    {
      "cell_type": "code",
      "execution_count": 99,
      "metadata": {
        "id": "l5dkR2Id2oiu",
        "colab": {
          "base_uri": "https://localhost:8080/"
        },
        "outputId": "5a2a1f73-c66b-443b-ce0d-51d8698ef7e6"
      },
      "outputs": [
        {
          "output_type": "execute_result",
          "data": {
            "text/plain": [
              "(1228.9874968528748, 1174.9589641094208)"
            ]
          },
          "metadata": {},
          "execution_count": 99
        }
      ],
      "source": [
        "time_approx, time_exact\n"
      ]
    },
    {
      "cell_type": "code",
      "source": [
        "### acqFunc attribute x, stddev: run number = 1\n",
        "\n",
        "acqFuncApprox_exact_1 = acqFuncApprox(exact_1.history)\n",
        "acqFuncExact_exact_1 = acqFuncExact(exact_1.history)\n",
        "\n",
        "e1 = np.mean(acqFuncExact_exact_1)\n",
        "a1 = np.mean(acqFuncApprox_exact_1)\n",
        "\n",
        "e1, a1\n"
      ],
      "metadata": {
        "colab": {
          "base_uri": "https://localhost:8080/"
        },
        "id": "uwxv4dmfGsLr",
        "outputId": "c1cba1c3-8425-4410-cbef-05d101887fc6"
      },
      "execution_count": 100,
      "outputs": [
        {
          "output_type": "execute_result",
          "data": {
            "text/plain": [
              "(1.421747415860772, 1.9193943257969555)"
            ]
          },
          "metadata": {},
          "execution_count": 100
        }
      ]
    },
    {
      "cell_type": "code",
      "source": [
        "### acqFunc attribute x, stddev: run number = 2\n",
        "\n",
        "acqFuncApprox_exact_2 = acqFuncApprox(exact_2.history)\n",
        "acqFuncExact_exact_2 = acqFuncExact(exact_2.history)\n",
        "\n",
        "e2 = np.mean(acqFuncExact_exact_2)\n",
        "a2 = np.mean(acqFuncApprox_exact_2)\n",
        "\n",
        "e2, a2\n"
      ],
      "metadata": {
        "colab": {
          "base_uri": "https://localhost:8080/"
        },
        "id": "0YSV00_pGsXe",
        "outputId": "1b0b02db-3a5f-4853-fc45-ad4fad70449d"
      },
      "execution_count": 101,
      "outputs": [
        {
          "output_type": "execute_result",
          "data": {
            "text/plain": [
              "(1.4105674579631553, 1.6958380451734463)"
            ]
          },
          "metadata": {},
          "execution_count": 101
        }
      ]
    },
    {
      "cell_type": "code",
      "source": [
        "### acqFunc attribute x, stddev: run number = 3\n",
        "\n",
        "acqFuncApprox_exact_3 = acqFuncApprox(exact_3.history)\n",
        "acqFuncExact_exact_3 = acqFuncExact(exact_3.history)\n",
        "\n",
        "e3 = np.mean(acqFuncExact_exact_3)\n",
        "a3 = np.mean(acqFuncApprox_exact_3)\n",
        "\n",
        "e3, a3\n"
      ],
      "metadata": {
        "colab": {
          "base_uri": "https://localhost:8080/"
        },
        "id": "HHVmsd2UGsjT",
        "outputId": "fa901e45-ee2b-4a11-cc5c-d5519be3c9f9"
      },
      "execution_count": 102,
      "outputs": [
        {
          "output_type": "execute_result",
          "data": {
            "text/plain": [
              "(1.4303050911007906, 1.7308873530046267)"
            ]
          },
          "metadata": {},
          "execution_count": 102
        }
      ]
    },
    {
      "cell_type": "code",
      "source": [
        "### acqFunc attribute x, stddev: run number = 4\n",
        "\n",
        "acqFuncApprox_exact_4 = acqFuncApprox(exact_4.history)\n",
        "acqFuncExact_exact_4 = acqFuncExact(exact_4.history)\n",
        "\n",
        "e4 = np.mean(acqFuncExact_exact_4)\n",
        "a4 = np.mean(acqFuncApprox_exact_4)\n",
        "\n",
        "e4, a4\n"
      ],
      "metadata": {
        "colab": {
          "base_uri": "https://localhost:8080/"
        },
        "id": "r7O19S2eGsu7",
        "outputId": "76150ea6-ca17-4a7c-c313-a8eedb16fc6d"
      },
      "execution_count": 103,
      "outputs": [
        {
          "output_type": "execute_result",
          "data": {
            "text/plain": [
              "(1.358371423713778, 1.7113849492764526)"
            ]
          },
          "metadata": {},
          "execution_count": 103
        }
      ]
    },
    {
      "cell_type": "code",
      "source": [
        "### acqFunc attribute x, stddev: run number = 5\n",
        "\n",
        "acqFuncApprox_exact_5 = acqFuncApprox(exact_5.history)\n",
        "acqFuncExact_exact_5 = acqFuncExact(exact_5.history)\n",
        "\n",
        "e5 = np.mean(acqFuncExact_exact_5)\n",
        "a5 = np.mean(acqFuncApprox_exact_5)\n",
        "\n",
        "e5, a5\n"
      ],
      "metadata": {
        "colab": {
          "base_uri": "https://localhost:8080/"
        },
        "id": "sdb9o6NuGs5m",
        "outputId": "dac061f3-a4b9-44b1-9846-962058611106"
      },
      "execution_count": 104,
      "outputs": [
        {
          "output_type": "execute_result",
          "data": {
            "text/plain": [
              "(1.4027560377688648, 1.7076709570680486)"
            ]
          },
          "metadata": {},
          "execution_count": 104
        }
      ]
    },
    {
      "cell_type": "code",
      "source": [
        "### acqFunc attribute x, stddev: run number = 6\n",
        "\n",
        "acqFuncApprox_exact_6 = acqFuncApprox(exact_6.history)\n",
        "acqFuncExact_exact_6 = acqFuncExact(exact_6.history)\n",
        "\n",
        "e6 = np.mean(acqFuncExact_exact_6)\n",
        "a6 = np.mean(acqFuncApprox_exact_6)\n",
        "\n",
        "e6, a6\n"
      ],
      "metadata": {
        "colab": {
          "base_uri": "https://localhost:8080/"
        },
        "id": "COQl7LZ8GtE0",
        "outputId": "b56e8d29-7b97-4ba5-a734-89770b4eab8f"
      },
      "execution_count": 105,
      "outputs": [
        {
          "output_type": "execute_result",
          "data": {
            "text/plain": [
              "(1.433301789130808, 1.6888928600859863)"
            ]
          },
          "metadata": {},
          "execution_count": 105
        }
      ]
    },
    {
      "cell_type": "code",
      "source": [
        "### acqFunc attribute x, stddev: run number = 7\n",
        "\n",
        "acqFuncApprox_exact_7 = acqFuncApprox(exact_7.history)\n",
        "acqFuncExact_exact_7 = acqFuncExact(exact_7.history)\n",
        "\n",
        "e7 = np.mean(acqFuncExact_exact_7)\n",
        "a7 = np.mean(acqFuncApprox_exact_7)\n",
        "\n",
        "e7, a7\n"
      ],
      "metadata": {
        "colab": {
          "base_uri": "https://localhost:8080/"
        },
        "id": "2gy9EtTzGtP7",
        "outputId": "d5a8227c-b3b3-47e9-ce4f-a4ddb2b1f8b5"
      },
      "execution_count": 106,
      "outputs": [
        {
          "output_type": "execute_result",
          "data": {
            "text/plain": [
              "(1.3825635855499845, 1.747385165193291)"
            ]
          },
          "metadata": {},
          "execution_count": 106
        }
      ]
    },
    {
      "cell_type": "code",
      "source": [
        "### acqFunc attribute x, stddev: run number = 8\n",
        "\n",
        "acqFuncApprox_exact_8 = acqFuncApprox(exact_8.history)\n",
        "acqFuncExact_exact_8 = acqFuncExact(exact_8.history)\n",
        "\n",
        "e8 = np.mean(acqFuncExact_exact_8)\n",
        "a8 = np.mean(acqFuncApprox_exact_8)\n",
        "\n",
        "e8, a8\n"
      ],
      "metadata": {
        "colab": {
          "base_uri": "https://localhost:8080/"
        },
        "id": "S7mn0qoMGtbM",
        "outputId": "ee4fc439-303c-472e-d9d6-e40c3f37cb77"
      },
      "execution_count": 107,
      "outputs": [
        {
          "output_type": "execute_result",
          "data": {
            "text/plain": [
              "(1.419371690256399, 1.790024875116322)"
            ]
          },
          "metadata": {},
          "execution_count": 107
        }
      ]
    },
    {
      "cell_type": "code",
      "source": [
        "### acqFunc attribute x, stddev: run number = 9\n",
        "\n",
        "acqFuncApprox_exact_9 = acqFuncApprox(exact_9.history)\n",
        "acqFuncExact_exact_9 = acqFuncExact(exact_9.history)\n",
        "\n",
        "e9 = np.mean(acqFuncExact_exact_9)\n",
        "a9 = np.mean(acqFuncApprox_exact_9)\n",
        "\n",
        "e9, a9\n"
      ],
      "metadata": {
        "colab": {
          "base_uri": "https://localhost:8080/"
        },
        "id": "BhljmkNxGtms",
        "outputId": "c44915c8-d812-4236-df50-3e8a13277b71"
      },
      "execution_count": 108,
      "outputs": [
        {
          "output_type": "execute_result",
          "data": {
            "text/plain": [
              "(1.3849969335508647, 1.766992774168213)"
            ]
          },
          "metadata": {},
          "execution_count": 108
        }
      ]
    },
    {
      "cell_type": "code",
      "source": [
        "### acqFunc attribute x, stddev: run number = 10\n",
        "\n",
        "acqFuncApprox_exact_10 = acqFuncApprox(exact_10.history)\n",
        "acqFuncExact_exact_10 = acqFuncExact(exact_10.history)\n",
        "\n",
        "e10 = np.mean(acqFuncExact_exact_10)\n",
        "a10 = np.mean(acqFuncApprox_exact_10)\n",
        "\n",
        "e10, a10\n"
      ],
      "metadata": {
        "colab": {
          "base_uri": "https://localhost:8080/"
        },
        "id": "W5GZo6k3Gtx8",
        "outputId": "6835e964-30cc-4a0e-8366-299e1f736c09"
      },
      "execution_count": 109,
      "outputs": [
        {
          "output_type": "execute_result",
          "data": {
            "text/plain": [
              "(1.3036856983351466, 1.7223318650297237)"
            ]
          },
          "metadata": {},
          "execution_count": 109
        }
      ]
    },
    {
      "cell_type": "code",
      "source": [
        "### acqFunc attribute x, stddev: run number = 11\n",
        "\n",
        "acqFuncApprox_exact_11 = acqFuncApprox(exact_11.history)\n",
        "acqFuncExact_exact_11 = acqFuncExact(exact_11.history)\n",
        "\n",
        "e11 = np.mean(acqFuncExact_exact_11)\n",
        "a11 = np.mean(acqFuncApprox_exact_11)\n",
        "\n",
        "e11, a11\n"
      ],
      "metadata": {
        "colab": {
          "base_uri": "https://localhost:8080/"
        },
        "id": "isKNhDk5Gt9D",
        "outputId": "9a37bd99-9781-42f3-c6dc-f1dc953f7acb"
      },
      "execution_count": 110,
      "outputs": [
        {
          "output_type": "execute_result",
          "data": {
            "text/plain": [
              "(1.4522846237274158, 1.8385402945372906)"
            ]
          },
          "metadata": {},
          "execution_count": 110
        }
      ]
    },
    {
      "cell_type": "code",
      "source": [
        "### acqFunc attribute x, stddev: run number = 12\n",
        "\n",
        "acqFuncApprox_exact_12 = acqFuncApprox(exact_12.history)\n",
        "acqFuncExact_exact_12 = acqFuncExact(exact_12.history)\n",
        "\n",
        "e12 = np.mean(acqFuncExact_exact_12)\n",
        "a12 = np.mean(acqFuncApprox_exact_12)\n",
        "\n",
        "e12, a12\n"
      ],
      "metadata": {
        "colab": {
          "base_uri": "https://localhost:8080/"
        },
        "id": "8ts-wrSuGuIm",
        "outputId": "8f3d83c0-58a0-4281-c817-20f66ef44967"
      },
      "execution_count": 111,
      "outputs": [
        {
          "output_type": "execute_result",
          "data": {
            "text/plain": [
              "(1.3652212642642272, 1.3671891493122952)"
            ]
          },
          "metadata": {},
          "execution_count": 111
        }
      ]
    },
    {
      "cell_type": "code",
      "source": [
        "### acqFunc attribute x, stddev: run number = 13\n",
        "\n",
        "acqFuncApprox_exact_13 = acqFuncApprox(exact_13.history)\n",
        "acqFuncExact_exact_13 = acqFuncExact(exact_13.history)\n",
        "\n",
        "e13 = np.mean(acqFuncExact_exact_13)\n",
        "a13 = np.mean(acqFuncApprox_exact_13)\n",
        "\n",
        "e13, a13\n"
      ],
      "metadata": {
        "colab": {
          "base_uri": "https://localhost:8080/"
        },
        "id": "n0drhEe3GuUL",
        "outputId": "e19e0f19-77c1-487d-c8c2-1e8e7c5aee61"
      },
      "execution_count": 112,
      "outputs": [
        {
          "output_type": "execute_result",
          "data": {
            "text/plain": [
              "(1.5668955943244947, 1.6976964350805317)"
            ]
          },
          "metadata": {},
          "execution_count": 112
        }
      ]
    },
    {
      "cell_type": "code",
      "source": [
        "### acqFunc attribute x, stddev: run number = 14\n",
        "\n",
        "acqFuncApprox_exact_14 = acqFuncApprox(exact_14.history)\n",
        "acqFuncExact_exact_14 = acqFuncExact(exact_14.history)\n",
        "\n",
        "e14 = np.mean(acqFuncExact_exact_14)\n",
        "a14 = np.mean(acqFuncApprox_exact_14)\n",
        "\n",
        "e14, a14\n"
      ],
      "metadata": {
        "colab": {
          "base_uri": "https://localhost:8080/"
        },
        "id": "R0W3MZaVGues",
        "outputId": "9955f258-173c-4891-f298-4d34b3ffdd38"
      },
      "execution_count": 113,
      "outputs": [
        {
          "output_type": "execute_result",
          "data": {
            "text/plain": [
              "(1.4147647345037606, 1.5772464888971656)"
            ]
          },
          "metadata": {},
          "execution_count": 113
        }
      ]
    },
    {
      "cell_type": "code",
      "source": [
        "### acqFunc attribute x, stddev: run number = 15\n",
        "\n",
        "acqFuncApprox_exact_15 = acqFuncApprox(exact_15.history)\n",
        "acqFuncExact_exact_15 = acqFuncExact(exact_15.history)\n",
        "\n",
        "e15 = np.mean(acqFuncExact_exact_15)\n",
        "a15 = np.mean(acqFuncApprox_exact_15)\n",
        "\n",
        "e15, a15\n"
      ],
      "metadata": {
        "colab": {
          "base_uri": "https://localhost:8080/"
        },
        "id": "DoXdDFHoGup-",
        "outputId": "ce8cf0f6-848e-4d15-9bdd-a5733c0dafc4"
      },
      "execution_count": 114,
      "outputs": [
        {
          "output_type": "execute_result",
          "data": {
            "text/plain": [
              "(1.3373181025791065, 1.6550541649814747)"
            ]
          },
          "metadata": {},
          "execution_count": 114
        }
      ]
    },
    {
      "cell_type": "code",
      "source": [
        "### acqFunc attribute x, stddev: run number = 16\n",
        "\n",
        "acqFuncApprox_exact_16 = acqFuncApprox(exact_16.history)\n",
        "acqFuncExact_exact_16 = acqFuncExact(exact_16.history)\n",
        "\n",
        "e16 = np.mean(acqFuncExact_exact_16)\n",
        "a16 = np.mean(acqFuncApprox_exact_16)\n",
        "\n",
        "e16, a16\n"
      ],
      "metadata": {
        "colab": {
          "base_uri": "https://localhost:8080/"
        },
        "id": "K_wAeqSoGu2j",
        "outputId": "e3567177-6a54-4c43-d45e-6df3ae8457eb"
      },
      "execution_count": 115,
      "outputs": [
        {
          "output_type": "execute_result",
          "data": {
            "text/plain": [
              "(1.3616886460248656, 1.6428125194706442)"
            ]
          },
          "metadata": {},
          "execution_count": 115
        }
      ]
    },
    {
      "cell_type": "code",
      "source": [
        "### acqFunc attribute x, stddev: run number = 17\n",
        "\n",
        "acqFuncApprox_exact_17 = acqFuncApprox(exact_17.history)\n",
        "acqFuncExact_exact_17 = acqFuncExact(exact_17.history)\n",
        "\n",
        "e17 = np.mean(acqFuncExact_exact_17)\n",
        "a17 = np.mean(acqFuncApprox_exact_17)\n",
        "\n",
        "e17, a17\n"
      ],
      "metadata": {
        "colab": {
          "base_uri": "https://localhost:8080/"
        },
        "id": "n6zy78fjGvBT",
        "outputId": "7ba58cc9-d8f3-4a8d-8b3c-c6f859d34b44"
      },
      "execution_count": 116,
      "outputs": [
        {
          "output_type": "execute_result",
          "data": {
            "text/plain": [
              "(1.3572020456955285, 1.729077618122681)"
            ]
          },
          "metadata": {},
          "execution_count": 116
        }
      ]
    },
    {
      "cell_type": "code",
      "source": [
        "### acqFunc attribute x, stddev: run number = 18\n",
        "\n",
        "acqFuncApprox_exact_18 = acqFuncApprox(exact_18.history)\n",
        "acqFuncExact_exact_18 = acqFuncExact(exact_18.history)\n",
        "\n",
        "e18 = np.mean(acqFuncExact_exact_18)\n",
        "a18 = np.mean(acqFuncApprox_exact_18)\n",
        "\n",
        "e18, a18\n"
      ],
      "metadata": {
        "colab": {
          "base_uri": "https://localhost:8080/"
        },
        "id": "s_6_2K4iGvM-",
        "outputId": "c8386ac2-33dd-4a28-8bd6-4323b08c0992"
      },
      "execution_count": 117,
      "outputs": [
        {
          "output_type": "execute_result",
          "data": {
            "text/plain": [
              "(1.2947783386901048, 1.75338786939021)"
            ]
          },
          "metadata": {},
          "execution_count": 117
        }
      ]
    },
    {
      "cell_type": "code",
      "source": [
        "### acqFunc attribute x, stddev: run number = 19\n",
        "\n",
        "acqFuncApprox_exact_19 = acqFuncApprox(exact_19.history)\n",
        "acqFuncExact_exact_19 = acqFuncExact(exact_19.history)\n",
        "\n",
        "e19 = np.mean(acqFuncExact_exact_19)\n",
        "a19 = np.mean(acqFuncApprox_exact_19)\n",
        "\n",
        "e19, a19\n"
      ],
      "metadata": {
        "colab": {
          "base_uri": "https://localhost:8080/"
        },
        "id": "o8oO8pdBGvYk",
        "outputId": "015ddbc4-cd54-428e-ae20-4431d05fcecf"
      },
      "execution_count": 118,
      "outputs": [
        {
          "output_type": "execute_result",
          "data": {
            "text/plain": [
              "(1.6018896505954205, 1.8996297899401864)"
            ]
          },
          "metadata": {},
          "execution_count": 118
        }
      ]
    },
    {
      "cell_type": "code",
      "source": [
        "### acqFunc attribute x, stddev: run number = 20\n",
        "\n",
        "acqFuncApprox_exact_20 = acqFuncApprox(exact_20.history)\n",
        "acqFuncExact_exact_20 = acqFuncExact(exact_20.history)\n",
        "\n",
        "e20 = np.mean(acqFuncExact_exact_20)\n",
        "a20 = np.mean(acqFuncApprox_exact_20)\n",
        "\n",
        "e20, a20\n"
      ],
      "metadata": {
        "colab": {
          "base_uri": "https://localhost:8080/"
        },
        "id": "b2w8oLc0IMzU",
        "outputId": "4647feb1-6eb9-4fa8-9156-eb59fe0335db"
      },
      "execution_count": 119,
      "outputs": [
        {
          "output_type": "execute_result",
          "data": {
            "text/plain": [
              "(1.317174692334665, 1.782471825184303)"
            ]
          },
          "metadata": {},
          "execution_count": 119
        }
      ]
    },
    {
      "cell_type": "code",
      "source": [
        "### Summarize arrays: \n",
        "\n",
        "exact_stddev = np.sort([e1,e2,e3,e4,e5,e6,e7,e8,e9,e10,e11,e12,e13,e14,e15,e16,e17,e18,e19,e20])\n",
        "approx_stddev = np.sort([a1,a2,a3,a4,a5,a6,a7,a8,a9,a10,a11,a12,a13,a14,a15,a16,a17,a18,a19,a20])\n",
        "\n",
        "np.mean(exact_stddev), np.mean(approx_stddev)\n"
      ],
      "metadata": {
        "colab": {
          "base_uri": "https://localhost:8080/"
        },
        "id": "qAZs3yxMIZul",
        "outputId": "a84ad846-69ea-4bd4-df5e-fb55b64395f8"
      },
      "execution_count": 120,
      "outputs": [
        {
          "output_type": "execute_result",
          "data": {
            "text/plain": [
              "(1.4008442407985078, 1.7211954662414926)"
            ]
          },
          "metadata": {},
          "execution_count": 120
        }
      ]
    },
    {
      "cell_type": "code",
      "source": [
        "### Visualise!\n",
        "\n",
        "title = func\n",
        "plt.figure()\n",
        "\n",
        "plt.plot(approx_stddev, color = 'Yellow', ls='--', label='Average $\\sigma$, attribute $\\mathbf{x}$: Approx STP EI gradients')\n",
        "plt.plot(exact_stddev, color = 'Red', ls='-', label='Average $\\sigma$, attribute $\\mathbf{x}$: Exact STP dEI gradients')\n",
        "\n",
        "plt.title(title, weight = 'bold')\n",
        "plt.xlabel('Function evaluations: iteration $\\it{k}$', weight = 'bold')\n",
        "plt.ylabel('STP EI: Average $\\sigma$, attribute $\\mathbf{x}$', weight = 'bold') \n",
        "plt.legend(loc=0) # add plot legend\n",
        "\n",
        "### Make the x-ticks integers, not floats:\n",
        "count = len(xstar)\n",
        "plt.xticks(np.arange(count), np.arange(1, count))\n",
        "plt.show() #visualize!\n"
      ],
      "metadata": {
        "colab": {
          "base_uri": "https://localhost:8080/",
          "height": 297
        },
        "id": "e_kpqYcMIZxu",
        "outputId": "5d5f3675-ff24-463d-a9ad-f2cf305099aa"
      },
      "execution_count": 121,
      "outputs": [
        {
          "output_type": "display_data",
          "data": {
            "text/plain": [
              "<Figure size 432x288 with 1 Axes>"
            ],
            "image/png": "[encoded data removed]"
          },
          "metadata": {
            "needs_background": "light"
          }
        }
      ]
    },
    {
      "cell_type": "code",
      "source": [],
      "metadata": {
        "id": "LToGd4vZIZ3I"
      },
      "execution_count": 121,
      "outputs": []
    }
  ],
  "metadata": {
    "colab": {
      "collapsed_sections": [],
      "provenance": []
    },
    "kernelspec": {
      "display_name": "Python 3",
      "name": "python3"
    },
    "language_info": {
      "name": "python"
    }
  },
  "nbformat": 4,
  "nbformat_minor": 0
}