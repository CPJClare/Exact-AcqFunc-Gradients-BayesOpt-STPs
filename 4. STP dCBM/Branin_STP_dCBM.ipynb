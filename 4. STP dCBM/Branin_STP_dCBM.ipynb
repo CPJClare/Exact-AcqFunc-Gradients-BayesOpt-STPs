{
  "cells": [
    {
      "cell_type": "markdown",
      "metadata": {
        "id": "Dqn4dFx7Z2Ir"
      },
      "source": [
        "\n",
        "Branin: 2D\n"
      ]
    },
    {
      "cell_type": "code",
      "execution_count": 1,
      "metadata": {
        "colab": {
          "base_uri": "https://localhost:8080/"
        },
        "id": "MJTM_GZZZb5x",
        "outputId": "03fbf9a5-bfa8-4c90-9b4e-c92cafc64bef"
      },
      "outputs": [
        {
          "output_type": "stream",
          "name": "stdout",
          "text": [
            "Looking in indexes: https://pypi.org/simple, https://us-python.pkg.dev/colab-wheels/public/simple/\n",
            "Collecting pyGPGO\n",
            "  Downloading pyGPGO-0.5.1.tar.gz (14 kB)\n",
            "Requirement already satisfied: numpy in /usr/local/lib/python3.7/dist-packages (from pyGPGO) (1.21.6)\n",
            "Requirement already satisfied: mkl in /usr/local/lib/python3.7/dist-packages (from pyGPGO) (2019.0)\n",
            "Requirement already satisfied: scipy in /usr/local/lib/python3.7/dist-packages (from pyGPGO) (1.7.3)\n",
            "Requirement already satisfied: joblib in /usr/local/lib/python3.7/dist-packages (from pyGPGO) (1.1.0)\n",
            "Requirement already satisfied: scikit-learn in /usr/local/lib/python3.7/dist-packages (from pyGPGO) (1.0.2)\n",
            "Collecting Theano-PyMC\n",
            "  Downloading Theano-PyMC-1.1.2.tar.gz (1.8 MB)\n",
            "\u001b[K     |████████████████████████████████| 1.8 MB 13.6 MB/s \n",
            "\u001b[?25hCollecting pyMC3\n",
            "  Downloading pymc3-3.11.5-py3-none-any.whl (872 kB)\n",
            "\u001b[K     |████████████████████████████████| 872 kB 66.5 MB/s \n",
            "\u001b[?25hRequirement already satisfied: intel-openmp in /usr/local/lib/python3.7/dist-packages (from mkl->pyGPGO) (2022.1.0)\n",
            "Requirement already satisfied: patsy>=0.5.1 in /usr/local/lib/python3.7/dist-packages (from pyMC3->pyGPGO) (0.5.2)\n",
            "Requirement already satisfied: arviz>=0.11.0 in /usr/local/lib/python3.7/dist-packages (from pyMC3->pyGPGO) (0.12.1)\n",
            "Requirement already satisfied: cachetools>=4.2.1 in /usr/local/lib/python3.7/dist-packages (from pyMC3->pyGPGO) (4.2.4)\n",
            "Collecting deprecat\n",
            "  Downloading deprecat-2.1.1-py2.py3-none-any.whl (9.8 kB)\n",
            "Collecting semver>=2.13.0\n",
            "  Downloading semver-2.13.0-py2.py3-none-any.whl (12 kB)\n",
            "Requirement already satisfied: pandas>=0.24.0 in /usr/local/lib/python3.7/dist-packages (from pyMC3->pyGPGO) (1.3.5)\n",
            "Requirement already satisfied: typing-extensions>=3.7.4 in /usr/local/lib/python3.7/dist-packages (from pyMC3->pyGPGO) (4.1.1)\n",
            "Requirement already satisfied: dill in /usr/local/lib/python3.7/dist-packages (from pyMC3->pyGPGO) (0.3.5.1)\n",
            "Requirement already satisfied: fastprogress>=0.2.0 in /usr/local/lib/python3.7/dist-packages (from pyMC3->pyGPGO) (1.0.3)\n",
            "Requirement already satisfied: filelock in /usr/local/lib/python3.7/dist-packages (from Theano-PyMC->pyGPGO) (3.8.0)\n",
            "Requirement already satisfied: matplotlib>=3.0 in /usr/local/lib/python3.7/dist-packages (from arviz>=0.11.0->pyMC3->pyGPGO) (3.2.2)\n",
            "Requirement already satisfied: setuptools>=38.4 in /usr/local/lib/python3.7/dist-packages (from arviz>=0.11.0->pyMC3->pyGPGO) (57.4.0)\n",
            "Requirement already satisfied: netcdf4 in /usr/local/lib/python3.7/dist-packages (from arviz>=0.11.0->pyMC3->pyGPGO) (1.6.0)\n",
            "Requirement already satisfied: xarray-einstats>=0.2 in /usr/local/lib/python3.7/dist-packages (from arviz>=0.11.0->pyMC3->pyGPGO) (0.2.2)\n",
            "Requirement already satisfied: xarray>=0.16.1 in /usr/local/lib/python3.7/dist-packages (from arviz>=0.11.0->pyMC3->pyGPGO) (0.20.2)\n",
            "Requirement already satisfied: packaging in /usr/local/lib/python3.7/dist-packages (from arviz>=0.11.0->pyMC3->pyGPGO) (21.3)\n",
            "Requirement already satisfied: kiwisolver>=1.0.1 in /usr/local/lib/python3.7/dist-packages (from matplotlib>=3.0->arviz>=0.11.0->pyMC3->pyGPGO) (1.4.4)\n",
            "Requirement already satisfied: pyparsing!=2.0.4,!=2.1.2,!=2.1.6,>=2.0.1 in /usr/local/lib/python3.7/dist-packages (from matplotlib>=3.0->arviz>=0.11.0->pyMC3->pyGPGO) (3.0.9)\n",
            "Requirement already satisfied: cycler>=0.10 in /usr/local/lib/python3.7/dist-packages (from matplotlib>=3.0->arviz>=0.11.0->pyMC3->pyGPGO) (0.11.0)\n",
            "Requirement already satisfied: python-dateutil>=2.1 in /usr/local/lib/python3.7/dist-packages (from matplotlib>=3.0->arviz>=0.11.0->pyMC3->pyGPGO) (2.8.2)\n",
            "Requirement already satisfied: pytz>=2017.3 in /usr/local/lib/python3.7/dist-packages (from pandas>=0.24.0->pyMC3->pyGPGO) (2022.2.1)\n",
            "Requirement already satisfied: six in /usr/local/lib/python3.7/dist-packages (from patsy>=0.5.1->pyMC3->pyGPGO) (1.15.0)\n",
            "Requirement already satisfied: importlib-metadata in /usr/local/lib/python3.7/dist-packages (from xarray>=0.16.1->arviz>=0.11.0->pyMC3->pyGPGO) (4.12.0)\n",
            "Requirement already satisfied: wrapt<2,>=1.10 in /usr/local/lib/python3.7/dist-packages (from deprecat->pyMC3->pyGPGO) (1.14.1)\n",
            "Requirement already satisfied: zipp>=0.5 in /usr/local/lib/python3.7/dist-packages (from importlib-metadata->xarray>=0.16.1->arviz>=0.11.0->pyMC3->pyGPGO) (3.8.1)\n",
            "Requirement already satisfied: cftime in /usr/local/lib/python3.7/dist-packages (from netcdf4->arviz>=0.11.0->pyMC3->pyGPGO) (1.6.1)\n",
            "Requirement already satisfied: threadpoolctl>=2.0.0 in /usr/local/lib/python3.7/dist-packages (from scikit-learn->pyGPGO) (3.1.0)\n",
            "Building wheels for collected packages: pyGPGO, Theano-PyMC\n",
            "  Building wheel for pyGPGO (setup.py) ... \u001b[?25l\u001b[?25hdone\n",
            "  Created wheel for pyGPGO: filename=pyGPGO-0.5.1-py3-none-any.whl size=19879 sha256=5271e9d05d90865de339ba1468b3d1ca2513ba47261e30f3a25c165ec22013db\n",
            "  Stored in directory: /root/.cache/pip/wheels/c8/5d/0b/2160114e2f1b87791c51b66cf07f89831dbb6f49167950316f\n",
            "  Building wheel for Theano-PyMC (setup.py) ... \u001b[?25l\u001b[?25hdone\n",
            "  Created wheel for Theano-PyMC: filename=Theano_PyMC-1.1.2-py3-none-any.whl size=1529963 sha256=2c71f2e2cc96a9a157eb27229acd0cb84364fc447c9f10ab768626951ca6f321\n",
            "  Stored in directory: /root/.cache/pip/wheels/f3/af/8c/5dd7553522d74c52a7813806fc7ee1a9caa20a3f7c8fd850d5\n",
            "Successfully built pyGPGO Theano-PyMC\n",
            "Installing collected packages: Theano-PyMC, semver, deprecat, pyMC3, pyGPGO\n",
            "Successfully installed Theano-PyMC-1.1.2 deprecat-2.1.1 pyGPGO-0.5.1 pyMC3-3.11.5 semver-2.13.0\n"
          ]
        }
      ],
      "source": [
        "pip install pyGPGO\n"
      ]
    },
    {
      "cell_type": "code",
      "execution_count": 2,
      "metadata": {
        "id": "ZJSSPbwPaEUB"
      },
      "outputs": [],
      "source": [
        "### Import:\n",
        "\n",
        "import numpy as np\n",
        "import scipy as sp\n",
        "import pandas as pd\n",
        "import matplotlib.pyplot as plt\n",
        "import warnings\n",
        "import itertools\n",
        "\n",
        "from pyGPGO.GPGO import GPGO\n",
        "from pyGPGO.surrogates.tStudentProcess import tStudentProcess\n",
        "from pyGPGO.acquisition import Acquisition\n",
        "from pyGPGO.covfunc import squaredExponential\n",
        "\n",
        "from joblib import Parallel, delayed\n",
        "from numpy.linalg import solve, cholesky\n",
        "from scipy.spatial.distance import cdist\n",
        "from scipy.optimize import minimize\n",
        "from scipy.stats import t\n",
        "import time\n",
        "\n",
        "warnings.filterwarnings(\"ignore\", category=RuntimeWarning)\n"
      ]
    },
    {
      "cell_type": "code",
      "execution_count": 3,
      "metadata": {
        "id": "OeYcTUNoaJWa"
      },
      "outputs": [],
      "source": [
        "### Inputs:\n",
        "\n",
        "func = 'Branin'\n",
        "n_test = 500\n",
        "eps = 1e-08\n",
        "\n",
        "util = 'CBM'\n",
        "\n",
        "n_init = 5 # random initialisations\n",
        "iters = 20\n",
        "opt = True\n",
        "\n",
        "df = 3"
      ]
    },
    {
      "cell_type": "code",
      "execution_count": 4,
      "metadata": {
        "id": "xpaEOjdzaPMS"
      },
      "outputs": [],
      "source": [
        "### Objective Function - Branin(x) 2-D:\n",
        "\n",
        "def objfunc(x1_training, x2_training, a = 1, b = (5.1 / (4 * (np.pi) ** 2)), c = (5 / (np.pi)), r = 6, s = 10, t = (1 / (8 * np.pi))):\n",
        "        return operator * ((a * (x2_training - b * x1_training ** 2 + c * x1_training - r) ** 2) + \n",
        "                 s * (1 - t) * np.cos(x1_training) + s)\n",
        "        \n",
        "# Constraints:\n",
        "lb_x1 = -5 \n",
        "ub_x1 = +10\n",
        "lb_x2 = +0 \n",
        "ub_x2 = +15\n",
        "\n",
        "# Input array dimension(s):\n",
        "dim = 2\n",
        "\n",
        "# 2-D inputs' parameter bounds:\n",
        "param = {'x1_training': ('cont', [lb_x1, ub_x1]),\n",
        "             'x2_training': ('cont', [lb_x2, ub_x2])}\n",
        "\n",
        "# True y bounds:\n",
        "operator = -1\n",
        "y_lb = 0.397887 # targets global minimum\n",
        "y_global_orig = y_lb * operator # targets global minimum\n",
        "\n",
        "\n",
        "# Test data:\n",
        "x1_test = np.linspace(lb_x1, ub_x1, n_test)\n",
        "x2_test = np.linspace(lb_x2, ub_x2, n_test)\n",
        "  \n",
        "x_test = np.column_stack((x1_test,x2_test))"
      ]
    },
    {
      "cell_type": "code",
      "execution_count": 5,
      "metadata": {
        "id": "eYpI3Zm4aGxi"
      },
      "outputs": [],
      "source": [
        "n_start_AcqFunc = iters\n",
        "inverse = -1\n"
      ]
    },
    {
      "cell_type": "code",
      "execution_count": 6,
      "metadata": {
        "id": "oO_GUmOoaV0T"
      },
      "outputs": [],
      "source": [
        "### Cumulative Regret Calculators:\n",
        "\n",
        "def min_max_array(x):\n",
        "    new_list = []\n",
        "    for i, num in enumerate(x):\n",
        "            new_list.append(np.min(x[0:i+1]))\n",
        "    return new_list\n",
        "  \n",
        "def acqFuncExact(x):\n",
        "    new_array = []\n",
        "    x = np.array(x) \n",
        "    for i, num in enumerate(x):\n",
        "            new_array = x[:-2][::-3]\n",
        "    return new_array[::-1]\n",
        "\n",
        "def acqFuncApprox(x):\n",
        "    new_array = []\n",
        "    x = np.array(x) \n",
        "    for i, num in enumerate(x):\n",
        "            new_array = x[:-1][::-3]\n",
        "    return new_array[::-1]\n"
      ]
    },
    {
      "cell_type": "code",
      "execution_count": 7,
      "metadata": {
        "id": "kuuJx0IMam9S"
      },
      "outputs": [],
      "source": [
        "### Surrogate derivatives: \n",
        "\n",
        "cov_func = squaredExponential()\n",
        "\n",
        "def kronDelta(X, Xstar):                     # Kronecker's Delta method\n",
        "    return cdist(X, Xstar) < np.finfo(np.float32).eps\n",
        "\n",
        "def se(X, Xstar, sigmaf, l, sigman):         # S.E. kernel method\n",
        "    return sigmaf * np.exp(-0.5 * cdist(X, Xstar) ** 2 / l ** 2) + sigman * kronDelta(X, Xstar)\n",
        "\n",
        "def delta(X, Xstar):                         # Distance between training X and test Xstar vectors\n",
        "    return (X - Xstar)\n",
        "   \n",
        "def der_covmat(X, Xstar, sigmaf, l, sigman): # Covariance matrix derivative terms (i.e. exact, first-order)\n",
        "    nx = len(X)\n",
        "    ny = len(Xstar)\n",
        "    return np.round(np.array([(delta(np.atleast_2d(i), np.atleast_2d(j))[0] * se(np.atleast_2d(i), np.atleast_2d(j), sigmaf, l, sigman)[0]).sum() for (i, j) in itertools.product(X, Xstar)]).reshape(nx, ny), 8)\n",
        "\n",
        "class dtStudentProcess(tStudentProcess):    # Via inheritance, also optimises hyperparameters when opt = TRUE\n",
        "    \n",
        "    def AcqGrad(self, Xstar):               # Method returning exact, first-order derivatives of the STP's posterior mean and standard deviation\n",
        "        Xstar = np.atleast_2d(Xstar)\n",
        "        Kstar = self.covfunc.K(self.X, Xstar).T\n",
        "        dKstar = der_covmat(self.X, Xstar, self.covfunc.sigmaf, self.covfunc.l, self.covfunc.sigman).T\n",
        "        \n",
        "        smd_adj = (self.nu + self.beta1 - 2) / (self.nu + self.n1 - 2)\n",
        "\n",
        "        alpha = np.dot(np.linalg.inv(self.K11 + (self.covfunc.sigman**2) * np.eye(len(self.X))), self.y)\n",
        "        alpha_Kstar = np.dot(np.linalg.inv(self.K11 + (self.covfunc.sigman**2) * np.eye(len(self.X))), Kstar.T)      \n",
        "        \n",
        "        dm = np.dot(dKstar, alpha)\n",
        "        ds = -2 * smd_adj * np.dot(dKstar, alpha_Kstar)\n",
        "        \n",
        "        return dm, ds          \n"
      ]
    },
    {
      "cell_type": "code",
      "execution_count": 8,
      "metadata": {
        "id": "_Dc3YVHVaXz7"
      },
      "outputs": [],
      "source": [
        "### Add exact acquisition function gradient as attribute:\n",
        "\n",
        "Beta_CBM = dim\n",
        "\n",
        "class Acquisition_grad(Acquisition):    \n",
        "    def __init__(self, mode, eps=eps, **params):\n",
        "        \n",
        "        self.params = params\n",
        "        self.eps = eps\n",
        "\n",
        "        mode_dict = {\n",
        "            'CBM': self.CBM\n",
        "        }\n",
        "\n",
        "        self.f = mode_dict[mode]\n",
        "    \n",
        "    def CBM(self, y_global_orig, mean, std, ds, dm, nu=3.0):\n",
        "        gamma = (mean - y_global_orig - self.eps) / (std + self.eps)\n",
        "        gamma_h = (mean - y_global_orig) / (std + self.eps)\n",
        "        dsdx = ds / (2 * (std + self.eps))\n",
        "        dmdx = (dm - gamma * dsdx) / (std + self.eps)\n",
        "\n",
        "        f = (std + self.eps) * (gamma + np.sqrt(Beta_CBM))\n",
        "        df = dsdx * (gamma + np.sqrt(Beta_CBM)) + (std + self.eps) * dmdx\n",
        "        df_arr = []\n",
        "\n",
        "        for j in range(0, dim):\n",
        "          df_arr.append(df)\n",
        "        return f, np.asarray(df_arr).transpose()\n",
        "\n",
        "        for j in range(0, dim):\n",
        "          df_arr.append(df)\n",
        "        return f, np.asarray(df_arr).transpose()\n",
        "        \n",
        "    def d_eval(self, y_global_orig, mean, std, ds, dm, nu=3.0):\n",
        "    \n",
        "        return self.f(y_global_orig, mean, std, ds, dm, nu=3.0, **self.params)\n",
        "        "
      ]
    },
    {
      "cell_type": "code",
      "execution_count": 9,
      "metadata": {
        "id": "PITEQC8YSl7i"
      },
      "outputs": [],
      "source": [
        "## GPGO_multi: \n",
        "\n",
        "class GPGO_multi(GPGO):\n",
        "    n_start = n_start_AcqFunc\n",
        "\n",
        "    def __init__(self, surrogate, acquisition, f, parameter_dict, n_jobs=1):\n",
        "        self.GP = surrogate\n",
        "        self.A = acquisition\n",
        "        self.f = f\n",
        "        self.parameters = parameter_dict\n",
        "        self.n_jobs = n_jobs\n",
        "\n",
        "        self.parameter_key = list(parameter_dict.keys())\n",
        "        self.parameter_value = list(parameter_dict.values())\n",
        "        self.parameter_type = [p[0] for p in self.parameter_value]\n",
        "        self.parameter_range = [p[1] for p in self.parameter_value]\n",
        "\n",
        "        self.history = []\n",
        "        self.header =   'Evaluation \\t Proposed point \\t  Current eval. \\t  Best eval. \\t        Exact CBM: StdDev. x \\t Approx CBM: StdDev. x '\n",
        "        self.template = '{:3}\\t {}\\t {:3}\\t {:3}\\t {:3}\\t {:3}'\n",
        " \n",
        "    def acqfuncExact(self, xnew, n_start=n_start_AcqFunc):\n",
        "        new_mean, new_var = self.GP.predict(xnew, return_std=True)\n",
        "        new_std = np.sqrt(new_var + eps)\n",
        "        dm, ds = self.GP.AcqGrad(xnew)\n",
        "        f, df = self.A.d_eval(y_global_orig, new_mean, new_std, ds=ds, dm=dm, nu=3.0)\n",
        "\n",
        "        return -f, -df\n",
        "   \n",
        "    def acqfuncApprox(self, xnew, n_start=n_start_AcqFunc):\n",
        "        new_mean, new_var = self.GP.predict(xnew, return_std=True)\n",
        "        new_std = np.sqrt(new_var + eps)\n",
        "        dm, ds = self.GP.AcqGrad(xnew)\n",
        "        f, df = self.A.d_eval(y_global_orig, new_mean, new_std, ds=ds, dm=dm, nu=3.0)\n",
        "\n",
        "        return -f\n",
        "   \n",
        "    def _optimizeAcq(self, method='L-BFGS-B', n_start=n_start_AcqFunc):\n",
        "        \n",
        "        start_points_dict = [self._sampleParam() for i in range(n_start)]\n",
        "        start_points_arr = np.array([list(s.values())\n",
        "                                     for s in start_points_dict])\n",
        "        x_best = np.empty((n_start, len(self.parameter_key)))\n",
        "        f_best = np.empty((n_start,))\n",
        "        opt = Parallel(n_jobs=self.n_jobs)(delayed(minimize)(self.acqfuncApprox,\n",
        "                                                                 x0=start_point,\n",
        "                                                                 method=method,\n",
        "                                                                 jac = False,\n",
        "                                                                 bounds=self.parameter_range) for start_point in\n",
        "                                               start_points_arr)\n",
        "        x_best = np.array([res.x for res in opt])\n",
        "        f_best = np.array([np.atleast_1d(res.fun)[0] for res in opt])\n",
        "        f_best_min = min(f_best)\n",
        "\n",
        "        self.x_best = x_best\n",
        "        self.f_best = f_best\n",
        "        self.f_best_min = f_best_min\n",
        "        self.x_best_std = np.std(x_best)\n",
        "        self.best = x_best[np.argmin(f_best)]\n",
        "        self.start_points_arr = start_points_arr        \n",
        "        self.history.append(self.x_best_std)\n",
        "\n",
        "        x_best_exact = np.empty((n_start, len(self.parameter_key)))\n",
        "        f_best_exact = np.empty((n_start,))\n",
        "        opt_exact = Parallel(n_jobs=self.n_jobs)(delayed(minimize)(self.acqfuncExact,\n",
        "                                                                 x0=start_point,\n",
        "                                                                 method=method,\n",
        "                                                                 jac = True,\n",
        "                                                                 bounds=self.parameter_range) for start_point in\n",
        "                                               start_points_arr)\n",
        "        x_best_exact = np.array([res.x for res in opt_exact])\n",
        "        f_best_exact = np.array([np.atleast_1d(res.fun)[0] for res in opt_exact])\n",
        "        f_best_min_exact = min(f_best_exact)\n",
        "\n",
        "        self.x_best_exact = x_best_exact\n",
        "        self.f_best_exact = f_best_exact\n",
        "        self.f_best_min_exact = f_best_min_exact\n",
        "        self.x_best_std_exact = np.std(x_best_exact)\n",
        "        self.best_exact = x_best_exact[np.argmin(f_best_exact)]\n",
        "        self.start_points_arr = start_points_arr\n",
        "        self.history.append(self.x_best_std_exact)\n",
        "\n",
        "    def _printInit(self):\n",
        "        print(self.header)\n",
        "        for init_eval in range(self.init_evals):\n",
        "            print(self.template.format('init', self.GP.X[init_eval], inverse * self.GP.y[init_eval], inverse * self.tau, '', ''))\n",
        "      \n",
        "    def _printCurrent(self):\n",
        "        OKGREEN = '\\033[92m'\n",
        "        ENDC = '\\033[0m'\n",
        "        BOLD = '\\033[1m'\n",
        "        eval = str(len(self.GP.y) - self.init_evals)\n",
        "        proposed = str(self.best)\n",
        "        curr_eval = str(inverse * self.GP.y[-1])\n",
        "        curr_best = str(inverse * self.tau)\n",
        "        min_acqfunc = str(self.f_best_min)\n",
        "        min_acqfunc_exact = str(self.f_best_min_exact)\n",
        "        x_best_std = str(self.x_best_std)\n",
        "        x_best_std_exact = str(self.x_best_std_exact)\n",
        "        if float(curr_eval) <= float(curr_best):\n",
        "            eval = BOLD + OKGREEN + eval + ENDC\n",
        "            proposed = BOLD + OKGREEN + proposed + ENDC\n",
        "            curr_eval = BOLD + OKGREEN + curr_eval + ENDC\n",
        "            curr_best = BOLD + OKGREEN + curr_best + ENDC\n",
        "            x_best_std = BOLD + OKGREEN + x_best_std + ENDC\n",
        "            x_best_std_exact = BOLD + OKGREEN + x_best_std_exact + ENDC\n",
        "        print(self.template.format(eval, proposed, curr_eval, curr_best, x_best_std_exact, x_best_std))\n",
        "        \n",
        "    def run(self, max_iter=10, init_evals=3, resume=False):\n",
        "        \n",
        "        if not resume:\n",
        "            self.init_evals = init_evals\n",
        "            self._firstRun(self.init_evals)\n",
        "            self._printInit()\n",
        "        for iteration in range(max_iter):\n",
        "            self._optimizeAcq()\n",
        "            self.updateGP()\n",
        "            self._printCurrent()\n"
      ]
    },
    {
      "cell_type": "code",
      "execution_count": 10,
      "metadata": {
        "id": "b_B-w81BJxKN"
      },
      "outputs": [],
      "source": [
        "## dGPGO:\n",
        "\n",
        "class dGPGO(GPGO):\n",
        "    n_start = n_start_AcqFunc\n",
        "\n",
        "    def __init__(self, surrogate, acquisition, f, parameter_dict, n_jobs=1):\n",
        "        self.GP = surrogate\n",
        "        self.A = acquisition\n",
        "        self.f = f\n",
        "        self.parameters = parameter_dict\n",
        "        self.n_jobs = n_jobs\n",
        "\n",
        "        self.parameter_key = list(parameter_dict.keys())\n",
        "        self.parameter_value = list(parameter_dict.values())\n",
        "        self.parameter_type = [p[0] for p in self.parameter_value]\n",
        "        self.parameter_range = [p[1] for p in self.parameter_value]\n",
        "\n",
        "        self.history = []\n",
        "        self.header =   'Evaluation \\t Proposed point \\t  Current eval. \\t  Best eval. \\t        Exact CBM: StdDev. x \\t Approx CBM: StdDev. x '\n",
        "        self.template = '{:3}\\t {}\\t {:3}\\t {:3}\\t {:3}\\t {:3}'\n",
        "\n",
        "    def acqfuncExact(self, xnew, n_start=n_start_AcqFunc):\n",
        "        new_mean, new_var = self.GP.predict(xnew, return_std=True)\n",
        "        new_std = np.sqrt(new_var + eps)\n",
        "        dm, ds = self.GP.AcqGrad(xnew)\n",
        "        f, df = self.A.d_eval(y_global_orig, new_mean, new_std, ds=ds, dm=dm, nu=3.0)\n",
        "\n",
        "        return -f, -df\n",
        "   \n",
        "    def acqfuncApprox(self, xnew, n_start=n_start_AcqFunc):\n",
        "        new_mean, new_var = self.GP.predict(xnew, return_std=True)\n",
        "        new_std = np.sqrt(new_var + eps)\n",
        "        dm, ds = self.GP.AcqGrad(xnew)\n",
        "        f, df = self.A.d_eval(y_global_orig, new_mean, new_std, ds=ds, dm=dm, nu=3.0)\n",
        "\n",
        "        return -f\n",
        "\n",
        "    def d_optimizeAcq(self, method='L-BFGS-B', n_start=n_start_AcqFunc):\n",
        "        start_points_dict = [self._sampleParam() for i in range(n_start)]\n",
        "        start_points_arr = np.array([list(s.values())\n",
        "                                     for s in start_points_dict])\n",
        "        x_best = np.empty((n_start, len(self.parameter_key)))\n",
        "        f_best = np.empty((n_start,))\n",
        "        opt = Parallel(n_jobs=self.n_jobs)(delayed(minimize)(self.acqfuncExact,\n",
        "                                                                 x0=start_point,\n",
        "                                                                 method=method,\n",
        "                                                                 jac = True,\n",
        "                                                                 bounds=self.parameter_range) for start_point in\n",
        "                                               start_points_arr)\n",
        "        x_best = np.array([res.x for res in opt])\n",
        "        f_best = np.array([np.atleast_1d(res.fun)[0] for res in opt])\n",
        "        f_best_min = min(f_best)\n",
        "\n",
        "        self.x_best = x_best\n",
        "        self.f_best = f_best\n",
        "        self.f_best_min = f_best_min\n",
        "        self.x_best_std = np.std(x_best)\n",
        "        self.best = x_best[np.argmin(f_best)]\n",
        "        self.start_points_arr = start_points_arr\n",
        "        self.history.append(self.x_best_std)\n",
        "\n",
        "        x_best_approx = np.empty((n_start, len(self.parameter_key)))\n",
        "        f_best_approx = np.empty((n_start,))\n",
        "        opt_approx = Parallel(n_jobs=self.n_jobs)(delayed(minimize)(self.acqfuncApprox,\n",
        "                                                                 x0=start_point,\n",
        "                                                                 method=method,\n",
        "                                                                 jac = False,\n",
        "                                                                 bounds=self.parameter_range) for start_point in\n",
        "                                               start_points_arr)\n",
        "        x_best_approx = np.array([res.x for res in opt_approx])\n",
        "        f_best_approx = np.array([np.atleast_1d(res.fun)[0] for res in opt_approx])\n",
        "        f_best_min_approx = min(f_best_approx)\n",
        "\n",
        "        self.x_best_approx = x_best_approx\n",
        "        self.f_best_approx = f_best_approx\n",
        "        self.f_best_min_approx = f_best_min_approx\n",
        "        self.x_best_std_approx = np.std(x_best_approx)\n",
        "        self.best_approx = x_best_approx[np.argmin(f_best_approx)]\n",
        "        self.start_points_arr = start_points_arr\n",
        "        self.history.append(self.x_best_std_approx)\n",
        "    \n",
        "    def _printInit(self):\n",
        "        print(self.header)\n",
        "        for init_eval in range(self.init_evals):\n",
        "            print(self.template.format('init', self.GP.X[init_eval], inverse * self.GP.y[init_eval], inverse * self.tau, '', ''))\n",
        "      \n",
        "    def _printCurrent(self):\n",
        "        OKGREEN = '\\033[92m'\n",
        "        ENDC = '\\033[0m'\n",
        "        BOLD = '\\033[1m'\n",
        "        eval = str(len(self.GP.y) - self.init_evals)\n",
        "        proposed = str(self.best)\n",
        "        curr_eval = str(inverse * self.GP.y[-1])\n",
        "        curr_best = str(inverse * self.tau)\n",
        "        min_acqfunc = str(self.f_best_min)\n",
        "        min_acqfunc_approx = str(self.f_best_min_approx)\n",
        "        x_best_std = str(self.x_best_std)\n",
        "        x_best_std_approx = str(self.x_best_std_approx)\n",
        "        if float(curr_eval) <= float(curr_best):\n",
        "            eval = BOLD + OKGREEN + eval + ENDC\n",
        "            proposed = BOLD + OKGREEN + proposed + ENDC\n",
        "            curr_eval = BOLD + OKGREEN + curr_eval + ENDC\n",
        "            curr_best = BOLD + OKGREEN + curr_best + ENDC\n",
        "            x_best_std = BOLD + OKGREEN + x_best_std + ENDC\n",
        "            x_best_std_approx = BOLD + OKGREEN + x_best_std_approx + ENDC\n",
        "        print(self.template.format(eval, proposed, curr_eval, curr_best, x_best_std, x_best_std_approx))\n",
        "\n",
        "    def run(self, max_iter=10, init_evals=3, resume=False):\n",
        "        \n",
        "        if not resume:\n",
        "            self.init_evals = init_evals\n",
        "            self._firstRun(self.init_evals)\n",
        "            self._printInit()\n",
        "        for iteration in range(max_iter):\n",
        "            self.d_optimizeAcq()\n",
        "            self.updateGP()\n",
        "            self._printCurrent()\n"
      ]
    },
    {
      "cell_type": "code",
      "execution_count": 11,
      "metadata": {
        "id": "qXIKGuXVGEg2"
      },
      "outputs": [],
      "source": [
        "###Reproducible set-seeds:\n",
        "\n",
        "run_num_1 = 1\n",
        "run_num_2 = 2\n",
        "run_num_3 = 3\n",
        "run_num_4 = 4\n",
        "run_num_5 = 5\n",
        "run_num_6 = 6\n",
        "run_num_7 = 7\n",
        "run_num_8 = 8\n",
        "run_num_9 = 9\n",
        "run_num_10 = 10\n",
        "run_num_11 = 11\n",
        "run_num_12 = 12\n",
        "run_num_13 = 13\n",
        "run_num_14 = 14\n",
        "run_num_15 = 15\n",
        "run_num_16 = 16\n",
        "run_num_17 = 17\n",
        "run_num_18 = 18\n",
        "run_num_19 = 19\n",
        "run_num_20 = 20\n"
      ]
    },
    {
      "cell_type": "code",
      "execution_count": 12,
      "metadata": {
        "colab": {
          "base_uri": "https://localhost:8080/"
        },
        "id": "JEhagQmnTVIK",
        "outputId": "3f9563cb-4ff8-4aff-b891-db92da95467c"
      },
      "outputs": [
        {
          "output_type": "execute_result",
          "data": {
            "text/plain": [
              "1663328082.6714568"
            ]
          },
          "metadata": {},
          "execution_count": 12
        }
      ],
      "source": [
        "start_approx = time.time()\n",
        "start_approx\n"
      ]
    },
    {
      "cell_type": "code",
      "execution_count": 13,
      "metadata": {
        "colab": {
          "base_uri": "https://localhost:8080/"
        },
        "id": "aH0YSTXufD1v",
        "outputId": "1124e4b8-2c9a-4c3d-8471-adf2d225874e"
      },
      "outputs": [
        {
          "output_type": "stream",
          "name": "stdout",
          "text": [
            "Evaluation \t Proposed point \t  Current eval. \t  Best eval. \t        Exact CBM: StdDev. x \t Approx CBM: StdDev. x \n",
            "init\t [ 1.25533007 10.8048674 ]\t 56.52874004692151\t 27.68166689936483\t    \t    \n",
            "init\t [-4.99828438  4.53498859]\t 172.66531086516164\t 27.68166689936483\t    \t    \n",
            "init\t [-2.79866164  1.38507892]\t 102.58290348816024\t 27.68166689936483\t    \t    \n",
            "init\t [-2.20609683  5.18341091]\t 28.868064601155666\t 27.68166689936483\t    \t    \n",
            "init\t [0.95151211 8.08225101]\t 27.68166689936483\t 27.68166689936483\t    \t    \n",
            "\u001b[1m\u001b[92m1\u001b[0m\t \u001b[1m\u001b[92m[8.41909995 1.27566317]\u001b[0m\t \u001b[1m\u001b[92m5.089934878453152\u001b[0m\t \u001b[1m\u001b[92m5.089934878453152\u001b[0m\t \u001b[1m\u001b[92m5.487345388111518\u001b[0m\t \u001b[1m\u001b[92m5.638236201098191\u001b[0m\n",
            "2  \t [10.         14.16092673]\t 126.44343791451641\t 5.089934878453152\t 5.928821279372821\t 5.856547305810691\n",
            "3  \t [-5.         13.92397282]\t 23.37345137829523\t 5.089934878453152\t 5.57939500863289\t 5.778702148513889\n",
            "4  \t [6.79355721 7.61512393]\t 60.17762503867417\t 5.089934878453152\t 6.213268493779486\t 5.858536178472616\n",
            "5  \t [3.17718006 0.        ]\t 5.454820775263954\t 5.089934878453152\t 4.854931787611182\t 5.218337227229433\n",
            "6  \t [ 4.51108646 15.        ]\t 191.70224971889587\t 5.089934878453152\t 4.82904527162752\t 5.917003908605124\n",
            "7  \t [-3.9242148   9.54060054]\t 25.228410957218685\t 5.089934878453152\t 5.609031129058421\t 6.098784626483309\n",
            "\u001b[1m\u001b[92m8\u001b[0m\t \u001b[1m\u001b[92m[3.41130538 4.15207963]\u001b[0m\t \u001b[1m\u001b[92m5.063195296591953\u001b[0m\t \u001b[1m\u001b[92m5.063195296591953\u001b[0m\t \u001b[1m\u001b[92m5.29107173170822\u001b[0m\t \u001b[1m\u001b[92m5.6895122681374115\u001b[0m\n",
            "9  \t [-0.643951 15.      ]\t 80.43006513276275\t 5.063195296591953\t 5.805772730419512\t 6.097339280750984\n",
            "\u001b[1m\u001b[92m10\u001b[0m\t \u001b[1m\u001b[92m[10.          4.69605031]\u001b[0m\t \u001b[1m\u001b[92m4.8097069545555975\u001b[0m\t \u001b[1m\u001b[92m4.8097069545555975\u001b[0m\t \u001b[1m\u001b[92m5.542235049169694\u001b[0m\t \u001b[1m\u001b[92m5.357383418848304\u001b[0m\n",
            "11 \t [10.          9.89359762]\t 49.42407427117214\t 4.8097069545555975\t 4.477325561131567\t 4.998527518056558\n",
            "12 \t [6.50422946 3.67165767]\t 25.913432151041235\t 4.8097069545555975\t 4.519645540059779\t 4.599320283834527\n",
            "13 \t [ 6.28022899 11.36155517]\t 124.90349327444636\t 4.8097069545555975\t 4.580554444048722\t 4.541106112007499\n",
            "14 \t [0.73075084 2.34448208]\t 23.711597629263764\t 4.8097069545555975\t 5.270236404656036\t 5.155851218814418\n",
            "15 \t [5.98065691 0.        ]\t 20.380875451026093\t 4.8097069545555975\t 5.192374569923269\t 5.317572137217254\n",
            "16 \t [3.67733163 6.79056551]\t 25.716864156597666\t 4.8097069545555975\t 5.196353510742728\t 5.240862522380755\n",
            "17 \t [3.87400845 9.49722592]\t 62.52209083908747\t 4.8097069545555975\t 5.42226842484245\t 5.599564351667741\n",
            "18 \t [-1.94645468 11.96694448]\t 12.139748925757823\t 4.8097069545555975\t 5.211412013171141\t 6.114746516897332\n",
            "19 \t [-5.  0.]\t 308.12909601160663\t 4.8097069545555975\t 5.50922803864846\t 5.592754262138563\n",
            "20 \t [ 4.37231941 12.82562582]\t 134.82064767126815\t 4.8097069545555975\t 5.48221335106468\t 5.87948108895433\n"
          ]
        }
      ],
      "source": [
        "### ESTIMATED STP CBM GRADIENTS\n",
        "\n",
        "np.random.seed(run_num_1)\n",
        "surrogate_approx_1 = dtStudentProcess(cov_func, optimize=opt, nu = df)\n",
        "\n",
        "approx_1 = GPGO_multi(surrogate_approx_1, Acquisition_grad(util), objfunc, param)\n",
        "approx_1.run(init_evals=n_init, max_iter=iters)\n"
      ]
    },
    {
      "cell_type": "code",
      "execution_count": 14,
      "metadata": {
        "colab": {
          "base_uri": "https://localhost:8080/"
        },
        "id": "wTxsSZxFGBB5",
        "outputId": "7eef7a24-d318-41ce-dc28-4911fffba6d3"
      },
      "outputs": [
        {
          "output_type": "stream",
          "name": "stdout",
          "text": [
            "Evaluation \t Proposed point \t  Current eval. \t  Best eval. \t        Exact CBM: StdDev. x \t Approx CBM: StdDev. x \n",
            "init\t [1.53992353 0.38889348]\t 22.31361308916297\t 6.692051508754487\t    \t    \n",
            "init\t [3.24493717 6.52983589]\t 19.233109967858276\t 6.692051508754487\t    \t    \n",
            "init\t [1.30551703 4.95502232]\t 13.177851563387286\t 6.692051508754487\t    \t    \n",
            "init\t [-1.93027049  9.2890645 ]\t 6.692051508754487\t 6.692051508754487\t    \t    \n",
            "init\t [-0.50517989  4.00240913]\t 26.437522758780958\t 6.692051508754487\t    \t    \n",
            "1  \t [ 9.5587047  12.00387527]\t 89.09951357262268\t 6.692051508754487\t 5.699296112273292\t 6.2656429343994935\n",
            "\u001b[1m\u001b[92m2\u001b[0m\t \u001b[1m\u001b[92m[9.59366035 1.69164323]\u001b[0m\t \u001b[1m\u001b[92m1.3984593420568778\u001b[0m\t \u001b[1m\u001b[92m1.3984593420568778\u001b[0m\t \u001b[1m\u001b[92m5.48608907147091\u001b[0m\t \u001b[1m\u001b[92m5.945618087687977\u001b[0m\n",
            "3  \t [ 3.24245232 12.67669673]\t 110.25694222671481\t 1.3984593420568778\t 5.670307053814476\t 6.197392880424498\n",
            "4  \t [-5. 15.]\t 17.508299515778166\t 1.3984593420568778\t 5.334535783520369\t 5.916754711241988\n",
            "5  \t [-5.          0.51965784]\t 290.53604781113035\t 1.3984593420568778\t 5.830791702832927\t 5.997193891815842\n",
            "6  \t [8.9240814  6.42647446]\t 20.424632520070915\t 1.3984593420568778\t 5.130162627513443\t 5.501374610258605\n",
            "7  \t [-5.          5.97865961]\t 138.35871806066368\t 1.3984593420568778\t 4.932352957375318\t 5.312373929612311\n",
            "8  \t [5.72192899 2.48686513]\t 19.989619575468126\t 1.3984593420568778\t 5.128097490568602\t 5.710147063297168\n",
            "9  \t [-0.76794648 15.        ]\t 76.22165526027297\t 1.3984593420568778\t 5.230696830242585\t 4.986055889604009\n",
            "10 \t [-5.         11.02364134]\t 50.71518253065906\t 1.3984593420568778\t 5.153980840658757\t 5.489521015152423\n",
            "11 \t [6.10130668 9.30059939]\t 86.71842817831714\t 1.3984593420568778\t 5.603233623065113\t 5.360778551209737\n",
            "12 \t [1.15959542 9.28889322]\t 38.44697816165732\t 1.3984593420568778\t 5.03909126587887\t 5.628490123756106\n",
            "13 \t [ 6.75311558 15.        ]\t 210.5642021393362\t 1.3984593420568778\t 5.7337630214483974\t 5.39507669656864\n",
            "14 \t [-1.37705499 11.77138413]\t 22.969353978871894\t 1.3984593420568778\t 6.08232048942287\t 5.9735927320251765\n",
            "15 \t [7.55650578 0.        ]\t 14.636910713996468\t 1.3984593420568778\t 5.2721311300384635\t 4.61548103713545\n",
            "16 \t [-1.51738278  0.        ]\t 86.41908668920708\t 1.3984593420568778\t 5.673531675991092\t 5.826554408406834\n",
            "17 \t [ 4.65840401 14.36372523]\t 177.81713455401555\t 1.3984593420568778\t 4.246551409392166\t 4.395721696909535\n",
            "18 \t [-1.51528653  6.75046137]\t 14.365764396922366\t 1.3984593420568778\t 5.208234417980063\t 6.027494130288607\n",
            "19 \t [10. 15.]\t 145.87219087939556\t 1.3984593420568778\t 5.253997168081416\t 5.893858680417578\n",
            "20 \t [6.06938185 5.52941065]\t 39.01113706126251\t 1.3984593420568778\t 5.574213656474618\t 5.855393251389932\n"
          ]
        }
      ],
      "source": [
        "### ESTIMATED STP CBM GRADIENTS\n",
        "\n",
        "np.random.seed(run_num_2)\n",
        "surrogate_approx_2 = dtStudentProcess(cov_func, optimize=opt, nu = df)\n",
        "\n",
        "approx_2 = GPGO_multi(surrogate_approx_2, Acquisition_grad(util), objfunc, param)\n",
        "approx_2.run(init_evals=n_init, max_iter=iters)\n"
      ]
    },
    {
      "cell_type": "code",
      "execution_count": 15,
      "metadata": {
        "colab": {
          "base_uri": "https://localhost:8080/"
        },
        "id": "-dgzIrUIGCGT",
        "outputId": "7cfe60f7-f9ba-47ab-f412-edb7b0c4d9a3"
      },
      "outputs": [
        {
          "output_type": "stream",
          "name": "stdout",
          "text": [
            "Evaluation \t Proposed point \t  Current eval. \t  Best eval. \t        Exact CBM: StdDev. x \t Approx CBM: StdDev. x \n",
            "init\t [ 3.26196854 10.62221734]\t 71.68783452098575\t 18.07886746449891\t    \t    \n",
            "init\t [-0.63642892  7.66241408]\t 18.07886746449891\t 18.07886746449891\t    \t    \n",
            "init\t [ 8.39420432 13.44439633]\t 141.98653529865882\t 18.07886746449891\t    \t    \n",
            "init\t [-3.11622034  3.10864317]\t 83.31045707266176\t 18.07886746449891\t    \t    \n",
            "init\t [-4.22799195  6.61214765]\t 76.5294170688398\t 18.07886746449891\t    \t    \n",
            "1  \t [6.70472147 4.59545299]\t 30.726791812855225\t 18.07886746449891\t 4.241477993385701\t 4.241477993385701\n",
            "\u001b[1m\u001b[92m2\u001b[0m\t \u001b[1m\u001b[92m[-5. 15.]\u001b[0m\t \u001b[1m\u001b[92m17.508299515778166\u001b[0m\t \u001b[1m\u001b[92m17.508299515778166\u001b[0m\t \u001b[1m\u001b[92m5.2564550840142985\u001b[0m\t \u001b[1m\u001b[92m6.2012368106014595\u001b[0m\n",
            "\u001b[1m\u001b[92m3\u001b[0m\t \u001b[1m\u001b[92m[2.4586388  0.51525427]\u001b[0m\t \u001b[1m\u001b[92m8.086293584852344\u001b[0m\t \u001b[1m\u001b[92m8.086293584852344\u001b[0m\t \u001b[1m\u001b[92m5.745660409445073\u001b[0m\t \u001b[1m\u001b[92m6.3888172333850966\u001b[0m\n",
            "4  \t [10.  0.]\t 10.960889035651505\t 8.086293584852344\t 5.103627276317719\t 5.361358990035534\n",
            "5  \t [ 0.18293364 15.        ]\t 105.6870090980543\t 8.086293584852344\t 6.005631599940793\t 6.110291482879077\n",
            "6  \t [10.          8.34455513]\t 30.47581547395859\t 8.086293584852344\t 4.7996731576334986\t 4.973689366413692\n",
            "7  \t [-0.6195202  11.33294215]\t 36.28496106529289\t 8.086293584852344\t 4.479582449530638\t 4.374727781123198\n",
            "\u001b[1m\u001b[92m8\u001b[0m\t \u001b[1m\u001b[92m[2.25936721 4.60171775]\u001b[0m\t \u001b[1m\u001b[92m6.264421046392628\u001b[0m\t \u001b[1m\u001b[92m6.264421046392628\u001b[0m\t \u001b[1m\u001b[92m5.422532316394457\u001b[0m\t \u001b[1m\u001b[92m5.340406679577337\u001b[0m\n",
            "9  \t [7.57758365 1.58614563]\t 12.672552824993334\t 6.264421046392628\t 4.275782590430423\t 4.442174910461239\n",
            "10 \t [-5.         10.94919698]\t 51.638432675959386\t 6.264421046392628\t 5.1851595201717\t 5.622325087151537\n",
            "11 \t [-0.97633002  0.        ]\t 74.31444103864153\t 6.264421046392628\t 4.905287182464875\t 5.412341219704045\n",
            "12 \t [ 4.41554481 15.        ]\t 189.68017901453294\t 6.264421046392628\t 5.161282848884165\t 5.343934806771329\n",
            "13 \t [6.32084474 8.30855492]\t 71.53864668165592\t 6.264421046392628\t 6.056579443410931\t 5.734104767464267\n",
            "14 \t [-5.  0.]\t 308.12909601160663\t 6.264421046392628\t 5.732411209811967\t 5.155437061927324\n",
            "\u001b[1m\u001b[92m15\u001b[0m\t \u001b[1m\u001b[92m[10.          4.01181928]\u001b[0m\t \u001b[1m\u001b[92m2.9609445590516854\u001b[0m\t \u001b[1m\u001b[92m2.9609445590516854\u001b[0m\t \u001b[1m\u001b[92m5.733249739116276\u001b[0m\t \u001b[1m\u001b[92m5.679186573313579\u001b[0m\n",
            "16 \t [5.19376803 0.        ]\t 15.930887203111373\t 2.9609445590516854\t 5.005807750456574\t 5.197349308470117\n",
            "17 \t [2.77062701 7.23259516]\t 22.67834762433749\t 2.9609445590516854\t 5.079124730313671\t 4.5308041145611515\n",
            "18 \t [-1.87939783 13.5092676 ]\t 23.581931334203954\t 2.9609445590516854\t 4.910659327055834\t 4.947033368980047\n",
            "19 \t [-0.53879575  4.74718449]\t 22.854962400092877\t 2.9609445590516854\t 5.158707700722832\t 5.175268342332903\n",
            "20 \t [4.16925637 2.79751725]\t 6.447635424573745\t 2.9609445590516854\t 4.886596825071065\t 4.6773479789871235\n"
          ]
        }
      ],
      "source": [
        "### ESTIMATED STP CBM GRADIENTS\n",
        "\n",
        "np.random.seed(run_num_3)\n",
        "surrogate_approx_3 = dtStudentProcess(cov_func, optimize=opt, nu = df)\n",
        "\n",
        "approx_3 = GPGO_multi(surrogate_approx_3, Acquisition_grad(util), objfunc, param)\n",
        "approx_3.run(init_evals=n_init, max_iter=iters)\n"
      ]
    },
    {
      "cell_type": "code",
      "execution_count": 16,
      "metadata": {
        "id": "hOtG-2sCGCKS",
        "colab": {
          "base_uri": "https://localhost:8080/"
        },
        "outputId": "6b79079e-3bd9-4ec9-9064-4ecb8072a5f9"
      },
      "outputs": [
        {
          "output_type": "stream",
          "name": "stdout",
          "text": [
            "Evaluation \t Proposed point \t  Current eval. \t  Best eval. \t        Exact CBM: StdDev. x \t Approx CBM: StdDev. x \n",
            "init\t [9.50544759 8.20848374]\t 32.51676744781521\t 7.247126865776948\t    \t    \n",
            "init\t [ 9.5902654  10.72223991]\t 66.20566674364716\t 7.247126865776948\t    \t    \n",
            "init\t [5.46593237 3.24134243]\t 20.90089401680587\t 7.247126865776948\t    \t    \n",
            "init\t [9.64411682 0.09345383]\t 7.247126865776948\t 7.247126865776948\t    \t    \n",
            "init\t [-1.20526456  6.52187299]\t 15.941376982363263\t 7.247126865776948\t    \t    \n",
            "1  \t [ 1.25164457 13.57001383]\t 100.61648848019335\t 7.247126865776948\t 5.390263030922341\t 5.919880045578209\n",
            "2  \t [-5.  0.]\t 308.12909601160663\t 7.247126865776948\t 6.099949388179886\t 5.822837001886807\n",
            "3  \t [-5. 15.]\t 17.508299515778166\t 7.247126865776948\t 5.203988777409145\t 6.280061428215341\n",
            "4  \t [1.01757851 0.        ]\t 35.42357667162813\t 7.247126865776948\t 4.978464820941859\t 5.5637437151336835\n",
            "5  \t [3.93173896 8.52680458]\t 49.31076408226815\t 7.247126865776948\t 5.324312300510104\t 5.7383051856398675\n",
            "6  \t [-5.          9.84910573]\t 66.57373030776111\t 7.247126865776948\t 5.119140516377613\t 6.1891095546809245\n",
            "7  \t [ 6.5115814 15.       ]\t 212.17350074313094\t 7.247126865776948\t 4.970115176044028\t 5.926859962113268\n",
            "8  \t [-5.          4.94685507]\t 162.55371430900766\t 7.247126865776948\t 4.528815322482872\t 4.509199505815759\n",
            "\u001b[1m\u001b[92m9\u001b[0m\t \u001b[1m\u001b[92m[10.          3.97189774]\u001b[0m\t \u001b[1m\u001b[92m2.8819875821815426\u001b[0m\t \u001b[1m\u001b[92m2.8819875821815426\u001b[0m\t \u001b[1m\u001b[92m4.961787409841792\u001b[0m\t \u001b[1m\u001b[92m4.722782342366572\u001b[0m\n",
            "10 \t [1.68861417 4.12208989]\t 9.066011359045481\t 2.8819875821815426\t 4.875474549211663\t 5.0701885883051485\n",
            "11 \t [-0.84580822 10.09725726]\t 23.436070372958994\t 2.8819875821815426\t 5.384054890242747\t 5.171120627016513\n",
            "12 \t [10. 15.]\t 145.87219087939556\t 2.8819875821815426\t 4.762114753523982\t 5.0151657604659965\n",
            "13 \t [6.1685137 0.       ]\t 20.744760683460353\t 2.8819875821815426\t 4.830049387080083\t 5.507697164058276\n",
            "14 \t [-1.66767265  2.66012242]\t 49.436168951521566\t 2.8819875821815426\t 4.598387425007011\t 5.214010075210027\n",
            "15 \t [6.81394177 6.18376277]\t 43.586791919948126\t 2.8819875821815426\t 4.099858767376286\t 4.555757347423209\n",
            "16 \t [-2.5515667  13.02822485]\t 6.542187703522477\t 2.8819875821815426\t 4.819742289328988\t 4.250581283127915\n",
            "17 \t [ 6.22198651 11.72406783]\t 132.48606755515826\t 2.8819875821815426\t 5.276599285139972\t 5.0600375515004\n",
            "18 \t [1.00367947 2.56648664]\t 19.02439737563258\t 2.8819875821815426\t 4.566102914098347\t 4.566102914098347\n",
            "19 \t [ 3.4016948  11.42171633]\t 87.97177858274428\t 2.8819875821815426\t 4.668081651753822\t 4.968721497906797\n",
            "20 \t [-4.78056385  2.77998439]\t 200.566632290452\t 2.8819875821815426\t 4.85619083118336\t 5.061704650113284\n"
          ]
        }
      ],
      "source": [
        "### ESTIMATED STP CBM GRADIENTS\n",
        "\n",
        "np.random.seed(run_num_4)\n",
        "surrogate_approx_4 = dtStudentProcess(cov_func, optimize=opt, nu = df)\n",
        "\n",
        "approx_4= GPGO_multi(surrogate_approx_4, Acquisition_grad(util), objfunc, param)\n",
        "approx_4.run(init_evals=n_init, max_iter=iters)\n"
      ]
    },
    {
      "cell_type": "code",
      "execution_count": 17,
      "metadata": {
        "id": "JF_SxcEvGCOl",
        "colab": {
          "base_uri": "https://localhost:8080/"
        },
        "outputId": "56e9b7d8-6d0f-45a0-b2c6-6e1cc26766f7"
      },
      "outputs": [
        {
          "output_type": "stream",
          "name": "stdout",
          "text": [
            "Evaluation \t Proposed point \t  Current eval. \t  Best eval. \t        Exact CBM: StdDev. x \t Approx CBM: StdDev. x \n",
            "init\t [-1.67010243 13.06098459]\t 25.390690545664548\t 25.311309190989615\t    \t    \n",
            "init\t [-1.89921267 13.77916362]\t 25.311309190989615\t 25.311309190989615\t    \t    \n",
            "init\t [2.32616783 9.17615794]\t 41.60147975414021\t 25.311309190989615\t    \t    \n",
            "init\t [6.48861785 7.77626982]\t 63.81281921768236\t 25.311309190989615\t    \t    \n",
            "init\t [-0.54799248  2.81581843]\t 34.966203644931994\t 25.311309190989615\t    \t    \n",
            "\u001b[1m\u001b[92m1\u001b[0m\t \u001b[1m\u001b[92m[8.84124421 0.03321319]\u001b[0m\t \u001b[1m\u001b[92m5.96108856337545\u001b[0m\t \u001b[1m\u001b[92m5.96108856337545\u001b[0m\t \u001b[1m\u001b[92m6.223759599255244\u001b[0m\t \u001b[1m\u001b[92m6.2359000844198516\u001b[0m\n",
            "2  \t [10. 15.]\t 145.87219087939556\t 5.96108856337545\t 5.8941219609869515\t 5.80338968742424\n",
            "3  \t [-4.09465254  7.88822372]\t 50.60443301918567\t 5.96108856337545\t 5.766618835967077\t 6.387438696998517\n",
            "4  \t [ 3.7099837 15.       ]\t 174.2134239091822\t 5.96108856337545\t 5.522541289316693\t 5.541963940063479\n",
            "5  \t [-5.  0.]\t 308.12909601160663\t 5.96108856337545\t 5.52336509940713\t 5.830628801381462\n",
            "6  \t [3.89969351 0.        ]\t 6.1181710367789695\t 5.96108856337545\t 5.20641224194011\t 4.930534053770429\n",
            "\u001b[1m\u001b[92m7\u001b[0m\t \u001b[1m\u001b[92m[10.         4.3371544]\u001b[0m\t \u001b[1m\u001b[92m3.7232244115006328\u001b[0m\t \u001b[1m\u001b[92m3.7232244115006328\u001b[0m\t \u001b[1m\u001b[92m4.68457291023063\u001b[0m\t \u001b[1m\u001b[92m5.340100808961248\u001b[0m\n",
            "8  \t [3.79889764 4.09254413]\t 7.5711683079733145\t 3.7232244115006328\t 4.819191891351031\t 5.299294825581138\n",
            "9  \t [10.         10.33731337]\t 55.73592976334804\t 3.7232244115006328\t 5.059727636993793\t 5.491769403859738\n",
            "10 \t [-5.         11.73797598]\t 42.41954117852532\t 3.7232244115006328\t 5.129124511419133\t 5.774037759411039\n",
            "11 \t [6.98790574 2.91349624]\t 20.297027950373526\t 3.7232244115006328\t 4.292237440853379\t 5.62521865576862\n",
            "12 \t [ 6.33024978 11.80140274]\t 134.07331556863232\t 3.7232244115006328\t 5.142245260108013\t 5.363630933660924\n",
            "13 \t [-5.          4.24503915]\t 180.22742226227288\t 3.7232244115006328\t 4.766197573378674\t 5.06309882880814\n",
            "14 \t [-0.40155626  6.5624705 ]\t 18.847799319775106\t 3.7232244115006328\t 4.450023672749274\t 5.004069780984522\n",
            "15 \t [-5. 15.]\t 17.508299515778166\t 3.7232244115006328\t 4.615252330502518\t 6.259299954530083\n",
            "16 \t [-1.12640358  9.91298082]\t 17.955332760236175\t 3.7232244115006328\t 4.763318344848338\t 4.665691228584983\n",
            "17 \t [10.          7.03103425]\t 18.168550190440662\t 3.7232244115006328\t 4.318626207922962\t 4.795462033712923\n",
            "18 \t [-3.29446062 10.36607268]\t 5.705183496331357\t 3.7232244115006328\t 4.926436278255741\t 4.927484863813815\n",
            "19 \t [1.00427688 0.        ]\t 35.691879712905916\t 3.7232244115006328\t 4.714919732974536\t 4.697153505514555\n",
            "20 \t [ 1.65541607 12.85612534]\t 92.6692685043064\t 3.7232244115006328\t 4.766760504386432\t 4.725433082100003\n"
          ]
        }
      ],
      "source": [
        "### ESTIMATED STP CBM GRADIENTS\n",
        "\n",
        "np.random.seed(run_num_5)\n",
        "surrogate_approx_5 = dtStudentProcess(cov_func, optimize=opt, nu = df)\n",
        "\n",
        "approx_5 = GPGO_multi(surrogate_approx_5, Acquisition_grad(util), objfunc, param)\n",
        "approx_5.run(init_evals=n_init, max_iter=iters)\n"
      ]
    },
    {
      "cell_type": "code",
      "execution_count": 18,
      "metadata": {
        "id": "-kDxZtJsGCR3",
        "colab": {
          "base_uri": "https://localhost:8080/"
        },
        "outputId": "6e3a9ac7-b4fd-4379-aeb0-c8db2b4b5647"
      },
      "outputs": [
        {
          "output_type": "stream",
          "name": "stdout",
          "text": [
            "Evaluation \t Proposed point \t  Current eval. \t  Best eval. \t        Exact CBM: StdDev. x \t Approx CBM: StdDev. x \n",
            "init\t [8.39290227 4.97969708]\t 15.553860636684597\t 15.31731051317483\t    \t    \n",
            "init\t [7.31843685 0.62544939]\t 15.31731051317483\t 15.31731051317483\t    \t    \n",
            "init\t [-3.3851498   8.92578096]\t 16.222288919361837\t 15.31731051317483\t    \t    \n",
            "init\t [2.94726043 6.28211143]\t 15.406373581304088\t 15.31731051317483\t    \t    \n",
            "init\t [0.03111774 9.33779148]\t 31.07053245856209\t 15.31731051317483\t    \t    \n",
            "1  \t [ 9.64829531 12.55362889]\t 98.32295673962142\t 15.31731051317483\t 5.174553622864057\t 5.569250053127693\n",
            "2  \t [-5.  0.]\t 308.12909601160663\t 15.31731051317483\t 5.847991679953253\t 6.520379131936597\n",
            "3  \t [ 4.34724927 14.59608757]\t 177.48889452505895\t 15.31731051317483\t 5.429123615264638\t 5.424438967270725\n",
            "4  \t [-2.30273961 14.72568636]\t 22.729915390731268\t 15.31731051317483\t 5.769274682377704\t 6.364700519621058\n",
            "5  \t [1.62895493 0.13431773]\t 22.516676732879368\t 15.31731051317483\t 5.5678714884118765\t 5.830080665759108\n",
            "6  \t [-1.57895623  4.26116312]\t 30.842155140105536\t 15.31731051317483\t 5.486771252224587\t 6.067115469052857\n",
            "7  \t [5.85554423 9.56421117]\t 90.21088273499765\t 15.31731051317483\t 5.806736085539742\t 5.73021047418041\n",
            "8  \t [10.          8.59029646]\t 33.16150732718511\t 15.31731051317483\t 4.904955401054484\t 5.081655821459012\n",
            "9  \t [ 0.18638758 12.6865283 ]\t 68.1378550124482\t 15.31731051317483\t 4.231344274469391\t 4.95278032551196\n",
            "10 \t [-5.          4.31716642]\t 178.36563607622026\t 15.31731051317483\t 5.027174780888279\t 6.138439894108324\n",
            "\u001b[1m\u001b[92m11\u001b[0m\t \u001b[1m\u001b[92m[4.43839793 2.93088131]\u001b[0m\t \u001b[1m\u001b[92m9.504275688140988\u001b[0m\t \u001b[1m\u001b[92m9.504275688140988\u001b[0m\t \u001b[1m\u001b[92m5.540136001420714\u001b[0m\t \u001b[1m\u001b[92m6.413882325867163\u001b[0m\n",
            "12 \t [-5.         12.21808128]\t 37.41748606313463\t 9.504275688140988\t 5.809332136551319\t 6.213399122557175\n",
            "13 \t [10.  0.]\t 10.960889035651505\t 9.504275688140988\t 5.322768915921805\t 5.64085470742173\n",
            "14 \t [1.52913197 3.40841793]\t 10.611511433361638\t 9.504275688140988\t 5.496237761965322\t 5.567684467061627\n",
            "15 \t [-1.34072122  0.89713425]\t 67.97428485939102\t 9.504275688140988\t 5.392205996621599\t 5.296243811318168\n",
            "16 \t [5.77878831 6.03203916]\t 42.56578958143062\t 9.504275688140988\t 5.10001143893863\t 5.553226528070402\n",
            "17 \t [ 7.65998737 15.        ]\t 197.11844326709013\t 9.504275688140988\t 5.461451737065422\t 5.85194915228014\n",
            "18 \t [ 2.94605952 11.02437839]\t 74.40248396894259\t 9.504275688140988\t 4.923753808721877\t 6.171447456802056\n",
            "19 \t [-1.07323536  6.49557691]\t 16.436149062041103\t 9.504275688140988\t 6.122468145604785\t 6.216257153761897\n",
            "\u001b[1m\u001b[92m20\u001b[0m\t \u001b[1m\u001b[92m[9.7275565  2.88311544]\u001b[0m\t \u001b[1m\u001b[92m0.8545162706160028\u001b[0m\t \u001b[1m\u001b[92m0.8545162706160028\u001b[0m\t \u001b[1m\u001b[92m5.51414428977263\u001b[0m\t \u001b[1m\u001b[92m5.562387129172544\u001b[0m\n"
          ]
        }
      ],
      "source": [
        "### ESTIMATED STP CBM GRADIENTS\n",
        "\n",
        "np.random.seed(run_num_6)\n",
        "surrogate_approx_6 = dtStudentProcess(cov_func, optimize=opt, nu = df)\n",
        "\n",
        "approx_6 = GPGO_multi(surrogate_approx_6, Acquisition_grad(util), objfunc, param)\n",
        "approx_6.run(init_evals=n_init, max_iter=iters)\n"
      ]
    },
    {
      "cell_type": "code",
      "execution_count": 19,
      "metadata": {
        "id": "fKB8MCD_GCVI",
        "colab": {
          "base_uri": "https://localhost:8080/"
        },
        "outputId": "9da92585-38b4-4cc5-cf0f-ca0f4d26385a"
      },
      "outputs": [
        {
          "output_type": "stream",
          "name": "stdout",
          "text": [
            "Evaluation \t Proposed point \t  Current eval. \t  Best eval. \t        Exact CBM: StdDev. x \t Approx CBM: StdDev. x \n",
            "init\t [-3.85537566 11.69878188]\t 8.299317850233932\t 5.211335324193094\t    \t    \n",
            "init\t [ 1.57613847 10.85197767]\t 59.50408380701259\t 5.211335324193094\t    \t    \n",
            "init\t [9.66984268 8.07743806]\t 29.714921414987273\t 5.211335324193094\t    \t    \n",
            "init\t [2.51680695 1.080767  ]\t 5.211335324193094\t 5.211335324193094\t    \t    \n",
            "init\t [-0.9734153   7.49823751]\t 15.431057204948033\t 5.211335324193094\t    \t    \n",
            "1  \t [-4.97859679  1.38393519]\t 260.3293952774437\t 5.211335324193094\t 4.234605889855404\t 4.835344351454883\n",
            "2  \t [ 8.91691628 15.        ]\t 168.53807473378885\t 5.211335324193094\t 5.718156807566418\t 5.786424194210805\n",
            "3  \t [10.  0.]\t 10.960889035651505\t 5.211335324193094\t 5.3610362771592674\t 5.4468669804978775\n",
            "4  \t [-3.39684884  5.54228873]\t 54.79871094423047\t 5.211335324193094\t 4.5131580412656405\t 4.684343925138193\n",
            "5  \t [4.55506611 5.90016308]\t 28.47090228991144\t 5.211335324193094\t 4.841377564836089\t 5.38194640792354\n",
            "6  \t [-0.88851654 15.        ]\t 72.06344359160647\t 5.211335324193094\t 5.790182605416224\t 6.988609648359878\n",
            "7  \t [ 3.97175029 15.        ]\t 179.96899049348852\t 5.211335324193094\t 4.737130893292774\t 5.033629925406361\n",
            "8  \t [ 6.17969156 10.64574727]\t 110.70850580546427\t 5.211335324193094\t 5.256362009555237\t 5.462604672538171\n",
            "9  \t [8.4724687  3.79748774]\t 8.467236249490346\t 5.211335324193094\t 5.287657531715859\t 5.274637692070898\n",
            "10 \t [6.06274537 0.        ]\t 20.57812862499958\t 5.211335324193094\t 4.435724336506089\t 5.162131151880722\n",
            "11 \t [-0.94443864  0.        ]\t 73.66797485079476\t 5.211335324193094\t 4.701805404775103\t 5.094940511946155\n",
            "12 \t [0.78421374 4.11951992]\t 17.304433136290115\t 5.211335324193094\t 5.04493201294909\t 5.653251427464866\n",
            "13 \t [-5.          8.76599614]\t 83.64312352303432\t 5.211335324193094\t 4.3129033687430995\t 4.3106133602205565\n",
            "14 \t [-5. 15.]\t 17.508299515778166\t 5.211335324193094\t 4.430531687910777\t 5.207007836954472\n",
            "15 \t [10.         11.42070844]\t 72.80168668447891\t 5.211335324193094\t 5.31757861191068\t 5.217430029979366\n",
            "16 \t [4.97156804 2.77586205]\t 14.697031757774035\t 5.211335324193094\t 4.823360583702768\t 4.652055652725617\n",
            "17 \t [1.96253101 7.48194256]\t 23.208418627841702\t 5.211335324193094\t 4.058516441485444\t 4.762801565269461\n",
            "18 \t [-1.46770775 10.36249973]\t 14.044617671981758\t 5.211335324193094\t 4.922184323419817\t 4.6639288153440965\n",
            "19 \t [7.40260165 6.28980688]\t 39.11152057593243\t 5.211335324193094\t 4.614234677151814\t 4.669370216958\n",
            "20 \t [-1.85045857  2.94752283]\t 48.82217437531813\t 5.211335324193094\t 4.924888092441062\t 5.67001813950279\n"
          ]
        }
      ],
      "source": [
        "### ESTIMATED STP CBM GRADIENTS\n",
        "\n",
        "np.random.seed(run_num_7)\n",
        "surrogate_approx_7 = dtStudentProcess(cov_func, optimize=opt, nu = df)\n",
        "\n",
        "approx_7 = GPGO_multi(surrogate_approx_7, Acquisition_grad(util), objfunc, param)\n",
        "approx_7.run(init_evals=n_init, max_iter=iters)\n"
      ]
    },
    {
      "cell_type": "code",
      "execution_count": 20,
      "metadata": {
        "id": "4unvifF-GCXp",
        "colab": {
          "base_uri": "https://localhost:8080/"
        },
        "outputId": "b0bea63c-555b-41aa-c496-a3cd952f4e14"
      },
      "outputs": [
        {
          "output_type": "stream",
          "name": "stdout",
          "text": [
            "Evaluation \t Proposed point \t  Current eval. \t  Best eval. \t        Exact CBM: StdDev. x \t Approx CBM: StdDev. x \n",
            "init\t [ 8.10144104 14.52810994]\t 175.17297136347514\t 15.416245468470875\t    \t    \n",
            "init\t [8.0379181  7.96283537]\t 49.32173799887473\t 15.416245468470875\t    \t    \n",
            "init\t [-1.50907508  0.17098206]\t 83.26753461673219\t 15.416245468470875\t    \t    \n",
            "init\t [1.45703227 6.0352704 ]\t 15.416245468470875\t 15.416245468470875\t    \t    \n",
            "init\t [2.84012007 7.17587694]\t 22.49093277852639\t 15.416245468470875\t    \t    \n",
            "1  \t [-5. 15.]\t 17.508299515778166\t 15.416245468470875\t 5.180498456596191\t 5.67128248806313\n",
            "\u001b[1m\u001b[92m2\u001b[0m\t \u001b[1m\u001b[92m[10.  0.]\u001b[0m\t \u001b[1m\u001b[92m10.960889035651505\u001b[0m\t \u001b[1m\u001b[92m10.960889035651505\u001b[0m\t \u001b[1m\u001b[92m5.7417731744460205\u001b[0m\t \u001b[1m\u001b[92m5.578652913455975\u001b[0m\n",
            "3  \t [-5.          8.10742832]\t 95.1689133971982\t 10.960889035651505\t 5.533382058755044\t 6.125583910615789\n",
            "4  \t [ 1.62597918 12.87048713]\t 92.5859704591356\t 10.960889035651505\t 5.4783526502083655\t 5.510259106046607\n",
            "\u001b[1m\u001b[92m5\u001b[0m\t \u001b[1m\u001b[92m[4.58008245 1.1608382 ]\u001b[0m\t \u001b[1m\u001b[92m8.800703127896494\u001b[0m\t \u001b[1m\u001b[92m8.800703127896494\u001b[0m\t \u001b[1m\u001b[92m5.511009081585937\u001b[0m\t \u001b[1m\u001b[92m5.096052339442486\u001b[0m\n",
            "6  \t [-5.          3.30053467]\t 205.56767078389746\t 8.800703127896494\t 5.492374193398396\t 5.159554434418674\n",
            "\u001b[1m\u001b[92m7\u001b[0m\t \u001b[1m\u001b[92m[10.          4.03802423]\u001b[0m\t \u001b[1m\u001b[92m3.0145056469789573\u001b[0m\t \u001b[1m\u001b[92m3.0145056469789573\u001b[0m\t \u001b[1m\u001b[92m5.365631360491982\u001b[0m\t \u001b[1m\u001b[92m4.809296283066304\u001b[0m\n",
            "\u001b[1m\u001b[92m8\u001b[0m\t \u001b[1m\u001b[92m[-2.59701254 11.76365272]\u001b[0m\t \u001b[1m\u001b[92m2.3631107609327078\u001b[0m\t \u001b[1m\u001b[92m2.3631107609327078\u001b[0m\t \u001b[1m\u001b[92m5.559083958383459\u001b[0m\t \u001b[1m\u001b[92m4.9702734909847965\u001b[0m\n",
            "9  \t [6.13771052 4.36622118]\t 30.18128172398302\t 2.3631107609327078\t 5.566276379634509\t 4.958398194423422\n",
            "10 \t [ 5.32265788 10.92234431]\t 110.2483838185145\t 2.3631107609327078\t 6.4255333494689815\t 5.733297352809949\n",
            "11 \t [-0.74947929  9.0832982 ]\t 20.33392456534294\t 2.3631107609327078\t 6.411414158207223\t 6.076549080490682\n",
            "12 \t [1.59604351 2.61927847]\t 11.125606186265681\t 2.3631107609327078\t 5.497709537417271\t 5.884037484944911\n",
            "13 \t [-1.57808193 15.        ]\t 47.958120228591596\t 2.3631107609327078\t 5.869822968435126\t 5.765967481222387\n",
            "14 \t [10.        11.0123656]\t 66.09377306771117\t 2.3631107609327078\t 5.4723481523402535\t 6.038752717532129\n",
            "15 \t [-1.41492782  4.50607773]\t 27.526473400806037\t 2.3631107609327078\t 5.217039542205266\t 5.448692695408691\n",
            "16 \t [7.10885044 0.        ]\t 17.985533037684295\t 2.3631107609327078\t 5.359421985229844\t 4.754820829499243\n",
            "17 \t [ 4.38946863 15.        ]\t 189.12195944780726\t 2.3631107609327078\t 5.922660506236403\t 5.842617129555214\n",
            "18 \t [-5.         11.78735552]\t 41.88380332772725\t 2.3631107609327078\t 5.733774368503574\t 5.855582466445055\n",
            "19 \t [ 2.0909681  10.01279782]\t 51.1397913597823\t 2.3631107609327078\t 4.329162824383197\t 4.306813111781995\n",
            "20 \t [-5.  0.]\t 308.12909601160663\t 2.3631107609327078\t 4.819569030602899\t 4.6077248378603795\n"
          ]
        }
      ],
      "source": [
        "### ESTIMATED STP CBM GRADIENTS\n",
        "\n",
        "np.random.seed(run_num_8)\n",
        "surrogate_approx_8 = dtStudentProcess(cov_func, optimize=opt, nu = df)\n",
        "\n",
        "approx_8 = GPGO_multi(surrogate_approx_8, Acquisition_grad(util), objfunc, param)\n",
        "approx_8.run(init_evals=n_init, max_iter=iters)\n"
      ]
    },
    {
      "cell_type": "code",
      "execution_count": 21,
      "metadata": {
        "id": "85OIXcg7GCaJ",
        "colab": {
          "base_uri": "https://localhost:8080/"
        },
        "outputId": "61f021e2-125c-442e-97ec-8c1c22cdcb6f"
      },
      "outputs": [
        {
          "output_type": "stream",
          "name": "stdout",
          "text": [
            "Evaluation \t Proposed point \t  Current eval. \t  Best eval. \t        Exact CBM: StdDev. x \t Approx CBM: StdDev. x \n",
            "init\t [-4.84438769  7.52811888]\t 96.15564306553264\t 3.4640248583909496\t    \t    \n",
            "init\t [2.4365994  2.00744293]\t 3.4640248583909496\t 3.4640248583909496\t    \t    \n",
            "init\t [-2.86833372  3.27838013]\t 70.46930174488207\t 3.4640248583909496\t    \t    \n",
            "init\t [1.27762271 3.72151753]\t 12.982825924833865\t 3.4640248583909496\t    \t    \n",
            "init\t [-3.73910523  5.1824796 ]\t 75.58547400560856\t 3.4640248583909496\t    \t    \n",
            "1  \t [ 7.05609655 14.75038872]\t 200.4388688685465\t 3.4640248583909496\t 5.715468862777009\t 5.393626374593891\n",
            "2  \t [9.79317275 0.        ]\t 8.900510263400083\t 3.4640248583909496\t 5.454381791145676\t 4.857053843266392\n",
            "3  \t [-1.64804202 15.        ]\t 45.573969859593134\t 3.4640248583909496\t 4.940764903679022\t 5.106231550120049\n",
            "4  \t [7.95596725 8.39803319]\t 56.402277607584324\t 3.4640248583909496\t 5.217582367312017\t 4.8521486906039\n",
            "5  \t [0.84336607 9.67882349]\t 40.68193894094502\t 3.4640248583909496\t 5.397000129647247\t 5.190637740480881\n",
            "6  \t [6.62995939 3.49013418]\t 24.61695908436577\t 3.4640248583909496\t 5.540485534265444\t 6.026822588575738\n",
            "7  \t [-5.        12.1794585]\t 37.80283252197625\t 3.4640248583909496\t 5.803838096039129\t 5.45563889460229\n",
            "8  \t [ 2.515927  13.7957993]\t 122.82764994074618\t 3.4640248583909496\t 5.870348070110631\t 5.030727819378958\n",
            "9  \t [3.92276198 6.75836488]\t 28.319170832536766\t 3.4640248583909496\t 5.804017660622119\t 5.3066495779238325\n",
            "10 \t [-0.30961051  0.        ]\t 61.46245132454537\t 3.4640248583909496\t 5.812976476354943\t 5.625663942360667\n",
            "11 \t [5.11871958 0.        ]\t 15.328057568274662\t 3.4640248583909496\t 6.172502243650277\t 6.5438043796578285\n",
            "12 \t [-5.  0.]\t 308.12909601160663\t 3.4640248583909496\t 6.007098903972416\t 5.905090146322192\n",
            "13 \t [10.          4.85064182]\t 5.357081333091111\t 3.4640248583909496\t 5.180886643760437\t 5.097228216794667\n",
            "14 \t [10.         11.74490555]\t 78.3648120819476\t 3.4640248583909496\t 5.010096568237779\t 4.920103464934076\n",
            "15 \t [-0.26457259  6.45876179]\t 19.26882111730638\t 3.4640248583909496\t 4.781527798706957\t 5.601119541660139\n",
            "16 \t [ 4.87287958 10.57936205]\t 97.41748322769105\t 3.4640248583909496\t 5.305651216114471\t 5.542910264884179\n",
            "\u001b[1m\u001b[92m17\u001b[0m\t \u001b[1m\u001b[92m[-2.43033573 10.07831119]\u001b[0m\t \u001b[1m\u001b[92m3.0314967902291095\u001b[0m\t \u001b[1m\u001b[92m3.0314967902291095\u001b[0m\t \u001b[1m\u001b[92m6.038122584305101\u001b[0m\t \u001b[1m\u001b[92m5.748547365226134\u001b[0m\n",
            "18 \t [-5. 15.]\t 17.508299515778166\t 3.0314967902291095\t 5.818691226204016\t 6.414687784121024\n",
            "19 \t [-0.97613654 12.09312165]\t 34.88447774788054\t 3.0314967902291095\t 4.287480904688485\t 4.612258637973675\n",
            "20 \t [ 4.25247997 14.4795924 ]\t 172.4449124021284\t 3.0314967902291095\t 4.945238041905617\t 4.9171409510665045\n"
          ]
        }
      ],
      "source": [
        "### ESTIMATED STP CBM GRADIENTS\n",
        "\n",
        "np.random.seed(run_num_9)\n",
        "surrogate_approx_9 = dtStudentProcess(cov_func, optimize=opt, nu = df)\n",
        "\n",
        "approx_9 = GPGO_multi(surrogate_approx_9, Acquisition_grad(util), objfunc, param)\n",
        "approx_9.run(init_evals=n_init, max_iter=iters)\n"
      ]
    },
    {
      "cell_type": "code",
      "execution_count": 22,
      "metadata": {
        "id": "QQBR-qJPGCcp",
        "colab": {
          "base_uri": "https://localhost:8080/"
        },
        "outputId": "f64fa715-92d1-4347-e048-3641212474b3"
      },
      "outputs": [
        {
          "output_type": "stream",
          "name": "stdout",
          "text": [
            "Evaluation \t Proposed point \t  Current eval. \t  Best eval. \t        Exact CBM: StdDev. x \t Approx CBM: StdDev. x \n",
            "init\t [6.56980965 0.31127924]\t 19.863985024602144\t 2.710610964564512\t    \t    \n",
            "init\t [ 4.50472352 11.23205824]\t 103.66999147252169\t 2.710610964564512\t    \t    \n",
            "init\t [2.47760518 3.37194968]\t 2.710610964564512\t 2.710610964564512\t    \t    \n",
            "init\t [-2.02905703 11.40796068]\t 8.463930835255017\t 2.710610964564512\t    \t    \n",
            "init\t [-2.46333745  1.32509721]\t 90.49481266026973\t 2.710610964564512\t    \t    \n",
            "1  \t [10.          6.65759109]\t 15.299493898244622\t 2.710610964564512\t 4.779484637188568\t 5.231927077429423\n",
            "2  \t [-3.9785409   6.96796212]\t 58.461200561224906\t 2.710610964564512\t 4.501359007505147\t 5.14207457586981\n",
            "3  \t [-5. 15.]\t 17.508299515778166\t 2.710610964564512\t 4.785212096600508\t 4.857278629261883\n",
            "4  \t [10. 15.]\t 145.87219087939556\t 2.710610964564512\t 5.772994435839321\t 5.7308062389596675\n",
            "5  \t [ 1.03409033 15.        ]\t 125.32062520488041\t 2.710610964564512\t 5.488225609284402\t 5.692320537413018\n",
            "6  \t [0.99283449 7.59876404]\t 24.557882373319977\t 2.710610964564512\t 5.489862537983673\t 4.498313079730096\n",
            "7  \t [5.5482683  6.14302649]\t 42.09015482678804\t 2.710610964564512\t 5.141726893758156\t 5.419447337149534\n",
            "\u001b[1m\u001b[92m8\u001b[0m\t \u001b[1m\u001b[92m[10.         2.4969478]\u001b[0m\t \u001b[1m\u001b[92m2.199185577040014\u001b[0m\t \u001b[1m\u001b[92m2.199185577040014\u001b[0m\t \u001b[1m\u001b[92m6.2214938905359585\u001b[0m\t \u001b[1m\u001b[92m6.196870491943175\u001b[0m\n",
            "9  \t [ 8.95867983 10.68532518]\t 74.96005184833592\t 2.199185577040014\t 5.354020421336022\t 5.722898915719731\n",
            "10 \t [2.03507741 0.        ]\t 16.564617312881115\t 2.199185577040014\t 5.077916220892845\t 5.595989093426677\n",
            "11 \t [ 5.66172005 15.        ]\t 210.18057173601247\t 2.199185577040014\t 4.599700914015847\t 4.848952327091226\n",
            "12 \t [-5.         10.87632796]\t 52.55288016155591\t 2.199185577040014\t 4.564287718780001\t 4.631244565559733\n",
            "13 \t [-0.67657311  4.60086445]\t 23.913564764314437\t 2.199185577040014\t 5.222597499114251\t 4.80717701276271\n",
            "14 \t [7.37571003 3.43627986]\t 19.03025887090888\t 2.199185577040014\t 5.3932038197878605\t 5.701094005528117\n",
            "15 \t [10.  0.]\t 10.960889035651505\t 2.199185577040014\t 5.696844980460655\t 5.637367713306898\n",
            "16 \t [ 0.85324254 11.0319382 ]\t 55.951744300218834\t 2.199185577040014\t 5.547852847658119\t 5.3770787942087335\n",
            "17 \t [-5.         0.0177398]\t 307.5196101991113\t 2.199185577040014\t 5.404537421682575\t 5.699169636904895\n",
            "18 \t [-5.          3.89929459]\t 189.2964353900373\t 2.199185577040014\t 3.8055694707894547\t 4.887167378006799\n",
            "19 \t [-1.39187889  9.11935965]\t 12.13634485831467\t 2.199185577040014\t 3.8866125421678204\t 3.9497600989403896\n",
            "20 \t [ 6.92068317 13.3114756 ]\t 165.06374753602876\t 2.199185577040014\t 5.191136786265008\t 5.15185092086062\n"
          ]
        }
      ],
      "source": [
        "### ESTIMATED STP CBM GRADIENTS\n",
        "\n",
        "np.random.seed(run_num_10)\n",
        "surrogate_approx_10 = dtStudentProcess(cov_func, optimize=opt, nu = df)\n",
        "\n",
        "approx_10 = GPGO_multi(surrogate_approx_10, Acquisition_grad(util), objfunc, param)\n",
        "approx_10.run(init_evals=n_init, max_iter=iters)\n"
      ]
    },
    {
      "cell_type": "code",
      "execution_count": 23,
      "metadata": {
        "id": "JS8ejeQ2GCfi",
        "colab": {
          "base_uri": "https://localhost:8080/"
        },
        "outputId": "d20f5d3f-9b34-47f4-9c9e-31befd121b73"
      },
      "outputs": [
        {
          "output_type": "stream",
          "name": "stdout",
          "text": [
            "Evaluation \t Proposed point \t  Current eval. \t  Best eval. \t        Exact CBM: StdDev. x \t Approx CBM: StdDev. x \n",
            "init\t [-2.29595467  0.29212862]\t 104.49282729548965\t 22.37435843952312\t    \t    \n",
            "init\t [ 1.9482779  10.87400894]\t 62.47758067812407\t 22.37435843952312\t    \t    \n",
            "init\t [1.30305407 7.28140647]\t 22.37435843952312\t 22.37435843952312\t    \t    \n",
            "init\t [-4.80828778  7.31057411]\t 97.94503054415523\t 22.37435843952312\t    \t    \n",
            "init\t [ 9.12709979 12.76192634]\t 111.62900800771942\t 22.37435843952312\t    \t    \n",
            "\u001b[1m\u001b[92m1\u001b[0m\t \u001b[1m\u001b[92m[7.58042751 0.        ]\u001b[0m\t \u001b[1m\u001b[92m14.440095631532731\u001b[0m\t \u001b[1m\u001b[92m14.440095631532731\u001b[0m\t \u001b[1m\u001b[92m4.975582711076718\u001b[0m\t \u001b[1m\u001b[92m5.471050216974576\u001b[0m\n",
            "\u001b[1m\u001b[92m2\u001b[0m\t \u001b[1m\u001b[92m[-3.69185194 13.22643636]\u001b[0m\t \u001b[1m\u001b[92m1.9834337577905252\u001b[0m\t \u001b[1m\u001b[92m1.9834337577905252\u001b[0m\t \u001b[1m\u001b[92m4.950351363323038\u001b[0m\t \u001b[1m\u001b[92m5.616107302626337\u001b[0m\n",
            "3  \t [9.48896345 5.36683862]\t 8.467162742850146\t 1.9834337577905252\t 5.105479468863799\t 5.683202641501485\n",
            "\u001b[1m\u001b[92m4\u001b[0m\t \u001b[1m\u001b[92m[2.94351693 2.23003407]\u001b[0m\t \u001b[1m\u001b[92m0.6274594292191651\u001b[0m\t \u001b[1m\u001b[92m0.6274594292191651\u001b[0m\t \u001b[1m\u001b[92m4.47332227696996\u001b[0m\t \u001b[1m\u001b[92m4.206399054572537\u001b[0m\n",
            "5  \t [ 4.54032206 15.        ]\t 192.31279651743571\t 0.6274594292191651\t 5.258609626553024\t 5.037472013189872\n",
            "6  \t [6.43645684 9.64474589]\t 92.36705154594212\t 0.6274594292191651\t 5.386185369613728\t 5.211724930885233\n",
            "7  \t [5.28906718 4.85807462]\t 28.646082167364426\t 0.6274594292191651\t 5.438854828466134\t 5.509167512576656\n",
            "8  \t [-0.4104403 15.       ]\t 88.11025956310216\t 0.6274594292191651\t 5.261737588536357\t 5.750505570513586\n",
            "9  \t [-1.4233904  4.4799566]\t 27.78989409919548\t 0.6274594292191651\t 5.2154444070257195\t 5.487351861060423\n",
            "10 \t [-2.09965118 10.49015128]\t 5.490471798642019\t 0.6274594292191651\t 5.602099895937588\t 6.2071181167131275\n",
            "11 \t [1.71363399 0.        ]\t 21.970383888547808\t 0.6274594292191651\t 6.060027470244977\t 6.396319891884035\n",
            "12 \t [-5.          3.21686254]\t 207.89855222166742\t 0.6274594292191651\t 5.39739383871338\t 5.778918361968852\n",
            "13 \t [10.          8.80075928]\t 35.55765654081173\t 0.6274594292191651\t 5.442546266916496\t 6.357320012223229\n",
            "14 \t [-5.         11.05065976]\t 50.38284471656764\t 0.6274594292191651\t 5.270186930072378\t 5.5991163682332505\n",
            "15 \t [-5. 15.]\t 17.508299515778166\t 0.6274594292191651\t 5.3419967155873955\t 5.3875355539534695\n",
            "16 \t [7.92956453 2.94424967]\t 11.353379013334504\t 0.6274594292191651\t 5.635680069922127\t 5.5209666146596925\n",
            "17 \t [1.82508563 4.23365927]\t 8.085875248443388\t 0.6274594292191651\t 5.4560894419736625\t 5.091489335906051\n",
            "18 \t [4.81829701 0.75100132]\t 11.350961436271852\t 0.6274594292191651\t 4.849247787654271\t 5.458873578413007\n",
            "19 \t [-1.55142524  7.84335816]\t 11.063489699860614\t 0.6274594292191651\t 5.73954821159043\t 5.091428057494533\n",
            "20 \t [10.          1.16570969]\t 5.3186168779895215\t 0.6274594292191651\t 5.778304247482165\t 5.585422259394605\n"
          ]
        }
      ],
      "source": [
        "### ESTIMATED STP CBM GRADIENTS\n",
        "\n",
        "np.random.seed(run_num_11)\n",
        "surrogate_approx_11 = dtStudentProcess(cov_func, optimize=opt, nu = df)\n",
        "\n",
        "approx_11 = GPGO_multi(surrogate_approx_11, Acquisition_grad(util), objfunc, param)\n",
        "approx_11.run(init_evals=n_init, max_iter=iters)\n"
      ]
    },
    {
      "cell_type": "code",
      "execution_count": 24,
      "metadata": {
        "id": "DXwjUVZ4GCii",
        "colab": {
          "base_uri": "https://localhost:8080/"
        },
        "outputId": "9154ca0e-f5c7-40d2-f30b-a2471291562a"
      },
      "outputs": [
        {
          "output_type": "stream",
          "name": "stdout",
          "text": [
            "Evaluation \t Proposed point \t  Current eval. \t  Best eval. \t        Exact CBM: StdDev. x \t Approx CBM: StdDev. x \n",
            "init\t [-2.68755736 11.10074545]\t 1.3827702760021356\t 0.5499315281120278\t    \t    \n",
            "init\t [-1.05027477  8.0060909 ]\t 14.81231853080056\t 0.5499315281120278\t    \t    \n",
            "init\t [-4.78137556 13.78120512]\t 18.401131000214548\t 0.5499315281120278\t    \t    \n",
            "init\t [8.51072281 0.50132141]\t 5.855172364344769\t 0.5499315281120278\t    \t    \n",
            "init\t [9.35424004 2.05813982]\t 0.5499315281120278\t 0.5499315281120278\t    \t    \n",
            "1  \t [10.          5.12551017]\t 6.448374278894724\t 0.5499315281120278\t 4.57955228668599\t 4.26826945545409\n",
            "2  \t [ 8.50155249 13.79797306]\t 148.00655208378976\t 0.5499315281120278\t 4.972668507092401\t 4.446310442304586\n",
            "3  \t [-4.8799499   0.15657603]\t 290.0404981832191\t 0.5499315281120278\t 5.2254769855260434\t 5.154791069908095\n",
            "4  \t [1.40497299 1.94456046]\t 15.88793348974972\t 0.5499315281120278\t 4.341857713904268\t 4.370353422365306\n",
            "5  \t [ 2.40752628 15.        ]\t 148.86780589756196\t 0.5499315281120278\t 4.6267035555855704\t 4.957430860257224\n",
            "6  \t [4.61207806 8.90206738]\t 65.20594498498048\t 0.5499315281120278\t 5.23421295698614\t 4.985493376715562\n",
            "7  \t [-5.          5.55377367]\t 148.06408452828774\t 0.5499315281120278\t 5.217784967375148\t 5.437695128176516\n",
            "8  \t [5.60239293 3.97696293]\t 25.520107050537256\t 0.5499315281120278\t 5.19237162779914\t 5.376635620708969\n",
            "9  \t [10.         9.2173637]\t 40.561996154727304\t 0.5499315281120278\t 5.128677729889341\t 6.139623046901269\n",
            "10 \t [4.80214687 0.        ]\t 12.646192639842441\t 0.5499315281120278\t 5.08294293722967\t 5.517933518826946\n",
            "11 \t [1.88231465 5.68037236]\t 11.978451966486908\t 0.5499315281120278\t 5.439162350964277\t 5.7503140495124985\n",
            "12 \t [ 0.85970725 11.07202912]\t 56.52359663069125\t 0.5499315281120278\t 5.071250035675663\t 5.9669360833688705\n",
            "13 \t [-5.          9.68391129]\t 69.02549700092018\t 0.5499315281120278\t 4.463548834716524\t 4.41457220395619\n",
            "14 \t [-1.6149478 15.       ]\t 46.69852716968725\t 0.5499315281120278\t 4.947325306246304\t 5.203347503205284\n",
            "15 \t [-1.60777103  3.41379027]\t 39.66437066912978\t 0.5499315281120278\t 5.018011125160763\t 5.302908871198004\n",
            "16 \t [7.51927929 6.72731227]\t 42.21254819005949\t 0.5499315281120278\t 4.8340284296230935\t 4.683198818906892\n",
            "17 \t [ 5.04776452 12.38762422]\t 137.0322680268179\t 0.5499315281120278\t 5.181455855671335\t 5.201124556094519\n",
            "18 \t [-0.93870276  0.        ]\t 73.55225811982525\t 0.5499315281120278\t 6.160028537346957\t 6.003794382513246\n",
            "19 \t [ 7.36154008 10.34404484]\t 96.61417262754748\t 0.5499315281120278\t 5.576031698323535\t 5.956604820957668\n",
            "20 \t [1.68964005 8.25919717]\t 29.833684476810603\t 0.5499315281120278\t 3.876536274827409\t 4.479404240868955\n"
          ]
        }
      ],
      "source": [
        "### ESTIMATED STP CBM GRADIENTS\n",
        "\n",
        "np.random.seed(run_num_12)\n",
        "surrogate_approx_12 = dtStudentProcess(cov_func, optimize=opt, nu = df)\n",
        "\n",
        "approx_12 = GPGO_multi(surrogate_approx_12, Acquisition_grad(util), objfunc, param)\n",
        "approx_12.run(init_evals=n_init, max_iter=iters)\n"
      ]
    },
    {
      "cell_type": "code",
      "execution_count": 25,
      "metadata": {
        "id": "CphOPndPGClX",
        "colab": {
          "base_uri": "https://localhost:8080/"
        },
        "outputId": "ed81addf-b7e5-456d-d8fd-cc57dedb85d7"
      },
      "outputs": [
        {
          "output_type": "stream",
          "name": "stdout",
          "text": [
            "Evaluation \t Proposed point \t  Current eval. \t  Best eval. \t        Exact CBM: StdDev. x \t Approx CBM: StdDev. x \n",
            "init\t [6.66553616 3.5631183 ]\t 24.823670200298267\t 18.038943061558626\t    \t    \n",
            "init\t [ 7.36417799 14.48623797]\t 188.7803334745195\t 18.038943061558626\t    \t    \n",
            "init\t [9.58901671 6.80173871]\t 18.038943061558626\t 18.038943061558626\t    \t    \n",
            "init\t [ 4.13563694 11.63289772]\t 104.87319703906111\t 18.038943061558626\t    \t    \n",
            "init\t [ 4.62420017 10.83027344]\t 98.03271225790056\t 18.038943061558626\t    \t    \n",
            "1  \t [-5.         10.31766196]\t 59.91650583997099\t 18.038943061558626\t 5.566732936358889\t 5.9413861559801555\n",
            "2  \t [-3.36042638  1.3238031 ]\t 132.49290788011677\t 18.038943061558626\t 4.878572979081707\t 5.113150603608808\n",
            "3  \t [-1.32517746 15.        ]\t 56.744436908264824\t 18.038943061558626\t 5.708591282040219\t 5.4389817352481415\n",
            "4  \t [-0.05793037  6.91772942]\t 20.26678994480263\t 18.038943061558626\t 5.7849378063229056\t 5.161423922319001\n",
            "\u001b[1m\u001b[92m5\u001b[0m\t \u001b[1m\u001b[92m[2.40890242 0.        ]\u001b[0m\t \u001b[1m\u001b[92m11.363578568785702\u001b[0m\t \u001b[1m\u001b[92m11.363578568785702\u001b[0m\t \u001b[1m\u001b[92m5.4399550420811655\u001b[0m\t \u001b[1m\u001b[92m5.5780803694139\u001b[0m\n",
            "\u001b[1m\u001b[92m6\u001b[0m\t \u001b[1m\u001b[92m[10.  0.]\u001b[0m\t \u001b[1m\u001b[92m10.960889035651505\u001b[0m\t \u001b[1m\u001b[92m10.960889035651505\u001b[0m\t \u001b[1m\u001b[92m5.381273542495909\u001b[0m\t \u001b[1m\u001b[92m5.326978307416758\u001b[0m\n",
            "7  \t [-5.          5.75548504]\t 143.4115186112082\t 10.960889035651505\t 5.877250402569917\t 6.271108731579581\n",
            "8  \t [10.         10.78951197]\t 62.5735851037605\t 10.960889035651505\t 5.796296939604698\t 5.391428511968171\n",
            "9  \t [-0.40934507 10.86710189]\t 36.398122812679176\t 10.960889035651505\t 5.179669465706068\t 5.363716549518382\n",
            "\u001b[1m\u001b[92m10\u001b[0m\t \u001b[1m\u001b[92m[2.55069065 3.91594021]\u001b[0m\t \u001b[1m\u001b[92m3.314290714013441\u001b[0m\t \u001b[1m\u001b[92m3.314290714013441\u001b[0m\t \u001b[1m\u001b[92m5.236942871268469\u001b[0m\t \u001b[1m\u001b[92m5.876175053395652\u001b[0m\n",
            "11 \t [4.33516586 6.74623723]\t 33.690865684326326\t 3.314290714013441\t 5.787649729561021\t 6.539938328093638\n",
            "12 \t [6.11945165 0.        ]\t 20.67984608628541\t 3.314290714013441\t 5.994994635390989\t 5.940478918922575\n",
            "13 \t [-5. 15.]\t 17.508299515778166\t 3.314290714013441\t 6.472789704537612\t 6.591426153828594\n",
            "14 \t [ 2.52264476 15.        ]\t 150.8439838851393\t 3.314290714013441\t 5.505144165969604\t 5.485626602252954\n",
            "\u001b[1m\u001b[92m15\u001b[0m\t \u001b[1m\u001b[92m[10.          3.31022615]\u001b[0m\t \u001b[1m\u001b[92m2.0375552360190063\u001b[0m\t \u001b[1m\u001b[92m2.0375552360190063\u001b[0m\t \u001b[1m\u001b[92m6.038625559358774\u001b[0m\t \u001b[1m\u001b[92m5.525915119064273\u001b[0m\n",
            "16 \t [-0.13336316  3.36516755]\t 27.635838859382318\t 2.0375552360190063\t 5.149935918033798\t 4.87207106538245\n",
            "17 \t [7.18511145 8.50229082]\t 68.78527228647695\t 2.0375552360190063\t 6.634521145429047\t 5.836812798634224\n",
            "18 \t [-0.19421732  0.        ]\t 59.287918894334304\t 2.0375552360190063\t 5.519697208154003\t 5.405054375675272\n",
            "19 \t [-2.48388942  8.33497099]\t 8.234541128574174\t 2.0375552360190063\t 5.807205400783741\t 5.619240677155158\n",
            "20 \t [10.         13.47597477]\t 111.62725023833988\t 2.0375552360190063\t 6.3450450531162375\t 6.023279986543414\n"
          ]
        }
      ],
      "source": [
        "### ESTIMATED STP CBM GRADIENTS\n",
        "\n",
        "np.random.seed(run_num_13)\n",
        "surrogate_approx_13 = dtStudentProcess(cov_func, optimize=opt, nu = df)\n",
        "\n",
        "approx_13 = GPGO_multi(surrogate_approx_13, Acquisition_grad(util), objfunc, param)\n",
        "approx_13.run(init_evals=n_init, max_iter=iters)\n"
      ]
    },
    {
      "cell_type": "code",
      "execution_count": 26,
      "metadata": {
        "id": "ojHTeARNGCoi",
        "colab": {
          "base_uri": "https://localhost:8080/"
        },
        "outputId": "85162405-586d-4de3-92b2-228955a3c776"
      },
      "outputs": [
        {
          "output_type": "stream",
          "name": "stdout",
          "text": [
            "Evaluation \t Proposed point \t  Current eval. \t  Best eval. \t        Exact CBM: StdDev. x \t Approx CBM: StdDev. x \n",
            "init\t [ 2.70915016 11.59747578]\t 81.58264375064097\t 1.4149920024014744\t    \t    \n",
            "init\t [8.05641529 0.12070423]\t 10.148649076616518\t 1.4149920024014744\t    \t    \n",
            "init\t [-0.35396112 14.36405609]\t 79.6056658956529\t 1.4149920024014744\t    \t    \n",
            "init\t [2.69675068 4.77426637]\t 5.855607664288365\t 1.4149920024014744\t    \t    \n",
            "init\t [3.08799906 3.31882414]\t 1.4149920024014744\t 1.4149920024014744\t    \t    \n",
            "1  \t [-5.  0.]\t 308.12909601160663\t 1.4149920024014744\t 5.344260027455295\t 5.466010029221133\n",
            "2  \t [-3.61083748  7.85924032]\t 32.481990179851884\t 1.4149920024014744\t 5.596549685398266\t 5.741433099875428\n",
            "3  \t [10. 15.]\t 145.87219087939556\t 1.4149920024014744\t 5.4513404316380525\t 5.724342576253134\n",
            "4  \t [10.          6.35018654]\t 13.147088917781499\t 1.4149920024014744\t 4.2008192655282555\t 4.292895074568326\n",
            "5  \t [-5.         12.64208214]\t 33.38330604824482\t 1.4149920024014744\t 4.431366506457008\t 4.766095464411786\n",
            "6  \t [0.61049081 0.        ]\t 43.638713647591075\t 1.4149920024014744\t 4.587675858748093\t 4.708891393606247\n",
            "7  \t [ 7.62404989 10.34652028]\t 92.67760548531226\t 1.4149920024014744\t 3.789405440834996\t 3.669615416277014\n",
            "8  \t [-1.60061003  3.9369475 ]\t 34.1318644647901\t 1.4149920024014744\t 5.201723238255731\t 5.253000142032428\n",
            "9  \t [6.60228549 4.00988896]\t 27.449709177282596\t 1.4149920024014744\t 4.807582580741114\t 5.447413611161949\n",
            "10 \t [0.56180943 7.81830484]\t 25.26405914214357\t 1.4149920024014744\t 5.058015795380347\t 5.77455900775146\n",
            "11 \t [ 5.40525937 15.        ]\t 207.3573101012017\t 1.4149920024014744\t 4.8638596220687615\t 5.1915703635766945\n",
            "12 \t [4.59049921 7.58418541]\t 46.87582750786508\t 1.4149920024014744\t 4.549564998179749\t 6.522819844609438\n",
            "13 \t [4.54178276 0.        ]\t 10.43276821229358\t 1.4149920024014744\t 4.941156294287939\t 5.396088462836218\n",
            "14 \t [10.          2.76631232]\t 1.999141180996478\t 1.4149920024014744\t 5.471438329343091\t 6.471404271963993\n",
            "15 \t [-1.56858811 10.78374375]\t 13.899754934935036\t 1.4149920024014744\t 5.11328569809357\t 6.0239967814730555\n",
            "16 \t [-5.          4.43370392]\t 175.37949676612698\t 1.4149920024014744\t 5.218800683341345\t 6.642632566021083\n",
            "17 \t [-3.34689819 15.        ]\t 5.5553162134098155\t 1.4149920024014744\t 5.297913530777578\t 6.168301185958877\n",
            "18 \t [-2.02512534  1.10958634]\t 80.49271806197824\t 1.4149920024014744\t 4.672089443916761\t 4.0158365363884325\n",
            "19 \t [ 2.35530786 14.31750476]\t 132.0262235563697\t 1.4149920024014744\t 5.008992036585885\t 5.489673705947297\n",
            "20 \t [ 4.74907331 10.1515409 ]\t 87.72772155352835\t 1.4149920024014744\t 4.909955164826251\t 4.633078011804602\n"
          ]
        }
      ],
      "source": [
        "### ESTIMATED STP CBM GRADIENTS\n",
        "\n",
        "np.random.seed(run_num_14)\n",
        "surrogate_approx_14 = dtStudentProcess(cov_func, optimize=opt, nu = df)\n",
        "\n",
        "approx_14 = GPGO_multi(surrogate_approx_14, Acquisition_grad(util), objfunc, param)\n",
        "approx_14.run(init_evals=n_init, max_iter=iters)\n"
      ]
    },
    {
      "cell_type": "code",
      "execution_count": 27,
      "metadata": {
        "id": "vCJzn4vWGCs3",
        "colab": {
          "base_uri": "https://localhost:8080/"
        },
        "outputId": "902eab61-081a-4a24-d6be-f2017a513d63"
      },
      "outputs": [
        {
          "output_type": "stream",
          "name": "stdout",
          "text": [
            "Evaluation \t Proposed point \t  Current eval. \t  Best eval. \t        Exact CBM: StdDev. x \t Approx CBM: StdDev. x \n",
            "init\t [7.73226546 2.68343887]\t 12.768724532005583\t 12.768724532005583\t    \t    \n",
            "init\t [-4.18455179  5.42307669]\t 95.39334176626551\t 12.768724532005583\t    \t    \n",
            "init\t [-0.86898607  7.95000337]\t 16.419487782111716\t 12.768724532005583\t    \t    \n",
            "init\t [-0.41121626  4.56711539]\t 23.250362743740954\t 12.768724532005583\t    \t    \n",
            "init\t [-3.32388086  3.74848521]\t 80.99796277938532\t 12.768724532005583\t    \t    \n",
            "1  \t [ 6.5655417  11.87699252]\t 134.95011349993544\t 12.768724532005583\t 5.155210804211745\t 5.226282353167729\n",
            "2  \t [-4.77493765 13.49591113]\t 19.896906503438096\t 12.768724532005583\t 5.684681292683775\t 6.141043192207497\n",
            "3  \t [ 0.94011255 15.        ]\t 123.44952529905613\t 12.768724532005583\t 6.137457947608504\t 6.19973484149697\n",
            "\u001b[1m\u001b[92m4\u001b[0m\t \u001b[1m\u001b[92m[2.80352573 0.        ]\u001b[0m\t \u001b[1m\u001b[92m7.461287931728957\u001b[0m\t \u001b[1m\u001b[92m7.461287931728957\u001b[0m\t \u001b[1m\u001b[92m5.2023969277964595\u001b[0m\t \u001b[1m\u001b[92m5.33319891434613\u001b[0m\n",
            "5  \t [10.          7.37065371]\t 21.019918630553953\t 7.461287931728957\t 6.2848557418076805\t 5.9932999089157555\n",
            "6  \t [4.43993581 6.68461808]\t 34.501663141087164\t 7.461287931728957\t 5.372822827316738\t 5.754084986817326\n",
            "7  \t [10. 15.]\t 145.87219087939556\t 7.461287931728957\t 4.804782242142668\t 5.152999013254022\n",
            "8  \t [ 2.17451194 10.57081568]\t 59.61724718009799\t 7.461287931728957\t 5.621370438380797\t 5.942743262735305\n",
            "9  \t [-1.13497955  0.        ]\t 77.61890200893144\t 7.461287931728957\t 5.0671069053867095\t 5.971773649821969\n",
            "10 \t [-5.          9.62106294]\t 69.97260568393014\t 7.461287931728957\t 5.573299769516645\t 6.120814790495539\n",
            "11 \t [10.  0.]\t 10.960889035651505\t 7.461287931728957\t 5.025984490324292\t 5.791353585907213\n",
            "12 \t [-5.  0.]\t 308.12909601160663\t 7.461287931728957\t 5.362237065137334\t 4.971097806007606\n",
            "\u001b[1m\u001b[92m13\u001b[0m\t \u001b[1m\u001b[92m[3.92415074 3.01959571]\u001b[0m\t \u001b[1m\u001b[92m4.81861068457783\u001b[0m\t \u001b[1m\u001b[92m4.81861068457783\u001b[0m\t \u001b[1m\u001b[92m5.093086187472967\u001b[0m\t \u001b[1m\u001b[92m5.345116764270155\u001b[0m\n",
            "14 \t [-1.59157969 11.7107236 ]\t 17.92526018996376\t 4.81861068457783\t 4.899558046642095\t 4.748212490316035\n",
            "15 \t [6.01437073 0.        ]\t 20.468979375437954\t 4.81861068457783\t 4.605350171520375\t 5.3509054860763055\n",
            "16 \t [10.        10.6988361]\t 61.1697018782478\t 4.81861068457783\t 5.5782183470217\t 5.68806348421755\n",
            "17 \t [ 4.73297976 15.        ]\t 196.21719797220229\t 4.81861068457783\t 4.691373206205355\t 5.776870045699593\n",
            "18 \t [5.77137872 4.55501955]\t 30.187919267568265\t 4.81861068457783\t 4.737479912523353\t 4.773755536193124\n",
            "19 \t [7.17712369 9.84212429]\t 90.15383728026255\t 4.81861068457783\t 4.935000576738438\t 4.935000576738438\n",
            "20 \t [-4.13233645  9.64279312]\t 31.157049375995143\t 4.81861068457783\t 4.63378734331318\t 4.644024628551674\n"
          ]
        }
      ],
      "source": [
        "### ESTIMATED STP CBM GRADIENTS\n",
        "\n",
        "np.random.seed(run_num_15)\n",
        "surrogate_approx_15 = dtStudentProcess(cov_func, optimize=opt, nu = df)\n",
        "\n",
        "approx_15 = GPGO_multi(surrogate_approx_15, Acquisition_grad(util), objfunc, param)\n",
        "approx_15.run(init_evals=n_init, max_iter=iters)\n"
      ]
    },
    {
      "cell_type": "code",
      "execution_count": 28,
      "metadata": {
        "id": "bGGkhp-kGCw6",
        "colab": {
          "base_uri": "https://localhost:8080/"
        },
        "outputId": "777da9a1-fb0b-4a52-8c15-84ea3cdc217b"
      },
      "outputs": [
        {
          "output_type": "stream",
          "name": "stdout",
          "text": [
            "Evaluation \t Proposed point \t  Current eval. \t  Best eval. \t        Exact CBM: StdDev. x \t Approx CBM: StdDev. x \n",
            "init\t [-1.65063381  7.84745012]\t 10.514702126319445\t 2.715864006988424\t    \t    \n",
            "init\t [3.26052185 0.68402925]\t 2.715864006988424\t 2.715864006988424\t    \t    \n",
            "init\t [0.41093253 3.34621413]\t 22.889515127492515\t 2.715864006988424\t    \t    \n",
            "init\t [5.33089243 2.45597138]\t 17.178157611778595\t 2.715864006988424\t    \t    \n",
            "init\t [-3.945127  14.1151629]\t 3.3649224341694195\t 2.715864006988424\t    \t    \n",
            "1  \t [ 5.63879248 14.58068289]\t 198.51319639462758\t 2.715864006988424\t 5.617895548228122\t 5.55495043443419\n",
            "2  \t [-4.93881036  0.        ]\t 301.5436542870195\t 2.715864006988424\t 5.975158833947352\t 5.509467186399391\n",
            "3  \t [10.          5.77335478]\t 9.61824668798663\t 2.715864006988424\t 5.147699142248793\t 5.521160909730466\n",
            "4  \t [4.50737323 8.15773465]\t 53.02736353097579\t 2.715864006988424\t 5.241741543092047\t 5.495930762278785\n",
            "5  \t [10.  0.]\t 10.960889035651505\t 2.715864006988424\t 5.1456196309971665\t 5.299962864406829\n",
            "6  \t [10.        10.9464945]\t 65.04293495277894\t 2.715864006988424\t 5.874589987580503\t 6.038724789910466\n",
            "7  \t [ 0.53754998 12.3922012 ]\t 70.23788966924465\t 2.715864006988424\t 4.364795785167252\t 4.634209841019471\n",
            "8  \t [-4.10347211  4.43853627]\t 109.93167963429983\t 2.715864006988424\t 5.019129345621327\t 5.757978561972444\n",
            "9  \t [-5.         10.28387662]\t 60.381837402054856\t 2.715864006988424\t 4.591089358816869\t 4.453672724001277\n",
            "10 \t [10. 15.]\t 145.87219087939556\t 2.715864006988424\t 5.025047763523938\t 5.966239171400472\n",
            "11 \t [-0.45554088  0.        ]\t 64.21004556745555\t 2.715864006988424\t 4.05419810935588\t 5.700491326070372\n",
            "12 \t [6.82926216 5.44224465]\t 36.57837114709704\t 2.715864006988424\t 4.445486420232154\t 4.535884528030375\n",
            "13 \t [1.37737842 6.60685297]\t 18.36823939605536\t 2.715864006988424\t 4.475734494521238\t 5.110707603748838\n",
            "14 \t [ 3.88734881 11.49677247]\t 97.64883470521495\t 2.715864006988424\t 4.5243655324683045\t 4.959973028273354\n",
            "\u001b[1m\u001b[92m15\u001b[0m\t \u001b[1m\u001b[92m[9.18660309 2.81559992]\u001b[0m\t \u001b[1m\u001b[92m0.9542983993420506\u001b[0m\t \u001b[1m\u001b[92m0.9542983993420506\u001b[0m\t \u001b[1m\u001b[92m4.318363004475877\u001b[0m\t \u001b[1m\u001b[92m5.440640235245711\u001b[0m\n",
            "16 \t [6.98765281 0.        ]\t 18.72425730366601\t 0.9542983993420506\t 4.372001153227423\t 4.67981978945112\n",
            "17 \t [7.18746    9.84355768]\t 90.05381755714026\t 0.9542983993420506\t 5.495530215441589\t 5.286827942348606\n",
            "18 \t [-1.55432377 15.        ]\t 48.77341590874858\t 0.9542983993420506\t 5.130580487793743\t 6.851592789003125\n",
            "19 \t [-2.099742   10.50148471]\t 5.502741332634196\t 0.9542983993420506\t 4.419529643057253\t 4.57240728126\n",
            "20 \t [3.49084096 4.64311122]\t 7.866712334071386\t 0.9542983993420506\t 4.836745757027683\t 5.566776360916592\n"
          ]
        }
      ],
      "source": [
        "### ESTIMATED STP CBM GRADIENTS\n",
        "\n",
        "np.random.seed(run_num_16)\n",
        "surrogate_approx_16 = dtStudentProcess(cov_func, optimize=opt, nu = df)\n",
        "\n",
        "approx_16 = GPGO_multi(surrogate_approx_16, Acquisition_grad(util), objfunc, param)\n",
        "approx_16.run(init_evals=n_init, max_iter=iters)\n"
      ]
    },
    {
      "cell_type": "code",
      "execution_count": 29,
      "metadata": {
        "id": "Yrs2mp7hGC1Z",
        "colab": {
          "base_uri": "https://localhost:8080/"
        },
        "outputId": "4cc4d710-5ce7-4646-bc89-8240a93c35e9"
      },
      "outputs": [
        {
          "output_type": "stream",
          "name": "stdout",
          "text": [
            "Evaluation \t Proposed point \t  Current eval. \t  Best eval. \t        Exact CBM: StdDev. x \t Approx CBM: StdDev. x \n",
            "init\t [-0.58002496  7.95880133]\t 19.016141117164256\t 19.016141117164256\t    \t    \n",
            "init\t [-2.1271882   1.01850537]\t 85.05949339404415\t 19.016141117164256\t    \t    \n",
            "init\t [6.8047819  9.84500283]\t 93.89792695202516\t 19.016141117164256\t    \t    \n",
            "init\t [4.56281344 8.63404341]\t 60.50217141122736\t 19.016141117164256\t    \t    \n",
            "init\t [-4.41405626  5.36720407]\t 110.70834086593878\t 19.016141117164256\t    \t    \n",
            "\u001b[1m\u001b[92m1\u001b[0m\t \u001b[1m\u001b[92m[-5. 15.]\u001b[0m\t \u001b[1m\u001b[92m17.508299515778166\u001b[0m\t \u001b[1m\u001b[92m17.508299515778166\u001b[0m\t \u001b[1m\u001b[92m6.338118227567892\u001b[0m\t \u001b[1m\u001b[92m7.345494624271939\u001b[0m\n",
            "\u001b[1m\u001b[92m2\u001b[0m\t \u001b[1m\u001b[92m[9.21884529 1.9502252 ]\u001b[0m\t \u001b[1m\u001b[92m0.7278974407260215\u001b[0m\t \u001b[1m\u001b[92m0.7278974407260215\u001b[0m\t \u001b[1m\u001b[92m5.132020510274362\u001b[0m\t \u001b[1m\u001b[92m5.255110294844715\u001b[0m\n",
            "3  \t [3.74599703 2.35814314]\t 2.3563457989420957\t 0.7278974407260215\t 5.325888282010876\t 4.739082276876932\n",
            "4  \t [10. 15.]\t 145.87219087939556\t 0.7278974407260215\t 5.975579397076501\t 5.938738476081098\n",
            "5  \t [ 1.85124958 13.87047323]\t 114.96410766748436\t 0.7278974407260215\t 5.135312050091383\t 5.68837920702764\n",
            "6  \t [10.          5.89428308]\t 10.302909442906447\t 0.7278974407260215\t 5.102913604942446\t 5.902050641787657\n",
            "7  \t [-5.        10.3736221]\t 59.15077877340545\t 0.7278974407260215\t 5.089135963995253\t 5.512042301139006\n",
            "8  \t [6.40579453 4.49668272]\t 31.027810393493784\t 0.7278974407260215\t 5.579363279345688\t 5.926368184711565\n",
            "9  \t [6.50408329 0.        ]\t 20.608306759582373\t 0.7278974407260215\t 5.917988592010714\t 5.7763886799135795\n",
            "10 \t [0.95826855 4.29507905]\t 15.60966723883768\t 0.7278974407260215\t 5.249686646924872\t 5.1267542296437565\n",
            "11 \t [-1.99943058 12.81749953]\t 15.7363905402228\t 0.7278974407260215\t 5.5688778826559275\t 5.5567223367053415\n",
            "12 \t [1.90514852 0.        ]\t 18.660239446892096\t 0.7278974407260215\t 5.864651588177723\t 5.365452157741186\n",
            "13 \t [ 5.81110671 15.        ]\t 211.3794567940905\t 0.7278974407260215\t 5.494717183739545\t 5.311508472161642\n",
            "14 \t [10.         11.13105282]\t 68.00908879729118\t 0.7278974407260215\t 5.376608180091441\t 5.39051475812982\n",
            "15 \t [ 1.38110741 10.28487707]\t 50.70523895750001\t 0.7278974407260215\t 5.554700109000237\t 5.7280578962195525\n",
            "16 \t [10.  0.]\t 10.960889035651505\t 0.7278974407260215\t 5.182586244319235\t 4.816808726182842\n",
            "17 \t [-5.          2.17131247]\t 238.20543627586133\t 0.7278974407260215\t 4.620462214843861\t 4.603586266784407\n",
            "18 \t [3.52714064 5.61916974]\t 14.248019710471008\t 0.7278974407260215\t 4.933912328600893\t 4.698090713765341\n",
            "19 \t [ 4.34813963 11.86224786]\t 113.49742209782302\t 0.7278974407260215\t 5.1105591470270495\t 5.0281694169254685\n",
            "20 \t [7.59747788 7.03496214]\t 44.58471010617237\t 0.7278974407260215\t 5.42432385490827\t 5.475936224222146\n"
          ]
        }
      ],
      "source": [
        "### ESTIMATED STP CBM GRADIENTS\n",
        "\n",
        "np.random.seed(run_num_17)\n",
        "surrogate_approx_17 = dtStudentProcess(cov_func, optimize=opt, nu = df)\n",
        "\n",
        "approx_17 = GPGO_multi(surrogate_approx_17, Acquisition_grad(util), objfunc, param)\n",
        "approx_17.run(init_evals=n_init, max_iter=iters)\n"
      ]
    },
    {
      "cell_type": "code",
      "execution_count": 30,
      "metadata": {
        "id": "f0HIEP3PIUEa",
        "colab": {
          "base_uri": "https://localhost:8080/"
        },
        "outputId": "fe1c20a6-27cb-43eb-bb8f-37289be5b709"
      },
      "outputs": [
        {
          "output_type": "stream",
          "name": "stdout",
          "text": [
            "Evaluation \t Proposed point \t  Current eval. \t  Best eval. \t        Exact CBM: StdDev. x \t Approx CBM: StdDev. x \n",
            "init\t [4.75561363 7.58180061]\t 49.215059064668324\t 8.150075223157177\t    \t    \n",
            "init\t [8.17902206 2.72760338]\t 8.150075223157177\t 8.150075223157177\t    \t    \n",
            "init\t [ 7.78349603 11.25204429]\t 106.98107856533271\t 8.150075223157177\t    \t    \n",
            "init\t [ 4.99152501 14.81843172]\t 196.08601750690153\t 8.150075223157177\t    \t    \n",
            "init\t [-1.14547366  0.42458888]\t 71.23649635555944\t 8.150075223157177\t    \t    \n",
            "\u001b[1m\u001b[92m1\u001b[0m\t \u001b[1m\u001b[92m[-2.12483893 10.71385111]\u001b[0m\t \u001b[1m\u001b[92m5.508754856016457\u001b[0m\t \u001b[1m\u001b[92m5.508754856016457\u001b[0m\t \u001b[1m\u001b[92m5.710337807030586\u001b[0m\t \u001b[1m\u001b[92m6.37940636957513\u001b[0m\n",
            "2  \t [-5.          4.89130832]\t 163.91664037564146\t 5.508754856016457\t 5.6014265888181525\t 6.381530953225514\n",
            "3  \t [-5. 15.]\t 17.508299515778166\t 5.508754856016457\t 5.375289499110995\t 5.49146395351071\n",
            "4  \t [4.16851746 0.        ]\t 7.6246772695839535\t 5.508754856016457\t 5.870580633677289\t 5.518174198662103\n",
            "5  \t [10. 15.]\t 145.87219087939556\t 5.508754856016457\t 4.648442033763442\t 4.571551403379073\n",
            "6  \t [0.22073101 5.52584953]\t 19.385820148547417\t 5.508754856016457\t 5.035647603752675\t 5.498360252914475\n",
            "7  \t [-0.23666922 15.        ]\t 93.57151127186978\t 5.508754856016457\t 4.67928103105244\t 5.588689690737475\n",
            "8  \t [ 1.87773415 10.8858765 ]\t 62.138787818522275\t 5.508754856016457\t 4.896562046773236\t 5.210035873781175\n",
            "9  \t [10.          6.76720515]\t 16.11270775700093\t 5.508754856016457\t 5.8017102576462225\t 6.391187791232899\n",
            "10 \t [3.81999455 3.55501376]\t 5.5851803291156905\t 5.508754856016457\t 5.851513552752071\t 5.645737007098677\n",
            "11 \t [10.  0.]\t 10.960889035651505\t 5.508754856016457\t 5.514952630273616\t 5.695925285558272\n",
            "12 \t [-5.  0.]\t 308.12909601160663\t 5.508754856016457\t 5.014667054248976\t 5.420126149781173\n",
            "13 \t [-5.          8.91825231]\t 81.10189628586525\t 5.508754856016457\t 4.450000762927595\t 4.754596440426909\n",
            "14 \t [6.97702343 0.        ]\t 18.784588295012668\t 5.508754856016457\t 4.09655781000286\t 4.382802154073888\n",
            "15 \t [-2.36143181  7.19913602]\t 13.93045138157847\t 5.508754856016457\t 5.0932095243564035\t 4.690937900779084\n",
            "16 \t [1.3679152  2.49023125]\t 14.413464470275747\t 5.508754856016457\t 4.448261090002098\t 5.323628857229989\n",
            "17 \t [7.13258289 5.2858261 ]\t 32.870561562405385\t 5.508754856016457\t 5.634068516569838\t 5.533295498957819\n",
            "18 \t [-5.         12.09125885]\t 38.69400196203249\t 5.508754856016457\t 4.3125750864008\t 4.31786250047033\n",
            "19 \t [-1.96968862  3.50216548]\t 43.89510546169506\t 5.508754856016457\t 4.156846696183027\t 3.96892483408047\n",
            "20 \t [1.33565951 6.82749931]\t 19.650724041840288\t 5.508754856016457\t 4.829979634292625\t 4.605723074945635\n"
          ]
        }
      ],
      "source": [
        "### ESTIMATED STP CBM GRADIENTS\n",
        "\n",
        "np.random.seed(run_num_18)\n",
        "surrogate_approx_18 = dtStudentProcess(cov_func, optimize=opt, nu = df)\n",
        "\n",
        "approx_18 = GPGO_multi(surrogate_approx_18, Acquisition_grad(util), objfunc, param)\n",
        "approx_18.run(init_evals=n_init, max_iter=iters)\n"
      ]
    },
    {
      "cell_type": "code",
      "execution_count": 31,
      "metadata": {
        "id": "S3mxRQDLIUPC",
        "colab": {
          "base_uri": "https://localhost:8080/"
        },
        "outputId": "e4e66091-1977-4efd-ba51-3b0638e0b1f5"
      },
      "outputs": [
        {
          "output_type": "stream",
          "name": "stdout",
          "text": [
            "Evaluation \t Proposed point \t  Current eval. \t  Best eval. \t        Exact CBM: StdDev. x \t Approx CBM: StdDev. x \n",
            "init\t [-3.53699597 11.41874575]\t 4.475608269502271\t 4.475608269502271\t    \t    \n",
            "init\t [-1.2959304   2.07197531]\t 51.13947793770689\t 4.475608269502271\t    \t    \n",
            "init\t [-0.02830155  1.24499348]\t 42.63973921760034\t 4.475608269502271\t    \t    \n",
            "init\t [ 5.07965622 12.09890697]\t 131.17235664506808\t 4.475608269502271\t    \t    \n",
            "init\t [9.74112872 9.53491102]\t 46.84458913925112\t 4.475608269502271\t    \t    \n",
            "1  \t [10.  0.]\t 10.960889035651505\t 4.475608269502271\t 5.312941014001845\t 5.633500459449604\n",
            "2  \t [6.23642763 4.30889573]\t 29.89637063468267\t 4.475608269502271\t 6.078022320433314\t 6.341730212886069\n",
            "3  \t [1.2359647  7.48630051]\t 23.757252607738565\t 4.475608269502271\t 5.663393392254727\t 5.922450951220167\n",
            "4  \t [-5.          6.34642841]\t 130.24955145602638\t 4.475608269502271\t 6.412267759162195\t 6.3426024422465765\n",
            "5  \t [ 0.07412016 15.        ]\t 102.70010913520753\t 4.475608269502271\t 5.449517819223636\t 5.294184268307643\n",
            "6  \t [10. 15.]\t 145.87219087939556\t 4.475608269502271\t 5.7754679710827785\t 5.071191471614836\n",
            "7  \t [4.6581452 0.       ]\t 11.409882982448162\t 4.475608269502271\t 5.6585213029804\t 6.275161205124514\n",
            "8  \t [-5. 15.]\t 17.508299515778166\t 4.475608269502271\t 5.188685950713597\t 5.550271905200513\n",
            "9  \t [-5.  0.]\t 308.12909601160663\t 4.475608269502271\t 5.679466669734677\t 6.13051741642984\n",
            "10 \t [10.          5.18077412]\t 6.686029774265376\t 4.475608269502271\t 5.137890188095251\t 4.911859720291696\n",
            "11 \t [5.30437988 7.94671359]\t 60.97602853918787\t 4.475608269502271\t 4.546051189931823\t 4.722684465022394\n",
            "12 \t [-0.14600106 10.88970203]\t 41.165072144036344\t 4.475608269502271\t 4.765243100460953\t 4.760323699293216\n",
            "\u001b[1m\u001b[92m13\u001b[0m\t \u001b[1m\u001b[92m[2.55351669 3.99133669]\u001b[0m\t \u001b[1m\u001b[92m3.482425661249647\u001b[0m\t \u001b[1m\u001b[92m3.482425661249647\u001b[0m\t \u001b[1m\u001b[92m5.4821496624434\u001b[0m\t \u001b[1m\u001b[92m5.12873526731345\u001b[0m\n",
            "14 \t [-1.30605614  5.56047205]\t 20.012084363066666\t 3.482425661249647\t 5.296826431444765\t 5.228564517162923\n",
            "15 \t [7.40723667 1.22372068]\t 14.154089781465025\t 3.482425661249647\t 4.748990727240926\t 4.850040172904202\n",
            "16 \t [-2.46298672  8.76834032]\t 6.270624823689131\t 3.482425661249647\t 4.4982614415556474\t 5.048891797610043\n",
            "17 \t [ 3.45122708 15.        ]\t 168.66285686340814\t 3.482425661249647\t 5.242504418787106\t 5.462861716959429\n",
            "\u001b[1m\u001b[92m18\u001b[0m\t \u001b[1m\u001b[92m[10.          2.70191882]\u001b[0m\t \u001b[1m\u001b[92m2.0337644138134294\u001b[0m\t \u001b[1m\u001b[92m2.0337644138134294\u001b[0m\t \u001b[1m\u001b[92m4.7651354427503465\u001b[0m\t \u001b[1m\u001b[92m5.4652898181741385\u001b[0m\n",
            "19 \t [ 2.48541621 10.13771769]\t 55.61437134620995\t 2.0337644138134294\t 3.9792652598375318\t 4.373914612070599\n",
            "20 \t [8.21872334 6.80702225]\t 33.21538748877812\t 2.0337644138134294\t 5.147203881804937\t 4.259255321094186\n"
          ]
        }
      ],
      "source": [
        "### ESTIMATED STP CBM GRADIENTS\n",
        "\n",
        "np.random.seed(run_num_19)\n",
        "surrogate_approx_19 = dtStudentProcess(cov_func, optimize=opt, nu = df)\n",
        "\n",
        "approx_19 = GPGO_multi(surrogate_approx_19, Acquisition_grad(util), objfunc, param)\n",
        "approx_19.run(init_evals=n_init, max_iter=iters)\n"
      ]
    },
    {
      "cell_type": "code",
      "execution_count": 32,
      "metadata": {
        "id": "Aawd59dRIUYn",
        "colab": {
          "base_uri": "https://localhost:8080/"
        },
        "outputId": "f765969f-bc8a-416a-aed2-0c1675a876d4"
      },
      "outputs": [
        {
          "output_type": "stream",
          "name": "stdout",
          "text": [
            "Evaluation \t Proposed point \t  Current eval. \t  Best eval. \t        Exact CBM: StdDev. x \t Approx CBM: StdDev. x \n",
            "init\t [ 3.82196202 13.46570592]\t 138.5264349938869\t 14.042667401507376\t    \t    \n",
            "init\t [ 8.37296094 12.23756216]\t 115.63178540512689\t 14.042667401507376\t    \t    \n",
            "init\t [-4.46165622 10.37636373]\t 35.66708529307584\t 14.042667401507376\t    \t    \n",
            "init\t [0.68021413 7.77766418]\t 25.307769914281764\t 14.042667401507376\t    \t    \n",
            "init\t [4.86927198 2.90775327]\t 14.042667401507376\t 14.042667401507376\t    \t    \n",
            "1  \t [-5.  0.]\t 308.12909601160663\t 14.042667401507376\t 5.524120124361175\t 5.6990742893349475\n",
            "\u001b[1m\u001b[92m2\u001b[0m\t \u001b[1m\u001b[92m[9.63618477 0.        ]\u001b[0m\t \u001b[1m\u001b[92m7.682473717352852\u001b[0m\t \u001b[1m\u001b[92m7.682473717352852\u001b[0m\t \u001b[1m\u001b[92m4.909228745412954\u001b[0m\t \u001b[1m\u001b[92m5.274382485486591\u001b[0m\n",
            "3  \t [9.76590761 5.78142624]\t 9.973058028578054\t 7.682473717352852\t 4.907747055381924\t 4.727452853711354\n",
            "4  \t [-5. 15.]\t 17.508299515778166\t 7.682473717352852\t 5.483095986667051\t 6.787871397803503\n",
            "5  \t [0.7109862 0.       ]\t 41.61742393663327\t 7.682473717352852\t 5.383491788186178\t 5.141862825861675\n",
            "6  \t [-3.88788655  5.34261778]\t 80.35228831316417\t 7.682473717352852\t 4.995714583935395\t 5.7547315258298655\n",
            "7  \t [5.52695205 7.84862092]\t 61.85892598279202\t 7.682473717352852\t 5.798800307168478\t 6.239537246529373\n",
            "8  \t [-0.69546517 15.        ]\t 78.69115500870106\t 7.682473717352852\t 5.7558271672943135\t 6.013640899399891\n",
            "9  \t [0.48799845 3.95117502]\t 20.178876717835745\t 7.682473717352852\t 5.119728816321475\t 5.24209506914443\n",
            "10 \t [-0.68529508 11.17090728]\t 33.59110808316701\t 7.682473717352852\t 5.514887989783388\t 5.46031734020765\n",
            "11 \t [6.31596995 0.        ]\t 20.80955549248978\t 7.682473717352852\t 5.557454954491366\t 5.267995058280214\n",
            "12 \t [10.          8.94790152]\t 37.28551067014303\t 7.682473717352852\t 5.688603828181632\t 5.367009193139129\n",
            "13 \t [8.26113904 2.94409542]\t 7.825034608487132\t 7.682473717352852\t 5.576028617716664\t 5.742821676967863\n",
            "14 \t [-2.13318403  2.16013322]\t 66.0760509058867\t 7.682473717352852\t 5.736523440436251\t 5.660241606890318\n",
            "15 \t [ 2.86134146 10.07942722]\t 58.16410592919778\t 7.682473717352852\t 4.58422249732508\t 5.525757387258418\n",
            "16 \t [10. 15.]\t 145.87219087939556\t 7.682473717352852\t 5.611350019028473\t 5.889847578271875\n",
            "17 \t [3.16141595 5.49523053]\t 10.86913462793004\t 7.682473717352852\t 4.443729039178913\t 4.973566636298307\n",
            "18 \t [ 6.6541964 15.       ]\t 211.33702048591326\t 7.682473717352852\t 5.066176475605225\t 5.099384238963457\n",
            "19 \t [-2.25301222  8.22315739]\t 8.019553395430226\t 7.682473717352852\t 5.152647866316861\t 5.389543730142026\n",
            "20 \t [6.83454643 5.12414782]\t 33.91886903649303\t 7.682473717352852\t 3.8594420388714843\t 4.761228147486914\n"
          ]
        }
      ],
      "source": [
        "### ESTIMATED STP CBM GRADIENTS\n",
        "\n",
        "np.random.seed(run_num_20)\n",
        "surrogate_approx_20 = dtStudentProcess(cov_func, optimize=opt, nu = df)\n",
        "\n",
        "approx_20 = GPGO_multi(surrogate_approx_20, Acquisition_grad(util), objfunc, param)\n",
        "approx_20.run(init_evals=n_init, max_iter=iters)\n"
      ]
    },
    {
      "cell_type": "code",
      "execution_count": 33,
      "metadata": {
        "id": "xkgzPRbBTHaq",
        "colab": {
          "base_uri": "https://localhost:8080/"
        },
        "outputId": "52f5136e-bf16-4216-d2d7-78df39b6e7c5"
      },
      "outputs": [
        {
          "output_type": "execute_result",
          "data": {
            "text/plain": [
              "1663328608.3177173"
            ]
          },
          "metadata": {},
          "execution_count": 33
        }
      ],
      "source": [
        "end_approx = time.time()\n",
        "end_approx\n",
        "\n",
        "time_approx = end_approx - start_approx\n",
        "time_approx\n",
        "\n",
        "start_exact = time.time()\n",
        "start_exact"
      ]
    },
    {
      "cell_type": "code",
      "execution_count": 34,
      "metadata": {
        "id": "7CG3Ndvb16Rb",
        "colab": {
          "base_uri": "https://localhost:8080/"
        },
        "outputId": "410a147c-c22f-498a-804f-9ccebb857e7e"
      },
      "outputs": [
        {
          "output_type": "stream",
          "name": "stdout",
          "text": [
            "Evaluation \t Proposed point \t  Current eval. \t  Best eval. \t        Exact CBM: StdDev. x \t Approx CBM: StdDev. x \n",
            "init\t [ 1.25533007 10.8048674 ]\t 56.52874004692151\t 27.68166689936483\t    \t    \n",
            "init\t [-4.99828438  4.53498859]\t 172.66531086516164\t 27.68166689936483\t    \t    \n",
            "init\t [-2.79866164  1.38507892]\t 102.58290348816024\t 27.68166689936483\t    \t    \n",
            "init\t [-2.20609683  5.18341091]\t 28.868064601155666\t 27.68166689936483\t    \t    \n",
            "init\t [0.95151211 8.08225101]\t 27.68166689936483\t 27.68166689936483\t    \t    \n",
            "\u001b[1m\u001b[92m1\u001b[0m\t \u001b[1m\u001b[92m[8.41909995 1.27566317]\u001b[0m\t \u001b[1m\u001b[92m5.089934878453152\u001b[0m\t \u001b[1m\u001b[92m5.089934878453152\u001b[0m\t \u001b[1m\u001b[92m5.487345388111518\u001b[0m\t \u001b[1m\u001b[92m5.638236201098191\u001b[0m\n",
            "2  \t [10. 15.]\t 145.87219087939556\t 5.089934878453152\t 5.928821279372821\t 5.856547305810691\n",
            "3  \t [9.50914495 8.52150693]\t 36.125759150808236\t 5.089934878453152\t 5.595824932172363\t 5.786812721766366\n",
            "4  \t [-4.67712792 14.21955317]\t 13.865244792739254\t 5.089934878453152\t 6.3366110131166575\t 6.717207526978829\n",
            "5  \t [3.28229494 0.        ]\t 5.192262582834574\t 5.089934878453152\t 4.813914870820577\t 4.710320312337511\n",
            "6  \t [ 4.52834852 15.        ]\t 192.06324890461113\t 5.089934878453152\t 4.873165834607683\t 5.064020538647004\n",
            "7  \t [5.16985838 5.72151724]\t 34.46254861481039\t 5.089934878453152\t 5.595198233385726\t 5.966264868188567\n",
            "8  \t [-5.       9.65891]\t 69.40131384939338\t 5.089934878453152\t 5.037655192873343\t 5.836759904782119\n",
            "9  \t [-0.17450551 14.90294745]\t 93.78273847332774\t 5.089934878453152\t 5.156744173485052\t 5.454048304138805\n",
            "\u001b[1m\u001b[92m10\u001b[0m\t \u001b[1m\u001b[92m[10.          4.48964295]\u001b[0m\t \u001b[1m\u001b[92m4.153376946425711\u001b[0m\t \u001b[1m\u001b[92m4.153376946425711\u001b[0m\t \u001b[1m\u001b[92m5.227468056185027\u001b[0m\t \u001b[1m\u001b[92m4.862920173476639\u001b[0m\n",
            "11 \t [ 5.6749602  10.31381047]\t 102.25132103173652\t 4.153376946425711\t 4.409881974522932\t 4.324940134967496\n",
            "12 \t [1.83338783 3.13780561]\t 7.6507038504762015\t 4.153376946425711\t 4.434157280310371\t 4.128175385812596\n",
            "13 \t [5.88155991 0.46863249]\t 19.24690148328631\t 4.153376946425711\t 4.545863093577872\t 5.378200024199542\n",
            "14 \t [-1.96635535 11.23780954]\t 8.888180120297644\t 4.153376946425711\t 5.294669631090673\t 5.559692718613701\n",
            "15 \t [ 9.75188422 11.53531091]\t 77.82987970805242\t 4.153376946425711\t 5.393338098202565\t 5.059983029351438\n",
            "16 \t [7.40590909 3.77074139]\t 20.271518793649506\t 4.153376946425711\t 5.360721360054161\t 5.237820782685865\n",
            "17 \t [0.3821894 0.       ]\t 48.18387773621825\t 4.153376946425711\t 4.814175946275525\t 4.47309314311824\n",
            "18 \t [ 9.90190695 12.51729771]\t 93.8304556730438\t 4.153376946425711\t 5.106639690817366\t 5.167596611721561\n",
            "19 \t [-2.17291608  8.69940347]\t 6.435210697594297\t 4.153376946425711\t 5.486866316221144\t 5.954340009150342\n",
            "20 \t [4.62487556 2.83606622]\t 11.215954823474753\t 4.153376946425711\t 5.384350842272406\t 6.1006557544534\n"
          ]
        }
      ],
      "source": [
        "### EXACT STP CBM GRADIENTS\n",
        "\n",
        "np.random.seed(run_num_1)\n",
        "surrogate_exact_1 = dtStudentProcess(cov_func, optimize=opt, nu = df)\n",
        "\n",
        "exact_1 = dGPGO(surrogate_exact_1, Acquisition_grad(util), objfunc, param)\n",
        "exact_1.run(init_evals=n_init, max_iter=iters)\n"
      ]
    },
    {
      "cell_type": "code",
      "execution_count": 35,
      "metadata": {
        "id": "-ilCPSAu9SAg",
        "colab": {
          "base_uri": "https://localhost:8080/"
        },
        "outputId": "55165e49-1ce2-4801-e067-66e6d53453ea"
      },
      "outputs": [
        {
          "output_type": "stream",
          "name": "stdout",
          "text": [
            "Evaluation \t Proposed point \t  Current eval. \t  Best eval. \t        Exact CBM: StdDev. x \t Approx CBM: StdDev. x \n",
            "init\t [1.53992353 0.38889348]\t 22.31361308916297\t 6.692051508754487\t    \t    \n",
            "init\t [3.24493717 6.52983589]\t 19.233109967858276\t 6.692051508754487\t    \t    \n",
            "init\t [1.30551703 4.95502232]\t 13.177851563387286\t 6.692051508754487\t    \t    \n",
            "init\t [-1.93027049  9.2890645 ]\t 6.692051508754487\t 6.692051508754487\t    \t    \n",
            "init\t [-0.50517989  4.00240913]\t 26.437522758780958\t 6.692051508754487\t    \t    \n",
            "1  \t [ 9.5587047  12.00387527]\t 89.09951357262268\t 6.692051508754487\t 5.699296112273292\t 6.2656429343994935\n",
            "\u001b[1m\u001b[92m2\u001b[0m\t \u001b[1m\u001b[92m[9.59366035 1.69164323]\u001b[0m\t \u001b[1m\u001b[92m1.3984593420568778\u001b[0m\t \u001b[1m\u001b[92m1.3984593420568778\u001b[0m\t \u001b[1m\u001b[92m5.48608907147091\u001b[0m\t \u001b[1m\u001b[92m5.945618087687977\u001b[0m\n",
            "3  \t [ 3.49465529 14.66255293]\t 160.93143085551043\t 1.3984593420568778\t 5.670307053814476\t 6.197392880424498\n",
            "4  \t [-5.  0.]\t 308.12909601160663\t 1.3984593420568778\t 5.2012585692033095\t 6.089885223686244\n",
            "5  \t [9.00136961 6.35944099]\t 19.041010249359367\t 1.3984593420568778\t 5.62954679673746\t 6.029953062085061\n",
            "6  \t [-3.95509114 14.02730345]\t 3.48680055844817\t 1.3984593420568778\t 5.044391331666452\t 5.736567211646837\n",
            "7  \t [-4.94495808  5.1863083 ]\t 152.4634597879033\t 1.3984593420568778\t 4.739110112402176\t 5.306737217937791\n",
            "8  \t [5.72193955 2.48745912]\t 19.991297635770785\t 1.3984593420568778\t 5.01946134802582\t 5.012996925436125\n",
            "9  \t [5.69514308 9.78761961]\t 93.01369430582864\t 1.3984593420568778\t 5.241167610734771\t 5.3550323799550235\n",
            "10 \t [ 1.359052   10.68853228]\t 55.748797978013236\t 1.3984593420568778\t 5.408459251933172\t 6.053746869134589\n",
            "11 \t [-0.83409552 15.        ]\t 73.94728688206081\t 1.3984593420568778\t 5.706395756288722\t 6.770992822558776\n",
            "12 \t [-2.2176299  11.78460396]\t 6.836989200161045\t 1.3984593420568778\t 4.893469823322721\t 5.600166660428886\n",
            "13 \t [ 7.59490928 15.        ]\t 198.39956092661217\t 1.3984593420568778\t 5.726283919933676\t 5.064027432554551\n",
            "14 \t [-5.          9.62244844]\t 69.95164133332892\t 1.3984593420568778\t 5.954092377558177\t 6.347117448964342\n",
            "15 \t [-1.70761518  1.13404639]\t 72.05836225421282\t 1.3984593420568778\t 5.324485370262205\t 5.03753835739203\n",
            "16 \t [6.0956257  5.64915033]\t 40.14145473931798\t 1.3984593420568778\t 5.625854409594955\t 5.416697644566098\n",
            "17 \t [-3.87645216  2.57784513]\t 135.88512865239227\t 1.3984593420568778\t 4.2424161934582525\t 4.425954083823592\n",
            "18 \t [-0.11042061  7.3993189 ]\t 21.03692779220222\t 1.3984593420568778\t 5.439902846547791\t 5.272453507698205\n",
            "\u001b[1m\u001b[92m19\u001b[0m\t \u001b[1m\u001b[92m[2.93140788 2.94851909]\u001b[0m\t \u001b[1m\u001b[92m0.863119692103421\u001b[0m\t \u001b[1m\u001b[92m0.863119692103421\u001b[0m\t \u001b[1m\u001b[92m5.443080120139209\u001b[0m\t \u001b[1m\u001b[92m6.467258462119361\u001b[0m\n",
            "20 \t [4.25178505 0.07551344]\t 7.960763588545682\t 0.863119692103421\t 5.527594369201062\t 6.541001097502087\n"
          ]
        }
      ],
      "source": [
        "### EXACT STP CBM GRADIENTS\n",
        "\n",
        "np.random.seed(run_num_2)\n",
        "surrogate_exact_2 = dtStudentProcess(cov_func, optimize=opt, nu = df)\n",
        "\n",
        "exact_2 = dGPGO(surrogate_exact_2, Acquisition_grad(util), objfunc, param)\n",
        "exact_2.run(init_evals=n_init, max_iter=iters)\n"
      ]
    },
    {
      "cell_type": "code",
      "execution_count": 36,
      "metadata": {
        "id": "XieJ158mIvlP",
        "colab": {
          "base_uri": "https://localhost:8080/"
        },
        "outputId": "b6d9fc4f-6e71-45c8-e97d-4ed35f58a8c9"
      },
      "outputs": [
        {
          "output_type": "stream",
          "name": "stdout",
          "text": [
            "Evaluation \t Proposed point \t  Current eval. \t  Best eval. \t        Exact CBM: StdDev. x \t Approx CBM: StdDev. x \n",
            "init\t [ 3.26196854 10.62221734]\t 71.68783452098575\t 18.07886746449891\t    \t    \n",
            "init\t [-0.63642892  7.66241408]\t 18.07886746449891\t 18.07886746449891\t    \t    \n",
            "init\t [ 8.39420432 13.44439633]\t 141.98653529865882\t 18.07886746449891\t    \t    \n",
            "init\t [-3.11622034  3.10864317]\t 83.31045707266176\t 18.07886746449891\t    \t    \n",
            "init\t [-4.22799195  6.61214765]\t 76.5294170688398\t 18.07886746449891\t    \t    \n",
            "1  \t [6.70472147 4.59545299]\t 30.726791812855225\t 18.07886746449891\t 4.241477993385701\t 4.241477993385701\n",
            "\u001b[1m\u001b[92m2\u001b[0m\t \u001b[1m\u001b[92m[-3.89564496 13.38589781]\u001b[0m\t \u001b[1m\u001b[92m3.6010193697779265\u001b[0m\t \u001b[1m\u001b[92m3.6010193697779265\u001b[0m\t \u001b[1m\u001b[92m5.2564550840142985\u001b[0m\t \u001b[1m\u001b[92m6.2012368106014595\u001b[0m\n",
            "3  \t [ 0.70821102 15.        ]\t 118.54412423340214\t 3.6010193697779265\t 5.802823062655096\t 6.843170679802499\n",
            "4  \t [2.62008229 0.69770342]\t 5.751228082851562\t 3.6010193697779265\t 5.047319827864031\t 4.933765472897235\n",
            "5  \t [9.90066241 8.47951257]\t 32.532469069472825\t 3.6010193697779265\t 6.017120243976908\t 6.802019005282694\n",
            "6  \t [9.93677945 0.73582985]\t 6.490877301930613\t 3.6010193697779265\t 4.984088367148431\t 4.975841302219567\n",
            "7  \t [-0.6195202  11.33294215]\t 36.28496106529289\t 3.6010193697779265\t 4.3706484429656625\t 3.964575073155109\n",
            "8  \t [-5.         10.25606027]\t 60.76667052874599\t 3.6010193697779265\t 5.2973454590734335\t 5.748462155127882\n",
            "9  \t [3.23060219 5.13311765]\t 9.000354943934063\t 3.6010193697779265\t 4.2836783132568845\t 4.51144415727951\n",
            "10 \t [6.22647302 0.        ]\t 20.79361978311021\t 3.6010193697779265\t 5.033606789747999\t 5.4479497523801435\n",
            "11 \t [-0.99832103  0.        ]\t 74.76338943487289\t 3.6010193697779265\t 5.017840081566939\t 5.632137042578312\n",
            "12 \t [ 4.70192536 15.        ]\t 195.60344243896733\t 3.6010193697779265\t 5.135247832574149\t 5.174179068494876\n",
            "13 \t [-5.  0.]\t 308.12909601160663\t 3.6010193697779265\t 6.154387120251932\t 6.461811715215313\n",
            "14 \t [6.24197164 8.22614677]\t 70.39149773056599\t 3.6010193697779265\t 5.55701004741528\t 6.050978328139644\n",
            "15 \t [0.40731766 3.57977458]\t 22.032787033305194\t 3.6010193697779265\t 5.903769600217568\t 6.164257100734293\n",
            "16 \t [4.44694964 2.47554722]\t 8.47788322234721\t 3.6010193697779265\t 5.3420731111800475\t 5.07697156280296\n",
            "17 \t [ 1.22524785 12.41173705]\t 79.96602757069469\t 3.6010193697779265\t 4.974023362729699\t 5.0476649666810705\n",
            "\u001b[1m\u001b[92m18\u001b[0m\t \u001b[1m\u001b[92m[10.          4.13500469]\u001b[0m\t \u001b[1m\u001b[92m3.2246735247787637\u001b[0m\t \u001b[1m\u001b[92m3.2246735247787637\u001b[0m\t \u001b[1m\u001b[92m5.034269094451129\u001b[0m\t \u001b[1m\u001b[92m5.817875458305346\u001b[0m\n",
            "19 \t [ 6.1681655  11.31887698]\t 124.00401478657193\t 3.2246735247787637\t 5.142310144538362\t 5.333698010007775\n",
            "20 \t [2.01444812 7.98208812]\t 27.630822304906502\t 3.2246735247787637\t 4.648313166069719\t 6.455337538779932\n"
          ]
        }
      ],
      "source": [
        "### EXACT STP CBM GRADIENTS\n",
        "\n",
        "np.random.seed(run_num_3)\n",
        "surrogate_exact_3 = dtStudentProcess(cov_func, optimize=opt, nu = df)\n",
        "\n",
        "exact_3 = dGPGO(surrogate_exact_3, Acquisition_grad(util), objfunc, param)\n",
        "exact_3.run(init_evals=n_init, max_iter=iters)\n"
      ]
    },
    {
      "cell_type": "code",
      "execution_count": 37,
      "metadata": {
        "id": "PhLBVOIfIvol",
        "colab": {
          "base_uri": "https://localhost:8080/"
        },
        "outputId": "957b8906-5c1d-4b7c-f927-dc4d3e9ba32a"
      },
      "outputs": [
        {
          "output_type": "stream",
          "name": "stdout",
          "text": [
            "Evaluation \t Proposed point \t  Current eval. \t  Best eval. \t        Exact CBM: StdDev. x \t Approx CBM: StdDev. x \n",
            "init\t [9.50544759 8.20848374]\t 32.51676744781521\t 7.247126865776948\t    \t    \n",
            "init\t [ 9.5902654  10.72223991]\t 66.20566674364716\t 7.247126865776948\t    \t    \n",
            "init\t [5.46593237 3.24134243]\t 20.90089401680587\t 7.247126865776948\t    \t    \n",
            "init\t [9.64411682 0.09345383]\t 7.247126865776948\t 7.247126865776948\t    \t    \n",
            "init\t [-1.20526456  6.52187299]\t 15.941376982363263\t 7.247126865776948\t    \t    \n",
            "1  \t [ 1.25164457 13.57001383]\t 100.61648848019335\t 7.247126865776948\t 5.390263030922341\t 5.919880045578209\n",
            "2  \t [-5.  0.]\t 308.12909601160663\t 7.247126865776948\t 6.099949388179886\t 5.822837001886807\n",
            "3  \t [0.98905024 0.        ]\t 35.9991709240805\t 7.247126865776948\t 5.203988777409145\t 6.280061428215341\n",
            "4  \t [3.23188099 8.99676659]\t 46.556386793162574\t 7.247126865776948\t 4.924031606329941\t 5.647177710844571\n",
            "5  \t [-4.73699493 13.33053872]\t 19.892240270122997\t 7.247126865776948\t 5.349201688920165\t 6.41107768900142\n",
            "6  \t [-5.          4.99102648]\t 161.47430476188083\t 7.247126865776948\t 5.064906234168759\t 6.506236166700273\n",
            "7  \t [ 6.58752114 15.        ]\t 211.76939056315976\t 7.247126865776948\t 4.8200472039957845\t 5.618503231676746\n",
            "8  \t [-4.6919849   9.42976577]\t 57.1621783090187\t 7.247126865776948\t 4.051574115417862\t 4.3373764228806095\n",
            "9  \t [-0.46953779  9.85973795]\t 28.073785745584807\t 7.247126865776948\t 4.96305780031374\t 4.364550067148834\n",
            "\u001b[1m\u001b[92m10\u001b[0m\t \u001b[1m\u001b[92m[9.3499807 4.1863083]\u001b[0m\t \u001b[1m\u001b[92m3.5706708781054353\u001b[0m\t \u001b[1m\u001b[92m3.5706708781054353\u001b[0m\t \u001b[1m\u001b[92m4.655382876208455\u001b[0m\t \u001b[1m\u001b[92m5.693833097107457\u001b[0m\n",
            "11 \t [1.69320667 4.31532885]\t 9.236860887143202\t 3.5706708781054353\t 5.292236264005228\t 4.5292615269140235\n",
            "12 \t [4.53351448 0.24755332]\t 9.71298785124648\t 3.5706708781054353\t 4.750384732728529\t 5.221353696835458\n",
            "13 \t [-1.48136788  2.75072574]\t 45.55476496403952\t 3.5706708781054353\t 5.394285630238733\t 5.634286114968111\n",
            "14 \t [6.08307906 6.90755139]\t 53.15206140937477\t 3.5706708781054353\t 4.899499628708528\t 4.80618744798967\n",
            "15 \t [ 5.14176967 11.60731551]\t 121.64516592707028\t 3.5706708781054353\t 5.302895142964389\t 5.76636057809112\n",
            "16 \t [-2.08163212 14.73946272]\t 28.9898536991885\t 3.5706708781054353\t 5.655961834365439\t 5.632647516628005\n",
            "17 \t [6.87581662 9.99004619]\t 95.85964130773561\t 3.5706708781054353\t 5.454272043218842\t 5.370406228840664\n",
            "18 \t [10. 15.]\t 145.87219087939556\t 3.5706708781054353\t 4.693484505621896\t 5.315611742839738\n",
            "19 \t [7.9593684  1.90005522]\t 9.1371968461653\t 3.5706708781054353\t 4.796743548754059\t 6.715969599215948\n",
            "20 \t [ 3.63189394 14.847251  ]\t 168.54754753112567\t 3.5706708781054353\t 4.826528016257335\t 5.645478185748141\n"
          ]
        }
      ],
      "source": [
        "### EXACT STP CBM GRADIENTS\n",
        "\n",
        "np.random.seed(run_num_4)\n",
        "surrogate_exact_4 = dtStudentProcess(cov_func, optimize=opt, nu = df)\n",
        "\n",
        "exact_4 = dGPGO(surrogate_exact_4, Acquisition_grad(util), objfunc, param)\n",
        "exact_4.run(init_evals=n_init, max_iter=iters)\n"
      ]
    },
    {
      "cell_type": "code",
      "execution_count": 38,
      "metadata": {
        "id": "arbiPyj2IvsJ",
        "colab": {
          "base_uri": "https://localhost:8080/"
        },
        "outputId": "f10890b2-b67f-4a96-8aae-d3829b5bc277"
      },
      "outputs": [
        {
          "output_type": "stream",
          "name": "stdout",
          "text": [
            "Evaluation \t Proposed point \t  Current eval. \t  Best eval. \t        Exact CBM: StdDev. x \t Approx CBM: StdDev. x \n",
            "init\t [-1.67010243 13.06098459]\t 25.390690545664548\t 25.311309190989615\t    \t    \n",
            "init\t [-1.89921267 13.77916362]\t 25.311309190989615\t 25.311309190989615\t    \t    \n",
            "init\t [2.32616783 9.17615794]\t 41.60147975414021\t 25.311309190989615\t    \t    \n",
            "init\t [6.48861785 7.77626982]\t 63.81281921768236\t 25.311309190989615\t    \t    \n",
            "init\t [-0.54799248  2.81581843]\t 34.966203644931994\t 25.311309190989615\t    \t    \n",
            "\u001b[1m\u001b[92m1\u001b[0m\t \u001b[1m\u001b[92m[8.84124421 0.03321319]\u001b[0m\t \u001b[1m\u001b[92m5.96108856337545\u001b[0m\t \u001b[1m\u001b[92m5.96108856337545\u001b[0m\t \u001b[1m\u001b[92m6.223759599255244\u001b[0m\t \u001b[1m\u001b[92m6.2359000844198516\u001b[0m\n",
            "2  \t [10. 15.]\t 145.87219087939556\t 5.96108856337545\t 5.8941219609869515\t 5.80338968742424\n",
            "3  \t [-4.08235388  8.01908103]\t 48.314525731401304\t 5.96108856337545\t 5.766618835967077\t 6.387438696998517\n",
            "4  \t [ 3.65601665 14.99496466]\t 172.9090613940532\t 5.96108856337545\t 5.523520948897699\t 5.542700509898628\n",
            "5  \t [-5.  0.]\t 308.12909601160663\t 5.96108856337545\t 5.551137912508089\t 5.831111006021648\n",
            "\u001b[1m\u001b[92m6\u001b[0m\t \u001b[1m\u001b[92m[3.97145263 0.48671667]\u001b[0m\t \u001b[1m\u001b[92m5.031858229540294\u001b[0m\t \u001b[1m\u001b[92m5.031858229540294\u001b[0m\t \u001b[1m\u001b[92m5.271503078288391\u001b[0m\t \u001b[1m\u001b[92m4.91601130757938\u001b[0m\n",
            "\u001b[1m\u001b[92m7\u001b[0m\t \u001b[1m\u001b[92m[10.          4.35127378]\u001b[0m\t \u001b[1m\u001b[92m3.7610998564993805\u001b[0m\t \u001b[1m\u001b[92m3.7610998564993805\u001b[0m\t \u001b[1m\u001b[92m4.5658552889671435\u001b[0m\t \u001b[1m\u001b[92m5.345253777382359\u001b[0m\n",
            "8  \t [3.42853792 4.53324784]\t 6.898248511606748\t 3.7610998564993805\t 4.949058346869707\t 5.425709045448917\n",
            "9  \t [10.        10.3442275]\t 55.837399013675814\t 3.7610998564993805\t 5.102634842120812\t 5.414425393554479\n",
            "10 \t [-4.81031133  4.267332  ]\t 164.1469325216919\t 3.7610998564993805\t 5.153218619318673\t 5.7136399006156795\n",
            "11 \t [6.86662091 2.86394334]\t 20.908437502057232\t 3.7610998564993805\t 4.3697828877817955\t 4.892369823445674\n",
            "12 \t [-5.        11.8133338]\t 41.60391263872153\t 3.7610998564993805\t 5.098988242799205\t 5.529847260308409\n",
            "13 \t [ 6.2505725  11.85571279]\t 135.30174039503243\t 3.7610998564993805\t 4.658607363477753\t 5.066269162024579\n",
            "14 \t [-0.44185311  6.58124482]\t 18.701603433005157\t 3.7610998564993805\t 4.621449748463229\t 5.446241192679086\n",
            "15 \t [0.71326834 0.        ]\t 41.57141835587435\t 3.7610998564993805\t 4.4935210891290245\t 6.116842857554441\n",
            "16 \t [-0.79992646  9.48438616]\t 21.22130405860206\t 3.7610998564993805\t 4.745966677167801\t 4.750703025074985\n",
            "17 \t [10.          6.95551266]\t 17.56584001444331\t 3.7610998564993805\t 4.097038934986299\t 5.573228095344581\n",
            "18 \t [-3.29446062 10.36607268]\t 5.705183496331357\t 3.7610998564993805\t 4.926436278255741\t 4.9274885171228116\n",
            "19 \t [ 1.27598168 12.24679715]\t 77.8706330738173\t 3.7610998564993805\t 4.4121029444075885\t 5.560326149114807\n",
            "20 \t [1.72666134 3.00488755]\t 8.909084587200189\t 3.7610998564993805\t 4.758880963575566\t 4.424262834161905\n"
          ]
        }
      ],
      "source": [
        "### EXACT STP CBM GRADIENTS\n",
        "\n",
        "np.random.seed(run_num_5)\n",
        "surrogate_exact_5 = dtStudentProcess(cov_func, optimize=opt, nu = df)\n",
        "\n",
        "exact_5 = dGPGO(surrogate_exact_5, Acquisition_grad(util), objfunc, param)\n",
        "exact_5.run(init_evals=n_init, max_iter=iters)\n"
      ]
    },
    {
      "cell_type": "code",
      "execution_count": 39,
      "metadata": {
        "id": "04KJCEm_Ivvf",
        "colab": {
          "base_uri": "https://localhost:8080/"
        },
        "outputId": "a7f09895-287e-4000-b456-6caddc1b5e77"
      },
      "outputs": [
        {
          "output_type": "stream",
          "name": "stdout",
          "text": [
            "Evaluation \t Proposed point \t  Current eval. \t  Best eval. \t        Exact CBM: StdDev. x \t Approx CBM: StdDev. x \n",
            "init\t [8.39290227 4.97969708]\t 15.553860636684597\t 15.31731051317483\t    \t    \n",
            "init\t [7.31843685 0.62544939]\t 15.31731051317483\t 15.31731051317483\t    \t    \n",
            "init\t [-3.3851498   8.92578096]\t 16.222288919361837\t 15.31731051317483\t    \t    \n",
            "init\t [2.94726043 6.28211143]\t 15.406373581304088\t 15.31731051317483\t    \t    \n",
            "init\t [0.03111774 9.33779148]\t 31.07053245856209\t 15.31731051317483\t    \t    \n",
            "1  \t [10. 15.]\t 145.87219087939556\t 15.31731051317483\t 5.174553622864057\t 5.569250053127693\n",
            "2  \t [-3.60256696  0.        ]\t 181.2358527670462\t 15.31731051317483\t 5.961746019301611\t 5.855455456622813\n",
            "3  \t [ 4.34724927 14.59608757]\t 177.48889452505895\t 15.31731051317483\t 5.231974960650516\t 5.242040262509791\n",
            "4  \t [2.11574366 0.        ]\t 15.332833934772548\t 15.31731051317483\t 5.849760128643216\t 6.433447626682014\n",
            "5  \t [-1.33539224 14.46151044]\t 49.52030886646713\t 15.31731051317483\t 5.078881442979029\t 5.751769523355351\n",
            "6  \t [6.97089299 9.85791071]\t 92.67388080383664\t 15.31731051317483\t 5.13387950513778\t 5.747492869678555\n",
            "7  \t [-1.84917513  4.74390073]\t 28.89925109899199\t 15.31731051317483\t 5.7798568965859465\t 6.043129269810981\n",
            "8  \t [ 3.3640691  10.61859007]\t 73.06649215933197\t 15.31731051317483\t 5.271476184615195\t 5.616079457073644\n",
            "9  \t [10.          7.24779731]\t 19.961813302587757\t 15.31731051317483\t 4.527980478319941\t 4.555999203400507\n",
            "10 \t [-4.17860574  2.99756592]\t 146.92805613651734\t 15.31731051317483\t 5.181475791447218\t 5.864004755052295\n",
            "\u001b[1m\u001b[92m11\u001b[0m\t \u001b[1m\u001b[92m[3.98216284 3.07292961]\u001b[0m\t \u001b[1m\u001b[92m5.4505580826955935\u001b[0m\t \u001b[1m\u001b[92m5.4505580826955935\u001b[0m\t \u001b[1m\u001b[92m5.033051357640621\u001b[0m\t \u001b[1m\u001b[92m6.172423511757109\u001b[0m\n",
            "12 \t [1.33258409 2.69818321]\t 14.254847167893884\t 5.4505580826955935\t 5.169492509623481\t 7.160701568281572\n",
            "13 \t [6.41010576 6.8375094 ]\t 52.373690032560226\t 5.4505580826955935\t 5.0102171262776505\t 4.4275557049747585\n",
            "14 \t [-4.02011777 11.97288787]\t 10.186886248910653\t 5.4505580826955935\t 5.652261928187148\t 5.861376418465447\n",
            "15 \t [10.         11.29967045]\t 70.77860135253698\t 5.4505580826955935\t 5.601709361651965\t 6.465780796599708\n",
            "16 \t [-5.          6.57421168]\t 125.36267104918377\t 5.4505580826955935\t 5.1471947073186834\t 6.351369993239336\n",
            "17 \t [ 7.34965409 13.68546513]\t 168.51376577599774\t 5.4505580826955935\t 5.353044700683082\t 6.130983763158419\n",
            "18 \t [ 1.23256801 13.25467183]\t 94.5484236187592\t 5.4505580826955935\t 5.09220233041971\t 6.207324887967218\n",
            "19 \t [-0.56555522  0.52270294]\t 59.30702470539146\t 5.4505580826955935\t 6.036474482218314\t 6.567868348299742\n",
            "20 \t [0.23018904 6.55825807]\t 20.191142561290796\t 5.4505580826955935\t 5.444270175490874\t 5.708533874517554\n"
          ]
        }
      ],
      "source": [
        "### EXACT STP CBM GRADIENTS\n",
        "\n",
        "np.random.seed(run_num_6)\n",
        "surrogate_exact_6 = dtStudentProcess(cov_func, optimize=opt, nu = df)\n",
        "\n",
        "exact_6 = dGPGO(surrogate_exact_6, Acquisition_grad(util), objfunc, param)\n",
        "exact_6.run(init_evals=n_init, max_iter=iters)\n"
      ]
    },
    {
      "cell_type": "code",
      "execution_count": 40,
      "metadata": {
        "id": "tAOkme3CIvyO",
        "colab": {
          "base_uri": "https://localhost:8080/"
        },
        "outputId": "820128cd-13e8-4f33-a093-6f0b53a341bb"
      },
      "outputs": [
        {
          "output_type": "stream",
          "name": "stdout",
          "text": [
            "Evaluation \t Proposed point \t  Current eval. \t  Best eval. \t        Exact CBM: StdDev. x \t Approx CBM: StdDev. x \n",
            "init\t [-3.85537566 11.69878188]\t 8.299317850233932\t 5.211335324193094\t    \t    \n",
            "init\t [ 1.57613847 10.85197767]\t 59.50408380701259\t 5.211335324193094\t    \t    \n",
            "init\t [9.66984268 8.07743806]\t 29.714921414987273\t 5.211335324193094\t    \t    \n",
            "init\t [2.51680695 1.080767  ]\t 5.211335324193094\t 5.211335324193094\t    \t    \n",
            "init\t [-0.9734153   7.49823751]\t 15.431057204948033\t 5.211335324193094\t    \t    \n",
            "1  \t [-4.97859679  1.38393519]\t 260.3293952774437\t 5.211335324193094\t 4.234605889855404\t 4.835344351454883\n",
            "2  \t [10. 15.]\t 145.87219087939556\t 5.211335324193094\t 5.718156807566418\t 5.786424194210805\n",
            "3  \t [8.08940775 0.35854539]\t 9.249625108410735\t 5.211335324193094\t 5.300757836748785\t 5.735882313755242\n",
            "4  \t [-3.39684884  5.54228873]\t 54.79871094423047\t 5.211335324193094\t 4.513268393125206\t 4.473998865395781\n",
            "5  \t [4.94386051 5.50559887]\t 29.981701145150826\t 5.211335324193094\t 4.924728961029075\t 5.506691349731866\n",
            "6  \t [ 4.69904083 14.98919189]\t 195.25167143189907\t 5.211335324193094\t 5.881665823999635\t 7.176855191324899\n",
            "\u001b[1m\u001b[92m7\u001b[0m\t \u001b[1m\u001b[92m[10.          3.82420312]\u001b[0m\t \u001b[1m\u001b[92m2.6175864937904016\u001b[0m\t \u001b[1m\u001b[92m2.6175864937904016\u001b[0m\t \u001b[1m\u001b[92m4.769129635508198\u001b[0m\t \u001b[1m\u001b[92m5.181335673251024\u001b[0m\n",
            "8  \t [-0.88797368 15.        ]\t 72.0822860705394\t 2.6175864937904016\t 5.020492938671407\t 5.603325315755556\n",
            "9  \t [-0.82440866  0.00568179]\t 71.19402583464581\t 2.6175864937904016\t 5.103450135176635\t 5.3935383290228724\n",
            "10 \t [ 6.06150055 10.32375142]\t 104.45778113671152\t 2.6175864937904016\t 5.2173023304212744\t 5.344532957413505\n",
            "11 \t [1.4537139  4.18257717]\t 11.171503987855111\t 2.6175864937904016\t 4.593057492756003\t 5.119912910582788\n",
            "12 \t [-4.99209501 14.8834427 ]\t 17.85444854073562\t 2.6175864937904016\t 5.008819244052681\t 5.660378849264603\n",
            "13 \t [5.47869751 1.88580399]\t 17.18857416298755\t 2.6175864937904016\t 4.43201830780683\t 4.023189716730987\n",
            "14 \t [2.36829993 7.31974668]\t 22.176900524333785\t 2.6175864937904016\t 4.558061889766282\t 4.798791681199593\n",
            "15 \t [-5.          8.62118725]\t 86.10306985119506\t 2.6175864937904016\t 5.806167302787769\t 5.817444674617552\n",
            "16 \t [8.05809269 5.76088448]\t 25.672000448988054\t 2.6175864937904016\t 4.925591824912427\t 5.250447505782783\n",
            "17 \t [-1.25352742  3.2884536 ]\t 37.099662266683275\t 2.6175864937904016\t 4.337512298001944\t 4.97588719065182\n",
            "18 \t [ 8.90685291 11.89969916]\t 98.22570801905194\t 2.6175864937904016\t 4.690378184657946\t 4.791315029211735\n",
            "19 \t [ 6.74044954 13.31380067]\t 166.7789131947879\t 2.6175864937904016\t 5.099918823647429\t 5.174549952041215\n",
            "20 \t [-2.70164034 14.02279701]\t 9.041251101352742\t 2.6175864937904016\t 4.564453678080226\t 4.564453678080226\n"
          ]
        }
      ],
      "source": [
        "### EXACT STP CBM GRADIENTS\n",
        "\n",
        "np.random.seed(run_num_7)\n",
        "surrogate_exact_7 = dtStudentProcess(cov_func, optimize=opt, nu = df)\n",
        "\n",
        "exact_7 = dGPGO(surrogate_exact_7, Acquisition_grad(util), objfunc, param)\n",
        "exact_7.run(init_evals=n_init, max_iter=iters)\n"
      ]
    },
    {
      "cell_type": "code",
      "execution_count": 41,
      "metadata": {
        "id": "69-J3EF4Iv1S",
        "colab": {
          "base_uri": "https://localhost:8080/"
        },
        "outputId": "33899b28-e9d3-4225-e4c0-f56191085555"
      },
      "outputs": [
        {
          "output_type": "stream",
          "name": "stdout",
          "text": [
            "Evaluation \t Proposed point \t  Current eval. \t  Best eval. \t        Exact CBM: StdDev. x \t Approx CBM: StdDev. x \n",
            "init\t [ 8.10144104 14.52810994]\t 175.17297136347514\t 15.416245468470875\t    \t    \n",
            "init\t [8.0379181  7.96283537]\t 49.32173799887473\t 15.416245468470875\t    \t    \n",
            "init\t [-1.50907508  0.17098206]\t 83.26753461673219\t 15.416245468470875\t    \t    \n",
            "init\t [1.45703227 6.0352704 ]\t 15.416245468470875\t 15.416245468470875\t    \t    \n",
            "init\t [2.84012007 7.17587694]\t 22.49093277852639\t 15.416245468470875\t    \t    \n",
            "\u001b[1m\u001b[92m1\u001b[0m\t \u001b[1m\u001b[92m[9.77124156 0.43098073]\u001b[0m\t \u001b[1m\u001b[92m6.499298445992174\u001b[0m\t \u001b[1m\u001b[92m6.499298445992174\u001b[0m\t \u001b[1m\u001b[92m5.180498456596191\u001b[0m\t \u001b[1m\u001b[92m5.67128248806313\u001b[0m\n",
            "2  \t [-4.87537438 11.82874897]\t 36.57081146531108\t 6.499298445992174\t 5.8146353851136166\t 5.535869689345445\n",
            "3  \t [ 0.45044221 13.94601145]\t 93.23695428764874\t 6.499298445992174\t 5.593481712095027\t 6.413262111528751\n",
            "4  \t [-3.69549212  5.14476421]\t 74.10099475805737\t 6.499298445992174\t 5.487427495169764\t 5.80721597144248\n",
            "5  \t [ 4.44828169 11.29643831]\t 103.9237780856966\t 6.499298445992174\t 5.431547116343049\t 5.790024234421002\n",
            "6  \t [4.4706575 0.       ]\t 9.852644229141104\t 6.499298445992174\t 5.357783465896461\t 5.189444912864629\n",
            "7  \t [5.75617532 3.97841232]\t 26.474889504577234\t 6.499298445992174\t 5.840664694533309\t 5.77453666241044\n",
            "\u001b[1m\u001b[92m8\u001b[0m\t \u001b[1m\u001b[92m[10.          4.18962795]\u001b[0m\t \u001b[1m\u001b[92m3.351329542181686\u001b[0m\t \u001b[1m\u001b[92m3.351329542181686\u001b[0m\t \u001b[1m\u001b[92m5.578010314292463\u001b[0m\t \u001b[1m\u001b[92m5.7350968214816875\u001b[0m\n",
            "9  \t [-1.09341763  9.3435155 ]\t 16.510849678008547\t 3.351329542181686\t 5.631375924344569\t 5.56853050270569\n",
            "10 \t [-5.          1.17801923]\t 269.0227444121007\t 3.351329542181686\t 6.199530455644327\t 5.660479782364107\n",
            "11 \t [1.41319916 2.75072027]\t 13.089829865655062\t 3.351329542181686\t 5.226271668095328\t 6.298197393257311\n",
            "12 \t [ 8.5270185  11.08855213]\t 89.8863479954604\t 3.351329542181686\t 4.862066016611897\t 6.608867932473876\n",
            "13 \t [ 4.48764541 14.83138992]\t 186.67203208526107\t 3.351329542181686\t 5.05193854018681\t 6.343264753234301\n",
            "14 \t [-3.40438232 15.        ]\t 5.072811390803245\t 3.351329542181686\t 5.656333841489882\t 6.79610026694731\n",
            "15 \t [-3.8819637   8.34583531]\t 36.31146179730628\t 3.351329542181686\t 5.025965373156472\t 4.628126337411814\n",
            "16 \t [ 1.3214923  10.31184273]\t 50.678573859956664\t 3.351329542181686\t 4.917929151576045\t 4.954731950804874\n",
            "17 \t [-1.84541432 11.68398654]\t 12.718233426959637\t 3.351329542181686\t 5.103090432025562\t 7.580418969696124\n",
            "18 \t [-1.01025433  6.66057513]\t 16.26946592621288\t 3.351329542181686\t 5.603812744365991\t 6.032392232894823\n",
            "19 \t [7.04037037 0.78450844]\t 17.149664090282037\t 3.351329542181686\t 4.273661879557752\t 4.27528522775148\n",
            "20 \t [5.24348981 8.14685229]\t 63.031106411742144\t 3.351329542181686\t 4.521763224098883\t 5.971314907363161\n"
          ]
        }
      ],
      "source": [
        "### EXACT STP CBM GRADIENTS\n",
        "\n",
        "np.random.seed(run_num_8)\n",
        "surrogate_exact_8 = dtStudentProcess(cov_func, optimize=opt, nu = df)\n",
        "\n",
        "exact_8 = dGPGO(surrogate_exact_8, Acquisition_grad(util), objfunc, param)\n",
        "exact_8.run(init_evals=n_init, max_iter=iters)\n"
      ]
    },
    {
      "cell_type": "code",
      "execution_count": 42,
      "metadata": {
        "id": "vonm9jyuIv4t",
        "colab": {
          "base_uri": "https://localhost:8080/"
        },
        "outputId": "cff62d84-1ac2-45f2-dee7-ff002a1c26d5"
      },
      "outputs": [
        {
          "output_type": "stream",
          "name": "stdout",
          "text": [
            "Evaluation \t Proposed point \t  Current eval. \t  Best eval. \t        Exact CBM: StdDev. x \t Approx CBM: StdDev. x \n",
            "init\t [-4.84438769  7.52811888]\t 96.15564306553264\t 3.4640248583909496\t    \t    \n",
            "init\t [2.4365994  2.00744293]\t 3.4640248583909496\t 3.4640248583909496\t    \t    \n",
            "init\t [-2.86833372  3.27838013]\t 70.46930174488207\t 3.4640248583909496\t    \t    \n",
            "init\t [1.27762271 3.72151753]\t 12.982825924833865\t 3.4640248583909496\t    \t    \n",
            "init\t [-3.73910523  5.1824796 ]\t 75.58547400560856\t 3.4640248583909496\t    \t    \n",
            "1  \t [ 7.05609655 14.75038872]\t 200.4388688685465\t 3.4640248583909496\t 5.715468862777009\t 5.393626374593891\n",
            "2  \t [-0.46054038 14.56197292]\t 79.4666617606301\t 3.4640248583909496\t 5.454381791145676\t 4.857053843266392\n",
            "3  \t [8.28747407 1.2035024 ]\t 6.196385269800155\t 3.4640248583909496\t 5.072833489954427\t 5.043819881303748\n",
            "4  \t [4.65772822 9.25206772]\t 71.2941176700676\t 3.4640248583909496\t 5.048228996468545\t 5.084017989163857\n",
            "5  \t [10.        6.346655]\t 13.12345964547641\t 3.4640248583909496\t 6.2080552492432926\t 4.857550484102429\n",
            "6  \t [5.89623195 4.4959731 ]\t 30.377123825335133\t 3.4640248583909496\t 5.603535692651387\t 5.4558747719991985\n",
            "7  \t [-0.22776513  9.38311819]\t 28.437819147587856\t 3.4640248583909496\t 6.130559358674136\t 6.659600712410155\n",
            "8  \t [10.        10.7575696]\t 62.07716338719952\t 3.4640248583909496\t 5.524336827779188\t 6.004720743915106\n",
            "9  \t [-0.33136083  0.        ]\t 61.87179076018099\t 3.4640248583909496\t 6.5064946992797426\t 6.580823899024543\n",
            "10 \t [-5.  0.]\t 308.12909601160663\t 3.4640248583909496\t 4.976587952891223\t 5.2292099453056515\n",
            "11 \t [-5.         12.59920421]\t 33.77492873095665\t 3.4640248583909496\t 5.217172179982776\t 6.952811933633948\n",
            "12 \t [ 3.17724835 14.90037875]\t 160.50292943360793\t 3.4640248583909496\t 5.3580634633974\t 4.963969119257498\n",
            "13 \t [1.98706066 6.70958782]\t 17.420594447964326\t 3.4640248583909496\t 5.164907227238886\t 5.198027178052484\n",
            "14 \t [4.78143653 1.38303661]\t 10.664035555343428\t 3.4640248583909496\t 4.885444467774001\t 4.714481265652961\n",
            "15 \t [7.67118469 7.84577486]\t 53.38299668209274\t 3.4640248583909496\t 5.43260668691454\t 5.325986769648794\n",
            "16 \t [ 2.17596581 11.36568977]\t 72.05940078551026\t 3.4640248583909496\t 5.582479938627017\t 6.151048840773813\n",
            "17 \t [-2.15920205 11.79855294]\t 7.767375509393648\t 3.4640248583909496\t 5.781963562102149\t 6.217486899374491\n",
            "18 \t [-1.00125071  6.68449533]\t 16.256525283466413\t 3.4640248583909496\t 5.959820426307452\t 5.910031699728618\n",
            "19 \t [ 6.7463465  11.48123226]\t 125.48078697309015\t 3.4640248583909496\t 5.0904686135245605\t 5.763136588231395\n",
            "20 \t [-3.10066424  9.92846774]\t 5.461176684614152\t 3.4640248583909496\t 4.951399729075909\t 5.128666775161201\n"
          ]
        }
      ],
      "source": [
        "### EXACT STP CBM GRADIENTS\n",
        "\n",
        "np.random.seed(run_num_9)\n",
        "surrogate_exact_9 = dtStudentProcess(cov_func, optimize=opt, nu = df)\n",
        "\n",
        "exact_9 = dGPGO(surrogate_exact_9, Acquisition_grad(util), objfunc, param)\n",
        "exact_9.run(init_evals=n_init, max_iter=iters)\n"
      ]
    },
    {
      "cell_type": "code",
      "execution_count": 43,
      "metadata": {
        "id": "6amuYlUdIv7r",
        "colab": {
          "base_uri": "https://localhost:8080/"
        },
        "outputId": "22a3f468-c48e-42e4-ac8f-79c51f63fb2a"
      },
      "outputs": [
        {
          "output_type": "stream",
          "name": "stdout",
          "text": [
            "Evaluation \t Proposed point \t  Current eval. \t  Best eval. \t        Exact CBM: StdDev. x \t Approx CBM: StdDev. x \n",
            "init\t [6.56980965 0.31127924]\t 19.863985024602144\t 2.710610964564512\t    \t    \n",
            "init\t [ 4.50472352 11.23205824]\t 103.66999147252169\t 2.710610964564512\t    \t    \n",
            "init\t [2.47760518 3.37194968]\t 2.710610964564512\t 2.710610964564512\t    \t    \n",
            "init\t [-2.02905703 11.40796068]\t 8.463930835255017\t 2.710610964564512\t    \t    \n",
            "init\t [-2.46333745  1.32509721]\t 90.49481266026973\t 2.710610964564512\t    \t    \n",
            "1  \t [10.          5.65723525]\t 8.988335765406656\t 2.710610964564512\t 4.779484637188568\t 5.231927077429423\n",
            "2  \t [-3.9785409   6.96796212]\t 58.461200561224906\t 2.710610964564512\t 4.633655183108928\t 5.214812063085423\n",
            "3  \t [10.         13.94309377]\t 121.62974185813269\t 2.710610964564512\t 4.675917468630762\t 4.880595072693541\n",
            "4  \t [ 0.84803315 15.        ]\t 121.55299245559671\t 2.710610964564512\t 5.7346005053888565\t 5.750885303065696\n",
            "5  \t [-4.09915757 14.83384396]\t 4.493216442058125\t 2.710610964564512\t 6.021835039525474\t 6.135473532197905\n",
            "6  \t [5.60483488 6.28117808]\t 43.930084425307534\t 2.710610964564512\t 5.5092167501796006\t 5.578711591059359\n",
            "7  \t [0.8980932  7.50362549]\t 23.98514567997685\t 2.710610964564512\t 5.118988521792396\t 5.655031236547292\n",
            "8  \t [8.46050578 9.86272244]\t 69.82901892635894\t 2.710610964564512\t 6.040318372907829\t 6.7720584858218205\n",
            "9  \t [1.56434388 0.        ]\t 24.70334009198021\t 2.710610964564512\t 5.179718034635957\t 5.943154714447991\n",
            "10 \t [7.7803336 3.4171464]\t 14.62665911501031\t 2.710610964564512\t 5.284601062204195\t 5.808439228511994\n",
            "11 \t [-0.35135916  4.09497433]\t 25.166768978747193\t 2.710610964564512\t 4.532908241724228\t 5.131073781986646\n",
            "12 \t [-5.         10.92181358]\t 51.98082667224905\t 2.710610964564512\t 4.958214750497807\t 5.967664444057181\n",
            "13 \t [4.75566789 2.41552011]\t 11.544802572282537\t 2.710610964564512\t 5.255980733880182\t 5.80421332791403\n",
            "14 \t [ 5.95187682 15.        ]\t 212.1889112123672\t 2.710610964564512\t 5.599015741026224\t 6.591247967980825\n",
            "15 \t [ 0.95081965 10.76033301]\t 53.48540546386912\t 2.710610964564512\t 5.850835766790899\t 6.714271677184292\n",
            "16 \t [-5.  0.]\t 308.12909601160663\t 2.710610964564512\t 5.966461604162261\t 5.76973165710053\n",
            "17 \t [-5.          3.53781533]\t 199.0338227871763\t 2.710610964564512\t 5.324275426382546\t 5.4207853001750195\n",
            "18 \t [3.04087968 5.338825  ]\t 9.350637021180262\t 2.710610964564512\t 4.6431159869469605\t 5.991173762071083\n",
            "19 \t [-1.39198267  9.11925587]\t 12.13496378846324\t 2.710610964564512\t 4.235567317118861\t 4.592055286423711\n",
            "20 \t [ 6.92068317 13.3114756 ]\t 165.06374753602876\t 2.710610964564512\t 5.307368673626913\t 5.5363372066923295\n"
          ]
        }
      ],
      "source": [
        "### EXACT STP CBM GRADIENTS\n",
        "\n",
        "np.random.seed(run_num_10)\n",
        "surrogate_exact_10 = dtStudentProcess(cov_func, optimize=opt, nu = df)\n",
        "\n",
        "exact_10 = dGPGO(surrogate_exact_10, Acquisition_grad(util), objfunc, param)\n",
        "exact_10.run(init_evals=n_init, max_iter=iters)\n"
      ]
    },
    {
      "cell_type": "code",
      "execution_count": 44,
      "metadata": {
        "id": "VwbLIP9cIv-F",
        "colab": {
          "base_uri": "https://localhost:8080/"
        },
        "outputId": "193218f1-3b60-45f9-846e-17f4e21ded68"
      },
      "outputs": [
        {
          "output_type": "stream",
          "name": "stdout",
          "text": [
            "Evaluation \t Proposed point \t  Current eval. \t  Best eval. \t        Exact CBM: StdDev. x \t Approx CBM: StdDev. x \n",
            "init\t [-2.29595467  0.29212862]\t 104.49282729548965\t 22.37435843952312\t    \t    \n",
            "init\t [ 1.9482779  10.87400894]\t 62.47758067812407\t 22.37435843952312\t    \t    \n",
            "init\t [1.30305407 7.28140647]\t 22.37435843952312\t 22.37435843952312\t    \t    \n",
            "init\t [-4.80828778  7.31057411]\t 97.94503054415523\t 22.37435843952312\t    \t    \n",
            "init\t [ 9.12709979 12.76192634]\t 111.62900800771942\t 22.37435843952312\t    \t    \n",
            "\u001b[1m\u001b[92m1\u001b[0m\t \u001b[1m\u001b[92m[6.94653631 0.95529646]\u001b[0m\t \u001b[1m\u001b[92m17.615403152614682\u001b[0m\t \u001b[1m\u001b[92m17.615403152614682\u001b[0m\t \u001b[1m\u001b[92m4.975582711076718\u001b[0m\t \u001b[1m\u001b[92m5.471050216974576\u001b[0m\n",
            "\u001b[1m\u001b[92m2\u001b[0m\t \u001b[1m\u001b[92m[9.17949494 6.03788729]\u001b[0m\t \u001b[1m\u001b[92m14.83805978369079\u001b[0m\t \u001b[1m\u001b[92m14.83805978369079\u001b[0m\t \u001b[1m\u001b[92m4.971014660722949\u001b[0m\t \u001b[1m\u001b[92m5.6383646741241344\u001b[0m\n",
            "3  \t [ 4.55503167 15.        ]\t 192.61838233843488\t 14.83805978369079\t 5.281740151626045\t 6.351864777576404\n",
            "\u001b[1m\u001b[92m4\u001b[0m\t \u001b[1m\u001b[92m[2.25080808 2.66397836]\u001b[0m\t \u001b[1m\u001b[92m4.128810901005437\u001b[0m\t \u001b[1m\u001b[92m4.128810901005437\u001b[0m\t \u001b[1m\u001b[92m4.504294068435051\u001b[0m\t \u001b[1m\u001b[92m4.350043104285614\u001b[0m\n",
            "\u001b[1m\u001b[92m5\u001b[0m\t \u001b[1m\u001b[92m[-2.78859355 11.96274991]\u001b[0m\t \u001b[1m\u001b[92m1.2603462735579996\u001b[0m\t \u001b[1m\u001b[92m1.2603462735579996\u001b[0m\t \u001b[1m\u001b[92m5.307765843975785\u001b[0m\t \u001b[1m\u001b[92m5.502112820885018\u001b[0m\n",
            "6  \t [6.43645684 9.64474589]\t 92.36705154594212\t 1.2603462735579996\t 5.360237205472113\t 5.2924048496450355\n",
            "7  \t [-0.1737625  14.69862647]\t 90.32317610203522\t 1.2603462735579996\t 5.289792292931539\t 5.87904028403516\n",
            "8  \t [5.32310694 4.84071106]\t 28.84491843899799\t 1.2603462735579996\t 5.213219102672337\t 5.35666486666831\n",
            "9  \t [-5.          3.24534903]\t 207.1034228499718\t 1.2603462735579996\t 5.659786373763138\t 5.704308374033317\n",
            "10 \t [-0.42405639  3.89075795]\t 26.633006576402806\t 1.2603462735579996\t 5.775903848294096\t 6.484384740052468\n",
            "11 \t [-5.         13.36925696]\t 27.30166617399657\t 1.2603462735579996\t 6.346109746484771\t 6.647647060700355\n",
            "\u001b[1m\u001b[92m12\u001b[0m\t \u001b[1m\u001b[92m[9.65963807 2.90070179]\u001b[0m\t \u001b[1m\u001b[92m0.710100586659852\u001b[0m\t \u001b[1m\u001b[92m0.710100586659852\u001b[0m\t \u001b[1m\u001b[92m5.760150409165018\u001b[0m\t \u001b[1m\u001b[92m6.291282762582385\u001b[0m\n",
            "13 \t [-1.50529146  8.96173322]\t 10.703210816879889\t 0.710100586659852\t 5.552044731021392\t 6.202399255949867\n",
            "14 \t [2.7073524 0.       ]\t 8.248135054494496\t 0.710100586659852\t 5.4708094699942444\t 5.756145030623437\n",
            "15 \t [10.         9.1406952]\t 39.61497575163594\t 0.710100586659852\t 5.682942361870351\t 5.5499599656490615\n",
            "16 \t [4.25393804 7.39287554]\t 39.687022705542915\t 0.710100586659852\t 5.636790928262592\t 5.712049668726866\n",
            "17 \t [-1.50013527  6.26770072]\t 16.488712552563562\t 0.710100586659852\t 4.121739413507928\t 4.423578037638143\n",
            "18 \t [4.56643874 1.87036829]\t 8.800923309231594\t 0.710100586659852\t 4.687139909637689\t 5.995448558633741\n",
            "19 \t [-4.10614025 10.21905917]\t 24.72636091931577\t 0.710100586659852\t 5.230705007430075\t 6.062821727897108\n",
            "20 \t [-3.44867312  8.8501913 ]\t 18.27751859367244\t 0.710100586659852\t 5.372782398722243\t 5.3124901228409325\n"
          ]
        }
      ],
      "source": [
        "### EXACT STP CBM GRADIENTS\n",
        "\n",
        "np.random.seed(run_num_11)\n",
        "surrogate_exact_11 = dtStudentProcess(cov_func, optimize=opt, nu = df)\n",
        "\n",
        "exact_11 = dGPGO(surrogate_exact_11, Acquisition_grad(util), objfunc, param)\n",
        "exact_11.run(init_evals=n_init, max_iter=iters)\n"
      ]
    },
    {
      "cell_type": "code",
      "execution_count": 45,
      "metadata": {
        "id": "MlUNFjc-JTBY",
        "colab": {
          "base_uri": "https://localhost:8080/"
        },
        "outputId": "353526d8-4728-42a8-8188-bd1b94d56d48"
      },
      "outputs": [
        {
          "output_type": "stream",
          "name": "stdout",
          "text": [
            "Evaluation \t Proposed point \t  Current eval. \t  Best eval. \t        Exact CBM: StdDev. x \t Approx CBM: StdDev. x \n",
            "init\t [-2.68755736 11.10074545]\t 1.3827702760021356\t 0.5499315281120278\t    \t    \n",
            "init\t [-1.05027477  8.0060909 ]\t 14.81231853080056\t 0.5499315281120278\t    \t    \n",
            "init\t [-4.78137556 13.78120512]\t 18.401131000214548\t 0.5499315281120278\t    \t    \n",
            "init\t [8.51072281 0.50132141]\t 5.855172364344769\t 0.5499315281120278\t    \t    \n",
            "init\t [9.35424004 2.05813982]\t 0.5499315281120278\t 0.5499315281120278\t    \t    \n",
            "1  \t [10.          5.17418284]\t 6.657364043671367\t 0.5499315281120278\t 4.57955228668599\t 4.26826945545409\n",
            "2  \t [ 8.50155249 13.79797306]\t 148.00655208378976\t 0.5499315281120278\t 4.973741172444071\t 4.448296979669593\n",
            "3  \t [-4.8799499   0.15657603]\t 290.0404981832191\t 0.5499315281120278\t 5.22654788902761\t 5.136419301058813\n",
            "4  \t [2.7469577 0.       ]\t 7.910911191741004\t 0.5499315281120278\t 4.343231273493836\t 4.371673221690485\n",
            "5  \t [4.4290729  8.00835539]\t 49.86889015892532\t 0.5499315281120278\t 4.440829873132078\t 4.694154037068732\n",
            "6  \t [ 1.75662035 13.37131697]\t 103.648338697447\t 0.5499315281120278\t 5.464660036390601\t 5.3485160834749115\n",
            "7  \t [-4.99788305  5.42469047]\t 150.92110203704618\t 0.5499315281120278\t 5.304234387150546\t 5.811962170564647\n",
            "8  \t [1.24515209 4.06679603]\t 13.094934979149578\t 0.5499315281120278\t 5.319857442680643\t 5.85800676982955\n",
            "9  \t [5.41152187 3.68759287]\t 22.515699438328095\t 0.5499315281120278\t 5.077244818416148\t 5.285925610398655\n",
            "10 \t [10.          9.24502378]\t 40.906543248945056\t 0.5499315281120278\t 5.465134027961768\t 6.016226732891416\n",
            "11 \t [-0.57545174  0.        ]\t 66.4783111087667\t 0.5499315281120278\t 5.62630671748446\t 5.689797903505524\n",
            "12 \t [5.61847619 0.07726916]\t 18.67852902817349\t 0.5499315281120278\t 5.01963979140146\t 5.53377783680333\n",
            "13 \t [-4.65738307  9.30367587]\t 57.23330566951975\t 0.5499315281120278\t 4.388950893054278\t 5.646057814708608\n",
            "14 \t [ 5.07757391 15.        ]\t 202.5082986788363\t 0.5499315281120278\t 5.0157057412027255\t 5.2505861802479235\n",
            "15 \t [-1.60687169  3.21612758]\t 41.85756703442139\t 0.5499315281120278\t 4.908950425892186\t 5.0081072592530465\n",
            "16 \t [-1.63732215 14.61683398]\t 41.44976024963829\t 0.5499315281120278\t 5.0405755246905155\t 5.094101122192912\n",
            "17 \t [ 5.48379044 11.26608505]\t 118.88544980302102\t 0.5499315281120278\t 5.581599481081698\t 5.354231887067327\n",
            "18 \t [ 0.84037071 10.11313067]\t 45.12945402386461\t 0.5499315281120278\t 5.9073638739029395\t 5.652388125297812\n",
            "19 \t [7.29019893 8.29723834]\t 64.6109512520734\t 0.5499315281120278\t 4.910901483913705\t 6.292718816706978\n",
            "20 \t [2.27426037 2.20534348]\t 4.499790696840801\t 0.5499315281120278\t 4.149212009067072\t 4.149212009067072\n"
          ]
        }
      ],
      "source": [
        "### EXACT STP CBM GRADIENTS\n",
        "\n",
        "np.random.seed(run_num_12)\n",
        "surrogate_exact_12 = dtStudentProcess(cov_func, optimize=opt, nu = df)\n",
        "\n",
        "exact_12 = dGPGO(surrogate_exact_12, Acquisition_grad(util), objfunc, param)\n",
        "exact_12.run(init_evals=n_init, max_iter=iters)\n"
      ]
    },
    {
      "cell_type": "code",
      "execution_count": 46,
      "metadata": {
        "id": "9BsKdU9eJTFL",
        "colab": {
          "base_uri": "https://localhost:8080/"
        },
        "outputId": "b801bf4e-4e19-4c6f-c3cc-214937099284"
      },
      "outputs": [
        {
          "output_type": "stream",
          "name": "stdout",
          "text": [
            "Evaluation \t Proposed point \t  Current eval. \t  Best eval. \t        Exact CBM: StdDev. x \t Approx CBM: StdDev. x \n",
            "init\t [6.66553616 3.5631183 ]\t 24.823670200298267\t 18.038943061558626\t    \t    \n",
            "init\t [ 7.36417799 14.48623797]\t 188.7803334745195\t 18.038943061558626\t    \t    \n",
            "init\t [9.58901671 6.80173871]\t 18.038943061558626\t 18.038943061558626\t    \t    \n",
            "init\t [ 4.13563694 11.63289772]\t 104.87319703906111\t 18.038943061558626\t    \t    \n",
            "init\t [ 4.62420017 10.83027344]\t 98.03271225790056\t 18.038943061558626\t    \t    \n",
            "1  \t [-5.          2.39871762]\t 231.42769632807992\t 18.038943061558626\t 5.566732936358889\t 5.9413861559801555\n",
            "\u001b[1m\u001b[92m2\u001b[0m\t \u001b[1m\u001b[92m[-3.06562888 11.40851515]\u001b[0m\t \u001b[1m\u001b[92m0.8943531028899869\u001b[0m\t \u001b[1m\u001b[92m0.8943531028899869\u001b[0m\t \u001b[1m\u001b[92m5.356317949780224\u001b[0m\t \u001b[1m\u001b[92m5.6217484878807245\u001b[0m\n",
            "3  \t [-0.14948749  6.02322162]\t 19.542367332458138\t 0.8943531028899869\t 5.526472890104378\t 5.5453978184026145\n",
            "4  \t [-0.26333973 15.        ]\t 92.7489556774061\t 0.8943531028899869\t 5.877756828933237\t 6.026492371646551\n",
            "5  \t [2.30706398 0.        ]\t 12.646874660427228\t 0.8943531028899869\t 5.32918561265898\t 5.516023729412209\n",
            "6  \t [-4.31816764  7.37431851]\t 68.83427108634748\t 0.8943531028899869\t 5.579698290444745\t 5.436615756460462\n",
            "7  \t [3.80335433 6.55475664]\t 24.885412041245104\t 0.8943531028899869\t 6.186998047371407\t 5.948001292449095\n",
            "8  \t [-1.3469511  0.       ]\t 82.32430608755729\t 0.8943531028899869\t 6.050453481492039\t 6.1907966022237835\n",
            "9  \t [0.07900947 9.93136758]\t 36.02579734328144\t 0.8943531028899869\t 5.4835638187025655\t 5.985137753040482\n",
            "10 \t [3.25738064 2.97150352]\t 1.0785172802799536\t 0.8943531028899869\t 5.677710193627646\t 6.24251601342229\n",
            "11 \t [ 9.18772564 10.64843017]\t 70.65853805526977\t 0.8943531028899869\t 6.032545025161557\t 6.892072138886359\n",
            "12 \t [10.          2.89649035]\t 1.9544757259804495\t 0.8943531028899869\t 5.61680874596189\t 6.05556023011359\n",
            "13 \t [-4.0053206  13.75312181]\t 4.244027062022726\t 0.8943531028899869\t 6.679915951611039\t 7.245272096782065\n",
            "14 \t [6.35664781 0.        ]\t 20.79290168740146\t 0.8943531028899869\t 5.441570293276381\t 5.075873406276424\n",
            "15 \t [0.47818392 3.09978382]\t 23.228332741407872\t 0.8943531028899869\t 5.903414042007034\t 5.843140387334431\n",
            "16 \t [6.67053116 7.87902647]\t 64.41699104217625\t 0.8943531028899869\t 5.871336106735531\t 5.896169850542881\n",
            "17 \t [ 3.4621513 15.       ]\t 168.89310233107886\t 0.8943531028899869\t 6.814416383229454\t 6.301261751463896\n",
            "18 \t [-4.96465543 10.36926043]\t 57.506017914512135\t 0.8943531028899869\t 4.623502125392028\t 5.592209705389818\n",
            "19 \t [-2.17102462  9.07344264]\t 5.557999806641309\t 0.8943531028899869\t 5.6583699819712\t 5.815528774596957\n",
            "20 \t [-2.33900093  4.0800555 ]\t 43.64212274724158\t 0.8943531028899869\t 6.1087969088625735\t 6.243286367190345\n"
          ]
        }
      ],
      "source": [
        "### EXACT STP CBM GRADIENTS\n",
        "\n",
        "np.random.seed(run_num_13)\n",
        "surrogate_exact_13 = dtStudentProcess(cov_func, optimize=opt, nu = df)\n",
        "\n",
        "exact_13 = dGPGO(surrogate_exact_13, Acquisition_grad(util), objfunc, param)\n",
        "exact_13.run(init_evals=n_init, max_iter=iters)\n"
      ]
    },
    {
      "cell_type": "code",
      "execution_count": 47,
      "metadata": {
        "id": "k6GjFBr1JTJf",
        "colab": {
          "base_uri": "https://localhost:8080/"
        },
        "outputId": "17fd26eb-4537-4b87-bc8c-1eb8ac277556"
      },
      "outputs": [
        {
          "output_type": "stream",
          "name": "stdout",
          "text": [
            "Evaluation \t Proposed point \t  Current eval. \t  Best eval. \t        Exact CBM: StdDev. x \t Approx CBM: StdDev. x \n",
            "init\t [ 2.70915016 11.59747578]\t 81.58264375064097\t 1.4149920024014744\t    \t    \n",
            "init\t [8.05641529 0.12070423]\t 10.148649076616518\t 1.4149920024014744\t    \t    \n",
            "init\t [-0.35396112 14.36405609]\t 79.6056658956529\t 1.4149920024014744\t    \t    \n",
            "init\t [2.69675068 4.77426637]\t 5.855607664288365\t 1.4149920024014744\t    \t    \n",
            "init\t [3.08799906 3.31882414]\t 1.4149920024014744\t 1.4149920024014744\t    \t    \n",
            "1  \t [-5.         1.0819993]\t 272.1063957360596\t 1.4149920024014744\t 5.344260027455295\t 5.466010029221133\n",
            "2  \t [ 9.02510452 14.92575454]\t 164.15736583327134\t 1.4149920024014744\t 5.55713710106284\t 5.72937727664364\n",
            "3  \t [-4.0509639  8.5721018]\t 40.043984045668736\t 1.4149920024014744\t 4.948510827052573\t 5.633046203933524\n",
            "4  \t [8.19772537 6.72053896]\t 32.63212233587686\t 1.4149920024014744\t 4.122730183652584\t 4.6749022185662605\n",
            "5  \t [-1.48881788  4.74008733]\t 26.11967701913846\t 1.4149920024014744\t 4.570242028498947\t 4.626571553407258\n",
            "6  \t [ 9.99359543 10.54800947]\t 58.933519440028796\t 1.4149920024014744\t 4.777029084595163\t 4.5559095970556465\n",
            "7  \t [0.54382018 0.        ]\t 44.97360088395646\t 1.4149920024014744\t 3.992446621189834\t 4.470934314065803\n",
            "8  \t [-5.         13.15876183]\t 28.953358545929177\t 1.4149920024014744\t 5.3828289094079045\t 5.257523242569098\n",
            "9  \t [9.92957767 3.38152349]\t 1.7960662721761587\t 1.4149920024014744\t 4.874917075730696\t 5.1376472095163574\n",
            "10 \t [4.48656175 0.77136282]\t 8.323912136709748\t 1.4149920024014744\t 4.741456862991884\t 5.268445959310292\n",
            "11 \t [ 4.92141038 14.93883519]\t 198.11349242720553\t 1.4149920024014744\t 4.538512084807665\t 4.497058312746256\n",
            "12 \t [-0.12819027  8.62266432]\t 25.362896526346294\t 1.4149920024014744\t 4.68046545354801\t 5.651125254353088\n",
            "13 \t [6.17868621 3.64842093]\t 26.053948937931914\t 1.4149920024014744\t 4.912303111152298\t 5.144496352718236\n",
            "14 \t [4.26871138 7.87422454]\t 45.74605529791631\t 1.4149920024014744\t 5.035971592359968\t 5.351523473038658\n",
            "15 \t [ 6.39381017 11.19180664]\t 121.28502355414635\t 1.4149920024014744\t 5.057526191384406\t 5.170460938082387\n",
            "16 \t [-1.64536031 11.11126027]\t 13.876533381834744\t 1.4149920024014744\t 5.005007554633819\t 5.890356733453522\n",
            "17 \t [6.21373987 6.32584497]\t 46.90501834760319\t 1.4149920024014744\t 5.4138954683323\t 5.428782775564886\n",
            "18 \t [-4.37580914  5.98237468]\t 96.23582419783779\t 1.4149920024014744\t 4.483111456634694\t 4.9370568088798\n",
            "19 \t [1.18613584 2.58164659]\t 16.53515063420521\t 1.4149920024014744\t 4.898145428979875\t 6.513317476151952\n",
            "20 \t [1.64788881 9.71243897]\t 45.07268886557069\t 1.4149920024014744\t 4.751747689983524\t 5.223524801663607\n"
          ]
        }
      ],
      "source": [
        "### EXACT STP CBM GRADIENTS\n",
        "\n",
        "np.random.seed(run_num_14)\n",
        "surrogate_exact_14 = dtStudentProcess(cov_func, optimize=opt, nu = df)\n",
        "\n",
        "exact_14 = dGPGO(surrogate_exact_14, Acquisition_grad(util), objfunc, param)\n",
        "exact_14.run(init_evals=n_init, max_iter=iters)\n"
      ]
    },
    {
      "cell_type": "code",
      "execution_count": 48,
      "metadata": {
        "id": "dPS8WB3aJTN6",
        "colab": {
          "base_uri": "https://localhost:8080/"
        },
        "outputId": "0c91feae-6241-4444-8311-027c2942b291"
      },
      "outputs": [
        {
          "output_type": "stream",
          "name": "stdout",
          "text": [
            "Evaluation \t Proposed point \t  Current eval. \t  Best eval. \t        Exact CBM: StdDev. x \t Approx CBM: StdDev. x \n",
            "init\t [7.73226546 2.68343887]\t 12.768724532005583\t 12.768724532005583\t    \t    \n",
            "init\t [-4.18455179  5.42307669]\t 95.39334176626551\t 12.768724532005583\t    \t    \n",
            "init\t [-0.86898607  7.95000337]\t 16.419487782111716\t 12.768724532005583\t    \t    \n",
            "init\t [-0.41121626  4.56711539]\t 23.250362743740954\t 12.768724532005583\t    \t    \n",
            "init\t [-3.32388086  3.74848521]\t 80.99796277938532\t 12.768724532005583\t    \t    \n",
            "1  \t [ 6.5655417  11.87699252]\t 134.95011349993544\t 12.768724532005583\t 5.155210804211745\t 5.226282353167729\n",
            "2  \t [-4.77493765 13.49591113]\t 19.896906503438096\t 12.768724532005583\t 5.684681292683775\t 6.141043192207497\n",
            "3  \t [ 1.00812085 14.79665801]\t 120.5918911833693\t 12.768724532005583\t 6.137457947608504\t 6.19973484149697\n",
            "\u001b[1m\u001b[92m4\u001b[0m\t \u001b[1m\u001b[92m[2.73090544 0.26234661]\u001b[0m\t \u001b[1m\u001b[92m6.741042975340467\u001b[0m\t \u001b[1m\u001b[92m6.741042975340467\u001b[0m\t \u001b[1m\u001b[92m5.1998542075996115\u001b[0m\t \u001b[1m\u001b[92m5.344234207341157\u001b[0m\n",
            "5  \t [9.99079035 7.40755314]\t 21.37632344300185\t 6.741042975340467\t 6.13504090586661\t 6.167459217080057\n",
            "6  \t [4.30550718 6.81637474]\t 34.01567816201057\t 6.741042975340467\t 5.51622240598425\t 5.870647818716594\n",
            "7  \t [10. 15.]\t 145.87219087939556\t 6.741042975340467\t 4.827912056547888\t 5.139773066627899\n",
            "8  \t [-5.  0.]\t 308.12909601160663\t 6.741042975340467\t 5.618711666936482\t 5.8716425694244005\n",
            "9  \t [ 2.66429806 10.11329004]\t 56.77459359227218\t 6.741042975340467\t 4.677104601917071\t 5.769021990536289\n",
            "10 \t [-1.90951049 11.75573267]\t 11.852252581495701\t 6.741042975340467\t 4.387339443410952\t 6.039135836230859\n",
            "11 \t [-5.          9.52590738]\t 71.42161068705929\t 6.741042975340467\t 4.765349007367704\t 4.914037255534258\n",
            "\u001b[1m\u001b[92m12\u001b[0m\t \u001b[1m\u001b[92m[3.24666985 3.35829591]\u001b[0m\t \u001b[1m\u001b[92m1.8053134080801048\u001b[0m\t \u001b[1m\u001b[92m1.8053134080801048\u001b[0m\t \u001b[1m\u001b[92m4.378530810667817\u001b[0m\t \u001b[1m\u001b[92m4.640825475200156\u001b[0m\n",
            "13 \t [ 4.83612652 15.        ]\t 198.20582497149442\t 1.8053134080801048\t 5.373448826779335\t 6.1590316604957\n",
            "14 \t [-1.09160222  1.22292566]\t 58.89406749160894\t 1.8053134080801048\t 4.78844402234872\t 5.265490827359487\n",
            "15 \t [9.93999881 4.49485234]\t 4.049873706827713\t 1.8053134080801048\t 4.379213363794836\t 5.408919054659585\n",
            "16 \t [7.74593404 5.22656108]\t 25.502785823850534\t 1.8053134080801048\t 5.607100078279977\t 5.727673936309232\n",
            "17 \t [5.24841686 2.88853973]\t 17.737045514665482\t 1.8053134080801048\t 4.95098885042544\t 5.930798551915476\n",
            "18 \t [5.08090857 0.22924336]\t 14.497823062483832\t 1.8053134080801048\t 4.828569733806699\t 5.137707392521477\n",
            "19 \t [10.         10.89011692]\t 64.15043846665682\t 1.8053134080801048\t 5.266951204875526\t 4.793034769389575\n",
            "20 \t [7.27750915 8.17862001]\t 63.10980950705906\t 1.8053134080801048\t 4.754306733614147\t 5.262414945511531\n"
          ]
        }
      ],
      "source": [
        "### EXACT STP CBM GRADIENTS\n",
        "\n",
        "np.random.seed(run_num_15)\n",
        "surrogate_exact_15 = dtStudentProcess(cov_func, optimize=opt, nu = df)\n",
        "\n",
        "exact_15 = dGPGO(surrogate_exact_15, Acquisition_grad(util), objfunc, param)\n",
        "exact_15.run(init_evals=n_init, max_iter=iters)\n"
      ]
    },
    {
      "cell_type": "code",
      "execution_count": 49,
      "metadata": {
        "id": "lu8ki9XIQPPN",
        "colab": {
          "base_uri": "https://localhost:8080/"
        },
        "outputId": "ac2e457e-922f-4a16-f189-e0739cb45bb2"
      },
      "outputs": [
        {
          "output_type": "stream",
          "name": "stdout",
          "text": [
            "Evaluation \t Proposed point \t  Current eval. \t  Best eval. \t        Exact CBM: StdDev. x \t Approx CBM: StdDev. x \n",
            "init\t [-1.65063381  7.84745012]\t 10.514702126319445\t 2.715864006988424\t    \t    \n",
            "init\t [3.26052185 0.68402925]\t 2.715864006988424\t 2.715864006988424\t    \t    \n",
            "init\t [0.41093253 3.34621413]\t 22.889515127492515\t 2.715864006988424\t    \t    \n",
            "init\t [5.33089243 2.45597138]\t 17.178157611778595\t 2.715864006988424\t    \t    \n",
            "init\t [-3.945127  14.1151629]\t 3.3649224341694195\t 2.715864006988424\t    \t    \n",
            "1  \t [ 5.63879248 14.58068289]\t 198.51319639462758\t 2.715864006988424\t 5.617895548228122\t 5.55495043443419\n",
            "2  \t [9.92314199 8.33693272]\t 30.82816637561242\t 2.715864006988424\t 5.975158833947352\t 5.509467186399391\n",
            "3  \t [-5.  0.]\t 308.12909601160663\t 2.715864006988424\t 5.624816632633632\t 5.560789932932955\n",
            "4  \t [4.15024505 8.8379068 ]\t 56.98279663310739\t 2.715864006988424\t 5.1463076109385195\t 5.406788528120336\n",
            "5  \t [ 0.8310123  11.57226008]\t 62.78985808204933\t 2.715864006988424\t 5.16000505760724\t 5.249360394297261\n",
            "\u001b[1m\u001b[92m6\u001b[0m\t \u001b[1m\u001b[92m[10.          3.10663353]\u001b[0m\t \u001b[1m\u001b[92m1.95388956762174\u001b[0m\t \u001b[1m\u001b[92m1.95388956762174\u001b[0m\t \u001b[1m\u001b[92m6.133196179864839\u001b[0m\t \u001b[1m\u001b[92m6.663119910338637\u001b[0m\n",
            "7  \t [10.         12.91249306]\t 100.14205347586547\t 1.95388956762174\t 4.723544711889266\t 4.665515227837955\n",
            "8  \t [-3.93748018  4.60452819]\t 96.69430137934091\t 1.95388956762174\t 4.8350091692955806\t 5.865144503512911\n",
            "9  \t [7.78435937 0.        ]\t 12.738426162796639\t 1.95388956762174\t 4.586515227547544\t 4.404951517634187\n",
            "10 \t [-5.          8.82510789]\t 82.65101468355273\t 1.95388956762174\t 5.00448386639877\t 5.983593963271772\n",
            "11 \t [6.89093619 5.83107814]\t 39.63575991080827\t 1.95388956762174\t 4.877435643642528\t 5.993018697241642\n",
            "12 \t [-0.8848875  0.       ]\t 72.47429848589269\t 1.95388956762174\t 4.916711751639682\t 5.0287663187603915\n",
            "13 \t [-0.42120138 15.        ]\t 87.76444461698128\t 1.95388956762174\t 4.580334228145553\t 5.335417271404601\n",
            "14 \t [3.44933053 5.30761377]\t 11.479007778947127\t 1.95388956762174\t 4.7591220086314925\t 5.41873410805506\n",
            "15 \t [1.05713668 7.65403322]\t 24.907991033558595\t 1.95388956762174\t 4.8751468361473815\t 5.588157099634626\n",
            "16 \t [-2.20737276 10.70307444]\t 4.606201971718686\t 1.95388956762174\t 4.995170742392116\t 5.668993768793106\n",
            "17 \t [-4.94687814 11.93860187]\t 38.19973336329991\t 1.95388956762174\t 5.273166248052006\t 5.175147473653671\n",
            "18 \t [7.35028945 9.29568338]\t 78.86859358955633\t 1.95388956762174\t 5.642174845934595\t 6.549656856822383\n",
            "19 \t [5.27600891 0.        ]\t 16.567493133174672\t 1.95388956762174\t 4.938049602425685\t 5.16237326613655\n",
            "20 \t [ 3.90176114 11.82048926]\t 104.3184828046954\t 1.95388956762174\t 5.470334334057237\t 5.6491096007915385\n"
          ]
        }
      ],
      "source": [
        "### EXACT STP CBM GRADIENTS\n",
        "\n",
        "np.random.seed(run_num_16)\n",
        "surrogate_exact_16 = dtStudentProcess(cov_func, optimize=opt, nu = df)\n",
        "\n",
        "exact_16 = dGPGO(surrogate_exact_16, Acquisition_grad(util), objfunc, param)\n",
        "exact_16.run(init_evals=n_init, max_iter=iters)\n"
      ]
    },
    {
      "cell_type": "code",
      "execution_count": 50,
      "metadata": {
        "id": "yU2SflSsJTUs",
        "colab": {
          "base_uri": "https://localhost:8080/"
        },
        "outputId": "6270a604-889f-4a92-bd12-08f7055245b1"
      },
      "outputs": [
        {
          "output_type": "stream",
          "name": "stdout",
          "text": [
            "Evaluation \t Proposed point \t  Current eval. \t  Best eval. \t        Exact CBM: StdDev. x \t Approx CBM: StdDev. x \n",
            "init\t [-0.58002496  7.95880133]\t 19.016141117164256\t 19.016141117164256\t    \t    \n",
            "init\t [-2.1271882   1.01850537]\t 85.05949339404415\t 19.016141117164256\t    \t    \n",
            "init\t [6.8047819  9.84500283]\t 93.89792695202516\t 19.016141117164256\t    \t    \n",
            "init\t [4.56281344 8.63404341]\t 60.50217141122736\t 19.016141117164256\t    \t    \n",
            "init\t [-4.41405626  5.36720407]\t 110.70834086593878\t 19.016141117164256\t    \t    \n",
            "\u001b[1m\u001b[92m1\u001b[0m\t \u001b[1m\u001b[92m[9.76575296 0.98553483]\u001b[0m\t \u001b[1m\u001b[92m4.1623278326263815\u001b[0m\t \u001b[1m\u001b[92m4.1623278326263815\u001b[0m\t \u001b[1m\u001b[92m6.338118227567892\u001b[0m\t \u001b[1m\u001b[92m7.345494624271939\u001b[0m\n",
            "2  \t [-0.36591853 14.49945231]\t 81.3728947682288\t 4.1623278326263815\t 5.1386198306020185\t 5.368052956972484\n",
            "\u001b[1m\u001b[92m3\u001b[0m\t \u001b[1m\u001b[92m[3.74599703 2.35814314]\u001b[0m\t \u001b[1m\u001b[92m2.3563457989420957\u001b[0m\t \u001b[1m\u001b[92m2.3563457989420957\u001b[0m\t \u001b[1m\u001b[92m5.253686738440435\u001b[0m\t \u001b[1m\u001b[92m4.986947524668276\u001b[0m\n",
            "4  \t [10. 15.]\t 145.87219087939556\t 2.3563457989420957\t 6.253587235208989\t 6.577360322125003\n",
            "5  \t [-4.50675185 10.74029712]\t 33.6051366965763\t 2.3563457989420957\t 5.009941401730258\t 5.819857031631703\n",
            "6  \t [ 4.74100142 15.        ]\t 196.3746563341335\t 2.3563457989420957\t 5.094045645316338\t 5.623362070902444\n",
            "7  \t [7.03612503 4.77280789]\t 29.7914317346896\t 2.3563457989420957\t 5.156845830285398\t 5.634452436267132\n",
            "8  \t [10.          7.36912465]\t 21.006564029035324\t 2.3563457989420957\t 5.64192901367635\t 5.835280771198279\n",
            "9  \t [6.22363141 0.        ]\t 20.79192952514334\t 2.3563457989420957\t 5.299381750579391\t 6.2737739869543026\n",
            "10 \t [0.56306018 4.40034396]\t 18.6740342712478\t 2.3563457989420957\t 4.6235358916634155\t 5.651824612968761\n",
            "11 \t [1.65293259 0.18963965]\t 21.691415041304047\t 2.3563457989420957\t 5.776085940632922\t 6.280536096483523\n",
            "12 \t [ 1.71861221 11.03965665]\t 63.24744196148439\t 2.3563457989420957\t 5.875511918518642\t 6.266306450544436\n",
            "13 \t [ 9.95479943 11.43093006]\t 73.49951928197774\t 2.3563457989420957\t 5.901516705705282\t 5.797064237927789\n",
            "14 \t [4.00268917 4.71604479]\t 12.84422799035886\t 2.3563457989420957\t 5.3447824432923845\t 5.53882590978522\n",
            "15 \t [-5.  0.]\t 308.12909601160663\t 2.3563457989420957\t 5.639916165200137\t 5.512593027699294\n",
            "16 \t [-4.01734119 14.11612005]\t 3.982065752592847\t 2.3563457989420957\t 4.672357111447448\t 4.959214624004069\n",
            "17 \t [10.          3.99778197]\t 2.9328181696793196\t 2.3563457989420957\t 4.036696300552127\t 4.283945456466933\n",
            "18 \t [-1.42414521 10.91569533]\t 17.10130364077017\t 2.3563457989420957\t 5.01798497942738\t 4.895779543892201\n",
            "19 \t [-3.07210931  8.06934073]\t 16.736984171426307\t 2.3563457989420957\t 5.226506842713497\t 5.427236528728814\n",
            "20 \t [1.97268038 0.95935351]\t 12.022097562939827\t 2.3563457989420957\t 4.93533839351326\t 4.738562287455709\n"
          ]
        }
      ],
      "source": [
        "### EXACT STP CBM GRADIENTS\n",
        "\n",
        "np.random.seed(run_num_17)\n",
        "surrogate_exact_17 = dtStudentProcess(cov_func, optimize=opt, nu = df)\n",
        "\n",
        "exact_17 = dGPGO(surrogate_exact_17, Acquisition_grad(util), objfunc, param)\n",
        "exact_17.run(init_evals=n_init, max_iter=iters)\n"
      ]
    },
    {
      "cell_type": "code",
      "execution_count": 51,
      "metadata": {
        "id": "eVEhyZ9BQS-1",
        "colab": {
          "base_uri": "https://localhost:8080/"
        },
        "outputId": "b539c19e-84fc-461d-e0c7-827565191ba8"
      },
      "outputs": [
        {
          "output_type": "stream",
          "name": "stdout",
          "text": [
            "Evaluation \t Proposed point \t  Current eval. \t  Best eval. \t        Exact CBM: StdDev. x \t Approx CBM: StdDev. x \n",
            "init\t [4.75561363 7.58180061]\t 49.215059064668324\t 8.150075223157177\t    \t    \n",
            "init\t [8.17902206 2.72760338]\t 8.150075223157177\t 8.150075223157177\t    \t    \n",
            "init\t [ 7.78349603 11.25204429]\t 106.98107856533271\t 8.150075223157177\t    \t    \n",
            "init\t [ 4.99152501 14.81843172]\t 196.08601750690153\t 8.150075223157177\t    \t    \n",
            "init\t [-1.14547366  0.42458888]\t 71.23649635555944\t 8.150075223157177\t    \t    \n",
            "\u001b[1m\u001b[92m1\u001b[0m\t \u001b[1m\u001b[92m[-2.12483893 10.71385111]\u001b[0m\t \u001b[1m\u001b[92m5.508754856016457\u001b[0m\t \u001b[1m\u001b[92m5.508754856016457\u001b[0m\t \u001b[1m\u001b[92m5.710337807030586\u001b[0m\t \u001b[1m\u001b[92m6.37940636957513\u001b[0m\n",
            "2  \t [-4.62147141  5.94251158]\t 112.59597701959697\t 5.508754856016457\t 5.6014265888181525\t 6.381530953225514\n",
            "3  \t [0.88788193 4.41747816]\t 16.133054615947543\t 5.508754856016457\t 5.323049334112297\t 5.422852346705004\n",
            "4  \t [4.16828005 0.        ]\t 7.623120165927697\t 5.508754856016457\t 6.191886380981567\t 5.407800185677065\n",
            "5  \t [10. 15.]\t 145.87219087939556\t 5.508754856016457\t 4.964468219141802\t 4.905096356491565\n",
            "6  \t [ 1.78227515 11.19713915]\t 66.10012147162811\t 5.508754856016457\t 5.295604656775977\t 6.177064500756345\n",
            "7  \t [10.         6.8248273]\t 16.549836263223227\t 5.508754856016457\t 4.838344038193812\t 6.274175345231517\n",
            "8  \t [-5.  0.]\t 308.12909601160663\t 5.508754856016457\t 4.988898415326711\t 7.539171894404505\n",
            "9  \t [ 0.19632248 15.        ]\t 106.04680513108033\t 5.508754856016457\t 6.031132626777265\t 7.311159262038822\n",
            "10 \t [-4.769901   13.86679313]\t 17.64851035934689\t 5.508754856016457\t 5.719805591961831\t 6.526645731325843\n",
            "11 \t [-0.27201165  7.68256649]\t 20.78688425108516\t 5.508754856016457\t 5.265595125535836\t 6.424802592666358\n",
            "12 \t [4.14974542 3.90736949]\t 10.109684425857605\t 5.508754856016457\t 4.537268278908877\t 4.461826305766229\n",
            "13 \t [-5.          9.68630175]\t 68.9896293516502\t 5.508754856016457\t 4.532855752213018\t 5.264568587676216\n",
            "14 \t [6.78582015 0.37957556]\t 19.005943041496927\t 5.508754856016457\t 4.159058894672988\t 5.297954969335189\n",
            "15 \t [1.94531724 1.68743185]\t 9.395568340523553\t 5.508754856016457\t 4.861872212261956\t 5.826249412157476\n",
            "16 \t [-2.31191957  3.78344519]\t 46.90044333952751\t 5.508754856016457\t 5.079896170103393\t 5.490279174527904\n",
            "17 \t [-5.          3.17672717]\t 209.02158528707406\t 5.508754856016457\t 5.833790194386159\t 5.756927600701105\n",
            "18 \t [-2.92435847  7.80835939]\t 16.23136523385704\t 5.508754856016457\t 4.231752893782426\t 4.518279988694799\n",
            "19 \t [ 4.74955583 11.46483363]\t 112.56497763284143\t 5.508754856016457\t 4.160480618715177\t 4.365390681149039\n",
            "20 \t [7.04254713 5.66371204]\t 36.90084058321068\t 5.508754856016457\t 4.594609826736428\t 5.171094169974636\n"
          ]
        }
      ],
      "source": [
        "### EXACT STP CBM GRADIENTS\n",
        "\n",
        "np.random.seed(run_num_18)\n",
        "surrogate_exact_18 = dtStudentProcess(cov_func, optimize=opt, nu = df)\n",
        "\n",
        "exact_18 = dGPGO(surrogate_exact_18, Acquisition_grad(util), objfunc, param)\n",
        "exact_18.run(init_evals=n_init, max_iter=iters)\n"
      ]
    },
    {
      "cell_type": "code",
      "execution_count": 52,
      "metadata": {
        "id": "B6gTz1ojQUxn",
        "colab": {
          "base_uri": "https://localhost:8080/"
        },
        "outputId": "0069abfa-e424-4528-fc8e-988ffc3853de"
      },
      "outputs": [
        {
          "output_type": "stream",
          "name": "stdout",
          "text": [
            "Evaluation \t Proposed point \t  Current eval. \t  Best eval. \t        Exact CBM: StdDev. x \t Approx CBM: StdDev. x \n",
            "init\t [-3.53699597 11.41874575]\t 4.475608269502271\t 4.475608269502271\t    \t    \n",
            "init\t [-1.2959304   2.07197531]\t 51.13947793770689\t 4.475608269502271\t    \t    \n",
            "init\t [-0.02830155  1.24499348]\t 42.63973921760034\t 4.475608269502271\t    \t    \n",
            "init\t [ 5.07965622 12.09890697]\t 131.17235664506808\t 4.475608269502271\t    \t    \n",
            "init\t [9.74112872 9.53491102]\t 46.84458913925112\t 4.475608269502271\t    \t    \n",
            "\u001b[1m\u001b[92m1\u001b[0m\t \u001b[1m\u001b[92m[9.57054653 2.03489665]\u001b[0m\t \u001b[1m\u001b[92m0.8198597583535783\u001b[0m\t \u001b[1m\u001b[92m0.8198597583535783\u001b[0m\t \u001b[1m\u001b[92m5.312941014001845\u001b[0m\t \u001b[1m\u001b[92m5.633500459449604\u001b[0m\n",
            "2  \t [0.93917493 7.34839754]\t 23.118105311965067\t 0.8198597583535783\t 6.0756545902488845\t 6.482716510745379\n",
            "3  \t [-5.        6.370213]\t 129.73442303670126\t 0.8198597583535783\t 5.745563336879382\t 6.149592312407764\n",
            "4  \t [ 0.08160356 15.        ]\t 102.90908960072272\t 0.8198597583535783\t 5.889993186765692\t 5.935386732963497\n",
            "5  \t [5.86425149 5.18565891]\t 35.388148448376654\t 0.8198597583535783\t 5.289049263758804\t 4.136534422272118\n",
            "6  \t [10. 15.]\t 145.87219087939556\t 0.8198597583535783\t 6.011181150630246\t 5.365796987936311\n",
            "7  \t [-5.  0.]\t 308.12909601160663\t 0.8198597583535783\t 5.689377016768097\t 6.352527877493597\n",
            "8  \t [5.24868047 0.        ]\t 16.35902110596041\t 0.8198597583535783\t 4.774091992901642\t 5.635071857051883\n",
            "9  \t [2.5742079  3.78916219]\t 2.9635425023326976\t 0.8198597583535783\t 4.846716288683901\t 5.723737709771598\n",
            "10 \t [10.          5.26656036]\t 7.0670426168641765\t 0.8198597583535783\t 5.137277465407199\t 4.9883418283450505\n",
            "11 \t [ 0.02186327 10.89677818]\t 43.91963732182609\t 0.8198597583535783\t 4.574905932896649\t 5.620590939328347\n",
            "12 \t [8.36222673 0.        ]\t 8.301311289429965\t 0.8198597583535783\t 4.44852137733284\t 5.54880949778409\n",
            "13 \t [4.25842951 8.33257742]\t 51.587155843441415\t 0.8198597583535783\t 5.408490748845808\t 5.735756482701628\n",
            "14 \t [-2.68687666  9.01858466]\t 6.171165233210431\t 0.8198597583535783\t 5.0571349829829115\t 6.281002729726923\n",
            "15 \t [-3.60698001 14.16046253]\t 1.9652817260907973\t 0.8198597583535783\t 4.800656783658202\t 5.090207388193351\n",
            "16 \t [ 6.65545593 15.        ]\t 211.3281614573135\t 0.8198597583535783\t 4.753865410117702\t 6.464638038954751\n",
            "17 \t [-0.71594119  4.82334298]\t 22.920054258905537\t 0.8198597583535783\t 5.262109268722448\t 5.118710132624005\n",
            "18 \t [ 2.45743666 11.77401116]\t 81.85781429134703\t 0.8198597583535783\t 4.682187111834113\t 5.033947909383699\n",
            "19 \t [6.26118691 2.26313792]\t 20.954163094721963\t 0.8198597583535783\t 3.932299839963273\t 4.462123003205327\n",
            "20 \t [ 3.6307183  13.75706075]\t 141.53429307305842\t 0.8198597583535783\t 4.97983717428982\t 4.690382435441892\n"
          ]
        }
      ],
      "source": [
        "### EXACT STP CBM GRADIENTS\n",
        "\n",
        "np.random.seed(run_num_19)\n",
        "surrogate_exact_19 = dtStudentProcess(cov_func, optimize=opt, nu = df)\n",
        "\n",
        "exact_19 = dGPGO(surrogate_exact_19, Acquisition_grad(util), objfunc, param)\n",
        "exact_19.run(init_evals=n_init, max_iter=iters)\n"
      ]
    },
    {
      "cell_type": "code",
      "execution_count": 53,
      "metadata": {
        "id": "aw3xvSryIwDi",
        "colab": {
          "base_uri": "https://localhost:8080/"
        },
        "outputId": "73c612c6-8f68-497a-cea8-f3b87e55b576"
      },
      "outputs": [
        {
          "output_type": "stream",
          "name": "stdout",
          "text": [
            "Evaluation \t Proposed point \t  Current eval. \t  Best eval. \t        Exact CBM: StdDev. x \t Approx CBM: StdDev. x \n",
            "init\t [ 3.82196202 13.46570592]\t 138.5264349938869\t 14.042667401507376\t    \t    \n",
            "init\t [ 8.37296094 12.23756216]\t 115.63178540512689\t 14.042667401507376\t    \t    \n",
            "init\t [-4.46165622 10.37636373]\t 35.66708529307584\t 14.042667401507376\t    \t    \n",
            "init\t [0.68021413 7.77766418]\t 25.307769914281764\t 14.042667401507376\t    \t    \n",
            "init\t [4.86927198 2.90775327]\t 14.042667401507376\t 14.042667401507376\t    \t    \n",
            "1  \t [-3.13833376  0.        ]\t 150.88138494975624\t 14.042667401507376\t 5.524120124361175\t 5.6990742893349475\n",
            "\u001b[1m\u001b[92m2\u001b[0m\t \u001b[1m\u001b[92m[9.8336833  5.37448867]\u001b[0m\t \u001b[1m\u001b[92m7.605446114824294\u001b[0m\t \u001b[1m\u001b[92m7.605446114824294\u001b[0m\t \u001b[1m\u001b[92m4.605209904021088\u001b[0m\t \u001b[1m\u001b[92m5.783148915528528\u001b[0m\n",
            "3  \t [-5.          5.16392728]\t 157.2866877419574\t 7.605446114824294\t 4.932872636833299\t 5.086623367615563\n",
            "4  \t [-2.00168171 13.70699471]\t 22.018341780754305\t 7.605446114824294\t 6.141230484528223\t 6.903124004635035\n",
            "5  \t [0.58899051 3.1032798 ]\t 22.000704159204417\t 7.605446114824294\t 6.031551317317275\t 5.812255611652785\n",
            "\u001b[1m\u001b[92m6\u001b[0m\t \u001b[1m\u001b[92m[8.57386277 0.20547793]\u001b[0m\t \u001b[1m\u001b[92m6.376364463098213\u001b[0m\t \u001b[1m\u001b[92m6.376364463098213\u001b[0m\t \u001b[1m\u001b[92m5.458796131228936\u001b[0m\t \u001b[1m\u001b[92m5.822820713852093\u001b[0m\n",
            "7  \t [6.25616597 7.00597352]\t 54.488176523830944\t 6.376364463098213\t 6.5485342093107795\t 6.824640803558384\n",
            "8  \t [2.65836967 0.        ]\t 8.69049328845658\t 6.376364463098213\t 5.7084793780404945\t 5.679554943334539\n",
            "9  \t [3.72784905 9.53939923]\t 60.94061543446447\t 6.376364463098213\t 5.517177885841421\t 6.06005003370589\n",
            "10 \t [2.92213518 5.53159814]\t 10.109847621573278\t 6.376364463098213\t 6.003740010631412\t 6.1692250692181085\n",
            "11 \t [10.          8.65742745]\t 33.91618116432955\t 6.376364463098213\t 6.011435964411233\t 6.189857005702945\n",
            "12 \t [5.59660205 0.        ]\t 18.723849169321756\t 6.376364463098213\t 6.527699478090813\t 6.419928953156808\n",
            "13 \t [ 0.43491298 11.3689424 ]\t 55.149879722194065\t 6.376364463098213\t 5.560163086529319\t 6.393113247396403\n",
            "14 \t [ 0.86425098 15.        ]\t 121.8917601631346\t 6.376364463098213\t 5.130254941061234\t 6.613370104402513\n",
            "15 \t [8.0262125  3.13681176]\t 10.87882298996688\t 6.376364463098213\t 4.872256026749734\t 5.978690370494897\n",
            "16 \t [10. 15.]\t 145.87219087939556\t 6.376364463098213\t 6.461077181060399\t 6.713477945069195\n",
            "17 \t [-2.06441114  8.22489124]\t 8.04662059846985\t 6.376364463098213\t 4.593873058195125\t 5.087581594452155\n",
            "18 \t [ 6.644787 15.      ]\t 211.4023950736065\t 6.376364463098213\t 5.353902445959394\t 5.390795008880807\n",
            "19 \t [-1.88223482  4.07750328]\t 35.95732276441716\t 6.376364463098213\t 5.324415846443837\t 5.4171459310363\n",
            "20 \t [4.08928558e-02 1.54498810e-18]\t 54.81988932744747\t 6.376364463098213\t 4.341998069459509\t 5.147921350961963\n"
          ]
        }
      ],
      "source": [
        "### EXACT STP CBM GRADIENTS\n",
        "\n",
        "np.random.seed(run_num_20)\n",
        "surrogate_exact_20 = dtStudentProcess(cov_func, optimize=opt, nu = df)\n",
        "\n",
        "exact_20 = dGPGO(surrogate_exact_20, Acquisition_grad(util), objfunc, param)\n",
        "exact_20.run(init_evals=n_init, max_iter=iters)\n"
      ]
    },
    {
      "cell_type": "code",
      "execution_count": 54,
      "metadata": {
        "id": "5c8szjivRPme",
        "colab": {
          "base_uri": "https://localhost:8080/"
        },
        "outputId": "c6c8b543-ad25-4e6f-e5b1-47e533ea46b1"
      },
      "outputs": [
        {
          "output_type": "execute_result",
          "data": {
            "text/plain": [
              "472.996027469635"
            ]
          },
          "metadata": {},
          "execution_count": 54
        }
      ],
      "source": [
        "end_exact = time.time()\n",
        "end_exact\n",
        "\n",
        "time_exact = end_exact - start_exact\n",
        "time_exact\n"
      ]
    },
    {
      "cell_type": "code",
      "execution_count": 55,
      "metadata": {
        "id": "f6gCKnp6RR8c",
        "colab": {
          "base_uri": "https://localhost:8080/"
        },
        "outputId": "e56535e7-04f1-4552-feeb-3056f44bb65b"
      },
      "outputs": [
        {
          "output_type": "execute_result",
          "data": {
            "text/plain": [
              "(1.6501179361516527, 1.5154049848094766)"
            ]
          },
          "metadata": {},
          "execution_count": 55
        }
      ],
      "source": [
        "### Simple regret minimization: run number = 1\n",
        "\n",
        "approx_output_1 = np.append(np.min(-approx_1.GP.y[0:n_init]),-approx_1.GP.y[n_init:(n_init+iters)]) \n",
        "exact_output_1 = np.append(np.min(-exact_1.GP.y[0:n_init]),-exact_1.GP.y[n_init:(n_init+iters)]) \n",
        "\n",
        "regret_approx_1 = np.log(approx_output_1 - y_global_orig)\n",
        "regret_exact_1 = np.log(exact_output_1 - y_global_orig)\n",
        "\n",
        "simple_regret_approx_1 = min_max_array(regret_approx_1)\n",
        "simple_regret_exact_1 = min_max_array(regret_exact_1)\n",
        "\n",
        "min_simple_regret_approx_1 = min(simple_regret_approx_1)\n",
        "min_simple_regret_exact_1 = min(simple_regret_exact_1)\n",
        "\n",
        "min_simple_regret_approx_1, min_simple_regret_exact_1\n"
      ]
    },
    {
      "cell_type": "code",
      "execution_count": 56,
      "metadata": {
        "id": "94yBw5tqQxfk",
        "colab": {
          "base_uri": "https://localhost:8080/"
        },
        "outputId": "aeab5803-a68e-4ae1-a467-aa88eac6f955"
      },
      "outputs": [
        {
          "output_type": "execute_result",
          "data": {
            "text/plain": [
              "(0.5857547920775205, 0.23191036395000178)"
            ]
          },
          "metadata": {},
          "execution_count": 56
        }
      ],
      "source": [
        "### Simple regret minimization: run number = 2\n",
        "\n",
        "approx_output_2 = np.append(np.min(-approx_2.GP.y[0:n_init]),-approx_2.GP.y[n_init:(n_init+iters)]) \n",
        "exact_output_2 = np.append(np.min(-exact_2.GP.y[0:n_init]),-exact_2.GP.y[n_init:(n_init+iters)]) \n",
        "\n",
        "regret_approx_2 = np.log(approx_output_2 - y_global_orig)\n",
        "regret_exact_2 = np.log(exact_output_2 - y_global_orig)\n",
        "\n",
        "simple_regret_approx_2 = min_max_array(regret_approx_2)\n",
        "simple_regret_exact_2 = min_max_array(regret_exact_2)\n",
        "\n",
        "min_simple_regret_approx_2 = min(simple_regret_approx_2)\n",
        "min_simple_regret_exact_2 = min(simple_regret_exact_2)\n",
        "\n",
        "min_simple_regret_approx_2, min_simple_regret_exact_2\n"
      ]
    },
    {
      "cell_type": "code",
      "execution_count": 57,
      "metadata": {
        "id": "Bu6SBWALQxfl",
        "colab": {
          "base_uri": "https://localhost:8080/"
        },
        "outputId": "1a595cc6-8d1e-425a-c89d-b14189b358d2"
      },
      "outputs": [
        {
          "output_type": "execute_result",
          "data": {
            "text/plain": [
              "(1.2115931632137253, 1.2871811030865843)"
            ]
          },
          "metadata": {},
          "execution_count": 57
        }
      ],
      "source": [
        "### Simple regret minimization: run number = 3\n",
        "\n",
        "approx_output_3 = np.append(np.min(-approx_3.GP.y[0:n_init]),-approx_3.GP.y[n_init:(n_init+iters)]) \n",
        "exact_output_3 = np.append(np.min(-exact_3.GP.y[0:n_init]),-exact_3.GP.y[n_init:(n_init+iters)]) \n",
        "\n",
        "regret_approx_3 = np.log(approx_output_3 - y_global_orig)\n",
        "regret_exact_3 = np.log(exact_output_3 - y_global_orig)\n",
        "\n",
        "simple_regret_approx_3 = min_max_array(regret_approx_3)\n",
        "simple_regret_exact_3 = min_max_array(regret_exact_3)\n",
        "\n",
        "min_simple_regret_approx_3 = min(simple_regret_approx_3)\n",
        "min_simple_regret_exact_3 = min(simple_regret_exact_3)\n",
        "\n",
        "min_simple_regret_approx_3, min_simple_regret_exact_3"
      ]
    },
    {
      "cell_type": "code",
      "execution_count": 58,
      "metadata": {
        "id": "AZm0jgxkQxfm",
        "colab": {
          "base_uri": "https://localhost:8080/"
        },
        "outputId": "fc76f947-ae22-47af-c9e6-0f0f9a943c88"
      },
      "outputs": [
        {
          "output_type": "execute_result",
          "data": {
            "text/plain": [
              "(1.1878051845252207, 1.3784027738207805)"
            ]
          },
          "metadata": {},
          "execution_count": 58
        }
      ],
      "source": [
        "### Simple regret minimization: run number = 4\n",
        "\n",
        "approx_output_4 = np.append(np.min(-approx_4.GP.y[0:n_init]),-approx_4.GP.y[n_init:(n_init+iters)]) \n",
        "exact_output_4 = np.append(np.min(-exact_4.GP.y[0:n_init]),-exact_4.GP.y[n_init:(n_init+iters)]) \n",
        "\n",
        "regret_approx_4 = np.log(approx_output_4 - y_global_orig)\n",
        "regret_exact_4 = np.log(exact_output_4 - y_global_orig)\n",
        "\n",
        "simple_regret_approx_4 = min_max_array(regret_approx_4)\n",
        "simple_regret_exact_4 = min_max_array(regret_exact_4)\n",
        "\n",
        "min_simple_regret_approx_4 = min(simple_regret_approx_4)\n",
        "min_simple_regret_exact_4 = min(simple_regret_exact_4)\n",
        "\n",
        "min_simple_regret_approx_4, min_simple_regret_exact_4"
      ]
    },
    {
      "cell_type": "code",
      "execution_count": 59,
      "metadata": {
        "id": "NONPm8JIQxfn",
        "colab": {
          "base_uri": "https://localhost:8080/"
        },
        "outputId": "bced427b-765d-4494-fd3b-cc6622d29389"
      },
      "outputs": [
        {
          "output_type": "execute_result",
          "data": {
            "text/plain": [
              "(1.4161228870556979, 1.425271500500763)"
            ]
          },
          "metadata": {},
          "execution_count": 59
        }
      ],
      "source": [
        "### Simple regret minimization: run number = 5\n",
        "\n",
        "approx_output_5 = np.append(np.min(-approx_5.GP.y[0:n_init]),-approx_5.GP.y[n_init:(n_init+iters)]) \n",
        "exact_output_5 = np.append(np.min(-exact_5.GP.y[0:n_init]),-exact_5.GP.y[n_init:(n_init+iters)]) \n",
        "\n",
        "regret_approx_5 = np.log(approx_output_5 - y_global_orig)\n",
        "regret_exact_5 = np.log(exact_output_5 - y_global_orig)\n",
        "\n",
        "simple_regret_approx_5 = min_max_array(regret_approx_5)\n",
        "simple_regret_exact_5 = min_max_array(regret_exact_5)\n",
        "\n",
        "min_simple_regret_approx_5 = min(simple_regret_approx_5)\n",
        "min_simple_regret_exact_5 = min(simple_regret_exact_5)\n",
        "\n",
        "min_simple_regret_approx_5, min_simple_regret_exact_5"
      ]
    },
    {
      "cell_type": "code",
      "execution_count": 60,
      "metadata": {
        "id": "CJv3lPuSQxfp",
        "colab": {
          "base_uri": "https://localhost:8080/"
        },
        "outputId": "6c3d9e89-24be-4891-f390-14db2910664b"
      },
      "outputs": [
        {
          "output_type": "execute_result",
          "data": {
            "text/plain": [
              "(0.22506432194546658, 1.7661758280834483)"
            ]
          },
          "metadata": {},
          "execution_count": 60
        }
      ],
      "source": [
        "### Simple regret minimization: run number = 6\n",
        "\n",
        "approx_output_6 = np.append(np.min(-approx_6.GP.y[0:n_init]),-approx_6.GP.y[n_init:(n_init+iters)]) \n",
        "exact_output_6 = np.append(np.min(-exact_6.GP.y[0:n_init]),-exact_6.GP.y[n_init:(n_init+iters)]) \n",
        "\n",
        "regret_approx_6 = np.log(approx_output_6 - y_global_orig)\n",
        "regret_exact_6 = np.log(exact_output_6 - y_global_orig)\n",
        "\n",
        "simple_regret_approx_6 = min_max_array(regret_approx_6)\n",
        "simple_regret_exact_6 = min_max_array(regret_exact_6)\n",
        "\n",
        "min_simple_regret_approx_6 = min(simple_regret_approx_6)\n",
        "min_simple_regret_exact_6 = min(simple_regret_exact_6)\n",
        "\n",
        "min_simple_regret_approx_6, min_simple_regret_exact_6"
      ]
    },
    {
      "cell_type": "code",
      "execution_count": 61,
      "metadata": {
        "id": "quR2ZyApQxfq",
        "colab": {
          "base_uri": "https://localhost:8080/"
        },
        "outputId": "9601dc47-0ea3-41d7-90ea-d5c0e2e6fbc2"
      },
      "outputs": [
        {
          "output_type": "execute_result",
          "data": {
            "text/plain": [
              "(1.7244120867870436, 1.103756863882012)"
            ]
          },
          "metadata": {},
          "execution_count": 61
        }
      ],
      "source": [
        "### Simple regret minimization: run number = 7\n",
        "\n",
        "approx_output_7 = np.append(np.min(-approx_7.GP.y[0:n_init]),-approx_7.GP.y[n_init:(n_init+iters)]) \n",
        "exact_output_7 = np.append(np.min(-exact_7.GP.y[0:n_init]),-exact_7.GP.y[n_init:(n_init+iters)]) \n",
        "\n",
        "regret_approx_7 = np.log(approx_output_7 - y_global_orig)\n",
        "regret_exact_7 = np.log(exact_output_7 - y_global_orig)\n",
        "\n",
        "simple_regret_approx_7 = min_max_array(regret_approx_7)\n",
        "simple_regret_exact_7 = min_max_array(regret_exact_7)\n",
        "\n",
        "min_simple_regret_approx_7 = min(simple_regret_approx_7)\n",
        "min_simple_regret_exact_7 = min(simple_regret_exact_7)\n",
        "\n",
        "min_simple_regret_approx_7, min_simple_regret_exact_7"
      ]
    },
    {
      "cell_type": "code",
      "execution_count": 62,
      "metadata": {
        "id": "99wY5nK6Qxfr",
        "colab": {
          "base_uri": "https://localhost:8080/"
        },
        "outputId": "d54406a2-cd5b-467c-ad69-c22573d6cd4f"
      },
      "outputs": [
        {
          "output_type": "execute_result",
          "data": {
            "text/plain": [
              "(1.0155921219852502, 1.3215468960701766)"
            ]
          },
          "metadata": {},
          "execution_count": 62
        }
      ],
      "source": [
        "### Simple regret minimization: run number = 8\n",
        "\n",
        "approx_output_8 = np.append(np.min(-approx_8.GP.y[0:n_init]),-approx_8.GP.y[n_init:(n_init+iters)]) \n",
        "exact_output_8 = np.append(np.min(-exact_8.GP.y[0:n_init]),-exact_8.GP.y[n_init:(n_init+iters)]) \n",
        "\n",
        "regret_approx_8 = np.log(approx_output_8 - y_global_orig)\n",
        "regret_exact_8 = np.log(exact_output_8 - y_global_orig)\n",
        "\n",
        "simple_regret_approx_8 = min_max_array(regret_approx_8)\n",
        "simple_regret_exact_8 = min_max_array(regret_exact_8)\n",
        "\n",
        "min_simple_regret_approx_8 = min(simple_regret_approx_8)\n",
        "min_simple_regret_exact_8 = min(simple_regret_exact_8)\n",
        "\n",
        "min_simple_regret_approx_8, min_simple_regret_exact_8"
      ]
    },
    {
      "cell_type": "code",
      "execution_count": 63,
      "metadata": {
        "id": "qt0P5t9qQxfs",
        "colab": {
          "base_uri": "https://localhost:8080/"
        },
        "outputId": "cab4803d-f4ec-4127-c04a-daaef70bd431"
      },
      "outputs": [
        {
          "output_type": "execute_result",
          "data": {
            "text/plain": [
              "(1.2323805920438875, 1.3511623609574142)"
            ]
          },
          "metadata": {},
          "execution_count": 63
        }
      ],
      "source": [
        "### Simple regret minimization: run number = 9\n",
        "\n",
        "approx_output_9 = np.append(np.min(-approx_9.GP.y[0:n_init]),-approx_9.GP.y[n_init:(n_init+iters)]) \n",
        "exact_output_9 = np.append(np.min(-exact_9.GP.y[0:n_init]),-exact_9.GP.y[n_init:(n_init+iters)]) \n",
        "\n",
        "regret_approx_9 = np.log(approx_output_9 - y_global_orig)\n",
        "regret_exact_9 = np.log(exact_output_9 - y_global_orig)\n",
        "\n",
        "simple_regret_approx_9 = min_max_array(regret_approx_9)\n",
        "simple_regret_exact_9 = min_max_array(regret_exact_9)\n",
        "\n",
        "min_simple_regret_approx_9 = min(simple_regret_approx_9)\n",
        "min_simple_regret_exact_9 = min(simple_regret_exact_9)\n",
        "\n",
        "min_simple_regret_approx_9, min_simple_regret_exact_9"
      ]
    },
    {
      "cell_type": "code",
      "execution_count": 64,
      "metadata": {
        "id": "vx8to9stQxft",
        "colab": {
          "base_uri": "https://localhost:8080/"
        },
        "outputId": "480d72a8-cf91-48e1-c2c5-3f0b1d7c9eb0"
      },
      "outputs": [
        {
          "output_type": "execute_result",
          "data": {
            "text/plain": [
              "(0.9543848787822271, 1.134139639930358)"
            ]
          },
          "metadata": {},
          "execution_count": 64
        }
      ],
      "source": [
        "### Simple regret minimization: run number = 10\n",
        "\n",
        "approx_output_10 = np.append(np.min(-approx_10.GP.y[0:n_init]),-approx_10.GP.y[n_init:(n_init+iters)]) \n",
        "exact_output_10 = np.append(np.min(-exact_10.GP.y[0:n_init]),-exact_10.GP.y[n_init:(n_init+iters)]) \n",
        "\n",
        "regret_approx_10 = np.log(approx_output_10 - y_global_orig)\n",
        "regret_exact_10 = np.log(exact_output_10 - y_global_orig)\n",
        "\n",
        "simple_regret_approx_10 = min_max_array(regret_approx_10)\n",
        "simple_regret_exact_10 = min_max_array(regret_exact_10)\n",
        "\n",
        "min_simple_regret_approx_10 = min(simple_regret_approx_10)\n",
        "min_simple_regret_exact_10 = min(simple_regret_exact_10)\n",
        "\n",
        "min_simple_regret_approx_10, min_simple_regret_exact_10"
      ]
    },
    {
      "cell_type": "code",
      "execution_count": 65,
      "metadata": {
        "id": "d-FGzWyHQxfu",
        "colab": {
          "base_uri": "https://localhost:8080/"
        },
        "outputId": "777136a8-fc27-4858-f8f9-1af49fa6aee5"
      },
      "outputs": [
        {
          "output_type": "execute_result",
          "data": {
            "text/plain": [
              "(0.025030535214104418, 0.10254538488674883)"
            ]
          },
          "metadata": {},
          "execution_count": 65
        }
      ],
      "source": [
        "### Simple regret minimization: run number = 11\n",
        "\n",
        "approx_output_11 = np.append(np.min(-approx_11.GP.y[0:n_init]),-approx_11.GP.y[n_init:(n_init+iters)]) \n",
        "exact_output_11 = np.append(np.min(-exact_11.GP.y[0:n_init]),-exact_11.GP.y[n_init:(n_init+iters)]) \n",
        "\n",
        "regret_approx_11 = np.log(approx_output_11 - y_global_orig)\n",
        "regret_exact_11 = np.log(exact_output_11 - y_global_orig)\n",
        "\n",
        "simple_regret_approx_11 = min_max_array(regret_approx_11)\n",
        "simple_regret_exact_11 = min_max_array(regret_exact_11)\n",
        "\n",
        "min_simple_regret_approx_11 = min(simple_regret_approx_11)\n",
        "min_simple_regret_exact_11 = min(simple_regret_exact_11)\n",
        "\n",
        "min_simple_regret_approx_11, min_simple_regret_exact_11"
      ]
    },
    {
      "cell_type": "code",
      "execution_count": 66,
      "metadata": {
        "id": "SvtsssyjQxfv",
        "colab": {
          "base_uri": "https://localhost:8080/"
        },
        "outputId": "e779b7c4-12ee-4e2e-91cf-a1d0497dbce4"
      },
      "outputs": [
        {
          "output_type": "execute_result",
          "data": {
            "text/plain": [
              "(-0.05359222109358334, -0.05359222109358334)"
            ]
          },
          "metadata": {},
          "execution_count": 66
        }
      ],
      "source": [
        "### Simple regret minimization: run number = 12\n",
        "\n",
        "approx_output_12 = np.append(np.min(-approx_12.GP.y[0:n_init]),-approx_12.GP.y[n_init:(n_init+iters)]) \n",
        "exact_output_12 = np.append(np.min(-exact_12.GP.y[0:n_init]),-exact_12.GP.y[n_init:(n_init+iters)]) \n",
        "\n",
        "regret_approx_12 = np.log(approx_output_12 - y_global_orig)\n",
        "regret_exact_12 = np.log(exact_output_12 - y_global_orig)\n",
        "\n",
        "simple_regret_approx_12 = min_max_array(regret_approx_12)\n",
        "simple_regret_exact_12 = min_max_array(regret_exact_12)\n",
        "\n",
        "min_simple_regret_approx_12 = min(simple_regret_approx_12)\n",
        "min_simple_regret_exact_12 = min(simple_regret_exact_12)\n",
        "\n",
        "min_simple_regret_approx_12, min_simple_regret_exact_12"
      ]
    },
    {
      "cell_type": "code",
      "execution_count": 67,
      "metadata": {
        "id": "K6OiGcHkQxfw",
        "colab": {
          "base_uri": "https://localhost:8080/"
        },
        "outputId": "f3c0b3d1-7582-478a-ad9c-cc4ce1054ac3"
      },
      "outputs": [
        {
          "output_type": "execute_result",
          "data": {
            "text/plain": [
              "(0.8901283564791951, 0.2563772262447847)"
            ]
          },
          "metadata": {},
          "execution_count": 67
        }
      ],
      "source": [
        "### Simple regret minimization: run number = 13\n",
        "\n",
        "approx_output_13 = np.append(np.min(-approx_13.GP.y[0:n_init]),-approx_13.GP.y[n_init:(n_init+iters)]) \n",
        "exact_output_13 = np.append(np.min(-exact_13.GP.y[0:n_init]),-exact_13.GP.y[n_init:(n_init+iters)]) \n",
        "\n",
        "regret_approx_13 = np.log(approx_output_13 - y_global_orig)\n",
        "regret_exact_13 = np.log(exact_output_13 - y_global_orig)\n",
        "\n",
        "simple_regret_approx_13 = min_max_array(regret_approx_13)\n",
        "simple_regret_exact_13 = min_max_array(regret_exact_13)\n",
        "\n",
        "min_simple_regret_approx_13 = min(simple_regret_approx_13)\n",
        "min_simple_regret_exact_13 = min(simple_regret_exact_13)\n",
        "\n",
        "min_simple_regret_approx_13, min_simple_regret_exact_13"
      ]
    },
    {
      "cell_type": "code",
      "execution_count": 68,
      "metadata": {
        "id": "ogML73shQxfx",
        "colab": {
          "base_uri": "https://localhost:8080/"
        },
        "outputId": "acf0c181-4ae8-4f6a-aa08-afeb516913b9"
      },
      "outputs": [
        {
          "output_type": "execute_result",
          "data": {
            "text/plain": [
              "(0.5949161906605641, 0.5949161906605641)"
            ]
          },
          "metadata": {},
          "execution_count": 68
        }
      ],
      "source": [
        "### Simple regret minimization: run number = 14\n",
        "\n",
        "approx_output_14 = np.append(np.min(-approx_14.GP.y[0:n_init]),-approx_14.GP.y[n_init:(n_init+iters)]) \n",
        "exact_output_14 = np.append(np.min(-exact_14.GP.y[0:n_init]),-exact_14.GP.y[n_init:(n_init+iters)]) \n",
        "\n",
        "regret_approx_14 = np.log(approx_output_14 - y_global_orig)\n",
        "regret_exact_14 = np.log(exact_output_14 - y_global_orig)\n",
        "\n",
        "simple_regret_approx_14 = min_max_array(regret_approx_14)\n",
        "simple_regret_exact_14 = min_max_array(regret_exact_14)\n",
        "\n",
        "min_simple_regret_approx_14 = min(simple_regret_approx_14)\n",
        "min_simple_regret_exact_14 = min(simple_regret_exact_14)\n",
        "\n",
        "min_simple_regret_approx_14, min_simple_regret_exact_14"
      ]
    },
    {
      "cell_type": "code",
      "execution_count": 69,
      "metadata": {
        "id": "9Eg7gFT9Qxfx",
        "colab": {
          "base_uri": "https://localhost:8080/"
        },
        "outputId": "f43d30d4-ccb5-465b-b892-93e6e1ce49bc"
      },
      "outputs": [
        {
          "output_type": "execute_result",
          "data": {
            "text/plain": [
              "(1.6518262350607122, 0.7899110342137797)"
            ]
          },
          "metadata": {},
          "execution_count": 69
        }
      ],
      "source": [
        "### Simple regret minimization: run number = 15\n",
        "\n",
        "approx_output_15 = np.append(np.min(-approx_15.GP.y[0:n_init]),-approx_15.GP.y[n_init:(n_init+iters)]) \n",
        "exact_output_15 = np.append(np.min(-exact_15.GP.y[0:n_init]),-exact_15.GP.y[n_init:(n_init+iters)]) \n",
        "\n",
        "regret_approx_15 = np.log(approx_output_15 - y_global_orig)\n",
        "regret_exact_15 = np.log(exact_output_15 - y_global_orig)\n",
        "\n",
        "simple_regret_approx_15 = min_max_array(regret_approx_15)\n",
        "simple_regret_exact_15 = min_max_array(regret_exact_15)\n",
        "\n",
        "min_simple_regret_approx_15 = min(simple_regret_approx_15)\n",
        "min_simple_regret_exact_15 = min(simple_regret_exact_15)\n",
        "\n",
        "min_simple_regret_approx_15, min_simple_regret_exact_15"
      ]
    },
    {
      "cell_type": "code",
      "execution_count": 70,
      "metadata": {
        "id": "lIAC1U7ZQxfy",
        "colab": {
          "base_uri": "https://localhost:8080/"
        },
        "outputId": "227d18ef-d841-45a7-e89f-6cb62b2592e1"
      },
      "outputs": [
        {
          "output_type": "execute_result",
          "data": {
            "text/plain": [
              "(0.30172209791022153, 0.8551710287644382)"
            ]
          },
          "metadata": {},
          "execution_count": 70
        }
      ],
      "source": [
        "### Simple regret minimization: run number = 16\n",
        "\n",
        "approx_output_16 = np.append(np.min(-approx_16.GP.y[0:n_init]),-approx_16.GP.y[n_init:(n_init+iters)]) \n",
        "exact_output_16 = np.append(np.min(-exact_16.GP.y[0:n_init]),-exact_16.GP.y[n_init:(n_init+iters)]) \n",
        "\n",
        "regret_approx_16 = np.log(approx_output_16 - y_global_orig)\n",
        "regret_exact_16 = np.log(exact_output_16 - y_global_orig)\n",
        "\n",
        "simple_regret_approx_16 = min_max_array(regret_approx_16)\n",
        "simple_regret_exact_16 = min_max_array(regret_exact_16)\n",
        "\n",
        "min_simple_regret_approx_16 = min(simple_regret_approx_16)\n",
        "min_simple_regret_exact_16 = min(simple_regret_exact_16)\n",
        "\n",
        "min_simple_regret_approx_16, min_simple_regret_exact_16"
      ]
    },
    {
      "cell_type": "code",
      "execution_count": 71,
      "metadata": {
        "id": "bGott36OQxfz",
        "colab": {
          "base_uri": "https://localhost:8080/"
        },
        "outputId": "fa7aca3f-9070-4912-ca03-30e15bf50aa5"
      },
      "outputs": [
        {
          "output_type": "execute_result",
          "data": {
            "text/plain": [
              "(0.11848007331453353, 1.0131389279401821)"
            ]
          },
          "metadata": {},
          "execution_count": 71
        }
      ],
      "source": [
        "### Simple regret minimization: run number = 17\n",
        "\n",
        "approx_output_17 = np.append(np.min(-approx_17.GP.y[0:n_init]),-approx_17.GP.y[n_init:(n_init+iters)]) \n",
        "exact_output_17 = np.append(np.min(-exact_17.GP.y[0:n_init]),-exact_17.GP.y[n_init:(n_init+iters)]) \n",
        "\n",
        "regret_approx_17 = np.log(approx_output_17 - y_global_orig)\n",
        "regret_exact_17 = np.log(exact_output_17 - y_global_orig)\n",
        "\n",
        "simple_regret_approx_17 = min_max_array(regret_approx_17)\n",
        "simple_regret_exact_17 = min_max_array(regret_exact_17)\n",
        "\n",
        "min_simple_regret_approx_17 = min(simple_regret_approx_17)\n",
        "min_simple_regret_exact_17 = min(simple_regret_exact_17)\n",
        "\n",
        "min_simple_regret_approx_17, min_simple_regret_exact_17"
      ]
    },
    {
      "cell_type": "code",
      "execution_count": 72,
      "metadata": {
        "id": "Cz9ZYMBMQxfz",
        "colab": {
          "base_uri": "https://localhost:8080/"
        },
        "outputId": "aa3add5e-a668-49ff-d634-8d082c49bc99"
      },
      "outputs": [
        {
          "output_type": "execute_result",
          "data": {
            "text/plain": [
              "(1.7760774560513222, 1.7760774560513222)"
            ]
          },
          "metadata": {},
          "execution_count": 72
        }
      ],
      "source": [
        "### Simple regret minimization: run number = 18\n",
        "\n",
        "approx_output_18 = np.append(np.min(-approx_18.GP.y[0:n_init]),-approx_18.GP.y[n_init:(n_init+iters)]) \n",
        "exact_output_18 = np.append(np.min(-exact_18.GP.y[0:n_init]),-exact_18.GP.y[n_init:(n_init+iters)]) \n",
        "\n",
        "regret_approx_18 = np.log(approx_output_18 - y_global_orig)\n",
        "regret_exact_18 = np.log(exact_output_18 - y_global_orig)\n",
        "\n",
        "simple_regret_approx_18 = min_max_array(regret_approx_18)\n",
        "simple_regret_exact_18 = min_max_array(regret_exact_18)\n",
        "\n",
        "min_simple_regret_approx_18 = min(simple_regret_approx_18)\n",
        "min_simple_regret_exact_18 = min(simple_regret_exact_18)\n",
        "\n",
        "min_simple_regret_approx_18, min_simple_regret_exact_18"
      ]
    },
    {
      "cell_type": "code",
      "execution_count": 73,
      "metadata": {
        "id": "OBfpWOHNQxf0",
        "colab": {
          "base_uri": "https://localhost:8080/"
        },
        "outputId": "d9267d9e-c043-4a27-e7e8-0938712b2d49"
      },
      "outputs": [
        {
          "output_type": "execute_result",
          "data": {
            "text/plain": [
              "(0.8885706206948195, 0.1970022317043208)"
            ]
          },
          "metadata": {},
          "execution_count": 73
        }
      ],
      "source": [
        "### Simple regret minimization: run number = 19\n",
        "\n",
        "approx_output_19 = np.append(np.min(-approx_19.GP.y[0:n_init]),-approx_19.GP.y[n_init:(n_init+iters)]) \n",
        "exact_output_19 = np.append(np.min(-exact_19.GP.y[0:n_init]),-exact_19.GP.y[n_init:(n_init+iters)]) \n",
        "\n",
        "regret_approx_19 = np.log(approx_output_19 - y_global_orig)\n",
        "regret_exact_19 = np.log(exact_output_19 - y_global_orig)\n",
        "\n",
        "simple_regret_approx_19 = min_max_array(regret_approx_19)\n",
        "simple_regret_exact_19 = min_max_array(regret_exact_19)\n",
        "\n",
        "min_simple_regret_approx_19 = min(simple_regret_approx_19)\n",
        "min_simple_regret_exact_19 = min(simple_regret_exact_19)\n",
        "\n",
        "min_simple_regret_approx_19, min_simple_regret_exact_19"
      ]
    },
    {
      "cell_type": "code",
      "execution_count": 74,
      "metadata": {
        "id": "BE1AJ7NsQxf0",
        "colab": {
          "base_uri": "https://localhost:8080/"
        },
        "outputId": "dd06b59b-0694-4d6e-e887-0f562a6bf921"
      },
      "outputs": [
        {
          "output_type": "execute_result",
          "data": {
            "text/plain": [
              "(2.0894365147732636, 1.9131288755102753)"
            ]
          },
          "metadata": {},
          "execution_count": 74
        }
      ],
      "source": [
        "### Simple regret minimization: run number = 20\n",
        "\n",
        "approx_output_20 = np.append(np.min(-approx_20.GP.y[0:n_init]),-approx_20.GP.y[n_init:(n_init+iters)]) \n",
        "exact_output_20 = np.append(np.min(-exact_20.GP.y[0:n_init]),-exact_20.GP.y[n_init:(n_init+iters)]) \n",
        "\n",
        "regret_approx_20 = np.log(approx_output_20 - y_global_orig)\n",
        "regret_exact_20 = np.log(exact_output_20 - y_global_orig)\n",
        "\n",
        "simple_regret_approx_20 = min_max_array(regret_approx_20)\n",
        "simple_regret_exact_20 = min_max_array(regret_exact_20)\n",
        "\n",
        "min_simple_regret_approx_20 = min(simple_regret_approx_20)\n",
        "min_simple_regret_exact_20 = min(simple_regret_exact_20)\n",
        "\n",
        "min_simple_regret_approx_20, min_simple_regret_exact_20"
      ]
    },
    {
      "cell_type": "code",
      "execution_count": 75,
      "metadata": {
        "id": "bpX-bKAHQxf1"
      },
      "outputs": [],
      "source": [
        "# Iteration1 :\n",
        "\n",
        "slice1 = 0\n",
        "\n",
        "approx1 = [simple_regret_approx_1[slice1],\n",
        "       simple_regret_approx_2[slice1],\n",
        "       simple_regret_approx_3[slice1],\n",
        "       simple_regret_approx_4[slice1],\n",
        "       simple_regret_approx_5[slice1],\n",
        "       simple_regret_approx_6[slice1],\n",
        "       simple_regret_approx_7[slice1],\n",
        "       simple_regret_approx_8[slice1],\n",
        "       simple_regret_approx_9[slice1],\n",
        "       simple_regret_approx_10[slice1],\n",
        "       simple_regret_approx_11[slice1],\n",
        "       simple_regret_approx_12[slice1],\n",
        "       simple_regret_approx_13[slice1],\n",
        "       simple_regret_approx_14[slice1],\n",
        "       simple_regret_approx_15[slice1],\n",
        "       simple_regret_approx_16[slice1],\n",
        "       simple_regret_approx_17[slice1],\n",
        "       simple_regret_approx_18[slice1],\n",
        "       simple_regret_approx_19[slice1],\n",
        "       simple_regret_approx_20[slice1]]\n",
        "\n",
        "exact1 = [simple_regret_exact_1[slice1],\n",
        "       simple_regret_exact_2[slice1],\n",
        "       simple_regret_exact_3[slice1],\n",
        "       simple_regret_exact_4[slice1],\n",
        "       simple_regret_exact_5[slice1],\n",
        "       simple_regret_exact_6[slice1],\n",
        "       simple_regret_exact_7[slice1],\n",
        "       simple_regret_exact_8[slice1],\n",
        "       simple_regret_exact_9[slice1],\n",
        "       simple_regret_exact_10[slice1],\n",
        "       simple_regret_exact_11[slice1],\n",
        "       simple_regret_exact_12[slice1],\n",
        "       simple_regret_exact_13[slice1],\n",
        "       simple_regret_exact_14[slice1],\n",
        "       simple_regret_exact_15[slice1],\n",
        "       simple_regret_exact_16[slice1],\n",
        "       simple_regret_exact_17[slice1],\n",
        "       simple_regret_exact_18[slice1],\n",
        "       simple_regret_exact_19[slice1],\n",
        "       simple_regret_exact_20[slice1]]\n",
        "\n",
        "approx1_results = pd.DataFrame(approx1).sort_values(by=[0], ascending=False)\n",
        "exact1_results = pd.DataFrame(exact1).sort_values(by=[0], ascending=False)\n",
        "\n",
        "### Best simple regret minimization IQR - approx:\n",
        "lower_approx1 = np.asarray(approx1_results[4:5][0])[0]\n",
        "median_approx1 = np.asarray(approx1_results[9:10][0])[0]\n",
        "upper_approx1 = np.asarray(approx1_results[14:15][0])[0]\n",
        "\n",
        "lower_exact1 = np.asarray(exact1_results[4:5][0])[0]\n",
        "median_exact1 = np.asarray(exact1_results[9:10][0])[0]\n",
        "upper_exact1 = np.asarray(exact1_results[14:15][0])[0]"
      ]
    },
    {
      "cell_type": "code",
      "execution_count": 76,
      "metadata": {
        "id": "CgIkJA1xQxf2"
      },
      "outputs": [],
      "source": [
        "# Iteration11 :\n",
        "\n",
        "slice11 = 10\n",
        "\n",
        "approx11 = [simple_regret_approx_1[slice11],\n",
        "       simple_regret_approx_2[slice11],\n",
        "       simple_regret_approx_3[slice11],\n",
        "       simple_regret_approx_4[slice11],\n",
        "       simple_regret_approx_5[slice11],\n",
        "       simple_regret_approx_6[slice11],\n",
        "       simple_regret_approx_7[slice11],\n",
        "       simple_regret_approx_8[slice11],\n",
        "       simple_regret_approx_9[slice11],\n",
        "       simple_regret_approx_10[slice11],\n",
        "       simple_regret_approx_11[slice11],\n",
        "       simple_regret_approx_12[slice11],\n",
        "       simple_regret_approx_13[slice11],\n",
        "       simple_regret_approx_14[slice11],\n",
        "       simple_regret_approx_15[slice11],\n",
        "       simple_regret_approx_16[slice11],\n",
        "       simple_regret_approx_17[slice11],\n",
        "       simple_regret_approx_18[slice11],\n",
        "       simple_regret_approx_19[slice11],\n",
        "       simple_regret_approx_20[slice11]]\n",
        "\n",
        "exact11 = [simple_regret_exact_1[slice11],\n",
        "       simple_regret_exact_2[slice11],\n",
        "       simple_regret_exact_3[slice11],\n",
        "       simple_regret_exact_4[slice11],\n",
        "       simple_regret_exact_5[slice11],\n",
        "       simple_regret_exact_6[slice11],\n",
        "       simple_regret_exact_7[slice11],\n",
        "       simple_regret_exact_8[slice11],\n",
        "       simple_regret_exact_9[slice11],\n",
        "       simple_regret_exact_10[slice11],\n",
        "       simple_regret_exact_11[slice11],\n",
        "       simple_regret_exact_12[slice11],\n",
        "       simple_regret_exact_13[slice11],\n",
        "       simple_regret_exact_14[slice11],\n",
        "       simple_regret_exact_15[slice11],\n",
        "       simple_regret_exact_16[slice11],\n",
        "       simple_regret_exact_17[slice11],\n",
        "       simple_regret_exact_18[slice11],\n",
        "       simple_regret_exact_19[slice11],\n",
        "       simple_regret_exact_20[slice11]]\n",
        "\n",
        "approx11_results = pd.DataFrame(approx11).sort_values(by=[0], ascending=False)\n",
        "exact11_results = pd.DataFrame(exact11).sort_values(by=[0], ascending=False)\n",
        "\n",
        "### Best simple regret minimization IQR - approx:\n",
        "lower_approx11 = np.asarray(approx11_results[4:5][0])[0]\n",
        "median_approx11 = np.asarray(approx11_results[9:10][0])[0]\n",
        "upper_approx11 = np.asarray(approx11_results[14:15][0])[0]\n",
        "\n",
        "lower_exact11 = np.asarray(exact11_results[4:5][0])[0]\n",
        "median_exact11 = np.asarray(exact11_results[9:10][0])[0]\n",
        "upper_exact11 = np.asarray(exact11_results[14:15][0])[0]"
      ]
    },
    {
      "cell_type": "code",
      "execution_count": 77,
      "metadata": {
        "id": "MFePDfGuQxf2"
      },
      "outputs": [],
      "source": [
        "# Iteration21 :\n",
        "\n",
        "slice21 = 20\n",
        "\n",
        "approx21 = [simple_regret_approx_1[slice21],\n",
        "       simple_regret_approx_2[slice21],\n",
        "       simple_regret_approx_3[slice21],\n",
        "       simple_regret_approx_4[slice21],\n",
        "       simple_regret_approx_5[slice21],\n",
        "       simple_regret_approx_6[slice21],\n",
        "       simple_regret_approx_7[slice21],\n",
        "       simple_regret_approx_8[slice21],\n",
        "       simple_regret_approx_9[slice21],\n",
        "       simple_regret_approx_10[slice21],\n",
        "       simple_regret_approx_11[slice21],\n",
        "       simple_regret_approx_12[slice21],\n",
        "       simple_regret_approx_13[slice21],\n",
        "       simple_regret_approx_14[slice21],\n",
        "       simple_regret_approx_15[slice21],\n",
        "       simple_regret_approx_16[slice21],\n",
        "       simple_regret_approx_17[slice21],\n",
        "       simple_regret_approx_18[slice21],\n",
        "       simple_regret_approx_19[slice21],\n",
        "       simple_regret_approx_20[slice21]]\n",
        "\n",
        "exact21 = [simple_regret_exact_1[slice21],\n",
        "       simple_regret_exact_2[slice21],\n",
        "       simple_regret_exact_3[slice21],\n",
        "       simple_regret_exact_4[slice21],\n",
        "       simple_regret_exact_5[slice21],\n",
        "       simple_regret_exact_6[slice21],\n",
        "       simple_regret_exact_7[slice21],\n",
        "       simple_regret_exact_8[slice21],\n",
        "       simple_regret_exact_9[slice21],\n",
        "       simple_regret_exact_10[slice21],\n",
        "       simple_regret_exact_11[slice21],\n",
        "       simple_regret_exact_12[slice21],\n",
        "       simple_regret_exact_13[slice21],\n",
        "       simple_regret_exact_14[slice21],\n",
        "       simple_regret_exact_15[slice21],\n",
        "       simple_regret_exact_16[slice21],\n",
        "       simple_regret_exact_17[slice21],\n",
        "       simple_regret_exact_18[slice21],\n",
        "       simple_regret_exact_19[slice21],\n",
        "       simple_regret_exact_20[slice21]]\n",
        "\n",
        "approx21_results = pd.DataFrame(approx21).sort_values(by=[0], ascending=False)\n",
        "exact21_results = pd.DataFrame(exact21).sort_values(by=[0], ascending=False)\n",
        "\n",
        "### Best simple regret minimization IQR - approx:\n",
        "lower_approx21 = np.asarray(approx21_results[4:5][0])[0]\n",
        "median_approx21 = np.asarray(approx21_results[9:10][0])[0]\n",
        "upper_approx21 = np.asarray(approx21_results[14:15][0])[0]\n",
        "\n",
        "lower_exact21 = np.asarray(exact21_results[4:5][0])[0]\n",
        "median_exact21 = np.asarray(exact21_results[9:10][0])[0]\n",
        "upper_exact21 = np.asarray(exact21_results[14:15][0])[0]"
      ]
    },
    {
      "cell_type": "code",
      "execution_count": 78,
      "metadata": {
        "id": "PrRDB1kfQxf3"
      },
      "outputs": [],
      "source": [
        "# Iteration2 :\n",
        "\n",
        "slice2 = 1\n",
        "\n",
        "approx2 = [simple_regret_approx_1[slice2],\n",
        "       simple_regret_approx_2[slice2],\n",
        "       simple_regret_approx_3[slice2],\n",
        "       simple_regret_approx_4[slice2],\n",
        "       simple_regret_approx_5[slice2],\n",
        "       simple_regret_approx_6[slice2],\n",
        "       simple_regret_approx_7[slice2],\n",
        "       simple_regret_approx_8[slice2],\n",
        "       simple_regret_approx_9[slice2],\n",
        "       simple_regret_approx_10[slice2],\n",
        "       simple_regret_approx_11[slice2],\n",
        "       simple_regret_approx_12[slice2],\n",
        "       simple_regret_approx_13[slice2],\n",
        "       simple_regret_approx_14[slice2],\n",
        "       simple_regret_approx_15[slice2],\n",
        "       simple_regret_approx_16[slice2],\n",
        "       simple_regret_approx_17[slice2],\n",
        "       simple_regret_approx_18[slice2],\n",
        "       simple_regret_approx_19[slice2],\n",
        "       simple_regret_approx_20[slice2]]\n",
        "\n",
        "exact2 = [simple_regret_exact_1[slice2],\n",
        "       simple_regret_exact_2[slice2],\n",
        "       simple_regret_exact_3[slice2],\n",
        "       simple_regret_exact_4[slice2],\n",
        "       simple_regret_exact_5[slice2],\n",
        "       simple_regret_exact_6[slice2],\n",
        "       simple_regret_exact_7[slice2],\n",
        "       simple_regret_exact_8[slice2],\n",
        "       simple_regret_exact_9[slice2],\n",
        "       simple_regret_exact_10[slice2],\n",
        "       simple_regret_exact_11[slice2],\n",
        "       simple_regret_exact_12[slice2],\n",
        "       simple_regret_exact_13[slice2],\n",
        "       simple_regret_exact_14[slice2],\n",
        "       simple_regret_exact_15[slice2],\n",
        "       simple_regret_exact_16[slice2],\n",
        "       simple_regret_exact_17[slice2],\n",
        "       simple_regret_exact_18[slice2],\n",
        "       simple_regret_exact_19[slice2],\n",
        "       simple_regret_exact_20[slice2]]\n",
        "\n",
        "approx2_results = pd.DataFrame(approx2).sort_values(by=[0], ascending=False)\n",
        "exact2_results = pd.DataFrame(exact2).sort_values(by=[0], ascending=False)\n",
        "\n",
        "### Best simple regret minimization IQR - approx:\n",
        "lower_approx2 = np.asarray(approx2_results[4:5][0])[0]\n",
        "median_approx2 = np.asarray(approx2_results[9:10][0])[0]\n",
        "upper_approx2 = np.asarray(approx2_results[14:15][0])[0]\n",
        "\n",
        "lower_exact2 = np.asarray(exact2_results[4:5][0])[0]\n",
        "median_exact2 = np.asarray(exact2_results[9:10][0])[0]\n",
        "upper_exact2 = np.asarray(exact2_results[14:15][0])[0]"
      ]
    },
    {
      "cell_type": "code",
      "execution_count": 79,
      "metadata": {
        "id": "B8ncJDYeQxf3"
      },
      "outputs": [],
      "source": [
        "# Iteration12 :\n",
        "\n",
        "slice12 = 11\n",
        "\n",
        "approx12 = [simple_regret_approx_1[slice12],\n",
        "       simple_regret_approx_2[slice12],\n",
        "       simple_regret_approx_3[slice12],\n",
        "       simple_regret_approx_4[slice12],\n",
        "       simple_regret_approx_5[slice12],\n",
        "       simple_regret_approx_6[slice12],\n",
        "       simple_regret_approx_7[slice12],\n",
        "       simple_regret_approx_8[slice12],\n",
        "       simple_regret_approx_9[slice12],\n",
        "       simple_regret_approx_10[slice12],\n",
        "       simple_regret_approx_11[slice12],\n",
        "       simple_regret_approx_12[slice12],\n",
        "       simple_regret_approx_13[slice12],\n",
        "       simple_regret_approx_14[slice12],\n",
        "       simple_regret_approx_15[slice12],\n",
        "       simple_regret_approx_16[slice12],\n",
        "       simple_regret_approx_17[slice12],\n",
        "       simple_regret_approx_18[slice12],\n",
        "       simple_regret_approx_19[slice12],\n",
        "       simple_regret_approx_20[slice12]]\n",
        "\n",
        "exact12 = [simple_regret_exact_1[slice12],\n",
        "       simple_regret_exact_2[slice12],\n",
        "       simple_regret_exact_3[slice12],\n",
        "       simple_regret_exact_4[slice12],\n",
        "       simple_regret_exact_5[slice12],\n",
        "       simple_regret_exact_6[slice12],\n",
        "       simple_regret_exact_7[slice12],\n",
        "       simple_regret_exact_8[slice12],\n",
        "       simple_regret_exact_9[slice12],\n",
        "       simple_regret_exact_10[slice12],\n",
        "       simple_regret_exact_11[slice12],\n",
        "       simple_regret_exact_12[slice12],\n",
        "       simple_regret_exact_13[slice12],\n",
        "       simple_regret_exact_14[slice12],\n",
        "       simple_regret_exact_15[slice12],\n",
        "       simple_regret_exact_16[slice12],\n",
        "       simple_regret_exact_17[slice12],\n",
        "       simple_regret_exact_18[slice12],\n",
        "       simple_regret_exact_19[slice12],\n",
        "       simple_regret_exact_20[slice12]]\n",
        "\n",
        "approx12_results = pd.DataFrame(approx12).sort_values(by=[0], ascending=False)\n",
        "exact12_results = pd.DataFrame(exact12).sort_values(by=[0], ascending=False)\n",
        "\n",
        "### Best simple regret minimization IQR - approx:\n",
        "lower_approx12 = np.asarray(approx12_results[4:5][0])[0]\n",
        "median_approx12 = np.asarray(approx12_results[9:10][0])[0]\n",
        "upper_approx12 = np.asarray(approx12_results[14:15][0])[0]\n",
        "\n",
        "lower_exact12 = np.asarray(exact12_results[4:5][0])[0]\n",
        "median_exact12 = np.asarray(exact12_results[9:10][0])[0]\n",
        "upper_exact12 = np.asarray(exact12_results[14:15][0])[0]"
      ]
    },
    {
      "cell_type": "code",
      "execution_count": 80,
      "metadata": {
        "id": "Jn4KpGvcQxf4"
      },
      "outputs": [],
      "source": [
        "# Iteration3 :\n",
        "\n",
        "slice3 = 2\n",
        "\n",
        "approx3 = [simple_regret_approx_1[slice3],\n",
        "       simple_regret_approx_2[slice3],\n",
        "       simple_regret_approx_3[slice3],\n",
        "       simple_regret_approx_4[slice3],\n",
        "       simple_regret_approx_5[slice3],\n",
        "       simple_regret_approx_6[slice3],\n",
        "       simple_regret_approx_7[slice3],\n",
        "       simple_regret_approx_8[slice3],\n",
        "       simple_regret_approx_9[slice3],\n",
        "       simple_regret_approx_10[slice3],\n",
        "       simple_regret_approx_11[slice3],\n",
        "       simple_regret_approx_12[slice3],\n",
        "       simple_regret_approx_13[slice3],\n",
        "       simple_regret_approx_14[slice3],\n",
        "       simple_regret_approx_15[slice3],\n",
        "       simple_regret_approx_16[slice3],\n",
        "       simple_regret_approx_17[slice3],\n",
        "       simple_regret_approx_18[slice3],\n",
        "       simple_regret_approx_19[slice3],\n",
        "       simple_regret_approx_20[slice3]]\n",
        "\n",
        "exact3 = [simple_regret_exact_1[slice3],\n",
        "       simple_regret_exact_2[slice3],\n",
        "       simple_regret_exact_3[slice3],\n",
        "       simple_regret_exact_4[slice3],\n",
        "       simple_regret_exact_5[slice3],\n",
        "       simple_regret_exact_6[slice3],\n",
        "       simple_regret_exact_7[slice3],\n",
        "       simple_regret_exact_8[slice3],\n",
        "       simple_regret_exact_9[slice3],\n",
        "       simple_regret_exact_10[slice3],\n",
        "       simple_regret_exact_11[slice3],\n",
        "       simple_regret_exact_12[slice3],\n",
        "       simple_regret_exact_13[slice3],\n",
        "       simple_regret_exact_14[slice3],\n",
        "       simple_regret_exact_15[slice3],\n",
        "       simple_regret_exact_16[slice3],\n",
        "       simple_regret_exact_17[slice3],\n",
        "       simple_regret_exact_18[slice3],\n",
        "       simple_regret_exact_19[slice3],\n",
        "       simple_regret_exact_20[slice3]]\n",
        "\n",
        "approx3_results = pd.DataFrame(approx3).sort_values(by=[0], ascending=False)\n",
        "exact3_results = pd.DataFrame(exact3).sort_values(by=[0], ascending=False)\n",
        "\n",
        "### Best simple regret minimization IQR - approx:\n",
        "lower_approx3 = np.asarray(approx3_results[4:5][0])[0]\n",
        "median_approx3 = np.asarray(approx3_results[9:10][0])[0]\n",
        "upper_approx3 = np.asarray(approx3_results[14:15][0])[0]\n",
        "\n",
        "lower_exact3 = np.asarray(exact3_results[4:5][0])[0]\n",
        "median_exact3 = np.asarray(exact3_results[9:10][0])[0]\n",
        "upper_exact3 = np.asarray(exact3_results[14:15][0])[0]"
      ]
    },
    {
      "cell_type": "code",
      "execution_count": 81,
      "metadata": {
        "id": "plf83wxrQxf4"
      },
      "outputs": [],
      "source": [
        "# Iteration13 :\n",
        "\n",
        "slice13 = 12\n",
        "\n",
        "approx13 = [simple_regret_approx_1[slice13],\n",
        "       simple_regret_approx_2[slice13],\n",
        "       simple_regret_approx_3[slice13],\n",
        "       simple_regret_approx_4[slice13],\n",
        "       simple_regret_approx_5[slice13],\n",
        "       simple_regret_approx_6[slice13],\n",
        "       simple_regret_approx_7[slice13],\n",
        "       simple_regret_approx_8[slice13],\n",
        "       simple_regret_approx_9[slice13],\n",
        "       simple_regret_approx_10[slice13],\n",
        "       simple_regret_approx_11[slice13],\n",
        "       simple_regret_approx_12[slice13],\n",
        "       simple_regret_approx_13[slice13],\n",
        "       simple_regret_approx_14[slice13],\n",
        "       simple_regret_approx_15[slice13],\n",
        "       simple_regret_approx_16[slice13],\n",
        "       simple_regret_approx_17[slice13],\n",
        "       simple_regret_approx_18[slice13],\n",
        "       simple_regret_approx_19[slice13],\n",
        "       simple_regret_approx_20[slice13]]\n",
        "\n",
        "exact13 = [simple_regret_exact_1[slice13],\n",
        "       simple_regret_exact_2[slice13],\n",
        "       simple_regret_exact_3[slice13],\n",
        "       simple_regret_exact_4[slice13],\n",
        "       simple_regret_exact_5[slice13],\n",
        "       simple_regret_exact_6[slice13],\n",
        "       simple_regret_exact_7[slice13],\n",
        "       simple_regret_exact_8[slice13],\n",
        "       simple_regret_exact_9[slice13],\n",
        "       simple_regret_exact_10[slice13],\n",
        "       simple_regret_exact_11[slice13],\n",
        "       simple_regret_exact_12[slice13],\n",
        "       simple_regret_exact_13[slice13],\n",
        "       simple_regret_exact_14[slice13],\n",
        "       simple_regret_exact_15[slice13],\n",
        "       simple_regret_exact_16[slice13],\n",
        "       simple_regret_exact_17[slice13],\n",
        "       simple_regret_exact_18[slice13],\n",
        "       simple_regret_exact_19[slice13],\n",
        "       simple_regret_exact_20[slice13]]\n",
        "\n",
        "approx13_results = pd.DataFrame(approx13).sort_values(by=[0], ascending=False)\n",
        "exact13_results = pd.DataFrame(exact13).sort_values(by=[0], ascending=False)\n",
        "\n",
        "### Best simple regret minimization IQR - approx:\n",
        "lower_approx13 = np.asarray(approx13_results[4:5][0])[0]\n",
        "median_approx13 = np.asarray(approx13_results[9:10][0])[0]\n",
        "upper_approx13 = np.asarray(approx13_results[14:15][0])[0]\n",
        "\n",
        "lower_exact13 = np.asarray(exact13_results[4:5][0])[0]\n",
        "median_exact13 = np.asarray(exact13_results[9:10][0])[0]\n",
        "upper_exact13 = np.asarray(exact13_results[14:15][0])[0]"
      ]
    },
    {
      "cell_type": "code",
      "execution_count": 82,
      "metadata": {
        "id": "9A7mlVvJQxf5"
      },
      "outputs": [],
      "source": [
        "# Iteration4 :\n",
        "\n",
        "slice4 = 3\n",
        "\n",
        "approx4 = [simple_regret_approx_1[slice4],\n",
        "       simple_regret_approx_2[slice4],\n",
        "       simple_regret_approx_3[slice4],\n",
        "       simple_regret_approx_4[slice4],\n",
        "       simple_regret_approx_5[slice4],\n",
        "       simple_regret_approx_6[slice4],\n",
        "       simple_regret_approx_7[slice4],\n",
        "       simple_regret_approx_8[slice4],\n",
        "       simple_regret_approx_9[slice4],\n",
        "       simple_regret_approx_10[slice4],\n",
        "       simple_regret_approx_11[slice4],\n",
        "       simple_regret_approx_12[slice4],\n",
        "       simple_regret_approx_13[slice4],\n",
        "       simple_regret_approx_14[slice4],\n",
        "       simple_regret_approx_15[slice4],\n",
        "       simple_regret_approx_16[slice4],\n",
        "       simple_regret_approx_17[slice4],\n",
        "       simple_regret_approx_18[slice4],\n",
        "       simple_regret_approx_19[slice4],\n",
        "       simple_regret_approx_20[slice4]]\n",
        "\n",
        "exact4 = [simple_regret_exact_1[slice4],\n",
        "       simple_regret_exact_2[slice4],\n",
        "       simple_regret_exact_3[slice4],\n",
        "       simple_regret_exact_4[slice4],\n",
        "       simple_regret_exact_5[slice4],\n",
        "       simple_regret_exact_6[slice4],\n",
        "       simple_regret_exact_7[slice4],\n",
        "       simple_regret_exact_8[slice4],\n",
        "       simple_regret_exact_9[slice4],\n",
        "       simple_regret_exact_10[slice4],\n",
        "       simple_regret_exact_11[slice4],\n",
        "       simple_regret_exact_12[slice4],\n",
        "       simple_regret_exact_13[slice4],\n",
        "       simple_regret_exact_14[slice4],\n",
        "       simple_regret_exact_15[slice4],\n",
        "       simple_regret_exact_16[slice4],\n",
        "       simple_regret_exact_17[slice4],\n",
        "       simple_regret_exact_18[slice4],\n",
        "       simple_regret_exact_19[slice4],\n",
        "       simple_regret_exact_20[slice4]]\n",
        "\n",
        "approx4_results = pd.DataFrame(approx4).sort_values(by=[0], ascending=False)\n",
        "exact4_results = pd.DataFrame(exact4).sort_values(by=[0], ascending=False)\n",
        "\n",
        "### Best simple regret minimization IQR - approx:\n",
        "lower_approx4 = np.asarray(approx4_results[4:5][0])[0]\n",
        "median_approx4 = np.asarray(approx4_results[9:10][0])[0]\n",
        "upper_approx4 = np.asarray(approx4_results[14:15][0])[0]\n",
        "\n",
        "lower_exact4 = np.asarray(exact4_results[4:5][0])[0]\n",
        "median_exact4 = np.asarray(exact4_results[9:10][0])[0]\n",
        "upper_exact4 = np.asarray(exact4_results[14:15][0])[0]"
      ]
    },
    {
      "cell_type": "code",
      "execution_count": 83,
      "metadata": {
        "id": "ijq-rioYQxf5"
      },
      "outputs": [],
      "source": [
        "# Iteration14 :\n",
        "\n",
        "slice14 = 13\n",
        "\n",
        "approx14 = [simple_regret_approx_1[slice14],\n",
        "       simple_regret_approx_2[slice14],\n",
        "       simple_regret_approx_3[slice14],\n",
        "       simple_regret_approx_4[slice14],\n",
        "       simple_regret_approx_5[slice14],\n",
        "       simple_regret_approx_6[slice14],\n",
        "       simple_regret_approx_7[slice14],\n",
        "       simple_regret_approx_8[slice14],\n",
        "       simple_regret_approx_9[slice14],\n",
        "       simple_regret_approx_10[slice14],\n",
        "       simple_regret_approx_11[slice14],\n",
        "       simple_regret_approx_12[slice14],\n",
        "       simple_regret_approx_13[slice14],\n",
        "       simple_regret_approx_14[slice14],\n",
        "       simple_regret_approx_15[slice14],\n",
        "       simple_regret_approx_16[slice14],\n",
        "       simple_regret_approx_17[slice14],\n",
        "       simple_regret_approx_18[slice14],\n",
        "       simple_regret_approx_19[slice14],\n",
        "       simple_regret_approx_20[slice14]]\n",
        "\n",
        "exact14 = [simple_regret_exact_1[slice14],\n",
        "       simple_regret_exact_2[slice14],\n",
        "       simple_regret_exact_3[slice14],\n",
        "       simple_regret_exact_4[slice14],\n",
        "       simple_regret_exact_5[slice14],\n",
        "       simple_regret_exact_6[slice14],\n",
        "       simple_regret_exact_7[slice14],\n",
        "       simple_regret_exact_8[slice14],\n",
        "       simple_regret_exact_9[slice14],\n",
        "       simple_regret_exact_10[slice14],\n",
        "       simple_regret_exact_11[slice14],\n",
        "       simple_regret_exact_12[slice14],\n",
        "       simple_regret_exact_13[slice14],\n",
        "       simple_regret_exact_14[slice14],\n",
        "       simple_regret_exact_15[slice14],\n",
        "       simple_regret_exact_16[slice14],\n",
        "       simple_regret_exact_17[slice14],\n",
        "       simple_regret_exact_18[slice14],\n",
        "       simple_regret_exact_19[slice14],\n",
        "       simple_regret_exact_20[slice14]]\n",
        "\n",
        "approx14_results = pd.DataFrame(approx14).sort_values(by=[0], ascending=False)\n",
        "exact14_results = pd.DataFrame(exact14).sort_values(by=[0], ascending=False)\n",
        "\n",
        "### Best simple regret minimization IQR - approx:\n",
        "lower_approx14 = np.asarray(approx14_results[4:5][0])[0]\n",
        "median_approx14 = np.asarray(approx14_results[9:10][0])[0]\n",
        "upper_approx14 = np.asarray(approx14_results[14:15][0])[0]\n",
        "\n",
        "lower_exact14 = np.asarray(exact14_results[4:5][0])[0]\n",
        "median_exact14 = np.asarray(exact14_results[9:10][0])[0]\n",
        "upper_exact14 = np.asarray(exact14_results[14:15][0])[0]"
      ]
    },
    {
      "cell_type": "code",
      "execution_count": 84,
      "metadata": {
        "id": "XINlZjoTd-ZK"
      },
      "outputs": [],
      "source": [
        "# Iteration5 :\n",
        "\n",
        "slice5 = 4\n",
        "\n",
        "approx5 = [simple_regret_approx_1[slice5],\n",
        "       simple_regret_approx_2[slice5],\n",
        "       simple_regret_approx_3[slice5],\n",
        "       simple_regret_approx_4[slice5],\n",
        "       simple_regret_approx_5[slice5],\n",
        "       simple_regret_approx_6[slice5],\n",
        "       simple_regret_approx_7[slice5],\n",
        "       simple_regret_approx_8[slice5],\n",
        "       simple_regret_approx_9[slice5],\n",
        "       simple_regret_approx_10[slice5],\n",
        "       simple_regret_approx_11[slice5],\n",
        "       simple_regret_approx_12[slice5],\n",
        "       simple_regret_approx_13[slice5],\n",
        "       simple_regret_approx_14[slice5],\n",
        "       simple_regret_approx_15[slice5],\n",
        "       simple_regret_approx_16[slice5],\n",
        "       simple_regret_approx_17[slice5],\n",
        "       simple_regret_approx_18[slice5],\n",
        "       simple_regret_approx_19[slice5],\n",
        "       simple_regret_approx_20[slice5]]\n",
        "\n",
        "exact5 = [simple_regret_exact_1[slice5],\n",
        "       simple_regret_exact_2[slice5],\n",
        "       simple_regret_exact_3[slice5],\n",
        "       simple_regret_exact_4[slice5],\n",
        "       simple_regret_exact_5[slice5],\n",
        "       simple_regret_exact_6[slice5],\n",
        "       simple_regret_exact_7[slice5],\n",
        "       simple_regret_exact_8[slice5],\n",
        "       simple_regret_exact_9[slice5],\n",
        "       simple_regret_exact_10[slice5],\n",
        "       simple_regret_exact_11[slice5],\n",
        "       simple_regret_exact_12[slice5],\n",
        "       simple_regret_exact_13[slice5],\n",
        "       simple_regret_exact_14[slice5],\n",
        "       simple_regret_exact_15[slice5],\n",
        "       simple_regret_exact_16[slice5],\n",
        "       simple_regret_exact_17[slice5],\n",
        "       simple_regret_exact_18[slice5],\n",
        "       simple_regret_exact_19[slice5],\n",
        "       simple_regret_exact_20[slice5]]\n",
        "\n",
        "approx5_results = pd.DataFrame(approx5).sort_values(by=[0], ascending=False)\n",
        "exact5_results = pd.DataFrame(exact5).sort_values(by=[0], ascending=False)\n",
        "\n",
        "### Best simple regret minimization IQR - approx:\n",
        "lower_approx5 = np.asarray(approx5_results[4:5][0])[0]\n",
        "median_approx5 = np.asarray(approx5_results[9:10][0])[0]\n",
        "upper_approx5 = np.asarray(approx5_results[14:15][0])[0]\n",
        "\n",
        "lower_exact5 = np.asarray(exact5_results[4:5][0])[0]\n",
        "median_exact5 = np.asarray(exact5_results[9:10][0])[0]\n",
        "upper_exact5 = np.asarray(exact5_results[14:15][0])[0]"
      ]
    },
    {
      "cell_type": "code",
      "execution_count": 85,
      "metadata": {
        "id": "4aZ7C8sOQxf6"
      },
      "outputs": [],
      "source": [
        "# Iteration15 :\n",
        "\n",
        "slice15 = 14\n",
        "\n",
        "approx15 = [simple_regret_approx_1[slice15],\n",
        "       simple_regret_approx_2[slice15],\n",
        "       simple_regret_approx_3[slice15],\n",
        "       simple_regret_approx_4[slice15],\n",
        "       simple_regret_approx_5[slice15],\n",
        "       simple_regret_approx_6[slice15],\n",
        "       simple_regret_approx_7[slice15],\n",
        "       simple_regret_approx_8[slice15],\n",
        "       simple_regret_approx_9[slice15],\n",
        "       simple_regret_approx_10[slice15],\n",
        "       simple_regret_approx_11[slice15],\n",
        "       simple_regret_approx_12[slice15],\n",
        "       simple_regret_approx_13[slice15],\n",
        "       simple_regret_approx_14[slice15],\n",
        "       simple_regret_approx_15[slice15],\n",
        "       simple_regret_approx_16[slice15],\n",
        "       simple_regret_approx_17[slice15],\n",
        "       simple_regret_approx_18[slice15],\n",
        "       simple_regret_approx_19[slice15],\n",
        "       simple_regret_approx_20[slice15]]\n",
        "\n",
        "exact15 = [simple_regret_exact_1[slice15],\n",
        "       simple_regret_exact_2[slice15],\n",
        "       simple_regret_exact_3[slice15],\n",
        "       simple_regret_exact_4[slice15],\n",
        "       simple_regret_exact_5[slice15],\n",
        "       simple_regret_exact_6[slice15],\n",
        "       simple_regret_exact_7[slice15],\n",
        "       simple_regret_exact_8[slice15],\n",
        "       simple_regret_exact_9[slice15],\n",
        "       simple_regret_exact_10[slice15],\n",
        "       simple_regret_exact_11[slice15],\n",
        "       simple_regret_exact_12[slice15],\n",
        "       simple_regret_exact_13[slice15],\n",
        "       simple_regret_exact_14[slice15],\n",
        "       simple_regret_exact_15[slice15],\n",
        "       simple_regret_exact_16[slice15],\n",
        "       simple_regret_exact_17[slice15],\n",
        "       simple_regret_exact_18[slice15],\n",
        "       simple_regret_exact_19[slice15],\n",
        "       simple_regret_exact_20[slice15]]\n",
        "\n",
        "approx15_results = pd.DataFrame(approx15).sort_values(by=[0], ascending=False)\n",
        "exact15_results = pd.DataFrame(exact15).sort_values(by=[0], ascending=False)\n",
        "\n",
        "### Best simple regret minimization IQR - approx:\n",
        "lower_approx15 = np.asarray(approx15_results[4:5][0])[0]\n",
        "median_approx15 = np.asarray(approx15_results[9:10][0])[0]\n",
        "upper_approx15 = np.asarray(approx15_results[14:15][0])[0]\n",
        "\n",
        "lower_exact15 = np.asarray(exact15_results[4:5][0])[0]\n",
        "median_exact15 = np.asarray(exact15_results[9:10][0])[0]\n",
        "upper_exact15 = np.asarray(exact15_results[14:15][0])[0]"
      ]
    },
    {
      "cell_type": "code",
      "execution_count": 86,
      "metadata": {
        "id": "KJINKhv1Qxf6"
      },
      "outputs": [],
      "source": [
        "# Iteration6 :\n",
        "\n",
        "slice6 = 5\n",
        "\n",
        "approx6 = [simple_regret_approx_1[slice6],\n",
        "       simple_regret_approx_2[slice6],\n",
        "       simple_regret_approx_3[slice6],\n",
        "       simple_regret_approx_4[slice6],\n",
        "       simple_regret_approx_5[slice6],\n",
        "       simple_regret_approx_6[slice6],\n",
        "       simple_regret_approx_7[slice6],\n",
        "       simple_regret_approx_8[slice6],\n",
        "       simple_regret_approx_9[slice6],\n",
        "       simple_regret_approx_10[slice6],\n",
        "       simple_regret_approx_11[slice6],\n",
        "       simple_regret_approx_12[slice6],\n",
        "       simple_regret_approx_13[slice6],\n",
        "       simple_regret_approx_14[slice6],\n",
        "       simple_regret_approx_15[slice6],\n",
        "       simple_regret_approx_16[slice6],\n",
        "       simple_regret_approx_17[slice6],\n",
        "       simple_regret_approx_18[slice6],\n",
        "       simple_regret_approx_19[slice6],\n",
        "       simple_regret_approx_20[slice6]]\n",
        "\n",
        "exact6 = [simple_regret_exact_1[slice6],\n",
        "       simple_regret_exact_2[slice6],\n",
        "       simple_regret_exact_3[slice6],\n",
        "       simple_regret_exact_4[slice6],\n",
        "       simple_regret_exact_5[slice6],\n",
        "       simple_regret_exact_6[slice6],\n",
        "       simple_regret_exact_7[slice6],\n",
        "       simple_regret_exact_8[slice6],\n",
        "       simple_regret_exact_9[slice6],\n",
        "       simple_regret_exact_10[slice6],\n",
        "       simple_regret_exact_11[slice6],\n",
        "       simple_regret_exact_12[slice6],\n",
        "       simple_regret_exact_13[slice6],\n",
        "       simple_regret_exact_14[slice6],\n",
        "       simple_regret_exact_15[slice6],\n",
        "       simple_regret_exact_16[slice6],\n",
        "       simple_regret_exact_17[slice6],\n",
        "       simple_regret_exact_18[slice6],\n",
        "       simple_regret_exact_19[slice6],\n",
        "       simple_regret_exact_20[slice6]]\n",
        "\n",
        "approx6_results = pd.DataFrame(approx6).sort_values(by=[0], ascending=False)\n",
        "exact6_results = pd.DataFrame(exact6).sort_values(by=[0], ascending=False)\n",
        "\n",
        "### Best simple regret minimization IQR - approx:\n",
        "lower_approx6 = np.asarray(approx6_results[4:5][0])[0]\n",
        "median_approx6 = np.asarray(approx6_results[9:10][0])[0]\n",
        "upper_approx6 = np.asarray(approx6_results[14:15][0])[0]\n",
        "\n",
        "lower_exact6 = np.asarray(exact6_results[4:5][0])[0]\n",
        "median_exact6 = np.asarray(exact6_results[9:10][0])[0]\n",
        "upper_exact6 = np.asarray(exact6_results[14:15][0])[0]"
      ]
    },
    {
      "cell_type": "code",
      "execution_count": 87,
      "metadata": {
        "id": "nwC5N1FsQxf7"
      },
      "outputs": [],
      "source": [
        "# Iteration16 :\n",
        "\n",
        "slice16 = 15\n",
        "\n",
        "approx16 = [simple_regret_approx_1[slice16],\n",
        "       simple_regret_approx_2[slice16],\n",
        "       simple_regret_approx_3[slice16],\n",
        "       simple_regret_approx_4[slice16],\n",
        "       simple_regret_approx_5[slice16],\n",
        "       simple_regret_approx_6[slice16],\n",
        "       simple_regret_approx_7[slice16],\n",
        "       simple_regret_approx_8[slice16],\n",
        "       simple_regret_approx_9[slice16],\n",
        "       simple_regret_approx_10[slice16],\n",
        "       simple_regret_approx_11[slice16],\n",
        "       simple_regret_approx_12[slice16],\n",
        "       simple_regret_approx_13[slice16],\n",
        "       simple_regret_approx_14[slice16],\n",
        "       simple_regret_approx_15[slice16],\n",
        "       simple_regret_approx_16[slice16],\n",
        "       simple_regret_approx_17[slice16],\n",
        "       simple_regret_approx_18[slice16],\n",
        "       simple_regret_approx_19[slice16],\n",
        "       simple_regret_approx_20[slice16]]\n",
        "\n",
        "exact16 = [simple_regret_exact_1[slice16],\n",
        "       simple_regret_exact_2[slice16],\n",
        "       simple_regret_exact_3[slice16],\n",
        "       simple_regret_exact_4[slice16],\n",
        "       simple_regret_exact_5[slice16],\n",
        "       simple_regret_exact_6[slice16],\n",
        "       simple_regret_exact_7[slice16],\n",
        "       simple_regret_exact_8[slice16],\n",
        "       simple_regret_exact_9[slice16],\n",
        "       simple_regret_exact_10[slice16],\n",
        "       simple_regret_exact_11[slice16],\n",
        "       simple_regret_exact_12[slice16],\n",
        "       simple_regret_exact_13[slice16],\n",
        "       simple_regret_exact_14[slice16],\n",
        "       simple_regret_exact_15[slice16],\n",
        "       simple_regret_exact_16[slice16],\n",
        "       simple_regret_exact_17[slice16],\n",
        "       simple_regret_exact_18[slice16],\n",
        "       simple_regret_exact_19[slice16],\n",
        "       simple_regret_exact_20[slice16]]\n",
        "\n",
        "approx16_results = pd.DataFrame(approx16).sort_values(by=[0], ascending=False)\n",
        "exact16_results = pd.DataFrame(exact16).sort_values(by=[0], ascending=False)\n",
        "\n",
        "### Best simple regret minimization IQR - approx:\n",
        "lower_approx16 = np.asarray(approx16_results[4:5][0])[0]\n",
        "median_approx16 = np.asarray(approx16_results[9:10][0])[0]\n",
        "upper_approx16 = np.asarray(approx16_results[14:15][0])[0]\n",
        "\n",
        "lower_exact16 = np.asarray(exact16_results[4:5][0])[0]\n",
        "median_exact16 = np.asarray(exact16_results[9:10][0])[0]\n",
        "upper_exact16 = np.asarray(exact16_results[14:15][0])[0]"
      ]
    },
    {
      "cell_type": "code",
      "execution_count": 88,
      "metadata": {
        "id": "TrPV0AfnQxf7"
      },
      "outputs": [],
      "source": [
        "# Iteration7 :\n",
        "\n",
        "slice7 = 6\n",
        "\n",
        "approx7 = [simple_regret_approx_1[slice7],\n",
        "       simple_regret_approx_2[slice7],\n",
        "       simple_regret_approx_3[slice7],\n",
        "       simple_regret_approx_4[slice7],\n",
        "       simple_regret_approx_5[slice7],\n",
        "       simple_regret_approx_6[slice7],\n",
        "       simple_regret_approx_7[slice7],\n",
        "       simple_regret_approx_8[slice7],\n",
        "       simple_regret_approx_9[slice7],\n",
        "       simple_regret_approx_10[slice7],\n",
        "       simple_regret_approx_11[slice7],\n",
        "       simple_regret_approx_12[slice7],\n",
        "       simple_regret_approx_13[slice7],\n",
        "       simple_regret_approx_14[slice7],\n",
        "       simple_regret_approx_15[slice7],\n",
        "       simple_regret_approx_16[slice7],\n",
        "       simple_regret_approx_17[slice7],\n",
        "       simple_regret_approx_18[slice7],\n",
        "       simple_regret_approx_19[slice7],\n",
        "       simple_regret_approx_20[slice7]]\n",
        "\n",
        "exact7 = [simple_regret_exact_1[slice7],\n",
        "       simple_regret_exact_2[slice7],\n",
        "       simple_regret_exact_3[slice7],\n",
        "       simple_regret_exact_4[slice7],\n",
        "       simple_regret_exact_5[slice7],\n",
        "       simple_regret_exact_6[slice7],\n",
        "       simple_regret_exact_7[slice7],\n",
        "       simple_regret_exact_8[slice7],\n",
        "       simple_regret_exact_9[slice7],\n",
        "       simple_regret_exact_10[slice7],\n",
        "       simple_regret_exact_11[slice7],\n",
        "       simple_regret_exact_12[slice7],\n",
        "       simple_regret_exact_13[slice7],\n",
        "       simple_regret_exact_14[slice7],\n",
        "       simple_regret_exact_15[slice7],\n",
        "       simple_regret_exact_16[slice7],\n",
        "       simple_regret_exact_17[slice7],\n",
        "       simple_regret_exact_18[slice7],\n",
        "       simple_regret_exact_19[slice7],\n",
        "       simple_regret_exact_20[slice7]]\n",
        "\n",
        "approx7_results = pd.DataFrame(approx7).sort_values(by=[0], ascending=False)\n",
        "exact7_results = pd.DataFrame(exact7).sort_values(by=[0], ascending=False)\n",
        "\n",
        "### Best simple regret minimization IQR - approx:\n",
        "lower_approx7 = np.asarray(approx7_results[4:5][0])[0]\n",
        "median_approx7 = np.asarray(approx7_results[9:10][0])[0]\n",
        "upper_approx7 = np.asarray(approx7_results[14:15][0])[0]\n",
        "\n",
        "lower_exact7 = np.asarray(exact7_results[4:5][0])[0]\n",
        "median_exact7 = np.asarray(exact7_results[9:10][0])[0]\n",
        "upper_exact7 = np.asarray(exact7_results[14:15][0])[0]"
      ]
    },
    {
      "cell_type": "code",
      "execution_count": 89,
      "metadata": {
        "id": "Ub_-wpK4Qxf8"
      },
      "outputs": [],
      "source": [
        "# Iteration17 :\n",
        "\n",
        "slice17 = 16\n",
        "\n",
        "approx17 = [simple_regret_approx_1[slice17],\n",
        "       simple_regret_approx_2[slice17],\n",
        "       simple_regret_approx_3[slice17],\n",
        "       simple_regret_approx_4[slice17],\n",
        "       simple_regret_approx_5[slice17],\n",
        "       simple_regret_approx_6[slice17],\n",
        "       simple_regret_approx_7[slice17],\n",
        "       simple_regret_approx_8[slice17],\n",
        "       simple_regret_approx_9[slice17],\n",
        "       simple_regret_approx_10[slice17],\n",
        "       simple_regret_approx_11[slice17],\n",
        "       simple_regret_approx_12[slice17],\n",
        "       simple_regret_approx_13[slice17],\n",
        "       simple_regret_approx_14[slice17],\n",
        "       simple_regret_approx_15[slice17],\n",
        "       simple_regret_approx_16[slice17],\n",
        "       simple_regret_approx_17[slice17],\n",
        "       simple_regret_approx_18[slice17],\n",
        "       simple_regret_approx_19[slice17],\n",
        "       simple_regret_approx_20[slice17]]\n",
        "\n",
        "exact17 = [simple_regret_exact_1[slice17],\n",
        "       simple_regret_exact_2[slice17],\n",
        "       simple_regret_exact_3[slice17],\n",
        "       simple_regret_exact_4[slice17],\n",
        "       simple_regret_exact_5[slice17],\n",
        "       simple_regret_exact_6[slice17],\n",
        "       simple_regret_exact_7[slice17],\n",
        "       simple_regret_exact_8[slice17],\n",
        "       simple_regret_exact_9[slice17],\n",
        "       simple_regret_exact_10[slice17],\n",
        "       simple_regret_exact_11[slice17],\n",
        "       simple_regret_exact_12[slice17],\n",
        "       simple_regret_exact_13[slice17],\n",
        "       simple_regret_exact_14[slice17],\n",
        "       simple_regret_exact_15[slice17],\n",
        "       simple_regret_exact_16[slice17],\n",
        "       simple_regret_exact_17[slice17],\n",
        "       simple_regret_exact_18[slice17],\n",
        "       simple_regret_exact_19[slice17],\n",
        "       simple_regret_exact_20[slice17]]\n",
        "\n",
        "approx17_results = pd.DataFrame(approx17).sort_values(by=[0], ascending=False)\n",
        "exact17_results = pd.DataFrame(exact17).sort_values(by=[0], ascending=False)\n",
        "\n",
        "### Best simple regret minimization IQR - approx:\n",
        "lower_approx17 = np.asarray(approx17_results[4:5][0])[0]\n",
        "median_approx17 = np.asarray(approx17_results[9:10][0])[0]\n",
        "upper_approx17 = np.asarray(approx17_results[14:15][0])[0]\n",
        "\n",
        "lower_exact17 = np.asarray(exact17_results[4:5][0])[0]\n",
        "median_exact17 = np.asarray(exact17_results[9:10][0])[0]\n",
        "upper_exact17 = np.asarray(exact17_results[14:15][0])[0]"
      ]
    },
    {
      "cell_type": "code",
      "execution_count": 90,
      "metadata": {
        "id": "-6VLo37PQxf8"
      },
      "outputs": [],
      "source": [
        "# Iteration8 :\n",
        "\n",
        "slice8 = 7\n",
        "\n",
        "approx8 = [simple_regret_approx_1[slice8],\n",
        "       simple_regret_approx_2[slice8],\n",
        "       simple_regret_approx_3[slice8],\n",
        "       simple_regret_approx_4[slice8],\n",
        "       simple_regret_approx_5[slice8],\n",
        "       simple_regret_approx_6[slice8],\n",
        "       simple_regret_approx_7[slice8],\n",
        "       simple_regret_approx_8[slice8],\n",
        "       simple_regret_approx_9[slice8],\n",
        "       simple_regret_approx_10[slice8],\n",
        "       simple_regret_approx_11[slice8],\n",
        "       simple_regret_approx_12[slice8],\n",
        "       simple_regret_approx_13[slice8],\n",
        "       simple_regret_approx_14[slice8],\n",
        "       simple_regret_approx_15[slice8],\n",
        "       simple_regret_approx_16[slice8],\n",
        "       simple_regret_approx_17[slice8],\n",
        "       simple_regret_approx_18[slice8],\n",
        "       simple_regret_approx_19[slice8],\n",
        "       simple_regret_approx_20[slice8]]\n",
        "\n",
        "exact8 = [simple_regret_exact_1[slice8],\n",
        "       simple_regret_exact_2[slice8],\n",
        "       simple_regret_exact_3[slice8],\n",
        "       simple_regret_exact_4[slice8],\n",
        "       simple_regret_exact_5[slice8],\n",
        "       simple_regret_exact_6[slice8],\n",
        "       simple_regret_exact_7[slice8],\n",
        "       simple_regret_exact_8[slice8],\n",
        "       simple_regret_exact_9[slice8],\n",
        "       simple_regret_exact_10[slice8],\n",
        "       simple_regret_exact_11[slice8],\n",
        "       simple_regret_exact_12[slice8],\n",
        "       simple_regret_exact_13[slice8],\n",
        "       simple_regret_exact_14[slice8],\n",
        "       simple_regret_exact_15[slice8],\n",
        "       simple_regret_exact_16[slice8],\n",
        "       simple_regret_exact_17[slice8],\n",
        "       simple_regret_exact_18[slice8],\n",
        "       simple_regret_exact_19[slice8],\n",
        "       simple_regret_exact_20[slice8]]\n",
        "\n",
        "approx8_results = pd.DataFrame(approx8).sort_values(by=[0], ascending=False)\n",
        "exact8_results = pd.DataFrame(exact8).sort_values(by=[0], ascending=False)\n",
        "\n",
        "### Best simple regret minimization IQR - approx:\n",
        "lower_approx8 = np.asarray(approx8_results[4:5][0])[0]\n",
        "median_approx8 = np.asarray(approx8_results[9:10][0])[0]\n",
        "upper_approx8 = np.asarray(approx8_results[14:15][0])[0]\n",
        "\n",
        "lower_exact8 = np.asarray(exact8_results[4:5][0])[0]\n",
        "median_exact8 = np.asarray(exact8_results[9:10][0])[0]\n",
        "upper_exact8 = np.asarray(exact8_results[14:15][0])[0]"
      ]
    },
    {
      "cell_type": "code",
      "execution_count": 91,
      "metadata": {
        "id": "2Dp-9CC2Qxf9"
      },
      "outputs": [],
      "source": [
        "# Iteration18 :\n",
        "\n",
        "slice18 = 17\n",
        "\n",
        "approx18 = [simple_regret_approx_1[slice18],\n",
        "       simple_regret_approx_2[slice18],\n",
        "       simple_regret_approx_3[slice18],\n",
        "       simple_regret_approx_4[slice18],\n",
        "       simple_regret_approx_5[slice18],\n",
        "       simple_regret_approx_6[slice18],\n",
        "       simple_regret_approx_7[slice18],\n",
        "       simple_regret_approx_8[slice18],\n",
        "       simple_regret_approx_9[slice18],\n",
        "       simple_regret_approx_10[slice18],\n",
        "       simple_regret_approx_11[slice18],\n",
        "       simple_regret_approx_12[slice18],\n",
        "       simple_regret_approx_13[slice18],\n",
        "       simple_regret_approx_14[slice18],\n",
        "       simple_regret_approx_15[slice18],\n",
        "       simple_regret_approx_16[slice18],\n",
        "       simple_regret_approx_17[slice18],\n",
        "       simple_regret_approx_18[slice18],\n",
        "       simple_regret_approx_19[slice18],\n",
        "       simple_regret_approx_20[slice18]]\n",
        "\n",
        "exact18 = [simple_regret_exact_1[slice18],\n",
        "       simple_regret_exact_2[slice18],\n",
        "       simple_regret_exact_3[slice18],\n",
        "       simple_regret_exact_4[slice18],\n",
        "       simple_regret_exact_5[slice18],\n",
        "       simple_regret_exact_6[slice18],\n",
        "       simple_regret_exact_7[slice18],\n",
        "       simple_regret_exact_8[slice18],\n",
        "       simple_regret_exact_9[slice18],\n",
        "       simple_regret_exact_10[slice18],\n",
        "       simple_regret_exact_11[slice18],\n",
        "       simple_regret_exact_12[slice18],\n",
        "       simple_regret_exact_13[slice18],\n",
        "       simple_regret_exact_14[slice18],\n",
        "       simple_regret_exact_15[slice18],\n",
        "       simple_regret_exact_16[slice18],\n",
        "       simple_regret_exact_17[slice18],\n",
        "       simple_regret_exact_18[slice18],\n",
        "       simple_regret_exact_19[slice18],\n",
        "       simple_regret_exact_20[slice18]]\n",
        "\n",
        "approx18_results = pd.DataFrame(approx18).sort_values(by=[0], ascending=False)\n",
        "exact18_results = pd.DataFrame(exact18).sort_values(by=[0], ascending=False)\n",
        "\n",
        "### Best simple regret minimization IQR - approx:\n",
        "lower_approx18 = np.asarray(approx18_results[4:5][0])[0]\n",
        "median_approx18 = np.asarray(approx18_results[9:10][0])[0]\n",
        "upper_approx18 = np.asarray(approx18_results[14:15][0])[0]\n",
        "\n",
        "lower_exact18 = np.asarray(exact18_results[4:5][0])[0]\n",
        "median_exact18 = np.asarray(exact18_results[9:10][0])[0]\n",
        "upper_exact18 = np.asarray(exact18_results[14:15][0])[0]"
      ]
    },
    {
      "cell_type": "code",
      "execution_count": 92,
      "metadata": {
        "id": "SqiaOpB7Qxf9"
      },
      "outputs": [],
      "source": [
        "# Iteration9 :\n",
        "\n",
        "slice9 = 8\n",
        "\n",
        "approx9 = [simple_regret_approx_1[slice9],\n",
        "       simple_regret_approx_2[slice9],\n",
        "       simple_regret_approx_3[slice9],\n",
        "       simple_regret_approx_4[slice9],\n",
        "       simple_regret_approx_5[slice9],\n",
        "       simple_regret_approx_6[slice9],\n",
        "       simple_regret_approx_7[slice9],\n",
        "       simple_regret_approx_8[slice9],\n",
        "       simple_regret_approx_9[slice9],\n",
        "       simple_regret_approx_10[slice9],\n",
        "       simple_regret_approx_11[slice9],\n",
        "       simple_regret_approx_12[slice9],\n",
        "       simple_regret_approx_13[slice9],\n",
        "       simple_regret_approx_14[slice9],\n",
        "       simple_regret_approx_15[slice9],\n",
        "       simple_regret_approx_16[slice9],\n",
        "       simple_regret_approx_17[slice9],\n",
        "       simple_regret_approx_18[slice9],\n",
        "       simple_regret_approx_19[slice9],\n",
        "       simple_regret_approx_20[slice9]]\n",
        "\n",
        "exact9 = [simple_regret_exact_1[slice9],\n",
        "       simple_regret_exact_2[slice9],\n",
        "       simple_regret_exact_3[slice9],\n",
        "       simple_regret_exact_4[slice9],\n",
        "       simple_regret_exact_5[slice9],\n",
        "       simple_regret_exact_6[slice9],\n",
        "       simple_regret_exact_7[slice9],\n",
        "       simple_regret_exact_8[slice9],\n",
        "       simple_regret_exact_9[slice9],\n",
        "       simple_regret_exact_10[slice9],\n",
        "       simple_regret_exact_11[slice9],\n",
        "       simple_regret_exact_12[slice9],\n",
        "       simple_regret_exact_13[slice9],\n",
        "       simple_regret_exact_14[slice9],\n",
        "       simple_regret_exact_15[slice9],\n",
        "       simple_regret_exact_16[slice9],\n",
        "       simple_regret_exact_17[slice9],\n",
        "       simple_regret_exact_18[slice9],\n",
        "       simple_regret_exact_19[slice9],\n",
        "       simple_regret_exact_20[slice9]]\n",
        "\n",
        "approx9_results = pd.DataFrame(approx9).sort_values(by=[0], ascending=False)\n",
        "exact9_results = pd.DataFrame(exact9).sort_values(by=[0], ascending=False)\n",
        "\n",
        "### Best simple regret minimization IQR - approx:\n",
        "lower_approx9 = np.asarray(approx9_results[4:5][0])[0]\n",
        "median_approx9 = np.asarray(approx9_results[9:10][0])[0]\n",
        "upper_approx9 = np.asarray(approx9_results[14:15][0])[0]\n",
        "\n",
        "lower_exact9 = np.asarray(exact9_results[4:5][0])[0]\n",
        "median_exact9 = np.asarray(exact9_results[9:10][0])[0]\n",
        "upper_exact9 = np.asarray(exact9_results[14:15][0])[0]"
      ]
    },
    {
      "cell_type": "code",
      "execution_count": 93,
      "metadata": {
        "id": "OQkCCOsPQxf9"
      },
      "outputs": [],
      "source": [
        "# Iteration19 :\n",
        "\n",
        "slice19 = 18\n",
        "\n",
        "approx19 = [simple_regret_approx_1[slice19],\n",
        "       simple_regret_approx_2[slice19],\n",
        "       simple_regret_approx_3[slice19],\n",
        "       simple_regret_approx_4[slice19],\n",
        "       simple_regret_approx_5[slice19],\n",
        "       simple_regret_approx_6[slice19],\n",
        "       simple_regret_approx_7[slice19],\n",
        "       simple_regret_approx_8[slice19],\n",
        "       simple_regret_approx_9[slice19],\n",
        "       simple_regret_approx_10[slice19],\n",
        "       simple_regret_approx_11[slice19],\n",
        "       simple_regret_approx_12[slice19],\n",
        "       simple_regret_approx_13[slice19],\n",
        "       simple_regret_approx_14[slice19],\n",
        "       simple_regret_approx_15[slice19],\n",
        "       simple_regret_approx_16[slice19],\n",
        "       simple_regret_approx_17[slice19],\n",
        "       simple_regret_approx_18[slice19],\n",
        "       simple_regret_approx_19[slice19],\n",
        "       simple_regret_approx_20[slice19]]\n",
        "\n",
        "exact19 = [simple_regret_exact_1[slice19],\n",
        "       simple_regret_exact_2[slice19],\n",
        "       simple_regret_exact_3[slice19],\n",
        "       simple_regret_exact_4[slice19],\n",
        "       simple_regret_exact_5[slice19],\n",
        "       simple_regret_exact_6[slice19],\n",
        "       simple_regret_exact_7[slice19],\n",
        "       simple_regret_exact_8[slice19],\n",
        "       simple_regret_exact_9[slice19],\n",
        "       simple_regret_exact_10[slice19],\n",
        "       simple_regret_exact_11[slice19],\n",
        "       simple_regret_exact_12[slice19],\n",
        "       simple_regret_exact_13[slice19],\n",
        "       simple_regret_exact_14[slice19],\n",
        "       simple_regret_exact_15[slice19],\n",
        "       simple_regret_exact_16[slice19],\n",
        "       simple_regret_exact_17[slice19],\n",
        "       simple_regret_exact_18[slice19],\n",
        "       simple_regret_exact_19[slice19],\n",
        "       simple_regret_exact_20[slice19]]\n",
        "\n",
        "approx19_results = pd.DataFrame(approx19).sort_values(by=[0], ascending=False)\n",
        "exact19_results = pd.DataFrame(exact19).sort_values(by=[0], ascending=False)\n",
        "\n",
        "### Best simple regret minimization IQR - approx:\n",
        "lower_approx19 = np.asarray(approx19_results[4:5][0])[0]\n",
        "median_approx19 = np.asarray(approx19_results[9:10][0])[0]\n",
        "upper_approx19 = np.asarray(approx19_results[14:15][0])[0]\n",
        "\n",
        "lower_exact19 = np.asarray(exact19_results[4:5][0])[0]\n",
        "median_exact19 = np.asarray(exact19_results[9:10][0])[0]\n",
        "upper_exact19 = np.asarray(exact19_results[14:15][0])[0]"
      ]
    },
    {
      "cell_type": "code",
      "execution_count": 94,
      "metadata": {
        "id": "h4vtWahcQxf-"
      },
      "outputs": [],
      "source": [
        "# Iteration10 :\n",
        "\n",
        "slice10 = 9\n",
        "\n",
        "approx10 = [simple_regret_approx_1[slice10],\n",
        "       simple_regret_approx_2[slice10],\n",
        "       simple_regret_approx_3[slice10],\n",
        "       simple_regret_approx_4[slice10],\n",
        "       simple_regret_approx_5[slice10],\n",
        "       simple_regret_approx_6[slice10],\n",
        "       simple_regret_approx_7[slice10],\n",
        "       simple_regret_approx_8[slice10],\n",
        "       simple_regret_approx_9[slice10],\n",
        "       simple_regret_approx_10[slice10],\n",
        "       simple_regret_approx_11[slice10],\n",
        "       simple_regret_approx_12[slice10],\n",
        "       simple_regret_approx_13[slice10],\n",
        "       simple_regret_approx_14[slice10],\n",
        "       simple_regret_approx_15[slice10],\n",
        "       simple_regret_approx_16[slice10],\n",
        "       simple_regret_approx_17[slice10],\n",
        "       simple_regret_approx_18[slice10],\n",
        "       simple_regret_approx_19[slice10],\n",
        "       simple_regret_approx_20[slice10]]\n",
        "\n",
        "exact10 = [simple_regret_exact_1[slice10],\n",
        "       simple_regret_exact_2[slice10],\n",
        "       simple_regret_exact_3[slice10],\n",
        "       simple_regret_exact_4[slice10],\n",
        "       simple_regret_exact_5[slice10],\n",
        "       simple_regret_exact_6[slice10],\n",
        "       simple_regret_exact_7[slice10],\n",
        "       simple_regret_exact_8[slice10],\n",
        "       simple_regret_exact_9[slice10],\n",
        "       simple_regret_exact_10[slice10],\n",
        "       simple_regret_exact_11[slice10],\n",
        "       simple_regret_exact_12[slice10],\n",
        "       simple_regret_exact_13[slice10],\n",
        "       simple_regret_exact_14[slice10],\n",
        "       simple_regret_exact_15[slice10],\n",
        "       simple_regret_exact_16[slice10],\n",
        "       simple_regret_exact_17[slice10],\n",
        "       simple_regret_exact_18[slice10],\n",
        "       simple_regret_exact_19[slice10],\n",
        "       simple_regret_exact_20[slice10]]\n",
        "\n",
        "approx10_results = pd.DataFrame(approx10).sort_values(by=[0], ascending=False)\n",
        "exact10_results = pd.DataFrame(exact10).sort_values(by=[0], ascending=False)\n",
        "\n",
        "### Best simple regret minimization IQR - approx:\n",
        "lower_approx10 = np.asarray(approx10_results[4:5][0])[0]\n",
        "median_approx10 = np.asarray(approx10_results[9:10][0])[0]\n",
        "upper_approx10 = np.asarray(approx10_results[14:15][0])[0]\n",
        "\n",
        "lower_exact10 = np.asarray(exact10_results[4:5][0])[0]\n",
        "median_exact10 = np.asarray(exact10_results[9:10][0])[0]\n",
        "upper_exact10 = np.asarray(exact10_results[14:15][0])[0]"
      ]
    },
    {
      "cell_type": "code",
      "execution_count": 95,
      "metadata": {
        "id": "Rsf240pWQxf-"
      },
      "outputs": [],
      "source": [
        "# Iteration20 :\n",
        "\n",
        "slice20 = 19\n",
        "\n",
        "approx20 = [simple_regret_approx_1[slice20],\n",
        "       simple_regret_approx_2[slice20],\n",
        "       simple_regret_approx_3[slice20],\n",
        "       simple_regret_approx_4[slice20],\n",
        "       simple_regret_approx_5[slice20],\n",
        "       simple_regret_approx_6[slice20],\n",
        "       simple_regret_approx_7[slice20],\n",
        "       simple_regret_approx_8[slice20],\n",
        "       simple_regret_approx_9[slice20],\n",
        "       simple_regret_approx_10[slice20],\n",
        "       simple_regret_approx_11[slice20],\n",
        "       simple_regret_approx_12[slice20],\n",
        "       simple_regret_approx_13[slice20],\n",
        "       simple_regret_approx_14[slice20],\n",
        "       simple_regret_approx_15[slice20],\n",
        "       simple_regret_approx_16[slice20],\n",
        "       simple_regret_approx_17[slice20],\n",
        "       simple_regret_approx_18[slice20],\n",
        "       simple_regret_approx_19[slice20],\n",
        "       simple_regret_approx_20[slice20]]\n",
        "\n",
        "exact20 = [simple_regret_exact_1[slice20],\n",
        "       simple_regret_exact_2[slice20],\n",
        "       simple_regret_exact_3[slice20],\n",
        "       simple_regret_exact_4[slice20],\n",
        "       simple_regret_exact_5[slice20],\n",
        "       simple_regret_exact_6[slice20],\n",
        "       simple_regret_exact_7[slice20],\n",
        "       simple_regret_exact_8[slice20],\n",
        "       simple_regret_exact_9[slice20],\n",
        "       simple_regret_exact_10[slice20],\n",
        "       simple_regret_exact_11[slice20],\n",
        "       simple_regret_exact_12[slice20],\n",
        "       simple_regret_exact_13[slice20],\n",
        "       simple_regret_exact_14[slice20],\n",
        "       simple_regret_exact_15[slice20],\n",
        "       simple_regret_exact_16[slice20],\n",
        "       simple_regret_exact_17[slice20],\n",
        "       simple_regret_exact_18[slice20],\n",
        "       simple_regret_exact_19[slice20],\n",
        "       simple_regret_exact_20[slice20]]\n",
        "\n",
        "approx20_results = pd.DataFrame(approx20).sort_values(by=[0], ascending=False)\n",
        "exact20_results = pd.DataFrame(exact20).sort_values(by=[0], ascending=False)\n",
        "\n",
        "### Best simple regret minimization IQR - approx:\n",
        "lower_approx20 = np.asarray(approx20_results[4:5][0])[0]\n",
        "median_approx20 = np.asarray(approx20_results[9:10][0])[0]\n",
        "upper_approx20 = np.asarray(approx20_results[14:15][0])[0]\n",
        "\n",
        "lower_exact20 = np.asarray(exact20_results[4:5][0])[0]\n",
        "median_exact20 = np.asarray(exact20_results[9:10][0])[0]\n",
        "upper_exact20 = np.asarray(exact20_results[14:15][0])[0]"
      ]
    },
    {
      "cell_type": "code",
      "execution_count": 96,
      "metadata": {
        "id": "gn36RejbQxf_"
      },
      "outputs": [],
      "source": [
        "### Summarize arrays: 'Loser'\n",
        "\n",
        "lower_approx = [lower_approx1,\n",
        "            lower_approx2,\n",
        "            lower_approx3,\n",
        "            lower_approx4,\n",
        "            lower_approx5,\n",
        "            lower_approx6,\n",
        "            lower_approx7,\n",
        "            lower_approx8,\n",
        "            lower_approx9,\n",
        "            lower_approx10,\n",
        "            lower_approx11,\n",
        "            lower_approx12,\n",
        "            lower_approx13,\n",
        "            lower_approx14,\n",
        "            lower_approx15,\n",
        "            lower_approx16,\n",
        "            lower_approx17,\n",
        "            lower_approx18,\n",
        "            lower_approx19,\n",
        "            lower_approx20,\n",
        "            lower_approx21]\n",
        "\n",
        "median_approx = [median_approx1,\n",
        "            median_approx2,\n",
        "            median_approx3,\n",
        "            median_approx4,\n",
        "            median_approx5,\n",
        "            median_approx6,\n",
        "            median_approx7,\n",
        "            median_approx8,\n",
        "            median_approx9,\n",
        "            median_approx10,\n",
        "            median_approx11,\n",
        "            median_approx12,\n",
        "            median_approx13,\n",
        "            median_approx14,\n",
        "            median_approx15,\n",
        "            median_approx16,\n",
        "            median_approx17,\n",
        "            median_approx18,\n",
        "            median_approx19,\n",
        "            median_approx20,\n",
        "            median_approx21]\n",
        "\n",
        "upper_approx = [upper_approx1,\n",
        "            upper_approx2,\n",
        "            upper_approx3,\n",
        "            upper_approx4,\n",
        "            upper_approx5,\n",
        "            upper_approx6,\n",
        "            upper_approx7,\n",
        "            upper_approx8,\n",
        "            upper_approx9,\n",
        "            upper_approx10,\n",
        "            upper_approx11,\n",
        "            upper_approx12,\n",
        "            upper_approx13,\n",
        "            upper_approx14,\n",
        "            upper_approx15,\n",
        "            upper_approx16,\n",
        "            upper_approx17,\n",
        "            upper_approx18,\n",
        "            upper_approx19,\n",
        "            upper_approx20,\n",
        "            upper_approx21]"
      ]
    },
    {
      "cell_type": "code",
      "execution_count": 97,
      "metadata": {
        "id": "wxtGTOYfQxf_"
      },
      "outputs": [],
      "source": [
        "### Summarize arrays: 'exact'\n",
        "\n",
        "lower_exact = [lower_exact1,\n",
        "            lower_exact2,\n",
        "            lower_exact3,\n",
        "            lower_exact4,\n",
        "            lower_exact5,\n",
        "            lower_exact6,\n",
        "            lower_exact7,\n",
        "            lower_exact8,\n",
        "            lower_exact9,\n",
        "            lower_exact10,\n",
        "            lower_exact11,\n",
        "            lower_exact12,\n",
        "            lower_exact13,\n",
        "            lower_exact14,\n",
        "            lower_exact15,\n",
        "            lower_exact16,\n",
        "            lower_exact17,\n",
        "            lower_exact18,\n",
        "            lower_exact19,\n",
        "            lower_exact20,\n",
        "            lower_exact21]\n",
        "\n",
        "median_exact = [median_exact1,\n",
        "            median_exact2,\n",
        "            median_exact3,\n",
        "            median_exact4,\n",
        "            median_exact5,\n",
        "            median_exact6,\n",
        "            median_exact7,\n",
        "            median_exact8,\n",
        "            median_exact9,\n",
        "            median_exact10,\n",
        "            median_exact11,\n",
        "            median_exact12,\n",
        "            median_exact13,\n",
        "            median_exact14,\n",
        "            median_exact15,\n",
        "            median_exact16,\n",
        "            median_exact17,\n",
        "            median_exact18,\n",
        "            median_exact19,\n",
        "            median_exact20,\n",
        "            median_exact21]\n",
        "\n",
        "upper_exact = [upper_exact1,\n",
        "            upper_exact2,\n",
        "            upper_exact3,\n",
        "            upper_exact4,\n",
        "            upper_exact5,\n",
        "            upper_exact6,\n",
        "            upper_exact7,\n",
        "            upper_exact8,\n",
        "            upper_exact9,\n",
        "            upper_exact10,\n",
        "            upper_exact11,\n",
        "            upper_exact12,\n",
        "            upper_exact13,\n",
        "            upper_exact14,\n",
        "            upper_exact15,\n",
        "            upper_exact16,\n",
        "            upper_exact17,\n",
        "            upper_exact18,\n",
        "            upper_exact19,\n",
        "            upper_exact20,\n",
        "            upper_exact21]"
      ]
    },
    {
      "cell_type": "code",
      "execution_count": 98,
      "metadata": {
        "id": "2MONq-BXQxgA",
        "colab": {
          "base_uri": "https://localhost:8080/",
          "height": 299
        },
        "outputId": "fcff3eb9-34f0-41ed-e0f6-6aeebc5c5f06"
      },
      "outputs": [
        {
          "output_type": "display_data",
          "data": {
            "text/plain": [
              "<Figure size 432x288 with 1 Axes>"
            ],
            "image/png": "[encoded data removed]"
          },
          "metadata": {
            "needs_background": "light"
          }
        }
      ],
      "source": [
        "### Visualise!\n",
        "\n",
        "title = func\n",
        "plt.figure()\n",
        "\n",
        "plt.plot(median_approx, color = 'Purple', ls='--')\n",
        "plt.plot(median_exact, color = 'Orange', ls='--')\n",
        "\n",
        "xstar = np.arange(0, iters+1, step=1)\n",
        "plt.fill_between(xstar, lower_approx, upper_approx, facecolor = 'Purple', alpha=0.4, label='STP CBM Optimisation: Approx STP CBM gradients ' r'($\\nu$' ' = {})'.format(df))\n",
        "plt.fill_between(xstar, lower_exact, upper_exact, facecolor = 'Orange', alpha=0.4, label='STP CBM Optimisation: Exact STP dCBM gradients ' r'($\\nu$' ' = {})'.format(df))\n",
        "\n",
        "plt.title(title, weight = 'bold')\n",
        "plt.xlabel('(Post-initialisation) iteration $\\it{k}$', weight = 'bold')\n",
        "plt.ylabel('log(Regret)', weight = 'bold') \n",
        "plt.legend(loc=1) # add plot legend\n",
        "\n",
        "### Make the x-ticks integers, not floats:\n",
        "count = len(xstar)\n",
        "plt.xticks(np.arange(count), np.arange(0, count))\n",
        "plt.show() #visualize!"
      ]
    },
    {
      "cell_type": "code",
      "execution_count": 99,
      "metadata": {
        "id": "l5dkR2Id2oiu",
        "colab": {
          "base_uri": "https://localhost:8080/"
        },
        "outputId": "424f6f0c-cf4b-4bc2-c015-4003d99de568"
      },
      "outputs": [
        {
          "output_type": "execute_result",
          "data": {
            "text/plain": [
              "(525.6461350917816, 472.996027469635)"
            ]
          },
          "metadata": {},
          "execution_count": 99
        }
      ],
      "source": [
        "time_approx, time_exact\n"
      ]
    },
    {
      "cell_type": "code",
      "execution_count": 100,
      "metadata": {
        "id": "uwxv4dmfGsLr",
        "colab": {
          "base_uri": "https://localhost:8080/"
        },
        "outputId": "c801f446-74bf-4f82-d112-c8dd7c5b5675"
      },
      "outputs": [
        {
          "output_type": "execute_result",
          "data": {
            "text/plain": [
              "(0.4735009411454044, 0.6390482646650455)"
            ]
          },
          "metadata": {},
          "execution_count": 100
        }
      ],
      "source": [
        "### acqFunc attribute x, stddev: run number = 1\n",
        "\n",
        "acqFuncApprox_exact_1 = acqFuncApprox(exact_1.history)\n",
        "acqFuncExact_exact_1 = acqFuncExact(exact_1.history)\n",
        "\n",
        "e1 = np.std(acqFuncExact_exact_1)\n",
        "a1 = np.std(acqFuncApprox_exact_1)\n",
        "\n",
        "e1, a1\n"
      ]
    },
    {
      "cell_type": "code",
      "execution_count": 101,
      "metadata": {
        "id": "0YSV00_pGsXe",
        "colab": {
          "base_uri": "https://localhost:8080/"
        },
        "outputId": "67887a88-3996-4e45-89ea-9681c49c61a0"
      },
      "outputs": [
        {
          "output_type": "execute_result",
          "data": {
            "text/plain": [
              "(0.3954870356364786, 0.6048997631577175)"
            ]
          },
          "metadata": {},
          "execution_count": 101
        }
      ],
      "source": [
        "### acqFunc attribute x, stddev: run number = 2\n",
        "\n",
        "acqFuncApprox_exact_2 = acqFuncApprox(exact_2.history)\n",
        "acqFuncExact_exact_2 = acqFuncExact(exact_2.history)\n",
        "\n",
        "e2 = np.std(acqFuncExact_exact_2)\n",
        "a2 = np.std(acqFuncApprox_exact_2)\n",
        "\n",
        "e2, a2\n"
      ]
    },
    {
      "cell_type": "code",
      "execution_count": 102,
      "metadata": {
        "id": "HHVmsd2UGsjT",
        "colab": {
          "base_uri": "https://localhost:8080/"
        },
        "outputId": "a33e25eb-ac7c-4dd6-9a1f-a36fae3cc5d0"
      },
      "outputs": [
        {
          "output_type": "execute_result",
          "data": {
            "text/plain": [
              "(0.5261360954612794, 0.7983999374707625)"
            ]
          },
          "metadata": {},
          "execution_count": 102
        }
      ],
      "source": [
        "### acqFunc attribute x, stddev: run number = 3\n",
        "\n",
        "acqFuncApprox_exact_3 = acqFuncApprox(exact_3.history)\n",
        "acqFuncExact_exact_3 = acqFuncExact(exact_3.history)\n",
        "\n",
        "e3 = np.std(acqFuncExact_exact_3)\n",
        "a3 = np.std(acqFuncApprox_exact_3)\n",
        "\n",
        "e3, a3\n"
      ]
    },
    {
      "cell_type": "code",
      "execution_count": 103,
      "metadata": {
        "id": "r7O19S2eGsu7",
        "colab": {
          "base_uri": "https://localhost:8080/"
        },
        "outputId": "c9008d3d-5a4c-4215-a3e9-942675b241ed"
      },
      "outputs": [
        {
          "output_type": "execute_result",
          "data": {
            "text/plain": [
              "(0.42828596206169667, 0.6529743040276483)"
            ]
          },
          "metadata": {},
          "execution_count": 103
        }
      ],
      "source": [
        "### acqFunc attribute x, stddev: run number = 4\n",
        "\n",
        "acqFuncApprox_exact_4 = acqFuncApprox(exact_4.history)\n",
        "acqFuncExact_exact_4 = acqFuncExact(exact_4.history)\n",
        "\n",
        "e4 = np.std(acqFuncExact_exact_4)\n",
        "a4 = np.std(acqFuncApprox_exact_4)\n",
        "\n",
        "e4, a4\n"
      ]
    },
    {
      "cell_type": "code",
      "execution_count": 104,
      "metadata": {
        "id": "sdb9o6NuGs5m",
        "colab": {
          "base_uri": "https://localhost:8080/"
        },
        "outputId": "1f22e755-4afb-47b7-fe88-3e2454b0db9b"
      },
      "outputs": [
        {
          "output_type": "execute_result",
          "data": {
            "text/plain": [
              "(0.5464459771937688, 0.49461904697227593)"
            ]
          },
          "metadata": {},
          "execution_count": 104
        }
      ],
      "source": [
        "### acqFunc attribute x, stddev: run number = 5\n",
        "\n",
        "acqFuncApprox_exact_5 = acqFuncApprox(exact_5.history)\n",
        "acqFuncExact_exact_5 = acqFuncExact(exact_5.history)\n",
        "\n",
        "e5 = np.std(acqFuncExact_exact_5)\n",
        "a5 = np.std(acqFuncApprox_exact_5)\n",
        "\n",
        "e5, a5\n"
      ]
    },
    {
      "cell_type": "code",
      "execution_count": 105,
      "metadata": {
        "id": "COQl7LZ8GtE0",
        "colab": {
          "base_uri": "https://localhost:8080/"
        },
        "outputId": "99464f14-6a1f-40c2-b1ce-72800d608ccb"
      },
      "outputs": [
        {
          "output_type": "execute_result",
          "data": {
            "text/plain": [
              "(0.3654666633360611, 0.6231678058699393)"
            ]
          },
          "metadata": {},
          "execution_count": 105
        }
      ],
      "source": [
        "### acqFunc attribute x, stddev: run number = 6\n",
        "\n",
        "acqFuncApprox_exact_6 = acqFuncApprox(exact_6.history)\n",
        "acqFuncExact_exact_6 = acqFuncExact(exact_6.history)\n",
        "\n",
        "e6 = np.std(acqFuncExact_exact_6)\n",
        "a6 = np.std(acqFuncApprox_exact_6)\n",
        "\n",
        "e6, a6\n"
      ]
    },
    {
      "cell_type": "code",
      "execution_count": 106,
      "metadata": {
        "id": "2gy9EtTzGtP7",
        "colab": {
          "base_uri": "https://localhost:8080/"
        },
        "outputId": "638d7579-173f-40d1-b3d3-c6fae486f9de"
      },
      "outputs": [
        {
          "output_type": "execute_result",
          "data": {
            "text/plain": [
              "(0.46435431643096353, 0.6407255183625775)"
            ]
          },
          "metadata": {},
          "execution_count": 106
        }
      ],
      "source": [
        "### acqFunc attribute x, stddev: run number = 7\n",
        "\n",
        "acqFuncApprox_exact_7 = acqFuncApprox(exact_7.history)\n",
        "acqFuncExact_exact_7 = acqFuncExact(exact_7.history)\n",
        "\n",
        "e7 = np.std(acqFuncExact_exact_7)\n",
        "a7 = np.std(acqFuncApprox_exact_7)\n",
        "\n",
        "e7, a7\n"
      ]
    },
    {
      "cell_type": "code",
      "execution_count": 107,
      "metadata": {
        "id": "S7mn0qoMGtbM",
        "colab": {
          "base_uri": "https://localhost:8080/"
        },
        "outputId": "15f820d9-7e73-4d46-be3f-808b31d6eba5"
      },
      "outputs": [
        {
          "output_type": "execute_result",
          "data": {
            "text/plain": [
              "(0.45277523441136125, 0.7331002493343529)"
            ]
          },
          "metadata": {},
          "execution_count": 107
        }
      ],
      "source": [
        "### acqFunc attribute x, stddev: run number = 8\n",
        "\n",
        "acqFuncApprox_exact_8 = acqFuncApprox(exact_8.history)\n",
        "acqFuncExact_exact_8 = acqFuncExact(exact_8.history)\n",
        "\n",
        "e8 = np.std(acqFuncExact_exact_8)\n",
        "a8 = np.std(acqFuncApprox_exact_8)\n",
        "\n",
        "e8, a8\n"
      ]
    },
    {
      "cell_type": "code",
      "execution_count": 108,
      "metadata": {
        "id": "BhljmkNxGtms",
        "colab": {
          "base_uri": "https://localhost:8080/"
        },
        "outputId": "1e14aa5a-adb6-4ed7-da7f-33f003b4c519"
      },
      "outputs": [
        {
          "output_type": "execute_result",
          "data": {
            "text/plain": [
              "(0.44652961829304694, 0.6480957071236108)"
            ]
          },
          "metadata": {},
          "execution_count": 108
        }
      ],
      "source": [
        "### acqFunc attribute x, stddev: run number = 9\n",
        "\n",
        "acqFuncApprox_exact_9 = acqFuncApprox(exact_9.history)\n",
        "acqFuncExact_exact_9 = acqFuncExact(exact_9.history)\n",
        "\n",
        "e9 = np.std(acqFuncExact_exact_9)\n",
        "a9 = np.std(acqFuncApprox_exact_9)\n",
        "\n",
        "e9, a9\n"
      ]
    },
    {
      "cell_type": "code",
      "execution_count": 109,
      "metadata": {
        "id": "W5GZo6k3Gtx8",
        "colab": {
          "base_uri": "https://localhost:8080/"
        },
        "outputId": "11b184e7-c831-496c-ad97-faf965d24d0a"
      },
      "outputs": [
        {
          "output_type": "execute_result",
          "data": {
            "text/plain": [
              "(0.5230758024479425, 0.5565192264420528)"
            ]
          },
          "metadata": {},
          "execution_count": 109
        }
      ],
      "source": [
        "### acqFunc attribute x, stddev: run number = 10\n",
        "\n",
        "acqFuncApprox_exact_10 = acqFuncApprox(exact_10.history)\n",
        "acqFuncExact_exact_10 = acqFuncExact(exact_10.history)\n",
        "\n",
        "e10 = np.std(acqFuncExact_exact_10)\n",
        "a10 = np.std(acqFuncApprox_exact_10)\n",
        "\n",
        "e10, a10\n"
      ]
    },
    {
      "cell_type": "code",
      "execution_count": 110,
      "metadata": {
        "id": "isKNhDk5Gt9D",
        "colab": {
          "base_uri": "https://localhost:8080/"
        },
        "outputId": "f2212128-4424-498c-d991-57cf54f706b7"
      },
      "outputs": [
        {
          "output_type": "execute_result",
          "data": {
            "text/plain": [
              "(0.48192618161299317, 0.583019391288041)"
            ]
          },
          "metadata": {},
          "execution_count": 110
        }
      ],
      "source": [
        "### acqFunc attribute x, stddev: run number = 11\n",
        "\n",
        "acqFuncApprox_exact_11 = acqFuncApprox(exact_11.history)\n",
        "acqFuncExact_exact_11 = acqFuncExact(exact_11.history)\n",
        "\n",
        "e11 = np.std(acqFuncExact_exact_11)\n",
        "a11 = np.std(acqFuncApprox_exact_11)\n",
        "\n",
        "e11, a11\n"
      ]
    },
    {
      "cell_type": "code",
      "execution_count": 111,
      "metadata": {
        "id": "8ts-wrSuGuIm",
        "colab": {
          "base_uri": "https://localhost:8080/"
        },
        "outputId": "03bc5d8b-6914-4bb9-c1fc-f1a7b6177199"
      },
      "outputs": [
        {
          "output_type": "execute_result",
          "data": {
            "text/plain": [
              "(0.46085573018125653, 0.5902722189242331)"
            ]
          },
          "metadata": {},
          "execution_count": 111
        }
      ],
      "source": [
        "### acqFunc attribute x, stddev: run number = 12\n",
        "\n",
        "acqFuncApprox_exact_12 = acqFuncApprox(exact_12.history)\n",
        "acqFuncExact_exact_12 = acqFuncExact(exact_12.history)\n",
        "\n",
        "e12 = np.std(acqFuncExact_exact_12)\n",
        "a12 = np.std(acqFuncApprox_exact_12)\n",
        "\n",
        "e12, a12\n"
      ]
    },
    {
      "cell_type": "code",
      "execution_count": 112,
      "metadata": {
        "id": "n0drhEe3GuUL",
        "colab": {
          "base_uri": "https://localhost:8080/"
        },
        "outputId": "bb246b04-8a4a-43bf-8f0c-594b705209c9"
      },
      "outputs": [
        {
          "output_type": "execute_result",
          "data": {
            "text/plain": [
              "(0.4714753457450649, 0.47831777932878944)"
            ]
          },
          "metadata": {},
          "execution_count": 112
        }
      ],
      "source": [
        "### acqFunc attribute x, stddev: run number = 13\n",
        "\n",
        "acqFuncApprox_exact_13 = acqFuncApprox(exact_13.history)\n",
        "acqFuncExact_exact_13 = acqFuncExact(exact_13.history)\n",
        "\n",
        "e13 = np.std(acqFuncExact_exact_13)\n",
        "a13 = np.std(acqFuncApprox_exact_13)\n",
        "\n",
        "e13, a13\n"
      ]
    },
    {
      "cell_type": "code",
      "execution_count": 113,
      "metadata": {
        "id": "R0W3MZaVGues",
        "colab": {
          "base_uri": "https://localhost:8080/"
        },
        "outputId": "645403fb-aaa5-4840-bd76-75c02cdc2440"
      },
      "outputs": [
        {
          "output_type": "execute_result",
          "data": {
            "text/plain": [
              "(0.39330354173980936, 0.5064389718335899)"
            ]
          },
          "metadata": {},
          "execution_count": 113
        }
      ],
      "source": [
        "### acqFunc attribute x, stddev: run number = 14\n",
        "\n",
        "acqFuncApprox_exact_14 = acqFuncApprox(exact_14.history)\n",
        "acqFuncExact_exact_14 = acqFuncExact(exact_14.history)\n",
        "\n",
        "e14 = np.std(acqFuncExact_exact_14)\n",
        "a14 = np.std(acqFuncApprox_exact_14)\n",
        "\n",
        "e14, a14\n"
      ]
    },
    {
      "cell_type": "code",
      "execution_count": 114,
      "metadata": {
        "id": "DoXdDFHoGup-",
        "colab": {
          "base_uri": "https://localhost:8080/"
        },
        "outputId": "213d183e-6093-4b0c-dd02-187f34201dbb"
      },
      "outputs": [
        {
          "output_type": "execute_result",
          "data": {
            "text/plain": [
              "(0.5253808024628438, 0.4830491533584343)"
            ]
          },
          "metadata": {},
          "execution_count": 114
        }
      ],
      "source": [
        "### acqFunc attribute x, stddev: run number = 15\n",
        "\n",
        "acqFuncApprox_exact_15 = acqFuncApprox(exact_15.history)\n",
        "acqFuncExact_exact_15 = acqFuncExact(exact_15.history)\n",
        "\n",
        "e15 = np.std(acqFuncExact_exact_15)\n",
        "a15 = np.std(acqFuncApprox_exact_15)\n",
        "\n",
        "e15, a15\n"
      ]
    },
    {
      "cell_type": "code",
      "execution_count": 115,
      "metadata": {
        "id": "K_wAeqSoGu2j",
        "colab": {
          "base_uri": "https://localhost:8080/"
        },
        "outputId": "fae5a2ed-8cf0-425a-f047-ccf7864826c8"
      },
      "outputs": [
        {
          "output_type": "execute_result",
          "data": {
            "text/plain": [
              "(0.4371155046712543, 0.5274068091808403)"
            ]
          },
          "metadata": {},
          "execution_count": 115
        }
      ],
      "source": [
        "### acqFunc attribute x, stddev: run number = 16\n",
        "\n",
        "acqFuncApprox_exact_16 = acqFuncApprox(exact_16.history)\n",
        "acqFuncExact_exact_16 = acqFuncExact(exact_16.history)\n",
        "\n",
        "e16 = np.std(acqFuncExact_exact_16)\n",
        "a16 = np.std(acqFuncApprox_exact_16)\n",
        "\n",
        "e16, a16\n"
      ]
    },
    {
      "cell_type": "code",
      "execution_count": 116,
      "metadata": {
        "id": "n6zy78fjGvBT",
        "colab": {
          "base_uri": "https://localhost:8080/"
        },
        "outputId": "6a25c86c-43d3-4614-bebe-02236665f8cb"
      },
      "outputs": [
        {
          "output_type": "execute_result",
          "data": {
            "text/plain": [
              "(0.5467633235773558, 0.6829397712108193)"
            ]
          },
          "metadata": {},
          "execution_count": 116
        }
      ],
      "source": [
        "### acqFunc attribute x, stddev: run number = 17\n",
        "\n",
        "acqFuncApprox_exact_17 = acqFuncApprox(exact_17.history)\n",
        "acqFuncExact_exact_17 = acqFuncExact(exact_17.history)\n",
        "\n",
        "e17 = np.std(acqFuncExact_exact_17)\n",
        "a17 = np.std(acqFuncApprox_exact_17)\n",
        "\n",
        "e17, a17\n"
      ]
    },
    {
      "cell_type": "code",
      "execution_count": 117,
      "metadata": {
        "id": "s_6_2K4iGvM-",
        "colab": {
          "base_uri": "https://localhost:8080/"
        },
        "outputId": "f2c00699-8813-4ed6-8831-7c6fc5dffed9"
      },
      "outputs": [
        {
          "output_type": "execute_result",
          "data": {
            "text/plain": [
              "(0.6038562103247149, 0.8610643364946512)"
            ]
          },
          "metadata": {},
          "execution_count": 117
        }
      ],
      "source": [
        "### acqFunc attribute x, stddev: run number = 18\n",
        "\n",
        "acqFuncApprox_exact_18 = acqFuncApprox(exact_18.history)\n",
        "acqFuncExact_exact_18 = acqFuncExact(exact_18.history)\n",
        "\n",
        "e18 = np.std(acqFuncExact_exact_18)\n",
        "a18 = np.std(acqFuncApprox_exact_18)\n",
        "\n",
        "e18, a18\n"
      ]
    },
    {
      "cell_type": "code",
      "execution_count": 118,
      "metadata": {
        "id": "o8oO8pdBGvYk",
        "colab": {
          "base_uri": "https://localhost:8080/"
        },
        "outputId": "c9cf75e4-d49f-4a7a-e05e-ef46203ee7c6"
      },
      "outputs": [
        {
          "output_type": "execute_result",
          "data": {
            "text/plain": [
              "(0.5470836005553485, 0.6478858650919134)"
            ]
          },
          "metadata": {},
          "execution_count": 118
        }
      ],
      "source": [
        "### acqFunc attribute x, stddev: run number = 19\n",
        "\n",
        "acqFuncApprox_exact_19 = acqFuncApprox(exact_19.history)\n",
        "acqFuncExact_exact_19 = acqFuncExact(exact_19.history)\n",
        "\n",
        "e19 = np.std(acqFuncExact_exact_19)\n",
        "a19 = np.std(acqFuncApprox_exact_19)\n",
        "\n",
        "e19, a19\n"
      ]
    },
    {
      "cell_type": "code",
      "execution_count": 119,
      "metadata": {
        "id": "b2w8oLc0IMzU",
        "colab": {
          "base_uri": "https://localhost:8080/"
        },
        "outputId": "280be4e1-bb20-4760-d3fc-5466985a8689"
      },
      "outputs": [
        {
          "output_type": "execute_result",
          "data": {
            "text/plain": [
              "(0.6396944840698072, 0.5549102359173923)"
            ]
          },
          "metadata": {},
          "execution_count": 119
        }
      ],
      "source": [
        "### acqFunc attribute x, stddev: run number = 20\n",
        "\n",
        "acqFuncApprox_exact_20 = acqFuncApprox(exact_20.history)\n",
        "acqFuncExact_exact_20 = acqFuncExact(exact_20.history)\n",
        "\n",
        "e20 = np.std(acqFuncExact_exact_20)\n",
        "a20 = np.std(acqFuncApprox_exact_20)\n",
        "\n",
        "e20, a20\n"
      ]
    },
    {
      "cell_type": "code",
      "execution_count": 120,
      "metadata": {
        "id": "qAZs3yxMIZul",
        "colab": {
          "base_uri": "https://localhost:8080/"
        },
        "outputId": "3c0a7974-a034-46e6-d396-43523e34dff5"
      },
      "outputs": [
        {
          "output_type": "execute_result",
          "data": {
            "text/plain": [
              "(0.48647561856792254, 0.6153427178027344)"
            ]
          },
          "metadata": {},
          "execution_count": 120
        }
      ],
      "source": [
        "### Summarize arrays: \n",
        "\n",
        "exact_stddev = np.sort([e1,e2,e3,e4,e5,e6,e7,e8,e9,e10,e11,e12,e13,e14,e15,e16,e17,e18,e19,e20])\n",
        "approx_stddev = np.sort([a1,a2,a3,a4,a5,a6,a7,a8,a9,a10,a11,a12,a13,a14,a15,a16,a17,a18,a19,a20])\n",
        "\n",
        "np.mean(exact_stddev), np.mean(approx_stddev)\n"
      ]
    },
    {
      "cell_type": "code",
      "execution_count": 121,
      "metadata": {
        "id": "e_kpqYcMIZxu",
        "colab": {
          "base_uri": "https://localhost:8080/",
          "height": 295
        },
        "outputId": "98276123-b2b4-4425-dbd3-90ed22f308d6"
      },
      "outputs": [
        {
          "output_type": "display_data",
          "data": {
            "text/plain": [
              "<Figure size 432x288 with 1 Axes>"
            ],
            "image/png": "[encoded data removed]"
          },
          "metadata": {
            "needs_background": "light"
          }
        }
      ],
      "source": [
        "### Visualise!\n",
        "\n",
        "title = func\n",
        "plt.figure()\n",
        "\n",
        "plt.plot(approx_stddev, color = 'Purple', ls='--', label='Average $\\sigma$, attribute $\\mathbf{x}$: Approx STP CBM gradients')\n",
        "plt.plot(exact_stddev, color = 'Orange', ls='-', label='Average $\\sigma$, attribute $\\mathbf{x}$: Exact STP dCBM gradients')\n",
        "\n",
        "plt.title(title, weight = 'bold')\n",
        "plt.xlabel('Experiment(s)', weight = 'bold')\n",
        "plt.ylabel('STP CBM: Average $\\sigma$, attribute $\\mathbf{x}$', weight = 'bold') \n",
        "plt.legend(loc=0) # add plot legend\n",
        "\n",
        "### Make the x-ticks integers, not floats:\n",
        "count = len(xstar)\n",
        "plt.xticks(np.arange(count), np.arange(1, count))\n",
        "plt.show() #visualize!\n"
      ]
    },
    {
      "cell_type": "code",
      "execution_count": 121,
      "metadata": {
        "id": "LToGd4vZIZ3I"
      },
      "outputs": [],
      "source": []
    }
  ],
  "metadata": {
    "colab": {
      "collapsed_sections": [],
      "provenance": []
    },
    "kernelspec": {
      "display_name": "Python 3",
      "name": "python3"
    },
    "language_info": {
      "name": "python"
    }
  },
  "nbformat": 4,
  "nbformat_minor": 0
}