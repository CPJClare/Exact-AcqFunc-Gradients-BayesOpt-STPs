{
  "cells": [
    {
      "cell_type": "markdown",
      "metadata": {
        "id": "Dqn4dFx7Z2Ir"
      },
      "source": [
        "\n",
        "Booth: 2D\n"
      ]
    },
    {
      "cell_type": "code",
      "execution_count": 1,
      "metadata": {
        "colab": {
          "base_uri": "https://localhost:8080/"
        },
        "id": "MJTM_GZZZb5x",
        "outputId": "e754057b-4673-4efd-9d1b-0bd2ad005023"
      },
      "outputs": [
        {
          "output_type": "stream",
          "name": "stdout",
          "text": [
            "Looking in indexes: https://pypi.org/simple, https://us-python.pkg.dev/colab-wheels/public/simple/\n",
            "Collecting pyGPGO\n",
            "  Downloading pyGPGO-0.5.1.tar.gz (14 kB)\n",
            "Requirement already satisfied: numpy in /usr/local/lib/python3.7/dist-packages (from pyGPGO) (1.21.6)\n",
            "Requirement already satisfied: mkl in /usr/local/lib/python3.7/dist-packages (from pyGPGO) (2019.0)\n",
            "Requirement already satisfied: scipy in /usr/local/lib/python3.7/dist-packages (from pyGPGO) (1.7.3)\n",
            "Requirement already satisfied: joblib in /usr/local/lib/python3.7/dist-packages (from pyGPGO) (1.1.0)\n",
            "Requirement already satisfied: scikit-learn in /usr/local/lib/python3.7/dist-packages (from pyGPGO) (1.0.2)\n",
            "Collecting Theano-PyMC\n",
            "  Downloading Theano-PyMC-1.1.2.tar.gz (1.8 MB)\n",
            "\u001b[K     |████████████████████████████████| 1.8 MB 9.1 MB/s \n",
            "\u001b[?25hCollecting pyMC3\n",
            "  Downloading pymc3-3.11.5-py3-none-any.whl (872 kB)\n",
            "\u001b[K     |████████████████████████████████| 872 kB 45.8 MB/s \n",
            "\u001b[?25hRequirement already satisfied: intel-openmp in /usr/local/lib/python3.7/dist-packages (from mkl->pyGPGO) (2022.1.0)\n",
            "Collecting semver>=2.13.0\n",
            "  Downloading semver-2.13.0-py2.py3-none-any.whl (12 kB)\n",
            "Requirement already satisfied: fastprogress>=0.2.0 in /usr/local/lib/python3.7/dist-packages (from pyMC3->pyGPGO) (1.0.3)\n",
            "Requirement already satisfied: typing-extensions>=3.7.4 in /usr/local/lib/python3.7/dist-packages (from pyMC3->pyGPGO) (4.1.1)\n",
            "Requirement already satisfied: pandas>=0.24.0 in /usr/local/lib/python3.7/dist-packages (from pyMC3->pyGPGO) (1.3.5)\n",
            "Requirement already satisfied: patsy>=0.5.1 in /usr/local/lib/python3.7/dist-packages (from pyMC3->pyGPGO) (0.5.2)\n",
            "Requirement already satisfied: dill in /usr/local/lib/python3.7/dist-packages (from pyMC3->pyGPGO) (0.3.5.1)\n",
            "Requirement already satisfied: arviz>=0.11.0 in /usr/local/lib/python3.7/dist-packages (from pyMC3->pyGPGO) (0.12.1)\n",
            "Requirement already satisfied: cachetools>=4.2.1 in /usr/local/lib/python3.7/dist-packages (from pyMC3->pyGPGO) (4.2.4)\n",
            "Collecting deprecat\n",
            "  Downloading deprecat-2.1.1-py2.py3-none-any.whl (9.8 kB)\n",
            "Requirement already satisfied: filelock in /usr/local/lib/python3.7/dist-packages (from Theano-PyMC->pyGPGO) (3.8.0)\n",
            "Requirement already satisfied: xarray-einstats>=0.2 in /usr/local/lib/python3.7/dist-packages (from arviz>=0.11.0->pyMC3->pyGPGO) (0.2.2)\n",
            "Requirement already satisfied: netcdf4 in /usr/local/lib/python3.7/dist-packages (from arviz>=0.11.0->pyMC3->pyGPGO) (1.6.0)\n",
            "Requirement already satisfied: packaging in /usr/local/lib/python3.7/dist-packages (from arviz>=0.11.0->pyMC3->pyGPGO) (21.3)\n",
            "Requirement already satisfied: xarray>=0.16.1 in /usr/local/lib/python3.7/dist-packages (from arviz>=0.11.0->pyMC3->pyGPGO) (0.20.2)\n",
            "Requirement already satisfied: matplotlib>=3.0 in /usr/local/lib/python3.7/dist-packages (from arviz>=0.11.0->pyMC3->pyGPGO) (3.2.2)\n",
            "Requirement already satisfied: setuptools>=38.4 in /usr/local/lib/python3.7/dist-packages (from arviz>=0.11.0->pyMC3->pyGPGO) (57.4.0)\n",
            "Requirement already satisfied: cycler>=0.10 in /usr/local/lib/python3.7/dist-packages (from matplotlib>=3.0->arviz>=0.11.0->pyMC3->pyGPGO) (0.11.0)\n",
            "Requirement already satisfied: kiwisolver>=1.0.1 in /usr/local/lib/python3.7/dist-packages (from matplotlib>=3.0->arviz>=0.11.0->pyMC3->pyGPGO) (1.4.4)\n",
            "Requirement already satisfied: pyparsing!=2.0.4,!=2.1.2,!=2.1.6,>=2.0.1 in /usr/local/lib/python3.7/dist-packages (from matplotlib>=3.0->arviz>=0.11.0->pyMC3->pyGPGO) (3.0.9)\n",
            "Requirement already satisfied: python-dateutil>=2.1 in /usr/local/lib/python3.7/dist-packages (from matplotlib>=3.0->arviz>=0.11.0->pyMC3->pyGPGO) (2.8.2)\n",
            "Requirement already satisfied: pytz>=2017.3 in /usr/local/lib/python3.7/dist-packages (from pandas>=0.24.0->pyMC3->pyGPGO) (2022.2.1)\n",
            "Requirement already satisfied: six in /usr/local/lib/python3.7/dist-packages (from patsy>=0.5.1->pyMC3->pyGPGO) (1.15.0)\n",
            "Requirement already satisfied: importlib-metadata in /usr/local/lib/python3.7/dist-packages (from xarray>=0.16.1->arviz>=0.11.0->pyMC3->pyGPGO) (4.12.0)\n",
            "Requirement already satisfied: wrapt<2,>=1.10 in /usr/local/lib/python3.7/dist-packages (from deprecat->pyMC3->pyGPGO) (1.14.1)\n",
            "Requirement already satisfied: zipp>=0.5 in /usr/local/lib/python3.7/dist-packages (from importlib-metadata->xarray>=0.16.1->arviz>=0.11.0->pyMC3->pyGPGO) (3.8.1)\n",
            "Requirement already satisfied: cftime in /usr/local/lib/python3.7/dist-packages (from netcdf4->arviz>=0.11.0->pyMC3->pyGPGO) (1.6.1)\n",
            "Requirement already satisfied: threadpoolctl>=2.0.0 in /usr/local/lib/python3.7/dist-packages (from scikit-learn->pyGPGO) (3.1.0)\n",
            "Building wheels for collected packages: pyGPGO, Theano-PyMC\n",
            "  Building wheel for pyGPGO (setup.py) ... \u001b[?25l\u001b[?25hdone\n",
            "  Created wheel for pyGPGO: filename=pyGPGO-0.5.1-py3-none-any.whl size=19879 sha256=a84987510224667eaf584cfbeeec0552736e5a02cdc41c6eb123d1c27a5e78c4\n",
            "  Stored in directory: /root/.cache/pip/wheels/c8/5d/0b/2160114e2f1b87791c51b66cf07f89831dbb6f49167950316f\n",
            "  Building wheel for Theano-PyMC (setup.py) ... \u001b[?25l\u001b[?25hdone\n",
            "  Created wheel for Theano-PyMC: filename=Theano_PyMC-1.1.2-py3-none-any.whl size=1529963 sha256=b3e83f5de7d0f13994b68ede8474b443c3c636dbe6114f26791b4a373e6df989\n",
            "  Stored in directory: /root/.cache/pip/wheels/f3/af/8c/5dd7553522d74c52a7813806fc7ee1a9caa20a3f7c8fd850d5\n",
            "Successfully built pyGPGO Theano-PyMC\n",
            "Installing collected packages: Theano-PyMC, semver, deprecat, pyMC3, pyGPGO\n",
            "Successfully installed Theano-PyMC-1.1.2 deprecat-2.1.1 pyGPGO-0.5.1 pyMC3-3.11.5 semver-2.13.0\n"
          ]
        }
      ],
      "source": [
        "pip install pyGPGO\n"
      ]
    },
    {
      "cell_type": "code",
      "execution_count": 2,
      "metadata": {
        "id": "ZJSSPbwPaEUB"
      },
      "outputs": [],
      "source": [
        "### Import:\n",
        "\n",
        "import numpy as np\n",
        "import scipy as sp\n",
        "import pandas as pd\n",
        "import matplotlib.pyplot as plt\n",
        "import warnings\n",
        "import itertools\n",
        "\n",
        "from pyGPGO.GPGO import GPGO\n",
        "from pyGPGO.surrogates.tStudentProcess import tStudentProcess\n",
        "from pyGPGO.acquisition import Acquisition\n",
        "from pyGPGO.covfunc import squaredExponential\n",
        "\n",
        "from joblib import Parallel, delayed\n",
        "from numpy.linalg import solve, cholesky\n",
        "from scipy.spatial.distance import cdist\n",
        "from scipy.optimize import minimize\n",
        "from scipy.stats import t\n",
        "import time\n",
        "\n",
        "warnings.filterwarnings(\"ignore\", category=RuntimeWarning)\n"
      ]
    },
    {
      "cell_type": "code",
      "execution_count": 3,
      "metadata": {
        "id": "OeYcTUNoaJWa"
      },
      "outputs": [],
      "source": [
        "### Inputs:\n",
        "\n",
        "func = 'Booth'\n",
        "n_test = 500\n",
        "eps = 1e-08\n",
        "\n",
        "util = 'CBM'\n",
        "\n",
        "n_init = 5 # random initialisations\n",
        "iters = 20\n",
        "opt = True\n",
        "\n",
        "df = 3"
      ]
    },
    {
      "cell_type": "code",
      "execution_count": 4,
      "metadata": {
        "id": "xpaEOjdzaPMS"
      },
      "outputs": [],
      "source": [
        "### Objective Function - Booth(x) 2-D:\n",
        "\n",
        "def objfunc(x1_training, x2_training):\n",
        "            return  operator * ( (x1_training + 2 * x2_training -7) ** 2 +\n",
        "                                 (2 * x1_training + x2_training -5) ** 2\n",
        "                            )\n",
        "        \n",
        "# Constraints:\n",
        "lb = -10\n",
        "ub = +10\n",
        "    \n",
        "# Input array dimension(s):\n",
        "dim = 2\n",
        "\n",
        "# 2-D inputs' parameter bounds:\n",
        "param = {'x1_training': ('cont', [lb, ub]),\n",
        "                 'x2_training': ('cont', [lb, ub])\n",
        "                 }\n",
        "    \n",
        "# True y bounds:\n",
        "y_lb = 0\n",
        "operator = -1 # targets global minimum \n",
        "y_global_orig = y_lb * operator # targets global minimum\n",
        "    \n",
        "# Test data:\n",
        "x1_test = np.linspace(lb, ub, n_test)\n",
        "x2_test = np.linspace(lb, ub, n_test)\n",
        "x_test = np.column_stack((x1_test, x2_test))"
      ]
    },
    {
      "cell_type": "code",
      "execution_count": 5,
      "metadata": {
        "id": "eYpI3Zm4aGxi"
      },
      "outputs": [],
      "source": [
        "n_start_AcqFunc = iters\n",
        "inverse = -1\n"
      ]
    },
    {
      "cell_type": "code",
      "execution_count": 6,
      "metadata": {
        "id": "oO_GUmOoaV0T"
      },
      "outputs": [],
      "source": [
        "### Cumulative Regret Calculators:\n",
        "\n",
        "def min_max_array(x):\n",
        "    new_list = []\n",
        "    for i, num in enumerate(x):\n",
        "            new_list.append(np.min(x[0:i+1]))\n",
        "    return new_list\n",
        "  \n",
        "def acqFuncExact(x):\n",
        "    new_array = []\n",
        "    x = np.array(x) \n",
        "    for i, num in enumerate(x):\n",
        "            new_array = x[:-2][::-3]\n",
        "    return new_array[::-1]\n",
        "\n",
        "def acqFuncApprox(x):\n",
        "    new_array = []\n",
        "    x = np.array(x) \n",
        "    for i, num in enumerate(x):\n",
        "            new_array = x[:-1][::-3]\n",
        "    return new_array[::-1]\n"
      ]
    },
    {
      "cell_type": "code",
      "execution_count": 7,
      "metadata": {
        "id": "kuuJx0IMam9S"
      },
      "outputs": [],
      "source": [
        "### Surrogate derivatives: \n",
        "\n",
        "cov_func = squaredExponential()\n",
        "\n",
        "def kronDelta(X, Xstar):                     # Kronecker's Delta method\n",
        "    return cdist(X, Xstar) < np.finfo(np.float32).eps\n",
        "\n",
        "def se(X, Xstar, sigmaf, l, sigman):         # S.E. kernel method\n",
        "    return sigmaf * np.exp(-0.5 * cdist(X, Xstar) ** 2 / l ** 2) + sigman * kronDelta(X, Xstar)\n",
        "\n",
        "def delta(X, Xstar):                         # Distance between training X and test Xstar vectors\n",
        "    return (X - Xstar)\n",
        "   \n",
        "def der_covmat(X, Xstar, sigmaf, l, sigman): # Covariance matrix derivative terms (i.e. exact, first-order)\n",
        "    nx = len(X)\n",
        "    ny = len(Xstar)\n",
        "    return np.round(np.array([(delta(np.atleast_2d(i), np.atleast_2d(j))[0] * se(np.atleast_2d(i), np.atleast_2d(j), sigmaf, l, sigman)[0]).sum() for (i, j) in itertools.product(X, Xstar)]).reshape(nx, ny), 8)\n",
        "\n",
        "class dtStudentProcess(tStudentProcess):    # Via inheritance, also optimises hyperparameters when opt = TRUE\n",
        "    \n",
        "    def AcqGrad(self, Xstar):               # Method returning exact, first-order derivatives of the STP's posterior mean and standard deviation\n",
        "        Xstar = np.atleast_2d(Xstar)\n",
        "        Kstar = self.covfunc.K(self.X, Xstar).T\n",
        "        dKstar = der_covmat(self.X, Xstar, self.covfunc.sigmaf, self.covfunc.l, self.covfunc.sigman).T\n",
        "        \n",
        "        smd_adj = (self.nu + self.beta1 - 2) / (self.nu + self.n1 - 2)\n",
        "\n",
        "        alpha = np.dot(np.linalg.inv(self.K11 + (self.covfunc.sigman**2) * np.eye(len(self.X))), self.y)\n",
        "        alpha_Kstar = np.dot(np.linalg.inv(self.K11 + (self.covfunc.sigman**2) * np.eye(len(self.X))), Kstar.T)      \n",
        "        \n",
        "        dm = np.dot(dKstar, alpha)\n",
        "        ds = -2 * smd_adj * np.dot(dKstar, alpha_Kstar)\n",
        "        \n",
        "        return dm, ds          \n"
      ]
    },
    {
      "cell_type": "code",
      "execution_count": 8,
      "metadata": {
        "id": "_Dc3YVHVaXz7"
      },
      "outputs": [],
      "source": [
        "### Add exact acquisition function gradient as attribute:\n",
        "\n",
        "Beta_CBM = dim\n",
        "\n",
        "class Acquisition_grad(Acquisition):    \n",
        "    def __init__(self, mode, eps=eps, **params):\n",
        "        \n",
        "        self.params = params\n",
        "        self.eps = eps\n",
        "\n",
        "        mode_dict = {\n",
        "            'CBM': self.CBM\n",
        "        }\n",
        "\n",
        "        self.f = mode_dict[mode]\n",
        "    \n",
        "    def CBM(self, y_global_orig, mean, std, ds, dm, nu=3.0):\n",
        "        gamma = (mean - y_global_orig - self.eps) / (std + self.eps)\n",
        "        gamma_h = (mean - y_global_orig) / (std + self.eps)\n",
        "        dsdx = ds / (2 * (std + self.eps))\n",
        "        dmdx = (dm - gamma * dsdx) / (std + self.eps)\n",
        "\n",
        "        f = (std + self.eps) * (gamma + np.sqrt(Beta_CBM))\n",
        "        df = dsdx * (gamma + np.sqrt(Beta_CBM)) + (std + self.eps) * dmdx\n",
        "        df_arr = []\n",
        "\n",
        "        for j in range(0, dim):\n",
        "          df_arr.append(df)\n",
        "        return f, np.asarray(df_arr).transpose()\n",
        "\n",
        "        for j in range(0, dim):\n",
        "          df_arr.append(df)\n",
        "        return f, np.asarray(df_arr).transpose()\n",
        "        \n",
        "    def d_eval(self, y_global_orig, mean, std, ds, dm, nu=3.0):\n",
        "    \n",
        "        return self.f(y_global_orig, mean, std, ds, dm, nu=3.0, **self.params)\n",
        "        "
      ]
    },
    {
      "cell_type": "code",
      "execution_count": 9,
      "metadata": {
        "id": "PITEQC8YSl7i"
      },
      "outputs": [],
      "source": [
        "## GPGO_multi: \n",
        "\n",
        "class GPGO_multi(GPGO):\n",
        "    n_start = n_start_AcqFunc\n",
        "\n",
        "    def __init__(self, surrogate, acquisition, f, parameter_dict, n_jobs=1):\n",
        "        self.GP = surrogate\n",
        "        self.A = acquisition\n",
        "        self.f = f\n",
        "        self.parameters = parameter_dict\n",
        "        self.n_jobs = n_jobs\n",
        "\n",
        "        self.parameter_key = list(parameter_dict.keys())\n",
        "        self.parameter_value = list(parameter_dict.values())\n",
        "        self.parameter_type = [p[0] for p in self.parameter_value]\n",
        "        self.parameter_range = [p[1] for p in self.parameter_value]\n",
        "\n",
        "        self.history = []\n",
        "        self.header =   'Evaluation \\t Proposed point \\t  Current eval. \\t  Best eval. \\t        Exact CBM: StdDev. x \\t Approx CBM: StdDev. x '\n",
        "        self.template = '{:3}\\t {}\\t {:3}\\t {:3}\\t {:3}\\t {:3}'\n",
        " \n",
        "    def acqfuncExact(self, xnew, n_start=n_start_AcqFunc):\n",
        "        new_mean, new_var = self.GP.predict(xnew, return_std=True)\n",
        "        new_std = np.sqrt(new_var + eps)\n",
        "        dm, ds = self.GP.AcqGrad(xnew)\n",
        "        f, df = self.A.d_eval(y_global_orig, new_mean, new_std, ds=ds, dm=dm, nu=3.0)\n",
        "\n",
        "        return -f, -df\n",
        "   \n",
        "    def acqfuncApprox(self, xnew, n_start=n_start_AcqFunc):\n",
        "        new_mean, new_var = self.GP.predict(xnew, return_std=True)\n",
        "        new_std = np.sqrt(new_var + eps)\n",
        "        dm, ds = self.GP.AcqGrad(xnew)\n",
        "        f, df = self.A.d_eval(y_global_orig, new_mean, new_std, ds=ds, dm=dm, nu=3.0)\n",
        "\n",
        "        return -f\n",
        "   \n",
        "    def _optimizeAcq(self, method='L-BFGS-B', n_start=n_start_AcqFunc):\n",
        "        \n",
        "        start_points_dict = [self._sampleParam() for i in range(n_start)]\n",
        "        start_points_arr = np.array([list(s.values())\n",
        "                                     for s in start_points_dict])\n",
        "        x_best = np.empty((n_start, len(self.parameter_key)))\n",
        "        f_best = np.empty((n_start,))\n",
        "        opt = Parallel(n_jobs=self.n_jobs)(delayed(minimize)(self.acqfuncApprox,\n",
        "                                                                 x0=start_point,\n",
        "                                                                 method=method,\n",
        "                                                                 jac = False,\n",
        "                                                                 bounds=self.parameter_range) for start_point in\n",
        "                                               start_points_arr)\n",
        "        x_best = np.array([res.x for res in opt])\n",
        "        f_best = np.array([np.atleast_1d(res.fun)[0] for res in opt])\n",
        "        f_best_min = min(f_best)\n",
        "\n",
        "        self.x_best = x_best\n",
        "        self.f_best = f_best\n",
        "        self.f_best_min = f_best_min\n",
        "        self.x_best_std = np.std(x_best)\n",
        "        self.best = x_best[np.argmin(f_best)]\n",
        "        self.start_points_arr = start_points_arr        \n",
        "        self.history.append(self.x_best_std)\n",
        "\n",
        "        x_best_exact = np.empty((n_start, len(self.parameter_key)))\n",
        "        f_best_exact = np.empty((n_start,))\n",
        "        opt_exact = Parallel(n_jobs=self.n_jobs)(delayed(minimize)(self.acqfuncExact,\n",
        "                                                                 x0=start_point,\n",
        "                                                                 method=method,\n",
        "                                                                 jac = True,\n",
        "                                                                 bounds=self.parameter_range) for start_point in\n",
        "                                               start_points_arr)\n",
        "        x_best_exact = np.array([res.x for res in opt_exact])\n",
        "        f_best_exact = np.array([np.atleast_1d(res.fun)[0] for res in opt_exact])\n",
        "        f_best_min_exact = min(f_best_exact)\n",
        "\n",
        "        self.x_best_exact = x_best_exact\n",
        "        self.f_best_exact = f_best_exact\n",
        "        self.f_best_min_exact = f_best_min_exact\n",
        "        self.x_best_std_exact = np.std(x_best_exact)\n",
        "        self.best_exact = x_best_exact[np.argmin(f_best_exact)]\n",
        "        self.start_points_arr = start_points_arr\n",
        "        self.history.append(self.x_best_std_exact)\n",
        "\n",
        "    def _printInit(self):\n",
        "        print(self.header)\n",
        "        for init_eval in range(self.init_evals):\n",
        "            print(self.template.format('init', self.GP.X[init_eval], inverse * self.GP.y[init_eval], inverse * self.tau, '', ''))\n",
        "      \n",
        "    def _printCurrent(self):\n",
        "        OKGREEN = '\\033[92m'\n",
        "        ENDC = '\\033[0m'\n",
        "        BOLD = '\\033[1m'\n",
        "        eval = str(len(self.GP.y) - self.init_evals)\n",
        "        proposed = str(self.best)\n",
        "        curr_eval = str(inverse * self.GP.y[-1])\n",
        "        curr_best = str(inverse * self.tau)\n",
        "        min_acqfunc = str(self.f_best_min)\n",
        "        min_acqfunc_exact = str(self.f_best_min_exact)\n",
        "        x_best_std = str(self.x_best_std)\n",
        "        x_best_std_exact = str(self.x_best_std_exact)\n",
        "        if float(curr_eval) <= float(curr_best):\n",
        "            eval = BOLD + OKGREEN + eval + ENDC\n",
        "            proposed = BOLD + OKGREEN + proposed + ENDC\n",
        "            curr_eval = BOLD + OKGREEN + curr_eval + ENDC\n",
        "            curr_best = BOLD + OKGREEN + curr_best + ENDC\n",
        "            x_best_std = BOLD + OKGREEN + x_best_std + ENDC\n",
        "            x_best_std_exact = BOLD + OKGREEN + x_best_std_exact + ENDC\n",
        "        print(self.template.format(eval, proposed, curr_eval, curr_best, x_best_std_exact, x_best_std))\n",
        "        \n",
        "    def run(self, max_iter=10, init_evals=3, resume=False):\n",
        "        \n",
        "        if not resume:\n",
        "            self.init_evals = init_evals\n",
        "            self._firstRun(self.init_evals)\n",
        "            self._printInit()\n",
        "        for iteration in range(max_iter):\n",
        "            self._optimizeAcq()\n",
        "            self.updateGP()\n",
        "            self._printCurrent()\n"
      ]
    },
    {
      "cell_type": "code",
      "execution_count": 10,
      "metadata": {
        "id": "b_B-w81BJxKN"
      },
      "outputs": [],
      "source": [
        "## dGPGO:\n",
        "\n",
        "class dGPGO(GPGO):\n",
        "    n_start = n_start_AcqFunc\n",
        "\n",
        "    def __init__(self, surrogate, acquisition, f, parameter_dict, n_jobs=1):\n",
        "        self.GP = surrogate\n",
        "        self.A = acquisition\n",
        "        self.f = f\n",
        "        self.parameters = parameter_dict\n",
        "        self.n_jobs = n_jobs\n",
        "\n",
        "        self.parameter_key = list(parameter_dict.keys())\n",
        "        self.parameter_value = list(parameter_dict.values())\n",
        "        self.parameter_type = [p[0] for p in self.parameter_value]\n",
        "        self.parameter_range = [p[1] for p in self.parameter_value]\n",
        "\n",
        "        self.history = []\n",
        "        self.header =   'Evaluation \\t Proposed point \\t  Current eval. \\t  Best eval. \\t        Exact CBM: StdDev. x \\t Approx CBM: StdDev. x '\n",
        "        self.template = '{:3}\\t {}\\t {:3}\\t {:3}\\t {:3}\\t {:3}'\n",
        "\n",
        "    def acqfuncExact(self, xnew, n_start=n_start_AcqFunc):\n",
        "        new_mean, new_var = self.GP.predict(xnew, return_std=True)\n",
        "        new_std = np.sqrt(new_var + eps)\n",
        "        dm, ds = self.GP.AcqGrad(xnew)\n",
        "        f, df = self.A.d_eval(y_global_orig, new_mean, new_std, ds=ds, dm=dm, nu=3.0)\n",
        "\n",
        "        return -f, -df\n",
        "   \n",
        "    def acqfuncApprox(self, xnew, n_start=n_start_AcqFunc):\n",
        "        new_mean, new_var = self.GP.predict(xnew, return_std=True)\n",
        "        new_std = np.sqrt(new_var + eps)\n",
        "        dm, ds = self.GP.AcqGrad(xnew)\n",
        "        f, df = self.A.d_eval(y_global_orig, new_mean, new_std, ds=ds, dm=dm, nu=3.0)\n",
        "\n",
        "        return -f\n",
        "\n",
        "    def d_optimizeAcq(self, method='L-BFGS-B', n_start=n_start_AcqFunc):\n",
        "        start_points_dict = [self._sampleParam() for i in range(n_start)]\n",
        "        start_points_arr = np.array([list(s.values())\n",
        "                                     for s in start_points_dict])\n",
        "        x_best = np.empty((n_start, len(self.parameter_key)))\n",
        "        f_best = np.empty((n_start,))\n",
        "        opt = Parallel(n_jobs=self.n_jobs)(delayed(minimize)(self.acqfuncExact,\n",
        "                                                                 x0=start_point,\n",
        "                                                                 method=method,\n",
        "                                                                 jac = True,\n",
        "                                                                 bounds=self.parameter_range) for start_point in\n",
        "                                               start_points_arr)\n",
        "        x_best = np.array([res.x for res in opt])\n",
        "        f_best = np.array([np.atleast_1d(res.fun)[0] for res in opt])\n",
        "        f_best_min = min(f_best)\n",
        "\n",
        "        self.x_best = x_best\n",
        "        self.f_best = f_best\n",
        "        self.f_best_min = f_best_min\n",
        "        self.x_best_std = np.std(x_best)\n",
        "        self.best = x_best[np.argmin(f_best)]\n",
        "        self.start_points_arr = start_points_arr\n",
        "        self.history.append(self.x_best_std)\n",
        "\n",
        "        x_best_approx = np.empty((n_start, len(self.parameter_key)))\n",
        "        f_best_approx = np.empty((n_start,))\n",
        "        opt_approx = Parallel(n_jobs=self.n_jobs)(delayed(minimize)(self.acqfuncApprox,\n",
        "                                                                 x0=start_point,\n",
        "                                                                 method=method,\n",
        "                                                                 jac = False,\n",
        "                                                                 bounds=self.parameter_range) for start_point in\n",
        "                                               start_points_arr)\n",
        "        x_best_approx = np.array([res.x for res in opt_approx])\n",
        "        f_best_approx = np.array([np.atleast_1d(res.fun)[0] for res in opt_approx])\n",
        "        f_best_min_approx = min(f_best_approx)\n",
        "\n",
        "        self.x_best_approx = x_best_approx\n",
        "        self.f_best_approx = f_best_approx\n",
        "        self.f_best_min_approx = f_best_min_approx\n",
        "        self.x_best_std_approx = np.std(x_best_approx)\n",
        "        self.best_approx = x_best_approx[np.argmin(f_best_approx)]\n",
        "        self.start_points_arr = start_points_arr\n",
        "        self.history.append(self.x_best_std_approx)\n",
        "    \n",
        "    def _printInit(self):\n",
        "        print(self.header)\n",
        "        for init_eval in range(self.init_evals):\n",
        "            print(self.template.format('init', self.GP.X[init_eval], inverse * self.GP.y[init_eval], inverse * self.tau, '', ''))\n",
        "      \n",
        "    def _printCurrent(self):\n",
        "        OKGREEN = '\\033[92m'\n",
        "        ENDC = '\\033[0m'\n",
        "        BOLD = '\\033[1m'\n",
        "        eval = str(len(self.GP.y) - self.init_evals)\n",
        "        proposed = str(self.best)\n",
        "        curr_eval = str(inverse * self.GP.y[-1])\n",
        "        curr_best = str(inverse * self.tau)\n",
        "        min_acqfunc = str(self.f_best_min)\n",
        "        min_acqfunc_approx = str(self.f_best_min_approx)\n",
        "        x_best_std = str(self.x_best_std)\n",
        "        x_best_std_approx = str(self.x_best_std_approx)\n",
        "        if float(curr_eval) <= float(curr_best):\n",
        "            eval = BOLD + OKGREEN + eval + ENDC\n",
        "            proposed = BOLD + OKGREEN + proposed + ENDC\n",
        "            curr_eval = BOLD + OKGREEN + curr_eval + ENDC\n",
        "            curr_best = BOLD + OKGREEN + curr_best + ENDC\n",
        "            x_best_std = BOLD + OKGREEN + x_best_std + ENDC\n",
        "            x_best_std_approx = BOLD + OKGREEN + x_best_std_approx + ENDC\n",
        "        print(self.template.format(eval, proposed, curr_eval, curr_best, x_best_std, x_best_std_approx))\n",
        "\n",
        "    def run(self, max_iter=10, init_evals=3, resume=False):\n",
        "        \n",
        "        if not resume:\n",
        "            self.init_evals = init_evals\n",
        "            self._firstRun(self.init_evals)\n",
        "            self._printInit()\n",
        "        for iteration in range(max_iter):\n",
        "            self.d_optimizeAcq()\n",
        "            self.updateGP()\n",
        "            self._printCurrent()\n"
      ]
    },
    {
      "cell_type": "code",
      "execution_count": 11,
      "metadata": {
        "id": "qXIKGuXVGEg2"
      },
      "outputs": [],
      "source": [
        "###Reproducible set-seeds:\n",
        "\n",
        "run_num_1 = 1\n",
        "run_num_2 = 2\n",
        "run_num_3 = 3\n",
        "run_num_4 = 4\n",
        "run_num_5 = 5\n",
        "run_num_6 = 6\n",
        "run_num_7 = 7\n",
        "run_num_8 = 8\n",
        "run_num_9 = 9\n",
        "run_num_10 = 10\n",
        "run_num_11 = 11\n",
        "run_num_12 = 12\n",
        "run_num_13 = 13\n",
        "run_num_14 = 14\n",
        "run_num_15 = 15\n",
        "run_num_16 = 16\n",
        "run_num_17 = 17\n",
        "run_num_18 = 18\n",
        "run_num_19 = 19\n",
        "run_num_20 = 20\n"
      ]
    },
    {
      "cell_type": "code",
      "execution_count": 12,
      "metadata": {
        "colab": {
          "base_uri": "https://localhost:8080/"
        },
        "id": "JEhagQmnTVIK",
        "outputId": "772275a5-6bf3-4905-b99f-073fb9329baf"
      },
      "outputs": [
        {
          "output_type": "execute_result",
          "data": {
            "text/plain": [
              "1663329875.102037"
            ]
          },
          "metadata": {},
          "execution_count": 12
        }
      ],
      "source": [
        "start_approx = time.time()\n",
        "start_approx\n"
      ]
    },
    {
      "cell_type": "code",
      "execution_count": 13,
      "metadata": {
        "colab": {
          "base_uri": "https://localhost:8080/"
        },
        "id": "aH0YSTXufD1v",
        "outputId": "33b0af70-09a2-43b1-970e-87a749e135ef"
      },
      "outputs": [
        {
          "output_type": "stream",
          "name": "stdout",
          "text": [
            "Evaluation \t Proposed point \t  Current eval. \t  Best eval. \t        Exact CBM: StdDev. x \t Approx CBM: StdDev. x \n",
            "init\t [-1.65955991  4.40648987]\t 15.332210716052247\t 15.332210716052247\t    \t    \n",
            "init\t [-9.9977125  -3.95334855]\t 1458.2611077633842\t 15.332210716052247\t    \t    \n",
            "init\t [-7.06488218 -8.1532281 ]\t 1666.779874000304\t 15.332210716052247\t    \t    \n",
            "init\t [-6.27479577 -3.08878546]\t 804.3371752309802\t 15.332210716052247\t    \t    \n",
            "init\t [-2.06465052  0.77633468]\t 126.2019077328938\t 15.332210716052247\t    \t    \n",
            "1  \t [ 7.89213327 -8.29911577]\t 252.857497365554\t 15.332210716052247\t 6.909620280906258\t 7.277837884777397\n",
            "2  \t [7.66612182 2.47344414]\t 195.49152221204983\t 15.332210716052247\t 6.753582711223449\t 6.676812491473695\n",
            "3  \t [1.62717855 9.40039978]\t 238.9058988758153\t 15.332210716052247\t 6.8480655351883675\t 6.731057424046815\n",
            "4  \t [-9.56950389  8.95940422]\t 232.24098716076017\t 15.332210716052247\t 8.210710366921074\t 8.528348859703309\n",
            "5  \t [10. 10.]\t 1154.0\t 15.332210716052247\t 7.0413829341375225\t 7.336446178810657\n",
            "6  \t [-0.33087067 -5.97452087]\t 507.11762089423564\t 15.332210716052247\t 5.190648997256648\t 5.788379609718355\n",
            "7  \t [-7.64217344  3.05480479]\t 369.6617669868943\t 15.332210716052247\t 6.856421446991697\t 7.082898879659522\n",
            "8  \t [ 5.15234706 -2.93102147]\t 65.0737323502466\t 15.332210716052247\t 6.726822395964131\t 7.707545624104656\n",
            "9  \t [-4.0089652 10.       ]\t 89.94661064480724\t 15.332210716052247\t 6.49398394501398\t 7.153062965004489\n",
            "10 \t [3.01952901 4.19685824]\t 46.891554661308206\t 15.332210716052247\t 6.68445655864713\t 6.979571360347055\n",
            "11 \t [10.         -2.61875513]\t 158.3016766610139\t 15.332210716052247\t 6.514583237601529\t 6.553928949900177\n",
            "12 \t [  3.01025215 -10.        ]\t 656.1393446150943\t 15.332210716052247\t 6.422464715500336\t 7.020371216218495\n",
            "13 \t [5.9564428 7.3347937]\t 388.66506439556747\t 15.332210716052247\t 5.453345886798502\t 6.442860175548527\n",
            "14 \t [ -2.36201319 -10.        ]\t 1251.1650348583653\t 15.332210716052247\t 6.612379170221895\t 6.550712491244888\n",
            "15 \t [2.25222053 0.05515442]\t 21.700089930425158\t 15.332210716052247\t 6.234593761045198\t 7.037373763483357\n",
            "16 \t [10.          5.65175379]\t 631.0852636777512\t 15.332210716052247\t 6.8933453554197905\t 7.6880604359575315\n",
            "17 \t [-10.           0.09154905]\t 903.2391187598381\t 15.332210716052247\t 5.522535565062658\t 6.432463664414193\n",
            "18 \t [-4.9615623   6.19976219]\t 76.28886255045889\t 15.332210716052247\t 6.8982016099787895\t 7.636362627584738\n",
            "19 \t [-7.30413764 -6.13167202]\t 1368.3759698996014\t 15.332210716052247\t 6.440855122675328\t 6.440854726282946\n",
            "20 \t [ 3.17217074 -5.62584278]\t 245.7230206462375\t 15.332210716052247\t 5.948191541750442\t 7.321721036840139\n"
          ]
        }
      ],
      "source": [
        "### ESTIMATED STP CBM GRADIENTS\n",
        "\n",
        "np.random.seed(run_num_1)\n",
        "surrogate_approx_1 = dtStudentProcess(cov_func, optimize=opt, nu = df)\n",
        "\n",
        "approx_1 = GPGO_multi(surrogate_approx_1, Acquisition_grad(util), objfunc, param)\n",
        "approx_1.run(init_evals=n_init, max_iter=iters)\n"
      ]
    },
    {
      "cell_type": "code",
      "execution_count": 14,
      "metadata": {
        "colab": {
          "base_uri": "https://localhost:8080/"
        },
        "id": "wTxsSZxFGBB5",
        "outputId": "d548a9d7-df4a-4989-c90f-e312d5110041"
      },
      "outputs": [
        {
          "output_type": "stream",
          "name": "stdout",
          "text": [
            "Evaluation \t Proposed point \t  Current eval. \t  Best eval. \t        Exact CBM: StdDev. x \t Approx CBM: StdDev. x \n",
            "init\t [-1.28010196 -9.48147536]\t 1032.6027521517153\t 92.40504507724606\t    \t    \n",
            "init\t [ 0.99324956 -1.29355215]\t 92.40504507724606\t 92.40504507724606\t    \t    \n",
            "init\t [-1.59264396 -3.39330358]\t 370.5851459944721\t 92.40504507724606\t    \t    \n",
            "init\t [-5.90702732  2.38541933]\t 274.38308294748543\t 92.40504507724606\t    \t    \n",
            "init\t [-4.00690653 -4.6634545 ]\t 725.9498417670716\t 92.40504507724606\t    \t    \n",
            "1  \t [-10.  10.]\t 234.0\t 92.40504507724606\t 6.656423272903734\t 6.823951646264326\n",
            "2  \t [10.        -9.5416068]\t 288.4638158064562\t 92.40504507724606\t 6.304528475388429\t 6.854534146743007\n",
            "3  \t [10. 10.]\t 1154.0\t 92.40504507724606\t 6.916039714101093\t 6.716538219818949\n",
            "4  \t [8.51803193 1.4054842 ]\t 199.41545789668123\t 92.40504507724606\t 6.280725549777086\t 5.997266603687181\n",
            "5  \t [-10. -10.]\t 2594.0\t 92.40504507724606\t 6.912090950352128\t 6.874019139453867\n",
            "\u001b[1m\u001b[92m6\u001b[0m\t \u001b[1m\u001b[92m[-3.25263411  9.0402141 ]\u001b[0m\t \u001b[1m\u001b[92m67.3508521501691\u001b[0m\t \u001b[1m\u001b[92m67.3508521501691\u001b[0m\t \u001b[1m\u001b[92m6.30050743145143\u001b[0m\t \u001b[1m\u001b[92m6.470317277031539\u001b[0m\n",
            "7  \t [2.78618428 8.54030891]\t 248.5954865196421\t 67.3508521501691\t 5.996174307323961\t 5.936063340476307\n",
            "8  \t [ 6.16699394 -4.35239776]\t 99.85953864165833\t 67.3508521501691\t 4.848291409533177\t 5.290911328996472\n",
            "9  \t [-10.          -2.55696337]\t 1248.4119853569082\t 67.3508521501691\t 5.159350603647594\t 6.521448521187142\n",
            "\u001b[1m\u001b[92m10\u001b[0m\t \u001b[1m\u001b[92m[-0.46282246  3.97498117]\u001b[0m\t \u001b[1m\u001b[92m4.042394346777222\u001b[0m\t \u001b[1m\u001b[92m4.042394346777222\u001b[0m\t \u001b[1m\u001b[92m5.636463352425419\u001b[0m\t \u001b[1m\u001b[92m6.08764157155387\u001b[0m\n",
            "11 \t [3.99173366 2.95681302]\t 43.728045607704395\t 4.042394346777222\t 6.29488240943532\t 5.9063064744441816\n",
            "12 \t [  4.47482912 -10.        ]\t 543.9899587531402\t 4.042394346777222\t 4.971262077335846\t 5.662051051983455\n",
            "13 \t [-10.           5.02966172]\t 446.9874022553198\t 4.042394346777222\t 6.044828952714635\t 6.204504929845006\n",
            "14 \t [10.         -2.86086192]\t 154.76645397748325\t 4.042394346777222\t 5.681810507532993\t 5.928810775656275\n",
            "15 \t [8.07458791 5.78369362]\t 446.5416037354082\t 4.042394346777222\t 5.387583752578809\t 5.424681947155032\n",
            "16 \t [ 2.06559576 -6.03163327]\t 336.53690843211234\t 4.042394346777222\t 4.985526802344226\t 5.313299972615606\n",
            "17 \t [ 4.47886914 -7.40659704]\t 312.37344792432236\t 4.042394346777222\t 5.753121430337156\t 5.841809246387468\n",
            "18 \t [-6.15222449  6.76154917]\t 111.29028376424074\t 4.042394346777222\t 5.715513025640621\t 5.967689467197559\n",
            "19 \t [-5.63597761 -8.81124495]\t 1544.7417873234417\t 4.042394346777222\t 5.714735618485785\t 5.242753567742403\n",
            "20 \t [-2.10276126  1.00965838]\t 117.34737519508599\t 4.042394346777222\t 5.552745912924544\t 4.751441038474273\n"
          ]
        }
      ],
      "source": [
        "### ESTIMATED STP CBM GRADIENTS\n",
        "\n",
        "np.random.seed(run_num_2)\n",
        "surrogate_approx_2 = dtStudentProcess(cov_func, optimize=opt, nu = df)\n",
        "\n",
        "approx_2 = GPGO_multi(surrogate_approx_2, Acquisition_grad(util), objfunc, param)\n",
        "approx_2.run(init_evals=n_init, max_iter=iters)\n"
      ]
    },
    {
      "cell_type": "code",
      "execution_count": 15,
      "metadata": {
        "colab": {
          "base_uri": "https://localhost:8080/"
        },
        "id": "-dgzIrUIGCGT",
        "outputId": "cf442f81-2b4e-479c-e5fc-a3f68ecbd753"
      },
      "outputs": [
        {
          "output_type": "stream",
          "name": "stdout",
          "text": [
            "Evaluation \t Proposed point \t  Current eval. \t  Best eval. \t        Exact CBM: StdDev. x \t Approx CBM: StdDev. x \n",
            "init\t [1.01595805 4.16295645]\t 6.912079999083602\t 6.912079999083602\t    \t    \n",
            "init\t [-4.18190522  0.2165521 ]\t 288.3871250813255\t 6.912079999083602\t    \t    \n",
            "init\t [7.85893909 7.92586178]\t 626.8352854305291\t 6.912079999083602\t    \t    \n",
            "init\t [-7.48829379 -5.85514244]\t 1353.6437998345716\t 6.912079999083602\t    \t    \n",
            "init\t [-8.97065593 -1.18380313]\t 918.3130335940459\t 6.912079999083602\t    \t    \n",
            "1  \t [ 5.60629529 -3.87272935]\t 88.9992584872525\t 6.912079999083602\t 4.717150437873575\t 4.717150437873575\n",
            "2  \t [-6.2437035   9.04202486]\t 94.75343105833329\t 6.912079999083602\t 7.018599166932268\t 7.130083218187796\n",
            "3  \t [-0.940516   -5.36575827]\t 498.6286718984072\t 6.912079999083602\t 6.554322232086527\t 7.102879792669547\n",
            "4  \t [ 10. -10.]\t 314.0\t 6.912079999083602\t 6.999067141995988\t 7.295872025701281\n",
            "5  \t [10.          0.76156388]\t 268.8855805047947\t 6.912079999083602\t 6.2858621730552455\t 7.32127262174034\n",
            "6  \t [ 1.50024421 10.        ]\t 274.2648972899075\t 6.912079999083602\t 5.901043115755604\t 6.006896575855493\n",
            "7  \t [ 0.69850669 -0.70926041]\t 78.19409262167642\t 6.912079999083602\t 5.805992923588217\t 5.764199093677208\n",
            "8  \t [-9.43411856  4.82714338]\t 408.5293700359781\t 6.912079999083602\t 6.291159036494827\t 6.753988651597791\n",
            "9  \t [ 5.74317947 -0.19878238]\t 42.2706096709416\t 6.912079999083602\t 5.645923665038028\t 5.236729869480786\n",
            "10 \t [-10. -10.]\t 2594.0\t 6.912079999083602\t 6.941812999402668\t 7.1427213277413895\n",
            "11 \t [  4.54049769 -10.        ]\t 539.4638599354605\t 6.912079999083602\t 5.738683024384741\t 6.444732741895088\n",
            "12 \t [ -4.14134731 -10.        ]\t 1511.8673810068585\t 6.912079999083602\t 5.975926326368307\t 6.321615579224657\n",
            "13 \t [-3.26157242  5.20776027]\t 39.907782401057936\t 6.912079999083602\t 7.375141391144419\t 7.196238143313068\n",
            "14 \t [4.91763127 4.04371621]\t 114.89705363544707\t 6.912079999083602\t 5.118753930938022\t 6.301914229098682\n",
            "15 \t [ 9.97093215 -4.21037813]\t 144.8653782548394\t 6.912079999083602\t 5.4673806766937\t 6.560821088078006\n",
            "16 \t [-10.  10.]\t 234.0\t 6.912079999083602\t 6.460823885483394\t 6.696910331455186\n",
            "17 \t [  0.30715585 -10.        ]\t 919.4559563572675\t 6.912079999083602\t 6.6527217834288495\t 5.597342384629059\n",
            "18 \t [4.64453209 7.76833849]\t 319.12523222142494\t 6.912079999083602\t 6.2486725096603335\t 6.115232002825729\n",
            "19 \t [-2.38181155  9.03171742]\t 75.90626899992539\t 6.912079999083602\t 6.046239301726336\t 6.071552256978268\n",
            "20 \t [10.          4.58360281]\t 531.5583920418851\t 6.912079999083602\t 5.899401627544759\t 5.5653379857314285\n"
          ]
        }
      ],
      "source": [
        "### ESTIMATED STP CBM GRADIENTS\n",
        "\n",
        "np.random.seed(run_num_3)\n",
        "surrogate_approx_3 = dtStudentProcess(cov_func, optimize=opt, nu = df)\n",
        "\n",
        "approx_3 = GPGO_multi(surrogate_approx_3, Acquisition_grad(util), objfunc, param)\n",
        "approx_3.run(init_evals=n_init, max_iter=iters)\n"
      ]
    },
    {
      "cell_type": "code",
      "execution_count": 16,
      "metadata": {
        "colab": {
          "base_uri": "https://localhost:8080/"
        },
        "id": "hOtG-2sCGCKS",
        "outputId": "7b167ba7-7f43-4b65-c53e-7f027357b0aa"
      },
      "outputs": [
        {
          "output_type": "stream",
          "name": "stdout",
          "text": [
            "Evaluation \t Proposed point \t  Current eval. \t  Best eval. \t        Exact CBM: StdDev. x \t Approx CBM: StdDev. x \n",
            "init\t [9.34059678 0.94464498]\t 231.80709501196006\t 215.08077877054313\t    \t    \n",
            "init\t [9.4536872  4.29631987]\t 453.3958241553961\t 215.08077877054313\t    \t    \n",
            "init\t [ 3.95457649 -5.67821009]\t 215.08077877054313\t 215.08077877054313\t    \t    \n",
            "init\t [ 9.5254891 -9.8753949]\t 314.14647993232734\t 215.08077877054313\t    \t    \n",
            "init\t [-4.94035275 -1.30416935]\t 473.61459720928724\t 215.08077877054313\t    \t    \n",
            "1  \t [-10. -10.]\t 2594.0\t 215.08077877054313\t 6.072138675033217\t 6.105737230384658\n",
            "\u001b[1m\u001b[92m2\u001b[0m\t \u001b[1m\u001b[92m[1.43282743 6.87413988]\u001b[0m\t \u001b[1m\u001b[92m89.39616910477575\u001b[0m\t \u001b[1m\u001b[92m89.39616910477575\u001b[0m\t \u001b[1m\u001b[92m5.914408435006885\u001b[0m\t \u001b[1m\u001b[92m6.039323585131387\u001b[0m\n",
            "3  \t [-10.  10.]\t 234.0\t 89.39616910477575\t 6.604966497327909\t 7.097651733515972\n",
            "4  \t [-10.           2.55700697]\t 644.9646009626622\t 89.39616910477575\t 6.597353024510302\t 6.616536724615399\n",
            "\u001b[1m\u001b[92m5\u001b[0m\t \u001b[1m\u001b[92m[1.68642256 0.34277493]\u001b[0m\t \u001b[1m\u001b[92m23.068271203366507\u001b[0m\t \u001b[1m\u001b[92m23.068271203366507\u001b[0m\t \u001b[1m\u001b[92m6.415830951015024\u001b[0m\t \u001b[1m\u001b[92m5.628137495544678\u001b[0m\n",
            "6  \t [-3.5249608  -7.68742692]\t 1060.3633251516749\t 23.068271203366507\t 6.001374356497948\t 5.8769041188569116\n",
            "7  \t [-3.54677973  4.48794012]\t 60.3131706621093\t 23.068271203366507\t 4.839103668875487\t 4.690534631129504\n",
            "8  \t [ 6.66241858 10.        ]\t 722.4103616623117\t 23.068271203366507\t 6.333053347689302\t 6.632793239565562\n",
            "9  \t [-3.8599574 10.       ]\t 90.93831522103942\t 23.068271203366507\t 5.679496472082841\t 6.078921361470236\n",
            "10 \t [-10.        -3.892622]\t 1449.0919264764607\t 23.068271203366507\t 6.451664370551326\t 6.712773259359346\n",
            "11 \t [10.         -4.42644868]\t 146.0563950214127\t 23.068271203366507\t 6.461785644285503\t 6.358624364049615\n",
            "12 \t [-2.91916568  8.15405406]\t 48.02393021395088\t 23.068271203366507\t 5.843767405442504\t 5.6217223013097986\n",
            "13 \t [-0.39673676 -3.51447413]\t 294.73827762823623\t 23.068271203366507\t 6.8805896666818835\t 7.267063580844968\n",
            "14 \t [5.0158983  2.97313906]\t 79.77783678662655\t 23.068271203366507\t 5.977640533565505\t 6.137985304421017\n",
            "15 \t [  1.40774211 -10.        ]\t 803.4260889477841\t 23.068271203366507\t 6.444336684400293\t 6.688245601080925\n",
            "16 \t [ 5.4867451  -1.47066078]\t 40.11872414659597\t 23.068271203366507\t 6.492727618121228\t 6.390625639428235\n",
            "17 \t [-7.5577527   6.42624466]\t 190.3037827015213\t 23.068271203366507\t 6.181870271695006\t 5.814589655978612\n",
            "18 \t [-1.99509404 -6.57801782]\t 733.041580412513\t 23.068271203366507\t 5.703988262768075\t 5.703988262768075\n",
            "19 \t [-1.6342972   1.29082079]\t 85.32396453832739\t 23.068271203366507\t 5.893242824008558\t 6.901725600408252\n",
            "20 \t [  5.59270318 -10.        ]\t 472.82348205506406\t 23.068271203366507\t 6.106253177300018\t 6.043454418074997\n"
          ]
        }
      ],
      "source": [
        "### ESTIMATED STP CBM GRADIENTS\n",
        "\n",
        "np.random.seed(run_num_4)\n",
        "surrogate_approx_4 = dtStudentProcess(cov_func, optimize=opt, nu = df)\n",
        "\n",
        "approx_4= GPGO_multi(surrogate_approx_4, Acquisition_grad(util), objfunc, param)\n",
        "approx_4.run(init_evals=n_init, max_iter=iters)\n"
      ]
    },
    {
      "cell_type": "code",
      "execution_count": 17,
      "metadata": {
        "colab": {
          "base_uri": "https://localhost:8080/"
        },
        "id": "JF_SxcEvGCOl",
        "outputId": "46eb5930-78f5-49c5-c2c9-a6655dbc8673"
      },
      "outputs": [
        {
          "output_type": "stream",
          "name": "stdout",
          "text": [
            "Evaluation \t Proposed point \t  Current eval. \t  Best eval. \t        Exact CBM: StdDev. x \t Approx CBM: StdDev. x \n",
            "init\t [-5.56013658  7.41464612]\t 80.93700948496809\t 18.053107398965345\t    \t    \n",
            "init\t [-5.86561689  8.37221816]\t 84.91838238990834\t 18.053107398965345\t    \t    \n",
            "init\t [-0.23177622  2.23487726]\t 18.053107398965345\t 18.053107398965345\t    \t    \n",
            "init\t [5.31815713 0.36835976]\t 36.94936820355582\t 18.053107398965345\t    \t    \n",
            "init\t [-4.06398997 -6.24557543]\t 930.179306576812\t 18.053107398965345\t    \t    \n",
            "1  \t [9.27861058 9.20453431]\t 946.0775823883291\t 18.053107398965345\t 7.7989881980726965\t 7.6850809700335185\n",
            "2  \t [ 8.87080164 -7.76615146]\t 211.3917378701312\t 18.053107398965345\t 6.736655112984281\t 7.042371589378048\n",
            "3  \t [-10. -10.]\t 2594.0\t 18.053107398965345\t 7.204482424394718\t 7.548305341068645\n",
            "4  \t [2.07375802 7.98048509]\t 172.57362667304176\t 18.053107398965345\t 5.964199592282902\t 6.163275354180808\n",
            "5  \t [-8.09184848 -0.04332124]\t 680.9728891601656\t 18.053107398965345\t 5.663764874960484\t 6.531539480758928\n",
            "6  \t [ 2.94634057 -7.13386506]\t 374.6256914885553\t 18.053107398965345\t 5.964443259429225\t 7.1600807139849065\n",
            "7  \t [10.        3.121867]\t 413.8486819016258\t 18.053107398965345\t 5.1143533633371066\t 6.320670827955373\n",
            "8  \t [10.         -2.45486716]\t 161.02744321073396\t 18.053107398965345\t 6.015371096723084\t 7.289926994596292\n",
            "9  \t [-10.           5.15409778]\t 438.64008185480645\t 18.053107398965345\t 5.407689164799146\t 6.663622652478809\n",
            "10 \t [ 0.1890454  -2.48002404]\t 188.99395966131667\t 18.053107398965345\t 5.9553622154180035\t 6.015392906166337\n",
            "11 \t [-10.  10.]\t 234.0\t 18.053107398965345\t 5.866122730946062\t 7.127275848037256\n",
            "12 \t [-10.         -4.6873301]\t 1576.9602691323287\t 18.053107398965345\t 4.9133037921046325\t 5.48259498790627\n",
            "13 \t [5.44587567 4.82799376]\t 180.55312231462938\t 18.053107398965345\t 5.567909155022166\t 6.153816635587338\n",
            "14 \t [ -0.87421168 -10.        ]\t 1057.4813616984427\t 18.053107398965345\t 5.37531830439033\t 6.366286064222375\n",
            "15 \t [-4.26233829  3.13969587]\t 132.67758065465915\t 18.053107398965345\t 5.354996819517182\t 5.9649845851497645\n",
            "16 \t [-1.8862933 10.       ]\t 125.02102031670474\t 18.053107398965345\t 4.9638370280539865\t 5.337907189797439\n",
            "17 \t [ 5.85299022 -3.77630208]\t 84.26629792117235\t 18.053107398965345\t 5.800687212569069\t 5.963442463335929\n",
            "18 \t [-3.91132544 -1.49182754]\t 397.97477576602046\t 18.053107398965345\t 5.372116292483876\t 6.284091857951196\n",
            "\u001b[1m\u001b[92m19\u001b[0m\t \u001b[1m\u001b[92m[-1.41541134  5.937613  ]\u001b[0m\t \u001b[1m\u001b[92m15.554560344169037\u001b[0m\t \u001b[1m\u001b[92m15.554560344169037\u001b[0m\t \u001b[1m\u001b[92m5.142016132942278\u001b[0m\t \u001b[1m\u001b[92m5.137169364448267\u001b[0m\n",
            "\u001b[1m\u001b[92m20\u001b[0m\t \u001b[1m\u001b[92m[1.915582   0.79049679]\u001b[0m\t \u001b[1m\u001b[92m12.417123183405844\u001b[0m\t \u001b[1m\u001b[92m12.417123183405844\u001b[0m\t \u001b[1m\u001b[92m5.71641316183858\u001b[0m\t \u001b[1m\u001b[92m6.0673785875911115\u001b[0m\n"
          ]
        }
      ],
      "source": [
        "### ESTIMATED STP CBM GRADIENTS\n",
        "\n",
        "np.random.seed(run_num_5)\n",
        "surrogate_approx_5 = dtStudentProcess(cov_func, optimize=opt, nu = df)\n",
        "\n",
        "approx_5 = GPGO_multi(surrogate_approx_5, Acquisition_grad(util), objfunc, param)\n",
        "approx_5.run(init_evals=n_init, max_iter=iters)\n"
      ]
    },
    {
      "cell_type": "code",
      "execution_count": 18,
      "metadata": {
        "colab": {
          "base_uri": "https://localhost:8080/"
        },
        "id": "-kDxZtJsGCR3",
        "outputId": "fed0c051-f242-486a-e671-d1950ac60341"
      },
      "outputs": [
        {
          "output_type": "stream",
          "name": "stdout",
          "text": [
            "Evaluation \t Proposed point \t  Current eval. \t  Best eval. \t        Exact CBM: StdDev. x \t Approx CBM: StdDev. x \n",
            "init\t [ 7.85720303 -3.36040389]\t 88.46320859272592\t 88.46320859272592\t    \t    \n",
            "init\t [ 6.42458246 -9.16606749]\t 359.2297742730208\t 88.46320859272592\t    \t    \n",
            "init\t [-7.8468664   1.90104128]\t 475.1525044254979\t 88.46320859272592\t    \t    \n",
            "init\t [ 0.59634724 -1.62385143]\t 122.64613090496854\t 88.46320859272592\t    \t    \n",
            "init\t [-3.29184301  2.45038864]\t 112.48071079498652\t 88.46320859272592\t    \t    \n",
            "1  \t [10.          4.89833024]\t 559.698065862704\t 88.46320859272592\t 5.900385540570068\t 6.136681584519434\n",
            "2  \t [-4.96771714 -9.17248997]\t 1500.0516160468933\t 88.46320859272592\t 7.392482773368708\t 7.498849716156061\n",
            "3  \t [2.46299902 9.4614501 ]\t 295.07827894539565\t 88.46320859272592\t 6.383687856787042\t 6.421575459577262\n",
            "4  \t [-10.  10.]\t 234.0\t 88.46320859272592\t 6.006273392364787\t 6.212257347994665\n",
            "\u001b[1m\u001b[92m5\u001b[0m\t \u001b[1m\u001b[92m[-3.867545    8.85325467]\u001b[0m\t \u001b[1m\u001b[92m61.84007876022027\u001b[0m\t \u001b[1m\u001b[92m61.84007876022027\u001b[0m\t \u001b[1m\u001b[92m6.749354304707154\u001b[0m\t \u001b[1m\u001b[92m6.547545519690073\u001b[0m\n",
            "\u001b[1m\u001b[92m6\u001b[0m\t \u001b[1m\u001b[92m[3.83112895 3.3272505 ]\u001b[0m\t \u001b[1m\u001b[92m48.02382712933749\u001b[0m\t \u001b[1m\u001b[92m48.02382712933749\u001b[0m\t \u001b[1m\u001b[92m6.620738057917864\u001b[0m\t \u001b[1m\u001b[92m6.851034484635601\u001b[0m\n",
            "7  \t [-8.68999033 -3.49107395]\t 1183.3373180890599\t 48.02382712933749\t 6.624336075141038\t 6.404326698053178\n",
            "8  \t [8.09488695 9.9368167 ]\t 886.0116758680763\t 48.02382712933749\t 6.651619637263092\t 7.293363182590761\n",
            "\u001b[1m\u001b[92m9\u001b[0m\t \u001b[1m\u001b[92m[-1.22868843  4.34354782]\u001b[0m\t \u001b[1m\u001b[92m9.906068482791387\u001b[0m\t \u001b[1m\u001b[92m9.906068482791387\u001b[0m\t \u001b[1m\u001b[92m5.29396226320229\u001b[0m\t \u001b[1m\u001b[92m5.299512586547646\u001b[0m\n",
            "10 \t [-10. -10.]\t 2594.0\t 9.906068482791387\t 6.1816683865595445\t 6.020394348482287\n",
            "11 \t [ 1.45322209 -9.67286708]\t 758.0858639366794\t 9.906068482791387\t 6.362484545698576\t 6.283496970044121\n",
            "12 \t [-3.71003409 -3.69826463]\t 587.6482886945626\t 9.906068482791387\t 6.226951426818534\t 6.52001063243271\n",
            "13 \t [ 3.45896194 -3.24909195]\t 102.55798614529127\t 9.906068482791387\t 5.597044959808061\t 5.864269328109722\n",
            "14 \t [7.33707754 0.91078624]\t 116.70075268657273\t 9.906068482791387\t 6.091750496339053\t 7.434687588267724\n",
            "15 \t [-7.3104511   6.42510332]\t 176.26142185266878\t 9.906068482791387\t 5.593913595134397\t 6.713404717925034\n",
            "16 \t [10.         -6.83623225]\t 180.54860240036334\t 9.906068482791387\t 5.950196110090337\t 6.215476765769365\n",
            "17 \t [2.13524411 6.18691751]\t 86.16954649871337\t 9.906068482791387\t 6.69896911915073\t 6.806285250293396\n",
            "18 \t [ 0.08653079 -5.65225664]\t 441.7084147934617\t 9.906068482791387\t 6.523059451385343\t 6.5597874456650676\n",
            "\u001b[1m\u001b[92m19\u001b[0m\t \u001b[1m\u001b[92m[0.66754947 2.00354109]\u001b[0m\t \u001b[1m\u001b[92m8.16745492169305\u001b[0m\t \u001b[1m\u001b[92m8.16745492169305\u001b[0m\t \u001b[1m\u001b[92m6.212435084954641\u001b[0m\t \u001b[1m\u001b[92m7.481408545241449\u001b[0m\n",
            "20 \t [5.98463664 6.25720168]\t 307.1675606629339\t 8.16745492169305\t 6.023616802655885\t 6.8327210194174315\n"
          ]
        }
      ],
      "source": [
        "### ESTIMATED STP CBM GRADIENTS\n",
        "\n",
        "np.random.seed(run_num_6)\n",
        "surrogate_approx_6 = dtStudentProcess(cov_func, optimize=opt, nu = df)\n",
        "\n",
        "approx_6 = GPGO_multi(surrogate_approx_6, Acquisition_grad(util), objfunc, param)\n",
        "approx_6.run(init_evals=n_init, max_iter=iters)\n"
      ]
    },
    {
      "cell_type": "code",
      "execution_count": 19,
      "metadata": {
        "colab": {
          "base_uri": "https://localhost:8080/"
        },
        "id": "fKB8MCD_GCVI",
        "outputId": "21163ef0-0797-4a1b-9bd4-c45d9926a8e4"
      },
      "outputs": [
        {
          "output_type": "stream",
          "name": "stdout",
          "text": [
            "Evaluation \t Proposed point \t  Current eval. \t  Best eval. \t        Exact CBM: StdDev. x \t Approx CBM: StdDev. x \n",
            "init\t [-8.47383421  5.59837584]\t 285.59280278210764\t 9.465549861932052\t    \t    \n",
            "init\t [-1.23181537  4.46930356]\t 9.465549861932052\t 9.465549861932052\t    \t    \n",
            "init\t [9.55979024 0.76991741]\t 238.50407296157155\t 9.465549861932052\t    \t    \n",
            "init\t [ 0.02240927 -8.55897733]\t 763.2277954619568\t 9.465549861932052\t    \t    \n",
            "init\t [-4.63122040e+00 -2.34998349e-03]\t 338.87889871968287\t 9.465549861932052\t    \t    \n",
            "1  \t [10. 10.]\t 1154.0\t 9.465549861932052\t 5.293060091241071\t 5.673667303997415\n",
            "2  \t [ 10. -10.]\t 314.0\t 9.465549861932052\t 6.447733521594021\t 6.540325727215342\n",
            "3  \t [-9.10467478 -9.8356699 ]\t 2371.896530806677\t 9.465549861932052\t 6.516937380099093\t 7.151638231444818\n",
            "4  \t [-7.86246511 -2.61028169]\t 947.860148457175\t 9.465549861932052\t 5.625530750848903\t 5.645774567100331\n",
            "5  \t [3.27430373 0.89188252]\t 9.727088226868847\t 9.465549861932052\t 5.7562991487224355\t 6.339916955254335\n",
            "6  \t [-3.22689558 10.        ]\t 97.62707876334302\t 9.465549861932052\t 6.513576145024363\t 7.052708573213067\n",
            "7  \t [4.24690365 6.80438311]\t 223.89829421902937\t 9.465549861932052\t 5.448656519596937\t 5.914557587719351\n",
            "8  \t [ 5.90494834 -4.82194001]\t 119.27662542542082\t 9.465549861932052\t 5.688708244462577\t 6.831936513503045\n",
            "9  \t [ 0.20490658 -2.87480873]\t 213.09592974193995\t 9.465549861932052\t 5.6695402559118815\t 6.252269102036364\n",
            "10 \t [  4.99368292 -10.        ]\t 509.4044927149429\t 9.465549861932052\t 6.158420478578403\t 6.989504440429185\n",
            "11 \t [-4.60888106 -6.7002498 ]\t 1063.0323429407229\t 9.465549861932052\t 5.81143055816748\t 6.205374190396552\n",
            "12 \t [-10.  10.]\t 234.0\t 9.465549861932052\t 6.132176584034752\t 6.564571441780738\n",
            "13 \t [8.72789793 5.28777005]\t 466.20871893394303\t 9.465549861932052\t 6.037539985767036\t 6.2651950298903065\n",
            "14 \t [10.         -3.92869537]\t 146.1680310220622\t 9.465549861932052\t 5.130729702472272\t 5.269993244967101\n",
            "15 \t [ 1.14291648 10.        ]\t 253.10544834497045\t 9.465549861932052\t 5.946779609034318\t 5.865990791176609\n",
            "16 \t [-5.24466004  6.10803375]\t 88.00935067997807\t 9.465549861932052\t 5.498817107021359\t 5.223434401924186\n",
            "17 \t [-10.           1.48181992]\t 750.1242012690334\t 9.465549861932052\t 4.597324634534909\t 5.0395791529537455\n",
            "18 \t [6.68560511 2.51891335]\t 140.90559943611427\t 9.465549861932052\t 6.513108462311122\t 6.0756193798516565\n",
            "19 \t [5.65393272 7.75173423]\t 398.10435111297875\t 9.465549861932052\t 6.039660805916096\t 6.095607335435442\n",
            "20 \t [-0.46001489  1.06787351]\t 51.89124903121015\t 9.465549861932052\t 5.910340984090156\t 4.901967668354609\n"
          ]
        }
      ],
      "source": [
        "### ESTIMATED STP CBM GRADIENTS\n",
        "\n",
        "np.random.seed(run_num_7)\n",
        "surrogate_approx_7 = dtStudentProcess(cov_func, optimize=opt, nu = df)\n",
        "\n",
        "approx_7 = GPGO_multi(surrogate_approx_7, Acquisition_grad(util), objfunc, param)\n",
        "approx_7.run(init_evals=n_init, max_iter=iters)\n"
      ]
    },
    {
      "cell_type": "code",
      "execution_count": 20,
      "metadata": {
        "colab": {
          "base_uri": "https://localhost:8080/"
        },
        "id": "4unvifF-GCXp",
        "outputId": "b4a94645-0c65-4756-9faa-09ac95e39736"
      },
      "outputs": [
        {
          "output_type": "stream",
          "name": "stdout",
          "text": [
            "Evaluation \t Proposed point \t  Current eval. \t  Best eval. \t        Exact CBM: StdDev. x \t Approx CBM: StdDev. x \n",
            "init\t [7.46858806 9.37081326]\t 741.8307972128058\t 75.39770051777191\t    \t    \n",
            "init\t [7.3838908  0.61711383]\t 110.46436066448925\t 75.39770051777191\t    \t    \n",
            "init\t [-5.34543344 -9.77202391]\t 1665.297823285088\t 75.39770051777191\t    \t    \n",
            "init\t [-1.39062363 -1.9529728 ]\t 245.96065521704543\t 75.39770051777191\t    \t    \n",
            "init\t [ 0.45349343 -0.43216408]\t 75.39770051777191\t 75.39770051777191\t    \t    \n",
            "1  \t [ 9.69498875 -9.42535902]\t 285.65502563735186\t 75.39770051777191\t 6.571822473995164\t 6.681001201290982\n",
            "2  \t [-9.83383251  5.77166529]\t 385.04821658618386\t 75.39770051777191\t 6.277518540028987\t 6.115384488993342\n",
            "3  \t [-3.97152767  9.51013426]\t 76.56717653580492\t 75.39770051777191\t 6.591199524754215\t 6.7922695966550215\n",
            "4  \t [-7.96376795 -1.61536607]\t 839.2222622889383\t 75.39770051777191\t 7.55236121572601\t 7.361455607269436\n",
            "5  \t [ 3.29060776 -6.5840301 ]\t 309.8765545324777\t 75.39770051777191\t 6.950768402043436\t 6.509406532802822\n",
            "\u001b[1m\u001b[92m6\u001b[0m\t \u001b[1m\u001b[92m[-0.08831993  5.23856759]\u001b[0m\t \u001b[1m\u001b[92m11.48790388193994\u001b[0m\t \u001b[1m\u001b[92m11.48790388193994\u001b[0m\t \u001b[1m\u001b[92m7.685584526117796\u001b[0m\t \u001b[1m\u001b[92m7.419159114965691\u001b[0m\n",
            "7  \t [ 1.59544592 10.        ]\t 280.1177504536911\t 11.48790388193994\t 7.195510704192458\t 7.024792401703035\n",
            "8  \t [-4.63904576  3.20998997]\t 149.74151973900047\t 11.48790388193994\t 7.989334992031155\t 7.014740449126494\n",
            "9  \t [10.         -3.94945229]\t 146.11387077064242\t 11.48790388193994\t 7.174095379602146\t 7.983779105883591\n",
            "10 \t [-10.          -6.74275045]\t 1936.9679716314977\t 11.48790388193994\t 7.400728520174998\t 7.422970639157195\n",
            "11 \t [4.47149724 4.77623052]\t 125.3608746594763\t 11.48790388193994\t 8.111688909875278\t 6.783232930921166\n",
            "12 \t [-8.30976446 10.        ]\t 157.01176157153904\t 11.48790388193994\t 8.097381379262346\t 8.103781420873778\n",
            "13 \t [10.          5.21838454]\t 589.3298363232923\t 11.48790388193994\t 5.91752479810353\t 5.127211739132273\n",
            "14 \t [-1.41412046 -6.66085657]\t 682.3804085408947\t 11.48790388193994\t 8.05001253684571\t 7.172115559581313\n",
            "15 \t [ 4.24638768 -2.25972685]\t 54.41789805387571\t 11.48790388193994\t 5.732461473480388\t 6.191505318945091\n",
            "16 \t [  5.52263108 -10.        ]\t 476.9173271268847\t 11.48790388193994\t 6.766852973942465\t 7.5341175998942544\n",
            "17 \t [  1.0876862 -10.       ]\t 835.919079692603\t 11.48790388193994\t 7.2236780899902255\t 7.007060497674137\n",
            "18 \t [-5.48919969 -5.17172614]\t 968.6578045227113\t 11.48790388193994\t 7.074305929474959\t 6.6622296397954335\n",
            "19 \t [ 7.14321388 -6.20842667]\t 160.11631621085516\t 11.48790388193994\t 8.046060355209613\t 6.536838384477309\n",
            "20 \t [-10.           1.87727012]\t 710.1028416603899\t 11.48790388193994\t 6.953348187481431\t 7.049470925628665\n"
          ]
        }
      ],
      "source": [
        "### ESTIMATED STP CBM GRADIENTS\n",
        "\n",
        "np.random.seed(run_num_8)\n",
        "surrogate_approx_8 = dtStudentProcess(cov_func, optimize=opt, nu = df)\n",
        "\n",
        "approx_8 = GPGO_multi(surrogate_approx_8, Acquisition_grad(util), objfunc, param)\n",
        "approx_8.run(init_evals=n_init, max_iter=iters)\n"
      ]
    },
    {
      "cell_type": "code",
      "execution_count": 21,
      "metadata": {
        "colab": {
          "base_uri": "https://localhost:8080/"
        },
        "id": "85OIXcg7GCaJ",
        "outputId": "ae5c1608-c603-4778-9b14-739f40c3a583"
      },
      "outputs": [
        {
          "output_type": "stream",
          "name": "stdout",
          "text": [
            "Evaluation \t Proposed point \t  Current eval. \t  Best eval. \t        Exact CBM: StdDev. x \t Approx CBM: StdDev. x \n",
            "init\t [-9.79251692  0.03749184]\t 882.0577358281939\t 526.7340464177141\t    \t    \n",
            "init\t [-0.08453414 -7.32340942]\t 628.3137012668271\t 526.7340464177141\t    \t    \n",
            "init\t [-7.15777829 -5.62882649]\t 1268.1663931377898\t 526.7340464177141\t    \t    \n",
            "init\t [-1.62983639 -5.03797663]\t 526.7340464177141\t 526.7340464177141\t    \t    \n",
            "init\t [-8.31880698 -3.0900272 ]\t 1073.657277368356\t 526.7340464177141\t    \t    \n",
            "1  \t [6.0747954  9.66718496]\t 621.7013152481403\t 526.7340464177141\t 6.072166498307528\t 5.98988128683296\n",
            "\u001b[1m\u001b[92m2\u001b[0m\t \u001b[1m\u001b[92m[4.69531634 1.12432974]\u001b[0m\t \u001b[1m\u001b[92m30.41794917619908\u001b[0m\t \u001b[1m\u001b[92m30.41794917619908\u001b[0m\t \u001b[1m\u001b[92m6.8600769331563\u001b[0m\t \u001b[1m\u001b[92m6.66392987921552\u001b[0m\n",
            "3  \t [-4.34667475  7.2314955 ]\t 51.466984168071384\t 30.41794917619908\t 6.571470962638099\t 6.889019044599526\n",
            "4  \t [ 8.66970884 -6.33785621]\t 157.1508550483091\t 30.41794917619908\t 7.115687856030829\t 6.9626957082597345\n",
            "5  \t [9.76735075 3.98620274]\t 458.3662574624937\t 30.41794917619908\t 8.729742169867091\t 8.463775770098959\n",
            "6  \t [-10.  10.]\t 234.0\t 30.41794917619908\t 6.56563646361591\t 6.15879886794898\n",
            "7  \t [-1.10975726  1.3102935 ]\t 65.0498829862712\t 30.41794917619908\t 6.433548430270195\t 6.343895807014382\n",
            "8  \t [1.05479363 6.676897  ]\t 69.2246338953046\t 30.41794917619908\t 7.0725246930260015\t 7.202123622660445\n",
            "9  \t [  4.82776096 -10.        ]\t 520.1716300998835\t 30.41794917619908\t 7.552952964585478\t 7.344591711652251\n",
            "10 \t [ 4.08315951 -3.72262198]\t 107.68226734019976\t 30.41794917619908\t 7.104606455305245\t 6.664442856075637\n",
            "11 \t [10.         -1.36964237]\t 185.85462149293588\t 30.41794917619908\t 7.8698695623345944\t 7.8031119182022675\n",
            "12 \t [-10. -10.]\t 2594.0\t 30.41794917619908\t 7.826405999984092\t 8.120767153333599\n",
            "13 \t [-8.68307467  5.15989175]\t 324.82019252681835\t 30.41794917619908\t 5.926992076635974\t 5.899350069797429\n",
            "14 \t [ -4.3839823 -10.       ]\t 1549.8704856076638\t 30.41794917619908\t 6.279963153683644\t 6.742833692621166\n",
            "15 \t [-1.28998792 10.        ]\t 142.9808996850825\t 30.41794917619908\t 6.062489021623362\t 6.3734756758686375\n",
            "16 \t [5.4175586  5.03269208]\t 190.06959619282497\t 30.41794917619908\t 6.2869320376606606\t 6.976077613644904\n",
            "17 \t [-5.42051066  1.79195607]\t 275.4617080044585\t 30.41794917619908\t 5.288702862326817\t 6.390492551373121\n",
            "18 \t [ 10. -10.]\t 314.0\t 30.41794917619908\t 6.084994509159302\t 7.3601838429327175\n",
            "19 \t [10. 10.]\t 1154.0\t 30.41794917619908\t 6.4738988471767565\t 6.37881920608814\n",
            "20 \t [ 0.99396612 -1.61734568]\t 106.82247181473765\t 30.41794917619908\t 5.660293599107153\t 5.219262461214907\n"
          ]
        }
      ],
      "source": [
        "### ESTIMATED STP CBM GRADIENTS\n",
        "\n",
        "np.random.seed(run_num_9)\n",
        "surrogate_approx_9 = dtStudentProcess(cov_func, optimize=opt, nu = df)\n",
        "\n",
        "approx_9 = GPGO_multi(surrogate_approx_9, Acquisition_grad(util), objfunc, param)\n",
        "approx_9.run(init_evals=n_init, max_iter=iters)\n"
      ]
    },
    {
      "cell_type": "code",
      "execution_count": 22,
      "metadata": {
        "colab": {
          "base_uri": "https://localhost:8080/"
        },
        "id": "QQBR-qJPGCcp",
        "outputId": "fc3d0084-c497-4742-9c68-c7b7540398a7"
      },
      "outputs": [
        {
          "output_type": "stream",
          "name": "stdout",
          "text": [
            "Evaluation \t Proposed point \t  Current eval. \t  Best eval. \t        Exact CBM: StdDev. x \t Approx CBM: StdDev. x \n",
            "init\t [ 5.42641287 -9.58496101]\t 444.22200604720473\t 59.96573403226766\t    \t    \n",
            "init\t [2.6729647  4.97607765]\t 59.96573403226766\t 59.96573403226766\t    \t    \n",
            "init\t [-0.02985975 -5.50406709]\t 436.96281238949786\t 59.96573403226766\t    \t    \n",
            "init\t [-6.0387427   5.21061424]\t 147.67401193720747\t 59.96573403226766\t    \t    \n",
            "init\t [-6.61778327 -8.23320372]\t 1605.6543289416081\t 59.96573403226766\t    \t    \n",
            "1  \t [-10.  10.]\t 234.0\t 59.96573403226766\t 5.815839269861037\t 6.248594517626095\n",
            "\u001b[1m\u001b[92m2\u001b[0m\t \u001b[1m\u001b[92m[2.11155129 0.26933255]\u001b[0m\t \u001b[1m\u001b[92m19.17823960765822\u001b[0m\t \u001b[1m\u001b[92m19.17823960765822\u001b[0m\t \u001b[1m\u001b[92m5.068437834726075\u001b[0m\t \u001b[1m\u001b[92m5.021087309265814\u001b[0m\n",
            "3  \t [8.50713746 1.33499849]\t 195.6515526065785\t 19.17823960765822\t 5.915336153498397\t 5.999924446294736\n",
            "4  \t [10. 10.]\t 1154.0\t 19.17823960765822\t 7.253627046865622\t 7.8197647718844685\n",
            "5  \t [-10.          -0.41542021]\t 963.8824550898175\t 19.17823960765822\t 6.563247458201035\t 6.610242330742563\n",
            "6  \t [0.20663569 9.9051757 ]\t 197.72783206478573\t 19.17823960765822\t 6.555133093101653\t 6.845716135940394\n",
            "7  \t [-3.74073817 -0.52091883]\t 307.8913733168141\t 19.17823960765822\t 6.678870447438699\t 6.906860776387266\n",
            "8  \t [ 5.78642956 -3.69623583]\t 82.33892213428524\t 19.17823960765822\t 6.924291899856295\t 7.318034910633903\n",
            "9  \t [-5.20705579 10.        ]\t 90.0425836502755\t 19.17823960765822\t 6.634324399310862\t 6.983675936158077\n",
            "10 \t [4.96979337 9.16252693]\t 464.39165643548637\t 19.17823960765822\t 6.764430299597\t 7.660347444913014\n",
            "11 \t [-0.08367683  7.29529934]\t 60.88202825517117\t 19.17823960765822\t 5.5388578727591415\t 5.309080029914992\n",
            "12 \t [10.         -6.61903989]\t 175.0587700412636\t 19.17823960765822\t 5.552990413610807\t 6.2563946795402785\n",
            "13 \t [ -1.75149697 -10.        ]\t 1169.0093633600231\t 19.17823960765822\t 6.494594419211792\t 6.081976966344273\n",
            "14 \t [9.94820493 5.43388373]\t 604.2019313779475\t 19.17823960765822\t 7.1025532617641645\t 6.659188712874364\n",
            "15 \t [-1.39940983  3.31207913]\t 23.28235881136719\t 19.17823960765822\t 6.194866007440042\t 7.121052550977949\n",
            "16 \t [-10.          -5.03993204]\t 1635.7165554322864\t 19.17823960765822\t 6.466267157124412\t 7.527420587187242\n",
            "17 \t [-10.           5.51625155]\t 415.2274732030745\t 19.17823960765822\t 5.82491017558774\t 6.120102019456748\n",
            "18 \t [10.       -2.210967]\t 165.58126147405872\t 19.17823960765822\t 4.804936001929893\t 5.883187959991556\n",
            "19 \t [-4.19908485 -4.77345189]\t 760.6038750178691\t 19.17823960765822\t 5.711082224101849\t 6.011632017007226\n",
            "20 \t [6.03414266 4.33529973]\t 189.40480346961772\t 19.17823960765822\t 6.033968957399243\t 6.370194761731588\n"
          ]
        }
      ],
      "source": [
        "### ESTIMATED STP CBM GRADIENTS\n",
        "\n",
        "np.random.seed(run_num_10)\n",
        "surrogate_approx_10 = dtStudentProcess(cov_func, optimize=opt, nu = df)\n",
        "\n",
        "approx_10 = GPGO_multi(surrogate_approx_10, Acquisition_grad(util), objfunc, param)\n",
        "approx_10.run(init_evals=n_init, max_iter=iters)\n"
      ]
    },
    {
      "cell_type": "code",
      "execution_count": 23,
      "metadata": {
        "colab": {
          "base_uri": "https://localhost:8080/"
        },
        "id": "JS8ejeQ2GCfi",
        "outputId": "7ba2e4e4-424e-4a78-e63b-11d53e376b78"
      },
      "outputs": [
        {
          "output_type": "stream",
          "name": "stdout",
          "text": [
            "Evaluation \t Proposed point \t  Current eval. \t  Best eval. \t        Exact CBM: StdDev. x \t Approx CBM: StdDev. x \n",
            "init\t [-6.39460622 -9.61049517]\t 1814.521116554919\t 5.483030044782123\t    \t    \n",
            "init\t [-0.73562947  4.49867858]\t 5.483030044782123\t 5.483030044782123\t    \t    \n",
            "init\t [-1.59592791 -0.29145804]\t 156.21779076814232\t 5.483030044782123\t    \t    \n",
            "init\t [-9.74438371 -0.25256785]\t 909.6795910034871\t 5.483030044782123\t    \t    \n",
            "init\t [8.83613305 7.01590179]\t 639.4153671589368\t 5.483030044782123\t    \t    \n",
            "1  \t [ 1.99086793 -8.88652641]\t 617.1328244256196\t 5.483030044782123\t 6.236878322481536\t 6.575541993575684\n",
            "2  \t [ 4.79903036 -1.6267314 ]\t 38.579631108734375\t 5.483030044782123\t 4.84257994158643\t 4.957248445464289\n",
            "3  \t [-10.  10.]\t 234.0\t 5.483030044782123\t 6.614590566299322\t 7.251564294168354\n",
            "4  \t [ 10. -10.]\t 314.0\t 5.483030044782123\t 6.050666913526295\t 6.166705093002269\n",
            "5  \t [ 3.82816234 10.        ]\t 443.36960176982075\t 5.483030044782123\t 6.381947562435908\t 6.4875560552718925\n",
            "6  \t [-0.98668946 -7.22390764]\t 704.8699490630601\t 5.483030044782123\t 6.197927294671398\t 6.39184846533861\n",
            "7  \t [-2.61457238 10.        ]\t 107.90961422126583\t 5.483030044782123\t 6.897258865308533\t 6.74313946644519\n",
            "8  \t [10.          0.88581555]\t 275.12759925591575\t 5.483030044782123\t 7.28167347018818\t 6.413336540548404\n",
            "9  \t [-6.30300642  5.10346952]\t 165.89922260478107\t 5.483030044782123\t 7.39366198913297\t 6.970838054012253\n",
            "10 \t [4.09438426 3.68476151]\t 67.17188318254922\t 5.483030044782123\t 6.728320307143354\t 6.474232317574854\n",
            "11 \t [-5.53203128 -3.91082187]\t 813.2680945116014\t 5.483030044782123\t 7.791555223874919\t 7.463714097495041\n",
            "12 \t [ 9.19718906 -4.54534304]\t 125.82572311396547\t 5.483030044782123\t 6.887152530914689\t 6.602882485902753\n",
            "13 \t [-9.81056684 -6.03400155]\t 1773.7091176519039\t 5.483030044782123\t 6.912462698964255\t 5.757058698487178\n",
            "14 \t [ 5.12183221 -5.61334569]\t 171.8739980817331\t 5.483030044782123\t 6.4094137845296855\t 6.005046099416177\n",
            "15 \t [ 1.28714498 -3.380244  ]\t 189.29338841546777\t 5.483030044782123\t 7.741136058682888\t 7.6725911438547065\n",
            "16 \t [-5.52007376  0.97495261]\t 338.6885611302306\t 5.483030044782123\t 7.1106527117507765\t 6.659819377743509\n",
            "17 \t [2.10763062 7.12487647]\t 127.75797310085915\t 5.483030044782123\t 5.1216741547138644\t 4.803601374696657\n",
            "18 \t [-10.           3.87787261]\t 531.6005119150615\t 5.483030044782123\t 6.924312900211396\t 6.287113169804436\n",
            "19 \t [2.04943508 0.67374217]\t 13.033894741367133\t 5.483030044782123\t 6.348962655100466\t 5.488910765325849\n",
            "20 \t [7.5401231  3.63038767]\t 248.83549729577345\t 5.483030044782123\t 6.445309063221674\t 6.156978721074052\n"
          ]
        }
      ],
      "source": [
        "### ESTIMATED STP CBM GRADIENTS\n",
        "\n",
        "np.random.seed(run_num_11)\n",
        "surrogate_approx_11 = dtStudentProcess(cov_func, optimize=opt, nu = df)\n",
        "\n",
        "approx_11 = GPGO_multi(surrogate_approx_11, Acquisition_grad(util), objfunc, param)\n",
        "approx_11.run(init_evals=n_init, max_iter=iters)\n"
      ]
    },
    {
      "cell_type": "code",
      "execution_count": 24,
      "metadata": {
        "colab": {
          "base_uri": "https://localhost:8080/"
        },
        "id": "DXwjUVZ4GCii",
        "outputId": "da587851-a5d5-489d-f6d1-deb081ad4586"
      },
      "outputs": [
        {
          "output_type": "stream",
          "name": "stdout",
          "text": [
            "Evaluation \t Proposed point \t  Current eval. \t  Best eval. \t        Exact CBM: StdDev. x \t Approx CBM: StdDev. x \n",
            "init\t [-6.91674315  4.80099393]\t 215.5279554685742\t 189.34864056663108\t    \t    \n",
            "init\t [-4.7336997   0.67478787]\t 298.0661631184378\t 189.34864056663108\t    \t    \n",
            "init\t [-9.70850075  8.37494016]\t 257.3494442600599\t 189.34864056663108\t    \t    \n",
            "init\t [ 8.01429708 -9.33157145]\t 314.3616446198572\t 189.34864056663108\t    \t    \n",
            "init\t [ 9.13898673 -7.25581357]\t 189.34864056663108\t 189.34864056663108\t    \t    \n",
            "\u001b[1m\u001b[92m1\u001b[0m\t \u001b[1m\u001b[92m[4.66251955 4.05244711]\u001b[0m\t \u001b[1m\u001b[92m103.44533669968575\u001b[0m\t \u001b[1m\u001b[92m103.44533669968575\u001b[0m\t \u001b[1m\u001b[92m6.1867866702921726\u001b[0m\t \u001b[1m\u001b[92m5.908954858738014\u001b[0m\n",
            "2  \t [-3.75432006 -8.6025265 ]\t 1227.4078991356632\t 103.44533669968575\t 6.441320147257129\t 5.953406836391155\n",
            "3  \t [10. 10.]\t 1154.0\t 103.44533669968575\t 7.111854222192152\t 7.319865455537558\n",
            "4  \t [0.62006076 8.91956245]\t 157.93527468112498\t 103.44533669968575\t 6.160887076479776\t 6.107708485470022\n",
            "5  \t [-10.          -4.04324607]\t 1472.842230389113\t 103.44533669968575\t 5.421394495974084\t 5.809709069182687\n",
            "\u001b[1m\u001b[92m6\u001b[0m\t \u001b[1m\u001b[92m[ 1.70931167 -1.49347059]\u001b[0m\t \u001b[1m\u001b[92m77.97383584078744\u001b[0m\t \u001b[1m\u001b[92m77.97383584078744\u001b[0m\t \u001b[1m\u001b[92m6.414416679274261\u001b[0m\t \u001b[1m\u001b[92m6.4739210612470846\u001b[0m\n",
            "7  \t [10.         -0.41193727]\t 217.54709617387567\t 77.97383584078744\t 6.729346707919419\t 7.084310395046719\n",
            "8  \t [ 2.41540101 -7.19382312]\t 414.1601683371082\t 77.97383584078744\t 6.701633564467378\t 7.160229174850755\n",
            "9  \t [-10. -10.]\t 2594.0\t 77.97383584078744\t 5.875983625196285\t 6.935652792541091\n",
            "10 \t [-4.56337239 10.        ]\t 88.20670790791553\t 77.97383584078744\t 5.296910628847691\t 6.4680898345638775\n",
            "\u001b[1m\u001b[92m11\u001b[0m\t \u001b[1m\u001b[92m[-0.47264725  3.78038209]\u001b[0m\t \u001b[1m\u001b[92m4.694610327432305\u001b[0m\t \u001b[1m\u001b[92m4.694610327432305\u001b[0m\t \u001b[1m\u001b[92m5.122954641184526\u001b[0m\t \u001b[1m\u001b[92m5.599009676920742\u001b[0m\n",
            "12 \t [10.          4.62816787]\t 535.4827397212296\t 4.694610327432305\t 5.151238244059219\t 6.147741367341973\n",
            "13 \t [ 6.03221999 -3.39951554]\t 73.75502567484801\t 4.694610327432305\t 5.4572644846371805\t 5.799077850307994\n",
            "14 \t [-10.           1.09517763]\t 790.7661101132397\t 4.694610327432305\t 5.209076443688835\t 5.752118929430169\n",
            "15 \t [-2.40593625 -3.65120128]\t 460.42294152286615\t 4.694610327432305\t 5.813775495089287\t 6.385998560056596\n",
            "16 \t [5.17609905 8.75679457]\t 445.22998959685526\t 4.694610327432305\t 5.771450610869817\t 6.673212259820012\n",
            "17 \t [-2.8553051   6.25948727]\t 26.907630246505562\t 4.694610327432305\t 4.4433022998980665\t 6.103892027947\n",
            "18 \t [ 1.91508122 -6.44603993]\t 381.1740698937552\t 4.694610327432305\t 6.085791564910151\t 6.085791564910151\n",
            "19 \t [ 0.01895122 -9.99420223]\t 951.0423119442954\t 4.694610327432305\t 5.565014900941954\t 5.911699077945129\n",
            "20 \t [6.03707395 0.41862748]\t 56.15747595130874\t 4.694610327432305\t 5.250942005354815\t 7.208860402771789\n"
          ]
        }
      ],
      "source": [
        "### ESTIMATED STP CBM GRADIENTS\n",
        "\n",
        "np.random.seed(run_num_12)\n",
        "surrogate_approx_12 = dtStudentProcess(cov_func, optimize=opt, nu = df)\n",
        "\n",
        "approx_12 = GPGO_multi(surrogate_approx_12, Acquisition_grad(util), objfunc, param)\n",
        "approx_12.run(init_evals=n_init, max_iter=iters)\n"
      ]
    },
    {
      "cell_type": "code",
      "execution_count": 25,
      "metadata": {
        "colab": {
          "base_uri": "https://localhost:8080/"
        },
        "id": "CphOPndPGClX",
        "outputId": "86dbc5e7-cb5c-4140-9723-d53b3d670478"
      },
      "outputs": [
        {
          "output_type": "stream",
          "name": "stdout",
          "text": [
            "Evaluation \t Proposed point \t  Current eval. \t  Best eval. \t        Exact CBM: StdDev. x \t Approx CBM: StdDev. x \n",
            "init\t [ 5.55404821 -5.2491756 ]\t 143.4041188295949\t 48.27231948835582\t    \t    \n",
            "init\t [6.48557065 9.31498396]\t 626.9828646177026\t 48.27231948835582\t    \t    \n",
            "init\t [ 9.45202228 -0.93101505]\t 168.64758529203058\t 48.27231948835582\t    \t    \n",
            "init\t [2.18084926 5.51053029]\t 62.202299160666314\t 48.27231948835582\t    \t    \n",
            "init\t [2.8322669  4.44036459]\t 48.27231948835582\t 48.27231948835582\t    \t    \n",
            "1  \t [-8.69830926  2.59657998]\t 502.3996877395562\t 48.27231948835582\t 5.663626512087345\t 6.304215979441472\n",
            "2  \t [-5.9673185  -6.48540274]\t 1221.284536050755\t 48.27231948835582\t 6.591939143418705\t 6.67876096896153\n",
            "3  \t [-10.  10.]\t 234.0\t 48.27231948835582\t 7.771669163680343\t 7.294357684587125\n",
            "4  \t [ 10. -10.]\t 314.0\t 48.27231948835582\t 6.633208338539296\t 6.784033226717654\n",
            "5  \t [-1.93131002  0.63802954]\t 126.24675608739486\t 48.27231948835582\t 7.116094302891265\t 6.615544979866992\n",
            "\u001b[1m\u001b[92m6\u001b[0m\t \u001b[1m\u001b[92m[-4.0460245  7.6960529]\u001b[0m\t \u001b[1m\u001b[92m48.00519653977981\u001b[0m\t \u001b[1m\u001b[92m48.00519653977981\u001b[0m\t \u001b[1m\u001b[92m6.894592678933024\u001b[0m\t \u001b[1m\u001b[92m6.853356552730792\u001b[0m\n",
            "7  \t [-0.51100019 -9.89756821]\t 999.0577600411966\t 48.00519653977981\t 7.782956290970017\t 8.016100578296292\n",
            "8  \t [10.         4.7077794]\t 542.5426690975212\t 48.00519653977981\t 8.067960448395981\t 6.9929162708567\n",
            "9  \t [ 0.2020354  -4.21488317]\t 309.5142043101681\t 48.00519653977981\t 7.962288463259554\t 7.500033754797683\n",
            "10 \t [-10.          -2.68481746]\t 1266.8496846331936\t 48.00519653977981\t 7.604349763566086\t 6.555709222005879\n",
            "\u001b[1m\u001b[92m11\u001b[0m\t \u001b[1m\u001b[92m[ 4.05475972 -0.26137374]\u001b[0m\t \u001b[1m\u001b[92m20.13887299444842\u001b[0m\t \u001b[1m\u001b[92m20.13887299444842\u001b[0m\t \u001b[1m\u001b[92m6.785216181371041\u001b[0m\t \u001b[1m\u001b[92m6.971425710055518\u001b[0m\n",
            "12 \t [-10. -10.]\t 2594.0\t 20.13887299444842\t 8.678806335393208\t 7.25689369097611\n",
            "13 \t [ 0.38085126 10.        ]\t 212.244396575463\t 20.13887299444842\t 6.684711681984765\t 6.4663410828434165\n",
            "14 \t [  4.8243609 -10.       ]\t 520.395148043697\t 20.13887299444842\t 5.356184675249344\t 5.881218874891143\n",
            "15 \t [-5.38276626 -1.63648919]\t 547.9327002130747\t 20.13887299444842\t 5.9484603677134045\t 6.0811704382347544\n",
            "16 \t [10.         -5.37937853]\t 152.75466858216896\t 20.13887299444842\t 7.105288095274503\t 6.359483560360529\n",
            "17 \t [-4.38426524  3.83669144]\t 112.41207465230273\t 20.13887299444842\t 7.566553932462568\t 6.668560209899077\n",
            "18 \t [6.92879851 2.47165365]\t 152.08933564769302\t 20.13887299444842\t 5.6278598450166735\t 5.4159239302300906\n",
            "19 \t [-7.632522    6.71219497]\t 185.13929970949704\t 20.13887299444842\t 6.188752864993892\t 5.868916813147132\n",
            "20 \t [ -4.44897995 -10.        ]\t 1560.150826543364\t 20.13887299444842\t 6.786809602213424\t 7.006158960981169\n"
          ]
        }
      ],
      "source": [
        "### ESTIMATED STP CBM GRADIENTS\n",
        "\n",
        "np.random.seed(run_num_13)\n",
        "surrogate_approx_13 = dtStudentProcess(cov_func, optimize=opt, nu = df)\n",
        "\n",
        "approx_13 = GPGO_multi(surrogate_approx_13, Acquisition_grad(util), objfunc, param)\n",
        "approx_13.run(init_evals=n_init, max_iter=iters)\n"
      ]
    },
    {
      "cell_type": "code",
      "execution_count": 26,
      "metadata": {
        "colab": {
          "base_uri": "https://localhost:8080/"
        },
        "id": "ojHTeARNGCoi",
        "outputId": "c4735756-2d94-4b30-cfb9-ab612f854a06"
      },
      "outputs": [
        {
          "output_type": "stream",
          "name": "stdout",
          "text": [
            "Evaluation \t Proposed point \t  Current eval. \t  Best eval. \t        Exact CBM: StdDev. x \t Approx CBM: StdDev. x \n",
            "init\t [0.27886688 5.46330104]\t 18.728481209446468\t 18.728481209446468\t    \t    \n",
            "init\t [ 7.40855371 -9.83906103]\t 371.31674613664467\t 18.728481209446468\t    \t    \n",
            "init\t [-3.80528149  9.15207479]\t 68.19416312981014\t 18.728481209446468\t    \t    \n",
            "init\t [ 0.26233425 -3.6343115 ]\t 261.94243460125864\t 18.728481209446468\t    \t    \n",
            "init\t [ 0.78399875 -5.57490115]\t 382.6954465291845\t 18.728481209446468\t    \t    \n",
            "1  \t [ 9.82765998 -0.95725402]\t 188.47085669712428\t 18.728481209446468\t 6.688044709183985\t 7.002557021190796\n",
            "2  \t [10.          9.36053919]\t 1065.2411159268174\t 18.728481209446468\t 6.358312260744687\t 6.392467079670247\n",
            "3  \t [-10. -10.]\t 2594.0\t 18.728481209446468\t 5.955338928567867\t 6.450705906939001\n",
            "4  \t [-10.          -1.86974101]\t 1152.1090964166601\t 18.728481209446468\t 5.321801272706066\t 5.987908920194223\n",
            "5  \t [-10.  10.]\t 234.0\t 18.728481209446468\t 5.34209975229866\t 5.999839185699179\n",
            "6  \t [-6.26118616  3.7908449 ]\t 220.81152393366187\t 18.728481209446468\t 5.3803776790362905\t 5.786501782770509\n",
            "7  \t [6.09938165 4.45311897]\t 199.85630574325566\t 18.728481209446468\t 5.359994336255118\t 4.989247233841497\n",
            "8  \t [ -3.50020826 -10.        ]\t 1414.281030357023\t 18.728481209446468\t 6.10891478638734\t 6.756124587161287\n",
            "9  \t [ 3.43052325 10.        ]\t 410.64651871008374\t 18.728481209446468\t 5.66228904500016\t 7.011180047848077\n",
            "10 \t [-5.04579287 -4.46495513]\t 822.4384116484439\t 18.728481209446468\t 5.224280990722882\t 5.880896732269884\n",
            "11 \t [ 4.53173358 -0.60175114]\t 25.465363211684142\t 18.728481209446468\t 5.5362598910297365\t 7.034578713997255\n",
            "12 \t [-1.75292375  1.14773705]\t 95.84044528657631\t 18.728481209446468\t 5.451102914455315\t 6.292598369805541\n",
            "13 \t [ 6.31206015 -4.83081843]\t 114.91627354749181\t 18.728481209446468\t 5.539072225506737\t 6.408886579368483\n",
            "14 \t [  2.45760981 -10.        ]\t 704.031711781852\t 18.728481209446468\t 5.458669640573841\t 6.911828290062431\n",
            "15 \t [-10.           5.61955883]\t 408.78926499433925\t 18.728481209446468\t 5.4782147129675245\t 6.750210632331252\n",
            "16 \t [10.         -6.22667785]\t 166.33711559831914\t 18.728481209446468\t 5.7024882540116115\t 5.947720879311214\n",
            "17 \t [-5.54890188 -0.39551328]\t 449.98319744712677\t 18.728481209446468\t 5.981937061749457\t 6.352353612162211\n",
            "18 \t [-8.69313719 -6.32585758]\t 1627.817176647867\t 18.728481209446468\t 5.107867860021161\t 5.4917428716204375\n",
            "19 \t [-1.11312536  7.90345875]\t 59.65304827067552\t 18.728481209446468\t 5.536675525908896\t 5.563098895883143\n",
            "20 \t [ 6.7026899  -1.13880966]\t 59.43330321772202\t 18.728481209446468\t 5.061685731524278\t 5.199221631578568\n"
          ]
        }
      ],
      "source": [
        "### ESTIMATED STP CBM GRADIENTS\n",
        "\n",
        "np.random.seed(run_num_14)\n",
        "surrogate_approx_14 = dtStudentProcess(cov_func, optimize=opt, nu = df)\n",
        "\n",
        "approx_14 = GPGO_multi(surrogate_approx_14, Acquisition_grad(util), objfunc, param)\n",
        "approx_14.run(init_evals=n_init, max_iter=iters)\n"
      ]
    },
    {
      "cell_type": "code",
      "execution_count": 27,
      "metadata": {
        "colab": {
          "base_uri": "https://localhost:8080/"
        },
        "id": "vCJzn4vWGCs3",
        "outputId": "6861e9e5-a710-4647-bf81-b475ca124188"
      },
      "outputs": [
        {
          "output_type": "stream",
          "name": "stdout",
          "text": [
            "Evaluation \t Proposed point \t  Current eval. \t  Best eval. \t        Exact CBM: StdDev. x \t Approx CBM: StdDev. x \n",
            "init\t [ 6.97635395 -6.4220815 ]\t 171.98457986923216\t 171.98457986923216\t    \t    \n",
            "init\t [-8.91273571 -2.76923108]\t 1115.2426864421157\t 171.98457986923216\t    \t    \n",
            "init\t [-4.49198143  0.6000045 ]\t 285.0550378664367\t 171.98457986923216\t    \t    \n",
            "init\t [-3.88162169 -3.91051282]\t 627.8031621427792\t 171.98457986923216\t    \t    \n",
            "init\t [-7.76517448 -5.00201972]\t 1265.415808453521\t 171.98457986923216\t    \t    \n",
            "1  \t [ 7.14172424 10.        ]\t 777.5404401083524\t 171.98457986923216\t 6.802127295515984\t 7.2104296668652905\n",
            "2  \t [-9.69991687  7.99454818]\t 269.63866043864715\t 171.98457986923216\t 6.258138374907051\t 6.960859402371445\n",
            "\u001b[1m\u001b[92m3\u001b[0m\t \u001b[1m\u001b[92m[-1.26704517  9.71399436]\u001b[0m\t \u001b[1m\u001b[92m129.31864281161882\u001b[0m\t \u001b[1m\u001b[92m129.31864281161882\u001b[0m\t \u001b[1m\u001b[92m7.5366214362757145\u001b[0m\t \u001b[1m\u001b[92m7.321047081375626\u001b[0m\n",
            "4  \t [8.17696818 1.09984692]\t 166.4985641578168\t 129.31864281161882\t 6.419410249858677\t 6.5497052282537584\n",
            "5  \t [  1.36256291 -10.        ]\t 807.9507165703403\t 129.31864281161882\t 6.989377595915536\t 7.338066014420092\n",
            "\u001b[1m\u001b[92m6\u001b[0m\t \u001b[1m\u001b[92m[2.75340447 4.74005212]\u001b[0m\t \u001b[1m\u001b[92m54.91916440405578\u001b[0m\t \u001b[1m\u001b[92m54.91916440405578\u001b[0m\t \u001b[1m\u001b[92m7.65999361802536\u001b[0m\t \u001b[1m\u001b[92m8.007817970629624\u001b[0m\n",
            "7  \t [ 2.34176535 -1.70544947]\t 69.1990724636041\t 54.91916440405578\t 7.027273299108837\t 6.790444775407336\n",
            "8  \t [-10. -10.]\t 2594.0\t 54.91916440405578\t 7.98351249765152\t 7.88394406401073\n",
            "9  \t [ -4.20336057 -10.        ]\t 1521.5243059058412\t 54.91916440405578\t 6.092309102892314\t 6.313690772011424\n",
            "10 \t [ 1.2556205  -5.77177401]\t 367.1088438701189\t 54.91916440405578\t 6.36724780957502\t 6.355750692500376\n",
            "11 \t [-10.           2.69776344]\t 632.0535521354425\t 54.91916440405578\t 6.204812479205726\t 6.916534670487792\n",
            "12 \t [-4.76383571  5.9124334 ]\t 74.22605079961994\t 54.91916440405578\t 6.705103942859166\t 7.4328563000587184\n",
            "13 \t [10.         5.6540777]\t 631.3142366503487\t 54.91916440405578\t 4.732653488727384\t 6.968516373936015\n",
            "14 \t [ 10. -10.]\t 314.0\t 54.91916440405578\t 6.236689384546465\t 7.199503840376557\n",
            "15 \t [10.         -3.07278361]\t 152.15308390930832\t 54.91916440405578\t 5.461314372864497\t 5.774591086586264\n",
            "\u001b[1m\u001b[92m16\u001b[0m\t \u001b[1m\u001b[92m[-0.15998423  1.83741594]\u001b[0m\t \u001b[1m\u001b[92m24.2744588992518\u001b[0m\t \u001b[1m\u001b[92m24.2744588992518\u001b[0m\t \u001b[1m\u001b[92m6.3481605544077295\u001b[0m\t \u001b[1m\u001b[92m6.537920271074032\u001b[0m\n",
            "17 \t [-5.70046989 10.        ]\t 94.25516994471556\t 24.2744588992518\t 5.65363084867181\t 6.865273423456905\n",
            "18 \t [  6.36994395 -10.        ]\t 430.7073191137899\t 24.2744588992518\t 5.731968107915212\t 5.963521949754129\n",
            "19 \t [ 6.04890794 -2.42130521]\t 55.43674055910413\t 24.2744588992518\t 6.297916000533643\t 6.7989402675365485\n",
            "20 \t [2.78171825 8.85889261]\t 271.01687966533103\t 24.2744588992518\t 6.057425031792349\t 6.004225819870098\n"
          ]
        }
      ],
      "source": [
        "### ESTIMATED STP CBM GRADIENTS\n",
        "\n",
        "np.random.seed(run_num_15)\n",
        "surrogate_approx_15 = dtStudentProcess(cov_func, optimize=opt, nu = df)\n",
        "\n",
        "approx_15 = GPGO_multi(surrogate_approx_15, Acquisition_grad(util), objfunc, param)\n",
        "approx_15.run(init_evals=n_init, max_iter=iters)\n"
      ]
    },
    {
      "cell_type": "code",
      "execution_count": 28,
      "metadata": {
        "colab": {
          "base_uri": "https://localhost:8080/"
        },
        "id": "bGGkhp-kGCw6",
        "outputId": "45291856-fc7e-4062-8d30-90539162dd8d"
      },
      "outputs": [
        {
          "output_type": "stream",
          "name": "stdout",
          "text": [
            "Evaluation \t Proposed point \t  Current eval. \t  Best eval. \t        Exact CBM: StdDev. x \t Approx CBM: StdDev. x \n",
            "init\t [-5.53417842  0.46326683]\t 378.2562509858209\t 182.86095429406956\t    \t    \n",
            "init\t [ 1.01402913 -9.087961  ]\t 729.2383206820605\t 182.86095429406956\t    \t    \n",
            "init\t [-2.78542329 -5.53838117]\t 694.7380078426447\t 182.86095429406956\t    \t    \n",
            "init\t [ 3.77452324 -6.7253715 ]\t 295.53799633399245\t 182.86095429406956\t    \t    \n",
            "init\t [-8.59350266  8.8202172 ]\t 182.86095429406956\t 182.86095429406956\t    \t    \n",
            "1  \t [ 4.38080671 10.        ]\t 491.4744458981843\t 182.86095429406956\t 6.923230081497905\t 7.020193559280766\n",
            "2  \t [-10. -10.]\t 2594.0\t 182.86095429406956\t 7.783330529862549\t 7.648581221577931\n",
            "\u001b[1m\u001b[92m3\u001b[0m\t \u001b[1m\u001b[92m[2.01359903 0.47856426]\u001b[0m\t \u001b[1m\u001b[92m16.479307313922995\u001b[0m\t \u001b[1m\u001b[92m16.479307313922995\u001b[0m\t \u001b[1m\u001b[92m6.416975754104512\u001b[0m\t \u001b[1m\u001b[92m6.875437882989338\u001b[0m\n",
            "4  \t [ 8.8300141  -0.10570929]\t 160.2307750031207\t 16.479307313922995\t 6.258860853200097\t 6.32755153727665\n",
            "5  \t [-2.22531694  5.42968011]\t 18.838166667692633\t 16.479307313922995\t 5.4809458201332575\t 5.994621515414791\n",
            "6  \t [-10.          -3.58102736]\t 1400.6800138780313\t 16.479307313922995\t 7.557161624400811\t 7.771740576271037\n",
            "7  \t [ 10. -10.]\t 314.0\t 16.479307313922995\t 6.566076331593539\t 6.746851404349037\n",
            "8  \t [-2.35843166 10.        ]\t 113.32314316630007\t 16.479307313922995\t 5.508099027159779\t 5.208546743355947\n",
            "9  \t [9.84503486 6.2728177 ]\t 676.3153799759662\t 16.479307313922995\t 6.302630091401753\t 6.298043823943321\n",
            "10 \t [-10.           3.59428152]\t 554.4690787909344\t 16.479307313922995\t 6.77356295032435\t 7.212235236667042\n",
            "11 \t [4.52709226 4.50655746]\t 116.06061331116675\t 16.479307313922995\t 6.214403905000658\t 6.585708564460575\n",
            "12 \t [ 9.87799414 -4.92798213]\t 145.2817719527925\t 16.479307313922995\t 7.195513440299855\t 7.151627618756152\n",
            "13 \t [ 5.03101641 -2.2468508 ]\t 49.691549714430806\t 16.479307313922995\t 5.061691746860667\t 5.031504439356084\n",
            "14 \t [ 1.07428995 -3.31252964]\t 195.51608718874175\t 16.479307313922995\t 5.465943891891568\t 5.159225100464515\n",
            "15 \t [ -4.75492844 -10.        ]\t 1609.1085651774977\t 16.479307313922995\t 6.037489298445513\t 6.403066706079835\n",
            "16 \t [-5.85391452  5.3986818 ]\t 132.12621295559498\t 16.479307313922995\t 6.138842997694243\t 6.83658405740025\n",
            "17 \t [1.13963414 7.10840156]\t 89.08169047232758\t 16.479307313922995\t 6.533791627097139\t 6.039181870912989\n",
            "18 \t [-1.34873777  1.77579531]\t 58.07891764857703\t 16.479307313922995\t 6.231971918965028\t 7.1703204401882\n",
            "19 \t [-5.57407036  9.96488413]\t 92.33895369918842\t 16.479307313922995\t 5.236804227529267\t 6.44745157231135\n",
            "20 \t [  5.94107466 -10.        ]\t 453.1993294006473\t 16.479307313922995\t 6.614339263295816\t 7.5368062515875405\n"
          ]
        }
      ],
      "source": [
        "### ESTIMATED STP CBM GRADIENTS\n",
        "\n",
        "np.random.seed(run_num_16)\n",
        "surrogate_approx_16 = dtStudentProcess(cov_func, optimize=opt, nu = df)\n",
        "\n",
        "approx_16 = GPGO_multi(surrogate_approx_16, Acquisition_grad(util), objfunc, param)\n",
        "approx_16.run(init_evals=n_init, max_iter=iters)\n"
      ]
    },
    {
      "cell_type": "code",
      "execution_count": 29,
      "metadata": {
        "colab": {
          "base_uri": "https://localhost:8080/"
        },
        "id": "Yrs2mp7hGC1Z",
        "outputId": "7025b2dd-33eb-498a-9776-9f92bca66e21"
      },
      "outputs": [
        {
          "output_type": "stream",
          "name": "stdout",
          "text": [
            "Evaluation \t Proposed point \t  Current eval. \t  Best eval. \t        Exact CBM: StdDev. x \t Approx CBM: StdDev. x \n",
            "init\t [-4.10669995  0.61173511]\t 256.4801849765532\t 5.553508838684786\t    \t    \n",
            "init\t [-6.16958426 -8.64199284]\t 1602.4406672130797\t 5.553508838684786\t    \t    \n",
            "init\t [5.7397092  3.12667044]\t 117.20749172761734\t 5.553508838684786\t    \t    \n",
            "init\t [2.75041792 1.51205788]\t 5.553508838684786\t 5.553508838684786\t    \t    \n",
            "init\t [-9.21874168 -2.84372791]\t 1170.583554210921\t 5.553508838684786\t    \t    \n",
            "1  \t [-10.  10.]\t 234.0\t 5.553508838684786\t 7.349257478773271\t 7.84631961434781\n",
            "2  \t [ 4.54825031 -8.71744454]\t 416.8315243674168\t 5.553508838684786\t 5.745131846930788\t 5.86627198335002\n",
            "3  \t [9.12376544 9.73620918]\t 994.6474624709882\t 5.553508838684786\t 5.918231753152158\t 6.650937324201061\n",
            "4  \t [-0.05385845  7.96254756]\t 86.84889828641981\t 5.553508838684786\t 6.593197239201931\t 6.8560019819524385\n",
            "5  \t [ 9.06636127 -2.74323799]\t 119.63857371103694\t 5.553508838684786\t 5.140420721611879\t 5.4537514963238145\n",
            "6  \t [-0.7985295  -4.62309293]\t 416.41413157140244\t 5.553508838684786\t 6.016231892945525\t 6.434032126720648\n",
            "7  \t [-5.38303378  6.37962125]\t 88.24690741001152\t 5.553508838684786\t 6.021167817110425\t 6.384468195464283\n",
            "8  \t [-1.02859872 -9.21677652]\t 965.0877045352898\t 5.553508838684786\t 6.603998760423348\t 7.077157933211264\n",
            "9  \t [-10.           3.24922749]\t 583.3785528498215\t 5.553508838684786\t 7.09988837053534\t 7.243218767279748\n",
            "10 \t [ 4.89627222 -4.0039124 ]\t 102.86543603120852\t 5.553508838684786\t 5.5665913820021355\t 4.978414930942686\n",
            "11 \t [ 10. -10.]\t 314.0\t 5.553508838684786\t 6.904921156391229\t 6.9295676840342555\n",
            "12 \t [4.61968378 7.66422556]\t 309.3497262316549\t 5.553508838684786\t 5.934813918257081\t 5.484975302169888\n",
            "13 \t [10.          4.78683143]\t 549.6156954712914\t 5.553508838684786\t 6.834188513370648\t 5.90285854287745\n",
            "14 \t [-0.48141692  3.56005547]\t 5.903885944788812\t 5.553508838684786\t 6.225511823221786\t 5.787724115491538\n",
            "15 \t [-3.65255033 10.        ]\t 92.6883043500657\t 5.553508838684786\t 5.68752622814681\t 5.771026182715451\n",
            "16 \t [ 0.03617385 -0.38258489]\t 87.93599724136156\t 5.553508838684786\t 6.445739568425901\t 5.488084371527521\n",
            "17 \t [-5.27959232 -4.38010255]\t 840.2482489532126\t 5.553508838684786\t 5.655309851259951\t 5.541463904873951\n",
            "18 \t [-10.          -7.01667642]\t 1988.1365574603421\t 5.553508838684786\t 6.64609986064359\t 6.204655517177105\n",
            "19 \t [9.17018127 0.91818832]\t 219.3587788510289\t 5.553508838684786\t 5.625592371049633\t 5.529768932862475\n",
            "20 \t [-7.62266667  1.0747008 ]\t 523.09549324969\t 5.553508838684786\t 6.962283511088413\t 6.8703451449673825\n"
          ]
        }
      ],
      "source": [
        "### ESTIMATED STP CBM GRADIENTS\n",
        "\n",
        "np.random.seed(run_num_17)\n",
        "surrogate_approx_17 = dtStudentProcess(cov_func, optimize=opt, nu = df)\n",
        "\n",
        "approx_17 = GPGO_multi(surrogate_approx_17, Acquisition_grad(util), objfunc, param)\n",
        "approx_17.run(init_evals=n_init, max_iter=iters)\n"
      ]
    },
    {
      "cell_type": "code",
      "execution_count": 30,
      "metadata": {
        "colab": {
          "base_uri": "https://localhost:8080/"
        },
        "id": "f0HIEP3PIUEa",
        "outputId": "8277dea6-ede6-46b2-e492-38671dd92ec9"
      },
      "outputs": [
        {
          "output_type": "stream",
          "name": "stdout",
          "text": [
            "Evaluation \t Proposed point \t  Current eval. \t  Best eval. \t        Exact CBM: StdDev. x \t Approx CBM: StdDev. x \n",
            "init\t [3.00748483 0.10906747]\t 15.509405515253864\t 15.509405515253864\t    \t    \n",
            "init\t [ 7.57202942 -6.36319549]\t 162.0234327224751\t 15.509405515253864\t    \t    \n",
            "init\t [7.04466137 5.00272572]\t 299.59059770472754\t 15.509405515253864\t    \t    \n",
            "init\t [3.32203335 9.75790897]\t 380.8425822546991\t 15.509405515253864\t    \t    \n",
            "init\t [-4.86063155 -9.43388149]\t 1527.7052410059514\t 15.509405515253864\t    \t    \n",
            "1  \t [-6.1664519   4.28513481]\t 191.3691670751314\t 15.509405515253864\t 7.19613242516838\t 7.584157876681993\n",
            "2  \t [-10.  10.]\t 234.0\t 15.509405515253864\t 6.425595041491116\t 6.329968626460183\n",
            "3  \t [6.31975365 3.18761398]\t 149.65937068607042\t 15.509405515253864\t 5.359806725699657\t 5.359806725699657\n",
            "4  \t [-10.          -3.07425322]\t 1324.0170435636596\t 15.509405515253864\t 6.430558864906109\t 6.795474067228898\n",
            "5  \t [-2.75594763 -2.43079786]\t 381.18587912859357\t 15.509405515253864\t 6.624564595862172\t 6.651760143487512\n",
            "6  \t [  2.61179583 -10.        ]\t 690.3626623192624\t 15.509405515253864\t 6.63585737167273\t 6.798325297481764\n",
            "7  \t [-3.3447112 10.       ]\t 96.07874991563375\t 15.509405515253864\t 7.763776598045627\t 8.188406259681784\n",
            "\u001b[1m\u001b[92m8\u001b[0m\t \u001b[1m\u001b[92m[-0.19349008  4.66396275]\u001b[0m\t \u001b[1m\u001b[92m5.078568722721694\u001b[0m\t \u001b[1m\u001b[92m5.078568722721694\u001b[0m\t \u001b[1m\u001b[92m7.470990169575867\u001b[0m\t \u001b[1m\u001b[92m6.064298782409147\u001b[0m\n",
            "9  \t [10. 10.]\t 1154.0\t 5.078568722721694\t 7.1511759106131905\t 6.5906393099094345\n",
            "10 \t [10.         -1.13467404]\t 192.7811163461347\t 5.078568722721694\t 6.70051167191412\t 6.759292711165863\n",
            "11 \t [-10. -10.]\t 2594.0\t 5.078568722721694\t 6.081391243137962\t 6.908911609236617\n",
            "12 \t [ 2.33852183 -4.5447517 ]\t 212.78407610888894\t 5.078568722721694\t 4.826138647060329\t 6.414196667385261\n",
            "13 \t [ 10. -10.]\t 314.0\t 5.078568722721694\t 5.332074236194828\t 6.646305832887304\n",
            "14 \t [-2.34142401  2.02139082]\t 86.77353735523988\t 5.078568722721694\t 5.397140909961172\t 4.667209988436906\n",
            "15 \t [-0.75749052 -7.36583982]\t 698.4399624049056\t 5.078568722721694\t 5.594706857481899\t 5.877318774770562\n",
            "16 \t [-6.54206633 -0.02362452]\t 512.5603617718164\t 5.078568722721694\t 5.161588979814182\t 5.2399652668085155\n",
            "17 \t [-10.           2.65531316]\t 635.9264870766459\t 5.078568722721694\t 6.308861204040272\t 6.200649364010951\n",
            "18 \t [-6.22105324 -5.07401116]\t 1053.0892460950333\t 5.078568722721694\t 5.74729679733981\t 6.083641804999572\n",
            "19 \t [ 5.99835244 -2.45172398]\t 55.527004462691636\t 5.078568722721694\t 5.1675507438877775\t 5.054588244507021\n",
            "20 \t [-5.23461199  7.37121131]\t 71.86692334194329\t 5.078568722721694\t 5.450553214619397\t 5.559697981547781\n"
          ]
        }
      ],
      "source": [
        "### ESTIMATED STP CBM GRADIENTS\n",
        "\n",
        "np.random.seed(run_num_18)\n",
        "surrogate_approx_18 = dtStudentProcess(cov_func, optimize=opt, nu = df)\n",
        "\n",
        "approx_18 = GPGO_multi(surrogate_approx_18, Acquisition_grad(util), objfunc, param)\n",
        "approx_18.run(init_evals=n_init, max_iter=iters)\n"
      ]
    },
    {
      "cell_type": "code",
      "execution_count": 31,
      "metadata": {
        "colab": {
          "base_uri": "https://localhost:8080/"
        },
        "id": "S3mxRQDLIUPC",
        "outputId": "08e18862-dd52-491c-bef9-fcf0c528b190"
      },
      "outputs": [
        {
          "output_type": "stream",
          "name": "stdout",
          "text": [
            "Evaluation \t Proposed point \t  Current eval. \t  Best eval. \t        Exact CBM: StdDev. x \t Approx CBM: StdDev. x \n",
            "init\t [-8.04932797  5.22499433]\t 273.1270544592675\t 139.9227861892117\t    \t    \n",
            "init\t [-5.06124054 -7.23736625]\t 1204.1206373978957\t 139.9227861892117\t    \t    \n",
            "init\t [-3.37106873 -8.3400087 ]\t 1135.0538557997047\t 139.9227861892117\t    \t    \n",
            "init\t [3.43954163 6.13187596]\t 139.9227861892117\t 139.9227861892117\t    \t    \n",
            "init\t [9.65483829 2.7132147 ]\t 355.08571481298065\t 139.9227861892117\t    \t    \n",
            "1  \t [ 10. -10.]\t 314.0\t 139.9227861892117\t 7.04359122598267\t 7.356523091548286\n",
            "\u001b[1m\u001b[92m2\u001b[0m\t \u001b[1m\u001b[92m[ 4.81772344 -2.77685984]\u001b[0m\t \u001b[1m\u001b[92m63.29998354966632\u001b[0m\t \u001b[1m\u001b[92m63.29998354966632\u001b[0m\t \u001b[1m\u001b[92m7.315695867645967\u001b[0m\t \u001b[1m\u001b[92m6.543516991977582\u001b[0m\n",
            "3  \t [10. 10.]\t 1154.0\t 63.29998354966632\t 7.586356202419908\t 7.557967222768432\n",
            "4  \t [-9.64931371 -1.76781368]\t 1086.8911967373488\t 63.29998354966632\t 6.089716316559465\t 5.529989187887633\n",
            "5  \t [-1.28992504 -1.94038328]\t 238.7605770294121\t 63.29998354966632\t 5.848806164356497\t 6.021105482861665\n",
            "6  \t [  3.21668821 -10.        ]\t 639.0329588781947\t 63.29998354966632\t 6.478235681590103\t 6.336505792290387\n",
            "7  \t [-2.71090989 10.        ]\t 106.04330727510721\t 63.29998354966632\t 6.364182468495253\t 6.60124557062446\n",
            "\u001b[1m\u001b[92m8\u001b[0m\t \u001b[1m\u001b[92m[-2.17176231  4.00255664]\u001b[0m\t \u001b[1m\u001b[92m29.887008862999906\u001b[0m\t \u001b[1m\u001b[92m29.887008862999906\u001b[0m\t \u001b[1m\u001b[92m6.077110383083721\u001b[0m\t \u001b[1m\u001b[92m5.445943336341802\u001b[0m\n",
            "9  \t [-10. -10.]\t 2594.0\t 29.887008862999906\t 6.530577069292679\t 7.337199536252821\n",
            "10 \t [10.         -4.12711189]\t 145.82656338643807\t 29.887008862999906\t 6.704455892462751\t 7.262670375870265\n",
            "11 \t [-10.  10.]\t 234.0\t 29.887008862999906\t 5.085650290487903\t 6.260109746415852\n",
            "\u001b[1m\u001b[92m12\u001b[0m\t \u001b[1m\u001b[92m[2.50185981 1.38510327]\u001b[0m\t \u001b[1m\u001b[92m4.914583716812584\u001b[0m\t \u001b[1m\u001b[92m4.914583716812584\u001b[0m\t \u001b[1m\u001b[92m5.715938401671409\u001b[0m\t \u001b[1m\u001b[92m5.521014866043953\u001b[0m\n",
            "13 \t [-5.30379744  0.94751437]\t 323.2604258708673\t 4.914583716812584\t 5.7243279381268035\t 5.531307319490117\n",
            "14 \t [ 1.32323962 -5.64710648]\t 352.0239723538669\t 4.914583716812584\t 5.215371918491695\t 4.775248289926574\n",
            "15 \t [ 1.68495233 10.        ]\t 285.70312879525835\t 4.914583716812584\t 5.865558266184107\t 6.308812257065138\n",
            "16 \t [ 6.52926978 -6.73537721]\t 196.1157523010873\t 4.914583716812584\t 5.242548127171307\t 5.076301898621017\n",
            "17 \t [5.49032449 2.28081674]\t 77.56626339012766\t 4.914583716812584\t 5.76227623846168\t 6.2050539145095485\n",
            "18 \t [ 5.66885391 10.        ]\t 615.4468035353689\t 4.914583716812584\t 5.411648377659601\t 5.651839096348847\n",
            "19 \t [9.17572749 6.8514031 ]\t 660.283307324958\t 4.914583716812584\t 4.7160466888453065\t 5.04748935835685\n",
            "20 \t [-5.36497172 -3.02378344]\t 690.7238499845524\t 4.914583716812584\t 4.851511761135607\t 4.821055736493809\n"
          ]
        }
      ],
      "source": [
        "### ESTIMATED STP CBM GRADIENTS\n",
        "\n",
        "np.random.seed(run_num_19)\n",
        "surrogate_approx_19 = dtStudentProcess(cov_func, optimize=opt, nu = df)\n",
        "\n",
        "approx_19 = GPGO_multi(surrogate_approx_19, Acquisition_grad(util), objfunc, param)\n",
        "approx_19.run(init_evals=n_init, max_iter=iters)\n"
      ]
    },
    {
      "cell_type": "code",
      "execution_count": 32,
      "metadata": {
        "colab": {
          "base_uri": "https://localhost:8080/"
        },
        "id": "Aawd59dRIUYn",
        "outputId": "949789c0-bf9a-43ea-c59d-9b150c3f47e4"
      },
      "outputs": [
        {
          "output_type": "stream",
          "name": "stdout",
          "text": [
            "Evaluation \t Proposed point \t  Current eval. \t  Best eval. \t        Exact CBM: StdDev. x \t Approx CBM: StdDev. x \n",
            "init\t [1.76261602 7.95427456]\t 155.85777119682857\t 155.85777119682857\t    \t    \n",
            "init\t [7.83061459 6.31674955]\t 469.53411882784934\t 155.85777119682857\t    \t    \n",
            "init\t [-9.28220829  3.83515164]\t 463.4088031056881\t 155.85777119682857\t    \t    \n",
            "init\t [-2.42638116  0.37021891]\t 165.36424127801376\t 155.85777119682857\t    \t    \n",
            "init\t [ 3.15902931 -6.12299564]\t 281.877765303078\t 155.85777119682857\t    \t    \n",
            "1  \t [-10. -10.]\t 2594.0\t 155.85777119682857\t 6.161648300957465\t 5.801590536855057\n",
            "2  \t [ 10. -10.]\t 314.0\t 155.85777119682857\t 6.094552225177287\t 6.793679655086789\n",
            "3  \t [10.         -1.15534628]\t 192.14958139549148\t 155.85777119682857\t 5.515505166719939\t 5.54589527268659\n",
            "4  \t [-8.85181113 10.        ]\t 178.58948953776544\t 155.85777119682857\t 5.759435874440921\t 6.244576427026907\n",
            "5  \t [-3.48135174 -9.66971856]\t 1357.2411306811514\t 155.85777119682857\t 5.943343716763496\t 6.550067119004734\n",
            "6  \t [-6.96907225 -3.8376465 ]\t 987.2152019882147\t 155.85777119682857\t 6.430965325467398\t 6.932878606527865\n",
            "\u001b[1m\u001b[92m7\u001b[0m\t \u001b[1m\u001b[92m[ 3.14562598 -0.29164352]\u001b[0m\t \u001b[1m\u001b[92m20.69205266351202\u001b[0m\t \u001b[1m\u001b[92m20.69205266351202\u001b[0m\t \u001b[1m\u001b[92m6.872551828698046\u001b[0m\t \u001b[1m\u001b[92m7.185249815098894\u001b[0m\n",
            "8  \t [-3.72870423  6.2682043 ]\t 41.5740432010615\t 20.69205266351202\t 6.05453676263885\t 6.222567210092232\n",
            "9  \t [-1.64700011 -4.55922889]\t 480.8169926691962\t 20.69205266351202\t 6.981416868773419\t 7.006351672836218\n",
            "\u001b[1m\u001b[92m10\u001b[0m\t \u001b[1m\u001b[92m[1.04229652 3.52911923]\u001b[0m\t \u001b[1m\u001b[92m1.587819992776804\u001b[0m\t \u001b[1m\u001b[92m1.587819992776804\u001b[0m\t \u001b[1m\u001b[92m7.02329510552207\u001b[0m\t \u001b[1m\u001b[92m6.681382018594971\u001b[0m\n",
            "11 \t [ 8.03254804 -5.50931969]\t 130.5886716109137\t 1.587819992776804\t 6.8625943242430445\t 6.835576246548145\n",
            "12 \t [  5.38237217 -10.        ]\t 485.25922328487155\t 1.587819992776804\t 6.562310434675199\t 6.6089890883451075\n",
            "13 \t [ 5.49980881 10.        ]\t 598.2306896113332\t 1.587819992776804\t 6.949083875529975\t 7.470248249083131\n",
            "14 \t [10. 10.]\t 1154.0\t 1.587819992776804\t 6.508612298390701\t 6.31361345692019\n",
            "15 \t [-2.13510015 10.        ]\t 118.5786564278064\t 1.587819992776804\t 5.195427657861938\t 5.648869263425352\n",
            "16 \t [4.43238664 3.34680581]\t 69.03073447395474\t 1.587819992776804\t 5.363038688343236\t 6.107830710712309\n",
            "17 \t [-10.          -0.52005706]\t 976.7190298325204\t 1.587819992776804\t 5.0975454450319955\t 5.0306909283127395\n",
            "18 \t [  1.04087072 -10.        ]\t 840.7577967793881\t 1.587819992776804\t 5.840185228562399\t 6.637818089838841\n",
            "19 \t [8.10529085 2.23365255]\t 211.8012598139446\t 1.587819992776804\t 5.862298900751788\t 5.79541964887681\n",
            "20 \t [ 3.12894682 -8.39318261]\t 477.6412830540284\t 1.587819992776804\t 4.836525313824914\t 4.734580294465685\n"
          ]
        }
      ],
      "source": [
        "### ESTIMATED STP CBM GRADIENTS\n",
        "\n",
        "np.random.seed(run_num_20)\n",
        "surrogate_approx_20 = dtStudentProcess(cov_func, optimize=opt, nu = df)\n",
        "\n",
        "approx_20 = GPGO_multi(surrogate_approx_20, Acquisition_grad(util), objfunc, param)\n",
        "approx_20.run(init_evals=n_init, max_iter=iters)\n"
      ]
    },
    {
      "cell_type": "code",
      "execution_count": 33,
      "metadata": {
        "colab": {
          "base_uri": "https://localhost:8080/"
        },
        "id": "xkgzPRbBTHaq",
        "outputId": "83ef658d-37b3-4dab-ff91-db92310f9ccc"
      },
      "outputs": [
        {
          "output_type": "execute_result",
          "data": {
            "text/plain": [
              "1663330571.6521626"
            ]
          },
          "metadata": {},
          "execution_count": 33
        }
      ],
      "source": [
        "end_approx = time.time()\n",
        "end_approx\n",
        "\n",
        "time_approx = end_approx - start_approx\n",
        "time_approx\n",
        "\n",
        "start_exact = time.time()\n",
        "start_exact"
      ]
    },
    {
      "cell_type": "code",
      "execution_count": 34,
      "metadata": {
        "colab": {
          "base_uri": "https://localhost:8080/"
        },
        "id": "7CG3Ndvb16Rb",
        "outputId": "febae3bc-7a9b-4408-a999-be12dc014cdb"
      },
      "outputs": [
        {
          "output_type": "stream",
          "name": "stdout",
          "text": [
            "Evaluation \t Proposed point \t  Current eval. \t  Best eval. \t        Exact CBM: StdDev. x \t Approx CBM: StdDev. x \n",
            "init\t [-1.65955991  4.40648987]\t 15.332210716052247\t 15.332210716052247\t    \t    \n",
            "init\t [-9.9977125  -3.95334855]\t 1458.2611077633842\t 15.332210716052247\t    \t    \n",
            "init\t [-7.06488218 -8.1532281 ]\t 1666.779874000304\t 15.332210716052247\t    \t    \n",
            "init\t [-6.27479577 -3.08878546]\t 804.3371752309802\t 15.332210716052247\t    \t    \n",
            "init\t [-2.06465052  0.77633468]\t 126.2019077328938\t 15.332210716052247\t    \t    \n",
            "1  \t [ 7.89213327 -8.29911577]\t 252.857497365554\t 15.332210716052247\t 6.909620280906258\t 7.277837884777397\n",
            "2  \t [7.66612182 2.47344414]\t 195.49152221204983\t 15.332210716052247\t 6.753582711223449\t 6.676812491473695\n",
            "3  \t [1.62717855 9.40039978]\t 238.9058988758153\t 15.332210716052247\t 6.8480655351883675\t 6.731057424046815\n",
            "4  \t [-9.56950389  8.95940422]\t 232.24098716076017\t 15.332210716052247\t 8.210710366921074\t 8.528348859703309\n",
            "5  \t [10. 10.]\t 1154.0\t 15.332210716052247\t 7.0413829341375225\t 7.336446178810657\n",
            "6  \t [ 1.85023738 -3.75460325]\t 185.7937139425242\t 15.332210716052247\t 5.190648997256648\t 5.788379609718355\n",
            "7  \t [  2.15456554 -10.        ]\t 731.5902921559197\t 15.332210716052247\t 6.866592099437454\t 7.236178569056531\n",
            "8  \t [-10.           3.00037748]\t 604.9667824832469\t 15.332210716052247\t 6.6184407223637995\t 7.414220367845084\n",
            "9  \t [-3.78836548  9.64823847]\t 80.96402879278162\t 15.332210716052247\t 6.315212969703096\t 7.750806070369071\n",
            "10 \t [10.         -4.63354289]\t 146.73979719206287\t 15.332210716052247\t 6.526915718317029\t 7.188695677714205\n",
            "\u001b[1m\u001b[92m11\u001b[0m\t \u001b[1m\u001b[92m[2.64036363 2.86492534]\u001b[0m\t \u001b[1m\u001b[92m11.77261749484562\u001b[0m\t \u001b[1m\u001b[92m11.77261749484562\u001b[0m\t \u001b[1m\u001b[92m6.036211450839886\u001b[0m\t \u001b[1m\u001b[92m6.199477796624022\u001b[0m\n",
            "12 \t [-1.92234606 -6.90227167]\t 764.4783701298777\t 11.77261749484562\t 6.012846586642436\t 7.232823689680551\n",
            "13 \t [5.7011782  7.19232147]\t 356.0539808512626\t 11.77261749484562\t 6.0932471144274905\t 7.0823363265486625\n",
            "14 \t [ 5.55696954 -1.87034262]\t 44.879019360755365\t 11.77261749484562\t 6.7273268997986175\t 7.109907013269426\n",
            "15 \t [-5.83094689  5.61251497]\t 124.66774128025114\t 11.77261749484562\t 5.640084872447539\t 6.1272225756073055\n",
            "16 \t [9.39450141 5.84339051]\t 583.7133831191587\t 11.77261749484562\t 6.992472978495353\t 6.971197355833589\n",
            "17 \t [-5.59847607  0.72184331]\t 363.9083212984432\t 11.77261749484562\t 6.166269559605288\t 6.626550135819119\n",
            "18 \t [ 5.1244514  -5.44965799]\t 163.23746747955371\t 11.77261749484562\t 7.116082924481809\t 7.381514328633723\n",
            "19 \t [2.10233561 0.24122055]\t 19.801232622052552\t 11.77261749484562\t 6.322093106566834\t 6.458333777847693\n",
            "20 \t [-8.71139489  7.93970139]\t 209.78807586766297\t 11.77261749484562\t 5.786931003840609\t 5.786930955682251\n"
          ]
        }
      ],
      "source": [
        "### EXACT STP CBM GRADIENTS\n",
        "\n",
        "np.random.seed(run_num_1)\n",
        "surrogate_exact_1 = dtStudentProcess(cov_func, optimize=opt, nu = df)\n",
        "\n",
        "exact_1 = dGPGO(surrogate_exact_1, Acquisition_grad(util), objfunc, param)\n",
        "exact_1.run(init_evals=n_init, max_iter=iters)\n"
      ]
    },
    {
      "cell_type": "code",
      "execution_count": 35,
      "metadata": {
        "colab": {
          "base_uri": "https://localhost:8080/"
        },
        "id": "-ilCPSAu9SAg",
        "outputId": "480e3d6b-a3d6-4a6c-9f02-1ce7002cd0a5"
      },
      "outputs": [
        {
          "output_type": "stream",
          "name": "stdout",
          "text": [
            "Evaluation \t Proposed point \t  Current eval. \t  Best eval. \t        Exact CBM: StdDev. x \t Approx CBM: StdDev. x \n",
            "init\t [-1.28010196 -9.48147536]\t 1032.6027521517153\t 92.40504507724606\t    \t    \n",
            "init\t [ 0.99324956 -1.29355215]\t 92.40504507724606\t 92.40504507724606\t    \t    \n",
            "init\t [-1.59264396 -3.39330358]\t 370.5851459944721\t 92.40504507724606\t    \t    \n",
            "init\t [-5.90702732  2.38541933]\t 274.38308294748543\t 92.40504507724606\t    \t    \n",
            "init\t [-4.00690653 -4.6634545 ]\t 725.9498417670716\t 92.40504507724606\t    \t    \n",
            "1  \t [4.28402062 6.64324462]\t 216.00603767941385\t 92.40504507724606\t 6.656423272903734\t 6.823951646264326\n",
            "2  \t [ 9.4582138 -7.7444757]\t 207.8931124700012\t 92.40504507724606\t 6.67342364858714\t 7.158156515207913\n",
            "3  \t [-10. -10.]\t 2594.0\t 92.40504507724606\t 7.323113348759417\t 7.337274751052439\n",
            "4  \t [8.51803193 1.4054842 ]\t 199.41545789668123\t 92.40504507724606\t 6.543815416554295\t 7.2114569869257386\n",
            "5  \t [10. 10.]\t 1154.0\t 92.40504507724606\t 7.2627496649539625\t 7.185741273434808\n",
            "\u001b[1m\u001b[92m6\u001b[0m\t \u001b[1m\u001b[92m[-3.25263411  9.0402141 ]\u001b[0m\t \u001b[1m\u001b[92m67.3508521501691\u001b[0m\t \u001b[1m\u001b[92m67.3508521501691\u001b[0m\t \u001b[1m\u001b[92m6.389385947720872\u001b[0m\t \u001b[1m\u001b[92m7.168909993127029\u001b[0m\n",
            "7  \t [  4.47606687 -10.        ]\t 543.9042500771953\t 67.3508521501691\t 5.802298522142301\t 6.619408707313839\n",
            "8  \t [-10.          -1.96572139]\t 1165.2754268987971\t 67.3508521501691\t 4.973415469239429\t 6.338934270723829\n",
            "9  \t [-8.55631045  7.38165984]\t 217.63004826336663\t 67.3508521501691\t 5.369025020081704\t 6.242342755749302\n",
            "\u001b[1m\u001b[92m10\u001b[0m\t \u001b[1m\u001b[92m[-0.09550672  4.00320498]\u001b[0m\t \u001b[1m\u001b[92m2.240633637546021\u001b[0m\t \u001b[1m\u001b[92m2.240633637546021\u001b[0m\t \u001b[1m\u001b[92m5.739001042464022\u001b[0m\t \u001b[1m\u001b[92m6.899988807913161\u001b[0m\n",
            "11 \t [10.         -3.03644486]\t 152.5693028343891\t 2.240633637546021\t 5.7037430386300665\t 6.682205376104178\n",
            "12 \t [ 5.23670369 -4.78236992]\t 128.80193572879264\t 2.240633637546021\t 4.888450928314369\t 6.582678714067009\n",
            "13 \t [3.84763509 2.04352691]\t 23.32984126985902\t 2.240633637546021\t 6.174760113833567\t 7.267052502517666\n",
            "14 \t [9.74816297 5.42400472]\t 581.6754780024236\t 2.240633637546021\t 5.858843357826832\t 7.4285808319958155\n",
            "15 \t [-10.           3.36517625]\t 573.531258880934\t 2.240633637546021\t 5.578749679806272\t 5.789471403409592\n",
            "16 \t [-5.65553116 -8.83462216]\t 1551.8974561963544\t 2.240633637546021\t 5.219696373560498\t 6.01268521646251\n",
            "17 \t [ 4.47886914 -7.40659704]\t 312.37344792432236\t 2.240633637546021\t 5.703886205043094\t 5.682390257955391\n",
            "18 \t [-6.11780078 -1.417923  ]\t 602.4728244485738\t 2.240633637546021\t 5.686110007901973\t 6.212164568718035\n",
            "19 \t [-3.15867723  4.80356669]\t 42.73363165468309\t 2.240633637546021\t 5.223307483225998\t 6.538420845192871\n",
            "20 \t [ 1.12457007 10.        ]\t 252.05351222122079\t 2.240633637546021\t 5.666570967577421\t 6.2859078133244415\n"
          ]
        }
      ],
      "source": [
        "### EXACT STP CBM GRADIENTS\n",
        "\n",
        "np.random.seed(run_num_2)\n",
        "surrogate_exact_2 = dtStudentProcess(cov_func, optimize=opt, nu = df)\n",
        "\n",
        "exact_2 = dGPGO(surrogate_exact_2, Acquisition_grad(util), objfunc, param)\n",
        "exact_2.run(init_evals=n_init, max_iter=iters)\n"
      ]
    },
    {
      "cell_type": "code",
      "execution_count": 36,
      "metadata": {
        "colab": {
          "base_uri": "https://localhost:8080/"
        },
        "id": "XieJ158mIvlP",
        "outputId": "951b0437-e17d-49c3-ad9a-2593edef7179"
      },
      "outputs": [
        {
          "output_type": "stream",
          "name": "stdout",
          "text": [
            "Evaluation \t Proposed point \t  Current eval. \t  Best eval. \t        Exact CBM: StdDev. x \t Approx CBM: StdDev. x \n",
            "init\t [1.01595805 4.16295645]\t 6.912079999083602\t 6.912079999083602\t    \t    \n",
            "init\t [-4.18190522  0.2165521 ]\t 288.3871250813255\t 6.912079999083602\t    \t    \n",
            "init\t [7.85893909 7.92586178]\t 626.8352854305291\t 6.912079999083602\t    \t    \n",
            "init\t [-7.48829379 -5.85514244]\t 1353.6437998345716\t 6.912079999083602\t    \t    \n",
            "init\t [-8.97065593 -1.18380313]\t 918.3130335940459\t 6.912079999083602\t    \t    \n",
            "1  \t [ 5.60629529 -3.87272935]\t 88.9992584872525\t 6.912079999083602\t 4.717150437873575\t 4.717150437873575\n",
            "2  \t [-6.2437035   9.04202486]\t 94.75343105833329\t 6.912079999083602\t 7.018599166932268\t 7.130083218187796\n",
            "3  \t [10.          1.52764698]\t 309.82969990266105\t 6.912079999083602\t 6.554322232086527\t 7.102879792669547\n",
            "4  \t [-0.42169096 -8.75441039]\t 834.625955715487\t 6.912079999083602\t 6.589783438902707\t 6.387056446526673\n",
            "5  \t [ 6.5685866  -9.15866137]\t 352.5585450518906\t 6.912079999083602\t 5.993594113167274\t 7.269311602159766\n",
            "6  \t [-9.21277105  4.93342182]\t 382.22930688812016\t 6.912079999083602\t 6.186846798459835\t 6.144177161306287\n",
            "7  \t [ 0.69850669 -0.70926041]\t 78.19409262167642\t 6.912079999083602\t 5.87138101787483\t 6.06711535409324\n",
            "8  \t [ 3.04941167 10.        ]\t 380.7674944860658\t 6.912079999083602\t 6.34735207727946\t 7.3161352357485425\n",
            "9  \t [ 5.74317947 -0.19878238]\t 42.2706096709416\t 6.912079999083602\t 5.6520067494742605\t 5.611179373920365\n",
            "10 \t [-10. -10.]\t 2594.0\t 6.912079999083602\t 6.73866133509195\t 6.9567155065224195\n",
            "11 \t [-1.93237071 10.        ]\t 123.78123007227123\t 6.912079999083602\t 5.851987606388617\t 6.267219766482853\n",
            "12 \t [-1.94031242 -4.10620383]\t 462.8735250522538\t 6.912079999083602\t 6.424668063455528\t 6.506402564165568\n",
            "13 \t [-3.14137123  5.11043801]\t 38.103663146739045\t 6.912079999083602\t 7.528893270733211\t 8.418603273683818\n",
            "14 \t [4.71775612 4.2832277 ]\t 115.5077406891853\t 6.912079999083602\t 6.0683164232068\t 6.7268759277264625\n",
            "15 \t [ 9.97093215 -4.21037813]\t 144.8653782548394\t 6.912079999083602\t 6.448439343371531\t 6.415589432267916\n",
            "16 \t [ 3.25486482 -6.74918056]\t 324.79001096854944\t 6.912079999083602\t 5.628295239463615\t 7.811230335511338\n",
            "17 \t [ -5.01406892 -10.        ]\t 1651.3082928110234\t 6.912079999083602\t 6.64878258103955\t 7.194762565535758\n",
            "18 \t [4.64453209 7.76833849]\t 319.12523222142494\t 6.912079999083602\t 6.336304076385037\t 6.509768123414756\n",
            "19 \t [-6.21217239  2.91613024]\t 264.9513889151653\t 6.912079999083602\t 5.374910232226188\t 6.1814288737731165\n",
            "20 \t [-4.77009806 -5.49033935]\t 918.8201938823742\t 6.912079999083602\t 5.045157274597356\t 5.058379402134722\n"
          ]
        }
      ],
      "source": [
        "### EXACT STP CBM GRADIENTS\n",
        "\n",
        "np.random.seed(run_num_3)\n",
        "surrogate_exact_3 = dtStudentProcess(cov_func, optimize=opt, nu = df)\n",
        "\n",
        "exact_3 = dGPGO(surrogate_exact_3, Acquisition_grad(util), objfunc, param)\n",
        "exact_3.run(init_evals=n_init, max_iter=iters)\n"
      ]
    },
    {
      "cell_type": "code",
      "execution_count": 37,
      "metadata": {
        "colab": {
          "base_uri": "https://localhost:8080/"
        },
        "id": "PhLBVOIfIvol",
        "outputId": "bb3af748-7043-41d4-90d7-484c7e1d14a3"
      },
      "outputs": [
        {
          "output_type": "stream",
          "name": "stdout",
          "text": [
            "Evaluation \t Proposed point \t  Current eval. \t  Best eval. \t        Exact CBM: StdDev. x \t Approx CBM: StdDev. x \n",
            "init\t [9.34059678 0.94464498]\t 231.80709501196006\t 215.08077877054313\t    \t    \n",
            "init\t [9.4536872  4.29631987]\t 453.3958241553961\t 215.08077877054313\t    \t    \n",
            "init\t [ 3.95457649 -5.67821009]\t 215.08077877054313\t 215.08077877054313\t    \t    \n",
            "init\t [ 9.5254891 -9.8753949]\t 314.14647993232734\t 215.08077877054313\t    \t    \n",
            "init\t [-4.94035275 -1.30416935]\t 473.61459720928724\t 215.08077877054313\t    \t    \n",
            "1  \t [-10. -10.]\t 2594.0\t 215.08077877054313\t 6.072138675033217\t 6.105737230384658\n",
            "\u001b[1m\u001b[92m2\u001b[0m\t \u001b[1m\u001b[92m[1.43282743 6.87413988]\u001b[0m\t \u001b[1m\u001b[92m89.39616910477575\u001b[0m\t \u001b[1m\u001b[92m89.39616910477575\u001b[0m\t \u001b[1m\u001b[92m5.914408435006885\u001b[0m\t \u001b[1m\u001b[92m6.039323585131387\u001b[0m\n",
            "3  \t [ -3.18188758 -10.        ]\t 1367.357227686944\t 89.39616910477575\t 6.604966497327909\t 7.097651733515972\n",
            "4  \t [ 6.28703055 10.        ]\t 680.8371715110218\t 89.39616910477575\t 6.628361798689276\t 7.3520064608776\n",
            "5  \t [-6.86935575  9.72449447]\t 112.38841506890779\t 89.39616910477575\t 5.048829118187144\t 6.262729208250392\n",
            "\u001b[1m\u001b[92m6\u001b[0m\t \u001b[1m\u001b[92m[4.14399697 0.29816476]\u001b[0m\t \u001b[1m\u001b[92m17.96665859198392\u001b[0m\t \u001b[1m\u001b[92m17.96665859198392\u001b[0m\t \u001b[1m\u001b[92m5.97461200629838\u001b[0m\t \u001b[1m\u001b[92m6.4715748835163565\u001b[0m\n",
            "7  \t [-3.54680288  4.48791697]\t 60.31444532227495\t 17.96665859198392\t 4.914382718630065\t 4.921370232904447\n",
            "8  \t [-9.08550325  3.13538287]\t 497.75528667462237\t 17.96665859198392\t 6.23348612943089\t 7.566266613459577\n",
            "9  \t [-9.81633622 -4.00668964]\t 1436.7278321096155\t 17.96665859198392\t 5.411879079291514\t 6.956216423922966\n",
            "10 \t [ 9.19740165 -4.35416155]\t 124.12530133494982\t 17.96665859198392\t 6.353855054677238\t 7.200947700118613\n",
            "11 \t [-0.53600873 -3.7065125 ]\t 319.09325787160736\t 17.96665859198392\t 6.684802713773923\t 6.764984523214421\n",
            "12 \t [-2.91916568  8.15405406]\t 48.02393021395088\t 17.96665859198392\t 5.85413179273629\t 5.826489172988956\n",
            "13 \t [  1.94350653 -10.        ]\t 751.3263441477305\t 17.96665859198392\t 6.806784392859648\t 6.885432139318544\n",
            "14 \t [-5.23152898 -5.62798921]\t 996.495275111019\t 17.96665859198392\t 5.51142484956045\t 5.9079190916494255\n",
            "15 \t [10. 10.]\t 1154.0\t 17.96665859198392\t 6.558160119209786\t 7.64821844269034\n",
            "16 \t [-0.07301429  1.43957156]\t 31.32637892051867\t 17.96665859198392\t 5.004245219955451\t 5.604716585259022\n",
            "17 \t [2.14852253 4.24014763]\t 25.680050629095042\t 17.96665859198392\t 5.512866747117279\t 5.513387600419631\n",
            "18 \t [5.43740884 4.58015507]\t 167.0317887058343\t 17.96665859198392\t 5.603707222276049\t 7.511719134161352\n",
            "19 \t [ 0.91070869 10.        ]\t 240.03955133026471\t 17.96665859198392\t 5.726361225848258\t 7.447611862984767\n",
            "20 \t [-6.20371904  1.26703575]\t 374.35396614966646\t 17.96665859198392\t 5.161600437633756\t 5.476529688394516\n"
          ]
        }
      ],
      "source": [
        "### EXACT STP CBM GRADIENTS\n",
        "\n",
        "np.random.seed(run_num_4)\n",
        "surrogate_exact_4 = dtStudentProcess(cov_func, optimize=opt, nu = df)\n",
        "\n",
        "exact_4 = dGPGO(surrogate_exact_4, Acquisition_grad(util), objfunc, param)\n",
        "exact_4.run(init_evals=n_init, max_iter=iters)\n"
      ]
    },
    {
      "cell_type": "code",
      "execution_count": 38,
      "metadata": {
        "colab": {
          "base_uri": "https://localhost:8080/"
        },
        "id": "arbiPyj2IvsJ",
        "outputId": "5b1e5e67-d729-4cf3-c760-671f19015f45"
      },
      "outputs": [
        {
          "output_type": "stream",
          "name": "stdout",
          "text": [
            "Evaluation \t Proposed point \t  Current eval. \t  Best eval. \t        Exact CBM: StdDev. x \t Approx CBM: StdDev. x \n",
            "init\t [-5.56013658  7.41464612]\t 80.93700948496809\t 18.053107398965345\t    \t    \n",
            "init\t [-5.86561689  8.37221816]\t 84.91838238990834\t 18.053107398965345\t    \t    \n",
            "init\t [-0.23177622  2.23487726]\t 18.053107398965345\t 18.053107398965345\t    \t    \n",
            "init\t [5.31815713 0.36835976]\t 36.94936820355582\t 18.053107398965345\t    \t    \n",
            "init\t [-4.06398997 -6.24557543]\t 930.179306576812\t 18.053107398965345\t    \t    \n",
            "1  \t [9.27861058 9.20453431]\t 946.0775823883291\t 18.053107398965345\t 7.7989881980726965\t 7.6850809700335185\n",
            "2  \t [ 8.87080164 -7.76615146]\t 211.3917378701312\t 18.053107398965345\t 6.736655112984281\t 7.042371589378048\n",
            "3  \t [-10. -10.]\t 2594.0\t 18.053107398965345\t 7.204482424394718\t 7.548305341068645\n",
            "4  \t [-8.82139464 -0.84482888]\t 858.3051631456149\t 18.053107398965345\t 5.964199592282902\t 6.163275354180808\n",
            "5  \t [2.68428552 8.77105868]\t 258.4705647495647\t 18.053107398965345\t 5.609202131360827\t 6.321258986097442\n",
            "6  \t [ 2.04464397 -4.95873033]\t 255.65103049060588\t 18.053107398965345\t 5.817614908602256\t 6.785655804236464\n",
            "7  \t [10.          3.14537389]\t 415.57258791971105\t 18.053107398965345\t 5.069701690961284\t 6.040615722947769\n",
            "8  \t [10.         -2.42232408]\t 161.60065842493844\t 18.053107398965345\t 6.038944068317642\t 7.4896447800217\n",
            "9  \t [-10.           4.77752641]\t 464.3756766463859\t 18.053107398965345\t 5.396783032002319\t 6.314421041638526\n",
            "10 \t [-4.71775255  2.55291414]\t 184.91351044079573\t 18.053107398965345\t 5.815760479801227\t 5.921825594450983\n",
            "11 \t [  0.24458542 -10.        ]\t 926.4163726054724\t 18.053107398965345\t 5.944912243532685\t 6.9824445622623665\n",
            "12 \t [5.66918338 4.35874325]\t 168.99105425611475\t 18.053107398965345\t 5.448431547643541\t 5.877163240260006\n",
            "13 \t [-1.16168413 -2.01237613]\t 235.66535530769778\t 18.053107398965345\t 5.549746809262255\t 7.16225619838947\n",
            "14 \t [-1.61113278  8.56049636]\t 72.53211638696587\t 18.053107398965345\t 5.573067263340015\t 6.769639174415195\n",
            "\u001b[1m\u001b[92m15\u001b[0m\t \u001b[1m\u001b[92m[0.01398318 5.44688065]\u001b[0m\t \u001b[1m\u001b[92m15.495946550976077\u001b[0m\t \u001b[1m\u001b[92m15.495946550976077\u001b[0m\t \u001b[1m\u001b[92m4.651750003340108\u001b[0m\t \u001b[1m\u001b[92m6.5807623281392\u001b[0m\n",
            "16 \t [ 5.36333511 -6.55656741]\t 218.2453207117764\t 15.495946550976077\t 5.839731510190701\t 7.342005577429067\n",
            "17 \t [-9.2080773  -5.31992256]\t 1546.5730691126898\t 15.495946550976077\t 5.342616234586611\t 6.758291151285476\n",
            "18 \t [ 5.88993839 -2.87181496]\t 62.24603477596715\t 15.495946550976077\t 5.384534865323082\t 7.133909931520827\n",
            "19 \t [-5.02928102 -2.20971292]\t 568.7532776567189\t 15.495946550976077\t 5.029173628617314\t 6.354383733540112\n",
            "\u001b[1m\u001b[92m20\u001b[0m\t \u001b[1m\u001b[92m[1.915582   0.79049679]\u001b[0m\t \u001b[1m\u001b[92m12.417123183405844\u001b[0m\t \u001b[1m\u001b[92m12.417123183405844\u001b[0m\t \u001b[1m\u001b[92m5.826331358896922\u001b[0m\t \u001b[1m\u001b[92m6.054548164220966\u001b[0m\n"
          ]
        }
      ],
      "source": [
        "### EXACT STP CBM GRADIENTS\n",
        "\n",
        "np.random.seed(run_num_5)\n",
        "surrogate_exact_5 = dtStudentProcess(cov_func, optimize=opt, nu = df)\n",
        "\n",
        "exact_5 = dGPGO(surrogate_exact_5, Acquisition_grad(util), objfunc, param)\n",
        "exact_5.run(init_evals=n_init, max_iter=iters)\n"
      ]
    },
    {
      "cell_type": "code",
      "execution_count": 39,
      "metadata": {
        "colab": {
          "base_uri": "https://localhost:8080/"
        },
        "id": "04KJCEm_Ivvf",
        "outputId": "6440517d-03b8-4e58-ddd2-8dc515a6f21e"
      },
      "outputs": [
        {
          "output_type": "stream",
          "name": "stdout",
          "text": [
            "Evaluation \t Proposed point \t  Current eval. \t  Best eval. \t        Exact CBM: StdDev. x \t Approx CBM: StdDev. x \n",
            "init\t [ 7.85720303 -3.36040389]\t 88.46320859272592\t 88.46320859272592\t    \t    \n",
            "init\t [ 6.42458246 -9.16606749]\t 359.2297742730208\t 88.46320859272592\t    \t    \n",
            "init\t [-7.8468664   1.90104128]\t 475.1525044254979\t 88.46320859272592\t    \t    \n",
            "init\t [ 0.59634724 -1.62385143]\t 122.64613090496854\t 88.46320859272592\t    \t    \n",
            "init\t [-3.29184301  2.45038864]\t 112.48071079498652\t 88.46320859272592\t    \t    \n",
            "1  \t [4.34664291 8.74699069]\t 375.00460929454164\t 88.46320859272592\t 5.900385540570068\t 6.136681584519434\n",
            "2  \t [-4.96771714 -9.17248997]\t 1500.0516160468933\t 88.46320859272592\t 7.610061643877496\t 7.571500876996712\n",
            "3  \t [9.57427611 1.74148842]\t 289.1837050334585\t 88.46320859272592\t 6.319017434519467\t 6.428408704942257\n",
            "\u001b[1m\u001b[92m4\u001b[0m\t \u001b[1m\u001b[92m[-5.6935267   8.60486508]\u001b[0m\t \u001b[1m\u001b[92m80.95854876086956\u001b[0m\t \u001b[1m\u001b[92m80.95854876086956\u001b[0m\t \u001b[1m\u001b[92m6.044729358187109\u001b[0m\t \u001b[1m\u001b[92m6.200200009455629\u001b[0m\n",
            "5  \t [10. 10.]\t 1154.0\t 80.95854876086956\t 7.1616972771831895\t 7.484359737928047\n",
            "\u001b[1m\u001b[92m6\u001b[0m\t \u001b[1m\u001b[92m[3.81152536 2.95314321]\u001b[0m\t \u001b[1m\u001b[92m38.48043975883483\u001b[0m\t \u001b[1m\u001b[92m38.48043975883483\u001b[0m\t \u001b[1m\u001b[92m5.758824206563087\u001b[0m\t \u001b[1m\u001b[92m6.774965672432398\u001b[0m\n",
            "7  \t [-8.36917733 -4.79039395]\t 1326.2752690543525\t 38.48043975883483\t 5.996175210971466\t 6.611094862894044\n",
            "8  \t [-10. -10.]\t 2594.0\t 38.48043975883483\t 6.536460460241271\t 7.365591505934193\n",
            "\u001b[1m\u001b[92m9\u001b[0m\t \u001b[1m\u001b[92m[-1.22868843  4.34354782]\u001b[0m\t \u001b[1m\u001b[92m9.906068482791387\u001b[0m\t \u001b[1m\u001b[92m9.906068482791387\u001b[0m\t \u001b[1m\u001b[92m5.2955121678331745\u001b[0m\t \u001b[1m\u001b[92m5.294793306302432\u001b[0m\n",
            "10 \t [-2.7713666  -4.00428492]\t 527.7418762559189\t 9.906068482791387\t 5.818978433098566\t 6.528771631532703\n",
            "11 \t [-0.58820499  9.24006327]\t 128.01992673480765\t 9.906068482791387\t 6.111228547707003\t 6.583143917890667\n",
            "12 \t [ 1.15144196 -7.83793338]\t 574.2881305600941\t 9.906068482791387\t 5.336987352639651\t 6.82495609700635\n",
            "13 \t [ 3.45896194 -3.24909195]\t 102.55798614529127\t 9.906068482791387\t 5.249839949118687\t 6.242256523596213\n",
            "14 \t [8.46372883 5.69619482]\t 475.872908669344\t 9.906068482791387\t 5.609614974628261\t 6.450307620283337\n",
            "15 \t [-10.           6.55422465]\t 355.3907953552435\t 9.906068482791387\t 5.368504963597178\t 7.208899626726956\n",
            "16 \t [ 5.76016656 -0.03402902]\t 43.78272108440228\t 9.906068482791387\t 5.207130925243247\t 6.2444370000260925\n",
            "17 \t [10.         -5.55182794]\t 154.93719390890618\t 9.906068482791387\t 6.6458559026696635\t 6.579017633042343\n",
            "18 \t [-5.7671776  -1.39611283]\t 563.5967137000164\t 9.906068482791387\t 5.528884250170254\t 6.162242181278706\n",
            "19 \t [1.80154676 5.83519568]\t 61.584393964973145\t 9.906068482791387\t 5.8139242010506935\t 6.750847938488088\n",
            "20 \t [6.91801255 2.83109097]\t 167.26016797911788\t 9.906068482791387\t 5.86807614293862\t 5.8310839626563356\n"
          ]
        }
      ],
      "source": [
        "### EXACT STP CBM GRADIENTS\n",
        "\n",
        "np.random.seed(run_num_6)\n",
        "surrogate_exact_6 = dtStudentProcess(cov_func, optimize=opt, nu = df)\n",
        "\n",
        "exact_6 = dGPGO(surrogate_exact_6, Acquisition_grad(util), objfunc, param)\n",
        "exact_6.run(init_evals=n_init, max_iter=iters)\n"
      ]
    },
    {
      "cell_type": "code",
      "execution_count": 40,
      "metadata": {
        "colab": {
          "base_uri": "https://localhost:8080/"
        },
        "id": "tAOkme3CIvyO",
        "outputId": "add8f934-025a-46ab-bf48-9278aa710c8b"
      },
      "outputs": [
        {
          "output_type": "stream",
          "name": "stdout",
          "text": [
            "Evaluation \t Proposed point \t  Current eval. \t  Best eval. \t        Exact CBM: StdDev. x \t Approx CBM: StdDev. x \n",
            "init\t [-8.47383421  5.59837584]\t 285.59280278210764\t 9.465549861932052\t    \t    \n",
            "init\t [-1.23181537  4.46930356]\t 9.465549861932052\t 9.465549861932052\t    \t    \n",
            "init\t [9.55979024 0.76991741]\t 238.50407296157155\t 9.465549861932052\t    \t    \n",
            "init\t [ 0.02240927 -8.55897733]\t 763.2277954619568\t 9.465549861932052\t    \t    \n",
            "init\t [-4.63122040e+00 -2.34998349e-03]\t 338.87889871968287\t 9.465549861932052\t    \t    \n",
            "1  \t [4.76851963 9.94113274]\t 521.1676788843079\t 9.465549861932052\t 5.293060091241071\t 5.673667303997415\n",
            "2  \t [-10. -10.]\t 2594.0\t 9.465549861932052\t 7.3341072065455695\t 7.471446946048112\n",
            "3  \t [ 7.45254366 -9.52193948]\t 345.78455019200885\t 9.465549861932052\t 7.252700879248902\t 7.466578532924776\n",
            "4  \t [-7.86246511 -2.61028169]\t 947.860148457175\t 9.465549861932052\t 5.625521387990221\t 5.949818633453735\n",
            "5  \t [ 3.28204573 -2.63563645]\t 81.95441383901347\t 9.465549861932052\t 6.047543209767142\t 6.887126035593732\n",
            "6  \t [10. 10.]\t 1154.0\t 9.465549861932052\t 7.0909480390044015\t 7.886368547668156\n",
            "7  \t [-2.78617785  9.79828268]\t 96.84289224848955\t 9.465549861932052\t 5.234076305975691\t 6.848136097469543\n",
            "8  \t [3.79465721 4.22533175]\t 73.95279165211409\t 9.465549861932052\t 4.84787567324203\t 6.262958222171816\n",
            "9  \t [10.         -4.67045218]\t 146.90662625479717\t 9.465549861932052\t 5.5247229957777435\t 6.453790254053271\n",
            "10 \t [ -4.78126367 -10.        ]\t 1613.3664695003679\t 9.465549861932052\t 5.483746988394894\t 6.7651275052885\n",
            "11 \t [8.68125411 5.23802082]\t 457.57846267417864\t 9.465549861932052\t 5.755196297953177\t 6.150934732346236\n",
            "12 \t [-2.808302  -4.5287814]\t 585.3035537721075\t 9.465549861932052\t 6.061592149361237\t 6.993705204671281\n",
            "13 \t [ 5.84661014 -5.61058122]\t 154.3016522054711\t 9.465549861932052\t 5.782788856937195\t 6.544778512269567\n",
            "14 \t [0.76678991 0.70205224]\t 30.961991000873898\t 9.465549861932052\t 5.004201725703709\t 6.526502725561624\n",
            "15 \t [-9.07780735 10.        ]\t 188.45379320990486\t 9.465549861932052\t 5.446183917266762\t 7.282393639156285\n",
            "16 \t [-5.24466004  6.10803375]\t 88.00935067997807\t 9.465549861932052\t 5.26094427409924\t 5.76033352394747\n",
            "17 \t [-9.36361406  1.52865546]\t 669.8343311824968\t 9.465549861932052\t 4.924431411169543\t 5.756543716843574\n",
            "18 \t [ 3.61951594 -9.74008684]\t 578.8754972128601\t 9.465549861932052\t 6.312577737591582\t 6.6291539796809555\n",
            "19 \t [5.65393272 7.75173423]\t 398.10435111297875\t 9.465549861932052\t 6.039659345260984\t 6.095614840850543\n",
            "20 \t [5.6955271  0.25290668]\t 44.78007319678634\t 9.465549861932052\t 5.287550867583068\t 5.693115775685315\n"
          ]
        }
      ],
      "source": [
        "### EXACT STP CBM GRADIENTS\n",
        "\n",
        "np.random.seed(run_num_7)\n",
        "surrogate_exact_7 = dtStudentProcess(cov_func, optimize=opt, nu = df)\n",
        "\n",
        "exact_7 = dGPGO(surrogate_exact_7, Acquisition_grad(util), objfunc, param)\n",
        "exact_7.run(init_evals=n_init, max_iter=iters)\n"
      ]
    },
    {
      "cell_type": "code",
      "execution_count": 41,
      "metadata": {
        "colab": {
          "base_uri": "https://localhost:8080/"
        },
        "id": "69-J3EF4Iv1S",
        "outputId": "b1eeafe0-316b-420e-cc42-bb39047af988"
      },
      "outputs": [
        {
          "output_type": "stream",
          "name": "stdout",
          "text": [
            "Evaluation \t Proposed point \t  Current eval. \t  Best eval. \t        Exact CBM: StdDev. x \t Approx CBM: StdDev. x \n",
            "init\t [7.46858806 9.37081326]\t 741.8307972128058\t 75.39770051777191\t    \t    \n",
            "init\t [7.3838908  0.61711383]\t 110.46436066448925\t 75.39770051777191\t    \t    \n",
            "init\t [-5.34543344 -9.77202391]\t 1665.297823285088\t 75.39770051777191\t    \t    \n",
            "init\t [-1.39062363 -1.9529728 ]\t 245.96065521704543\t 75.39770051777191\t    \t    \n",
            "init\t [ 0.45349343 -0.43216408]\t 75.39770051777191\t 75.39770051777191\t    \t    \n",
            "1  \t [ 9.69498875 -9.42535902]\t 285.65502563735186\t 75.39770051777191\t 6.571822473995164\t 6.681001201290982\n",
            "2  \t [-9.83383251  5.77166529]\t 385.04821658618386\t 75.39770051777191\t 6.277518540028987\t 6.115384488993342\n",
            "3  \t [-3.97152767  9.51013426]\t 76.56717653580492\t 75.39770051777191\t 6.591199524754215\t 6.7922695966550215\n",
            "4  \t [-9.65586204 -5.07440767]\t 1582.0354694335447\t 75.39770051777191\t 7.55236121572601\t 7.361455607269436\n",
            "\u001b[1m\u001b[92m5\u001b[0m\t \u001b[1m\u001b[92m[1.10947828 5.5318851 ]\u001b[0m\t \u001b[1m\u001b[92m34.329629696240445\u001b[0m\t \u001b[1m\u001b[92m34.329629696240445\u001b[0m\t \u001b[1m\u001b[92m6.321298325516478\u001b[0m\t \u001b[1m\u001b[92m6.018614001621868\u001b[0m\n",
            "6  \t [  3.68664229 -10.        ]\t 601.6794356063947\t 34.329629696240445\t 7.139747782796397\t 6.977669409184097\n",
            "7  \t [-4.23114294  3.66008687]\t 111.37878574115847\t 34.329629696240445\t 6.036238762058289\t 5.844665314268263\n",
            "8  \t [ 6.9596525  -4.76657765]\t 108.8971001652949\t 34.329629696240445\t 7.526631602729928\t 7.187786431342463\n",
            "9  \t [-9.7498247   0.48336855]\t 825.8876005136118\t 34.329629696240445\t 7.329234372638133\t 8.053323805249175\n",
            "10 \t [ 2.03186967 10.        ]\t 308.10847683624803\t 34.329629696240445\t 7.844589689888176\t 7.8993506119038495\n",
            "11 \t [ 2.3972048  -5.30213419]\t 261.58981292613527\t 34.329629696240445\t 8.356919019117093\t 7.084851022476125\n",
            "12 \t [9.76754709 4.88040844]\t 533.9216458006438\t 34.329629696240445\t 7.100794381522865\t 6.9692392039929825\n",
            "13 \t [-10. -10.]\t 2594.0\t 34.329629696240445\t 6.91125432182838\t 6.3473531512739925\n",
            "14 \t [-8.29691196 10.        ]\t 156.53579017637972\t 34.329629696240445\t 6.934843262735278\t 7.87358042137339\n",
            "15 \t [-4.73137241 -5.21187946]\t 877.9406844408684\t 34.329629696240445\t 5.2717139914029865\t 5.567205503174481\n",
            "16 \t [5.03123883 4.90870296]\t 161.0256671456503\t 34.329629696240445\t 6.0284716921214905\t 7.118485582769641\n",
            "17 \t [-0.7072692  -9.75682883]\t 1002.4919766774567\t 34.329629696240445\t 6.634464791308844\t 7.556548159506963\n",
            "18 \t [-5.34528177 -0.77349784]\t 464.060689915675\t 34.329629696240445\t 6.164960508088931\t 6.685778901203522\n",
            "19 \t [-1.70035601  7.70794796]\t 45.578398332373126\t 34.329629696240445\t 5.008227223733869\t 4.985836158582902\n",
            "\u001b[1m\u001b[92m20\u001b[0m\t \u001b[1m\u001b[92m[ 3.96779637 -0.79337572]\u001b[0m\t \u001b[1m\u001b[92m25.923839648429382\u001b[0m\t \u001b[1m\u001b[92m25.923839648429382\u001b[0m\t \u001b[1m\u001b[92m6.502266683887379\u001b[0m\t \u001b[1m\u001b[92m7.568439518047921\u001b[0m\n"
          ]
        }
      ],
      "source": [
        "### EXACT STP CBM GRADIENTS\n",
        "\n",
        "np.random.seed(run_num_8)\n",
        "surrogate_exact_8 = dtStudentProcess(cov_func, optimize=opt, nu = df)\n",
        "\n",
        "exact_8 = dGPGO(surrogate_exact_8, Acquisition_grad(util), objfunc, param)\n",
        "exact_8.run(init_evals=n_init, max_iter=iters)\n"
      ]
    },
    {
      "cell_type": "code",
      "execution_count": 42,
      "metadata": {
        "colab": {
          "base_uri": "https://localhost:8080/"
        },
        "id": "vonm9jyuIv4t",
        "outputId": "01b91204-b4a7-4f24-bf5e-95b69b85c536"
      },
      "outputs": [
        {
          "output_type": "stream",
          "name": "stdout",
          "text": [
            "Evaluation \t Proposed point \t  Current eval. \t  Best eval. \t        Exact CBM: StdDev. x \t Approx CBM: StdDev. x \n",
            "init\t [-9.79251692  0.03749184]\t 882.0577358281939\t 526.7340464177141\t    \t    \n",
            "init\t [-0.08453414 -7.32340942]\t 628.3137012668271\t 526.7340464177141\t    \t    \n",
            "init\t [-7.15777829 -5.62882649]\t 1268.1663931377898\t 526.7340464177141\t    \t    \n",
            "init\t [-1.62983639 -5.03797663]\t 526.7340464177141\t 526.7340464177141\t    \t    \n",
            "init\t [-8.31880698 -3.0900272 ]\t 1073.657277368356\t 526.7340464177141\t    \t    \n",
            "1  \t [6.0747954  9.66718496]\t 621.7013152481403\t 526.7340464177141\t 6.072166498307528\t 5.98988128683296\n",
            "\u001b[1m\u001b[92m2\u001b[0m\t \u001b[1m\u001b[92m[4.69531634 1.12432974]\u001b[0m\t \u001b[1m\u001b[92m30.41794917619908\u001b[0m\t \u001b[1m\u001b[92m30.41794917619908\u001b[0m\t \u001b[1m\u001b[92m6.8600769331563\u001b[0m\t \u001b[1m\u001b[92m6.66392987921552\u001b[0m\n",
            "3  \t [-4.34667475  7.2314955 ]\t 51.466984168071384\t 30.41794917619908\t 6.571470962638099\t 6.889019044599526\n",
            "4  \t [ 8.66970884 -6.33785621]\t 157.1508550483091\t 30.41794917619908\t 7.115687856030829\t 6.9626957082597345\n",
            "5  \t [9.56247154 4.06718089]\t 445.3756175655683\t 30.41794917619908\t 8.729742169867091\t 8.463775770098959\n",
            "6  \t [1.31466151 5.839986  ]\t 47.97173587745982\t 30.41794917619908\t 6.563410461056009\t 6.1641033440024255\n",
            "7  \t [-2.00413361  1.08900426]\t 109.31070926825305\t 30.41794917619908\t 6.449037877798996\t 6.78011701392644\n",
            "8  \t [10.         -1.31490395]\t 187.4188960432944\t 30.41794917619908\t 6.763883244055688\t 7.6612474108791675\n",
            "9  \t [ 4.07205915 -3.71303385]\t 107.52915805135213\t 30.41794917619908\t 7.748481403879141\t 7.8617755634916255\n",
            "10 \t [-10. -10.]\t 2594.0\t 30.41794917619908\t 7.887802283433704\t 7.624373869253393\n",
            "11 \t [-9.98796499  7.3841901 ]\t 314.3958682098232\t 30.41794917619908\t 6.878776853659595\t 7.5818187922499245\n",
            "12 \t [ -4.40778937 -10.        ]\t 1553.6310235380968\t 30.41794917619908\t 5.956568203863959\t 7.411536924819122\n",
            "13 \t [ 0.13755875 10.        ]\t 200.42231450577697\t 30.41794917619908\t 5.843283909965303\t 7.174416854433059\n",
            "14 \t [-6.05094377  3.27329457]\t 233.53661247498843\t 30.41794917619908\t 5.955958899740363\t 7.2703420397638245\n",
            "15 \t [10.          8.26626197]\t 922.8384372962141\t 30.41794917619908\t 6.513322472459114\t 7.032763932032658\n",
            "16 \t [  4.12338436 -10.        ]\t 568.9456759337598\t 30.41794917619908\t 6.11471648609294\t 6.471310693388211\n",
            "17 \t [-3.19905642 10.        ]\t 98.01321463622446\t 30.41794917619908\t 5.480407932053018\t 5.480886443847874\n",
            "18 \t [-4.99674022 -8.00387494]\t 1313.1298206718807\t 30.41794917619908\t 5.577639584352609\t 5.777260877149658\n",
            "\u001b[1m\u001b[92m19\u001b[0m\t \u001b[1m\u001b[92m[1.44243958 0.29600691]\u001b[0m\t \u001b[1m\u001b[92m27.96582849051952\u001b[0m\t \u001b[1m\u001b[92m27.96582849051952\u001b[0m\t \u001b[1m\u001b[92m6.251852144153202\u001b[0m\t \u001b[1m\u001b[92m6.356903170395552\u001b[0m\n",
            "20 \t [5.44814337 4.67624824]\t 172.62847769127765\t 27.96582849051952\t 6.428919426982057\t 7.424592009659151\n"
          ]
        }
      ],
      "source": [
        "### EXACT STP CBM GRADIENTS\n",
        "\n",
        "np.random.seed(run_num_9)\n",
        "surrogate_exact_9 = dtStudentProcess(cov_func, optimize=opt, nu = df)\n",
        "\n",
        "exact_9 = dGPGO(surrogate_exact_9, Acquisition_grad(util), objfunc, param)\n",
        "exact_9.run(init_evals=n_init, max_iter=iters)\n"
      ]
    },
    {
      "cell_type": "code",
      "execution_count": 43,
      "metadata": {
        "colab": {
          "base_uri": "https://localhost:8080/"
        },
        "id": "6amuYlUdIv7r",
        "outputId": "9148ae5d-609e-4d26-98c1-eaf004d5a1a2"
      },
      "outputs": [
        {
          "output_type": "stream",
          "name": "stdout",
          "text": [
            "Evaluation \t Proposed point \t  Current eval. \t  Best eval. \t        Exact CBM: StdDev. x \t Approx CBM: StdDev. x \n",
            "init\t [ 5.42641287 -9.58496101]\t 444.22200604720473\t 59.96573403226766\t    \t    \n",
            "init\t [2.6729647  4.97607765]\t 59.96573403226766\t 59.96573403226766\t    \t    \n",
            "init\t [-0.02985975 -5.50406709]\t 436.96281238949786\t 59.96573403226766\t    \t    \n",
            "init\t [-6.0387427   5.21061424]\t 147.67401193720747\t 59.96573403226766\t    \t    \n",
            "init\t [-6.61778327 -8.23320372]\t 1605.6543289416081\t 59.96573403226766\t    \t    \n",
            "1  \t [10. 10.]\t 1154.0\t 59.96573403226766\t 5.815839269861037\t 6.248594517626095\n",
            "\u001b[1m\u001b[92m2\u001b[0m\t \u001b[1m\u001b[92m[2.11155129 0.26933255]\u001b[0m\t \u001b[1m\u001b[92m19.17823960765822\u001b[0m\t \u001b[1m\u001b[92m19.17823960765822\u001b[0m\t \u001b[1m\u001b[92m5.072781648445407\u001b[0m\t \u001b[1m\u001b[92m5.067038628368883\u001b[0m\n",
            "3  \t [8.50713746 1.33499849]\t 195.6515526065785\t 19.17823960765822\t 5.799809598544898\t 6.596745363391532\n",
            "4  \t [-10.           0.77207578]\t 825.8755633296457\t 19.17823960765822\t 6.6254603395347935\t 7.321699441872495\n",
            "5  \t [-8.79899589  9.77833948]\t 178.46366706135103\t 19.17823960765822\t 6.3837260266064915\t 6.23931825054241\n",
            "6  \t [0.20663569 9.9051757 ]\t 197.72783206478573\t 19.17823960765822\t 6.703019108219211\t 6.918999419320558\n",
            "7  \t [ 8.88091806 -4.17890594]\t 115.61684392481342\t 19.17823960765822\t 7.001928830965521\t 7.267498616664886\n",
            "8  \t [-2.63331494  0.79061782]\t 154.6307852030617\t 19.17823960765822\t 6.701962038512217\t 6.767254981469034\n",
            "9  \t [-5.6245326  -3.53120189]\t 778.8344299801206\t 19.17823960765822\t 6.543868171308856\t 6.912572603606368\n",
            "10 \t [-1.96412324 -9.99863833]\t 1196.9896532862895\t 19.17823960765822\t 6.535339176660013\t 7.930840295686044\n",
            "11 \t [-0.08367683  7.29529934]\t 60.88202825517117\t 19.17823960765822\t 5.563867389772879\t 5.317048375211335\n",
            "12 \t [5.45266182 8.17690329]\t 417.5406216293943\t 19.17823960765822\t 6.828779973526812\t 7.566103254381777\n",
            "13 \t [ 4.5204559  -4.56996278]\t 135.29196994821294\t 19.17823960765822\t 6.540054006064041\t 7.337270245846898\n",
            "14 \t [10.          5.34869383]\t 601.6877695365517\t 19.17823960765822\t 6.946532477047415\t 6.801159585711074\n",
            "15 \t [-3.70111765  8.45037316]\t 54.05261001086089\t 19.17823960765822\t 6.819929854549616\t 8.01667665393283\n",
            "16 \t [-2.39621179  4.69868367]\t 25.946187591548874\t 19.17823960765822\t 6.607963403057083\t 7.6480749736945715\n",
            "17 \t [-8.10767123  0.09019132]\t 669.09595447081\t 19.17823960765822\t 5.693175563685514\t 5.693175563685514\n",
            "18 \t [-3.57069789 -5.01568782]\t 718.8109517085921\t 19.17823960765822\t 5.506590082545127\t 5.7252944096639045\n",
            "19 \t [-0.45280191 -3.39984251]\t 289.7247150292175\t 19.17823960765822\t 4.922612709303872\t 5.12487008294997\n",
            "20 \t [7.25828208 7.00737759]\t 476.7602434600968\t 19.17823960765822\t 6.386011339572529\t 7.060186417008429\n"
          ]
        }
      ],
      "source": [
        "### EXACT STP CBM GRADIENTS\n",
        "\n",
        "np.random.seed(run_num_10)\n",
        "surrogate_exact_10 = dtStudentProcess(cov_func, optimize=opt, nu = df)\n",
        "\n",
        "exact_10 = dGPGO(surrogate_exact_10, Acquisition_grad(util), objfunc, param)\n",
        "exact_10.run(init_evals=n_init, max_iter=iters)\n"
      ]
    },
    {
      "cell_type": "code",
      "execution_count": 44,
      "metadata": {
        "id": "VwbLIP9cIv-F",
        "colab": {
          "base_uri": "https://localhost:8080/"
        },
        "outputId": "65d26353-05fb-4054-ae07-11488e303cbb"
      },
      "outputs": [
        {
          "output_type": "stream",
          "name": "stdout",
          "text": [
            "Evaluation \t Proposed point \t  Current eval. \t  Best eval. \t        Exact CBM: StdDev. x \t Approx CBM: StdDev. x \n",
            "init\t [-6.39460622 -9.61049517]\t 1814.521116554919\t 5.483030044782123\t    \t    \n",
            "init\t [-0.73562947  4.49867858]\t 5.483030044782123\t 5.483030044782123\t    \t    \n",
            "init\t [-1.59592791 -0.29145804]\t 156.21779076814232\t 5.483030044782123\t    \t    \n",
            "init\t [-9.74438371 -0.25256785]\t 909.6795910034871\t 5.483030044782123\t    \t    \n",
            "init\t [8.83613305 7.01590179]\t 639.4153671589368\t 5.483030044782123\t    \t    \n",
            "1  \t [ 1.99086793 -8.88652641]\t 617.1328244256196\t 5.483030044782123\t 6.236878322481536\t 6.575541993575684\n",
            "2  \t [ 4.79903036 -1.6267314 ]\t 38.579631108734375\t 5.483030044782123\t 4.84257994158643\t 4.957248445464289\n",
            "3  \t [-3.72641694  8.61531845]\t 57.03140194376866\t 5.483030044782123\t 6.614590566299322\t 7.251564294168354\n",
            "4  \t [10.         -0.10715841]\t 229.55676130660711\t 5.483030044782123\t 6.050684372490336\t 6.47801965972605\n",
            "5  \t [-7.89611862  5.10567265]\t 268.0154091266694\t 5.483030044782123\t 6.391097266999821\t 6.475838013791013\n",
            "6  \t [-8.47917244 -4.4343425 ]\t 1289.392108733857\t 5.483030044782123\t 6.1997674852987705\t 6.518298404821001\n",
            "7  \t [ 8.69087926 -7.76523114]\t 212.84638298156062\t 5.483030044782123\t 7.743805010229566\t 7.612869448009893\n",
            "8  \t [2.17415841 8.99589382]\t 242.96798600584984\t 5.483030044782123\t 6.789993212598945\t 6.976178343503587\n",
            "9  \t [-2.87281928 -5.20426399]\t 665.7324379393863\t 5.483030044782123\t 7.5058765048269604\t 7.44804389454425\n",
            "10 \t [4.67782092 3.31572371]\t 77.41964299536777\t 5.483030044782123\t 7.6070608794034635\t 8.29241331043083\n",
            "11 \t [-7.89497913  9.93069682]\t 142.5888322586637\t 5.483030044782123\t 8.033498579303291\t 8.159170750808938\n",
            "12 \t [-4.17678254  2.94097375]\t 136.45733642942048\t 5.483030044782123\t 6.726758365275181\t 6.450414609482625\n",
            "13 \t [ 4.60178776 -5.49904335]\t 181.1390623782477\t 5.483030044782123\t 6.083731749043055\t 7.350564040433604\n",
            "14 \t [ 8.89559323 -3.88402056]\t 113.8232486871828\t 5.483030044782123\t 7.320119803196722\t 8.187040071595153\n",
            "15 \t [ -2.05586577 -10.        ]\t 1209.5016186539322\t 5.483030044782123\t 7.720223602598437\t 8.499643762996305\n",
            "16 \t [ 6.83341456 10.        ]\t 741.8148420148938\t 5.483030044782123\t 6.778339067285216\t 7.584078919263666\n",
            "17 \t [-5.220774   -1.53032601]\t 521.5664879463036\t 5.483030044782123\t 7.277118531871844\t 6.233687730786517\n",
            "18 \t [2.04751659 0.66899206]\t 13.120289145840092\t 5.483030044782123\t 7.254548361808467\t 7.223549472787896\n",
            "19 \t [-10. -10.]\t 2594.0\t 5.483030044782123\t 6.759253676626994\t 7.083970373827411\n",
            "20 \t [ 1.18136375 -3.42903518]\t 197.4989794412611\t 5.483030044782123\t 6.62612632472008\t 7.056220136786044\n"
          ]
        }
      ],
      "source": [
        "### EXACT STP CBM GRADIENTS\n",
        "\n",
        "np.random.seed(run_num_11)\n",
        "surrogate_exact_11 = dtStudentProcess(cov_func, optimize=opt, nu = df)\n",
        "\n",
        "exact_11 = dGPGO(surrogate_exact_11, Acquisition_grad(util), objfunc, param)\n",
        "exact_11.run(init_evals=n_init, max_iter=iters)\n"
      ]
    },
    {
      "cell_type": "code",
      "execution_count": 45,
      "metadata": {
        "id": "MlUNFjc-JTBY",
        "colab": {
          "base_uri": "https://localhost:8080/"
        },
        "outputId": "e95b9ce3-4eef-4be0-cbbb-1fb33fa6dfab"
      },
      "outputs": [
        {
          "output_type": "stream",
          "name": "stdout",
          "text": [
            "Evaluation \t Proposed point \t  Current eval. \t  Best eval. \t        Exact CBM: StdDev. x \t Approx CBM: StdDev. x \n",
            "init\t [-6.91674315  4.80099393]\t 215.5279554685742\t 189.34864056663108\t    \t    \n",
            "init\t [-4.7336997   0.67478787]\t 298.0661631184378\t 189.34864056663108\t    \t    \n",
            "init\t [-9.70850075  8.37494016]\t 257.3494442600599\t 189.34864056663108\t    \t    \n",
            "init\t [ 8.01429708 -9.33157145]\t 314.3616446198572\t 189.34864056663108\t    \t    \n",
            "init\t [ 9.13898673 -7.25581357]\t 189.34864056663108\t 189.34864056663108\t    \t    \n",
            "\u001b[1m\u001b[92m1\u001b[0m\t \u001b[1m\u001b[92m[4.66251955 4.05244711]\u001b[0m\t \u001b[1m\u001b[92m103.44533669968575\u001b[0m\t \u001b[1m\u001b[92m103.44533669968575\u001b[0m\t \u001b[1m\u001b[92m6.1867866702921726\u001b[0m\t \u001b[1m\u001b[92m5.908954858738014\u001b[0m\n",
            "2  \t [-3.75432006 -8.6025265 ]\t 1227.4078991356632\t 103.44533669968575\t 6.441320147257129\t 5.953406836391155\n",
            "3  \t [10. 10.]\t 1154.0\t 103.44533669968575\t 7.111854222192152\t 7.319865455537558\n",
            "4  \t [0.62006076 8.91956245]\t 157.93527468112498\t 103.44533669968575\t 6.160887076479776\t 6.107708485470022\n",
            "5  \t [ 8.15269188 -0.957369  ]\t 107.66212394211308\t 103.44533669968575\t 5.421394495974084\t 5.809709069182687\n",
            "6  \t [-10.          -4.05366715]\t 1474.4938099371298\t 103.44533669968575\t 6.6356365861380375\t 6.5784129234957955\n",
            "7  \t [ 1.43521821 -4.98171189]\t 291.69540726594124\t 103.44533669968575\t 6.393108814540566\t 6.927572218700112\n",
            "8  \t [-10. -10.]\t 2594.0\t 103.44533669968575\t 6.71094961941684\t 6.963364832563174\n",
            "\u001b[1m\u001b[92m9\u001b[0m\t \u001b[1m\u001b[92m[0.82227392 0.45984079]\u001b[0m\t \u001b[1m\u001b[92m36.03159715138105\u001b[0m\t \u001b[1m\u001b[92m36.03159715138105\u001b[0m\t \u001b[1m\u001b[92m5.110904887380519\u001b[0m\t \u001b[1m\u001b[92m6.427352547467723\u001b[0m\n",
            "10 \t [9.5875121  4.58878435]\t 490.4976373448856\t 36.03159715138105\t 5.121580562874423\t 6.426634226488982\n",
            "11 \t [-4.47181226  9.75119598]\t 82.0666674587271\t 36.03159715138105\t 5.246052750831367\t 5.827281721043176\n",
            "12 \t [  2.49751658 -10.        ]\t 700.4710547953075\t 36.03159715138105\t 5.436862017899647\t 6.592903613156734\n",
            "\u001b[1m\u001b[92m13\u001b[0m\t \u001b[1m\u001b[92m[-1.85955736  4.79969704]\u001b[0m\t \u001b[1m\u001b[92m15.909193384572596\u001b[0m\t \u001b[1m\u001b[92m15.909193384572596\u001b[0m\t \u001b[1m\u001b[92m5.2275733714215455\u001b[0m\t \u001b[1m\u001b[92m6.1990037931483135\u001b[0m\n",
            "14 \t [-10.           1.11189927]\t 788.9774857950431\t 15.909193384572596\t 5.0602998823415515\t 5.513664437009303\n",
            "15 \t [ 5.02187046 10.        ]\t 551.1019552913717\t 15.909193384572596\t 5.399498437931539\t 6.469839068735495\n",
            "16 \t [ 5.80725691 -4.48309797]\t 107.74697568228746\t 15.909193384572596\t 5.277581983360823\t 6.136804848242388\n",
            "17 \t [-3.02545636 -3.76449109]\t 527.6545033403071\t 15.909193384572596\t 4.718748971331323\t 5.736903840578595\n",
            "18 \t [0.8172095  5.59605692]\t 30.06834296111161\t 15.909193384572596\t 5.638416798454538\t 6.618815235608678\n",
            "19 \t [4.03707375 0.71391732]\t 16.705941286592456\t 15.909193384572596\t 5.764296613630602\t 6.8313302334273285\n",
            "20 \t [-0.30098617 -7.05954203]\t 619.1333545399625\t 15.909193384572596\t 5.223906935953314\t 5.223906935953314\n"
          ]
        }
      ],
      "source": [
        "### EXACT STP CBM GRADIENTS\n",
        "\n",
        "np.random.seed(run_num_12)\n",
        "surrogate_exact_12 = dtStudentProcess(cov_func, optimize=opt, nu = df)\n",
        "\n",
        "exact_12 = dGPGO(surrogate_exact_12, Acquisition_grad(util), objfunc, param)\n",
        "exact_12.run(init_evals=n_init, max_iter=iters)\n"
      ]
    },
    {
      "cell_type": "code",
      "execution_count": 46,
      "metadata": {
        "id": "9BsKdU9eJTFL",
        "colab": {
          "base_uri": "https://localhost:8080/"
        },
        "outputId": "807a8371-d0e2-43f1-da9f-2e78e0211422"
      },
      "outputs": [
        {
          "output_type": "stream",
          "name": "stdout",
          "text": [
            "Evaluation \t Proposed point \t  Current eval. \t  Best eval. \t        Exact CBM: StdDev. x \t Approx CBM: StdDev. x \n",
            "init\t [ 5.55404821 -5.2491756 ]\t 143.4041188295949\t 48.27231948835582\t    \t    \n",
            "init\t [6.48557065 9.31498396]\t 626.9828646177026\t 48.27231948835582\t    \t    \n",
            "init\t [ 9.45202228 -0.93101505]\t 168.64758529203058\t 48.27231948835582\t    \t    \n",
            "init\t [2.18084926 5.51053029]\t 62.202299160666314\t 48.27231948835582\t    \t    \n",
            "init\t [2.8322669  4.44036459]\t 48.27231948835582\t 48.27231948835582\t    \t    \n",
            "1  \t [-8.69830926  2.59657998]\t 502.3996877395562\t 48.27231948835582\t 5.663626512087345\t 6.304215979441472\n",
            "2  \t [-10. -10.]\t 2594.0\t 48.27231948835582\t 6.591939143418705\t 6.67876096896153\n",
            "3  \t [-2.15602907 -6.60875043]\t 754.0469861276626\t 48.27231948835582\t 6.455426727128719\t 6.571121785286727\n",
            "4  \t [-5.68974606  9.11900061]\t 83.49787226161779\t 48.27231948835582\t 6.2345497127708045\t 7.3218466655256496\n",
            "5  \t [-1.159575   -0.44930518]\t 142.39961804389145\t 48.27231948835582\t 7.523250701390103\t 7.655422108506221\n",
            "6  \t [-10.          -3.42393091]\t 1376.6403611149556\t 48.27231948835582\t 6.211098862321349\t 6.67037060493042\n",
            "7  \t [-0.37540556 10.        ]\t 177.43599095898506\t 48.27231948835582\t 6.9393408595399135\t 6.698031825440419\n",
            "8  \t [10.          4.67044008]\t 539.2235360025991\t 48.27231948835582\t 6.776777288634537\t 7.680385647241031\n",
            "9  \t [  2.72861376 -10.        ]\t 680.1646963884841\t 48.27231948835582\t 6.784143657629973\t 7.088010991616831\n",
            "\u001b[1m\u001b[92m10\u001b[0m\t \u001b[1m\u001b[92m[-3.02813054  4.51158278]\u001b[0m\t \u001b[1m\u001b[92m43.842768552929584\u001b[0m\t \u001b[1m\u001b[92m43.842768552929584\u001b[0m\t \u001b[1m\u001b[92m5.361479976664123\u001b[0m\t \u001b[1m\u001b[92m7.005825759782122\u001b[0m\n",
            "11 \t [ 9.9932252  -6.87877833]\t 181.6051781138766\t 43.842768552929584\t 6.484148167646147\t 7.484222390176232\n",
            "\u001b[1m\u001b[92m12\u001b[0m\t \u001b[1m\u001b[92m[ 3.94371487 -0.07665575]\u001b[0m\t \u001b[1m\u001b[92m18.201960941051354\u001b[0m\t \u001b[1m\u001b[92m18.201960941051354\u001b[0m\t \u001b[1m\u001b[92m6.49337014511741\u001b[0m\t \u001b[1m\u001b[92m7.43299544420573\u001b[0m\n",
            "13 \t [-9.76888267  7.24237387]\t 304.3478386202476\t 18.201960941051354\t 6.245221541977911\t 6.872433579845301\n",
            "14 \t [-5.55014843 -1.1888164 ]\t 521.7520902475708\t 18.201960941051354\t 6.40779742134846\t 6.206417514415552\n",
            "15 \t [5.97000039 3.26742286]\t 134.49482795883594\t 18.201960941051354\t 6.361233358117466\t 7.196982149938643\n",
            "16 \t [-5.27384922 -9.78401851]\t 1655.601603681007\t 18.201960941051354\t 6.640036358181118\t 7.435843338954727\n",
            "17 \t [-6.27287572 -5.27938964]\t 1088.9348459166526\t 18.201960941051354\t 7.086311449417581\t 7.873637938861314\n",
            "18 \t [ 1.49405511 -5.56751439]\t 334.36937241836443\t 18.201960941051354\t 4.681311281077719\t 5.853012421615354\n",
            "19 \t [10. 10.]\t 1154.0\t 18.201960941051354\t 5.810330791845048\t 6.879007649158918\n",
            "\u001b[1m\u001b[92m20\u001b[0m\t \u001b[1m\u001b[92m[0.1214015  3.05915692]\u001b[0m\t \u001b[1m\u001b[92m3.46137289168466\u001b[0m\t \u001b[1m\u001b[92m3.46137289168466\u001b[0m\t \u001b[1m\u001b[92m6.484740736488854\u001b[0m\t \u001b[1m\u001b[92m6.6475326278484275\u001b[0m\n"
          ]
        }
      ],
      "source": [
        "### EXACT STP CBM GRADIENTS\n",
        "\n",
        "np.random.seed(run_num_13)\n",
        "surrogate_exact_13 = dtStudentProcess(cov_func, optimize=opt, nu = df)\n",
        "\n",
        "exact_13 = dGPGO(surrogate_exact_13, Acquisition_grad(util), objfunc, param)\n",
        "exact_13.run(init_evals=n_init, max_iter=iters)\n"
      ]
    },
    {
      "cell_type": "code",
      "execution_count": 47,
      "metadata": {
        "id": "k6GjFBr1JTJf",
        "colab": {
          "base_uri": "https://localhost:8080/"
        },
        "outputId": "7bde8a4b-b94c-4497-c341-048655d4eb25"
      },
      "outputs": [
        {
          "output_type": "stream",
          "name": "stdout",
          "text": [
            "Evaluation \t Proposed point \t  Current eval. \t  Best eval. \t        Exact CBM: StdDev. x \t Approx CBM: StdDev. x \n",
            "init\t [0.27886688 5.46330104]\t 18.728481209446468\t 18.728481209446468\t    \t    \n",
            "init\t [ 7.40855371 -9.83906103]\t 371.31674613664467\t 18.728481209446468\t    \t    \n",
            "init\t [-3.80528149  9.15207479]\t 68.19416312981014\t 18.728481209446468\t    \t    \n",
            "init\t [ 0.26233425 -3.6343115 ]\t 261.94243460125864\t 18.728481209446468\t    \t    \n",
            "init\t [ 0.78399875 -5.57490115]\t 382.6954465291845\t 18.728481209446468\t    \t    \n",
            "1  \t [10.          0.51913786]\t 257.15131090438746\t 18.728481209446468\t 6.688044709183985\t 7.002557021190796\n",
            "2  \t [10. 10.]\t 1154.0\t 18.728481209446468\t 6.4763993009292395\t 6.493710499809596\n",
            "3  \t [-10. -10.]\t 2594.0\t 18.728481209446468\t 5.8255924240902255\t 6.430119082799308\n",
            "4  \t [-9.7098101  -2.29512968]\t 1167.3708202299758\t 18.728481209446468\t 5.1747931375058425\t 6.07181237547456\n",
            "5  \t [-6.34131578  3.00478309]\t 269.19378832019055\t 18.728481209446468\t 4.788685997138073\t 5.906683911911394\n",
            "6  \t [ -3.401357 -10.      ]\t 1399.600844468891\t 18.728481209446468\t 5.084335083376131\t 6.2953204808854\n",
            "7  \t [ 3.54638313 10.        ]\t 420.01779032184425\t 18.728481209446468\t 4.709570018679363\t 5.482466904309614\n",
            "8  \t [4.20889789 0.65099781]\t 18.772519406961777\t 18.728481209446468\t 5.536770160809953\t 5.909547101008879\n",
            "9  \t [-9.29199753  8.50964295]\t 227.76503994218652\t 18.728481209446468\t 5.939552576162651\t 6.985742097772977\n",
            "10 \t [ 8.51644954 -4.58087788]\t 113.98332703188544\t 18.728481209446468\t 4.9860626444932254\t 6.406540315477055\n",
            "11 \t [7.35285804 4.99526836]\t 323.1047582953717\t 18.728481209446468\t 5.8162168178349125\t 5.952589019986692\n",
            "12 \t [-4.47667285 -4.95880256]\t 815.3844819403857\t 18.728481209446468\t 4.940587227282704\t 6.043104605876485\n",
            "13 \t [-0.2213923   1.14158705]\t 42.886299134452656\t 18.728481209446468\t 5.2655169946854485\t 6.0530275309714385\n",
            "14 \t [  2.44196713 -10.        ]\t 705.4317642883484\t 18.728481209446468\t 5.485501265928723\t 6.816490417836623\n",
            "15 \t [-3.41522606 -0.65596076]\t 293.4364971754382\t 18.728481209446468\t 5.334661960447167\t 7.088400534744981\n",
            "16 \t [ 4.39544402 -2.73082532]\t 66.18742205262501\t 18.728481209446468\t 5.986042412482319\t 6.778622417487782\n",
            "17 \t [ 4.6602582  -6.30258978]\t 227.27928971401505\t 18.728481209446468\t 5.866142171753534\t 6.8333041579408915\n",
            "18 \t [-5.80356897  0.82082443]\t 373.7961552106341\t 18.728481209446468\t 5.117780946487352\t 5.491877041308758\n",
            "19 \t [-2.56573804  3.9214606 ]\t 41.5323900995803\t 18.728481209446468\t 5.657126334923504\t 6.056012054791823\n",
            "20 \t [-0.52423135 10.        ]\t 171.25945034409332\t 18.728481209446468\t 5.177092764607767\t 6.684985028601473\n"
          ]
        }
      ],
      "source": [
        "### EXACT STP CBM GRADIENTS\n",
        "\n",
        "np.random.seed(run_num_14)\n",
        "surrogate_exact_14 = dtStudentProcess(cov_func, optimize=opt, nu = df)\n",
        "\n",
        "exact_14 = dGPGO(surrogate_exact_14, Acquisition_grad(util), objfunc, param)\n",
        "exact_14.run(init_evals=n_init, max_iter=iters)\n"
      ]
    },
    {
      "cell_type": "code",
      "execution_count": 48,
      "metadata": {
        "id": "dPS8WB3aJTN6",
        "colab": {
          "base_uri": "https://localhost:8080/"
        },
        "outputId": "b75fe05a-7a6e-463e-b395-775f8c82275b"
      },
      "outputs": [
        {
          "output_type": "stream",
          "name": "stdout",
          "text": [
            "Evaluation \t Proposed point \t  Current eval. \t  Best eval. \t        Exact CBM: StdDev. x \t Approx CBM: StdDev. x \n",
            "init\t [ 6.97635395 -6.4220815 ]\t 171.98457986923216\t 171.98457986923216\t    \t    \n",
            "init\t [-8.91273571 -2.76923108]\t 1115.2426864421157\t 171.98457986923216\t    \t    \n",
            "init\t [-4.49198143  0.6000045 ]\t 285.0550378664367\t 171.98457986923216\t    \t    \n",
            "init\t [-3.88162169 -3.91051282]\t 627.8031621427792\t 171.98457986923216\t    \t    \n",
            "init\t [-7.76517448 -5.00201972]\t 1265.415808453521\t 171.98457986923216\t    \t    \n",
            "1  \t [10.          7.77646524]\t 862.9785985809189\t 171.98457986923216\t 6.802127295515984\t 7.2104296668652905\n",
            "2  \t [-9.69991687  7.99454818]\t 269.63866043864715\t 171.98457986923216\t 6.3416736061542425\t 6.977746444362696\n",
            "\u001b[1m\u001b[92m3\u001b[0m\t \u001b[1m\u001b[92m[1.73681759 5.94770992]\u001b[0m\t \u001b[1m\u001b[92m63.534865648721514\u001b[0m\t \u001b[1m\u001b[92m63.534865648721514\u001b[0m\t \u001b[1m\u001b[92m6.5210354836205\u001b[0m\t \u001b[1m\u001b[92m6.569521518036277\u001b[0m\n",
            "\u001b[1m\u001b[92m4\u001b[0m\t \u001b[1m\u001b[92m[ 2.46902528 -0.89638552]\u001b[0m\t \u001b[1m\u001b[92m40.90816628952518\u001b[0m\t \u001b[1m\u001b[92m40.90816628952518\u001b[0m\t \u001b[1m\u001b[92m6.0904437943756635\u001b[0m\t \u001b[1m\u001b[92m6.419098894135659\u001b[0m\n",
            "5  \t [-3.39889617 10.        ]\t 95.41325210365814\t 40.90816628952518\t 7.0918017901700665\t 7.206485080075786\n",
            "6  \t [8.43983691 0.89690426]\t 173.69741012690824\t 40.90816628952518\t 7.55396819381489\t 8.27326082780969\n",
            "7  \t [ 1.40102243 -8.52003426]\t 627.4017044455455\t 40.90816628952518\t 6.547706909237645\t 7.107249452588465\n",
            "8  \t [-10. -10.]\t 2594.0\t 40.90816628952518\t 7.691711424260107\t 7.791372366603238\n",
            "\u001b[1m\u001b[92m9\u001b[0m\t \u001b[1m\u001b[92m[-3.14810779  5.33400543]\u001b[0m\t \u001b[1m\u001b[92m35.81824904918167\u001b[0m\t \u001b[1m\u001b[92m35.81824904918167\u001b[0m\t \u001b[1m\u001b[92m4.943472842733906\u001b[0m\t \u001b[1m\u001b[92m6.237877633838714\u001b[0m\n",
            "10 \t [-1.20443234  2.08147282]\t 44.71471861249\t 35.81824904918167\t 6.342871950477741\t 6.488827465921913\n",
            "11 \t [-4.10811291 -9.51797329]\t 1425.5081320839145\t 35.81824904918167\t 6.080189669694845\t 7.187695080444851\n",
            "12 \t [ 4.85578135 10.        ]\t 535.259004347442\t 35.81824904918167\t 6.033677144827842\t 6.791263846863993\n",
            "13 \t [-10.           2.67678333]\t 633.9654123615381\t 35.81824904918167\t 6.246003359443224\t 7.804630140757622\n",
            "14 \t [10.         -3.18270689]\t 150.97442637080553\t 35.81824904918167\t 6.237180564387477\t 7.1248168817257005\n",
            "15 \t [5.91431833 4.84102482]\t 210.07854155285753\t 35.81824904918167\t 5.433247931529924\t 7.283095118780794\n",
            "16 \t [0.69404517 9.31973916]\t 184.69511919846514\t 35.81824904918167\t 6.397436778669771\t 7.602136409967133\n",
            "17 \t [ 2.31052174 -4.52662435]\t 212.92726746685065\t 35.81824904918167\t 6.124140538420328\t 7.124956271781885\n",
            "\u001b[1m\u001b[92m18\u001b[0m\t \u001b[1m\u001b[92m[2.93975683 2.40249576]\u001b[0m\t \u001b[1m\u001b[92m11.326235972187867\u001b[0m\t \u001b[1m\u001b[92m11.326235972187867\u001b[0m\t \u001b[1m\u001b[92m6.053859954513505\u001b[0m\t \u001b[1m\u001b[92m7.901338417296633\u001b[0m\n",
            "19 \t [6.23616491 3.12283239]\t 142.3079191472234\t 11.326235972187867\t 6.015402410528172\t 6.0150594690815655\n",
            "20 \t [ 6.13179736 -2.60460694]\t 58.64115868949084\t 11.326235972187867\t 6.070867506165918\t 7.193279452256518\n"
          ]
        }
      ],
      "source": [
        "### EXACT STP CBM GRADIENTS\n",
        "\n",
        "np.random.seed(run_num_15)\n",
        "surrogate_exact_15 = dtStudentProcess(cov_func, optimize=opt, nu = df)\n",
        "\n",
        "exact_15 = dGPGO(surrogate_exact_15, Acquisition_grad(util), objfunc, param)\n",
        "exact_15.run(init_evals=n_init, max_iter=iters)\n"
      ]
    },
    {
      "cell_type": "code",
      "execution_count": 49,
      "metadata": {
        "id": "lu8ki9XIQPPN",
        "colab": {
          "base_uri": "https://localhost:8080/"
        },
        "outputId": "b9d0f346-1383-4a9d-cd22-f3bfc7bd10b1"
      },
      "outputs": [
        {
          "output_type": "stream",
          "name": "stdout",
          "text": [
            "Evaluation \t Proposed point \t  Current eval. \t  Best eval. \t        Exact CBM: StdDev. x \t Approx CBM: StdDev. x \n",
            "init\t [-5.53417842  0.46326683]\t 378.2562509858209\t 182.86095429406956\t    \t    \n",
            "init\t [ 1.01402913 -9.087961  ]\t 729.2383206820605\t 182.86095429406956\t    \t    \n",
            "init\t [-2.78542329 -5.53838117]\t 694.7380078426447\t 182.86095429406956\t    \t    \n",
            "init\t [ 3.77452324 -6.7253715 ]\t 295.53799633399245\t 182.86095429406956\t    \t    \n",
            "init\t [-8.59350266  8.8202172 ]\t 182.86095429406956\t 182.86095429406956\t    \t    \n",
            "1  \t [10. 10.]\t 1154.0\t 182.86095429406956\t 6.923230081497905\t 7.020193559280766\n",
            "2  \t [-10. -10.]\t 2594.0\t 182.86095429406956\t 7.005323500232229\t 7.101586114983655\n",
            "3  \t [0.85375082 9.40301345]\t 197.60836624830344\t 182.86095429406956\t 5.759206592694512\t 6.579455923954136\n",
            "\u001b[1m\u001b[92m4\u001b[0m\t \u001b[1m\u001b[92m[ 8.8300141  -0.10570929]\u001b[0m\t \u001b[1m\u001b[92m160.2307750031207\u001b[0m\t \u001b[1m\u001b[92m160.2307750031207\u001b[0m\t \u001b[1m\u001b[92m5.804828928958052\u001b[0m\t \u001b[1m\u001b[92m5.939519589825106\u001b[0m\n",
            "\u001b[1m\u001b[92m5\u001b[0m\t \u001b[1m\u001b[92m[-2.22531694  5.42968011]\u001b[0m\t \u001b[1m\u001b[92m18.838166667692633\u001b[0m\t \u001b[1m\u001b[92m18.838166667692633\u001b[0m\t \u001b[1m\u001b[92m5.6549047042387315\u001b[0m\t \u001b[1m\u001b[92m5.715641521108382\u001b[0m\n",
            "6  \t [-10.          -3.58055936]\t 1400.6080318685642\t 18.838166667692633\t 6.656847468261204\t 7.188317224906754\n",
            "7  \t [ 0.85151579 -0.54870134]\t 67.29205241926621\t 18.838166667692633\t 5.472433835033256\t 5.770978412970612\n",
            "8  \t [5.10176193 9.89340317]\t 547.918080328353\t 18.838166667692633\t 5.1048650485299625\t 5.943660498233187\n",
            "9  \t [2.64752221 4.44761391]\t 43.12938594475042\t 18.838166667692633\t 5.754360271517577\t 6.543766303454562\n",
            "10 \t [ 9.2053108  -5.50551292]\t 140.0313607139442\t 18.838166667692633\t 5.602635541512519\t 7.326917285433117\n",
            "11 \t [7.31913169 5.14325648]\t 330.97302751149755\t 18.838166667692633\t 5.632695635522692\t 6.4037696722540245\n",
            "12 \t [ -4.78287443 -10.        ]\t 1613.627123371637\t 18.838166667692633\t 6.089311803882312\t 8.115074908535204\n",
            "13 \t [-4.48621833  9.55159674]\t 77.56213605664456\t 18.838166667692633\t 4.9858279173434825\t 5.166739274312291\n",
            "14 \t [ 5.04400836 -3.2776503 ]\t 75.71952205814797\t 18.838166667692633\t 4.650380469504849\t 5.1850606587054\n",
            "15 \t [-9.90000031  1.10932745]\t 776.7898978289265\t 18.838166667692633\t 5.203845680416812\t 5.997521547390108\n",
            "16 \t [4.03199586 1.42038034]\t 20.125783681826647\t 18.838166667692633\t 5.1263528974727475\t 5.490962220995668\n",
            "17 \t [-5.87257526  4.66741697]\t 158.387261352736\t 18.838166667692633\t 5.591418058551439\t 7.019087555554182\n",
            "18 \t [0.01527365 7.31154464]\t 63.82998293320609\t 18.838166667692633\t 5.5097519142193185\t 5.425829117442721\n",
            "\u001b[1m\u001b[92m19\u001b[0m\t \u001b[1m\u001b[92m[-0.82570721  3.03748174]\u001b[0m\t \u001b[1m\u001b[92m16.125613058185525\u001b[0m\t \u001b[1m\u001b[92m16.125613058185525\u001b[0m\t \u001b[1m\u001b[92m5.139818371055755\u001b[0m\t \u001b[1m\u001b[92m5.058735988441022\u001b[0m\n",
            "20 \t [-7.24447087 -3.35426366]\t 960.8401655422894\t 16.125613058185525\t 6.133059293899863\t 6.2103859122623435\n"
          ]
        }
      ],
      "source": [
        "### EXACT STP CBM GRADIENTS\n",
        "\n",
        "np.random.seed(run_num_16)\n",
        "surrogate_exact_16 = dtStudentProcess(cov_func, optimize=opt, nu = df)\n",
        "\n",
        "exact_16 = dGPGO(surrogate_exact_16, Acquisition_grad(util), objfunc, param)\n",
        "exact_16.run(init_evals=n_init, max_iter=iters)\n"
      ]
    },
    {
      "cell_type": "code",
      "execution_count": 50,
      "metadata": {
        "id": "yU2SflSsJTUs",
        "colab": {
          "base_uri": "https://localhost:8080/"
        },
        "outputId": "63306346-b810-40df-f9bc-31a2022c3f01"
      },
      "outputs": [
        {
          "output_type": "stream",
          "name": "stdout",
          "text": [
            "Evaluation \t Proposed point \t  Current eval. \t  Best eval. \t        Exact CBM: StdDev. x \t Approx CBM: StdDev. x \n",
            "init\t [-4.10669995  0.61173511]\t 256.4801849765532\t 5.553508838684786\t    \t    \n",
            "init\t [-6.16958426 -8.64199284]\t 1602.4406672130797\t 5.553508838684786\t    \t    \n",
            "init\t [5.7397092  3.12667044]\t 117.20749172761734\t 5.553508838684786\t    \t    \n",
            "init\t [2.75041792 1.51205788]\t 5.553508838684786\t 5.553508838684786\t    \t    \n",
            "init\t [-9.21874168 -2.84372791]\t 1170.583554210921\t 5.553508838684786\t    \t    \n",
            "1  \t [-1.54615869  8.80991413]\t 82.84642438842135\t 5.553508838684786\t 7.349257478773271\t 7.84631961434781\n",
            "2  \t [ 4.54825031 -8.71744454]\t 416.8315243674168\t 5.553508838684786\t 6.057687288779679\t 6.325321651546955\n",
            "3  \t [10. 10.]\t 1154.0\t 5.553508838684786\t 5.920612586256522\t 6.648523983684186\n",
            "4  \t [10.         -3.88956914]\t 146.2818365839019\t 5.553508838684786\t 6.714122668879364\t 7.407138975549785\n",
            "5  \t [ 2.96272669 -3.09659438]\t 109.37620735904879\t 5.553508838684786\t 5.211715545027749\t 5.77572264443096\n",
            "6  \t [-7.6923545   8.07369623]\t 153.67817095858152\t 5.553508838684786\t 6.260695057067509\t 7.091783941028703\n",
            "7  \t [4.27892921 9.51746776]\t 437.10633661212574\t 5.553508838684786\t 5.859831801191133\t 6.527477696101239\n",
            "8  \t [-1.02859872 -9.21677652]\t 965.0877045352898\t 5.553508838684786\t 6.392843161097434\t 7.405199459132527\n",
            "9  \t [ 9.72654836 -8.86895156]\t 256.5234487318985\t 5.553508838684786\t 6.835402214218155\t 7.82921202880664\n",
            "10 \t [-3.38704852 -5.03645381]\t 701.2044254856912\t 5.553508838684786\t 5.17981445130761\t 5.796465241179606\n",
            "11 \t [-9.01223929  2.52843881]\t 540.1075953513343\t 5.553508838684786\t 6.264821388930631\t 6.33547349674899\n",
            "12 \t [10.          5.03641096]\t 572.3564371732713\t 5.553508838684786\t 6.277919996194181\t 6.825272840914239\n",
            "13 \t [-0.74405738  4.05235626]\t 6.062991634075658\t 5.553508838684786\t 5.349215259721842\t 6.61623287127971\n",
            "14 \t [10.          0.42212996]\t 252.6204268254915\t 5.553508838684786\t 6.0012611406544085\t 6.915196445474522\n",
            "15 \t [-0.15134496 -0.55079853]\t 102.37437904679564\t 5.553508838684786\t 6.185426749846469\t 6.79349709454844\n",
            "16 \t [2.22616828 5.69217397]\t 70.16491339361679\t 5.553508838684786\t 6.362846253258449\t 5.772642775361577\n",
            "17 \t [-10. -10.]\t 2594.0\t 5.553508838684786\t 5.861551501513532\t 5.82608542843865\n",
            "18 \t [-3.86931144  5.91714262]\t 47.46376726814239\t 5.553508838684786\t 5.776613390730356\t 7.140983573586446\n",
            "19 \t [ 6.34908849 -2.54466634]\t 59.50907532173507\t 5.553508838684786\t 5.29158432150512\t 5.6121570741508435\n",
            "20 \t [-6.34452643  2.56643502]\t 296.1248710666568\t 5.553508838684786\t 5.850474314731185\t 5.824500294239371\n"
          ]
        }
      ],
      "source": [
        "### EXACT STP CBM GRADIENTS\n",
        "\n",
        "np.random.seed(run_num_17)\n",
        "surrogate_exact_17 = dtStudentProcess(cov_func, optimize=opt, nu = df)\n",
        "\n",
        "exact_17 = dGPGO(surrogate_exact_17, Acquisition_grad(util), objfunc, param)\n",
        "exact_17.run(init_evals=n_init, max_iter=iters)\n"
      ]
    },
    {
      "cell_type": "code",
      "execution_count": 51,
      "metadata": {
        "id": "eVEhyZ9BQS-1",
        "colab": {
          "base_uri": "https://localhost:8080/"
        },
        "outputId": "7a4a0db6-74cc-487f-b7a3-9c21181a3fa5"
      },
      "outputs": [
        {
          "output_type": "stream",
          "name": "stdout",
          "text": [
            "Evaluation \t Proposed point \t  Current eval. \t  Best eval. \t        Exact CBM: StdDev. x \t Approx CBM: StdDev. x \n",
            "init\t [3.00748483 0.10906747]\t 15.509405515253864\t 15.509405515253864\t    \t    \n",
            "init\t [ 7.57202942 -6.36319549]\t 162.0234327224751\t 15.509405515253864\t    \t    \n",
            "init\t [7.04466137 5.00272572]\t 299.59059770472754\t 15.509405515253864\t    \t    \n",
            "init\t [3.32203335 9.75790897]\t 380.8425822546991\t 15.509405515253864\t    \t    \n",
            "init\t [-4.86063155 -9.43388149]\t 1527.7052410059514\t 15.509405515253864\t    \t    \n",
            "1  \t [-6.1664519   4.28513481]\t 191.3691670751314\t 15.509405515253864\t 7.19613242516838\t 7.584157876681993\n",
            "2  \t [-6.07110106 -2.27098711]\t 687.0923366704285\t 15.509405515253864\t 6.425595041491116\t 6.329968626460183\n",
            "3  \t [6.31975365 3.18761398]\t 149.65937068607042\t 15.509405515253864\t 5.359806725699657\t 5.359806725699657\n",
            "4  \t [ 0.41417697 -5.97680283]\t 446.7014310301307\t 15.509405515253864\t 7.006057057362629\t 7.304748517171825\n",
            "5  \t [10. 10.]\t 1154.0\t 15.509405515253864\t 7.59276817209939\t 8.04924939466791\n",
            "\u001b[1m\u001b[92m6\u001b[0m\t \u001b[1m\u001b[92m[-0.42278141  5.16116139]\u001b[0m\t \u001b[1m\u001b[92m8.87574549579581\u001b[0m\t \u001b[1m\u001b[92m8.87574549579581\u001b[0m\t \u001b[1m\u001b[92m5.979813483443992\u001b[0m\t \u001b[1m\u001b[92m6.837897818143413\u001b[0m\n",
            "7  \t [10.        -1.1415504]\t 192.57056973556794\t 8.87574549579581\t 5.9244989777068415\t 7.546938649004101\n",
            "8  \t [-10. -10.]\t 2594.0\t 8.87574549579581\t 5.4922868684056585\t 7.889049495182375\n",
            "9  \t [-4.02171134  9.04985869]\t 66.04672275114321\t 8.87574549579581\t 5.919884401256372\t 7.06864045622532\n",
            "10 \t [-9.69289674  8.4893621 ]\t 252.77822825688602\t 8.87574549579581\t 6.258211945942017\t 7.476580122375409\n",
            "11 \t [  3.90346919 -10.        ]\t 585.1898706521481\t 8.87574549579581\t 5.695710254295804\t 7.240681659949454\n",
            "12 \t [-2.01489382  1.13509881]\t 107.81703867510635\t 8.87574549579581\t 4.896148166869258\t 6.656217499309687\n",
            "13 \t [ 5.89173847 -2.62957812]\t 57.798884485513724\t 8.87574549579581\t 5.362001472054286\t 7.447876542263694\n",
            "14 \t [-8.34891436 -5.80334666]\t 1482.9194329702623\t 8.87574549579581\t 5.043738791332128\t 6.126742548504528\n",
            "15 \t [ -0.10462011 -10.        ]\t 965.9814195188245\t 8.87574549579581\t 5.6261353297824535\t 6.013007918591398\n",
            "16 \t [-9.95259044 -0.95385892]\t 1024.4011673188388\t 8.87574549579581\t 5.191142023315022\t 6.501519936773119\n",
            "17 \t [-9.98157456  3.634041  ]\t 549.2827908375795\t 8.87574549579581\t 6.21989948938472\t 6.716333943802201\n",
            "18 \t [-0.52380568 10.        ]\t 171.27680086034627\t 8.87574549579581\t 5.853097382611399\t 6.676629625779819\n",
            "19 \t [3.0385972  5.32563427]\t 85.75051852799443\t 8.87574549579581\t 5.319203719988847\t 5.9380924753356075\n",
            "20 \t [ 1.74286889 -5.14737398]\t 286.23833984861335\t 8.87574549579581\t 5.83864340915661\t 5.9854001785833715\n"
          ]
        }
      ],
      "source": [
        "### EXACT STP CBM GRADIENTS\n",
        "\n",
        "np.random.seed(run_num_18)\n",
        "surrogate_exact_18 = dtStudentProcess(cov_func, optimize=opt, nu = df)\n",
        "\n",
        "exact_18 = dGPGO(surrogate_exact_18, Acquisition_grad(util), objfunc, param)\n",
        "exact_18.run(init_evals=n_init, max_iter=iters)\n"
      ]
    },
    {
      "cell_type": "code",
      "execution_count": 52,
      "metadata": {
        "id": "B6gTz1ojQUxn",
        "colab": {
          "base_uri": "https://localhost:8080/"
        },
        "outputId": "2afe652b-c848-432e-cf0c-1a55fe792172"
      },
      "outputs": [
        {
          "output_type": "stream",
          "name": "stdout",
          "text": [
            "Evaluation \t Proposed point \t  Current eval. \t  Best eval. \t        Exact CBM: StdDev. x \t Approx CBM: StdDev. x \n",
            "init\t [-8.04932797  5.22499433]\t 273.1270544592675\t 139.9227861892117\t    \t    \n",
            "init\t [-5.06124054 -7.23736625]\t 1204.1206373978957\t 139.9227861892117\t    \t    \n",
            "init\t [-3.37106873 -8.3400087 ]\t 1135.0538557997047\t 139.9227861892117\t    \t    \n",
            "init\t [3.43954163 6.13187596]\t 139.9227861892117\t 139.9227861892117\t    \t    \n",
            "init\t [9.65483829 2.7132147 ]\t 355.08571481298065\t 139.9227861892117\t    \t    \n",
            "1  \t [ 9.42739537 -7.28680447]\t 190.6689475777885\t 139.9227861892117\t 7.04359122598267\t 7.356523091548286\n",
            "2  \t [10. 10.]\t 1154.0\t 139.9227861892117\t 7.316336967421884\t 6.792177723235616\n",
            "3  \t [ 1.19601233 -3.03912179]\t 173.07712550836953\t 139.9227861892117\t 5.467278312914244\t 6.147454337387862\n",
            "4  \t [-9.64931371 -1.76781368]\t 1086.8911967373488\t 139.9227861892117\t 6.221433391768954\t 5.767699141129516\n",
            "\u001b[1m\u001b[92m5\u001b[0m\t \u001b[1m\u001b[92m[-2.78451067  8.11936875]\u001b[0m\t \u001b[1m\u001b[92m47.657841707764945\u001b[0m\t \u001b[1m\u001b[92m47.657841707764945\u001b[0m\t \u001b[1m\u001b[92m5.841277835571671\u001b[0m\t \u001b[1m\u001b[92m7.202562852925922\u001b[0m\n",
            "6  \t [ 3.9560751  -9.51574431]\t 530.9313371884657\t 47.657841707764945\t 6.365014320910065\t 6.471940534518215\n",
            "\u001b[1m\u001b[92m7\u001b[0m\t \u001b[1m\u001b[92m[-1.12109466  2.4509649 ]\u001b[0m\t \u001b[1m\u001b[92m33.31885394040785\u001b[0m\t \u001b[1m\u001b[92m33.31885394040785\u001b[0m\t \u001b[1m\u001b[92m6.319193281937462\u001b[0m\t \u001b[1m\u001b[92m6.923988716876089\u001b[0m\n",
            "8  \t [-10. -10.]\t 2594.0\t 33.31885394040785\t 6.377548666203299\t 6.80321875341717\n",
            "\u001b[1m\u001b[92m9\u001b[0m\t \u001b[1m\u001b[92m[4.50479845 0.98936043]\u001b[0m\t \u001b[1m\u001b[92m25.256326587598988\u001b[0m\t \u001b[1m\u001b[92m25.256326587598988\u001b[0m\t \u001b[1m\u001b[92m5.111754387565807\u001b[0m\t \u001b[1m\u001b[92m5.943620053607444\u001b[0m\n",
            "10 \t [ 7.59131751 -2.41981543]\t 78.30953441590034\t 25.256326587598988\t 6.5408828878415735\t 6.605675744078676\n",
            "11 \t [-3.92267444 -1.70000506]\t 416.7066140046228\t 25.256326587598988\t 5.036880978334848\t 7.745251435976743\n",
            "12 \t [ 4.64682636 -5.04128492]\t 155.20666963553128\t 25.256326587598988\t 5.660531551095573\t 6.46664422922248\n",
            "13 \t [-4.85680369  2.75190837]\t 183.44268661123402\t 25.256326587598988\t 5.662886447911074\t 6.760664761245103\n",
            "14 \t [ 3.11538192 10.        ]\t 385.8355908367346\t 25.256326587598988\t 4.7693800186897\t 7.450950330400302\n",
            "15 \t [-7.0096606 10.       ]\t 117.23232101964385\t 25.256326587598988\t 5.755729108647935\t 7.034401454573791\n",
            "16 \t [7.62906398 6.15370803]\t 436.7008768237105\t 25.256326587598988\t 5.145279312879274\t 6.634868563449846\n",
            "17 \t [ 0.46720939 -6.62605288]\t 505.753164075342\t 25.256326587598988\t 5.321588027440183\t 6.531922885991645\n",
            "\u001b[1m\u001b[92m18\u001b[0m\t \u001b[1m\u001b[92m[-0.17749314  5.57793954]\u001b[0m\t \u001b[1m\u001b[92m15.877262821354305\u001b[0m\t \u001b[1m\u001b[92m15.877262821354305\u001b[0m\t \u001b[1m\u001b[92m5.824586451878679\u001b[0m\t \u001b[1m\u001b[92m8.251655084796585\u001b[0m\n",
            "\u001b[1m\u001b[92m19\u001b[0m\t \u001b[1m\u001b[92m[1.58675745 3.36770526]\u001b[0m\t \u001b[1m\u001b[92m4.1234877594454895\u001b[0m\t \u001b[1m\u001b[92m4.1234877594454895\u001b[0m\t \u001b[1m\u001b[92m5.107330690550416\u001b[0m\t \u001b[1m\u001b[92m5.402214030862528\u001b[0m\n",
            "20 \t [-0.29336435 10.        ]\t 180.93555300604163\t 4.1234877594454895\t 5.139439407108025\t 6.313972471095885\n"
          ]
        }
      ],
      "source": [
        "### EXACT STP CBM GRADIENTS\n",
        "\n",
        "np.random.seed(run_num_19)\n",
        "surrogate_exact_19 = dtStudentProcess(cov_func, optimize=opt, nu = df)\n",
        "\n",
        "exact_19 = dGPGO(surrogate_exact_19, Acquisition_grad(util), objfunc, param)\n",
        "exact_19.run(init_evals=n_init, max_iter=iters)\n"
      ]
    },
    {
      "cell_type": "code",
      "execution_count": 53,
      "metadata": {
        "id": "aw3xvSryIwDi",
        "colab": {
          "base_uri": "https://localhost:8080/"
        },
        "outputId": "cb2ea9a1-cc60-425b-cd25-13e82b3f4544"
      },
      "outputs": [
        {
          "output_type": "stream",
          "name": "stdout",
          "text": [
            "Evaluation \t Proposed point \t  Current eval. \t  Best eval. \t        Exact CBM: StdDev. x \t Approx CBM: StdDev. x \n",
            "init\t [1.76261602 7.95427456]\t 155.85777119682857\t 155.85777119682857\t    \t    \n",
            "init\t [7.83061459 6.31674955]\t 469.53411882784934\t 155.85777119682857\t    \t    \n",
            "init\t [-9.28220829  3.83515164]\t 463.4088031056881\t 155.85777119682857\t    \t    \n",
            "init\t [-2.42638116  0.37021891]\t 165.36424127801376\t 155.85777119682857\t    \t    \n",
            "init\t [ 3.15902931 -6.12299564]\t 281.877765303078\t 155.85777119682857\t    \t    \n",
            "1  \t [-10. -10.]\t 2594.0\t 155.85777119682857\t 6.161648300957465\t 5.801590536855057\n",
            "2  \t [-4.01456245 -6.6872889 ]\t 983.5671351372825\t 155.85777119682857\t 6.094552225177287\t 6.793679655086789\n",
            "\u001b[1m\u001b[92m3\u001b[0m\t \u001b[1m\u001b[92m[ 8.98146262 -1.73562936]\u001b[0m\t \u001b[1m\u001b[92m128.27166522231218\u001b[0m\t \u001b[1m\u001b[92m128.27166522231218\u001b[0m\t \u001b[1m\u001b[92m5.462712834655573\u001b[0m\t \u001b[1m\u001b[92m6.581727312228437\u001b[0m\n",
            "\u001b[1m\u001b[92m4\u001b[0m\t \u001b[1m\u001b[92m[-0.39896431  4.19837526]\u001b[0m\t \u001b[1m\u001b[92m3.554148266273133\u001b[0m\t \u001b[1m\u001b[92m3.554148266273133\u001b[0m\t \u001b[1m\u001b[92m5.749248791142447\u001b[0m\t \u001b[1m\u001b[92m6.9432323854398765\u001b[0m\n",
            "5  \t [-8.34422047  9.84492306]\t 159.15337789033524\t 3.554148266273133\t 6.545840507326709\t 7.374214521788286\n",
            "6  \t [ 8.09836783 -9.7261453 ]\t 339.0291170140399\t 3.554148266273133\t 6.751214050102342\t 7.891041656834796\n",
            "7  \t [-7.81286775 -2.54055851]\t 932.4478071574504\t 3.554148266273133\t 6.884228357326744\t 7.5779891976460805\n",
            "8  \t [-3.08808353 10.        ]\t 99.62945708008152\t 3.554148266273133\t 6.144320557619046\t 6.508727967852041\n",
            "9  \t [3.65891784 2.8707698 ]\t 32.68382268526891\t 3.554148266273133\t 6.937830163276451\t 7.711229942757201\n",
            "10 \t [ 2.25783711 -1.03803353]\t 48.80583746710118\t 3.554148266273133\t 6.404356842990004\t 6.753729827845063\n",
            "11 \t [-4.80905596  5.77929746]\t 78.18737160913446\t 3.554148266273133\t 7.396755558034638\t 7.289422103052079\n",
            "12 \t [  0.20188025 -10.        ]\t 931.1894296904115\t 3.554148266273133\t 6.560929783505723\t 7.211330481555545\n",
            "13 \t [10.          2.43086305]\t 365.64172420482225\t 3.554148266273133\t 7.251318267112383\t 8.390873790744006\n",
            "14 \t [10. 10.]\t 1154.0\t 3.554148266273133\t 6.55871545261527\t 6.8515477416833095\n",
            "15 \t [ 5.42628323 10.        ]\t 590.8317766992059\t 3.554148266273133\t 4.780989792245398\t 6.020517336303098\n",
            "16 \t [-0.55698105 -3.72829194]\t 322.2770965151615\t 3.554148266273133\t 5.2097259552093735\t 6.636291519394074\n",
            "17 \t [ 8.15396753 -5.60915878]\t 133.76719272604436\t 3.554148266273133\t 5.52787215229665\t 5.476132826754992\n",
            "18 \t [-6.37726962 -9.15432809]\t 1728.085034995657\t 3.554148266273133\t 6.045524111396128\t 6.391912304671006\n",
            "19 \t [  4.26114629 -10.        ]\t 559.0161615452362\t 3.554148266273133\t 5.570946862365003\t 5.754259177543635\n",
            "20 \t [ 3.12894682 -8.39318261]\t 477.6412830540284\t 3.554148266273133\t 4.934556478087081\t 4.9345568027534545\n"
          ]
        }
      ],
      "source": [
        "### EXACT STP CBM GRADIENTS\n",
        "\n",
        "np.random.seed(run_num_20)\n",
        "surrogate_exact_20 = dtStudentProcess(cov_func, optimize=opt, nu = df)\n",
        "\n",
        "exact_20 = dGPGO(surrogate_exact_20, Acquisition_grad(util), objfunc, param)\n",
        "exact_20.run(init_evals=n_init, max_iter=iters)\n"
      ]
    },
    {
      "cell_type": "code",
      "execution_count": 54,
      "metadata": {
        "id": "5c8szjivRPme",
        "colab": {
          "base_uri": "https://localhost:8080/"
        },
        "outputId": "6e3c77b6-32ad-4f0f-b573-847051a1e677"
      },
      "outputs": [
        {
          "output_type": "execute_result",
          "data": {
            "text/plain": [
              "632.692994594574"
            ]
          },
          "metadata": {},
          "execution_count": 54
        }
      ],
      "source": [
        "end_exact = time.time()\n",
        "end_exact\n",
        "\n",
        "time_exact = end_exact - start_exact\n",
        "time_exact\n"
      ]
    },
    {
      "cell_type": "code",
      "execution_count": 55,
      "metadata": {
        "id": "f6gCKnp6RR8c",
        "colab": {
          "base_uri": "https://localhost:8080/"
        },
        "outputId": "12b56f02-a5e9-4016-c86e-3f1232d4a95d"
      },
      "outputs": [
        {
          "output_type": "execute_result",
          "data": {
            "text/plain": [
              "(2.7299558909701913, 2.465776283535598)"
            ]
          },
          "metadata": {},
          "execution_count": 55
        }
      ],
      "source": [
        "### Simple regret minimization: run number = 1\n",
        "\n",
        "approx_output_1 = np.append(np.min(-approx_1.GP.y[0:n_init]),-approx_1.GP.y[n_init:(n_init+iters)]) \n",
        "exact_output_1 = np.append(np.min(-exact_1.GP.y[0:n_init]),-exact_1.GP.y[n_init:(n_init+iters)]) \n",
        "\n",
        "regret_approx_1 = np.log(approx_output_1 - y_global_orig)\n",
        "regret_exact_1 = np.log(exact_output_1 - y_global_orig)\n",
        "\n",
        "simple_regret_approx_1 = min_max_array(regret_approx_1)\n",
        "simple_regret_exact_1 = min_max_array(regret_exact_1)\n",
        "\n",
        "min_simple_regret_approx_1 = min(simple_regret_approx_1)\n",
        "min_simple_regret_exact_1 = min(simple_regret_exact_1)\n",
        "\n",
        "min_simple_regret_approx_1, min_simple_regret_exact_1\n"
      ]
    },
    {
      "cell_type": "code",
      "execution_count": 56,
      "metadata": {
        "id": "94yBw5tqQxfk",
        "colab": {
          "base_uri": "https://localhost:8080/"
        },
        "outputId": "c671441e-af52-413f-f699-2a6a24d1687a"
      },
      "outputs": [
        {
          "output_type": "execute_result",
          "data": {
            "text/plain": [
              "(1.3968371765127963, 0.8067586997701427)"
            ]
          },
          "metadata": {},
          "execution_count": 56
        }
      ],
      "source": [
        "### Simple regret minimization: run number = 2\n",
        "\n",
        "approx_output_2 = np.append(np.min(-approx_2.GP.y[0:n_init]),-approx_2.GP.y[n_init:(n_init+iters)]) \n",
        "exact_output_2 = np.append(np.min(-exact_2.GP.y[0:n_init]),-exact_2.GP.y[n_init:(n_init+iters)]) \n",
        "\n",
        "regret_approx_2 = np.log(approx_output_2 - y_global_orig)\n",
        "regret_exact_2 = np.log(exact_output_2 - y_global_orig)\n",
        "\n",
        "simple_regret_approx_2 = min_max_array(regret_approx_2)\n",
        "simple_regret_exact_2 = min_max_array(regret_exact_2)\n",
        "\n",
        "min_simple_regret_approx_2 = min(simple_regret_approx_2)\n",
        "min_simple_regret_exact_2 = min(simple_regret_exact_2)\n",
        "\n",
        "min_simple_regret_approx_2, min_simple_regret_exact_2\n"
      ]
    },
    {
      "cell_type": "code",
      "execution_count": 57,
      "metadata": {
        "id": "Bu6SBWALQxfl",
        "colab": {
          "base_uri": "https://localhost:8080/"
        },
        "outputId": "63645913-6e63-4cd8-bff5-d34c26be2f89"
      },
      "outputs": [
        {
          "output_type": "execute_result",
          "data": {
            "text/plain": [
              "(1.9332706053762703, 1.9332706053762703)"
            ]
          },
          "metadata": {},
          "execution_count": 57
        }
      ],
      "source": [
        "### Simple regret minimization: run number = 3\n",
        "\n",
        "approx_output_3 = np.append(np.min(-approx_3.GP.y[0:n_init]),-approx_3.GP.y[n_init:(n_init+iters)]) \n",
        "exact_output_3 = np.append(np.min(-exact_3.GP.y[0:n_init]),-exact_3.GP.y[n_init:(n_init+iters)]) \n",
        "\n",
        "regret_approx_3 = np.log(approx_output_3 - y_global_orig)\n",
        "regret_exact_3 = np.log(exact_output_3 - y_global_orig)\n",
        "\n",
        "simple_regret_approx_3 = min_max_array(regret_approx_3)\n",
        "simple_regret_exact_3 = min_max_array(regret_exact_3)\n",
        "\n",
        "min_simple_regret_approx_3 = min(simple_regret_approx_3)\n",
        "min_simple_regret_exact_3 = min(simple_regret_exact_3)\n",
        "\n",
        "min_simple_regret_approx_3, min_simple_regret_exact_3"
      ]
    },
    {
      "cell_type": "code",
      "execution_count": 58,
      "metadata": {
        "id": "AZm0jgxkQxfm",
        "colab": {
          "base_uri": "https://localhost:8080/"
        },
        "outputId": "e286c916-b992-4614-ce54-b42209bbd5ed"
      },
      "outputs": [
        {
          "output_type": "execute_result",
          "data": {
            "text/plain": [
              "(3.1384581323758596, 2.8885177398209847)"
            ]
          },
          "metadata": {},
          "execution_count": 58
        }
      ],
      "source": [
        "### Simple regret minimization: run number = 4\n",
        "\n",
        "approx_output_4 = np.append(np.min(-approx_4.GP.y[0:n_init]),-approx_4.GP.y[n_init:(n_init+iters)]) \n",
        "exact_output_4 = np.append(np.min(-exact_4.GP.y[0:n_init]),-exact_4.GP.y[n_init:(n_init+iters)]) \n",
        "\n",
        "regret_approx_4 = np.log(approx_output_4 - y_global_orig)\n",
        "regret_exact_4 = np.log(exact_output_4 - y_global_orig)\n",
        "\n",
        "simple_regret_approx_4 = min_max_array(regret_approx_4)\n",
        "simple_regret_exact_4 = min_max_array(regret_exact_4)\n",
        "\n",
        "min_simple_regret_approx_4 = min(simple_regret_approx_4)\n",
        "min_simple_regret_exact_4 = min(simple_regret_exact_4)\n",
        "\n",
        "min_simple_regret_approx_4, min_simple_regret_exact_4"
      ]
    },
    {
      "cell_type": "code",
      "execution_count": 59,
      "metadata": {
        "id": "NONPm8JIQxfn",
        "colab": {
          "base_uri": "https://localhost:8080/"
        },
        "outputId": "47b8bf73-30fa-48e4-d5b5-69d9a077f513"
      },
      "outputs": [
        {
          "output_type": "execute_result",
          "data": {
            "text/plain": [
              "(2.5190764219303823, 2.5190764219303823)"
            ]
          },
          "metadata": {},
          "execution_count": 59
        }
      ],
      "source": [
        "### Simple regret minimization: run number = 5\n",
        "\n",
        "approx_output_5 = np.append(np.min(-approx_5.GP.y[0:n_init]),-approx_5.GP.y[n_init:(n_init+iters)]) \n",
        "exact_output_5 = np.append(np.min(-exact_5.GP.y[0:n_init]),-exact_5.GP.y[n_init:(n_init+iters)]) \n",
        "\n",
        "regret_approx_5 = np.log(approx_output_5 - y_global_orig)\n",
        "regret_exact_5 = np.log(exact_output_5 - y_global_orig)\n",
        "\n",
        "simple_regret_approx_5 = min_max_array(regret_approx_5)\n",
        "simple_regret_exact_5 = min_max_array(regret_exact_5)\n",
        "\n",
        "min_simple_regret_approx_5 = min(simple_regret_approx_5)\n",
        "min_simple_regret_exact_5 = min(simple_regret_exact_5)\n",
        "\n",
        "min_simple_regret_approx_5, min_simple_regret_exact_5"
      ]
    },
    {
      "cell_type": "code",
      "execution_count": 60,
      "metadata": {
        "id": "CJv3lPuSQxfp",
        "colab": {
          "base_uri": "https://localhost:8080/"
        },
        "outputId": "01f6aa2e-20a4-479d-985c-e6c5985bd0cf"
      },
      "outputs": [
        {
          "output_type": "execute_result",
          "data": {
            "text/plain": [
              "(2.100157345248356, 2.293147547405968)"
            ]
          },
          "metadata": {},
          "execution_count": 60
        }
      ],
      "source": [
        "### Simple regret minimization: run number = 6\n",
        "\n",
        "approx_output_6 = np.append(np.min(-approx_6.GP.y[0:n_init]),-approx_6.GP.y[n_init:(n_init+iters)]) \n",
        "exact_output_6 = np.append(np.min(-exact_6.GP.y[0:n_init]),-exact_6.GP.y[n_init:(n_init+iters)]) \n",
        "\n",
        "regret_approx_6 = np.log(approx_output_6 - y_global_orig)\n",
        "regret_exact_6 = np.log(exact_output_6 - y_global_orig)\n",
        "\n",
        "simple_regret_approx_6 = min_max_array(regret_approx_6)\n",
        "simple_regret_exact_6 = min_max_array(regret_exact_6)\n",
        "\n",
        "min_simple_regret_approx_6 = min(simple_regret_approx_6)\n",
        "min_simple_regret_exact_6 = min(simple_regret_exact_6)\n",
        "\n",
        "min_simple_regret_approx_6, min_simple_regret_exact_6"
      ]
    },
    {
      "cell_type": "code",
      "execution_count": 61,
      "metadata": {
        "id": "quR2ZyApQxfq",
        "colab": {
          "base_uri": "https://localhost:8080/"
        },
        "outputId": "61762e1a-4670-49c7-dd23-51e42a92b339"
      },
      "outputs": [
        {
          "output_type": "execute_result",
          "data": {
            "text/plain": [
              "(2.2476588772086465, 2.2476588772086465)"
            ]
          },
          "metadata": {},
          "execution_count": 61
        }
      ],
      "source": [
        "### Simple regret minimization: run number = 7\n",
        "\n",
        "approx_output_7 = np.append(np.min(-approx_7.GP.y[0:n_init]),-approx_7.GP.y[n_init:(n_init+iters)]) \n",
        "exact_output_7 = np.append(np.min(-exact_7.GP.y[0:n_init]),-exact_7.GP.y[n_init:(n_init+iters)]) \n",
        "\n",
        "regret_approx_7 = np.log(approx_output_7 - y_global_orig)\n",
        "regret_exact_7 = np.log(exact_output_7 - y_global_orig)\n",
        "\n",
        "simple_regret_approx_7 = min_max_array(regret_approx_7)\n",
        "simple_regret_exact_7 = min_max_array(regret_exact_7)\n",
        "\n",
        "min_simple_regret_approx_7 = min(simple_regret_approx_7)\n",
        "min_simple_regret_exact_7 = min(simple_regret_exact_7)\n",
        "\n",
        "min_simple_regret_approx_7, min_simple_regret_exact_7"
      ]
    },
    {
      "cell_type": "code",
      "execution_count": 62,
      "metadata": {
        "id": "99wY5nK6Qxfr",
        "colab": {
          "base_uri": "https://localhost:8080/"
        },
        "outputId": "ed6c6039-fe8f-414c-b151-60714f506e22"
      },
      "outputs": [
        {
          "output_type": "execute_result",
          "data": {
            "text/plain": [
              "(2.4412946454480897, 3.2551629950976966)"
            ]
          },
          "metadata": {},
          "execution_count": 62
        }
      ],
      "source": [
        "### Simple regret minimization: run number = 8\n",
        "\n",
        "approx_output_8 = np.append(np.min(-approx_8.GP.y[0:n_init]),-approx_8.GP.y[n_init:(n_init+iters)]) \n",
        "exact_output_8 = np.append(np.min(-exact_8.GP.y[0:n_init]),-exact_8.GP.y[n_init:(n_init+iters)]) \n",
        "\n",
        "regret_approx_8 = np.log(approx_output_8 - y_global_orig)\n",
        "regret_exact_8 = np.log(exact_output_8 - y_global_orig)\n",
        "\n",
        "simple_regret_approx_8 = min_max_array(regret_approx_8)\n",
        "simple_regret_exact_8 = min_max_array(regret_exact_8)\n",
        "\n",
        "min_simple_regret_approx_8 = min(simple_regret_approx_8)\n",
        "min_simple_regret_exact_8 = min(simple_regret_exact_8)\n",
        "\n",
        "min_simple_regret_approx_8, min_simple_regret_exact_8"
      ]
    },
    {
      "cell_type": "code",
      "execution_count": 63,
      "metadata": {
        "id": "qt0P5t9qQxfs",
        "colab": {
          "base_uri": "https://localhost:8080/"
        },
        "outputId": "1c0d0783-0891-4a59-ccc8-97c9296a5350"
      },
      "outputs": [
        {
          "output_type": "execute_result",
          "data": {
            "text/plain": [
              "(3.4150328676025414, 3.330983353814311)"
            ]
          },
          "metadata": {},
          "execution_count": 63
        }
      ],
      "source": [
        "### Simple regret minimization: run number = 9\n",
        "\n",
        "approx_output_9 = np.append(np.min(-approx_9.GP.y[0:n_init]),-approx_9.GP.y[n_init:(n_init+iters)]) \n",
        "exact_output_9 = np.append(np.min(-exact_9.GP.y[0:n_init]),-exact_9.GP.y[n_init:(n_init+iters)]) \n",
        "\n",
        "regret_approx_9 = np.log(approx_output_9 - y_global_orig)\n",
        "regret_exact_9 = np.log(exact_output_9 - y_global_orig)\n",
        "\n",
        "simple_regret_approx_9 = min_max_array(regret_approx_9)\n",
        "simple_regret_exact_9 = min_max_array(regret_exact_9)\n",
        "\n",
        "min_simple_regret_approx_9 = min(simple_regret_approx_9)\n",
        "min_simple_regret_exact_9 = min(simple_regret_exact_9)\n",
        "\n",
        "min_simple_regret_approx_9, min_simple_regret_exact_9"
      ]
    },
    {
      "cell_type": "code",
      "execution_count": 64,
      "metadata": {
        "id": "vx8to9stQxft",
        "colab": {
          "base_uri": "https://localhost:8080/"
        },
        "outputId": "fc892151-bb08-41c8-d021-4d563f88a056"
      },
      "outputs": [
        {
          "output_type": "execute_result",
          "data": {
            "text/plain": [
              "(2.9537762825348794, 2.9537762825348794)"
            ]
          },
          "metadata": {},
          "execution_count": 64
        }
      ],
      "source": [
        "### Simple regret minimization: run number = 10\n",
        "\n",
        "approx_output_10 = np.append(np.min(-approx_10.GP.y[0:n_init]),-approx_10.GP.y[n_init:(n_init+iters)]) \n",
        "exact_output_10 = np.append(np.min(-exact_10.GP.y[0:n_init]),-exact_10.GP.y[n_init:(n_init+iters)]) \n",
        "\n",
        "regret_approx_10 = np.log(approx_output_10 - y_global_orig)\n",
        "regret_exact_10 = np.log(exact_output_10 - y_global_orig)\n",
        "\n",
        "simple_regret_approx_10 = min_max_array(regret_approx_10)\n",
        "simple_regret_exact_10 = min_max_array(regret_exact_10)\n",
        "\n",
        "min_simple_regret_approx_10 = min(simple_regret_approx_10)\n",
        "min_simple_regret_exact_10 = min(simple_regret_exact_10)\n",
        "\n",
        "min_simple_regret_approx_10, min_simple_regret_exact_10"
      ]
    },
    {
      "cell_type": "code",
      "execution_count": 65,
      "metadata": {
        "id": "d-FGzWyHQxfu",
        "colab": {
          "base_uri": "https://localhost:8080/"
        },
        "outputId": "a41f3ce8-6a9d-493a-9f7e-344c95a80942"
      },
      "outputs": [
        {
          "output_type": "execute_result",
          "data": {
            "text/plain": [
              "(1.7016578760315788, 1.7016578760315788)"
            ]
          },
          "metadata": {},
          "execution_count": 65
        }
      ],
      "source": [
        "### Simple regret minimization: run number = 11\n",
        "\n",
        "approx_output_11 = np.append(np.min(-approx_11.GP.y[0:n_init]),-approx_11.GP.y[n_init:(n_init+iters)]) \n",
        "exact_output_11 = np.append(np.min(-exact_11.GP.y[0:n_init]),-exact_11.GP.y[n_init:(n_init+iters)]) \n",
        "\n",
        "regret_approx_11 = np.log(approx_output_11 - y_global_orig)\n",
        "regret_exact_11 = np.log(exact_output_11 - y_global_orig)\n",
        "\n",
        "simple_regret_approx_11 = min_max_array(regret_approx_11)\n",
        "simple_regret_exact_11 = min_max_array(regret_exact_11)\n",
        "\n",
        "min_simple_regret_approx_11 = min(simple_regret_approx_11)\n",
        "min_simple_regret_exact_11 = min(simple_regret_exact_11)\n",
        "\n",
        "min_simple_regret_approx_11, min_simple_regret_exact_11"
      ]
    },
    {
      "cell_type": "code",
      "execution_count": 66,
      "metadata": {
        "id": "SvtsssyjQxfv",
        "colab": {
          "base_uri": "https://localhost:8080/"
        },
        "outputId": "d7ca8636-1d46-4609-b257-daf7ad052424"
      },
      "outputs": [
        {
          "output_type": "execute_result",
          "data": {
            "text/plain": [
              "(1.5464151118637437, 2.76689714242039)"
            ]
          },
          "metadata": {},
          "execution_count": 66
        }
      ],
      "source": [
        "### Simple regret minimization: run number = 12\n",
        "\n",
        "approx_output_12 = np.append(np.min(-approx_12.GP.y[0:n_init]),-approx_12.GP.y[n_init:(n_init+iters)]) \n",
        "exact_output_12 = np.append(np.min(-exact_12.GP.y[0:n_init]),-exact_12.GP.y[n_init:(n_init+iters)]) \n",
        "\n",
        "regret_approx_12 = np.log(approx_output_12 - y_global_orig)\n",
        "regret_exact_12 = np.log(exact_output_12 - y_global_orig)\n",
        "\n",
        "simple_regret_approx_12 = min_max_array(regret_approx_12)\n",
        "simple_regret_exact_12 = min_max_array(regret_exact_12)\n",
        "\n",
        "min_simple_regret_approx_12 = min(simple_regret_approx_12)\n",
        "min_simple_regret_exact_12 = min(simple_regret_exact_12)\n",
        "\n",
        "min_simple_regret_approx_12, min_simple_regret_exact_12"
      ]
    },
    {
      "cell_type": "code",
      "execution_count": 67,
      "metadata": {
        "id": "K6OiGcHkQxfw",
        "colab": {
          "base_uri": "https://localhost:8080/"
        },
        "outputId": "ea1838af-657e-4932-d63e-61b5814e6362"
      },
      "outputs": [
        {
          "output_type": "execute_result",
          "data": {
            "text/plain": [
              "(3.0026519271570713, 1.241665299873732)"
            ]
          },
          "metadata": {},
          "execution_count": 67
        }
      ],
      "source": [
        "### Simple regret minimization: run number = 13\n",
        "\n",
        "approx_output_13 = np.append(np.min(-approx_13.GP.y[0:n_init]),-approx_13.GP.y[n_init:(n_init+iters)]) \n",
        "exact_output_13 = np.append(np.min(-exact_13.GP.y[0:n_init]),-exact_13.GP.y[n_init:(n_init+iters)]) \n",
        "\n",
        "regret_approx_13 = np.log(approx_output_13 - y_global_orig)\n",
        "regret_exact_13 = np.log(exact_output_13 - y_global_orig)\n",
        "\n",
        "simple_regret_approx_13 = min_max_array(regret_approx_13)\n",
        "simple_regret_exact_13 = min_max_array(regret_exact_13)\n",
        "\n",
        "min_simple_regret_approx_13 = min(simple_regret_approx_13)\n",
        "min_simple_regret_exact_13 = min(simple_regret_exact_13)\n",
        "\n",
        "min_simple_regret_approx_13, min_simple_regret_exact_13"
      ]
    },
    {
      "cell_type": "code",
      "execution_count": 68,
      "metadata": {
        "id": "ogML73shQxfx",
        "colab": {
          "base_uri": "https://localhost:8080/"
        },
        "outputId": "1f8a6e62-c811-4e8a-803d-53e855304132"
      },
      "outputs": [
        {
          "output_type": "execute_result",
          "data": {
            "text/plain": [
              "(2.9300454245107113, 2.9300454245107113)"
            ]
          },
          "metadata": {},
          "execution_count": 68
        }
      ],
      "source": [
        "### Simple regret minimization: run number = 14\n",
        "\n",
        "approx_output_14 = np.append(np.min(-approx_14.GP.y[0:n_init]),-approx_14.GP.y[n_init:(n_init+iters)]) \n",
        "exact_output_14 = np.append(np.min(-exact_14.GP.y[0:n_init]),-exact_14.GP.y[n_init:(n_init+iters)]) \n",
        "\n",
        "regret_approx_14 = np.log(approx_output_14 - y_global_orig)\n",
        "regret_exact_14 = np.log(exact_output_14 - y_global_orig)\n",
        "\n",
        "simple_regret_approx_14 = min_max_array(regret_approx_14)\n",
        "simple_regret_exact_14 = min_max_array(regret_exact_14)\n",
        "\n",
        "min_simple_regret_approx_14 = min(simple_regret_approx_14)\n",
        "min_simple_regret_exact_14 = min(simple_regret_exact_14)\n",
        "\n",
        "min_simple_regret_approx_14, min_simple_regret_exact_14"
      ]
    },
    {
      "cell_type": "code",
      "execution_count": 69,
      "metadata": {
        "id": "9Eg7gFT9Qxfx",
        "colab": {
          "base_uri": "https://localhost:8080/"
        },
        "outputId": "5f0f1fb7-b3df-42b3-a6cf-f7d45cd8d98a"
      },
      "outputs": [
        {
          "output_type": "execute_result",
          "data": {
            "text/plain": [
              "(3.1894247234758857, 2.4271218020311607)"
            ]
          },
          "metadata": {},
          "execution_count": 69
        }
      ],
      "source": [
        "### Simple regret minimization: run number = 15\n",
        "\n",
        "approx_output_15 = np.append(np.min(-approx_15.GP.y[0:n_init]),-approx_15.GP.y[n_init:(n_init+iters)]) \n",
        "exact_output_15 = np.append(np.min(-exact_15.GP.y[0:n_init]),-exact_15.GP.y[n_init:(n_init+iters)]) \n",
        "\n",
        "regret_approx_15 = np.log(approx_output_15 - y_global_orig)\n",
        "regret_exact_15 = np.log(exact_output_15 - y_global_orig)\n",
        "\n",
        "simple_regret_approx_15 = min_max_array(regret_approx_15)\n",
        "simple_regret_exact_15 = min_max_array(regret_exact_15)\n",
        "\n",
        "min_simple_regret_approx_15 = min(simple_regret_approx_15)\n",
        "min_simple_regret_exact_15 = min(simple_regret_exact_15)\n",
        "\n",
        "min_simple_regret_approx_15, min_simple_regret_exact_15"
      ]
    },
    {
      "cell_type": "code",
      "execution_count": 70,
      "metadata": {
        "id": "lIAC1U7ZQxfy",
        "colab": {
          "base_uri": "https://localhost:8080/"
        },
        "outputId": "f82ca918-bde6-4d2e-91b1-67f5f7f432c6"
      },
      "outputs": [
        {
          "output_type": "execute_result",
          "data": {
            "text/plain": [
              "(2.8021054916758112, 2.7804088810714087)"
            ]
          },
          "metadata": {},
          "execution_count": 70
        }
      ],
      "source": [
        "### Simple regret minimization: run number = 16\n",
        "\n",
        "approx_output_16 = np.append(np.min(-approx_16.GP.y[0:n_init]),-approx_16.GP.y[n_init:(n_init+iters)]) \n",
        "exact_output_16 = np.append(np.min(-exact_16.GP.y[0:n_init]),-exact_16.GP.y[n_init:(n_init+iters)]) \n",
        "\n",
        "regret_approx_16 = np.log(approx_output_16 - y_global_orig)\n",
        "regret_exact_16 = np.log(exact_output_16 - y_global_orig)\n",
        "\n",
        "simple_regret_approx_16 = min_max_array(regret_approx_16)\n",
        "simple_regret_exact_16 = min_max_array(regret_exact_16)\n",
        "\n",
        "min_simple_regret_approx_16 = min(simple_regret_approx_16)\n",
        "min_simple_regret_exact_16 = min(simple_regret_exact_16)\n",
        "\n",
        "min_simple_regret_approx_16, min_simple_regret_exact_16"
      ]
    },
    {
      "cell_type": "code",
      "execution_count": 71,
      "metadata": {
        "id": "bGott36OQxfz",
        "colab": {
          "base_uri": "https://localhost:8080/"
        },
        "outputId": "d6fb9967-6c8c-4dfe-ed21-e592e99b7b88"
      },
      "outputs": [
        {
          "output_type": "execute_result",
          "data": {
            "text/plain": [
              "(1.714429951175907, 1.714429951175907)"
            ]
          },
          "metadata": {},
          "execution_count": 71
        }
      ],
      "source": [
        "### Simple regret minimization: run number = 17\n",
        "\n",
        "approx_output_17 = np.append(np.min(-approx_17.GP.y[0:n_init]),-approx_17.GP.y[n_init:(n_init+iters)]) \n",
        "exact_output_17 = np.append(np.min(-exact_17.GP.y[0:n_init]),-exact_17.GP.y[n_init:(n_init+iters)]) \n",
        "\n",
        "regret_approx_17 = np.log(approx_output_17 - y_global_orig)\n",
        "regret_exact_17 = np.log(exact_output_17 - y_global_orig)\n",
        "\n",
        "simple_regret_approx_17 = min_max_array(regret_approx_17)\n",
        "simple_regret_exact_17 = min_max_array(regret_exact_17)\n",
        "\n",
        "min_simple_regret_approx_17 = min(simple_regret_approx_17)\n",
        "min_simple_regret_exact_17 = min(simple_regret_exact_17)\n",
        "\n",
        "min_simple_regret_approx_17, min_simple_regret_exact_17"
      ]
    },
    {
      "cell_type": "code",
      "execution_count": 72,
      "metadata": {
        "id": "Cz9ZYMBMQxfz",
        "colab": {
          "base_uri": "https://localhost:8080/"
        },
        "outputId": "14378c1d-6664-4760-dbe4-b38e9eaa42c4"
      },
      "outputs": [
        {
          "output_type": "execute_result",
          "data": {
            "text/plain": [
              "(1.6250294743963785, 2.183322331360005)"
            ]
          },
          "metadata": {},
          "execution_count": 72
        }
      ],
      "source": [
        "### Simple regret minimization: run number = 18\n",
        "\n",
        "approx_output_18 = np.append(np.min(-approx_18.GP.y[0:n_init]),-approx_18.GP.y[n_init:(n_init+iters)]) \n",
        "exact_output_18 = np.append(np.min(-exact_18.GP.y[0:n_init]),-exact_18.GP.y[n_init:(n_init+iters)]) \n",
        "\n",
        "regret_approx_18 = np.log(approx_output_18 - y_global_orig)\n",
        "regret_exact_18 = np.log(exact_output_18 - y_global_orig)\n",
        "\n",
        "simple_regret_approx_18 = min_max_array(regret_approx_18)\n",
        "simple_regret_exact_18 = min_max_array(regret_exact_18)\n",
        "\n",
        "min_simple_regret_approx_18 = min(simple_regret_approx_18)\n",
        "min_simple_regret_exact_18 = min(simple_regret_exact_18)\n",
        "\n",
        "min_simple_regret_approx_18, min_simple_regret_exact_18"
      ]
    },
    {
      "cell_type": "code",
      "execution_count": 73,
      "metadata": {
        "id": "OBfpWOHNQxf0",
        "colab": {
          "base_uri": "https://localhost:8080/"
        },
        "outputId": "83a47810-67dd-4e42-9480-d5812c362aa8"
      },
      "outputs": [
        {
          "output_type": "execute_result",
          "data": {
            "text/plain": [
              "(1.5922070535345783, 1.4166993488002633)"
            ]
          },
          "metadata": {},
          "execution_count": 73
        }
      ],
      "source": [
        "### Simple regret minimization: run number = 19\n",
        "\n",
        "approx_output_19 = np.append(np.min(-approx_19.GP.y[0:n_init]),-approx_19.GP.y[n_init:(n_init+iters)]) \n",
        "exact_output_19 = np.append(np.min(-exact_19.GP.y[0:n_init]),-exact_19.GP.y[n_init:(n_init+iters)]) \n",
        "\n",
        "regret_approx_19 = np.log(approx_output_19 - y_global_orig)\n",
        "regret_exact_19 = np.log(exact_output_19 - y_global_orig)\n",
        "\n",
        "simple_regret_approx_19 = min_max_array(regret_approx_19)\n",
        "simple_regret_exact_19 = min_max_array(regret_exact_19)\n",
        "\n",
        "min_simple_regret_approx_19 = min(simple_regret_approx_19)\n",
        "min_simple_regret_exact_19 = min(simple_regret_exact_19)\n",
        "\n",
        "min_simple_regret_approx_19, min_simple_regret_exact_19"
      ]
    },
    {
      "cell_type": "code",
      "execution_count": 74,
      "metadata": {
        "id": "BE1AJ7NsQxf0",
        "colab": {
          "base_uri": "https://localhost:8080/"
        },
        "outputId": "13283126-4f47-4cc2-a6d2-052f2acd54ee"
      },
      "outputs": [
        {
          "output_type": "execute_result",
          "data": {
            "text/plain": [
              "(0.4623620017252606, 1.2681154470032874)"
            ]
          },
          "metadata": {},
          "execution_count": 74
        }
      ],
      "source": [
        "### Simple regret minimization: run number = 20\n",
        "\n",
        "approx_output_20 = np.append(np.min(-approx_20.GP.y[0:n_init]),-approx_20.GP.y[n_init:(n_init+iters)]) \n",
        "exact_output_20 = np.append(np.min(-exact_20.GP.y[0:n_init]),-exact_20.GP.y[n_init:(n_init+iters)]) \n",
        "\n",
        "regret_approx_20 = np.log(approx_output_20 - y_global_orig)\n",
        "regret_exact_20 = np.log(exact_output_20 - y_global_orig)\n",
        "\n",
        "simple_regret_approx_20 = min_max_array(regret_approx_20)\n",
        "simple_regret_exact_20 = min_max_array(regret_exact_20)\n",
        "\n",
        "min_simple_regret_approx_20 = min(simple_regret_approx_20)\n",
        "min_simple_regret_exact_20 = min(simple_regret_exact_20)\n",
        "\n",
        "min_simple_regret_approx_20, min_simple_regret_exact_20"
      ]
    },
    {
      "cell_type": "code",
      "execution_count": 75,
      "metadata": {
        "id": "bpX-bKAHQxf1"
      },
      "outputs": [],
      "source": [
        "# Iteration1 :\n",
        "\n",
        "slice1 = 0\n",
        "\n",
        "approx1 = [simple_regret_approx_1[slice1],\n",
        "       simple_regret_approx_2[slice1],\n",
        "       simple_regret_approx_3[slice1],\n",
        "       simple_regret_approx_4[slice1],\n",
        "       simple_regret_approx_5[slice1],\n",
        "       simple_regret_approx_6[slice1],\n",
        "       simple_regret_approx_7[slice1],\n",
        "       simple_regret_approx_8[slice1],\n",
        "       simple_regret_approx_9[slice1],\n",
        "       simple_regret_approx_10[slice1],\n",
        "       simple_regret_approx_11[slice1],\n",
        "       simple_regret_approx_12[slice1],\n",
        "       simple_regret_approx_13[slice1],\n",
        "       simple_regret_approx_14[slice1],\n",
        "       simple_regret_approx_15[slice1],\n",
        "       simple_regret_approx_16[slice1],\n",
        "       simple_regret_approx_17[slice1],\n",
        "       simple_regret_approx_18[slice1],\n",
        "       simple_regret_approx_19[slice1],\n",
        "       simple_regret_approx_20[slice1]]\n",
        "\n",
        "exact1 = [simple_regret_exact_1[slice1],\n",
        "       simple_regret_exact_2[slice1],\n",
        "       simple_regret_exact_3[slice1],\n",
        "       simple_regret_exact_4[slice1],\n",
        "       simple_regret_exact_5[slice1],\n",
        "       simple_regret_exact_6[slice1],\n",
        "       simple_regret_exact_7[slice1],\n",
        "       simple_regret_exact_8[slice1],\n",
        "       simple_regret_exact_9[slice1],\n",
        "       simple_regret_exact_10[slice1],\n",
        "       simple_regret_exact_11[slice1],\n",
        "       simple_regret_exact_12[slice1],\n",
        "       simple_regret_exact_13[slice1],\n",
        "       simple_regret_exact_14[slice1],\n",
        "       simple_regret_exact_15[slice1],\n",
        "       simple_regret_exact_16[slice1],\n",
        "       simple_regret_exact_17[slice1],\n",
        "       simple_regret_exact_18[slice1],\n",
        "       simple_regret_exact_19[slice1],\n",
        "       simple_regret_exact_20[slice1]]\n",
        "\n",
        "approx1_results = pd.DataFrame(approx1).sort_values(by=[0], ascending=False)\n",
        "exact1_results = pd.DataFrame(exact1).sort_values(by=[0], ascending=False)\n",
        "\n",
        "### Best simple regret minimization IQR - approx:\n",
        "lower_approx1 = np.asarray(approx1_results[4:5][0])[0]\n",
        "median_approx1 = np.asarray(approx1_results[9:10][0])[0]\n",
        "upper_approx1 = np.asarray(approx1_results[14:15][0])[0]\n",
        "\n",
        "lower_exact1 = np.asarray(exact1_results[4:5][0])[0]\n",
        "median_exact1 = np.asarray(exact1_results[9:10][0])[0]\n",
        "upper_exact1 = np.asarray(exact1_results[14:15][0])[0]"
      ]
    },
    {
      "cell_type": "code",
      "execution_count": 76,
      "metadata": {
        "id": "CgIkJA1xQxf2"
      },
      "outputs": [],
      "source": [
        "# Iteration11 :\n",
        "\n",
        "slice11 = 10\n",
        "\n",
        "approx11 = [simple_regret_approx_1[slice11],\n",
        "       simple_regret_approx_2[slice11],\n",
        "       simple_regret_approx_3[slice11],\n",
        "       simple_regret_approx_4[slice11],\n",
        "       simple_regret_approx_5[slice11],\n",
        "       simple_regret_approx_6[slice11],\n",
        "       simple_regret_approx_7[slice11],\n",
        "       simple_regret_approx_8[slice11],\n",
        "       simple_regret_approx_9[slice11],\n",
        "       simple_regret_approx_10[slice11],\n",
        "       simple_regret_approx_11[slice11],\n",
        "       simple_regret_approx_12[slice11],\n",
        "       simple_regret_approx_13[slice11],\n",
        "       simple_regret_approx_14[slice11],\n",
        "       simple_regret_approx_15[slice11],\n",
        "       simple_regret_approx_16[slice11],\n",
        "       simple_regret_approx_17[slice11],\n",
        "       simple_regret_approx_18[slice11],\n",
        "       simple_regret_approx_19[slice11],\n",
        "       simple_regret_approx_20[slice11]]\n",
        "\n",
        "exact11 = [simple_regret_exact_1[slice11],\n",
        "       simple_regret_exact_2[slice11],\n",
        "       simple_regret_exact_3[slice11],\n",
        "       simple_regret_exact_4[slice11],\n",
        "       simple_regret_exact_5[slice11],\n",
        "       simple_regret_exact_6[slice11],\n",
        "       simple_regret_exact_7[slice11],\n",
        "       simple_regret_exact_8[slice11],\n",
        "       simple_regret_exact_9[slice11],\n",
        "       simple_regret_exact_10[slice11],\n",
        "       simple_regret_exact_11[slice11],\n",
        "       simple_regret_exact_12[slice11],\n",
        "       simple_regret_exact_13[slice11],\n",
        "       simple_regret_exact_14[slice11],\n",
        "       simple_regret_exact_15[slice11],\n",
        "       simple_regret_exact_16[slice11],\n",
        "       simple_regret_exact_17[slice11],\n",
        "       simple_regret_exact_18[slice11],\n",
        "       simple_regret_exact_19[slice11],\n",
        "       simple_regret_exact_20[slice11]]\n",
        "\n",
        "approx11_results = pd.DataFrame(approx11).sort_values(by=[0], ascending=False)\n",
        "exact11_results = pd.DataFrame(exact11).sort_values(by=[0], ascending=False)\n",
        "\n",
        "### Best simple regret minimization IQR - approx:\n",
        "lower_approx11 = np.asarray(approx11_results[4:5][0])[0]\n",
        "median_approx11 = np.asarray(approx11_results[9:10][0])[0]\n",
        "upper_approx11 = np.asarray(approx11_results[14:15][0])[0]\n",
        "\n",
        "lower_exact11 = np.asarray(exact11_results[4:5][0])[0]\n",
        "median_exact11 = np.asarray(exact11_results[9:10][0])[0]\n",
        "upper_exact11 = np.asarray(exact11_results[14:15][0])[0]"
      ]
    },
    {
      "cell_type": "code",
      "execution_count": 77,
      "metadata": {
        "id": "MFePDfGuQxf2"
      },
      "outputs": [],
      "source": [
        "# Iteration21 :\n",
        "\n",
        "slice21 = 20\n",
        "\n",
        "approx21 = [simple_regret_approx_1[slice21],\n",
        "       simple_regret_approx_2[slice21],\n",
        "       simple_regret_approx_3[slice21],\n",
        "       simple_regret_approx_4[slice21],\n",
        "       simple_regret_approx_5[slice21],\n",
        "       simple_regret_approx_6[slice21],\n",
        "       simple_regret_approx_7[slice21],\n",
        "       simple_regret_approx_8[slice21],\n",
        "       simple_regret_approx_9[slice21],\n",
        "       simple_regret_approx_10[slice21],\n",
        "       simple_regret_approx_11[slice21],\n",
        "       simple_regret_approx_12[slice21],\n",
        "       simple_regret_approx_13[slice21],\n",
        "       simple_regret_approx_14[slice21],\n",
        "       simple_regret_approx_15[slice21],\n",
        "       simple_regret_approx_16[slice21],\n",
        "       simple_regret_approx_17[slice21],\n",
        "       simple_regret_approx_18[slice21],\n",
        "       simple_regret_approx_19[slice21],\n",
        "       simple_regret_approx_20[slice21]]\n",
        "\n",
        "exact21 = [simple_regret_exact_1[slice21],\n",
        "       simple_regret_exact_2[slice21],\n",
        "       simple_regret_exact_3[slice21],\n",
        "       simple_regret_exact_4[slice21],\n",
        "       simple_regret_exact_5[slice21],\n",
        "       simple_regret_exact_6[slice21],\n",
        "       simple_regret_exact_7[slice21],\n",
        "       simple_regret_exact_8[slice21],\n",
        "       simple_regret_exact_9[slice21],\n",
        "       simple_regret_exact_10[slice21],\n",
        "       simple_regret_exact_11[slice21],\n",
        "       simple_regret_exact_12[slice21],\n",
        "       simple_regret_exact_13[slice21],\n",
        "       simple_regret_exact_14[slice21],\n",
        "       simple_regret_exact_15[slice21],\n",
        "       simple_regret_exact_16[slice21],\n",
        "       simple_regret_exact_17[slice21],\n",
        "       simple_regret_exact_18[slice21],\n",
        "       simple_regret_exact_19[slice21],\n",
        "       simple_regret_exact_20[slice21]]\n",
        "\n",
        "approx21_results = pd.DataFrame(approx21).sort_values(by=[0], ascending=False)\n",
        "exact21_results = pd.DataFrame(exact21).sort_values(by=[0], ascending=False)\n",
        "\n",
        "### Best simple regret minimization IQR - approx:\n",
        "lower_approx21 = np.asarray(approx21_results[4:5][0])[0]\n",
        "median_approx21 = np.asarray(approx21_results[9:10][0])[0]\n",
        "upper_approx21 = np.asarray(approx21_results[14:15][0])[0]\n",
        "\n",
        "lower_exact21 = np.asarray(exact21_results[4:5][0])[0]\n",
        "median_exact21 = np.asarray(exact21_results[9:10][0])[0]\n",
        "upper_exact21 = np.asarray(exact21_results[14:15][0])[0]"
      ]
    },
    {
      "cell_type": "code",
      "execution_count": 78,
      "metadata": {
        "id": "PrRDB1kfQxf3"
      },
      "outputs": [],
      "source": [
        "# Iteration2 :\n",
        "\n",
        "slice2 = 1\n",
        "\n",
        "approx2 = [simple_regret_approx_1[slice2],\n",
        "       simple_regret_approx_2[slice2],\n",
        "       simple_regret_approx_3[slice2],\n",
        "       simple_regret_approx_4[slice2],\n",
        "       simple_regret_approx_5[slice2],\n",
        "       simple_regret_approx_6[slice2],\n",
        "       simple_regret_approx_7[slice2],\n",
        "       simple_regret_approx_8[slice2],\n",
        "       simple_regret_approx_9[slice2],\n",
        "       simple_regret_approx_10[slice2],\n",
        "       simple_regret_approx_11[slice2],\n",
        "       simple_regret_approx_12[slice2],\n",
        "       simple_regret_approx_13[slice2],\n",
        "       simple_regret_approx_14[slice2],\n",
        "       simple_regret_approx_15[slice2],\n",
        "       simple_regret_approx_16[slice2],\n",
        "       simple_regret_approx_17[slice2],\n",
        "       simple_regret_approx_18[slice2],\n",
        "       simple_regret_approx_19[slice2],\n",
        "       simple_regret_approx_20[slice2]]\n",
        "\n",
        "exact2 = [simple_regret_exact_1[slice2],\n",
        "       simple_regret_exact_2[slice2],\n",
        "       simple_regret_exact_3[slice2],\n",
        "       simple_regret_exact_4[slice2],\n",
        "       simple_regret_exact_5[slice2],\n",
        "       simple_regret_exact_6[slice2],\n",
        "       simple_regret_exact_7[slice2],\n",
        "       simple_regret_exact_8[slice2],\n",
        "       simple_regret_exact_9[slice2],\n",
        "       simple_regret_exact_10[slice2],\n",
        "       simple_regret_exact_11[slice2],\n",
        "       simple_regret_exact_12[slice2],\n",
        "       simple_regret_exact_13[slice2],\n",
        "       simple_regret_exact_14[slice2],\n",
        "       simple_regret_exact_15[slice2],\n",
        "       simple_regret_exact_16[slice2],\n",
        "       simple_regret_exact_17[slice2],\n",
        "       simple_regret_exact_18[slice2],\n",
        "       simple_regret_exact_19[slice2],\n",
        "       simple_regret_exact_20[slice2]]\n",
        "\n",
        "approx2_results = pd.DataFrame(approx2).sort_values(by=[0], ascending=False)\n",
        "exact2_results = pd.DataFrame(exact2).sort_values(by=[0], ascending=False)\n",
        "\n",
        "### Best simple regret minimization IQR - approx:\n",
        "lower_approx2 = np.asarray(approx2_results[4:5][0])[0]\n",
        "median_approx2 = np.asarray(approx2_results[9:10][0])[0]\n",
        "upper_approx2 = np.asarray(approx2_results[14:15][0])[0]\n",
        "\n",
        "lower_exact2 = np.asarray(exact2_results[4:5][0])[0]\n",
        "median_exact2 = np.asarray(exact2_results[9:10][0])[0]\n",
        "upper_exact2 = np.asarray(exact2_results[14:15][0])[0]"
      ]
    },
    {
      "cell_type": "code",
      "execution_count": 79,
      "metadata": {
        "id": "B8ncJDYeQxf3"
      },
      "outputs": [],
      "source": [
        "# Iteration12 :\n",
        "\n",
        "slice12 = 11\n",
        "\n",
        "approx12 = [simple_regret_approx_1[slice12],\n",
        "       simple_regret_approx_2[slice12],\n",
        "       simple_regret_approx_3[slice12],\n",
        "       simple_regret_approx_4[slice12],\n",
        "       simple_regret_approx_5[slice12],\n",
        "       simple_regret_approx_6[slice12],\n",
        "       simple_regret_approx_7[slice12],\n",
        "       simple_regret_approx_8[slice12],\n",
        "       simple_regret_approx_9[slice12],\n",
        "       simple_regret_approx_10[slice12],\n",
        "       simple_regret_approx_11[slice12],\n",
        "       simple_regret_approx_12[slice12],\n",
        "       simple_regret_approx_13[slice12],\n",
        "       simple_regret_approx_14[slice12],\n",
        "       simple_regret_approx_15[slice12],\n",
        "       simple_regret_approx_16[slice12],\n",
        "       simple_regret_approx_17[slice12],\n",
        "       simple_regret_approx_18[slice12],\n",
        "       simple_regret_approx_19[slice12],\n",
        "       simple_regret_approx_20[slice12]]\n",
        "\n",
        "exact12 = [simple_regret_exact_1[slice12],\n",
        "       simple_regret_exact_2[slice12],\n",
        "       simple_regret_exact_3[slice12],\n",
        "       simple_regret_exact_4[slice12],\n",
        "       simple_regret_exact_5[slice12],\n",
        "       simple_regret_exact_6[slice12],\n",
        "       simple_regret_exact_7[slice12],\n",
        "       simple_regret_exact_8[slice12],\n",
        "       simple_regret_exact_9[slice12],\n",
        "       simple_regret_exact_10[slice12],\n",
        "       simple_regret_exact_11[slice12],\n",
        "       simple_regret_exact_12[slice12],\n",
        "       simple_regret_exact_13[slice12],\n",
        "       simple_regret_exact_14[slice12],\n",
        "       simple_regret_exact_15[slice12],\n",
        "       simple_regret_exact_16[slice12],\n",
        "       simple_regret_exact_17[slice12],\n",
        "       simple_regret_exact_18[slice12],\n",
        "       simple_regret_exact_19[slice12],\n",
        "       simple_regret_exact_20[slice12]]\n",
        "\n",
        "approx12_results = pd.DataFrame(approx12).sort_values(by=[0], ascending=False)\n",
        "exact12_results = pd.DataFrame(exact12).sort_values(by=[0], ascending=False)\n",
        "\n",
        "### Best simple regret minimization IQR - approx:\n",
        "lower_approx12 = np.asarray(approx12_results[4:5][0])[0]\n",
        "median_approx12 = np.asarray(approx12_results[9:10][0])[0]\n",
        "upper_approx12 = np.asarray(approx12_results[14:15][0])[0]\n",
        "\n",
        "lower_exact12 = np.asarray(exact12_results[4:5][0])[0]\n",
        "median_exact12 = np.asarray(exact12_results[9:10][0])[0]\n",
        "upper_exact12 = np.asarray(exact12_results[14:15][0])[0]"
      ]
    },
    {
      "cell_type": "code",
      "execution_count": 80,
      "metadata": {
        "id": "Jn4KpGvcQxf4"
      },
      "outputs": [],
      "source": [
        "# Iteration3 :\n",
        "\n",
        "slice3 = 2\n",
        "\n",
        "approx3 = [simple_regret_approx_1[slice3],\n",
        "       simple_regret_approx_2[slice3],\n",
        "       simple_regret_approx_3[slice3],\n",
        "       simple_regret_approx_4[slice3],\n",
        "       simple_regret_approx_5[slice3],\n",
        "       simple_regret_approx_6[slice3],\n",
        "       simple_regret_approx_7[slice3],\n",
        "       simple_regret_approx_8[slice3],\n",
        "       simple_regret_approx_9[slice3],\n",
        "       simple_regret_approx_10[slice3],\n",
        "       simple_regret_approx_11[slice3],\n",
        "       simple_regret_approx_12[slice3],\n",
        "       simple_regret_approx_13[slice3],\n",
        "       simple_regret_approx_14[slice3],\n",
        "       simple_regret_approx_15[slice3],\n",
        "       simple_regret_approx_16[slice3],\n",
        "       simple_regret_approx_17[slice3],\n",
        "       simple_regret_approx_18[slice3],\n",
        "       simple_regret_approx_19[slice3],\n",
        "       simple_regret_approx_20[slice3]]\n",
        "\n",
        "exact3 = [simple_regret_exact_1[slice3],\n",
        "       simple_regret_exact_2[slice3],\n",
        "       simple_regret_exact_3[slice3],\n",
        "       simple_regret_exact_4[slice3],\n",
        "       simple_regret_exact_5[slice3],\n",
        "       simple_regret_exact_6[slice3],\n",
        "       simple_regret_exact_7[slice3],\n",
        "       simple_regret_exact_8[slice3],\n",
        "       simple_regret_exact_9[slice3],\n",
        "       simple_regret_exact_10[slice3],\n",
        "       simple_regret_exact_11[slice3],\n",
        "       simple_regret_exact_12[slice3],\n",
        "       simple_regret_exact_13[slice3],\n",
        "       simple_regret_exact_14[slice3],\n",
        "       simple_regret_exact_15[slice3],\n",
        "       simple_regret_exact_16[slice3],\n",
        "       simple_regret_exact_17[slice3],\n",
        "       simple_regret_exact_18[slice3],\n",
        "       simple_regret_exact_19[slice3],\n",
        "       simple_regret_exact_20[slice3]]\n",
        "\n",
        "approx3_results = pd.DataFrame(approx3).sort_values(by=[0], ascending=False)\n",
        "exact3_results = pd.DataFrame(exact3).sort_values(by=[0], ascending=False)\n",
        "\n",
        "### Best simple regret minimization IQR - approx:\n",
        "lower_approx3 = np.asarray(approx3_results[4:5][0])[0]\n",
        "median_approx3 = np.asarray(approx3_results[9:10][0])[0]\n",
        "upper_approx3 = np.asarray(approx3_results[14:15][0])[0]\n",
        "\n",
        "lower_exact3 = np.asarray(exact3_results[4:5][0])[0]\n",
        "median_exact3 = np.asarray(exact3_results[9:10][0])[0]\n",
        "upper_exact3 = np.asarray(exact3_results[14:15][0])[0]"
      ]
    },
    {
      "cell_type": "code",
      "execution_count": 81,
      "metadata": {
        "id": "plf83wxrQxf4"
      },
      "outputs": [],
      "source": [
        "# Iteration13 :\n",
        "\n",
        "slice13 = 12\n",
        "\n",
        "approx13 = [simple_regret_approx_1[slice13],\n",
        "       simple_regret_approx_2[slice13],\n",
        "       simple_regret_approx_3[slice13],\n",
        "       simple_regret_approx_4[slice13],\n",
        "       simple_regret_approx_5[slice13],\n",
        "       simple_regret_approx_6[slice13],\n",
        "       simple_regret_approx_7[slice13],\n",
        "       simple_regret_approx_8[slice13],\n",
        "       simple_regret_approx_9[slice13],\n",
        "       simple_regret_approx_10[slice13],\n",
        "       simple_regret_approx_11[slice13],\n",
        "       simple_regret_approx_12[slice13],\n",
        "       simple_regret_approx_13[slice13],\n",
        "       simple_regret_approx_14[slice13],\n",
        "       simple_regret_approx_15[slice13],\n",
        "       simple_regret_approx_16[slice13],\n",
        "       simple_regret_approx_17[slice13],\n",
        "       simple_regret_approx_18[slice13],\n",
        "       simple_regret_approx_19[slice13],\n",
        "       simple_regret_approx_20[slice13]]\n",
        "\n",
        "exact13 = [simple_regret_exact_1[slice13],\n",
        "       simple_regret_exact_2[slice13],\n",
        "       simple_regret_exact_3[slice13],\n",
        "       simple_regret_exact_4[slice13],\n",
        "       simple_regret_exact_5[slice13],\n",
        "       simple_regret_exact_6[slice13],\n",
        "       simple_regret_exact_7[slice13],\n",
        "       simple_regret_exact_8[slice13],\n",
        "       simple_regret_exact_9[slice13],\n",
        "       simple_regret_exact_10[slice13],\n",
        "       simple_regret_exact_11[slice13],\n",
        "       simple_regret_exact_12[slice13],\n",
        "       simple_regret_exact_13[slice13],\n",
        "       simple_regret_exact_14[slice13],\n",
        "       simple_regret_exact_15[slice13],\n",
        "       simple_regret_exact_16[slice13],\n",
        "       simple_regret_exact_17[slice13],\n",
        "       simple_regret_exact_18[slice13],\n",
        "       simple_regret_exact_19[slice13],\n",
        "       simple_regret_exact_20[slice13]]\n",
        "\n",
        "approx13_results = pd.DataFrame(approx13).sort_values(by=[0], ascending=False)\n",
        "exact13_results = pd.DataFrame(exact13).sort_values(by=[0], ascending=False)\n",
        "\n",
        "### Best simple regret minimization IQR - approx:\n",
        "lower_approx13 = np.asarray(approx13_results[4:5][0])[0]\n",
        "median_approx13 = np.asarray(approx13_results[9:10][0])[0]\n",
        "upper_approx13 = np.asarray(approx13_results[14:15][0])[0]\n",
        "\n",
        "lower_exact13 = np.asarray(exact13_results[4:5][0])[0]\n",
        "median_exact13 = np.asarray(exact13_results[9:10][0])[0]\n",
        "upper_exact13 = np.asarray(exact13_results[14:15][0])[0]"
      ]
    },
    {
      "cell_type": "code",
      "execution_count": 82,
      "metadata": {
        "id": "9A7mlVvJQxf5"
      },
      "outputs": [],
      "source": [
        "# Iteration4 :\n",
        "\n",
        "slice4 = 3\n",
        "\n",
        "approx4 = [simple_regret_approx_1[slice4],\n",
        "       simple_regret_approx_2[slice4],\n",
        "       simple_regret_approx_3[slice4],\n",
        "       simple_regret_approx_4[slice4],\n",
        "       simple_regret_approx_5[slice4],\n",
        "       simple_regret_approx_6[slice4],\n",
        "       simple_regret_approx_7[slice4],\n",
        "       simple_regret_approx_8[slice4],\n",
        "       simple_regret_approx_9[slice4],\n",
        "       simple_regret_approx_10[slice4],\n",
        "       simple_regret_approx_11[slice4],\n",
        "       simple_regret_approx_12[slice4],\n",
        "       simple_regret_approx_13[slice4],\n",
        "       simple_regret_approx_14[slice4],\n",
        "       simple_regret_approx_15[slice4],\n",
        "       simple_regret_approx_16[slice4],\n",
        "       simple_regret_approx_17[slice4],\n",
        "       simple_regret_approx_18[slice4],\n",
        "       simple_regret_approx_19[slice4],\n",
        "       simple_regret_approx_20[slice4]]\n",
        "\n",
        "exact4 = [simple_regret_exact_1[slice4],\n",
        "       simple_regret_exact_2[slice4],\n",
        "       simple_regret_exact_3[slice4],\n",
        "       simple_regret_exact_4[slice4],\n",
        "       simple_regret_exact_5[slice4],\n",
        "       simple_regret_exact_6[slice4],\n",
        "       simple_regret_exact_7[slice4],\n",
        "       simple_regret_exact_8[slice4],\n",
        "       simple_regret_exact_9[slice4],\n",
        "       simple_regret_exact_10[slice4],\n",
        "       simple_regret_exact_11[slice4],\n",
        "       simple_regret_exact_12[slice4],\n",
        "       simple_regret_exact_13[slice4],\n",
        "       simple_regret_exact_14[slice4],\n",
        "       simple_regret_exact_15[slice4],\n",
        "       simple_regret_exact_16[slice4],\n",
        "       simple_regret_exact_17[slice4],\n",
        "       simple_regret_exact_18[slice4],\n",
        "       simple_regret_exact_19[slice4],\n",
        "       simple_regret_exact_20[slice4]]\n",
        "\n",
        "approx4_results = pd.DataFrame(approx4).sort_values(by=[0], ascending=False)\n",
        "exact4_results = pd.DataFrame(exact4).sort_values(by=[0], ascending=False)\n",
        "\n",
        "### Best simple regret minimization IQR - approx:\n",
        "lower_approx4 = np.asarray(approx4_results[4:5][0])[0]\n",
        "median_approx4 = np.asarray(approx4_results[9:10][0])[0]\n",
        "upper_approx4 = np.asarray(approx4_results[14:15][0])[0]\n",
        "\n",
        "lower_exact4 = np.asarray(exact4_results[4:5][0])[0]\n",
        "median_exact4 = np.asarray(exact4_results[9:10][0])[0]\n",
        "upper_exact4 = np.asarray(exact4_results[14:15][0])[0]"
      ]
    },
    {
      "cell_type": "code",
      "execution_count": 83,
      "metadata": {
        "id": "ijq-rioYQxf5"
      },
      "outputs": [],
      "source": [
        "# Iteration14 :\n",
        "\n",
        "slice14 = 13\n",
        "\n",
        "approx14 = [simple_regret_approx_1[slice14],\n",
        "       simple_regret_approx_2[slice14],\n",
        "       simple_regret_approx_3[slice14],\n",
        "       simple_regret_approx_4[slice14],\n",
        "       simple_regret_approx_5[slice14],\n",
        "       simple_regret_approx_6[slice14],\n",
        "       simple_regret_approx_7[slice14],\n",
        "       simple_regret_approx_8[slice14],\n",
        "       simple_regret_approx_9[slice14],\n",
        "       simple_regret_approx_10[slice14],\n",
        "       simple_regret_approx_11[slice14],\n",
        "       simple_regret_approx_12[slice14],\n",
        "       simple_regret_approx_13[slice14],\n",
        "       simple_regret_approx_14[slice14],\n",
        "       simple_regret_approx_15[slice14],\n",
        "       simple_regret_approx_16[slice14],\n",
        "       simple_regret_approx_17[slice14],\n",
        "       simple_regret_approx_18[slice14],\n",
        "       simple_regret_approx_19[slice14],\n",
        "       simple_regret_approx_20[slice14]]\n",
        "\n",
        "exact14 = [simple_regret_exact_1[slice14],\n",
        "       simple_regret_exact_2[slice14],\n",
        "       simple_regret_exact_3[slice14],\n",
        "       simple_regret_exact_4[slice14],\n",
        "       simple_regret_exact_5[slice14],\n",
        "       simple_regret_exact_6[slice14],\n",
        "       simple_regret_exact_7[slice14],\n",
        "       simple_regret_exact_8[slice14],\n",
        "       simple_regret_exact_9[slice14],\n",
        "       simple_regret_exact_10[slice14],\n",
        "       simple_regret_exact_11[slice14],\n",
        "       simple_regret_exact_12[slice14],\n",
        "       simple_regret_exact_13[slice14],\n",
        "       simple_regret_exact_14[slice14],\n",
        "       simple_regret_exact_15[slice14],\n",
        "       simple_regret_exact_16[slice14],\n",
        "       simple_regret_exact_17[slice14],\n",
        "       simple_regret_exact_18[slice14],\n",
        "       simple_regret_exact_19[slice14],\n",
        "       simple_regret_exact_20[slice14]]\n",
        "\n",
        "approx14_results = pd.DataFrame(approx14).sort_values(by=[0], ascending=False)\n",
        "exact14_results = pd.DataFrame(exact14).sort_values(by=[0], ascending=False)\n",
        "\n",
        "### Best simple regret minimization IQR - approx:\n",
        "lower_approx14 = np.asarray(approx14_results[4:5][0])[0]\n",
        "median_approx14 = np.asarray(approx14_results[9:10][0])[0]\n",
        "upper_approx14 = np.asarray(approx14_results[14:15][0])[0]\n",
        "\n",
        "lower_exact14 = np.asarray(exact14_results[4:5][0])[0]\n",
        "median_exact14 = np.asarray(exact14_results[9:10][0])[0]\n",
        "upper_exact14 = np.asarray(exact14_results[14:15][0])[0]"
      ]
    },
    {
      "cell_type": "code",
      "execution_count": 84,
      "metadata": {
        "id": "XINlZjoTd-ZK"
      },
      "outputs": [],
      "source": [
        "# Iteration5 :\n",
        "\n",
        "slice5 = 4\n",
        "\n",
        "approx5 = [simple_regret_approx_1[slice5],\n",
        "       simple_regret_approx_2[slice5],\n",
        "       simple_regret_approx_3[slice5],\n",
        "       simple_regret_approx_4[slice5],\n",
        "       simple_regret_approx_5[slice5],\n",
        "       simple_regret_approx_6[slice5],\n",
        "       simple_regret_approx_7[slice5],\n",
        "       simple_regret_approx_8[slice5],\n",
        "       simple_regret_approx_9[slice5],\n",
        "       simple_regret_approx_10[slice5],\n",
        "       simple_regret_approx_11[slice5],\n",
        "       simple_regret_approx_12[slice5],\n",
        "       simple_regret_approx_13[slice5],\n",
        "       simple_regret_approx_14[slice5],\n",
        "       simple_regret_approx_15[slice5],\n",
        "       simple_regret_approx_16[slice5],\n",
        "       simple_regret_approx_17[slice5],\n",
        "       simple_regret_approx_18[slice5],\n",
        "       simple_regret_approx_19[slice5],\n",
        "       simple_regret_approx_20[slice5]]\n",
        "\n",
        "exact5 = [simple_regret_exact_1[slice5],\n",
        "       simple_regret_exact_2[slice5],\n",
        "       simple_regret_exact_3[slice5],\n",
        "       simple_regret_exact_4[slice5],\n",
        "       simple_regret_exact_5[slice5],\n",
        "       simple_regret_exact_6[slice5],\n",
        "       simple_regret_exact_7[slice5],\n",
        "       simple_regret_exact_8[slice5],\n",
        "       simple_regret_exact_9[slice5],\n",
        "       simple_regret_exact_10[slice5],\n",
        "       simple_regret_exact_11[slice5],\n",
        "       simple_regret_exact_12[slice5],\n",
        "       simple_regret_exact_13[slice5],\n",
        "       simple_regret_exact_14[slice5],\n",
        "       simple_regret_exact_15[slice5],\n",
        "       simple_regret_exact_16[slice5],\n",
        "       simple_regret_exact_17[slice5],\n",
        "       simple_regret_exact_18[slice5],\n",
        "       simple_regret_exact_19[slice5],\n",
        "       simple_regret_exact_20[slice5]]\n",
        "\n",
        "approx5_results = pd.DataFrame(approx5).sort_values(by=[0], ascending=False)\n",
        "exact5_results = pd.DataFrame(exact5).sort_values(by=[0], ascending=False)\n",
        "\n",
        "### Best simple regret minimization IQR - approx:\n",
        "lower_approx5 = np.asarray(approx5_results[4:5][0])[0]\n",
        "median_approx5 = np.asarray(approx5_results[9:10][0])[0]\n",
        "upper_approx5 = np.asarray(approx5_results[14:15][0])[0]\n",
        "\n",
        "lower_exact5 = np.asarray(exact5_results[4:5][0])[0]\n",
        "median_exact5 = np.asarray(exact5_results[9:10][0])[0]\n",
        "upper_exact5 = np.asarray(exact5_results[14:15][0])[0]"
      ]
    },
    {
      "cell_type": "code",
      "execution_count": 85,
      "metadata": {
        "id": "4aZ7C8sOQxf6"
      },
      "outputs": [],
      "source": [
        "# Iteration15 :\n",
        "\n",
        "slice15 = 14\n",
        "\n",
        "approx15 = [simple_regret_approx_1[slice15],\n",
        "       simple_regret_approx_2[slice15],\n",
        "       simple_regret_approx_3[slice15],\n",
        "       simple_regret_approx_4[slice15],\n",
        "       simple_regret_approx_5[slice15],\n",
        "       simple_regret_approx_6[slice15],\n",
        "       simple_regret_approx_7[slice15],\n",
        "       simple_regret_approx_8[slice15],\n",
        "       simple_regret_approx_9[slice15],\n",
        "       simple_regret_approx_10[slice15],\n",
        "       simple_regret_approx_11[slice15],\n",
        "       simple_regret_approx_12[slice15],\n",
        "       simple_regret_approx_13[slice15],\n",
        "       simple_regret_approx_14[slice15],\n",
        "       simple_regret_approx_15[slice15],\n",
        "       simple_regret_approx_16[slice15],\n",
        "       simple_regret_approx_17[slice15],\n",
        "       simple_regret_approx_18[slice15],\n",
        "       simple_regret_approx_19[slice15],\n",
        "       simple_regret_approx_20[slice15]]\n",
        "\n",
        "exact15 = [simple_regret_exact_1[slice15],\n",
        "       simple_regret_exact_2[slice15],\n",
        "       simple_regret_exact_3[slice15],\n",
        "       simple_regret_exact_4[slice15],\n",
        "       simple_regret_exact_5[slice15],\n",
        "       simple_regret_exact_6[slice15],\n",
        "       simple_regret_exact_7[slice15],\n",
        "       simple_regret_exact_8[slice15],\n",
        "       simple_regret_exact_9[slice15],\n",
        "       simple_regret_exact_10[slice15],\n",
        "       simple_regret_exact_11[slice15],\n",
        "       simple_regret_exact_12[slice15],\n",
        "       simple_regret_exact_13[slice15],\n",
        "       simple_regret_exact_14[slice15],\n",
        "       simple_regret_exact_15[slice15],\n",
        "       simple_regret_exact_16[slice15],\n",
        "       simple_regret_exact_17[slice15],\n",
        "       simple_regret_exact_18[slice15],\n",
        "       simple_regret_exact_19[slice15],\n",
        "       simple_regret_exact_20[slice15]]\n",
        "\n",
        "approx15_results = pd.DataFrame(approx15).sort_values(by=[0], ascending=False)\n",
        "exact15_results = pd.DataFrame(exact15).sort_values(by=[0], ascending=False)\n",
        "\n",
        "### Best simple regret minimization IQR - approx:\n",
        "lower_approx15 = np.asarray(approx15_results[4:5][0])[0]\n",
        "median_approx15 = np.asarray(approx15_results[9:10][0])[0]\n",
        "upper_approx15 = np.asarray(approx15_results[14:15][0])[0]\n",
        "\n",
        "lower_exact15 = np.asarray(exact15_results[4:5][0])[0]\n",
        "median_exact15 = np.asarray(exact15_results[9:10][0])[0]\n",
        "upper_exact15 = np.asarray(exact15_results[14:15][0])[0]"
      ]
    },
    {
      "cell_type": "code",
      "execution_count": 86,
      "metadata": {
        "id": "KJINKhv1Qxf6"
      },
      "outputs": [],
      "source": [
        "# Iteration6 :\n",
        "\n",
        "slice6 = 5\n",
        "\n",
        "approx6 = [simple_regret_approx_1[slice6],\n",
        "       simple_regret_approx_2[slice6],\n",
        "       simple_regret_approx_3[slice6],\n",
        "       simple_regret_approx_4[slice6],\n",
        "       simple_regret_approx_5[slice6],\n",
        "       simple_regret_approx_6[slice6],\n",
        "       simple_regret_approx_7[slice6],\n",
        "       simple_regret_approx_8[slice6],\n",
        "       simple_regret_approx_9[slice6],\n",
        "       simple_regret_approx_10[slice6],\n",
        "       simple_regret_approx_11[slice6],\n",
        "       simple_regret_approx_12[slice6],\n",
        "       simple_regret_approx_13[slice6],\n",
        "       simple_regret_approx_14[slice6],\n",
        "       simple_regret_approx_15[slice6],\n",
        "       simple_regret_approx_16[slice6],\n",
        "       simple_regret_approx_17[slice6],\n",
        "       simple_regret_approx_18[slice6],\n",
        "       simple_regret_approx_19[slice6],\n",
        "       simple_regret_approx_20[slice6]]\n",
        "\n",
        "exact6 = [simple_regret_exact_1[slice6],\n",
        "       simple_regret_exact_2[slice6],\n",
        "       simple_regret_exact_3[slice6],\n",
        "       simple_regret_exact_4[slice6],\n",
        "       simple_regret_exact_5[slice6],\n",
        "       simple_regret_exact_6[slice6],\n",
        "       simple_regret_exact_7[slice6],\n",
        "       simple_regret_exact_8[slice6],\n",
        "       simple_regret_exact_9[slice6],\n",
        "       simple_regret_exact_10[slice6],\n",
        "       simple_regret_exact_11[slice6],\n",
        "       simple_regret_exact_12[slice6],\n",
        "       simple_regret_exact_13[slice6],\n",
        "       simple_regret_exact_14[slice6],\n",
        "       simple_regret_exact_15[slice6],\n",
        "       simple_regret_exact_16[slice6],\n",
        "       simple_regret_exact_17[slice6],\n",
        "       simple_regret_exact_18[slice6],\n",
        "       simple_regret_exact_19[slice6],\n",
        "       simple_regret_exact_20[slice6]]\n",
        "\n",
        "approx6_results = pd.DataFrame(approx6).sort_values(by=[0], ascending=False)\n",
        "exact6_results = pd.DataFrame(exact6).sort_values(by=[0], ascending=False)\n",
        "\n",
        "### Best simple regret minimization IQR - approx:\n",
        "lower_approx6 = np.asarray(approx6_results[4:5][0])[0]\n",
        "median_approx6 = np.asarray(approx6_results[9:10][0])[0]\n",
        "upper_approx6 = np.asarray(approx6_results[14:15][0])[0]\n",
        "\n",
        "lower_exact6 = np.asarray(exact6_results[4:5][0])[0]\n",
        "median_exact6 = np.asarray(exact6_results[9:10][0])[0]\n",
        "upper_exact6 = np.asarray(exact6_results[14:15][0])[0]"
      ]
    },
    {
      "cell_type": "code",
      "execution_count": 87,
      "metadata": {
        "id": "nwC5N1FsQxf7"
      },
      "outputs": [],
      "source": [
        "# Iteration16 :\n",
        "\n",
        "slice16 = 15\n",
        "\n",
        "approx16 = [simple_regret_approx_1[slice16],\n",
        "       simple_regret_approx_2[slice16],\n",
        "       simple_regret_approx_3[slice16],\n",
        "       simple_regret_approx_4[slice16],\n",
        "       simple_regret_approx_5[slice16],\n",
        "       simple_regret_approx_6[slice16],\n",
        "       simple_regret_approx_7[slice16],\n",
        "       simple_regret_approx_8[slice16],\n",
        "       simple_regret_approx_9[slice16],\n",
        "       simple_regret_approx_10[slice16],\n",
        "       simple_regret_approx_11[slice16],\n",
        "       simple_regret_approx_12[slice16],\n",
        "       simple_regret_approx_13[slice16],\n",
        "       simple_regret_approx_14[slice16],\n",
        "       simple_regret_approx_15[slice16],\n",
        "       simple_regret_approx_16[slice16],\n",
        "       simple_regret_approx_17[slice16],\n",
        "       simple_regret_approx_18[slice16],\n",
        "       simple_regret_approx_19[slice16],\n",
        "       simple_regret_approx_20[slice16]]\n",
        "\n",
        "exact16 = [simple_regret_exact_1[slice16],\n",
        "       simple_regret_exact_2[slice16],\n",
        "       simple_regret_exact_3[slice16],\n",
        "       simple_regret_exact_4[slice16],\n",
        "       simple_regret_exact_5[slice16],\n",
        "       simple_regret_exact_6[slice16],\n",
        "       simple_regret_exact_7[slice16],\n",
        "       simple_regret_exact_8[slice16],\n",
        "       simple_regret_exact_9[slice16],\n",
        "       simple_regret_exact_10[slice16],\n",
        "       simple_regret_exact_11[slice16],\n",
        "       simple_regret_exact_12[slice16],\n",
        "       simple_regret_exact_13[slice16],\n",
        "       simple_regret_exact_14[slice16],\n",
        "       simple_regret_exact_15[slice16],\n",
        "       simple_regret_exact_16[slice16],\n",
        "       simple_regret_exact_17[slice16],\n",
        "       simple_regret_exact_18[slice16],\n",
        "       simple_regret_exact_19[slice16],\n",
        "       simple_regret_exact_20[slice16]]\n",
        "\n",
        "approx16_results = pd.DataFrame(approx16).sort_values(by=[0], ascending=False)\n",
        "exact16_results = pd.DataFrame(exact16).sort_values(by=[0], ascending=False)\n",
        "\n",
        "### Best simple regret minimization IQR - approx:\n",
        "lower_approx16 = np.asarray(approx16_results[4:5][0])[0]\n",
        "median_approx16 = np.asarray(approx16_results[9:10][0])[0]\n",
        "upper_approx16 = np.asarray(approx16_results[14:15][0])[0]\n",
        "\n",
        "lower_exact16 = np.asarray(exact16_results[4:5][0])[0]\n",
        "median_exact16 = np.asarray(exact16_results[9:10][0])[0]\n",
        "upper_exact16 = np.asarray(exact16_results[14:15][0])[0]"
      ]
    },
    {
      "cell_type": "code",
      "execution_count": 88,
      "metadata": {
        "id": "TrPV0AfnQxf7"
      },
      "outputs": [],
      "source": [
        "# Iteration7 :\n",
        "\n",
        "slice7 = 6\n",
        "\n",
        "approx7 = [simple_regret_approx_1[slice7],\n",
        "       simple_regret_approx_2[slice7],\n",
        "       simple_regret_approx_3[slice7],\n",
        "       simple_regret_approx_4[slice7],\n",
        "       simple_regret_approx_5[slice7],\n",
        "       simple_regret_approx_6[slice7],\n",
        "       simple_regret_approx_7[slice7],\n",
        "       simple_regret_approx_8[slice7],\n",
        "       simple_regret_approx_9[slice7],\n",
        "       simple_regret_approx_10[slice7],\n",
        "       simple_regret_approx_11[slice7],\n",
        "       simple_regret_approx_12[slice7],\n",
        "       simple_regret_approx_13[slice7],\n",
        "       simple_regret_approx_14[slice7],\n",
        "       simple_regret_approx_15[slice7],\n",
        "       simple_regret_approx_16[slice7],\n",
        "       simple_regret_approx_17[slice7],\n",
        "       simple_regret_approx_18[slice7],\n",
        "       simple_regret_approx_19[slice7],\n",
        "       simple_regret_approx_20[slice7]]\n",
        "\n",
        "exact7 = [simple_regret_exact_1[slice7],\n",
        "       simple_regret_exact_2[slice7],\n",
        "       simple_regret_exact_3[slice7],\n",
        "       simple_regret_exact_4[slice7],\n",
        "       simple_regret_exact_5[slice7],\n",
        "       simple_regret_exact_6[slice7],\n",
        "       simple_regret_exact_7[slice7],\n",
        "       simple_regret_exact_8[slice7],\n",
        "       simple_regret_exact_9[slice7],\n",
        "       simple_regret_exact_10[slice7],\n",
        "       simple_regret_exact_11[slice7],\n",
        "       simple_regret_exact_12[slice7],\n",
        "       simple_regret_exact_13[slice7],\n",
        "       simple_regret_exact_14[slice7],\n",
        "       simple_regret_exact_15[slice7],\n",
        "       simple_regret_exact_16[slice7],\n",
        "       simple_regret_exact_17[slice7],\n",
        "       simple_regret_exact_18[slice7],\n",
        "       simple_regret_exact_19[slice7],\n",
        "       simple_regret_exact_20[slice7]]\n",
        "\n",
        "approx7_results = pd.DataFrame(approx7).sort_values(by=[0], ascending=False)\n",
        "exact7_results = pd.DataFrame(exact7).sort_values(by=[0], ascending=False)\n",
        "\n",
        "### Best simple regret minimization IQR - approx:\n",
        "lower_approx7 = np.asarray(approx7_results[4:5][0])[0]\n",
        "median_approx7 = np.asarray(approx7_results[9:10][0])[0]\n",
        "upper_approx7 = np.asarray(approx7_results[14:15][0])[0]\n",
        "\n",
        "lower_exact7 = np.asarray(exact7_results[4:5][0])[0]\n",
        "median_exact7 = np.asarray(exact7_results[9:10][0])[0]\n",
        "upper_exact7 = np.asarray(exact7_results[14:15][0])[0]"
      ]
    },
    {
      "cell_type": "code",
      "execution_count": 89,
      "metadata": {
        "id": "Ub_-wpK4Qxf8"
      },
      "outputs": [],
      "source": [
        "# Iteration17 :\n",
        "\n",
        "slice17 = 16\n",
        "\n",
        "approx17 = [simple_regret_approx_1[slice17],\n",
        "       simple_regret_approx_2[slice17],\n",
        "       simple_regret_approx_3[slice17],\n",
        "       simple_regret_approx_4[slice17],\n",
        "       simple_regret_approx_5[slice17],\n",
        "       simple_regret_approx_6[slice17],\n",
        "       simple_regret_approx_7[slice17],\n",
        "       simple_regret_approx_8[slice17],\n",
        "       simple_regret_approx_9[slice17],\n",
        "       simple_regret_approx_10[slice17],\n",
        "       simple_regret_approx_11[slice17],\n",
        "       simple_regret_approx_12[slice17],\n",
        "       simple_regret_approx_13[slice17],\n",
        "       simple_regret_approx_14[slice17],\n",
        "       simple_regret_approx_15[slice17],\n",
        "       simple_regret_approx_16[slice17],\n",
        "       simple_regret_approx_17[slice17],\n",
        "       simple_regret_approx_18[slice17],\n",
        "       simple_regret_approx_19[slice17],\n",
        "       simple_regret_approx_20[slice17]]\n",
        "\n",
        "exact17 = [simple_regret_exact_1[slice17],\n",
        "       simple_regret_exact_2[slice17],\n",
        "       simple_regret_exact_3[slice17],\n",
        "       simple_regret_exact_4[slice17],\n",
        "       simple_regret_exact_5[slice17],\n",
        "       simple_regret_exact_6[slice17],\n",
        "       simple_regret_exact_7[slice17],\n",
        "       simple_regret_exact_8[slice17],\n",
        "       simple_regret_exact_9[slice17],\n",
        "       simple_regret_exact_10[slice17],\n",
        "       simple_regret_exact_11[slice17],\n",
        "       simple_regret_exact_12[slice17],\n",
        "       simple_regret_exact_13[slice17],\n",
        "       simple_regret_exact_14[slice17],\n",
        "       simple_regret_exact_15[slice17],\n",
        "       simple_regret_exact_16[slice17],\n",
        "       simple_regret_exact_17[slice17],\n",
        "       simple_regret_exact_18[slice17],\n",
        "       simple_regret_exact_19[slice17],\n",
        "       simple_regret_exact_20[slice17]]\n",
        "\n",
        "approx17_results = pd.DataFrame(approx17).sort_values(by=[0], ascending=False)\n",
        "exact17_results = pd.DataFrame(exact17).sort_values(by=[0], ascending=False)\n",
        "\n",
        "### Best simple regret minimization IQR - approx:\n",
        "lower_approx17 = np.asarray(approx17_results[4:5][0])[0]\n",
        "median_approx17 = np.asarray(approx17_results[9:10][0])[0]\n",
        "upper_approx17 = np.asarray(approx17_results[14:15][0])[0]\n",
        "\n",
        "lower_exact17 = np.asarray(exact17_results[4:5][0])[0]\n",
        "median_exact17 = np.asarray(exact17_results[9:10][0])[0]\n",
        "upper_exact17 = np.asarray(exact17_results[14:15][0])[0]"
      ]
    },
    {
      "cell_type": "code",
      "execution_count": 90,
      "metadata": {
        "id": "-6VLo37PQxf8"
      },
      "outputs": [],
      "source": [
        "# Iteration8 :\n",
        "\n",
        "slice8 = 7\n",
        "\n",
        "approx8 = [simple_regret_approx_1[slice8],\n",
        "       simple_regret_approx_2[slice8],\n",
        "       simple_regret_approx_3[slice8],\n",
        "       simple_regret_approx_4[slice8],\n",
        "       simple_regret_approx_5[slice8],\n",
        "       simple_regret_approx_6[slice8],\n",
        "       simple_regret_approx_7[slice8],\n",
        "       simple_regret_approx_8[slice8],\n",
        "       simple_regret_approx_9[slice8],\n",
        "       simple_regret_approx_10[slice8],\n",
        "       simple_regret_approx_11[slice8],\n",
        "       simple_regret_approx_12[slice8],\n",
        "       simple_regret_approx_13[slice8],\n",
        "       simple_regret_approx_14[slice8],\n",
        "       simple_regret_approx_15[slice8],\n",
        "       simple_regret_approx_16[slice8],\n",
        "       simple_regret_approx_17[slice8],\n",
        "       simple_regret_approx_18[slice8],\n",
        "       simple_regret_approx_19[slice8],\n",
        "       simple_regret_approx_20[slice8]]\n",
        "\n",
        "exact8 = [simple_regret_exact_1[slice8],\n",
        "       simple_regret_exact_2[slice8],\n",
        "       simple_regret_exact_3[slice8],\n",
        "       simple_regret_exact_4[slice8],\n",
        "       simple_regret_exact_5[slice8],\n",
        "       simple_regret_exact_6[slice8],\n",
        "       simple_regret_exact_7[slice8],\n",
        "       simple_regret_exact_8[slice8],\n",
        "       simple_regret_exact_9[slice8],\n",
        "       simple_regret_exact_10[slice8],\n",
        "       simple_regret_exact_11[slice8],\n",
        "       simple_regret_exact_12[slice8],\n",
        "       simple_regret_exact_13[slice8],\n",
        "       simple_regret_exact_14[slice8],\n",
        "       simple_regret_exact_15[slice8],\n",
        "       simple_regret_exact_16[slice8],\n",
        "       simple_regret_exact_17[slice8],\n",
        "       simple_regret_exact_18[slice8],\n",
        "       simple_regret_exact_19[slice8],\n",
        "       simple_regret_exact_20[slice8]]\n",
        "\n",
        "approx8_results = pd.DataFrame(approx8).sort_values(by=[0], ascending=False)\n",
        "exact8_results = pd.DataFrame(exact8).sort_values(by=[0], ascending=False)\n",
        "\n",
        "### Best simple regret minimization IQR - approx:\n",
        "lower_approx8 = np.asarray(approx8_results[4:5][0])[0]\n",
        "median_approx8 = np.asarray(approx8_results[9:10][0])[0]\n",
        "upper_approx8 = np.asarray(approx8_results[14:15][0])[0]\n",
        "\n",
        "lower_exact8 = np.asarray(exact8_results[4:5][0])[0]\n",
        "median_exact8 = np.asarray(exact8_results[9:10][0])[0]\n",
        "upper_exact8 = np.asarray(exact8_results[14:15][0])[0]"
      ]
    },
    {
      "cell_type": "code",
      "execution_count": 91,
      "metadata": {
        "id": "2Dp-9CC2Qxf9"
      },
      "outputs": [],
      "source": [
        "# Iteration18 :\n",
        "\n",
        "slice18 = 17\n",
        "\n",
        "approx18 = [simple_regret_approx_1[slice18],\n",
        "       simple_regret_approx_2[slice18],\n",
        "       simple_regret_approx_3[slice18],\n",
        "       simple_regret_approx_4[slice18],\n",
        "       simple_regret_approx_5[slice18],\n",
        "       simple_regret_approx_6[slice18],\n",
        "       simple_regret_approx_7[slice18],\n",
        "       simple_regret_approx_8[slice18],\n",
        "       simple_regret_approx_9[slice18],\n",
        "       simple_regret_approx_10[slice18],\n",
        "       simple_regret_approx_11[slice18],\n",
        "       simple_regret_approx_12[slice18],\n",
        "       simple_regret_approx_13[slice18],\n",
        "       simple_regret_approx_14[slice18],\n",
        "       simple_regret_approx_15[slice18],\n",
        "       simple_regret_approx_16[slice18],\n",
        "       simple_regret_approx_17[slice18],\n",
        "       simple_regret_approx_18[slice18],\n",
        "       simple_regret_approx_19[slice18],\n",
        "       simple_regret_approx_20[slice18]]\n",
        "\n",
        "exact18 = [simple_regret_exact_1[slice18],\n",
        "       simple_regret_exact_2[slice18],\n",
        "       simple_regret_exact_3[slice18],\n",
        "       simple_regret_exact_4[slice18],\n",
        "       simple_regret_exact_5[slice18],\n",
        "       simple_regret_exact_6[slice18],\n",
        "       simple_regret_exact_7[slice18],\n",
        "       simple_regret_exact_8[slice18],\n",
        "       simple_regret_exact_9[slice18],\n",
        "       simple_regret_exact_10[slice18],\n",
        "       simple_regret_exact_11[slice18],\n",
        "       simple_regret_exact_12[slice18],\n",
        "       simple_regret_exact_13[slice18],\n",
        "       simple_regret_exact_14[slice18],\n",
        "       simple_regret_exact_15[slice18],\n",
        "       simple_regret_exact_16[slice18],\n",
        "       simple_regret_exact_17[slice18],\n",
        "       simple_regret_exact_18[slice18],\n",
        "       simple_regret_exact_19[slice18],\n",
        "       simple_regret_exact_20[slice18]]\n",
        "\n",
        "approx18_results = pd.DataFrame(approx18).sort_values(by=[0], ascending=False)\n",
        "exact18_results = pd.DataFrame(exact18).sort_values(by=[0], ascending=False)\n",
        "\n",
        "### Best simple regret minimization IQR - approx:\n",
        "lower_approx18 = np.asarray(approx18_results[4:5][0])[0]\n",
        "median_approx18 = np.asarray(approx18_results[9:10][0])[0]\n",
        "upper_approx18 = np.asarray(approx18_results[14:15][0])[0]\n",
        "\n",
        "lower_exact18 = np.asarray(exact18_results[4:5][0])[0]\n",
        "median_exact18 = np.asarray(exact18_results[9:10][0])[0]\n",
        "upper_exact18 = np.asarray(exact18_results[14:15][0])[0]"
      ]
    },
    {
      "cell_type": "code",
      "execution_count": 92,
      "metadata": {
        "id": "SqiaOpB7Qxf9"
      },
      "outputs": [],
      "source": [
        "# Iteration9 :\n",
        "\n",
        "slice9 = 8\n",
        "\n",
        "approx9 = [simple_regret_approx_1[slice9],\n",
        "       simple_regret_approx_2[slice9],\n",
        "       simple_regret_approx_3[slice9],\n",
        "       simple_regret_approx_4[slice9],\n",
        "       simple_regret_approx_5[slice9],\n",
        "       simple_regret_approx_6[slice9],\n",
        "       simple_regret_approx_7[slice9],\n",
        "       simple_regret_approx_8[slice9],\n",
        "       simple_regret_approx_9[slice9],\n",
        "       simple_regret_approx_10[slice9],\n",
        "       simple_regret_approx_11[slice9],\n",
        "       simple_regret_approx_12[slice9],\n",
        "       simple_regret_approx_13[slice9],\n",
        "       simple_regret_approx_14[slice9],\n",
        "       simple_regret_approx_15[slice9],\n",
        "       simple_regret_approx_16[slice9],\n",
        "       simple_regret_approx_17[slice9],\n",
        "       simple_regret_approx_18[slice9],\n",
        "       simple_regret_approx_19[slice9],\n",
        "       simple_regret_approx_20[slice9]]\n",
        "\n",
        "exact9 = [simple_regret_exact_1[slice9],\n",
        "       simple_regret_exact_2[slice9],\n",
        "       simple_regret_exact_3[slice9],\n",
        "       simple_regret_exact_4[slice9],\n",
        "       simple_regret_exact_5[slice9],\n",
        "       simple_regret_exact_6[slice9],\n",
        "       simple_regret_exact_7[slice9],\n",
        "       simple_regret_exact_8[slice9],\n",
        "       simple_regret_exact_9[slice9],\n",
        "       simple_regret_exact_10[slice9],\n",
        "       simple_regret_exact_11[slice9],\n",
        "       simple_regret_exact_12[slice9],\n",
        "       simple_regret_exact_13[slice9],\n",
        "       simple_regret_exact_14[slice9],\n",
        "       simple_regret_exact_15[slice9],\n",
        "       simple_regret_exact_16[slice9],\n",
        "       simple_regret_exact_17[slice9],\n",
        "       simple_regret_exact_18[slice9],\n",
        "       simple_regret_exact_19[slice9],\n",
        "       simple_regret_exact_20[slice9]]\n",
        "\n",
        "approx9_results = pd.DataFrame(approx9).sort_values(by=[0], ascending=False)\n",
        "exact9_results = pd.DataFrame(exact9).sort_values(by=[0], ascending=False)\n",
        "\n",
        "### Best simple regret minimization IQR - approx:\n",
        "lower_approx9 = np.asarray(approx9_results[4:5][0])[0]\n",
        "median_approx9 = np.asarray(approx9_results[9:10][0])[0]\n",
        "upper_approx9 = np.asarray(approx9_results[14:15][0])[0]\n",
        "\n",
        "lower_exact9 = np.asarray(exact9_results[4:5][0])[0]\n",
        "median_exact9 = np.asarray(exact9_results[9:10][0])[0]\n",
        "upper_exact9 = np.asarray(exact9_results[14:15][0])[0]"
      ]
    },
    {
      "cell_type": "code",
      "execution_count": 93,
      "metadata": {
        "id": "OQkCCOsPQxf9"
      },
      "outputs": [],
      "source": [
        "# Iteration19 :\n",
        "\n",
        "slice19 = 18\n",
        "\n",
        "approx19 = [simple_regret_approx_1[slice19],\n",
        "       simple_regret_approx_2[slice19],\n",
        "       simple_regret_approx_3[slice19],\n",
        "       simple_regret_approx_4[slice19],\n",
        "       simple_regret_approx_5[slice19],\n",
        "       simple_regret_approx_6[slice19],\n",
        "       simple_regret_approx_7[slice19],\n",
        "       simple_regret_approx_8[slice19],\n",
        "       simple_regret_approx_9[slice19],\n",
        "       simple_regret_approx_10[slice19],\n",
        "       simple_regret_approx_11[slice19],\n",
        "       simple_regret_approx_12[slice19],\n",
        "       simple_regret_approx_13[slice19],\n",
        "       simple_regret_approx_14[slice19],\n",
        "       simple_regret_approx_15[slice19],\n",
        "       simple_regret_approx_16[slice19],\n",
        "       simple_regret_approx_17[slice19],\n",
        "       simple_regret_approx_18[slice19],\n",
        "       simple_regret_approx_19[slice19],\n",
        "       simple_regret_approx_20[slice19]]\n",
        "\n",
        "exact19 = [simple_regret_exact_1[slice19],\n",
        "       simple_regret_exact_2[slice19],\n",
        "       simple_regret_exact_3[slice19],\n",
        "       simple_regret_exact_4[slice19],\n",
        "       simple_regret_exact_5[slice19],\n",
        "       simple_regret_exact_6[slice19],\n",
        "       simple_regret_exact_7[slice19],\n",
        "       simple_regret_exact_8[slice19],\n",
        "       simple_regret_exact_9[slice19],\n",
        "       simple_regret_exact_10[slice19],\n",
        "       simple_regret_exact_11[slice19],\n",
        "       simple_regret_exact_12[slice19],\n",
        "       simple_regret_exact_13[slice19],\n",
        "       simple_regret_exact_14[slice19],\n",
        "       simple_regret_exact_15[slice19],\n",
        "       simple_regret_exact_16[slice19],\n",
        "       simple_regret_exact_17[slice19],\n",
        "       simple_regret_exact_18[slice19],\n",
        "       simple_regret_exact_19[slice19],\n",
        "       simple_regret_exact_20[slice19]]\n",
        "\n",
        "approx19_results = pd.DataFrame(approx19).sort_values(by=[0], ascending=False)\n",
        "exact19_results = pd.DataFrame(exact19).sort_values(by=[0], ascending=False)\n",
        "\n",
        "### Best simple regret minimization IQR - approx:\n",
        "lower_approx19 = np.asarray(approx19_results[4:5][0])[0]\n",
        "median_approx19 = np.asarray(approx19_results[9:10][0])[0]\n",
        "upper_approx19 = np.asarray(approx19_results[14:15][0])[0]\n",
        "\n",
        "lower_exact19 = np.asarray(exact19_results[4:5][0])[0]\n",
        "median_exact19 = np.asarray(exact19_results[9:10][0])[0]\n",
        "upper_exact19 = np.asarray(exact19_results[14:15][0])[0]"
      ]
    },
    {
      "cell_type": "code",
      "execution_count": 94,
      "metadata": {
        "id": "h4vtWahcQxf-"
      },
      "outputs": [],
      "source": [
        "# Iteration10 :\n",
        "\n",
        "slice10 = 9\n",
        "\n",
        "approx10 = [simple_regret_approx_1[slice10],\n",
        "       simple_regret_approx_2[slice10],\n",
        "       simple_regret_approx_3[slice10],\n",
        "       simple_regret_approx_4[slice10],\n",
        "       simple_regret_approx_5[slice10],\n",
        "       simple_regret_approx_6[slice10],\n",
        "       simple_regret_approx_7[slice10],\n",
        "       simple_regret_approx_8[slice10],\n",
        "       simple_regret_approx_9[slice10],\n",
        "       simple_regret_approx_10[slice10],\n",
        "       simple_regret_approx_11[slice10],\n",
        "       simple_regret_approx_12[slice10],\n",
        "       simple_regret_approx_13[slice10],\n",
        "       simple_regret_approx_14[slice10],\n",
        "       simple_regret_approx_15[slice10],\n",
        "       simple_regret_approx_16[slice10],\n",
        "       simple_regret_approx_17[slice10],\n",
        "       simple_regret_approx_18[slice10],\n",
        "       simple_regret_approx_19[slice10],\n",
        "       simple_regret_approx_20[slice10]]\n",
        "\n",
        "exact10 = [simple_regret_exact_1[slice10],\n",
        "       simple_regret_exact_2[slice10],\n",
        "       simple_regret_exact_3[slice10],\n",
        "       simple_regret_exact_4[slice10],\n",
        "       simple_regret_exact_5[slice10],\n",
        "       simple_regret_exact_6[slice10],\n",
        "       simple_regret_exact_7[slice10],\n",
        "       simple_regret_exact_8[slice10],\n",
        "       simple_regret_exact_9[slice10],\n",
        "       simple_regret_exact_10[slice10],\n",
        "       simple_regret_exact_11[slice10],\n",
        "       simple_regret_exact_12[slice10],\n",
        "       simple_regret_exact_13[slice10],\n",
        "       simple_regret_exact_14[slice10],\n",
        "       simple_regret_exact_15[slice10],\n",
        "       simple_regret_exact_16[slice10],\n",
        "       simple_regret_exact_17[slice10],\n",
        "       simple_regret_exact_18[slice10],\n",
        "       simple_regret_exact_19[slice10],\n",
        "       simple_regret_exact_20[slice10]]\n",
        "\n",
        "approx10_results = pd.DataFrame(approx10).sort_values(by=[0], ascending=False)\n",
        "exact10_results = pd.DataFrame(exact10).sort_values(by=[0], ascending=False)\n",
        "\n",
        "### Best simple regret minimization IQR - approx:\n",
        "lower_approx10 = np.asarray(approx10_results[4:5][0])[0]\n",
        "median_approx10 = np.asarray(approx10_results[9:10][0])[0]\n",
        "upper_approx10 = np.asarray(approx10_results[14:15][0])[0]\n",
        "\n",
        "lower_exact10 = np.asarray(exact10_results[4:5][0])[0]\n",
        "median_exact10 = np.asarray(exact10_results[9:10][0])[0]\n",
        "upper_exact10 = np.asarray(exact10_results[14:15][0])[0]"
      ]
    },
    {
      "cell_type": "code",
      "execution_count": 95,
      "metadata": {
        "id": "Rsf240pWQxf-"
      },
      "outputs": [],
      "source": [
        "# Iteration20 :\n",
        "\n",
        "slice20 = 19\n",
        "\n",
        "approx20 = [simple_regret_approx_1[slice20],\n",
        "       simple_regret_approx_2[slice20],\n",
        "       simple_regret_approx_3[slice20],\n",
        "       simple_regret_approx_4[slice20],\n",
        "       simple_regret_approx_5[slice20],\n",
        "       simple_regret_approx_6[slice20],\n",
        "       simple_regret_approx_7[slice20],\n",
        "       simple_regret_approx_8[slice20],\n",
        "       simple_regret_approx_9[slice20],\n",
        "       simple_regret_approx_10[slice20],\n",
        "       simple_regret_approx_11[slice20],\n",
        "       simple_regret_approx_12[slice20],\n",
        "       simple_regret_approx_13[slice20],\n",
        "       simple_regret_approx_14[slice20],\n",
        "       simple_regret_approx_15[slice20],\n",
        "       simple_regret_approx_16[slice20],\n",
        "       simple_regret_approx_17[slice20],\n",
        "       simple_regret_approx_18[slice20],\n",
        "       simple_regret_approx_19[slice20],\n",
        "       simple_regret_approx_20[slice20]]\n",
        "\n",
        "exact20 = [simple_regret_exact_1[slice20],\n",
        "       simple_regret_exact_2[slice20],\n",
        "       simple_regret_exact_3[slice20],\n",
        "       simple_regret_exact_4[slice20],\n",
        "       simple_regret_exact_5[slice20],\n",
        "       simple_regret_exact_6[slice20],\n",
        "       simple_regret_exact_7[slice20],\n",
        "       simple_regret_exact_8[slice20],\n",
        "       simple_regret_exact_9[slice20],\n",
        "       simple_regret_exact_10[slice20],\n",
        "       simple_regret_exact_11[slice20],\n",
        "       simple_regret_exact_12[slice20],\n",
        "       simple_regret_exact_13[slice20],\n",
        "       simple_regret_exact_14[slice20],\n",
        "       simple_regret_exact_15[slice20],\n",
        "       simple_regret_exact_16[slice20],\n",
        "       simple_regret_exact_17[slice20],\n",
        "       simple_regret_exact_18[slice20],\n",
        "       simple_regret_exact_19[slice20],\n",
        "       simple_regret_exact_20[slice20]]\n",
        "\n",
        "approx20_results = pd.DataFrame(approx20).sort_values(by=[0], ascending=False)\n",
        "exact20_results = pd.DataFrame(exact20).sort_values(by=[0], ascending=False)\n",
        "\n",
        "### Best simple regret minimization IQR - approx:\n",
        "lower_approx20 = np.asarray(approx20_results[4:5][0])[0]\n",
        "median_approx20 = np.asarray(approx20_results[9:10][0])[0]\n",
        "upper_approx20 = np.asarray(approx20_results[14:15][0])[0]\n",
        "\n",
        "lower_exact20 = np.asarray(exact20_results[4:5][0])[0]\n",
        "median_exact20 = np.asarray(exact20_results[9:10][0])[0]\n",
        "upper_exact20 = np.asarray(exact20_results[14:15][0])[0]"
      ]
    },
    {
      "cell_type": "code",
      "execution_count": 96,
      "metadata": {
        "id": "gn36RejbQxf_"
      },
      "outputs": [],
      "source": [
        "### Summarize arrays: 'Loser'\n",
        "\n",
        "lower_approx = [lower_approx1,\n",
        "            lower_approx2,\n",
        "            lower_approx3,\n",
        "            lower_approx4,\n",
        "            lower_approx5,\n",
        "            lower_approx6,\n",
        "            lower_approx7,\n",
        "            lower_approx8,\n",
        "            lower_approx9,\n",
        "            lower_approx10,\n",
        "            lower_approx11,\n",
        "            lower_approx12,\n",
        "            lower_approx13,\n",
        "            lower_approx14,\n",
        "            lower_approx15,\n",
        "            lower_approx16,\n",
        "            lower_approx17,\n",
        "            lower_approx18,\n",
        "            lower_approx19,\n",
        "            lower_approx20,\n",
        "            lower_approx21]\n",
        "\n",
        "median_approx = [median_approx1,\n",
        "            median_approx2,\n",
        "            median_approx3,\n",
        "            median_approx4,\n",
        "            median_approx5,\n",
        "            median_approx6,\n",
        "            median_approx7,\n",
        "            median_approx8,\n",
        "            median_approx9,\n",
        "            median_approx10,\n",
        "            median_approx11,\n",
        "            median_approx12,\n",
        "            median_approx13,\n",
        "            median_approx14,\n",
        "            median_approx15,\n",
        "            median_approx16,\n",
        "            median_approx17,\n",
        "            median_approx18,\n",
        "            median_approx19,\n",
        "            median_approx20,\n",
        "            median_approx21]\n",
        "\n",
        "upper_approx = [upper_approx1,\n",
        "            upper_approx2,\n",
        "            upper_approx3,\n",
        "            upper_approx4,\n",
        "            upper_approx5,\n",
        "            upper_approx6,\n",
        "            upper_approx7,\n",
        "            upper_approx8,\n",
        "            upper_approx9,\n",
        "            upper_approx10,\n",
        "            upper_approx11,\n",
        "            upper_approx12,\n",
        "            upper_approx13,\n",
        "            upper_approx14,\n",
        "            upper_approx15,\n",
        "            upper_approx16,\n",
        "            upper_approx17,\n",
        "            upper_approx18,\n",
        "            upper_approx19,\n",
        "            upper_approx20,\n",
        "            upper_approx21]"
      ]
    },
    {
      "cell_type": "code",
      "execution_count": 97,
      "metadata": {
        "id": "wxtGTOYfQxf_"
      },
      "outputs": [],
      "source": [
        "### Summarize arrays: 'exact'\n",
        "\n",
        "lower_exact = [lower_exact1,\n",
        "            lower_exact2,\n",
        "            lower_exact3,\n",
        "            lower_exact4,\n",
        "            lower_exact5,\n",
        "            lower_exact6,\n",
        "            lower_exact7,\n",
        "            lower_exact8,\n",
        "            lower_exact9,\n",
        "            lower_exact10,\n",
        "            lower_exact11,\n",
        "            lower_exact12,\n",
        "            lower_exact13,\n",
        "            lower_exact14,\n",
        "            lower_exact15,\n",
        "            lower_exact16,\n",
        "            lower_exact17,\n",
        "            lower_exact18,\n",
        "            lower_exact19,\n",
        "            lower_exact20,\n",
        "            lower_exact21]\n",
        "\n",
        "median_exact = [median_exact1,\n",
        "            median_exact2,\n",
        "            median_exact3,\n",
        "            median_exact4,\n",
        "            median_exact5,\n",
        "            median_exact6,\n",
        "            median_exact7,\n",
        "            median_exact8,\n",
        "            median_exact9,\n",
        "            median_exact10,\n",
        "            median_exact11,\n",
        "            median_exact12,\n",
        "            median_exact13,\n",
        "            median_exact14,\n",
        "            median_exact15,\n",
        "            median_exact16,\n",
        "            median_exact17,\n",
        "            median_exact18,\n",
        "            median_exact19,\n",
        "            median_exact20,\n",
        "            median_exact21]\n",
        "\n",
        "upper_exact = [upper_exact1,\n",
        "            upper_exact2,\n",
        "            upper_exact3,\n",
        "            upper_exact4,\n",
        "            upper_exact5,\n",
        "            upper_exact6,\n",
        "            upper_exact7,\n",
        "            upper_exact8,\n",
        "            upper_exact9,\n",
        "            upper_exact10,\n",
        "            upper_exact11,\n",
        "            upper_exact12,\n",
        "            upper_exact13,\n",
        "            upper_exact14,\n",
        "            upper_exact15,\n",
        "            upper_exact16,\n",
        "            upper_exact17,\n",
        "            upper_exact18,\n",
        "            upper_exact19,\n",
        "            upper_exact20,\n",
        "            upper_exact21]"
      ]
    },
    {
      "cell_type": "code",
      "execution_count": 98,
      "metadata": {
        "id": "2MONq-BXQxgA",
        "colab": {
          "base_uri": "https://localhost:8080/",
          "height": 299
        },
        "outputId": "1e732077-e6da-4678-dec9-845d4e09bee6"
      },
      "outputs": [
        {
          "output_type": "display_data",
          "data": {
            "text/plain": [
              "<Figure size 432x288 with 1 Axes>"
            ],
            "image/png": "[encoded data removed]"
          },
          "metadata": {
            "needs_background": "light"
          }
        }
      ],
      "source": [
        "### Visualise!\n",
        "\n",
        "title = func\n",
        "plt.figure()\n",
        "\n",
        "plt.plot(median_approx, color = 'Purple', ls='--')\n",
        "plt.plot(median_exact, color = 'Orange', ls='--')\n",
        "\n",
        "xstar = np.arange(0, iters+1, step=1)\n",
        "plt.fill_between(xstar, lower_approx, upper_approx, facecolor = 'Purple', alpha=0.4, label='STP CBM Optimisation: Approx STP CBM gradients ' r'($\\nu$' ' = {})'.format(df))\n",
        "plt.fill_between(xstar, lower_exact, upper_exact, facecolor = 'Orange', alpha=0.4, label='STP CBM Optimisation: Exact STP dCBM gradients ' r'($\\nu$' ' = {})'.format(df))\n",
        "\n",
        "plt.title(title, weight = 'bold')\n",
        "plt.xlabel('(Post-initialisation) iteration $\\it{k}$', weight = 'bold')\n",
        "plt.ylabel('log(Regret)', weight = 'bold') \n",
        "plt.legend(loc=0) # add plot legend\n",
        "\n",
        "### Make the x-ticks integers, not floats:\n",
        "count = len(xstar)\n",
        "plt.xticks(np.arange(count), np.arange(0, count))\n",
        "plt.show() #visualize!"
      ]
    },
    {
      "cell_type": "code",
      "execution_count": 99,
      "metadata": {
        "id": "l5dkR2Id2oiu",
        "colab": {
          "base_uri": "https://localhost:8080/"
        },
        "outputId": "f8f1f696-be1f-466f-ad89-f44f4c3c4985"
      },
      "outputs": [
        {
          "output_type": "execute_result",
          "data": {
            "text/plain": [
              "(696.5499677658081, 632.692994594574)"
            ]
          },
          "metadata": {},
          "execution_count": 99
        }
      ],
      "source": [
        "time_approx, time_exact\n"
      ]
    },
    {
      "cell_type": "code",
      "execution_count": 100,
      "metadata": {
        "id": "uwxv4dmfGsLr",
        "colab": {
          "base_uri": "https://localhost:8080/"
        },
        "outputId": "f8cf0670-191a-40aa-d8a0-74078dedd674"
      },
      "outputs": [
        {
          "output_type": "execute_result",
          "data": {
            "text/plain": [
              "(0.6384203103431324, 0.6505460990664809)"
            ]
          },
          "metadata": {},
          "execution_count": 100
        }
      ],
      "source": [
        "### acqFunc attribute x, stddev: run number = 1\n",
        "\n",
        "acqFuncApprox_exact_1 = acqFuncApprox(exact_1.history)\n",
        "acqFuncExact_exact_1 = acqFuncExact(exact_1.history)\n",
        "\n",
        "e1 = np.std(acqFuncExact_exact_1)\n",
        "a1 = np.std(acqFuncApprox_exact_1)\n",
        "\n",
        "e1, a1\n"
      ]
    },
    {
      "cell_type": "code",
      "execution_count": 101,
      "metadata": {
        "id": "0YSV00_pGsXe",
        "colab": {
          "base_uri": "https://localhost:8080/"
        },
        "outputId": "10898f4b-68da-4e1a-c179-e94ef8bd275f"
      },
      "outputs": [
        {
          "output_type": "execute_result",
          "data": {
            "text/plain": [
              "(0.6772989800581971, 0.5176852175745835)"
            ]
          },
          "metadata": {},
          "execution_count": 101
        }
      ],
      "source": [
        "### acqFunc attribute x, stddev: run number = 2\n",
        "\n",
        "acqFuncApprox_exact_2 = acqFuncApprox(exact_2.history)\n",
        "acqFuncExact_exact_2 = acqFuncExact(exact_2.history)\n",
        "\n",
        "e2 = np.std(acqFuncExact_exact_2)\n",
        "a2 = np.std(acqFuncApprox_exact_2)\n",
        "\n",
        "e2, a2\n"
      ]
    },
    {
      "cell_type": "code",
      "execution_count": 102,
      "metadata": {
        "id": "HHVmsd2UGsjT",
        "colab": {
          "base_uri": "https://localhost:8080/"
        },
        "outputId": "5a4a917a-be4c-49d7-e3fa-e5bdb4ed6b1f"
      },
      "outputs": [
        {
          "output_type": "execute_result",
          "data": {
            "text/plain": [
              "(0.6496053341127618, 0.8525680949698977)"
            ]
          },
          "metadata": {},
          "execution_count": 102
        }
      ],
      "source": [
        "### acqFunc attribute x, stddev: run number = 3\n",
        "\n",
        "acqFuncApprox_exact_3 = acqFuncApprox(exact_3.history)\n",
        "acqFuncExact_exact_3 = acqFuncExact(exact_3.history)\n",
        "\n",
        "e3 = np.std(acqFuncExact_exact_3)\n",
        "a3 = np.std(acqFuncApprox_exact_3)\n",
        "\n",
        "e3, a3\n"
      ]
    },
    {
      "cell_type": "code",
      "execution_count": 103,
      "metadata": {
        "id": "r7O19S2eGsu7",
        "colab": {
          "base_uri": "https://localhost:8080/"
        },
        "outputId": "5f6b4c65-7877-44ac-bae5-a7c7c5d46f42"
      },
      "outputs": [
        {
          "output_type": "execute_result",
          "data": {
            "text/plain": [
              "(0.5892951239237781, 0.8033036010825307)"
            ]
          },
          "metadata": {},
          "execution_count": 103
        }
      ],
      "source": [
        "### acqFunc attribute x, stddev: run number = 4\n",
        "\n",
        "acqFuncApprox_exact_4 = acqFuncApprox(exact_4.history)\n",
        "acqFuncExact_exact_4 = acqFuncExact(exact_4.history)\n",
        "\n",
        "e4 = np.std(acqFuncExact_exact_4)\n",
        "a4 = np.std(acqFuncApprox_exact_4)\n",
        "\n",
        "e4, a4\n"
      ]
    },
    {
      "cell_type": "code",
      "execution_count": 104,
      "metadata": {
        "id": "sdb9o6NuGs5m",
        "colab": {
          "base_uri": "https://localhost:8080/"
        },
        "outputId": "bd8ab69a-d609-48db-a990-d40d9c95360f"
      },
      "outputs": [
        {
          "output_type": "execute_result",
          "data": {
            "text/plain": [
              "(0.7147780773386785, 0.5560012170992867)"
            ]
          },
          "metadata": {},
          "execution_count": 104
        }
      ],
      "source": [
        "### acqFunc attribute x, stddev: run number = 5\n",
        "\n",
        "acqFuncApprox_exact_5 = acqFuncApprox(exact_5.history)\n",
        "acqFuncExact_exact_5 = acqFuncExact(exact_5.history)\n",
        "\n",
        "e5 = np.std(acqFuncExact_exact_5)\n",
        "a5 = np.std(acqFuncApprox_exact_5)\n",
        "\n",
        "e5, a5\n"
      ]
    },
    {
      "cell_type": "code",
      "execution_count": 105,
      "metadata": {
        "id": "COQl7LZ8GtE0",
        "colab": {
          "base_uri": "https://localhost:8080/"
        },
        "outputId": "49322203-1339-4a40-dd9e-c1c1f55782bf"
      },
      "outputs": [
        {
          "output_type": "execute_result",
          "data": {
            "text/plain": [
              "(0.6238086754480094, 0.5446784778130138)"
            ]
          },
          "metadata": {},
          "execution_count": 105
        }
      ],
      "source": [
        "### acqFunc attribute x, stddev: run number = 6\n",
        "\n",
        "acqFuncApprox_exact_6 = acqFuncApprox(exact_6.history)\n",
        "acqFuncExact_exact_6 = acqFuncExact(exact_6.history)\n",
        "\n",
        "e6 = np.std(acqFuncExact_exact_6)\n",
        "a6 = np.std(acqFuncApprox_exact_6)\n",
        "\n",
        "e6, a6\n"
      ]
    },
    {
      "cell_type": "code",
      "execution_count": 106,
      "metadata": {
        "id": "2gy9EtTzGtP7",
        "colab": {
          "base_uri": "https://localhost:8080/"
        },
        "outputId": "42d208be-f26d-49b5-b5d1-6682eb65bfd4"
      },
      "outputs": [
        {
          "output_type": "execute_result",
          "data": {
            "text/plain": [
              "(0.7191400917868268, 0.6338951172322177)"
            ]
          },
          "metadata": {},
          "execution_count": 106
        }
      ],
      "source": [
        "### acqFunc attribute x, stddev: run number = 7\n",
        "\n",
        "acqFuncApprox_exact_7 = acqFuncApprox(exact_7.history)\n",
        "acqFuncExact_exact_7 = acqFuncExact(exact_7.history)\n",
        "\n",
        "e7 = np.std(acqFuncExact_exact_7)\n",
        "a7 = np.std(acqFuncApprox_exact_7)\n",
        "\n",
        "e7, a7\n"
      ]
    },
    {
      "cell_type": "code",
      "execution_count": 107,
      "metadata": {
        "id": "S7mn0qoMGtbM",
        "colab": {
          "base_uri": "https://localhost:8080/"
        },
        "outputId": "f102a603-f09f-4ec6-fccb-d592c4d9f56f"
      },
      "outputs": [
        {
          "output_type": "execute_result",
          "data": {
            "text/plain": [
              "(0.7996232663289575, 0.8004547030862884)"
            ]
          },
          "metadata": {},
          "execution_count": 107
        }
      ],
      "source": [
        "### acqFunc attribute x, stddev: run number = 8\n",
        "\n",
        "acqFuncApprox_exact_8 = acqFuncApprox(exact_8.history)\n",
        "acqFuncExact_exact_8 = acqFuncExact(exact_8.history)\n",
        "\n",
        "e8 = np.std(acqFuncExact_exact_8)\n",
        "a8 = np.std(acqFuncApprox_exact_8)\n",
        "\n",
        "e8, a8\n"
      ]
    },
    {
      "cell_type": "code",
      "execution_count": 108,
      "metadata": {
        "id": "BhljmkNxGtms",
        "colab": {
          "base_uri": "https://localhost:8080/"
        },
        "outputId": "1b620687-d0b3-4dbc-a128-50e1fbb80a70"
      },
      "outputs": [
        {
          "output_type": "execute_result",
          "data": {
            "text/plain": [
              "(0.7856764452320437, 0.7365205623628193)"
            ]
          },
          "metadata": {},
          "execution_count": 108
        }
      ],
      "source": [
        "### acqFunc attribute x, stddev: run number = 9\n",
        "\n",
        "acqFuncApprox_exact_9 = acqFuncApprox(exact_9.history)\n",
        "acqFuncExact_exact_9 = acqFuncExact(exact_9.history)\n",
        "\n",
        "e9 = np.std(acqFuncExact_exact_9)\n",
        "a9 = np.std(acqFuncApprox_exact_9)\n",
        "\n",
        "e9, a9\n"
      ]
    },
    {
      "cell_type": "code",
      "execution_count": 109,
      "metadata": {
        "id": "W5GZo6k3Gtx8",
        "colab": {
          "base_uri": "https://localhost:8080/"
        },
        "outputId": "d1989c38-6d40-46d7-aa72-e9e903f2699c"
      },
      "outputs": [
        {
          "output_type": "execute_result",
          "data": {
            "text/plain": [
              "(0.6143985562448535, 0.8857425266976818)"
            ]
          },
          "metadata": {},
          "execution_count": 109
        }
      ],
      "source": [
        "### acqFunc attribute x, stddev: run number = 10\n",
        "\n",
        "acqFuncApprox_exact_10 = acqFuncApprox(exact_10.history)\n",
        "acqFuncExact_exact_10 = acqFuncExact(exact_10.history)\n",
        "\n",
        "e10 = np.std(acqFuncExact_exact_10)\n",
        "a10 = np.std(acqFuncApprox_exact_10)\n",
        "\n",
        "e10, a10\n"
      ]
    },
    {
      "cell_type": "code",
      "execution_count": 110,
      "metadata": {
        "id": "isKNhDk5Gt9D",
        "colab": {
          "base_uri": "https://localhost:8080/"
        },
        "outputId": "c87d79ca-0ad2-4209-a535-0ad5a2dc00cd"
      },
      "outputs": [
        {
          "output_type": "execute_result",
          "data": {
            "text/plain": [
              "(0.7389346867829354, 0.8236050465927103)"
            ]
          },
          "metadata": {},
          "execution_count": 110
        }
      ],
      "source": [
        "### acqFunc attribute x, stddev: run number = 11\n",
        "\n",
        "acqFuncApprox_exact_11 = acqFuncApprox(exact_11.history)\n",
        "acqFuncExact_exact_11 = acqFuncExact(exact_11.history)\n",
        "\n",
        "e11 = np.std(acqFuncExact_exact_11)\n",
        "a11 = np.std(acqFuncApprox_exact_11)\n",
        "\n",
        "e11, a11\n"
      ]
    },
    {
      "cell_type": "code",
      "execution_count": 111,
      "metadata": {
        "id": "8ts-wrSuGuIm",
        "colab": {
          "base_uri": "https://localhost:8080/"
        },
        "outputId": "f8d8349b-3551-4702-88c8-b2d8284c04b9"
      },
      "outputs": [
        {
          "output_type": "execute_result",
          "data": {
            "text/plain": [
              "(0.6518850473136198, 0.5185251159435881)"
            ]
          },
          "metadata": {},
          "execution_count": 111
        }
      ],
      "source": [
        "### acqFunc attribute x, stddev: run number = 12\n",
        "\n",
        "acqFuncApprox_exact_12 = acqFuncApprox(exact_12.history)\n",
        "acqFuncExact_exact_12 = acqFuncExact(exact_12.history)\n",
        "\n",
        "e12 = np.std(acqFuncExact_exact_12)\n",
        "a12 = np.std(acqFuncApprox_exact_12)\n",
        "\n",
        "e12, a12\n"
      ]
    },
    {
      "cell_type": "code",
      "execution_count": 112,
      "metadata": {
        "id": "n0drhEe3GuUL",
        "colab": {
          "base_uri": "https://localhost:8080/"
        },
        "outputId": "0939792f-26a4-4e25-d6ec-46d379b8643f"
      },
      "outputs": [
        {
          "output_type": "execute_result",
          "data": {
            "text/plain": [
              "(0.60890947901296, 0.5234291536709941)"
            ]
          },
          "metadata": {},
          "execution_count": 112
        }
      ],
      "source": [
        "### acqFunc attribute x, stddev: run number = 13\n",
        "\n",
        "acqFuncApprox_exact_13 = acqFuncApprox(exact_13.history)\n",
        "acqFuncExact_exact_13 = acqFuncExact(exact_13.history)\n",
        "\n",
        "e13 = np.std(acqFuncExact_exact_13)\n",
        "a13 = np.std(acqFuncApprox_exact_13)\n",
        "\n",
        "e13, a13\n"
      ]
    },
    {
      "cell_type": "code",
      "execution_count": 113,
      "metadata": {
        "id": "R0W3MZaVGues",
        "colab": {
          "base_uri": "https://localhost:8080/"
        },
        "outputId": "ddaf76d4-f708-45ca-add6-330c886f1d23"
      },
      "outputs": [
        {
          "output_type": "execute_result",
          "data": {
            "text/plain": [
              "(0.5233818761695966, 0.4762830702020403)"
            ]
          },
          "metadata": {},
          "execution_count": 113
        }
      ],
      "source": [
        "### acqFunc attribute x, stddev: run number = 14\n",
        "\n",
        "acqFuncApprox_exact_14 = acqFuncApprox(exact_14.history)\n",
        "acqFuncExact_exact_14 = acqFuncExact(exact_14.history)\n",
        "\n",
        "e14 = np.std(acqFuncExact_exact_14)\n",
        "a14 = np.std(acqFuncApprox_exact_14)\n",
        "\n",
        "e14, a14\n"
      ]
    },
    {
      "cell_type": "code",
      "execution_count": 114,
      "metadata": {
        "id": "DoXdDFHoGup-",
        "colab": {
          "base_uri": "https://localhost:8080/"
        },
        "outputId": "0418ea5b-b8e1-417e-c6b9-55dfdecb254b"
      },
      "outputs": [
        {
          "output_type": "execute_result",
          "data": {
            "text/plain": [
              "(0.6115132941607633, 0.5685259909024437)"
            ]
          },
          "metadata": {},
          "execution_count": 114
        }
      ],
      "source": [
        "### acqFunc attribute x, stddev: run number = 15\n",
        "\n",
        "acqFuncApprox_exact_15 = acqFuncApprox(exact_15.history)\n",
        "acqFuncExact_exact_15 = acqFuncExact(exact_15.history)\n",
        "\n",
        "e15 = np.std(acqFuncExact_exact_15)\n",
        "a15 = np.std(acqFuncApprox_exact_15)\n",
        "\n",
        "e15, a15\n"
      ]
    },
    {
      "cell_type": "code",
      "execution_count": 115,
      "metadata": {
        "id": "K_wAeqSoGu2j",
        "colab": {
          "base_uri": "https://localhost:8080/"
        },
        "outputId": "c3fc8470-3cbb-464c-8490-e32ce2f20b37"
      },
      "outputs": [
        {
          "output_type": "execute_result",
          "data": {
            "text/plain": [
              "(0.6099622929639099, 0.8184625944849834)"
            ]
          },
          "metadata": {},
          "execution_count": 115
        }
      ],
      "source": [
        "### acqFunc attribute x, stddev: run number = 16\n",
        "\n",
        "acqFuncApprox_exact_16 = acqFuncApprox(exact_16.history)\n",
        "acqFuncExact_exact_16 = acqFuncExact(exact_16.history)\n",
        "\n",
        "e16 = np.std(acqFuncExact_exact_16)\n",
        "a16 = np.std(acqFuncApprox_exact_16)\n",
        "\n",
        "e16, a16\n"
      ]
    },
    {
      "cell_type": "code",
      "execution_count": 116,
      "metadata": {
        "id": "n6zy78fjGvBT",
        "colab": {
          "base_uri": "https://localhost:8080/"
        },
        "outputId": "625cb00d-cb12-49b1-96e5-642b2529a524"
      },
      "outputs": [
        {
          "output_type": "execute_result",
          "data": {
            "text/plain": [
              "(0.5410114670021892, 0.6863045039354906)"
            ]
          },
          "metadata": {},
          "execution_count": 116
        }
      ],
      "source": [
        "### acqFunc attribute x, stddev: run number = 17\n",
        "\n",
        "acqFuncApprox_exact_17 = acqFuncApprox(exact_17.history)\n",
        "acqFuncExact_exact_17 = acqFuncExact(exact_17.history)\n",
        "\n",
        "e17 = np.std(acqFuncExact_exact_17)\n",
        "a17 = np.std(acqFuncApprox_exact_17)\n",
        "\n",
        "e17, a17\n"
      ]
    },
    {
      "cell_type": "code",
      "execution_count": 117,
      "metadata": {
        "id": "s_6_2K4iGvM-",
        "colab": {
          "base_uri": "https://localhost:8080/"
        },
        "outputId": "3d81b41b-b285-44dd-afc2-ab7d7ba9cfa6"
      },
      "outputs": [
        {
          "output_type": "execute_result",
          "data": {
            "text/plain": [
              "(0.6975645125095731, 0.7140596272221822)"
            ]
          },
          "metadata": {},
          "execution_count": 117
        }
      ],
      "source": [
        "### acqFunc attribute x, stddev: run number = 18\n",
        "\n",
        "acqFuncApprox_exact_18 = acqFuncApprox(exact_18.history)\n",
        "acqFuncExact_exact_18 = acqFuncExact(exact_18.history)\n",
        "\n",
        "e18 = np.std(acqFuncExact_exact_18)\n",
        "a18 = np.std(acqFuncApprox_exact_18)\n",
        "\n",
        "e18, a18\n"
      ]
    },
    {
      "cell_type": "code",
      "execution_count": 118,
      "metadata": {
        "id": "o8oO8pdBGvYk",
        "colab": {
          "base_uri": "https://localhost:8080/"
        },
        "outputId": "aab657f0-04fb-4c0e-9616-a94ac950b807"
      },
      "outputs": [
        {
          "output_type": "execute_result",
          "data": {
            "text/plain": [
              "(0.6833644267216682, 0.6573357093899411)"
            ]
          },
          "metadata": {},
          "execution_count": 118
        }
      ],
      "source": [
        "### acqFunc attribute x, stddev: run number = 19\n",
        "\n",
        "acqFuncApprox_exact_19 = acqFuncApprox(exact_19.history)\n",
        "acqFuncExact_exact_19 = acqFuncExact(exact_19.history)\n",
        "\n",
        "e19 = np.std(acqFuncExact_exact_19)\n",
        "a19 = np.std(acqFuncApprox_exact_19)\n",
        "\n",
        "e19, a19\n"
      ]
    },
    {
      "cell_type": "code",
      "execution_count": 119,
      "metadata": {
        "id": "b2w8oLc0IMzU",
        "colab": {
          "base_uri": "https://localhost:8080/"
        },
        "outputId": "ba2ca4c0-22a4-4c51-931d-368b23be2001"
      },
      "outputs": [
        {
          "output_type": "execute_result",
          "data": {
            "text/plain": [
              "(0.7228715629739236, 0.8401133761541842)"
            ]
          },
          "metadata": {},
          "execution_count": 119
        }
      ],
      "source": [
        "### acqFunc attribute x, stddev: run number = 20\n",
        "\n",
        "acqFuncApprox_exact_20 = acqFuncApprox(exact_20.history)\n",
        "acqFuncExact_exact_20 = acqFuncExact(exact_20.history)\n",
        "\n",
        "e20 = np.std(acqFuncExact_exact_20)\n",
        "a20 = np.std(acqFuncApprox_exact_20)\n",
        "\n",
        "e20, a20\n"
      ]
    },
    {
      "cell_type": "code",
      "execution_count": 120,
      "metadata": {
        "id": "qAZs3yxMIZul",
        "colab": {
          "base_uri": "https://localhost:8080/"
        },
        "outputId": "96dad675-35b2-4f17-b954-b7925b14fa32"
      },
      "outputs": [
        {
          "output_type": "execute_result",
          "data": {
            "text/plain": [
              "(0.6600721753214189, 0.680401990274168)"
            ]
          },
          "metadata": {},
          "execution_count": 120
        }
      ],
      "source": [
        "### Summarize arrays: \n",
        "\n",
        "exact_stddev = np.sort([e1,e2,e3,e4,e5,e6,e7,e8,e9,e10,e11,e12,e13,e14,e15,e16,e17,e18,e19,e20])\n",
        "approx_stddev = np.sort([a1,a2,a3,a4,a5,a6,a7,a8,a9,a10,a11,a12,a13,a14,a15,a16,a17,a18,a19,a20])\n",
        "\n",
        "np.mean(exact_stddev), np.mean(approx_stddev)\n"
      ]
    },
    {
      "cell_type": "code",
      "execution_count": 122,
      "metadata": {
        "id": "e_kpqYcMIZxu",
        "colab": {
          "base_uri": "https://localhost:8080/",
          "height": 295
        },
        "outputId": "b6470f88-a73e-45d1-c108-b82b889d9772"
      },
      "outputs": [
        {
          "output_type": "display_data",
          "data": {
            "text/plain": [
              "<Figure size 432x288 with 1 Axes>"
            ],
            "image/png": "[encoded data removed]"
          },
          "metadata": {
            "needs_background": "light"
          }
        }
      ],
      "source": [
        "### Visualise!\n",
        "\n",
        "title = func\n",
        "plt.figure()\n",
        "\n",
        "plt.plot(approx_stddev, color = 'Purple', ls='--', label='Average $\\sigma$, attribute $\\mathbf{x}$: Approx STP CBM gradients')\n",
        "plt.plot(exact_stddev, color = 'Orange', ls='-', label='Average $\\sigma$, attribute $\\mathbf{x}$: Exact STP dCBM gradients')\n",
        "\n",
        "plt.title(title, weight = 'bold')\n",
        "plt.xlabel('Experiment(s)', weight = 'bold')\n",
        "plt.ylabel('STP CBM: Average $\\sigma$, attribute $\\mathbf{x}$', weight = 'bold') \n",
        "plt.legend(loc=2) # add plot legend\n",
        "\n",
        "### Make the x-ticks integers, not floats:\n",
        "count = len(xstar)\n",
        "plt.xticks(np.arange(count), np.arange(1, count))\n",
        "plt.show() #visualize!\n"
      ]
    },
    {
      "cell_type": "code",
      "execution_count": 121,
      "metadata": {
        "id": "LToGd4vZIZ3I"
      },
      "outputs": [],
      "source": []
    }
  ],
  "metadata": {
    "colab": {
      "collapsed_sections": [],
      "provenance": []
    },
    "kernelspec": {
      "display_name": "Python 3",
      "name": "python3"
    },
    "language_info": {
      "name": "python"
    }
  },
  "nbformat": 4,
  "nbformat_minor": 0
}