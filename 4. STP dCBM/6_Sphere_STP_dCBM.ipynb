{
  "cells": [
    {
      "cell_type": "markdown",
      "metadata": {
        "id": "Dqn4dFx7Z2Ir"
      },
      "source": [
        "\n",
        "Sphere: 2D\n"
      ]
    },
    {
      "cell_type": "code",
      "execution_count": 1,
      "metadata": {
        "colab": {
          "base_uri": "https://localhost:8080/"
        },
        "id": "MJTM_GZZZb5x",
        "outputId": "d78561f1-0c95-42a6-9950-ba3bf9306053"
      },
      "outputs": [
        {
          "output_type": "stream",
          "name": "stdout",
          "text": [
            "Looking in indexes: https://pypi.org/simple, https://us-python.pkg.dev/colab-wheels/public/simple/\n",
            "Collecting pyGPGO\n",
            "  Downloading pyGPGO-0.5.1.tar.gz (14 kB)\n",
            "Requirement already satisfied: numpy in /usr/local/lib/python3.7/dist-packages (from pyGPGO) (1.21.6)\n",
            "Requirement already satisfied: mkl in /usr/local/lib/python3.7/dist-packages (from pyGPGO) (2019.0)\n",
            "Requirement already satisfied: scipy in /usr/local/lib/python3.7/dist-packages (from pyGPGO) (1.7.3)\n",
            "Requirement already satisfied: joblib in /usr/local/lib/python3.7/dist-packages (from pyGPGO) (1.1.0)\n",
            "Requirement already satisfied: scikit-learn in /usr/local/lib/python3.7/dist-packages (from pyGPGO) (1.0.2)\n",
            "Collecting Theano-PyMC\n",
            "  Downloading Theano-PyMC-1.1.2.tar.gz (1.8 MB)\n",
            "\u001b[K     |████████████████████████████████| 1.8 MB 3.9 MB/s \n",
            "\u001b[?25hCollecting pyMC3\n",
            "  Downloading pymc3-3.11.5-py3-none-any.whl (872 kB)\n",
            "\u001b[K     |████████████████████████████████| 872 kB 43.8 MB/s \n",
            "\u001b[?25hRequirement already satisfied: intel-openmp in /usr/local/lib/python3.7/dist-packages (from mkl->pyGPGO) (2022.1.0)\n",
            "Collecting semver>=2.13.0\n",
            "  Downloading semver-2.13.0-py2.py3-none-any.whl (12 kB)\n",
            "Requirement already satisfied: cachetools>=4.2.1 in /usr/local/lib/python3.7/dist-packages (from pyMC3->pyGPGO) (4.2.4)\n",
            "Requirement already satisfied: fastprogress>=0.2.0 in /usr/local/lib/python3.7/dist-packages (from pyMC3->pyGPGO) (1.0.3)\n",
            "Collecting deprecat\n",
            "  Downloading deprecat-2.1.1-py2.py3-none-any.whl (9.8 kB)\n",
            "Requirement already satisfied: arviz>=0.11.0 in /usr/local/lib/python3.7/dist-packages (from pyMC3->pyGPGO) (0.12.1)\n",
            "Requirement already satisfied: pandas>=0.24.0 in /usr/local/lib/python3.7/dist-packages (from pyMC3->pyGPGO) (1.3.5)\n",
            "Requirement already satisfied: patsy>=0.5.1 in /usr/local/lib/python3.7/dist-packages (from pyMC3->pyGPGO) (0.5.2)\n",
            "Requirement already satisfied: typing-extensions>=3.7.4 in /usr/local/lib/python3.7/dist-packages (from pyMC3->pyGPGO) (4.1.1)\n",
            "Requirement already satisfied: dill in /usr/local/lib/python3.7/dist-packages (from pyMC3->pyGPGO) (0.3.5.1)\n",
            "Requirement already satisfied: filelock in /usr/local/lib/python3.7/dist-packages (from Theano-PyMC->pyGPGO) (3.8.0)\n",
            "Requirement already satisfied: xarray>=0.16.1 in /usr/local/lib/python3.7/dist-packages (from arviz>=0.11.0->pyMC3->pyGPGO) (0.20.2)\n",
            "Requirement already satisfied: packaging in /usr/local/lib/python3.7/dist-packages (from arviz>=0.11.0->pyMC3->pyGPGO) (21.3)\n",
            "Requirement already satisfied: xarray-einstats>=0.2 in /usr/local/lib/python3.7/dist-packages (from arviz>=0.11.0->pyMC3->pyGPGO) (0.2.2)\n",
            "Requirement already satisfied: netcdf4 in /usr/local/lib/python3.7/dist-packages (from arviz>=0.11.0->pyMC3->pyGPGO) (1.6.0)\n",
            "Requirement already satisfied: matplotlib>=3.0 in /usr/local/lib/python3.7/dist-packages (from arviz>=0.11.0->pyMC3->pyGPGO) (3.2.2)\n",
            "Requirement already satisfied: setuptools>=38.4 in /usr/local/lib/python3.7/dist-packages (from arviz>=0.11.0->pyMC3->pyGPGO) (57.4.0)\n",
            "Requirement already satisfied: python-dateutil>=2.1 in /usr/local/lib/python3.7/dist-packages (from matplotlib>=3.0->arviz>=0.11.0->pyMC3->pyGPGO) (2.8.2)\n",
            "Requirement already satisfied: kiwisolver>=1.0.1 in /usr/local/lib/python3.7/dist-packages (from matplotlib>=3.0->arviz>=0.11.0->pyMC3->pyGPGO) (1.4.4)\n",
            "Requirement already satisfied: cycler>=0.10 in /usr/local/lib/python3.7/dist-packages (from matplotlib>=3.0->arviz>=0.11.0->pyMC3->pyGPGO) (0.11.0)\n",
            "Requirement already satisfied: pyparsing!=2.0.4,!=2.1.2,!=2.1.6,>=2.0.1 in /usr/local/lib/python3.7/dist-packages (from matplotlib>=3.0->arviz>=0.11.0->pyMC3->pyGPGO) (3.0.9)\n",
            "Requirement already satisfied: pytz>=2017.3 in /usr/local/lib/python3.7/dist-packages (from pandas>=0.24.0->pyMC3->pyGPGO) (2022.2.1)\n",
            "Requirement already satisfied: six in /usr/local/lib/python3.7/dist-packages (from patsy>=0.5.1->pyMC3->pyGPGO) (1.15.0)\n",
            "Requirement already satisfied: importlib-metadata in /usr/local/lib/python3.7/dist-packages (from xarray>=0.16.1->arviz>=0.11.0->pyMC3->pyGPGO) (4.12.0)\n",
            "Requirement already satisfied: wrapt<2,>=1.10 in /usr/local/lib/python3.7/dist-packages (from deprecat->pyMC3->pyGPGO) (1.14.1)\n",
            "Requirement already satisfied: zipp>=0.5 in /usr/local/lib/python3.7/dist-packages (from importlib-metadata->xarray>=0.16.1->arviz>=0.11.0->pyMC3->pyGPGO) (3.8.1)\n",
            "Requirement already satisfied: cftime in /usr/local/lib/python3.7/dist-packages (from netcdf4->arviz>=0.11.0->pyMC3->pyGPGO) (1.6.1)\n",
            "Requirement already satisfied: threadpoolctl>=2.0.0 in /usr/local/lib/python3.7/dist-packages (from scikit-learn->pyGPGO) (3.1.0)\n",
            "Building wheels for collected packages: pyGPGO, Theano-PyMC\n",
            "  Building wheel for pyGPGO (setup.py) ... \u001b[?25l\u001b[?25hdone\n",
            "  Created wheel for pyGPGO: filename=pyGPGO-0.5.1-py3-none-any.whl size=19879 sha256=a200887e75403cc8e4cfdcfcedca1edbc5193cce9a14a951337ad4f31cc0bfa3\n",
            "  Stored in directory: /root/.cache/pip/wheels/c8/5d/0b/2160114e2f1b87791c51b66cf07f89831dbb6f49167950316f\n",
            "  Building wheel for Theano-PyMC (setup.py) ... \u001b[?25l\u001b[?25hdone\n",
            "  Created wheel for Theano-PyMC: filename=Theano_PyMC-1.1.2-py3-none-any.whl size=1529963 sha256=51f9bd4a99e8109574f8e6389f33a96c4688bbb6018cf22d07b4da2bb631c4dd\n",
            "  Stored in directory: /root/.cache/pip/wheels/f3/af/8c/5dd7553522d74c52a7813806fc7ee1a9caa20a3f7c8fd850d5\n",
            "Successfully built pyGPGO Theano-PyMC\n",
            "Installing collected packages: Theano-PyMC, semver, deprecat, pyMC3, pyGPGO\n",
            "Successfully installed Theano-PyMC-1.1.2 deprecat-2.1.1 pyGPGO-0.5.1 pyMC3-3.11.5 semver-2.13.0\n"
          ]
        }
      ],
      "source": [
        "pip install pyGPGO\n"
      ]
    },
    {
      "cell_type": "code",
      "execution_count": 2,
      "metadata": {
        "id": "ZJSSPbwPaEUB"
      },
      "outputs": [],
      "source": [
        "### Import:\n",
        "\n",
        "import numpy as np\n",
        "import scipy as sp\n",
        "import pandas as pd\n",
        "import matplotlib.pyplot as plt\n",
        "import warnings\n",
        "import itertools\n",
        "\n",
        "from pyGPGO.GPGO import GPGO\n",
        "from pyGPGO.surrogates.tStudentProcess import tStudentProcess\n",
        "from pyGPGO.acquisition import Acquisition\n",
        "from pyGPGO.covfunc import squaredExponential\n",
        "\n",
        "from joblib import Parallel, delayed\n",
        "from numpy.linalg import solve, cholesky\n",
        "from scipy.spatial.distance import cdist\n",
        "from scipy.optimize import minimize\n",
        "from scipy.stats import t\n",
        "import time\n",
        "\n",
        "warnings.filterwarnings(\"ignore\", category=RuntimeWarning)\n"
      ]
    },
    {
      "cell_type": "code",
      "execution_count": 3,
      "metadata": {
        "id": "OeYcTUNoaJWa"
      },
      "outputs": [],
      "source": [
        "### Inputs:\n",
        "\n",
        "func = 'Sphere'\n",
        "n_test = 500\n",
        "eps = 1e-08\n",
        "\n",
        "util = 'CBM'\n",
        "\n",
        "n_init = 5 # random initialisations\n",
        "iters = 20\n",
        "opt = True\n",
        "\n",
        "df = 3"
      ]
    },
    {
      "cell_type": "code",
      "execution_count": 4,
      "metadata": {
        "id": "xpaEOjdzaPMS"
      },
      "outputs": [],
      "source": [
        "### Objective Function - Sphere(x) 2-D:\n",
        "\n",
        "def objfunc(x1_training, x2_training):\n",
        "            return  operator * ( x1_training ** 2\n",
        "                            + x2_training ** 2\n",
        "                            )\n",
        "        \n",
        "# Constraints:\n",
        "lb = -5.12\n",
        "ub = +5.12\n",
        "    \n",
        "# Input array dimension(s):\n",
        "dim = 2\n",
        "\n",
        "# 2-D inputs' parameter bounds:\n",
        "param = {'x1_training': ('cont', [lb, ub]),\n",
        "                 'x2_training': ('cont', [lb, ub])\n",
        "                 }\n",
        "    \n",
        "# True y bounds:\n",
        "y_lb = 0\n",
        "operator = -1 # targets global minimum \n",
        "y_global_orig = y_lb * operator # targets global minimum\n",
        "    \n",
        "# Test data:\n",
        "x1_test = np.linspace(lb, ub, n_test)\n",
        "x2_test = np.linspace(lb, ub, n_test)\n",
        "x_test = np.column_stack((x1_test, x2_test))"
      ]
    },
    {
      "cell_type": "code",
      "execution_count": 5,
      "metadata": {
        "id": "eYpI3Zm4aGxi"
      },
      "outputs": [],
      "source": [
        "n_start_AcqFunc = iters\n",
        "inverse = -1\n"
      ]
    },
    {
      "cell_type": "code",
      "execution_count": 6,
      "metadata": {
        "id": "oO_GUmOoaV0T"
      },
      "outputs": [],
      "source": [
        "### Cumulative Regret Calculators:\n",
        "\n",
        "def min_max_array(x):\n",
        "    new_list = []\n",
        "    for i, num in enumerate(x):\n",
        "            new_list.append(np.min(x[0:i+1]))\n",
        "    return new_list\n",
        "  \n",
        "def acqFuncExact(x):\n",
        "    new_array = []\n",
        "    x = np.array(x) \n",
        "    for i, num in enumerate(x):\n",
        "            new_array = x[:-2][::-3]\n",
        "    return new_array[::-1]\n",
        "\n",
        "def acqFuncApprox(x):\n",
        "    new_array = []\n",
        "    x = np.array(x) \n",
        "    for i, num in enumerate(x):\n",
        "            new_array = x[:-1][::-3]\n",
        "    return new_array[::-1]\n"
      ]
    },
    {
      "cell_type": "code",
      "execution_count": 7,
      "metadata": {
        "id": "kuuJx0IMam9S"
      },
      "outputs": [],
      "source": [
        "### Surrogate derivatives: \n",
        "\n",
        "cov_func = squaredExponential()\n",
        "\n",
        "def kronDelta(X, Xstar):                     # Kronecker's Delta method\n",
        "    return cdist(X, Xstar) < np.finfo(np.float32).eps\n",
        "\n",
        "def se(X, Xstar, sigmaf, l, sigman):         # S.E. kernel method\n",
        "    return sigmaf * np.exp(-0.5 * cdist(X, Xstar) ** 2 / l ** 2) + sigman * kronDelta(X, Xstar)\n",
        "\n",
        "def delta(X, Xstar):                         # Distance between training X and test Xstar vectors\n",
        "    return (X - Xstar)\n",
        "   \n",
        "def der_covmat(X, Xstar, sigmaf, l, sigman): # Covariance matrix derivative terms (i.e. exact, first-order)\n",
        "    nx = len(X)\n",
        "    ny = len(Xstar)\n",
        "    return np.round(np.array([(delta(np.atleast_2d(i), np.atleast_2d(j))[0] * se(np.atleast_2d(i), np.atleast_2d(j), sigmaf, l, sigman)[0]).sum() for (i, j) in itertools.product(X, Xstar)]).reshape(nx, ny), 8)\n",
        "\n",
        "class dtStudentProcess(tStudentProcess):    # Via inheritance, also optimises hyperparameters when opt = TRUE\n",
        "    \n",
        "    def AcqGrad(self, Xstar):               # Method returning exact, first-order derivatives of the STP's posterior mean and standard deviation\n",
        "        Xstar = np.atleast_2d(Xstar)\n",
        "        Kstar = self.covfunc.K(self.X, Xstar).T\n",
        "        dKstar = der_covmat(self.X, Xstar, self.covfunc.sigmaf, self.covfunc.l, self.covfunc.sigman).T\n",
        "        \n",
        "        smd_adj = (self.nu + self.beta1 - 2) / (self.nu + self.n1 - 2)\n",
        "\n",
        "        alpha = np.dot(np.linalg.inv(self.K11 + (self.covfunc.sigman**2) * np.eye(len(self.X))), self.y)\n",
        "        alpha_Kstar = np.dot(np.linalg.inv(self.K11 + (self.covfunc.sigman**2) * np.eye(len(self.X))), Kstar.T)      \n",
        "        \n",
        "        dm = np.dot(dKstar, alpha)\n",
        "        ds = -2 * smd_adj * np.dot(dKstar, alpha_Kstar)\n",
        "        \n",
        "        return dm, ds          \n"
      ]
    },
    {
      "cell_type": "code",
      "execution_count": 8,
      "metadata": {
        "id": "_Dc3YVHVaXz7"
      },
      "outputs": [],
      "source": [
        "### Add exact acquisition function gradient as attribute:\n",
        "\n",
        "Beta_CBM = dim\n",
        "\n",
        "class Acquisition_grad(Acquisition):    \n",
        "    def __init__(self, mode, eps=eps, **params):\n",
        "        \n",
        "        self.params = params\n",
        "        self.eps = eps\n",
        "\n",
        "        mode_dict = {\n",
        "            'CBM': self.CBM\n",
        "        }\n",
        "\n",
        "        self.f = mode_dict[mode]\n",
        "    \n",
        "    def CBM(self, y_global_orig, mean, std, ds, dm, nu=3.0):\n",
        "        gamma = (mean - y_global_orig - self.eps) / (std + self.eps)\n",
        "        gamma_h = (mean - y_global_orig) / (std + self.eps)\n",
        "        dsdx = ds / (2 * (std + self.eps))\n",
        "        dmdx = (dm - gamma * dsdx) / (std + self.eps)\n",
        "\n",
        "        f = (std + self.eps) * (gamma + np.sqrt(Beta_CBM))\n",
        "        df = dsdx * (gamma + np.sqrt(Beta_CBM)) + (std + self.eps) * dmdx\n",
        "        df_arr = []\n",
        "\n",
        "        for j in range(0, dim):\n",
        "          df_arr.append(df)\n",
        "        return f, np.asarray(df_arr).transpose()\n",
        "\n",
        "        for j in range(0, dim):\n",
        "          df_arr.append(df)\n",
        "        return f, np.asarray(df_arr).transpose()\n",
        "        \n",
        "    def d_eval(self, y_global_orig, mean, std, ds, dm, nu=3.0):\n",
        "    \n",
        "        return self.f(y_global_orig, mean, std, ds, dm, nu=3.0, **self.params)\n",
        "        "
      ]
    },
    {
      "cell_type": "code",
      "execution_count": 9,
      "metadata": {
        "id": "PITEQC8YSl7i"
      },
      "outputs": [],
      "source": [
        "## GPGO_multi: \n",
        "\n",
        "class GPGO_multi(GPGO):\n",
        "    n_start = n_start_AcqFunc\n",
        "\n",
        "    def __init__(self, surrogate, acquisition, f, parameter_dict, n_jobs=1):\n",
        "        self.GP = surrogate\n",
        "        self.A = acquisition\n",
        "        self.f = f\n",
        "        self.parameters = parameter_dict\n",
        "        self.n_jobs = n_jobs\n",
        "\n",
        "        self.parameter_key = list(parameter_dict.keys())\n",
        "        self.parameter_value = list(parameter_dict.values())\n",
        "        self.parameter_type = [p[0] for p in self.parameter_value]\n",
        "        self.parameter_range = [p[1] for p in self.parameter_value]\n",
        "\n",
        "        self.history = []\n",
        "        self.header =   'Evaluation \\t Proposed point \\t  Current eval. \\t  Best eval. \\t        Exact CBM: StdDev. x \\t Approx CBM: StdDev. x '\n",
        "        self.template = '{:3}\\t {}\\t {:3}\\t {:3}\\t {:3}\\t {:3}'\n",
        " \n",
        "    def acqfuncExact(self, xnew, n_start=n_start_AcqFunc):\n",
        "        new_mean, new_var = self.GP.predict(xnew, return_std=True)\n",
        "        new_std = np.sqrt(new_var + eps)\n",
        "        dm, ds = self.GP.AcqGrad(xnew)\n",
        "        f, df = self.A.d_eval(y_global_orig, new_mean, new_std, ds=ds, dm=dm, nu=3.0)\n",
        "\n",
        "        return -f, -df\n",
        "   \n",
        "    def acqfuncApprox(self, xnew, n_start=n_start_AcqFunc):\n",
        "        new_mean, new_var = self.GP.predict(xnew, return_std=True)\n",
        "        new_std = np.sqrt(new_var + eps)\n",
        "        dm, ds = self.GP.AcqGrad(xnew)\n",
        "        f, df = self.A.d_eval(y_global_orig, new_mean, new_std, ds=ds, dm=dm, nu=3.0)\n",
        "\n",
        "        return -f\n",
        "   \n",
        "    def _optimizeAcq(self, method='L-BFGS-B', n_start=n_start_AcqFunc):\n",
        "        \n",
        "        start_points_dict = [self._sampleParam() for i in range(n_start)]\n",
        "        start_points_arr = np.array([list(s.values())\n",
        "                                     for s in start_points_dict])\n",
        "        x_best = np.empty((n_start, len(self.parameter_key)))\n",
        "        f_best = np.empty((n_start,))\n",
        "        opt = Parallel(n_jobs=self.n_jobs)(delayed(minimize)(self.acqfuncApprox,\n",
        "                                                                 x0=start_point,\n",
        "                                                                 method=method,\n",
        "                                                                 jac = False,\n",
        "                                                                 bounds=self.parameter_range) for start_point in\n",
        "                                               start_points_arr)\n",
        "        x_best = np.array([res.x for res in opt])\n",
        "        f_best = np.array([np.atleast_1d(res.fun)[0] for res in opt])\n",
        "        f_best_min = min(f_best)\n",
        "\n",
        "        self.x_best = x_best\n",
        "        self.f_best = f_best\n",
        "        self.f_best_min = f_best_min\n",
        "        self.x_best_std = np.std(x_best)\n",
        "        self.best = x_best[np.argmin(f_best)]\n",
        "        self.start_points_arr = start_points_arr        \n",
        "        self.history.append(self.x_best_std)\n",
        "\n",
        "        x_best_exact = np.empty((n_start, len(self.parameter_key)))\n",
        "        f_best_exact = np.empty((n_start,))\n",
        "        opt_exact = Parallel(n_jobs=self.n_jobs)(delayed(minimize)(self.acqfuncExact,\n",
        "                                                                 x0=start_point,\n",
        "                                                                 method=method,\n",
        "                                                                 jac = True,\n",
        "                                                                 bounds=self.parameter_range) for start_point in\n",
        "                                               start_points_arr)\n",
        "        x_best_exact = np.array([res.x for res in opt_exact])\n",
        "        f_best_exact = np.array([np.atleast_1d(res.fun)[0] for res in opt_exact])\n",
        "        f_best_min_exact = min(f_best_exact)\n",
        "\n",
        "        self.x_best_exact = x_best_exact\n",
        "        self.f_best_exact = f_best_exact\n",
        "        self.f_best_min_exact = f_best_min_exact\n",
        "        self.x_best_std_exact = np.std(x_best_exact)\n",
        "        self.best_exact = x_best_exact[np.argmin(f_best_exact)]\n",
        "        self.start_points_arr = start_points_arr\n",
        "        self.history.append(self.x_best_std_exact)\n",
        "\n",
        "    def _printInit(self):\n",
        "        print(self.header)\n",
        "        for init_eval in range(self.init_evals):\n",
        "            print(self.template.format('init', self.GP.X[init_eval], inverse * self.GP.y[init_eval], inverse * self.tau, '', ''))\n",
        "      \n",
        "    def _printCurrent(self):\n",
        "        OKGREEN = '\\033[92m'\n",
        "        ENDC = '\\033[0m'\n",
        "        BOLD = '\\033[1m'\n",
        "        eval = str(len(self.GP.y) - self.init_evals)\n",
        "        proposed = str(self.best)\n",
        "        curr_eval = str(inverse * self.GP.y[-1])\n",
        "        curr_best = str(inverse * self.tau)\n",
        "        min_acqfunc = str(self.f_best_min)\n",
        "        min_acqfunc_exact = str(self.f_best_min_exact)\n",
        "        x_best_std = str(self.x_best_std)\n",
        "        x_best_std_exact = str(self.x_best_std_exact)\n",
        "        if float(curr_eval) <= float(curr_best):\n",
        "            eval = BOLD + OKGREEN + eval + ENDC\n",
        "            proposed = BOLD + OKGREEN + proposed + ENDC\n",
        "            curr_eval = BOLD + OKGREEN + curr_eval + ENDC\n",
        "            curr_best = BOLD + OKGREEN + curr_best + ENDC\n",
        "            x_best_std = BOLD + OKGREEN + x_best_std + ENDC\n",
        "            x_best_std_exact = BOLD + OKGREEN + x_best_std_exact + ENDC\n",
        "        print(self.template.format(eval, proposed, curr_eval, curr_best, x_best_std_exact, x_best_std))\n",
        "        \n",
        "    def run(self, max_iter=10, init_evals=3, resume=False):\n",
        "        \n",
        "        if not resume:\n",
        "            self.init_evals = init_evals\n",
        "            self._firstRun(self.init_evals)\n",
        "            self._printInit()\n",
        "        for iteration in range(max_iter):\n",
        "            self._optimizeAcq()\n",
        "            self.updateGP()\n",
        "            self._printCurrent()\n"
      ]
    },
    {
      "cell_type": "code",
      "execution_count": 10,
      "metadata": {
        "id": "b_B-w81BJxKN"
      },
      "outputs": [],
      "source": [
        "## dGPGO:\n",
        "\n",
        "class dGPGO(GPGO):\n",
        "    n_start = n_start_AcqFunc\n",
        "\n",
        "    def __init__(self, surrogate, acquisition, f, parameter_dict, n_jobs=1):\n",
        "        self.GP = surrogate\n",
        "        self.A = acquisition\n",
        "        self.f = f\n",
        "        self.parameters = parameter_dict\n",
        "        self.n_jobs = n_jobs\n",
        "\n",
        "        self.parameter_key = list(parameter_dict.keys())\n",
        "        self.parameter_value = list(parameter_dict.values())\n",
        "        self.parameter_type = [p[0] for p in self.parameter_value]\n",
        "        self.parameter_range = [p[1] for p in self.parameter_value]\n",
        "\n",
        "        self.history = []\n",
        "        self.header =   'Evaluation \\t Proposed point \\t  Current eval. \\t  Best eval. \\t        Exact CBM: StdDev. x \\t Approx CBM: StdDev. x '\n",
        "        self.template = '{:3}\\t {}\\t {:3}\\t {:3}\\t {:3}\\t {:3}'\n",
        "\n",
        "    def acqfuncExact(self, xnew, n_start=n_start_AcqFunc):\n",
        "        new_mean, new_var = self.GP.predict(xnew, return_std=True)\n",
        "        new_std = np.sqrt(new_var + eps)\n",
        "        dm, ds = self.GP.AcqGrad(xnew)\n",
        "        f, df = self.A.d_eval(y_global_orig, new_mean, new_std, ds=ds, dm=dm, nu=3.0)\n",
        "\n",
        "        return -f, -df\n",
        "   \n",
        "    def acqfuncApprox(self, xnew, n_start=n_start_AcqFunc):\n",
        "        new_mean, new_var = self.GP.predict(xnew, return_std=True)\n",
        "        new_std = np.sqrt(new_var + eps)\n",
        "        dm, ds = self.GP.AcqGrad(xnew)\n",
        "        f, df = self.A.d_eval(y_global_orig, new_mean, new_std, ds=ds, dm=dm, nu=3.0)\n",
        "\n",
        "        return -f\n",
        "\n",
        "    def d_optimizeAcq(self, method='L-BFGS-B', n_start=n_start_AcqFunc):\n",
        "        start_points_dict = [self._sampleParam() for i in range(n_start)]\n",
        "        start_points_arr = np.array([list(s.values())\n",
        "                                     for s in start_points_dict])\n",
        "        x_best = np.empty((n_start, len(self.parameter_key)))\n",
        "        f_best = np.empty((n_start,))\n",
        "        opt = Parallel(n_jobs=self.n_jobs)(delayed(minimize)(self.acqfuncExact,\n",
        "                                                                 x0=start_point,\n",
        "                                                                 method=method,\n",
        "                                                                 jac = True,\n",
        "                                                                 bounds=self.parameter_range) for start_point in\n",
        "                                               start_points_arr)\n",
        "        x_best = np.array([res.x for res in opt])\n",
        "        f_best = np.array([np.atleast_1d(res.fun)[0] for res in opt])\n",
        "        f_best_min = min(f_best)\n",
        "\n",
        "        self.x_best = x_best\n",
        "        self.f_best = f_best\n",
        "        self.f_best_min = f_best_min\n",
        "        self.x_best_std = np.std(x_best)\n",
        "        self.best = x_best[np.argmin(f_best)]\n",
        "        self.start_points_arr = start_points_arr\n",
        "        self.history.append(self.x_best_std)\n",
        "\n",
        "        x_best_approx = np.empty((n_start, len(self.parameter_key)))\n",
        "        f_best_approx = np.empty((n_start,))\n",
        "        opt_approx = Parallel(n_jobs=self.n_jobs)(delayed(minimize)(self.acqfuncApprox,\n",
        "                                                                 x0=start_point,\n",
        "                                                                 method=method,\n",
        "                                                                 jac = False,\n",
        "                                                                 bounds=self.parameter_range) for start_point in\n",
        "                                               start_points_arr)\n",
        "        x_best_approx = np.array([res.x for res in opt_approx])\n",
        "        f_best_approx = np.array([np.atleast_1d(res.fun)[0] for res in opt_approx])\n",
        "        f_best_min_approx = min(f_best_approx)\n",
        "\n",
        "        self.x_best_approx = x_best_approx\n",
        "        self.f_best_approx = f_best_approx\n",
        "        self.f_best_min_approx = f_best_min_approx\n",
        "        self.x_best_std_approx = np.std(x_best_approx)\n",
        "        self.best_approx = x_best_approx[np.argmin(f_best_approx)]\n",
        "        self.start_points_arr = start_points_arr\n",
        "        self.history.append(self.x_best_std_approx)\n",
        "    \n",
        "    def _printInit(self):\n",
        "        print(self.header)\n",
        "        for init_eval in range(self.init_evals):\n",
        "            print(self.template.format('init', self.GP.X[init_eval], inverse * self.GP.y[init_eval], inverse * self.tau, '', ''))\n",
        "      \n",
        "    def _printCurrent(self):\n",
        "        OKGREEN = '\\033[92m'\n",
        "        ENDC = '\\033[0m'\n",
        "        BOLD = '\\033[1m'\n",
        "        eval = str(len(self.GP.y) - self.init_evals)\n",
        "        proposed = str(self.best)\n",
        "        curr_eval = str(inverse * self.GP.y[-1])\n",
        "        curr_best = str(inverse * self.tau)\n",
        "        min_acqfunc = str(self.f_best_min)\n",
        "        min_acqfunc_approx = str(self.f_best_min_approx)\n",
        "        x_best_std = str(self.x_best_std)\n",
        "        x_best_std_approx = str(self.x_best_std_approx)\n",
        "        if float(curr_eval) <= float(curr_best):\n",
        "            eval = BOLD + OKGREEN + eval + ENDC\n",
        "            proposed = BOLD + OKGREEN + proposed + ENDC\n",
        "            curr_eval = BOLD + OKGREEN + curr_eval + ENDC\n",
        "            curr_best = BOLD + OKGREEN + curr_best + ENDC\n",
        "            x_best_std = BOLD + OKGREEN + x_best_std + ENDC\n",
        "            x_best_std_approx = BOLD + OKGREEN + x_best_std_approx + ENDC\n",
        "        print(self.template.format(eval, proposed, curr_eval, curr_best, x_best_std, x_best_std_approx))\n",
        "\n",
        "    def run(self, max_iter=10, init_evals=3, resume=False):\n",
        "        \n",
        "        if not resume:\n",
        "            self.init_evals = init_evals\n",
        "            self._firstRun(self.init_evals)\n",
        "            self._printInit()\n",
        "        for iteration in range(max_iter):\n",
        "            self.d_optimizeAcq()\n",
        "            self.updateGP()\n",
        "            self._printCurrent()\n"
      ]
    },
    {
      "cell_type": "code",
      "execution_count": 11,
      "metadata": {
        "id": "qXIKGuXVGEg2"
      },
      "outputs": [],
      "source": [
        "###Reproducible set-seeds:\n",
        "\n",
        "run_num_1 = 1\n",
        "run_num_2 = 2\n",
        "run_num_3 = 3\n",
        "run_num_4 = 4\n",
        "run_num_5 = 5\n",
        "run_num_6 = 6\n",
        "run_num_7 = 7\n",
        "run_num_8 = 8\n",
        "run_num_9 = 9\n",
        "run_num_10 = 10\n",
        "run_num_11 = 11\n",
        "run_num_12 = 12\n",
        "run_num_13 = 13\n",
        "run_num_14 = 14\n",
        "run_num_15 = 15\n",
        "run_num_16 = 16\n",
        "run_num_17 = 17\n",
        "run_num_18 = 18\n",
        "run_num_19 = 19\n",
        "run_num_20 = 20\n"
      ]
    },
    {
      "cell_type": "code",
      "execution_count": 12,
      "metadata": {
        "colab": {
          "base_uri": "https://localhost:8080/"
        },
        "id": "JEhagQmnTVIK",
        "outputId": "603166df-2079-44fb-bbc0-80667c38bcde"
      },
      "outputs": [
        {
          "output_type": "execute_result",
          "data": {
            "text/plain": [
              "1662471787.6429062"
            ]
          },
          "metadata": {},
          "execution_count": 12
        }
      ],
      "source": [
        "start_approx = time.time()\n",
        "start_approx\n"
      ]
    },
    {
      "cell_type": "code",
      "execution_count": 13,
      "metadata": {
        "colab": {
          "base_uri": "https://localhost:8080/"
        },
        "id": "aH0YSTXufD1v",
        "outputId": "c718e4db-8756-4694-cf42-b9164400ac23"
      },
      "outputs": [
        {
          "output_type": "stream",
          "name": "stdout",
          "text": [
            "Evaluation \t Proposed point \t  Current eval. \t  Best eval. \t        Exact CBM: StdDev. x \t Approx CBM: StdDev. x \n",
            "init\t [-0.84969467  2.25612281]\t 5.812071182014687\t 1.275455677703416\t    \t    \n",
            "init\t [-5.1188288  -2.02411446]\t 30.299447634857913\t 1.275455677703416\t    \t    \n",
            "init\t [-3.61721968 -4.17445279]\t 30.510334291475417\t 1.275455677703416\t    \t    \n",
            "init\t [-3.21269544 -1.58145816]\t 12.822421857501787\t 1.275455677703416\t    \t    \n",
            "init\t [-1.05710106  0.39748336]\t 1.275455677703416\t 1.275455677703416\t    \t    \n",
            "1  \t [ 4.04077223 -4.24914728]\t 34.383092818836786\t 1.275455677703416\t 3.680277348206818\t 4.209653654736213\n",
            "2  \t [4.39915058 5.12      ]\t 45.56692586232086\t 1.275455677703416\t 3.176015201496049\t 3.5442839208022736\n",
            "3  \t [-5.12  5.12]\t 52.4288\t 1.275455677703416\t 3.4105764489725336\t 3.991059461715056\n",
            "4  \t [5.12       0.36784104]\t 26.349707029399\t 1.275455677703416\t 3.4776968742480276\t 3.6856772883935762\n",
            "5  \t [ 0.57959339 -2.22686925]\t 5.294875170489943\t 1.275455677703416\t 2.6417071484269887\t 2.822406056028332\n",
            "6  \t [0.37856116 5.12      ]\t 26.35770855080829\t 1.275455677703416\t 2.9659763398766392\t 3.0905680235456745\n",
            "7  \t [ 0.08742928 -5.12      ]\t 26.222043878731732\t 1.275455677703416\t 3.168737198605725\t 3.3204892980095604\n",
            "8  \t [-5.12        1.48775959]\t 28.427828605760542\t 1.275455677703416\t 2.9123067272513268\t 3.4044861350296833\n",
            "9  \t [1.76238587 0.90440967]\t 3.923960783914609\t 1.275455677703416\t 2.9851649914751746\t 3.4488587436440796\n",
            "10 \t [ 2.74822438 -1.38825284]\t 9.479983172610138\t 1.275455677703416\t 2.9364930040408512\t 3.2070167998361057\n",
            "11 \t [2.46769859 2.80158415]\t 13.93841010506802\t 1.275455677703416\t 3.011919258293087\t 3.020159072514471\n",
            "12 \t [-2.3749985   3.88917133]\t 20.766271497986338\t 1.275455677703416\t 3.0655760711755056\t 3.214031849490095\n",
            "13 \t [-1.05321998 -1.39542093]\t 3.056471911042091\t 1.275455677703416\t 2.292598023191561\t 2.6688322712801975\n",
            "14 \t [-2.62916136  0.8600721 ]\t 7.65221346495688\t 1.275455677703416\t 2.8842990747492974\t 3.276807885932136\n",
            "\u001b[1m\u001b[92m15\u001b[0m\t \u001b[1m\u001b[92m[ 0.44228217 -0.16889569]\u001b[0m\t \u001b[1m\u001b[92m0.22413926905808226\u001b[0m\t \u001b[1m\u001b[92m0.22413926905808226\u001b[0m\t \u001b[1m\u001b[92m2.6679555060746036\u001b[0m\t \u001b[1m\u001b[92m3.0353260877186647\u001b[0m\n",
            "16 \t [ 5.12      -2.0496731]\t 30.41555981014548\t 0.22413926905808226\t 2.879184599490869\t 3.218750761059713\n",
            "17 \t [-1.27746892 -3.07614517]\t 11.094595948684777\t 0.22413926905808226\t 2.9310553070273544\t 3.042419606390558\n",
            "18 \t [5.12       2.72840921]\t 33.65861683671655\t 0.22413926905808226\t 3.152431170871282\t 3.1820853084133223\n",
            "19 \t [-3.73971847 -3.13941607]\t 23.84142753667348\t 0.22413926905808226\t 3.297717822809768\t 3.297717822809768\n",
            "20 \t [0.35702103 1.356831  ]\t 1.968454387281636\t 0.22413926905808226\t 3.074963613833063\t 2.965656482401516\n"
          ]
        }
      ],
      "source": [
        "### ESTIMATED STP CBM GRADIENTS\n",
        "\n",
        "np.random.seed(run_num_1)\n",
        "surrogate_approx_1 = dtStudentProcess(cov_func, optimize=opt, nu = df)\n",
        "\n",
        "approx_1 = GPGO_multi(surrogate_approx_1, Acquisition_grad(util), objfunc, param)\n",
        "approx_1.run(init_evals=n_init, max_iter=iters)\n"
      ]
    },
    {
      "cell_type": "code",
      "execution_count": 14,
      "metadata": {
        "colab": {
          "base_uri": "https://localhost:8080/"
        },
        "id": "wTxsSZxFGBB5",
        "outputId": "3be501eb-278d-49bf-b3f1-a43a339fe9cf"
      },
      "outputs": [
        {
          "output_type": "stream",
          "name": "stdout",
          "text": [
            "Evaluation \t Proposed point \t  Current eval. \t  Best eval. \t        Exact CBM: StdDev. x \t Approx CBM: StdDev. x \n",
            "init\t [-0.6554122  -4.85451539]\t 23.995884788327533\t 0.6972563370202991\t    \t    \n",
            "init\t [ 0.50854377 -0.6622987 ]\t 0.6972563370202991\t 0.6972563370202991\t    \t    \n",
            "init\t [-0.81543371 -1.73737143]\t 3.683391625826377\t 0.6972563370202991\t    \t    \n",
            "init\t [-3.02439799  1.2213347 ]\t 10.638641624769724\t 0.6972563370202991\t    \t    \n",
            "init\t [-2.05153614 -2.3876887 ]\t 9.90985788235879\t 0.6972563370202991\t    \t    \n",
            "1  \t [4.81874241 3.07464552]\t 32.673723450709105\t 0.6972563370202991\t 3.7131432435048937\t 3.821214539004268\n",
            "2  \t [ 5.12       -4.88923535]\t 50.1190222636922\t 0.6972563370202991\t 3.0926542770442733\t 4.0605922145057525\n",
            "3  \t [-0.00822233  5.12      ]\t 26.214467606659817\t 0.6972563370202991\t 3.6034197257220857\t 3.940154606948579\n",
            "4  \t [-5.12  5.12]\t 52.4288\t 0.6972563370202991\t 3.4829703173190705\t 3.8908217478344924\n",
            "5  \t [-5.12 -5.12]\t 52.4288\t 0.6972563370202991\t 3.7280616637339197\t 3.7718018140962832\n",
            "6  \t [ 3.60954963 -0.91173885]\t 13.8601162862936\t 0.6972563370202991\t 3.060444676623754\t 3.106824521532769\n",
            "7  \t [1.12660101 1.76798358]\t 4.394995783449852\t 0.6972563370202991\t 2.92669897664134\t 3.2485829636387806\n",
            "8  \t [-5.12       -1.21425346]\t 27.688811469659424\t 0.6972563370202991\t 2.9267790528571687\t 3.252999323725857\n",
            "9  \t [ 1.97482022 -3.32193115]\t 14.935141479553836\t 0.6972563370202991\t 2.823775295031267\t 2.8034248076559543\n",
            "10 \t [2.87593986 5.12      ]\t 34.48543008076867\t 0.6972563370202991\t 3.112316922736433\t 3.305983083367495\n",
            "11 \t [-2.31952405  3.57233591]\t 18.141775677194968\t 0.6972563370202991\t 3.1029204517236093\t 3.2664754541020464\n",
            "12 \t [-5.12        1.96654157]\t 30.081685734815895\t 0.6972563370202991\t 2.8390055206742426\t 2.679272774251469\n",
            "13 \t [-0.78590066  0.70108898]\t 1.1091656081427168\t 0.6972563370202991\t 2.7096700071131594\t 3.2647727841450567\n",
            "14 \t [5.12       0.46749105]\t 26.432947878119055\t 0.6972563370202991\t 2.642886985629302\t 2.817139743951319\n",
            "15 \t [1.90391265 0.26019496]\t 3.6925847932956515\t 0.6972563370202991\t 2.451848061987105\t 3.009241775282175\n",
            "16 \t [ 2.18084889 -5.12      ]\t 30.97050190033159\t 0.6972563370202991\t 3.1106179618898078\t 2.9436937659281135\n",
            "17 \t [5.12 5.12]\t 52.4288\t 0.6972563370202991\t 2.990928940996011\t 3.207437900617534\n",
            "18 \t [ 5.12       -2.26233583]\t 31.33256342284101\t 0.6972563370202991\t 2.5962705324458053\t 2.7914257799389093\n",
            "19 \t [-0.43686259  2.50823851]\t 6.482109367106743\t 0.6972563370202991\t 2.4531166130756463\t 2.5312085979843246\n",
            "20 \t [3.06666687 1.75131296]\t 12.471542755263526\t 0.6972563370202991\t 2.867877839042505\t 2.939309169851302\n"
          ]
        }
      ],
      "source": [
        "### ESTIMATED STP CBM GRADIENTS\n",
        "\n",
        "np.random.seed(run_num_2)\n",
        "surrogate_approx_2 = dtStudentProcess(cov_func, optimize=opt, nu = df)\n",
        "\n",
        "approx_2 = GPGO_multi(surrogate_approx_2, Acquisition_grad(util), objfunc, param)\n",
        "approx_2.run(init_evals=n_init, max_iter=iters)\n"
      ]
    },
    {
      "cell_type": "code",
      "execution_count": 15,
      "metadata": {
        "colab": {
          "base_uri": "https://localhost:8080/"
        },
        "id": "-dgzIrUIGCGT",
        "outputId": "10d6992e-a751-4c21-a583-2450b7b80eed"
      },
      "outputs": [
        {
          "output_type": "stream",
          "name": "stdout",
          "text": [
            "Evaluation \t Proposed point \t  Current eval. \t  Best eval. \t        Exact CBM: StdDev. x \t Approx CBM: StdDev. x \n",
            "init\t [0.52017052 2.1314337 ]\t 4.813587005218131\t 4.59675431006429\t    \t    \n",
            "init\t [-2.14113547  0.11087468]\t 4.59675431006429\t 4.59675431006429\t    \t    \n",
            "init\t [4.02377681 4.05804123]\t 32.65847846685941\t 4.59675431006429\t    \t    \n",
            "init\t [-3.83400642 -2.99783293]\t 23.686607498512902\t 4.59675431006429\t    \t    \n",
            "init\t [-4.59297584 -0.6061072 ]\t 21.462792989409664\t 4.59675431006429\t    \t    \n",
            "1  \t [ 2.87042319 -1.98283743]\t 12.170973549365186\t 4.59675431006429\t 2.448226797700788\t 2.7854244112411806\n",
            "2  \t [-5.12  5.12]\t 52.4288\t 4.59675431006429\t 2.7617426078407075\t 4.268223263580705\n",
            "3  \t [ 0.06153119 -5.12      ]\t 26.218186086988556\t 4.59675431006429\t 3.1027765279017845\t 3.896774879674935\n",
            "4  \t [ 5.12 -5.12]\t 52.4288\t 4.59675431006429\t 3.351205729843039\t 3.3915922510414798\n",
            "5  \t [-0.89677409  5.12      ]\t 27.018603773998418\t 4.59675431006429\t 2.878599168748524\t 3.3762219372953095\n",
            "6  \t [5.12       0.49540758]\t 26.459828665717566\t 4.59675431006429\t 2.7998500390956678\t 2.993847406264654\n",
            "\u001b[1m\u001b[92m7\u001b[0m\t \u001b[1m\u001b[92m[-0.19985875 -1.66878217]\u001b[0m\t \u001b[1m\u001b[92m2.824777452109891\u001b[0m\t \u001b[1m\u001b[92m2.824777452109891\u001b[0m\t \u001b[1m\u001b[92m3.250462965318182\u001b[0m\t \u001b[1m\u001b[92m2.908563891915144\u001b[0m\n",
            "8  \t [-2.965674    2.47392416]\t 14.915523005148767\t 2.824777452109891\t 3.364082524437971\t 3.345086936033895\n",
            "9  \t [2.45314614 0.45058548]\t 6.2209532403885826\t 2.824777452109891\t 2.541845848805134\t 3.1114556572690972\n",
            "10 \t [-5.12 -5.12]\t 52.4288\t 2.824777452109891\t 3.3094658774428884\t 3.5703127614921852\n",
            "11 \t [1.65895575 5.12      ]\t 28.966534184537334\t 2.824777452109891\t 2.8114729967520837\t 3.3163574053188865\n",
            "\u001b[1m\u001b[92m12\u001b[0m\t \u001b[1m\u001b[92m[0.0630512  0.18739931]\u001b[0m\t \u001b[1m\u001b[92m0.039093956010871136\u001b[0m\t \u001b[1m\u001b[92m0.039093956010871136\u001b[0m\t \u001b[1m\u001b[92m2.6598090772403657\u001b[0m\t \u001b[1m\u001b[92m2.897836721111431\u001b[0m\n",
            "13 \t [-5.12       1.9523395]\t 30.026029505257156\t 0.039093956010871136\t 3.2845474345498658\t 3.0510721249594877\n",
            "14 \t [ 2.40594622 -4.32625829]\t 24.505088009391876\t 0.039093956010871136\t 2.6887533398617025\t 2.516604247246439\n",
            "15 \t [ 5.12       -2.18476852]\t 30.987613492583755\t 0.039093956010871136\t 2.9780500371093823\t 3.0904339883538565\n",
            "16 \t [-1.40970028 -2.961336  ]\t 10.756765778731484\t 0.039093956010871136\t 2.8126090978602347\t 3.080641911641994\n",
            "17 \t [-2.3397058 -5.12     ]\t 31.688623246148598\t 0.039093956010871136\t 2.395213160234376\t 2.4207059533485755\n",
            "18 \t [-3.15355683  4.26168039]\t 28.106840429486272\t 0.039093956010871136\t 3.1136302594635024\t 3.259648331066773\n",
            "19 \t [-1.04169713  1.5642365 ]\t 3.531968721431965\t 0.039093956010871136\t 3.254174489130083\t 2.6200726875875398\n",
            "20 \t [2.32305526 2.23300666]\t 10.38290450597399\t 0.039093956010871136\t 2.6711552383899275\t 2.0926611576692795\n"
          ]
        }
      ],
      "source": [
        "### ESTIMATED STP CBM GRADIENTS\n",
        "\n",
        "np.random.seed(run_num_3)\n",
        "surrogate_approx_3 = dtStudentProcess(cov_func, optimize=opt, nu = df)\n",
        "\n",
        "approx_3 = GPGO_multi(surrogate_approx_3, Acquisition_grad(util), objfunc, param)\n",
        "approx_3.run(init_evals=n_init, max_iter=iters)\n"
      ]
    },
    {
      "cell_type": "code",
      "execution_count": 16,
      "metadata": {
        "colab": {
          "base_uri": "https://localhost:8080/"
        },
        "id": "hOtG-2sCGCKS",
        "outputId": "b2455e56-7ec8-4864-ed86-435a477205fc"
      },
      "outputs": [
        {
          "output_type": "stream",
          "name": "stdout",
          "text": [
            "Evaluation \t Proposed point \t  Current eval. \t  Best eval. \t        Exact CBM: StdDev. x \t Approx CBM: StdDev. x \n",
            "init\t [4.78238555 0.48365823]\t 23.1051368481516\t 6.844040613967918\t    \t    \n",
            "init\t [4.84028785 2.19971578]\t 28.267135924302462\t 6.844040613967918\t    \t    \n",
            "init\t [ 2.02474316 -2.90724357]\t 12.551650027390728\t 6.844040613967918\t    \t    \n",
            "init\t [ 4.87705042 -5.05620219]\t 49.3508013219099\t 6.844040613967918\t    \t    \n",
            "init\t [-2.52946061 -0.66773471]\t 6.844040613967918\t 6.844040613967918\t    \t    \n",
            "1  \t [-2.49629322  5.03809754]\t 31.613906687781014\t 6.844040613967918\t 2.910002892182548\t 3.93125656871738\n",
            "2  \t [-5.12 -5.12]\t 52.4288\t 6.844040613967918\t 3.9173413952738994\t 3.705936364488499\n",
            "3  \t [1.82873546 5.12      ]\t 29.558673394712095\t 6.844040613967918\t 3.3183417614302257\t 3.51520860072305\n",
            "4  \t [-5.12        1.89736592]\t 29.814397433699305\t 6.844040613967918\t 3.1487216368966213\t 3.4217181856332686\n",
            "\u001b[1m\u001b[92m5\u001b[0m\t \u001b[1m\u001b[92m[0.62959701 1.14143384]\u001b[0m\t \u001b[1m\u001b[92m1.6992636129638687\u001b[0m\t \u001b[1m\u001b[92m1.6992636129638687\u001b[0m\t \u001b[1m\u001b[92m2.8523765735859477\u001b[0m\t \u001b[1m\u001b[92m3.184559912692537\u001b[0m\n",
            "6  \t [-0.95742855 -5.12      ]\t 27.13106942197059\t 1.6992636129638687\t 3.0054600885671943\t 3.3186769308316717\n",
            "7  \t [-5.12       -1.60375494]\t 28.786429911921015\t 1.6992636129638687\t 2.889883835606403\t 2.420827609432036\n",
            "8  \t [5.12 5.12]\t 52.4288\t 1.6992636129638687\t 2.83017210309305\t 2.872002140424191\n",
            "9  \t [-1.53906908  1.95606855]\t 6.194937779893097\t 1.6992636129638687\t 2.2816677618606502\t 2.096396305819028\n",
            "\u001b[1m\u001b[92m10\u001b[0m\t \u001b[1m\u001b[92m[-0.03405867 -1.11526897]\u001b[0m\t \u001b[1m\u001b[92m1.2449848644150807\u001b[0m\t \u001b[1m\u001b[92m1.2449848644150807\u001b[0m\t \u001b[1m\u001b[92m2.670432845535907\u001b[0m\t \u001b[1m\u001b[92m3.5206674732757746\u001b[0m\n",
            "11 \t [-5.12  5.12]\t 52.4288\t 1.2449848644150807\t 2.761682971108144\t 3.2944239688125783\n",
            "12 \t [ 2.09074623 -0.24820495]\t 4.432825508184759\t 1.2449848644150807\t 2.743431844721458\t 2.823058509414536\n",
            "13 \t [ 5.12      -2.0965145]\t 30.609773060458046\t 1.2449848644150807\t 2.565261401608127\t 2.8368557724943333\n",
            "14 \t [-2.35234256 -2.85539322]\t 13.68678595859204\t 1.2449848644150807\t 2.5053954554901603\t 2.554925983161022\n",
            "15 \t [1.98821127 2.35051727]\t 9.477915504893879\t 1.2449848644150807\t 2.3530282946767924\t 2.469139263519284\n",
            "16 \t [ 1.81271861 -5.12      ]\t 29.500348763019844\t 1.2449848644150807\t 2.7626501288342666\t 2.442882735769643\n",
            "17 \t [-0.19334514  3.41540991]\t 11.70240719283506\t 1.2449848644150807\t 2.2422483006716547\t 2.3544922873213996\n",
            "\u001b[1m\u001b[92m18\u001b[0m\t \u001b[1m\u001b[92m[-0.79603214  0.25568046]\u001b[0m\t \u001b[1m\u001b[92m0.6990396692884772\u001b[0m\t \u001b[1m\u001b[92m0.6990396692884772\u001b[0m\t \u001b[1m\u001b[92m2.8489841894272394\u001b[0m\t \u001b[1m\u001b[92m2.758452329606099\u001b[0m\n",
            "19 \t [-0.12991503 -2.85812957]\t 8.185782528768641\t 0.6990396692884772\t 3.051194439619966\t 2.827580085656203\n",
            "20 \t [-2.97033704  1.02922518]\t 9.882206607511954\t 0.6990396692884772\t 2.4951638823182924\t 1.892201745421397\n"
          ]
        }
      ],
      "source": [
        "### ESTIMATED STP CBM GRADIENTS\n",
        "\n",
        "np.random.seed(run_num_4)\n",
        "surrogate_approx_4 = dtStudentProcess(cov_func, optimize=opt, nu = df)\n",
        "\n",
        "approx_4= GPGO_multi(surrogate_approx_4, Acquisition_grad(util), objfunc, param)\n",
        "approx_4.run(init_evals=n_init, max_iter=iters)\n"
      ]
    },
    {
      "cell_type": "code",
      "execution_count": 17,
      "metadata": {
        "colab": {
          "base_uri": "https://localhost:8080/"
        },
        "id": "JF_SxcEvGCOl",
        "outputId": "705c0196-b89e-46a1-acd9-5efbdbec5fa5"
      },
      "outputs": [
        {
          "output_type": "stream",
          "name": "stdout",
          "text": [
            "Evaluation \t Proposed point \t  Current eval. \t  Best eval. \t        Exact CBM: StdDev. x \t Approx CBM: StdDev. x \n",
            "init\t [-2.84678993  3.79629882]\t 22.516097589112718\t 1.3234068721819314\t    \t    \n",
            "init\t [-3.00319585  4.2865757 ]\t 27.393916517947076\t 1.3234068721819314\t    \t    \n",
            "init\t [-0.11866943  1.14425716]\t 1.3234068721819314\t 1.3234068721819314\t    \t    \n",
            "init\t [2.72289645 0.1886002 ]\t 7.449735113237491\t 1.3234068721819314\t    \t    \n",
            "init\t [-2.08076286 -3.19773462]\t 14.555080786026249\t 1.3234068721819314\t    \t    \n",
            "1  \t [ 5.12       -4.82799255]\t 49.523912081721576\t 1.3234068721819314\t 4.53778950835479\t 4.554371577318889\n",
            "2  \t [5.12 5.12]\t 52.4288\t 1.3234068721819314\t 4.191284010285314\t 4.202353796330673\n",
            "3  \t [-5.12       -0.04791535]\t 26.216695880622936\t 1.3234068721819314\t 3.53676378221975\t 3.791491209702173\n",
            "4  \t [0.96171183 5.12      ]\t 27.139289650637405\t 1.3234068721819314\t 3.40479155580026\t 3.52371116635594\n",
            "5  \t [-5.12 -5.12]\t 52.4288\t 1.3234068721819314\t 3.4496061298885388\t 3.7360550647209743\n",
            "6  \t [ 1.06333445 -5.12      ]\t 27.345080143973526\t 1.3234068721819314\t 3.0084351880083813\t 3.1765568731356146\n",
            "7  \t [ 5.12       -1.18749587]\t 27.624546448821732\t 1.3234068721819314\t 2.1985989754236326\t 2.632720325717212\n",
            "8  \t [ 0.53725572 -1.5644348 ]\t 2.7360999413459575\t 1.3234068721819314\t 2.968407393873071\t 3.2777026359603405\n",
            "9  \t [-1.97972357 -0.01725697]\t 3.9196032172087683\t 1.3234068721819314\t 3.0223102520423946\t 3.1623162782768275\n",
            "10 \t [5.12       1.88879144]\t 29.781933100380577\t 1.3234068721819314\t 3.026401087998041\t 3.24219349608384\n",
            "11 \t [1.77155555 2.38786318]\t 8.84029965101173\t 1.3234068721819314\t 2.830912743926623\t 2.98118322613463\n",
            "12 \t [ 2.50650888 -2.57716989]\t 12.924391406841565\t 1.3234068721819314\t 2.935534503917557\t 3.048518695127567\n",
            "13 \t [-5.12        2.70105313]\t 33.51008799005463\t 1.3234068721819314\t 2.798385637834586\t 3.1959013891610906\n",
            "14 \t [-4.44816899 -2.38560193]\t 25.47730396282964\t 1.3234068721819314\t 2.4605590400478135\t 3.0411170907680747\n",
            "15 \t [-0.65307047  2.73433468]\t 7.903087154384898\t 1.3234068721819314\t 2.6305914734146967\t 1.9876742513422716\n",
            "16 \t [-1.75431697 -5.12      ]\t 29.29202804597177\t 1.3234068721819314\t 2.6869830945153375\t 2.7666388099631583\n",
            "\u001b[1m\u001b[92m17\u001b[0m\t \u001b[1m\u001b[92m[ 0.71315123 -0.0279439 ]\u001b[0m\t \u001b[1m\u001b[92m0.5093655405526492\u001b[0m\t \u001b[1m\u001b[92m0.5093655405526492\u001b[0m\t \u001b[1m\u001b[92m2.337041563467877\u001b[0m\t \u001b[1m\u001b[92m2.4416612419528403\u001b[0m\n",
            "18 \t [-0.97449312 -1.30151941]\t 2.6435896199730373\t 0.5093655405526492\t 2.707109355663683\t 2.3306028224336184\n",
            "19 \t [-5.12  5.12]\t 52.4288\t 0.5093655405526492\t 2.2903878964362208\t 2.822370272253243\n",
            "20 \t [-2.73623598  1.46628864]\t 9.63698968083634\t 0.5093655405526492\t 2.7548455243179597\t 2.870138644741732\n"
          ]
        }
      ],
      "source": [
        "### ESTIMATED STP CBM GRADIENTS\n",
        "\n",
        "np.random.seed(run_num_5)\n",
        "surrogate_approx_5 = dtStudentProcess(cov_func, optimize=opt, nu = df)\n",
        "\n",
        "approx_5 = GPGO_multi(surrogate_approx_5, Acquisition_grad(util), objfunc, param)\n",
        "approx_5.run(init_evals=n_init, max_iter=iters)\n"
      ]
    },
    {
      "cell_type": "code",
      "execution_count": 18,
      "metadata": {
        "colab": {
          "base_uri": "https://localhost:8080/"
        },
        "id": "-kDxZtJsGCR3",
        "outputId": "3c2731f4-65e9-401f-9558-4262c16c5a1b"
      },
      "outputs": [
        {
          "output_type": "stream",
          "name": "stdout",
          "text": [
            "Evaluation \t Proposed point \t  Current eval. \t  Best eval. \t        Exact CBM: StdDev. x \t Approx CBM: StdDev. x \n",
            "init\t [ 4.02288795 -1.72052679]\t 19.143839911819178\t 0.7844720799352826\t    \t    \n",
            "init\t [ 3.28938622 -4.69302655]\t 32.84455992822337\t 0.7844720799352826\t    \t    \n",
            "init\t [-4.0175956   0.97333314]\t 17.088451781196223\t 0.7844720799352826\t    \t    \n",
            "init\t [ 0.30532979 -0.83141193]\t 0.7844720799352826\t 0.7844720799352826\t    \t    \n",
            "init\t [-1.68542362  1.25459899]\t 4.414671405342624\t 0.7844720799352826\t    \t    \n",
            "1  \t [5.12       5.04608322]\t 51.677355883710746\t 0.7844720799352826\t 3.943035716681148\t 3.877340664507789\n",
            "2  \t [-3.78361152 -5.12      ]\t 40.530116132098115\t 0.7844720799352826\t 3.733935211292819\t 3.6650454428777306\n",
            "3  \t [0.08601917 5.12      ]\t 26.221799296821168\t 0.7844720799352826\t 3.094138068519169\t 3.139308073015586\n",
            "4  \t [-5.12  5.12]\t 52.4288\t 0.7844720799352826\t 3.134965864019049\t 4.118865730180936\n",
            "5  \t [2.31793869 1.7823818 ]\t 8.549724641807085\t 0.7844720799352826\t 2.984532212143365\t 2.7697628605454425\n",
            "6  \t [-0.33816168 -3.50618547]\t 12.4076898897956\t 0.7844720799352826\t 2.950484900941982\t 3.5049299295751206\n",
            "7  \t [-5.12       -1.96700195]\t 30.083496672300566\t 0.7844720799352826\t 3.24768847035822\t 3.2768819981073554\n",
            "8  \t [5.12       1.35902901]\t 28.061359860042977\t 0.7844720799352826\t 3.04528053342745\t 3.065333578057545\n",
            "9  \t [-2.27960932 -1.45023739]\t 7.299807132929513\t 0.7844720799352826\t 2.530213797458901\t 2.8139073154969325\n",
            "10 \t [-2.47764824  3.85164667]\t 20.973922845631492\t 0.7844720799352826\t 2.873977537943667\t 3.11291022011494\n",
            "11 \t [0.13431302 2.05373149]\t 4.235853032463179\t 0.7844720799352826\t 3.20534643209549\t 3.02212222500959\n",
            "12 \t [ 1.89443883 -0.45130176]\t 3.792571737467296\t 0.7844720799352826\t 2.7508800654730265\t 3.1482416186826305\n",
            "13 \t [2.4091953  4.49441568]\t 26.003994300104445\t 0.7844720799352826\t 2.8120584947165157\t 3.1771425177091226\n",
            "14 \t [ 1.52218241 -2.36590298]\t 7.914536225420505\t 0.7844720799352826\t 2.941283132720046\t 2.9116744993799384\n",
            "15 \t [ 0.63854369 -5.12      ]\t 26.622138049421007\t 0.7844720799352826\t 2.8625891912602173\t 3.060845865689344\n",
            "\u001b[1m\u001b[92m16\u001b[0m\t \u001b[1m\u001b[92m[-0.41066611  0.26039549]\u001b[0m\t \u001b[1m\u001b[92m0.23645246251893762\u001b[0m\t \u001b[1m\u001b[92m0.23645246251893762\u001b[0m\t \u001b[1m\u001b[92m2.68164667562429\u001b[0m\t \u001b[1m\u001b[92m3.0696435909415025\u001b[0m\n",
            "17 \t [-5.12        2.52670732]\t 32.5986498978416\t 0.23645246251893762\t 3.023649905133358\t 3.7307696181214673\n",
            "18 \t [ 5.12       -3.56128786]\t 38.89717125477567\t 0.23645246251893762\t 2.9061574100880043\t 2.6809168170027875\n",
            "19 \t [-0.71333587 -1.50382331]\t 2.770332626383837\t 0.23645246251893762\t 3.068924091958009\t 3.0589016462126395\n",
            "20 \t [3.69176297 0.45217899]\t 13.833579694948725\t 0.23645246251893762\t 2.9518661507303663\t 2.8628288397938197\n"
          ]
        }
      ],
      "source": [
        "### ESTIMATED STP CBM GRADIENTS\n",
        "\n",
        "np.random.seed(run_num_6)\n",
        "surrogate_approx_6 = dtStudentProcess(cov_func, optimize=opt, nu = df)\n",
        "\n",
        "approx_6 = GPGO_multi(surrogate_approx_6, Acquisition_grad(util), objfunc, param)\n",
        "approx_6.run(init_evals=n_init, max_iter=iters)\n"
      ]
    },
    {
      "cell_type": "code",
      "execution_count": 19,
      "metadata": {
        "colab": {
          "base_uri": "https://localhost:8080/"
        },
        "id": "fKB8MCD_GCVI",
        "outputId": "82c120c2-2621-4afc-ba21-fe0fb969c857"
      },
      "outputs": [
        {
          "output_type": "stream",
          "name": "stdout",
          "text": [
            "Evaluation \t Proposed point \t  Current eval. \t  Best eval. \t        Exact CBM: StdDev. x \t Approx CBM: StdDev. x \n",
            "init\t [-4.33860312  2.86636843]\t 27.039544996254122\t 5.622519010932044\t    \t    \n",
            "init\t [-0.63068947  2.28828342]\t 5.634010222398341\t 5.622519010932044\t    \t    \n",
            "init\t [4.8946126  0.39419771]\t 24.112624368867845\t 5.622519010932044\t    \t    \n",
            "init\t [ 0.01147355 -4.38219639]\t 19.20377688135857\t 5.622519010932044\t    \t    \n",
            "init\t [-2.37118484e+00 -1.20319155e-03]\t 5.622519010932044\t 5.622519010932044\t    \t    \n",
            "1  \t [-5.12 -5.12]\t 52.4288\t 5.622519010932044\t 2.9813338208497426\t 3.6290914888984354\n",
            "2  \t [ 5.12 -5.12]\t 52.4288\t 5.622519010932044\t 3.6881728383086174\t 3.7540663918559405\n",
            "3  \t [3.3343316 5.12     ]\t 37.33216724657788\t 5.622519010932044\t 3.770386095522951\t 3.551970201745136\n",
            "4  \t [-4.02558214 -1.33646422]\t 17.991448177385568\t 5.622519010932044\t 2.888990237182275\t 3.046307140328312\n",
            "\u001b[1m\u001b[92m5\u001b[0m\t \u001b[1m\u001b[92m[ 1.22429818 -0.77355466]\u001b[0m\t \u001b[1m\u001b[92m2.0972928503411015\u001b[0m\t \u001b[1m\u001b[92m2.0972928503411015\u001b[0m\t \u001b[1m\u001b[92m3.1396419776918556\u001b[0m\t \u001b[1m\u001b[92m3.2302934278676925\u001b[0m\n",
            "6  \t [-1.27619493  5.12      ]\t 27.84307349953911\t 2.0972928503411015\t 3.1286011460617345\t 3.714208275899744\n",
            "7  \t [ 2.9306357  -2.47224081]\t 14.700600268489158\t 2.0972928503411015\t 2.5543365600207744\t 2.606047376705957\n",
            "8  \t [2.01140386 1.85880926]\t 7.5009173254340356\t 2.0972928503411015\t 3.2136502350102165\t 3.7001311748820434\n",
            "9  \t [-0.77202307 -1.66970676]\t 3.3839402771294753\t 2.0972928503411015\t 3.378343592929053\t 3.6514654477588686\n",
            "10 \t [-5.12  5.12]\t 52.4288\t 2.0972928503411015\t 2.8291145187453086\t 3.7662985306655394\n",
            "11 \t [5.12      3.0562428]\t 35.55502004888187\t 2.0972928503411015\t 3.131217265461426\t 3.2359958427413926\n",
            "12 \t [-2.46039369 -3.5823984 ]\t 18.88711542245807\t 2.0972928503411015\t 2.9968332408887783\t 3.005216149299253\n",
            "13 \t [ 2.25795731 -5.12      ]\t 31.312771201185797\t 2.0972928503411015\t 3.2667129412808626\t 3.1857781131401164\n",
            "\u001b[1m\u001b[92m14\u001b[0m\t \u001b[1m\u001b[92m[-0.19323621  0.33600287]\u001b[0m\t \u001b[1m\u001b[92m0.15023815698876103\u001b[0m\t \u001b[1m\u001b[92m0.15023815698876103\u001b[0m\t \u001b[1m\u001b[92m2.5548409431788968\u001b[0m\t \u001b[1m\u001b[92m2.910790011600914\u001b[0m\n",
            "15 \t [ 5.12       -2.15243527]\t 30.84737760303283\t 0.15023815698876103\t 3.0303868204502846\t 3.230968046341387\n",
            "16 \t [1.01508092 4.07664753]\t 17.649444373589905\t 0.15023815698876103\t 2.8389641753191706\t 2.9412317197497364\n",
            "17 \t [-5.12        0.57909522]\t 26.549751279022235\t 0.15023815698876103\t 2.088484082820404\t 2.2758428678378957\n",
            "18 \t [2.54297227 0.01614406]\t 6.466968592185893\t 0.15023815698876103\t 3.2949331571095177\t 3.292704862183781\n",
            "19 \t [-2.31952737  1.86466133]\t 8.857169084548913\t 0.15023815698876103\t 3.1212016644130816\t 2.8568673348209663\n",
            "20 \t [ 0.82333081 -2.38334988]\t 6.35823025437988\t 0.15023815698876103\t 3.0065156642313946\t 2.934631139446706\n"
          ]
        }
      ],
      "source": [
        "### ESTIMATED STP CBM GRADIENTS\n",
        "\n",
        "np.random.seed(run_num_7)\n",
        "surrogate_approx_7 = dtStudentProcess(cov_func, optimize=opt, nu = df)\n",
        "\n",
        "approx_7 = GPGO_multi(surrogate_approx_7, Acquisition_grad(util), objfunc, param)\n",
        "approx_7.run(init_evals=n_init, max_iter=iters)\n"
      ]
    },
    {
      "cell_type": "code",
      "execution_count": 20,
      "metadata": {
        "colab": {
          "base_uri": "https://localhost:8080/"
        },
        "id": "4unvifF-GCXp",
        "outputId": "bae27809-3acf-4be7-84fc-68a1618d1726"
      },
      "outputs": [
        {
          "output_type": "stream",
          "name": "stdout",
          "text": [
            "Evaluation \t Proposed point \t  Current eval. \t  Best eval. \t        Exact CBM: StdDev. x \t Approx CBM: StdDev. x \n",
            "init\t [3.82391708 4.79785639]\t 37.641767782829874\t 0.10287109474532606\t    \t    \n",
            "init\t [3.78055209 0.31596228]\t 14.392406282091054\t 0.10287109474532606\t    \t    \n",
            "init\t [-2.73686192 -5.00327624]\t 32.52318635319257\t 0.10287109474532606\t    \t    \n",
            "init\t [-0.7119993  -0.99992207]\t 1.5067871566831337\t 0.10287109474532606\t    \t    \n",
            "init\t [ 0.23218863 -0.22126801]\t 0.10287109474532606\t 0.10287109474532606\t    \t    \n",
            "1  \t [-0.68664669  2.83420988]\t 8.504229318431857\t 0.10287109474532606\t 2.943063484885568\t 3.926825109401547\n",
            "2  \t [ 5.12 -5.12]\t 52.4288\t 0.10287109474532606\t 3.250283589932114\t 4.025216614637095\n",
            "3  \t [-5.12  5.12]\t 52.4288\t 0.10287109474532606\t 2.5353818241005524\t 3.7502731456328533\n",
            "4  \t [-5.12       -0.24816733]\t 26.27598702180534\t 0.10287109474532606\t 3.22344843857689\t 3.388658327290187\n",
            "5  \t [ 1.22195264 -3.63989946]\t 14.742036312002089\t 0.10287109474532606\t 3.2629185500245126\t 3.0068770707012877\n",
            "6  \t [0.44892555 5.12      ]\t 26.415934149950058\t 0.10287109474532606\t 3.3648603362009633\t 3.52777918408721\n",
            "7  \t [-3.25736433  2.21297576]\t 15.507684083857574\t 0.10287109474532606\t 3.227035180060715\t 3.296210857552216\n",
            "8  \t [-5.12       -3.29993049]\t 37.10394120893038\t 0.10287109474532606\t 3.497371453881772\t 3.4982732642521626\n",
            "9  \t [ 5.12       -1.94372538]\t 29.992468365659768\t 0.10287109474532606\t 2.886834565330771\t 2.8964250030382046\n",
            "10 \t [1.60328422 1.84686727]\t 5.981438996392488\t 0.10287109474532606\t 2.9446860897547884\t 3.5169022351536268\n",
            "11 \t [-2.43107148 -1.76388749]\t 9.021407632510712\t 0.10287109474532606\t 3.383989425152946\t 3.1291589787183005\n",
            "12 \t [5.12       2.28475215]\t 31.4344923896163\t 0.10287109474532606\t 2.600606433628859\t 2.7803664503640397\n",
            "13 \t [ 1.77382294 -1.19028735]\t 4.56323178920959\t 0.10287109474532606\t 2.8746521056781225\t 3.000414914810435\n",
            "14 \t [-2.20982999  5.12      ]\t 31.09774858789959\t 0.10287109474532606\t 2.94475643356125\t 2.9111867594211214\n",
            "15 \t [-1.36946968  0.6241984 ]\t 2.26507083035202\t 0.10287109474532606\t 2.5392026739125244\t 2.5558937354581417\n",
            "16 \t [-0.81931093 -3.01286649]\t 9.74863489617771\t 0.10287109474532606\t 2.778102063190592\t 2.8775999238019385\n",
            "17 \t [-0.08183794 -5.12      ]\t 26.221097448723302\t 0.10287109474532606\t 2.6608346078734995\t 3.163938721483776\n",
            "18 \t [ 2.58188424 -5.12      ]\t 32.880526238959995\t 0.10287109474532606\t 2.6884297793107184\t 2.9638830616966243\n",
            "19 \t [-5.12        2.31448146]\t 31.571224409661117\t 0.10287109474532606\t 2.7954448518683046\t 2.510665210846843\n",
            "20 \t [0.11408971 1.0988682 ]\t 1.220527774012499\t 0.10287109474532606\t 3.077564402847421\t 2.6037090034239254\n"
          ]
        }
      ],
      "source": [
        "### ESTIMATED STP CBM GRADIENTS\n",
        "\n",
        "np.random.seed(run_num_8)\n",
        "surrogate_approx_8 = dtStudentProcess(cov_func, optimize=opt, nu = df)\n",
        "\n",
        "approx_8 = GPGO_multi(surrogate_approx_8, Acquisition_grad(util), objfunc, param)\n",
        "approx_8.run(init_evals=n_init, max_iter=iters)\n"
      ]
    },
    {
      "cell_type": "code",
      "execution_count": 21,
      "metadata": {
        "colab": {
          "base_uri": "https://localhost:8080/"
        },
        "id": "85OIXcg7GCaJ",
        "outputId": "0f6e486e-da8b-4201-aed7-325d12a04c87"
      },
      "outputs": [
        {
          "output_type": "stream",
          "name": "stdout",
          "text": [
            "Evaluation \t Proposed point \t  Current eval. \t  Best eval. \t        Exact CBM: StdDev. x \t Approx CBM: StdDev. x \n",
            "init\t [-5.01376866  0.01919582]\t 25.138244697862262\t 7.349882113053805\t    \t    \n",
            "init\t [-0.04328148 -3.74958562]\t 14.061265633999861\t 7.349882113053805\t    \t    \n",
            "init\t [-3.66478248 -2.88195916]\t 21.736319271030034\t 7.349882113053805\t    \t    \n",
            "init\t [-0.83447623 -2.57944404]\t 7.349882113053805\t 7.349882113053805\t    \t    \n",
            "init\t [-4.25922917 -1.58209393]\t 20.64405433050371\t 7.349882113053805\t    \t    \n",
            "1  \t [3.11029524 4.9495987 ]\t 34.172463819640285\t 7.349882113053805\t 2.9518647281570085\t 3.024122611000024\n",
            "2  \t [ 5.12       -0.55227092]\t 26.519403172614926\t 7.349882113053805\t 3.1377396623475824\t 4.138552643502264\n",
            "3  \t [-2.69575849  5.12      ]\t 33.481513835540895\t 7.349882113053805\t 2.7524932524247347\t 4.302268778171883\n",
            "4  \t [ 4.71723634 -5.12      ]\t 48.46671871897221\t 7.349882113053805\t 2.916950790090661\t 3.6687261010114596\n",
            "\u001b[1m\u001b[92m5\u001b[0m\t \u001b[1m\u001b[92m[0.20770027 1.37189151]\u001b[0m\t \u001b[1m\u001b[92m1.9252257243451505\u001b[0m\t \u001b[1m\u001b[92m1.9252257243451505\u001b[0m\t \u001b[1m\u001b[92m3.349040432623572\u001b[0m\t \u001b[1m\u001b[92m3.111192062188355\u001b[0m\n",
            "6  \t [ 1.72319536 -0.80999517]\t 3.6254944233800117\t 1.9252257243451505\t 2.910649004227746\t 3.019184855446771\n",
            "7  \t [-2.1816822   1.66320904]\t 7.526001525675337\t 1.9252257243451505\t 3.3527464067870207\t 3.186853007597932\n",
            "8  \t [2.7127572 1.7113406]\t 10.287738268070418\t 1.9252257243451505\t 2.964858526550015\t 3.087150990085693\n",
            "9  \t [-5.12        3.19146229]\t 36.39983156778206\t 1.9252257243451505\t 3.730495674512402\t 3.485289587695186\n",
            "10 \t [-5.12 -5.12]\t 52.4288\t 1.9252257243451505\t 3.3509656167108717\t 3.2919795399822798\n",
            "11 \t [0.15868933 3.75645599]\t 14.136143931366306\t 1.9252257243451505\t 2.6638689200047696\t 3.398384805269333\n",
            "12 \t [5.12       2.69208535]\t 33.46172351771353\t 1.9252257243451505\t 2.7303976725165393\t 3.1797799825501007\n",
            "13 \t [ 2.65605171 -2.80157542]\t 14.903435518149802\t 1.9252257243451505\t 2.5394023020123186\t 2.5561880314524843\n",
            "\u001b[1m\u001b[92m14\u001b[0m\t \u001b[1m\u001b[92m[-0.91041704 -0.39645525]\u001b[0m\t \u001b[1m\u001b[92m0.9860359463039821\u001b[0m\t \u001b[1m\u001b[92m0.9860359463039821\u001b[0m\t \u001b[1m\u001b[92m2.797008631268664\u001b[0m\t \u001b[1m\u001b[92m2.6450232258995796\u001b[0m\n",
            "15 \t [-1.97114444 -5.12      ]\t 30.099810402521616\t 0.9860359463039821\t 2.6304636569421938\t 2.6320398624810792\n",
            "16 \t [ 1.7034622 -5.12     ]\t 29.11618346380886\t 0.9860359463039821\t 3.190880945555717\t 2.8139817469724306\n",
            "17 \t [-2.3069185  -0.38228005]\t 5.46801098929715\t 0.9860359463039821\t 2.3469286570853187\t 2.4679280256574816\n",
            "\u001b[1m\u001b[92m18\u001b[0m\t \u001b[1m\u001b[92m[ 0.41678743 -0.16867284]\u001b[0m\t \u001b[1m\u001b[92m0.20216229028727817\u001b[0m\t \u001b[1m\u001b[92m0.20216229028727817\u001b[0m\t \u001b[1m\u001b[92m2.728224522532404\u001b[0m\t \u001b[1m\u001b[92m2.2734824310863466\u001b[0m\n",
            "19 \t [ 5.12       -2.70321202]\t 33.5217552430241\t 0.20216229028727817\t 2.8876671074185687\t 2.874813897925562\n",
            "20 \t [-3.82338679  1.65783398]\t 17.36670001912156\t 0.20216229028727817\t 3.1891538548700464\t 3.021256987479083\n"
          ]
        }
      ],
      "source": [
        "### ESTIMATED STP CBM GRADIENTS\n",
        "\n",
        "np.random.seed(run_num_9)\n",
        "surrogate_approx_9 = dtStudentProcess(cov_func, optimize=opt, nu = df)\n",
        "\n",
        "approx_9 = GPGO_multi(surrogate_approx_9, Acquisition_grad(util), objfunc, param)\n",
        "approx_9.run(init_evals=n_init, max_iter=iters)\n"
      ]
    },
    {
      "cell_type": "code",
      "execution_count": 22,
      "metadata": {
        "colab": {
          "base_uri": "https://localhost:8080/"
        },
        "id": "QQBR-qJPGCcp",
        "outputId": "f00dd463-d34f-4fe9-a9e0-8fe9702d985a"
      },
      "outputs": [
        {
          "output_type": "stream",
          "name": "stdout",
          "text": [
            "Evaluation \t Proposed point \t  Current eval. \t  Best eval. \t        Exact CBM: StdDev. x \t Approx CBM: StdDev. x \n",
            "init\t [ 2.77832339 -4.90750004]\t 31.80263747150094\t 7.941821858928501\t    \t    \n",
            "init\t [1.36855793 2.54775176]\t 8.363989812138083\t 7.941821858928501\t    \t    \n",
            "init\t [-0.01528819 -2.81808235]\t 7.941821858928501\t 7.941821858928501\t    \t    \n",
            "init\t [-3.09183626  2.66783449]\t 16.67679237031191\t 7.941821858928501\t    \t    \n",
            "init\t [-3.38830503 -4.2154003 ]\t 29.25021071405309\t 7.941821858928501\t    \t    \n",
            "1  \t [ 5.12       -0.36403411]\t 26.34692082974011\t 7.941821858928501\t 3.3762267796965233\t 3.4515028618295744\n",
            "2  \t [5.12 5.12]\t 52.4288\t 7.941821858928501\t 2.852674438109217\t 3.3013797838058534\n",
            "3  \t [-5.12       -0.59626497]\t 26.56993191379653\t 7.941821858928501\t 2.6742220818242695\t 3.4242262358259854\n",
            "4  \t [-0.58588894  5.12      ]\t 26.55766584672\t 7.941821858928501\t 3.5009795592281523\t 3.7431649780507255\n",
            "5  \t [-5.12  5.12]\t 52.4288\t 7.941821858928501\t 2.882740564342575\t 3.629654789735684\n",
            "\u001b[1m\u001b[92m6\u001b[0m\t \u001b[1m\u001b[92m[-0.91768069  0.1014777 ]\u001b[0m\t \u001b[1m\u001b[92m0.8524355777063485\u001b[0m\t \u001b[1m\u001b[92m0.8524355777063485\u001b[0m\t \u001b[1m\u001b[92m3.2497989908229084\u001b[0m\t \u001b[1m\u001b[92m3.3479148469548057\u001b[0m\n",
            "7  \t [ 1.75556587 -0.48748356]\t 3.3196517489002755\t 0.8524355777063485\t 3.2593844410882906\t 3.0893155616214716\n",
            "8  \t [ 5.12       -3.33803465]\t 37.356875299164535\t 0.8524355777063485\t 3.5367474938247714\t 3.50108193414147\n",
            "9  \t [-0.46057855 -5.12      ]\t 26.426532601296497\t 0.8524355777063485\t 3.130460216437208\t 3.193236948606832\n",
            "10 \t [-2.23905797 -1.34273513]\t 6.81631824396915\t 0.8524355777063485\t 3.744527423860035\t 3.6127143627863725\n",
            "11 \t [3.85971684 2.21268501]\t 19.793389033766996\t 0.8524355777063485\t 3.097880481107234\t 2.864169489802562\n",
            "12 \t [2.14083997 5.12      ]\t 30.797595766687543\t 0.8524355777063485\t 3.188051378205389\t 3.2306150840107795\n",
            "13 \t [-0.68611133  1.86501502]\t 3.949029777126485\t 0.8524355777063485\t 2.557150374071191\t 3.147559156124887\n",
            "14 \t [ 2.37050994 -2.16052888]\t 10.28720240816035\t 0.8524355777063485\t 2.8281893787897125\t 3.3622579862945616\n",
            "15 \t [-5.12        1.98951618]\t 30.172574615622807\t 0.8524355777063485\t 3.3968707816756085\t 3.0137927534044073\n",
            "\u001b[1m\u001b[92m16\u001b[0m\t \u001b[1m\u001b[92m[0.60933626 0.54807818]\u001b[0m\t \u001b[1m\u001b[92m0.6716803604524829\u001b[0m\t \u001b[1m\u001b[92m0.6716803604524829\u001b[0m\t \u001b[1m\u001b[92m3.2321214784430925\u001b[0m\t \u001b[1m\u001b[92m3.2613253426704834\u001b[0m\n",
            "17 \t [-2.81648921  5.12      ]\t 34.1470114463463\t 0.6716803604524829\t 2.8752364413005704\t 3.357013258440842\n",
            "18 \t [-2.50414526  0.53727288]\t 6.55940562287996\t 0.6716803604524829\t 2.994504960398109\t 2.5982432725357554\n",
            "19 \t [-5.12 -5.12]\t 52.4288\t 0.6716803604524829\t 3.260002421134085\t 3.0589229436437764\n",
            "20 \t [ 0.04960126 -1.00149967]\t 1.005461864413325\t 0.6716803604524829\t 2.5664951245593017\t 2.8454704817911765\n"
          ]
        }
      ],
      "source": [
        "### ESTIMATED STP CBM GRADIENTS\n",
        "\n",
        "np.random.seed(run_num_10)\n",
        "surrogate_approx_10 = dtStudentProcess(cov_func, optimize=opt, nu = df)\n",
        "\n",
        "approx_10 = GPGO_multi(surrogate_approx_10, Acquisition_grad(util), objfunc, param)\n",
        "approx_10.run(init_evals=n_init, max_iter=iters)\n"
      ]
    },
    {
      "cell_type": "code",
      "execution_count": 23,
      "metadata": {
        "colab": {
          "base_uri": "https://localhost:8080/"
        },
        "id": "JS8ejeQ2GCfi",
        "outputId": "5632f80b-74e1-4025-87c3-2e6f0d37649e"
      },
      "outputs": [
        {
          "output_type": "stream",
          "name": "stdout",
          "text": [
            "Evaluation \t Proposed point \t  Current eval. \t  Best eval. \t        Exact CBM: StdDev. x \t Approx CBM: StdDev. x \n",
            "init\t [-3.27403839 -4.92057353]\t 34.93137118861299\t 0.6899456214148796\t    \t    \n",
            "init\t [-0.37664229  2.30332343]\t 5.447158259491397\t 0.6899456214148796\t    \t    \n",
            "init\t [-0.81711509 -0.14922651]\t 0.6899456214148796\t 0.6899456214148796\t    \t    \n",
            "init\t [-4.98912446 -0.12931474]\t 24.908085165573997\t 0.6899456214148796\t    \t    \n",
            "init\t [4.52410012 3.59214172]\t 33.37096399795931\t 0.6899456214148796\t    \t    \n",
            "1  \t [ 3.03550212 -4.46785095]\t 29.17596522689979\t 0.6899456214148796\t 2.9117371016045417\t 3.9097523005204593\n",
            "2  \t [-5.12  5.12]\t 52.4288\t 0.6899456214148796\t 2.3155318406578047\t 3.6274452018760464\n",
            "3  \t [ 5.12       -0.71940086]\t 26.731937600734824\t 0.6899456214148796\t 3.0883233937711903\t 3.4338811868858095\n",
            "4  \t [0.93204254 5.12      ]\t 27.083103294391304\t 0.6899456214148796\t 2.6608997717078178\t 2.6702820575314594\n",
            "5  \t [-0.19382397 -2.66614108]\t 7.1458759691828435\t 0.6899456214148796\t 2.8243226907241765\t 2.5287759938179977\n",
            "6  \t [1.79012912 0.1759379 ]\t 3.2355164176418363\t 0.6899456214148796\t 2.9866450524982064\t 2.713195210306733\n",
            "7  \t [-2.96568322  2.40744677]\t 14.5910768983546\t 0.6899456214148796\t 3.120230368544663\t 3.672738586099613\n",
            "8  \t [-0.03647719 -5.12      ]\t 26.215730585204454\t 0.6899456214148796\t 2.9771988143310706\t 3.148341302917259\n",
            "9  \t [-2.49357623 -1.66844067]\t 9.001616690030147\t 0.6899456214148796\t 3.1823214116646894\t 3.3918183516450857\n",
            "10 \t [-1.94426069  5.12      ]\t 29.99454962702812\t 0.6899456214148796\t 2.7250486811600982\t 3.233522341857449\n",
            "11 \t [1.96947978 2.20537796]\t 8.742542555543896\t 0.6899456214148796\t 3.1467453281358764\t 3.1351652288466214\n",
            "12 \t [-5.12       -2.89504424]\t 34.59568115574757\t 0.6899456214148796\t 2.576594359387808\t 2.9946631063712608\n",
            "13 \t [ 2.14176783 -1.75865799]\t 7.680047368719151\t 0.6899456214148796\t 2.9805503501552857\t 2.346961843321519\n",
            "14 \t [ 5.12       -3.39402424]\t 37.73380055901205\t 0.6899456214148796\t 3.039720791896111\t 3.022975555897086\n",
            "15 \t [-5.12        2.31923226]\t 31.593238268575774\t 0.6899456214148796\t 3.21765548822293\t 3.272342174700173\n",
            "16 \t [-2.20899899  0.43766892]\t 5.071230626640198\t 0.6899456214148796\t 2.8064241839364716\t 2.944339941714518\n",
            "17 \t [3.57619446 1.0379324 ]\t 13.866470501888\t 0.6899456214148796\t 2.3762556391317116\t 2.4433133837442704\n",
            "\u001b[1m\u001b[92m18\u001b[0m\t \u001b[1m\u001b[92m[ 0.4186005  -0.67824515]\u001b[0m\t \u001b[1m\u001b[92m0.6352428614047735\u001b[0m\t \u001b[1m\u001b[92m0.6352428614047735\u001b[0m\t \u001b[1m\u001b[92m2.8784773481206027\u001b[0m\t \u001b[1m\u001b[92m2.914128865081013\u001b[0m\n",
            "19 \t [0.27860352 0.79104301]\t 0.7033689640013666\t 0.6352428614047735\t 2.854696979963464\t 2.1878408468125055\n",
            "20 \t [3.11844047 5.12      ]\t 35.93907096313589\t 0.6352428614047735\t 4.193566790674918\t 3.2630031268963835\n"
          ]
        }
      ],
      "source": [
        "### ESTIMATED STP CBM GRADIENTS\n",
        "\n",
        "np.random.seed(run_num_11)\n",
        "surrogate_approx_11 = dtStudentProcess(cov_func, optimize=opt, nu = df)\n",
        "\n",
        "approx_11 = GPGO_multi(surrogate_approx_11, Acquisition_grad(util), objfunc, param)\n",
        "approx_11.run(init_evals=n_init, max_iter=iters)\n"
      ]
    },
    {
      "cell_type": "code",
      "execution_count": 24,
      "metadata": {
        "colab": {
          "base_uri": "https://localhost:8080/"
        },
        "id": "DXwjUVZ4GCii",
        "outputId": "56e938be-e0f0-471a-cbcb-0ab3d7db3a31"
      },
      "outputs": [
        {
          "output_type": "stream",
          "name": "stdout",
          "text": [
            "Evaluation \t Proposed point \t  Current eval. \t  Best eval. \t        Exact CBM: StdDev. x \t Approx CBM: StdDev. x \n",
            "init\t [-3.54137249  2.45810889]\t 18.583618467979093\t 5.993464196233534\t    \t    \n",
            "init\t [-2.42365424  0.34549139]\t 5.993464196233534\t 5.993464196233534\t    \t    \n",
            "init\t [-4.97075238  4.28796936]\t 43.09506052206225\t 5.993464196233534\t    \t    \n",
            "init\t [ 4.10332011 -4.77776458]\t 39.66427028607538\t 5.993464196233534\t    \t    \n",
            "init\t [ 4.6791612  -3.71497655]\t 35.6956003298903\t 5.993464196233534\t    \t    \n",
            "1  \t [5.12 5.12]\t 52.4288\t 5.993464196233534\t 3.6699934050576815\t 3.5926983895176634\n",
            "2  \t [-5.12 -5.12]\t 52.4288\t 5.993464196233534\t 3.45980222277968\t 3.064508409597678\n",
            "\u001b[1m\u001b[92m3\u001b[0m\t \u001b[1m\u001b[92m[2.28041255 0.77892719]\u001b[0m\t \u001b[1m\u001b[92m5.8070089624596575\u001b[0m\t \u001b[1m\u001b[92m5.8070089624596575\u001b[0m\t \u001b[1m\u001b[92m2.853676809645074\u001b[0m\t \u001b[1m\u001b[92m2.7733106585419907\u001b[0m\n",
            "4  \t [0.22734749 5.12      ]\t 26.266086882162544\t 5.8070089624596575\t 2.8954853257499105\t 3.2154484515658917\n",
            "5  \t [-0.48979808 -3.66866159]\t 13.698980008239955\t 5.8070089624596575\t 2.7477458242147423\t 2.816044838398708\n",
            "6  \t [-5.12       -1.19539471]\t 27.643368520881584\t 5.8070089624596575\t 2.785344471525483\t 3.156397017116371\n",
            "7  \t [5.12       0.14260957]\t 26.234737489878356\t 5.8070089624596575\t 2.656219370674389\t 3.2650790391177784\n",
            "\u001b[1m\u001b[92m8\u001b[0m\t \u001b[1m\u001b[92m[ 0.11580764 -0.7160517 ]\u001b[0m\t \u001b[1m\u001b[92m0.5261414437753642\u001b[0m\t \u001b[1m\u001b[92m0.5261414437753642\u001b[0m\t \u001b[1m\u001b[92m2.7370428298076392\u001b[0m\t \u001b[1m\u001b[92m2.905847126741262\u001b[0m\n",
            "9  \t [-0.16127672  1.90421659]\t 3.652051001753224\t 0.5261414437753642\t 2.5437715851473164\t 2.7873600203140914\n",
            "10 \t [ 1.99585136 -1.90684734]\t 7.619489414070295\t 0.5261414437753642\t 2.820406454067069\t 3.370288177714361\n",
            "11 \t [2.58275708 3.12932862]\t 16.463331752603686\t 0.5261414437753642\t 2.5914946093024205\t 3.1331607559819634\n",
            "12 \t [-2.52248473 -2.28288224]\t 11.5744805027601\t 0.5261414437753642\t 3.2737689577581923\t 3.301887784728715\n",
            "13 \t [ 1.29744997 -5.12      ]\t 27.897776421109374\t 0.5261414437753642\t 2.96660947451101\t 3.3823194257962608\n",
            "14 \t [-2.18969748 -5.12      ]\t 31.0091750384087\t 0.5261414437753642\t 2.842222338615185\t 3.1490180692191334\n",
            "15 \t [-2.31927189  5.12      ]\t 31.593422110695933\t 0.5261414437753642\t 3.0018050838070875\t 3.2320301182676134\n",
            "16 \t [5.12      2.4561452]\t 32.2470492259983\t 0.5261414437753642\t 2.6397984746080634\t 2.727452204648008\n",
            "17 \t [-5.12        1.17827754]\t 27.60273795446211\t 0.5261414437753642\t 2.8297279669206308\t 2.8743748085630836\n",
            "18 \t [-1.65301003  3.15188002]\t 12.666789807022308\t 0.5261414437753642\t 3.099932475745852\t 2.8430876170568657\n",
            "19 \t [-0.68010095  0.37079224]\t 0.600024179114385\t 0.5261414437753642\t 2.4760090587793258\t 2.5653376638436907\n",
            "20 \t [ 3.80999491 -1.57626134]\t 17.000661045792725\t 0.5261414437753642\t 2.750019676980748\t 2.577223489734043\n"
          ]
        }
      ],
      "source": [
        "### ESTIMATED STP CBM GRADIENTS\n",
        "\n",
        "np.random.seed(run_num_12)\n",
        "surrogate_approx_12 = dtStudentProcess(cov_func, optimize=opt, nu = df)\n",
        "\n",
        "approx_12 = GPGO_multi(surrogate_approx_12, Acquisition_grad(util), objfunc, param)\n",
        "approx_12.run(init_evals=n_init, max_iter=iters)\n"
      ]
    },
    {
      "cell_type": "code",
      "execution_count": 25,
      "metadata": {
        "colab": {
          "base_uri": "https://localhost:8080/"
        },
        "id": "CphOPndPGClX",
        "outputId": "c1f2f2dc-a455-4dfd-a476-76e3709dfbeb"
      },
      "outputs": [
        {
          "output_type": "stream",
          "name": "stdout",
          "text": [
            "Evaluation \t Proposed point \t  Current eval. \t  Best eval. \t        Exact CBM: StdDev. x \t Approx CBM: StdDev. x \n",
            "init\t [ 2.84367268 -2.68757791]\t 15.30954934064491\t 7.271500601275535\t    \t    \n",
            "init\t [3.32061217 4.76927179]\t 33.772418600555795\t 7.271500601275535\t    \t    \n",
            "init\t [ 4.83943541 -0.47667971]\t 23.647358595121606\t 7.271500601275535\t    \t    \n",
            "init\t [1.11659482 2.82139151]\t 9.20703403927425\t 7.271500601275535\t    \t    \n",
            "init\t [1.45012065 2.27346667]\t 7.271500601275535\t 7.271500601275535\t    \t    \n",
            "1  \t [-5.12       -2.70333791]\t 33.522435875570096\t 7.271500601275535\t 2.8919676010480955\t 3.2492835070214614\n",
            "2  \t [-5.12  5.12]\t 52.4288\t 7.271500601275535\t 2.9959113853700448\t 3.725907294523307\n",
            "3  \t [-1.02676084 -5.12      ]\t 27.268637818202098\t 7.271500601275535\t 2.8356305474529426\t 3.2678896415144725\n",
            "4  \t [-2.71147668  1.07573242]\t 8.5093060218577\t 7.271500601275535\t 2.811684448592596\t 3.0182453671772262\n",
            "5  \t [ 5.12 -5.12]\t 52.4288\t 7.271500601275535\t 3.3762488583569463\t 3.914748547704984\n",
            "6  \t [-1.19735211  5.12      ]\t 27.648052066172596\t 7.271500601275535\t 2.9773355728899045\t 3.448112725246206\n",
            "\u001b[1m\u001b[92m7\u001b[0m\t \u001b[1m\u001b[92m[-0.40776258 -1.28297749]\u001b[0m\t \u001b[1m\u001b[92m1.8123015663264337\u001b[0m\t \u001b[1m\u001b[92m1.8123015663264337\u001b[0m\t \u001b[1m\u001b[92m3.358056628830642\u001b[0m\t \u001b[1m\u001b[92m3.1921456098003858\u001b[0m\n",
            "8  \t [5.12       2.41988771]\t 32.070256504945526\t 1.8123015663264337\t 3.029249015956337\t 3.3035213505757888\n",
            "9  \t [-5.12        1.39707335]\t 28.166213947801143\t 1.8123015663264337\t 2.94056286119121\t 3.120795951860748\n",
            "10 \t [ 1.49656132 -0.13159099]\t 2.2570119821759906\t 1.8123015663264337\t 3.048784449849053\t 2.928578741750041\n",
            "11 \t [-2.2393919  -2.04906184]\t 9.213530506606338\t 1.8123015663264337\t 3.0935887821821293\t 3.0308270326509974\n",
            "12 \t [ 1.84195832 -5.12      ]\t 29.607210468642613\t 1.8123015663264337\t 3.3910834988478036\t 3.2240107628127803\n",
            "13 \t [-3.96928844 -5.12      ]\t 41.9696507078429\t 1.8123015663264337\t 3.5005031681512273\t 3.013625717349455\n",
            "\u001b[1m\u001b[92m14\u001b[0m\t \u001b[1m\u001b[92m[-0.46439703  0.80369136]\u001b[0m\t \u001b[1m\u001b[92m0.8615844025957478\u001b[0m\t \u001b[1m\u001b[92m0.8615844025957478\u001b[0m\t \u001b[1m\u001b[92m2.493419326972042\u001b[0m\t \u001b[1m\u001b[92m1.8997098179705032\u001b[0m\n",
            "15 \t [ 0.38179685 -2.70333749]\t 7.4538024251712365\t 0.8615844025957478\t 2.835068542333658\t 2.821453374974956\n",
            "16 \t [-1.28395443  2.5351526 ]\t 8.075537700023123\t 0.8615844025957478\t 2.3191410017492946\t 2.52019209801019\n",
            "17 \t [2.80700097 0.94089391]\t 8.764535797638473\t 0.8615844025957478\t 3.132127316858769\t 3.1023711061210615\n",
            "18 \t [ 5.12      -2.7185286]\t 33.60479774714103\t 0.8615844025957478\t 2.5600766502100627\t 3.3537780791878924\n",
            "19 \t [-3.16703943  3.26791727]\t 20.709422037583057\t 0.8615844025957478\t 2.6773601855877027\t 2.83797268221178\n",
            "20 \t [1.06126247 5.12      ]\t 27.340678033576673\t 0.8615844025957478\t 3.2939368865768217\t 3.7097388579674653\n"
          ]
        }
      ],
      "source": [
        "### ESTIMATED STP CBM GRADIENTS\n",
        "\n",
        "np.random.seed(run_num_13)\n",
        "surrogate_approx_13 = dtStudentProcess(cov_func, optimize=opt, nu = df)\n",
        "\n",
        "approx_13 = GPGO_multi(surrogate_approx_13, Acquisition_grad(util), objfunc, param)\n",
        "approx_13.run(init_evals=n_init, max_iter=iters)\n"
      ]
    },
    {
      "cell_type": "code",
      "execution_count": 26,
      "metadata": {
        "colab": {
          "base_uri": "https://localhost:8080/"
        },
        "id": "ojHTeARNGCoi",
        "outputId": "eadc19a1-dd21-4770-c38c-448dcd2771b3"
      },
      "outputs": [
        {
          "output_type": "stream",
          "name": "stdout",
          "text": [
            "Evaluation \t Proposed point \t  Current eval. \t  Best eval. \t        Exact CBM: StdDev. x \t Approx CBM: StdDev. x \n",
            "init\t [0.14277984 2.79721013]\t 7.844770612568215\t 3.480496204392171\t    \t    \n",
            "init\t [ 3.7931795  -5.03759925]\t 39.765616906968944\t 3.480496204392171\t    \t    \n",
            "init\t [-1.94830412  4.68586229]\t 25.753194366239512\t 3.480496204392171\t    \t    \n",
            "init\t [ 0.13431513 -1.86076749]\t 3.480496204392171\t 3.480496204392171\t    \t    \n",
            "init\t [ 0.40140736 -2.85434939]\t 8.308438305616814\t 3.480496204392171\t    \t    \n",
            "1  \t [-4.93939572 -4.35728883]\t 43.38359601453965\t 3.480496204392171\t 3.8397395906978184\t 3.965155674358574\n",
            "2  \t [5.10527163 5.12      ]\t 52.27819836893528\t 3.480496204392171\t 3.7061271182438102\t 3.9550733761866317\n",
            "3  \t [ 5.12       -0.07470239]\t 26.219980446684858\t 3.480496204392171\t 2.745661772660252\t 3.7405345930530514\n",
            "4  \t [-5.12        0.80732835]\t 26.8661790649092\t 3.480496204392171\t 2.405256457408855\t 3.351107944243956\n",
            "\u001b[1m\u001b[92m5\u001b[0m\t \u001b[1m\u001b[92m[-1.67696647  0.07140751]\u001b[0m\t \u001b[1m\u001b[92m2.817315576852096\u001b[0m\t \u001b[1m\u001b[92m2.817315576852096\u001b[0m\t \u001b[1m\u001b[92m2.8725943467956747\u001b[0m\t \u001b[1m\u001b[92m2.528616638793108\u001b[0m\n",
            "6  \t [-5.12  5.12]\t 52.4288\t 2.817315576852096\t 2.9713904920293346\t 3.203939212836205\n",
            "7  \t [-1.41099834 -5.12      ]\t 28.205316328920485\t 2.817315576852096\t 2.8327318764786615\t 2.2623355739380306\n",
            "8  \t [1.74415182 0.25302515]\t 3.1060873152305595\t 2.817315576852096\t 3.006997563179831\t 2.7485633954332624\n",
            "9  \t [2.95269996 2.53946083]\t 15.16729833831559\t 2.817315576852096\t 2.7786484236699343\t 3.106882770174193\n",
            "10 \t [-2.81816515 -1.89786098]\t 11.543931104620297\t 2.817315576852096\t 2.933361885642735\t 2.6907574605501265\n",
            "11 \t [1.47122171 5.12      ]\t 28.378893316059553\t 2.817315576852096\t 3.082335867733245\t 3.164379055238315\n",
            "12 \t [ 2.84990202 -1.98374066]\t 12.057168543335793\t 2.817315576852096\t 2.7330738309260645\t 2.860584434871397\n",
            "13 \t [-2.48504688  1.94863409]\t 9.972632824528361\t 2.817315576852096\t 2.925265688083546\t 3.0731139234632048\n",
            "14 \t [ 5.12       -2.72379992]\t 33.63348598925051\t 2.817315576852096\t 2.635071041295271\t 3.0079050151221263\n",
            "\u001b[1m\u001b[92m15\u001b[0m\t \u001b[1m\u001b[92m[0.00815142 0.37630091]\u001b[0m\t \u001b[1m\u001b[92m0.1416688172571769\u001b[0m\t \u001b[1m\u001b[92m0.1416688172571769\u001b[0m\t \u001b[1m\u001b[92m2.8719474908680622\u001b[0m\t \u001b[1m\u001b[92m2.9500561163105212\u001b[0m\n",
            "16 \t [ 1.14512673 -5.12      ]\t 27.525715236706446\t 0.1416688172571769\t 3.146988126687748\t 3.240897953531399\n",
            "17 \t [-5.12       -1.65941635]\t 28.968062612662543\t 0.1416688172571769\t 2.808380934836314\t 3.06698897453974\n",
            "18 \t [-4.41559672  2.94703324]\t 28.182499252468922\t 0.1416688172571769\t 2.6964021802366362\t 2.84016912666788\n",
            "19 \t [5.12       2.45669107]\t 32.24973101038611\t 0.1416688172571769\t 2.925482447858946\t 3.0029875211256436\n",
            "20 \t [-2.95141651 -3.83590835]\t 23.42505233440015\t 0.1416688172571769\t 2.7687965455919126\t 3.24537075446859\n"
          ]
        }
      ],
      "source": [
        "### ESTIMATED STP CBM GRADIENTS\n",
        "\n",
        "np.random.seed(run_num_14)\n",
        "surrogate_approx_14 = dtStudentProcess(cov_func, optimize=opt, nu = df)\n",
        "\n",
        "approx_14 = GPGO_multi(surrogate_approx_14, Acquisition_grad(util), objfunc, param)\n",
        "approx_14.run(init_evals=n_init, max_iter=iters)\n"
      ]
    },
    {
      "cell_type": "code",
      "execution_count": 27,
      "metadata": {
        "colab": {
          "base_uri": "https://localhost:8080/"
        },
        "id": "vCJzn4vWGCs3",
        "outputId": "99b947d4-f976-4637-b2aa-a28f6c6443c2"
      },
      "outputs": [
        {
          "output_type": "stream",
          "name": "stdout",
          "text": [
            "Evaluation \t Proposed point \t  Current eval. \t  Best eval. \t        Exact CBM: StdDev. x \t Approx CBM: StdDev. x \n",
            "init\t [ 3.57189322 -3.28810573]\t 23.57006045912445\t 5.383887924980681\t    \t    \n",
            "init\t [-4.56332069 -1.41784631]\t 22.834183843344235\t 5.383887924980681\t    \t    \n",
            "init\t [-2.29989449  0.3072023 ]\t 5.383887924980681\t 5.383887924980681\t    \t    \n",
            "init\t [-1.9873903  -2.00218256]\t 7.958455228543059\t 5.383887924980681\t    \t    \n",
            "init\t [-3.97576933 -2.5610341 ]\t 22.365637431409507\t 5.383887924980681\t    \t    \n",
            "1  \t [0.87422212 5.12      ]\t 26.978664321545374\t 5.383887924980681\t 3.701239027543425\t 3.78243096118275\n",
            "2  \t [-5.12  5.12]\t 52.4288\t 5.383887924980681\t 2.873244380487688\t 4.060610057452776\n",
            "3  \t [5.12       1.88236948]\t 29.757714868138756\t 5.383887924980681\t 3.591462035591427\t 3.8135772070110625\n",
            "4  \t [-0.11896861 -5.12      ]\t 26.228553529322806\t 5.383887924980681\t 3.1012864795689463\t 3.0952945787634056\n",
            "\u001b[1m\u001b[92m5\u001b[0m\t \u001b[1m\u001b[92m[1.3144116 0.3939349]\u001b[0m\t \u001b[1m\u001b[92m1.88286256981141\u001b[0m\t \u001b[1m\u001b[92m1.88286256981141\u001b[0m\t \u001b[1m\u001b[92m3.6396189506084426\u001b[0m\t \u001b[1m\u001b[92m3.2956881647282628\u001b[0m\n",
            "6  \t [5.12 5.12]\t 52.4288\t 1.88286256981141\t 3.6225387650460847\t 3.6359340810515244\n",
            "7  \t [-1.97055477  3.1635352 ]\t 13.891041041612393\t 1.88286256981141\t 3.190278528169709\t 3.4377419093012267\n",
            "8  \t [-5.12        1.65650567]\t 28.95841104376165\t 1.88286256981141\t 3.356530920962274\t 3.746047386985572\n",
            "9  \t [ 0.7313166  -1.83617713]\t 3.9063704159719252\t 1.88286256981141\t 2.587680178536384\t 2.7907947158863995\n",
            "10 \t [-5.12 -5.12]\t 52.4288\t 1.88286256981141\t 3.1623748552316453\t 3.6807660331323553\n",
            "11 \t [2.01901454 2.38478125]\t 9.763601340213366\t 1.88286256981141\t 2.275306074954368\t 2.807472803704748\n",
            "12 \t [ 5.12       -1.02554351]\t 27.266139486138858\t 1.88286256981141\t 2.937213237645068\t 2.847166538863332\n",
            "13 \t [ 5.12 -5.12]\t 52.4288\t 1.88286256981141\t 2.8927500077635493\t 3.1738650454950617\n",
            "\u001b[1m\u001b[92m14\u001b[0m\t \u001b[1m\u001b[92m[-0.34869546  1.17751011]\u001b[0m\t \u001b[1m\u001b[92m1.5081185794776981\u001b[0m\t \u001b[1m\u001b[92m1.5081185794776981\u001b[0m\t \u001b[1m\u001b[92m2.935521124391905\u001b[0m\t \u001b[1m\u001b[92m2.9341724717025035\u001b[0m\n",
            "15 \t [ 2.56040489 -0.68426365]\t 7.023889927085064\t 1.5081185794776981\t 2.4776153459549612\t 2.634946009999685\n",
            "16 \t [-2.01550893  5.12      ]\t 30.276676251691832\t 1.5081185794776981\t 2.7487017695829876\t 2.7646960060207584\n",
            "17 \t [-2.44714656 -5.12      ]\t 32.20292628524793\t 1.5081185794776981\t 2.503933865407139\t 2.695861303577741\n",
            "18 \t [ 2.21212312 -5.12      ]\t 31.10788870698074\t 1.5081185794776981\t 2.6197761176872354\t 2.7849946855027095\n",
            "19 \t [3.19291644 1.59889018]\t 12.75116518404906\t 1.5081185794776981\t 3.0810292724164867\t 3.071680508788631\n",
            "\u001b[1m\u001b[92m20\u001b[0m\t \u001b[1m\u001b[92m[-0.44001667 -0.51438372]\u001b[0m\t \u001b[1m\u001b[92m0.45820528089377577\u001b[0m\t \u001b[1m\u001b[92m0.45820528089377577\u001b[0m\t \u001b[1m\u001b[92m2.652988035581247\u001b[0m\t \u001b[1m\u001b[92m2.4625106922550075\u001b[0m\n"
          ]
        }
      ],
      "source": [
        "### ESTIMATED STP CBM GRADIENTS\n",
        "\n",
        "np.random.seed(run_num_15)\n",
        "surrogate_approx_15 = dtStudentProcess(cov_func, optimize=opt, nu = df)\n",
        "\n",
        "approx_15 = GPGO_multi(surrogate_approx_15, Acquisition_grad(util), objfunc, param)\n",
        "approx_15.run(init_evals=n_init, max_iter=iters)\n"
      ]
    },
    {
      "cell_type": "code",
      "execution_count": 28,
      "metadata": {
        "colab": {
          "base_uri": "https://localhost:8080/"
        },
        "id": "bGGkhp-kGCw6",
        "outputId": "c69f3f0f-d28e-4f59-baea-b8864033f127"
      },
      "outputs": [
        {
          "output_type": "stream",
          "name": "stdout",
          "text": [
            "Evaluation \t Proposed point \t  Current eval. \t  Best eval. \t        Exact CBM: StdDev. x \t Approx CBM: StdDev. x \n",
            "init\t [-2.83349935  0.23719262]\t 8.084978900492077\t 8.084978900492077\t    \t    \n",
            "init\t [ 0.51918292 -4.65303603]\t 21.92029520206884\t 8.084978900492077\t    \t    \n",
            "init\t [-1.42613673 -2.83565116]\t 10.074783446012654\t 8.084978900492077\t    \t    \n",
            "init\t [ 1.9325559  -3.44339021]\t 15.591708419712269\t 8.084978900492077\t    \t    \n",
            "init\t [-4.39987336  4.51595121]\t 39.75270093978162\t 8.084978900492077\t    \t    \n",
            "1  \t [2.51663699 5.11678023]\t 32.51490165773275\t 8.084978900492077\t 3.770373239712781\t 3.9857950364425045\n",
            "2  \t [5.12       0.52126608]\t 26.486118327489955\t 8.084978900492077\t 3.3132198313289587\t 3.6195078875416162\n",
            "3  \t [-5.12 -5.12]\t 52.4288\t 8.084978900492077\t 3.53996940772478\t 3.703191643191298\n",
            "\u001b[1m\u001b[92m4\u001b[0m\t \u001b[1m\u001b[92m[0.93580491 1.02365807]\u001b[0m\t \u001b[1m\u001b[92m1.923606682753868\u001b[0m\t \u001b[1m\u001b[92m1.923606682753868\u001b[0m\t \u001b[1m\u001b[92m2.977582550483358\u001b[0m\t \u001b[1m\u001b[92m3.0931825221892635\u001b[0m\n",
            "5  \t [ 5.12 -5.12]\t 52.4288\t 1.923606682753868\t 2.9525890961410735\t 3.3564588479215436\n",
            "6  \t [-0.82431207  3.40078356]\t 12.244819236194017\t 1.923606682753868\t 3.723985789526218\t 3.5275638828708926\n",
            "7  \t [-5.12       -1.46472171]\t 28.359809679623453\t 1.923606682753868\t 3.007023411333957\t 3.1903879848318293\n",
            "8  \t [5.12       3.68353033]\t 39.7827956747821\t 1.923606682753868\t 2.5497318823156823\t 2.878000879495676\n",
            "9  \t [ 2.24978109 -0.70354681]\t 5.55649307300671\t 1.923606682753868\t 2.856433527152648\t 2.6314851592585935\n",
            "10 \t [-5.12        1.57300731]\t 28.688751985896012\t 1.923606682753868\t 2.9790631342557554\t 3.6063630129084916\n",
            "\u001b[1m\u001b[92m11\u001b[0m\t \u001b[1m\u001b[92m[-0.38268633 -0.52377348]\u001b[0m\t \u001b[1m\u001b[92m0.4207874858834537\u001b[0m\t \u001b[1m\u001b[92m0.4207874858834537\u001b[0m\t \u001b[1m\u001b[92m3.10372051672721\u001b[0m\t \u001b[1m\u001b[92m3.472811187857339\u001b[0m\n",
            "12 \t [ 5.12       -2.16242456]\t 30.890479991864076\t 0.4207874858834537\t 2.9571448007865095\t 3.6837065750209614\n",
            "13 \t [2.4541245 2.1041357]\t 10.450114111327679\t 0.4207874858834537\t 2.4886280071049796\t 2.693881378716966\n",
            "14 \t [-2.14698055 -5.12      ]\t 30.823925461762204\t 0.4207874858834537\t 2.5909608302671043\t 2.781586254557942\n",
            "15 \t [-0.92333649  1.14351082]\t 2.1601672719190237\t 0.4207874858834537\t 2.6114284136781802\t 2.6549764507356013\n",
            "16 \t [-1.64427271  5.12      ]\t 28.918032731076103\t 0.4207874858834537\t 2.0530666752964457\t 2.6019477350808162\n",
            "17 \t [ 0.52723443 -1.66685817]\t 3.0563922833070407\t 0.4207874858834537\t 3.0469180601359693\t 2.8980711579903584\n",
            "18 \t [-2.55387694  2.24329501]\t 11.55465992182959\t 0.4207874858834537\t 2.8135931867920587\t 2.485124050479926\n",
            "19 \t [-2.55870475 -1.52319127]\t 8.867081625043266\t 0.4207874858834537\t 2.677630499479602\t 2.486256720152077\n",
            "20 \t [0.83886479 2.91735053]\t 9.214628224269926\t 0.4207874858834537\t 3.1795724958155063\t 2.879968463432854\n"
          ]
        }
      ],
      "source": [
        "### ESTIMATED STP CBM GRADIENTS\n",
        "\n",
        "np.random.seed(run_num_16)\n",
        "surrogate_approx_16 = dtStudentProcess(cov_func, optimize=opt, nu = df)\n",
        "\n",
        "approx_16 = GPGO_multi(surrogate_approx_16, Acquisition_grad(util), objfunc, param)\n",
        "approx_16.run(init_evals=n_init, max_iter=iters)\n"
      ]
    },
    {
      "cell_type": "code",
      "execution_count": 29,
      "metadata": {
        "colab": {
          "base_uri": "https://localhost:8080/"
        },
        "id": "Yrs2mp7hGC1Z",
        "outputId": "11649001-67d8-477b-99ce-75fd8eb86f06"
      },
      "outputs": [
        {
          "output_type": "stream",
          "name": "stdout",
          "text": [
            "Evaluation \t Proposed point \t  Current eval. \t  Best eval. \t        Exact CBM: StdDev. x \t Approx CBM: StdDev. x \n",
            "init\t [-2.10263037  0.31320838]\t 4.519153970964611\t 2.5824114132885994\t    \t    \n",
            "init\t [-3.15882714 -4.42470033]\t 29.556161939946307\t 2.5824114132885994\t    \t    \n",
            "init\t [2.93873111 1.60085526]\t 11.198878112253603\t 2.5824114132885994\t    \t    \n",
            "init\t [1.40821398 0.77417363]\t 2.5824114132885994\t 2.5824114132885994\t    \t    \n",
            "init\t [-4.71999574 -1.45598869]\t 24.39826283453718\t 2.5824114132885994\t    \t    \n",
            "1  \t [ 4.96008736 -4.44720822]\t 44.38012757656366\t 2.5824114132885994\t 3.2858857484366686\t 4.43427370770674\n",
            "2  \t [-4.00314986  5.12      ]\t 42.23960882571232\t 2.5824114132885994\t 3.1675385092402255\t 3.4649990152802888\n",
            "3  \t [5.12 5.12]\t 52.4288\t 2.5824114132885994\t 3.1554039520503268\t 3.419655210762509\n",
            "4  \t [0.48440888 5.12      ]\t 26.449051967119154\t 2.5824114132885994\t 3.194101609504466\t 3.6739479272495843\n",
            "5  \t [ 0.85257645 -2.81911462]\t 8.674293858281382\t 2.5824114132885994\t 2.794011052055628\t 2.836673000610145\n",
            "6  \t [ 5.12      -0.7266585]\t 26.74243257918114\t 2.5824114132885994\t 2.7024033144289783\t 3.020335825398839\n",
            "7  \t [-5.12        1.84233599]\t 29.608601893946442\t 2.5824114132885994\t 2.6369964453098995\t 3.0086029533694516\n",
            "8  \t [-1.33239962  2.61453214]\t 8.611067034293484\t 2.5824114132885994\t 3.066979286503517\t 3.0059218058007264\n",
            "9  \t [ 0.08212782 -5.12      ]\t 26.221144979057808\t 2.5824114132885994\t 3.218284683049312\t 3.5234976763736627\n",
            "10 \t [-1.39706312 -1.79656679]\t 5.17943757096824\t 2.5824114132885994\t 2.3973697320926934\t 2.6599664519689306\n",
            "11 \t [ 2.32579997 -1.16901788]\t 6.775948315363868\t 2.5824114132885994\t 3.3534570194677293\t 3.020897158227206\n",
            "12 \t [5.12       2.13415192]\t 30.769004414433468\t 2.5824114132885994\t 3.3345201913531963\t 3.4111524547472256\n",
            "\u001b[1m\u001b[92m13\u001b[0m\t \u001b[1m\u001b[92m[-0.08450163 -0.10261488]\u001b[0m\t \u001b[1m\u001b[92m0.017670339564286694\u001b[0m\t \u001b[1m\u001b[92m0.017670339564286694\u001b[0m\t \u001b[1m\u001b[92m2.199902154093564\u001b[0m\t \u001b[1m\u001b[92m3.065454763362525\u001b[0m\n",
            "14 \t [0.87574896 2.5145281 ]\t 7.08978781537594\t 0.017670339564286694\t 2.7014531058870213\t 3.4385157866847385\n",
            "15 \t [ 2.46647727 -5.12      ]\t 32.29791012535826\t 0.017670339564286694\t 2.5951519314984437\t 3.3310569152180385\n",
            "16 \t [-5.12 -5.12]\t 52.4288\t 0.017670339564286694\t 2.588660045742987\t 2.7343765372952737\n",
            "17 \t [2.76631435 4.04467236]\t 24.011869590680803\t 0.017670339564286694\t 2.7245040275414305\t 3.1315439381355183\n",
            "18 \t [-1.6998164  5.12     ]\t 29.103775797550327\t 0.017670339564286694\t 2.9054417556067627\t 3.3381942546792644\n",
            "19 \t [ 3.2090487  -2.55424061]\t 16.822138666334013\t 0.017670339564286694\t 2.1832239256314683\t 2.0431439987905398\n",
            "20 \t [-3.22598839  2.93089099]\t 18.997123083549525\t 0.017670339564286694\t 2.7390094274057444\t 3.157307699217629\n"
          ]
        }
      ],
      "source": [
        "### ESTIMATED STP CBM GRADIENTS\n",
        "\n",
        "np.random.seed(run_num_17)\n",
        "surrogate_approx_17 = dtStudentProcess(cov_func, optimize=opt, nu = df)\n",
        "\n",
        "approx_17 = GPGO_multi(surrogate_approx_17, Acquisition_grad(util), objfunc, param)\n",
        "approx_17.run(init_evals=n_init, max_iter=iters)\n"
      ]
    },
    {
      "cell_type": "code",
      "execution_count": 30,
      "metadata": {
        "colab": {
          "base_uri": "https://localhost:8080/"
        },
        "id": "f0HIEP3PIUEa",
        "outputId": "c8ca08eb-1667-4a6a-f367-9f989973e800"
      },
      "outputs": [
        {
          "output_type": "stream",
          "name": "stdout",
          "text": [
            "Evaluation \t Proposed point \t  Current eval. \t  Best eval. \t        Exact CBM: StdDev. x \t Approx CBM: StdDev. x \n",
            "init\t [1.53983224 0.05584255]\t 2.3742017032787373\t 2.3742017032787373\t    \t    \n",
            "init\t [ 3.87687906 -3.25795609]\t 25.644469161882945\t 2.3742017032787373\t    \t    \n",
            "init\t [3.60686662 2.56139557]\t 19.570234102364928\t 2.3742017032787373\t    \t    \n",
            "init\t [1.70088108 4.99604939]\t 27.853505942237412\t 2.3742017032787373\t    \t    \n",
            "init\t [-2.48864335 -4.83014733]\t 29.523668919355142\t 2.3742017032787373\t    \t    \n",
            "1  \t [-5.12        1.97667338]\t 30.121637658422998\t 2.3742017032787373\t 3.108342517041192\t 3.8413105792923323\n",
            "2  \t [-2.48901542  5.12      ]\t 32.40959776058765\t 2.3742017032787373\t 3.0145278022954654\t 2.8436733906811384\n",
            "3  \t [-1.87571918 -0.65443039]\t 3.94660158385822\t 2.3742017032787373\t 3.324286769225937\t 3.2921621590631998\n",
            "4  \t [-5.12       -2.02632908]\t 30.32040953040795\t 2.3742017032787373\t 3.270224720164107\t 3.3696239733113855\n",
            "5  \t [ 1.01346108 -5.12      ]\t 27.241503363079705\t 2.3742017032787373\t 2.9203002785734657\t 3.070427360717828\n",
            "6  \t [-0.5795915   2.02304653]\t 4.428643575248881\t 2.3742017032787373\t 2.8050036027224925\t 2.735170755092026\n",
            "7  \t [ 5.12       -0.22322119]\t 26.264227698840887\t 2.3742017032787373\t 2.9881922586627363\t 3.383657357945785\n",
            "8  \t [5.12 5.12]\t 52.4288\t 2.3742017032787373\t 2.596953106475768\t 3.20058225210744\n",
            "9  \t [ 0.28855065 -2.02325951]\t 4.176840522228293\t 2.3742017032787373\t 2.7361708429034373\t 2.9478148783089098\n",
            "10 \t [-5.12  5.12]\t 52.4288\t 2.3742017032787373\t 3.0207584451396694\t 3.5571378074369746\n",
            "11 \t [-5.12 -5.12]\t 52.4288\t 2.3742017032787373\t 2.8965227673055742\t 2.8796508237171596\n",
            "12 \t [-2.49218562  1.4208728 ]\t 8.229868664639191\t 2.3742017032787373\t 2.347663474237231\t 2.417967700664248\n",
            "13 \t [ 5.12 -5.12]\t 52.4288\t 2.3742017032787373\t 2.695652252938132\t 2.871935761982214\n",
            "14 \t [-1.77143629 -2.43671504]\t 9.075566691936027\t 2.3742017032787373\t 2.291530513153507\t 2.0453353708774236\n",
            "15 \t [1.3600533  2.57852847]\t 8.498554011337614\t 2.3742017032787373\t 2.6959393561602805\t 2.6589051777272212\n",
            "16 \t [ 2.24724971 -1.47408841]\t 7.223067906497859\t 2.3742017032787373\t 1.811575435618327\t 2.050015877370826\n",
            "\u001b[1m\u001b[92m17\u001b[0m\t \u001b[1m\u001b[92m[-0.17884461  0.09218772]\u001b[0m\t \u001b[1m\u001b[92m0.04048396855296069\u001b[0m\t \u001b[1m\u001b[92m0.04048396855296069\u001b[0m\t \u001b[1m\u001b[92m2.582311034962493\u001b[0m\t \u001b[1m\u001b[92m2.408777681334993\u001b[0m\n",
            "18 \t [-0.41452071  4.16236362]\t 17.497098325557143\t 0.04048396855296069\t 3.0718608225953004\t 3.103777992571358\n",
            "19 \t [-3.59970116 -0.20619565]\t 13.000365064530499\t 0.04048396855296069\t 2.734547176605093\t 2.65162951836498\n",
            "20 \t [-0.49704439 -4.76661766]\t 22.967697065071814\t 0.04048396855296069\t 2.8653043964268807\t 2.9131292400887503\n"
          ]
        }
      ],
      "source": [
        "### ESTIMATED STP CBM GRADIENTS\n",
        "\n",
        "np.random.seed(run_num_18)\n",
        "surrogate_approx_18 = dtStudentProcess(cov_func, optimize=opt, nu = df)\n",
        "\n",
        "approx_18 = GPGO_multi(surrogate_approx_18, Acquisition_grad(util), objfunc, param)\n",
        "approx_18.run(init_evals=n_init, max_iter=iters)\n"
      ]
    },
    {
      "cell_type": "code",
      "execution_count": 31,
      "metadata": {
        "colab": {
          "base_uri": "https://localhost:8080/"
        },
        "id": "S3mxRQDLIUPC",
        "outputId": "cfda3765-953c-445d-83fe-c1ee8a25b7ef"
      },
      "outputs": [
        {
          "output_type": "stream",
          "name": "stdout",
          "text": [
            "Evaluation \t Proposed point \t  Current eval. \t  Best eval. \t        Exact CBM: StdDev. x \t Approx CBM: StdDev. x \n",
            "init\t [-4.12125592  2.6751971 ]\t 24.141429859518958\t 12.957869519084127\t    \t    \n",
            "init\t [-2.59135515 -3.70553152]\t 20.446085385698954\t 12.957869519084127\t    \t    \n",
            "init\t [-1.72598719 -4.27008445]\t 21.212653034418548\t 12.957869519084127\t    \t    \n",
            "init\t [1.76104531 3.13952049]\t 12.957869519084127\t 12.957869519084127\t    \t    \n",
            "init\t [4.9432772  1.38916592]\t 26.36577149009895\t 12.957869519084127\t    \t    \n",
            "1  \t [ 5.12 -5.12]\t 52.4288\t 12.957869519084127\t 3.3817040632905235\t 4.581472599601317\n",
            "\u001b[1m\u001b[92m2\u001b[0m\t \u001b[1m\u001b[92m[ 1.66602791 -1.58725751]\u001b[0m\t \u001b[1m\u001b[92m5.295035396055349\u001b[0m\t \u001b[1m\u001b[92m5.295035396055349\u001b[0m\t \u001b[1m\u001b[92m3.4444685837334568\u001b[0m\t \u001b[1m\u001b[92m3.4936732968109023\u001b[0m\n",
            "3  \t [5.12 5.12]\t 52.4288\t 5.295035396055349\t 3.945311980333236\t 4.085277654893394\n",
            "4  \t [-5.12       -1.05747621]\t 27.332655931687725\t 5.295035396055349\t 2.968421927445879\t 3.194806662936782\n",
            "5  \t [-1.25790348  5.12      ]\t 27.796721176217705\t 5.295035396055349\t 2.865316144890174\t 3.1652818628233854\n",
            "\u001b[1m\u001b[92m6\u001b[0m\t \u001b[1m\u001b[92m[-1.10823269  0.30768341]\u001b[0m\t \u001b[1m\u001b[92m1.322848783099555\u001b[0m\t \u001b[1m\u001b[92m1.322848783099555\u001b[0m\t \u001b[1m\u001b[92m3.316171730562688\u001b[0m\t \u001b[1m\u001b[92m2.8255242905276914\u001b[0m\n",
            "7  \t [ 1.45982709 -5.12      ]\t 28.345495124748357\t 1.322848783099555\t 3.2927534122916375\t 3.523026389182124\n",
            "8  \t [-5.12 -5.12]\t 52.4288\t 1.322848783099555\t 2.827424909360564\t 2.8595000618166777\n",
            "9  \t [ 5.12       -1.74724091]\t 29.267250802790834\t 1.322848783099555\t 2.3898062203445964\t 3.115059842253558\n",
            "10 \t [-5.12  5.12]\t 52.4288\t 1.322848783099555\t 3.2595396073163445\t 3.070970796700013\n",
            "11 \t [1.05708424 0.63421138]\t 1.519651157982166\t 1.322848783099555\t 2.4244416703736937\t 2.5665766591659818\n",
            "12 \t [-0.97461523  2.23553219]\t 5.947479031252571\t 1.322848783099555\t 2.8123377722576146\t 2.649275564423787\n",
            "13 \t [-0.67460997 -1.57720612]\t 2.942677753705672\t 1.322848783099555\t 2.9701530758362016\t 2.6436583741056277\n",
            "14 \t [-2.59658819 -0.53521886]\t 7.02872944912586\t 1.322848783099555\t 2.856883153687998\t 2.3097835402063325\n",
            "15 \t [2.73291271 0.1436095 ]\t 7.489435553818299\t 1.322848783099555\t 2.836427472829895\t 2.6883815458358185\n",
            "16 \t [1.88212974 5.12      ]\t 29.756812346933508\t 1.322848783099555\t 2.7479324689423157\t 2.751063989261034\n",
            "17 \t [ 2.86959248 -3.02575211]\t 17.389736808776348\t 1.322848783099555\t 2.416560157847465\t 2.2907148054258895\n",
            "18 \t [-2.49505181  1.20783068]\t 7.684138487590517\t 1.322848783099555\t 3.048409055881824\t 3.119517603416758\n",
            "19 \t [ 0.31655777 -3.25381116]\t 10.687495886935492\t 1.322848783099555\t 2.476799976108684\t 2.830904231283762\n",
            "\u001b[1m\u001b[92m20\u001b[0m\t \u001b[1m\u001b[92m[ 0.23090756 -0.43003573]\u001b[0m\t \u001b[1m\u001b[92m0.23824903345062923\u001b[0m\t \u001b[1m\u001b[92m0.23824903345062923\u001b[0m\t \u001b[1m\u001b[92m2.8878261607163034\u001b[0m\t \u001b[1m\u001b[92m2.801275257492603\u001b[0m\n"
          ]
        }
      ],
      "source": [
        "### ESTIMATED STP CBM GRADIENTS\n",
        "\n",
        "np.random.seed(run_num_19)\n",
        "surrogate_approx_19 = dtStudentProcess(cov_func, optimize=opt, nu = df)\n",
        "\n",
        "approx_19 = GPGO_multi(surrogate_approx_19, Acquisition_grad(util), objfunc, param)\n",
        "approx_19.run(init_evals=n_init, max_iter=iters)\n"
      ]
    },
    {
      "cell_type": "code",
      "execution_count": 32,
      "metadata": {
        "colab": {
          "base_uri": "https://localhost:8080/"
        },
        "id": "Aawd59dRIUYn",
        "outputId": "987724a8-7b7d-43e2-ee71-ea352f20a9f0"
      },
      "outputs": [
        {
          "output_type": "stream",
          "name": "stdout",
          "text": [
            "Evaluation \t Proposed point \t  Current eval. \t  Best eval. \t        Exact CBM: StdDev. x \t Approx CBM: StdDev. x \n",
            "init\t [0.9024594  4.07258857]\t 17.400410665504328\t 1.579257056101869\t    \t    \n",
            "init\t [4.00927467 3.23417577]\t 26.53417627399789\t 1.579257056101869\t    \t    \n",
            "init\t [-4.75249064  1.96359764]\t 26.44188299535699\t 1.579257056101869\t    \t    \n",
            "init\t [-1.24230715  0.18955208]\t 1.579257056101869\t 1.579257056101869\t    \t    \n",
            "init\t [ 1.61742301 -3.13497377]\t 12.44411771617229\t 1.579257056101869\t    \t    \n",
            "1  \t [-5.07701718 -5.12      ]\t 51.99050345076948\t 1.579257056101869\t 3.3423617312460365\t 3.6704771584631093\n",
            "2  \t [ 5.12 -5.12]\t 52.4288\t 1.579257056101869\t 3.0129579630868806\t 3.8077954763653548\n",
            "3  \t [ 5.12       -0.75179325]\t 26.77959308841513\t 1.579257056101869\t 2.978856452022728\t 3.0006605345104305\n",
            "4  \t [-2.73898354  5.12      ]\t 33.716430818007346\t 1.579257056101869\t 3.026001563052618\t 3.7904091023489213\n",
            "5  \t [-2.01578955 -2.66980837]\t 11.191284212469242\t 1.579257056101869\t 2.7407617818327576\t 2.8904967584576498\n",
            "6  \t [1.51284971 0.39331114]\t 2.443407889892473\t 1.579257056101869\t 3.2181726516383504\t 3.6675244571170422\n",
            "7  \t [-5.12       -1.43094566]\t 28.26200547126761\t 1.579257056101869\t 3.794330924965707\t 3.599472282742504\n",
            "8  \t [-0.63301671 -5.12      ]\t 26.61511014957212\t 1.579257056101869\t 3.26860649139217\t 3.1493155716267514\n",
            "9  \t [-1.41366474  2.22686038]\t 6.9573551383392305\t 1.579257056101869\t 2.954733894681991\t 3.4614080000892335\n",
            "\u001b[1m\u001b[92m10\u001b[0m\t \u001b[1m\u001b[92m[ 0.14132159 -1.13592603]\u001b[0m\t \u001b[1m\u001b[92m1.3102997389000228\u001b[0m\t \u001b[1m\u001b[92m1.3102997389000228\u001b[0m\t \u001b[1m\u001b[92m3.1561651866095937\u001b[0m\t \u001b[1m\u001b[92m3.177505674774851\u001b[0m\n",
            "11 \t [-5.12  5.12]\t 52.4288\t 1.3102997389000228\t 3.2115078418133804\t 3.2360027157636044\n",
            "12 \t [5.12 5.12]\t 52.4288\t 1.3102997389000228\t 3.3566515786056894\t 2.880790685223137\n",
            "13 \t [ 2.2267482 -5.12     ]\t 31.172807566191484\t 1.3102997389000228\t 3.063675281915993\t 3.4547464339011165\n",
            "14 \t [ 2.5442233  -1.11249683]\t 7.710721431007045\t 1.3102997389000228\t 2.7438154457418746\t 2.8144652275482915\n",
            "15 \t [-2.87065796 -0.08239669]\t 8.24746632051303\t 1.3102997389000228\t 2.2853716994656113\t 2.6938803551214443\n",
            "16 \t [0.51684928 1.63841465]\t 2.9515357380841225\t 1.3102997389000228\t 2.7890027995172986\t 2.700136060821289\n",
            "17 \t [ 3.8665349  -2.75834855]\t 22.558578861072\t 1.3102997389000228\t 2.6296991652782\t 2.7818817055257963\n",
            "18 \t [3.24289084 1.04084463]\t 11.599698539134595\t 1.3102997389000228\t 3.1599291149029045\t 2.9541943080051913\n",
            "19 \t [-2.76318303 -5.12      ]\t 33.84958045235164\t 1.3102997389000228\t 2.856287350747178\t 2.987698118001724\n",
            "20 \t [-3.41038666  1.79200416]\t 14.84201606480225\t 1.3102997389000228\t 2.518712393675255\t 2.5236634745927793\n"
          ]
        }
      ],
      "source": [
        "### ESTIMATED STP CBM GRADIENTS\n",
        "\n",
        "np.random.seed(run_num_20)\n",
        "surrogate_approx_20 = dtStudentProcess(cov_func, optimize=opt, nu = df)\n",
        "\n",
        "approx_20 = GPGO_multi(surrogate_approx_20, Acquisition_grad(util), objfunc, param)\n",
        "approx_20.run(init_evals=n_init, max_iter=iters)\n"
      ]
    },
    {
      "cell_type": "code",
      "execution_count": 33,
      "metadata": {
        "colab": {
          "base_uri": "https://localhost:8080/"
        },
        "id": "xkgzPRbBTHaq",
        "outputId": "74fb8021-0d5e-4846-a41b-3981e697a6cd"
      },
      "outputs": [
        {
          "output_type": "execute_result",
          "data": {
            "text/plain": [
              "1662472682.3357239"
            ]
          },
          "metadata": {},
          "execution_count": 33
        }
      ],
      "source": [
        "end_approx = time.time()\n",
        "end_approx\n",
        "\n",
        "time_approx = end_approx - start_approx\n",
        "time_approx\n",
        "\n",
        "start_exact = time.time()\n",
        "start_exact"
      ]
    },
    {
      "cell_type": "code",
      "execution_count": 34,
      "metadata": {
        "colab": {
          "base_uri": "https://localhost:8080/"
        },
        "id": "7CG3Ndvb16Rb",
        "outputId": "22ce7d86-23f5-4808-cac5-abdd6dcac3c6"
      },
      "outputs": [
        {
          "output_type": "stream",
          "name": "stdout",
          "text": [
            "Evaluation \t Proposed point \t  Current eval. \t  Best eval. \t        Exact CBM: StdDev. x \t Approx CBM: StdDev. x \n",
            "init\t [-0.84969467  2.25612281]\t 5.812071182014687\t 1.275455677703416\t    \t    \n",
            "init\t [-5.1188288  -2.02411446]\t 30.299447634857913\t 1.275455677703416\t    \t    \n",
            "init\t [-3.61721968 -4.17445279]\t 30.510334291475417\t 1.275455677703416\t    \t    \n",
            "init\t [-3.21269544 -1.58145816]\t 12.822421857501787\t 1.275455677703416\t    \t    \n",
            "init\t [-1.05710106  0.39748336]\t 1.275455677703416\t 1.275455677703416\t    \t    \n",
            "1  \t [ 4.04077223 -4.24914728]\t 34.383092818836786\t 1.275455677703416\t 3.680277348206818\t 4.209653654736213\n",
            "2  \t [4.82135353 3.06918895]\t 32.66537065419518\t 1.275455677703416\t 3.176015201496049\t 3.5442839208022736\n",
            "3  \t [ 2.18072217 -0.39452547]\t 4.911199547514638\t 1.275455677703416\t 3.3140115491715116\t 3.901633951191245\n",
            "4  \t [-4.89963092  4.58717004]\t 45.048512099710436\t 1.275455677703416\t 3.4081269270556778\t 4.316532081339955\n",
            "5  \t [1.44663477 5.12      ]\t 28.30715215635998\t 1.275455677703416\t 2.538867065982732\t 3.4274638433203783\n",
            "6  \t [ 0.16849262 -5.12      ]\t 26.242789764480566\t 1.275455677703416\t 2.9459802355858358\t 3.342345988875045\n",
            "7  \t [ 5.12       -0.50480343]\t 26.469226500785048\t 1.275455677703416\t 3.196435389852636\t 3.312223411397366\n",
            "8  \t [-4.03134472  1.34227956]\t 18.05345470194562\t 1.275455677703416\t 3.436681336566275\t 3.527329815277562\n",
            "9  \t [ 0.05899504 -1.94867406]\t 3.8008110224297083\t 1.275455677703416\t 3.2946365303772014\t 3.5122185556155685\n",
            "10 \t [1.93614696 1.82121907]\t 7.065503942543602\t 1.275455677703416\t 3.038314799537172\t 3.4816103723822116\n",
            "11 \t [-1.28762221  4.26674791]\t 19.86310864446297\t 1.275455677703416\t 3.4085877320958007\t 3.401379622199038\n",
            "12 \t [ 1.95466532 -2.5324472 ]\t 10.234005319010478\t 1.275455677703416\t 3.069219103438752\t 3.015518995115463\n",
            "13 \t [-1.30993273 -2.87132933]\t 9.960455849896489\t 1.275455677703416\t 2.821426809459734\t 2.4867639779156168\n",
            "14 \t [5.12 5.12]\t 52.4288\t 1.275455677703416\t 3.2098612030909837\t 3.2940492593292676\n",
            "\u001b[1m\u001b[92m15\u001b[0m\t \u001b[1m\u001b[92m[0.41101385 0.24088434]\u001b[0m\t \u001b[1m\u001b[92m0.22695764606208316\u001b[0m\t \u001b[1m\u001b[92m0.22695764606208316\u001b[0m\t \u001b[1m\u001b[92m2.79500160511497\u001b[0m\t \u001b[1m\u001b[92m2.3580736198015217\u001b[0m\n",
            "16 \t [-5.12 -5.12]\t 52.4288\t 0.22695764606208316\t 2.867965309758716\t 3.0103165496837447\n",
            "17 \t [-2.21061578 -0.03609476]\t 4.888124979496094\t 0.22695764606208316\t 2.754549244929693\t 3.077608235788834\n",
            "18 \t [0.6451988  2.88402536]\t 8.733883785866777\t 0.22695764606208316\t 2.0713216339554\t 3.079999223099637\n",
            "19 \t [-3.73971847 -3.13941607]\t 23.84142753667348\t 0.22695764606208316\t 3.297717822809768\t 3.297717822809768\n",
            "20 \t [3.46417449 0.8988678 ]\t 12.808468243282025\t 0.22695764606208316\t 2.525940515496163\t 3.202181003042829\n"
          ]
        }
      ],
      "source": [
        "### EXACT STP CBM GRADIENTS\n",
        "\n",
        "np.random.seed(run_num_1)\n",
        "surrogate_exact_1 = dtStudentProcess(cov_func, optimize=opt, nu = df)\n",
        "\n",
        "exact_1 = dGPGO(surrogate_exact_1, Acquisition_grad(util), objfunc, param)\n",
        "exact_1.run(init_evals=n_init, max_iter=iters)\n"
      ]
    },
    {
      "cell_type": "code",
      "execution_count": 35,
      "metadata": {
        "colab": {
          "base_uri": "https://localhost:8080/"
        },
        "id": "-ilCPSAu9SAg",
        "outputId": "355e8a58-f0d7-4e09-cc8c-2eac6afe563d"
      },
      "outputs": [
        {
          "output_type": "stream",
          "name": "stdout",
          "text": [
            "Evaluation \t Proposed point \t  Current eval. \t  Best eval. \t        Exact CBM: StdDev. x \t Approx CBM: StdDev. x \n",
            "init\t [-0.6554122  -4.85451539]\t 23.995884788327533\t 0.6972563370202991\t    \t    \n",
            "init\t [ 0.50854377 -0.6622987 ]\t 0.6972563370202991\t 0.6972563370202991\t    \t    \n",
            "init\t [-0.81543371 -1.73737143]\t 3.683391625826377\t 0.6972563370202991\t    \t    \n",
            "init\t [-3.02439799  1.2213347 ]\t 10.638641624769724\t 0.6972563370202991\t    \t    \n",
            "init\t [-2.05153614 -2.3876887 ]\t 9.90985788235879\t 0.6972563370202991\t    \t    \n",
            "1  \t [4.81874241 3.07464552]\t 32.673723450709105\t 0.6972563370202991\t 3.7131432435048937\t 3.821214539004268\n",
            "2  \t [ 4.84260546 -3.96517156]\t 39.173413151255836\t 0.6972563370202991\t 3.0926542770442733\t 4.0605922145057525\n",
            "3  \t [4.17287052e-03 5.12000000e+00]\t 26.214417412848384\t 0.6972563370202991\t 3.6449836213863316\t 3.8964922637235846\n",
            "4  \t [-5.12 -5.12]\t 52.4288\t 0.6972563370202991\t 3.3346005206278826\t 3.770968111233731\n",
            "5  \t [ 3.10392798 -0.30175294]\t 9.725423716170212\t 0.6972563370202991\t 2.859788132514497\t 3.1884708299420987\n",
            "6  \t [-4.07490578  4.78774226]\t 39.52733308721693\t 0.6972563370202991\t 2.975047243205151\t 3.609953432021712\n",
            "7  \t [-4.97952038 -1.5721153 ]\t 27.267169713890006\t 0.6972563370202991\t 2.713144554758684\t 2.955803450432251\n",
            "8  \t [0.49528297 1.74998963]\t 3.307768945131958\t 0.6972563370202991\t 2.2710325096240727\t 2.415518085606413\n",
            "9  \t [ 5.10467339 -0.54816657]\t 26.358176973155366\t 0.6972563370202991\t 2.771705083826712\t 2.8218266150197215\n",
            "10 \t [ 1.79970986 -2.97650579]\t 12.098542294544865\t 0.6972563370202991\t 3.170090767939758\t 2.7737747587718626\n",
            "11 \t [3.38383793 5.12      ]\t 37.66475915814165\t 0.6972563370202991\t 3.007883543633241\t 3.1932888723509465\n",
            "12 \t [-1.16269117  2.53499384]\t 7.778044532883044\t 0.6972563370202991\t 2.4869277793193896\t 2.372710114794104\n",
            "13 \t [2.52721746 1.58510801]\t 8.899395518032073\t 0.6972563370202991\t 2.8054993216408426\t 2.9803373706053846\n",
            "14 \t [-5.00324493  1.45352069]\t 27.145182241768897\t 0.6972563370202991\t 3.1881976640054304\t 3.272205718776363\n",
            "15 \t [-1.01983307  0.16434148]\t 1.0670676033028952\t 0.6972563370202991\t 2.603856553287266\t 3.1079499392316974\n",
            "16 \t [ 1.50870521 -4.90543463]\t 26.339480262571254\t 0.6972563370202991\t 3.1652981035707715\t 3.1962528718617644\n",
            "17 \t [-4.35299134 -3.36019106]\t 30.239417593160532\t 0.6972563370202991\t 2.9603188217247376\t 3.131625922849993\n",
            "18 \t [-2.3461577  -0.63284219]\t 5.904945178756314\t 0.6972563370202991\t 2.804124038028504\t 2.936152917198195\n",
            "19 \t [-1.95751146  4.20026529]\t 21.47407963678204\t 0.6972563370202991\t 2.5902736200630376\t 3.485404722489625\n",
            "20 \t [1.49758718 3.22410733]\t 12.637635455558744\t 0.6972563370202991\t 2.83664521462029\t 2.8228793957583123\n"
          ]
        }
      ],
      "source": [
        "### EXACT STP CBM GRADIENTS\n",
        "\n",
        "np.random.seed(run_num_2)\n",
        "surrogate_exact_2 = dtStudentProcess(cov_func, optimize=opt, nu = df)\n",
        "\n",
        "exact_2 = dGPGO(surrogate_exact_2, Acquisition_grad(util), objfunc, param)\n",
        "exact_2.run(init_evals=n_init, max_iter=iters)\n"
      ]
    },
    {
      "cell_type": "code",
      "execution_count": 36,
      "metadata": {
        "colab": {
          "base_uri": "https://localhost:8080/"
        },
        "id": "XieJ158mIvlP",
        "outputId": "27f48ac1-f837-4f7a-ff9e-a2ca7900984c"
      },
      "outputs": [
        {
          "output_type": "stream",
          "name": "stdout",
          "text": [
            "Evaluation \t Proposed point \t  Current eval. \t  Best eval. \t        Exact CBM: StdDev. x \t Approx CBM: StdDev. x \n",
            "init\t [0.52017052 2.1314337 ]\t 4.813587005218131\t 4.59675431006429\t    \t    \n",
            "init\t [-2.14113547  0.11087468]\t 4.59675431006429\t 4.59675431006429\t    \t    \n",
            "init\t [4.02377681 4.05804123]\t 32.65847846685941\t 4.59675431006429\t    \t    \n",
            "init\t [-3.83400642 -2.99783293]\t 23.686607498512902\t 4.59675431006429\t    \t    \n",
            "init\t [-4.59297584 -0.6061072 ]\t 21.462792989409664\t 4.59675431006429\t    \t    \n",
            "1  \t [ 2.87042319 -1.98283743]\t 12.170973549365186\t 4.59675431006429\t 2.448226797700788\t 2.7854244112411806\n",
            "2  \t [-3.40163598  4.98256389]\t 36.39707024154438\t 4.59675431006429\t 2.7617426078407075\t 4.268223263580705\n",
            "3  \t [0.6646974 5.12     ]\t 26.656222634394844\t 4.59675431006429\t 3.026943403768223\t 3.6927546909343283\n",
            "4  \t [ 0.05761215 -5.12      ]\t 26.217719159767555\t 4.59675431006429\t 2.7934246322691463\t 3.65274865250204\n",
            "5  \t [4.83070051 0.71123495]\t 23.84152253328896\t 4.59675431006429\t 2.9879906486576178\t 3.6711040910943065\n",
            "6  \t [ 4.57451492 -5.12      ]\t 47.14058679023273\t 4.59675431006429\t 2.78815345005361\t 3.29365702972968\n",
            "\u001b[1m\u001b[92m7\u001b[0m\t \u001b[1m\u001b[92m[ 0.13218714 -0.58858962]\u001b[0m\t \u001b[1m\u001b[92m0.36391117535978346\u001b[0m\t \u001b[1m\u001b[92m0.36391117535978346\u001b[0m\t \u001b[1m\u001b[92m3.2319389092202524\u001b[0m\t \u001b[1m\u001b[92m2.965133706226064\u001b[0m\n",
            "8  \t [-5.09762013  2.23327814]\t 30.973262228187735\t 0.36391117535978346\t 3.3696725327782353\t 3.066321068657575\n",
            "9  \t [-1.70834741  2.32301767]\t 8.314861959916396\t 0.36391117535978346\t 2.481464904219358\t 3.12248785806466\n",
            "10 \t [-0.54753065 -2.35695039]\t 5.855004943965093\t 0.36391117535978346\t 2.9913666814338975\t 3.0284722027368485\n",
            "11 \t [-5.12 -5.12]\t 52.4288\t 0.36391117535978346\t 3.215514495930066\t 3.2193811085813175\n",
            "12 \t [1.92474122 0.48495297]\t 3.939808149688643\t 0.36391117535978346\t 2.677383919320518\t 3.004684315864002\n",
            "13 \t [-2.41727233 -5.12      ]\t 32.057605500647696\t 0.36391117535978346\t 3.402161799034716\t 3.654662984017374\n",
            "14 \t [2.39367587 2.17119732]\t 10.443781963887545\t 0.36391117535978346\t 2.517024034744072\t 2.557344226725845\n",
            "15 \t [ 5.10668654 -2.07519489]\t 30.384681286774914\t 0.36391117535978346\t 2.9082089571878553\t 3.0549001797792004\n",
            "16 \t [ 1.58585962 -3.36682451]\t 13.85045804498355\t 0.36391117535978346\t 2.627450987583251\t 3.561605419429261\n",
            "17 \t [-0.63995332  0.85190292]\t 1.1352788381232766\t 0.36391117535978346\t 2.732407265616542\t 2.4806583164238782\n",
            "18 \t [-2.2060208 -1.2892503]\t 6.528694108419943\t 0.36391117535978346\t 2.6263828882114413\t 3.5062803443661945\n",
            "19 \t [-1.33783964  4.59808488]\t 22.932199439651257\t 0.36391117535978346\t 2.9538108051025107\t 3.246913539843314\n",
            "20 \t [-3.13880975  1.65442961]\t 12.589263952400454\t 0.36391117535978346\t 2.58398663279895\t 2.8176673329215833\n"
          ]
        }
      ],
      "source": [
        "### EXACT STP CBM GRADIENTS\n",
        "\n",
        "np.random.seed(run_num_3)\n",
        "surrogate_exact_3 = dtStudentProcess(cov_func, optimize=opt, nu = df)\n",
        "\n",
        "exact_3 = dGPGO(surrogate_exact_3, Acquisition_grad(util), objfunc, param)\n",
        "exact_3.run(init_evals=n_init, max_iter=iters)\n"
      ]
    },
    {
      "cell_type": "code",
      "execution_count": 37,
      "metadata": {
        "colab": {
          "base_uri": "https://localhost:8080/"
        },
        "id": "PhLBVOIfIvol",
        "outputId": "3f18443b-c395-4329-c001-9f6af815d158"
      },
      "outputs": [
        {
          "output_type": "stream",
          "name": "stdout",
          "text": [
            "Evaluation \t Proposed point \t  Current eval. \t  Best eval. \t        Exact CBM: StdDev. x \t Approx CBM: StdDev. x \n",
            "init\t [4.78238555 0.48365823]\t 23.1051368481516\t 6.844040613967918\t    \t    \n",
            "init\t [4.84028785 2.19971578]\t 28.267135924302462\t 6.844040613967918\t    \t    \n",
            "init\t [ 2.02474316 -2.90724357]\t 12.551650027390728\t 6.844040613967918\t    \t    \n",
            "init\t [ 4.87705042 -5.05620219]\t 49.3508013219099\t 6.844040613967918\t    \t    \n",
            "init\t [-2.52946061 -0.66773471]\t 6.844040613967918\t 6.844040613967918\t    \t    \n",
            "1  \t [-1.2633452   4.52643256]\t 22.084632771133723\t 6.844040613967918\t 2.910002892182548\t 3.93125656871738\n",
            "2  \t [-5.12 -5.12]\t 52.4288\t 6.844040613967918\t 4.04144157389545\t 4.045092925217951\n",
            "3  \t [-0.95743114 -5.12      ]\t 27.131074386840417\t 6.844040613967918\t 3.288995280512328\t 3.905265859015874\n",
            "\u001b[1m\u001b[92m4\u001b[0m\t \u001b[1m\u001b[92m[0.65341637 1.17557827]\u001b[0m\t \u001b[1m\u001b[92m1.8089372208354637\u001b[0m\t \u001b[1m\u001b[92m1.8089372208354637\u001b[0m\t \u001b[1m\u001b[92m3.0830397189361944\u001b[0m\t \u001b[1m\u001b[92m3.527239385890104\u001b[0m\n",
            "5  \t [-5.12        2.58911037]\t 32.91789250841717\t 1.8089372208354637\t 2.762551276367305\t 3.5831742962583686\n",
            "6  \t [2.51129966 5.12      ]\t 32.52102598546976\t 1.8089372208354637\t 3.4330244378662904\t 3.4423412896641135\n",
            "7  \t [-5.12       -1.41768302]\t 28.224225136909944\t 1.8089372208354637\t 2.650705060351214\t 2.292688950478253\n",
            "8  \t [-1.98790441  1.75876758]\t 7.0450273480950045\t 1.8089372208354637\t 2.8507839899490013\t 2.8763430136626487\n",
            "\u001b[1m\u001b[92m9\u001b[0m\t \u001b[1m\u001b[92m[-0.25060078 -0.69440881]\u001b[0m\t \u001b[1m\u001b[92m0.5450043463358716\u001b[0m\t \u001b[1m\u001b[92m0.5450043463358716\u001b[0m\t \u001b[1m\u001b[92m2.900969548171475\u001b[0m\t \u001b[1m\u001b[92m2.9299102193746003\u001b[0m\n",
            "10 \t [5.12 5.12]\t 52.4288\t 0.5450043463358716\t 3.153698087094664\t 3.908141483679481\n",
            "11 \t [ 2.17545284 -0.44052904]\t 4.926660900996484\t 0.5450043463358716\t 2.8125759953765974\t 2.9643452915788573\n",
            "12 \t [ 5.10092871 -2.03637694]\t 30.166304745922748\t 0.5450043463358716\t 2.675836567210987\t 3.6454663412944623\n",
            "13 \t [-1.42703008 -2.42722   ]\t 7.927811779773357\t 0.5450043463358716\t 2.5458065064857385\t 3.0945703775266376\n",
            "14 \t [-3.64797055  5.0235475 ]\t 38.543718687526415\t 0.5450043463358716\t 2.63680644677649\t 2.7272810485265118\n",
            "15 \t [ 1.54660459 -5.12      ]\t 28.606385751978813\t 0.5450043463358716\t 2.513309629699398\t 2.7966711702707583\n",
            "16 \t [1.78681067 2.49919553]\t 9.438670650842262\t 0.5450043463358716\t 2.7309780337350857\t 2.2524922788251875\n",
            "17 \t [-5.01192058  0.54929448]\t 25.42107229091017\t 0.5450043463358716\t 2.720631910320516\t 2.8014939172991515\n",
            "18 \t [ 0.40365484 -1.8821412 ]\t 3.7053927411683003\t 0.5450043463358716\t 2.761148583773555\t 2.4367105106459443\n",
            "19 \t [-2.86525676 -3.67816597]\t 21.738601183357503\t 0.5450043463358716\t 2.646938472274083\t 2.5800447081421765\n",
            "20 \t [-0.68933977  0.55271347]\t 0.7806814979543447\t 0.5450043463358716\t 2.241294861680063\t 2.0873731147190173\n"
          ]
        }
      ],
      "source": [
        "### EXACT STP CBM GRADIENTS\n",
        "\n",
        "np.random.seed(run_num_4)\n",
        "surrogate_exact_4 = dtStudentProcess(cov_func, optimize=opt, nu = df)\n",
        "\n",
        "exact_4 = dGPGO(surrogate_exact_4, Acquisition_grad(util), objfunc, param)\n",
        "exact_4.run(init_evals=n_init, max_iter=iters)\n"
      ]
    },
    {
      "cell_type": "code",
      "execution_count": 38,
      "metadata": {
        "colab": {
          "base_uri": "https://localhost:8080/"
        },
        "id": "arbiPyj2IvsJ",
        "outputId": "1ffcee7c-25c7-4ee6-9811-47c0a690c8e2"
      },
      "outputs": [
        {
          "output_type": "stream",
          "name": "stdout",
          "text": [
            "Evaluation \t Proposed point \t  Current eval. \t  Best eval. \t        Exact CBM: StdDev. x \t Approx CBM: StdDev. x \n",
            "init\t [-2.84678993  3.79629882]\t 22.516097589112718\t 1.3234068721819314\t    \t    \n",
            "init\t [-3.00319585  4.2865757 ]\t 27.393916517947076\t 1.3234068721819314\t    \t    \n",
            "init\t [-0.11866943  1.14425716]\t 1.3234068721819314\t 1.3234068721819314\t    \t    \n",
            "init\t [2.72289645 0.1886002 ]\t 7.449735113237491\t 1.3234068721819314\t    \t    \n",
            "init\t [-2.08076286 -3.19773462]\t 14.555080786026249\t 1.3234068721819314\t    \t    \n",
            "1  \t [ 4.32895605 -5.09732646]\t 44.722597532365825\t 1.3234068721819314\t 4.53778950835479\t 4.554371577318889\n",
            "2  \t [5.12 5.12]\t 52.4288\t 1.3234068721819314\t 4.185226823150716\t 3.948317223091661\n",
            "3  \t [-5.12       -0.31480402]\t 26.313501570426975\t 1.3234068721819314\t 3.483632075120954\t 3.7568506990295227\n",
            "4  \t [1.00435154 5.12      ]\t 27.223122014016273\t 1.3234068721819314\t 3.4538684866480085\t 3.4299226069614703\n",
            "5  \t [-5.12 -5.12]\t 52.4288\t 1.3234068721819314\t 3.4971356241100655\t 3.616520412837434\n",
            "6  \t [ 0.49602813 -5.12      ]\t 26.460443910537567\t 1.3234068721819314\t 3.0377097065725547\t 3.095828726147237\n",
            "7  \t [ 5.12       -1.47513683]\t 28.39042867292054\t 1.3234068721819314\t 2.204235123806827\t 2.6513647518649166\n",
            "8  \t [ 0.84165662 -1.81752808]\t 4.011794185083752\t 1.3234068721819314\t 3.0337014718973982\t 3.1187338679752634\n",
            "9  \t [5.12       1.83144799]\t 29.568601756558007\t 1.3234068721819314\t 2.9907151482458447\t 3.0410232316948926\n",
            "10 \t [-1.80969013 -0.23759381]\t 3.331429170267037\t 1.3234068721819314\t 2.8669196987773904\t 2.6491961295536868\n",
            "11 \t [1.34157041 2.45582239]\t 7.830874751710859\t 1.3234068721819314\t 2.7051182416472654\t 3.1191483406027007\n",
            "12 \t [-5.12        2.48818531]\t 32.40546615647284\t 1.3234068721819314\t 2.745626256815516\t 2.9820426527805917\n",
            "13 \t [-1.70316567  1.54631797]\t 5.291872566661975\t 1.3234068721819314\t 2.974625922301987\t 3.1235075206567258\n",
            "\u001b[1m\u001b[92m14\u001b[0m\t \u001b[1m\u001b[92m[ 0.06270418 -0.38638204]\u001b[0m\t \u001b[1m\u001b[92m0.15322289669586162\u001b[0m\t \u001b[1m\u001b[92m0.15322289669586162\u001b[0m\t \u001b[1m\u001b[92m2.2932439956639503\u001b[0m\t \u001b[1m\u001b[92m2.8309239387891587\u001b[0m\n",
            "15 \t [ 2.29959155 -1.6006663 ]\t 7.850253915193958\t 0.15322289669586162\t 2.75870108762811\t 2.721741990115691\n",
            "16 \t [-0.5591819   3.18652188]\t 10.466606079688063\t 0.15322289669586162\t 2.6520123129317335\t 2.801914115204309\n",
            "17 \t [-5.06811369 -2.55800989]\t 32.22919095052915\t 0.15322289669586162\t 2.562163786297062\t 3.011109651640212\n",
            "18 \t [-2.44538611 -5.12      ]\t 32.19431322703631\t 0.15322289669586162\t 2.7884393896437407\t 2.978355110287292\n",
            "19 \t [-0.53180553 -2.1086773 ]\t 4.729337079842608\t 0.15322289669586162\t 2.302945687572644\t 2.4850319658837723\n",
            "20 \t [3.30672355 3.41594125]\t 22.60307528800402\t 0.15322289669586162\t 2.8545366573466247\t 3.0440169992578148\n"
          ]
        }
      ],
      "source": [
        "### EXACT STP CBM GRADIENTS\n",
        "\n",
        "np.random.seed(run_num_5)\n",
        "surrogate_exact_5 = dtStudentProcess(cov_func, optimize=opt, nu = df)\n",
        "\n",
        "exact_5 = dGPGO(surrogate_exact_5, Acquisition_grad(util), objfunc, param)\n",
        "exact_5.run(init_evals=n_init, max_iter=iters)\n"
      ]
    },
    {
      "cell_type": "code",
      "execution_count": 39,
      "metadata": {
        "colab": {
          "base_uri": "https://localhost:8080/"
        },
        "id": "04KJCEm_Ivvf",
        "outputId": "3ccbb775-282f-40b0-e8ab-252e66a03639"
      },
      "outputs": [
        {
          "output_type": "stream",
          "name": "stdout",
          "text": [
            "Evaluation \t Proposed point \t  Current eval. \t  Best eval. \t        Exact CBM: StdDev. x \t Approx CBM: StdDev. x \n",
            "init\t [ 4.02288795 -1.72052679]\t 19.143839911819178\t 0.7844720799352826\t    \t    \n",
            "init\t [ 3.28938622 -4.69302655]\t 32.84455992822337\t 0.7844720799352826\t    \t    \n",
            "init\t [-4.0175956   0.97333314]\t 17.088451781196223\t 0.7844720799352826\t    \t    \n",
            "init\t [ 0.30532979 -0.83141193]\t 0.7844720799352826\t 0.7844720799352826\t    \t    \n",
            "init\t [-1.68542362  1.25459899]\t 4.414671405342624\t 0.7844720799352826\t    \t    \n",
            "1  \t [5.12       4.78110108]\t 49.07332755113666\t 0.7844720799352826\t 3.943035716681148\t 3.877340664507789\n",
            "2  \t [-5.12 -5.12]\t 52.4288\t 0.7844720799352826\t 3.7480748322969886\t 3.651501642758261\n",
            "3  \t [0.10507474 5.12      ]\t 26.22544070197633\t 0.7844720799352826\t 3.085645148390961\t 3.5095590325591157\n",
            "4  \t [-0.87410261 -4.37800903]\t 19.931018432936565\t 0.7844720799352826\t 3.1171327247952756\t 4.061543623289248\n",
            "5  \t [2.28074653 1.68423524]\t 8.038453098668077\t 0.7844720799352826\t 2.505185526208368\t 2.948357055090138\n",
            "6  \t [-3.59398855  4.56658751]\t 33.77047521081356\t 0.7844720799352826\t 2.7525530645450513\t 3.561893192068025\n",
            "7  \t [-3.10921007 -2.02167029]\t 13.754338042125031\t 0.7844720799352826\t 3.0886373440184314\t 3.4464437712779694\n",
            "8  \t [5.11351988 1.46505221]\t 28.29446350893146\t 0.7844720799352826\t 2.8667262035334073\t 3.076820284850287\n",
            "9  \t [2.5127005  4.34495792]\t 25.192323109102144\t 0.7844720799352826\t 2.582131133555876\t 3.003748239673489\n",
            "10 \t [ 0.96070579 -2.32908814]\t 6.3476071964809595\t 0.7844720799352826\t 2.8550531305726583\t 3.014300716453919\n",
            "11 \t [0.24886281 1.07869182]\t 1.2255087377664196\t 0.7844720799352826\t 2.892913787544495\t 3.3187353301796074\n",
            "12 \t [-5.12       -1.51186777]\t 28.500144160046762\t 0.7844720799352826\t 2.43132290698406\t 3.049842369708275\n",
            "13 \t [-0.51779337  3.00526196]\t 9.299709407476866\t 0.7844720799352826\t 2.450713787565277\t 3.2510347333925385\n",
            "14 \t [-1.40455227 -0.52441756]\t 2.247780861287571\t 0.7844720799352826\t 2.5018648521651836\t 3.2229479205723846\n",
            "15 \t [-0.8430303  -2.08355061]\t 5.051883206450528\t 0.7844720799352826\t 2.759753714064393\t 2.980586260802872\n",
            "16 \t [-2.76299342 -4.89123809]\t 31.558342651447596\t 0.7844720799352826\t 2.8082942589306223\t 3.4817236611957663\n",
            "17 \t [ 1.96038238 -0.31520147]\t 3.942451032691704\t 0.7844720799352826\t 2.7637718391545962\t 3.594873526203362\n",
            "18 \t [ 0.77880149 -5.06512966]\t 26.262070270258572\t 0.7844720799352826\t 2.9644765919742078\t 3.2361910275982946\n",
            "19 \t [-4.74644116  2.64056072]\t 29.501264583273432\t 0.7844720799352826\t 3.1706496673603195\t 3.2693136379050727\n",
            "20 \t [ 4.9340119  -3.15179319]\t 34.27827380332334\t 0.7844720799352826\t 2.6638947243248836\t 3.6862130067942727\n"
          ]
        }
      ],
      "source": [
        "### EXACT STP CBM GRADIENTS\n",
        "\n",
        "np.random.seed(run_num_6)\n",
        "surrogate_exact_6 = dtStudentProcess(cov_func, optimize=opt, nu = df)\n",
        "\n",
        "exact_6 = dGPGO(surrogate_exact_6, Acquisition_grad(util), objfunc, param)\n",
        "exact_6.run(init_evals=n_init, max_iter=iters)\n"
      ]
    },
    {
      "cell_type": "code",
      "execution_count": 40,
      "metadata": {
        "colab": {
          "base_uri": "https://localhost:8080/"
        },
        "id": "tAOkme3CIvyO",
        "outputId": "0879b385-ff54-493b-f71e-ba8af2d3eb76"
      },
      "outputs": [
        {
          "output_type": "stream",
          "name": "stdout",
          "text": [
            "Evaluation \t Proposed point \t  Current eval. \t  Best eval. \t        Exact CBM: StdDev. x \t Approx CBM: StdDev. x \n",
            "init\t [-4.33860312  2.86636843]\t 27.039544996254122\t 5.622519010932044\t    \t    \n",
            "init\t [-0.63068947  2.28828342]\t 5.634010222398341\t 5.622519010932044\t    \t    \n",
            "init\t [4.8946126  0.39419771]\t 24.112624368867845\t 5.622519010932044\t    \t    \n",
            "init\t [ 0.01147355 -4.38219639]\t 19.20377688135857\t 5.622519010932044\t    \t    \n",
            "init\t [-2.37118484e+00 -1.20319155e-03]\t 5.622519010932044\t 5.622519010932044\t    \t    \n",
            "1  \t [-5.12 -5.12]\t 52.4288\t 5.622519010932044\t 2.9813338208497426\t 3.6290914888984354\n",
            "2  \t [3.35333104 5.12      ]\t 37.45922906920062\t 5.622519010932044\t 3.6881728383086174\t 3.7540663918559405\n",
            "3  \t [ 4.52356579 -4.16736957]\t 37.82961665708483\t 5.622519010932044\t 3.0491288542425883\t 3.764599224323254\n",
            "4  \t [-4.02558214 -1.33646422]\t 17.991448177385568\t 5.622519010932044\t 2.8892343081658782\t 3.046307140328312\n",
            "\u001b[1m\u001b[92m5\u001b[0m\t \u001b[1m\u001b[92m[ 1.21093762 -0.75286769]\u001b[0m\t \u001b[1m\u001b[92m2.0331796841184966\u001b[0m\t \u001b[1m\u001b[92m2.0331796841184966\u001b[0m\t \u001b[1m\u001b[92m3.123441029273257\u001b[0m\t \u001b[1m\u001b[92m3.2266143702503185\u001b[0m\n",
            "6  \t [-1.08384706  5.12      ]\t 27.38912445387002\t 2.0331796841184966\t 3.2013050837091304\t 3.684014662948048\n",
            "7  \t [2.04619975 1.83748679]\t 7.563291122735052\t 2.0331796841184966\t 2.6080918672706646\t 2.776338383738491\n",
            "8  \t [-2.39400382 -3.3040135 ]\t 16.64775948524279\t 2.0331796841184966\t 3.201684216494774\t 3.38238178734292\n",
            "\u001b[1m\u001b[92m9\u001b[0m\t \u001b[1m\u001b[92m[-0.58582192 -0.65454995]\u001b[0m\t \u001b[1m\u001b[92m0.7716229570573547\u001b[0m\t \u001b[1m\u001b[92m0.7716229570573547\u001b[0m\t \u001b[1m\u001b[92m3.372580358096176\u001b[0m\t \u001b[1m\u001b[92m3.689484248397254\u001b[0m\n",
            "10 \t [ 2.14952697 -2.27896224]\t 9.81413509759064\t 0.7716229570573547\t 2.676411489152698\t 3.263223589341781\n",
            "11 \t [5.12       3.49288266]\t 38.414629262766276\t 0.7716229570573547\t 2.8621957857017053\t 3.1530820591052646\n",
            "12 \t [-5.11292055  5.04211319]\t 51.56486198679663\t 0.7716229570573547\t 3.13078212751543\t 3.3574622428267755\n",
            "13 \t [1.12661914 3.58848281]\t 14.146479537144717\t 0.7716229570573547\t 3.2637203838928124\t 3.029353282800334\n",
            "\u001b[1m\u001b[92m14\u001b[0m\t \u001b[1m\u001b[92m[0.05301337 0.76030649]\u001b[0m\t \u001b[1m\u001b[92m0.5808763685756881\u001b[0m\t \u001b[1m\u001b[92m0.5808763685756881\u001b[0m\t \u001b[1m\u001b[92m2.47873166771782\u001b[0m\t \u001b[1m\u001b[92m2.7518194873700454\u001b[0m\n",
            "15 \t [2.36469382 0.18270268]\t 5.625157119724824\t 0.5808763685756881\t 3.108214870551985\t 3.151224663584043\n",
            "16 \t [-2.25848302  1.84183812]\t 8.493113231878002\t 0.5808763685756881\t 2.5676985299802246\t 2.812586945490805\n",
            "17 \t [-5.12       0.4430291]\t 26.41067477924672\t 0.5808763685756881\t 2.5434374050064648\t 2.6626996345536917\n",
            "18 \t [ 1.91987643 -4.9202402 ]\t 27.89468907556382\t 0.5808763685756881\t 3.1604115747785806\t 3.600759755827876\n",
            "19 \t [-0.9063387  -1.82293306]\t 4.144534764868302\t 0.5808763685756881\t 2.7509119185450985\t 3.179128338044767\n",
            "20 \t [ 4.83290029 -1.78797115]\t 26.553766106941055\t 0.5808763685756881\t 3.1419242929693483\t 3.4251276898831255\n"
          ]
        }
      ],
      "source": [
        "### EXACT STP CBM GRADIENTS\n",
        "\n",
        "np.random.seed(run_num_7)\n",
        "surrogate_exact_7 = dtStudentProcess(cov_func, optimize=opt, nu = df)\n",
        "\n",
        "exact_7 = dGPGO(surrogate_exact_7, Acquisition_grad(util), objfunc, param)\n",
        "exact_7.run(init_evals=n_init, max_iter=iters)\n"
      ]
    },
    {
      "cell_type": "code",
      "execution_count": 41,
      "metadata": {
        "colab": {
          "base_uri": "https://localhost:8080/"
        },
        "id": "69-J3EF4Iv1S",
        "outputId": "2705dae9-83bf-4486-b5bb-c74b13972d24"
      },
      "outputs": [
        {
          "output_type": "stream",
          "name": "stdout",
          "text": [
            "Evaluation \t Proposed point \t  Current eval. \t  Best eval. \t        Exact CBM: StdDev. x \t Approx CBM: StdDev. x \n",
            "init\t [3.82391708 4.79785639]\t 37.641767782829874\t 0.10287109474532606\t    \t    \n",
            "init\t [3.78055209 0.31596228]\t 14.392406282091054\t 0.10287109474532606\t    \t    \n",
            "init\t [-2.73686192 -5.00327624]\t 32.52318635319257\t 0.10287109474532606\t    \t    \n",
            "init\t [-0.7119993  -0.99992207]\t 1.5067871566831337\t 0.10287109474532606\t    \t    \n",
            "init\t [ 0.23218863 -0.22126801]\t 0.10287109474532606\t 0.10287109474532606\t    \t    \n",
            "1  \t [ 4.96382139 -4.82579666]\t 47.927836258226\t 0.10287109474532606\t 2.943063484885568\t 3.926825109401547\n",
            "2  \t [-1.09868645  3.20947533]\t 11.507843831530431\t 0.10287109474532606\t 3.0875709176866257\t 3.522080988846021\n",
            "3  \t [-5.12       -0.05580384]\t 26.217514068179995\t 0.10287109474532606\t 2.6619668546550277\t 3.6326691383205447\n",
            "4  \t [ 1.06367431 -4.81144575]\t 24.28141325231868\t 0.10287109474532606\t 3.154856828897113\t 3.6397977167120708\n",
            "5  \t [ 1.80422517 -1.817296  ]\t 6.557793204314672\t 0.10287109474532606\t 3.1638061110136326\t 3.5112844292192955\n",
            "6  \t [-5.12       -3.17452503]\t 36.29200915437681\t 0.10287109474532606\t 3.2473619996092102\t 3.6234703013787986\n",
            "7  \t [-4.43312787  3.57098972]\t 32.40459034342818\t 0.10287109474532606\t 3.04113234026885\t 3.7787282097117587\n",
            "8  \t [1.42470324 2.44561529]\t 8.010813486283041\t 0.10287109474532606\t 3.19869727411358\t 3.3830096845404385\n",
            "9  \t [ 5.09352176 -1.77120273]\t 29.081123006733897\t 0.10287109474532606\t 3.1534930782843507\t 3.1814680325034113\n",
            "10 \t [-2.29626883  0.82765659]\t 5.9578659903792595\t 0.10287109474532606\t 2.9644525274553555\t 3.0349364768330647\n",
            "11 \t [0.78780056 5.12      ]\t 26.835029715038008\t 0.10287109474532606\t 3.2481073305964894\t 3.1005928748633296\n",
            "12 \t [-2.26863435 -1.99842448]\t 9.14040220024513\t 0.10287109474532606\t 2.4246645484631446\t 2.62252673673566\n",
            "13 \t [5.12       2.38698169]\t 31.91208158892294\t 0.10287109474532606\t 2.60821797488445\t 2.726024728263972\n",
            "14 \t [-1.61556409  5.06815896]\t 28.296282603626\t 0.10287109474532606\t 2.759261657581294\t 2.9512943893158314\n",
            "15 \t [-0.26182698  1.16370697]\t 1.4227672706939143\t 0.10287109474532606\t 2.6247154515993847\t 2.4139630229183577\n",
            "16 \t [-0.32764009 -2.69944755]\t 7.394365115637372\t 0.10287109474532606\t 2.7062622160264853\t 2.236197871472458\n",
            "17 \t [ 1.91442633 -0.18001282]\t 3.697432779157778\t 0.10287109474532606\t 2.836911265814856\t 3.0730997818525214\n",
            "18 \t [1.27534457 0.78249621]\t 2.2388040883421003\t 0.10287109474532606\t 2.6209734847244293\t 3.030269511723109\n",
            "19 \t [ 2.59466807 -2.89110594]\t 15.090795926889456\t 0.10287109474532606\t 2.576604087345313\t 2.3330053448613457\n",
            "20 \t [-5.12 -5.12]\t 52.4288\t 0.10287109474532606\t 2.9440961711380957\t 3.290610612448026\n"
          ]
        }
      ],
      "source": [
        "### EXACT STP CBM GRADIENTS\n",
        "\n",
        "np.random.seed(run_num_8)\n",
        "surrogate_exact_8 = dtStudentProcess(cov_func, optimize=opt, nu = df)\n",
        "\n",
        "exact_8 = dGPGO(surrogate_exact_8, Acquisition_grad(util), objfunc, param)\n",
        "exact_8.run(init_evals=n_init, max_iter=iters)\n"
      ]
    },
    {
      "cell_type": "code",
      "execution_count": 42,
      "metadata": {
        "colab": {
          "base_uri": "https://localhost:8080/"
        },
        "id": "vonm9jyuIv4t",
        "outputId": "b183fe12-3393-4602-afc9-c4fbefc9c3e3"
      },
      "outputs": [
        {
          "output_type": "stream",
          "name": "stdout",
          "text": [
            "Evaluation \t Proposed point \t  Current eval. \t  Best eval. \t        Exact CBM: StdDev. x \t Approx CBM: StdDev. x \n",
            "init\t [-5.01376866  0.01919582]\t 25.138244697862262\t 7.349882113053805\t    \t    \n",
            "init\t [-0.04328148 -3.74958562]\t 14.061265633999861\t 7.349882113053805\t    \t    \n",
            "init\t [-3.66478248 -2.88195916]\t 21.736319271030034\t 7.349882113053805\t    \t    \n",
            "init\t [-0.83447623 -2.57944404]\t 7.349882113053805\t 7.349882113053805\t    \t    \n",
            "init\t [-4.25922917 -1.58209393]\t 20.64405433050371\t 7.349882113053805\t    \t    \n",
            "1  \t [3.11029524 4.9495987 ]\t 34.172463819640285\t 7.349882113053805\t 2.9518647281570085\t 3.024122611000024\n",
            "2  \t [ 4.85247987 -1.2313342 ]\t 25.062744774295243\t 7.349882113053805\t 3.1377396623475824\t 4.138552643502264\n",
            "3  \t [-1.90742388  4.02059929]\t 19.803484493487662\t 7.349882113053805\t 2.796134986138991\t 4.277784146047719\n",
            "\u001b[1m\u001b[92m4\u001b[0m\t \u001b[1m\u001b[92m[1.15479495 0.87786405]\u001b[0m\t \u001b[1m\u001b[92m2.104196663079873\u001b[0m\t \u001b[1m\u001b[92m2.104196663079873\u001b[0m\t \u001b[1m\u001b[92m3.0304364423815806\u001b[0m\t \u001b[1m\u001b[92m3.7660501651184677\u001b[0m\n",
            "5  \t [5.12       2.30938575]\t 31.54766255517118\t 2.104196663079873\t 3.3163932377889056\t 3.6814700340808955\n",
            "6  \t [-1.58568376  0.73128238]\t 3.0491669003676884\t 2.104196663079873\t 3.1412574197662284\t 3.0916066417821977\n",
            "7  \t [ 2.73965935 -3.53778914]\t 20.021685387218078\t 2.104196663079873\t 2.956849243302664\t 3.7872912910453334\n",
            "8  \t [-5.12 -5.12]\t 52.4288\t 2.104196663079873\t 3.1162886668165535\t 3.439368793174367\n",
            "9  \t [-4.28864156  2.68900703]\t 25.62320525675859\t 2.104196663079873\t 3.196015823389368\t 3.393034521508913\n",
            "10 \t [0.65009877 3.1067723 ]\t 10.07466253949187\t 2.104196663079873\t 2.389935249569678\t 2.8230143835680046\n",
            "11 \t [ 1.67268656 -1.01112713]\t 3.820258408006876\t 2.104196663079873\t 2.494417348006668\t 3.801831711465755\n",
            "12 \t [-2.22698822 -5.12      ]\t 31.173876534709294\t 2.104196663079873\t 2.6576093775338694\t 3.1392215835796526\n",
            "\u001b[1m\u001b[92m13\u001b[0m\t \u001b[1m\u001b[92m[-0.35649976 -0.54592122]\u001b[0m\t \u001b[1m\u001b[92m0.42512205991776786\u001b[0m\t \u001b[1m\u001b[92m0.42512205991776786\u001b[0m\t \u001b[1m\u001b[92m2.350643966511477\u001b[0m\t \u001b[1m\u001b[92m2.1624062188973507\u001b[0m\n",
            "14 \t [2.77386779 1.13671492]\t 8.986463328907064\t 0.42512205991776786\t 2.689270322963934\t 2.948107172393866\n",
            "15 \t [-1.6852372  -1.10478926]\t 4.060583738433751\t 0.42512205991776786\t 3.0625639225608587\t 3.6007036902989236\n",
            "16 \t [0.27031496 5.12      ]\t 26.28747017827231\t 0.42512205991776786\t 2.954437872971347\t 3.5368210070744914\n",
            "17 \t [-0.23756995  1.27520502]\t 1.68258731192955\t 0.42512205991776786\t 2.423033016115169\t 2.613292690860239\n",
            "18 \t [5.12 5.12]\t 52.4288\t 0.42512205991776786\t 2.742275078490116\t 3.3880729603880253\n",
            "19 \t [-4.24683937  5.12      ]\t 44.2500446093871\t 0.42512205991776786\t 2.9937824549875343\t 3.3543046869313433\n",
            "20 \t [ 4.86774534 -4.01378595]\t 39.80542229533252\t 0.42512205991776786\t 2.8830207153243492\t 3.027007800464644\n"
          ]
        }
      ],
      "source": [
        "### EXACT STP CBM GRADIENTS\n",
        "\n",
        "np.random.seed(run_num_9)\n",
        "surrogate_exact_9 = dtStudentProcess(cov_func, optimize=opt, nu = df)\n",
        "\n",
        "exact_9 = dGPGO(surrogate_exact_9, Acquisition_grad(util), objfunc, param)\n",
        "exact_9.run(init_evals=n_init, max_iter=iters)\n"
      ]
    },
    {
      "cell_type": "code",
      "execution_count": 43,
      "metadata": {
        "colab": {
          "base_uri": "https://localhost:8080/"
        },
        "id": "6amuYlUdIv7r",
        "outputId": "235c5343-9430-41c8-f06e-15e5cbcebf36"
      },
      "outputs": [
        {
          "output_type": "stream",
          "name": "stdout",
          "text": [
            "Evaluation \t Proposed point \t  Current eval. \t  Best eval. \t        Exact CBM: StdDev. x \t Approx CBM: StdDev. x \n",
            "init\t [ 2.77832339 -4.90750004]\t 31.80263747150094\t 7.941821858928501\t    \t    \n",
            "init\t [1.36855793 2.54775176]\t 8.363989812138083\t 7.941821858928501\t    \t    \n",
            "init\t [-0.01528819 -2.81808235]\t 7.941821858928501\t 7.941821858928501\t    \t    \n",
            "init\t [-3.09183626  2.66783449]\t 16.67679237031191\t 7.941821858928501\t    \t    \n",
            "init\t [-3.38830503 -4.2154003 ]\t 29.25021071405309\t 7.941821858928501\t    \t    \n",
            "1  \t [ 5.12       -0.34796158]\t 26.33547726201808\t 7.941821858928501\t 3.3762267796965233\t 3.4515028618295744\n",
            "2  \t [5.12 5.12]\t 52.4288\t 7.941821858928501\t 2.851499579545811\t 3.3014178402259966\n",
            "3  \t [-4.21715263 -0.72760145]\t 18.313780138869724\t 7.941821858928501\t 2.6748202704398443\t 3.6005787966483966\n",
            "4  \t [0.29634477 5.12      ]\t 26.30222022082037\t 7.941821858928501\t 3.601120541523748\t 3.4658588665668892\n",
            "\u001b[1m\u001b[92m5\u001b[0m\t \u001b[1m\u001b[92m[-0.96838386  0.42422897]\u001b[0m\t \u001b[1m\u001b[92m1.1177375270199466\u001b[0m\t \u001b[1m\u001b[92m1.1177375270199466\u001b[0m\t \u001b[1m\u001b[92m2.9378891186770013\u001b[0m\t \u001b[1m\u001b[92m3.5013958725115444\u001b[0m\n",
            "6  \t [ 2.02217978 -0.9294366 ]\t 4.953063443985296\t 1.1177375270199466\t 3.421213610123012\t 3.5958664068805164\n",
            "7  \t [-0.89522602 -5.12      ]\t 27.015829618384718\t 1.1177375270199466\t 3.208478095885617\t 3.8618810545382205\n",
            "8  \t [3.77095882 2.26404909]\t 19.346048714301183\t 1.1177375270199466\t 3.4396760124503785\t 3.449442895732429\n",
            "9  \t [ 4.35385297 -2.75905477]\t 26.568418907095086\t 1.1177375270199466\t 3.1893670454791447\t 3.812969619619923\n",
            "\u001b[1m\u001b[92m10\u001b[0m\t \u001b[1m\u001b[92m[ 0.16157527 -0.72478444]\u001b[0m\t \u001b[1m\u001b[92m0.5514190583978508\u001b[0m\t \u001b[1m\u001b[92m0.5514190583978508\u001b[0m\t \u001b[1m\u001b[92m3.3436757479893835\u001b[0m\t \u001b[1m\u001b[92m3.6038508347128024\u001b[0m\n",
            "11 \t [-2.31696053  5.05511977]\t 30.922541985987696\t 0.5514190583978508\t 2.9522904805610786\t 2.7733477649208043\n",
            "12 \t [-5.12        1.77898303]\t 29.379180619737763\t 0.5514190583978508\t 2.9498412301046373\t 3.3826783115234824\n",
            "13 \t [-1.80514513 -1.25675984]\t 4.8379942267915315\t 0.5514190583978508\t 3.0311683149610142\t 3.396409846181066\n",
            "14 \t [-0.90219408  2.50661899]\t 7.097092911008373\t 0.5514190583978508\t 3.1483138037459324\t 3.7418756455599906\n",
            "15 \t [1.17820543 0.56687859]\t 1.7095193604324526\t 0.5514190583978508\t 3.574223513624522\t 3.722569785360052\n",
            "16 \t [-5.12       -2.76532472]\t 33.861420829724636\t 0.5514190583978508\t 3.00867784981741\t 3.2935852720960996\n",
            "17 \t [2.67461305 4.59400187]\t 28.258408185797265\t 0.5514190583978508\t 2.961011697251611\t 3.577699752375859\n",
            "18 \t [-2.72094151  0.68897328]\t 7.878206874008326\t 0.5514190583978508\t 2.653113771583755\t 3.585464946023407\n",
            "19 \t [ 1.69106493 -2.52232158]\t 9.22180677442461\t 0.5514190583978508\t 2.6824657454513936\t 3.1490577673279327\n",
            "20 \t [3.71624043 3.58777732]\t 26.682589032585422\t 0.5514190583978508\t 3.1271600170679212\t 3.231189250140105\n"
          ]
        }
      ],
      "source": [
        "### EXACT STP CBM GRADIENTS\n",
        "\n",
        "np.random.seed(run_num_10)\n",
        "surrogate_exact_10 = dtStudentProcess(cov_func, optimize=opt, nu = df)\n",
        "\n",
        "exact_10 = dGPGO(surrogate_exact_10, Acquisition_grad(util), objfunc, param)\n",
        "exact_10.run(init_evals=n_init, max_iter=iters)\n"
      ]
    },
    {
      "cell_type": "code",
      "execution_count": 44,
      "metadata": {
        "id": "VwbLIP9cIv-F",
        "colab": {
          "base_uri": "https://localhost:8080/"
        },
        "outputId": "143241af-9890-47c1-eb55-bb8de295c6ae"
      },
      "outputs": [
        {
          "output_type": "stream",
          "name": "stdout",
          "text": [
            "Evaluation \t Proposed point \t  Current eval. \t  Best eval. \t        Exact CBM: StdDev. x \t Approx CBM: StdDev. x \n",
            "init\t [-3.27403839 -4.92057353]\t 34.93137118861299\t 0.6899456214148796\t    \t    \n",
            "init\t [-0.37664229  2.30332343]\t 5.447158259491397\t 0.6899456214148796\t    \t    \n",
            "init\t [-0.81711509 -0.14922651]\t 0.6899456214148796\t 0.6899456214148796\t    \t    \n",
            "init\t [-4.98912446 -0.12931474]\t 24.908085165573997\t 0.6899456214148796\t    \t    \n",
            "init\t [4.52410012 3.59214172]\t 33.37096399795931\t 0.6899456214148796\t    \t    \n",
            "1  \t [ 3.03550212 -4.46785095]\t 29.17596522689979\t 0.6899456214148796\t 2.9117371016045417\t 3.9097523005204593\n",
            "2  \t [ 4.94072159 -0.61728256]\t 24.791767609249593\t 0.6899456214148796\t 2.3155318406578047\t 3.6274452018760464\n",
            "3  \t [1.0340689 5.12     ]\t 27.283698496166355\t 0.6899456214148796\t 3.1357276784614805\t 3.9156597594691727\n",
            "4  \t [ 1.36131622 -1.13723779]\t 3.146491643766342\t 0.6899456214148796\t 2.709869603992353\t 2.574366704767915\n",
            "5  \t [-3.33180492  3.32511221]\t 22.15729523462265\t 0.6899456214148796\t 2.8764434697592938\t 3.363931100082294\n",
            "6  \t [-0.94318769 -2.50899186]\t 7.1846431783533555\t 0.6899456214148796\t 2.8709524255793704\t 2.8811945456179737\n",
            "7  \t [1.95188828 1.50678841]\t 6.080279157395185\t 0.6899456214148796\t 3.3018154914951072\t 3.840497268881939\n",
            "8  \t [-0.19045446 -5.11858499]\t 26.236185207828022\t 0.6899456214148796\t 2.95542263125419\t 3.2893538617848432\n",
            "9  \t [-2.33603481  0.51466688]\t 5.721940634438134\t 0.6899456214148796\t 3.149805166365899\t 3.4305607128672477\n",
            "10 \t [-5.12       -3.03711418]\t 35.43846255139395\t 0.6899456214148796\t 2.782705141843377\t 3.5106448776028047\n",
            "11 \t [-1.27417367  4.47089581]\t 21.612427897779238\t 0.6899456214148796\t 2.5848171593984492\t 3.725976224639839\n",
            "12 \t [ 2.68184837 -1.63737791]\t 9.87331709476896\t 0.6899456214148796\t 2.6420365198963305\t 3.211821727986588\n",
            "13 \t [-2.88634403 -1.24733503]\t 9.886826555522067\t 0.6899456214148796\t 2.8772939769277364\t 3.3502757991743968\n",
            "14 \t [0.00819394 0.87746765]\t 0.7700166237934168\t 0.6899456214148796\t 2.6242637788692007\t 3.2960373579895745\n",
            "15 \t [ 0.02753545 -0.961031  ]\t 0.9243387925218658\t 0.6899456214148796\t 3.01732132398385\t 3.7409433777835366\n",
            "16 \t [2.02427883 3.01724657]\t 13.201481665723122\t 0.6899456214148796\t 3.441224078339865\t 3.70405026001626\n",
            "17 \t [ 0.70597737 -2.6034243 ]\t 7.2762221517138705\t 0.6899456214148796\t 2.05443788040752\t 2.859750029068964\n",
            "18 \t [ 5.10056909 -3.22731966]\t 36.43139718733126\t 0.6899456214148796\t 2.800481036421624\t 2.919329206554971\n",
            "19 \t [-4.91507775  4.2947978 ]\t 42.60327738881886\t 0.6899456214148796\t 2.847730489958508\t 3.2680718123521078\n",
            "20 \t [5.12      1.4622018]\t 28.352434118203554\t 0.6899456214148796\t 3.1543678155551826\t 3.3456952450214983\n"
          ]
        }
      ],
      "source": [
        "### EXACT STP CBM GRADIENTS\n",
        "\n",
        "np.random.seed(run_num_11)\n",
        "surrogate_exact_11 = dtStudentProcess(cov_func, optimize=opt, nu = df)\n",
        "\n",
        "exact_11 = dGPGO(surrogate_exact_11, Acquisition_grad(util), objfunc, param)\n",
        "exact_11.run(init_evals=n_init, max_iter=iters)\n"
      ]
    },
    {
      "cell_type": "code",
      "execution_count": 45,
      "metadata": {
        "id": "MlUNFjc-JTBY",
        "colab": {
          "base_uri": "https://localhost:8080/"
        },
        "outputId": "d8a9c91c-716d-46fd-f361-aee6f23c6664"
      },
      "outputs": [
        {
          "output_type": "stream",
          "name": "stdout",
          "text": [
            "Evaluation \t Proposed point \t  Current eval. \t  Best eval. \t        Exact CBM: StdDev. x \t Approx CBM: StdDev. x \n",
            "init\t [-3.54137249  2.45810889]\t 18.583618467979093\t 5.993464196233534\t    \t    \n",
            "init\t [-2.42365424  0.34549139]\t 5.993464196233534\t 5.993464196233534\t    \t    \n",
            "init\t [-4.97075238  4.28796936]\t 43.09506052206225\t 5.993464196233534\t    \t    \n",
            "init\t [ 4.10332011 -4.77776458]\t 39.66427028607538\t 5.993464196233534\t    \t    \n",
            "init\t [ 4.6791612  -3.71497655]\t 35.6956003298903\t 5.993464196233534\t    \t    \n",
            "1  \t [5.12 5.12]\t 52.4288\t 5.993464196233534\t 3.6699934050576815\t 3.5926983895176634\n",
            "2  \t [-5.12 -5.12]\t 52.4288\t 5.993464196233534\t 3.45980222277968\t 3.064508409597678\n",
            "\u001b[1m\u001b[92m3\u001b[0m\t \u001b[1m\u001b[92m[2.24754315 0.82941556]\u001b[0m\t \u001b[1m\u001b[92m5.739380358488415\u001b[0m\t \u001b[1m\u001b[92m5.739380358488415\u001b[0m\t \u001b[1m\u001b[92m2.853676809645074\u001b[0m\t \u001b[1m\u001b[92m2.7733106585419907\u001b[0m\n",
            "4  \t [-0.46237036 -4.41935048]\t 19.744444979515997\t 5.739380358488415\t 2.9066508291928406\t 3.2151097289257935\n",
            "5  \t [0.65520656 4.33879823]\t 19.254465676705042\t 5.739380358488415\t 2.7773911652034506\t 3.2183605540249887\n",
            "6  \t [-5.12       -1.37141313]\t 28.09517396324355\t 5.739380358488415\t 2.722670060183064\t 2.9241203262721323\n",
            "7  \t [5.12       0.49985968]\t 26.46425970310738\t 5.739380358488415\t 2.7053650783718535\t 3.0941894463346595\n",
            "\u001b[1m\u001b[92m8\u001b[0m\t \u001b[1m\u001b[92m[ 1.106627   -1.65205934]\u001b[0m\t \u001b[1m\u001b[92m3.953923380673065\u001b[0m\t \u001b[1m\u001b[92m3.953923380673065\u001b[0m\t \u001b[1m\u001b[92m2.7661367518679545\u001b[0m\t \u001b[1m\u001b[92m2.9160142402745066\u001b[0m\n",
            "9  \t [-1.98881205 -2.06083592]\t 8.202418069307614\t 3.953923380673065\t 2.4717724415688194\t 2.7157130823672087\n",
            "\u001b[1m\u001b[92m10\u001b[0m\t \u001b[1m\u001b[92m[-0.10641725  1.13424849]\u001b[0m\t \u001b[1m\u001b[92m1.2978442719130245\u001b[0m\t \u001b[1m\u001b[92m1.2978442719130245\u001b[0m\t \u001b[1m\u001b[92m2.740885265916611\u001b[0m\t \u001b[1m\u001b[92m3.0253889989482365\u001b[0m\n",
            "11 \t [-1.78104171  4.83689613]\t 26.567673764869184\t 1.2978442719130245\t 2.5717438325881843\t 2.9123851023894765\n",
            "\u001b[1m\u001b[92m12\u001b[0m\t \u001b[1m\u001b[92m[-0.37117537 -0.55999602]\u001b[0m\t \u001b[1m\u001b[92m0.45136670356360037\u001b[0m\t \u001b[1m\u001b[92m0.45136670356360037\u001b[0m\t \u001b[1m\u001b[92m2.6584497169822687\u001b[0m\t \u001b[1m\u001b[92m2.844597484905569\u001b[0m\n",
            "13 \t [ 2.84056788 -1.11252224]\t 9.306531586861848\t 0.45136670356360037\t 2.646518117544139\t 2.854497151702475\n",
            "14 \t [3.12674823 2.82929803]\t 17.781481866698616\t 0.45136670356360037\t 3.192482587697311\t 3.088639235652574\n",
            "15 \t [ 1.61421844 -5.12      ]\t 28.82010116487412\t 0.45136670356360037\t 2.914336336476505\t 3.3754027774557507\n",
            "16 \t [-2.57763068 -4.83154887]\t 29.988044365779217\t 0.45136670356360037\t 2.7673185072555344\t 3.1620951087120193\n",
            "17 \t [-5.12        0.97178197]\t 27.158760200077488\t 0.45136670356360037\t 2.682141296780949\t 2.8354143971836554\n",
            "18 \t [ 2.81624802 -3.40857691]\t 19.549649444269313\t 0.45136670356360037\t 3.0968939647697478\t 2.8295287454635214\n",
            "19 \t [0.6067481  2.22888831]\t 5.336086370956473\t 0.45136670356360037\t 2.6652141023149327\t 2.6780822524173296\n",
            "20 \t [-1.44533618  2.43188339]\t 8.003053507323685\t 0.45136670356360037\t 2.9125242481282907\t 2.595757018915448\n"
          ]
        }
      ],
      "source": [
        "### EXACT STP CBM GRADIENTS\n",
        "\n",
        "np.random.seed(run_num_12)\n",
        "surrogate_exact_12 = dtStudentProcess(cov_func, optimize=opt, nu = df)\n",
        "\n",
        "exact_12 = dGPGO(surrogate_exact_12, Acquisition_grad(util), objfunc, param)\n",
        "exact_12.run(init_evals=n_init, max_iter=iters)\n"
      ]
    },
    {
      "cell_type": "code",
      "execution_count": 46,
      "metadata": {
        "id": "9BsKdU9eJTFL",
        "colab": {
          "base_uri": "https://localhost:8080/"
        },
        "outputId": "aa18cf40-26f1-4d8a-f556-44416ac08c5b"
      },
      "outputs": [
        {
          "output_type": "stream",
          "name": "stdout",
          "text": [
            "Evaluation \t Proposed point \t  Current eval. \t  Best eval. \t        Exact CBM: StdDev. x \t Approx CBM: StdDev. x \n",
            "init\t [ 2.84367268 -2.68757791]\t 15.30954934064491\t 7.271500601275535\t    \t    \n",
            "init\t [3.32061217 4.76927179]\t 33.772418600555795\t 7.271500601275535\t    \t    \n",
            "init\t [ 4.83943541 -0.47667971]\t 23.647358595121606\t 7.271500601275535\t    \t    \n",
            "init\t [1.11659482 2.82139151]\t 9.20703403927425\t 7.271500601275535\t    \t    \n",
            "init\t [1.45012065 2.27346667]\t 7.271500601275535\t 7.271500601275535\t    \t    \n",
            "1  \t [-4.39576519 -2.6770843 ]\t 26.489531934443164\t 7.271500601275535\t 2.8919676010480955\t 3.2492835070214614\n",
            "2  \t [-3.79951158  2.66817074]\t 21.555423384397365\t 7.271500601275535\t 2.8282994227476164\t 3.8242424251913754\n",
            "3  \t [-0.69845656 -5.12      ]\t 26.70224156408561\t 7.271500601275535\t 2.7276692763999133\t 3.739885462514756\n",
            "\u001b[1m\u001b[92m4\u001b[0m\t \u001b[1m\u001b[92m[-0.6909091 -0.8542809]\u001b[0m\t \u001b[1m\u001b[92m1.2071512531047406\u001b[0m\t \u001b[1m\u001b[92m1.2071512531047406\u001b[0m\t \u001b[1m\u001b[92m2.7222330564590886\u001b[0m\t \u001b[1m\u001b[92m3.5730649339846288\u001b[0m\n",
            "5  \t [ 4.14716235 -5.12      ]\t 43.41335558193167\t 1.2071512531047406\t 3.4961244647128296\t 3.910044061416487\n",
            "6  \t [-0.63186633  5.12      ]\t 26.613655062852825\t 1.2071512531047406\t 2.810026878377413\t 3.440804826625161\n",
            "7  \t [-5.12        0.17135564]\t 26.243762754559988\t 1.2071512531047406\t 3.131123865113328\t 3.984157246395094\n",
            "8  \t [5.12       2.42799329]\t 32.10955140416329\t 1.2071512531047406\t 3.260201535645575\t 3.5728113076686507\n",
            "9  \t [-1.2016151   1.14539445]\t 2.7558072852581867\t 1.2071512531047406\t 2.921108219256568\t 3.3334832133660903\n",
            "10 \t [ 1.33818055 -0.21627146]\t 1.8375005308090828\t 1.2071512531047406\t 3.077544509220021\t 3.3340029797811273\n",
            "11 \t [-5.12 -5.12]\t 52.4288\t 1.2071512531047406\t 3.5239519682648255\t 3.7206640069733696\n",
            "12 \t [ 0.18025264 -2.47886762]\t 6.177275669244085\t 1.2071512531047406\t 2.8679697665404666\t 2.910959374635405\n",
            "13 \t [-2.35123338 -0.84798433]\t 6.247375819734697\t 1.2071512531047406\t 3.104198872724468\t 3.8095952924946848\n",
            "14 \t [2.74642089 0.70058028]\t 8.033640440276368\t 1.2071512531047406\t 2.6913196630422473\t 3.153841033220165\n",
            "15 \t [-3.34831111  5.12      ]\t 37.4255873009698\t 1.2071512531047406\t 2.9298417305065123\t 3.762076281043469\n",
            "\u001b[1m\u001b[92m16\u001b[0m\t \u001b[1m\u001b[92m[0.14440212 0.69192685]\u001b[0m\t \u001b[1m\u001b[92m0.49961473392308187\u001b[0m\t \u001b[1m\u001b[92m0.49961473392308187\u001b[0m\t \u001b[1m\u001b[92m2.481390557896884\u001b[0m\t \u001b[1m\u001b[92m2.9138840725994246\u001b[0m\n",
            "17 \t [-1.36629531  2.78573315]\t 9.627072068405749\t 0.49961473392308187\t 3.1694520938184683\t 3.733543399526759\n",
            "18 \t [-1.95304332 -3.09618229]\t 13.400722986012182\t 0.49961473392308187\t 2.323917913343789\t 3.1425704134049206\n",
            "19 \t [ 1.53421048 -4.90001874]\t 26.363985411882787\t 0.49961473392308187\t 2.6525262480696115\t 3.349857614022252\n",
            "20 \t [-3.01288773 -4.81547438]\t 32.266286026685606\t 0.49961473392308187\t 3.3594207856599696\t 3.899620063766154\n"
          ]
        }
      ],
      "source": [
        "### EXACT STP CBM GRADIENTS\n",
        "\n",
        "np.random.seed(run_num_13)\n",
        "surrogate_exact_13 = dtStudentProcess(cov_func, optimize=opt, nu = df)\n",
        "\n",
        "exact_13 = dGPGO(surrogate_exact_13, Acquisition_grad(util), objfunc, param)\n",
        "exact_13.run(init_evals=n_init, max_iter=iters)\n"
      ]
    },
    {
      "cell_type": "code",
      "execution_count": 47,
      "metadata": {
        "id": "k6GjFBr1JTJf",
        "colab": {
          "base_uri": "https://localhost:8080/"
        },
        "outputId": "fcb157a0-68fa-49f2-80ed-7f9eee2bc120"
      },
      "outputs": [
        {
          "output_type": "stream",
          "name": "stdout",
          "text": [
            "Evaluation \t Proposed point \t  Current eval. \t  Best eval. \t        Exact CBM: StdDev. x \t Approx CBM: StdDev. x \n",
            "init\t [0.14277984 2.79721013]\t 7.844770612568215\t 3.480496204392171\t    \t    \n",
            "init\t [ 3.7931795  -5.03759925]\t 39.765616906968944\t 3.480496204392171\t    \t    \n",
            "init\t [-1.94830412  4.68586229]\t 25.753194366239512\t 3.480496204392171\t    \t    \n",
            "init\t [ 0.13431513 -1.86076749]\t 3.480496204392171\t 3.480496204392171\t    \t    \n",
            "init\t [ 0.40140736 -2.85434939]\t 8.308438305616814\t 3.480496204392171\t    \t    \n",
            "1  \t [-5.12       -0.39931628]\t 26.373853495306697\t 3.480496204392171\t 3.8397395906978184\t 3.965155674358574\n",
            "2  \t [5.12 5.12]\t 52.4288\t 3.480496204392171\t 4.043745307599422\t 3.9894256526163825\n",
            "3  \t [ 5.11495505 -0.04484811]\t 26.164776525302724\t 3.480496204392171\t 3.145931179154629\t 3.3709554990793915\n",
            "4  \t [-3.93556487 -5.12      ]\t 41.70307083257957\t 3.480496204392171\t 2.942248620468531\t 3.4103580606675177\n",
            "\u001b[1m\u001b[92m5\u001b[0m\t \u001b[1m\u001b[92m[1.62952212 0.38169222]\u001b[0m\t \u001b[1m\u001b[92m2.8010312894531837\u001b[0m\t \u001b[1m\u001b[92m2.8010312894531837\u001b[0m\t \u001b[1m\u001b[92m2.974193942756983\u001b[0m\t \u001b[1m\u001b[92m2.4515530295288115\u001b[0m\n",
            "6  \t [-1.70955216  0.24209482]\t 2.981178490257771\t 2.8010312894531837\t 2.727062156916503\t 2.9772873319481707\n",
            "7  \t [1.77761117 5.11918227]\t 29.36592855941027\t 2.8010312894531837\t 2.6703710414826882\t 3.020577492047386\n",
            "8  \t [-5.12        3.31191369]\t 37.18317226871465\t 2.8010312894531837\t 2.8897505717940852\t 3.784546582142964\n",
            "9  \t [-0.54853662 -5.12      ]\t 26.515292427748882\t 2.8010312894531837\t 2.9421025019555054\t 3.0162281390557153\n",
            "10 \t [-2.64553989 -1.99554317]\t 10.981073888853729\t 2.8010312894531837\t 2.6355057750570663\t 2.8871336891855135\n",
            "11 \t [ 2.89480504 -1.9888008 ]\t 12.335224829156866\t 2.8010312894531837\t 3.16391221632776\t 3.069545231659391\n",
            "12 \t [2.99840433 2.33657298]\t 14.450001808956646\t 2.8010312894531837\t 2.8515023132012844\t 3.2303833168513547\n",
            "13 \t [-2.70353777  1.91540745]\t 10.977902217380846\t 2.8010312894531837\t 2.839293814462753\t 3.2923038924963186\n",
            "\u001b[1m\u001b[92m14\u001b[0m\t \u001b[1m\u001b[92m[-0.02951249  0.10128494]\u001b[0m\t \u001b[1m\u001b[92m0.01112962687126788\u001b[0m\t \u001b[1m\u001b[92m0.01112962687126788\u001b[0m\t \u001b[1m\u001b[92m2.644763880699809\u001b[0m\t \u001b[1m\u001b[92m3.0242172862514494\u001b[0m\n",
            "15 \t [-5.12       -2.84934877]\t 34.3331883938562\t 0.01112962687126788\t 3.065316490940396\t 3.03803483730591\n",
            "16 \t [ 4.91509414 -2.5562523 ]\t 30.692576206824093\t 0.01112962687126788\t 2.9027134822707574\t 2.9315884597961857\n",
            "17 \t [-0.48380411  1.3177306 ]\t 1.9704803550659011\t 0.01112962687126788\t 2.4711844021295586\t 2.958946200054167\n",
            "18 \t [-1.43247821 -3.69528749]\t 15.707143455071943\t 0.01112962687126788\t 2.60521793768569\t 2.703267234942804\n",
            "19 \t [5.12       2.38914779]\t 31.922427159827425\t 0.01112962687126788\t 2.7449732792474855\t 2.9883611808078974\n",
            "20 \t [-1.48141623  2.71587664]\t 9.57057995776074\t 0.01112962687126788\t 2.7877323507950984\t 3.4353109815202107\n"
          ]
        }
      ],
      "source": [
        "### EXACT STP CBM GRADIENTS\n",
        "\n",
        "np.random.seed(run_num_14)\n",
        "surrogate_exact_14 = dtStudentProcess(cov_func, optimize=opt, nu = df)\n",
        "\n",
        "exact_14 = dGPGO(surrogate_exact_14, Acquisition_grad(util), objfunc, param)\n",
        "exact_14.run(init_evals=n_init, max_iter=iters)\n"
      ]
    },
    {
      "cell_type": "code",
      "execution_count": 48,
      "metadata": {
        "id": "dPS8WB3aJTN6",
        "colab": {
          "base_uri": "https://localhost:8080/"
        },
        "outputId": "9ad8865a-8400-4b80-fede-5631c5700dd8"
      },
      "outputs": [
        {
          "output_type": "stream",
          "name": "stdout",
          "text": [
            "Evaluation \t Proposed point \t  Current eval. \t  Best eval. \t        Exact CBM: StdDev. x \t Approx CBM: StdDev. x \n",
            "init\t [ 3.57189322 -3.28810573]\t 23.57006045912445\t 5.383887924980681\t    \t    \n",
            "init\t [-4.56332069 -1.41784631]\t 22.834183843344235\t 5.383887924980681\t    \t    \n",
            "init\t [-2.29989449  0.3072023 ]\t 5.383887924980681\t 5.383887924980681\t    \t    \n",
            "init\t [-1.9873903  -2.00218256]\t 7.958455228543059\t 5.383887924980681\t    \t    \n",
            "init\t [-3.97576933 -2.5610341 ]\t 22.365637431409507\t 5.383887924980681\t    \t    \n",
            "1  \t [2.7754098  2.98802689]\t 16.631204280641075\t 5.383887924980681\t 3.701239027543425\t 3.78243096118275\n",
            "2  \t [-4.96631946  4.09324664]\t 41.418997080443965\t 5.383887924980681\t 2.796739421472107\t 3.856676379403196\n",
            "3  \t [-0.34543406 -5.12      ]\t 26.3337246887243\t 5.383887924980681\t 3.699196659645488\t 3.957633644074781\n",
            "4  \t [-0.72728944  5.12      ]\t 26.743349935304057\t 5.383887924980681\t 2.856773230050534\t 3.302713996394887\n",
            "5  \t [5.12       0.23315773]\t 26.268762526654715\t 5.383887924980681\t 3.951472698221959\t 3.2051383032197975\n",
            "\u001b[1m\u001b[92m6\u001b[0m\t \u001b[1m\u001b[92m[ 1.20552033 -0.49372742]\u001b[0m\t \u001b[1m\u001b[92m1.697046017971457\u001b[0m\t \u001b[1m\u001b[92m1.697046017971457\u001b[0m\t \u001b[1m\u001b[92m3.5871796947430887\u001b[0m\t \u001b[1m\u001b[92m3.7570079585900524\u001b[0m\n",
            "7  \t [5.12 5.12]\t 52.4288\t 1.697046017971457\t 3.366344461608963\t 3.491139104330097\n",
            "8  \t [-5.12 -5.12]\t 52.4288\t 1.697046017971457\t 3.529640249404061\t 3.7934822876275405\n",
            "9  \t [-0.07978112  1.73791017]\t 3.026696778415451\t 1.697046017971457\t 2.2995977932003067\t 2.954677502599202\n",
            "10 \t [ 0.96770835 -2.63031764]\t 7.8550303460481645\t 1.697046017971457\t 2.434846062711606\t 3.2599246996222733\n",
            "11 \t [-4.91164168  1.11427315]\t 25.365828686356373\t 1.697046017971457\t 2.4742495519850425\t 2.992829639067712\n",
            "12 \t [-1.97727884  2.48191768]\t 10.06954696067828\t 1.697046017971457\t 2.57644148126362\t 3.5915971120692856\n",
            "13 \t [1.93205705 5.12      ]\t 29.947244456089415\t 1.697046017971457\t 3.0470391282695157\t 3.50554993305995\n",
            "\u001b[1m\u001b[92m14\u001b[0m\t \u001b[1m\u001b[92m[-0.39816746 -0.57342189]\u001b[0m\t \u001b[1m\u001b[92m0.48734999199702594\u001b[0m\t \u001b[1m\u001b[92m0.48734999199702594\u001b[0m\t \u001b[1m\u001b[92m2.6994257235215118\u001b[0m\t \u001b[1m\u001b[92m2.9709293856411474\u001b[0m\n",
            "15 \t [2.67397398 0.08530962]\t 7.157414557800031\t 0.48734999199702594\t 2.512499254666567\t 3.0772289794071916\n",
            "16 \t [-2.566763   -4.95714032]\t 31.161512493324214\t 0.48734999199702594\t 2.752685771353347\t 3.244724437393242\n",
            "17 \t [1.2292829  1.37081928]\t 3.3902819536265394\t 0.48734999199702594\t 2.1938374616482736\t 3.063610085407993\n",
            "18 \t [ 1.84250742 -4.88289603]\t 27.23750723054513\t 0.48734999199702594\t 2.3788831370562087\t 3.503705477093883\n",
            "19 \t [5.12       2.59345129]\t 32.94038961195345\t 0.48734999199702594\t 2.8021213116772583\t 3.163690023820575\n",
            "20 \t [0.22399138 3.22797744]\t 10.470010497345482\t 0.48734999199702594\t 2.196462902349888\t 2.837857733891387\n"
          ]
        }
      ],
      "source": [
        "### EXACT STP CBM GRADIENTS\n",
        "\n",
        "np.random.seed(run_num_15)\n",
        "surrogate_exact_15 = dtStudentProcess(cov_func, optimize=opt, nu = df)\n",
        "\n",
        "exact_15 = dGPGO(surrogate_exact_15, Acquisition_grad(util), objfunc, param)\n",
        "exact_15.run(init_evals=n_init, max_iter=iters)\n"
      ]
    },
    {
      "cell_type": "code",
      "execution_count": 49,
      "metadata": {
        "id": "lu8ki9XIQPPN",
        "colab": {
          "base_uri": "https://localhost:8080/"
        },
        "outputId": "24a7aa5b-3f38-4093-f9c2-28cc56d8f8d1"
      },
      "outputs": [
        {
          "output_type": "stream",
          "name": "stdout",
          "text": [
            "Evaluation \t Proposed point \t  Current eval. \t  Best eval. \t        Exact CBM: StdDev. x \t Approx CBM: StdDev. x \n",
            "init\t [-2.83349935  0.23719262]\t 8.084978900492077\t 8.084978900492077\t    \t    \n",
            "init\t [ 0.51918292 -4.65303603]\t 21.92029520206884\t 8.084978900492077\t    \t    \n",
            "init\t [-1.42613673 -2.83565116]\t 10.074783446012654\t 8.084978900492077\t    \t    \n",
            "init\t [ 1.9325559  -3.44339021]\t 15.591708419712269\t 8.084978900492077\t    \t    \n",
            "init\t [-4.39987336  4.51595121]\t 39.75270093978162\t 8.084978900492077\t    \t    \n",
            "1  \t [2.142749   4.83374619]\t 27.956475467604665\t 8.084978900492077\t 3.770373239712781\t 3.9857950364425045\n",
            "2  \t [5.12       0.52149751]\t 26.48635965067031\t 8.084978900492077\t 3.46275802380559\t 3.482375227726047\n",
            "3  \t [-5.12 -5.12]\t 52.4288\t 8.084978900492077\t 3.621548156631448\t 3.834951712311264\n",
            "\u001b[1m\u001b[92m4\u001b[0m\t \u001b[1m\u001b[92m[0.95309722 0.73987431]\u001b[0m\t \u001b[1m\u001b[92m1.4558083148884697\u001b[0m\t \u001b[1m\u001b[92m1.4558083148884697\u001b[0m\t \u001b[1m\u001b[92m2.965504046311803\u001b[0m\t \u001b[1m\u001b[92m3.382992577722088\u001b[0m\n",
            "5  \t [-0.9401798   2.97917869]\t 9.75944371009775\t 1.4558083148884697\t 3.0624248658710593\t 3.258691952360334\n",
            "6  \t [ 5.12       -3.28948306]\t 37.03509877555457\t 1.4558083148884697\t 3.7541419589308482\t 4.156401384412898\n",
            "7  \t [5.12 5.12]\t 52.4288\t 1.4558083148884697\t 2.88995754993262\t 3.4105517158730185\n",
            "8  \t [-5.0128087  -1.69183447]\t 27.990554992663697\t 1.4558083148884697\t 2.4614057001251988\t 2.8650026374486415\n",
            "9  \t [ 2.40192684 -0.77169463]\t 6.3647651536064505\t 1.4558083148884697\t 2.7696612804164062\t 2.7946941811887465\n",
            "10 \t [-5.12        1.46997209]\t 28.375217946492292\t 1.4558083148884697\t 2.7770023013299587\t 3.5190627965703136\n",
            "11 \t [2.69100749 1.95990277]\t 11.082740170959998\t 1.4558083148884697\t 2.6025942014118404\t 3.014623676028888\n",
            "\u001b[1m\u001b[92m12\u001b[0m\t \u001b[1m\u001b[92m[-0.45661796 -0.53205686]\u001b[0m\t \u001b[1m\u001b[92m0.491584457601996\u001b[0m\t \u001b[1m\u001b[92m0.491584457601996\u001b[0m\t \u001b[1m\u001b[92m3.015513664390644\u001b[0m\t \u001b[1m\u001b[92m3.8226729925379335\u001b[0m\n",
            "13 \t [-0.24184278  4.8960965 ]\t 24.030248880120464\t 0.491584457601996\t 2.281258079910271\t 2.907572119486622\n",
            "14 \t [-2.30252003 -4.80362807]\t 28.376441090775327\t 0.491584457601996\t 2.2249990301064937\t 3.0215787881168232\n",
            "15 \t [-1.48427574  1.33666224]\t 3.9897404215037366\t 0.491584457601996\t 2.6811675253491747\t 3.15101774569182\n",
            "16 \t [ 0.46905277 -1.49346672]\t 2.4504533548257026\t 0.491584457601996\t 1.8587459146482848\t 2.082303866196144\n",
            "17 \t [0.70442007 2.246206  ]\t 5.541649031252455\t 0.491584457601996\t 2.8268731430190472\t 3.0100949936768515\n",
            "18 \t [-1.9485723  -1.23757347]\t 5.328522103073667\t 0.491584457601996\t 2.5557718070531488\t 2.7583805373264214\n",
            "19 \t [-2.71067635  2.34749103]\t 12.858480405810461\t 0.491584457601996\t 2.224697828971708\t 2.3956273134989705\n",
            "20 \t [ 3.45569769 -4.61735471]\t 33.261811060304616\t 0.491584457601996\t 2.992193275463659\t 2.664727721512191\n"
          ]
        }
      ],
      "source": [
        "### EXACT STP CBM GRADIENTS\n",
        "\n",
        "np.random.seed(run_num_16)\n",
        "surrogate_exact_16 = dtStudentProcess(cov_func, optimize=opt, nu = df)\n",
        "\n",
        "exact_16 = dGPGO(surrogate_exact_16, Acquisition_grad(util), objfunc, param)\n",
        "exact_16.run(init_evals=n_init, max_iter=iters)\n"
      ]
    },
    {
      "cell_type": "code",
      "execution_count": 50,
      "metadata": {
        "id": "yU2SflSsJTUs",
        "colab": {
          "base_uri": "https://localhost:8080/"
        },
        "outputId": "a972c440-f361-49ac-992f-949ec40d5903"
      },
      "outputs": [
        {
          "output_type": "stream",
          "name": "stdout",
          "text": [
            "Evaluation \t Proposed point \t  Current eval. \t  Best eval. \t        Exact CBM: StdDev. x \t Approx CBM: StdDev. x \n",
            "init\t [-2.10263037  0.31320838]\t 4.519153970964611\t 2.5824114132885994\t    \t    \n",
            "init\t [-3.15882714 -4.42470033]\t 29.556161939946307\t 2.5824114132885994\t    \t    \n",
            "init\t [2.93873111 1.60085526]\t 11.198878112253603\t 2.5824114132885994\t    \t    \n",
            "init\t [1.40821398 0.77417363]\t 2.5824114132885994\t 2.5824114132885994\t    \t    \n",
            "init\t [-4.71999574 -1.45598869]\t 24.39826283453718\t 2.5824114132885994\t    \t    \n",
            "1  \t [ 4.96008736 -4.44720822]\t 44.38012757656366\t 2.5824114132885994\t 3.2858857484366686\t 4.43427370770674\n",
            "2  \t [-1.21672746  5.12      ]\t 27.694825722649476\t 2.5824114132885994\t 3.1675385092402255\t 3.4649990152802888\n",
            "3  \t [5.12 5.12]\t 52.4288\t 2.5824114132885994\t 3.048007456072227\t 3.4882104375543204\n",
            "4  \t [ 0.89828804 -3.04939782]\t 10.105748489027746\t 2.5824114132885994\t 3.2368338336743547\t 3.882996148317409\n",
            "5  \t [ 5.12       -0.62948084]\t 26.6106461339233\t 2.5824114132885994\t 2.626155050254116\t 3.502956918386338\n",
            "6  \t [-5.12        2.95221798]\t 34.92999097457022\t 2.5824114132885994\t 2.6698768464340827\t 3.2084136314155156\n",
            "7  \t [1.81740325 4.68407545]\t 25.243517381489546\t 2.5824114132885994\t 2.9199555903573335\t 2.7218253550108336\n",
            "8  \t [-1.06698038  2.29481694]\t 6.404631914986403\t 2.5824114132885994\t 3.227203260923611\t 3.0477861485861912\n",
            "9  \t [-0.51080932 -5.12      ]\t 26.475326160663304\t 2.5824114132885994\t 3.1978517740990307\t 3.3917647013609895\n",
            "\u001b[1m\u001b[92m10\u001b[0m\t \u001b[1m\u001b[92m[-0.03013284 -0.8203913 ]\u001b[0m\t \u001b[1m\u001b[92m0.6739498776072766\u001b[0m\t \u001b[1m\u001b[92m0.6739498776072766\u001b[0m\t \u001b[1m\u001b[92m2.3192454701874072\u001b[0m\t \u001b[1m\u001b[92m2.777469644492119\u001b[0m\n",
            "11 \t [ 2.68982498 -1.72244966]\t 10.201991261069317\t 0.6739498776072766\t 3.1271495690773805\t 3.0744183911120277\n",
            "12 \t [-1.71390426 -1.83285748]\t 6.2968343470263\t 0.6739498776072766\t 2.9949250956083393\t 3.2877820182796973\n",
            "13 \t [5.12       2.17349073]\t 30.93846197045552\t 0.6739498776072766\t 2.3884062876303607\t 2.6287980122322923\n",
            "14 \t [-5.12 -5.12]\t 52.4288\t 0.6739498776072766\t 2.3740955343021835\t 3.372016236651955\n",
            "15 \t [-3.75411259  0.89881455]\t 14.90122895279315\t 0.6739498776072766\t 2.3465539721892736\t 2.864914797096284\n",
            "16 \t [0.7665497  2.37102003]\t 6.209334399735578\t 0.6739498776072766\t 2.49251787844018\t 2.588763776987602\n",
            "17 \t [ 2.30263682 -5.12      ]\t 31.51653630669935\t 0.6739498776072766\t 2.7334225753639134\t 3.2209526101830708\n",
            "\u001b[1m\u001b[92m18\u001b[0m\t \u001b[1m\u001b[92m[-0.14494793  0.45224488]\u001b[0m\t \u001b[1m\u001b[92m0.22553533533764183\u001b[0m\t \u001b[1m\u001b[92m0.22553533533764183\u001b[0m\t \u001b[1m\u001b[92m2.6591821796210526\u001b[0m\t \u001b[1m\u001b[92m2.777743467511966\u001b[0m\n",
            "19 \t [-2.46712092  2.75101653]\t 13.65477759914766\t 0.22553533533764183\t 2.3636821963767076\t 2.375773845469791\n",
            "20 \t [4.00633764 1.97013235]\t 19.932162760800733\t 0.22553533533764183\t 2.9852566569611403\t 2.9336058176778574\n"
          ]
        }
      ],
      "source": [
        "### EXACT STP CBM GRADIENTS\n",
        "\n",
        "np.random.seed(run_num_17)\n",
        "surrogate_exact_17 = dtStudentProcess(cov_func, optimize=opt, nu = df)\n",
        "\n",
        "exact_17 = dGPGO(surrogate_exact_17, Acquisition_grad(util), objfunc, param)\n",
        "exact_17.run(init_evals=n_init, max_iter=iters)\n"
      ]
    },
    {
      "cell_type": "code",
      "execution_count": 51,
      "metadata": {
        "id": "eVEhyZ9BQS-1",
        "colab": {
          "base_uri": "https://localhost:8080/"
        },
        "outputId": "06636575-229e-4e01-d8c2-1412e07c21d9"
      },
      "outputs": [
        {
          "output_type": "stream",
          "name": "stdout",
          "text": [
            "Evaluation \t Proposed point \t  Current eval. \t  Best eval. \t        Exact CBM: StdDev. x \t Approx CBM: StdDev. x \n",
            "init\t [1.53983224 0.05584255]\t 2.3742017032787373\t 2.3742017032787373\t    \t    \n",
            "init\t [ 3.87687906 -3.25795609]\t 25.644469161882945\t 2.3742017032787373\t    \t    \n",
            "init\t [3.60686662 2.56139557]\t 19.570234102364928\t 2.3742017032787373\t    \t    \n",
            "init\t [1.70088108 4.99604939]\t 27.853505942237412\t 2.3742017032787373\t    \t    \n",
            "init\t [-2.48864335 -4.83014733]\t 29.523668919355142\t 2.3742017032787373\t    \t    \n",
            "1  \t [-5.00718904  2.9174042 ]\t 33.58318939621877\t 2.3742017032787373\t 3.108342517041192\t 3.8413105792923323\n",
            "2  \t [-5.12      -1.4595722]\t 28.344751003403918\t 2.3742017032787373\t 2.851561430698978\t 3.07514576094284\n",
            "3  \t [-1.57160026  0.50583389]\t 2.725795314586598\t 2.3742017032787373\t 3.3922433795993983\t 3.2949516380213484\n",
            "4  \t [-1.95832784  5.12      ]\t 30.049447947010826\t 2.3742017032787373\t 3.1964783835788206\t 3.739606267640841\n",
            "5  \t [ 0.14719712 -2.40720737]\t 5.816314318007008\t 2.3742017032787373\t 3.1191003114453895\t 2.968392811426841\n",
            "6  \t [ 0.74737375 -5.11478307]\t 26.719573358838574\t 2.3742017032787373\t 3.1991239620641125\t 3.3974782568241553\n",
            "7  \t [ 5.12       -0.22244579]\t 26.263882131655695\t 2.3742017032787373\t 2.8448661513610896\t 3.5812490388553955\n",
            "8  \t [5.12 5.12]\t 52.4288\t 2.3742017032787373\t 2.5807698267715584\t 3.1789963222202595\n",
            "9  \t [-0.39394369  2.47903976]\t 6.30082978385674\t 2.3742017032787373\t 2.9927342150210756\t 2.943805115802077\n",
            "10 \t [-5.12 -5.12]\t 52.4288\t 2.3742017032787373\t 3.0849662349118314\t 3.2884105149247427\n",
            "11 \t [-2.37658141 -1.31499082]\t 7.377340039173881\t 2.3742017032787373\t 2.7866685112829197\t 3.34536153894305\n",
            "12 \t [-3.32568388  0.86131648]\t 11.802039325254523\t 2.3742017032787373\t 2.320123053783589\t 2.9003356814032\n",
            "\u001b[1m\u001b[92m13\u001b[0m\t \u001b[1m\u001b[92m[-0.0574686   0.36823743]\u001b[0m\t \u001b[1m\u001b[92m0.13890144308348507\u001b[0m\t \u001b[1m\u001b[92m0.13890144308348507\u001b[0m\t \u001b[1m\u001b[92m2.772104145310283\u001b[0m\t \u001b[1m\u001b[92m2.6671800479842607\u001b[0m\n",
            "14 \t [1.45931604 1.66718122]\t 4.909096536991088\t 0.13890144308348507\t 2.215626943851899\t 2.4116951937396376\n",
            "15 \t [-4.38457258  5.12      ]\t 45.43887668864619\t 0.13890144308348507\t 2.8003776801446754\t 3.5570487532932415\n",
            "16 \t [ 2.34859203 -1.69493039]\t 8.388673522054788\t 0.13890144308348507\t 1.9808565536933276\t 2.070900903008991\n",
            "17 \t [ 3.95532518 -5.12      ]\t 41.858997318460766\t 0.13890144308348507\t 2.6994725865221976\t 3.0101738151231667\n",
            "18 \t [-2.63735788  3.00289659]\t 15.97304449006992\t 0.13890144308348507\t 3.0238219460812736\t 3.0939738862776935\n",
            "19 \t [-0.71569423 -0.78417876]\t 1.127154553132495\t 0.13890144308348507\t 2.481778590603047\t 2.7208181083865965\n",
            "20 \t [-5.12        0.68652142]\t 26.685711664251148\t 0.13890144308348507\t 2.6418517507576462\t 3.234239408008538\n"
          ]
        }
      ],
      "source": [
        "### EXACT STP CBM GRADIENTS\n",
        "\n",
        "np.random.seed(run_num_18)\n",
        "surrogate_exact_18 = dtStudentProcess(cov_func, optimize=opt, nu = df)\n",
        "\n",
        "exact_18 = dGPGO(surrogate_exact_18, Acquisition_grad(util), objfunc, param)\n",
        "exact_18.run(init_evals=n_init, max_iter=iters)\n"
      ]
    },
    {
      "cell_type": "code",
      "execution_count": 52,
      "metadata": {
        "id": "B6gTz1ojQUxn",
        "colab": {
          "base_uri": "https://localhost:8080/"
        },
        "outputId": "e7dca50b-f5d0-47e0-e4e8-84797bacd407"
      },
      "outputs": [
        {
          "output_type": "stream",
          "name": "stdout",
          "text": [
            "Evaluation \t Proposed point \t  Current eval. \t  Best eval. \t        Exact CBM: StdDev. x \t Approx CBM: StdDev. x \n",
            "init\t [-4.12125592  2.6751971 ]\t 24.141429859518958\t 12.957869519084127\t    \t    \n",
            "init\t [-2.59135515 -3.70553152]\t 20.446085385698954\t 12.957869519084127\t    \t    \n",
            "init\t [-1.72598719 -4.27008445]\t 21.212653034418548\t 12.957869519084127\t    \t    \n",
            "init\t [1.76104531 3.13952049]\t 12.957869519084127\t 12.957869519084127\t    \t    \n",
            "init\t [4.9432772  1.38916592]\t 26.36577149009895\t 12.957869519084127\t    \t    \n",
            "1  \t [ 4.82675686 -3.73091346]\t 37.21729699642604\t 12.957869519084127\t 3.3817040632905235\t 4.581472599601317\n",
            "\u001b[1m\u001b[92m2\u001b[0m\t \u001b[1m\u001b[92m[-0.64340397 -0.04893823]\u001b[0m\t \u001b[1m\u001b[92m0.416363613280225\u001b[0m\t \u001b[1m\u001b[92m0.416363613280225\u001b[0m\t \u001b[1m\u001b[92m3.5694517936442285\u001b[0m\t \u001b[1m\u001b[92m3.8345578600841\u001b[0m\n",
            "3  \t [5.12 5.12]\t 52.4288\t 0.416363613280225\t 3.7780140403522924\t 3.988423898338755\n",
            "4  \t [-5.12       -1.17313967]\t 27.590656690947878\t 0.416363613280225\t 3.049823529803396\t 3.562370091991661\n",
            "5  \t [ 1.47297291 -2.01066599]\t 6.212426911285101\t 0.416363613280225\t 2.7906464134978295\t 2.8853795106497753\n",
            "6  \t [-0.98922042  4.45332209]\t 20.81063466017221\t 0.416363613280225\t 3.4562855825488294\t 3.5226020618038185\n",
            "7  \t [-5.12 -5.12]\t 52.4288\t 0.416363613280225\t 3.293909940496419\t 3.3949830670743597\n",
            "8  \t [ 1.26392537 -4.96487323]\t 26.247473534483206\t 0.416363613280225\t 2.3612604219596625\t 3.1408417415540746\n",
            "9  \t [1.52560752 0.46553293]\t 2.5441992180480035\t 0.416363613280225\t 2.478287862496446\t 3.0498783221743313\n",
            "10 \t [-2.27135747 -0.72324609]\t 5.682149642017555\t 0.416363613280225\t 3.019786549165643\t 3.0933758836126155\n",
            "11 \t [-0.42782823  1.6045022 ]\t 2.7574643179708342\t 0.416363613280225\t 2.3044648806084793\t 3.241406048605512\n",
            "12 \t [ 3.79683155 -1.11753315]\t 15.664810170494905\t 0.416363613280225\t 2.90848565572102\t 2.9280828899643283\n",
            "13 \t [-2.19944141  1.48514055]\t 7.043184965325713\t 0.416363613280225\t 2.929509890425417\t 3.373920750501352\n",
            "14 \t [1.97319014 5.12      ]\t 30.10787933669947\t 0.416363613280225\t 2.6623551912639707\t 2.8886963253008737\n",
            "15 \t [-3.21686628  4.88025735]\t 34.16514047455189\t 0.416363613280225\t 2.856539232061627\t 2.6662411930538874\n",
            "16 \t [-0.41562249 -1.93854785]\t 3.930709804696976\t 0.416363613280225\t 2.3304656490866478\t 2.978140721058288\n",
            "17 \t [-5.12        0.90186468]\t 27.027759893603847\t 0.416363613280225\t 2.434516459852569\t 2.639445278465804\n",
            "18 \t [0.6428676  1.89964628]\t 4.0219347310362155\t 0.416363613280225\t 3.1095935477423375\t 2.9718321965791374\n",
            "19 \t [ 2.82830854 -4.08448637]\t 24.68235806848893\t 0.416363613280225\t 2.4890517895595345\t 2.8567510370438534\n",
            "20 \t [ 0.66061675 -0.61408867]\t 0.8135193843818944\t 0.416363613280225\t 2.4864465954398463\t 2.399198352293327\n"
          ]
        }
      ],
      "source": [
        "### EXACT STP CBM GRADIENTS\n",
        "\n",
        "np.random.seed(run_num_19)\n",
        "surrogate_exact_19 = dtStudentProcess(cov_func, optimize=opt, nu = df)\n",
        "\n",
        "exact_19 = dGPGO(surrogate_exact_19, Acquisition_grad(util), objfunc, param)\n",
        "exact_19.run(init_evals=n_init, max_iter=iters)\n"
      ]
    },
    {
      "cell_type": "code",
      "execution_count": 53,
      "metadata": {
        "id": "aw3xvSryIwDi",
        "colab": {
          "base_uri": "https://localhost:8080/"
        },
        "outputId": "41e85653-858a-49e4-c2fa-993ed9ab4a72"
      },
      "outputs": [
        {
          "output_type": "stream",
          "name": "stdout",
          "text": [
            "Evaluation \t Proposed point \t  Current eval. \t  Best eval. \t        Exact CBM: StdDev. x \t Approx CBM: StdDev. x \n",
            "init\t [0.9024594  4.07258857]\t 17.400410665504328\t 1.579257056101869\t    \t    \n",
            "init\t [4.00927467 3.23417577]\t 26.53417627399789\t 1.579257056101869\t    \t    \n",
            "init\t [-4.75249064  1.96359764]\t 26.44188299535699\t 1.579257056101869\t    \t    \n",
            "init\t [-1.24230715  0.18955208]\t 1.579257056101869\t 1.579257056101869\t    \t    \n",
            "init\t [ 1.61742301 -3.13497377]\t 12.44411771617229\t 1.579257056101869\t    \t    \n",
            "1  \t [-3.57610931 -4.97764413]\t 37.56549894958765\t 1.579257056101869\t 3.3423617312460365\t 3.6704771584631093\n",
            "2  \t [ 5.12       -1.03935818]\t 27.29466543595764\t 1.579257056101869\t 2.835347791268537\t 3.643556978322563\n",
            "3  \t [-2.35098336  4.66819546]\t 27.319171600853466\t 1.579257056101869\t 2.8247797389471456\t 3.5951517345958766\n",
            "4  \t [1.54666698 0.38572769]\t 2.5409645901427704\t 1.579257056101869\t 3.290021899340307\t 3.923927275324612\n",
            "5  \t [-5.12       -1.74649541]\t 29.264646223624524\t 1.579257056101869\t 2.7581845730796246\t 3.450530282242935\n",
            "6  \t [ 4.35055192 -4.7755988 ]\t 41.73364591273702\t 1.579257056101869\t 3.381625040690117\t 3.6777708350945777\n",
            "7  \t [-1.6465348  -2.06842461]\t 6.989457199493717\t 1.579257056101869\t 3.8511420116282005\t 3.5625288453353945\n",
            "8  \t [-0.57550282 -4.77980538]\t 23.177742978100316\t 1.579257056101869\t 3.312840330639812\t 3.446418182769462\n",
            "9  \t [-0.31852435  1.75172105]\t 3.1699843960218548\t 1.579257056101869\t 3.6006095954169046\t 3.474953741965018\n",
            "\u001b[1m\u001b[92m10\u001b[0m\t \u001b[1m\u001b[92m[ 0.50803732 -1.14136927]\u001b[0m\t \u001b[1m\u001b[92m1.560825736190122\u001b[0m\t \u001b[1m\u001b[92m1.560825736190122\u001b[0m\t \u001b[1m\u001b[92m3.033206428212943\u001b[0m\t \u001b[1m\u001b[92m3.1262594991857404\u001b[0m\n",
            "11 \t [5.12 5.12]\t 52.4288\t 1.560825736190122\t 3.1289264814923423\t 3.462404344703133\n",
            "12 \t [-2.93674866  0.01959204]\t 8.624876557990033\t 1.560825736190122\t 2.889951756715523\t 3.370990836705569\n",
            "13 \t [3.25996089 0.73266561]\t 11.164143908079415\t 1.560825736190122\t 3.028656084787972\t 3.436345177382166\n",
            "14 \t [-2.18157905  2.24163112]\t 9.7841972475304\t 1.560825736190122\t 2.741090867242011\t 3.212876003990217\n",
            "15 \t [ 2.88616176 -1.71909957]\t 11.28523306992408\t 1.560825736190122\t 2.706361790887363\t 2.663626982304077\n",
            "16 \t [1.58470933 1.88097521]\t 6.049371420629273\t 1.560825736190122\t 2.4847607284357984\t 3.3474543661204823\n",
            "17 \t [ 1.4631129 -5.12     ]\t 28.35509936402535\t 1.560825736190122\t 3.153748064726131\t 3.291889478945924\n",
            "18 \t [2.7525999 5.12     ]\t 33.79120622033082\t 1.560825736190122\t 2.9735521967434932\t 3.6483482443412054\n",
            "19 \t [-4.23861401  3.89101488]\t 33.105845460634995\t 1.560825736190122\t 2.6118304973590503\t 3.37807036836546\n",
            "\u001b[1m\u001b[92m20\u001b[0m\t \u001b[1m\u001b[92m[0.26194986 0.03386672]\u001b[0m\t \u001b[1m\u001b[92m0.06976468354790631\u001b[0m\t \u001b[1m\u001b[92m0.06976468354790631\u001b[0m\t \u001b[1m\u001b[92m2.844687462036218\u001b[0m\t \u001b[1m\u001b[92m2.9753279943491013\u001b[0m\n"
          ]
        }
      ],
      "source": [
        "### EXACT STP CBM GRADIENTS\n",
        "\n",
        "np.random.seed(run_num_20)\n",
        "surrogate_exact_20 = dtStudentProcess(cov_func, optimize=opt, nu = df)\n",
        "\n",
        "exact_20 = dGPGO(surrogate_exact_20, Acquisition_grad(util), objfunc, param)\n",
        "exact_20.run(init_evals=n_init, max_iter=iters)\n"
      ]
    },
    {
      "cell_type": "code",
      "execution_count": 54,
      "metadata": {
        "id": "5c8szjivRPme",
        "colab": {
          "base_uri": "https://localhost:8080/"
        },
        "outputId": "370eb910-8464-4893-9f0f-17f778b4474c"
      },
      "outputs": [
        {
          "output_type": "execute_result",
          "data": {
            "text/plain": [
              "828.4274663925171"
            ]
          },
          "metadata": {},
          "execution_count": 54
        }
      ],
      "source": [
        "end_exact = time.time()\n",
        "end_exact\n",
        "\n",
        "time_exact = end_exact - start_exact\n",
        "time_exact\n"
      ]
    },
    {
      "cell_type": "code",
      "execution_count": 55,
      "metadata": {
        "id": "f6gCKnp6RR8c",
        "colab": {
          "base_uri": "https://localhost:8080/"
        },
        "outputId": "562ec770-42b6-49da-8f36-b8ac25a99517"
      },
      "outputs": [
        {
          "output_type": "execute_result",
          "data": {
            "text/plain": [
              "(-1.4954876834589492, -1.4829918601334797)"
            ]
          },
          "metadata": {},
          "execution_count": 55
        }
      ],
      "source": [
        "### Simple regret minimization: run number = 1\n",
        "\n",
        "approx_output_1 = np.append(np.min(-approx_1.GP.y[0:n_init]),-approx_1.GP.y[n_init:(n_init+iters)]) \n",
        "exact_output_1 = np.append(np.min(-exact_1.GP.y[0:n_init]),-exact_1.GP.y[n_init:(n_init+iters)]) \n",
        "\n",
        "regret_approx_1 = np.log(approx_output_1 - y_global_orig)\n",
        "regret_exact_1 = np.log(exact_output_1 - y_global_orig)\n",
        "\n",
        "simple_regret_approx_1 = min_max_array(regret_approx_1)\n",
        "simple_regret_exact_1 = min_max_array(regret_exact_1)\n",
        "\n",
        "min_simple_regret_approx_1 = min(simple_regret_approx_1)\n",
        "min_simple_regret_exact_1 = min(simple_regret_exact_1)\n",
        "\n",
        "min_simple_regret_approx_1, min_simple_regret_exact_1\n"
      ]
    },
    {
      "cell_type": "code",
      "execution_count": 56,
      "metadata": {
        "id": "94yBw5tqQxfk",
        "colab": {
          "base_uri": "https://localhost:8080/"
        },
        "outputId": "6df0037d-b0ce-4f61-fa32-eb7027d3f18d"
      },
      "outputs": [
        {
          "output_type": "execute_result",
          "data": {
            "text/plain": [
              "(-0.36060216392451794, -0.36060216392451794)"
            ]
          },
          "metadata": {},
          "execution_count": 56
        }
      ],
      "source": [
        "### Simple regret minimization: run number = 2\n",
        "\n",
        "approx_output_2 = np.append(np.min(-approx_2.GP.y[0:n_init]),-approx_2.GP.y[n_init:(n_init+iters)]) \n",
        "exact_output_2 = np.append(np.min(-exact_2.GP.y[0:n_init]),-exact_2.GP.y[n_init:(n_init+iters)]) \n",
        "\n",
        "regret_approx_2 = np.log(approx_output_2 - y_global_orig)\n",
        "regret_exact_2 = np.log(exact_output_2 - y_global_orig)\n",
        "\n",
        "simple_regret_approx_2 = min_max_array(regret_approx_2)\n",
        "simple_regret_exact_2 = min_max_array(regret_exact_2)\n",
        "\n",
        "min_simple_regret_approx_2 = min(simple_regret_approx_2)\n",
        "min_simple_regret_exact_2 = min(simple_regret_exact_2)\n",
        "\n",
        "min_simple_regret_approx_2, min_simple_regret_exact_2\n"
      ]
    },
    {
      "cell_type": "code",
      "execution_count": 57,
      "metadata": {
        "id": "Bu6SBWALQxfl",
        "colab": {
          "base_uri": "https://localhost:8080/"
        },
        "outputId": "05e501b6-6d74-4cda-ba90-aadaa6622f21"
      },
      "outputs": [
        {
          "output_type": "execute_result",
          "data": {
            "text/plain": [
              "(-3.241787401666266, -1.0108454648608918)"
            ]
          },
          "metadata": {},
          "execution_count": 57
        }
      ],
      "source": [
        "### Simple regret minimization: run number = 3\n",
        "\n",
        "approx_output_3 = np.append(np.min(-approx_3.GP.y[0:n_init]),-approx_3.GP.y[n_init:(n_init+iters)]) \n",
        "exact_output_3 = np.append(np.min(-exact_3.GP.y[0:n_init]),-exact_3.GP.y[n_init:(n_init+iters)]) \n",
        "\n",
        "regret_approx_3 = np.log(approx_output_3 - y_global_orig)\n",
        "regret_exact_3 = np.log(exact_output_3 - y_global_orig)\n",
        "\n",
        "simple_regret_approx_3 = min_max_array(regret_approx_3)\n",
        "simple_regret_exact_3 = min_max_array(regret_exact_3)\n",
        "\n",
        "min_simple_regret_approx_3 = min(simple_regret_approx_3)\n",
        "min_simple_regret_exact_3 = min(simple_regret_exact_3)\n",
        "\n",
        "min_simple_regret_approx_3, min_simple_regret_exact_3"
      ]
    },
    {
      "cell_type": "code",
      "execution_count": 58,
      "metadata": {
        "id": "AZm0jgxkQxfm",
        "colab": {
          "base_uri": "https://localhost:8080/"
        },
        "outputId": "c335bd07-fe29-453d-ebc0-ef953bbf3773"
      },
      "outputs": [
        {
          "output_type": "execute_result",
          "data": {
            "text/plain": [
              "(-0.35804778687297023, -0.6069615094224878)"
            ]
          },
          "metadata": {},
          "execution_count": 58
        }
      ],
      "source": [
        "### Simple regret minimization: run number = 4\n",
        "\n",
        "approx_output_4 = np.append(np.min(-approx_4.GP.y[0:n_init]),-approx_4.GP.y[n_init:(n_init+iters)]) \n",
        "exact_output_4 = np.append(np.min(-exact_4.GP.y[0:n_init]),-exact_4.GP.y[n_init:(n_init+iters)]) \n",
        "\n",
        "regret_approx_4 = np.log(approx_output_4 - y_global_orig)\n",
        "regret_exact_4 = np.log(exact_output_4 - y_global_orig)\n",
        "\n",
        "simple_regret_approx_4 = min_max_array(regret_approx_4)\n",
        "simple_regret_exact_4 = min_max_array(regret_exact_4)\n",
        "\n",
        "min_simple_regret_approx_4 = min(simple_regret_approx_4)\n",
        "min_simple_regret_exact_4 = min(simple_regret_exact_4)\n",
        "\n",
        "min_simple_regret_approx_4, min_simple_regret_exact_4"
      ]
    },
    {
      "cell_type": "code",
      "execution_count": 59,
      "metadata": {
        "id": "NONPm8JIQxfn",
        "colab": {
          "base_uri": "https://localhost:8080/"
        },
        "outputId": "d0d0ef12-01ef-423d-ebee-227f441592b4"
      },
      "outputs": [
        {
          "output_type": "execute_result",
          "data": {
            "text/plain": [
              "(-0.674589365853633, -1.8758615766038116)"
            ]
          },
          "metadata": {},
          "execution_count": 59
        }
      ],
      "source": [
        "### Simple regret minimization: run number = 5\n",
        "\n",
        "approx_output_5 = np.append(np.min(-approx_5.GP.y[0:n_init]),-approx_5.GP.y[n_init:(n_init+iters)]) \n",
        "exact_output_5 = np.append(np.min(-exact_5.GP.y[0:n_init]),-exact_5.GP.y[n_init:(n_init+iters)]) \n",
        "\n",
        "regret_approx_5 = np.log(approx_output_5 - y_global_orig)\n",
        "regret_exact_5 = np.log(exact_output_5 - y_global_orig)\n",
        "\n",
        "simple_regret_approx_5 = min_max_array(regret_approx_5)\n",
        "simple_regret_exact_5 = min_max_array(regret_exact_5)\n",
        "\n",
        "min_simple_regret_approx_5 = min(simple_regret_approx_5)\n",
        "min_simple_regret_exact_5 = min(simple_regret_exact_5)\n",
        "\n",
        "min_simple_regret_approx_5, min_simple_regret_exact_5"
      ]
    },
    {
      "cell_type": "code",
      "execution_count": 60,
      "metadata": {
        "id": "CJv3lPuSQxfp",
        "colab": {
          "base_uri": "https://localhost:8080/"
        },
        "outputId": "ac8cfa3f-be59-48ba-ef26-589d7fb96205"
      },
      "outputs": [
        {
          "output_type": "execute_result",
          "data": {
            "text/plain": [
              "(-1.442008095402446, -0.2427442970723533)"
            ]
          },
          "metadata": {},
          "execution_count": 60
        }
      ],
      "source": [
        "### Simple regret minimization: run number = 6\n",
        "\n",
        "approx_output_6 = np.append(np.min(-approx_6.GP.y[0:n_init]),-approx_6.GP.y[n_init:(n_init+iters)]) \n",
        "exact_output_6 = np.append(np.min(-exact_6.GP.y[0:n_init]),-exact_6.GP.y[n_init:(n_init+iters)]) \n",
        "\n",
        "regret_approx_6 = np.log(approx_output_6 - y_global_orig)\n",
        "regret_exact_6 = np.log(exact_output_6 - y_global_orig)\n",
        "\n",
        "simple_regret_approx_6 = min_max_array(regret_approx_6)\n",
        "simple_regret_exact_6 = min_max_array(regret_exact_6)\n",
        "\n",
        "min_simple_regret_approx_6 = min(simple_regret_approx_6)\n",
        "min_simple_regret_exact_6 = min(simple_regret_exact_6)\n",
        "\n",
        "min_simple_regret_approx_6, min_simple_regret_exact_6"
      ]
    },
    {
      "cell_type": "code",
      "execution_count": 61,
      "metadata": {
        "id": "quR2ZyApQxfq",
        "colab": {
          "base_uri": "https://localhost:8080/"
        },
        "outputId": "1db9fc39-9e39-4efb-8377-32c1ef661469"
      },
      "outputs": [
        {
          "output_type": "execute_result",
          "data": {
            "text/plain": [
              "(-1.8955335307116363, -0.5432173355209139)"
            ]
          },
          "metadata": {},
          "execution_count": 61
        }
      ],
      "source": [
        "### Simple regret minimization: run number = 7\n",
        "\n",
        "approx_output_7 = np.append(np.min(-approx_7.GP.y[0:n_init]),-approx_7.GP.y[n_init:(n_init+iters)]) \n",
        "exact_output_7 = np.append(np.min(-exact_7.GP.y[0:n_init]),-exact_7.GP.y[n_init:(n_init+iters)]) \n",
        "\n",
        "regret_approx_7 = np.log(approx_output_7 - y_global_orig)\n",
        "regret_exact_7 = np.log(exact_output_7 - y_global_orig)\n",
        "\n",
        "simple_regret_approx_7 = min_max_array(regret_approx_7)\n",
        "simple_regret_exact_7 = min_max_array(regret_exact_7)\n",
        "\n",
        "min_simple_regret_approx_7 = min(simple_regret_approx_7)\n",
        "min_simple_regret_exact_7 = min(simple_regret_exact_7)\n",
        "\n",
        "min_simple_regret_approx_7, min_simple_regret_exact_7"
      ]
    },
    {
      "cell_type": "code",
      "execution_count": 62,
      "metadata": {
        "id": "99wY5nK6Qxfr",
        "colab": {
          "base_uri": "https://localhost:8080/"
        },
        "outputId": "7b643b4f-c622-4ed3-bfbe-70c7b2e1cec2"
      },
      "outputs": [
        {
          "output_type": "execute_result",
          "data": {
            "text/plain": [
              "(-2.274278581868741, -2.274278581868741)"
            ]
          },
          "metadata": {},
          "execution_count": 62
        }
      ],
      "source": [
        "### Simple regret minimization: run number = 8\n",
        "\n",
        "approx_output_8 = np.append(np.min(-approx_8.GP.y[0:n_init]),-approx_8.GP.y[n_init:(n_init+iters)]) \n",
        "exact_output_8 = np.append(np.min(-exact_8.GP.y[0:n_init]),-exact_8.GP.y[n_init:(n_init+iters)]) \n",
        "\n",
        "regret_approx_8 = np.log(approx_output_8 - y_global_orig)\n",
        "regret_exact_8 = np.log(exact_output_8 - y_global_orig)\n",
        "\n",
        "simple_regret_approx_8 = min_max_array(regret_approx_8)\n",
        "simple_regret_exact_8 = min_max_array(regret_exact_8)\n",
        "\n",
        "min_simple_regret_approx_8 = min(simple_regret_approx_8)\n",
        "min_simple_regret_exact_8 = min(simple_regret_exact_8)\n",
        "\n",
        "min_simple_regret_approx_8, min_simple_regret_exact_8"
      ]
    },
    {
      "cell_type": "code",
      "execution_count": 63,
      "metadata": {
        "id": "qt0P5t9qQxfs",
        "colab": {
          "base_uri": "https://localhost:8080/"
        },
        "outputId": "24e0cb5d-1ea5-4d7b-df47-d0950bb98825"
      },
      "outputs": [
        {
          "output_type": "execute_result",
          "data": {
            "text/plain": [
              "(-1.59868448688407, -0.8553789514851773)"
            ]
          },
          "metadata": {},
          "execution_count": 63
        }
      ],
      "source": [
        "### Simple regret minimization: run number = 9\n",
        "\n",
        "approx_output_9 = np.append(np.min(-approx_9.GP.y[0:n_init]),-approx_9.GP.y[n_init:(n_init+iters)]) \n",
        "exact_output_9 = np.append(np.min(-exact_9.GP.y[0:n_init]),-exact_9.GP.y[n_init:(n_init+iters)]) \n",
        "\n",
        "regret_approx_9 = np.log(approx_output_9 - y_global_orig)\n",
        "regret_exact_9 = np.log(exact_output_9 - y_global_orig)\n",
        "\n",
        "simple_regret_approx_9 = min_max_array(regret_approx_9)\n",
        "simple_regret_exact_9 = min_max_array(regret_exact_9)\n",
        "\n",
        "min_simple_regret_approx_9 = min(simple_regret_approx_9)\n",
        "min_simple_regret_exact_9 = min(simple_regret_exact_9)\n",
        "\n",
        "min_simple_regret_approx_9, min_simple_regret_exact_9"
      ]
    },
    {
      "cell_type": "code",
      "execution_count": 64,
      "metadata": {
        "id": "vx8to9stQxft",
        "colab": {
          "base_uri": "https://localhost:8080/"
        },
        "outputId": "53210991-acf0-491e-c9d2-2f71cad98c37"
      },
      "outputs": [
        {
          "output_type": "execute_result",
          "data": {
            "text/plain": [
              "(-0.3979727057068451, -0.5952602173374998)"
            ]
          },
          "metadata": {},
          "execution_count": 64
        }
      ],
      "source": [
        "### Simple regret minimization: run number = 10\n",
        "\n",
        "approx_output_10 = np.append(np.min(-approx_10.GP.y[0:n_init]),-approx_10.GP.y[n_init:(n_init+iters)]) \n",
        "exact_output_10 = np.append(np.min(-exact_10.GP.y[0:n_init]),-exact_10.GP.y[n_init:(n_init+iters)]) \n",
        "\n",
        "regret_approx_10 = np.log(approx_output_10 - y_global_orig)\n",
        "regret_exact_10 = np.log(exact_output_10 - y_global_orig)\n",
        "\n",
        "simple_regret_approx_10 = min_max_array(regret_approx_10)\n",
        "simple_regret_exact_10 = min_max_array(regret_exact_10)\n",
        "\n",
        "min_simple_regret_approx_10 = min(simple_regret_approx_10)\n",
        "min_simple_regret_exact_10 = min(simple_regret_exact_10)\n",
        "\n",
        "min_simple_regret_approx_10, min_simple_regret_exact_10"
      ]
    },
    {
      "cell_type": "code",
      "execution_count": 65,
      "metadata": {
        "id": "d-FGzWyHQxfu",
        "colab": {
          "base_uri": "https://localhost:8080/"
        },
        "outputId": "2e7be672-6afd-4632-a43f-97fe66947993"
      },
      "outputs": [
        {
          "output_type": "execute_result",
          "data": {
            "text/plain": [
              "(-0.4537478943030547, -0.37114249404012)"
            ]
          },
          "metadata": {},
          "execution_count": 65
        }
      ],
      "source": [
        "### Simple regret minimization: run number = 11\n",
        "\n",
        "approx_output_11 = np.append(np.min(-approx_11.GP.y[0:n_init]),-approx_11.GP.y[n_init:(n_init+iters)]) \n",
        "exact_output_11 = np.append(np.min(-exact_11.GP.y[0:n_init]),-exact_11.GP.y[n_init:(n_init+iters)]) \n",
        "\n",
        "regret_approx_11 = np.log(approx_output_11 - y_global_orig)\n",
        "regret_exact_11 = np.log(exact_output_11 - y_global_orig)\n",
        "\n",
        "simple_regret_approx_11 = min_max_array(regret_approx_11)\n",
        "simple_regret_exact_11 = min_max_array(regret_exact_11)\n",
        "\n",
        "min_simple_regret_approx_11 = min(simple_regret_approx_11)\n",
        "min_simple_regret_exact_11 = min(simple_regret_exact_11)\n",
        "\n",
        "min_simple_regret_approx_11, min_simple_regret_exact_11"
      ]
    },
    {
      "cell_type": "code",
      "execution_count": 66,
      "metadata": {
        "id": "SvtsssyjQxfv",
        "colab": {
          "base_uri": "https://localhost:8080/"
        },
        "outputId": "0b8ff5cd-5d54-4d46-e4d1-9a27a0042105"
      },
      "outputs": [
        {
          "output_type": "execute_result",
          "data": {
            "text/plain": [
              "(-0.6421851978768648, -0.795475179916548)"
            ]
          },
          "metadata": {},
          "execution_count": 66
        }
      ],
      "source": [
        "### Simple regret minimization: run number = 12\n",
        "\n",
        "approx_output_12 = np.append(np.min(-approx_12.GP.y[0:n_init]),-approx_12.GP.y[n_init:(n_init+iters)]) \n",
        "exact_output_12 = np.append(np.min(-exact_12.GP.y[0:n_init]),-exact_12.GP.y[n_init:(n_init+iters)]) \n",
        "\n",
        "regret_approx_12 = np.log(approx_output_12 - y_global_orig)\n",
        "regret_exact_12 = np.log(exact_output_12 - y_global_orig)\n",
        "\n",
        "simple_regret_approx_12 = min_max_array(regret_approx_12)\n",
        "simple_regret_exact_12 = min_max_array(regret_exact_12)\n",
        "\n",
        "min_simple_regret_approx_12 = min(simple_regret_approx_12)\n",
        "min_simple_regret_exact_12 = min(simple_regret_exact_12)\n",
        "\n",
        "min_simple_regret_approx_12, min_simple_regret_exact_12"
      ]
    },
    {
      "cell_type": "code",
      "execution_count": 67,
      "metadata": {
        "id": "K6OiGcHkQxfw",
        "colab": {
          "base_uri": "https://localhost:8080/"
        },
        "outputId": "f057b9a3-ac11-4447-e2ba-ad66c55d2399"
      },
      "outputs": [
        {
          "output_type": "execute_result",
          "data": {
            "text/plain": [
              "(-0.14898225614069244, -0.6939180097262632)"
            ]
          },
          "metadata": {},
          "execution_count": 67
        }
      ],
      "source": [
        "### Simple regret minimization: run number = 13\n",
        "\n",
        "approx_output_13 = np.append(np.min(-approx_13.GP.y[0:n_init]),-approx_13.GP.y[n_init:(n_init+iters)]) \n",
        "exact_output_13 = np.append(np.min(-exact_13.GP.y[0:n_init]),-exact_13.GP.y[n_init:(n_init+iters)]) \n",
        "\n",
        "regret_approx_13 = np.log(approx_output_13 - y_global_orig)\n",
        "regret_exact_13 = np.log(exact_output_13 - y_global_orig)\n",
        "\n",
        "simple_regret_approx_13 = min_max_array(regret_approx_13)\n",
        "simple_regret_exact_13 = min_max_array(regret_exact_13)\n",
        "\n",
        "min_simple_regret_approx_13 = min(simple_regret_approx_13)\n",
        "min_simple_regret_exact_13 = min(simple_regret_exact_13)\n",
        "\n",
        "min_simple_regret_approx_13, min_simple_regret_exact_13"
      ]
    },
    {
      "cell_type": "code",
      "execution_count": 68,
      "metadata": {
        "id": "ogML73shQxfx",
        "colab": {
          "base_uri": "https://localhost:8080/"
        },
        "outputId": "5e732ae2-439c-4dd6-c5fa-fe349791d7ca"
      },
      "outputs": [
        {
          "output_type": "execute_result",
          "data": {
            "text/plain": [
              "(-1.9542632182021589, -4.498144638850726)"
            ]
          },
          "metadata": {},
          "execution_count": 68
        }
      ],
      "source": [
        "### Simple regret minimization: run number = 14\n",
        "\n",
        "approx_output_14 = np.append(np.min(-approx_14.GP.y[0:n_init]),-approx_14.GP.y[n_init:(n_init+iters)]) \n",
        "exact_output_14 = np.append(np.min(-exact_14.GP.y[0:n_init]),-exact_14.GP.y[n_init:(n_init+iters)]) \n",
        "\n",
        "regret_approx_14 = np.log(approx_output_14 - y_global_orig)\n",
        "regret_exact_14 = np.log(exact_output_14 - y_global_orig)\n",
        "\n",
        "simple_regret_approx_14 = min_max_array(regret_approx_14)\n",
        "simple_regret_exact_14 = min_max_array(regret_exact_14)\n",
        "\n",
        "min_simple_regret_approx_14 = min(simple_regret_approx_14)\n",
        "min_simple_regret_exact_14 = min(simple_regret_exact_14)\n",
        "\n",
        "min_simple_regret_approx_14, min_simple_regret_exact_14"
      ]
    },
    {
      "cell_type": "code",
      "execution_count": 69,
      "metadata": {
        "id": "9Eg7gFT9Qxfx",
        "colab": {
          "base_uri": "https://localhost:8080/"
        },
        "outputId": "8a92db14-e2ff-48c0-8fe1-b9879ddeffab"
      },
      "outputs": [
        {
          "output_type": "execute_result",
          "data": {
            "text/plain": [
              "(-0.7804379837262861, -0.7187727446203279)"
            ]
          },
          "metadata": {},
          "execution_count": 69
        }
      ],
      "source": [
        "### Simple regret minimization: run number = 15\n",
        "\n",
        "approx_output_15 = np.append(np.min(-approx_15.GP.y[0:n_init]),-approx_15.GP.y[n_init:(n_init+iters)]) \n",
        "exact_output_15 = np.append(np.min(-exact_15.GP.y[0:n_init]),-exact_15.GP.y[n_init:(n_init+iters)]) \n",
        "\n",
        "regret_approx_15 = np.log(approx_output_15 - y_global_orig)\n",
        "regret_exact_15 = np.log(exact_output_15 - y_global_orig)\n",
        "\n",
        "simple_regret_approx_15 = min_max_array(regret_approx_15)\n",
        "simple_regret_exact_15 = min_max_array(regret_exact_15)\n",
        "\n",
        "min_simple_regret_approx_15 = min(simple_regret_approx_15)\n",
        "min_simple_regret_exact_15 = min(simple_regret_exact_15)\n",
        "\n",
        "min_simple_regret_approx_15, min_simple_regret_exact_15"
      ]
    },
    {
      "cell_type": "code",
      "execution_count": 70,
      "metadata": {
        "id": "lIAC1U7ZQxfy",
        "colab": {
          "base_uri": "https://localhost:8080/"
        },
        "outputId": "b6ee7fc5-99b2-49c0-ffc3-0395ff6a35db"
      },
      "outputs": [
        {
          "output_type": "execute_result",
          "data": {
            "text/plain": [
              "(-0.8656273568709654, -0.7101215177339167)"
            ]
          },
          "metadata": {},
          "execution_count": 70
        }
      ],
      "source": [
        "### Simple regret minimization: run number = 16\n",
        "\n",
        "approx_output_16 = np.append(np.min(-approx_16.GP.y[0:n_init]),-approx_16.GP.y[n_init:(n_init+iters)]) \n",
        "exact_output_16 = np.append(np.min(-exact_16.GP.y[0:n_init]),-exact_16.GP.y[n_init:(n_init+iters)]) \n",
        "\n",
        "regret_approx_16 = np.log(approx_output_16 - y_global_orig)\n",
        "regret_exact_16 = np.log(exact_output_16 - y_global_orig)\n",
        "\n",
        "simple_regret_approx_16 = min_max_array(regret_approx_16)\n",
        "simple_regret_exact_16 = min_max_array(regret_exact_16)\n",
        "\n",
        "min_simple_regret_approx_16 = min(simple_regret_approx_16)\n",
        "min_simple_regret_exact_16 = min(simple_regret_exact_16)\n",
        "\n",
        "min_simple_regret_approx_16, min_simple_regret_exact_16"
      ]
    },
    {
      "cell_type": "code",
      "execution_count": 71,
      "metadata": {
        "id": "bGott36OQxfz",
        "colab": {
          "base_uri": "https://localhost:8080/"
        },
        "outputId": "e0f14b04-1f2d-45f2-cb32-e5af37dfee9a"
      },
      "outputs": [
        {
          "output_type": "execute_result",
          "data": {
            "text/plain": [
              "(-4.035867775841022, -1.489278434587309)"
            ]
          },
          "metadata": {},
          "execution_count": 71
        }
      ],
      "source": [
        "### Simple regret minimization: run number = 17\n",
        "\n",
        "approx_output_17 = np.append(np.min(-approx_17.GP.y[0:n_init]),-approx_17.GP.y[n_init:(n_init+iters)]) \n",
        "exact_output_17 = np.append(np.min(-exact_17.GP.y[0:n_init]),-exact_17.GP.y[n_init:(n_init+iters)]) \n",
        "\n",
        "regret_approx_17 = np.log(approx_output_17 - y_global_orig)\n",
        "regret_exact_17 = np.log(exact_output_17 - y_global_orig)\n",
        "\n",
        "simple_regret_approx_17 = min_max_array(regret_approx_17)\n",
        "simple_regret_exact_17 = min_max_array(regret_exact_17)\n",
        "\n",
        "min_simple_regret_approx_17 = min(simple_regret_approx_17)\n",
        "min_simple_regret_exact_17 = min(simple_regret_exact_17)\n",
        "\n",
        "min_simple_regret_approx_17, min_simple_regret_exact_17"
      ]
    },
    {
      "cell_type": "code",
      "execution_count": 72,
      "metadata": {
        "id": "Cz9ZYMBMQxfz",
        "colab": {
          "base_uri": "https://localhost:8080/"
        },
        "outputId": "756f2d1b-2ff0-4a9a-ad65-47e2500d6ac1"
      },
      "outputs": [
        {
          "output_type": "execute_result",
          "data": {
            "text/plain": [
              "(-3.206849221432765, -1.9739906399058653)"
            ]
          },
          "metadata": {},
          "execution_count": 72
        }
      ],
      "source": [
        "### Simple regret minimization: run number = 18\n",
        "\n",
        "approx_output_18 = np.append(np.min(-approx_18.GP.y[0:n_init]),-approx_18.GP.y[n_init:(n_init+iters)]) \n",
        "exact_output_18 = np.append(np.min(-exact_18.GP.y[0:n_init]),-exact_18.GP.y[n_init:(n_init+iters)]) \n",
        "\n",
        "regret_approx_18 = np.log(approx_output_18 - y_global_orig)\n",
        "regret_exact_18 = np.log(exact_output_18 - y_global_orig)\n",
        "\n",
        "simple_regret_approx_18 = min_max_array(regret_approx_18)\n",
        "simple_regret_exact_18 = min_max_array(regret_exact_18)\n",
        "\n",
        "min_simple_regret_approx_18 = min(simple_regret_approx_18)\n",
        "min_simple_regret_exact_18 = min(simple_regret_exact_18)\n",
        "\n",
        "min_simple_regret_approx_18, min_simple_regret_exact_18"
      ]
    },
    {
      "cell_type": "code",
      "execution_count": 73,
      "metadata": {
        "id": "OBfpWOHNQxf0",
        "colab": {
          "base_uri": "https://localhost:8080/"
        },
        "outputId": "8b62f4ad-2aeb-4225-ffc4-bf1fa0cb5f21"
      },
      "outputs": [
        {
          "output_type": "execute_result",
          "data": {
            "text/plain": [
              "(-1.4344387933264462, -0.8761963301127862)"
            ]
          },
          "metadata": {},
          "execution_count": 73
        }
      ],
      "source": [
        "### Simple regret minimization: run number = 19\n",
        "\n",
        "approx_output_19 = np.append(np.min(-approx_19.GP.y[0:n_init]),-approx_19.GP.y[n_init:(n_init+iters)]) \n",
        "exact_output_19 = np.append(np.min(-exact_19.GP.y[0:n_init]),-exact_19.GP.y[n_init:(n_init+iters)]) \n",
        "\n",
        "regret_approx_19 = np.log(approx_output_19 - y_global_orig)\n",
        "regret_exact_19 = np.log(exact_output_19 - y_global_orig)\n",
        "\n",
        "simple_regret_approx_19 = min_max_array(regret_approx_19)\n",
        "simple_regret_exact_19 = min_max_array(regret_exact_19)\n",
        "\n",
        "min_simple_regret_approx_19 = min(simple_regret_approx_19)\n",
        "min_simple_regret_exact_19 = min(simple_regret_exact_19)\n",
        "\n",
        "min_simple_regret_approx_19, min_simple_regret_exact_19"
      ]
    },
    {
      "cell_type": "code",
      "execution_count": 74,
      "metadata": {
        "id": "BE1AJ7NsQxf0",
        "colab": {
          "base_uri": "https://localhost:8080/"
        },
        "outputId": "54c596de-5118-494b-e043-deb138c5ac84"
      },
      "outputs": [
        {
          "output_type": "execute_result",
          "data": {
            "text/plain": [
              "(0.27025591936105675, -2.6626273636203566)"
            ]
          },
          "metadata": {},
          "execution_count": 74
        }
      ],
      "source": [
        "### Simple regret minimization: run number = 20\n",
        "\n",
        "approx_output_20 = np.append(np.min(-approx_20.GP.y[0:n_init]),-approx_20.GP.y[n_init:(n_init+iters)]) \n",
        "exact_output_20 = np.append(np.min(-exact_20.GP.y[0:n_init]),-exact_20.GP.y[n_init:(n_init+iters)]) \n",
        "\n",
        "regret_approx_20 = np.log(approx_output_20 - y_global_orig)\n",
        "regret_exact_20 = np.log(exact_output_20 - y_global_orig)\n",
        "\n",
        "simple_regret_approx_20 = min_max_array(regret_approx_20)\n",
        "simple_regret_exact_20 = min_max_array(regret_exact_20)\n",
        "\n",
        "min_simple_regret_approx_20 = min(simple_regret_approx_20)\n",
        "min_simple_regret_exact_20 = min(simple_regret_exact_20)\n",
        "\n",
        "min_simple_regret_approx_20, min_simple_regret_exact_20"
      ]
    },
    {
      "cell_type": "code",
      "execution_count": 75,
      "metadata": {
        "id": "bpX-bKAHQxf1"
      },
      "outputs": [],
      "source": [
        "# Iteration1 :\n",
        "\n",
        "slice1 = 0\n",
        "\n",
        "approx1 = [simple_regret_approx_1[slice1],\n",
        "       simple_regret_approx_2[slice1],\n",
        "       simple_regret_approx_3[slice1],\n",
        "       simple_regret_approx_4[slice1],\n",
        "       simple_regret_approx_5[slice1],\n",
        "       simple_regret_approx_6[slice1],\n",
        "       simple_regret_approx_7[slice1],\n",
        "       simple_regret_approx_8[slice1],\n",
        "       simple_regret_approx_9[slice1],\n",
        "       simple_regret_approx_10[slice1],\n",
        "       simple_regret_approx_11[slice1],\n",
        "       simple_regret_approx_12[slice1],\n",
        "       simple_regret_approx_13[slice1],\n",
        "       simple_regret_approx_14[slice1],\n",
        "       simple_regret_approx_15[slice1],\n",
        "       simple_regret_approx_16[slice1],\n",
        "       simple_regret_approx_17[slice1],\n",
        "       simple_regret_approx_18[slice1],\n",
        "       simple_regret_approx_19[slice1],\n",
        "       simple_regret_approx_20[slice1]]\n",
        "\n",
        "exact1 = [simple_regret_exact_1[slice1],\n",
        "       simple_regret_exact_2[slice1],\n",
        "       simple_regret_exact_3[slice1],\n",
        "       simple_regret_exact_4[slice1],\n",
        "       simple_regret_exact_5[slice1],\n",
        "       simple_regret_exact_6[slice1],\n",
        "       simple_regret_exact_7[slice1],\n",
        "       simple_regret_exact_8[slice1],\n",
        "       simple_regret_exact_9[slice1],\n",
        "       simple_regret_exact_10[slice1],\n",
        "       simple_regret_exact_11[slice1],\n",
        "       simple_regret_exact_12[slice1],\n",
        "       simple_regret_exact_13[slice1],\n",
        "       simple_regret_exact_14[slice1],\n",
        "       simple_regret_exact_15[slice1],\n",
        "       simple_regret_exact_16[slice1],\n",
        "       simple_regret_exact_17[slice1],\n",
        "       simple_regret_exact_18[slice1],\n",
        "       simple_regret_exact_19[slice1],\n",
        "       simple_regret_exact_20[slice1]]\n",
        "\n",
        "approx1_results = pd.DataFrame(approx1).sort_values(by=[0], ascending=False)\n",
        "exact1_results = pd.DataFrame(exact1).sort_values(by=[0], ascending=False)\n",
        "\n",
        "### Best simple regret minimization IQR - approx:\n",
        "lower_approx1 = np.asarray(approx1_results[4:5][0])[0]\n",
        "median_approx1 = np.asarray(approx1_results[9:10][0])[0]\n",
        "upper_approx1 = np.asarray(approx1_results[14:15][0])[0]\n",
        "\n",
        "lower_exact1 = np.asarray(exact1_results[4:5][0])[0]\n",
        "median_exact1 = np.asarray(exact1_results[9:10][0])[0]\n",
        "upper_exact1 = np.asarray(exact1_results[14:15][0])[0]"
      ]
    },
    {
      "cell_type": "code",
      "execution_count": 76,
      "metadata": {
        "id": "CgIkJA1xQxf2"
      },
      "outputs": [],
      "source": [
        "# Iteration11 :\n",
        "\n",
        "slice11 = 10\n",
        "\n",
        "approx11 = [simple_regret_approx_1[slice11],\n",
        "       simple_regret_approx_2[slice11],\n",
        "       simple_regret_approx_3[slice11],\n",
        "       simple_regret_approx_4[slice11],\n",
        "       simple_regret_approx_5[slice11],\n",
        "       simple_regret_approx_6[slice11],\n",
        "       simple_regret_approx_7[slice11],\n",
        "       simple_regret_approx_8[slice11],\n",
        "       simple_regret_approx_9[slice11],\n",
        "       simple_regret_approx_10[slice11],\n",
        "       simple_regret_approx_11[slice11],\n",
        "       simple_regret_approx_12[slice11],\n",
        "       simple_regret_approx_13[slice11],\n",
        "       simple_regret_approx_14[slice11],\n",
        "       simple_regret_approx_15[slice11],\n",
        "       simple_regret_approx_16[slice11],\n",
        "       simple_regret_approx_17[slice11],\n",
        "       simple_regret_approx_18[slice11],\n",
        "       simple_regret_approx_19[slice11],\n",
        "       simple_regret_approx_20[slice11]]\n",
        "\n",
        "exact11 = [simple_regret_exact_1[slice11],\n",
        "       simple_regret_exact_2[slice11],\n",
        "       simple_regret_exact_3[slice11],\n",
        "       simple_regret_exact_4[slice11],\n",
        "       simple_regret_exact_5[slice11],\n",
        "       simple_regret_exact_6[slice11],\n",
        "       simple_regret_exact_7[slice11],\n",
        "       simple_regret_exact_8[slice11],\n",
        "       simple_regret_exact_9[slice11],\n",
        "       simple_regret_exact_10[slice11],\n",
        "       simple_regret_exact_11[slice11],\n",
        "       simple_regret_exact_12[slice11],\n",
        "       simple_regret_exact_13[slice11],\n",
        "       simple_regret_exact_14[slice11],\n",
        "       simple_regret_exact_15[slice11],\n",
        "       simple_regret_exact_16[slice11],\n",
        "       simple_regret_exact_17[slice11],\n",
        "       simple_regret_exact_18[slice11],\n",
        "       simple_regret_exact_19[slice11],\n",
        "       simple_regret_exact_20[slice11]]\n",
        "\n",
        "approx11_results = pd.DataFrame(approx11).sort_values(by=[0], ascending=False)\n",
        "exact11_results = pd.DataFrame(exact11).sort_values(by=[0], ascending=False)\n",
        "\n",
        "### Best simple regret minimization IQR - approx:\n",
        "lower_approx11 = np.asarray(approx11_results[4:5][0])[0]\n",
        "median_approx11 = np.asarray(approx11_results[9:10][0])[0]\n",
        "upper_approx11 = np.asarray(approx11_results[14:15][0])[0]\n",
        "\n",
        "lower_exact11 = np.asarray(exact11_results[4:5][0])[0]\n",
        "median_exact11 = np.asarray(exact11_results[9:10][0])[0]\n",
        "upper_exact11 = np.asarray(exact11_results[14:15][0])[0]"
      ]
    },
    {
      "cell_type": "code",
      "execution_count": 77,
      "metadata": {
        "id": "MFePDfGuQxf2"
      },
      "outputs": [],
      "source": [
        "# Iteration21 :\n",
        "\n",
        "slice21 = 20\n",
        "\n",
        "approx21 = [simple_regret_approx_1[slice21],\n",
        "       simple_regret_approx_2[slice21],\n",
        "       simple_regret_approx_3[slice21],\n",
        "       simple_regret_approx_4[slice21],\n",
        "       simple_regret_approx_5[slice21],\n",
        "       simple_regret_approx_6[slice21],\n",
        "       simple_regret_approx_7[slice21],\n",
        "       simple_regret_approx_8[slice21],\n",
        "       simple_regret_approx_9[slice21],\n",
        "       simple_regret_approx_10[slice21],\n",
        "       simple_regret_approx_11[slice21],\n",
        "       simple_regret_approx_12[slice21],\n",
        "       simple_regret_approx_13[slice21],\n",
        "       simple_regret_approx_14[slice21],\n",
        "       simple_regret_approx_15[slice21],\n",
        "       simple_regret_approx_16[slice21],\n",
        "       simple_regret_approx_17[slice21],\n",
        "       simple_regret_approx_18[slice21],\n",
        "       simple_regret_approx_19[slice21],\n",
        "       simple_regret_approx_20[slice21]]\n",
        "\n",
        "exact21 = [simple_regret_exact_1[slice21],\n",
        "       simple_regret_exact_2[slice21],\n",
        "       simple_regret_exact_3[slice21],\n",
        "       simple_regret_exact_4[slice21],\n",
        "       simple_regret_exact_5[slice21],\n",
        "       simple_regret_exact_6[slice21],\n",
        "       simple_regret_exact_7[slice21],\n",
        "       simple_regret_exact_8[slice21],\n",
        "       simple_regret_exact_9[slice21],\n",
        "       simple_regret_exact_10[slice21],\n",
        "       simple_regret_exact_11[slice21],\n",
        "       simple_regret_exact_12[slice21],\n",
        "       simple_regret_exact_13[slice21],\n",
        "       simple_regret_exact_14[slice21],\n",
        "       simple_regret_exact_15[slice21],\n",
        "       simple_regret_exact_16[slice21],\n",
        "       simple_regret_exact_17[slice21],\n",
        "       simple_regret_exact_18[slice21],\n",
        "       simple_regret_exact_19[slice21],\n",
        "       simple_regret_exact_20[slice21]]\n",
        "\n",
        "approx21_results = pd.DataFrame(approx21).sort_values(by=[0], ascending=False)\n",
        "exact21_results = pd.DataFrame(exact21).sort_values(by=[0], ascending=False)\n",
        "\n",
        "### Best simple regret minimization IQR - approx:\n",
        "lower_approx21 = np.asarray(approx21_results[4:5][0])[0]\n",
        "median_approx21 = np.asarray(approx21_results[9:10][0])[0]\n",
        "upper_approx21 = np.asarray(approx21_results[14:15][0])[0]\n",
        "\n",
        "lower_exact21 = np.asarray(exact21_results[4:5][0])[0]\n",
        "median_exact21 = np.asarray(exact21_results[9:10][0])[0]\n",
        "upper_exact21 = np.asarray(exact21_results[14:15][0])[0]"
      ]
    },
    {
      "cell_type": "code",
      "execution_count": 78,
      "metadata": {
        "id": "PrRDB1kfQxf3"
      },
      "outputs": [],
      "source": [
        "# Iteration2 :\n",
        "\n",
        "slice2 = 1\n",
        "\n",
        "approx2 = [simple_regret_approx_1[slice2],\n",
        "       simple_regret_approx_2[slice2],\n",
        "       simple_regret_approx_3[slice2],\n",
        "       simple_regret_approx_4[slice2],\n",
        "       simple_regret_approx_5[slice2],\n",
        "       simple_regret_approx_6[slice2],\n",
        "       simple_regret_approx_7[slice2],\n",
        "       simple_regret_approx_8[slice2],\n",
        "       simple_regret_approx_9[slice2],\n",
        "       simple_regret_approx_10[slice2],\n",
        "       simple_regret_approx_11[slice2],\n",
        "       simple_regret_approx_12[slice2],\n",
        "       simple_regret_approx_13[slice2],\n",
        "       simple_regret_approx_14[slice2],\n",
        "       simple_regret_approx_15[slice2],\n",
        "       simple_regret_approx_16[slice2],\n",
        "       simple_regret_approx_17[slice2],\n",
        "       simple_regret_approx_18[slice2],\n",
        "       simple_regret_approx_19[slice2],\n",
        "       simple_regret_approx_20[slice2]]\n",
        "\n",
        "exact2 = [simple_regret_exact_1[slice2],\n",
        "       simple_regret_exact_2[slice2],\n",
        "       simple_regret_exact_3[slice2],\n",
        "       simple_regret_exact_4[slice2],\n",
        "       simple_regret_exact_5[slice2],\n",
        "       simple_regret_exact_6[slice2],\n",
        "       simple_regret_exact_7[slice2],\n",
        "       simple_regret_exact_8[slice2],\n",
        "       simple_regret_exact_9[slice2],\n",
        "       simple_regret_exact_10[slice2],\n",
        "       simple_regret_exact_11[slice2],\n",
        "       simple_regret_exact_12[slice2],\n",
        "       simple_regret_exact_13[slice2],\n",
        "       simple_regret_exact_14[slice2],\n",
        "       simple_regret_exact_15[slice2],\n",
        "       simple_regret_exact_16[slice2],\n",
        "       simple_regret_exact_17[slice2],\n",
        "       simple_regret_exact_18[slice2],\n",
        "       simple_regret_exact_19[slice2],\n",
        "       simple_regret_exact_20[slice2]]\n",
        "\n",
        "approx2_results = pd.DataFrame(approx2).sort_values(by=[0], ascending=False)\n",
        "exact2_results = pd.DataFrame(exact2).sort_values(by=[0], ascending=False)\n",
        "\n",
        "### Best simple regret minimization IQR - approx:\n",
        "lower_approx2 = np.asarray(approx2_results[4:5][0])[0]\n",
        "median_approx2 = np.asarray(approx2_results[9:10][0])[0]\n",
        "upper_approx2 = np.asarray(approx2_results[14:15][0])[0]\n",
        "\n",
        "lower_exact2 = np.asarray(exact2_results[4:5][0])[0]\n",
        "median_exact2 = np.asarray(exact2_results[9:10][0])[0]\n",
        "upper_exact2 = np.asarray(exact2_results[14:15][0])[0]"
      ]
    },
    {
      "cell_type": "code",
      "execution_count": 79,
      "metadata": {
        "id": "B8ncJDYeQxf3"
      },
      "outputs": [],
      "source": [
        "# Iteration12 :\n",
        "\n",
        "slice12 = 11\n",
        "\n",
        "approx12 = [simple_regret_approx_1[slice12],\n",
        "       simple_regret_approx_2[slice12],\n",
        "       simple_regret_approx_3[slice12],\n",
        "       simple_regret_approx_4[slice12],\n",
        "       simple_regret_approx_5[slice12],\n",
        "       simple_regret_approx_6[slice12],\n",
        "       simple_regret_approx_7[slice12],\n",
        "       simple_regret_approx_8[slice12],\n",
        "       simple_regret_approx_9[slice12],\n",
        "       simple_regret_approx_10[slice12],\n",
        "       simple_regret_approx_11[slice12],\n",
        "       simple_regret_approx_12[slice12],\n",
        "       simple_regret_approx_13[slice12],\n",
        "       simple_regret_approx_14[slice12],\n",
        "       simple_regret_approx_15[slice12],\n",
        "       simple_regret_approx_16[slice12],\n",
        "       simple_regret_approx_17[slice12],\n",
        "       simple_regret_approx_18[slice12],\n",
        "       simple_regret_approx_19[slice12],\n",
        "       simple_regret_approx_20[slice12]]\n",
        "\n",
        "exact12 = [simple_regret_exact_1[slice12],\n",
        "       simple_regret_exact_2[slice12],\n",
        "       simple_regret_exact_3[slice12],\n",
        "       simple_regret_exact_4[slice12],\n",
        "       simple_regret_exact_5[slice12],\n",
        "       simple_regret_exact_6[slice12],\n",
        "       simple_regret_exact_7[slice12],\n",
        "       simple_regret_exact_8[slice12],\n",
        "       simple_regret_exact_9[slice12],\n",
        "       simple_regret_exact_10[slice12],\n",
        "       simple_regret_exact_11[slice12],\n",
        "       simple_regret_exact_12[slice12],\n",
        "       simple_regret_exact_13[slice12],\n",
        "       simple_regret_exact_14[slice12],\n",
        "       simple_regret_exact_15[slice12],\n",
        "       simple_regret_exact_16[slice12],\n",
        "       simple_regret_exact_17[slice12],\n",
        "       simple_regret_exact_18[slice12],\n",
        "       simple_regret_exact_19[slice12],\n",
        "       simple_regret_exact_20[slice12]]\n",
        "\n",
        "approx12_results = pd.DataFrame(approx12).sort_values(by=[0], ascending=False)\n",
        "exact12_results = pd.DataFrame(exact12).sort_values(by=[0], ascending=False)\n",
        "\n",
        "### Best simple regret minimization IQR - approx:\n",
        "lower_approx12 = np.asarray(approx12_results[4:5][0])[0]\n",
        "median_approx12 = np.asarray(approx12_results[9:10][0])[0]\n",
        "upper_approx12 = np.asarray(approx12_results[14:15][0])[0]\n",
        "\n",
        "lower_exact12 = np.asarray(exact12_results[4:5][0])[0]\n",
        "median_exact12 = np.asarray(exact12_results[9:10][0])[0]\n",
        "upper_exact12 = np.asarray(exact12_results[14:15][0])[0]"
      ]
    },
    {
      "cell_type": "code",
      "execution_count": 80,
      "metadata": {
        "id": "Jn4KpGvcQxf4"
      },
      "outputs": [],
      "source": [
        "# Iteration3 :\n",
        "\n",
        "slice3 = 2\n",
        "\n",
        "approx3 = [simple_regret_approx_1[slice3],\n",
        "       simple_regret_approx_2[slice3],\n",
        "       simple_regret_approx_3[slice3],\n",
        "       simple_regret_approx_4[slice3],\n",
        "       simple_regret_approx_5[slice3],\n",
        "       simple_regret_approx_6[slice3],\n",
        "       simple_regret_approx_7[slice3],\n",
        "       simple_regret_approx_8[slice3],\n",
        "       simple_regret_approx_9[slice3],\n",
        "       simple_regret_approx_10[slice3],\n",
        "       simple_regret_approx_11[slice3],\n",
        "       simple_regret_approx_12[slice3],\n",
        "       simple_regret_approx_13[slice3],\n",
        "       simple_regret_approx_14[slice3],\n",
        "       simple_regret_approx_15[slice3],\n",
        "       simple_regret_approx_16[slice3],\n",
        "       simple_regret_approx_17[slice3],\n",
        "       simple_regret_approx_18[slice3],\n",
        "       simple_regret_approx_19[slice3],\n",
        "       simple_regret_approx_20[slice3]]\n",
        "\n",
        "exact3 = [simple_regret_exact_1[slice3],\n",
        "       simple_regret_exact_2[slice3],\n",
        "       simple_regret_exact_3[slice3],\n",
        "       simple_regret_exact_4[slice3],\n",
        "       simple_regret_exact_5[slice3],\n",
        "       simple_regret_exact_6[slice3],\n",
        "       simple_regret_exact_7[slice3],\n",
        "       simple_regret_exact_8[slice3],\n",
        "       simple_regret_exact_9[slice3],\n",
        "       simple_regret_exact_10[slice3],\n",
        "       simple_regret_exact_11[slice3],\n",
        "       simple_regret_exact_12[slice3],\n",
        "       simple_regret_exact_13[slice3],\n",
        "       simple_regret_exact_14[slice3],\n",
        "       simple_regret_exact_15[slice3],\n",
        "       simple_regret_exact_16[slice3],\n",
        "       simple_regret_exact_17[slice3],\n",
        "       simple_regret_exact_18[slice3],\n",
        "       simple_regret_exact_19[slice3],\n",
        "       simple_regret_exact_20[slice3]]\n",
        "\n",
        "approx3_results = pd.DataFrame(approx3).sort_values(by=[0], ascending=False)\n",
        "exact3_results = pd.DataFrame(exact3).sort_values(by=[0], ascending=False)\n",
        "\n",
        "### Best simple regret minimization IQR - approx:\n",
        "lower_approx3 = np.asarray(approx3_results[4:5][0])[0]\n",
        "median_approx3 = np.asarray(approx3_results[9:10][0])[0]\n",
        "upper_approx3 = np.asarray(approx3_results[14:15][0])[0]\n",
        "\n",
        "lower_exact3 = np.asarray(exact3_results[4:5][0])[0]\n",
        "median_exact3 = np.asarray(exact3_results[9:10][0])[0]\n",
        "upper_exact3 = np.asarray(exact3_results[14:15][0])[0]"
      ]
    },
    {
      "cell_type": "code",
      "execution_count": 81,
      "metadata": {
        "id": "plf83wxrQxf4"
      },
      "outputs": [],
      "source": [
        "# Iteration13 :\n",
        "\n",
        "slice13 = 12\n",
        "\n",
        "approx13 = [simple_regret_approx_1[slice13],\n",
        "       simple_regret_approx_2[slice13],\n",
        "       simple_regret_approx_3[slice13],\n",
        "       simple_regret_approx_4[slice13],\n",
        "       simple_regret_approx_5[slice13],\n",
        "       simple_regret_approx_6[slice13],\n",
        "       simple_regret_approx_7[slice13],\n",
        "       simple_regret_approx_8[slice13],\n",
        "       simple_regret_approx_9[slice13],\n",
        "       simple_regret_approx_10[slice13],\n",
        "       simple_regret_approx_11[slice13],\n",
        "       simple_regret_approx_12[slice13],\n",
        "       simple_regret_approx_13[slice13],\n",
        "       simple_regret_approx_14[slice13],\n",
        "       simple_regret_approx_15[slice13],\n",
        "       simple_regret_approx_16[slice13],\n",
        "       simple_regret_approx_17[slice13],\n",
        "       simple_regret_approx_18[slice13],\n",
        "       simple_regret_approx_19[slice13],\n",
        "       simple_regret_approx_20[slice13]]\n",
        "\n",
        "exact13 = [simple_regret_exact_1[slice13],\n",
        "       simple_regret_exact_2[slice13],\n",
        "       simple_regret_exact_3[slice13],\n",
        "       simple_regret_exact_4[slice13],\n",
        "       simple_regret_exact_5[slice13],\n",
        "       simple_regret_exact_6[slice13],\n",
        "       simple_regret_exact_7[slice13],\n",
        "       simple_regret_exact_8[slice13],\n",
        "       simple_regret_exact_9[slice13],\n",
        "       simple_regret_exact_10[slice13],\n",
        "       simple_regret_exact_11[slice13],\n",
        "       simple_regret_exact_12[slice13],\n",
        "       simple_regret_exact_13[slice13],\n",
        "       simple_regret_exact_14[slice13],\n",
        "       simple_regret_exact_15[slice13],\n",
        "       simple_regret_exact_16[slice13],\n",
        "       simple_regret_exact_17[slice13],\n",
        "       simple_regret_exact_18[slice13],\n",
        "       simple_regret_exact_19[slice13],\n",
        "       simple_regret_exact_20[slice13]]\n",
        "\n",
        "approx13_results = pd.DataFrame(approx13).sort_values(by=[0], ascending=False)\n",
        "exact13_results = pd.DataFrame(exact13).sort_values(by=[0], ascending=False)\n",
        "\n",
        "### Best simple regret minimization IQR - approx:\n",
        "lower_approx13 = np.asarray(approx13_results[4:5][0])[0]\n",
        "median_approx13 = np.asarray(approx13_results[9:10][0])[0]\n",
        "upper_approx13 = np.asarray(approx13_results[14:15][0])[0]\n",
        "\n",
        "lower_exact13 = np.asarray(exact13_results[4:5][0])[0]\n",
        "median_exact13 = np.asarray(exact13_results[9:10][0])[0]\n",
        "upper_exact13 = np.asarray(exact13_results[14:15][0])[0]"
      ]
    },
    {
      "cell_type": "code",
      "execution_count": 82,
      "metadata": {
        "id": "9A7mlVvJQxf5"
      },
      "outputs": [],
      "source": [
        "# Iteration4 :\n",
        "\n",
        "slice4 = 3\n",
        "\n",
        "approx4 = [simple_regret_approx_1[slice4],\n",
        "       simple_regret_approx_2[slice4],\n",
        "       simple_regret_approx_3[slice4],\n",
        "       simple_regret_approx_4[slice4],\n",
        "       simple_regret_approx_5[slice4],\n",
        "       simple_regret_approx_6[slice4],\n",
        "       simple_regret_approx_7[slice4],\n",
        "       simple_regret_approx_8[slice4],\n",
        "       simple_regret_approx_9[slice4],\n",
        "       simple_regret_approx_10[slice4],\n",
        "       simple_regret_approx_11[slice4],\n",
        "       simple_regret_approx_12[slice4],\n",
        "       simple_regret_approx_13[slice4],\n",
        "       simple_regret_approx_14[slice4],\n",
        "       simple_regret_approx_15[slice4],\n",
        "       simple_regret_approx_16[slice4],\n",
        "       simple_regret_approx_17[slice4],\n",
        "       simple_regret_approx_18[slice4],\n",
        "       simple_regret_approx_19[slice4],\n",
        "       simple_regret_approx_20[slice4]]\n",
        "\n",
        "exact4 = [simple_regret_exact_1[slice4],\n",
        "       simple_regret_exact_2[slice4],\n",
        "       simple_regret_exact_3[slice4],\n",
        "       simple_regret_exact_4[slice4],\n",
        "       simple_regret_exact_5[slice4],\n",
        "       simple_regret_exact_6[slice4],\n",
        "       simple_regret_exact_7[slice4],\n",
        "       simple_regret_exact_8[slice4],\n",
        "       simple_regret_exact_9[slice4],\n",
        "       simple_regret_exact_10[slice4],\n",
        "       simple_regret_exact_11[slice4],\n",
        "       simple_regret_exact_12[slice4],\n",
        "       simple_regret_exact_13[slice4],\n",
        "       simple_regret_exact_14[slice4],\n",
        "       simple_regret_exact_15[slice4],\n",
        "       simple_regret_exact_16[slice4],\n",
        "       simple_regret_exact_17[slice4],\n",
        "       simple_regret_exact_18[slice4],\n",
        "       simple_regret_exact_19[slice4],\n",
        "       simple_regret_exact_20[slice4]]\n",
        "\n",
        "approx4_results = pd.DataFrame(approx4).sort_values(by=[0], ascending=False)\n",
        "exact4_results = pd.DataFrame(exact4).sort_values(by=[0], ascending=False)\n",
        "\n",
        "### Best simple regret minimization IQR - approx:\n",
        "lower_approx4 = np.asarray(approx4_results[4:5][0])[0]\n",
        "median_approx4 = np.asarray(approx4_results[9:10][0])[0]\n",
        "upper_approx4 = np.asarray(approx4_results[14:15][0])[0]\n",
        "\n",
        "lower_exact4 = np.asarray(exact4_results[4:5][0])[0]\n",
        "median_exact4 = np.asarray(exact4_results[9:10][0])[0]\n",
        "upper_exact4 = np.asarray(exact4_results[14:15][0])[0]"
      ]
    },
    {
      "cell_type": "code",
      "execution_count": 83,
      "metadata": {
        "id": "ijq-rioYQxf5"
      },
      "outputs": [],
      "source": [
        "# Iteration14 :\n",
        "\n",
        "slice14 = 13\n",
        "\n",
        "approx14 = [simple_regret_approx_1[slice14],\n",
        "       simple_regret_approx_2[slice14],\n",
        "       simple_regret_approx_3[slice14],\n",
        "       simple_regret_approx_4[slice14],\n",
        "       simple_regret_approx_5[slice14],\n",
        "       simple_regret_approx_6[slice14],\n",
        "       simple_regret_approx_7[slice14],\n",
        "       simple_regret_approx_8[slice14],\n",
        "       simple_regret_approx_9[slice14],\n",
        "       simple_regret_approx_10[slice14],\n",
        "       simple_regret_approx_11[slice14],\n",
        "       simple_regret_approx_12[slice14],\n",
        "       simple_regret_approx_13[slice14],\n",
        "       simple_regret_approx_14[slice14],\n",
        "       simple_regret_approx_15[slice14],\n",
        "       simple_regret_approx_16[slice14],\n",
        "       simple_regret_approx_17[slice14],\n",
        "       simple_regret_approx_18[slice14],\n",
        "       simple_regret_approx_19[slice14],\n",
        "       simple_regret_approx_20[slice14]]\n",
        "\n",
        "exact14 = [simple_regret_exact_1[slice14],\n",
        "       simple_regret_exact_2[slice14],\n",
        "       simple_regret_exact_3[slice14],\n",
        "       simple_regret_exact_4[slice14],\n",
        "       simple_regret_exact_5[slice14],\n",
        "       simple_regret_exact_6[slice14],\n",
        "       simple_regret_exact_7[slice14],\n",
        "       simple_regret_exact_8[slice14],\n",
        "       simple_regret_exact_9[slice14],\n",
        "       simple_regret_exact_10[slice14],\n",
        "       simple_regret_exact_11[slice14],\n",
        "       simple_regret_exact_12[slice14],\n",
        "       simple_regret_exact_13[slice14],\n",
        "       simple_regret_exact_14[slice14],\n",
        "       simple_regret_exact_15[slice14],\n",
        "       simple_regret_exact_16[slice14],\n",
        "       simple_regret_exact_17[slice14],\n",
        "       simple_regret_exact_18[slice14],\n",
        "       simple_regret_exact_19[slice14],\n",
        "       simple_regret_exact_20[slice14]]\n",
        "\n",
        "approx14_results = pd.DataFrame(approx14).sort_values(by=[0], ascending=False)\n",
        "exact14_results = pd.DataFrame(exact14).sort_values(by=[0], ascending=False)\n",
        "\n",
        "### Best simple regret minimization IQR - approx:\n",
        "lower_approx14 = np.asarray(approx14_results[4:5][0])[0]\n",
        "median_approx14 = np.asarray(approx14_results[9:10][0])[0]\n",
        "upper_approx14 = np.asarray(approx14_results[14:15][0])[0]\n",
        "\n",
        "lower_exact14 = np.asarray(exact14_results[4:5][0])[0]\n",
        "median_exact14 = np.asarray(exact14_results[9:10][0])[0]\n",
        "upper_exact14 = np.asarray(exact14_results[14:15][0])[0]"
      ]
    },
    {
      "cell_type": "code",
      "execution_count": 84,
      "metadata": {
        "id": "XINlZjoTd-ZK"
      },
      "outputs": [],
      "source": [
        "# Iteration5 :\n",
        "\n",
        "slice5 = 4\n",
        "\n",
        "approx5 = [simple_regret_approx_1[slice5],\n",
        "       simple_regret_approx_2[slice5],\n",
        "       simple_regret_approx_3[slice5],\n",
        "       simple_regret_approx_4[slice5],\n",
        "       simple_regret_approx_5[slice5],\n",
        "       simple_regret_approx_6[slice5],\n",
        "       simple_regret_approx_7[slice5],\n",
        "       simple_regret_approx_8[slice5],\n",
        "       simple_regret_approx_9[slice5],\n",
        "       simple_regret_approx_10[slice5],\n",
        "       simple_regret_approx_11[slice5],\n",
        "       simple_regret_approx_12[slice5],\n",
        "       simple_regret_approx_13[slice5],\n",
        "       simple_regret_approx_14[slice5],\n",
        "       simple_regret_approx_15[slice5],\n",
        "       simple_regret_approx_16[slice5],\n",
        "       simple_regret_approx_17[slice5],\n",
        "       simple_regret_approx_18[slice5],\n",
        "       simple_regret_approx_19[slice5],\n",
        "       simple_regret_approx_20[slice5]]\n",
        "\n",
        "exact5 = [simple_regret_exact_1[slice5],\n",
        "       simple_regret_exact_2[slice5],\n",
        "       simple_regret_exact_3[slice5],\n",
        "       simple_regret_exact_4[slice5],\n",
        "       simple_regret_exact_5[slice5],\n",
        "       simple_regret_exact_6[slice5],\n",
        "       simple_regret_exact_7[slice5],\n",
        "       simple_regret_exact_8[slice5],\n",
        "       simple_regret_exact_9[slice5],\n",
        "       simple_regret_exact_10[slice5],\n",
        "       simple_regret_exact_11[slice5],\n",
        "       simple_regret_exact_12[slice5],\n",
        "       simple_regret_exact_13[slice5],\n",
        "       simple_regret_exact_14[slice5],\n",
        "       simple_regret_exact_15[slice5],\n",
        "       simple_regret_exact_16[slice5],\n",
        "       simple_regret_exact_17[slice5],\n",
        "       simple_regret_exact_18[slice5],\n",
        "       simple_regret_exact_19[slice5],\n",
        "       simple_regret_exact_20[slice5]]\n",
        "\n",
        "approx5_results = pd.DataFrame(approx5).sort_values(by=[0], ascending=False)\n",
        "exact5_results = pd.DataFrame(exact5).sort_values(by=[0], ascending=False)\n",
        "\n",
        "### Best simple regret minimization IQR - approx:\n",
        "lower_approx5 = np.asarray(approx5_results[4:5][0])[0]\n",
        "median_approx5 = np.asarray(approx5_results[9:10][0])[0]\n",
        "upper_approx5 = np.asarray(approx5_results[14:15][0])[0]\n",
        "\n",
        "lower_exact5 = np.asarray(exact5_results[4:5][0])[0]\n",
        "median_exact5 = np.asarray(exact5_results[9:10][0])[0]\n",
        "upper_exact5 = np.asarray(exact5_results[14:15][0])[0]"
      ]
    },
    {
      "cell_type": "code",
      "execution_count": 85,
      "metadata": {
        "id": "4aZ7C8sOQxf6"
      },
      "outputs": [],
      "source": [
        "# Iteration15 :\n",
        "\n",
        "slice15 = 14\n",
        "\n",
        "approx15 = [simple_regret_approx_1[slice15],\n",
        "       simple_regret_approx_2[slice15],\n",
        "       simple_regret_approx_3[slice15],\n",
        "       simple_regret_approx_4[slice15],\n",
        "       simple_regret_approx_5[slice15],\n",
        "       simple_regret_approx_6[slice15],\n",
        "       simple_regret_approx_7[slice15],\n",
        "       simple_regret_approx_8[slice15],\n",
        "       simple_regret_approx_9[slice15],\n",
        "       simple_regret_approx_10[slice15],\n",
        "       simple_regret_approx_11[slice15],\n",
        "       simple_regret_approx_12[slice15],\n",
        "       simple_regret_approx_13[slice15],\n",
        "       simple_regret_approx_14[slice15],\n",
        "       simple_regret_approx_15[slice15],\n",
        "       simple_regret_approx_16[slice15],\n",
        "       simple_regret_approx_17[slice15],\n",
        "       simple_regret_approx_18[slice15],\n",
        "       simple_regret_approx_19[slice15],\n",
        "       simple_regret_approx_20[slice15]]\n",
        "\n",
        "exact15 = [simple_regret_exact_1[slice15],\n",
        "       simple_regret_exact_2[slice15],\n",
        "       simple_regret_exact_3[slice15],\n",
        "       simple_regret_exact_4[slice15],\n",
        "       simple_regret_exact_5[slice15],\n",
        "       simple_regret_exact_6[slice15],\n",
        "       simple_regret_exact_7[slice15],\n",
        "       simple_regret_exact_8[slice15],\n",
        "       simple_regret_exact_9[slice15],\n",
        "       simple_regret_exact_10[slice15],\n",
        "       simple_regret_exact_11[slice15],\n",
        "       simple_regret_exact_12[slice15],\n",
        "       simple_regret_exact_13[slice15],\n",
        "       simple_regret_exact_14[slice15],\n",
        "       simple_regret_exact_15[slice15],\n",
        "       simple_regret_exact_16[slice15],\n",
        "       simple_regret_exact_17[slice15],\n",
        "       simple_regret_exact_18[slice15],\n",
        "       simple_regret_exact_19[slice15],\n",
        "       simple_regret_exact_20[slice15]]\n",
        "\n",
        "approx15_results = pd.DataFrame(approx15).sort_values(by=[0], ascending=False)\n",
        "exact15_results = pd.DataFrame(exact15).sort_values(by=[0], ascending=False)\n",
        "\n",
        "### Best simple regret minimization IQR - approx:\n",
        "lower_approx15 = np.asarray(approx15_results[4:5][0])[0]\n",
        "median_approx15 = np.asarray(approx15_results[9:10][0])[0]\n",
        "upper_approx15 = np.asarray(approx15_results[14:15][0])[0]\n",
        "\n",
        "lower_exact15 = np.asarray(exact15_results[4:5][0])[0]\n",
        "median_exact15 = np.asarray(exact15_results[9:10][0])[0]\n",
        "upper_exact15 = np.asarray(exact15_results[14:15][0])[0]"
      ]
    },
    {
      "cell_type": "code",
      "execution_count": 86,
      "metadata": {
        "id": "KJINKhv1Qxf6"
      },
      "outputs": [],
      "source": [
        "# Iteration6 :\n",
        "\n",
        "slice6 = 5\n",
        "\n",
        "approx6 = [simple_regret_approx_1[slice6],\n",
        "       simple_regret_approx_2[slice6],\n",
        "       simple_regret_approx_3[slice6],\n",
        "       simple_regret_approx_4[slice6],\n",
        "       simple_regret_approx_5[slice6],\n",
        "       simple_regret_approx_6[slice6],\n",
        "       simple_regret_approx_7[slice6],\n",
        "       simple_regret_approx_8[slice6],\n",
        "       simple_regret_approx_9[slice6],\n",
        "       simple_regret_approx_10[slice6],\n",
        "       simple_regret_approx_11[slice6],\n",
        "       simple_regret_approx_12[slice6],\n",
        "       simple_regret_approx_13[slice6],\n",
        "       simple_regret_approx_14[slice6],\n",
        "       simple_regret_approx_15[slice6],\n",
        "       simple_regret_approx_16[slice6],\n",
        "       simple_regret_approx_17[slice6],\n",
        "       simple_regret_approx_18[slice6],\n",
        "       simple_regret_approx_19[slice6],\n",
        "       simple_regret_approx_20[slice6]]\n",
        "\n",
        "exact6 = [simple_regret_exact_1[slice6],\n",
        "       simple_regret_exact_2[slice6],\n",
        "       simple_regret_exact_3[slice6],\n",
        "       simple_regret_exact_4[slice6],\n",
        "       simple_regret_exact_5[slice6],\n",
        "       simple_regret_exact_6[slice6],\n",
        "       simple_regret_exact_7[slice6],\n",
        "       simple_regret_exact_8[slice6],\n",
        "       simple_regret_exact_9[slice6],\n",
        "       simple_regret_exact_10[slice6],\n",
        "       simple_regret_exact_11[slice6],\n",
        "       simple_regret_exact_12[slice6],\n",
        "       simple_regret_exact_13[slice6],\n",
        "       simple_regret_exact_14[slice6],\n",
        "       simple_regret_exact_15[slice6],\n",
        "       simple_regret_exact_16[slice6],\n",
        "       simple_regret_exact_17[slice6],\n",
        "       simple_regret_exact_18[slice6],\n",
        "       simple_regret_exact_19[slice6],\n",
        "       simple_regret_exact_20[slice6]]\n",
        "\n",
        "approx6_results = pd.DataFrame(approx6).sort_values(by=[0], ascending=False)\n",
        "exact6_results = pd.DataFrame(exact6).sort_values(by=[0], ascending=False)\n",
        "\n",
        "### Best simple regret minimization IQR - approx:\n",
        "lower_approx6 = np.asarray(approx6_results[4:5][0])[0]\n",
        "median_approx6 = np.asarray(approx6_results[9:10][0])[0]\n",
        "upper_approx6 = np.asarray(approx6_results[14:15][0])[0]\n",
        "\n",
        "lower_exact6 = np.asarray(exact6_results[4:5][0])[0]\n",
        "median_exact6 = np.asarray(exact6_results[9:10][0])[0]\n",
        "upper_exact6 = np.asarray(exact6_results[14:15][0])[0]"
      ]
    },
    {
      "cell_type": "code",
      "execution_count": 87,
      "metadata": {
        "id": "nwC5N1FsQxf7"
      },
      "outputs": [],
      "source": [
        "# Iteration16 :\n",
        "\n",
        "slice16 = 15\n",
        "\n",
        "approx16 = [simple_regret_approx_1[slice16],\n",
        "       simple_regret_approx_2[slice16],\n",
        "       simple_regret_approx_3[slice16],\n",
        "       simple_regret_approx_4[slice16],\n",
        "       simple_regret_approx_5[slice16],\n",
        "       simple_regret_approx_6[slice16],\n",
        "       simple_regret_approx_7[slice16],\n",
        "       simple_regret_approx_8[slice16],\n",
        "       simple_regret_approx_9[slice16],\n",
        "       simple_regret_approx_10[slice16],\n",
        "       simple_regret_approx_11[slice16],\n",
        "       simple_regret_approx_12[slice16],\n",
        "       simple_regret_approx_13[slice16],\n",
        "       simple_regret_approx_14[slice16],\n",
        "       simple_regret_approx_15[slice16],\n",
        "       simple_regret_approx_16[slice16],\n",
        "       simple_regret_approx_17[slice16],\n",
        "       simple_regret_approx_18[slice16],\n",
        "       simple_regret_approx_19[slice16],\n",
        "       simple_regret_approx_20[slice16]]\n",
        "\n",
        "exact16 = [simple_regret_exact_1[slice16],\n",
        "       simple_regret_exact_2[slice16],\n",
        "       simple_regret_exact_3[slice16],\n",
        "       simple_regret_exact_4[slice16],\n",
        "       simple_regret_exact_5[slice16],\n",
        "       simple_regret_exact_6[slice16],\n",
        "       simple_regret_exact_7[slice16],\n",
        "       simple_regret_exact_8[slice16],\n",
        "       simple_regret_exact_9[slice16],\n",
        "       simple_regret_exact_10[slice16],\n",
        "       simple_regret_exact_11[slice16],\n",
        "       simple_regret_exact_12[slice16],\n",
        "       simple_regret_exact_13[slice16],\n",
        "       simple_regret_exact_14[slice16],\n",
        "       simple_regret_exact_15[slice16],\n",
        "       simple_regret_exact_16[slice16],\n",
        "       simple_regret_exact_17[slice16],\n",
        "       simple_regret_exact_18[slice16],\n",
        "       simple_regret_exact_19[slice16],\n",
        "       simple_regret_exact_20[slice16]]\n",
        "\n",
        "approx16_results = pd.DataFrame(approx16).sort_values(by=[0], ascending=False)\n",
        "exact16_results = pd.DataFrame(exact16).sort_values(by=[0], ascending=False)\n",
        "\n",
        "### Best simple regret minimization IQR - approx:\n",
        "lower_approx16 = np.asarray(approx16_results[4:5][0])[0]\n",
        "median_approx16 = np.asarray(approx16_results[9:10][0])[0]\n",
        "upper_approx16 = np.asarray(approx16_results[14:15][0])[0]\n",
        "\n",
        "lower_exact16 = np.asarray(exact16_results[4:5][0])[0]\n",
        "median_exact16 = np.asarray(exact16_results[9:10][0])[0]\n",
        "upper_exact16 = np.asarray(exact16_results[14:15][0])[0]"
      ]
    },
    {
      "cell_type": "code",
      "execution_count": 88,
      "metadata": {
        "id": "TrPV0AfnQxf7"
      },
      "outputs": [],
      "source": [
        "# Iteration7 :\n",
        "\n",
        "slice7 = 6\n",
        "\n",
        "approx7 = [simple_regret_approx_1[slice7],\n",
        "       simple_regret_approx_2[slice7],\n",
        "       simple_regret_approx_3[slice7],\n",
        "       simple_regret_approx_4[slice7],\n",
        "       simple_regret_approx_5[slice7],\n",
        "       simple_regret_approx_6[slice7],\n",
        "       simple_regret_approx_7[slice7],\n",
        "       simple_regret_approx_8[slice7],\n",
        "       simple_regret_approx_9[slice7],\n",
        "       simple_regret_approx_10[slice7],\n",
        "       simple_regret_approx_11[slice7],\n",
        "       simple_regret_approx_12[slice7],\n",
        "       simple_regret_approx_13[slice7],\n",
        "       simple_regret_approx_14[slice7],\n",
        "       simple_regret_approx_15[slice7],\n",
        "       simple_regret_approx_16[slice7],\n",
        "       simple_regret_approx_17[slice7],\n",
        "       simple_regret_approx_18[slice7],\n",
        "       simple_regret_approx_19[slice7],\n",
        "       simple_regret_approx_20[slice7]]\n",
        "\n",
        "exact7 = [simple_regret_exact_1[slice7],\n",
        "       simple_regret_exact_2[slice7],\n",
        "       simple_regret_exact_3[slice7],\n",
        "       simple_regret_exact_4[slice7],\n",
        "       simple_regret_exact_5[slice7],\n",
        "       simple_regret_exact_6[slice7],\n",
        "       simple_regret_exact_7[slice7],\n",
        "       simple_regret_exact_8[slice7],\n",
        "       simple_regret_exact_9[slice7],\n",
        "       simple_regret_exact_10[slice7],\n",
        "       simple_regret_exact_11[slice7],\n",
        "       simple_regret_exact_12[slice7],\n",
        "       simple_regret_exact_13[slice7],\n",
        "       simple_regret_exact_14[slice7],\n",
        "       simple_regret_exact_15[slice7],\n",
        "       simple_regret_exact_16[slice7],\n",
        "       simple_regret_exact_17[slice7],\n",
        "       simple_regret_exact_18[slice7],\n",
        "       simple_regret_exact_19[slice7],\n",
        "       simple_regret_exact_20[slice7]]\n",
        "\n",
        "approx7_results = pd.DataFrame(approx7).sort_values(by=[0], ascending=False)\n",
        "exact7_results = pd.DataFrame(exact7).sort_values(by=[0], ascending=False)\n",
        "\n",
        "### Best simple regret minimization IQR - approx:\n",
        "lower_approx7 = np.asarray(approx7_results[4:5][0])[0]\n",
        "median_approx7 = np.asarray(approx7_results[9:10][0])[0]\n",
        "upper_approx7 = np.asarray(approx7_results[14:15][0])[0]\n",
        "\n",
        "lower_exact7 = np.asarray(exact7_results[4:5][0])[0]\n",
        "median_exact7 = np.asarray(exact7_results[9:10][0])[0]\n",
        "upper_exact7 = np.asarray(exact7_results[14:15][0])[0]"
      ]
    },
    {
      "cell_type": "code",
      "execution_count": 89,
      "metadata": {
        "id": "Ub_-wpK4Qxf8"
      },
      "outputs": [],
      "source": [
        "# Iteration17 :\n",
        "\n",
        "slice17 = 16\n",
        "\n",
        "approx17 = [simple_regret_approx_1[slice17],\n",
        "       simple_regret_approx_2[slice17],\n",
        "       simple_regret_approx_3[slice17],\n",
        "       simple_regret_approx_4[slice17],\n",
        "       simple_regret_approx_5[slice17],\n",
        "       simple_regret_approx_6[slice17],\n",
        "       simple_regret_approx_7[slice17],\n",
        "       simple_regret_approx_8[slice17],\n",
        "       simple_regret_approx_9[slice17],\n",
        "       simple_regret_approx_10[slice17],\n",
        "       simple_regret_approx_11[slice17],\n",
        "       simple_regret_approx_12[slice17],\n",
        "       simple_regret_approx_13[slice17],\n",
        "       simple_regret_approx_14[slice17],\n",
        "       simple_regret_approx_15[slice17],\n",
        "       simple_regret_approx_16[slice17],\n",
        "       simple_regret_approx_17[slice17],\n",
        "       simple_regret_approx_18[slice17],\n",
        "       simple_regret_approx_19[slice17],\n",
        "       simple_regret_approx_20[slice17]]\n",
        "\n",
        "exact17 = [simple_regret_exact_1[slice17],\n",
        "       simple_regret_exact_2[slice17],\n",
        "       simple_regret_exact_3[slice17],\n",
        "       simple_regret_exact_4[slice17],\n",
        "       simple_regret_exact_5[slice17],\n",
        "       simple_regret_exact_6[slice17],\n",
        "       simple_regret_exact_7[slice17],\n",
        "       simple_regret_exact_8[slice17],\n",
        "       simple_regret_exact_9[slice17],\n",
        "       simple_regret_exact_10[slice17],\n",
        "       simple_regret_exact_11[slice17],\n",
        "       simple_regret_exact_12[slice17],\n",
        "       simple_regret_exact_13[slice17],\n",
        "       simple_regret_exact_14[slice17],\n",
        "       simple_regret_exact_15[slice17],\n",
        "       simple_regret_exact_16[slice17],\n",
        "       simple_regret_exact_17[slice17],\n",
        "       simple_regret_exact_18[slice17],\n",
        "       simple_regret_exact_19[slice17],\n",
        "       simple_regret_exact_20[slice17]]\n",
        "\n",
        "approx17_results = pd.DataFrame(approx17).sort_values(by=[0], ascending=False)\n",
        "exact17_results = pd.DataFrame(exact17).sort_values(by=[0], ascending=False)\n",
        "\n",
        "### Best simple regret minimization IQR - approx:\n",
        "lower_approx17 = np.asarray(approx17_results[4:5][0])[0]\n",
        "median_approx17 = np.asarray(approx17_results[9:10][0])[0]\n",
        "upper_approx17 = np.asarray(approx17_results[14:15][0])[0]\n",
        "\n",
        "lower_exact17 = np.asarray(exact17_results[4:5][0])[0]\n",
        "median_exact17 = np.asarray(exact17_results[9:10][0])[0]\n",
        "upper_exact17 = np.asarray(exact17_results[14:15][0])[0]"
      ]
    },
    {
      "cell_type": "code",
      "execution_count": 90,
      "metadata": {
        "id": "-6VLo37PQxf8"
      },
      "outputs": [],
      "source": [
        "# Iteration8 :\n",
        "\n",
        "slice8 = 7\n",
        "\n",
        "approx8 = [simple_regret_approx_1[slice8],\n",
        "       simple_regret_approx_2[slice8],\n",
        "       simple_regret_approx_3[slice8],\n",
        "       simple_regret_approx_4[slice8],\n",
        "       simple_regret_approx_5[slice8],\n",
        "       simple_regret_approx_6[slice8],\n",
        "       simple_regret_approx_7[slice8],\n",
        "       simple_regret_approx_8[slice8],\n",
        "       simple_regret_approx_9[slice8],\n",
        "       simple_regret_approx_10[slice8],\n",
        "       simple_regret_approx_11[slice8],\n",
        "       simple_regret_approx_12[slice8],\n",
        "       simple_regret_approx_13[slice8],\n",
        "       simple_regret_approx_14[slice8],\n",
        "       simple_regret_approx_15[slice8],\n",
        "       simple_regret_approx_16[slice8],\n",
        "       simple_regret_approx_17[slice8],\n",
        "       simple_regret_approx_18[slice8],\n",
        "       simple_regret_approx_19[slice8],\n",
        "       simple_regret_approx_20[slice8]]\n",
        "\n",
        "exact8 = [simple_regret_exact_1[slice8],\n",
        "       simple_regret_exact_2[slice8],\n",
        "       simple_regret_exact_3[slice8],\n",
        "       simple_regret_exact_4[slice8],\n",
        "       simple_regret_exact_5[slice8],\n",
        "       simple_regret_exact_6[slice8],\n",
        "       simple_regret_exact_7[slice8],\n",
        "       simple_regret_exact_8[slice8],\n",
        "       simple_regret_exact_9[slice8],\n",
        "       simple_regret_exact_10[slice8],\n",
        "       simple_regret_exact_11[slice8],\n",
        "       simple_regret_exact_12[slice8],\n",
        "       simple_regret_exact_13[slice8],\n",
        "       simple_regret_exact_14[slice8],\n",
        "       simple_regret_exact_15[slice8],\n",
        "       simple_regret_exact_16[slice8],\n",
        "       simple_regret_exact_17[slice8],\n",
        "       simple_regret_exact_18[slice8],\n",
        "       simple_regret_exact_19[slice8],\n",
        "       simple_regret_exact_20[slice8]]\n",
        "\n",
        "approx8_results = pd.DataFrame(approx8).sort_values(by=[0], ascending=False)\n",
        "exact8_results = pd.DataFrame(exact8).sort_values(by=[0], ascending=False)\n",
        "\n",
        "### Best simple regret minimization IQR - approx:\n",
        "lower_approx8 = np.asarray(approx8_results[4:5][0])[0]\n",
        "median_approx8 = np.asarray(approx8_results[9:10][0])[0]\n",
        "upper_approx8 = np.asarray(approx8_results[14:15][0])[0]\n",
        "\n",
        "lower_exact8 = np.asarray(exact8_results[4:5][0])[0]\n",
        "median_exact8 = np.asarray(exact8_results[9:10][0])[0]\n",
        "upper_exact8 = np.asarray(exact8_results[14:15][0])[0]"
      ]
    },
    {
      "cell_type": "code",
      "execution_count": 91,
      "metadata": {
        "id": "2Dp-9CC2Qxf9"
      },
      "outputs": [],
      "source": [
        "# Iteration18 :\n",
        "\n",
        "slice18 = 17\n",
        "\n",
        "approx18 = [simple_regret_approx_1[slice18],\n",
        "       simple_regret_approx_2[slice18],\n",
        "       simple_regret_approx_3[slice18],\n",
        "       simple_regret_approx_4[slice18],\n",
        "       simple_regret_approx_5[slice18],\n",
        "       simple_regret_approx_6[slice18],\n",
        "       simple_regret_approx_7[slice18],\n",
        "       simple_regret_approx_8[slice18],\n",
        "       simple_regret_approx_9[slice18],\n",
        "       simple_regret_approx_10[slice18],\n",
        "       simple_regret_approx_11[slice18],\n",
        "       simple_regret_approx_12[slice18],\n",
        "       simple_regret_approx_13[slice18],\n",
        "       simple_regret_approx_14[slice18],\n",
        "       simple_regret_approx_15[slice18],\n",
        "       simple_regret_approx_16[slice18],\n",
        "       simple_regret_approx_17[slice18],\n",
        "       simple_regret_approx_18[slice18],\n",
        "       simple_regret_approx_19[slice18],\n",
        "       simple_regret_approx_20[slice18]]\n",
        "\n",
        "exact18 = [simple_regret_exact_1[slice18],\n",
        "       simple_regret_exact_2[slice18],\n",
        "       simple_regret_exact_3[slice18],\n",
        "       simple_regret_exact_4[slice18],\n",
        "       simple_regret_exact_5[slice18],\n",
        "       simple_regret_exact_6[slice18],\n",
        "       simple_regret_exact_7[slice18],\n",
        "       simple_regret_exact_8[slice18],\n",
        "       simple_regret_exact_9[slice18],\n",
        "       simple_regret_exact_10[slice18],\n",
        "       simple_regret_exact_11[slice18],\n",
        "       simple_regret_exact_12[slice18],\n",
        "       simple_regret_exact_13[slice18],\n",
        "       simple_regret_exact_14[slice18],\n",
        "       simple_regret_exact_15[slice18],\n",
        "       simple_regret_exact_16[slice18],\n",
        "       simple_regret_exact_17[slice18],\n",
        "       simple_regret_exact_18[slice18],\n",
        "       simple_regret_exact_19[slice18],\n",
        "       simple_regret_exact_20[slice18]]\n",
        "\n",
        "approx18_results = pd.DataFrame(approx18).sort_values(by=[0], ascending=False)\n",
        "exact18_results = pd.DataFrame(exact18).sort_values(by=[0], ascending=False)\n",
        "\n",
        "### Best simple regret minimization IQR - approx:\n",
        "lower_approx18 = np.asarray(approx18_results[4:5][0])[0]\n",
        "median_approx18 = np.asarray(approx18_results[9:10][0])[0]\n",
        "upper_approx18 = np.asarray(approx18_results[14:15][0])[0]\n",
        "\n",
        "lower_exact18 = np.asarray(exact18_results[4:5][0])[0]\n",
        "median_exact18 = np.asarray(exact18_results[9:10][0])[0]\n",
        "upper_exact18 = np.asarray(exact18_results[14:15][0])[0]"
      ]
    },
    {
      "cell_type": "code",
      "execution_count": 92,
      "metadata": {
        "id": "SqiaOpB7Qxf9"
      },
      "outputs": [],
      "source": [
        "# Iteration9 :\n",
        "\n",
        "slice9 = 8\n",
        "\n",
        "approx9 = [simple_regret_approx_1[slice9],\n",
        "       simple_regret_approx_2[slice9],\n",
        "       simple_regret_approx_3[slice9],\n",
        "       simple_regret_approx_4[slice9],\n",
        "       simple_regret_approx_5[slice9],\n",
        "       simple_regret_approx_6[slice9],\n",
        "       simple_regret_approx_7[slice9],\n",
        "       simple_regret_approx_8[slice9],\n",
        "       simple_regret_approx_9[slice9],\n",
        "       simple_regret_approx_10[slice9],\n",
        "       simple_regret_approx_11[slice9],\n",
        "       simple_regret_approx_12[slice9],\n",
        "       simple_regret_approx_13[slice9],\n",
        "       simple_regret_approx_14[slice9],\n",
        "       simple_regret_approx_15[slice9],\n",
        "       simple_regret_approx_16[slice9],\n",
        "       simple_regret_approx_17[slice9],\n",
        "       simple_regret_approx_18[slice9],\n",
        "       simple_regret_approx_19[slice9],\n",
        "       simple_regret_approx_20[slice9]]\n",
        "\n",
        "exact9 = [simple_regret_exact_1[slice9],\n",
        "       simple_regret_exact_2[slice9],\n",
        "       simple_regret_exact_3[slice9],\n",
        "       simple_regret_exact_4[slice9],\n",
        "       simple_regret_exact_5[slice9],\n",
        "       simple_regret_exact_6[slice9],\n",
        "       simple_regret_exact_7[slice9],\n",
        "       simple_regret_exact_8[slice9],\n",
        "       simple_regret_exact_9[slice9],\n",
        "       simple_regret_exact_10[slice9],\n",
        "       simple_regret_exact_11[slice9],\n",
        "       simple_regret_exact_12[slice9],\n",
        "       simple_regret_exact_13[slice9],\n",
        "       simple_regret_exact_14[slice9],\n",
        "       simple_regret_exact_15[slice9],\n",
        "       simple_regret_exact_16[slice9],\n",
        "       simple_regret_exact_17[slice9],\n",
        "       simple_regret_exact_18[slice9],\n",
        "       simple_regret_exact_19[slice9],\n",
        "       simple_regret_exact_20[slice9]]\n",
        "\n",
        "approx9_results = pd.DataFrame(approx9).sort_values(by=[0], ascending=False)\n",
        "exact9_results = pd.DataFrame(exact9).sort_values(by=[0], ascending=False)\n",
        "\n",
        "### Best simple regret minimization IQR - approx:\n",
        "lower_approx9 = np.asarray(approx9_results[4:5][0])[0]\n",
        "median_approx9 = np.asarray(approx9_results[9:10][0])[0]\n",
        "upper_approx9 = np.asarray(approx9_results[14:15][0])[0]\n",
        "\n",
        "lower_exact9 = np.asarray(exact9_results[4:5][0])[0]\n",
        "median_exact9 = np.asarray(exact9_results[9:10][0])[0]\n",
        "upper_exact9 = np.asarray(exact9_results[14:15][0])[0]"
      ]
    },
    {
      "cell_type": "code",
      "execution_count": 93,
      "metadata": {
        "id": "OQkCCOsPQxf9"
      },
      "outputs": [],
      "source": [
        "# Iteration19 :\n",
        "\n",
        "slice19 = 18\n",
        "\n",
        "approx19 = [simple_regret_approx_1[slice19],\n",
        "       simple_regret_approx_2[slice19],\n",
        "       simple_regret_approx_3[slice19],\n",
        "       simple_regret_approx_4[slice19],\n",
        "       simple_regret_approx_5[slice19],\n",
        "       simple_regret_approx_6[slice19],\n",
        "       simple_regret_approx_7[slice19],\n",
        "       simple_regret_approx_8[slice19],\n",
        "       simple_regret_approx_9[slice19],\n",
        "       simple_regret_approx_10[slice19],\n",
        "       simple_regret_approx_11[slice19],\n",
        "       simple_regret_approx_12[slice19],\n",
        "       simple_regret_approx_13[slice19],\n",
        "       simple_regret_approx_14[slice19],\n",
        "       simple_regret_approx_15[slice19],\n",
        "       simple_regret_approx_16[slice19],\n",
        "       simple_regret_approx_17[slice19],\n",
        "       simple_regret_approx_18[slice19],\n",
        "       simple_regret_approx_19[slice19],\n",
        "       simple_regret_approx_20[slice19]]\n",
        "\n",
        "exact19 = [simple_regret_exact_1[slice19],\n",
        "       simple_regret_exact_2[slice19],\n",
        "       simple_regret_exact_3[slice19],\n",
        "       simple_regret_exact_4[slice19],\n",
        "       simple_regret_exact_5[slice19],\n",
        "       simple_regret_exact_6[slice19],\n",
        "       simple_regret_exact_7[slice19],\n",
        "       simple_regret_exact_8[slice19],\n",
        "       simple_regret_exact_9[slice19],\n",
        "       simple_regret_exact_10[slice19],\n",
        "       simple_regret_exact_11[slice19],\n",
        "       simple_regret_exact_12[slice19],\n",
        "       simple_regret_exact_13[slice19],\n",
        "       simple_regret_exact_14[slice19],\n",
        "       simple_regret_exact_15[slice19],\n",
        "       simple_regret_exact_16[slice19],\n",
        "       simple_regret_exact_17[slice19],\n",
        "       simple_regret_exact_18[slice19],\n",
        "       simple_regret_exact_19[slice19],\n",
        "       simple_regret_exact_20[slice19]]\n",
        "\n",
        "approx19_results = pd.DataFrame(approx19).sort_values(by=[0], ascending=False)\n",
        "exact19_results = pd.DataFrame(exact19).sort_values(by=[0], ascending=False)\n",
        "\n",
        "### Best simple regret minimization IQR - approx:\n",
        "lower_approx19 = np.asarray(approx19_results[4:5][0])[0]\n",
        "median_approx19 = np.asarray(approx19_results[9:10][0])[0]\n",
        "upper_approx19 = np.asarray(approx19_results[14:15][0])[0]\n",
        "\n",
        "lower_exact19 = np.asarray(exact19_results[4:5][0])[0]\n",
        "median_exact19 = np.asarray(exact19_results[9:10][0])[0]\n",
        "upper_exact19 = np.asarray(exact19_results[14:15][0])[0]"
      ]
    },
    {
      "cell_type": "code",
      "execution_count": 94,
      "metadata": {
        "id": "h4vtWahcQxf-"
      },
      "outputs": [],
      "source": [
        "# Iteration10 :\n",
        "\n",
        "slice10 = 9\n",
        "\n",
        "approx10 = [simple_regret_approx_1[slice10],\n",
        "       simple_regret_approx_2[slice10],\n",
        "       simple_regret_approx_3[slice10],\n",
        "       simple_regret_approx_4[slice10],\n",
        "       simple_regret_approx_5[slice10],\n",
        "       simple_regret_approx_6[slice10],\n",
        "       simple_regret_approx_7[slice10],\n",
        "       simple_regret_approx_8[slice10],\n",
        "       simple_regret_approx_9[slice10],\n",
        "       simple_regret_approx_10[slice10],\n",
        "       simple_regret_approx_11[slice10],\n",
        "       simple_regret_approx_12[slice10],\n",
        "       simple_regret_approx_13[slice10],\n",
        "       simple_regret_approx_14[slice10],\n",
        "       simple_regret_approx_15[slice10],\n",
        "       simple_regret_approx_16[slice10],\n",
        "       simple_regret_approx_17[slice10],\n",
        "       simple_regret_approx_18[slice10],\n",
        "       simple_regret_approx_19[slice10],\n",
        "       simple_regret_approx_20[slice10]]\n",
        "\n",
        "exact10 = [simple_regret_exact_1[slice10],\n",
        "       simple_regret_exact_2[slice10],\n",
        "       simple_regret_exact_3[slice10],\n",
        "       simple_regret_exact_4[slice10],\n",
        "       simple_regret_exact_5[slice10],\n",
        "       simple_regret_exact_6[slice10],\n",
        "       simple_regret_exact_7[slice10],\n",
        "       simple_regret_exact_8[slice10],\n",
        "       simple_regret_exact_9[slice10],\n",
        "       simple_regret_exact_10[slice10],\n",
        "       simple_regret_exact_11[slice10],\n",
        "       simple_regret_exact_12[slice10],\n",
        "       simple_regret_exact_13[slice10],\n",
        "       simple_regret_exact_14[slice10],\n",
        "       simple_regret_exact_15[slice10],\n",
        "       simple_regret_exact_16[slice10],\n",
        "       simple_regret_exact_17[slice10],\n",
        "       simple_regret_exact_18[slice10],\n",
        "       simple_regret_exact_19[slice10],\n",
        "       simple_regret_exact_20[slice10]]\n",
        "\n",
        "approx10_results = pd.DataFrame(approx10).sort_values(by=[0], ascending=False)\n",
        "exact10_results = pd.DataFrame(exact10).sort_values(by=[0], ascending=False)\n",
        "\n",
        "### Best simple regret minimization IQR - approx:\n",
        "lower_approx10 = np.asarray(approx10_results[4:5][0])[0]\n",
        "median_approx10 = np.asarray(approx10_results[9:10][0])[0]\n",
        "upper_approx10 = np.asarray(approx10_results[14:15][0])[0]\n",
        "\n",
        "lower_exact10 = np.asarray(exact10_results[4:5][0])[0]\n",
        "median_exact10 = np.asarray(exact10_results[9:10][0])[0]\n",
        "upper_exact10 = np.asarray(exact10_results[14:15][0])[0]"
      ]
    },
    {
      "cell_type": "code",
      "execution_count": 95,
      "metadata": {
        "id": "Rsf240pWQxf-"
      },
      "outputs": [],
      "source": [
        "# Iteration20 :\n",
        "\n",
        "slice20 = 19\n",
        "\n",
        "approx20 = [simple_regret_approx_1[slice20],\n",
        "       simple_regret_approx_2[slice20],\n",
        "       simple_regret_approx_3[slice20],\n",
        "       simple_regret_approx_4[slice20],\n",
        "       simple_regret_approx_5[slice20],\n",
        "       simple_regret_approx_6[slice20],\n",
        "       simple_regret_approx_7[slice20],\n",
        "       simple_regret_approx_8[slice20],\n",
        "       simple_regret_approx_9[slice20],\n",
        "       simple_regret_approx_10[slice20],\n",
        "       simple_regret_approx_11[slice20],\n",
        "       simple_regret_approx_12[slice20],\n",
        "       simple_regret_approx_13[slice20],\n",
        "       simple_regret_approx_14[slice20],\n",
        "       simple_regret_approx_15[slice20],\n",
        "       simple_regret_approx_16[slice20],\n",
        "       simple_regret_approx_17[slice20],\n",
        "       simple_regret_approx_18[slice20],\n",
        "       simple_regret_approx_19[slice20],\n",
        "       simple_regret_approx_20[slice20]]\n",
        "\n",
        "exact20 = [simple_regret_exact_1[slice20],\n",
        "       simple_regret_exact_2[slice20],\n",
        "       simple_regret_exact_3[slice20],\n",
        "       simple_regret_exact_4[slice20],\n",
        "       simple_regret_exact_5[slice20],\n",
        "       simple_regret_exact_6[slice20],\n",
        "       simple_regret_exact_7[slice20],\n",
        "       simple_regret_exact_8[slice20],\n",
        "       simple_regret_exact_9[slice20],\n",
        "       simple_regret_exact_10[slice20],\n",
        "       simple_regret_exact_11[slice20],\n",
        "       simple_regret_exact_12[slice20],\n",
        "       simple_regret_exact_13[slice20],\n",
        "       simple_regret_exact_14[slice20],\n",
        "       simple_regret_exact_15[slice20],\n",
        "       simple_regret_exact_16[slice20],\n",
        "       simple_regret_exact_17[slice20],\n",
        "       simple_regret_exact_18[slice20],\n",
        "       simple_regret_exact_19[slice20],\n",
        "       simple_regret_exact_20[slice20]]\n",
        "\n",
        "approx20_results = pd.DataFrame(approx20).sort_values(by=[0], ascending=False)\n",
        "exact20_results = pd.DataFrame(exact20).sort_values(by=[0], ascending=False)\n",
        "\n",
        "### Best simple regret minimization IQR - approx:\n",
        "lower_approx20 = np.asarray(approx20_results[4:5][0])[0]\n",
        "median_approx20 = np.asarray(approx20_results[9:10][0])[0]\n",
        "upper_approx20 = np.asarray(approx20_results[14:15][0])[0]\n",
        "\n",
        "lower_exact20 = np.asarray(exact20_results[4:5][0])[0]\n",
        "median_exact20 = np.asarray(exact20_results[9:10][0])[0]\n",
        "upper_exact20 = np.asarray(exact20_results[14:15][0])[0]"
      ]
    },
    {
      "cell_type": "code",
      "execution_count": 96,
      "metadata": {
        "id": "gn36RejbQxf_"
      },
      "outputs": [],
      "source": [
        "### Summarize arrays: 'Loser'\n",
        "\n",
        "lower_approx = [lower_approx1,\n",
        "            lower_approx2,\n",
        "            lower_approx3,\n",
        "            lower_approx4,\n",
        "            lower_approx5,\n",
        "            lower_approx6,\n",
        "            lower_approx7,\n",
        "            lower_approx8,\n",
        "            lower_approx9,\n",
        "            lower_approx10,\n",
        "            lower_approx11,\n",
        "            lower_approx12,\n",
        "            lower_approx13,\n",
        "            lower_approx14,\n",
        "            lower_approx15,\n",
        "            lower_approx16,\n",
        "            lower_approx17,\n",
        "            lower_approx18,\n",
        "            lower_approx19,\n",
        "            lower_approx20,\n",
        "            lower_approx21]\n",
        "\n",
        "median_approx = [median_approx1,\n",
        "            median_approx2,\n",
        "            median_approx3,\n",
        "            median_approx4,\n",
        "            median_approx5,\n",
        "            median_approx6,\n",
        "            median_approx7,\n",
        "            median_approx8,\n",
        "            median_approx9,\n",
        "            median_approx10,\n",
        "            median_approx11,\n",
        "            median_approx12,\n",
        "            median_approx13,\n",
        "            median_approx14,\n",
        "            median_approx15,\n",
        "            median_approx16,\n",
        "            median_approx17,\n",
        "            median_approx18,\n",
        "            median_approx19,\n",
        "            median_approx20,\n",
        "            median_approx21]\n",
        "\n",
        "upper_approx = [upper_approx1,\n",
        "            upper_approx2,\n",
        "            upper_approx3,\n",
        "            upper_approx4,\n",
        "            upper_approx5,\n",
        "            upper_approx6,\n",
        "            upper_approx7,\n",
        "            upper_approx8,\n",
        "            upper_approx9,\n",
        "            upper_approx10,\n",
        "            upper_approx11,\n",
        "            upper_approx12,\n",
        "            upper_approx13,\n",
        "            upper_approx14,\n",
        "            upper_approx15,\n",
        "            upper_approx16,\n",
        "            upper_approx17,\n",
        "            upper_approx18,\n",
        "            upper_approx19,\n",
        "            upper_approx20,\n",
        "            upper_approx21]"
      ]
    },
    {
      "cell_type": "code",
      "execution_count": 97,
      "metadata": {
        "id": "wxtGTOYfQxf_"
      },
      "outputs": [],
      "source": [
        "### Summarize arrays: 'exact'\n",
        "\n",
        "lower_exact = [lower_exact1,\n",
        "            lower_exact2,\n",
        "            lower_exact3,\n",
        "            lower_exact4,\n",
        "            lower_exact5,\n",
        "            lower_exact6,\n",
        "            lower_exact7,\n",
        "            lower_exact8,\n",
        "            lower_exact9,\n",
        "            lower_exact10,\n",
        "            lower_exact11,\n",
        "            lower_exact12,\n",
        "            lower_exact13,\n",
        "            lower_exact14,\n",
        "            lower_exact15,\n",
        "            lower_exact16,\n",
        "            lower_exact17,\n",
        "            lower_exact18,\n",
        "            lower_exact19,\n",
        "            lower_exact20,\n",
        "            lower_exact21]\n",
        "\n",
        "median_exact = [median_exact1,\n",
        "            median_exact2,\n",
        "            median_exact3,\n",
        "            median_exact4,\n",
        "            median_exact5,\n",
        "            median_exact6,\n",
        "            median_exact7,\n",
        "            median_exact8,\n",
        "            median_exact9,\n",
        "            median_exact10,\n",
        "            median_exact11,\n",
        "            median_exact12,\n",
        "            median_exact13,\n",
        "            median_exact14,\n",
        "            median_exact15,\n",
        "            median_exact16,\n",
        "            median_exact17,\n",
        "            median_exact18,\n",
        "            median_exact19,\n",
        "            median_exact20,\n",
        "            median_exact21]\n",
        "\n",
        "upper_exact = [upper_exact1,\n",
        "            upper_exact2,\n",
        "            upper_exact3,\n",
        "            upper_exact4,\n",
        "            upper_exact5,\n",
        "            upper_exact6,\n",
        "            upper_exact7,\n",
        "            upper_exact8,\n",
        "            upper_exact9,\n",
        "            upper_exact10,\n",
        "            upper_exact11,\n",
        "            upper_exact12,\n",
        "            upper_exact13,\n",
        "            upper_exact14,\n",
        "            upper_exact15,\n",
        "            upper_exact16,\n",
        "            upper_exact17,\n",
        "            upper_exact18,\n",
        "            upper_exact19,\n",
        "            upper_exact20,\n",
        "            upper_exact21]"
      ]
    },
    {
      "cell_type": "code",
      "execution_count": 123,
      "metadata": {
        "id": "2MONq-BXQxgA",
        "colab": {
          "base_uri": "https://localhost:8080/",
          "height": 299
        },
        "outputId": "a86bb915-aab9-482c-e30c-2774d54a9592"
      },
      "outputs": [
        {
          "output_type": "display_data",
          "data": {
            "text/plain": [
              "<Figure size 432x288 with 1 Axes>"
            ],
            "image/png": "[encoded data removed]"
          },
          "metadata": {
            "needs_background": "light"
          }
        }
      ],
      "source": [
        "### Visualise!\n",
        "\n",
        "title = func\n",
        "plt.figure()\n",
        "\n",
        "plt.plot(median_approx, color = 'Purple', ls='--')\n",
        "plt.plot(median_exact, color = 'Orange', ls='--')\n",
        "\n",
        "xstar = np.arange(0, iters+1, step=1)\n",
        "plt.fill_between(xstar, lower_approx, upper_approx, facecolor = 'Purple', alpha=0.4, label='STP CBM Optimisation: Approx STP CBM gradients ' r'($\\nu$' ' = {})'.format(df))\n",
        "plt.fill_between(xstar, lower_exact, upper_exact, facecolor = 'Orange', alpha=0.4, label='STP CBM Optimisation: Exact STP dCBM gradients ' r'($\\nu$' ' = {})'.format(df))\n",
        "\n",
        "plt.title(title, weight = 'bold')\n",
        "plt.xlabel('(Post-initialisation) iteration $\\it{k}$', weight = 'bold')\n",
        "plt.ylabel('log(Regret)', weight = 'bold') \n",
        "plt.legend(loc=1) # add plot legend\n",
        "\n",
        "### Make the x-ticks integers, not floats:\n",
        "count = len(xstar)\n",
        "plt.xticks(np.arange(count), np.arange(0, count))\n",
        "plt.show() #visualize!"
      ]
    },
    {
      "cell_type": "code",
      "execution_count": 99,
      "metadata": {
        "id": "l5dkR2Id2oiu",
        "colab": {
          "base_uri": "https://localhost:8080/"
        },
        "outputId": "774c9aa7-9ec8-4d14-bb07-93aa1017961a"
      },
      "outputs": [
        {
          "output_type": "execute_result",
          "data": {
            "text/plain": [
              "(894.6926553249359, 828.4274663925171)"
            ]
          },
          "metadata": {},
          "execution_count": 99
        }
      ],
      "source": [
        "time_approx, time_exact\n"
      ]
    },
    {
      "cell_type": "code",
      "execution_count": 100,
      "metadata": {
        "id": "uwxv4dmfGsLr",
        "colab": {
          "base_uri": "https://localhost:8080/"
        },
        "outputId": "77d004c2-61a4-4cab-9b1d-25ff0ac73f05"
      },
      "outputs": [
        {
          "output_type": "execute_result",
          "data": {
            "text/plain": [
              "(3.042546868199094, 3.3399451951861763)"
            ]
          },
          "metadata": {},
          "execution_count": 100
        }
      ],
      "source": [
        "### acqFunc attribute x, stddev: run number = 1\n",
        "\n",
        "acqFuncApprox_exact_1 = acqFuncApprox(exact_1.history)\n",
        "acqFuncExact_exact_1 = acqFuncExact(exact_1.history)\n",
        "\n",
        "e1 = np.mean(acqFuncExact_exact_1)\n",
        "a1 = np.mean(acqFuncApprox_exact_1)\n",
        "\n",
        "e1, a1\n"
      ]
    },
    {
      "cell_type": "code",
      "execution_count": 101,
      "metadata": {
        "id": "0YSV00_pGsXe",
        "colab": {
          "base_uri": "https://localhost:8080/"
        },
        "outputId": "455f1a85-a839-44fb-b19a-f58724f9167a"
      },
      "outputs": [
        {
          "output_type": "execute_result",
          "data": {
            "text/plain": [
              "(2.9497607307162883, 3.190671107308889)"
            ]
          },
          "metadata": {},
          "execution_count": 101
        }
      ],
      "source": [
        "### acqFunc attribute x, stddev: run number = 2\n",
        "\n",
        "acqFuncApprox_exact_2 = acqFuncApprox(exact_2.history)\n",
        "acqFuncExact_exact_2 = acqFuncExact(exact_2.history)\n",
        "\n",
        "e2 = np.mean(acqFuncExact_exact_2)\n",
        "a2 = np.mean(acqFuncApprox_exact_2)\n",
        "\n",
        "e2, a2\n"
      ]
    },
    {
      "cell_type": "code",
      "execution_count": 102,
      "metadata": {
        "id": "HHVmsd2UGsjT",
        "colab": {
          "base_uri": "https://localhost:8080/"
        },
        "outputId": "29af9ecd-b55a-4933-e5d1-6457a702007a"
      },
      "outputs": [
        {
          "output_type": "execute_result",
          "data": {
            "text/plain": [
              "(2.8562628176735876, 3.2325212371359675)"
            ]
          },
          "metadata": {},
          "execution_count": 102
        }
      ],
      "source": [
        "### acqFunc attribute x, stddev: run number = 3\n",
        "\n",
        "acqFuncApprox_exact_3 = acqFuncApprox(exact_3.history)\n",
        "acqFuncExact_exact_3 = acqFuncExact(exact_3.history)\n",
        "\n",
        "e3 = np.mean(acqFuncExact_exact_3)\n",
        "a3 = np.mean(acqFuncApprox_exact_3)\n",
        "\n",
        "e3, a3\n"
      ]
    },
    {
      "cell_type": "code",
      "execution_count": 103,
      "metadata": {
        "id": "r7O19S2eGsu7",
        "colab": {
          "base_uri": "https://localhost:8080/"
        },
        "outputId": "2b13f177-6390-45a1-a5d1-264462fa2d05"
      },
      "outputs": [
        {
          "output_type": "execute_result",
          "data": {
            "text/plain": [
              "(2.8680269436329486, 3.0913951375393736)"
            ]
          },
          "metadata": {},
          "execution_count": 103
        }
      ],
      "source": [
        "### acqFunc attribute x, stddev: run number = 4\n",
        "\n",
        "acqFuncApprox_exact_4 = acqFuncApprox(exact_4.history)\n",
        "acqFuncExact_exact_4 = acqFuncExact(exact_4.history)\n",
        "\n",
        "e4 = np.mean(acqFuncExact_exact_4)\n",
        "a4 = np.mean(acqFuncApprox_exact_4)\n",
        "\n",
        "e4, a4\n"
      ]
    },
    {
      "cell_type": "code",
      "execution_count": 104,
      "metadata": {
        "id": "sdb9o6NuGs5m",
        "colab": {
          "base_uri": "https://localhost:8080/"
        },
        "outputId": "da07a482-221a-4da5-e43c-8012e333fffb"
      },
      "outputs": [
        {
          "output_type": "execute_result",
          "data": {
            "text/plain": [
              "(2.99641735022666, 3.1479960755846617)"
            ]
          },
          "metadata": {},
          "execution_count": 104
        }
      ],
      "source": [
        "### acqFunc attribute x, stddev: run number = 5\n",
        "\n",
        "acqFuncApprox_exact_5 = acqFuncApprox(exact_5.history)\n",
        "acqFuncExact_exact_5 = acqFuncExact(exact_5.history)\n",
        "\n",
        "e5 = np.mean(acqFuncExact_exact_5)\n",
        "a5 = np.mean(acqFuncApprox_exact_5)\n",
        "\n",
        "e5, a5\n"
      ]
    },
    {
      "cell_type": "code",
      "execution_count": 105,
      "metadata": {
        "id": "COQl7LZ8GtE0",
        "colab": {
          "base_uri": "https://localhost:8080/"
        },
        "outputId": "0be9019f-3c36-4ab0-dd18-9497117ff43d"
      },
      "outputs": [
        {
          "output_type": "execute_result",
          "data": {
            "text/plain": [
              "(2.89759154773331, 3.3621484848440346)"
            ]
          },
          "metadata": {},
          "execution_count": 105
        }
      ],
      "source": [
        "### acqFunc attribute x, stddev: run number = 6\n",
        "\n",
        "acqFuncApprox_exact_6 = acqFuncApprox(exact_6.history)\n",
        "acqFuncExact_exact_6 = acqFuncExact(exact_6.history)\n",
        "\n",
        "e6 = np.mean(acqFuncExact_exact_6)\n",
        "a6 = np.mean(acqFuncApprox_exact_6)\n",
        "\n",
        "e6, a6\n"
      ]
    },
    {
      "cell_type": "code",
      "execution_count": 106,
      "metadata": {
        "id": "2gy9EtTzGtP7",
        "colab": {
          "base_uri": "https://localhost:8080/"
        },
        "outputId": "e6232b56-16f2-470b-cd09-27d64c95bf5c"
      },
      "outputs": [
        {
          "output_type": "execute_result",
          "data": {
            "text/plain": [
              "(2.9899706211111496, 3.266968269345574)"
            ]
          },
          "metadata": {},
          "execution_count": 106
        }
      ],
      "source": [
        "### acqFunc attribute x, stddev: run number = 7\n",
        "\n",
        "acqFuncApprox_exact_7 = acqFuncApprox(exact_7.history)\n",
        "acqFuncExact_exact_7 = acqFuncExact(exact_7.history)\n",
        "\n",
        "e7 = np.mean(acqFuncExact_exact_7)\n",
        "a7 = np.mean(acqFuncApprox_exact_7)\n",
        "\n",
        "e7, a7\n"
      ]
    },
    {
      "cell_type": "code",
      "execution_count": 107,
      "metadata": {
        "id": "S7mn0qoMGtbM",
        "colab": {
          "base_uri": "https://localhost:8080/"
        },
        "outputId": "1b477e2f-be5f-46bd-bfe0-84ecf65af5e9"
      },
      "outputs": [
        {
          "output_type": "execute_result",
          "data": {
            "text/plain": [
              "(2.898310780252163, 3.150592748096078)"
            ]
          },
          "metadata": {},
          "execution_count": 107
        }
      ],
      "source": [
        "### acqFunc attribute x, stddev: run number = 8\n",
        "\n",
        "acqFuncApprox_exact_8 = acqFuncApprox(exact_8.history)\n",
        "acqFuncExact_exact_8 = acqFuncExact(exact_8.history)\n",
        "\n",
        "e8 = np.mean(acqFuncExact_exact_8)\n",
        "a8 = np.mean(acqFuncApprox_exact_8)\n",
        "\n",
        "e8, a8\n"
      ]
    },
    {
      "cell_type": "code",
      "execution_count": 108,
      "metadata": {
        "id": "BhljmkNxGtms",
        "colab": {
          "base_uri": "https://localhost:8080/"
        },
        "outputId": "5c2813c0-2b86-4dde-f4ed-1ecddc3b2677"
      },
      "outputs": [
        {
          "output_type": "execute_result",
          "data": {
            "text/plain": [
              "(2.864198476756194, 3.3497032376591234)"
            ]
          },
          "metadata": {},
          "execution_count": 108
        }
      ],
      "source": [
        "### acqFunc attribute x, stddev: run number = 9\n",
        "\n",
        "acqFuncApprox_exact_9 = acqFuncApprox(exact_9.history)\n",
        "acqFuncExact_exact_9 = acqFuncExact(exact_9.history)\n",
        "\n",
        "e9 = np.mean(acqFuncExact_exact_9)\n",
        "a9 = np.mean(acqFuncApprox_exact_9)\n",
        "\n",
        "e9, a9\n"
      ]
    },
    {
      "cell_type": "code",
      "execution_count": 109,
      "metadata": {
        "id": "W5GZo6k3Gtx8",
        "colab": {
          "base_uri": "https://localhost:8080/"
        },
        "outputId": "c592d6b7-bbfe-40c5-e85d-ae65af561d69"
      },
      "outputs": [
        {
          "output_type": "execute_result",
          "data": {
            "text/plain": [
              "(3.106611661298987, 3.474932169538755)"
            ]
          },
          "metadata": {},
          "execution_count": 109
        }
      ],
      "source": [
        "### acqFunc attribute x, stddev: run number = 10\n",
        "\n",
        "acqFuncApprox_exact_10 = acqFuncApprox(exact_10.history)\n",
        "acqFuncExact_exact_10 = acqFuncExact(exact_10.history)\n",
        "\n",
        "e10 = np.mean(acqFuncExact_exact_10)\n",
        "a10 = np.mean(acqFuncApprox_exact_10)\n",
        "\n",
        "e10, a10\n"
      ]
    },
    {
      "cell_type": "code",
      "execution_count": 110,
      "metadata": {
        "id": "isKNhDk5Gt9D",
        "colab": {
          "base_uri": "https://localhost:8080/"
        },
        "outputId": "d9d5838a-4cfd-4fd4-8321-a8149b1d9996"
      },
      "outputs": [
        {
          "output_type": "execute_result",
          "data": {
            "text/plain": [
              "(2.852699230538584, 3.388267868702922)"
            ]
          },
          "metadata": {},
          "execution_count": 110
        }
      ],
      "source": [
        "### acqFunc attribute x, stddev: run number = 11\n",
        "\n",
        "acqFuncApprox_exact_11 = acqFuncApprox(exact_11.history)\n",
        "acqFuncExact_exact_11 = acqFuncExact(exact_11.history)\n",
        "\n",
        "e11 = np.mean(acqFuncExact_exact_11)\n",
        "a11 = np.mean(acqFuncApprox_exact_11)\n",
        "\n",
        "e11, a11\n"
      ]
    },
    {
      "cell_type": "code",
      "execution_count": 111,
      "metadata": {
        "id": "8ts-wrSuGuIm",
        "colab": {
          "base_uri": "https://localhost:8080/"
        },
        "outputId": "24192b1b-2d0d-43c2-e81f-117a3e479dbf"
      },
      "outputs": [
        {
          "output_type": "execute_result",
          "data": {
            "text/plain": [
              "(2.8590983370162446, 2.985790655480134)"
            ]
          },
          "metadata": {},
          "execution_count": 111
        }
      ],
      "source": [
        "### acqFunc attribute x, stddev: run number = 12\n",
        "\n",
        "acqFuncApprox_exact_12 = acqFuncApprox(exact_12.history)\n",
        "acqFuncExact_exact_12 = acqFuncExact(exact_12.history)\n",
        "\n",
        "e12 = np.mean(acqFuncExact_exact_12)\n",
        "a12 = np.mean(acqFuncApprox_exact_12)\n",
        "\n",
        "e12, a12\n"
      ]
    },
    {
      "cell_type": "code",
      "execution_count": 112,
      "metadata": {
        "id": "n0drhEe3GuUL",
        "colab": {
          "base_uri": "https://localhost:8080/"
        },
        "outputId": "d14c417d-0429-4a82-cc50-c045b2c0afd1"
      },
      "outputs": [
        {
          "output_type": "execute_result",
          "data": {
            "text/plain": [
              "(2.9485144214423853, 3.517919575782572)"
            ]
          },
          "metadata": {},
          "execution_count": 112
        }
      ],
      "source": [
        "### acqFunc attribute x, stddev: run number = 13\n",
        "\n",
        "acqFuncApprox_exact_13 = acqFuncApprox(exact_13.history)\n",
        "acqFuncExact_exact_13 = acqFuncExact(exact_13.history)\n",
        "\n",
        "e13 = np.mean(acqFuncExact_exact_13)\n",
        "a13 = np.mean(acqFuncApprox_exact_13)\n",
        "\n",
        "e13, a13\n"
      ]
    },
    {
      "cell_type": "code",
      "execution_count": 113,
      "metadata": {
        "id": "R0W3MZaVGues",
        "colab": {
          "base_uri": "https://localhost:8080/"
        },
        "outputId": "03f947b9-3b1c-4563-8c4e-269e1727acd9"
      },
      "outputs": [
        {
          "output_type": "execute_result",
          "data": {
            "text/plain": [
              "(2.9443630427821907, 3.1772589886158054)"
            ]
          },
          "metadata": {},
          "execution_count": 113
        }
      ],
      "source": [
        "### acqFunc attribute x, stddev: run number = 14\n",
        "\n",
        "acqFuncApprox_exact_14 = acqFuncApprox(exact_14.history)\n",
        "acqFuncExact_exact_14 = acqFuncExact(exact_14.history)\n",
        "\n",
        "e14 = np.mean(acqFuncExact_exact_14)\n",
        "a14 = np.mean(acqFuncApprox_exact_14)\n",
        "\n",
        "e14, a14\n"
      ]
    },
    {
      "cell_type": "code",
      "execution_count": 114,
      "metadata": {
        "id": "DoXdDFHoGup-",
        "colab": {
          "base_uri": "https://localhost:8080/"
        },
        "outputId": "938841a6-e8db-43b5-a153-38888021306b"
      },
      "outputs": [
        {
          "output_type": "execute_result",
          "data": {
            "text/plain": [
              "(2.8928337511196385, 3.3656273821948473)"
            ]
          },
          "metadata": {},
          "execution_count": 114
        }
      ],
      "source": [
        "### acqFunc attribute x, stddev: run number = 15\n",
        "\n",
        "acqFuncApprox_exact_15 = acqFuncApprox(exact_15.history)\n",
        "acqFuncExact_exact_15 = acqFuncExact(exact_15.history)\n",
        "\n",
        "e15 = np.mean(acqFuncExact_exact_15)\n",
        "a15 = np.mean(acqFuncApprox_exact_15)\n",
        "\n",
        "e15, a15\n"
      ]
    },
    {
      "cell_type": "code",
      "execution_count": 115,
      "metadata": {
        "id": "K_wAeqSoGu2j",
        "colab": {
          "base_uri": "https://localhost:8080/"
        },
        "outputId": "e8a63570-2197-467d-9688-51471cd10c50"
      },
      "outputs": [
        {
          "output_type": "execute_result",
          "data": {
            "text/plain": [
              "(2.839929579669599, 3.1759559488064264)"
            ]
          },
          "metadata": {},
          "execution_count": 115
        }
      ],
      "source": [
        "### acqFunc attribute x, stddev: run number = 16\n",
        "\n",
        "acqFuncApprox_exact_16 = acqFuncApprox(exact_16.history)\n",
        "acqFuncExact_exact_16 = acqFuncExact(exact_16.history)\n",
        "\n",
        "e16 = np.mean(acqFuncExact_exact_16)\n",
        "a16 = np.mean(acqFuncApprox_exact_16)\n",
        "\n",
        "e16, a16\n"
      ]
    },
    {
      "cell_type": "code",
      "execution_count": 116,
      "metadata": {
        "id": "n6zy78fjGvBT",
        "colab": {
          "base_uri": "https://localhost:8080/"
        },
        "outputId": "aab5bc2a-868c-4c79-c08d-bc764db9c40e"
      },
      "outputs": [
        {
          "output_type": "execute_result",
          "data": {
            "text/plain": [
              "(2.8081872742624796, 3.1522732340656647)"
            ]
          },
          "metadata": {},
          "execution_count": 116
        }
      ],
      "source": [
        "### acqFunc attribute x, stddev: run number = 17\n",
        "\n",
        "acqFuncApprox_exact_17 = acqFuncApprox(exact_17.history)\n",
        "acqFuncExact_exact_17 = acqFuncExact(exact_17.history)\n",
        "\n",
        "e17 = np.mean(acqFuncExact_exact_17)\n",
        "a17 = np.mean(acqFuncApprox_exact_17)\n",
        "\n",
        "e17, a17\n"
      ]
    },
    {
      "cell_type": "code",
      "execution_count": 117,
      "metadata": {
        "id": "s_6_2K4iGvM-",
        "colab": {
          "base_uri": "https://localhost:8080/"
        },
        "outputId": "6b4b4544-25fb-483d-cfbd-5db2792f10b7"
      },
      "outputs": [
        {
          "output_type": "execute_result",
          "data": {
            "text/plain": [
              "(2.8046434087262155, 3.116053682105961)"
            ]
          },
          "metadata": {},
          "execution_count": 117
        }
      ],
      "source": [
        "### acqFunc attribute x, stddev: run number = 18\n",
        "\n",
        "acqFuncApprox_exact_18 = acqFuncApprox(exact_18.history)\n",
        "acqFuncExact_exact_18 = acqFuncExact(exact_18.history)\n",
        "\n",
        "e18 = np.mean(acqFuncExact_exact_18)\n",
        "a18 = np.mean(acqFuncApprox_exact_18)\n",
        "\n",
        "e18, a18\n"
      ]
    },
    {
      "cell_type": "code",
      "execution_count": 118,
      "metadata": {
        "id": "o8oO8pdBGvYk",
        "colab": {
          "base_uri": "https://localhost:8080/"
        },
        "outputId": "d9c508b0-83b5-46e3-e006-fc79ec0b21f1"
      },
      "outputs": [
        {
          "output_type": "execute_result",
          "data": {
            "text/plain": [
              "(2.884529954450836, 3.1998799914875584)"
            ]
          },
          "metadata": {},
          "execution_count": 118
        }
      ],
      "source": [
        "### acqFunc attribute x, stddev: run number = 19\n",
        "\n",
        "acqFuncApprox_exact_19 = acqFuncApprox(exact_19.history)\n",
        "acqFuncExact_exact_19 = acqFuncExact(exact_19.history)\n",
        "\n",
        "e19 = np.mean(acqFuncExact_exact_19)\n",
        "a19 = np.mean(acqFuncApprox_exact_19)\n",
        "\n",
        "e19, a19\n"
      ]
    },
    {
      "cell_type": "code",
      "execution_count": 119,
      "metadata": {
        "id": "b2w8oLc0IMzU",
        "colab": {
          "base_uri": "https://localhost:8080/"
        },
        "outputId": "b5e9ce60-8fa8-4407-e564-601e66c8609f"
      },
      "outputs": [
        {
          "output_type": "execute_result",
          "data": {
            "text/plain": [
              "(3.0396842535447766, 3.417945416525332)"
            ]
          },
          "metadata": {},
          "execution_count": 119
        }
      ],
      "source": [
        "### acqFunc attribute x, stddev: run number = 20\n",
        "\n",
        "acqFuncApprox_exact_20 = acqFuncApprox(exact_20.history)\n",
        "acqFuncExact_exact_20 = acqFuncExact(exact_20.history)\n",
        "\n",
        "e20 = np.mean(acqFuncExact_exact_20)\n",
        "a20 = np.mean(acqFuncApprox_exact_20)\n",
        "\n",
        "e20, a20\n"
      ]
    },
    {
      "cell_type": "code",
      "execution_count": 120,
      "metadata": {
        "id": "qAZs3yxMIZul",
        "colab": {
          "base_uri": "https://localhost:8080/"
        },
        "outputId": "5c2c1832-f8e6-412e-f857-f86ef29ca996"
      },
      "outputs": [
        {
          "output_type": "execute_result",
          "data": {
            "text/plain": [
              "(2.9172090525576664, 3.255192320300293)"
            ]
          },
          "metadata": {},
          "execution_count": 120
        }
      ],
      "source": [
        "### Summarize arrays: \n",
        "\n",
        "exact_stddev = np.sort([e1,e2,e3,e4,e5,e6,e7,e8,e9,e10,e11,e12,e13,e14,e15,e16,e17,e18,e19,e20])\n",
        "approx_stddev = np.sort([a1,a2,a3,a4,a5,a6,a7,a8,a9,a10,a11,a12,a13,a14,a15,a16,a17,a18,a19,a20])\n",
        "\n",
        "np.mean(exact_stddev), np.mean(approx_stddev)\n"
      ]
    },
    {
      "cell_type": "code",
      "execution_count": 121,
      "metadata": {
        "id": "e_kpqYcMIZxu",
        "colab": {
          "base_uri": "https://localhost:8080/",
          "height": 297
        },
        "outputId": "6264c186-9953-41a7-e903-34ccc6e73576"
      },
      "outputs": [
        {
          "output_type": "display_data",
          "data": {
            "text/plain": [
              "<Figure size 432x288 with 1 Axes>"
            ],
            "image/png": "[encoded data removed]"
          },
          "metadata": {
            "needs_background": "light"
          }
        }
      ],
      "source": [
        "### Visualise!\n",
        "\n",
        "title = func\n",
        "plt.figure()\n",
        "\n",
        "plt.plot(approx_stddev, color = 'Purple', ls='--', label='Average $\\sigma$, attribute $\\mathbf{x}$: Approx STP CBM gradients')\n",
        "plt.plot(exact_stddev, color = 'Orange', ls='-', label='Average $\\sigma$, attribute $\\mathbf{x}$: Exact STP dCBM gradients')\n",
        "\n",
        "plt.title(title, weight = 'bold')\n",
        "plt.xlabel('Function evaluations: iteration $\\it{k}$', weight = 'bold')\n",
        "plt.ylabel('STP CBM: Average $\\sigma$, attribute $\\mathbf{x}$', weight = 'bold') \n",
        "plt.legend(loc=0) # add plot legend\n",
        "\n",
        "### Make the x-ticks integers, not floats:\n",
        "count = len(xstar)\n",
        "plt.xticks(np.arange(count), np.arange(1, count))\n",
        "plt.show() #visualize!\n"
      ]
    },
    {
      "cell_type": "code",
      "execution_count": 121,
      "metadata": {
        "id": "LToGd4vZIZ3I"
      },
      "outputs": [],
      "source": []
    }
  ],
  "metadata": {
    "colab": {
      "collapsed_sections": [],
      "provenance": []
    },
    "kernelspec": {
      "display_name": "Python 3",
      "name": "python3"
    },
    "language_info": {
      "name": "python"
    }
  },
  "nbformat": 4,
  "nbformat_minor": 0
}