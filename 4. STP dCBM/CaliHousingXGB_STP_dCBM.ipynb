{
  "nbformat": 4,
  "nbformat_minor": 0,
  "metadata": {
    "colab": {
      "provenance": [],
      "collapsed_sections": []
    },
    "kernelspec": {
      "name": "python3",
      "display_name": "Python 3"
    }
  },
  "cells": [
    {
      "cell_type": "markdown",
      "metadata": {
        "id": "W9wHutsqZUcn"
      },
      "source": [
        "XGBoost Regression - 'real-world' example: Californian Housing Dataset\n",
        "\n",
        "https://scikit-learn.org/stable/datasets/real_world.html#california-housing-dataset"
      ]
    },
    {
      "cell_type": "code",
      "metadata": {
        "id": "X-0Pe1i4Z2R_",
        "colab": {
          "base_uri": "https://localhost:8080/"
        },
        "outputId": "4edaf3db-4630-4bea-985a-19b916803af1"
      },
      "source": [
        "!pip install pyGPGO"
      ],
      "execution_count": null,
      "outputs": [
        {
          "output_type": "stream",
          "name": "stdout",
          "text": [
            "Looking in indexes: https://pypi.org/simple, https://us-python.pkg.dev/colab-wheels/public/simple/\n",
            "Requirement already satisfied: pyGPGO in /usr/local/lib/python3.7/dist-packages (0.5.1)\n",
            "Requirement already satisfied: joblib in /usr/local/lib/python3.7/dist-packages (from pyGPGO) (1.1.0)\n",
            "Requirement already satisfied: scipy in /usr/local/lib/python3.7/dist-packages (from pyGPGO) (1.7.3)\n",
            "Requirement already satisfied: Theano-PyMC in /usr/local/lib/python3.7/dist-packages (from pyGPGO) (1.1.2)\n",
            "Requirement already satisfied: numpy in /usr/local/lib/python3.7/dist-packages (from pyGPGO) (1.21.6)\n",
            "Requirement already satisfied: mkl in /usr/local/lib/python3.7/dist-packages (from pyGPGO) (2019.0)\n",
            "Requirement already satisfied: pyMC3 in /usr/local/lib/python3.7/dist-packages (from pyGPGO) (3.11.5)\n",
            "Requirement already satisfied: scikit-learn in /usr/local/lib/python3.7/dist-packages (from pyGPGO) (1.0.2)\n",
            "Requirement already satisfied: intel-openmp in /usr/local/lib/python3.7/dist-packages (from mkl->pyGPGO) (2022.1.0)\n",
            "Requirement already satisfied: semver>=2.13.0 in /usr/local/lib/python3.7/dist-packages (from pyMC3->pyGPGO) (2.13.0)\n",
            "Requirement already satisfied: arviz>=0.11.0 in /usr/local/lib/python3.7/dist-packages (from pyMC3->pyGPGO) (0.12.1)\n",
            "Requirement already satisfied: pandas>=0.24.0 in /usr/local/lib/python3.7/dist-packages (from pyMC3->pyGPGO) (1.3.5)\n",
            "Requirement already satisfied: dill in /usr/local/lib/python3.7/dist-packages (from pyMC3->pyGPGO) (0.3.5.1)\n",
            "Requirement already satisfied: patsy>=0.5.1 in /usr/local/lib/python3.7/dist-packages (from pyMC3->pyGPGO) (0.5.2)\n",
            "Requirement already satisfied: fastprogress>=0.2.0 in /usr/local/lib/python3.7/dist-packages (from pyMC3->pyGPGO) (1.0.3)\n",
            "Requirement already satisfied: typing-extensions>=3.7.4 in /usr/local/lib/python3.7/dist-packages (from pyMC3->pyGPGO) (4.1.1)\n",
            "Requirement already satisfied: deprecat in /usr/local/lib/python3.7/dist-packages (from pyMC3->pyGPGO) (2.1.1)\n",
            "Requirement already satisfied: cachetools>=4.2.1 in /usr/local/lib/python3.7/dist-packages (from pyMC3->pyGPGO) (4.2.4)\n",
            "Requirement already satisfied: filelock in /usr/local/lib/python3.7/dist-packages (from Theano-PyMC->pyGPGO) (3.8.0)\n",
            "Requirement already satisfied: matplotlib>=3.0 in /usr/local/lib/python3.7/dist-packages (from arviz>=0.11.0->pyMC3->pyGPGO) (3.2.2)\n",
            "Requirement already satisfied: xarray-einstats>=0.2 in /usr/local/lib/python3.7/dist-packages (from arviz>=0.11.0->pyMC3->pyGPGO) (0.2.2)\n",
            "Requirement already satisfied: packaging in /usr/local/lib/python3.7/dist-packages (from arviz>=0.11.0->pyMC3->pyGPGO) (21.3)\n",
            "Requirement already satisfied: netcdf4 in /usr/local/lib/python3.7/dist-packages (from arviz>=0.11.0->pyMC3->pyGPGO) (1.6.0)\n",
            "Requirement already satisfied: setuptools>=38.4 in /usr/local/lib/python3.7/dist-packages (from arviz>=0.11.0->pyMC3->pyGPGO) (57.4.0)\n",
            "Requirement already satisfied: xarray>=0.16.1 in /usr/local/lib/python3.7/dist-packages (from arviz>=0.11.0->pyMC3->pyGPGO) (0.20.2)\n",
            "Requirement already satisfied: kiwisolver>=1.0.1 in /usr/local/lib/python3.7/dist-packages (from matplotlib>=3.0->arviz>=0.11.0->pyMC3->pyGPGO) (1.4.4)\n",
            "Requirement already satisfied: python-dateutil>=2.1 in /usr/local/lib/python3.7/dist-packages (from matplotlib>=3.0->arviz>=0.11.0->pyMC3->pyGPGO) (2.8.2)\n",
            "Requirement already satisfied: pyparsing!=2.0.4,!=2.1.2,!=2.1.6,>=2.0.1 in /usr/local/lib/python3.7/dist-packages (from matplotlib>=3.0->arviz>=0.11.0->pyMC3->pyGPGO) (3.0.9)\n",
            "Requirement already satisfied: cycler>=0.10 in /usr/local/lib/python3.7/dist-packages (from matplotlib>=3.0->arviz>=0.11.0->pyMC3->pyGPGO) (0.11.0)\n",
            "Requirement already satisfied: pytz>=2017.3 in /usr/local/lib/python3.7/dist-packages (from pandas>=0.24.0->pyMC3->pyGPGO) (2022.2.1)\n",
            "Requirement already satisfied: six in /usr/local/lib/python3.7/dist-packages (from patsy>=0.5.1->pyMC3->pyGPGO) (1.15.0)\n",
            "Requirement already satisfied: importlib-metadata in /usr/local/lib/python3.7/dist-packages (from xarray>=0.16.1->arviz>=0.11.0->pyMC3->pyGPGO) (4.12.0)\n",
            "Requirement already satisfied: wrapt<2,>=1.10 in /usr/local/lib/python3.7/dist-packages (from deprecat->pyMC3->pyGPGO) (1.14.1)\n",
            "Requirement already satisfied: zipp>=0.5 in /usr/local/lib/python3.7/dist-packages (from importlib-metadata->xarray>=0.16.1->arviz>=0.11.0->pyMC3->pyGPGO) (3.8.1)\n",
            "Requirement already satisfied: cftime in /usr/local/lib/python3.7/dist-packages (from netcdf4->arviz>=0.11.0->pyMC3->pyGPGO) (1.6.1)\n",
            "Requirement already satisfied: threadpoolctl>=2.0.0 in /usr/local/lib/python3.7/dist-packages (from scikit-learn->pyGPGO) (3.1.0)\n"
          ]
        }
      ]
    },
    {
      "cell_type": "code",
      "metadata": {
        "id": "W7zDTf1naBsH"
      },
      "source": [
        "# Load some default Python modules:\n",
        "\n",
        "import numpy as np\n",
        "import scipy as sp\n",
        "import pandas as pd\n",
        "import matplotlib.pyplot as plt\n",
        "import xgboost as xgb\n",
        "import time\n",
        "\n",
        "from matplotlib.pyplot import rc\n",
        "rc('font',**{'family':'sans-serif','sans-serif':['Helvetica']})\n",
        "rc('text', usetex=False)\n",
        "import seaborn as sns\n",
        "plt.style.use('seaborn-whitegrid')\n",
        "\n",
        "from collections import OrderedDict\n",
        "from joblib import Parallel, delayed\n",
        "from numpy.linalg import slogdet, inv, cholesky, solve\n",
        "from scipy.optimize import minimize\n",
        "from scipy.spatial.distance import cdist\n",
        "from scipy.special import gamma\n",
        "from scipy.stats import t\n",
        "from joblib import Parallel, delayed\n",
        "import itertools\n",
        "\n",
        "from pyGPGO.logger import EventLogger\n",
        "from pyGPGO.GPGO import GPGO\n",
        "from pyGPGO.surrogates.tStudentProcess import tStudentProcess\n",
        "from pyGPGO.acquisition import Acquisition\n",
        "from pyGPGO.covfunc import squaredExponential\n",
        "from sklearn.model_selection import cross_val_score, train_test_split\n",
        "from sklearn.metrics import mean_squared_error\n",
        "from xgboost import XGBRegressor\n",
        "from pandas_datareader import data\n",
        "\n",
        "import warnings\n",
        "import random\n",
        "warnings.filterwarnings(\"ignore\", category=FutureWarning)\n",
        "warnings.filterwarnings(\"ignore\", category=RuntimeWarning)\n",
        "warnings.filterwarnings(\"ignore\", category=UserWarning)"
      ],
      "execution_count": null,
      "outputs": []
    },
    {
      "cell_type": "code",
      "metadata": {
        "id": "VXicekJhaE0P"
      },
      "source": [
        "# Read data in pandas dataframe:\n",
        "df_train =  pd.read_csv('/content/sample_data/california_housing_train.csv')\n"
      ],
      "execution_count": null,
      "outputs": []
    },
    {
      "cell_type": "code",
      "metadata": {
        "id": "YQ0mDzt_cBmw",
        "colab": {
          "base_uri": "https://localhost:8080/",
          "height": 270
        },
        "outputId": "15e56d9d-b998-43cf-9781-fdaf139798be"
      },
      "source": [
        "# List first rows:\n",
        "\n",
        "df_train.head()"
      ],
      "execution_count": null,
      "outputs": [
        {
          "output_type": "execute_result",
          "data": {
            "text/plain": [
              "   longitude  latitude  housing_median_age  total_rooms  total_bedrooms  \\\n",
              "0    -114.31     34.19                15.0       5612.0          1283.0   \n",
              "1    -114.47     34.40                19.0       7650.0          1901.0   \n",
              "2    -114.56     33.69                17.0        720.0           174.0   \n",
              "3    -114.57     33.64                14.0       1501.0           337.0   \n",
              "4    -114.57     33.57                20.0       1454.0           326.0   \n",
              "\n",
              "   population  households  median_income  median_house_value  \n",
              "0      1015.0       472.0         1.4936             66900.0  \n",
              "1      1129.0       463.0         1.8200             80100.0  \n",
              "2       333.0       117.0         1.6509             85700.0  \n",
              "3       515.0       226.0         3.1917             73400.0  \n",
              "4       624.0       262.0         1.9250             65500.0  "
            ],
            "text/html": [
              "\n",
              "  <div id=\"df-0b5e14df-6444-4799-ac66-1615337d4054\">\n",
              "    <div class=\"colab-df-container\">\n",
              "      <div>\n",
              "<style scoped>\n",
              "    .dataframe tbody tr th:only-of-type {\n",
              "        vertical-align: middle;\n",
              "    }\n",
              "\n",
              "    .dataframe tbody tr th {\n",
              "        vertical-align: top;\n",
              "    }\n",
              "\n",
              "    .dataframe thead th {\n",
              "        text-align: right;\n",
              "    }\n",
              "</style>\n",
              "<table border=\"1\" class=\"dataframe\">\n",
              "  <thead>\n",
              "    <tr style=\"text-align: right;\">\n",
              "      <th></th>\n",
              "      <th>longitude</th>\n",
              "      <th>latitude</th>\n",
              "      <th>housing_median_age</th>\n",
              "      <th>total_rooms</th>\n",
              "      <th>total_bedrooms</th>\n",
              "      <th>population</th>\n",
              "      <th>households</th>\n",
              "      <th>median_income</th>\n",
              "      <th>median_house_value</th>\n",
              "    </tr>\n",
              "  </thead>\n",
              "  <tbody>\n",
              "    <tr>\n",
              "      <th>0</th>\n",
              "      <td>-114.31</td>\n",
              "      <td>34.19</td>\n",
              "      <td>15.0</td>\n",
              "      <td>5612.0</td>\n",
              "      <td>1283.0</td>\n",
              "      <td>1015.0</td>\n",
              "      <td>472.0</td>\n",
              "      <td>1.4936</td>\n",
              "      <td>66900.0</td>\n",
              "    </tr>\n",
              "    <tr>\n",
              "      <th>1</th>\n",
              "      <td>-114.47</td>\n",
              "      <td>34.40</td>\n",
              "      <td>19.0</td>\n",
              "      <td>7650.0</td>\n",
              "      <td>1901.0</td>\n",
              "      <td>1129.0</td>\n",
              "      <td>463.0</td>\n",
              "      <td>1.8200</td>\n",
              "      <td>80100.0</td>\n",
              "    </tr>\n",
              "    <tr>\n",
              "      <th>2</th>\n",
              "      <td>-114.56</td>\n",
              "      <td>33.69</td>\n",
              "      <td>17.0</td>\n",
              "      <td>720.0</td>\n",
              "      <td>174.0</td>\n",
              "      <td>333.0</td>\n",
              "      <td>117.0</td>\n",
              "      <td>1.6509</td>\n",
              "      <td>85700.0</td>\n",
              "    </tr>\n",
              "    <tr>\n",
              "      <th>3</th>\n",
              "      <td>-114.57</td>\n",
              "      <td>33.64</td>\n",
              "      <td>14.0</td>\n",
              "      <td>1501.0</td>\n",
              "      <td>337.0</td>\n",
              "      <td>515.0</td>\n",
              "      <td>226.0</td>\n",
              "      <td>3.1917</td>\n",
              "      <td>73400.0</td>\n",
              "    </tr>\n",
              "    <tr>\n",
              "      <th>4</th>\n",
              "      <td>-114.57</td>\n",
              "      <td>33.57</td>\n",
              "      <td>20.0</td>\n",
              "      <td>1454.0</td>\n",
              "      <td>326.0</td>\n",
              "      <td>624.0</td>\n",
              "      <td>262.0</td>\n",
              "      <td>1.9250</td>\n",
              "      <td>65500.0</td>\n",
              "    </tr>\n",
              "  </tbody>\n",
              "</table>\n",
              "</div>\n",
              "      <button class=\"colab-df-convert\" onclick=\"convertToInteractive('df-0b5e14df-6444-4799-ac66-1615337d4054')\"\n",
              "              title=\"Convert this dataframe to an interactive table.\"\n",
              "              style=\"display:none;\">\n",
              "        \n",
              "  <svg xmlns=\"http://www.w3.org/2000/svg\" height=\"24px\"viewBox=\"0 0 24 24\"\n",
              "       width=\"24px\">\n",
              "    <path d=\"M0 0h24v24H0V0z\" fill=\"none\"/>\n",
              "    <path d=\"M18.56 5.44l.94 2.06.94-2.06 2.06-.94-2.06-.94-.94-2.06-.94 2.06-2.06.94zm-11 1L8.5 8.5l.94-2.06 2.06-.94-2.06-.94L8.5 2.5l-.94 2.06-2.06.94zm10 10l.94 2.06.94-2.06 2.06-.94-2.06-.94-.94-2.06-.94 2.06-2.06.94z\"/><path d=\"M17.41 7.96l-1.37-1.37c-.4-.4-.92-.59-1.43-.59-.52 0-1.04.2-1.43.59L10.3 9.45l-7.72 7.72c-.78.78-.78 2.05 0 2.83L4 21.41c.39.39.9.59 1.41.59.51 0 1.02-.2 1.41-.59l7.78-7.78 2.81-2.81c.8-.78.8-2.07 0-2.86zM5.41 20L4 18.59l7.72-7.72 1.47 1.35L5.41 20z\"/>\n",
              "  </svg>\n",
              "      </button>\n",
              "      \n",
              "  <style>\n",
              "    .colab-df-container {\n",
              "      display:flex;\n",
              "      flex-wrap:wrap;\n",
              "      gap: 12px;\n",
              "    }\n",
              "\n",
              "    .colab-df-convert {\n",
              "      background-color: #E8F0FE;\n",
              "      border: none;\n",
              "      border-radius: 50%;\n",
              "      cursor: pointer;\n",
              "      display: none;\n",
              "      fill: #1967D2;\n",
              "      height: 32px;\n",
              "      padding: 0 0 0 0;\n",
              "      width: 32px;\n",
              "    }\n",
              "\n",
              "    .colab-df-convert:hover {\n",
              "      background-color: #E2EBFA;\n",
              "      box-shadow: 0px 1px 2px rgba(60, 64, 67, 0.3), 0px 1px 3px 1px rgba(60, 64, 67, 0.15);\n",
              "      fill: #174EA6;\n",
              "    }\n",
              "\n",
              "    [theme=dark] .colab-df-convert {\n",
              "      background-color: #3B4455;\n",
              "      fill: #D2E3FC;\n",
              "    }\n",
              "\n",
              "    [theme=dark] .colab-df-convert:hover {\n",
              "      background-color: #434B5C;\n",
              "      box-shadow: 0px 1px 3px 1px rgba(0, 0, 0, 0.15);\n",
              "      filter: drop-shadow(0px 1px 2px rgba(0, 0, 0, 0.3));\n",
              "      fill: #FFFFFF;\n",
              "    }\n",
              "  </style>\n",
              "\n",
              "      <script>\n",
              "        const buttonEl =\n",
              "          document.querySelector('#df-0b5e14df-6444-4799-ac66-1615337d4054 button.colab-df-convert');\n",
              "        buttonEl.style.display =\n",
              "          google.colab.kernel.accessAllowed ? 'block' : 'none';\n",
              "\n",
              "        async function convertToInteractive(key) {\n",
              "          const element = document.querySelector('#df-0b5e14df-6444-4799-ac66-1615337d4054');\n",
              "          const dataTable =\n",
              "            await google.colab.kernel.invokeFunction('convertToInteractive',\n",
              "                                                     [key], {});\n",
              "          if (!dataTable) return;\n",
              "\n",
              "          const docLinkHtml = 'Like what you see? Visit the ' +\n",
              "            '<a target=\"_blank\" href=https://colab.research.google.com/notebooks/data_table.ipynb>data table notebook</a>'\n",
              "            + ' to learn more about interactive tables.';\n",
              "          element.innerHTML = '';\n",
              "          dataTable['output_type'] = 'display_data';\n",
              "          await google.colab.output.renderOutput(dataTable, element);\n",
              "          const docLink = document.createElement('div');\n",
              "          docLink.innerHTML = docLinkHtml;\n",
              "          element.appendChild(docLink);\n",
              "        }\n",
              "      </script>\n",
              "    </div>\n",
              "  </div>\n",
              "  "
            ]
          },
          "metadata": {},
          "execution_count": 73
        }
      ]
    },
    {
      "cell_type": "code",
      "metadata": {
        "id": "KTVDAD2KchTv",
        "colab": {
          "base_uri": "https://localhost:8080/"
        },
        "outputId": "1e6a499a-5ee9-46a6-c082-dc68ae05aa1b"
      },
      "source": [
        "# Remove missing data:\n",
        "\n",
        "df_train = df_train.dropna(how = 'any', axis = 'rows')\n",
        "print('New size: %d' % len(df_train))"
      ],
      "execution_count": null,
      "outputs": [
        {
          "output_type": "stream",
          "name": "stdout",
          "text": [
            "New size: 17000\n"
          ]
        }
      ]
    },
    {
      "cell_type": "code",
      "metadata": {
        "id": "OXgSHPyYcnuv",
        "colab": {
          "base_uri": "https://localhost:8080/",
          "height": 346
        },
        "outputId": "cb0671e9-12bc-47b1-c45d-0c317d5e6c5a"
      },
      "source": [
        "# Histogram fare plot:\n",
        "\n",
        "df_train.median_house_value.hist(bins=100, figsize=(16,5), color = \"red\")\n",
        "plt.xlabel('$ US Dollars', weight = 'bold', family = 'Arial')\n",
        "plt.title('Median Californian House Price', weight = 'bold', family = 'Arial')\n",
        "plt.grid(b=None)"
      ],
      "execution_count": null,
      "outputs": [
        {
          "output_type": "display_data",
          "data": {
            "text/plain": [
              "<Figure size 1152x360 with 1 Axes>"
            ],
            "image/png": "[encoded data removed]"
          },
          "metadata": {}
        }
      ]
    },
    {
      "cell_type": "code",
      "metadata": {
        "id": "9TMSdAAjcr4o",
        "colab": {
          "base_uri": "https://localhost:8080/"
        },
        "outputId": "e03eaa1f-a238-4591-fb6d-6ca2972b2ea1"
      },
      "source": [
        "y = df_train.median_house_value.values + 1e-10\n",
        "y ### for supervised learning: output vector y"
      ],
      "execution_count": null,
      "outputs": [
        {
          "output_type": "execute_result",
          "data": {
            "text/plain": [
              "array([ 66900.,  80100.,  85700., ..., 103600.,  85800.,  94600.])"
            ]
          },
          "metadata": {},
          "execution_count": 76
        }
      ]
    },
    {
      "cell_type": "code",
      "metadata": {
        "id": "6FOeHvi3cu1n",
        "colab": {
          "base_uri": "https://localhost:8080/",
          "height": 270
        },
        "outputId": "0136877c-bb5f-4464-a097-94099091644c"
      },
      "source": [
        "# List first rows (post-cleaning):\n",
        "\n",
        "df_train.head()"
      ],
      "execution_count": null,
      "outputs": [
        {
          "output_type": "execute_result",
          "data": {
            "text/plain": [
              "   longitude  latitude  housing_median_age  total_rooms  total_bedrooms  \\\n",
              "0    -114.31     34.19                15.0       5612.0          1283.0   \n",
              "1    -114.47     34.40                19.0       7650.0          1901.0   \n",
              "2    -114.56     33.69                17.0        720.0           174.0   \n",
              "3    -114.57     33.64                14.0       1501.0           337.0   \n",
              "4    -114.57     33.57                20.0       1454.0           326.0   \n",
              "\n",
              "   population  households  median_income  median_house_value  \n",
              "0      1015.0       472.0         1.4936             66900.0  \n",
              "1      1129.0       463.0         1.8200             80100.0  \n",
              "2       333.0       117.0         1.6509             85700.0  \n",
              "3       515.0       226.0         3.1917             73400.0  \n",
              "4       624.0       262.0         1.9250             65500.0  "
            ],
            "text/html": [
              "\n",
              "  <div id=\"df-a4bd6172-612c-4614-b0a9-2716a389943c\">\n",
              "    <div class=\"colab-df-container\">\n",
              "      <div>\n",
              "<style scoped>\n",
              "    .dataframe tbody tr th:only-of-type {\n",
              "        vertical-align: middle;\n",
              "    }\n",
              "\n",
              "    .dataframe tbody tr th {\n",
              "        vertical-align: top;\n",
              "    }\n",
              "\n",
              "    .dataframe thead th {\n",
              "        text-align: right;\n",
              "    }\n",
              "</style>\n",
              "<table border=\"1\" class=\"dataframe\">\n",
              "  <thead>\n",
              "    <tr style=\"text-align: right;\">\n",
              "      <th></th>\n",
              "      <th>longitude</th>\n",
              "      <th>latitude</th>\n",
              "      <th>housing_median_age</th>\n",
              "      <th>total_rooms</th>\n",
              "      <th>total_bedrooms</th>\n",
              "      <th>population</th>\n",
              "      <th>households</th>\n",
              "      <th>median_income</th>\n",
              "      <th>median_house_value</th>\n",
              "    </tr>\n",
              "  </thead>\n",
              "  <tbody>\n",
              "    <tr>\n",
              "      <th>0</th>\n",
              "      <td>-114.31</td>\n",
              "      <td>34.19</td>\n",
              "      <td>15.0</td>\n",
              "      <td>5612.0</td>\n",
              "      <td>1283.0</td>\n",
              "      <td>1015.0</td>\n",
              "      <td>472.0</td>\n",
              "      <td>1.4936</td>\n",
              "      <td>66900.0</td>\n",
              "    </tr>\n",
              "    <tr>\n",
              "      <th>1</th>\n",
              "      <td>-114.47</td>\n",
              "      <td>34.40</td>\n",
              "      <td>19.0</td>\n",
              "      <td>7650.0</td>\n",
              "      <td>1901.0</td>\n",
              "      <td>1129.0</td>\n",
              "      <td>463.0</td>\n",
              "      <td>1.8200</td>\n",
              "      <td>80100.0</td>\n",
              "    </tr>\n",
              "    <tr>\n",
              "      <th>2</th>\n",
              "      <td>-114.56</td>\n",
              "      <td>33.69</td>\n",
              "      <td>17.0</td>\n",
              "      <td>720.0</td>\n",
              "      <td>174.0</td>\n",
              "      <td>333.0</td>\n",
              "      <td>117.0</td>\n",
              "      <td>1.6509</td>\n",
              "      <td>85700.0</td>\n",
              "    </tr>\n",
              "    <tr>\n",
              "      <th>3</th>\n",
              "      <td>-114.57</td>\n",
              "      <td>33.64</td>\n",
              "      <td>14.0</td>\n",
              "      <td>1501.0</td>\n",
              "      <td>337.0</td>\n",
              "      <td>515.0</td>\n",
              "      <td>226.0</td>\n",
              "      <td>3.1917</td>\n",
              "      <td>73400.0</td>\n",
              "    </tr>\n",
              "    <tr>\n",
              "      <th>4</th>\n",
              "      <td>-114.57</td>\n",
              "      <td>33.57</td>\n",
              "      <td>20.0</td>\n",
              "      <td>1454.0</td>\n",
              "      <td>326.0</td>\n",
              "      <td>624.0</td>\n",
              "      <td>262.0</td>\n",
              "      <td>1.9250</td>\n",
              "      <td>65500.0</td>\n",
              "    </tr>\n",
              "  </tbody>\n",
              "</table>\n",
              "</div>\n",
              "      <button class=\"colab-df-convert\" onclick=\"convertToInteractive('df-a4bd6172-612c-4614-b0a9-2716a389943c')\"\n",
              "              title=\"Convert this dataframe to an interactive table.\"\n",
              "              style=\"display:none;\">\n",
              "        \n",
              "  <svg xmlns=\"http://www.w3.org/2000/svg\" height=\"24px\"viewBox=\"0 0 24 24\"\n",
              "       width=\"24px\">\n",
              "    <path d=\"M0 0h24v24H0V0z\" fill=\"none\"/>\n",
              "    <path d=\"M18.56 5.44l.94 2.06.94-2.06 2.06-.94-2.06-.94-.94-2.06-.94 2.06-2.06.94zm-11 1L8.5 8.5l.94-2.06 2.06-.94-2.06-.94L8.5 2.5l-.94 2.06-2.06.94zm10 10l.94 2.06.94-2.06 2.06-.94-2.06-.94-.94-2.06-.94 2.06-2.06.94z\"/><path d=\"M17.41 7.96l-1.37-1.37c-.4-.4-.92-.59-1.43-.59-.52 0-1.04.2-1.43.59L10.3 9.45l-7.72 7.72c-.78.78-.78 2.05 0 2.83L4 21.41c.39.39.9.59 1.41.59.51 0 1.02-.2 1.41-.59l7.78-7.78 2.81-2.81c.8-.78.8-2.07 0-2.86zM5.41 20L4 18.59l7.72-7.72 1.47 1.35L5.41 20z\"/>\n",
              "  </svg>\n",
              "      </button>\n",
              "      \n",
              "  <style>\n",
              "    .colab-df-container {\n",
              "      display:flex;\n",
              "      flex-wrap:wrap;\n",
              "      gap: 12px;\n",
              "    }\n",
              "\n",
              "    .colab-df-convert {\n",
              "      background-color: #E8F0FE;\n",
              "      border: none;\n",
              "      border-radius: 50%;\n",
              "      cursor: pointer;\n",
              "      display: none;\n",
              "      fill: #1967D2;\n",
              "      height: 32px;\n",
              "      padding: 0 0 0 0;\n",
              "      width: 32px;\n",
              "    }\n",
              "\n",
              "    .colab-df-convert:hover {\n",
              "      background-color: #E2EBFA;\n",
              "      box-shadow: 0px 1px 2px rgba(60, 64, 67, 0.3), 0px 1px 3px 1px rgba(60, 64, 67, 0.15);\n",
              "      fill: #174EA6;\n",
              "    }\n",
              "\n",
              "    [theme=dark] .colab-df-convert {\n",
              "      background-color: #3B4455;\n",
              "      fill: #D2E3FC;\n",
              "    }\n",
              "\n",
              "    [theme=dark] .colab-df-convert:hover {\n",
              "      background-color: #434B5C;\n",
              "      box-shadow: 0px 1px 3px 1px rgba(0, 0, 0, 0.15);\n",
              "      filter: drop-shadow(0px 1px 2px rgba(0, 0, 0, 0.3));\n",
              "      fill: #FFFFFF;\n",
              "    }\n",
              "  </style>\n",
              "\n",
              "      <script>\n",
              "        const buttonEl =\n",
              "          document.querySelector('#df-a4bd6172-612c-4614-b0a9-2716a389943c button.colab-df-convert');\n",
              "        buttonEl.style.display =\n",
              "          google.colab.kernel.accessAllowed ? 'block' : 'none';\n",
              "\n",
              "        async function convertToInteractive(key) {\n",
              "          const element = document.querySelector('#df-a4bd6172-612c-4614-b0a9-2716a389943c');\n",
              "          const dataTable =\n",
              "            await google.colab.kernel.invokeFunction('convertToInteractive',\n",
              "                                                     [key], {});\n",
              "          if (!dataTable) return;\n",
              "\n",
              "          const docLinkHtml = 'Like what you see? Visit the ' +\n",
              "            '<a target=\"_blank\" href=https://colab.research.google.com/notebooks/data_table.ipynb>data table notebook</a>'\n",
              "            + ' to learn more about interactive tables.';\n",
              "          element.innerHTML = '';\n",
              "          dataTable['output_type'] = 'display_data';\n",
              "          await google.colab.output.renderOutput(dataTable, element);\n",
              "          const docLink = document.createElement('div');\n",
              "          docLink.innerHTML = docLinkHtml;\n",
              "          element.appendChild(docLink);\n",
              "        }\n",
              "      </script>\n",
              "    </div>\n",
              "  </div>\n",
              "  "
            ]
          },
          "metadata": {},
          "execution_count": 77
        }
      ]
    },
    {
      "cell_type": "code",
      "metadata": {
        "id": "n-lT9BBicw4P",
        "colab": {
          "base_uri": "https://localhost:8080/",
          "height": 206
        },
        "outputId": "a1493805-4158-4669-8ddf-07054371d978"
      },
      "source": [
        "X = df_train.drop(['median_house_value'], axis = 1)\n",
        "X.head() ### for supervised learning: input matrix X"
      ],
      "execution_count": null,
      "outputs": [
        {
          "output_type": "execute_result",
          "data": {
            "text/plain": [
              "   longitude  latitude  housing_median_age  total_rooms  total_bedrooms  \\\n",
              "0    -114.31     34.19                15.0       5612.0          1283.0   \n",
              "1    -114.47     34.40                19.0       7650.0          1901.0   \n",
              "2    -114.56     33.69                17.0        720.0           174.0   \n",
              "3    -114.57     33.64                14.0       1501.0           337.0   \n",
              "4    -114.57     33.57                20.0       1454.0           326.0   \n",
              "\n",
              "   population  households  median_income  \n",
              "0      1015.0       472.0         1.4936  \n",
              "1      1129.0       463.0         1.8200  \n",
              "2       333.0       117.0         1.6509  \n",
              "3       515.0       226.0         3.1917  \n",
              "4       624.0       262.0         1.9250  "
            ],
            "text/html": [
              "\n",
              "  <div id=\"df-c8f6a1bd-2932-471d-9352-9d7c506f9b40\">\n",
              "    <div class=\"colab-df-container\">\n",
              "      <div>\n",
              "<style scoped>\n",
              "    .dataframe tbody tr th:only-of-type {\n",
              "        vertical-align: middle;\n",
              "    }\n",
              "\n",
              "    .dataframe tbody tr th {\n",
              "        vertical-align: top;\n",
              "    }\n",
              "\n",
              "    .dataframe thead th {\n",
              "        text-align: right;\n",
              "    }\n",
              "</style>\n",
              "<table border=\"1\" class=\"dataframe\">\n",
              "  <thead>\n",
              "    <tr style=\"text-align: right;\">\n",
              "      <th></th>\n",
              "      <th>longitude</th>\n",
              "      <th>latitude</th>\n",
              "      <th>housing_median_age</th>\n",
              "      <th>total_rooms</th>\n",
              "      <th>total_bedrooms</th>\n",
              "      <th>population</th>\n",
              "      <th>households</th>\n",
              "      <th>median_income</th>\n",
              "    </tr>\n",
              "  </thead>\n",
              "  <tbody>\n",
              "    <tr>\n",
              "      <th>0</th>\n",
              "      <td>-114.31</td>\n",
              "      <td>34.19</td>\n",
              "      <td>15.0</td>\n",
              "      <td>5612.0</td>\n",
              "      <td>1283.0</td>\n",
              "      <td>1015.0</td>\n",
              "      <td>472.0</td>\n",
              "      <td>1.4936</td>\n",
              "    </tr>\n",
              "    <tr>\n",
              "      <th>1</th>\n",
              "      <td>-114.47</td>\n",
              "      <td>34.40</td>\n",
              "      <td>19.0</td>\n",
              "      <td>7650.0</td>\n",
              "      <td>1901.0</td>\n",
              "      <td>1129.0</td>\n",
              "      <td>463.0</td>\n",
              "      <td>1.8200</td>\n",
              "    </tr>\n",
              "    <tr>\n",
              "      <th>2</th>\n",
              "      <td>-114.56</td>\n",
              "      <td>33.69</td>\n",
              "      <td>17.0</td>\n",
              "      <td>720.0</td>\n",
              "      <td>174.0</td>\n",
              "      <td>333.0</td>\n",
              "      <td>117.0</td>\n",
              "      <td>1.6509</td>\n",
              "    </tr>\n",
              "    <tr>\n",
              "      <th>3</th>\n",
              "      <td>-114.57</td>\n",
              "      <td>33.64</td>\n",
              "      <td>14.0</td>\n",
              "      <td>1501.0</td>\n",
              "      <td>337.0</td>\n",
              "      <td>515.0</td>\n",
              "      <td>226.0</td>\n",
              "      <td>3.1917</td>\n",
              "    </tr>\n",
              "    <tr>\n",
              "      <th>4</th>\n",
              "      <td>-114.57</td>\n",
              "      <td>33.57</td>\n",
              "      <td>20.0</td>\n",
              "      <td>1454.0</td>\n",
              "      <td>326.0</td>\n",
              "      <td>624.0</td>\n",
              "      <td>262.0</td>\n",
              "      <td>1.9250</td>\n",
              "    </tr>\n",
              "  </tbody>\n",
              "</table>\n",
              "</div>\n",
              "      <button class=\"colab-df-convert\" onclick=\"convertToInteractive('df-c8f6a1bd-2932-471d-9352-9d7c506f9b40')\"\n",
              "              title=\"Convert this dataframe to an interactive table.\"\n",
              "              style=\"display:none;\">\n",
              "        \n",
              "  <svg xmlns=\"http://www.w3.org/2000/svg\" height=\"24px\"viewBox=\"0 0 24 24\"\n",
              "       width=\"24px\">\n",
              "    <path d=\"M0 0h24v24H0V0z\" fill=\"none\"/>\n",
              "    <path d=\"M18.56 5.44l.94 2.06.94-2.06 2.06-.94-2.06-.94-.94-2.06-.94 2.06-2.06.94zm-11 1L8.5 8.5l.94-2.06 2.06-.94-2.06-.94L8.5 2.5l-.94 2.06-2.06.94zm10 10l.94 2.06.94-2.06 2.06-.94-2.06-.94-.94-2.06-.94 2.06-2.06.94z\"/><path d=\"M17.41 7.96l-1.37-1.37c-.4-.4-.92-.59-1.43-.59-.52 0-1.04.2-1.43.59L10.3 9.45l-7.72 7.72c-.78.78-.78 2.05 0 2.83L4 21.41c.39.39.9.59 1.41.59.51 0 1.02-.2 1.41-.59l7.78-7.78 2.81-2.81c.8-.78.8-2.07 0-2.86zM5.41 20L4 18.59l7.72-7.72 1.47 1.35L5.41 20z\"/>\n",
              "  </svg>\n",
              "      </button>\n",
              "      \n",
              "  <style>\n",
              "    .colab-df-container {\n",
              "      display:flex;\n",
              "      flex-wrap:wrap;\n",
              "      gap: 12px;\n",
              "    }\n",
              "\n",
              "    .colab-df-convert {\n",
              "      background-color: #E8F0FE;\n",
              "      border: none;\n",
              "      border-radius: 50%;\n",
              "      cursor: pointer;\n",
              "      display: none;\n",
              "      fill: #1967D2;\n",
              "      height: 32px;\n",
              "      padding: 0 0 0 0;\n",
              "      width: 32px;\n",
              "    }\n",
              "\n",
              "    .colab-df-convert:hover {\n",
              "      background-color: #E2EBFA;\n",
              "      box-shadow: 0px 1px 2px rgba(60, 64, 67, 0.3), 0px 1px 3px 1px rgba(60, 64, 67, 0.15);\n",
              "      fill: #174EA6;\n",
              "    }\n",
              "\n",
              "    [theme=dark] .colab-df-convert {\n",
              "      background-color: #3B4455;\n",
              "      fill: #D2E3FC;\n",
              "    }\n",
              "\n",
              "    [theme=dark] .colab-df-convert:hover {\n",
              "      background-color: #434B5C;\n",
              "      box-shadow: 0px 1px 3px 1px rgba(0, 0, 0, 0.15);\n",
              "      filter: drop-shadow(0px 1px 2px rgba(0, 0, 0, 0.3));\n",
              "      fill: #FFFFFF;\n",
              "    }\n",
              "  </style>\n",
              "\n",
              "      <script>\n",
              "        const buttonEl =\n",
              "          document.querySelector('#df-c8f6a1bd-2932-471d-9352-9d7c506f9b40 button.colab-df-convert');\n",
              "        buttonEl.style.display =\n",
              "          google.colab.kernel.accessAllowed ? 'block' : 'none';\n",
              "\n",
              "        async function convertToInteractive(key) {\n",
              "          const element = document.querySelector('#df-c8f6a1bd-2932-471d-9352-9d7c506f9b40');\n",
              "          const dataTable =\n",
              "            await google.colab.kernel.invokeFunction('convertToInteractive',\n",
              "                                                     [key], {});\n",
              "          if (!dataTable) return;\n",
              "\n",
              "          const docLinkHtml = 'Like what you see? Visit the ' +\n",
              "            '<a target=\"_blank\" href=https://colab.research.google.com/notebooks/data_table.ipynb>data table notebook</a>'\n",
              "            + ' to learn more about interactive tables.';\n",
              "          element.innerHTML = '';\n",
              "          dataTable['output_type'] = 'display_data';\n",
              "          await google.colab.output.renderOutput(dataTable, element);\n",
              "          const docLink = document.createElement('div');\n",
              "          docLink.innerHTML = docLinkHtml;\n",
              "          element.appendChild(docLink);\n",
              "        }\n",
              "      </script>\n",
              "    </div>\n",
              "  </div>\n",
              "  "
            ]
          },
          "metadata": {},
          "execution_count": 78
        }
      ]
    },
    {
      "cell_type": "code",
      "metadata": {
        "id": "2eC8SDPzczNY"
      },
      "source": [
        "### Optimum rmse: regression model objective function is Root Mean Square Error (RMSE); \n",
        "### Should be minimized (as close to zero as possible):\n",
        "\n",
        "y_global_orig = 0"
      ],
      "execution_count": null,
      "outputs": []
    },
    {
      "cell_type": "code",
      "metadata": {
        "id": "GoTmWEhSc1qQ"
      },
      "source": [
        "### Bayesian Optimization - inputs:\n",
        "\n",
        "obj_func = 'XGBoost'\n",
        "n_test = 500 # test points\n",
        "\n",
        "util = 'CBM'\n",
        "n_init = 5 # random initialisations\n",
        "opt = True\n",
        "\n",
        "test_perc = 0.90\n",
        "train_perc = 1 - test_perc\n",
        "\n",
        "n_test = int(len(df_train) * test_perc)\n",
        "n_train = int(len(df_train) - n_test)\n",
        "\n",
        "eps = 1e-08\n",
        "\n",
        "df = 3"
      ],
      "execution_count": null,
      "outputs": []
    },
    {
      "cell_type": "code",
      "metadata": {
        "id": "W2ngnRxbc7cg"
      },
      "source": [
        "### Objective function:\n",
        "\n",
        "if obj_func == 'XGBoost': # 6-D\n",
        "            \n",
        "    # Constraints:\n",
        "    param_lb_alpha = 0\n",
        "    param_ub_alpha = 10\n",
        "    \n",
        "    param_lb_gamma = 0\n",
        "    param_ub_gamma = 10\n",
        "    \n",
        "    param_lb_max_depth = 5\n",
        "    param_ub_max_depth = 15\n",
        "    \n",
        "    param_lb_min_child_weight = 1\n",
        "    param_ub_min_child_weight = 20\n",
        "    \n",
        "    param_lb_subsample = .5\n",
        "    param_ub_subsample = 1\n",
        "    \n",
        "    param_lb_colsample = .1\n",
        "    param_ub_colsample = 1\n",
        "    \n",
        "    # 6-D inputs' parameter bounds:\n",
        "    param = { 'alpha':  ('cont', (param_lb_alpha, param_ub_alpha)),\n",
        "         'gamma':  ('cont', (param_lb_gamma, param_ub_gamma)),     \n",
        "         'max_depth':  ('int', (param_lb_max_depth, param_ub_max_depth)),\n",
        "         'subsample':  ('cont', (param_lb_subsample, param_ub_subsample)),\n",
        "          'min_child_weight':  ('int', (param_lb_min_child_weight, param_ub_min_child_weight)),\n",
        "            'colsample': ('cont', (param_lb_colsample, param_ub_colsample))\n",
        "        }\n",
        "       \n",
        "    # True y bounds:\n",
        "    dim = 6\n",
        "    \n",
        "    max_iter = 30  # iterations of Bayesian optimization\n",
        "    \n",
        "    operator = 1 \n",
        "    \n",
        "    n_est = 5"
      ],
      "execution_count": null,
      "outputs": []
    },
    {
      "cell_type": "code",
      "metadata": {
        "id": "_3pmZYhVl9Hb"
      },
      "source": [
        "n_start_AcqFunc = max_iter\n"
      ],
      "execution_count": null,
      "outputs": []
    },
    {
      "cell_type": "code",
      "metadata": {
        "id": "PmJsNX29c_xA"
      },
      "source": [
        "### Surrogate derivatives: \n",
        "\n",
        "cov_func = squaredExponential()\n",
        "\n",
        "def kronDelta(X, Xstar):                     # Kronecker's Delta method\n",
        "    return cdist(X, Xstar) < np.finfo(np.float32).eps\n",
        "\n",
        "def se(X, Xstar, sigmaf, l, sigman):         # S.E. kernel method\n",
        "    return sigmaf * np.exp(-0.5 * cdist(X, Xstar) ** 2 / l ** 2) + sigman * kronDelta(X, Xstar)\n",
        "\n",
        "def delta(X, Xstar):                         # Distance between training X and test Xstar vectors\n",
        "    return (X - Xstar)\n",
        "   \n",
        "def der_covmat(X, Xstar, sigmaf, l, sigman): # Covariance matrix derivative terms (i.e. exact, first-order)\n",
        "    nx = len(X)\n",
        "    ny = len(Xstar)\n",
        "    return np.round(np.array([(delta(np.atleast_2d(i), np.atleast_2d(j))[0] * se(np.atleast_2d(i), np.atleast_2d(j), sigmaf, l, sigman)[0]).sum() for (i, j) in itertools.product(X, Xstar)]).reshape(nx, ny), 8)\n",
        "\n",
        "class dtStudentProcess(tStudentProcess):    # Via inheritance, also optimises hyperparameters when opt = TRUE\n",
        "    \n",
        "    def AcqGrad(self, Xstar):               # Method returning exact, first-order derivatives of the STP's posterior mean and standard deviation\n",
        "        Xstar = np.atleast_2d(Xstar)\n",
        "        Kstar = self.covfunc.K(self.X, Xstar).T\n",
        "        dKstar = der_covmat(self.X, Xstar, self.covfunc.sigmaf, self.covfunc.l, self.covfunc.sigman).T\n",
        "        \n",
        "        smd_adj = (self.nu + self.beta1 - 2) / (self.nu + self.n1 - 2)\n",
        "\n",
        "        alpha = np.dot(np.linalg.inv(self.K11 + (self.covfunc.sigman**2) * np.eye(len(self.X))), self.y)\n",
        "        alpha_Kstar = np.dot(np.linalg.inv(self.K11 + (self.covfunc.sigman**2) * np.eye(len(self.X))), Kstar.T)      \n",
        "        \n",
        "        dm = np.dot(dKstar, alpha)\n",
        "        ds = -2 * smd_adj * np.dot(dKstar, alpha_Kstar)\n",
        "        \n",
        "        return dm, ds           \n",
        "        "
      ],
      "execution_count": null,
      "outputs": []
    },
    {
      "cell_type": "code",
      "metadata": {
        "id": "n9ZuEB2VdE0W"
      },
      "source": [
        "### Set-seeds:\n",
        "\n",
        "run_num_1 = 1\n",
        "run_num_2 = 2\n",
        "run_num_3 = 3\n",
        "run_num_4 = 4\n",
        "run_num_5 = 5\n",
        "run_num_6 = 6\n",
        "run_num_7 = 7\n",
        "run_num_8 = 8\n",
        "run_num_9 = 9\n",
        "run_num_10 = 10\n",
        "run_num_11 = 11\n",
        "run_num_12 = 12\n",
        "run_num_13 = 13\n",
        "run_num_14 = 14\n",
        "run_num_15 = 15\n",
        "run_num_16 = 16\n",
        "run_num_17 = 17\n",
        "run_num_18 = 18\n",
        "run_num_19 = 19\n",
        "run_num_20 = 20\n"
      ],
      "execution_count": null,
      "outputs": []
    },
    {
      "cell_type": "code",
      "metadata": {
        "id": "XgHMFEyPdCk4"
      },
      "source": [
        "### Cumulative Regret Calculator:\n",
        "\n",
        "def min_max_array(x):\n",
        "    new_list = []\n",
        "    for i, num in enumerate(x):\n",
        "            new_list.append(np.min(x[0:i+1]))\n",
        "    return new_list\n",
        "    "
      ],
      "execution_count": null,
      "outputs": []
    },
    {
      "cell_type": "code",
      "source": [
        "### Add exact acquisition function gradient as attribute:\n",
        "\n",
        "Beta_CBM = dim\n",
        "\n",
        "class Acquisition_grad(Acquisition):    \n",
        "    def __init__(self, mode, eps=eps, **params):\n",
        "        \n",
        "        self.params = params\n",
        "        self.eps = eps\n",
        "\n",
        "        mode_dict = {\n",
        "            'CBM': self.CBM\n",
        "        }\n",
        "\n",
        "        self.f = mode_dict[mode]\n",
        "    \n",
        "    def CBM(self, y_global_orig, mean, std, ds, dm, nu=3.0):\n",
        "        gamma = (mean - y_global_orig - self.eps) / (std + self.eps)\n",
        "        gamma_h = (mean - y_global_orig) / (std + self.eps)\n",
        "        dsdx = ds / (2 * (std + self.eps))\n",
        "        dmdx = (dm - gamma * dsdx) / (std + self.eps)\n",
        "\n",
        "        f = (std + self.eps) * (gamma + np.sqrt(Beta_CBM))\n",
        "        df = dsdx * (gamma + np.sqrt(Beta_CBM)) + (std + self.eps) * dmdx\n",
        "        df_arr = []\n",
        "\n",
        "        for j in range(0, dim):\n",
        "          df_arr.append(df)\n",
        "        return f, np.asarray(df_arr).transpose()\n",
        "        \n",
        "    def d_eval(self, y_global_orig, mean, std, ds, dm, nu=3.0):\n",
        "    \n",
        "        return self.f(y_global_orig, mean, std, ds, dm, nu=3.0, **self.params)\n",
        "        "
      ],
      "metadata": {
        "id": "ZIh5RYGkwBUZ"
      },
      "execution_count": null,
      "outputs": []
    },
    {
      "cell_type": "code",
      "metadata": {
        "id": "yAK8N5bwfuJ7"
      },
      "source": [
        "## GPGO_multi: \n",
        "\n",
        "class GPGO_multi(GPGO):\n",
        "    n_start = n_start_AcqFunc\n",
        "\n",
        "    def __init__(self, surrogate, acquisition, f, parameter_dict, n_jobs=1):\n",
        "        self.GP = surrogate\n",
        "        self.A = acquisition\n",
        "        self.f = f\n",
        "        self.parameters = parameter_dict\n",
        "        self.n_jobs = n_jobs\n",
        "\n",
        "        self.parameter_key = list(parameter_dict.keys())\n",
        "        self.parameter_value = list(parameter_dict.values())\n",
        "        self.parameter_type = [p[0] for p in self.parameter_value]\n",
        "        self.parameter_range = [p[1] for p in self.parameter_value]\n",
        "\n",
        "        self.history = []\n",
        "        self.header =   'Evaluation \\t Proposed point \\t  Current eval. \\t  Best eval. \\t         Max. ExactAcqFunc \\t Max. ApproxAcqFunc '\n",
        "        self.template = '{:3}\\t {}\\t {:3}\\t {:3}\\t {:3}\\t {:3}'\n",
        " \n",
        "    def acqfuncExact(self, xnew, n_start=n_start_AcqFunc):\n",
        "        new_mean, new_var = self.GP.predict(xnew, return_std=True)\n",
        "        new_std = np.sqrt(new_var + eps)\n",
        "        dm, ds = self.GP.AcqGrad(xnew)\n",
        "        f, df = self.A.d_eval(y_global_orig, new_mean, new_std, ds=ds, dm=dm, nu=3.0)\n",
        "\n",
        "        return -f, -df\n",
        "   \n",
        "    def acqfuncApprox(self, xnew, n_start=n_start_AcqFunc):\n",
        "        new_mean, new_var = self.GP.predict(xnew, return_std=True)\n",
        "        new_std = np.sqrt(new_var + eps)\n",
        "        dm, ds = self.GP.AcqGrad(xnew)\n",
        "        f, df = self.A.d_eval(y_global_orig, new_mean, new_std, ds=ds, dm=dm, nu=3.0)\n",
        "\n",
        "        return -f\n",
        "   \n",
        "    def _optimizeAcq(self, method='L-BFGS-B', n_start=n_start_AcqFunc):\n",
        "        \n",
        "        start_points_dict = [self._sampleParam() for i in range(n_start)]\n",
        "        start_points_arr = np.array([list(s.values())\n",
        "                                     for s in start_points_dict])\n",
        "        x_best = np.empty((n_start, len(self.parameter_key)))\n",
        "        f_best = np.empty((n_start,))\n",
        "        opt = Parallel(n_jobs=self.n_jobs)(delayed(minimize)(self.acqfuncApprox,\n",
        "                                                                 x0=start_point,\n",
        "                                                                 method=method,\n",
        "                                                                 jac = False,\n",
        "                                                                 bounds=self.parameter_range) for start_point in\n",
        "                                               start_points_arr)\n",
        "        x_best = np.array([res.x for res in opt])\n",
        "        f_best = np.array([np.atleast_1d(res.fun)[0] for res in opt])\n",
        "        f_best_min = min(f_best)\n",
        "\n",
        "        self.x_best = x_best\n",
        "        self.f_best = f_best\n",
        "        self.f_best_min = f_best_min\n",
        "        self.best = x_best[np.argmin(f_best)]\n",
        "        self.start_points_arr = start_points_arr        \n",
        "        self.history.append(self.f_best_min)\n",
        "\n",
        "        x_best_exact = np.empty((n_start, len(self.parameter_key)))\n",
        "        f_best_exact = np.empty((n_start,))\n",
        "        opt_exact = Parallel(n_jobs=self.n_jobs)(delayed(minimize)(self.acqfuncExact,\n",
        "                                                                 x0=start_point,\n",
        "                                                                 method=method,\n",
        "                                                                 jac = True,\n",
        "                                                                 bounds=self.parameter_range) for start_point in\n",
        "                                               start_points_arr)\n",
        "        x_best_exact = np.array([res.x for res in opt_exact])\n",
        "        f_best_exact = np.array([np.atleast_1d(res.fun)[0] for res in opt_exact])\n",
        "        f_best_min_exact = min(f_best_exact)\n",
        "\n",
        "        self.x_best_exact = x_best_exact\n",
        "        self.f_best_exact = f_best_exact\n",
        "        self.f_best_min_exact = f_best_min_exact\n",
        "        self.best_exact = x_best_exact[np.argmin(f_best_exact)]\n",
        "        self.start_points_arr = start_points_arr\n",
        "        self.history.append(self.f_best_min_exact)\n",
        "\n",
        "    def _printInit(self):\n",
        "        print(self.header)\n",
        "        inverse = -1\n",
        "        for init_eval in range(self.init_evals):\n",
        "            print(self.template.format('init', self.GP.X[init_eval], inverse * self.GP.y[init_eval], inverse * self.tau, '', ''))\n",
        "      \n",
        "    def _printCurrent(self):\n",
        "        OKGREEN = '\\033[92m'\n",
        "        ENDC = '\\033[0m'\n",
        "        BOLD = '\\033[1m'\n",
        "        inverse = -1\n",
        "        eval = str(len(self.GP.y) - self.init_evals)\n",
        "        proposed = str(self.best)\n",
        "        curr_eval = str(inverse * self.GP.y[-1])\n",
        "        curr_best = str(inverse * self.tau)\n",
        "        max_acqfunc = str(inverse * self.f_best_min)\n",
        "        max_acqfunc_exact = str(inverse * self.f_best_min_exact)\n",
        "        if float(curr_eval) <= float(curr_best):\n",
        "            eval = BOLD + OKGREEN + eval + ENDC\n",
        "            proposed = BOLD + OKGREEN + proposed + ENDC\n",
        "            curr_eval = BOLD + OKGREEN + curr_eval + ENDC\n",
        "            curr_best = BOLD + OKGREEN + curr_best + ENDC\n",
        "            max_acqfunc = BOLD + OKGREEN + max_acqfunc + ENDC\n",
        "            max_acqfunc_exact = BOLD + OKGREEN + max_acqfunc_exact + ENDC\n",
        "        print(self.template.format(eval, proposed, curr_eval, curr_best, max_acqfunc_exact, max_acqfunc))\n",
        "        \n",
        "    def run(self, max_iter=10, init_evals=3, resume=False):\n",
        "        \n",
        "        if not resume:\n",
        "            self.init_evals = init_evals\n",
        "            self._firstRun(self.init_evals)\n",
        "            self._printInit()\n",
        "        for iteration in range(max_iter):\n",
        "            self._optimizeAcq()\n",
        "            self.updateGP()\n",
        "            self._printCurrent()\n"
      ],
      "execution_count": null,
      "outputs": []
    },
    {
      "cell_type": "code",
      "metadata": {
        "id": "S422jNLsdIMm"
      },
      "source": [
        "## dGPGO:\n",
        "\n",
        "class dGPGO(GPGO):\n",
        "    n_start = n_start_AcqFunc\n",
        "\n",
        "    def __init__(self, surrogate, acquisition, f, parameter_dict, n_jobs=1):\n",
        "        self.GP = surrogate\n",
        "        self.A = acquisition\n",
        "        self.f = f\n",
        "        self.parameters = parameter_dict\n",
        "        self.n_jobs = n_jobs\n",
        "\n",
        "        self.parameter_key = list(parameter_dict.keys())\n",
        "        self.parameter_value = list(parameter_dict.values())\n",
        "        self.parameter_type = [p[0] for p in self.parameter_value]\n",
        "        self.parameter_range = [p[1] for p in self.parameter_value]\n",
        "\n",
        "        self.history = []\n",
        "        self.header =   'Evaluation \\t Proposed point \\t  Current eval. \\t  Best eval. \\t         Max. ExactAcqFunc \\t Max. ApproxAcqFunc '\n",
        "        self.template = '{:3}\\t {}\\t {:3}\\t {:3}\\t {:3}\\t {:3}'\n",
        "\n",
        "    def acqfuncExact(self, xnew, n_start=n_start_AcqFunc):\n",
        "        new_mean, new_var = self.GP.predict(xnew, return_std=True)\n",
        "        new_std = np.sqrt(new_var + eps)\n",
        "        dm, ds = self.GP.AcqGrad(xnew)\n",
        "        f, df = self.A.d_eval(y_global_orig, new_mean, new_std, ds=ds, dm=dm, nu=3.0)\n",
        "\n",
        "        return -f, -df\n",
        "   \n",
        "    def acqfuncApprox(self, xnew, n_start=n_start_AcqFunc):\n",
        "        new_mean, new_var = self.GP.predict(xnew, return_std=True)\n",
        "        new_std = np.sqrt(new_var + eps)\n",
        "        dm, ds = self.GP.AcqGrad(xnew)\n",
        "        f, df = self.A.d_eval(y_global_orig, new_mean, new_std, ds=ds, dm=dm, nu=3.0)\n",
        "\n",
        "        return -f\n",
        "\n",
        "    def d_optimizeAcq(self, method='L-BFGS-B', n_start=n_start_AcqFunc):\n",
        "        start_points_dict = [self._sampleParam() for i in range(n_start)]\n",
        "        start_points_arr = np.array([list(s.values())\n",
        "                                     for s in start_points_dict])\n",
        "        x_best = np.empty((n_start, len(self.parameter_key)))\n",
        "        f_best = np.empty((n_start,))\n",
        "        opt = Parallel(n_jobs=self.n_jobs)(delayed(minimize)(self.acqfuncExact,\n",
        "                                                                 x0=start_point,\n",
        "                                                                 method=method,\n",
        "                                                                 jac = True,\n",
        "                                                                 bounds=self.parameter_range) for start_point in\n",
        "                                               start_points_arr)\n",
        "        x_best = np.array([res.x for res in opt])\n",
        "        f_best = np.array([np.atleast_1d(res.fun)[0] for res in opt])\n",
        "        f_best_min = min(f_best)\n",
        "\n",
        "        self.x_best = x_best\n",
        "        self.f_best = f_best\n",
        "        self.f_best_min = f_best_min\n",
        "        self.best = x_best[np.argmin(f_best)]\n",
        "        self.start_points_arr = start_points_arr\n",
        "        self.history.append(self.f_best_min)\n",
        "\n",
        "        x_best_approx = np.empty((n_start, len(self.parameter_key)))\n",
        "        f_best_approx = np.empty((n_start,))\n",
        "        opt_approx = Parallel(n_jobs=self.n_jobs)(delayed(minimize)(self.acqfuncApprox,\n",
        "                                                                 x0=start_point,\n",
        "                                                                 method=method,\n",
        "                                                                 jac = False,\n",
        "                                                                 bounds=self.parameter_range) for start_point in\n",
        "                                               start_points_arr)\n",
        "        x_best_approx = np.array([res.x for res in opt_approx])\n",
        "        f_best_approx = np.array([np.atleast_1d(res.fun)[0] for res in opt_approx])\n",
        "        f_best_min_approx = min(f_best_approx)\n",
        "\n",
        "        self.x_best_approx = x_best_approx\n",
        "        self.f_best_approx = f_best_approx\n",
        "        self.f_best_min_approx = f_best_min_approx\n",
        "        self.best_approx = x_best_approx[np.argmin(f_best_approx)]\n",
        "        self.start_points_arr = start_points_arr\n",
        "        self.history.append(self.f_best_min_approx)\n",
        "    \n",
        "    def _printInit(self):\n",
        "        print(self.header)\n",
        "        inverse = -1\n",
        "        for init_eval in range(self.init_evals):\n",
        "            print(self.template.format('init', self.GP.X[init_eval], inverse * self.GP.y[init_eval], inverse * self.tau, '', ''))\n",
        "      \n",
        "    def _printCurrent(self):\n",
        "        OKGREEN = '\\033[92m'\n",
        "        ENDC = '\\033[0m'\n",
        "        BOLD = '\\033[1m'\n",
        "        inverse = -1\n",
        "        eval = str(len(self.GP.y) - self.init_evals)\n",
        "        proposed = str(self.best)\n",
        "        curr_eval = str(inverse * self.GP.y[-1])\n",
        "        curr_best = str(inverse * self.tau)\n",
        "        max_acqfunc = str(inverse * self.f_best_min)\n",
        "        max_acqfunc_approx = str(inverse * self.f_best_min_approx)\n",
        "        if float(curr_eval) <= float(curr_best):\n",
        "            eval = BOLD + OKGREEN + eval + ENDC\n",
        "            proposed = BOLD + OKGREEN + proposed + ENDC\n",
        "            curr_eval = BOLD + OKGREEN + curr_eval + ENDC\n",
        "            curr_best = BOLD + OKGREEN + curr_best + ENDC\n",
        "            max_acqfunc = BOLD + OKGREEN + max_acqfunc + ENDC\n",
        "            max_acqfunc_approx = BOLD + OKGREEN + max_acqfunc_approx + ENDC\n",
        "        print(self.template.format(eval, proposed, curr_eval, curr_best, max_acqfunc, max_acqfunc_approx))\n",
        "\n",
        "    def run(self, max_iter=10, init_evals=3, resume=False):\n",
        "        \n",
        "        if not resume:\n",
        "            self.init_evals = init_evals\n",
        "            self._firstRun(self.init_evals)\n",
        "            self._printInit()\n",
        "        for iteration in range(max_iter):\n",
        "            self.d_optimizeAcq()\n",
        "            self.updateGP()\n",
        "            self._printCurrent()\n"
      ],
      "execution_count": null,
      "outputs": []
    },
    {
      "cell_type": "code",
      "metadata": {
        "id": "HlilveEgdIR_",
        "colab": {
          "base_uri": "https://localhost:8080/"
        },
        "outputId": "5491f2a2-d134-4d11-8754-4563467d54d3"
      },
      "source": [
        "start_approx = time.time()\n",
        "start_approx"
      ],
      "execution_count": null,
      "outputs": [
        {
          "output_type": "execute_result",
          "data": {
            "text/plain": [
              "1662473160.120029"
            ]
          },
          "metadata": {},
          "execution_count": 89
        }
      ]
    },
    {
      "cell_type": "code",
      "metadata": {
        "id": "1wlzDSHbUG-c",
        "colab": {
          "base_uri": "https://localhost:8080/"
        },
        "outputId": "cc2199dd-9044-4058-d8fd-545db75bfb2f"
      },
      "source": [
        "### Bayesian optimization runs (x20): 'approx' Acquisition Function run number = 1\n",
        "\n",
        "np.random.seed(run_num_1)\n",
        "surrogate_approx_1 = dtStudentProcess(cov_func, optimize=opt, nu = df)\n",
        "\n",
        "X_train1, X_test1, y_train1, y_test1 = train_test_split(X, y, test_size=test_perc, random_state=run_num_1)\n",
        "\n",
        "def f_syn_polarity1(alpha, gamma, max_depth, subsample, min_child_weight, colsample):\n",
        "    reg = XGBRegressor(reg_alpha=alpha, gamma=gamma, max_depth=int(max_depth), subsample=subsample, min_child_weight=min_child_weight,\n",
        "          colsample_bytree=colsample, n_estimators = n_est, random_state=run_num_1, objective = 'reg:squarederror')\n",
        "    score = np.array(cross_val_score(reg, X=X_train1, y=y_train1).mean())\n",
        "    return operator * score\n",
        "\n",
        "approx_1 = GPGO_multi(surrogate_approx_1, Acquisition_grad(util), f_syn_polarity1, param, n_jobs = -1) # define BayesOpt\n",
        "approx_1.run(max_iter = max_iter, init_evals = n_init) # run\n",
        "\n",
        "### Return optimal parameters' set:\n",
        "params_approx_1 = approx_1.getResult()[0]\n",
        "params_approx_1['max_depth'] = int(params_approx_1['max_depth'])\n",
        "params_approx_1['min_child_weight'] = int(params_approx_1['min_child_weight'])\n",
        "\n",
        "### Re-train with optimal parameters, run predictons:\n",
        "dX_approx_train1 = xgb.DMatrix(X_train1, y_train1)\n",
        "dX_approx_test1 = xgb.DMatrix(X_test1, y_test1)\n",
        "model_approx_1 = xgb.train(params_approx_1, dX_approx_train1)\n",
        "pred_approx_1 = model_approx_1.predict(dX_approx_test1)\n",
        "\n",
        "rmse_approx_1 = np.sqrt(mean_squared_error(pred_approx_1, y_test1))\n",
        "rmse_approx_1"
      ],
      "execution_count": null,
      "outputs": [
        {
          "output_type": "stream",
          "name": "stdout",
          "text": [
            "Evaluation \t Proposed point \t  Current eval. \t  Best eval. \t         Max. ExactAcqFunc \t Max. ApproxAcqFunc \n",
            "init\t [ 4.17022005  7.20324493 14.          0.65116629 16.          0.31248008]\t 0.848101320876155\t 0.7386468688809501\t    \t    \n",
            "init\t [ 3.96580727  3.87910741 11.          0.96776954  6.          0.71669755]\t 0.7469689781479785\t 0.7386468688809501\t    \t    \n",
            "init\t [ 2.0445225   8.78117436  7.          0.95698101 10.          0.48762871]\t 0.8079963708366673\t 0.7386468688809501\t    \t    \n",
            "init\t [ 9.39127789  7.78389236 14.          0.98413079  2.          0.87851823]\t 0.7386468688809501\t 0.7386468688809501\t    \t    \n",
            "init\t [8.29146907 8.29603359 8.         0.58491521 9.         0.18851215]\t 0.937768916815817\t 0.7386468688809501\t    \t    \n",
            "1  \t [ 7.86951474  0.6406733  11.          0.78919481 19.          0.44182296]\t 0.8126185461054997\t 0.7386468688809501\t 2.006521308388567\t 2.006521308388567\n",
            "2  \t [ 0.74723898  0.36469704 11.          0.84902862 15.          0.10419698]\t 0.9318704004009237\t 0.7386468688809501\t 2.003860131356255\t 2.003860131356255\n",
            "3  \t [7.35353694 6.03494644 5.         0.7919799  3.         0.96282991]\t 0.7646755003247829\t 0.7386468688809501\t 2.0460075034364733\t 2.0460075034364733\n",
            "4  \t [7.54305951 2.10732392 5.         0.87446419 8.         0.37589556]\t 0.8108923609041201\t 0.7386468688809501\t 2.025197496823382\t 2.025197496823382\n",
            "5  \t [ 3.76363217  9.95052322  8.          0.75835318 19.          0.10206715]\t 0.9302979891635867\t 0.7386468688809501\t 2.020909989784286\t 2.020909989784286\n",
            "6  \t [ 5.1476318   2.63826491  5.          0.83046451 17.          0.39543049]\t 0.8121266607783616\t 0.7386468688809501\t 2.048155648362477\t 2.048155648362477\n",
            "7  \t [ 2.05722318  9.92568059 11.          0.85938245  2.          0.31039182]\t 0.8530932869908747\t 0.7386468688809501\t 2.0428747115832535\t 2.0428747115832535\n",
            "8  \t [ 7.25642545  0.25925793 13.          0.51727017  4.          0.8962137 ]\t 0.7822187847645935\t 0.7386468688809501\t 2.046812802764444\t 2.046812802670832\n",
            "9  \t [0.75623385 3.14055399 6.         0.5417671  8.         0.78866556]\t 0.7758028719550957\t 0.7386468688809501\t 2.037051622816359\t 2.037051622816359\n",
            "10 \t [9.47161836 5.35231143 6.         0.51632193 6.         0.43288953]\t 0.8314092949686034\t 0.7386468688809501\t 2.0275920147373214\t 2.0275920147373214\n",
            "11 \t [ 0.75310873  4.25724412 13.          0.65895151  1.          0.82964911]\t 0.7771294155692965\t 0.7386468688809501\t 2.028205406940796\t 2.028205406940796\n",
            "12 \t [0.15776536 8.02750992 5.         0.65248282 3.         0.71659731]\t 0.7752392265192147\t 0.7386468688809501\t 2.020610150278113\t 2.020610150278113\n",
            "\u001b[1m\u001b[92m13\u001b[0m\t \u001b[1m\u001b[92m[ 9.31003194  2.78504172 14.          0.81837194 14.          0.87646711]\u001b[0m\t \u001b[1m\u001b[92m0.7355848546414411\u001b[0m\t \u001b[1m\u001b[92m0.7355848546414411\u001b[0m\t \u001b[1m\u001b[92m2.013769272319433\u001b[0m\t \u001b[1m\u001b[92m2.013769272318583\u001b[0m\n",
            "14 \t [ 0.99440257  2.23238431 10.          0.58984965 12.          0.68792603]\t 0.7644930642703252\t 0.7355848546414411\t 2.0024704666745117\t 2.0024704666745117\n",
            "15 \t [ 4.9586464   0.03452716 14.          0.97140399  9.          0.31674359]\t 0.8444570331313808\t 0.7355848546414411\t 1.9956438214270829\t 1.9956438214270829\n",
            "16 \t [ 3.45062645  9.8040474   6.          0.9453621  12.          0.8489149 ]\t 0.7535830619192916\t 0.7355848546414411\t 1.9996106896299637\t 1.9996106896299637\n",
            "17 \t [1.68476972 5.2908721  8.         0.92839616 1.         0.96471758]\t 0.7413177424377804\t 0.7355848546414411\t 1.9906541836177383\t 1.9906541836177383\n",
            "18 \t [ 1.11955444  5.11272894 10.          0.77604051 14.          0.40977672]\t 0.8088933131983232\t 0.7355848546414411\t 2.011398583234717\t 2.011398583234717\n",
            "19 \t [ 9.68760652  2.49858493  5.          0.84574421 13.          0.33692235]\t 0.8343379491664138\t 0.7355848546414411\t 2.008631779364971\t 2.008631779364971\n",
            "20 \t [ 7.12741784  1.59648512  9.          0.96056513 11.          0.30752062]\t 0.8419713781829536\t 0.7355848546414411\t 2.0014596637249644\t 2.0014596637249644\n",
            "21 \t [ 9.72376714  9.82517342 14.          0.96896704 10.          0.66715413]\t 0.7442263922491208\t 0.7355848546414411\t 1.995337255639794\t 1.995337255639794\n",
            "22 \t [ 3.42988222  3.60806268 11.          0.65919672 19.          0.15600267]\t 0.9354453567539931\t 0.7355848546414411\t 2.0333110876040177\t 2.0333110876040177\n",
            "\u001b[1m\u001b[92m23\u001b[0m\t \u001b[1m\u001b[92m[ 3.79839517  0.81425404  8.          0.93236393 16.          0.87681693]\u001b[0m\t \u001b[1m\u001b[92m0.7341701271899448\u001b[0m\t \u001b[1m\u001b[92m0.7341701271899448\u001b[0m\t \u001b[1m\u001b[92m2.0351510390825043\u001b[0m\t \u001b[1m\u001b[92m2.0351510390825043\u001b[0m\n",
            "24 \t [4.92344511 0.59103391 8.         0.92756882 1.         0.71609051]\t 0.7449712611020661\t 0.7341701271899448\t 2.016095561036827\t 2.0160955610368223\n",
            "25 \t [ 9.97471031  7.71725552  9.          0.75893438 14.          0.97108888]\t 0.7458665279787168\t 0.7341701271899448\t 1.9962999989410262\t 1.9962999989410262\n",
            "26 \t [ 0.50749748  8.96045258 11.          0.56036852 13.          0.50747166]\t 0.7932595093143926\t 0.7341701271899448\t 2.0400867742773032\t 2.0400867742773032\n",
            "27 \t [ 2.52136808  8.51741902 14.          0.89185963  6.          0.23066693]\t 0.9371270391052704\t 0.7341701271899448\t 1.9891469505146735\t 1.9891469503205346\n",
            "28 \t [8.68506658 0.40799141 5.         0.90040035 2.         0.17112852]\t 0.9332047623667679\t 0.7341701271899448\t 2.014267148448442\t 2.0142671475278044\n",
            "29 \t [ 7.40845157  8.58336508  5.          0.8318041  19.          0.36434664]\t 0.8342471407090255\t 0.7341701271899448\t 2.043814219132072\t 2.043814219132072\n",
            "30 \t [ 9.84118082  4.29794399 10.          0.60638682  1.          0.22679444]\t 0.9488686566857412\t 0.7341701271899448\t 1.9959594151821012\t 1.9959594151821012\n"
          ]
        },
        {
          "output_type": "execute_result",
          "data": {
            "text/plain": [
              "60746.65105051846"
            ]
          },
          "metadata": {},
          "execution_count": 21
        }
      ]
    },
    {
      "cell_type": "code",
      "metadata": {
        "id": "ClJ9rN2KUJzy",
        "colab": {
          "base_uri": "https://localhost:8080/"
        },
        "outputId": "0dd0e62b-7b76-4b93-d6c0-d97bcfb0e4e1"
      },
      "source": [
        "### Bayesian optimization runs (x20): 'approx' Acquisition Function run number = 2\n",
        "\n",
        "np.random.seed(run_num_2)\n",
        "surrogate_approx_2 = dtStudentProcess(cov_func, optimize=opt, nu = df)\n",
        "\n",
        "X_train2, X_test2, y_train2, y_test2 = train_test_split(X, y, test_size=test_perc, random_state=run_num_2)\n",
        "\n",
        "def f_syn_polarity2(alpha, gamma, max_depth, subsample, min_child_weight, colsample):\n",
        "    reg = XGBRegressor(reg_alpha=alpha, gamma=gamma, max_depth=int(max_depth), subsample=subsample, min_child_weight=min_child_weight,\n",
        "          colsample_bytree=colsample, n_estimators = n_est, random_state=run_num_2, objective = 'reg:squarederror')\n",
        "    score = np.array(cross_val_score(reg, X=X_train2, y=y_train2).mean())\n",
        "    return operator * score\n",
        "\n",
        "approx_2 = GPGO_multi(surrogate_approx_2, Acquisition_grad(util), f_syn_polarity2, param, n_jobs = -1) # define BayesOpt\n",
        "approx_2.run(max_iter = max_iter, init_evals = n_init) # run\n",
        "\n",
        "### Return optimal parameters' set:\n",
        "params_approx_2 = approx_2.getResult()[0]\n",
        "params_approx_2['max_depth'] = int(params_approx_2['max_depth'])\n",
        "params_approx_2['min_child_weight'] = int(params_approx_2['min_child_weight'])\n",
        "\n",
        "### Re-train with optimal parameters, run predictons:\n",
        "dX_approx_train2 = xgb.DMatrix(X_train2, y_train2)\n",
        "dX_approx_test2 = xgb.DMatrix(X_test2, y_test2)\n",
        "model_approx_2 = xgb.train(params_approx_2, dX_approx_train2)\n",
        "pred_approx_2 = model_approx_2.predict(dX_approx_test2)\n",
        "\n",
        "rmse_approx_2 = np.sqrt(mean_squared_error(pred_approx_2, y_test2))\n",
        "rmse_approx_2"
      ],
      "execution_count": null,
      "outputs": [
        {
          "output_type": "stream",
          "name": "stdout",
          "text": [
            "Evaluation \t Proposed point \t  Current eval. \t  Best eval. \t         Max. ExactAcqFunc \t Max. ApproxAcqFunc \n",
            "init\t [ 4.35994902  0.25926232 11.          0.97386531 12.          0.47833102]\t 0.9157817005982263\t 0.8490988745111359\t    \t    \n",
            "init\t [ 3.30334821  2.04648634 10.          0.55997527  6.          0.71472339]\t 0.8517975125315337\t 0.8490988745111359\t    \t    \n",
            "init\t [ 4.9856117   5.86796978  8.          0.89266757 11.          0.59158659]\t 0.8490988745111359\t 0.8490988745111359\t    \t    \n",
            "init\t [ 4.07307832  1.76984624 13.          0.75262305  7.          0.35908193]\t 0.9839177202713774\t 0.8490988745111359\t    \t    \n",
            "init\t [ 1.16193318  1.81727038  9.          0.79837265 19.          0.29965165]\t 0.9688138526063573\t 0.8490988745111359\t    \t    \n",
            "\u001b[1m\u001b[92m1\u001b[0m\t \u001b[1m\u001b[92m[9.68290573 5.74953535 8.         0.93445831 2.         0.81872709]\u001b[0m\t \u001b[1m\u001b[92m0.7933779577878181\u001b[0m\t \u001b[1m\u001b[92m0.7933779577878181\u001b[0m\t \u001b[1m\u001b[92m2.2408382517887175\u001b[0m\t \u001b[1m\u001b[92m2.2408382517887175\u001b[0m\n",
            "\u001b[1m\u001b[92m2\u001b[0m\t \u001b[1m\u001b[92m[ 2.17907321  8.34965852  5.          0.91660625 18.          0.97349298]\u001b[0m\t \u001b[1m\u001b[92m0.7753470044170323\u001b[0m\t \u001b[1m\u001b[92m0.7753470044170323\u001b[0m\t \u001b[1m\u001b[92m2.194062867293257\u001b[0m\t \u001b[1m\u001b[92m2.194062867293257\u001b[0m\n",
            "3  \t [ 3.86971225  8.36249195 14.          0.65193715  2.          0.53564822]\t 0.876401110742202\t 0.7753470044170323\t 2.154412380190736\t 2.154412380190736\n",
            "4  \t [ 8.78180153  6.61060882 12.          0.91523653 18.          0.29687212]\t 0.9658206597269258\t 0.7753470044170323\t 2.1534543434559907\t 2.1534543434559907\n",
            "5  \t [ 1.04358891  9.72033478 14.          0.5859025  14.          0.459264  ]\t 0.9313569330212417\t 0.7753470044170323\t 2.1780670897689327\t 2.1780670897689327\n",
            "6  \t [ 9.90020282  3.3367177  10.          0.62203407  7.          0.71235234]\t 0.8411431281498688\t 0.7753470044170323\t 2.189631135917524\t 2.189631135917524\n",
            "7  \t [ 9.14946201  2.43697872  6.          0.997805   19.          0.45949208]\t 0.9164031394028719\t 0.7753470044170323\t 2.1772680516614784\t 2.1772680516614784\n",
            "8  \t [3.03571116 4.83939078 5.         0.66625528 1.         0.23130028]\t 1.0138871967237582\t 0.7753470044170323\t 2.182968639545565\t 2.182968639545565\n",
            "9  \t [ 9.24652802  2.85452625  6.          0.82083864 14.          0.624768  ]\t 0.8472224210855768\t 0.7753470044170323\t 2.2083212776265086\t 2.2083212776265086\n",
            "10 \t [ 0.27081994  8.72536784 13.          0.81607342  8.          0.82891087]\t 0.786526849407035\t 0.7753470044170323\t 2.199075140851604\t 2.199075140851604\n",
            "11 \t [4.59560507 9.66694693 5.         0.8652774  6.         0.90565092]\t 0.7793501597644426\t 0.7753470044170323\t 2.1817490264736157\t 2.1817490264736157\n",
            "12 \t [ 8.76507252  8.76898373 14.          0.51356786  6.          0.73624795]\t 0.8509923386963646\t 0.7753470044170323\t 2.1642674043022807\t 2.1642674043022807\n",
            "13 \t [ 6.62295179  6.77584978 14.          0.65936287 12.          0.50955919]\t 0.845219311359458\t 0.7753470044170323\t 2.1599576512904477\t 2.1599576512904477\n",
            "14 \t [ 1.44915477  0.14257847  6.          0.52441016 14.          0.6286643 ]\t 0.8437383195985765\t 0.7753470044170323\t 2.155708193282442\t 2.155708193282442\n",
            "15 \t [ 9.80429676  9.59801315  7.          0.61168386 14.          0.66107461]\t 0.8362874386261758\t 0.7753470044170323\t 2.1526168325183463\t 2.1526168325183463\n",
            "16 \t [ 3.79151097  4.0129324  10.          0.78656319  9.          0.57380624]\t 0.8479506527275633\t 0.7753470044170323\t 2.146702650746376\t 2.146702650746376\n",
            "17 \t [6.53156572 9.72376072 9.         0.51610543 1.         0.4929146 ]\t 0.9514823488789619\t 0.7753470044170323\t 2.140226425326149\t 2.140226425326149\n",
            "18 \t [ 3.19241925  2.91302128 11.          0.905155   18.          0.71674806]\t 0.812855948594331\t 0.7753470044170323\t 2.1751343253465993\t 2.1751343253465993\n",
            "19 \t [ 6.92673077  1.23845568 10.          0.63463476  8.          0.28240746]\t 0.9737154587401665\t 0.7753470044170323\t 2.1898371322969177\t 2.1898371322969177\n",
            "20 \t [ 2.26812476  6.7571478  13.          0.87941648  6.          0.30778351]\t 0.9759301877372604\t 0.7753470044170323\t 2.180770145314427\t 2.180770145314427\n",
            "21 \t [7.13284983 1.18470919 5.         0.63977211 3.         0.12223048]\t 1.0124277228121503\t 0.7753470044170323\t 2.178092993096979\t 2.178092993096979\n",
            "\u001b[1m\u001b[92m22\u001b[0m\t \u001b[1m\u001b[92m[ 5.73129906  9.2176475  11.          0.8835332   4.          0.9298239 ]\u001b[0m\t \u001b[1m\u001b[92m0.7642724935254156\u001b[0m\t \u001b[1m\u001b[92m0.7642724935254156\u001b[0m\t \u001b[1m\u001b[92m2.173417056560375\u001b[0m\t \u001b[1m\u001b[92m2.173417056560375\u001b[0m\n",
            "23 \t [8.76774335 2.47727368 5.         0.77895852 8.         0.95970784]\t 0.7783672057784645\t 0.7642724935254156\t 2.1910044460697216\t 2.1910044460697216\n",
            "24 \t [ 5.48814708  1.96120195 13.          0.89659682  1.          0.34125713]\t 0.9941403780835223\t 0.7642724935254156\t 2.2165636545507286\t 2.2165636545507286\n",
            "25 \t [ 9.70148981  3.84860271 14.          0.8648022   1.          0.77351018]\t 0.8176855829782234\t 0.7642724935254156\t 2.191713018699178\t 2.191713018699178\n",
            "26 \t [ 8.30471915  3.26072064 14.          0.69508376  6.          0.94564556]\t 0.7746854783898445\t 0.7642724935254156\t 2.16112441347076\t 2.16112441347076\n",
            "27 \t [ 8.92720117  4.31465286 13.          0.70553933  1.          0.75946259]\t 0.8184668279349161\t 0.7642724935254156\t 2.180851089549584\t 2.180851089549584\n",
            "28 \t [ 4.9644812   1.12270948  6.          0.71065886 17.          0.26866166]\t 0.9667438219230509\t 0.7642724935254156\t 2.1908803773721877\t 2.1908803773721877\n",
            "29 \t [ 5.98509126  0.06989145 14.          0.5561472  16.          0.1874862 ]\t 1.0105701333726524\t 0.7642724935254156\t 2.173706966222696\t 2.173706966222696\n",
            "\u001b[1m\u001b[92m30\u001b[0m\t \u001b[1m\u001b[92m[5.55301534 4.43776121 9.         0.77874612 6.         0.99491253]\u001b[0m\t \u001b[1m\u001b[92m0.7585656248465545\u001b[0m\t \u001b[1m\u001b[92m0.7585656248465545\u001b[0m\t \u001b[1m\u001b[92m2.1756797684067197\u001b[0m\t \u001b[1m\u001b[92m2.1756797684067197\u001b[0m\n"
          ]
        },
        {
          "output_type": "execute_result",
          "data": {
            "text/plain": [
              "62513.455753809474"
            ]
          },
          "metadata": {},
          "execution_count": 22
        }
      ]
    },
    {
      "cell_type": "code",
      "metadata": {
        "id": "-45l3NU4UNiI",
        "colab": {
          "base_uri": "https://localhost:8080/"
        },
        "outputId": "de5746e3-1b2d-4eef-cc80-a5ddcd1555af"
      },
      "source": [
        "### Bayesian optimization runs (x20): 'approx' Acquisition Function run number = 3\n",
        "\n",
        "np.random.seed(run_num_3)\n",
        "surrogate_approx_3 = dtStudentProcess(cov_func, optimize=opt, nu = df)\n",
        "\n",
        "X_train3, X_test3, y_train3, y_test3 = train_test_split(X, y, test_size=test_perc, random_state=run_num_3)\n",
        "\n",
        "def f_syn_polarity3(alpha, gamma, max_depth, subsample, min_child_weight, colsample):\n",
        "    reg = XGBRegressor(reg_alpha=alpha, gamma=gamma, max_depth=int(max_depth), subsample=subsample, min_child_weight=min_child_weight,\n",
        "          colsample_bytree=colsample, n_estimators = n_est, random_state=run_num_3, objective = 'reg:squarederror')\n",
        "    score = np.array(cross_val_score(reg, X=X_train3, y=y_train3).mean())\n",
        "    return operator * score\n",
        "\n",
        "approx_3 = GPGO_multi(surrogate_approx_3, Acquisition_grad(util), f_syn_polarity3, param, n_jobs = -1) # define BayesOpt\n",
        "approx_3.run(max_iter = max_iter, init_evals = n_init) # run\n",
        "\n",
        "### Return optimal parameters' set:\n",
        "params_approx_3 = approx_3.getResult()[0]\n",
        "params_approx_3['max_depth'] = int(params_approx_3['max_depth'])\n",
        "params_approx_3['min_child_weight'] = int(params_approx_3['min_child_weight'])\n",
        "\n",
        "### Re-train with optimal parameters, run predictons:\n",
        "dX_approx_train3 = xgb.DMatrix(X_train3, y_train3)\n",
        "dX_approx_test3 = xgb.DMatrix(X_test3, y_test3)\n",
        "model_approx_3 = xgb.train(params_approx_3, dX_approx_train3)\n",
        "pred_approx_3 = model_approx_3.predict(dX_approx_test3)\n",
        "\n",
        "rmse_approx_3 = np.sqrt(mean_squared_error(pred_approx_3, y_test3))\n",
        "rmse_approx_3"
      ],
      "execution_count": null,
      "outputs": [
        {
          "output_type": "stream",
          "name": "stdout",
          "text": [
            "Evaluation \t Proposed point \t  Current eval. \t  Best eval. \t         Max. ExactAcqFunc \t Max. ApproxAcqFunc \n",
            "init\t [ 5.50797903  7.08147823 13.          0.56066429 11.          0.11687321]\t 1.1001019572672721\t 0.8205570570239384\t    \t    \n",
            "init\t [ 0.40630737  2.47888297 11.          0.72040492 13.          0.23083313]\t 1.0968690738660336\t 0.8205570570239384\t    \t    \n",
            "init\t [ 4.53172301  2.15577008 11.          0.74631796  2.          0.60296868]\t 0.8205570570239384\t 0.8205570570239384\t    \t    \n",
            "init\t [ 2.59252447  4.15101197 13.          0.79330998  8.          0.24118096]\t 1.0984076753833096\t 0.8205570570239384\t    \t    \n",
            "init\t [ 5.44649018  7.80314765 10.          0.62879264 18.          0.44917413]\t 0.8540219347978375\t 0.8205570570239384\t    \t    \n",
            "1  \t [ 4.57686399  8.60533913  5.          0.93553602 12.          0.35017976]\t 0.9512274503921789\t 0.8205570570239384\t 2.454997968826473\t 2.454997968826473\n",
            "\u001b[1m\u001b[92m2\u001b[0m\t \u001b[1m\u001b[92m[7.88832343 8.95739531 8.         0.70911141 2.         0.87634458]\u001b[0m\t \u001b[1m\u001b[92m0.7895041269186838\u001b[0m\t \u001b[1m\u001b[92m0.7895041269186838\u001b[0m\t \u001b[1m\u001b[92m2.43461252835336\u001b[0m\t \u001b[1m\u001b[92m2.43461252835336\u001b[0m\n",
            "3  \t [ 7.14373713  1.70610778 14.          0.94742469 18.          0.35591579]\t 0.9478145119172483\t 0.7895041269186838\t 2.36956840274928\t 2.36956840274928\n",
            "4  \t [ 6.69378835  1.1746468   5.          0.75549171 16.          0.73450657]\t 0.8217725728652645\t 0.7895041269186838\t 2.3636331466556078\t 2.3636331466556078\n",
            "5  \t [3.68953475 2.95525094 5.         0.6894371  8.         0.99869195]\t 0.8091874020092732\t 0.7895041269186838\t 2.327276803431117\t 2.327276803431117\n",
            "6  \t [ 9.64653748  6.72353381  8.          0.90513452 12.          0.37287596]\t 0.9460821806843785\t 0.7895041269186838\t 2.2950966002845674\t 2.295096600284271\n",
            "7  \t [ 3.68924224  9.6905718  14.          0.91448213  3.          0.32581963]\t 0.9651229097274324\t 0.7895041269186838\t 2.2971339197675644\t 2.2971339197675644\n",
            "8  \t [3.50549632 8.04483305 8.         0.95341936 1.         0.79512535]\t 0.792713810458564\t 0.7895041269186838\t 2.302785806579054\t 2.302785806579054\n",
            "\u001b[1m\u001b[92m9\u001b[0m\t \u001b[1m\u001b[92m[ 8.89682762  0.79017134 14.          0.58366818  8.          0.97456627]\u001b[0m\t \u001b[1m\u001b[92m0.7882233954631125\u001b[0m\t \u001b[1m\u001b[92m0.7882233954631125\u001b[0m\t \u001b[1m\u001b[92m2.2770484936616344\u001b[0m\t \u001b[1m\u001b[92m2.2770484936616344\u001b[0m\n",
            "10 \t [3.28340726 7.81144764 9.         0.96528359 7.         0.1686463 ]\t 1.0994543760825608\t 0.7882233954631125\t 2.254076800255531\t 2.254076800255531\n",
            "11 \t [ 3.53262431  2.07514765  7.          0.93520802 15.          0.4184813 ]\t 0.8494175289417161\t 0.7882233954631125\t 2.285976084383807\t 2.285976084383807\n",
            "12 \t [ 7.36281279  7.66763777  8.          0.59948159 13.          0.98370581]\t 0.7986988788225304\t 0.7882233954631125\t 2.2736851191180194\t 2.2736851191180194\n",
            "\u001b[1m\u001b[92m13\u001b[0m\t \u001b[1m\u001b[92m[ 6.1126819   0.33369181 12.          0.91661864 13.          0.98011882]\u001b[0m\t \u001b[1m\u001b[92m0.7796357929155879\u001b[0m\t \u001b[1m\u001b[92m0.7796357929155879\u001b[0m\t \u001b[1m\u001b[92m2.2552055929042973\u001b[0m\t \u001b[1m\u001b[92m2.255205591527505\u001b[0m\n",
            "14 \t [6.15306411 2.33581448 6.         0.86920046 3.         0.31798329]\t 0.9474234245889466\t 0.7796357929155879\t 2.2383090872863005\t 2.2383090872863005\n",
            "15 \t [ 8.58495733  5.09928748 13.          0.89538108  1.          0.67774369]\t 0.8310233985591402\t 0.7796357929155879\t 2.239693502839636\t 2.239693265741858\n",
            "16 \t [ 0.06586296  0.99454605  7.          0.96788459 19.          0.29892258]\t 0.9445632227948924\t 0.7796357929155879\t 2.23224244487711\t 2.2322424187568943\n",
            "17 \t [ 9.40129426  8.85637698 13.          0.72340176  7.          0.76030308]\t 0.7834162130060136\t 0.7796357929155879\t 2.2402273046372736\t 2.240227304636389\n",
            "\u001b[1m\u001b[92m18\u001b[0m\t \u001b[1m\u001b[92m[9.83745664 3.68679807 9.         0.98607907 6.         0.93173856]\u001b[0m\t \u001b[1m\u001b[92m0.7756756393931181\u001b[0m\t \u001b[1m\u001b[92m0.7756756393931181\u001b[0m\t \u001b[1m\u001b[92m2.2020858836471686\u001b[0m\t \u001b[1m\u001b[92m2.2020858836471686\u001b[0m\n",
            "19 \t [ 0.59117942  7.04764364 14.          0.92579676 15.          0.40983297]\t 0.8394856040419147\t 0.7756756393931181\t 2.2317904934306374\t 2.2317904934306374\n",
            "20 \t [1.35967431 9.79216747 5.         0.6463393  7.         0.29631799]\t 0.954607437246958\t 0.7756756393931181\t 2.20594558874141\t 2.205945494303975\n",
            "21 \t [ 9.83060339  5.43479292  5.          0.93965116 19.          0.81693736]\t 0.8142206129403362\t 0.7756756393931181\t 2.2073220550171064\t 2.2073220550171064\n",
            "22 \t [ 8.78137031  9.07562973 14.          0.81240153 17.          0.56901188]\t 0.8048755929054721\t 0.7756756393931181\t 2.2088825540236674\t 2.208882554021548\n",
            "23 \t [ 9.71610686  2.88363039 10.          0.71373353  2.          0.42833271]\t 0.8627583512307193\t 0.7756756393931181\t 2.2366996997930357\t 2.2366996997930357\n",
            "24 \t [1.21670026 0.49349112 6.         0.80878089 1.         0.63341473]\t 0.8135563192085954\t 0.7756756393931181\t 2.217985232991645\t 2.217985232991645\n",
            "25 \t [ 3.76231631  7.22695293  6.          0.99331542 15.          0.98845508]\t 0.7859921669897617\t 0.7756756393931181\t 2.2086272490055596\t 2.2086272490055596\n",
            "26 \t [0.33454906 4.8293531  6.         0.75998498 5.         0.78354586]\t 0.7929069464417273\t 0.7756756393931181\t 2.1885650738417435\t 2.1885650738417435\n",
            "27 \t [ 8.21944232  0.76315735 14.          0.70782001  3.          0.58640207]\t 0.8090375820501642\t 0.7756756393931181\t 2.1708415125122644\t 2.1708415125122644\n",
            "28 \t [ 9.01763405  8.9342346  11.          0.78253186 14.          0.5899614 ]\t 0.8008497075757127\t 0.7756756393931181\t 2.1808525141347785\t 2.1808525141347785\n",
            "29 \t [ 8.92640491  5.86829423 11.          0.69146564 16.          0.20693725]\t 1.095967263497375\t 0.7756756393931181\t 2.160154879985176\t 2.160154879985176\n",
            "30 \t [ 1.46510837  0.05503823 10.          0.63653968  6.          0.52877878]\t 0.8171707426653917\t 0.7756756393931181\t 2.1976398127917025\t 2.1976398127917025\n"
          ]
        },
        {
          "output_type": "execute_result",
          "data": {
            "text/plain": [
              "59780.39273806603"
            ]
          },
          "metadata": {},
          "execution_count": 23
        }
      ]
    },
    {
      "cell_type": "code",
      "metadata": {
        "id": "voPfk1UDUQU0",
        "colab": {
          "base_uri": "https://localhost:8080/"
        },
        "outputId": "b48ec58f-009a-4116-d800-21c35a1ace5e"
      },
      "source": [
        "### Bayesian optimization runs (x20): 'approx' Acquisition Function run number = 4\n",
        "\n",
        "np.random.seed(run_num_4)\n",
        "surrogate_approx_4 = dtStudentProcess(cov_func, optimize=opt, nu = df)\n",
        "\n",
        "X_train4, X_test4, y_train4, y_test4 = train_test_split(X, y, test_size=test_perc, random_state=run_num_4)\n",
        "\n",
        "def f_syn_polarity4(alpha, gamma, max_depth, subsample, min_child_weight, colsample):\n",
        "    reg = XGBRegressor(reg_alpha=alpha, gamma=gamma, max_depth=int(max_depth), subsample=subsample, min_child_weight=min_child_weight,\n",
        "          colsample_bytree=colsample, n_estimators = n_est, random_state=run_num_4, objective = 'reg:squarederror')\n",
        "    score = np.array(cross_val_score(reg, X=X_train4, y=y_train4).mean())\n",
        "    return operator * score\n",
        "\n",
        "approx_4 = GPGO_multi(surrogate_approx_4, Acquisition_grad(util), f_syn_polarity4, param, n_jobs = -1) # define BayesOpt\n",
        "approx_4.run(max_iter = max_iter, init_evals = n_init) # run\n",
        "\n",
        "### Return optimal parameters' set:\n",
        "params_approx_4 = approx_4.getResult()[0]\n",
        "params_approx_4['max_depth'] = int(params_approx_4['max_depth'])\n",
        "params_approx_4['min_child_weight'] = int(params_approx_4['min_child_weight'])\n",
        "\n",
        "### Re-train with optimal parameters, run predictons:\n",
        "dX_approx_train4 = xgb.DMatrix(X_train4, y_train4)\n",
        "dX_approx_test4 = xgb.DMatrix(X_test4, y_test4)\n",
        "model_approx_4 = xgb.train(params_approx_4, dX_approx_train4)\n",
        "pred_approx_4 = model_approx_4.predict(dX_approx_test4)\n",
        "\n",
        "rmse_approx_4 = np.sqrt(mean_squared_error(pred_approx_4, y_test4))\n",
        "rmse_approx_4"
      ],
      "execution_count": null,
      "outputs": [
        {
          "output_type": "stream",
          "name": "stdout",
          "text": [
            "Evaluation \t Proposed point \t  Current eval. \t  Best eval. \t         Max. ExactAcqFunc \t Max. ApproxAcqFunc \n",
            "init\t [9.67029839 5.47232249 6.         0.92781047 9.         0.72795594]\t 0.7650622398140196\t 0.7505823286451517\t    \t    \n",
            "init\t [ 2.16089496  9.76274455 12.          0.62649118  9.          0.66966679]\t 0.7710732234684645\t 0.7505823286451517\t    \t    \n",
            "init\t [ 0.05159149  5.72356491  9.          0.99170034 10.          0.10808749]\t 1.127900018061083\t 0.7505823286451517\t    \t    \n",
            "init\t [ 3.86571283  0.44160058 10.          0.90553105 18.          0.95407958]\t 0.7505823286451517\t 0.7505823286451517\t    \t    \n",
            "init\t [ 7.86305986  8.66289299  6.          0.53285477 14.          0.25117497]\t 0.9579573664970923\t 0.7505823286451517\t    \t    \n",
            "1  \t [ 8.45443649  8.61014312 11.          0.83475494  1.          0.14018305]\t 1.1269429525174437\t 0.7505823286451517\t 2.172488707589866\t 2.172488707589866\n",
            "2  \t [ 8.38710697  4.03810262 13.          0.67620396  7.          0.21955781]\t 1.129364536434021\t 0.7505823286451517\t 2.2810281440506026\t 2.2810281440506026\n",
            "3  \t [ 1.20931261  6.80689034  9.          0.92011951 17.          0.30723956]\t 0.9481459007646673\t 0.7505823286451517\t 2.3564908106447207\t 2.3564908106447207\n",
            "4  \t [ 1.21913591  5.39021078 12.          0.52306788  2.          0.57375676]\t 0.8175628207948187\t 0.7505823286451517\t 2.352266139305327\t 2.3522661393053252\n",
            "5  \t [5.20880295 1.88390627 9.         0.63189416 3.         0.18887718]\t 1.1294817157053765\t 0.7505823286451517\t 2.3160224575016444\t 2.316022456806169\n",
            "6  \t [ 9.06307728  4.86114267 13.          0.58554955 19.          0.71395167]\t 0.7663633049670207\t 0.7505823286451517\t 2.3649538784857054\t 2.3649538784857054\n",
            "7  \t [3.21596988 8.94366669 5.         0.67472534 1.         0.78039064]\t 0.8044591218487582\t 0.7505823286451517\t 2.3248450480531444\t 2.3248450480531444\n",
            "8  \t [ 0.81680031  1.59198282 10.          0.96064429  2.          0.39459215]\t 0.8548861270630322\t 0.7505823286451517\t 2.2974050783401676\t 2.2974050783401676\n",
            "9  \t [ 5.44631958  4.09972266  5.          0.7031307  18.          0.59728817]\t 0.8117584664942734\t 0.7505823286451517\t 2.282397416521834\t 2.2823974162004945\n",
            "10 \t [ 5.47785092  4.8461481  12.          0.74846659 14.          0.61206304]\t 0.7921662259989626\t 0.7505823286451517\t 2.2626616297520563\t 2.2626616297520563\n",
            "11 \t [ 9.26888317  0.34770884 13.          0.56989599  5.          0.4978041 ]\t 0.8698317056044329\t 0.7505823286451517\t 2.242627321000139\t 2.242627321000139\n",
            "12 \t [ 8.48843563  0.37785156 11.          0.83297408  1.          0.855572  ]\t 0.7753874640601797\t 0.7505823286451517\t 2.2358244832221383\t 2.2358244832221383\n",
            "13 \t [ 9.47516521  0.98411555  7.          0.63763494 14.          0.52093401]\t 0.7995428779273371\t 0.7505823286451517\t 2.2175920338020987\t 2.2175920338020987\n",
            "14 \t [ 3.22282465  1.05364145  6.          0.75774626 12.          0.92739587]\t 0.7669842156079565\t 0.7505823286451517\t 2.203944643060377\t 2.203944643060377\n",
            "15 \t [9.41541409 7.69245319 5.         0.52626745 1.         0.60186246]\t 0.8233136201842758\t 0.7505823286451517\t 2.1878997323632468\t 2.1878997323632468\n",
            "16 \t [ 1.59376327  9.3637724   5.          0.56698742 13.          0.29635446]\t 0.9579981335802007\t 0.7505823286451517\t 2.1788348113701117\t 2.1788348113701117\n",
            "17 \t [ 4.21251381  9.34883611  7.          0.86607935 10.          0.51599279]\t 0.7903972753988527\t 0.7505823286451517\t 2.1888376843750255\t 2.1888376843750255\n",
            "18 \t [ 3.8330061   0.35722521 10.          0.9669447   8.          0.85083452]\t 0.7621276147698381\t 0.7505823286451517\t 2.192393948564034\t 2.192393948564034\n",
            "19 \t [ 2.28250676  8.57781075 10.          0.71780124 12.          0.3772521 ]\t 0.8627736627545619\t 0.7505823286451517\t 2.1735003671296798\t 2.1735003671296798\n",
            "20 \t [ 9.66721268  1.8443589  13.          0.69291942 15.          0.16614767]\t 1.1236074280369432\t 0.7505823286451517\t 2.154620099783706\t 2.1546200994383256\n",
            "21 \t [ 3.90376452  0.27194016 14.          0.92188548 14.          0.42162751]\t 0.8519773428950567\t 0.7505823286451517\t 2.1681445843638665\t 2.1681445313126826\n",
            "22 \t [ 0.34343537  0.75830465 14.          0.57372847 18.          0.51234475]\t 0.7987111680789081\t 0.7505823286451517\t 2.2061868339779567\t 2.2061868339779567\n",
            "23 \t [4.54498845 4.73987501 6.         0.7658368  6.         0.15012886]\t 1.1250394819981728\t 0.7505823286451517\t 2.179501515396869\t 2.179501515396869\n",
            "24 \t [5.87233788 6.93253231 8.         0.71079844 3.         0.57913783]\t 0.7993682157943708\t 0.7505823286451517\t 2.210653061044044\t 2.210653061044044\n",
            "25 \t [9.14387233 8.82409497 7.         0.87227821 8.         0.52464991]\t 0.7895388146683674\t 0.7505823286451517\t 2.2021702784269737\t 2.2021702784269737\n",
            "26 \t [ 7.01360923  0.03074572 13.          0.56476682  9.          0.19217174]\t 1.1276865380590453\t 0.7505823286451517\t 2.206311355864112\t 2.206311355864112\n",
            "27 \t [ 5.3916587   9.41115446 14.          0.7428898  17.          0.24162874]\t 1.1217718597624515\t 0.7505823286451517\t 2.203632085787324\t 2.203632085787324\n",
            "28 \t [ 0.40130386  1.97007932 14.          0.94919936  9.          0.10604155]\t 1.124373317318908\t 0.7505823286451517\t 2.224296484562679\t 2.224296484562679\n",
            "29 \t [ 8.18178764  9.98869521 14.          0.83418368 10.          0.41151726]\t 0.8537499901780559\t 0.7505823286451517\t 2.2351056482897125\t 2.2351056482897125\n",
            "\u001b[1m\u001b[92m30\u001b[0m\t \u001b[1m\u001b[92m[ 7.07372144  7.12421793  9.          0.88361829 18.          0.94084728]\u001b[0m\t \u001b[1m\u001b[92m0.7429939712557221\u001b[0m\t \u001b[1m\u001b[92m0.7429939712557221\u001b[0m\t \u001b[1m\u001b[92m2.2362089361640396\u001b[0m\t \u001b[1m\u001b[92m2.2362089361640396\u001b[0m\n"
          ]
        },
        {
          "output_type": "execute_result",
          "data": {
            "text/plain": [
              "60761.160061562216"
            ]
          },
          "metadata": {},
          "execution_count": 24
        }
      ]
    },
    {
      "cell_type": "code",
      "metadata": {
        "id": "8kEnTd7MUdlv",
        "colab": {
          "base_uri": "https://localhost:8080/"
        },
        "outputId": "ad8bc15c-3789-4a10-c0c8-14b54ea5c96f"
      },
      "source": [
        "### Bayesian optimization runs (x20): 'approx' Acquisition Function run number = 5\n",
        "\n",
        "np.random.seed(run_num_5)\n",
        "surrogate_approx_5 = dtStudentProcess(cov_func, optimize=opt, nu = df)\n",
        "\n",
        "X_train5, X_test5, y_train5, y_test5 = train_test_split(X, y, test_size=test_perc, random_state=run_num_5)\n",
        "\n",
        "def f_syn_polarity5(alpha, gamma, max_depth, subsample, min_child_weight, colsample):\n",
        "    reg = XGBRegressor(reg_alpha=alpha, gamma=gamma, max_depth=int(max_depth), subsample=subsample, min_child_weight=min_child_weight,\n",
        "          colsample_bytree=colsample, n_estimators = n_est, random_state=run_num_5, objective = 'reg:squarederror')\n",
        "    score = np.array(cross_val_score(reg, X=X_train5, y=y_train5).mean())\n",
        "    return operator * score\n",
        "\n",
        "approx_5 = GPGO_multi(surrogate_approx_5, Acquisition_grad(util), f_syn_polarity5, param, n_jobs = -1) # define BayesOpt\n",
        "approx_5.run(max_iter = max_iter, init_evals = n_init) # run\n",
        "\n",
        "### Return optimal parameters' set:\n",
        "params_approx_5 = approx_5.getResult()[0]\n",
        "params_approx_5['max_depth'] = int(params_approx_5['max_depth'])\n",
        "params_approx_5['min_child_weight'] = int(params_approx_5['min_child_weight'])\n",
        "\n",
        "### Re-train with optimal parameters, run predictons:\n",
        "dX_approx_train5 = xgb.DMatrix(X_train5, y_train5)\n",
        "dX_approx_test5 = xgb.DMatrix(X_test5, y_test5)\n",
        "model_approx_5 = xgb.train(params_approx_5, dX_approx_train5)\n",
        "pred_approx_5 = model_approx_5.predict(dX_approx_test5)\n",
        "\n",
        "rmse_approx_5 = np.sqrt(mean_squared_error(pred_approx_5, y_test5))\n",
        "rmse_approx_5"
      ],
      "execution_count": null,
      "outputs": [
        {
          "output_type": "stream",
          "name": "stdout",
          "text": [
            "Evaluation \t Proposed point \t  Current eval. \t  Best eval. \t         Max. ExactAcqFunc \t Max. ApproxAcqFunc \n",
            "init\t [ 2.21993171  8.70732306 11.          0.68186845 10.          0.53957007]\t 0.7978949387548113\t 0.7689238087022429\t    \t    \n",
            "init\t [ 6.11743863  7.65907856  5.          0.64840025 16.          0.82745351]\t 0.7689238087022429\t 0.7689238087022429\t    \t    \n",
            "init\t [ 6.49458883  8.19472793  6.          0.93996852 19.          0.36647194]\t 0.9009085979032214\t 0.7689238087022429\t    \t    \n",
            "init\t [ 6.28787909  5.7983781   6.          0.63290956 17.          0.18402673]\t 0.9616956128686873\t 0.7689238087022429\t    \t    \n",
            "init\t [8.26554249 8.33492742 9.         0.97900675 3.         0.26957319]\t 0.8968042534595716\t 0.7689238087022429\t    \t    \n",
            "1  \t [1.95474956 1.21548467 5.         0.65548996 6.         0.3261206 ]\t 0.9141640599232991\t 0.7689238087022429\t 2.100776250156438\t 2.100776250156438\n",
            "2  \t [ 3.90043826  0.30059527 11.          0.95660877 13.          0.16396145]\t 0.9657302753232895\t 0.7689238087022429\t 2.1244796478265466\t 2.1244796478265466\n",
            "3  \t [ 1.89102498  3.81201457 14.          0.79693323  4.          0.52365093]\t 0.7975878945767783\t 0.7689238087022429\t 2.1605651654004965\t 2.1605651654004965\n",
            "4  \t [ 8.98063632  2.97885127  9.          0.64249728 18.          0.16342995]\t 0.961106002845105\t 0.7689238087022429\t 2.1517045824079677\t 2.1517045824079677\n",
            "5  \t [ 7.2080363   0.14020863 14.          0.70262402  1.          0.81354205]\t 0.7812267618464406\t 0.7689238087022429\t 2.1611593729592995\t 2.1611593729592995\n",
            "6  \t [0.43749481 8.4213957  8.         0.8974006  1.         0.32861568]\t 0.9035768104886805\t 0.7689238087022429\t 2.1376945347178102\t 2.1376945347178054\n",
            "7  \t [4.37003348 9.87890289 5.         0.65374913 7.         0.62009063]\t 0.8037187246418197\t 0.7689238087022429\t 2.1446782904175103\t 2.1446782904175103\n",
            "\u001b[1m\u001b[92m8\u001b[0m\t \u001b[1m\u001b[92m[ 2.68679241  7.25440098 14.          0.65390023 17.          0.99358304]\u001b[0m\t \u001b[1m\u001b[92m0.7060994227407983\u001b[0m\t \u001b[1m\u001b[92m0.7060994227407983\u001b[0m\t \u001b[1m\u001b[92m2.1305688359458084\u001b[0m\t \u001b[1m\u001b[92m2.1305688359458084\u001b[0m\n",
            "9  \t [ 9.58792626  8.48977785 13.          0.60628176  9.          0.18518956]\t 0.9684252162072007\t 0.7060994227407983\t 2.102436224739147\t 2.102436224739147\n",
            "10 \t [ 6.97752806  2.98678749 10.          0.57146948  7.          0.9882264 ]\t 0.7212789829160808\t 0.7060994227407983\t 2.1228395314069646\t 2.1228395314069646\n",
            "\u001b[1m\u001b[92m11\u001b[0m\t \u001b[1m\u001b[92m[ 9.88162042  4.98501997  7.          0.71514689 11.          0.88825005]\u001b[0m\t \u001b[1m\u001b[92m0.7056574853508757\u001b[0m\t \u001b[1m\u001b[92m0.7056574853508757\u001b[0m\t \u001b[1m\u001b[92m2.1009803762324424\u001b[0m\t \u001b[1m\u001b[92m2.1009803762324424\u001b[0m\n",
            "12 \t [8.44893619 0.35900307 6.         0.94734172 4.         0.72898681]\t 0.7645746008116381\t 0.7056574853508757\t 2.0796543713867934\t 2.0796543713867934\n",
            "13 \t [4.29434972 2.01082809 8.         0.64047641 1.         0.68777935]\t 0.7751802690627648\t 0.7056574853508757\t 2.0678489659468346\t 2.0678489159851403\n",
            "14 \t [ 9.58736014  2.45468429 12.          0.89338522 12.          0.76778503]\t 0.7343751804493104\t 0.7056574853508757\t 2.060158631706235\t 2.060158558321417\n",
            "15 \t [ 0.58064821  4.71463583  6.          0.62063943 16.          0.34296764]\t 0.9094507882324498\t 0.7056574853508757\t 2.0534658701620194\t 2.0534658701620194\n",
            "16 \t [ 5.90866369  1.23912394  5.          0.73203526 13.          0.44895514]\t 0.8742114371455234\t 0.7056574853508757\t 2.062757182800862\t 2.062757182800862\n",
            "17 \t [ 3.45293281  1.16643478  9.          0.57140706 11.          0.20230511]\t 0.9702663325664342\t 0.7056574853508757\t 2.063603063858548\t 2.063603063858548\n",
            "18 \t [ 9.73541293  8.42044427 14.          0.53390677 16.          0.10576782]\t 0.9673248584076968\t 0.7056574853508757\t 2.156398616739599\t 2.1563986167315203\n",
            "19 \t [ 7.38101511  7.5533833  14.          0.66040085  5.          0.11249251]\t 0.9703863182337837\t 0.7056574853508757\t 2.0848285654128484\t 2.0848285654128484\n",
            "20 \t [ 2.93448298  5.80717368  5.          0.89608154 19.          0.6387738 ]\t 0.7650562704693341\t 0.7056574853508757\t 2.1462586929900285\t 2.1462586929900285\n",
            "21 \t [ 3.87687792  9.24471285 10.          0.79467506 14.          0.58974564]\t 0.7875791905388638\t 0.7056574853508757\t 2.1229717588946584\t 2.1229717588946584\n",
            "22 \t [ 3.12623913  1.70372165 14.          0.65033852 15.          0.68304577]\t 0.7562554967310947\t 0.7056574853508757\t 2.0966983222675486\t 2.0966983222675486\n",
            "23 \t [ 3.4604088   7.42456858 10.          0.74672583  4.          0.76280155]\t 0.7603875165011313\t 0.7056574853508757\t 2.130229207589584\t 2.130229207589584\n",
            "24 \t [5.80891976 6.22815082 5.         0.60791835 2.         0.19304152]\t 0.9721486244102616\t 0.7056574853508757\t 2.0631074404396137\t 2.063107077254911\n",
            "25 \t [ 2.60956706  4.4745251   9.          0.69330349 17.          0.83988084]\t 0.7495093963493484\t 0.7056574853508757\t 2.0896474937473792\t 2.0896474937473792\n",
            "26 \t [ 0.65904826  3.00639193 10.          0.88267232 10.          0.15011078]\t 0.9700037688440479\t 0.7056574853508757\t 2.082524979610345\t 2.082524979610345\n",
            "\u001b[1m\u001b[92m27\u001b[0m\t \u001b[1m\u001b[92m[ 6.72997514  0.60780575 14.          0.89835235 18.          0.97859978]\u001b[0m\t \u001b[1m\u001b[92m0.6974052019541508\u001b[0m\t \u001b[1m\u001b[92m0.6974052019541508\u001b[0m\t \u001b[1m\u001b[92m2.0833033533065897\u001b[0m\t \u001b[1m\u001b[92m2.083303288383384\u001b[0m\n",
            "28 \t [ 8.6598151   9.62485551  8.          0.71851231 16.          0.71522574]\t 0.7558432662300643\t 0.6974052019541508\t 2.120103007885026\t 2.120103007885026\n",
            "29 \t [ 9.89240609  4.6385061   5.          0.77405056 16.          0.99983452]\t 0.7196023005131863\t 0.6974052019541508\t 2.061431567815577\t 2.061431567815577\n",
            "30 \t [9.84932726 0.01047441 9.         0.55060821 8.         0.4502745 ]\t 0.8779770054326832\t 0.6974052019541508\t 2.111693413917267\t 2.111693413917267\n"
          ]
        },
        {
          "output_type": "execute_result",
          "data": {
            "text/plain": [
              "59612.82267483437"
            ]
          },
          "metadata": {},
          "execution_count": 25
        }
      ]
    },
    {
      "cell_type": "code",
      "metadata": {
        "id": "OjVSH6caUgyy",
        "colab": {
          "base_uri": "https://localhost:8080/"
        },
        "outputId": "ab0647dc-397a-4767-8c88-5eca1cea82e8"
      },
      "source": [
        "### Bayesian optimization runs (x20): 'approx' Acquisition Function run number = 6\n",
        "\n",
        "np.random.seed(run_num_6)\n",
        "surrogate_approx_6 = dtStudentProcess(cov_func, optimize=opt, nu = df)\n",
        "\n",
        "X_train6, X_test6, y_train6, y_test6 = train_test_split(X, y, test_size=test_perc, random_state=run_num_6)\n",
        "\n",
        "def f_syn_polarity6(alpha, gamma, max_depth, subsample, min_child_weight, colsample):\n",
        "    reg = XGBRegressor(reg_alpha=alpha, gamma=gamma, max_depth=int(max_depth), subsample=subsample, min_child_weight=min_child_weight,\n",
        "          colsample_bytree=colsample, n_estimators = n_est, random_state=run_num_6, objective = 'reg:squarederror')\n",
        "    score = np.array(cross_val_score(reg, X=X_train6, y=y_train6).mean())\n",
        "    return operator * score\n",
        "\n",
        "approx_6 = GPGO_multi(surrogate_approx_6, Acquisition_grad(util), f_syn_polarity6, param, n_jobs = -1) # define BayesOpt\n",
        "approx_6.run(max_iter = max_iter, init_evals = n_init) # run\n",
        "\n",
        "### Return optimal parameters' set:\n",
        "params_approx_6 = approx_6.getResult()[0]\n",
        "params_approx_6['max_depth'] = int(params_approx_6['max_depth'])\n",
        "params_approx_6['min_child_weight'] = int(params_approx_6['min_child_weight'])\n",
        "\n",
        "### Re-train with optimal parameters, run predictons:\n",
        "dX_approx_train6 = xgb.DMatrix(X_train6, y_train6)\n",
        "dX_approx_test6 = xgb.DMatrix(X_test6, y_test6)\n",
        "model_approx_6 = xgb.train(params_approx_6, dX_approx_train6)\n",
        "pred_approx_6 = model_approx_6.predict(dX_approx_test6)\n",
        "\n",
        "rmse_approx_6 = np.sqrt(mean_squared_error(pred_approx_6, y_test6))\n",
        "rmse_approx_6"
      ],
      "execution_count": null,
      "outputs": [
        {
          "output_type": "stream",
          "name": "stdout",
          "text": [
            "Evaluation \t Proposed point \t  Current eval. \t  Best eval. \t         Max. ExactAcqFunc \t Max. ApproxAcqFunc \n",
            "init\t [8.92860151 3.31979805 5.         0.99251441 2.         0.57683563]\t 0.8708842589582968\t 0.8009237324889021\t    \t    \n",
            "init\t [4.18807429 3.35407849 9.         0.87750649 3.         0.56623277]\t 0.868843701878103\t 0.8009237324889021\t    \t    \n",
            "init\t [ 5.788586    6.45355096 14.          0.70660047 12.          0.82154882]\t 0.8009237324889021\t 0.8009237324889021\t    \t    \n",
            "init\t [4.58184578 6.73834679 5.         0.90108528 3.         0.65482895]\t 0.8412285708806564\t 0.8009237324889021\t    \t    \n",
            "init\t [ 4.42510505  5.75952352 14.          0.97882365 15.          0.29525604]\t 1.0874405633037085\t 0.8009237324889021\t    \t    \n",
            "1  \t [ 2.83859384  1.8954219   7.          0.66740302 13.          0.2701964 ]\t 1.077285755760575\t 0.8009237324889021\t 2.2018110870407317\t 2.2018110870407317\n",
            "2  \t [ 8.38264396  7.97650716 14.          0.82584689  4.          0.25017455]\t 1.1030510584286708\t 0.8009237324889021\t 2.2804651437580095\t 2.2804651437580095\n",
            "3  \t [8.90357673 8.23982464 5.         0.66456142 9.         0.34395649]\t 1.0698458362482097\t 0.8009237324889021\t 2.3453131440662696\t 2.3453131440662696\n",
            "4  \t [ 8.97809086  0.52071511 12.          0.96314156 10.          0.21133381]\t 1.0952568725496277\t 0.8009237324889021\t 2.381462070024387\t 2.381462070022738\n",
            "\u001b[1m\u001b[92m5\u001b[0m\t \u001b[1m\u001b[92m[ 0.84801146  1.44124026 14.          0.54887437  7.          0.93547384]\u001b[0m\t \u001b[1m\u001b[92m0.7880607112692197\u001b[0m\t \u001b[1m\u001b[92m0.7880607112692197\u001b[0m\t \u001b[1m\u001b[92m2.4168025834658895\u001b[0m\t \u001b[1m\u001b[92m2.4168025834658895\u001b[0m\n",
            "6  \t [ 8.37754293  7.69636444  8.          0.98881796 16.          0.46623185]\t 0.8829825605031049\t 0.7880607112692197\t 2.372649711871548\t 2.372649711870682\n",
            "7  \t [ 0.5654966   9.52584762 14.          0.82016688  4.          0.10717254]\t 1.1024724416092895\t 0.7880607112692197\t 2.354352902717024\t 2.354352902717024\n",
            "\u001b[1m\u001b[92m8\u001b[0m\t \u001b[1m\u001b[92m[ 6.75909949  0.94220097  9.          0.71741448 19.          0.94972086]\u001b[0m\t \u001b[1m\u001b[92m0.7785043750594152\u001b[0m\t \u001b[1m\u001b[92m0.7785043750594152\u001b[0m\t \u001b[1m\u001b[92m2.3856397717806193\u001b[0m\t \u001b[1m\u001b[92m2.3856397717806193\u001b[0m\n",
            "9  \t [ 1.43292764  9.31823681  5.          0.51738676 10.          0.30600768]\t 1.0634397583136046\t 0.7785043750594152\t 2.3522841077760392\t 2.3522841077760392\n",
            "\u001b[1m\u001b[92m10\u001b[0m\t \u001b[1m\u001b[92m[ 0.09135886  8.11961466 10.          0.74013552 12.          0.97362941]\u001b[0m\t \u001b[1m\u001b[92m0.7744953455912423\u001b[0m\t \u001b[1m\u001b[92m0.7744953455912423\u001b[0m\t \u001b[1m\u001b[92m2.371219315577708\u001b[0m\t \u001b[1m\u001b[92m2.371219315577708\u001b[0m\n",
            "11 \t [ 9.49126464  2.25575335  7.          0.89398566 13.          0.76947203]\t 0.7887884221082111\t 0.7744953455912423\t 2.3425800660532174\t 2.342580066049598\n",
            "12 \t [ 1.03080361  6.70895845  7.          0.73336025 19.          0.31104879]\t 1.0772187610395967\t 0.7744953455912423\t 2.3189463376078563\t 2.3189463376078563\n",
            "13 \t [0.2400873  1.61429062 5.         0.72296529 1.         0.1077861 ]\t 1.0889575663939979\t 0.7744953455912423\t 2.339053627303088\t 2.339053627303088\n",
            "14 \t [9.89801174 9.77563967 9.         0.68555662 3.         0.83921118]\t 0.804976007347914\t 0.7744953455912423\t 2.3584891216367465\t 2.3584891216367465\n",
            "\u001b[1m\u001b[92m15\u001b[0m\t \u001b[1m\u001b[92m[ 0.50127522  1.94924928 11.          0.89270197 19.          0.91286914]\u001b[0m\t \u001b[1m\u001b[92m0.7669797183304906\u001b[0m\t \u001b[1m\u001b[92m0.7669797183304906\u001b[0m\t \u001b[1m\u001b[92m2.3400459620361738\u001b[0m\t \u001b[1m\u001b[92m2.3400459620361738\u001b[0m\n",
            "\u001b[1m\u001b[92m16\u001b[0m\t \u001b[1m\u001b[92m[ 4.8891514   9.63319929 13.          0.90452221  7.          0.96899492]\u001b[0m\t \u001b[1m\u001b[92m0.7651767009789585\u001b[0m\t \u001b[1m\u001b[92m0.7651767009789585\u001b[0m\t \u001b[1m\u001b[92m2.3185560135607917\u001b[0m\t \u001b[1m\u001b[92m2.3185560135607917\u001b[0m\n",
            "17 \t [5.45577791 0.01600384 5.         0.68033296 5.         0.47973584]\t 0.8987315752344891\t 0.7651767009789585\t 2.3005324904584366\t 2.300532490458436\n",
            "18 \t [0.75190021 2.99821111 7.         0.73112778 8.         0.11979456]\t 1.0909386577928757\t 0.7651767009789585\t 2.308368846492558\t 2.308368846492558\n",
            "19 \t [ 5.98453698  2.00451687 13.          0.80337068 13.          0.24875337]\t 1.1009731307154418\t 0.7651767009789585\t 2.2998133544027706\t 2.2998133544027706\n",
            "20 \t [ 7.65515729  8.3524801  13.          0.94320546  2.          0.37856462]\t 0.9255377827812661\t 0.7651767009789585\t 2.3525424564222406\t 2.3525424564222406\n",
            "21 \t [ 0.47174379  1.61924333 14.          0.75160636 12.          0.46783122]\t 0.8990899098780416\t 0.7651767009789585\t 2.3650337643372077\t 2.365033764159133\n",
            "22 \t [ 9.56780844  0.64608047 12.          0.83676299  2.          0.96098008]\t 0.7871483295077344\t 0.7651767009789585\t 2.3059396807441845\t 2.3059396807441845\n",
            "23 \t [ 7.36797889  8.11394282  7.          0.58550636 12.          0.48664462]\t 0.9004861276725805\t 0.7651767009789585\t 2.3140145597155817\t 2.3140145597155817\n",
            "24 \t [ 9.55684885  4.02134483 11.          0.82079508  6.          0.83404351]\t 0.7969303730572236\t 0.7651767009789585\t 2.2937207975268787\t 2.2937207975268787\n",
            "25 \t [ 3.81847995  9.43141013 12.          0.56182914 19.          0.95661081]\t 0.7882906269305859\t 0.7651767009789585\t 2.3265851949985814\t 2.3265851949985814\n",
            "26 \t [ 1.76346732  7.41255372 13.          0.55954485  5.          0.82537699]\t 0.80192465196928\t 0.7651767009789585\t 2.269295459055802\t 2.269295459055802\n",
            "27 \t [ 3.07145128  8.24536112 10.          0.9499357   1.          0.14212758]\t 1.1048931852017705\t 0.7651767009789585\t 2.287738811228888\t 2.287738810978497\n",
            "28 \t [ 3.49260032  4.66625699 14.41352329  0.5         1.89856183  0.8400518 ]\t 0.8242122564491124\t 0.7651767009789585\t 2.2944439390278832\t 2.2944439921685653\n",
            "29 \t [ 1.77214312  9.25420942  5.          0.67440912 15.          0.38002389]\t 0.9013282775580302\t 0.7651767009789585\t 2.2958984995331204\t 2.2958980966487905\n",
            "30 \t [1.73594604 9.55863667 8.         0.6088793  6.         0.86433392]\t 0.8134208930486164\t 0.7651767009789585\t 2.2757215175075074\t 2.2757215175075056\n"
          ]
        },
        {
          "output_type": "execute_result",
          "data": {
            "text/plain": [
              "61605.658713445744"
            ]
          },
          "metadata": {},
          "execution_count": 26
        }
      ]
    },
    {
      "cell_type": "code",
      "metadata": {
        "id": "J1WsphKSUj19",
        "colab": {
          "base_uri": "https://localhost:8080/"
        },
        "outputId": "377f49d2-4fc0-42bb-a63e-532360e61c91"
      },
      "source": [
        "### Bayesian optimization runs (x20): 'approx' Acquisition Function run number = 7\n",
        "\n",
        "np.random.seed(run_num_7)\n",
        "surrogate_approx_7 = dtStudentProcess(cov_func, optimize=opt, nu = df)\n",
        "\n",
        "X_train7, X_test7, y_train7, y_test7 = train_test_split(X, y, test_size=test_perc, random_state=run_num_7)\n",
        "\n",
        "def f_syn_polarity7(alpha, gamma, max_depth, subsample, min_child_weight, colsample):\n",
        "    reg = XGBRegressor(reg_alpha=alpha, gamma=gamma, max_depth=int(max_depth), subsample=subsample, min_child_weight=min_child_weight,\n",
        "          colsample_bytree=colsample, n_estimators = n_est, random_state=run_num_7, objective = 'reg:squarederror')\n",
        "    score = np.array(cross_val_score(reg, X=X_train7, y=y_train7).mean())\n",
        "    return operator * score\n",
        "\n",
        "approx_7 = GPGO_multi(surrogate_approx_7, Acquisition_grad(util), f_syn_polarity7, param, n_jobs = -1) # define BayesOpt\n",
        "approx_7.run(max_iter = max_iter, init_evals = n_init) # run\n",
        "\n",
        "### Return optimal parameters' set:\n",
        "params_approx_7 = approx_7.getResult()[0]\n",
        "params_approx_7['max_depth'] = int(params_approx_7['max_depth'])\n",
        "params_approx_7['min_child_weight'] = int(params_approx_7['min_child_weight'])\n",
        "\n",
        "### Re-train with optimal parameters, run predictons:\n",
        "dX_approx_train7 = xgb.DMatrix(X_train7, y_train7)\n",
        "dX_approx_test7 = xgb.DMatrix(X_test7, y_test7)\n",
        "model_approx_7 = xgb.train(params_approx_7, dX_approx_train7)\n",
        "pred_approx_7 = model_approx_7.predict(dX_approx_test7)\n",
        "\n",
        "rmse_approx_7 = np.sqrt(mean_squared_error(pred_approx_7, y_test7))\n",
        "rmse_approx_7"
      ],
      "execution_count": null,
      "outputs": [
        {
          "output_type": "stream",
          "name": "stdout",
          "text": [
            "Evaluation \t Proposed point \t  Current eval. \t  Best eval. \t         Max. ExactAcqFunc \t Max. ApproxAcqFunc \n",
            "init\t [0.76308289 7.79918792 8.         0.98911145 8.         0.98019056]\t 0.7260880637055529\t 0.7260880637055529\t    \t    \n",
            "init\t [ 5.3849587   5.01120464 13.          0.74994125  5.          0.88192131]\t 0.7424588384015385\t 0.7260880637055529\t    \t    \n",
            "init\t [ 3.30839249  3.9294231  12.          0.6440728  13.          0.41137564]\t 0.8412720456029797\t 0.7260880637055529\t    \t    \n",
            "init\t [9.29528191 2.6258377  5.         0.80027446 1.         0.86616513]\t 0.7736412232573235\t 0.7260880637055529\t    \t    \n",
            "init\t [ 1.74052764  7.90763512 14.          0.7244129   4.          0.77536887]\t 0.7650415360356615\t 0.7260880637055529\t    \t    \n",
            "1  \t [3.43305102 3.00339076 8.         0.71322679 4.         0.33322219]\t 0.9222990750260575\t 0.7260880637055529\t 1.8878549986249293\t 1.8878549986249293\n",
            "2  \t [ 8.27276329  5.80705371  6.          0.6575149  16.          0.66596626]\t 0.7908681556639724\t 0.7260880637055529\t 1.9546437071238203\t 1.9546437071238203\n",
            "3  \t [ 8.97988092  8.79483413 14.          0.55379557 13.          0.92924117]\t 0.7532691574021181\t 0.7260880637055529\t 1.9521649438549205\t 1.9521649438549205\n",
            "4  \t [ 6.31879092  0.69939064  5.          0.5769645  12.          0.84874959]\t 0.7781432084155051\t 0.7260880637055529\t 1.9391080686719562\t 1.9391080686719562\n",
            "5  \t [ 9.90436619  1.68371673 11.          0.68947817 16.          0.400226  ]\t 0.8455317589117171\t 0.7260880637055529\t 1.9354632452650347\t 1.9354632452650347\n",
            "6  \t [ 2.27614069  9.14855814 13.          0.84138599 18.          0.79014716]\t 0.7441046132441587\t 0.7260880637055529\t 1.9494536167555414\t 1.9494536167555414\n",
            "7  \t [ 0.63761793  0.73483023 14.          0.60715475  1.          0.28353184]\t 0.938335419027365\t 0.7260880637055529\t 1.9382713850906783\t 1.9382713850906783\n",
            "8  \t [ 0.46626117  2.25760624  6.          0.85367342 17.          0.48531791]\t 0.8357006200561671\t 0.7260880637055529\t 1.9708019821253446\t 1.9708019821253446\n",
            "9  \t [2.13213943 0.33619788 8.         0.65805012 9.         0.21235962]\t 1.0382579820366014\t 0.7260880637055529\t 1.9767692395069936\t 1.9767692395069936\n",
            "10 \t [ 3.23063104  1.13251329 14.          0.56093148  7.          0.35241226]\t 0.9263052453028615\t 0.7260880637055529\t 2.022497284249543\t 2.022497284249543\n",
            "11 \t [9.32031429 7.90309325 6.         0.69040988 5.         0.24485333]\t 1.0379873808842273\t 0.7260880637055529\t 2.0398567395666114\t 2.0398567395666114\n",
            "12 \t [7.0602652  6.93790534 9.         0.99868525 6.         0.93828193]\t 0.7346015930490536\t 0.7260880637055529\t 2.0748436201148883\t 2.0748436201148883\n",
            "13 \t [ 9.74185418  1.9812272  14.          0.94068286 10.          0.45784207]\t 0.8350939262618722\t 0.7260880637055529\t 2.0594270028240445\t 2.0594270028240445\n",
            "14 \t [ 5.05369665  2.67147005  5.          0.51290284 10.          0.64085   ]\t 0.7929636261147219\t 0.7260880637055529\t 2.0589443090183654\t 2.0589443090183654\n",
            "15 \t [7.56007588 9.31763773 8.         0.9626622  1.         0.9152255 ]\t 0.7341534695101155\t 0.7260880637055529\t 2.0530029088141686\t 2.0530029088141686\n",
            "16 \t [ 2.05114544  9.95025126  6.          0.79677111 13.          0.57904529]\t 0.7933652384902362\t 0.7260880637055529\t 2.040694478454984\t 2.040694478454984\n",
            "17 \t [ 0.08258912  2.04682383 12.          0.59206459 18.          0.58057909]\t 0.8001572384936282\t 0.7260880637055529\t 2.036698344363501\t 2.036698344363501\n",
            "18 \t [ 7.87862448  0.37268652 11.          0.83129981  1.          0.83621209]\t 0.7615889956561305\t 0.7260880637055529\t 2.031565836102147\t 2.0315658361016387\n",
            "19 \t [ 7.50373907  5.41854764 11.          0.90174644  5.          0.21227631]\t 1.0294400573352889\t 0.7260880637055529\t 2.025531474150046\t 2.025531474150046\n",
            "20 \t [ 5.0541702   1.72413952  9.          0.76132059 15.          0.37444251]\t 0.9151572773679874\t 0.7260880637055529\t 2.04988417578701\t 2.04988417578701\n",
            "21 \t [ 3.09348613  3.96247234  8.          0.81774087 13.          0.58941598]\t 0.7851375921928307\t 0.7260880637055529\t 2.1002006367556127\t 2.1002006367556127\n",
            "22 \t [9.3118118  0.88165718 7.         0.95803931 5.         0.37975576]\t 0.8332296845735607\t 0.7260880637055529\t 2.0448134783853265\t 2.044813475386191\n",
            "23 \t [ 4.56796849  7.2276288  12.          0.69041532 11.          0.25650596]\t 0.9204040683754566\t 0.7260880637055529\t 2.054445231980886\t 2.054445231980886\n",
            "24 \t [0.70527907 5.59255728 5.         0.86863619 1.         0.35457337]\t 0.9131884722416652\t 0.7260880637055529\t 2.0729130066344013\t 2.0729130066343857\n",
            "25 \t [2.62154521 9.82821247 5.         0.94306877 2.         0.54997602]\t 0.7884946222204549\t 0.7260880637055529\t 2.0531278976462586\t 2.0531278976462586\n",
            "26 \t [ 2.06002331  9.88106062 13.          0.81874566 19.          0.24780841]\t 1.026659800264627\t 0.7260880637055529\t 2.0661377990104737\t 2.0661377990104737\n",
            "27 \t [ 5.69797742  9.57419645  5.          0.83200529 19.          0.51994919]\t 0.7903346898520803\t 0.7260880637055529\t 2.1026109528908825\t 2.1026109528908825\n",
            "28 \t [ 7.27114604  3.7137488   9.          0.55194413 17.          0.65085645]\t 0.7913418219905086\t 0.7260880637055529\t 2.0755876469988213\t 2.0755876469988213\n",
            "29 \t [ 9.4564322   8.90732533 12.          0.76283199 19.          0.73059119]\t 0.7869676947248176\t 0.7260880637055529\t 2.1118953887265746\t 2.1118953879923383\n",
            "30 \t [ 6.51356727  1.45057476 10.          0.5773341   4.          0.42302705]\t 0.8524362884697597\t 0.7260880637055529\t 2.1033531517047814\t 2.1033531517047814\n"
          ]
        },
        {
          "output_type": "execute_result",
          "data": {
            "text/plain": [
              "61351.93418054509"
            ]
          },
          "metadata": {},
          "execution_count": 27
        }
      ]
    },
    {
      "cell_type": "code",
      "metadata": {
        "id": "hI8sFP4ZUmOs",
        "colab": {
          "base_uri": "https://localhost:8080/"
        },
        "outputId": "0b618582-a7a5-4755-954a-e745ddfaa5de"
      },
      "source": [
        "### Bayesian optimization runs (x20): 'approx' Acquisition Function run number = 8\n",
        "\n",
        "np.random.seed(run_num_8)\n",
        "surrogate_approx_8 = dtStudentProcess(cov_func, optimize=opt, nu = df)\n",
        "\n",
        "X_train8, X_test8, y_train8, y_test8 = train_test_split(X, y, test_size=test_perc, random_state=run_num_8)\n",
        "\n",
        "def f_syn_polarity8(alpha, gamma, max_depth, subsample, min_child_weight, colsample):\n",
        "    reg = XGBRegressor(reg_alpha=alpha, gamma=gamma, max_depth=int(max_depth), subsample=subsample, min_child_weight=min_child_weight,\n",
        "          colsample_bytree=colsample, n_estimators = n_est, random_state=run_num_8, objective = 'reg:squarederror')\n",
        "    score = np.array(cross_val_score(reg, X=X_train8, y=y_train8).mean())\n",
        "    return operator * score\n",
        "\n",
        "approx_8 = GPGO_multi(surrogate_approx_8, Acquisition_grad(util), f_syn_polarity8, param, n_jobs = -1) # define BayesOpt\n",
        "approx_8.run(max_iter = max_iter, init_evals = n_init) # run\n",
        "\n",
        "### Return optimal parameters' set:\n",
        "params_approx_8 = approx_8.getResult()[0]\n",
        "params_approx_8['max_depth'] = int(params_approx_8['max_depth'])\n",
        "params_approx_8['min_child_weight'] = int(params_approx_8['min_child_weight'])\n",
        "\n",
        "### Re-train with optimal parameters, run predictons:\n",
        "dX_approx_train8 = xgb.DMatrix(X_train8, y_train8)\n",
        "dX_approx_test8 = xgb.DMatrix(X_test8, y_test8)\n",
        "model_approx_8 = xgb.train(params_approx_8, dX_approx_train8)\n",
        "pred_approx_8 = model_approx_8.predict(dX_approx_test8)\n",
        "\n",
        "rmse_approx_8 = np.sqrt(mean_squared_error(pred_approx_8, y_test8))\n",
        "rmse_approx_8"
      ],
      "execution_count": null,
      "outputs": [
        {
          "output_type": "stream",
          "name": "stdout",
          "text": [
            "Evaluation \t Proposed point \t  Current eval. \t  Best eval. \t         Max. ExactAcqFunc \t Max. ApproxAcqFunc \n",
            "init\t [ 8.73429403  9.68540663 10.          0.68875849  9.          0.48011572]\t 0.802823873653181\t 0.7393694249818598\t    \t    \n",
            "init\t [ 6.12033333  7.66062926  8.          0.76133734 13.          0.93379456]\t 0.7439561063387327\t 0.7393694249818598\t    \t    \n",
            "init\t [ 1.46524679  7.01527914  7.          0.90913299 10.          0.36016753]\t 0.8573744170126428\t 0.7393694249818598\t    \t    \n",
            "init\t [ 9.73855241  3.33774046 14.          0.53290419  7.          0.7088681 ]\t 0.7605799870908501\t 0.7393694249818598\t    \t    \n",
            "init\t [ 3.00618018  1.82702795 11.          0.75681389 14.          0.98627449]\t 0.7393694249818598\t 0.7393694249818598\t    \t    \n",
            "\u001b[1m\u001b[92m1\u001b[0m\t \u001b[1m\u001b[92m[4.42022545 5.48487111 9.         0.97165909 3.         0.63617522]\u001b[0m\t \u001b[1m\u001b[92m0.7341650428609557\u001b[0m\t \u001b[1m\u001b[92m0.7341650428609557\u001b[0m\t \u001b[1m\u001b[92m1.9156941993159622\u001b[0m\t \u001b[1m\u001b[92m1.9156941993159622\u001b[0m\n",
            "2  \t [ 4.42530022  8.86662399 12.          0.55390756 19.          0.26906902]\t 0.8873087046852387\t 0.7341650428609557\t 1.8966378812709033\t 1.8966378812709033\n",
            "3  \t [ 9.08237751  2.49680746  6.          0.65941352 17.          0.68321352]\t 0.7481675054625107\t 0.7341650428609557\t 1.9386045499772848\t 1.9386045499772848\n",
            "4  \t [9.24101391 3.71625162 7.         0.92041359 7.         0.33094108]\t 0.8633824421289817\t 0.7341650428609557\t 1.925676499567516\t 1.925676499567516\n",
            "5  \t [ 2.71549468  6.59835463  5.          0.95307649 18.          0.8022723 ]\t 0.7484161632696045\t 0.7341650428609557\t 1.947602987281803\t 1.947602987281803\n",
            "6  \t [ 8.42695368  3.16936553 13.          0.82366295 16.          0.76402556]\t 0.7356192440307244\t 0.7341650428609557\t 1.936470620330678\t 1.936470620330678\n",
            "7  \t [ 8.83774177  5.41674027 14.          0.73954397  1.          0.31035075]\t 0.8970855207140378\t 0.7341650428609557\t 1.9246248805726394\t 1.9246248805726394\n",
            "8  \t [ 0.45904618  0.31422469 12.          0.85221495  5.          0.31125587]\t 0.8688237885855482\t 0.7341650428609557\t 1.9488156383330821\t 1.9488156383330821\n",
            "9  \t [ 0.45485069  5.92046568 13.          0.54575641 15.          0.3753516 ]\t 0.8113677562605297\t 0.7341650428609557\t 1.9631937929449594\t 1.9631937919721067\n",
            "10 \t [ 3.96405062  8.0979425  14.          0.59297393  7.          0.94464131]\t 0.7505018736047322\t 0.7341650428609557\t 1.9649351406714708\t 1.9649351406714708\n",
            "11 \t [9.23421894 1.96715525 6.         0.84213684 1.         0.28111445]\t 0.8673094941420189\t 0.7341650428609557\t 1.9567509703752295\t 1.9567509703720096\n",
            "12 \t [3.47378168 0.90493309 7.         0.70332668 6.         0.717685  ]\t 0.7495116962078379\t 0.7341650428609557\t 1.9676440159864192\t 1.9676440159864192\n",
            "13 \t [ 9.08307561  9.73616604  5.          0.74596783 18.          0.23735578]\t 1.0006633800011113\t 0.7341650428609557\t 1.9600770936772784\t 1.9600770936772784\n",
            "14 \t [ 2.60485405  0.1122727  14.          0.63362696 19.          0.53965358]\t 0.7741744043730975\t 0.7341650428609557\t 1.9906174263608711\t 1.9906174263608711\n",
            "15 \t [3.63587924 9.92644255 5.         0.74785877 1.         0.42737692]\t 0.7942979577990048\t 0.7341650428609557\t 1.9857490516488652\t 1.9857490516488652\n",
            "16 \t [ 6.35979139  1.00897047 10.          0.55338934  9.          0.8992107 ]\t 0.7582154255415187\t 0.7341650428609557\t 1.9841814123410093\t 1.9841814123410093\n",
            "17 \t [ 2.12586208  4.01516793 14.          0.99753944  1.          0.59182746]\t 0.7780815499248835\t 0.7341650428609557\t 1.9795141744888902\t 1.9795141744888902\n",
            "18 \t [ 1.35322101  2.96172691 10.          0.82171324  9.          0.2070415 ]\t 0.9980631943644411\t 0.7341650428609557\t 1.9577572257900246\t 1.9577572257900246\n",
            "19 \t [ 1.24817982  5.75156112 12.          0.56532786 19.          0.40494625]\t 0.8074218603040494\t 0.7341650428609557\t 2.0412705065464003\t 2.0412705065464003\n",
            "20 \t [ 6.84951512  0.65690232  5.          0.51903401 13.          0.510251  ]\t 0.8038460886877121\t 0.7341650428609557\t 1.980645499379231\t 1.9806454993771958\n",
            "21 \t [ 4.96181193  2.91089923  6.          0.69167509 15.          0.83383245]\t 0.7443970340307106\t 0.7341650428609557\t 1.9745278082756097\t 1.9745278082756097\n",
            "22 \t [ 3.36538587  9.88859923 13.          0.74640712 14.          0.34166583]\t 0.869979050273399\t 0.7341650428609557\t 2.005982068040421\t 2.005982068040421\n",
            "23 \t [9.0548994  9.22699073 6.         0.81952407 4.         0.89275019]\t 0.7442995610019533\t 0.7341650428609557\t 2.0041378429492505\t 2.0041378429492402\n",
            "24 \t [ 9.32779145  5.8517174  11.          0.74437014 12.          0.90919993]\t 0.7403513737505086\t 0.7341650428609557\t 2.020344090040836\t 2.020344090040836\n",
            "25 \t [0.16001103 3.6224827  6.         0.58145757 6.         0.34057575]\t 0.8853726892659874\t 0.7341650428609557\t 1.964642542601498\t 1.964642542601498\n",
            "26 \t [ 3.21551212  3.04157433  6.          0.9055065  17.          0.2304952 ]\t 0.9897503949395169\t 0.7341650428609557\t 1.9827601800765895\t 1.9827601800765895\n",
            "27 \t [ 7.15040543  9.72926644 14.          0.63776297 15.          0.43073814]\t 0.8013428795907425\t 0.7341650428609557\t 1.9903622033988344\t 1.9903622033988344\n",
            "28 \t [ 5.29841112  4.74245374 11.          0.68146799 19.          0.79014882]\t 0.7439831766925111\t 0.7341650428609557\t 2.022481474851722\t 2.022481474851722\n",
            "29 \t [ 9.6464663   0.98885701  8.          0.8054878  19.          0.70201828]\t 0.7400612177024872\t 0.7341650428609557\t 2.0243204524755067\t 2.0243204524755067\n",
            "30 \t [ 6.13227177  4.9471251  12.          0.70151646  5.          0.22031339]\t 1.0026563027674915\t 0.7341650428609557\t 2.003902154744429\t 2.003902154744429\n"
          ]
        },
        {
          "output_type": "execute_result",
          "data": {
            "text/plain": [
              "60822.98185938519"
            ]
          },
          "metadata": {},
          "execution_count": 28
        }
      ]
    },
    {
      "cell_type": "code",
      "metadata": {
        "id": "Vw5IYus6UpAn",
        "colab": {
          "base_uri": "https://localhost:8080/"
        },
        "outputId": "0abc23f9-d64d-4555-f959-3e3f080e5b81"
      },
      "source": [
        "### Bayesian optimization runs (x20): 'approx' Acquisition Function run number = 9\n",
        "\n",
        "np.random.seed(run_num_9)\n",
        "surrogate_approx_9 = dtStudentProcess(cov_func, optimize=opt, nu = df)\n",
        "\n",
        "X_train9, X_test9, y_train9, y_test9 = train_test_split(X, y, test_size=test_perc, random_state=run_num_9)\n",
        "\n",
        "def f_syn_polarity9(alpha, gamma, max_depth, subsample, min_child_weight, colsample):\n",
        "    reg = XGBRegressor(reg_alpha=alpha, gamma=gamma, max_depth=int(max_depth), subsample=subsample, min_child_weight=min_child_weight,\n",
        "          colsample_bytree=colsample, n_estimators = n_est, random_state=run_num_9, objective = 'reg:squarederror')\n",
        "    score = np.array(cross_val_score(reg, X=X_train9, y=y_train9).mean())\n",
        "    return operator * score\n",
        "\n",
        "approx_9 = GPGO_multi(surrogate_approx_9, Acquisition_grad(util), f_syn_polarity9, param, n_jobs = -1) # define BayesOpt\n",
        "approx_9.run(max_iter = max_iter, init_evals = n_init) # run\n",
        "\n",
        "### Return optimal parameters' set:\n",
        "params_approx_9 = approx_9.getResult()[0]\n",
        "params_approx_9['max_depth'] = int(params_approx_9['max_depth'])\n",
        "params_approx_9['min_child_weight'] = int(params_approx_9['min_child_weight'])\n",
        "\n",
        "### Re-train with optimal parameters, run predictons:\n",
        "dX_approx_train9 = xgb.DMatrix(X_train9, y_train9)\n",
        "dX_approx_test9 = xgb.DMatrix(X_test9, y_test9)\n",
        "model_approx_9 = xgb.train(params_approx_9, dX_approx_train9)\n",
        "pred_approx_9 = model_approx_9.predict(dX_approx_test9)\n",
        "\n",
        "rmse_approx_9 = np.sqrt(mean_squared_error(pred_approx_9, y_test9))\n",
        "rmse_approx_9"
      ],
      "execution_count": null,
      "outputs": [
        {
          "output_type": "stream",
          "name": "stdout",
          "text": [
            "Evaluation \t Proposed point \t  Current eval. \t  Best eval. \t         Max. ExactAcqFunc \t Max. ApproxAcqFunc \n",
            "init\t [ 0.10374154  5.01874592 11.          0.50377155  2.          0.29670281]\t 1.1242573295906948\t 0.7785306461595496\t    \t    \n",
            "init\t [ 4.18508181  2.48101168 13.          0.69794293  2.          0.25009871]\t 1.1029639839305116\t 0.7785306461595496\t    \t    \n",
            "init\t [ 8.78559086  9.50964032 13.          0.98395204 11.          0.90820641]\t 0.7785306461595496\t 0.7785306461595496\t    \t    \n",
            "init\t [ 6.66898973  5.47837783  6.          0.97165345 12.          0.72499481]\t 0.8502721808074817\t 0.7785306461595496\t    \t    \n",
            "init\t [ 8.24870465  4.65668475 13.          0.68760467  9.          0.98502332]\t 0.8007936005920335\t 0.7785306461595496\t    \t    \n",
            "1  \t [6.73714319 2.39608167 5.         0.58130302 3.         0.163077  ]\t 1.1406566629866908\t 0.7785306461595496\t 2.311058789407201\t 2.311058789407201\n",
            "2  \t [ 8.16285902  8.43489929  9.          0.96605421 10.          0.79940153]\t 0.8233816089104812\t 0.7785306461595496\t 2.3983171201079645\t 2.3983171201079645\n",
            "3  \t [ 8.20707753  5.23681739  9.          0.99500664 19.          0.41686889]\t 0.9191507511732485\t 0.7785306461595496\t 2.347633093777578\t 2.347633093777578\n",
            "4  \t [ 0.19525707  9.62416422  9.          0.85280832 10.          0.52998476]\t 0.8430600265636745\t 0.7785306461595496\t 2.3358139551069965\t 2.3358139551069965\n",
            "5  \t [ 1.86381009  9.16177979  5.          0.9344438  17.          0.81379931]\t 0.8496902041278048\t 0.7785306461595496\t 2.307300260130478\t 2.307300260130478\n",
            "6  \t [ 2.07399013  1.08547559 13.          0.90854674 16.          0.44415088]\t 0.9190933334870838\t 0.7785306461595496\t 2.2857093213420248\t 2.2857093213420248\n",
            "7  \t [ 1.89765372  4.25355821 10.          0.70664475 12.          0.87029284]\t 0.8473962745999538\t 0.7785306461595496\t 2.282602251940759\t 2.28260225147093\n",
            "8  \t [3.82480828 0.40103086 7.         0.99159013 8.         0.13885831]\t 1.1340370849711392\t 0.7785306461595496\t 2.2660752509286275\t 2.2660752509286275\n",
            "9  \t [ 0.30581668  9.33751049 12.          0.80943195 19.          0.44519139]\t 0.9249945564098354\t 0.7785306461595496\t 2.3094992893718125\t 2.3094992893718125\n",
            "10 \t [ 8.9317907   9.240006   13.          0.55531212  4.          0.42887515]\t 0.9694253204437654\t 0.7785306461595496\t 2.3063606642138104\t 2.30636066421381\n",
            "11 \t [ 7.53441733  9.89426931 12.          0.67232682 16.          0.3377491 ]\t 1.0829115765764628\t 0.7785306461595496\t 2.3109928258225065\t 2.3109928258225065\n",
            "12 \t [1.13081555 8.89608809 5.         0.68242063 1.         0.25767085]\t 1.0885131872740894\t 0.7785306461595496\t 2.3338327867416444\t 2.3338327867416444\n",
            "13 \t [ 3.46207476  9.83623086 13.          0.59254174 15.          0.37573299]\t 0.939883084954905\t 0.7785306461595496\t 2.3546632793647406\t 2.3546632793647406\n",
            "14 \t [ 8.08392893  1.91862949 14.          0.6384648  17.          0.1890016 ]\t 1.1397191606937405\t 0.7785306461595496\t 2.351676578478609\t 2.351676578478609\n",
            "15 \t [ 6.22541093  3.37608824  5.          0.51282235 16.          0.85159206]\t 0.8882932921469322\t 0.7785306461595496\t 2.376605812482162\t 2.376605812482162\n",
            "16 \t [9.39353565 9.93046622 5.         0.57188784 4.         0.83501032]\t 0.8795719018846426\t 0.7785306461595496\t 2.367361743640038\t 2.367361743640038\n",
            "17 \t [ 1.01403007  4.17086177  6.          0.95687904 19.          0.93022379]\t 0.7971026945037708\t 0.7785306461595496\t 2.3605881768496557\t 2.3605881653114884\n",
            "18 \t [2.32449242 8.80135208 8.         0.99642073 4.         0.14576968]\t 1.1331068048862545\t 0.7785306461595496\t 2.3410416560125427\t 2.3410416560125427\n",
            "19 \t [ 1.94208058  0.16964018  6.          0.78727092 15.          0.47432235]\t 0.9262563969908063\t 0.7785306461595496\t 2.361961254278049\t 2.361961254278049\n",
            "20 \t [ 9.27124123  1.79885495 11.          0.60820867  4.          0.48344805]\t 0.9618304471443053\t 0.7785306461595496\t 2.3703399514037566\t 2.3703399514037566\n",
            "21 \t [0.93748744 2.66462057 5.         0.77408223 4.         0.19936714]\t 1.136782809650025\t 0.7785306461595496\t 2.366703660890762\t 2.366703660408467\n",
            "22 \t [ 0.3768638   0.98456584  9.          0.99441364 13.          0.49763585]\t 0.9210006183994057\t 0.7785306461595496\t 2.3622889744871056\t 2.3622889744871056\n",
            "23 \t [ 9.08746749  0.1890095   7.          0.62827489 13.          0.48058639]\t 0.9355271628499416\t 0.7785306461595496\t 2.4102504916479393\t 2.4102504916479393\n",
            "24 \t [ 7.23652585  0.33619925 10.          0.96923734 16.          0.51568617]\t 0.8405940556630409\t 0.7785306461595496\t 2.3816723073015087\t 2.3816723073015087\n",
            "25 \t [8.2007632  5.80436627 6.         0.76635233 7.         0.49444634]\t 0.9337877394134475\t 0.7785306461595496\t 2.361099146721198\t 2.361099146721198\n",
            "26 \t [ 0.34910818  3.39479926 12.          0.75007153 14.          0.74419655]\t 0.8414357962829216\t 0.7785306461595496\t 2.3480516110676586\t 2.3480516110676586\n",
            "27 \t [ 7.3763888   8.58824065  6.          0.72153969 17.          0.21795769]\t 1.1420775520684883\t 0.7785306461595496\t 2.363521987430731\t 2.363521987430731\n",
            "28 \t [3.83388461 2.85611667 7.         0.74640655 5.         0.27473638]\t 1.0854101197025208\t 0.7785306461595496\t 2.370804377510103\t 2.370804377510103\n",
            "29 \t [ 5.3574592   5.42167977 11.          0.80739246  3.          0.15190636]\t 1.1426153855251038\t 0.7785306461595496\t 2.3708927837434963\t 2.3708927837434963\n",
            "30 \t [ 0.01153499  2.29531024 11.          0.50673714  7.          0.13750522]\t 1.154363103664814\t 0.7785306461595496\t 2.394715739435421\t 2.394715739435421\n"
          ]
        },
        {
          "output_type": "execute_result",
          "data": {
            "text/plain": [
              "60590.73520973802"
            ]
          },
          "metadata": {},
          "execution_count": 29
        }
      ]
    },
    {
      "cell_type": "code",
      "metadata": {
        "id": "YD494io_Ur7V",
        "colab": {
          "base_uri": "https://localhost:8080/"
        },
        "outputId": "8fd93ac5-fd41-4d78-a6c2-7976b386dc14"
      },
      "source": [
        "### Bayesian optimization runs (x20): 'approx' Acquisition Function run number = 10\n",
        "\n",
        "np.random.seed(run_num_10)\n",
        "surrogate_approx_10 = dtStudentProcess(cov_func, optimize=opt, nu = df)\n",
        "\n",
        "X_train10, X_test10, y_train10, y_test10 = train_test_split(X, y, test_size=test_perc, random_state=run_num_10)\n",
        "\n",
        "def f_syn_polarity10(alpha, gamma, max_depth, subsample, min_child_weight, colsample):\n",
        "    reg = XGBRegressor(reg_alpha=alpha, gamma=gamma, max_depth=int(max_depth), subsample=subsample, min_child_weight=min_child_weight,\n",
        "          colsample_bytree=colsample, n_estimators = n_est, random_state=run_num_10, objective = 'reg:squarederror')\n",
        "    score = np.array(cross_val_score(reg, X=X_train10, y=y_train10).mean())\n",
        "    return operator * score\n",
        "\n",
        "approx_10 = GPGO_multi(surrogate_approx_10, Acquisition_grad(util), f_syn_polarity10, param, n_jobs = -1) # define BayesOpt\n",
        "approx_10.run(max_iter = max_iter, init_evals = n_init) # run\n",
        "\n",
        "### Return optimal parameters' set:\n",
        "params_approx_10 = approx_10.getResult()[0]\n",
        "params_approx_10['max_depth'] = int(params_approx_10['max_depth'])\n",
        "params_approx_10['min_child_weight'] = int(params_approx_10['min_child_weight'])\n",
        "\n",
        "### Re-train with optimal parameters, run predictons:\n",
        "dX_approx_train10 = xgb.DMatrix(X_train10, y_train10)\n",
        "dX_approx_test10 = xgb.DMatrix(X_test10, y_test10)\n",
        "model_approx_10 = xgb.train(params_approx_10, dX_approx_train10)\n",
        "pred_approx_10 = model_approx_10.predict(dX_approx_test10)\n",
        "\n",
        "rmse_approx_10 = np.sqrt(mean_squared_error(pred_approx_10, y_test10))\n",
        "rmse_approx_10"
      ],
      "execution_count": null,
      "outputs": [
        {
          "output_type": "stream",
          "name": "stdout",
          "text": [
            "Evaluation \t Proposed point \t  Current eval. \t  Best eval. \t         Max. ExactAcqFunc \t Max. ApproxAcqFunc \n",
            "init\t [ 7.71320643  0.20751949  5.          0.72150747 17.          0.12265456]\t 1.0639310256047103\t 0.7797034870948047\t    \t    \n",
            "init\t [ 7.0920801   2.65566127 13.          0.57518893 17.          0.83494165]\t 0.79580179662759\t 0.7797034870948047\t    \t    \n",
            "init\t [ 3.36071584  8.90816531  6.          0.86087766 15.          0.75469196]\t 0.7797034870948047\t 0.7797034870948047\t    \t    \n",
            "init\t [ 5.40880931  1.31458152  8.          0.57108502 14.          0.62551123]\t 0.7990514117028104\t 0.7797034870948047\t    \t    \n",
            "init\t [1.82631436 8.26082248 6.         0.80888349 5.         0.15900694]\t 1.0587036817796267\t 0.7797034870948047\t    \t    \n",
            "\u001b[1m\u001b[92m1\u001b[0m\t \u001b[1m\u001b[92m[8.31989768 3.09778055 7.         0.64798085 3.         0.98471878]\u001b[0m\t \u001b[1m\u001b[92m0.7741723447560037\u001b[0m\t \u001b[1m\u001b[92m0.7741723447560037\u001b[0m\t \u001b[1m\u001b[92m2.226887683390603\u001b[0m\t \u001b[1m\u001b[92m2.226887683390603\u001b[0m\n",
            "2  \t [ 3.05837423  0.98670899 11.          0.63714741 18.          0.46809298]\t 0.8572799307158145\t 0.7741723447560037\t 2.175285471184526\t 2.175285471184526\n",
            "3  \t [ 2.20772511  4.37663949 11.          0.65455258  3.          0.57545511]\t 0.7990049933887924\t 0.7741723447560037\t 2.164676626378129\t 2.164676626378129\n",
            "\u001b[1m\u001b[92m4\u001b[0m\t \u001b[1m\u001b[92m[ 2.98946783  8.70916918 12.          0.89809007  8.          0.53350402]\u001b[0m\t \u001b[1m\u001b[92m0.7701333999187374\u001b[0m\t \u001b[1m\u001b[92m0.7701333999187374\u001b[0m\t \u001b[1m\u001b[92m2.1398372629723976\u001b[0m\t \u001b[1m\u001b[92m2.1398372629723976\u001b[0m\n",
            "\u001b[1m\u001b[92m5\u001b[0m\t \u001b[1m\u001b[92m[ 3.75041373  9.81989522 14.          0.71370546 14.          0.97207881]\u001b[0m\t \u001b[1m\u001b[92m0.7583770586009706\u001b[0m\t \u001b[1m\u001b[92m0.7583770586009706\u001b[0m\t \u001b[1m\u001b[92m2.113182462049732\u001b[0m\t \u001b[1m\u001b[92m2.113182462049732\u001b[0m\n",
            "6  \t [9.5129367  9.98430937 6.         0.51699097 2.         0.32133886]\t 1.013338643136875\t 0.7583770586009706\t 2.0890351411654096\t 2.0890351411654096\n",
            "\u001b[1m\u001b[92m7\u001b[0m\t \u001b[1m\u001b[92m[ 9.67314628  9.09427799  9.          0.82851167 16.          0.96267251]\u001b[0m\t \u001b[1m\u001b[92m0.7578726678207005\u001b[0m\t \u001b[1m\u001b[92m0.7578726678207005\u001b[0m\t \u001b[1m\u001b[92m2.1277772715735837\u001b[0m\t \u001b[1m\u001b[92m2.1277772715733647\u001b[0m\n",
            "8  \t [ 9.67396075  2.8020106  13.          0.65074314 10.          0.54373377]\t 0.7966957629406074\t 0.7578726678207005\t 2.1064998139658706\t 2.106499813965869\n",
            "9  \t [7.7714375  7.70616843 8.         0.82339468 6.         0.96195202]\t 0.7659210449096093\t 0.7578726678207005\t 2.094983925570285\t 2.094983925570285\n",
            "10 \t [ 9.68988111  3.14723756  5.          0.57337272 11.          0.12853019]\t 1.0708271865508894\t 0.7578726678207005\t 2.0801101959598474\t 2.0801101958121495\n",
            "11 \t [ 7.42334933  7.43735147 12.          0.74628126  2.          0.54122098]\t 0.7825236551040937\t 0.7578726678207005\t 2.120636067438866\t 2.120636067438866\n",
            "12 \t [0.3261262  0.3175016  8.         0.74340245 7.         0.15256221]\t 1.059741130596732\t 0.7578726678207005\t 2.108453386965785\t 2.108453386965785\n",
            "13 \t [ 1.32528066  5.17118506  5.          0.79204954 19.          0.27904411]\t 0.9748541191382067\t 0.7578726678207005\t 2.1403220030261765\t 2.1403220030261765\n",
            "14 \t [ 3.89768175  5.29572603  8.          0.92074245 11.          0.31486353]\t 0.9676224176737994\t 0.7578726678207005\t 2.1547906174813742\t 2.1547906174813742\n",
            "15 \t [ 0.15128266  5.75290365 10.          0.52450544 13.          0.50574484]\t 0.7994065495894672\t 0.7578726678207005\t 2.166858674051257\t 2.166858674051257\n",
            "16 \t [ 8.95941594  0.86941552 12.          0.83050216  3.          0.94464191]\t 0.7695678167521649\t 0.7578726678207005\t 2.156220516500343\t 2.156220516500343\n",
            "17 \t [0.54815519 9.09457687 7.         0.55756737 9.         0.32110491]\t 0.9905916044645892\t 0.7578726678207005\t 2.1433699494151592\t 2.1433699494151592\n",
            "18 \t [ 6.17394409  4.04114422 10.          0.65058545  1.          0.14583054]\t 1.0756148882202339\t 0.7578726678207005\t 2.17964701766402\t 2.17964701766402\n",
            "19 \t [ 3.78735015  9.68358783 10.          0.98414687 15.          0.22243198]\t 1.0509441886942668\t 0.7578726678207005\t 2.2153544539290952\t 2.2153544539290952\n",
            "20 \t [ 5.75608238  3.36114356  7.          0.8888975  17.          0.1085544 ]\t 1.0497516119782428\t 0.7578726678207005\t 2.197874679129483\t 2.197874679129483\n",
            "21 \t [ 1.40673694  2.81853826  8.          0.57005206 17.          0.51239648]\t 0.7979220004395456\t 0.7578726678207005\t 2.2150126181543666\t 2.2150126181543666\n",
            "22 \t [ 7.61103017  3.62093566 13.          0.5614452  13.          0.12084556]\t 1.0727233913162242\t 0.7578726678207005\t 2.19590414176165\t 2.19590414176165\n",
            "23 \t [ 6.89824313  6.43931113 11.          0.60707962 11.          0.89509759]\t 0.7738741181601402\t 0.7578726678207005\t 2.204720288993029\t 2.204720288993029\n",
            "24 \t [ 8.33810851  9.8990204  14.          0.61893039  5.          0.69227045]\t 0.7823499251514459\t 0.7578726678207005\t 2.2150074011649603\t 2.2150074011649603\n",
            "25 \t [ 2.93488039  1.42589705 12.          0.53662532 11.          0.95990351]\t 0.7845589735417017\t 0.7578726678207005\t 2.2125217552858345\t 2.212521744356404\n",
            "26 \t [1.1017928  2.097023   6.         0.71019319 1.         0.77316986]\t 0.7924768119208077\t 0.7578726678207005\t 2.202595198511314\t 2.202595198511314\n",
            "27 \t [ 7.88167693  7.97515501  6.          0.78950848 17.          0.19131965]\t 1.0553390354056282\t 0.7578726678207005\t 2.1845368365459454\t 2.1845368365459454\n",
            "28 \t [ 1.55481231  8.89847306 13.          0.92315868 19.          0.23858876]\t 1.0555070855921338\t 0.7578726678207005\t 2.207878274463414\t 2.207878274463414\n",
            "29 \t [ 8.76678657  9.19944202 14.          0.60876221 15.          0.44634556]\t 0.8507928737892122\t 0.7578726678207005\t 2.2153939078543265\t 2.2153939078543265\n",
            "30 \t [ 9.44119737  4.83052802 12.          0.87311968 19.          0.35147834]\t 0.9718991207487232\t 0.7578726678207005\t 2.2248033809485426\t 2.2248033809485426\n"
          ]
        },
        {
          "output_type": "execute_result",
          "data": {
            "text/plain": [
              "60744.35614633767"
            ]
          },
          "metadata": {},
          "execution_count": 30
        }
      ]
    },
    {
      "cell_type": "code",
      "metadata": {
        "id": "N03Sq0TvUuhp",
        "colab": {
          "base_uri": "https://localhost:8080/"
        },
        "outputId": "f1f5c52a-0d29-4fbf-f224-afc66ec7f362"
      },
      "source": [
        "### Bayesian optimization runs (x20): 'approx' Acquisition Function run number = 11\n",
        "\n",
        "np.random.seed(run_num_11)\n",
        "surrogate_approx_11 = dtStudentProcess(cov_func, optimize=opt, nu = df)\n",
        "\n",
        "X_train11, X_test11, y_train11, y_test11 = train_test_split(X, y, test_size=test_perc, random_state=run_num_11)\n",
        "\n",
        "def f_syn_polarity11(alpha, gamma, max_depth, subsample, min_child_weight, colsample):\n",
        "    reg = XGBRegressor(reg_alpha=alpha, gamma=gamma, max_depth=int(max_depth), subsample=subsample, min_child_weight=min_child_weight,\n",
        "          colsample_bytree=colsample, n_estimators = n_est, random_state=run_num_11, objective = 'reg:squarederror')\n",
        "    score = np.array(cross_val_score(reg, X=X_train11, y=y_train11).mean())\n",
        "    return operator * score\n",
        "\n",
        "approx_11 = GPGO_multi(surrogate_approx_11, Acquisition_grad(util), f_syn_polarity11, param, n_jobs = -1) # define BayesOpt\n",
        "approx_11.run(max_iter = max_iter, init_evals = n_init) # run\n",
        "\n",
        "### Return optimal parameters' set:\n",
        "params_approx_11 = approx_11.getResult()[0]\n",
        "params_approx_11['max_depth'] = int(params_approx_11['max_depth'])\n",
        "params_approx_11['min_child_weight'] = int(params_approx_11['min_child_weight'])\n",
        "\n",
        "### Re-train with optimal parameters, run predictons:\n",
        "dX_approx_train11 = xgb.DMatrix(X_train11, y_train11)\n",
        "dX_approx_test11 = xgb.DMatrix(X_test11, y_test11)\n",
        "model_approx_11 = xgb.train(params_approx_11, dX_approx_train11)\n",
        "pred_approx_11 = model_approx_11.predict(dX_approx_test11)\n",
        "\n",
        "rmse_approx_11 = np.sqrt(mean_squared_error(pred_approx_11, y_test11))\n",
        "rmse_approx_11"
      ],
      "execution_count": null,
      "outputs": [
        {
          "output_type": "stream",
          "name": "stdout",
          "text": [
            "Evaluation \t Proposed point \t  Current eval. \t  Best eval. \t         Max. ExactAcqFunc \t Max. ApproxAcqFunc \n",
            "init\t [ 1.80269689  0.19475241  6.          0.59705781 13.          0.47818324]\t 0.8177825188141039\t 0.7287337628426743\t    \t    \n",
            "init\t [ 4.85427098  0.12780815  5.          0.91309068 14.          0.86571558]\t 0.7419480115539112\t 0.7287337628426743\t    \t    \n",
            "init\t [ 7.2996447   1.08736072 10.          0.92857712 18.          0.66910061]\t 0.7287337628426743\t 0.7287337628426743\t    \t    \n",
            "init\t [ 0.20483613  1.16737269  7.          0.57895615 16.          0.83644782]\t 0.7335645848611818\t 0.7287337628426743\t    \t    \n",
            "init\t [ 3.44624491  3.18798797 14.          0.54197657 15.          0.63958906]\t 0.7441537376931249\t 0.7287337628426743\t    \t    \n",
            "1  \t [9.77136617 6.6548802  7.         0.51036649 9.         0.81011527]\t 0.7482694480200888\t 0.7287337628426743\t 1.8451512921630762\t 1.8451512921630762\n",
            "\u001b[1m\u001b[92m2\u001b[0m\t \u001b[1m\u001b[92m[ 0.59719728  4.15307516 11.          0.66501717  3.          0.95537014]\u001b[0m\t \u001b[1m\u001b[92m0.7070648622170269\u001b[0m\t \u001b[1m\u001b[92m0.7070648622170269\u001b[0m\t \u001b[1m\u001b[92m1.8431114830456843\u001b[0m\t \u001b[1m\u001b[92m1.8431114830456843\u001b[0m\n",
            "3  \t [ 8.79191945  9.92354379  5.          0.67714371 18.          0.57050675]\t 0.7598608339614092\t 0.7070648622170269\t 1.827645011864916\t 1.827645011864916\n",
            "4  \t [ 8.43962982  4.2216354  12.          0.61829836  3.          0.16854155]\t 1.0312511769390245\t 0.7070648622170269\t 1.8318820747213955\t 1.8318820747213955\n",
            "5  \t [2.20135958 9.62559813 6.         0.71280025 1.         0.39977427]\t 0.821741520088635\t 0.7070648622170269\t 1.9214349317425516\t 1.9214349317425516\n",
            "6  \t [ 4.3826391   8.63134178  8.          0.99312919 13.          0.76681566]\t 0.7209540253636189\t 0.7070648622170269\t 1.9315520716377015\t 1.9315520716377015\n",
            "7  \t [ 8.8168337   8.37959662 14.          0.86429866 15.          0.72516241]\t 0.7248028462146275\t 0.7070648622170269\t 1.916374165385571\t 1.916374165385571\n",
            "8  \t [6.77981326 1.558009   7.         0.85055204 5.         0.30145072]\t 0.9107534784629161\t 0.7070648622170269\t 1.9056864598430534\t 1.9056864598430534\n",
            "9  \t [ 4.65266155  1.51144578 13.          0.9981878   8.          0.76538736]\t 0.725647375042158\t 0.7070648622170269\t 1.9320397767527782\t 1.9320397767527782\n",
            "\u001b[1m\u001b[92m10\u001b[0m\t \u001b[1m\u001b[92m[ 7.61112297  9.51446313 12.          0.84027149 19.          0.95892047]\u001b[0m\t \u001b[1m\u001b[92m0.689025462517496\u001b[0m\t \u001b[1m\u001b[92m0.689025462517496\u001b[0m\t \u001b[1m\u001b[92m1.9219789608217195\u001b[0m\t \u001b[1m\u001b[92m1.9219789608217195\u001b[0m\n",
            "11 \t [ 0.11403055  8.4704762   5.          0.64787128 18.          0.27113862]\t 0.9287138963597805\t 0.689025462517496\t 1.9073638627009224\t 1.9073638627009224\n",
            "12 \t [ 8.75969772  9.81259093 13.          0.73915202  9.          0.12048735]\t 1.0220817994568854\t 0.689025462517496\t 1.9318049651096896\t 1.9318049651096896\n",
            "13 \t [1.37264123 4.42539257 5.         0.50284853 7.         0.43970984]\t 0.8266513707453879\t 0.689025462517496\t 1.97058031218291\t 1.97058031218291\n",
            "14 \t [ 0.62966465  6.1940162  12.          0.81741232 11.          0.49382371]\t 0.8182502230736013\t 0.689025462517496\t 1.97362044097194\t 1.97362044097194\n",
            "15 \t [0.61700864 1.88368662 5.         0.7080512  1.         0.20173876]\t 1.0235667739127183\t 0.689025462517496\t 1.9748762439730925\t 1.974876243834023\n",
            "16 \t [ 4.54549823  8.84141407 12.          0.50940273  3.          0.75742975]\t 0.7623000424638748\t 0.689025462517496\t 2.0042586028401512\t 2.0042586028401512\n",
            "17 \t [ 1.5425789   6.90869863 14.          0.81451949 19.          0.60916449]\t 0.7437272682178564\t 0.689025462517496\t 1.998418819752086\t 1.998418819752086\n",
            "18 \t [ 3.87044105  9.68027002 14.          0.51742481 15.          0.68870795]\t 0.7418766372412069\t 0.689025462517496\t 1.998892303706298\t 1.998892303706298\n",
            "19 \t [ 2.16727134  8.25338567 14.          0.51858242  5.          0.20747401]\t 1.0352571936435033\t 0.689025462517496\t 1.987188615308644\t 1.987188615308644\n",
            "20 \t [9.22875209 9.1986098  9.         0.90439491 3.         0.27523226]\t 0.9230186077285822\t 0.689025462517496\t 2.0319788585920837\t 2.0319788585920837\n",
            "21 \t [ 4.20382838  8.11840794 14.          0.97060995 11.          0.52636944]\t 0.7362063940289248\t 0.689025462517496\t 2.0448889237711527\t 2.0448889237711527\n",
            "22 \t [5.15068265 4.76861601 5.         0.70076898 1.         0.87159533]\t 0.7433881169429852\t 0.689025462517496\t 2.0271142249430714\t 2.0271142249430714\n",
            "23 \t [5.65101211 8.94413403 7.         0.64809449 8.         0.59228465]\t 0.7547149277921693\t 0.689025462517496\t 2.067193196702286\t 2.067193196702286\n",
            "24 \t [ 3.1808698   6.08364786 11.          0.83908038 16.          0.30036907]\t 0.9114560559082703\t 0.689025462517496\t 2.0225223716604064\t 2.0225223716604064\n",
            "25 \t [ 4.52812342  0.19443533 13.          0.65004115  2.          0.16077491]\t 1.0248025279634128\t 0.689025462517496\t 2.0063307468157876\t 2.0063307468157876\n",
            "26 \t [ 4.35725957  3.75495843 10.          0.8962831   7.          0.47601782]\t 0.8261521259015148\t 0.689025462517496\t 2.0747436278921145\t 2.0747436278921145\n",
            "27 \t [ 3.02633699  5.92948093 12.          0.75060687  4.          0.57938735]\t 0.7532872744350481\t 0.689025462517496\t 2.0395454936247375\t 2.0395454936247375\n",
            "28 \t [ 1.9144183   6.0983121   9.          0.90157057 18.          0.30859982]\t 0.9139631546370381\t 0.689025462517496\t 2.023390978796078\t 2.023390978796078\n",
            "29 \t [9.27654384 0.11345815 9.         0.76045104 1.         0.92226676]\t 0.7123414924113913\t 0.689025462517496\t 2.023704205830138\t 2.023704205830138\n",
            "30 \t [ 8.69363194  5.58726529 10.          0.7161638  14.          0.98763741]\t 0.6964329562749413\t 0.689025462517496\t 2.055054134751072\t 2.0550541347469573\n"
          ]
        },
        {
          "output_type": "execute_result",
          "data": {
            "text/plain": [
              "60073.22105180247"
            ]
          },
          "metadata": {},
          "execution_count": 31
        }
      ]
    },
    {
      "cell_type": "code",
      "metadata": {
        "id": "g_nP9lQjUztV",
        "colab": {
          "base_uri": "https://localhost:8080/"
        },
        "outputId": "7747f501-702a-4c57-8e81-83d232efb6b0"
      },
      "source": [
        "### Bayesian optimization runs (x20): 'approx' Acquisition Function run number = 12\n",
        "\n",
        "np.random.seed(run_num_12)\n",
        "surrogate_approx_12 = dtStudentProcess(cov_func, optimize=opt, nu = df)\n",
        "\n",
        "X_train12, X_test12, y_train12, y_test12 = train_test_split(X, y, test_size=test_perc, random_state=run_num_12)\n",
        "\n",
        "def f_syn_polarity12(alpha, gamma, max_depth, subsample, min_child_weight, colsample):\n",
        "    reg = XGBRegressor(reg_alpha=alpha, gamma=gamma, max_depth=int(max_depth), subsample=subsample, min_child_weight=min_child_weight,\n",
        "          colsample_bytree=colsample, n_estimators = n_est, random_state=run_num_12, objective = 'reg:squarederror')\n",
        "    score = np.array(cross_val_score(reg, X=X_train12, y=y_train12).mean())\n",
        "    return operator * score\n",
        "\n",
        "approx_12 = GPGO_multi(surrogate_approx_12, Acquisition_grad(util), f_syn_polarity12, param, n_jobs = -1) # define BayesOpt\n",
        "approx_12.run(max_iter = max_iter, init_evals = n_init) # run\n",
        "\n",
        "### Return optimal parameters' set:\n",
        "params_approx_12 = approx_12.getResult()[0]\n",
        "params_approx_12['max_depth'] = int(params_approx_12['max_depth'])\n",
        "params_approx_12['min_child_weight'] = int(params_approx_12['min_child_weight'])\n",
        "\n",
        "### Re-train with optimal parameters, run predictons:\n",
        "dX_approx_train12 = xgb.DMatrix(X_train12, y_train12)\n",
        "dX_approx_test12 = xgb.DMatrix(X_test12, y_test12)\n",
        "model_approx_12 = xgb.train(params_approx_12, dX_approx_train12)\n",
        "pred_approx_12 = model_approx_12.predict(dX_approx_test12)\n",
        "\n",
        "rmse_approx_12 = np.sqrt(mean_squared_error(pred_approx_12, y_test12))\n",
        "rmse_approx_12"
      ],
      "execution_count": null,
      "outputs": [
        {
          "output_type": "stream",
          "name": "stdout",
          "text": [
            "Evaluation \t Proposed point \t  Current eval. \t  Best eval. \t         Max. ExactAcqFunc \t Max. ApproxAcqFunc \n",
            "init\t [1.54162842 7.40049697 6.         0.54321714 4.         0.11311747]\t 0.992708970032886\t 0.7896346786115067\t    \t    \n",
            "init\t [ 9.18747008  9.00714854 14.          0.97847467 11.          0.35544552]\t 0.9050380263035862\t 0.7896346786115067\t    \t    \n",
            "init\t [ 6.06083184  9.44225136 14.          0.95626942  5.          0.56910342]\t 0.8362986807103934\t 0.7896346786115067\t    \t    \n",
            "init\t [ 5.52037633  4.85377414  7.          0.97886436 17.          0.78810441]\t 0.7896346786115067\t 0.7896346786115067\t    \t    \n",
            "init\t [ 0.20809798  1.35210178  5.          0.65494879 16.          0.36062811]\t 0.9186387829358221\t 0.7896346786115067\t    \t    \n",
            "1  \t [9.46555822 8.57190559 5.         0.50164398 5.         0.71992807]\t 0.8115376813007883\t 0.7896346786115067\t 2.183038412540183\t 2.183038412540183\n",
            "2  \t [ 3.78385301  2.21923666 12.          0.57141407  8.          0.55842631]\t 0.8600045769145973\t 0.7896346786115067\t 2.1517374671781413\t 2.1517374671781413\n",
            "3  \t [ 7.48458025  0.82585105 14.          0.62666135 18.          0.34757206]\t 0.9136369680693782\t 0.7896346786115067\t 2.145343508420203\t 2.145343508420203\n",
            "4  \t [6.38266166 3.66323517 5.         0.6972131  9.         0.47709595]\t 0.9144290525005069\t 0.7896346786115067\t 2.1571360513865705\t 2.1571360513865705\n",
            "5  \t [ 5.83217552  8.53843574 11.          0.58549752 18.          0.26781236]\t 0.9216214538529052\t 0.7896346786115067\t 2.166486423715177\t 2.166486423715177\n",
            "6  \t [ 3.52118615  0.23388076 12.          0.56204237  1.          0.44568429]\t 0.9442383814615898\t 0.7896346786115067\t 2.175759476879034\t 2.175759476879034\n",
            "\u001b[1m\u001b[92m7\u001b[0m\t \u001b[1m\u001b[92m[ 6.10107735  0.03652674 11.          0.56244485 13.          0.89741329]\u001b[0m\t \u001b[1m\u001b[92m0.7783701142125483\u001b[0m\t \u001b[1m\u001b[92m0.7783701142125483\u001b[0m\t \u001b[1m\u001b[92m2.188582023316618\u001b[0m\t \u001b[1m\u001b[92m2.188582023316618\u001b[0m\n",
            "8  \t [ 9.11635581  9.60013795  5.          0.57034236 14.          0.41758327]\t 0.9239433760752476\t 0.7783701142125483\t 2.1664875075598125\t 2.1664875075598125\n",
            "9  \t [ 2.73067092  9.86029136  9.          0.98915314 11.          0.78920814]\t 0.7815140040967317\t 0.7783701142125483\t 2.174084798383505\t 2.174084798383505\n",
            "10 \t [ 0.14475494  9.8292754  12.          0.60331385  2.          0.9622215 ]\t 0.7880902159034013\t 0.7783701142125483\t 2.1565660746175626\t 2.1565660746175626\n",
            "11 \t [ 1.81539004  3.97973122 11.          0.55780808 14.          0.86016605]\t 0.8021824021652308\t 0.7783701142125483\t 2.1422361416901903\t 2.1422361416901903\n",
            "12 \t [ 0.10274077  3.67012236  6.          0.81389509 11.          0.83682267]\t 0.786862562407444\t 0.7783701142125483\t 2.1316035421392967\t 2.1316035421392967\n",
            "13 \t [ 8.71378379  5.91732489 10.          0.67395488  5.          0.37191233]\t 0.9140896924023043\t 0.7783701142125483\t 2.1201149034465727\t 2.1201149034465727\n",
            "14 \t [8.72042964 1.18098427 6.         0.87093363 1.         0.1200865 ]\t 0.978708815138663\t 0.7783701142125483\t 2.126738286402547\t 2.126738286402547\n",
            "15 \t [ 1.10490837  9.58829464  6.          0.57860445 19.          0.21544386]\t 0.9970201710934681\t 0.7783701142125483\t 2.1419466264786267\t 2.1419466264786267\n",
            "16 \t [ 9.50979811  3.16002382 14.          0.62948949 10.          0.39138316]\t 0.9147194483561627\t 0.7783701142125483\t 2.1578471376627526\t 2.1578471303953575\n",
            "17 \t [ 2.38620183  1.03950496 13.          0.6257051   6.          0.34211692]\t 0.9194161634890323\t 0.7783701142125483\t 2.1606949331886893\t 2.1606949331886893\n",
            "18 \t [3.82043232 0.90149463 5.         0.93713205 2.         0.73959641]\t 0.7986205174407796\t 0.7783701142125483\t 2.2101305287052857\t 2.2101305287052457\n",
            "\u001b[1m\u001b[92m19\u001b[0m\t \u001b[1m\u001b[92m[ 4.82116392  7.94441114 13.          0.79896359 10.          0.94409065]\u001b[0m\t \u001b[1m\u001b[92m0.7656138946809342\u001b[0m\t \u001b[1m\u001b[92m0.7656138946809342\u001b[0m\t \u001b[1m\u001b[92m2.163539132441845\u001b[0m\t \u001b[1m\u001b[92m2.163539132441845\u001b[0m\n",
            "20 \t [4.88722703 1.05307859 6.         0.84108367 7.         0.32451309]\t 0.9150062445310105\t 0.7656138946809342\t 2.1526547907592803\t 2.1526547907592803\n",
            "21 \t [ 4.73215091  0.85301789  5.          0.940584   18.          0.80546064]\t 0.7987217033287252\t 0.7656138946809342\t 2.132001697392119\t 2.132001697392119\n",
            "22 \t [ 4.22119996  7.99655483  5.          0.78307763 14.          0.79061697]\t 0.7946617241328867\t 0.7656138946809342\t 2.1739213068445733\t 2.1739213068445733\n",
            "23 \t [7.12967992 8.154614   8.         0.5156473  9.         0.21177212]\t 0.9924239421587664\t 0.7656138946809342\t 2.149617952649901\t 2.149617933063455\n",
            "24 \t [ 1.47973338  1.45058818 11.          0.74181509 19.          0.60410465]\t 0.8329180373498172\t 0.7656138946809342\t 2.1580514611919708\t 2.1580514611919708\n",
            "25 \t [ 1.04159226  4.03780394  5.          0.9134339  15.          0.13519165]\t 0.9785605674881227\t 0.7656138946809342\t 2.164615116869969\t 2.164615116869969\n",
            "26 \t [ 4.24823418  9.49681173 13.          0.6150292   7.          0.81414675]\t 0.7903152027969078\t 0.7656138946809342\t 2.1972826548842046\t 2.1972826548842046\n",
            "27 \t [10.          1.02572413  7.57946858  1.          6.14779035  1.        ]\t 0.7749696853952053\t 0.7656138946809342\t 2.1826643379202517\t 2.182664192657484\n",
            "28 \t [ 3.68821786  5.6786616   8.          0.65862302 12.          0.189801  ]\t 0.9845598727954463\t 0.7656138946809342\t 2.1582564649446385\t 2.1582564649446385\n",
            "29 \t [4.85059817 0.59059416 8.         0.66375786 6.         0.57600536]\t 0.8456632041648999\t 0.7656138946809342\t 2.173984668858854\t 2.173984668858854\n",
            "30 \t [ 0.42138623  7.7269096  13.          0.72605204 19.          0.17338535]\t 0.979555746560927\t 0.7656138946809342\t 2.1520304415474674\t 2.1520304415474674\n"
          ]
        },
        {
          "output_type": "execute_result",
          "data": {
            "text/plain": [
              "60877.04939096347"
            ]
          },
          "metadata": {},
          "execution_count": 32
        }
      ]
    },
    {
      "cell_type": "code",
      "metadata": {
        "id": "yDI2Bi9vU05U",
        "colab": {
          "base_uri": "https://localhost:8080/"
        },
        "outputId": "c173fb25-c976-4a74-8555-58c5fe7e74cb"
      },
      "source": [
        "### Bayesian optimization runs (x20): 'approx' Acquisition Function run number = 13\n",
        "\n",
        "np.random.seed(run_num_13)\n",
        "surrogate_approx_13 = dtStudentProcess(cov_func, optimize=opt, nu = df)\n",
        "\n",
        "X_train13, X_test13, y_train13, y_test13 = train_test_split(X, y, test_size=test_perc, random_state=run_num_13)\n",
        "\n",
        "def f_syn_polarity13(alpha, gamma, max_depth, subsample, min_child_weight, colsample):\n",
        "    reg = XGBRegressor(reg_alpha=alpha, gamma=gamma, max_depth=int(max_depth), subsample=subsample, min_child_weight=min_child_weight,\n",
        "          colsample_bytree=colsample, n_estimators = n_est, random_state=run_num_13, objective = 'reg:squarederror')\n",
        "    score = np.array(cross_val_score(reg, X=X_train13, y=y_train13).mean())\n",
        "    return operator * score\n",
        "\n",
        "approx_13 = GPGO_multi(surrogate_approx_13, Acquisition_grad(util), f_syn_polarity13, param, n_jobs = -1) # define BayesOpt\n",
        "approx_13.run(max_iter = max_iter, init_evals = n_init) # run\n",
        "\n",
        "### Return optimal parameters' set:\n",
        "params_approx_13 = approx_13.getResult()[0]\n",
        "params_approx_13['max_depth'] = int(params_approx_13['max_depth'])\n",
        "params_approx_13['min_child_weight'] = int(params_approx_13['min_child_weight'])\n",
        "\n",
        "### Re-train with optimal parameters, run predictons:\n",
        "dX_approx_train13 = xgb.DMatrix(X_train13, y_train13)\n",
        "dX_approx_test13 = xgb.DMatrix(X_test13, y_test13)\n",
        "model_approx_13 = xgb.train(params_approx_13, dX_approx_train13)\n",
        "pred_approx_13 = model_approx_13.predict(dX_approx_test13)\n",
        "\n",
        "rmse_approx_13 = np.sqrt(mean_squared_error(pred_approx_13, y_test13))\n",
        "rmse_approx_13"
      ],
      "execution_count": null,
      "outputs": [
        {
          "output_type": "stream",
          "name": "stdout",
          "text": [
            "Evaluation \t Proposed point \t  Current eval. \t  Best eval. \t         Max. ExactAcqFunc \t Max. ApproxAcqFunc \n",
            "init\t [ 7.77702411  2.3754122  11.          0.94649135 13.          0.7827256 ]\t 0.7315012035187541\t 0.7315012035187541\t    \t    \n",
            "init\t [ 7.51661514  6.07343344 11.          0.69402149 11.          0.13153287]\t 1.1319770010327717\t 0.7315012035187541\t    \t    \n",
            "init\t [ 2.98449471  0.58512492 10.          0.73579614 12.          0.33065195]\t 0.9318565354152348\t 0.7315012035187541\t    \t    \n",
            "init\t [ 3.47581215  0.0941277  11.          0.86143432  8.          0.58454932]\t 0.7799608780638936\t 0.7315012035187541\t    \t    \n",
            "init\t [ 4.70137857  6.24432527 10.          0.8149145  18.          0.10784416]\t 1.1305934464937346\t 0.7315012035187541\t    \t    \n",
            "1  \t [1.51786663 9.25994479 9.         0.99792981 2.         0.61199673]\t 0.7922048089873084\t 0.7315012035187541\t 2.3420498615360463\t 2.3420498615360463\n",
            "2  \t [6.93463528 1.25795731 8.         0.92695971 3.         0.9534311 ]\t 0.7364009364353266\t 0.7315012035187541\t 2.280040658232072\t 2.280040658195758\n",
            "3  \t [ 1.27154032  7.56256657  5.          0.85984573 12.          0.61608824]\t 0.7884892526498699\t 0.7315012035187541\t 2.2182757602096492\t 2.2182757602096492\n",
            "4  \t [ 4.39024044  6.42906019 12.          0.96666124  5.          0.79403332]\t 0.7332036085962248\t 0.7315012035187541\t 2.184546817968538\t 2.184546817968538\n",
            "5  \t [5.34651487 5.45650069 6.         0.93529094 7.         0.24078895]\t 1.1341345349522627\t 0.7315012035187541\t 2.144852489970785\t 2.144852489970785\n",
            "6  \t [ 1.86840748  0.75206083 14.          0.81141351 17.          0.47108772]\t 0.8233179447887817\t 0.7315012035187541\t 2.2163218220885694\t 2.216321822083804\n",
            "7  \t [ 6.50677714  2.64641451 14.          0.50110879 19.          0.46175841]\t 0.8347085780850761\t 0.7315012035187541\t 2.19892829395767\t 2.19892829395767\n",
            "8  \t [ 9.44002225  4.67426365 14.          0.69806573  1.          0.72511221]\t 0.7758064515807063\t 0.7315012035187541\t 2.1864861352890927\t 2.1864861352890927\n",
            "9  \t [ 6.80309585  9.43423094  7.          0.8851539  14.          0.77731456]\t 0.7410022072170401\t 0.7315012035187541\t 2.165819578536385\t 2.165819578536385\n",
            "10 \t [ 6.60596124  8.35313787  6.          0.72167152 19.          0.94552853]\t 0.7474061753992649\t 0.7315012035187541\t 2.1426684455585034\t 2.1426684455585034\n",
            "11 \t [ 4.33230901  0.85672678  6.          0.63795453 19.          0.64597264]\t 0.7577952901048656\t 0.7315012035187541\t 2.1232976854185477\t 2.1232976854185477\n",
            "12 \t [ 8.67074354  1.64396694 14.          0.83039094  7.          0.18845957]\t 1.133362308446904\t 0.7315012035187541\t 2.1075972880742304\t 2.1075972880742304\n",
            "13 \t [ 8.23661056  1.74251738  5.          0.73573442 11.          0.11684268]\t 1.122132457650395\t 0.7315012035187541\t 2.152777088284229\t 2.15277708822405\n",
            "14 \t [ 6.64335896  4.21317694 13.          0.67704359  4.          0.77970128]\t 0.7492274689494482\t 0.7315012035187541\t 2.1900322401012136\t 2.1900322401012136\n",
            "15 \t [0.52318014 4.47325525 6.         0.56368365 1.         0.82956529]\t 0.7595670388845158\t 0.7315012035187541\t 2.172849238078546\t 2.172849238078546\n",
            "16 \t [ 5.15317103  7.91292649 13.          0.71857309 14.          0.19964443]\t 1.1262884951692969\t 0.7315012035187541\t 2.158479326549337\t 2.158479326549337\n",
            "17 \t [ 6.20565504  8.79840282 14.          0.71344255  6.          0.21980806]\t 1.1355955958989596\t 0.7315012035187541\t 2.1900255678013716\t 2.1900255678013716\n",
            "18 \t [ 0.94229296  2.02450761 13.          0.65000924  1.          0.22250131]\t 1.1406696400287324\t 0.7315012035187541\t 2.216021342048802\t 2.216021342048802\n",
            "19 \t [ 0.786033    9.84105109  9.          0.91945518 19.          0.21791409]\t 1.1349556164442796\t 0.7315012035187541\t 2.2470611190068976\t 2.2470611190068976\n",
            "20 \t [ 2.43733809  3.83718859 13.          0.87000869 16.          0.41452306]\t 0.8238705938885991\t 0.7315012035187541\t 2.2710749757930113\t 2.2710749757930113\n",
            "21 \t [4.36648808 8.42254188 6.         0.54886836 3.         0.62627434]\t 0.7616177222343332\t 0.7315012035187541\t 2.2723306509960386\t 2.2723306509960386\n",
            "22 \t [4.74151988e-03 7.73535708e+00 9.00000000e+00 8.10214170e-01\n",
            " 7.00000000e+00 8.51111303e-01]\t 0.7428173856209361\t 0.7315012035187541\t 2.285906501162259\t 2.2859065011613033\n",
            "23 \t [3.55859061 5.61875163 8.         0.5882063  1.         0.57036163]\t 0.8119275659738049\t 0.7315012035187541\t 2.276085726900191\t 2.276085726900191\n",
            "24 \t [1.5938649  0.20757679 5.         0.94973168 4.         0.41254588]\t 0.8159088734922424\t 0.7315012035187541\t 2.254058886270535\t 2.2540588862704896\n",
            "25 \t [9.92248648 8.73301847 7.         0.58578431 6.         0.64802898]\t 0.7597086493735234\t 0.7315012035187541\t 2.2247659873715637\t 2.2247659873715637\n",
            "26 \t [ 0.16863022  2.67389719  9.          0.62610438 15.          0.96408501]\t 0.7463927243485514\t 0.7315012035187541\t 2.218993941419968\t 2.218993941419968\n",
            "27 \t [ 4.30271104  7.67529814 14.          0.73770848  1.          0.87787505]\t 0.756228394612864\t 0.7315012035187541\t 2.204440461021492\t 2.2044404563245976\n",
            "28 \t [ 3.21523099  9.01411529  5.          0.71759952 10.          0.55614635]\t 0.7956673392227565\t 0.7315012035187541\t 2.178169693104502\t 2.178169693104502\n",
            "29 \t [ 5.91501296  1.79061927 12.          0.95089632 11.          0.34299477]\t 0.9305364532791108\t 0.7315012035187541\t 2.1916633544421242\t 2.1916633544421242\n",
            "30 \t [ 2.32893999  0.70568143 10.          0.95982734 18.          0.36824695]\t 0.932353773777384\t 0.7315012035187541\t 2.1797970190602136\t 2.1797970190602136\n"
          ]
        },
        {
          "output_type": "execute_result",
          "data": {
            "text/plain": [
              "59500.46682850479"
            ]
          },
          "metadata": {},
          "execution_count": 33
        }
      ]
    },
    {
      "cell_type": "code",
      "metadata": {
        "id": "Z2F_Q194U3uu",
        "colab": {
          "base_uri": "https://localhost:8080/"
        },
        "outputId": "26e4f20a-1fd2-4d2e-e1b3-7df34ac06145"
      },
      "source": [
        "### Bayesian optimization runs (x20): 'approx' Acquisition Function run number = 14\n",
        "\n",
        "np.random.seed(run_num_14)\n",
        "surrogate_approx_14 = dtStudentProcess(cov_func, optimize=opt, nu = df)\n",
        "\n",
        "X_train14, X_test14, y_train14, y_test14 = train_test_split(X, y, test_size=test_perc, random_state=run_num_14)\n",
        "\n",
        "def f_syn_polarity14(alpha, gamma, max_depth, subsample, min_child_weight, colsample):\n",
        "    reg = XGBRegressor(reg_alpha=alpha, gamma=gamma, max_depth=int(max_depth), subsample=subsample, min_child_weight=min_child_weight,\n",
        "          colsample_bytree=colsample, n_estimators = n_est, random_state=run_num_14, objective = 'reg:squarederror')\n",
        "    score = np.array(cross_val_score(reg, X=X_train14, y=y_train14).mean())\n",
        "    return operator * score\n",
        "\n",
        "approx_14 = GPGO_multi(surrogate_approx_14, Acquisition_grad(util), f_syn_polarity14, param, n_jobs = -1) # define BayesOpt\n",
        "approx_14.run(max_iter = max_iter, init_evals = n_init) # run\n",
        "\n",
        "### Return optimal parameters' set:\n",
        "params_approx_14 = approx_14.getResult()[0]\n",
        "params_approx_14['max_depth'] = int(params_approx_14['max_depth'])\n",
        "params_approx_14['min_child_weight'] = int(params_approx_14['min_child_weight'])\n",
        "\n",
        "### Re-train with optimal parameters, run predictons:\n",
        "dX_approx_train14 = xgb.DMatrix(X_train14, y_train14)\n",
        "dX_approx_test14 = xgb.DMatrix(X_test14, y_test14)\n",
        "model_approx_14 = xgb.train(params_approx_14, dX_approx_train14)\n",
        "pred_approx_14 = model_approx_14.predict(dX_approx_test14)\n",
        "\n",
        "rmse_approx_14 = np.sqrt(mean_squared_error(pred_approx_14, y_test14))\n",
        "rmse_approx_14"
      ],
      "execution_count": null,
      "outputs": [
        {
          "output_type": "stream",
          "name": "stdout",
          "text": [
            "Evaluation \t Proposed point \t  Current eval. \t  Best eval. \t         Max. ExactAcqFunc \t Max. ApproxAcqFunc \n",
            "init\t [ 5.13943344  7.73165052 12.          0.6831412  11.          0.37876233]\t 0.886516450243748\t 0.7696523735238344\t    \t    \n",
            "init\t [ 9.57603739  5.13116712 14.          0.76959997 12.          0.71328228]\t 0.8159404842786963\t 0.7696523735238344\t    \t    \n",
            "init\t [5.34950319 2.47493539 5.         0.50293689 6.         0.29706373]\t 0.9077084280320982\t 0.7696523735238344\t    \t    \n",
            "init\t [ 2.94506579  3.45329697  8.          0.87620946 14.          0.9783044 ]\t 0.7696523735238344\t 0.7696523735238344\t    \t    \n",
            "init\t [ 1.11811929  1.73004086  5.          0.73745288 12.          0.20586008]\t 0.9767143382937844\t 0.7696523735238344\t    \t    \n",
            "1  \t [ 6.50637223  2.67617722 14.          0.53562507  1.          0.16862152]\t 0.9945462140035275\t 0.7696523735238344\t 2.1415516503121452\t 2.1415516503121452\n",
            "2  \t [ 9.16780803  5.31613214 10.          0.57182868  6.          0.98158575]\t 0.778069410219568\t 0.7696523735238344\t 2.193413459035585\t 2.193413459035585\n",
            "3  \t [0.07739536 3.94062842 5.         0.7395899  3.         0.9764837 ]\t 0.7896752580111073\t 0.7696523735238344\t 2.1546876892113347\t 2.1546876892113347\n",
            "4  \t [6.9195004  0.54496332 8.         0.81208598 3.         0.15286338]\t 0.9788770650266176\t 0.7696523735238344\t 2.128387057660244\t 2.128387057660244\n",
            "5  \t [ 9.22243919  0.59642165  6.          0.72537748 19.          0.46639325]\t 0.8953625137558561\t 0.7696523735238344\t 2.1599742911516766\t 2.1599742911516766\n",
            "6  \t [ 0.49138495  8.52939618 10.          0.75897738  1.          0.21612775]\t 0.9798753116153296\t 0.7696523735238344\t 2.1633190966362843\t 2.1633190966362843\n",
            "7  \t [ 5.79577795  1.8570688  14.          0.83128935 19.          0.71549729]\t 0.8175662600374501\t 0.7696523735238344\t 2.185914187944789\t 2.185914187944789\n",
            "8  \t [ 7.13077184  9.67534636 12.          0.53994085 17.          0.99732292]\t 0.7788814985676316\t 0.7696523735238344\t 2.1712306809029718\t 2.1712306809029718\n",
            "9  \t [ 4.99777324  7.1255563   5.          0.87428718 19.          0.63814647]\t 0.8365647355641779\t 0.7696523735238344\t 2.1521201986552527\t 2.1521201986552527\n",
            "10 \t [ 1.6361515   9.65601963  6.          0.78645605 10.          0.24059194]\t 0.9748722929296127\t 0.7696523735238344\t 2.144935730920004\t 2.144935730920004\n",
            "11 \t [ 9.88809977  3.72297385  6.          0.68686416 11.          0.16446157]\t 0.9753715934338578\t 0.7696523735238344\t 2.1619651863200335\t 2.1619651863200335\n",
            "12 \t [ 1.87613733  0.3867672  10.          0.63542614  2.          0.41568093]\t 0.9060376794109418\t 0.7696523735238344\t 2.1769001011429148\t 2.1769001011429148\n",
            "13 \t [ 9.52967585  8.1936199  11.          0.55796294 10.          0.99729185]\t 0.7763977773208957\t 0.7696523735238344\t 2.179391099784848\t 2.179391099784848\n",
            "14 \t [ 0.14006525  1.03750573 13.          0.72168802 14.          0.72400369]\t 0.815597828474959\t 0.7696523735238344\t 2.1649340805629165\t 2.1649340805629165\n",
            "15 \t [ 0.32189186  8.92148001 13.          0.56341011 16.          0.8101351 ]\t 0.7726589289909465\t 0.7696523735238344\t 2.1562871510355324\t 2.1562871510355324\n",
            "16 \t [ 5.21920054  9.35580917 14.          0.81835368  4.          0.54800317]\t 0.8502094404923272\t 0.7696523735238344\t 2.144489979628272\t 2.144489979628272\n",
            "17 \t [ 1.36823932  1.07854751  6.          0.59486343 17.          0.76880686]\t 0.778866435123053\t 0.7696523735238344\t 2.142845634480391\t 2.142845634480391\n",
            "18 \t [1.97879228 8.99345507 8.         0.55562265 8.         0.49118331]\t 0.8951491505335811\t 0.7696523735238344\t 2.1307861720095023\t 2.1307861720095023\n",
            "19 \t [ 3.46936711  8.05933995 13.          0.63796232  8.          0.58226276]\t 0.8566066993171872\t 0.7696523735238344\t 2.1191482676540816\t 2.1191482676540816\n",
            "20 \t [ 1.65783574  0.06450124 14.          0.84574925  8.          0.63962887]\t 0.8200584449505464\t 0.7696523735238344\t 2.1476174674407464\t 2.1476174674407464\n",
            "21 \t [ 9.2402586   1.80739856 11.          0.74310208 17.          0.72601642]\t 0.8237793294307927\t 0.7696523735238344\t 2.1435790426434242\t 2.1435790426434242\n",
            "22 \t [ 9.4129528   8.00863686 11.          0.66407963  1.          0.34226961]\t 0.9027209359048456\t 0.7696523735238344\t 2.1448934163605493\t 2.1448934163605493\n",
            "23 \t [ 7.23492203  5.17054691  8.          0.53461021 18.          0.11544004]\t 0.9821896458721675\t 0.7696523735238344\t 2.1537780914778906\t 2.1537780914778906\n",
            "24 \t [1.12842654 4.49436112 8.         0.68703394 7.         0.83701659]\t 0.7800900414685491\t 0.7696523735238344\t 2.1414472422269095\t 2.1414472422269095\n",
            "25 \t [ 5.5386478   9.30162083  6.          0.50498383 14.          0.37570322]\t 0.9077994665221223\t 0.7696523735238344\t 2.1690021713300944\t 2.1690021713300944\n",
            "26 \t [ 5.73005003  1.18628884 13.          0.88016467 12.          0.48547975]\t 0.8868749954853754\t 0.7696523735238344\t 2.1451155259363937\t 2.1451155259363937\n",
            "27 \t [8.60914739 9.54673859 7.         0.78963544 7.         0.48348756]\t 0.8811833469490125\t 0.7696523735238344\t 2.1405844346796377\t 2.1405844346796377\n",
            "\u001b[1m\u001b[92m28\u001b[0m\t \u001b[1m\u001b[92m[ 8.16440635  3.57724702 11.          0.83367572  9.          0.82276147]\u001b[0m\t \u001b[1m\u001b[92m0.7636353158344195\u001b[0m\t \u001b[1m\u001b[92m0.7636353158344195\u001b[0m\t \u001b[1m\u001b[92m2.144909819059036\u001b[0m\t \u001b[1m\u001b[92m2.144909819059036\u001b[0m\n",
            "29 \t [ 9.79781036  7.70828329  5.          0.72056878 19.          0.87728226]\t 0.7800481665326269\t 0.7636353158344195\t 2.126207375250591\t 2.126207375250591\n",
            "30 \t [ 4.33442518  0.21201691 11.          0.77606546  3.          0.66988451]\t 0.8347983363393409\t 0.7636353158344195\t 2.1638156927957763\t 2.1638156927957763\n"
          ]
        },
        {
          "output_type": "execute_result",
          "data": {
            "text/plain": [
              "59899.945988489686"
            ]
          },
          "metadata": {},
          "execution_count": 34
        }
      ]
    },
    {
      "cell_type": "code",
      "metadata": {
        "id": "Po5wImJaU6VC",
        "colab": {
          "base_uri": "https://localhost:8080/"
        },
        "outputId": "7e4902ac-7208-4fb6-a264-0e1eb2158f04"
      },
      "source": [
        "### Bayesian optimization runs (x20): 'approx' Acquisition Function run number = 15\n",
        "\n",
        "np.random.seed(run_num_15)\n",
        "surrogate_approx_15 = dtStudentProcess(cov_func, optimize=opt, nu = df)\n",
        "\n",
        "X_train15, X_test15, y_train15, y_test15 = train_test_split(X, y, test_size=test_perc, random_state=run_num_15)\n",
        "\n",
        "def f_syn_polarity15(alpha, gamma, max_depth, subsample, min_child_weight, colsample):\n",
        "    reg = XGBRegressor(reg_alpha=alpha, gamma=gamma, max_depth=int(max_depth), subsample=subsample, min_child_weight=min_child_weight,\n",
        "          colsample_bytree=colsample, n_estimators = n_est, random_state=run_num_15, objective = 'reg:squarederror')\n",
        "    score = np.array(cross_val_score(reg, X=X_train15, y=y_train15).mean())\n",
        "    return operator * score\n",
        "\n",
        "approx_15 = GPGO_multi(surrogate_approx_15, Acquisition_grad(util), f_syn_polarity15, param, n_jobs = -1) # define BayesOpt\n",
        "approx_15.run(max_iter = max_iter, init_evals = n_init) # run\n",
        "\n",
        "### Return optimal parameters' set:\n",
        "params_approx_15 = approx_15.getResult()[0]\n",
        "params_approx_15['max_depth'] = int(params_approx_15['max_depth'])\n",
        "params_approx_15['min_child_weight'] = int(params_approx_15['min_child_weight'])\n",
        "\n",
        "### Re-train with optimal parameters, run predictons:\n",
        "dX_approx_train15 = xgb.DMatrix(X_train15, y_train15)\n",
        "dX_approx_test15 = xgb.DMatrix(X_test15, y_test15)\n",
        "model_approx_15 = xgb.train(params_approx_15, dX_approx_train15)\n",
        "pred_approx_15 = model_approx_15.predict(dX_approx_test15)\n",
        "\n",
        "rmse_approx_15 = np.sqrt(mean_squared_error(pred_approx_15, y_test15))\n",
        "rmse_approx_15"
      ],
      "execution_count": null,
      "outputs": [
        {
          "output_type": "stream",
          "name": "stdout",
          "text": [
            "Evaluation \t Proposed point \t  Current eval. \t  Best eval. \t         Max. ExactAcqFunc \t Max. ApproxAcqFunc \n",
            "init\t [ 8.48817697  1.78895925 12.          0.55549316  8.          0.93397854]\t 0.7846478010899064\t 0.7846478010899064\t    \t    \n",
            "init\t [ 0.24953032  8.22298097 12.          0.62494951 11.          0.12924598]\t 1.0448868808294456\t 0.7846478010899064\t    \t    \n",
            "init\t [ 5.02017228  5.50882771 11.          0.85295832 19.          0.13548008]\t 1.0327067294213346\t 0.7846478010899064\t    \t    \n",
            "init\t [2.0023081  9.98543403 7.         0.6295772  2.         0.526127  ]\t 0.8536879526704689\t 0.7846478010899064\t    \t    \n",
            "init\t [ 5.09715306  9.45038417 11.          0.7388277  16.          0.22739973]\t 1.0323325469581077\t 0.7846478010899064\t    \t    \n",
            "1  \t [ 0.29158961  4.9949242  12.          0.89124583  3.          0.67554049]\t 0.810550884613735\t 0.7846478010899064\t 2.3413938717128535\t 2.3413938717128535\n",
            "2  \t [2.60517447 0.82584036 7.         0.6107555  4.         0.25427784]\t 0.9535088265263543\t 0.7846478010899064\t 2.2859199531843575\t 2.2859199531843575\n",
            "3  \t [ 1.91126037  0.99517267  5.          0.54111286 13.          0.82351196]\t 0.8272848096167836\t 0.7846478010899064\t 2.293084490202854\t 2.293084490202854\n",
            "\u001b[1m\u001b[92m4\u001b[0m\t \u001b[1m\u001b[92m[ 9.65016643  9.36315476  6.          0.59817648 12.          0.93115055]\u001b[0m\t \u001b[1m\u001b[92m0.7808363478466259\u001b[0m\t \u001b[1m\u001b[92m0.7808363478466259\u001b[0m\t \u001b[1m\u001b[92m2.2614719536698633\u001b[0m\t \u001b[1m\u001b[92m2.2614719536698633\u001b[0m\n",
            "5  \t [ 7.92634325  7.5869497  10.          0.81214373  5.          0.71583728]\t 0.8214564758537112\t 0.7808363478466259\t 2.225415776344724\t 2.225415776344724\n",
            "6  \t [ 7.93959095  1.14458347 12.          0.83279927 13.          0.31926382]\t 0.9316923990976885\t 0.7808363478466259\t 2.205017890199413\t 2.205017890199413\n",
            "7  \t [ 1.16848639  8.05538533  5.          0.78038294 17.          0.39890654]\t 0.9239694196020342\t 0.7808363478466259\t 2.2121427047644375\t 2.212142704764417\n",
            "8  \t [ 2.92030295  6.55213539  7.          0.85743112 11.          0.10721562]\t 1.0321654101154336\t 0.7808363478466259\t 2.216447466076272\t 2.216447466076272\n",
            "9  \t [8.88449541 3.44367948 6.         0.58829924 7.         0.7864797 ]\t 0.8467944167491783\t 0.7808363478466259\t 2.241961178292915\t 2.241961178292915\n",
            "10 \t [ 7.63220266  0.71776488 13.          0.94235703 19.          0.50312607]\t 0.8163942466098536\t 0.7808363478466259\t 2.230407457845647\t 2.230407457845647\n",
            "11 \t [7.86329715 0.45193827 6.         0.68312899 1.         0.69810196]\t 0.8331518961036075\t 0.7808363478466259\t 2.2157830097549236\t 2.2157830097549236\n",
            "12 \t [1.37672687 0.04946237 5.         0.79719419 1.         0.81843222]\t 0.8291023984963773\t 0.7808363478466259\t 2.2052534034562923\t 2.2052534034562923\n",
            "13 \t [ 0.90706815  0.79490515  7.          0.51831376 19.          0.91250419]\t 0.7817258295570644\t 0.7808363478466259\t 2.195363945493661\t 2.195363945472403\n",
            "14 \t [ 7.74771021  6.65318771  6.          0.83647538 17.          0.81072392]\t 0.8146793231457089\t 0.7808363478466259\t 2.180823741021329\t 2.180823741021329\n",
            "15 \t [ 0.95566099  3.27803887  7.          0.79832937 17.          0.8547564 ]\t 0.8129385262996042\t 0.7808363478466259\t 2.171207943140186\t 2.171207943140186\n",
            "16 \t [ 1.01000548  1.96777104 12.          0.51504561  8.          0.68970296]\t 0.8363440079633978\t 0.7808363478466259\t 2.1623010990504725\t 2.1623010990504725\n",
            "17 \t [4.50435964 1.42883317 8.         0.76583339 3.         0.4306355 ]\t 0.9350949568458088\t 0.7808363478466259\t 2.1594928247954437\t 2.1594928247954437\n",
            "18 \t [ 3.30019767  4.93644704 14.          0.76077125 17.          0.73607537]\t 0.8184266869335748\t 0.7808363478466259\t 2.165959947840635\t 2.165959947840635\n",
            "19 \t [ 4.15043625  5.08819347 11.          0.50457103  9.          0.36451755]\t 0.9551647746080834\t 0.7808363478466259\t 2.1562412254091305\t 2.1562412254091305\n",
            "20 \t [ 5.31037667  6.81676807  5.          0.53020463 18.          0.21260061]\t 1.0437596156191435\t 0.7808363478466259\t 2.1704190180544174\t 2.1704190180544174\n",
            "21 \t [8.81149616 6.28323965 6.         0.50689458 2.         0.19421846]\t 1.0506048051001848\t 0.7808363478466259\t 2.2116732913868797\t 2.211673255131652\n",
            "22 \t [ 9.31305405  2.68340802  7.          0.59348541 12.          0.97471219]\t 0.7821514519763622\t 0.7808363478466259\t 2.196683570290612\t 2.196683352837645\n",
            "23 \t [ 6.04262604  3.49698263 14.          0.62988823  3.          0.21136394]\t 1.0525057130171327\t 0.7808363478466259\t 2.1953297654721875\t 2.1953297654721875\n",
            "24 \t [ 2.81158295  0.14163964 12.          0.70854558 13.          0.79112734]\t 0.8291584327833194\t 0.7808363478466259\t 2.2143242798519607\t 2.214324278752322\n",
            "25 \t [6.6803176  5.16849036 5.         0.60605786 3.         0.85637409]\t 0.8471085133591287\t 0.7808363478466259\t 2.241426351034022\t 2.241426351034022\n",
            "26 \t [ 6.59000923  9.78665977 14.          0.63113594  1.          0.38899025]\t 0.9727332413478633\t 0.7808363478466259\t 2.224808074077141\t 2.224808074077141\n",
            "\u001b[1m\u001b[92m27\u001b[0m\t \u001b[1m\u001b[92m[ 7.09078553  0.20539715  7.          0.8316483  19.          0.9376529 ]\u001b[0m\t \u001b[1m\u001b[92m0.7579786747536188\u001b[0m\t \u001b[1m\u001b[92m0.7579786747536188\u001b[0m\t \u001b[1m\u001b[92m2.217068337010417\u001b[0m\t \u001b[1m\u001b[92m2.217068337010417\u001b[0m\n",
            "28 \t [ 0.17423277  9.28464895 11.          0.86455659  1.          0.87456687]\t 0.8297316707491886\t 0.7579786747536188\t 2.1904925556713932\t 2.1904924919010713\n",
            "29 \t [ 5.67686965  7.12623397 10.          0.88124763  1.          0.44323716]\t 0.94769082817622\t 0.7579786747536188\t 2.1814819805486043\t 2.1814819805486043\n",
            "30 \t [ 9.40435768  7.598465   10.          0.97457018 15.          0.31309738]\t 0.9314234944354094\t 0.7579786747536188\t 2.1979350970035822\t 2.1979350970035774\n"
          ]
        },
        {
          "output_type": "execute_result",
          "data": {
            "text/plain": [
              "62175.74619527894"
            ]
          },
          "metadata": {},
          "execution_count": 35
        }
      ]
    },
    {
      "cell_type": "code",
      "metadata": {
        "id": "9HrAQN-pU9Qo",
        "colab": {
          "base_uri": "https://localhost:8080/"
        },
        "outputId": "55c6f977-4a20-4899-8016-dc47ac3b2ba7"
      },
      "source": [
        "### Bayesian optimization runs (x20): 'approx' Acquisition Function run number = 16\n",
        "\n",
        "np.random.seed(run_num_16)\n",
        "surrogate_approx_16 = dtStudentProcess(cov_func, optimize=opt, nu = df)\n",
        "\n",
        "X_train16, X_test16, y_train16, y_test16 = train_test_split(X, y, test_size=test_perc, random_state=run_num_16)\n",
        "\n",
        "def f_syn_polarity16(alpha, gamma, max_depth, subsample, min_child_weight, colsample):\n",
        "    reg = XGBRegressor(reg_alpha=alpha, gamma=gamma, max_depth=int(max_depth), subsample=subsample, min_child_weight=min_child_weight,\n",
        "          colsample_bytree=colsample, n_estimators = n_est, random_state=run_num_16, objective = 'reg:squarederror')\n",
        "    score = np.array(cross_val_score(reg, X=X_train16, y=y_train16).mean())\n",
        "    return operator * score\n",
        "\n",
        "approx_16 = GPGO_multi(surrogate_approx_16, Acquisition_grad(util), f_syn_polarity16, param, n_jobs = -1) # define BayesOpt\n",
        "approx_16.run(max_iter = max_iter, init_evals = n_init) # run\n",
        "\n",
        "### Return optimal parameters' set:\n",
        "params_approx_16 = approx_16.getResult()[0]\n",
        "params_approx_16['max_depth'] = int(params_approx_16['max_depth'])\n",
        "params_approx_16['min_child_weight'] = int(params_approx_16['min_child_weight'])\n",
        "\n",
        "### Re-train with optimal parameters, run predictons:\n",
        "dX_approx_train16 = xgb.DMatrix(X_train16, y_train16)\n",
        "dX_approx_test16 = xgb.DMatrix(X_test16, y_test16)\n",
        "model_approx_16 = xgb.train(params_approx_16, dX_approx_train16)\n",
        "pred_approx_16 = model_approx_16.predict(dX_approx_test16)\n",
        "\n",
        "rmse_approx_16 = np.sqrt(mean_squared_error(pred_approx_16, y_test16))\n",
        "rmse_approx_16"
      ],
      "execution_count": null,
      "outputs": [
        {
          "output_type": "stream",
          "name": "stdout",
          "text": [
            "Evaluation \t Proposed point \t  Current eval. \t  Best eval. \t         Max. ExactAcqFunc \t Max. ApproxAcqFunc \n",
            "init\t [2.23291079 5.23163341 6.         0.65430839 5.         0.30077285]\t 1.0442882316794924\t 0.9988899440522335\t    \t    \n",
            "init\t [6.88726162 1.63731425 7.         0.97050543 2.         0.25392012]\t 1.034592364984854\t 0.9988899440522335\t    \t    \n",
            "init\t [ 5.94328983  5.6393473   5.          0.67602695 19.          0.42538144]\t 0.9988899440522335\t 0.9988899440522335\t    \t    \n",
            "init\t [ 0.88741148  3.08148142 14.          0.56043938  9.          0.27515386]\t 1.0616382201607613\t 0.9988899440522335\t    \t    \n",
            "init\t [ 2.74631586  1.30996118 11.          0.52160786  8.          0.27956463]\t 1.0586655163441985\t 0.9988899440522335\t    \t    \n",
            "\u001b[1m\u001b[92m1\u001b[0m\t \u001b[1m\u001b[92m[ 7.8937256   1.5972923  14.          0.61610774 17.          0.78739284]\u001b[0m\t \u001b[1m\u001b[92m0.7588724777099193\u001b[0m\t \u001b[1m\u001b[92m0.7588724777099193\u001b[0m\t \u001b[1m\u001b[92m2.5469952125213817\u001b[0m\t \u001b[1m\u001b[92m2.5469952125213817\u001b[0m\n",
            "2  \t [ 9.65014948  7.07834667 14.          0.88748515  2.          0.43513691]\t 1.0357720753154218\t 0.7588724777099193\t 2.4457874201275436\t 2.4457874201275436\n",
            "3  \t [ 9.80741348  8.90144788 14.          0.82131992 14.          0.46769684]\t 0.9957364873565091\t 0.7588724777099193\t 2.4591338192232577\t 2.4591338192232577\n",
            "4  \t [ 0.78730688  7.98438553 14.          0.91743896 18.          0.25645593]\t 1.0230792313624693\t 0.7588724777099193\t 2.4565512078519682\t 2.4565512078519682\n",
            "5  \t [ 1.64983341  0.37890577  9.          0.65437216 16.          0.49641159]\t 0.9990381912537636\t 0.7588724777099193\t 2.4621590054638984\t 2.4621590054638984\n",
            "6  \t [ 5.58043809  8.91463745  8.          0.85851576 10.          0.64398202]\t 0.857846290397769\t 0.7588724777099193\t 2.460671728341387\t 2.460671728341387\n",
            "7  \t [ 2.65571666  4.32529089 14.          0.66921971  2.          0.36607383]\t 1.0693894233525565\t 0.7588724777099193\t 2.430199766492934\t 2.430199766492934\n",
            "8  \t [ 5.53392197  2.00879238  6.          0.89871466 12.          0.67694144]\t 0.8611559732831295\t 0.7588724777099193\t 2.4464662838455693\t 2.4464662838455693\n",
            "\u001b[1m\u001b[92m9\u001b[0m\t \u001b[1m\u001b[92m[6.95801625 9.13555009 8.         0.87520198 2.         0.98461662]\u001b[0m\t \u001b[1m\u001b[92m0.7219532506859043\u001b[0m\t \u001b[1m\u001b[92m0.7219532506859043\u001b[0m\t \u001b[1m\u001b[92m2.422264673420071\u001b[0m\t \u001b[1m\u001b[92m2.422264673420071\u001b[0m\n",
            "10 \t [ 8.77492053  6.74985642  5.          0.72525183 13.          0.93231357]\t 0.7415155405776647\t 0.7219532506859043\t 2.3815227439298514\t 2.3815227439298514\n",
            "11 \t [ 1.18539745  9.79684488 10.          0.69107903  4.          0.12860486]\t 1.1107767409489193\t 0.7219532506859043\t 2.3481115703067066\t 2.3481115703067066\n",
            "12 \t [ 8.8197294   2.64777319 14.          0.98646567 10.          0.63786085]\t 0.857182327987213\t 0.7219532506859043\t 2.373086273266344\t 2.373086273266344\n",
            "\u001b[1m\u001b[92m13\u001b[0m\t \u001b[1m\u001b[92m[ 0.26172129  9.94921995 14.          0.88029118  9.          0.93655616]\u001b[0m\t \u001b[1m\u001b[92m0.7195558119979323\u001b[0m\t \u001b[1m\u001b[92m0.7195558119979323\u001b[0m\t \u001b[1m\u001b[92m2.357810525285693\u001b[0m\t \u001b[1m\u001b[92m2.357810525285693\u001b[0m\n",
            "14 \t [ 5.41155711  5.82534705 10.          0.62444801 12.          0.48368067]\t 1.011456246332149\t 0.7195558119979323\t 2.3288494464472733\t 2.3288494464472733\n",
            "15 \t [ 0.02157337  9.97534925  5.          0.75404051 13.          0.40760752]\t 1.0073272814467533\t 0.7195558119979323\t 2.336844066462833\t 2.336844066462833\n",
            "16 \t [ 5.73702737  7.50903876 13.          0.61487351 15.          0.57742278]\t 0.894093323976883\t 0.7195558119979323\t 2.3432264297017285\t 2.3432264297017285\n",
            "17 \t [ 7.10469951  6.34150339 11.          0.9481748   6.          0.12277199]\t 1.096518529758772\t 0.7195558119979323\t 2.3389394465720237\t 2.3389394465720237\n",
            "18 \t [ 9.56839048  0.13416862 13.          0.80729993  3.          0.41100156]\t 1.0333946700789831\t 0.7195558119979323\t 2.3706647481524037\t 2.3706647481524037\n",
            "19 \t [ 9.86485549  9.03746465 10.          0.52506306 19.          0.37580875]\t 1.0221431969128547\t 0.7195558119979323\t 2.3458609217391952\t 2.3458609217087383\n",
            "20 \t [8.75370971 6.63075821 5.         0.51315816 7.         0.52603065]\t 0.9054977129617926\t 0.7195558119979323\t 2.3747917877907896\t 2.3747917877907896\n",
            "21 \t [ 3.28864291  8.88700951  7.          0.70665299 16.          0.26783249]\t 1.0357266754545873\t 0.7195558119979323\t 2.379503525660736\t 2.3795035088899357\n",
            "22 \t [ 6.72271828  8.33075498 14.          0.78841734 10.          0.48431777]\t 0.9963666823715333\t 0.7195558119979323\t 2.398845876266501\t 2.3988458376539827\n",
            "23 \t [0.58596137 5.71336149 9.         0.70354751 9.         0.28160967]\t 1.0385062021776466\t 0.7195558119979323\t 2.3735265411420365\t 2.3735265411420365\n",
            "24 \t [9.80508544 0.83042511 7.         0.54124599 9.         0.7836072 ]\t 0.7761448350601515\t 0.7195558119979323\t 2.379550294132657\t 2.379550294132657\n",
            "25 \t [ 9.01141716  1.23452325  9.          0.70620993 16.          0.46074297]\t 1.0029978093526934\t 0.7195558119979323\t 2.362434875622618\t 2.362434875622618\n",
            "26 \t [ 3.73420217  8.22730904 13.          0.84562785  9.          0.47506411]\t 1.0050223847057222\t 0.7195558119979323\t 2.362925953962774\t 2.362925953962774\n",
            "27 \t [ 3.87907908  1.7609891  11.          0.72159537 13.          0.66065913]\t 0.8647657423877456\t 0.7195558119979323\t 2.3854093729246806\t 2.3854093729246806\n",
            "28 \t [ 1.9619463   0.16028995 10.          0.50330845  2.          0.6207421 ]\t 0.9390116776172818\t 0.7195558119979323\t 2.3703080347478958\t 2.3703080347326977\n",
            "29 \t [ 1.58467279  1.68272877 13.          0.86101343 12.          0.4100987 ]\t 1.004998254560435\t 0.7195558119979323\t 2.376631105601838\t 2.376631105601838\n",
            "30 \t [ 0.52118859  5.167795    5.          1.         15.07085057  0.86339213]\t 0.757187251643258\t 0.7195558119979323\t 2.3741908538313234\t 2.3741894873779006\n"
          ]
        },
        {
          "output_type": "execute_result",
          "data": {
            "text/plain": [
              "60614.22577011115"
            ]
          },
          "metadata": {},
          "execution_count": 36
        }
      ]
    },
    {
      "cell_type": "code",
      "metadata": {
        "id": "SXelbcAVVCqO",
        "colab": {
          "base_uri": "https://localhost:8080/"
        },
        "outputId": "ec87147e-fdf8-47eb-dd26-e6e98a1497cb"
      },
      "source": [
        "### Bayesian optimization runs (x20): 'approx' Acquisition Function run number = 17\n",
        "\n",
        "np.random.seed(run_num_17)\n",
        "surrogate_approx_17 = dtStudentProcess(cov_func, optimize=opt, nu = df)\n",
        "\n",
        "X_train17, X_test17, y_train17, y_test17 = train_test_split(X, y, test_size=test_perc, random_state=run_num_17)\n",
        "\n",
        "def f_syn_polarity17(alpha, gamma, max_depth, subsample, min_child_weight, colsample):\n",
        "    reg = XGBRegressor(reg_alpha=alpha, gamma=gamma, max_depth=int(max_depth), subsample=subsample, min_child_weight=min_child_weight,\n",
        "          colsample_bytree=colsample, n_estimators = n_est, random_state=run_num_17, objective = 'reg:squarederror')\n",
        "    score = np.array(cross_val_score(reg, X=X_train17, y=y_train17).mean())\n",
        "    return operator * score\n",
        "\n",
        "approx_17 = GPGO_multi(surrogate_approx_17, Acquisition_grad(util), f_syn_polarity17, param, n_jobs = -1) # define BayesOpt\n",
        "approx_17.run(max_iter = max_iter, init_evals = n_init) # run\n",
        "\n",
        "### Return optimal parameters' set:\n",
        "params_approx_17 = approx_17.getResult()[0]\n",
        "params_approx_17['max_depth'] = int(params_approx_17['max_depth'])\n",
        "params_approx_17['min_child_weight'] = int(params_approx_17['min_child_weight'])\n",
        "\n",
        "### Re-train with optimal parameters, run predictons:\n",
        "dX_approx_train17 = xgb.DMatrix(X_train17, y_train17)\n",
        "dX_approx_test17 = xgb.DMatrix(X_test17, y_test17)\n",
        "model_approx_17 = xgb.train(params_approx_17, dX_approx_train17)\n",
        "pred_approx_17 = model_approx_17.predict(dX_approx_test17)\n",
        "\n",
        "rmse_approx_17 = np.sqrt(mean_squared_error(pred_approx_17, y_test17))\n",
        "rmse_approx_17"
      ],
      "execution_count": null,
      "outputs": [
        {
          "output_type": "stream",
          "name": "stdout",
          "text": [
            "Evaluation \t Proposed point \t  Current eval. \t  Best eval. \t         Max. ExactAcqFunc \t Max. ApproxAcqFunc \n",
            "init\t [ 2.94665003  5.30586756 11.          0.94443241 14.          0.80828691]\t 0.8160193762021096\t 0.8160193762021096\t    \t    \n",
            "init\t [ 6.56333522  6.37520896 12.          0.81487881 18.          0.42203224]\t 0.9345750435828236\t 0.8160193762021096\t    \t    \n",
            "init\t [ 9.45683187  0.6004468  11.          0.5171566  10.          0.53881211]\t 0.8609997448649105\t 0.8160193762021096\t    \t    \n",
            "init\t [2.72705857 1.19063434 6.         0.74176431 6.         0.10101151]\t 0.9816665199899536\t 0.8160193762021096\t    \t    \n",
            "init\t [ 4.77631812  5.24671297 13.          0.66254476 19.          0.36708086]\t 0.9568167510294832\t 0.8160193762021096\t    \t    \n",
            "1  \t [ 0.65702322  5.79284078 13.          0.75136902  1.          0.30306068]\t 0.9860041719301801\t 0.8160193762021096\t 2.216166973039768\t 2.216166973039768\n",
            "2  \t [8.79462978 7.51560605 6.         0.76312232 8.         0.57156636]\t 0.8418838401878418\t 0.8160193762021096\t 2.250563064257388\t 2.250563064257388\n",
            "\u001b[1m\u001b[92m3\u001b[0m\t \u001b[1m\u001b[92m[0.65992542 7.03112384 5.         0.85138174 1.         0.9514344 ]\u001b[0m\t \u001b[1m\u001b[92m0.7805118546901472\u001b[0m\t \u001b[1m\u001b[92m0.7805118546901472\u001b[0m\t \u001b[1m\u001b[92m2.224628877610899\u001b[0m\t \u001b[1m\u001b[92m2.224628877610899\u001b[0m\n",
            "4  \t [ 9.51671323  9.6124566  13.          0.71797221  5.          0.16581182]\t 0.9840979999934294\t 0.7805118546901472\t 2.187978803862593\t 2.187978803862593\n",
            "5  \t [ 9.17797544  5.99568118  6.          0.52445603 15.          0.40946449]\t 0.955892785185136\t 0.7805118546901472\t 2.2138127450478513\t 2.2138127450478513\n",
            "6  \t [ 6.81284184  2.29577018  7.          0.5239727  13.          0.33920765]\t 0.9781132546552117\t 0.7805118546901472\t 2.235910322234287\t 2.235910322234287\n",
            "7  \t [ 2.46339402  0.14039019 14.          0.95096219  7.          0.5441132 ]\t 0.8404775189371637\t 0.7805118546901472\t 2.2427924238833477\t 2.2427924238833477\n",
            "8  \t [9.72843652 3.88893279 9.         0.6901555  1.         0.31608219]\t 0.9731655942341536\t 0.7805118546901472\t 2.228035162187158\t 2.228035162187158\n",
            "9  \t [9.85206608 0.28191822 5.         0.52457928 8.         0.84714334]\t 0.8508120667734606\t 0.7805118546901472\t 2.24726416228802\t 2.24726416228802\n",
            "10 \t [ 0.2191332   8.51773955  5.          0.60657578 15.          0.49735822]\t 0.9550900145970594\t 0.7805118546901472\t 2.2295960937635932\t 2.2295960937635932\n",
            "11 \t [ 0.19725752  8.16335211 14.          0.80836431  8.          0.45209851]\t 0.9443317250470002\t 0.7805118546901472\t 2.2370780876492797\t 2.2370780876492797\n",
            "12 \t [0.95504342 7.30424524 8.         0.76682007 6.         0.21761275]\t 0.9795870115119684\t 0.7805118546901472\t 2.2475100406801753\t 2.2475100406801753\n",
            "13 \t [ 7.51514915  5.57821555 12.          0.8704045   9.          0.10769764]\t 0.9810647343827711\t 0.7805118546901472\t 2.2551809103456284\t 2.2551808627433685\n",
            "14 \t [5.79855217 7.64610678 9.         0.54644758 3.         0.68341681]\t 0.8826197226341577\t 0.7805118546901472\t 2.2569674162299296\t 2.256967348109721\n",
            "15 \t [ 4.97204887  2.40072226  5.          0.54268748 19.          0.30995407]\t 0.9759678380966751\t 0.7805118546901472\t 2.255288446602999\t 2.255288446602999\n",
            "16 \t [ 5.22074709  0.74229772 13.          0.87455275  7.          0.44305495]\t 0.9475819018040168\t 0.7805118546901472\t 2.265812959961207\t 2.265812959961207\n",
            "17 \t [ 9.1928307   3.75120063 13.          0.61085648 16.          0.3130605 ]\t 0.9631882478680399\t 0.7805118546901472\t 2.2745098773597783\t 2.2745098773597783\n",
            "18 \t [0.91443767 6.97440714 5.         0.78916973 2.         0.81132272]\t 0.8282909656929418\t 0.7805118546901472\t 2.291105504857764\t 2.291105504857764\n",
            "19 \t [ 0.45348627  9.34732483 12.          0.95759453 19.          0.71400033]\t 0.8425830184404466\t 0.7805118546901472\t 2.271718649474677\t 2.271718649474677\n",
            "20 \t [ 8.57333797  0.94219501 14.          0.51089969  3.          0.1953435 ]\t 1.0049178610788712\t 0.7805118546901472\t 2.2144655751781257\t 2.2144655477958293\n",
            "21 \t [ 4.48878711  5.49356507 14.          0.56680442 14.          0.88105297]\t 0.7847481688271192\t 0.7805118546901472\t 2.2953872133967184\t 2.2953872133967184\n",
            "22 \t [ 6.72796419  6.10053296 14.          0.56325639  2.          0.91580991]\t 0.7914341277502726\t 0.7805118546901472\t 2.255326107425471\t 2.255326101870819\n",
            "23 \t [ 5.18644121  9.97216159 13.          0.51656015 15.          0.59837352]\t 0.8589132192206685\t 0.7805118546901472\t 2.267884403771456\t 2.267884403771456\n",
            "24 \t [ 0.01662929  3.46629364  8.          0.7460687  11.          0.32343978]\t 0.9599687924042467\t 0.7805118546901472\t 2.20397472147329\t 2.20397472147329\n",
            "\u001b[1m\u001b[92m25\u001b[0m\t \u001b[1m\u001b[92m[ 7.56985283  2.37384188  9.29950455  1.         20.          1.        ]\u001b[0m\t \u001b[1m\u001b[92m0.7434974710799993\u001b[0m\t \u001b[1m\u001b[92m0.7434974710799993\u001b[0m\t \u001b[1m\u001b[92m2.232617107169921\u001b[0m\t \u001b[1m\u001b[92m2.232616575607925\u001b[0m\n",
            "26 \t [ 9.68199458  9.34620738 11.          0.57663541 14.          0.24521092]\t 0.9882374086058249\t 0.7434974710799993\t 2.251360763024826\t 2.251360763024826\n",
            "27 \t [ 5.48379726  6.58855631  5.          0.91493075 18.          0.89669113]\t 0.7787515875060036\t 0.7434974710799993\t 2.2540473571763187\t 2.2540473571763187\n",
            "28 \t [ 4.55919043  8.6591134   6.          0.8884863  12.          0.96165246]\t 0.768672041990598\t 0.7434974710799993\t 2.211929787038098\t 2.211929787038098\n",
            "29 \t [ 7.57643221  2.75634527 14.          0.54972325 18.          0.56026463]\t 0.860674338231938\t 0.7434974710799993\t 2.2375019378134886\t 2.2375019378134886\n",
            "30 \t [ 3.17187998  4.13355162  8.          0.8657932  13.          0.82446402]\t 0.8118933760299614\t 0.7434974710799993\t 2.194226540455164\t 2.194226540455164\n"
          ]
        },
        {
          "output_type": "execute_result",
          "data": {
            "text/plain": [
              "60838.58315481294"
            ]
          },
          "metadata": {},
          "execution_count": 37
        }
      ]
    },
    {
      "cell_type": "code",
      "metadata": {
        "id": "qJG2fAtAVFDZ",
        "colab": {
          "base_uri": "https://localhost:8080/"
        },
        "outputId": "4a7e66d7-5405-4d1e-f665-d4d8a999b28a"
      },
      "source": [
        "### Bayesian optimization runs (x20): 'approx' Acquisition Function run number = 18\n",
        "\n",
        "np.random.seed(run_num_18)\n",
        "surrogate_approx_18 = dtStudentProcess(cov_func, optimize=opt, nu = df)\n",
        "\n",
        "X_train18, X_test18, y_train18, y_test18 = train_test_split(X, y, test_size=test_perc, random_state=run_num_18)\n",
        "\n",
        "def f_syn_polarity18(alpha, gamma, max_depth, subsample, min_child_weight, colsample):\n",
        "    reg = XGBRegressor(reg_alpha=alpha, gamma=gamma, max_depth=int(max_depth), subsample=subsample, min_child_weight=min_child_weight,\n",
        "          colsample_bytree=colsample, n_estimators = n_est, random_state=run_num_11, objective = 'reg:squarederror')\n",
        "    score = np.array(cross_val_score(reg, X=X_train18, y=y_train18).mean())\n",
        "    return operator * score\n",
        "\n",
        "approx_18 = GPGO_multi(surrogate_approx_18, Acquisition_grad(util), f_syn_polarity18, param, n_jobs = -1) # define BayesOpt\n",
        "approx_18.run(max_iter = max_iter, init_evals = n_init) # run\n",
        "\n",
        "### Return optimal parameters' set:\n",
        "params_approx_18 = approx_18.getResult()[0]\n",
        "params_approx_18['max_depth'] = int(params_approx_18['max_depth'])\n",
        "params_approx_18['min_child_weight'] = int(params_approx_18['min_child_weight'])\n",
        "\n",
        "### Re-train with optimal parameters, run predictons:\n",
        "dX_approx_train18 = xgb.DMatrix(X_train18, y_train18)\n",
        "dX_approx_test18 = xgb.DMatrix(X_test18, y_test18)\n",
        "model_approx_18 = xgb.train(params_approx_18, dX_approx_train18)\n",
        "pred_approx_18 = model_approx_18.predict(dX_approx_test18)\n",
        "\n",
        "rmse_approx_18 = np.sqrt(mean_squared_error(pred_approx_18, y_test18))\n",
        "rmse_approx_18"
      ],
      "execution_count": null,
      "outputs": [
        {
          "output_type": "stream",
          "name": "stdout",
          "text": [
            "Evaluation \t Proposed point \t  Current eval. \t  Best eval. \t         Max. ExactAcqFunc \t Max. ApproxAcqFunc \n",
            "init\t [6.50374242 5.05453374 6.         0.59092011 3.         0.28357516]\t 0.9945504564494708\t 0.8040972705253946\t    \t    \n",
            "init\t [0.11506734 4.26891483 9.         0.81785956 5.         0.63489043]\t 0.8040972705253946\t 0.8040972705253946\t    \t    \n",
            "init\t [ 2.8861259   6.35547834 11.          0.64267955 14.          0.27877092]\t 0.9800705737387579\t 0.8040972705253946\t    \t    \n",
            "init\t [6.57189031 6.99655629 8.         0.63235896 4.         0.52894035]\t 0.8208145553024886\t 0.8040972705253946\t    \t    \n",
            "init\t [ 6.66600348  2.11312037 14.          0.74363461  4.          0.73174558]\t 0.8099770295888573\t 0.8040972705253946\t    \t    \n",
            "1  \t [ 8.67093232  0.11649132  5.          0.92962202 15.          0.53672863]\t 0.8290526771960891\t 0.8040972705253946\t 2.165163747235925\t 2.165163747235925\n",
            "\u001b[1m\u001b[92m2\u001b[0m\t \u001b[1m\u001b[92m[ 7.2764983   0.11744451 14.          0.65239666 17.          0.99049521]\u001b[0m\t \u001b[1m\u001b[92m0.7717526578038573\u001b[0m\t \u001b[1m\u001b[92m0.7717526578038573\u001b[0m\t \u001b[1m\u001b[92m2.1433478680978006\u001b[0m\t \u001b[1m\u001b[92m2.1433478680978\u001b[0m\n",
            "3  \t [ 6.9243088   2.24175244  9.          0.535904   10.          0.52104842]\t 0.8267998563487631\t 0.7717526578038573\t 2.1090706708345426\t 2.1090706708099893\n",
            "4  \t [ 9.05522886  7.72410538  5.          0.69563915 18.          0.34113663]\t 0.9720368320825408\t 0.7717526578038573\t 2.0987747398428565\t 2.0987747398428565\n",
            "5  \t [ 9.98394208  8.5932438  14.          0.75596751 19.          0.64506065]\t 0.7939440774877953\t 0.7717526578038573\t 2.135013613348573\t 2.135013613348573\n",
            "6  \t [ 8.22273842  9.68669454  5.          0.7147283  11.          0.16411281]\t 1.0766617046782607\t 0.7717526578038573\t 2.114002390441464\t 2.114002390440137\n",
            "7  \t [3.28907983 0.32007134 5.         0.82737078 1.         0.19815427]\t 1.0814569137184114\t 0.7717526578038573\t 2.169239616093531\t 2.169239616093531\n",
            "8  \t [ 1.24316399  9.43141312 14.          0.66900118  7.          0.55235225]\t 0.8167106174903189\t 0.7717526578038573\t 2.211006564900326\t 2.211006564900326\n",
            "9  \t [ 1.80118477  1.19747778 13.          0.79590104  8.          0.56741067]\t 0.8216445533109903\t 0.7717526578038573\t 2.1955299513177846\t 2.195529944418317\n",
            "10 \t [ 2.63732683  4.87962717 14.          0.99986359 19.          0.86504659]\t 0.7908825942180885\t 0.7717526578038573\t 2.1829669162756096\t 2.1829669162756096\n",
            "11 \t [ 0.2637722   4.11659493  5.          0.61604637 11.          0.22374653]\t 1.0699354655820383\t 0.7717526578038573\t 2.1674618443340985\t 2.1674618443340985\n",
            "12 \t [ 3.09522647  6.97119948 14.          0.63850148  1.          0.54769428]\t 0.8390111546541604\t 0.7717526578038573\t 2.198228914235599\t 2.198228914235599\n",
            "13 \t [ 8.34050252  7.45495891 14.          0.58875591  8.          0.92669456]\t 0.7757542421516687\t 0.7717526578038573\t 2.191939582892639\t 2.191939582892639\n",
            "14 \t [8.45918053 0.39509087 9.         0.81105792 3.         0.47358724]\t 0.9054011377721235\t 0.7717526578038573\t 2.1778498470752123\t 2.1778498470752123\n",
            "15 \t [3.36125149 0.38066674 7.         0.83604387 7.         0.55591318]\t 0.8269535778079307\t 0.7717526578038573\t 2.177143726681477\t 2.177143726681477\n",
            "16 \t [ 0.71491502  0.67997826 10.          0.84656193 16.          0.26877596]\t 0.9802989527959\t 0.7717526578038573\t 2.1716124756391215\t 2.1716124756391215\n",
            "17 \t [0.80116063 4.55633099 5.         0.79763457 4.         0.36850753]\t 0.9816472859446954\t 0.7717526578038573\t 2.1843718937762966\t 2.1843718937762966\n",
            "18 \t [ 4.48360078  7.855369   10.          0.64837174 18.          0.21997892]\t 1.069621582520547\t 0.7717526578038573\t 2.224772247361073\t 2.224772247361073\n",
            "19 \t [9.2798599  7.10759547 6.         0.7926243  1.         0.10786223]\t 1.0659804815531757\t 0.7717526578038573\t 2.248588505133577\t 2.248588505133577\n",
            "20 \t [ 9.84526946  7.66546924  9.          0.85160345 12.          0.57041046]\t 0.8143407207554997\t 0.7717526578038573\t 2.2760424605752023\t 2.2760424605752023\n",
            "21 \t [ 9.23733929  4.4641986  14.          0.5618978  13.          0.67359608]\t 0.8084765247236222\t 0.7717526578038573\t 2.2171860909277097\t 2.2171860909277097\n",
            "22 \t [ 3.44634229  0.73068286  6.          0.98116529 13.          0.55221155]\t 0.8186382898037643\t 0.7717526578038573\t 2.2161538243354135\t 2.2161538243354135\n",
            "23 \t [ 6.72349545  5.27194732 13.          0.74776676 17.          0.30949491]\t 0.9797418649448687\t 0.7717526578038573\t 2.2201799066376955\t 2.2201799066376955\n",
            "24 \t [ 6.53986112  7.86486911  8.          0.51123614 12.          0.99656982]\t 0.7803443878774855\t 0.7717526578038573\t 2.222689338289416\t 2.222689338289416\n",
            "25 \t [1.70698239 9.19985282 6.         0.50661833 7.         0.29378886]\t 0.9933904701114727\t 0.7717526578038573\t 2.2434246456699696\t 2.2434246456699696\n",
            "26 \t [ 0.40678625  1.26787537  5.          0.70261051 12.          0.55749237]\t 0.8237860321712347\t 0.7717526578038573\t 2.243461646279336\t 2.243461646279336\n",
            "27 \t [ 2.49960443  6.35739516  5.          0.82569718 16.          0.24708903]\t 1.0804872789733682\t 0.7717526578038573\t 2.208442871050938\t 2.208442871050938\n",
            "28 \t [ 0.21959499  5.23035289 12.          0.91796248  7.          0.20873253]\t 1.0695374663391362\t 0.7717526578038573\t 2.2141172721220936\t 2.2141172721220936\n",
            "29 \t [9.31614024 4.63885987 7.         0.54659744 6.         0.74814245]\t 0.8216721197517609\t 0.7717526578038573\t 2.224825427561612\t 2.224825427561612\n",
            "\u001b[1m\u001b[92m30\u001b[0m\t \u001b[1m\u001b[92m[ 8.38134198  4.02617927  7.          0.82656843 14.          0.94727263]\u001b[0m\t \u001b[1m\u001b[92m0.7618993622032697\u001b[0m\t \u001b[1m\u001b[92m0.7618993622032697\u001b[0m\t \u001b[1m\u001b[92m2.237898274756362\u001b[0m\t \u001b[1m\u001b[92m2.237898274756362\u001b[0m\n"
          ]
        },
        {
          "output_type": "execute_result",
          "data": {
            "text/plain": [
              "61628.72810070192"
            ]
          },
          "metadata": {},
          "execution_count": 38
        }
      ]
    },
    {
      "cell_type": "code",
      "metadata": {
        "id": "XHidSEGcVHvG",
        "colab": {
          "base_uri": "https://localhost:8080/"
        },
        "outputId": "ee578cb5-d290-4a44-80a7-67f71c9b3905"
      },
      "source": [
        "### Bayesian optimization runs (x20): 'approx' Acquisition Function run number = 19\n",
        "\n",
        "np.random.seed(run_num_19)\n",
        "surrogate_approx_19 = dtStudentProcess(cov_func, optimize=opt, nu = df)\n",
        "\n",
        "X_train19, X_test19, y_train19, y_test19 = train_test_split(X, y, test_size=test_perc, random_state=run_num_19)\n",
        "\n",
        "def f_syn_polarity19(alpha, gamma, max_depth, subsample, min_child_weight, colsample):\n",
        "    reg = XGBRegressor(reg_alpha=alpha, gamma=gamma, max_depth=int(max_depth), subsample=subsample, min_child_weight=min_child_weight,\n",
        "          colsample_bytree=colsample, n_estimators = n_est, random_state=run_num_19, objective = 'reg:squarederror')\n",
        "    score = np.array(cross_val_score(reg, X=X_train19, y=y_train19).mean())\n",
        "    return operator * score\n",
        "\n",
        "approx_19 = GPGO_multi(surrogate_approx_19, Acquisition_grad(util), f_syn_polarity19, param, n_jobs = -1) # define BayesOpt\n",
        "approx_19.run(max_iter = max_iter, init_evals = n_init) # run\n",
        "\n",
        "### Return optimal parameters' set:\n",
        "params_approx_19 = approx_19.getResult()[0]\n",
        "params_approx_19['max_depth'] = int(params_approx_19['max_depth'])\n",
        "params_approx_19['min_child_weight'] = int(params_approx_19['min_child_weight'])\n",
        "\n",
        "### Re-train with optimal parameters, run predictons:\n",
        "dX_approx_train19 = xgb.DMatrix(X_train19, y_train19)\n",
        "dX_approx_test19 = xgb.DMatrix(X_test19, y_test19)\n",
        "model_approx_19 = xgb.train(params_approx_19, dX_approx_train19)\n",
        "pred_approx_19 = model_approx_19.predict(dX_approx_test19)\n",
        "\n",
        "rmse_approx_19 = np.sqrt(mean_squared_error(pred_approx_19, y_test19))\n",
        "rmse_approx_19"
      ],
      "execution_count": null,
      "outputs": [
        {
          "output_type": "stream",
          "name": "stdout",
          "text": [
            "Evaluation \t Proposed point \t  Current eval. \t  Best eval. \t         Max. ExactAcqFunc \t Max. ApproxAcqFunc \n",
            "init\t [ 0.97533602  7.61249717 13.          0.85765469 11.          0.39830191]\t 0.9238143360620997\t 0.824729580989813\t    \t    \n",
            "init\t [ 0.82999565  6.71977081  6.          0.50407413 19.          0.67209466]\t 0.9119597092034326\t 0.824729580989813\t    \t    \n",
            "init\t [ 2.15923256  5.49027432 12.          0.52588686 10.          0.20235326]\t 1.1280473533716002\t 0.824729580989813\t    \t    \n",
            "init\t [4.99659267 1.52108422 6.         0.73481085 4.         0.71949465]\t 0.885331313733569\t 0.824729580989813\t    \t    \n",
            "init\t [ 3.72927156  9.46160045  5.          0.80554614 18.          0.97708466]\t 0.824729580989813\t 0.824729580989813\t    \t    \n",
            "\u001b[1m\u001b[92m1\u001b[0m\t \u001b[1m\u001b[92m[ 8.33060043  1.42030563  8.          0.92863724 14.          0.78606141]\u001b[0m\t \u001b[1m\u001b[92m0.79346025102973\u001b[0m\t \u001b[1m\u001b[92m0.79346025102973\u001b[0m\t \u001b[1m\u001b[92m2.293882631113447\u001b[0m\t \u001b[1m\u001b[92m2.293882631113447\u001b[0m\n",
            "2  \t [ 9.87536409  7.17591217 14.          0.99713522 17.          0.55460731]\t 0.8875735409405836\t 0.79346025102973\t 2.239306560663139\t 2.239306560663139\n",
            "3  \t [ 9.05225624  3.60011377 14.          0.89518364  1.          0.11342054]\t 1.1322726135322738\t 0.79346025102973\t 2.2301084687263644\t 2.2301084687263644\n",
            "4  \t [ 0.63994078  3.71351436 14.          0.60091862  1.          0.58598556]\t 0.9633601355550562\t 0.79346025102973\t 2.3050465689338293\t 2.3050465689338293\n",
            "5  \t [4.99125702 9.50308409 8.         0.55828329 3.         0.34673953]\t 0.9736613453341365\t 0.79346025102973\t 2.3111877944659747\t 2.3111877944659747\n",
            "6  \t [ 8.42570155  4.07975309 12.          0.91619537  8.          0.61684591]\t 0.8962334110364653\t 0.79346025102973\t 2.318674426044979\t 2.318674425912867\n",
            "7  \t [ 3.74566023  2.13062241 14.          0.71219729 18.          0.68959412]\t 0.8910080545620651\t 0.79346025102973\t 2.307730775284348\t 2.307730775284348\n",
            "8  \t [ 3.63408057  9.2502169   7.          0.59622027 10.          0.62731569]\t 0.8893037640708062\t 0.79346025102973\t 2.297557011430075\t 2.297557011430075\n",
            "9  \t [ 1.79783097  1.91934618  5.          0.77893204 13.          0.47835366]\t 0.9338815902432167\t 0.79346025102973\t 2.2886048609585217\t 2.2886048609585217\n",
            "10 \t [ 4.45643696  6.43761151 10.          0.59521711 15.          0.91320177]\t 0.8255704645290564\t 0.79346025102973\t 2.288533165694031\t 2.2885331469963397\n",
            "11 \t [9.94019054 7.43271319 5.         0.78342194 4.         0.90198883]\t 0.8287447527880435\t 0.79346025102973\t 2.271748196450679\t 2.271748196450679\n",
            "12 \t [ 9.41792853  9.11293681  6.          0.87420995 11.          0.8007601 ]\t 0.8060510151077646\t 0.79346025102973\t 2.257424331581933\t 2.2574243189968453\n",
            "13 \t [0.04130113 6.56643894 8.         0.8316257  6.         0.23623124]\t 1.1276065677179288\t 0.79346025102973\t 2.241639919240967\t 2.2416399102140407\n",
            "14 \t [ 9.18890824  5.50760906  5.          0.92553651 18.          0.76040056]\t 0.8195075556875523\t 0.79346025102973\t 2.2766958144819527\t 2.2766958144819527\n",
            "15 \t [ 3.29312611  0.9704927   6.          0.68391426 19.          0.43020049]\t 0.9367777767954987\t 0.79346025102973\t 2.2604965608690257\t 2.2604965608690257\n",
            "16 \t [ 0.9019348   8.21531788 14.          0.85098746 17.          0.41254672]\t 0.9192069504605914\t 0.79346025102973\t 2.264568491694126\t 2.264568491694126\n",
            "17 \t [9.42305669 0.3423134  7.         0.77066127 8.         0.63693457]\t 0.8744339215870263\t 0.79346025102973\t 2.262718387351872\t 2.262718387351872\n",
            "18 \t [ 7.9679648   6.50875696 12.          0.58580991 13.          0.19954847]\t 1.1274997047398325\t 0.79346025102973\t 2.284962970049686\t 2.284962970049686\n",
            "19 \t [ 9.97958622  9.03409533 12.          0.51772082  4.          0.45869101]\t 0.9473572626155049\t 0.79346025102973\t 2.2941448050140183\t 2.2941448050140183\n",
            "20 \t [ 3.55165538  9.78370062 13.          0.78750167  1.          0.7976462 ]\t 0.832291165091001\t 0.79346025102973\t 2.2883162527563945\t 2.2883162527563945\n",
            "21 \t [ 9.95530246  5.50525097  9.          0.72320589 18.          0.9960274 ]\t 0.8200285178970692\t 0.79346025102973\t 2.2950250465965043\t 2.2950250465965043\n",
            "22 \t [ 2.60768732  9.91933042 11.          0.69532366 12.          0.51088157]\t 0.9223651097826323\t 0.79346025102973\t 2.250627545175625\t 2.250627545175625\n",
            "23 \t [ 4.81184079  0.03027405 11.          0.96437956 10.          0.97759806]\t 0.7947258239649384\t 0.79346025102973\t 2.313952699698867\t 2.313952699698867\n",
            "24 \t [ 6.30542676  7.71202743  5.          0.69290865 17.          0.68185665]\t 0.9062144692012971\t 0.79346025102973\t 2.2551959974264815\t 2.2551959974264815\n",
            "25 \t [3.50392351 6.35497601 9.         0.51577921 5.         0.45370698]\t 0.9381315214046673\t 0.79346025102973\t 2.2445633229644155\t 2.2445633229644155\n",
            "26 \t [ 3.26806392  8.03852835 12.          0.60354247 16.          0.69840157]\t 0.8895644243531041\t 0.79346025102973\t 2.2656298323795476\t 2.2656298323795476\n",
            "\u001b[1m\u001b[92m27\u001b[0m\t \u001b[1m\u001b[92m[ 9.92259153  0.53590524 11.99970495  1.         18.55535248  1.        ]\u001b[0m\t \u001b[1m\u001b[92m0.7706287345430807\u001b[0m\t \u001b[1m\u001b[92m0.7706287345430807\u001b[0m\t \u001b[1m\u001b[92m2.2795731211402406\u001b[0m\t \u001b[1m\u001b[92m2.279573105262372\u001b[0m\n",
            "28 \t [8.3735996  5.34104024 8.         0.56456303 7.         0.59553385]\t 0.9329548781688652\t 0.7706287345430807\t 2.2377748922348135\t 2.2377748922348135\n",
            "29 \t [ 6.19086368  8.47911079  6.          0.770382   12.          0.93751062]\t 0.8158422349857315\t 0.7706287345430807\t 2.2348560719836796\t 2.2348560719836796\n",
            "30 \t [9.30545715 2.21896205 9.         0.96965499 5.         0.61228081]\t 0.8966551531404072\t 0.7706287345430807\t 2.233143973915909\t 2.233143973915909\n"
          ]
        },
        {
          "output_type": "execute_result",
          "data": {
            "text/plain": [
              "60904.53547171483"
            ]
          },
          "metadata": {},
          "execution_count": 39
        }
      ]
    },
    {
      "cell_type": "code",
      "metadata": {
        "id": "CWGPYRJhVKsO",
        "colab": {
          "base_uri": "https://localhost:8080/"
        },
        "outputId": "8ba61b53-d857-4456-9381-471f22bbc9bf"
      },
      "source": [
        "### Bayesian optimization runs (x20): 'approx' Acquisition Function run number = 20\n",
        "\n",
        "np.random.seed(run_num_20)\n",
        "surrogate_approx_20 = dtStudentProcess(cov_func, optimize=opt, nu = df)\n",
        "\n",
        "X_train20, X_test20, y_train20, y_test20 = train_test_split(X, y, test_size=test_perc, random_state=run_num_20)\n",
        "\n",
        "def f_syn_polarity20(alpha, gamma, max_depth, subsample, min_child_weight, colsample):\n",
        "    reg = XGBRegressor(reg_alpha=alpha, gamma=gamma, max_depth=int(max_depth), subsample=subsample, min_child_weight=min_child_weight,\n",
        "          colsample_bytree=colsample, n_estimators = n_est, random_state=run_num_20, objective = 'reg:squarederror')\n",
        "    score = np.array(cross_val_score(reg, X=X_train20, y=y_train20).mean())\n",
        "    return operator * score\n",
        "\n",
        "approx_20 = GPGO_multi(surrogate_approx_20, Acquisition_grad(util), f_syn_polarity20, param, n_jobs = -1) # define BayesOpt\n",
        "approx_20.run(max_iter = max_iter, init_evals = n_init) # run\n",
        "\n",
        "### Return optimal parameters' set:\n",
        "params_approx_20 = approx_20.getResult()[0]\n",
        "params_approx_20['max_depth'] = int(params_approx_20['max_depth'])\n",
        "params_approx_20['min_child_weight'] = int(params_approx_20['min_child_weight'])\n",
        "\n",
        "### Re-train with optimal parameters, run predictons:\n",
        "dX_approx_train20 = xgb.DMatrix(X_train20, y_train20)\n",
        "dX_approx_test20 = xgb.DMatrix(X_test20, y_test20)\n",
        "model_approx_20 = xgb.train(params_approx_20, dX_approx_train20)\n",
        "pred_approx_20 = model_approx_20.predict(dX_approx_test20)\n",
        "\n",
        "rmse_approx_20 = np.sqrt(mean_squared_error(pred_approx_20, y_test20))\n",
        "rmse_approx_20"
      ],
      "execution_count": null,
      "outputs": [
        {
          "output_type": "stream",
          "name": "stdout",
          "text": [
            "Evaluation \t Proposed point \t  Current eval. \t  Best eval. \t         Max. ExactAcqFunc \t Max. ApproxAcqFunc \n",
            "init\t [ 5.88130801  8.97713728 14.          0.81074445  8.          0.95540649]\t 0.7520109919120059\t 0.7520109919120059\t    \t    \n",
            "init\t [6.72865655 0.41173329 8.         0.6361582  7.         0.76174061]\t 0.7843437690505969\t 0.7520109919120059\t    \t    \n",
            "init\t [ 4.77387703  8.66202323 10.          0.51833215  7.          0.10123387]\t 1.0380897569172567\t 0.7520109919120059\t    \t    \n",
            "init\t [ 5.75489985  4.74524381  8.          0.78084343 15.          0.26643049]\t 0.9185289289653313\t 0.7520109919120059\t    \t    \n",
            "init\t [ 4.53444     4.47342833  8.          0.91974896 18.          0.35997552]\t 0.9180724641961298\t 0.7520109919120059\t    \t    \n",
            "1  \t [ 7.96566073  7.15509535  7.          0.79906691 11.          0.34132075]\t 0.9254670555638643\t 0.7520109919120059\t 2.1757478421766354\t 2.1757478421766354\n",
            "2  \t [ 1.72798052  9.03285612 13.          0.50351094 19.          0.11416888]\t 1.0314631424665905\t 0.7520109919120059\t 2.189261240258193\t 2.189261240258193\n",
            "3  \t [ 1.96661701  1.73294312 11.          0.93201699  1.          0.60463107]\t 0.8949898491028812\t 0.7520109919120059\t 2.2405575465382648\t 2.2405575465382643\n",
            "4  \t [1.41824857 5.09758018 5.         0.56802833 5.         0.75704697]\t 0.7944418105894601\t 0.7520109919120059\t 2.234578292155228\t 2.234578292155228\n",
            "5  \t [ 0.41794531  1.88324969 13.          0.88408406 13.          0.43578884]\t 0.8997545663056927\t 0.7520109919120059\t 2.204378326535075\t 2.204378326535075\n",
            "6  \t [ 9.80686472  1.37296982 14.          0.9100959  10.          0.1681724 ]\t 1.0239998235141596\t 0.7520109919120059\t 2.2043351035417738\t 2.2043351035417738\n",
            "7  \t [ 9.82409087  4.45469949 11.          0.53160513  4.          0.66763423]\t 0.8480209770499222\t 0.7520109919120059\t 2.2347184648932608\t 2.2347184648932608\n",
            "8  \t [ 2.63649501  9.62311075  7.          0.5192485  13.          0.19746315]\t 1.0350432385289277\t 0.7520109919120059\t 2.221060986599468\t 2.2210609789188296\n",
            "9  \t [1.40842154 7.81898154 9.         0.57297042 1.         0.11610409]\t 1.0363798049215616\t 0.7520109919120059\t 2.24766475052947\t 2.24766475052947\n",
            "10 \t [8.51004072 7.2917763  5.         0.96135496 1.         0.57493956]\t 0.865997699883801\t 0.7520109919120059\t 2.269686930399666\t 2.269686930399666\n",
            "11 \t [ 9.3606342   3.21248061 14.          0.65614013 17.          0.10926152]\t 1.0228429225587468\t 0.7520109919120059\t 2.2598501087705443\t 2.259850108769039\n",
            "12 \t [ 6.27900589  9.12764923  5.          0.84263312 18.          0.79256191]\t 0.7735262251857813\t 0.7520109919120059\t 2.275162043358421\t 2.2751620373121417\n",
            "13 \t [6.3101326  8.61804899 7.         0.66826014 6.         0.89905701]\t 0.778060148609183\t 0.7520109919120059\t 2.2555953742074943\t 2.2555953742074943\n",
            "\u001b[1m\u001b[92m14\u001b[0m\t \u001b[1m\u001b[92m[ 2.08109501  0.31399789  8.          0.78263012 11.          0.87673239]\u001b[0m\t \u001b[1m\u001b[92m0.7493527307804453\u001b[0m\t \u001b[1m\u001b[92m0.7493527307804453\u001b[0m\t \u001b[1m\u001b[92m2.237843296660827\u001b[0m\t \u001b[1m\u001b[92m2.237843296660827\u001b[0m\n",
            "15 \t [ 6.97560183  1.48211849  9.          0.80794429 10.          0.21839694]\t 1.0237787601826196\t 0.7493527307804453\t 2.2181484671986165\t 2.2181484671986165\n",
            "16 \t [ 1.47808653  5.79832114 12.          0.95992435  9.          0.71524706]\t 0.8162777104474938\t 0.7493527307804453\t 2.231974072173458\t 2.23197407119315\n",
            "17 \t [ 5.89342875  8.42543819 13.          0.91386769  2.          0.30786126]\t 0.9476026661484042\t 0.7493527307804453\t 2.222186808819518\t 2.222186808819518\n",
            "18 \t [ 1.21632555  2.44839139  8.          0.8927599  17.          0.25270381]\t 0.9237148678212173\t 0.7493527307804453\t 2.222767782756708\t 2.222767782756708\n",
            "19 \t [4.83067255 2.19904639 7.         0.5680519  3.         0.59514532]\t 0.8957701072181361\t 0.7493527307804453\t 2.2216509350042437\t 2.2216509350042437\n",
            "20 \t [ 6.62295384  9.17069374  8.          0.91336715 18.          0.33402165]\t 0.9207932652757735\t 0.7493527307804453\t 2.259092005366737\t 2.259092005366737\n",
            "21 \t [ 7.41954815  2.80862624  9.          0.85591029 17.          0.3641919 ]\t 0.9203913838650098\t 0.7493527307804453\t 2.2520324417777977\t 2.2520324417777977\n",
            "22 \t [ 2.64391559  1.76519903 14.          0.97943945  7.          0.11710362]\t 1.0222210574453885\t 0.7493527307804453\t 2.2517279841048126\t 2.2517279841048126\n",
            "23 \t [ 5.86852957  9.2552543  14.          0.74343957 14.          0.26209686]\t 0.9228195832204917\t 0.7493527307804453\t 2.2362062526950592\t 2.2362062513384084\n",
            "24 \t [ 1.96869013  7.00264368 10.          0.79233192  3.          0.8133863 ]\t 0.7797715795229998\t 0.7493527307804453\t 2.2355652961360946\t 2.2355652961360946\n",
            "25 \t [ 9.4251418   2.62898513  5.          0.90450266 19.          0.92733176]\t 0.7703406847213696\t 0.7493527307804453\t 2.254464740569756\t 2.2544632961874886\n",
            "26 \t [ 8.41587592  4.63136717 11.          0.99322381 16.          0.53340451]\t 0.8602984001975387\t 0.7493527307804453\t 2.2439433193077116\t 2.2439433193077116\n",
            "\u001b[1m\u001b[92m27\u001b[0m\t \u001b[1m\u001b[92m[10.          9.24149784 11.04765102  1.          5.55078797  1.        ]\u001b[0m\t \u001b[1m\u001b[92m0.7456486876308682\u001b[0m\t \u001b[1m\u001b[92m0.7456486876308682\u001b[0m\t \u001b[1m\u001b[92m2.263492114727246\u001b[0m\t \u001b[1m\u001b[92m2.2634907832781965\u001b[0m\n",
            "28 \t [ 5.02199529  8.17608785 14.          0.82123354 16.          0.12042445]\t 1.021708916478741\t 0.7456486876308682\t 2.218649457701309\t 2.218649457701309\n",
            "29 \t [ 2.05797056  3.5679443  14.          0.67286552 19.          0.3168445 ]\t 0.9202198906523096\t 0.7456486876308682\t 2.244072436035191\t 2.244072436035191\n",
            "30 \t [8.62308166 2.52518353 5.         1.         1.         1.        ]\t 0.7542686285503246\t 0.7456486876308682\t 2.199606250436985\t 2.1996055510242045\n"
          ]
        },
        {
          "output_type": "execute_result",
          "data": {
            "text/plain": [
              "60230.678317812155"
            ]
          },
          "metadata": {},
          "execution_count": 40
        }
      ]
    },
    {
      "cell_type": "code",
      "metadata": {
        "id": "-1d_1LyydIfe",
        "colab": {
          "base_uri": "https://localhost:8080/"
        },
        "outputId": "e92c78f9-ddc2-4f58-c49e-c6d214e069f5"
      },
      "source": [
        "end_approx = time.time()\n",
        "end_approx\n",
        "\n",
        "time_approx = end_approx - start_approx\n",
        "time_approx\n",
        "\n",
        "start_exact = time.time()\n",
        "start_exact"
      ],
      "execution_count": null,
      "outputs": [
        {
          "output_type": "execute_result",
          "data": {
            "text/plain": [
              "1662472389.9422772"
            ]
          },
          "metadata": {},
          "execution_count": 41
        }
      ]
    },
    {
      "cell_type": "code",
      "metadata": {
        "id": "ZAyOw7XYVwAf",
        "colab": {
          "base_uri": "https://localhost:8080/"
        },
        "outputId": "85c38fb9-1db1-47d7-f36e-6663fa499c1d"
      },
      "source": [
        "### Bayesian optimization runs (x20): 'exact' Acquisition Function run number = 1 \n",
        "\n",
        "np.random.seed(run_num_1)\n",
        "surrogate_exact_1 = dtStudentProcess(cov_func, optimize=opt, nu = df)\n",
        "\n",
        "X_train1, X_test1, y_train1, y_test1 = train_test_split(X, y, test_size=test_perc, random_state=run_num_1)\n",
        "\n",
        "def f_syn_polarity1(alpha, gamma, max_depth, subsample, min_child_weight, colsample):\n",
        "    reg = XGBRegressor(reg_alpha=alpha, gamma=gamma, max_depth=int(max_depth), subsample=subsample, min_child_weight=min_child_weight,\n",
        "          colsample_bytree=colsample, n_estimators = n_est, random_state=run_num_1, objective = 'reg:squarederror')\n",
        "    score = np.array(cross_val_score(reg, X=X_train1, y=y_train1).mean())\n",
        "    return operator * score\n",
        "\n",
        "exact_1 = dGPGO(surrogate_exact_1, Acquisition_grad(util), f_syn_polarity1, param, n_jobs = -1) # Define BayesOpt\n",
        "exact_1.run(max_iter = max_iter, init_evals = n_init) # run\n",
        "\n",
        "### Return optimal parameters' set:\n",
        "params_exact_1 = exact_1.getResult()[0]\n",
        "params_exact_1['max_depth'] = int(params_exact_1['max_depth'])\n",
        "params_exact_1['min_child_weight'] = int(params_exact_1['min_child_weight'])\n",
        "\n",
        "### Re-train with optimal parameters, run predictons:\n",
        "dX_exact_train1 = xgb.DMatrix(X_train1, y_train1)\n",
        "dX_exact_test1 = xgb.DMatrix(X_test1, y_test1)\n",
        "model_exact_1 = xgb.train(params_exact_1, dX_exact_train1)\n",
        "pred_exact_1 = model_exact_1.predict(dX_exact_test1)\n",
        "\n",
        "rmse_exact_1 = np.sqrt(mean_squared_error(pred_exact_1, y_test1))\n",
        "rmse_exact_1"
      ],
      "execution_count": null,
      "outputs": [
        {
          "output_type": "stream",
          "name": "stdout",
          "text": [
            "Evaluation \t Proposed point \t  Current eval. \t  Best eval. \t         Max. ExactAcqFunc \t Max. ApproxAcqFunc \n",
            "init\t [ 4.17022005  7.20324493 14.          0.65116629 16.          0.31248008]\t 0.848101320876155\t 0.7386468688809501\t    \t    \n",
            "init\t [ 3.96580727  3.87910741 11.          0.96776954  6.          0.71669755]\t 0.7469689781479785\t 0.7386468688809501\t    \t    \n",
            "init\t [ 2.0445225   8.78117436  7.          0.95698101 10.          0.48762871]\t 0.8079963708366673\t 0.7386468688809501\t    \t    \n",
            "init\t [ 9.39127789  7.78389236 14.          0.98413079  2.          0.87851823]\t 0.7386468688809501\t 0.7386468688809501\t    \t    \n",
            "init\t [8.29146907 8.29603359 8.         0.58491521 9.         0.18851215]\t 0.937768916815817\t 0.7386468688809501\t    \t    \n",
            "1  \t [ 7.86951474  0.6406733  11.          0.78919481 19.          0.44182296]\t 0.8126185461054997\t 0.7386468688809501\t 2.006521308388567\t 2.006521308388567\n",
            "2  \t [ 0.74723898  0.36469704 11.          0.84902862 15.          0.10419698]\t 0.9318704004009237\t 0.7386468688809501\t 2.003860131356255\t 2.003860131356255\n",
            "3  \t [7.35353694 6.03494644 5.         0.7919799  3.         0.96282991]\t 0.7646755003247829\t 0.7386468688809501\t 2.0460075034364733\t 2.0460075034364733\n",
            "4  \t [7.54305951 2.10732392 5.         0.87446419 8.         0.37589556]\t 0.8108923609041201\t 0.7386468688809501\t 2.025197496823382\t 2.025197496823382\n",
            "5  \t [ 3.76363217  9.95052322  8.          0.75835318 19.          0.10206715]\t 0.9302979891635867\t 0.7386468688809501\t 2.020909989784286\t 2.020909989784286\n",
            "6  \t [ 5.1476318   2.63826491  5.          0.83046451 17.          0.39543049]\t 0.8121266607783616\t 0.7386468688809501\t 2.048155648362477\t 2.048155648362477\n",
            "7  \t [ 2.05722318  9.92568059 11.          0.85938245  2.          0.31039182]\t 0.8530932869908747\t 0.7386468688809501\t 2.0428747115832535\t 2.0428747115832535\n",
            "\u001b[1m\u001b[92m8\u001b[0m\t \u001b[1m\u001b[92m[ 4.73517703  7.50315028 12.98883454  1.          9.98883454  1.        ]\u001b[0m\t \u001b[1m\u001b[92m0.7228185929398132\u001b[0m\t \u001b[1m\u001b[92m0.7228185929398132\u001b[0m\t \u001b[1m\u001b[92m2.046812802764444\u001b[0m\t \u001b[1m\u001b[92m2.046812802670832\u001b[0m\n",
            "9  \t [ 2.08878558  0.52993661 12.          0.75288969  1.          0.24822289]\t 0.9452829494695465\t 0.7228185929398132\t 2.0268990270786613\t 2.0268990270786613\n",
            "10 \t [9.47161836 5.35231143 6.         0.51632193 6.         0.43288953]\t 0.8314092949686034\t 0.7228185929398132\t 2.0488603398644325\t 2.0488603398644325\n",
            "11 \t [ 9.4605503   2.00186066 12.          0.69186722  8.          0.11311186]\t 0.9369155032359574\t 0.7228185929398132\t 2.048052026230676\t 2.048052026230676\n",
            "12 \t [6.76356635 2.31703141 5.         0.84148498 5.         0.43949556]\t 0.814519664191474\t 0.7228185929398132\t 2.0643369385837325\t 2.0643369385837325\n",
            "13 \t [0.         0.61853042 5.         0.5        2.86003036 0.1       ]\t 0.9412747856341053\t 0.7228185929398132\t 2.0605845022225173\t 2.0605845022196716\n",
            "14 \t [ 0.99440257  2.23238431 10.          0.58984965 12.          0.68792603]\t 0.7644930642703252\t 0.7228185929398132\t 2.0747631057697453\t 2.0747631057697453\n",
            "15 \t [ 9.20512342  1.60831322 11.          0.87041344  2.          0.50117029]\t 0.7810258661361746\t 0.7228185929398132\t 2.064315503003603\t 2.064315503003603\n",
            "\u001b[1m\u001b[92m16\u001b[0m\t \u001b[1m\u001b[92m[10. 10. 15.  1. 20.  1.]\u001b[0m\t \u001b[1m\u001b[92m0.7169134935137329\u001b[0m\t \u001b[1m\u001b[92m0.7169134935137329\u001b[0m\t \u001b[1m\u001b[92m2.057106269438986\u001b[0m\t \u001b[1m\u001b[92m2.0571062687743944\u001b[0m\n",
            "17 \t [1.68476972 5.2908721  8.         0.92839616 1.         0.96471758]\t 0.7413177424377804\t 0.7169134935137329\t 2.0443497819675223\t 2.0443497819675223\n",
            "18 \t [ 1.11955444  5.11272894 10.          0.77604051 14.          0.40977672]\t 0.8088933131983232\t 0.7169134935137329\t 2.0448830087274494\t 2.0448830087274494\n",
            "19 \t [ 9.68760652  2.49858493  5.          0.84574421 13.          0.33692235]\t 0.8343379491664138\t 0.7169134935137329\t 2.05334532101529\t 2.05334532101529\n",
            "20 \t [ 5.68575652  2.73061603 14.          0.61811388 15.          0.91855302]\t 0.7533258737467465\t 0.7169134935137329\t 2.044554093624935\t 2.044554093624935\n",
            "21 \t [ 9.72376714  9.82517342 14.          0.96896704 10.          0.66715413]\t 0.7442263922491208\t 0.7169134935137329\t 2.0270966854249592\t 2.0270966854249592\n",
            "22 \t [ 3.42988222  3.60806268 11.          0.65919672 19.          0.15600267]\t 0.9354453567539931\t 0.7169134935137329\t 2.065035839263603\t 2.065035839263603\n",
            "23 \t [ 3.79839517  0.81425404  8.          0.93236393 16.          0.87681693]\t 0.7341701271899448\t 0.7169134935137329\t 2.065723905380278\t 2.065723905380278\n",
            "24 \t [ 5.98656396  7.70227623  6.          0.64278039 15.          0.68663896]\t 0.7664168903809953\t 0.7169134935137329\t 2.045900326742328\t 2.045900326742328\n",
            "25 \t [ 9.92106016  5.52981723 11.          0.80826141 13.          0.31322593]\t 0.8395642317808807\t 0.7169134935137329\t 2.0269995757413724\t 2.0269995757413724\n",
            "26 \t [ 1.03968583  3.49943563 14.          0.82879876  3.          0.98366866]\t 0.7500814347067293\t 0.7169134935137329\t 2.076107345459996\t 2.076107345459996\n",
            "27 \t [ 2.52136808  8.51741902 14.          0.89185963  6.          0.23066693]\t 0.9371270391052704\t 0.7169134935137329\t 2.0218608493899\t 2.0218608493899\n",
            "28 \t [0.         4.33689144 5.         0.5        7.4680486  0.1       ]\t 0.9390036619255046\t 0.7169134935137329\t 2.0456295142400562\t 2.0456295138524903\n",
            "29 \t [ 0.90304843  2.51853     6.          0.79766891 19.          0.81718316]\t 0.7555224179462046\t 0.7169134935137329\t 2.0742621007335713\t 2.0742621007335713\n",
            "30 \t [ 0.30133721  5.73727904  5.          0.67784984 14.          0.12921455]\t 0.9300980261926399\t 0.7169134935137329\t 2.0209341389117332\t 2.0209341389117332\n"
          ]
        },
        {
          "output_type": "execute_result",
          "data": {
            "text/plain": [
              "59912.05597064799"
            ]
          },
          "metadata": {},
          "execution_count": 42
        }
      ]
    },
    {
      "cell_type": "code",
      "metadata": {
        "id": "hrDQbChpZ48F",
        "colab": {
          "base_uri": "https://localhost:8080/"
        },
        "outputId": "57929394-b397-4797-e8aa-fcc3ccd9936f"
      },
      "source": [
        "### Bayesian optimization runs (x20): 'exact' Acquisition Function run number = 2 \n",
        "\n",
        "np.random.seed(run_num_2)\n",
        "surrogate_exact_2 = dtStudentProcess(cov_func, optimize=opt, nu = df)\n",
        "\n",
        "X_train2, X_test2, y_train2, y_test2 = train_test_split(X, y, test_size=test_perc, random_state=run_num_2)\n",
        "\n",
        "def f_syn_polarity2(alpha, gamma, max_depth, subsample, min_child_weight, colsample):\n",
        "    reg = XGBRegressor(reg_alpha=alpha, gamma=gamma, max_depth=int(max_depth), subsample=subsample, min_child_weight=min_child_weight,\n",
        "          colsample_bytree=colsample, n_estimators = n_est, random_state=run_num_2, objective = 'reg:squarederror')\n",
        "    score = np.array(cross_val_score(reg, X=X_train2, y=y_train2).mean())\n",
        "    return operator * score\n",
        "\n",
        "exact_2 = dGPGO(surrogate_exact_2, Acquisition_grad(util), f_syn_polarity2, param, n_jobs = -1) # Define BayesOpt\n",
        "exact_2.run(max_iter = max_iter, init_evals = n_init) # run\n",
        "\n",
        "### Return optimal parameters' set:\n",
        "params_exact_2 = exact_2.getResult()[0]\n",
        "params_exact_2['max_depth'] = int(params_exact_2['max_depth'])\n",
        "params_exact_2['min_child_weight'] = int(params_exact_2['min_child_weight'])\n",
        "\n",
        "### Re-train with optimal parameters, run predictons:\n",
        "dX_exact_train2 = xgb.DMatrix(X_train2, y_train2)\n",
        "dX_exact_test2 = xgb.DMatrix(X_test2, y_test2)\n",
        "model_exact_2 = xgb.train(params_exact_2, dX_exact_train2)\n",
        "pred_exact_2 = model_exact_2.predict(dX_exact_test2)\n",
        "\n",
        "rmse_exact_2 = np.sqrt(mean_squared_error(pred_exact_2, y_test2))\n",
        "rmse_exact_2"
      ],
      "execution_count": null,
      "outputs": [
        {
          "output_type": "stream",
          "name": "stdout",
          "text": [
            "Evaluation \t Proposed point \t  Current eval. \t  Best eval. \t         Max. ExactAcqFunc \t Max. ApproxAcqFunc \n",
            "init\t [ 4.35994902  0.25926232 11.          0.97386531 12.          0.47833102]\t 0.9157817005982263\t 0.8490988745111359\t    \t    \n",
            "init\t [ 3.30334821  2.04648634 10.          0.55997527  6.          0.71472339]\t 0.8517975125315337\t 0.8490988745111359\t    \t    \n",
            "init\t [ 4.9856117   5.86796978  8.          0.89266757 11.          0.59158659]\t 0.8490988745111359\t 0.8490988745111359\t    \t    \n",
            "init\t [ 4.07307832  1.76984624 13.          0.75262305  7.          0.35908193]\t 0.9839177202713774\t 0.8490988745111359\t    \t    \n",
            "init\t [ 1.16193318  1.81727038  9.          0.79837265 19.          0.29965165]\t 0.9688138526063573\t 0.8490988745111359\t    \t    \n",
            "\u001b[1m\u001b[92m1\u001b[0m\t \u001b[1m\u001b[92m[9.68290573 5.74953535 8.         0.93445831 2.         0.81872709]\u001b[0m\t \u001b[1m\u001b[92m0.7933779577878181\u001b[0m\t \u001b[1m\u001b[92m0.7933779577878181\u001b[0m\t \u001b[1m\u001b[92m2.2408382517887175\u001b[0m\t \u001b[1m\u001b[92m2.2408382517887175\u001b[0m\n",
            "\u001b[1m\u001b[92m2\u001b[0m\t \u001b[1m\u001b[92m[ 2.17907321  8.34965852  5.          0.91660625 18.          0.97349298]\u001b[0m\t \u001b[1m\u001b[92m0.7753470044170323\u001b[0m\t \u001b[1m\u001b[92m0.7753470044170323\u001b[0m\t \u001b[1m\u001b[92m2.194062867293257\u001b[0m\t \u001b[1m\u001b[92m2.194062867293257\u001b[0m\n",
            "3  \t [ 3.86971225  8.36249195 14.          0.65193715  2.          0.53564822]\t 0.876401110742202\t 0.7753470044170323\t 2.154412380190736\t 2.154412380190736\n",
            "4  \t [ 8.78180153  6.61060882 12.          0.91523653 18.          0.29687212]\t 0.9658206597269258\t 0.7753470044170323\t 2.1534543434559907\t 2.1534543434559907\n",
            "5  \t [ 1.04358891  9.72033478 14.          0.5859025  14.          0.459264  ]\t 0.9313569330212417\t 0.7753470044170323\t 2.1780670897689327\t 2.1780670897689327\n",
            "6  \t [ 9.90020282  3.3367177  10.          0.62203407  7.          0.71235234]\t 0.8411431281498688\t 0.7753470044170323\t 2.189631135917524\t 2.189631135917524\n",
            "7  \t [ 9.14946201  2.43697872  6.          0.997805   19.          0.45949208]\t 0.9164031394028719\t 0.7753470044170323\t 2.1772680516614784\t 2.1772680516614784\n",
            "8  \t [3.03571116 4.83939078 5.         0.66625528 1.         0.23130028]\t 1.0138871967237582\t 0.7753470044170323\t 2.182968639545565\t 2.182968639545565\n",
            "9  \t [ 9.24652802  2.85452625  6.          0.82083864 14.          0.624768  ]\t 0.8472224210855768\t 0.7753470044170323\t 2.2083212776265086\t 2.2083212776265086\n",
            "10 \t [ 0.27081994  8.72536784 13.          0.81607342  8.          0.82891087]\t 0.786526849407035\t 0.7753470044170323\t 2.199075140851604\t 2.199075140851604\n",
            "11 \t [4.59560507 9.66694693 5.         0.8652774  6.         0.90565092]\t 0.7793501597644426\t 0.7753470044170323\t 2.1817490264736157\t 2.1817490264736157\n",
            "12 \t [ 8.76507252  8.76898373 14.          0.51356786  6.          0.73624795]\t 0.8509923386963646\t 0.7753470044170323\t 2.1642674043022807\t 2.1642674043022807\n",
            "13 \t [ 6.62295179  6.77584978 14.          0.65936287 12.          0.50955919]\t 0.845219311359458\t 0.7753470044170323\t 2.1599576512904477\t 2.1599576512904477\n",
            "14 \t [ 1.44915477  0.14257847  6.          0.52441016 14.          0.6286643 ]\t 0.8437383195985765\t 0.7753470044170323\t 2.155708193282442\t 2.155708193282442\n",
            "15 \t [ 9.80429676  9.59801315  7.          0.61168386 14.          0.66107461]\t 0.8362874386261758\t 0.7753470044170323\t 2.1526168325183463\t 2.1526168325183463\n",
            "16 \t [ 3.79151097  4.0129324  10.          0.78656319  9.          0.57380624]\t 0.8479506527275633\t 0.7753470044170323\t 2.146702650746376\t 2.146702650746376\n",
            "17 \t [6.53156572 9.72376072 9.         0.51610543 1.         0.4929146 ]\t 0.9514823488789619\t 0.7753470044170323\t 2.140226425326149\t 2.140226425326149\n",
            "18 \t [ 3.19241925  2.91302128 11.          0.905155   18.          0.71674806]\t 0.812855948594331\t 0.7753470044170323\t 2.1751343253465993\t 2.1751343253465993\n",
            "19 \t [ 6.92673077  1.23845568 10.          0.63463476  8.          0.28240746]\t 0.9737154587401665\t 0.7753470044170323\t 2.1898371322969177\t 2.1898371322969177\n",
            "20 \t [ 2.26812476  6.7571478  13.          0.87941648  6.          0.30778351]\t 0.9759301877372604\t 0.7753470044170323\t 2.180770145314427\t 2.180770145314427\n",
            "21 \t [7.13284983 1.18470919 5.         0.63977211 3.         0.12223048]\t 1.0124277228121503\t 0.7753470044170323\t 2.178092993096979\t 2.178092993096979\n",
            "\u001b[1m\u001b[92m22\u001b[0m\t \u001b[1m\u001b[92m[ 5.73129906  9.2176475  11.          0.8835332   4.          0.9298239 ]\u001b[0m\t \u001b[1m\u001b[92m0.7642724935254156\u001b[0m\t \u001b[1m\u001b[92m0.7642724935254156\u001b[0m\t \u001b[1m\u001b[92m2.173417056560375\u001b[0m\t \u001b[1m\u001b[92m2.173417056560375\u001b[0m\n",
            "23 \t [8.76774335 2.47727368 5.         0.77895852 8.         0.95970784]\t 0.7783672057784645\t 0.7642724935254156\t 2.1910044460697216\t 2.1910044460697216\n",
            "24 \t [ 5.48814708  1.96120195 13.          0.89659682  1.          0.34125713]\t 0.9941403780835223\t 0.7642724935254156\t 2.2165636545507286\t 2.2165636545507286\n",
            "25 \t [ 9.70148981  3.84860271 14.          0.8648022   1.          0.77351018]\t 0.8176855829782234\t 0.7642724935254156\t 2.191713018699178\t 2.191713018699178\n",
            "26 \t [ 8.30471915  3.26072064 14.          0.69508376  6.          0.94564556]\t 0.7746854783898445\t 0.7642724935254156\t 2.16112441347076\t 2.16112441347076\n",
            "27 \t [ 8.92720117  4.31465286 13.          0.70553933  1.          0.75946259]\t 0.8184668279349161\t 0.7642724935254156\t 2.180851089549584\t 2.180851089549584\n",
            "28 \t [ 4.9644812   1.12270948  6.          0.71065886 17.          0.26866166]\t 0.9667438219230509\t 0.7642724935254156\t 2.1908803773721877\t 2.1908803773721877\n",
            "29 \t [ 5.98509126  0.06989145 14.          0.5561472  16.          0.1874862 ]\t 1.0105701333726524\t 0.7642724935254156\t 2.173706966222696\t 2.173706966222696\n",
            "\u001b[1m\u001b[92m30\u001b[0m\t \u001b[1m\u001b[92m[5.55301534 4.43776121 9.         0.77874612 6.         0.99491253]\u001b[0m\t \u001b[1m\u001b[92m0.7585656248465545\u001b[0m\t \u001b[1m\u001b[92m0.7585656248465545\u001b[0m\t \u001b[1m\u001b[92m2.1756797684067197\u001b[0m\t \u001b[1m\u001b[92m2.1756797684067197\u001b[0m\n"
          ]
        },
        {
          "output_type": "execute_result",
          "data": {
            "text/plain": [
              "62513.455753809474"
            ]
          },
          "metadata": {},
          "execution_count": 43
        }
      ]
    },
    {
      "cell_type": "code",
      "metadata": {
        "id": "HpUPyXRfZ95Y",
        "colab": {
          "base_uri": "https://localhost:8080/"
        },
        "outputId": "8023439c-35b2-448d-ae46-699d877fe242"
      },
      "source": [
        "### Bayesian optimization runs (x20): 'exact' Acquisition Function run number = 3 \n",
        "\n",
        "np.random.seed(run_num_3)\n",
        "surrogate_exact_3 = dtStudentProcess(cov_func, optimize=opt, nu = df)\n",
        "\n",
        "X_train3, X_test3, y_train3, y_test3 = train_test_split(X, y, test_size=test_perc, random_state=run_num_3)\n",
        "\n",
        "def f_syn_polarity3(alpha, gamma, max_depth, subsample, min_child_weight, colsample):\n",
        "    reg = XGBRegressor(reg_alpha=alpha, gamma=gamma, max_depth=int(max_depth), subsample=subsample, min_child_weight=min_child_weight,\n",
        "          colsample_bytree=colsample, n_estimators = n_est, random_state=run_num_3, objective = 'reg:squarederror')\n",
        "    score = np.array(cross_val_score(reg, X=X_train3, y=y_train3).mean())\n",
        "    return operator * score\n",
        "\n",
        "exact_3 = dGPGO(surrogate_exact_3, Acquisition_grad(util), f_syn_polarity3, param, n_jobs = -1) # Define BayesOpt\n",
        "exact_3.run(max_iter = max_iter, init_evals = n_init) # run\n",
        "\n",
        "### Return optimal parameters' set:\n",
        "params_exact_3 = exact_3.getResult()[0]\n",
        "params_exact_3['max_depth'] = int(params_exact_3['max_depth'])\n",
        "params_exact_3['min_child_weight'] = int(params_exact_3['min_child_weight'])\n",
        "\n",
        "### Re-train with optimal parameters, run predictons:\n",
        "dX_exact_train3 = xgb.DMatrix(X_train3, y_train3)\n",
        "dX_exact_test3 = xgb.DMatrix(X_test3, y_test3)\n",
        "model_exact_3 = xgb.train(params_exact_3, dX_exact_train3)\n",
        "pred_exact_3 = model_exact_3.predict(dX_exact_test3)\n",
        "\n",
        "rmse_exact_3 = np.sqrt(mean_squared_error(pred_exact_3, y_test3))\n",
        "rmse_exact_3"
      ],
      "execution_count": null,
      "outputs": [
        {
          "output_type": "stream",
          "name": "stdout",
          "text": [
            "Evaluation \t Proposed point \t  Current eval. \t  Best eval. \t         Max. ExactAcqFunc \t Max. ApproxAcqFunc \n",
            "init\t [ 5.50797903  7.08147823 13.          0.56066429 11.          0.11687321]\t 1.1001019572672721\t 0.8205570570239384\t    \t    \n",
            "init\t [ 0.40630737  2.47888297 11.          0.72040492 13.          0.23083313]\t 1.0968690738660336\t 0.8205570570239384\t    \t    \n",
            "init\t [ 4.53172301  2.15577008 11.          0.74631796  2.          0.60296868]\t 0.8205570570239384\t 0.8205570570239384\t    \t    \n",
            "init\t [ 2.59252447  4.15101197 13.          0.79330998  8.          0.24118096]\t 1.0984076753833096\t 0.8205570570239384\t    \t    \n",
            "init\t [ 5.44649018  7.80314765 10.          0.62879264 18.          0.44917413]\t 0.8540219347978375\t 0.8205570570239384\t    \t    \n",
            "1  \t [ 4.57686399  8.60533913  5.          0.93553602 12.          0.35017976]\t 0.9512274503921789\t 0.8205570570239384\t 2.454997968826473\t 2.454997968826473\n",
            "\u001b[1m\u001b[92m2\u001b[0m\t \u001b[1m\u001b[92m[7.88832343 8.95739531 8.         0.70911141 2.         0.87634458]\u001b[0m\t \u001b[1m\u001b[92m0.7895041269186838\u001b[0m\t \u001b[1m\u001b[92m0.7895041269186838\u001b[0m\t \u001b[1m\u001b[92m2.43461252835336\u001b[0m\t \u001b[1m\u001b[92m2.43461252835336\u001b[0m\n",
            "3  \t [ 7.14373713  1.70610778 14.          0.94742469 18.          0.35591579]\t 0.9478145119172483\t 0.7895041269186838\t 2.36956840274928\t 2.36956840274928\n",
            "4  \t [ 6.69378835  1.1746468   5.          0.75549171 16.          0.73450657]\t 0.8217725728652645\t 0.7895041269186838\t 2.3636331466556078\t 2.3636331466556078\n",
            "5  \t [3.68953475 2.95525094 5.         0.6894371  8.         0.99869195]\t 0.8091874020092732\t 0.7895041269186838\t 2.327276803431117\t 2.327276803431117\n",
            "\u001b[1m\u001b[92m6\u001b[0m\t \u001b[1m\u001b[92m[ 9.38211354  3.47231385 15.          1.          4.95430495  1.        ]\u001b[0m\t \u001b[1m\u001b[92m0.7620711289257129\u001b[0m\t \u001b[1m\u001b[92m0.7620711289257129\u001b[0m\t \u001b[1m\u001b[92m2.2950966002845674\u001b[0m\t \u001b[1m\u001b[92m2.295096600284271\u001b[0m\n",
            "7  \t [ 3.68924224  9.6905718  14.          0.91448213  3.          0.32581963]\t 0.9651229097274324\t 0.7620711289257129\t 2.259508962711073\t 2.259508962711073\n",
            "8  \t [1.32710451 9.31408284 5.         0.83446011 3.         0.89210195]\t 0.796242029206685\t 0.7620711289257129\t 2.268403759748836\t 2.268403759748836\n",
            "\u001b[1m\u001b[92m9\u001b[0m\t \u001b[1m\u001b[92m[10. 10. 15.  1. 20.  1.]\u001b[0m\t \u001b[1m\u001b[92m0.7606787408223734\u001b[0m\t \u001b[1m\u001b[92m0.7606787408223734\u001b[0m\t \u001b[1m\u001b[92m2.24553859009747\u001b[0m\t \u001b[1m\u001b[92m2.245538590095091\u001b[0m\n",
            "10 \t [ 8.77606832  6.32160473  5.          0.71489692 18.          0.76442589]\t 0.8083681579816849\t 0.7606787408223734\t 2.220419928656097\t 2.220419928656097\n",
            "11 \t [ 3.53262431  2.07514765  7.          0.93520802 15.          0.4184813 ]\t 0.8494175289417161\t 0.7606787408223734\t 2.2051997770937137\t 2.2051997770937137\n",
            "12 \t [ 7.36281279  7.66763777  8.          0.59948159 13.          0.98370581]\t 0.7986988788225304\t 0.7606787408223734\t 2.197639828329204\t 2.197639828329204\n",
            "13 \t [ 6.1126819   0.33369181 12.          0.91661864 13.          0.98011882]\t 0.7796357929155879\t 0.7606787408223734\t 2.1841653829951846\t 2.1841653829951846\n",
            "14 \t [ 9.85636221  3.89791593  9.          0.61925349 14.          0.90156475]\t 0.7917903727359957\t 0.7606787408223734\t 2.1698881632479607\t 2.1698881632479607\n",
            "15 \t [ 3.16495907  6.4145149  13.          0.75645197  1.          0.86589234]\t 0.7960488809683199\t 0.7606787408223734\t 2.1582937481413027\t 2.1582937481413027\n",
            "16 \t [ 4.66948753  0.78814602 10.          0.955043   17.          0.2188467 ]\t 1.0962260054583457\t 0.7606787408223734\t 2.1476064985890093\t 2.1476064985890093\n",
            "17 \t [0.  0.  5.  0.5 1.  0.1]\t 1.1064376925879174\t 0.7606787408223734\t 2.174414331784249\t 2.1744143317835185\n",
            "18 \t [9.83745664 3.68679807 9.         0.98607907 6.         0.93173856]\t 0.7756756393931181\t 0.7606787408223734\t 2.2100435023109957\t 2.2100435023109957\n",
            "19 \t [ 0.59117942  7.04764364 14.          0.92579676 15.          0.40983297]\t 0.8394856040419147\t 0.7606787408223734\t 2.2141162964096117\t 2.2141162964096117\n",
            "20 \t [ 1.06084272  8.60821489 11.          0.60672694  9.          0.40602348]\t 0.858441552538079\t 0.7606787408223734\t 2.1868866109409466\t 2.1868866109409466\n",
            "21 \t [7.41515841 0.52199956 6.         0.81915682 2.         0.1036162 ]\t 1.0958279039515493\t 0.7606787408223734\t 2.181688617965266\t 2.181688617965266\n",
            "22 \t [ 2.77110475  0.35980325 10.          0.77088835  9.          0.78161047]\t 0.7823446501963255\t 0.7606787408223734\t 2.1904718290053338\t 2.1904718290053338\n",
            "23 \t [ 9.71610686  2.88363039 10.          0.71373353  2.          0.42833271]\t 0.8627583512307193\t 0.7606787408223734\t 2.237343450927971\t 2.237343450927971\n",
            "24 \t [ 1.7900993   9.8557373   9.          0.54156619 14.          0.32411954]\t 0.9453686001403527\t 0.7606787408223734\t 2.2187067060574277\t 2.2187067060574277\n",
            "25 \t [ 3.76231631  7.22695293  6.          0.99331542 15.          0.98845508]\t 0.7859921669897617\t 0.7606787408223734\t 2.2197054006047687\t 2.2197054006047687\n",
            "26 \t [ 2.54357797  2.17286037  5.          0.86076647 19.          0.34653218]\t 0.948271787886277\t 0.7606787408223734\t 2.1993845434566897\t 2.1993845434566897\n",
            "27 \t [ 9.34898446  5.34322646 13.          0.67871499  9.          0.59530523]\t 0.814738168073687\t 0.7606787408223734\t 2.1930040918076257\t 2.1930040918076257\n",
            "28 \t [ 9.01763405  8.9342346  11.          0.78253186 14.          0.5899614 ]\t 0.8008497075757127\t 0.7606787408223734\t 2.202631088723548\t 2.202631088723548\n",
            "29 \t [ 8.92640491  5.86829423 11.          0.69146564 16.          0.20693725]\t 1.095967263497375\t 0.7606787408223734\t 2.1814965748036665\t 2.1814965748036665\n",
            "30 \t [ 0.          4.92224551  5.          0.5        11.03206467  0.1       ]\t 1.1054659760615333\t 0.7606787408223734\t 2.2180248090491648\t 2.2180248090491648\n"
          ]
        },
        {
          "output_type": "execute_result",
          "data": {
            "text/plain": [
              "58928.58695808786"
            ]
          },
          "metadata": {},
          "execution_count": 44
        }
      ]
    },
    {
      "cell_type": "code",
      "metadata": {
        "id": "SKX_nfEaaAwm",
        "colab": {
          "base_uri": "https://localhost:8080/"
        },
        "outputId": "d7f7fdf7-c443-4c89-b3dc-97c7cf18c3ce"
      },
      "source": [
        "### Bayesian optimization runs (x20): 'exact' Acquisition Function run number = 4 \n",
        "\n",
        "np.random.seed(run_num_4)\n",
        "surrogate_exact_4 = dtStudentProcess(cov_func, optimize=opt, nu = df)\n",
        "\n",
        "X_train4, X_test4, y_train4, y_test4 = train_test_split(X, y, test_size=test_perc, random_state=run_num_4)\n",
        "\n",
        "def f_syn_polarity4(alpha, gamma, max_depth, subsample, min_child_weight, colsample):\n",
        "    reg = XGBRegressor(reg_alpha=alpha, gamma=gamma, max_depth=int(max_depth), subsample=subsample, min_child_weight=min_child_weight,\n",
        "          colsample_bytree=colsample, n_estimators = n_est, random_state=run_num_4, objective = 'reg:squarederror')\n",
        "    score = np.array(cross_val_score(reg, X=X_train4, y=y_train4).mean())\n",
        "    return operator * score\n",
        "\n",
        "exact_4 = dGPGO(surrogate_exact_4, Acquisition_grad(util), f_syn_polarity4, param, n_jobs = -1) # Define BayesOpt\n",
        "exact_4.run(max_iter = max_iter, init_evals = n_init) # run\n",
        "\n",
        "### Return optimal parameters' set:\n",
        "params_exact_4 = exact_4.getResult()[0]\n",
        "params_exact_4['max_depth'] = int(params_exact_4['max_depth'])\n",
        "params_exact_4['min_child_weight'] = int(params_exact_4['min_child_weight'])\n",
        "\n",
        "### Re-train with optimal parameters, run predictons:\n",
        "dX_exact_train4 = xgb.DMatrix(X_train4, y_train4)\n",
        "dX_exact_test4 = xgb.DMatrix(X_test4, y_test4)\n",
        "model_exact_4 = xgb.train(params_exact_4, dX_exact_train4)\n",
        "pred_exact_4 = model_exact_4.predict(dX_exact_test4)\n",
        "\n",
        "rmse_exact_4 = np.sqrt(mean_squared_error(pred_exact_4, y_test4))\n",
        "rmse_exact_4"
      ],
      "execution_count": null,
      "outputs": [
        {
          "output_type": "stream",
          "name": "stdout",
          "text": [
            "Evaluation \t Proposed point \t  Current eval. \t  Best eval. \t         Max. ExactAcqFunc \t Max. ApproxAcqFunc \n",
            "init\t [9.67029839 5.47232249 6.         0.92781047 9.         0.72795594]\t 0.7650622398140196\t 0.7505823286451517\t    \t    \n",
            "init\t [ 2.16089496  9.76274455 12.          0.62649118  9.          0.66966679]\t 0.7710732234684645\t 0.7505823286451517\t    \t    \n",
            "init\t [ 0.05159149  5.72356491  9.          0.99170034 10.          0.10808749]\t 1.127900018061083\t 0.7505823286451517\t    \t    \n",
            "init\t [ 3.86571283  0.44160058 10.          0.90553105 18.          0.95407958]\t 0.7505823286451517\t 0.7505823286451517\t    \t    \n",
            "init\t [ 7.86305986  8.66289299  6.          0.53285477 14.          0.25117497]\t 0.9579573664970923\t 0.7505823286451517\t    \t    \n",
            "1  \t [ 8.45443649  8.61014312 11.          0.83475494  1.          0.14018305]\t 1.1269429525174437\t 0.7505823286451517\t 2.172488707589866\t 2.172488707589866\n",
            "2  \t [ 8.38710697  4.03810262 13.          0.67620396  7.          0.21955781]\t 1.129364536434021\t 0.7505823286451517\t 2.2810281440506026\t 2.2810281440506026\n",
            "3  \t [ 1.20931261  6.80689034  9.          0.92011951 17.          0.30723956]\t 0.9481459007646673\t 0.7505823286451517\t 2.3564908106447207\t 2.3564908106447207\n",
            "\u001b[1m\u001b[92m4\u001b[0m\t \u001b[1m\u001b[92m[10. 10. 15.  1. 20.  1.]\u001b[0m\t \u001b[1m\u001b[92m0.7390767332328787\u001b[0m\t \u001b[1m\u001b[92m0.7390767332328787\u001b[0m\t \u001b[1m\u001b[92m2.352266139305327\u001b[0m\t \u001b[1m\u001b[92m2.3522661393053252\u001b[0m\n",
            "5  \t [ 0.13337167  3.07677647 14.          0.92270334  2.          0.56046161]\t 0.8000318918792028\t 0.7390767332328787\t 2.2983716363027114\t 2.2983716363027114\n",
            "6  \t [ 9.52993971  0.33702013  5.          0.64331783 18.          0.12071935]\t 1.1223174585019604\t 0.7390767332328787\t 2.2667800222611936\t 2.2667800222611936\n",
            "7  \t [3.21596988 8.94366669 5.         0.67472534 1.         0.78039064]\t 0.8044591218487582\t 0.7390767332328787\t 2.3147850739972946\t 2.3147850739972946\n",
            "8  \t [3.86538132 1.78391589 5.         0.96297978 2.         0.70393647]\t 0.7748418973051396\t 0.7390767332328787\t 2.2880744762488114\t 2.2880744762488114\n",
            "9  \t [ 1.97079875  0.96080673  5.          0.5        10.72773895  0.1       ]\t 1.1245923263468325\t 0.7390767332328787\t 2.260459306542683\t 2.2604593063034373\n",
            "10 \t [ 5.47785092  4.8461481  12.          0.74846659 14.          0.61206304]\t 0.7921662259989626\t 0.7390767332328787\t 2.2992796231214543\t 2.2992796231214543\n",
            "11 \t [ 5.06567259  4.87282999  5.          0.59003814 19.          0.62670426]\t 0.7888998363236649\t 0.7390767332328787\t 2.277125209408427\t 2.277125209408427\n",
            "12 \t [ 8.48843563  0.37785156 11.          0.83297408  1.          0.855572  ]\t 0.7753874640601797\t 0.7390767332328787\t 2.257118229882666\t 2.257118229882666\n",
            "13 \t [5.41940497 6.70882549 9.         0.99013864 7.         0.63280624]\t 0.7522125424094087\t 0.7390767332328787\t 2.2376477122707037\t 2.2376477122707037\n",
            "14 \t [ 0.47145304  0.11052975 10.          0.74955468  5.          0.36826877]\t 0.9684325669247101\t 0.7390767332328787\t 2.217819868950215\t 2.217819868950215\n",
            "15 \t [9.41541409 7.69245319 5.         0.52626745 1.         0.60186246]\t 0.8233136201842758\t 0.7390767332328787\t 2.225908830787058\t 2.225908830787058\n",
            "16 \t [ 0.80375748  9.80230841 13.          0.51143288  3.          0.52476587]\t 0.8149535786447991\t 0.7390767332328787\t 2.216131447189672\t 2.216131447189672\n",
            "17 \t [ 4.21251381  9.34883611  7.          0.86607935 10.          0.51599279]\t 0.7903972753988527\t 0.7390767332328787\t 2.2060910499664295\t 2.2060910499664295\n",
            "18 \t [ 8.65389242  8.53460313 10.          0.87527068 19.          0.43097904]\t 0.8463094804164143\t 0.7390767332328787\t 2.2088736193339535\t 2.2088736193339535\n",
            "19 \t [ 2.28250676  8.57781075 10.          0.71780124 12.          0.3772521 ]\t 0.8627736627545619\t 0.7390767332328787\t 2.1971487260811884\t 2.1971487260811884\n",
            "20 \t [ 7.39797184  8.7826296  13.          0.53377308 19.          0.69293054]\t 0.7675713222438754\t 0.7390767332328787\t 2.195864621118418\t 2.195864621118418\n",
            "21 \t [ 9.42045232  0.07633595 10.          0.83414481 16.          0.95927957]\t 0.7631908978724775\t 0.7390767332328787\t 2.194484587827092\t 2.194484587827092\n",
            "22 \t [ 0.34343537  0.75830465 14.          0.57372847 18.          0.51234475]\t 0.7987111680789081\t 0.7390767332328787\t 2.185780984318669\t 2.185780984318669\n",
            "23 \t [4.54498845 4.73987501 6.         0.7658368  6.         0.15012886]\t 1.1250394819981728\t 0.7390767332328787\t 2.159584636223236\t 2.159584636223236\n",
            "24 \t [5.87233788 6.93253231 8.         0.71079844 3.         0.57913783]\t 0.7993682157943708\t 0.7390767332328787\t 2.191699326566335\t 2.191699326566335\n",
            "25 \t [9.14387233 8.82409497 7.         0.87227821 8.         0.52464991]\t 0.7895388146683674\t 0.7390767332328787\t 2.183779815876009\t 2.183779815876009\n",
            "26 \t [3.60524491 1.19236957 9.         0.73012056 6.         0.89243922]\t 0.7693194850407705\t 0.7390767332328787\t 2.1885502215578305\t 2.1885502215578305\n",
            "27 \t [ 2.49277017  9.71877294 14.          0.64108163 15.          0.60597318]\t 0.7952784503557797\t 0.7390767332328787\t 2.1569841344950906\t 2.1569841942140244\n",
            "28 \t [ 4.9443456   1.81977701  9.          0.87916915 11.          0.45115718]\t 0.8513052915134098\t 0.7390767332328787\t 2.153314335091736\t 2.153314335091736\n",
            "29 \t [ 8.18178764  9.98869521 14.          0.83418368 10.          0.41151726]\t 0.8537499901780559\t 0.7390767332328787\t 2.144464351462586\t 2.144464351462586\n",
            "30 \t [ 9.17303226  5.74079031 12.          0.94675996 18.          0.70963979]\t 0.7558697441758776\t 0.7390767332328787\t 2.1482945672682154\t 2.1482945672682154\n"
          ]
        },
        {
          "output_type": "execute_result",
          "data": {
            "text/plain": [
              "61483.87023567407"
            ]
          },
          "metadata": {},
          "execution_count": 45
        }
      ]
    },
    {
      "cell_type": "code",
      "metadata": {
        "id": "PJmI9saAaEG1",
        "colab": {
          "base_uri": "https://localhost:8080/"
        },
        "outputId": "2a870e9e-185f-40ff-e57c-02c433e7bf14"
      },
      "source": [
        "### Bayesian optimization runs (x20): 'exact' Acquisition Function run number = 5 \n",
        "\n",
        "np.random.seed(run_num_5)\n",
        "surrogate_exact_5 = dtStudentProcess(cov_func, optimize=opt, nu = df)\n",
        "\n",
        "X_train5, X_test5, y_train5, y_test5 = train_test_split(X, y, test_size=test_perc, random_state=run_num_5)\n",
        "\n",
        "def f_syn_polarity5(alpha, gamma, max_depth, subsample, min_child_weight, colsample):\n",
        "    reg = XGBRegressor(reg_alpha=alpha, gamma=gamma, max_depth=int(max_depth), subsample=subsample, min_child_weight=min_child_weight,\n",
        "          colsample_bytree=colsample, n_estimators = n_est, random_state=run_num_5, objective = 'reg:squarederror')\n",
        "    score = np.array(cross_val_score(reg, X=X_train5, y=y_train5).mean())\n",
        "    return operator * score\n",
        "\n",
        "exact_5 = dGPGO(surrogate_exact_5, Acquisition_grad(util), f_syn_polarity5, param, n_jobs = -1) # Define BayesOpt\n",
        "exact_5.run(max_iter = max_iter, init_evals = n_init) # run\n",
        "\n",
        "### Return optimal parameters' set:\n",
        "params_exact_5 = exact_5.getResult()[0]\n",
        "params_exact_5['max_depth'] = int(params_exact_5['max_depth'])\n",
        "params_exact_5['min_child_weight'] = int(params_exact_5['min_child_weight'])\n",
        "\n",
        "### Re-train with optimal parameters, run predictons:\n",
        "dX_exact_train5 = xgb.DMatrix(X_train5, y_train5)\n",
        "dX_exact_test5 = xgb.DMatrix(X_test5, y_test5)\n",
        "model_exact_5 = xgb.train(params_exact_5, dX_exact_train5)\n",
        "pred_exact_5 = model_exact_5.predict(dX_exact_test5)\n",
        "\n",
        "rmse_exact_5 = np.sqrt(mean_squared_error(pred_exact_5, y_test5))\n",
        "rmse_exact_5"
      ],
      "execution_count": null,
      "outputs": [
        {
          "output_type": "stream",
          "name": "stdout",
          "text": [
            "Evaluation \t Proposed point \t  Current eval. \t  Best eval. \t         Max. ExactAcqFunc \t Max. ApproxAcqFunc \n",
            "init\t [ 2.21993171  8.70732306 11.          0.68186845 10.          0.53957007]\t 0.7978949387548113\t 0.7689238087022429\t    \t    \n",
            "init\t [ 6.11743863  7.65907856  5.          0.64840025 16.          0.82745351]\t 0.7689238087022429\t 0.7689238087022429\t    \t    \n",
            "init\t [ 6.49458883  8.19472793  6.          0.93996852 19.          0.36647194]\t 0.9009085979032214\t 0.7689238087022429\t    \t    \n",
            "init\t [ 6.28787909  5.7983781   6.          0.63290956 17.          0.18402673]\t 0.9616956128686873\t 0.7689238087022429\t    \t    \n",
            "init\t [8.26554249 8.33492742 9.         0.97900675 3.         0.26957319]\t 0.8968042534595716\t 0.7689238087022429\t    \t    \n",
            "1  \t [1.95474956 1.21548467 5.         0.65548996 6.         0.3261206 ]\t 0.9141640599232991\t 0.7689238087022429\t 2.100776250156438\t 2.100776250156438\n",
            "2  \t [ 3.90043826  0.30059527 11.          0.95660877 13.          0.16396145]\t 0.9657302753232895\t 0.7689238087022429\t 2.1244796478265466\t 2.1244796478265466\n",
            "3  \t [ 1.89102498  3.81201457 14.          0.79693323  4.          0.52365093]\t 0.7975878945767783\t 0.7689238087022429\t 2.1605651654004965\t 2.1605651654004965\n",
            "4  \t [ 8.98063632  2.97885127  9.          0.64249728 18.          0.16342995]\t 0.961106002845105\t 0.7689238087022429\t 2.1517045824079677\t 2.1517045824079677\n",
            "5  \t [ 7.2080363   0.14020863 14.          0.70262402  1.          0.81354205]\t 0.7812267618464406\t 0.7689238087022429\t 2.1611593729592995\t 2.1611593729592995\n",
            "\u001b[1m\u001b[92m6\u001b[0m\t \u001b[1m\u001b[92m[10.          9.03641768 14.65409711  1.         20.          1.        ]\u001b[0m\t \u001b[1m\u001b[92m0.6983890373172288\u001b[0m\t \u001b[1m\u001b[92m0.6983890373172288\u001b[0m\t \u001b[1m\u001b[92m2.1376945347178102\u001b[0m\t \u001b[1m\u001b[92m2.1376945347178054\u001b[0m\n",
            "7  \t [4.37003348 9.87890289 5.         0.65374913 7.         0.62009063]\t 0.8037187246418197\t 0.6983890373172288\t 2.102462884325164\t 2.102462884325164\n",
            "8  \t [ 2.68679241  7.25440098 14.          0.65390023 17.          0.99358304]\t 0.7060994227407983\t 0.6983890373172288\t 2.0916421163952466\t 2.0916421163952466\n",
            "9  \t [ 9.58792626  8.48977785 13.          0.60628176  9.          0.18518956]\t 0.9684252162072007\t 0.6983890373172288\t 2.0660901652977364\t 2.0660901652977364\n",
            "10 \t [ 6.97752806  2.98678749 10.          0.57146948  7.          0.9882264 ]\t 0.7212789829160808\t 0.6983890373172288\t 2.0894047786545102\t 2.0894047786545102\n",
            "11 \t [ 9.88162042  4.98501997  7.          0.71514689 11.          0.88825005]\t 0.7056574853508757\t 0.6983890373172288\t 2.0694463030463495\t 2.0694463030463495\n",
            "12 \t [ 1.24947698  9.04398434 11.          0.51619206  1.          0.25149054]\t 0.9331322232390008\t 0.6983890373172288\t 2.049814713748942\t 2.049814713748942\n",
            "13 \t [4.29434972 2.01082809 8.         0.64047641 1.         0.68777935]\t 0.7751802690627648\t 0.6983890373172288\t 2.064209494918098\t 2.064209494918098\n",
            "14 \t [ 1.11650089  3.46881603  5.          0.5        14.50688452  0.1       ]\t 0.9778942269589141\t 0.6983890373172288\t 2.0550572507772467\t 2.055057242168422\n",
            "15 \t [ 1.02937954  1.87162456 12.          0.80403735 18.          0.49076122]\t 0.8576329235456368\t 0.6983890373172288\t 2.081790131645396\t 2.081790131645396\n",
            "16 \t [ 9.85923825  0.4401096  14.          0.51176114 16.          0.65114761]\t 0.7533251062217909\t 0.6983890373172288\t 2.0825896079113635\t 2.0825896079113635\n",
            "17 \t [ 1.11081165  8.62779853  7.          0.59553888 14.          0.69059047]\t 0.7623637251493264\t 0.6983890373172288\t 2.0679151709784493\t 2.0679151709784493\n",
            "18 \t [ 5.89128049  7.40217342 14.          0.90594716 12.          0.81399699]\t 0.7392403034948584\t 0.6983890373172288\t 2.128916493050646\t 2.128916493050646\n",
            "19 \t [ 7.38101511  7.5533833  14.          0.66040085  5.          0.11249251]\t 0.9703863182337837\t 0.6983890373172288\t 2.0445894676509115\t 2.0445894676509115\n",
            "20 \t [ 2.93448298  5.80717368  5.          0.89608154 19.          0.6387738 ]\t 0.7650562704693341\t 0.6983890373172288\t 2.108844129679199\t 2.108844129679199\n",
            "21 \t [ 3.87687792  9.24471285 10.          0.79467506 14.          0.58974564]\t 0.7875791905388638\t 0.6983890373172288\t 2.0866071648888966\t 2.0866071648888966\n",
            "22 \t [ 5.47781498  1.88597438 13.          0.63648698 17.          0.7577705 ]\t 0.7546482695497708\t 0.6983890373172288\t 2.061245596040872\t 2.061245596040872\n",
            "23 \t [ 0.14337166  3.83051228 13.          0.67084469 13.          0.27589041]\t 0.8967844079175256\t 0.6983890373172288\t 2.0965644701758985\t 2.0965644701758985\n",
            "24 \t [0.  0.  5.  0.5 1.  0.1]\t 0.9827144549301592\t 0.6983890373172288\t 2.041387909001103\t 2.041387740434957\n",
            "25 \t [ 2.60956706  4.4745251   9.          0.69330349 17.          0.83988084]\t 0.7495093963493484\t 0.6983890373172288\t 2.06949499489622\t 2.06949499489622\n",
            "26 \t [ 0.65904826  3.00639193 10.          0.88267232 10.          0.15011078]\t 0.9700037688440479\t 0.6983890373172288\t 2.062958301651588\t 2.062958301651588\n",
            "\u001b[1m\u001b[92m27\u001b[0m\t \u001b[1m\u001b[92m[10.          3.40672791 13.3162631   1.         20.          1.        ]\u001b[0m\t \u001b[1m\u001b[92m0.6983890373172288\u001b[0m\t \u001b[1m\u001b[92m0.6983890373172288\u001b[0m\t \u001b[1m\u001b[92m2.0647623072478156\u001b[0m\t \u001b[1m\u001b[92m2.0647624092217947\u001b[0m\n",
            "28 \t [ 8.6598151   9.62485551  8.          0.71851231 16.          0.71522574]\t 0.7558432662300643\t 0.6983890373172288\t 2.102115378846291\t 2.102115378846291\n",
            "29 \t [ 9.89240609  4.6385061   5.          0.77405056 16.          0.99983452]\t 0.7196023005131863\t 0.6983890373172288\t 2.043474043519125\t 2.043474043519125\n",
            "30 \t [ 8.55559253  4.94249956 11.          0.67446396 14.          0.51868623]\t 0.7936075541396469\t 0.6983890373172288\t 2.0946697235274554\t 2.0946697235274554\n"
          ]
        },
        {
          "output_type": "execute_result",
          "data": {
            "text/plain": [
              "60233.74257293607"
            ]
          },
          "metadata": {},
          "execution_count": 46
        }
      ]
    },
    {
      "cell_type": "code",
      "metadata": {
        "id": "ulhEolsxaG4k",
        "colab": {
          "base_uri": "https://localhost:8080/"
        },
        "outputId": "047ce2e6-ecf1-4c06-a928-c3d0593682db"
      },
      "source": [
        "### Bayesian optimization runs (x20): 'exact' Acquisition Function run number = 6 \n",
        "\n",
        "np.random.seed(run_num_6)\n",
        "surrogate_exact_6 = dtStudentProcess(cov_func, optimize=opt, nu = df)\n",
        "\n",
        "X_train6, X_test6, y_train6, y_test6 = train_test_split(X, y, test_size=test_perc, random_state=run_num_6)\n",
        "\n",
        "def f_syn_polarity6(alpha, gamma, max_depth, subsample, min_child_weight, colsample):\n",
        "    reg = XGBRegressor(reg_alpha=alpha, gamma=gamma, max_depth=int(max_depth), subsample=subsample, min_child_weight=int(min_child_weight),\n",
        "          colsample_bytree=colsample, n_estimators = n_est, random_state=run_num_6, objective = 'reg:squarederror', eval_metric = 'rmse')\n",
        "    score = np.array(cross_val_score(reg, X=X_train6, y=y_train6).mean())\n",
        "    return operator * score\n",
        "\n",
        "exact_6 = dGPGO(surrogate_exact_6, Acquisition_grad(util), f_syn_polarity6, param, n_jobs = -1) # Define BayesOpt\n",
        "exact_6.run(max_iter = max_iter, init_evals = n_init) # run\n",
        "\n",
        "### Return optimal parameters' set:\n",
        "params_exact_6 = exact_6.getResult()[0]\n",
        "params_exact_6['max_depth'] = int(params_exact_6['max_depth'])\n",
        "params_exact_6['min_child_weight'] = int(params_exact_6['min_child_weight'])\n",
        "\n",
        "### Re-train with optimal parameters, run predictons:\n",
        "dX_exact_train6 = xgb.DMatrix(X_train6, y_train6)\n",
        "dX_exact_test6 = xgb.DMatrix(X_test6, y_test6)\n",
        "model_exact_6 = xgb.train(params_exact_6, dX_exact_train6)\n",
        "pred_exact_6 = model_exact_6.predict(dX_exact_test6)\n",
        "\n",
        "rmse_exact_6 = np.sqrt(mean_squared_error(pred_exact_6, y_test6))\n",
        "rmse_exact_6"
      ],
      "execution_count": null,
      "outputs": [
        {
          "output_type": "stream",
          "name": "stdout",
          "text": [
            "Evaluation \t Proposed point \t  Current eval. \t  Best eval. \t         Max. ExactAcqFunc \t Max. ApproxAcqFunc \n",
            "init\t [8.92860151 3.31979805 5.         0.99251441 2.         0.57683563]\t 0.8708842589582968\t 0.8009237324889021\t    \t    \n",
            "init\t [4.18807429 3.35407849 9.         0.87750649 3.         0.56623277]\t 0.868843701878103\t 0.8009237324889021\t    \t    \n",
            "init\t [ 5.788586    6.45355096 14.          0.70660047 12.          0.82154882]\t 0.8009237324889021\t 0.8009237324889021\t    \t    \n",
            "init\t [4.58184578 6.73834679 5.         0.90108528 3.         0.65482895]\t 0.8412285708806564\t 0.8009237324889021\t    \t    \n",
            "init\t [ 4.42510505  5.75952352 14.          0.97882365 15.          0.29525604]\t 1.0874405633037085\t 0.8009237324889021\t    \t    \n",
            "1  \t [ 2.83859384  1.8954219   7.          0.66740302 13.          0.2701964 ]\t 1.077285755760575\t 0.8009237324889021\t 2.2018110870407317\t 2.2018110870407317\n",
            "2  \t [ 8.38264396  7.97650716 14.          0.82584689  4.          0.25017455]\t 1.1030510584286708\t 0.8009237324889021\t 2.2804651437580095\t 2.2804651437580095\n",
            "3  \t [8.90357673 8.23982464 5.         0.66456142 9.         0.34395649]\t 1.0698458362482097\t 0.8009237324889021\t 2.3453131440662696\t 2.3453131440662696\n",
            "\u001b[1m\u001b[92m4\u001b[0m\t \u001b[1m\u001b[92m[10. 10. 15.  1. 20.  1.]\u001b[0m\t \u001b[1m\u001b[92m0.7670753779942304\u001b[0m\t \u001b[1m\u001b[92m0.7670753779942304\u001b[0m\t \u001b[1m\u001b[92m2.381462070024387\u001b[0m\t \u001b[1m\u001b[92m2.381462070022738\u001b[0m\n",
            "5  \t [ 0.84801146  1.44124026 14.          0.54887437  7.          0.93547384]\t 0.7880607112692197\t 0.7670753779942304\t 2.33098228940569\t 2.33098228940569\n",
            "6  \t [ 8.37754293  7.69636444  8.          0.98881796 16.          0.46623185]\t 0.8829825605031049\t 0.7670753779942304\t 2.2949619957171747\t 2.2949619957171747\n",
            "7  \t [ 0.5654966   9.52584762 14.          0.82016688  4.          0.10717254]\t 1.1024724416092895\t 0.7670753779942304\t 2.282456860316713\t 2.282456860316713\n",
            "8  \t [ 6.75909949  0.94220097  9.          0.71741448 19.          0.94972086]\t 0.7785043750594152\t 0.7670753779942304\t 2.320709780967901\t 2.320709780967901\n",
            "9  \t [ 1.43292764  9.31823681  5.          0.51738676 10.          0.30600768]\t 1.0634397583136046\t 0.7670753779942304\t 2.2915416132620066\t 2.2915416132620066\n",
            "10 \t [ 0.09135886  8.11961466 10.          0.74013552 12.          0.97362941]\t 0.7744953455912423\t 0.7670753779942304\t 2.3153352198462014\t 2.3153352198462014\n",
            "11 \t [ 8.51551086  2.70859558 10.          0.84297574  9.          0.42302662]\t 0.9011838141964258\t 0.7670753779942304\t 2.2897931652322665\t 2.2897931652322665\n",
            "12 \t [ 1.03080361  6.70895845  7.          0.73336025 19.          0.31104879]\t 1.0772187610395967\t 0.7670753779942304\t 2.28472346369677\t 2.28472346369677\n",
            "13 \t [0.2400873  1.61429062 5.         0.72296529 1.         0.1077861 ]\t 1.0889575663939979\t 0.7670753779942304\t 2.307114890623294\t 2.307114890623294\n",
            "\u001b[1m\u001b[92m14\u001b[0m\t \u001b[1m\u001b[92m[ 5.24346726 10.         11.46062679  1.         20.          1.        ]\u001b[0m\t \u001b[1m\u001b[92m0.7670743573818448\u001b[0m\t \u001b[1m\u001b[92m0.7670743573818448\u001b[0m\t \u001b[1m\u001b[92m2.3288058263866365\u001b[0m\t \u001b[1m\u001b[92m2.3288058263860942\u001b[0m\n",
            "\u001b[1m\u001b[92m15\u001b[0m\t \u001b[1m\u001b[92m[ 0.50127522  1.94924928 11.          0.89270197 19.          0.91286914]\u001b[0m\t \u001b[1m\u001b[92m0.7669797183304906\u001b[0m\t \u001b[1m\u001b[92m0.7669797183304906\u001b[0m\t \u001b[1m\u001b[92m2.306878555258366\u001b[0m\t \u001b[1m\u001b[92m2.306878555258366\u001b[0m\n",
            "16 \t [ 8.27965778  0.50999055  5.          0.77678861 11.          0.85564655]\t 0.8178316286917159\t 0.7669797183304906\t 2.2873741739617097\t 2.2873741739617097\n",
            "17 \t [5.45577791 0.01600384 5.         0.68033296 5.         0.47973584]\t 0.8987315752344891\t 0.7669797183304906\t 2.262412642149119\t 2.262412642149119\n",
            "18 \t [ 4.48555971  3.69204095  9.          0.58646272 16.          0.41216867]\t 0.897577978282801\t 0.7669797183304906\t 2.2607020653557997\t 2.2607020653557997\n",
            "19 \t [ 5.98453698  2.00451687 13.          0.80337068 13.          0.24875337]\t 1.1009731307154418\t 0.7669797183304906\t 2.2569114362721288\t 2.2569114362721288\n",
            "20 \t [ 7.65515729  8.3524801  13.          0.94320546  2.          0.37856462]\t 0.9255377827812661\t 0.7669797183304906\t 2.312311281973082\t 2.312311281973082\n",
            "21 \t [4.70222718 7.76335614 9.         0.92367012 9.         0.28724782]\t 1.0850491230057298\t 0.7669797183304906\t 2.32657050557181\t 2.32657050557181\n",
            "22 \t [ 9.56780844  0.64608047 12.          0.83676299  2.          0.96098008]\t 0.7871483295077344\t 0.7669797183304906\t 2.285952762562542\t 2.285952762562542\n",
            "23 \t [ 7.36797889  8.11394282  7.          0.58550636 12.          0.48664462]\t 0.9004861276725805\t 0.7669797183304906\t 2.294812276108614\t 2.294812276108614\n",
            "24 \t [8.12249915 9.52146586 8.         0.55686302 4.         0.21818921]\t 1.0775852264383317\t 0.7669797183304906\t 2.2750179825662835\t 2.2750179825662835\n",
            "25 \t [2.35909466 3.40312057 8.         0.79492624 8.         0.33367252]\t 1.080936320147468\t 0.7669797183304906\t 2.3314409814998673\t 2.3314409814998673\n",
            "26 \t [ 1.76346732  7.41255372 13.          0.55954485  5.          0.82537699]\t 0.80192465196928\t 0.7669797183304906\t 2.2972735385228273\t 2.2972735385228273\n",
            "\u001b[1m\u001b[92m27\u001b[0m\t \u001b[1m\u001b[92m[10.          9.06273111 15.          1.         10.18439256  1.        ]\u001b[0m\t \u001b[1m\u001b[92m0.7667767966465686\u001b[0m\t \u001b[1m\u001b[92m0.7667767966465686\u001b[0m\t \u001b[1m\u001b[92m2.3146317314833804\u001b[0m\t \u001b[1m\u001b[92m2.3146317313250573\u001b[0m\n",
            "28 \t [2.67216807 9.69926207 9.         0.64694239 5.         0.78751691]\t 0.805850678380253\t 0.7667767966465686\t 2.2955240441150186\t 2.2955240441150186\n",
            "29 \t [ 0.          0.         10.71580821  0.5         3.71580821  0.1       ]\t 1.086944360419118\t 0.7667767966465686\t 2.295795398005377\t 2.2957950391855872\n",
            "30 \t [ 4.46432054  1.37976416 14.          0.91350827  1.          0.70455501]\t 0.8423134170816156\t 0.7667767966465686\t 2.2894800966173934\t 2.2894800966173934\n"
          ]
        },
        {
          "output_type": "execute_result",
          "data": {
            "text/plain": [
              "59752.62840497584"
            ]
          },
          "metadata": {},
          "execution_count": 47
        }
      ]
    },
    {
      "cell_type": "code",
      "metadata": {
        "id": "bYebx3RVaJ1w",
        "colab": {
          "base_uri": "https://localhost:8080/"
        },
        "outputId": "d57b344c-f6af-4869-bb1a-834c0195c9f3"
      },
      "source": [
        "### Bayesian optimization runs (x20): 'exact' Acquisition Function run number = 7 \n",
        "\n",
        "np.random.seed(run_num_7)\n",
        "surrogate_exact_7 = dtStudentProcess(cov_func, optimize=opt, nu = df)\n",
        "\n",
        "X_train7, X_test7, y_train7, y_test7 = train_test_split(X, y, test_size=test_perc, random_state=run_num_7)\n",
        "\n",
        "def f_syn_polarity7(alpha, gamma, max_depth, subsample, min_child_weight, colsample):\n",
        "    reg = XGBRegressor(reg_alpha=alpha, gamma=gamma, max_depth=int(max_depth), subsample=subsample, min_child_weight=min_child_weight,\n",
        "          colsample_bytree=colsample, n_estimators = n_est, random_state=run_num_7, objective = 'reg:squarederror')\n",
        "    score = np.array(cross_val_score(reg, X=X_train7, y=y_train7).mean())\n",
        "    return operator * score\n",
        "\n",
        "exact_7 = dGPGO(surrogate_exact_7, Acquisition_grad(util), f_syn_polarity7, param, n_jobs = -1) # Define BayesOpt\n",
        "exact_7.run(max_iter = max_iter, init_evals = n_init) # run\n",
        "\n",
        "### Return optimal parameters' set:\n",
        "params_exact_7 = exact_7.getResult()[0]\n",
        "params_exact_7['max_depth'] = int(params_exact_7['max_depth'])\n",
        "params_exact_7['min_child_weight'] = int(params_exact_7['min_child_weight'])\n",
        "\n",
        "### Re-train with optimal parameters, run predictons:\n",
        "dX_exact_train7 = xgb.DMatrix(X_train7, y_train7)\n",
        "dX_exact_test7 = xgb.DMatrix(X_test7, y_test7)\n",
        "model_exact_7 = xgb.train(params_exact_7, dX_exact_train7)\n",
        "pred_exact_7 = model_exact_7.predict(dX_exact_test7)\n",
        "\n",
        "rmse_exact_7 = np.sqrt(mean_squared_error(pred_exact_7, y_test7))\n",
        "rmse_exact_7"
      ],
      "execution_count": null,
      "outputs": [
        {
          "output_type": "stream",
          "name": "stdout",
          "text": [
            "Evaluation \t Proposed point \t  Current eval. \t  Best eval. \t         Max. ExactAcqFunc \t Max. ApproxAcqFunc \n",
            "init\t [0.76308289 7.79918792 8.         0.98911145 8.         0.98019056]\t 0.7260880637055529\t 0.7260880637055529\t    \t    \n",
            "init\t [ 5.3849587   5.01120464 13.          0.74994125  5.          0.88192131]\t 0.7424588384015385\t 0.7260880637055529\t    \t    \n",
            "init\t [ 3.30839249  3.9294231  12.          0.6440728  13.          0.41137564]\t 0.8412720456029797\t 0.7260880637055529\t    \t    \n",
            "init\t [9.29528191 2.6258377  5.         0.80027446 1.         0.86616513]\t 0.7736412232573235\t 0.7260880637055529\t    \t    \n",
            "init\t [ 1.74052764  7.90763512 14.          0.7244129   4.          0.77536887]\t 0.7650415360356615\t 0.7260880637055529\t    \t    \n",
            "1  \t [3.43305102 3.00339076 8.         0.71322679 4.         0.33322219]\t 0.9222990750260575\t 0.7260880637055529\t 1.8878549986249293\t 1.8878549986249293\n",
            "2  \t [ 8.27276329  5.80705371  6.          0.6575149  16.          0.66596626]\t 0.7908681556639724\t 0.7260880637055529\t 1.9546437071238203\t 1.9546437071238203\n",
            "3  \t [ 8.97988092  8.79483413 14.          0.55379557 13.          0.92924117]\t 0.7532691574021181\t 0.7260880637055529\t 1.9521649438549205\t 1.9521649438549205\n",
            "4  \t [ 6.31879092  0.69939064  5.          0.5769645  12.          0.84874959]\t 0.7781432084155051\t 0.7260880637055529\t 1.9391080686719562\t 1.9391080686719562\n",
            "5  \t [ 9.90436619  1.68371673 11.          0.68947817 16.          0.400226  ]\t 0.8455317589117171\t 0.7260880637055529\t 1.9354632452650347\t 1.9354632452650347\n",
            "6  \t [ 2.27614069  9.14855814 13.          0.84138599 18.          0.79014716]\t 0.7441046132441587\t 0.7260880637055529\t 1.9494536167555414\t 1.9494536167555414\n",
            "7  \t [ 0.63761793  0.73483023 14.          0.60715475  1.          0.28353184]\t 0.938335419027365\t 0.7260880637055529\t 1.9382713850906783\t 1.9382713850906783\n",
            "8  \t [ 0.46626117  2.25760624  6.          0.85367342 17.          0.48531791]\t 0.8357006200561671\t 0.7260880637055529\t 1.9708019821253446\t 1.9708019821253446\n",
            "9  \t [2.13213943 0.33619788 8.         0.65805012 9.         0.21235962]\t 1.0382579820366014\t 0.7260880637055529\t 1.9767692395069936\t 1.9767692395069936\n",
            "10 \t [ 3.23063104  1.13251329 14.          0.56093148  7.          0.35241226]\t 0.9263052453028615\t 0.7260880637055529\t 2.022497284249543\t 2.022497284249543\n",
            "11 \t [9.32031429 7.90309325 6.         0.69040988 5.         0.24485333]\t 1.0379873808842273\t 0.7260880637055529\t 2.0398567395666114\t 2.0398567395666114\n",
            "12 \t [7.0602652  6.93790534 9.         0.99868525 6.         0.93828193]\t 0.7346015930490536\t 0.7260880637055529\t 2.0748436201148883\t 2.0748436201148883\n",
            "13 \t [ 9.74185418  1.9812272  14.          0.94068286 10.          0.45784207]\t 0.8350939262618722\t 0.7260880637055529\t 2.0594270028240445\t 2.0594270028240445\n",
            "14 \t [ 5.05369665  2.67147005  5.          0.51290284 10.          0.64085   ]\t 0.7929636261147219\t 0.7260880637055529\t 2.0589443090183654\t 2.0589443090183654\n",
            "15 \t [7.56007588 9.31763773 8.         0.9626622  1.         0.9152255 ]\t 0.7341534695101155\t 0.7260880637055529\t 2.0530029088141686\t 2.0530029088141686\n",
            "16 \t [ 2.05114544  9.95025126  6.          0.79677111 13.          0.57904529]\t 0.7933652384902362\t 0.7260880637055529\t 2.040694478454984\t 2.040694478454984\n",
            "17 \t [ 0.08258912  2.04682383 12.          0.59206459 18.          0.58057909]\t 0.8001572384936282\t 0.7260880637055529\t 2.036698344363501\t 2.036698344363501\n",
            "\u001b[1m\u001b[92m18\u001b[0m\t \u001b[1m\u001b[92m[10.         10.         15.          1.         19.90369691  1.        ]\u001b[0m\t \u001b[1m\u001b[92m0.7226488301147809\u001b[0m\t \u001b[1m\u001b[92m0.7226488301147809\u001b[0m\t \u001b[1m\u001b[92m2.031565836102147\u001b[0m\t \u001b[1m\u001b[92m2.0315658361016387\u001b[0m\n",
            "19 \t [ 7.50373907  5.41854764 11.          0.90174644  5.          0.21227631]\t 1.0294400573352889\t 0.7226488301147809\t 2.0183302967378642\t 2.0183302967378642\n",
            "20 \t [ 5.0541702   1.72413952  9.          0.76132059 15.          0.37444251]\t 0.9151572773679874\t 0.7226488301147809\t 2.0464944610226454\t 2.0464944610226454\n",
            "21 \t [ 3.09348613  3.96247234  8.          0.81774087 13.          0.58941598]\t 0.7851375921928307\t 0.7226488301147809\t 2.0970229060239824\t 2.0970229060239824\n",
            "22 \t [10.         10.         13.87360297  1.          4.87360297  1.        ]\t 0.7342792454214951\t 0.7226488301147809\t 2.041670517503313\t 2.0416705145044367\n",
            "23 \t [ 4.56796849  7.2276288  12.          0.69041532 11.          0.25650596]\t 0.9204040683754566\t 0.7226488301147809\t 2.043311850569687\t 2.043311850569687\n",
            "24 \t [0.  0.  5.  0.5 1.  0.1]\t 1.0415683120125263\t 0.7226488301147809\t 2.062260800496889\t 2.062260800496873\n",
            "25 \t [2.62154521 9.82821247 5.         0.94306877 2.         0.54997602]\t 0.7884946222204549\t 0.7226488301147809\t 2.054980292842379\t 2.054980292842379\n",
            "26 \t [ 2.06002331  9.88106062 13.          0.81874566 19.          0.24780841]\t 1.026659800264627\t 0.7226488301147809\t 2.0679191874130396\t 2.0679191874130396\n",
            "27 \t [9.91546913 0.35662679 7.         0.87706909 8.         0.31009443]\t 0.9081190657516668\t 0.7226488301147809\t 2.1043067851714974\t 2.1043067851714974\n",
            "28 \t [ 7.27114604  3.7137488   9.          0.55194413 17.          0.65085645]\t 0.7913418219905086\t 0.7226488301147809\t 2.085990192534767\t 2.085990192534767\n",
            "29 \t [10.          7.01017079  8.75673328  1.         20.          1.        ]\t 0.7241968345706227\t 0.7226488301147809\t 2.1218198723142105\t 2.121819697531409\n",
            "30 \t [ 6.51356727  1.45057476 10.          0.5773341   4.          0.42302705]\t 0.8524362884697597\t 0.7226488301147809\t 2.1091824234434893\t 2.1091824234434893\n"
          ]
        },
        {
          "output_type": "execute_result",
          "data": {
            "text/plain": [
              "60270.129697743614"
            ]
          },
          "metadata": {},
          "execution_count": 48
        }
      ]
    },
    {
      "cell_type": "code",
      "metadata": {
        "id": "xk0IPTSTbIl3",
        "colab": {
          "base_uri": "https://localhost:8080/"
        },
        "outputId": "d5b06dff-9f06-4d0b-daea-cd202c495fe5"
      },
      "source": [
        "### Bayesian optimization runs (x20): 'exact' Acquisition Function run number = 8 \n",
        "\n",
        "np.random.seed(run_num_8)\n",
        "surrogate_exact_8 = dtStudentProcess(cov_func, optimize=opt, nu = df)\n",
        "\n",
        "X_train8, X_test8, y_train8, y_test8 = train_test_split(X, y, test_size=test_perc, random_state=run_num_8)\n",
        "\n",
        "def f_syn_polarity8(alpha, gamma, max_depth, subsample, min_child_weight, colsample):\n",
        "    reg = XGBRegressor(reg_alpha=alpha, gamma=gamma, max_depth=int(max_depth), subsample=subsample, min_child_weight=min_child_weight,\n",
        "          colsample_bytree=colsample, n_estimators = n_est, random_state=run_num_8, objective = 'reg:squarederror')\n",
        "    score = np.array(cross_val_score(reg, X=X_train8, y=y_train8).mean())\n",
        "    return operator * score\n",
        "\n",
        "exact_8 = dGPGO(surrogate_exact_8, Acquisition_grad(util), f_syn_polarity8, param, n_jobs = -1) # Define BayesOpt\n",
        "exact_8.run(max_iter = max_iter, init_evals = n_init) # run\n",
        "\n",
        "### Return optimal parameters' set:\n",
        "params_exact_8 = exact_8.getResult()[0]\n",
        "params_exact_8['max_depth'] = int(params_exact_8['max_depth'])\n",
        "params_exact_8['min_child_weight'] = int(params_exact_8['min_child_weight'])\n",
        "\n",
        "### Re-train with optimal parameters, run predictons:\n",
        "dX_exact_train8 = xgb.DMatrix(X_train8, y_train8)\n",
        "dX_exact_test8 = xgb.DMatrix(X_test8, y_test8)\n",
        "model_exact_8 = xgb.train(params_exact_8, dX_exact_train8)\n",
        "pred_exact_8 = model_exact_8.predict(dX_exact_test8)\n",
        "\n",
        "rmse_exact_8 = np.sqrt(mean_squared_error(pred_exact_8, y_test8))\n",
        "rmse_exact_8"
      ],
      "execution_count": null,
      "outputs": [
        {
          "output_type": "stream",
          "name": "stdout",
          "text": [
            "Evaluation \t Proposed point \t  Current eval. \t  Best eval. \t         Max. ExactAcqFunc \t Max. ApproxAcqFunc \n",
            "init\t [ 8.73429403  9.68540663 10.          0.68875849  9.          0.48011572]\t 0.802823873653181\t 0.7393694249818598\t    \t    \n",
            "init\t [ 6.12033333  7.66062926  8.          0.76133734 13.          0.93379456]\t 0.7439561063387327\t 0.7393694249818598\t    \t    \n",
            "init\t [ 1.46524679  7.01527914  7.          0.90913299 10.          0.36016753]\t 0.8573744170126428\t 0.7393694249818598\t    \t    \n",
            "init\t [ 9.73855241  3.33774046 14.          0.53290419  7.          0.7088681 ]\t 0.7605799870908501\t 0.7393694249818598\t    \t    \n",
            "init\t [ 3.00618018  1.82702795 11.          0.75681389 14.          0.98627449]\t 0.7393694249818598\t 0.7393694249818598\t    \t    \n",
            "\u001b[1m\u001b[92m1\u001b[0m\t \u001b[1m\u001b[92m[4.42022545 5.48487111 9.         0.97165909 3.         0.63617522]\u001b[0m\t \u001b[1m\u001b[92m0.7341650428609557\u001b[0m\t \u001b[1m\u001b[92m0.7341650428609557\u001b[0m\t \u001b[1m\u001b[92m1.9156941993159622\u001b[0m\t \u001b[1m\u001b[92m1.9156941993159622\u001b[0m\n",
            "2  \t [ 4.42530022  8.86662399 12.          0.55390756 19.          0.26906902]\t 0.8873087046852387\t 0.7341650428609557\t 1.8966378812709033\t 1.8966378812709033\n",
            "3  \t [ 9.08237751  2.49680746  6.          0.65941352 17.          0.68321352]\t 0.7481675054625107\t 0.7341650428609557\t 1.9386045499772848\t 1.9386045499772848\n",
            "4  \t [9.24101391 3.71625162 7.         0.92041359 7.         0.33094108]\t 0.8633824421289817\t 0.7341650428609557\t 1.925676499567516\t 1.925676499567516\n",
            "5  \t [ 2.71549468  6.59835463  5.          0.95307649 18.          0.8022723 ]\t 0.7484161632696045\t 0.7341650428609557\t 1.947602987281803\t 1.947602987281803\n",
            "6  \t [ 8.42695368  3.16936553 13.          0.82366295 16.          0.76402556]\t 0.7356192440307244\t 0.7341650428609557\t 1.936470620330678\t 1.936470620330678\n",
            "7  \t [ 8.83774177  5.41674027 14.          0.73954397  1.          0.31035075]\t 0.8970855207140378\t 0.7341650428609557\t 1.9246248805726394\t 1.9246248805726394\n",
            "8  \t [ 0.45904618  0.31422469 12.          0.85221495  5.          0.31125587]\t 0.8688237885855482\t 0.7341650428609557\t 1.9488156383330821\t 1.9488156383330821\n",
            "9  \t [0.  0.  5.  0.5 1.  0.1]\t 1.0139942030593216\t 0.7341650428609557\t 1.9631937929449594\t 1.9631937919721067\n",
            "10 \t [ 3.96405062  8.0979425  14.          0.59297393  7.          0.94464131]\t 0.7505018736047322\t 0.7341650428609557\t 2.004868495701085\t 2.004868495701085\n",
            "11 \t [9.23421894 1.96715525 6.         0.84213684 1.         0.28111445]\t 0.8673094941420189\t 0.7341650428609557\t 1.9941922764790545\t 1.9941922764790545\n",
            "12 \t [ 6.07416022  0.73060636  9.          0.91953118 17.          0.26381452]\t 0.859827902225879\t 0.7341650428609557\t 2.0025811202001873\t 2.0025811202001873\n",
            "13 \t [ 9.08307561  9.73616604  5.          0.74596783 18.          0.23735578]\t 1.0006633800011113\t 0.7341650428609557\t 2.0088222986676554\t 2.0088222986676554\n",
            "14 \t [1.36072521 8.96337054 5.         0.74382165 2.         0.12580076]\t 1.0049152342399188\t 0.7341650428609557\t 2.0359779208442377\t 2.0359779208442377\n",
            "15 \t [ 3.32794564  9.35873285 13.          0.95404271 12.          0.46503428]\t 0.7875473242676249\t 0.7341650428609557\t 2.0606631728369873\t 2.0606631728369873\n",
            "16 \t [0.05861183 0.85510206 7.         0.55669041 9.         0.24118856]\t 1.0069691016446431\t 0.7341650428609557\t 2.0545474877579553\t 2.0545474877579553\n",
            "17 \t [2.76407972 8.95502778 9.         0.67297573 5.         0.56560976]\t 0.7769146956967419\t 0.7341650428609557\t 2.074559865748078\t 2.074559865748078\n",
            "18 \t [ 1.35322101  2.96172691 10.          0.82171324  9.          0.2070415 ]\t 0.9980631943644411\t 0.7341650428609557\t 2.096331808454429\t 2.096331808454429\n",
            "19 \t [ 1.24817982  5.75156112 12.          0.56532786 19.          0.40494625]\t 0.8074218603040494\t 0.7341650428609557\t 2.069965899982027\t 2.069965899982027\n",
            "20 \t [ 1.37842187  7.92618907 14.          0.53493538  2.          0.9994541 ]\t 0.7668011264232973\t 0.7341650428609557\t 2.087058566486615\t 2.087058566486615\n",
            "21 \t [ 4.96181193  2.91089923  6.          0.69167509 15.          0.83383245]\t 0.7443970340307106\t 0.7341650428609557\t 2.0505697364513553\t 2.0505697364513553\n",
            "22 \t [ 3.36538587  9.88859923 13.          0.74640712 14.          0.34166583]\t 0.869979050273399\t 0.7341650428609557\t 2.0781491976753226\t 2.0781491976753226\n",
            "\u001b[1m\u001b[92m23\u001b[0m\t \u001b[1m\u001b[92m[10. 10. 15.  1. 20.  1.]\u001b[0m\t \u001b[1m\u001b[92m0.7231837694267848\u001b[0m\t \u001b[1m\u001b[92m0.7231837694267848\u001b[0m\t \u001b[1m\u001b[92m2.067637929932527\u001b[0m\t \u001b[1m\u001b[92m2.0676379289516964\u001b[0m\n",
            "24 \t [ 9.32779145  5.8517174  11.          0.74437014 12.          0.90919993]\t 0.7403513737505086\t 0.7231837694267848\t 2.085582899226255\t 2.085582899226255\n",
            "25 \t [0.16001103 3.6224827  6.         0.58145757 6.         0.34057575]\t 0.8853726892659874\t 0.7231837694267848\t 2.029504602906082\t 2.029504602906082\n",
            "26 \t [ 3.21551212  3.04157433  6.          0.9055065  17.          0.2304952 ]\t 0.9897503949395169\t 0.7231837694267848\t 2.045005988418295\t 2.045005988418295\n",
            "27 \t [ 7.15040543  9.72926644 14.          0.63776297 15.          0.43073814]\t 0.8013428795907425\t 0.7231837694267848\t 2.05046787963188\t 2.05046787963188\n",
            "28 \t [ 5.29841112  4.74245374 11.          0.68146799 19.          0.79014882]\t 0.7439831766925111\t 0.7231837694267848\t 2.079891400289486\t 2.079891400289486\n",
            "29 \t [ 9.6464663   0.98885701  8.          0.8054878  19.          0.70201828]\t 0.7400612177024872\t 0.7231837694267848\t 2.0800152035330077\t 2.0800152035330077\n",
            "30 \t [ 6.13227177  4.9471251  12.          0.70151646  5.          0.22031339]\t 1.0026563027674915\t 0.7231837694267848\t 2.05856325064837\t 2.05856325064837\n"
          ]
        },
        {
          "output_type": "execute_result",
          "data": {
            "text/plain": [
              "59493.46322622606"
            ]
          },
          "metadata": {},
          "execution_count": 49
        }
      ]
    },
    {
      "cell_type": "code",
      "metadata": {
        "id": "9UroEj_RbLSb",
        "colab": {
          "base_uri": "https://localhost:8080/"
        },
        "outputId": "3336eb0a-ef05-4e03-a3c8-d77538f15175"
      },
      "source": [
        "### Bayesian optimization runs (x20): 'exact' Acquisition Function run number = 9 \n",
        "\n",
        "np.random.seed(run_num_9)\n",
        "surrogate_exact_9 = dtStudentProcess(cov_func, optimize=opt, nu = df)\n",
        "\n",
        "X_train9, X_test9, y_train9, y_test9 = train_test_split(X, y, test_size=test_perc, random_state=run_num_9)\n",
        "\n",
        "def f_syn_polarity9(alpha, gamma, max_depth, subsample, min_child_weight, colsample):\n",
        "    reg = XGBRegressor(reg_alpha=alpha, gamma=gamma, max_depth=int(max_depth), subsample=subsample, min_child_weight=min_child_weight,\n",
        "          colsample_bytree=colsample, n_estimators = n_est, random_state=run_num_9, objective = 'reg:squarederror')\n",
        "    score = np.array(cross_val_score(reg, X=X_train9, y=y_train9).mean())\n",
        "    return operator * score\n",
        "\n",
        "exact_9 = dGPGO(surrogate_exact_9, Acquisition_grad(util), f_syn_polarity9, param, n_jobs = -1) # Define BayesOpt\n",
        "exact_9.run(max_iter = max_iter, init_evals = n_init) # run\n",
        "\n",
        "### Return optimal parameters' set:\n",
        "params_exact_9 = exact_9.getResult()[0]\n",
        "params_exact_9['max_depth'] = int(params_exact_9['max_depth'])\n",
        "params_exact_9['min_child_weight'] = int(params_exact_9['min_child_weight'])\n",
        "\n",
        "### Re-train with optimal parameters, run predictons:\n",
        "dX_exact_train9 = xgb.DMatrix(X_train9, y_train9)\n",
        "dX_exact_test9 = xgb.DMatrix(X_test9, y_test9)\n",
        "model_exact_9 = xgb.train(params_exact_9, dX_exact_train9)\n",
        "pred_exact_9 = model_exact_9.predict(dX_exact_test9)\n",
        "\n",
        "rmse_exact_9 = np.sqrt(mean_squared_error(pred_exact_9, y_test9))\n",
        "rmse_exact_9"
      ],
      "execution_count": null,
      "outputs": [
        {
          "output_type": "stream",
          "name": "stdout",
          "text": [
            "Evaluation \t Proposed point \t  Current eval. \t  Best eval. \t         Max. ExactAcqFunc \t Max. ApproxAcqFunc \n",
            "init\t [ 0.10374154  5.01874592 11.          0.50377155  2.          0.29670281]\t 1.1242573295906948\t 0.7785306461595496\t    \t    \n",
            "init\t [ 4.18508181  2.48101168 13.          0.69794293  2.          0.25009871]\t 1.1029639839305116\t 0.7785306461595496\t    \t    \n",
            "init\t [ 8.78559086  9.50964032 13.          0.98395204 11.          0.90820641]\t 0.7785306461595496\t 0.7785306461595496\t    \t    \n",
            "init\t [ 6.66898973  5.47837783  6.          0.97165345 12.          0.72499481]\t 0.8502721808074817\t 0.7785306461595496\t    \t    \n",
            "init\t [ 8.24870465  4.65668475 13.          0.68760467  9.          0.98502332]\t 0.8007936005920335\t 0.7785306461595496\t    \t    \n",
            "1  \t [6.73714319 2.39608167 5.         0.58130302 3.         0.163077  ]\t 1.1406566629866908\t 0.7785306461595496\t 2.311058789407201\t 2.311058789407201\n",
            "2  \t [ 8.16285902  8.43489929  9.          0.96605421 10.          0.79940153]\t 0.8233816089104812\t 0.7785306461595496\t 2.3983171201079645\t 2.3983171201079645\n",
            "3  \t [ 8.20707753  5.23681739  9.          0.99500664 19.          0.41686889]\t 0.9191507511732485\t 0.7785306461595496\t 2.347633093777578\t 2.347633093777578\n",
            "4  \t [ 0.19525707  9.62416422  9.          0.85280832 10.          0.52998476]\t 0.8430600265636745\t 0.7785306461595496\t 2.3358139551069965\t 2.3358139551069965\n",
            "5  \t [ 1.86381009  9.16177979  5.          0.9344438  17.          0.81379931]\t 0.8496902041278048\t 0.7785306461595496\t 2.307300260130478\t 2.307300260130478\n",
            "6  \t [ 2.07399013  1.08547559 13.          0.90854674 16.          0.44415088]\t 0.9190933334870838\t 0.7785306461595496\t 2.2857093213420248\t 2.2857093213420248\n",
            "7  \t [0.  0.  5.  0.5 1.  0.1]\t 1.1524249543979754\t 0.7785306461595496\t 2.282602251940759\t 2.28260225147093\n",
            "8  \t [ 0.56883492  2.21937218  6.          0.84490274 16.          0.30898926]\t 1.0743860910344618\t 0.7785306461595496\t 2.3323551147870525\t 2.3323551147870525\n",
            "9  \t [ 0.30581668  9.33751049 12.          0.80943195 19.          0.44519139]\t 0.9249945564098354\t 0.7785306461595496\t 2.356782658002574\t 2.356782658002574\n",
            "10 \t [ 0.67105095  0.94101024 14.          0.7967074   8.          0.63229074]\t 0.8409867606748245\t 0.7785306461595496\t 2.3503818287919493\t 2.3503818287919493\n",
            "11 \t [ 7.53441733  9.89426931 12.          0.67232682 16.          0.3377491 ]\t 1.0829115765764628\t 0.7785306461595496\t 2.3321648367796226\t 2.3321648367796226\n",
            "12 \t [1.13081555 8.89608809 5.         0.68242063 1.         0.25767085]\t 1.0885131872740894\t 0.7785306461595496\t 2.353445703522611\t 2.353445703522611\n",
            "13 \t [9.68974414 1.0872522  7.         0.76989904 9.         0.88217346]\t 0.7947488076665662\t 0.7785306461595496\t 2.3730078091344353\t 2.3730078091344353\n",
            "14 \t [ 8.88182279  1.21247755  8.          0.57194414 15.          0.58313863]\t 0.8769535406326074\t 0.7785306461595496\t 2.351393531430298\t 2.351393531430298\n",
            "15 \t [ 5.53295736  9.14695225 11.          0.76642634  3.          0.93822167]\t 0.8053652066562508\t 0.7785306461595496\t 2.341103745878048\t 2.341103745878048\n",
            "16 \t [9.39353565 9.93046622 5.         0.57188784 4.         0.83501032]\t 0.8795719018846426\t 0.7785306461595496\t 2.32470936056304\t 2.32470936056304\n",
            "\u001b[1m\u001b[92m17\u001b[0m\t \u001b[1m\u001b[92m[ 5.00450786  6.51117207 15.          1.         20.          1.        ]\u001b[0m\t \u001b[1m\u001b[92m0.7758221163772153\u001b[0m\t \u001b[1m\u001b[92m0.7758221163772153\u001b[0m\t \u001b[1m\u001b[92m2.319142253616696\u001b[0m\t \u001b[1m\u001b[92m2.319142250870464\u001b[0m\n",
            "18 \t [2.32449242 8.80135208 8.         0.99642073 4.         0.14576968]\t 1.1331068048862545\t 0.7758221163772153\t 2.308503964352686\t 2.308503964352686\n",
            "19 \t [3.71364107 1.34189013 8.         0.86771065 9.         0.8854455 ]\t 0.7837468123657612\t 0.7758221163772153\t 2.324090893924794\t 2.324090893924794\n",
            "20 \t [ 9.27124123  1.79885495 11.          0.60820867  4.          0.48344805]\t 0.9618304471443053\t 0.7758221163772153\t 2.3044857895605877\t 2.3044857895605877\n",
            "21 \t [10. 10. 15.  1. 20.  1.]\t 0.7758231675240183\t 0.7758221163772153\t 2.319749712354842\t 2.3197496369139943\n",
            "22 \t [ 0.3768638   0.98456584  9.          0.99441364 13.          0.49763585]\t 0.9210006183994057\t 0.7758221163772153\t 2.2836581781364647\t 2.2836581781364647\n",
            "23 \t [ 7.07313313  8.94084339  5.          0.99439529 19.          0.33798274]\t 1.082295397988777\t 0.7758221163772153\t 2.3360348096018995\t 2.3360348096018995\n",
            "24 \t [ 2.1444801   6.0467731  14.          0.77412521 12.          0.37466595]\t 1.0803721282791834\t 0.7758221163772153\t 2.3223943487334955\t 2.3223943487334955\n",
            "25 \t [0.89567168 4.71139003 5.49976285 0.69264996 7.99803198 0.1524115 ]\t 1.1412037319252648\t 0.7758221163772153\t 2.3232214002905214\t 2.323221400290521\n",
            "26 \t [ 0.34910818  3.39479926 12.          0.75007153 14.          0.74419655]\t 0.8414357962829216\t 0.7758221163772153\t 2.3291498569842317\t 2.3291498569842317\n",
            "27 \t [ 0.45983101  9.28402862 13.          0.52786561  6.          0.42783681]\t 0.9682092632615712\t 0.7758221163772153\t 2.345334006705998\t 2.345334006705998\n",
            "28 \t [3.83388461 2.85611667 7.         0.74640655 5.         0.27473638]\t 1.0854101197025208\t 0.7758221163772153\t 2.3390068058851483\t 2.3390068058851483\n",
            "29 \t [ 5.3574592   5.42167977 11.          0.80739246  3.          0.15190636]\t 1.1426153855251038\t 0.7758221163772153\t 2.3400377680435738\t 2.3400377680435738\n",
            "30 \t [ 0.01153499  2.29531024 11.          0.50673714  7.          0.13750522]\t 1.154363103664814\t 0.7758221163772153\t 2.365049821982961\t 2.365049821982961\n"
          ]
        },
        {
          "output_type": "execute_result",
          "data": {
            "text/plain": [
              "58909.58707412338"
            ]
          },
          "metadata": {},
          "execution_count": 50
        }
      ]
    },
    {
      "cell_type": "code",
      "metadata": {
        "id": "7VgaJOoJbOIE",
        "colab": {
          "base_uri": "https://localhost:8080/"
        },
        "outputId": "5d8e034d-cb95-4e7e-a125-906ca77c3a78"
      },
      "source": [
        "### Bayesian optimization runs (x20): 'exact' Acquisition Function run number = 10 \n",
        "\n",
        "np.random.seed(run_num_10)\n",
        "surrogate_exact_10 = dtStudentProcess(cov_func, optimize=opt, nu = df)\n",
        "\n",
        "X_train10, X_test10, y_train10, y_test10 = train_test_split(X, y, test_size=test_perc, random_state=run_num_10)\n",
        "\n",
        "def f_syn_polarity10(alpha, gamma, max_depth, subsample, min_child_weight, colsample):\n",
        "    reg = XGBRegressor(reg_alpha=alpha, gamma=gamma, max_depth=int(max_depth), subsample=subsample, min_child_weight=min_child_weight,\n",
        "          colsample_bytree=colsample, n_estimators = n_est, random_state=run_num_10, objective = 'reg:squarederror')\n",
        "    score = np.array(cross_val_score(reg, X=X_train10, y=y_train10).mean())\n",
        "    return operator * score\n",
        "\n",
        "exact_10 = dGPGO(surrogate_exact_10, Acquisition_grad(util), f_syn_polarity10, param, n_jobs = -1) # Define BayesOpt\n",
        "exact_10.run(max_iter = max_iter, init_evals = n_init) # run\n",
        "\n",
        "### Return optimal parameters' set:\n",
        "params_exact_10 = exact_10.getResult()[0]\n",
        "params_exact_10['max_depth'] = int(params_exact_10['max_depth'])\n",
        "params_exact_10['min_child_weight'] = int(params_exact_10['min_child_weight'])\n",
        "\n",
        "### Re-train with optimal parameters, run predictons:\n",
        "dX_exact_train10 = xgb.DMatrix(X_train10, y_train10)\n",
        "dX_exact_test10 = xgb.DMatrix(X_test10, y_test10)\n",
        "model_exact_10 = xgb.train(params_exact_10, dX_exact_train10)\n",
        "pred_exact_10 = model_exact_10.predict(dX_exact_test10)\n",
        "\n",
        "rmse_exact_10 = np.sqrt(mean_squared_error(pred_exact_10, y_test10))\n",
        "rmse_exact_10"
      ],
      "execution_count": null,
      "outputs": [
        {
          "output_type": "stream",
          "name": "stdout",
          "text": [
            "Evaluation \t Proposed point \t  Current eval. \t  Best eval. \t         Max. ExactAcqFunc \t Max. ApproxAcqFunc \n",
            "init\t [ 7.71320643  0.20751949  5.          0.72150747 17.          0.12265456]\t 1.0639310256047103\t 0.7797034870948047\t    \t    \n",
            "init\t [ 7.0920801   2.65566127 13.          0.57518893 17.          0.83494165]\t 0.79580179662759\t 0.7797034870948047\t    \t    \n",
            "init\t [ 3.36071584  8.90816531  6.          0.86087766 15.          0.75469196]\t 0.7797034870948047\t 0.7797034870948047\t    \t    \n",
            "init\t [ 5.40880931  1.31458152  8.          0.57108502 14.          0.62551123]\t 0.7990514117028104\t 0.7797034870948047\t    \t    \n",
            "init\t [1.82631436 8.26082248 6.         0.80888349 5.         0.15900694]\t 1.0587036817796267\t 0.7797034870948047\t    \t    \n",
            "\u001b[1m\u001b[92m1\u001b[0m\t \u001b[1m\u001b[92m[8.31989768 3.09778055 7.         0.64798085 3.         0.98471878]\u001b[0m\t \u001b[1m\u001b[92m0.7741723447560037\u001b[0m\t \u001b[1m\u001b[92m0.7741723447560037\u001b[0m\t \u001b[1m\u001b[92m2.226887683390603\u001b[0m\t \u001b[1m\u001b[92m2.226887683390603\u001b[0m\n",
            "2  \t [ 3.05837423  0.98670899 11.          0.63714741 18.          0.46809298]\t 0.8572799307158145\t 0.7741723447560037\t 2.175285471184526\t 2.175285471184526\n",
            "3  \t [ 2.20772511  4.37663949 11.          0.65455258  3.          0.57545511]\t 0.7990049933887924\t 0.7741723447560037\t 2.164676626378129\t 2.164676626378129\n",
            "\u001b[1m\u001b[92m4\u001b[0m\t \u001b[1m\u001b[92m[ 2.98946783  8.70916918 12.          0.89809007  8.          0.53350402]\u001b[0m\t \u001b[1m\u001b[92m0.7701333999187374\u001b[0m\t \u001b[1m\u001b[92m0.7701333999187374\u001b[0m\t \u001b[1m\u001b[92m2.1398372629723976\u001b[0m\t \u001b[1m\u001b[92m2.1398372629723976\u001b[0m\n",
            "\u001b[1m\u001b[92m5\u001b[0m\t \u001b[1m\u001b[92m[ 3.75041373  9.81989522 14.          0.71370546 14.          0.97207881]\u001b[0m\t \u001b[1m\u001b[92m0.7583770586009706\u001b[0m\t \u001b[1m\u001b[92m0.7583770586009706\u001b[0m\t \u001b[1m\u001b[92m2.113182462049732\u001b[0m\t \u001b[1m\u001b[92m2.113182462049732\u001b[0m\n",
            "6  \t [9.5129367  9.98430937 6.         0.51699097 2.         0.32133886]\t 1.013338643136875\t 0.7583770586009706\t 2.0890351411654096\t 2.0890351411654096\n",
            "\u001b[1m\u001b[92m7\u001b[0m\t \u001b[1m\u001b[92m[10. 10. 15.  1. 20.  1.]\u001b[0m\t \u001b[1m\u001b[92m0.7439381718569423\u001b[0m\t \u001b[1m\u001b[92m0.7439381718569423\u001b[0m\t \u001b[1m\u001b[92m2.1277772715735837\u001b[0m\t \u001b[1m\u001b[92m2.1277772715733647\u001b[0m\n",
            "8  \t [10.          6.69889906 12.65087873  1.         10.65087873  1.        ]\t 0.7519438998859765\t 0.7439381718569423\t 2.104013501751088\t 2.104013501751086\n",
            "9  \t [7.7714375  7.70616843 8.         0.82339468 6.         0.96195202]\t 0.7659210449096093\t 0.7439381718569423\t 2.0850202152506783\t 2.0850202152506783\n",
            "10 \t [0.         2.36720326 5.13354592 0.5        8.13354592 0.1       ]\t 1.0740747544475227\t 0.7439381718569423\t 2.0707994596202886\t 2.0707994594717767\n",
            "11 \t [ 7.42334933  7.43735147 12.          0.74628126  2.          0.54122098]\t 0.7825236551040937\t 0.7439381718569423\t 2.112759193858388\t 2.112759193858388\n",
            "12 \t [2.84027732 0.55785004 6.         0.52193432 3.         0.45391352]\t 0.8609722367384686\t 0.7439381718569423\t 2.101061570927521\t 2.101061570927521\n",
            "13 \t [ 6.07708791  0.68802538 14.          0.91610736 10.          0.9990919 ]\t 0.7531301442893316\t 0.7439381718569423\t 2.101488261955217\t 2.101488261955217\n",
            "14 \t [ 3.89768175  5.29572603  8.          0.92074245 11.          0.31486353]\t 0.9676224176737994\t 0.7439381718569423\t 2.0880897880348392\t 2.0880897880348392\n",
            "15 \t [2.14023913 7.87482927 8.         0.56565632 3.         0.51657322]\t 0.8009512202201602\t 0.7439381718569423\t 2.1038387947054624\t 2.1038387947054624\n",
            "16 \t [ 0.79209787  5.77655365 11.          0.54385846 15.          0.82704826]\t 0.7940655504861173\t 0.7439381718569423\t 2.0966833169455144\t 2.0966833169455144\n",
            "17 \t [0.54815519 9.09457687 7.         0.55756737 9.         0.32110491]\t 0.9905916044645892\t 0.7439381718569423\t 2.0899043461692357\t 2.0899043461692357\n",
            "18 \t [ 9.38854854  7.91087361  8.          0.57475286 19.          0.33969987]\t 0.9983682788058712\t 0.7439381718569423\t 2.0904325998638167\t 2.0904325998638167\n",
            "19 \t [ 3.78735015  9.68358783 10.          0.98414687 15.          0.22243198]\t 1.0509441886942668\t 0.7439381718569423\t 2.1059721661351563\t 2.1059721661351563\n",
            "20 \t [ 5.75608238  3.36114356  7.          0.8888975  17.          0.1085544 ]\t 1.0497516119782428\t 0.7439381718569423\t 2.144394324377332\t 2.144394324377332\n",
            "21 \t [ 1.40673694  2.81853826  8.          0.57005206 17.          0.51239648]\t 0.7979220004395456\t 0.7439381718569423\t 2.1640211040594886\t 2.1640211040594886\n",
            "22 \t [ 7.61103017  3.62093566 13.          0.5614452  13.          0.12084556]\t 1.0727233913162242\t 0.7439381718569423\t 2.1463854599002334\t 2.1463854599002334\n",
            "23 \t [ 6.89824313  6.43931113 11.          0.60707962 11.          0.89509759]\t 0.7738741181601402\t 0.7439381718569423\t 2.157184864656016\t 2.157184864656016\n",
            "24 \t [ 8.33810851  9.8990204  14.          0.61893039  5.          0.69227045]\t 0.7823499251514459\t 0.7439381718569423\t 2.169346112951902\t 2.169346112951902\n",
            "25 \t [7.183694   0.42772981 9.         0.57756156 7.         0.90917322]\t 0.7792975175356796\t 0.7439381718569423\t 2.168117852415484\t 2.168117852415484\n",
            "26 \t [ 0.72304172  0.81315852 12.          0.54357126  9.          0.96320547]\t 0.7852930424624194\t 0.7439381718569423\t 2.159178810434162\t 2.159178810434162\n",
            "27 \t [ 7.88167693  7.97515501  6.          0.78950848 17.          0.19131965]\t 1.0553390354056282\t 0.7439381718569423\t 2.1417530987846147\t 2.1417530987846147\n",
            "28 \t [ 1.55481231  8.89847306 13.          0.92315868 19.          0.23858876]\t 1.0555070855921338\t 0.7439381718569423\t 2.1668503767533536\t 2.1668503767533536\n",
            "29 \t [ 6.51286665  1.39669624 14.          0.78787389  3.          0.11385444]\t 1.060976048993362\t 0.7439381718569423\t 2.1756806590111757\t 2.1756806590111757\n",
            "30 \t [ 9.44119737  4.83052802 12.          0.87311968 19.          0.35147834]\t 0.9718991207487232\t 0.7439381718569423\t 2.2021362848499737\t 2.2021362848499737\n"
          ]
        },
        {
          "output_type": "execute_result",
          "data": {
            "text/plain": [
              "60178.06298836527"
            ]
          },
          "metadata": {},
          "execution_count": 51
        }
      ]
    },
    {
      "cell_type": "code",
      "metadata": {
        "id": "51z87uHWbRGr",
        "colab": {
          "base_uri": "https://localhost:8080/"
        },
        "outputId": "4e68f982-4666-4ec2-907f-4b0815605717"
      },
      "source": [
        "### Bayesian optimization runs (x20): 'exact' Acquisition Function run number = 11 \n",
        "\n",
        "np.random.seed(run_num_11)\n",
        "surrogate_exact_11 = dtStudentProcess(cov_func, optimize=opt, nu = df)\n",
        "\n",
        "X_train11, X_test11, y_train11, y_test11 = train_test_split(X, y, test_size=test_perc, random_state=run_num_11)\n",
        "\n",
        "def f_syn_polarity11(alpha, gamma, max_depth, subsample, min_child_weight, colsample):\n",
        "    reg = XGBRegressor(reg_alpha=alpha, gamma=gamma, max_depth=int(max_depth), subsample=subsample, min_child_weight=min_child_weight,\n",
        "          colsample_bytree=colsample, n_estimators = n_est, random_state=run_num_11, objective = 'reg:squarederror')\n",
        "    score = np.array(cross_val_score(reg, X=X_train11, y=y_train11).mean())\n",
        "    return operator * score\n",
        "\n",
        "exact_11 = dGPGO(surrogate_exact_11, Acquisition_grad(util), f_syn_polarity11, param, n_jobs = -1) # Define BayesOpt\n",
        "exact_11.run(max_iter = max_iter, init_evals = n_init) # run\n",
        "\n",
        "### Return optimal parameters' set:\n",
        "params_exact_11 = exact_11.getResult()[0]\n",
        "params_exact_11['max_depth'] = int(params_exact_11['max_depth'])\n",
        "params_exact_11['min_child_weight'] = int(params_exact_11['min_child_weight'])\n",
        "\n",
        "### Re-train with optimal parameters, run predictons:\n",
        "dX_exact_train11 = xgb.DMatrix(X_train11, y_train11)\n",
        "dX_exact_test11 = xgb.DMatrix(X_test11, y_test11)\n",
        "model_exact_11 = xgb.train(params_exact_11, dX_exact_train11)\n",
        "pred_exact_11 = model_exact_11.predict(dX_exact_test11)\n",
        "\n",
        "rmse_exact_11 = np.sqrt(mean_squared_error(pred_exact_11, y_test11))\n",
        "rmse_exact_11"
      ],
      "execution_count": null,
      "outputs": [
        {
          "output_type": "stream",
          "name": "stdout",
          "text": [
            "Evaluation \t Proposed point \t  Current eval. \t  Best eval. \t         Max. ExactAcqFunc \t Max. ApproxAcqFunc \n",
            "init\t [ 1.80269689  0.19475241  6.          0.59705781 13.          0.47818324]\t 0.8177825188141039\t 0.7287337628426743\t    \t    \n",
            "init\t [ 4.85427098  0.12780815  5.          0.91309068 14.          0.86571558]\t 0.7419480115539112\t 0.7287337628426743\t    \t    \n",
            "init\t [ 7.2996447   1.08736072 10.          0.92857712 18.          0.66910061]\t 0.7287337628426743\t 0.7287337628426743\t    \t    \n",
            "init\t [ 0.20483613  1.16737269  7.          0.57895615 16.          0.83644782]\t 0.7335645848611818\t 0.7287337628426743\t    \t    \n",
            "init\t [ 3.44624491  3.18798797 14.          0.54197657 15.          0.63958906]\t 0.7441537376931249\t 0.7287337628426743\t    \t    \n",
            "1  \t [9.77136617 6.6548802  7.         0.51036649 9.         0.81011527]\t 0.7482694480200888\t 0.7287337628426743\t 1.8451512921630762\t 1.8451512921630762\n",
            "\u001b[1m\u001b[92m2\u001b[0m\t \u001b[1m\u001b[92m[ 0.59719728  4.15307516 11.          0.66501717  3.          0.95537014]\u001b[0m\t \u001b[1m\u001b[92m0.7070648622170269\u001b[0m\t \u001b[1m\u001b[92m0.7070648622170269\u001b[0m\t \u001b[1m\u001b[92m1.8431114830456843\u001b[0m\t \u001b[1m\u001b[92m1.8431114830456843\u001b[0m\n",
            "3  \t [ 8.79191945  9.92354379  5.          0.67714371 18.          0.57050675]\t 0.7598608339614092\t 0.7070648622170269\t 1.827645011864916\t 1.827645011864916\n",
            "4  \t [ 8.43962982  4.2216354  12.          0.61829836  3.          0.16854155]\t 1.0312511769390245\t 0.7070648622170269\t 1.8318820747213955\t 1.8318820747213955\n",
            "5  \t [2.20135958 9.62559813 6.         0.71280025 1.         0.39977427]\t 0.821741520088635\t 0.7070648622170269\t 1.9214349317425516\t 1.9214349317425516\n",
            "6  \t [ 4.3826391   8.63134178  8.          0.99312919 13.          0.76681566]\t 0.7209540253636189\t 0.7070648622170269\t 1.9315520716377015\t 1.9315520716377015\n",
            "7  \t [ 8.8168337   8.37959662 14.          0.86429866 15.          0.72516241]\t 0.7248028462146275\t 0.7070648622170269\t 1.916374165385571\t 1.916374165385571\n",
            "8  \t [6.77981326 1.558009   7.         0.85055204 5.         0.30145072]\t 0.9107534784629161\t 0.7070648622170269\t 1.9056864598430534\t 1.9056864598430534\n",
            "9  \t [ 4.65266155  1.51144578 13.          0.9981878   8.          0.76538736]\t 0.725647375042158\t 0.7070648622170269\t 1.9320397767527782\t 1.9320397767527782\n",
            "\u001b[1m\u001b[92m10\u001b[0m\t \u001b[1m\u001b[92m[ 7.61112297  9.51446313 12.          0.84027149 19.          0.95892047]\u001b[0m\t \u001b[1m\u001b[92m0.689025462517496\u001b[0m\t \u001b[1m\u001b[92m0.689025462517496\u001b[0m\t \u001b[1m\u001b[92m1.9219789608217195\u001b[0m\t \u001b[1m\u001b[92m1.9219789608217195\u001b[0m\n",
            "11 \t [ 0.11403055  8.4704762   5.          0.64787128 18.          0.27113862]\t 0.9287138963597805\t 0.689025462517496\t 1.9073638627009224\t 1.9073638627009224\n",
            "12 \t [ 8.75969772  9.81259093 13.          0.73915202  9.          0.12048735]\t 1.0220817994568854\t 0.689025462517496\t 1.9318049651096896\t 1.9318049651096896\n",
            "13 \t [1.37264123 4.42539257 5.         0.50284853 7.         0.43970984]\t 0.8266513707453879\t 0.689025462517496\t 1.97058031218291\t 1.97058031218291\n",
            "14 \t [ 0.62966465  6.1940162  12.          0.81741232 11.          0.49382371]\t 0.8182502230736013\t 0.689025462517496\t 1.97362044097194\t 1.97362044097194\n",
            "15 \t [0.  0.  5.  0.5 1.  0.1]\t 1.0356192288020616\t 0.689025462517496\t 1.9748762439730925\t 1.974876243834023\n",
            "16 \t [ 4.54549823  8.84141407 12.          0.50940273  3.          0.75742975]\t 0.7623000424638748\t 0.689025462517496\t 2.0070889946146293\t 2.0070889946146293\n",
            "17 \t [ 1.5425789   6.90869863 14.          0.81451949 19.          0.60916449]\t 0.7437272682178564\t 0.689025462517496\t 2.0001876395353166\t 2.0001876395353166\n",
            "18 \t [ 2.10994823  7.1805032  12.          0.63048792  8.          0.67645363]\t 0.7459513240013139\t 0.689025462517496\t 1.97156899194039\t 1.97156899194039\n",
            "19 \t [ 2.16727134  8.25338567 14.          0.51858242  5.          0.20747401]\t 1.0352571936435033\t 0.689025462517496\t 1.9891879875863037\t 1.9891879875863037\n",
            "20 \t [9.22875209 9.1986098  9.         0.90439491 3.         0.27523226]\t 0.9230186077285822\t 0.689025462517496\t 2.0337527064751475\t 2.0337527064751475\n",
            "21 \t [ 1.72825498  8.22275098 12.          0.72682357 16.          0.82564486]\t 0.7277371823928649\t 0.689025462517496\t 2.046630650904179\t 2.046630650904179\n",
            "22 \t [5.15068265 4.76861601 5.         0.70076898 1.         0.87159533]\t 0.7433881169429852\t 0.689025462517496\t 2.0281270283286514\t 2.0281270283286514\n",
            "23 \t [5.65101211 8.94413403 7.         0.64809449 8.         0.59228465]\t 0.7547149277921693\t 0.689025462517496\t 2.068150910998039\t 2.068150910998039\n",
            "24 \t [ 3.1808698   6.08364786 11.          0.83908038 16.          0.30036907]\t 0.9114560559082703\t 0.689025462517496\t 2.0234674827692385\t 2.0234674827692385\n",
            "25 \t [ 4.52812342  0.19443533 13.          0.65004115  2.          0.16077491]\t 1.0248025279634128\t 0.689025462517496\t 2.00725173016542\t 2.00725173016542\n",
            "26 \t [ 4.35725957  3.75495843 10.          0.8962831   7.          0.47601782]\t 0.8261521259015148\t 0.689025462517496\t 2.0756055327464553\t 2.0756055327464553\n",
            "27 \t [ 3.02633699  5.92948093 12.          0.75060687  4.          0.57938735]\t 0.7532872744350481\t 0.689025462517496\t 2.0403948732938635\t 2.0403948732938635\n",
            "28 \t [0.37569294 0.30864512 9.         0.6310655  7.         0.92576756]\t 0.6982328571669815\t 0.689025462517496\t 2.0244138490029573\t 2.0244138490029573\n",
            "29 \t [9.27654384 0.11345815 9.         0.76045104 1.         0.92226676]\t 0.7123414924113913\t 0.689025462517496\t 2.009266829988605\t 2.009266829988605\n",
            "\u001b[1m\u001b[92m30\u001b[0m\t \u001b[1m\u001b[92m[10.          6.09598933 15.          1.         20.          1.        ]\u001b[0m\t \u001b[1m\u001b[92m0.6801074837078909\u001b[0m\t \u001b[1m\u001b[92m0.6801074837078909\u001b[0m\t \u001b[1m\u001b[92m2.041271414645665\u001b[0m\t \u001b[1m\u001b[92m2.041271414641551\u001b[0m\n"
          ]
        },
        {
          "output_type": "execute_result",
          "data": {
            "text/plain": [
              "60353.186088836526"
            ]
          },
          "metadata": {},
          "execution_count": 52
        }
      ]
    },
    {
      "cell_type": "code",
      "metadata": {
        "id": "j8jZUeoWbTvn",
        "colab": {
          "base_uri": "https://localhost:8080/"
        },
        "outputId": "5e54e508-d677-4772-cd46-c7985fbf90ae"
      },
      "source": [
        "### Bayesian optimization runs (x20): 'exact' Acquisition Function run number = 12\n",
        "\n",
        "np.random.seed(run_num_12)\n",
        "surrogate_exact_12 = dtStudentProcess(cov_func, optimize=opt, nu = df)\n",
        "\n",
        "X_train12, X_test12, y_train12, y_test12 = train_test_split(X, y, test_size=test_perc, random_state=run_num_12)\n",
        "\n",
        "def f_syn_polarity12(alpha, gamma, max_depth, subsample, min_child_weight, colsample):\n",
        "    reg = XGBRegressor(reg_alpha=alpha, gamma=gamma, max_depth=int(max_depth), subsample=subsample, min_child_weight=min_child_weight,\n",
        "          colsample_bytree=colsample, n_estimators = n_est, random_state=run_num_12, objective = 'reg:squarederror')\n",
        "    score = np.array(cross_val_score(reg, X=X_train12, y=y_train12).mean())\n",
        "    return operator * score\n",
        "\n",
        "exact_12 = dGPGO(surrogate_exact_12, Acquisition_grad(util), f_syn_polarity12, param, n_jobs = -1) # Define BayesOpt\n",
        "exact_12.run(max_iter = max_iter, init_evals = n_init) # run\n",
        "\n",
        "### Return optimal parameters' set:\n",
        "params_exact_12 = exact_12.getResult()[0]\n",
        "params_exact_12['max_depth'] = int(params_exact_12['max_depth'])\n",
        "params_exact_12['min_child_weight'] = int(params_exact_12['min_child_weight'])\n",
        "\n",
        "### Re-train with optimal parameters, run predictons:\n",
        "dX_exact_train12 = xgb.DMatrix(X_train12, y_train12)\n",
        "dX_exact_test12 = xgb.DMatrix(X_test12, y_test12)\n",
        "model_exact_12 = xgb.train(params_exact_12, dX_exact_train12)\n",
        "pred_exact_12 = model_exact_12.predict(dX_exact_test12)\n",
        "\n",
        "rmse_exact_12 = np.sqrt(mean_squared_error(pred_exact_12, y_test12))\n",
        "rmse_exact_12"
      ],
      "execution_count": null,
      "outputs": [
        {
          "output_type": "stream",
          "name": "stdout",
          "text": [
            "Evaluation \t Proposed point \t  Current eval. \t  Best eval. \t         Max. ExactAcqFunc \t Max. ApproxAcqFunc \n",
            "init\t [1.54162842 7.40049697 6.         0.54321714 4.         0.11311747]\t 0.992708970032886\t 0.7896346786115067\t    \t    \n",
            "init\t [ 9.18747008  9.00714854 14.          0.97847467 11.          0.35544552]\t 0.9050380263035862\t 0.7896346786115067\t    \t    \n",
            "init\t [ 6.06083184  9.44225136 14.          0.95626942  5.          0.56910342]\t 0.8362986807103934\t 0.7896346786115067\t    \t    \n",
            "init\t [ 5.52037633  4.85377414  7.          0.97886436 17.          0.78810441]\t 0.7896346786115067\t 0.7896346786115067\t    \t    \n",
            "init\t [ 0.20809798  1.35210178  5.          0.65494879 16.          0.36062811]\t 0.9186387829358221\t 0.7896346786115067\t    \t    \n",
            "1  \t [9.46555822 8.57190559 5.         0.50164398 5.         0.71992807]\t 0.8115376813007883\t 0.7896346786115067\t 2.183038412540183\t 2.183038412540183\n",
            "2  \t [ 3.78385301  2.21923666 12.          0.57141407  8.          0.55842631]\t 0.8600045769145973\t 0.7896346786115067\t 2.1517374671781413\t 2.1517374671781413\n",
            "3  \t [ 7.48458025  0.82585105 14.          0.62666135 18.          0.34757206]\t 0.9136369680693782\t 0.7896346786115067\t 2.145343508420203\t 2.145343508420203\n",
            "4  \t [6.38266166 3.66323517 5.         0.6972131  9.         0.47709595]\t 0.9144290525005069\t 0.7896346786115067\t 2.1571360513865705\t 2.1571360513865705\n",
            "5  \t [ 5.83217552  8.53843574 11.          0.58549752 18.          0.26781236]\t 0.9216214538529052\t 0.7896346786115067\t 2.166486423715177\t 2.166486423715177\n",
            "6  \t [ 3.52118615  0.23388076 12.          0.56204237  1.          0.44568429]\t 0.9442383814615898\t 0.7896346786115067\t 2.175759476879034\t 2.175759476879034\n",
            "\u001b[1m\u001b[92m7\u001b[0m\t \u001b[1m\u001b[92m[ 6.10107735  0.03652674 11.          0.56244485 13.          0.89741329]\u001b[0m\t \u001b[1m\u001b[92m0.7783701142125483\u001b[0m\t \u001b[1m\u001b[92m0.7783701142125483\u001b[0m\t \u001b[1m\u001b[92m2.188582023316618\u001b[0m\t \u001b[1m\u001b[92m2.188582023316618\u001b[0m\n",
            "8  \t [ 9.11635581  9.60013795  5.          0.57034236 14.          0.41758327]\t 0.9239433760752476\t 0.7783701142125483\t 2.1664875075598125\t 2.1664875075598125\n",
            "9  \t [ 2.73067092  9.86029136  9.          0.98915314 11.          0.78920814]\t 0.7815140040967317\t 0.7783701142125483\t 2.174084798383505\t 2.174084798383505\n",
            "10 \t [ 0.14475494  9.8292754  12.          0.60331385  2.          0.9622215 ]\t 0.7880902159034013\t 0.7783701142125483\t 2.1565660746175626\t 2.1565660746175626\n",
            "11 \t [ 1.81539004  3.97973122 11.          0.55780808 14.          0.86016605]\t 0.8021824021652308\t 0.7783701142125483\t 2.1422361416901903\t 2.1422361416901903\n",
            "12 \t [ 0.10274077  3.67012236  6.          0.81389509 11.          0.83682267]\t 0.786862562407444\t 0.7783701142125483\t 2.1316035421392967\t 2.1316035421392967\n",
            "13 \t [ 8.71378379  5.91732489 10.          0.67395488  5.          0.37191233]\t 0.9140896924023043\t 0.7783701142125483\t 2.1201149034465727\t 2.1201149034465727\n",
            "14 \t [8.72042964 1.18098427 6.         0.87093363 1.         0.1200865 ]\t 0.978708815138663\t 0.7783701142125483\t 2.126738286402547\t 2.126738286402547\n",
            "15 \t [ 1.10490837  9.58829464  6.          0.57860445 19.          0.21544386]\t 0.9970201710934681\t 0.7783701142125483\t 2.1419466264786267\t 2.1419466264786267\n",
            "16 \t [0.        0.        5.        0.5       5.9069132 0.1      ]\t 0.9969385618911726\t 0.7783701142125483\t 2.1578471376627526\t 2.1578471303953575\n",
            "17 \t [3.57036467 2.0865863  7.         0.90362445 2.         0.13614253]\t 0.9720101800867267\t 0.7783701142125483\t 2.1748192755791087\t 2.1748192755791087\n",
            "\u001b[1m\u001b[92m18\u001b[0m\t \u001b[1m\u001b[92m[10. 10. 15.  1. 20.  1.]\u001b[0m\t \u001b[1m\u001b[92m0.7706848965834242\u001b[0m\t \u001b[1m\u001b[92m0.7706848965834242\u001b[0m\t \u001b[1m\u001b[92m2.177158490236111\u001b[0m\t \u001b[1m\u001b[92m2.1771584902361028\u001b[0m\n",
            "\u001b[1m\u001b[92m19\u001b[0m\t \u001b[1m\u001b[92m[ 4.82116392  7.94441114 13.          0.79896359 10.          0.94409065]\u001b[0m\t \u001b[1m\u001b[92m0.7656138946809342\u001b[0m\t \u001b[1m\u001b[92m0.7656138946809342\u001b[0m\t \u001b[1m\u001b[92m2.175799814222749\u001b[0m\t \u001b[1m\u001b[92m2.175799814222749\u001b[0m\n",
            "20 \t [4.88722703 1.05307859 6.         0.84108367 7.         0.32451309]\t 0.9150062445310105\t 0.7656138946809342\t 2.1595934409607707\t 2.1595934409607707\n",
            "21 \t [ 4.73215091  0.85301789  5.          0.940584   18.          0.80546064]\t 0.7987217033287252\t 0.7656138946809342\t 2.1434882682530274\t 2.1434882682530274\n",
            "22 \t [ 4.22119996  7.99655483  5.          0.78307763 14.          0.79061697]\t 0.7946617241328867\t 0.7656138946809342\t 2.184771299164565\t 2.184771299164565\n",
            "23 \t [7.12967992 8.154614   8.         0.5156473  9.         0.21177212]\t 0.9924239421587664\t 0.7656138946809342\t 2.1603888074166155\t 2.1603888074166155\n",
            "\u001b[1m\u001b[92m24\u001b[0m\t \u001b[1m\u001b[92m[ 9.56584662  1.20766794 14.          0.97352796  8.          0.95351226]\u001b[0m\t \u001b[1m\u001b[92m0.7643934600485252\u001b[0m\t \u001b[1m\u001b[92m0.7643934600485252\u001b[0m\t \u001b[1m\u001b[92m2.168471788957603\u001b[0m\t \u001b[1m\u001b[92m2.168471788957603\u001b[0m\n",
            "25 \t [ 1.04159226  4.03780394  5.          0.9134339  15.          0.13519165]\t 0.9785605674881227\t 0.7643934600485252\t 2.169384748764497\t 2.169384748764497\n",
            "26 \t [ 1.0206155   0.50876351 11.          0.82996077 17.          0.80891943]\t 0.7759755947443205\t 0.7643934600485252\t 2.2018301079222717\t 2.2018301079222717\n",
            "27 \t [ 9.54859608  4.28905195 10.04037159  1.         19.04037159  1.        ]\t 0.7696064101467652\t 0.7643934600485252\t 2.187700888455773\t 2.1877007529390573\n",
            "28 \t [ 0.17262698  1.68498662 10.          0.69482304  6.          0.13687299]\t 0.9798880020801095\t 0.7643934600485252\t 2.161315945512794\t 2.161315945512794\n",
            "29 \t [4.85059817 0.59059416 8.         0.66375786 6.         0.57600536]\t 0.8456632041648999\t 0.7643934600485252\t 2.176557828292034\t 2.176557828292034\n",
            "30 \t [ 0.42138623  7.7269096  13.          0.72605204 19.          0.17338535]\t 0.979555746560927\t 0.7643934600485252\t 2.154555595470174\t 2.154555595470174\n"
          ]
        },
        {
          "output_type": "execute_result",
          "data": {
            "text/plain": [
              "61363.012658767795"
            ]
          },
          "metadata": {},
          "execution_count": 53
        }
      ]
    },
    {
      "cell_type": "code",
      "metadata": {
        "id": "snTrqE2RbWbe",
        "colab": {
          "base_uri": "https://localhost:8080/"
        },
        "outputId": "15d4c8f1-a627-40d5-b93e-a4fd5412d6b6"
      },
      "source": [
        "### Bayesian optimization runs (x20): 'exact' Acquisition Function run number = 13 \n",
        "\n",
        "np.random.seed(run_num_13)\n",
        "surrogate_exact_13 = dtStudentProcess(cov_func, optimize=opt, nu = df)\n",
        "\n",
        "X_train13, X_test13, y_train13, y_test13 = train_test_split(X, y, test_size=test_perc, random_state=run_num_13)\n",
        "\n",
        "def f_syn_polarity13(alpha, gamma, max_depth, subsample, min_child_weight, colsample):\n",
        "    reg = XGBRegressor(reg_alpha=alpha, gamma=gamma, max_depth=int(max_depth), subsample=subsample, min_child_weight=min_child_weight,\n",
        "          colsample_bytree=colsample, n_estimators = n_est, random_state=run_num_13, objective = 'reg:squarederror')\n",
        "    score = np.array(cross_val_score(reg, X=X_train13, y=y_train13).mean())\n",
        "    return operator * score\n",
        "\n",
        "exact_13 = dGPGO(surrogate_exact_13, Acquisition_grad(util), f_syn_polarity13, param, n_jobs = -1) # Define BayesOpt\n",
        "exact_13.run(max_iter = max_iter, init_evals = n_init) # run\n",
        "\n",
        "### Return optimal parameters' set:\n",
        "params_exact_13 = exact_13.getResult()[0]\n",
        "params_exact_13['max_depth'] = int(params_exact_13['max_depth'])\n",
        "params_exact_13['min_child_weight'] = int(params_exact_13['min_child_weight'])\n",
        "\n",
        "### Re-train with optimal parameters, run predictons:\n",
        "dX_exact_train13 = xgb.DMatrix(X_train13, y_train13)\n",
        "dX_exact_test13 = xgb.DMatrix(X_test13, y_test13)\n",
        "model_exact_13 = xgb.train(params_exact_13, dX_exact_train13)\n",
        "pred_exact_13 = model_exact_13.predict(dX_exact_test13)\n",
        "\n",
        "rmse_exact_13 = np.sqrt(mean_squared_error(pred_exact_13, y_test13))\n",
        "rmse_exact_13"
      ],
      "execution_count": null,
      "outputs": [
        {
          "output_type": "stream",
          "name": "stdout",
          "text": [
            "Evaluation \t Proposed point \t  Current eval. \t  Best eval. \t         Max. ExactAcqFunc \t Max. ApproxAcqFunc \n",
            "init\t [ 7.77702411  2.3754122  11.          0.94649135 13.          0.7827256 ]\t 0.7315012035187541\t 0.7315012035187541\t    \t    \n",
            "init\t [ 7.51661514  6.07343344 11.          0.69402149 11.          0.13153287]\t 1.1319770010327717\t 0.7315012035187541\t    \t    \n",
            "init\t [ 2.98449471  0.58512492 10.          0.73579614 12.          0.33065195]\t 0.9318565354152348\t 0.7315012035187541\t    \t    \n",
            "init\t [ 3.47581215  0.0941277  11.          0.86143432  8.          0.58454932]\t 0.7799608780638936\t 0.7315012035187541\t    \t    \n",
            "init\t [ 4.70137857  6.24432527 10.          0.8149145  18.          0.10784416]\t 1.1305934464937346\t 0.7315012035187541\t    \t    \n",
            "1  \t [1.51786663 9.25994479 9.         0.99792981 2.         0.61199673]\t 0.7922048089873084\t 0.7315012035187541\t 2.3420498615360463\t 2.3420498615360463\n",
            "\u001b[1m\u001b[92m2\u001b[0m\t \u001b[1m\u001b[92m[10.          6.03100034 14.69418174  1.         19.69418174  1.        ]\u001b[0m\t \u001b[1m\u001b[92m0.7284779445464229\u001b[0m\t \u001b[1m\u001b[92m0.7284779445464229\u001b[0m\t \u001b[1m\u001b[92m2.280040658232072\u001b[0m\t \u001b[1m\u001b[92m2.280040658195758\u001b[0m\n",
            "3  \t [ 1.27154032  7.56256657  5.          0.85984573 12.          0.61608824]\t 0.7884892526498699\t 0.7284779445464229\t 2.216032280367223\t 2.216032280367223\n",
            "4  \t [ 4.39024044  6.42906019 12.          0.96666124  5.          0.79403332]\t 0.7332036085962248\t 0.7284779445464229\t 2.182553611432195\t 2.182553611432195\n",
            "5  \t [5.34651487 5.45650069 6.         0.93529094 7.         0.24078895]\t 1.1341345349522627\t 0.7284779445464229\t 2.143048079558373\t 2.143048079558373\n",
            "6  \t [ 1.86840748  0.75206083 14.          0.81141351 17.          0.47108772]\t 0.8233179447887817\t 0.7284779445464229\t 2.2147500863458\t 2.2147500863458\n",
            "7  \t [ 7.23781106  2.82221969 13.          0.97315776  3.          0.70798739]\t 0.7417675970068563\t 0.7284779445464229\t 2.1974893240853146\t 2.1974893240853146\n",
            "8  \t [ 0.53852623  1.13078322 12.          0.85062386  1.          0.22708294]\t 1.1442757918420738\t 0.7284779445464229\t 2.1683298978382024\t 2.1683298978382024\n",
            "9  \t [0.  0.  5.  0.5 1.  0.1]\t 1.1357880386522623\t 0.7284779445464229\t 2.22358453005824\t 2.22358453005824\n",
            "10 \t [ 5.91640152  9.89232522  5.          0.52190423 15.          0.21991228]\t 1.1260845041213354\t 0.7284779445464229\t 2.2680377382357264\t 2.2680377382357264\n",
            "11 \t [ 4.33230901  0.85672678  6.          0.63795453 19.          0.64597264]\t 0.7577952901048656\t 0.7284779445464229\t 2.3039448540095773\t 2.3039448540095773\n",
            "12 \t [ 9.34416034  2.41576992 12.          0.89956084  8.          0.9407939 ]\t 0.7381906010409407\t 0.7284779445464229\t 2.2785674765758537\t 2.2785674765758537\n",
            "13 \t [ 8.23661056  1.74251738  5.          0.73573442 11.          0.11684268]\t 1.122132457650395\t 0.7284779445464229\t 2.2535844093754185\t 2.2535844093754185\n",
            "14 \t [8.89376119 7.09293115 9.         0.78983641 3.         0.25997795]\t 0.945582519321136\t 0.7284779445464229\t 2.2839719058217027\t 2.2839719058217027\n",
            "15 \t [ 3.78319896  9.10205064 14.          0.62806706 13.          0.90182995]\t 0.7438065116890006\t 0.7284779445464229\t 2.2855765636790273\t 2.2855765636790273\n",
            "16 \t [ 1.60019443  8.00153149 13.          0.81061337 18.          0.21029408]\t 1.1291890513322822\t 0.7284779445464229\t 2.2647111586075943\t 2.2647111586075943\n",
            "17 \t [1.72746041 9.05911241 9.         0.76972057 8.         0.72560219]\t 0.7506048204164013\t 0.7284779445464229\t 2.2939116499506476\t 2.2939116499506476\n",
            "18 \t [2.57352577 0.33719112 9.         0.97251025 4.         0.51947396]\t 0.78517596210852\t 0.7284779445464229\t 2.277974625880606\t 2.277974625880606\n",
            "19 \t [ 0.786033    9.84105109  9.          0.91945518 19.          0.21791409]\t 1.1349556164442796\t 0.7284779445464229\t 2.2583371152599274\t 2.2583371152599274\n",
            "20 \t [ 9.35280568  2.44132886  8.          0.87489385 18.          0.92170626]\t 0.733467050872053\t 0.7284779445464229\t 2.2811736367649074\t 2.2811736367649074\n",
            "21 \t [4.36648808 8.42254188 6.         0.54886836 3.         0.62627434]\t 0.7616177222343332\t 0.7284779445464229\t 2.2676020215378174\t 2.2676020215378174\n",
            "22 \t [10.         10.         15.          1.         16.37435941  1.        ]\t 0.7312087996240852\t 0.7284779445464229\t 2.2870844328295563\t 2.28708443140376\n",
            "23 \t [3.55859061 5.61875163 8.         0.5882063  1.         0.57036163]\t 0.8119275659738049\t 0.7284779445464229\t 2.276419852754054\t 2.276419852754054\n",
            "24 \t [0.         2.06166643 5.         0.5        8.6081115  0.1       ]\t 1.1308504443814063\t 0.7284779445464229\t 2.2543852101888078\t 2.2543852101874053\n",
            "25 \t [ 1.31863824  8.38888205 14.          0.95097909  8.          0.13910651]\t 1.1422937173773007\t 0.7284779445464229\t 2.2524714857775434\t 2.2524714857775434\n",
            "26 \t [ 0.16863022  2.67389719  9.          0.62610438 15.          0.96408501]\t 0.7463927243485514\t 0.7284779445464229\t 2.2770191851496544\t 2.2770191851496544\n",
            "27 \t [ 7.81157149  9.253568   12.          0.76765119  7.          0.85043688]\t 0.7450347306835475\t 0.7284779445464229\t 2.261037366687227\t 2.261037366687227\n",
            "28 \t [ 3.21523099  9.01411529  5.          0.71759952 10.          0.55614635]\t 0.7956673392227565\t 0.7284779445464229\t 2.2330335947718827\t 2.2330335947718827\n",
            "29 \t [ 5.91501296  1.79061927 12.          0.95089632 11.          0.34299477]\t 0.9305364532791108\t 0.7284779445464229\t 2.244612654816661\t 2.244612654816661\n",
            "30 \t [ 2.32893999  0.70568143 10.          0.95982734 18.          0.36824695]\t 0.932353773777384\t 0.7284779445464229\t 2.231524454739535\t 2.231524454739535\n"
          ]
        },
        {
          "output_type": "execute_result",
          "data": {
            "text/plain": [
              "59305.51696480685"
            ]
          },
          "metadata": {},
          "execution_count": 54
        }
      ]
    },
    {
      "cell_type": "code",
      "metadata": {
        "id": "nAuEsXYbtOnC",
        "colab": {
          "base_uri": "https://localhost:8080/"
        },
        "outputId": "40a76d7e-82eb-4775-ca64-95f6b94daafb"
      },
      "source": [
        "### Bayesian optimization runs (x20): 'exact' Acquisition Function run number = 14 \n",
        "\n",
        "np.random.seed(run_num_14)\n",
        "surrogate_exact_14 = dtStudentProcess(cov_func, optimize=opt, nu = df)\n",
        "\n",
        "X_train14, X_test14, y_train14, y_test14 = train_test_split(X, y, test_size=test_perc, random_state=run_num_14)\n",
        "\n",
        "def f_syn_polarity14(alpha, gamma, max_depth, subsample, min_child_weight, colsample):\n",
        "    reg = XGBRegressor(reg_alpha=alpha, gamma=gamma, max_depth=int(max_depth), subsample=subsample, min_child_weight=min_child_weight,\n",
        "          colsample_bytree=colsample, n_estimators = n_est, random_state=run_num_14, objective = 'reg:squarederror')\n",
        "    score = np.array(cross_val_score(reg, X=X_train14, y=y_train14).mean())\n",
        "    return operator * score\n",
        "\n",
        "exact_14 = dGPGO(surrogate_exact_14, Acquisition_grad(util), f_syn_polarity14, param, n_jobs = -1) # Define BayesOpt\n",
        "exact_14.run(max_iter = max_iter, init_evals = n_init) # run\n",
        "\n",
        "### Return optimal parameters' set:\n",
        "params_exact_14 = exact_14.getResult()[0]\n",
        "params_exact_14['max_depth'] = int(params_exact_14['max_depth'])\n",
        "params_exact_14['min_child_weight'] = int(params_exact_14['min_child_weight'])\n",
        "\n",
        "### Re-train with optimal parameters, run predictons:\n",
        "dX_exact_train14 = xgb.DMatrix(X_train14, y_train14)\n",
        "dX_exact_test14 = xgb.DMatrix(X_test14, y_test14)\n",
        "model_exact_14 = xgb.train(params_exact_14, dX_exact_train14)\n",
        "pred_exact_14 = model_exact_14.predict(dX_exact_test14)\n",
        "\n",
        "rmse_exact_14 = np.sqrt(mean_squared_error(pred_exact_14, y_test14))\n",
        "rmse_exact_14"
      ],
      "execution_count": null,
      "outputs": [
        {
          "output_type": "stream",
          "name": "stdout",
          "text": [
            "Evaluation \t Proposed point \t  Current eval. \t  Best eval. \t         Max. ExactAcqFunc \t Max. ApproxAcqFunc \n",
            "init\t [ 5.13943344  7.73165052 12.          0.6831412  11.          0.37876233]\t 0.886516450243748\t 0.7696523735238344\t    \t    \n",
            "init\t [ 9.57603739  5.13116712 14.          0.76959997 12.          0.71328228]\t 0.8159404842786963\t 0.7696523735238344\t    \t    \n",
            "init\t [5.34950319 2.47493539 5.         0.50293689 6.         0.29706373]\t 0.9077084280320982\t 0.7696523735238344\t    \t    \n",
            "init\t [ 2.94506579  3.45329697  8.          0.87620946 14.          0.9783044 ]\t 0.7696523735238344\t 0.7696523735238344\t    \t    \n",
            "init\t [ 1.11811929  1.73004086  5.          0.73745288 12.          0.20586008]\t 0.9767143382937844\t 0.7696523735238344\t    \t    \n",
            "1  \t [ 6.50637223  2.67617722 14.          0.53562507  1.          0.16862152]\t 0.9945462140035275\t 0.7696523735238344\t 2.1415516503121452\t 2.1415516503121452\n",
            "\u001b[1m\u001b[92m2\u001b[0m\t \u001b[1m\u001b[92m[10. 10. 15.  1. 20.  1.]\u001b[0m\t \u001b[1m\u001b[92m0.754288614897578\u001b[0m\t \u001b[1m\u001b[92m0.754288614897578\u001b[0m\t \u001b[1m\u001b[92m2.193413459035585\u001b[0m\t \u001b[1m\u001b[92m2.193413459035585\u001b[0m\n",
            "3  \t [0.07739536 3.94062842 5.         0.7395899  3.         0.9764837 ]\t 0.7896752580111073\t 0.754288614897578\t 2.147427343941845\t 2.147427343941845\n",
            "4  \t [6.9195004  0.54496332 8.         0.81208598 3.         0.15286338]\t 0.9788770650266176\t 0.754288614897578\t 2.1219568526698382\t 2.1219568526698382\n",
            "5  \t [ 9.22243919  0.59642165  6.          0.72537748 19.          0.46639325]\t 0.8953625137558561\t 0.754288614897578\t 2.154343247476215\t 2.154343247476215\n",
            "6  \t [ 0.49138495  8.52939618 10.          0.75897738  1.          0.21612775]\t 0.9798753116153296\t 0.754288614897578\t 2.1582595284099235\t 2.1582595284099235\n",
            "7  \t [9.50752677 9.21478059 7.         0.68709357 5.         0.7478709 ]\t 0.8273794226776625\t 0.754288614897578\t 2.181363147770155\t 2.181363147770155\n",
            "8  \t [ 0.63353879  9.61017877  8.          0.96421247 18.          0.39200727]\t 0.8842694211806853\t 0.754288614897578\t 2.1688923705255676\t 2.1688923705255676\n",
            "9  \t [ 2.48800603  5.10093097 14.          0.58870342  6.          0.75046851]\t 0.7710107589600138\t 0.754288614897578\t 2.168674003594428\t 2.168674003594428\n",
            "10 \t [ 1.6361515   9.65601963  6.          0.78645605 10.          0.24059194]\t 0.9748722929296127\t 0.754288614897578\t 2.149880962695932\t 2.149880962695932\n",
            "11 \t [ 9.88809977  3.72297385  6.          0.68686416 11.          0.16446157]\t 0.9753715934338578\t 0.754288614897578\t 2.166543414880926\t 2.166543414880926\n",
            "12 \t [ 1.34002616  1.4060155  11.          0.78180262  2.          0.1334862 ]\t 0.978528721543705\t 0.754288614897578\t 2.181161337489316\t 2.181161337489316\n",
            "13 \t [ 9.52967585  8.1936199  11.          0.55796294 10.          0.99729185]\t 0.7763977773208957\t 0.754288614897578\t 2.1944045485021335\t 2.1944045485021335\n",
            "14 \t [ 9.50881705  0.8310658  14.          0.86317554 18.          0.16718532]\t 0.9704561998909906\t 0.754288614897578\t 2.179164980878525\t 2.179164980878525\n",
            "15 \t [ 4.60180761  5.86373927 12.          0.57860802 15.          0.61913601]\t 0.8488880266059902\t 0.754288614897578\t 2.19029027530418\t 2.19029027530418\n",
            "16 \t [ 6.17398984  7.07288493 12.          0.63300963  8.          0.36188703]\t 0.9004473708452709\t 0.754288614897578\t 2.184196757248552\t 2.184196757248552\n",
            "17 \t [ 1.36823932  1.07854751  6.          0.59486343 17.          0.76880686]\t 0.778866435123053\t 0.754288614897578\t 2.186382920107757\t 2.186382920107757\n",
            "18 \t [ 9.40706915  0.91600736 13.          0.648599    7.          0.62885715]\t 0.8252942732505897\t 0.754288614897578\t 2.190473863773327\t 2.190473863773327\n",
            "19 \t [ 3.46936711  8.05933995 13.          0.63796232  8.          0.58226276]\t 0.8566066993171872\t 0.754288614897578\t 2.1516334131637858\t 2.1516334131637858\n",
            "20 \t [ 8.45451465  8.29831948 14.          0.74040213  3.          0.92215751]\t 0.7815881052055862\t 0.754288614897578\t 2.178369581169152\t 2.178369581169152\n",
            "21 \t [4.16561464 4.3151821  6.         0.76299318 2.         0.59049538]\t 0.8474357581098328\t 0.754288614897578\t 2.1901023327673066\t 2.1901023327673066\n",
            "22 \t [ 0.6058315   0.50376999 11.          0.91215465  7.          0.32644328]\t 0.8879919195603492\t 0.754288614897578\t 2.1723054826541337\t 2.1723054826541337\n",
            "23 \t [ 7.23492203  5.17054691  8.          0.53461021 18.          0.11544004]\t 0.9821896458721675\t 0.754288614897578\t 2.1787903815934984\t 2.1787903815934984\n",
            "24 \t [1.12842654 4.49436112 8.         0.68703394 7.         0.83701659]\t 0.7800900414685491\t 0.754288614897578\t 2.165739352250875\t 2.165739352250875\n",
            "25 \t [ 5.5386478   9.30162083  6.          0.50498383 14.          0.37570322]\t 0.9077994665221223\t 0.754288614897578\t 2.1921940750851903\t 2.1921940750851903\n",
            "26 \t [ 5.73005003  1.18628884 13.          0.88016467 12.          0.48547975]\t 0.8868749954853754\t 0.754288614897578\t 2.1678213062490714\t 2.1678213062490714\n",
            "27 \t [9.7885039  6.2033537  9.         0.65492398 1.         0.51990551]\t 0.8634315827854548\t 0.754288614897578\t 2.1626195448480154\t 2.1626195448480154\n",
            "28 \t [ 8.16440635  3.57724702 11.          0.83367572  9.          0.82276147]\t 0.7636353158344195\t 0.754288614897578\t 2.1649377292698078\t 2.1649377292698078\n",
            "29 \t [ 9.79781036  7.70828329  5.          0.72056878 19.          0.87728226]\t 0.7800481665326269\t 0.754288614897578\t 2.1458199357511387\t 2.1458199357511387\n",
            "30 \t [ 4.33442518  0.21201691 11.          0.77606546  3.          0.66988451]\t 0.8347983363393409\t 0.754288614897578\t 2.1825405330500565\t 2.1825405330500565\n"
          ]
        },
        {
          "output_type": "execute_result",
          "data": {
            "text/plain": [
              "60569.20712257925"
            ]
          },
          "metadata": {},
          "execution_count": 55
        }
      ]
    },
    {
      "cell_type": "code",
      "metadata": {
        "id": "KgxvE7Irbbj_",
        "colab": {
          "base_uri": "https://localhost:8080/"
        },
        "outputId": "8fbccdfa-7f2e-4546-bb8b-96b78ceb4010"
      },
      "source": [
        "### Bayesian optimization runs (x20): 'exact' Acquisition Function run number = 15 \n",
        "\n",
        "np.random.seed(run_num_15)\n",
        "surrogate_exact_15 = dtStudentProcess(cov_func, optimize=opt, nu = df)\n",
        "\n",
        "X_train15, X_test15, y_train15, y_test15 = train_test_split(X, y, test_size=test_perc, random_state=run_num_15)\n",
        "\n",
        "def f_syn_polarity15(alpha, gamma, max_depth, subsample, min_child_weight, colsample):\n",
        "    reg = XGBRegressor(reg_alpha=alpha, gamma=gamma, max_depth=int(max_depth), subsample=subsample, min_child_weight=min_child_weight,\n",
        "          colsample_bytree=colsample, n_estimators = n_est, random_state=run_num_15, objective = 'reg:squarederror')\n",
        "    score = np.array(cross_val_score(reg, X=X_train15, y=y_train15).mean())\n",
        "    return operator * score\n",
        "\n",
        "exact_15 = dGPGO(surrogate_exact_15, Acquisition_grad(util), f_syn_polarity15, param, n_jobs = -1) # Define BayesOpt\n",
        "exact_15.run(max_iter = max_iter, init_evals = n_init) # run\n",
        "\n",
        "### Return optimal parameters' set:\n",
        "params_exact_15 = exact_15.getResult()[0]\n",
        "params_exact_15['max_depth'] = int(params_exact_15['max_depth'])\n",
        "params_exact_15['min_child_weight'] = int(params_exact_15['min_child_weight'])\n",
        "\n",
        "### Re-train with optimal parameters, run predictons:\n",
        "dX_exact_train15 = xgb.DMatrix(X_train15, y_train15)\n",
        "dX_exact_test15 = xgb.DMatrix(X_test15, y_test15)\n",
        "model_exact_15 = xgb.train(params_exact_15, dX_exact_train15)\n",
        "pred_exact_15 = model_exact_15.predict(dX_exact_test15)\n",
        "\n",
        "rmse_exact_15 = np.sqrt(mean_squared_error(pred_exact_15, y_test15))\n",
        "rmse_exact_15"
      ],
      "execution_count": null,
      "outputs": [
        {
          "output_type": "stream",
          "name": "stdout",
          "text": [
            "Evaluation \t Proposed point \t  Current eval. \t  Best eval. \t         Max. ExactAcqFunc \t Max. ApproxAcqFunc \n",
            "init\t [ 8.48817697  1.78895925 12.          0.55549316  8.          0.93397854]\t 0.7846478010899064\t 0.7846478010899064\t    \t    \n",
            "init\t [ 0.24953032  8.22298097 12.          0.62494951 11.          0.12924598]\t 1.0448868808294456\t 0.7846478010899064\t    \t    \n",
            "init\t [ 5.02017228  5.50882771 11.          0.85295832 19.          0.13548008]\t 1.0327067294213346\t 0.7846478010899064\t    \t    \n",
            "init\t [2.0023081  9.98543403 7.         0.6295772  2.         0.526127  ]\t 0.8536879526704689\t 0.7846478010899064\t    \t    \n",
            "init\t [ 5.09715306  9.45038417 11.          0.7388277  16.          0.22739973]\t 1.0323325469581077\t 0.7846478010899064\t    \t    \n",
            "1  \t [ 0.29158961  4.9949242  12.          0.89124583  3.          0.67554049]\t 0.810550884613735\t 0.7846478010899064\t 2.3413938717128535\t 2.3413938717128535\n",
            "2  \t [2.60517447 0.82584036 7.         0.6107555  4.         0.25427784]\t 0.9535088265263543\t 0.7846478010899064\t 2.2859199531843575\t 2.2859199531843575\n",
            "3  \t [ 1.91126037  0.99517267  5.          0.54111286 13.          0.82351196]\t 0.8272848096167836\t 0.7846478010899064\t 2.293084490202854\t 2.293084490202854\n",
            "\u001b[1m\u001b[92m4\u001b[0m\t \u001b[1m\u001b[92m[ 9.65016643  9.36315476  6.          0.59817648 12.          0.93115055]\u001b[0m\t \u001b[1m\u001b[92m0.7808363478466259\u001b[0m\t \u001b[1m\u001b[92m0.7808363478466259\u001b[0m\t \u001b[1m\u001b[92m2.2614719536698633\u001b[0m\t \u001b[1m\u001b[92m2.2614719536698633\u001b[0m\n",
            "5  \t [ 7.92634325  7.5869497  10.          0.81214373  5.          0.71583728]\t 0.8214564758537112\t 0.7808363478466259\t 2.225415776344724\t 2.225415776344724\n",
            "6  \t [ 7.93959095  1.14458347 12.          0.83279927 13.          0.31926382]\t 0.9316923990976885\t 0.7808363478466259\t 2.205017890199413\t 2.205017890199413\n",
            "\u001b[1m\u001b[92m7\u001b[0m\t \u001b[1m\u001b[92m[10. 10. 15.  1. 20.  1.]\u001b[0m\t \u001b[1m\u001b[92m0.7500277749997387\u001b[0m\t \u001b[1m\u001b[92m0.7500277749997387\u001b[0m\t \u001b[1m\u001b[92m2.2121427047644375\u001b[0m\t \u001b[1m\u001b[92m2.212142704764417\u001b[0m\n",
            "8  \t [ 6.40467887  8.91872264  5.          0.93323919 17.          0.21486028]\t 1.0317469364426475\t 0.7500277749997387\t 2.18335693750716\t 2.18335693750716\n",
            "9  \t [8.88449541 3.44367948 6.         0.58829924 7.         0.7864797 ]\t 0.8467944167491783\t 0.7500277749997387\t 2.2116953454827053\t 2.2116953454827053\n",
            "10 \t [ 4.98972515  5.99412796  8.          0.72322181 10.          0.65282303]\t 0.8156525833497259\t 0.7500277749997387\t 2.202179482976833\t 2.202179482976833\n",
            "11 \t [7.86329715 0.45193827 6.         0.68312899 1.         0.69810196]\t 0.8331518961036075\t 0.7500277749997387\t 2.1891295881748345\t 2.1891295881748345\n",
            "12 \t [1.37672687 0.04946237 5.         0.79719419 1.         0.81843222]\t 0.8291023984963773\t 0.7500277749997387\t 2.1801793166156545\t 2.1801793166156545\n",
            "13 \t [ 0.90706815  0.79490515  7.          0.51831376 19.          0.91250419]\t 0.7817258295570644\t 0.7500277749997387\t 2.171648073861493\t 2.171648073861493\n",
            "14 \t [ 8.99181419  1.29592358  9.          0.86284928 19.          0.2606215 ]\t 0.9289186496912898\t 0.7500277749997387\t 2.1585642560068785\t 2.1585642560068785\n",
            "15 \t [ 0.16461509  2.47453913  6.          0.69159787 16.          0.61162096]\t 0.8390246298076309\t 0.7500277749997387\t 2.164896376346973\t 2.164896376346973\n",
            "16 \t [ 1.01000548  1.96777104 12.          0.51504561  8.          0.68970296]\t 0.8363440079633978\t 0.7500277749997387\t 2.159520699329495\t 2.159520699329495\n",
            "17 \t [ 5.62432323  9.73264602 14.          0.97476986  1.          0.26183863]\t 0.9552511768812663\t 0.7500277749997387\t 2.15592559898048\t 2.15592559898048\n",
            "18 \t [ 4.29171811  0.04074186 13.          0.58769183 18.          0.36351335]\t 0.947062909235078\t 0.7500277749997387\t 2.169832029004672\t 2.169832029004672\n",
            "19 \t [ 9.64875283  9.32176949  8.          0.85263567 19.          0.33410227]\t 0.9264535302583298\t 0.7500277749997387\t 2.1767054016168528\t 2.1767054016168528\n",
            "20 \t [ 5.31037667  6.81676807  5.          0.53020463 18.          0.21260061]\t 1.0437596156191435\t 0.7500277749997387\t 2.1792688856401288\t 2.1792688856401288\n",
            "21 \t [8.81149616 6.28323965 6.         0.50689458 2.         0.19421846]\t 1.0506048051001848\t 0.7500277749997387\t 2.220380414769324\t 2.220380414769324\n",
            "\u001b[1m\u001b[92m22\u001b[0m\t \u001b[1m\u001b[92m[ 8.89192738  6.05665688  9.93696035  1.         13.93696035  1.        ]\u001b[0m\t \u001b[1m\u001b[92m0.743029946866192\u001b[0m\t \u001b[1m\u001b[92m0.743029946866192\u001b[0m\t \u001b[1m\u001b[92m2.2061936973005545\u001b[0m\t \u001b[1m\u001b[92m2.2061935607634737\u001b[0m\n",
            "23 \t [ 6.04262604  3.49698263 14.          0.62988823  3.          0.21136394]\t 1.0525057130171327\t 0.743029946866192\t 2.2003467178883835\t 2.2003467178883835\n",
            "24 \t [ 6.65527361  8.38369074 14.          0.9282554  10.          0.38464501]\t 0.9220170566192639\t 0.743029946866192\t 2.219181219156994\t 2.219181219156994\n",
            "25 \t [6.6803176  5.16849036 5.         0.60605786 3.         0.85637409]\t 0.8471085133591287\t 0.743029946866192\t 2.2531363973837055\t 2.2531363973837055\n",
            "26 \t [ 6.59000923  9.78665977 14.          0.63113594  1.          0.38899025]\t 0.9727332413478633\t 0.743029946866192\t 2.2362255505728954\t 2.2362255505728954\n",
            "\u001b[1m\u001b[92m27\u001b[0m\t \u001b[1m\u001b[92m[ 5.05579023  0.09405836  8.          0.93704589 10.          0.9570134 ]\u001b[0m\t \u001b[1m\u001b[92m0.7412282900611625\u001b[0m\t \u001b[1m\u001b[92m0.7412282900611625\u001b[0m\t \u001b[1m\u001b[92m2.211574465865595\u001b[0m\t \u001b[1m\u001b[92m2.211574465865595\u001b[0m\n",
            "28 \t [ 1.22265155  6.30887244  5.          0.90511531 14.          0.98577419]\t 0.7663996790811446\t 0.7412282900611625\t 2.1853628753421686\t 2.1853628753421686\n",
            "29 \t [ 9.86958766  9.71945286 10.          0.93465271  9.          0.31222907]\t 0.9370658207846627\t 0.7412282900611625\t 2.1629806835116248\t 2.1629806835116248\n",
            "30 \t [ 7.89982545  2.00481135  7.          0.89609355 14.          0.25587711]\t 0.9270316530566325\t 0.7412282900611625\t 2.201532128996755\t 2.201532128996755\n"
          ]
        },
        {
          "output_type": "execute_result",
          "data": {
            "text/plain": [
              "61931.472044342285"
            ]
          },
          "metadata": {},
          "execution_count": 56
        }
      ]
    },
    {
      "cell_type": "code",
      "metadata": {
        "id": "5TaP6RoGuiNT",
        "colab": {
          "base_uri": "https://localhost:8080/"
        },
        "outputId": "96c64a8a-3b21-4ddd-baa5-f4c2de5b9941"
      },
      "source": [
        "### Bayesian optimization runs (x20): 'exact' Acquisition Function run number = 16 \n",
        "\n",
        "np.random.seed(run_num_16)\n",
        "surrogate_exact_16 = dtStudentProcess(cov_func, optimize=opt, nu = df)\n",
        "\n",
        "X_train16, X_test16, y_train16, y_test16 = train_test_split(X, y, test_size=test_perc, random_state=run_num_16)\n",
        "\n",
        "def f_syn_polarity16(alpha, gamma, max_depth, subsample, min_child_weight, colsample):\n",
        "    reg = XGBRegressor(reg_alpha=alpha, gamma=gamma, max_depth=int(max_depth), subsample=subsample, min_child_weight=min_child_weight,\n",
        "          colsample_bytree=colsample, n_estimators = n_est, random_state=run_num_16, objective = 'reg:squarederror')\n",
        "    score = np.array(cross_val_score(reg, X=X_train16, y=y_train16).mean())\n",
        "    return operator * score\n",
        "\n",
        "exact_16 = dGPGO(surrogate_exact_16, Acquisition_grad(util), f_syn_polarity16, param, n_jobs = -1) # Define BayesOpt\n",
        "exact_16.run(max_iter = max_iter, init_evals = n_init) # run\n",
        "\n",
        "### Return optimal parameters' set:\n",
        "params_exact_16 = exact_16.getResult()[0]\n",
        "params_exact_16['max_depth'] = int(params_exact_16['max_depth'])\n",
        "params_exact_16['min_child_weight'] = int(params_exact_16['min_child_weight'])\n",
        "\n",
        "### Re-train with optimal parameters, run predictons:\n",
        "dX_exact_train16 = xgb.DMatrix(X_train16, y_train16)\n",
        "dX_exact_test16 = xgb.DMatrix(X_test16, y_test16)\n",
        "model_exact_16 = xgb.train(params_exact_16, dX_exact_train16)\n",
        "pred_exact_16 = model_exact_16.predict(dX_exact_test16)\n",
        "\n",
        "rmse_exact_16 = np.sqrt(mean_squared_error(pred_exact_16, y_test16))\n",
        "rmse_exact_16"
      ],
      "execution_count": null,
      "outputs": [
        {
          "output_type": "stream",
          "name": "stdout",
          "text": [
            "Evaluation \t Proposed point \t  Current eval. \t  Best eval. \t         Max. ExactAcqFunc \t Max. ApproxAcqFunc \n",
            "init\t [2.23291079 5.23163341 6.         0.65430839 5.         0.30077285]\t 1.0442882316794924\t 0.9988899440522335\t    \t    \n",
            "init\t [6.88726162 1.63731425 7.         0.97050543 2.         0.25392012]\t 1.034592364984854\t 0.9988899440522335\t    \t    \n",
            "init\t [ 5.94328983  5.6393473   5.          0.67602695 19.          0.42538144]\t 0.9988899440522335\t 0.9988899440522335\t    \t    \n",
            "init\t [ 0.88741148  3.08148142 14.          0.56043938  9.          0.27515386]\t 1.0616382201607613\t 0.9988899440522335\t    \t    \n",
            "init\t [ 2.74631586  1.30996118 11.          0.52160786  8.          0.27956463]\t 1.0586655163441985\t 0.9988899440522335\t    \t    \n",
            "\u001b[1m\u001b[92m1\u001b[0m\t \u001b[1m\u001b[92m[ 7.8937256   1.5972923  14.          0.61610774 17.          0.78739284]\u001b[0m\t \u001b[1m\u001b[92m0.7588724777099193\u001b[0m\t \u001b[1m\u001b[92m0.7588724777099193\u001b[0m\t \u001b[1m\u001b[92m2.5469952125213817\u001b[0m\t \u001b[1m\u001b[92m2.5469952125213817\u001b[0m\n",
            "2  \t [ 9.65014948  7.07834667 14.          0.88748515  2.          0.43513691]\t 1.0357720753154218\t 0.7588724777099193\t 2.4457874201275436\t 2.4457874201275436\n",
            "3  \t [ 9.80741348  8.90144788 14.          0.82131992 14.          0.46769684]\t 0.9957364873565091\t 0.7588724777099193\t 2.4591338192232577\t 2.4591338192232577\n",
            "4  \t [ 0.78730688  7.98438553 14.          0.91743896 18.          0.25645593]\t 1.0230792313624693\t 0.7588724777099193\t 2.4565512078519682\t 2.4565512078519682\n",
            "5  \t [ 1.64983341  0.37890577  9.          0.65437216 16.          0.49641159]\t 0.9990381912537636\t 0.7588724777099193\t 2.4621590054638984\t 2.4621590054638984\n",
            "6  \t [ 5.58043809  8.91463745  8.          0.85851576 10.          0.64398202]\t 0.857846290397769\t 0.7588724777099193\t 2.460671728341387\t 2.460671728341387\n",
            "7  \t [ 2.65571666  4.32529089 14.          0.66921971  2.          0.36607383]\t 1.0693894233525565\t 0.7588724777099193\t 2.430199766492934\t 2.430199766492934\n",
            "8  \t [ 5.53392197  2.00879238  6.          0.89871466 12.          0.67694144]\t 0.8611559732831295\t 0.7588724777099193\t 2.4464662838455693\t 2.4464662838455693\n",
            "\u001b[1m\u001b[92m9\u001b[0m\t \u001b[1m\u001b[92m[6.95801625 9.13555009 8.         0.87520198 2.         0.98461662]\u001b[0m\t \u001b[1m\u001b[92m0.7219532506859043\u001b[0m\t \u001b[1m\u001b[92m0.7219532506859043\u001b[0m\t \u001b[1m\u001b[92m2.422264673420071\u001b[0m\t \u001b[1m\u001b[92m2.422264673420071\u001b[0m\n",
            "10 \t [ 8.77492053  6.74985642  5.          0.72525183 13.          0.93231357]\t 0.7415155405776647\t 0.7219532506859043\t 2.3815227439298514\t 2.3815227439298514\n",
            "11 \t [ 1.18539745  9.79684488 10.          0.69107903  4.          0.12860486]\t 1.1107767409489193\t 0.7219532506859043\t 2.3481115703067066\t 2.3481115703067066\n",
            "12 \t [ 8.8197294   2.64777319 14.          0.98646567 10.          0.63786085]\t 0.857182327987213\t 0.7219532506859043\t 2.373086273266344\t 2.373086273266344\n",
            "\u001b[1m\u001b[92m13\u001b[0m\t \u001b[1m\u001b[92m[ 0.26172129  9.94921995 14.          0.88029118  9.          0.93655616]\u001b[0m\t \u001b[1m\u001b[92m0.7195558119979323\u001b[0m\t \u001b[1m\u001b[92m0.7195558119979323\u001b[0m\t \u001b[1m\u001b[92m2.357810525285693\u001b[0m\t \u001b[1m\u001b[92m2.357810525285693\u001b[0m\n",
            "14 \t [ 5.41155711  5.82534705 10.          0.62444801 12.          0.48368067]\t 1.011456246332149\t 0.7195558119979323\t 2.3288494464472733\t 2.3288494464472733\n",
            "15 \t [ 0.02157337  9.97534925  5.          0.75404051 13.          0.40760752]\t 1.0073272814467533\t 0.7195558119979323\t 2.336844066462833\t 2.336844066462833\n",
            "16 \t [ 5.73702737  7.50903876 13.          0.61487351 15.          0.57742278]\t 0.894093323976883\t 0.7195558119979323\t 2.3432264297017285\t 2.3432264297017285\n",
            "17 \t [ 7.10469951  6.34150339 11.          0.9481748   6.          0.12277199]\t 1.096518529758772\t 0.7195558119979323\t 2.3389394465720237\t 2.3389394465720237\n",
            "18 \t [ 9.56839048  0.13416862 13.          0.80729993  3.          0.41100156]\t 1.0333946700789831\t 0.7195558119979323\t 2.3706647481524037\t 2.3706647481524037\n",
            "19 \t [0.  0.  5.  0.5 1.  0.1]\t 1.110440514541687\t 0.7195558119979323\t 2.3458609217391952\t 2.3458609217087383\n",
            "20 \t [8.75370971 6.63075821 5.         0.51315816 7.         0.52603065]\t 0.9054977129617926\t 0.7195558119979323\t 2.3779019501383916\t 2.3779019501383916\n",
            "\u001b[1m\u001b[92m21\u001b[0m\t \u001b[1m\u001b[92m[ 5.07098336  7.38025429 15.          1.         10.36593677  1.        ]\u001b[0m\t \u001b[1m\u001b[92m0.6978272585033538\u001b[0m\t \u001b[1m\u001b[92m0.6978272585033538\u001b[0m\t \u001b[1m\u001b[92m2.388617006429795\u001b[0m\t \u001b[1m\u001b[92m2.3886169895486553\u001b[0m\n",
            "22 \t [ 2.23869812  4.33360146  5.          0.5        15.5650267   0.1       ]\t 1.1072737669883523\t 0.6978272585033538\t 2.380364645592112\t 2.380364612420992\n",
            "23 \t [10.         10.         12.68302249  1.          7.68302249  1.        ]\t 0.6989864224226168\t 0.6978272585033538\t 2.366104771515454\t 2.3661047714138896\n",
            "24 \t [9.80508544 0.83042511 7.         0.54124599 9.         0.7836072 ]\t 0.7761448350601515\t 0.6978272585033538\t 2.3465389691797918\t 2.3465389691797918\n",
            "25 \t [ 9.01141716  1.23452325  9.          0.70620993 16.          0.46074297]\t 1.0029978093526934\t 0.6978272585033538\t 2.33029709595256\t 2.33029709595256\n",
            "26 \t [ 3.73420217  8.22730904 13.          0.84562785  9.          0.47506411]\t 1.0050223847057222\t 0.6978272585033538\t 2.331838340248615\t 2.331838340248615\n",
            "27 \t [ 3.87907908  1.7609891  11.          0.72159537 13.          0.66065913]\t 0.8647657423877456\t 0.6978272585033538\t 2.355586925678348\t 2.355586925678348\n",
            "28 \t [ 1.9619463   0.16028995 10.          0.50330845  2.          0.6207421 ]\t 0.9390116776172818\t 0.6978272585033538\t 2.3411700264700874\t 2.3411700264700874\n",
            "29 \t [ 1.58467279  1.68272877 13.          0.86101343 12.          0.4100987 ]\t 1.004998254560435\t 0.6978272585033538\t 2.348468489860378\t 2.348468489860378\n",
            "30 \t [ 9.05499758  6.30691904 14.67927609  1.         18.67927609  1.        ]\t 0.7028990193305749\t 0.6978272585033538\t 2.346583370748907\t 2.346583228040549\n"
          ]
        },
        {
          "output_type": "execute_result",
          "data": {
            "text/plain": [
              "60129.34052509082"
            ]
          },
          "metadata": {},
          "execution_count": 57
        }
      ]
    },
    {
      "cell_type": "code",
      "metadata": {
        "id": "NiOaMUmgulbx",
        "colab": {
          "base_uri": "https://localhost:8080/"
        },
        "outputId": "047fb5c8-de54-4002-96ce-e1db21b970a8"
      },
      "source": [
        "### Bayesian optimization runs (x20): 'exact' Acquisition Function run number = 17 \n",
        "\n",
        "np.random.seed(run_num_17)\n",
        "surrogate_exact_17 = dtStudentProcess(cov_func, optimize=opt, nu = df)\n",
        "\n",
        "X_train17, X_test17, y_train17, y_test17 = train_test_split(X, y, test_size=test_perc, random_state=run_num_17)\n",
        "\n",
        "def f_syn_polarity17(alpha, gamma, max_depth, subsample, min_child_weight, colsample):\n",
        "    reg = XGBRegressor(reg_alpha=alpha, gamma=gamma, max_depth=int(max_depth), subsample=subsample, min_child_weight=min_child_weight,\n",
        "          colsample_bytree=colsample, n_estimators = n_est, random_state=run_num_17, objective = 'reg:squarederror')\n",
        "    score = np.array(cross_val_score(reg, X=X_train17, y=y_train17).mean())\n",
        "    return operator * score\n",
        "\n",
        "exact_17 = dGPGO(surrogate_exact_17, Acquisition_grad(util), f_syn_polarity17, param, n_jobs = -1) # Define BayesOpt\n",
        "exact_17.run(max_iter = max_iter, init_evals = n_init) # run\n",
        "\n",
        "### Return optimal parameters' set:\n",
        "params_exact_17 = exact_17.getResult()[0]\n",
        "params_exact_17['max_depth'] = int(params_exact_17['max_depth'])\n",
        "params_exact_17['min_child_weight'] = int(params_exact_17['min_child_weight'])\n",
        "\n",
        "### Re-train with optimal parameters, run predictons:\n",
        "dX_exact_train17 = xgb.DMatrix(X_train17, y_train17)\n",
        "dX_exact_test17 = xgb.DMatrix(X_test17, y_test17)\n",
        "model_exact_17 = xgb.train(params_exact_17, dX_exact_train17)\n",
        "pred_exact_17 = model_exact_17.predict(dX_exact_test17)\n",
        "\n",
        "rmse_exact_17 = np.sqrt(mean_squared_error(pred_exact_17, y_test17))\n",
        "rmse_exact_17"
      ],
      "execution_count": null,
      "outputs": [
        {
          "output_type": "stream",
          "name": "stdout",
          "text": [
            "Evaluation \t Proposed point \t  Current eval. \t  Best eval. \t         Max. ExactAcqFunc \t Max. ApproxAcqFunc \n",
            "init\t [ 2.94665003  5.30586756 11.          0.94443241 14.          0.80828691]\t 0.8160193762021096\t 0.8160193762021096\t    \t    \n",
            "init\t [ 6.56333522  6.37520896 12.          0.81487881 18.          0.42203224]\t 0.9345750435828236\t 0.8160193762021096\t    \t    \n",
            "init\t [ 9.45683187  0.6004468  11.          0.5171566  10.          0.53881211]\t 0.8609997448649105\t 0.8160193762021096\t    \t    \n",
            "init\t [2.72705857 1.19063434 6.         0.74176431 6.         0.10101151]\t 0.9816665199899536\t 0.8160193762021096\t    \t    \n",
            "init\t [ 4.77631812  5.24671297 13.          0.66254476 19.          0.36708086]\t 0.9568167510294832\t 0.8160193762021096\t    \t    \n",
            "1  \t [ 0.65702322  5.79284078 13.          0.75136902  1.          0.30306068]\t 0.9860041719301801\t 0.8160193762021096\t 2.216166973039768\t 2.216166973039768\n",
            "2  \t [8.79462978 7.51560605 6.         0.76312232 8.         0.57156636]\t 0.8418838401878418\t 0.8160193762021096\t 2.250563064257388\t 2.250563064257388\n",
            "\u001b[1m\u001b[92m3\u001b[0m\t \u001b[1m\u001b[92m[0.65992542 7.03112384 5.         0.85138174 1.         0.9514344 ]\u001b[0m\t \u001b[1m\u001b[92m0.7805118546901472\u001b[0m\t \u001b[1m\u001b[92m0.7805118546901472\u001b[0m\t \u001b[1m\u001b[92m2.224628877610899\u001b[0m\t \u001b[1m\u001b[92m2.224628877610899\u001b[0m\n",
            "4  \t [ 9.51671323  9.6124566  13.          0.71797221  5.          0.16581182]\t 0.9840979999934294\t 0.7805118546901472\t 2.187978803862593\t 2.187978803862593\n",
            "5  \t [ 9.17797544  5.99568118  6.          0.52445603 15.          0.40946449]\t 0.955892785185136\t 0.7805118546901472\t 2.2138127450478513\t 2.2138127450478513\n",
            "6  \t [ 6.81284184  2.29577018  7.          0.5239727  13.          0.33920765]\t 0.9781132546552117\t 0.7805118546901472\t 2.235910322234287\t 2.235910322234287\n",
            "7  \t [ 2.46339402  0.14039019 14.          0.95096219  7.          0.5441132 ]\t 0.8404775189371637\t 0.7805118546901472\t 2.2427924238833477\t 2.2427924238833477\n",
            "8  \t [9.72843652 3.88893279 9.         0.6901555  1.         0.31608219]\t 0.9731655942341536\t 0.7805118546901472\t 2.228035162187158\t 2.228035162187158\n",
            "9  \t [9.85206608 0.28191822 5.         0.52457928 8.         0.84714334]\t 0.8508120667734606\t 0.7805118546901472\t 2.24726416228802\t 2.24726416228802\n",
            "10 \t [ 0.2191332   8.51773955  5.          0.60657578 15.          0.49735822]\t 0.9550900145970594\t 0.7805118546901472\t 2.2295960937635932\t 2.2295960937635932\n",
            "11 \t [ 0.19725752  8.16335211 14.          0.80836431  8.          0.45209851]\t 0.9443317250470002\t 0.7805118546901472\t 2.2370780876492797\t 2.2370780876492797\n",
            "12 \t [0.95504342 7.30424524 8.         0.76682007 6.         0.21761275]\t 0.9795870115119684\t 0.7805118546901472\t 2.2475100406801753\t 2.2475100406801753\n",
            "\u001b[1m\u001b[92m13\u001b[0m\t \u001b[1m\u001b[92m[10. 10. 15.  1. 20.  1.]\u001b[0m\t \u001b[1m\u001b[92m0.742943724008268\u001b[0m\t \u001b[1m\u001b[92m0.742943724008268\u001b[0m\t \u001b[1m\u001b[92m2.2551809103456284\u001b[0m\t \u001b[1m\u001b[92m2.2551808627433685\u001b[0m\n",
            "14 \t [ 7.35111323  4.42247898 14.          0.92954426  7.          0.31778445]\t 0.959605938976237\t 0.742943724008268\t 2.2283800411563095\t 2.2283800411563095\n",
            "15 \t [ 4.97204887  2.40072226  5.          0.54268748 19.          0.30995407]\t 0.9759678380966751\t 0.742943724008268\t 2.2394997021545775\t 2.2394997021545775\n",
            "16 \t [ 5.22074709  0.74229772 13.          0.87455275  7.          0.44305495]\t 0.9475819018040168\t 0.742943724008268\t 2.2481924592284255\t 2.2481924592284255\n",
            "17 \t [4.28909467 2.95396152 7.         0.61833417 1.         0.26051641]\t 0.978412128179418\t 0.742943724008268\t 2.252897039876782\t 2.252897039876782\n",
            "18 \t [0.91443767 6.97440714 5.         0.78916973 2.         0.81132272]\t 0.8282909656929418\t 0.742943724008268\t 2.260548297960571\t 2.260548297960571\n",
            "19 \t [ 0.45348627  9.34732483 12.          0.95759453 19.          0.71400033]\t 0.8425830184404466\t 0.742943724008268\t 2.25852190518595\t 2.25852190518595\n",
            "20 \t [ 5.69744194  0.50833306 12.          0.52721732 15.          0.55142325]\t 0.8614918866034806\t 0.742943724008268\t 2.20146906735756\t 2.201469081825735\n",
            "21 \t [ 4.48878711  5.49356507 14.          0.56680442 14.          0.88105297]\t 0.7847481688271192\t 0.742943724008268\t 2.2697669004272565\t 2.2697669004272565\n",
            "22 \t [ 6.72796419  6.10053296 14.          0.56325639  2.          0.91580991]\t 0.7914341277502726\t 0.742943724008268\t 2.23021684074072\t 2.23021684074072\n",
            "23 \t [ 5.18644121  9.97216159 13.          0.51656015 15.          0.59837352]\t 0.8589132192206685\t 0.742943724008268\t 2.2438122305116766\t 2.2438122305116766\n",
            "24 \t [ 0.01662929  3.46629364  8.          0.7460687  11.          0.32343978]\t 0.9599687924042467\t 0.742943724008268\t 2.1800557965672516\t 2.1800557965672516\n",
            "25 \t [ 9.74293342  5.05235376 15.          1.         15.0243791   1.        ]\t 0.7442118758008819\t 0.742943724008268\t 2.2097996883574496\t 2.2097991305309446\n",
            "26 \t [ 8.35560958  6.49504743 11.          0.90882708 12.          0.40676904]\t 0.9390064468970415\t 0.742943724008268\t 2.2295145280543864\t 2.2295145280543864\n",
            "27 \t [ 5.48379726  6.58855631  5.          0.91493075 18.          0.89669113]\t 0.7787515875060036\t 0.742943724008268\t 2.2289253476133206\t 2.2289253476133206\n",
            "28 \t [ 4.55919043  8.6591134   6.          0.8884863  12.          0.96165246]\t 0.768672041990598\t 0.742943724008268\t 2.1871042222500208\t 2.1871042222500208\n",
            "29 \t [ 7.57643221  2.75634527 14.          0.54972325 18.          0.56026463]\t 0.860674338231938\t 0.742943724008268\t 2.213688871525584\t 2.213688871525584\n",
            "30 \t [ 3.17187998  4.13355162  8.          0.8657932  13.          0.82446402]\t 0.8118933760299614\t 0.742943724008268\t 2.1706363307799297\t 2.1706363307799297\n"
          ]
        },
        {
          "output_type": "execute_result",
          "data": {
            "text/plain": [
              "59823.1409719917"
            ]
          },
          "metadata": {},
          "execution_count": 58
        }
      ]
    },
    {
      "cell_type": "code",
      "metadata": {
        "id": "5H4MWSXFcZjO",
        "colab": {
          "base_uri": "https://localhost:8080/"
        },
        "outputId": "5216d050-5148-4864-c74e-38dd4b8c03ff"
      },
      "source": [
        "### Bayesian optimization runs (x20): 'exact' Acquisition Function run number = 18 \n",
        "\n",
        "np.random.seed(run_num_18)\n",
        "surrogate_exact_18 = dtStudentProcess(cov_func, optimize=opt, nu = df)\n",
        "\n",
        "X_train18, X_test18, y_train18, y_test18 = train_test_split(X, y, test_size=test_perc, random_state=run_num_18)\n",
        "\n",
        "def f_syn_polarity18(alpha, gamma, max_depth, subsample, min_child_weight, colsample):\n",
        "    reg = XGBRegressor(reg_alpha=alpha, gamma=gamma, max_depth=int(max_depth), subsample=subsample, min_child_weight=min_child_weight,\n",
        "          colsample_bytree=colsample, n_estimators = n_est, random_state=run_num_18, objective = 'reg:squarederror')\n",
        "    score = np.array(cross_val_score(reg, X=X_train18, y=y_train18).mean())\n",
        "    return operator * score\n",
        "\n",
        "exact_18 = dGPGO(surrogate_exact_18, Acquisition_grad(util), f_syn_polarity18, param, n_jobs = -1) # Define BayesOpt\n",
        "exact_18.run(max_iter = max_iter, init_evals = n_init) # run\n",
        "\n",
        "### Return optimal parameters' set:\n",
        "params_exact_18 = exact_18.getResult()[0]\n",
        "params_exact_18['max_depth'] = int(params_exact_18['max_depth'])\n",
        "params_exact_18['min_child_weight'] = int(params_exact_18['min_child_weight'])\n",
        "\n",
        "### Re-train with optimal parameters, run predictons:\n",
        "dX_exact_train18 = xgb.DMatrix(X_train18, y_train18)\n",
        "dX_exact_test18 = xgb.DMatrix(X_test18, y_test18)\n",
        "model_exact_18 = xgb.train(params_exact_18, dX_exact_train18)\n",
        "pred_exact_18 = model_exact_18.predict(dX_exact_test18)\n",
        "\n",
        "rmse_exact_18 = np.sqrt(mean_squared_error(pred_exact_18, y_test18))\n",
        "rmse_exact_18"
      ],
      "execution_count": null,
      "outputs": [
        {
          "output_type": "stream",
          "name": "stdout",
          "text": [
            "Evaluation \t Proposed point \t  Current eval. \t  Best eval. \t         Max. ExactAcqFunc \t Max. ApproxAcqFunc \n",
            "init\t [6.50374242 5.05453374 6.         0.59092011 3.         0.28357516]\t 0.9747807501509798\t 0.8413213471093884\t    \t    \n",
            "init\t [0.11506734 4.26891483 9.         0.81785956 5.         0.63489043]\t 0.8434056917425027\t 0.8413213471093884\t    \t    \n",
            "init\t [ 2.8861259   6.35547834 11.          0.64267955 14.          0.27877092]\t 0.9720565145525129\t 0.8413213471093884\t    \t    \n",
            "init\t [6.57189031 6.99655629 8.         0.63235896 4.         0.52894035]\t 0.8568115101817837\t 0.8413213471093884\t    \t    \n",
            "init\t [ 6.66600348  2.11312037 14.          0.74363461  4.          0.73174558]\t 0.8413213471093884\t 0.8413213471093884\t    \t    \n",
            "1  \t [ 8.67093232  0.11649132  5.          0.92962202 15.          0.53672863]\t 0.8631585877624761\t 0.8413213471093884\t 2.1986791675557016\t 2.1986791675557016\n",
            "\u001b[1m\u001b[92m2\u001b[0m\t \u001b[1m\u001b[92m[ 7.2764983   0.11744451 14.          0.65239666 17.          0.99049521]\u001b[0m\t \u001b[1m\u001b[92m0.7571977630434763\u001b[0m\t \u001b[1m\u001b[92m0.7571977630434763\u001b[0m\t \u001b[1m\u001b[92m2.1848420405006284\u001b[0m\t \u001b[1m\u001b[92m2.1848420405006284\u001b[0m\n",
            "\u001b[1m\u001b[92m3\u001b[0m\t \u001b[1m\u001b[92m[10. 10. 15.  1. 20.  1.]\u001b[0m\t \u001b[1m\u001b[92m0.7495474900677329\u001b[0m\t \u001b[1m\u001b[92m0.7495474900677329\u001b[0m\t \u001b[1m\u001b[92m2.140804211550937\u001b[0m\t \u001b[1m\u001b[92m2.140804211525502\u001b[0m\n",
            "4  \t [ 9.05522886  7.72410538  5.          0.69563915 18.          0.34113663]\t 0.9891420999894684\t 0.7495474900677329\t 2.1051196281337625\t 2.1051196281337625\n",
            "5  \t [ 8.5959483   8.40141494 11.          0.55097822 19.          0.52848079]\t 0.8565382704778095\t 0.7495474900677329\t 2.1458466611934255\t 2.1458466611934255\n",
            "6  \t [ 8.22273842  9.68669454  5.          0.7147283  11.          0.16411281]\t 1.0897095171845277\t 0.7495474900677329\t 2.1383280110483875\t 2.1383280110483875\n",
            "7  \t [3.28907983 0.32007134 5.         0.82737078 1.         0.19815427]\t 1.0800340281896266\t 0.7495474900677329\t 2.1943939618655928\t 2.1943939618655928\n",
            "8  \t [ 1.24316399  9.43141312 14.          0.66900118  7.          0.55235225]\t 0.8576035440570304\t 0.7495474900677329\t 2.2332367651659846\t 2.2332367651659846\n",
            "9  \t [0.         0.         5.         0.5        7.86123549 0.1       ]\t 1.08216376877593\t 0.7495474900677329\t 2.2233190083457774\t 2.2233190012001987\n",
            "\u001b[1m\u001b[92m10\u001b[0m\t \u001b[1m\u001b[92m[10.         10.         15.          1.         13.25865825  1.        ]\u001b[0m\t \u001b[1m\u001b[92m0.7464050823070849\u001b[0m\t \u001b[1m\u001b[92m0.7464050823070849\u001b[0m\t \u001b[1m\u001b[92m2.256528131555985\u001b[0m\t \u001b[1m\u001b[92m2.2565281212611676\u001b[0m\n",
            "11 \t [2.26673282 9.18109909 5.         0.89654818 1.         0.23064839]\t 1.0833498845487965\t 0.7464050823070849\t 2.232339171321225\t 2.232339171321225\n",
            "12 \t [ 0.62191196  4.69754177  5.          0.72971917 15.          0.95903084]\t 0.7754264864839603\t 0.7464050823070849\t 2.2588522330064484\t 2.2588522330064484\n",
            "13 \t [ 5.48459978  3.46428764  6.          0.68559202 11.          0.97835551]\t 0.7658226206636108\t 0.7464050823070849\t 2.2414704948871287\t 2.2414704948871287\n",
            "14 \t [ 0.1747554   0.48895708 14.          0.57846102  7.          0.70331218]\t 0.8476959371678913\t 0.7464050823070849\t 2.224488842708334\t 2.224488842708334\n",
            "15 \t [ 9.13118043  0.30707992 11.          0.56923364  8.          0.95671009]\t 0.7805865416538793\t 0.7464050823070849\t 2.2114583307857387\t 2.2114583307857387\n",
            "16 \t [ 2.74922981  6.93422037  7.          0.64536331 17.          0.3979189 ]\t 0.9079405182192885\t 0.7464050823070849\t 2.2007267602025924\t 2.2007267602025924\n",
            "17 \t [0.80116063 4.55633099 5.         0.79763457 4.         0.36850753]\t 0.9900943901696927\t 0.7464050823070849\t 2.2029844547160424\t 2.2029844547160424\n",
            "18 \t [ 7.49379106  4.28777418 12.          0.51562956  7.          0.83771026]\t 0.8108696725518876\t 0.7464050823070849\t 2.218375174046944\t 2.218375174046944\n",
            "19 \t [9.2798599  7.10759547 6.         0.7926243  1.         0.10786223]\t 1.0782261571143834\t 0.7464050823070849\t 2.2134624626880637\t 2.2134624626880637\n",
            "20 \t [ 1.66783825  3.86062767 10.          0.57131975 19.          0.50542835]\t 0.8581182648794368\t 0.7464050823070849\t 2.268070400839771\t 2.268070400839771\n",
            "21 \t [ 7.98752418  9.16826643 14.          0.79759247  3.          0.1066068 ]\t 1.0805838908112566\t 0.7464050823070849\t 2.2131365660115994\t 2.2131365660115994\n",
            "22 \t [ 2.18409886  4.96039215 11.          0.75899845  9.          0.47499733]\t 0.9101007619674082\t 0.7464050823070849\t 2.2379183082588057\t 2.2379183082588057\n",
            "23 \t [ 6.72349545  5.27194732 13.          0.74776676 17.          0.30949491]\t 0.960458435595567\t 0.7464050823070849\t 2.2486826884895037\t 2.2486826884895037\n",
            "24 \t [ 6.53986112  7.86486911  8.          0.51123614 12.          0.99656982]\t 0.7689475410076321\t 0.7464050823070849\t 2.2484638979696463\t 2.2484638979696463\n",
            "25 \t [ 4.27410782  0.15634313 12.          0.77296612 10.          0.30164408]\t 0.9694207515550847\t 0.7464050823070849\t 2.2673383681792036\t 2.2673383681792036\n",
            "26 \t [ 0.40678625  1.26787537  5.          0.70261051 12.          0.55749237]\t 0.874691617323094\t 0.7464050823070849\t 2.2645978965494495\t 2.2645978965494495\n",
            "27 \t [ 0.13605264  1.97003224 14.          0.98095679 12.          0.60518888]\t 0.831335888155655\t 0.7464050823070849\t 2.232933314685147\t 2.232933314685147\n",
            "28 \t [ 0.21959499  5.23035289 12.          0.91796248  7.          0.20873253]\t 1.0750435829982965\t 0.7464050823070849\t 2.2183188011195853\t 2.2183188011195853\n",
            "29 \t [9.31614024 4.63885987 7.         0.54659744 6.         0.74814245]\t 0.8437734790413737\t 0.7464050823070849\t 2.22935131289317\t 2.22935131289317\n",
            "30 \t [6.65163782 6.39807144 6.         0.64802115 8.         0.12708916]\t 1.0861773102884364\t 0.7464050823070849\t 2.2436759692444177\t 2.2436759692444177\n"
          ]
        },
        {
          "output_type": "execute_result",
          "data": {
            "text/plain": [
              "60428.834375658604"
            ]
          },
          "metadata": {},
          "execution_count": 59
        }
      ]
    },
    {
      "cell_type": "code",
      "metadata": {
        "id": "B-zaPbk2uuzH",
        "colab": {
          "base_uri": "https://localhost:8080/"
        },
        "outputId": "52a83539-4dda-4294-8d85-c69c95175533"
      },
      "source": [
        "### Bayesian optimization runs (x20): 'exact' Acquisition Function run number = 19 \n",
        "\n",
        "np.random.seed(run_num_19)\n",
        "surrogate_exact_19 = dtStudentProcess(cov_func, optimize=opt, nu = df)\n",
        "\n",
        "X_train19, X_test19, y_train19, y_test19 = train_test_split(X, y, test_size=test_perc, random_state=run_num_19)\n",
        "\n",
        "def f_syn_polarity19(alpha, gamma, max_depth, subsample, min_child_weight, colsample):\n",
        "    reg = XGBRegressor(reg_alpha=alpha, gamma=gamma, max_depth=int(max_depth), subsample=subsample, min_child_weight=min_child_weight,\n",
        "          colsample_bytree=colsample, n_estimators = n_est, random_state=run_num_19, objective = 'reg:squarederror')\n",
        "    score = np.array(cross_val_score(reg, X=X_train19, y=y_train19).mean())\n",
        "    return operator * score\n",
        "\n",
        "exact_19 = dGPGO(surrogate_exact_19, Acquisition_grad(util), f_syn_polarity19, param, n_jobs = -1) # Define BayesOpt\n",
        "exact_19.run(max_iter = max_iter, init_evals = n_init) # run\n",
        "\n",
        "### Return optimal parameters' set:\n",
        "params_exact_19 = exact_19.getResult()[0]\n",
        "params_exact_19['max_depth'] = int(params_exact_19['max_depth'])\n",
        "params_exact_19['min_child_weight'] = int(params_exact_19['min_child_weight'])\n",
        "\n",
        "### Re-train with optimal parameters, run predictons:\n",
        "dX_exact_train19 = xgb.DMatrix(X_train19, y_train19)\n",
        "dX_exact_test19 = xgb.DMatrix(X_test19, y_test19)\n",
        "model_exact_19 = xgb.train(params_exact_19, dX_exact_train19)\n",
        "pred_exact_19 = model_exact_19.predict(dX_exact_test19)\n",
        "\n",
        "rmse_exact_19 = np.sqrt(mean_squared_error(pred_exact_19, y_test19))\n",
        "rmse_exact_19"
      ],
      "execution_count": null,
      "outputs": [
        {
          "output_type": "stream",
          "name": "stdout",
          "text": [
            "Evaluation \t Proposed point \t  Current eval. \t  Best eval. \t         Max. ExactAcqFunc \t Max. ApproxAcqFunc \n",
            "init\t [ 0.97533602  7.61249717 13.          0.85765469 11.          0.39830191]\t 0.9238143360620997\t 0.824729580989813\t    \t    \n",
            "init\t [ 0.82999565  6.71977081  6.          0.50407413 19.          0.67209466]\t 0.9119597092034326\t 0.824729580989813\t    \t    \n",
            "init\t [ 2.15923256  5.49027432 12.          0.52588686 10.          0.20235326]\t 1.1280473533716002\t 0.824729580989813\t    \t    \n",
            "init\t [4.99659267 1.52108422 6.         0.73481085 4.         0.71949465]\t 0.885331313733569\t 0.824729580989813\t    \t    \n",
            "init\t [ 3.72927156  9.46160045  5.          0.80554614 18.          0.97708466]\t 0.824729580989813\t 0.824729580989813\t    \t    \n",
            "\u001b[1m\u001b[92m1\u001b[0m\t \u001b[1m\u001b[92m[ 8.33060043  1.42030563  8.          0.92863724 14.          0.78606141]\u001b[0m\t \u001b[1m\u001b[92m0.79346025102973\u001b[0m\t \u001b[1m\u001b[92m0.79346025102973\u001b[0m\t \u001b[1m\u001b[92m2.293882631113447\u001b[0m\t \u001b[1m\u001b[92m2.293882631113447\u001b[0m\n",
            "2  \t [ 9.87536409  7.17591217 14.          0.99713522 17.          0.55460731]\t 0.8875735409405836\t 0.79346025102973\t 2.239306560663139\t 2.239306560663139\n",
            "3  \t [ 9.05225624  3.60011377 14.          0.89518364  1.          0.11342054]\t 1.1322726135322738\t 0.79346025102973\t 2.2301084687263644\t 2.2301084687263644\n",
            "4  \t [ 0.63994078  3.71351436 14.          0.60091862  1.          0.58598556]\t 0.9633601355550562\t 0.79346025102973\t 2.3050465689338293\t 2.3050465689338293\n",
            "5  \t [4.99125702 9.50308409 8.         0.55828329 3.         0.34673953]\t 0.9736613453341365\t 0.79346025102973\t 2.3111877944659747\t 2.3111877944659747\n",
            "6  \t [ 1.80880362  6.62546173  5.          0.5        11.79927093  0.1       ]\t 1.1229839546481375\t 0.79346025102973\t 2.318674426044979\t 2.318674425912867\n",
            "7  \t [ 3.74566023  2.13062241 14.          0.71219729 18.          0.68959412]\t 0.8910080545620651\t 0.79346025102973\t 2.3612205411648213\t 2.3612205411648213\n",
            "8  \t [ 8.78531367  5.16236615 10.          0.71284072  9.          0.88546543]\t 0.8147284111173498\t 0.79346025102973\t 2.3468500109833412\t 2.3468500109833412\n",
            "9  \t [ 2.19431997  0.03640407  7.          0.62674231 12.          0.80025129]\t 0.8323976121313962\t 0.79346025102973\t 2.321720105476849\t 2.321720105476849\n",
            "10 \t [0.  0.  5.  0.5 1.  0.1]\t 1.1259237710065677\t 0.79346025102973\t 2.3026896714336007\t 2.302689652691729\n",
            "11 \t [ 8.347612    9.05501181  5.          0.50033019 10.          0.41046448]\t 0.9414375778326486\t 0.79346025102973\t 2.3357888656546053\t 2.3357888656546053\n",
            "12 \t [ 6.11039048  8.9398787   9.          0.84431675 14.          0.73928782]\t 0.8643545186031654\t 0.79346025102973\t 2.3339257836023086\t 2.3339257836023086\n",
            "13 \t [0.04130113 6.56643894 8.         0.8316257  6.         0.23623124]\t 1.1276065677179288\t 0.79346025102973\t 2.3209612502868873\t 2.3209612502868873\n",
            "14 \t [ 9.18890824  5.50760906  5.          0.92553651 18.          0.76040056]\t 0.8195075556875523\t 0.79346025102973\t 2.3516923285950884\t 2.3516923285950884\n",
            "15 \t [ 8.99876272  0.14180428 14.          0.5207566  10.          0.28841204]\t 0.9622998965203461\t 0.79346025102973\t 2.338276932801059\t 2.338276932801059\n",
            "16 \t [ 0.9019348   8.21531788 14.          0.85098746 17.          0.41254672]\t 0.9192069504605914\t 0.79346025102973\t 2.335109224770031\t 2.335109224770031\n",
            "17 \t [9.42305669 0.3423134  7.         0.77066127 8.         0.63693457]\t 0.8744339215870263\t 0.79346025102973\t 2.3332011347579025\t 2.3332011347579025\n",
            "18 \t [ 7.9679648   6.50875696 12.          0.58580991 13.          0.19954847]\t 1.1274997047398325\t 0.79346025102973\t 2.360455899776518\t 2.360455899776518\n",
            "19 \t [ 9.97958622  9.03409533 12.          0.51772082  4.          0.45869101]\t 0.9473572626155049\t 0.79346025102973\t 2.352414499798317\t 2.352414499798317\n",
            "20 \t [ 3.55165538  9.78370062 13.          0.78750167  1.          0.7976462 ]\t 0.832291165091001\t 0.79346025102973\t 2.339549849614036\t 2.339549849614036\n",
            "21 \t [ 9.95530246  5.50525097  9.          0.72320589 18.          0.9960274 ]\t 0.8200285178970692\t 0.79346025102973\t 2.3488436217382938\t 2.3488436217382938\n",
            "22 \t [ 2.60768732  9.91933042 11.          0.69532366 12.          0.51088157]\t 0.9223651097826323\t 0.79346025102973\t 2.3034743777313254\t 2.3034743777313254\n",
            "23 \t [1.60895472e-01 8.27074864e-03 1.30000000e+01 6.91893018e-01\n",
            " 5.00000000e+00 4.60327119e-01]\t 0.94182282306325\t 0.79346025102973\t 2.3635673601593177\t 2.3635673601593177\n",
            "24 \t [ 6.30542676  7.71202743  5.          0.69290865 17.          0.68185665]\t 0.9062144692012971\t 0.79346025102973\t 2.3157786615034586\t 2.3157786615034586\n",
            "25 \t [3.50392351 6.35497601 9.         0.51577921 5.         0.45370698]\t 0.9381315214046673\t 0.79346025102973\t 2.3034225851248156\t 2.3034225851248156\n",
            "26 \t [ 3.26806392  8.03852835 12.          0.60354247 16.          0.69840157]\t 0.8895644243531041\t 0.79346025102973\t 2.3220969910000147\t 2.3220969910000147\n",
            "\u001b[1m\u001b[92m27\u001b[0m\t \u001b[1m\u001b[92m[ 6.2254475  10.         11.59707004  1.         20.          1.        ]\u001b[0m\t \u001b[1m\u001b[92m0.7689918060932641\u001b[0m\t \u001b[1m\u001b[92m0.7689918060932641\u001b[0m\t \u001b[1m\u001b[92m2.3345712203618403\u001b[0m\t \u001b[1m\u001b[92m2.334570790072889\u001b[0m\n",
            "28 \t [8.53727542 4.26222932 6.         0.74895213 3.         0.15945478]\t 1.1248534805178272\t 0.7689918060932641\t 2.2914043253638887\t 2.2914043253638887\n",
            "29 \t [ 6.19086368  8.47911079  6.          0.770382   12.          0.93751062]\t 0.8158422349857315\t 0.7689918060932641\t 2.3021775572983616\t 2.3021775572983616\n",
            "30 \t [9.30545715 2.21896205 9.         0.96965499 5.         0.61228081]\t 0.8966551531404072\t 0.7689918060932641\t 2.29861806275691\t 2.29861806275691\n"
          ]
        },
        {
          "output_type": "execute_result",
          "data": {
            "text/plain": [
              "60340.51033821788"
            ]
          },
          "metadata": {},
          "execution_count": 60
        }
      ]
    },
    {
      "cell_type": "code",
      "metadata": {
        "id": "NvkuHKlQuxRy",
        "colab": {
          "base_uri": "https://localhost:8080/"
        },
        "outputId": "93f8a1dc-3f0d-4d45-cd12-4bf9cd0c2183"
      },
      "source": [
        "### Bayesian optimization runs (x20): 'exact' Acquisition Function run number = 20 \n",
        "\n",
        "np.random.seed(run_num_20)\n",
        "surrogate_exact_20 = dtStudentProcess(cov_func, optimize=opt, nu = df)\n",
        "\n",
        "X_train20, X_test20, y_train20, y_test20 = train_test_split(X, y, test_size=test_perc, random_state=run_num_20)\n",
        "\n",
        "def f_syn_polarity20(alpha, gamma, max_depth, subsample, min_child_weight, colsample):\n",
        "    reg = XGBRegressor(reg_alpha=alpha, gamma=gamma, max_depth=int(max_depth), subsample=subsample, min_child_weight=min_child_weight,\n",
        "          colsample_bytree=colsample, n_estimators = n_est, random_state=run_num_20, objective = 'reg:squarederror')\n",
        "    score = np.array(cross_val_score(reg, X=X_train20, y=y_train20).mean())\n",
        "    return operator * score\n",
        "\n",
        "exact_20 = dGPGO(surrogate_exact_20, Acquisition_grad(util), f_syn_polarity20, param, n_jobs = -1) # Define BayesOpt\n",
        "exact_20.run(max_iter = max_iter, init_evals = n_init) # run\n",
        "\n",
        "### Return optimal parameters' set:\n",
        "params_exact_20 = exact_20.getResult()[0]\n",
        "params_exact_20['max_depth'] = int(params_exact_20['max_depth'])\n",
        "params_exact_20['min_child_weight'] = int(params_exact_20['min_child_weight'])\n",
        "\n",
        "### Re-train with optimal parameters, run predictons:\n",
        "dX_exact_train20 = xgb.DMatrix(X_train20, y_train20)\n",
        "dX_exact_test20 = xgb.DMatrix(X_test20, y_test20)\n",
        "model_exact_20 = xgb.train(params_exact_20, dX_exact_train20)\n",
        "pred_exact_20 = model_exact_20.predict(dX_exact_test20)\n",
        "\n",
        "rmse_exact_20 = np.sqrt(mean_squared_error(pred_exact_20, y_test20))\n",
        "rmse_exact_20"
      ],
      "execution_count": null,
      "outputs": [
        {
          "output_type": "stream",
          "name": "stdout",
          "text": [
            "Evaluation \t Proposed point \t  Current eval. \t  Best eval. \t         Max. ExactAcqFunc \t Max. ApproxAcqFunc \n",
            "init\t [ 5.88130801  8.97713728 14.          0.81074445  8.          0.95540649]\t 0.7520109919120059\t 0.7520109919120059\t    \t    \n",
            "init\t [6.72865655 0.41173329 8.         0.6361582  7.         0.76174061]\t 0.7843437690505969\t 0.7520109919120059\t    \t    \n",
            "init\t [ 4.77387703  8.66202323 10.          0.51833215  7.          0.10123387]\t 1.0380897569172567\t 0.7520109919120059\t    \t    \n",
            "init\t [ 5.75489985  4.74524381  8.          0.78084343 15.          0.26643049]\t 0.9185289289653313\t 0.7520109919120059\t    \t    \n",
            "init\t [ 4.53444     4.47342833  8.          0.91974896 18.          0.35997552]\t 0.9180724641961298\t 0.7520109919120059\t    \t    \n",
            "1  \t [ 7.96566073  7.15509535  7.          0.79906691 11.          0.34132075]\t 0.9254670555638643\t 0.7520109919120059\t 2.1757478421766354\t 2.1757478421766354\n",
            "2  \t [ 1.72798052  9.03285612 13.          0.50351094 19.          0.11416888]\t 1.0314631424665905\t 0.7520109919120059\t 2.189261240258193\t 2.189261240258193\n",
            "\u001b[1m\u001b[92m3\u001b[0m\t \u001b[1m\u001b[92m[10. 10. 15.  1. 20.  1.]\u001b[0m\t \u001b[1m\u001b[92m0.7385083163165579\u001b[0m\t \u001b[1m\u001b[92m0.7385083163165579\u001b[0m\t \u001b[1m\u001b[92m2.2405575465382648\u001b[0m\t \u001b[1m\u001b[92m2.2405575465382643\u001b[0m\n",
            "4  \t [0.  0.  5.  0.5 1.  0.1]\t 1.036464786400082\t 0.7385083163165579\t 2.191262572630888\t 2.191262572628237\n",
            "5  \t [ 7.50758902  2.31989813 13.          0.92794435  1.          0.52943075]\t 0.8956526888001509\t 0.7385083163165579\t 2.2325524656932623\t 2.2325524656932623\n",
            "6  \t [ 0.55198982  4.75264073 14.          0.93528567 13.          0.58376745]\t 0.8626734154904613\t 0.7385083163165579\t 2.228716682367886\t 2.228716682367886\n",
            "7  \t [ 1.01837104  4.41995744  6.          0.52021829 12.          0.99601116]\t 0.7870781259906151\t 0.7385083163165579\t 2.219507146015401\t 2.219507146015401\n",
            "8  \t [ 0.54239845  2.74182658 10.          0.793938    8.          0.40512022]\t 0.9132516270639195\t 0.7385083163165579\t 2.195715309730031\t 2.195715309730031\n",
            "9  \t [ 8.00974414  4.59126341 14.          0.56460775 14.          0.49726491]\t 0.9191471833457289\t 0.7385083163165579\t 2.1998118116892424\t 2.1998118116892424\n",
            "10 \t [8.51004072 7.2917763  5.         0.96135496 1.         0.57493956]\t 0.865997699883801\t 0.7385083163165579\t 2.2035580388275458\t 2.2035580388275458\n",
            "11 \t [ 0.97109006  6.64906646 10.          0.68736304  1.          0.83364975]\t 0.7913501329708543\t 0.7385083163165579\t 2.1979144019477883\t 2.1979144019477883\n",
            "12 \t [ 6.87684298  0.81341201 12.          0.63438989 19.          0.35708107]\t 0.9257216867098139\t 0.7385083163165579\t 2.1827876759376217\t 2.1827876759376217\n",
            "13 \t [6.3101326  8.61804899 7.         0.66826014 6.         0.89905701]\t 0.778060148609183\t 0.7385083163165579\t 2.1879498243275335\t 2.1879498243275335\n",
            "14 \t [ 9.75569048  5.07902061  5.          0.93241211 17.          0.95521349]\t 0.771873776814062\t 0.7385083163165579\t 2.1737073654118664\t 2.1737073654118664\n",
            "15 \t [ 6.97560183  1.48211849  9.          0.80794429 10.          0.21839694]\t 1.0237787601826196\t 0.7385083163165579\t 2.1590895780006556\t 2.1590895780006556\n",
            "16 \t [ 0.3999032   2.66263318 14.          0.55784408  3.          0.95411688]\t 0.797392918181134\t 0.7385083163165579\t 2.1780325754666072\t 2.1780325754666072\n",
            "17 \t [ 8.3723055   9.68266939 11.          0.50145124  1.          0.82596229]\t 0.8155570453490526\t 0.7385083163165579\t 2.169514239909217\t 2.169514239909217\n",
            "18 \t [ 1.21632555  2.44839139  8.          0.8927599  17.          0.25270381]\t 0.9237148678212173\t 0.7385083163165579\t 2.1584136548005395\t 2.1584136548005395\n",
            "19 \t [0.74035504 4.5748447  5.         0.89363317 5.         0.49127349]\t 0.907115537464963\t 0.7385083163165579\t 2.158860520666831\t 2.158860520666831\n",
            "20 \t [9.77613663 2.80327235 8.         0.65089037 2.         0.68605672]\t 0.8306072795844661\t 0.7385083163165579\t 2.196132219672649\t 2.196132219672649\n",
            "21 \t [ 7.41954815  2.80862624  9.          0.85591029 17.          0.3641919 ]\t 0.9203913838650098\t 0.7385083163165579\t 2.188722281891429\t 2.188722281891429\n",
            "22 \t [ 2.39999736  8.25935251 10.          0.76621897 14.          0.97994917]\t 0.7522537228179459\t 0.7385083163165579\t 2.1907868010224476\t 2.1907868010224476\n",
            "23 \t [5.47444724 2.57156732 5.         0.5        2.45414016 0.1       ]\t 1.0351678891564688\t 0.7385083163165579\t 2.1535739042879434\t 2.1535736077236067\n",
            "24 \t [ 1.96869013  7.00264368 10.          0.79233192  3.          0.8133863 ]\t 0.7797715795229998\t 0.7385083163165579\t 2.1661232214645807\t 2.1661232214645807\n",
            "25 \t [ 9.68211955  9.54980552 11.          0.53087664 15.          0.39988062]\t 0.9228275716647849\t 0.7385083163165579\t 2.187503236542565\t 2.187503236542565\n",
            "26 \t [ 8.41587592  4.63136717 11.          0.99322381 16.          0.53340451]\t 0.8602984001975387\t 0.7385083163165579\t 2.190732952018461\t 2.190732952018461\n",
            "27 \t [10.       10.       15.        1.       10.466953  1.      ]\t 0.7424398430732178\t 0.7385083163165579\t 2.2120599561164145\t 2.212059758071657\n",
            "28 \t [ 5.02199529  8.17608785 14.          0.82123354 16.          0.12042445]\t 1.021708916478741\t 0.7385083163165579\t 2.1679178330232003\t 2.1679178330232003\n",
            "29 \t [ 0.39565672  8.50724472  5.          0.74462587 17.          0.73375146]\t 0.8184975369779084\t 0.7385083163165579\t 2.1959751406970476\t 2.1959751406970476\n",
            "30 \t [ 3.29762982  0.52275013 11.          0.94773053 13.          0.53654872]\t 0.8626266946708107\t 0.7385083163165579\t 2.1451961218041755\t 2.1451961218041755\n"
          ]
        },
        {
          "output_type": "execute_result",
          "data": {
            "text/plain": [
              "59255.14282404126"
            ]
          },
          "metadata": {},
          "execution_count": 61
        }
      ]
    },
    {
      "cell_type": "code",
      "metadata": {
        "id": "KFKuwvS3uzrs",
        "colab": {
          "base_uri": "https://localhost:8080/"
        },
        "outputId": "b9a5b52d-12f5-41c2-97ed-666dc4d7fbb5"
      },
      "source": [
        "end_exact = time.time()\n",
        "end_exact\n",
        "\n",
        "time_exact = end_exact - start_exact\n",
        "time_exact"
      ],
      "execution_count": null,
      "outputs": [
        {
          "output_type": "execute_result",
          "data": {
            "text/plain": [
              "766.3635530471802"
            ]
          },
          "metadata": {},
          "execution_count": 62
        }
      ]
    },
    {
      "cell_type": "code",
      "metadata": {
        "id": "CU2FlhY4vHUk",
        "colab": {
          "base_uri": "https://localhost:8080/"
        },
        "outputId": "d7300259-bbd3-4fdd-8e75-975f82e38789"
      },
      "source": [
        "rmse_approx = [rmse_approx_1,\n",
        "rmse_approx_2,\n",
        "rmse_approx_3,\n",
        "rmse_approx_4,\n",
        "rmse_approx_5,\n",
        "rmse_approx_6,\n",
        "rmse_approx_7,\n",
        "rmse_approx_8,\n",
        "rmse_approx_9,\n",
        "rmse_approx_10,\n",
        "rmse_approx_11,\n",
        "rmse_approx_12,\n",
        "rmse_approx_13,\n",
        "rmse_approx_14,\n",
        "rmse_approx_15,\n",
        "rmse_approx_16,\n",
        "rmse_approx_17,\n",
        "rmse_approx_18,\n",
        "rmse_approx_19,\n",
        "rmse_approx_20]\n",
        "\n",
        "np.mean(rmse_approx)"
      ],
      "execution_count": null,
      "outputs": [
        {
          "output_type": "execute_result",
          "data": {
            "text/plain": [
              "60763.66643292173"
            ]
          },
          "metadata": {},
          "execution_count": 63
        }
      ]
    },
    {
      "cell_type": "code",
      "metadata": {
        "id": "iZ53FsWXu3J1",
        "colab": {
          "base_uri": "https://localhost:8080/"
        },
        "outputId": "b0970396-b68e-453b-cca7-ff5d318a6068"
      },
      "source": [
        "rmse_exact = [rmse_exact_1,\n",
        "rmse_exact_2,\n",
        "rmse_exact_3,\n",
        "rmse_exact_4,\n",
        "rmse_exact_5,\n",
        "rmse_exact_6,\n",
        "rmse_exact_7,\n",
        "rmse_exact_8,\n",
        "rmse_exact_9,\n",
        "rmse_exact_10,\n",
        "rmse_exact_11,\n",
        "rmse_exact_12,\n",
        "rmse_exact_13,\n",
        "rmse_exact_14,\n",
        "rmse_exact_15,\n",
        "rmse_exact_16,\n",
        "rmse_exact_17,\n",
        "rmse_exact_18,\n",
        "rmse_exact_19,\n",
        "rmse_exact_20]\n",
        "\n",
        "np.mean(rmse_exact)"
      ],
      "execution_count": null,
      "outputs": [
        {
          "output_type": "execute_result",
          "data": {
            "text/plain": [
              "60258.74733984612"
            ]
          },
          "metadata": {},
          "execution_count": 64
        }
      ]
    },
    {
      "cell_type": "code",
      "metadata": {
        "id": "a9FOyoH8u5Wx",
        "colab": {
          "base_uri": "https://localhost:8080/"
        },
        "outputId": "a320f8d4-d739-4020-e7e7-64863e70ac30"
      },
      "source": [
        "min_rmse_approx = min_max_array(rmse_approx)\n",
        "min_rmse_approx, len(min_rmse_approx)"
      ],
      "execution_count": null,
      "outputs": [
        {
          "output_type": "execute_result",
          "data": {
            "text/plain": [
              "([60746.65105051846,\n",
              "  60746.65105051846,\n",
              "  59780.39273806603,\n",
              "  59780.39273806603,\n",
              "  59612.82267483437,\n",
              "  59612.82267483437,\n",
              "  59612.82267483437,\n",
              "  59612.82267483437,\n",
              "  59612.82267483437,\n",
              "  59612.82267483437,\n",
              "  59612.82267483437,\n",
              "  59612.82267483437,\n",
              "  59500.46682850479,\n",
              "  59500.46682850479,\n",
              "  59500.46682850479,\n",
              "  59500.46682850479,\n",
              "  59500.46682850479,\n",
              "  59500.46682850479,\n",
              "  59500.46682850479,\n",
              "  59500.46682850479],\n",
              " 20)"
            ]
          },
          "metadata": {},
          "execution_count": 65
        }
      ]
    },
    {
      "cell_type": "code",
      "metadata": {
        "id": "unXOpKHcvO15",
        "colab": {
          "base_uri": "https://localhost:8080/"
        },
        "outputId": "ee99f3dc-a8d0-466d-ae39-a13b868d2720"
      },
      "source": [
        "min_rmse_exact = min_max_array(rmse_exact)\n",
        "min_rmse_exact, len(min_rmse_exact)"
      ],
      "execution_count": null,
      "outputs": [
        {
          "output_type": "execute_result",
          "data": {
            "text/plain": [
              "([59912.05597064799,\n",
              "  59912.05597064799,\n",
              "  58928.58695808786,\n",
              "  58928.58695808786,\n",
              "  58928.58695808786,\n",
              "  58928.58695808786,\n",
              "  58928.58695808786,\n",
              "  58928.58695808786,\n",
              "  58909.58707412338,\n",
              "  58909.58707412338,\n",
              "  58909.58707412338,\n",
              "  58909.58707412338,\n",
              "  58909.58707412338,\n",
              "  58909.58707412338,\n",
              "  58909.58707412338,\n",
              "  58909.58707412338,\n",
              "  58909.58707412338,\n",
              "  58909.58707412338,\n",
              "  58909.58707412338,\n",
              "  58909.58707412338],\n",
              " 20)"
            ]
          },
          "metadata": {},
          "execution_count": 66
        }
      ]
    },
    {
      "cell_type": "code",
      "metadata": {
        "id": "Yxo85-HEvRPi",
        "colab": {
          "base_uri": "https://localhost:8080/",
          "height": 292
        },
        "outputId": "a7114c94-51d5-4f93-d25a-51c3448fe677"
      },
      "source": [
        "### Visualise!\n",
        "\n",
        "title = obj_func\n",
        "plt.figure()\n",
        "\n",
        "plt.plot(min_rmse_approx, color = 'Purple', label='RMSE: Approx STP CBM gradients')\n",
        "plt.plot(min_rmse_exact, color = 'Orange', label='RMSE: Exact STP dCBM gradients', ls='--')\n",
        "\n",
        "plt.title(title, weight = 'bold', family = 'Arial')\n",
        "plt.xlabel('Experiment(s)', weight = 'bold', family = 'Arial') # x-axis label\n",
        "plt.ylabel('RMSE (US Dollars $)', weight = 'bold', family = 'Arial') # y-axis label\n",
        "plt.legend(loc=0) # add plot legend\n",
        "\n",
        "### Make the x-ticks integers, not floats:\n",
        "count = len(min_rmse_approx)\n",
        "plt.xticks(np.arange(count), np.arange(1, count + 1))\n",
        "plt.grid(b=None)\n",
        "plt.show() #visualize!\n"
      ],
      "execution_count": null,
      "outputs": [
        {
          "output_type": "display_data",
          "data": {
            "text/plain": [
              "<Figure size 432x288 with 1 Axes>"
            ],
            "image/png": "[encoded data removed]"
          },
          "metadata": {}
        }
      ]
    },
    {
      "cell_type": "code",
      "metadata": {
        "id": "AwyO7_iZvT7a",
        "colab": {
          "base_uri": "https://localhost:8080/"
        },
        "outputId": "eb2b53f1-a8ff-4d23-e51c-22b4fc1daae2"
      },
      "source": [
        "time_approx, time_exact\n"
      ],
      "execution_count": null,
      "outputs": [
        {
          "output_type": "execute_result",
          "data": {
            "text/plain": [
              "(791.5773160457611, 766.3635530471802)"
            ]
          },
          "metadata": {},
          "execution_count": 68
        }
      ]
    },
    {
      "cell_type": "code",
      "metadata": {
        "id": "aHLA-0DnVXxD",
        "colab": {
          "base_uri": "https://localhost:8080/"
        },
        "outputId": "ac0b663b-f005-46c9-92e2-cf07e81c2d5c"
      },
      "source": [
        "min(min_rmse_exact), min(min_rmse_approx)\n"
      ],
      "execution_count": null,
      "outputs": [
        {
          "output_type": "execute_result",
          "data": {
            "text/plain": [
              "(58909.58707412338, 59500.46682850479)"
            ]
          },
          "metadata": {},
          "execution_count": 69
        }
      ]
    },
    {
      "cell_type": "code",
      "metadata": {
        "id": "-iUNBRy3W0GY"
      },
      "source": [],
      "execution_count": null,
      "outputs": []
    }
  ]
}