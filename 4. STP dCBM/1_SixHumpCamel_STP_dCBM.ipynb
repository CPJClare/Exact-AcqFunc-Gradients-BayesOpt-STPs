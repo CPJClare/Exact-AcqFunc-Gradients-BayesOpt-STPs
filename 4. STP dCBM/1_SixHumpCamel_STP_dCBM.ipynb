{
  "cells": [
    {
      "cell_type": "markdown",
      "metadata": {
        "id": "Dqn4dFx7Z2Ir"
      },
      "source": [
        "\n",
        "SixHumpCamel: 2D\n"
      ]
    },
    {
      "cell_type": "code",
      "execution_count": 1,
      "metadata": {
        "colab": {
          "base_uri": "https://localhost:8080/"
        },
        "id": "MJTM_GZZZb5x",
        "outputId": "944c52e5-4d79-4b9b-f2ae-34943dafb3cc"
      },
      "outputs": [
        {
          "output_type": "stream",
          "name": "stdout",
          "text": [
            "Looking in indexes: https://pypi.org/simple, https://us-python.pkg.dev/colab-wheels/public/simple/\n",
            "Requirement already satisfied: pyGPGO in /usr/local/lib/python3.7/dist-packages (0.5.1)\n",
            "Requirement already satisfied: numpy in /usr/local/lib/python3.7/dist-packages (from pyGPGO) (1.21.6)\n",
            "Requirement already satisfied: pyMC3 in /usr/local/lib/python3.7/dist-packages (from pyGPGO) (3.11.5)\n",
            "Requirement already satisfied: scipy in /usr/local/lib/python3.7/dist-packages (from pyGPGO) (1.7.3)\n",
            "Requirement already satisfied: Theano-PyMC in /usr/local/lib/python3.7/dist-packages (from pyGPGO) (1.1.2)\n",
            "Requirement already satisfied: joblib in /usr/local/lib/python3.7/dist-packages (from pyGPGO) (1.1.0)\n",
            "Requirement already satisfied: scikit-learn in /usr/local/lib/python3.7/dist-packages (from pyGPGO) (1.0.2)\n",
            "Requirement already satisfied: mkl in /usr/local/lib/python3.7/dist-packages (from pyGPGO) (2019.0)\n",
            "Requirement already satisfied: intel-openmp in /usr/local/lib/python3.7/dist-packages (from mkl->pyGPGO) (2022.1.0)\n",
            "Requirement already satisfied: pandas>=0.24.0 in /usr/local/lib/python3.7/dist-packages (from pyMC3->pyGPGO) (1.3.5)\n",
            "Requirement already satisfied: typing-extensions>=3.7.4 in /usr/local/lib/python3.7/dist-packages (from pyMC3->pyGPGO) (4.1.1)\n",
            "Requirement already satisfied: cachetools>=4.2.1 in /usr/local/lib/python3.7/dist-packages (from pyMC3->pyGPGO) (4.2.4)\n",
            "Requirement already satisfied: semver>=2.13.0 in /usr/local/lib/python3.7/dist-packages (from pyMC3->pyGPGO) (2.13.0)\n",
            "Requirement already satisfied: deprecat in /usr/local/lib/python3.7/dist-packages (from pyMC3->pyGPGO) (2.1.1)\n",
            "Requirement already satisfied: arviz>=0.11.0 in /usr/local/lib/python3.7/dist-packages (from pyMC3->pyGPGO) (0.12.1)\n",
            "Requirement already satisfied: dill in /usr/local/lib/python3.7/dist-packages (from pyMC3->pyGPGO) (0.3.5.1)\n",
            "Requirement already satisfied: fastprogress>=0.2.0 in /usr/local/lib/python3.7/dist-packages (from pyMC3->pyGPGO) (1.0.3)\n",
            "Requirement already satisfied: patsy>=0.5.1 in /usr/local/lib/python3.7/dist-packages (from pyMC3->pyGPGO) (0.5.2)\n",
            "Requirement already satisfied: filelock in /usr/local/lib/python3.7/dist-packages (from Theano-PyMC->pyGPGO) (3.8.0)\n",
            "Requirement already satisfied: xarray>=0.16.1 in /usr/local/lib/python3.7/dist-packages (from arviz>=0.11.0->pyMC3->pyGPGO) (0.20.2)\n",
            "Requirement already satisfied: netcdf4 in /usr/local/lib/python3.7/dist-packages (from arviz>=0.11.0->pyMC3->pyGPGO) (1.6.0)\n",
            "Requirement already satisfied: setuptools>=38.4 in /usr/local/lib/python3.7/dist-packages (from arviz>=0.11.0->pyMC3->pyGPGO) (57.4.0)\n",
            "Requirement already satisfied: matplotlib>=3.0 in /usr/local/lib/python3.7/dist-packages (from arviz>=0.11.0->pyMC3->pyGPGO) (3.2.2)\n",
            "Requirement already satisfied: xarray-einstats>=0.2 in /usr/local/lib/python3.7/dist-packages (from arviz>=0.11.0->pyMC3->pyGPGO) (0.2.2)\n",
            "Requirement already satisfied: packaging in /usr/local/lib/python3.7/dist-packages (from arviz>=0.11.0->pyMC3->pyGPGO) (21.3)\n",
            "Requirement already satisfied: cycler>=0.10 in /usr/local/lib/python3.7/dist-packages (from matplotlib>=3.0->arviz>=0.11.0->pyMC3->pyGPGO) (0.11.0)\n",
            "Requirement already satisfied: kiwisolver>=1.0.1 in /usr/local/lib/python3.7/dist-packages (from matplotlib>=3.0->arviz>=0.11.0->pyMC3->pyGPGO) (1.4.4)\n",
            "Requirement already satisfied: python-dateutil>=2.1 in /usr/local/lib/python3.7/dist-packages (from matplotlib>=3.0->arviz>=0.11.0->pyMC3->pyGPGO) (2.8.2)\n",
            "Requirement already satisfied: pyparsing!=2.0.4,!=2.1.2,!=2.1.6,>=2.0.1 in /usr/local/lib/python3.7/dist-packages (from matplotlib>=3.0->arviz>=0.11.0->pyMC3->pyGPGO) (3.0.9)\n",
            "Requirement already satisfied: pytz>=2017.3 in /usr/local/lib/python3.7/dist-packages (from pandas>=0.24.0->pyMC3->pyGPGO) (2022.2.1)\n",
            "Requirement already satisfied: six in /usr/local/lib/python3.7/dist-packages (from patsy>=0.5.1->pyMC3->pyGPGO) (1.15.0)\n",
            "Requirement already satisfied: importlib-metadata in /usr/local/lib/python3.7/dist-packages (from xarray>=0.16.1->arviz>=0.11.0->pyMC3->pyGPGO) (4.12.0)\n",
            "Requirement already satisfied: wrapt<2,>=1.10 in /usr/local/lib/python3.7/dist-packages (from deprecat->pyMC3->pyGPGO) (1.14.1)\n",
            "Requirement already satisfied: zipp>=0.5 in /usr/local/lib/python3.7/dist-packages (from importlib-metadata->xarray>=0.16.1->arviz>=0.11.0->pyMC3->pyGPGO) (3.8.1)\n",
            "Requirement already satisfied: cftime in /usr/local/lib/python3.7/dist-packages (from netcdf4->arviz>=0.11.0->pyMC3->pyGPGO) (1.6.1)\n",
            "Requirement already satisfied: threadpoolctl>=2.0.0 in /usr/local/lib/python3.7/dist-packages (from scikit-learn->pyGPGO) (3.1.0)\n"
          ]
        }
      ],
      "source": [
        "pip install pyGPGO\n"
      ]
    },
    {
      "cell_type": "code",
      "execution_count": 2,
      "metadata": {
        "id": "ZJSSPbwPaEUB"
      },
      "outputs": [],
      "source": [
        "### Import:\n",
        "\n",
        "import numpy as np\n",
        "import scipy as sp\n",
        "import pandas as pd\n",
        "import matplotlib.pyplot as plt\n",
        "import warnings\n",
        "import itertools\n",
        "\n",
        "from pyGPGO.GPGO import GPGO\n",
        "from pyGPGO.surrogates.tStudentProcess import tStudentProcess\n",
        "from pyGPGO.acquisition import Acquisition\n",
        "from pyGPGO.covfunc import squaredExponential\n",
        "\n",
        "from joblib import Parallel, delayed\n",
        "from numpy.linalg import solve, cholesky\n",
        "from scipy.spatial.distance import cdist\n",
        "from scipy.optimize import minimize\n",
        "from scipy.stats import t\n",
        "import time\n",
        "\n",
        "warnings.filterwarnings(\"ignore\", category=RuntimeWarning)\n"
      ]
    },
    {
      "cell_type": "code",
      "execution_count": 3,
      "metadata": {
        "id": "OeYcTUNoaJWa"
      },
      "outputs": [],
      "source": [
        "### Inputs:\n",
        "\n",
        "func = 'SixHumpCamel'\n",
        "n_test = 500\n",
        "eps = 1e-08\n",
        "\n",
        "util = 'CBM'\n",
        "\n",
        "n_init = 5 # random initialisations\n",
        "iters = 20\n",
        "opt = True\n",
        "\n",
        "df = 3"
      ]
    },
    {
      "cell_type": "code",
      "execution_count": 4,
      "metadata": {
        "id": "xpaEOjdzaPMS"
      },
      "outputs": [],
      "source": [
        "### Objective Function - SixHumpCamel(x) 2-D:\n",
        "\n",
        "def objfunc(x1_training, x2_training):\n",
        "        return operator * ((4 - 2.1 * x1_training ** 2 + 1 / 3 * x1_training ** 4) * x1_training ** 2 +\n",
        "                (x1_training * x2_training) + (-4 + 4 * x2_training ** 2) * x2_training ** 2)\n",
        "    \n",
        "# Constraints:\n",
        "lb_x1 = -3\n",
        "ub_x1 = +3\n",
        "    \n",
        "lb_x2 = -2\n",
        "ub_x2 = +2\n",
        "\n",
        "# Input array dimension(s):\n",
        "dim = 2\n",
        "\n",
        "# 2-D inputs' parameter bounds:\n",
        "param = {'x1_training': ('cont', [lb_x1, ub_x1]),\n",
        "             'x2_training': ('cont', [lb_x2, ub_x2])}\n",
        "\n",
        "# True y bounds:\n",
        "operator = -1\n",
        "y_global_orig = -1.0316 # targets global minimum\n",
        "\n",
        "# Test data:\n",
        "x1_test = np.linspace(lb_x1, ub_x1, n_test) \n",
        "x2_test = np.linspace(lb_x2, ub_x2, n_test)\n",
        "  \n",
        "x_test = np.column_stack((x1_test,x2_test))\n"
      ]
    },
    {
      "cell_type": "code",
      "execution_count": 5,
      "metadata": {
        "id": "eYpI3Zm4aGxi"
      },
      "outputs": [],
      "source": [
        "n_start_AcqFunc = iters\n",
        "inverse = -1\n"
      ]
    },
    {
      "cell_type": "code",
      "execution_count": 6,
      "metadata": {
        "id": "oO_GUmOoaV0T"
      },
      "outputs": [],
      "source": [
        "### Cumulative Regret Calculators:\n",
        "\n",
        "def min_max_array(x):\n",
        "    new_list = []\n",
        "    for i, num in enumerate(x):\n",
        "            new_list.append(np.min(x[0:i+1]))\n",
        "    return new_list\n",
        "  \n",
        "def acqFuncExact(x):\n",
        "    new_array = []\n",
        "    x = np.array(x) \n",
        "    for i, num in enumerate(x):\n",
        "            new_array = x[:-2][::-3]\n",
        "    return new_array[::-1]\n",
        "\n",
        "def acqFuncApprox(x):\n",
        "    new_array = []\n",
        "    x = np.array(x) \n",
        "    for i, num in enumerate(x):\n",
        "            new_array = x[:-1][::-3]\n",
        "    return new_array[::-1]\n"
      ]
    },
    {
      "cell_type": "code",
      "execution_count": 7,
      "metadata": {
        "id": "kuuJx0IMam9S"
      },
      "outputs": [],
      "source": [
        "### Surrogate derivatives: \n",
        "\n",
        "cov_func = squaredExponential()\n",
        "\n",
        "def kronDelta(X, Xstar):                     # Kronecker's Delta method\n",
        "    return cdist(X, Xstar) < np.finfo(np.float32).eps\n",
        "\n",
        "def se(X, Xstar, sigmaf, l, sigman):         # S.E. kernel method\n",
        "    return sigmaf * np.exp(-0.5 * cdist(X, Xstar) ** 2 / l ** 2) + sigman * kronDelta(X, Xstar)\n",
        "\n",
        "def delta(X, Xstar):                         # Distance between training X and test Xstar vectors\n",
        "    return (X - Xstar)\n",
        "   \n",
        "def der_covmat(X, Xstar, sigmaf, l, sigman): # Covariance matrix derivative terms (i.e. exact, first-order)\n",
        "    nx = len(X)\n",
        "    ny = len(Xstar)\n",
        "    return np.round(np.array([(delta(np.atleast_2d(i), np.atleast_2d(j))[0] * se(np.atleast_2d(i), np.atleast_2d(j), sigmaf, l, sigman)[0]).sum() for (i, j) in itertools.product(X, Xstar)]).reshape(nx, ny), 8)\n",
        "\n",
        "class dtStudentProcess(tStudentProcess):    # Via inheritance, also optimises hyperparameters when opt = TRUE\n",
        "    \n",
        "    def AcqGrad(self, Xstar):               # Method returning exact, first-order derivatives of the STP's posterior mean and standard deviation\n",
        "        Xstar = np.atleast_2d(Xstar)\n",
        "        Kstar = self.covfunc.K(self.X, Xstar).T\n",
        "        dKstar = der_covmat(self.X, Xstar, self.covfunc.sigmaf, self.covfunc.l, self.covfunc.sigman).T\n",
        "        \n",
        "        smd_adj = (self.nu + self.beta1 - 2) / (self.nu + self.n1 - 2)\n",
        "\n",
        "        alpha = np.dot(np.linalg.inv(self.K11 + (self.covfunc.sigman**2) * np.eye(len(self.X))), self.y)\n",
        "        alpha_Kstar = np.dot(np.linalg.inv(self.K11 + (self.covfunc.sigman**2) * np.eye(len(self.X))), Kstar.T)      \n",
        "        \n",
        "        dm = np.dot(dKstar, alpha)\n",
        "        ds = -2 * smd_adj * np.dot(dKstar, alpha_Kstar)\n",
        "        \n",
        "        return dm, ds          \n"
      ]
    },
    {
      "cell_type": "code",
      "execution_count": 8,
      "metadata": {
        "id": "_Dc3YVHVaXz7"
      },
      "outputs": [],
      "source": [
        "### Add exact acquisition function gradient as attribute:\n",
        "\n",
        "Beta_CBM = dim\n",
        "\n",
        "class Acquisition_grad(Acquisition):    \n",
        "    def __init__(self, mode, eps=eps, **params):\n",
        "        \n",
        "        self.params = params\n",
        "        self.eps = eps\n",
        "\n",
        "        mode_dict = {\n",
        "            'CBM': self.CBM\n",
        "        }\n",
        "\n",
        "        self.f = mode_dict[mode]\n",
        "    \n",
        "    def CBM(self, y_global_orig, mean, std, ds, dm, nu=3.0):\n",
        "        gamma = (mean - y_global_orig - self.eps) / (std + self.eps)\n",
        "        gamma_h = (mean - y_global_orig) / (std + self.eps)\n",
        "        dsdx = ds / (2 * (std + self.eps))\n",
        "        dmdx = (dm - gamma * dsdx) / (std + self.eps)\n",
        "\n",
        "        f = (std + self.eps) * (gamma + np.sqrt(Beta_CBM))\n",
        "        df = dsdx * (gamma + np.sqrt(Beta_CBM)) + (std + self.eps) * dmdx\n",
        "        df_arr = []\n",
        "\n",
        "        for j in range(0, dim):\n",
        "          df_arr.append(df)\n",
        "        return f, np.asarray(df_arr).transpose()\n",
        "\n",
        "        for j in range(0, dim):\n",
        "          df_arr.append(df)\n",
        "        return f, np.asarray(df_arr).transpose()\n",
        "        \n",
        "    def d_eval(self, y_global_orig, mean, std, ds, dm, nu=3.0):\n",
        "    \n",
        "        return self.f(y_global_orig, mean, std, ds, dm, nu=3.0, **self.params)\n",
        "        "
      ]
    },
    {
      "cell_type": "code",
      "execution_count": 9,
      "metadata": {
        "id": "PITEQC8YSl7i"
      },
      "outputs": [],
      "source": [
        "## GPGO_multi: \n",
        "\n",
        "class GPGO_multi(GPGO):\n",
        "    n_start = n_start_AcqFunc\n",
        "\n",
        "    def __init__(self, surrogate, acquisition, f, parameter_dict, n_jobs=1):\n",
        "        self.GP = surrogate\n",
        "        self.A = acquisition\n",
        "        self.f = f\n",
        "        self.parameters = parameter_dict\n",
        "        self.n_jobs = n_jobs\n",
        "\n",
        "        self.parameter_key = list(parameter_dict.keys())\n",
        "        self.parameter_value = list(parameter_dict.values())\n",
        "        self.parameter_type = [p[0] for p in self.parameter_value]\n",
        "        self.parameter_range = [p[1] for p in self.parameter_value]\n",
        "\n",
        "        self.history = []\n",
        "        self.header =   'Evaluation \\t Proposed point \\t  Current eval. \\t  Best eval. \\t        Exact CBM: StdDev. x \\t Approx CBM: StdDev. x '\n",
        "        self.template = '{:3}\\t {}\\t {:3}\\t {:3}\\t {:3}\\t {:3}'\n",
        " \n",
        "    def acqfuncExact(self, xnew, n_start=n_start_AcqFunc):\n",
        "        new_mean, new_var = self.GP.predict(xnew, return_std=True)\n",
        "        new_std = np.sqrt(new_var + eps)\n",
        "        dm, ds = self.GP.AcqGrad(xnew)\n",
        "        f, df = self.A.d_eval(y_global_orig, new_mean, new_std, ds=ds, dm=dm, nu=3.0)\n",
        "\n",
        "        return -f, -df\n",
        "   \n",
        "    def acqfuncApprox(self, xnew, n_start=n_start_AcqFunc):\n",
        "        new_mean, new_var = self.GP.predict(xnew, return_std=True)\n",
        "        new_std = np.sqrt(new_var + eps)\n",
        "        dm, ds = self.GP.AcqGrad(xnew)\n",
        "        f, df = self.A.d_eval(y_global_orig, new_mean, new_std, ds=ds, dm=dm, nu=3.0)\n",
        "\n",
        "        return -f\n",
        "   \n",
        "    def _optimizeAcq(self, method='L-BFGS-B', n_start=n_start_AcqFunc):\n",
        "        \n",
        "        start_points_dict = [self._sampleParam() for i in range(n_start)]\n",
        "        start_points_arr = np.array([list(s.values())\n",
        "                                     for s in start_points_dict])\n",
        "        x_best = np.empty((n_start, len(self.parameter_key)))\n",
        "        f_best = np.empty((n_start,))\n",
        "        opt = Parallel(n_jobs=self.n_jobs)(delayed(minimize)(self.acqfuncApprox,\n",
        "                                                                 x0=start_point,\n",
        "                                                                 method=method,\n",
        "                                                                 jac = False,\n",
        "                                                                 bounds=self.parameter_range) for start_point in\n",
        "                                               start_points_arr)\n",
        "        x_best = np.array([res.x for res in opt])\n",
        "        f_best = np.array([np.atleast_1d(res.fun)[0] for res in opt])\n",
        "        f_best_min = min(f_best)\n",
        "\n",
        "        self.x_best = x_best\n",
        "        self.f_best = f_best\n",
        "        self.f_best_min = f_best_min\n",
        "        self.x_best_std = np.std(x_best)\n",
        "        self.best = x_best[np.argmin(f_best)]\n",
        "        self.start_points_arr = start_points_arr        \n",
        "        self.history.append(self.x_best_std)\n",
        "\n",
        "        x_best_exact = np.empty((n_start, len(self.parameter_key)))\n",
        "        f_best_exact = np.empty((n_start,))\n",
        "        opt_exact = Parallel(n_jobs=self.n_jobs)(delayed(minimize)(self.acqfuncExact,\n",
        "                                                                 x0=start_point,\n",
        "                                                                 method=method,\n",
        "                                                                 jac = True,\n",
        "                                                                 bounds=self.parameter_range) for start_point in\n",
        "                                               start_points_arr)\n",
        "        x_best_exact = np.array([res.x for res in opt_exact])\n",
        "        f_best_exact = np.array([np.atleast_1d(res.fun)[0] for res in opt_exact])\n",
        "        f_best_min_exact = min(f_best_exact)\n",
        "\n",
        "        self.x_best_exact = x_best_exact\n",
        "        self.f_best_exact = f_best_exact\n",
        "        self.f_best_min_exact = f_best_min_exact\n",
        "        self.x_best_std_exact = np.std(x_best_exact)\n",
        "        self.best_exact = x_best_exact[np.argmin(f_best_exact)]\n",
        "        self.start_points_arr = start_points_arr\n",
        "        self.history.append(self.x_best_std_exact)\n",
        "\n",
        "    def _printInit(self):\n",
        "        print(self.header)\n",
        "        for init_eval in range(self.init_evals):\n",
        "            print(self.template.format('init', self.GP.X[init_eval], inverse * self.GP.y[init_eval], inverse * self.tau, '', ''))\n",
        "      \n",
        "    def _printCurrent(self):\n",
        "        OKGREEN = '\\033[92m'\n",
        "        ENDC = '\\033[0m'\n",
        "        BOLD = '\\033[1m'\n",
        "        eval = str(len(self.GP.y) - self.init_evals)\n",
        "        proposed = str(self.best)\n",
        "        curr_eval = str(inverse * self.GP.y[-1])\n",
        "        curr_best = str(inverse * self.tau)\n",
        "        min_acqfunc = str(self.f_best_min)\n",
        "        min_acqfunc_exact = str(self.f_best_min_exact)\n",
        "        x_best_std = str(self.x_best_std)\n",
        "        x_best_std_exact = str(self.x_best_std_exact)\n",
        "        if float(curr_eval) <= float(curr_best):\n",
        "            eval = BOLD + OKGREEN + eval + ENDC\n",
        "            proposed = BOLD + OKGREEN + proposed + ENDC\n",
        "            curr_eval = BOLD + OKGREEN + curr_eval + ENDC\n",
        "            curr_best = BOLD + OKGREEN + curr_best + ENDC\n",
        "            x_best_std = BOLD + OKGREEN + x_best_std + ENDC\n",
        "            x_best_std_exact = BOLD + OKGREEN + x_best_std_exact + ENDC\n",
        "        print(self.template.format(eval, proposed, curr_eval, curr_best, x_best_std_exact, x_best_std))\n",
        "        \n",
        "    def run(self, max_iter=10, init_evals=3, resume=False):\n",
        "        \n",
        "        if not resume:\n",
        "            self.init_evals = init_evals\n",
        "            self._firstRun(self.init_evals)\n",
        "            self._printInit()\n",
        "        for iteration in range(max_iter):\n",
        "            self._optimizeAcq()\n",
        "            self.updateGP()\n",
        "            self._printCurrent()\n"
      ]
    },
    {
      "cell_type": "code",
      "execution_count": 10,
      "metadata": {
        "id": "b_B-w81BJxKN"
      },
      "outputs": [],
      "source": [
        "## dGPGO:\n",
        "\n",
        "class dGPGO(GPGO):\n",
        "    n_start = n_start_AcqFunc\n",
        "\n",
        "    def __init__(self, surrogate, acquisition, f, parameter_dict, n_jobs=1):\n",
        "        self.GP = surrogate\n",
        "        self.A = acquisition\n",
        "        self.f = f\n",
        "        self.parameters = parameter_dict\n",
        "        self.n_jobs = n_jobs\n",
        "\n",
        "        self.parameter_key = list(parameter_dict.keys())\n",
        "        self.parameter_value = list(parameter_dict.values())\n",
        "        self.parameter_type = [p[0] for p in self.parameter_value]\n",
        "        self.parameter_range = [p[1] for p in self.parameter_value]\n",
        "\n",
        "        self.history = []\n",
        "        self.header =   'Evaluation \\t Proposed point \\t  Current eval. \\t  Best eval. \\t        Exact CBM: StdDev. x \\t Approx CBM: StdDev. x '\n",
        "        self.template = '{:3}\\t {}\\t {:3}\\t {:3}\\t {:3}\\t {:3}'\n",
        "\n",
        "    def acqfuncExact(self, xnew, n_start=n_start_AcqFunc):\n",
        "        new_mean, new_var = self.GP.predict(xnew, return_std=True)\n",
        "        new_std = np.sqrt(new_var + eps)\n",
        "        dm, ds = self.GP.AcqGrad(xnew)\n",
        "        f, df = self.A.d_eval(y_global_orig, new_mean, new_std, ds=ds, dm=dm, nu=3.0)\n",
        "\n",
        "        return -f, -df\n",
        "   \n",
        "    def acqfuncApprox(self, xnew, n_start=n_start_AcqFunc):\n",
        "        new_mean, new_var = self.GP.predict(xnew, return_std=True)\n",
        "        new_std = np.sqrt(new_var + eps)\n",
        "        dm, ds = self.GP.AcqGrad(xnew)\n",
        "        f, df = self.A.d_eval(y_global_orig, new_mean, new_std, ds=ds, dm=dm, nu=3.0)\n",
        "\n",
        "        return -f\n",
        "\n",
        "    def d_optimizeAcq(self, method='L-BFGS-B', n_start=n_start_AcqFunc):\n",
        "        start_points_dict = [self._sampleParam() for i in range(n_start)]\n",
        "        start_points_arr = np.array([list(s.values())\n",
        "                                     for s in start_points_dict])\n",
        "        x_best = np.empty((n_start, len(self.parameter_key)))\n",
        "        f_best = np.empty((n_start,))\n",
        "        opt = Parallel(n_jobs=self.n_jobs)(delayed(minimize)(self.acqfuncExact,\n",
        "                                                                 x0=start_point,\n",
        "                                                                 method=method,\n",
        "                                                                 jac = True,\n",
        "                                                                 bounds=self.parameter_range) for start_point in\n",
        "                                               start_points_arr)\n",
        "        x_best = np.array([res.x for res in opt])\n",
        "        f_best = np.array([np.atleast_1d(res.fun)[0] for res in opt])\n",
        "        f_best_min = min(f_best)\n",
        "\n",
        "        self.x_best = x_best\n",
        "        self.f_best = f_best\n",
        "        self.f_best_min = f_best_min\n",
        "        self.x_best_std = np.std(x_best)\n",
        "        self.best = x_best[np.argmin(f_best)]\n",
        "        self.start_points_arr = start_points_arr\n",
        "        self.history.append(self.x_best_std)\n",
        "\n",
        "        x_best_approx = np.empty((n_start, len(self.parameter_key)))\n",
        "        f_best_approx = np.empty((n_start,))\n",
        "        opt_approx = Parallel(n_jobs=self.n_jobs)(delayed(minimize)(self.acqfuncApprox,\n",
        "                                                                 x0=start_point,\n",
        "                                                                 method=method,\n",
        "                                                                 jac = False,\n",
        "                                                                 bounds=self.parameter_range) for start_point in\n",
        "                                               start_points_arr)\n",
        "        x_best_approx = np.array([res.x for res in opt_approx])\n",
        "        f_best_approx = np.array([np.atleast_1d(res.fun)[0] for res in opt_approx])\n",
        "        f_best_min_approx = min(f_best_approx)\n",
        "\n",
        "        self.x_best_approx = x_best_approx\n",
        "        self.f_best_approx = f_best_approx\n",
        "        self.f_best_min_approx = f_best_min_approx\n",
        "        self.x_best_std_approx = np.std(x_best_approx)\n",
        "        self.best_approx = x_best_approx[np.argmin(f_best_approx)]\n",
        "        self.start_points_arr = start_points_arr\n",
        "        self.history.append(self.x_best_std_approx)\n",
        "    \n",
        "    def _printInit(self):\n",
        "        print(self.header)\n",
        "        for init_eval in range(self.init_evals):\n",
        "            print(self.template.format('init', self.GP.X[init_eval], inverse * self.GP.y[init_eval], inverse * self.tau, '', ''))\n",
        "      \n",
        "    def _printCurrent(self):\n",
        "        OKGREEN = '\\033[92m'\n",
        "        ENDC = '\\033[0m'\n",
        "        BOLD = '\\033[1m'\n",
        "        eval = str(len(self.GP.y) - self.init_evals)\n",
        "        proposed = str(self.best)\n",
        "        curr_eval = str(inverse * self.GP.y[-1])\n",
        "        curr_best = str(inverse * self.tau)\n",
        "        min_acqfunc = str(self.f_best_min)\n",
        "        min_acqfunc_approx = str(self.f_best_min_approx)\n",
        "        x_best_std = str(self.x_best_std)\n",
        "        x_best_std_approx = str(self.x_best_std_approx)\n",
        "        if float(curr_eval) <= float(curr_best):\n",
        "            eval = BOLD + OKGREEN + eval + ENDC\n",
        "            proposed = BOLD + OKGREEN + proposed + ENDC\n",
        "            curr_eval = BOLD + OKGREEN + curr_eval + ENDC\n",
        "            curr_best = BOLD + OKGREEN + curr_best + ENDC\n",
        "            x_best_std = BOLD + OKGREEN + x_best_std + ENDC\n",
        "            x_best_std_approx = BOLD + OKGREEN + x_best_std_approx + ENDC\n",
        "        print(self.template.format(eval, proposed, curr_eval, curr_best, x_best_std, x_best_std_approx))\n",
        "\n",
        "    def run(self, max_iter=10, init_evals=3, resume=False):\n",
        "        \n",
        "        if not resume:\n",
        "            self.init_evals = init_evals\n",
        "            self._firstRun(self.init_evals)\n",
        "            self._printInit()\n",
        "        for iteration in range(max_iter):\n",
        "            self.d_optimizeAcq()\n",
        "            self.updateGP()\n",
        "            self._printCurrent()\n"
      ]
    },
    {
      "cell_type": "code",
      "execution_count": 11,
      "metadata": {
        "id": "qXIKGuXVGEg2"
      },
      "outputs": [],
      "source": [
        "###Reproducible set-seeds:\n",
        "\n",
        "run_num_1 = 1\n",
        "run_num_2 = 2\n",
        "run_num_3 = 3\n",
        "run_num_4 = 4\n",
        "run_num_5 = 5\n",
        "run_num_6 = 6\n",
        "run_num_7 = 7\n",
        "run_num_8 = 8\n",
        "run_num_9 = 9\n",
        "run_num_10 = 10\n",
        "run_num_11 = 11\n",
        "run_num_12 = 12\n",
        "run_num_13 = 13\n",
        "run_num_14 = 14\n",
        "run_num_15 = 15\n",
        "run_num_16 = 16\n",
        "run_num_17 = 17\n",
        "run_num_18 = 18\n",
        "run_num_19 = 19\n",
        "run_num_20 = 20\n"
      ]
    },
    {
      "cell_type": "code",
      "execution_count": 12,
      "metadata": {
        "colab": {
          "base_uri": "https://localhost:8080/"
        },
        "id": "JEhagQmnTVIK",
        "outputId": "0fed03a9-2f03-42c3-ed9b-1491870eeba9"
      },
      "outputs": [
        {
          "output_type": "execute_result",
          "data": {
            "text/plain": [
              "1662465379.0254188"
            ]
          },
          "metadata": {},
          "execution_count": 12
        }
      ],
      "source": [
        "start_approx = time.time()\n",
        "start_approx\n"
      ]
    },
    {
      "cell_type": "code",
      "execution_count": 13,
      "metadata": {
        "colab": {
          "base_uri": "https://localhost:8080/"
        },
        "id": "aH0YSTXufD1v",
        "outputId": "8ce2b8a2-7be1-41b7-8778-5ea082ff4e94"
      },
      "outputs": [
        {
          "output_type": "stream",
          "name": "stdout",
          "text": [
            "Evaluation \t Proposed point \t  Current eval. \t  Best eval. \t        Exact CBM: StdDev. x \t Approx CBM: StdDev. x \n",
            "init\t [-0.49786797  0.88129797]\t -0.2650082867644827\t -0.2650082867644827\t    \t    \n",
            "init\t [-2.99931375 -0.79066971]\t 110.13991869176735\t -0.2650082867644827\t    \t    \n",
            "init\t [-2.11946466 -1.63064562]\t 26.90935479429681\t -0.2650082867644827\t    \t    \n",
            "init\t [-1.88243873 -0.61775709]\t 2.8558363102363344\t -0.2650082867644827\t    \t    \n",
            "init\t [-0.61939515  0.15526694]\t 1.0540522096005847\t -0.2650082867644827\t    \t    \n",
            "1  \t [1.75515468 2.        ]\t 53.648552923853416\t -0.2650082867644827\t 1.7257175467866859\t 2.089525122237084\n",
            "2  \t [ 3. -2.]\t 150.89999999999998\t -0.2650082867644827\t 1.5989372286907284\t 2.3735692554279852\n",
            "3  \t [-2.13252345  2.        ]\t 49.84540089615432\t -0.2650082867644827\t 1.8561533419886866\t 1.7200795437171035\n",
            "4  \t [-0.18270913 -1.76787103]\t 27.02443720161349\t -0.2650082867644827\t 1.8422144090622554\t 1.8182727078140568\n",
            "5  \t [ 0.94152932 -0.04595317]\t 2.0761563398292573\t -0.2650082867644827\t 1.5382834141515451\t 1.2567877722328504\n",
            "6  \t [3.         0.57168648]\t 109.73501715795862\t -0.2650082867644827\t 1.5566834345336058\t 1.5210441315246024\n",
            "7  \t [-0.10969833  2.        ]\t 47.828434713642466\t -0.2650082867644827\t 1.458274883344307\t 1.2284239715244116\n",
            "8  \t [-0.47160485 -0.37803441]\t 0.47776764072740757\t -0.2650082867644827\t 1.7111662937165555\t 1.6486848122723718\n",
            "9  \t [-1.20873803  0.19413324]\t 2.0212919114318435\t -0.2650082867644827\t 1.5985108980976588\t 1.4634397816973648\n",
            "10 \t [-1.21719911 -1.1989898 ]\t 6.376323851307333\t -0.2650082867644827\t 2.0833605665237327\t 2.0712816711169824\n",
            "11 \t [ 0.93803697 -1.16673635]\t 2.9935516762139556\t -0.2650082867644827\t 2.0280821411184697\t 2.106857212861837\n",
            "12 \t [0.43327793 0.7980769 ]\t 0.09990004831124866\t -0.2650082867644827\t 2.276952647734784\t 2.0976274080171087\n",
            "13 \t [ 0.38005238 -0.41924721]\t -0.20387920438412555\t -0.2650082867644827\t 2.079333327056041\t 1.9616133887526512\n",
            "14 \t [ 0.95887084 -2.        ]\t 48.24382386901317\t -0.2650082867644827\t 2.2676391193269048\t 1.9976763092192824\n",
            "15 \t [-3.          1.16802426]\t 107.38385154969185\t -0.2650082867644827\t 2.1181262458601298\t 2.0758385597819164\n",
            "16 \t [-1.30832027 -0.51197312]\t 2.2618660414593004\t -0.2650082867644827\t 2.4130211783658226\t 1.7498842236065066\n",
            "17 \t [ 1.51591683 -0.69682114]\t 0.09191723977887878\t -0.2650082867644827\t 1.7968242833357344\t 1.8222382344437047\n",
            "18 \t [-1.36386364 -2.        ]\t 53.04747556570366\t -0.2650082867644827\t 1.9617746487256718\t 1.4646239022634018\n",
            "19 \t [-1.30559542  1.11070329]\t 2.0704228275009076\t -0.2650082867644827\t 2.0130227006089645\t 1.8944767150006436\n",
            "20 \t [-0.0605201   0.01493801]\t 0.012826146230599156\t -0.2650082867644827\t 2.02628972574121\t 1.371360143300358\n"
          ]
        }
      ],
      "source": [
        "### ESTIMATED STP CBM GRADIENTS\n",
        "\n",
        "np.random.seed(run_num_1)\n",
        "surrogate_approx_1 = dtStudentProcess(cov_func, optimize=opt, nu = df)\n",
        "\n",
        "approx_1 = GPGO_multi(surrogate_approx_1, Acquisition_grad(util), objfunc, param)\n",
        "approx_1.run(init_evals=n_init, max_iter=iters)\n"
      ]
    },
    {
      "cell_type": "code",
      "execution_count": 14,
      "metadata": {
        "colab": {
          "base_uri": "https://localhost:8080/"
        },
        "id": "wTxsSZxFGBB5",
        "outputId": "b8cab470-07b1-412b-b2f5-a6b4e41abf60"
      },
      "outputs": [
        {
          "output_type": "stream",
          "name": "stdout",
          "text": [
            "Evaluation \t Proposed point \t  Current eval. \t  Best eval. \t        Exact CBM: StdDev. x \t Approx CBM: StdDev. x \n",
            "init\t [-0.38403059 -1.89629507]\t 38.61280125654363\t 0.011939608840498828\t    \t    \n",
            "init\t [ 0.29797487 -0.25871043]\t 0.011939608840498828\t 0.011939608840498828\t    \t    \n",
            "init\t [-0.47779319 -0.67866072]\t 0.1381453419305213\t 0.011939608840498828\t    \t    \n",
            "init\t [-1.7721082   0.47708387]\t 0.626144759281101\t 0.011939608840498828\t    \t    \n",
            "init\t [-1.20207196 -0.9326909 ]\t 3.0693811601417798\t 0.011939608840498828\t    \t    \n",
            "1  \t [3. 2.]\t 162.89999999999998\t 0.011939608840498828\t 1.8408727534197444\t 2.3472699522855454\n",
            "2  \t [ 3. -2.]\t 150.89999999999998\t 0.011939608840498828\t 1.681434277250749\t 2.2541540856935423\n",
            "3  \t [-3.  2.]\t 150.89999999999998\t 0.011939608840498828\t 1.7433869463315443\t 2.129098126143039\n",
            "4  \t [-3. -2.]\t 162.89999999999998\t 0.011939608840498828\t 1.7707967454007891\t 1.7390740548613959\n",
            "5  \t [-0.06206774  1.68861922]\t 21.0275532823263\t 0.011939608840498828\t 0.9561673989795415\t 0.8753416180630916\n",
            "6  \t [1.46407183 0.04469099]\t 2.265647499768136\t 0.011939608840498828\t 1.0769423033703194\t 0.9707090972854404\n",
            "7  \t [-0.72007227  0.38863659]\t 0.7631550710946786\t 0.011939608840498828\t 1.1020780460505144\t 0.9609922698562435\n",
            "8  \t [0.73507754 0.70718221]\t 1.12064761570515\t 0.011939608840498828\t 0.8788752568738958\t 1.1575057280322274\n",
            "9  \t [-3.         -0.04119212]\t 109.01680071631398\t 0.011939608840498828\t 1.2284265300730093\t 1.7633862218868204\n",
            "10 \t [ 0.95845395 -0.99589759]\t 1.1737726969679723\t 0.011939608840498828\t 1.0466854580867058\t 0.9058022610230142\n",
            "11 \t [-0.75587072  0.18191155]\t 1.39653810165404\t 0.011939608840498828\t 0.9362126654519753\t 1.011935913552024\n",
            "12 \t [-1.22610002  2.        ]\t 47.94762729142639\t 0.011939608840498828\t 1.1606825398890899\t 1.3282949665026238\n",
            "13 \t [ 3.         -0.03287105]\t 108.79706950745667\t 0.011939608840498828\t 1.2237862995998012\t 1.4617710268541846\n",
            "14 \t [1.10061604 2.        ]\t 52.55765876965703\t 0.011939608840498828\t 1.2232075192195175\t 1.1494925660495958\n",
            "15 \t [ 1.04933549 -2.        ]\t 48.204646396337395\t 0.011939608840498828\t 0.9850004743566124\t 1.0755105925012125\n",
            "16 \t [-1.27768197  0.85832902]\t 0.5111125700214334\t 0.011939608840498828\t 0.9937146193873828\t 0.94096640651125\n",
            "17 \t [-1.54245871 -0.14627328]\t 2.2606579438953087\t 0.011939608840498828\t 1.0119689760355055\t 0.8752033019373544\n",
            "18 \t [ 1.03809367 -0.29907551]\t 1.652719030672674\t 0.011939608840498828\t 0.9497240495085673\t 0.944396838643703\n",
            "19 \t [1.52444428 0.78927735]\t 2.401616267129801\t 0.011939608840498828\t 1.0656749308339981\t 0.9684271586091245\n",
            "\u001b[1m\u001b[92m20\u001b[0m\t \u001b[1m\u001b[92m[ 0.33255588 -0.96105836]\u001b[0m\t \u001b[1m\u001b[92m-0.18460569658481724\u001b[0m\t \u001b[1m\u001b[92m-0.18460569658481724\u001b[0m\t \u001b[1m\u001b[92m1.1441801679246961\u001b[0m\t \u001b[1m\u001b[92m0.9347866737987686\u001b[0m\n"
          ]
        }
      ],
      "source": [
        "### ESTIMATED STP CBM GRADIENTS\n",
        "\n",
        "np.random.seed(run_num_2)\n",
        "surrogate_approx_2 = dtStudentProcess(cov_func, optimize=opt, nu = df)\n",
        "\n",
        "approx_2 = GPGO_multi(surrogate_approx_2, Acquisition_grad(util), objfunc, param)\n",
        "approx_2.run(init_evals=n_init, max_iter=iters)\n"
      ]
    },
    {
      "cell_type": "code",
      "execution_count": 15,
      "metadata": {
        "colab": {
          "base_uri": "https://localhost:8080/"
        },
        "id": "-dgzIrUIGCGT",
        "outputId": "ececd92e-b4a6-48dd-f70c-6b35518cb563"
      },
      "outputs": [
        {
          "output_type": "stream",
          "name": "stdout",
          "text": [
            "Evaluation \t Proposed point \t  Current eval. \t  Best eval. \t        Exact CBM: StdDev. x \t Approx CBM: StdDev. x \n",
            "init\t [0.30478742 0.83259129]\t -0.2431922946563294\t -0.2431922946563294\t    \t    \n",
            "init\t [-1.25457157  0.04331042]\t 2.3313310458730996\t -0.2431922946563294\t    \t    \n",
            "init\t [2.35768173 1.58517236]\t 33.54152175045586\t -0.2431922946563294\t    \t    \n",
            "init\t [-2.24648814 -1.17102849]\t 14.214109412296352\t -0.2431922946563294\t    \t    \n",
            "init\t [-2.69119678 -0.23676063]\t 45.87579771712209\t -0.2431922946563294\t    \t    \n",
            "1  \t [ 0.38008249 -1.25015319]\t 3.5787496210705703\t -0.2431922946563294\t 1.789118891955225\t 1.8753569613416632\n",
            "2  \t [ 3. -2.]\t 150.89999999999998\t -0.2431922946563294\t 1.601505478332549\t 2.2076567769473328\n",
            "3  \t [-1.11085493  2.        ]\t 48.14286238981849\t -0.2431922946563294\t 1.551120231961568\t 1.9008784938494543\n",
            "4  \t [-0.8434747 -2.       ]\t 51.58984653629942\t -0.2431922946563294\t 1.8726725468362209\t 1.5595634021321754\n",
            "5  \t [ 0.92959272 -0.10509199]\t 1.9621264878644318\t -0.2431922946563294\t 2.0087828208132392\t 1.837140277666574\n",
            "6  \t [-3.  2.]\t 150.89999999999998\t -0.2431922946563294\t 1.7959504868779708\t 2.038049952505525\n",
            "7  \t [-3. -2.]\t 162.89999999999998\t -0.2431922946563294\t 1.8493264354808185\t 1.569517110221794\n",
            "8  \t [0.74917273 2.        ]\t 51.14079286293719\t -0.2431922946563294\t 1.4886172978311316\t 1.506397132316711\n",
            "9  \t [-0.2405895  -0.14861568]\t 0.17392204568290542\t -0.2431922946563294\t 1.3702516987552296\t 1.3851584654930367\n",
            "10 \t [3.         0.33813928]\t 109.50935801880867\t -0.2431922946563294\t 1.436237016200625\t 1.4715929686921414\n",
            "11 \t [ 0.03757404 -0.11262558]\t -0.04868324556065271\t -0.2431922946563294\t 1.584667483424602\t 1.3804410948696817\n",
            "12 \t [ 0.82592603 -2.        ]\t 48.205371897756635\t -0.2431922946563294\t 1.4580048127048202\t 1.1862720030268754\n",
            "13 \t [-1.37863317 -0.8562172 ]\t 2.702866970951596\t -0.2431922946563294\t 1.7686773793743347\t 1.6122905614591243\n",
            "14 \t [3. 2.]\t 162.89999999999998\t -0.2431922946563294\t 1.4344552350903474\t 1.0858705424715296\n",
            "15 \t [1.54045508 1.00600947]\t 3.7193654313559392\t -0.2431922946563294\t 1.1366484742976684\t 1.0070634290582205\n",
            "16 \t [-0.63773757  0.80000302]\t -0.12989083425407155\t -0.2431922946563294\t 0.9804849468402521\t 0.8353452433576067\n",
            "17 \t [ 1.29120616 -0.96889514]\t 0.8954118367683095\t -0.2431922946563294\t 1.0590916607486072\t 1.0703762270277348\n",
            "18 \t [1.73881237 2.        ]\t 53.5875121156553\t -0.2431922946563294\t 1.2686534345594254\t 1.0478218216970279\n",
            "19 \t [0.77582961 0.0853633 ]\t 1.7568040273557792\t -0.2431922946563294\t 0.9980287378244452\t 0.5158063450314334\n",
            "20 \t [-0.2285766  2.       ]\t 47.74615085941217\t -0.2431922946563294\t 1.1364204558244608\t 1.2517970928485271\n"
          ]
        }
      ],
      "source": [
        "### ESTIMATED STP CBM GRADIENTS\n",
        "\n",
        "np.random.seed(run_num_3)\n",
        "surrogate_approx_3 = dtStudentProcess(cov_func, optimize=opt, nu = df)\n",
        "\n",
        "approx_3 = GPGO_multi(surrogate_approx_3, Acquisition_grad(util), objfunc, param)\n",
        "approx_3.run(init_evals=n_init, max_iter=iters)\n"
      ]
    },
    {
      "cell_type": "code",
      "execution_count": 16,
      "metadata": {
        "colab": {
          "base_uri": "https://localhost:8080/"
        },
        "id": "hOtG-2sCGCKS",
        "outputId": "bb733368-8668-4b83-ca9f-8e23f5b852a2"
      },
      "outputs": [
        {
          "output_type": "stream",
          "name": "stdout",
          "text": [
            "Evaluation \t Proposed point \t  Current eval. \t  Best eval. \t        Exact CBM: StdDev. x \t Approx CBM: StdDev. x \n",
            "init\t [2.80217903 0.188929  ]\t 63.70212732873661\t 2.3196402150601703\t    \t    \n",
            "init\t [2.83610616 0.85926397]\t 71.43837110827245\t 2.3196402150601703\t    \t    \n",
            "init\t [ 1.18637295 -1.13564202]\t 2.5463267765341566\t 2.3196402150601703\t    \t    \n",
            "init\t [ 2.85764673 -1.97507898]\t 113.76785286351424\t 2.3196402150601703\t    \t    \n",
            "init\t [-1.48210583 -0.26083387]\t 2.3196402150601703\t 2.3196402150601703\t    \t    \n",
            "1  \t [-0.41809167 -2.        ]\t 49.473000231331945\t 2.3196402150601703\t 1.5866125744167268\t 2.182680389341165\n",
            "2  \t [-3.  2.]\t 150.89999999999998\t 2.3196402150601703\t 1.711263378554434\t 2.30054521129327\n",
            "3  \t [-3. -2.]\t 162.89999999999998\t 2.3196402150601703\t 2.206698679978418\t 1.4650820019745094\n",
            "4  \t [0.1796678 2.       ]\t 48.48628063489521\t 2.3196402150601703\t 1.3405215247421516\t 1.061307447962619\n",
            "\u001b[1m\u001b[92m5\u001b[0m\t \u001b[1m\u001b[92m[ 0.11836114 -0.02613747]\u001b[0m\t \u001b[1m\u001b[92m0.049801738993124\u001b[0m\t \u001b[1m\u001b[92m0.049801738993124\u001b[0m\t \u001b[1m\u001b[92m1.6744302690114312\u001b[0m\t \u001b[1m\u001b[92m1.2413658790797095\u001b[0m\n",
            "6  \t [-0.91904344  0.54719269]\t 0.7392817034109744\t 0.049801738993124\t 1.4543172008546374\t 1.3842494411975954\n",
            "7  \t [ 0.79871005 -0.06637685]\t 1.7131029901845813\t 0.049801738993124\t 1.320617851618596\t 1.1628513541669947\n",
            "8  \t [-0.4426846  -0.32460878]\t 0.4723666193712974\t 0.049801738993124\t 1.5841530484967261\t 1.2607741837548263\n",
            "9  \t [1.75891211 2.        ]\t 53.66352162857037\t 0.049801738993124\t 1.5634861681184766\t 1.6097445794112342\n",
            "10 \t [-3.          0.04663944]\t 108.75139966272269\t 0.049801738993124\t 1.5658833887185266\t 1.7702316898721489\n",
            "11 \t [ 0.93365042 -2.        ]\t 48.24458495021435\t 0.049801738993124\t 1.7030050237960728\t 1.5893459781549286\n",
            "12 \t [-1.11102714  2.        ]\t 48.14264792150583\t 0.049801738993124\t 1.3907661857740454\t 1.3170747135262986\n",
            "13 \t [ 1.65507112 -0.6002498 ]\t 0.13559041505704583\t 0.049801738993124\t 1.5188668559722855\t 1.5084399542561187\n",
            "14 \t [3. 2.]\t 162.89999999999998\t 0.049801738993124\t 1.3945099309325588\t 1.455795320005067\n",
            "15 \t [1.1477333  0.97173183]\t 3.2918395341775786\t 0.049801738993124\t 1.0743282043258573\t 1.0975578003557065\n",
            "16 \t [-1.3050655  -1.08863138]\t 4.666147090622161\t 0.049801738993124\t 0.8790650530747849\t 0.8571209825617357\n",
            "\u001b[1m\u001b[92m17\u001b[0m\t \u001b[1m\u001b[92m[0.00554505 0.79766013]\u001b[0m\t \u001b[1m\u001b[92m-0.921184954785331\u001b[0m\t \u001b[1m\u001b[92m-0.921184954785331\u001b[0m\t \u001b[1m\u001b[92m0.8177497457475243\u001b[0m\t \u001b[1m\u001b[92m0.8029203359872427\u001b[0m\n",
            "18 \t [1.6975218  0.50226474]\t 2.1627856899504487\t -0.921184954785331\t 1.0078367498155467\t 1.022781407013017\n",
            "19 \t [-0.52514508  0.22864176]\t 0.6321422920838149\t -0.921184954785331\t 1.0244728397021232\t 0.8153898157753176\n",
            "20 \t [0.87182209 0.00839339]\t 1.9805032982146078\t -0.921184954785331\t 0.7559398815654662\t 0.5402082079723383\n"
          ]
        }
      ],
      "source": [
        "### ESTIMATED STP CBM GRADIENTS\n",
        "\n",
        "np.random.seed(run_num_4)\n",
        "surrogate_approx_4 = dtStudentProcess(cov_func, optimize=opt, nu = df)\n",
        "\n",
        "approx_4= GPGO_multi(surrogate_approx_4, Acquisition_grad(util), objfunc, param)\n",
        "approx_4.run(init_evals=n_init, max_iter=iters)\n"
      ]
    },
    {
      "cell_type": "code",
      "execution_count": 17,
      "metadata": {
        "colab": {
          "base_uri": "https://localhost:8080/"
        },
        "id": "JF_SxcEvGCOl",
        "outputId": "9615d5a4-9fa8-4623-af9b-bdf8c78fe30e"
      },
      "outputs": [
        {
          "output_type": "stream",
          "name": "stdout",
          "text": [
            "Evaluation \t Proposed point \t  Current eval. \t  Best eval. \t        Exact CBM: StdDev. x \t Approx CBM: StdDev. x \n",
            "init\t [-1.66804097  1.48292922]\t 10.126030408244933\t -0.6512780061070701\t    \t    \n",
            "init\t [-1.75968507  1.67444363]\t 19.4300499315822\t -0.6512780061070701\t    \t    \n",
            "init\t [-0.06953287  0.44697545]\t -0.6512780061070701\t -0.6512780061070701\t    \t    \n",
            "init\t [1.59544714 0.07367195]\t 2.168775388880503\t -0.6512780061070701\t    \t    \n",
            "init\t [-1.21919699 -1.24911509]\t 7.420330936884148\t -0.6512780061070701\t    \t    \n",
            "1  \t [ 3. -2.]\t 150.89999999999998\t -0.6512780061070701\t 2.1509547071673745\t 2.3365854237408135\n",
            "2  \t [-2.97993815 -0.05084353]\t 103.47741012153148\t -0.6512780061070701\t 2.5\t 2.2420285408195006\n",
            "3  \t [2.96827161 2.        ]\t 154.14373942035144\t -0.6512780061070701\t 2.5\t 2.35602538160657\n",
            "4  \t [ 0.17277772 -2.        ]\t 47.77199057221423\t -0.6512780061070701\t 1.597301730282004\t 1.8717399427208632\n",
            "5  \t [0.07320947 2.        ]\t 48.16779716888668\t -0.6512780061070701\t 1.6134660012189335\t 1.9521671494050474\n",
            "6  \t [-3. -2.]\t 162.89999999999998\t -0.6512780061070701\t 1.4946554978705093\t 1.8619542365708064\n",
            "7  \t [-3.  2.]\t 150.89999999999998\t -0.6512780061070701\t 0.9195334632076245\t 1.1316674056419291\n",
            "8  \t [-0.84892068  0.00994729]\t 1.9079309261164188\t -0.6512780061070701\t 1.2371128809676288\t 1.0364865840815687\n",
            "9  \t [ 0.54094117 -0.55087456]\t -0.14447435506164374\t -0.6512780061070701\t 1.2809899530584514\t 1.2880809960583117\n",
            "10 \t [ 3.         -0.01856826]\t 108.84291657785167\t -0.6512780061070701\t 1.2622230748401446\t 1.2485528440817204\n",
            "11 \t [1.06709865 0.85693224]\t 2.458099869019504\t -0.6512780061070701\t 1.176222442362284\t 1.1777335049051418\n",
            "12 \t [-1.03866741  2.        ]\t 48.212390210146054\t -0.6512780061070701\t 0.9859709717876919\t 1.2389162363292392\n",
            "13 \t [ 1.39465158 -0.96690452]\t 0.6963604825881979\t -0.6512780061070701\t 0.9634381792143039\t 1.0197059478383308\n",
            "14 \t [-1.09509063 -2.        ]\t 52.54187011926559\t -0.6512780061070701\t 0.9576917392305281\t 0.8377199612241265\n",
            "15 \t [0.86528412 0.11383525]\t 2.004897649708028\t -0.6512780061070701\t 0.913300153443576\t 0.8654775866709713\n",
            "16 \t [-0.50089671 -0.8630034 ]\t 0.5485951213031475\t -0.6512780061070701\t 1.1504563583775804\t 1.2493110979129236\n",
            "17 \t [1.23958569 2.        ]\t 52.87655651425578\t -0.6512780061070701\t 1.0101576603295945\t 0.8948900325157403\n",
            "18 \t [ 1.26971132 -2.        ]\t 47.8478905952733\t -0.6512780061070701\t 0.9022463006369741\t 1.0092913904063447\n",
            "19 \t [-0.77043252  0.87448417]\t 0.31068085465001116\t -0.6512780061070701\t 0.9994970809712816\t 0.9416280025932346\n",
            "20 \t [ 0.29023549 -0.10126136]\t 0.25226006195475453\t -0.6512780061070701\t 0.7639242495767743\t 0.19574835588850673\n"
          ]
        }
      ],
      "source": [
        "### ESTIMATED STP CBM GRADIENTS\n",
        "\n",
        "np.random.seed(run_num_5)\n",
        "surrogate_approx_5 = dtStudentProcess(cov_func, optimize=opt, nu = df)\n",
        "\n",
        "approx_5 = GPGO_multi(surrogate_approx_5, Acquisition_grad(util), objfunc, param)\n",
        "approx_5.run(init_evals=n_init, max_iter=iters)\n"
      ]
    },
    {
      "cell_type": "code",
      "execution_count": 18,
      "metadata": {
        "colab": {
          "base_uri": "https://localhost:8080/"
        },
        "id": "-kDxZtJsGCR3",
        "outputId": "60088bf5-726f-4dcb-b87b-6c309201d0ff"
      },
      "outputs": [
        {
          "output_type": "stream",
          "name": "stdout",
          "text": [
            "Evaluation \t Proposed point \t  Current eval. \t  Best eval. \t        Exact CBM: StdDev. x \t Approx CBM: StdDev. x \n",
            "init\t [ 2.35716091 -0.67208078]\t 11.995980169715628\t -0.3096187466378422\t    \t    \n",
            "init\t [ 1.92737474 -1.8332135 ]\t 31.167927894156623\t -0.3096187466378422\t    \t    \n",
            "init\t [-2.35405992  0.38020826]\t 13.013381745677465\t -0.3096187466378422\t    \t    \n",
            "init\t [ 0.17890417 -0.32477029]\t -0.3096187466378422\t -0.3096187466378422\t    \t    \n",
            "init\t [-0.9875529   0.49007773]\t 0.9989196280666852\t -0.3096187466378422\t    \t    \n",
            "1  \t [0.56671805 1.92261095]\t 42.037416310993\t -0.3096187466378422\t 2.1177471496151687\t 2.0498163574073613\n",
            "2  \t [-1.20714575 -2.        ]\t 52.81530626322487\t -0.3096187466378422\t 2.279440450288052\t 2.269739839196437\n",
            "3  \t [3. 2.]\t 162.89999999999998\t -0.3096187466378422\t 2.1528622861856603\t 2.471237822547244\n",
            "4  \t [-3.  2.]\t 150.89999999999998\t -0.3096187466378422\t 1.7298252379602725\t 2.238760463297343\n",
            "5  \t [-3.         -1.13365562]\t 113.76696647046084\t -0.3096187466378422\t 1.5025642371933545\t 1.9298407996297289\n",
            "6  \t [1.10884634 0.04963393]\t 2.4082458870137953\t -0.3096187466378422\t 1.4430147006305654\t 1.8931033094860064\n",
            "7  \t [ 0.47876303 -2.        ]\t 47.853012266159126\t -0.3096187466378422\t 1.212888334736761\t 1.7507074563636618\n",
            "8  \t [ 3. -2.]\t 150.89999999999998\t -0.3096187466378422\t 1.4715924321285632\t 1.3589185464588118\n",
            "9  \t [-0.83076289  2.        ]\t 48.20843068812897\t -0.3096187466378422\t 1.1532068677294294\t 0.8731795037646147\n",
            "10 \t [-0.74874128 -0.14698426]\t 1.6666842105694262\t -0.3096187466378422\t 1.1888654816720041\t 0.9714907287015725\n",
            "11 \t [0.17627442 0.34334271]\t -0.23315446944987622\t -0.3096187466378422\t 1.413942392390147\t 1.0500991626600926\n",
            "12 \t [ 1.37144898 -0.9621197 ]\t 0.7176314670232508\t -0.3096187466378422\t 1.2785075967079893\t 1.361052366016852\n",
            "13 \t [ 1.51999601 -0.02753271]\t 2.0979655978289946\t -0.3096187466378422\t 1.250988389521715\t 1.0968936615746685\n",
            "14 \t [3.         0.11398321]\t 109.19065612474888\t -0.3096187466378422\t 1.5442137747395852\t 1.63557214981044\n",
            "15 \t [-1.6998845 -0.0083806]\t 2.080327510785232\t -0.3096187466378422\t 1.3567526781859327\t 1.0327690361185573\n",
            "16 \t [-1.72713269  0.72540943]\t -0.15667484927788622\t -0.3096187466378422\t 1.412967832027332\t 1.28076330956268\n",
            "17 \t [ 1.77724576 -0.66649776]\t 0.015325770161768282\t -0.3096187466378422\t 1.516432809578158\t 1.279434438478705\n",
            "18 \t [ 1.035469   -0.54023096]\t 0.8993962265841011\t -0.3096187466378422\t 1.2256234834843815\t 0.9781671651800696\n",
            "19 \t [-1.35266459  0.31182705]\t 1.5573172051132884\t -0.3096187466378422\t 1.2561131549724018\t 1.1671896119868166\n",
            "20 \t [-0.77429638 -0.96125276]\t 2.178565673999965\t -0.3096187466378422\t 1.5304933890067318\t 1.084326512526862\n"
          ]
        }
      ],
      "source": [
        "### ESTIMATED STP CBM GRADIENTS\n",
        "\n",
        "np.random.seed(run_num_6)\n",
        "surrogate_approx_6 = dtStudentProcess(cov_func, optimize=opt, nu = df)\n",
        "\n",
        "approx_6 = GPGO_multi(surrogate_approx_6, Acquisition_grad(util), objfunc, param)\n",
        "approx_6.run(init_evals=n_init, max_iter=iters)\n"
      ]
    },
    {
      "cell_type": "code",
      "execution_count": 19,
      "metadata": {
        "colab": {
          "base_uri": "https://localhost:8080/"
        },
        "id": "fKB8MCD_GCVI",
        "outputId": "4567891c-21fa-482b-aaf0-f374b55641f3"
      },
      "outputs": [
        {
          "output_type": "stream",
          "name": "stdout",
          "text": [
            "Evaluation \t Proposed point \t  Current eval. \t  Best eval. \t        Exact CBM: StdDev. x \t Approx CBM: StdDev. x \n",
            "init\t [-2.54215026  1.11967517]\t 26.53843863832488\t -0.46481072558790276\t    \t    \n",
            "init\t [-0.36954461  0.89386071]\t -0.46481072558790276\t -0.46481072558790276\t    \t    \n",
            "init\t [2.86793707 0.15398348]\t 76.66051064695093\t -0.46481072558790276\t    \t    \n",
            "init\t [ 0.00672278 -1.71179547]\t 22.613010892757885\t -0.46481072558790276\t    \t    \n",
            "init\t [-1.38936612e+00 -4.69996698e-04]\t 2.294585534557751\t -0.46481072558790276\t    \t    \n",
            "1  \t [-3. -2.]\t 162.89999999999998\t -0.46481072558790276\t 2.2010537449706793\t 2.0791341563276275\n",
            "2  \t [0.8545645 2.       ]\t 51.64012266950814\t -0.46481072558790276\t 1.200212939771173\t 2.0164820658314406\n",
            "3  \t [ 3. -2.]\t 150.89999999999998\t -0.46481072558790276\t 1.635268927758843\t 1.9356399998297065\n",
            "4  \t [0.30928057 0.18100636]\t 0.2929173694190863\t -0.46481072558790276\t 1.5139866229250005\t 1.5380230264027592\n",
            "5  \t [-1.26083946  2.        ]\t 47.8692465905801\t -0.46481072558790276\t 1.5576994974430827\t 2.1324879598828077\n",
            "6  \t [3. 2.]\t 162.89999999999998\t -0.46481072558790276\t 1.6921518243028648\t 1.9396992641724473\n",
            "7  \t [-0.48339322 -0.40783301]\t 0.4667587134445679\t -0.46481072558790276\t 0.9318027344328703\t 1.4845009684589816\n",
            "8  \t [ 0.86324016 -0.53909955]\t 0.6625140482211223\t -0.46481072558790276\t 0.9542173155512539\t 1.3086391284826453\n",
            "9  \t [-3.  2.]\t 150.89999999999998\t -0.46481072558790276\t 1.135586570014789\t 1.3011729436702557\n",
            "10 \t [-3.         0.0954002]\t 108.57772592203655\t -0.46481072558790276\t 1.2359838677020702\t 1.3119847659563781\n",
            "11 \t [-0.58798476  0.20610047]\t 0.8617968588085877\t -0.46481072558790276\t 0.8694922651844776\t 0.6393679930012388\n",
            "12 \t [-1.59687784  0.91511104]\t 0.06598174307697391\t -0.46481072558790276\t 1.2457128439770493\t 1.2924203194586148\n",
            "13 \t [-1.13880584 -2.        ]\t 52.660219320438976\t -0.46481072558790276\t 1.2896850573117922\t 1.4516299160078336\n",
            "14 \t [ 1.15736996 -2.        ]\t 48.07645163560585\t -0.46481072558790276\t 0.9761555899250346\t 1.1150674833616128\n",
            "15 \t [1.38843481 0.34833538]\t 2.3521004869441873\t -0.46481072558790276\t 1.1142430025891206\t 1.0260106867610153\n",
            "16 \t [ 1.70031549 -0.47200445]\t 0.5715059665599851\t -0.46481072558790276\t 1.027813928066523\t 1.0366935384430351\n",
            "17 \t [-0.17579372  2.        ]\t 47.77003057931417\t -0.46481072558790276\t 1.0813678894379577\t 1.0245059221597046\n",
            "18 \t [0.57866428 0.95332277]\t 1.336662902845136\t -0.46481072558790276\t 1.185087910567137\t 0.9553527442240132\n",
            "19 \t [0.97557268 0.02714277]\t 2.2156627936269255\t -0.46481072558790276\t 0.880229499887704\t 0.8313375001535743\n",
            "20 \t [ 0.21772365 -0.02868324]\t 0.1753977308469813\t -0.46481072558790276\t 0.8339526842818438\t 0.4462240098057073\n"
          ]
        }
      ],
      "source": [
        "### ESTIMATED STP CBM GRADIENTS\n",
        "\n",
        "np.random.seed(run_num_7)\n",
        "surrogate_approx_7 = dtStudentProcess(cov_func, optimize=opt, nu = df)\n",
        "\n",
        "approx_7 = GPGO_multi(surrogate_approx_7, Acquisition_grad(util), objfunc, param)\n",
        "approx_7.run(init_evals=n_init, max_iter=iters)\n"
      ]
    },
    {
      "cell_type": "code",
      "execution_count": 20,
      "metadata": {
        "colab": {
          "base_uri": "https://localhost:8080/"
        },
        "id": "4unvifF-GCXp",
        "outputId": "597c39e4-bc7b-4445-c75b-a1d475b90eb6"
      },
      "outputs": [
        {
          "output_type": "stream",
          "name": "stdout",
          "text": [
            "Evaluation \t Proposed point \t  Current eval. \t  Best eval. \t        Exact CBM: StdDev. x \t Approx CBM: StdDev. x \n",
            "init\t [2.24057642 1.87416265]\t 48.82879577505094\t 0.03190064766213015\t    \t    \n",
            "init\t [2.21516724 0.12342277]\t 8.660623551418242\t 0.03190064766213015\t    \t    \n",
            "init\t [-1.60363003 -1.95440478]\t 48.28332373939171\t 0.03190064766213015\t    \t    \n",
            "init\t [-0.41718709 -0.39059456]\t 0.2801229037700297\t 0.03190064766213015\t    \t    \n",
            "init\t [ 0.13604803 -0.08643282]\t 0.03190064766213015\t 0.03190064766213015\t    \t    \n",
            "1  \t [-1.57287609  1.65393382]\t 18.478470289406896\t 0.03190064766213015\t 1.4167830402938597\t 2.07278578316969\n",
            "2  \t [ 3. -2.]\t 150.89999999999998\t 0.03190064766213015\t 1.6141256002817397\t 2.290657345713465\n",
            "3  \t [-3.          0.16687712]\t 108.29107880548479\t 0.03190064766213015\t 1.2208621986717005\t 1.948582010229807\n",
            "4  \t [0.04545951 2.        ]\t 48.09917631491052\t 0.03190064766213015\t 1.9954327786242856\t 2.0473573121539177\n",
            "5  \t [ 0.41841813 -2.        ]\t 47.80088068132386\t 0.03190064766213015\t 2.0680798707318364\t 1.9728755765934216\n",
            "6  \t [0.99785401 0.02699304]\t 2.2539059365510936\t 0.03190064766213015\t 2.2291234399950732\t 1.9320990162096638\n",
            "7  \t [-3.  2.]\t 150.89999999999998\t 0.03190064766213015\t 2.1783570172131257\t 2.0294932830210177\n",
            "8  \t [-0.69871514  0.47199766]\t 0.4686874068435377\t 0.03190064766213015\t 2.129972671819756\t 1.377942609407693\n",
            "9  \t [-3. -2.]\t 162.89999999999998\t 0.03190064766213015\t 2.3763824604774038\t 1.7918029479263586\n",
            "10 \t [3.         0.77150129]\t 110.25076687086936\t 0.03190064766213015\t 1.4767205659107545\t 1.5730471804643404\n",
            "\u001b[1m\u001b[92m11\u001b[0m\t \u001b[1m\u001b[92m[ 1.69065059 -0.72867371]\u001b[0m\t \u001b[1m\u001b[92m-0.16765470746680045\u001b[0m\t \u001b[1m\u001b[92m-0.16765470746680045\u001b[0m\t \u001b[1m\u001b[92m1.2858519981707608\u001b[0m\t \u001b[1m\u001b[92m1.3336191537220652\u001b[0m\n",
            "12 \t [1.16213647 1.13500434]\t 5.197246951057468\t -0.16765470746680045\t 1.3423315167437002\t 1.3090074658199204\n",
            "13 \t [-0.6810763 -2.       ]\t 50.79902395028752\t -0.16765470746680045\t 1.211029051026191\t 1.360679386525031\n",
            "14 \t [-1.49084491 -0.37102724]\t 2.2546425945173003\t -0.16765470746680045\t 1.422632665191392\t 1.451347995842385\n",
            "15 \t [1.27389773 2.        ]\t 52.933222017660796\t -0.16765470746680045\t 1.2801115492642676\t 1.0856823095643853\n",
            "\u001b[1m\u001b[92m16\u001b[0m\t \u001b[1m\u001b[92m[0.27770057 0.77035966]\u001b[0m\t \u001b[1m\u001b[92m-0.4550017423091893\u001b[0m\t \u001b[1m\u001b[92m-0.4550017423091893\u001b[0m\t \u001b[1m\u001b[92m1.312873982064355\u001b[0m\t \u001b[1m\u001b[92m1.2947624350146112\u001b[0m\n",
            "17 \t [-1.04107816  2.        ]\t 48.21071571906709\t -0.4550017423091893\t 1.4963038773228527\t 1.506496697631676\n",
            "18 \t [-1.64398833  0.68150103]\t -0.06345322408467113\t -0.4550017423091893\t 1.501372634237965\t 1.3946182139107628\n",
            "19 \t [-0.83163388  0.21295561]\t 1.5219628700412828\t -0.4550017423091893\t 1.2993430460922823\t 0.976048270356721\n",
            "20 \t [1.55070853 0.10718445]\t 2.231289394093568\t -0.4550017423091893\t 1.3247195031297883\t 1.2917291330549474\n"
          ]
        }
      ],
      "source": [
        "### ESTIMATED STP CBM GRADIENTS\n",
        "\n",
        "np.random.seed(run_num_8)\n",
        "surrogate_approx_8 = dtStudentProcess(cov_func, optimize=opt, nu = df)\n",
        "\n",
        "approx_8 = GPGO_multi(surrogate_approx_8, Acquisition_grad(util), objfunc, param)\n",
        "approx_8.run(init_evals=n_init, max_iter=iters)\n"
      ]
    },
    {
      "cell_type": "code",
      "execution_count": 21,
      "metadata": {
        "colab": {
          "base_uri": "https://localhost:8080/"
        },
        "id": "85OIXcg7GCaJ",
        "outputId": "cc049655-9a67-4c3c-ca69-3055633cfcee"
      },
      "outputs": [
        {
          "output_type": "stream",
          "name": "stdout",
          "text": [
            "Evaluation \t Proposed point \t  Current eval. \t  Best eval. \t        Exact CBM: StdDev. x \t Approx CBM: StdDev. x \n",
            "init\t [-2.93775508  0.00749837]\t 92.35857237145763\t 1.395407492769129\t    \t    \n",
            "init\t [-0.02536024 -1.46468188]\t 9.867672894921913\t 1.395407492769129\t    \t    \n",
            "init\t [-2.14733349 -1.1257653 ]\t 10.24680089963123\t 1.395407492769129\t    \t    \n",
            "init\t [-0.48895092 -1.00759533]\t 1.395407492769129\t 1.395407492769129\t    \t    \n",
            "init\t [-2.49564209 -0.61800544]\t 24.58298635463645\t 1.395407492769129\t    \t    \n",
            "1  \t [3. 2.]\t 162.89999999999998\t 1.395407492769129\t 1.5811388300841898\t 1.515750639122412\n",
            "2  \t [ 3. -2.]\t 150.89999999999998\t 1.395407492769129\t 1.631968442798173\t 2.0107780212184507\n",
            "3  \t [-0.45826776  2.        ]\t 47.833971009901795\t 1.395407492769129\t 1.6000062459373479\t 1.936261819103448\n",
            "4  \t [0.88311218 0.06254311]\t 2.040040810742408\t 1.395407492769129\t 1.347096326424387\t 1.821284126639793\n",
            "5  \t [-1.47364442 -2.        ]\t 53.144043909066525\t 1.395407492769129\t 1.6099074921060705\t 1.6197692065278044\n",
            "6  \t [-3.  2.]\t 150.89999999999998\t 1.395407492769129\t 1.5604475299269347\t 1.5056562057774587\n",
            "\u001b[1m\u001b[92m7\u001b[0m\t \u001b[1m\u001b[92m[-0.45724258  0.13749309]\u001b[0m\t \u001b[1m\u001b[92m0.6104814773657976\u001b[0m\t \u001b[1m\u001b[92m0.6104814773657976\u001b[0m\t \u001b[1m\u001b[92m1.4747706842026527\u001b[0m\t \u001b[1m\u001b[92m1.21587548209866\u001b[0m\n",
            "8  \t [-3. -2.]\t 162.89999999999998\t 0.6104814773657976\t 1.3856029252110458\t 1.3290565194147252\n",
            "9  \t [-1.5150736  -0.31391718]\t 2.2686303403103354\t 0.6104814773657976\t 1.3415499897018317\t 1.2427660037101556\n",
            "10 \t [ 0.76643567 -2.        ]\t 48.15975024343904\t 0.6104814773657976\t 0.875653974950256\t 0.9264152879289285\n",
            "11 \t [0.89254266 1.39853255]\t 10.749092518697417\t 0.6104814773657976\t 1.210163678575874\t 1.3217983801303803\n",
            "12 \t [ 2.60889775e+00 -1.17186448e-03]\t 35.04140678055319\t 0.6104814773657976\t 1.1277989481922535\t 0.9886037518831785\n",
            "\u001b[1m\u001b[92m13\u001b[0m\t \u001b[1m\u001b[92m[0.23572697 0.79410907]\u001b[0m\t \u001b[1m\u001b[92m-0.5287302030406772\u001b[0m\t \u001b[1m\u001b[92m-0.5287302030406772\u001b[0m\t \u001b[1m\u001b[92m0.9406184521937858\u001b[0m\t \u001b[1m\u001b[92m0.8310344944712378\u001b[0m\n",
            "\u001b[1m\u001b[92m14\u001b[0m\t \u001b[1m\u001b[92m[ 0.38652194 -0.66241068]\u001b[0m\t \u001b[1m\u001b[92m-0.6892124689742691\u001b[0m\t \u001b[1m\u001b[92m-0.6892124689742691\u001b[0m\t \u001b[1m\u001b[92m1.1314903905737175\u001b[0m\t \u001b[1m\u001b[92m1.1233057047309343\u001b[0m\n",
            "15 \t [ 1.53049541 -0.63749515]\t 0.19071833110859238\t -0.6892124689742691\t 1.231843715879956\t 1.0621748736158725\n",
            "16 \t [-0.9272881   0.90436644]\t 0.664283526556133\t -0.6892124689742691\t 1.2140163768872685\t 1.153855320122197\n",
            "17 \t [-0.97381323 -0.39284536]\t 2.0495142599251155\t -0.6892124689742691\t 0.9011111500627753\t 0.7336195539802717\n",
            "18 \t [-1.51093864 -0.93805056]\t 3.147788025851182\t -0.6892124689742691\t 1.0401888207909458\t 1.1819601546228502\n",
            "19 \t [ 0.13429488 -0.04989097]\t 0.05482760477092221\t -0.6892124689742691\t 1.0910249869625475\t 0.7048420948877596\n",
            "20 \t [0.71619762 2.        ]\t 50.97661367066565\t -0.6892124689742691\t 1.2979721702069438\t 1.2253218094490357\n"
          ]
        }
      ],
      "source": [
        "### ESTIMATED STP CBM GRADIENTS\n",
        "\n",
        "np.random.seed(run_num_9)\n",
        "surrogate_approx_9 = dtStudentProcess(cov_func, optimize=opt, nu = df)\n",
        "\n",
        "approx_9 = GPGO_multi(surrogate_approx_9, Acquisition_grad(util), objfunc, param)\n",
        "approx_9.run(init_evals=n_init, max_iter=iters)\n"
      ]
    },
    {
      "cell_type": "code",
      "execution_count": 22,
      "metadata": {
        "colab": {
          "base_uri": "https://localhost:8080/"
        },
        "id": "QQBR-qJPGCcp",
        "outputId": "eab8b2e3-7553-4a2d-9885-27383223ccda"
      },
      "outputs": [
        {
          "output_type": "stream",
          "name": "stdout",
          "text": [
            "Evaluation \t Proposed point \t  Current eval. \t  Best eval. \t        Exact CBM: StdDev. x \t Approx CBM: StdDev. x \n",
            "init\t [ 1.62792386 -1.9169922 ]\t 38.25414770674631\t 0.7775687473184012\t    \t    \n",
            "init\t [0.80188941 0.99521553]\t 2.552651714051803\t 0.7775687473184012\t    \t    \n",
            "init\t [-0.00895793 -1.10081342]\t 1.0367630165263393\t 0.7775687473184012\t    \t    \n",
            "init\t [-1.81162281  1.04212285]\t 0.7775687473184012\t 0.7775687473184012\t    \t    \n",
            "init\t [-1.98533498 -1.64664074]\t 25.383481436170044\t 0.7775687473184012\t    \t    \n",
            "1  \t [3. 2.]\t 162.89999999999998\t 0.7775687473184012\t 1.697205033951839\t 2.1522489959392863\n",
            "2  \t [-3.  2.]\t 150.89999999999998\t 0.7775687473184012\t 1.4047530890167108\t 2.002267523353023\n",
            "3  \t [-0.60195746  2.        ]\t 47.98562610006054\t 0.7775687473184012\t 1.3859768468856244\t 1.8958212444550164\n",
            "4  \t [ 3.        -0.3369497]\t 107.4865713771815\t 0.7775687473184012\t 1.7981137515793129\t 2.1747791484940415\n",
            "5  \t [-9.55369521e-01  3.78773358e-05]\t 2.154882853667466\t 0.7775687473184012\t 1.538402473075079\t 1.7561605345478577\n",
            "6  \t [-3.         -0.43997117]\t 109.59549953497212\t 0.7775687473184012\t 1.3478424367066104\t 1.8350889759180689\n",
            "7  \t [-0.52988383 -2.        ]\t 50.02469867703176\t 0.7775687473184012\t 1.3989678327701236\t 1.818342938097956\n",
            "\u001b[1m\u001b[92m8\u001b[0m\t \u001b[1m\u001b[92m[0.32153814 0.00594773]\u001b[0m\t \u001b[1m\u001b[92m0.3932398627173246\u001b[0m\t \u001b[1m\u001b[92m0.3932398627173246\u001b[0m\t \u001b[1m\u001b[92m1.5368853025071023\u001b[0m\t \u001b[1m\u001b[92m1.806327230874823\u001b[0m\n",
            "\u001b[1m\u001b[92m9\u001b[0m\t \u001b[1m\u001b[92m[-0.43378621  0.41380516]\u001b[0m\t \u001b[1m\u001b[92m-0.06661072922024847\u001b[0m\t \u001b[1m\u001b[92m-0.06661072922024847\u001b[0m\t \u001b[1m\u001b[92m1.5638822838453366\u001b[0m\t \u001b[1m\u001b[92m1.762249435459558\u001b[0m\n",
            "10 \t [ 0.68320945 -0.19010351]\t 1.1742411177578123\t -0.06661072922024847\t 1.6872026635000912\t 1.7746146467973916\n",
            "11 \t [-0.30512357 -0.06554815]\t 0.35735631917998983\t -0.06661072922024847\t 1.585665015296614\t 1.4987993768242573\n",
            "12 \t [-3. -2.]\t 162.89999999999998\t -0.06661072922024847\t 1.2755475201258886\t 2.159694464515575\n",
            "13 \t [ 3. -2.]\t 150.89999999999998\t -0.06661072922024847\t 1.2438032089657756\t 1.6626366021417003\n",
            "14 \t [0.97077035 2.        ]\t 52.125076210448285\t -0.06661072922024847\t 1.3596174518423572\t 1.1486925289672127\n",
            "15 \t [-1.22342904 -1.10606389]\t 4.846444616295582\t -0.06661072922024847\t 1.1212260139193724\t 1.1558838120266086\n",
            "16 \t [ 0.8426502  -1.37519296]\t 7.483233821462427\t -0.06661072922024847\t 1.1766575228874898\t 1.1241753332095226\n",
            "17 \t [1.59194269 0.59180796]\t 2.107087056023941\t -0.06661072922024847\t 1.1579114804119803\t 1.0603863969713045\n",
            "18 \t [-1.20357964  1.04194976]\t 1.51885737580041\t -0.06661072922024847\t 0.8719235413816558\t 1.1196177822572877\n",
            "19 \t [-1.87140822  0.4197236 ]\t 1.2040295282041962\t -0.06661072922024847\t 1.0139190796480644\t 1.0384190387444623\n",
            "20 \t [-1.08573507  0.10645094]\t 2.1827303011022465\t -0.06661072922024847\t 0.7572414570060381\t 0.6938989536222026\n"
          ]
        }
      ],
      "source": [
        "### ESTIMATED STP CBM GRADIENTS\n",
        "\n",
        "np.random.seed(run_num_10)\n",
        "surrogate_approx_10 = dtStudentProcess(cov_func, optimize=opt, nu = df)\n",
        "\n",
        "approx_10 = GPGO_multi(surrogate_approx_10, Acquisition_grad(util), objfunc, param)\n",
        "approx_10.run(init_evals=n_init, max_iter=iters)\n"
      ]
    },
    {
      "cell_type": "code",
      "execution_count": 23,
      "metadata": {
        "colab": {
          "base_uri": "https://localhost:8080/"
        },
        "id": "JS8ejeQ2GCfi",
        "outputId": "8db48bd9-8b6a-497f-c786-e5596d73efeb"
      },
      "outputs": [
        {
          "output_type": "stream",
          "name": "stdout",
          "text": [
            "Evaluation \t Proposed point \t  Current eval. \t  Best eval. \t        Exact CBM: StdDev. x \t Approx CBM: StdDev. x \n",
            "init\t [-1.91838187 -1.92209903]\t 46.39910375151002\t -0.6254688257880329\t    \t    \n",
            "init\t [-0.22068884  0.89973572]\t -0.6254688257880329\t -0.6254688257880329\t    \t    \n",
            "init\t [-0.47877837 -0.05829161]\t 0.8249470187639529\t -0.6254688257880329\t    \t    \n",
            "init\t [-2.92331511 -0.05051357]\t 88.99028404075307\t -0.6254688257880329\t    \t    \n",
            "init\t [2.65083991 1.40318036]\t 51.423425402262914\t -0.6254688257880329\t    \t    \n",
            "1  \t [ 1.81317102 -2.        ]\t 46.67105898316795\t -0.6254688257880329\t 1.4984106053354673\t 2.2477894059843373\n",
            "2  \t [-1.08906841  2.        ]\t 48.16811563422179\t -0.6254688257880329\t 1.1007204248101685\t 1.5549952846188433\n",
            "3  \t [0.72440192 0.0535186 ]\t 1.5962658097752964\t -0.6254688257880329\t 1.8426309209183758\t 1.9657773558641713\n",
            "4  \t [0.81034356 2.        ]\t 51.43618109611573\t -0.6254688257880329\t 1.4477878043273684\t 1.957515428457499\n",
            "5  \t [ 0.03635095 -0.95057015]\t -0.3777533193375512\t -0.6254688257880329\t 1.8957891255130035\t 1.8271732916026848\n",
            "6  \t [ 3.         -0.59586117]\t 106.19645786034712\t -0.6254688257880329\t 1.7289723649620459\t 1.6759251310430627\n",
            "7  \t [-3.  2.]\t 150.89999999999998\t -0.6254688257880329\t 2.0975994089948564\t 2.104391245614528\n",
            "8  \t [-0.0466111 -2.       ]\t 48.10190267002638\t -0.6254688257880329\t 1.91961941328657\t 1.466695485793128\n",
            "9  \t [0.03980393 0.00658422]\t 0.00642081792085829\t -0.6254688257880329\t 2.351830544614419\t 2.105366181726838\n",
            "10 \t [-3. -2.]\t 162.89999999999998\t -0.6254688257880329\t 2.457940270331975\t 2.0803742202021795\n",
            "11 \t [-1.11104962 -1.11429575]\t 4.802965682184402\t -0.6254688257880329\t 1.6661194206658145\t 1.8703456968028904\n",
            "12 \t [ 1.01334053 -0.85767955]\t 0.6069682385277503\t -0.6254688257880329\t 1.4779678634679436\t 1.8641686466612655\n",
            "13 \t [ 3. -2.]\t 150.89999999999998\t -0.6254688257880329\t 1.3345120555804797\t 1.7804904721998576\n",
            "14 \t [-1.27751811  0.68043022]\t 0.5199206427914457\t -0.6254688257880329\t 1.5125978838514076\t 1.3683018907236593\n",
            "15 \t [-1.52076077 -0.23366918]\t 2.290870727931784\t -0.6254688257880329\t 1.5649665297978856\t 1.1099623946940733\n",
            "16 \t [3. 2.]\t 162.89999999999998\t -0.6254688257880329\t 1.5443700888483416\t 1.18638899460946\n",
            "17 \t [2.01925502 0.61383804]\t 4.29272959844365\t -0.6254688257880329\t 1.2800091653061827\t 1.2132018178299515\n",
            "18 \t [1.55374685 1.15031658]\t 5.605659194765344\t -0.6254688257880329\t 1.1807158934765054\t 0.9689979241947618\n",
            "19 \t [1.05567374 0.23553077]\t 2.350037183882324\t -0.6254688257880329\t 0.9648621781040516\t 0.6336001275652136\n",
            "20 \t [3.        0.6386518]\t 109.8499026362871\t -0.6254688257880329\t 1.1529520079224678\t 1.232641479267309\n"
          ]
        }
      ],
      "source": [
        "### ESTIMATED STP CBM GRADIENTS\n",
        "\n",
        "np.random.seed(run_num_11)\n",
        "surrogate_approx_11 = dtStudentProcess(cov_func, optimize=opt, nu = df)\n",
        "\n",
        "approx_11 = GPGO_multi(surrogate_approx_11, Acquisition_grad(util), objfunc, param)\n",
        "approx_11.run(init_evals=n_init, max_iter=iters)\n"
      ]
    },
    {
      "cell_type": "code",
      "execution_count": 24,
      "metadata": {
        "colab": {
          "base_uri": "https://localhost:8080/"
        },
        "id": "DXwjUVZ4GCii",
        "outputId": "486fca5a-624f-48ab-8403-fc3e28c78008"
      },
      "outputs": [
        {
          "output_type": "stream",
          "name": "stdout",
          "text": [
            "Evaluation \t Proposed point \t  Current eval. \t  Best eval. \t        Exact CBM: StdDev. x \t Approx CBM: StdDev. x \n",
            "init\t [-2.07502295  0.96019879]\t 2.6185857163917037\t 1.9967735906956543\t    \t    \n",
            "init\t [-1.42010991  0.13495757]\t 1.9967735906956543\t 1.9967735906956543\t    \t    \n",
            "init\t [-2.91255023  1.67498803]\t 101.67816714332157\t 1.9967735906956543\t    \t    \n",
            "init\t [ 2.40428912 -1.86631429]\t 47.44624883788006\t 1.9967735906956543\t    \t    \n",
            "init\t [ 2.74169602 -1.45116271]\t 58.32400185681089\t 1.9967735906956543\t    \t    \n",
            "1  \t [-0.34447183  1.57379685]\t 14.53503337753485\t 1.9967735906956543\t 2.3604616109071137\t 1.8548468386850658\n",
            "2  \t [3. 2.]\t 162.89999999999998\t 1.9967735906956543\t 2.3073512607969384\t 2.1264281521081503\n",
            "3  \t [-3. -2.]\t 162.89999999999998\t 1.9967735906956543\t 1.5588493782371948\t 1.4639644109427412\n",
            "4  \t [-0.03499536 -2.        ]\t 48.07488626402676\t 1.9967735906956543\t 0.8161785789356961\t 1.0775560546881715\n",
            "\u001b[1m\u001b[92m5\u001b[0m\t \u001b[1m\u001b[92m[0.67103671 0.17048671]\u001b[0m\t \u001b[1m\u001b[92m1.4073153311449889\u001b[0m\t \u001b[1m\u001b[92m1.4073153311449889\u001b[0m\t \u001b[1m\u001b[92m1.0818276960123732\u001b[0m\t \u001b[1m\u001b[92m0.41713992217751533\u001b[0m\n",
            "\u001b[1m\u001b[92m6\u001b[0m\t \u001b[1m\u001b[92m[-0.45790376  0.01342227]\u001b[0m\t \u001b[1m\u001b[92m0.7425852222613772\u001b[0m\t \u001b[1m\u001b[92m0.7425852222613772\u001b[0m\t \u001b[1m\u001b[92m1.135718065174528\u001b[0m\t \u001b[1m\u001b[92m1.0662236987075309\u001b[0m\n",
            "7  \t [0.6534977 2.       ]\t 50.6581975247825\t 0.7425852222613772\t 1.1811236428934138\t 1.1863604354490325\n",
            "8  \t [-1.35215245  2.        ]\t 47.62640092027329\t 0.7425852222613772\t 1.3330726109309559\t 1.627969538513303\n",
            "9  \t [ 1.10216196 -0.90559807]\t 0.7694698059253093\t 0.7425852222613772\t 0.9734621439466371\t 1.3560197889947159\n",
            "10 \t [-3.          0.09150597]\t 108.59226918784235\t 0.7425852222613772\t 1.173343964882679\t 1.6092253766240767\n",
            "\u001b[1m\u001b[92m11\u001b[0m\t \u001b[1m\u001b[92m[-1.11397654  0.86682142]\u001b[0m\t \u001b[1m\u001b[92m0.6540392585342889\u001b[0m\t \u001b[1m\u001b[92m0.6540392585342889\u001b[0m\t \u001b[1m\u001b[92m1.0562524515059635\u001b[0m\t \u001b[1m\u001b[92m1.3739702278630122\u001b[0m\n",
            "12 \t [1.99988388e+00 9.04140788e-04]\t 3.733652386470167\t 0.6540392585342889\t 0.8998458988333455\t 1.2822843810655962\n",
            "13 \t [3.         0.03201446]\t 108.99194787286157\t 0.6540392585342889\t 1.193468343383239\t 1.5137022415081614\n",
            "14 \t [ 1.39815079 -0.24361364]\t 1.7205911298663146\t 0.6540392585342889\t 0.972702200276706\t 1.2405150740390032\n",
            "15 \t [1.41273234 0.68927477]\t 2.244580681051245\t 0.6540392585342889\t 1.0752376956578518\t 1.2343634146625642\n",
            "16 \t [-0.75470192 -0.93262514]\t 1.9094516116763434\t 0.6540392585342889\t 1.0607969644816468\t 1.4294686450427558\n",
            "\u001b[1m\u001b[92m17\u001b[0m\t \u001b[1m\u001b[92m[ 0.12286339 -0.75012635]\u001b[0m\t \u001b[1m\u001b[92m-1.0165388832494233\u001b[0m\t \u001b[1m\u001b[92m-1.0165388832494233\u001b[0m\t \u001b[1m\u001b[92m0.9118417045509623\u001b[0m\t \u001b[1m\u001b[92m1.2009676801451477\u001b[0m\n",
            "18 \t [ 1.07941349 -0.06395139]\t 2.251622955941052\t -1.0165388832494233\t 1.0111725639998923\t 1.3500148239337344\n",
            "19 \t [-0.53928465  0.15567177]\t 0.8153542453515976\t -1.0165388832494233\t 0.9342910738778779\t 0.670774006922431\n",
            "20 \t [ 1.16622949 -2.        ]\t 48.06187889449535\t -1.0165388832494233\t 1.057122717129948\t 1.380439943586586\n"
          ]
        }
      ],
      "source": [
        "### ESTIMATED STP CBM GRADIENTS\n",
        "\n",
        "np.random.seed(run_num_12)\n",
        "surrogate_approx_12 = dtStudentProcess(cov_func, optimize=opt, nu = df)\n",
        "\n",
        "approx_12 = GPGO_multi(surrogate_approx_12, Acquisition_grad(util), objfunc, param)\n",
        "approx_12.run(init_evals=n_init, max_iter=iters)\n"
      ]
    },
    {
      "cell_type": "code",
      "execution_count": 25,
      "metadata": {
        "colab": {
          "base_uri": "https://localhost:8080/"
        },
        "id": "CphOPndPGClX",
        "outputId": "b4bb88a9-bb01-4d3b-c641-b176ff65866f"
      },
      "outputs": [
        {
          "output_type": "stream",
          "name": "stdout",
          "text": [
            "Evaluation \t Proposed point \t  Current eval. \t  Best eval. \t        Exact CBM: StdDev. x \t Approx CBM: StdDev. x \n",
            "init\t [ 1.66621446 -1.04983512]\t 0.752930921147986\t 0.752930921147986\t    \t    \n",
            "init\t [1.9456712  1.86299679]\t 41.05776363102951\t 0.752930921147986\t    \t    \n",
            "init\t [ 2.83560668 -0.18620301]\t 69.0134544723513\t 0.752930921147986\t    \t    \n",
            "init\t [0.65425478 1.10210606]\t 3.117452174069064\t 0.752930921147986\t    \t    \n",
            "init\t [0.84968007 0.88807292]\t 2.006601529383926\t 0.752930921147986\t    \t    \n",
            "\u001b[1m\u001b[92m1\u001b[0m\t \u001b[1m\u001b[92m[ 0.0159992 -1.0705229]\u001b[0m\t \u001b[1m\u001b[92m0.6532598937960684\u001b[0m\t \u001b[1m\u001b[92m0.6532598937960684\u001b[0m\t \u001b[1m\u001b[92m1.0664688396990043\u001b[0m\t \u001b[1m\u001b[92m0.5432620774572706\u001b[0m\n",
            "2  \t [-1.24857415  1.06806523]\t 1.7037891565900543\t 0.6532598937960684\t 0.902125104330828\t 1.4988567440298948\n",
            "3  \t [-3. -2.]\t 162.89999999999998\t 0.6532598937960684\t 0.5\t 1.7309336667131394\n",
            "4  \t [-3.  2.]\t 150.89999999999998\t 0.6532598937960684\t 1.3532766970467305\t 2.1147416783425164\n",
            "5  \t [ 3. -2.]\t 150.89999999999998\t 0.6532598937960684\t 1.9227613880839138\t 2.0509660771858957\n",
            "6  \t [-0.29080136  2.        ]\t 47.74184283315993\t 0.6532598937960684\t 1.5180259054154797\t 1.114389100843037\n",
            "7  \t [-0.78674631 -0.09389946]\t 1.7892844204944571\t 0.6532598937960684\t 1.694124025439306\t 1.5114829125422784\n",
            "8  \t [ 0.45434258 -2.        ]\t 47.83047008580901\t 0.6532598937960684\t 1.6314185581495757\t 1.722484356267758\n",
            "9  \t [ 0.75980399 -0.40221698]\t 0.8254282487348444\t 0.6532598937960684\t 1.6182699348972154\t 1.47375888659851\n",
            "\u001b[1m\u001b[92m10\u001b[0m\t \u001b[1m\u001b[92m[0.00712927 0.13810734]\u001b[0m\t \u001b[1m\u001b[92m-0.07365142826535773\u001b[0m\t \u001b[1m\u001b[92m-0.07365142826535773\u001b[0m\t \u001b[1m\u001b[92m1.8530752348832196\u001b[0m\t \u001b[1m\u001b[92m1.159943217138376\u001b[0m\n",
            "11 \t [-2.39312662  0.1166929 ]\t 16.31119415653821\t -0.07365142826535773\t 1.6987040132736317\t 1.5644307663861883\n",
            "12 \t [ 0.91313495 -0.07893629]\t 1.9716288515081433\t -0.07365142826535773\t 1.7465142622454193\t 1.4099962225103866\n",
            "13 \t [-1.00290459 -2.        ]\t 52.243759458624055\t -0.07365142826535773\t 1.7944821147603778\t 1.691433111601923\n",
            "14 \t [3. 2.]\t 162.89999999999998\t -0.07365142826535773\t 1.4541987147507742\t 1.2768277556699956\n",
            "15 \t [1.06702941 2.        ]\t 52.45800387476179\t -0.07365142826535773\t 1.2586645971560544\t 1.2040135945013313\n",
            "\u001b[1m\u001b[92m16\u001b[0m\t \u001b[1m\u001b[92m[-0.45347923  0.90747443]\u001b[0m\t \u001b[1m\u001b[92m-0.25622121443750695\u001b[0m\t \u001b[1m\u001b[92m-0.25622121443750695\u001b[0m\t \u001b[1m\u001b[92m0.9688465224631292\u001b[0m\t \u001b[1m\u001b[92m1.0557774483409097\u001b[0m\n",
            "17 \t [-1.23495617 -0.84966375]\t 2.6446774481958117\t -0.25622121443750695\t 1.2531140812259267\t 1.3468583470639999\n",
            "18 \t [-1.63521051  0.23681692]\t 1.4547130655830451\t -0.25622121443750695\t 1.0830215845414606\t 1.015514343106888\n",
            "19 \t [-0.56662731  0.06358434]\t 1.0266873784436965\t -0.25622121443750695\t 0.9507761385040622\t 0.7502583480855012\n",
            "20 \t [ 0.35497819 -0.02779683]\t 0.4584048331475969\t -0.25622121443750695\t 0.9741318354798362\t 0.4363143075528302\n"
          ]
        }
      ],
      "source": [
        "### ESTIMATED STP CBM GRADIENTS\n",
        "\n",
        "np.random.seed(run_num_13)\n",
        "surrogate_approx_13 = dtStudentProcess(cov_func, optimize=opt, nu = df)\n",
        "\n",
        "approx_13 = GPGO_multi(surrogate_approx_13, Acquisition_grad(util), objfunc, param)\n",
        "approx_13.run(init_evals=n_init, max_iter=iters)\n"
      ]
    },
    {
      "cell_type": "code",
      "execution_count": 26,
      "metadata": {
        "colab": {
          "base_uri": "https://localhost:8080/"
        },
        "id": "ojHTeARNGCoi",
        "outputId": "bcfe514d-202b-42c9-efdc-31930977e6de"
      },
      "outputs": [
        {
          "output_type": "stream",
          "name": "stdout",
          "text": [
            "Evaluation \t Proposed point \t  Current eval. \t  Best eval. \t        Exact CBM: StdDev. x \t Approx CBM: StdDev. x \n",
            "init\t [0.08366006 1.09266021]\t 1.0453292732107575\t -1.029299726828387\t    \t    \n",
            "init\t [ 2.22256611 -1.96781221]\t 48.81113313056442\t -1.029299726828387\t    \t    \n",
            "init\t [-1.14158445  1.83041496]\t 31.794043287944216\t -1.029299726828387\t    \t    \n",
            "init\t [ 0.07870027 -0.7268623 ]\t -1.029299726828387\t -1.029299726828387\t    \t    \n",
            "init\t [ 0.23519962 -1.11498023]\t 1.161934062902255\t -1.029299726828387\t    \t    \n",
            "1  \t [1.97276834 1.56901019]\t 20.898776927385672\t -1.029299726828387\t 2.288422143027363\t 1.906762900546448\n",
            "2  \t [-1.96439273 -1.66859492]\t 26.46675907589728\t -1.029299726828387\t 1.914726075861302\t 1.7910259690236232\n",
            "3  \t [-3.          0.47901022]\t 106.7557568308164\t -1.029299726828387\t 1.6547631202631952\t 1.7036978427622174\n",
            "4  \t [3.        0.1536853]\t 109.26881068003787\t -1.029299726828387\t 2.0873986533133246\t 1.8119816951259882\n",
            "5  \t [0.3382812  0.16651795]\t 0.37922872204987707\t -1.029299726828387\t 2.149094258513509\t 1.9795513132138836\n",
            "6  \t [-0.22954655 -2.        ]\t 48.66407789076833\t -1.029299726828387\t 2.2204458763738386\t 1.9901509553337091\n",
            "7  \t [0.77564089 2.        ]\t 51.270256415684614\t -1.029299726828387\t 2.275464313223418\t 2.2858695314872506\n",
            "8  \t [3. 2.]\t 162.89999999999998\t -1.029299726828387\t 2.5495097567963922\t 2.1989075122700226\n",
            "9  \t [-0.63922856  0.00577741]\t 1.302741441614392\t -1.029299726828387\t 1.6636174321782153\t 1.7953255592140793\n",
            "10 \t [-3. -2.]\t 162.89999999999998\t -1.029299726828387\t 1.4225513249403368\t 1.8926920794343414\n",
            "11 \t [ 0.89020371 -0.05127473]\t 1.9608111691206318\t -1.029299726828387\t 0.8466296503218803\t 1.397792307778003\n",
            "12 \t [-0.8342834 -0.4436979]\t 1.6168821018418786\t -1.029299726828387\t 0.9454219808995941\t 1.4195819671209025\n",
            "13 \t [0.01833889 0.06366885]\t -0.013636519518342567\t -1.029299726828387\t 0.9764087913667999\t 1.316136123248296\n",
            "14 \t [-3.  2.]\t 150.89999999999998\t -1.029299726828387\t 1.114113253665333\t 1.848037261827711\n",
            "15 \t [1.44695823 0.87259397]\t 2.7645569838221435\t -1.029299726828387\t 1.034164371041791\t 1.9419919541750057\n",
            "16 \t [-1.85474917 -0.63154808]\t 2.6910517727968903\t -1.029299726828387\t 1.2479631295579132\t 1.7910044073292062\n",
            "17 \t [ 1.17071781 -1.11531534]\t 2.303696509337039\t -1.029299726828387\t 1.0946162672731334\t 1.669600181083695\n",
            "18 \t [-1.14689031 -0.91838214]\t 2.911726653717724\t -1.029299726828387\t 0.9530830986149931\t 1.3746034901449982\n",
            "19 \t [ 1.00872415 -2.        ]\t 48.229568542281044\t -1.029299726828387\t 1.04304462059004\t 1.4071129883794518\n",
            "20 \t [0.75989014 0.02255686]\t 1.6888155564079415\t -1.029299726828387\t 1.0295860792093974\t 1.2286794218466393\n"
          ]
        }
      ],
      "source": [
        "### ESTIMATED STP CBM GRADIENTS\n",
        "\n",
        "np.random.seed(run_num_14)\n",
        "surrogate_approx_14 = dtStudentProcess(cov_func, optimize=opt, nu = df)\n",
        "\n",
        "approx_14 = GPGO_multi(surrogate_approx_14, Acquisition_grad(util), objfunc, param)\n",
        "approx_14.run(init_evals=n_init, max_iter=iters)\n"
      ]
    },
    {
      "cell_type": "code",
      "execution_count": 27,
      "metadata": {
        "colab": {
          "base_uri": "https://localhost:8080/"
        },
        "id": "vCJzn4vWGCs3",
        "outputId": "f9a2cac7-843c-4ed3-f90e-8ac7722776f7"
      },
      "outputs": [
        {
          "output_type": "stream",
          "name": "stdout",
          "text": [
            "Evaluation \t Proposed point \t  Current eval. \t  Best eval. \t        Exact CBM: StdDev. x \t Approx CBM: StdDev. x \n",
            "init\t [ 2.09290618 -1.2844163 ]\t 6.84252100896936\t 2.1163170846379233\t    \t    \n",
            "init\t [-2.67382071 -0.55384622]\t 43.69785230561242\t 2.1163170846379233\t    \t    \n",
            "init\t [-1.34759443  0.1200009 ]\t 2.1163170846379233\t 2.1163170846379233\t    \t    \n",
            "init\t [-1.16448651 -0.78210256]\t 2.3544087277459513\t 2.1163170846379233\t    \t    \n",
            "init\t [-2.32955234 -1.00040394]\t 15.469119251600274\t 2.1163170846379233\t    \t    \n",
            "\u001b[1m\u001b[92m1\u001b[0m\t \u001b[1m\u001b[92m[0.09504977 0.88130002]\u001b[0m\t \u001b[1m\u001b[92m-0.5740371369809314\u001b[0m\t \u001b[1m\u001b[92m-0.5740371369809314\u001b[0m\t \u001b[1m\u001b[92m1.8683505135819014\u001b[0m\t \u001b[1m\u001b[92m1.7619308390029416\u001b[0m\n",
            "2  \t [2.07694362 2.        ]\t 57.08830207607234\t -0.5740371369809314\t 1.606671432399468\t 1.9471860855015568\n",
            "3  \t [-1.30589405  2.        ]\t 47.75552730351181\t -0.5740371369809314\t 1.6278075916820478\t 1.8904282469091656\n",
            "\u001b[1m\u001b[92m4\u001b[0m\t \u001b[1m\u001b[92m[ 0.23016763 -0.59211102]\u001b[0m\t \u001b[1m\u001b[92m-0.8409336237905524\u001b[0m\t \u001b[1m\u001b[92m-0.8409336237905524\u001b[0m\t \u001b[1m\u001b[92m1.3926243829260287\u001b[0m\t \u001b[1m\u001b[92m1.8121186446969435\u001b[0m\n",
            "5  \t [-0.17407109 -2.        ]\t 48.46742636192374\t -0.8409336237905524\t 1.6187234603756537\t 2.285666325983634\n",
            "6  \t [ 3. -2.]\t 150.89999999999998\t -0.8409336237905524\t 1.746993361676709\t 2.0258280991053534\n",
            "7  \t [ 1.53032814 -0.23122611]\t 1.5752582042938943\t -0.8409336237905524\t 1.7181253883826944\t 1.8341241981149454\n",
            "8  \t [3.        0.2306759]\t 109.39050802082363\t -0.8409336237905524\t 1.8746975514798037\t 1.928203952539801\n",
            "9  \t [-3.  2.]\t 150.89999999999998\t -0.8409336237905524\t 1.6278213227920517\t 1.6790266695425702\n",
            "10 \t [-3. -2.]\t 162.89999999999998\t -0.8409336237905524\t 1.4735145249840447\t 1.2912286045100212\n",
            "11 \t [0.52864419 0.09581782]\t 0.9753895883742483\t -0.8409336237905524\t 1.4606185722756744\t 1.179400693985825\n",
            "12 \t [0.29928719 2.        ]\t 48.9402563295665\t -0.8409336237905524\t 1.2571828719603317\t 1.1712477915968187\n",
            "13 \t [ 1.03325333 -0.9520109 ]\t 0.9592285031665662\t -0.8409336237905524\t 1.6267206537103869\t 1.4752966753901973\n",
            "14 \t [ 1.29224784 -2.        ]\t 47.79132347418708\t -0.8409336237905524\t 1.3776431593423317\t 1.422809582232384\n",
            "15 \t [-0.47054185  0.27229803]\t 0.38358801657226305\t -0.8409336237905524\t 1.3686836804658784\t 1.1266006937421253\n",
            "16 \t [-1.39468951 -2.        ]\t 53.07762642230304\t -0.8409336237905524\t 1.9552920028805072\t 1.6062839244913123\n",
            "17 \t [ 0.8714166  -0.22146059]\t 1.5929455216227657\t -0.8409336237905524\t 1.1868988129884426\t 1.0358260830938688\n",
            "18 \t [-0.46968711 -0.1025653 ]\t 0.7903396519256507\t -0.8409336237905524\t 1.4150286313364315\t 1.1346124234939807\n",
            "19 \t [-1.82649902 -0.55059292]\t 2.509414119979221\t -0.8409336237905524\t 1.371021565825038\t 1.542006220780697\n",
            "20 \t [-0.87324391 -0.07423873]\t 2.0198011746755524\t -0.8409336237905524\t 1.2519899189654013\t 1.063125946461688\n"
          ]
        }
      ],
      "source": [
        "### ESTIMATED STP CBM GRADIENTS\n",
        "\n",
        "np.random.seed(run_num_15)\n",
        "surrogate_approx_15 = dtStudentProcess(cov_func, optimize=opt, nu = df)\n",
        "\n",
        "approx_15 = GPGO_multi(surrogate_approx_15, Acquisition_grad(util), objfunc, param)\n",
        "approx_15.run(init_evals=n_init, max_iter=iters)\n"
      ]
    },
    {
      "cell_type": "code",
      "execution_count": 28,
      "metadata": {
        "colab": {
          "base_uri": "https://localhost:8080/"
        },
        "id": "bGGkhp-kGCw6",
        "outputId": "1d591ec1-3b76-409e-dbd5-0b125e65afc9"
      },
      "outputs": [
        {
          "output_type": "stream",
          "name": "stdout",
          "text": [
            "Evaluation \t Proposed point \t  Current eval. \t  Best eval. \t        Exact CBM: StdDev. x \t Approx CBM: StdDev. x \n",
            "init\t [-1.66025353  0.09265337]\t 1.8632773736203017\t 1.8632773736203017\t    \t    \n",
            "init\t [ 0.30420874 -1.8175922 ]\t 30.24114424375299\t 1.8632773736203017\t    \t    \n",
            "init\t [-0.83562699 -1.10767623]\t 3.922061281476444\t 1.8632773736203017\t    \t    \n",
            "init\t [ 1.13235697 -1.3450743 ]\t 6.7121671493737685\t 1.8632773736203017\t    \t    \n",
            "init\t [-2.5780508   1.76404344]\t 53.42443470756798\t 1.8632773736203017\t    \t    \n",
            "1  \t [3.         0.36513154]\t 109.53320845682123\t 1.8632773736203017\t 2.157780743893366\t 2.282893982767163\n",
            "2  \t [-3. -2.]\t 162.89999999999998\t 1.8632773736203017\t 2.179144508594843\t 2.0135049754623613\n",
            "3  \t [0.31580434 2.        ]\t 49.00998111589368\t 1.8632773736203017\t 1.6453121530452697\t 1.777022243327216\n",
            "4  \t [ 3. -2.]\t 150.89999999999998\t 1.8632773736203017\t 1.3784699751836114\t 1.7165465914875655\n",
            "\u001b[1m\u001b[92m5\u001b[0m\t \u001b[1m\u001b[92m[0.05636595 0.01947505]\u001b[0m\t \u001b[1m\u001b[92m0.01226849042968408\u001b[0m\t \u001b[1m\u001b[92m0.01226849042968408\u001b[0m\t \u001b[1m\u001b[92m1.6066203516986224\u001b[0m\t \u001b[1m\u001b[92m1.5518228428821004\u001b[0m\n",
            "6  \t [-0.7991555   0.36186767]\t 1.040502021594508\t 0.01226849042968408\t 1.6743459683391255\t 1.907897574680683\n",
            "7  \t [ 0.80730101 -0.09320896]\t 1.6975262516251204\t 0.01226849042968408\t 1.6702689739797936\t 1.770949948952513\n",
            "8  \t [2.21981962 2.        ]\t 61.04217387850503\t 0.01226849042968408\t 1.4987318917662196\t 1.638243397490288\n",
            "9  \t [-3.         0.2362795]\t 107.98031656522177\t 0.01226849042968408\t 1.443372978500915\t 1.6230641609414487\n",
            "10 \t [-1.21991282  2.        ]\t 47.960680726924295\t 0.01226849042968408\t 1.6755527775411692\t 1.7741215961036993\n",
            "11 \t [-1.03323649 -0.36295169]\t 2.1999694264932135\t 0.01226849042968408\t 1.5702249324209934\t 1.7891803117210754\n",
            "12 \t [-1.13006556 -2.        ]\t 52.63776006416495\t 0.01226849042968408\t 1.666376186152722\t 1.8225250736924992\n",
            "\u001b[1m\u001b[92m13\u001b[0m\t \u001b[1m\u001b[92m[ 0.34891292 -0.80438198]\u001b[0m\t \u001b[1m\u001b[92m-0.7377486448489374\u001b[0m\t \u001b[1m\u001b[92m-0.7377486448489374\u001b[0m\t \u001b[1m\u001b[92m1.2148864309183978\u001b[0m\t \u001b[1m\u001b[92m1.1149685861453031\u001b[0m\n",
            "14 \t [0.60378199 0.8393554 ]\t 0.8693703785634634\t -0.7377486448489374\t 1.4723202134430549\t 1.4087167140549492\n",
            "15 \t [-1.57038616  0.8563001 ]\t -0.03484829986770677\t -0.7377486448489374\t 1.4352264960888867\t 1.5863306375998987\n",
            "16 \t [-0.13932959  0.93246887]\t -0.5069428362370784\t -0.7377486448489374\t 1.2340453158881315\t 1.2478141414927144\n",
            "17 \t [ 1.4554368  -0.72973159]\t 0.16064948220866915\t -0.7377486448489374\t 1.5895819228489831\t 1.6547122086914452\n",
            "18 \t [-0.92967461  0.30089232]\t 1.4945892195419948\t -0.7377486448489374\t 1.4986233013968033\t 1.388301168829427\n",
            "19 \t [-1.55222334 -0.80280586]\t 2.4386714315340323\t -0.7377486448489374\t 1.3225665097968502\t 1.3598892820063269\n",
            "20 \t [-0.41130813 -0.10383732]\t 0.6182548868567641\t -0.7377486448489374\t 1.4098139487319747\t 1.4721979355395647\n"
          ]
        }
      ],
      "source": [
        "### ESTIMATED STP CBM GRADIENTS\n",
        "\n",
        "np.random.seed(run_num_16)\n",
        "surrogate_approx_16 = dtStudentProcess(cov_func, optimize=opt, nu = df)\n",
        "\n",
        "approx_16 = GPGO_multi(surrogate_approx_16, Acquisition_grad(util), objfunc, param)\n",
        "approx_16.run(init_evals=n_init, max_iter=iters)\n"
      ]
    },
    {
      "cell_type": "code",
      "execution_count": 29,
      "metadata": {
        "colab": {
          "base_uri": "https://localhost:8080/"
        },
        "id": "Yrs2mp7hGC1Z",
        "outputId": "60d4522b-ca0a-429d-c3e3-14e65fd088c0"
      },
      "outputs": [
        {
          "output_type": "stream",
          "name": "stdout",
          "text": [
            "Evaluation \t Proposed point \t  Current eval. \t  Best eval. \t        Exact CBM: StdDev. x \t Approx CBM: StdDev. x \n",
            "init\t [-1.23200998  0.12234702]\t 2.189206652278967\t 1.7722768782964888\t    \t    \n",
            "init\t [-1.85087528 -1.72839857]\t 29.406067820453675\t 1.7722768782964888\t    \t    \n",
            "init\t [1.72191276 0.62533409]\t 2.2113401446731897\t 1.7722768782964888\t    \t    \n",
            "init\t [0.82512538 0.30241158]\t 1.7722768782964888\t 1.7722768782964888\t    \t    \n",
            "init\t [-2.7656225  -0.56874558]\t 57.5922315952177\t 1.7722768782964888\t    \t    \n",
            "1  \t [-0.78228961  2.        ]\t 48.17324392144949\t 1.7722768782964888\t 1.618776022462919\t 1.9616666123094577\n",
            "2  \t [ 3. -2.]\t 150.89999999999998\t 1.7722768782964888\t 1.8823666201057763\t 2.365903632864196\n",
            "3  \t [3. 2.]\t 162.89999999999998\t 1.7722768782964888\t 2.0267142355711845\t 1.9644218537552858\n",
            "4  \t [ 0.15617675 -2.        ]\t 47.78396669359572\t 1.7722768782964888\t 1.570484785393122\t 1.9285731767663217\n",
            "5  \t [-3.  2.]\t 150.89999999999998\t 1.7722768782964888\t 1.5867311946561984\t 2.0089730455188075\n",
            "\u001b[1m\u001b[92m6\u001b[0m\t \u001b[1m\u001b[92m[-0.12940297 -0.09391828]\u001b[0m\t \u001b[1m\u001b[92m0.04357518938333807\u001b[0m\t \u001b[1m\u001b[92m0.04357518938333807\u001b[0m\t \u001b[1m\u001b[92m1.555097434135801\u001b[0m\t \u001b[1m\u001b[92m1.2338952334228015\u001b[0m\n",
            "7  \t [0.73901659 2.        ]\t 51.09053841351733\t 0.04357518938333807\t 1.4317790324655233\t 1.3511285275877178\n",
            "8  \t [ 1.33600394 -0.39731265]\t 1.2821955482553378\t 0.04357518938333807\t 1.6952248053855827\t 1.394596866856009\n",
            "9  \t [-3. -2.]\t 162.89999999999998\t 0.04357518938333807\t 1.7402626149516365\t 1.296415632267076\n",
            "10 \t [-0.76412134 -0.69962566]\t 1.2209926110893077\t 0.04357518938333807\t 0.9074056918786461\t 0.8787973939529038\n",
            "11 \t [ 2.26579706 -0.06665085]\t 10.121393938819317\t 0.04357518938333807\t 1.3211531177283151\t 0.9425729624273765\n",
            "12 \t [ 0.5489027  -0.26939268]\t 0.6065664902348616\t 0.04357518938333807\t 0.9273150959092233\t 0.47947053080528756\n",
            "13 \t [-1.04234526 -2.        ]\t 52.37919902947175\t 0.04357518938333807\t 1.0003233421820206\t 1.1335217966497302\n",
            "14 \t [-1.65646768 -0.72820525]\t 2.260906127135756\t 0.04357518938333807\t 1.0515653988622602\t 1.3731974260566828\n",
            "15 \t [ 1.23900639 -2.        ]\t 47.919504090222674\t 0.04357518938333807\t 1.0653689241867224\t 1.2422639585641828\n",
            "\u001b[1m\u001b[92m16\u001b[0m\t \u001b[1m\u001b[92m[-0.56686547  0.84473373]\u001b[0m\t \u001b[1m\u001b[92m-0.21682715952710097\u001b[0m\t \u001b[1m\u001b[92m-0.21682715952710097\u001b[0m\t \u001b[1m\u001b[92m1.0115542811112013\u001b[0m\t \u001b[1m\u001b[92m1.0226373169596512\u001b[0m\n",
            "17 \t [-1.37056999  0.96890271]\t 0.7553423471374052\t -0.21682715952710097\t 0.9151576453888242\t 0.9150818499190388\n",
            "18 \t [-2.18917601  0.43963426]\t 6.042370385965729\t -0.21682715952710097\t 1.1598465055808367\t 1.1398437185318118\n",
            "19 \t [ 0.5437033  -1.05680451]\t 0.9549082805051781\t -0.21682715952710097\t 1.12861088573867\t 1.1225664967636702\n",
            "20 \t [-0.91992497  0.05705406]\t 2.0176690136411577\t -0.21682715952710097\t 1.07932130641078\t 0.880650455435636\n"
          ]
        }
      ],
      "source": [
        "### ESTIMATED STP CBM GRADIENTS\n",
        "\n",
        "np.random.seed(run_num_17)\n",
        "surrogate_approx_17 = dtStudentProcess(cov_func, optimize=opt, nu = df)\n",
        "\n",
        "approx_17 = GPGO_multi(surrogate_approx_17, Acquisition_grad(util), objfunc, param)\n",
        "approx_17.run(init_evals=n_init, max_iter=iters)\n"
      ]
    },
    {
      "cell_type": "code",
      "execution_count": 30,
      "metadata": {
        "colab": {
          "base_uri": "https://localhost:8080/"
        },
        "id": "f0HIEP3PIUEa",
        "outputId": "575f64b5-e21f-4f6d-88f4-32f09f30fe17"
      },
      "outputs": [
        {
          "output_type": "stream",
          "name": "stdout",
          "text": [
            "Evaluation \t Proposed point \t  Current eval. \t  Best eval. \t        Exact CBM: StdDev. x \t Approx CBM: StdDev. x \n",
            "init\t [0.90224545 0.02181349]\t 2.062169771852028\t 2.062169771852028\t    \t    \n",
            "init\t [ 2.27160883 -1.2726391 ]\t 11.64729291207819\t 2.062169771852028\t    \t    \n",
            "init\t [2.11339841 1.00054514]\t 7.792128760671214\t 2.062169771852028\t    \t    \n",
            "init\t [0.99661    1.95158179]\t 46.96206222999227\t 2.062169771852028\t    \t    \n",
            "init\t [-1.45818946 -1.8867763 ]\t 41.4190528039297\t 2.062169771852028\t    \t    \n",
            "1  \t [-3.  2.]\t 150.89999999999998\t 2.062169771852028\t 1.7927977318869188\t 2.358555534859865\n",
            "2  \t [ 0.76754634 -2.        ]\t 48.16072396001962\t 2.062169771852028\t 2.0307178213774626\t 2.1771230684352787\n",
            "3  \t [3.         0.03807977]\t 109.0084474587296\t 2.062169771852028\t 1.904804933203214\t 2.0326238959182876\n",
            "\u001b[1m\u001b[92m4\u001b[0m\t \u001b[1m\u001b[92m[-0.73137464  0.30403899]\u001b[0m\t \u001b[1m\u001b[92m1.0318402539280673\u001b[0m\t \u001b[1m\u001b[92m1.0318402539280673\u001b[0m\t \u001b[1m\u001b[92m2.2625593236419124\u001b[0m\t \u001b[1m\u001b[92m2.045662551329118\u001b[0m\n",
            "5  \t [-3.         -0.78764016]\t 110.32088299767719\t 1.0318402539280673\t 2.2300168453715377\t 2.0138366755014165\n",
            "6  \t [3. 2.]\t 162.89999999999998\t 1.0318402539280673\t 1.8299410366683275\t 1.6908711256988938\n",
            "7  \t [ 3. -2.]\t 150.89999999999998\t 1.0318402539280673\t 1.3232379157943832\t 1.719589456708317\n",
            "8  \t [-0.66379562  2.        ]\t 48.05570790169044\t 1.0318402539280673\t 1.249616851932375\t 1.3338496606620174\n",
            "\u001b[1m\u001b[92m9\u001b[0m\t \u001b[1m\u001b[92m[-0.0890919  -0.45462032]\u001b[0m\t \u001b[1m\u001b[92m-0.5837323306312469\u001b[0m\t \u001b[1m\u001b[92m-0.5837323306312469\u001b[0m\t \u001b[1m\u001b[92m1.4014317434880252\u001b[0m\t \u001b[1m\u001b[92m0.7736752369696993\u001b[0m\n",
            "10 \t [0.52840853 0.41018104]\t 0.6173789230351685\t -0.5837323306312469\t 1.4690544996470116\t 0.9742297872532776\n",
            "11 \t [ 1.1398665 -0.4263144]\t 1.302377052052766\t -0.5837323306312469\t 1.349318951052501\t 0.9744722699937958\n",
            "12 \t [-0.52516876 -0.26562278]\t 0.8276488499830474\t -0.5837323306312469\t 1.3282131742608299\t 1.0817073134838762\n",
            "13 \t [0.20783047 0.14821808]\t 0.11374326483415888\t -0.5837323306312469\t 1.4639494069088543\t 1.1877156193146965\n",
            "14 \t [ 1.6244382  -1.39553702]\t 7.171565126661678\t -0.5837323306312469\t 1.222323482364452\t 1.3331162462130086\n",
            "15 \t [1.77683095 0.1921988 ]\t 2.3855663888539214\t -0.5837323306312469\t 1.747700427307545\t 1.5325161236805536\n",
            "16 \t [1.45375404 1.03463279]\t 4.026329366368511\t -0.5837323306312469\t 1.1181568704774796\t 1.3196272544157206\n",
            "17 \t [-0.44957494 -2.        ]\t 49.62458443173893\t -0.5837323306312469\t 1.5207426365002865\t 1.420940493854287\n",
            "18 \t [ 1.08225411 -0.05360328]\t 2.2702864206674946\t -0.5837323306312469\t 1.5744468739102107\t 0.6319523313814119\n",
            "19 \t [-1.78548127  0.42623713]\t 0.8534575961835912\t -0.5837323306312469\t 1.3796190212321338\t 1.6085772697701324\n",
            "20 \t [-1.48407248 -0.56129623]\t 2.1541706801327374\t -0.5837323306312469\t 1.8388607738400924\t 1.59415660883644\n"
          ]
        }
      ],
      "source": [
        "### ESTIMATED STP CBM GRADIENTS\n",
        "\n",
        "np.random.seed(run_num_18)\n",
        "surrogate_approx_18 = dtStudentProcess(cov_func, optimize=opt, nu = df)\n",
        "\n",
        "approx_18 = GPGO_multi(surrogate_approx_18, Acquisition_grad(util), objfunc, param)\n",
        "approx_18.run(init_evals=n_init, max_iter=iters)\n"
      ]
    },
    {
      "cell_type": "code",
      "execution_count": 31,
      "metadata": {
        "colab": {
          "base_uri": "https://localhost:8080/"
        },
        "id": "S3mxRQDLIUPC",
        "outputId": "e9000f09-0a32-46a3-b34d-5e5ca9369ba8"
      },
      "outputs": [
        {
          "output_type": "stream",
          "name": "stdout",
          "text": [
            "Evaluation \t Proposed point \t  Current eval. \t  Best eval. \t        Exact CBM: StdDev. x \t Approx CBM: StdDev. x \n",
            "init\t [-2.41479839  1.04499887]\t 15.890475442873509\t 6.578088852480828\t    \t    \n",
            "init\t [-1.51837216 -1.44747325]\t 13.520839509777993\t 6.578088852480828\t    \t    \n",
            "init\t [-1.01132062 -1.66800174]\t 23.772158573571232\t 6.578088852480828\t    \t    \n",
            "init\t [1.03186249 1.22637519]\t 6.578088852480828\t 6.578088852480828\t    \t    \n",
            "init\t [2.89645149 0.54264294]\t 83.31828503667734\t 6.578088852480828\t    \t    \n",
            "1  \t [ 1.61911257 -2.        ]\t 46.821232448693976\t 6.578088852480828\t 1.9357826877798554\t 2.141610126141108\n",
            "2  \t [-0.42866699  2.        ]\t 47.80884711785863\t 6.578088852480828\t 1.9964885714850247\t 2.367888948708921\n",
            "3  \t [-3. -2.]\t 162.89999999999998\t 6.578088852480828\t 2.2666815449847078\t 2.1234567633175887\n",
            "\u001b[1m\u001b[92m4\u001b[0m\t \u001b[1m\u001b[92m[-0.11486601 -0.20022557]\u001b[0m\t \u001b[1m\u001b[92m-0.0785210992206287\u001b[0m\t \u001b[1m\u001b[92m-0.0785210992206287\u001b[0m\t \u001b[1m\u001b[92m1.6217820738251552\u001b[0m\t \u001b[1m\u001b[92m1.9632871736812152\u001b[0m\n",
            "5  \t [-3.  2.]\t 150.89999999999998\t -0.0785210992206287\t 1.3699888456729996\t 1.8595770949362331\n",
            "6  \t [-1.40199896  0.0738469 ]\t 2.1550665699244034\t -0.0785210992206287\t 1.5481108455358796\t 1.725972236364263\n",
            "7  \t [ 3. -2.]\t 150.89999999999998\t -0.0785210992206287\t 1.4098037430736754\t 1.4917607900791963\n",
            "8  \t [ 0.12862025 -2.        ]\t 47.80835896450704\t -0.0785210992206287\t 1.6681098710291076\t 1.4764803342403485\n",
            "9  \t [1.84639216 2.        ]\t 54.12995704249291\t -0.0785210992206287\t 1.4221110105281898\t 1.1376055012363524\n",
            "10 \t [0.76423341 0.00750318]\t 1.6917831670800076\t -0.0785210992206287\t 1.3105992500599741\t 1.0083198339428519\n",
            "11 \t [-0.49584122  0.3900994 ]\t 0.15194482919814756\t -0.0785210992206287\t 1.2607560116691623\t 1.0999071379604972\n",
            "12 \t [-3.          0.07559477]\t 108.65048804092791\t -0.0785210992206287\t 1.60151803307191\t 1.371562140361757\n",
            "13 \t [-0.73381396 -0.27948572]\t 1.514102014558633\t -0.0785210992206287\t 1.5071673061796298\t 1.2886606306245971\n",
            "14 \t [-1.54725291  1.22667811]\t 3.2539554904765575\t -0.0785210992206287\t 1.6463537992403832\t 1.5246098236237813\n",
            "15 \t [-1.00698905  0.56248834]\t 0.8127657034680371\t -0.0785210992206287\t 1.4814572407731939\t 1.156790400568765\n",
            "16 \t [ 1.06962783 -0.9864307 ]\t 1.1667458641504527\t -0.0785210992206287\t 1.5034015426772667\t 1.3511628867000665\n",
            "17 \t [0.6979099 2.       ]\t 50.88443677116264\t -0.0785210992206287\t 1.446541974255033\t 1.4887624728633286\n",
            "18 \t [3. 2.]\t 162.89999999999998\t -0.0785210992206287\t 1.3510275312758986\t 1.4207974309514861\n",
            "19 \t [0.77182251 0.01221309]\t 1.716908521916386\t -0.0785210992206287\t 0.8422673450268092\t 0.3798043923769499\n",
            "20 \t [ 1.91541323 -0.54462451]\t 0.9920962454584581\t -0.0785210992206287\t 1.0637031243154458\t 1.1648543971551075\n"
          ]
        }
      ],
      "source": [
        "### ESTIMATED STP CBM GRADIENTS\n",
        "\n",
        "np.random.seed(run_num_19)\n",
        "surrogate_approx_19 = dtStudentProcess(cov_func, optimize=opt, nu = df)\n",
        "\n",
        "approx_19 = GPGO_multi(surrogate_approx_19, Acquisition_grad(util), objfunc, param)\n",
        "approx_19.run(init_evals=n_init, max_iter=iters)\n"
      ]
    },
    {
      "cell_type": "code",
      "execution_count": 32,
      "metadata": {
        "colab": {
          "base_uri": "https://localhost:8080/"
        },
        "id": "Aawd59dRIUYn",
        "outputId": "6c140959-3c7c-49e0-d3ab-040c8067fbc2"
      },
      "outputs": [
        {
          "output_type": "stream",
          "name": "stdout",
          "text": [
            "Evaluation \t Proposed point \t  Current eval. \t  Best eval. \t        Exact CBM: StdDev. x \t Approx CBM: StdDev. x \n",
            "init\t [0.52878481 1.59085491]\t 17.29968374481291\t 1.5037392797834441\t    \t    \n",
            "init\t [2.34918438 1.26334991]\t 20.91583049569433\t 1.5037392797834441\t    \t    \n",
            "init\t [-2.78466249  0.76703033]\t 57.06253405225224\t 1.5037392797834441\t    \t    \n",
            "init\t [-0.72791435  0.07404378]\t 1.5037392797834441\t 1.5037392797834441\t    \t    \n",
            "init\t [ 0.94770879 -1.22459913]\t 3.9766737661914173\t 1.5037392797834441\t    \t    \n",
            "1  \t [ 3. -2.]\t 150.89999999999998\t 1.5037392797834441\t 1.761976583567592\t 1.9861191860488898\n",
            "2  \t [-1.05657816 -2.        ]\t 52.42520775450663\t 1.5037392797834441\t 2.310096098121879\t 2.010430126807274\n",
            "3  \t [-3. -2.]\t 162.89999999999998\t 1.5037392797834441\t 2.074573599766386\t 1.7073099408704222\n",
            "4  \t [-1.10147463  2.        ]\t 48.1541921438475\t 1.5037392797834441\t 1.1322056628458534\t 1.4882728344030407\n",
            "5  \t [ 0.72500784 -0.0069067 ]\t 1.565540700686964\t 1.5037392797834441\t 1.4795175941023384\t 1.6320812486967475\n",
            "6  \t [3. 2.]\t 162.89999999999998\t 1.5037392797834441\t 1.5502095129933133\t 1.9390176033311142\n",
            "7  \t [1.79368552 0.05490154]\t 2.319299822537712\t 1.5037392797834441\t 1.1699280268136907\t 1.3102636031589239\n",
            "\u001b[1m\u001b[92m8\u001b[0m\t \u001b[1m\u001b[92m[ 0.02043283 -0.67304617]\u001b[0m\t \u001b[1m\u001b[92m-1.003243270776984\u001b[0m\t \u001b[1m\u001b[92m-1.003243270776984\u001b[0m\t \u001b[1m\u001b[92m0.964628172164918\u001b[0m\t \u001b[1m\u001b[92m1.5015080000650005\u001b[0m\n",
            "9  \t [ 0.52130401 -2.        ]\t 47.896023535941026\t -1.003243270776984\t 0.8756018293859359\t 1.2890670728528082\n",
            "10 \t [0.94431005 0.41377211]\t 1.9565382520224968\t -1.003243270776984\t 0.920263079991626\t 1.1081667728499773\n",
            "11 \t [-0.02723895  0.15992989]\t -0.10108306561518846\t -1.003243270776984\t 1.1343325810057725\t 1.3098413005522151\n",
            "12 \t [3.         0.23958952]\t 109.40233649229961\t -1.003243270776984\t 1.331090264447274\t 1.8107021682346802\n",
            "13 \t [1.51037962 1.72301437]\t 28.135549110638117\t -1.003243270776984\t 1.358150379677232\t 1.8464632184327767\n",
            "14 \t [-3.  2.]\t 150.89999999999998\t -1.003243270776984\t 1.0652348257757351\t 1.6654534393240166\n",
            "15 \t [-2.12090237 -0.30499627]\t 6.149910646005974\t -1.003243270776984\t 1.1935048567332878\t 1.2935508214139062\n",
            "16 \t [-3.         -0.20763605]\t 109.35789205813295\t -1.003243270776984\t 1.1410428089278515\t 1.1862982227386516\n",
            "17 \t [-1.21543125 -0.33262497]\t 2.4115121102303467\t -1.003243270776984\t 0.9454553280911214\t 0.9476484497722942\n",
            "18 \t [-1.7235897   0.56904604]\t 0.2324306340885589\t -1.003243270776984\t 1.053169698185229\t 1.1731948705711686\n",
            "19 \t [1.78070547 0.82618316]\t 2.800847427010839\t -1.003243270776984\t 0.8904691600819018\t 1.063510270701259\n",
            "20 \t [-0.9146443   0.22309772]\t 1.678522794435169\t -1.003243270776984\t 0.7357717111956302\t 0.7565024698856426\n"
          ]
        }
      ],
      "source": [
        "### ESTIMATED STP CBM GRADIENTS\n",
        "\n",
        "np.random.seed(run_num_20)\n",
        "surrogate_approx_20 = dtStudentProcess(cov_func, optimize=opt, nu = df)\n",
        "\n",
        "approx_20 = GPGO_multi(surrogate_approx_20, Acquisition_grad(util), objfunc, param)\n",
        "approx_20.run(init_evals=n_init, max_iter=iters)\n"
      ]
    },
    {
      "cell_type": "code",
      "execution_count": 33,
      "metadata": {
        "colab": {
          "base_uri": "https://localhost:8080/"
        },
        "id": "xkgzPRbBTHaq",
        "outputId": "09e79272-ae28-42f4-ca62-6242884ba07c"
      },
      "outputs": [
        {
          "output_type": "execute_result",
          "data": {
            "text/plain": [
              "1662466247.1092825"
            ]
          },
          "metadata": {},
          "execution_count": 33
        }
      ],
      "source": [
        "end_approx = time.time()\n",
        "end_approx\n",
        "\n",
        "time_approx = end_approx - start_approx\n",
        "time_approx\n",
        "\n",
        "start_exact = time.time()\n",
        "start_exact"
      ]
    },
    {
      "cell_type": "code",
      "execution_count": 34,
      "metadata": {
        "colab": {
          "base_uri": "https://localhost:8080/"
        },
        "id": "7CG3Ndvb16Rb",
        "outputId": "f1b14ba3-9850-4dc8-da23-6ba08d27808f"
      },
      "outputs": [
        {
          "output_type": "stream",
          "name": "stdout",
          "text": [
            "Evaluation \t Proposed point \t  Current eval. \t  Best eval. \t        Exact CBM: StdDev. x \t Approx CBM: StdDev. x \n",
            "init\t [-0.49786797  0.88129797]\t -0.2650082867644827\t -0.2650082867644827\t    \t    \n",
            "init\t [-2.99931375 -0.79066971]\t 110.13991869176735\t -0.2650082867644827\t    \t    \n",
            "init\t [-2.11946466 -1.63064562]\t 26.90935479429681\t -0.2650082867644827\t    \t    \n",
            "init\t [-1.88243873 -0.61775709]\t 2.8558363102363344\t -0.2650082867644827\t    \t    \n",
            "init\t [-0.61939515  0.15526694]\t 1.0540522096005847\t -0.2650082867644827\t    \t    \n",
            "1  \t [1.79042321 2.        ]\t 53.80404005843086\t -0.2650082867644827\t 1.7257175467866859\t 2.089525122237084\n",
            "2  \t [ 1.20864389 -1.67792966]\t 20.818195440116607\t -0.2650082867644827\t 1.5056436485040545\t 2.3739121140675645\n",
            "3  \t [-1.60215436  1.22842078]\t 3.172845166925801\t -0.2650082867644827\t 1.8324206500807103\t 2.217300832119146\n",
            "4  \t [-2.87085117  1.79188084]\t 100.1840744807586\t -0.2650082867644827\t 1.6136685460548434\t 2.1020338600267494\n",
            "5  \t [ 2.91861001 -0.27146028]\t 86.66157976018654\t -0.2650082867644827\t 1.1970606815578873\t 1.9378114925501015\n",
            "6  \t [-0.54358823 -1.60855744]\t 18.31149505028953\t -0.2650082867644827\t 1.7902440170765141\t 1.970731130346673\n",
            "7  \t [-0.23443667  1.53142582]\t 12.474543890658618\t -0.2650082867644827\t 1.6320680633063602\t 1.7267510155879695\n",
            "8  \t [ 0.42541937 -0.018312  ]\t 0.6479872374050198\t -0.2650082867644827\t 1.7750463191882075\t 1.6717192226090039\n",
            "9  \t [-1.02033257  0.12461336]\t 2.076066595062064\t -0.2650082867644827\t 1.8409507151535147\t 1.8908765654496094\n",
            "10 \t [-0.29293143 -0.27508182]\t 0.12878714864051966\t -0.2650082867644827\t 1.622568665757347\t 1.6903426999503535\n",
            "11 \t [ 0.4977512  -0.02460096]\t 0.8525252263307241\t -0.2650082867644827\t 1.605633994375291\t 1.7110704810735302\n",
            "12 \t [-1.2452192 -1.1076932]\t 4.889325226898132\t -0.2650082867644827\t 1.8108152382269598\t 2.255367318728866\n",
            "13 \t [3. 2.]\t 162.89999999999998\t -0.2650082867644827\t 1.8857687052263343\t 1.7441019748481303\n",
            "14 \t [ 2.93604034 -1.68914172]\t 108.14689156823393\t -0.2650082867644827\t 1.623702511426791\t 1.9326703161786754\n",
            "15 \t [1.0922452  0.96753793]\t 3.166780572085312\t -0.2650082867644827\t 1.3416561128473785\t 1.377423621319503\n",
            "16 \t [-1.04199381  1.97506764]\t 45.50031819045194\t -0.2650082867644827\t 1.2413890794602727\t 1.3740759894884642\n",
            "17 \t [0.90679434 1.98892891]\t 50.629359078824066\t -0.2650082867644827\t 1.3539490720896574\t 1.4488417405721041\n",
            "18 \t [-1.85339935  0.33154881]\t 1.466005363603934\t -0.2650082867644827\t 1.394227690313728\t 1.5110747952290962\n",
            "19 \t [1.57927101 0.82964717]\t 2.5369099764052674\t -0.2650082867644827\t 1.412690757625145\t 1.499095751021077\n",
            "20 \t [-1.04055505  0.26787006]\t 1.7470366357413323\t -0.2650082867644827\t 1.4632711531742768\t 1.146384934589498\n"
          ]
        }
      ],
      "source": [
        "### EXACT STP CBM GRADIENTS\n",
        "\n",
        "np.random.seed(run_num_1)\n",
        "surrogate_exact_1 = dtStudentProcess(cov_func, optimize=opt, nu = df)\n",
        "\n",
        "exact_1 = dGPGO(surrogate_exact_1, Acquisition_grad(util), objfunc, param)\n",
        "exact_1.run(init_evals=n_init, max_iter=iters)\n"
      ]
    },
    {
      "cell_type": "code",
      "execution_count": 35,
      "metadata": {
        "colab": {
          "base_uri": "https://localhost:8080/"
        },
        "id": "-ilCPSAu9SAg",
        "outputId": "a2d1e763-b8cc-43c7-ea0a-699518e84d70"
      },
      "outputs": [
        {
          "output_type": "stream",
          "name": "stdout",
          "text": [
            "Evaluation \t Proposed point \t  Current eval. \t  Best eval. \t        Exact CBM: StdDev. x \t Approx CBM: StdDev. x \n",
            "init\t [-0.38403059 -1.89629507]\t 38.61280125654363\t 0.011939608840498828\t    \t    \n",
            "init\t [ 0.29797487 -0.25871043]\t 0.011939608840498828\t 0.011939608840498828\t    \t    \n",
            "init\t [-0.47779319 -0.67866072]\t 0.1381453419305213\t 0.011939608840498828\t    \t    \n",
            "init\t [-1.7721082   0.47708387]\t 0.626144759281101\t 0.011939608840498828\t    \t    \n",
            "init\t [-1.20207196 -0.9326909 ]\t 3.0693811601417798\t 0.011939608840498828\t    \t    \n",
            "1  \t [3. 2.]\t 162.89999999999998\t 0.011939608840498828\t 1.8408727534197444\t 2.3472699522855454\n",
            "2  \t [ 2.76552382 -1.62083546]\t 69.49395462832902\t 0.011939608840498828\t 1.681434277250749\t 2.2541540856935423\n",
            "3  \t [-0.29530445  1.80279752]\t 29.052431423542714\t 0.011939608840498828\t 1.7151018419716262\t 2.112486570120513\n",
            "4  \t [-3. -2.]\t 162.89999999999998\t 0.011939608840498828\t 1.4623912652153588\t 1.7409457503918573\n",
            "5  \t [-2.47572493  0.86292235]\t 19.481227124439183\t 0.011939608840498828\t 1.0338695319027844\t 1.7630410801069831\n",
            "6  \t [1.23736369 0.21475959]\t 2.4876352156707364\t 0.011939608840498828\t 1.1622689719335138\t 1.7029183722337358\n",
            "\u001b[1m\u001b[92m7\u001b[0m\t \u001b[1m\u001b[92m[-0.26799768  0.41531684]\u001b[0m\t \u001b[1m\u001b[92m-0.4056660579372313\u001b[0m\t \u001b[1m\u001b[92m-0.4056660579372313\u001b[0m\t \u001b[1m\u001b[92m1.1002038308478401\u001b[0m\t \u001b[1m\u001b[92m1.488158480701386\u001b[0m\n",
            "8  \t [-2.40869994  1.85377216]\t 46.643992473921145\t -0.4056660579372313\t 1.026902078091\t 1.282981898725216\n",
            "9  \t [ 2.99504695 -0.05012033]\t 107.34439274658074\t -0.4056660579372313\t 1.2541782462852449\t 1.7894057836619919\n",
            "10 \t [-0.81279965 -0.08105877]\t 1.8619166691668771\t -0.4056660579372313\t 1.041061235698968\t 1.046598628749915\n",
            "11 \t [0.81901199 1.42318418]\t 11.312474591599855\t -0.4056660579372313\t 1.1535686012432174\t 1.7270289975352187\n",
            "12 \t [ 1.11415098 -1.81533146]\t 30.602143576433225\t -0.4056660579372313\t 1.0641884109667916\t 1.56926561659323\n",
            "13 \t [-1.93031003 -0.35048011]\t 3.2380821056967917\t -0.4056660579372313\t 1.1088656989617058\t 1.73772427615065\n",
            "14 \t [0.67656044 0.50809257]\t 1.0006168292229274\t -0.4056660579372313\t 1.0735173070366262\t 1.495735343917284\n",
            "15 \t [-2.95294527 -0.08841664]\t 96.4427477538638\t -0.4056660579372313\t 0.9703137783651756\t 1.469628111534638\n",
            "16 \t [ 1.24810853 -0.68144888]\t 0.5497278683479483\t -0.4056660579372313\t 1.0771493325693962\t 1.0081977553480623\n",
            "17 \t [ 0.43394418 -0.95452954]\t -0.05712154547094933\t -0.4056660579372313\t 0.9973380009101825\t 1.5003431026043614\n",
            "18 \t [0.10329108 1.03723609]\t 0.4760277853524734\t -0.4056660579372313\t 1.0284708500081083\t 1.6063998572478264\n",
            "19 \t [-0.84074346  0.96158907]\t 0.8087573788156124\t -0.4056660579372313\t 0.9802920544202947\t 1.4596333906358994\n",
            "20 \t [-1.44306206 -0.3570081 ]\t 2.3035472699329262\t -0.4056660579372313\t 1.3135840908894754\t 1.481044683471722\n"
          ]
        }
      ],
      "source": [
        "### EXACT STP CBM GRADIENTS\n",
        "\n",
        "np.random.seed(run_num_2)\n",
        "surrogate_exact_2 = dtStudentProcess(cov_func, optimize=opt, nu = df)\n",
        "\n",
        "exact_2 = dGPGO(surrogate_exact_2, Acquisition_grad(util), objfunc, param)\n",
        "exact_2.run(init_evals=n_init, max_iter=iters)\n"
      ]
    },
    {
      "cell_type": "code",
      "execution_count": 36,
      "metadata": {
        "colab": {
          "base_uri": "https://localhost:8080/"
        },
        "id": "XieJ158mIvlP",
        "outputId": "c66ea65a-f2fb-4358-ecb9-33daeb0e50b6"
      },
      "outputs": [
        {
          "output_type": "stream",
          "name": "stdout",
          "text": [
            "Evaluation \t Proposed point \t  Current eval. \t  Best eval. \t        Exact CBM: StdDev. x \t Approx CBM: StdDev. x \n",
            "init\t [0.30478742 0.83259129]\t -0.2431922946563294\t -0.2431922946563294\t    \t    \n",
            "init\t [-1.25457157  0.04331042]\t 2.3313310458730996\t -0.2431922946563294\t    \t    \n",
            "init\t [2.35768173 1.58517236]\t 33.54152175045586\t -0.2431922946563294\t    \t    \n",
            "init\t [-2.24648814 -1.17102849]\t 14.214109412296352\t -0.2431922946563294\t    \t    \n",
            "init\t [-2.69119678 -0.23676063]\t 45.87579771712209\t -0.2431922946563294\t    \t    \n",
            "1  \t [ 0.38902174 -1.26039243]\t 3.808195120832698\t -0.2431922946563294\t 1.789118891955225\t 1.8753569613416632\n",
            "2  \t [-0.56859321  2.        ]\t 47.94777475581011\t -0.2431922946563294\t 1.6011378117646589\t 2.2078596117160907\n",
            "3  \t [ 2.14712765 -0.86354038]\t 3.856255829299252\t -0.2431922946563294\t 1.637012826235913\t 2.3186914122192914\n",
            "4  \t [-1.0543245 -2.       ]\t 52.418025705089505\t -0.2431922946563294\t 1.5691730572533356\t 2.031703859276035\n",
            "5  \t [ 0.79593465 -0.13722771]\t 1.5928583923394124\t -0.2431922946563294\t 2.079389351641003\t 2.2454900828478723\n",
            "6  \t [ 2.77534464 -2.        ]\t 100.99656091340819\t -0.2431922946563294\t 1.7467785496345398\t 2.2675715677379524\n",
            "7  \t [1.87570137 0.09032933]\t 2.732491115599305\t -0.2431922946563294\t 2.0409025430282006\t 1.8248208038097418\n",
            "8  \t [-0.27113197  0.06519141]\t 0.2482310977245004\t -0.2431922946563294\t 1.7088088600318236\t 1.83374532827914\n",
            "9  \t [ 0.80213767 -0.28447115]\t 1.2674147443087815\t -0.2431922946563294\t 1.8832025992288703\t 1.7504712536579268\n",
            "10 \t [-3. -2.]\t 162.89999999999998\t -0.2431922946563294\t 2.2896533184869536\t 2.347051135437789\n",
            "11 \t [2.70535034 0.25836568]\t 47.91883187176391\t -0.2431922946563294\t 1.5048729283220186\t 2.006225862059947\n",
            "12 \t [-2.29521192  1.09778874]\t 9.99458352348952\t -0.2431922946563294\t 1.469258352096265\t 2.0247093627443995\n",
            "13 \t [-1.21752438 -0.93046621]\t 3.068701650100406\t -0.2431922946563294\t 1.7459005002613854\t 2.246789461407538\n",
            "14 \t [-0.30609109 -0.31071756]\t 0.10281739437303739\t -0.2431922946563294\t 1.4721662521543442\t 1.806861838347921\n",
            "15 \t [1.14259879 1.6369156 ]\t 22.2556725279025\t -0.2431922946563294\t 1.6395265700586283\t 2.2664410211678248\n",
            "16 \t [ 1.33515603 -1.17876088]\t 2.9363117195984896\t -0.2431922946563294\t 1.599451974207099\t 2.0647539459154514\n",
            "17 \t [-2.43852654  1.79654413]\t 43.995690537364425\t -0.2431922946563294\t 1.5999521184020407\t 2.230517578971801\n",
            "18 \t [ 1.13741608 -0.55304602]\t 0.9035742491453815\t -0.2431922946563294\t 1.4720952171878434\t 1.5710048761197437\n",
            "\u001b[1m\u001b[92m19\u001b[0m\t \u001b[1m\u001b[92m[ 0.18119901 -0.33579234]\u001b[0m\t \u001b[1m\u001b[92m-0.331934807086366\u001b[0m\t \u001b[1m\u001b[92m-0.331934807086366\u001b[0m\t \u001b[1m\u001b[92m1.4918117245424232\u001b[0m\t \u001b[1m\u001b[92m1.3175398943054146\u001b[0m\n",
            "20 \t [ 0.59148633 -1.92542029]\t 40.16343837464491\t -0.331934807086366\t 1.405857216618796\t 1.1987223949783976\n"
          ]
        }
      ],
      "source": [
        "### EXACT STP CBM GRADIENTS\n",
        "\n",
        "np.random.seed(run_num_3)\n",
        "surrogate_exact_3 = dtStudentProcess(cov_func, optimize=opt, nu = df)\n",
        "\n",
        "exact_3 = dGPGO(surrogate_exact_3, Acquisition_grad(util), objfunc, param)\n",
        "exact_3.run(init_evals=n_init, max_iter=iters)\n"
      ]
    },
    {
      "cell_type": "code",
      "execution_count": 37,
      "metadata": {
        "colab": {
          "base_uri": "https://localhost:8080/"
        },
        "id": "PhLBVOIfIvol",
        "outputId": "d41ee855-75e6-456c-a514-c259b770b1fe"
      },
      "outputs": [
        {
          "output_type": "stream",
          "name": "stdout",
          "text": [
            "Evaluation \t Proposed point \t  Current eval. \t  Best eval. \t        Exact CBM: StdDev. x \t Approx CBM: StdDev. x \n",
            "init\t [2.80217903 0.188929  ]\t 63.70212732873661\t 2.3196402150601703\t    \t    \n",
            "init\t [2.83610616 0.85926397]\t 71.43837110827245\t 2.3196402150601703\t    \t    \n",
            "init\t [ 1.18637295 -1.13564202]\t 2.5463267765341566\t 2.3196402150601703\t    \t    \n",
            "init\t [ 2.85764673 -1.97507898]\t 113.76785286351424\t 2.3196402150601703\t    \t    \n",
            "init\t [-1.48210583 -0.26083387]\t 2.3196402150601703\t 2.3196402150601703\t    \t    \n",
            "1  \t [-0.72364147  2.        ]\t 48.119355192355414\t 2.3196402150601703\t 1.5866125744167268\t 2.182680389341165\n",
            "2  \t [-3. -2.]\t 162.89999999999998\t 2.3196402150601703\t 1.7933127689079438\t 1.5324643737403254\n",
            "3  \t [-0.21760271 -1.98389268]\t 46.836146584442815\t 2.3196402150601703\t 1.5344746385462915\t 2.1991919821400248\n",
            "\u001b[1m\u001b[92m4\u001b[0m\t \u001b[1m\u001b[92m[0.13843063 0.24478989]\u001b[0m\t \u001b[1m\u001b[92m-0.11555597090403195\u001b[0m\t \u001b[1m\u001b[92m-0.11555597090403195\u001b[0m\t \u001b[1m\u001b[92m1.3092385546514573\u001b[0m\t \u001b[1m\u001b[92m1.929587454414723\u001b[0m\n",
            "5  \t [-2.94054987  1.08640518]\t 90.73294807580699\t -0.11555597090403195\t 1.5624422349715141\t 1.981943693890255\n",
            "6  \t [1.37313872 2.        ]\t 53.05692908294463\t -0.11555597090403195\t 1.4893505544874153\t 1.5948260828350325\n",
            "\u001b[1m\u001b[92m7\u001b[0m\t \u001b[1m\u001b[92m[-0.19507493 -0.38242424]\u001b[0m\t \u001b[1m\u001b[92m-0.2756433223764802\u001b[0m\t \u001b[1m\u001b[92m-0.2756433223764802\u001b[0m\t \u001b[1m\u001b[92m1.2562087758790474\u001b[0m\t \u001b[1m\u001b[92m1.088297031930002\u001b[0m\n",
            "8  \t [ 0.79253142 -0.28736147]\t 1.23576372657158\t -0.2756433223764802\t 1.3738876320684017\t 1.2426697364184764\n",
            "9  \t [-1.1106434   0.61027297]\t 0.7517099195499318\t -0.2756433223764802\t 1.4969502652777569\t 1.2421432601191076\n",
            "10 \t [3. 2.]\t 162.89999999999998\t -0.2756433223764802\t 1.6413862600765614\t 1.9009732768143657\n",
            "11 \t [1.21611136 0.77535146]\t 2.3846391917377137\t -0.2756433223764802\t 1.2659812434044573\t 1.4931717954362986\n",
            "12 \t [ 0.81340579 -1.93398578]\t 41.24886525550365\t -0.2756433223764802\t 1.2616820094156584\t 1.5855024238955673\n",
            "13 \t [0.34596804 1.364524  ]\t 7.340709847017684\t -0.2756433223764802\t 1.0643947533210227\t 1.2536256499137266\n",
            "14 \t [-0.84282668  0.0436873 ]\t 1.8567960340731215\t -0.2756433223764802\t 0.9639841806370121\t 1.180578627661114\n",
            "15 \t [-1.28385386 -0.99806736]\t 3.6464665074945284\t -0.2756433223764802\t 1.0403454692716776\t 1.516117657938656\n",
            "16 \t [ 0.45855066 -0.97937708]\t 0.14561569325941334\t -0.2756433223764802\t 1.1827656602034258\t 1.4960462354591213\n",
            "17 \t [0.66521618 0.80287674]\t 1.005453711127718\t -0.2756433223764802\t 1.1291278724476264\t 1.2816625447825878\n",
            "\u001b[1m\u001b[92m18\u001b[0m\t \u001b[1m\u001b[92m[-0.38697536  0.91184296]\u001b[0m\t \u001b[1m\u001b[92m-0.36037771942420826\u001b[0m\t \u001b[1m\u001b[92m-0.36037771942420826\u001b[0m\t \u001b[1m\u001b[92m1.1593469927567346\u001b[0m\t \u001b[1m\u001b[92m1.5803258565099287\u001b[0m\n",
            "19 \t [-2.4745038  -0.31348305]\t 22.703947685954887\t -0.36037771942420826\t 1.2240077903905398\t 1.481273599438998\n",
            "20 \t [0.27200814 0.02799916]\t 0.2890753657215549\t -0.36037771942420826\t 0.7418767266705311\t 0.7415831120439497\n"
          ]
        }
      ],
      "source": [
        "### EXACT STP CBM GRADIENTS\n",
        "\n",
        "np.random.seed(run_num_4)\n",
        "surrogate_exact_4 = dtStudentProcess(cov_func, optimize=opt, nu = df)\n",
        "\n",
        "exact_4 = dGPGO(surrogate_exact_4, Acquisition_grad(util), objfunc, param)\n",
        "exact_4.run(init_evals=n_init, max_iter=iters)\n"
      ]
    },
    {
      "cell_type": "code",
      "execution_count": 38,
      "metadata": {
        "colab": {
          "base_uri": "https://localhost:8080/"
        },
        "id": "arbiPyj2IvsJ",
        "outputId": "50597abe-2cd9-49cd-d650-5c1e0dc15695"
      },
      "outputs": [
        {
          "output_type": "stream",
          "name": "stdout",
          "text": [
            "Evaluation \t Proposed point \t  Current eval. \t  Best eval. \t        Exact CBM: StdDev. x \t Approx CBM: StdDev. x \n",
            "init\t [-1.66804097  1.48292922]\t 10.126030408244933\t -0.6512780061070701\t    \t    \n",
            "init\t [-1.75968507  1.67444363]\t 19.4300499315822\t -0.6512780061070701\t    \t    \n",
            "init\t [-0.06953287  0.44697545]\t -0.6512780061070701\t -0.6512780061070701\t    \t    \n",
            "init\t [1.59544714 0.07367195]\t 2.168775388880503\t -0.6512780061070701\t    \t    \n",
            "init\t [-1.21919699 -1.24911509]\t 7.420330936884148\t -0.6512780061070701\t    \t    \n",
            "1  \t [3. 2.]\t 162.89999999999998\t -0.6512780061070701\t 2.1509547071673745\t 2.3365854237408135\n",
            "2  \t [ 1.80285852 -1.91843449]\t 38.2626097222265\t -0.6512780061070701\t 1.8404618207400625\t 2.0666202967437295\n",
            "3  \t [-3. -2.]\t 162.89999999999998\t -0.6512780061070701\t 1.9837307902613854\t 2.196606683216973\n",
            "4  \t [ 0.07603746 -0.95009895]\t -0.4005559046004117\t -0.6512780061070701\t 1.0022933985759943\t 1.9251653729510771\n",
            "5  \t [-2.16231855  0.16168345]\t 6.4139598043382895\t -0.6512780061070701\t 1.1885496893218892\t 2.065540939861866\n",
            "6  \t [0.20077281 2.        ]\t 48.55939411128837\t -0.6512780061070701\t 1.29817388342166\t 1.9615129587512021\n",
            "7  \t [ 2.98964904 -0.66068443]\t 103.04102124151072\t -0.6512780061070701\t 1.0322110032768284\t 1.319589609834193\n",
            "8  \t [-0.45205752 -1.94743967]\t 43.975710210651975\t -0.6512780061070701\t 0.9488024531194251\t 1.5724149560334781\n",
            "9  \t [-1.06427327 -0.03531642]\t 2.35349379388019\t -0.6512780061070701\t 1.177267554045905\t 1.686757872208201\n",
            "10 \t [-2.80935068  1.02092284]\t 61.94297266345289\t -0.6512780061070701\t 1.1799652694873157\t 1.7806810997850169\n",
            "11 \t [ 0.80627919 -0.27706739]\t 1.2975506946183069\t -0.6512780061070701\t 0.9316328616842414\t 1.0957684153637286\n",
            "12 \t [1.34865728 0.67261846]\t 2.250043760358005\t -0.6512780061070701\t 1.1068088334100668\t 1.4867962228504952\n",
            "13 \t [-0.79995515  1.29498824]\t 5.292429974944591\t -0.6512780061070701\t 1.1349604952373018\t 1.7076759379131146\n",
            "14 \t [-0.52327725 -0.60969246]\t 0.3295244177498038\t -0.6512780061070701\t 1.024596567894628\t 1.5208348539339844\n",
            "15 \t [-1.59719687 -0.72273026]\t 2.22799876991085\t -0.6512780061070701\t 1.0212024712524723\t 1.4056778810124717\n",
            "16 \t [ 0.86693897 -1.47585631]\t 10.94690492125299\t -0.6512780061070701\t 1.0879747307707464\t 1.4047966329568509\n",
            "17 \t [0.64314004 0.65351398]\t 0.7603886156248643\t -0.6512780061070701\t 1.2220498302689176\t 1.4813828052976357\n",
            "18 \t [-1.36771694  0.77168769]\t 0.29704437683486185\t -0.6512780061070701\t 0.8515872282061313\t 1.3515883328868983\n",
            "19 \t [-2.72309319 -0.27392539]\t 50.5699495991172\t -0.6512780061070701\t 0.9620442282677922\t 1.494322683722625\n",
            "20 \t [-0.6396354   0.08638189]\t 1.2229651922468698\t -0.6512780061070701\t 0.9676817254381692\t 1.299050369420387\n"
          ]
        }
      ],
      "source": [
        "### EXACT STP CBM GRADIENTS\n",
        "\n",
        "np.random.seed(run_num_5)\n",
        "surrogate_exact_5 = dtStudentProcess(cov_func, optimize=opt, nu = df)\n",
        "\n",
        "exact_5 = dGPGO(surrogate_exact_5, Acquisition_grad(util), objfunc, param)\n",
        "exact_5.run(init_evals=n_init, max_iter=iters)\n"
      ]
    },
    {
      "cell_type": "code",
      "execution_count": 39,
      "metadata": {
        "colab": {
          "base_uri": "https://localhost:8080/"
        },
        "id": "04KJCEm_Ivvf",
        "outputId": "6f9e4ced-b174-4b56-fd0d-9d8af1d1b769"
      },
      "outputs": [
        {
          "output_type": "stream",
          "name": "stdout",
          "text": [
            "Evaluation \t Proposed point \t  Current eval. \t  Best eval. \t        Exact CBM: StdDev. x \t Approx CBM: StdDev. x \n",
            "init\t [ 2.35716091 -0.67208078]\t 11.995980169715628\t -0.3096187466378422\t    \t    \n",
            "init\t [ 1.92737474 -1.8332135 ]\t 31.167927894156623\t -0.3096187466378422\t    \t    \n",
            "init\t [-2.35405992  0.38020826]\t 13.013381745677465\t -0.3096187466378422\t    \t    \n",
            "init\t [ 0.17890417 -0.32477029]\t -0.3096187466378422\t -0.3096187466378422\t    \t    \n",
            "init\t [-0.9875529   0.49007773]\t 0.9989196280666852\t -0.3096187466378422\t    \t    \n",
            "1  \t [0.60454306 2.        ]\t 50.40675037480955\t -0.3096187466378422\t 2.1177471496151687\t 2.0498163574073613\n",
            "2  \t [-1.79818127 -2.        ]\t 53.84303759459686\t -0.3096187466378422\t 2.2212814417963855\t 2.105001237439362\n",
            "3  \t [3. 2.]\t 162.89999999999998\t -0.3096187466378422\t 1.9204702272222025\t 2.3750266902803716\n",
            "4  \t [-1.70805801  1.72097302]\t 22.374222241265805\t -0.3096187466378422\t 1.6425370046560535\t 2.2726237223397527\n",
            "5  \t [ 0.06715927 -1.38370111]\t 6.929768441623259\t -0.3096187466378422\t 1.3121488055419748\t 2.13235451193581\n",
            "6  \t [-3.         -0.89883387]\t 110.9757169481619\t -0.3096187466378422\t 1.480434467701819\t 2.108261559103381\n",
            "7  \t [-2.93949014  1.58456008]\t 103.32816572636087\t -0.3096187466378422\t 1.3795807148595487\t 1.79326298319087\n",
            "8  \t [1.00049434 0.12404097]\t 2.297627970417313\t -0.3096187466378422\t 1.3315707752075863\t 1.524391911962192\n",
            "9  \t [-0.57467192 -0.04133383]\t 1.1208947899036779\t -0.3096187466378422\t 0.970238384297196\t 1.343571559854313\n",
            "\u001b[1m\u001b[92m10\u001b[0m\t \u001b[1m\u001b[92m[-0.0541544   0.47309772]\u001b[0m\t \u001b[1m\u001b[92m-0.70880922075528\u001b[0m\t \u001b[1m\u001b[92m-0.70880922075528\u001b[0m\t \u001b[1m\u001b[92m1.2463478682744127\u001b[0m\t \u001b[1m\u001b[92m1.5885626282213503\u001b[0m\n",
            "11 \t [-0.5881398   1.78545743]\t 27.99438841331559\t -0.70880922075528\t 1.4872410862473575\t 1.868431831815856\n",
            "12 \t [-1.58623468 -0.13944196]\t 2.2243275411825\t -0.70880922075528\t 1.2832602665778265\t 1.765156777859497\n",
            "13 \t [ 2.97168748 -0.03449438]\t 101.0080996235567\t -0.70880922075528\t 1.2827894014330747\t 1.960542568641135\n",
            "14 \t [ 1.25180025 -0.69526379]\t 0.5248283239694399\t -0.70880922075528\t 1.3568288969087188\t 1.8179933296175697\n",
            "15 \t [-0.67866388 -1.80846699]\t 32.360611083956435\t -0.70880922075528\t 1.1974784247928152\t 1.9197334686553367\n",
            "16 \t [ 2.8738618  -1.29448475]\t 78.38972546419737\t -0.70880922075528\t 1.4087391592666128\t 1.7795709679395315\n",
            "17 \t [ 0.62059745 -1.9628061 ]\t 43.98991027057324\t -0.70880922075528\t 1.3913218956424056\t 1.289861802730755\n",
            "18 \t [ 1.81967823 -0.2843233 ]\t 1.507121903641714\t -0.70880922075528\t 1.3987548738905569\t 1.360210432046519\n",
            "19 \t [ 0.98824345 -0.36640079]\t 1.387028551605784\t -0.70880922075528\t 1.2702784456322542\t 1.5206845099456685\n",
            "20 \t [-1.53851309  0.62521905]\t 0.20857162719820488\t -0.70880922075528\t 1.4287429942184566\t 1.5382369613209628\n"
          ]
        }
      ],
      "source": [
        "### EXACT STP CBM GRADIENTS\n",
        "\n",
        "np.random.seed(run_num_6)\n",
        "surrogate_exact_6 = dtStudentProcess(cov_func, optimize=opt, nu = df)\n",
        "\n",
        "exact_6 = dGPGO(surrogate_exact_6, Acquisition_grad(util), objfunc, param)\n",
        "exact_6.run(init_evals=n_init, max_iter=iters)\n"
      ]
    },
    {
      "cell_type": "code",
      "execution_count": 40,
      "metadata": {
        "colab": {
          "base_uri": "https://localhost:8080/"
        },
        "id": "tAOkme3CIvyO",
        "outputId": "1e4fc79d-b5a2-451c-d286-98ca37e5226d"
      },
      "outputs": [
        {
          "output_type": "stream",
          "name": "stdout",
          "text": [
            "Evaluation \t Proposed point \t  Current eval. \t  Best eval. \t        Exact CBM: StdDev. x \t Approx CBM: StdDev. x \n",
            "init\t [-2.54215026  1.11967517]\t 26.53843863832488\t -0.46481072558790276\t    \t    \n",
            "init\t [-0.36954461  0.89386071]\t -0.46481072558790276\t -0.46481072558790276\t    \t    \n",
            "init\t [2.86793707 0.15398348]\t 76.66051064695093\t -0.46481072558790276\t    \t    \n",
            "init\t [ 0.00672278 -1.71179547]\t 22.613010892757885\t -0.46481072558790276\t    \t    \n",
            "init\t [-1.38936612e+00 -4.69996698e-04]\t 2.294585534557751\t -0.46481072558790276\t    \t    \n",
            "1  \t [-3. -2.]\t 162.89999999999998\t -0.46481072558790276\t 2.2010537449706793\t 2.0791341563276275\n",
            "2  \t [0.86724197 2.        ]\t 51.696831372482244\t -0.46481072558790276\t 1.200212939771173\t 2.0164820658314406\n",
            "3  \t [ 1.96812024 -1.92847676]\t 40.011207936677586\t -0.46481072558790276\t 1.634020002136561\t 1.9356538852790064\n",
            "4  \t [0.35761444 0.17159428]\t 0.4249574566174074\t -0.46481072558790276\t 1.4859311098238472\t 1.7470249977787184\n",
            "5  \t [-0.97779432  1.94087862]\t 41.991681440661395\t -0.46481072558790276\t 1.5505237988136529\t 2.1282265799312903\n",
            "6  \t [3. 2.]\t 162.89999999999998\t -0.46481072558790276\t 1.751948129237719\t 2.0427871239748456\n",
            "7  \t [-0.56651052 -0.43267359]\t 0.7149313080880408\t -0.46481072558790276\t 1.0509688766036855\t 1.5751962623402913\n",
            "8  \t [ 1.30842941 -0.75672793]\t 0.3965924264837152\t -0.46481072558790276\t 1.1193984463880424\t 1.8868263894059605\n",
            "9  \t [ 0.35698566 -0.35344029]\t -0.08709359781124715\t -0.46481072558790276\t 1.2877858068573511\t 1.514233230632687\n",
            "10 \t [-2.94154498  1.92471741]\t 127.73976738684357\t -0.46481072558790276\t 1.3224510586667033\t 1.8559819121163053\n",
            "11 \t [-1.24832116  0.12567244]\t 2.176054986264669\t -0.46481072558790276\t 0.9746955391983848\t 1.1571682574462148\n",
            "12 \t [-2.99797982  0.07698546]\t 108.0747221424008\t -0.46481072558790276\t 1.300294805594909\t 1.725005385745351\n",
            "13 \t [-1.16377676 -1.78604284]\t 32.41538664975422\t -0.46481072558790276\t 1.344982346784673\t 1.8715527017212334\n",
            "14 \t [1.28447079 0.37410984]\t 2.379206590681765\t -0.46481072558790276\t 1.0238481561605388\t 1.501144286809628\n",
            "15 \t [0.30156708 1.17156643]\t 2.7454580943928084\t -0.46481072558790276\t 1.2226363861769272\t 1.6701795947992886\n",
            "16 \t [-1.70432678  0.92593844]\t 0.0025011455422783158\t -0.46481072558790276\t 0.9721312615191251\t 1.690903656444706\n",
            "17 \t [ 2.51778261 -0.98406681]\t 23.282284658092053\t -0.46481072558790276\t 1.0378094808564216\t 1.555478974058755\n",
            "18 \t [ 1.50229303 -0.22967806]\t 1.6180438565323803\t -0.46481072558790276\t 1.1490829702660659\t 1.6331093719057583\n",
            "19 \t [ 2.88956582 -1.42245219]\t 85.20024510579063\t -0.46481072558790276\t 1.1728757856661691\t 1.8919518151262162\n",
            "20 \t [-0.40568266  0.28119256]\t 0.19757468941030915\t -0.46481072558790276\t 0.9322273171185819\t 1.0989608000459845\n"
          ]
        }
      ],
      "source": [
        "### EXACT STP CBM GRADIENTS\n",
        "\n",
        "np.random.seed(run_num_7)\n",
        "surrogate_exact_7 = dtStudentProcess(cov_func, optimize=opt, nu = df)\n",
        "\n",
        "exact_7 = dGPGO(surrogate_exact_7, Acquisition_grad(util), objfunc, param)\n",
        "exact_7.run(init_evals=n_init, max_iter=iters)\n"
      ]
    },
    {
      "cell_type": "code",
      "execution_count": 41,
      "metadata": {
        "colab": {
          "base_uri": "https://localhost:8080/"
        },
        "id": "69-J3EF4Iv1S",
        "outputId": "d8cb3e8a-b9e4-430e-bcb7-2a1751e4c0be"
      },
      "outputs": [
        {
          "output_type": "stream",
          "name": "stdout",
          "text": [
            "Evaluation \t Proposed point \t  Current eval. \t  Best eval. \t        Exact CBM: StdDev. x \t Approx CBM: StdDev. x \n",
            "init\t [2.24057642 1.87416265]\t 48.82879577505094\t 0.03190064766213015\t    \t    \n",
            "init\t [2.21516724 0.12342277]\t 8.660623551418242\t 0.03190064766213015\t    \t    \n",
            "init\t [-1.60363003 -1.95440478]\t 48.28332373939171\t 0.03190064766213015\t    \t    \n",
            "init\t [-0.41718709 -0.39059456]\t 0.2801229037700297\t 0.03190064766213015\t    \t    \n",
            "init\t [ 0.13604803 -0.08643282]\t 0.03190064766213015\t 0.03190064766213015\t    \t    \n",
            "1  \t [-1.62175844  1.70055452]\t 21.18489233676748\t 0.03190064766213015\t 1.4167830402938597\t 2.07278578316969\n",
            "2  \t [ 1.95656727 -2.        ]\t 47.324712823851435\t 0.03190064766213015\t 1.6194352817315438\t 2.2415823627880016\n",
            "\u001b[1m\u001b[92m3\u001b[0m\t \u001b[1m\u001b[92m[0.17287461 0.88343524]\u001b[0m\t \u001b[1m\u001b[92m-0.4149742885618575\u001b[0m\t \u001b[1m\u001b[92m-0.4149742885618575\u001b[0m\t \u001b[1m\u001b[92m1.2595635145113617\u001b[0m\t \u001b[1m\u001b[92m1.7578680996275295\u001b[0m\n",
            "4  \t [-2.24055334 -0.13301277]\t 9.5569773108288\t -0.4149742885618575\t 1.767570628322341\t 2.0733026888554615\n",
            "5  \t [0.15008167 1.74742576]\t 25.432676295721755\t -0.4149742885618575\t 1.6386247219058503\t 1.7846433148411485\n",
            "6  \t [ 0.66475045 -0.29574944]\t 0.8704012280022608\t -0.4149742885618575\t 1.9477731044464726\t 2.201313111121022\n",
            "7  \t [-0.6797928   0.22768457]\t 1.0815169889911462\t -0.4149742885618575\t 2.0042620740933734\t 2.1110181391581126\n",
            "8  \t [-0.22832721  0.15794035]\t 0.06951928854999524\t -0.4149742885618575\t 1.7845955728683964\t 1.857169851050055\n",
            "9  \t [1.03601503 0.55115909]\t 2.011235901478184\t -0.4149742885618575\t 1.7743849128373308\t 1.9466745814476314\n",
            "10 \t [-0.09949249 -1.20086598]\t 2.708918916901835\t -0.4149742885618575\t 1.5081932517852061\t 1.9916520601717307\n",
            "11 \t [-3.        -1.3173457]\t 117.95688660751107\t -0.4149742885618575\t 2.000001705622506\t 2.256794699776946\n",
            "12 \t [-1.88939419  0.35857038]\t 1.5561611829761361\t -0.4149742885618575\t 1.5398462641221007\t 1.9937071272220843\n",
            "13 \t [ 2.86759779 -0.55202092]\t 73.8088580179358\t -0.4149742885618575\t 1.295549734031239\t 1.623273673038948\n",
            "14 \t [-2.59376219  1.95370077]\t 71.3026987868534\t -0.4149742885618575\t 1.7165923529027995\t 1.8416005218554763\n",
            "15 \t [-0.31006872 -2.        ]\t 48.9855929747588\t -0.4149742885618575\t 1.5095265433780218\t 1.6701431494466705\n",
            "16 \t [2.73184806 0.96093873]\t 53.78567085329537\t -0.4149742885618575\t 1.5058909200296902\t 1.7377555532547568\n",
            "17 \t [-0.54859472  0.95108319]\t 0.1556177701424556\t -0.4149742885618575\t 1.6123491961705674\t 1.689703032255784\n",
            "18 \t [ 0.73818057 -1.30506097]\t 5.437265089372246\t -0.4149742885618575\t 1.5617466445490753\t 1.7041078366787104\n",
            "19 \t [-1.4014331  -0.55829622]\t 2.2051661397866975\t -0.4149742885618575\t 1.2691101216622518\t 1.3880022964092293\n",
            "20 \t [1.54362389 0.18068167]\t 2.270183493938133\t -0.4149742885618575\t 1.4701335515007425\t 1.4063735656607614\n"
          ]
        }
      ],
      "source": [
        "### EXACT STP CBM GRADIENTS\n",
        "\n",
        "np.random.seed(run_num_8)\n",
        "surrogate_exact_8 = dtStudentProcess(cov_func, optimize=opt, nu = df)\n",
        "\n",
        "exact_8 = dGPGO(surrogate_exact_8, Acquisition_grad(util), objfunc, param)\n",
        "exact_8.run(init_evals=n_init, max_iter=iters)\n"
      ]
    },
    {
      "cell_type": "code",
      "execution_count": 42,
      "metadata": {
        "colab": {
          "base_uri": "https://localhost:8080/"
        },
        "id": "vonm9jyuIv4t",
        "outputId": "880503b9-f1b2-4a99-b9ff-a0297d084d1b"
      },
      "outputs": [
        {
          "output_type": "stream",
          "name": "stdout",
          "text": [
            "Evaluation \t Proposed point \t  Current eval. \t  Best eval. \t        Exact CBM: StdDev. x \t Approx CBM: StdDev. x \n",
            "init\t [-2.93775508  0.00749837]\t 92.35857237145763\t 1.395407492769129\t    \t    \n",
            "init\t [-0.02536024 -1.46468188]\t 9.867672894921913\t 1.395407492769129\t    \t    \n",
            "init\t [-2.14733349 -1.1257653 ]\t 10.24680089963123\t 1.395407492769129\t    \t    \n",
            "init\t [-0.48895092 -1.00759533]\t 1.395407492769129\t 1.395407492769129\t    \t    \n",
            "init\t [-2.49564209 -0.61800544]\t 24.58298635463645\t 1.395407492769129\t    \t    \n",
            "1  \t [3. 2.]\t 162.89999999999998\t 1.395407492769129\t 1.5811388300841898\t 1.515750639122412\n",
            "2  \t [-0.39127315  2.        ]\t 47.7818087310956\t 1.395407492769129\t 1.631968442798173\t 2.0107780212184507\n",
            "3  \t [ 2.48693791 -1.50711775]\t 31.074690591872447\t 1.395407492769129\t 1.6483202076787684\t 2.4894778569009204\n",
            "4  \t [-3. -2.]\t 162.89999999999998\t 1.395407492769129\t 1.5248639145079201\t 1.665601257465767\n",
            "5  \t [0.88595844 0.06539918]\t 2.047976523316952\t 1.395407492769129\t 1.1595298386065542\t 1.1750213372047993\n",
            "\u001b[1m\u001b[92m6\u001b[0m\t \u001b[1m\u001b[92m[-0.60464494  0.07030636]\u001b[0m\t \u001b[1m\u001b[92m1.1357997910377768\u001b[0m\t \u001b[1m\u001b[92m1.1357997910377768\u001b[0m\t \u001b[1m\u001b[92m0.929747202748077\u001b[0m\t \u001b[1m\u001b[92m1.6664716953080863\u001b[0m\n",
            "7  \t [ 0.79063153 -1.92504063]\t 40.347381632014084\t 1.1357997910377768\t 1.007349160627754\t 1.5294709620885765\n",
            "8  \t [-0.97827355 -1.88795234]\t 40.60513214348106\t 1.1357997910377768\t 1.0147781016577446\t 1.7569594826594503\n",
            "9  \t [ 2.75781715 -0.1740029 ]\t 54.99796749725464\t 1.1357997910377768\t 0.8962476333670699\t 1.5894359557133715\n",
            "10 \t [-0.96496037 -0.27580118]\t 2.157945147917694\t 1.1357997910377768\t 0.8423155773906764\t 1.190482111348405\n",
            "11 \t [-1.9070794   1.99609519]\t 46.5634068818497\t 1.1357997910377768\t 1.1708967832185224\t 1.7334627605634905\n",
            "12 \t [0.91263764 1.03896646]\t 3.3586475101968944\t 1.1357997910377768\t 1.037536754930038\t 1.8017657123639397\n",
            "\u001b[1m\u001b[92m13\u001b[0m\t \u001b[1m\u001b[92m[0.21602832 0.67680808]\u001b[0m\t \u001b[1m\u001b[92m-0.664624334432506\u001b[0m\t \u001b[1m\u001b[92m-0.664624334432506\u001b[0m\t \u001b[1m\u001b[92m1.007614239471389\u001b[0m\t \u001b[1m\u001b[92m1.6381338102830576\u001b[0m\n",
            "\u001b[1m\u001b[92m14\u001b[0m\t \u001b[1m\u001b[92m[ 0.26442507 -0.54810152]\u001b[0m\t \u001b[1m\u001b[92m-0.7160657936144252\u001b[0m\t \u001b[1m\u001b[92m-0.7160657936144252\u001b[0m\t \u001b[1m\u001b[92m1.1042636415354863\u001b[0m\t \u001b[1m\u001b[92m2.071241381946232\u001b[0m\n",
            "15 \t [0.97491353 2.        ]\t 52.14078494597584\t -0.7160657936144252\t 0.9942615930595082\t 1.8879250320806875\n",
            "16 \t [-1.68258313 -0.78116214]\t 2.4194656570308073\t -0.7160657936144252\t 1.0888057146803465\t 1.7063874323664854\n",
            "17 \t [-0.11974987 -0.21590031]\t -0.09497740688019023\t -0.7160657936144252\t 0.9345294155244435\t 1.9697699332745962\n",
            "18 \t [0.51152353 0.00835744]\t 0.9128178402768445\t -0.7160657936144252\t 0.7638763085199125\t 0.8134905375699124\n",
            "19 \t [-0.80647643 -0.34043826]\t 1.669667772954971\t -0.7160657936144252\t 1.147333984398068\t 1.234615426356896\n",
            "20 \t [-1.42560741 -0.66931451]\t 2.218633920921807\t -0.7160657936144252\t 1.1627550576294086\t 1.6333910626773156\n"
          ]
        }
      ],
      "source": [
        "### EXACT STP CBM GRADIENTS\n",
        "\n",
        "np.random.seed(run_num_9)\n",
        "surrogate_exact_9 = dtStudentProcess(cov_func, optimize=opt, nu = df)\n",
        "\n",
        "exact_9 = dGPGO(surrogate_exact_9, Acquisition_grad(util), objfunc, param)\n",
        "exact_9.run(init_evals=n_init, max_iter=iters)\n"
      ]
    },
    {
      "cell_type": "code",
      "execution_count": 43,
      "metadata": {
        "colab": {
          "base_uri": "https://localhost:8080/"
        },
        "id": "6amuYlUdIv7r",
        "outputId": "a8a04e47-e129-4264-9d14-7a5bde498924"
      },
      "outputs": [
        {
          "output_type": "stream",
          "name": "stdout",
          "text": [
            "Evaluation \t Proposed point \t  Current eval. \t  Best eval. \t        Exact CBM: StdDev. x \t Approx CBM: StdDev. x \n",
            "init\t [ 1.62792386 -1.9169922 ]\t 38.25414770674631\t 0.7775687473184012\t    \t    \n",
            "init\t [0.80188941 0.99521553]\t 2.552651714051803\t 0.7775687473184012\t    \t    \n",
            "init\t [-0.00895793 -1.10081342]\t 1.0367630165263393\t 0.7775687473184012\t    \t    \n",
            "init\t [-1.81162281  1.04212285]\t 0.7775687473184012\t 0.7775687473184012\t    \t    \n",
            "init\t [-1.98533498 -1.64664074]\t 25.383481436170044\t 0.7775687473184012\t    \t    \n",
            "1  \t [3. 2.]\t 162.89999999999998\t 0.7775687473184012\t 1.697205033951839\t 2.1522489959392863\n",
            "2  \t [-2.61449364  1.91527658]\t 69.82856476776328\t 0.7775687473184012\t 1.4047530890167108\t 2.002267523353023\n",
            "\u001b[1m\u001b[92m3\u001b[0m\t \u001b[1m\u001b[92m[-0.66549816  0.53935767]\u001b[0m\t \u001b[1m\u001b[92m0.20453297654227343\u001b[0m\t \u001b[1m\u001b[92m0.20453297654227343\u001b[0m\t \u001b[1m\u001b[92m1.3871028549710775\u001b[0m\t \u001b[1m\u001b[92m1.956446413861522\u001b[0m\n",
            "4  \t [-0.20105812  1.70768871]\t 22.167047072567804\t 0.20453297654227343\t 1.762428158259437\t 1.9915707201756028\n",
            "5  \t [-2.96886181 -0.29545938]\t 100.92211684162186\t 0.20453297654227343\t 1.6954213326836742\t 1.8880677224080462\n",
            "6  \t [ 1.29272201 -0.16544879]\t 2.0551674137032983\t 0.20453297654227343\t 1.406002819409152\t 1.6052017007448096\n",
            "7  \t [-0.52556739 -2.        ]\t 50.002818163275315\t 0.20453297654227343\t 1.3376364833715573\t 1.9703272832334597\n",
            "\u001b[1m\u001b[92m8\u001b[0m\t \u001b[1m\u001b[92m[0.07507808 0.00644061]\u001b[0m\t \u001b[1m\u001b[92m0.022797841741796523\u001b[0m\t \u001b[1m\u001b[92m0.022797841741796523\u001b[0m\t \u001b[1m\u001b[92m1.4267976183220332\u001b[0m\t \u001b[1m\u001b[92m1.8871962087442224\u001b[0m\n",
            "9  \t [ 2.83679958 -0.64823735]\t 67.09817675477852\t 0.022797841741796523\t 1.6614301902112427\t 1.8668654826261513\n",
            "10 \t [ 0.46788009 -0.09921107]\t 0.6931043774851052\t 0.022797841741796523\t 1.6125118233672509\t 1.6640948740928783\n",
            "11 \t [-0.47738112 -0.25982963]\t 0.6786756403774894\t 0.022797841741796523\t 1.4013091043359975\t 1.1134963976234895\n",
            "12 \t [-3. -2.]\t 162.89999999999998\t 0.022797841741796523\t 1.2456531913026547\t 1.546481322820705\n",
            "13 \t [-1.41163919 -0.97867183]\t 3.489420723782788\t 0.022797841741796523\t 1.2867677228295469\t 1.8037569109695766\n",
            "14 \t [-1.29067763  2.        ]\t 47.79536942206745\t 0.022797841741796523\t 1.3088918219757513\t 1.2387826496830174\n",
            "15 \t [1.21908037 1.9762083 ]\t 50.19670964005989\t 0.022797841741796523\t 1.1744770577640997\t 1.6745975836979368\n",
            "16 \t [-1.69169549  0.30975377]\t 1.190060167282012\t 0.022797841741796523\t 1.1378446256351988\t 1.691211034233337\n",
            "17 \t [1.60599238 0.61011949]\t 2.111337709722946\t 0.022797841741796523\t 1.1414608254112142\t 1.6421490959608933\n",
            "18 \t [ 0.86295407 -1.18952457]\t 3.2740019260006634\t 0.022797841741796523\t 0.9393123092031471\t 1.6848167589430585\n",
            "19 \t [-1.32640318  0.75157247]\t 0.37243101709685955\t 0.022797841741796523\t 0.9883858700261963\t 1.5454320516190025\n",
            "20 \t [-2.098571    0.69181793]\t 2.908225330178814\t 0.022797841741796523\t 0.9208519294525354\t 1.541549025837382\n"
          ]
        }
      ],
      "source": [
        "### EXACT STP CBM GRADIENTS\n",
        "\n",
        "np.random.seed(run_num_10)\n",
        "surrogate_exact_10 = dtStudentProcess(cov_func, optimize=opt, nu = df)\n",
        "\n",
        "exact_10 = dGPGO(surrogate_exact_10, Acquisition_grad(util), objfunc, param)\n",
        "exact_10.run(init_evals=n_init, max_iter=iters)\n"
      ]
    },
    {
      "cell_type": "code",
      "execution_count": 44,
      "metadata": {
        "id": "VwbLIP9cIv-F",
        "colab": {
          "base_uri": "https://localhost:8080/"
        },
        "outputId": "6a92c603-12ea-40cd-ded6-03546621285a"
      },
      "outputs": [
        {
          "output_type": "stream",
          "name": "stdout",
          "text": [
            "Evaluation \t Proposed point \t  Current eval. \t  Best eval. \t        Exact CBM: StdDev. x \t Approx CBM: StdDev. x \n",
            "init\t [-1.91838187 -1.92209903]\t 46.39910375151002\t -0.6254688257880329\t    \t    \n",
            "init\t [-0.22068884  0.89973572]\t -0.6254688257880329\t -0.6254688257880329\t    \t    \n",
            "init\t [-0.47877837 -0.05829161]\t 0.8249470187639529\t -0.6254688257880329\t    \t    \n",
            "init\t [-2.92331511 -0.05051357]\t 88.99028404075307\t -0.6254688257880329\t    \t    \n",
            "init\t [2.65083991 1.40318036]\t 51.423425402262914\t -0.6254688257880329\t    \t    \n",
            "1  \t [ 1.53288764 -1.99098116]\t 46.07419650466159\t -0.6254688257880329\t 1.4984106053354673\t 2.2477894059843373\n",
            "2  \t [0.37866484 1.66691415]\t 20.930679556934187\t -0.6254688257880329\t 0.8856934262211057\t 1.605535207793011\n",
            "3  \t [-1.1305015   1.71048727]\t 22.98155958749692\t -0.6254688257880329\t 1.6748744238866555\t 2.1095498091637084\n",
            "4  \t [ 0.5284885  -0.06195834]\t 0.9126043716947866\t -0.6254688257880329\t 1.3809903186855024\t 1.9158208466634614\n",
            "5  \t [-0.37836363 -0.65131261]\t -0.20001367773078393\t -0.6254688257880329\t 1.4675147094839573\t 1.6954761496501665\n",
            "6  \t [ 2.47823549 -0.36621929]\t 21.203543315841266\t -0.6254688257880329\t 1.5083878303375071\t 1.4400006962282894\n",
            "7  \t [ 0.05491523 -0.02008862]\t 0.009326909645551437\t -0.6254688257880329\t 1.7883631096200892\t 2.17974554101701\n",
            "8  \t [-0.25006962 -1.98848967]\t 47.46225300186875\t -0.6254688257880329\t 1.6413217536631495\t 2.2981588041947085\n",
            "9  \t [ 0.68015293 -0.78015646]\t -0.049392133927675386\t -0.6254688257880329\t 2.2236462301049045\t 2.300638373930971\n",
            "10 \t [ 1.40889137 -0.50639271]\t 0.79649908697167\t -0.6254688257880329\t 1.9805052439992865\t 2.2355644560390795\n",
            "11 \t [-2.90166254  1.6306935 ]\t 96.68229595273566\t -0.6254688257880329\t 2.0603519253727915\t 2.1768105986495905\n",
            "12 \t [-3. -2.]\t 162.89999999999998\t -0.6254688257880329\t 2.270813727227099\t 2.0694840418910405\n",
            "13 \t [-1.30802494 -1.00981665]\t 3.767228037802956\t -0.6254688257880329\t 1.0949828941883295\t 1.932448630437106\n",
            "14 \t [-0.37456433  1.80730886]\t 29.454933031184417\t -0.6254688257880329\t 1.4301607246238988\t 1.8912544443898802\n",
            "15 \t [1.55079925 2.        ]\t 53.21201291945844\t -0.6254688257880329\t 1.4768767693817426\t 2.0707867890176246\n",
            "16 \t [-1.19466532  0.73306125]\t 0.5301584055586587\t -0.6254688257880329\t 1.3799906748122344\t 1.8004020665061848\n",
            "17 \t [0.68527906 0.79348501]\t 1.060797684848916\t -0.6254688257880329\t 1.3705833911864127\t 1.863081185613314\n",
            "18 \t [ 2.97888393 -1.50291741]\t 109.94622669415692\t -0.6254688257880329\t 1.6635904210392785\t 1.934656225457643\n",
            "19 \t [1.81491716 0.36218895]\t 2.5052394867930188\t -0.6254688257880329\t 1.3169256027925087\t 1.3722310094839372\n",
            "20 \t [-1.2120963 -0.0705818]\t 2.4666853987498647\t -0.6254688257880329\t 1.6023993041289277\t 1.3607077859458983\n"
          ]
        }
      ],
      "source": [
        "### EXACT STP CBM GRADIENTS\n",
        "\n",
        "np.random.seed(run_num_11)\n",
        "surrogate_exact_11 = dtStudentProcess(cov_func, optimize=opt, nu = df)\n",
        "\n",
        "exact_11 = dGPGO(surrogate_exact_11, Acquisition_grad(util), objfunc, param)\n",
        "exact_11.run(init_evals=n_init, max_iter=iters)\n"
      ]
    },
    {
      "cell_type": "code",
      "execution_count": 45,
      "metadata": {
        "id": "MlUNFjc-JTBY",
        "colab": {
          "base_uri": "https://localhost:8080/"
        },
        "outputId": "2ad06d5e-ecaa-45ec-f80c-3a3a9a1ec9a2"
      },
      "outputs": [
        {
          "output_type": "stream",
          "name": "stdout",
          "text": [
            "Evaluation \t Proposed point \t  Current eval. \t  Best eval. \t        Exact CBM: StdDev. x \t Approx CBM: StdDev. x \n",
            "init\t [-2.07502295  0.96019879]\t 2.6185857163917037\t 1.9967735906956543\t    \t    \n",
            "init\t [-1.42010991  0.13495757]\t 1.9967735906956543\t 1.9967735906956543\t    \t    \n",
            "init\t [-2.91255023  1.67498803]\t 101.67816714332157\t 1.9967735906956543\t    \t    \n",
            "init\t [ 2.40428912 -1.86631429]\t 47.44624883788006\t 1.9967735906956543\t    \t    \n",
            "init\t [ 2.74169602 -1.45116271]\t 58.32400185681089\t 1.9967735906956543\t    \t    \n",
            "1  \t [1.37199442 1.99168793]\t 52.11976381809287\t 1.9967735906956543\t 2.3604616109071137\t 1.8548468386850658\n",
            "2  \t [-3. -2.]\t 162.89999999999998\t 1.9967735906956543\t 2.200246123161852\t 2.0162816894862843\n",
            "3  \t [-0.03248398 -2.        ]\t 48.0691864685044\t 1.9967735906956543\t 1.5248315235945766\t 1.68407765000449\n",
            "\u001b[1m\u001b[92m4\u001b[0m\t \u001b[1m\u001b[92m[-0.41811748  1.06640352]\u001b[0m\t \u001b[1m\u001b[92m0.8151854080886622\u001b[0m\t \u001b[1m\u001b[92m0.8151854080886622\u001b[0m\t \u001b[1m\u001b[92m1.4544434442036318\u001b[0m\t \u001b[1m\u001b[92m1.293543979001916\u001b[0m\n",
            "\u001b[1m\u001b[92m5\u001b[0m\t \u001b[1m\u001b[92m[0.39242466 0.02360797]\u001b[0m\t \u001b[1m\u001b[92m0.574440316848584\u001b[0m\t \u001b[1m\u001b[92m0.574440316848584\u001b[0m\t \u001b[1m\u001b[92m1.5218221660894908\u001b[0m\t \u001b[1m\u001b[92m1.194224259235239\u001b[0m\n",
            "6  \t [3. 2.]\t 162.89999999999998\t 0.574440316848584\t 1.6433975175682562\t 1.5865518990351761\n",
            "7  \t [-0.71136071 -0.29710106]\t 1.4190172786052253\t 0.574440316848584\t 0.9804098088369193\t 1.157643959930432\n",
            "8  \t [-1.21572175  1.7077714 ]\t 22.682194940151316\t 0.574440316848584\t 1.291449077239296\t 1.57963931973191\n",
            "9  \t [1.69788372 0.21330498]\t 2.253399128729421\t 0.574440316848584\t 1.1652964239249204\t 1.3683785009068687\n",
            "10 \t [-2.65184039 -0.02063245]\t 40.25273048541499\t 0.574440316848584\t 1.2078311676879219\t 1.5162266042511665\n",
            "11 \t [0.33316528 1.75511138]\t 26.63750676660218\t 0.574440316848584\t 1.0538598447220506\t 1.4969537079755981\n",
            "\u001b[1m\u001b[92m12\u001b[0m\t \u001b[1m\u001b[92m[ 1.25548068 -0.86680438]\u001b[0m\t \u001b[1m\u001b[92m0.5573001119327596\u001b[0m\t \u001b[1m\u001b[92m0.5573001119327596\u001b[0m\t \u001b[1m\u001b[92m1.1262979882380213\u001b[0m\t \u001b[1m\u001b[92m1.3259123977395908\u001b[0m\n",
            "13 \t [2.74897889 0.03535665]\t 54.24517849996497\t 0.5573001119327596\t 1.1917064758150546\t 1.6261547643697096\n",
            "\u001b[1m\u001b[92m14\u001b[0m\t \u001b[1m\u001b[92m[-1.13930749  0.72895065]\u001b[0m\t \u001b[1m\u001b[92m0.5563122888743021\u001b[0m\t \u001b[1m\u001b[92m0.5563122888743021\u001b[0m\t \u001b[1m\u001b[92m1.1608053810039247\u001b[0m\t \u001b[1m\u001b[92m1.042698973262163\u001b[0m\n",
            "15 \t [0.78765043 0.83025715]\t 1.550233620582517\t 0.5563122888743021\t 1.0937194616809374\t 1.2126385025939503\n",
            "16 \t [-1.13868648 -1.17657192]\t 5.850388111702668\t 0.5563122888743021\t 1.0421378911631125\t 1.2469007260781342\n",
            "17 \t [1.06117613 0.07620549]\t 2.3751608096512298\t 0.5563122888743021\t 0.9702095125756296\t 1.1008892071266747\n",
            "\u001b[1m\u001b[92m18\u001b[0m\t \u001b[1m\u001b[92m[ 1.81876029 -0.60797018]\u001b[0m\t \u001b[1m\u001b[92m0.2804361944546313\u001b[0m\t \u001b[1m\u001b[92m0.2804361944546313\u001b[0m\t \u001b[1m\u001b[92m1.2004231973307944\u001b[0m\t \u001b[1m\u001b[92m1.5237535991908564\u001b[0m\n",
            "19 \t [ 0.98900305 -0.30309448]\t 1.5818364318920017\t 0.2804361944546313\t 0.9207605566322034\t 1.0030964694533555\n",
            "\u001b[1m\u001b[92m20\u001b[0m\t \u001b[1m\u001b[92m[-0.17260202 -0.91505355]\u001b[0m\t \u001b[1m\u001b[92m-0.2696018514473106\u001b[0m\t \u001b[1m\u001b[92m-0.2696018514473106\u001b[0m\t \u001b[1m\u001b[92m1.1062861821959917\u001b[0m\t \u001b[1m\u001b[92m0.9839701951818727\u001b[0m\n"
          ]
        }
      ],
      "source": [
        "### EXACT STP CBM GRADIENTS\n",
        "\n",
        "np.random.seed(run_num_12)\n",
        "surrogate_exact_12 = dtStudentProcess(cov_func, optimize=opt, nu = df)\n",
        "\n",
        "exact_12 = dGPGO(surrogate_exact_12, Acquisition_grad(util), objfunc, param)\n",
        "exact_12.run(init_evals=n_init, max_iter=iters)\n"
      ]
    },
    {
      "cell_type": "code",
      "execution_count": 46,
      "metadata": {
        "id": "9BsKdU9eJTFL",
        "colab": {
          "base_uri": "https://localhost:8080/"
        },
        "outputId": "927d9b67-233c-45f4-bd8f-ad1cacf9a518"
      },
      "outputs": [
        {
          "output_type": "stream",
          "name": "stdout",
          "text": [
            "Evaluation \t Proposed point \t  Current eval. \t  Best eval. \t        Exact CBM: StdDev. x \t Approx CBM: StdDev. x \n",
            "init\t [ 1.66621446 -1.04983512]\t 0.752930921147986\t 0.752930921147986\t    \t    \n",
            "init\t [1.9456712  1.86299679]\t 41.05776363102951\t 0.752930921147986\t    \t    \n",
            "init\t [ 2.83560668 -0.18620301]\t 69.0134544723513\t 0.752930921147986\t    \t    \n",
            "init\t [0.65425478 1.10210606]\t 3.117452174069064\t 0.752930921147986\t    \t    \n",
            "init\t [0.84968007 0.88807292]\t 2.006601529383926\t 0.752930921147986\t    \t    \n",
            "1  \t [ 0.13675952 -1.49937764]\t 11.092906130192677\t 0.752930921147986\t 1.0664688396990043\t 0.5432620774572706\n",
            "2  \t [-1.92461341  1.34390885]\t 6.181244555687515\t 0.752930921147986\t 1.0269089229082045\t 1.6564662675620774\n",
            "3  \t [-3. -2.]\t 162.89999999999998\t 0.752930921147986\t 0.5\t 1.8402184236921555\n",
            "4  \t [-0.52567592  2.        ]\t 47.90066423713532\t 0.752930921147986\t 1.3304958607428001\t 1.9816379752883644\n",
            "\u001b[1m\u001b[92m5\u001b[0m\t \u001b[1m\u001b[92m[-0.26125352 -0.06664267]\u001b[0m\t \u001b[1m\u001b[92m0.2630612368791394\u001b[0m\t \u001b[1m\u001b[92m0.2630612368791394\u001b[0m\t \u001b[1m\u001b[92m1.7712642822671822\u001b[0m\t \u001b[1m\u001b[92m2.2986302803782532\u001b[0m\n",
            "6  \t [-1.63068409  0.1021224 ]\t 1.8472126507281528\t 0.2630612368791394\t 1.5507819043279416\t 1.5899468345003152\n",
            "\u001b[1m\u001b[92m7\u001b[0m\t \u001b[1m\u001b[92m[ 0.37071115 -0.24693412]\u001b[0m\t \u001b[1m\u001b[92m0.1903367894848631\u001b[0m\t \u001b[1m\u001b[92m0.1903367894848631\u001b[0m\t \u001b[1m\u001b[92m1.662464668524813\u001b[0m\t \u001b[1m\u001b[92m2.0096635273689407\u001b[0m\n",
            "8  \t [-0.91534559 -2.        ]\t 51.90397045522363\t 0.1903367894848631\t 1.7389420756735199\t 2.179805205212486\n",
            "9  \t [ 1.21597094 -1.75620743]\t 25.9789879385469\t 0.1903367894848631\t 1.6179249051843565\t 2.1374438190533582\n",
            "10 \t [-2.52537065  0.6181514 ]\t 24.05518093216903\t 0.1903367894848631\t 1.49028891169329\t 1.8230250575871336\n",
            "11 \t [ 2.69659614 -1.57666994]\t 56.73540221539666\t 0.1903367894848631\t 1.4737695146055718\t 2.2332392991017205\n",
            "12 \t [ 0.99017207 -0.35215214]\t 1.4340418995164002\t 0.1903367894848631\t 1.5616755649260485\t 1.7623319331383813\n",
            "13 \t [-2.77378768  1.55305952]\t 67.59504656214753\t 0.1903367894848631\t 1.752794108981121\t 1.9603250427913086\n",
            "14 \t [-0.93929563  0.73823785]\t 0.43804041355926193\t 0.1903367894848631\t 1.4872021501920194\t 1.257830341888542\n",
            "15 \t [3. 2.]\t 162.89999999999998\t 0.1903367894848631\t 1.4971494093518363\t 1.6493610871684796\n",
            "16 \t [1.22873864 1.57387236]\t 18.968620024018904\t 0.1903367894848631\t 1.007553698920662\t 1.2071181049297057\n",
            "17 \t [-0.48625048 -0.90620744]\t 0.6861186100100108\t 0.1903367894848631\t 1.3124775452201807\t 1.3163451173590452\n",
            "18 \t [-0.43324077  0.10755936]\t 0.5866708790668553\t 0.1903367894848631\t 0.7827840807673176\t 0.6929984408242118\n",
            "19 \t [-1.19887507  0.01325701]\t 2.384097741847689\t 0.1903367894848631\t 1.0262053340840704\t 1.167233926601892\n",
            "20 \t [ 0.55631475 -0.01004679]\t 1.040691076908926\t 0.1903367894848631\t 0.8842275120700185\t 0.959476781662595\n"
          ]
        }
      ],
      "source": [
        "### EXACT STP CBM GRADIENTS\n",
        "\n",
        "np.random.seed(run_num_13)\n",
        "surrogate_exact_13 = dtStudentProcess(cov_func, optimize=opt, nu = df)\n",
        "\n",
        "exact_13 = dGPGO(surrogate_exact_13, Acquisition_grad(util), objfunc, param)\n",
        "exact_13.run(init_evals=n_init, max_iter=iters)\n"
      ]
    },
    {
      "cell_type": "code",
      "execution_count": 47,
      "metadata": {
        "id": "k6GjFBr1JTJf",
        "colab": {
          "base_uri": "https://localhost:8080/"
        },
        "outputId": "52d847d9-65d3-4918-9859-3979379e031f"
      },
      "outputs": [
        {
          "output_type": "stream",
          "name": "stdout",
          "text": [
            "Evaluation \t Proposed point \t  Current eval. \t  Best eval. \t        Exact CBM: StdDev. x \t Approx CBM: StdDev. x \n",
            "init\t [0.08366006 1.09266021]\t 1.0453292732107575\t -1.029299726828387\t    \t    \n",
            "init\t [ 2.22256611 -1.96781221]\t 48.81113313056442\t -1.029299726828387\t    \t    \n",
            "init\t [-1.14158445  1.83041496]\t 31.794043287944216\t -1.029299726828387\t    \t    \n",
            "init\t [ 0.07870027 -0.7268623 ]\t -1.029299726828387\t -1.029299726828387\t    \t    \n",
            "init\t [ 0.23519962 -1.11498023]\t 1.161934062902255\t -1.029299726828387\t    \t    \n",
            "1  \t [2.55903938 1.63587217]\t 51.87718691569157\t -1.029299726828387\t 2.288422143027363\t 1.906762900546448\n",
            "2  \t [-1.96678135 -2.        ]\t 55.27745670219976\t -1.029299726828387\t 1.6531096901332543\t 1.5872816415505404\n",
            "3  \t [-2.62038556  0.28589381]\t 35.318125044471785\t -1.029299726828387\t 1.322232638996667\t 1.6295264173253645\n",
            "4  \t [0.77226543 0.12066405]\t 1.7451386105129596\t -1.029299726828387\t 1.3605969781944172\t 1.7790128173577993\n",
            "5  \t [-0.25118283 -0.00910103]\t 0.24605024233700118\t -1.029299726828387\t 1.5387143174927507\t 1.6460837560635846\n",
            "6  \t [0.67011101 2.        ]\t 50.74314581055985\t -1.029299726828387\t 1.4558989851887936\t 1.5723660676886968\n",
            "7  \t [ 0.16318457 -0.12594092]\t 0.022044185354295955\t -1.029299726828387\t 1.5377930455451194\t 1.6179488044622659\n",
            "8  \t [-2.74582607  1.67845244]\t 69.51481778445536\t -1.029299726828387\t 1.7353166852990713\t 1.9238197659624492\n",
            "9  \t [ 2.9943855  -0.00991487]\t 107.28918297583017\t -1.029299726828387\t 1.795698459251315\t 2.0495846701793736\n",
            "10 \t [-0.52468212 -1.49425824]\t 12.743470882604928\t -1.029299726828387\t 1.8234554163368202\t 1.7056893866819252\n",
            "11 \t [-0.96524223  0.81446484]\t 0.49402956971674783\t -1.029299726828387\t 1.5165623876334264\t 1.7594473659804282\n",
            "12 \t [ 1.00431063 -0.71731871]\t 0.5205988664131513\t -1.029299726828387\t 2.0032794307944446\t 1.842440272734612\n",
            "13 \t [-1.21532401 -0.58371525]\t 2.211707451355359\t -1.029299726828387\t 2.037541176485375\t 1.9752096665631245\n",
            "14 \t [-0.29335552  0.62896315]\t -0.812017965433773\t -1.029299726828387\t 1.7638352959752295\t 1.6188872673613584\n",
            "15 \t [-1.55793318  0.49593398]\t 0.5890705987012991\t -1.029299726828387\t 2.2071893839165955\t 2.0406947563238638\n",
            "16 \t [-1.20527224  0.06769524]\t 2.30114940516221\t -1.029299726828387\t 2.1572164780816387\t 1.9058121124052159\n",
            "17 \t [-3. -2.]\t 162.89999999999998\t -1.029299726828387\t 2.03819039929701\t 1.9469614324106401\n",
            "18 \t [0.78114565 0.88818868]\t 1.7622008524507615\t -1.029299726828387\t 1.5386994240414607\t 1.59456073806908\n",
            "19 \t [ 0.82105831 -2.        ]\t 48.20218643637499\t -1.029299726828387\t 1.1219217745993542\t 1.4092593860275973\n",
            "20 \t [-0.33558815 -0.05990637]\t 0.43011946221024083\t -1.029299726828387\t 1.3471219622321746\t 1.2895750229912328\n"
          ]
        }
      ],
      "source": [
        "### EXACT STP CBM GRADIENTS\n",
        "\n",
        "np.random.seed(run_num_14)\n",
        "surrogate_exact_14 = dtStudentProcess(cov_func, optimize=opt, nu = df)\n",
        "\n",
        "exact_14 = dGPGO(surrogate_exact_14, Acquisition_grad(util), objfunc, param)\n",
        "exact_14.run(init_evals=n_init, max_iter=iters)\n"
      ]
    },
    {
      "cell_type": "code",
      "execution_count": 48,
      "metadata": {
        "id": "dPS8WB3aJTN6",
        "colab": {
          "base_uri": "https://localhost:8080/"
        },
        "outputId": "3442d0ad-7fbc-43f0-8acb-a5b66fbc0c11"
      },
      "outputs": [
        {
          "output_type": "stream",
          "name": "stdout",
          "text": [
            "Evaluation \t Proposed point \t  Current eval. \t  Best eval. \t        Exact CBM: StdDev. x \t Approx CBM: StdDev. x \n",
            "init\t [ 2.09290618 -1.2844163 ]\t 6.84252100896936\t 2.1163170846379233\t    \t    \n",
            "init\t [-2.67382071 -0.55384622]\t 43.69785230561242\t 2.1163170846379233\t    \t    \n",
            "init\t [-1.34759443  0.1200009 ]\t 2.1163170846379233\t 2.1163170846379233\t    \t    \n",
            "init\t [-1.16448651 -0.78210256]\t 2.3544087277459513\t 2.1163170846379233\t    \t    \n",
            "init\t [-2.32955234 -1.00040394]\t 15.469119251600274\t 2.1163170846379233\t    \t    \n",
            "\u001b[1m\u001b[92m1\u001b[0m\t \u001b[1m\u001b[92m[0.22647132 0.66251015]\u001b[0m\t \u001b[1m\u001b[92m-0.6353594740740651\u001b[0m\t \u001b[1m\u001b[92m-0.6353594740740651\u001b[0m\t \u001b[1m\u001b[92m1.8683505135819014\u001b[0m\t \u001b[1m\u001b[92m1.7619308390029416\u001b[0m\n",
            "2  \t [-0.97929904  2.        ]\t 48.24008691042726\t -0.6353594740740651\t 1.5964569803063229\t 2.0412656855722835\n",
            "3  \t [2.30745827 1.31982539]\t 20.293158463457104\t -0.6353594740740651\t 2.0752483586989703\t 1.9757702068534166\n",
            "\u001b[1m\u001b[92m4\u001b[0m\t \u001b[1m\u001b[92m[ 0.21144486 -0.70853983]\u001b[0m\t \u001b[1m\u001b[92m-0.9751328045320937\u001b[0m\t \u001b[1m\u001b[92m-0.9751328045320937\u001b[0m\t \u001b[1m\u001b[92m1.9547257749738112\u001b[0m\t \u001b[1m\u001b[92m2.0037046444846127\u001b[0m\n",
            "5  \t [-0.87923333 -2.        ]\t 51.74968828903921\t -0.9751328045320937\t 1.8025808033176962\t 2.259269740193682\n",
            "6  \t [-0.0793207   0.06622603]\t 0.0023643435814000857\t -0.9751328045320937\t 1.9587896851251103\t 2.3243026067682964\n",
            "7  \t [ 1.05711837 -0.0093129 ]\t 2.302495059565295\t -0.9751328045320937\t 1.449840495522042\t 1.9179646088981974\n",
            "8  \t [ 2.62053687 -1.98445173]\t 77.46557476784041\t -0.9751328045320937\t 2.0555701401313873\t 2.327047557884729\n",
            "9  \t [ 1.05633717 -0.14340218]\t 2.079721018913876\t -0.9751328045320937\t 1.8416775990729495\t 1.7829993002159943\n",
            "10 \t [1.29734505 2.        ]\t 52.96746492197077\t -0.9751328045320937\t 2.028361241834499\t 2.0401157893621575\n",
            "11 \t [-2.8950432   1.38253471]\t 85.22442086041285\t -0.9751328045320937\t 2.163680636179147\t 1.8973329985557246\n",
            "12 \t [ 2.6175317  -0.04564335]\t 35.907292264410735\t -0.9751328045320937\t 2.0163851308678633\t 1.9657298680183826\n",
            "13 \t [-3. -2.]\t 162.89999999999998\t -0.9751328045320937\t 2.4423528640404992\t 2.010900634302096\n",
            "14 \t [ 0.68751266 -1.97623109]\t 45.48745956895972\t -0.9751328045320937\t 1.4383333561301963\t 1.460371210024418\n",
            "15 \t [-0.47968498 -0.04233486]\t 0.8264184536898521\t -0.9751328045320937\t 1.4089000765747925\t 1.2422234990327121\n",
            "16 \t [3. 2.]\t 162.89999999999998\t -0.9751328045320937\t 1.6540823889933207\t 1.8345982590361998\n",
            "17 \t [1.67958505 0.8925816 ]\t 2.906620597792842\t -0.9751328045320937\t 1.204380755979821\t 1.2803622972046926\n",
            "18 \t [-0.67550419  0.79778448]\t -0.04477946370602426\t -0.9751328045320937\t 0.8788404252460716\t 1.0446149281910002\n",
            "19 \t [ 1.28721202 -0.91948083]\t 0.6724309648258742\t -0.9751328045320937\t 1.1023169923019105\t 1.2041798953173781\n",
            "20 \t [0.88095441 0.56756062]\t 1.6218546159740135\t -0.9751328045320937\t 0.965755006963644\t 0.8604643034273405\n"
          ]
        }
      ],
      "source": [
        "### EXACT STP CBM GRADIENTS\n",
        "\n",
        "np.random.seed(run_num_15)\n",
        "surrogate_exact_15 = dtStudentProcess(cov_func, optimize=opt, nu = df)\n",
        "\n",
        "exact_15 = dGPGO(surrogate_exact_15, Acquisition_grad(util), objfunc, param)\n",
        "exact_15.run(init_evals=n_init, max_iter=iters)\n"
      ]
    },
    {
      "cell_type": "code",
      "execution_count": 49,
      "metadata": {
        "id": "lu8ki9XIQPPN",
        "colab": {
          "base_uri": "https://localhost:8080/"
        },
        "outputId": "40681dc9-79af-4a1d-b3c9-579d0bcc8c9d"
      },
      "outputs": [
        {
          "output_type": "stream",
          "name": "stdout",
          "text": [
            "Evaluation \t Proposed point \t  Current eval. \t  Best eval. \t        Exact CBM: StdDev. x \t Approx CBM: StdDev. x \n",
            "init\t [-1.66025353  0.09265337]\t 1.8632773736203017\t 1.8632773736203017\t    \t    \n",
            "init\t [ 0.30420874 -1.8175922 ]\t 30.24114424375299\t 1.8632773736203017\t    \t    \n",
            "init\t [-0.83562699 -1.10767623]\t 3.922061281476444\t 1.8632773736203017\t    \t    \n",
            "init\t [ 1.13235697 -1.3450743 ]\t 6.7121671493737685\t 1.8632773736203017\t    \t    \n",
            "init\t [-2.5780508   1.76404344]\t 53.42443470756798\t 1.8632773736203017\t    \t    \n",
            "1  \t [3.         0.85782925]\t 110.69602827579803\t 1.8632773736203017\t 2.157780743893366\t 2.282893982767163\n",
            "2  \t [-3. -2.]\t 162.89999999999998\t 1.8632773736203017\t 1.9128212421959192\t 2.0629673625123957\n",
            "3  \t [0.25612525 1.88060269]\t 36.620500507609016\t 1.8632773736203017\t 1.3527790006047797\t 1.7423524981719383\n",
            "\u001b[1m\u001b[92m4\u001b[0m\t \u001b[1m\u001b[92m[-0.17775045  0.15490859]\u001b[0m\t \u001b[1m\u001b[92m0.003076668653640771\u001b[0m\t \u001b[1m\u001b[92m0.003076668653640771\u001b[0m\t \u001b[1m\u001b[92m1.213111845694912\u001b[0m\t \u001b[1m\u001b[92m1.4470928079405703\u001b[0m\n",
            "5  \t [ 0.9003624 -0.1037965]\t 1.9040696643851494\t 0.003076668653640771\t 1.4215615857772368\t 1.691966719290297\n",
            "6  \t [ 2.68268432 -1.59170878]\t 55.54104474368225\t 0.003076668653640771\t 1.2875720386771319\t 2.0121182784120273\n",
            "7  \t [-0.77845588 -0.02245615]\t 1.7424393523903716\t 0.003076668653640771\t 1.1284362548608213\t 1.2581948329068702\n",
            "\u001b[1m\u001b[92m8\u001b[0m\t \u001b[1m\u001b[92m[ 0.10553241 -0.36887718]\u001b[0m\t \u001b[1m\u001b[92m-0.46486105347311646\u001b[0m\t \u001b[1m\u001b[92m-0.46486105347311646\u001b[0m\t \u001b[1m\u001b[92m1.3143281481301679\u001b[0m\t \u001b[1m\u001b[92m1.3464026713601192\u001b[0m\n",
            "9  \t [-1.08498629  1.39787227]\t 8.282743202564854\t -0.46486105347311646\t 1.5544044479782344\t 1.6731780650614525\n",
            "10 \t [-2.95108159  0.05272198]\t 95.56912833947615\t -0.46486105347311646\t 1.8016780847600606\t 1.954467406876096\n",
            "11 \t [1.79309665 1.96892997]\t 50.36957253555706\t -0.46486105347311646\t 1.5361430060598849\t 1.855818910004161\n",
            "12 \t [-1.46096649 -0.79076387]\t 2.429987519023377\t -0.46486105347311646\t 1.6518284848886997\t 1.7842087829086437\n",
            "13 \t [0.55782081 0.74780091]\t 0.48253078546041894\t -0.46486105347311646\t 1.3282505321960503\t 1.4603144628010682\n",
            "14 \t [-1.17826222 -1.84254391]\t 37.09199436851533\t -0.46486105347311646\t 1.2097875457277385\t 1.4216627407810667\n",
            "\u001b[1m\u001b[92m15\u001b[0m\t \u001b[1m\u001b[92m[-0.23263165  0.89524847]\u001b[0m\t \u001b[1m\u001b[92m-0.6343544384332274\u001b[0m\t \u001b[1m\u001b[92m-0.6343544384332274\u001b[0m\t \u001b[1m\u001b[92m1.366433421151653\u001b[0m\t \u001b[1m\u001b[92m1.5909001306619575\u001b[0m\n",
            "16 \t [ 0.83914473 -0.85493112]\t 0.38762473558169974\t -0.6343544384332274\t 1.3384533574338036\t 1.2813688423627025\n",
            "17 \t [-1.38616923  0.79901969]\t 0.26638006804829206\t -0.6343544384332274\t 1.5067560398541138\t 1.491743807471616\n",
            "18 \t [0.43913164 0.12923584]\t 0.6867059057005271\t -0.6343544384332274\t 1.5619587526013883\t 1.5395625337189425\n",
            "19 \t [ 1.95601361 -0.88584963]\t 0.8238238966748089\t -0.6343544384332274\t 1.339802435258075\t 1.5098369042410127\n",
            "20 \t [ 1.18204908 -0.45948167]\t 1.1891093878109458\t -0.6343544384332274\t 1.5096377502250142\t 1.5710461500556183\n"
          ]
        }
      ],
      "source": [
        "### EXACT STP CBM GRADIENTS\n",
        "\n",
        "np.random.seed(run_num_16)\n",
        "surrogate_exact_16 = dtStudentProcess(cov_func, optimize=opt, nu = df)\n",
        "\n",
        "exact_16 = dGPGO(surrogate_exact_16, Acquisition_grad(util), objfunc, param)\n",
        "exact_16.run(init_evals=n_init, max_iter=iters)\n"
      ]
    },
    {
      "cell_type": "code",
      "execution_count": 50,
      "metadata": {
        "id": "yU2SflSsJTUs",
        "colab": {
          "base_uri": "https://localhost:8080/"
        },
        "outputId": "8dc6a064-1e2f-4977-f961-372b179ce2e0"
      },
      "outputs": [
        {
          "output_type": "stream",
          "name": "stdout",
          "text": [
            "Evaluation \t Proposed point \t  Current eval. \t  Best eval. \t        Exact CBM: StdDev. x \t Approx CBM: StdDev. x \n",
            "init\t [-1.23200998  0.12234702]\t 2.189206652278967\t 1.7722768782964888\t    \t    \n",
            "init\t [-1.85087528 -1.72839857]\t 29.406067820453675\t 1.7722768782964888\t    \t    \n",
            "init\t [1.72191276 0.62533409]\t 2.2113401446731897\t 1.7722768782964888\t    \t    \n",
            "init\t [0.82512538 0.30241158]\t 1.7722768782964888\t 1.7722768782964888\t    \t    \n",
            "init\t [-2.7656225  -0.56874558]\t 57.5922315952177\t 1.7722768782964888\t    \t    \n",
            "1  \t [-0.61261161  2.        ]\t 47.99779394322794\t 1.7722768782964888\t 1.618776022462919\t 1.9616666123094577\n",
            "2  \t [ 2.16747806 -2.        ]\t 50.67077466992877\t 1.7722768782964888\t 1.8499853881982875\t 2.4515301344262523\n",
            "3  \t [3. 2.]\t 162.89999999999998\t 1.7722768782964888\t 1.894685989623806\t 2.1016485542665393\n",
            "\u001b[1m\u001b[92m4\u001b[0m\t \u001b[1m\u001b[92m[-0.01876883 -0.9279178 ]\u001b[0m\t \u001b[1m\u001b[92m-0.4598004200826976\u001b[0m\t \u001b[1m\u001b[92m-0.4598004200826976\u001b[0m\t \u001b[1m\u001b[92m1.6528761795185212\u001b[0m\t \u001b[1m\u001b[92m2.216691938754145\u001b[0m\n",
            "5  \t [-0.10498632 -1.97912189]\t 45.953078006726955\t -0.4598004200826976\t 1.5558720429671913\t 1.7739527750456923\n",
            "6  \t [-2.30770635  1.61473925]\t 25.127409560388312\t -0.4598004200826976\t 1.4106205663779232\t 1.5710972043726872\n",
            "7  \t [-0.00402658  0.12932573]\t -0.0662375442324877\t -0.4598004200826976\t 1.34279497646148\t 1.7012431943793158\n",
            "8  \t [ 2.73919378 -0.31746845]\t 51.35943200140743\t -0.4598004200826976\t 1.769231284280722\t 1.894338050272134\n",
            "9  \t [ 0.76739829 -0.29873664]\t 1.141024356967795\t -0.4598004200826976\t 1.7163753886267163\t 1.8536862962968643\n",
            "10 \t [0.71596677 1.09388655]\t 3.2676455981376114\t -0.4598004200826976\t 1.5501563003177945\t 1.5652834591234233\n",
            "11 \t [-3. -2.]\t 162.89999999999998\t -0.4598004200826976\t 1.0806240213387186\t 2.1722944242404187\n",
            "12 \t [-0.64406861 -0.27947963]\t 1.2136978339567506\t -0.4598004200826976\t 1.014828088840958\t 1.4274477297410748\n",
            "13 \t [-1.27506329 -1.08860362]\t 4.6501362428783946\t -0.4598004200826976\t 1.0527501738858946\t 1.8656040944978904\n",
            "14 \t [-2.21272009  0.28418315]\t 7.440853347062212\t -0.4598004200826976\t 1.0331964431494385\t 1.9743815098445447\n",
            "15 \t [1.26307797 1.99112794]\t 51.91856212347517\t -0.4598004200826976\t 1.0662424526137135\t 1.948071309318567\n",
            "16 \t [-2.8811529   0.65183465]\t 76.31083255265682\t -0.4598004200826976\t 1.0975718987248373\t 2.0995204022295306\n",
            "17 \t [-1.7674189  -0.44312817]\t 2.3159026947436425\t -0.4598004200826976\t 1.05394508231722\t 1.4835303395907469\n",
            "18 \t [-1.58966688  1.0549876 ]\t 0.902863618678739\t -0.4598004200826976\t 0.9993115748550606\t 1.5981966014296518\n",
            "19 \t [-0.84232149  0.20220894]\t 1.572749343646667\t -0.4598004200826976\t 0.8712916635075504\t 1.1879781745512084\n",
            "20 \t [ 0.5529112  -0.03280031]\t 1.01366844588843\t -0.4598004200826976\t 0.8489138006715073\t 1.1478793177336417\n"
          ]
        }
      ],
      "source": [
        "### EXACT STP CBM GRADIENTS\n",
        "\n",
        "np.random.seed(run_num_17)\n",
        "surrogate_exact_17 = dtStudentProcess(cov_func, optimize=opt, nu = df)\n",
        "\n",
        "exact_17 = dGPGO(surrogate_exact_17, Acquisition_grad(util), objfunc, param)\n",
        "exact_17.run(init_evals=n_init, max_iter=iters)\n"
      ]
    },
    {
      "cell_type": "code",
      "execution_count": 51,
      "metadata": {
        "id": "eVEhyZ9BQS-1",
        "colab": {
          "base_uri": "https://localhost:8080/"
        },
        "outputId": "bac9da7d-c000-4b81-9e29-5e867aa141ba"
      },
      "outputs": [
        {
          "output_type": "stream",
          "name": "stdout",
          "text": [
            "Evaluation \t Proposed point \t  Current eval. \t  Best eval. \t        Exact CBM: StdDev. x \t Approx CBM: StdDev. x \n",
            "init\t [0.90224545 0.02181349]\t 2.062169771852028\t 2.062169771852028\t    \t    \n",
            "init\t [ 2.27160883 -1.2726391 ]\t 11.64729291207819\t 2.062169771852028\t    \t    \n",
            "init\t [2.11339841 1.00054514]\t 7.792128760671214\t 2.062169771852028\t    \t    \n",
            "init\t [0.99661    1.95158179]\t 46.96206222999227\t 2.062169771852028\t    \t    \n",
            "init\t [-1.45818946 -1.8867763 ]\t 41.4190528039297\t 2.062169771852028\t    \t    \n",
            "1  \t [-2.69004771  1.38346314]\t 48.56515358746992\t 2.062169771852028\t 1.7927977318869188\t 2.358555534859865\n",
            "2  \t [ 0.68464728 -1.99991873]\t 48.06954728764297\t 2.062169771852028\t 2.017908915001327\t 2.0338061040801767\n",
            "3  \t [3. 2.]\t 162.89999999999998\t 2.062169771852028\t 1.8906525512833317\t 2.100068873132833\n",
            "\u001b[1m\u001b[92m4\u001b[0m\t \u001b[1m\u001b[92m[-0.7116824   0.40854004]\u001b[0m\t \u001b[1m\u001b[92m0.683615227245962\u001b[0m\t \u001b[1m\u001b[92m0.683615227245962\u001b[0m\t \u001b[1m\u001b[92m1.733266800011593\u001b[0m\t \u001b[1m\u001b[92m1.9683803581193824\u001b[0m\n",
            "5  \t [-3. -2.]\t 162.89999999999998\t 0.683615227245962\t 1.5668833058569194\t 2.03060230735855\n",
            "6  \t [-0.76789701  1.64814942]\t 19.080869225637823\t 0.683615227245962\t 1.0408190296197293\t 1.7679810768374322\n",
            "7  \t [ 1.73701826 -0.05974082]\t 1.9891661410748025\t 0.683615227245962\t 0.9205155298792891\t 1.4853311102830298\n",
            "\u001b[1m\u001b[92m8\u001b[0m\t \u001b[1m\u001b[92m[-0.40740606 -0.40462436]\u001b[0m\t \u001b[1m\u001b[92m0.2247705757507351\u001b[0m\t \u001b[1m\u001b[92m0.2247705757507351\u001b[0m\t \u001b[1m\u001b[92m0.7675280708408082\u001b[0m\t \u001b[1m\u001b[92m1.1348034808337666\u001b[0m\n",
            "9  \t [ 2.78807281 -0.31025252]\t 59.55613749882519\t 0.2247705757507351\t 1.3514242320630099\t 1.6719929160335545\n",
            "\u001b[1m\u001b[92m10\u001b[0m\t \u001b[1m\u001b[92m[0.3234052  0.36175207]\u001b[0m\t \u001b[1m\u001b[92m0.05780902167979063\u001b[0m\t \u001b[1m\u001b[92m0.05780902167979063\u001b[0m\t \u001b[1m\u001b[92m1.1400358531684627\u001b[0m\t \u001b[1m\u001b[92m1.5868720442775632\u001b[0m\n",
            "11 \t [-1.58980434  0.04336817]\t 2.000316854220168\t 0.05780902167979063\t 1.2059462198198738\t 1.8742359655501777\n",
            "12 \t [-0.62086751 -0.22724882]\t 1.1941462694695524\t 0.05780902167979063\t 0.8929171659444988\t 1.1442416869327183\n",
            "13 \t [ 2.87499839 -1.82536482]\t 103.65834348020223\t 0.05780902167979063\t 1.2508491660761838\t 1.6081926253217111\n",
            "14 \t [1.33837038 0.85953815]\t 2.7212747640172275\t 0.05780902167979063\t 1.061725292398628\t 1.4211361036336931\n",
            "15 \t [ 1.45184428 -1.13264425]\t 2.029980927177725\t 0.05780902167979063\t 1.2255625538999035\t 1.6392476865387362\n",
            "16 \t [-2.37140026 -0.4567367 ]\t 15.78605586985637\t 0.05780902167979063\t 1.0388468434663558\t 1.67865124930913\n",
            "17 \t [-2.80594472  0.18843542]\t 63.33734056037334\t 0.05780902167979063\t 1.2177722568516987\t 1.758573193743598\n",
            "18 \t [-1.65872659  1.62399462]\t 16.630502844474574\t 0.05780902167979063\t 1.256752074816258\t 1.7456946224933716\n",
            "19 \t [ 0.91592004 -0.23263067]\t 1.6566977343319313\t 0.05780902167979063\t 0.7651051011483405\t 1.4250209507889142\n",
            "20 \t [ 0.98523415 -0.03080049]\t 2.1747920087813366\t 0.05780902167979063\t 1.0957284504106093\t 1.188806439799859\n"
          ]
        }
      ],
      "source": [
        "### EXACT STP CBM GRADIENTS\n",
        "\n",
        "np.random.seed(run_num_18)\n",
        "surrogate_exact_18 = dtStudentProcess(cov_func, optimize=opt, nu = df)\n",
        "\n",
        "exact_18 = dGPGO(surrogate_exact_18, Acquisition_grad(util), objfunc, param)\n",
        "exact_18.run(init_evals=n_init, max_iter=iters)\n"
      ]
    },
    {
      "cell_type": "code",
      "execution_count": 52,
      "metadata": {
        "id": "B6gTz1ojQUxn",
        "colab": {
          "base_uri": "https://localhost:8080/"
        },
        "outputId": "13d6f13e-4adb-48f8-b1e0-c99d9610dc27"
      },
      "outputs": [
        {
          "output_type": "stream",
          "name": "stdout",
          "text": [
            "Evaluation \t Proposed point \t  Current eval. \t  Best eval. \t        Exact CBM: StdDev. x \t Approx CBM: StdDev. x \n",
            "init\t [-2.41479839  1.04499887]\t 15.890475442873509\t 6.578088852480828\t    \t    \n",
            "init\t [-1.51837216 -1.44747325]\t 13.520839509777993\t 6.578088852480828\t    \t    \n",
            "init\t [-1.01132062 -1.66800174]\t 23.772158573571232\t 6.578088852480828\t    \t    \n",
            "init\t [1.03186249 1.22637519]\t 6.578088852480828\t 6.578088852480828\t    \t    \n",
            "init\t [2.89645149 0.54264294]\t 83.31828503667734\t 6.578088852480828\t    \t    \n",
            "1  \t [ 1.26640182 -1.82333111]\t 30.99167463723061\t 6.578088852480828\t 1.9357826877798554\t 2.141610126141108\n",
            "2  \t [-0.1890062   1.85585008]\t 33.46223405657863\t 6.578088852480828\t 1.9351361610762212\t 2.3229178821042917\n",
            "3  \t [-3. -2.]\t 162.89999999999998\t 6.578088852480828\t 2.1601262751725376\t 2.0018772162559326\n",
            "\u001b[1m\u001b[92m4\u001b[0m\t \u001b[1m\u001b[92m[-0.2003543  -0.07967001]\u001b[0m\t \u001b[1m\u001b[92m0.14793921243985636\u001b[0m\t \u001b[1m\u001b[92m0.14793921243985636\u001b[0m\t \u001b[1m\u001b[92m1.6153835401544776\u001b[0m\t \u001b[1m\u001b[92m2.0309282486291735\u001b[0m\n",
            "5  \t [-1.20852704  0.19257146]\t 2.0254561912179825\t 0.14793921243985636\t 1.2965354205919901\t 1.9819883795751772\n",
            "6  \t [ 0.65870685 -0.19059054]\t 1.1018877908632745\t 0.14793921243985636\t 1.4266083625409736\t 1.9459428038819098\n",
            "\u001b[1m\u001b[92m7\u001b[0m\t \u001b[1m\u001b[92m[-0.29768792 -0.57158447]\u001b[0m\t \u001b[1m\u001b[92m-0.37151414370175595\u001b[0m\t \u001b[1m\u001b[92m-0.37151414370175595\u001b[0m\t \u001b[1m\u001b[92m1.593805778058023\u001b[0m\t \u001b[1m\u001b[92m2.0059960264206937\u001b[0m\n",
            "8  \t [-1.63743549  2.        ]\t 46.778279241476895\t -0.37151414370175595\t 1.4686540787057512\t 1.9553425565692804\n",
            "9  \t [-2.31113412 -0.20396849]\t 12.560449671626428\t -0.37151414370175595\t 1.7470213567187467\t 2.1005818225986963\n",
            "10 \t [3. 2.]\t 162.89999999999998\t -0.37151414370175595\t 1.7070731832836206\t 2.254508892029064\n",
            "11 \t [ 2.16514939 -0.86264363]\t 4.3127274736388115\t -0.37151414370175595\t 1.0318750176084466\t 1.8905203558567272\n",
            "12 \t [ 2.65028724 -1.98447565]\t 81.02699069432984\t -0.37151414370175595\t 1.3383819318674381\t 1.9765925154327937\n",
            "13 \t [1.62657587 0.00643578]\t 2.0667278374175075\t -0.37151414370175595\t 1.281442990545188\t 1.7622451959803518\n",
            "14 \t [-1.08600826 -0.8095425 ]\t 2.3190968440887234\t -0.37151414370175595\t 1.19468660724973\t 1.3177641315421205\n",
            "15 \t [-2.94654728  1.44028649]\t 99.25486852831676\t -0.37151414370175595\t 1.3013178922771502\t 1.890049306607303\n",
            "16 \t [1.00170305 1.96624882]\t 48.52908927910919\t -0.37151414370175595\t 1.0708299199318236\t 1.232347216209311\n",
            "17 \t [-1.67323712  0.78786912]\t -0.20667025757299085\t -0.37151414370175595\t 1.0283915690495686\t 1.0660499570649233\n",
            "18 \t [0.43951182 0.68404892]\t 0.0014873226472642553\t -0.37151414370175595\t 1.298541509678062\t 1.2153028242374149\n",
            "19 \t [-0.8805787   0.11338512]\t 1.8438041994819652\t -0.37151414370175595\t 0.8590879015343463\t 0.9674148321382817\n",
            "20 \t [ 1.56643992 -0.96644904]\t 0.3353451331549039\t -0.37151414370175595\t 1.0280597833062084\t 1.1939366794598478\n"
          ]
        }
      ],
      "source": [
        "### EXACT STP CBM GRADIENTS\n",
        "\n",
        "np.random.seed(run_num_19)\n",
        "surrogate_exact_19 = dtStudentProcess(cov_func, optimize=opt, nu = df)\n",
        "\n",
        "exact_19 = dGPGO(surrogate_exact_19, Acquisition_grad(util), objfunc, param)\n",
        "exact_19.run(init_evals=n_init, max_iter=iters)\n"
      ]
    },
    {
      "cell_type": "code",
      "execution_count": 53,
      "metadata": {
        "id": "aw3xvSryIwDi",
        "colab": {
          "base_uri": "https://localhost:8080/"
        },
        "outputId": "3fdd962b-f2cc-494f-edec-142007a83305"
      },
      "outputs": [
        {
          "output_type": "stream",
          "name": "stdout",
          "text": [
            "Evaluation \t Proposed point \t  Current eval. \t  Best eval. \t        Exact CBM: StdDev. x \t Approx CBM: StdDev. x \n",
            "init\t [0.52878481 1.59085491]\t 17.29968374481291\t 1.5037392797834441\t    \t    \n",
            "init\t [2.34918438 1.26334991]\t 20.91583049569433\t 1.5037392797834441\t    \t    \n",
            "init\t [-2.78466249  0.76703033]\t 57.06253405225224\t 1.5037392797834441\t    \t    \n",
            "init\t [-0.72791435  0.07404378]\t 1.5037392797834441\t 1.5037392797834441\t    \t    \n",
            "init\t [ 0.94770879 -1.22459913]\t 3.9766737661914173\t 1.5037392797834441\t    \t    \n",
            "1  \t [-1.30896072 -1.98274556]\t 51.05531628293733\t 1.5037392797834441\t 1.761976583567592\t 1.9861191860488898\n",
            "2  \t [ 3.         -1.20815418]\t 107.95914645781573\t 1.5037392797834441\t 1.7338880583788878\t 2.336129676715455\n",
            "\u001b[1m\u001b[92m3\u001b[0m\t \u001b[1m\u001b[92m[ 0.41081037 -0.07958219]\u001b[0m\t \u001b[1m\u001b[92m0.5589853155586707\u001b[0m\t \u001b[1m\u001b[92m0.5589853155586707\u001b[0m\t \u001b[1m\u001b[92m2.145105041826054\u001b[0m\t \u001b[1m\u001b[92m2.0103411458043747\u001b[0m\n",
            "4  \t [-3. -2.]\t 162.89999999999998\t 0.5589853155586707\t 1.9085728184471793\t 2.100946824459674\n",
            "5  \t [-0.83352456  1.83581708]\t 32.29973031794097\t 0.5589853155586707\t 1.478053573360183\t 1.8620856310044613\n",
            "6  \t [ 0.41667849 -1.99359158]\t 47.088265458419194\t 0.5589853155586707\t 1.6287511245638102\t 2.0137821996293375\n",
            "7  \t [3. 2.]\t 162.89999999999998\t 0.5589853155586707\t 1.161755570721398\t 1.8017510024291836\n",
            "8  \t [1.24249568 0.27135198]\t 2.461000099183211\t 0.5589853155586707\t 1.0789729198003561\t 1.4948070233621769\n",
            "\u001b[1m\u001b[92m9\u001b[0m\t \u001b[1m\u001b[92m[-0.05719705 -0.41364403]\u001b[0m\t \u001b[1m\u001b[92m-0.5305800333218216\u001b[0m\t \u001b[1m\u001b[92m-0.5305800333218216\u001b[0m\t \u001b[1m\u001b[92m0.8547061111622\u001b[0m\t \u001b[1m\u001b[92m1.1381400568594369\u001b[0m\n",
            "10 \t [0.87765647 0.34802329]\t 1.8671137226093018\t -0.5305800333218216\t 1.0263691140996694\t 1.3529252294728635\n",
            "11 \t [-0.42124419  0.48624275]\t -0.2814288637567012\t -0.5305800333218216\t 1.0591931765216995\t 1.7767982817692252\n",
            "12 \t [1.45854578 1.46492029]\t 14.188595557715114\t -0.5305800333218216\t 1.3510914496703512\t 1.6568387760204772\n",
            "13 \t [2.86335849 0.39966477]\t 75.94949832831631\t -0.5305800333218216\t 1.1535088114354415\t 1.8452943183745847\n",
            "14 \t [-1.536486   -0.65606483]\t 2.152387942883906\t -0.5305800333218216\t 1.0759889421923983\t 1.7609482458219756\n",
            "15 \t [ 1.61799793 -1.60477113]\t 15.690766801577597\t -0.5305800333218216\t 1.0531747098720856\t 1.6365572700057645\n",
            "16 \t [1.74510884 0.88324528]\t 2.9752815556253065\t -0.5305800333218216\t 1.001764787596332\t 1.7442945813509576\n",
            "17 \t [-1.08441549 -0.68282942]\t 2.0868833186474216\t -0.5305800333218216\t 1.0668115855100084\t 1.6315456703001883\n",
            "18 \t [-1.5402355   0.85694762]\t 0.02087442434450215\t -0.5305800333218216\t 1.0895388203813432\t 1.955395070006382\n",
            "19 \t [-2.1507819   1.99019678]\t 49.19242171652023\t -0.5305800333218216\t 1.1414550847257552\t 1.705182152052908\n",
            "20 \t [-0.82258283  0.00851044]\t 1.8410709465739805\t -0.5305800333218216\t 0.9397728341089275\t 0.6371009935157426\n"
          ]
        }
      ],
      "source": [
        "### EXACT STP CBM GRADIENTS\n",
        "\n",
        "np.random.seed(run_num_20)\n",
        "surrogate_exact_20 = dtStudentProcess(cov_func, optimize=opt, nu = df)\n",
        "\n",
        "exact_20 = dGPGO(surrogate_exact_20, Acquisition_grad(util), objfunc, param)\n",
        "exact_20.run(init_evals=n_init, max_iter=iters)\n"
      ]
    },
    {
      "cell_type": "code",
      "execution_count": 54,
      "metadata": {
        "id": "5c8szjivRPme",
        "colab": {
          "base_uri": "https://localhost:8080/"
        },
        "outputId": "bcddf749-3c95-4d44-828e-f226c0b8f386"
      },
      "outputs": [
        {
          "output_type": "execute_result",
          "data": {
            "text/plain": [
              "773.7816033363342"
            ]
          },
          "metadata": {},
          "execution_count": 54
        }
      ],
      "source": [
        "end_exact = time.time()\n",
        "end_exact\n",
        "\n",
        "time_exact = end_exact - start_exact\n",
        "time_exact\n"
      ]
    },
    {
      "cell_type": "code",
      "execution_count": 55,
      "metadata": {
        "id": "f6gCKnp6RR8c",
        "colab": {
          "base_uri": "https://localhost:8080/"
        },
        "outputId": "7a33c988-a845-4bab-da26-5cc32a77cb75"
      },
      "outputs": [
        {
          "output_type": "execute_result",
          "data": {
            "text/plain": [
              "(-0.2658009358573259, -0.2658009358573259)"
            ]
          },
          "metadata": {},
          "execution_count": 55
        }
      ],
      "source": [
        "### Simple regret minimization: run number = 1\n",
        "\n",
        "approx_output_1 = np.append(np.min(-approx_1.GP.y[0:n_init]),-approx_1.GP.y[n_init:(n_init+iters)]) \n",
        "exact_output_1 = np.append(np.min(-exact_1.GP.y[0:n_init]),-exact_1.GP.y[n_init:(n_init+iters)]) \n",
        "\n",
        "regret_approx_1 = np.log(approx_output_1 - y_global_orig)\n",
        "regret_exact_1 = np.log(exact_output_1 - y_global_orig)\n",
        "\n",
        "simple_regret_approx_1 = min_max_array(regret_approx_1)\n",
        "simple_regret_exact_1 = min_max_array(regret_exact_1)\n",
        "\n",
        "min_simple_regret_approx_1 = min(simple_regret_approx_1)\n",
        "min_simple_regret_exact_1 = min(simple_regret_exact_1)\n",
        "\n",
        "min_simple_regret_approx_1, min_simple_regret_exact_1\n"
      ]
    },
    {
      "cell_type": "code",
      "execution_count": 56,
      "metadata": {
        "id": "94yBw5tqQxfk",
        "colab": {
          "base_uri": "https://localhost:8080/"
        },
        "outputId": "e45a1482-5bf5-4c04-9464-d1d504a82709"
      },
      "outputs": [
        {
          "output_type": "execute_result",
          "data": {
            "text/plain": [
              "(-0.16606130995460897, -0.4685104373114647)"
            ]
          },
          "metadata": {},
          "execution_count": 56
        }
      ],
      "source": [
        "### Simple regret minimization: run number = 2\n",
        "\n",
        "approx_output_2 = np.append(np.min(-approx_2.GP.y[0:n_init]),-approx_2.GP.y[n_init:(n_init+iters)]) \n",
        "exact_output_2 = np.append(np.min(-exact_2.GP.y[0:n_init]),-exact_2.GP.y[n_init:(n_init+iters)]) \n",
        "\n",
        "regret_approx_2 = np.log(approx_output_2 - y_global_orig)\n",
        "regret_exact_2 = np.log(exact_output_2 - y_global_orig)\n",
        "\n",
        "simple_regret_approx_2 = min_max_array(regret_approx_2)\n",
        "simple_regret_exact_2 = min_max_array(regret_exact_2)\n",
        "\n",
        "min_simple_regret_approx_2 = min(simple_regret_approx_2)\n",
        "min_simple_regret_exact_2 = min(simple_regret_exact_2)\n",
        "\n",
        "min_simple_regret_approx_2, min_simple_regret_exact_2\n"
      ]
    },
    {
      "cell_type": "code",
      "execution_count": 57,
      "metadata": {
        "id": "Bu6SBWALQxfl",
        "colab": {
          "base_uri": "https://localhost:8080/"
        },
        "outputId": "80b337ba-3ab5-4b33-a76b-67f8d75afd55"
      },
      "outputs": [
        {
          "output_type": "execute_result",
          "data": {
            "text/plain": [
              "(-0.23773993035753282, -0.35715335419633804)"
            ]
          },
          "metadata": {},
          "execution_count": 57
        }
      ],
      "source": [
        "### Simple regret minimization: run number = 3\n",
        "\n",
        "approx_output_3 = np.append(np.min(-approx_3.GP.y[0:n_init]),-approx_3.GP.y[n_init:(n_init+iters)]) \n",
        "exact_output_3 = np.append(np.min(-exact_3.GP.y[0:n_init]),-exact_3.GP.y[n_init:(n_init+iters)]) \n",
        "\n",
        "regret_approx_3 = np.log(approx_output_3 - y_global_orig)\n",
        "regret_exact_3 = np.log(exact_output_3 - y_global_orig)\n",
        "\n",
        "simple_regret_approx_3 = min_max_array(regret_approx_3)\n",
        "simple_regret_exact_3 = min_max_array(regret_exact_3)\n",
        "\n",
        "min_simple_regret_approx_3 = min(simple_regret_approx_3)\n",
        "min_simple_regret_exact_3 = min(simple_regret_exact_3)\n",
        "\n",
        "min_simple_regret_approx_3, min_simple_regret_exact_3"
      ]
    },
    {
      "cell_type": "code",
      "execution_count": 58,
      "metadata": {
        "id": "AZm0jgxkQxfm",
        "colab": {
          "base_uri": "https://localhost:8080/"
        },
        "outputId": "6593c201-3da5-4990-fa87-cdc4ccfbff5d"
      },
      "outputs": [
        {
          "output_type": "execute_result",
          "data": {
            "text/plain": [
              "(-2.2035088753059187, -0.39865492924332924)"
            ]
          },
          "metadata": {},
          "execution_count": 58
        }
      ],
      "source": [
        "### Simple regret minimization: run number = 4\n",
        "\n",
        "approx_output_4 = np.append(np.min(-approx_4.GP.y[0:n_init]),-approx_4.GP.y[n_init:(n_init+iters)]) \n",
        "exact_output_4 = np.append(np.min(-exact_4.GP.y[0:n_init]),-exact_4.GP.y[n_init:(n_init+iters)]) \n",
        "\n",
        "regret_approx_4 = np.log(approx_output_4 - y_global_orig)\n",
        "regret_exact_4 = np.log(exact_output_4 - y_global_orig)\n",
        "\n",
        "simple_regret_approx_4 = min_max_array(regret_approx_4)\n",
        "simple_regret_exact_4 = min_max_array(regret_exact_4)\n",
        "\n",
        "min_simple_regret_approx_4 = min(simple_regret_approx_4)\n",
        "min_simple_regret_exact_4 = min(simple_regret_exact_4)\n",
        "\n",
        "min_simple_regret_approx_4, min_simple_regret_exact_4"
      ]
    },
    {
      "cell_type": "code",
      "execution_count": 59,
      "metadata": {
        "id": "NONPm8JIQxfn",
        "colab": {
          "base_uri": "https://localhost:8080/"
        },
        "outputId": "ee69a42f-80fd-4dc4-a780-ff51b6ec7b2c"
      },
      "outputs": [
        {
          "output_type": "execute_result",
          "data": {
            "text/plain": [
              "(-0.9667370327122197, -0.9667370327122197)"
            ]
          },
          "metadata": {},
          "execution_count": 59
        }
      ],
      "source": [
        "### Simple regret minimization: run number = 5\n",
        "\n",
        "approx_output_5 = np.append(np.min(-approx_5.GP.y[0:n_init]),-approx_5.GP.y[n_init:(n_init+iters)]) \n",
        "exact_output_5 = np.append(np.min(-exact_5.GP.y[0:n_init]),-exact_5.GP.y[n_init:(n_init+iters)]) \n",
        "\n",
        "regret_approx_5 = np.log(approx_output_5 - y_global_orig)\n",
        "regret_exact_5 = np.log(exact_output_5 - y_global_orig)\n",
        "\n",
        "simple_regret_approx_5 = min_max_array(regret_approx_5)\n",
        "simple_regret_exact_5 = min_max_array(regret_exact_5)\n",
        "\n",
        "min_simple_regret_approx_5 = min(simple_regret_approx_5)\n",
        "min_simple_regret_exact_5 = min(simple_regret_exact_5)\n",
        "\n",
        "min_simple_regret_approx_5, min_simple_regret_exact_5"
      ]
    },
    {
      "cell_type": "code",
      "execution_count": 60,
      "metadata": {
        "id": "CJv3lPuSQxfp",
        "colab": {
          "base_uri": "https://localhost:8080/"
        },
        "outputId": "b121a431-54b7-4de6-c175-a414168bc88a"
      },
      "outputs": [
        {
          "output_type": "execute_result",
          "data": {
            "text/plain": [
              "(-0.3257561052987614, -1.1307509079115523)"
            ]
          },
          "metadata": {},
          "execution_count": 60
        }
      ],
      "source": [
        "### Simple regret minimization: run number = 6\n",
        "\n",
        "approx_output_6 = np.append(np.min(-approx_6.GP.y[0:n_init]),-approx_6.GP.y[n_init:(n_init+iters)]) \n",
        "exact_output_6 = np.append(np.min(-exact_6.GP.y[0:n_init]),-exact_6.GP.y[n_init:(n_init+iters)]) \n",
        "\n",
        "regret_approx_6 = np.log(approx_output_6 - y_global_orig)\n",
        "regret_exact_6 = np.log(exact_output_6 - y_global_orig)\n",
        "\n",
        "simple_regret_approx_6 = min_max_array(regret_approx_6)\n",
        "simple_regret_exact_6 = min_max_array(regret_exact_6)\n",
        "\n",
        "min_simple_regret_approx_6 = min(simple_regret_approx_6)\n",
        "min_simple_regret_exact_6 = min(simple_regret_exact_6)\n",
        "\n",
        "min_simple_regret_approx_6, min_simple_regret_exact_6"
      ]
    },
    {
      "cell_type": "code",
      "execution_count": 61,
      "metadata": {
        "id": "quR2ZyApQxfq",
        "colab": {
          "base_uri": "https://localhost:8080/"
        },
        "outputId": "9888da08-969f-41de-a41d-6a21e59aab26"
      },
      "outputs": [
        {
          "output_type": "execute_result",
          "data": {
            "text/plain": [
              "(-0.567767694400235, -0.567767694400235)"
            ]
          },
          "metadata": {},
          "execution_count": 61
        }
      ],
      "source": [
        "### Simple regret minimization: run number = 7\n",
        "\n",
        "approx_output_7 = np.append(np.min(-approx_7.GP.y[0:n_init]),-approx_7.GP.y[n_init:(n_init+iters)]) \n",
        "exact_output_7 = np.append(np.min(-exact_7.GP.y[0:n_init]),-exact_7.GP.y[n_init:(n_init+iters)]) \n",
        "\n",
        "regret_approx_7 = np.log(approx_output_7 - y_global_orig)\n",
        "regret_exact_7 = np.log(exact_output_7 - y_global_orig)\n",
        "\n",
        "simple_regret_approx_7 = min_max_array(regret_approx_7)\n",
        "simple_regret_exact_7 = min_max_array(regret_exact_7)\n",
        "\n",
        "min_simple_regret_approx_7 = min(simple_regret_approx_7)\n",
        "min_simple_regret_exact_7 = min(simple_regret_exact_7)\n",
        "\n",
        "min_simple_regret_approx_7, min_simple_regret_exact_7"
      ]
    },
    {
      "cell_type": "code",
      "execution_count": 62,
      "metadata": {
        "id": "99wY5nK6Qxfr",
        "colab": {
          "base_uri": "https://localhost:8080/"
        },
        "outputId": "9dbc0e7f-8271-418f-b7be-51255813bcc7"
      },
      "outputs": [
        {
          "output_type": "execute_result",
          "data": {
            "text/plain": [
              "(-0.5506095154771443, -0.48349306566746897)"
            ]
          },
          "metadata": {},
          "execution_count": 62
        }
      ],
      "source": [
        "### Simple regret minimization: run number = 8\n",
        "\n",
        "approx_output_8 = np.append(np.min(-approx_8.GP.y[0:n_init]),-approx_8.GP.y[n_init:(n_init+iters)]) \n",
        "exact_output_8 = np.append(np.min(-exact_8.GP.y[0:n_init]),-exact_8.GP.y[n_init:(n_init+iters)]) \n",
        "\n",
        "regret_approx_8 = np.log(approx_output_8 - y_global_orig)\n",
        "regret_exact_8 = np.log(exact_output_8 - y_global_orig)\n",
        "\n",
        "simple_regret_approx_8 = min_max_array(regret_approx_8)\n",
        "simple_regret_exact_8 = min_max_array(regret_exact_8)\n",
        "\n",
        "min_simple_regret_approx_8 = min(simple_regret_approx_8)\n",
        "min_simple_regret_exact_8 = min(simple_regret_exact_8)\n",
        "\n",
        "min_simple_regret_approx_8, min_simple_regret_exact_8"
      ]
    },
    {
      "cell_type": "code",
      "execution_count": 63,
      "metadata": {
        "id": "qt0P5t9qQxfs",
        "colab": {
          "base_uri": "https://localhost:8080/"
        },
        "outputId": "979ccb0e-bb0b-47fd-a12c-d237ecb6a831"
      },
      "outputs": [
        {
          "output_type": "execute_result",
          "data": {
            "text/plain": [
              "(-1.071812051774457, -1.1534881832722244)"
            ]
          },
          "metadata": {},
          "execution_count": 63
        }
      ],
      "source": [
        "### Simple regret minimization: run number = 9\n",
        "\n",
        "approx_output_9 = np.append(np.min(-approx_9.GP.y[0:n_init]),-approx_9.GP.y[n_init:(n_init+iters)]) \n",
        "exact_output_9 = np.append(np.min(-exact_9.GP.y[0:n_init]),-exact_9.GP.y[n_init:(n_init+iters)]) \n",
        "\n",
        "regret_approx_9 = np.log(approx_output_9 - y_global_orig)\n",
        "regret_exact_9 = np.log(exact_output_9 - y_global_orig)\n",
        "\n",
        "simple_regret_approx_9 = min_max_array(regret_approx_9)\n",
        "simple_regret_exact_9 = min_max_array(regret_exact_9)\n",
        "\n",
        "min_simple_regret_approx_9 = min(simple_regret_approx_9)\n",
        "min_simple_regret_exact_9 = min(simple_regret_exact_9)\n",
        "\n",
        "min_simple_regret_approx_9, min_simple_regret_exact_9"
      ]
    },
    {
      "cell_type": "code",
      "execution_count": 64,
      "metadata": {
        "id": "vx8to9stQxft",
        "colab": {
          "base_uri": "https://localhost:8080/"
        },
        "outputId": "86ea3b4b-9622-4747-97af-e4a896ef5b01"
      },
      "outputs": [
        {
          "output_type": "execute_result",
          "data": {
            "text/plain": [
              "(-0.03563829606791229, 0.0529698378575204)"
            ]
          },
          "metadata": {},
          "execution_count": 64
        }
      ],
      "source": [
        "### Simple regret minimization: run number = 10\n",
        "\n",
        "approx_output_10 = np.append(np.min(-approx_10.GP.y[0:n_init]),-approx_10.GP.y[n_init:(n_init+iters)]) \n",
        "exact_output_10 = np.append(np.min(-exact_10.GP.y[0:n_init]),-exact_10.GP.y[n_init:(n_init+iters)]) \n",
        "\n",
        "regret_approx_10 = np.log(approx_output_10 - y_global_orig)\n",
        "regret_exact_10 = np.log(exact_output_10 - y_global_orig)\n",
        "\n",
        "simple_regret_approx_10 = min_max_array(regret_approx_10)\n",
        "simple_regret_exact_10 = min_max_array(regret_exact_10)\n",
        "\n",
        "min_simple_regret_approx_10 = min(simple_regret_approx_10)\n",
        "min_simple_regret_exact_10 = min(simple_regret_exact_10)\n",
        "\n",
        "min_simple_regret_approx_10, min_simple_regret_exact_10"
      ]
    },
    {
      "cell_type": "code",
      "execution_count": 65,
      "metadata": {
        "id": "d-FGzWyHQxfu",
        "colab": {
          "base_uri": "https://localhost:8080/"
        },
        "outputId": "5fe539c8-02a8-463d-d800-c6fe4cfc74b4"
      },
      "outputs": [
        {
          "output_type": "execute_result",
          "data": {
            "text/plain": [
              "(-0.9010790823704407, -0.9010790823704407)"
            ]
          },
          "metadata": {},
          "execution_count": 65
        }
      ],
      "source": [
        "### Simple regret minimization: run number = 11\n",
        "\n",
        "approx_output_11 = np.append(np.min(-approx_11.GP.y[0:n_init]),-approx_11.GP.y[n_init:(n_init+iters)]) \n",
        "exact_output_11 = np.append(np.min(-exact_11.GP.y[0:n_init]),-exact_11.GP.y[n_init:(n_init+iters)]) \n",
        "\n",
        "regret_approx_11 = np.log(approx_output_11 - y_global_orig)\n",
        "regret_exact_11 = np.log(exact_output_11 - y_global_orig)\n",
        "\n",
        "simple_regret_approx_11 = min_max_array(regret_approx_11)\n",
        "simple_regret_exact_11 = min_max_array(regret_exact_11)\n",
        "\n",
        "min_simple_regret_approx_11 = min(simple_regret_approx_11)\n",
        "min_simple_regret_exact_11 = min(simple_regret_exact_11)\n",
        "\n",
        "min_simple_regret_approx_11, min_simple_regret_exact_11"
      ]
    },
    {
      "cell_type": "code",
      "execution_count": 66,
      "metadata": {
        "id": "SvtsssyjQxfv",
        "colab": {
          "base_uri": "https://localhost:8080/"
        },
        "outputId": "cee57fa0-4310-4cb6-cb8c-e36a0e659b51"
      },
      "outputs": [
        {
          "output_type": "execute_result",
          "data": {
            "text/plain": [
              "(-4.195638905934867, -0.27181115301932257)"
            ]
          },
          "metadata": {},
          "execution_count": 66
        }
      ],
      "source": [
        "### Simple regret minimization: run number = 12\n",
        "\n",
        "approx_output_12 = np.append(np.min(-approx_12.GP.y[0:n_init]),-approx_12.GP.y[n_init:(n_init+iters)]) \n",
        "exact_output_12 = np.append(np.min(-exact_12.GP.y[0:n_init]),-exact_12.GP.y[n_init:(n_init+iters)]) \n",
        "\n",
        "regret_approx_12 = np.log(approx_output_12 - y_global_orig)\n",
        "regret_exact_12 = np.log(exact_output_12 - y_global_orig)\n",
        "\n",
        "simple_regret_approx_12 = min_max_array(regret_approx_12)\n",
        "simple_regret_exact_12 = min_max_array(regret_exact_12)\n",
        "\n",
        "min_simple_regret_approx_12 = min(simple_regret_approx_12)\n",
        "min_simple_regret_exact_12 = min(simple_regret_exact_12)\n",
        "\n",
        "min_simple_regret_approx_12, min_simple_regret_exact_12"
      ]
    },
    {
      "cell_type": "code",
      "execution_count": 67,
      "metadata": {
        "id": "K6OiGcHkQxfw",
        "colab": {
          "base_uri": "https://localhost:8080/"
        },
        "outputId": "e70b7883-3118-445b-98aa-3de42e43debb"
      },
      "outputs": [
        {
          "output_type": "execute_result",
          "data": {
            "text/plain": [
              "(-0.25440361346637963, 0.20043713231238108)"
            ]
          },
          "metadata": {},
          "execution_count": 67
        }
      ],
      "source": [
        "### Simple regret minimization: run number = 13\n",
        "\n",
        "approx_output_13 = np.append(np.min(-approx_13.GP.y[0:n_init]),-approx_13.GP.y[n_init:(n_init+iters)]) \n",
        "exact_output_13 = np.append(np.min(-exact_13.GP.y[0:n_init]),-exact_13.GP.y[n_init:(n_init+iters)]) \n",
        "\n",
        "regret_approx_13 = np.log(approx_output_13 - y_global_orig)\n",
        "regret_exact_13 = np.log(exact_output_13 - y_global_orig)\n",
        "\n",
        "simple_regret_approx_13 = min_max_array(regret_approx_13)\n",
        "simple_regret_exact_13 = min_max_array(regret_exact_13)\n",
        "\n",
        "min_simple_regret_approx_13 = min(simple_regret_approx_13)\n",
        "min_simple_regret_exact_13 = min(simple_regret_exact_13)\n",
        "\n",
        "min_simple_regret_approx_13, min_simple_regret_exact_13"
      ]
    },
    {
      "cell_type": "code",
      "execution_count": 68,
      "metadata": {
        "id": "ogML73shQxfx",
        "colab": {
          "base_uri": "https://localhost:8080/"
        },
        "outputId": "62941882-2549-4875-b8e0-e04df247af4d"
      },
      "outputs": [
        {
          "output_type": "execute_result",
          "data": {
            "text/plain": [
              "(-6.074727392833108, -6.074727392833108)"
            ]
          },
          "metadata": {},
          "execution_count": 68
        }
      ],
      "source": [
        "### Simple regret minimization: run number = 14\n",
        "\n",
        "approx_output_14 = np.append(np.min(-approx_14.GP.y[0:n_init]),-approx_14.GP.y[n_init:(n_init+iters)]) \n",
        "exact_output_14 = np.append(np.min(-exact_14.GP.y[0:n_init]),-exact_14.GP.y[n_init:(n_init+iters)]) \n",
        "\n",
        "regret_approx_14 = np.log(approx_output_14 - y_global_orig)\n",
        "regret_exact_14 = np.log(exact_output_14 - y_global_orig)\n",
        "\n",
        "simple_regret_approx_14 = min_max_array(regret_approx_14)\n",
        "simple_regret_exact_14 = min_max_array(regret_exact_14)\n",
        "\n",
        "min_simple_regret_approx_14 = min(simple_regret_approx_14)\n",
        "min_simple_regret_exact_14 = min(simple_regret_exact_14)\n",
        "\n",
        "min_simple_regret_approx_14, min_simple_regret_exact_14"
      ]
    },
    {
      "cell_type": "code",
      "execution_count": 69,
      "metadata": {
        "id": "9Eg7gFT9Qxfx",
        "colab": {
          "base_uri": "https://localhost:8080/"
        },
        "outputId": "3f3ea349-836e-4865-b05f-261596757603"
      },
      "outputs": [
        {
          "output_type": "execute_result",
          "data": {
            "text/plain": [
              "(-1.6572300996486318, -2.874095420637187)"
            ]
          },
          "metadata": {},
          "execution_count": 69
        }
      ],
      "source": [
        "### Simple regret minimization: run number = 15\n",
        "\n",
        "approx_output_15 = np.append(np.min(-approx_15.GP.y[0:n_init]),-approx_15.GP.y[n_init:(n_init+iters)]) \n",
        "exact_output_15 = np.append(np.min(-exact_15.GP.y[0:n_init]),-exact_15.GP.y[n_init:(n_init+iters)]) \n",
        "\n",
        "regret_approx_15 = np.log(approx_output_15 - y_global_orig)\n",
        "regret_exact_15 = np.log(exact_output_15 - y_global_orig)\n",
        "\n",
        "simple_regret_approx_15 = min_max_array(regret_approx_15)\n",
        "simple_regret_exact_15 = min_max_array(regret_exact_15)\n",
        "\n",
        "min_simple_regret_approx_15 = min(simple_regret_approx_15)\n",
        "min_simple_regret_exact_15 = min(simple_regret_exact_15)\n",
        "\n",
        "min_simple_regret_approx_15, min_simple_regret_exact_15"
      ]
    },
    {
      "cell_type": "code",
      "execution_count": 70,
      "metadata": {
        "id": "lIAC1U7ZQxfy",
        "colab": {
          "base_uri": "https://localhost:8080/"
        },
        "outputId": "f565157f-c089-4447-9b41-fcc9b0eafe7d"
      },
      "outputs": [
        {
          "output_type": "execute_result",
          "data": {
            "text/plain": [
              "(-1.2246812342238422, -0.9232006465244622)"
            ]
          },
          "metadata": {},
          "execution_count": 70
        }
      ],
      "source": [
        "### Simple regret minimization: run number = 16\n",
        "\n",
        "approx_output_16 = np.append(np.min(-approx_16.GP.y[0:n_init]),-approx_16.GP.y[n_init:(n_init+iters)]) \n",
        "exact_output_16 = np.append(np.min(-exact_16.GP.y[0:n_init]),-exact_16.GP.y[n_init:(n_init+iters)]) \n",
        "\n",
        "regret_approx_16 = np.log(approx_output_16 - y_global_orig)\n",
        "regret_exact_16 = np.log(exact_output_16 - y_global_orig)\n",
        "\n",
        "simple_regret_approx_16 = min_max_array(regret_approx_16)\n",
        "simple_regret_exact_16 = min_max_array(regret_exact_16)\n",
        "\n",
        "min_simple_regret_approx_16 = min(simple_regret_approx_16)\n",
        "min_simple_regret_exact_16 = min(simple_regret_exact_16)\n",
        "\n",
        "min_simple_regret_approx_16, min_simple_regret_exact_16"
      ]
    },
    {
      "cell_type": "code",
      "execution_count": 71,
      "metadata": {
        "id": "bGott36OQxfz",
        "colab": {
          "base_uri": "https://localhost:8080/"
        },
        "outputId": "1a4d6612-6e3f-4fcb-83fd-ded676f01ba1"
      },
      "outputs": [
        {
          "output_type": "execute_result",
          "data": {
            "text/plain": [
              "(-0.20484592793798145, -0.5589667337613825)"
            ]
          },
          "metadata": {},
          "execution_count": 71
        }
      ],
      "source": [
        "### Simple regret minimization: run number = 17\n",
        "\n",
        "approx_output_17 = np.append(np.min(-approx_17.GP.y[0:n_init]),-approx_17.GP.y[n_init:(n_init+iters)]) \n",
        "exact_output_17 = np.append(np.min(-exact_17.GP.y[0:n_init]),-exact_17.GP.y[n_init:(n_init+iters)]) \n",
        "\n",
        "regret_approx_17 = np.log(approx_output_17 - y_global_orig)\n",
        "regret_exact_17 = np.log(exact_output_17 - y_global_orig)\n",
        "\n",
        "simple_regret_approx_17 = min_max_array(regret_approx_17)\n",
        "simple_regret_exact_17 = min_max_array(regret_exact_17)\n",
        "\n",
        "min_simple_regret_approx_17 = min(simple_regret_approx_17)\n",
        "min_simple_regret_exact_17 = min(simple_regret_exact_17)\n",
        "\n",
        "min_simple_regret_approx_17, min_simple_regret_exact_17"
      ]
    },
    {
      "cell_type": "code",
      "execution_count": 72,
      "metadata": {
        "id": "Cz9ZYMBMQxfz",
        "colab": {
          "base_uri": "https://localhost:8080/"
        },
        "outputId": "23ceb7ec-b455-4a37-983c-1e5977b7c9d5"
      },
      "outputs": [
        {
          "output_type": "execute_result",
          "data": {
            "text/plain": [
              "(-0.8032574710739933, 0.08563536726212692)"
            ]
          },
          "metadata": {},
          "execution_count": 72
        }
      ],
      "source": [
        "### Simple regret minimization: run number = 18\n",
        "\n",
        "approx_output_18 = np.append(np.min(-approx_18.GP.y[0:n_init]),-approx_18.GP.y[n_init:(n_init+iters)]) \n",
        "exact_output_18 = np.append(np.min(-exact_18.GP.y[0:n_init]),-exact_18.GP.y[n_init:(n_init+iters)]) \n",
        "\n",
        "regret_approx_18 = np.log(approx_output_18 - y_global_orig)\n",
        "regret_exact_18 = np.log(exact_output_18 - y_global_orig)\n",
        "\n",
        "simple_regret_approx_18 = min_max_array(regret_approx_18)\n",
        "simple_regret_exact_18 = min_max_array(regret_exact_18)\n",
        "\n",
        "min_simple_regret_approx_18 = min(simple_regret_approx_18)\n",
        "min_simple_regret_exact_18 = min(simple_regret_exact_18)\n",
        "\n",
        "min_simple_regret_approx_18, min_simple_regret_exact_18"
      ]
    },
    {
      "cell_type": "code",
      "execution_count": 73,
      "metadata": {
        "id": "OBfpWOHNQxf0",
        "colab": {
          "base_uri": "https://localhost:8080/"
        },
        "outputId": "60c4d075-dbc8-468a-edf6-1d63c95047b7"
      },
      "outputs": [
        {
          "output_type": "execute_result",
          "data": {
            "text/plain": [
              "(-0.048057586751466035, -0.4153853671216549)"
            ]
          },
          "metadata": {},
          "execution_count": 73
        }
      ],
      "source": [
        "### Simple regret minimization: run number = 19\n",
        "\n",
        "approx_output_19 = np.append(np.min(-approx_19.GP.y[0:n_init]),-approx_19.GP.y[n_init:(n_init+iters)]) \n",
        "exact_output_19 = np.append(np.min(-exact_19.GP.y[0:n_init]),-exact_19.GP.y[n_init:(n_init+iters)]) \n",
        "\n",
        "regret_approx_19 = np.log(approx_output_19 - y_global_orig)\n",
        "regret_exact_19 = np.log(exact_output_19 - y_global_orig)\n",
        "\n",
        "simple_regret_approx_19 = min_max_array(regret_approx_19)\n",
        "simple_regret_exact_19 = min_max_array(regret_exact_19)\n",
        "\n",
        "min_simple_regret_approx_19 = min(simple_regret_approx_19)\n",
        "min_simple_regret_exact_19 = min(simple_regret_exact_19)\n",
        "\n",
        "min_simple_regret_approx_19, min_simple_regret_exact_19"
      ]
    },
    {
      "cell_type": "code",
      "execution_count": 74,
      "metadata": {
        "id": "BE1AJ7NsQxf0",
        "colab": {
          "base_uri": "https://localhost:8080/"
        },
        "outputId": "442da704-73c7-46a7-efbf-ef74f44f153d"
      },
      "outputs": [
        {
          "output_type": "execute_result",
          "data": {
            "text/plain": [
              "(-3.562890914610484, -0.6911093250423489)"
            ]
          },
          "metadata": {},
          "execution_count": 74
        }
      ],
      "source": [
        "### Simple regret minimization: run number = 20\n",
        "\n",
        "approx_output_20 = np.append(np.min(-approx_20.GP.y[0:n_init]),-approx_20.GP.y[n_init:(n_init+iters)]) \n",
        "exact_output_20 = np.append(np.min(-exact_20.GP.y[0:n_init]),-exact_20.GP.y[n_init:(n_init+iters)]) \n",
        "\n",
        "regret_approx_20 = np.log(approx_output_20 - y_global_orig)\n",
        "regret_exact_20 = np.log(exact_output_20 - y_global_orig)\n",
        "\n",
        "simple_regret_approx_20 = min_max_array(regret_approx_20)\n",
        "simple_regret_exact_20 = min_max_array(regret_exact_20)\n",
        "\n",
        "min_simple_regret_approx_20 = min(simple_regret_approx_20)\n",
        "min_simple_regret_exact_20 = min(simple_regret_exact_20)\n",
        "\n",
        "min_simple_regret_approx_20, min_simple_regret_exact_20"
      ]
    },
    {
      "cell_type": "code",
      "execution_count": 75,
      "metadata": {
        "id": "bpX-bKAHQxf1"
      },
      "outputs": [],
      "source": [
        "# Iteration1 :\n",
        "\n",
        "slice1 = 0\n",
        "\n",
        "approx1 = [simple_regret_approx_1[slice1],\n",
        "       simple_regret_approx_2[slice1],\n",
        "       simple_regret_approx_3[slice1],\n",
        "       simple_regret_approx_4[slice1],\n",
        "       simple_regret_approx_5[slice1],\n",
        "       simple_regret_approx_6[slice1],\n",
        "       simple_regret_approx_7[slice1],\n",
        "       simple_regret_approx_8[slice1],\n",
        "       simple_regret_approx_9[slice1],\n",
        "       simple_regret_approx_10[slice1],\n",
        "       simple_regret_approx_11[slice1],\n",
        "       simple_regret_approx_12[slice1],\n",
        "       simple_regret_approx_13[slice1],\n",
        "       simple_regret_approx_14[slice1],\n",
        "       simple_regret_approx_15[slice1],\n",
        "       simple_regret_approx_16[slice1],\n",
        "       simple_regret_approx_17[slice1],\n",
        "       simple_regret_approx_18[slice1],\n",
        "       simple_regret_approx_19[slice1],\n",
        "       simple_regret_approx_20[slice1]]\n",
        "\n",
        "exact1 = [simple_regret_exact_1[slice1],\n",
        "       simple_regret_exact_2[slice1],\n",
        "       simple_regret_exact_3[slice1],\n",
        "       simple_regret_exact_4[slice1],\n",
        "       simple_regret_exact_5[slice1],\n",
        "       simple_regret_exact_6[slice1],\n",
        "       simple_regret_exact_7[slice1],\n",
        "       simple_regret_exact_8[slice1],\n",
        "       simple_regret_exact_9[slice1],\n",
        "       simple_regret_exact_10[slice1],\n",
        "       simple_regret_exact_11[slice1],\n",
        "       simple_regret_exact_12[slice1],\n",
        "       simple_regret_exact_13[slice1],\n",
        "       simple_regret_exact_14[slice1],\n",
        "       simple_regret_exact_15[slice1],\n",
        "       simple_regret_exact_16[slice1],\n",
        "       simple_regret_exact_17[slice1],\n",
        "       simple_regret_exact_18[slice1],\n",
        "       simple_regret_exact_19[slice1],\n",
        "       simple_regret_exact_20[slice1]]\n",
        "\n",
        "approx1_results = pd.DataFrame(approx1).sort_values(by=[0], ascending=False)\n",
        "exact1_results = pd.DataFrame(exact1).sort_values(by=[0], ascending=False)\n",
        "\n",
        "### Best simple regret minimization IQR - approx:\n",
        "lower_approx1 = np.asarray(approx1_results[4:5][0])[0]\n",
        "median_approx1 = np.asarray(approx1_results[9:10][0])[0]\n",
        "upper_approx1 = np.asarray(approx1_results[14:15][0])[0]\n",
        "\n",
        "lower_exact1 = np.asarray(exact1_results[4:5][0])[0]\n",
        "median_exact1 = np.asarray(exact1_results[9:10][0])[0]\n",
        "upper_exact1 = np.asarray(exact1_results[14:15][0])[0]"
      ]
    },
    {
      "cell_type": "code",
      "execution_count": 76,
      "metadata": {
        "id": "CgIkJA1xQxf2"
      },
      "outputs": [],
      "source": [
        "# Iteration11 :\n",
        "\n",
        "slice11 = 10\n",
        "\n",
        "approx11 = [simple_regret_approx_1[slice11],\n",
        "       simple_regret_approx_2[slice11],\n",
        "       simple_regret_approx_3[slice11],\n",
        "       simple_regret_approx_4[slice11],\n",
        "       simple_regret_approx_5[slice11],\n",
        "       simple_regret_approx_6[slice11],\n",
        "       simple_regret_approx_7[slice11],\n",
        "       simple_regret_approx_8[slice11],\n",
        "       simple_regret_approx_9[slice11],\n",
        "       simple_regret_approx_10[slice11],\n",
        "       simple_regret_approx_11[slice11],\n",
        "       simple_regret_approx_12[slice11],\n",
        "       simple_regret_approx_13[slice11],\n",
        "       simple_regret_approx_14[slice11],\n",
        "       simple_regret_approx_15[slice11],\n",
        "       simple_regret_approx_16[slice11],\n",
        "       simple_regret_approx_17[slice11],\n",
        "       simple_regret_approx_18[slice11],\n",
        "       simple_regret_approx_19[slice11],\n",
        "       simple_regret_approx_20[slice11]]\n",
        "\n",
        "exact11 = [simple_regret_exact_1[slice11],\n",
        "       simple_regret_exact_2[slice11],\n",
        "       simple_regret_exact_3[slice11],\n",
        "       simple_regret_exact_4[slice11],\n",
        "       simple_regret_exact_5[slice11],\n",
        "       simple_regret_exact_6[slice11],\n",
        "       simple_regret_exact_7[slice11],\n",
        "       simple_regret_exact_8[slice11],\n",
        "       simple_regret_exact_9[slice11],\n",
        "       simple_regret_exact_10[slice11],\n",
        "       simple_regret_exact_11[slice11],\n",
        "       simple_regret_exact_12[slice11],\n",
        "       simple_regret_exact_13[slice11],\n",
        "       simple_regret_exact_14[slice11],\n",
        "       simple_regret_exact_15[slice11],\n",
        "       simple_regret_exact_16[slice11],\n",
        "       simple_regret_exact_17[slice11],\n",
        "       simple_regret_exact_18[slice11],\n",
        "       simple_regret_exact_19[slice11],\n",
        "       simple_regret_exact_20[slice11]]\n",
        "\n",
        "approx11_results = pd.DataFrame(approx11).sort_values(by=[0], ascending=False)\n",
        "exact11_results = pd.DataFrame(exact11).sort_values(by=[0], ascending=False)\n",
        "\n",
        "### Best simple regret minimization IQR - approx:\n",
        "lower_approx11 = np.asarray(approx11_results[4:5][0])[0]\n",
        "median_approx11 = np.asarray(approx11_results[9:10][0])[0]\n",
        "upper_approx11 = np.asarray(approx11_results[14:15][0])[0]\n",
        "\n",
        "lower_exact11 = np.asarray(exact11_results[4:5][0])[0]\n",
        "median_exact11 = np.asarray(exact11_results[9:10][0])[0]\n",
        "upper_exact11 = np.asarray(exact11_results[14:15][0])[0]"
      ]
    },
    {
      "cell_type": "code",
      "execution_count": 77,
      "metadata": {
        "id": "MFePDfGuQxf2"
      },
      "outputs": [],
      "source": [
        "# Iteration21 :\n",
        "\n",
        "slice21 = 20\n",
        "\n",
        "approx21 = [simple_regret_approx_1[slice21],\n",
        "       simple_regret_approx_2[slice21],\n",
        "       simple_regret_approx_3[slice21],\n",
        "       simple_regret_approx_4[slice21],\n",
        "       simple_regret_approx_5[slice21],\n",
        "       simple_regret_approx_6[slice21],\n",
        "       simple_regret_approx_7[slice21],\n",
        "       simple_regret_approx_8[slice21],\n",
        "       simple_regret_approx_9[slice21],\n",
        "       simple_regret_approx_10[slice21],\n",
        "       simple_regret_approx_11[slice21],\n",
        "       simple_regret_approx_12[slice21],\n",
        "       simple_regret_approx_13[slice21],\n",
        "       simple_regret_approx_14[slice21],\n",
        "       simple_regret_approx_15[slice21],\n",
        "       simple_regret_approx_16[slice21],\n",
        "       simple_regret_approx_17[slice21],\n",
        "       simple_regret_approx_18[slice21],\n",
        "       simple_regret_approx_19[slice21],\n",
        "       simple_regret_approx_20[slice21]]\n",
        "\n",
        "exact21 = [simple_regret_exact_1[slice21],\n",
        "       simple_regret_exact_2[slice21],\n",
        "       simple_regret_exact_3[slice21],\n",
        "       simple_regret_exact_4[slice21],\n",
        "       simple_regret_exact_5[slice21],\n",
        "       simple_regret_exact_6[slice21],\n",
        "       simple_regret_exact_7[slice21],\n",
        "       simple_regret_exact_8[slice21],\n",
        "       simple_regret_exact_9[slice21],\n",
        "       simple_regret_exact_10[slice21],\n",
        "       simple_regret_exact_11[slice21],\n",
        "       simple_regret_exact_12[slice21],\n",
        "       simple_regret_exact_13[slice21],\n",
        "       simple_regret_exact_14[slice21],\n",
        "       simple_regret_exact_15[slice21],\n",
        "       simple_regret_exact_16[slice21],\n",
        "       simple_regret_exact_17[slice21],\n",
        "       simple_regret_exact_18[slice21],\n",
        "       simple_regret_exact_19[slice21],\n",
        "       simple_regret_exact_20[slice21]]\n",
        "\n",
        "approx21_results = pd.DataFrame(approx21).sort_values(by=[0], ascending=False)\n",
        "exact21_results = pd.DataFrame(exact21).sort_values(by=[0], ascending=False)\n",
        "\n",
        "### Best simple regret minimization IQR - approx:\n",
        "lower_approx21 = np.asarray(approx21_results[4:5][0])[0]\n",
        "median_approx21 = np.asarray(approx21_results[9:10][0])[0]\n",
        "upper_approx21 = np.asarray(approx21_results[14:15][0])[0]\n",
        "\n",
        "lower_exact21 = np.asarray(exact21_results[4:5][0])[0]\n",
        "median_exact21 = np.asarray(exact21_results[9:10][0])[0]\n",
        "upper_exact21 = np.asarray(exact21_results[14:15][0])[0]"
      ]
    },
    {
      "cell_type": "code",
      "execution_count": 78,
      "metadata": {
        "id": "PrRDB1kfQxf3"
      },
      "outputs": [],
      "source": [
        "# Iteration2 :\n",
        "\n",
        "slice2 = 1\n",
        "\n",
        "approx2 = [simple_regret_approx_1[slice2],\n",
        "       simple_regret_approx_2[slice2],\n",
        "       simple_regret_approx_3[slice2],\n",
        "       simple_regret_approx_4[slice2],\n",
        "       simple_regret_approx_5[slice2],\n",
        "       simple_regret_approx_6[slice2],\n",
        "       simple_regret_approx_7[slice2],\n",
        "       simple_regret_approx_8[slice2],\n",
        "       simple_regret_approx_9[slice2],\n",
        "       simple_regret_approx_10[slice2],\n",
        "       simple_regret_approx_11[slice2],\n",
        "       simple_regret_approx_12[slice2],\n",
        "       simple_regret_approx_13[slice2],\n",
        "       simple_regret_approx_14[slice2],\n",
        "       simple_regret_approx_15[slice2],\n",
        "       simple_regret_approx_16[slice2],\n",
        "       simple_regret_approx_17[slice2],\n",
        "       simple_regret_approx_18[slice2],\n",
        "       simple_regret_approx_19[slice2],\n",
        "       simple_regret_approx_20[slice2]]\n",
        "\n",
        "exact2 = [simple_regret_exact_1[slice2],\n",
        "       simple_regret_exact_2[slice2],\n",
        "       simple_regret_exact_3[slice2],\n",
        "       simple_regret_exact_4[slice2],\n",
        "       simple_regret_exact_5[slice2],\n",
        "       simple_regret_exact_6[slice2],\n",
        "       simple_regret_exact_7[slice2],\n",
        "       simple_regret_exact_8[slice2],\n",
        "       simple_regret_exact_9[slice2],\n",
        "       simple_regret_exact_10[slice2],\n",
        "       simple_regret_exact_11[slice2],\n",
        "       simple_regret_exact_12[slice2],\n",
        "       simple_regret_exact_13[slice2],\n",
        "       simple_regret_exact_14[slice2],\n",
        "       simple_regret_exact_15[slice2],\n",
        "       simple_regret_exact_16[slice2],\n",
        "       simple_regret_exact_17[slice2],\n",
        "       simple_regret_exact_18[slice2],\n",
        "       simple_regret_exact_19[slice2],\n",
        "       simple_regret_exact_20[slice2]]\n",
        "\n",
        "approx2_results = pd.DataFrame(approx2).sort_values(by=[0], ascending=False)\n",
        "exact2_results = pd.DataFrame(exact2).sort_values(by=[0], ascending=False)\n",
        "\n",
        "### Best simple regret minimization IQR - approx:\n",
        "lower_approx2 = np.asarray(approx2_results[4:5][0])[0]\n",
        "median_approx2 = np.asarray(approx2_results[9:10][0])[0]\n",
        "upper_approx2 = np.asarray(approx2_results[14:15][0])[0]\n",
        "\n",
        "lower_exact2 = np.asarray(exact2_results[4:5][0])[0]\n",
        "median_exact2 = np.asarray(exact2_results[9:10][0])[0]\n",
        "upper_exact2 = np.asarray(exact2_results[14:15][0])[0]"
      ]
    },
    {
      "cell_type": "code",
      "execution_count": 79,
      "metadata": {
        "id": "B8ncJDYeQxf3"
      },
      "outputs": [],
      "source": [
        "# Iteration12 :\n",
        "\n",
        "slice12 = 11\n",
        "\n",
        "approx12 = [simple_regret_approx_1[slice12],\n",
        "       simple_regret_approx_2[slice12],\n",
        "       simple_regret_approx_3[slice12],\n",
        "       simple_regret_approx_4[slice12],\n",
        "       simple_regret_approx_5[slice12],\n",
        "       simple_regret_approx_6[slice12],\n",
        "       simple_regret_approx_7[slice12],\n",
        "       simple_regret_approx_8[slice12],\n",
        "       simple_regret_approx_9[slice12],\n",
        "       simple_regret_approx_10[slice12],\n",
        "       simple_regret_approx_11[slice12],\n",
        "       simple_regret_approx_12[slice12],\n",
        "       simple_regret_approx_13[slice12],\n",
        "       simple_regret_approx_14[slice12],\n",
        "       simple_regret_approx_15[slice12],\n",
        "       simple_regret_approx_16[slice12],\n",
        "       simple_regret_approx_17[slice12],\n",
        "       simple_regret_approx_18[slice12],\n",
        "       simple_regret_approx_19[slice12],\n",
        "       simple_regret_approx_20[slice12]]\n",
        "\n",
        "exact12 = [simple_regret_exact_1[slice12],\n",
        "       simple_regret_exact_2[slice12],\n",
        "       simple_regret_exact_3[slice12],\n",
        "       simple_regret_exact_4[slice12],\n",
        "       simple_regret_exact_5[slice12],\n",
        "       simple_regret_exact_6[slice12],\n",
        "       simple_regret_exact_7[slice12],\n",
        "       simple_regret_exact_8[slice12],\n",
        "       simple_regret_exact_9[slice12],\n",
        "       simple_regret_exact_10[slice12],\n",
        "       simple_regret_exact_11[slice12],\n",
        "       simple_regret_exact_12[slice12],\n",
        "       simple_regret_exact_13[slice12],\n",
        "       simple_regret_exact_14[slice12],\n",
        "       simple_regret_exact_15[slice12],\n",
        "       simple_regret_exact_16[slice12],\n",
        "       simple_regret_exact_17[slice12],\n",
        "       simple_regret_exact_18[slice12],\n",
        "       simple_regret_exact_19[slice12],\n",
        "       simple_regret_exact_20[slice12]]\n",
        "\n",
        "approx12_results = pd.DataFrame(approx12).sort_values(by=[0], ascending=False)\n",
        "exact12_results = pd.DataFrame(exact12).sort_values(by=[0], ascending=False)\n",
        "\n",
        "### Best simple regret minimization IQR - approx:\n",
        "lower_approx12 = np.asarray(approx12_results[4:5][0])[0]\n",
        "median_approx12 = np.asarray(approx12_results[9:10][0])[0]\n",
        "upper_approx12 = np.asarray(approx12_results[14:15][0])[0]\n",
        "\n",
        "lower_exact12 = np.asarray(exact12_results[4:5][0])[0]\n",
        "median_exact12 = np.asarray(exact12_results[9:10][0])[0]\n",
        "upper_exact12 = np.asarray(exact12_results[14:15][0])[0]"
      ]
    },
    {
      "cell_type": "code",
      "execution_count": 80,
      "metadata": {
        "id": "Jn4KpGvcQxf4"
      },
      "outputs": [],
      "source": [
        "# Iteration3 :\n",
        "\n",
        "slice3 = 2\n",
        "\n",
        "approx3 = [simple_regret_approx_1[slice3],\n",
        "       simple_regret_approx_2[slice3],\n",
        "       simple_regret_approx_3[slice3],\n",
        "       simple_regret_approx_4[slice3],\n",
        "       simple_regret_approx_5[slice3],\n",
        "       simple_regret_approx_6[slice3],\n",
        "       simple_regret_approx_7[slice3],\n",
        "       simple_regret_approx_8[slice3],\n",
        "       simple_regret_approx_9[slice3],\n",
        "       simple_regret_approx_10[slice3],\n",
        "       simple_regret_approx_11[slice3],\n",
        "       simple_regret_approx_12[slice3],\n",
        "       simple_regret_approx_13[slice3],\n",
        "       simple_regret_approx_14[slice3],\n",
        "       simple_regret_approx_15[slice3],\n",
        "       simple_regret_approx_16[slice3],\n",
        "       simple_regret_approx_17[slice3],\n",
        "       simple_regret_approx_18[slice3],\n",
        "       simple_regret_approx_19[slice3],\n",
        "       simple_regret_approx_20[slice3]]\n",
        "\n",
        "exact3 = [simple_regret_exact_1[slice3],\n",
        "       simple_regret_exact_2[slice3],\n",
        "       simple_regret_exact_3[slice3],\n",
        "       simple_regret_exact_4[slice3],\n",
        "       simple_regret_exact_5[slice3],\n",
        "       simple_regret_exact_6[slice3],\n",
        "       simple_regret_exact_7[slice3],\n",
        "       simple_regret_exact_8[slice3],\n",
        "       simple_regret_exact_9[slice3],\n",
        "       simple_regret_exact_10[slice3],\n",
        "       simple_regret_exact_11[slice3],\n",
        "       simple_regret_exact_12[slice3],\n",
        "       simple_regret_exact_13[slice3],\n",
        "       simple_regret_exact_14[slice3],\n",
        "       simple_regret_exact_15[slice3],\n",
        "       simple_regret_exact_16[slice3],\n",
        "       simple_regret_exact_17[slice3],\n",
        "       simple_regret_exact_18[slice3],\n",
        "       simple_regret_exact_19[slice3],\n",
        "       simple_regret_exact_20[slice3]]\n",
        "\n",
        "approx3_results = pd.DataFrame(approx3).sort_values(by=[0], ascending=False)\n",
        "exact3_results = pd.DataFrame(exact3).sort_values(by=[0], ascending=False)\n",
        "\n",
        "### Best simple regret minimization IQR - approx:\n",
        "lower_approx3 = np.asarray(approx3_results[4:5][0])[0]\n",
        "median_approx3 = np.asarray(approx3_results[9:10][0])[0]\n",
        "upper_approx3 = np.asarray(approx3_results[14:15][0])[0]\n",
        "\n",
        "lower_exact3 = np.asarray(exact3_results[4:5][0])[0]\n",
        "median_exact3 = np.asarray(exact3_results[9:10][0])[0]\n",
        "upper_exact3 = np.asarray(exact3_results[14:15][0])[0]"
      ]
    },
    {
      "cell_type": "code",
      "execution_count": 81,
      "metadata": {
        "id": "plf83wxrQxf4"
      },
      "outputs": [],
      "source": [
        "# Iteration13 :\n",
        "\n",
        "slice13 = 12\n",
        "\n",
        "approx13 = [simple_regret_approx_1[slice13],\n",
        "       simple_regret_approx_2[slice13],\n",
        "       simple_regret_approx_3[slice13],\n",
        "       simple_regret_approx_4[slice13],\n",
        "       simple_regret_approx_5[slice13],\n",
        "       simple_regret_approx_6[slice13],\n",
        "       simple_regret_approx_7[slice13],\n",
        "       simple_regret_approx_8[slice13],\n",
        "       simple_regret_approx_9[slice13],\n",
        "       simple_regret_approx_10[slice13],\n",
        "       simple_regret_approx_11[slice13],\n",
        "       simple_regret_approx_12[slice13],\n",
        "       simple_regret_approx_13[slice13],\n",
        "       simple_regret_approx_14[slice13],\n",
        "       simple_regret_approx_15[slice13],\n",
        "       simple_regret_approx_16[slice13],\n",
        "       simple_regret_approx_17[slice13],\n",
        "       simple_regret_approx_18[slice13],\n",
        "       simple_regret_approx_19[slice13],\n",
        "       simple_regret_approx_20[slice13]]\n",
        "\n",
        "exact13 = [simple_regret_exact_1[slice13],\n",
        "       simple_regret_exact_2[slice13],\n",
        "       simple_regret_exact_3[slice13],\n",
        "       simple_regret_exact_4[slice13],\n",
        "       simple_regret_exact_5[slice13],\n",
        "       simple_regret_exact_6[slice13],\n",
        "       simple_regret_exact_7[slice13],\n",
        "       simple_regret_exact_8[slice13],\n",
        "       simple_regret_exact_9[slice13],\n",
        "       simple_regret_exact_10[slice13],\n",
        "       simple_regret_exact_11[slice13],\n",
        "       simple_regret_exact_12[slice13],\n",
        "       simple_regret_exact_13[slice13],\n",
        "       simple_regret_exact_14[slice13],\n",
        "       simple_regret_exact_15[slice13],\n",
        "       simple_regret_exact_16[slice13],\n",
        "       simple_regret_exact_17[slice13],\n",
        "       simple_regret_exact_18[slice13],\n",
        "       simple_regret_exact_19[slice13],\n",
        "       simple_regret_exact_20[slice13]]\n",
        "\n",
        "approx13_results = pd.DataFrame(approx13).sort_values(by=[0], ascending=False)\n",
        "exact13_results = pd.DataFrame(exact13).sort_values(by=[0], ascending=False)\n",
        "\n",
        "### Best simple regret minimization IQR - approx:\n",
        "lower_approx13 = np.asarray(approx13_results[4:5][0])[0]\n",
        "median_approx13 = np.asarray(approx13_results[9:10][0])[0]\n",
        "upper_approx13 = np.asarray(approx13_results[14:15][0])[0]\n",
        "\n",
        "lower_exact13 = np.asarray(exact13_results[4:5][0])[0]\n",
        "median_exact13 = np.asarray(exact13_results[9:10][0])[0]\n",
        "upper_exact13 = np.asarray(exact13_results[14:15][0])[0]"
      ]
    },
    {
      "cell_type": "code",
      "execution_count": 82,
      "metadata": {
        "id": "9A7mlVvJQxf5"
      },
      "outputs": [],
      "source": [
        "# Iteration4 :\n",
        "\n",
        "slice4 = 3\n",
        "\n",
        "approx4 = [simple_regret_approx_1[slice4],\n",
        "       simple_regret_approx_2[slice4],\n",
        "       simple_regret_approx_3[slice4],\n",
        "       simple_regret_approx_4[slice4],\n",
        "       simple_regret_approx_5[slice4],\n",
        "       simple_regret_approx_6[slice4],\n",
        "       simple_regret_approx_7[slice4],\n",
        "       simple_regret_approx_8[slice4],\n",
        "       simple_regret_approx_9[slice4],\n",
        "       simple_regret_approx_10[slice4],\n",
        "       simple_regret_approx_11[slice4],\n",
        "       simple_regret_approx_12[slice4],\n",
        "       simple_regret_approx_13[slice4],\n",
        "       simple_regret_approx_14[slice4],\n",
        "       simple_regret_approx_15[slice4],\n",
        "       simple_regret_approx_16[slice4],\n",
        "       simple_regret_approx_17[slice4],\n",
        "       simple_regret_approx_18[slice4],\n",
        "       simple_regret_approx_19[slice4],\n",
        "       simple_regret_approx_20[slice4]]\n",
        "\n",
        "exact4 = [simple_regret_exact_1[slice4],\n",
        "       simple_regret_exact_2[slice4],\n",
        "       simple_regret_exact_3[slice4],\n",
        "       simple_regret_exact_4[slice4],\n",
        "       simple_regret_exact_5[slice4],\n",
        "       simple_regret_exact_6[slice4],\n",
        "       simple_regret_exact_7[slice4],\n",
        "       simple_regret_exact_8[slice4],\n",
        "       simple_regret_exact_9[slice4],\n",
        "       simple_regret_exact_10[slice4],\n",
        "       simple_regret_exact_11[slice4],\n",
        "       simple_regret_exact_12[slice4],\n",
        "       simple_regret_exact_13[slice4],\n",
        "       simple_regret_exact_14[slice4],\n",
        "       simple_regret_exact_15[slice4],\n",
        "       simple_regret_exact_16[slice4],\n",
        "       simple_regret_exact_17[slice4],\n",
        "       simple_regret_exact_18[slice4],\n",
        "       simple_regret_exact_19[slice4],\n",
        "       simple_regret_exact_20[slice4]]\n",
        "\n",
        "approx4_results = pd.DataFrame(approx4).sort_values(by=[0], ascending=False)\n",
        "exact4_results = pd.DataFrame(exact4).sort_values(by=[0], ascending=False)\n",
        "\n",
        "### Best simple regret minimization IQR - approx:\n",
        "lower_approx4 = np.asarray(approx4_results[4:5][0])[0]\n",
        "median_approx4 = np.asarray(approx4_results[9:10][0])[0]\n",
        "upper_approx4 = np.asarray(approx4_results[14:15][0])[0]\n",
        "\n",
        "lower_exact4 = np.asarray(exact4_results[4:5][0])[0]\n",
        "median_exact4 = np.asarray(exact4_results[9:10][0])[0]\n",
        "upper_exact4 = np.asarray(exact4_results[14:15][0])[0]"
      ]
    },
    {
      "cell_type": "code",
      "execution_count": 83,
      "metadata": {
        "id": "ijq-rioYQxf5"
      },
      "outputs": [],
      "source": [
        "# Iteration14 :\n",
        "\n",
        "slice14 = 13\n",
        "\n",
        "approx14 = [simple_regret_approx_1[slice14],\n",
        "       simple_regret_approx_2[slice14],\n",
        "       simple_regret_approx_3[slice14],\n",
        "       simple_regret_approx_4[slice14],\n",
        "       simple_regret_approx_5[slice14],\n",
        "       simple_regret_approx_6[slice14],\n",
        "       simple_regret_approx_7[slice14],\n",
        "       simple_regret_approx_8[slice14],\n",
        "       simple_regret_approx_9[slice14],\n",
        "       simple_regret_approx_10[slice14],\n",
        "       simple_regret_approx_11[slice14],\n",
        "       simple_regret_approx_12[slice14],\n",
        "       simple_regret_approx_13[slice14],\n",
        "       simple_regret_approx_14[slice14],\n",
        "       simple_regret_approx_15[slice14],\n",
        "       simple_regret_approx_16[slice14],\n",
        "       simple_regret_approx_17[slice14],\n",
        "       simple_regret_approx_18[slice14],\n",
        "       simple_regret_approx_19[slice14],\n",
        "       simple_regret_approx_20[slice14]]\n",
        "\n",
        "exact14 = [simple_regret_exact_1[slice14],\n",
        "       simple_regret_exact_2[slice14],\n",
        "       simple_regret_exact_3[slice14],\n",
        "       simple_regret_exact_4[slice14],\n",
        "       simple_regret_exact_5[slice14],\n",
        "       simple_regret_exact_6[slice14],\n",
        "       simple_regret_exact_7[slice14],\n",
        "       simple_regret_exact_8[slice14],\n",
        "       simple_regret_exact_9[slice14],\n",
        "       simple_regret_exact_10[slice14],\n",
        "       simple_regret_exact_11[slice14],\n",
        "       simple_regret_exact_12[slice14],\n",
        "       simple_regret_exact_13[slice14],\n",
        "       simple_regret_exact_14[slice14],\n",
        "       simple_regret_exact_15[slice14],\n",
        "       simple_regret_exact_16[slice14],\n",
        "       simple_regret_exact_17[slice14],\n",
        "       simple_regret_exact_18[slice14],\n",
        "       simple_regret_exact_19[slice14],\n",
        "       simple_regret_exact_20[slice14]]\n",
        "\n",
        "approx14_results = pd.DataFrame(approx14).sort_values(by=[0], ascending=False)\n",
        "exact14_results = pd.DataFrame(exact14).sort_values(by=[0], ascending=False)\n",
        "\n",
        "### Best simple regret minimization IQR - approx:\n",
        "lower_approx14 = np.asarray(approx14_results[4:5][0])[0]\n",
        "median_approx14 = np.asarray(approx14_results[9:10][0])[0]\n",
        "upper_approx14 = np.asarray(approx14_results[14:15][0])[0]\n",
        "\n",
        "lower_exact14 = np.asarray(exact14_results[4:5][0])[0]\n",
        "median_exact14 = np.asarray(exact14_results[9:10][0])[0]\n",
        "upper_exact14 = np.asarray(exact14_results[14:15][0])[0]"
      ]
    },
    {
      "cell_type": "code",
      "execution_count": 84,
      "metadata": {
        "id": "XINlZjoTd-ZK"
      },
      "outputs": [],
      "source": [
        "# Iteration5 :\n",
        "\n",
        "slice5 = 4\n",
        "\n",
        "approx5 = [simple_regret_approx_1[slice5],\n",
        "       simple_regret_approx_2[slice5],\n",
        "       simple_regret_approx_3[slice5],\n",
        "       simple_regret_approx_4[slice5],\n",
        "       simple_regret_approx_5[slice5],\n",
        "       simple_regret_approx_6[slice5],\n",
        "       simple_regret_approx_7[slice5],\n",
        "       simple_regret_approx_8[slice5],\n",
        "       simple_regret_approx_9[slice5],\n",
        "       simple_regret_approx_10[slice5],\n",
        "       simple_regret_approx_11[slice5],\n",
        "       simple_regret_approx_12[slice5],\n",
        "       simple_regret_approx_13[slice5],\n",
        "       simple_regret_approx_14[slice5],\n",
        "       simple_regret_approx_15[slice5],\n",
        "       simple_regret_approx_16[slice5],\n",
        "       simple_regret_approx_17[slice5],\n",
        "       simple_regret_approx_18[slice5],\n",
        "       simple_regret_approx_19[slice5],\n",
        "       simple_regret_approx_20[slice5]]\n",
        "\n",
        "exact5 = [simple_regret_exact_1[slice5],\n",
        "       simple_regret_exact_2[slice5],\n",
        "       simple_regret_exact_3[slice5],\n",
        "       simple_regret_exact_4[slice5],\n",
        "       simple_regret_exact_5[slice5],\n",
        "       simple_regret_exact_6[slice5],\n",
        "       simple_regret_exact_7[slice5],\n",
        "       simple_regret_exact_8[slice5],\n",
        "       simple_regret_exact_9[slice5],\n",
        "       simple_regret_exact_10[slice5],\n",
        "       simple_regret_exact_11[slice5],\n",
        "       simple_regret_exact_12[slice5],\n",
        "       simple_regret_exact_13[slice5],\n",
        "       simple_regret_exact_14[slice5],\n",
        "       simple_regret_exact_15[slice5],\n",
        "       simple_regret_exact_16[slice5],\n",
        "       simple_regret_exact_17[slice5],\n",
        "       simple_regret_exact_18[slice5],\n",
        "       simple_regret_exact_19[slice5],\n",
        "       simple_regret_exact_20[slice5]]\n",
        "\n",
        "approx5_results = pd.DataFrame(approx5).sort_values(by=[0], ascending=False)\n",
        "exact5_results = pd.DataFrame(exact5).sort_values(by=[0], ascending=False)\n",
        "\n",
        "### Best simple regret minimization IQR - approx:\n",
        "lower_approx5 = np.asarray(approx5_results[4:5][0])[0]\n",
        "median_approx5 = np.asarray(approx5_results[9:10][0])[0]\n",
        "upper_approx5 = np.asarray(approx5_results[14:15][0])[0]\n",
        "\n",
        "lower_exact5 = np.asarray(exact5_results[4:5][0])[0]\n",
        "median_exact5 = np.asarray(exact5_results[9:10][0])[0]\n",
        "upper_exact5 = np.asarray(exact5_results[14:15][0])[0]"
      ]
    },
    {
      "cell_type": "code",
      "execution_count": 85,
      "metadata": {
        "id": "4aZ7C8sOQxf6"
      },
      "outputs": [],
      "source": [
        "# Iteration15 :\n",
        "\n",
        "slice15 = 14\n",
        "\n",
        "approx15 = [simple_regret_approx_1[slice15],\n",
        "       simple_regret_approx_2[slice15],\n",
        "       simple_regret_approx_3[slice15],\n",
        "       simple_regret_approx_4[slice15],\n",
        "       simple_regret_approx_5[slice15],\n",
        "       simple_regret_approx_6[slice15],\n",
        "       simple_regret_approx_7[slice15],\n",
        "       simple_regret_approx_8[slice15],\n",
        "       simple_regret_approx_9[slice15],\n",
        "       simple_regret_approx_10[slice15],\n",
        "       simple_regret_approx_11[slice15],\n",
        "       simple_regret_approx_12[slice15],\n",
        "       simple_regret_approx_13[slice15],\n",
        "       simple_regret_approx_14[slice15],\n",
        "       simple_regret_approx_15[slice15],\n",
        "       simple_regret_approx_16[slice15],\n",
        "       simple_regret_approx_17[slice15],\n",
        "       simple_regret_approx_18[slice15],\n",
        "       simple_regret_approx_19[slice15],\n",
        "       simple_regret_approx_20[slice15]]\n",
        "\n",
        "exact15 = [simple_regret_exact_1[slice15],\n",
        "       simple_regret_exact_2[slice15],\n",
        "       simple_regret_exact_3[slice15],\n",
        "       simple_regret_exact_4[slice15],\n",
        "       simple_regret_exact_5[slice15],\n",
        "       simple_regret_exact_6[slice15],\n",
        "       simple_regret_exact_7[slice15],\n",
        "       simple_regret_exact_8[slice15],\n",
        "       simple_regret_exact_9[slice15],\n",
        "       simple_regret_exact_10[slice15],\n",
        "       simple_regret_exact_11[slice15],\n",
        "       simple_regret_exact_12[slice15],\n",
        "       simple_regret_exact_13[slice15],\n",
        "       simple_regret_exact_14[slice15],\n",
        "       simple_regret_exact_15[slice15],\n",
        "       simple_regret_exact_16[slice15],\n",
        "       simple_regret_exact_17[slice15],\n",
        "       simple_regret_exact_18[slice15],\n",
        "       simple_regret_exact_19[slice15],\n",
        "       simple_regret_exact_20[slice15]]\n",
        "\n",
        "approx15_results = pd.DataFrame(approx15).sort_values(by=[0], ascending=False)\n",
        "exact15_results = pd.DataFrame(exact15).sort_values(by=[0], ascending=False)\n",
        "\n",
        "### Best simple regret minimization IQR - approx:\n",
        "lower_approx15 = np.asarray(approx15_results[4:5][0])[0]\n",
        "median_approx15 = np.asarray(approx15_results[9:10][0])[0]\n",
        "upper_approx15 = np.asarray(approx15_results[14:15][0])[0]\n",
        "\n",
        "lower_exact15 = np.asarray(exact15_results[4:5][0])[0]\n",
        "median_exact15 = np.asarray(exact15_results[9:10][0])[0]\n",
        "upper_exact15 = np.asarray(exact15_results[14:15][0])[0]"
      ]
    },
    {
      "cell_type": "code",
      "execution_count": 86,
      "metadata": {
        "id": "KJINKhv1Qxf6"
      },
      "outputs": [],
      "source": [
        "# Iteration6 :\n",
        "\n",
        "slice6 = 5\n",
        "\n",
        "approx6 = [simple_regret_approx_1[slice6],\n",
        "       simple_regret_approx_2[slice6],\n",
        "       simple_regret_approx_3[slice6],\n",
        "       simple_regret_approx_4[slice6],\n",
        "       simple_regret_approx_5[slice6],\n",
        "       simple_regret_approx_6[slice6],\n",
        "       simple_regret_approx_7[slice6],\n",
        "       simple_regret_approx_8[slice6],\n",
        "       simple_regret_approx_9[slice6],\n",
        "       simple_regret_approx_10[slice6],\n",
        "       simple_regret_approx_11[slice6],\n",
        "       simple_regret_approx_12[slice6],\n",
        "       simple_regret_approx_13[slice6],\n",
        "       simple_regret_approx_14[slice6],\n",
        "       simple_regret_approx_15[slice6],\n",
        "       simple_regret_approx_16[slice6],\n",
        "       simple_regret_approx_17[slice6],\n",
        "       simple_regret_approx_18[slice6],\n",
        "       simple_regret_approx_19[slice6],\n",
        "       simple_regret_approx_20[slice6]]\n",
        "\n",
        "exact6 = [simple_regret_exact_1[slice6],\n",
        "       simple_regret_exact_2[slice6],\n",
        "       simple_regret_exact_3[slice6],\n",
        "       simple_regret_exact_4[slice6],\n",
        "       simple_regret_exact_5[slice6],\n",
        "       simple_regret_exact_6[slice6],\n",
        "       simple_regret_exact_7[slice6],\n",
        "       simple_regret_exact_8[slice6],\n",
        "       simple_regret_exact_9[slice6],\n",
        "       simple_regret_exact_10[slice6],\n",
        "       simple_regret_exact_11[slice6],\n",
        "       simple_regret_exact_12[slice6],\n",
        "       simple_regret_exact_13[slice6],\n",
        "       simple_regret_exact_14[slice6],\n",
        "       simple_regret_exact_15[slice6],\n",
        "       simple_regret_exact_16[slice6],\n",
        "       simple_regret_exact_17[slice6],\n",
        "       simple_regret_exact_18[slice6],\n",
        "       simple_regret_exact_19[slice6],\n",
        "       simple_regret_exact_20[slice6]]\n",
        "\n",
        "approx6_results = pd.DataFrame(approx6).sort_values(by=[0], ascending=False)\n",
        "exact6_results = pd.DataFrame(exact6).sort_values(by=[0], ascending=False)\n",
        "\n",
        "### Best simple regret minimization IQR - approx:\n",
        "lower_approx6 = np.asarray(approx6_results[4:5][0])[0]\n",
        "median_approx6 = np.asarray(approx6_results[9:10][0])[0]\n",
        "upper_approx6 = np.asarray(approx6_results[14:15][0])[0]\n",
        "\n",
        "lower_exact6 = np.asarray(exact6_results[4:5][0])[0]\n",
        "median_exact6 = np.asarray(exact6_results[9:10][0])[0]\n",
        "upper_exact6 = np.asarray(exact6_results[14:15][0])[0]"
      ]
    },
    {
      "cell_type": "code",
      "execution_count": 87,
      "metadata": {
        "id": "nwC5N1FsQxf7"
      },
      "outputs": [],
      "source": [
        "# Iteration16 :\n",
        "\n",
        "slice16 = 15\n",
        "\n",
        "approx16 = [simple_regret_approx_1[slice16],\n",
        "       simple_regret_approx_2[slice16],\n",
        "       simple_regret_approx_3[slice16],\n",
        "       simple_regret_approx_4[slice16],\n",
        "       simple_regret_approx_5[slice16],\n",
        "       simple_regret_approx_6[slice16],\n",
        "       simple_regret_approx_7[slice16],\n",
        "       simple_regret_approx_8[slice16],\n",
        "       simple_regret_approx_9[slice16],\n",
        "       simple_regret_approx_10[slice16],\n",
        "       simple_regret_approx_11[slice16],\n",
        "       simple_regret_approx_12[slice16],\n",
        "       simple_regret_approx_13[slice16],\n",
        "       simple_regret_approx_14[slice16],\n",
        "       simple_regret_approx_15[slice16],\n",
        "       simple_regret_approx_16[slice16],\n",
        "       simple_regret_approx_17[slice16],\n",
        "       simple_regret_approx_18[slice16],\n",
        "       simple_regret_approx_19[slice16],\n",
        "       simple_regret_approx_20[slice16]]\n",
        "\n",
        "exact16 = [simple_regret_exact_1[slice16],\n",
        "       simple_regret_exact_2[slice16],\n",
        "       simple_regret_exact_3[slice16],\n",
        "       simple_regret_exact_4[slice16],\n",
        "       simple_regret_exact_5[slice16],\n",
        "       simple_regret_exact_6[slice16],\n",
        "       simple_regret_exact_7[slice16],\n",
        "       simple_regret_exact_8[slice16],\n",
        "       simple_regret_exact_9[slice16],\n",
        "       simple_regret_exact_10[slice16],\n",
        "       simple_regret_exact_11[slice16],\n",
        "       simple_regret_exact_12[slice16],\n",
        "       simple_regret_exact_13[slice16],\n",
        "       simple_regret_exact_14[slice16],\n",
        "       simple_regret_exact_15[slice16],\n",
        "       simple_regret_exact_16[slice16],\n",
        "       simple_regret_exact_17[slice16],\n",
        "       simple_regret_exact_18[slice16],\n",
        "       simple_regret_exact_19[slice16],\n",
        "       simple_regret_exact_20[slice16]]\n",
        "\n",
        "approx16_results = pd.DataFrame(approx16).sort_values(by=[0], ascending=False)\n",
        "exact16_results = pd.DataFrame(exact16).sort_values(by=[0], ascending=False)\n",
        "\n",
        "### Best simple regret minimization IQR - approx:\n",
        "lower_approx16 = np.asarray(approx16_results[4:5][0])[0]\n",
        "median_approx16 = np.asarray(approx16_results[9:10][0])[0]\n",
        "upper_approx16 = np.asarray(approx16_results[14:15][0])[0]\n",
        "\n",
        "lower_exact16 = np.asarray(exact16_results[4:5][0])[0]\n",
        "median_exact16 = np.asarray(exact16_results[9:10][0])[0]\n",
        "upper_exact16 = np.asarray(exact16_results[14:15][0])[0]"
      ]
    },
    {
      "cell_type": "code",
      "execution_count": 88,
      "metadata": {
        "id": "TrPV0AfnQxf7"
      },
      "outputs": [],
      "source": [
        "# Iteration7 :\n",
        "\n",
        "slice7 = 6\n",
        "\n",
        "approx7 = [simple_regret_approx_1[slice7],\n",
        "       simple_regret_approx_2[slice7],\n",
        "       simple_regret_approx_3[slice7],\n",
        "       simple_regret_approx_4[slice7],\n",
        "       simple_regret_approx_5[slice7],\n",
        "       simple_regret_approx_6[slice7],\n",
        "       simple_regret_approx_7[slice7],\n",
        "       simple_regret_approx_8[slice7],\n",
        "       simple_regret_approx_9[slice7],\n",
        "       simple_regret_approx_10[slice7],\n",
        "       simple_regret_approx_11[slice7],\n",
        "       simple_regret_approx_12[slice7],\n",
        "       simple_regret_approx_13[slice7],\n",
        "       simple_regret_approx_14[slice7],\n",
        "       simple_regret_approx_15[slice7],\n",
        "       simple_regret_approx_16[slice7],\n",
        "       simple_regret_approx_17[slice7],\n",
        "       simple_regret_approx_18[slice7],\n",
        "       simple_regret_approx_19[slice7],\n",
        "       simple_regret_approx_20[slice7]]\n",
        "\n",
        "exact7 = [simple_regret_exact_1[slice7],\n",
        "       simple_regret_exact_2[slice7],\n",
        "       simple_regret_exact_3[slice7],\n",
        "       simple_regret_exact_4[slice7],\n",
        "       simple_regret_exact_5[slice7],\n",
        "       simple_regret_exact_6[slice7],\n",
        "       simple_regret_exact_7[slice7],\n",
        "       simple_regret_exact_8[slice7],\n",
        "       simple_regret_exact_9[slice7],\n",
        "       simple_regret_exact_10[slice7],\n",
        "       simple_regret_exact_11[slice7],\n",
        "       simple_regret_exact_12[slice7],\n",
        "       simple_regret_exact_13[slice7],\n",
        "       simple_regret_exact_14[slice7],\n",
        "       simple_regret_exact_15[slice7],\n",
        "       simple_regret_exact_16[slice7],\n",
        "       simple_regret_exact_17[slice7],\n",
        "       simple_regret_exact_18[slice7],\n",
        "       simple_regret_exact_19[slice7],\n",
        "       simple_regret_exact_20[slice7]]\n",
        "\n",
        "approx7_results = pd.DataFrame(approx7).sort_values(by=[0], ascending=False)\n",
        "exact7_results = pd.DataFrame(exact7).sort_values(by=[0], ascending=False)\n",
        "\n",
        "### Best simple regret minimization IQR - approx:\n",
        "lower_approx7 = np.asarray(approx7_results[4:5][0])[0]\n",
        "median_approx7 = np.asarray(approx7_results[9:10][0])[0]\n",
        "upper_approx7 = np.asarray(approx7_results[14:15][0])[0]\n",
        "\n",
        "lower_exact7 = np.asarray(exact7_results[4:5][0])[0]\n",
        "median_exact7 = np.asarray(exact7_results[9:10][0])[0]\n",
        "upper_exact7 = np.asarray(exact7_results[14:15][0])[0]"
      ]
    },
    {
      "cell_type": "code",
      "execution_count": 89,
      "metadata": {
        "id": "Ub_-wpK4Qxf8"
      },
      "outputs": [],
      "source": [
        "# Iteration17 :\n",
        "\n",
        "slice17 = 16\n",
        "\n",
        "approx17 = [simple_regret_approx_1[slice17],\n",
        "       simple_regret_approx_2[slice17],\n",
        "       simple_regret_approx_3[slice17],\n",
        "       simple_regret_approx_4[slice17],\n",
        "       simple_regret_approx_5[slice17],\n",
        "       simple_regret_approx_6[slice17],\n",
        "       simple_regret_approx_7[slice17],\n",
        "       simple_regret_approx_8[slice17],\n",
        "       simple_regret_approx_9[slice17],\n",
        "       simple_regret_approx_10[slice17],\n",
        "       simple_regret_approx_11[slice17],\n",
        "       simple_regret_approx_12[slice17],\n",
        "       simple_regret_approx_13[slice17],\n",
        "       simple_regret_approx_14[slice17],\n",
        "       simple_regret_approx_15[slice17],\n",
        "       simple_regret_approx_16[slice17],\n",
        "       simple_regret_approx_17[slice17],\n",
        "       simple_regret_approx_18[slice17],\n",
        "       simple_regret_approx_19[slice17],\n",
        "       simple_regret_approx_20[slice17]]\n",
        "\n",
        "exact17 = [simple_regret_exact_1[slice17],\n",
        "       simple_regret_exact_2[slice17],\n",
        "       simple_regret_exact_3[slice17],\n",
        "       simple_regret_exact_4[slice17],\n",
        "       simple_regret_exact_5[slice17],\n",
        "       simple_regret_exact_6[slice17],\n",
        "       simple_regret_exact_7[slice17],\n",
        "       simple_regret_exact_8[slice17],\n",
        "       simple_regret_exact_9[slice17],\n",
        "       simple_regret_exact_10[slice17],\n",
        "       simple_regret_exact_11[slice17],\n",
        "       simple_regret_exact_12[slice17],\n",
        "       simple_regret_exact_13[slice17],\n",
        "       simple_regret_exact_14[slice17],\n",
        "       simple_regret_exact_15[slice17],\n",
        "       simple_regret_exact_16[slice17],\n",
        "       simple_regret_exact_17[slice17],\n",
        "       simple_regret_exact_18[slice17],\n",
        "       simple_regret_exact_19[slice17],\n",
        "       simple_regret_exact_20[slice17]]\n",
        "\n",
        "approx17_results = pd.DataFrame(approx17).sort_values(by=[0], ascending=False)\n",
        "exact17_results = pd.DataFrame(exact17).sort_values(by=[0], ascending=False)\n",
        "\n",
        "### Best simple regret minimization IQR - approx:\n",
        "lower_approx17 = np.asarray(approx17_results[4:5][0])[0]\n",
        "median_approx17 = np.asarray(approx17_results[9:10][0])[0]\n",
        "upper_approx17 = np.asarray(approx17_results[14:15][0])[0]\n",
        "\n",
        "lower_exact17 = np.asarray(exact17_results[4:5][0])[0]\n",
        "median_exact17 = np.asarray(exact17_results[9:10][0])[0]\n",
        "upper_exact17 = np.asarray(exact17_results[14:15][0])[0]"
      ]
    },
    {
      "cell_type": "code",
      "execution_count": 90,
      "metadata": {
        "id": "-6VLo37PQxf8"
      },
      "outputs": [],
      "source": [
        "# Iteration8 :\n",
        "\n",
        "slice8 = 7\n",
        "\n",
        "approx8 = [simple_regret_approx_1[slice8],\n",
        "       simple_regret_approx_2[slice8],\n",
        "       simple_regret_approx_3[slice8],\n",
        "       simple_regret_approx_4[slice8],\n",
        "       simple_regret_approx_5[slice8],\n",
        "       simple_regret_approx_6[slice8],\n",
        "       simple_regret_approx_7[slice8],\n",
        "       simple_regret_approx_8[slice8],\n",
        "       simple_regret_approx_9[slice8],\n",
        "       simple_regret_approx_10[slice8],\n",
        "       simple_regret_approx_11[slice8],\n",
        "       simple_regret_approx_12[slice8],\n",
        "       simple_regret_approx_13[slice8],\n",
        "       simple_regret_approx_14[slice8],\n",
        "       simple_regret_approx_15[slice8],\n",
        "       simple_regret_approx_16[slice8],\n",
        "       simple_regret_approx_17[slice8],\n",
        "       simple_regret_approx_18[slice8],\n",
        "       simple_regret_approx_19[slice8],\n",
        "       simple_regret_approx_20[slice8]]\n",
        "\n",
        "exact8 = [simple_regret_exact_1[slice8],\n",
        "       simple_regret_exact_2[slice8],\n",
        "       simple_regret_exact_3[slice8],\n",
        "       simple_regret_exact_4[slice8],\n",
        "       simple_regret_exact_5[slice8],\n",
        "       simple_regret_exact_6[slice8],\n",
        "       simple_regret_exact_7[slice8],\n",
        "       simple_regret_exact_8[slice8],\n",
        "       simple_regret_exact_9[slice8],\n",
        "       simple_regret_exact_10[slice8],\n",
        "       simple_regret_exact_11[slice8],\n",
        "       simple_regret_exact_12[slice8],\n",
        "       simple_regret_exact_13[slice8],\n",
        "       simple_regret_exact_14[slice8],\n",
        "       simple_regret_exact_15[slice8],\n",
        "       simple_regret_exact_16[slice8],\n",
        "       simple_regret_exact_17[slice8],\n",
        "       simple_regret_exact_18[slice8],\n",
        "       simple_regret_exact_19[slice8],\n",
        "       simple_regret_exact_20[slice8]]\n",
        "\n",
        "approx8_results = pd.DataFrame(approx8).sort_values(by=[0], ascending=False)\n",
        "exact8_results = pd.DataFrame(exact8).sort_values(by=[0], ascending=False)\n",
        "\n",
        "### Best simple regret minimization IQR - approx:\n",
        "lower_approx8 = np.asarray(approx8_results[4:5][0])[0]\n",
        "median_approx8 = np.asarray(approx8_results[9:10][0])[0]\n",
        "upper_approx8 = np.asarray(approx8_results[14:15][0])[0]\n",
        "\n",
        "lower_exact8 = np.asarray(exact8_results[4:5][0])[0]\n",
        "median_exact8 = np.asarray(exact8_results[9:10][0])[0]\n",
        "upper_exact8 = np.asarray(exact8_results[14:15][0])[0]"
      ]
    },
    {
      "cell_type": "code",
      "execution_count": 91,
      "metadata": {
        "id": "2Dp-9CC2Qxf9"
      },
      "outputs": [],
      "source": [
        "# Iteration18 :\n",
        "\n",
        "slice18 = 17\n",
        "\n",
        "approx18 = [simple_regret_approx_1[slice18],\n",
        "       simple_regret_approx_2[slice18],\n",
        "       simple_regret_approx_3[slice18],\n",
        "       simple_regret_approx_4[slice18],\n",
        "       simple_regret_approx_5[slice18],\n",
        "       simple_regret_approx_6[slice18],\n",
        "       simple_regret_approx_7[slice18],\n",
        "       simple_regret_approx_8[slice18],\n",
        "       simple_regret_approx_9[slice18],\n",
        "       simple_regret_approx_10[slice18],\n",
        "       simple_regret_approx_11[slice18],\n",
        "       simple_regret_approx_12[slice18],\n",
        "       simple_regret_approx_13[slice18],\n",
        "       simple_regret_approx_14[slice18],\n",
        "       simple_regret_approx_15[slice18],\n",
        "       simple_regret_approx_16[slice18],\n",
        "       simple_regret_approx_17[slice18],\n",
        "       simple_regret_approx_18[slice18],\n",
        "       simple_regret_approx_19[slice18],\n",
        "       simple_regret_approx_20[slice18]]\n",
        "\n",
        "exact18 = [simple_regret_exact_1[slice18],\n",
        "       simple_regret_exact_2[slice18],\n",
        "       simple_regret_exact_3[slice18],\n",
        "       simple_regret_exact_4[slice18],\n",
        "       simple_regret_exact_5[slice18],\n",
        "       simple_regret_exact_6[slice18],\n",
        "       simple_regret_exact_7[slice18],\n",
        "       simple_regret_exact_8[slice18],\n",
        "       simple_regret_exact_9[slice18],\n",
        "       simple_regret_exact_10[slice18],\n",
        "       simple_regret_exact_11[slice18],\n",
        "       simple_regret_exact_12[slice18],\n",
        "       simple_regret_exact_13[slice18],\n",
        "       simple_regret_exact_14[slice18],\n",
        "       simple_regret_exact_15[slice18],\n",
        "       simple_regret_exact_16[slice18],\n",
        "       simple_regret_exact_17[slice18],\n",
        "       simple_regret_exact_18[slice18],\n",
        "       simple_regret_exact_19[slice18],\n",
        "       simple_regret_exact_20[slice18]]\n",
        "\n",
        "approx18_results = pd.DataFrame(approx18).sort_values(by=[0], ascending=False)\n",
        "exact18_results = pd.DataFrame(exact18).sort_values(by=[0], ascending=False)\n",
        "\n",
        "### Best simple regret minimization IQR - approx:\n",
        "lower_approx18 = np.asarray(approx18_results[4:5][0])[0]\n",
        "median_approx18 = np.asarray(approx18_results[9:10][0])[0]\n",
        "upper_approx18 = np.asarray(approx18_results[14:15][0])[0]\n",
        "\n",
        "lower_exact18 = np.asarray(exact18_results[4:5][0])[0]\n",
        "median_exact18 = np.asarray(exact18_results[9:10][0])[0]\n",
        "upper_exact18 = np.asarray(exact18_results[14:15][0])[0]"
      ]
    },
    {
      "cell_type": "code",
      "execution_count": 92,
      "metadata": {
        "id": "SqiaOpB7Qxf9"
      },
      "outputs": [],
      "source": [
        "# Iteration9 :\n",
        "\n",
        "slice9 = 8\n",
        "\n",
        "approx9 = [simple_regret_approx_1[slice9],\n",
        "       simple_regret_approx_2[slice9],\n",
        "       simple_regret_approx_3[slice9],\n",
        "       simple_regret_approx_4[slice9],\n",
        "       simple_regret_approx_5[slice9],\n",
        "       simple_regret_approx_6[slice9],\n",
        "       simple_regret_approx_7[slice9],\n",
        "       simple_regret_approx_8[slice9],\n",
        "       simple_regret_approx_9[slice9],\n",
        "       simple_regret_approx_10[slice9],\n",
        "       simple_regret_approx_11[slice9],\n",
        "       simple_regret_approx_12[slice9],\n",
        "       simple_regret_approx_13[slice9],\n",
        "       simple_regret_approx_14[slice9],\n",
        "       simple_regret_approx_15[slice9],\n",
        "       simple_regret_approx_16[slice9],\n",
        "       simple_regret_approx_17[slice9],\n",
        "       simple_regret_approx_18[slice9],\n",
        "       simple_regret_approx_19[slice9],\n",
        "       simple_regret_approx_20[slice9]]\n",
        "\n",
        "exact9 = [simple_regret_exact_1[slice9],\n",
        "       simple_regret_exact_2[slice9],\n",
        "       simple_regret_exact_3[slice9],\n",
        "       simple_regret_exact_4[slice9],\n",
        "       simple_regret_exact_5[slice9],\n",
        "       simple_regret_exact_6[slice9],\n",
        "       simple_regret_exact_7[slice9],\n",
        "       simple_regret_exact_8[slice9],\n",
        "       simple_regret_exact_9[slice9],\n",
        "       simple_regret_exact_10[slice9],\n",
        "       simple_regret_exact_11[slice9],\n",
        "       simple_regret_exact_12[slice9],\n",
        "       simple_regret_exact_13[slice9],\n",
        "       simple_regret_exact_14[slice9],\n",
        "       simple_regret_exact_15[slice9],\n",
        "       simple_regret_exact_16[slice9],\n",
        "       simple_regret_exact_17[slice9],\n",
        "       simple_regret_exact_18[slice9],\n",
        "       simple_regret_exact_19[slice9],\n",
        "       simple_regret_exact_20[slice9]]\n",
        "\n",
        "approx9_results = pd.DataFrame(approx9).sort_values(by=[0], ascending=False)\n",
        "exact9_results = pd.DataFrame(exact9).sort_values(by=[0], ascending=False)\n",
        "\n",
        "### Best simple regret minimization IQR - approx:\n",
        "lower_approx9 = np.asarray(approx9_results[4:5][0])[0]\n",
        "median_approx9 = np.asarray(approx9_results[9:10][0])[0]\n",
        "upper_approx9 = np.asarray(approx9_results[14:15][0])[0]\n",
        "\n",
        "lower_exact9 = np.asarray(exact9_results[4:5][0])[0]\n",
        "median_exact9 = np.asarray(exact9_results[9:10][0])[0]\n",
        "upper_exact9 = np.asarray(exact9_results[14:15][0])[0]"
      ]
    },
    {
      "cell_type": "code",
      "execution_count": 93,
      "metadata": {
        "id": "OQkCCOsPQxf9"
      },
      "outputs": [],
      "source": [
        "# Iteration19 :\n",
        "\n",
        "slice19 = 18\n",
        "\n",
        "approx19 = [simple_regret_approx_1[slice19],\n",
        "       simple_regret_approx_2[slice19],\n",
        "       simple_regret_approx_3[slice19],\n",
        "       simple_regret_approx_4[slice19],\n",
        "       simple_regret_approx_5[slice19],\n",
        "       simple_regret_approx_6[slice19],\n",
        "       simple_regret_approx_7[slice19],\n",
        "       simple_regret_approx_8[slice19],\n",
        "       simple_regret_approx_9[slice19],\n",
        "       simple_regret_approx_10[slice19],\n",
        "       simple_regret_approx_11[slice19],\n",
        "       simple_regret_approx_12[slice19],\n",
        "       simple_regret_approx_13[slice19],\n",
        "       simple_regret_approx_14[slice19],\n",
        "       simple_regret_approx_15[slice19],\n",
        "       simple_regret_approx_16[slice19],\n",
        "       simple_regret_approx_17[slice19],\n",
        "       simple_regret_approx_18[slice19],\n",
        "       simple_regret_approx_19[slice19],\n",
        "       simple_regret_approx_20[slice19]]\n",
        "\n",
        "exact19 = [simple_regret_exact_1[slice19],\n",
        "       simple_regret_exact_2[slice19],\n",
        "       simple_regret_exact_3[slice19],\n",
        "       simple_regret_exact_4[slice19],\n",
        "       simple_regret_exact_5[slice19],\n",
        "       simple_regret_exact_6[slice19],\n",
        "       simple_regret_exact_7[slice19],\n",
        "       simple_regret_exact_8[slice19],\n",
        "       simple_regret_exact_9[slice19],\n",
        "       simple_regret_exact_10[slice19],\n",
        "       simple_regret_exact_11[slice19],\n",
        "       simple_regret_exact_12[slice19],\n",
        "       simple_regret_exact_13[slice19],\n",
        "       simple_regret_exact_14[slice19],\n",
        "       simple_regret_exact_15[slice19],\n",
        "       simple_regret_exact_16[slice19],\n",
        "       simple_regret_exact_17[slice19],\n",
        "       simple_regret_exact_18[slice19],\n",
        "       simple_regret_exact_19[slice19],\n",
        "       simple_regret_exact_20[slice19]]\n",
        "\n",
        "approx19_results = pd.DataFrame(approx19).sort_values(by=[0], ascending=False)\n",
        "exact19_results = pd.DataFrame(exact19).sort_values(by=[0], ascending=False)\n",
        "\n",
        "### Best simple regret minimization IQR - approx:\n",
        "lower_approx19 = np.asarray(approx19_results[4:5][0])[0]\n",
        "median_approx19 = np.asarray(approx19_results[9:10][0])[0]\n",
        "upper_approx19 = np.asarray(approx19_results[14:15][0])[0]\n",
        "\n",
        "lower_exact19 = np.asarray(exact19_results[4:5][0])[0]\n",
        "median_exact19 = np.asarray(exact19_results[9:10][0])[0]\n",
        "upper_exact19 = np.asarray(exact19_results[14:15][0])[0]"
      ]
    },
    {
      "cell_type": "code",
      "execution_count": 94,
      "metadata": {
        "id": "h4vtWahcQxf-"
      },
      "outputs": [],
      "source": [
        "# Iteration10 :\n",
        "\n",
        "slice10 = 9\n",
        "\n",
        "approx10 = [simple_regret_approx_1[slice10],\n",
        "       simple_regret_approx_2[slice10],\n",
        "       simple_regret_approx_3[slice10],\n",
        "       simple_regret_approx_4[slice10],\n",
        "       simple_regret_approx_5[slice10],\n",
        "       simple_regret_approx_6[slice10],\n",
        "       simple_regret_approx_7[slice10],\n",
        "       simple_regret_approx_8[slice10],\n",
        "       simple_regret_approx_9[slice10],\n",
        "       simple_regret_approx_10[slice10],\n",
        "       simple_regret_approx_11[slice10],\n",
        "       simple_regret_approx_12[slice10],\n",
        "       simple_regret_approx_13[slice10],\n",
        "       simple_regret_approx_14[slice10],\n",
        "       simple_regret_approx_15[slice10],\n",
        "       simple_regret_approx_16[slice10],\n",
        "       simple_regret_approx_17[slice10],\n",
        "       simple_regret_approx_18[slice10],\n",
        "       simple_regret_approx_19[slice10],\n",
        "       simple_regret_approx_20[slice10]]\n",
        "\n",
        "exact10 = [simple_regret_exact_1[slice10],\n",
        "       simple_regret_exact_2[slice10],\n",
        "       simple_regret_exact_3[slice10],\n",
        "       simple_regret_exact_4[slice10],\n",
        "       simple_regret_exact_5[slice10],\n",
        "       simple_regret_exact_6[slice10],\n",
        "       simple_regret_exact_7[slice10],\n",
        "       simple_regret_exact_8[slice10],\n",
        "       simple_regret_exact_9[slice10],\n",
        "       simple_regret_exact_10[slice10],\n",
        "       simple_regret_exact_11[slice10],\n",
        "       simple_regret_exact_12[slice10],\n",
        "       simple_regret_exact_13[slice10],\n",
        "       simple_regret_exact_14[slice10],\n",
        "       simple_regret_exact_15[slice10],\n",
        "       simple_regret_exact_16[slice10],\n",
        "       simple_regret_exact_17[slice10],\n",
        "       simple_regret_exact_18[slice10],\n",
        "       simple_regret_exact_19[slice10],\n",
        "       simple_regret_exact_20[slice10]]\n",
        "\n",
        "approx10_results = pd.DataFrame(approx10).sort_values(by=[0], ascending=False)\n",
        "exact10_results = pd.DataFrame(exact10).sort_values(by=[0], ascending=False)\n",
        "\n",
        "### Best simple regret minimization IQR - approx:\n",
        "lower_approx10 = np.asarray(approx10_results[4:5][0])[0]\n",
        "median_approx10 = np.asarray(approx10_results[9:10][0])[0]\n",
        "upper_approx10 = np.asarray(approx10_results[14:15][0])[0]\n",
        "\n",
        "lower_exact10 = np.asarray(exact10_results[4:5][0])[0]\n",
        "median_exact10 = np.asarray(exact10_results[9:10][0])[0]\n",
        "upper_exact10 = np.asarray(exact10_results[14:15][0])[0]"
      ]
    },
    {
      "cell_type": "code",
      "execution_count": 95,
      "metadata": {
        "id": "Rsf240pWQxf-"
      },
      "outputs": [],
      "source": [
        "# Iteration20 :\n",
        "\n",
        "slice20 = 19\n",
        "\n",
        "approx20 = [simple_regret_approx_1[slice20],\n",
        "       simple_regret_approx_2[slice20],\n",
        "       simple_regret_approx_3[slice20],\n",
        "       simple_regret_approx_4[slice20],\n",
        "       simple_regret_approx_5[slice20],\n",
        "       simple_regret_approx_6[slice20],\n",
        "       simple_regret_approx_7[slice20],\n",
        "       simple_regret_approx_8[slice20],\n",
        "       simple_regret_approx_9[slice20],\n",
        "       simple_regret_approx_10[slice20],\n",
        "       simple_regret_approx_11[slice20],\n",
        "       simple_regret_approx_12[slice20],\n",
        "       simple_regret_approx_13[slice20],\n",
        "       simple_regret_approx_14[slice20],\n",
        "       simple_regret_approx_15[slice20],\n",
        "       simple_regret_approx_16[slice20],\n",
        "       simple_regret_approx_17[slice20],\n",
        "       simple_regret_approx_18[slice20],\n",
        "       simple_regret_approx_19[slice20],\n",
        "       simple_regret_approx_20[slice20]]\n",
        "\n",
        "exact20 = [simple_regret_exact_1[slice20],\n",
        "       simple_regret_exact_2[slice20],\n",
        "       simple_regret_exact_3[slice20],\n",
        "       simple_regret_exact_4[slice20],\n",
        "       simple_regret_exact_5[slice20],\n",
        "       simple_regret_exact_6[slice20],\n",
        "       simple_regret_exact_7[slice20],\n",
        "       simple_regret_exact_8[slice20],\n",
        "       simple_regret_exact_9[slice20],\n",
        "       simple_regret_exact_10[slice20],\n",
        "       simple_regret_exact_11[slice20],\n",
        "       simple_regret_exact_12[slice20],\n",
        "       simple_regret_exact_13[slice20],\n",
        "       simple_regret_exact_14[slice20],\n",
        "       simple_regret_exact_15[slice20],\n",
        "       simple_regret_exact_16[slice20],\n",
        "       simple_regret_exact_17[slice20],\n",
        "       simple_regret_exact_18[slice20],\n",
        "       simple_regret_exact_19[slice20],\n",
        "       simple_regret_exact_20[slice20]]\n",
        "\n",
        "approx20_results = pd.DataFrame(approx20).sort_values(by=[0], ascending=False)\n",
        "exact20_results = pd.DataFrame(exact20).sort_values(by=[0], ascending=False)\n",
        "\n",
        "### Best simple regret minimization IQR - approx:\n",
        "lower_approx20 = np.asarray(approx20_results[4:5][0])[0]\n",
        "median_approx20 = np.asarray(approx20_results[9:10][0])[0]\n",
        "upper_approx20 = np.asarray(approx20_results[14:15][0])[0]\n",
        "\n",
        "lower_exact20 = np.asarray(exact20_results[4:5][0])[0]\n",
        "median_exact20 = np.asarray(exact20_results[9:10][0])[0]\n",
        "upper_exact20 = np.asarray(exact20_results[14:15][0])[0]"
      ]
    },
    {
      "cell_type": "code",
      "execution_count": 96,
      "metadata": {
        "id": "gn36RejbQxf_"
      },
      "outputs": [],
      "source": [
        "### Summarize arrays: 'Loser'\n",
        "\n",
        "lower_approx = [lower_approx1,\n",
        "            lower_approx2,\n",
        "            lower_approx3,\n",
        "            lower_approx4,\n",
        "            lower_approx5,\n",
        "            lower_approx6,\n",
        "            lower_approx7,\n",
        "            lower_approx8,\n",
        "            lower_approx9,\n",
        "            lower_approx10,\n",
        "            lower_approx11,\n",
        "            lower_approx12,\n",
        "            lower_approx13,\n",
        "            lower_approx14,\n",
        "            lower_approx15,\n",
        "            lower_approx16,\n",
        "            lower_approx17,\n",
        "            lower_approx18,\n",
        "            lower_approx19,\n",
        "            lower_approx20,\n",
        "            lower_approx21]\n",
        "\n",
        "median_approx = [median_approx1,\n",
        "            median_approx2,\n",
        "            median_approx3,\n",
        "            median_approx4,\n",
        "            median_approx5,\n",
        "            median_approx6,\n",
        "            median_approx7,\n",
        "            median_approx8,\n",
        "            median_approx9,\n",
        "            median_approx10,\n",
        "            median_approx11,\n",
        "            median_approx12,\n",
        "            median_approx13,\n",
        "            median_approx14,\n",
        "            median_approx15,\n",
        "            median_approx16,\n",
        "            median_approx17,\n",
        "            median_approx18,\n",
        "            median_approx19,\n",
        "            median_approx20,\n",
        "            median_approx21]\n",
        "\n",
        "upper_approx = [upper_approx1,\n",
        "            upper_approx2,\n",
        "            upper_approx3,\n",
        "            upper_approx4,\n",
        "            upper_approx5,\n",
        "            upper_approx6,\n",
        "            upper_approx7,\n",
        "            upper_approx8,\n",
        "            upper_approx9,\n",
        "            upper_approx10,\n",
        "            upper_approx11,\n",
        "            upper_approx12,\n",
        "            upper_approx13,\n",
        "            upper_approx14,\n",
        "            upper_approx15,\n",
        "            upper_approx16,\n",
        "            upper_approx17,\n",
        "            upper_approx18,\n",
        "            upper_approx19,\n",
        "            upper_approx20,\n",
        "            upper_approx21]"
      ]
    },
    {
      "cell_type": "code",
      "execution_count": 97,
      "metadata": {
        "id": "wxtGTOYfQxf_"
      },
      "outputs": [],
      "source": [
        "### Summarize arrays: 'exact'\n",
        "\n",
        "lower_exact = [lower_exact1,\n",
        "            lower_exact2,\n",
        "            lower_exact3,\n",
        "            lower_exact4,\n",
        "            lower_exact5,\n",
        "            lower_exact6,\n",
        "            lower_exact7,\n",
        "            lower_exact8,\n",
        "            lower_exact9,\n",
        "            lower_exact10,\n",
        "            lower_exact11,\n",
        "            lower_exact12,\n",
        "            lower_exact13,\n",
        "            lower_exact14,\n",
        "            lower_exact15,\n",
        "            lower_exact16,\n",
        "            lower_exact17,\n",
        "            lower_exact18,\n",
        "            lower_exact19,\n",
        "            lower_exact20,\n",
        "            lower_exact21]\n",
        "\n",
        "median_exact = [median_exact1,\n",
        "            median_exact2,\n",
        "            median_exact3,\n",
        "            median_exact4,\n",
        "            median_exact5,\n",
        "            median_exact6,\n",
        "            median_exact7,\n",
        "            median_exact8,\n",
        "            median_exact9,\n",
        "            median_exact10,\n",
        "            median_exact11,\n",
        "            median_exact12,\n",
        "            median_exact13,\n",
        "            median_exact14,\n",
        "            median_exact15,\n",
        "            median_exact16,\n",
        "            median_exact17,\n",
        "            median_exact18,\n",
        "            median_exact19,\n",
        "            median_exact20,\n",
        "            median_exact21]\n",
        "\n",
        "upper_exact = [upper_exact1,\n",
        "            upper_exact2,\n",
        "            upper_exact3,\n",
        "            upper_exact4,\n",
        "            upper_exact5,\n",
        "            upper_exact6,\n",
        "            upper_exact7,\n",
        "            upper_exact8,\n",
        "            upper_exact9,\n",
        "            upper_exact10,\n",
        "            upper_exact11,\n",
        "            upper_exact12,\n",
        "            upper_exact13,\n",
        "            upper_exact14,\n",
        "            upper_exact15,\n",
        "            upper_exact16,\n",
        "            upper_exact17,\n",
        "            upper_exact18,\n",
        "            upper_exact19,\n",
        "            upper_exact20,\n",
        "            upper_exact21]"
      ]
    },
    {
      "cell_type": "code",
      "execution_count": 98,
      "metadata": {
        "id": "2MONq-BXQxgA",
        "colab": {
          "base_uri": "https://localhost:8080/",
          "height": 299
        },
        "outputId": "95ff66de-4e81-4942-9dc9-ad4981bf92a4"
      },
      "outputs": [
        {
          "output_type": "display_data",
          "data": {
            "text/plain": [
              "<Figure size 432x288 with 1 Axes>"
            ],
            "image/png": "[encoded data removed]"
          },
          "metadata": {
            "needs_background": "light"
          }
        }
      ],
      "source": [
        "### Visualise!\n",
        "\n",
        "title = func\n",
        "plt.figure()\n",
        "\n",
        "plt.plot(median_approx, color = 'Purple', ls='--')\n",
        "plt.plot(median_exact, color = 'Orange', ls='--')\n",
        "\n",
        "xstar = np.arange(0, iters+1, step=1)\n",
        "plt.fill_between(xstar, lower_approx, upper_approx, facecolor = 'Purple', alpha=0.4, label='STP CBM Optimisation: Approx STP CBM gradients ' r'($\\nu$' ' = {})'.format(df))\n",
        "plt.fill_between(xstar, lower_exact, upper_exact, facecolor = 'Orange', alpha=0.4, label='STP CBM Optimisation: Exact STP dCBM gradients ' r'($\\nu$' ' = {})'.format(df))\n",
        "\n",
        "plt.title(title, weight = 'bold')\n",
        "plt.xlabel('(Post-initialisation) iteration $\\it{k}$', weight = 'bold')\n",
        "plt.ylabel('log(Regret)', weight = 'bold') \n",
        "plt.legend(loc=0) # add plot legend\n",
        "\n",
        "### Make the x-ticks integers, not floats:\n",
        "count = len(xstar)\n",
        "plt.xticks(np.arange(count), np.arange(0, count))\n",
        "plt.show() #visualize!"
      ]
    },
    {
      "cell_type": "code",
      "execution_count": 99,
      "metadata": {
        "id": "l5dkR2Id2oiu",
        "colab": {
          "base_uri": "https://localhost:8080/"
        },
        "outputId": "239c0518-e685-47ef-a7f5-82aa38269424"
      },
      "outputs": [
        {
          "output_type": "execute_result",
          "data": {
            "text/plain": [
              "(868.0836992263794, 773.7816033363342)"
            ]
          },
          "metadata": {},
          "execution_count": 99
        }
      ],
      "source": [
        "time_approx, time_exact\n"
      ]
    },
    {
      "cell_type": "code",
      "execution_count": 100,
      "metadata": {
        "id": "uwxv4dmfGsLr",
        "colab": {
          "base_uri": "https://localhost:8080/"
        },
        "outputId": "c0018f78-aa9f-43cd-b507-3b50b0e23df0"
      },
      "outputs": [
        {
          "output_type": "execute_result",
          "data": {
            "text/plain": [
              "(1.583424658411598, 1.7835555488996602)"
            ]
          },
          "metadata": {},
          "execution_count": 100
        }
      ],
      "source": [
        "### acqFunc attribute x, stddev: run number = 1\n",
        "\n",
        "acqFuncApprox_exact_1 = acqFuncApprox(exact_1.history)\n",
        "acqFuncExact_exact_1 = acqFuncExact(exact_1.history)\n",
        "\n",
        "e1 = np.mean(acqFuncExact_exact_1)\n",
        "a1 = np.mean(acqFuncApprox_exact_1)\n",
        "\n",
        "e1, a1\n"
      ]
    },
    {
      "cell_type": "code",
      "execution_count": 101,
      "metadata": {
        "id": "0YSV00_pGsXe",
        "colab": {
          "base_uri": "https://localhost:8080/"
        },
        "outputId": "b6d68120-bd6e-4a65-827b-8a8b3ccb36f4"
      },
      "outputs": [
        {
          "output_type": "execute_result",
          "data": {
            "text/plain": [
              "(1.2042786078993903, 1.6291480868854786)"
            ]
          },
          "metadata": {},
          "execution_count": 101
        }
      ],
      "source": [
        "### acqFunc attribute x, stddev: run number = 2\n",
        "\n",
        "acqFuncApprox_exact_2 = acqFuncApprox(exact_2.history)\n",
        "acqFuncExact_exact_2 = acqFuncExact(exact_2.history)\n",
        "\n",
        "e2 = np.mean(acqFuncExact_exact_2)\n",
        "a2 = np.mean(acqFuncApprox_exact_2)\n",
        "\n",
        "e2, a2\n"
      ]
    },
    {
      "cell_type": "code",
      "execution_count": 102,
      "metadata": {
        "id": "HHVmsd2UGsjT",
        "colab": {
          "base_uri": "https://localhost:8080/"
        },
        "outputId": "d34b8811-d295-4125-ba1f-96302f450990"
      },
      "outputs": [
        {
          "output_type": "execute_result",
          "data": {
            "text/plain": [
              "(1.6873035331555684, 1.971816412617097)"
            ]
          },
          "metadata": {},
          "execution_count": 102
        }
      ],
      "source": [
        "### acqFunc attribute x, stddev: run number = 3\n",
        "\n",
        "acqFuncApprox_exact_3 = acqFuncApprox(exact_3.history)\n",
        "acqFuncExact_exact_3 = acqFuncExact(exact_3.history)\n",
        "\n",
        "e3 = np.mean(acqFuncExact_exact_3)\n",
        "a3 = np.mean(acqFuncApprox_exact_3)\n",
        "\n",
        "e3, a3\n"
      ]
    },
    {
      "cell_type": "code",
      "execution_count": 103,
      "metadata": {
        "id": "r7O19S2eGsu7",
        "colab": {
          "base_uri": "https://localhost:8080/"
        },
        "outputId": "ded9a878-0fb9-4cac-ef3c-2a20f1b196c7"
      },
      "outputs": [
        {
          "output_type": "execute_result",
          "data": {
            "text/plain": [
              "(1.30386884789009, 1.5252332392361716)"
            ]
          },
          "metadata": {},
          "execution_count": 103
        }
      ],
      "source": [
        "### acqFunc attribute x, stddev: run number = 4\n",
        "\n",
        "acqFuncApprox_exact_4 = acqFuncApprox(exact_4.history)\n",
        "acqFuncExact_exact_4 = acqFuncExact(exact_4.history)\n",
        "\n",
        "e4 = np.mean(acqFuncExact_exact_4)\n",
        "a4 = np.mean(acqFuncApprox_exact_4)\n",
        "\n",
        "e4, a4\n"
      ]
    },
    {
      "cell_type": "code",
      "execution_count": 104,
      "metadata": {
        "id": "sdb9o6NuGs5m",
        "colab": {
          "base_uri": "https://localhost:8080/"
        },
        "outputId": "b8bc7c76-1b3f-4337-97ab-fdd8df0b047f"
      },
      "outputs": [
        {
          "output_type": "execute_result",
          "data": {
            "text/plain": [
              "(1.2056474770924155, 1.6579684674242372)"
            ]
          },
          "metadata": {},
          "execution_count": 104
        }
      ],
      "source": [
        "### acqFunc attribute x, stddev: run number = 5\n",
        "\n",
        "acqFuncApprox_exact_5 = acqFuncApprox(exact_5.history)\n",
        "acqFuncExact_exact_5 = acqFuncExact(exact_5.history)\n",
        "\n",
        "e5 = np.mean(acqFuncExact_exact_5)\n",
        "a5 = np.mean(acqFuncApprox_exact_5)\n",
        "\n",
        "e5, a5\n"
      ]
    },
    {
      "cell_type": "code",
      "execution_count": 105,
      "metadata": {
        "id": "COQl7LZ8GtE0",
        "colab": {
          "base_uri": "https://localhost:8080/"
        },
        "outputId": "da03d05b-7da4-4a69-a0bd-965673c9f228"
      },
      "outputs": [
        {
          "output_type": "execute_result",
          "data": {
            "text/plain": [
              "(1.4563896141891213, 1.80566479061538)"
            ]
          },
          "metadata": {},
          "execution_count": 105
        }
      ],
      "source": [
        "### acqFunc attribute x, stddev: run number = 6\n",
        "\n",
        "acqFuncApprox_exact_6 = acqFuncApprox(exact_6.history)\n",
        "acqFuncExact_exact_6 = acqFuncExact(exact_6.history)\n",
        "\n",
        "e6 = np.mean(acqFuncExact_exact_6)\n",
        "a6 = np.mean(acqFuncApprox_exact_6)\n",
        "\n",
        "e6, a6\n"
      ]
    },
    {
      "cell_type": "code",
      "execution_count": 106,
      "metadata": {
        "id": "2gy9EtTzGtP7",
        "colab": {
          "base_uri": "https://localhost:8080/"
        },
        "outputId": "092c34e7-d685-4daa-863b-5c564f78fd90"
      },
      "outputs": [
        {
          "output_type": "execute_result",
          "data": {
            "text/plain": [
              "(1.2867438981305603, 1.7288500723860658)"
            ]
          },
          "metadata": {},
          "execution_count": 106
        }
      ],
      "source": [
        "### acqFunc attribute x, stddev: run number = 7\n",
        "\n",
        "acqFuncApprox_exact_7 = acqFuncApprox(exact_7.history)\n",
        "acqFuncExact_exact_7 = acqFuncExact(exact_7.history)\n",
        "\n",
        "e7 = np.mean(acqFuncExact_exact_7)\n",
        "a7 = np.mean(acqFuncApprox_exact_7)\n",
        "\n",
        "e7, a7\n"
      ]
    },
    {
      "cell_type": "code",
      "execution_count": 107,
      "metadata": {
        "id": "S7mn0qoMGtbM",
        "colab": {
          "base_uri": "https://localhost:8080/"
        },
        "outputId": "0b6b50f9-489a-4c58-856e-67f0582e0cec"
      },
      "outputs": [
        {
          "output_type": "execute_result",
          "data": {
            "text/plain": [
              "(1.6100966568382364, 1.8674735723914875)"
            ]
          },
          "metadata": {},
          "execution_count": 107
        }
      ],
      "source": [
        "### acqFunc attribute x, stddev: run number = 8\n",
        "\n",
        "acqFuncApprox_exact_8 = acqFuncApprox(exact_8.history)\n",
        "acqFuncExact_exact_8 = acqFuncExact(exact_8.history)\n",
        "\n",
        "e8 = np.mean(acqFuncExact_exact_8)\n",
        "a8 = np.mean(acqFuncApprox_exact_8)\n",
        "\n",
        "e8, a8\n"
      ]
    },
    {
      "cell_type": "code",
      "execution_count": 108,
      "metadata": {
        "id": "BhljmkNxGtms",
        "colab": {
          "base_uri": "https://localhost:8080/"
        },
        "outputId": "318073c6-e673-4c2d-d33d-2ae340ad8e9e"
      },
      "outputs": [
        {
          "output_type": "execute_result",
          "data": {
            "text/plain": [
              "(1.1324066201217025, 1.6539816204256426)"
            ]
          },
          "metadata": {},
          "execution_count": 108
        }
      ],
      "source": [
        "### acqFunc attribute x, stddev: run number = 9\n",
        "\n",
        "acqFuncApprox_exact_9 = acqFuncApprox(exact_9.history)\n",
        "acqFuncExact_exact_9 = acqFuncExact(exact_9.history)\n",
        "\n",
        "e9 = np.mean(acqFuncExact_exact_9)\n",
        "a9 = np.mean(acqFuncApprox_exact_9)\n",
        "\n",
        "e9, a9\n"
      ]
    },
    {
      "cell_type": "code",
      "execution_count": 109,
      "metadata": {
        "id": "W5GZo6k3Gtx8",
        "colab": {
          "base_uri": "https://localhost:8080/"
        },
        "outputId": "0929e05d-008d-4c15-d772-994f132869bd"
      },
      "outputs": [
        {
          "output_type": "execute_result",
          "data": {
            "text/plain": [
              "(1.3468121930750159, 1.72332798782837)"
            ]
          },
          "metadata": {},
          "execution_count": 109
        }
      ],
      "source": [
        "### acqFunc attribute x, stddev: run number = 10\n",
        "\n",
        "acqFuncApprox_exact_10 = acqFuncApprox(exact_10.history)\n",
        "acqFuncExact_exact_10 = acqFuncExact(exact_10.history)\n",
        "\n",
        "e10 = np.mean(acqFuncExact_exact_10)\n",
        "a10 = np.mean(acqFuncApprox_exact_10)\n",
        "\n",
        "e10, a10\n"
      ]
    },
    {
      "cell_type": "code",
      "execution_count": 110,
      "metadata": {
        "id": "isKNhDk5Gt9D",
        "colab": {
          "base_uri": "https://localhost:8080/"
        },
        "outputId": "6cd104cb-f9be-4f22-8fd1-2ff6732f9c75"
      },
      "outputs": [
        {
          "output_type": "execute_result",
          "data": {
            "text/plain": [
              "(1.5858191543045421, 1.925007103402848)"
            ]
          },
          "metadata": {},
          "execution_count": 110
        }
      ],
      "source": [
        "### acqFunc attribute x, stddev: run number = 11\n",
        "\n",
        "acqFuncApprox_exact_11 = acqFuncApprox(exact_11.history)\n",
        "acqFuncExact_exact_11 = acqFuncExact(exact_11.history)\n",
        "\n",
        "e11 = np.mean(acqFuncExact_exact_11)\n",
        "a11 = np.mean(acqFuncApprox_exact_11)\n",
        "\n",
        "e11, a11\n"
      ]
    },
    {
      "cell_type": "code",
      "execution_count": 111,
      "metadata": {
        "id": "8ts-wrSuGuIm",
        "colab": {
          "base_uri": "https://localhost:8080/"
        },
        "outputId": "32364e7c-0123-4d94-a1ac-648095b14a5f"
      },
      "outputs": [
        {
          "output_type": "execute_result",
          "data": {
            "text/plain": [
              "(1.3108197677285849, 1.3907191621620227)"
            ]
          },
          "metadata": {},
          "execution_count": 111
        }
      ],
      "source": [
        "### acqFunc attribute x, stddev: run number = 12\n",
        "\n",
        "acqFuncApprox_exact_12 = acqFuncApprox(exact_12.history)\n",
        "acqFuncExact_exact_12 = acqFuncExact(exact_12.history)\n",
        "\n",
        "e12 = np.mean(acqFuncExact_exact_12)\n",
        "a12 = np.mean(acqFuncApprox_exact_12)\n",
        "\n",
        "e12, a12\n"
      ]
    },
    {
      "cell_type": "code",
      "execution_count": 112,
      "metadata": {
        "id": "n0drhEe3GuUL",
        "colab": {
          "base_uri": "https://localhost:8080/"
        },
        "outputId": "a27c58cf-74dd-40ed-b0c8-4fef60f39f5f"
      },
      "outputs": [
        {
          "output_type": "execute_result",
          "data": {
            "text/plain": [
              "(1.327068964506998, 1.613317977178312)"
            ]
          },
          "metadata": {},
          "execution_count": 112
        }
      ],
      "source": [
        "### acqFunc attribute x, stddev: run number = 13\n",
        "\n",
        "acqFuncApprox_exact_13 = acqFuncApprox(exact_13.history)\n",
        "acqFuncExact_exact_13 = acqFuncExact(exact_13.history)\n",
        "\n",
        "e13 = np.mean(acqFuncExact_exact_13)\n",
        "a13 = np.mean(acqFuncApprox_exact_13)\n",
        "\n",
        "e13, a13\n"
      ]
    },
    {
      "cell_type": "code",
      "execution_count": 113,
      "metadata": {
        "id": "R0W3MZaVGues",
        "colab": {
          "base_uri": "https://localhost:8080/"
        },
        "outputId": "79c70df0-32a2-4c0b-bcdc-a763871782be"
      },
      "outputs": [
        {
          "output_type": "execute_result",
          "data": {
            "text/plain": [
              "(1.7121398036261142, 1.74004621243428)"
            ]
          },
          "metadata": {},
          "execution_count": 113
        }
      ],
      "source": [
        "### acqFunc attribute x, stddev: run number = 14\n",
        "\n",
        "acqFuncApprox_exact_14 = acqFuncApprox(exact_14.history)\n",
        "acqFuncExact_exact_14 = acqFuncExact(exact_14.history)\n",
        "\n",
        "e14 = np.mean(acqFuncExact_exact_14)\n",
        "a14 = np.mean(acqFuncApprox_exact_14)\n",
        "\n",
        "e14, a14\n"
      ]
    },
    {
      "cell_type": "code",
      "execution_count": 114,
      "metadata": {
        "id": "DoXdDFHoGup-",
        "colab": {
          "base_uri": "https://localhost:8080/"
        },
        "outputId": "55afb6be-c980-425a-d968-c40118e0638c"
      },
      "outputs": [
        {
          "output_type": "execute_result",
          "data": {
            "text/plain": [
              "(1.695331461292098, 1.761757443617313)"
            ]
          },
          "metadata": {},
          "execution_count": 114
        }
      ],
      "source": [
        "### acqFunc attribute x, stddev: run number = 15\n",
        "\n",
        "acqFuncApprox_exact_15 = acqFuncApprox(exact_15.history)\n",
        "acqFuncExact_exact_15 = acqFuncExact(exact_15.history)\n",
        "\n",
        "e15 = np.mean(acqFuncExact_exact_15)\n",
        "a15 = np.mean(acqFuncApprox_exact_15)\n",
        "\n",
        "e15, a15\n"
      ]
    },
    {
      "cell_type": "code",
      "execution_count": 115,
      "metadata": {
        "id": "K_wAeqSoGu2j",
        "colab": {
          "base_uri": "https://localhost:8080/"
        },
        "outputId": "76388a12-fc91-41c4-f45c-20b0d32eb2f8"
      },
      "outputs": [
        {
          "output_type": "execute_result",
          "data": {
            "text/plain": [
              "(1.4746762358984526, 1.6489048945152855)"
            ]
          },
          "metadata": {},
          "execution_count": 115
        }
      ],
      "source": [
        "### acqFunc attribute x, stddev: run number = 16\n",
        "\n",
        "acqFuncApprox_exact_16 = acqFuncApprox(exact_16.history)\n",
        "acqFuncExact_exact_16 = acqFuncExact(exact_16.history)\n",
        "\n",
        "e16 = np.mean(acqFuncExact_exact_16)\n",
        "a16 = np.mean(acqFuncApprox_exact_16)\n",
        "\n",
        "e16, a16\n"
      ]
    },
    {
      "cell_type": "code",
      "execution_count": 116,
      "metadata": {
        "id": "n6zy78fjGvBT",
        "colab": {
          "base_uri": "https://localhost:8080/"
        },
        "outputId": "1d68d6fc-df29-4f12-ff03-c74fa00234d6"
      },
      "outputs": [
        {
          "output_type": "execute_result",
          "data": {
            "text/plain": [
              "(1.324002466937013, 1.7998021061211893)"
            ]
          },
          "metadata": {},
          "execution_count": 116
        }
      ],
      "source": [
        "### acqFunc attribute x, stddev: run number = 17\n",
        "\n",
        "acqFuncApprox_exact_17 = acqFuncApprox(exact_17.history)\n",
        "acqFuncExact_exact_17 = acqFuncExact(exact_17.history)\n",
        "\n",
        "e17 = np.mean(acqFuncExact_exact_17)\n",
        "a17 = np.mean(acqFuncApprox_exact_17)\n",
        "\n",
        "e17, a17\n"
      ]
    },
    {
      "cell_type": "code",
      "execution_count": 117,
      "metadata": {
        "id": "s_6_2K4iGvM-",
        "colab": {
          "base_uri": "https://localhost:8080/"
        },
        "outputId": "e9eb598b-b4a4-429d-c598-3f5c38b7679a"
      },
      "outputs": [
        {
          "output_type": "execute_result",
          "data": {
            "text/plain": [
              "(1.2616518572221869, 1.6811097164964033)"
            ]
          },
          "metadata": {},
          "execution_count": 117
        }
      ],
      "source": [
        "### acqFunc attribute x, stddev: run number = 18\n",
        "\n",
        "acqFuncApprox_exact_18 = acqFuncApprox(exact_18.history)\n",
        "acqFuncExact_exact_18 = acqFuncExact(exact_18.history)\n",
        "\n",
        "e18 = np.mean(acqFuncExact_exact_18)\n",
        "a18 = np.mean(acqFuncApprox_exact_18)\n",
        "\n",
        "e18, a18\n"
      ]
    },
    {
      "cell_type": "code",
      "execution_count": 118,
      "metadata": {
        "id": "o8oO8pdBGvYk",
        "colab": {
          "base_uri": "https://localhost:8080/"
        },
        "outputId": "0854d324-4302-406e-e885-ceb99734acc5"
      },
      "outputs": [
        {
          "output_type": "execute_result",
          "data": {
            "text/plain": [
              "(1.4159370983565078, 1.7626958484367201)"
            ]
          },
          "metadata": {},
          "execution_count": 118
        }
      ],
      "source": [
        "### acqFunc attribute x, stddev: run number = 19\n",
        "\n",
        "acqFuncApprox_exact_19 = acqFuncApprox(exact_19.history)\n",
        "acqFuncExact_exact_19 = acqFuncExact(exact_19.history)\n",
        "\n",
        "e19 = np.mean(acqFuncExact_exact_19)\n",
        "a19 = np.mean(acqFuncApprox_exact_19)\n",
        "\n",
        "e19, a19\n"
      ]
    },
    {
      "cell_type": "code",
      "execution_count": 119,
      "metadata": {
        "id": "b2w8oLc0IMzU",
        "colab": {
          "base_uri": "https://localhost:8080/"
        },
        "outputId": "1e72c903-9147-4ad0-f10d-5e32c6687ab3"
      },
      "outputs": [
        {
          "output_type": "execute_result",
          "data": {
            "text/plain": [
              "(1.2855225558970838, 1.7223491667502029)"
            ]
          },
          "metadata": {},
          "execution_count": 119
        }
      ],
      "source": [
        "### acqFunc attribute x, stddev: run number = 20\n",
        "\n",
        "acqFuncApprox_exact_20 = acqFuncApprox(exact_20.history)\n",
        "acqFuncExact_exact_20 = acqFuncExact(exact_20.history)\n",
        "\n",
        "e20 = np.mean(acqFuncExact_exact_20)\n",
        "a20 = np.mean(acqFuncApprox_exact_20)\n",
        "\n",
        "e20, a20\n"
      ]
    },
    {
      "cell_type": "code",
      "execution_count": 120,
      "metadata": {
        "id": "qAZs3yxMIZul",
        "colab": {
          "base_uri": "https://localhost:8080/"
        },
        "outputId": "d503fdde-4b51-49ca-ed73-99affadf98ea"
      },
      "outputs": [
        {
          "output_type": "execute_result",
          "data": {
            "text/plain": [
              "(1.4104970736286642, 1.7196364714912082)"
            ]
          },
          "metadata": {},
          "execution_count": 120
        }
      ],
      "source": [
        "### Summarize arrays: \n",
        "\n",
        "exact_stddev = np.sort([e1,e2,e3,e4,e5,e6,e7,e8,e9,e10,e11,e12,e13,e14,e15,e16,e17,e18,e19,e20])\n",
        "approx_stddev = np.sort([a1,a2,a3,a4,a5,a6,a7,a8,a9,a10,a11,a12,a13,a14,a15,a16,a17,a18,a19,a20])\n",
        "\n",
        "np.mean(exact_stddev), np.mean(approx_stddev)\n"
      ]
    },
    {
      "cell_type": "code",
      "execution_count": 121,
      "metadata": {
        "id": "e_kpqYcMIZxu",
        "colab": {
          "base_uri": "https://localhost:8080/",
          "height": 297
        },
        "outputId": "61f864d6-784d-47fb-ec92-3f9c8ef429d5"
      },
      "outputs": [
        {
          "output_type": "display_data",
          "data": {
            "text/plain": [
              "<Figure size 432x288 with 1 Axes>"
            ],
            "image/png": "[encoded data removed]"
          },
          "metadata": {
            "needs_background": "light"
          }
        }
      ],
      "source": [
        "### Visualise!\n",
        "\n",
        "title = func\n",
        "plt.figure()\n",
        "\n",
        "plt.plot(approx_stddev, color = 'Purple', ls='--', label='Average $\\sigma$, attribute $\\mathbf{x}$: Approx STP CBM gradients')\n",
        "plt.plot(exact_stddev, color = 'Orange', ls='-', label='Average $\\sigma$, attribute $\\mathbf{x}$: Exact STP dCBM gradients')\n",
        "\n",
        "plt.title(title, weight = 'bold')\n",
        "plt.xlabel('Function evaluations: iteration $\\it{k}$', weight = 'bold')\n",
        "plt.ylabel('STP CBM: Average $\\sigma$, attribute $\\mathbf{x}$', weight = 'bold') \n",
        "plt.legend(loc=0) # add plot legend\n",
        "\n",
        "### Make the x-ticks integers, not floats:\n",
        "count = len(xstar)\n",
        "plt.xticks(np.arange(count), np.arange(1, count))\n",
        "plt.show() #visualize!\n"
      ]
    },
    {
      "cell_type": "code",
      "execution_count": 121,
      "metadata": {
        "id": "LToGd4vZIZ3I"
      },
      "outputs": [],
      "source": []
    }
  ],
  "metadata": {
    "colab": {
      "collapsed_sections": [],
      "provenance": []
    },
    "kernelspec": {
      "display_name": "Python 3",
      "name": "python3"
    },
    "language_info": {
      "name": "python"
    }
  },
  "nbformat": 4,
  "nbformat_minor": 0
}