{
  "cells": [
    {
      "cell_type": "markdown",
      "metadata": {
        "id": "Dqn4dFx7Z2Ir"
      },
      "source": [
        "\n",
        "Rastrigin: 2D\n"
      ]
    },
    {
      "cell_type": "code",
      "execution_count": null,
      "metadata": {
        "colab": {
          "base_uri": "https://localhost:8080/"
        },
        "id": "MJTM_GZZZb5x",
        "outputId": "4fbca152-eec8-4acb-ae41-0f346d08dada"
      },
      "outputs": [
        {
          "output_type": "stream",
          "name": "stdout",
          "text": [
            "Looking in indexes: https://pypi.org/simple, https://us-python.pkg.dev/colab-wheels/public/simple/\n",
            "Collecting pyGPGO\n",
            "  Downloading pyGPGO-0.5.1.tar.gz (14 kB)\n",
            "Requirement already satisfied: numpy in /usr/local/lib/python3.7/dist-packages (from pyGPGO) (1.21.6)\n",
            "Requirement already satisfied: mkl in /usr/local/lib/python3.7/dist-packages (from pyGPGO) (2019.0)\n",
            "Requirement already satisfied: scipy in /usr/local/lib/python3.7/dist-packages (from pyGPGO) (1.7.3)\n",
            "Requirement already satisfied: joblib in /usr/local/lib/python3.7/dist-packages (from pyGPGO) (1.1.0)\n",
            "Requirement already satisfied: scikit-learn in /usr/local/lib/python3.7/dist-packages (from pyGPGO) (1.0.2)\n",
            "Collecting Theano-PyMC\n",
            "  Downloading Theano-PyMC-1.1.2.tar.gz (1.8 MB)\n",
            "\u001b[K     |████████████████████████████████| 1.8 MB 5.2 MB/s \n",
            "\u001b[?25hCollecting pyMC3\n",
            "  Downloading pymc3-3.11.5-py3-none-any.whl (872 kB)\n",
            "\u001b[K     |████████████████████████████████| 872 kB 54.1 MB/s \n",
            "\u001b[?25hRequirement already satisfied: intel-openmp in /usr/local/lib/python3.7/dist-packages (from mkl->pyGPGO) (2022.1.0)\n",
            "Requirement already satisfied: dill in /usr/local/lib/python3.7/dist-packages (from pyMC3->pyGPGO) (0.3.5.1)\n",
            "Requirement already satisfied: pandas>=0.24.0 in /usr/local/lib/python3.7/dist-packages (from pyMC3->pyGPGO) (1.3.5)\n",
            "Requirement already satisfied: fastprogress>=0.2.0 in /usr/local/lib/python3.7/dist-packages (from pyMC3->pyGPGO) (1.0.3)\n",
            "Requirement already satisfied: typing-extensions>=3.7.4 in /usr/local/lib/python3.7/dist-packages (from pyMC3->pyGPGO) (4.1.1)\n",
            "Collecting semver>=2.13.0\n",
            "  Downloading semver-2.13.0-py2.py3-none-any.whl (12 kB)\n",
            "Requirement already satisfied: cachetools>=4.2.1 in /usr/local/lib/python3.7/dist-packages (from pyMC3->pyGPGO) (4.2.4)\n",
            "Requirement already satisfied: arviz>=0.11.0 in /usr/local/lib/python3.7/dist-packages (from pyMC3->pyGPGO) (0.12.1)\n",
            "Requirement already satisfied: patsy>=0.5.1 in /usr/local/lib/python3.7/dist-packages (from pyMC3->pyGPGO) (0.5.2)\n",
            "Collecting deprecat\n",
            "  Downloading deprecat-2.1.1-py2.py3-none-any.whl (9.8 kB)\n",
            "Requirement already satisfied: filelock in /usr/local/lib/python3.7/dist-packages (from Theano-PyMC->pyGPGO) (3.8.0)\n",
            "Requirement already satisfied: setuptools>=38.4 in /usr/local/lib/python3.7/dist-packages (from arviz>=0.11.0->pyMC3->pyGPGO) (57.4.0)\n",
            "Requirement already satisfied: netcdf4 in /usr/local/lib/python3.7/dist-packages (from arviz>=0.11.0->pyMC3->pyGPGO) (1.6.0)\n",
            "Requirement already satisfied: xarray>=0.16.1 in /usr/local/lib/python3.7/dist-packages (from arviz>=0.11.0->pyMC3->pyGPGO) (0.20.2)\n",
            "Requirement already satisfied: packaging in /usr/local/lib/python3.7/dist-packages (from arviz>=0.11.0->pyMC3->pyGPGO) (21.3)\n",
            "Requirement already satisfied: matplotlib>=3.0 in /usr/local/lib/python3.7/dist-packages (from arviz>=0.11.0->pyMC3->pyGPGO) (3.2.2)\n",
            "Requirement already satisfied: xarray-einstats>=0.2 in /usr/local/lib/python3.7/dist-packages (from arviz>=0.11.0->pyMC3->pyGPGO) (0.2.2)\n",
            "Requirement already satisfied: python-dateutil>=2.1 in /usr/local/lib/python3.7/dist-packages (from matplotlib>=3.0->arviz>=0.11.0->pyMC3->pyGPGO) (2.8.2)\n",
            "Requirement already satisfied: cycler>=0.10 in /usr/local/lib/python3.7/dist-packages (from matplotlib>=3.0->arviz>=0.11.0->pyMC3->pyGPGO) (0.11.0)\n",
            "Requirement already satisfied: pyparsing!=2.0.4,!=2.1.2,!=2.1.6,>=2.0.1 in /usr/local/lib/python3.7/dist-packages (from matplotlib>=3.0->arviz>=0.11.0->pyMC3->pyGPGO) (3.0.9)\n",
            "Requirement already satisfied: kiwisolver>=1.0.1 in /usr/local/lib/python3.7/dist-packages (from matplotlib>=3.0->arviz>=0.11.0->pyMC3->pyGPGO) (1.4.4)\n",
            "Requirement already satisfied: pytz>=2017.3 in /usr/local/lib/python3.7/dist-packages (from pandas>=0.24.0->pyMC3->pyGPGO) (2022.2.1)\n",
            "Requirement already satisfied: six in /usr/local/lib/python3.7/dist-packages (from patsy>=0.5.1->pyMC3->pyGPGO) (1.15.0)\n",
            "Requirement already satisfied: importlib-metadata in /usr/local/lib/python3.7/dist-packages (from xarray>=0.16.1->arviz>=0.11.0->pyMC3->pyGPGO) (4.12.0)\n",
            "Requirement already satisfied: wrapt<2,>=1.10 in /usr/local/lib/python3.7/dist-packages (from deprecat->pyMC3->pyGPGO) (1.14.1)\n",
            "Requirement already satisfied: zipp>=0.5 in /usr/local/lib/python3.7/dist-packages (from importlib-metadata->xarray>=0.16.1->arviz>=0.11.0->pyMC3->pyGPGO) (3.8.1)\n",
            "Requirement already satisfied: cftime in /usr/local/lib/python3.7/dist-packages (from netcdf4->arviz>=0.11.0->pyMC3->pyGPGO) (1.6.1)\n",
            "Requirement already satisfied: threadpoolctl>=2.0.0 in /usr/local/lib/python3.7/dist-packages (from scikit-learn->pyGPGO) (3.1.0)\n",
            "Building wheels for collected packages: pyGPGO, Theano-PyMC\n",
            "  Building wheel for pyGPGO (setup.py) ... \u001b[?25l\u001b[?25hdone\n",
            "  Created wheel for pyGPGO: filename=pyGPGO-0.5.1-py3-none-any.whl size=19879 sha256=4b2a7b1075184333bddd4ff53d454718398d82926b2bebe6d789947741f35210\n",
            "  Stored in directory: /root/.cache/pip/wheels/c8/5d/0b/2160114e2f1b87791c51b66cf07f89831dbb6f49167950316f\n",
            "  Building wheel for Theano-PyMC (setup.py) ... \u001b[?25l\u001b[?25hdone\n",
            "  Created wheel for Theano-PyMC: filename=Theano_PyMC-1.1.2-py3-none-any.whl size=1529963 sha256=e8cb3eef3c2f0cec4679cd6b6e3aca314c39bf2f77ca583b662e274332d39921\n",
            "  Stored in directory: /root/.cache/pip/wheels/f3/af/8c/5dd7553522d74c52a7813806fc7ee1a9caa20a3f7c8fd850d5\n",
            "Successfully built pyGPGO Theano-PyMC\n",
            "Installing collected packages: Theano-PyMC, semver, deprecat, pyMC3, pyGPGO\n",
            "Successfully installed Theano-PyMC-1.1.2 deprecat-2.1.1 pyGPGO-0.5.1 pyMC3-3.11.5 semver-2.13.0\n"
          ]
        }
      ],
      "source": [
        "pip install pyGPGO\n"
      ]
    },
    {
      "cell_type": "code",
      "execution_count": null,
      "metadata": {
        "id": "ZJSSPbwPaEUB"
      },
      "outputs": [],
      "source": [
        "### Import:\n",
        "\n",
        "import numpy as np\n",
        "import scipy as sp\n",
        "import pandas as pd\n",
        "import matplotlib.pyplot as plt\n",
        "import warnings\n",
        "import itertools\n",
        "\n",
        "from pyGPGO.GPGO import GPGO\n",
        "from pyGPGO.surrogates.tStudentProcess import tStudentProcess\n",
        "from pyGPGO.acquisition import Acquisition\n",
        "from pyGPGO.covfunc import squaredExponential\n",
        "\n",
        "from joblib import Parallel, delayed\n",
        "from numpy.linalg import solve, cholesky\n",
        "from scipy.spatial.distance import cdist\n",
        "from scipy.optimize import minimize\n",
        "from scipy.stats import t\n",
        "import time\n",
        "\n",
        "warnings.filterwarnings(\"ignore\", category=RuntimeWarning)\n"
      ]
    },
    {
      "cell_type": "code",
      "execution_count": null,
      "metadata": {
        "id": "OeYcTUNoaJWa"
      },
      "outputs": [],
      "source": [
        "### Inputs:\n",
        "\n",
        "func = 'Rastrigin'\n",
        "n_test = 500\n",
        "eps = 1e-08\n",
        "\n",
        "util = 'CBM'\n",
        "\n",
        "n_init = 5 # random initialisations\n",
        "iters = 20\n",
        "opt = True\n",
        "\n",
        "df = 3"
      ]
    },
    {
      "cell_type": "code",
      "execution_count": null,
      "metadata": {
        "id": "xpaEOjdzaPMS"
      },
      "outputs": [],
      "source": [
        "### Objective Function - Rastrigin(x) 2-D:\n",
        "\n",
        "def objfunc(x1_training, x2_training):\n",
        "        return  operator * (10 * dim + x1_training** 2 - 10 * np.cos(2 * np.pi * x1_training)\n",
        "                                    + x2_training** 2 - 10 * np.cos(2 * np.pi * x2_training)\n",
        "                          )\n",
        "            \n",
        "# Constraints:\n",
        "lb = -5.12 \n",
        "ub = +5.12\n",
        "    \n",
        "# Input array dimension(s):\n",
        "dim = 2\n",
        "\n",
        "# 2-D inputs' parameter bounds:\n",
        "param = {'x1_training': ('cont', [lb, ub]),\n",
        "             'x2_training': ('cont', [lb, ub])}\n",
        "\n",
        "# True y bounds:\n",
        "operator = -1\n",
        "y_global_orig = 0 # targets global minimum\n",
        "\n",
        "# Test data:\n",
        "x1_test = np.linspace(lb, ub, n_test) \n",
        "x2_test = np.linspace(lb, ub, n_test)\n",
        "  \n",
        "x_test = np.column_stack((x1_test,x2_test))"
      ]
    },
    {
      "cell_type": "code",
      "execution_count": null,
      "metadata": {
        "id": "eYpI3Zm4aGxi"
      },
      "outputs": [],
      "source": [
        "n_start_AcqFunc = iters\n",
        "inverse = -1\n"
      ]
    },
    {
      "cell_type": "code",
      "execution_count": null,
      "metadata": {
        "id": "oO_GUmOoaV0T"
      },
      "outputs": [],
      "source": [
        "### Cumulative Regret Calculators:\n",
        "\n",
        "def min_max_array(x):\n",
        "    new_list = []\n",
        "    for i, num in enumerate(x):\n",
        "            new_list.append(np.min(x[0:i+1]))\n",
        "    return new_list\n",
        "  \n",
        "def acqFuncExact(x):\n",
        "    new_array = []\n",
        "    x = np.array(x) \n",
        "    for i, num in enumerate(x):\n",
        "            new_array = x[:-2][::-3]\n",
        "    return new_array[::-1]\n",
        "\n",
        "def acqFuncApprox(x):\n",
        "    new_array = []\n",
        "    x = np.array(x) \n",
        "    for i, num in enumerate(x):\n",
        "            new_array = x[:-1][::-3]\n",
        "    return new_array[::-1]\n"
      ]
    },
    {
      "cell_type": "code",
      "execution_count": null,
      "metadata": {
        "id": "kuuJx0IMam9S"
      },
      "outputs": [],
      "source": [
        "### Surrogate derivatives: \n",
        "\n",
        "cov_func = squaredExponential()\n",
        "\n",
        "def kronDelta(X, Xstar):                     # Kronecker's Delta method\n",
        "    return cdist(X, Xstar) < np.finfo(np.float32).eps\n",
        "\n",
        "def se(X, Xstar, sigmaf, l, sigman):         # S.E. kernel method\n",
        "    return sigmaf * np.exp(-0.5 * cdist(X, Xstar) ** 2 / l ** 2) + sigman * kronDelta(X, Xstar)\n",
        "\n",
        "def delta(X, Xstar):                         # Distance between training X and test Xstar vectors\n",
        "    return (X - Xstar)\n",
        "   \n",
        "def der_covmat(X, Xstar, sigmaf, l, sigman): # Covariance matrix derivative terms (i.e. exact, first-order)\n",
        "    nx = len(X)\n",
        "    ny = len(Xstar)\n",
        "    return np.round(np.array([(delta(np.atleast_2d(i), np.atleast_2d(j))[0] * se(np.atleast_2d(i), np.atleast_2d(j), sigmaf, l, sigman)[0]).sum() for (i, j) in itertools.product(X, Xstar)]).reshape(nx, ny), 8)\n",
        "\n",
        "class dtStudentProcess(tStudentProcess):    # Via inheritance, also optimises hyperparameters when opt = TRUE\n",
        "    \n",
        "    def AcqGrad(self, Xstar):               # Method returning exact, first-order derivatives of the STP's posterior mean and standard deviation\n",
        "        Xstar = np.atleast_2d(Xstar)\n",
        "        Kstar = self.covfunc.K(self.X, Xstar).T\n",
        "        dKstar = der_covmat(self.X, Xstar, self.covfunc.sigmaf, self.covfunc.l, self.covfunc.sigman).T\n",
        "        \n",
        "        smd_adj = (self.nu + self.beta1 - 2) / (self.nu + self.n1 - 2)\n",
        "\n",
        "        alpha = np.dot(np.linalg.inv(self.K11 + (self.covfunc.sigman**2) * np.eye(len(self.X))), self.y)\n",
        "        alpha_Kstar = np.dot(np.linalg.inv(self.K11 + (self.covfunc.sigman**2) * np.eye(len(self.X))), Kstar.T)      \n",
        "        \n",
        "        dm = np.dot(dKstar, alpha)\n",
        "        ds = -2 * smd_adj * np.dot(dKstar, alpha_Kstar)\n",
        "        \n",
        "        return dm, ds          \n"
      ]
    },
    {
      "cell_type": "code",
      "execution_count": null,
      "metadata": {
        "id": "_Dc3YVHVaXz7"
      },
      "outputs": [],
      "source": [
        "### Add exact acquisition function gradient as attribute:\n",
        "\n",
        "Beta_CBM = dim\n",
        "\n",
        "class Acquisition_grad(Acquisition):    \n",
        "    def __init__(self, mode, eps=eps, **params):\n",
        "        \n",
        "        self.params = params\n",
        "        self.eps = eps\n",
        "\n",
        "        mode_dict = {\n",
        "            'CBM': self.CBM\n",
        "        }\n",
        "\n",
        "        self.f = mode_dict[mode]\n",
        "    \n",
        "    def CBM(self, y_global_orig, mean, std, ds, dm, nu=3.0):\n",
        "        gamma = (mean - y_global_orig - self.eps) / (std + self.eps)\n",
        "        gamma_h = (mean - y_global_orig) / (std + self.eps)\n",
        "        dsdx = ds / (2 * (std + self.eps))\n",
        "        dmdx = (dm - gamma * dsdx) / (std + self.eps)\n",
        "\n",
        "        f = (std + self.eps) * (gamma + np.sqrt(Beta_CBM))\n",
        "        df = dsdx * (gamma + np.sqrt(Beta_CBM)) + (std + self.eps) * dmdx\n",
        "        df_arr = []\n",
        "\n",
        "        for j in range(0, dim):\n",
        "          df_arr.append(df)\n",
        "        return f, np.asarray(df_arr).transpose()\n",
        "\n",
        "        for j in range(0, dim):\n",
        "          df_arr.append(df)\n",
        "        return f, np.asarray(df_arr).transpose()\n",
        "        \n",
        "    def d_eval(self, y_global_orig, mean, std, ds, dm, nu=3.0):\n",
        "    \n",
        "        return self.f(y_global_orig, mean, std, ds, dm, nu=3.0, **self.params)\n",
        "        "
      ]
    },
    {
      "cell_type": "code",
      "execution_count": null,
      "metadata": {
        "id": "PITEQC8YSl7i"
      },
      "outputs": [],
      "source": [
        "## GPGO_multi: \n",
        "\n",
        "class GPGO_multi(GPGO):\n",
        "    n_start = n_start_AcqFunc\n",
        "\n",
        "    def __init__(self, surrogate, acquisition, f, parameter_dict, n_jobs=1):\n",
        "        self.GP = surrogate\n",
        "        self.A = acquisition\n",
        "        self.f = f\n",
        "        self.parameters = parameter_dict\n",
        "        self.n_jobs = n_jobs\n",
        "\n",
        "        self.parameter_key = list(parameter_dict.keys())\n",
        "        self.parameter_value = list(parameter_dict.values())\n",
        "        self.parameter_type = [p[0] for p in self.parameter_value]\n",
        "        self.parameter_range = [p[1] for p in self.parameter_value]\n",
        "\n",
        "        self.history = []\n",
        "        self.header =   'Evaluation \\t Proposed point \\t  Current eval. \\t  Best eval. \\t        Exact CBM: StdDev. x \\t Approx CBM: StdDev. x '\n",
        "        self.template = '{:3}\\t {}\\t {:3}\\t {:3}\\t {:3}\\t {:3}'\n",
        " \n",
        "    def acqfuncExact(self, xnew, n_start=n_start_AcqFunc):\n",
        "        new_mean, new_var = self.GP.predict(xnew, return_std=True)\n",
        "        new_std = np.sqrt(new_var + eps)\n",
        "        dm, ds = self.GP.AcqGrad(xnew)\n",
        "        f, df = self.A.d_eval(y_global_orig, new_mean, new_std, ds=ds, dm=dm, nu=3.0)\n",
        "\n",
        "        return -f, -df\n",
        "   \n",
        "    def acqfuncApprox(self, xnew, n_start=n_start_AcqFunc):\n",
        "        new_mean, new_var = self.GP.predict(xnew, return_std=True)\n",
        "        new_std = np.sqrt(new_var + eps)\n",
        "        dm, ds = self.GP.AcqGrad(xnew)\n",
        "        f, df = self.A.d_eval(y_global_orig, new_mean, new_std, ds=ds, dm=dm, nu=3.0)\n",
        "\n",
        "        return -f\n",
        "   \n",
        "    def _optimizeAcq(self, method='L-BFGS-B', n_start=n_start_AcqFunc):\n",
        "        \n",
        "        start_points_dict = [self._sampleParam() for i in range(n_start)]\n",
        "        start_points_arr = np.array([list(s.values())\n",
        "                                     for s in start_points_dict])\n",
        "        x_best = np.empty((n_start, len(self.parameter_key)))\n",
        "        f_best = np.empty((n_start,))\n",
        "        opt = Parallel(n_jobs=self.n_jobs)(delayed(minimize)(self.acqfuncApprox,\n",
        "                                                                 x0=start_point,\n",
        "                                                                 method=method,\n",
        "                                                                 jac = False,\n",
        "                                                                 bounds=self.parameter_range) for start_point in\n",
        "                                               start_points_arr)\n",
        "        x_best = np.array([res.x for res in opt])\n",
        "        f_best = np.array([np.atleast_1d(res.fun)[0] for res in opt])\n",
        "        f_best_min = min(f_best)\n",
        "\n",
        "        self.x_best = x_best\n",
        "        self.f_best = f_best\n",
        "        self.f_best_min = f_best_min\n",
        "        self.x_best_std = np.std(x_best)\n",
        "        self.best = x_best[np.argmin(f_best)]\n",
        "        self.start_points_arr = start_points_arr        \n",
        "        self.history.append(self.x_best_std)\n",
        "\n",
        "        x_best_exact = np.empty((n_start, len(self.parameter_key)))\n",
        "        f_best_exact = np.empty((n_start,))\n",
        "        opt_exact = Parallel(n_jobs=self.n_jobs)(delayed(minimize)(self.acqfuncExact,\n",
        "                                                                 x0=start_point,\n",
        "                                                                 method=method,\n",
        "                                                                 jac = True,\n",
        "                                                                 bounds=self.parameter_range) for start_point in\n",
        "                                               start_points_arr)\n",
        "        x_best_exact = np.array([res.x for res in opt_exact])\n",
        "        f_best_exact = np.array([np.atleast_1d(res.fun)[0] for res in opt_exact])\n",
        "        f_best_min_exact = min(f_best_exact)\n",
        "\n",
        "        self.x_best_exact = x_best_exact\n",
        "        self.f_best_exact = f_best_exact\n",
        "        self.f_best_min_exact = f_best_min_exact\n",
        "        self.x_best_std_exact = np.std(x_best_exact)\n",
        "        self.best_exact = x_best_exact[np.argmin(f_best_exact)]\n",
        "        self.start_points_arr = start_points_arr\n",
        "        self.history.append(self.x_best_std_exact)\n",
        "\n",
        "    def _printInit(self):\n",
        "        print(self.header)\n",
        "        for init_eval in range(self.init_evals):\n",
        "            print(self.template.format('init', self.GP.X[init_eval], inverse * self.GP.y[init_eval], inverse * self.tau, '', ''))\n",
        "      \n",
        "    def _printCurrent(self):\n",
        "        OKGREEN = '\\033[92m'\n",
        "        ENDC = '\\033[0m'\n",
        "        BOLD = '\\033[1m'\n",
        "        eval = str(len(self.GP.y) - self.init_evals)\n",
        "        proposed = str(self.best)\n",
        "        curr_eval = str(inverse * self.GP.y[-1])\n",
        "        curr_best = str(inverse * self.tau)\n",
        "        min_acqfunc = str(self.f_best_min)\n",
        "        min_acqfunc_exact = str(self.f_best_min_exact)\n",
        "        x_best_std = str(self.x_best_std)\n",
        "        x_best_std_exact = str(self.x_best_std_exact)\n",
        "        if float(curr_eval) <= float(curr_best):\n",
        "            eval = BOLD + OKGREEN + eval + ENDC\n",
        "            proposed = BOLD + OKGREEN + proposed + ENDC\n",
        "            curr_eval = BOLD + OKGREEN + curr_eval + ENDC\n",
        "            curr_best = BOLD + OKGREEN + curr_best + ENDC\n",
        "            x_best_std = BOLD + OKGREEN + x_best_std + ENDC\n",
        "            x_best_std_exact = BOLD + OKGREEN + x_best_std_exact + ENDC\n",
        "        print(self.template.format(eval, proposed, curr_eval, curr_best, x_best_std_exact, x_best_std))\n",
        "        \n",
        "    def run(self, max_iter=10, init_evals=3, resume=False):\n",
        "        \n",
        "        if not resume:\n",
        "            self.init_evals = init_evals\n",
        "            self._firstRun(self.init_evals)\n",
        "            self._printInit()\n",
        "        for iteration in range(max_iter):\n",
        "            self._optimizeAcq()\n",
        "            self.updateGP()\n",
        "            self._printCurrent()\n"
      ]
    },
    {
      "cell_type": "code",
      "execution_count": null,
      "metadata": {
        "id": "b_B-w81BJxKN"
      },
      "outputs": [],
      "source": [
        "## dGPGO:\n",
        "\n",
        "class dGPGO(GPGO):\n",
        "    n_start = n_start_AcqFunc\n",
        "\n",
        "    def __init__(self, surrogate, acquisition, f, parameter_dict, n_jobs=1):\n",
        "        self.GP = surrogate\n",
        "        self.A = acquisition\n",
        "        self.f = f\n",
        "        self.parameters = parameter_dict\n",
        "        self.n_jobs = n_jobs\n",
        "\n",
        "        self.parameter_key = list(parameter_dict.keys())\n",
        "        self.parameter_value = list(parameter_dict.values())\n",
        "        self.parameter_type = [p[0] for p in self.parameter_value]\n",
        "        self.parameter_range = [p[1] for p in self.parameter_value]\n",
        "\n",
        "        self.history = []\n",
        "        self.header =   'Evaluation \\t Proposed point \\t  Current eval. \\t  Best eval. \\t        Exact CBM: StdDev. x \\t Approx CBM: StdDev. x '\n",
        "        self.template = '{:3}\\t {}\\t {:3}\\t {:3}\\t {:3}\\t {:3}'\n",
        "\n",
        "    def acqfuncExact(self, xnew, n_start=n_start_AcqFunc):\n",
        "        new_mean, new_var = self.GP.predict(xnew, return_std=True)\n",
        "        new_std = np.sqrt(new_var + eps)\n",
        "        dm, ds = self.GP.AcqGrad(xnew)\n",
        "        f, df = self.A.d_eval(y_global_orig, new_mean, new_std, ds=ds, dm=dm, nu=3.0)\n",
        "\n",
        "        return -f, -df\n",
        "   \n",
        "    def acqfuncApprox(self, xnew, n_start=n_start_AcqFunc):\n",
        "        new_mean, new_var = self.GP.predict(xnew, return_std=True)\n",
        "        new_std = np.sqrt(new_var + eps)\n",
        "        dm, ds = self.GP.AcqGrad(xnew)\n",
        "        f, df = self.A.d_eval(y_global_orig, new_mean, new_std, ds=ds, dm=dm, nu=3.0)\n",
        "\n",
        "        return -f\n",
        "\n",
        "    def d_optimizeAcq(self, method='L-BFGS-B', n_start=n_start_AcqFunc):\n",
        "        start_points_dict = [self._sampleParam() for i in range(n_start)]\n",
        "        start_points_arr = np.array([list(s.values())\n",
        "                                     for s in start_points_dict])\n",
        "        x_best = np.empty((n_start, len(self.parameter_key)))\n",
        "        f_best = np.empty((n_start,))\n",
        "        opt = Parallel(n_jobs=self.n_jobs)(delayed(minimize)(self.acqfuncExact,\n",
        "                                                                 x0=start_point,\n",
        "                                                                 method=method,\n",
        "                                                                 jac = True,\n",
        "                                                                 bounds=self.parameter_range) for start_point in\n",
        "                                               start_points_arr)\n",
        "        x_best = np.array([res.x for res in opt])\n",
        "        f_best = np.array([np.atleast_1d(res.fun)[0] for res in opt])\n",
        "        f_best_min = min(f_best)\n",
        "\n",
        "        self.x_best = x_best\n",
        "        self.f_best = f_best\n",
        "        self.f_best_min = f_best_min\n",
        "        self.x_best_std = np.std(x_best)\n",
        "        self.best = x_best[np.argmin(f_best)]\n",
        "        self.start_points_arr = start_points_arr\n",
        "        self.history.append(self.x_best_std)\n",
        "\n",
        "        x_best_approx = np.empty((n_start, len(self.parameter_key)))\n",
        "        f_best_approx = np.empty((n_start,))\n",
        "        opt_approx = Parallel(n_jobs=self.n_jobs)(delayed(minimize)(self.acqfuncApprox,\n",
        "                                                                 x0=start_point,\n",
        "                                                                 method=method,\n",
        "                                                                 jac = False,\n",
        "                                                                 bounds=self.parameter_range) for start_point in\n",
        "                                               start_points_arr)\n",
        "        x_best_approx = np.array([res.x for res in opt_approx])\n",
        "        f_best_approx = np.array([np.atleast_1d(res.fun)[0] for res in opt_approx])\n",
        "        f_best_min_approx = min(f_best_approx)\n",
        "\n",
        "        self.x_best_approx = x_best_approx\n",
        "        self.f_best_approx = f_best_approx\n",
        "        self.f_best_min_approx = f_best_min_approx\n",
        "        self.x_best_std_approx = np.std(x_best_approx)\n",
        "        self.best_approx = x_best_approx[np.argmin(f_best_approx)]\n",
        "        self.start_points_arr = start_points_arr\n",
        "        self.history.append(self.x_best_std_approx)\n",
        "    \n",
        "    def _printInit(self):\n",
        "        print(self.header)\n",
        "        for init_eval in range(self.init_evals):\n",
        "            print(self.template.format('init', self.GP.X[init_eval], inverse * self.GP.y[init_eval], inverse * self.tau, '', ''))\n",
        "      \n",
        "    def _printCurrent(self):\n",
        "        OKGREEN = '\\033[92m'\n",
        "        ENDC = '\\033[0m'\n",
        "        BOLD = '\\033[1m'\n",
        "        eval = str(len(self.GP.y) - self.init_evals)\n",
        "        proposed = str(self.best)\n",
        "        curr_eval = str(inverse * self.GP.y[-1])\n",
        "        curr_best = str(inverse * self.tau)\n",
        "        min_acqfunc = str(self.f_best_min)\n",
        "        min_acqfunc_approx = str(self.f_best_min_approx)\n",
        "        x_best_std = str(self.x_best_std)\n",
        "        x_best_std_approx = str(self.x_best_std_approx)\n",
        "        if float(curr_eval) <= float(curr_best):\n",
        "            eval = BOLD + OKGREEN + eval + ENDC\n",
        "            proposed = BOLD + OKGREEN + proposed + ENDC\n",
        "            curr_eval = BOLD + OKGREEN + curr_eval + ENDC\n",
        "            curr_best = BOLD + OKGREEN + curr_best + ENDC\n",
        "            x_best_std = BOLD + OKGREEN + x_best_std + ENDC\n",
        "            x_best_std_approx = BOLD + OKGREEN + x_best_std_approx + ENDC\n",
        "        print(self.template.format(eval, proposed, curr_eval, curr_best, x_best_std, x_best_std_approx))\n",
        "\n",
        "    def run(self, max_iter=10, init_evals=3, resume=False):\n",
        "        \n",
        "        if not resume:\n",
        "            self.init_evals = init_evals\n",
        "            self._firstRun(self.init_evals)\n",
        "            self._printInit()\n",
        "        for iteration in range(max_iter):\n",
        "            self.d_optimizeAcq()\n",
        "            self.updateGP()\n",
        "            self._printCurrent()\n"
      ]
    },
    {
      "cell_type": "code",
      "execution_count": null,
      "metadata": {
        "id": "qXIKGuXVGEg2"
      },
      "outputs": [],
      "source": [
        "###Reproducible set-seeds:\n",
        "\n",
        "run_num_1 = 1\n",
        "run_num_2 = 2\n",
        "run_num_3 = 3\n",
        "run_num_4 = 4\n",
        "run_num_5 = 5\n",
        "run_num_6 = 6\n",
        "run_num_7 = 7\n",
        "run_num_8 = 8\n",
        "run_num_9 = 9\n",
        "run_num_10 = 10\n",
        "run_num_11 = 11\n",
        "run_num_12 = 12\n",
        "run_num_13 = 13\n",
        "run_num_14 = 14\n",
        "run_num_15 = 15\n",
        "run_num_16 = 16\n",
        "run_num_17 = 17\n",
        "run_num_18 = 18\n",
        "run_num_19 = 19\n",
        "run_num_20 = 20\n"
      ]
    },
    {
      "cell_type": "code",
      "execution_count": null,
      "metadata": {
        "colab": {
          "base_uri": "https://localhost:8080/"
        },
        "id": "JEhagQmnTVIK",
        "outputId": "f1aff67b-2c6e-48a2-a222-dd5e7496a030"
      },
      "outputs": [
        {
          "output_type": "execute_result",
          "data": {
            "text/plain": [
              "1662465490.5827854"
            ]
          },
          "metadata": {},
          "execution_count": 12
        }
      ],
      "source": [
        "start_approx = time.time()\n",
        "start_approx\n"
      ]
    },
    {
      "cell_type": "code",
      "execution_count": null,
      "metadata": {
        "colab": {
          "base_uri": "https://localhost:8080/"
        },
        "id": "aH0YSTXufD1v",
        "outputId": "060c28b6-0594-4836-f97a-e07406051342"
      },
      "outputs": [
        {
          "output_type": "stream",
          "name": "stdout",
          "text": [
            "Evaluation \t Proposed point \t  Current eval. \t  Best eval. \t        Exact CBM: StdDev. x \t Approx CBM: StdDev. x \n",
            "init\t [-0.84969467  2.25612281]\t 20.33436270766351\t 19.908403246996286\t    \t    \n",
            "init\t [-5.1188288  -2.02411446]\t 33.07414982069084\t 19.908403246996286\t    \t    \n",
            "init\t [-3.61721968 -4.17445279]\t 53.347974723929894\t 19.908403246996286\t    \t    \n",
            "init\t [-3.21269544 -1.58145816]\t 39.218472310354045\t 19.908403246996286\t    \t    \n",
            "init\t [-1.05710106  0.39748336]\t 19.908403246996286\t 19.908403246996286\t    \t    \n",
            "1  \t [ 5.12 -5.12]\t 57.849427451571785\t 19.908403246996286\t 3.7088439313966624\t 4.457534070151755\n",
            "2  \t [5.12 5.12]\t 57.849427451571785\t 19.908403246996286\t 3.595043437558593\t 3.7167325483949822\n",
            "3  \t [-5.12  5.12]\t 57.849427451571785\t 19.908403246996286\t 3.5036121358251457\t 4.012031835532807\n",
            "4  \t [ 4.14348674 -0.00588683]\t 20.971435513478152\t 19.908403246996286\t 3.5469616649300204\t 3.646278491900207\n",
            "5  \t [ 0.90449609 -3.67600528]\t 30.561695752820864\t 19.908403246996286\t 2.8628778698618293\t 3.352171489615619\n",
            "6  \t [1.1447169 5.12     ]\t 34.091974716951384\t 19.908403246996286\t 2.8282564874507754\t 3.406986142551842\n",
            "7  \t [-5.12        1.53260228]\t 51.0645063500236\t 19.908403246996286\t 3.1663503477137174\t 3.681700810432274\n",
            "8  \t [2.38044088 2.25265662]\t 38.21649440783944\t 19.908403246996286\t 3.4625058283675965\t 3.4239655454379987\n",
            "9  \t [-1.92595158  5.12      ]\t 33.696953468001276\t 19.908403246996286\t 3.4173287466455005\t 3.4926013423120224\n",
            "10 \t [ 1.44534581 -0.85896282]\t 25.919094980370378\t 19.908403246996286\t 3.5771343105043285\t 3.4917390391332868\n",
            "11 \t [ 5.12       -2.22765836]\t 42.4880149276777\t 19.908403246996286\t 2.8068720934032734\t 3.3466860832767895\n",
            "12 \t [5.12       2.20733454]\t 41.14828250870533\t 19.908403246996286\t 3.457311244667455\t 3.321507509472305\n",
            "13 \t [-1.05069104 -5.12      ]\t 30.53160703118263\t 19.908403246996286\t 3.073811347563807\t 2.9471937871536493\n",
            "14 \t [ 2.51568571 -5.12      ]\t 55.20486097254195\t 19.908403246996286\t 2.8916857387138433\t 3.132491455683066\n",
            "\u001b[1m\u001b[92m15\u001b[0m\t \u001b[1m\u001b[92m[-0.84024247 -2.11412431]\u001b[0m\t \u001b[1m\u001b[92m12.267020912368201\u001b[0m\t \u001b[1m\u001b[92m12.267020912368201\u001b[0m\t \u001b[1m\u001b[92m3.277737805851848\u001b[0m\t \u001b[1m\u001b[92m3.000145766701203\u001b[0m\n",
            "16 \t [-2.97745313  2.83959525]\t 21.69192858119417\t 12.267020912368201\t 3.5065438515246123\t 3.2199508485719495\n",
            "17 \t [ 2.90107671 -2.64919387]\t 33.22347905188693\t 12.267020912368201\t 3.0220592881233515\t 2.665877472300651\n",
            "18 \t [-3.03609499  0.64289766]\t 26.12016929206899\t 12.267020912368201\t 3.5162432108322483\t 3.564723438036523\n",
            "\u001b[1m\u001b[92m19\u001b[0m\t \u001b[1m\u001b[92m[0.76967995 1.0222047 ]\u001b[0m\t \u001b[1m\u001b[92m10.50109682980745\u001b[0m\t \u001b[1m\u001b[92m10.50109682980745\u001b[0m\t \u001b[1m\u001b[92m3.217474814173517\u001b[0m\t \u001b[1m\u001b[92m3.165969332906519\u001b[0m\n",
            "20 \t [-5.12 -5.12]\t 57.849427451571785\t 10.50109682980745\t 3.022487216097703\t 3.205123490167935\n"
          ]
        }
      ],
      "source": [
        "### ESTIMATED STP CBM GRADIENTS\n",
        "\n",
        "np.random.seed(run_num_1)\n",
        "surrogate_approx_1 = dtStudentProcess(cov_func, optimize=opt, nu = df)\n",
        "\n",
        "approx_1 = GPGO_multi(surrogate_approx_1, Acquisition_grad(util), objfunc, param)\n",
        "approx_1.run(init_evals=n_init, max_iter=iters)\n"
      ]
    },
    {
      "cell_type": "code",
      "execution_count": null,
      "metadata": {
        "colab": {
          "base_uri": "https://localhost:8080/"
        },
        "id": "wTxsSZxFGBB5",
        "outputId": "d155f772-c239-49a0-8d09-c94868b2754d"
      },
      "outputs": [
        {
          "output_type": "stream",
          "name": "stdout",
          "text": [
            "Evaluation \t Proposed point \t  Current eval. \t  Best eval. \t        Exact CBM: StdDev. x \t Approx CBM: StdDev. x \n",
            "init\t [-0.6554122  -4.85451539]\t 43.490296251903594\t 18.964539418712707\t    \t    \n",
            "init\t [ 0.50854377 -0.6622987 ]\t 35.91861667536101\t 18.964539418712707\t    \t    \n",
            "init\t [-0.81543371 -1.73737143]\t 20.479562046739524\t 18.964539418712707\t    \t    \n",
            "init\t [-3.02439799  1.2213347 ]\t 18.964539418712707\t 18.964539418712707\t    \t    \n",
            "init\t [-2.05153614 -2.3876887 ]\t 28.041315668371354\t 18.964539418712707\t    \t    \n",
            "1  \t [ 5.12 -5.12]\t 57.849427451571785\t 18.964539418712707\t 3.8392364740048324\t 4.471734094577706\n",
            "2  \t [5.12 5.12]\t 57.849427451571785\t 18.964539418712707\t 3.5958586223627917\t 3.5487219019908007\n",
            "3  \t [-0.09399688  5.12      ]\t 30.627480913829338\t 18.964539418712707\t 3.5454207682443846\t 4.119606086322962\n",
            "4  \t [5.12       0.07760917]\t 30.09629249280721\t 18.964539418712707\t 3.5092463934160576\t 4.216912501429015\n",
            "5  \t [-5.12  5.12]\t 57.849427451571785\t 18.964539418712707\t 3.57245058971534\t 3.6704456856737924\n",
            "6  \t [-5.12 -5.12]\t 57.849427451571785\t 18.964539418712707\t 3.435645614034461\t 3.493552172317692\n",
            "7  \t [2.34195362 2.48329012]\t 47.05791410783267\t 18.964539418712707\t 3.0065758051328055\t 3.191809537741679\n",
            "8  \t [-5.12      -1.2350869]\t 39.51450592788287\t 18.964539418712707\t 2.8955150709455544\t 3.428060742361003\n",
            "9  \t [ 2.6122388  -3.00054137]\t 33.441805852046166\t 18.964539418712707\t 3.045828612180134\t 3.12616090883829\n",
            "10 \t [-0.73115991  2.3117688 ]\t 30.844213630405264\t 18.964539418712707\t 3.1303709466666145\t 3.4244158024480646\n",
            "11 \t [-5.12        2.10363831]\t 35.39630872502565\t 18.964539418712707\t 3.199552592502046\t 3.698623296024771\n",
            "12 \t [-2.53220229  4.35870487]\t 61.51768964304984\t 18.964539418712707\t 2.9266080552382068\t 3.2946035354671475\n",
            "13 \t [ 5.12       -2.33554328]\t 49.4992421756898\t 18.964539418712707\t 3.2357915675772353\t 3.470428813363955\n",
            "14 \t [2.37095468 5.12      ]\t 51.43521439202928\t 18.964539418712707\t 3.4619280698788604\t 3.1253859297364865\n",
            "15 \t [5.12      2.4411548]\t 54.20818072585374\t 18.964539418712707\t 3.1419715210551638\t 3.087387997469832\n",
            "16 \t [ 2.00458178 -5.12      ]\t 32.94720535114824\t 18.964539418712707\t 2.537641371738413\t 2.7871284474475924\n",
            "17 \t [ 2.81834389 -0.20942263]\t 21.30148944470578\t 18.964539418712707\t 2.7192041880592086\t 3.09566705757519\n",
            "18 \t [-2.81169375 -5.12      ]\t 43.05035216111658\t 18.964539418712707\t 2.751141518534106\t 3.014077797388592\n",
            "19 \t [-1.44627914  0.17529866]\t 27.035004436186725\t 18.964539418712707\t 2.400478740913889\t 2.7212143710542844\n",
            "20 \t [-4.0303768  -2.97632004]\t 25.394491026885976\t 18.964539418712707\t 2.6198983454894624\t 2.598919469390331\n"
          ]
        }
      ],
      "source": [
        "### ESTIMATED STP CBM GRADIENTS\n",
        "\n",
        "np.random.seed(run_num_2)\n",
        "surrogate_approx_2 = dtStudentProcess(cov_func, optimize=opt, nu = df)\n",
        "\n",
        "approx_2 = GPGO_multi(surrogate_approx_2, Acquisition_grad(util), objfunc, param)\n",
        "approx_2.run(init_evals=n_init, max_iter=iters)\n"
      ]
    },
    {
      "cell_type": "code",
      "execution_count": null,
      "metadata": {
        "colab": {
          "base_uri": "https://localhost:8080/"
        },
        "id": "-dgzIrUIGCGT",
        "outputId": "59e5ed3e-ee70-4a91-fe94-41518794a8b2"
      },
      "outputs": [
        {
          "output_type": "stream",
          "name": "stdout",
          "text": [
            "Evaluation \t Proposed point \t  Current eval. \t  Best eval. \t        Exact CBM: StdDev. x \t Approx CBM: StdDev. x \n",
            "init\t [0.52017052 2.1314337 ]\t 27.953858411008774\t 10.607662635789808\t    \t    \n",
            "init\t [-2.14113547  0.11087468]\t 10.607662635789808\t 10.607662635789808\t    \t    \n",
            "init\t [4.02377681 4.05804123]\t 33.42749829480097\t 10.607662635789808\t    \t    \n",
            "init\t [-3.83400642 -2.99783293]\t 28.650953928965198\t 10.607662635789808\t    \t    \n",
            "init\t [-4.59297584 -0.6061072 ]\t 57.6631355589384\t 10.607662635789808\t    \t    \n",
            "1  \t [ 2.87042319 -1.98283743]\t 15.364229918613852\t 10.607662635789808\t 2.5515876750905844\t 2.783473771204631\n",
            "2  \t [-5.12  5.12]\t 57.849427451571785\t 10.607662635789808\t 3.1371557081176387\t 4.410488477886138\n",
            "3  \t [ 0.05051787 -5.12      ]\t 29.426806028156605\t 10.607662635789808\t 3.2876512654639196\t 3.8450776030498766\n",
            "4  \t [ 5.12 -5.12]\t 57.849427451571785\t 10.607662635789808\t 3.634422871183259\t 3.6441579233580494\n",
            "5  \t [5.12       0.53408185]\t 48.98154674078553\t 10.607662635789808\t 3.403584041313113\t 3.359255797191991\n",
            "6  \t [-1.23927933  5.12      ]\t 39.787436973899744\t 10.607662635789808\t 3.3510180644296\t 3.249143198553376\n",
            "7  \t [-0.16408735 -1.82396981]\t 13.731965834943875\t 10.607662635789808\t 3.1863636461309848\t 3.1505156249267747\n",
            "8  \t [-3.19937588  2.51259289]\t 43.390401382970786\t 10.607662635789808\t 3.4835962096561968\t 3.4508037490141943\n",
            "9  \t [1.74765651 5.12      ]\t 42.126257406955425\t 10.607662635789808\t 2.6645038561446515\t 3.3276844179419496\n",
            "10 \t [-5.12 -5.12]\t 57.849427451571785\t 10.607662635789808\t 3.627464575810153\t 3.6918047664674183\n",
            "11 \t [2.12191442 0.23312781]\t 16.291923969580118\t 10.607662635789808\t 3.28939641257824\t 3.3656372184568046\n",
            "12 \t [ 5.12       -2.28868027]\t 46.56926963346632\t 10.607662635789808\t 2.988351246137655\t 2.997363461311602\n",
            "13 \t [ 2.39803719 -4.43197028]\t 62.51029549372708\t 10.607662635789808\t 3.152626618166148\t 3.1743571063074865\n",
            "14 \t [-1.67090039 -3.57787504]\t 49.1875877408042\t 10.607662635789808\t 3.0785386026001667\t 2.7788673560970736\n",
            "15 \t [-0.26782048  0.04406147]\t 11.571803348899252\t 10.607662635789808\t 3.531879562970734\t 3.2628340799203834\n",
            "16 \t [2.92193947 2.11223537]\t 16.56329965946952\t 10.607662635789808\t 3.164859905260393\t 2.7399718344592667\n",
            "17 \t [-5.12        1.96891438]\t 32.991474997030195\t 10.607662635789808\t 3.1182407711983107\t 3.1039661326040444\n",
            "18 \t [ 1.31863674 -1.61134713]\t 36.16628032400173\t 10.607662635789808\t 3.2944566485385876\t 3.3837813379348356\n",
            "19 \t [-3.02566827 -5.12      ]\t 38.209154364300694\t 10.607662635789808\t 2.9339934208851255\t 3.0321999119586676\n",
            "20 \t [-1.19431335  3.00164674]\t 17.008862671756024\t 10.607662635789808\t 2.9428757982634215\t 2.8430081404253897\n"
          ]
        }
      ],
      "source": [
        "### ESTIMATED STP CBM GRADIENTS\n",
        "\n",
        "np.random.seed(run_num_3)\n",
        "surrogate_approx_3 = dtStudentProcess(cov_func, optimize=opt, nu = df)\n",
        "\n",
        "approx_3 = GPGO_multi(surrogate_approx_3, Acquisition_grad(util), objfunc, param)\n",
        "approx_3.run(init_evals=n_init, max_iter=iters)\n"
      ]
    },
    {
      "cell_type": "code",
      "execution_count": null,
      "metadata": {
        "colab": {
          "base_uri": "https://localhost:8080/"
        },
        "id": "hOtG-2sCGCKS",
        "outputId": "d16fed88-fe1d-4588-f8a1-013ae0d76120"
      },
      "outputs": [
        {
          "output_type": "stream",
          "name": "stdout",
          "text": [
            "Evaluation \t Proposed point \t  Current eval. \t  Best eval. \t        Exact CBM: StdDev. x \t Approx CBM: StdDev. x \n",
            "init\t [4.78238555 0.48365823]\t 51.03163809010808\t 14.323038259018315\t    \t    \n",
            "init\t [4.84028785 2.19971578]\t 39.78645699016559\t 14.323038259018315\t    \t    \n",
            "init\t [ 2.02474316 -2.90724357]\t 14.323038259018315\t 14.323038259018315\t    \t    \n",
            "init\t [ 4.87705042 -5.05620219]\t 52.80627247106233\t 14.323038259018315\t    \t    \n",
            "init\t [-2.52946061 -0.66773471]\t 41.61497868486559\t 14.323038259018315\t    \t    \n",
            "1  \t [-5.12  5.12]\t 57.849427451571785\t 14.323038259018315\t 3.2386667518069507\t 4.092261367802631\n",
            "2  \t [0.36057154 5.12      ]\t 45.45659407283534\t 14.323038259018315\t 3.7154903369995056\t 3.975751332438009\n",
            "3  \t [-5.12 -5.12]\t 57.849427451571785\t 14.323038259018315\t 3.950479573341773\t 3.537151973356566\n",
            "4  \t [-0.95987971 -5.12      ]\t 30.16213361355652\t 14.323038259018315\t 3.3150628302829155\t 3.4371110870712944\n",
            "\u001b[1m\u001b[92m5\u001b[0m\t \u001b[1m\u001b[92m[0.85388097 1.14530137]\u001b[0m\t \u001b[1m\u001b[92m9.853367111197375\u001b[0m\t \u001b[1m\u001b[92m9.853367111197375\u001b[0m\t \u001b[1m\u001b[92m3.3912400033855756\u001b[0m\t \u001b[1m\u001b[92m3.1784447559617117\u001b[0m\n",
            "6  \t [-5.12        1.50129506]\t 51.1782695127146\t 9.853367111197375\t 3.0993804915647987\t 3.3437199422349626\n",
            "7  \t [3.91223987 5.12      ]\t 45.71248412869731\t 9.853367111197375\t 3.1967814160175028\t 3.348701506841022\n",
            "8  \t [-1.97975883  2.82643663]\t 17.368805742947913\t 9.853367111197375\t 2.791200636562371\t 2.9566813682471262\n",
            "9  \t [-5.12       -1.96344547]\t 33.04243633135806\t 9.853367111197375\t 2.813701088734634\t 3.1110395745324424\n",
            "10 \t [ 0.2624259  -1.31232764]\t 26.38784707173957\t 9.853367111197375\t 3.3113986534461612\t 3.2695984507819436\n",
            "11 \t [ 5.12       -2.25382175]\t 44.24453051607014\t 9.853367111197375\t 3.3670117664224293\t 3.5909510357849497\n",
            "12 \t [ 1.82237718 -5.12      ]\t 37.85331213535807\t 9.853367111197375\t 2.8598528147778794\t 3.1718437059069062\n",
            "13 \t [2.08143563 2.81004433]\t 19.825633194607185\t 9.853367111197375\t 3.1450148377223646\t 2.747796706503061\n",
            "14 \t [-2.35925357  5.12      ]\t 50.82882451455855\t 9.853367111197375\t 2.615666720292759\t 3.110658396538062\n",
            "15 \t [-2.66059301 -3.36883888]\t 50.54670893840948\t 9.853367111197375\t 3.0168530712212647\t 2.795429359168621\n",
            "16 \t [ 2.45208343 -0.49796202]\t 45.810060815427725\t 9.853367111197375\t 3.0664911653108273\t 2.5594948628130765\n",
            "17 \t [-0.8558804   1.23031235]\t 14.839655009110531\t 9.853367111197375\t 2.6454774318471967\t 2.416315472317418\n",
            "18 \t [ 0.0242125  -3.25385425]\t 20.945796952884205\t 9.853367111197375\t 3.1583081169733678\t 3.2238227018821264\n",
            "19 \t [0.03774009 2.85654104]\t 12.235794699626432\t 9.853367111197375\t 3.188915441613845\t 3.2686122048707467\n",
            "20 \t [-3.65854034  3.03820861]\t 38.33789755012102\t 9.853367111197375\t 3.3044673896370433\t 3.184825460194076\n"
          ]
        }
      ],
      "source": [
        "### ESTIMATED STP CBM GRADIENTS\n",
        "\n",
        "np.random.seed(run_num_4)\n",
        "surrogate_approx_4 = dtStudentProcess(cov_func, optimize=opt, nu = df)\n",
        "\n",
        "approx_4= GPGO_multi(surrogate_approx_4, Acquisition_grad(util), objfunc, param)\n",
        "approx_4.run(init_evals=n_init, max_iter=iters)\n"
      ]
    },
    {
      "cell_type": "code",
      "execution_count": null,
      "metadata": {
        "colab": {
          "base_uri": "https://localhost:8080/"
        },
        "id": "JF_SxcEvGCOl",
        "outputId": "28e2830a-3da4-4768-d39d-4a4909a859e2"
      },
      "outputs": [
        {
          "output_type": "stream",
          "name": "stdout",
          "text": [
            "Evaluation \t Proposed point \t  Current eval. \t  Best eval. \t        Exact CBM: StdDev. x \t Approx CBM: StdDev. x \n",
            "init\t [-2.84678993  3.79629882]\t 33.93442008827236\t 7.8108627039749745\t    \t    \n",
            "init\t [-3.00319585  4.2865757 ]\t 39.673876075575784\t 7.8108627039749745\t    \t    \n",
            "init\t [-0.11866943  1.14425716]\t 7.8108627039749745\t 7.8108627039749745\t    \t    \n",
            "init\t [2.72289645 0.1886002 ]\t 25.38160395721669\t 7.8108627039749745\t    \t    \n",
            "init\t [-2.08076286 -3.19773462]\t 22.589982116319675\t 7.8108627039749745\t    \t    \n",
            "1  \t [ 5.12       -4.98705735]\t 53.828502112091925\t 7.8108627039749745\t 4.47149878194087\t 4.697059326708273\n",
            "2  \t [5.12 5.12]\t 57.849427451571785\t 7.8108627039749745\t 4.127187320387381\t 4.276376244066599\n",
            "3  \t [-5.12       -0.04631768]\t 29.347349442174206\t 7.8108627039749745\t 3.549317398780474\t 3.915981668330873\n",
            "4  \t [1.00368651 5.12      ]\t 29.934782856896916\t 7.8108627039749745\t 3.4413537961715126\t 3.6242651885085597\n",
            "5  \t [-5.12 -5.12]\t 57.849427451571785\t 7.8108627039749745\t 3.4600329990182837\t 3.8092625889623646\n",
            "6  \t [ 1.11193237 -5.12      ]\t 32.53393322808168\t 7.8108627039749745\t 3.1007741585655313\t 3.3135756450831466\n",
            "7  \t [ 5.12       -1.57268036]\t 50.37332176178114\t 7.8108627039749745\t 2.271879960185543\t 2.8418767217474863\n",
            "8  \t [ 0.60246572 -1.88283949]\t 24.495539268368052\t 7.8108627039749745\t 2.967092034861183\t 3.205670644312006\n",
            "9  \t [5.12       1.88746013]\t 34.88478697543723\t 7.8108627039749745\t 2.991858808291392\t 3.4853292510759957\n",
            "10 \t [-2.21851641 -0.03561365]\t 13.207103120208474\t 7.8108627039749745\t 2.687650004504074\t 3.229453508736286\n",
            "11 \t [2.20684574 2.79554325]\t 27.184197790115952\t 7.8108627039749745\t 2.904537943558181\t 3.51156385680449\n",
            "12 \t [-5.12        2.61742562]\t 53.17508591649623\t 7.8108627039749745\t 2.8292931049093606\t 3.590910341983422\n",
            "13 \t [-5.12       -2.42182416]\t 53.607652356500424\t 7.8108627039749745\t 3.0089005438040632\t 3.8117648000873356\n",
            "14 \t [ 2.81639468 -3.10764026]\t 25.738967811492135\t 7.8108627039749745\t 2.5716716041242726\t 2.908238088436882\n",
            "15 \t [-1.62761378 -5.12      ]\t 48.52783284277797\t 7.8108627039749745\t 3.013282102635619\t 3.215428578464279\n",
            "16 \t [-0.52825919  2.99507626]\t 29.097104613964838\t 7.8108627039749745\t 2.8023573257301413\t 3.3061897221011085\n",
            "17 \t [-5.12  5.12]\t 57.849427451571785\t 7.8108627039749745\t 2.6129765193863217\t 3.391051778217343\n",
            "18 \t [-2.64290094  1.61933966]\t 43.15795800188534\t 7.8108627039749745\t 2.7128927341404654\t 2.6267517668133027\n",
            "19 \t [-1.34176786 -1.34976063]\t 34.93959433763419\t 7.8108627039749745\t 2.474760239604977\t 2.479311078451628\n",
            "20 \t [-1.06123648  5.12      ]\t 30.782051734491795\t 7.8108627039749745\t 3.1787925894276903\t 3.028891119279511\n"
          ]
        }
      ],
      "source": [
        "### ESTIMATED STP CBM GRADIENTS\n",
        "\n",
        "np.random.seed(run_num_5)\n",
        "surrogate_approx_5 = dtStudentProcess(cov_func, optimize=opt, nu = df)\n",
        "\n",
        "approx_5 = GPGO_multi(surrogate_approx_5, Acquisition_grad(util), objfunc, param)\n",
        "approx_5.run(init_evals=n_init, max_iter=iters)\n"
      ]
    },
    {
      "cell_type": "code",
      "execution_count": null,
      "metadata": {
        "colab": {
          "base_uri": "https://localhost:8080/"
        },
        "id": "-kDxZtJsGCR3",
        "outputId": "a6fa7422-23a1-43dc-e1fe-bc3391ba8b56"
      },
      "outputs": [
        {
          "output_type": "stream",
          "name": "stdout",
          "text": [
            "Evaluation \t Proposed point \t  Current eval. \t  Best eval. \t        Exact CBM: StdDev. x \t Approx CBM: StdDev. x \n",
            "init\t [ 4.02288795 -1.72052679]\t 31.08835710146886\t 17.28954482757088\t    \t    \n",
            "init\t [ 3.28938622 -4.69302655]\t 58.797867722203385\t 17.28954482757088\t    \t    \n",
            "init\t [-4.0175956   0.97333314]\t 17.28954482757088\t 17.28954482757088\t    \t    \n",
            "init\t [ 0.30532979 -0.83141193]\t 19.296253155889353\t 17.28954482757088\t    \t    \n",
            "init\t [-1.68542362  1.25459899]\t 28.650630936276173\t 17.28954482757088\t    \t    \n",
            "1  \t [5.12 5.12]\t 57.849427451571785\t 17.28954482757088\t 4.156270207886551\t 4.47259008471957\n",
            "2  \t [-5.12 -5.12]\t 57.849427451571785\t 17.28954482757088\t 3.9440295542200565\t 4.268424874384023\n",
            "3  \t [-5.12  5.12]\t 57.849427451571785\t 17.28954482757088\t 3.2223411701647144\t 3.7077658812670387\n",
            "4  \t [0.39537925 5.12      ]\t 46.99717104807186\t 17.28954482757088\t 3.2075979606869907\t 3.6361583644289253\n",
            "5  \t [-0.9097482 -5.12     ]\t 31.317564075172754\t 17.28954482757088\t 2.5899990398995003\t 3.073703477581445\n",
            "6  \t [2.84237022 1.912637  ]\t 17.722941634588807\t 17.28954482757088\t 2.6964922517903958\t 3.180278007603891\n",
            "7  \t [-3.01033148 -2.17537329]\t 19.296412079675846\t 17.28954482757088\t 3.3171379712781044\t 3.313368411758451\n",
            "8  \t [5.12       1.09597399]\t 31.889619835118154\t 17.28954482757088\t 2.82458994042454\t 3.2683473066883932\n",
            "9  \t [-2.34797719  4.04327396]\t 38.002990028011254\t 17.28954482757088\t 2.8243408285458664\t 3.562028307990031\n",
            "10 \t [-5.12       -1.33599839]\t 45.853914171299145\t 17.28954482757088\t 2.9238131015616955\t 3.303284030663403\n",
            "\u001b[1m\u001b[92m11\u001b[0m\t \u001b[1m\u001b[92m[ 0.85119907 -3.10796799]\u001b[0m\t \u001b[1m\u001b[92m16.659483400222076\u001b[0m\t \u001b[1m\u001b[92m16.659483400222076\u001b[0m\t \u001b[1m\u001b[92m3.1913638137022304\u001b[0m\t \u001b[1m\u001b[92m3.5478328225614586\u001b[0m\n",
            "12 \t [0.61723839 2.23374464]\t 31.75838232136692\t 16.659483400222076\t 2.8607316857867064\t 3.3075419188967725\n",
            "13 \t [2.71072752 4.36226221]\t 55.30308506295722\t 16.659483400222076\t 2.76766668302888\t 3.4204565100726296\n",
            "14 \t [-5.12        2.50238944]\t 55.185539654082156\t 16.659483400222076\t 2.567212839927005\t 3.277365748218945\n",
            "15 \t [ 2.30373917 -0.13868812]\t 22.201651067323095\t 16.659483400222076\t 2.9753194512336134\t 3.3461125382970605\n",
            "16 \t [-1.14658682 -2.54471131]\t 31.348212037949207\t 16.659483400222076\t 3.1766500554047274\t 3.2841789267951427\n",
            "17 \t [ 5.12       -3.49427032]\t 61.12815926905006\t 16.659483400222076\t 3.373406715569557\t 3.9565936689372943\n",
            "18 \t [-2.90501287 -4.40141125]\t 47.68223162579996\t 16.659483400222076\t 3.1295003717851966\t 3.488175177277403\n",
            "19 \t [ 1.14136397 -5.12      ]\t 33.91945242471699\t 16.659483400222076\t 3.221610240495466\t 3.1508774957331305\n",
            "20 \t [-0.51095558  3.75488256]\t 44.02980377079674\t 16.659483400222076\t 3.0888402789548475\t 3.0665971886461487\n"
          ]
        }
      ],
      "source": [
        "### ESTIMATED STP CBM GRADIENTS\n",
        "\n",
        "np.random.seed(run_num_6)\n",
        "surrogate_approx_6 = dtStudentProcess(cov_func, optimize=opt, nu = df)\n",
        "\n",
        "approx_6 = GPGO_multi(surrogate_approx_6, Acquisition_grad(util), objfunc, param)\n",
        "approx_6.run(init_evals=n_init, max_iter=iters)\n"
      ]
    },
    {
      "cell_type": "code",
      "execution_count": null,
      "metadata": {
        "colab": {
          "base_uri": "https://localhost:8080/"
        },
        "id": "fKB8MCD_GCVI",
        "outputId": "94aea9d0-1ad4-4502-f396-900a3802a996"
      },
      "outputs": [
        {
          "output_type": "stream",
          "name": "stdout",
          "text": [
            "Evaluation \t Proposed point \t  Current eval. \t  Best eval. \t        Exact CBM: StdDev. x \t Approx CBM: StdDev. x \n",
            "init\t [-4.33860312  2.86636843]\t 45.646133072936244\t 22.52235437888213\t    \t    \n",
            "init\t [-0.63068947  2.28828342]\t 34.83012662845338\t 22.52235437888213\t    \t    \n",
            "init\t [4.8946126  0.39419771]\t 44.09657005662876\t 22.52235437888213\t    \t    \n",
            "init\t [ 0.01147355 -4.38219639]\t 36.613209822404315\t 22.52235437888213\t    \t    \n",
            "init\t [-2.37118484e+00 -1.20319155e-03]\t 22.52235437888213\t 22.52235437888213\t    \t    \n",
            "1  \t [-5.12 -5.12]\t 57.849427451571785\t 22.52235437888213\t 3.694637772077605\t 4.035549860853893\n",
            "2  \t [ 5.12 -5.12]\t 57.849427451571785\t 22.52235437888213\t 3.8296219629115504\t 4.258295199543462\n",
            "3  \t [3.59602783 5.12      ]\t 60.09046378051522\t 22.52235437888213\t 3.969791868557335\t 4.097141579960964\n",
            "4  \t [-4.02558214 -1.33646422]\t 33.289738493146906\t 22.52235437888213\t 2.883805955465604\t 3.046307140328312\n",
            "\u001b[1m\u001b[92m5\u001b[0m\t \u001b[1m\u001b[92m[ 1.40596871 -0.96119004]\u001b[0m\t \u001b[1m\u001b[92m21.501342572547042\u001b[0m\t \u001b[1m\u001b[92m21.501342572547042\u001b[0m\t \u001b[1m\u001b[92m3.2759402896912673\u001b[0m\t \u001b[1m\u001b[92m3.1347053305767747\u001b[0m\n",
            "6  \t [-1.80991425  5.12      ]\t 38.52426797644644\t 21.501342572547042\t 3.1196392415051433\t 4.080686327939779\n",
            "7  \t [2.3391588  2.13333044]\t 28.644889003368718\t 21.501342572547042\t 3.1080610986099417\t 3.2933967705855616\n",
            "8  \t [ 3.59456541 -2.53492278]\t 57.39308205460953\t 21.501342572547042\t 3.085773485178786\t 3.6914918697930994\n",
            "9  \t [-2.52740147 -3.63856971]\t 55.92232927465346\t 21.501342572547042\t 3.4874064838796817\t 3.83712907120925\n",
            "10 \t [-5.12  5.12]\t 57.849427451571785\t 21.501342572547042\t 2.7084410005020096\t 3.563269455554725\n",
            "11 \t [0.8097799 5.12     ]\t 35.91207316120678\t 21.501342572547042\t 3.609358708682233\t 3.209577806547985\n",
            "12 \t [ 2.33171046 -5.12      ]\t 49.2730218821026\t 21.501342572547042\t 3.563086619255305\t 3.3106096078279394\n",
            "13 \t [5.12       2.99455844]\t 37.89793829298446\t 21.501342572547042\t 3.763035261070978\t 3.545110283198075\n",
            "14 \t [-0.6649915  -1.57330753]\t 36.96622236031877\t 21.501342572547042\t 2.9758486678278966\t 2.8408161241461896\n",
            "15 \t [-5.12        0.59708751]\t 47.47759956919987\t 21.501342572547042\t 3.1532474659082195\t 3.30829339751951\n",
            "16 \t [-5.12       -3.01490172]\t 38.0581471904323\t 21.501342572547042\t 2.7817907509198765\t 2.9354720898283118\n",
            "17 \t [2.67682966 0.16990395]\t 26.80863654326638\t 21.501342572547042\t 2.757835449297931\t 3.0921723444223153\n",
            "18 \t [ 1.53322203 -3.00607204]\t 31.177443409101183\t 21.501342572547042\t 3.459480985472972\t 3.370300081737751\n",
            "19 \t [0.26265841 0.53747206]\t 30.87648733898345\t 21.501342572547042\t 3.3262810572294303\t 3.385629134996606\n",
            "20 \t [-2.52081322  1.94339136]\t 30.67179259727159\t 21.501342572547042\t 3.454743270148018\t 3.46265805264748\n"
          ]
        }
      ],
      "source": [
        "### ESTIMATED STP CBM GRADIENTS\n",
        "\n",
        "np.random.seed(run_num_7)\n",
        "surrogate_approx_7 = dtStudentProcess(cov_func, optimize=opt, nu = df)\n",
        "\n",
        "approx_7 = GPGO_multi(surrogate_approx_7, Acquisition_grad(util), objfunc, param)\n",
        "approx_7.run(init_evals=n_init, max_iter=iters)\n"
      ]
    },
    {
      "cell_type": "code",
      "execution_count": null,
      "metadata": {
        "colab": {
          "base_uri": "https://localhost:8080/"
        },
        "id": "4unvifF-GCXp",
        "outputId": "fcf98320-352d-4c01-c57e-9f359eacdb34"
      },
      "outputs": [
        {
          "output_type": "stream",
          "name": "stdout",
          "text": [
            "Evaluation \t Proposed point \t  Current eval. \t  Best eval. \t        Exact CBM: StdDev. x \t Approx CBM: StdDev. x \n",
            "init\t [3.82391708 4.79785639]\t 50.20079446939181\t 13.871821018360485\t    \t    \n",
            "init\t [3.78055209 0.31596228]\t 36.5114251593508\t 13.871821018360485\t    \t    \n",
            "init\t [-2.73686192 -5.00327624]\t 43.34985765011677\t 13.871821018360485\t    \t    \n",
            "init\t [-0.7119993  -0.99992207]\t 13.871821018360485\t 13.871821018360485\t    \t    \n",
            "init\t [ 0.23218863 -0.22126801]\t 17.190590355445654\t 13.871821018360485\t    \t    \n",
            "1  \t [-5.12  5.12]\t 57.849427451571785\t 13.871821018360485\t 3.3082659409742483\t 4.183422711576705\n",
            "2  \t [ 5.12 -5.12]\t 57.849427451571785\t 13.871821018360485\t 3.5121044843520974\t 3.941263525691483\n",
            "3  \t [-5.12       -0.06084294]\t 29.650278312857566\t 13.871821018360485\t 3.477487167051082\t 3.5390159754724135\n",
            "4  \t [-0.66933139  4.17620067]\t 38.27040562434947\t 13.871821018360485\t 3.5516859521596316\t 3.447639648321655\n",
            "5  \t [ 1.18397997 -4.4099152 ]\t 45.25936736114559\t 13.871821018360485\t 3.5885632683733677\t 3.4446147612217426\n",
            "6  \t [-2.62490352  1.70410092]\t 39.71354542110366\t 13.871821018360485\t 3.4646543192438144\t 3.5585883754580556\n",
            "7  \t [1.63127866 2.3475403 ]\t 40.710824472023134\t 13.871821018360485\t 3.566798788368249\t 3.4141243567147708\n",
            "8  \t [-5.12       -3.12866416]\t 41.8068391773263\t 13.871821018360485\t 3.7544760468503338\t 3.5298837341547857\n",
            "9  \t [ 5.12       -2.11356218]\t 35.831311660247366\t 13.871821018360485\t 3.7752804270952787\t 3.738467457563797\n",
            "10 \t [-2.6594207  -1.84120251]\t 30.429601439870247\t 13.871821018360485\t 4.116668401302106\t 3.774454701169242\n",
            "11 \t [5.12       2.45359018]\t 54.522665344343395\t 13.871821018360485\t 4.158404713873393\t 3.511318021600759\n",
            "12 \t [ 2.14869094 -1.87279903]\t 15.207445421791482\t 13.871821018360485\t 2.962875517005872\t 3.0636271920111855\n",
            "13 \t [-5.12        2.44018186]\t 54.18116656434096\t 13.871821018360485\t 3.7474009929960594\t 3.30718985759129\n",
            "14 \t [-2.65793673  5.12      ]\t 51.456614125630864\t 13.871821018360485\t 3.6238184877048703\t 3.591632128305427\n",
            "15 \t [-0.76838025 -3.12899219]\t 22.3372066554977\t 13.871821018360485\t 3.585952913457095\t 3.3809308147825097\n",
            "16 \t [1.37980631 5.12      ]\t 48.10992920448921\t 13.871821018360485\t 3.967033598948928\t 3.6324286341613026\n",
            "17 \t [-5.12 -5.12]\t 57.849427451571785\t 13.871821018360485\t 3.021864532758396\t 2.9968726676014126\n",
            "18 \t [ 3.27258348 -3.49041154]\t 54.28883797033869\t 13.871821018360485\t 2.7554842712232\t 2.8173817236300844\n",
            "19 \t [-0.48269096  1.56110204]\t 41.883001166060815\t 13.871821018360485\t 2.802794389554053\t 2.512001350703761\n",
            "20 \t [-0.69621636 -5.12      ]\t 42.724803768042435\t 13.871821018360485\t 3.211483813451761\t 2.7913154104372255\n"
          ]
        }
      ],
      "source": [
        "### ESTIMATED STP CBM GRADIENTS\n",
        "\n",
        "np.random.seed(run_num_8)\n",
        "surrogate_approx_8 = dtStudentProcess(cov_func, optimize=opt, nu = df)\n",
        "\n",
        "approx_8 = GPGO_multi(surrogate_approx_8, Acquisition_grad(util), objfunc, param)\n",
        "approx_8.run(init_evals=n_init, max_iter=iters)\n"
      ]
    },
    {
      "cell_type": "code",
      "execution_count": null,
      "metadata": {
        "colab": {
          "base_uri": "https://localhost:8080/"
        },
        "id": "85OIXcg7GCaJ",
        "outputId": "63093b10-7ecc-45f1-d1b0-d81fe24097f1"
      },
      "outputs": [
        {
          "output_type": "stream",
          "name": "stdout",
          "text": [
            "Evaluation \t Proposed point \t  Current eval. \t  Best eval. \t        Exact CBM: StdDev. x \t Approx CBM: StdDev. x \n",
            "init\t [-5.01376866  0.01919582]\t 25.248289026162446\t 24.454800313488693\t    \t    \n",
            "init\t [-0.04328148 -3.74958562]\t 24.454800313488693\t 24.454800313488693\t    \t    \n",
            "init\t [-3.66478248 -2.88195916]\t 39.46509426509438\t 24.454800313488693\t    \t    \n",
            "init\t [-0.83447623 -2.57944404]\t 31.06766397812992\t 24.454800313488693\t    \t    \n",
            "init\t [-4.25922917 -1.58209393]\t 49.922543556206975\t 24.454800313488693\t    \t    \n",
            "1  \t [3.11029524 4.9495987 ]\t 36.97642606974743\t 24.454800313488693\t 3.038138760985928\t 3.2549310013385218\n",
            "2  \t [ 4.91520729 -0.79226513]\t 33.548410551203446\t 24.454800313488693\t 3.5877140495747453\t 4.301334603409042\n",
            "3  \t [-2.72957399  5.12      ]\t 47.6551718450538\t 24.454800313488693\t 2.8089797248440713\t 4.368332021416192\n",
            "4  \t [ 5.12 -5.12]\t 57.849427451571785\t 24.454800313488693\t 2.9384195105746986\t 3.7580758493368123\n",
            "5  \t [0.24162543 1.58568153]\t 30.632365153414145\t 24.454800313488693\t 3.8555296172193265\t 3.2582189594223774\n",
            "6  \t [5.12       2.45578029]\t 54.57207007299531\t 24.454800313488693\t 3.5239548425982905\t 3.637145115144746\n",
            "7  \t [-5.12        3.04204267]\t 38.525620721426634\t 24.454800313488693\t 3.4125908108292218\t 3.1750251182070235\n",
            "\u001b[1m\u001b[92m8\u001b[0m\t \u001b[1m\u001b[92m[ 1.93444336 -1.18914749]\u001b[0m\t \u001b[1m\u001b[92m12.261546808530372\u001b[0m\t \u001b[1m\u001b[92m12.261546808530372\u001b[0m\t \u001b[1m\u001b[92m3.567480378289085\u001b[0m\t \u001b[1m\u001b[92m3.531201155956038\u001b[0m\n",
            "9  \t [-5.12 -5.12]\t 57.849427451571785\t 12.261546808530372\t 3.741598307320253\t 3.6145271611634997\n",
            "10 \t [0.24177111 5.12      ]\t 38.46636115199735\t 12.261546808530372\t 3.167696611239543\t 3.3064494042720263\n",
            "11 \t [ 2.09202676 -5.12      ]\t 34.926927988587096\t 12.261546808530372\t 3.548752624444778\t 3.9364712993790856\n",
            "12 \t [-2.50543138  1.38425639]\t 45.657660658689665\t 12.261546808530372\t 3.014950215835096\t 3.0704180970569883\n",
            "13 \t [-2.05371335 -5.12      ]\t 33.70656786222938\t 12.261546808530372\t 3.3477675723959934\t 3.540930732702744\n",
            "14 \t [2.6910872 1.1542281]\t 26.530958166685267\t 12.261546808530372\t 2.9686560286743484\t 2.8734499273811425\n",
            "15 \t [ 3.34124431 -2.83318823]\t 39.6228817479723\t 12.261546808530372\t 3.082754520472992\t 2.7341873782041834\n",
            "16 \t [-5.12  5.12]\t 57.849427451571785\t 12.261546808530372\t 2.90110094581992\t 3.0028332101242934\n",
            "17 \t [-0.45686547 -0.51736177]\t 40.05192537947217\t 12.261546808530372\t 3.525792571386456\t 2.714866040081739\n",
            "18 \t [5.12 5.12]\t 57.849427451571785\t 12.261546808530372\t 3.263157870936995\t 3.337884697472612\n",
            "19 \t [1.78584597 3.17685239]\t 26.612465849548897\t 12.261546808530372\t 3.037636329029332\t 3.0331900285622697\n",
            "20 \t [-1.19106614  3.32214021]\t 33.21545370202975\t 12.261546808530372\t 3.038224722984407\t 2.882800711869297\n"
          ]
        }
      ],
      "source": [
        "### ESTIMATED STP CBM GRADIENTS\n",
        "\n",
        "np.random.seed(run_num_9)\n",
        "surrogate_approx_9 = dtStudentProcess(cov_func, optimize=opt, nu = df)\n",
        "\n",
        "approx_9 = GPGO_multi(surrogate_approx_9, Acquisition_grad(util), objfunc, param)\n",
        "approx_9.run(init_evals=n_init, max_iter=iters)\n"
      ]
    },
    {
      "cell_type": "code",
      "execution_count": null,
      "metadata": {
        "colab": {
          "base_uri": "https://localhost:8080/"
        },
        "id": "QQBR-qJPGCcp",
        "outputId": "8e3c3f16-423e-406d-d218-cf47cd503186"
      },
      "outputs": [
        {
          "output_type": "stream",
          "name": "stdout",
          "text": [
            "Evaluation \t Proposed point \t  Current eval. \t  Best eval. \t        Exact CBM: StdDev. x \t Approx CBM: StdDev. x \n",
            "init\t [ 2.77832339 -4.90750004]\t 41.674330194390116\t 13.839458310244165\t    \t    \n",
            "init\t [1.36855793 2.54775176]\t 44.69639719065837\t 13.839458310244165\t    \t    \n",
            "init\t [-0.01528819 -2.81808235]\t 13.839458310244165\t 13.839458310244165\t    \t    \n",
            "init\t [-3.09183626  2.66783449]\t 33.23221510904937\t 13.839458310244165\t    \t    \n",
            "init\t [-3.38830503 -4.2154003 ]\t 54.73014366983691\t 13.839458310244165\t    \t    \n",
            "1  \t [ 5.12       -0.56812756]\t 48.3452182318952\t 13.839458310244165\t 3.712677950209607\t 4.220996958447789\n",
            "2  \t [5.12 5.12]\t 57.849427451571785\t 13.839458310244165\t 3.346957605039929\t 4.022244287122629\n",
            "3  \t [-5.12       -0.60623516]\t 47.14598147359923\t 13.839458310244165\t 3.0890005750105547\t 3.8001052919803135\n",
            "4  \t [-5.12  5.12]\t 57.849427451571785\t 13.839458310244165\t 3.7922023929674866\t 4.081089517073522\n",
            "5  \t [-0.83764028  5.12      ]\t 34.39385618717074\t 13.839458310244165\t 3.318410943673736\t 3.5550907953672595\n",
            "\u001b[1m\u001b[92m6\u001b[0m\t \u001b[1m\u001b[92m[-1.23209324 -0.10117808]\u001b[0m\t \u001b[1m\u001b[92m12.359107556604824\u001b[0m\t \u001b[1m\u001b[92m12.359107556604824\u001b[0m\t \u001b[1m\u001b[92m3.7183474300200743\u001b[0m\t \u001b[1m\u001b[92m3.651828005751777\u001b[0m\n",
            "7  \t [ 1.89964995 -0.78384974]\t 14.035023906758083\t 12.359107556604824\t 3.3299905325866694\t 3.462265936149913\n",
            "8  \t [-0.39330467 -5.12      ]\t 46.91521802633549\t 12.359107556604824\t 3.9626474744516313\t 3.813377116487964\n",
            "9  \t [ 5.12       -3.59484025]\t 60.12403367886787\t 12.359107556604824\t 3.1878907301622275\t 3.8098925345978\n",
            "10 \t [4.52971674 2.23226658]\t 54.21562003188898\t 12.359107556604824\t 3.6566260240844053\t 3.6630883869894637\n",
            "11 \t [2.14305963 5.12      ]\t 37.29247210246457\t 12.359107556604824\t 3.03204582445483\t 3.0151022110648493\n",
            "12 \t [-2.4686756  -1.69241443]\t 42.305342823631605\t 12.359107556604824\t 2.633314313191444\t 3.2088833840350564\n",
            "\u001b[1m\u001b[92m13\u001b[0m\t \u001b[1m\u001b[92m[-0.92822296  1.8059175 ]\u001b[0m\t \u001b[1m\u001b[92m11.681205947925317\u001b[0m\t \u001b[1m\u001b[92m11.681205947925317\u001b[0m\t \u001b[1m\u001b[92m2.9123687179390365\u001b[0m\t \u001b[1m\u001b[92m3.5446706015737157\u001b[0m\n",
            "14 \t [-5.12        2.03084052]\t 33.23618730268639\t 11.681205947925317\t 3.427379378996859\t 3.477049276608064\n",
            "15 \t [ 2.37696814 -2.54041763]\t 48.94093867456447\t 11.681205947925317\t 3.508521512299067\t 3.7649687645605234\n",
            "16 \t [-5.12 -5.12]\t 57.849427451571785\t 11.681205947925317\t 3.8368246205277607\t 3.4258397460433105\n",
            "17 \t [-3.24826426  0.50987639]\t 40.6828892061739\t 11.681205947925317\t 2.8740558673329515\t 3.1523597136333237\n",
            "18 \t [0.45360682 0.10529303]\t 21.904741021873914\t 11.681205947925317\t 2.6777867833259466\t 3.4372040570427207\n",
            "19 \t [2.82643763 0.52488833]\t 33.52203369385937\t 11.681205947925317\t 2.493910133859637\t 3.2539825049341795\n",
            "20 \t [-4.50347856 -2.59008713]\t 65.42782670018624\t 11.681205947925317\t 3.005168480259588\t 3.1631681958035354\n"
          ]
        }
      ],
      "source": [
        "### ESTIMATED STP CBM GRADIENTS\n",
        "\n",
        "np.random.seed(run_num_10)\n",
        "surrogate_approx_10 = dtStudentProcess(cov_func, optimize=opt, nu = df)\n",
        "\n",
        "approx_10 = GPGO_multi(surrogate_approx_10, Acquisition_grad(util), objfunc, param)\n",
        "approx_10.run(init_evals=n_init, max_iter=iters)\n"
      ]
    },
    {
      "cell_type": "code",
      "execution_count": null,
      "metadata": {
        "colab": {
          "base_uri": "https://localhost:8080/"
        },
        "id": "JS8ejeQ2GCfi",
        "outputId": "4942b318-4c04-4833-f46b-3ae5bb31b56a"
      },
      "outputs": [
        {
          "output_type": "stream",
          "name": "stdout",
          "text": [
            "Evaluation \t Proposed point \t  Current eval. \t  Best eval. \t        Exact CBM: StdDev. x \t Approx CBM: StdDev. x \n",
            "init\t [-3.27403839 -4.92057353]\t 47.655641290890955\t 10.679755252484755\t    \t    \n",
            "init\t [-0.37664229  2.30332343]\t 35.87889240695259\t 10.679755252484755\t    \t    \n",
            "init\t [-0.81711509 -0.14922651]\t 10.679755252484755\t 10.679755252484755\t    \t    \n",
            "init\t [-4.98912446 -0.12931474]\t 28.05462905574235\t 10.679755252484755\t    \t    \n",
            "init\t [4.52410012 3.59214172]\t 71.62694632141611\t 10.679755252484755\t    \t    \n",
            "1  \t [ 5.12 -5.12]\t 57.849427451571785\t 10.679755252484755\t 3.1550082913568613\t 4.4136662711073775\n",
            "2  \t [-5.12  5.12]\t 57.849427451571785\t 10.679755252484755\t 3.12184416794639\t 3.9131016129593195\n",
            "3  \t [ 3.39761854 -0.91437041]\t 31.79398507214438\t 10.679755252484755\t 3.2144640395764945\t 3.117703263693607\n",
            "4  \t [ 0.89411417 -5.12      ]\t 31.856839390462234\t 10.679755252484755\t 3.0115829528002482\t 3.4236847222242344\n",
            "5  \t [1.2108028 5.12     ]\t 37.95274660493007\t 10.679755252484755\t 3.1316438198636924\t 3.0610579045088446\n",
            "6  \t [-1.93551096  5.12      ]\t 33.4806671544693\t 10.679755252484755\t 3.4114387849563674\t 3.3677870258315012\n",
            "7  \t [-0.95915724 -2.64525436]\t 24.361260508049206\t 10.679755252484755\t 3.5841027701423394\t 3.2280871807379437\n",
            "8  \t [-5.12      -2.8239021]\t 42.420803783457565\t 10.679755252484755\t 3.689415096618597\t 3.238633932956557\n",
            "9  \t [-3.48472276  2.27138483]\t 48.596056020304864\t 10.679755252484755\t 3.187845326674208\t 3.0555526637864605\n",
            "10 \t [2.23532472 1.52700977]\t 36.2640087787164\t 10.679755252484755\t 3.2986583918429573\t 3.2101461771747934\n",
            "11 \t [ 2.67989325 -3.31460025]\t 46.380678440531774\t 10.679755252484755\t 3.355566988150684\t 3.4690143030998692\n",
            "12 \t [5.12      0.7216585]\t 41.216857351284695\t 10.679755252484755\t 3.5368352919761312\t 3.5421857088010915\n",
            "13 \t [-2.75660761 -1.00627053]\t 18.204176997961284\t 10.679755252484755\t 3.315525591063992\t 3.355138817310733\n",
            "\u001b[1m\u001b[92m14\u001b[0m\t \u001b[1m\u001b[92m[ 0.92709089 -1.02734358]\u001b[0m\t \u001b[1m\u001b[92m3.09321684048469\u001b[0m\t \u001b[1m\u001b[92m3.09321684048469\u001b[0m\t \u001b[1m\u001b[92m3.159992235275963\u001b[0m\t \u001b[1m\u001b[92m3.465547084171417\u001b[0m\n",
            "15 \t [ 5.12       -2.34002916]\t 49.760265129679354\t 3.09321684048469\t 3.9861945347375323\t 3.7908576751925627\n",
            "16 \t [-1.09040648 -5.12      ]\t 31.68413340005479\t 3.09321684048469\t 3.3338167329733808\t 3.4575643174025568\n",
            "17 \t [ 0.79285014 -2.28288687]\t 25.23190946659236\t 3.09321684048469\t 3.4513262102598747\t 2.8770607340768426\n",
            "18 \t [-5.12 -5.12]\t 57.849427451571785\t 3.09321684048469\t 3.3220399392807356\t 2.850342574723162\n",
            "19 \t [0.73448064 0.13286826]\t 14.81768813317837\t 3.09321684048469\t 2.9825335402566964\t 2.65895823006438\n",
            "20 \t [-2.07564572  0.648923  ]\t 21.77029712638749\t 3.09321684048469\t 3.1100175491697444\t 3.157585405909317\n"
          ]
        }
      ],
      "source": [
        "### ESTIMATED STP CBM GRADIENTS\n",
        "\n",
        "np.random.seed(run_num_11)\n",
        "surrogate_approx_11 = dtStudentProcess(cov_func, optimize=opt, nu = df)\n",
        "\n",
        "approx_11 = GPGO_multi(surrogate_approx_11, Acquisition_grad(util), objfunc, param)\n",
        "approx_11.run(init_evals=n_init, max_iter=iters)\n"
      ]
    },
    {
      "cell_type": "code",
      "execution_count": null,
      "metadata": {
        "colab": {
          "base_uri": "https://localhost:8080/"
        },
        "id": "DXwjUVZ4GCii",
        "outputId": "940c5962-f92b-4b8f-e89b-27055bf78b05"
      },
      "outputs": [
        {
          "output_type": "stream",
          "name": "stdout",
          "text": [
            "Evaluation \t Proposed point \t  Current eval. \t  Best eval. \t        Exact CBM: StdDev. x \t Approx CBM: StdDev. x \n",
            "init\t [-3.54137249  2.45810889]\t 57.903242869085595\t 40.51116653209555\t    \t    \n",
            "init\t [-2.42365424  0.34549139]\t 40.51116653209555\t 40.51116653209555\t    \t    \n",
            "init\t [-4.97075238  4.28796936]\t 55.62655915398208\t 40.51116653209555\t    \t    \n",
            "init\t [ 4.10332011 -4.77776458]\t 49.962803461970296\t 40.51116653209555\t    \t    \n",
            "init\t [ 4.6791612  -3.71497655]\t 62.183891474990624\t 40.51116653209555\t    \t    \n",
            "1  \t [5.12 5.12]\t 57.849427451571785\t 40.51116653209555\t 3.919678130763581\t 3.9551526589526977\n",
            "2  \t [-5.12 -5.12]\t 57.849427451571785\t 40.51116653209555\t 3.7424829423581163\t 3.4743412706839334\n",
            "\u001b[1m\u001b[92m3\u001b[0m\t \u001b[1m\u001b[92m[2.51309337 0.83232161]\u001b[0m\t \u001b[1m\u001b[92m32.02972877623673\u001b[0m\t \u001b[1m\u001b[92m32.02972877623673\u001b[0m\t \u001b[1m\u001b[92m2.879121318329024\u001b[0m\t \u001b[1m\u001b[92m2.9691491472728915\u001b[0m\n",
            "4  \t [0.33252419 5.12      ]\t 43.99119266391783\t 32.02972877623673\t 2.975694115184973\t 3.3647785118912323\n",
            "5  \t [-0.486181   -4.11899273]\t 39.83193756766847\t 32.02972877623673\t 2.646194643336968\t 2.982254870187027\n",
            "6  \t [-5.12       -1.54497423]\t 50.91504754693966\t 32.02972877623673\t 2.8889087329801026\t 3.148485012064385\n",
            "7  \t [ 5.12       -0.38283902]\t 46.48190941539407\t 32.02972877623673\t 2.6001050849143676\t 3.0199071727740128\n",
            "\u001b[1m\u001b[92m8\u001b[0m\t \u001b[1m\u001b[92m[ 1.64091379 -1.98426637]\u001b[0m\t \u001b[1m\u001b[92m23.0086313403945\u001b[0m\t \u001b[1m\u001b[92m23.0086313403945\u001b[0m\t \u001b[1m\u001b[92m2.514927870785513\u001b[0m\t \u001b[1m\u001b[92m3.2112292564171057\u001b[0m\n",
            "\u001b[1m\u001b[92m9\u001b[0m\t \u001b[1m\u001b[92m[-0.04576946  2.14442165]\u001b[0m\t \u001b[1m\u001b[92m8.853559159796966\u001b[0m\t \u001b[1m\u001b[92m8.853559159796966\u001b[0m\t \u001b[1m\u001b[92m2.835754175193092\u001b[0m\t \u001b[1m\u001b[92m3.095811864271333\u001b[0m\n",
            "10 \t [5.12      2.3544971]\t 50.57244284592661\t 8.853559159796966\t 2.790862786268498\t 3.4317539553258993\n",
            "11 \t [-2.63991771 -2.71894828]\t 42.67875119103025\t 8.853559159796966\t 2.553106340279902\t 3.2769629311623287\n",
            "12 \t [-2.29314261  5.12      ]\t 46.860871242665596\t 8.853559159796966\t 2.606856043743947\t 3.0758121239309935\n",
            "13 \t [2.47507089 3.59859342]\t 57.095230357732184\t 8.853559159796966\t 2.8893611812191966\t 2.893354000057369\n",
            "14 \t [-0.00756571 -0.34054168]\t 15.514295696067867\t 8.853559159796966\t 2.766192514416834\t 2.740157511526139\n",
            "15 \t [ 1.66876762 -5.12      ]\t 46.59474561131367\t 8.853559159796966\t 2.656747640877493\t 3.2878580686931764\n",
            "16 \t [-2.55775899 -5.12      ]\t 54.81552063465273\t 8.853559159796966\t 2.9107597714396554\t 3.3524458558638703\n",
            "17 \t [-5.12       0.8418225]\t 34.17877938935026\t 8.853559159796966\t 2.7322370546165606\t 3.0744780221845986\n",
            "18 \t [ 2.81624802 -3.40857691]\t 43.90135877840666\t 8.853559159796966\t 3.1180499992336093\t 3.287738788254684\n",
            "19 \t [-1.1518162   3.00679487]\t 14.59145773866794\t 8.853559159796966\t 2.9130120547172975\t 2.6933815820905767\n",
            "20 \t [-0.52549746 -1.88099854]\t 26.353757445369734\t 8.853559159796966\t 2.6237074735706774\t 2.5781426809908634\n"
          ]
        }
      ],
      "source": [
        "### ESTIMATED STP CBM GRADIENTS\n",
        "\n",
        "np.random.seed(run_num_12)\n",
        "surrogate_approx_12 = dtStudentProcess(cov_func, optimize=opt, nu = df)\n",
        "\n",
        "approx_12 = GPGO_multi(surrogate_approx_12, Acquisition_grad(util), objfunc, param)\n",
        "approx_12.run(init_evals=n_init, max_iter=iters)\n"
      ]
    },
    {
      "cell_type": "code",
      "execution_count": null,
      "metadata": {
        "colab": {
          "base_uri": "https://localhost:8080/"
        },
        "id": "CphOPndPGClX",
        "outputId": "81c07ca4-f612-409c-cc4c-a77d97ed62e0"
      },
      "outputs": [
        {
          "output_type": "stream",
          "name": "stdout",
          "text": [
            "Evaluation \t Proposed point \t  Current eval. \t  Best eval. \t        Exact CBM: StdDev. x \t Approx CBM: StdDev. x \n",
            "init\t [ 2.84367268 -2.68757791]\t 33.58019830007169\t 17.435826639425656\t    \t    \n",
            "init\t [3.32061217 4.76927179]\t 56.857057997503354\t 17.435826639425656\t    \t    \n",
            "init\t [ 4.83943541 -0.47667971]\t 48.211919361679726\t 17.435826639425656\t    \t    \n",
            "init\t [1.11659482 2.82139151]\t 17.435826639425656\t 17.435826639425656\t    \t    \n",
            "init\t [1.45012065 2.27346667]\t 38.25352329493884\t 17.435826639425656\t    \t    \n",
            "1  \t [-5.12       -2.72049219]\t 48.16921817568436\t 17.435826639425656\t 3.5490692907863104\t 3.4790640316181745\n",
            "2  \t [-5.12  5.12]\t 57.849427451571785\t 17.435826639425656\t 3.340932363314891\t 3.9169901770776923\n",
            "3  \t [-1.07801082 -5.12      ]\t 31.26422886202701\t 17.435826639425656\t 3.3316098399554455\t 3.3527445270263594\n",
            "\u001b[1m\u001b[92m4\u001b[0m\t \u001b[1m\u001b[92m[-2.85473718  1.13039095]\u001b[0m\t \u001b[1m\u001b[92m16.483749982353707\u001b[0m\t \u001b[1m\u001b[92m16.483749982353707\u001b[0m\t \u001b[1m\u001b[92m3.315936526667136\u001b[0m\t \u001b[1m\u001b[92m3.174321551853747\u001b[0m\n",
            "5  \t [-1.15832353  5.12      ]\t 34.81952038715079\t 16.483749982353707\t 3.446855336486226\t 4.172174626607507\n",
            "6  \t [-0.61926661 -1.41088148]\t 38.16805718685915\t 16.483749982353707\t 2.948698010601277\t 3.4740134963881713\n",
            "7  \t [ 5.12 -5.12]\t 57.849427451571785\t 16.483749982353707\t 4.047337410178466\t 4.155261059212885\n",
            "8  \t [5.12       2.46289878]\t 54.720102033348525\t 16.483749982353707\t 3.8701201894240316\t 3.4176232227519026\n",
            "9  \t [-5.12        1.78836157]\t 39.73589356469607\t 16.483749982353707\t 3.4874881050003315\t 3.7382178283732457\n",
            "10 \t [ 1.73849531 -5.12      ]\t 42.66931132673038\t 16.483749982353707\t 3.5212401153757478\t 3.2993934658055455\n",
            "11 \t [-3.91229686 -5.12      ]\t 45.71105472981938\t 16.483749982353707\t 3.863528107777089\t 3.7985042648248766\n",
            "\u001b[1m\u001b[92m12\u001b[0m\t \u001b[1m\u001b[92m[ 1.8819347  -0.24543785]\u001b[0m\t \u001b[1m\u001b[92m15.942949432598233\u001b[0m\t \u001b[1m\u001b[92m15.942949432598233\u001b[0m\t \u001b[1m\u001b[92m3.861868135477541\u001b[0m\t \u001b[1m\u001b[92m3.357317858086903\u001b[0m\n",
            "13 \t [-1.2311805   2.47891171]\t 36.39344306351863\t 15.942949432598233\t 3.7721147004785083\t 3.032693289752454\n",
            "14 \t [-3.21988053 -1.0058438 ]\t 19.504906358447542\t 15.942949432598233\t 3.0832422042521253\t 2.8664679731466487\n",
            "15 \t [0.9708341 5.12     ]\t 30.03467473060747\t 15.942949432598233\t 3.81047931443791\t 3.706860291328817\n",
            "16 \t [-2.30304862 -3.09388421]\t 29.83791184902303\t 15.942949432598233\t 3.0561459176343546\t 2.5328565417518156\n",
            "17 \t [-3.21230415  3.62226165]\t 48.28493666494465\t 15.942949432598233\t 3.625727126240238\t 3.8085748379102866\n",
            "18 \t [ 5.12       -2.76993047]\t 45.34823032112958\t 15.942949432598233\t 3.403713188545885\t 3.3759031215150452\n",
            "19 \t [-5.12       -0.37513845]\t 46.14265897599179\t 15.942949432598233\t 2.902994225171094\t 2.932249587403387\n",
            "20 \t [ 0.51062692 -3.19534785]\t 37.08189736426024\t 15.942949432598233\t 4.403100157330288\t 3.7296346035840133\n"
          ]
        }
      ],
      "source": [
        "### ESTIMATED STP CBM GRADIENTS\n",
        "\n",
        "np.random.seed(run_num_13)\n",
        "surrogate_approx_13 = dtStudentProcess(cov_func, optimize=opt, nu = df)\n",
        "\n",
        "approx_13 = GPGO_multi(surrogate_approx_13, Acquisition_grad(util), objfunc, param)\n",
        "approx_13.run(init_evals=n_init, max_iter=iters)\n"
      ]
    },
    {
      "cell_type": "code",
      "execution_count": null,
      "metadata": {
        "colab": {
          "base_uri": "https://localhost:8080/"
        },
        "id": "ojHTeARNGCoi",
        "outputId": "2d081bd5-5a3f-4336-f30c-84790bff2333"
      },
      "outputs": [
        {
          "output_type": "stream",
          "name": "stdout",
          "text": [
            "Evaluation \t Proposed point \t  Current eval. \t  Best eval. \t        Exact CBM: StdDev. x \t Approx CBM: StdDev. x \n",
            "init\t [0.14277984 2.79721013]\t 18.683085263052178\t 10.423838604848608\t    \t    \n",
            "init\t [ 3.7931795  -5.03759925]\t 47.36348784446708\t 10.423838604848608\t    \t    \n",
            "init\t [-1.94830412  4.68586229]\t 40.19779334078636\t 10.423838604848608\t    \t    \n",
            "init\t [ 0.13431513 -1.86076749]\t 10.423838604848608\t 10.423838604848608\t    \t    \n",
            "init\t [ 0.40140736 -2.85434939]\t 30.353548735049138\t 10.423838604848608\t    \t    \n",
            "1  \t [-5.12 -5.12]\t 57.849427451571785\t 10.423838604848608\t 4.28903433506794\t 4.032554377038187\n",
            "2  \t [5.12 5.12]\t 57.849427451571785\t 10.423838604848608\t 3.942350991225255\t 4.0681755621434155\n",
            "3  \t [-5.12        0.35172134]\t 45.01342790841956\t 10.423838604848608\t 2.845581707596014\t 3.709785828929384\n",
            "4  \t [ 5.12       -0.06385185]\t 29.722833301828075\t 10.423838604848608\t 2.986019808127617\t 3.4737333990898565\n",
            "5  \t [-5.12  5.12]\t 57.849427451571785\t 10.423838604848608\t 2.6434148049322075\t 2.93688313355118\n",
            "6  \t [-1.67166944  0.08687207]\t 18.98042988089686\t 10.423838604848608\t 2.7928018391130984\t 2.6450089519654933\n",
            "7  \t [-1.68722383 -5.12      ]\t 45.61429790617734\t 10.423838604848608\t 2.677458047039512\t 2.569145934724409\n",
            "8  \t [1.92841531 0.25638973]\t 15.180463404166487\t 10.423838604848608\t 3.1727777402669255\t 3.352920656078008\n",
            "9  \t [-3.35509596 -2.32271442]\t 47.196991148727534\t 10.423838604848608\t 2.864683682583828\t 2.9980595826448924\n",
            "10 \t [3.12165134 2.73400584]\t 31.004478197090727\t 10.423838604848608\t 2.986685340588504\t 3.5403322320435335\n",
            "11 \t [1.47914368 5.12      ]\t 51.02683979759304\t 10.423838604848608\t 3.131377900038348\t 3.1776163137917424\n",
            "12 \t [ 3.29566459 -2.15227846]\t 32.562258285777844\t 10.423838604848608\t 2.502647945133753\t 3.214914804383684\n",
            "13 \t [-3.19952784  2.31501582]\t 36.45029681978325\t 10.423838604848608\t 3.108661421510054\t 3.3885112934910313\n",
            "14 \t [ 1.13268382 -5.12      ]\t 33.48610848675623\t 10.423838604848608\t 2.563109639491096\t 3.420005258449053\n",
            "15 \t [5.12       2.27281631]\t 45.519093515807015\t 10.423838604848608\t 2.93072570294802\t 3.223699190187841\n",
            "16 \t [ 5.12       -2.99620807]\t 37.90481462971821\t 10.423838604848608\t 2.662422465143479\t 2.649094632566688\n",
            "17 \t [0.15664991 0.53860282]\t 24.487129657825292\t 10.423838604848608\t 3.0216899476761094\t 2.700991708227409\n",
            "18 \t [-5.12        2.75379263]\t 46.269812403006306\t 10.423838604848608\t 2.576986176181112\t 2.8475825751166313\n",
            "19 \t [-5.12       -1.72045594]\t 43.73034767725927\t 10.423838604848608\t 2.914059819117899\t 3.1617035862122336\n",
            "20 \t [-1.48141623  2.71587664]\t 41.630131879582294\t 10.423838604848608\t 2.811438847040853\t 2.852630588728846\n"
          ]
        }
      ],
      "source": [
        "### ESTIMATED STP CBM GRADIENTS\n",
        "\n",
        "np.random.seed(run_num_14)\n",
        "surrogate_approx_14 = dtStudentProcess(cov_func, optimize=opt, nu = df)\n",
        "\n",
        "approx_14 = GPGO_multi(surrogate_approx_14, Acquisition_grad(util), objfunc, param)\n",
        "approx_14.run(init_evals=n_init, max_iter=iters)\n"
      ]
    },
    {
      "cell_type": "code",
      "execution_count": null,
      "metadata": {
        "colab": {
          "base_uri": "https://localhost:8080/"
        },
        "id": "vCJzn4vWGCs3",
        "outputId": "89e1e071-0e23-4e58-81f3-3864cd717e93"
      },
      "outputs": [
        {
          "output_type": "stream",
          "name": "stdout",
          "text": [
            "Evaluation \t Proposed point \t  Current eval. \t  Best eval. \t        Exact CBM: StdDev. x \t Approx CBM: StdDev. x \n",
            "init\t [ 3.57189322 -3.28810573]\t 54.938487770767075\t 7.990765314336182\t    \t    \n",
            "init\t [-4.56332069 -1.41784631]\t 60.750198753157726\t 7.990765314336182\t    \t    \n",
            "init\t [-2.29989449  0.3072023 ]\t 31.984997246800887\t 7.990765314336182\t    \t    \n",
            "init\t [-1.9873903  -2.00218256]\t 7.990765314336182\t 7.990765314336182\t    \t    \n",
            "init\t [-3.97576933 -2.5610341 ]\t 41.754957769694336\t 7.990765314336182\t    \t    \n",
            "1  \t [5.12 5.12]\t 57.849427451571785\t 7.990765314336182\t 3.8801572557685646\t 4.017776876078239\n",
            "2  \t [-5.12  5.12]\t 57.849427451571785\t 7.990765314336182\t 2.818781357901138\t 3.699801393183713\n",
            "3  \t [0.00815618 5.12      ]\t 28.937908539935876\t 7.990765314336182\t 3.5420049408945093\t 3.6280999248044927\n",
            "4  \t [2.41673087 1.20123024]\t 32.9292492763346\t 7.990765314336182\t 3.1725219628815085\t 3.1491059409766313\n",
            "5  \t [-0.33023033 -5.12      ]\t 43.863979293105515\t 7.990765314336182\t 3.426178780507754\t 3.515944451388005\n",
            "6  \t [ 5.12       -0.21055681]\t 36.51605034807235\t 7.990765314336182\t 3.656006971783746\t 3.4004822264506016\n",
            "7  \t [ 0.60634464 -1.57374677]\t 39.63935630381614\t 7.990765314336182\t 3.5594266331648887\t 3.906886083511943\n",
            "8  \t [-5.12 -5.12]\t 57.849427451571785\t 7.990765314336182\t 3.9139102712016\t 4.121000898505333\n",
            "9  \t [-5.12        1.87038431]\t 35.559997630187915\t 7.990765314336182\t 2.8052234064357906\t 3.3853457281768224\n",
            "10 \t [-2.23947641  3.3506019 ]\t 41.48945888001464\t 7.990765314336182\t 2.64839954363809\t 3.90540892832729\n",
            "11 \t [2.40636094 3.99662471]\t 40.08439739353896\t 7.990765314336182\t 3.067699623554749\t 3.3996077084779697\n",
            "12 \t [ 5.12 -5.12]\t 57.849427451571785\t 7.990765314336182\t 2.8743942493077506\t 3.822862536124943\n",
            "13 \t [5.12       2.36261002]\t 51.00637503174925\t 7.990765314336182\t 2.923697365254737\t 3.462954997767654\n",
            "14 \t [-0.01254261  1.79223196]\t 10.620807534794203\t 7.990765314336182\t 2.742506450149768\t 2.964229174352522\n",
            "15 \t [-2.64004668 -5.12      ]\t 52.26653999874428\t 7.990765314336182\t 2.4900441303632905\t 3.284485907986651\n",
            "16 \t [ 2.03698246 -5.12      ]\t 33.342772404533775\t 7.990765314336182\t 2.767547632438945\t 3.0128135955964885\n",
            "17 \t [ 2.88772709 -0.9623145 ]\t 11.930726633915109\t 7.990765314336182\t 2.1666841432679687\t 2.5967156182518383\n",
            "18 \t [-2.5689028  5.12     ]\t 54.601383497090296\t 7.990765314336182\t 2.41487579428591\t 2.354521755293463\n",
            "19 \t [3.19291644 1.59889018]\t 37.37186542104284\t 7.990765314336182\t 3.079886034190424\t 3.078700430849598\n",
            "20 \t [-0.97809318 -3.09488934]\t 12.354875165780346\t 7.990765314336182\t 2.41439154549549\t 2.79227280510575\n"
          ]
        }
      ],
      "source": [
        "### ESTIMATED STP CBM GRADIENTS\n",
        "\n",
        "np.random.seed(run_num_15)\n",
        "surrogate_approx_15 = dtStudentProcess(cov_func, optimize=opt, nu = df)\n",
        "\n",
        "approx_15 = GPGO_multi(surrogate_approx_15, Acquisition_grad(util), objfunc, param)\n",
        "approx_15.run(init_evals=n_init, max_iter=iters)\n"
      ]
    },
    {
      "cell_type": "code",
      "execution_count": null,
      "metadata": {
        "colab": {
          "base_uri": "https://localhost:8080/"
        },
        "id": "bGGkhp-kGCw6",
        "outputId": "17dd2d15-52d1-442d-c45c-cc116eda2388"
      },
      "outputs": [
        {
          "output_type": "stream",
          "name": "stdout",
          "text": [
            "Evaluation \t Proposed point \t  Current eval. \t  Best eval. \t        Exact CBM: StdDev. x \t Approx CBM: StdDev. x \n",
            "init\t [-2.83349935  0.23719262]\t 22.27210456874814\t 22.27210456874814\t    \t    \n",
            "init\t [ 0.51918292 -4.65303603]\t 57.57021076017139\t 22.27210456874814\t    \t    \n",
            "init\t [-1.42613673 -2.83565116]\t 33.89145899403749\t 22.27210456874814\t    \t    \n",
            "init\t [ 1.9325559  -3.44339021]\t 35.85029586225333\t 22.27210456874814\t    \t    \n",
            "init\t [-4.39987336  4.51595121]\t 77.78800881964571\t 22.27210456874814\t    \t    \n",
            "1  \t [5.12 5.12]\t 57.849427451571785\t 22.27210456874814\t 3.861532713896131\t 4.094297316848433\n",
            "2  \t [5.12       0.13351732]\t 32.2598298944231\t 22.27210456874814\t 3.6316217982511625\t 3.678601542664827\n",
            "3  \t [0.54012088 3.56717674]\t 51.82279264236335\t 22.27210456874814\t 3.558024687032479\t 4.087074909601671\n",
            "4  \t [-5.12 -5.12]\t 57.849427451571785\t 22.27210456874814\t 3.736416901109733\t 3.8947122690324605\n",
            "5  \t [ 5.12 -5.12]\t 57.849427451571785\t 22.27210456874814\t 2.86154000749022\t 3.056484944482769\n",
            "\u001b[1m\u001b[92m6\u001b[0m\t \u001b[1m\u001b[92m[1.2629047  0.01638134]\u001b[0m\t \u001b[1m\u001b[92m12.45805805121063\u001b[0m\t \u001b[1m\u001b[92m12.45805805121063\u001b[0m\t \u001b[1m\u001b[92m3.4551667582013694\u001b[0m\t \u001b[1m\u001b[92m3.459647831132916\u001b[0m\n",
            "7  \t [-5.12       -1.65758614]\t 47.158009200163626\t 12.45805805121063\t 3.0564137325401726\t 3.252753296886628\n",
            "8  \t [3.37862578 2.40667863]\t 52.76715083629062\t 12.45805805121063\t 2.295862983650758\t 3.388614858174282\n",
            "9  \t [ 5.12      -2.3605537]\t 50.89793472527458\t 12.45805805121063\t 2.9150614489994964\t 3.7796160568231767\n",
            "10 \t [-5.12        1.50631225]\t 51.18582636187854\t 12.45805805121063\t 3.1087276102363344\t 3.5997980258187603\n",
            "11 \t [-1.58603627  5.12      ]\t 50.014318880530965\t 12.45805805121063\t 3.1388347167933244\t 3.463877863308455\n",
            "12 \t [-2.37346128 -5.12      ]\t 51.56040704571083\t 12.45805805121063\t 3.2516639028154684\t 3.3129217021809256\n",
            "13 \t [-0.72001679  1.10103415]\t 15.551670789827742\t 12.45805805121063\t 2.6398490746834686\t 2.1505802179129185\n",
            "14 \t [2.42972819 5.12      ]\t 53.86927843874783\t 12.45805805121063\t 2.7316922392527547\t 2.961976652320466\n",
            "15 \t [ 2.79264939 -1.04867389]\t 16.714841923197294\t 12.45805805121063\t 2.536323256011648\t 2.7613628839761497\n",
            "16 \t [-2.32790388  2.52521331]\t 46.3723262942368\t 12.45805805121063\t 2.262996284209562\t 2.9318927983409333\n",
            "\u001b[1m\u001b[92m17\u001b[0m\t \u001b[1m\u001b[92m[-0.26303939 -1.00319923]\u001b[0m\t \u001b[1m\u001b[92m11.895991499900584\u001b[0m\t \u001b[1m\u001b[92m11.895991499900584\u001b[0m\t \u001b[1m\u001b[92m2.711247475160378\u001b[0m\t \u001b[1m\u001b[92m3.0665803731990007\u001b[0m\n",
            "18 \t [5.04429792 2.68535401]\t 46.99197259634724\t 11.895991499900584\t 2.7759921474135214\t 3.2349381603579404\n",
            "19 \t [ 2.91575767 -5.12      ]\t 38.79480066471636\t 11.895991499900584\t 2.4389001011649136\t 2.9167897240167493\n",
            "\u001b[1m\u001b[92m20\u001b[0m\t \u001b[1m\u001b[92m[0.95339759 1.85323079]\u001b[0m\t \u001b[1m\u001b[92m8.72821243419645\u001b[0m\t \u001b[1m\u001b[92m8.72821243419645\u001b[0m\t \u001b[1m\u001b[92m2.9811690806109397\u001b[0m\t \u001b[1m\u001b[92m2.929872664394962\u001b[0m\n"
          ]
        }
      ],
      "source": [
        "### ESTIMATED STP CBM GRADIENTS\n",
        "\n",
        "np.random.seed(run_num_16)\n",
        "surrogate_approx_16 = dtStudentProcess(cov_func, optimize=opt, nu = df)\n",
        "\n",
        "approx_16 = GPGO_multi(surrogate_approx_16, Acquisition_grad(util), objfunc, param)\n",
        "approx_16.run(init_evals=n_init, max_iter=iters)\n"
      ]
    },
    {
      "cell_type": "code",
      "execution_count": null,
      "metadata": {
        "colab": {
          "base_uri": "https://localhost:8080/"
        },
        "id": "Yrs2mp7hGC1Z",
        "outputId": "9a5612fe-0014-4668-922f-44bafbc19493"
      },
      "outputs": [
        {
          "output_type": "stream",
          "name": "stdout",
          "text": [
            "Evaluation \t Proposed point \t  Current eval. \t  Best eval. \t        Exact CBM: StdDev. x \t Approx CBM: StdDev. x \n",
            "init\t [-2.10263037  0.31320838]\t 20.395145364684023\t 20.395145364684023\t    \t    \n",
            "init\t [-3.15882714 -4.42470033]\t 53.03732051200137\t 20.395145364684023\t    \t    \n",
            "init\t [2.93873111 1.60085526]\t 29.989224812583537\t 20.395145364684023\t    \t    \n",
            "init\t [1.40821398 0.77417363]\t 29.451989415882437\t 20.395145364684023\t    \t    \n",
            "init\t [-4.71999574 -1.45598869]\t 55.89242173757483\t 20.395145364684023\t    \t    \n",
            "1  \t [ 5.12 -5.12]\t 57.849427451571785\t 20.395145364684023\t 3.6570380233169133\t 4.80191307821393\n",
            "2  \t [-5.12        5.07495178]\t 55.768409172799245\t 20.395145364684023\t 3.602815070806711\t 3.6725576922351477\n",
            "3  \t [-0.24919819  5.12      ]\t 38.936434480698765\t 20.395145364684023\t 3.6261251566135164\t 3.5112667124731787\n",
            "4  \t [5.12 5.12]\t 57.849427451571785\t 20.395145364684023\t 3.7483711508273405\t 3.8770035696348315\n",
            "5  \t [ 1.0773272  -3.51440768]\t 34.628016617160945\t 20.395145364684023\t 3.0822352451393606\t 3.452025472115885\n",
            "6  \t [ 5.12       -1.25402798]\t 40.75035860039794\t 20.395145364684023\t 3.0046255238442967\t 3.1355370359769856\n",
            "7  \t [-5.12        1.81646903]\t 38.168254722899796\t 20.395145364684023\t 3.0175215742363553\t 2.922741633172573\n",
            "8  \t [-2.32052033  3.11283835]\t 31.77169358331127\t 20.395145364684023\t 3.7793106743172715\t 3.5279162197354283\n",
            "\u001b[1m\u001b[92m9\u001b[0m\t \u001b[1m\u001b[92m[-1.19201951 -2.00680798]\u001b[0m\t \u001b[1m\u001b[92m11.894362633101654\u001b[0m\t \u001b[1m\u001b[92m11.894362633101654\u001b[0m\t \u001b[1m\u001b[92m3.9603154146515425\u001b[0m\t \u001b[1m\u001b[92m3.4860482370579335\u001b[0m\n",
            "10 \t [2.32815186 4.36646901]\t 55.88386968794796\t 11.894362633101654\t 3.209435098319195\t 3.346956931611092\n",
            "11 \t [5.12       2.03106057]\t 33.23975291371222\t 11.894362633101654\t 3.6638101678949053\t 3.2340914203958167\n",
            "12 \t [-0.59955639 -5.12      ]\t 47.39070317934946\t 11.894362633101654\t 2.7643276918556055\t 3.0549973805179826\n",
            "13 \t [ 2.52101882 -1.52635462]\t 48.46142613527583\t 11.894362633101654\t 3.0336489761134393\t 2.8359994539368536\n",
            "14 \t [ 2.55910726 -5.12      ]\t 54.79201128258377\t 11.894362633101654\t 3.1015164449576242\t 3.021712994858847\n",
            "15 \t [-0.07956592  2.3945293 ]\t 24.8473165134824\t 11.894362633101654\t 3.5087900108744345\t 3.422774804619457\n",
            "16 \t [-5.12 -5.12]\t 57.849427451571785\t 11.894362633101654\t 2.84115391507102\t 2.600463082939485\n",
            "17 \t [-2.65380226  5.12      ]\t 51.65029705229669\t 11.894362633101654\t 2.8533359637778775\t 3.131635821007643\n",
            "18 \t [-0.09369388 -0.68448747]\t 16.16165969655648\t 11.894362633101654\t 2.9705571410930633\t 3.125980297144071\n",
            "19 \t [ 4.14555652 -3.1357572 ]\t 34.339852237159015\t 11.894362633101654\t 2.5220653794358756\t 2.518451482039583\n",
            "20 \t [-2.9741291  -2.41145199]\t 33.28418066704265\t 11.894362633101654\t 2.885165096342643\t 3.2117838201567266\n"
          ]
        }
      ],
      "source": [
        "### ESTIMATED STP CBM GRADIENTS\n",
        "\n",
        "np.random.seed(run_num_17)\n",
        "surrogate_approx_17 = dtStudentProcess(cov_func, optimize=opt, nu = df)\n",
        "\n",
        "approx_17 = GPGO_multi(surrogate_approx_17, Acquisition_grad(util), objfunc, param)\n",
        "approx_17.run(init_evals=n_init, max_iter=iters)\n"
      ]
    },
    {
      "cell_type": "code",
      "execution_count": null,
      "metadata": {
        "colab": {
          "base_uri": "https://localhost:8080/"
        },
        "id": "f0HIEP3PIUEa",
        "outputId": "4edf4097-e1d9-4997-9075-6c911d6c5402"
      },
      "outputs": [
        {
          "output_type": "stream",
          "name": "stdout",
          "text": [
            "Evaluation \t Proposed point \t  Current eval. \t  Best eval. \t        Exact CBM: StdDev. x \t Approx CBM: StdDev. x \n",
            "init\t [1.53983224 0.05584255]\t 22.67190580753611\t 22.67190580753611\t    \t    \n",
            "init\t [ 3.87687906 -3.25795609]\t 38.990099416711985\t 22.67190580753611\t    \t    \n",
            "init\t [3.60686662 2.56139557]\t 56.66448698782129\t 22.67190580753611\t    \t    \n",
            "init\t [1.70088108 4.99604939]\t 40.894059318256296\t 22.67190580753611\t    \t    \n",
            "init\t [-2.48864335 -4.83014733]\t 54.6725749848372\t 22.67190580753611\t    \t    \n",
            "1  \t [-5.00718904  2.9174042 ]\t 34.91005808676357\t 22.67190580753611\t 3.5418258775181086\t 4.1811931040096795\n",
            "2  \t [-5.12      -1.3722855]\t 47.757324227038765\t 22.67190580753611\t 3.6931443959636545\t 3.344720234113081\n",
            "3  \t [-1.30205409  2.41826661]\t 39.46609253281907\t 22.67190580753611\t 3.926909220804265\t 3.8962521601780176\n",
            "4  \t [ 1.04780681 -5.12      ]\t 30.470368738351063\t 22.67190580753611\t 3.659984539018495\t 3.7598225646422594\n",
            "5  \t [-1.46278717 -1.33669139]\t 38.8359846093958\t 22.67190580753611\t 3.530250257233899\t 3.754874339193909\n",
            "6  \t [-2.7390771  5.12     ]\t 47.11302467342702\t 22.67190580753611\t 4.1152303252692315\t 4.093195305339609\n",
            "7  \t [ 5.12      -0.3511268]\t 44.98298623489799\t 22.67190580753611\t 4.254102847835646\t 4.138882375601579\n",
            "8  \t [5.12 5.12]\t 57.849427451571785\t 22.67190580753611\t 3.4465335926952814\t 4.247885796870067\n",
            "9  \t [-5.12 -5.12]\t 57.849427451571785\t 22.67190580753611\t 3.510583764723702\t 3.5467947250222736\n",
            "10 \t [ 1.09046472 -2.4850079 ]\t 28.892446268963454\t 22.67190580753611\t 3.1835382965073276\t 3.7868648767743323\n",
            "11 \t [ 5.12 -5.12]\t 57.849427451571785\t 22.67190580753611\t 3.1090236546025927\t 4.191906054913655\n",
            "12 \t [-3.41428038  0.75279171]\t 40.63292246225055\t 22.67190580753611\t 2.5544091813415855\t 3.5518077814658793\n",
            "13 \t [-5.12  5.12]\t 57.849427451571785\t 22.67190580753611\t 2.879635130160208\t 3.3424066864263233\n",
            "14 \t [1.01243598 2.37752347]\t 23.89044532661995\t 22.67190580753611\t 2.5201209083690905\t 2.890199932219572\n",
            "15 \t [-0.514704    4.64531942]\t 57.914465549718926\t 22.67190580753611\t 2.7244831299169756\t 2.8910024826876564\n",
            "16 \t [-3.32414659 -2.67822293]\t 47.07344694993808\t 22.67190580753611\t 2.8379944345119883\t 2.7065936866161797\n",
            "\u001b[1m\u001b[92m17\u001b[0m\t \u001b[1m\u001b[92m[ 3.00024423 -1.1352404 ]\u001b[0m\t \u001b[1m\u001b[92m13.688467226188472\u001b[0m\t \u001b[1m\u001b[92m13.688467226188472\u001b[0m\t \u001b[1m\u001b[92m2.9004585130419946\u001b[0m\t \u001b[1m\u001b[92m3.5180239684575976\u001b[0m\n",
            "18 \t [-0.77560288 -3.50142114]\t 41.259364355728614\t 13.688467226188472\t 3.1804602184484163\t 3.5243955023465587\n",
            "19 \t [-0.36486821  0.44050802]\t 36.24354894799309\t 13.688467226188472\t 2.9385977516313018\t 2.930634749427704\n",
            "20 \t [ 2.99060643 -5.12      ]\t 37.885853204631374\t 13.688467226188472\t 2.8889271172104722\t 3.0325830757726875\n"
          ]
        }
      ],
      "source": [
        "### ESTIMATED STP CBM GRADIENTS\n",
        "\n",
        "np.random.seed(run_num_18)\n",
        "surrogate_approx_18 = dtStudentProcess(cov_func, optimize=opt, nu = df)\n",
        "\n",
        "approx_18 = GPGO_multi(surrogate_approx_18, Acquisition_grad(util), objfunc, param)\n",
        "approx_18.run(init_evals=n_init, max_iter=iters)\n"
      ]
    },
    {
      "cell_type": "code",
      "execution_count": null,
      "metadata": {
        "colab": {
          "base_uri": "https://localhost:8080/"
        },
        "id": "S3mxRQDLIUPC",
        "outputId": "13ccef6d-081d-4712-c645-b19053aeddb4"
      },
      "outputs": [
        {
          "output_type": "stream",
          "name": "stdout",
          "text": [
            "Evaluation \t Proposed point \t  Current eval. \t  Best eval. \t        Exact CBM: StdDev. x \t Approx CBM: StdDev. x \n",
            "init\t [-4.12125592  2.6751971 ]\t 41.43485596167127\t 25.867003842388073\t    \t    \n",
            "init\t [-2.59135515 -3.70553152]\t 51.60126035043229\t 25.867003842388073\t    \t    \n",
            "init\t [-1.72598719 -4.27008445]\t 43.97430127029199\t 25.867003842388073\t    \t    \n",
            "init\t [1.76104531 3.13952049]\t 25.867003842388073\t 25.867003842388073\t    \t    \n",
            "init\t [4.9432772  1.38916592]\t 44.66580306903559\t 25.867003842388073\t    \t    \n",
            "1  \t [ 5.12 -5.12]\t 57.849427451571785\t 25.867003842388073\t 3.45265650746494\t 4.554854864635011\n",
            "2  \t [ 1.77596915 -1.68646673]\t 28.26051051693502\t 25.867003842388073\t 3.764194969822112\t 3.4015309678354995\n",
            "3  \t [5.12 5.12]\t 57.849427451571785\t 25.867003842388073\t 4.321374275101731\t 4.372276433568055\n",
            "4  \t [-1.28686672  5.12      ]\t 42.876484286540695\t 25.867003842388073\t 2.9276172527089117\t 2.9939351856270933\n",
            "5  \t [-5.12       -0.97838063]\t 29.974061090767464\t 25.867003842388073\t 3.093258285183149\t 3.2783326538951774\n",
            "\u001b[1m\u001b[92m6\u001b[0m\t \u001b[1m\u001b[92m[-1.20086679  0.35666079]\u001b[0m\t \u001b[1m\u001b[92m24.74214860370784\u001b[0m\t \u001b[1m\u001b[92m24.74214860370784\u001b[0m\t \u001b[1m\u001b[92m3.263765893084114\u001b[0m\t \u001b[1m\u001b[92m2.943971831802197\u001b[0m\n",
            "7  \t [ 1.54051221 -5.12      ]\t 50.975669411564\t 24.74214860370784\t 3.2908165737363437\t 3.8366094256833847\n",
            "8  \t [-5.12 -5.12]\t 57.849427451571785\t 24.74214860370784\t 3.4017778083377563\t 3.5436902133320225\n",
            "9  \t [ 5.12       -1.82177129]\t 37.88533590328813\t 24.74214860370784\t 2.824183169614649\t 3.5661752077114515\n",
            "10 \t [-5.12  5.12]\t 57.849427451571785\t 24.74214860370784\t 2.9360555083490003\t 3.388789660583492\n",
            "\u001b[1m\u001b[92m11\u001b[0m\t \u001b[1m\u001b[92m[1.82665385 0.74093214]\u001b[0m\t \u001b[1m\u001b[92m19.82284031563906\u001b[0m\t \u001b[1m\u001b[92m19.82284031563906\u001b[0m\t \u001b[1m\u001b[92m2.601759702122892\u001b[0m\t \u001b[1m\u001b[92m2.7319180063919846\u001b[0m\n",
            "12 \t [2.08198675 5.12      ]\t 34.55713476221207\t 19.82284031563906\t 2.9961494451859587\t 2.885095301522866\n",
            "13 \t [-0.85364486  2.60610931]\t 29.317583269953523\t 19.82284031563906\t 2.816905544495511\t 3.027377202890428\n",
            "14 \t [-0.58739208 -1.87552892]\t 25.298052888951247\t 19.82284031563906\t 2.667413178191246\t 3.091642532598945\n",
            "\u001b[1m\u001b[92m15\u001b[0m\t \u001b[1m\u001b[92m[-2.96349062 -0.85662834]\u001b[0m\t \u001b[1m\u001b[92m13.56845743949446\u001b[0m\t \u001b[1m\u001b[92m13.56845743949446\u001b[0m\t \u001b[1m\u001b[92m2.967862450400811\u001b[0m\t \u001b[1m\u001b[92m2.9537799011432155\u001b[0m\n",
            "16 \t [ 3.25170316 -3.30144926]\t 44.75679482027833\t 13.56845743949446\t 3.1292201489730602\t 2.9714133128194393\n",
            "17 \t [-5.12        0.95363506]\t 30.2554762359289\t 13.56845743949446\t 2.784123674201121\t 3.1127986765204807\n",
            "18 \t [-5.12       -2.83525822]\t 41.85903015723489\t 13.56845743949446\t 3.170963513831497\t 2.9067855698212037\n",
            "19 \t [3.70935011 3.15175897]\t 40.431208335859466\t 13.56845743949446\t 2.8008769383282366\t 3.063659363720925\n",
            "20 \t [ 3.4417689  -0.32148959]\t 45.62952455182443\t 13.56845743949446\t 2.5504842098042984\t 2.8599073445505945\n"
          ]
        }
      ],
      "source": [
        "### ESTIMATED STP CBM GRADIENTS\n",
        "\n",
        "np.random.seed(run_num_19)\n",
        "surrogate_approx_19 = dtStudentProcess(cov_func, optimize=opt, nu = df)\n",
        "\n",
        "approx_19 = GPGO_multi(surrogate_approx_19, Acquisition_grad(util), objfunc, param)\n",
        "approx_19.run(init_evals=n_init, max_iter=iters)\n"
      ]
    },
    {
      "cell_type": "code",
      "execution_count": null,
      "metadata": {
        "colab": {
          "base_uri": "https://localhost:8080/"
        },
        "id": "Aawd59dRIUYn",
        "outputId": "b85b5c14-18f0-45ad-b490-efb1761747b9"
      },
      "outputs": [
        {
          "output_type": "stream",
          "name": "stdout",
          "text": [
            "Evaluation \t Proposed point \t  Current eval. \t  Best eval. \t        Exact CBM: StdDev. x \t Approx CBM: StdDev. x \n",
            "init\t [0.9024594  4.07258857]\t 20.24255447774017\t 17.388691338534382\t    \t    \n",
            "init\t [4.00927467 3.23417577]\t 35.55852254546393\t 17.388691338534382\t    \t    \n",
            "init\t [-4.75249064  1.96359764]\t 36.54582989269194\t 17.388691338534382\t    \t    \n",
            "init\t [-1.24230715  0.18955208]\t 17.388691338534382\t 17.388691338534382\t    \t    \n",
            "init\t [ 1.61742301 -3.13497377]\t 33.22932870179905\t 17.388691338534382\t    \t    \n",
            "1  \t [-5.12 -5.12]\t 57.849427451571785\t 17.388691338534382\t 3.717572466081783\t 4.098167248976213\n",
            "2  \t [ 5.12       -0.92644199]\t 30.832176595418844\t 17.388691338534382\t 3.1636494726948414\t 4.059772207937319\n",
            "3  \t [ 5.12 -5.12]\t 57.849427451571785\t 17.388691338534382\t 2.961834135311839\t 3.4405693406977624\n",
            "4  \t [-2.70379288  5.12      ]\t 49.09787358047147\t 17.388691338534382\t 3.0396849888318807\t 3.790368013331012\n",
            "5  \t [-1.34028363 -5.12      ]\t 46.09438022590827\t 17.388691338534382\t 3.3240429015086286\t 3.3331591032006154\n",
            "6  \t [-5.12       -1.49938108]\t 51.17278174563276\t 17.388691338534382\t 3.3493682888933134\t 3.463332188013017\n",
            "7  \t [1.91347992 0.46592712]\t 25.09179272658293\t 17.388691338534382\t 3.6708280099599895\t 3.732821148593386\n",
            "8  \t [-2.04366868 -2.27177382]\t 21.075425428646756\t 17.388691338534382\t 3.584717739314847\t 3.6439886256845013\n",
            "9  \t [-1.35454458  2.5608076 ]\t 43.77792716189765\t 17.388691338534382\t 3.3581936153330316\t 3.8318428112194343\n",
            "10 \t [-5.12  5.12]\t 57.849427451571785\t 17.388691338534382\t 3.559678100505667\t 3.6359658507604906\n",
            "11 \t [5.12 5.12]\t 57.849427451571785\t 17.388691338534382\t 3.750407049806992\t 3.168301200932255\n",
            "12 \t [ 2.27982386 -5.12      ]\t 45.98525166493637\t 17.388691338534382\t 2.909029695501505\t 2.991908214684949\n",
            "13 \t [5.12       1.32196151]\t 45.041278275571436\t 17.388691338534382\t 3.160751901239704\t 3.645864146515684\n",
            "14 \t [ 0.21632327 -1.32399304]\t 24.182977869575772\t 17.388691338534382\t 2.7299322458557937\t 2.6613227389475678\n",
            "15 \t [2.43952072 5.12      ]\t 54.162612053313055\t 17.388691338534382\t 2.6044434305177155\t 3.3213991404409833\n",
            "16 \t [ 3.91831584 -2.68755346]\t 37.68827482787684\t 17.388691338534382\t 2.4773433223655372\t 2.843353093641698\n",
            "17 \t [-3.17116114  0.12651448]\t 18.31532972728832\t 17.388691338534382\t 2.637756112891971\t 2.595484974258654\n",
            "18 \t [-0.4403911  5.12     ]\t 48.42544093336569\t 17.388691338534382\t 2.6532914065273316\t 2.9397378820498714\n",
            "19 \t [-3.85310996 -3.34712528]\t 45.745671734221155\t 17.388691338534382\t 2.9251636761722404\t 3.001933903446099\n",
            "20 \t [ 0.53908598 -5.08614684]\t 47.28894065809678\t 17.388691338534382\t 2.521670775437675\t 2.7076407970961527\n"
          ]
        }
      ],
      "source": [
        "### ESTIMATED STP CBM GRADIENTS\n",
        "\n",
        "np.random.seed(run_num_20)\n",
        "surrogate_approx_20 = dtStudentProcess(cov_func, optimize=opt, nu = df)\n",
        "\n",
        "approx_20 = GPGO_multi(surrogate_approx_20, Acquisition_grad(util), objfunc, param)\n",
        "approx_20.run(init_evals=n_init, max_iter=iters)\n"
      ]
    },
    {
      "cell_type": "code",
      "execution_count": null,
      "metadata": {
        "colab": {
          "base_uri": "https://localhost:8080/"
        },
        "id": "xkgzPRbBTHaq",
        "outputId": "4e3074f1-75e6-4435-8004-1eaee8558914"
      },
      "outputs": [
        {
          "output_type": "execute_result",
          "data": {
            "text/plain": [
              "1662466334.7975183"
            ]
          },
          "metadata": {},
          "execution_count": 33
        }
      ],
      "source": [
        "end_approx = time.time()\n",
        "end_approx\n",
        "\n",
        "time_approx = end_approx - start_approx\n",
        "time_approx\n",
        "\n",
        "start_exact = time.time()\n",
        "start_exact"
      ]
    },
    {
      "cell_type": "code",
      "execution_count": null,
      "metadata": {
        "colab": {
          "base_uri": "https://localhost:8080/"
        },
        "id": "7CG3Ndvb16Rb",
        "outputId": "d63d5f40-0a97-4f3b-d4aa-18508a3b90d0"
      },
      "outputs": [
        {
          "output_type": "stream",
          "name": "stdout",
          "text": [
            "Evaluation \t Proposed point \t  Current eval. \t  Best eval. \t        Exact CBM: StdDev. x \t Approx CBM: StdDev. x \n",
            "init\t [-0.84969467  2.25612281]\t 20.33436270766351\t 19.908403246996286\t    \t    \n",
            "init\t [-5.1188288  -2.02411446]\t 33.07414982069084\t 19.908403246996286\t    \t    \n",
            "init\t [-3.61721968 -4.17445279]\t 53.347974723929894\t 19.908403246996286\t    \t    \n",
            "init\t [-3.21269544 -1.58145816]\t 39.218472310354045\t 19.908403246996286\t    \t    \n",
            "init\t [-1.05710106  0.39748336]\t 19.908403246996286\t 19.908403246996286\t    \t    \n",
            "1  \t [ 4.04077223 -4.24914728]\t 44.655863836006326\t 19.908403246996286\t 3.7088439313966624\t 4.457534070151755\n",
            "2  \t [5.12 5.12]\t 57.849427451571785\t 19.908403246996286\t 3.5871413515079587\t 3.722531200871481\n",
            "3  \t [4.89488538 0.38311341]\t 43.63173973521079\t 19.908403246996286\t 3.5594191020908172\t 4.404954375014973\n",
            "4  \t [-4.8997378   4.58706316]\t 65.5088143021834\t 19.908403246996286\t 3.819898718513927\t 4.32776557980305\n",
            "5  \t [ 0.18679275 -5.12      ]\t 35.09175355297107\t 19.908403246996286\t 2.88829094510977\t 3.409352349853331\n",
            "6  \t [1.14492133 5.12      ]\t 34.102583195062635\t 19.908403246996286\t 2.893914807262292\t 3.3622004222619513\n",
            "7  \t [ 1.58973966 -1.44699456]\t 42.52361731048539\t 19.908403246996286\t 3.2589069180334302\t 3.5856465739316072\n",
            "8  \t [-4.91946953  1.22027627]\t 35.086534018466914\t 19.908403246996286\t 3.336638228704968\t 3.7853190835101076\n",
            "9  \t [-1.71818185  5.03583379]\t 40.55006820212546\t 19.908403246996286\t 3.4597434719130704\t 3.996987711363638\n",
            "10 \t [1.46553941 2.69830489]\t 42.386446593049484\t 19.908403246996286\t 3.548446990210068\t 3.5840840836890413\n",
            "11 \t [-0.93700994 -2.36898818]\t 24.06211370685564\t 19.908403246996286\t 3.4117915237127074\t 3.517984824329305\n",
            "12 \t [ 5.12       -2.07341661]\t 34.268980375568205\t 19.908403246996286\t 3.2324781829992855\t 3.801213947730975\n",
            "13 \t [4.70472479 2.67984221]\t 56.389263069591394\t 19.908403246996286\t 2.462164655479291\t 2.968862753785263\n",
            "14 \t [-2.93324282  2.51628002]\t 35.75016769536816\t 19.908403246996286\t 3.103854767646309\t 3.6089698313725633\n",
            "15 \t [1.64965342 0.68987964]\t 32.781022264954785\t 19.908403246996286\t 3.1245751777917956\t 3.3371973329897133\n",
            "16 \t [ 1.70430273 -3.6472775 ]\t 45.05461261461985\t 19.908403246996286\t 3.3718774915977585\t 3.7135297133906966\n",
            "17 \t [-5.12 -5.12]\t 57.849427451571785\t 19.908403246996286\t 3.340241904029244\t 3.560518759812756\n",
            "18 \t [3.03166285 4.98868599]\t 34.30046528798586\t 19.908403246996286\t 2.674263754503571\t 3.4702510159595543\n",
            "19 \t [-2.00943227 -5.06747045]\t 30.619834665003662\t 19.908403246996286\t 2.5506285498851455\t 3.627851698919291\n",
            "20 \t [-2.85247451  0.36482096]\t 28.871459867170316\t 19.908403246996286\t 2.712417885773036\t 3.2653973819365416\n"
          ]
        }
      ],
      "source": [
        "### EXACT STP CBM GRADIENTS\n",
        "\n",
        "np.random.seed(run_num_1)\n",
        "surrogate_exact_1 = dtStudentProcess(cov_func, optimize=opt, nu = df)\n",
        "\n",
        "exact_1 = dGPGO(surrogate_exact_1, Acquisition_grad(util), objfunc, param)\n",
        "exact_1.run(init_evals=n_init, max_iter=iters)\n"
      ]
    },
    {
      "cell_type": "code",
      "execution_count": null,
      "metadata": {
        "colab": {
          "base_uri": "https://localhost:8080/"
        },
        "id": "-ilCPSAu9SAg",
        "outputId": "9252f497-3bd6-436f-efd6-2721903c8006"
      },
      "outputs": [
        {
          "output_type": "stream",
          "name": "stdout",
          "text": [
            "Evaluation \t Proposed point \t  Current eval. \t  Best eval. \t        Exact CBM: StdDev. x \t Approx CBM: StdDev. x \n",
            "init\t [-0.6554122  -4.85451539]\t 43.490296251903594\t 18.964539418712707\t    \t    \n",
            "init\t [ 0.50854377 -0.6622987 ]\t 35.91861667536101\t 18.964539418712707\t    \t    \n",
            "init\t [-0.81543371 -1.73737143]\t 20.479562046739524\t 18.964539418712707\t    \t    \n",
            "init\t [-3.02439799  1.2213347 ]\t 18.964539418712707\t 18.964539418712707\t    \t    \n",
            "init\t [-2.05153614 -2.3876887 ]\t 28.041315668371354\t 18.964539418712707\t    \t    \n",
            "1  \t [5.12       2.71160475]\t 48.66662635787997\t 18.964539418712707\t 3.8392364740048324\t 4.471734094577706\n",
            "2  \t [ 4.84262155 -3.96515547]\t 43.91553781580606\t 18.964539418712707\t 3.540163894812501\t 4.432940675278595\n",
            "3  \t [0.3100105 5.12     ]\t 42.70267944970056\t 18.964539418712707\t 3.9308848173470547\t 4.129189390692399\n",
            "4  \t [-5.12 -5.12]\t 57.849427451571785\t 18.964539418712707\t 3.810794519562508\t 4.334129057384906\n",
            "5  \t [-5.12       -1.36004865]\t 47.151040790814946\t 18.964539418712707\t 3.455724690105896\t 3.7381988443363747\n",
            "6  \t [-3.76264134  4.92550804]\t 48.7001436717176\t 18.964539418712707\t 3.7187763435701657\t 3.953436415949864\n",
            "7  \t [ 4.00446232 -0.57211144]\t 35.35794979779075\t 18.964539418712707\t 3.3100391220698144\t 3.693016734498003\n",
            "8  \t [3.42834784 5.12      ]\t 59.68186695206954\t 18.964539418712707\t 2.720101993426123\t 2.720554489869443\n",
            "9  \t [1.54894995 2.1836948 ]\t 32.65190684195368\t 18.964539418712707\t 2.9840826980484043\t 3.1832148567656984\n",
            "10 \t [ 1.90471187 -3.2569305 ]\t 26.410225390701992\t 18.964539418712707\t 3.14742910099378\t 3.6427075895928906\n",
            "\u001b[1m\u001b[92m11\u001b[0m\t \u001b[1m\u001b[92m[-0.96783385  2.2684967 ]\u001b[0m\t \u001b[1m\u001b[92m17.44588677576202\u001b[0m\t \u001b[1m\u001b[92m17.44588677576202\u001b[0m\t \u001b[1m\u001b[92m3.4096969851229053\u001b[0m\t \u001b[1m\u001b[92m3.8410921262155284\u001b[0m\n",
            "12 \t [-5.05758074  1.08794425]\t 28.898315717890334\t 17.44588677576202\t 2.7037867209737074\t 3.653586475766362\n",
            "13 \t [-2.81632672 -5.12      ]\t 42.808565729374706\t 17.44588677576202\t 3.403563341704508\t 3.8716656417482747\n",
            "14 \t [-4.97253436  3.08638186]\t 35.83748768189729\t 17.44588677576202\t 3.5273745609262606\t 4.00328808222847\n",
            "15 \t [-1.66614053  3.80527459]\t 38.88113329693354\t 17.44588677576202\t 2.733646945955018\t 3.4284124941820058\n",
            "16 \t [-2.31760123 -0.22554468]\t 28.012552224478892\t 17.44588677576202\t 2.8734688824104606\t 3.552115760265491\n",
            "17 \t [ 1.89308289 -5.12      ]\t 34.681325940120715\t 17.44588677576202\t 3.046666585399113\t 3.5888115948115686\n",
            "18 \t [-3.96356388 -3.04741049]\t 25.69788035327131\t 17.44588677576202\t 3.492431128150744\t 3.6513242132492034\n",
            "19 \t [ 2.23332811 -1.27092292]\t 26.868230960703958\t 17.44588677576202\t 3.14431798347991\t 3.872214137362496\n",
            "20 \t [3.7507834  1.17020209]\t 30.58212128148845\t 17.44588677576202\t 3.2536721585076616\t 3.612858998696779\n"
          ]
        }
      ],
      "source": [
        "### EXACT STP CBM GRADIENTS\n",
        "\n",
        "np.random.seed(run_num_2)\n",
        "surrogate_exact_2 = dtStudentProcess(cov_func, optimize=opt, nu = df)\n",
        "\n",
        "exact_2 = dGPGO(surrogate_exact_2, Acquisition_grad(util), objfunc, param)\n",
        "exact_2.run(init_evals=n_init, max_iter=iters)\n"
      ]
    },
    {
      "cell_type": "code",
      "execution_count": null,
      "metadata": {
        "colab": {
          "base_uri": "https://localhost:8080/"
        },
        "id": "XieJ158mIvlP",
        "outputId": "359772d0-6ca4-4177-b7c2-c26c0c3f7884"
      },
      "outputs": [
        {
          "output_type": "stream",
          "name": "stdout",
          "text": [
            "Evaluation \t Proposed point \t  Current eval. \t  Best eval. \t        Exact CBM: StdDev. x \t Approx CBM: StdDev. x \n",
            "init\t [0.52017052 2.1314337 ]\t 27.953858411008774\t 10.607662635789808\t    \t    \n",
            "init\t [-2.14113547  0.11087468]\t 10.607662635789808\t 10.607662635789808\t    \t    \n",
            "init\t [4.02377681 4.05804123]\t 33.42749829480097\t 10.607662635789808\t    \t    \n",
            "init\t [-3.83400642 -2.99783293]\t 28.650953928965198\t 10.607662635789808\t    \t    \n",
            "init\t [-4.59297584 -0.6061072 ]\t 57.6631355589384\t 10.607662635789808\t    \t    \n",
            "1  \t [ 2.87042319 -1.98283743]\t 15.364229918613852\t 10.607662635789808\t 2.5515876750905844\t 2.783473771204631\n",
            "2  \t [-3.569005    4.81519487]\t 61.01589764498804\t 10.607662635789808\t 3.1371557081176387\t 4.410488477886138\n",
            "3  \t [4.5957574  0.77753817]\t 48.247861084595044\t 10.607662635789808\t 3.348121135626872\t 3.7005150878210986\n",
            "4  \t [ 0.05172717 -5.12      ]\t 29.450918451155914\t 10.607662635789808\t 3.1846267425630357\t 3.7544816799162906\n",
            "5  \t [ 3.22391564 -4.82843532]\t 47.344664232435946\t 10.607662635789808\t 3.753002390168563\t 3.928365682040974\n",
            "6  \t [-0.13430781 -1.85401641]\t 10.729614496931763\t 10.607662635789808\t 3.352356564354337\t 3.6942303142434283\n",
            "7  \t [0.42047156 5.12      ]\t 47.87881237276777\t 10.607662635789808\t 3.6453235253804697\t 3.5594911432743186\n",
            "8  \t [-5.12 -5.12]\t 57.849427451571785\t 10.607662635789808\t 3.653779950600842\t 3.6334688861684272\n",
            "9  \t [-1.76651934  2.80861919]\t 26.37241244653849\t 10.607662635789808\t 2.3847417195147735\t 3.2884644879901015\n",
            "10 \t [ 5.12       -2.37633052]\t 51.70159401213361\t 10.607662635789808\t 3.117711997142562\t 3.059945732241803\n",
            "11 \t [ 1.77432941 -0.20448822]\t 18.84656910726827\t 10.607662635789808\t 3.12287201340192\t 3.5500290166311523\n",
            "12 \t [-4.09135159  1.92512162]\t 23.134247915910112\t 10.607662635789808\t 3.068180478385898\t 3.2254613471587334\n",
            "13 \t [-2.38722884 -4.83351233]\t 51.64495001170822\t 10.607662635789808\t 3.7170463140408567\t 3.8482768571792203\n",
            "\u001b[1m\u001b[92m14\u001b[0m\t \u001b[1m\u001b[92m[ 0.98263    -2.94033338]\u001b[0m\t \u001b[1m\u001b[92m10.365164106248164\u001b[0m\t \u001b[1m\u001b[92m10.365164106248164\u001b[0m\t \u001b[1m\u001b[92m3.0424658984174062\u001b[0m\t \u001b[1m\u001b[92m3.6707627034987\u001b[0m\n",
            "15 \t [-1.48989773 -2.54349388]\t 48.297926173937576\t 10.365164106248164\t 3.2087869488094953\t 3.466219491144408\n",
            "16 \t [-0.31178967 -0.04037158]\t 14.204406054651173\t 10.365164106248164\t 2.6669866394144544\t 4.071168087234325\n",
            "17 \t [5.12 5.12]\t 57.849427451571785\t 10.365164106248164\t 3.554391763290119\t 3.875812989990687\n",
            "18 \t [2.37800043 3.97738931]\t 38.77836664645461\t 10.365164106248164\t 2.9896090583512605\t 3.500478725564928\n",
            "19 \t [2.78845599 1.37555336]\t 34.37042575721965\t 10.365164106248164\t 2.8576517263465706\t 3.4641019108232807\n",
            "20 \t [ 1.17784018 -1.58465119]\t 28.136795549854327\t 10.365164106248164\t 2.314778883531557\t 2.9853332359612774\n"
          ]
        }
      ],
      "source": [
        "### EXACT STP CBM GRADIENTS\n",
        "\n",
        "np.random.seed(run_num_3)\n",
        "surrogate_exact_3 = dtStudentProcess(cov_func, optimize=opt, nu = df)\n",
        "\n",
        "exact_3 = dGPGO(surrogate_exact_3, Acquisition_grad(util), objfunc, param)\n",
        "exact_3.run(init_evals=n_init, max_iter=iters)\n"
      ]
    },
    {
      "cell_type": "code",
      "execution_count": null,
      "metadata": {
        "colab": {
          "base_uri": "https://localhost:8080/"
        },
        "id": "PhLBVOIfIvol",
        "outputId": "4ae4f550-1dc5-4401-bf82-378bab2e7320"
      },
      "outputs": [
        {
          "output_type": "stream",
          "name": "stdout",
          "text": [
            "Evaluation \t Proposed point \t  Current eval. \t  Best eval. \t        Exact CBM: StdDev. x \t Approx CBM: StdDev. x \n",
            "init\t [4.78238555 0.48365823]\t 51.03163809010808\t 14.323038259018315\t    \t    \n",
            "init\t [4.84028785 2.19971578]\t 39.78645699016559\t 14.323038259018315\t    \t    \n",
            "init\t [ 2.02474316 -2.90724357]\t 14.323038259018315\t 14.323038259018315\t    \t    \n",
            "init\t [ 4.87705042 -5.05620219]\t 52.80627247106233\t 14.323038259018315\t    \t    \n",
            "init\t [-2.52946061 -0.66773471]\t 41.61497868486559\t 14.323038259018315\t    \t    \n",
            "1  \t [-1.03938425  4.75039351]\t 33.92645283292733\t 14.323038259018315\t 3.2386667518069507\t 4.092261367802631\n",
            "2  \t [-5.12 -5.12]\t 57.849427451571785\t 14.323038259018315\t 3.803721179317186\t 3.2821945223995277\n",
            "3  \t [-0.96045295 -5.12      ]\t 30.154313564306392\t 14.323038259018315\t 3.3297416949896093\t 4.040455427260482\n",
            "4  \t [0.82408287 1.34624477]\t 23.688349981303386\t 14.323038259018315\t 3.1369993021327813\t 3.640764097133853\n",
            "5  \t [-5.12        3.15828633]\t 43.450619313093384\t 14.323038259018315\t 3.0708234284107903\t 3.7286156900930405\n",
            "6  \t [2.73624932 5.12      ]\t 47.274680218843\t 14.323038259018315\t 3.3732834314448517\t 3.4513488947100264\n",
            "7  \t [-5.12       -1.84144066]\t 36.881142062848866\t 14.323038259018315\t 2.7562790016701424\t 2.8043140096343664\n",
            "\u001b[1m\u001b[92m8\u001b[0m\t \u001b[1m\u001b[92m[-1.82555042  2.01386203]\u001b[0m\t \u001b[1m\u001b[92m12.855488668604591\u001b[0m\t \u001b[1m\u001b[92m12.855488668604591\u001b[0m\t \u001b[1m\u001b[92m3.080166275315883\u001b[0m\t \u001b[1m\u001b[92m3.3239392418191898\u001b[0m\n",
            "9  \t [5.12 5.12]\t 57.849427451571785\t 12.855488668604591\t 2.828097495027314\t 3.2339181262004053\n",
            "\u001b[1m\u001b[92m10\u001b[0m\t \u001b[1m\u001b[92m[-0.02624454 -1.87407274]\u001b[0m\t \u001b[1m\u001b[92m6.61873769837786\u001b[0m\t \u001b[1m\u001b[92m6.61873769837786\u001b[0m\t \u001b[1m\u001b[92m2.392945915861964\u001b[0m\t \u001b[1m\u001b[92m3.3951652340622562\u001b[0m\n",
            "11 \t [ 5.04269266 -2.21353353]\t 38.41484684446343\t 6.61873769837786\t 2.97376738022201\t 3.7083385331112746\n",
            "12 \t [ 1.38831681 -4.95089934]\t 44.54824283031399\t 6.61873769837786\t 2.5544056004253215\t 3.6362179011513156\n",
            "13 \t [ 2.08042476 -0.66712076]\t 20.998309814019905\t 6.61873769837786\t 2.705996279700154\t 3.187759863984674\n",
            "14 \t [-2.692741   -3.36563082]\t 48.74170226597022\t 6.61873769837786\t 2.673246094241666\t 3.62678219606472\n",
            "15 \t [2.38518864 2.6614311 ]\t 45.56341529645607\t 6.61873769837786\t 2.2493737729587795\t 2.865762359410473\n",
            "16 \t [-3.40493733  4.90826668]\t 55.56884765419588\t 6.61873769837786\t 2.6531136501940904\t 3.1629613412529505\n",
            "17 \t [-4.97808968  0.58312537]\t 43.88280290600255\t 6.61873769837786\t 2.5632327737006184\t 3.4381641643851713\n",
            "18 \t [-0.03445646 -0.47337039]\t 20.319054569609584\t 6.61873769837786\t 3.0778531440652053\t 3.0535948971326192\n",
            "19 \t [-0.40453546 -2.97765327]\t 27.38284355841069\t 6.61873769837786\t 2.9521693132139473\t 3.353610894429645\n",
            "20 \t [0.20461978 2.80486701]\t 21.71678743522895\t 6.61873769837786\t 2.3162695286782875\t 3.2295173994857977\n"
          ]
        }
      ],
      "source": [
        "### EXACT STP CBM GRADIENTS\n",
        "\n",
        "np.random.seed(run_num_4)\n",
        "surrogate_exact_4 = dtStudentProcess(cov_func, optimize=opt, nu = df)\n",
        "\n",
        "exact_4 = dGPGO(surrogate_exact_4, Acquisition_grad(util), objfunc, param)\n",
        "exact_4.run(init_evals=n_init, max_iter=iters)\n"
      ]
    },
    {
      "cell_type": "code",
      "execution_count": null,
      "metadata": {
        "colab": {
          "base_uri": "https://localhost:8080/"
        },
        "id": "arbiPyj2IvsJ",
        "outputId": "3d425818-8adc-46dc-eda3-b1a234c6ef3b"
      },
      "outputs": [
        {
          "output_type": "stream",
          "name": "stdout",
          "text": [
            "Evaluation \t Proposed point \t  Current eval. \t  Best eval. \t        Exact CBM: StdDev. x \t Approx CBM: StdDev. x \n",
            "init\t [-2.84678993  3.79629882]\t 33.93442008827236\t 7.8108627039749745\t    \t    \n",
            "init\t [-3.00319585  4.2865757 ]\t 39.673876075575784\t 7.8108627039749745\t    \t    \n",
            "init\t [-0.11866943  1.14425716]\t 7.8108627039749745\t 7.8108627039749745\t    \t    \n",
            "init\t [2.72289645 0.1886002 ]\t 25.38160395721669\t 7.8108627039749745\t    \t    \n",
            "init\t [-2.08076286 -3.19773462]\t 22.589982116319675\t 7.8108627039749745\t    \t    \n",
            "1  \t [ 4.32895605 -5.09732646]\t 61.29478907190488\t 7.8108627039749745\t 4.47149878194087\t 4.697059326708273\n",
            "2  \t [5.12 5.12]\t 57.849427451571785\t 7.8108627039749745\t 4.21210310251743\t 3.9310723135860104\n",
            "3  \t [-5.07469267 -0.22677977]\t 35.43131988915174\t 7.8108627039749745\t 3.5018993861894936\t 3.9702823463995522\n",
            "4  \t [1.09973748 4.91692502]\t 28.617361117509574\t 7.8108627039749745\t 3.4861130870147723\t 3.4702867975117457\n",
            "5  \t [-5.12 -5.12]\t 57.849427451571785\t 7.8108627039749745\t 3.5511963463304212\t 3.7815413410841794\n",
            "6  \t [ 0.56696254 -5.12      ]\t 48.374037784089204\t 7.8108627039749745\t 3.1282093734530614\t 3.353181953512205\n",
            "7  \t [ 5.12      -1.6676308]\t 46.6531522429807\t 7.8108627039749745\t 2.4940617167144232\t 2.7768493565735333\n",
            "8  \t [ 0.33954141 -1.58935091]\t 36.44030371024408\t 7.8108627039749745\t 2.8055076029977974\t 3.055091017755468\n",
            "9  \t [4.79179935 2.11246613]\t 37.22217040283398\t 7.8108627039749745\t 2.9284018789332458\t 3.513363851229227\n",
            "10 \t [-2.70233612  1.15899314]\t 26.1845542303816\t 7.8108627039749745\t 2.729226664050048\t 2.8650928364025217\n",
            "11 \t [1.44513065 2.55938263]\t 47.362401939454315\t 7.8108627039749745\t 3.037195812268008\t 3.2116958224911722\n",
            "12 \t [-5.12        2.60022219]\t 53.76782545446194\t 7.8108627039749745\t 3.058644846631986\t 3.3453280893427046\n",
            "13 \t [ 2.61408305 -2.94257178]\t 33.675211904846535\t 7.8108627039749745\t 3.316447022801091\t 3.2936241659900314\n",
            "14 \t [-5.12       -2.57382009]\t 54.49274066609016\t 7.8108627039749745\t 2.7870414057958364\t 3.4518834411077055\n",
            "\u001b[1m\u001b[92m15\u001b[0m\t \u001b[1m\u001b[92m[-2.01034806 -1.07229779]\u001b[0m\t \u001b[1m\u001b[92m6.226593689002822\u001b[0m\t \u001b[1m\u001b[92m6.226593689002822\u001b[0m\t \u001b[1m\u001b[92m2.818759263365868\u001b[0m\t \u001b[1m\u001b[92m3.217628469332727\u001b[0m\n",
            "16 \t [-2.36934177 -5.08004821]\t 49.474327408084385\t 6.226593689002822\t 3.146199908143367\t 3.8868705686514797\n",
            "17 \t [-0.8202883   3.29440915]\t 30.00606988431622\t 6.226593689002822\t 2.4536864489983143\t 3.1433697846321076\n",
            "18 \t [3.05055704 5.12      ]\t 38.73092064719173\t 6.226593689002822\t 2.906782836581242\t 3.1071469061025163\n",
            "19 \t [-3.36318791 -1.04326114]\t 29.293868679437146\t 6.226593689002822\t 2.400950438854851\t 3.396839001381872\n",
            "20 \t [-0.68792876 -0.13599215]\t 17.727441972477706\t 6.226593689002822\t 2.407947341101613\t 3.5259852715073707\n"
          ]
        }
      ],
      "source": [
        "### EXACT STP CBM GRADIENTS\n",
        "\n",
        "np.random.seed(run_num_5)\n",
        "surrogate_exact_5 = dtStudentProcess(cov_func, optimize=opt, nu = df)\n",
        "\n",
        "exact_5 = dGPGO(surrogate_exact_5, Acquisition_grad(util), objfunc, param)\n",
        "exact_5.run(init_evals=n_init, max_iter=iters)\n"
      ]
    },
    {
      "cell_type": "code",
      "execution_count": null,
      "metadata": {
        "colab": {
          "base_uri": "https://localhost:8080/"
        },
        "id": "04KJCEm_Ivvf",
        "outputId": "017ab0f0-4b75-4364-ffe8-f228060f9dfd"
      },
      "outputs": [
        {
          "output_type": "stream",
          "name": "stdout",
          "text": [
            "Evaluation \t Proposed point \t  Current eval. \t  Best eval. \t        Exact CBM: StdDev. x \t Approx CBM: StdDev. x \n",
            "init\t [ 4.02288795 -1.72052679]\t 31.08835710146886\t 17.28954482757088\t    \t    \n",
            "init\t [ 3.28938622 -4.69302655]\t 58.797867722203385\t 17.28954482757088\t    \t    \n",
            "init\t [-4.0175956   0.97333314]\t 17.28954482757088\t 17.28954482757088\t    \t    \n",
            "init\t [ 0.30532979 -0.83141193]\t 19.296253155889353\t 17.28954482757088\t    \t    \n",
            "init\t [-1.68542362  1.25459899]\t 28.650630936276173\t 17.28954482757088\t    \t    \n",
            "1  \t [5.12 5.12]\t 57.849427451571785\t 17.28954482757088\t 4.156270207886551\t 4.47259008471957\n",
            "2  \t [-5.12 -5.12]\t 57.849427451571785\t 17.28954482757088\t 3.9440295542200565\t 4.268424874384023\n",
            "3  \t [0.50652498 5.12      ]\t 49.172878413182374\t 17.28954482757088\t 3.2223411701647144\t 3.7077658812670387\n",
            "4  \t [-0.92419003 -5.12      ]\t 30.89199536326239\t 17.28954482757088\t 3.164324306210858\t 4.292343385301164\n",
            "5  \t [2.6114573  2.01494601]\t 28.570222810005212\t 17.28954482757088\t 2.3870798317334443\t 3.2466273769346214\n",
            "6  \t [-3.4420981   4.71847796]\t 65.42522286837051\t 17.28954482757088\t 2.919063231846847\t 3.756185985170124\n",
            "7  \t [-3.19029818 -2.10275839]\t 22.94868750114513\t 17.28954482757088\t 3.2098628046871176\t 3.320443159153587\n",
            "8  \t [5.12       2.12961273]\t 36.596775185796666\t 17.28954482757088\t 2.8952073138848915\t 3.4252057854887665\n",
            "9  \t [ 0.41975695 -2.98779121]\t 27.88819942991413\t 17.28954482757088\t 2.7017582153899986\t 3.246833249123637\n",
            "10 \t [0.49147262 1.83741918]\t 28.382649153794272\t 17.28954482757088\t 2.9203662344590504\t 3.6407573100625625\n",
            "11 \t [-5.12       -1.08694104]\t 31.561455173960695\t 17.28954482757088\t 3.3162646799087248\t 3.7435870969605682\n",
            "\u001b[1m\u001b[92m12\u001b[0m\t \u001b[1m\u001b[92m[ 2.16818733 -0.10872695]\u001b[0m\t \u001b[1m\u001b[92m12.039958432618848\u001b[0m\t \u001b[1m\u001b[92m12.039958432618848\u001b[0m\t \u001b[1m\u001b[92m2.789607104490675\u001b[0m\t \u001b[1m\u001b[92m3.5702233084350348\u001b[0m\n",
            "13 \t [2.80508127 5.12      ]\t 43.40101125456673\t 12.039958432618848\t 2.839509207709809\t 3.609751338516864\n",
            "14 \t [-4.91480728  2.58975124]\t 50.71253608457296\t 12.039958432618848\t 2.712998929842909\t 3.6679050488373806\n",
            "15 \t [5.12       0.10967283]\t 31.218522247861785\t 12.039958432618848\t 3.0779757372030936\t 3.9915256836391633\n",
            "16 \t [-2.84333144 -4.06896529]\t 30.03143541670839\t 12.039958432618848\t 2.8396348730287526\t 3.1490280606560415\n",
            "17 \t [-1.77529235 -0.86337868]\t 15.77823823508658\t 12.039958432618848\t 2.657109925658627\t 3.0776013010384395\n",
            "18 \t [-1.27177367  3.45766324]\t 44.58493537280257\t 12.039958432618848\t 2.680853991969338\t 3.9502738700179334\n",
            "19 \t [ 0.97274503 -5.12      ]\t 30.017218108298017\t 12.039958432618848\t 3.1695568146485877\t 3.6813893234471418\n",
            "20 \t [ 4.9340119  -3.15179319]\t 39.339231124959305\t 12.039958432618848\t 2.740159341643492\t 3.9607587794583297\n"
          ]
        }
      ],
      "source": [
        "### EXACT STP CBM GRADIENTS\n",
        "\n",
        "np.random.seed(run_num_6)\n",
        "surrogate_exact_6 = dtStudentProcess(cov_func, optimize=opt, nu = df)\n",
        "\n",
        "exact_6 = dGPGO(surrogate_exact_6, Acquisition_grad(util), objfunc, param)\n",
        "exact_6.run(init_evals=n_init, max_iter=iters)\n"
      ]
    },
    {
      "cell_type": "code",
      "execution_count": null,
      "metadata": {
        "colab": {
          "base_uri": "https://localhost:8080/"
        },
        "id": "tAOkme3CIvyO",
        "outputId": "a33858bd-3eda-47fc-a689-e1472289037a"
      },
      "outputs": [
        {
          "output_type": "stream",
          "name": "stdout",
          "text": [
            "Evaluation \t Proposed point \t  Current eval. \t  Best eval. \t        Exact CBM: StdDev. x \t Approx CBM: StdDev. x \n",
            "init\t [-4.33860312  2.86636843]\t 45.646133072936244\t 22.52235437888213\t    \t    \n",
            "init\t [-0.63068947  2.28828342]\t 34.83012662845338\t 22.52235437888213\t    \t    \n",
            "init\t [4.8946126  0.39419771]\t 44.09657005662876\t 22.52235437888213\t    \t    \n",
            "init\t [ 0.01147355 -4.38219639]\t 36.613209822404315\t 22.52235437888213\t    \t    \n",
            "init\t [-2.37118484e+00 -1.20319155e-03]\t 22.52235437888213\t 22.52235437888213\t    \t    \n",
            "1  \t [-5.12 -5.12]\t 57.849427451571785\t 22.52235437888213\t 3.694637772077605\t 4.035549860853893\n",
            "2  \t [3.70799494 5.12      ]\t 55.28266207863993\t 22.52235437888213\t 3.8296219629115504\t 4.258295199543462\n",
            "3  \t [ 4.52828516 -4.16265021]\t 62.45857874043884\t 22.52235437888213\t 3.583147815200054\t 4.358066775949641\n",
            "4  \t [-4.02558214 -1.33646422]\t 33.289738493146906\t 22.52235437888213\t 2.8838059725429814\t 3.046307140328312\n",
            "\u001b[1m\u001b[92m5\u001b[0m\t \u001b[1m\u001b[92m[ 1.30600418 -0.85895238]\u001b[0m\t \u001b[1m\u001b[92m19.566738150822133\u001b[0m\t \u001b[1m\u001b[92m19.566738150822133\u001b[0m\t \u001b[1m\u001b[92m3.4073679758797604\u001b[0m\t \u001b[1m\u001b[92m3.462210425595599\u001b[0m\n",
            "6  \t [-0.90349832  5.12      ]\t 31.523618953132754\t 19.566738150822133\t 3.181263111120405\t 4.123842330753151\n",
            "7  \t [2.26474372 2.33572042]\t 36.639028251315736\t 19.566738150822133\t 3.0677620028673935\t 3.378770648022896\n",
            "8  \t [-2.53266055 -3.61273787]\t 56.850766343216605\t 19.566738150822133\t 3.3538225868846925\t 4.021386298038663\n",
            "9  \t [5.12       2.96975472]\t 37.924183758867756\t 19.566738150822133\t 3.446414820572827\t 3.7617729582038413\n",
            "10 \t [-3.44547255  5.12      ]\t 60.21481845351538\t 19.566738150822133\t 2.5987940323006233\t 3.674482062570601\n",
            "11 \t [-0.44262157 -1.86583779]\t 26.381889335964544\t 19.566738150822133\t 3.06903723229938\t 2.9911132418012496\n",
            "12 \t [ 3.60424577 -1.87482904]\t 37.37260994900581\t 19.566738150822133\t 3.078973967907094\t 3.8006792781246457\n",
            "13 \t [ 2.06012927 -4.38168282]\t 41.51016312495039\t 19.566738150822133\t 3.452536583219401\t 3.5622703115897147\n",
            "14 \t [-5.12       -0.09384836]\t 30.622260245067004\t 19.566738150822133\t 3.1276814947143303\t 3.7992806056318464\n",
            "15 \t [1.4257971  4.28008634]\t 51.16386847136778\t 19.566738150822133\t 2.9984908760929807\t 3.580511246423636\n",
            "\u001b[1m\u001b[92m16\u001b[0m\t \u001b[1m\u001b[92m[0.00813222 0.3837603 ]\u001b[0m\t \u001b[1m\u001b[92m17.609761821596766\u001b[0m\t \u001b[1m\u001b[92m17.609761821596766\u001b[0m\t \u001b[1m\u001b[92m2.9055123163112073\u001b[0m\t \u001b[1m\u001b[92m2.642530982153497\u001b[0m\n",
            "17 \t [-5.12      -2.8405169]\t 41.607588445525366\t 17.609761821596766\t 3.085815916883229\t 2.8988944615670063\n",
            "\u001b[1m\u001b[92m18\u001b[0m\t \u001b[1m\u001b[92m[2.98757374 0.02297762]\u001b[0m\t \u001b[1m\u001b[92m9.060625438928078\u001b[0m\t \u001b[1m\u001b[92m9.060625438928078\u001b[0m\t \u001b[1m\u001b[92m3.660021537197833\u001b[0m\t \u001b[1m\u001b[92m3.602570446389804\u001b[0m\n",
            "19 \t [-2.34608774  2.97232751]\t 30.16686331870058\t 9.060625438928078\t 3.6291385947022192\t 3.891333348236818\n",
            "20 \t [1.72133011 0.66423786]\t 30.327418597588334\t 9.060625438928078\t 3.6007967849497957\t 3.245950836582115\n"
          ]
        }
      ],
      "source": [
        "### EXACT STP CBM GRADIENTS\n",
        "\n",
        "np.random.seed(run_num_7)\n",
        "surrogate_exact_7 = dtStudentProcess(cov_func, optimize=opt, nu = df)\n",
        "\n",
        "exact_7 = dGPGO(surrogate_exact_7, Acquisition_grad(util), objfunc, param)\n",
        "exact_7.run(init_evals=n_init, max_iter=iters)\n"
      ]
    },
    {
      "cell_type": "code",
      "execution_count": null,
      "metadata": {
        "colab": {
          "base_uri": "https://localhost:8080/"
        },
        "id": "69-J3EF4Iv1S",
        "outputId": "826f855a-72b6-4e28-bfc9-e019f71d8fc5"
      },
      "outputs": [
        {
          "output_type": "stream",
          "name": "stdout",
          "text": [
            "Evaluation \t Proposed point \t  Current eval. \t  Best eval. \t        Exact CBM: StdDev. x \t Approx CBM: StdDev. x \n",
            "init\t [3.82391708 4.79785639]\t 50.20079446939181\t 13.871821018360485\t    \t    \n",
            "init\t [3.78055209 0.31596228]\t 36.5114251593508\t 13.871821018360485\t    \t    \n",
            "init\t [-2.73686192 -5.00327624]\t 43.34985765011677\t 13.871821018360485\t    \t    \n",
            "init\t [-0.7119993  -0.99992207]\t 13.871821018360485\t 13.871821018360485\t    \t    \n",
            "init\t [ 0.23218863 -0.22126801]\t 17.190590355445654\t 13.871821018360485\t    \t    \n",
            "1  \t [ 4.96380166 -4.8258164 ]\t 53.59981455068348\t 13.871821018360485\t 3.3082659409742483\t 4.183422711576705\n",
            "2  \t [-5.03492225  2.95509263]\t 34.71822332027364\t 13.871821018360485\t 3.591074177664985\t 3.8628155440208234\n",
            "3  \t [-0.90283972  5.12      ]\t 31.546081242794635\t 13.871821018360485\t 3.2912220212780605\t 3.76699421332269\n",
            "4  \t [ 1.08367207 -4.791448  ]\t 32.90780951909681\t 13.871821018360485\t 3.5175907391751196\t 3.5019187915636008\n",
            "5  \t [-5.12       -1.43643918]\t 50.20115435746682\t 13.871821018360485\t 3.4796899235175696\t 3.3444542399176873\n",
            "\u001b[1m\u001b[92m6\u001b[0m\t \u001b[1m\u001b[92m[-1.94922399  1.93177096]\u001b[0m\t \u001b[1m\u001b[92m8.94074114316884\u001b[0m\t \u001b[1m\u001b[92m8.94074114316884\u001b[0m\t \u001b[1m\u001b[92m3.3253967723815454\u001b[0m\t \u001b[1m\u001b[92m3.3427179596931853\u001b[0m\n",
            "7  \t [1.44519648 2.43924635]\t 46.73172672939258\t 8.94074114316884\t 3.3667232603947688\t 3.1392522198796096\n",
            "8  \t [ 3.43947866 -2.56435118]\t 56.88522705219222\t 8.94074114316884\t 3.644457133313574\t 3.5778627259066176\n",
            "9  \t [-5.12 -5.12]\t 57.849427451571785\t 8.94074114316884\t 3.834618670304601\t 3.96398634526022\n",
            "10 \t [-2.51592361 -2.1329869 ]\t 34.122029365473274\t 8.94074114316884\t 3.0120882954679367\t 3.3694166102927774\n",
            "11 \t [-3.33862594  0.59851215]\t 44.93457866726073\t 8.94074114316884\t 3.1193799421837762\t 3.799208009398153\n",
            "12 \t [ 0.74425259 -2.59398834]\t 35.95009660600657\t 8.94074114316884\t 2.9567121843873885\t 3.7537234064735014\n",
            "13 \t [5.12       2.46254471]\t 54.713194769648894\t 8.94074114316884\t 2.80721745162865\t 3.3729459629575707\n",
            "14 \t [-3.55835896  5.08606674]\t 59.29211199812883\t 8.94074114316884\t 2.6778985088615292\t 4.0586434729372005\n",
            "15 \t [-0.75541063  2.80791211]\t 24.556162456317914\t 8.94074114316884\t 3.2388805599502044\t 3.463460489004586\n",
            "16 \t [1.52610366 5.12      ]\t 51.11950420691896\t 8.94074114316884\t 3.2722779305025234\t 3.289145364726825\n",
            "17 \t [-0.93324618 -4.00334964]\t 17.766745602602498\t 8.94074114316884\t 3.1481609474818555\t 3.8854103441330246\n",
            "18 \t [ 5.12       -0.87633622]\t 32.562494268763054\t 8.94074114316884\t 2.903863809851486\t 3.338131656685449\n",
            "19 \t [ 1.9601641  -0.58650251]\t 23.056819112567368\t 8.94074114316884\t 2.6305491847350333\t 3.269548503695477\n",
            "\u001b[1m\u001b[92m20\u001b[0m\t \u001b[1m\u001b[92m[-1.0869512   0.82761478]\u001b[0m\t \u001b[1m\u001b[92m8.636371093505034\u001b[0m\t \u001b[1m\u001b[92m8.636371093505034\u001b[0m\t \u001b[1m\u001b[92m3.2000752159048824\u001b[0m\t \u001b[1m\u001b[92m3.7835341124900435\u001b[0m\n"
          ]
        }
      ],
      "source": [
        "### EXACT STP CBM GRADIENTS\n",
        "\n",
        "np.random.seed(run_num_8)\n",
        "surrogate_exact_8 = dtStudentProcess(cov_func, optimize=opt, nu = df)\n",
        "\n",
        "exact_8 = dGPGO(surrogate_exact_8, Acquisition_grad(util), objfunc, param)\n",
        "exact_8.run(init_evals=n_init, max_iter=iters)\n"
      ]
    },
    {
      "cell_type": "code",
      "execution_count": null,
      "metadata": {
        "colab": {
          "base_uri": "https://localhost:8080/"
        },
        "id": "vonm9jyuIv4t",
        "outputId": "893d85b8-b510-4893-f62d-8c176c6987cb"
      },
      "outputs": [
        {
          "output_type": "stream",
          "name": "stdout",
          "text": [
            "Evaluation \t Proposed point \t  Current eval. \t  Best eval. \t        Exact CBM: StdDev. x \t Approx CBM: StdDev. x \n",
            "init\t [-5.01376866  0.01919582]\t 25.248289026162446\t 24.454800313488693\t    \t    \n",
            "init\t [-0.04328148 -3.74958562]\t 24.454800313488693\t 24.454800313488693\t    \t    \n",
            "init\t [-3.66478248 -2.88195916]\t 39.46509426509438\t 24.454800313488693\t    \t    \n",
            "init\t [-0.83447623 -2.57944404]\t 31.06766397812992\t 24.454800313488693\t    \t    \n",
            "init\t [-4.25922917 -1.58209393]\t 49.922543556206975\t 24.454800313488693\t    \t    \n",
            "1  \t [3.11029524 4.9495987 ]\t 36.97642606974743\t 24.454800313488693\t 3.038138760985928\t 3.2549310013385218\n",
            "2  \t [ 4.91734502 -1.16646905]\t 31.848696159325648\t 24.454800313488693\t 3.5877140495747453\t 4.301334603409042\n",
            "\u001b[1m\u001b[92m3\u001b[0m\t \u001b[1m\u001b[92m[-1.91744538  4.01057779]\u001b[0m\t \u001b[1m\u001b[92m21.098794787627547\u001b[0m\t \u001b[1m\u001b[92m21.098794787627547\u001b[0m\t \u001b[1m\u001b[92m2.7985131769360145\u001b[0m\t \u001b[1m\u001b[92m4.351868434016204\u001b[0m\n",
            "\u001b[1m\u001b[92m4\u001b[0m\t \u001b[1m\u001b[92m[1.10809394 1.14868353]\u001b[0m\t \u001b[1m\u001b[92m8.8218600796855\u001b[0m\t \u001b[1m\u001b[92m8.8218600796855\u001b[0m\t \u001b[1m\u001b[92m3.2828236341467565\u001b[0m\t \u001b[1m\u001b[92m3.788770813651936\u001b[0m\n",
            "5  \t [5.11312478 2.31946049]\t 48.172531952852765\t 8.8218600796855\t 3.9123460029166353\t 4.273287937059487\n",
            "6  \t [-4.83090377  3.04661662]\t 38.178180207977384\t 8.8218600796855\t 3.415741339279926\t 3.5278966306288893\n",
            "7  \t [ 2.77371951 -3.38088886]\t 44.966902796724675\t 8.8218600796855\t 3.5731840423076004\t 3.892236462325304\n",
            "8  \t [-1.7397365   0.86648348]\t 17.739156726187613\t 8.8218600796855\t 3.1079194268816988\t 3.561483312027762\n",
            "9  \t [-5.12 -5.12]\t 57.849427451571785\t 8.8218600796855\t 3.7840131245145576\t 4.168645736740235\n",
            "10 \t [0.40362321 5.12      ]\t 47.30949867959896\t 8.8218600796855\t 3.3846523563108812\t 3.5574640745775405\n",
            "11 \t [ 1.95644701 -0.72736668]\t 16.146147025549432\t 8.8218600796855\t 3.4267337052074915\t 4.045585248623105\n",
            "12 \t [2.32056066 2.47218462]\t 45.63400672553926\t 8.8218600796855\t 3.1025537658773663\t 3.455431707510498\n",
            "13 \t [-2.48319148 -5.06978944]\t 52.759392496212485\t 8.8218600796855\t 2.9910120011471615\t 3.8602225206084797\n",
            "14 \t [5.12 5.12]\t 57.849427451571785\t 8.8218600796855\t 3.0621412892631024\t 4.195238257409687\n",
            "15 \t [-0.22035241 -0.27039191]\t 19.547367812810524\t 8.8218600796855\t 2.5825845571064012\t 3.8263351401815715\n",
            "16 \t [-0.36969137  2.49049352]\t 43.15271833582072\t 8.8218600796855\t 2.996456002610731\t 4.061423726553828\n",
            "17 \t [-3.49758397  4.79205211]\t 62.584129359516076\t 8.8218600796855\t 2.250615076942737\t 4.0243063889843524\n",
            "18 \t [-3.42125725  1.59868166]\t 51.20021356797926\t 8.8218600796855\t 2.670481913179398\t 3.6668660611810107\n",
            "19 \t [ 0.61073744 -4.96637115]\t 42.93575890369414\t 8.8218600796855\t 2.9697964372015306\t 3.9780780478000377\n",
            "20 \t [ 5.10149916 -3.78003213]\t 50.40369520132566\t 8.8218600796855\t 3.1033530080947087\t 3.805823538104165\n"
          ]
        }
      ],
      "source": [
        "### EXACT STP CBM GRADIENTS\n",
        "\n",
        "np.random.seed(run_num_9)\n",
        "surrogate_exact_9 = dtStudentProcess(cov_func, optimize=opt, nu = df)\n",
        "\n",
        "exact_9 = dGPGO(surrogate_exact_9, Acquisition_grad(util), objfunc, param)\n",
        "exact_9.run(init_evals=n_init, max_iter=iters)\n"
      ]
    },
    {
      "cell_type": "code",
      "execution_count": null,
      "metadata": {
        "colab": {
          "base_uri": "https://localhost:8080/"
        },
        "id": "6amuYlUdIv7r",
        "outputId": "860fb2cf-d620-4096-a87d-0627f59d2a50"
      },
      "outputs": [
        {
          "output_type": "stream",
          "name": "stdout",
          "text": [
            "Evaluation \t Proposed point \t  Current eval. \t  Best eval. \t        Exact CBM: StdDev. x \t Approx CBM: StdDev. x \n",
            "init\t [ 2.77832339 -4.90750004]\t 41.674330194390116\t 13.839458310244165\t    \t    \n",
            "init\t [1.36855793 2.54775176]\t 44.69639719065837\t 13.839458310244165\t    \t    \n",
            "init\t [-0.01528819 -2.81808235]\t 13.839458310244165\t 13.839458310244165\t    \t    \n",
            "init\t [-3.09183626  2.66783449]\t 33.23221510904937\t 13.839458310244165\t    \t    \n",
            "init\t [-3.38830503 -4.2154003 ]\t 54.73014366983691\t 13.839458310244165\t    \t    \n",
            "1  \t [ 5.12       -0.51685263]\t 49.13584116538474\t 13.839458310244165\t 3.712677950209607\t 4.220996958447789\n",
            "2  \t [5.12 5.12]\t 57.849427451571785\t 13.839458310244165\t 3.130555427296048\t 4.065633190252892\n",
            "3  \t [-4.22761487 -0.7380637 ]\t 37.764876145829675\t 13.839458310244165\t 3.0966125513003457\t 3.7272690843518697\n",
            "4  \t [ 1.8556673  -0.78392952]\t 15.780157991213581\t 13.839458310244165\t 3.905636379677956\t 4.027689118785785\n",
            "5  \t [-1.15027782  0.24233501]\t 15.036724790973038\t 13.839458310244165\t 3.460966848802707\t 4.011129099213399\n",
            "6  \t [0.10579747 5.07144996]\t 28.85095188801787\t 13.839458310244165\t 3.93287016762001\t 4.447957100945155\n",
            "7  \t [4.85258217 2.25458899]\t 42.910689849337835\t 13.839458310244165\t 3.3435349293287118\t 4.044282338685263\n",
            "8  \t [2.55379043 5.00479664]\t 51.00865581530248\t 13.839458310244165\t 3.5135677549814486\t 4.283507534567264\n",
            "9  \t [-0.39459318 -5.12      ]\t 46.96627510567649\t 13.839458310244165\t 2.627692621101808\t 4.396213705019233\n",
            "10 \t [ 3.70664539 -2.63848371]\t 49.83865910404315\t 13.839458310244165\t 3.1917483397594277\t 4.235861450800576\n",
            "11 \t [-2.36475091  4.90066717]\t 48.09521770471545\t 13.839458310244165\t 3.0536310565489337\t 3.5821186901238646\n",
            "12 \t [-1.86061389 -1.85763074]\t 14.249927848286953\t 13.839458310244165\t 2.559472004818425\t 3.6671083642061517\n",
            "13 \t [-5.02405077  1.18821335]\t 32.9815125037867\t 13.839458310244165\t 2.8523283135342314\t 4.037082627959392\n",
            "14 \t [-5.12       -2.98059211]\t 37.882901887338534\t 13.839458310244165\t 3.441945043903677\t 4.008681802154583\n",
            "15 \t [-0.9325135   2.32228077]\t 21.5352050127646\t 13.839458310244165\t 3.5203988718462473\t 3.8999992051125325\n",
            "16 \t [3.06288737 0.54600138]\t 30.03513613480555\t 13.839458310244165\t 3.076828554764456\t 3.7536615619811693\n",
            "17 \t [0.61389861 0.7251849 ]\t 30.002328674676164\t 13.839458310244165\t 2.974832569043131\t 3.4321742545864757\n",
            "18 \t [-5.12 -5.12]\t 57.849427451571785\t 13.839458310244165\t 2.639542684269172\t 3.718525570149595\n",
            "19 \t [ 0.11231898 -1.29953588]\t 17.152390377402874\t 13.839458310244165\t 2.295512495911389\t 3.4992887167978575\n",
            "20 \t [ 1.42612986 -2.72177134]\t 40.1483297178711\t 13.839458310244165\t 2.5059152238474454\t 3.763342534704656\n"
          ]
        }
      ],
      "source": [
        "### EXACT STP CBM GRADIENTS\n",
        "\n",
        "np.random.seed(run_num_10)\n",
        "surrogate_exact_10 = dtStudentProcess(cov_func, optimize=opt, nu = df)\n",
        "\n",
        "exact_10 = dGPGO(surrogate_exact_10, Acquisition_grad(util), objfunc, param)\n",
        "exact_10.run(init_evals=n_init, max_iter=iters)\n"
      ]
    },
    {
      "cell_type": "code",
      "execution_count": null,
      "metadata": {
        "id": "VwbLIP9cIv-F",
        "colab": {
          "base_uri": "https://localhost:8080/"
        },
        "outputId": "e46a3a57-7772-47dd-f0ce-a1c7746fc7af"
      },
      "outputs": [
        {
          "output_type": "stream",
          "name": "stdout",
          "text": [
            "Evaluation \t Proposed point \t  Current eval. \t  Best eval. \t        Exact CBM: StdDev. x \t Approx CBM: StdDev. x \n",
            "init\t [-3.27403839 -4.92057353]\t 47.655641290890955\t 10.679755252484755\t    \t    \n",
            "init\t [-0.37664229  2.30332343]\t 35.87889240695259\t 10.679755252484755\t    \t    \n",
            "init\t [-0.81711509 -0.14922651]\t 10.679755252484755\t 10.679755252484755\t    \t    \n",
            "init\t [-4.98912446 -0.12931474]\t 28.05462905574235\t 10.679755252484755\t    \t    \n",
            "init\t [4.52410012 3.59214172]\t 71.62694632141611\t 10.679755252484755\t    \t    \n",
            "1  \t [ 3.03550212 -4.46785095]\t 49.22040431745476\t 10.679755252484755\t 3.1550082913568613\t 4.4136662711073775\n",
            "2  \t [ 4.85519774 -0.63926837]\t 44.25231889391213\t 10.679755252484755\t 3.171682566948395\t 3.8779057386815508\n",
            "3  \t [-1.19896852  5.12      ]\t 37.21049672982372\t 10.679755252484755\t 3.8632460618506395\t 4.502069889148022\n",
            "4  \t [-0.15257203 -3.28384779]\t 27.171308902757705\t 10.679755252484755\t 3.184443358670931\t 3.4042690222284064\n",
            "5  \t [-3.81010916  2.84680797]\t 33.21920178953113\t 10.679755252484755\t 3.2820900203427135\t 3.6650129740949913\n",
            "6  \t [2.1163807  0.83273194]\t 12.761810194246465\t 10.679755252484755\t 3.4100403329109823\t 3.548680135318516\n",
            "7  \t [1.98644725 5.1169123 ]\t 32.74388622967131\t 10.679755252484755\t 3.854352911746121\t 4.181432848873233\n",
            "8  \t [ 1.84921721 -1.50477745]\t 29.841463977503047\t 10.679755252484755\t 3.5505151948297042\t 3.648771182109485\n",
            "9  \t [-5.12       -2.83466483]\t 41.887762401034365\t 10.679755252484755\t 3.8876501704185205\t 4.133729456897914\n",
            "10 \t [-2.47545791 -1.64770739]\t 44.71795128586069\t 10.679755252484755\t 3.2710521490348454\t 3.851860678598686\n",
            "11 \t [-3.63338023  4.92534891]\t 55.22963309563828\t 10.679755252484755\t 3.613716633774598\t 3.9989910218467206\n",
            "12 \t [-0.96267096 -5.12      ]\t 30.125247876592326\t 10.679755252484755\t 3.2378874043610635\t 3.6155743693175206\n",
            "13 \t [-2.65847548  0.96812521]\t 23.643537486753075\t 10.679755252484755\t 3.6776903327305535\t 3.315024471419821\n",
            "14 \t [1.8372239 2.8355475]\t 21.085540857798485\t 10.679755252484755\t 3.3439878724579826\t 3.8282156396613085\n",
            "15 \t [5.12       1.49637709]\t 51.161267349876134\t 10.679755252484755\t 4.0545762448184135\t 3.9576117822845305\n",
            "16 \t [ 3.99965538 -2.49117368]\t 42.18783920638798\t 10.679755252484755\t 3.2666657499182903\t 3.9012788459784233\n",
            "17 \t [-5.12 -5.12]\t 57.849427451571785\t 10.679755252484755\t 3.518530761117271\t 4.157886301763766\n",
            "18 \t [0.60795427 0.07995252]\t 19.397923305192688\t 10.679755252484755\t 3.3777119609080573\t 3.902044420206291\n",
            "19 \t [-5.01307412  1.53741606]\t 47.25321120769152\t 10.679755252484755\t 2.876713227692308\t 3.353526742317722\n",
            "20 \t [ 0.98912646 -5.12      ]\t 29.92641424518864\t 10.679755252484755\t 3.2993424268686864\t 3.912877590541964\n"
          ]
        }
      ],
      "source": [
        "### EXACT STP CBM GRADIENTS\n",
        "\n",
        "np.random.seed(run_num_11)\n",
        "surrogate_exact_11 = dtStudentProcess(cov_func, optimize=opt, nu = df)\n",
        "\n",
        "exact_11 = dGPGO(surrogate_exact_11, Acquisition_grad(util), objfunc, param)\n",
        "exact_11.run(init_evals=n_init, max_iter=iters)\n"
      ]
    },
    {
      "cell_type": "code",
      "execution_count": null,
      "metadata": {
        "id": "MlUNFjc-JTBY",
        "colab": {
          "base_uri": "https://localhost:8080/"
        },
        "outputId": "e25a7f0f-ea25-4f04-b9bf-2bde31e620f6"
      },
      "outputs": [
        {
          "output_type": "stream",
          "name": "stdout",
          "text": [
            "Evaluation \t Proposed point \t  Current eval. \t  Best eval. \t        Exact CBM: StdDev. x \t Approx CBM: StdDev. x \n",
            "init\t [-3.54137249  2.45810889]\t 57.903242869085595\t 40.51116653209555\t    \t    \n",
            "init\t [-2.42365424  0.34549139]\t 40.51116653209555\t 40.51116653209555\t    \t    \n",
            "init\t [-4.97075238  4.28796936]\t 55.62655915398208\t 40.51116653209555\t    \t    \n",
            "init\t [ 4.10332011 -4.77776458]\t 49.962803461970296\t 40.51116653209555\t    \t    \n",
            "init\t [ 4.6791612  -3.71497655]\t 62.183891474990624\t 40.51116653209555\t    \t    \n",
            "1  \t [5.12 5.12]\t 57.849427451571785\t 40.51116653209555\t 3.919678130763581\t 3.9551526589526977\n",
            "2  \t [-5.12 -5.12]\t 57.849427451571785\t 40.51116653209555\t 3.7424829423581163\t 3.4743412706839334\n",
            "\u001b[1m\u001b[92m3\u001b[0m\t \u001b[1m\u001b[92m[2.39517135 0.97704376]\u001b[0m\t \u001b[1m\u001b[92m24.70344769514669\u001b[0m\t \u001b[1m\u001b[92m24.70344769514669\u001b[0m\t \u001b[1m\u001b[92m2.879121318329024\u001b[0m\t \u001b[1m\u001b[92m2.9691491472728915\u001b[0m\n",
            "4  \t [-0.47761558 -4.4345957 ]\t 58.96244096224065\t 24.70344769514669\t 3.0201662778189187\t 3.3559010488747476\n",
            "5  \t [0.93935359 4.50958273]\t 41.91786393911047\t 24.70344769514669\t 2.8701350332670668\t 3.410988381216303\n",
            "6  \t [-5.12       -1.67575019]\t 46.23070864673048\t 24.70344769514669\t 2.6903470710322663\t 3.287708209604639\n",
            "7  \t [5.12       0.23827173]\t 38.245244824980645\t 24.70344769514669\t 2.8834450405232075\t 3.109575717627992\n",
            "8  \t [ 0.90191812 -1.52264277]\t 24.870446009570642\t 24.70344769514669\t 2.720991511688902\t 3.234062448708483\n",
            "9  \t [-0.45982346  2.27875594]\t 36.88420818122097\t 24.70344769514669\t 2.8450259846936254\t 3.094740615399002\n",
            "10 \t [-1.5851785   4.85798207]\t 48.438449791197456\t 24.70344769514669\t 3.0430267626937604\t 3.4578473149669473\n",
            "11 \t [-2.49411118 -2.75986269]\t 43.211293364170785\t 24.70344769514669\t 3.04767736259562\t 3.0166276448316096\n",
            "12 \t [3.16879372 3.27090229]\t 37.165797407774484\t 24.70344769514669\t 2.856154805376731\t 3.0556557282661485\n",
            "\u001b[1m\u001b[92m13\u001b[0m\t \u001b[1m\u001b[92m[ 1.90214484 -4.06271348]\u001b[0m\t \u001b[1m\u001b[92m22.721496210381275\u001b[0m\t \u001b[1m\u001b[92m22.721496210381275\u001b[0m\t \u001b[1m\u001b[92m2.98515149418502\u001b[0m\t \u001b[1m\u001b[92m3.2029248552466214\u001b[0m\n",
            "14 \t [ 3.34736524 -1.56742237]\t 48.52082865737506\t 22.721496210381275\t 2.7954599364718007\t 3.6038249375280937\n",
            "15 \t [-2.75741193 -5.12      ]\t 46.06249704613475\t 22.721496210381275\t 2.8622311736101884\t 3.4336214714405076\n",
            "\u001b[1m\u001b[92m16\u001b[0m\t \u001b[1m\u001b[92m[-0.02400436  0.08530159]\u001b[0m\t \u001b[1m\u001b[92m1.5236174856259925\u001b[0m\t \u001b[1m\u001b[92m1.5236174856259925\u001b[0m\t \u001b[1m\u001b[92m3.2670805309474584\u001b[0m\t \u001b[1m\u001b[92m3.3401529063843514\u001b[0m\n",
            "17 \t [-5.12        0.50733412]\t 49.171485928138125\t 1.5236174856259925\t 2.9872128507515594\t 3.3204991946949165\n",
            "18 \t [-1.87385933  3.3737865 ]\t 34.89052453129343\t 1.5236174856259925\t 3.1785296432528516\t 3.253893343477704\n",
            "19 \t [-0.87511859 -1.24760288]\t 15.095401412188822\t 1.5236174856259925\t 2.842526781078339\t 3.0285737588062545\n",
            "20 \t [5.02981944 2.87881982]\t 36.52297012506301\t 1.5236174856259925\t 2.7363432157509844\t 3.285331004920129\n"
          ]
        }
      ],
      "source": [
        "### EXACT STP CBM GRADIENTS\n",
        "\n",
        "np.random.seed(run_num_12)\n",
        "surrogate_exact_12 = dtStudentProcess(cov_func, optimize=opt, nu = df)\n",
        "\n",
        "exact_12 = dGPGO(surrogate_exact_12, Acquisition_grad(util), objfunc, param)\n",
        "exact_12.run(init_evals=n_init, max_iter=iters)\n"
      ]
    },
    {
      "cell_type": "code",
      "execution_count": null,
      "metadata": {
        "id": "9BsKdU9eJTFL",
        "colab": {
          "base_uri": "https://localhost:8080/"
        },
        "outputId": "ef0ffba9-9bca-4aa7-a62e-9d344973cda8"
      },
      "outputs": [
        {
          "output_type": "stream",
          "name": "stdout",
          "text": [
            "Evaluation \t Proposed point \t  Current eval. \t  Best eval. \t        Exact CBM: StdDev. x \t Approx CBM: StdDev. x \n",
            "init\t [ 2.84367268 -2.68757791]\t 33.58019830007169\t 17.435826639425656\t    \t    \n",
            "init\t [3.32061217 4.76927179]\t 56.857057997503354\t 17.435826639425656\t    \t    \n",
            "init\t [ 4.83943541 -0.47667971]\t 48.211919361679726\t 17.435826639425656\t    \t    \n",
            "init\t [1.11659482 2.82139151]\t 17.435826639425656\t 17.435826639425656\t    \t    \n",
            "init\t [1.45012065 2.27346667]\t 38.25352329493884\t 17.435826639425656\t    \t    \n",
            "1  \t [-5.12 -5.12]\t 57.849427451571785\t 17.435826639425656\t 3.5490692907863104\t 3.4790640316181745\n",
            "2  \t [-3.81972923  0.42429531]\t 39.41784163225606\t 17.435826639425656\t 2.9708138938352735\t 3.8478661478252354\n",
            "3  \t [-2.90004095  5.12      ]\t 39.24326912737094\t 17.435826639425656\t 3.389125537997435\t 3.9073013614379755\n",
            "4  \t [-1.43263726 -2.79839141]\t 36.0071323323736\t 17.435826639425656\t 3.4027205209825033\t 3.6319581818170525\n",
            "5  \t [ 0.58691544 -5.12      ]\t 47.81471838422828\t 17.435826639425656\t 3.8345939969964875\t 4.371748459948447\n",
            "6  \t [-0.87872451  0.42952541]\t 22.7575903964915\t 17.435826639425656\t 2.94653331129822\t 3.785660737440385\n",
            "7  \t [0.08679921 5.12      ]\t 30.382922200298474\t 17.435826639425656\t 3.5895014653293296\t 4.2099435142746\n",
            "8  \t [5.12       2.59425769]\t 53.951818479830315\t 17.435826639425656\t 3.331279903291986\t 4.122655518036507\n",
            "9  \t [-4.63135626 -2.28434671]\t 55.59215949388257\t 17.435826639425656\t 3.6587905443920072\t 4.578570426369254\n",
            "10 \t [-4.31510036  2.81813369]\t 46.387835096009965\t 17.435826639425656\t 3.496729932031174\t 3.9551107711271385\n",
            "11 \t [ 4.84986402 -3.78860179]\t 49.60203452065872\t 17.435826639425656\t 3.0234329415084025\t 4.27581379940953\n",
            "12 \t [ 1.35725679 -0.51032105]\t 38.32204699368934\t 17.435826639425656\t 3.351694396323654\t 3.2421818830755056\n",
            "13 \t [-2.33386073 -5.12      ]\t 49.40028965017733\t 17.435826639425656\t 3.2771348173974566\t 3.8436823721268576\n",
            "14 \t [-1.24057401  2.64253939]\t 34.18062675401557\t 17.435826639425656\t 3.08462385485265\t 2.991580563286963\n",
            "15 \t [ 0.72050947 -2.74719847]\t 30.084609219871105\t 17.435826639425656\t 3.2080844163698194\t 3.1401072082345984\n",
            "16 \t [5.12 5.12]\t 57.849427451571785\t 17.435826639425656\t 3.1782586559538246\t 3.484026235787838\n",
            "17 \t [ 2.61658078 -4.92133996]\t 49.69782443809993\t 17.435826639425656\t 3.192839394005478\t 3.894653663991115\n",
            "18 \t [3.25026739 0.39509165]\t 38.64221428078324\t 17.435826639425656\t 2.4915761270541497\t 3.234648779738944\n",
            "\u001b[1m\u001b[92m19\u001b[0m\t \u001b[1m\u001b[92m[-1.91433637 -1.0766088 ]\u001b[0m\t \u001b[1m\u001b[92m7.373930661799717\u001b[0m\t \u001b[1m\u001b[92m7.373930661799717\u001b[0m\t \u001b[1m\u001b[92m2.731015216389373\u001b[0m\t \u001b[1m\u001b[92m3.359760542179464\u001b[0m\n",
            "20 \t [-4.63681376  4.51176139]\t 78.35594671980266\t 7.373930661799717\t 2.990893794680367\t 4.233730787356517\n"
          ]
        }
      ],
      "source": [
        "### EXACT STP CBM GRADIENTS\n",
        "\n",
        "np.random.seed(run_num_13)\n",
        "surrogate_exact_13 = dtStudentProcess(cov_func, optimize=opt, nu = df)\n",
        "\n",
        "exact_13 = dGPGO(surrogate_exact_13, Acquisition_grad(util), objfunc, param)\n",
        "exact_13.run(init_evals=n_init, max_iter=iters)\n"
      ]
    },
    {
      "cell_type": "code",
      "execution_count": null,
      "metadata": {
        "id": "k6GjFBr1JTJf",
        "colab": {
          "base_uri": "https://localhost:8080/"
        },
        "outputId": "201fec5e-ea88-4d44-fcd1-8b680d5fe53c"
      },
      "outputs": [
        {
          "output_type": "stream",
          "name": "stdout",
          "text": [
            "Evaluation \t Proposed point \t  Current eval. \t  Best eval. \t        Exact CBM: StdDev. x \t Approx CBM: StdDev. x \n",
            "init\t [0.14277984 2.79721013]\t 18.683085263052178\t 10.423838604848608\t    \t    \n",
            "init\t [ 3.7931795  -5.03759925]\t 47.36348784446708\t 10.423838604848608\t    \t    \n",
            "init\t [-1.94830412  4.68586229]\t 40.19779334078636\t 10.423838604848608\t    \t    \n",
            "init\t [ 0.13431513 -1.86076749]\t 10.423838604848608\t 10.423838604848608\t    \t    \n",
            "init\t [ 0.40140736 -2.85434939]\t 30.353548735049138\t 10.423838604848608\t    \t    \n",
            "1  \t [-5.12 -5.12]\t 57.849427451571785\t 10.423838604848608\t 4.28903433506794\t 4.032554377038187\n",
            "2  \t [5.12 5.12]\t 57.849427451571785\t 10.423838604848608\t 3.942350991225255\t 4.0681755621434155\n",
            "3  \t [-4.94888609  0.25512677]\t 35.38992719121605\t 10.423838604848608\t 2.845581707596014\t 3.709785828929384\n",
            "4  \t [ 5.12     -0.065589]\t 29.76622986388601\t 10.423838604848608\t 2.8745906780838593\t 3.6017085476151895\n",
            "5  \t [-1.58671276  0.10061556]\t 23.012546745568645\t 10.423838604848608\t 2.643699125465204\t 2.723596357022263\n",
            "6  \t [-1.82403354 -5.12      ]\t 37.766096157821224\t 10.423838604848608\t 2.926484801106157\t 3.408353960475697\n",
            "7  \t [2.02378953 0.36268365]\t 20.842018875621005\t 10.423838604848608\t 2.4405157231335934\t 3.3663116406703493\n",
            "8  \t [-5.12        3.61288804]\t 59.56587658294833\t 10.423838604848608\t 3.1834801851401857\t 3.9391456069154307\n",
            "9  \t [1.79639384 5.12      ]\t 39.27784154925071\t 10.423838604848608\t 2.9383072278968334\t 3.2526852160067086\n",
            "10 \t [-3.09152451 -2.44152779]\t 36.45968845346593\t 10.423838604848608\t 3.2006201537220416\t 3.5314229925660707\n",
            "11 \t [3.58186355 2.52571692]\t 57.78478780986957\t 10.423838604848608\t 3.1131844250130087\t 3.153237470787873\n",
            "12 \t [ 5.12      -2.6128641]\t 53.34095488645851\t 10.423838604848608\t 2.589373607694772\t 3.445078623938743\n",
            "13 \t [ 1.04524862 -5.11282929]\t 30.044394531067773\t 10.423838604848608\t 2.8275000075129646\t 3.5286494126092984\n",
            "14 \t [-2.32184411  1.99799268]\t 23.746076103271847\t 10.423838604848608\t 2.581858738094007\t 2.953079286200182\n",
            "15 \t [ 2.30700487 -1.50608308]\t 41.08888418960694\t 10.423838604848608\t 2.9248663230886502\t 3.362881761021153\n",
            "16 \t [-5.12      -2.7600155]\t 45.91352235500663\t 10.423838604848608\t 2.8138993230182248\t 3.851062884951338\n",
            "\u001b[1m\u001b[92m17\u001b[0m\t \u001b[1m\u001b[92m[0.14514295 0.95499075]\u001b[0m\t \u001b[1m\u001b[92m5.20832785202108\u001b[0m\t \u001b[1m\u001b[92m5.20832785202108\u001b[0m\t \u001b[1m\u001b[92m2.8424218191480928\u001b[0m\t \u001b[1m\u001b[92m3.526469290417894\u001b[0m\n",
            "18 \t [ 0.18847374 -0.45609032]\t 26.09512639080343\t 5.20832785202108\t 2.3628953617224076\t 3.1265575722516603\n",
            "19 \t [ 2.14728531 -3.38436815]\t 37.52459505261325\t 5.20832785202108\t 3.0873773329224807\t 3.761830955271679\n",
            "20 \t [-1.2906381 -2.2547527]\t 29.573945156702166\t 5.20832785202108\t 2.7133835943314546\t 3.480415956641309\n"
          ]
        }
      ],
      "source": [
        "### EXACT STP CBM GRADIENTS\n",
        "\n",
        "np.random.seed(run_num_14)\n",
        "surrogate_exact_14 = dtStudentProcess(cov_func, optimize=opt, nu = df)\n",
        "\n",
        "exact_14 = dGPGO(surrogate_exact_14, Acquisition_grad(util), objfunc, param)\n",
        "exact_14.run(init_evals=n_init, max_iter=iters)\n"
      ]
    },
    {
      "cell_type": "code",
      "execution_count": null,
      "metadata": {
        "id": "dPS8WB3aJTN6",
        "colab": {
          "base_uri": "https://localhost:8080/"
        },
        "outputId": "1fd04b14-474f-4033-e549-ebd060e74c59"
      },
      "outputs": [
        {
          "output_type": "stream",
          "name": "stdout",
          "text": [
            "Evaluation \t Proposed point \t  Current eval. \t  Best eval. \t        Exact CBM: StdDev. x \t Approx CBM: StdDev. x \n",
            "init\t [ 3.57189322 -3.28810573]\t 54.938487770767075\t 7.990765314336182\t    \t    \n",
            "init\t [-4.56332069 -1.41784631]\t 60.750198753157726\t 7.990765314336182\t    \t    \n",
            "init\t [-2.29989449  0.3072023 ]\t 31.984997246800887\t 7.990765314336182\t    \t    \n",
            "init\t [-1.9873903  -2.00218256]\t 7.990765314336182\t 7.990765314336182\t    \t    \n",
            "init\t [-3.97576933 -2.5610341 ]\t 41.754957769694336\t 7.990765314336182\t    \t    \n",
            "1  \t [5.12 5.12]\t 57.849427451571785\t 7.990765314336182\t 3.8801572557685646\t 4.017776876078239\n",
            "2  \t [-2.72103277  5.12      ]\t 48.13876578106622\t 7.990765314336182\t 2.818781357901138\t 3.699801393183713\n",
            "3  \t [2.19319501 1.39945927]\t 31.344878625311143\t 7.990765314336182\t 3.4675384895473234\t 3.4356337095525524\n",
            "4  \t [-1.02670724 -5.12      ]\t 30.11930661634738\t 7.990765314336182\t 3.2681761358027206\t 3.682782338258483\n",
            "5  \t [-5.06030171  2.10123122]\t 32.68659915310663\t 7.990765314336182\t 3.5239329068312855\t 3.8033941960269018\n",
            "6  \t [1.14816463 5.12      ]\t 34.27224043874739\t 7.990765314336182\t 3.617337803137074\t 3.820023442462418\n",
            "7  \t [5.12       0.72443698]\t 41.04879780143435\t 7.990765314336182\t 3.156356021531636\t 3.2777396685220106\n",
            "8  \t [ 0.59973918 -1.4524741 ]\t 40.12661134497508\t 7.990765314336182\t 3.5949649490994777\t 3.9323600186606718\n",
            "9  \t [-5.12 -5.12]\t 57.849427451571785\t 7.990765314336182\t 3.7247254606949785\t 3.543267302031799\n",
            "10 \t [-0.39488329  2.42818871]\t 42.948315778373605\t 7.990765314336182\t 2.337207236078709\t 3.3805278408779027\n",
            "11 \t [ 1.11827907 -4.3270074 ]\t 37.26218536889459\t 7.990765314336182\t 2.61402825030032\t 4.020802895729491\n",
            "12 \t [3.38847657 3.2983331 ]\t 52.9949345821434\t 7.990765314336182\t 2.970036701486368\t 3.9739830857964495\n",
            "13 \t [ 3.26499271 -0.85433424]\t 26.234727520015984\t 7.990765314336182\t 2.7650365247387763\t 3.6310810457914564\n",
            "14 \t [-3.00917075  2.79307824]\t 24.199234052946377\t 7.990765314336182\t 2.897424675607801\t 3.971242586631275\n",
            "15 \t [ 5.05078358 -1.53752178]\t 48.102531900653574\t 7.990765314336182\t 2.411080748749942\t 3.9451271692831438\n",
            "16 \t [-2.9204208 -5.12     ]\t 38.67779786119797\t 7.990765314336182\t 3.149664397969576\t 4.272550552519568\n",
            "17 \t [-1.16351198 -3.0310395 ]\t 15.559870677543392\t 7.990765314336182\t 2.1771768997939334\t 3.727504450816815\n",
            "18 \t [ 2.68833427 -5.12      ]\t 49.930208269671596\t 7.990765314336182\t 2.7328637902271224\t 3.897450659266793\n",
            "19 \t [-0.61801807  5.12      ]\t 46.68102429167514\t 7.990765314336182\t 2.9683170991987895\t 3.7041328131455042\n",
            "20 \t [0.23543639 0.4016722 ]\t 27.454467995404972\t 7.990765314336182\t 2.5914228803132544\t 3.829306601086701\n"
          ]
        }
      ],
      "source": [
        "### EXACT STP CBM GRADIENTS\n",
        "\n",
        "np.random.seed(run_num_15)\n",
        "surrogate_exact_15 = dtStudentProcess(cov_func, optimize=opt, nu = df)\n",
        "\n",
        "exact_15 = dGPGO(surrogate_exact_15, Acquisition_grad(util), objfunc, param)\n",
        "exact_15.run(init_evals=n_init, max_iter=iters)\n"
      ]
    },
    {
      "cell_type": "code",
      "execution_count": null,
      "metadata": {
        "id": "lu8ki9XIQPPN",
        "colab": {
          "base_uri": "https://localhost:8080/"
        },
        "outputId": "f2932b82-4720-44c8-c6c5-0beadf26a888"
      },
      "outputs": [
        {
          "output_type": "stream",
          "name": "stdout",
          "text": [
            "Evaluation \t Proposed point \t  Current eval. \t  Best eval. \t        Exact CBM: StdDev. x \t Approx CBM: StdDev. x \n",
            "init\t [-2.83349935  0.23719262]\t 22.27210456874814\t 22.27210456874814\t    \t    \n",
            "init\t [ 0.51918292 -4.65303603]\t 57.57021076017139\t 22.27210456874814\t    \t    \n",
            "init\t [-1.42613673 -2.83565116]\t 33.89145899403749\t 22.27210456874814\t    \t    \n",
            "init\t [ 1.9325559  -3.44339021]\t 35.85029586225333\t 22.27210456874814\t    \t    \n",
            "init\t [-4.39987336  4.51595121]\t 77.78800881964571\t 22.27210456874814\t    \t    \n",
            "1  \t [5.12 5.12]\t 57.849427451571785\t 22.27210456874814\t 3.861532713896131\t 4.094297316848433\n",
            "2  \t [5.12       0.15001651]\t 33.070205357300935\t 22.27210456874814\t 3.6316217982511625\t 3.678601542664827\n",
            "3  \t [0.43757554 3.98752559]\t 35.363143905338504\t 22.27210456874814\t 3.55847673271523\t 4.087628445307673\n",
            "4  \t [-5.12 -5.12]\t 57.849427451571785\t 22.27210456874814\t 3.6900231518157396\t 3.6217359026687683\n",
            "\u001b[1m\u001b[92m5\u001b[0m\t \u001b[1m\u001b[92m[0.981656   0.37393039]\u001b[0m\t \u001b[1m\u001b[92m18.1932089141577\u001b[0m\t \u001b[1m\u001b[92m18.1932089141577\u001b[0m\t \u001b[1m\u001b[92m2.9141077748060114\u001b[0m\t \u001b[1m\u001b[92m2.9060128630994946\u001b[0m\n",
            "6  \t [ 5.11827991 -3.4219732 ]\t 59.36556670764416\t 18.1932089141577\t 3.5427042199666863\t 3.8925053070445412\n",
            "7  \t [3.31724783 2.35780097]\t 46.93123014742799\t 18.1932089141577\t 3.2346969809295585\t 3.2976421979844988\n",
            "8  \t [-5.10990409 -1.81508392]\t 37.72035982936754\t 18.1932089141577\t 2.8485602080116466\t 3.273442973611605\n",
            "9  \t [-1.91742558  2.62048258]\t 29.128348862544144\t 18.1932089141577\t 2.8869123955771148\t 3.1745133292543413\n",
            "10 \t [-5.04751785  0.80036015]\t 33.44872919641567\t 18.1932089141577\t 3.031238598992562\t 3.7085761174929264\n",
            "11 \t [ 2.75618238 -0.95949445]\t 18.450935017217105\t 18.1932089141577\t 3.2831851803306615\t 3.4130157559077046\n",
            "12 \t [-2.58100873 -5.12      ]\t 54.318677059185276\t 18.1932089141577\t 3.3376778436713868\t 3.956957470830365\n",
            "13 \t [2.46073168 5.12      ]\t 54.67707626614276\t 18.1932089141577\t 2.441664245356451\t 3.318177146912091\n",
            "14 \t [-0.48541692 -0.84187955]\t 25.44483835782175\t 18.1932089141577\t 2.1635408158472242\t 2.935867196652404\n",
            "\u001b[1m\u001b[92m15\u001b[0m\t \u001b[1m\u001b[92m[-0.12753506  1.84512607]\u001b[0m\t \u001b[1m\u001b[92m10.835826047699555\u001b[0m\t \u001b[1m\u001b[92m10.835826047699555\u001b[0m\t \u001b[1m\u001b[92m2.417502020744305\u001b[0m\t \u001b[1m\u001b[92m3.374705574767464\u001b[0m\n",
            "16 \t [5.12       2.81818007]\t 42.71280222275201\t 10.835826047699555\t 2.514637185912906\t 3.1732531511544977\n",
            "17 \t [-1.04932069  4.80434822]\t 31.31034843761853\t 10.835826047699555\t 2.7238090666894554\t 3.3287831616848793\n",
            "18 \t [-3.10851382 -1.92074299]\t 16.80233279011602\t 10.835826047699555\t 2.665027631802589\t 3.1974834731409385\n",
            "19 \t [ 1.04060048 -1.72187295]\t 16.129405304710154\t 10.835826047699555\t 2.5239245795721\t 3.4428080019083915\n",
            "20 \t [ 3.24325317 -4.66484563]\t 56.954446952858454\t 10.835826047699555\t 2.698386782167614\t 3.3525748073653676\n"
          ]
        }
      ],
      "source": [
        "### EXACT STP CBM GRADIENTS\n",
        "\n",
        "np.random.seed(run_num_16)\n",
        "surrogate_exact_16 = dtStudentProcess(cov_func, optimize=opt, nu = df)\n",
        "\n",
        "exact_16 = dGPGO(surrogate_exact_16, Acquisition_grad(util), objfunc, param)\n",
        "exact_16.run(init_evals=n_init, max_iter=iters)\n"
      ]
    },
    {
      "cell_type": "code",
      "execution_count": null,
      "metadata": {
        "id": "yU2SflSsJTUs",
        "colab": {
          "base_uri": "https://localhost:8080/"
        },
        "outputId": "c6143d08-0747-4097-dce9-3ab71daaa35d"
      },
      "outputs": [
        {
          "output_type": "stream",
          "name": "stdout",
          "text": [
            "Evaluation \t Proposed point \t  Current eval. \t  Best eval. \t        Exact CBM: StdDev. x \t Approx CBM: StdDev. x \n",
            "init\t [-2.10263037  0.31320838]\t 20.395145364684023\t 20.395145364684023\t    \t    \n",
            "init\t [-3.15882714 -4.42470033]\t 53.03732051200137\t 20.395145364684023\t    \t    \n",
            "init\t [2.93873111 1.60085526]\t 29.989224812583537\t 20.395145364684023\t    \t    \n",
            "init\t [1.40821398 0.77417363]\t 29.451989415882437\t 20.395145364684023\t    \t    \n",
            "init\t [-4.71999574 -1.45598869]\t 55.89242173757483\t 20.395145364684023\t    \t    \n",
            "1  \t [ 4.96008736 -4.44720822]\t 64.14783177084814\t 20.395145364684023\t 3.6570380233169133\t 4.80191307821393\n",
            "2  \t [-1.51904017  5.12      ]\t 51.16072188393832\t 20.395145364684023\t 3.572507539791087\t 3.79055911876683\n",
            "3  \t [5.12 5.12]\t 57.849427451571785\t 20.395145364684023\t 3.6056982736651535\t 3.589930689364513\n",
            "4  \t [ 0.77443712 -3.17324875]\t 24.502187581851736\t 20.395145364684023\t 3.670262079189583\t 4.092336676733655\n",
            "5  \t [ 5.12       -0.78299754]\t 37.47932382486586\t 20.395145364684023\t 3.5633742609693546\t 3.969762460662461\n",
            "6  \t [-5.09898064  2.69852977]\t 48.331909394782556\t 20.395145364684023\t 3.287780058731806\t 3.490704628669278\n",
            "7  \t [1.79869356 5.12      ]\t 39.14801402485274\t 20.395145364684023\t 3.153828631027244\t 3.1165089922533977\n",
            "8  \t [-0.64346411  2.47658545]\t 42.64453447727482\t 20.395145364684023\t 3.6415953570885753\t 3.7166306534739695\n",
            "9  \t [ 2.03549528 -5.12      ]\t 33.315622940088346\t 20.395145364684023\t 3.522416427084782\t 4.04669223158971\n",
            "10 \t [-1.30599136 -2.09629499]\t 21.321187993651463\t 20.395145364684023\t 2.879444472780043\t 3.400324407555289\n",
            "11 \t [ 2.69385248 -1.74967566]\t 33.79371377671361\t 20.395145364684023\t 3.345474731861853\t 3.6283578264497347\n",
            "12 \t [4.84093894 2.71585763]\t 47.531398633800976\t 20.395145364684023\t 3.778529154014955\t 3.706367154715634\n",
            "13 \t [-5.12 -5.12]\t 57.849427451571785\t 20.395145364684023\t 2.931772512060964\t 3.7098510412454515\n",
            "14 \t [-0.77925247 -4.76894977]\t 40.334622813090725\t 20.395145364684023\t 2.6959977691127883\t 3.505662937278213\n",
            "15 \t [-2.95997258  3.12058067]\t 21.54939587960101\t 20.395145364684023\t 2.6658681707723604\t 3.1777127831602776\n",
            "\u001b[1m\u001b[92m16\u001b[0m\t \u001b[1m\u001b[92m[ 0.06794683 -0.72677411]\u001b[0m\t \u001b[1m\u001b[92m12.884525453154186\u001b[0m\t \u001b[1m\u001b[92m12.884525453154186\u001b[0m\t \u001b[1m\u001b[92m2.563762587080107\u001b[0m\t \u001b[1m\u001b[92m3.020248831770567\u001b[0m\n",
            "17 \t [1.5864876  3.13466371]\t 34.27357142684446\t 12.884525453154186\t 2.5897040533331044\t 3.334268397456166\n",
            "18 \t [-3.78828793  0.65030905]\t 38.25359521959034\t 12.884525453154186\t 2.6716947557350563\t 3.468001267344892\n",
            "19 \t [-2.72189095 -1.49272786]\t 41.38346600008493\t 12.884525453154186\t 2.6217741097423537\t 3.324912494284032\n",
            "20 \t [5.10908811 1.0649266 ]\t 30.315945731543632\t 12.884525453154186\t 3.033332654920167\t 3.7148216091232413\n"
          ]
        }
      ],
      "source": [
        "### EXACT STP CBM GRADIENTS\n",
        "\n",
        "np.random.seed(run_num_17)\n",
        "surrogate_exact_17 = dtStudentProcess(cov_func, optimize=opt, nu = df)\n",
        "\n",
        "exact_17 = dGPGO(surrogate_exact_17, Acquisition_grad(util), objfunc, param)\n",
        "exact_17.run(init_evals=n_init, max_iter=iters)\n"
      ]
    },
    {
      "cell_type": "code",
      "execution_count": null,
      "metadata": {
        "id": "eVEhyZ9BQS-1",
        "colab": {
          "base_uri": "https://localhost:8080/"
        },
        "outputId": "98a067ff-5e8b-4228-e753-3471a56d9c9e"
      },
      "outputs": [
        {
          "output_type": "stream",
          "name": "stdout",
          "text": [
            "Evaluation \t Proposed point \t  Current eval. \t  Best eval. \t        Exact CBM: StdDev. x \t Approx CBM: StdDev. x \n",
            "init\t [1.53983224 0.05584255]\t 22.67190580753611\t 22.67190580753611\t    \t    \n",
            "init\t [ 3.87687906 -3.25795609]\t 38.990099416711985\t 22.67190580753611\t    \t    \n",
            "init\t [3.60686662 2.56139557]\t 56.66448698782129\t 22.67190580753611\t    \t    \n",
            "init\t [1.70088108 4.99604939]\t 40.894059318256296\t 22.67190580753611\t    \t    \n",
            "init\t [-2.48864335 -4.83014733]\t 54.6725749848372\t 22.67190580753611\t    \t    \n",
            "1  \t [-5.00718904  2.9174042 ]\t 34.91005808676357\t 22.67190580753611\t 3.5418258775181086\t 4.1811931040096795\n",
            "2  \t [-2.51770607 -0.57204773]\t 45.59700414974918\t 22.67190580753611\t 3.6931443959636545\t 3.344720234113081\n",
            "3  \t [-1.30587966  3.01202766]\t 24.245504449526653\t 22.67190580753611\t 3.9258348054050396\t 4.166364416718998\n",
            "4  \t [ 0.94670518 -5.12      ]\t 30.376405120450436\t 22.67190580753611\t 4.048867132589922\t 4.365506717636534\n",
            "5  \t [ 5.12      -0.3510819]\t 44.98068358723005\t 22.67190580753611\t 3.716305407416915\t 4.041530106053765\n",
            "6  \t [-5.12       -2.90890663]\t 38.9801818151054\t 22.67190580753611\t 3.565593828334194\t 3.879204088551859\n",
            "7  \t [5.12 5.12]\t 57.849427451571785\t 22.67190580753611\t 3.8743141416441906\t 3.782891733444322\n",
            "\u001b[1m\u001b[92m8\u001b[0m\t \u001b[1m\u001b[92m[-0.25810866 -2.1454474 ]\u001b[0m\t \u001b[1m\u001b[92m19.07199196561537\u001b[0m\t \u001b[1m\u001b[92m19.07199196561537\u001b[0m\t \u001b[1m\u001b[92m2.7749054157966766\u001b[0m\t \u001b[1m\u001b[92m3.978645982720809\u001b[0m\n",
            "9  \t [-0.7972396  5.12     ]\t 36.635543391006706\t 19.07199196561537\t 2.822729761721027\t 3.484414751985999\n",
            "10 \t [-3.25993738  4.81425749]\t 50.49962556437374\t 19.07199196561537\t 3.46337826885628\t 4.116045609733835\n",
            "11 \t [-5.12       -0.09820362]\t 30.77836125085838\t 19.07199196561537\t 3.5212797801337974\t 4.093371022226988\n",
            "12 \t [-5.12 -5.12]\t 57.849427451571785\t 19.07199196561537\t 3.2425884489791206\t 3.7231658498510813\n",
            "13 \t [ 1.78025086 -2.58266324]\t 36.63137788404325\t 19.07199196561537\t 2.818502857888395\t 3.28952548399281\n",
            "14 \t [0.75619375 2.22231273]\t 23.390555112823584\t 19.07199196561537\t 2.2297026681449195\t 3.062500447412732\n",
            "15 \t [-2.86830424  1.55155477]\t 33.347001649684586\t 19.07199196561537\t 2.869124780629328\t 3.67401947339838\n",
            "16 \t [-0.48698141  0.47674925]\t 40.324484656669526\t 19.07199196561537\t 2.4941459449733547\t 3.9072024168251414\n",
            "17 \t [ 3.48717886 -5.12      ]\t 61.05270003485043\t 19.07199196561537\t 3.0724198190447245\t 4.186606822257586\n",
            "18 \t [-1.71248478 -3.01159671]\t 24.364236494529905\t 19.07199196561537\t 2.959868230141175\t 3.5361105798927293\n",
            "\u001b[1m\u001b[92m19\u001b[0m\t \u001b[1m\u001b[92m[ 3.08284158 -0.0255145 ]\u001b[0m\t \u001b[1m\u001b[92m10.957126775130702\u001b[0m\t \u001b[1m\u001b[92m10.957126775130702\u001b[0m\t \u001b[1m\u001b[92m2.532545145821801\u001b[0m\t \u001b[1m\u001b[92m3.597698984906257\u001b[0m\n",
            "20 \t [-0.70958613 -4.9791594 ]\t 37.893229453095884\t 10.957126775130702\t 2.9652698691769293\t 3.859905921305581\n"
          ]
        }
      ],
      "source": [
        "### EXACT STP CBM GRADIENTS\n",
        "\n",
        "np.random.seed(run_num_18)\n",
        "surrogate_exact_18 = dtStudentProcess(cov_func, optimize=opt, nu = df)\n",
        "\n",
        "exact_18 = dGPGO(surrogate_exact_18, Acquisition_grad(util), objfunc, param)\n",
        "exact_18.run(init_evals=n_init, max_iter=iters)\n"
      ]
    },
    {
      "cell_type": "code",
      "execution_count": null,
      "metadata": {
        "id": "B6gTz1ojQUxn",
        "colab": {
          "base_uri": "https://localhost:8080/"
        },
        "outputId": "e0202e81-86b0-405d-f4ff-44779021d82a"
      },
      "outputs": [
        {
          "output_type": "stream",
          "name": "stdout",
          "text": [
            "Evaluation \t Proposed point \t  Current eval. \t  Best eval. \t        Exact CBM: StdDev. x \t Approx CBM: StdDev. x \n",
            "init\t [-4.12125592  2.6751971 ]\t 41.43485596167127\t 25.867003842388073\t    \t    \n",
            "init\t [-2.59135515 -3.70553152]\t 51.60126035043229\t 25.867003842388073\t    \t    \n",
            "init\t [-1.72598719 -4.27008445]\t 43.97430127029199\t 25.867003842388073\t    \t    \n",
            "init\t [1.76104531 3.13952049]\t 25.867003842388073\t 25.867003842388073\t    \t    \n",
            "init\t [4.9432772  1.38916592]\t 44.66580306903559\t 25.867003842388073\t    \t    \n",
            "1  \t [ 4.82670858 -3.73096173]\t 53.77525587023184\t 25.867003842388073\t 3.45265650746494\t 4.554854864635011\n",
            "\u001b[1m\u001b[92m2\u001b[0m\t \u001b[1m\u001b[92m[-0.84302768  0.11900162]\u001b[0m\t \u001b[1m\u001b[92m7.874463688021925\u001b[0m\t \u001b[1m\u001b[92m7.874463688021925\u001b[0m\t \u001b[1m\u001b[92m4.018474743596532\u001b[0m\t \u001b[1m\u001b[92m3.7440071903126886\u001b[0m\n",
            "3  \t [5.12 5.12]\t 57.849427451571785\t 7.874463688021925\t 4.294646594408627\t 4.438190345789865\n",
            "4  \t [-1.28690058  5.12      ]\t 42.87864169599758\t 7.874463688021925\t 3.0600736570210207\t 3.5459967166256505\n",
            "5  \t [ 1.5989357 -1.8847032]\t 26.749231532303455\t 7.874463688021925\t 2.6937913422058335\t 2.926115522083596\n",
            "6  \t [-5.12 -5.12]\t 57.849427451571785\t 7.874463688021925\t 3.2471426699467236\t 3.4086971911226915\n",
            "7  \t [-2.61032618 -1.01695893]\t 25.596778299210428\t 7.874463688021925\t 3.015550300976598\t 3.6578036568711916\n",
            "8  \t [ 1.28977705 -4.84744953]\t 41.887161863402774\t 7.874463688021925\t 2.7793157568465383\t 3.4336887288551377\n",
            "9  \t [-5.12       -2.06605037]\t 34.04214176275086\t 7.874463688021925\t 3.0933120060846835\t 3.6893538126318552\n",
            "10 \t [ 4.07113098 -1.05456909]\t 19.25049312583085\t 7.874463688021925\t 3.2729519102386258\t 3.6983259312446704\n",
            "11 \t [1.90889909 0.58778491]\t 24.100408206213807\t 7.874463688021925\t 2.593228902268221\t 3.4132938240155783\n",
            "12 \t [-1.45262673  2.43368641]\t 46.73767794977499\t 7.874463688021925\t 2.916780511054739\t 3.3227742332523555\n",
            "13 \t [2.3369731 5.12     ]\t 49.58288655283697\t 7.874463688021925\t 2.9228042145743363\t 4.270030770355422\n",
            "14 \t [-4.53463078  0.18690022]\t 46.500386197943385\t 7.874463688021925\t 2.812295502741878\t 3.7820767252305245\n",
            "15 \t [-0.69230999 -1.43515934]\t 35.266406930775084\t 7.874463688021925\t 3.140161651790396\t 3.4982849062033265\n",
            "16 \t [3.75901421 3.03349044]\t 32.98675613852498\t 7.874463688021925\t 2.976578913109597\t 3.7594870956992077\n",
            "17 \t [0.34764398 1.35433173]\t 33.80836147596762\t 7.874463688021925\t 2.5141707216861526\t 3.9730547394838784\n",
            "18 \t [ 2.78049945 -3.35420712]\t 43.16688383959168\t 7.874463688021925\t 2.958358959486455\t 3.903392625949988\n",
            "19 \t [ 5.12      -0.9500369]\t 30.316002547642135\t 7.874463688021925\t 2.696524927638818\t 3.5686418188987585\n",
            "20 \t [0.3210851  4.04499008]\t 31.18131327329271\t 7.874463688021925\t 3.027526216050216\t 4.024978781092655\n"
          ]
        }
      ],
      "source": [
        "### EXACT STP CBM GRADIENTS\n",
        "\n",
        "np.random.seed(run_num_19)\n",
        "surrogate_exact_19 = dtStudentProcess(cov_func, optimize=opt, nu = df)\n",
        "\n",
        "exact_19 = dGPGO(surrogate_exact_19, Acquisition_grad(util), objfunc, param)\n",
        "exact_19.run(init_evals=n_init, max_iter=iters)\n"
      ]
    },
    {
      "cell_type": "code",
      "execution_count": null,
      "metadata": {
        "id": "aw3xvSryIwDi",
        "colab": {
          "base_uri": "https://localhost:8080/"
        },
        "outputId": "5ce9cfaf-49d1-4f64-8c84-40317b46ed5e"
      },
      "outputs": [
        {
          "output_type": "stream",
          "name": "stdout",
          "text": [
            "Evaluation \t Proposed point \t  Current eval. \t  Best eval. \t        Exact CBM: StdDev. x \t Approx CBM: StdDev. x \n",
            "init\t [0.9024594  4.07258857]\t 20.24255447774017\t 17.388691338534382\t    \t    \n",
            "init\t [4.00927467 3.23417577]\t 35.55852254546393\t 17.388691338534382\t    \t    \n",
            "init\t [-4.75249064  1.96359764]\t 36.54582989269194\t 17.388691338534382\t    \t    \n",
            "init\t [-1.24230715  0.18955208]\t 17.388691338534382\t 17.388691338534382\t    \t    \n",
            "init\t [ 1.61742301 -3.13497377]\t 33.22932870179905\t 17.388691338534382\t    \t    \n",
            "1  \t [-5.12 -5.12]\t 57.849427451571785\t 17.388691338534382\t 3.717572466081783\t 4.098167248976213\n",
            "2  \t [ 5.12       -0.88951847]\t 32.03014510196718\t 17.388691338534382\t 3.1636494726948414\t 4.059772207937319\n",
            "3  \t [-2.32438402  4.6947948 ]\t 55.34875240714706\t 17.388691338534382\t 2.9632248268981525\t 3.440070359696923\n",
            "4  \t [-1.40466215 -5.12      ]\t 49.15664494457511\t 17.388691338534382\t 3.5296722555001043\t 4.132229351067398\n",
            "5  \t [-4.88781756 -1.52040042]\t 48.50333729037201\t 17.388691338534382\t 3.3899037643242216\t 4.037363330522696\n",
            "6  \t [ 4.70068248 -4.42546824]\t 73.65392680798625\t 17.388691338534382\t 3.3342403631065753\t 3.9590432368303516\n",
            "\u001b[1m\u001b[92m7\u001b[0m\t \u001b[1m\u001b[92m[2.03584318 0.28559844]\u001b[0m\t \u001b[1m\u001b[92m16.69686280067686\u001b[0m\t \u001b[1m\u001b[92m16.69686280067686\u001b[0m\t \u001b[1m\u001b[92m3.7537750552597804\u001b[0m\t \u001b[1m\u001b[92m3.669510956483546\u001b[0m\n",
            "8  \t [-1.92933239 -2.21273278]\t 17.267949558815822\t 16.69686280067686\t 3.6487784538684784\t 3.7170962279477893\n",
            "9  \t [5.12 5.12]\t 57.849427451571785\t 16.69686280067686\t 3.317168080704878\t 4.097928081219529\n",
            "\u001b[1m\u001b[92m10\u001b[0m\t \u001b[1m\u001b[92m[-0.15900274  2.07735714]\u001b[0m\t \u001b[1m\u001b[92m10.087773631162351\u001b[0m\t \u001b[1m\u001b[92m10.087773631162351\u001b[0m\t \u001b[1m\u001b[92m2.7745780529909254\u001b[0m\t \u001b[1m\u001b[92m3.1180348438109795\u001b[0m\n",
            "11 \t [ 1.42103286 -5.12      ]\t 49.73819414583862\t 10.087773631162351\t 2.8337030656508237\t 3.106305894598835\n",
            "12 \t [-4.56581936  4.37826154]\t 76.38733867030074\t 10.087773631162351\t 3.0931198249035763\t 3.436781233696849\n",
            "13 \t [ 0.43411256 -1.31814533]\t 35.23328412699707\t 10.087773631162351\t 2.889818809505528\t 3.2741395464078784\n",
            "14 \t [-2.3403755   1.99113784]\t 24.835659835021428\t 10.087773631162351\t 2.8816953072269915\t 2.813058029730849\n",
            "15 \t [5.12      1.4160681]\t 49.57135078659039\t 10.087773631162351\t 2.689215942546204\t 2.975323728640005\n",
            "16 \t [2.59273267 5.12      ]\t 53.997014934803644\t 10.087773631162351\t 2.8873039875762587\t 3.0993598641409186\n",
            "17 \t [1.94401717 2.08769934]\t 10.230130091618104\t 10.087773631162351\t 2.3165307377663336\t 2.4649819281564227\n",
            "18 \t [-3.44723762 -3.62089163]\t 61.70102579381035\t 10.087773631162351\t 2.5984712971345725\t 3.30300301626692\n",
            "19 \t [ 3.49301926 -2.17647877]\t 42.47170217798012\t 10.087773631162351\t 2.677184171557093\t 3.043273854049251\n",
            "20 \t [-3.26251344 -0.02152643]\t 21.52121990926805\t 10.087773631162351\t 2.647183788281433\t 2.8637490966844985\n"
          ]
        }
      ],
      "source": [
        "### EXACT STP CBM GRADIENTS\n",
        "\n",
        "np.random.seed(run_num_20)\n",
        "surrogate_exact_20 = dtStudentProcess(cov_func, optimize=opt, nu = df)\n",
        "\n",
        "exact_20 = dGPGO(surrogate_exact_20, Acquisition_grad(util), objfunc, param)\n",
        "exact_20.run(init_evals=n_init, max_iter=iters)\n"
      ]
    },
    {
      "cell_type": "code",
      "execution_count": null,
      "metadata": {
        "id": "5c8szjivRPme",
        "colab": {
          "base_uri": "https://localhost:8080/"
        },
        "outputId": "1f11ad34-7155-4183-ce39-8f86268ed333"
      },
      "outputs": [
        {
          "output_type": "execute_result",
          "data": {
            "text/plain": [
              "792.2188892364502"
            ]
          },
          "metadata": {},
          "execution_count": 54
        }
      ],
      "source": [
        "end_exact = time.time()\n",
        "end_exact\n",
        "\n",
        "time_exact = end_exact - start_exact\n",
        "time_exact\n"
      ]
    },
    {
      "cell_type": "code",
      "execution_count": null,
      "metadata": {
        "id": "f6gCKnp6RR8c",
        "colab": {
          "base_uri": "https://localhost:8080/"
        },
        "outputId": "bd33c691-b6a8-419d-f069-f0474fb1b34a"
      },
      "outputs": [
        {
          "output_type": "execute_result",
          "data": {
            "text/plain": [
              "(2.3514797116895756, 2.9911419163163977)"
            ]
          },
          "metadata": {},
          "execution_count": 55
        }
      ],
      "source": [
        "### Simple regret minimization: run number = 1\n",
        "\n",
        "approx_output_1 = np.append(np.min(-approx_1.GP.y[0:n_init]),-approx_1.GP.y[n_init:(n_init+iters)]) \n",
        "exact_output_1 = np.append(np.min(-exact_1.GP.y[0:n_init]),-exact_1.GP.y[n_init:(n_init+iters)]) \n",
        "\n",
        "regret_approx_1 = np.log(approx_output_1 - y_global_orig)\n",
        "regret_exact_1 = np.log(exact_output_1 - y_global_orig)\n",
        "\n",
        "simple_regret_approx_1 = min_max_array(regret_approx_1)\n",
        "simple_regret_exact_1 = min_max_array(regret_exact_1)\n",
        "\n",
        "min_simple_regret_approx_1 = min(simple_regret_approx_1)\n",
        "min_simple_regret_exact_1 = min(simple_regret_exact_1)\n",
        "\n",
        "min_simple_regret_approx_1, min_simple_regret_exact_1\n"
      ]
    },
    {
      "cell_type": "code",
      "execution_count": null,
      "metadata": {
        "id": "94yBw5tqQxfk",
        "colab": {
          "base_uri": "https://localhost:8080/"
        },
        "outputId": "47c6f69d-ee6c-4d99-ea90-0c9d9306a851"
      },
      "outputs": [
        {
          "output_type": "execute_result",
          "data": {
            "text/plain": [
              "(2.9425708889884663, 2.8591039060072783)"
            ]
          },
          "metadata": {},
          "execution_count": 56
        }
      ],
      "source": [
        "### Simple regret minimization: run number = 2\n",
        "\n",
        "approx_output_2 = np.append(np.min(-approx_2.GP.y[0:n_init]),-approx_2.GP.y[n_init:(n_init+iters)]) \n",
        "exact_output_2 = np.append(np.min(-exact_2.GP.y[0:n_init]),-exact_2.GP.y[n_init:(n_init+iters)]) \n",
        "\n",
        "regret_approx_2 = np.log(approx_output_2 - y_global_orig)\n",
        "regret_exact_2 = np.log(exact_output_2 - y_global_orig)\n",
        "\n",
        "simple_regret_approx_2 = min_max_array(regret_approx_2)\n",
        "simple_regret_exact_2 = min_max_array(regret_exact_2)\n",
        "\n",
        "min_simple_regret_approx_2 = min(simple_regret_approx_2)\n",
        "min_simple_regret_exact_2 = min(simple_regret_exact_2)\n",
        "\n",
        "min_simple_regret_approx_2, min_simple_regret_exact_2\n"
      ]
    },
    {
      "cell_type": "code",
      "execution_count": null,
      "metadata": {
        "id": "Bu6SBWALQxfl",
        "colab": {
          "base_uri": "https://localhost:8080/"
        },
        "outputId": "cebc3b4c-291d-47e7-bec6-1fb7e145e491"
      },
      "outputs": [
        {
          "output_type": "execute_result",
          "data": {
            "text/plain": [
              "(2.361576630127625, 2.338450578492572)"
            ]
          },
          "metadata": {},
          "execution_count": 57
        }
      ],
      "source": [
        "### Simple regret minimization: run number = 3\n",
        "\n",
        "approx_output_3 = np.append(np.min(-approx_3.GP.y[0:n_init]),-approx_3.GP.y[n_init:(n_init+iters)]) \n",
        "exact_output_3 = np.append(np.min(-exact_3.GP.y[0:n_init]),-exact_3.GP.y[n_init:(n_init+iters)]) \n",
        "\n",
        "regret_approx_3 = np.log(approx_output_3 - y_global_orig)\n",
        "regret_exact_3 = np.log(exact_output_3 - y_global_orig)\n",
        "\n",
        "simple_regret_approx_3 = min_max_array(regret_approx_3)\n",
        "simple_regret_exact_3 = min_max_array(regret_exact_3)\n",
        "\n",
        "min_simple_regret_approx_3 = min(simple_regret_approx_3)\n",
        "min_simple_regret_exact_3 = min(simple_regret_exact_3)\n",
        "\n",
        "min_simple_regret_approx_3, min_simple_regret_exact_3"
      ]
    },
    {
      "cell_type": "code",
      "execution_count": null,
      "metadata": {
        "id": "AZm0jgxkQxfm",
        "colab": {
          "base_uri": "https://localhost:8080/"
        },
        "outputId": "ee93580a-a987-400a-ae5b-3edd7149223c"
      },
      "outputs": [
        {
          "output_type": "execute_result",
          "data": {
            "text/plain": [
              "(2.287813235470702, 1.8899046717638293)"
            ]
          },
          "metadata": {},
          "execution_count": 58
        }
      ],
      "source": [
        "### Simple regret minimization: run number = 4\n",
        "\n",
        "approx_output_4 = np.append(np.min(-approx_4.GP.y[0:n_init]),-approx_4.GP.y[n_init:(n_init+iters)]) \n",
        "exact_output_4 = np.append(np.min(-exact_4.GP.y[0:n_init]),-exact_4.GP.y[n_init:(n_init+iters)]) \n",
        "\n",
        "regret_approx_4 = np.log(approx_output_4 - y_global_orig)\n",
        "regret_exact_4 = np.log(exact_output_4 - y_global_orig)\n",
        "\n",
        "simple_regret_approx_4 = min_max_array(regret_approx_4)\n",
        "simple_regret_exact_4 = min_max_array(regret_exact_4)\n",
        "\n",
        "min_simple_regret_approx_4 = min(simple_regret_approx_4)\n",
        "min_simple_regret_exact_4 = min(simple_regret_exact_4)\n",
        "\n",
        "min_simple_regret_approx_4, min_simple_regret_exact_4"
      ]
    },
    {
      "cell_type": "code",
      "execution_count": null,
      "metadata": {
        "id": "NONPm8JIQxfn",
        "colab": {
          "base_uri": "https://localhost:8080/"
        },
        "outputId": "a25c5298-5753-4302-985f-2cf868d36716"
      },
      "outputs": [
        {
          "output_type": "execute_result",
          "data": {
            "text/plain": [
              "(2.05551541920764, 1.8288294238823455)"
            ]
          },
          "metadata": {},
          "execution_count": 59
        }
      ],
      "source": [
        "### Simple regret minimization: run number = 5\n",
        "\n",
        "approx_output_5 = np.append(np.min(-approx_5.GP.y[0:n_init]),-approx_5.GP.y[n_init:(n_init+iters)]) \n",
        "exact_output_5 = np.append(np.min(-exact_5.GP.y[0:n_init]),-exact_5.GP.y[n_init:(n_init+iters)]) \n",
        "\n",
        "regret_approx_5 = np.log(approx_output_5 - y_global_orig)\n",
        "regret_exact_5 = np.log(exact_output_5 - y_global_orig)\n",
        "\n",
        "simple_regret_approx_5 = min_max_array(regret_approx_5)\n",
        "simple_regret_exact_5 = min_max_array(regret_exact_5)\n",
        "\n",
        "min_simple_regret_approx_5 = min(simple_regret_approx_5)\n",
        "min_simple_regret_exact_5 = min(simple_regret_exact_5)\n",
        "\n",
        "min_simple_regret_approx_5, min_simple_regret_exact_5"
      ]
    },
    {
      "cell_type": "code",
      "execution_count": null,
      "metadata": {
        "id": "CJv3lPuSQxfp",
        "colab": {
          "base_uri": "https://localhost:8080/"
        },
        "outputId": "24ad3bad-d988-46ba-c6f5-7e2c6cf125f4"
      },
      "outputs": [
        {
          "output_type": "execute_result",
          "data": {
            "text/plain": [
              "(2.812979627867895, 2.48823098743442)"
            ]
          },
          "metadata": {},
          "execution_count": 60
        }
      ],
      "source": [
        "### Simple regret minimization: run number = 6\n",
        "\n",
        "approx_output_6 = np.append(np.min(-approx_6.GP.y[0:n_init]),-approx_6.GP.y[n_init:(n_init+iters)]) \n",
        "exact_output_6 = np.append(np.min(-exact_6.GP.y[0:n_init]),-exact_6.GP.y[n_init:(n_init+iters)]) \n",
        "\n",
        "regret_approx_6 = np.log(approx_output_6 - y_global_orig)\n",
        "regret_exact_6 = np.log(exact_output_6 - y_global_orig)\n",
        "\n",
        "simple_regret_approx_6 = min_max_array(regret_approx_6)\n",
        "simple_regret_exact_6 = min_max_array(regret_exact_6)\n",
        "\n",
        "min_simple_regret_approx_6 = min(simple_regret_approx_6)\n",
        "min_simple_regret_exact_6 = min(simple_regret_exact_6)\n",
        "\n",
        "min_simple_regret_approx_6, min_simple_regret_exact_6"
      ]
    },
    {
      "cell_type": "code",
      "execution_count": null,
      "metadata": {
        "id": "quR2ZyApQxfq",
        "colab": {
          "base_uri": "https://localhost:8080/"
        },
        "outputId": "68c5868e-5709-4daa-ee1c-27de7732dc77"
      },
      "outputs": [
        {
          "output_type": "execute_result",
          "data": {
            "text/plain": [
              "(3.068115378418741, 2.2039381506664895)"
            ]
          },
          "metadata": {},
          "execution_count": 61
        }
      ],
      "source": [
        "### Simple regret minimization: run number = 7\n",
        "\n",
        "approx_output_7 = np.append(np.min(-approx_7.GP.y[0:n_init]),-approx_7.GP.y[n_init:(n_init+iters)]) \n",
        "exact_output_7 = np.append(np.min(-exact_7.GP.y[0:n_init]),-exact_7.GP.y[n_init:(n_init+iters)]) \n",
        "\n",
        "regret_approx_7 = np.log(approx_output_7 - y_global_orig)\n",
        "regret_exact_7 = np.log(exact_output_7 - y_global_orig)\n",
        "\n",
        "simple_regret_approx_7 = min_max_array(regret_approx_7)\n",
        "simple_regret_exact_7 = min_max_array(regret_exact_7)\n",
        "\n",
        "min_simple_regret_approx_7 = min(simple_regret_approx_7)\n",
        "min_simple_regret_exact_7 = min(simple_regret_exact_7)\n",
        "\n",
        "min_simple_regret_approx_7, min_simple_regret_exact_7"
      ]
    },
    {
      "cell_type": "code",
      "execution_count": null,
      "metadata": {
        "id": "99wY5nK6Qxfr",
        "colab": {
          "base_uri": "https://localhost:8080/"
        },
        "outputId": "b75a8e5f-54d8-4622-fadc-ad1c5f05a5ed"
      },
      "outputs": [
        {
          "output_type": "execute_result",
          "data": {
            "text/plain": [
              "(2.6298595175876263, 2.155982482260275)"
            ]
          },
          "metadata": {},
          "execution_count": 62
        }
      ],
      "source": [
        "### Simple regret minimization: run number = 8\n",
        "\n",
        "approx_output_8 = np.append(np.min(-approx_8.GP.y[0:n_init]),-approx_8.GP.y[n_init:(n_init+iters)]) \n",
        "exact_output_8 = np.append(np.min(-exact_8.GP.y[0:n_init]),-exact_8.GP.y[n_init:(n_init+iters)]) \n",
        "\n",
        "regret_approx_8 = np.log(approx_output_8 - y_global_orig)\n",
        "regret_exact_8 = np.log(exact_output_8 - y_global_orig)\n",
        "\n",
        "simple_regret_approx_8 = min_max_array(regret_approx_8)\n",
        "simple_regret_exact_8 = min_max_array(regret_exact_8)\n",
        "\n",
        "min_simple_regret_approx_8 = min(simple_regret_approx_8)\n",
        "min_simple_regret_exact_8 = min(simple_regret_exact_8)\n",
        "\n",
        "min_simple_regret_approx_8, min_simple_regret_exact_8"
      ]
    },
    {
      "cell_type": "code",
      "execution_count": null,
      "metadata": {
        "id": "qt0P5t9qQxfs",
        "colab": {
          "base_uri": "https://localhost:8080/"
        },
        "outputId": "e262e97e-cecf-47a6-d4b7-6313d37681b5"
      },
      "outputs": [
        {
          "output_type": "execute_result",
          "data": {
            "text/plain": [
              "(2.506468089640236, 2.177232741172194)"
            ]
          },
          "metadata": {},
          "execution_count": 63
        }
      ],
      "source": [
        "### Simple regret minimization: run number = 9\n",
        "\n",
        "approx_output_9 = np.append(np.min(-approx_9.GP.y[0:n_init]),-approx_9.GP.y[n_init:(n_init+iters)]) \n",
        "exact_output_9 = np.append(np.min(-exact_9.GP.y[0:n_init]),-exact_9.GP.y[n_init:(n_init+iters)]) \n",
        "\n",
        "regret_approx_9 = np.log(approx_output_9 - y_global_orig)\n",
        "regret_exact_9 = np.log(exact_output_9 - y_global_orig)\n",
        "\n",
        "simple_regret_approx_9 = min_max_array(regret_approx_9)\n",
        "simple_regret_exact_9 = min_max_array(regret_exact_9)\n",
        "\n",
        "min_simple_regret_approx_9 = min(simple_regret_approx_9)\n",
        "min_simple_regret_exact_9 = min(simple_regret_exact_9)\n",
        "\n",
        "min_simple_regret_approx_9, min_simple_regret_exact_9"
      ]
    },
    {
      "cell_type": "code",
      "execution_count": null,
      "metadata": {
        "id": "vx8to9stQxft",
        "colab": {
          "base_uri": "https://localhost:8080/"
        },
        "outputId": "1f8e4be9-069a-4b18-cca8-cd5a76bfaf6c"
      },
      "outputs": [
        {
          "output_type": "execute_result",
          "data": {
            "text/plain": [
              "(2.457981221036482, 2.627523809990331)"
            ]
          },
          "metadata": {},
          "execution_count": 64
        }
      ],
      "source": [
        "### Simple regret minimization: run number = 10\n",
        "\n",
        "approx_output_10 = np.append(np.min(-approx_10.GP.y[0:n_init]),-approx_10.GP.y[n_init:(n_init+iters)]) \n",
        "exact_output_10 = np.append(np.min(-exact_10.GP.y[0:n_init]),-exact_10.GP.y[n_init:(n_init+iters)]) \n",
        "\n",
        "regret_approx_10 = np.log(approx_output_10 - y_global_orig)\n",
        "regret_exact_10 = np.log(exact_output_10 - y_global_orig)\n",
        "\n",
        "simple_regret_approx_10 = min_max_array(regret_approx_10)\n",
        "simple_regret_exact_10 = min_max_array(regret_exact_10)\n",
        "\n",
        "min_simple_regret_approx_10 = min(simple_regret_approx_10)\n",
        "min_simple_regret_exact_10 = min(simple_regret_exact_10)\n",
        "\n",
        "min_simple_regret_approx_10, min_simple_regret_exact_10"
      ]
    },
    {
      "cell_type": "code",
      "execution_count": null,
      "metadata": {
        "id": "d-FGzWyHQxfu",
        "colab": {
          "base_uri": "https://localhost:8080/"
        },
        "outputId": "f7bfbfa2-dee6-494d-a028-116c1e9306dd"
      },
      "outputs": [
        {
          "output_type": "execute_result",
          "data": {
            "text/plain": [
              "(1.1292115980947992, 2.3683499168354514)"
            ]
          },
          "metadata": {},
          "execution_count": 65
        }
      ],
      "source": [
        "### Simple regret minimization: run number = 11\n",
        "\n",
        "approx_output_11 = np.append(np.min(-approx_11.GP.y[0:n_init]),-approx_11.GP.y[n_init:(n_init+iters)]) \n",
        "exact_output_11 = np.append(np.min(-exact_11.GP.y[0:n_init]),-exact_11.GP.y[n_init:(n_init+iters)]) \n",
        "\n",
        "regret_approx_11 = np.log(approx_output_11 - y_global_orig)\n",
        "regret_exact_11 = np.log(exact_output_11 - y_global_orig)\n",
        "\n",
        "simple_regret_approx_11 = min_max_array(regret_approx_11)\n",
        "simple_regret_exact_11 = min_max_array(regret_exact_11)\n",
        "\n",
        "min_simple_regret_approx_11 = min(simple_regret_approx_11)\n",
        "min_simple_regret_exact_11 = min(simple_regret_exact_11)\n",
        "\n",
        "min_simple_regret_approx_11, min_simple_regret_exact_11"
      ]
    },
    {
      "cell_type": "code",
      "execution_count": null,
      "metadata": {
        "id": "SvtsssyjQxfv",
        "colab": {
          "base_uri": "https://localhost:8080/"
        },
        "outputId": "e4b4d4aa-52fc-49ed-8aff-bea66d8d90fa"
      },
      "outputs": [
        {
          "output_type": "execute_result",
          "data": {
            "text/plain": [
              "(2.180819543122, 0.42108743207653626)"
            ]
          },
          "metadata": {},
          "execution_count": 66
        }
      ],
      "source": [
        "### Simple regret minimization: run number = 12\n",
        "\n",
        "approx_output_12 = np.append(np.min(-approx_12.GP.y[0:n_init]),-approx_12.GP.y[n_init:(n_init+iters)]) \n",
        "exact_output_12 = np.append(np.min(-exact_12.GP.y[0:n_init]),-exact_12.GP.y[n_init:(n_init+iters)]) \n",
        "\n",
        "regret_approx_12 = np.log(approx_output_12 - y_global_orig)\n",
        "regret_exact_12 = np.log(exact_output_12 - y_global_orig)\n",
        "\n",
        "simple_regret_approx_12 = min_max_array(regret_approx_12)\n",
        "simple_regret_exact_12 = min_max_array(regret_exact_12)\n",
        "\n",
        "min_simple_regret_approx_12 = min(simple_regret_approx_12)\n",
        "min_simple_regret_exact_12 = min(simple_regret_exact_12)\n",
        "\n",
        "min_simple_regret_approx_12, min_simple_regret_exact_12"
      ]
    },
    {
      "cell_type": "code",
      "execution_count": null,
      "metadata": {
        "id": "K6OiGcHkQxfw",
        "colab": {
          "base_uri": "https://localhost:8080/"
        },
        "outputId": "37ddc7c7-e72c-4798-b139-db9c0aaae5e3"
      },
      "outputs": [
        {
          "output_type": "execute_result",
          "data": {
            "text/plain": [
              "(2.769016689658186, 1.997950896702883)"
            ]
          },
          "metadata": {},
          "execution_count": 67
        }
      ],
      "source": [
        "### Simple regret minimization: run number = 13\n",
        "\n",
        "approx_output_13 = np.append(np.min(-approx_13.GP.y[0:n_init]),-approx_13.GP.y[n_init:(n_init+iters)]) \n",
        "exact_output_13 = np.append(np.min(-exact_13.GP.y[0:n_init]),-exact_13.GP.y[n_init:(n_init+iters)]) \n",
        "\n",
        "regret_approx_13 = np.log(approx_output_13 - y_global_orig)\n",
        "regret_exact_13 = np.log(exact_output_13 - y_global_orig)\n",
        "\n",
        "simple_regret_approx_13 = min_max_array(regret_approx_13)\n",
        "simple_regret_exact_13 = min_max_array(regret_exact_13)\n",
        "\n",
        "min_simple_regret_approx_13 = min(simple_regret_approx_13)\n",
        "min_simple_regret_exact_13 = min(simple_regret_exact_13)\n",
        "\n",
        "min_simple_regret_approx_13, min_simple_regret_exact_13"
      ]
    },
    {
      "cell_type": "code",
      "execution_count": null,
      "metadata": {
        "id": "ogML73shQxfx",
        "colab": {
          "base_uri": "https://localhost:8080/"
        },
        "outputId": "e4398793-80e6-451f-bf97-e82f7144ef2b"
      },
      "outputs": [
        {
          "output_type": "execute_result",
          "data": {
            "text/plain": [
              "(2.3440953566682032, 1.650258854541849)"
            ]
          },
          "metadata": {},
          "execution_count": 68
        }
      ],
      "source": [
        "### Simple regret minimization: run number = 14\n",
        "\n",
        "approx_output_14 = np.append(np.min(-approx_14.GP.y[0:n_init]),-approx_14.GP.y[n_init:(n_init+iters)]) \n",
        "exact_output_14 = np.append(np.min(-exact_14.GP.y[0:n_init]),-exact_14.GP.y[n_init:(n_init+iters)]) \n",
        "\n",
        "regret_approx_14 = np.log(approx_output_14 - y_global_orig)\n",
        "regret_exact_14 = np.log(exact_output_14 - y_global_orig)\n",
        "\n",
        "simple_regret_approx_14 = min_max_array(regret_approx_14)\n",
        "simple_regret_exact_14 = min_max_array(regret_exact_14)\n",
        "\n",
        "min_simple_regret_approx_14 = min(simple_regret_approx_14)\n",
        "min_simple_regret_exact_14 = min(simple_regret_exact_14)\n",
        "\n",
        "min_simple_regret_approx_14, min_simple_regret_exact_14"
      ]
    },
    {
      "cell_type": "code",
      "execution_count": null,
      "metadata": {
        "id": "9Eg7gFT9Qxfx",
        "colab": {
          "base_uri": "https://localhost:8080/"
        },
        "outputId": "5adb6fe5-0db2-40b3-a480-c73e9f6256be"
      },
      "outputs": [
        {
          "output_type": "execute_result",
          "data": {
            "text/plain": [
              "(2.078286539213237, 2.078286539213237)"
            ]
          },
          "metadata": {},
          "execution_count": 69
        }
      ],
      "source": [
        "### Simple regret minimization: run number = 15\n",
        "\n",
        "approx_output_15 = np.append(np.min(-approx_15.GP.y[0:n_init]),-approx_15.GP.y[n_init:(n_init+iters)]) \n",
        "exact_output_15 = np.append(np.min(-exact_15.GP.y[0:n_init]),-exact_15.GP.y[n_init:(n_init+iters)]) \n",
        "\n",
        "regret_approx_15 = np.log(approx_output_15 - y_global_orig)\n",
        "regret_exact_15 = np.log(exact_output_15 - y_global_orig)\n",
        "\n",
        "simple_regret_approx_15 = min_max_array(regret_approx_15)\n",
        "simple_regret_exact_15 = min_max_array(regret_exact_15)\n",
        "\n",
        "min_simple_regret_approx_15 = min(simple_regret_approx_15)\n",
        "min_simple_regret_exact_15 = min(simple_regret_exact_15)\n",
        "\n",
        "min_simple_regret_approx_15, min_simple_regret_exact_15"
      ]
    },
    {
      "cell_type": "code",
      "execution_count": null,
      "metadata": {
        "id": "lIAC1U7ZQxfy",
        "colab": {
          "base_uri": "https://localhost:8080/"
        },
        "outputId": "fff0e77f-9a0e-4f23-9f50-eecf5c170b37"
      },
      "outputs": [
        {
          "output_type": "execute_result",
          "data": {
            "text/plain": [
              "(2.166560587624632, 2.3828578709101222)"
            ]
          },
          "metadata": {},
          "execution_count": 70
        }
      ],
      "source": [
        "### Simple regret minimization: run number = 16\n",
        "\n",
        "approx_output_16 = np.append(np.min(-approx_16.GP.y[0:n_init]),-approx_16.GP.y[n_init:(n_init+iters)]) \n",
        "exact_output_16 = np.append(np.min(-exact_16.GP.y[0:n_init]),-exact_16.GP.y[n_init:(n_init+iters)]) \n",
        "\n",
        "regret_approx_16 = np.log(approx_output_16 - y_global_orig)\n",
        "regret_exact_16 = np.log(exact_output_16 - y_global_orig)\n",
        "\n",
        "simple_regret_approx_16 = min_max_array(regret_approx_16)\n",
        "simple_regret_exact_16 = min_max_array(regret_exact_16)\n",
        "\n",
        "min_simple_regret_approx_16 = min(simple_regret_approx_16)\n",
        "min_simple_regret_exact_16 = min(simple_regret_exact_16)\n",
        "\n",
        "min_simple_regret_approx_16, min_simple_regret_exact_16"
      ]
    },
    {
      "cell_type": "code",
      "execution_count": null,
      "metadata": {
        "id": "bGott36OQxfz",
        "colab": {
          "base_uri": "https://localhost:8080/"
        },
        "outputId": "58d1976a-5f13-4d4d-f93d-b003cb841adf"
      },
      "outputs": [
        {
          "output_type": "execute_result",
          "data": {
            "text/plain": [
              "(2.476064559561992, 2.5560270140240284)"
            ]
          },
          "metadata": {},
          "execution_count": 71
        }
      ],
      "source": [
        "### Simple regret minimization: run number = 17\n",
        "\n",
        "approx_output_17 = np.append(np.min(-approx_17.GP.y[0:n_init]),-approx_17.GP.y[n_init:(n_init+iters)]) \n",
        "exact_output_17 = np.append(np.min(-exact_17.GP.y[0:n_init]),-exact_17.GP.y[n_init:(n_init+iters)]) \n",
        "\n",
        "regret_approx_17 = np.log(approx_output_17 - y_global_orig)\n",
        "regret_exact_17 = np.log(exact_output_17 - y_global_orig)\n",
        "\n",
        "simple_regret_approx_17 = min_max_array(regret_approx_17)\n",
        "simple_regret_exact_17 = min_max_array(regret_exact_17)\n",
        "\n",
        "min_simple_regret_approx_17 = min(simple_regret_approx_17)\n",
        "min_simple_regret_exact_17 = min(simple_regret_exact_17)\n",
        "\n",
        "min_simple_regret_approx_17, min_simple_regret_exact_17"
      ]
    },
    {
      "cell_type": "code",
      "execution_count": null,
      "metadata": {
        "id": "Cz9ZYMBMQxfz",
        "colab": {
          "base_uri": "https://localhost:8080/"
        },
        "outputId": "01979fdd-2cff-43d1-b70a-0bee45e5467d"
      },
      "outputs": [
        {
          "output_type": "execute_result",
          "data": {
            "text/plain": [
              "(2.616553670007083, 2.3939900915973276)"
            ]
          },
          "metadata": {},
          "execution_count": 72
        }
      ],
      "source": [
        "### Simple regret minimization: run number = 18\n",
        "\n",
        "approx_output_18 = np.append(np.min(-approx_18.GP.y[0:n_init]),-approx_18.GP.y[n_init:(n_init+iters)]) \n",
        "exact_output_18 = np.append(np.min(-exact_18.GP.y[0:n_init]),-exact_18.GP.y[n_init:(n_init+iters)]) \n",
        "\n",
        "regret_approx_18 = np.log(approx_output_18 - y_global_orig)\n",
        "regret_exact_18 = np.log(exact_output_18 - y_global_orig)\n",
        "\n",
        "simple_regret_approx_18 = min_max_array(regret_approx_18)\n",
        "simple_regret_exact_18 = min_max_array(regret_exact_18)\n",
        "\n",
        "min_simple_regret_approx_18 = min(simple_regret_approx_18)\n",
        "min_simple_regret_exact_18 = min(simple_regret_exact_18)\n",
        "\n",
        "min_simple_regret_approx_18, min_simple_regret_exact_18"
      ]
    },
    {
      "cell_type": "code",
      "execution_count": null,
      "metadata": {
        "id": "OBfpWOHNQxf0",
        "colab": {
          "base_uri": "https://localhost:8080/"
        },
        "outputId": "3ed9e567-7cf4-4a56-8401-e7d62d40a8fd"
      },
      "outputs": [
        {
          "output_type": "execute_result",
          "data": {
            "text/plain": [
              "(2.607747793066605, 2.0636250792842477)"
            ]
          },
          "metadata": {},
          "execution_count": 73
        }
      ],
      "source": [
        "### Simple regret minimization: run number = 19\n",
        "\n",
        "approx_output_19 = np.append(np.min(-approx_19.GP.y[0:n_init]),-approx_19.GP.y[n_init:(n_init+iters)]) \n",
        "exact_output_19 = np.append(np.min(-exact_19.GP.y[0:n_init]),-exact_19.GP.y[n_init:(n_init+iters)]) \n",
        "\n",
        "regret_approx_19 = np.log(approx_output_19 - y_global_orig)\n",
        "regret_exact_19 = np.log(exact_output_19 - y_global_orig)\n",
        "\n",
        "simple_regret_approx_19 = min_max_array(regret_approx_19)\n",
        "simple_regret_exact_19 = min_max_array(regret_exact_19)\n",
        "\n",
        "min_simple_regret_approx_19 = min(simple_regret_approx_19)\n",
        "min_simple_regret_exact_19 = min(simple_regret_exact_19)\n",
        "\n",
        "min_simple_regret_approx_19, min_simple_regret_exact_19"
      ]
    },
    {
      "cell_type": "code",
      "execution_count": null,
      "metadata": {
        "id": "BE1AJ7NsQxf0",
        "colab": {
          "base_uri": "https://localhost:8080/"
        },
        "outputId": "ce42df3c-ee2e-4799-9e7e-668f69d9dd1b"
      },
      "outputs": [
        {
          "output_type": "execute_result",
          "data": {
            "text/plain": [
              "(2.8558200718561926, 2.311324158993955)"
            ]
          },
          "metadata": {},
          "execution_count": 74
        }
      ],
      "source": [
        "### Simple regret minimization: run number = 20\n",
        "\n",
        "approx_output_20 = np.append(np.min(-approx_20.GP.y[0:n_init]),-approx_20.GP.y[n_init:(n_init+iters)]) \n",
        "exact_output_20 = np.append(np.min(-exact_20.GP.y[0:n_init]),-exact_20.GP.y[n_init:(n_init+iters)]) \n",
        "\n",
        "regret_approx_20 = np.log(approx_output_20 - y_global_orig)\n",
        "regret_exact_20 = np.log(exact_output_20 - y_global_orig)\n",
        "\n",
        "simple_regret_approx_20 = min_max_array(regret_approx_20)\n",
        "simple_regret_exact_20 = min_max_array(regret_exact_20)\n",
        "\n",
        "min_simple_regret_approx_20 = min(simple_regret_approx_20)\n",
        "min_simple_regret_exact_20 = min(simple_regret_exact_20)\n",
        "\n",
        "min_simple_regret_approx_20, min_simple_regret_exact_20"
      ]
    },
    {
      "cell_type": "code",
      "execution_count": null,
      "metadata": {
        "id": "bpX-bKAHQxf1"
      },
      "outputs": [],
      "source": [
        "# Iteration1 :\n",
        "\n",
        "slice1 = 0\n",
        "\n",
        "approx1 = [simple_regret_approx_1[slice1],\n",
        "       simple_regret_approx_2[slice1],\n",
        "       simple_regret_approx_3[slice1],\n",
        "       simple_regret_approx_4[slice1],\n",
        "       simple_regret_approx_5[slice1],\n",
        "       simple_regret_approx_6[slice1],\n",
        "       simple_regret_approx_7[slice1],\n",
        "       simple_regret_approx_8[slice1],\n",
        "       simple_regret_approx_9[slice1],\n",
        "       simple_regret_approx_10[slice1],\n",
        "       simple_regret_approx_11[slice1],\n",
        "       simple_regret_approx_12[slice1],\n",
        "       simple_regret_approx_13[slice1],\n",
        "       simple_regret_approx_14[slice1],\n",
        "       simple_regret_approx_15[slice1],\n",
        "       simple_regret_approx_16[slice1],\n",
        "       simple_regret_approx_17[slice1],\n",
        "       simple_regret_approx_18[slice1],\n",
        "       simple_regret_approx_19[slice1],\n",
        "       simple_regret_approx_20[slice1]]\n",
        "\n",
        "exact1 = [simple_regret_exact_1[slice1],\n",
        "       simple_regret_exact_2[slice1],\n",
        "       simple_regret_exact_3[slice1],\n",
        "       simple_regret_exact_4[slice1],\n",
        "       simple_regret_exact_5[slice1],\n",
        "       simple_regret_exact_6[slice1],\n",
        "       simple_regret_exact_7[slice1],\n",
        "       simple_regret_exact_8[slice1],\n",
        "       simple_regret_exact_9[slice1],\n",
        "       simple_regret_exact_10[slice1],\n",
        "       simple_regret_exact_11[slice1],\n",
        "       simple_regret_exact_12[slice1],\n",
        "       simple_regret_exact_13[slice1],\n",
        "       simple_regret_exact_14[slice1],\n",
        "       simple_regret_exact_15[slice1],\n",
        "       simple_regret_exact_16[slice1],\n",
        "       simple_regret_exact_17[slice1],\n",
        "       simple_regret_exact_18[slice1],\n",
        "       simple_regret_exact_19[slice1],\n",
        "       simple_regret_exact_20[slice1]]\n",
        "\n",
        "approx1_results = pd.DataFrame(approx1).sort_values(by=[0], ascending=False)\n",
        "exact1_results = pd.DataFrame(exact1).sort_values(by=[0], ascending=False)\n",
        "\n",
        "### Best simple regret minimization IQR - approx:\n",
        "lower_approx1 = np.asarray(approx1_results[4:5][0])[0]\n",
        "median_approx1 = np.asarray(approx1_results[9:10][0])[0]\n",
        "upper_approx1 = np.asarray(approx1_results[14:15][0])[0]\n",
        "\n",
        "lower_exact1 = np.asarray(exact1_results[4:5][0])[0]\n",
        "median_exact1 = np.asarray(exact1_results[9:10][0])[0]\n",
        "upper_exact1 = np.asarray(exact1_results[14:15][0])[0]"
      ]
    },
    {
      "cell_type": "code",
      "execution_count": null,
      "metadata": {
        "id": "CgIkJA1xQxf2"
      },
      "outputs": [],
      "source": [
        "# Iteration11 :\n",
        "\n",
        "slice11 = 10\n",
        "\n",
        "approx11 = [simple_regret_approx_1[slice11],\n",
        "       simple_regret_approx_2[slice11],\n",
        "       simple_regret_approx_3[slice11],\n",
        "       simple_regret_approx_4[slice11],\n",
        "       simple_regret_approx_5[slice11],\n",
        "       simple_regret_approx_6[slice11],\n",
        "       simple_regret_approx_7[slice11],\n",
        "       simple_regret_approx_8[slice11],\n",
        "       simple_regret_approx_9[slice11],\n",
        "       simple_regret_approx_10[slice11],\n",
        "       simple_regret_approx_11[slice11],\n",
        "       simple_regret_approx_12[slice11],\n",
        "       simple_regret_approx_13[slice11],\n",
        "       simple_regret_approx_14[slice11],\n",
        "       simple_regret_approx_15[slice11],\n",
        "       simple_regret_approx_16[slice11],\n",
        "       simple_regret_approx_17[slice11],\n",
        "       simple_regret_approx_18[slice11],\n",
        "       simple_regret_approx_19[slice11],\n",
        "       simple_regret_approx_20[slice11]]\n",
        "\n",
        "exact11 = [simple_regret_exact_1[slice11],\n",
        "       simple_regret_exact_2[slice11],\n",
        "       simple_regret_exact_3[slice11],\n",
        "       simple_regret_exact_4[slice11],\n",
        "       simple_regret_exact_5[slice11],\n",
        "       simple_regret_exact_6[slice11],\n",
        "       simple_regret_exact_7[slice11],\n",
        "       simple_regret_exact_8[slice11],\n",
        "       simple_regret_exact_9[slice11],\n",
        "       simple_regret_exact_10[slice11],\n",
        "       simple_regret_exact_11[slice11],\n",
        "       simple_regret_exact_12[slice11],\n",
        "       simple_regret_exact_13[slice11],\n",
        "       simple_regret_exact_14[slice11],\n",
        "       simple_regret_exact_15[slice11],\n",
        "       simple_regret_exact_16[slice11],\n",
        "       simple_regret_exact_17[slice11],\n",
        "       simple_regret_exact_18[slice11],\n",
        "       simple_regret_exact_19[slice11],\n",
        "       simple_regret_exact_20[slice11]]\n",
        "\n",
        "approx11_results = pd.DataFrame(approx11).sort_values(by=[0], ascending=False)\n",
        "exact11_results = pd.DataFrame(exact11).sort_values(by=[0], ascending=False)\n",
        "\n",
        "### Best simple regret minimization IQR - approx:\n",
        "lower_approx11 = np.asarray(approx11_results[4:5][0])[0]\n",
        "median_approx11 = np.asarray(approx11_results[9:10][0])[0]\n",
        "upper_approx11 = np.asarray(approx11_results[14:15][0])[0]\n",
        "\n",
        "lower_exact11 = np.asarray(exact11_results[4:5][0])[0]\n",
        "median_exact11 = np.asarray(exact11_results[9:10][0])[0]\n",
        "upper_exact11 = np.asarray(exact11_results[14:15][0])[0]"
      ]
    },
    {
      "cell_type": "code",
      "execution_count": null,
      "metadata": {
        "id": "MFePDfGuQxf2"
      },
      "outputs": [],
      "source": [
        "# Iteration21 :\n",
        "\n",
        "slice21 = 20\n",
        "\n",
        "approx21 = [simple_regret_approx_1[slice21],\n",
        "       simple_regret_approx_2[slice21],\n",
        "       simple_regret_approx_3[slice21],\n",
        "       simple_regret_approx_4[slice21],\n",
        "       simple_regret_approx_5[slice21],\n",
        "       simple_regret_approx_6[slice21],\n",
        "       simple_regret_approx_7[slice21],\n",
        "       simple_regret_approx_8[slice21],\n",
        "       simple_regret_approx_9[slice21],\n",
        "       simple_regret_approx_10[slice21],\n",
        "       simple_regret_approx_11[slice21],\n",
        "       simple_regret_approx_12[slice21],\n",
        "       simple_regret_approx_13[slice21],\n",
        "       simple_regret_approx_14[slice21],\n",
        "       simple_regret_approx_15[slice21],\n",
        "       simple_regret_approx_16[slice21],\n",
        "       simple_regret_approx_17[slice21],\n",
        "       simple_regret_approx_18[slice21],\n",
        "       simple_regret_approx_19[slice21],\n",
        "       simple_regret_approx_20[slice21]]\n",
        "\n",
        "exact21 = [simple_regret_exact_1[slice21],\n",
        "       simple_regret_exact_2[slice21],\n",
        "       simple_regret_exact_3[slice21],\n",
        "       simple_regret_exact_4[slice21],\n",
        "       simple_regret_exact_5[slice21],\n",
        "       simple_regret_exact_6[slice21],\n",
        "       simple_regret_exact_7[slice21],\n",
        "       simple_regret_exact_8[slice21],\n",
        "       simple_regret_exact_9[slice21],\n",
        "       simple_regret_exact_10[slice21],\n",
        "       simple_regret_exact_11[slice21],\n",
        "       simple_regret_exact_12[slice21],\n",
        "       simple_regret_exact_13[slice21],\n",
        "       simple_regret_exact_14[slice21],\n",
        "       simple_regret_exact_15[slice21],\n",
        "       simple_regret_exact_16[slice21],\n",
        "       simple_regret_exact_17[slice21],\n",
        "       simple_regret_exact_18[slice21],\n",
        "       simple_regret_exact_19[slice21],\n",
        "       simple_regret_exact_20[slice21]]\n",
        "\n",
        "approx21_results = pd.DataFrame(approx21).sort_values(by=[0], ascending=False)\n",
        "exact21_results = pd.DataFrame(exact21).sort_values(by=[0], ascending=False)\n",
        "\n",
        "### Best simple regret minimization IQR - approx:\n",
        "lower_approx21 = np.asarray(approx21_results[4:5][0])[0]\n",
        "median_approx21 = np.asarray(approx21_results[9:10][0])[0]\n",
        "upper_approx21 = np.asarray(approx21_results[14:15][0])[0]\n",
        "\n",
        "lower_exact21 = np.asarray(exact21_results[4:5][0])[0]\n",
        "median_exact21 = np.asarray(exact21_results[9:10][0])[0]\n",
        "upper_exact21 = np.asarray(exact21_results[14:15][0])[0]"
      ]
    },
    {
      "cell_type": "code",
      "execution_count": null,
      "metadata": {
        "id": "PrRDB1kfQxf3"
      },
      "outputs": [],
      "source": [
        "# Iteration2 :\n",
        "\n",
        "slice2 = 1\n",
        "\n",
        "approx2 = [simple_regret_approx_1[slice2],\n",
        "       simple_regret_approx_2[slice2],\n",
        "       simple_regret_approx_3[slice2],\n",
        "       simple_regret_approx_4[slice2],\n",
        "       simple_regret_approx_5[slice2],\n",
        "       simple_regret_approx_6[slice2],\n",
        "       simple_regret_approx_7[slice2],\n",
        "       simple_regret_approx_8[slice2],\n",
        "       simple_regret_approx_9[slice2],\n",
        "       simple_regret_approx_10[slice2],\n",
        "       simple_regret_approx_11[slice2],\n",
        "       simple_regret_approx_12[slice2],\n",
        "       simple_regret_approx_13[slice2],\n",
        "       simple_regret_approx_14[slice2],\n",
        "       simple_regret_approx_15[slice2],\n",
        "       simple_regret_approx_16[slice2],\n",
        "       simple_regret_approx_17[slice2],\n",
        "       simple_regret_approx_18[slice2],\n",
        "       simple_regret_approx_19[slice2],\n",
        "       simple_regret_approx_20[slice2]]\n",
        "\n",
        "exact2 = [simple_regret_exact_1[slice2],\n",
        "       simple_regret_exact_2[slice2],\n",
        "       simple_regret_exact_3[slice2],\n",
        "       simple_regret_exact_4[slice2],\n",
        "       simple_regret_exact_5[slice2],\n",
        "       simple_regret_exact_6[slice2],\n",
        "       simple_regret_exact_7[slice2],\n",
        "       simple_regret_exact_8[slice2],\n",
        "       simple_regret_exact_9[slice2],\n",
        "       simple_regret_exact_10[slice2],\n",
        "       simple_regret_exact_11[slice2],\n",
        "       simple_regret_exact_12[slice2],\n",
        "       simple_regret_exact_13[slice2],\n",
        "       simple_regret_exact_14[slice2],\n",
        "       simple_regret_exact_15[slice2],\n",
        "       simple_regret_exact_16[slice2],\n",
        "       simple_regret_exact_17[slice2],\n",
        "       simple_regret_exact_18[slice2],\n",
        "       simple_regret_exact_19[slice2],\n",
        "       simple_regret_exact_20[slice2]]\n",
        "\n",
        "approx2_results = pd.DataFrame(approx2).sort_values(by=[0], ascending=False)\n",
        "exact2_results = pd.DataFrame(exact2).sort_values(by=[0], ascending=False)\n",
        "\n",
        "### Best simple regret minimization IQR - approx:\n",
        "lower_approx2 = np.asarray(approx2_results[4:5][0])[0]\n",
        "median_approx2 = np.asarray(approx2_results[9:10][0])[0]\n",
        "upper_approx2 = np.asarray(approx2_results[14:15][0])[0]\n",
        "\n",
        "lower_exact2 = np.asarray(exact2_results[4:5][0])[0]\n",
        "median_exact2 = np.asarray(exact2_results[9:10][0])[0]\n",
        "upper_exact2 = np.asarray(exact2_results[14:15][0])[0]"
      ]
    },
    {
      "cell_type": "code",
      "execution_count": null,
      "metadata": {
        "id": "B8ncJDYeQxf3"
      },
      "outputs": [],
      "source": [
        "# Iteration12 :\n",
        "\n",
        "slice12 = 11\n",
        "\n",
        "approx12 = [simple_regret_approx_1[slice12],\n",
        "       simple_regret_approx_2[slice12],\n",
        "       simple_regret_approx_3[slice12],\n",
        "       simple_regret_approx_4[slice12],\n",
        "       simple_regret_approx_5[slice12],\n",
        "       simple_regret_approx_6[slice12],\n",
        "       simple_regret_approx_7[slice12],\n",
        "       simple_regret_approx_8[slice12],\n",
        "       simple_regret_approx_9[slice12],\n",
        "       simple_regret_approx_10[slice12],\n",
        "       simple_regret_approx_11[slice12],\n",
        "       simple_regret_approx_12[slice12],\n",
        "       simple_regret_approx_13[slice12],\n",
        "       simple_regret_approx_14[slice12],\n",
        "       simple_regret_approx_15[slice12],\n",
        "       simple_regret_approx_16[slice12],\n",
        "       simple_regret_approx_17[slice12],\n",
        "       simple_regret_approx_18[slice12],\n",
        "       simple_regret_approx_19[slice12],\n",
        "       simple_regret_approx_20[slice12]]\n",
        "\n",
        "exact12 = [simple_regret_exact_1[slice12],\n",
        "       simple_regret_exact_2[slice12],\n",
        "       simple_regret_exact_3[slice12],\n",
        "       simple_regret_exact_4[slice12],\n",
        "       simple_regret_exact_5[slice12],\n",
        "       simple_regret_exact_6[slice12],\n",
        "       simple_regret_exact_7[slice12],\n",
        "       simple_regret_exact_8[slice12],\n",
        "       simple_regret_exact_9[slice12],\n",
        "       simple_regret_exact_10[slice12],\n",
        "       simple_regret_exact_11[slice12],\n",
        "       simple_regret_exact_12[slice12],\n",
        "       simple_regret_exact_13[slice12],\n",
        "       simple_regret_exact_14[slice12],\n",
        "       simple_regret_exact_15[slice12],\n",
        "       simple_regret_exact_16[slice12],\n",
        "       simple_regret_exact_17[slice12],\n",
        "       simple_regret_exact_18[slice12],\n",
        "       simple_regret_exact_19[slice12],\n",
        "       simple_regret_exact_20[slice12]]\n",
        "\n",
        "approx12_results = pd.DataFrame(approx12).sort_values(by=[0], ascending=False)\n",
        "exact12_results = pd.DataFrame(exact12).sort_values(by=[0], ascending=False)\n",
        "\n",
        "### Best simple regret minimization IQR - approx:\n",
        "lower_approx12 = np.asarray(approx12_results[4:5][0])[0]\n",
        "median_approx12 = np.asarray(approx12_results[9:10][0])[0]\n",
        "upper_approx12 = np.asarray(approx12_results[14:15][0])[0]\n",
        "\n",
        "lower_exact12 = np.asarray(exact12_results[4:5][0])[0]\n",
        "median_exact12 = np.asarray(exact12_results[9:10][0])[0]\n",
        "upper_exact12 = np.asarray(exact12_results[14:15][0])[0]"
      ]
    },
    {
      "cell_type": "code",
      "execution_count": null,
      "metadata": {
        "id": "Jn4KpGvcQxf4"
      },
      "outputs": [],
      "source": [
        "# Iteration3 :\n",
        "\n",
        "slice3 = 2\n",
        "\n",
        "approx3 = [simple_regret_approx_1[slice3],\n",
        "       simple_regret_approx_2[slice3],\n",
        "       simple_regret_approx_3[slice3],\n",
        "       simple_regret_approx_4[slice3],\n",
        "       simple_regret_approx_5[slice3],\n",
        "       simple_regret_approx_6[slice3],\n",
        "       simple_regret_approx_7[slice3],\n",
        "       simple_regret_approx_8[slice3],\n",
        "       simple_regret_approx_9[slice3],\n",
        "       simple_regret_approx_10[slice3],\n",
        "       simple_regret_approx_11[slice3],\n",
        "       simple_regret_approx_12[slice3],\n",
        "       simple_regret_approx_13[slice3],\n",
        "       simple_regret_approx_14[slice3],\n",
        "       simple_regret_approx_15[slice3],\n",
        "       simple_regret_approx_16[slice3],\n",
        "       simple_regret_approx_17[slice3],\n",
        "       simple_regret_approx_18[slice3],\n",
        "       simple_regret_approx_19[slice3],\n",
        "       simple_regret_approx_20[slice3]]\n",
        "\n",
        "exact3 = [simple_regret_exact_1[slice3],\n",
        "       simple_regret_exact_2[slice3],\n",
        "       simple_regret_exact_3[slice3],\n",
        "       simple_regret_exact_4[slice3],\n",
        "       simple_regret_exact_5[slice3],\n",
        "       simple_regret_exact_6[slice3],\n",
        "       simple_regret_exact_7[slice3],\n",
        "       simple_regret_exact_8[slice3],\n",
        "       simple_regret_exact_9[slice3],\n",
        "       simple_regret_exact_10[slice3],\n",
        "       simple_regret_exact_11[slice3],\n",
        "       simple_regret_exact_12[slice3],\n",
        "       simple_regret_exact_13[slice3],\n",
        "       simple_regret_exact_14[slice3],\n",
        "       simple_regret_exact_15[slice3],\n",
        "       simple_regret_exact_16[slice3],\n",
        "       simple_regret_exact_17[slice3],\n",
        "       simple_regret_exact_18[slice3],\n",
        "       simple_regret_exact_19[slice3],\n",
        "       simple_regret_exact_20[slice3]]\n",
        "\n",
        "approx3_results = pd.DataFrame(approx3).sort_values(by=[0], ascending=False)\n",
        "exact3_results = pd.DataFrame(exact3).sort_values(by=[0], ascending=False)\n",
        "\n",
        "### Best simple regret minimization IQR - approx:\n",
        "lower_approx3 = np.asarray(approx3_results[4:5][0])[0]\n",
        "median_approx3 = np.asarray(approx3_results[9:10][0])[0]\n",
        "upper_approx3 = np.asarray(approx3_results[14:15][0])[0]\n",
        "\n",
        "lower_exact3 = np.asarray(exact3_results[4:5][0])[0]\n",
        "median_exact3 = np.asarray(exact3_results[9:10][0])[0]\n",
        "upper_exact3 = np.asarray(exact3_results[14:15][0])[0]"
      ]
    },
    {
      "cell_type": "code",
      "execution_count": null,
      "metadata": {
        "id": "plf83wxrQxf4"
      },
      "outputs": [],
      "source": [
        "# Iteration13 :\n",
        "\n",
        "slice13 = 12\n",
        "\n",
        "approx13 = [simple_regret_approx_1[slice13],\n",
        "       simple_regret_approx_2[slice13],\n",
        "       simple_regret_approx_3[slice13],\n",
        "       simple_regret_approx_4[slice13],\n",
        "       simple_regret_approx_5[slice13],\n",
        "       simple_regret_approx_6[slice13],\n",
        "       simple_regret_approx_7[slice13],\n",
        "       simple_regret_approx_8[slice13],\n",
        "       simple_regret_approx_9[slice13],\n",
        "       simple_regret_approx_10[slice13],\n",
        "       simple_regret_approx_11[slice13],\n",
        "       simple_regret_approx_12[slice13],\n",
        "       simple_regret_approx_13[slice13],\n",
        "       simple_regret_approx_14[slice13],\n",
        "       simple_regret_approx_15[slice13],\n",
        "       simple_regret_approx_16[slice13],\n",
        "       simple_regret_approx_17[slice13],\n",
        "       simple_regret_approx_18[slice13],\n",
        "       simple_regret_approx_19[slice13],\n",
        "       simple_regret_approx_20[slice13]]\n",
        "\n",
        "exact13 = [simple_regret_exact_1[slice13],\n",
        "       simple_regret_exact_2[slice13],\n",
        "       simple_regret_exact_3[slice13],\n",
        "       simple_regret_exact_4[slice13],\n",
        "       simple_regret_exact_5[slice13],\n",
        "       simple_regret_exact_6[slice13],\n",
        "       simple_regret_exact_7[slice13],\n",
        "       simple_regret_exact_8[slice13],\n",
        "       simple_regret_exact_9[slice13],\n",
        "       simple_regret_exact_10[slice13],\n",
        "       simple_regret_exact_11[slice13],\n",
        "       simple_regret_exact_12[slice13],\n",
        "       simple_regret_exact_13[slice13],\n",
        "       simple_regret_exact_14[slice13],\n",
        "       simple_regret_exact_15[slice13],\n",
        "       simple_regret_exact_16[slice13],\n",
        "       simple_regret_exact_17[slice13],\n",
        "       simple_regret_exact_18[slice13],\n",
        "       simple_regret_exact_19[slice13],\n",
        "       simple_regret_exact_20[slice13]]\n",
        "\n",
        "approx13_results = pd.DataFrame(approx13).sort_values(by=[0], ascending=False)\n",
        "exact13_results = pd.DataFrame(exact13).sort_values(by=[0], ascending=False)\n",
        "\n",
        "### Best simple regret minimization IQR - approx:\n",
        "lower_approx13 = np.asarray(approx13_results[4:5][0])[0]\n",
        "median_approx13 = np.asarray(approx13_results[9:10][0])[0]\n",
        "upper_approx13 = np.asarray(approx13_results[14:15][0])[0]\n",
        "\n",
        "lower_exact13 = np.asarray(exact13_results[4:5][0])[0]\n",
        "median_exact13 = np.asarray(exact13_results[9:10][0])[0]\n",
        "upper_exact13 = np.asarray(exact13_results[14:15][0])[0]"
      ]
    },
    {
      "cell_type": "code",
      "execution_count": null,
      "metadata": {
        "id": "9A7mlVvJQxf5"
      },
      "outputs": [],
      "source": [
        "# Iteration4 :\n",
        "\n",
        "slice4 = 3\n",
        "\n",
        "approx4 = [simple_regret_approx_1[slice4],\n",
        "       simple_regret_approx_2[slice4],\n",
        "       simple_regret_approx_3[slice4],\n",
        "       simple_regret_approx_4[slice4],\n",
        "       simple_regret_approx_5[slice4],\n",
        "       simple_regret_approx_6[slice4],\n",
        "       simple_regret_approx_7[slice4],\n",
        "       simple_regret_approx_8[slice4],\n",
        "       simple_regret_approx_9[slice4],\n",
        "       simple_regret_approx_10[slice4],\n",
        "       simple_regret_approx_11[slice4],\n",
        "       simple_regret_approx_12[slice4],\n",
        "       simple_regret_approx_13[slice4],\n",
        "       simple_regret_approx_14[slice4],\n",
        "       simple_regret_approx_15[slice4],\n",
        "       simple_regret_approx_16[slice4],\n",
        "       simple_regret_approx_17[slice4],\n",
        "       simple_regret_approx_18[slice4],\n",
        "       simple_regret_approx_19[slice4],\n",
        "       simple_regret_approx_20[slice4]]\n",
        "\n",
        "exact4 = [simple_regret_exact_1[slice4],\n",
        "       simple_regret_exact_2[slice4],\n",
        "       simple_regret_exact_3[slice4],\n",
        "       simple_regret_exact_4[slice4],\n",
        "       simple_regret_exact_5[slice4],\n",
        "       simple_regret_exact_6[slice4],\n",
        "       simple_regret_exact_7[slice4],\n",
        "       simple_regret_exact_8[slice4],\n",
        "       simple_regret_exact_9[slice4],\n",
        "       simple_regret_exact_10[slice4],\n",
        "       simple_regret_exact_11[slice4],\n",
        "       simple_regret_exact_12[slice4],\n",
        "       simple_regret_exact_13[slice4],\n",
        "       simple_regret_exact_14[slice4],\n",
        "       simple_regret_exact_15[slice4],\n",
        "       simple_regret_exact_16[slice4],\n",
        "       simple_regret_exact_17[slice4],\n",
        "       simple_regret_exact_18[slice4],\n",
        "       simple_regret_exact_19[slice4],\n",
        "       simple_regret_exact_20[slice4]]\n",
        "\n",
        "approx4_results = pd.DataFrame(approx4).sort_values(by=[0], ascending=False)\n",
        "exact4_results = pd.DataFrame(exact4).sort_values(by=[0], ascending=False)\n",
        "\n",
        "### Best simple regret minimization IQR - approx:\n",
        "lower_approx4 = np.asarray(approx4_results[4:5][0])[0]\n",
        "median_approx4 = np.asarray(approx4_results[9:10][0])[0]\n",
        "upper_approx4 = np.asarray(approx4_results[14:15][0])[0]\n",
        "\n",
        "lower_exact4 = np.asarray(exact4_results[4:5][0])[0]\n",
        "median_exact4 = np.asarray(exact4_results[9:10][0])[0]\n",
        "upper_exact4 = np.asarray(exact4_results[14:15][0])[0]"
      ]
    },
    {
      "cell_type": "code",
      "execution_count": null,
      "metadata": {
        "id": "ijq-rioYQxf5"
      },
      "outputs": [],
      "source": [
        "# Iteration14 :\n",
        "\n",
        "slice14 = 13\n",
        "\n",
        "approx14 = [simple_regret_approx_1[slice14],\n",
        "       simple_regret_approx_2[slice14],\n",
        "       simple_regret_approx_3[slice14],\n",
        "       simple_regret_approx_4[slice14],\n",
        "       simple_regret_approx_5[slice14],\n",
        "       simple_regret_approx_6[slice14],\n",
        "       simple_regret_approx_7[slice14],\n",
        "       simple_regret_approx_8[slice14],\n",
        "       simple_regret_approx_9[slice14],\n",
        "       simple_regret_approx_10[slice14],\n",
        "       simple_regret_approx_11[slice14],\n",
        "       simple_regret_approx_12[slice14],\n",
        "       simple_regret_approx_13[slice14],\n",
        "       simple_regret_approx_14[slice14],\n",
        "       simple_regret_approx_15[slice14],\n",
        "       simple_regret_approx_16[slice14],\n",
        "       simple_regret_approx_17[slice14],\n",
        "       simple_regret_approx_18[slice14],\n",
        "       simple_regret_approx_19[slice14],\n",
        "       simple_regret_approx_20[slice14]]\n",
        "\n",
        "exact14 = [simple_regret_exact_1[slice14],\n",
        "       simple_regret_exact_2[slice14],\n",
        "       simple_regret_exact_3[slice14],\n",
        "       simple_regret_exact_4[slice14],\n",
        "       simple_regret_exact_5[slice14],\n",
        "       simple_regret_exact_6[slice14],\n",
        "       simple_regret_exact_7[slice14],\n",
        "       simple_regret_exact_8[slice14],\n",
        "       simple_regret_exact_9[slice14],\n",
        "       simple_regret_exact_10[slice14],\n",
        "       simple_regret_exact_11[slice14],\n",
        "       simple_regret_exact_12[slice14],\n",
        "       simple_regret_exact_13[slice14],\n",
        "       simple_regret_exact_14[slice14],\n",
        "       simple_regret_exact_15[slice14],\n",
        "       simple_regret_exact_16[slice14],\n",
        "       simple_regret_exact_17[slice14],\n",
        "       simple_regret_exact_18[slice14],\n",
        "       simple_regret_exact_19[slice14],\n",
        "       simple_regret_exact_20[slice14]]\n",
        "\n",
        "approx14_results = pd.DataFrame(approx14).sort_values(by=[0], ascending=False)\n",
        "exact14_results = pd.DataFrame(exact14).sort_values(by=[0], ascending=False)\n",
        "\n",
        "### Best simple regret minimization IQR - approx:\n",
        "lower_approx14 = np.asarray(approx14_results[4:5][0])[0]\n",
        "median_approx14 = np.asarray(approx14_results[9:10][0])[0]\n",
        "upper_approx14 = np.asarray(approx14_results[14:15][0])[0]\n",
        "\n",
        "lower_exact14 = np.asarray(exact14_results[4:5][0])[0]\n",
        "median_exact14 = np.asarray(exact14_results[9:10][0])[0]\n",
        "upper_exact14 = np.asarray(exact14_results[14:15][0])[0]"
      ]
    },
    {
      "cell_type": "code",
      "execution_count": null,
      "metadata": {
        "id": "XINlZjoTd-ZK"
      },
      "outputs": [],
      "source": [
        "# Iteration5 :\n",
        "\n",
        "slice5 = 4\n",
        "\n",
        "approx5 = [simple_regret_approx_1[slice5],\n",
        "       simple_regret_approx_2[slice5],\n",
        "       simple_regret_approx_3[slice5],\n",
        "       simple_regret_approx_4[slice5],\n",
        "       simple_regret_approx_5[slice5],\n",
        "       simple_regret_approx_6[slice5],\n",
        "       simple_regret_approx_7[slice5],\n",
        "       simple_regret_approx_8[slice5],\n",
        "       simple_regret_approx_9[slice5],\n",
        "       simple_regret_approx_10[slice5],\n",
        "       simple_regret_approx_11[slice5],\n",
        "       simple_regret_approx_12[slice5],\n",
        "       simple_regret_approx_13[slice5],\n",
        "       simple_regret_approx_14[slice5],\n",
        "       simple_regret_approx_15[slice5],\n",
        "       simple_regret_approx_16[slice5],\n",
        "       simple_regret_approx_17[slice5],\n",
        "       simple_regret_approx_18[slice5],\n",
        "       simple_regret_approx_19[slice5],\n",
        "       simple_regret_approx_20[slice5]]\n",
        "\n",
        "exact5 = [simple_regret_exact_1[slice5],\n",
        "       simple_regret_exact_2[slice5],\n",
        "       simple_regret_exact_3[slice5],\n",
        "       simple_regret_exact_4[slice5],\n",
        "       simple_regret_exact_5[slice5],\n",
        "       simple_regret_exact_6[slice5],\n",
        "       simple_regret_exact_7[slice5],\n",
        "       simple_regret_exact_8[slice5],\n",
        "       simple_regret_exact_9[slice5],\n",
        "       simple_regret_exact_10[slice5],\n",
        "       simple_regret_exact_11[slice5],\n",
        "       simple_regret_exact_12[slice5],\n",
        "       simple_regret_exact_13[slice5],\n",
        "       simple_regret_exact_14[slice5],\n",
        "       simple_regret_exact_15[slice5],\n",
        "       simple_regret_exact_16[slice5],\n",
        "       simple_regret_exact_17[slice5],\n",
        "       simple_regret_exact_18[slice5],\n",
        "       simple_regret_exact_19[slice5],\n",
        "       simple_regret_exact_20[slice5]]\n",
        "\n",
        "approx5_results = pd.DataFrame(approx5).sort_values(by=[0], ascending=False)\n",
        "exact5_results = pd.DataFrame(exact5).sort_values(by=[0], ascending=False)\n",
        "\n",
        "### Best simple regret minimization IQR - approx:\n",
        "lower_approx5 = np.asarray(approx5_results[4:5][0])[0]\n",
        "median_approx5 = np.asarray(approx5_results[9:10][0])[0]\n",
        "upper_approx5 = np.asarray(approx5_results[14:15][0])[0]\n",
        "\n",
        "lower_exact5 = np.asarray(exact5_results[4:5][0])[0]\n",
        "median_exact5 = np.asarray(exact5_results[9:10][0])[0]\n",
        "upper_exact5 = np.asarray(exact5_results[14:15][0])[0]"
      ]
    },
    {
      "cell_type": "code",
      "execution_count": null,
      "metadata": {
        "id": "4aZ7C8sOQxf6"
      },
      "outputs": [],
      "source": [
        "# Iteration15 :\n",
        "\n",
        "slice15 = 14\n",
        "\n",
        "approx15 = [simple_regret_approx_1[slice15],\n",
        "       simple_regret_approx_2[slice15],\n",
        "       simple_regret_approx_3[slice15],\n",
        "       simple_regret_approx_4[slice15],\n",
        "       simple_regret_approx_5[slice15],\n",
        "       simple_regret_approx_6[slice15],\n",
        "       simple_regret_approx_7[slice15],\n",
        "       simple_regret_approx_8[slice15],\n",
        "       simple_regret_approx_9[slice15],\n",
        "       simple_regret_approx_10[slice15],\n",
        "       simple_regret_approx_11[slice15],\n",
        "       simple_regret_approx_12[slice15],\n",
        "       simple_regret_approx_13[slice15],\n",
        "       simple_regret_approx_14[slice15],\n",
        "       simple_regret_approx_15[slice15],\n",
        "       simple_regret_approx_16[slice15],\n",
        "       simple_regret_approx_17[slice15],\n",
        "       simple_regret_approx_18[slice15],\n",
        "       simple_regret_approx_19[slice15],\n",
        "       simple_regret_approx_20[slice15]]\n",
        "\n",
        "exact15 = [simple_regret_exact_1[slice15],\n",
        "       simple_regret_exact_2[slice15],\n",
        "       simple_regret_exact_3[slice15],\n",
        "       simple_regret_exact_4[slice15],\n",
        "       simple_regret_exact_5[slice15],\n",
        "       simple_regret_exact_6[slice15],\n",
        "       simple_regret_exact_7[slice15],\n",
        "       simple_regret_exact_8[slice15],\n",
        "       simple_regret_exact_9[slice15],\n",
        "       simple_regret_exact_10[slice15],\n",
        "       simple_regret_exact_11[slice15],\n",
        "       simple_regret_exact_12[slice15],\n",
        "       simple_regret_exact_13[slice15],\n",
        "       simple_regret_exact_14[slice15],\n",
        "       simple_regret_exact_15[slice15],\n",
        "       simple_regret_exact_16[slice15],\n",
        "       simple_regret_exact_17[slice15],\n",
        "       simple_regret_exact_18[slice15],\n",
        "       simple_regret_exact_19[slice15],\n",
        "       simple_regret_exact_20[slice15]]\n",
        "\n",
        "approx15_results = pd.DataFrame(approx15).sort_values(by=[0], ascending=False)\n",
        "exact15_results = pd.DataFrame(exact15).sort_values(by=[0], ascending=False)\n",
        "\n",
        "### Best simple regret minimization IQR - approx:\n",
        "lower_approx15 = np.asarray(approx15_results[4:5][0])[0]\n",
        "median_approx15 = np.asarray(approx15_results[9:10][0])[0]\n",
        "upper_approx15 = np.asarray(approx15_results[14:15][0])[0]\n",
        "\n",
        "lower_exact15 = np.asarray(exact15_results[4:5][0])[0]\n",
        "median_exact15 = np.asarray(exact15_results[9:10][0])[0]\n",
        "upper_exact15 = np.asarray(exact15_results[14:15][0])[0]"
      ]
    },
    {
      "cell_type": "code",
      "execution_count": null,
      "metadata": {
        "id": "KJINKhv1Qxf6"
      },
      "outputs": [],
      "source": [
        "# Iteration6 :\n",
        "\n",
        "slice6 = 5\n",
        "\n",
        "approx6 = [simple_regret_approx_1[slice6],\n",
        "       simple_regret_approx_2[slice6],\n",
        "       simple_regret_approx_3[slice6],\n",
        "       simple_regret_approx_4[slice6],\n",
        "       simple_regret_approx_5[slice6],\n",
        "       simple_regret_approx_6[slice6],\n",
        "       simple_regret_approx_7[slice6],\n",
        "       simple_regret_approx_8[slice6],\n",
        "       simple_regret_approx_9[slice6],\n",
        "       simple_regret_approx_10[slice6],\n",
        "       simple_regret_approx_11[slice6],\n",
        "       simple_regret_approx_12[slice6],\n",
        "       simple_regret_approx_13[slice6],\n",
        "       simple_regret_approx_14[slice6],\n",
        "       simple_regret_approx_15[slice6],\n",
        "       simple_regret_approx_16[slice6],\n",
        "       simple_regret_approx_17[slice6],\n",
        "       simple_regret_approx_18[slice6],\n",
        "       simple_regret_approx_19[slice6],\n",
        "       simple_regret_approx_20[slice6]]\n",
        "\n",
        "exact6 = [simple_regret_exact_1[slice6],\n",
        "       simple_regret_exact_2[slice6],\n",
        "       simple_regret_exact_3[slice6],\n",
        "       simple_regret_exact_4[slice6],\n",
        "       simple_regret_exact_5[slice6],\n",
        "       simple_regret_exact_6[slice6],\n",
        "       simple_regret_exact_7[slice6],\n",
        "       simple_regret_exact_8[slice6],\n",
        "       simple_regret_exact_9[slice6],\n",
        "       simple_regret_exact_10[slice6],\n",
        "       simple_regret_exact_11[slice6],\n",
        "       simple_regret_exact_12[slice6],\n",
        "       simple_regret_exact_13[slice6],\n",
        "       simple_regret_exact_14[slice6],\n",
        "       simple_regret_exact_15[slice6],\n",
        "       simple_regret_exact_16[slice6],\n",
        "       simple_regret_exact_17[slice6],\n",
        "       simple_regret_exact_18[slice6],\n",
        "       simple_regret_exact_19[slice6],\n",
        "       simple_regret_exact_20[slice6]]\n",
        "\n",
        "approx6_results = pd.DataFrame(approx6).sort_values(by=[0], ascending=False)\n",
        "exact6_results = pd.DataFrame(exact6).sort_values(by=[0], ascending=False)\n",
        "\n",
        "### Best simple regret minimization IQR - approx:\n",
        "lower_approx6 = np.asarray(approx6_results[4:5][0])[0]\n",
        "median_approx6 = np.asarray(approx6_results[9:10][0])[0]\n",
        "upper_approx6 = np.asarray(approx6_results[14:15][0])[0]\n",
        "\n",
        "lower_exact6 = np.asarray(exact6_results[4:5][0])[0]\n",
        "median_exact6 = np.asarray(exact6_results[9:10][0])[0]\n",
        "upper_exact6 = np.asarray(exact6_results[14:15][0])[0]"
      ]
    },
    {
      "cell_type": "code",
      "execution_count": null,
      "metadata": {
        "id": "nwC5N1FsQxf7"
      },
      "outputs": [],
      "source": [
        "# Iteration16 :\n",
        "\n",
        "slice16 = 15\n",
        "\n",
        "approx16 = [simple_regret_approx_1[slice16],\n",
        "       simple_regret_approx_2[slice16],\n",
        "       simple_regret_approx_3[slice16],\n",
        "       simple_regret_approx_4[slice16],\n",
        "       simple_regret_approx_5[slice16],\n",
        "       simple_regret_approx_6[slice16],\n",
        "       simple_regret_approx_7[slice16],\n",
        "       simple_regret_approx_8[slice16],\n",
        "       simple_regret_approx_9[slice16],\n",
        "       simple_regret_approx_10[slice16],\n",
        "       simple_regret_approx_11[slice16],\n",
        "       simple_regret_approx_12[slice16],\n",
        "       simple_regret_approx_13[slice16],\n",
        "       simple_regret_approx_14[slice16],\n",
        "       simple_regret_approx_15[slice16],\n",
        "       simple_regret_approx_16[slice16],\n",
        "       simple_regret_approx_17[slice16],\n",
        "       simple_regret_approx_18[slice16],\n",
        "       simple_regret_approx_19[slice16],\n",
        "       simple_regret_approx_20[slice16]]\n",
        "\n",
        "exact16 = [simple_regret_exact_1[slice16],\n",
        "       simple_regret_exact_2[slice16],\n",
        "       simple_regret_exact_3[slice16],\n",
        "       simple_regret_exact_4[slice16],\n",
        "       simple_regret_exact_5[slice16],\n",
        "       simple_regret_exact_6[slice16],\n",
        "       simple_regret_exact_7[slice16],\n",
        "       simple_regret_exact_8[slice16],\n",
        "       simple_regret_exact_9[slice16],\n",
        "       simple_regret_exact_10[slice16],\n",
        "       simple_regret_exact_11[slice16],\n",
        "       simple_regret_exact_12[slice16],\n",
        "       simple_regret_exact_13[slice16],\n",
        "       simple_regret_exact_14[slice16],\n",
        "       simple_regret_exact_15[slice16],\n",
        "       simple_regret_exact_16[slice16],\n",
        "       simple_regret_exact_17[slice16],\n",
        "       simple_regret_exact_18[slice16],\n",
        "       simple_regret_exact_19[slice16],\n",
        "       simple_regret_exact_20[slice16]]\n",
        "\n",
        "approx16_results = pd.DataFrame(approx16).sort_values(by=[0], ascending=False)\n",
        "exact16_results = pd.DataFrame(exact16).sort_values(by=[0], ascending=False)\n",
        "\n",
        "### Best simple regret minimization IQR - approx:\n",
        "lower_approx16 = np.asarray(approx16_results[4:5][0])[0]\n",
        "median_approx16 = np.asarray(approx16_results[9:10][0])[0]\n",
        "upper_approx16 = np.asarray(approx16_results[14:15][0])[0]\n",
        "\n",
        "lower_exact16 = np.asarray(exact16_results[4:5][0])[0]\n",
        "median_exact16 = np.asarray(exact16_results[9:10][0])[0]\n",
        "upper_exact16 = np.asarray(exact16_results[14:15][0])[0]"
      ]
    },
    {
      "cell_type": "code",
      "execution_count": null,
      "metadata": {
        "id": "TrPV0AfnQxf7"
      },
      "outputs": [],
      "source": [
        "# Iteration7 :\n",
        "\n",
        "slice7 = 6\n",
        "\n",
        "approx7 = [simple_regret_approx_1[slice7],\n",
        "       simple_regret_approx_2[slice7],\n",
        "       simple_regret_approx_3[slice7],\n",
        "       simple_regret_approx_4[slice7],\n",
        "       simple_regret_approx_5[slice7],\n",
        "       simple_regret_approx_6[slice7],\n",
        "       simple_regret_approx_7[slice7],\n",
        "       simple_regret_approx_8[slice7],\n",
        "       simple_regret_approx_9[slice7],\n",
        "       simple_regret_approx_10[slice7],\n",
        "       simple_regret_approx_11[slice7],\n",
        "       simple_regret_approx_12[slice7],\n",
        "       simple_regret_approx_13[slice7],\n",
        "       simple_regret_approx_14[slice7],\n",
        "       simple_regret_approx_15[slice7],\n",
        "       simple_regret_approx_16[slice7],\n",
        "       simple_regret_approx_17[slice7],\n",
        "       simple_regret_approx_18[slice7],\n",
        "       simple_regret_approx_19[slice7],\n",
        "       simple_regret_approx_20[slice7]]\n",
        "\n",
        "exact7 = [simple_regret_exact_1[slice7],\n",
        "       simple_regret_exact_2[slice7],\n",
        "       simple_regret_exact_3[slice7],\n",
        "       simple_regret_exact_4[slice7],\n",
        "       simple_regret_exact_5[slice7],\n",
        "       simple_regret_exact_6[slice7],\n",
        "       simple_regret_exact_7[slice7],\n",
        "       simple_regret_exact_8[slice7],\n",
        "       simple_regret_exact_9[slice7],\n",
        "       simple_regret_exact_10[slice7],\n",
        "       simple_regret_exact_11[slice7],\n",
        "       simple_regret_exact_12[slice7],\n",
        "       simple_regret_exact_13[slice7],\n",
        "       simple_regret_exact_14[slice7],\n",
        "       simple_regret_exact_15[slice7],\n",
        "       simple_regret_exact_16[slice7],\n",
        "       simple_regret_exact_17[slice7],\n",
        "       simple_regret_exact_18[slice7],\n",
        "       simple_regret_exact_19[slice7],\n",
        "       simple_regret_exact_20[slice7]]\n",
        "\n",
        "approx7_results = pd.DataFrame(approx7).sort_values(by=[0], ascending=False)\n",
        "exact7_results = pd.DataFrame(exact7).sort_values(by=[0], ascending=False)\n",
        "\n",
        "### Best simple regret minimization IQR - approx:\n",
        "lower_approx7 = np.asarray(approx7_results[4:5][0])[0]\n",
        "median_approx7 = np.asarray(approx7_results[9:10][0])[0]\n",
        "upper_approx7 = np.asarray(approx7_results[14:15][0])[0]\n",
        "\n",
        "lower_exact7 = np.asarray(exact7_results[4:5][0])[0]\n",
        "median_exact7 = np.asarray(exact7_results[9:10][0])[0]\n",
        "upper_exact7 = np.asarray(exact7_results[14:15][0])[0]"
      ]
    },
    {
      "cell_type": "code",
      "execution_count": null,
      "metadata": {
        "id": "Ub_-wpK4Qxf8"
      },
      "outputs": [],
      "source": [
        "# Iteration17 :\n",
        "\n",
        "slice17 = 16\n",
        "\n",
        "approx17 = [simple_regret_approx_1[slice17],\n",
        "       simple_regret_approx_2[slice17],\n",
        "       simple_regret_approx_3[slice17],\n",
        "       simple_regret_approx_4[slice17],\n",
        "       simple_regret_approx_5[slice17],\n",
        "       simple_regret_approx_6[slice17],\n",
        "       simple_regret_approx_7[slice17],\n",
        "       simple_regret_approx_8[slice17],\n",
        "       simple_regret_approx_9[slice17],\n",
        "       simple_regret_approx_10[slice17],\n",
        "       simple_regret_approx_11[slice17],\n",
        "       simple_regret_approx_12[slice17],\n",
        "       simple_regret_approx_13[slice17],\n",
        "       simple_regret_approx_14[slice17],\n",
        "       simple_regret_approx_15[slice17],\n",
        "       simple_regret_approx_16[slice17],\n",
        "       simple_regret_approx_17[slice17],\n",
        "       simple_regret_approx_18[slice17],\n",
        "       simple_regret_approx_19[slice17],\n",
        "       simple_regret_approx_20[slice17]]\n",
        "\n",
        "exact17 = [simple_regret_exact_1[slice17],\n",
        "       simple_regret_exact_2[slice17],\n",
        "       simple_regret_exact_3[slice17],\n",
        "       simple_regret_exact_4[slice17],\n",
        "       simple_regret_exact_5[slice17],\n",
        "       simple_regret_exact_6[slice17],\n",
        "       simple_regret_exact_7[slice17],\n",
        "       simple_regret_exact_8[slice17],\n",
        "       simple_regret_exact_9[slice17],\n",
        "       simple_regret_exact_10[slice17],\n",
        "       simple_regret_exact_11[slice17],\n",
        "       simple_regret_exact_12[slice17],\n",
        "       simple_regret_exact_13[slice17],\n",
        "       simple_regret_exact_14[slice17],\n",
        "       simple_regret_exact_15[slice17],\n",
        "       simple_regret_exact_16[slice17],\n",
        "       simple_regret_exact_17[slice17],\n",
        "       simple_regret_exact_18[slice17],\n",
        "       simple_regret_exact_19[slice17],\n",
        "       simple_regret_exact_20[slice17]]\n",
        "\n",
        "approx17_results = pd.DataFrame(approx17).sort_values(by=[0], ascending=False)\n",
        "exact17_results = pd.DataFrame(exact17).sort_values(by=[0], ascending=False)\n",
        "\n",
        "### Best simple regret minimization IQR - approx:\n",
        "lower_approx17 = np.asarray(approx17_results[4:5][0])[0]\n",
        "median_approx17 = np.asarray(approx17_results[9:10][0])[0]\n",
        "upper_approx17 = np.asarray(approx17_results[14:15][0])[0]\n",
        "\n",
        "lower_exact17 = np.asarray(exact17_results[4:5][0])[0]\n",
        "median_exact17 = np.asarray(exact17_results[9:10][0])[0]\n",
        "upper_exact17 = np.asarray(exact17_results[14:15][0])[0]"
      ]
    },
    {
      "cell_type": "code",
      "execution_count": null,
      "metadata": {
        "id": "-6VLo37PQxf8"
      },
      "outputs": [],
      "source": [
        "# Iteration8 :\n",
        "\n",
        "slice8 = 7\n",
        "\n",
        "approx8 = [simple_regret_approx_1[slice8],\n",
        "       simple_regret_approx_2[slice8],\n",
        "       simple_regret_approx_3[slice8],\n",
        "       simple_regret_approx_4[slice8],\n",
        "       simple_regret_approx_5[slice8],\n",
        "       simple_regret_approx_6[slice8],\n",
        "       simple_regret_approx_7[slice8],\n",
        "       simple_regret_approx_8[slice8],\n",
        "       simple_regret_approx_9[slice8],\n",
        "       simple_regret_approx_10[slice8],\n",
        "       simple_regret_approx_11[slice8],\n",
        "       simple_regret_approx_12[slice8],\n",
        "       simple_regret_approx_13[slice8],\n",
        "       simple_regret_approx_14[slice8],\n",
        "       simple_regret_approx_15[slice8],\n",
        "       simple_regret_approx_16[slice8],\n",
        "       simple_regret_approx_17[slice8],\n",
        "       simple_regret_approx_18[slice8],\n",
        "       simple_regret_approx_19[slice8],\n",
        "       simple_regret_approx_20[slice8]]\n",
        "\n",
        "exact8 = [simple_regret_exact_1[slice8],\n",
        "       simple_regret_exact_2[slice8],\n",
        "       simple_regret_exact_3[slice8],\n",
        "       simple_regret_exact_4[slice8],\n",
        "       simple_regret_exact_5[slice8],\n",
        "       simple_regret_exact_6[slice8],\n",
        "       simple_regret_exact_7[slice8],\n",
        "       simple_regret_exact_8[slice8],\n",
        "       simple_regret_exact_9[slice8],\n",
        "       simple_regret_exact_10[slice8],\n",
        "       simple_regret_exact_11[slice8],\n",
        "       simple_regret_exact_12[slice8],\n",
        "       simple_regret_exact_13[slice8],\n",
        "       simple_regret_exact_14[slice8],\n",
        "       simple_regret_exact_15[slice8],\n",
        "       simple_regret_exact_16[slice8],\n",
        "       simple_regret_exact_17[slice8],\n",
        "       simple_regret_exact_18[slice8],\n",
        "       simple_regret_exact_19[slice8],\n",
        "       simple_regret_exact_20[slice8]]\n",
        "\n",
        "approx8_results = pd.DataFrame(approx8).sort_values(by=[0], ascending=False)\n",
        "exact8_results = pd.DataFrame(exact8).sort_values(by=[0], ascending=False)\n",
        "\n",
        "### Best simple regret minimization IQR - approx:\n",
        "lower_approx8 = np.asarray(approx8_results[4:5][0])[0]\n",
        "median_approx8 = np.asarray(approx8_results[9:10][0])[0]\n",
        "upper_approx8 = np.asarray(approx8_results[14:15][0])[0]\n",
        "\n",
        "lower_exact8 = np.asarray(exact8_results[4:5][0])[0]\n",
        "median_exact8 = np.asarray(exact8_results[9:10][0])[0]\n",
        "upper_exact8 = np.asarray(exact8_results[14:15][0])[0]"
      ]
    },
    {
      "cell_type": "code",
      "execution_count": null,
      "metadata": {
        "id": "2Dp-9CC2Qxf9"
      },
      "outputs": [],
      "source": [
        "# Iteration18 :\n",
        "\n",
        "slice18 = 17\n",
        "\n",
        "approx18 = [simple_regret_approx_1[slice18],\n",
        "       simple_regret_approx_2[slice18],\n",
        "       simple_regret_approx_3[slice18],\n",
        "       simple_regret_approx_4[slice18],\n",
        "       simple_regret_approx_5[slice18],\n",
        "       simple_regret_approx_6[slice18],\n",
        "       simple_regret_approx_7[slice18],\n",
        "       simple_regret_approx_8[slice18],\n",
        "       simple_regret_approx_9[slice18],\n",
        "       simple_regret_approx_10[slice18],\n",
        "       simple_regret_approx_11[slice18],\n",
        "       simple_regret_approx_12[slice18],\n",
        "       simple_regret_approx_13[slice18],\n",
        "       simple_regret_approx_14[slice18],\n",
        "       simple_regret_approx_15[slice18],\n",
        "       simple_regret_approx_16[slice18],\n",
        "       simple_regret_approx_17[slice18],\n",
        "       simple_regret_approx_18[slice18],\n",
        "       simple_regret_approx_19[slice18],\n",
        "       simple_regret_approx_20[slice18]]\n",
        "\n",
        "exact18 = [simple_regret_exact_1[slice18],\n",
        "       simple_regret_exact_2[slice18],\n",
        "       simple_regret_exact_3[slice18],\n",
        "       simple_regret_exact_4[slice18],\n",
        "       simple_regret_exact_5[slice18],\n",
        "       simple_regret_exact_6[slice18],\n",
        "       simple_regret_exact_7[slice18],\n",
        "       simple_regret_exact_8[slice18],\n",
        "       simple_regret_exact_9[slice18],\n",
        "       simple_regret_exact_10[slice18],\n",
        "       simple_regret_exact_11[slice18],\n",
        "       simple_regret_exact_12[slice18],\n",
        "       simple_regret_exact_13[slice18],\n",
        "       simple_regret_exact_14[slice18],\n",
        "       simple_regret_exact_15[slice18],\n",
        "       simple_regret_exact_16[slice18],\n",
        "       simple_regret_exact_17[slice18],\n",
        "       simple_regret_exact_18[slice18],\n",
        "       simple_regret_exact_19[slice18],\n",
        "       simple_regret_exact_20[slice18]]\n",
        "\n",
        "approx18_results = pd.DataFrame(approx18).sort_values(by=[0], ascending=False)\n",
        "exact18_results = pd.DataFrame(exact18).sort_values(by=[0], ascending=False)\n",
        "\n",
        "### Best simple regret minimization IQR - approx:\n",
        "lower_approx18 = np.asarray(approx18_results[4:5][0])[0]\n",
        "median_approx18 = np.asarray(approx18_results[9:10][0])[0]\n",
        "upper_approx18 = np.asarray(approx18_results[14:15][0])[0]\n",
        "\n",
        "lower_exact18 = np.asarray(exact18_results[4:5][0])[0]\n",
        "median_exact18 = np.asarray(exact18_results[9:10][0])[0]\n",
        "upper_exact18 = np.asarray(exact18_results[14:15][0])[0]"
      ]
    },
    {
      "cell_type": "code",
      "execution_count": null,
      "metadata": {
        "id": "SqiaOpB7Qxf9"
      },
      "outputs": [],
      "source": [
        "# Iteration9 :\n",
        "\n",
        "slice9 = 8\n",
        "\n",
        "approx9 = [simple_regret_approx_1[slice9],\n",
        "       simple_regret_approx_2[slice9],\n",
        "       simple_regret_approx_3[slice9],\n",
        "       simple_regret_approx_4[slice9],\n",
        "       simple_regret_approx_5[slice9],\n",
        "       simple_regret_approx_6[slice9],\n",
        "       simple_regret_approx_7[slice9],\n",
        "       simple_regret_approx_8[slice9],\n",
        "       simple_regret_approx_9[slice9],\n",
        "       simple_regret_approx_10[slice9],\n",
        "       simple_regret_approx_11[slice9],\n",
        "       simple_regret_approx_12[slice9],\n",
        "       simple_regret_approx_13[slice9],\n",
        "       simple_regret_approx_14[slice9],\n",
        "       simple_regret_approx_15[slice9],\n",
        "       simple_regret_approx_16[slice9],\n",
        "       simple_regret_approx_17[slice9],\n",
        "       simple_regret_approx_18[slice9],\n",
        "       simple_regret_approx_19[slice9],\n",
        "       simple_regret_approx_20[slice9]]\n",
        "\n",
        "exact9 = [simple_regret_exact_1[slice9],\n",
        "       simple_regret_exact_2[slice9],\n",
        "       simple_regret_exact_3[slice9],\n",
        "       simple_regret_exact_4[slice9],\n",
        "       simple_regret_exact_5[slice9],\n",
        "       simple_regret_exact_6[slice9],\n",
        "       simple_regret_exact_7[slice9],\n",
        "       simple_regret_exact_8[slice9],\n",
        "       simple_regret_exact_9[slice9],\n",
        "       simple_regret_exact_10[slice9],\n",
        "       simple_regret_exact_11[slice9],\n",
        "       simple_regret_exact_12[slice9],\n",
        "       simple_regret_exact_13[slice9],\n",
        "       simple_regret_exact_14[slice9],\n",
        "       simple_regret_exact_15[slice9],\n",
        "       simple_regret_exact_16[slice9],\n",
        "       simple_regret_exact_17[slice9],\n",
        "       simple_regret_exact_18[slice9],\n",
        "       simple_regret_exact_19[slice9],\n",
        "       simple_regret_exact_20[slice9]]\n",
        "\n",
        "approx9_results = pd.DataFrame(approx9).sort_values(by=[0], ascending=False)\n",
        "exact9_results = pd.DataFrame(exact9).sort_values(by=[0], ascending=False)\n",
        "\n",
        "### Best simple regret minimization IQR - approx:\n",
        "lower_approx9 = np.asarray(approx9_results[4:5][0])[0]\n",
        "median_approx9 = np.asarray(approx9_results[9:10][0])[0]\n",
        "upper_approx9 = np.asarray(approx9_results[14:15][0])[0]\n",
        "\n",
        "lower_exact9 = np.asarray(exact9_results[4:5][0])[0]\n",
        "median_exact9 = np.asarray(exact9_results[9:10][0])[0]\n",
        "upper_exact9 = np.asarray(exact9_results[14:15][0])[0]"
      ]
    },
    {
      "cell_type": "code",
      "execution_count": null,
      "metadata": {
        "id": "OQkCCOsPQxf9"
      },
      "outputs": [],
      "source": [
        "# Iteration19 :\n",
        "\n",
        "slice19 = 18\n",
        "\n",
        "approx19 = [simple_regret_approx_1[slice19],\n",
        "       simple_regret_approx_2[slice19],\n",
        "       simple_regret_approx_3[slice19],\n",
        "       simple_regret_approx_4[slice19],\n",
        "       simple_regret_approx_5[slice19],\n",
        "       simple_regret_approx_6[slice19],\n",
        "       simple_regret_approx_7[slice19],\n",
        "       simple_regret_approx_8[slice19],\n",
        "       simple_regret_approx_9[slice19],\n",
        "       simple_regret_approx_10[slice19],\n",
        "       simple_regret_approx_11[slice19],\n",
        "       simple_regret_approx_12[slice19],\n",
        "       simple_regret_approx_13[slice19],\n",
        "       simple_regret_approx_14[slice19],\n",
        "       simple_regret_approx_15[slice19],\n",
        "       simple_regret_approx_16[slice19],\n",
        "       simple_regret_approx_17[slice19],\n",
        "       simple_regret_approx_18[slice19],\n",
        "       simple_regret_approx_19[slice19],\n",
        "       simple_regret_approx_20[slice19]]\n",
        "\n",
        "exact19 = [simple_regret_exact_1[slice19],\n",
        "       simple_regret_exact_2[slice19],\n",
        "       simple_regret_exact_3[slice19],\n",
        "       simple_regret_exact_4[slice19],\n",
        "       simple_regret_exact_5[slice19],\n",
        "       simple_regret_exact_6[slice19],\n",
        "       simple_regret_exact_7[slice19],\n",
        "       simple_regret_exact_8[slice19],\n",
        "       simple_regret_exact_9[slice19],\n",
        "       simple_regret_exact_10[slice19],\n",
        "       simple_regret_exact_11[slice19],\n",
        "       simple_regret_exact_12[slice19],\n",
        "       simple_regret_exact_13[slice19],\n",
        "       simple_regret_exact_14[slice19],\n",
        "       simple_regret_exact_15[slice19],\n",
        "       simple_regret_exact_16[slice19],\n",
        "       simple_regret_exact_17[slice19],\n",
        "       simple_regret_exact_18[slice19],\n",
        "       simple_regret_exact_19[slice19],\n",
        "       simple_regret_exact_20[slice19]]\n",
        "\n",
        "approx19_results = pd.DataFrame(approx19).sort_values(by=[0], ascending=False)\n",
        "exact19_results = pd.DataFrame(exact19).sort_values(by=[0], ascending=False)\n",
        "\n",
        "### Best simple regret minimization IQR - approx:\n",
        "lower_approx19 = np.asarray(approx19_results[4:5][0])[0]\n",
        "median_approx19 = np.asarray(approx19_results[9:10][0])[0]\n",
        "upper_approx19 = np.asarray(approx19_results[14:15][0])[0]\n",
        "\n",
        "lower_exact19 = np.asarray(exact19_results[4:5][0])[0]\n",
        "median_exact19 = np.asarray(exact19_results[9:10][0])[0]\n",
        "upper_exact19 = np.asarray(exact19_results[14:15][0])[0]"
      ]
    },
    {
      "cell_type": "code",
      "execution_count": null,
      "metadata": {
        "id": "h4vtWahcQxf-"
      },
      "outputs": [],
      "source": [
        "# Iteration10 :\n",
        "\n",
        "slice10 = 9\n",
        "\n",
        "approx10 = [simple_regret_approx_1[slice10],\n",
        "       simple_regret_approx_2[slice10],\n",
        "       simple_regret_approx_3[slice10],\n",
        "       simple_regret_approx_4[slice10],\n",
        "       simple_regret_approx_5[slice10],\n",
        "       simple_regret_approx_6[slice10],\n",
        "       simple_regret_approx_7[slice10],\n",
        "       simple_regret_approx_8[slice10],\n",
        "       simple_regret_approx_9[slice10],\n",
        "       simple_regret_approx_10[slice10],\n",
        "       simple_regret_approx_11[slice10],\n",
        "       simple_regret_approx_12[slice10],\n",
        "       simple_regret_approx_13[slice10],\n",
        "       simple_regret_approx_14[slice10],\n",
        "       simple_regret_approx_15[slice10],\n",
        "       simple_regret_approx_16[slice10],\n",
        "       simple_regret_approx_17[slice10],\n",
        "       simple_regret_approx_18[slice10],\n",
        "       simple_regret_approx_19[slice10],\n",
        "       simple_regret_approx_20[slice10]]\n",
        "\n",
        "exact10 = [simple_regret_exact_1[slice10],\n",
        "       simple_regret_exact_2[slice10],\n",
        "       simple_regret_exact_3[slice10],\n",
        "       simple_regret_exact_4[slice10],\n",
        "       simple_regret_exact_5[slice10],\n",
        "       simple_regret_exact_6[slice10],\n",
        "       simple_regret_exact_7[slice10],\n",
        "       simple_regret_exact_8[slice10],\n",
        "       simple_regret_exact_9[slice10],\n",
        "       simple_regret_exact_10[slice10],\n",
        "       simple_regret_exact_11[slice10],\n",
        "       simple_regret_exact_12[slice10],\n",
        "       simple_regret_exact_13[slice10],\n",
        "       simple_regret_exact_14[slice10],\n",
        "       simple_regret_exact_15[slice10],\n",
        "       simple_regret_exact_16[slice10],\n",
        "       simple_regret_exact_17[slice10],\n",
        "       simple_regret_exact_18[slice10],\n",
        "       simple_regret_exact_19[slice10],\n",
        "       simple_regret_exact_20[slice10]]\n",
        "\n",
        "approx10_results = pd.DataFrame(approx10).sort_values(by=[0], ascending=False)\n",
        "exact10_results = pd.DataFrame(exact10).sort_values(by=[0], ascending=False)\n",
        "\n",
        "### Best simple regret minimization IQR - approx:\n",
        "lower_approx10 = np.asarray(approx10_results[4:5][0])[0]\n",
        "median_approx10 = np.asarray(approx10_results[9:10][0])[0]\n",
        "upper_approx10 = np.asarray(approx10_results[14:15][0])[0]\n",
        "\n",
        "lower_exact10 = np.asarray(exact10_results[4:5][0])[0]\n",
        "median_exact10 = np.asarray(exact10_results[9:10][0])[0]\n",
        "upper_exact10 = np.asarray(exact10_results[14:15][0])[0]"
      ]
    },
    {
      "cell_type": "code",
      "execution_count": null,
      "metadata": {
        "id": "Rsf240pWQxf-"
      },
      "outputs": [],
      "source": [
        "# Iteration20 :\n",
        "\n",
        "slice20 = 19\n",
        "\n",
        "approx20 = [simple_regret_approx_1[slice20],\n",
        "       simple_regret_approx_2[slice20],\n",
        "       simple_regret_approx_3[slice20],\n",
        "       simple_regret_approx_4[slice20],\n",
        "       simple_regret_approx_5[slice20],\n",
        "       simple_regret_approx_6[slice20],\n",
        "       simple_regret_approx_7[slice20],\n",
        "       simple_regret_approx_8[slice20],\n",
        "       simple_regret_approx_9[slice20],\n",
        "       simple_regret_approx_10[slice20],\n",
        "       simple_regret_approx_11[slice20],\n",
        "       simple_regret_approx_12[slice20],\n",
        "       simple_regret_approx_13[slice20],\n",
        "       simple_regret_approx_14[slice20],\n",
        "       simple_regret_approx_15[slice20],\n",
        "       simple_regret_approx_16[slice20],\n",
        "       simple_regret_approx_17[slice20],\n",
        "       simple_regret_approx_18[slice20],\n",
        "       simple_regret_approx_19[slice20],\n",
        "       simple_regret_approx_20[slice20]]\n",
        "\n",
        "exact20 = [simple_regret_exact_1[slice20],\n",
        "       simple_regret_exact_2[slice20],\n",
        "       simple_regret_exact_3[slice20],\n",
        "       simple_regret_exact_4[slice20],\n",
        "       simple_regret_exact_5[slice20],\n",
        "       simple_regret_exact_6[slice20],\n",
        "       simple_regret_exact_7[slice20],\n",
        "       simple_regret_exact_8[slice20],\n",
        "       simple_regret_exact_9[slice20],\n",
        "       simple_regret_exact_10[slice20],\n",
        "       simple_regret_exact_11[slice20],\n",
        "       simple_regret_exact_12[slice20],\n",
        "       simple_regret_exact_13[slice20],\n",
        "       simple_regret_exact_14[slice20],\n",
        "       simple_regret_exact_15[slice20],\n",
        "       simple_regret_exact_16[slice20],\n",
        "       simple_regret_exact_17[slice20],\n",
        "       simple_regret_exact_18[slice20],\n",
        "       simple_regret_exact_19[slice20],\n",
        "       simple_regret_exact_20[slice20]]\n",
        "\n",
        "approx20_results = pd.DataFrame(approx20).sort_values(by=[0], ascending=False)\n",
        "exact20_results = pd.DataFrame(exact20).sort_values(by=[0], ascending=False)\n",
        "\n",
        "### Best simple regret minimization IQR - approx:\n",
        "lower_approx20 = np.asarray(approx20_results[4:5][0])[0]\n",
        "median_approx20 = np.asarray(approx20_results[9:10][0])[0]\n",
        "upper_approx20 = np.asarray(approx20_results[14:15][0])[0]\n",
        "\n",
        "lower_exact20 = np.asarray(exact20_results[4:5][0])[0]\n",
        "median_exact20 = np.asarray(exact20_results[9:10][0])[0]\n",
        "upper_exact20 = np.asarray(exact20_results[14:15][0])[0]"
      ]
    },
    {
      "cell_type": "code",
      "execution_count": null,
      "metadata": {
        "id": "gn36RejbQxf_"
      },
      "outputs": [],
      "source": [
        "### Summarize arrays: 'Loser'\n",
        "\n",
        "lower_approx = [lower_approx1,\n",
        "            lower_approx2,\n",
        "            lower_approx3,\n",
        "            lower_approx4,\n",
        "            lower_approx5,\n",
        "            lower_approx6,\n",
        "            lower_approx7,\n",
        "            lower_approx8,\n",
        "            lower_approx9,\n",
        "            lower_approx10,\n",
        "            lower_approx11,\n",
        "            lower_approx12,\n",
        "            lower_approx13,\n",
        "            lower_approx14,\n",
        "            lower_approx15,\n",
        "            lower_approx16,\n",
        "            lower_approx17,\n",
        "            lower_approx18,\n",
        "            lower_approx19,\n",
        "            lower_approx20,\n",
        "            lower_approx21]\n",
        "\n",
        "median_approx = [median_approx1,\n",
        "            median_approx2,\n",
        "            median_approx3,\n",
        "            median_approx4,\n",
        "            median_approx5,\n",
        "            median_approx6,\n",
        "            median_approx7,\n",
        "            median_approx8,\n",
        "            median_approx9,\n",
        "            median_approx10,\n",
        "            median_approx11,\n",
        "            median_approx12,\n",
        "            median_approx13,\n",
        "            median_approx14,\n",
        "            median_approx15,\n",
        "            median_approx16,\n",
        "            median_approx17,\n",
        "            median_approx18,\n",
        "            median_approx19,\n",
        "            median_approx20,\n",
        "            median_approx21]\n",
        "\n",
        "upper_approx = [upper_approx1,\n",
        "            upper_approx2,\n",
        "            upper_approx3,\n",
        "            upper_approx4,\n",
        "            upper_approx5,\n",
        "            upper_approx6,\n",
        "            upper_approx7,\n",
        "            upper_approx8,\n",
        "            upper_approx9,\n",
        "            upper_approx10,\n",
        "            upper_approx11,\n",
        "            upper_approx12,\n",
        "            upper_approx13,\n",
        "            upper_approx14,\n",
        "            upper_approx15,\n",
        "            upper_approx16,\n",
        "            upper_approx17,\n",
        "            upper_approx18,\n",
        "            upper_approx19,\n",
        "            upper_approx20,\n",
        "            upper_approx21]"
      ]
    },
    {
      "cell_type": "code",
      "execution_count": null,
      "metadata": {
        "id": "wxtGTOYfQxf_"
      },
      "outputs": [],
      "source": [
        "### Summarize arrays: 'exact'\n",
        "\n",
        "lower_exact = [lower_exact1,\n",
        "            lower_exact2,\n",
        "            lower_exact3,\n",
        "            lower_exact4,\n",
        "            lower_exact5,\n",
        "            lower_exact6,\n",
        "            lower_exact7,\n",
        "            lower_exact8,\n",
        "            lower_exact9,\n",
        "            lower_exact10,\n",
        "            lower_exact11,\n",
        "            lower_exact12,\n",
        "            lower_exact13,\n",
        "            lower_exact14,\n",
        "            lower_exact15,\n",
        "            lower_exact16,\n",
        "            lower_exact17,\n",
        "            lower_exact18,\n",
        "            lower_exact19,\n",
        "            lower_exact20,\n",
        "            lower_exact21]\n",
        "\n",
        "median_exact = [median_exact1,\n",
        "            median_exact2,\n",
        "            median_exact3,\n",
        "            median_exact4,\n",
        "            median_exact5,\n",
        "            median_exact6,\n",
        "            median_exact7,\n",
        "            median_exact8,\n",
        "            median_exact9,\n",
        "            median_exact10,\n",
        "            median_exact11,\n",
        "            median_exact12,\n",
        "            median_exact13,\n",
        "            median_exact14,\n",
        "            median_exact15,\n",
        "            median_exact16,\n",
        "            median_exact17,\n",
        "            median_exact18,\n",
        "            median_exact19,\n",
        "            median_exact20,\n",
        "            median_exact21]\n",
        "\n",
        "upper_exact = [upper_exact1,\n",
        "            upper_exact2,\n",
        "            upper_exact3,\n",
        "            upper_exact4,\n",
        "            upper_exact5,\n",
        "            upper_exact6,\n",
        "            upper_exact7,\n",
        "            upper_exact8,\n",
        "            upper_exact9,\n",
        "            upper_exact10,\n",
        "            upper_exact11,\n",
        "            upper_exact12,\n",
        "            upper_exact13,\n",
        "            upper_exact14,\n",
        "            upper_exact15,\n",
        "            upper_exact16,\n",
        "            upper_exact17,\n",
        "            upper_exact18,\n",
        "            upper_exact19,\n",
        "            upper_exact20,\n",
        "            upper_exact21]"
      ]
    },
    {
      "cell_type": "code",
      "execution_count": null,
      "metadata": {
        "id": "2MONq-BXQxgA",
        "colab": {
          "base_uri": "https://localhost:8080/",
          "height": 299
        },
        "outputId": "b1fc5d76-1f4f-4842-d5c4-430dd6dac77d"
      },
      "outputs": [
        {
          "output_type": "display_data",
          "data": {
            "text/plain": [
              "<Figure size 432x288 with 1 Axes>"
            ],
            "image/png": "[encoded data removed]"
          },
          "metadata": {
            "needs_background": "light"
          }
        }
      ],
      "source": [
        "### Visualise!\n",
        "\n",
        "title = func\n",
        "plt.figure()\n",
        "\n",
        "plt.plot(median_approx, color = 'Purple', ls='--')\n",
        "plt.plot(median_exact, color = 'Orange', ls='--')\n",
        "\n",
        "xstar = np.arange(0, iters+1, step=1)\n",
        "plt.fill_between(xstar, lower_approx, upper_approx, facecolor = 'Purple', alpha=0.4, label='STP CBM Optimisation: Approx STP CBM gradients ' r'($\\nu$' ' = {})'.format(df))\n",
        "plt.fill_between(xstar, lower_exact, upper_exact, facecolor = 'Orange', alpha=0.4, label='STP CBM Optimisation: Exact STP dCBM gradients ' r'($\\nu$' ' = {})'.format(df))\n",
        "\n",
        "plt.title(title, weight = 'bold')\n",
        "plt.xlabel('(Post-initialisation) iteration $\\it{k}$', weight = 'bold')\n",
        "plt.ylabel('log(Regret)', weight = 'bold') \n",
        "plt.legend(loc=0) # add plot legend\n",
        "\n",
        "### Make the x-ticks integers, not floats:\n",
        "count = len(xstar)\n",
        "plt.xticks(np.arange(count), np.arange(0, count))\n",
        "plt.show() #visualize!"
      ]
    },
    {
      "cell_type": "code",
      "execution_count": null,
      "metadata": {
        "id": "l5dkR2Id2oiu",
        "colab": {
          "base_uri": "https://localhost:8080/"
        },
        "outputId": "fe76ef20-637f-4f4a-b441-ecb2b3928d84"
      },
      "outputs": [
        {
          "output_type": "execute_result",
          "data": {
            "text/plain": [
              "(844.2145819664001, 792.2188892364502)"
            ]
          },
          "metadata": {},
          "execution_count": 99
        }
      ],
      "source": [
        "time_approx, time_exact\n"
      ]
    },
    {
      "cell_type": "code",
      "execution_count": null,
      "metadata": {
        "id": "uwxv4dmfGsLr",
        "colab": {
          "base_uri": "https://localhost:8080/"
        },
        "outputId": "226b668f-5340-40c8-b2c2-a420dca02a15"
      },
      "outputs": [
        {
          "output_type": "execute_result",
          "data": {
            "text/plain": [
              "(3.2022769179080557, 3.6754076355338787)"
            ]
          },
          "metadata": {},
          "execution_count": 100
        }
      ],
      "source": [
        "### acqFunc attribute x, stddev: run number = 1\n",
        "\n",
        "acqFuncApprox_exact_1 = acqFuncApprox(exact_1.history)\n",
        "acqFuncExact_exact_1 = acqFuncExact(exact_1.history)\n",
        "\n",
        "e1 = np.mean(acqFuncExact_exact_1)\n",
        "a1 = np.mean(acqFuncApprox_exact_1)\n",
        "\n",
        "e1, a1\n"
      ]
    },
    {
      "cell_type": "code",
      "execution_count": null,
      "metadata": {
        "id": "0YSV00_pGsXe",
        "colab": {
          "base_uri": "https://localhost:8080/"
        },
        "outputId": "d143e213-9e79-4213-c606-489fa82ccc9a"
      },
      "outputs": [
        {
          "output_type": "execute_result",
          "data": {
            "text/plain": [
              "(3.3022929473285685, 3.7687245836736025)"
            ]
          },
          "metadata": {},
          "execution_count": 101
        }
      ],
      "source": [
        "### acqFunc attribute x, stddev: run number = 2\n",
        "\n",
        "acqFuncApprox_exact_2 = acqFuncApprox(exact_2.history)\n",
        "acqFuncExact_exact_2 = acqFuncExact(exact_2.history)\n",
        "\n",
        "e2 = np.mean(acqFuncExact_exact_2)\n",
        "a2 = np.mean(acqFuncApprox_exact_2)\n",
        "\n",
        "e2, a2\n"
      ]
    },
    {
      "cell_type": "code",
      "execution_count": null,
      "metadata": {
        "id": "HHVmsd2UGsjT",
        "colab": {
          "base_uri": "https://localhost:8080/"
        },
        "outputId": "8b60168d-d515-46a7-829f-69f427cde6ae"
      },
      "outputs": [
        {
          "output_type": "execute_result",
          "data": {
            "text/plain": [
              "(3.133558856627461, 3.5735284813986956)"
            ]
          },
          "metadata": {},
          "execution_count": 102
        }
      ],
      "source": [
        "### acqFunc attribute x, stddev: run number = 3\n",
        "\n",
        "acqFuncApprox_exact_3 = acqFuncApprox(exact_3.history)\n",
        "acqFuncExact_exact_3 = acqFuncExact(exact_3.history)\n",
        "\n",
        "e3 = np.mean(acqFuncExact_exact_3)\n",
        "a3 = np.mean(acqFuncApprox_exact_3)\n",
        "\n",
        "e3, a3\n"
      ]
    },
    {
      "cell_type": "code",
      "execution_count": null,
      "metadata": {
        "id": "r7O19S2eGsu7",
        "colab": {
          "base_uri": "https://localhost:8080/"
        },
        "outputId": "c0f01ffd-c65a-4ce4-e4e5-ca9071c5304c"
      },
      "outputs": [
        {
          "output_type": "execute_result",
          "data": {
            "text/plain": [
              "(2.8865076006688777, 3.4127843080762212)"
            ]
          },
          "metadata": {},
          "execution_count": 103
        }
      ],
      "source": [
        "### acqFunc attribute x, stddev: run number = 4\n",
        "\n",
        "acqFuncApprox_exact_4 = acqFuncApprox(exact_4.history)\n",
        "acqFuncExact_exact_4 = acqFuncExact(exact_4.history)\n",
        "\n",
        "e4 = np.mean(acqFuncExact_exact_4)\n",
        "a4 = np.mean(acqFuncApprox_exact_4)\n",
        "\n",
        "e4, a4\n"
      ]
    },
    {
      "cell_type": "code",
      "execution_count": null,
      "metadata": {
        "id": "sdb9o6NuGs5m",
        "colab": {
          "base_uri": "https://localhost:8080/"
        },
        "outputId": "bbfd098f-0516-4c0d-cb19-c7f55197a544"
      },
      "outputs": [
        {
          "output_type": "execute_result",
          "data": {
            "text/plain": [
              "(3.0820936632341867, 3.44970963306512)"
            ]
          },
          "metadata": {},
          "execution_count": 104
        }
      ],
      "source": [
        "### acqFunc attribute x, stddev: run number = 5\n",
        "\n",
        "acqFuncApprox_exact_5 = acqFuncApprox(exact_5.history)\n",
        "acqFuncExact_exact_5 = acqFuncExact(exact_5.history)\n",
        "\n",
        "e5 = np.mean(acqFuncExact_exact_5)\n",
        "a5 = np.mean(acqFuncApprox_exact_5)\n",
        "\n",
        "e5, a5\n"
      ]
    },
    {
      "cell_type": "code",
      "execution_count": null,
      "metadata": {
        "id": "COQl7LZ8GtE0",
        "colab": {
          "base_uri": "https://localhost:8080/"
        },
        "outputId": "781297bb-d04e-485c-d73e-837e32e9fd00"
      },
      "outputs": [
        {
          "output_type": "execute_result",
          "data": {
            "text/plain": [
              "(3.0171986738293763, 3.6889610451305996)"
            ]
          },
          "metadata": {},
          "execution_count": 105
        }
      ],
      "source": [
        "### acqFunc attribute x, stddev: run number = 6\n",
        "\n",
        "acqFuncApprox_exact_6 = acqFuncApprox(exact_6.history)\n",
        "acqFuncExact_exact_6 = acqFuncExact(exact_6.history)\n",
        "\n",
        "e6 = np.mean(acqFuncExact_exact_6)\n",
        "a6 = np.mean(acqFuncApprox_exact_6)\n",
        "\n",
        "e6, a6\n"
      ]
    },
    {
      "cell_type": "code",
      "execution_count": null,
      "metadata": {
        "id": "2gy9EtTzGtP7",
        "colab": {
          "base_uri": "https://localhost:8080/"
        },
        "outputId": "b4ec1b61-7eb3-4073-fd46-f9cb9ef18171"
      },
      "outputs": [
        {
          "output_type": "execute_result",
          "data": {
            "text/plain": [
              "(3.2827321678317682, 3.6067909229180186)"
            ]
          },
          "metadata": {},
          "execution_count": 106
        }
      ],
      "source": [
        "### acqFunc attribute x, stddev: run number = 7\n",
        "\n",
        "acqFuncApprox_exact_7 = acqFuncApprox(exact_7.history)\n",
        "acqFuncExact_exact_7 = acqFuncExact(exact_7.history)\n",
        "\n",
        "e7 = np.mean(acqFuncExact_exact_7)\n",
        "a7 = np.mean(acqFuncApprox_exact_7)\n",
        "\n",
        "e7, a7\n"
      ]
    },
    {
      "cell_type": "code",
      "execution_count": null,
      "metadata": {
        "id": "S7mn0qoMGtbM",
        "colab": {
          "base_uri": "https://localhost:8080/"
        },
        "outputId": "852e921d-7e67-49c9-8c9b-e1268d369041"
      },
      "outputs": [
        {
          "output_type": "execute_result",
          "data": {
            "text/plain": [
              "(3.216307133497987, 3.603329634196787)"
            ]
          },
          "metadata": {},
          "execution_count": 107
        }
      ],
      "source": [
        "### acqFunc attribute x, stddev: run number = 8\n",
        "\n",
        "acqFuncApprox_exact_8 = acqFuncApprox(exact_8.history)\n",
        "acqFuncExact_exact_8 = acqFuncExact(exact_8.history)\n",
        "\n",
        "e8 = np.mean(acqFuncExact_exact_8)\n",
        "a8 = np.mean(acqFuncApprox_exact_8)\n",
        "\n",
        "e8, a8\n"
      ]
    },
    {
      "cell_type": "code",
      "execution_count": null,
      "metadata": {
        "id": "BhljmkNxGtms",
        "colab": {
          "base_uri": "https://localhost:8080/"
        },
        "outputId": "0979e32b-bef9-4fa2-aab4-81ff047e40c9"
      },
      "outputs": [
        {
          "output_type": "execute_result",
          "data": {
            "text/plain": [
              "(3.1520386835242684, 3.879861482136583)"
            ]
          },
          "metadata": {},
          "execution_count": 108
        }
      ],
      "source": [
        "### acqFunc attribute x, stddev: run number = 9\n",
        "\n",
        "acqFuncApprox_exact_9 = acqFuncApprox(exact_9.history)\n",
        "acqFuncExact_exact_9 = acqFuncExact(exact_9.history)\n",
        "\n",
        "e9 = np.mean(acqFuncExact_exact_9)\n",
        "a9 = np.mean(acqFuncApprox_exact_9)\n",
        "\n",
        "e9, a9\n"
      ]
    },
    {
      "cell_type": "code",
      "execution_count": null,
      "metadata": {
        "id": "W5GZo6k3Gtx8",
        "colab": {
          "base_uri": "https://localhost:8080/"
        },
        "outputId": "6b6a67f5-2161-4c3f-9801-7fce07bbc045"
      },
      "outputs": [
        {
          "output_type": "execute_result",
          "data": {
            "text/plain": [
              "(3.1418134894282588, 3.9411261454422757)"
            ]
          },
          "metadata": {},
          "execution_count": 109
        }
      ],
      "source": [
        "### acqFunc attribute x, stddev: run number = 10\n",
        "\n",
        "acqFuncApprox_exact_10 = acqFuncApprox(exact_10.history)\n",
        "acqFuncExact_exact_10 = acqFuncExact(exact_10.history)\n",
        "\n",
        "e10 = np.mean(acqFuncExact_exact_10)\n",
        "a10 = np.mean(acqFuncApprox_exact_10)\n",
        "\n",
        "e10, a10\n"
      ]
    },
    {
      "cell_type": "code",
      "execution_count": null,
      "metadata": {
        "id": "isKNhDk5Gt9D",
        "colab": {
          "base_uri": "https://localhost:8080/"
        },
        "outputId": "53f8077e-9cb4-4f45-bf8c-b32267f697db"
      },
      "outputs": [
        {
          "output_type": "execute_result",
          "data": {
            "text/plain": [
              "(3.4448451836378475, 3.8585214691198133)"
            ]
          },
          "metadata": {},
          "execution_count": 110
        }
      ],
      "source": [
        "### acqFunc attribute x, stddev: run number = 11\n",
        "\n",
        "acqFuncApprox_exact_11 = acqFuncApprox(exact_11.history)\n",
        "acqFuncExact_exact_11 = acqFuncExact(exact_11.history)\n",
        "\n",
        "e11 = np.mean(acqFuncExact_exact_11)\n",
        "a11 = np.mean(acqFuncApprox_exact_11)\n",
        "\n",
        "e11, a11\n"
      ]
    },
    {
      "cell_type": "code",
      "execution_count": null,
      "metadata": {
        "id": "8ts-wrSuGuIm",
        "colab": {
          "base_uri": "https://localhost:8080/"
        },
        "outputId": "5adde9e5-b6f6-431f-f068-5a75f39a70a8"
      },
      "outputs": [
        {
          "output_type": "execute_result",
          "data": {
            "text/plain": [
              "(3.0086393933594513, 3.2945285829451985)"
            ]
          },
          "metadata": {},
          "execution_count": 111
        }
      ],
      "source": [
        "### acqFunc attribute x, stddev: run number = 12\n",
        "\n",
        "acqFuncApprox_exact_12 = acqFuncApprox(exact_12.history)\n",
        "acqFuncExact_exact_12 = acqFuncExact(exact_12.history)\n",
        "\n",
        "e12 = np.mean(acqFuncExact_exact_12)\n",
        "a12 = np.mean(acqFuncApprox_exact_12)\n",
        "\n",
        "e12, a12\n"
      ]
    },
    {
      "cell_type": "code",
      "execution_count": null,
      "metadata": {
        "id": "n0drhEe3GuUL",
        "colab": {
          "base_uri": "https://localhost:8080/"
        },
        "outputId": "776b2491-8847-4e45-9b67-5e9e08724402"
      },
      "outputs": [
        {
          "output_type": "execute_result",
          "data": {
            "text/plain": [
              "(3.2349356005737944, 3.7795032492541054)"
            ]
          },
          "metadata": {},
          "execution_count": 112
        }
      ],
      "source": [
        "### acqFunc attribute x, stddev: run number = 13\n",
        "\n",
        "acqFuncApprox_exact_13 = acqFuncApprox(exact_13.history)\n",
        "acqFuncExact_exact_13 = acqFuncExact(exact_13.history)\n",
        "\n",
        "e13 = np.mean(acqFuncExact_exact_13)\n",
        "a13 = np.mean(acqFuncApprox_exact_13)\n",
        "\n",
        "e13, a13\n"
      ]
    },
    {
      "cell_type": "code",
      "execution_count": null,
      "metadata": {
        "id": "R0W3MZaVGues",
        "colab": {
          "base_uri": "https://localhost:8080/"
        },
        "outputId": "3208c2e1-c638-4bd6-dad6-ff96329851a6"
      },
      "outputs": [
        {
          "output_type": "execute_result",
          "data": {
            "text/plain": [
              "(2.957071273049157, 3.4911501651736914)"
            ]
          },
          "metadata": {},
          "execution_count": 113
        }
      ],
      "source": [
        "### acqFunc attribute x, stddev: run number = 14\n",
        "\n",
        "acqFuncApprox_exact_14 = acqFuncApprox(exact_14.history)\n",
        "acqFuncExact_exact_14 = acqFuncExact(exact_14.history)\n",
        "\n",
        "e14 = np.mean(acqFuncExact_exact_14)\n",
        "a14 = np.mean(acqFuncApprox_exact_14)\n",
        "\n",
        "e14, a14\n"
      ]
    },
    {
      "cell_type": "code",
      "execution_count": null,
      "metadata": {
        "id": "DoXdDFHoGup-",
        "colab": {
          "base_uri": "https://localhost:8080/"
        },
        "outputId": "6f32f1ce-bfa6-4d9e-b343-5b5da936f12f"
      },
      "outputs": [
        {
          "output_type": "execute_result",
          "data": {
            "text/plain": [
              "(3.0333114792389395, 3.7783244322860945)"
            ]
          },
          "metadata": {},
          "execution_count": 114
        }
      ],
      "source": [
        "### acqFunc attribute x, stddev: run number = 15\n",
        "\n",
        "acqFuncApprox_exact_15 = acqFuncApprox(exact_15.history)\n",
        "acqFuncExact_exact_15 = acqFuncExact(exact_15.history)\n",
        "\n",
        "e15 = np.mean(acqFuncExact_exact_15)\n",
        "a15 = np.mean(acqFuncApprox_exact_15)\n",
        "\n",
        "e15, a15\n"
      ]
    },
    {
      "cell_type": "code",
      "execution_count": null,
      "metadata": {
        "id": "K_wAeqSoGu2j",
        "colab": {
          "base_uri": "https://localhost:8080/"
        },
        "outputId": "731301b0-fe08-4caf-91ad-2dbf870b1982"
      },
      "outputs": [
        {
          "output_type": "execute_result",
          "data": {
            "text/plain": [
              "(2.998461496352827, 3.4614290868150612)"
            ]
          },
          "metadata": {},
          "execution_count": 115
        }
      ],
      "source": [
        "### acqFunc attribute x, stddev: run number = 16\n",
        "\n",
        "acqFuncApprox_exact_16 = acqFuncApprox(exact_16.history)\n",
        "acqFuncExact_exact_16 = acqFuncExact(exact_16.history)\n",
        "\n",
        "e16 = np.mean(acqFuncExact_exact_16)\n",
        "a16 = np.mean(acqFuncApprox_exact_16)\n",
        "\n",
        "e16, a16\n"
      ]
    },
    {
      "cell_type": "code",
      "execution_count": null,
      "metadata": {
        "id": "n6zy78fjGvBT",
        "colab": {
          "base_uri": "https://localhost:8080/"
        },
        "outputId": "d3cad232-4b78-42e3-9d5a-85a3e1032864"
      },
      "outputs": [
        {
          "output_type": "execute_result",
          "data": {
            "text/plain": [
              "(3.1725927811139125, 3.6302783640055623)"
            ]
          },
          "metadata": {},
          "execution_count": 116
        }
      ],
      "source": [
        "### acqFunc attribute x, stddev: run number = 17\n",
        "\n",
        "acqFuncApprox_exact_17 = acqFuncApprox(exact_17.history)\n",
        "acqFuncExact_exact_17 = acqFuncExact(exact_17.history)\n",
        "\n",
        "e17 = np.mean(acqFuncExact_exact_17)\n",
        "a17 = np.mean(acqFuncApprox_exact_17)\n",
        "\n",
        "e17, a17\n"
      ]
    },
    {
      "cell_type": "code",
      "execution_count": null,
      "metadata": {
        "id": "s_6_2K4iGvM-",
        "colab": {
          "base_uri": "https://localhost:8080/"
        },
        "outputId": "ee4b177e-cc35-4955-e4c3-f529268c25f8"
      },
      "outputs": [
        {
          "output_type": "execute_result",
          "data": {
            "text/plain": [
              "(3.206617329008978, 3.8135311873519084)"
            ]
          },
          "metadata": {},
          "execution_count": 117
        }
      ],
      "source": [
        "### acqFunc attribute x, stddev: run number = 18\n",
        "\n",
        "acqFuncApprox_exact_18 = acqFuncApprox(exact_18.history)\n",
        "acqFuncExact_exact_18 = acqFuncExact(exact_18.history)\n",
        "\n",
        "e18 = np.mean(acqFuncExact_exact_18)\n",
        "a18 = np.mean(acqFuncApprox_exact_18)\n",
        "\n",
        "e18, a18\n"
      ]
    },
    {
      "cell_type": "code",
      "execution_count": null,
      "metadata": {
        "id": "o8oO8pdBGvYk",
        "colab": {
          "base_uri": "https://localhost:8080/"
        },
        "outputId": "47df6501-647d-4f08-bbab-ab222e491519"
      },
      "outputs": [
        {
          "output_type": "execute_result",
          "data": {
            "text/plain": [
              "(3.0743173004595463, 3.7306524740177025)"
            ]
          },
          "metadata": {},
          "execution_count": 118
        }
      ],
      "source": [
        "### acqFunc attribute x, stddev: run number = 19\n",
        "\n",
        "acqFuncApprox_exact_19 = acqFuncApprox(exact_19.history)\n",
        "acqFuncExact_exact_19 = acqFuncExact(exact_19.history)\n",
        "\n",
        "e19 = np.mean(acqFuncExact_exact_19)\n",
        "a19 = np.mean(acqFuncApprox_exact_19)\n",
        "\n",
        "e19, a19\n"
      ]
    },
    {
      "cell_type": "code",
      "execution_count": null,
      "metadata": {
        "id": "b2w8oLc0IMzU",
        "colab": {
          "base_uri": "https://localhost:8080/"
        },
        "outputId": "5d788994-00b9-4a64-c9ea-b513289a357a"
      },
      "outputs": [
        {
          "output_type": "execute_result",
          "data": {
            "text/plain": [
              "(3.055339486178928, 3.4354596018432586)"
            ]
          },
          "metadata": {},
          "execution_count": 119
        }
      ],
      "source": [
        "### acqFunc attribute x, stddev: run number = 20\n",
        "\n",
        "acqFuncApprox_exact_20 = acqFuncApprox(exact_20.history)\n",
        "acqFuncExact_exact_20 = acqFuncExact(exact_20.history)\n",
        "\n",
        "e20 = np.mean(acqFuncExact_exact_20)\n",
        "a20 = np.mean(acqFuncApprox_exact_20)\n",
        "\n",
        "e20, a20\n"
      ]
    },
    {
      "cell_type": "code",
      "execution_count": null,
      "metadata": {
        "id": "qAZs3yxMIZul",
        "colab": {
          "base_uri": "https://localhost:8080/"
        },
        "outputId": "11dfe6b4-1fa5-4f5e-8c2e-f2c84aba3fef"
      },
      "outputs": [
        {
          "output_type": "execute_result",
          "data": {
            "text/plain": [
              "(3.1301475728426094, 3.643680124219209)"
            ]
          },
          "metadata": {},
          "execution_count": 120
        }
      ],
      "source": [
        "### Summarize arrays: \n",
        "\n",
        "exact_stddev = np.sort([e1,e2,e3,e4,e5,e6,e7,e8,e9,e10,e11,e12,e13,e14,e15,e16,e17,e18,e19,e20])\n",
        "approx_stddev = np.sort([a1,a2,a3,a4,a5,a6,a7,a8,a9,a10,a11,a12,a13,a14,a15,a16,a17,a18,a19,a20])\n",
        "\n",
        "np.mean(exact_stddev), np.mean(approx_stddev)\n"
      ]
    },
    {
      "cell_type": "code",
      "execution_count": null,
      "metadata": {
        "id": "e_kpqYcMIZxu",
        "colab": {
          "base_uri": "https://localhost:8080/",
          "height": 297
        },
        "outputId": "17b6fad8-f8d1-414c-c00a-9a863b547a51"
      },
      "outputs": [
        {
          "output_type": "display_data",
          "data": {
            "text/plain": [
              "<Figure size 432x288 with 1 Axes>"
            ],
            "image/png": "[encoded data removed]"
          },
          "metadata": {
            "needs_background": "light"
          }
        }
      ],
      "source": [
        "### Visualise!\n",
        "\n",
        "title = func\n",
        "plt.figure()\n",
        "\n",
        "plt.plot(approx_stddev, color = 'Purple', ls='--', label='Average $\\sigma$, attribute $\\mathbf{x}$: Approx STP CBM gradients')\n",
        "plt.plot(exact_stddev, color = 'Orange', ls='-', label='Average $\\sigma$, attribute $\\mathbf{x}$: Exact STP dCBM gradients')\n",
        "\n",
        "plt.title(title, weight = 'bold')\n",
        "plt.xlabel('Function evaluations: iteration $\\it{k}$', weight = 'bold')\n",
        "plt.ylabel('STP CBM: Average $\\sigma$, attribute $\\mathbf{x}$', weight = 'bold') \n",
        "plt.legend(loc=0) # add plot legend\n",
        "\n",
        "### Make the x-ticks integers, not floats:\n",
        "count = len(xstar)\n",
        "plt.xticks(np.arange(count), np.arange(1, count))\n",
        "plt.show() #visualize!\n"
      ]
    },
    {
      "cell_type": "code",
      "execution_count": null,
      "metadata": {
        "id": "LToGd4vZIZ3I"
      },
      "outputs": [],
      "source": []
    }
  ],
  "metadata": {
    "colab": {
      "collapsed_sections": [],
      "provenance": []
    },
    "kernelspec": {
      "display_name": "Python 3",
      "name": "python3"
    },
    "language_info": {
      "name": "python"
    }
  },
  "nbformat": 4,
  "nbformat_minor": 0
}