{
  "cells": [
    {
      "cell_type": "markdown",
      "metadata": {
        "id": "Dqn4dFx7Z2Ir"
      },
      "source": [
        "\n",
        "SumSquares: 2D\n"
      ]
    },
    {
      "cell_type": "code",
      "execution_count": null,
      "metadata": {
        "colab": {
          "base_uri": "https://localhost:8080/"
        },
        "id": "MJTM_GZZZb5x",
        "outputId": "104c494f-ea67-4f96-a710-bcdced14fc8b"
      },
      "outputs": [
        {
          "output_type": "stream",
          "name": "stdout",
          "text": [
            "Looking in indexes: https://pypi.org/simple, https://us-python.pkg.dev/colab-wheels/public/simple/\n",
            "Collecting pyGPGO\n",
            "  Downloading pyGPGO-0.5.1.tar.gz (14 kB)\n",
            "Requirement already satisfied: numpy in /usr/local/lib/python3.7/dist-packages (from pyGPGO) (1.21.6)\n",
            "Requirement already satisfied: mkl in /usr/local/lib/python3.7/dist-packages (from pyGPGO) (2019.0)\n",
            "Requirement already satisfied: scipy in /usr/local/lib/python3.7/dist-packages (from pyGPGO) (1.7.3)\n",
            "Requirement already satisfied: joblib in /usr/local/lib/python3.7/dist-packages (from pyGPGO) (1.1.0)\n",
            "Requirement already satisfied: scikit-learn in /usr/local/lib/python3.7/dist-packages (from pyGPGO) (1.0.2)\n",
            "Collecting Theano-PyMC\n",
            "  Downloading Theano-PyMC-1.1.2.tar.gz (1.8 MB)\n",
            "\u001b[K     |████████████████████████████████| 1.8 MB 27.9 MB/s \n",
            "\u001b[?25hCollecting pyMC3\n",
            "  Downloading pymc3-3.11.5-py3-none-any.whl (872 kB)\n",
            "\u001b[K     |████████████████████████████████| 872 kB 60.3 MB/s \n",
            "\u001b[?25hRequirement already satisfied: intel-openmp in /usr/local/lib/python3.7/dist-packages (from mkl->pyGPGO) (2022.1.0)\n",
            "Requirement already satisfied: typing-extensions>=3.7.4 in /usr/local/lib/python3.7/dist-packages (from pyMC3->pyGPGO) (4.1.1)\n",
            "Requirement already satisfied: dill in /usr/local/lib/python3.7/dist-packages (from pyMC3->pyGPGO) (0.3.5.1)\n",
            "Requirement already satisfied: pandas>=0.24.0 in /usr/local/lib/python3.7/dist-packages (from pyMC3->pyGPGO) (1.3.5)\n",
            "Requirement already satisfied: arviz>=0.11.0 in /usr/local/lib/python3.7/dist-packages (from pyMC3->pyGPGO) (0.12.1)\n",
            "Requirement already satisfied: cachetools>=4.2.1 in /usr/local/lib/python3.7/dist-packages (from pyMC3->pyGPGO) (4.2.4)\n",
            "Requirement already satisfied: patsy>=0.5.1 in /usr/local/lib/python3.7/dist-packages (from pyMC3->pyGPGO) (0.5.2)\n",
            "Collecting deprecat\n",
            "  Downloading deprecat-2.1.1-py2.py3-none-any.whl (9.8 kB)\n",
            "Collecting semver>=2.13.0\n",
            "  Downloading semver-2.13.0-py2.py3-none-any.whl (12 kB)\n",
            "Requirement already satisfied: fastprogress>=0.2.0 in /usr/local/lib/python3.7/dist-packages (from pyMC3->pyGPGO) (1.0.3)\n",
            "Requirement already satisfied: filelock in /usr/local/lib/python3.7/dist-packages (from Theano-PyMC->pyGPGO) (3.8.0)\n",
            "Requirement already satisfied: netcdf4 in /usr/local/lib/python3.7/dist-packages (from arviz>=0.11.0->pyMC3->pyGPGO) (1.6.0)\n",
            "Requirement already satisfied: packaging in /usr/local/lib/python3.7/dist-packages (from arviz>=0.11.0->pyMC3->pyGPGO) (21.3)\n",
            "Requirement already satisfied: xarray>=0.16.1 in /usr/local/lib/python3.7/dist-packages (from arviz>=0.11.0->pyMC3->pyGPGO) (0.20.2)\n",
            "Requirement already satisfied: xarray-einstats>=0.2 in /usr/local/lib/python3.7/dist-packages (from arviz>=0.11.0->pyMC3->pyGPGO) (0.2.2)\n",
            "Requirement already satisfied: setuptools>=38.4 in /usr/local/lib/python3.7/dist-packages (from arviz>=0.11.0->pyMC3->pyGPGO) (57.4.0)\n",
            "Requirement already satisfied: matplotlib>=3.0 in /usr/local/lib/python3.7/dist-packages (from arviz>=0.11.0->pyMC3->pyGPGO) (3.2.2)\n",
            "Requirement already satisfied: kiwisolver>=1.0.1 in /usr/local/lib/python3.7/dist-packages (from matplotlib>=3.0->arviz>=0.11.0->pyMC3->pyGPGO) (1.4.4)\n",
            "Requirement already satisfied: python-dateutil>=2.1 in /usr/local/lib/python3.7/dist-packages (from matplotlib>=3.0->arviz>=0.11.0->pyMC3->pyGPGO) (2.8.2)\n",
            "Requirement already satisfied: pyparsing!=2.0.4,!=2.1.2,!=2.1.6,>=2.0.1 in /usr/local/lib/python3.7/dist-packages (from matplotlib>=3.0->arviz>=0.11.0->pyMC3->pyGPGO) (3.0.9)\n",
            "Requirement already satisfied: cycler>=0.10 in /usr/local/lib/python3.7/dist-packages (from matplotlib>=3.0->arviz>=0.11.0->pyMC3->pyGPGO) (0.11.0)\n",
            "Requirement already satisfied: pytz>=2017.3 in /usr/local/lib/python3.7/dist-packages (from pandas>=0.24.0->pyMC3->pyGPGO) (2022.2.1)\n",
            "Requirement already satisfied: six in /usr/local/lib/python3.7/dist-packages (from patsy>=0.5.1->pyMC3->pyGPGO) (1.15.0)\n",
            "Requirement already satisfied: importlib-metadata in /usr/local/lib/python3.7/dist-packages (from xarray>=0.16.1->arviz>=0.11.0->pyMC3->pyGPGO) (4.12.0)\n",
            "Requirement already satisfied: wrapt<2,>=1.10 in /usr/local/lib/python3.7/dist-packages (from deprecat->pyMC3->pyGPGO) (1.14.1)\n",
            "Requirement already satisfied: zipp>=0.5 in /usr/local/lib/python3.7/dist-packages (from importlib-metadata->xarray>=0.16.1->arviz>=0.11.0->pyMC3->pyGPGO) (3.8.1)\n",
            "Requirement already satisfied: cftime in /usr/local/lib/python3.7/dist-packages (from netcdf4->arviz>=0.11.0->pyMC3->pyGPGO) (1.6.1)\n",
            "Requirement already satisfied: threadpoolctl>=2.0.0 in /usr/local/lib/python3.7/dist-packages (from scikit-learn->pyGPGO) (3.1.0)\n",
            "Building wheels for collected packages: pyGPGO, Theano-PyMC\n",
            "  Building wheel for pyGPGO (setup.py) ... \u001b[?25l\u001b[?25hdone\n",
            "  Created wheel for pyGPGO: filename=pyGPGO-0.5.1-py3-none-any.whl size=19879 sha256=2eea21fc4682928d7c8dc0c1306ee32c87b5e32243c5d180e8310864a54a9cd8\n",
            "  Stored in directory: /root/.cache/pip/wheels/c8/5d/0b/2160114e2f1b87791c51b66cf07f89831dbb6f49167950316f\n",
            "  Building wheel for Theano-PyMC (setup.py) ... \u001b[?25l\u001b[?25hdone\n",
            "  Created wheel for Theano-PyMC: filename=Theano_PyMC-1.1.2-py3-none-any.whl size=1529963 sha256=0495eb842ba054d601cf4dbad54bb0b48586358d1d99d1d926f1d4738b5ce344\n",
            "  Stored in directory: /root/.cache/pip/wheels/f3/af/8c/5dd7553522d74c52a7813806fc7ee1a9caa20a3f7c8fd850d5\n",
            "Successfully built pyGPGO Theano-PyMC\n",
            "Installing collected packages: Theano-PyMC, semver, deprecat, pyMC3, pyGPGO\n",
            "Successfully installed Theano-PyMC-1.1.2 deprecat-2.1.1 pyGPGO-0.5.1 pyMC3-3.11.5 semver-2.13.0\n"
          ]
        }
      ],
      "source": [
        "pip install pyGPGO\n"
      ]
    },
    {
      "cell_type": "code",
      "execution_count": null,
      "metadata": {
        "id": "ZJSSPbwPaEUB"
      },
      "outputs": [],
      "source": [
        "### Import:\n",
        "\n",
        "import numpy as np\n",
        "import scipy as sp\n",
        "import pandas as pd\n",
        "import matplotlib.pyplot as plt\n",
        "import warnings\n",
        "import itertools\n",
        "\n",
        "from pyGPGO.GPGO import GPGO\n",
        "from pyGPGO.surrogates.tStudentProcess import tStudentProcess\n",
        "from pyGPGO.acquisition import Acquisition\n",
        "from pyGPGO.covfunc import squaredExponential\n",
        "\n",
        "from joblib import Parallel, delayed\n",
        "from numpy.linalg import solve, cholesky\n",
        "from scipy.spatial.distance import cdist\n",
        "from scipy.optimize import minimize\n",
        "from scipy.stats import t\n",
        "import time\n",
        "\n",
        "warnings.filterwarnings(\"ignore\", category=RuntimeWarning)\n"
      ]
    },
    {
      "cell_type": "code",
      "execution_count": null,
      "metadata": {
        "id": "OeYcTUNoaJWa"
      },
      "outputs": [],
      "source": [
        "### Inputs:\n",
        "\n",
        "func = 'SumSquares'\n",
        "n_test = 500\n",
        "eps = 1e-08\n",
        "\n",
        "util = 'CBM'\n",
        "\n",
        "n_init = 5 # random initialisations\n",
        "iters = 20\n",
        "opt = True\n",
        "\n",
        "df = 3"
      ]
    },
    {
      "cell_type": "code",
      "execution_count": null,
      "metadata": {
        "id": "xpaEOjdzaPMS"
      },
      "outputs": [],
      "source": [
        "### Objective Function - Sum Squares(x) 2-D:\n",
        "\n",
        "def objfunc(x1_training, x2_training):\n",
        "            return  operator * (  1 * x1_training ** 2\n",
        "                            + 2 * x2_training ** 2\n",
        "                            )\n",
        "        \n",
        "# Constraints:\n",
        "lb = -5.12\n",
        "ub = +5.12\n",
        "    \n",
        "# Input array dimension(s):\n",
        "dim = 2\n",
        "\n",
        "# 2-D inputs' parameter bounds:\n",
        "param = {'x1_training': ('cont', [lb, ub]),\n",
        "                 'x2_training': ('cont', [lb, ub])\n",
        "                 }\n",
        "    \n",
        "# True y bounds:\n",
        "y_lb = 0\n",
        "operator = -1 # targets global minimum \n",
        "y_global_orig = y_lb * operator # targets global minimum\n",
        "    \n",
        "# Test data:\n",
        "x1_test = np.linspace(lb, ub, n_test)\n",
        "x2_test = np.linspace(lb, ub, n_test)\n",
        "x_test = np.column_stack((x1_test, x2_test))"
      ]
    },
    {
      "cell_type": "code",
      "execution_count": null,
      "metadata": {
        "id": "eYpI3Zm4aGxi"
      },
      "outputs": [],
      "source": [
        "n_start_AcqFunc = iters\n",
        "inverse = -1\n"
      ]
    },
    {
      "cell_type": "code",
      "execution_count": null,
      "metadata": {
        "id": "oO_GUmOoaV0T"
      },
      "outputs": [],
      "source": [
        "### Cumulative Regret Calculators:\n",
        "\n",
        "def min_max_array(x):\n",
        "    new_list = []\n",
        "    for i, num in enumerate(x):\n",
        "            new_list.append(np.min(x[0:i+1]))\n",
        "    return new_list\n",
        "  \n",
        "def acqFuncExact(x):\n",
        "    new_array = []\n",
        "    x = np.array(x) \n",
        "    for i, num in enumerate(x):\n",
        "            new_array = x[:-2][::-3]\n",
        "    return new_array[::-1]\n",
        "\n",
        "def acqFuncApprox(x):\n",
        "    new_array = []\n",
        "    x = np.array(x) \n",
        "    for i, num in enumerate(x):\n",
        "            new_array = x[:-1][::-3]\n",
        "    return new_array[::-1]\n"
      ]
    },
    {
      "cell_type": "code",
      "execution_count": null,
      "metadata": {
        "id": "kuuJx0IMam9S"
      },
      "outputs": [],
      "source": [
        "### Surrogate derivatives: \n",
        "\n",
        "cov_func = squaredExponential()\n",
        "\n",
        "def kronDelta(X, Xstar):                     # Kronecker's Delta method\n",
        "    return cdist(X, Xstar) < np.finfo(np.float32).eps\n",
        "\n",
        "def se(X, Xstar, sigmaf, l, sigman):         # S.E. kernel method\n",
        "    return sigmaf * np.exp(-0.5 * cdist(X, Xstar) ** 2 / l ** 2) + sigman * kronDelta(X, Xstar)\n",
        "\n",
        "def delta(X, Xstar):                         # Distance between training X and test Xstar vectors\n",
        "    return (X - Xstar)\n",
        "   \n",
        "def der_covmat(X, Xstar, sigmaf, l, sigman): # Covariance matrix derivative terms (i.e. exact, first-order)\n",
        "    nx = len(X)\n",
        "    ny = len(Xstar)\n",
        "    return np.round(np.array([(delta(np.atleast_2d(i), np.atleast_2d(j))[0] * se(np.atleast_2d(i), np.atleast_2d(j), sigmaf, l, sigman)[0]).sum() for (i, j) in itertools.product(X, Xstar)]).reshape(nx, ny), 8)\n",
        "\n",
        "class dtStudentProcess(tStudentProcess):    # Via inheritance, also optimises hyperparameters when opt = TRUE\n",
        "    \n",
        "    def AcqGrad(self, Xstar):               # Method returning exact, first-order derivatives of the STP's posterior mean and standard deviation\n",
        "        Xstar = np.atleast_2d(Xstar)\n",
        "        Kstar = self.covfunc.K(self.X, Xstar).T\n",
        "        dKstar = der_covmat(self.X, Xstar, self.covfunc.sigmaf, self.covfunc.l, self.covfunc.sigman).T\n",
        "        \n",
        "        smd_adj = (self.nu + self.beta1 - 2) / (self.nu + self.n1 - 2)\n",
        "\n",
        "        alpha = np.dot(np.linalg.inv(self.K11 + (self.covfunc.sigman**2) * np.eye(len(self.X))), self.y)\n",
        "        alpha_Kstar = np.dot(np.linalg.inv(self.K11 + (self.covfunc.sigman**2) * np.eye(len(self.X))), Kstar.T)      \n",
        "        \n",
        "        dm = np.dot(dKstar, alpha)\n",
        "        ds = -2 * smd_adj * np.dot(dKstar, alpha_Kstar)\n",
        "        \n",
        "        return dm, ds          \n"
      ]
    },
    {
      "cell_type": "code",
      "execution_count": null,
      "metadata": {
        "id": "_Dc3YVHVaXz7"
      },
      "outputs": [],
      "source": [
        "### Add exact acquisition function gradient as attribute:\n",
        "\n",
        "Beta_CBM = dim\n",
        "\n",
        "class Acquisition_grad(Acquisition):    \n",
        "    def __init__(self, mode, eps=eps, **params):\n",
        "        \n",
        "        self.params = params\n",
        "        self.eps = eps\n",
        "\n",
        "        mode_dict = {\n",
        "            'CBM': self.CBM\n",
        "        }\n",
        "\n",
        "        self.f = mode_dict[mode]\n",
        "    \n",
        "    def CBM(self, y_global_orig, mean, std, ds, dm, nu=3.0):\n",
        "        gamma = (mean - y_global_orig - self.eps) / (std + self.eps)\n",
        "        gamma_h = (mean - y_global_orig) / (std + self.eps)\n",
        "        dsdx = ds / (2 * (std + self.eps))\n",
        "        dmdx = (dm - gamma * dsdx) / (std + self.eps)\n",
        "\n",
        "        f = (std + self.eps) * (gamma + np.sqrt(Beta_CBM))\n",
        "        df = dsdx * (gamma + np.sqrt(Beta_CBM)) + (std + self.eps) * dmdx\n",
        "        df_arr = []\n",
        "\n",
        "        for j in range(0, dim):\n",
        "          df_arr.append(df)\n",
        "        return f, np.asarray(df_arr).transpose()\n",
        "\n",
        "        for j in range(0, dim):\n",
        "          df_arr.append(df)\n",
        "        return f, np.asarray(df_arr).transpose()\n",
        "        \n",
        "    def d_eval(self, y_global_orig, mean, std, ds, dm, nu=3.0):\n",
        "    \n",
        "        return self.f(y_global_orig, mean, std, ds, dm, nu=3.0, **self.params)\n",
        "        "
      ]
    },
    {
      "cell_type": "code",
      "execution_count": null,
      "metadata": {
        "id": "PITEQC8YSl7i"
      },
      "outputs": [],
      "source": [
        "## GPGO_multi: \n",
        "\n",
        "class GPGO_multi(GPGO):\n",
        "    n_start = n_start_AcqFunc\n",
        "\n",
        "    def __init__(self, surrogate, acquisition, f, parameter_dict, n_jobs=1):\n",
        "        self.GP = surrogate\n",
        "        self.A = acquisition\n",
        "        self.f = f\n",
        "        self.parameters = parameter_dict\n",
        "        self.n_jobs = n_jobs\n",
        "\n",
        "        self.parameter_key = list(parameter_dict.keys())\n",
        "        self.parameter_value = list(parameter_dict.values())\n",
        "        self.parameter_type = [p[0] for p in self.parameter_value]\n",
        "        self.parameter_range = [p[1] for p in self.parameter_value]\n",
        "\n",
        "        self.history = []\n",
        "        self.header =   'Evaluation \\t Proposed point \\t  Current eval. \\t  Best eval. \\t        Exact CBM: StdDev. x \\t Approx CBM: StdDev. x '\n",
        "        self.template = '{:3}\\t {}\\t {:3}\\t {:3}\\t {:3}\\t {:3}'\n",
        " \n",
        "    def acqfuncExact(self, xnew, n_start=n_start_AcqFunc):\n",
        "        new_mean, new_var = self.GP.predict(xnew, return_std=True)\n",
        "        new_std = np.sqrt(new_var + eps)\n",
        "        dm, ds = self.GP.AcqGrad(xnew)\n",
        "        f, df = self.A.d_eval(y_global_orig, new_mean, new_std, ds=ds, dm=dm, nu=3.0)\n",
        "\n",
        "        return -f, -df\n",
        "   \n",
        "    def acqfuncApprox(self, xnew, n_start=n_start_AcqFunc):\n",
        "        new_mean, new_var = self.GP.predict(xnew, return_std=True)\n",
        "        new_std = np.sqrt(new_var + eps)\n",
        "        dm, ds = self.GP.AcqGrad(xnew)\n",
        "        f, df = self.A.d_eval(y_global_orig, new_mean, new_std, ds=ds, dm=dm, nu=3.0)\n",
        "\n",
        "        return -f\n",
        "   \n",
        "    def _optimizeAcq(self, method='L-BFGS-B', n_start=n_start_AcqFunc):\n",
        "        \n",
        "        start_points_dict = [self._sampleParam() for i in range(n_start)]\n",
        "        start_points_arr = np.array([list(s.values())\n",
        "                                     for s in start_points_dict])\n",
        "        x_best = np.empty((n_start, len(self.parameter_key)))\n",
        "        f_best = np.empty((n_start,))\n",
        "        opt = Parallel(n_jobs=self.n_jobs)(delayed(minimize)(self.acqfuncApprox,\n",
        "                                                                 x0=start_point,\n",
        "                                                                 method=method,\n",
        "                                                                 jac = False,\n",
        "                                                                 bounds=self.parameter_range) for start_point in\n",
        "                                               start_points_arr)\n",
        "        x_best = np.array([res.x for res in opt])\n",
        "        f_best = np.array([np.atleast_1d(res.fun)[0] for res in opt])\n",
        "        f_best_min = min(f_best)\n",
        "\n",
        "        self.x_best = x_best\n",
        "        self.f_best = f_best\n",
        "        self.f_best_min = f_best_min\n",
        "        self.x_best_std = np.std(x_best)\n",
        "        self.best = x_best[np.argmin(f_best)]\n",
        "        self.start_points_arr = start_points_arr        \n",
        "        self.history.append(self.x_best_std)\n",
        "\n",
        "        x_best_exact = np.empty((n_start, len(self.parameter_key)))\n",
        "        f_best_exact = np.empty((n_start,))\n",
        "        opt_exact = Parallel(n_jobs=self.n_jobs)(delayed(minimize)(self.acqfuncExact,\n",
        "                                                                 x0=start_point,\n",
        "                                                                 method=method,\n",
        "                                                                 jac = True,\n",
        "                                                                 bounds=self.parameter_range) for start_point in\n",
        "                                               start_points_arr)\n",
        "        x_best_exact = np.array([res.x for res in opt_exact])\n",
        "        f_best_exact = np.array([np.atleast_1d(res.fun)[0] for res in opt_exact])\n",
        "        f_best_min_exact = min(f_best_exact)\n",
        "\n",
        "        self.x_best_exact = x_best_exact\n",
        "        self.f_best_exact = f_best_exact\n",
        "        self.f_best_min_exact = f_best_min_exact\n",
        "        self.x_best_std_exact = np.std(x_best_exact)\n",
        "        self.best_exact = x_best_exact[np.argmin(f_best_exact)]\n",
        "        self.start_points_arr = start_points_arr\n",
        "        self.history.append(self.x_best_std_exact)\n",
        "\n",
        "    def _printInit(self):\n",
        "        print(self.header)\n",
        "        for init_eval in range(self.init_evals):\n",
        "            print(self.template.format('init', self.GP.X[init_eval], inverse * self.GP.y[init_eval], inverse * self.tau, '', ''))\n",
        "      \n",
        "    def _printCurrent(self):\n",
        "        OKGREEN = '\\033[92m'\n",
        "        ENDC = '\\033[0m'\n",
        "        BOLD = '\\033[1m'\n",
        "        eval = str(len(self.GP.y) - self.init_evals)\n",
        "        proposed = str(self.best)\n",
        "        curr_eval = str(inverse * self.GP.y[-1])\n",
        "        curr_best = str(inverse * self.tau)\n",
        "        min_acqfunc = str(self.f_best_min)\n",
        "        min_acqfunc_exact = str(self.f_best_min_exact)\n",
        "        x_best_std = str(self.x_best_std)\n",
        "        x_best_std_exact = str(self.x_best_std_exact)\n",
        "        if float(curr_eval) <= float(curr_best):\n",
        "            eval = BOLD + OKGREEN + eval + ENDC\n",
        "            proposed = BOLD + OKGREEN + proposed + ENDC\n",
        "            curr_eval = BOLD + OKGREEN + curr_eval + ENDC\n",
        "            curr_best = BOLD + OKGREEN + curr_best + ENDC\n",
        "            x_best_std = BOLD + OKGREEN + x_best_std + ENDC\n",
        "            x_best_std_exact = BOLD + OKGREEN + x_best_std_exact + ENDC\n",
        "        print(self.template.format(eval, proposed, curr_eval, curr_best, x_best_std_exact, x_best_std))\n",
        "        \n",
        "    def run(self, max_iter=10, init_evals=3, resume=False):\n",
        "        \n",
        "        if not resume:\n",
        "            self.init_evals = init_evals\n",
        "            self._firstRun(self.init_evals)\n",
        "            self._printInit()\n",
        "        for iteration in range(max_iter):\n",
        "            self._optimizeAcq()\n",
        "            self.updateGP()\n",
        "            self._printCurrent()\n"
      ]
    },
    {
      "cell_type": "code",
      "execution_count": null,
      "metadata": {
        "id": "b_B-w81BJxKN"
      },
      "outputs": [],
      "source": [
        "## dGPGO:\n",
        "\n",
        "class dGPGO(GPGO):\n",
        "    n_start = n_start_AcqFunc\n",
        "\n",
        "    def __init__(self, surrogate, acquisition, f, parameter_dict, n_jobs=1):\n",
        "        self.GP = surrogate\n",
        "        self.A = acquisition\n",
        "        self.f = f\n",
        "        self.parameters = parameter_dict\n",
        "        self.n_jobs = n_jobs\n",
        "\n",
        "        self.parameter_key = list(parameter_dict.keys())\n",
        "        self.parameter_value = list(parameter_dict.values())\n",
        "        self.parameter_type = [p[0] for p in self.parameter_value]\n",
        "        self.parameter_range = [p[1] for p in self.parameter_value]\n",
        "\n",
        "        self.history = []\n",
        "        self.header =   'Evaluation \\t Proposed point \\t  Current eval. \\t  Best eval. \\t        Exact CBM: StdDev. x \\t Approx CBM: StdDev. x '\n",
        "        self.template = '{:3}\\t {}\\t {:3}\\t {:3}\\t {:3}\\t {:3}'\n",
        "\n",
        "    def acqfuncExact(self, xnew, n_start=n_start_AcqFunc):\n",
        "        new_mean, new_var = self.GP.predict(xnew, return_std=True)\n",
        "        new_std = np.sqrt(new_var + eps)\n",
        "        dm, ds = self.GP.AcqGrad(xnew)\n",
        "        f, df = self.A.d_eval(y_global_orig, new_mean, new_std, ds=ds, dm=dm, nu=3.0)\n",
        "\n",
        "        return -f, -df\n",
        "   \n",
        "    def acqfuncApprox(self, xnew, n_start=n_start_AcqFunc):\n",
        "        new_mean, new_var = self.GP.predict(xnew, return_std=True)\n",
        "        new_std = np.sqrt(new_var + eps)\n",
        "        dm, ds = self.GP.AcqGrad(xnew)\n",
        "        f, df = self.A.d_eval(y_global_orig, new_mean, new_std, ds=ds, dm=dm, nu=3.0)\n",
        "\n",
        "        return -f\n",
        "\n",
        "    def d_optimizeAcq(self, method='L-BFGS-B', n_start=n_start_AcqFunc):\n",
        "        start_points_dict = [self._sampleParam() for i in range(n_start)]\n",
        "        start_points_arr = np.array([list(s.values())\n",
        "                                     for s in start_points_dict])\n",
        "        x_best = np.empty((n_start, len(self.parameter_key)))\n",
        "        f_best = np.empty((n_start,))\n",
        "        opt = Parallel(n_jobs=self.n_jobs)(delayed(minimize)(self.acqfuncExact,\n",
        "                                                                 x0=start_point,\n",
        "                                                                 method=method,\n",
        "                                                                 jac = True,\n",
        "                                                                 bounds=self.parameter_range) for start_point in\n",
        "                                               start_points_arr)\n",
        "        x_best = np.array([res.x for res in opt])\n",
        "        f_best = np.array([np.atleast_1d(res.fun)[0] for res in opt])\n",
        "        f_best_min = min(f_best)\n",
        "\n",
        "        self.x_best = x_best\n",
        "        self.f_best = f_best\n",
        "        self.f_best_min = f_best_min\n",
        "        self.x_best_std = np.std(x_best)\n",
        "        self.best = x_best[np.argmin(f_best)]\n",
        "        self.start_points_arr = start_points_arr\n",
        "        self.history.append(self.x_best_std)\n",
        "\n",
        "        x_best_approx = np.empty((n_start, len(self.parameter_key)))\n",
        "        f_best_approx = np.empty((n_start,))\n",
        "        opt_approx = Parallel(n_jobs=self.n_jobs)(delayed(minimize)(self.acqfuncApprox,\n",
        "                                                                 x0=start_point,\n",
        "                                                                 method=method,\n",
        "                                                                 jac = False,\n",
        "                                                                 bounds=self.parameter_range) for start_point in\n",
        "                                               start_points_arr)\n",
        "        x_best_approx = np.array([res.x for res in opt_approx])\n",
        "        f_best_approx = np.array([np.atleast_1d(res.fun)[0] for res in opt_approx])\n",
        "        f_best_min_approx = min(f_best_approx)\n",
        "\n",
        "        self.x_best_approx = x_best_approx\n",
        "        self.f_best_approx = f_best_approx\n",
        "        self.f_best_min_approx = f_best_min_approx\n",
        "        self.x_best_std_approx = np.std(x_best_approx)\n",
        "        self.best_approx = x_best_approx[np.argmin(f_best_approx)]\n",
        "        self.start_points_arr = start_points_arr\n",
        "        self.history.append(self.x_best_std_approx)\n",
        "    \n",
        "    def _printInit(self):\n",
        "        print(self.header)\n",
        "        for init_eval in range(self.init_evals):\n",
        "            print(self.template.format('init', self.GP.X[init_eval], inverse * self.GP.y[init_eval], inverse * self.tau, '', ''))\n",
        "      \n",
        "    def _printCurrent(self):\n",
        "        OKGREEN = '\\033[92m'\n",
        "        ENDC = '\\033[0m'\n",
        "        BOLD = '\\033[1m'\n",
        "        eval = str(len(self.GP.y) - self.init_evals)\n",
        "        proposed = str(self.best)\n",
        "        curr_eval = str(inverse * self.GP.y[-1])\n",
        "        curr_best = str(inverse * self.tau)\n",
        "        min_acqfunc = str(self.f_best_min)\n",
        "        min_acqfunc_approx = str(self.f_best_min_approx)\n",
        "        x_best_std = str(self.x_best_std)\n",
        "        x_best_std_approx = str(self.x_best_std_approx)\n",
        "        if float(curr_eval) <= float(curr_best):\n",
        "            eval = BOLD + OKGREEN + eval + ENDC\n",
        "            proposed = BOLD + OKGREEN + proposed + ENDC\n",
        "            curr_eval = BOLD + OKGREEN + curr_eval + ENDC\n",
        "            curr_best = BOLD + OKGREEN + curr_best + ENDC\n",
        "            x_best_std = BOLD + OKGREEN + x_best_std + ENDC\n",
        "            x_best_std_approx = BOLD + OKGREEN + x_best_std_approx + ENDC\n",
        "        print(self.template.format(eval, proposed, curr_eval, curr_best, x_best_std, x_best_std_approx))\n",
        "\n",
        "    def run(self, max_iter=10, init_evals=3, resume=False):\n",
        "        \n",
        "        if not resume:\n",
        "            self.init_evals = init_evals\n",
        "            self._firstRun(self.init_evals)\n",
        "            self._printInit()\n",
        "        for iteration in range(max_iter):\n",
        "            self.d_optimizeAcq()\n",
        "            self.updateGP()\n",
        "            self._printCurrent()\n"
      ]
    },
    {
      "cell_type": "code",
      "execution_count": null,
      "metadata": {
        "id": "qXIKGuXVGEg2"
      },
      "outputs": [],
      "source": [
        "###Reproducible set-seeds:\n",
        "\n",
        "run_num_1 = 1\n",
        "run_num_2 = 2\n",
        "run_num_3 = 3\n",
        "run_num_4 = 4\n",
        "run_num_5 = 5\n",
        "run_num_6 = 6\n",
        "run_num_7 = 7\n",
        "run_num_8 = 8\n",
        "run_num_9 = 9\n",
        "run_num_10 = 10\n",
        "run_num_11 = 11\n",
        "run_num_12 = 12\n",
        "run_num_13 = 13\n",
        "run_num_14 = 14\n",
        "run_num_15 = 15\n",
        "run_num_16 = 16\n",
        "run_num_17 = 17\n",
        "run_num_18 = 18\n",
        "run_num_19 = 19\n",
        "run_num_20 = 20\n"
      ]
    },
    {
      "cell_type": "code",
      "execution_count": null,
      "metadata": {
        "colab": {
          "base_uri": "https://localhost:8080/"
        },
        "id": "JEhagQmnTVIK",
        "outputId": "ba66e5a8-aa46-40a0-9db9-6de69925e531"
      },
      "outputs": [
        {
          "output_type": "execute_result",
          "data": {
            "text/plain": [
              "1662465562.3333569"
            ]
          },
          "metadata": {},
          "execution_count": 12
        }
      ],
      "source": [
        "start_approx = time.time()\n",
        "start_approx\n"
      ]
    },
    {
      "cell_type": "code",
      "execution_count": null,
      "metadata": {
        "colab": {
          "base_uri": "https://localhost:8080/"
        },
        "id": "aH0YSTXufD1v",
        "outputId": "8a84bd9e-72b0-40a0-b65c-9ce5f7db7e3f"
      },
      "outputs": [
        {
          "output_type": "stream",
          "name": "stdout",
          "text": [
            "Evaluation \t Proposed point \t  Current eval. \t  Best eval. \t        Exact CBM: StdDev. x \t Approx CBM: StdDev. x \n",
            "init\t [-0.84969467  2.25612281]\t 10.902161328666502\t 1.4334486961549602\t    \t    \n",
            "init\t [-5.1188288  -2.02411446]\t 34.396486966857985\t 1.4334486961549602\t    \t    \n",
            "init\t [-3.61721968 -4.17445279]\t 47.936390383803385\t 1.4334486961549602\t    \t    \n",
            "init\t [-3.21269544 -1.58145816]\t 15.323431753768267\t 1.4334486961549602\t    \t    \n",
            "init\t [-1.05710106  0.39748336]\t 1.4334486961549602\t 1.4334486961549602\t    \t    \n",
            "1  \t [ 5.12       -2.90720813]\t 43.11811824087371\t 1.4334486961549602\t 3.7008731761352043\t 4.308503513506956\n",
            "2  \t [5.12 5.12]\t 78.64320000000001\t 1.4334486961549602\t 3.3691934822803735\t 4.13815094883741\n",
            "3  \t [-5.12  5.12]\t 78.64320000000001\t 1.4334486961549602\t 3.4044547597965313\t 4.001945674741267\n",
            "4  \t [ 1.00458103 -5.12      ]\t 53.43798304970471\t 1.4334486961549602\t 3.594136566504537\t 3.822125614950249\n",
            "5  \t [3.06280222 0.98369391]\t 11.316064873773257\t 1.4334486961549602\t 2.4108896600611196\t 2.259649515258434\n",
            "6  \t [0.97993134 5.12      ]\t 53.38906543465112\t 1.4334486961549602\t 2.65287170188198\t 3.3227326663522994\n",
            "7  \t [ 0.77096764 -1.43388943]\t 4.706468909703031\t 1.4334486961549602\t 2.97846571382991\t 3.7742635907669753\n",
            "8  \t [-5.12        1.44522741]\t 30.391764510387297\t 1.4334486961549602\t 3.3502079579124056\t 3.6248068807895333\n",
            "9  \t [-2.0098829  5.12     ]\t 56.46842926733282\t 1.4334486961549602\t 3.2890691347107914\t 3.948976559392781\n",
            "10 \t [5.12       1.77473545]\t 32.513771848302184\t 1.4334486961549602\t 3.378466459837609\t 3.236426628804891\n",
            "11 \t [-0.91728287 -2.6878038 ]\t 15.289986415699166\t 1.4334486961549602\t 2.2996838525289\t 2.2305737029813404\n",
            "12 \t [ 2.73809797 -1.46622274]\t 11.796798742012392\t 1.4334486961549602\t 3.2224801380345927\t 3.0937941708633656\n",
            "13 \t [0.89173946 0.7905775 ]\t 2.0452248316840365\t 1.4334486961549602\t 2.3981380191926327\t 3.3243527018676824\n",
            "14 \t [ 3.92214789 -5.12      ]\t 67.81204408637396\t 1.4334486961549602\t 2.808142347632775\t 3.5556373068585985\n",
            "15 \t [-2.71522987  0.9622305 ]\t 9.224248296670773\t 1.4334486961549602\t 2.8023138245552563\t 2.4582942308369344\n",
            "16 \t [1.90433302 2.62204674]\t 17.376742420126586\t 1.4334486961549602\t 3.406065112521848\t 3.2197244736187383\n",
            "17 \t [-1.41399555 -5.12      ]\t 54.42818340717813\t 1.4334486961549602\t 3.0772479588442097\t 3.2180594020420856\n",
            "18 \t [ 5.12       -0.51003284]\t 26.73466699616762\t 1.4334486961549602\t 3.093418260179092\t 2.9089181930203054\n",
            "19 \t [-3.2949747   2.99158091]\t 28.755970872964106\t 1.4334486961549602\t 3.0187897620353104\t 3.1162289658678706\n",
            "20 \t [3.30320028 3.88591128]\t 41.11174505273718\t 1.4334486961549602\t 2.879623602947233\t 3.3380275572643012\n"
          ]
        }
      ],
      "source": [
        "### ESTIMATED STP CBM GRADIENTS\n",
        "\n",
        "np.random.seed(run_num_1)\n",
        "surrogate_approx_1 = dtStudentProcess(cov_func, optimize=opt, nu = df)\n",
        "\n",
        "approx_1 = GPGO_multi(surrogate_approx_1, Acquisition_grad(util), objfunc, param)\n",
        "approx_1.run(init_evals=n_init, max_iter=iters)\n"
      ]
    },
    {
      "cell_type": "code",
      "execution_count": null,
      "metadata": {
        "colab": {
          "base_uri": "https://localhost:8080/"
        },
        "id": "wTxsSZxFGBB5",
        "outputId": "ad037a11-d7b6-484c-fc5f-14878954fcba"
      },
      "outputs": [
        {
          "output_type": "stream",
          "name": "stdout",
          "text": [
            "Evaluation \t Proposed point \t  Current eval. \t  Best eval. \t        Exact CBM: StdDev. x \t Approx CBM: StdDev. x \n",
            "init\t [-0.6554122  -4.85451539]\t 47.562204422038214\t 1.1358959044973735\t    \t    \n",
            "init\t [ 0.50854377 -0.6622987 ]\t 1.1358959044973735\t 1.1358959044973735\t    \t    \n",
            "init\t [-0.81543371 -1.73737143]\t 6.7018511217540135\t 1.1358959044973735\t    \t    \n",
            "init\t [-3.02439799  1.2213347 ]\t 12.13030006303276\t 1.1358959044973735\t    \t    \n",
            "init\t [-2.05153614 -2.3876887 ]\t 15.610915224537823\t 1.1358959044973735\t    \t    \n",
            "1  \t [4.81874241 3.07464552]\t 42.12716849729408\t 1.1358959044973735\t 3.7226596370893485\t 3.835848750447288\n",
            "2  \t [ 5.00937588 -3.41761904]\t 48.454086575425194\t 1.1358959044973735\t 3.069693897993094\t 4.199978113240532\n",
            "3  \t [-0.02531714  5.12      ]\t 52.4294409576998\t 1.1358959044973735\t 3.723297418269045\t 4.054278686248882\n",
            "4  \t [-5.12  5.12]\t 78.64320000000001\t 1.1358959044973735\t 3.5258873344241173\t 3.8498634595425942\n",
            "5  \t [-5.12 -5.12]\t 78.64320000000001\t 1.1358959044973735\t 3.9159868839891696\t 3.7060271521849564\n",
            "6  \t [ 3.05861289 -0.16980749]\t 9.41278198656315\t 1.1358959044973735\t 3.439645115679988\t 3.2265326437931914\n",
            "7  \t [-5.12       -1.15161951]\t 28.866855008272953\t 1.1358959044973735\t 3.0789565578769245\t 3.2828094624563144\n",
            "8  \t [0.45870218 1.70168875]\t 6.001896922468411\t 1.1358959044973735\t 2.4678214067689668\t 2.4586317542872282\n",
            "9  \t [ 1.81088618 -2.74354814]\t 18.333421569096256\t 1.1358959044973735\t 2.8785779082393295\t 3.1820705677180214\n",
            "10 \t [2.97207755 5.12      ]\t 61.26204496281758\t 1.1358959044973735\t 3.269903082535441\t 3.5740521247077464\n",
            "11 \t [ 2.57832577 -5.12      ]\t 59.076563770695756\t 1.1358959044973735\t 3.4684162145195185\t 3.4357197462049522\n",
            "12 \t [ 5.12      -0.1211831]\t 26.24377068646269\t 1.1358959044973735\t 2.6712681766188537\t 3.1235807846207875\n",
            "13 \t [-2.40298539  3.4629586 ]\t 29.758503278810693\t 1.1358959044973735\t 3.1899788750169957\t 3.2060233811554206\n",
            "14 \t [-5.12        1.88483697]\t 33.31962081898856\t 1.1358959044973735\t 3.2359009070770726\t 3.6577787871816247\n",
            "15 \t [-1.11258222  0.31843032]\t 1.4406349308293376\t 1.1358959044973735\t 3.189871305919767\t 2.7884177564691095\n",
            "16 \t [2.31910804 1.96376408]\t 13.091000842825311\t 1.1358959044973735\t 3.06787684081763\t 3.4785079771324083\n",
            "17 \t [-2.90348751 -4.35861144]\t 46.425227090156184\t 1.1358959044973735\t 2.94052470218032\t 2.8992596441764102\n",
            "18 \t [5.12 5.12]\t 78.64320000000001\t 1.1358959044973735\t 2.8779739052193793\t 3.219570436712768\n",
            "19 \t [-1.07797746  1.91675085]\t 8.509903068079785\t 1.1358959044973735\t 2.3730411229902355\t 3.115614981051088\n",
            "20 \t [-2.68772272 -0.5747257 ]\t 7.884472708231815\t 1.1358959044973735\t 2.693091325539385\t 2.631936854806217\n"
          ]
        }
      ],
      "source": [
        "### ESTIMATED STP CBM GRADIENTS\n",
        "\n",
        "np.random.seed(run_num_2)\n",
        "surrogate_approx_2 = dtStudentProcess(cov_func, optimize=opt, nu = df)\n",
        "\n",
        "approx_2 = GPGO_multi(surrogate_approx_2, Acquisition_grad(util), objfunc, param)\n",
        "approx_2.run(init_evals=n_init, max_iter=iters)\n"
      ]
    },
    {
      "cell_type": "code",
      "execution_count": null,
      "metadata": {
        "id": "-dgzIrUIGCGT",
        "colab": {
          "base_uri": "https://localhost:8080/"
        },
        "outputId": "706ef479-e772-4ddc-d539-c19edd98ca2d"
      },
      "outputs": [
        {
          "output_type": "stream",
          "name": "stdout",
          "text": [
            "Evaluation \t Proposed point \t  Current eval. \t  Best eval. \t        Exact CBM: StdDev. x \t Approx CBM: StdDev. x \n",
            "init\t [0.52017052 2.1314337 ]\t 9.356596638100186\t 4.609047504113831\t    \t    \n",
            "init\t [-2.14113547  0.11087468]\t 4.609047504113831\t 4.609047504113831\t    \t    \n",
            "init\t [4.02377681 4.05804123]\t 49.12617709674532\t 4.609047504113831\t    \t    \n",
            "init\t [-3.83400642 -2.99783293]\t 32.673609761904345\t 4.609047504113831\t    \t    \n",
            "init\t [-4.59297584 -0.6061072 ]\t 21.83015892853491\t 4.609047504113831\t    \t    \n",
            "1  \t [ 2.87042319 -1.98283743]\t 16.10261781709846\t 4.609047504113831\t 2.454203329719728\t 2.784935737557771\n",
            "2  \t [-5.12  5.12]\t 78.64320000000001\t 4.609047504113831\t 3.052186077262988\t 4.345419574088326\n",
            "3  \t [ 0.06925401 -5.12      ]\t 52.43359611753947\t 4.609047504113831\t 3.2267171135192525\t 4.070674857687113\n",
            "4  \t [ 5.12 -5.12]\t 78.64320000000001\t 4.609047504113831\t 3.234038278696004\t 3.4058853827307334\n",
            "5  \t [-0.94966383  5.12      ]\t 53.33066139648062\t 4.609047504113831\t 3.31594009203884\t 3.1098424603181876\n",
            "6  \t [5.12       0.47167101]\t 26.659347087977565\t 4.609047504113831\t 3.0681244665351715\t 2.983207705976436\n",
            "7  \t [-0.17759592 -1.52284075]\t 4.669628238897042\t 4.609047504113831\t 3.344134464652255\t 3.2214793419596766\n",
            "8  \t [-3.0962867  2.3465786]\t 20.599853537979158\t 4.609047504113831\t 3.489146640966928\t 3.3766410194450596\n",
            "9  \t [2.54647616 0.47842778]\t 6.942327103542047\t 4.609047504113831\t 2.5134852355749993\t 3.0462104574952003\n",
            "10 \t [-5.12 -5.12]\t 78.64320000000001\t 4.609047504113831\t 3.6990088929480347\t 3.7099892987295062\n",
            "11 \t [1.69393956 5.12      ]\t 55.298231239859305\t 4.609047504113831\t 2.956045152378866\t 3.3075113099115576\n",
            "12 \t [ 5.12      -2.1261936]\t 35.255798435744246\t 4.609047504113831\t 2.573787081253752\t 3.2386060824174057\n",
            "13 \t [-5.12        1.81880312]\t 32.83048954345743\t 4.609047504113831\t 3.2534427495592575\t 2.9629515221710343\n",
            "\u001b[1m\u001b[92m14\u001b[0m\t \u001b[1m\u001b[92m[0.01410376 0.25426353]\u001b[0m\t \u001b[1m\u001b[92m0.1294987981592378\u001b[0m\t \u001b[1m\u001b[92m0.1294987981592378\u001b[0m\t \u001b[1m\u001b[92m2.547245608831058\u001b[0m\t \u001b[1m\u001b[92m2.2331291851072916\u001b[0m\n",
            "15 \t [-1.44589274 -2.76651246]\t 17.397788157348515\t 0.1294987981592378\t 2.7022945305954464\t 2.6316415092508807\n",
            "16 \t [ 2.50080905 -5.12      ]\t 58.68284589723973\t 0.1294987981592378\t 2.9878497285465255\t 2.940341673495354\n",
            "17 \t [-2.39200636 -5.12      ]\t 58.15049440889744\t 0.1294987981592378\t 2.4530662383793334\t 2.5289401443921498\n",
            "18 \t [-3.15355683  4.26168039]\t 46.268760188594364\t 0.1294987981592378\t 3.0412556848001744\t 3.2120716411198216\n",
            "19 \t [ 1.01024345 -2.88175108]\t 17.629570385147588\t 0.1294987981592378\t 2.9576572970043298\t 2.7103071335529547\n",
            "20 \t [-1.15551856  1.5940779 ]\t 6.417391858806242\t 0.1294987981592378\t 2.5284700156154623\t 1.9385291710264607\n"
          ]
        }
      ],
      "source": [
        "### ESTIMATED STP CBM GRADIENTS\n",
        "\n",
        "np.random.seed(run_num_3)\n",
        "surrogate_approx_3 = dtStudentProcess(cov_func, optimize=opt, nu = df)\n",
        "\n",
        "approx_3 = GPGO_multi(surrogate_approx_3, Acquisition_grad(util), objfunc, param)\n",
        "approx_3.run(init_evals=n_init, max_iter=iters)\n"
      ]
    },
    {
      "cell_type": "code",
      "execution_count": null,
      "metadata": {
        "id": "hOtG-2sCGCKS",
        "colab": {
          "base_uri": "https://localhost:8080/"
        },
        "outputId": "668247c7-fbc1-4167-fdfe-6b5e981cc517"
      },
      "outputs": [
        {
          "output_type": "stream",
          "name": "stdout",
          "text": [
            "Evaluation \t Proposed point \t  Current eval. \t  Best eval. \t        Exact CBM: StdDev. x \t Approx CBM: StdDev. x \n",
            "init\t [4.78238555 0.48365823]\t 23.33906213310676\t 7.289910254474112\t    \t    \n",
            "init\t [4.84028785 2.19971578]\t 33.10588541607836\t 7.289910254474112\t    \t    \n",
            "init\t [ 2.02474316 -2.90724357]\t 21.003715175118646\t 7.289910254474112\t    \t    \n",
            "init\t [ 4.87705042 -5.05620219]\t 74.91598187475032\t 7.289910254474112\t    \t    \n",
            "init\t [-2.52946061 -0.66773471]\t 7.289910254474112\t 7.289910254474112\t    \t    \n",
            "1  \t [-5.12  5.12]\t 78.64320000000001\t 7.289910254474112\t 2.911853035769714\t 3.957358657366278\n",
            "2  \t [-5.12 -5.12]\t 78.64320000000001\t 7.289910254474112\t 3.7033608532828834\t 4.127054920692203\n",
            "3  \t [0.40334993 5.12      ]\t 52.59149116636695\t 7.289910254474112\t 3.3945124289616815\t 3.622577432180124\n",
            "\u001b[1m\u001b[92m4\u001b[0m\t \u001b[1m\u001b[92m[0.70938836 0.95200511]\u001b[0m\t \u001b[1m\u001b[92m2.31585929075122\u001b[0m\t \u001b[1m\u001b[92m2.31585929075122\u001b[0m\t \u001b[1m\u001b[92m3.2047524249120656\u001b[0m\t \u001b[1m\u001b[92m3.333452466228626\u001b[0m\n",
            "5  \t [-0.97430202 -5.12      ]\t 53.378064433318656\t 2.31585929075122\t 2.9982248292856992\t 3.236122902527412\n",
            "6  \t [-5.12        1.09911035]\t 28.630487133324134\t 2.31585929075122\t 3.0670022746447\t 3.2018114556390276\n",
            "7  \t [-1.91891545  2.43185003]\t 15.510025632663105\t 2.31585929075122\t 2.904634710349622\t 3.381543429681731\n",
            "8  \t [4.04281883 5.12      ]\t 68.77318408988921\t 2.31585929075122\t 3.0282922999715987\t 3.3318147771901225\n",
            "9  \t [-5.12      -1.8553629]\t 33.09914296307601\t 2.31585929075122\t 2.455356935322887\t 2.9531863374380647\n",
            "10 \t [-0.22258361 -1.26016163]\t 3.2255581341999693\t 2.31585929075122\t 2.8459814502850667\t 2.708722826805372\n",
            "11 \t [ 5.12       -2.00942013]\t 34.28993851308807\t 2.31585929075122\t 2.96399223237055\t 3.2343988969840938\n",
            "12 \t [1.96499561 2.44334275]\t 15.80105536159282\t 2.31585929075122\t 2.524372047794876\t 2.6987978723979125\n",
            "13 \t [ 2.18673819 -0.3420991 ]\t 5.015887498112359\t 2.31585929075122\t 2.951793895638413\t 3.005196980800778\n",
            "14 \t [-2.38384015 -2.74169077]\t 20.71643038742824\t 2.31585929075122\t 2.100559547476816\t 2.5245184539713845\n",
            "15 \t [-2.28357206  5.12      ]\t 57.643501369229746\t 2.31585929075122\t 2.908797884938925\t 2.8928619107287084\n",
            "16 \t [ 1.8622561 -5.12     ]\t 55.89679778253281\t 2.31585929075122\t 2.7076325707592597\t 2.783876354954196\n",
            "17 \t [-4.01266167  3.07371324]\t 34.996879805296906\t 2.31585929075122\t 2.616870717919089\t 2.7616748972881884\n",
            "\u001b[1m\u001b[92m18\u001b[0m\t \u001b[1m\u001b[92m[-0.94561519  0.49515953]\u001b[0m\t \u001b[1m\u001b[92m1.384553996189018\u001b[0m\t \u001b[1m\u001b[92m1.384553996189018\u001b[0m\t \u001b[1m\u001b[92m3.026432118159476\u001b[0m\t \u001b[1m\u001b[92m2.05182547410228\u001b[0m\n",
            "19 \t [-0.04624321  2.54308082]\t 12.936658592013146\t 1.384553996189018\t 3.1172550740689293\t 2.5589316984679207\n",
            "20 \t [-0.07635407 -2.7576006 ]\t 15.214552076329356\t 1.384553996189018\t 2.780772022078069\t 2.4599104312241704\n"
          ]
        }
      ],
      "source": [
        "### ESTIMATED STP CBM GRADIENTS\n",
        "\n",
        "np.random.seed(run_num_4)\n",
        "surrogate_approx_4 = dtStudentProcess(cov_func, optimize=opt, nu = df)\n",
        "\n",
        "approx_4= GPGO_multi(surrogate_approx_4, Acquisition_grad(util), objfunc, param)\n",
        "approx_4.run(init_evals=n_init, max_iter=iters)\n"
      ]
    },
    {
      "cell_type": "code",
      "execution_count": null,
      "metadata": {
        "id": "JF_SxcEvGCOl",
        "colab": {
          "base_uri": "https://localhost:8080/"
        },
        "outputId": "16c123bc-3e39-4ce4-83d6-56182e93a595"
      },
      "outputs": [
        {
          "output_type": "stream",
          "name": "stdout",
          "text": [
            "Evaluation \t Proposed point \t  Current eval. \t  Best eval. \t        Exact CBM: StdDev. x \t Approx CBM: StdDev. x \n",
            "init\t [-2.84678993  3.79629882]\t 36.927982283829365\t 2.6327313115208373\t    \t    \n",
            "init\t [-3.00319585  4.2865757 ]\t 45.76864772649561\t 2.6327313115208373\t    \t    \n",
            "init\t [-0.11866943  1.14425716]\t 2.6327313115208373\t 2.6327313115208373\t    \t    \n",
            "init\t [2.72289645 0.1886002 ]\t 7.485305147100433\t 2.6327313115208373\t    \t    \n",
            "init\t [-2.08076286 -3.19773462]\t 24.780587476435763\t 2.6327313115208373\t    \t    \n",
            "1  \t [ 5.12       -4.92049497]\t 74.63694147045135\t 2.6327313115208373\t 4.51748771961911\t 4.75216973814078\n",
            "2  \t [5.12 5.12]\t 78.64320000000001\t 2.6327313115208373\t 4.22186754729349\t 4.188673839204824\n",
            "3  \t [-5.12      -0.0409718]\t 26.217757377421762\t 2.6327313115208373\t 3.608532108370981\t 3.868908355167205\n",
            "4  \t [0.97508388 5.12      ]\t 53.379588572805794\t 2.6327313115208373\t 3.394125535267154\t 3.4631581107392484\n",
            "5  \t [-5.12 -5.12]\t 78.64320000000001\t 2.6327313115208373\t 3.377837399263539\t 3.6952526637814684\n",
            "6  \t [ 1.07830514 -5.12      ]\t 53.591541975714854\t 2.6327313115208373\t 2.981623734979076\t 3.163008201390737\n",
            "7  \t [ 5.12       -1.17391887]\t 28.970571012020525\t 2.6327313115208373\t 2.2669209322725776\t 2.6972799985798974\n",
            "8  \t [ 0.63924375 -1.53393641]\t 5.114554388170706\t 2.6327313115208373\t 2.9506583830216893\t 3.166212589998567\n",
            "9  \t [-2.10372306  0.05604887]\t 4.431933679005166\t 2.6327313115208373\t 2.886158156853974\t 3.205211360499882\n",
            "10 \t [5.12       1.82804962]\t 32.89793083438004\t 2.6327313115208373\t 2.8686092908465617\t 3.2910803056693463\n",
            "11 \t [1.93758534 2.31559247]\t 14.47817395152712\t 2.6327313115208373\t 2.9320008256086\t 3.197102460064305\n",
            "12 \t [ 2.67009407 -2.51834114]\t 19.81348653475459\t 2.6327313115208373\t 2.596708314270756\t 2.9407784886331676\n",
            "13 \t [-5.12        2.55123703]\t 39.23202075480426\t 2.6327313115208373\t 3.0207767620819808\t 3.343850204919783\n",
            "14 \t [-5.12       -2.32789892]\t 37.05262674631873\t 2.6327313115208373\t 2.443504856713148\t 2.855819870254554\n",
            "15 \t [-0.62567167  2.71326296]\t 15.115056798125378\t 2.6327313115208373\t 2.545234813504083\t 2.866773532312804\n",
            "16 \t [-5.12  5.12]\t 78.64320000000001\t 2.6327313115208373\t 2.5877139647823424\t 3.100047840981708\n",
            "17 \t [-1.8316602 -5.12     ]\t 55.78377909182435\t 2.6327313115208373\t 2.71608552538215\t 2.6915458276163955\n",
            "18 \t [-0.96873252 -1.13857198]\t 3.5311350022802985\t 2.6327313115208373\t 2.3552700684008436\t 2.4374418638583877\n",
            "19 \t [-2.75474218  1.62615386]\t 12.877357234769768\t 2.6327313115208373\t 2.2806767361197067\t 2.302732313505647\n",
            "20 \t [-0.88191226  5.12      ]\t 53.20656924123162\t 2.6327313115208373\t 2.7432479834700003\t 2.775255329434506\n"
          ]
        }
      ],
      "source": [
        "### ESTIMATED STP CBM GRADIENTS\n",
        "\n",
        "np.random.seed(run_num_5)\n",
        "surrogate_approx_5 = dtStudentProcess(cov_func, optimize=opt, nu = df)\n",
        "\n",
        "approx_5 = GPGO_multi(surrogate_approx_5, Acquisition_grad(util), objfunc, param)\n",
        "approx_5.run(init_evals=n_init, max_iter=iters)\n"
      ]
    },
    {
      "cell_type": "code",
      "execution_count": null,
      "metadata": {
        "id": "-kDxZtJsGCR3",
        "colab": {
          "base_uri": "https://localhost:8080/"
        },
        "outputId": "f6ec1f21-2219-4c11-a8ad-45c738fe8e08"
      },
      "outputs": [
        {
          "output_type": "stream",
          "name": "stdout",
          "text": [
            "Evaluation \t Proposed point \t  Current eval. \t  Best eval. \t        Exact CBM: StdDev. x \t Approx CBM: StdDev. x \n",
            "init\t [ 4.02288795 -1.72052679]\t 22.104052359713652\t 1.4757178799086357\t    \t    \n",
            "init\t [ 3.28938622 -4.69302655]\t 54.869058151382724\t 1.4757178799086357\t    \t    \n",
            "init\t [-4.0175956   0.97333314]\t 18.035829177697114\t 1.4757178799086357\t    \t    \n",
            "init\t [ 0.30532979 -0.83141193]\t 1.4757178799086357\t 1.4757178799086357\t    \t    \n",
            "init\t [-1.68542362  1.25459899]\t 5.988690020231891\t 1.4757178799086357\t    \t    \n",
            "1  \t [5.12 5.12]\t 78.64320000000001\t 1.4757178799086357\t 3.8637534665207807\t 3.932533092991315\n",
            "2  \t [-5.12 -5.12]\t 78.64320000000001\t 1.4757178799086357\t 3.744717503864099\t 3.757856537945605\n",
            "3  \t [0.07227341 5.12      ]\t 52.43402344513565\t 1.4757178799086357\t 3.07624443101288\t 3.4932767014874293\n",
            "4  \t [-5.12  5.12]\t 78.64320000000001\t 1.4757178799086357\t 3.1062860635083536\t 4.174338428033953\n",
            "5  \t [-0.93221325 -4.09631561]\t 34.42862473658335\t 1.4757178799086357\t 2.630508832945914\t 2.7636303215559685\n",
            "6  \t [2.43109523 1.76320067]\t 12.12797721344235\t 1.4757178799086357\t 2.5821309112337976\t 3.240146787758799\n",
            "7  \t [5.12       1.32143023]\t 29.70675572556908\t 1.4757178799086357\t 3.234790696165979\t 3.58841768208699\n",
            "8  \t [-3.49505895 -1.93679817]\t 19.71781136174373\t 1.4757178799086357\t 2.647097571502363\t 3.0036200624862026\n",
            "9  \t [-2.53493363  3.7798051 ]\t 34.99974170514984\t 1.4757178799086357\t 2.5914580742171087\t 2.776382466384486\n",
            "10 \t [ 1.44678736 -2.77830833]\t 17.531188027798347\t 1.4757178799086357\t 3.208611625123636\t 3.3939944083286164\n",
            "11 \t [0.22508817 1.76648088]\t 6.291574092690889\t 1.4757178799086357\t 3.2960539671830227\t 3.279586231352342\n",
            "12 \t [-1.40035325 -0.85056983]\t 3.407927302431827\t 1.4757178799086357\t 2.8447037213487554\t 3.3910101884892447\n",
            "13 \t [2.46605903 4.48192011]\t 46.256662846283454\t 1.4757178799086357\t 2.759877511455257\t 3.2132394017005033\n",
            "14 \t [ 1.97448556 -0.26388927]\t 4.037868327687717\t 1.4757178799086357\t 2.6256387350278354\t 3.167902748940783\n",
            "15 \t [-5.12       -0.85648774]\t 27.68154248913148\t 1.4757178799086357\t 3.0287860800307\t 3.4834085786290565\n",
            "16 \t [-5.12       2.4271291]\t 37.99631131833377\t 1.4757178799086357\t 2.8008828557632293\t 3.063264056917656\n",
            "17 \t [ 1.02697019 -5.12      ]\t 53.4834677801192\t 1.4757178799086357\t 3.0174572762147105\t 3.4652323370744518\n",
            "18 \t [-2.6219952 -5.12     ]\t 59.30365884853077\t 1.4757178799086357\t 2.9627308511463633\t 2.8836236333349086\n",
            "19 \t [ 5.12       -3.40851016]\t 49.45028304528199\t 1.4757178799086357\t 2.834413635179207\t 2.922667174812289\n",
            "20 \t [4.25440003 3.14351415]\t 37.86328205476998\t 1.4757178799086357\t 3.0103769332955244\t 2.9070706471649705\n"
          ]
        }
      ],
      "source": [
        "### ESTIMATED STP CBM GRADIENTS\n",
        "\n",
        "np.random.seed(run_num_6)\n",
        "surrogate_approx_6 = dtStudentProcess(cov_func, optimize=opt, nu = df)\n",
        "\n",
        "approx_6 = GPGO_multi(surrogate_approx_6, Acquisition_grad(util), objfunc, param)\n",
        "approx_6.run(init_evals=n_init, max_iter=iters)\n"
      ]
    },
    {
      "cell_type": "code",
      "execution_count": null,
      "metadata": {
        "id": "fKB8MCD_GCVI",
        "colab": {
          "base_uri": "https://localhost:8080/"
        },
        "outputId": "252de595-ab90-4469-ace4-2b677381e55a"
      },
      "outputs": [
        {
          "output_type": "stream",
          "name": "stdout",
          "text": [
            "Evaluation \t Proposed point \t  Current eval. \t  Best eval. \t        Exact CBM: StdDev. x \t Approx CBM: StdDev. x \n",
            "init\t [-4.33860312  2.86636843]\t 35.25561298730891\t 5.622520458601941\t    \t    \n",
            "init\t [-0.63068947  2.28828342]\t 10.870251237170722\t 5.622520458601941\t    \t    \n",
            "init\t [4.8946126  0.39419771]\t 24.268016205804518\t 5.622520458601941\t    \t    \n",
            "init\t [ 0.01147355 -4.38219639]\t 38.407422120416236\t 5.622520458601941\t    \t    \n",
            "init\t [-2.37118484e+00 -1.20319155e-03]\t 5.622520458601941\t 5.622520458601941\t    \t    \n",
            "1  \t [-5.12 -5.12]\t 78.64320000000001\t 5.622520458601941\t 3.4821722731430476\t 3.8163407939490197\n",
            "2  \t [ 5.12 -5.12]\t 78.64320000000001\t 5.622520458601941\t 3.7292951581762575\t 4.067586540345629\n",
            "3  \t [3.47854196 5.12      ]\t 64.52905415560721\t 5.622520458601941\t 3.8532831697684626\t 3.9677763654022202\n",
            "4  \t [-4.02558214 -1.33646422]\t 19.777584798449002\t 5.622520458601941\t 2.8874312064561107\t 3.046307140328312\n",
            "\u001b[1m\u001b[92m5\u001b[0m\t \u001b[1m\u001b[92m[ 1.31259082 -0.73588243]\u001b[0m\t \u001b[1m\u001b[92m2.8059405728082196\u001b[0m\t \u001b[1m\u001b[92m2.8059405728082196\u001b[0m\t \u001b[1m\u001b[92m3.11071061247537\u001b[0m\t \u001b[1m\u001b[92m3.1832261647372055\u001b[0m\n",
            "6  \t [-1.43841273  5.12      ]\t 54.49783119309484\t 2.8059405728082196\t 2.977016565429684\t 3.6520920116552653\n",
            "7  \t [ 3.04159047 -2.38299835]\t 20.60863485615048\t 2.8059405728082196\t 2.7849691597689836\t 2.9334428348892008\n",
            "8  \t [2.12622953 1.83058458]\t 11.222931822861632\t 2.8059405728082196\t 2.968713843584463\t 3.732035568945107\n",
            "9  \t [-0.7329035  -1.48412566]\t 4.942405498503102\t 2.8059405728082196\t 3.017450429458701\t 3.529989485823365\n",
            "10 \t [-5.12  5.12]\t 78.64320000000001\t 2.8059405728082196\t 2.7062922451706037\t 3.7252453960880607\n",
            "11 \t [-2.52106334 -3.39993308]\t 29.474850194252447\t 2.8059405728082196\t 3.045316824409674\t 3.427412735992648\n",
            "12 \t [-5.12       0.5374276]\t 26.792056861224452\t 2.8059405728082196\t 3.598633097320165\t 3.563068078002982\n",
            "13 \t [5.12       2.86332942]\t 42.611710774205505\t 2.8059405728082196\t 3.3750932794192554\t 3.4397699395610797\n",
            "\u001b[1m\u001b[92m14\u001b[0m\t \u001b[1m\u001b[92m[-0.13252874  0.34413709]\u001b[0m\t \u001b[1m\u001b[92m0.2544245434014217\u001b[0m\t \u001b[1m\u001b[92m0.2544245434014217\u001b[0m\t \u001b[1m\u001b[92m2.44339684446235\u001b[0m\t \u001b[1m\u001b[92m2.64916788667779\u001b[0m\n",
            "15 \t [ 2.32831135 -5.12      ]\t 57.84983375820105\t 0.2544245434014217\t 3.3204369134961116\t 3.377397813093296\n",
            "16 \t [1.02659163 4.16968708]\t 35.82647103353278\t 0.2544245434014217\t 2.6510045927081483\t 2.9236976344368806\n",
            "17 \t [ 5.12      -2.0439784]\t 34.57009542256309\t 0.2544245434014217\t 2.8269238725779227\t 2.474699724203325\n",
            "18 \t [-2.31165767  1.69230315]\t 11.071541038383012\t 0.2544245434014217\t 3.6502207472808434\t 3.3762302739931562\n",
            "19 \t [ 2.78787644 -0.06873909]\t 7.781705147750055\t 0.2544245434014217\t 3.3928288983273553\t 3.0856200931677735\n",
            "20 \t [ 0.82917275 -2.16879497]\t 10.094870718891642\t 0.2544245434014217\t 3.156760021540644\t 2.6100287546701733\n"
          ]
        }
      ],
      "source": [
        "### ESTIMATED STP CBM GRADIENTS\n",
        "\n",
        "np.random.seed(run_num_7)\n",
        "surrogate_approx_7 = dtStudentProcess(cov_func, optimize=opt, nu = df)\n",
        "\n",
        "approx_7 = GPGO_multi(surrogate_approx_7, Acquisition_grad(util), objfunc, param)\n",
        "approx_7.run(init_evals=n_init, max_iter=iters)\n"
      ]
    },
    {
      "cell_type": "code",
      "execution_count": null,
      "metadata": {
        "id": "4unvifF-GCXp",
        "colab": {
          "base_uri": "https://localhost:8080/"
        },
        "outputId": "a84579ae-75b1-4971-ee37-8e4c682e5b89"
      },
      "outputs": [
        {
          "output_type": "stream",
          "name": "stdout",
          "text": [
            "Evaluation \t Proposed point \t  Current eval. \t  Best eval. \t        Exact CBM: StdDev. x \t Approx CBM: StdDev. x \n",
            "init\t [3.82391708 4.79785639]\t 60.661193695854244\t 0.1518306274298758\t    \t    \n",
            "init\t [3.78055209 0.31596228]\t 14.492238445440277\t 0.1518306274298758\t    \t    \n",
            "init\t [-2.73686192 -5.00327624]\t 57.555959528959804\t 0.1518306274298758\t    \t    \n",
            "init\t [-0.7119993  -0.99992207]\t 2.506631309190485\t 0.1518306274298758\t    \t    \n",
            "init\t [ 0.23218863 -0.22126801]\t 0.1518306274298758\t 0.1518306274298758\t    \t    \n",
            "1  \t [-0.62940142  2.80166871]\t 16.094841313270745\t 0.1518306274298758\t 3.1817043261519435\t 3.8867192708299823\n",
            "2  \t [ 5.12 -5.12]\t 78.64320000000001\t 0.1518306274298758\t 3.3146082005358695\t 4.048711489553452\n",
            "3  \t [-5.12  5.12]\t 78.64320000000001\t 0.1518306274298758\t 3.2009243813527104\t 3.6910924415399116\n",
            "4  \t [-5.12       -0.23144435]\t 26.321532973900258\t 0.1518306274298758\t 3.4397571530985886\t 3.3803083570276122\n",
            "5  \t [ 1.25050486 -3.61718884]\t 27.731872619857267\t 0.1518306274298758\t 3.479725179616789\t 3.240179476169243\n",
            "6  \t [0.47308606 5.12      ]\t 52.652610418984224\t 0.1518306274298758\t 3.7102580100947655\t 3.5731645923991056\n",
            "7  \t [-3.32311259  2.13420866]\t 20.152770487079472\t 0.1518306274298758\t 3.1674346905247104\t 3.23907313875349\n",
            "8  \t [ 5.12       -1.86516406]\t 33.1720739508397\t 0.1518306274298758\t 3.593441581814\t 3.4559716025152514\n",
            "9  \t [-2.72696368 -1.81242419]\t 14.006093800198098\t 0.1518306274298758\t 3.51007795442236\t 3.330947232129108\n",
            "10 \t [-5.12       -3.24369792]\t 47.25755244331087\t 0.1518306274298758\t 3.2490644932625745\t 3.765491497434286\n",
            "11 \t [1.73086196 1.74428545]\t 9.08094653975633\t 0.1518306274298758\t 3.3722944228049396\t 3.300134823825855\n",
            "12 \t [5.12       2.16986861]\t 35.63105959655932\t 0.1518306274298758\t 2.637692459247956\t 3.043010948219032\n",
            "13 \t [ 1.87882766 -1.06645791]\t 5.80465831523704\t 0.1518306274298758\t 3.1810641452329476\t 3.3631706138852486\n",
            "14 \t [-2.25864151  5.12      ]\t 57.530261480009706\t 0.1518306274298758\t 3.295817184044182\t 3.328170530446411\n",
            "15 \t [-1.53049505  0.54171661]\t 2.9293288738435246\t 0.1518306274298758\t 2.8612516661725995\t 2.652256912581475\n",
            "16 \t [-0.88901032 -2.85513601]\t 17.09394265315693\t 0.1518306274298758\t 3.245212455848647\t 3.185054253878108\n",
            "17 \t [-0.09627126 -5.12      ]\t 52.438068155431836\t 0.1518306274298758\t 2.7705304589492137\t 3.128141191998392\n",
            "18 \t [-5.12       2.3974954]\t 37.710368352929365\t 0.1518306274298758\t 2.751873351073822\t 3.005415506836204\n",
            "19 \t [ 3.10542686 -2.77994375]\t 25.09985043771342\t 0.1518306274298758\t 2.512188699087604\t 2.384932759744719\n",
            "20 \t [ 0.54513019 -1.89258992]\t 7.460960159446614\t 0.1518306274298758\t 2.6654492027632646\t 2.669289135502092\n"
          ]
        }
      ],
      "source": [
        "### ESTIMATED STP CBM GRADIENTS\n",
        "\n",
        "np.random.seed(run_num_8)\n",
        "surrogate_approx_8 = dtStudentProcess(cov_func, optimize=opt, nu = df)\n",
        "\n",
        "approx_8 = GPGO_multi(surrogate_approx_8, Acquisition_grad(util), objfunc, param)\n",
        "approx_8.run(init_evals=n_init, max_iter=iters)\n"
      ]
    },
    {
      "cell_type": "code",
      "execution_count": null,
      "metadata": {
        "id": "85OIXcg7GCaJ",
        "colab": {
          "base_uri": "https://localhost:8080/"
        },
        "outputId": "3d86c49a-e0fe-4c01-ba11-fd4009435c5b"
      },
      "outputs": [
        {
          "output_type": "stream",
          "name": "stdout",
          "text": [
            "Evaluation \t Proposed point \t  Current eval. \t  Best eval. \t        Exact CBM: StdDev. x \t Approx CBM: StdDev. x \n",
            "init\t [-5.01376866  0.01919582]\t 25.138613177506063\t 14.00341364504739\t    \t    \n",
            "init\t [-0.04328148 -3.74958562]\t 28.12065798163534\t 14.00341364504739\t    \t    \n",
            "init\t [-3.66478248 -2.88195916]\t 30.04200788009657\t 14.00341364504739\t    \t    \n",
            "init\t [-0.83447623 -2.57944404]\t 14.00341364504739\t 14.00341364504739\t    \t    \n",
            "init\t [-4.25922917 -1.58209393]\t 23.14707552082245\t 14.00341364504739\t    \t    \n",
            "1  \t [3.11029524 4.9495987 ]\t 58.67099112867045\t 14.00341364504739\t 2.9657938657145837\t 3.0418132774937487\n",
            "2  \t [ 5.12       -0.72642137]\t 27.269776012686833\t 14.00341364504739\t 3.5644401887858606\t 4.212181321032368\n",
            "3  \t [-2.7977129  5.12     ]\t 60.25599744402073\t 14.00341364504739\t 2.7487965256009033\t 4.465598874362273\n",
            "4  \t [ 4.67588656 -5.12      ]\t 74.29271509822388\t 14.00341364504739\t 3.197172893390827\t 3.8517039249276372\n",
            "\u001b[1m\u001b[92m5\u001b[0m\t \u001b[1m\u001b[92m[0.16317133 1.40713756]\u001b[0m\t \u001b[1m\u001b[92m3.9866970917037614\u001b[0m\t \u001b[1m\u001b[92m3.9866970917037614\u001b[0m\t \u001b[1m\u001b[92m3.5184154237128014\u001b[0m\t \u001b[1m\u001b[92m2.983978434265019\u001b[0m\n",
            "6  \t [ 1.83602387 -0.75540637]\t 4.512261218048335\t 3.9866970917037614\t 3.0590614189026453\t 3.002591543554722\n",
            "7  \t [-2.32049106  1.59674255]\t 10.483852307548547\t 3.9866970917037614\t 3.2333676612622155\t 3.2580267447851217\n",
            "8  \t [2.97263544 1.63204653]\t 14.163713191915974\t 3.9866970917037614\t 3.5719120555236845\t 3.366428375657489\n",
            "9  \t [-5.12        3.00573976]\t 44.283343046923505\t 3.9866970917037614\t 3.7661761711597532\t 3.5190378178879005\n",
            "10 \t [-5.12 -5.12]\t 78.64320000000001\t 3.9866970917037614\t 4.01660512373499\t 3.423387466863593\n",
            "11 \t [0.12680888 3.79331414]\t 28.79454485438367\t 3.9866970917037614\t 2.997897472114362\t 3.5334614337491277\n",
            "12 \t [5.12       2.64066898]\t 40.16066529035838\t 3.9866970917037614\t 2.813928963970788\t 3.197191570707427\n",
            "13 \t [ 2.70429031 -2.71206897]\t 22.02382225417646\t 3.9866970917037614\t 3.0541552145231616\t 2.670117557104026\n",
            "\u001b[1m\u001b[92m14\u001b[0m\t \u001b[1m\u001b[92m[-0.93453785 -0.36318213]\u001b[0m\t \u001b[1m\u001b[92m1.1371635074849187\u001b[0m\t \u001b[1m\u001b[92m1.1371635074849187\u001b[0m\t \u001b[1m\u001b[92m2.914551653459567\u001b[0m\t \u001b[1m\u001b[92m2.6987137460524244\u001b[0m\n",
            "15 \t [-2.04887653 -5.12      ]\t 56.6266950432493\t 1.1371635074849187\t 2.9805303989426966\t 3.2533020992281534\n",
            "16 \t [ 1.76667645 -5.12      ]\t 55.54994567940355\t 1.1371635074849187\t 3.0425229344404103\t 3.199137927007033\n",
            "17 \t [-2.38043202 -0.45183689]\t 6.074769722407009\t 1.1371635074849187\t 2.3276363462372625\t 2.5045751821972377\n",
            "\u001b[1m\u001b[92m18\u001b[0m\t \u001b[1m\u001b[92m[ 0.4448746  -0.33659453]\u001b[0m\t \u001b[1m\u001b[92m0.4245051663781826\u001b[0m\t \u001b[1m\u001b[92m0.4245051663781826\u001b[0m\t \u001b[1m\u001b[92m2.9247254512447305\u001b[0m\t \u001b[1m\u001b[92m3.088694138402763\u001b[0m\n",
            "19 \t [ 5.12       -2.76366167]\t 41.490051631707345\t 0.4245051663781826\t 3.405603719047345\t 3.1891431065183533\n",
            "20 \t [-5.12  5.12]\t 78.64320000000001\t 0.4245051663781826\t 3.1878600186051522\t 3.38884617694179\n"
          ]
        }
      ],
      "source": [
        "### ESTIMATED STP CBM GRADIENTS\n",
        "\n",
        "np.random.seed(run_num_9)\n",
        "surrogate_approx_9 = dtStudentProcess(cov_func, optimize=opt, nu = df)\n",
        "\n",
        "approx_9 = GPGO_multi(surrogate_approx_9, Acquisition_grad(util), objfunc, param)\n",
        "approx_9.run(init_evals=n_init, max_iter=iters)\n"
      ]
    },
    {
      "cell_type": "code",
      "execution_count": null,
      "metadata": {
        "id": "QQBR-qJPGCcp",
        "colab": {
          "base_uri": "https://localhost:8080/"
        },
        "outputId": "d61cd90b-3a72-493d-942d-5ca2d5c4dbe1"
      },
      "outputs": [
        {
          "output_type": "stream",
          "name": "stdout",
          "text": [
            "Evaluation \t Proposed point \t  Current eval. \t  Best eval. \t        Exact CBM: StdDev. x \t Approx CBM: StdDev. x \n",
            "init\t [ 2.77832339 -4.90750004]\t 55.886194099964676\t 14.855028828430257\t    \t    \n",
            "init\t [1.36855793 2.54775176]\t 14.855028828430257\t 14.855028828430257\t    \t    \n",
            "init\t [-0.01528819 -2.81808235]\t 15.883409988980564\t 14.855028828430257\t    \t    \n",
            "init\t [-3.09183626  2.66783449]\t 23.79413325191142\t 14.855028828430257\t    \t    \n",
            "init\t [-3.38830503 -4.2154003 ]\t 47.019810427389544\t 14.855028828430257\t    \t    \n",
            "1  \t [ 5.12       -0.36643785]\t 26.482953400284657\t 14.855028828430257\t 3.4854530164065554\t 3.942613187658114\n",
            "2  \t [5.12 5.12]\t 78.64320000000001\t 14.855028828430257\t 3.2266554167572647\t 3.9888325459139544\n",
            "3  \t [-5.12       -0.57737119]\t 26.88111498989883\t 14.855028828430257\t 3.0379415072888256\t 3.6171185724241632\n",
            "4  \t [-0.64644414  5.12      ]\t 52.84669003103518\t 14.855028828430257\t 3.583395978493692\t 3.7885536798541515\n",
            "5  \t [-5.12  5.12]\t 78.64320000000001\t 14.855028828430257\t 3.6512613156966633\t 3.536360597995809\n",
            "\u001b[1m\u001b[92m6\u001b[0m\t \u001b[1m\u001b[92m[-1.00617253  0.12533842]\u001b[0m\t \u001b[1m\u001b[92m1.0438026071827469\u001b[0m\t \u001b[1m\u001b[92m1.0438026071827469\u001b[0m\t \u001b[1m\u001b[92m3.4540189344516565\u001b[0m\t \u001b[1m\u001b[92m3.566105858073507\u001b[0m\n",
            "7  \t [ 1.88004935 -0.48971345]\t 4.014224093621119\t 1.0438026071827469\t 3.1582806079309615\t 3.271704714824751\n",
            "8  \t [ 5.12       -3.18848907]\t 46.54732514134672\t 1.0438026071827469\t 3.4012823177844873\t 3.7165903711188752\n",
            "9  \t [3.98585981 2.12693838]\t 24.93481216555739\t 1.0438026071827469\t 3.3458494044411506\t 3.334063871445351\n",
            "10 \t [-2.38525773 -1.24589252]\t 8.79395078871642\t 1.0438026071827469\t 3.2777360996202063\t 3.7165441500344585\n",
            "11 \t [-0.49210839 -5.12      ]\t 52.67097066591704\t 1.0438026071827469\t 3.19114597079672\t 3.200907701656026\n",
            "12 \t [2.17460518 5.12      ]\t 57.15770770926359\t 1.0438026071827469\t 3.2192831230813974\t 3.168983018914126\n",
            "13 \t [-0.72732691  1.84012568]\t 7.30112948002696\t 1.0438026071827469\t 2.5390200245351133\t 3.2421107673391383\n",
            "14 \t [-5.12        1.89188249]\t 33.372838734348335\t 1.0438026071827469\t 3.338696343497842\t 3.329869612196535\n",
            "15 \t [ 2.45760099 -2.10346849]\t 14.888961995988005\t 1.0438026071827469\t 3.5792352129803238\t 3.5240906096630242\n",
            "\u001b[1m\u001b[92m16\u001b[0m\t \u001b[1m\u001b[92m[0.51765894 0.2273827 ]\u001b[0m\t \u001b[1m\u001b[92m0.3713765577709157\u001b[0m\t \u001b[1m\u001b[92m0.3713765577709157\u001b[0m\t \u001b[1m\u001b[92m3.0808603214833568\u001b[0m\t \u001b[1m\u001b[92m3.5819696843741315\u001b[0m\n",
            "17 \t [-5.12       -2.80195728]\t 41.91632916117308\t 0.3713765577709157\t 2.8768441276094885\t 3.478586356218223\n",
            "18 \t [-2.64345867  0.51664946]\t 7.521727053964778\t 0.3713765577709157\t 2.7904067765062455\t 2.4565185791741833\n",
            "19 \t [-2.84448485  5.12      ]\t 60.51989404857916\t 0.3713765577709157\t 2.7787847311868306\t 3.5966532890828304\n",
            "20 \t [-5.12 -5.12]\t 78.64320000000001\t 0.3713765577709157\t 2.9115436235759673\t 3.0980868052554422\n"
          ]
        }
      ],
      "source": [
        "### ESTIMATED STP CBM GRADIENTS\n",
        "\n",
        "np.random.seed(run_num_10)\n",
        "surrogate_approx_10 = dtStudentProcess(cov_func, optimize=opt, nu = df)\n",
        "\n",
        "approx_10 = GPGO_multi(surrogate_approx_10, Acquisition_grad(util), objfunc, param)\n",
        "approx_10.run(init_evals=n_init, max_iter=iters)\n"
      ]
    },
    {
      "cell_type": "code",
      "execution_count": null,
      "metadata": {
        "id": "JS8ejeQ2GCfi",
        "colab": {
          "base_uri": "https://localhost:8080/"
        },
        "outputId": "112373e2-86e8-45b2-bc17-b2c2fa54ef5c"
      },
      "outputs": [
        {
          "output_type": "stream",
          "name": "stdout",
          "text": [
            "Evaluation \t Proposed point \t  Current eval. \t  Best eval. \t        Exact CBM: StdDev. x \t Approx CBM: StdDev. x \n",
            "init\t [-3.27403839 -4.92057353]\t 59.14341502486697\t 0.7122141741228657\t    \t    \n",
            "init\t [-0.37664229  2.30332343]\t 10.752457105378047\t 0.7122141741228657\t    \t    \n",
            "init\t [-0.81711509 -0.14922651]\t 0.7122141741228657\t 0.7122141741228657\t    \t    \n",
            "init\t [-4.98912446 -0.12931474]\t 24.924807467825406\t 0.7122141741228657\t    \t    \n",
            "init\t [4.52410012 3.59214172]\t 46.27444610017016\t 0.7122141741228657\t    \t    \n",
            "1  \t [ 3.03550212 -4.46785095]\t 49.13765732819627\t 0.7122141741228657\t 3.103655133725172\t 4.041555293912765\n",
            "2  \t [-5.12  5.12]\t 78.64320000000001\t 0.7122141741228657\t 2.4117549523360466\t 3.5977815741522083\n",
            "3  \t [ 5.12       -0.69370485]\t 27.176852826073812\t 0.7122141741228657\t 3.1034414236699917\t 3.54601110487995\n",
            "4  \t [1.02080747 5.12      ]\t 53.47084788708138\t 0.7122141741228657\t 2.880011810594152\t 2.6981249641364133\n",
            "5  \t [-0.19478452 -2.6049917 ]\t 13.609904490119312\t 0.7122141741228657\t 2.823088238182915\t 2.7628545728903298\n",
            "6  \t [1.87192676 0.14394536]\t 3.5455503319826245\t 0.7122141741228657\t 2.9967916735505047\t 2.7763554180379155\n",
            "7  \t [-3.08305303  2.29881852]\t 20.0743491311211\t 0.7122141741228657\t 3.4122475580184637\t 3.7379890187643086\n",
            "8  \t [-2.60387053 -1.5561608 ]\t 11.623414599439872\t 0.7122141741228657\t 3.499956603941581\t 3.3225907898656692\n",
            "9  \t [-0.03645824 -5.12      ]\t 52.430129203365425\t 0.7122141741228657\t 3.78720968719232\t 3.7705008209988757\n",
            "10 \t [-1.96604331  5.12      ]\t 56.294126292592864\t 0.7122141741228657\t 2.909729973126172\t 3.2898812271891003\n",
            "11 \t [-5.12       -2.77324337]\t 41.59615753655336\t 0.7122141741228657\t 3.7700885813985345\t 3.7703327589154663\n",
            "12 \t [2.08547957 2.08732787]\t 13.06310032134536\t 0.7122141741228657\t 3.4531913317749376\t 3.378409604457027\n",
            "13 \t [ 2.31193512 -1.68881488]\t 11.049235385339053\t 0.7122141741228657\t 2.9735432777556077\t 3.0135568842026834\n",
            "14 \t [ 5.12       -3.18999218]\t 46.566500258878364\t 0.7122141741228657\t 3.5619985844594897\t 3.6019103438890787\n",
            "15 \t [-5.12        2.23105666]\t 36.16962765970087\t 0.7122141741228657\t 3.267951163141501\t 3.0424677622229144\n",
            "16 \t [-2.21884687  0.42626731]\t 5.2866890552953265\t 0.7122141741228657\t 3.2325320426604036\t 3.5369481102156706\n",
            "17 \t [3.75882973 0.98846401]\t 16.082923158522256\t 0.7122141741228657\t 2.4042294806274978\t 2.3333868978058954\n",
            "18 \t [ 0.51314396 -0.55020585]\t 0.8687696814415349\t 0.7122141741228657\t 3.098527899536849\t 3.133385624600158\n",
            "19 \t [3.19952989 5.12      ]\t 62.66579149633161\t 0.7122141741228657\t 2.9439065059252574\t 2.9453429471828994\n",
            "20 \t [0.42389144 0.86165601]\t 1.6645861087113885\t 0.7122141741228657\t 3.4160092199115937\t 3.7978056755062553\n"
          ]
        }
      ],
      "source": [
        "### ESTIMATED STP CBM GRADIENTS\n",
        "\n",
        "np.random.seed(run_num_11)\n",
        "surrogate_approx_11 = dtStudentProcess(cov_func, optimize=opt, nu = df)\n",
        "\n",
        "approx_11 = GPGO_multi(surrogate_approx_11, Acquisition_grad(util), objfunc, param)\n",
        "approx_11.run(init_evals=n_init, max_iter=iters)\n"
      ]
    },
    {
      "cell_type": "code",
      "execution_count": null,
      "metadata": {
        "id": "DXwjUVZ4GCii",
        "colab": {
          "base_uri": "https://localhost:8080/"
        },
        "outputId": "de547837-ea6c-4047-a91f-8e3b25c3cb60"
      },
      "outputs": [
        {
          "output_type": "stream",
          "name": "stdout",
          "text": [
            "Evaluation \t Proposed point \t  Current eval. \t  Best eval. \t        Exact CBM: StdDev. x \t Approx CBM: StdDev. x \n",
            "init\t [-3.54137249  2.45810889]\t 24.62591779447066\t 6.112828495563743\t    \t    \n",
            "init\t [-2.42365424  0.34549139]\t 6.112828495563743\t 6.112828495563743\t    \t    \n",
            "init\t [-4.97075238  4.28796936]\t 61.48174177959852\t 6.112828495563743\t    \t    \n",
            "init\t [ 4.10332011 -4.77776458]\t 62.49130467854858\t 6.112828495563743\t    \t    \n",
            "init\t [ 4.6791612  -3.71497655]\t 49.4966510918416\t 6.112828495563743\t    \t    \n",
            "1  \t [5.12 5.12]\t 78.64320000000001\t 6.112828495563743\t 3.705251380733214\t 3.4957259451711327\n",
            "2  \t [-5.12 -5.12]\t 78.64320000000001\t 6.112828495563743\t 3.519141116263808\t 3.112048825021908\n",
            "3  \t [2.22918476 0.7680363 ]\t 6.1490242043928705\t 6.112828495563743\t 2.792050784746846\t 2.6224191083210973\n",
            "4  \t [0.21517029 5.12      ]\t 52.475098254678194\t 6.112828495563743\t 3.041062297267091\t 3.202313131322271\n",
            "5  \t [-0.49940319 -3.56827081]\t 25.714516690783572\t 6.112828495563743\t 2.7357355993278514\t 2.7880777021239393\n",
            "6  \t [-5.12       -1.13521192]\t 28.79181221708258\t 6.112828495563743\t 2.5953484218831084\t 3.1105848521035724\n",
            "7  \t [5.12       0.27121469]\t 26.361514815560273\t 6.112828495563743\t 2.605457022265373\t 3.1396485711292326\n",
            "\u001b[1m\u001b[92m8\u001b[0m\t \u001b[1m\u001b[92m[-0.18119273  1.69399146]\u001b[0m\t \u001b[1m\u001b[92m5.772044963179367\u001b[0m\t \u001b[1m\u001b[92m5.772044963179367\u001b[0m\t \u001b[1m\u001b[92m2.576716222206384\u001b[0m\t \u001b[1m\u001b[92m3.0124530988023226\u001b[0m\n",
            "9  \t [ 1.940145   -1.72144179]\t 9.690886299821903\t 5.772044963179367\t 2.383585222867801\t 2.9442544636092904\n",
            "10 \t [2.65626838 3.00540387]\t 25.120666567480484\t 5.772044963179367\t 2.971539352565686\t 3.404627771646755\n",
            "\u001b[1m\u001b[92m11\u001b[0m\t \u001b[1m\u001b[92m[-0.39650052 -0.69262242]\u001b[0m\t \u001b[1m\u001b[92m1.1166642916075493\u001b[0m\t \u001b[1m\u001b[92m1.1166642916075493\u001b[0m\t \u001b[1m\u001b[92m2.7079651051486042\u001b[0m\t \u001b[1m\u001b[92m2.9838987149915144\u001b[0m\n",
            "12 \t [-2.74897473 -2.32767057]\t 18.392962632285283\t 1.1166642916075493\t 2.988419445569891\t 3.169020818087906\n",
            "13 \t [ 1.29137438 -5.12      ]\t 54.096447782473476\t 1.1166642916075493\t 2.6197338602484836\t 3.3183947323684904\n",
            "14 \t [-2.20672326 -5.12      ]\t 57.29842753888804\t 1.1166642916075493\t 3.119830624428507\t 3.119589465308912\n",
            "15 \t [-1.48177245  3.18520605]\t 22.486724766821716\t 1.1166642916075493\t 2.7486681867810607\t 3.2159483352163587\n",
            "16 \t [-5.12        1.14139141]\t 28.819948697864437\t 1.1166642916075493\t 2.707970203394956\t 3.258965260658469\n",
            "17 \t [-2.51393426  5.12      ]\t 58.74866546350642\t 1.1166642916075493\t 2.6919178104403967\t 2.772997907616238\n",
            "18 \t [5.12       2.43357948]\t 38.05901812313\t 1.1166642916075493\t 2.8751085122855824\t 3.2063509485996304\n",
            "19 \t [ 3.72808901 -1.35419666]\t 17.566344846215706\t 1.1166642916075493\t 2.4834419230009055\t 2.7483093858878354\n",
            "20 \t [ 2.52826333 -3.50637259]\t 30.981412892558566\t 1.1166642916075493\t 2.7873045019421627\t 3.3026443156913867\n"
          ]
        }
      ],
      "source": [
        "### ESTIMATED STP CBM GRADIENTS\n",
        "\n",
        "np.random.seed(run_num_12)\n",
        "surrogate_approx_12 = dtStudentProcess(cov_func, optimize=opt, nu = df)\n",
        "\n",
        "approx_12 = GPGO_multi(surrogate_approx_12, Acquisition_grad(util), objfunc, param)\n",
        "approx_12.run(init_evals=n_init, max_iter=iters)\n"
      ]
    },
    {
      "cell_type": "code",
      "execution_count": null,
      "metadata": {
        "id": "CphOPndPGClX",
        "colab": {
          "base_uri": "https://localhost:8080/"
        },
        "outputId": "b4af292e-1f84-4b98-d852-cacd1943565b"
      },
      "outputs": [
        {
          "output_type": "stream",
          "name": "stdout",
          "text": [
            "Evaluation \t Proposed point \t  Current eval. \t  Best eval. \t        Exact CBM: StdDev. x \t Approx CBM: StdDev. x \n",
            "init\t [ 2.84367268 -2.68757791]\t 22.532624345992815\t 12.440151302029248\t    \t    \n",
            "init\t [3.32061217 4.76927179]\t 56.51837198799\t 12.440151302029248\t    \t    \n",
            "init\t [ 4.83943541 -0.47667971]\t 23.87458213765974\t 12.440151302029248\t    \t    \n",
            "init\t [1.11659482 2.82139151]\t 17.16728408945556\t 12.440151302029248\t    \t    \n",
            "init\t [1.45012065 2.27346667]\t 12.440151302029248\t 12.440151302029248\t    \t    \n",
            "1  \t [-5.12       -2.69938019]\t 40.787706827059935\t 12.440151302029248\t 2.871504288395826\t 3.3454660409485433\n",
            "2  \t [-5.12  5.12]\t 78.64320000000001\t 12.440151302029248\t 3.2188570910201544\t 3.7259403405012215\n",
            "3  \t [-1.05402319 -5.12      ]\t 53.53976489293123\t 12.440151302029248\t 3.2204773736742665\t 3.2948738636368384\n",
            "\u001b[1m\u001b[92m4\u001b[0m\t \u001b[1m\u001b[92m[-2.75708765  1.04858556]\u001b[0m\t \u001b[1m\u001b[92m9.800595671128116\u001b[0m\t \u001b[1m\u001b[92m9.800595671128116\u001b[0m\t \u001b[1m\u001b[92m2.997987354530074\u001b[0m\t \u001b[1m\u001b[92m3.0240732250412172\u001b[0m\n",
            "5  \t [ 5.12 -5.12]\t 78.64320000000001\t 9.800595671128116\t 3.591229525646402\t 4.103023117383321\n",
            "6  \t [-1.23960033  5.12      ]\t 53.96540897361486\t 9.800595671128116\t 3.021525733511757\t 3.31121402688439\n",
            "\u001b[1m\u001b[92m7\u001b[0m\t \u001b[1m\u001b[92m[-0.38720985 -1.17636371]\u001b[0m\t \u001b[1m\u001b[92m2.9175946483930613\u001b[0m\t \u001b[1m\u001b[92m2.9175946483930613\u001b[0m\t \u001b[1m\u001b[92m3.634489664855244\u001b[0m\t \u001b[1m\u001b[92m3.0152116737853056\u001b[0m\n",
            "8  \t [5.12       2.30983476]\t 36.88507319652224\t 2.9175946483930613\t 3.436311275448164\t 3.3686318082159157\n",
            "9  \t [-5.12        1.36493288]\t 29.940483508148944\t 2.9175946483930613\t 3.4744442482008333\t 3.071197288397078\n",
            "10 \t [-2.31167535 -1.89595521]\t 12.533135291518185\t 2.9175946483930613\t 3.089854058504329\t 3.1444397294364776\n",
            "\u001b[1m\u001b[92m11\u001b[0m\t \u001b[1m\u001b[92m[ 1.58650877 -0.15064064]\u001b[0m\t \u001b[1m\u001b[92m2.5623952836133745\u001b[0m\t \u001b[1m\u001b[92m2.5623952836133745\u001b[0m\t \u001b[1m\u001b[92m3.2045272851348816\u001b[0m\t \u001b[1m\u001b[92m3.0379916913654905\u001b[0m\n",
            "12 \t [-4.16468927 -5.12      ]\t 69.77343671459323\t 2.5623952836133745\t 3.8299665439963335\t 3.2954590187681494\n",
            "13 \t [ 1.88606832 -5.12      ]\t 55.98605370811852\t 2.5623952836133745\t 3.0952507010666146\t 2.3109780701400706\n",
            "\u001b[1m\u001b[92m14\u001b[0m\t \u001b[1m\u001b[92m[-0.5468148   0.86610271]\u001b[0m\t \u001b[1m\u001b[92m1.799274240394213\u001b[0m\t \u001b[1m\u001b[92m1.799274240394213\u001b[0m\t \u001b[1m\u001b[92m2.593682945377705\u001b[0m\t \u001b[1m\u001b[92m1.8731178793347847\u001b[0m\n",
            "15 \t [-2.8483461   3.00638154]\t 26.18973536182856\t 1.799274240394213\t 2.947133353446002\t 2.7606468249029676\n",
            "16 \t [ 0.37362779 -2.61301577]\t 13.795300501846363\t 1.799274240394213\t 2.9535670214387872\t 3.039551509244239\n",
            "17 \t [2.90762966 0.88508261]\t 10.021052699959304\t 1.799274240394213\t 3.587439217765489\t 3.617961429543134\n",
            "18 \t [ 5.12       -2.64010794]\t 40.1547398301157\t 1.799274240394213\t 2.6856728472960243\t 3.00435430043088\n",
            "19 \t [-3.81842815 -0.5820866 ]\t 15.258043141131939\t 1.799274240394213\t 3.1309555894584786\t 3.204185219600915\n",
            "20 \t [1.05245306 5.12      ]\t 53.536457446759684\t 1.799274240394213\t 3.1858184963829714\t 3.4851679820581167\n"
          ]
        }
      ],
      "source": [
        "### ESTIMATED STP CBM GRADIENTS\n",
        "\n",
        "np.random.seed(run_num_13)\n",
        "surrogate_approx_13 = dtStudentProcess(cov_func, optimize=opt, nu = df)\n",
        "\n",
        "approx_13 = GPGO_multi(surrogate_approx_13, Acquisition_grad(util), objfunc, param)\n",
        "approx_13.run(init_evals=n_init, max_iter=iters)\n"
      ]
    },
    {
      "cell_type": "code",
      "execution_count": null,
      "metadata": {
        "id": "ojHTeARNGCoi",
        "colab": {
          "base_uri": "https://localhost:8080/"
        },
        "outputId": "00c5514d-da01-473d-d25d-6bd25dbee347"
      },
      "outputs": [
        {
          "output_type": "stream",
          "name": "stdout",
          "text": [
            "Evaluation \t Proposed point \t  Current eval. \t  Best eval. \t        Exact CBM: StdDev. x \t Approx CBM: StdDev. x \n",
            "init\t [0.14277984 2.79721013]\t 15.669155142359655\t 6.942951853664133\t    \t    \n",
            "init\t [ 3.7931795  -5.03759925]\t 65.14302308089468\t 6.942951853664133\t    \t    \n",
            "init\t [-1.94830412  4.68586229]\t 47.71049977745547\t 6.942951853664133\t    \t    \n",
            "init\t [ 0.13431513 -1.86076749]\t 6.942951853664133\t 6.942951853664133\t    \t    \n",
            "init\t [ 0.40140736 -2.85434939]\t 16.455748743182696\t 6.942951853664133\t    \t    \n",
            "1  \t [-5.12       -4.49908786]\t 66.69798314085202\t 6.942951853664133\t 4.219686036856204\t 4.014623713127529\n",
            "2  \t [5.12 5.12]\t 78.64320000000001\t 6.942951853664133\t 3.782650348167301\t 3.976783962286868\n",
            "3  \t [-5.12        0.70595047]\t 27.211132134936847\t 6.942951853664133\t 2.680239158904505\t 3.7318637112026978\n",
            "4  \t [ 5.12       -0.06608531]\t 26.223134537303554\t 6.942951853664133\t 2.943947331209711\t 3.3924680989443923\n",
            "\u001b[1m\u001b[92m5\u001b[0m\t \u001b[1m\u001b[92m[-1.80330738  0.04506138]\u001b[0m\t \u001b[1m\u001b[92m3.2559785792659124\u001b[0m\t \u001b[1m\u001b[92m3.2559785792659124\u001b[0m\t \u001b[1m\u001b[92m2.804069694485312\u001b[0m\t \u001b[1m\u001b[92m2.814337054639277\u001b[0m\n",
            "6  \t [-1.56753918 -5.12      ]\t 54.88597909148159\t 3.2559785792659124\t 2.7536430175006115\t 3.6298293489968825\n",
            "7  \t [-5.12  5.12]\t 78.64320000000001\t 3.2559785792659124\t 2.5693489698464025\t 2.65234703003865\n",
            "8  \t [1.88319285 0.23990717]\t 3.6615262094487817\t 3.2559785792659124\t 2.9619133684949785\t 2.915534171323791\n",
            "9  \t [3.07018319 2.45131358]\t 21.443901415662737\t 3.2559785792659124\t 2.776761637979443\t 3.1426368617056477\n",
            "10 \t [1.58558538 5.12      ]\t 54.94288100426428\t 3.2559785792659124\t 2.7749877626937764\t 2.7318296538892026\n",
            "11 \t [-3.0436356 -1.8915034]\t 16.41928786888294\t 3.2559785792659124\t 2.733781172668295\t 2.768604841588273\n",
            "12 \t [ 2.98511538 -1.91416508]\t 16.23896969930787\t 3.2559785792659124\t 2.479732842824339\t 3.0536245702972282\n",
            "13 \t [-2.67219771  1.89246504]\t 14.303488467829519\t 3.2559785792659124\t 2.860200027474529\t 2.9370190912592697\n",
            "\u001b[1m\u001b[92m14\u001b[0m\t \u001b[1m\u001b[92m[0.00975439 0.28639777]\u001b[0m\t \u001b[1m\u001b[92m0.16414251101146898\u001b[0m\t \u001b[1m\u001b[92m0.16414251101146898\u001b[0m\t \u001b[1m\u001b[92m2.6222420719959074\u001b[0m\t \u001b[1m\u001b[92m3.2069945759377294\u001b[0m\n",
            "15 \t [ 5.12       -2.62886312]\t 40.036242639271904\t 0.16414251101146898\t 2.478505936379033\t 3.0282876723856207\n",
            "16 \t [ 1.11214432 -5.12      ]\t 53.66566499718009\t 0.16414251101146898\t 3.046307927664353\t 3.272896593254793\n",
            "17 \t [-5.12       -1.67694332]\t 31.83867780376869\t 0.16414251101146898\t 2.869385678501125\t 3.414041138730451\n",
            "18 \t [-4.51139894  3.11810287]\t 39.79785136665858\t 0.16414251101146898\t 2.622905390908128\t 2.8711382474830858\n",
            "19 \t [5.12       2.73088999]\t 41.129920273761996\t 0.16414251101146898\t 2.8540296056655934\t 2.977877770866962\n",
            "20 \t [-1.20285519 -1.26267418]\t 4.63555276194672\t 0.16414251101146898\t 2.5185895594567325\t 2.8094598423071835\n"
          ]
        }
      ],
      "source": [
        "### ESTIMATED STP CBM GRADIENTS\n",
        "\n",
        "np.random.seed(run_num_14)\n",
        "surrogate_approx_14 = dtStudentProcess(cov_func, optimize=opt, nu = df)\n",
        "\n",
        "approx_14 = GPGO_multi(surrogate_approx_14, Acquisition_grad(util), objfunc, param)\n",
        "approx_14.run(init_evals=n_init, max_iter=iters)\n"
      ]
    },
    {
      "cell_type": "code",
      "execution_count": null,
      "metadata": {
        "id": "vCJzn4vWGCs3",
        "colab": {
          "base_uri": "https://localhost:8080/"
        },
        "outputId": "7e4c329b-d729-4270-fb6d-4e467bc78add"
      },
      "outputs": [
        {
          "output_type": "stream",
          "name": "stdout",
          "text": [
            "Evaluation \t Proposed point \t  Current eval. \t  Best eval. \t        Exact CBM: StdDev. x \t Approx CBM: StdDev. x \n",
            "init\t [ 3.57189322 -3.28810573]\t 34.38169974295086\t 5.478261179905657\t    \t    \n",
            "init\t [-4.56332069 -1.41784631]\t 24.84447200795673\t 5.478261179905657\t    \t    \n",
            "init\t [-2.29989449  0.3072023 ]\t 5.478261179905657\t 5.478261179905657\t    \t    \n",
            "init\t [-1.9873903  -2.00218256]\t 11.967190241167383\t 5.478261179905657\t    \t    \n",
            "init\t [-3.97576933 -2.5610341 ]\t 28.924533081850157\t 5.478261179905657\t    \t    \n",
            "1  \t [1.30790741 5.12      ]\t 54.13942179666498\t 5.478261179905657\t 3.8296105266238385\t 3.7699509812204055\n",
            "2  \t [-5.12        4.81531315]\t 72.5888815154362\t 5.478261179905657\t 3.8567526862457955\t 3.946850572694795\n",
            "3  \t [5.12       1.62319389]\t 31.483916831132543\t 5.478261179905657\t 3.46789496853045\t 3.6855122819819606\n",
            "4  \t [-0.10739845 -5.12      ]\t 52.440334426817145\t 5.478261179905657\t 2.9688698551574557\t 3.008575166779197\n",
            "\u001b[1m\u001b[92m5\u001b[0m\t \u001b[1m\u001b[92m[1.25302878 0.46100349]\u001b[0m\t \u001b[1m\u001b[92m1.9951295590777067\u001b[0m\t \u001b[1m\u001b[92m1.9951295590777067\u001b[0m\t \u001b[1m\u001b[92m3.6439496321743734\u001b[0m\t \u001b[1m\u001b[92m3.491977242603157\u001b[0m\n",
            "6  \t [5.12 5.12]\t 78.64320000000001\t 1.9951295590777067\t 4.256258631641759\t 4.043994644742439\n",
            "7  \t [-1.71916791  3.12762665]\t 22.519635288321012\t 1.9951295590777067\t 3.308792685704771\t 3.605876374676832\n",
            "8  \t [-5.12 -5.12]\t 78.64320000000001\t 1.9951295590777067\t 3.2502042656254595\t 3.962818061348953\n",
            "9  \t [-5.12        1.44951212]\t 30.416570760005254\t 1.9951295590777067\t 2.5859049649689525\t 3.05169757723969\n",
            "10 \t [ 0.77572215 -1.73934699]\t 6.652400792482439\t 1.9951295590777067\t 2.5722845727736736\t 3.1120631503573937\n",
            "11 \t [2.23388899 2.21530094]\t 14.805376586964336\t 1.9951295590777067\t 2.3702543575195936\t 2.972263796102352\n",
            "12 \t [ 5.12       -1.10259947]\t 28.64585117721794\t 1.9951295590777067\t 2.773174883034891\t 3.1627813973992187\n",
            "13 \t [ 5.12 -5.12]\t 78.64320000000001\t 1.9951295590777067\t 2.618058992541062\t 3.3692439017537414\n",
            "\u001b[1m\u001b[92m14\u001b[0m\t \u001b[1m\u001b[92m[-0.42271968  0.81485458]\u001b[0m\t \u001b[1m\u001b[92m1.5066678835171152\u001b[0m\t \u001b[1m\u001b[92m1.5066678835171152\u001b[0m\t \u001b[1m\u001b[92m2.5445157429733483\u001b[0m\t \u001b[1m\u001b[92m3.002592424502599\u001b[0m\n",
            "15 \t [ 2.66861544 -0.52578948]\t 7.674417553660256\t 1.5066678835171152\t 2.395809633981593\t 2.6030359557509284\n",
            "16 \t [-2.01518654  5.12      ]\t 56.4897768034682\t 1.5066678835171152\t 2.777721634843918\t 2.9089538995216784\n",
            "17 \t [-2.5085841 -5.12     ]\t 58.72179416834486\t 1.5066678835171152\t 2.695375360406777\t 2.872806975391454\n",
            "18 \t [0.26057445 2.41860341]\t 11.76718397895871\t 1.5066678835171152\t 2.1997573769174577\t 2.6373384927417423\n",
            "\u001b[1m\u001b[92m19\u001b[0m\t \u001b[1m\u001b[92m[-0.55043119 -0.66264452]\u001b[0m\t \u001b[1m\u001b[92m1.1811700158166385\u001b[0m\t \u001b[1m\u001b[92m1.1811700158166385\u001b[0m\t \u001b[1m\u001b[92m2.410594665088542\u001b[0m\t \u001b[1m\u001b[92m2.7282556974879153\u001b[0m\n",
            "20 \t [ 2.28763062 -5.12      ]\t 57.66205385521733\t 1.1811700158166385\t 2.3147902779343417\t 2.697340817965064\n"
          ]
        }
      ],
      "source": [
        "### ESTIMATED STP CBM GRADIENTS\n",
        "\n",
        "np.random.seed(run_num_15)\n",
        "surrogate_approx_15 = dtStudentProcess(cov_func, optimize=opt, nu = df)\n",
        "\n",
        "approx_15 = GPGO_multi(surrogate_approx_15, Acquisition_grad(util), objfunc, param)\n",
        "approx_15.run(init_evals=n_init, max_iter=iters)\n"
      ]
    },
    {
      "cell_type": "code",
      "execution_count": null,
      "metadata": {
        "id": "bGGkhp-kGCw6",
        "colab": {
          "base_uri": "https://localhost:8080/"
        },
        "outputId": "d1da1880-c5d3-45e8-d98b-99801f1e8ccc"
      },
      "outputs": [
        {
          "output_type": "stream",
          "name": "stdout",
          "text": [
            "Evaluation \t Proposed point \t  Current eval. \t  Best eval. \t        Exact CBM: StdDev. x \t Approx CBM: StdDev. x \n",
            "init\t [-2.83349935  0.23719262]\t 8.141239237549925\t 8.141239237549925\t    \t    \n",
            "init\t [ 0.51918292 -4.65303603]\t 43.571039504503474\t 8.141239237549925\t    \t    \n",
            "init\t [-1.42613673 -2.83565116]\t 18.11570093066862\t 8.141239237549925\t    \t    \n",
            "init\t [ 1.9325559  -3.44339021]\t 27.448644544199137\t 8.141239237549925\t    \t    \n",
            "init\t [-4.39987336  4.51595121]\t 60.146516261103784\t 8.141239237549925\t    \t    \n",
            "1  \t [4.90017985 5.12      ]\t 76.44056254623112\t 8.141239237549925\t 3.8343136723027977\t 4.057916071780106\n",
            "2  \t [5.12       0.06914705]\t 26.223962628947547\t 8.141239237549925\t 3.7887413141734156\t 3.7972980152080154\n",
            "3  \t [0.42926254 3.22181829]\t 20.94449255722095\t 8.141239237549925\t 3.5155305092519646\t 3.9904509619365327\n",
            "4  \t [-5.12 -5.12]\t 78.64320000000001\t 8.141239237549925\t 3.7083175192647557\t 3.7639253771421117\n",
            "5  \t [ 5.12 -5.12]\t 78.64320000000001\t 8.141239237549925\t 2.634141361418487\t 3.103795304188897\n",
            "\u001b[1m\u001b[92m6\u001b[0m\t \u001b[1m\u001b[92m[ 1.2303707  -0.05459939]\u001b[0m\t \u001b[1m\u001b[92m1.5197742573186288\u001b[0m\t \u001b[1m\u001b[92m1.5197742573186288\u001b[0m\t \u001b[1m\u001b[92m3.328953582676589\u001b[0m\t \u001b[1m\u001b[92m3.2901409768507457\u001b[0m\n",
            "7  \t [-5.12       -1.38081702]\t 30.027711274529608\t 1.5197742573186288\t 3.0405070193507644\t 3.361127717430786\n",
            "8  \t [3.04046511 2.1087216 ]\t 18.137841623732\t 1.5197742573186288\t 2.5146136039875064\t 2.7960208750850652\n",
            "9  \t [-1.32341731  5.12      ]\t 54.18023337146249\t 1.5197742573186288\t 2.650435366351541\t 3.2499995086794984\n",
            "10 \t [-5.12        1.53399403]\t 30.920675344050142\t 1.5197742573186288\t 2.905266049841879\t 3.482213950399263\n",
            "\u001b[1m\u001b[92m11\u001b[0m\t \u001b[1m\u001b[92m[-0.64188487  0.57566863]\u001b[0m\t \u001b[1m\u001b[92m1.074804936410072\u001b[0m\t \u001b[1m\u001b[92m1.074804936410072\u001b[0m\t \u001b[1m\u001b[92m2.394812516334778\u001b[0m\t \u001b[1m\u001b[92m2.9953169464671205\u001b[0m\n",
            "12 \t [1.90527513 5.12      ]\t 56.05887333521182\t 1.074804936410072\t 3.170896291292964\t 2.9537208792958785\n",
            "13 \t [-2.05917345  2.20798848]\t 13.990621547346702\t 1.074804936410072\t 2.2566683249154047\t 2.5320913447242686\n",
            "14 \t [ 2.86512718 -1.10950441]\t 10.670953822959149\t 1.074804936410072\t 2.7633072195930812\t 2.923265416933115\n",
            "15 \t [ 5.12      -2.3092518]\t 36.87968771814835\t 1.074804936410072\t 2.9034024834167003\t 2.6576489735766873\n",
            "16 \t [-2.20634436 -5.12      ]\t 57.29675542662409\t 1.074804936410072\t 2.5844992044897537\t 2.673405940382597\n",
            "17 \t [-0.0606595 -1.1437594]\t 2.6200506983320593\t 1.074804936410072\t 2.7911604011331055\t 3.0218883263706946\n",
            "18 \t [-3.66652214 -3.19658599]\t 33.87970849816608\t 1.074804936410072\t 2.7153497807224753\t 3.3277971085335842\n",
            "19 \t [5.12       2.71238825]\t 40.92850008470499\t 1.074804936410072\t 2.656271379110178\t 3.3156011067103868\n",
            "20 \t [0.84489001 1.28221779]\t 4.002004035779043\t 1.074804936410072\t 2.089438034766896\t 2.1559276595326513\n"
          ]
        }
      ],
      "source": [
        "### ESTIMATED STP CBM GRADIENTS\n",
        "\n",
        "np.random.seed(run_num_16)\n",
        "surrogate_approx_16 = dtStudentProcess(cov_func, optimize=opt, nu = df)\n",
        "\n",
        "approx_16 = GPGO_multi(surrogate_approx_16, Acquisition_grad(util), objfunc, param)\n",
        "approx_16.run(init_evals=n_init, max_iter=iters)\n"
      ]
    },
    {
      "cell_type": "code",
      "execution_count": null,
      "metadata": {
        "id": "Yrs2mp7hGC1Z",
        "colab": {
          "base_uri": "https://localhost:8080/"
        },
        "outputId": "57c758e4-afd5-4a8d-9206-2b9ef9483664"
      },
      "outputs": [
        {
          "output_type": "stream",
          "name": "stdout",
          "text": [
            "Evaluation \t Proposed point \t  Current eval. \t  Best eval. \t        Exact CBM: StdDev. x \t Approx CBM: StdDev. x \n",
            "init\t [-2.10263037  0.31320838]\t 4.617253458637031\t 3.1817562258207746\t    \t    \n",
            "init\t [-3.15882714 -4.42470033]\t 49.134134969019556\t 3.1817562258207746\t    \t    \n",
            "init\t [2.93873111 1.60085526]\t 13.761615685279608\t 3.1817562258207746\t    \t    \n",
            "init\t [1.40821398 0.77417363]\t 3.1817562258207746\t 3.1817562258207746\t    \t    \n",
            "init\t [-4.71999574 -1.45598869]\t 26.518165900202685\t 3.1817562258207746\t    \t    \n",
            "1  \t [ 5.12 -5.12]\t 78.64320000000001\t 3.1817562258207746\t 3.3124002570611535\t 4.521532914153033\n",
            "2  \t [-4.04311999  5.12      ]\t 68.77561928558156\t 3.1817562258207746\t 3.2673789886399436\t 3.3583273438557297\n",
            "3  \t [5.12 5.12]\t 78.64320000000001\t 3.1817562258207746\t 3.40901165188645\t 3.1143801702918688\n",
            "4  \t [0.48137339 5.12      ]\t 52.66052034515618\t 3.1817562258207746\t 3.1905208393556004\t 3.499386971123073\n",
            "5  \t [ 1.08129633 -2.92136458]\t 18.237943725855324\t 3.1817562258207746\t 2.7123203780846414\t 2.8711099692943516\n",
            "6  \t [ 5.12       -1.08227002]\t 28.55701677733251\t 3.1817562258207746\t 2.926720379754005\t 3.013237419326653\n",
            "7  \t [-5.12        1.76544285]\t 32.4479769268733\t 3.1817562258207746\t 2.8521134166289106\t 2.551894738458756\n",
            "8  \t [-1.43669684  2.54543415]\t 15.022567850602957\t 3.1817562258207746\t 3.3071733015534814\t 3.0519373309119313\n",
            "9  \t [-0.07800043 -5.12      ]\t 52.434884067414984\t 3.1817562258207746\t 3.2186452470355906\t 3.391417852257064\n",
            "10 \t [-1.32533772 -1.69755383]\t 7.519898096709932\t 3.1817562258207746\t 2.4899080008334264\t 2.775130934152903\n",
            "11 \t [5.12       1.90299963]\t 33.457215188324454\t 3.1817562258207746\t 3.550634989458287\t 3.5653309420910784\n",
            "12 \t [ 2.42129036 -0.97515056]\t 7.7644842670117935\t 3.1817562258207746\t 3.3162939403026868\t 3.0677715695050702\n",
            "\u001b[1m\u001b[92m13\u001b[0m\t \u001b[1m\u001b[92m[-0.10711184 -0.00602369]\u001b[0m\t \u001b[1m\u001b[92m0.011545515193065488\u001b[0m\t \u001b[1m\u001b[92m0.011545515193065488\u001b[0m\t \u001b[1m\u001b[92m2.753480616114081\u001b[0m\t \u001b[1m\u001b[92m2.5714061566113764\u001b[0m\n",
            "14 \t [0.84358108 2.41158908]\t 12.34315283846046\t 0.011545515193065488\t 3.1270951505613573\t 3.1206991175531753\n",
            "15 \t [ 3.28478159 -3.0064521 ]\t 28.867298629562406\t 0.011545515193065488\t 2.908786530670306\t 2.9373637982857024\n",
            "16 \t [-5.12 -5.12]\t 78.64320000000001\t 0.011545515193065488\t 2.7303923345267167\t 2.762952881547392\n",
            "17 \t [2.78438406 3.98864439]\t 39.57136276002588\t 0.011545515193065488\t 3.0001466664774115\t 3.3524485312656664\n",
            "18 \t [ 2.39121602 -5.12      ]\t 58.146714068448645\t 0.011545515193065488\t 2.431005009059174\t 2.9659740804855126\n",
            "19 \t [-1.74417715  4.70676698]\t 47.34946476580724\t 0.011545515193065488\t 2.4325956349665163\t 2.825027061524136\n",
            "20 \t [-0.35998353 -4.46508133]\t 40.00349078790458\t 0.011545515193065488\t 2.9905145312414074\t 3.052811307965682\n"
          ]
        }
      ],
      "source": [
        "### ESTIMATED STP CBM GRADIENTS\n",
        "\n",
        "np.random.seed(run_num_17)\n",
        "surrogate_approx_17 = dtStudentProcess(cov_func, optimize=opt, nu = df)\n",
        "\n",
        "approx_17 = GPGO_multi(surrogate_approx_17, Acquisition_grad(util), objfunc, param)\n",
        "approx_17.run(init_evals=n_init, max_iter=iters)\n"
      ]
    },
    {
      "cell_type": "code",
      "execution_count": null,
      "metadata": {
        "id": "f0HIEP3PIUEa",
        "colab": {
          "base_uri": "https://localhost:8080/"
        },
        "outputId": "58fb925d-c083-486d-83cb-d53919bd039f"
      },
      "outputs": [
        {
          "output_type": "stream",
          "name": "stdout",
          "text": [
            "Evaluation \t Proposed point \t  Current eval. \t  Best eval. \t        Exact CBM: StdDev. x \t Approx CBM: StdDev. x \n",
            "init\t [1.53983224 0.05584255]\t 2.3773200933391867\t 2.3773200933391867\t    \t    \n",
            "init\t [ 3.87687906 -3.25795609]\t 36.25874706055664\t 2.3773200933391867\t    \t    \n",
            "init\t [3.60686662 2.56139557]\t 26.130981366974602\t 2.3773200933391867\t    \t    \n",
            "init\t [1.70088108 4.99604939]\t 52.81401545301259\t 2.3773200933391867\t    \t    \n",
            "init\t [-2.48864335 -4.83014733]\t 52.85399210258478\t 2.3773200933391867\t    \t    \n",
            "1  \t [-5.00718904  2.9174042 ]\t 42.09443666312248\t 2.3773200933391867\t 3.2363171628541774\t 4.065114789558744\n",
            "2  \t [-2.12752533 -0.37507151]\t 4.8077213032073844\t 2.3773200933391867\t 3.2324857221981103\t 2.81837494631944\n",
            "3  \t [-5.12       -1.67664502]\t 31.836677075735444\t 2.3773200933391867\t 3.750377996585655\t 3.5590363508095404\n",
            "4  \t [-2.08575083  5.12      ]\t 56.77915653467837\t 2.3773200933391867\t 3.1168856506816307\t 3.718493785486317\n",
            "5  \t [ 0.33164984 -2.48846061]\t 12.494864068715392\t 2.3773200933391867\t 3.349637057665463\t 3.1410196595522586\n",
            "6  \t [-0.40509319  1.86930903]\t 7.1527329952538246\t 2.3773200933391867\t 3.1364431689029684\t 3.3002000390173447\n",
            "7  \t [ 5.12       -0.21127595]\t 26.30367505580125\t 2.3773200933391867\t 3.2779903392844476\t 3.8257942938866494\n",
            "8  \t [5.12 5.12]\t 78.64320000000001\t 2.3773200933391867\t 3.29141757898042\t 3.473595243568943\n",
            "9  \t [ 1.18445534 -5.12      ]\t 53.83173444654746\t 2.3773200933391867\t 3.05513118221383\t 3.3122139932226906\n",
            "10 \t [-5.12 -5.12]\t 78.64320000000001\t 2.3773200933391867\t 3.2079168497508235\t 3.1845429308148137\n",
            "11 \t [-2.57416575  1.65986577]\t 12.136638047265203\t 2.3773200933391867\t 2.8831652903164806\t 3.8699043285421593\n",
            "12 \t [ 5.12 -5.12]\t 78.64320000000001\t 2.3773200933391867\t 2.335548333060842\t 2.7579543033929053\n",
            "13 \t [-2.1295864  -2.16117884]\t 13.876526164580762\t 2.3773200933391867\t 2.5586133773592095\t 3.046333514209013\n",
            "\u001b[1m\u001b[92m14\u001b[0m\t \u001b[1m\u001b[92m[-0.22519322 -0.23959464]\u001b[0m\t \u001b[1m\u001b[92m0.16552317085896398\u001b[0m\t \u001b[1m\u001b[92m0.16552317085896398\u001b[0m\t \u001b[1m\u001b[92m2.03389864943383\u001b[0m\t \u001b[1m\u001b[92m3.1462491997980386\u001b[0m\n",
            "15 \t [-4.61488145  0.57972069]\t 21.96928297637123\t 0.16552317085896398\t 2.772374495387371\t 3.856113419044951\n",
            "16 \t [-5.12  5.12]\t 78.64320000000001\t 0.16552317085896398\t 2.0643453549874597\t 2.956533922565693\n",
            "17 \t [ 2.55756463 -1.20481323]\t 9.44428668745876\t 0.16552317085896398\t 2.549713144710302\t 2.737286983034053\n",
            "18 \t [1.47854092 2.50143121]\t 14.7003994681713\t 0.16552317085896398\t 3.0312449140415287\t 3.0766738120521264\n",
            "19 \t [-0.27768833  3.77955069]\t 28.647117613732934\t 0.16552317085896398\t 2.542723169832769\t 2.580390292298228\n",
            "20 \t [-0.49704439 -4.76661766]\t 45.6883410054552\t 0.16552317085896398\t 2.803904222221045\t 2.755298906733859\n"
          ]
        }
      ],
      "source": [
        "### ESTIMATED STP CBM GRADIENTS\n",
        "\n",
        "np.random.seed(run_num_18)\n",
        "surrogate_approx_18 = dtStudentProcess(cov_func, optimize=opt, nu = df)\n",
        "\n",
        "approx_18 = GPGO_multi(surrogate_approx_18, Acquisition_grad(util), objfunc, param)\n",
        "approx_18.run(init_evals=n_init, max_iter=iters)\n"
      ]
    },
    {
      "cell_type": "code",
      "execution_count": null,
      "metadata": {
        "id": "S3mxRQDLIUPC",
        "colab": {
          "base_uri": "https://localhost:8080/"
        },
        "outputId": "c25b12b0-6deb-49dc-b81d-4900c183c3a8"
      },
      "outputs": [
        {
          "output_type": "stream",
          "name": "stdout",
          "text": [
            "Evaluation \t Proposed point \t  Current eval. \t  Best eval. \t        Exact CBM: StdDev. x \t Approx CBM: StdDev. x \n",
            "init\t [-4.12125592  2.6751971 ]\t 31.298109376682206\t 22.814458446152262\t    \t    \n",
            "init\t [-2.59135515 -3.70553152]\t 34.17704923320956\t 22.814458446152262\t    \t    \n",
            "init\t [-1.72598719 -4.27008445]\t 39.4462742815243\t 22.814458446152262\t    \t    \n",
            "init\t [1.76104531 3.13952049]\t 22.814458446152262\t 22.814458446152262\t    \t    \n",
            "init\t [4.9432772  1.38916592]\t 28.295553455390152\t 22.814458446152262\t    \t    \n",
            "1  \t [ 5.12 -5.12]\t 78.64320000000001\t 22.814458446152262\t 3.389631312490309\t 4.608586619639158\n",
            "\u001b[1m\u001b[92m2\u001b[0m\t \u001b[1m\u001b[92m[ 1.73294707 -1.56670984]\u001b[0m\t \u001b[1m\u001b[92m7.912265025051298\u001b[0m\t \u001b[1m\u001b[92m7.912265025051298\u001b[0m\t \u001b[1m\u001b[92m3.774582829505814\u001b[0m\t \u001b[1m\u001b[92m3.3838340444867496\u001b[0m\n",
            "3  \t [5.12 5.12]\t 78.64320000000001\t 7.912265025051298\t 3.8280631937520084\t 4.238801426180572\n",
            "4  \t [-5.12       -1.02141265]\t 28.300967605740638\t 7.912265025051298\t 2.8017162845755124\t 3.0107551498837575\n",
            "\u001b[1m\u001b[92m5\u001b[0m\t \u001b[1m\u001b[92m[-1.1395048   0.27619525]\u001b[0m\t \u001b[1m\u001b[92m1.4510388281318916\u001b[0m\t \u001b[1m\u001b[92m1.4510388281318916\u001b[0m\t \u001b[1m\u001b[92m2.876120645911402\u001b[0m\t \u001b[1m\u001b[92m3.275032861323974\u001b[0m\n",
            "6  \t [-1.31668866  5.12      ]\t 54.16246902635907\t 1.4510388281318916\t 3.451435128490027\t 3.276749015957238\n",
            "7  \t [ 1.49933065 -5.12      ]\t 54.67679238711788\t 1.4510388281318916\t 3.40882005897484\t 3.7915545554935486\n",
            "8  \t [-5.12 -5.12]\t 78.64320000000001\t 1.4510388281318916\t 3.18459474817906\t 3.1039960768249046\n",
            "9  \t [ 5.12       -1.69112246]\t 31.934190328003563\t 1.4510388281318916\t 2.1393326461800677\t 3.268037501318933\n",
            "10 \t [-5.12  5.12]\t 78.64320000000001\t 1.4510388281318916\t 2.993194699271868\t 3.0774188152493935\n",
            "11 \t [0.94609186 0.60043402]\t 1.616131834188228\t 1.4510388281318916\t 2.5263584221770383\t 1.9976470923164547\n",
            "12 \t [-1.02111163  2.15833998]\t 10.359531928538509\t 1.4510388281318916\t 2.5769963933154076\t 2.335197770437083\n",
            "13 \t [-0.58913837 -1.54368263]\t 5.112996163231788\t 1.4510388281318916\t 2.804703180197632\t 2.919552833064109\n",
            "14 \t [-2.68546909 -0.51483454]\t 7.741853450199077\t 1.4510388281318916\t 2.421231670275377\t 2.8232298464794856\n",
            "15 \t [2.72860876 0.29838987]\t 7.623378777970583\t 1.4510388281318916\t 2.7261356179277705\t 2.8516029056485106\n",
            "16 \t [1.92566543 5.12      ]\t 56.13698735546377\t 1.4510388281318916\t 2.661061944803037\t 2.876178677140808\n",
            "17 \t [ 3.02229062 -2.93143682]\t 26.32088418122823\t 1.4510388281318916\t 2.454552718425592\t 2.528372458181345\n",
            "18 \t [-2.64433095  1.11642481]\t 9.485294897656939\t 1.4510388281318916\t 2.91965937025151\t 2.9574347242988344\n",
            "19 \t [ 0.35405407 -3.21249352]\t 20.765583510189394\t 1.4510388281318916\t 2.4531569507657984\t 3.0086979097762154\n",
            "20 \t [3.7777405  3.09590686]\t 33.44060184695292\t 1.4510388281318916\t 2.613411345327786\t 2.976213280984206\n"
          ]
        }
      ],
      "source": [
        "### ESTIMATED STP CBM GRADIENTS\n",
        "\n",
        "np.random.seed(run_num_19)\n",
        "surrogate_approx_19 = dtStudentProcess(cov_func, optimize=opt, nu = df)\n",
        "\n",
        "approx_19 = GPGO_multi(surrogate_approx_19, Acquisition_grad(util), objfunc, param)\n",
        "approx_19.run(init_evals=n_init, max_iter=iters)\n"
      ]
    },
    {
      "cell_type": "code",
      "execution_count": null,
      "metadata": {
        "id": "Aawd59dRIUYn",
        "colab": {
          "base_uri": "https://localhost:8080/"
        },
        "outputId": "ec70966e-eb12-4a0d-9815-9cfdac19218d"
      },
      "outputs": [
        {
          "output_type": "stream",
          "name": "stdout",
          "text": [
            "Evaluation \t Proposed point \t  Current eval. \t  Best eval. \t        Exact CBM: StdDev. x \t Approx CBM: StdDev. x \n",
            "init\t [0.9024594  4.07258857]\t 33.98638835688907\t 1.615187047660523\t    \t    \n",
            "init\t [4.00927467 3.23417577]\t 36.994069169927414\t 1.615187047660523\t    \t    \n",
            "init\t [-4.75249064  1.96359764]\t 30.297598676217497\t 1.615187047660523\t    \t    \n",
            "init\t [-1.24230715  0.18955208]\t 1.615187047660523\t 1.615187047660523\t    \t    \n",
            "init\t [ 1.61742301 -3.13497377]\t 22.27217824772924\t 1.615187047660523\t    \t    \n",
            "1  \t [-5.12 -5.12]\t 78.64320000000001\t 1.615187047660523\t 3.534310179294596\t 3.977368494070362\n",
            "2  \t [ 5.12 -5.12]\t 78.64320000000001\t 1.615187047660523\t 3.1128428897463927\t 3.860227781120881\n",
            "3  \t [ 5.12       -0.73705015]\t 27.300885841306215\t 1.615187047660523\t 2.93971583913174\t 2.9319706775150665\n",
            "4  \t [-2.84848547  5.12      ]\t 60.54266944560388\t 1.615187047660523\t 2.970093282324093\t 3.6026428274025943\n",
            "5  \t [-2.11314428 -2.55486989]\t 17.520099078516864\t 1.615187047660523\t 2.891788593409866\t 2.83462431679868\n",
            "6  \t [1.50932004 0.38312969]\t 2.5716237106198845\t 1.615187047660523\t 3.3950462677566047\t 3.8741927703820154\n",
            "7  \t [-5.12       -1.36631276]\t 29.948021122935877\t 1.615187047660523\t 3.828814680220533\t 3.768339393005875\n",
            "8  \t [-0.80739692 -5.12      ]\t 53.08068977887965\t 1.615187047660523\t 3.269266397714359\t 3.2966736706380417\n",
            "9  \t [-1.51764216  2.16898729]\t 11.712249476290113\t 1.615187047660523\t 3.0779907419279584\t 3.3992344189341677\n",
            "10 \t [5.12 5.12]\t 78.64320000000001\t 1.615187047660523\t 3.2712290987707155\t 3.503736558020942\n",
            "11 \t [ 0.12850511 -1.07947039]\t 2.3470262237678865\t 1.615187047660523\t 2.962687165700175\t 3.216760493330887\n",
            "12 \t [-2.93350898 -0.02627377]\t 8.606855565909074\t 1.615187047660523\t 2.7563086242364125\t 3.241808472327812\n",
            "13 \t [ 2.68755242 -0.94188748]\t 8.997242083933784\t 1.615187047660523\t 2.798064787251119\t 3.506442491848282\n",
            "14 \t [ 2.21887145 -5.12      ]\t 57.352190514255334\t 1.615187047660523\t 2.905517773538856\t 3.186277174526258\n",
            "15 \t [0.40413117 1.48015867]\t 4.545061377185716\t 1.615187047660523\t 2.3381137761515043\t 3.291038459846546\n",
            "16 \t [-5.12  5.12]\t 78.64320000000001\t 1.615187047660523\t 2.551636789196199\t 2.9534128896990333\n",
            "17 \t [5.12       1.38479974]\t 30.04974061461179\t 1.615187047660523\t 2.360416982683309\t 2.955995054132795\n",
            "18 \t [2.33105035 1.63914352]\t 10.807378655615164\t 1.615187047660523\t 3.1998252421778104\t 3.041689001444952\n",
            "19 \t [ 3.9825675  -2.63173307]\t 29.71288178864954\t 1.615187047660523\t 3.067220650794052\t 2.740264399379118\n",
            "20 \t [-0.23384875 -2.4526603 ]\t 12.085770318151903\t 1.615187047660523\t 2.5209614555878863\t 2.313443070320096\n"
          ]
        }
      ],
      "source": [
        "### ESTIMATED STP CBM GRADIENTS\n",
        "\n",
        "np.random.seed(run_num_20)\n",
        "surrogate_approx_20 = dtStudentProcess(cov_func, optimize=opt, nu = df)\n",
        "\n",
        "approx_20 = GPGO_multi(surrogate_approx_20, Acquisition_grad(util), objfunc, param)\n",
        "approx_20.run(init_evals=n_init, max_iter=iters)\n"
      ]
    },
    {
      "cell_type": "code",
      "execution_count": null,
      "metadata": {
        "id": "xkgzPRbBTHaq",
        "colab": {
          "base_uri": "https://localhost:8080/"
        },
        "outputId": "196b78b4-cdec-4288-c1f4-477971c251c5"
      },
      "outputs": [
        {
          "output_type": "execute_result",
          "data": {
            "text/plain": [
              "1662466157.318701"
            ]
          },
          "metadata": {},
          "execution_count": 33
        }
      ],
      "source": [
        "end_approx = time.time()\n",
        "end_approx\n",
        "\n",
        "time_approx = end_approx - start_approx\n",
        "time_approx\n",
        "\n",
        "start_exact = time.time()\n",
        "start_exact"
      ]
    },
    {
      "cell_type": "code",
      "execution_count": null,
      "metadata": {
        "id": "7CG3Ndvb16Rb",
        "colab": {
          "base_uri": "https://localhost:8080/"
        },
        "outputId": "824617e2-8d21-403e-f31f-b9dff3625afc"
      },
      "outputs": [
        {
          "output_type": "stream",
          "name": "stdout",
          "text": [
            "Evaluation \t Proposed point \t  Current eval. \t  Best eval. \t        Exact CBM: StdDev. x \t Approx CBM: StdDev. x \n",
            "init\t [-0.84969467  2.25612281]\t 10.902161328666502\t 1.4334486961549602\t    \t    \n",
            "init\t [-5.1188288  -2.02411446]\t 34.396486966857985\t 1.4334486961549602\t    \t    \n",
            "init\t [-3.61721968 -4.17445279]\t 47.936390383803385\t 1.4334486961549602\t    \t    \n",
            "init\t [-3.21269544 -1.58145816]\t 15.323431753768267\t 1.4334486961549602\t    \t    \n",
            "init\t [-1.05710106  0.39748336]\t 1.4334486961549602\t 1.4334486961549602\t    \t    \n",
            "1  \t [ 4.04077223 -4.24914728]\t 52.43834538835027\t 1.4334486961549602\t 3.7008731761352043\t 4.308503513506956\n",
            "2  \t [5.12 5.12]\t 78.64320000000001\t 1.4334486961549602\t 3.2296960528158887\t 3.551477121156901\n",
            "3  \t [4.70959273 0.38076147]\t 22.47022227922834\t 1.4334486961549602\t 3.4012025724917923\t 4.153066983578914\n",
            "4  \t [-4.8996706   4.58713035]\t 66.09030177989149\t 1.4334486961549602\t 3.753158524940357\t 4.158527482448192\n",
            "5  \t [ 0.63590327 -1.966432  ]\t 8.13808255715953\t 1.4334486961549602\t 2.7450947131994248\t 2.917092587386947\n",
            "6  \t [0.99036675 5.12      ]\t 53.40962630069131\t 1.4334486961549602\t 3.0084666031187846\t 3.426169124724116\n",
            "7  \t [-0.40502575 -4.50149565]\t 40.69097207725887\t 1.4334486961549602\t 3.242802787251657\t 3.77094960173838\n",
            "8  \t [-4.91982992  1.20274518]\t 27.097918401725387\t 1.4334486961549602\t 3.099600966631815\t 3.552877688816221\n",
            "9  \t [1.80109505 0.45624733]\t 3.660266632088381\t 1.4334486961549602\t 3.144583387772895\t 3.3633647252828927\n",
            "10 \t [ 2.92279293 -1.56565939]\t 13.445297195951031\t 1.4334486961549602\t 3.1404394679069094\t 3.3370246212743435\n",
            "11 \t [2.50040283 2.61537842]\t 19.932422913803297\t 1.4334486961549602\t 2.9397300179424004\t 3.3086993435864698\n",
            "12 \t [-1.89116556  4.98569074]\t 53.29073155527708\t 1.4334486961549602\t 3.321098152361247\t 3.70814081377453\n",
            "13 \t [-2.58688424  0.72807642]\t 7.7521606054695\t 1.4334486961549602\t 2.3747783918368035\t 2.830952939622319\n",
            "14 \t [-1.05086679 -2.03448868]\t 9.38260936265165\t 1.4334486961549602\t 3.1672043915082235\t 3.627222215445166\n",
            "\u001b[1m\u001b[92m15\u001b[0m\t \u001b[1m\u001b[92m[0.31588827 0.14575876]\u001b[0m\t \u001b[1m\u001b[92m0.14227663554190234\u001b[0m\t \u001b[1m\u001b[92m0.14227663554190234\u001b[0m\t \u001b[1m\u001b[92m2.4693375531776636\u001b[0m\t \u001b[1m\u001b[92m2.9403328040018177\u001b[0m\n",
            "16 \t [4.80351552 2.57126394]\t 36.29655782824243\t 0.14227663554190234\t 3.067764713450398\t 3.284293592095219\n",
            "17 \t [ 1.71853771 -4.47959619]\t 43.08693586059034\t 0.14227663554190234\t 3.0050516882911094\t 2.978468566503018\n",
            "18 \t [ 4.85014959 -1.63507837]\t 28.87091357344528\t 0.14227663554190234\t 3.225654104016995\t 3.4461739613714215\n",
            "19 \t [0.83020804 1.43051044]\t 4.781965637982003\t 0.14227663554190234\t 3.005625182540228\t 3.4807279325443496\n",
            "20 \t [-3.08493794  2.65324977]\t 23.596310822983835\t 0.14227663554190234\t 3.052840609667547\t 3.0745689256746576\n"
          ]
        }
      ],
      "source": [
        "### EXACT STP CBM GRADIENTS\n",
        "\n",
        "np.random.seed(run_num_1)\n",
        "surrogate_exact_1 = dtStudentProcess(cov_func, optimize=opt, nu = df)\n",
        "\n",
        "exact_1 = dGPGO(surrogate_exact_1, Acquisition_grad(util), objfunc, param)\n",
        "exact_1.run(init_evals=n_init, max_iter=iters)\n"
      ]
    },
    {
      "cell_type": "code",
      "execution_count": null,
      "metadata": {
        "id": "-ilCPSAu9SAg",
        "colab": {
          "base_uri": "https://localhost:8080/"
        },
        "outputId": "3404ceaf-062f-47e9-9ccd-622ba5480bb7"
      },
      "outputs": [
        {
          "output_type": "stream",
          "name": "stdout",
          "text": [
            "Evaluation \t Proposed point \t  Current eval. \t  Best eval. \t        Exact CBM: StdDev. x \t Approx CBM: StdDev. x \n",
            "init\t [-0.6554122  -4.85451539]\t 47.562204422038214\t 1.1358959044973735\t    \t    \n",
            "init\t [ 0.50854377 -0.6622987 ]\t 1.1358959044973735\t 1.1358959044973735\t    \t    \n",
            "init\t [-0.81543371 -1.73737143]\t 6.7018511217540135\t 1.1358959044973735\t    \t    \n",
            "init\t [-3.02439799  1.2213347 ]\t 12.13030006303276\t 1.1358959044973735\t    \t    \n",
            "init\t [-2.05153614 -2.3876887 ]\t 15.610915224537823\t 1.1358959044973735\t    \t    \n",
            "1  \t [4.81874241 3.07464552]\t 42.12716849729408\t 1.1358959044973735\t 3.7226596370893485\t 3.835848750447288\n",
            "2  \t [ 4.84261953 -3.96515749]\t 54.8959117832305\t 1.1358959044973735\t 3.069693897993094\t 4.199978113240532\n",
            "3  \t [0.02398058 5.12      ]\t 52.42937506833584\t 1.1358959044973735\t 3.7073188099026804\t 3.991128579468028\n",
            "4  \t [-5.12 -5.12]\t 78.64320000000001\t 1.1358959044973735\t 3.58783345048451\t 4.129516925606676\n",
            "5  \t [ 3.30320273 -0.43579782]\t 11.290987730972526\t 1.1358959044973735\t 2.999163749364107\t 3.537463179319857\n",
            "6  \t [-4.15998137  4.70266667]\t 61.53559267377484\t 1.1358959044973735\t 3.183470934567932\t 3.706011981508704\n",
            "7  \t [0.9461704  1.72946453]\t 6.877333561275696\t 1.1358959044973735\t 2.7033595668883135\t 3.1196531219511527\n",
            "8  \t [-5.12      -1.1797709]\t 28.99811876133647\t 1.1358959044973735\t 2.8158093337558214\t 3.00621892749155\n",
            "9  \t [5.11402211 0.35238792]\t 26.40157659972478\t 1.1358959044973735\t 2.8716488319462203\t 2.925017432973429\n",
            "10 \t [ 1.80382293 -2.79037615]\t 18.826175314165088\t 1.1358959044973735\t 3.0597638216461176\t 3.205832157918375\n",
            "11 \t [-0.93758222  1.11603796]\t 3.3701418825756493\t 1.1358959044973735\t 3.296370195825014\t 3.247804657252797\n",
            "12 \t [3.36991347 5.12      ]\t 63.7851168072725\t 1.1358959044973735\t 2.8411049506797488\t 3.018777616784317\n",
            "13 \t [-1.93282814  3.20636082]\t 24.297324073012362\t 1.1358959044973735\t 2.8554173288612055\t 3.1397488253978274\n",
            "14 \t [-5.12        1.61287378]\t 31.417123661559376\t 1.1358959044973735\t 2.843505846413666\t 3.63033996915277\n",
            "15 \t [2.70666894 1.50817867]\t 11.875262562648587\t 1.1358959044973735\t 2.6004579711157927\t 3.121498397540415\n",
            "16 \t [ 1.69609624 -4.77776372]\t 48.53079481788177\t 1.1358959044973735\t 2.76209385522753\t 3.433693935280878\n",
            "17 \t [-4.35299134 -3.36019106]\t 41.530301542296236\t 1.1358959044973735\t 2.883882014746002\t 3.0886727014520665\n",
            "18 \t [-2.0257889  -0.31247339]\t 4.299099904838344\t 1.1358959044973735\t 2.7478301333402326\t 2.8498026947511095\n",
            "19 \t [2.43958408 2.98895538]\t 23.819279074227\t 1.1358959044973735\t 2.627675477579053\t 3.5466479597587717\n",
            "20 \t [1.05186148 0.31858338]\t 1.3094033252394734\t 1.1358959044973735\t 2.888097683866799\t 2.9281146372755047\n"
          ]
        }
      ],
      "source": [
        "### EXACT STP CBM GRADIENTS\n",
        "\n",
        "np.random.seed(run_num_2)\n",
        "surrogate_exact_2 = dtStudentProcess(cov_func, optimize=opt, nu = df)\n",
        "\n",
        "exact_2 = dGPGO(surrogate_exact_2, Acquisition_grad(util), objfunc, param)\n",
        "exact_2.run(init_evals=n_init, max_iter=iters)\n"
      ]
    },
    {
      "cell_type": "code",
      "execution_count": null,
      "metadata": {
        "id": "XieJ158mIvlP",
        "colab": {
          "base_uri": "https://localhost:8080/"
        },
        "outputId": "de2bf9d9-ac04-4171-da69-be03eb7ce6ce"
      },
      "outputs": [
        {
          "output_type": "stream",
          "name": "stdout",
          "text": [
            "Evaluation \t Proposed point \t  Current eval. \t  Best eval. \t        Exact CBM: StdDev. x \t Approx CBM: StdDev. x \n",
            "init\t [0.52017052 2.1314337 ]\t 9.356596638100186\t 4.609047504113831\t    \t    \n",
            "init\t [-2.14113547  0.11087468]\t 4.609047504113831\t 4.609047504113831\t    \t    \n",
            "init\t [4.02377681 4.05804123]\t 49.12617709674532\t 4.609047504113831\t    \t    \n",
            "init\t [-3.83400642 -2.99783293]\t 32.673609761904345\t 4.609047504113831\t    \t    \n",
            "init\t [-4.59297584 -0.6061072 ]\t 21.83015892853491\t 4.609047504113831\t    \t    \n",
            "1  \t [ 2.87042319 -1.98283743]\t 16.10261781709846\t 4.609047504113831\t 2.454203329719728\t 2.784935737557771\n",
            "2  \t [-3.58469501  4.79950486]\t 58.920532130898565\t 4.609047504113831\t 3.052186077262988\t 4.345419574088326\n",
            "3  \t [-0.39551444 -2.39689456]\t 11.646638720636432\t 4.609047504113831\t 3.1474051308692466\t 3.760761862143678\n",
            "4  \t [ 1.6766048 -5.12     ]\t 55.23980364234088\t 4.609047504113831\t 3.2561345131592376\t 3.6386558070091573\n",
            "5  \t [5.12       0.65821962]\t 27.08090614243154\t 4.609047504113831\t 3.210340448213433\t 3.4034775324465367\n",
            "6  \t [ 5.12       -4.47567439]\t 66.27772252056143\t 4.609047504113831\t 3.130352320298671\t 3.534845699496893\n",
            "7  \t [0.3372724 5.12     ]\t 52.5425526738251\t 4.609047504113831\t 3.43811815911197\t 3.4003721020781414\n",
            "8  \t [-5.0772419   1.96456147]\t 33.497388869748335\t 4.609047504113831\t 3.4125074373206017\t 3.112957213533311\n",
            "9  \t [-4.91918865 -5.12      ]\t 76.6272170057621\t 4.609047504113831\t 2.390960153992425\t 2.9655055798910537\n",
            "10 \t [-1.52113641 -5.12      ]\t 54.74265598610187\t 4.609047504113831\t 3.040852843983663\t 3.1874133704174397\n",
            "11 \t [2.35003505 0.37121743]\t 5.798269512139846\t 4.609047504113831\t 3.2463114184950297\t 2.9172547432337503\n",
            "\u001b[1m\u001b[92m12\u001b[0m\t \u001b[1m\u001b[92m[ 0.17454938 -0.18945814]\u001b[0m\t \u001b[1m\u001b[92m0.10225626379241472\u001b[0m\t \u001b[1m\u001b[92m0.10225626379241472\u001b[0m\t \u001b[1m\u001b[92m2.4706044125814115\u001b[0m\t \u001b[1m\u001b[92m2.3997857018534186\u001b[0m\n",
            "13 \t [-1.78925153  2.21806566]\t 13.041051556271139\t 0.10225626379241472\t 3.159341016297907\t 3.366854436237165\n",
            "14 \t [2.32767496 2.23665664]\t 15.423336588352043\t 0.10225626379241472\t 2.7971995044483244\t 2.8689806731939473\n",
            "15 \t [ 5.12       -1.58413178]\t 31.233346969095443\t 0.10225626379241472\t 2.8113861650518794\t 3.3428179276733574\n",
            "16 \t [-1.92263615 -1.46396664]\t 7.982926381749525\t 0.10225626379241472\t 2.8876577814951987\t 3.201257771672042\n",
            "17 \t [ 1.21926872 -1.96971198]\t 9.246146773084968\t 0.10225626379241472\t 2.5446866369274406\t 2.729082561293689\n",
            "18 \t [-0.54584875  0.66394233]\t 1.1795896770821568\t 0.10225626379241472\t 3.175186079255371\t 3.525817587477164\n",
            "19 \t [-1.60834013  4.32758439]\t 40.04273127040544\t 0.10225626379241472\t 3.034617139989439\t 3.2997559765205033\n",
            "20 \t [-3.22892671  1.2270872 ]\t 13.437453710220346\t 0.10225626379241472\t 2.8163131019988246\t 3.019378272085829\n"
          ]
        }
      ],
      "source": [
        "### EXACT STP CBM GRADIENTS\n",
        "\n",
        "np.random.seed(run_num_3)\n",
        "surrogate_exact_3 = dtStudentProcess(cov_func, optimize=opt, nu = df)\n",
        "\n",
        "exact_3 = dGPGO(surrogate_exact_3, Acquisition_grad(util), objfunc, param)\n",
        "exact_3.run(init_evals=n_init, max_iter=iters)\n"
      ]
    },
    {
      "cell_type": "code",
      "execution_count": null,
      "metadata": {
        "id": "PhLBVOIfIvol",
        "colab": {
          "base_uri": "https://localhost:8080/"
        },
        "outputId": "83c6476d-cae8-4719-a32c-bcb01ac5ccb1"
      },
      "outputs": [
        {
          "output_type": "stream",
          "name": "stdout",
          "text": [
            "Evaluation \t Proposed point \t  Current eval. \t  Best eval. \t        Exact CBM: StdDev. x \t Approx CBM: StdDev. x \n",
            "init\t [4.78238555 0.48365823]\t 23.33906213310676\t 7.289910254474112\t    \t    \n",
            "init\t [4.84028785 2.19971578]\t 33.10588541607836\t 7.289910254474112\t    \t    \n",
            "init\t [ 2.02474316 -2.90724357]\t 21.003715175118646\t 7.289910254474112\t    \t    \n",
            "init\t [ 4.87705042 -5.05620219]\t 74.91598187475032\t 7.289910254474112\t    \t    \n",
            "init\t [-2.52946061 -0.66773471]\t 7.289910254474112\t 7.289910254474112\t    \t    \n",
            "1  \t [-1.26606945  4.52370831]\t 42.53080554642616\t 7.289910254474112\t 2.911853035769714\t 3.957358657366278\n",
            "2  \t [-5.12 -5.12]\t 78.64320000000001\t 7.289910254474112\t 4.057189530079434\t 3.948371912259761\n",
            "3  \t [-0.97513937 -5.12      ]\t 53.37969679195487\t 7.289910254474112\t 3.4741121841298286\t 3.946837378443629\n",
            "\u001b[1m\u001b[92m4\u001b[0m\t \u001b[1m\u001b[92m[0.60949718 1.13165908]\u001b[0m\t \u001b[1m\u001b[92m2.9327913630252374\u001b[0m\t \u001b[1m\u001b[92m2.9327913630252374\u001b[0m\t \u001b[1m\u001b[92m3.105584141256655\u001b[0m\t \u001b[1m\u001b[92m3.5711693407958314\u001b[0m\n",
            "5  \t [-5.12        2.31703282]\t 36.951682200431904\t 2.9327913630252374\t 2.7677133091939012\t 3.494879084969284\n",
            "6  \t [2.64300104 5.12      ]\t 59.414254517003656\t 2.9327913630252374\t 3.4072123205596823\t 3.7799532548126193\n",
            "7  \t [-5.09957343 -1.6616106 ]\t 31.5275486844341\t 2.9327913630252374\t 2.5579200543258684\t 3.157646316414262\n",
            "8  \t [-2.07382695  1.67284504]\t 9.897579283506879\t 2.9327913630252374\t 2.6705822830520374\t 3.1075528517941926\n",
            "\u001b[1m\u001b[92m9\u001b[0m\t \u001b[1m\u001b[92m[-0.33963476 -0.7834428 ]\u001b[0m\t \u001b[1m\u001b[92m1.3429170029017776\u001b[0m\t \u001b[1m\u001b[92m1.3429170029017776\u001b[0m\t \u001b[1m\u001b[92m2.7764199509093714\u001b[0m\t \u001b[1m\u001b[92m3.283407321180162\u001b[0m\n",
            "10 \t [ 4.60699268 -1.92641659]\t 28.646543309163487\t 1.3429170029017776\t 3.1542238793139914\t 3.5925603172763956\n",
            "11 \t [-4.09660577  4.99801016]\t 66.74238998589433\t 1.3429170029017776\t 3.3899013487540786\t 3.6575540307157333\n",
            "12 \t [2.02847132 0.17002645]\t 4.172513905118117\t 1.3429170029017776\t 2.8099726027268748\t 2.958665703233432\n",
            "13 \t [-2.1014638  -2.62568789]\t 18.204623961786346\t 1.3429170029017776\t 3.2664557617759855\t 3.086114485945055\n",
            "14 \t [1.36071614 2.67517922]\t 16.16471610917152\t 1.3429170029017776\t 3.4668685049425503\t 2.918278205577315\n",
            "15 \t [5.12 5.12]\t 78.64320000000001\t 1.3429170029017776\t 3.022922872829353\t 2.949138262187649\n",
            "16 \t [ 1.7160972 -5.12     ]\t 55.373789595742046\t 1.3429170029017776\t 2.444510466532608\t 2.4593620040656234\n",
            "17 \t [-0.04859266 -2.6876458 ]\t 14.449241164334936\t 1.3429170029017776\t 2.578511056242321\t 3.2742601048302147\n",
            "18 \t [ 1.56987032 -1.14198098]\t 5.0727339572478645\t 1.3429170029017776\t 2.548914994924508\t 2.8711729837418885\n",
            "19 \t [-4.87858789  0.33782817]\t 24.028875520339966\t 1.3429170029017776\t 2.931436029575408\t 3.2886359649375136\n",
            "\u001b[1m\u001b[92m20\u001b[0m\t \u001b[1m\u001b[92m[-0.72150328  0.46145815]\u001b[0m\t \u001b[1m\u001b[92m0.9464542321386151\u001b[0m\t \u001b[1m\u001b[92m0.9464542321386151\u001b[0m\t \u001b[1m\u001b[92m2.2537959035116897\u001b[0m\t \u001b[1m\u001b[92m2.4209211039202856\u001b[0m\n"
          ]
        }
      ],
      "source": [
        "### EXACT STP CBM GRADIENTS\n",
        "\n",
        "np.random.seed(run_num_4)\n",
        "surrogate_exact_4 = dtStudentProcess(cov_func, optimize=opt, nu = df)\n",
        "\n",
        "exact_4 = dGPGO(surrogate_exact_4, Acquisition_grad(util), objfunc, param)\n",
        "exact_4.run(init_evals=n_init, max_iter=iters)\n"
      ]
    },
    {
      "cell_type": "code",
      "execution_count": null,
      "metadata": {
        "id": "arbiPyj2IvsJ",
        "colab": {
          "base_uri": "https://localhost:8080/"
        },
        "outputId": "d0b46d8a-9658-4ca0-c36e-118f3fcc48dc"
      },
      "outputs": [
        {
          "output_type": "stream",
          "name": "stdout",
          "text": [
            "Evaluation \t Proposed point \t  Current eval. \t  Best eval. \t        Exact CBM: StdDev. x \t Approx CBM: StdDev. x \n",
            "init\t [-2.84678993  3.79629882]\t 36.927982283829365\t 2.6327313115208373\t    \t    \n",
            "init\t [-3.00319585  4.2865757 ]\t 45.76864772649561\t 2.6327313115208373\t    \t    \n",
            "init\t [-0.11866943  1.14425716]\t 2.6327313115208373\t 2.6327313115208373\t    \t    \n",
            "init\t [2.72289645 0.1886002 ]\t 7.485305147100433\t 2.6327313115208373\t    \t    \n",
            "init\t [-2.08076286 -3.19773462]\t 24.780587476435763\t 2.6327313115208373\t    \t    \n",
            "1  \t [ 4.32895605 -5.09732646]\t 70.70533460957368\t 2.6327313115208373\t 4.51748771961911\t 4.75216973814078\n",
            "2  \t [5.12 5.12]\t 78.64320000000001\t 2.6327313115208373\t 4.197146802268095\t 3.8260880921945453\n",
            "3  \t [-5.08353844 -0.23562554]\t 25.953401827140652\t 2.6327313115208373\t 3.4589051367067762\t 3.747047563233749\n",
            "4  \t [1.05783448 4.86805732]\t 48.514977981807014\t 2.6327313115208373\t 3.432411230607743\t 3.455897423374857\n",
            "5  \t [-5.12 -5.12]\t 78.64320000000001\t 2.6327313115208373\t 3.5007744104104064\t 3.7883145524432846\n",
            "6  \t [ 1.33007634 -2.63520354]\t 15.657698469649798\t 2.6327313115208373\t 2.9853245181022583\t 3.388335889250591\n",
            "7  \t [ 5.12       -1.37452207]\t 29.993021830110578\t 2.6327313115208373\t 2.401552508086851\t 2.900228768645617\n",
            "8  \t [5.12       1.75488289]\t 32.37362790076404\t 2.6327313115208373\t 3.1945769878943304\t 3.5545386605106306\n",
            "9  \t [-2.05387499  0.01219232]\t 4.218699798410514\t 2.6327313115208373\t 2.601879143103937\t 2.7188997987771004\n",
            "\u001b[1m\u001b[92m10\u001b[0m\t \u001b[1m\u001b[92m[-0.03457048 -0.83143676]\u001b[0m\t \u001b[1m\u001b[92m1.3837692988445731\u001b[0m\t \u001b[1m\u001b[92m1.3837692988445731\u001b[0m\t \u001b[1m\u001b[92m2.7435560515655677\u001b[0m\t \u001b[1m\u001b[92m3.002940743730259\u001b[0m\n",
            "11 \t [-0.75686799 -5.12      ]\t 53.001649161120255\t 1.3837692988445731\t 2.9553592693481825\t 3.1574615887750164\n",
            "12 \t [-5.12        2.41204512]\t 37.85032334067438\t 1.3837692988445731\t 2.6853829338114625\t 2.9458794110687228\n",
            "13 \t [1.45742889 2.24414239]\t 12.196449107579943\t 1.3837692988445731\t 2.883296454763614\t 2.665495737526126\n",
            "14 \t [-4.58328753 -2.38928977]\t 32.423935779173505\t 1.3837692988445731\t 2.55769972405526\t 3.213923585661394\n",
            "15 \t [-0.4777281   2.31363797]\t 10.934065483132386\t 1.3837692988445731\t 2.1310665039282255\t 2.4621658155890818\n",
            "16 \t [-2.46594978  1.32823525]\t 9.609326091142979\t 1.3837692988445731\t 2.6810724175082337\t 2.9090080189428713\n",
            "17 \t [ 1.64688995 -4.7051335 ]\t 46.98880907382555\t 1.3837692988445731\t 2.4752590509908288\t 3.3096621957869528\n",
            "18 \t [-3.95568512  1.95657228]\t 23.303794941239214\t 1.3837692988445731\t 2.8343091464677337\t 2.8368469793079445\n",
            "19 \t [3.31529123 3.12295902]\t 30.49690203530035\t 1.3837692988445731\t 2.220785321154491\t 3.054603328287588\n",
            "\u001b[1m\u001b[92m20\u001b[0m\t \u001b[1m\u001b[92m[ 1.09346414 -0.00491483]\u001b[0m\t \u001b[1m\u001b[92m1.195712141356415\u001b[0m\t \u001b[1m\u001b[92m1.195712141356415\u001b[0m\t \u001b[1m\u001b[92m2.578963600596496\u001b[0m\t \u001b[1m\u001b[92m3.337697779579456\u001b[0m\n"
          ]
        }
      ],
      "source": [
        "### EXACT STP CBM GRADIENTS\n",
        "\n",
        "np.random.seed(run_num_5)\n",
        "surrogate_exact_5 = dtStudentProcess(cov_func, optimize=opt, nu = df)\n",
        "\n",
        "exact_5 = dGPGO(surrogate_exact_5, Acquisition_grad(util), objfunc, param)\n",
        "exact_5.run(init_evals=n_init, max_iter=iters)\n"
      ]
    },
    {
      "cell_type": "code",
      "execution_count": null,
      "metadata": {
        "id": "04KJCEm_Ivvf",
        "colab": {
          "base_uri": "https://localhost:8080/"
        },
        "outputId": "0685bdf1-a965-4e96-b6c8-edf3be0dadae"
      },
      "outputs": [
        {
          "output_type": "stream",
          "name": "stdout",
          "text": [
            "Evaluation \t Proposed point \t  Current eval. \t  Best eval. \t        Exact CBM: StdDev. x \t Approx CBM: StdDev. x \n",
            "init\t [ 4.02288795 -1.72052679]\t 22.104052359713652\t 1.4757178799086357\t    \t    \n",
            "init\t [ 3.28938622 -4.69302655]\t 54.869058151382724\t 1.4757178799086357\t    \t    \n",
            "init\t [-4.0175956   0.97333314]\t 18.035829177697114\t 1.4757178799086357\t    \t    \n",
            "init\t [ 0.30532979 -0.83141193]\t 1.4757178799086357\t 1.4757178799086357\t    \t    \n",
            "init\t [-1.68542362  1.25459899]\t 5.988690020231891\t 1.4757178799086357\t    \t    \n",
            "1  \t [5.12 5.12]\t 78.64320000000001\t 1.4757178799086357\t 3.8637534665207807\t 3.932533092991315\n",
            "2  \t [-5.12 -5.12]\t 78.64320000000001\t 1.4757178799086357\t 3.744717503864099\t 3.757856537945605\n",
            "3  \t [0.07826141 5.12      ]\t 52.434924848072036\t 1.4757178799086357\t 3.07624443101288\t 3.4932767014874293\n",
            "4  \t [-0.88950003 -4.39340644]\t 39.39525065926202\t 1.4757178799086357\t 3.107354298387091\t 4.174388198622991\n",
            "5  \t [2.37800356 1.78149227]\t 12.002330371570057\t 1.4757178799086357\t 2.417069571683738\t 3.135004442013661\n",
            "6  \t [-3.69495864  4.46561742]\t 53.53619730049496\t 1.4757178799086357\t 2.7250291105594107\t 3.549574574609159\n",
            "7  \t [-3.04113577 -1.95359598]\t 16.881581290900936\t 1.4757178799086357\t 3.12324445322391\t 3.4668390117678642\n",
            "8  \t [5.12       1.73644238]\t 32.24486430117318\t 1.4757178799086357\t 2.8552085201088255\t 3.0884132357096616\n",
            "9  \t [2.55186201 4.5450495 ]\t 47.826949650296804\t 1.4757178799086357\t 2.574116398477001\t 3.001623884533797\n",
            "10 \t [0.07743017 2.09689032]\t 8.799893435183025\t 1.4757178799086357\t 2.7533413041292842\t 3.336130821366244\n",
            "11 \t [ 1.43684609 -2.54042009]\t 14.971995120533157\t 1.4757178799086357\t 3.053306232565396\t 3.512789316236326\n",
            "12 \t [-5.12       -1.58692766]\t 31.251078781341274\t 1.4757178799086357\t 2.537985673447775\t 3.4680970240768256\n",
            "13 \t [-1.68758418  3.89931662]\t 33.257280549318914\t 1.4757178799086357\t 2.5642660659807874\t 3.393148988343707\n",
            "14 \t [-1.30969011 -0.64296718]\t 2.5421017907496957\t 1.4757178799086357\t 2.6732008378511782\t 3.3093245320653297\n",
            "15 \t [-0.78216978 -2.02269009]\t 8.794339969326089\t 1.4757178799086357\t 2.6655482538325583\t 3.5115158372175745\n",
            "16 \t [ 2.40093548 -0.42032348]\t 6.11783485370918\t 1.4757178799086357\t 2.8583029419401487\t 3.428346817387454\n",
            "\u001b[1m\u001b[92m17\u001b[0m\t \u001b[1m\u001b[92m[0.61981057 0.53128447]\u001b[0m\t \u001b[1m\u001b[92m0.9486915270644538\u001b[0m\t \u001b[1m\u001b[92m0.9486915270644538\u001b[0m\t \u001b[1m\u001b[92m2.882670069386833\u001b[0m\t \u001b[1m\u001b[92m3.8657821555759884\u001b[0m\n",
            "18 \t [-2.83179751 -5.12      ]\t 60.447877147842085\t 0.9486915270644538\t 2.7837080623220265\t 3.7012372110769305\n",
            "19 \t [-4.74644116  2.64056072]\t 36.4738255035077\t 0.9486915270644538\t 3.2241083455598503\t 3.2547905553456364\n",
            "20 \t [ 5.12       -0.34317677]\t 26.44994058469767\t 0.9486915270644538\t 2.6548472751768672\t 3.2617984792524495\n"
          ]
        }
      ],
      "source": [
        "### EXACT STP CBM GRADIENTS\n",
        "\n",
        "np.random.seed(run_num_6)\n",
        "surrogate_exact_6 = dtStudentProcess(cov_func, optimize=opt, nu = df)\n",
        "\n",
        "exact_6 = dGPGO(surrogate_exact_6, Acquisition_grad(util), objfunc, param)\n",
        "exact_6.run(init_evals=n_init, max_iter=iters)\n"
      ]
    },
    {
      "cell_type": "code",
      "execution_count": null,
      "metadata": {
        "id": "tAOkme3CIvyO",
        "colab": {
          "base_uri": "https://localhost:8080/"
        },
        "outputId": "1db82232-6d7d-4e53-a33e-542fb9d69170"
      },
      "outputs": [
        {
          "output_type": "stream",
          "name": "stdout",
          "text": [
            "Evaluation \t Proposed point \t  Current eval. \t  Best eval. \t        Exact CBM: StdDev. x \t Approx CBM: StdDev. x \n",
            "init\t [-4.33860312  2.86636843]\t 35.25561298730891\t 5.622520458601941\t    \t    \n",
            "init\t [-0.63068947  2.28828342]\t 10.870251237170722\t 5.622520458601941\t    \t    \n",
            "init\t [4.8946126  0.39419771]\t 24.268016205804518\t 5.622520458601941\t    \t    \n",
            "init\t [ 0.01147355 -4.38219639]\t 38.407422120416236\t 5.622520458601941\t    \t    \n",
            "init\t [-2.37118484e+00 -1.20319155e-03]\t 5.622520458601941\t 5.622520458601941\t    \t    \n",
            "1  \t [-5.12 -5.12]\t 78.64320000000001\t 5.622520458601941\t 3.4821722731430476\t 3.8163407939490197\n",
            "2  \t [3.5599965 5.12     ]\t 65.10237505042747\t 5.622520458601941\t 3.7292951581762575\t 4.067586540345629\n",
            "3  \t [ 4.60098855 -4.08994682]\t 54.62442556920254\t 5.622520458601941\t 3.5338832382756955\t 4.064539224206781\n",
            "4  \t [-4.02558214 -1.33646422]\t 19.777584798449002\t 5.622520458601941\t 2.8877933811840957\t 3.046307140328312\n",
            "\u001b[1m\u001b[92m5\u001b[0m\t \u001b[1m\u001b[92m[ 1.26968012 -0.69412519]\u001b[0m\t \u001b[1m\u001b[92m2.5757071753885477\u001b[0m\t \u001b[1m\u001b[92m2.5757071753885477\u001b[0m\t \u001b[1m\u001b[92m3.116351977933874\u001b[0m\t \u001b[1m\u001b[92m3.283630819359626\u001b[0m\n",
            "6  \t [-1.43470569  5.12      ]\t 54.48718041854822\t 2.5757071753885477\t 2.994521129986785\t 3.6119865998435117\n",
            "7  \t [2.01248317 2.08345987]\t 12.731698533766385\t 2.5757071753885477\t 2.7766336564458514\t 2.8715537861802014\n",
            "8  \t [-2.43836655 -3.34837623]\t 28.36887812508631\t 2.5757071753885477\t 3.228469324949298\t 3.604617832391878\n",
            "\u001b[1m\u001b[92m9\u001b[0m\t \u001b[1m\u001b[92m[-0.61951671 -0.68824473]\u001b[0m\t \u001b[1m\u001b[92m1.3311625789918544\u001b[0m\t \u001b[1m\u001b[92m1.3311625789918544\u001b[0m\t \u001b[1m\u001b[92m3.149169385582289\u001b[0m\t \u001b[1m\u001b[92m3.71782396558698\u001b[0m\n",
            "10 \t [ 2.26011999 -2.16836922]\t 14.511792525978937\t 1.3311625789918544\t 2.841235653697886\t 3.5268892418002427\n",
            "11 \t [0.98886668 4.27947136]\t 37.605607644038756\t 1.3311625789918544\t 3.2286270659472702\t 3.6732556478794973\n",
            "12 \t [-5.11292055  5.04211319]\t 76.98776743271776\t 1.3311625789918544\t 3.4669567552745706\t 3.7504532717769528\n",
            "13 \t [5.12       2.83666399]\t 42.30772518680812\t 1.3311625789918544\t 3.453547231358366\t 3.6635821280891196\n",
            "14 \t [-4.59320384  0.41016755]\t 21.4339963507286\t 1.3311625789918544\t 2.211237943632115\t 2.75573132608135\n",
            "15 \t [ 4.33773832 -1.53679373]\t 23.53944368947664\t 1.3311625789918544\t 3.367902472912931\t 3.404105353936384\n",
            "16 \t [ 2.29449218 -4.91509863]\t 53.58108353151451\t 1.3311625789918544\t 2.8013506696504717\t 3.3255098236370655\n",
            "17 \t [-0.01582369 -2.02117719]\t 8.170564862733517\t 1.3311625789918544\t 2.2504120426626\t 1.798873934689456\n",
            "\u001b[1m\u001b[92m18\u001b[0m\t \u001b[1m\u001b[92m[0.07334155 0.71355353]\u001b[0m\t \u001b[1m\u001b[92m1.0236962618778842\u001b[0m\t \u001b[1m\u001b[92m1.0236962618778842\u001b[0m\t \u001b[1m\u001b[92m3.246320009068857\u001b[0m\t \u001b[1m\u001b[92m3.3386571418204487\u001b[0m\n",
            "19 \t [2.89481355 3.96888792]\t 39.88408823271112\t 1.0236962618778842\t 3.095052135983418\t 3.1350289214634732\n",
            "20 \t [2.54353325 0.25968677]\t 6.604435843301571\t 1.0236962618778842\t 3.412526257800766\t 3.163503133937107\n"
          ]
        }
      ],
      "source": [
        "### EXACT STP CBM GRADIENTS\n",
        "\n",
        "np.random.seed(run_num_7)\n",
        "surrogate_exact_7 = dtStudentProcess(cov_func, optimize=opt, nu = df)\n",
        "\n",
        "exact_7 = dGPGO(surrogate_exact_7, Acquisition_grad(util), objfunc, param)\n",
        "exact_7.run(init_evals=n_init, max_iter=iters)\n"
      ]
    },
    {
      "cell_type": "code",
      "execution_count": null,
      "metadata": {
        "id": "69-J3EF4Iv1S",
        "colab": {
          "base_uri": "https://localhost:8080/"
        },
        "outputId": "cd66282b-c3cc-4af1-f483-70bb067721f4"
      },
      "outputs": [
        {
          "output_type": "stream",
          "name": "stdout",
          "text": [
            "Evaluation \t Proposed point \t  Current eval. \t  Best eval. \t        Exact CBM: StdDev. x \t Approx CBM: StdDev. x \n",
            "init\t [3.82391708 4.79785639]\t 60.661193695854244\t 0.1518306274298758\t    \t    \n",
            "init\t [3.78055209 0.31596228]\t 14.492238445440277\t 0.1518306274298758\t    \t    \n",
            "init\t [-2.73686192 -5.00327624]\t 57.555959528959804\t 0.1518306274298758\t    \t    \n",
            "init\t [-0.7119993  -0.99992207]\t 2.506631309190485\t 0.1518306274298758\t    \t    \n",
            "init\t [ 0.23218863 -0.22126801]\t 0.1518306274298758\t 0.1518306274298758\t    \t    \n",
            "1  \t [ 4.9638213  -4.82579675]\t 71.21615052930461\t 0.1518306274298758\t 3.1817043261519435\t 3.8867192708299823\n",
            "2  \t [-1.15161962  3.15654216]\t 21.2537445764144\t 0.1518306274298758\t 3.287490724195585\t 3.5389845119388195\n",
            "3  \t [-5.12      -0.0227532]\t 26.215435416652596\t 0.1518306274298758\t 3.210210114273747\t 3.6256429121454694\n",
            "4  \t [ 1.08908556 -4.7860345 ]\t 46.99835990052029\t 0.1518306274298758\t 3.4225215907244877\t 3.606809710966714\n",
            "5  \t [1.54455205 1.75797313]\t 8.566580112369067\t 0.1518306274298758\t 3.6682726457540666\t 3.6784670864145776\n",
            "6  \t [-5.12       -3.08758192]\t 45.28072420540661\t 0.1518306274298758\t 3.8349191998616523\t 3.957063287580608\n",
            "7  \t [-4.70534107  3.68881698]\t 49.35497598394471\t 0.1518306274298758\t 3.0630143714289084\t 3.556865332680943\n",
            "8  \t [ 1.82626975 -1.66854821]\t 8.903367442809007\t 0.1518306274298758\t 3.0167109930519054\t 3.140208492393563\n",
            "9  \t [ 5.10032417 -1.68225223]\t 31.673251763682806\t 0.1518306274298758\t 3.3768219269397526\t 3.3584617459951898\n",
            "10 \t [-2.42514957  0.71241383]\t 6.89641739345843\t 0.1518306274298758\t 3.2552395212070806\t 2.966138825120254\n",
            "11 \t [0.64046077 5.12      ]\t 52.838989995770454\t 0.1518306274298758\t 3.4232537514665684\t 3.2986190178648553\n",
            "12 \t [-2.09952122 -2.15943538]\t 13.734311657198482\t 0.1518306274298758\t 2.8729712232651163\t 2.9701272305751143\n",
            "13 \t [5.12       2.50267391]\t 38.741153413202746\t 0.1518306274298758\t 3.0351564894601832\t 3.347553750902407\n",
            "14 \t [-2.26593893  5.12      ]\t 57.56327923878105\t 0.1518306274298758\t 2.790737931599463\t 3.198953269513949\n",
            "15 \t [-0.40709685  1.0184371 ]\t 2.2401560791368924\t 0.1518306274298758\t 3.068189238565471\t 3.1146189023777855\n",
            "16 \t [ 2.99857487 -3.01856376]\t 27.214905575515154\t 0.1518306274298758\t 2.8085634000103012\t 2.8122241785385467\n",
            "17 \t [ 0.0126633  -2.60123929]\t 13.533052042618738\t 0.1518306274298758\t 2.774251028336859\t 3.1691162971589475\n",
            "18 \t [1.49183444 0.2105746 ]\t 2.314253317833417\t 0.1518306274298758\t 2.849676769152539\t 3.092589206509805\n",
            "19 \t [-3.80123658  1.75700379]\t 20.623524226020486\t 0.1518306274298758\t 2.5622361175111634\t 2.955393539861162\n",
            "20 \t [-5.12 -5.12]\t 78.64320000000001\t 0.1518306274298758\t 3.372392841877631\t 3.426177272565735\n"
          ]
        }
      ],
      "source": [
        "### EXACT STP CBM GRADIENTS\n",
        "\n",
        "np.random.seed(run_num_8)\n",
        "surrogate_exact_8 = dtStudentProcess(cov_func, optimize=opt, nu = df)\n",
        "\n",
        "exact_8 = dGPGO(surrogate_exact_8, Acquisition_grad(util), objfunc, param)\n",
        "exact_8.run(init_evals=n_init, max_iter=iters)\n"
      ]
    },
    {
      "cell_type": "code",
      "execution_count": null,
      "metadata": {
        "id": "vonm9jyuIv4t",
        "colab": {
          "base_uri": "https://localhost:8080/"
        },
        "outputId": "2559853d-e729-4592-ae50-06687b272b8d"
      },
      "outputs": [
        {
          "output_type": "stream",
          "name": "stdout",
          "text": [
            "Evaluation \t Proposed point \t  Current eval. \t  Best eval. \t        Exact CBM: StdDev. x \t Approx CBM: StdDev. x \n",
            "init\t [-5.01376866  0.01919582]\t 25.138613177506063\t 14.00341364504739\t    \t    \n",
            "init\t [-0.04328148 -3.74958562]\t 28.12065798163534\t 14.00341364504739\t    \t    \n",
            "init\t [-3.66478248 -2.88195916]\t 30.04200788009657\t 14.00341364504739\t    \t    \n",
            "init\t [-0.83447623 -2.57944404]\t 14.00341364504739\t 14.00341364504739\t    \t    \n",
            "init\t [-4.25922917 -1.58209393]\t 23.14707552082245\t 14.00341364504739\t    \t    \n",
            "1  \t [3.11029524 4.9495987 ]\t 58.67099112867045\t 14.00341364504739\t 2.9657938657145837\t 3.0418132774937487\n",
            "2  \t [ 4.90504753 -1.17876654]\t 26.838472404862035\t 14.00341364504739\t 3.5644401887858606\t 4.212181321032368\n",
            "3  \t [-1.94955     3.97847316]\t 35.457242668917246\t 14.00341364504739\t 2.753775775318251\t 4.361150169290011\n",
            "\u001b[1m\u001b[92m4\u001b[0m\t \u001b[1m\u001b[92m[1.18383481 0.90690391]\u001b[0m\t \u001b[1m\u001b[92m3.046414253129643\u001b[0m\t \u001b[1m\u001b[92m3.046414253129643\u001b[0m\t \u001b[1m\u001b[92m3.3749087862349376\u001b[0m\t \u001b[1m\u001b[92m3.878843075865125\u001b[0m\n",
            "5  \t [5.12       2.10802882]\t 35.10197104411934\t 3.046414253129643\t 3.8471807616458014\t 3.995007001114211\n",
            "6  \t [-1.64087533  0.67609081]\t 3.606669416006838\t 3.046414253129643\t 3.1389307309413677\t 3.612417470073399\n",
            "7  \t [ 2.87216145 -3.40528704]\t 31.441271100004453\t 3.046414253129643\t 3.3993979643336907\t 3.9845134208702597\n",
            "8  \t [-5.12 -5.12]\t 78.64320000000001\t 3.046414253129643\t 3.2676696074130045\t 4.048668610742779\n",
            "9  \t [-4.40646662  2.57118197]\t 32.63890153351152\t 3.046414253129643\t 3.367831706549404\t 3.9942588506783916\n",
            "10 \t [0.69353425 2.99553814]\t 18.427487263832084\t 3.046414253129643\t 3.0410827557106046\t 2.875824552232599\n",
            "11 \t [ 1.78997438 -0.89383931]\t 4.801905706342641\t 3.046414253129643\t 2.7662512707007516\t 3.7321244276774284\n",
            "\u001b[1m\u001b[92m12\u001b[0m\t \u001b[1m\u001b[92m[-0.31155343 -0.34376684]\u001b[0m\t \u001b[1m\u001b[92m0.3334168227553831\u001b[0m\t \u001b[1m\u001b[92m0.3334168227553831\u001b[0m\t \u001b[1m\u001b[92m2.8201380955007256\u001b[0m\t \u001b[1m\u001b[92m3.394429331047615\u001b[0m\n",
            "13 \t [-1.72418755 -1.02270836]\t 5.064687476077767\t 0.3334168227553831\t 3.094890015986559\t 3.254768059753721\n",
            "14 \t [-2.04650129 -5.12      ]\t 56.616967526386055\t 0.3334168227553831\t 2.9227648740679935\t 3.0590954738598923\n",
            "15 \t [2.82915842 1.04866383]\t 10.203529026667695\t 0.3334168227553831\t 2.9534250314246053\t 3.8283668362047885\n",
            "16 \t [ 5.12       -3.34162959]\t 48.54737657118231\t 0.3334168227553831\t 2.9968563938265564\t 4.108914154973704\n",
            "17 \t [0.70748996 5.01871698]\t 50.87558225811387\t 0.3334168227553831\t 3.056831407586827\t 2.8234152649453588\n",
            "18 \t [-1.00875637  1.84821009]\t 7.849350475534005\t 0.3334168227553831\t 2.526988397895713\t 3.8395474177086424\n",
            "19 \t [-4.99200742  4.38701668]\t 63.41196877291334\t 0.3334168227553831\t 3.6549087468539656\t 3.6049237077110883\n",
            "20 \t [ 2.94965562 -4.99564683]\t 58.61344282198644\t 0.3334168227553831\t 3.197375231171046\t 3.3446560696277565\n"
          ]
        }
      ],
      "source": [
        "### EXACT STP CBM GRADIENTS\n",
        "\n",
        "np.random.seed(run_num_9)\n",
        "surrogate_exact_9 = dtStudentProcess(cov_func, optimize=opt, nu = df)\n",
        "\n",
        "exact_9 = dGPGO(surrogate_exact_9, Acquisition_grad(util), objfunc, param)\n",
        "exact_9.run(init_evals=n_init, max_iter=iters)\n"
      ]
    },
    {
      "cell_type": "code",
      "execution_count": null,
      "metadata": {
        "id": "6amuYlUdIv7r",
        "colab": {
          "base_uri": "https://localhost:8080/"
        },
        "outputId": "c1deafc4-c3c2-4372-e199-d3970ba9ba0b"
      },
      "outputs": [
        {
          "output_type": "stream",
          "name": "stdout",
          "text": [
            "Evaluation \t Proposed point \t  Current eval. \t  Best eval. \t        Exact CBM: StdDev. x \t Approx CBM: StdDev. x \n",
            "init\t [ 2.77832339 -4.90750004]\t 55.886194099964676\t 14.855028828430257\t    \t    \n",
            "init\t [1.36855793 2.54775176]\t 14.855028828430257\t 14.855028828430257\t    \t    \n",
            "init\t [-0.01528819 -2.81808235]\t 15.883409988980564\t 14.855028828430257\t    \t    \n",
            "init\t [-3.09183626  2.66783449]\t 23.79413325191142\t 14.855028828430257\t    \t    \n",
            "init\t [-3.38830503 -4.2154003 ]\t 47.019810427389544\t 14.855028828430257\t    \t    \n",
            "1  \t [ 5.12       -0.29097273]\t 26.383730263933092\t 14.855028828430257\t 3.4854530164065554\t 3.942613187658114\n",
            "2  \t [5.12 5.12]\t 78.64320000000001\t 14.855028828430257\t 3.224265956889063\t 4.040945293852499\n",
            "3  \t [-4.19746119 -0.70791002]\t 18.62095366395573\t 14.855028828430257\t 2.973775351691394\t 3.616184281862764\n",
            "4  \t [0.31218475 5.12      ]\t 52.526259317765025\t 14.855028828430257\t 3.5596181003999945\t 4.02617894519503\n",
            "\u001b[1m\u001b[92m5\u001b[0m\t \u001b[1m\u001b[92m[ 2.05201974 -0.72277365]\u001b[0m\t \u001b[1m\u001b[92m5.255588487975823\u001b[0m\t \u001b[1m\u001b[92m5.255588487975823\u001b[0m\t \u001b[1m\u001b[92m3.3708200399197703\u001b[0m\t \u001b[1m\u001b[92m3.6197760577482785\u001b[0m\n",
            "6  \t [4.74511121 2.16105904]\t 31.8564327586381\t 5.255588487975823\t 3.71024567665691\t 4.3317495427787245\n",
            "\u001b[1m\u001b[92m7\u001b[0m\t \u001b[1m\u001b[92m[-0.88866404  0.20737935]\u001b[0m\t \u001b[1m\u001b[92m0.8757361539105553\u001b[0m\t \u001b[1m\u001b[92m0.8757361539105553\u001b[0m\t \u001b[1m\u001b[92m2.947165493725643\u001b[0m\t \u001b[1m\u001b[92m3.7174466261742483\u001b[0m\n",
            "8  \t [ 3.6770965  -2.29450586]\t 24.05055295212736\t 0.8757361539105553\t 3.209215786430664\t 3.8948288390448806\n",
            "9  \t [-0.49191783 -5.12      ]\t 52.67078314907037\t 0.8757361539105553\t 3.1065136120187145\t 3.9270974883569942\n",
            "10 \t [-5.12        1.00580823]\t 28.237700388309367\t 0.8757361539105553\t 3.2004243521002667\t 3.98338568494039\n",
            "11 \t [-2.52254303  4.88222981]\t 54.03555920796596\t 0.8757361539105553\t 2.810753133462635\t 3.3751877815910083\n",
            "12 \t [-2.10629022 -0.89982214]\t 6.055818290644551\t 0.8757361539105553\t 3.100098634628025\t 3.6565035120025513\n",
            "\u001b[1m\u001b[92m13\u001b[0m\t \u001b[1m\u001b[92m[0.68055432 0.42395089]\u001b[0m\t \u001b[1m\u001b[92m0.8226229025927301\u001b[0m\t \u001b[1m\u001b[92m0.8226229025927301\u001b[0m\t \u001b[1m\u001b[92m2.8749987029736963\u001b[0m\t \u001b[1m\u001b[92m3.9383886847628595\u001b[0m\n",
            "14 \t [-1.00388711  2.40492596]\t 12.575127040792346\t 0.8226229025927301\t 3.219221991429065\t 3.9363061645927746\n",
            "15 \t [-0.20946846 -0.82079529]\t 1.3912868577824726\t 0.8226229025927301\t 3.8485608169666654\t 3.750477027270599\n",
            "16 \t [-5.12       -2.58350574]\t 39.56340380779732\t 0.8226229025927301\t 3.618855224479258\t 3.5006578604027863\n",
            "17 \t [2.68948731 4.60887613]\t 49.71682034827725\t 0.8226229025927301\t 3.077517915363283\t 3.623858980011444\n",
            "18 \t [2.96155583 0.85577673]\t 10.235520574266214\t 0.8226229025927301\t 2.9589595577337113\t 3.765246155206552\n",
            "19 \t [ 4.54251704 -3.73103814]\t 48.47575229578204\t 0.8226229025927301\t 2.535681825780998\t 2.732661964462118\n",
            "20 \t [-2.30383542  0.6785673 ]\t 6.228564823519972\t 0.8226229025927301\t 2.664416142396927\t 3.8285673616149074\n"
          ]
        }
      ],
      "source": [
        "### EXACT STP CBM GRADIENTS\n",
        "\n",
        "np.random.seed(run_num_10)\n",
        "surrogate_exact_10 = dtStudentProcess(cov_func, optimize=opt, nu = df)\n",
        "\n",
        "exact_10 = dGPGO(surrogate_exact_10, Acquisition_grad(util), objfunc, param)\n",
        "exact_10.run(init_evals=n_init, max_iter=iters)\n"
      ]
    },
    {
      "cell_type": "code",
      "execution_count": null,
      "metadata": {
        "id": "VwbLIP9cIv-F",
        "colab": {
          "base_uri": "https://localhost:8080/"
        },
        "outputId": "9a573bb7-ae13-4a3d-f16f-d938d8db3b8c"
      },
      "outputs": [
        {
          "output_type": "stream",
          "name": "stdout",
          "text": [
            "Evaluation \t Proposed point \t  Current eval. \t  Best eval. \t        Exact CBM: StdDev. x \t Approx CBM: StdDev. x \n",
            "init\t [-3.27403839 -4.92057353]\t 59.14341502486697\t 0.7122141741228657\t    \t    \n",
            "init\t [-0.37664229  2.30332343]\t 10.752457105378047\t 0.7122141741228657\t    \t    \n",
            "init\t [-0.81711509 -0.14922651]\t 0.7122141741228657\t 0.7122141741228657\t    \t    \n",
            "init\t [-4.98912446 -0.12931474]\t 24.924807467825406\t 0.7122141741228657\t    \t    \n",
            "init\t [4.52410012 3.59214172]\t 46.27444610017016\t 0.7122141741228657\t    \t    \n",
            "1  \t [ 3.03550212 -4.46785095]\t 49.13765732819627\t 0.7122141741228657\t 3.103655133725172\t 4.041555293912765\n",
            "2  \t [ 4.91189948 -0.58768239]\t 24.81749767398038\t 0.7122141741228657\t 2.4117549523360466\t 3.5977815741522083\n",
            "3  \t [-0.33340839 -2.50917311]\t 12.703060536279539\t 0.7122141741228657\t 3.089423546622062\t 4.112464388565229\n",
            "4  \t [1.77987122 0.55485576]\t 3.7836714070164694\t 0.7122141741228657\t 2.958846229521167\t 3.362921035021089\n",
            "5  \t [-3.44598743  3.2109297 ]\t 32.494968417088714\t 0.7122141741228657\t 2.8979569332417907\t 3.774150639167314\n",
            "6  \t [1.43986272 4.98772081]\t 51.827922405513895\t 0.7122141741228657\t 3.1046856910597085\t 3.2253329415657612\n",
            "7  \t [-0.26359352 -5.10655085]\t 52.22320472052454\t 0.7122141741228657\t 3.5828976967791712\t 3.88570200427617\n",
            "8  \t [ 2.16474359 -1.57790533]\t 9.665685302840307\t 0.7122141741228657\t 3.2676588480255195\t 3.182399256094629\n",
            "9  \t [-2.56512337 -1.76932912]\t 12.840908982956925\t 0.7122141741228657\t 3.3309899662738105\t 3.930816784760955\n",
            "10 \t [-1.3355414   5.01192268]\t 52.02240867443221\t 0.7122141741228657\t 3.1902655599027745\t 3.858535097306987\n",
            "11 \t [-2.4923879   0.83323008]\t 7.600542192827779\t 0.7122141741228657\t 3.640395985365686\t 4.012798411098999\n",
            "12 \t [-5.12       -2.78647732]\t 41.74331175109928\t 0.7122141741228657\t 3.481318757416633\t 3.912666357296487\n",
            "13 \t [2.0298792 2.2570261]\t 14.308743161001797\t 0.7122141741228657\t 2.8863243655925825\t 3.518049665424511\n",
            "14 \t [ 0.60479026 -0.60357133]\t 1.09436796538499\t 0.7122141741228657\t 2.719386113402371\t 3.915516230075618\n",
            "15 \t [4.75781113 1.37089521]\t 26.395474112111124\t 0.7122141741228657\t 3.082965260036091\t 3.787083672059898\n",
            "16 \t [ 4.13997162 -2.35085744]\t 28.192426395681835\t 0.7122141741228657\t 3.6912813064601186\t 4.083353910405645\n",
            "17 \t [0.1600703  0.81946389]\t 1.368664621455995\t 0.7122141741228657\t 3.859015315580018\t 3.611264784287805\n",
            "18 \t [-5.12        2.07576429]\t 34.831994745855376\t 0.7122141741228657\t 2.7541195689786875\t 3.7754620501406593\n",
            "19 \t [-4.08987555  5.12      ]\t 69.15588197880679\t 0.7122141741228657\t 3.022844248669011\t 2.97534905070704\n",
            "20 \t [-5.12 -5.12]\t 78.64320000000001\t 0.7122141741228657\t 4.804744890840743\t 4.2999869083450015\n"
          ]
        }
      ],
      "source": [
        "### EXACT STP CBM GRADIENTS\n",
        "\n",
        "np.random.seed(run_num_11)\n",
        "surrogate_exact_11 = dtStudentProcess(cov_func, optimize=opt, nu = df)\n",
        "\n",
        "exact_11 = dGPGO(surrogate_exact_11, Acquisition_grad(util), objfunc, param)\n",
        "exact_11.run(init_evals=n_init, max_iter=iters)\n"
      ]
    },
    {
      "cell_type": "code",
      "execution_count": null,
      "metadata": {
        "id": "MlUNFjc-JTBY",
        "colab": {
          "base_uri": "https://localhost:8080/"
        },
        "outputId": "d5ee4818-946d-4c6d-800e-a42ca968e765"
      },
      "outputs": [
        {
          "output_type": "stream",
          "name": "stdout",
          "text": [
            "Evaluation \t Proposed point \t  Current eval. \t  Best eval. \t        Exact CBM: StdDev. x \t Approx CBM: StdDev. x \n",
            "init\t [-3.54137249  2.45810889]\t 24.62591779447066\t 6.112828495563743\t    \t    \n",
            "init\t [-2.42365424  0.34549139]\t 6.112828495563743\t 6.112828495563743\t    \t    \n",
            "init\t [-4.97075238  4.28796936]\t 61.48174177959852\t 6.112828495563743\t    \t    \n",
            "init\t [ 4.10332011 -4.77776458]\t 62.49130467854858\t 6.112828495563743\t    \t    \n",
            "init\t [ 4.6791612  -3.71497655]\t 49.4966510918416\t 6.112828495563743\t    \t    \n",
            "1  \t [5.12 5.12]\t 78.64320000000001\t 6.112828495563743\t 3.705251380733214\t 3.4957259451711327\n",
            "2  \t [-5.12 -5.12]\t 78.64320000000001\t 6.112828495563743\t 3.519141116263808\t 3.112048825021908\n",
            "3  \t [2.21730335 0.79917576]\t 6.193797948244724\t 6.112828495563743\t 2.792050784746846\t 2.6224191083210973\n",
            "4  \t [0.43153113 4.680876  ]\t 44.00741940122867\t 6.112828495563743\t 3.0467026048403727\t 3.201976351408077\n",
            "5  \t [-0.47553297 -4.0976094 ]\t 33.806937226351\t 6.112828495563743\t 2.730360707241258\t 2.70226016015391\n",
            "6  \t [-5.12       -1.13644639]\t 28.797420794625623\t 6.112828495563743\t 2.4836380451008653\t 3.1838701492228423\n",
            "7  \t [5.12       0.27164657]\t 26.36198371694028\t 6.112828495563743\t 2.6936013869358315\t 3.101509313796963\n",
            "\u001b[1m\u001b[92m8\u001b[0m\t \u001b[1m\u001b[92m[ 0.42580694 -1.06128412]\u001b[0m\t \u001b[1m\u001b[92m2.4339595375094247\u001b[0m\t \u001b[1m\u001b[92m2.4339595375094247\u001b[0m\t \u001b[1m\u001b[92m2.730905660110553\u001b[0m\t \u001b[1m\u001b[92m2.8753289382896194\u001b[0m\n",
            "9  \t [-0.18789283  1.44874068]\t 4.2330028356626785\t 2.4339595375094247\t 2.757795410476791\t 2.8473915494190645\n",
            "10 \t [ 2.44523927 -1.89964452]\t 13.196493684816728\t 2.4339595375094247\t 2.740827812407531\t 3.2959980602567946\n",
            "11 \t [2.83844063 2.93078019]\t 25.235690295418472\t 2.4339595375094247\t 2.867383138883848\t 3.0200944891395674\n",
            "12 \t [-2.27073993 -2.13734269]\t 14.292727424705884\t 2.4339595375094247\t 2.8382947735504938\t 2.966081056311809\n",
            "13 \t [ 1.26745032 -5.11940093]\t 54.02296218668365\t 2.4339595375094247\t 2.523734042897356\t 3.199448233612804\n",
            "14 \t [-2.08136201  4.90988182]\t 52.54594673532371\t 2.4339595375094247\t 3.156751432639581\t 3.3946755592709947\n",
            "15 \t [5.12       2.41199128]\t 37.84980387820791\t 2.4339595375094247\t 3.319458867745141\t 3.1717909811053397\n",
            "16 \t [-5.12       1.1104393]\t 28.68055089697944\t 2.4339595375094247\t 2.8138458376177193\t 2.9465558670879894\n",
            "17 \t [-2.45090036 -5.12      ]\t 58.43571257626642\t 2.4339595375094247\t 2.654162625333954\t 2.988013545029629\n",
            "18 \t [ 0.98052159 -3.30037244]\t 22.746339115711585\t 2.4339595375094247\t 3.091349778437458\t 3.1056713636456883\n",
            "\u001b[1m\u001b[92m19\u001b[0m\t \u001b[1m\u001b[92m[0.79735417 0.19890722]\u001b[0m\t \u001b[1m\u001b[92m0.7149018361531831\u001b[0m\t \u001b[1m\u001b[92m0.7149018361531831\u001b[0m\t \u001b[1m\u001b[92m2.5789083595961664\u001b[0m\t \u001b[1m\u001b[92m3.052512386054858\u001b[0m\n",
            "20 \t [-0.95108659 -0.13175521]\t 0.9392845776601466\t 0.7149018361531831\t 2.4330523977032565\t 2.679340207967898\n"
          ]
        }
      ],
      "source": [
        "### EXACT STP CBM GRADIENTS\n",
        "\n",
        "np.random.seed(run_num_12)\n",
        "surrogate_exact_12 = dtStudentProcess(cov_func, optimize=opt, nu = df)\n",
        "\n",
        "exact_12 = dGPGO(surrogate_exact_12, Acquisition_grad(util), objfunc, param)\n",
        "exact_12.run(init_evals=n_init, max_iter=iters)\n"
      ]
    },
    {
      "cell_type": "code",
      "execution_count": null,
      "metadata": {
        "id": "9BsKdU9eJTFL",
        "colab": {
          "base_uri": "https://localhost:8080/"
        },
        "outputId": "a6b5541c-7888-49eb-937a-aaaba27e5d48"
      },
      "outputs": [
        {
          "output_type": "stream",
          "name": "stdout",
          "text": [
            "Evaluation \t Proposed point \t  Current eval. \t  Best eval. \t        Exact CBM: StdDev. x \t Approx CBM: StdDev. x \n",
            "init\t [ 2.84367268 -2.68757791]\t 22.532624345992815\t 12.440151302029248\t    \t    \n",
            "init\t [3.32061217 4.76927179]\t 56.51837198799\t 12.440151302029248\t    \t    \n",
            "init\t [ 4.83943541 -0.47667971]\t 23.87458213765974\t 12.440151302029248\t    \t    \n",
            "init\t [1.11659482 2.82139151]\t 17.16728408945556\t 12.440151302029248\t    \t    \n",
            "init\t [1.45012065 2.27346667]\t 12.440151302029248\t 12.440151302029248\t    \t    \n",
            "1  \t [-5.12 -5.12]\t 78.64320000000001\t 12.440151302029248\t 2.871504288395826\t 3.3454660409485433\n",
            "2  \t [-3.78383095  0.46019358]\t 14.740932961079729\t 12.440151302029248\t 2.91229480575711\t 3.890587748808768\n",
            "3  \t [-3.12721081  5.12      ]\t 62.20824742812155\t 12.440151302029248\t 3.2248601761999627\t 3.9869401537344036\n",
            "4  \t [-1.32563844 -2.6913926 ]\t 16.24450551867284\t 12.440151302029248\t 2.922579494791531\t 3.412053916189883\n",
            "5  \t [ 0.6603903 -5.12     ]\t 52.864915343761176\t 12.440151302029248\t 3.5061578396977136\t 4.265054721163203\n",
            "\u001b[1m\u001b[92m6\u001b[0m\t \u001b[1m\u001b[92m[ 0.58380163 -0.39882195]\u001b[0m\t \u001b[1m\u001b[92m0.6589422376875433\u001b[0m\t \u001b[1m\u001b[92m0.6589422376875433\u001b[0m\t \u001b[1m\u001b[92m2.96007357183116\u001b[0m\t \u001b[1m\u001b[92m3.5240901100345963\u001b[0m\n",
            "7  \t [-5.12       -1.81811203]\t 32.82546269753288\t 0.6589422376875433\t 3.4418286151373\t 3.9102244117204212\n",
            "8  \t [-1.39787358  1.59840854]\t 7.063870238283553\t 0.6589422376875433\t 2.7548110845096625\t 3.691670816774233\n",
            "9  \t [5.12       2.43114857]\t 38.0353666955447\t 0.6589422376875433\t 3.313152071304701\t 4.17712999975549\n",
            "10 \t [-2.22696283 -5.12      ]\t 57.388163445562384\t 0.6589422376875433\t 3.0945890009726122\t 3.66166119283202\n",
            "11 \t [ 5.12       -3.51846581]\t 50.973603272987525\t 0.6589422376875433\t 2.8449139999759985\t 3.915072707592041\n",
            "12 \t [0.43304287 5.11445305]\t 52.50278607915344\t 0.6589422376875433\t 2.5047341261768983\t 3.3818688663870744\n",
            "13 \t [-5.11915719  2.2702119 ]\t 36.51349450695102\t 0.6589422376875433\t 3.0027901036533713\t 3.686067359267952\n",
            "14 \t [2.30397163 0.25813102]\t 5.441548511845925\t 0.6589422376875433\t 2.495456615602018\t 2.7857970022163414\n",
            "15 \t [-1.21511412 -0.49352285]\t 1.9636319389852988\t 0.6589422376875433\t 2.766192532296086\t 2.987098865800864\n",
            "16 \t [ 0.9377936  -2.45711591]\t 12.95429402518415\t 0.6589422376875433\t 2.622160089989283\t 2.8058522586013175\n",
            "17 \t [-1.65518304  3.15161926]\t 22.605038838933588\t 0.6589422376875433\t 3.4143530742408807\t 3.941253363682356\n",
            "18 \t [-3.35227012 -2.85049495]\t 27.488357836506548\t 0.6589422376875433\t 2.7736757282296454\t 3.2059183770848043\n",
            "19 \t [0.36751039 0.67729615]\t 1.052524021927307\t 0.6589422376875433\t 2.6866688685618896\t 3.580310523380197\n",
            "20 \t [-5.04957234  4.31012265]\t 62.65249535857764\t 0.6589422376875433\t 3.344802185181612\t 3.957639153938272\n"
          ]
        }
      ],
      "source": [
        "### EXACT STP CBM GRADIENTS\n",
        "\n",
        "np.random.seed(run_num_13)\n",
        "surrogate_exact_13 = dtStudentProcess(cov_func, optimize=opt, nu = df)\n",
        "\n",
        "exact_13 = dGPGO(surrogate_exact_13, Acquisition_grad(util), objfunc, param)\n",
        "exact_13.run(init_evals=n_init, max_iter=iters)\n"
      ]
    },
    {
      "cell_type": "code",
      "execution_count": null,
      "metadata": {
        "id": "k6GjFBr1JTJf",
        "colab": {
          "base_uri": "https://localhost:8080/"
        },
        "outputId": "cb2c9f14-74b4-414b-f45b-62bd481e19bb"
      },
      "outputs": [
        {
          "output_type": "stream",
          "name": "stdout",
          "text": [
            "Evaluation \t Proposed point \t  Current eval. \t  Best eval. \t        Exact CBM: StdDev. x \t Approx CBM: StdDev. x \n",
            "init\t [0.14277984 2.79721013]\t 15.669155142359655\t 6.942951853664133\t    \t    \n",
            "init\t [ 3.7931795  -5.03759925]\t 65.14302308089468\t 6.942951853664133\t    \t    \n",
            "init\t [-1.94830412  4.68586229]\t 47.71049977745547\t 6.942951853664133\t    \t    \n",
            "init\t [ 0.13431513 -1.86076749]\t 6.942951853664133\t 6.942951853664133\t    \t    \n",
            "init\t [ 0.40140736 -2.85434939]\t 16.455748743182696\t 6.942951853664133\t    \t    \n",
            "1  \t [-5.12       -4.58778325]\t 68.30991022720609\t 6.942951853664133\t 4.219686036856204\t 4.014623713127529\n",
            "2  \t [5.12 5.12]\t 78.64320000000001\t 6.942951853664133\t 3.790290316038134\t 3.9733853318541397\n",
            "3  \t [ 4.95177313 -0.00993447]\t 24.5202544993538\t 6.942951853664133\t 2.6888322697411295\t 3.728163958154639\n",
            "4  \t [-5.12       0.6564111]\t 27.076151075210632\t 6.942951853664133\t 2.545490775806863\t 3.516587468106307\n",
            "\u001b[1m\u001b[92m5\u001b[0m\t \u001b[1m\u001b[92m[-1.73248358 -0.05869406]\u001b[0m\t \u001b[1m\u001b[92m3.0083893346734416\u001b[0m\t \u001b[1m\u001b[92m3.0083893346734416\u001b[0m\t \u001b[1m\u001b[92m2.853906753849693\u001b[0m\t \u001b[1m\u001b[92m2.806320437688566\u001b[0m\n",
            "6  \t [-1.55177181 -5.12      ]\t 54.836795754130605\t 3.0083893346734416\t 2.853765055925443\t 3.767838223077222\n",
            "7  \t [1.86869932 0.20759344]\t 3.578227212255432\t 3.0083893346734416\t 2.560134842306566\t 2.421877376191319\n",
            "8  \t [-5.04272163  3.64659703]\t 52.024381188048835\t 3.0083893346734416\t 3.2299365385048913\t 3.6430163626418617\n",
            "9  \t [1.67752753 5.12      ]\t 55.242898630267504\t 3.0083893346734416\t 2.814080076668804\t 2.892339223690668\n",
            "10 \t [-2.76659957 -2.11660285]\t 16.614088462304988\t 3.0083893346734416\t 2.841290311411373\t 2.553026315055986\n",
            "11 \t [3.38176287 2.19084745]\t 21.035945177039956\t 3.0083893346734416\t 2.9237316705367977\t 3.1216707184611714\n",
            "12 \t [ 2.95239375 -1.91581187]\t 16.05729905486389\t 3.0083893346734416\t 2.634344317080372\t 3.369182190013818\n",
            "\u001b[1m\u001b[92m13\u001b[0m\t \u001b[1m\u001b[92m[-0.10903797  0.58880745]\u001b[0m\t \u001b[1m\u001b[92m0.7052777136492209\u001b[0m\t \u001b[1m\u001b[92m0.7052777136492209\u001b[0m\t \u001b[1m\u001b[92m2.8872000238149726\u001b[0m\t \u001b[1m\u001b[92m3.210716639709575\u001b[0m\n",
            "14 \t [-1.70935467  1.48357214]\t 7.323865987580675\t 0.7052777136492209\t 2.605624249537275\t 3.0175088744469987\n",
            "15 \t [-3.17585068  1.56794677]\t 15.002941698557496\t 0.7052777136492209\t 2.2521270387551797\t 3.2072520005220184\n",
            "16 \t [ 5.12       -2.55644167]\t 39.28518802282814\t 0.7052777136492209\t 3.0344954700309597\t 3.2770759745789744\n",
            "17 \t [ 1.09118007 -4.8869958 ]\t 48.956129935595136\t 0.7052777136492209\t 2.7368051639327757\t 3.840535439872068\n",
            "18 \t [-3.22142221 -3.86598626]\t 40.269260617458045\t 0.7052777136492209\t 2.844944115976045\t 3.0777356418729718\n",
            "19 \t [-5.12       -1.96711128]\t 33.95345355574058\t 0.7052777136492209\t 2.907457149384652\t 3.647873998297045\n",
            "20 \t [3.11129307 4.91903328]\t 58.07392136453219\t 0.7052777136492209\t 2.7278607219356474\t 3.3544911540534184\n"
          ]
        }
      ],
      "source": [
        "### EXACT STP CBM GRADIENTS\n",
        "\n",
        "np.random.seed(run_num_14)\n",
        "surrogate_exact_14 = dtStudentProcess(cov_func, optimize=opt, nu = df)\n",
        "\n",
        "exact_14 = dGPGO(surrogate_exact_14, Acquisition_grad(util), objfunc, param)\n",
        "exact_14.run(init_evals=n_init, max_iter=iters)\n"
      ]
    },
    {
      "cell_type": "code",
      "execution_count": null,
      "metadata": {
        "id": "dPS8WB3aJTN6",
        "colab": {
          "base_uri": "https://localhost:8080/"
        },
        "outputId": "b64d54de-5279-43a9-e5f4-014d4b4ca304"
      },
      "outputs": [
        {
          "output_type": "stream",
          "name": "stdout",
          "text": [
            "Evaluation \t Proposed point \t  Current eval. \t  Best eval. \t        Exact CBM: StdDev. x \t Approx CBM: StdDev. x \n",
            "init\t [ 3.57189322 -3.28810573]\t 34.38169974295086\t 5.478261179905657\t    \t    \n",
            "init\t [-4.56332069 -1.41784631]\t 24.84447200795673\t 5.478261179905657\t    \t    \n",
            "init\t [-2.29989449  0.3072023 ]\t 5.478261179905657\t 5.478261179905657\t    \t    \n",
            "init\t [-1.9873903  -2.00218256]\t 11.967190241167383\t 5.478261179905657\t    \t    \n",
            "init\t [-3.97576933 -2.5610341 ]\t 28.924533081850157\t 5.478261179905657\t    \t    \n",
            "1  \t [5.12 5.12]\t 78.64320000000001\t 5.478261179905657\t 3.8296105266238385\t 3.7699509812204055\n",
            "2  \t [-0.52159617  5.12      ]\t 52.70086256330322\t 5.478261179905657\t 2.696473297602738\t 3.5649296783336553\n",
            "3  \t [-5.12       3.5639795]\t 51.618299715800475\t 5.478261179905657\t 3.3753859621601228\t 3.5596668682696504\n",
            "4  \t [2.7607564  1.03766607]\t 9.775277639040837\t 5.478261179905657\t 2.9778547871655374\t 3.109520166832101\n",
            "5  \t [-0.73563025 -5.12      ]\t 52.969951859990104\t 5.478261179905657\t 3.502475837079428\t 3.4588814377304478\n",
            "\u001b[1m\u001b[92m6\u001b[0m\t \u001b[1m\u001b[92m[ 0.71258837 -0.98665938]\u001b[0m\t \u001b[1m\u001b[92m2.454775628278795\u001b[0m\t \u001b[1m\u001b[92m2.454775628278795\u001b[0m\t \u001b[1m\u001b[92m3.342675236521025\u001b[0m\t \u001b[1m\u001b[92m3.758554002731036\u001b[0m\n",
            "7  \t [5.12       0.19558419]\t 26.2909063472723\t 2.454775628278795\t 3.094412455144664\t 3.794772657612455\n",
            "8  \t [-5.12 -5.12]\t 78.64320000000001\t 2.454775628278795\t 3.3167399784753964\t 3.9124038976860835\n",
            "9  \t [0.10841008 1.54070668]\t 4.759306881127959\t 2.454775628278795\t 2.3520971671192346\t 2.8871209095938184\n",
            "10 \t [2.26103493 3.48267607]\t 29.370344137401933\t 2.454775628278795\t 2.545426842375664\t 3.725183509272614\n",
            "11 \t [-2.45436068  2.8827737 ]\t 22.644654709593627\t 2.454775628278795\t 2.144972287560108\t 2.95191890237093\n",
            "12 \t [ 0.53804599 -2.64165468]\t 14.246172359864959\t 2.454775628278795\t 2.431867827250296\t 2.992180504402455\n",
            "13 \t [-4.62806331  0.83890125]\t 22.826480630195473\t 2.454775628278795\t 3.0010773780302764\t 3.7032673188214\n",
            "14 \t [ 2.46587264 -0.89397505]\t 7.678910663166449\t 2.454775628278795\t 2.833956220289241\t 3.410655389490166\n",
            "\u001b[1m\u001b[92m15\u001b[0m\t \u001b[1m\u001b[92m[-0.67978982  0.03049531]\u001b[0m\t \u001b[1m\u001b[92m0.4639741252664012\u001b[0m\t \u001b[1m\u001b[92m0.4639741252664012\u001b[0m\t \u001b[1m\u001b[92m2.4612354873933846\u001b[0m\t \u001b[1m\u001b[92m3.1220709186230304\u001b[0m\n",
            "16 \t [5.12       2.46404066]\t 38.35739275136143\t 0.4639741252664012\t 2.7378279044780127\t 3.3660418649384414\n",
            "17 \t [1.06431339 0.45764922]\t 1.5516486206070326\t 0.4639741252664012\t 2.6103092365940284\t 3.7322252063092405\n",
            "18 \t [ 1.81747198 -4.85773818]\t 50.49844483693913\t 0.4639741252664012\t 2.395065318686243\t 3.2372052568060505\n",
            "19 \t [3.19291644 1.59889018]\t 15.307615000339212\t 0.4639741252664012\t 3.07575483745858\t 3.044440804321427\n",
            "20 \t [-2.81903213 -3.91827225]\t 38.652656987293675\t 0.4639741252664012\t 2.680449150810385\t 3.3231778464509745\n"
          ]
        }
      ],
      "source": [
        "### EXACT STP CBM GRADIENTS\n",
        "\n",
        "np.random.seed(run_num_15)\n",
        "surrogate_exact_15 = dtStudentProcess(cov_func, optimize=opt, nu = df)\n",
        "\n",
        "exact_15 = dGPGO(surrogate_exact_15, Acquisition_grad(util), objfunc, param)\n",
        "exact_15.run(init_evals=n_init, max_iter=iters)\n"
      ]
    },
    {
      "cell_type": "code",
      "execution_count": null,
      "metadata": {
        "id": "lu8ki9XIQPPN",
        "colab": {
          "base_uri": "https://localhost:8080/"
        },
        "outputId": "55adbfec-ff19-4b36-aa14-8020a8082336"
      },
      "outputs": [
        {
          "output_type": "stream",
          "name": "stdout",
          "text": [
            "Evaluation \t Proposed point \t  Current eval. \t  Best eval. \t        Exact CBM: StdDev. x \t Approx CBM: StdDev. x \n",
            "init\t [-2.83349935  0.23719262]\t 8.141239237549925\t 8.141239237549925\t    \t    \n",
            "init\t [ 0.51918292 -4.65303603]\t 43.571039504503474\t 8.141239237549925\t    \t    \n",
            "init\t [-1.42613673 -2.83565116]\t 18.11570093066862\t 8.141239237549925\t    \t    \n",
            "init\t [ 1.9325559  -3.44339021]\t 27.448644544199137\t 8.141239237549925\t    \t    \n",
            "init\t [-4.39987336  4.51595121]\t 60.146516261103784\t 8.141239237549925\t    \t    \n",
            "1  \t [5.12     4.933839]\t 74.89993460068115\t 8.141239237549925\t 3.8343136723027977\t 4.057916071780106\n",
            "2  \t [ 5.12       -0.04362498]\t 26.218206277827864\t 8.141239237549925\t 3.788087625078202\t 3.673711759595258\n",
            "3  \t [0.53006503 3.19040212]\t 20.63830031014445\t 8.141239237549925\t 3.5240705897768145\t 3.9252432496404235\n",
            "4  \t [-5.12 -5.12]\t 78.64320000000001\t 8.141239237549925\t 3.7022789755232295\t 3.8362321114700277\n",
            "\u001b[1m\u001b[92m5\u001b[0m\t \u001b[1m\u001b[92m[ 1.68913448 -0.14039119]\u001b[0m\t \u001b[1m\u001b[92m2.892594647330247\u001b[0m\t \u001b[1m\u001b[92m2.892594647330247\u001b[0m\t \u001b[1m\u001b[92m2.5711323084543505\u001b[0m\t \u001b[1m\u001b[92m2.845364508575697\u001b[0m\n",
            "6  \t [-5.12       -1.42427755]\t 30.271533087941393\t 2.892594647330247\t 3.4332584836146487\t 3.6494504931568215\n",
            "7  \t [ 5.0879625  -3.35540827]\t 48.404891733475026\t 2.892594647330247\t 2.9950436105990583\t 3.6232265773899037\n",
            "8  \t [3.21149375 2.06387025]\t 18.832812973156436\t 2.892594647330247\t 2.5520877045052455\t 3.3348570307570102\n",
            "9  \t [-1.27196223  5.12      ]\t 54.0466879086939\t 2.892594647330247\t 2.826804040733553\t 3.2233754644624466\n",
            "\u001b[1m\u001b[92m10\u001b[0m\t \u001b[1m\u001b[92m[-0.40036515  0.13579173]\u001b[0m\t \u001b[1m\u001b[92m0.19717104262764423\u001b[0m\t \u001b[1m\u001b[92m0.19717104262764423\u001b[0m\t \u001b[1m\u001b[92m3.0330924352464543\u001b[0m\t \u001b[1m\u001b[92m3.6620449166176283\u001b[0m\n",
            "11 \t [2.09472133 5.12      ]\t 56.81665745272085\t 0.19717104262764423\t 2.6233892918566752\t 3.1894091470835937\n",
            "12 \t [-4.93946211  1.35909851]\t 28.092583417544667\t 0.19717104262764423\t 3.020391566252951\t 3.7345255613763904\n",
            "13 \t [-1.66223933  1.95335086]\t 10.394198732651919\t 0.19717104262764423\t 2.774471928098804\t 2.8423630651776746\n",
            "14 \t [ 0.122454   -1.21949026]\t 2.989307951849461\t 0.19717104262764423\t 2.6157440109740193\t 2.819801630530031\n",
            "15 \t [-2.36707541 -5.10140905]\t 57.65179454786351\t 0.19717104262764423\t 2.808745757327898\t 3.2625584984714173\n",
            "16 \t [ 2.77010202 -0.96424585]\t 9.53300533111374\t 0.19717104262764423\t 2.1113969141543376\t 2.008164909218134\n",
            "17 \t [-2.77350989 -1.56426199]\t 12.586188249983048\t 0.19717104262764423\t 2.839119793027708\t 3.5976340871482706\n",
            "18 \t [5.12       2.23739382]\t 36.226262199486136\t 0.19717104262764423\t 2.638403811139659\t 2.959024450605551\n",
            "19 \t [ 3.4482324 -5.12     ]\t 64.31910667308597\t 0.19717104262764423\t 2.396921158124128\t 2.5815189788202026\n",
            "20 \t [0.98842428 1.13463353]\t 3.5517690718629504\t 0.19717104262764423\t 2.5361811584333958\t 3.145155009285407\n"
          ]
        }
      ],
      "source": [
        "### EXACT STP CBM GRADIENTS\n",
        "\n",
        "np.random.seed(run_num_16)\n",
        "surrogate_exact_16 = dtStudentProcess(cov_func, optimize=opt, nu = df)\n",
        "\n",
        "exact_16 = dGPGO(surrogate_exact_16, Acquisition_grad(util), objfunc, param)\n",
        "exact_16.run(init_evals=n_init, max_iter=iters)\n"
      ]
    },
    {
      "cell_type": "code",
      "execution_count": null,
      "metadata": {
        "id": "yU2SflSsJTUs",
        "colab": {
          "base_uri": "https://localhost:8080/"
        },
        "outputId": "2d38be0f-c6d2-454c-fd74-a616637fc10a"
      },
      "outputs": [
        {
          "output_type": "stream",
          "name": "stdout",
          "text": [
            "Evaluation \t Proposed point \t  Current eval. \t  Best eval. \t        Exact CBM: StdDev. x \t Approx CBM: StdDev. x \n",
            "init\t [-2.10263037  0.31320838]\t 4.617253458637031\t 3.1817562258207746\t    \t    \n",
            "init\t [-3.15882714 -4.42470033]\t 49.134134969019556\t 3.1817562258207746\t    \t    \n",
            "init\t [2.93873111 1.60085526]\t 13.761615685279608\t 3.1817562258207746\t    \t    \n",
            "init\t [1.40821398 0.77417363]\t 3.1817562258207746\t 3.1817562258207746\t    \t    \n",
            "init\t [-4.71999574 -1.45598869]\t 26.518165900202685\t 3.1817562258207746\t    \t    \n",
            "1  \t [ 4.96008736 -4.44720822]\t 64.15778856025273\t 3.1817562258207746\t 3.3124002570611535\t 4.521532914153033\n",
            "2  \t [-1.28198142  5.12      ]\t 54.07227636469027\t 3.1817562258207746\t 3.292619918093097\t 3.5001997046026427\n",
            "3  \t [5.12 5.12]\t 78.64320000000001\t 3.1817562258207746\t 3.361068698173786\t 3.2657289980479756\n",
            "4  \t [ 0.92434253 -3.02334333]\t 19.135618956529406\t 3.1817562258207746\t 3.563235314245983\t 3.856837034435624\n",
            "5  \t [ 5.12       -0.68465866]\t 27.15191497249985\t 3.1817562258207746\t 2.9926008687033674\t 3.453002406500331\n",
            "6  \t [-5.12        2.94118115]\t 43.51549309634286\t 3.1817562258207746\t 2.882115740961774\t 3.199126179534149\n",
            "7  \t [1.82651168 4.67084014]\t 46.96964019852586\t 3.1817562258207746\t 2.973561964692317\t 2.527142895384688\n",
            "8  \t [-1.15537879  2.20641853]\t 11.071465636126183\t 3.1817562258207746\t 3.2602445485329765\t 3.064467768663961\n",
            "9  \t [-0.34337734 -5.12      ]\t 52.54670799731772\t 3.1817562258207746\t 2.8864330490473527\t 3.647544116507113\n",
            "10 \t [-1.33324043 -1.68197371]\t 7.435601124347902\t 3.1817562258207746\t 2.2833025583028475\t 2.8329476082236744\n",
            "11 \t [ 2.72285558 -1.54701072]\t 12.200426848169515\t 3.1817562258207746\t 3.209335733301412\t 3.3262601914187377\n",
            "\u001b[1m\u001b[92m12\u001b[0m\t \u001b[1m\u001b[92m[-0.32215582  0.4060377 ]\u001b[0m\t \u001b[1m\u001b[92m0.43351759317908933\u001b[0m\t \u001b[1m\u001b[92m0.43351759317908933\u001b[0m\t \u001b[1m\u001b[92m3.2453827538664486\u001b[0m\t \u001b[1m\u001b[92m3.5511079972345487\u001b[0m\n",
            "13 \t [5.12       2.18611793]\t 35.772623208058576\t 0.43351759317908933\t 3.019646062476368\t 2.949431016987972\n",
            "14 \t [-3.82013147  0.82933237]\t 15.968988773552987\t 0.43351759317908933\t 2.46369095815979\t 3.665601568604785\n",
            "15 \t [-5.12 -5.12]\t 78.64320000000001\t 0.43351759317908933\t 2.9576053614888536\t 2.9130726136310723\n",
            "16 \t [ 0.15660612 -0.63811482]\t 0.8389065224405918\t 0.43351759317908933\t 2.4468354062217355\t 2.674398184061845\n",
            "17 \t [ 2.36974776 -5.12      ]\t 58.04450443016244\t 0.43351759317908933\t 2.956995172011067\t 3.3585812532378068\n",
            "18 \t [0.7248918  2.61718557]\t 14.224788756153547\t 0.43351759317908933\t 2.7836816633822923\t 3.1836556099152964\n",
            "19 \t [-2.68959114  2.52854632]\t 20.02099342488594\t 0.43351759317908933\t 2.399220450394135\t 3.3226762996741193\n",
            "20 \t [-2.7993004  -1.16799867]\t 10.564524528328942\t 0.43351759317908933\t 2.635004191682253\t 3.191159541169715\n"
          ]
        }
      ],
      "source": [
        "### EXACT STP CBM GRADIENTS\n",
        "\n",
        "np.random.seed(run_num_17)\n",
        "surrogate_exact_17 = dtStudentProcess(cov_func, optimize=opt, nu = df)\n",
        "\n",
        "exact_17 = dGPGO(surrogate_exact_17, Acquisition_grad(util), objfunc, param)\n",
        "exact_17.run(init_evals=n_init, max_iter=iters)\n"
      ]
    },
    {
      "cell_type": "code",
      "execution_count": null,
      "metadata": {
        "id": "eVEhyZ9BQS-1",
        "colab": {
          "base_uri": "https://localhost:8080/"
        },
        "outputId": "813486bc-7587-450d-ffbd-ea549646cd1b"
      },
      "outputs": [
        {
          "output_type": "stream",
          "name": "stdout",
          "text": [
            "Evaluation \t Proposed point \t  Current eval. \t  Best eval. \t        Exact CBM: StdDev. x \t Approx CBM: StdDev. x \n",
            "init\t [1.53983224 0.05584255]\t 2.3773200933391867\t 2.3773200933391867\t    \t    \n",
            "init\t [ 3.87687906 -3.25795609]\t 36.25874706055664\t 2.3773200933391867\t    \t    \n",
            "init\t [3.60686662 2.56139557]\t 26.130981366974602\t 2.3773200933391867\t    \t    \n",
            "init\t [1.70088108 4.99604939]\t 52.81401545301259\t 2.3773200933391867\t    \t    \n",
            "init\t [-2.48864335 -4.83014733]\t 52.85399210258478\t 2.3773200933391867\t    \t    \n",
            "1  \t [-5.00718904  2.9174042 ]\t 42.09443666312248\t 2.3773200933391867\t 3.2363171628541774\t 4.065114789558744\n",
            "2  \t [-2.13084086 -0.37607323]\t 4.82334494031246\t 2.3773200933391867\t 3.2324857221981103\t 2.81837494631944\n",
            "3  \t [-1.38376331  2.93414401]\t 19.133203022937828\t 2.3773200933391867\t 3.750429071572313\t 3.5590919621375208\n",
            "4  \t [-5.12       -1.68242011]\t 31.87547485115728\t 2.3773200933391867\t 3.2551128895568295\t 3.824905198835721\n",
            "5  \t [ 0.21644901 -2.33795549]\t 10.978921896499525\t 2.3773200933391867\t 3.421516177422053\t 3.35112190136279\n",
            "6  \t [ 1.12748306 -5.12      ]\t 53.70001804026743\t 2.3773200933391867\t 3.4669871105159946\t 3.7148769339068037\n",
            "7  \t [5.10037378 0.01637413]\t 26.01434890296905\t 2.3773200933391867\t 3.299840444550878\t 3.686057355508485\n",
            "8  \t [5.12 5.12]\t 78.64320000000001\t 2.3773200933391867\t 3.403340834835258\t 3.6783055885859275\n",
            "9  \t [-5.12 -5.12]\t 78.64320000000001\t 2.3773200933391867\t 2.9899338896443566\t 3.243932307068134\n",
            "10 \t [-1.9438911  5.12     ]\t 56.20751262180941\t 2.3773200933391867\t 2.890395384230987\t 3.2168129551733187\n",
            "\u001b[1m\u001b[92m11\u001b[0m\t \u001b[1m\u001b[92m[-0.26004843  0.80154216]\u001b[0m\t \u001b[1m\u001b[92m1.352564861543263\u001b[0m\t \u001b[1m\u001b[92m1.352564861543263\u001b[0m\t \u001b[1m\u001b[92m2.9799293415186585\u001b[0m\t \u001b[1m\u001b[92m3.521089983198453\u001b[0m\n",
            "12 \t [-3.45050571  0.55903976]\t 12.531040589154616\t 1.352564861543263\t 2.3906481601537597\t 2.8728323014842574\n",
            "13 \t [-2.53076299 -2.05795178]\t 14.875092382108239\t 1.352564861543263\t 2.666937769694024\t 3.2405140706358586\n",
            "14 \t [1.4524826  1.66034778]\t 7.623215221960013\t 1.352564861543263\t 2.264873706511883\t 2.9683556918022176\n",
            "15 \t [ 2.55415745 -1.15131165]\t 9.174757285048297\t 1.352564861543263\t 2.594717592780052\t 3.4478441140761347\n",
            "\u001b[1m\u001b[92m16\u001b[0m\t \u001b[1m\u001b[92m[-0.34507217 -0.61992512]\u001b[0m\t \u001b[1m\u001b[92m0.887689121684828\u001b[0m\t \u001b[1m\u001b[92m0.887689121684828\u001b[0m\t \u001b[1m\u001b[92m2.0347908414482596\u001b[0m\t \u001b[1m\u001b[92m2.713016541297941\u001b[0m\n",
            "17 \t [-4.25446585  4.92738473]\t 66.65872031966707\t 0.887689121684828\t 2.7736101669710247\t 3.5927498496277943\n",
            "18 \t [ 3.47780674 -5.12      ]\t 64.52393969152719\t 0.887689121684828\t 3.207402597469469\t 3.497177358905307\n",
            "19 \t [-1.69815765  1.13782901]\t 5.473049130756836\t 0.887689121684828\t 2.3000732651793085\t 2.8842466356189473\n",
            "20 \t [-5.12        0.61754731]\t 26.977129355799487\t 0.887689121684828\t 2.674958370150065\t 3.367061168505544\n"
          ]
        }
      ],
      "source": [
        "### EXACT STP CBM GRADIENTS\n",
        "\n",
        "np.random.seed(run_num_18)\n",
        "surrogate_exact_18 = dtStudentProcess(cov_func, optimize=opt, nu = df)\n",
        "\n",
        "exact_18 = dGPGO(surrogate_exact_18, Acquisition_grad(util), objfunc, param)\n",
        "exact_18.run(init_evals=n_init, max_iter=iters)\n"
      ]
    },
    {
      "cell_type": "code",
      "execution_count": null,
      "metadata": {
        "id": "B6gTz1ojQUxn",
        "colab": {
          "base_uri": "https://localhost:8080/"
        },
        "outputId": "29d78299-3957-4d41-9d76-9b08c3253bb3"
      },
      "outputs": [
        {
          "output_type": "stream",
          "name": "stdout",
          "text": [
            "Evaluation \t Proposed point \t  Current eval. \t  Best eval. \t        Exact CBM: StdDev. x \t Approx CBM: StdDev. x \n",
            "init\t [-4.12125592  2.6751971 ]\t 31.298109376682206\t 22.814458446152262\t    \t    \n",
            "init\t [-2.59135515 -3.70553152]\t 34.17704923320956\t 22.814458446152262\t    \t    \n",
            "init\t [-1.72598719 -4.27008445]\t 39.4462742815243\t 22.814458446152262\t    \t    \n",
            "init\t [1.76104531 3.13952049]\t 22.814458446152262\t 22.814458446152262\t    \t    \n",
            "init\t [4.9432772  1.38916592]\t 28.295553455390152\t 22.814458446152262\t    \t    \n",
            "1  \t [ 4.82675179 -3.73091852]\t 51.13703891504524\t 22.814458446152262\t 3.389631312490309\t 4.608586619639158\n",
            "\u001b[1m\u001b[92m2\u001b[0m\t \u001b[1m\u001b[92m[-0.87136671  0.09066259]\u001b[0m\t \u001b[1m\u001b[92m0.7757193515031686\u001b[0m\t \u001b[1m\u001b[92m0.7757193515031686\u001b[0m\t \u001b[1m\u001b[92m4.027545765181926\u001b[0m\t \u001b[1m\u001b[92m3.7435018111334735\u001b[0m\n",
            "3  \t [5.12 5.12]\t 78.64320000000001\t 0.7757193515031686\t 3.9768328788127603\t 4.0588269084750115\n",
            "4  \t [-5.12       -1.17787248]\t 28.989167176886472\t 0.7757193515031686\t 2.9120938625029615\t 3.3603104457529005\n",
            "5  \t [ 1.58357484 -0.8471282 ]\t 3.9429616515845636\t 0.7757193515031686\t 2.8078395126222526\t 2.9098280407836308\n",
            "6  \t [-1.05019556  4.44529911]\t 40.62427898676225\t 0.7757193515031686\t 3.319631215770113\t 3.716379916556206\n",
            "7  \t [-5.12 -5.12]\t 78.64320000000001\t 0.7757193515031686\t 3.2583900491732383\t 3.717380679468447\n",
            "8  \t [ 1.48472813 -4.87842988]\t 49.8025738194283\t 0.7757193515031686\t 2.3313372400064996\t 3.3149160167098897\n",
            "9  \t [-2.71254639  0.16332081]\t 7.411255301776431\t 0.7757193515031686\t 2.215695440860595\t 3.2090378407323614\n",
            "10 \t [ 3.60766407 -0.97358932]\t 14.910992374720305\t 0.7757193515031686\t 3.094535760252912\t 3.241041554103087\n",
            "11 \t [-0.17590013 -1.80041044]\t 6.5138963642708605\t 0.7757193515031686\t 2.382924103061947\t 3.2568058763987016\n",
            "12 \t [-0.16082278  1.56677538]\t 4.935434139599373\t 0.7757193515031686\t 2.852600952059663\t 3.1894577744164607\n",
            "13 \t [1.9808752 5.12     ]\t 56.35266653841247\t 0.7757193515031686\t 2.854296734339122\t 3.238892070514562\n",
            "14 \t [2.50360893 0.74150536]\t 7.367718051650527\t 0.7757193515031686\t 2.4895570000626863\t 2.7039444592413187\n",
            "15 \t [-1.86256805  1.93781318]\t 10.97939952828418\t 0.7757193515031686\t 2.8638589413256033\t 3.3278326652283834\n",
            "16 \t [ 2.11200657 -2.49639824]\t 16.92458008581405\t 0.7757193515031686\t 2.3925819135002766\t 3.4143142306858367\n",
            "17 \t [-2.15968864 -1.42243183]\t 8.710879673113489\t 0.7757193515031686\t 2.407820721496026\t 3.7811588527808366\n",
            "18 \t [ 4.07981473 -2.64395419]\t 30.62587575102951\t 0.7757193515031686\t 2.9310621201379465\t 3.0276984468416908\n",
            "\u001b[1m\u001b[92m19\u001b[0m\t \u001b[1m\u001b[92m[0.65897671 0.24868593]\u001b[0m\t \u001b[1m\u001b[92m0.5579396885191394\u001b[0m\t \u001b[1m\u001b[92m0.5579396885191394\u001b[0m\t \u001b[1m\u001b[92m1.990749919246044\u001b[0m\t \u001b[1m\u001b[92m2.283386104052668\u001b[0m\n",
            "20 \t [-3.87223562  0.23605577]\t 15.105653353256745\t 0.5579396885191394\t 2.5170443927198884\t 3.584253643507059\n"
          ]
        }
      ],
      "source": [
        "### EXACT STP CBM GRADIENTS\n",
        "\n",
        "np.random.seed(run_num_19)\n",
        "surrogate_exact_19 = dtStudentProcess(cov_func, optimize=opt, nu = df)\n",
        "\n",
        "exact_19 = dGPGO(surrogate_exact_19, Acquisition_grad(util), objfunc, param)\n",
        "exact_19.run(init_evals=n_init, max_iter=iters)\n"
      ]
    },
    {
      "cell_type": "code",
      "execution_count": null,
      "metadata": {
        "id": "aw3xvSryIwDi",
        "colab": {
          "base_uri": "https://localhost:8080/"
        },
        "outputId": "9743975e-6686-4601-cc07-05317cddc7a3"
      },
      "outputs": [
        {
          "output_type": "stream",
          "name": "stdout",
          "text": [
            "Evaluation \t Proposed point \t  Current eval. \t  Best eval. \t        Exact CBM: StdDev. x \t Approx CBM: StdDev. x \n",
            "init\t [0.9024594  4.07258857]\t 33.98638835688907\t 1.615187047660523\t    \t    \n",
            "init\t [4.00927467 3.23417577]\t 36.994069169927414\t 1.615187047660523\t    \t    \n",
            "init\t [-4.75249064  1.96359764]\t 30.297598676217497\t 1.615187047660523\t    \t    \n",
            "init\t [-1.24230715  0.18955208]\t 1.615187047660523\t 1.615187047660523\t    \t    \n",
            "init\t [ 1.61742301 -3.13497377]\t 22.27217824772924\t 1.615187047660523\t    \t    \n",
            "1  \t [-5.12 -5.12]\t 78.64320000000001\t 1.615187047660523\t 3.534310179294596\t 3.977368494070362\n",
            "2  \t [ 5.12       -0.98995265]\t 28.1744124929571\t 1.615187047660523\t 3.1128428897463927\t 3.860227781120881\n",
            "3  \t [-2.70067585 -2.08351482]\t 15.975718015855012\t 1.615187047660523\t 3.063246538994981\t 3.6822963366053587\n",
            "4  \t [-2.54678485  4.96998498]\t 55.88761447317405\t 1.615187047660523\t 2.755269417961206\t 3.679172623355958\n",
            "5  \t [1.65667521 0.30299399]\t 2.928183481563744\t 1.615187047660523\t 2.7936398485837666\t 3.5064864819643136\n",
            "6  \t [-1.14491345 -5.12      ]\t 53.739626813852446\t 1.615187047660523\t 3.1516149734354553\t 4.033529284582227\n",
            "7  \t [-5.12       -1.18582312]\t 29.026752920785277\t 1.615187047660523\t 3.9366514819761704\t 3.9268918304280622\n",
            "8  \t [ 4.35353326 -4.16661684]\t 53.67464362384212\t 1.615187047660523\t 3.154282474269671\t 3.916843042826872\n",
            "9  \t [-1.90081945  2.14194766]\t 12.788994151127886\t 1.615187047660523\t 3.2910664304438884\t 3.553066960705859\n",
            "10 \t [ 0.02039382 -1.25338937]\t 3.142385745481784\t 1.615187047660523\t 3.4443482046841014\t 3.391543220298274\n",
            "11 \t [5.12 5.12]\t 78.64320000000001\t 1.615187047660523\t 3.335221408863629\t 3.576843300081685\n",
            "12 \t [0.19433431 1.56235013]\t 4.919641700432203\t 1.615187047660523\t 2.8201731386756\t 3.2837868961208545\n",
            "13 \t [3.31183417 0.77308569]\t 12.163568521870607\t 1.615187047660523\t 2.9764640968700187\t 3.7731866101857507\n",
            "14 \t [-2.77516805  0.01564982]\t 7.702047518172146\t 1.615187047660523\t 2.6301041850460005\t 3.2651131383007117\n",
            "15 \t [ 2.99816677 -1.57699274]\t 13.962816202389654\t 1.615187047660523\t 2.405165104198203\t 3.3067009026673175\n",
            "16 \t [ 1.72621261 -5.12      ]\t 55.408609990628364\t 1.615187047660523\t 2.6136276889554853\t 2.5682361290894935\n",
            "17 \t [5.12      1.3209499]\t 29.704217279187187\t 1.615187047660523\t 2.207070536787033\t 3.160593443239833\n",
            "18 \t [2.86055064 5.117336  ]\t 60.55700546383696\t 1.615187047660523\t 3.0357159632953823\t 3.516384423213633\n",
            "19 \t [-0.45674514 -2.75862776]\t 15.42867032996949\t 1.615187047660523\t 2.626355650699982\t 3.5147813174213574\n",
            "20 \t [-2.99038879 -4.12063241]\t 42.901647970498395\t 1.615187047660523\t 2.4056405091396096\t 3.3587449836882235\n"
          ]
        }
      ],
      "source": [
        "### EXACT STP CBM GRADIENTS\n",
        "\n",
        "np.random.seed(run_num_20)\n",
        "surrogate_exact_20 = dtStudentProcess(cov_func, optimize=opt, nu = df)\n",
        "\n",
        "exact_20 = dGPGO(surrogate_exact_20, Acquisition_grad(util), objfunc, param)\n",
        "exact_20.run(init_evals=n_init, max_iter=iters)\n"
      ]
    },
    {
      "cell_type": "code",
      "execution_count": null,
      "metadata": {
        "id": "5c8szjivRPme",
        "colab": {
          "base_uri": "https://localhost:8080/"
        },
        "outputId": "5d4ba839-a082-4d6e-b4ec-4d1314504f26"
      },
      "outputs": [
        {
          "output_type": "execute_result",
          "data": {
            "text/plain": [
              "997.1584377288818"
            ]
          },
          "metadata": {},
          "execution_count": 54
        }
      ],
      "source": [
        "end_exact = time.time()\n",
        "end_exact\n",
        "\n",
        "time_exact = end_exact - start_exact\n",
        "time_exact\n"
      ]
    },
    {
      "cell_type": "code",
      "execution_count": null,
      "metadata": {
        "id": "f6gCKnp6RR8c",
        "colab": {
          "base_uri": "https://localhost:8080/"
        },
        "outputId": "e1524b5d-b2ac-43a1-82ac-cc8d41400eac"
      },
      "outputs": [
        {
          "output_type": "execute_result",
          "data": {
            "text/plain": [
              "(0.36008321648211483, -1.9499819789209825)"
            ]
          },
          "metadata": {},
          "execution_count": 55
        }
      ],
      "source": [
        "### Simple regret minimization: run number = 1\n",
        "\n",
        "approx_output_1 = np.append(np.min(-approx_1.GP.y[0:n_init]),-approx_1.GP.y[n_init:(n_init+iters)]) \n",
        "exact_output_1 = np.append(np.min(-exact_1.GP.y[0:n_init]),-exact_1.GP.y[n_init:(n_init+iters)]) \n",
        "\n",
        "regret_approx_1 = np.log(approx_output_1 - y_global_orig)\n",
        "regret_exact_1 = np.log(exact_output_1 - y_global_orig)\n",
        "\n",
        "simple_regret_approx_1 = min_max_array(regret_approx_1)\n",
        "simple_regret_exact_1 = min_max_array(regret_exact_1)\n",
        "\n",
        "min_simple_regret_approx_1 = min(simple_regret_approx_1)\n",
        "min_simple_regret_exact_1 = min(simple_regret_exact_1)\n",
        "\n",
        "min_simple_regret_approx_1, min_simple_regret_exact_1\n"
      ]
    },
    {
      "cell_type": "code",
      "execution_count": null,
      "metadata": {
        "id": "94yBw5tqQxfk",
        "colab": {
          "base_uri": "https://localhost:8080/"
        },
        "outputId": "a8d7e085-9445-49eb-df00-ca109f240e3a"
      },
      "outputs": [
        {
          "output_type": "execute_result",
          "data": {
            "text/plain": [
              "(0.12742168273537824, 0.12742168273537824)"
            ]
          },
          "metadata": {},
          "execution_count": 56
        }
      ],
      "source": [
        "### Simple regret minimization: run number = 2\n",
        "\n",
        "approx_output_2 = np.append(np.min(-approx_2.GP.y[0:n_init]),-approx_2.GP.y[n_init:(n_init+iters)]) \n",
        "exact_output_2 = np.append(np.min(-exact_2.GP.y[0:n_init]),-exact_2.GP.y[n_init:(n_init+iters)]) \n",
        "\n",
        "regret_approx_2 = np.log(approx_output_2 - y_global_orig)\n",
        "regret_exact_2 = np.log(exact_output_2 - y_global_orig)\n",
        "\n",
        "simple_regret_approx_2 = min_max_array(regret_approx_2)\n",
        "simple_regret_exact_2 = min_max_array(regret_exact_2)\n",
        "\n",
        "min_simple_regret_approx_2 = min(simple_regret_approx_2)\n",
        "min_simple_regret_exact_2 = min(simple_regret_exact_2)\n",
        "\n",
        "min_simple_regret_approx_2, min_simple_regret_exact_2\n"
      ]
    },
    {
      "cell_type": "code",
      "execution_count": null,
      "metadata": {
        "id": "Bu6SBWALQxfl",
        "colab": {
          "base_uri": "https://localhost:8080/"
        },
        "outputId": "86ce1bd2-5c82-402f-ad3a-94341b09fb31"
      },
      "outputs": [
        {
          "output_type": "execute_result",
          "data": {
            "text/plain": [
              "(-2.0440836785092564, -2.2802732263519996)"
            ]
          },
          "metadata": {},
          "execution_count": 57
        }
      ],
      "source": [
        "### Simple regret minimization: run number = 3\n",
        "\n",
        "approx_output_3 = np.append(np.min(-approx_3.GP.y[0:n_init]),-approx_3.GP.y[n_init:(n_init+iters)]) \n",
        "exact_output_3 = np.append(np.min(-exact_3.GP.y[0:n_init]),-exact_3.GP.y[n_init:(n_init+iters)]) \n",
        "\n",
        "regret_approx_3 = np.log(approx_output_3 - y_global_orig)\n",
        "regret_exact_3 = np.log(exact_output_3 - y_global_orig)\n",
        "\n",
        "simple_regret_approx_3 = min_max_array(regret_approx_3)\n",
        "simple_regret_exact_3 = min_max_array(regret_exact_3)\n",
        "\n",
        "min_simple_regret_approx_3 = min(simple_regret_approx_3)\n",
        "min_simple_regret_exact_3 = min(simple_regret_exact_3)\n",
        "\n",
        "min_simple_regret_approx_3, min_simple_regret_exact_3"
      ]
    },
    {
      "cell_type": "code",
      "execution_count": null,
      "metadata": {
        "id": "AZm0jgxkQxfm",
        "colab": {
          "base_uri": "https://localhost:8080/"
        },
        "outputId": "f0ccc116-4138-458e-8fc9-10338b705700"
      },
      "outputs": [
        {
          "output_type": "execute_result",
          "data": {
            "text/plain": [
              "(0.3253780633660455, -0.055032664347518606)"
            ]
          },
          "metadata": {},
          "execution_count": 58
        }
      ],
      "source": [
        "### Simple regret minimization: run number = 4\n",
        "\n",
        "approx_output_4 = np.append(np.min(-approx_4.GP.y[0:n_init]),-approx_4.GP.y[n_init:(n_init+iters)]) \n",
        "exact_output_4 = np.append(np.min(-exact_4.GP.y[0:n_init]),-exact_4.GP.y[n_init:(n_init+iters)]) \n",
        "\n",
        "regret_approx_4 = np.log(approx_output_4 - y_global_orig)\n",
        "regret_exact_4 = np.log(exact_output_4 - y_global_orig)\n",
        "\n",
        "simple_regret_approx_4 = min_max_array(regret_approx_4)\n",
        "simple_regret_exact_4 = min_max_array(regret_exact_4)\n",
        "\n",
        "min_simple_regret_approx_4 = min(simple_regret_approx_4)\n",
        "min_simple_regret_exact_4 = min(simple_regret_exact_4)\n",
        "\n",
        "min_simple_regret_approx_4, min_simple_regret_exact_4"
      ]
    },
    {
      "cell_type": "code",
      "execution_count": null,
      "metadata": {
        "id": "NONPm8JIQxfn",
        "colab": {
          "base_uri": "https://localhost:8080/"
        },
        "outputId": "ec2524a9-9766-49a3-e832-ea99b03b6d72"
      },
      "outputs": [
        {
          "output_type": "execute_result",
          "data": {
            "text/plain": [
              "(0.9680218287901096, 0.17874194207467814)"
            ]
          },
          "metadata": {},
          "execution_count": 59
        }
      ],
      "source": [
        "### Simple regret minimization: run number = 5\n",
        "\n",
        "approx_output_5 = np.append(np.min(-approx_5.GP.y[0:n_init]),-approx_5.GP.y[n_init:(n_init+iters)]) \n",
        "exact_output_5 = np.append(np.min(-exact_5.GP.y[0:n_init]),-exact_5.GP.y[n_init:(n_init+iters)]) \n",
        "\n",
        "regret_approx_5 = np.log(approx_output_5 - y_global_orig)\n",
        "regret_exact_5 = np.log(exact_output_5 - y_global_orig)\n",
        "\n",
        "simple_regret_approx_5 = min_max_array(regret_approx_5)\n",
        "simple_regret_exact_5 = min_max_array(regret_exact_5)\n",
        "\n",
        "min_simple_regret_approx_5 = min(simple_regret_approx_5)\n",
        "min_simple_regret_exact_5 = min(simple_regret_exact_5)\n",
        "\n",
        "min_simple_regret_approx_5, min_simple_regret_exact_5"
      ]
    },
    {
      "cell_type": "code",
      "execution_count": null,
      "metadata": {
        "id": "CJv3lPuSQxfp",
        "colab": {
          "base_uri": "https://localhost:8080/"
        },
        "outputId": "4ba508db-84c3-41be-ff24-508a1ee255c6"
      },
      "outputs": [
        {
          "output_type": "execute_result",
          "data": {
            "text/plain": [
              "(0.38914456963575095, -0.0526715837242174)"
            ]
          },
          "metadata": {},
          "execution_count": 60
        }
      ],
      "source": [
        "### Simple regret minimization: run number = 6\n",
        "\n",
        "approx_output_6 = np.append(np.min(-approx_6.GP.y[0:n_init]),-approx_6.GP.y[n_init:(n_init+iters)]) \n",
        "exact_output_6 = np.append(np.min(-exact_6.GP.y[0:n_init]),-exact_6.GP.y[n_init:(n_init+iters)]) \n",
        "\n",
        "regret_approx_6 = np.log(approx_output_6 - y_global_orig)\n",
        "regret_exact_6 = np.log(exact_output_6 - y_global_orig)\n",
        "\n",
        "simple_regret_approx_6 = min_max_array(regret_approx_6)\n",
        "simple_regret_exact_6 = min_max_array(regret_exact_6)\n",
        "\n",
        "min_simple_regret_approx_6 = min(simple_regret_approx_6)\n",
        "min_simple_regret_exact_6 = min(simple_regret_exact_6)\n",
        "\n",
        "min_simple_regret_approx_6, min_simple_regret_exact_6"
      ]
    },
    {
      "cell_type": "code",
      "execution_count": null,
      "metadata": {
        "id": "quR2ZyApQxfq",
        "colab": {
          "base_uri": "https://localhost:8080/"
        },
        "outputId": "e5fef39a-459f-4b8e-9c0f-4f3f101c8feb"
      },
      "outputs": [
        {
          "output_type": "execute_result",
          "data": {
            "text/plain": [
              "(-1.3687509765351256, 0.023419863357243588)"
            ]
          },
          "metadata": {},
          "execution_count": 61
        }
      ],
      "source": [
        "### Simple regret minimization: run number = 7\n",
        "\n",
        "approx_output_7 = np.append(np.min(-approx_7.GP.y[0:n_init]),-approx_7.GP.y[n_init:(n_init+iters)]) \n",
        "exact_output_7 = np.append(np.min(-exact_7.GP.y[0:n_init]),-exact_7.GP.y[n_init:(n_init+iters)]) \n",
        "\n",
        "regret_approx_7 = np.log(approx_output_7 - y_global_orig)\n",
        "regret_exact_7 = np.log(exact_output_7 - y_global_orig)\n",
        "\n",
        "simple_regret_approx_7 = min_max_array(regret_approx_7)\n",
        "simple_regret_exact_7 = min_max_array(regret_exact_7)\n",
        "\n",
        "min_simple_regret_approx_7 = min(simple_regret_approx_7)\n",
        "min_simple_regret_exact_7 = min(simple_regret_exact_7)\n",
        "\n",
        "min_simple_regret_approx_7, min_simple_regret_exact_7"
      ]
    },
    {
      "cell_type": "code",
      "execution_count": null,
      "metadata": {
        "id": "99wY5nK6Qxfr",
        "colab": {
          "base_uri": "https://localhost:8080/"
        },
        "outputId": "a2442f30-5238-46df-b40e-f6a486857b9a"
      },
      "outputs": [
        {
          "output_type": "execute_result",
          "data": {
            "text/plain": [
              "(-1.88498967264663, -1.88498967264663)"
            ]
          },
          "metadata": {},
          "execution_count": 62
        }
      ],
      "source": [
        "### Simple regret minimization: run number = 8\n",
        "\n",
        "approx_output_8 = np.append(np.min(-approx_8.GP.y[0:n_init]),-approx_8.GP.y[n_init:(n_init+iters)]) \n",
        "exact_output_8 = np.append(np.min(-exact_8.GP.y[0:n_init]),-exact_8.GP.y[n_init:(n_init+iters)]) \n",
        "\n",
        "regret_approx_8 = np.log(approx_output_8 - y_global_orig)\n",
        "regret_exact_8 = np.log(exact_output_8 - y_global_orig)\n",
        "\n",
        "simple_regret_approx_8 = min_max_array(regret_approx_8)\n",
        "simple_regret_exact_8 = min_max_array(regret_exact_8)\n",
        "\n",
        "min_simple_regret_approx_8 = min(simple_regret_approx_8)\n",
        "min_simple_regret_exact_8 = min(simple_regret_exact_8)\n",
        "\n",
        "min_simple_regret_approx_8, min_simple_regret_exact_8"
      ]
    },
    {
      "cell_type": "code",
      "execution_count": null,
      "metadata": {
        "id": "qt0P5t9qQxfs",
        "colab": {
          "base_uri": "https://localhost:8080/"
        },
        "outputId": "2bfcc9a9-14e9-4052-a212-70218cd66eb0"
      },
      "outputs": [
        {
          "output_type": "execute_result",
          "data": {
            "text/plain": [
              "(-0.8568311028025981, -1.0983618517639)"
            ]
          },
          "metadata": {},
          "execution_count": 63
        }
      ],
      "source": [
        "### Simple regret minimization: run number = 9\n",
        "\n",
        "approx_output_9 = np.append(np.min(-approx_9.GP.y[0:n_init]),-approx_9.GP.y[n_init:(n_init+iters)]) \n",
        "exact_output_9 = np.append(np.min(-exact_9.GP.y[0:n_init]),-exact_9.GP.y[n_init:(n_init+iters)]) \n",
        "\n",
        "regret_approx_9 = np.log(approx_output_9 - y_global_orig)\n",
        "regret_exact_9 = np.log(exact_output_9 - y_global_orig)\n",
        "\n",
        "simple_regret_approx_9 = min_max_array(regret_approx_9)\n",
        "simple_regret_exact_9 = min_max_array(regret_exact_9)\n",
        "\n",
        "min_simple_regret_approx_9 = min(simple_regret_approx_9)\n",
        "min_simple_regret_exact_9 = min(simple_regret_exact_9)\n",
        "\n",
        "min_simple_regret_approx_9, min_simple_regret_exact_9"
      ]
    },
    {
      "cell_type": "code",
      "execution_count": null,
      "metadata": {
        "id": "vx8to9stQxft",
        "colab": {
          "base_uri": "https://localhost:8080/"
        },
        "outputId": "9cbd3e0f-88a5-4b05-961e-55c50d25516e"
      },
      "outputs": [
        {
          "output_type": "execute_result",
          "data": {
            "text/plain": [
              "(-0.9905387506045525, -0.19525738186085312)"
            ]
          },
          "metadata": {},
          "execution_count": 64
        }
      ],
      "source": [
        "### Simple regret minimization: run number = 10\n",
        "\n",
        "approx_output_10 = np.append(np.min(-approx_10.GP.y[0:n_init]),-approx_10.GP.y[n_init:(n_init+iters)]) \n",
        "exact_output_10 = np.append(np.min(-exact_10.GP.y[0:n_init]),-exact_10.GP.y[n_init:(n_init+iters)]) \n",
        "\n",
        "regret_approx_10 = np.log(approx_output_10 - y_global_orig)\n",
        "regret_exact_10 = np.log(exact_output_10 - y_global_orig)\n",
        "\n",
        "simple_regret_approx_10 = min_max_array(regret_approx_10)\n",
        "simple_regret_exact_10 = min_max_array(regret_exact_10)\n",
        "\n",
        "min_simple_regret_approx_10 = min(simple_regret_approx_10)\n",
        "min_simple_regret_exact_10 = min(simple_regret_exact_10)\n",
        "\n",
        "min_simple_regret_approx_10, min_simple_regret_exact_10"
      ]
    },
    {
      "cell_type": "code",
      "execution_count": null,
      "metadata": {
        "id": "d-FGzWyHQxfu",
        "colab": {
          "base_uri": "https://localhost:8080/"
        },
        "outputId": "571db4bd-3af4-4383-e555-08a9e2143497"
      },
      "outputs": [
        {
          "output_type": "execute_result",
          "data": {
            "text/plain": [
              "(-0.3393766064509819, -0.3393766064509819)"
            ]
          },
          "metadata": {},
          "execution_count": 65
        }
      ],
      "source": [
        "### Simple regret minimization: run number = 11\n",
        "\n",
        "approx_output_11 = np.append(np.min(-approx_11.GP.y[0:n_init]),-approx_11.GP.y[n_init:(n_init+iters)]) \n",
        "exact_output_11 = np.append(np.min(-exact_11.GP.y[0:n_init]),-exact_11.GP.y[n_init:(n_init+iters)]) \n",
        "\n",
        "regret_approx_11 = np.log(approx_output_11 - y_global_orig)\n",
        "regret_exact_11 = np.log(exact_output_11 - y_global_orig)\n",
        "\n",
        "simple_regret_approx_11 = min_max_array(regret_approx_11)\n",
        "simple_regret_exact_11 = min_max_array(regret_exact_11)\n",
        "\n",
        "min_simple_regret_approx_11 = min(simple_regret_approx_11)\n",
        "min_simple_regret_exact_11 = min(simple_regret_exact_11)\n",
        "\n",
        "min_simple_regret_approx_11, min_simple_regret_exact_11"
      ]
    },
    {
      "cell_type": "code",
      "execution_count": null,
      "metadata": {
        "id": "SvtsssyjQxfv",
        "colab": {
          "base_uri": "https://localhost:8080/"
        },
        "outputId": "a09d6fe0-6a9e-4535-9413-6b2eb5f740fa"
      },
      "outputs": [
        {
          "output_type": "execute_result",
          "data": {
            "text/plain": [
              "(0.11034593024799093, -0.3356100378070017)"
            ]
          },
          "metadata": {},
          "execution_count": 66
        }
      ],
      "source": [
        "### Simple regret minimization: run number = 12\n",
        "\n",
        "approx_output_12 = np.append(np.min(-approx_12.GP.y[0:n_init]),-approx_12.GP.y[n_init:(n_init+iters)]) \n",
        "exact_output_12 = np.append(np.min(-exact_12.GP.y[0:n_init]),-exact_12.GP.y[n_init:(n_init+iters)]) \n",
        "\n",
        "regret_approx_12 = np.log(approx_output_12 - y_global_orig)\n",
        "regret_exact_12 = np.log(exact_output_12 - y_global_orig)\n",
        "\n",
        "simple_regret_approx_12 = min_max_array(regret_approx_12)\n",
        "simple_regret_exact_12 = min_max_array(regret_exact_12)\n",
        "\n",
        "min_simple_regret_approx_12 = min(simple_regret_approx_12)\n",
        "min_simple_regret_exact_12 = min(simple_regret_exact_12)\n",
        "\n",
        "min_simple_regret_approx_12, min_simple_regret_exact_12"
      ]
    },
    {
      "cell_type": "code",
      "execution_count": null,
      "metadata": {
        "id": "K6OiGcHkQxfw",
        "colab": {
          "base_uri": "https://localhost:8080/"
        },
        "outputId": "8ef98729-d143-4f02-e1c7-ddc4d55a8010"
      },
      "outputs": [
        {
          "output_type": "execute_result",
          "data": {
            "text/plain": [
              "(0.5873833838142385, -0.4171193997817241)"
            ]
          },
          "metadata": {},
          "execution_count": 67
        }
      ],
      "source": [
        "### Simple regret minimization: run number = 13\n",
        "\n",
        "approx_output_13 = np.append(np.min(-approx_13.GP.y[0:n_init]),-approx_13.GP.y[n_init:(n_init+iters)]) \n",
        "exact_output_13 = np.append(np.min(-exact_13.GP.y[0:n_init]),-exact_13.GP.y[n_init:(n_init+iters)]) \n",
        "\n",
        "regret_approx_13 = np.log(approx_output_13 - y_global_orig)\n",
        "regret_exact_13 = np.log(exact_output_13 - y_global_orig)\n",
        "\n",
        "simple_regret_approx_13 = min_max_array(regret_approx_13)\n",
        "simple_regret_exact_13 = min_max_array(regret_exact_13)\n",
        "\n",
        "min_simple_regret_approx_13 = min(simple_regret_approx_13)\n",
        "min_simple_regret_exact_13 = min(simple_regret_exact_13)\n",
        "\n",
        "min_simple_regret_approx_13, min_simple_regret_exact_13"
      ]
    },
    {
      "cell_type": "code",
      "execution_count": null,
      "metadata": {
        "id": "ogML73shQxfx",
        "colab": {
          "base_uri": "https://localhost:8080/"
        },
        "outputId": "3dcea2ed-7f4b-4315-9764-acbfd6768a72"
      },
      "outputs": [
        {
          "output_type": "execute_result",
          "data": {
            "text/plain": [
              "(-1.8070202589112985, -0.349163633666193)"
            ]
          },
          "metadata": {},
          "execution_count": 68
        }
      ],
      "source": [
        "### Simple regret minimization: run number = 14\n",
        "\n",
        "approx_output_14 = np.append(np.min(-approx_14.GP.y[0:n_init]),-approx_14.GP.y[n_init:(n_init+iters)]) \n",
        "exact_output_14 = np.append(np.min(-exact_14.GP.y[0:n_init]),-exact_14.GP.y[n_init:(n_init+iters)]) \n",
        "\n",
        "regret_approx_14 = np.log(approx_output_14 - y_global_orig)\n",
        "regret_exact_14 = np.log(exact_output_14 - y_global_orig)\n",
        "\n",
        "simple_regret_approx_14 = min_max_array(regret_approx_14)\n",
        "simple_regret_exact_14 = min_max_array(regret_exact_14)\n",
        "\n",
        "min_simple_regret_approx_14 = min(simple_regret_approx_14)\n",
        "min_simple_regret_exact_14 = min(simple_regret_exact_14)\n",
        "\n",
        "min_simple_regret_approx_14, min_simple_regret_exact_14"
      ]
    },
    {
      "cell_type": "code",
      "execution_count": null,
      "metadata": {
        "id": "9Eg7gFT9Qxfx",
        "colab": {
          "base_uri": "https://localhost:8080/"
        },
        "outputId": "a3d2ced9-a88c-4b3e-8623-fb53ee8735a6"
      },
      "outputs": [
        {
          "output_type": "execute_result",
          "data": {
            "text/plain": [
              "(0.16650548605531185, -0.7679264928228464)"
            ]
          },
          "metadata": {},
          "execution_count": 69
        }
      ],
      "source": [
        "### Simple regret minimization: run number = 15\n",
        "\n",
        "approx_output_15 = np.append(np.min(-approx_15.GP.y[0:n_init]),-approx_15.GP.y[n_init:(n_init+iters)]) \n",
        "exact_output_15 = np.append(np.min(-exact_15.GP.y[0:n_init]),-exact_15.GP.y[n_init:(n_init+iters)]) \n",
        "\n",
        "regret_approx_15 = np.log(approx_output_15 - y_global_orig)\n",
        "regret_exact_15 = np.log(exact_output_15 - y_global_orig)\n",
        "\n",
        "simple_regret_approx_15 = min_max_array(regret_approx_15)\n",
        "simple_regret_exact_15 = min_max_array(regret_exact_15)\n",
        "\n",
        "min_simple_regret_approx_15 = min(simple_regret_approx_15)\n",
        "min_simple_regret_exact_15 = min(simple_regret_exact_15)\n",
        "\n",
        "min_simple_regret_approx_15, min_simple_regret_exact_15"
      ]
    },
    {
      "cell_type": "code",
      "execution_count": null,
      "metadata": {
        "id": "lIAC1U7ZQxfy",
        "colab": {
          "base_uri": "https://localhost:8080/"
        },
        "outputId": "7ffdcb8a-e0ca-46a7-8b29-68e4b8fe78e4"
      },
      "outputs": [
        {
          "output_type": "execute_result",
          "data": {
            "text/plain": [
              "(0.07213919061250756, -1.6236836902550458)"
            ]
          },
          "metadata": {},
          "execution_count": 70
        }
      ],
      "source": [
        "### Simple regret minimization: run number = 16\n",
        "\n",
        "approx_output_16 = np.append(np.min(-approx_16.GP.y[0:n_init]),-approx_16.GP.y[n_init:(n_init+iters)]) \n",
        "exact_output_16 = np.append(np.min(-exact_16.GP.y[0:n_init]),-exact_16.GP.y[n_init:(n_init+iters)]) \n",
        "\n",
        "regret_approx_16 = np.log(approx_output_16 - y_global_orig)\n",
        "regret_exact_16 = np.log(exact_output_16 - y_global_orig)\n",
        "\n",
        "simple_regret_approx_16 = min_max_array(regret_approx_16)\n",
        "simple_regret_exact_16 = min_max_array(regret_exact_16)\n",
        "\n",
        "min_simple_regret_approx_16 = min(simple_regret_approx_16)\n",
        "min_simple_regret_exact_16 = min(simple_regret_exact_16)\n",
        "\n",
        "min_simple_regret_approx_16, min_simple_regret_exact_16"
      ]
    },
    {
      "cell_type": "code",
      "execution_count": null,
      "metadata": {
        "id": "bGott36OQxfz",
        "colab": {
          "base_uri": "https://localhost:8080/"
        },
        "outputId": "2023bbba-0b62-4d6f-8499-c6a163d027d5"
      },
      "outputs": [
        {
          "output_type": "execute_result",
          "data": {
            "text/plain": [
              "(-4.461458212393033, -0.835822899550242)"
            ]
          },
          "metadata": {},
          "execution_count": 71
        }
      ],
      "source": [
        "### Simple regret minimization: run number = 17\n",
        "\n",
        "approx_output_17 = np.append(np.min(-approx_17.GP.y[0:n_init]),-approx_17.GP.y[n_init:(n_init+iters)]) \n",
        "exact_output_17 = np.append(np.min(-exact_17.GP.y[0:n_init]),-exact_17.GP.y[n_init:(n_init+iters)]) \n",
        "\n",
        "regret_approx_17 = np.log(approx_output_17 - y_global_orig)\n",
        "regret_exact_17 = np.log(exact_output_17 - y_global_orig)\n",
        "\n",
        "simple_regret_approx_17 = min_max_array(regret_approx_17)\n",
        "simple_regret_exact_17 = min_max_array(regret_exact_17)\n",
        "\n",
        "min_simple_regret_approx_17 = min(simple_regret_approx_17)\n",
        "min_simple_regret_exact_17 = min(simple_regret_exact_17)\n",
        "\n",
        "min_simple_regret_approx_17, min_simple_regret_exact_17"
      ]
    },
    {
      "cell_type": "code",
      "execution_count": null,
      "metadata": {
        "id": "Cz9ZYMBMQxfz",
        "colab": {
          "base_uri": "https://localhost:8080/"
        },
        "outputId": "27d5999b-f0ba-48b8-dbe4-85fdb39c13b5"
      },
      "outputs": [
        {
          "output_type": "execute_result",
          "data": {
            "text/plain": [
              "(-1.7986440887747168, -0.11913368547790577)"
            ]
          },
          "metadata": {},
          "execution_count": 72
        }
      ],
      "source": [
        "### Simple regret minimization: run number = 18\n",
        "\n",
        "approx_output_18 = np.append(np.min(-approx_18.GP.y[0:n_init]),-approx_18.GP.y[n_init:(n_init+iters)]) \n",
        "exact_output_18 = np.append(np.min(-exact_18.GP.y[0:n_init]),-exact_18.GP.y[n_init:(n_init+iters)]) \n",
        "\n",
        "regret_approx_18 = np.log(approx_output_18 - y_global_orig)\n",
        "regret_exact_18 = np.log(exact_output_18 - y_global_orig)\n",
        "\n",
        "simple_regret_approx_18 = min_max_array(regret_approx_18)\n",
        "simple_regret_exact_18 = min_max_array(regret_exact_18)\n",
        "\n",
        "min_simple_regret_approx_18 = min(simple_regret_approx_18)\n",
        "min_simple_regret_exact_18 = min(simple_regret_exact_18)\n",
        "\n",
        "min_simple_regret_approx_18, min_simple_regret_exact_18"
      ]
    },
    {
      "cell_type": "code",
      "execution_count": null,
      "metadata": {
        "id": "OBfpWOHNQxf0",
        "colab": {
          "base_uri": "https://localhost:8080/"
        },
        "outputId": "78b22458-0e93-4161-e413-86ee8c934130"
      },
      "outputs": [
        {
          "output_type": "execute_result",
          "data": {
            "text/plain": [
              "(0.37227973311114027, -0.5835044075335885)"
            ]
          },
          "metadata": {},
          "execution_count": 73
        }
      ],
      "source": [
        "### Simple regret minimization: run number = 19\n",
        "\n",
        "approx_output_19 = np.append(np.min(-approx_19.GP.y[0:n_init]),-approx_19.GP.y[n_init:(n_init+iters)]) \n",
        "exact_output_19 = np.append(np.min(-exact_19.GP.y[0:n_init]),-exact_19.GP.y[n_init:(n_init+iters)]) \n",
        "\n",
        "regret_approx_19 = np.log(approx_output_19 - y_global_orig)\n",
        "regret_exact_19 = np.log(exact_output_19 - y_global_orig)\n",
        "\n",
        "simple_regret_approx_19 = min_max_array(regret_approx_19)\n",
        "simple_regret_exact_19 = min_max_array(regret_exact_19)\n",
        "\n",
        "min_simple_regret_approx_19 = min(simple_regret_approx_19)\n",
        "min_simple_regret_exact_19 = min(simple_regret_exact_19)\n",
        "\n",
        "min_simple_regret_approx_19, min_simple_regret_exact_19"
      ]
    },
    {
      "cell_type": "code",
      "execution_count": null,
      "metadata": {
        "id": "BE1AJ7NsQxf0",
        "colab": {
          "base_uri": "https://localhost:8080/"
        },
        "outputId": "c5342fc8-02cc-40a6-eb56-8e05994712cb"
      },
      "outputs": [
        {
          "output_type": "execute_result",
          "data": {
            "text/plain": [
              "(0.479450768952963, 0.479450768952963)"
            ]
          },
          "metadata": {},
          "execution_count": 74
        }
      ],
      "source": [
        "### Simple regret minimization: run number = 20\n",
        "\n",
        "approx_output_20 = np.append(np.min(-approx_20.GP.y[0:n_init]),-approx_20.GP.y[n_init:(n_init+iters)]) \n",
        "exact_output_20 = np.append(np.min(-exact_20.GP.y[0:n_init]),-exact_20.GP.y[n_init:(n_init+iters)]) \n",
        "\n",
        "regret_approx_20 = np.log(approx_output_20 - y_global_orig)\n",
        "regret_exact_20 = np.log(exact_output_20 - y_global_orig)\n",
        "\n",
        "simple_regret_approx_20 = min_max_array(regret_approx_20)\n",
        "simple_regret_exact_20 = min_max_array(regret_exact_20)\n",
        "\n",
        "min_simple_regret_approx_20 = min(simple_regret_approx_20)\n",
        "min_simple_regret_exact_20 = min(simple_regret_exact_20)\n",
        "\n",
        "min_simple_regret_approx_20, min_simple_regret_exact_20"
      ]
    },
    {
      "cell_type": "code",
      "execution_count": null,
      "metadata": {
        "id": "bpX-bKAHQxf1"
      },
      "outputs": [],
      "source": [
        "# Iteration1 :\n",
        "\n",
        "slice1 = 0\n",
        "\n",
        "approx1 = [simple_regret_approx_1[slice1],\n",
        "       simple_regret_approx_2[slice1],\n",
        "       simple_regret_approx_3[slice1],\n",
        "       simple_regret_approx_4[slice1],\n",
        "       simple_regret_approx_5[slice1],\n",
        "       simple_regret_approx_6[slice1],\n",
        "       simple_regret_approx_7[slice1],\n",
        "       simple_regret_approx_8[slice1],\n",
        "       simple_regret_approx_9[slice1],\n",
        "       simple_regret_approx_10[slice1],\n",
        "       simple_regret_approx_11[slice1],\n",
        "       simple_regret_approx_12[slice1],\n",
        "       simple_regret_approx_13[slice1],\n",
        "       simple_regret_approx_14[slice1],\n",
        "       simple_regret_approx_15[slice1],\n",
        "       simple_regret_approx_16[slice1],\n",
        "       simple_regret_approx_17[slice1],\n",
        "       simple_regret_approx_18[slice1],\n",
        "       simple_regret_approx_19[slice1],\n",
        "       simple_regret_approx_20[slice1]]\n",
        "\n",
        "exact1 = [simple_regret_exact_1[slice1],\n",
        "       simple_regret_exact_2[slice1],\n",
        "       simple_regret_exact_3[slice1],\n",
        "       simple_regret_exact_4[slice1],\n",
        "       simple_regret_exact_5[slice1],\n",
        "       simple_regret_exact_6[slice1],\n",
        "       simple_regret_exact_7[slice1],\n",
        "       simple_regret_exact_8[slice1],\n",
        "       simple_regret_exact_9[slice1],\n",
        "       simple_regret_exact_10[slice1],\n",
        "       simple_regret_exact_11[slice1],\n",
        "       simple_regret_exact_12[slice1],\n",
        "       simple_regret_exact_13[slice1],\n",
        "       simple_regret_exact_14[slice1],\n",
        "       simple_regret_exact_15[slice1],\n",
        "       simple_regret_exact_16[slice1],\n",
        "       simple_regret_exact_17[slice1],\n",
        "       simple_regret_exact_18[slice1],\n",
        "       simple_regret_exact_19[slice1],\n",
        "       simple_regret_exact_20[slice1]]\n",
        "\n",
        "approx1_results = pd.DataFrame(approx1).sort_values(by=[0], ascending=False)\n",
        "exact1_results = pd.DataFrame(exact1).sort_values(by=[0], ascending=False)\n",
        "\n",
        "### Best simple regret minimization IQR - approx:\n",
        "lower_approx1 = np.asarray(approx1_results[4:5][0])[0]\n",
        "median_approx1 = np.asarray(approx1_results[9:10][0])[0]\n",
        "upper_approx1 = np.asarray(approx1_results[14:15][0])[0]\n",
        "\n",
        "lower_exact1 = np.asarray(exact1_results[4:5][0])[0]\n",
        "median_exact1 = np.asarray(exact1_results[9:10][0])[0]\n",
        "upper_exact1 = np.asarray(exact1_results[14:15][0])[0]"
      ]
    },
    {
      "cell_type": "code",
      "execution_count": null,
      "metadata": {
        "id": "CgIkJA1xQxf2"
      },
      "outputs": [],
      "source": [
        "# Iteration11 :\n",
        "\n",
        "slice11 = 10\n",
        "\n",
        "approx11 = [simple_regret_approx_1[slice11],\n",
        "       simple_regret_approx_2[slice11],\n",
        "       simple_regret_approx_3[slice11],\n",
        "       simple_regret_approx_4[slice11],\n",
        "       simple_regret_approx_5[slice11],\n",
        "       simple_regret_approx_6[slice11],\n",
        "       simple_regret_approx_7[slice11],\n",
        "       simple_regret_approx_8[slice11],\n",
        "       simple_regret_approx_9[slice11],\n",
        "       simple_regret_approx_10[slice11],\n",
        "       simple_regret_approx_11[slice11],\n",
        "       simple_regret_approx_12[slice11],\n",
        "       simple_regret_approx_13[slice11],\n",
        "       simple_regret_approx_14[slice11],\n",
        "       simple_regret_approx_15[slice11],\n",
        "       simple_regret_approx_16[slice11],\n",
        "       simple_regret_approx_17[slice11],\n",
        "       simple_regret_approx_18[slice11],\n",
        "       simple_regret_approx_19[slice11],\n",
        "       simple_regret_approx_20[slice11]]\n",
        "\n",
        "exact11 = [simple_regret_exact_1[slice11],\n",
        "       simple_regret_exact_2[slice11],\n",
        "       simple_regret_exact_3[slice11],\n",
        "       simple_regret_exact_4[slice11],\n",
        "       simple_regret_exact_5[slice11],\n",
        "       simple_regret_exact_6[slice11],\n",
        "       simple_regret_exact_7[slice11],\n",
        "       simple_regret_exact_8[slice11],\n",
        "       simple_regret_exact_9[slice11],\n",
        "       simple_regret_exact_10[slice11],\n",
        "       simple_regret_exact_11[slice11],\n",
        "       simple_regret_exact_12[slice11],\n",
        "       simple_regret_exact_13[slice11],\n",
        "       simple_regret_exact_14[slice11],\n",
        "       simple_regret_exact_15[slice11],\n",
        "       simple_regret_exact_16[slice11],\n",
        "       simple_regret_exact_17[slice11],\n",
        "       simple_regret_exact_18[slice11],\n",
        "       simple_regret_exact_19[slice11],\n",
        "       simple_regret_exact_20[slice11]]\n",
        "\n",
        "approx11_results = pd.DataFrame(approx11).sort_values(by=[0], ascending=False)\n",
        "exact11_results = pd.DataFrame(exact11).sort_values(by=[0], ascending=False)\n",
        "\n",
        "### Best simple regret minimization IQR - approx:\n",
        "lower_approx11 = np.asarray(approx11_results[4:5][0])[0]\n",
        "median_approx11 = np.asarray(approx11_results[9:10][0])[0]\n",
        "upper_approx11 = np.asarray(approx11_results[14:15][0])[0]\n",
        "\n",
        "lower_exact11 = np.asarray(exact11_results[4:5][0])[0]\n",
        "median_exact11 = np.asarray(exact11_results[9:10][0])[0]\n",
        "upper_exact11 = np.asarray(exact11_results[14:15][0])[0]"
      ]
    },
    {
      "cell_type": "code",
      "execution_count": null,
      "metadata": {
        "id": "MFePDfGuQxf2"
      },
      "outputs": [],
      "source": [
        "# Iteration21 :\n",
        "\n",
        "slice21 = 20\n",
        "\n",
        "approx21 = [simple_regret_approx_1[slice21],\n",
        "       simple_regret_approx_2[slice21],\n",
        "       simple_regret_approx_3[slice21],\n",
        "       simple_regret_approx_4[slice21],\n",
        "       simple_regret_approx_5[slice21],\n",
        "       simple_regret_approx_6[slice21],\n",
        "       simple_regret_approx_7[slice21],\n",
        "       simple_regret_approx_8[slice21],\n",
        "       simple_regret_approx_9[slice21],\n",
        "       simple_regret_approx_10[slice21],\n",
        "       simple_regret_approx_11[slice21],\n",
        "       simple_regret_approx_12[slice21],\n",
        "       simple_regret_approx_13[slice21],\n",
        "       simple_regret_approx_14[slice21],\n",
        "       simple_regret_approx_15[slice21],\n",
        "       simple_regret_approx_16[slice21],\n",
        "       simple_regret_approx_17[slice21],\n",
        "       simple_regret_approx_18[slice21],\n",
        "       simple_regret_approx_19[slice21],\n",
        "       simple_regret_approx_20[slice21]]\n",
        "\n",
        "exact21 = [simple_regret_exact_1[slice21],\n",
        "       simple_regret_exact_2[slice21],\n",
        "       simple_regret_exact_3[slice21],\n",
        "       simple_regret_exact_4[slice21],\n",
        "       simple_regret_exact_5[slice21],\n",
        "       simple_regret_exact_6[slice21],\n",
        "       simple_regret_exact_7[slice21],\n",
        "       simple_regret_exact_8[slice21],\n",
        "       simple_regret_exact_9[slice21],\n",
        "       simple_regret_exact_10[slice21],\n",
        "       simple_regret_exact_11[slice21],\n",
        "       simple_regret_exact_12[slice21],\n",
        "       simple_regret_exact_13[slice21],\n",
        "       simple_regret_exact_14[slice21],\n",
        "       simple_regret_exact_15[slice21],\n",
        "       simple_regret_exact_16[slice21],\n",
        "       simple_regret_exact_17[slice21],\n",
        "       simple_regret_exact_18[slice21],\n",
        "       simple_regret_exact_19[slice21],\n",
        "       simple_regret_exact_20[slice21]]\n",
        "\n",
        "approx21_results = pd.DataFrame(approx21).sort_values(by=[0], ascending=False)\n",
        "exact21_results = pd.DataFrame(exact21).sort_values(by=[0], ascending=False)\n",
        "\n",
        "### Best simple regret minimization IQR - approx:\n",
        "lower_approx21 = np.asarray(approx21_results[4:5][0])[0]\n",
        "median_approx21 = np.asarray(approx21_results[9:10][0])[0]\n",
        "upper_approx21 = np.asarray(approx21_results[14:15][0])[0]\n",
        "\n",
        "lower_exact21 = np.asarray(exact21_results[4:5][0])[0]\n",
        "median_exact21 = np.asarray(exact21_results[9:10][0])[0]\n",
        "upper_exact21 = np.asarray(exact21_results[14:15][0])[0]"
      ]
    },
    {
      "cell_type": "code",
      "execution_count": null,
      "metadata": {
        "id": "PrRDB1kfQxf3"
      },
      "outputs": [],
      "source": [
        "# Iteration2 :\n",
        "\n",
        "slice2 = 1\n",
        "\n",
        "approx2 = [simple_regret_approx_1[slice2],\n",
        "       simple_regret_approx_2[slice2],\n",
        "       simple_regret_approx_3[slice2],\n",
        "       simple_regret_approx_4[slice2],\n",
        "       simple_regret_approx_5[slice2],\n",
        "       simple_regret_approx_6[slice2],\n",
        "       simple_regret_approx_7[slice2],\n",
        "       simple_regret_approx_8[slice2],\n",
        "       simple_regret_approx_9[slice2],\n",
        "       simple_regret_approx_10[slice2],\n",
        "       simple_regret_approx_11[slice2],\n",
        "       simple_regret_approx_12[slice2],\n",
        "       simple_regret_approx_13[slice2],\n",
        "       simple_regret_approx_14[slice2],\n",
        "       simple_regret_approx_15[slice2],\n",
        "       simple_regret_approx_16[slice2],\n",
        "       simple_regret_approx_17[slice2],\n",
        "       simple_regret_approx_18[slice2],\n",
        "       simple_regret_approx_19[slice2],\n",
        "       simple_regret_approx_20[slice2]]\n",
        "\n",
        "exact2 = [simple_regret_exact_1[slice2],\n",
        "       simple_regret_exact_2[slice2],\n",
        "       simple_regret_exact_3[slice2],\n",
        "       simple_regret_exact_4[slice2],\n",
        "       simple_regret_exact_5[slice2],\n",
        "       simple_regret_exact_6[slice2],\n",
        "       simple_regret_exact_7[slice2],\n",
        "       simple_regret_exact_8[slice2],\n",
        "       simple_regret_exact_9[slice2],\n",
        "       simple_regret_exact_10[slice2],\n",
        "       simple_regret_exact_11[slice2],\n",
        "       simple_regret_exact_12[slice2],\n",
        "       simple_regret_exact_13[slice2],\n",
        "       simple_regret_exact_14[slice2],\n",
        "       simple_regret_exact_15[slice2],\n",
        "       simple_regret_exact_16[slice2],\n",
        "       simple_regret_exact_17[slice2],\n",
        "       simple_regret_exact_18[slice2],\n",
        "       simple_regret_exact_19[slice2],\n",
        "       simple_regret_exact_20[slice2]]\n",
        "\n",
        "approx2_results = pd.DataFrame(approx2).sort_values(by=[0], ascending=False)\n",
        "exact2_results = pd.DataFrame(exact2).sort_values(by=[0], ascending=False)\n",
        "\n",
        "### Best simple regret minimization IQR - approx:\n",
        "lower_approx2 = np.asarray(approx2_results[4:5][0])[0]\n",
        "median_approx2 = np.asarray(approx2_results[9:10][0])[0]\n",
        "upper_approx2 = np.asarray(approx2_results[14:15][0])[0]\n",
        "\n",
        "lower_exact2 = np.asarray(exact2_results[4:5][0])[0]\n",
        "median_exact2 = np.asarray(exact2_results[9:10][0])[0]\n",
        "upper_exact2 = np.asarray(exact2_results[14:15][0])[0]"
      ]
    },
    {
      "cell_type": "code",
      "execution_count": null,
      "metadata": {
        "id": "B8ncJDYeQxf3"
      },
      "outputs": [],
      "source": [
        "# Iteration12 :\n",
        "\n",
        "slice12 = 11\n",
        "\n",
        "approx12 = [simple_regret_approx_1[slice12],\n",
        "       simple_regret_approx_2[slice12],\n",
        "       simple_regret_approx_3[slice12],\n",
        "       simple_regret_approx_4[slice12],\n",
        "       simple_regret_approx_5[slice12],\n",
        "       simple_regret_approx_6[slice12],\n",
        "       simple_regret_approx_7[slice12],\n",
        "       simple_regret_approx_8[slice12],\n",
        "       simple_regret_approx_9[slice12],\n",
        "       simple_regret_approx_10[slice12],\n",
        "       simple_regret_approx_11[slice12],\n",
        "       simple_regret_approx_12[slice12],\n",
        "       simple_regret_approx_13[slice12],\n",
        "       simple_regret_approx_14[slice12],\n",
        "       simple_regret_approx_15[slice12],\n",
        "       simple_regret_approx_16[slice12],\n",
        "       simple_regret_approx_17[slice12],\n",
        "       simple_regret_approx_18[slice12],\n",
        "       simple_regret_approx_19[slice12],\n",
        "       simple_regret_approx_20[slice12]]\n",
        "\n",
        "exact12 = [simple_regret_exact_1[slice12],\n",
        "       simple_regret_exact_2[slice12],\n",
        "       simple_regret_exact_3[slice12],\n",
        "       simple_regret_exact_4[slice12],\n",
        "       simple_regret_exact_5[slice12],\n",
        "       simple_regret_exact_6[slice12],\n",
        "       simple_regret_exact_7[slice12],\n",
        "       simple_regret_exact_8[slice12],\n",
        "       simple_regret_exact_9[slice12],\n",
        "       simple_regret_exact_10[slice12],\n",
        "       simple_regret_exact_11[slice12],\n",
        "       simple_regret_exact_12[slice12],\n",
        "       simple_regret_exact_13[slice12],\n",
        "       simple_regret_exact_14[slice12],\n",
        "       simple_regret_exact_15[slice12],\n",
        "       simple_regret_exact_16[slice12],\n",
        "       simple_regret_exact_17[slice12],\n",
        "       simple_regret_exact_18[slice12],\n",
        "       simple_regret_exact_19[slice12],\n",
        "       simple_regret_exact_20[slice12]]\n",
        "\n",
        "approx12_results = pd.DataFrame(approx12).sort_values(by=[0], ascending=False)\n",
        "exact12_results = pd.DataFrame(exact12).sort_values(by=[0], ascending=False)\n",
        "\n",
        "### Best simple regret minimization IQR - approx:\n",
        "lower_approx12 = np.asarray(approx12_results[4:5][0])[0]\n",
        "median_approx12 = np.asarray(approx12_results[9:10][0])[0]\n",
        "upper_approx12 = np.asarray(approx12_results[14:15][0])[0]\n",
        "\n",
        "lower_exact12 = np.asarray(exact12_results[4:5][0])[0]\n",
        "median_exact12 = np.asarray(exact12_results[9:10][0])[0]\n",
        "upper_exact12 = np.asarray(exact12_results[14:15][0])[0]"
      ]
    },
    {
      "cell_type": "code",
      "execution_count": null,
      "metadata": {
        "id": "Jn4KpGvcQxf4"
      },
      "outputs": [],
      "source": [
        "# Iteration3 :\n",
        "\n",
        "slice3 = 2\n",
        "\n",
        "approx3 = [simple_regret_approx_1[slice3],\n",
        "       simple_regret_approx_2[slice3],\n",
        "       simple_regret_approx_3[slice3],\n",
        "       simple_regret_approx_4[slice3],\n",
        "       simple_regret_approx_5[slice3],\n",
        "       simple_regret_approx_6[slice3],\n",
        "       simple_regret_approx_7[slice3],\n",
        "       simple_regret_approx_8[slice3],\n",
        "       simple_regret_approx_9[slice3],\n",
        "       simple_regret_approx_10[slice3],\n",
        "       simple_regret_approx_11[slice3],\n",
        "       simple_regret_approx_12[slice3],\n",
        "       simple_regret_approx_13[slice3],\n",
        "       simple_regret_approx_14[slice3],\n",
        "       simple_regret_approx_15[slice3],\n",
        "       simple_regret_approx_16[slice3],\n",
        "       simple_regret_approx_17[slice3],\n",
        "       simple_regret_approx_18[slice3],\n",
        "       simple_regret_approx_19[slice3],\n",
        "       simple_regret_approx_20[slice3]]\n",
        "\n",
        "exact3 = [simple_regret_exact_1[slice3],\n",
        "       simple_regret_exact_2[slice3],\n",
        "       simple_regret_exact_3[slice3],\n",
        "       simple_regret_exact_4[slice3],\n",
        "       simple_regret_exact_5[slice3],\n",
        "       simple_regret_exact_6[slice3],\n",
        "       simple_regret_exact_7[slice3],\n",
        "       simple_regret_exact_8[slice3],\n",
        "       simple_regret_exact_9[slice3],\n",
        "       simple_regret_exact_10[slice3],\n",
        "       simple_regret_exact_11[slice3],\n",
        "       simple_regret_exact_12[slice3],\n",
        "       simple_regret_exact_13[slice3],\n",
        "       simple_regret_exact_14[slice3],\n",
        "       simple_regret_exact_15[slice3],\n",
        "       simple_regret_exact_16[slice3],\n",
        "       simple_regret_exact_17[slice3],\n",
        "       simple_regret_exact_18[slice3],\n",
        "       simple_regret_exact_19[slice3],\n",
        "       simple_regret_exact_20[slice3]]\n",
        "\n",
        "approx3_results = pd.DataFrame(approx3).sort_values(by=[0], ascending=False)\n",
        "exact3_results = pd.DataFrame(exact3).sort_values(by=[0], ascending=False)\n",
        "\n",
        "### Best simple regret minimization IQR - approx:\n",
        "lower_approx3 = np.asarray(approx3_results[4:5][0])[0]\n",
        "median_approx3 = np.asarray(approx3_results[9:10][0])[0]\n",
        "upper_approx3 = np.asarray(approx3_results[14:15][0])[0]\n",
        "\n",
        "lower_exact3 = np.asarray(exact3_results[4:5][0])[0]\n",
        "median_exact3 = np.asarray(exact3_results[9:10][0])[0]\n",
        "upper_exact3 = np.asarray(exact3_results[14:15][0])[0]"
      ]
    },
    {
      "cell_type": "code",
      "execution_count": null,
      "metadata": {
        "id": "plf83wxrQxf4"
      },
      "outputs": [],
      "source": [
        "# Iteration13 :\n",
        "\n",
        "slice13 = 12\n",
        "\n",
        "approx13 = [simple_regret_approx_1[slice13],\n",
        "       simple_regret_approx_2[slice13],\n",
        "       simple_regret_approx_3[slice13],\n",
        "       simple_regret_approx_4[slice13],\n",
        "       simple_regret_approx_5[slice13],\n",
        "       simple_regret_approx_6[slice13],\n",
        "       simple_regret_approx_7[slice13],\n",
        "       simple_regret_approx_8[slice13],\n",
        "       simple_regret_approx_9[slice13],\n",
        "       simple_regret_approx_10[slice13],\n",
        "       simple_regret_approx_11[slice13],\n",
        "       simple_regret_approx_12[slice13],\n",
        "       simple_regret_approx_13[slice13],\n",
        "       simple_regret_approx_14[slice13],\n",
        "       simple_regret_approx_15[slice13],\n",
        "       simple_regret_approx_16[slice13],\n",
        "       simple_regret_approx_17[slice13],\n",
        "       simple_regret_approx_18[slice13],\n",
        "       simple_regret_approx_19[slice13],\n",
        "       simple_regret_approx_20[slice13]]\n",
        "\n",
        "exact13 = [simple_regret_exact_1[slice13],\n",
        "       simple_regret_exact_2[slice13],\n",
        "       simple_regret_exact_3[slice13],\n",
        "       simple_regret_exact_4[slice13],\n",
        "       simple_regret_exact_5[slice13],\n",
        "       simple_regret_exact_6[slice13],\n",
        "       simple_regret_exact_7[slice13],\n",
        "       simple_regret_exact_8[slice13],\n",
        "       simple_regret_exact_9[slice13],\n",
        "       simple_regret_exact_10[slice13],\n",
        "       simple_regret_exact_11[slice13],\n",
        "       simple_regret_exact_12[slice13],\n",
        "       simple_regret_exact_13[slice13],\n",
        "       simple_regret_exact_14[slice13],\n",
        "       simple_regret_exact_15[slice13],\n",
        "       simple_regret_exact_16[slice13],\n",
        "       simple_regret_exact_17[slice13],\n",
        "       simple_regret_exact_18[slice13],\n",
        "       simple_regret_exact_19[slice13],\n",
        "       simple_regret_exact_20[slice13]]\n",
        "\n",
        "approx13_results = pd.DataFrame(approx13).sort_values(by=[0], ascending=False)\n",
        "exact13_results = pd.DataFrame(exact13).sort_values(by=[0], ascending=False)\n",
        "\n",
        "### Best simple regret minimization IQR - approx:\n",
        "lower_approx13 = np.asarray(approx13_results[4:5][0])[0]\n",
        "median_approx13 = np.asarray(approx13_results[9:10][0])[0]\n",
        "upper_approx13 = np.asarray(approx13_results[14:15][0])[0]\n",
        "\n",
        "lower_exact13 = np.asarray(exact13_results[4:5][0])[0]\n",
        "median_exact13 = np.asarray(exact13_results[9:10][0])[0]\n",
        "upper_exact13 = np.asarray(exact13_results[14:15][0])[0]"
      ]
    },
    {
      "cell_type": "code",
      "execution_count": null,
      "metadata": {
        "id": "9A7mlVvJQxf5"
      },
      "outputs": [],
      "source": [
        "# Iteration4 :\n",
        "\n",
        "slice4 = 3\n",
        "\n",
        "approx4 = [simple_regret_approx_1[slice4],\n",
        "       simple_regret_approx_2[slice4],\n",
        "       simple_regret_approx_3[slice4],\n",
        "       simple_regret_approx_4[slice4],\n",
        "       simple_regret_approx_5[slice4],\n",
        "       simple_regret_approx_6[slice4],\n",
        "       simple_regret_approx_7[slice4],\n",
        "       simple_regret_approx_8[slice4],\n",
        "       simple_regret_approx_9[slice4],\n",
        "       simple_regret_approx_10[slice4],\n",
        "       simple_regret_approx_11[slice4],\n",
        "       simple_regret_approx_12[slice4],\n",
        "       simple_regret_approx_13[slice4],\n",
        "       simple_regret_approx_14[slice4],\n",
        "       simple_regret_approx_15[slice4],\n",
        "       simple_regret_approx_16[slice4],\n",
        "       simple_regret_approx_17[slice4],\n",
        "       simple_regret_approx_18[slice4],\n",
        "       simple_regret_approx_19[slice4],\n",
        "       simple_regret_approx_20[slice4]]\n",
        "\n",
        "exact4 = [simple_regret_exact_1[slice4],\n",
        "       simple_regret_exact_2[slice4],\n",
        "       simple_regret_exact_3[slice4],\n",
        "       simple_regret_exact_4[slice4],\n",
        "       simple_regret_exact_5[slice4],\n",
        "       simple_regret_exact_6[slice4],\n",
        "       simple_regret_exact_7[slice4],\n",
        "       simple_regret_exact_8[slice4],\n",
        "       simple_regret_exact_9[slice4],\n",
        "       simple_regret_exact_10[slice4],\n",
        "       simple_regret_exact_11[slice4],\n",
        "       simple_regret_exact_12[slice4],\n",
        "       simple_regret_exact_13[slice4],\n",
        "       simple_regret_exact_14[slice4],\n",
        "       simple_regret_exact_15[slice4],\n",
        "       simple_regret_exact_16[slice4],\n",
        "       simple_regret_exact_17[slice4],\n",
        "       simple_regret_exact_18[slice4],\n",
        "       simple_regret_exact_19[slice4],\n",
        "       simple_regret_exact_20[slice4]]\n",
        "\n",
        "approx4_results = pd.DataFrame(approx4).sort_values(by=[0], ascending=False)\n",
        "exact4_results = pd.DataFrame(exact4).sort_values(by=[0], ascending=False)\n",
        "\n",
        "### Best simple regret minimization IQR - approx:\n",
        "lower_approx4 = np.asarray(approx4_results[4:5][0])[0]\n",
        "median_approx4 = np.asarray(approx4_results[9:10][0])[0]\n",
        "upper_approx4 = np.asarray(approx4_results[14:15][0])[0]\n",
        "\n",
        "lower_exact4 = np.asarray(exact4_results[4:5][0])[0]\n",
        "median_exact4 = np.asarray(exact4_results[9:10][0])[0]\n",
        "upper_exact4 = np.asarray(exact4_results[14:15][0])[0]"
      ]
    },
    {
      "cell_type": "code",
      "execution_count": null,
      "metadata": {
        "id": "ijq-rioYQxf5"
      },
      "outputs": [],
      "source": [
        "# Iteration14 :\n",
        "\n",
        "slice14 = 13\n",
        "\n",
        "approx14 = [simple_regret_approx_1[slice14],\n",
        "       simple_regret_approx_2[slice14],\n",
        "       simple_regret_approx_3[slice14],\n",
        "       simple_regret_approx_4[slice14],\n",
        "       simple_regret_approx_5[slice14],\n",
        "       simple_regret_approx_6[slice14],\n",
        "       simple_regret_approx_7[slice14],\n",
        "       simple_regret_approx_8[slice14],\n",
        "       simple_regret_approx_9[slice14],\n",
        "       simple_regret_approx_10[slice14],\n",
        "       simple_regret_approx_11[slice14],\n",
        "       simple_regret_approx_12[slice14],\n",
        "       simple_regret_approx_13[slice14],\n",
        "       simple_regret_approx_14[slice14],\n",
        "       simple_regret_approx_15[slice14],\n",
        "       simple_regret_approx_16[slice14],\n",
        "       simple_regret_approx_17[slice14],\n",
        "       simple_regret_approx_18[slice14],\n",
        "       simple_regret_approx_19[slice14],\n",
        "       simple_regret_approx_20[slice14]]\n",
        "\n",
        "exact14 = [simple_regret_exact_1[slice14],\n",
        "       simple_regret_exact_2[slice14],\n",
        "       simple_regret_exact_3[slice14],\n",
        "       simple_regret_exact_4[slice14],\n",
        "       simple_regret_exact_5[slice14],\n",
        "       simple_regret_exact_6[slice14],\n",
        "       simple_regret_exact_7[slice14],\n",
        "       simple_regret_exact_8[slice14],\n",
        "       simple_regret_exact_9[slice14],\n",
        "       simple_regret_exact_10[slice14],\n",
        "       simple_regret_exact_11[slice14],\n",
        "       simple_regret_exact_12[slice14],\n",
        "       simple_regret_exact_13[slice14],\n",
        "       simple_regret_exact_14[slice14],\n",
        "       simple_regret_exact_15[slice14],\n",
        "       simple_regret_exact_16[slice14],\n",
        "       simple_regret_exact_17[slice14],\n",
        "       simple_regret_exact_18[slice14],\n",
        "       simple_regret_exact_19[slice14],\n",
        "       simple_regret_exact_20[slice14]]\n",
        "\n",
        "approx14_results = pd.DataFrame(approx14).sort_values(by=[0], ascending=False)\n",
        "exact14_results = pd.DataFrame(exact14).sort_values(by=[0], ascending=False)\n",
        "\n",
        "### Best simple regret minimization IQR - approx:\n",
        "lower_approx14 = np.asarray(approx14_results[4:5][0])[0]\n",
        "median_approx14 = np.asarray(approx14_results[9:10][0])[0]\n",
        "upper_approx14 = np.asarray(approx14_results[14:15][0])[0]\n",
        "\n",
        "lower_exact14 = np.asarray(exact14_results[4:5][0])[0]\n",
        "median_exact14 = np.asarray(exact14_results[9:10][0])[0]\n",
        "upper_exact14 = np.asarray(exact14_results[14:15][0])[0]"
      ]
    },
    {
      "cell_type": "code",
      "execution_count": null,
      "metadata": {
        "id": "XINlZjoTd-ZK"
      },
      "outputs": [],
      "source": [
        "# Iteration5 :\n",
        "\n",
        "slice5 = 4\n",
        "\n",
        "approx5 = [simple_regret_approx_1[slice5],\n",
        "       simple_regret_approx_2[slice5],\n",
        "       simple_regret_approx_3[slice5],\n",
        "       simple_regret_approx_4[slice5],\n",
        "       simple_regret_approx_5[slice5],\n",
        "       simple_regret_approx_6[slice5],\n",
        "       simple_regret_approx_7[slice5],\n",
        "       simple_regret_approx_8[slice5],\n",
        "       simple_regret_approx_9[slice5],\n",
        "       simple_regret_approx_10[slice5],\n",
        "       simple_regret_approx_11[slice5],\n",
        "       simple_regret_approx_12[slice5],\n",
        "       simple_regret_approx_13[slice5],\n",
        "       simple_regret_approx_14[slice5],\n",
        "       simple_regret_approx_15[slice5],\n",
        "       simple_regret_approx_16[slice5],\n",
        "       simple_regret_approx_17[slice5],\n",
        "       simple_regret_approx_18[slice5],\n",
        "       simple_regret_approx_19[slice5],\n",
        "       simple_regret_approx_20[slice5]]\n",
        "\n",
        "exact5 = [simple_regret_exact_1[slice5],\n",
        "       simple_regret_exact_2[slice5],\n",
        "       simple_regret_exact_3[slice5],\n",
        "       simple_regret_exact_4[slice5],\n",
        "       simple_regret_exact_5[slice5],\n",
        "       simple_regret_exact_6[slice5],\n",
        "       simple_regret_exact_7[slice5],\n",
        "       simple_regret_exact_8[slice5],\n",
        "       simple_regret_exact_9[slice5],\n",
        "       simple_regret_exact_10[slice5],\n",
        "       simple_regret_exact_11[slice5],\n",
        "       simple_regret_exact_12[slice5],\n",
        "       simple_regret_exact_13[slice5],\n",
        "       simple_regret_exact_14[slice5],\n",
        "       simple_regret_exact_15[slice5],\n",
        "       simple_regret_exact_16[slice5],\n",
        "       simple_regret_exact_17[slice5],\n",
        "       simple_regret_exact_18[slice5],\n",
        "       simple_regret_exact_19[slice5],\n",
        "       simple_regret_exact_20[slice5]]\n",
        "\n",
        "approx5_results = pd.DataFrame(approx5).sort_values(by=[0], ascending=False)\n",
        "exact5_results = pd.DataFrame(exact5).sort_values(by=[0], ascending=False)\n",
        "\n",
        "### Best simple regret minimization IQR - approx:\n",
        "lower_approx5 = np.asarray(approx5_results[4:5][0])[0]\n",
        "median_approx5 = np.asarray(approx5_results[9:10][0])[0]\n",
        "upper_approx5 = np.asarray(approx5_results[14:15][0])[0]\n",
        "\n",
        "lower_exact5 = np.asarray(exact5_results[4:5][0])[0]\n",
        "median_exact5 = np.asarray(exact5_results[9:10][0])[0]\n",
        "upper_exact5 = np.asarray(exact5_results[14:15][0])[0]"
      ]
    },
    {
      "cell_type": "code",
      "execution_count": null,
      "metadata": {
        "id": "4aZ7C8sOQxf6"
      },
      "outputs": [],
      "source": [
        "# Iteration15 :\n",
        "\n",
        "slice15 = 14\n",
        "\n",
        "approx15 = [simple_regret_approx_1[slice15],\n",
        "       simple_regret_approx_2[slice15],\n",
        "       simple_regret_approx_3[slice15],\n",
        "       simple_regret_approx_4[slice15],\n",
        "       simple_regret_approx_5[slice15],\n",
        "       simple_regret_approx_6[slice15],\n",
        "       simple_regret_approx_7[slice15],\n",
        "       simple_regret_approx_8[slice15],\n",
        "       simple_regret_approx_9[slice15],\n",
        "       simple_regret_approx_10[slice15],\n",
        "       simple_regret_approx_11[slice15],\n",
        "       simple_regret_approx_12[slice15],\n",
        "       simple_regret_approx_13[slice15],\n",
        "       simple_regret_approx_14[slice15],\n",
        "       simple_regret_approx_15[slice15],\n",
        "       simple_regret_approx_16[slice15],\n",
        "       simple_regret_approx_17[slice15],\n",
        "       simple_regret_approx_18[slice15],\n",
        "       simple_regret_approx_19[slice15],\n",
        "       simple_regret_approx_20[slice15]]\n",
        "\n",
        "exact15 = [simple_regret_exact_1[slice15],\n",
        "       simple_regret_exact_2[slice15],\n",
        "       simple_regret_exact_3[slice15],\n",
        "       simple_regret_exact_4[slice15],\n",
        "       simple_regret_exact_5[slice15],\n",
        "       simple_regret_exact_6[slice15],\n",
        "       simple_regret_exact_7[slice15],\n",
        "       simple_regret_exact_8[slice15],\n",
        "       simple_regret_exact_9[slice15],\n",
        "       simple_regret_exact_10[slice15],\n",
        "       simple_regret_exact_11[slice15],\n",
        "       simple_regret_exact_12[slice15],\n",
        "       simple_regret_exact_13[slice15],\n",
        "       simple_regret_exact_14[slice15],\n",
        "       simple_regret_exact_15[slice15],\n",
        "       simple_regret_exact_16[slice15],\n",
        "       simple_regret_exact_17[slice15],\n",
        "       simple_regret_exact_18[slice15],\n",
        "       simple_regret_exact_19[slice15],\n",
        "       simple_regret_exact_20[slice15]]\n",
        "\n",
        "approx15_results = pd.DataFrame(approx15).sort_values(by=[0], ascending=False)\n",
        "exact15_results = pd.DataFrame(exact15).sort_values(by=[0], ascending=False)\n",
        "\n",
        "### Best simple regret minimization IQR - approx:\n",
        "lower_approx15 = np.asarray(approx15_results[4:5][0])[0]\n",
        "median_approx15 = np.asarray(approx15_results[9:10][0])[0]\n",
        "upper_approx15 = np.asarray(approx15_results[14:15][0])[0]\n",
        "\n",
        "lower_exact15 = np.asarray(exact15_results[4:5][0])[0]\n",
        "median_exact15 = np.asarray(exact15_results[9:10][0])[0]\n",
        "upper_exact15 = np.asarray(exact15_results[14:15][0])[0]"
      ]
    },
    {
      "cell_type": "code",
      "execution_count": null,
      "metadata": {
        "id": "KJINKhv1Qxf6"
      },
      "outputs": [],
      "source": [
        "# Iteration6 :\n",
        "\n",
        "slice6 = 5\n",
        "\n",
        "approx6 = [simple_regret_approx_1[slice6],\n",
        "       simple_regret_approx_2[slice6],\n",
        "       simple_regret_approx_3[slice6],\n",
        "       simple_regret_approx_4[slice6],\n",
        "       simple_regret_approx_5[slice6],\n",
        "       simple_regret_approx_6[slice6],\n",
        "       simple_regret_approx_7[slice6],\n",
        "       simple_regret_approx_8[slice6],\n",
        "       simple_regret_approx_9[slice6],\n",
        "       simple_regret_approx_10[slice6],\n",
        "       simple_regret_approx_11[slice6],\n",
        "       simple_regret_approx_12[slice6],\n",
        "       simple_regret_approx_13[slice6],\n",
        "       simple_regret_approx_14[slice6],\n",
        "       simple_regret_approx_15[slice6],\n",
        "       simple_regret_approx_16[slice6],\n",
        "       simple_regret_approx_17[slice6],\n",
        "       simple_regret_approx_18[slice6],\n",
        "       simple_regret_approx_19[slice6],\n",
        "       simple_regret_approx_20[slice6]]\n",
        "\n",
        "exact6 = [simple_regret_exact_1[slice6],\n",
        "       simple_regret_exact_2[slice6],\n",
        "       simple_regret_exact_3[slice6],\n",
        "       simple_regret_exact_4[slice6],\n",
        "       simple_regret_exact_5[slice6],\n",
        "       simple_regret_exact_6[slice6],\n",
        "       simple_regret_exact_7[slice6],\n",
        "       simple_regret_exact_8[slice6],\n",
        "       simple_regret_exact_9[slice6],\n",
        "       simple_regret_exact_10[slice6],\n",
        "       simple_regret_exact_11[slice6],\n",
        "       simple_regret_exact_12[slice6],\n",
        "       simple_regret_exact_13[slice6],\n",
        "       simple_regret_exact_14[slice6],\n",
        "       simple_regret_exact_15[slice6],\n",
        "       simple_regret_exact_16[slice6],\n",
        "       simple_regret_exact_17[slice6],\n",
        "       simple_regret_exact_18[slice6],\n",
        "       simple_regret_exact_19[slice6],\n",
        "       simple_regret_exact_20[slice6]]\n",
        "\n",
        "approx6_results = pd.DataFrame(approx6).sort_values(by=[0], ascending=False)\n",
        "exact6_results = pd.DataFrame(exact6).sort_values(by=[0], ascending=False)\n",
        "\n",
        "### Best simple regret minimization IQR - approx:\n",
        "lower_approx6 = np.asarray(approx6_results[4:5][0])[0]\n",
        "median_approx6 = np.asarray(approx6_results[9:10][0])[0]\n",
        "upper_approx6 = np.asarray(approx6_results[14:15][0])[0]\n",
        "\n",
        "lower_exact6 = np.asarray(exact6_results[4:5][0])[0]\n",
        "median_exact6 = np.asarray(exact6_results[9:10][0])[0]\n",
        "upper_exact6 = np.asarray(exact6_results[14:15][0])[0]"
      ]
    },
    {
      "cell_type": "code",
      "execution_count": null,
      "metadata": {
        "id": "nwC5N1FsQxf7"
      },
      "outputs": [],
      "source": [
        "# Iteration16 :\n",
        "\n",
        "slice16 = 15\n",
        "\n",
        "approx16 = [simple_regret_approx_1[slice16],\n",
        "       simple_regret_approx_2[slice16],\n",
        "       simple_regret_approx_3[slice16],\n",
        "       simple_regret_approx_4[slice16],\n",
        "       simple_regret_approx_5[slice16],\n",
        "       simple_regret_approx_6[slice16],\n",
        "       simple_regret_approx_7[slice16],\n",
        "       simple_regret_approx_8[slice16],\n",
        "       simple_regret_approx_9[slice16],\n",
        "       simple_regret_approx_10[slice16],\n",
        "       simple_regret_approx_11[slice16],\n",
        "       simple_regret_approx_12[slice16],\n",
        "       simple_regret_approx_13[slice16],\n",
        "       simple_regret_approx_14[slice16],\n",
        "       simple_regret_approx_15[slice16],\n",
        "       simple_regret_approx_16[slice16],\n",
        "       simple_regret_approx_17[slice16],\n",
        "       simple_regret_approx_18[slice16],\n",
        "       simple_regret_approx_19[slice16],\n",
        "       simple_regret_approx_20[slice16]]\n",
        "\n",
        "exact16 = [simple_regret_exact_1[slice16],\n",
        "       simple_regret_exact_2[slice16],\n",
        "       simple_regret_exact_3[slice16],\n",
        "       simple_regret_exact_4[slice16],\n",
        "       simple_regret_exact_5[slice16],\n",
        "       simple_regret_exact_6[slice16],\n",
        "       simple_regret_exact_7[slice16],\n",
        "       simple_regret_exact_8[slice16],\n",
        "       simple_regret_exact_9[slice16],\n",
        "       simple_regret_exact_10[slice16],\n",
        "       simple_regret_exact_11[slice16],\n",
        "       simple_regret_exact_12[slice16],\n",
        "       simple_regret_exact_13[slice16],\n",
        "       simple_regret_exact_14[slice16],\n",
        "       simple_regret_exact_15[slice16],\n",
        "       simple_regret_exact_16[slice16],\n",
        "       simple_regret_exact_17[slice16],\n",
        "       simple_regret_exact_18[slice16],\n",
        "       simple_regret_exact_19[slice16],\n",
        "       simple_regret_exact_20[slice16]]\n",
        "\n",
        "approx16_results = pd.DataFrame(approx16).sort_values(by=[0], ascending=False)\n",
        "exact16_results = pd.DataFrame(exact16).sort_values(by=[0], ascending=False)\n",
        "\n",
        "### Best simple regret minimization IQR - approx:\n",
        "lower_approx16 = np.asarray(approx16_results[4:5][0])[0]\n",
        "median_approx16 = np.asarray(approx16_results[9:10][0])[0]\n",
        "upper_approx16 = np.asarray(approx16_results[14:15][0])[0]\n",
        "\n",
        "lower_exact16 = np.asarray(exact16_results[4:5][0])[0]\n",
        "median_exact16 = np.asarray(exact16_results[9:10][0])[0]\n",
        "upper_exact16 = np.asarray(exact16_results[14:15][0])[0]"
      ]
    },
    {
      "cell_type": "code",
      "execution_count": null,
      "metadata": {
        "id": "TrPV0AfnQxf7"
      },
      "outputs": [],
      "source": [
        "# Iteration7 :\n",
        "\n",
        "slice7 = 6\n",
        "\n",
        "approx7 = [simple_regret_approx_1[slice7],\n",
        "       simple_regret_approx_2[slice7],\n",
        "       simple_regret_approx_3[slice7],\n",
        "       simple_regret_approx_4[slice7],\n",
        "       simple_regret_approx_5[slice7],\n",
        "       simple_regret_approx_6[slice7],\n",
        "       simple_regret_approx_7[slice7],\n",
        "       simple_regret_approx_8[slice7],\n",
        "       simple_regret_approx_9[slice7],\n",
        "       simple_regret_approx_10[slice7],\n",
        "       simple_regret_approx_11[slice7],\n",
        "       simple_regret_approx_12[slice7],\n",
        "       simple_regret_approx_13[slice7],\n",
        "       simple_regret_approx_14[slice7],\n",
        "       simple_regret_approx_15[slice7],\n",
        "       simple_regret_approx_16[slice7],\n",
        "       simple_regret_approx_17[slice7],\n",
        "       simple_regret_approx_18[slice7],\n",
        "       simple_regret_approx_19[slice7],\n",
        "       simple_regret_approx_20[slice7]]\n",
        "\n",
        "exact7 = [simple_regret_exact_1[slice7],\n",
        "       simple_regret_exact_2[slice7],\n",
        "       simple_regret_exact_3[slice7],\n",
        "       simple_regret_exact_4[slice7],\n",
        "       simple_regret_exact_5[slice7],\n",
        "       simple_regret_exact_6[slice7],\n",
        "       simple_regret_exact_7[slice7],\n",
        "       simple_regret_exact_8[slice7],\n",
        "       simple_regret_exact_9[slice7],\n",
        "       simple_regret_exact_10[slice7],\n",
        "       simple_regret_exact_11[slice7],\n",
        "       simple_regret_exact_12[slice7],\n",
        "       simple_regret_exact_13[slice7],\n",
        "       simple_regret_exact_14[slice7],\n",
        "       simple_regret_exact_15[slice7],\n",
        "       simple_regret_exact_16[slice7],\n",
        "       simple_regret_exact_17[slice7],\n",
        "       simple_regret_exact_18[slice7],\n",
        "       simple_regret_exact_19[slice7],\n",
        "       simple_regret_exact_20[slice7]]\n",
        "\n",
        "approx7_results = pd.DataFrame(approx7).sort_values(by=[0], ascending=False)\n",
        "exact7_results = pd.DataFrame(exact7).sort_values(by=[0], ascending=False)\n",
        "\n",
        "### Best simple regret minimization IQR - approx:\n",
        "lower_approx7 = np.asarray(approx7_results[4:5][0])[0]\n",
        "median_approx7 = np.asarray(approx7_results[9:10][0])[0]\n",
        "upper_approx7 = np.asarray(approx7_results[14:15][0])[0]\n",
        "\n",
        "lower_exact7 = np.asarray(exact7_results[4:5][0])[0]\n",
        "median_exact7 = np.asarray(exact7_results[9:10][0])[0]\n",
        "upper_exact7 = np.asarray(exact7_results[14:15][0])[0]"
      ]
    },
    {
      "cell_type": "code",
      "execution_count": null,
      "metadata": {
        "id": "Ub_-wpK4Qxf8"
      },
      "outputs": [],
      "source": [
        "# Iteration17 :\n",
        "\n",
        "slice17 = 16\n",
        "\n",
        "approx17 = [simple_regret_approx_1[slice17],\n",
        "       simple_regret_approx_2[slice17],\n",
        "       simple_regret_approx_3[slice17],\n",
        "       simple_regret_approx_4[slice17],\n",
        "       simple_regret_approx_5[slice17],\n",
        "       simple_regret_approx_6[slice17],\n",
        "       simple_regret_approx_7[slice17],\n",
        "       simple_regret_approx_8[slice17],\n",
        "       simple_regret_approx_9[slice17],\n",
        "       simple_regret_approx_10[slice17],\n",
        "       simple_regret_approx_11[slice17],\n",
        "       simple_regret_approx_12[slice17],\n",
        "       simple_regret_approx_13[slice17],\n",
        "       simple_regret_approx_14[slice17],\n",
        "       simple_regret_approx_15[slice17],\n",
        "       simple_regret_approx_16[slice17],\n",
        "       simple_regret_approx_17[slice17],\n",
        "       simple_regret_approx_18[slice17],\n",
        "       simple_regret_approx_19[slice17],\n",
        "       simple_regret_approx_20[slice17]]\n",
        "\n",
        "exact17 = [simple_regret_exact_1[slice17],\n",
        "       simple_regret_exact_2[slice17],\n",
        "       simple_regret_exact_3[slice17],\n",
        "       simple_regret_exact_4[slice17],\n",
        "       simple_regret_exact_5[slice17],\n",
        "       simple_regret_exact_6[slice17],\n",
        "       simple_regret_exact_7[slice17],\n",
        "       simple_regret_exact_8[slice17],\n",
        "       simple_regret_exact_9[slice17],\n",
        "       simple_regret_exact_10[slice17],\n",
        "       simple_regret_exact_11[slice17],\n",
        "       simple_regret_exact_12[slice17],\n",
        "       simple_regret_exact_13[slice17],\n",
        "       simple_regret_exact_14[slice17],\n",
        "       simple_regret_exact_15[slice17],\n",
        "       simple_regret_exact_16[slice17],\n",
        "       simple_regret_exact_17[slice17],\n",
        "       simple_regret_exact_18[slice17],\n",
        "       simple_regret_exact_19[slice17],\n",
        "       simple_regret_exact_20[slice17]]\n",
        "\n",
        "approx17_results = pd.DataFrame(approx17).sort_values(by=[0], ascending=False)\n",
        "exact17_results = pd.DataFrame(exact17).sort_values(by=[0], ascending=False)\n",
        "\n",
        "### Best simple regret minimization IQR - approx:\n",
        "lower_approx17 = np.asarray(approx17_results[4:5][0])[0]\n",
        "median_approx17 = np.asarray(approx17_results[9:10][0])[0]\n",
        "upper_approx17 = np.asarray(approx17_results[14:15][0])[0]\n",
        "\n",
        "lower_exact17 = np.asarray(exact17_results[4:5][0])[0]\n",
        "median_exact17 = np.asarray(exact17_results[9:10][0])[0]\n",
        "upper_exact17 = np.asarray(exact17_results[14:15][0])[0]"
      ]
    },
    {
      "cell_type": "code",
      "execution_count": null,
      "metadata": {
        "id": "-6VLo37PQxf8"
      },
      "outputs": [],
      "source": [
        "# Iteration8 :\n",
        "\n",
        "slice8 = 7\n",
        "\n",
        "approx8 = [simple_regret_approx_1[slice8],\n",
        "       simple_regret_approx_2[slice8],\n",
        "       simple_regret_approx_3[slice8],\n",
        "       simple_regret_approx_4[slice8],\n",
        "       simple_regret_approx_5[slice8],\n",
        "       simple_regret_approx_6[slice8],\n",
        "       simple_regret_approx_7[slice8],\n",
        "       simple_regret_approx_8[slice8],\n",
        "       simple_regret_approx_9[slice8],\n",
        "       simple_regret_approx_10[slice8],\n",
        "       simple_regret_approx_11[slice8],\n",
        "       simple_regret_approx_12[slice8],\n",
        "       simple_regret_approx_13[slice8],\n",
        "       simple_regret_approx_14[slice8],\n",
        "       simple_regret_approx_15[slice8],\n",
        "       simple_regret_approx_16[slice8],\n",
        "       simple_regret_approx_17[slice8],\n",
        "       simple_regret_approx_18[slice8],\n",
        "       simple_regret_approx_19[slice8],\n",
        "       simple_regret_approx_20[slice8]]\n",
        "\n",
        "exact8 = [simple_regret_exact_1[slice8],\n",
        "       simple_regret_exact_2[slice8],\n",
        "       simple_regret_exact_3[slice8],\n",
        "       simple_regret_exact_4[slice8],\n",
        "       simple_regret_exact_5[slice8],\n",
        "       simple_regret_exact_6[slice8],\n",
        "       simple_regret_exact_7[slice8],\n",
        "       simple_regret_exact_8[slice8],\n",
        "       simple_regret_exact_9[slice8],\n",
        "       simple_regret_exact_10[slice8],\n",
        "       simple_regret_exact_11[slice8],\n",
        "       simple_regret_exact_12[slice8],\n",
        "       simple_regret_exact_13[slice8],\n",
        "       simple_regret_exact_14[slice8],\n",
        "       simple_regret_exact_15[slice8],\n",
        "       simple_regret_exact_16[slice8],\n",
        "       simple_regret_exact_17[slice8],\n",
        "       simple_regret_exact_18[slice8],\n",
        "       simple_regret_exact_19[slice8],\n",
        "       simple_regret_exact_20[slice8]]\n",
        "\n",
        "approx8_results = pd.DataFrame(approx8).sort_values(by=[0], ascending=False)\n",
        "exact8_results = pd.DataFrame(exact8).sort_values(by=[0], ascending=False)\n",
        "\n",
        "### Best simple regret minimization IQR - approx:\n",
        "lower_approx8 = np.asarray(approx8_results[4:5][0])[0]\n",
        "median_approx8 = np.asarray(approx8_results[9:10][0])[0]\n",
        "upper_approx8 = np.asarray(approx8_results[14:15][0])[0]\n",
        "\n",
        "lower_exact8 = np.asarray(exact8_results[4:5][0])[0]\n",
        "median_exact8 = np.asarray(exact8_results[9:10][0])[0]\n",
        "upper_exact8 = np.asarray(exact8_results[14:15][0])[0]"
      ]
    },
    {
      "cell_type": "code",
      "execution_count": null,
      "metadata": {
        "id": "2Dp-9CC2Qxf9"
      },
      "outputs": [],
      "source": [
        "# Iteration18 :\n",
        "\n",
        "slice18 = 17\n",
        "\n",
        "approx18 = [simple_regret_approx_1[slice18],\n",
        "       simple_regret_approx_2[slice18],\n",
        "       simple_regret_approx_3[slice18],\n",
        "       simple_regret_approx_4[slice18],\n",
        "       simple_regret_approx_5[slice18],\n",
        "       simple_regret_approx_6[slice18],\n",
        "       simple_regret_approx_7[slice18],\n",
        "       simple_regret_approx_8[slice18],\n",
        "       simple_regret_approx_9[slice18],\n",
        "       simple_regret_approx_10[slice18],\n",
        "       simple_regret_approx_11[slice18],\n",
        "       simple_regret_approx_12[slice18],\n",
        "       simple_regret_approx_13[slice18],\n",
        "       simple_regret_approx_14[slice18],\n",
        "       simple_regret_approx_15[slice18],\n",
        "       simple_regret_approx_16[slice18],\n",
        "       simple_regret_approx_17[slice18],\n",
        "       simple_regret_approx_18[slice18],\n",
        "       simple_regret_approx_19[slice18],\n",
        "       simple_regret_approx_20[slice18]]\n",
        "\n",
        "exact18 = [simple_regret_exact_1[slice18],\n",
        "       simple_regret_exact_2[slice18],\n",
        "       simple_regret_exact_3[slice18],\n",
        "       simple_regret_exact_4[slice18],\n",
        "       simple_regret_exact_5[slice18],\n",
        "       simple_regret_exact_6[slice18],\n",
        "       simple_regret_exact_7[slice18],\n",
        "       simple_regret_exact_8[slice18],\n",
        "       simple_regret_exact_9[slice18],\n",
        "       simple_regret_exact_10[slice18],\n",
        "       simple_regret_exact_11[slice18],\n",
        "       simple_regret_exact_12[slice18],\n",
        "       simple_regret_exact_13[slice18],\n",
        "       simple_regret_exact_14[slice18],\n",
        "       simple_regret_exact_15[slice18],\n",
        "       simple_regret_exact_16[slice18],\n",
        "       simple_regret_exact_17[slice18],\n",
        "       simple_regret_exact_18[slice18],\n",
        "       simple_regret_exact_19[slice18],\n",
        "       simple_regret_exact_20[slice18]]\n",
        "\n",
        "approx18_results = pd.DataFrame(approx18).sort_values(by=[0], ascending=False)\n",
        "exact18_results = pd.DataFrame(exact18).sort_values(by=[0], ascending=False)\n",
        "\n",
        "### Best simple regret minimization IQR - approx:\n",
        "lower_approx18 = np.asarray(approx18_results[4:5][0])[0]\n",
        "median_approx18 = np.asarray(approx18_results[9:10][0])[0]\n",
        "upper_approx18 = np.asarray(approx18_results[14:15][0])[0]\n",
        "\n",
        "lower_exact18 = np.asarray(exact18_results[4:5][0])[0]\n",
        "median_exact18 = np.asarray(exact18_results[9:10][0])[0]\n",
        "upper_exact18 = np.asarray(exact18_results[14:15][0])[0]"
      ]
    },
    {
      "cell_type": "code",
      "execution_count": null,
      "metadata": {
        "id": "SqiaOpB7Qxf9"
      },
      "outputs": [],
      "source": [
        "# Iteration9 :\n",
        "\n",
        "slice9 = 8\n",
        "\n",
        "approx9 = [simple_regret_approx_1[slice9],\n",
        "       simple_regret_approx_2[slice9],\n",
        "       simple_regret_approx_3[slice9],\n",
        "       simple_regret_approx_4[slice9],\n",
        "       simple_regret_approx_5[slice9],\n",
        "       simple_regret_approx_6[slice9],\n",
        "       simple_regret_approx_7[slice9],\n",
        "       simple_regret_approx_8[slice9],\n",
        "       simple_regret_approx_9[slice9],\n",
        "       simple_regret_approx_10[slice9],\n",
        "       simple_regret_approx_11[slice9],\n",
        "       simple_regret_approx_12[slice9],\n",
        "       simple_regret_approx_13[slice9],\n",
        "       simple_regret_approx_14[slice9],\n",
        "       simple_regret_approx_15[slice9],\n",
        "       simple_regret_approx_16[slice9],\n",
        "       simple_regret_approx_17[slice9],\n",
        "       simple_regret_approx_18[slice9],\n",
        "       simple_regret_approx_19[slice9],\n",
        "       simple_regret_approx_20[slice9]]\n",
        "\n",
        "exact9 = [simple_regret_exact_1[slice9],\n",
        "       simple_regret_exact_2[slice9],\n",
        "       simple_regret_exact_3[slice9],\n",
        "       simple_regret_exact_4[slice9],\n",
        "       simple_regret_exact_5[slice9],\n",
        "       simple_regret_exact_6[slice9],\n",
        "       simple_regret_exact_7[slice9],\n",
        "       simple_regret_exact_8[slice9],\n",
        "       simple_regret_exact_9[slice9],\n",
        "       simple_regret_exact_10[slice9],\n",
        "       simple_regret_exact_11[slice9],\n",
        "       simple_regret_exact_12[slice9],\n",
        "       simple_regret_exact_13[slice9],\n",
        "       simple_regret_exact_14[slice9],\n",
        "       simple_regret_exact_15[slice9],\n",
        "       simple_regret_exact_16[slice9],\n",
        "       simple_regret_exact_17[slice9],\n",
        "       simple_regret_exact_18[slice9],\n",
        "       simple_regret_exact_19[slice9],\n",
        "       simple_regret_exact_20[slice9]]\n",
        "\n",
        "approx9_results = pd.DataFrame(approx9).sort_values(by=[0], ascending=False)\n",
        "exact9_results = pd.DataFrame(exact9).sort_values(by=[0], ascending=False)\n",
        "\n",
        "### Best simple regret minimization IQR - approx:\n",
        "lower_approx9 = np.asarray(approx9_results[4:5][0])[0]\n",
        "median_approx9 = np.asarray(approx9_results[9:10][0])[0]\n",
        "upper_approx9 = np.asarray(approx9_results[14:15][0])[0]\n",
        "\n",
        "lower_exact9 = np.asarray(exact9_results[4:5][0])[0]\n",
        "median_exact9 = np.asarray(exact9_results[9:10][0])[0]\n",
        "upper_exact9 = np.asarray(exact9_results[14:15][0])[0]"
      ]
    },
    {
      "cell_type": "code",
      "execution_count": null,
      "metadata": {
        "id": "OQkCCOsPQxf9"
      },
      "outputs": [],
      "source": [
        "# Iteration19 :\n",
        "\n",
        "slice19 = 18\n",
        "\n",
        "approx19 = [simple_regret_approx_1[slice19],\n",
        "       simple_regret_approx_2[slice19],\n",
        "       simple_regret_approx_3[slice19],\n",
        "       simple_regret_approx_4[slice19],\n",
        "       simple_regret_approx_5[slice19],\n",
        "       simple_regret_approx_6[slice19],\n",
        "       simple_regret_approx_7[slice19],\n",
        "       simple_regret_approx_8[slice19],\n",
        "       simple_regret_approx_9[slice19],\n",
        "       simple_regret_approx_10[slice19],\n",
        "       simple_regret_approx_11[slice19],\n",
        "       simple_regret_approx_12[slice19],\n",
        "       simple_regret_approx_13[slice19],\n",
        "       simple_regret_approx_14[slice19],\n",
        "       simple_regret_approx_15[slice19],\n",
        "       simple_regret_approx_16[slice19],\n",
        "       simple_regret_approx_17[slice19],\n",
        "       simple_regret_approx_18[slice19],\n",
        "       simple_regret_approx_19[slice19],\n",
        "       simple_regret_approx_20[slice19]]\n",
        "\n",
        "exact19 = [simple_regret_exact_1[slice19],\n",
        "       simple_regret_exact_2[slice19],\n",
        "       simple_regret_exact_3[slice19],\n",
        "       simple_regret_exact_4[slice19],\n",
        "       simple_regret_exact_5[slice19],\n",
        "       simple_regret_exact_6[slice19],\n",
        "       simple_regret_exact_7[slice19],\n",
        "       simple_regret_exact_8[slice19],\n",
        "       simple_regret_exact_9[slice19],\n",
        "       simple_regret_exact_10[slice19],\n",
        "       simple_regret_exact_11[slice19],\n",
        "       simple_regret_exact_12[slice19],\n",
        "       simple_regret_exact_13[slice19],\n",
        "       simple_regret_exact_14[slice19],\n",
        "       simple_regret_exact_15[slice19],\n",
        "       simple_regret_exact_16[slice19],\n",
        "       simple_regret_exact_17[slice19],\n",
        "       simple_regret_exact_18[slice19],\n",
        "       simple_regret_exact_19[slice19],\n",
        "       simple_regret_exact_20[slice19]]\n",
        "\n",
        "approx19_results = pd.DataFrame(approx19).sort_values(by=[0], ascending=False)\n",
        "exact19_results = pd.DataFrame(exact19).sort_values(by=[0], ascending=False)\n",
        "\n",
        "### Best simple regret minimization IQR - approx:\n",
        "lower_approx19 = np.asarray(approx19_results[4:5][0])[0]\n",
        "median_approx19 = np.asarray(approx19_results[9:10][0])[0]\n",
        "upper_approx19 = np.asarray(approx19_results[14:15][0])[0]\n",
        "\n",
        "lower_exact19 = np.asarray(exact19_results[4:5][0])[0]\n",
        "median_exact19 = np.asarray(exact19_results[9:10][0])[0]\n",
        "upper_exact19 = np.asarray(exact19_results[14:15][0])[0]"
      ]
    },
    {
      "cell_type": "code",
      "execution_count": null,
      "metadata": {
        "id": "h4vtWahcQxf-"
      },
      "outputs": [],
      "source": [
        "# Iteration10 :\n",
        "\n",
        "slice10 = 9\n",
        "\n",
        "approx10 = [simple_regret_approx_1[slice10],\n",
        "       simple_regret_approx_2[slice10],\n",
        "       simple_regret_approx_3[slice10],\n",
        "       simple_regret_approx_4[slice10],\n",
        "       simple_regret_approx_5[slice10],\n",
        "       simple_regret_approx_6[slice10],\n",
        "       simple_regret_approx_7[slice10],\n",
        "       simple_regret_approx_8[slice10],\n",
        "       simple_regret_approx_9[slice10],\n",
        "       simple_regret_approx_10[slice10],\n",
        "       simple_regret_approx_11[slice10],\n",
        "       simple_regret_approx_12[slice10],\n",
        "       simple_regret_approx_13[slice10],\n",
        "       simple_regret_approx_14[slice10],\n",
        "       simple_regret_approx_15[slice10],\n",
        "       simple_regret_approx_16[slice10],\n",
        "       simple_regret_approx_17[slice10],\n",
        "       simple_regret_approx_18[slice10],\n",
        "       simple_regret_approx_19[slice10],\n",
        "       simple_regret_approx_20[slice10]]\n",
        "\n",
        "exact10 = [simple_regret_exact_1[slice10],\n",
        "       simple_regret_exact_2[slice10],\n",
        "       simple_regret_exact_3[slice10],\n",
        "       simple_regret_exact_4[slice10],\n",
        "       simple_regret_exact_5[slice10],\n",
        "       simple_regret_exact_6[slice10],\n",
        "       simple_regret_exact_7[slice10],\n",
        "       simple_regret_exact_8[slice10],\n",
        "       simple_regret_exact_9[slice10],\n",
        "       simple_regret_exact_10[slice10],\n",
        "       simple_regret_exact_11[slice10],\n",
        "       simple_regret_exact_12[slice10],\n",
        "       simple_regret_exact_13[slice10],\n",
        "       simple_regret_exact_14[slice10],\n",
        "       simple_regret_exact_15[slice10],\n",
        "       simple_regret_exact_16[slice10],\n",
        "       simple_regret_exact_17[slice10],\n",
        "       simple_regret_exact_18[slice10],\n",
        "       simple_regret_exact_19[slice10],\n",
        "       simple_regret_exact_20[slice10]]\n",
        "\n",
        "approx10_results = pd.DataFrame(approx10).sort_values(by=[0], ascending=False)\n",
        "exact10_results = pd.DataFrame(exact10).sort_values(by=[0], ascending=False)\n",
        "\n",
        "### Best simple regret minimization IQR - approx:\n",
        "lower_approx10 = np.asarray(approx10_results[4:5][0])[0]\n",
        "median_approx10 = np.asarray(approx10_results[9:10][0])[0]\n",
        "upper_approx10 = np.asarray(approx10_results[14:15][0])[0]\n",
        "\n",
        "lower_exact10 = np.asarray(exact10_results[4:5][0])[0]\n",
        "median_exact10 = np.asarray(exact10_results[9:10][0])[0]\n",
        "upper_exact10 = np.asarray(exact10_results[14:15][0])[0]"
      ]
    },
    {
      "cell_type": "code",
      "execution_count": null,
      "metadata": {
        "id": "Rsf240pWQxf-"
      },
      "outputs": [],
      "source": [
        "# Iteration20 :\n",
        "\n",
        "slice20 = 19\n",
        "\n",
        "approx20 = [simple_regret_approx_1[slice20],\n",
        "       simple_regret_approx_2[slice20],\n",
        "       simple_regret_approx_3[slice20],\n",
        "       simple_regret_approx_4[slice20],\n",
        "       simple_regret_approx_5[slice20],\n",
        "       simple_regret_approx_6[slice20],\n",
        "       simple_regret_approx_7[slice20],\n",
        "       simple_regret_approx_8[slice20],\n",
        "       simple_regret_approx_9[slice20],\n",
        "       simple_regret_approx_10[slice20],\n",
        "       simple_regret_approx_11[slice20],\n",
        "       simple_regret_approx_12[slice20],\n",
        "       simple_regret_approx_13[slice20],\n",
        "       simple_regret_approx_14[slice20],\n",
        "       simple_regret_approx_15[slice20],\n",
        "       simple_regret_approx_16[slice20],\n",
        "       simple_regret_approx_17[slice20],\n",
        "       simple_regret_approx_18[slice20],\n",
        "       simple_regret_approx_19[slice20],\n",
        "       simple_regret_approx_20[slice20]]\n",
        "\n",
        "exact20 = [simple_regret_exact_1[slice20],\n",
        "       simple_regret_exact_2[slice20],\n",
        "       simple_regret_exact_3[slice20],\n",
        "       simple_regret_exact_4[slice20],\n",
        "       simple_regret_exact_5[slice20],\n",
        "       simple_regret_exact_6[slice20],\n",
        "       simple_regret_exact_7[slice20],\n",
        "       simple_regret_exact_8[slice20],\n",
        "       simple_regret_exact_9[slice20],\n",
        "       simple_regret_exact_10[slice20],\n",
        "       simple_regret_exact_11[slice20],\n",
        "       simple_regret_exact_12[slice20],\n",
        "       simple_regret_exact_13[slice20],\n",
        "       simple_regret_exact_14[slice20],\n",
        "       simple_regret_exact_15[slice20],\n",
        "       simple_regret_exact_16[slice20],\n",
        "       simple_regret_exact_17[slice20],\n",
        "       simple_regret_exact_18[slice20],\n",
        "       simple_regret_exact_19[slice20],\n",
        "       simple_regret_exact_20[slice20]]\n",
        "\n",
        "approx20_results = pd.DataFrame(approx20).sort_values(by=[0], ascending=False)\n",
        "exact20_results = pd.DataFrame(exact20).sort_values(by=[0], ascending=False)\n",
        "\n",
        "### Best simple regret minimization IQR - approx:\n",
        "lower_approx20 = np.asarray(approx20_results[4:5][0])[0]\n",
        "median_approx20 = np.asarray(approx20_results[9:10][0])[0]\n",
        "upper_approx20 = np.asarray(approx20_results[14:15][0])[0]\n",
        "\n",
        "lower_exact20 = np.asarray(exact20_results[4:5][0])[0]\n",
        "median_exact20 = np.asarray(exact20_results[9:10][0])[0]\n",
        "upper_exact20 = np.asarray(exact20_results[14:15][0])[0]"
      ]
    },
    {
      "cell_type": "code",
      "execution_count": null,
      "metadata": {
        "id": "gn36RejbQxf_"
      },
      "outputs": [],
      "source": [
        "### Summarize arrays: 'Loser'\n",
        "\n",
        "lower_approx = [lower_approx1,\n",
        "            lower_approx2,\n",
        "            lower_approx3,\n",
        "            lower_approx4,\n",
        "            lower_approx5,\n",
        "            lower_approx6,\n",
        "            lower_approx7,\n",
        "            lower_approx8,\n",
        "            lower_approx9,\n",
        "            lower_approx10,\n",
        "            lower_approx11,\n",
        "            lower_approx12,\n",
        "            lower_approx13,\n",
        "            lower_approx14,\n",
        "            lower_approx15,\n",
        "            lower_approx16,\n",
        "            lower_approx17,\n",
        "            lower_approx18,\n",
        "            lower_approx19,\n",
        "            lower_approx20,\n",
        "            lower_approx21]\n",
        "\n",
        "median_approx = [median_approx1,\n",
        "            median_approx2,\n",
        "            median_approx3,\n",
        "            median_approx4,\n",
        "            median_approx5,\n",
        "            median_approx6,\n",
        "            median_approx7,\n",
        "            median_approx8,\n",
        "            median_approx9,\n",
        "            median_approx10,\n",
        "            median_approx11,\n",
        "            median_approx12,\n",
        "            median_approx13,\n",
        "            median_approx14,\n",
        "            median_approx15,\n",
        "            median_approx16,\n",
        "            median_approx17,\n",
        "            median_approx18,\n",
        "            median_approx19,\n",
        "            median_approx20,\n",
        "            median_approx21]\n",
        "\n",
        "upper_approx = [upper_approx1,\n",
        "            upper_approx2,\n",
        "            upper_approx3,\n",
        "            upper_approx4,\n",
        "            upper_approx5,\n",
        "            upper_approx6,\n",
        "            upper_approx7,\n",
        "            upper_approx8,\n",
        "            upper_approx9,\n",
        "            upper_approx10,\n",
        "            upper_approx11,\n",
        "            upper_approx12,\n",
        "            upper_approx13,\n",
        "            upper_approx14,\n",
        "            upper_approx15,\n",
        "            upper_approx16,\n",
        "            upper_approx17,\n",
        "            upper_approx18,\n",
        "            upper_approx19,\n",
        "            upper_approx20,\n",
        "            upper_approx21]"
      ]
    },
    {
      "cell_type": "code",
      "execution_count": null,
      "metadata": {
        "id": "wxtGTOYfQxf_"
      },
      "outputs": [],
      "source": [
        "### Summarize arrays: 'exact'\n",
        "\n",
        "lower_exact = [lower_exact1,\n",
        "            lower_exact2,\n",
        "            lower_exact3,\n",
        "            lower_exact4,\n",
        "            lower_exact5,\n",
        "            lower_exact6,\n",
        "            lower_exact7,\n",
        "            lower_exact8,\n",
        "            lower_exact9,\n",
        "            lower_exact10,\n",
        "            lower_exact11,\n",
        "            lower_exact12,\n",
        "            lower_exact13,\n",
        "            lower_exact14,\n",
        "            lower_exact15,\n",
        "            lower_exact16,\n",
        "            lower_exact17,\n",
        "            lower_exact18,\n",
        "            lower_exact19,\n",
        "            lower_exact20,\n",
        "            lower_exact21]\n",
        "\n",
        "median_exact = [median_exact1,\n",
        "            median_exact2,\n",
        "            median_exact3,\n",
        "            median_exact4,\n",
        "            median_exact5,\n",
        "            median_exact6,\n",
        "            median_exact7,\n",
        "            median_exact8,\n",
        "            median_exact9,\n",
        "            median_exact10,\n",
        "            median_exact11,\n",
        "            median_exact12,\n",
        "            median_exact13,\n",
        "            median_exact14,\n",
        "            median_exact15,\n",
        "            median_exact16,\n",
        "            median_exact17,\n",
        "            median_exact18,\n",
        "            median_exact19,\n",
        "            median_exact20,\n",
        "            median_exact21]\n",
        "\n",
        "upper_exact = [upper_exact1,\n",
        "            upper_exact2,\n",
        "            upper_exact3,\n",
        "            upper_exact4,\n",
        "            upper_exact5,\n",
        "            upper_exact6,\n",
        "            upper_exact7,\n",
        "            upper_exact8,\n",
        "            upper_exact9,\n",
        "            upper_exact10,\n",
        "            upper_exact11,\n",
        "            upper_exact12,\n",
        "            upper_exact13,\n",
        "            upper_exact14,\n",
        "            upper_exact15,\n",
        "            upper_exact16,\n",
        "            upper_exact17,\n",
        "            upper_exact18,\n",
        "            upper_exact19,\n",
        "            upper_exact20,\n",
        "            upper_exact21]"
      ]
    },
    {
      "cell_type": "code",
      "execution_count": 122,
      "metadata": {
        "id": "2MONq-BXQxgA",
        "colab": {
          "base_uri": "https://localhost:8080/",
          "height": 299
        },
        "outputId": "d03ce0aa-e612-489e-c712-0b578a368504"
      },
      "outputs": [
        {
          "output_type": "display_data",
          "data": {
            "text/plain": [
              "<Figure size 432x288 with 1 Axes>"
            ],
            "image/png": "[encoded data removed]"
          },
          "metadata": {
            "needs_background": "light"
          }
        }
      ],
      "source": [
        "### Visualise!\n",
        "\n",
        "title = func\n",
        "plt.figure()\n",
        "\n",
        "plt.plot(median_approx, color = 'Purple', ls='--')\n",
        "plt.plot(median_exact, color = 'Orange', ls='--')\n",
        "\n",
        "xstar = np.arange(0, iters+1, step=1)\n",
        "plt.fill_between(xstar, lower_approx, upper_approx, facecolor = 'Purple', alpha=0.4, label='STP CBM Optimisation: Approx STP CBM gradients ' r'($\\nu$' ' = {})'.format(df))\n",
        "plt.fill_between(xstar, lower_exact, upper_exact, facecolor = 'Orange', alpha=0.4, label='STP CBM Optimisation: Exact STP dCBM gradients ' r'($\\nu$' ' = {})'.format(df))\n",
        "\n",
        "plt.title(title, weight = 'bold')\n",
        "plt.xlabel('(Post-initialisation) iteration $\\it{k}$', weight = 'bold')\n",
        "plt.ylabel('log(Regret)', weight = 'bold') \n",
        "plt.legend(loc=1) # add plot legend\n",
        "\n",
        "### Make the x-ticks integers, not floats:\n",
        "count = len(xstar)\n",
        "plt.xticks(np.arange(count), np.arange(0, count))\n",
        "plt.show() #visualize!"
      ]
    },
    {
      "cell_type": "code",
      "execution_count": null,
      "metadata": {
        "id": "l5dkR2Id2oiu",
        "colab": {
          "base_uri": "https://localhost:8080/"
        },
        "outputId": "8c4a9bbb-2b0e-402b-c772-840cba624e73"
      },
      "outputs": [
        {
          "output_type": "execute_result",
          "data": {
            "text/plain": [
              "(594.9852087497711, 997.1584377288818)"
            ]
          },
          "metadata": {},
          "execution_count": 99
        }
      ],
      "source": [
        "time_approx, time_exact\n"
      ]
    },
    {
      "cell_type": "code",
      "execution_count": null,
      "metadata": {
        "id": "uwxv4dmfGsLr",
        "colab": {
          "base_uri": "https://localhost:8080/"
        },
        "outputId": "26fc4e7b-2b28-4d56-cdfd-600cc4aa259b"
      },
      "outputs": [
        {
          "output_type": "execute_result",
          "data": {
            "text/plain": [
              "(3.1047501528528674, 3.4609317272266416)"
            ]
          },
          "metadata": {},
          "execution_count": 100
        }
      ],
      "source": [
        "### acqFunc attribute x, stddev: run number = 1\n",
        "\n",
        "acqFuncApprox_exact_1 = acqFuncApprox(exact_1.history)\n",
        "acqFuncExact_exact_1 = acqFuncExact(exact_1.history)\n",
        "\n",
        "e1 = np.mean(acqFuncExact_exact_1)\n",
        "a1 = np.mean(acqFuncApprox_exact_1)\n",
        "\n",
        "e1, a1\n"
      ]
    },
    {
      "cell_type": "code",
      "execution_count": null,
      "metadata": {
        "id": "0YSV00_pGsXe",
        "colab": {
          "base_uri": "https://localhost:8080/"
        },
        "outputId": "132265f0-bf9e-4b0f-ffc6-0d2b10c519d8"
      },
      "outputs": [
        {
          "output_type": "execute_result",
          "data": {
            "text/plain": [
              "(3.003357874564659, 3.383088528228602)"
            ]
          },
          "metadata": {},
          "execution_count": 101
        }
      ],
      "source": [
        "### acqFunc attribute x, stddev: run number = 2\n",
        "\n",
        "acqFuncApprox_exact_2 = acqFuncApprox(exact_2.history)\n",
        "acqFuncExact_exact_2 = acqFuncExact(exact_2.history)\n",
        "\n",
        "e2 = np.mean(acqFuncExact_exact_2)\n",
        "a2 = np.mean(acqFuncApprox_exact_2)\n",
        "\n",
        "e2, a2\n"
      ]
    },
    {
      "cell_type": "code",
      "execution_count": null,
      "metadata": {
        "id": "HHVmsd2UGsjT",
        "colab": {
          "base_uri": "https://localhost:8080/"
        },
        "outputId": "858d1806-d72d-443b-e732-9159dc06f02d"
      },
      "outputs": [
        {
          "output_type": "execute_result",
          "data": {
            "text/plain": [
              "(2.973818183523639, 3.2402665064951583)"
            ]
          },
          "metadata": {},
          "execution_count": 102
        }
      ],
      "source": [
        "### acqFunc attribute x, stddev: run number = 3\n",
        "\n",
        "acqFuncApprox_exact_3 = acqFuncApprox(exact_3.history)\n",
        "acqFuncExact_exact_3 = acqFuncExact(exact_3.history)\n",
        "\n",
        "e3 = np.mean(acqFuncExact_exact_3)\n",
        "a3 = np.mean(acqFuncApprox_exact_3)\n",
        "\n",
        "e3, a3\n"
      ]
    },
    {
      "cell_type": "code",
      "execution_count": null,
      "metadata": {
        "id": "r7O19S2eGsu7",
        "colab": {
          "base_uri": "https://localhost:8080/"
        },
        "outputId": "21f4799d-1a57-48c8-fbd8-3e1b5585fb3d"
      },
      "outputs": [
        {
          "output_type": "execute_result",
          "data": {
            "text/plain": [
              "(2.979805011520293, 3.286191964223356)"
            ]
          },
          "metadata": {},
          "execution_count": 103
        }
      ],
      "source": [
        "### acqFunc attribute x, stddev: run number = 4\n",
        "\n",
        "acqFuncApprox_exact_4 = acqFuncApprox(exact_4.history)\n",
        "acqFuncExact_exact_4 = acqFuncExact(exact_4.history)\n",
        "\n",
        "e4 = np.mean(acqFuncExact_exact_4)\n",
        "a4 = np.mean(acqFuncApprox_exact_4)\n",
        "\n",
        "e4, a4\n"
      ]
    },
    {
      "cell_type": "code",
      "execution_count": null,
      "metadata": {
        "id": "sdb9o6NuGs5m",
        "colab": {
          "base_uri": "https://localhost:8080/"
        },
        "outputId": "2cd13297-1b0e-4af6-878b-4652050bfdcf"
      },
      "outputs": [
        {
          "output_type": "execute_result",
          "data": {
            "text/plain": [
              "(2.9518404465494803, 3.2513602835413287)"
            ]
          },
          "metadata": {},
          "execution_count": 104
        }
      ],
      "source": [
        "### acqFunc attribute x, stddev: run number = 5\n",
        "\n",
        "acqFuncApprox_exact_5 = acqFuncApprox(exact_5.history)\n",
        "acqFuncExact_exact_5 = acqFuncExact(exact_5.history)\n",
        "\n",
        "e5 = np.mean(acqFuncExact_exact_5)\n",
        "a5 = np.mean(acqFuncApprox_exact_5)\n",
        "\n",
        "e5, a5\n"
      ]
    },
    {
      "cell_type": "code",
      "execution_count": null,
      "metadata": {
        "id": "COQl7LZ8GtE0",
        "colab": {
          "base_uri": "https://localhost:8080/"
        },
        "outputId": "88affa8e-a5e4-4308-bf61-caecfa29ef3e"
      },
      "outputs": [
        {
          "output_type": "execute_result",
          "data": {
            "text/plain": [
              "(2.906901140801522, 3.482123570881297)"
            ]
          },
          "metadata": {},
          "execution_count": 105
        }
      ],
      "source": [
        "### acqFunc attribute x, stddev: run number = 6\n",
        "\n",
        "acqFuncApprox_exact_6 = acqFuncApprox(exact_6.history)\n",
        "acqFuncExact_exact_6 = acqFuncExact(exact_6.history)\n",
        "\n",
        "e6 = np.mean(acqFuncExact_exact_6)\n",
        "a6 = np.mean(acqFuncApprox_exact_6)\n",
        "\n",
        "e6, a6\n"
      ]
    },
    {
      "cell_type": "code",
      "execution_count": null,
      "metadata": {
        "id": "2gy9EtTzGtP7",
        "colab": {
          "base_uri": "https://localhost:8080/"
        },
        "outputId": "f2891d55-99d6-470f-a1ed-b0bcc87947a8"
      },
      "outputs": [
        {
          "output_type": "execute_result",
          "data": {
            "text/plain": [
              "(3.113672888183322, 3.3809988313651522)"
            ]
          },
          "metadata": {},
          "execution_count": 106
        }
      ],
      "source": [
        "### acqFunc attribute x, stddev: run number = 7\n",
        "\n",
        "acqFuncApprox_exact_7 = acqFuncApprox(exact_7.history)\n",
        "acqFuncExact_exact_7 = acqFuncExact(exact_7.history)\n",
        "\n",
        "e7 = np.mean(acqFuncExact_exact_7)\n",
        "a7 = np.mean(acqFuncApprox_exact_7)\n",
        "\n",
        "e7, a7\n"
      ]
    },
    {
      "cell_type": "code",
      "execution_count": null,
      "metadata": {
        "id": "S7mn0qoMGtbM",
        "colab": {
          "base_uri": "https://localhost:8080/"
        },
        "outputId": "094c2662-0292-49cc-e851-8547120f5cf9"
      },
      "outputs": [
        {
          "output_type": "execute_result",
          "data": {
            "text/plain": [
              "(3.143716710241721, 3.335036692096722)"
            ]
          },
          "metadata": {},
          "execution_count": 107
        }
      ],
      "source": [
        "### acqFunc attribute x, stddev: run number = 8\n",
        "\n",
        "acqFuncApprox_exact_8 = acqFuncApprox(exact_8.history)\n",
        "acqFuncExact_exact_8 = acqFuncExact(exact_8.history)\n",
        "\n",
        "e8 = np.mean(acqFuncExact_exact_8)\n",
        "a8 = np.mean(acqFuncApprox_exact_8)\n",
        "\n",
        "e8, a8\n"
      ]
    },
    {
      "cell_type": "code",
      "execution_count": null,
      "metadata": {
        "id": "BhljmkNxGtms",
        "colab": {
          "base_uri": "https://localhost:8080/"
        },
        "outputId": "22450fa8-6627-4eee-de04-0c98f1a64873"
      },
      "outputs": [
        {
          "output_type": "execute_result",
          "data": {
            "text/plain": [
              "(3.1355720803831124, 3.6497459246451447)"
            ]
          },
          "metadata": {},
          "execution_count": 108
        }
      ],
      "source": [
        "### acqFunc attribute x, stddev: run number = 9\n",
        "\n",
        "acqFuncApprox_exact_9 = acqFuncApprox(exact_9.history)\n",
        "acqFuncExact_exact_9 = acqFuncExact(exact_9.history)\n",
        "\n",
        "e9 = np.mean(acqFuncExact_exact_9)\n",
        "a9 = np.mean(acqFuncApprox_exact_9)\n",
        "\n",
        "e9, a9\n"
      ]
    },
    {
      "cell_type": "code",
      "execution_count": null,
      "metadata": {
        "id": "W5GZo6k3Gtx8",
        "colab": {
          "base_uri": "https://localhost:8080/"
        },
        "outputId": "a9810950-93be-4734-94e8-c89d98081c2f"
      },
      "outputs": [
        {
          "output_type": "execute_result",
          "data": {
            "text/plain": [
              "(3.174828066572662, 3.7604030719764765)"
            ]
          },
          "metadata": {},
          "execution_count": 109
        }
      ],
      "source": [
        "### acqFunc attribute x, stddev: run number = 10\n",
        "\n",
        "acqFuncApprox_exact_10 = acqFuncApprox(exact_10.history)\n",
        "acqFuncExact_exact_10 = acqFuncExact(exact_10.history)\n",
        "\n",
        "e10 = np.mean(acqFuncExact_exact_10)\n",
        "a10 = np.mean(acqFuncApprox_exact_10)\n",
        "\n",
        "e10, a10\n"
      ]
    },
    {
      "cell_type": "code",
      "execution_count": null,
      "metadata": {
        "id": "isKNhDk5Gt9D",
        "colab": {
          "base_uri": "https://localhost:8080/"
        },
        "outputId": "cb6cb992-68f5-4076-d1ff-6b18c862b99a"
      },
      "outputs": [
        {
          "output_type": "execute_result",
          "data": {
            "text/plain": [
              "(3.244026518491458, 3.7431595027332385)"
            ]
          },
          "metadata": {},
          "execution_count": 110
        }
      ],
      "source": [
        "### acqFunc attribute x, stddev: run number = 11\n",
        "\n",
        "acqFuncApprox_exact_11 = acqFuncApprox(exact_11.history)\n",
        "acqFuncExact_exact_11 = acqFuncExact(exact_11.history)\n",
        "\n",
        "e11 = np.mean(acqFuncExact_exact_11)\n",
        "a11 = np.mean(acqFuncApprox_exact_11)\n",
        "\n",
        "e11, a11\n"
      ]
    },
    {
      "cell_type": "code",
      "execution_count": null,
      "metadata": {
        "id": "8ts-wrSuGuIm",
        "colab": {
          "base_uri": "https://localhost:8080/"
        },
        "outputId": "b084d4aa-cf9d-4ed2-c80e-9adaf04a4e1a"
      },
      "outputs": [
        {
          "output_type": "execute_result",
          "data": {
            "text/plain": [
              "(2.8738608081631023, 3.0481356045143997)"
            ]
          },
          "metadata": {},
          "execution_count": 111
        }
      ],
      "source": [
        "### acqFunc attribute x, stddev: run number = 12\n",
        "\n",
        "acqFuncApprox_exact_12 = acqFuncApprox(exact_12.history)\n",
        "acqFuncExact_exact_12 = acqFuncExact(exact_12.history)\n",
        "\n",
        "e12 = np.mean(acqFuncExact_exact_12)\n",
        "a12 = np.mean(acqFuncApprox_exact_12)\n",
        "\n",
        "e12, a12\n"
      ]
    },
    {
      "cell_type": "code",
      "execution_count": null,
      "metadata": {
        "id": "n0drhEe3GuUL",
        "colab": {
          "base_uri": "https://localhost:8080/"
        },
        "outputId": "5cf3c7aa-97da-414c-ae96-afe52fb067b6"
      },
      "outputs": [
        {
          "output_type": "execute_result",
          "data": {
            "text/plain": [
              "(2.9728799136252633, 3.6055878794956384)"
            ]
          },
          "metadata": {},
          "execution_count": 112
        }
      ],
      "source": [
        "### acqFunc attribute x, stddev: run number = 13\n",
        "\n",
        "acqFuncApprox_exact_13 = acqFuncApprox(exact_13.history)\n",
        "acqFuncExact_exact_13 = acqFuncExact(exact_13.history)\n",
        "\n",
        "e13 = np.mean(acqFuncExact_exact_13)\n",
        "a13 = np.mean(acqFuncApprox_exact_13)\n",
        "\n",
        "e13, a13\n"
      ]
    },
    {
      "cell_type": "code",
      "execution_count": null,
      "metadata": {
        "id": "R0W3MZaVGues",
        "colab": {
          "base_uri": "https://localhost:8080/"
        },
        "outputId": "02f54b0a-2105-495b-fa27-3240ee597ab6"
      },
      "outputs": [
        {
          "output_type": "execute_result",
          "data": {
            "text/plain": [
              "(2.897600144904689, 3.322061052070815)"
            ]
          },
          "metadata": {},
          "execution_count": 113
        }
      ],
      "source": [
        "### acqFunc attribute x, stddev: run number = 14\n",
        "\n",
        "acqFuncApprox_exact_14 = acqFuncApprox(exact_14.history)\n",
        "acqFuncExact_exact_14 = acqFuncExact(exact_14.history)\n",
        "\n",
        "e14 = np.mean(acqFuncExact_exact_14)\n",
        "a14 = np.mean(acqFuncApprox_exact_14)\n",
        "\n",
        "e14, a14\n"
      ]
    },
    {
      "cell_type": "code",
      "execution_count": null,
      "metadata": {
        "id": "DoXdDFHoGup-",
        "colab": {
          "base_uri": "https://localhost:8080/"
        },
        "outputId": "8b95a08e-14cb-46d8-dde7-924db7e55bf9"
      },
      "outputs": [
        {
          "output_type": "execute_result",
          "data": {
            "text/plain": [
              "(2.8702833869409097, 3.4212084060908188)"
            ]
          },
          "metadata": {},
          "execution_count": 114
        }
      ],
      "source": [
        "### acqFunc attribute x, stddev: run number = 15\n",
        "\n",
        "acqFuncApprox_exact_15 = acqFuncApprox(exact_15.history)\n",
        "acqFuncExact_exact_15 = acqFuncExact(exact_15.history)\n",
        "\n",
        "e15 = np.mean(acqFuncExact_exact_15)\n",
        "a15 = np.mean(acqFuncApprox_exact_15)\n",
        "\n",
        "e15, a15\n"
      ]
    },
    {
      "cell_type": "code",
      "execution_count": null,
      "metadata": {
        "id": "K_wAeqSoGu2j",
        "colab": {
          "base_uri": "https://localhost:8080/"
        },
        "outputId": "ed822a0d-73de-4fae-e75e-19f090950679"
      },
      "outputs": [
        {
          "output_type": "execute_result",
          "data": {
            "text/plain": [
              "(2.9312467417611967, 3.2985788760581003)"
            ]
          },
          "metadata": {},
          "execution_count": 115
        }
      ],
      "source": [
        "### acqFunc attribute x, stddev: run number = 16\n",
        "\n",
        "acqFuncApprox_exact_16 = acqFuncApprox(exact_16.history)\n",
        "acqFuncExact_exact_16 = acqFuncExact(exact_16.history)\n",
        "\n",
        "e16 = np.mean(acqFuncExact_exact_16)\n",
        "a16 = np.mean(acqFuncApprox_exact_16)\n",
        "\n",
        "e16, a16\n"
      ]
    },
    {
      "cell_type": "code",
      "execution_count": null,
      "metadata": {
        "id": "n6zy78fjGvBT",
        "colab": {
          "base_uri": "https://localhost:8080/"
        },
        "outputId": "d386e34b-f42c-4a58-8076-e2c9a2bee508"
      },
      "outputs": [
        {
          "output_type": "execute_result",
          "data": {
            "text/plain": [
              "(2.9462490335399503, 3.3002236950994552)"
            ]
          },
          "metadata": {},
          "execution_count": 116
        }
      ],
      "source": [
        "### acqFunc attribute x, stddev: run number = 17\n",
        "\n",
        "acqFuncApprox_exact_17 = acqFuncApprox(exact_17.history)\n",
        "acqFuncExact_exact_17 = acqFuncExact(exact_17.history)\n",
        "\n",
        "e17 = np.mean(acqFuncExact_exact_17)\n",
        "a17 = np.mean(acqFuncApprox_exact_17)\n",
        "\n",
        "e17, a17\n"
      ]
    },
    {
      "cell_type": "code",
      "execution_count": null,
      "metadata": {
        "id": "s_6_2K4iGvM-",
        "colab": {
          "base_uri": "https://localhost:8080/"
        },
        "outputId": "ce7178ef-0b6b-4b52-fdab-91b355e35b5e"
      },
      "outputs": [
        {
          "output_type": "execute_result",
          "data": {
            "text/plain": [
              "(2.941715024962873, 3.363174082680467)"
            ]
          },
          "metadata": {},
          "execution_count": 117
        }
      ],
      "source": [
        "### acqFunc attribute x, stddev: run number = 18\n",
        "\n",
        "acqFuncApprox_exact_18 = acqFuncApprox(exact_18.history)\n",
        "acqFuncExact_exact_18 = acqFuncExact(exact_18.history)\n",
        "\n",
        "e18 = np.mean(acqFuncExact_exact_18)\n",
        "a18 = np.mean(acqFuncApprox_exact_18)\n",
        "\n",
        "e18, a18\n"
      ]
    },
    {
      "cell_type": "code",
      "execution_count": null,
      "metadata": {
        "id": "o8oO8pdBGvYk",
        "colab": {
          "base_uri": "https://localhost:8080/"
        },
        "outputId": "33d1f146-3dbd-43b4-c9ba-ee35e4781d8c"
      },
      "outputs": [
        {
          "output_type": "execute_result",
          "data": {
            "text/plain": [
              "(2.850801491781138, 3.3843776978510838)"
            ]
          },
          "metadata": {},
          "execution_count": 118
        }
      ],
      "source": [
        "### acqFunc attribute x, stddev: run number = 19\n",
        "\n",
        "acqFuncApprox_exact_19 = acqFuncApprox(exact_19.history)\n",
        "acqFuncExact_exact_19 = acqFuncExact(exact_19.history)\n",
        "\n",
        "e19 = np.mean(acqFuncExact_exact_19)\n",
        "a19 = np.mean(acqFuncApprox_exact_19)\n",
        "\n",
        "e19, a19\n"
      ]
    },
    {
      "cell_type": "code",
      "execution_count": null,
      "metadata": {
        "id": "b2w8oLc0IMzU",
        "colab": {
          "base_uri": "https://localhost:8080/"
        },
        "outputId": "0534d046-1fbc-44db-be85-11079691634e"
      },
      "outputs": [
        {
          "output_type": "execute_result",
          "data": {
            "text/plain": [
              "(2.9646405360960584, 3.542589859998351)"
            ]
          },
          "metadata": {},
          "execution_count": 119
        }
      ],
      "source": [
        "### acqFunc attribute x, stddev: run number = 20\n",
        "\n",
        "acqFuncApprox_exact_20 = acqFuncApprox(exact_20.history)\n",
        "acqFuncExact_exact_20 = acqFuncExact(exact_20.history)\n",
        "\n",
        "e20 = np.mean(acqFuncExact_exact_20)\n",
        "a20 = np.mean(acqFuncApprox_exact_20)\n",
        "\n",
        "e20, a20\n"
      ]
    },
    {
      "cell_type": "code",
      "execution_count": null,
      "metadata": {
        "id": "qAZs3yxMIZul",
        "colab": {
          "base_uri": "https://localhost:8080/"
        },
        "outputId": "179a904d-a5cf-4f61-fec2-9ac51edf7087"
      },
      "outputs": [
        {
          "output_type": "execute_result",
          "data": {
            "text/plain": [
              "(2.9990783077729963, 3.412962187863613)"
            ]
          },
          "metadata": {},
          "execution_count": 120
        }
      ],
      "source": [
        "### Summarize arrays: \n",
        "\n",
        "exact_stddev = np.sort([e1,e2,e3,e4,e5,e6,e7,e8,e9,e10,e11,e12,e13,e14,e15,e16,e17,e18,e19,e20])\n",
        "approx_stddev = np.sort([a1,a2,a3,a4,a5,a6,a7,a8,a9,a10,a11,a12,a13,a14,a15,a16,a17,a18,a19,a20])\n",
        "\n",
        "np.mean(exact_stddev), np.mean(approx_stddev)\n"
      ]
    },
    {
      "cell_type": "code",
      "execution_count": null,
      "metadata": {
        "id": "e_kpqYcMIZxu",
        "colab": {
          "base_uri": "https://localhost:8080/",
          "height": 297
        },
        "outputId": "e58046f0-a5ba-4fce-92cf-8c51cceb4328"
      },
      "outputs": [
        {
          "output_type": "display_data",
          "data": {
            "text/plain": [
              "<Figure size 432x288 with 1 Axes>"
            ],
            "image/png": "[encoded data removed]"
          },
          "metadata": {
            "needs_background": "light"
          }
        }
      ],
      "source": [
        "### Visualise!\n",
        "\n",
        "title = func\n",
        "plt.figure()\n",
        "\n",
        "plt.plot(approx_stddev, color = 'Purple', ls='--', label='Average $\\sigma$, attribute $\\mathbf{x}$: Approx STP CBM gradients')\n",
        "plt.plot(exact_stddev, color = 'Orange', ls='-', label='Average $\\sigma$, attribute $\\mathbf{x}$: Exact STP dCBM gradients')\n",
        "\n",
        "plt.title(title, weight = 'bold')\n",
        "plt.xlabel('Function evaluations: iteration $\\it{k}$', weight = 'bold')\n",
        "plt.ylabel('STP CBM: Average $\\sigma$, attribute $\\mathbf{x}$', weight = 'bold') \n",
        "plt.legend(loc=0) # add plot legend\n",
        "\n",
        "### Make the x-ticks integers, not floats:\n",
        "count = len(xstar)\n",
        "plt.xticks(np.arange(count), np.arange(1, count))\n",
        "plt.show() #visualize!\n"
      ]
    },
    {
      "cell_type": "code",
      "execution_count": null,
      "metadata": {
        "id": "LToGd4vZIZ3I"
      },
      "outputs": [],
      "source": []
    }
  ],
  "metadata": {
    "colab": {
      "collapsed_sections": [],
      "provenance": []
    },
    "kernelspec": {
      "display_name": "Python 3",
      "name": "python3"
    },
    "language_info": {
      "name": "python"
    }
  },
  "nbformat": 4,
  "nbformat_minor": 0
}