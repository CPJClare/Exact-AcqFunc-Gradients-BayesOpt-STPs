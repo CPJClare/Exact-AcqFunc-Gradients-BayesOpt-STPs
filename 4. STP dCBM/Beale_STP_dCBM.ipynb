{
  "cells": [
    {
      "cell_type": "markdown",
      "metadata": {
        "id": "Dqn4dFx7Z2Ir"
      },
      "source": [
        "\n",
        "Beale: 2D\n"
      ]
    },
    {
      "cell_type": "code",
      "execution_count": 1,
      "metadata": {
        "colab": {
          "base_uri": "https://localhost:8080/"
        },
        "id": "MJTM_GZZZb5x",
        "outputId": "afa40b62-21a8-4d00-bb9f-c2225bb361ec"
      },
      "outputs": [
        {
          "output_type": "stream",
          "name": "stdout",
          "text": [
            "Looking in indexes: https://pypi.org/simple, https://us-python.pkg.dev/colab-wheels/public/simple/\n",
            "Collecting pyGPGO\n",
            "  Downloading pyGPGO-0.5.1.tar.gz (14 kB)\n",
            "Requirement already satisfied: numpy in /usr/local/lib/python3.7/dist-packages (from pyGPGO) (1.21.6)\n",
            "Requirement already satisfied: mkl in /usr/local/lib/python3.7/dist-packages (from pyGPGO) (2019.0)\n",
            "Requirement already satisfied: scipy in /usr/local/lib/python3.7/dist-packages (from pyGPGO) (1.7.3)\n",
            "Requirement already satisfied: joblib in /usr/local/lib/python3.7/dist-packages (from pyGPGO) (1.1.0)\n",
            "Requirement already satisfied: scikit-learn in /usr/local/lib/python3.7/dist-packages (from pyGPGO) (1.0.2)\n",
            "Collecting Theano-PyMC\n",
            "  Downloading Theano-PyMC-1.1.2.tar.gz (1.8 MB)\n",
            "\u001b[K     |████████████████████████████████| 1.8 MB 7.4 MB/s \n",
            "\u001b[?25hCollecting pyMC3\n",
            "  Downloading pymc3-3.11.5-py3-none-any.whl (872 kB)\n",
            "\u001b[K     |████████████████████████████████| 872 kB 50.4 MB/s \n",
            "\u001b[?25hRequirement already satisfied: intel-openmp in /usr/local/lib/python3.7/dist-packages (from mkl->pyGPGO) (2022.1.0)\n",
            "Collecting semver>=2.13.0\n",
            "  Downloading semver-2.13.0-py2.py3-none-any.whl (12 kB)\n",
            "Requirement already satisfied: cachetools>=4.2.1 in /usr/local/lib/python3.7/dist-packages (from pyMC3->pyGPGO) (4.2.4)\n",
            "Collecting deprecat\n",
            "  Downloading deprecat-2.1.1-py2.py3-none-any.whl (9.8 kB)\n",
            "Requirement already satisfied: arviz>=0.11.0 in /usr/local/lib/python3.7/dist-packages (from pyMC3->pyGPGO) (0.12.1)\n",
            "Requirement already satisfied: typing-extensions>=3.7.4 in /usr/local/lib/python3.7/dist-packages (from pyMC3->pyGPGO) (4.1.1)\n",
            "Requirement already satisfied: pandas>=0.24.0 in /usr/local/lib/python3.7/dist-packages (from pyMC3->pyGPGO) (1.3.5)\n",
            "Requirement already satisfied: patsy>=0.5.1 in /usr/local/lib/python3.7/dist-packages (from pyMC3->pyGPGO) (0.5.2)\n",
            "Requirement already satisfied: dill in /usr/local/lib/python3.7/dist-packages (from pyMC3->pyGPGO) (0.3.5.1)\n",
            "Requirement already satisfied: fastprogress>=0.2.0 in /usr/local/lib/python3.7/dist-packages (from pyMC3->pyGPGO) (1.0.3)\n",
            "Requirement already satisfied: filelock in /usr/local/lib/python3.7/dist-packages (from Theano-PyMC->pyGPGO) (3.8.0)\n",
            "Requirement already satisfied: packaging in /usr/local/lib/python3.7/dist-packages (from arviz>=0.11.0->pyMC3->pyGPGO) (21.3)\n",
            "Requirement already satisfied: matplotlib>=3.0 in /usr/local/lib/python3.7/dist-packages (from arviz>=0.11.0->pyMC3->pyGPGO) (3.2.2)\n",
            "Requirement already satisfied: setuptools>=38.4 in /usr/local/lib/python3.7/dist-packages (from arviz>=0.11.0->pyMC3->pyGPGO) (57.4.0)\n",
            "Requirement already satisfied: xarray>=0.16.1 in /usr/local/lib/python3.7/dist-packages (from arviz>=0.11.0->pyMC3->pyGPGO) (0.20.2)\n",
            "Requirement already satisfied: xarray-einstats>=0.2 in /usr/local/lib/python3.7/dist-packages (from arviz>=0.11.0->pyMC3->pyGPGO) (0.2.2)\n",
            "Requirement already satisfied: netcdf4 in /usr/local/lib/python3.7/dist-packages (from arviz>=0.11.0->pyMC3->pyGPGO) (1.6.0)\n",
            "Requirement already satisfied: kiwisolver>=1.0.1 in /usr/local/lib/python3.7/dist-packages (from matplotlib>=3.0->arviz>=0.11.0->pyMC3->pyGPGO) (1.4.4)\n",
            "Requirement already satisfied: cycler>=0.10 in /usr/local/lib/python3.7/dist-packages (from matplotlib>=3.0->arviz>=0.11.0->pyMC3->pyGPGO) (0.11.0)\n",
            "Requirement already satisfied: python-dateutil>=2.1 in /usr/local/lib/python3.7/dist-packages (from matplotlib>=3.0->arviz>=0.11.0->pyMC3->pyGPGO) (2.8.2)\n",
            "Requirement already satisfied: pyparsing!=2.0.4,!=2.1.2,!=2.1.6,>=2.0.1 in /usr/local/lib/python3.7/dist-packages (from matplotlib>=3.0->arviz>=0.11.0->pyMC3->pyGPGO) (3.0.9)\n",
            "Requirement already satisfied: pytz>=2017.3 in /usr/local/lib/python3.7/dist-packages (from pandas>=0.24.0->pyMC3->pyGPGO) (2022.2.1)\n",
            "Requirement already satisfied: six in /usr/local/lib/python3.7/dist-packages (from patsy>=0.5.1->pyMC3->pyGPGO) (1.15.0)\n",
            "Requirement already satisfied: importlib-metadata in /usr/local/lib/python3.7/dist-packages (from xarray>=0.16.1->arviz>=0.11.0->pyMC3->pyGPGO) (4.12.0)\n",
            "Requirement already satisfied: wrapt<2,>=1.10 in /usr/local/lib/python3.7/dist-packages (from deprecat->pyMC3->pyGPGO) (1.14.1)\n",
            "Requirement already satisfied: zipp>=0.5 in /usr/local/lib/python3.7/dist-packages (from importlib-metadata->xarray>=0.16.1->arviz>=0.11.0->pyMC3->pyGPGO) (3.8.1)\n",
            "Requirement already satisfied: cftime in /usr/local/lib/python3.7/dist-packages (from netcdf4->arviz>=0.11.0->pyMC3->pyGPGO) (1.6.1)\n",
            "Requirement already satisfied: threadpoolctl>=2.0.0 in /usr/local/lib/python3.7/dist-packages (from scikit-learn->pyGPGO) (3.1.0)\n",
            "Building wheels for collected packages: pyGPGO, Theano-PyMC\n",
            "  Building wheel for pyGPGO (setup.py) ... \u001b[?25l\u001b[?25hdone\n",
            "  Created wheel for pyGPGO: filename=pyGPGO-0.5.1-py3-none-any.whl size=19879 sha256=83e281156aeb8a450edc857e10db49a8515fd5bd18369927bbbf1be458877999\n",
            "  Stored in directory: /root/.cache/pip/wheels/c8/5d/0b/2160114e2f1b87791c51b66cf07f89831dbb6f49167950316f\n",
            "  Building wheel for Theano-PyMC (setup.py) ... \u001b[?25l\u001b[?25hdone\n",
            "  Created wheel for Theano-PyMC: filename=Theano_PyMC-1.1.2-py3-none-any.whl size=1529963 sha256=155adc40433a26337eeed7cd20eaad44412b6058d6aa7ec3541edf64f8f9ceb5\n",
            "  Stored in directory: /root/.cache/pip/wheels/f3/af/8c/5dd7553522d74c52a7813806fc7ee1a9caa20a3f7c8fd850d5\n",
            "Successfully built pyGPGO Theano-PyMC\n",
            "Installing collected packages: Theano-PyMC, semver, deprecat, pyMC3, pyGPGO\n",
            "Successfully installed Theano-PyMC-1.1.2 deprecat-2.1.1 pyGPGO-0.5.1 pyMC3-3.11.5 semver-2.13.0\n"
          ]
        }
      ],
      "source": [
        "pip install pyGPGO\n"
      ]
    },
    {
      "cell_type": "code",
      "execution_count": 2,
      "metadata": {
        "id": "ZJSSPbwPaEUB"
      },
      "outputs": [],
      "source": [
        "### Import:\n",
        "\n",
        "import numpy as np\n",
        "import scipy as sp\n",
        "import pandas as pd\n",
        "import matplotlib.pyplot as plt\n",
        "import warnings\n",
        "import itertools\n",
        "\n",
        "from pyGPGO.GPGO import GPGO\n",
        "from pyGPGO.surrogates.tStudentProcess import tStudentProcess\n",
        "from pyGPGO.acquisition import Acquisition\n",
        "from pyGPGO.covfunc import squaredExponential\n",
        "\n",
        "from joblib import Parallel, delayed\n",
        "from numpy.linalg import solve, cholesky\n",
        "from scipy.spatial.distance import cdist\n",
        "from scipy.optimize import minimize\n",
        "from scipy.stats import t\n",
        "import time\n",
        "\n",
        "warnings.filterwarnings(\"ignore\", category=RuntimeWarning)\n"
      ]
    },
    {
      "cell_type": "code",
      "execution_count": 3,
      "metadata": {
        "id": "OeYcTUNoaJWa"
      },
      "outputs": [],
      "source": [
        "### Inputs:\n",
        "\n",
        "func = 'Beale'\n",
        "n_test = 500\n",
        "eps = 1e-08\n",
        "\n",
        "util = 'CBM'\n",
        "\n",
        "n_init = 5 # random initialisations\n",
        "iters = 20\n",
        "opt = True\n",
        "\n",
        "df = 3"
      ]
    },
    {
      "cell_type": "code",
      "execution_count": 4,
      "metadata": {
        "id": "xpaEOjdzaPMS"
      },
      "outputs": [],
      "source": [
        "### Objective Function - Beale(x) 2-D:\n",
        "\n",
        "def objfunc(x1_training, x2_training):\n",
        "            return  operator * (\n",
        "                (1.500 - x1_training + x1_training * x2_training)**2 +\n",
        "                (2.250 - x1_training + x1_training * x2_training**2)**2 +\n",
        "                (2.625 - x1_training + x1_training * x2_training**3)**2 \n",
        "                )\n",
        "       \n",
        "# Constraints:\n",
        "lb = -4.5\n",
        "ub = +4.5\n",
        "\n",
        "# Input array dimension(s):\n",
        "dim = 2\n",
        "\n",
        "# 2-D inputs' parameter bounds:\n",
        "param = {'x1_training': ('cont', [lb, ub]),\n",
        "             'x2_training': ('cont', [lb, ub])}\n",
        "\n",
        "# True y bounds:\n",
        "operator = -1\n",
        "y_lb = 0 # targets global minimum\n",
        "y_global_orig = y_lb * operator # targets global minimum\n",
        "\n",
        "# Test data:\n",
        "x1_test = np.linspace(lb, ub, n_test)\n",
        "x2_test = np.linspace(lb, ub, n_test)\n",
        "  \n",
        "x_test = np.column_stack((x1_test,x2_test))"
      ]
    },
    {
      "cell_type": "code",
      "execution_count": 5,
      "metadata": {
        "id": "eYpI3Zm4aGxi"
      },
      "outputs": [],
      "source": [
        "n_start_AcqFunc = iters\n",
        "inverse = -1\n"
      ]
    },
    {
      "cell_type": "code",
      "execution_count": 6,
      "metadata": {
        "id": "oO_GUmOoaV0T"
      },
      "outputs": [],
      "source": [
        "### Cumulative Regret Calculators:\n",
        "\n",
        "def min_max_array(x):\n",
        "    new_list = []\n",
        "    for i, num in enumerate(x):\n",
        "            new_list.append(np.min(x[0:i+1]))\n",
        "    return new_list\n",
        "  \n",
        "def acqFuncExact(x):\n",
        "    new_array = []\n",
        "    x = np.array(x) \n",
        "    for i, num in enumerate(x):\n",
        "            new_array = x[:-2][::-3]\n",
        "    return new_array[::-1]\n",
        "\n",
        "def acqFuncApprox(x):\n",
        "    new_array = []\n",
        "    x = np.array(x) \n",
        "    for i, num in enumerate(x):\n",
        "            new_array = x[:-1][::-3]\n",
        "    return new_array[::-1]\n"
      ]
    },
    {
      "cell_type": "code",
      "execution_count": 7,
      "metadata": {
        "id": "kuuJx0IMam9S"
      },
      "outputs": [],
      "source": [
        "### Surrogate derivatives: \n",
        "\n",
        "cov_func = squaredExponential()\n",
        "\n",
        "def kronDelta(X, Xstar):                     # Kronecker's Delta method\n",
        "    return cdist(X, Xstar) < np.finfo(np.float32).eps\n",
        "\n",
        "def se(X, Xstar, sigmaf, l, sigman):         # S.E. kernel method\n",
        "    return sigmaf * np.exp(-0.5 * cdist(X, Xstar) ** 2 / l ** 2) + sigman * kronDelta(X, Xstar)\n",
        "\n",
        "def delta(X, Xstar):                         # Distance between training X and test Xstar vectors\n",
        "    return (X - Xstar)\n",
        "   \n",
        "def der_covmat(X, Xstar, sigmaf, l, sigman): # Covariance matrix derivative terms (i.e. exact, first-order)\n",
        "    nx = len(X)\n",
        "    ny = len(Xstar)\n",
        "    return np.round(np.array([(delta(np.atleast_2d(i), np.atleast_2d(j))[0] * se(np.atleast_2d(i), np.atleast_2d(j), sigmaf, l, sigman)[0]).sum() for (i, j) in itertools.product(X, Xstar)]).reshape(nx, ny), 8)\n",
        "\n",
        "class dtStudentProcess(tStudentProcess):    # Via inheritance, also optimises hyperparameters when opt = TRUE\n",
        "    \n",
        "    def AcqGrad(self, Xstar):               # Method returning exact, first-order derivatives of the STP's posterior mean and standard deviation\n",
        "        Xstar = np.atleast_2d(Xstar)\n",
        "        Kstar = self.covfunc.K(self.X, Xstar).T\n",
        "        dKstar = der_covmat(self.X, Xstar, self.covfunc.sigmaf, self.covfunc.l, self.covfunc.sigman).T\n",
        "        \n",
        "        smd_adj = (self.nu + self.beta1 - 2) / (self.nu + self.n1 - 2)\n",
        "\n",
        "        alpha = np.dot(np.linalg.inv(self.K11 + (self.covfunc.sigman**2) * np.eye(len(self.X))), self.y)\n",
        "        alpha_Kstar = np.dot(np.linalg.inv(self.K11 + (self.covfunc.sigman**2) * np.eye(len(self.X))), Kstar.T)      \n",
        "        \n",
        "        dm = np.dot(dKstar, alpha)\n",
        "        ds = -2 * smd_adj * np.dot(dKstar, alpha_Kstar)\n",
        "        \n",
        "        return dm, ds          \n"
      ]
    },
    {
      "cell_type": "code",
      "execution_count": 8,
      "metadata": {
        "id": "_Dc3YVHVaXz7"
      },
      "outputs": [],
      "source": [
        "### Add exact acquisition function gradient as attribute:\n",
        "\n",
        "Beta_CBM = dim\n",
        "\n",
        "class Acquisition_grad(Acquisition):    \n",
        "    def __init__(self, mode, eps=eps, **params):\n",
        "        \n",
        "        self.params = params\n",
        "        self.eps = eps\n",
        "\n",
        "        mode_dict = {\n",
        "            'CBM': self.CBM\n",
        "        }\n",
        "\n",
        "        self.f = mode_dict[mode]\n",
        "    \n",
        "    def CBM(self, y_global_orig, mean, std, ds, dm, nu=3.0):\n",
        "        gamma = (mean - y_global_orig - self.eps) / (std + self.eps)\n",
        "        gamma_h = (mean - y_global_orig) / (std + self.eps)\n",
        "        dsdx = ds / (2 * (std + self.eps))\n",
        "        dmdx = (dm - gamma * dsdx) / (std + self.eps)\n",
        "\n",
        "        f = (std + self.eps) * (gamma + np.sqrt(Beta_CBM))\n",
        "        df = dsdx * (gamma + np.sqrt(Beta_CBM)) + (std + self.eps) * dmdx\n",
        "        df_arr = []\n",
        "\n",
        "        for j in range(0, dim):\n",
        "          df_arr.append(df)\n",
        "        return f, np.asarray(df_arr).transpose()\n",
        "\n",
        "        for j in range(0, dim):\n",
        "          df_arr.append(df)\n",
        "        return f, np.asarray(df_arr).transpose()\n",
        "        \n",
        "    def d_eval(self, y_global_orig, mean, std, ds, dm, nu=3.0):\n",
        "    \n",
        "        return self.f(y_global_orig, mean, std, ds, dm, nu=3.0, **self.params)\n",
        "        "
      ]
    },
    {
      "cell_type": "code",
      "execution_count": 9,
      "metadata": {
        "id": "PITEQC8YSl7i"
      },
      "outputs": [],
      "source": [
        "## GPGO_multi: \n",
        "\n",
        "class GPGO_multi(GPGO):\n",
        "    n_start = n_start_AcqFunc\n",
        "\n",
        "    def __init__(self, surrogate, acquisition, f, parameter_dict, n_jobs=1):\n",
        "        self.GP = surrogate\n",
        "        self.A = acquisition\n",
        "        self.f = f\n",
        "        self.parameters = parameter_dict\n",
        "        self.n_jobs = n_jobs\n",
        "\n",
        "        self.parameter_key = list(parameter_dict.keys())\n",
        "        self.parameter_value = list(parameter_dict.values())\n",
        "        self.parameter_type = [p[0] for p in self.parameter_value]\n",
        "        self.parameter_range = [p[1] for p in self.parameter_value]\n",
        "\n",
        "        self.history = []\n",
        "        self.header =   'Evaluation \\t Proposed point \\t  Current eval. \\t  Best eval. \\t        Exact CBM: StdDev. x \\t Approx CBM: StdDev. x '\n",
        "        self.template = '{:3}\\t {}\\t {:3}\\t {:3}\\t {:3}\\t {:3}'\n",
        " \n",
        "    def acqfuncExact(self, xnew, n_start=n_start_AcqFunc):\n",
        "        new_mean, new_var = self.GP.predict(xnew, return_std=True)\n",
        "        new_std = np.sqrt(new_var + eps)\n",
        "        dm, ds = self.GP.AcqGrad(xnew)\n",
        "        f, df = self.A.d_eval(y_global_orig, new_mean, new_std, ds=ds, dm=dm, nu=3.0)\n",
        "\n",
        "        return -f, -df\n",
        "   \n",
        "    def acqfuncApprox(self, xnew, n_start=n_start_AcqFunc):\n",
        "        new_mean, new_var = self.GP.predict(xnew, return_std=True)\n",
        "        new_std = np.sqrt(new_var + eps)\n",
        "        dm, ds = self.GP.AcqGrad(xnew)\n",
        "        f, df = self.A.d_eval(y_global_orig, new_mean, new_std, ds=ds, dm=dm, nu=3.0)\n",
        "\n",
        "        return -f\n",
        "   \n",
        "    def _optimizeAcq(self, method='L-BFGS-B', n_start=n_start_AcqFunc):\n",
        "        \n",
        "        start_points_dict = [self._sampleParam() for i in range(n_start)]\n",
        "        start_points_arr = np.array([list(s.values())\n",
        "                                     for s in start_points_dict])\n",
        "        x_best = np.empty((n_start, len(self.parameter_key)))\n",
        "        f_best = np.empty((n_start,))\n",
        "        opt = Parallel(n_jobs=self.n_jobs)(delayed(minimize)(self.acqfuncApprox,\n",
        "                                                                 x0=start_point,\n",
        "                                                                 method=method,\n",
        "                                                                 jac = False,\n",
        "                                                                 bounds=self.parameter_range) for start_point in\n",
        "                                               start_points_arr)\n",
        "        x_best = np.array([res.x for res in opt])\n",
        "        f_best = np.array([np.atleast_1d(res.fun)[0] for res in opt])\n",
        "        f_best_min = min(f_best)\n",
        "\n",
        "        self.x_best = x_best\n",
        "        self.f_best = f_best\n",
        "        self.f_best_min = f_best_min\n",
        "        self.x_best_std = np.std(x_best)\n",
        "        self.best = x_best[np.argmin(f_best)]\n",
        "        self.start_points_arr = start_points_arr        \n",
        "        self.history.append(self.x_best_std)\n",
        "\n",
        "        x_best_exact = np.empty((n_start, len(self.parameter_key)))\n",
        "        f_best_exact = np.empty((n_start,))\n",
        "        opt_exact = Parallel(n_jobs=self.n_jobs)(delayed(minimize)(self.acqfuncExact,\n",
        "                                                                 x0=start_point,\n",
        "                                                                 method=method,\n",
        "                                                                 jac = True,\n",
        "                                                                 bounds=self.parameter_range) for start_point in\n",
        "                                               start_points_arr)\n",
        "        x_best_exact = np.array([res.x for res in opt_exact])\n",
        "        f_best_exact = np.array([np.atleast_1d(res.fun)[0] for res in opt_exact])\n",
        "        f_best_min_exact = min(f_best_exact)\n",
        "\n",
        "        self.x_best_exact = x_best_exact\n",
        "        self.f_best_exact = f_best_exact\n",
        "        self.f_best_min_exact = f_best_min_exact\n",
        "        self.x_best_std_exact = np.std(x_best_exact)\n",
        "        self.best_exact = x_best_exact[np.argmin(f_best_exact)]\n",
        "        self.start_points_arr = start_points_arr\n",
        "        self.history.append(self.x_best_std_exact)\n",
        "\n",
        "    def _printInit(self):\n",
        "        print(self.header)\n",
        "        for init_eval in range(self.init_evals):\n",
        "            print(self.template.format('init', self.GP.X[init_eval], inverse * self.GP.y[init_eval], inverse * self.tau, '', ''))\n",
        "      \n",
        "    def _printCurrent(self):\n",
        "        OKGREEN = '\\033[92m'\n",
        "        ENDC = '\\033[0m'\n",
        "        BOLD = '\\033[1m'\n",
        "        eval = str(len(self.GP.y) - self.init_evals)\n",
        "        proposed = str(self.best)\n",
        "        curr_eval = str(inverse * self.GP.y[-1])\n",
        "        curr_best = str(inverse * self.tau)\n",
        "        min_acqfunc = str(self.f_best_min)\n",
        "        min_acqfunc_exact = str(self.f_best_min_exact)\n",
        "        x_best_std = str(self.x_best_std)\n",
        "        x_best_std_exact = str(self.x_best_std_exact)\n",
        "        if float(curr_eval) <= float(curr_best):\n",
        "            eval = BOLD + OKGREEN + eval + ENDC\n",
        "            proposed = BOLD + OKGREEN + proposed + ENDC\n",
        "            curr_eval = BOLD + OKGREEN + curr_eval + ENDC\n",
        "            curr_best = BOLD + OKGREEN + curr_best + ENDC\n",
        "            x_best_std = BOLD + OKGREEN + x_best_std + ENDC\n",
        "            x_best_std_exact = BOLD + OKGREEN + x_best_std_exact + ENDC\n",
        "        print(self.template.format(eval, proposed, curr_eval, curr_best, x_best_std_exact, x_best_std))\n",
        "        \n",
        "    def run(self, max_iter=10, init_evals=3, resume=False):\n",
        "        \n",
        "        if not resume:\n",
        "            self.init_evals = init_evals\n",
        "            self._firstRun(self.init_evals)\n",
        "            self._printInit()\n",
        "        for iteration in range(max_iter):\n",
        "            self._optimizeAcq()\n",
        "            self.updateGP()\n",
        "            self._printCurrent()\n"
      ]
    },
    {
      "cell_type": "code",
      "execution_count": 10,
      "metadata": {
        "id": "b_B-w81BJxKN"
      },
      "outputs": [],
      "source": [
        "## dGPGO:\n",
        "\n",
        "class dGPGO(GPGO):\n",
        "    n_start = n_start_AcqFunc\n",
        "\n",
        "    def __init__(self, surrogate, acquisition, f, parameter_dict, n_jobs=1):\n",
        "        self.GP = surrogate\n",
        "        self.A = acquisition\n",
        "        self.f = f\n",
        "        self.parameters = parameter_dict\n",
        "        self.n_jobs = n_jobs\n",
        "\n",
        "        self.parameter_key = list(parameter_dict.keys())\n",
        "        self.parameter_value = list(parameter_dict.values())\n",
        "        self.parameter_type = [p[0] for p in self.parameter_value]\n",
        "        self.parameter_range = [p[1] for p in self.parameter_value]\n",
        "\n",
        "        self.history = []\n",
        "        self.header =   'Evaluation \\t Proposed point \\t  Current eval. \\t  Best eval. \\t        Exact CBM: StdDev. x \\t Approx CBM: StdDev. x '\n",
        "        self.template = '{:3}\\t {}\\t {:3}\\t {:3}\\t {:3}\\t {:3}'\n",
        "\n",
        "    def acqfuncExact(self, xnew, n_start=n_start_AcqFunc):\n",
        "        new_mean, new_var = self.GP.predict(xnew, return_std=True)\n",
        "        new_std = np.sqrt(new_var + eps)\n",
        "        dm, ds = self.GP.AcqGrad(xnew)\n",
        "        f, df = self.A.d_eval(y_global_orig, new_mean, new_std, ds=ds, dm=dm, nu=3.0)\n",
        "\n",
        "        return -f, -df\n",
        "   \n",
        "    def acqfuncApprox(self, xnew, n_start=n_start_AcqFunc):\n",
        "        new_mean, new_var = self.GP.predict(xnew, return_std=True)\n",
        "        new_std = np.sqrt(new_var + eps)\n",
        "        dm, ds = self.GP.AcqGrad(xnew)\n",
        "        f, df = self.A.d_eval(y_global_orig, new_mean, new_std, ds=ds, dm=dm, nu=3.0)\n",
        "\n",
        "        return -f\n",
        "\n",
        "    def d_optimizeAcq(self, method='L-BFGS-B', n_start=n_start_AcqFunc):\n",
        "        start_points_dict = [self._sampleParam() for i in range(n_start)]\n",
        "        start_points_arr = np.array([list(s.values())\n",
        "                                     for s in start_points_dict])\n",
        "        x_best = np.empty((n_start, len(self.parameter_key)))\n",
        "        f_best = np.empty((n_start,))\n",
        "        opt = Parallel(n_jobs=self.n_jobs)(delayed(minimize)(self.acqfuncExact,\n",
        "                                                                 x0=start_point,\n",
        "                                                                 method=method,\n",
        "                                                                 jac = True,\n",
        "                                                                 bounds=self.parameter_range) for start_point in\n",
        "                                               start_points_arr)\n",
        "        x_best = np.array([res.x for res in opt])\n",
        "        f_best = np.array([np.atleast_1d(res.fun)[0] for res in opt])\n",
        "        f_best_min = min(f_best)\n",
        "\n",
        "        self.x_best = x_best\n",
        "        self.f_best = f_best\n",
        "        self.f_best_min = f_best_min\n",
        "        self.x_best_std = np.std(x_best)\n",
        "        self.best = x_best[np.argmin(f_best)]\n",
        "        self.start_points_arr = start_points_arr\n",
        "        self.history.append(self.x_best_std)\n",
        "\n",
        "        x_best_approx = np.empty((n_start, len(self.parameter_key)))\n",
        "        f_best_approx = np.empty((n_start,))\n",
        "        opt_approx = Parallel(n_jobs=self.n_jobs)(delayed(minimize)(self.acqfuncApprox,\n",
        "                                                                 x0=start_point,\n",
        "                                                                 method=method,\n",
        "                                                                 jac = False,\n",
        "                                                                 bounds=self.parameter_range) for start_point in\n",
        "                                               start_points_arr)\n",
        "        x_best_approx = np.array([res.x for res in opt_approx])\n",
        "        f_best_approx = np.array([np.atleast_1d(res.fun)[0] for res in opt_approx])\n",
        "        f_best_min_approx = min(f_best_approx)\n",
        "\n",
        "        self.x_best_approx = x_best_approx\n",
        "        self.f_best_approx = f_best_approx\n",
        "        self.f_best_min_approx = f_best_min_approx\n",
        "        self.x_best_std_approx = np.std(x_best_approx)\n",
        "        self.best_approx = x_best_approx[np.argmin(f_best_approx)]\n",
        "        self.start_points_arr = start_points_arr\n",
        "        self.history.append(self.x_best_std_approx)\n",
        "    \n",
        "    def _printInit(self):\n",
        "        print(self.header)\n",
        "        for init_eval in range(self.init_evals):\n",
        "            print(self.template.format('init', self.GP.X[init_eval], inverse * self.GP.y[init_eval], inverse * self.tau, '', ''))\n",
        "      \n",
        "    def _printCurrent(self):\n",
        "        OKGREEN = '\\033[92m'\n",
        "        ENDC = '\\033[0m'\n",
        "        BOLD = '\\033[1m'\n",
        "        eval = str(len(self.GP.y) - self.init_evals)\n",
        "        proposed = str(self.best)\n",
        "        curr_eval = str(inverse * self.GP.y[-1])\n",
        "        curr_best = str(inverse * self.tau)\n",
        "        min_acqfunc = str(self.f_best_min)\n",
        "        min_acqfunc_approx = str(self.f_best_min_approx)\n",
        "        x_best_std = str(self.x_best_std)\n",
        "        x_best_std_approx = str(self.x_best_std_approx)\n",
        "        if float(curr_eval) <= float(curr_best):\n",
        "            eval = BOLD + OKGREEN + eval + ENDC\n",
        "            proposed = BOLD + OKGREEN + proposed + ENDC\n",
        "            curr_eval = BOLD + OKGREEN + curr_eval + ENDC\n",
        "            curr_best = BOLD + OKGREEN + curr_best + ENDC\n",
        "            x_best_std = BOLD + OKGREEN + x_best_std + ENDC\n",
        "            x_best_std_approx = BOLD + OKGREEN + x_best_std_approx + ENDC\n",
        "        print(self.template.format(eval, proposed, curr_eval, curr_best, x_best_std, x_best_std_approx))\n",
        "\n",
        "    def run(self, max_iter=10, init_evals=3, resume=False):\n",
        "        \n",
        "        if not resume:\n",
        "            self.init_evals = init_evals\n",
        "            self._firstRun(self.init_evals)\n",
        "            self._printInit()\n",
        "        for iteration in range(max_iter):\n",
        "            self.d_optimizeAcq()\n",
        "            self.updateGP()\n",
        "            self._printCurrent()\n"
      ]
    },
    {
      "cell_type": "code",
      "execution_count": 11,
      "metadata": {
        "id": "qXIKGuXVGEg2"
      },
      "outputs": [],
      "source": [
        "###Reproducible set-seeds:\n",
        "\n",
        "run_num_1 = 1\n",
        "run_num_2 = 2\n",
        "run_num_3 = 3\n",
        "run_num_4 = 4\n",
        "run_num_5 = 5\n",
        "run_num_6 = 6\n",
        "run_num_7 = 7\n",
        "run_num_8 = 8\n",
        "run_num_9 = 9\n",
        "run_num_10 = 10\n",
        "run_num_11 = 11\n",
        "run_num_12 = 12\n",
        "run_num_13 = 13\n",
        "run_num_14 = 14\n",
        "run_num_15 = 15\n",
        "run_num_16 = 16\n",
        "run_num_17 = 17\n",
        "run_num_18 = 18\n",
        "run_num_19 = 19\n",
        "run_num_20 = 20\n"
      ]
    },
    {
      "cell_type": "code",
      "execution_count": 12,
      "metadata": {
        "colab": {
          "base_uri": "https://localhost:8080/"
        },
        "id": "JEhagQmnTVIK",
        "outputId": "e732fcbc-685e-4745-e8e0-63057b749627"
      },
      "outputs": [
        {
          "output_type": "execute_result",
          "data": {
            "text/plain": [
              "1663328210.4680274"
            ]
          },
          "metadata": {},
          "execution_count": 12
        }
      ],
      "source": [
        "start_approx = time.time()\n",
        "start_approx\n"
      ]
    },
    {
      "cell_type": "code",
      "execution_count": 13,
      "metadata": {
        "colab": {
          "base_uri": "https://localhost:8080/"
        },
        "id": "aH0YSTXufD1v",
        "outputId": "9d41fe8b-def4-454b-df96-fe33dddcd34f"
      },
      "outputs": [
        {
          "output_type": "stream",
          "name": "stdout",
          "text": [
            "Evaluation \t Proposed point \t  Current eval. \t  Best eval. \t        Exact CBM: StdDev. x \t Approx CBM: StdDev. x \n",
            "init\t [-0.74680196  1.98292044]\t 6.597029498756062\t 6.597029498756062\t    \t    \n",
            "init\t [-4.49897063 -1.77900685]\t 1305.4710589552556\t 6.597029498756062\t    \t    \n",
            "init\t [-3.17919698 -3.66895265]\t 28173.776013477825\t 6.597029498756062\t    \t    \n",
            "init\t [-2.8236581  -1.38995346]\t 237.9931764117774\t 6.597029498756062\t    \t    \n",
            "init\t [-0.92909273  0.34935061]\t 26.1790631757263\t 6.597029498756062\t    \t    \n",
            "1  \t [-3.53293345  0.8115047 ]\t 34.86978538945682\t 6.597029498756062\t 3.46433914033274\t 3.7403983072822213\n",
            "2  \t [ 4.5        -4.29313086]\t 135133.25211281131\t 6.597029498756062\t 2.59613766665704\t 3.345754045454029\n",
            "3  \t [4.5 4.5]\t 174813.36328125\t 6.597029498756062\t 3.9864416319480447\t 4.04261317354814\n",
            "4  \t [-4.5  4.5]\t 169680.83203125\t 6.597029498756062\t 3.2676415610175735\t 3.363429382933622\n",
            "\u001b[1m\u001b[92m5\u001b[0m\t \u001b[1m\u001b[92m[2.36679627 0.05993468]\u001b[0m\t \u001b[1m\u001b[92m0.6042027177993303\u001b[0m\t \u001b[1m\u001b[92m0.6042027177993303\u001b[0m\t \u001b[1m\u001b[92m2.772164455659793\u001b[0m\t \u001b[1m\u001b[92m2.510313110668463\u001b[0m\n",
            "6  \t [ 0.54766267 -2.33120766]\t 45.62418033111396\t 0.6042027177993303\t 2.738042641941266\t 2.653741171547214\n",
            "7  \t [0.14412996 4.5       ]\t 273.0827030562176\t 0.6042027177993303\t 2.885447995554892\t 3.0744493732138833\n",
            "8  \t [4.5        0.46863135]\t 4.379495363731423\t 0.6042027177993303\t 3.036413263911401\t 2.9429366342233005\n",
            "9  \t [ 0.23621957 -4.5       ]\t 412.45697775776233\t 0.6042027177993303\t 3.1966418928722247\t 2.7507847158606276\n",
            "10 \t [1.52949114 2.26048283]\t 436.62476935637403\t 0.6042027177993303\t 3.2023900128838463\t 3.0571642335088534\n",
            "11 \t [ 2.51488101 -1.82454024]\t 327.0916986197194\t 0.6042027177993303\t 2.658758471416322\t 2.274051760703113\n",
            "12 \t [-1.03547632 -1.60484145]\t 81.04961320558526\t 0.6042027177993303\t 2.860856981880417\t 2.752661152886499\n",
            "13 \t [ 4.5        -1.24375649]\t 207.04655030488686\t 0.6042027177993303\t 2.6709179489617907\t 2.9047376394969886\n",
            "14 \t [ 0.6851699  -0.37994402]\t 6.694058964889582\t 0.6042027177993303\t 3.119520146098682\t 2.922270828425706\n",
            "15 \t [-1.47442509  3.69172469]\t 5185.937170717682\t 0.6042027177993303\t 3.0310921695434816\t 2.558832038914712\n",
            "16 \t [3.21926188 1.65221951]\t 268.01040501544117\t 0.6042027177993303\t 3.0659478045009876\t 2.752614879677707\n",
            "17 \t [ 1.78722638 -3.66411526]\t 8228.191644161341\t 0.6042027177993303\t 2.965461219375734\t 2.8160991273249802\n",
            "18 \t [1.75047229 4.10524002]\t 15827.722507608254\t 0.6042027177993303\t 3.38923199965217\t 2.885117882946216\n",
            "19 \t [-2.66445822  2.18162729]\t 563.7655190921149\t 0.6042027177993303\t 3.1540857351228797\t 2.543929894544222\n",
            "20 \t [-3.9201277   3.57286563]\t 31667.74328405013\t 0.6042027177993303\t 2.603605471522949\t 2.5928492495779074\n"
          ]
        }
      ],
      "source": [
        "### ESTIMATED STP CBM GRADIENTS\n",
        "\n",
        "np.random.seed(run_num_1)\n",
        "surrogate_approx_1 = dtStudentProcess(cov_func, optimize=opt, nu = df)\n",
        "\n",
        "approx_1 = GPGO_multi(surrogate_approx_1, Acquisition_grad(util), objfunc, param)\n",
        "approx_1.run(init_evals=n_init, max_iter=iters)\n"
      ]
    },
    {
      "cell_type": "code",
      "execution_count": 14,
      "metadata": {
        "colab": {
          "base_uri": "https://localhost:8080/"
        },
        "id": "wTxsSZxFGBB5",
        "outputId": "59a03224-6f08-4893-881a-621604312edb"
      },
      "outputs": [
        {
          "output_type": "stream",
          "name": "stdout",
          "text": [
            "Evaluation \t Proposed point \t  Current eval. \t  Best eval. \t        Exact CBM: StdDev. x \t Approx CBM: StdDev. x \n",
            "init\t [-0.57604588 -4.26666391]\t 2377.8441741808733\t 8.81624267140378\t    \t    \n",
            "init\t [ 0.4469623  -0.58209847]\t 8.81624267140378\t 8.81624267140378\t    \t    \n",
            "init\t [-0.71668978 -1.52698661]\t 47.3742628518178\t 8.81624267140378\t    \t    \n",
            "init\t [-2.65816229  1.0734387 ]\t 9.08861590265506\t 8.81624267140378\t    \t    \n",
            "init\t [-1.80310794 -2.09855452]\t 510.2220943696988\t 8.81624267140378\t    \t    \n",
            "1  \t [4.5 4.5]\t 174813.36328125\t 8.81624267140378\t 3.6056898086965936\t 3.9903009716272835\n",
            "2  \t [ 4.5        -2.45848082]\t 5545.690842471858\t 8.81624267140378\t 3.190711259700572\t 4.095647940481456\n",
            "3  \t [-4.5  4.5]\t 169680.83203125\t 8.81624267140378\t 3.105740374695516\t 3.971924371834952\n",
            "4  \t [-4.5 -4.5]\t 181853.61328125\t 8.81624267140378\t 2.2541626852245047\t 3.0486514758347836\n",
            "5  \t [0.07453456 2.78531085]\t 27.563967684148643\t 8.81624267140378\t 2.151690572768047\t 2.55914344354313\n",
            "\u001b[1m\u001b[92m6\u001b[0m\t \u001b[1m\u001b[92m[3.01678653 0.54460146]\u001b[0m\t \u001b[1m\u001b[92m0.04141072185815543\u001b[0m\t \u001b[1m\u001b[92m0.04141072185815543\u001b[0m\t \u001b[1m\u001b[92m2.6148353215646813\u001b[0m\t \u001b[1m\u001b[92m3.246246434837403\u001b[0m\n",
            "7  \t [ 2.29478796 -4.5       ]\t 45868.99952571955\t 0.04141072185815543\t 2.4398915799876253\t 2.7792145634342003\n",
            "8  \t [-4.5        -0.50933626]\t 159.51509865866763\t 0.04141072185815543\t 2.1086776175122934\t 3.0942385071727956\n",
            "9  \t [1.93993044 2.21881267]\t 590.7202836963244\t 0.04141072185815543\t 2.29373756780248\t 3.1208713000929835\n",
            "10 \t [-0.94290623  4.5       ]\t 7038.331888510371\t 0.04141072185815543\t 2.0984599388412857\t 3.000374289636644\n",
            "11 \t [ 2.31649594 -1.46090746]\t 89.24173389422978\t 0.04141072185815543\t 2.1770504868221536\t 2.9920351524162325\n",
            "12 \t [-0.70251409  0.97573297]\t 14.671796785969061\t 0.04141072185815543\t 2.116053358822504\t 3.063033207382726\n",
            "13 \t [1.24197722 4.5       ]\t 13842.011097142067\t 0.04141072185815543\t 2.1221339905012115\t 3.501958540335916\n",
            "14 \t [ 4.5        -0.31332097]\t 26.771159533807253\t 0.04141072185815543\t 2.27768879259352\t 3.4049887266512546\n",
            "15 \t [-4.5         1.32311872]\t 12.153629813236627\t 0.04141072185815543\t 2.4873242885189786\t 3.050825866973918\n",
            "16 \t [-2.66763817 -0.65739947]\t 85.84474276074988\t 0.04141072185815543\t 2.111246163294086\t 2.391889676712726\n",
            "17 \t [ 4.5 -4.5]\t 178131.83203125\t 0.04141072185815543\t 2.428035088902186\t 2.574151856260313\n",
            "18 \t [4.5        1.67551681]\t 500.5993436331305\t 0.04141072185815543\t 2.4231589147635852\t 2.3473837971105156\n",
            "19 \t [-1.9598679   2.71848467]\t 1319.3124295357202\t 0.04141072185815543\t 2.1678733711630587\t 2.311338168602687\n",
            "20 \t [ 0.70532114 -2.54247728]\t 131.80977497433668\t 0.04141072185815543\t 2.4811079991176888\t 2.3688430888842547\n"
          ]
        }
      ],
      "source": [
        "### ESTIMATED STP CBM GRADIENTS\n",
        "\n",
        "np.random.seed(run_num_2)\n",
        "surrogate_approx_2 = dtStudentProcess(cov_func, optimize=opt, nu = df)\n",
        "\n",
        "approx_2 = GPGO_multi(surrogate_approx_2, Acquisition_grad(util), objfunc, param)\n",
        "approx_2.run(init_evals=n_init, max_iter=iters)\n"
      ]
    },
    {
      "cell_type": "code",
      "execution_count": 15,
      "metadata": {
        "colab": {
          "base_uri": "https://localhost:8080/"
        },
        "id": "-dgzIrUIGCGT",
        "outputId": "942916d5-0caa-47ef-95cb-51e17b7c2e33"
      },
      "outputs": [
        {
          "output_type": "stream",
          "name": "stdout",
          "text": [
            "Evaluation \t Proposed point \t  Current eval. \t  Best eval. \t        Exact CBM: StdDev. x \t Approx CBM: StdDev. x \n",
            "init\t [0.45718112 1.8733304 ]\t 41.912714742005974\t 41.912714742005974\t    \t    \n",
            "init\t [-1.88185735  0.09744845]\t 47.451188393399434\t 41.912714742005974\t    \t    \n",
            "init\t [3.53652259 3.5666378 ]\t 27475.816689924115\t 41.912714742005974\t    \t    \n",
            "init\t [-3.36973221 -2.6348141 ]\t 5079.048973002421\t 41.912714742005974\t    \t    \n",
            "init\t [-4.03679517 -0.53271141]\t 138.4086524103332\t 41.912714742005974\t    \t    \n",
            "1  \t [ 2.52283288 -1.74272821]\t 259.55509339560894\t 41.912714742005974\t 2.758508659624749\t 3.029362464189536\n",
            "2  \t [-4.5         2.44836403]\t 3905.811021665694\t 41.912714742005974\t 2.6474215000827694\t 4.146075773533726\n",
            "3  \t [ 4.5 -4.5]\t 178131.83203125\t 41.912714742005974\t 2.895630716384669\t 3.776216810003966\n",
            "4  \t [-1.17485839  4.5       ]\t 11084.04184803263\t 41.912714742005974\t 3.22624863891097\t 3.328322099212811\n",
            "5  \t [-0.15382765 -4.5       ]\t 288.12787208278576\t 41.912714742005974\t 3.559916895107698\t 3.7097156795299697\n",
            "\u001b[1m\u001b[92m6\u001b[0m\t \u001b[1m\u001b[92m[ 4.5        -0.01651155]\u001b[0m\t \u001b[1m\u001b[92m18.024014273566486\u001b[0m\t \u001b[1m\u001b[92m18.024014273566486\u001b[0m\t \u001b[1m\u001b[92m3.8023781807807904\u001b[0m\t \u001b[1m\u001b[92m3.7034887242288823\u001b[0m\n",
            "7  \t [-0.17923383 -1.69783601]\t 21.14543615630398\t 18.024014273566486\t 2.986265812000849\t 3.4662828446357903\n",
            "\u001b[1m\u001b[92m8\u001b[0m\t \u001b[1m\u001b[92m[2.12922424 0.43202113]\u001b[0m\t \u001b[1m\u001b[92m0.7984902844611051\u001b[0m\t \u001b[1m\u001b[92m0.7984902844611051\u001b[0m\t \u001b[1m\u001b[92m3.588533628291788\u001b[0m\t \u001b[1m\u001b[92m3.352735762938101\u001b[0m\n",
            "9  \t [-2.07919155  2.10542429]\t 240.63824564199444\t 0.7984902844611051\t 3.591613487735317\t 3.2600824941482576\n",
            "10 \t [-4.5 -4.5]\t 181853.61328125\t 0.7984902844611051\t 3.783720091883644\t 3.973909857678922\n",
            "11 \t [-4.5  4.5]\t 169680.83203125\t 0.7984902844611051\t 2.8252642969469126\t 3.263662211979988\n",
            "12 \t [0.15925608 0.07080255]\t 12.2826781020493\t 0.7984902844611051\t 2.7182942591438266\t 2.300267112119456\n",
            "13 \t [1.11397848 4.5       ]\t 11204.154482354217\t 0.7984902844611051\t 3.3041140157482953\t 2.910534158806589\n",
            "14 \t [-3.66804715  1.10188465]\t 5.333511643283075\t 0.7984902844611051\t 2.949191995126461\t 2.519429294944956\n",
            "15 \t [-1.49099048 -3.00981226]\t 2155.5677400857558\t 0.7984902844611051\t 2.8145673690384188\t 2.660607114145727\n",
            "16 \t [-2.2754828  -1.42681708]\t 181.80561326705836\t 0.7984902844611051\t 2.6769167474119433\t 2.6282512088343406\n",
            "17 \t [ 1.27460916 -3.2606936 ]\t 2061.5738048492904\t 0.7984902844611051\t 2.400981587037197\t 2.6057889265193057\n",
            "18 \t [ 4.5        -1.70897065]\t 825.1417560247454\t 0.7984902844611051\t 2.7007360484228693\t 2.8223459865803187\n",
            "19 \t [3.51677106 1.30356935]\t 76.3573597804824\t 0.7984902844611051\t 2.6877898153659006\t 2.7998568786313536\n",
            "20 \t [1.97897844 2.08223731]\t 434.30936066352336\t 0.7984902844611051\t 2.707042741379825\t 2.564858551426611\n"
          ]
        }
      ],
      "source": [
        "### ESTIMATED STP CBM GRADIENTS\n",
        "\n",
        "np.random.seed(run_num_3)\n",
        "surrogate_approx_3 = dtStudentProcess(cov_func, optimize=opt, nu = df)\n",
        "\n",
        "approx_3 = GPGO_multi(surrogate_approx_3, Acquisition_grad(util), objfunc, param)\n",
        "approx_3.run(init_evals=n_init, max_iter=iters)\n"
      ]
    },
    {
      "cell_type": "code",
      "execution_count": 16,
      "metadata": {
        "colab": {
          "base_uri": "https://localhost:8080/"
        },
        "id": "hOtG-2sCGCKS",
        "outputId": "d4660746-2222-4778-d28e-5ec96cbda75c"
      },
      "outputs": [
        {
          "output_type": "stream",
          "name": "stdout",
          "text": [
            "Evaluation \t Proposed point \t  Current eval. \t  Best eval. \t        Exact CBM: StdDev. x \t Approx CBM: StdDev. x \n",
            "init\t [4.20326855 0.42509024]\t 3.8409856613776237\t 3.8409856613776237\t    \t    \n",
            "init\t [4.25415924 1.93334394]\t 1070.6518137934977\t 3.8409856613776237\t    \t    \n",
            "init\t [ 1.77955942 -2.55519454]\t 1001.3529311398922\t 3.8409856613776237\t    \t    \n",
            "init\t [ 4.28647009 -4.4439277 ]\t 150069.47442764963\t 3.8409856613776237\t    \t    \n",
            "init\t [-2.22315874 -0.58687621]\t 67.08861688517413\t 3.8409856613776237\t    \t    \n",
            "1  \t [-4.5  4.5]\t 169680.83203125\t 3.8409856613776237\t 3.627058343155844\t 4.090046942971856\n",
            "2  \t [-4.5 -4.5]\t 181853.61328125\t 3.8409856613776237\t 4.241766095730238\t 3.107535449789448\n",
            "3  \t [0.88998738 4.37964292]\t 6212.320765016894\t 3.8409856613776237\t 3.164120266961282\t 2.9296355243178867\n",
            "4  \t [0.77932498 0.53220327]\t 8.004047315397468\t 3.8409856613776237\t 2.816725787805422\t 2.920344942831067\n",
            "5  \t [-0.24598283 -4.5       ]\t 653.7054221746414\t 3.8409856613776237\t 3.1613157230648037\t 2.8654582534089443\n",
            "6  \t [4.5 4.5]\t 174813.36328125\t 3.8409856613776237\t 2.8984259025729\t 2.815558962034876\n",
            "7  \t [-1.3870593   2.00687154]\t 55.63897232258698\t 3.8409856613776237\t 2.0851347805772873\t 1.8060229193063961\n",
            "8  \t [-4.5        0.3881586]\t 102.04428411783482\t 3.8409856613776237\t 2.229861935654056\t 2.274045904418176\n",
            "9  \t [-0.53857929 -2.08767888]\t 75.22844048217544\t 3.8409856613776237\t 2.1183381928807634\t 2.1913162727860667\n",
            "10 \t [2.04430228 2.08463449]\t 461.2664407766021\t 3.8409856613776237\t 1.9720073023393165\t 2.3873299863528814\n",
            "11 \t [ 2.52660042 -0.6685883 ]\t 8.534443104532027\t 3.8409856613776237\t 2.3218309314653633\t 2.574139396038967\n",
            "12 \t [ 4.5        -1.55193041]\t 522.9388445328564\t 3.8409856613776237\t 2.7200717646794454\t 2.66327855797404\n",
            "13 \t [ 1.37929878 -4.5       ]\t 16352.603074647206\t 3.8409856613776237\t 2.4941016992651064\t 2.5151320753085926\n",
            "14 \t [-1.2282885  4.5      ]\t 12145.659231337926\t 3.8409856613776237\t 2.1145586077581076\t 2.3375654024633032\n",
            "15 \t [-4.5        -1.37763849]\t 508.88968836545115\t 3.8409856613776237\t 2.14228556280758\t 2.4754466120158733\n",
            "16 \t [-3.07948608  1.46268717]\t 17.053609894542785\t 3.8409856613776237\t 2.22496982849943\t 2.2012595029656743\n",
            "17 \t [-2.36634035 -2.52274248]\t 2053.4118908343276\t 3.8409856613776237\t 2.147141793236481\t 2.169665426859142\n",
            "18 \t [-0.7930912  0.164704 ]\t 25.465320293860305\t 3.8409856613776237\t 2.164509572806935\t 2.3383427373771593\n",
            "19 \t [0.29170836 2.41119195]\t 58.2570048271602\t 3.8409856613776237\t 2.180848095195438\t 2.513260272590449\n",
            "20 \t [ 0.79373327 -1.12932484]\t 6.603404740581778\t 3.8409856613776237\t 2.2235482304619314\t 2.3940190240821657\n"
          ]
        }
      ],
      "source": [
        "### ESTIMATED STP CBM GRADIENTS\n",
        "\n",
        "np.random.seed(run_num_4)\n",
        "surrogate_approx_4 = dtStudentProcess(cov_func, optimize=opt, nu = df)\n",
        "\n",
        "approx_4= GPGO_multi(surrogate_approx_4, Acquisition_grad(util), objfunc, param)\n",
        "approx_4.run(init_evals=n_init, max_iter=iters)\n"
      ]
    },
    {
      "cell_type": "code",
      "execution_count": 17,
      "metadata": {
        "colab": {
          "base_uri": "https://localhost:8080/"
        },
        "id": "JF_SxcEvGCOl",
        "outputId": "8af9b5f0-c0bd-4896-9c30-0ed8d6187c58"
      },
      "outputs": [
        {
          "output_type": "stream",
          "name": "stdout",
          "text": [
            "Evaluation \t Proposed point \t  Current eval. \t  Best eval. \t        Exact CBM: StdDev. x \t Approx CBM: StdDev. x \n",
            "init\t [-2.50206146  3.33659076]\t 8263.905568073349\t 0.311397019260738\t    \t    \n",
            "init\t [-2.6395276   3.76749817]\t 19560.15202528338\t 0.311397019260738\t    \t    \n",
            "init\t [-0.1042993   1.00569477]\t 14.186578993925806\t 0.311397019260738\t    \t    \n",
            "init\t [2.39317071 0.16576189]\t 0.311397019260738\t 0.311397019260738\t    \t    \n",
            "init\t [-1.82879549 -2.81050894]\t 2208.9823086257425\t 0.311397019260738\t    \t    \n",
            "1  \t [ 4.5 -4.5]\t 178131.83203125\t 0.311397019260738\t 3.879483434111206\t 4.211396857451553\n",
            "2  \t [4.5 4.5]\t 174813.36328125\t 0.311397019260738\t 4.425635284558393\t 3.7737167435275802\n",
            "3  \t [-4.5 -4.5]\t 181853.61328125\t 0.311397019260738\t 3.379196218531233\t 3.814436126188617\n",
            "4  \t [-4.5         0.16578973]\t 121.98579264276603\t 0.311397019260738\t 2.330420426901939\t 3.3171834219272256\n",
            "5  \t [ 0.95815348 -2.19001257]\t 107.59690093806407\t 0.311397019260738\t 2.143926283064412\t 2.72989634824636\n",
            "6  \t [0.55685374 4.5       ]\t 2969.1502754056883\t 0.311397019260738\t 2.2802413468175704\t 2.913710622454331\n",
            "7  \t [ 0.22606461 -4.5       ]\t 374.93263427693944\t 0.311397019260738\t 2.076441075631042\t 3.0140689752402583\n",
            "8  \t [ 4.5        -0.56952526]\t 38.89415437975838\t 0.311397019260738\t 2.6350253274751636\t 3.70933898134705\n",
            "9  \t [-2.13018187 -0.24995627]\t 58.29455353870331\t 0.311397019260738\t 2.1550048460454234\t 2.8454871459815094\n",
            "10 \t [1.05226333 2.36536839]\t 299.02851422272624\t 0.311397019260738\t 2.4148007729189924\t 3.1600465304458116\n",
            "11 \t [-0.37553255 -0.96193051]\t 21.313451041444207\t 0.311397019260738\t 2.582256802131899\t 3.373948384749065\n",
            "12 \t [ 2.83031689 -1.72284011]\t 315.1460836283407\t 0.311397019260738\t 2.3540340921746714\t 2.747192317164497\n",
            "13 \t [4.5        1.28624563]\t 94.06621676913954\t 0.311397019260738\t 2.5603255056905\t 3.1905035139799085\n",
            "14 \t [-3.10835606  1.40179005]\t 8.626688348578298\t 0.311397019260738\t 2.205674902933635\t 3.017365762067514\n",
            "15 \t [-3.63464443 -1.44721097]\t 409.51332585799486\t 0.311397019260738\t 2.1337983818540147\t 3.2828638646151367\n",
            "16 \t [-4.5         2.50814755]\t 4573.018573293845\t 0.311397019260738\t 2.4654818143958814\t 3.1159655362797363\n",
            "17 \t [-4.5  4.5]\t 169680.83203125\t 0.311397019260738\t 2.113838404614469\t 3.3081999587933124\n",
            "18 \t [2.80325894 2.01197135]\t 648.4827517319644\t 0.311397019260738\t 2.6536517875180645\t 2.194605301910632\n",
            "19 \t [-0.76546505  2.79986455]\t 188.7701668698959\t 0.311397019260738\t 2.0478880917199773\t 2.1122104956097933\n",
            "20 \t [2.53375049 4.05290512]\t 30277.611427460448\t 0.311397019260738\t 2.516549691329755\t 2.077283274159662\n"
          ]
        }
      ],
      "source": [
        "### ESTIMATED STP CBM GRADIENTS\n",
        "\n",
        "np.random.seed(run_num_5)\n",
        "surrogate_approx_5 = dtStudentProcess(cov_func, optimize=opt, nu = df)\n",
        "\n",
        "approx_5 = GPGO_multi(surrogate_approx_5, Acquisition_grad(util), objfunc, param)\n",
        "approx_5.run(init_evals=n_init, max_iter=iters)\n"
      ]
    },
    {
      "cell_type": "code",
      "execution_count": 18,
      "metadata": {
        "id": "-kDxZtJsGCR3",
        "colab": {
          "base_uri": "https://localhost:8080/"
        },
        "outputId": "84091ef2-a25c-476b-d6f6-01dadfbb71f0"
      },
      "outputs": [
        {
          "output_type": "stream",
          "name": "stdout",
          "text": [
            "Evaluation \t Proposed point \t  Current eval. \t  Best eval. \t        Exact CBM: StdDev. x \t Approx CBM: StdDev. x \n",
            "init\t [ 3.53574136 -1.51218175]\t 273.3122030790333\t 10.038000709758428\t    \t    \n",
            "init\t [ 2.89106211 -4.12473037]\t 43803.250406689425\t 10.038000709758428\t    \t    \n",
            "init\t [-3.53108988  0.85546858]\t 29.828433746298536\t 10.038000709758428\t    \t    \n",
            "init\t [ 0.26835626 -0.73073314]\t 10.658925295067505\t 10.038000709758428\t    \t    \n",
            "init\t [-1.48132936  1.10267489]\t 10.038000709758428\t 10.038000709758428\t    \t    \n",
            "1  \t [4.20133593 1.12711191]\t 35.310302628632016\t 10.038000709758428\t 3.762419580456152\t 4.045295156192806\n",
            "2  \t [-4.5 -4.5]\t 181853.61328125\t 10.038000709758428\t 4.384359912599815\t 4.313341925381799\n",
            "3  \t [1.11727701 4.5       ]\t 11268.633630722454\t 10.038000709758428\t 3.0138692590951606\t 3.5524239908909285\n",
            "4  \t [-4.5  4.5]\t 169680.83203125\t 10.038000709758428\t 3.0022501479083834\t 4.120070837355669\n",
            "5  \t [4.5 4.5]\t 174813.36328125\t 10.038000709758428\t 2.9909612408823207\t 3.1453594551338147\n",
            "6  \t [-0.68727741 -3.2512901 ]\t 763.6870050644343\t 10.038000709758428\t 1.8171657050257697\t 2.394789168414155\n",
            "7  \t [1.61308064 1.35762177]\t 42.8312108810675\t 10.038000709758428\t 2.4684499554809913\t 3.032980168263782\n",
            "8  \t [-2.33544521 -1.28614304]\t 145.88248506956916\t 10.038000709758428\t 1.7854542502105726\t 2.6265694434219893\n",
            "9  \t [-1.5607088   3.32462366]\t 3011.8277046351486\t 10.038000709758428\t 2.5045754946577383\t 3.053586406360129\n",
            "10 \t [-4.5       -1.3026078]\t 432.90796075499554\t 10.038000709758428\t 2.42569621425642\t 3.0455285125017566\n",
            "\u001b[1m\u001b[92m11\u001b[0m\t \u001b[1m\u001b[92m[ 2.16952397 -0.40331394]\u001b[0m\t \u001b[1m\u001b[92m2.6714272012046023\u001b[0m\t \u001b[1m\u001b[92m2.6714272012046023\u001b[0m\t \u001b[1m\u001b[92m2.0993581784069972\u001b[0m\t \u001b[1m\u001b[92m2.806538542290088\u001b[0m\n",
            "12 \t [0.10011671 2.31709611]\t 24.100795739085534\t 2.6714272012046023\t 2.1630091469638515\t 2.7751684965386123\n",
            "13 \t [ 1.37127874 -2.15251681]\t 214.5934090109493\t 2.6714272012046023\t 2.7383164008633685\t 3.090451611460964\n",
            "14 \t [ 4.5        -0.41543049]\t 30.711850820146427\t 2.6714272012046023\t 2.577832769392427\t 2.8124257708666125\n",
            "15 \t [ 0.31631765 -4.5       ]\t 772.6840460281586\t 2.6714272012046023\t 1.9947058282968446\t 2.9307558877164284\n",
            "16 \t [-1.52335431 -4.5       ]\t 21269.326014442\t 2.6714272012046023\t 2.4594288302562073\t 2.50187814678166\n",
            "17 \t [2.91940413 2.4284943 ]\t 2029.7372283371622\t 2.6714272012046023\t 2.601509661418029\t 3.0440080285375486\n",
            "18 \t [-3.10963735  2.36296824]\t 1397.22170005086\t 2.6714272012046023\t 2.1560947090154503\t 2.7571927518308383\n",
            "19 \t [-1.1671602  -0.36765263]\t 35.03430425837146\t 2.6714272012046023\t 2.643115879447108\t 3.345885356055749\n",
            "20 \t [-2.94618382 -2.86599594]\t 6141.429170520605\t 2.6714272012046023\t 2.6035677732042113\t 2.684101045486834\n"
          ]
        }
      ],
      "source": [
        "### ESTIMATED STP CBM GRADIENTS\n",
        "\n",
        "np.random.seed(run_num_6)\n",
        "surrogate_approx_6 = dtStudentProcess(cov_func, optimize=opt, nu = df)\n",
        "\n",
        "approx_6 = GPGO_multi(surrogate_approx_6, Acquisition_grad(util), objfunc, param)\n",
        "approx_6.run(init_evals=n_init, max_iter=iters)\n"
      ]
    },
    {
      "cell_type": "code",
      "execution_count": 19,
      "metadata": {
        "id": "fKB8MCD_GCVI",
        "colab": {
          "base_uri": "https://localhost:8080/"
        },
        "outputId": "c9f72755-0082-42c9-c9b2-5fb867bf220b"
      },
      "outputs": [
        {
          "output_type": "stream",
          "name": "stdout",
          "text": [
            "Evaluation \t Proposed point \t  Current eval. \t  Best eval. \t        Exact CBM: StdDev. x \t Approx CBM: StdDev. x \n",
            "init\t [-3.8132254   2.51926913]\t 3321.1422834954587\t 2.9676923934097053\t    \t    \n",
            "init\t [-0.55431692  2.0111866 ]\t 2.9676923934097053\t 2.9676923934097053\t    \t    \n",
            "init\t [4.30190561 0.34646283]\t 6.32173172477085\t 2.9676923934097053\t    \t    \n",
            "init\t [ 0.01008417 -3.8515398 ]\t 11.971894461559128\t 2.9676923934097053\t    \t    \n",
            "init\t [-2.08404918e+00 -1.05749257e-03]\t 53.820317186435204\t 2.9676923934097053\t    \t    \n",
            "1  \t [1.73181974 4.3167746 ]\t 20784.448362141437\t 2.9676923934097053\t 3.507492547681479\t 3.8677249414332406\n",
            "2  \t [ 4.5 -4.5]\t 178131.83203125\t 2.9676923934097053\t 4.019779436871235\t 4.077679159699629\n",
            "3  \t [-4.5 -4.5]\t 181853.61328125\t 2.9676923934097053\t 4.284599450854888\t 4.081381363825625\n",
            "4  \t [-3.5381093  -1.17462676]\t 226.89781537510947\t 2.9676923934097053\t 2.6774183850541804\t 2.6774183850541804\n",
            "5  \t [ 1.19440699 -0.7370009 ]\t 4.14226913709253\t 2.9676923934097053\t 2.7163069621075575\t 3.385013226674666\n",
            "6  \t [4.5        2.86502061]\t 12107.070979118802\t 2.9676923934097053\t 2.902025203192652\t 3.9075375695991297\n",
            "7  \t [-1.80997378  4.5       ]\t 26845.507308778866\t 2.9676923934097053\t 2.7478947179352504\t 3.4030665897899466\n",
            "8  \t [-1.12155018 -1.98515289]\t 181.36768078082235\t 2.9676923934097053\t 2.8947923771052912\t 3.2292623571696093\n",
            "9  \t [1.92332979 1.31224351]\t 43.13150802300483\t 2.9676923934097053\t 3.2683357652471665\t 3.4780824952292266\n",
            "10 \t [ 3.13828127 -1.35170842]\t 126.35259336061196\t 2.9676923934097053\t 3.083373989769929\t 3.719083190632553\n",
            "11 \t [-4.5  4.5]\t 169680.83203125\t 2.9676923934097053\t 2.8292417078876926\t 3.48786823107867\n",
            "12 \t [-4.5         0.72575418]\t 55.86943755222453\t 2.9676923934097053\t 3.455136761848701\t 3.293088836503473\n",
            "13 \t [ 1.56332591 -2.73818808]\t 1135.9047826163453\t 2.9676923934097053\t 3.0939256275698472\t 2.7476577958860418\n",
            "14 \t [-0.2654587   0.19744086]\t 17.55304970266813\t 2.9676923934097053\t 2.940411871994932\t 2.5956041466967528\n",
            "15 \t [-2.39398324  1.71877456]\t 56.877188099341296\t 2.9676923934097053\t 2.764665775056919\t 2.8590869647244608\n",
            "16 \t [-1.72025756 -4.5       ]\t 27027.2094433518\t 2.9676923934097053\t 3.185615269221816\t 2.7252300337333177\n",
            "17 \t [4.5 4.5]\t 174813.36328125\t 2.9676923934097053\t 2.986456137804775\t 2.8929165724632617\n",
            "18 \t [ 2.11936363 -4.5       ]\t 39059.25720530637\t 2.9676923934097053\t 2.8194576788378427\t 2.605859164026454\n",
            "19 \t [3.4561837  1.68800336]\t 339.10735746905186\t 2.9676923934097053\t 1.932170270415156\t 2.5487197497938086\n",
            "20 \t [0.87550591 2.55377638]\t 325.0768749863051\t 2.9676923934097053\t 1.9628291508179718\t 2.43771575491699\n"
          ]
        }
      ],
      "source": [
        "### ESTIMATED STP CBM GRADIENTS\n",
        "\n",
        "np.random.seed(run_num_7)\n",
        "surrogate_approx_7 = dtStudentProcess(cov_func, optimize=opt, nu = df)\n",
        "\n",
        "approx_7 = GPGO_multi(surrogate_approx_7, Acquisition_grad(util), objfunc, param)\n",
        "approx_7.run(init_evals=n_init, max_iter=iters)\n"
      ]
    },
    {
      "cell_type": "code",
      "execution_count": 20,
      "metadata": {
        "id": "4unvifF-GCXp",
        "colab": {
          "base_uri": "https://localhost:8080/"
        },
        "outputId": "38b6b9ec-6270-43d5-b6d2-7b8b5dafdceb"
      },
      "outputs": [
        {
          "output_type": "stream",
          "name": "stdout",
          "text": [
            "Evaluation \t Proposed point \t  Current eval. \t  Best eval. \t        Exact CBM: StdDev. x \t Approx CBM: StdDev. x \n",
            "init\t [3.36086463 4.21686597]\t 66731.07602386779\t 1.8693348557707412\t    \t    \n",
            "init\t [3.32275086 0.27770122]\t 1.8693348557707412\t 1.8693348557707412\t    \t    \n",
            "init\t [-2.40544505 -4.39741076]\t 45883.361726150484\t 1.8693348557707412\t    \t    \n",
            "init\t [-0.62578064 -0.87883776]\t 26.39306084619828\t 1.8693348557707412\t    \t    \n",
            "init\t [ 0.20407204 -0.19447384]\t 11.649230998110728\t 1.8693348557707412\t    \t    \n",
            "1  \t [ 3.98297475 -3.55361937]\t 35070.39660948274\t 1.8693348557707412\t 2.6917608486327493\t 4.1775436157985135\n",
            "2  \t [-4.5  4.5]\t 169680.83203125\t 1.8693348557707412\t 3.0111704601490725\t 4.039606863055\n",
            "3  \t [-4.5        -0.36303541]\t 150.06058221982462\t 1.8693348557707412\t 2.7557822038368163\t 2.970592187791162\n",
            "4  \t [-0.54614547  2.57312085]\t 38.69979669491389\t 1.8693348557707412\t 3.185812722735869\t 3.0605548438270507\n",
            "5  \t [-2.40999587  0.92929288]\t 19.055934268702586\t 1.8693348557707412\t 3.0425747446815676\t 2.8209128492860316\n",
            "6  \t [ 0.74471455 -2.86749543]\t 305.92220784417896\t 1.8693348557707412\t 3.0977827827409685\t 2.985760034399794\n",
            "7  \t [-0.24331178  4.5       ]\t 378.96769415775964\t 1.8693348557707412\t 3.270519618764301\t 2.886045546382191\n",
            "8  \t [1.45093127 1.52777201]\t 62.95087944097767\t 1.8693348557707412\t 3.388476979388055\t 3.100726462259857\n",
            "9  \t [-2.69795904 -1.31666961]\t 191.96104600427537\t 1.8693348557707412\t 2.7657209632134303\t 2.8264984004502334\n",
            "10 \t [ 1.99484592 -1.20216959]\t 26.258264863155503\t 1.8693348557707412\t 2.741577871069672\t 2.973760055480575\n",
            "11 \t [-4.5        -2.41260059]\t 5606.791865802134\t 1.8693348557707412\t 3.389125365354791\t 3.3055723930423704\n",
            "12 \t [4.5      1.488594]\t 241.48977432184643\t 1.8693348557707412\t 3.222820360065218\t 3.313316058039378\n",
            "13 \t [ 4.5        -0.89514687]\t 77.2709441955885\t 1.8693348557707412\t 3.2655885518779755\t 3.1669636365473792\n",
            "14 \t [-2.10584297  2.58959091]\t 1112.4882711469063\t 1.8693348557707412\t 3.474836823945176\t 3.202494853134196\n",
            "15 \t [ 1.10293572 -4.5       ]\t 10369.856070433367\t 1.8693348557707412\t 2.920944001518807\t 2.8135585978584747\n",
            "16 \t [-0.75419444  1.00752666]\t 14.045190014054969\t 1.8693348557707412\t 2.8672766961607374\t 2.5506618255966163\n",
            "17 \t [-4.5         1.28995646]\t 7.0044404524973825\t 1.8693348557707412\t 3.4900235522890073\t 3.3284506604834636\n",
            "18 \t [-0.85072166 -2.36377221]\t 238.1841327592164\t 1.8693348557707412\t 2.78402579464159\t 2.8970767476274313\n",
            "19 \t [-4.5 -4.5]\t 181853.61328125\t 1.8693348557707412\t 3.6703599876537867\t 3.153706826842218\n",
            "20 \t [0.95553778 3.22522054]\t 1276.843304698371\t 1.8693348557707412\t 2.4933390596325244\t 2.567264135983112\n"
          ]
        }
      ],
      "source": [
        "### ESTIMATED STP CBM GRADIENTS\n",
        "\n",
        "np.random.seed(run_num_8)\n",
        "surrogate_approx_8 = dtStudentProcess(cov_func, optimize=opt, nu = df)\n",
        "\n",
        "approx_8 = GPGO_multi(surrogate_approx_8, Acquisition_grad(util), objfunc, param)\n",
        "approx_8.run(init_evals=n_init, max_iter=iters)\n"
      ]
    },
    {
      "cell_type": "code",
      "execution_count": 21,
      "metadata": {
        "id": "85OIXcg7GCaJ",
        "colab": {
          "base_uri": "https://localhost:8080/"
        },
        "outputId": "67deaddd-fb5d-4a8d-c167-17529c672f3b"
      },
      "outputs": [
        {
          "output_type": "stream",
          "name": "stdout",
          "text": [
            "Evaluation \t Proposed point \t  Current eval. \t  Best eval. \t        Exact CBM: StdDev. x \t Approx CBM: StdDev. x \n",
            "init\t [-4.40663262  0.01687133]\t 127.7531900635415\t 22.479204656276803\t    \t    \n",
            "init\t [-0.03804036 -3.29553424]\t 22.479204656276803\t 22.479204656276803\t    \t    \n",
            "init\t [-3.22100023 -2.53297192]\t 3783.0538402600087\t 22.479204656276803\t    \t    \n",
            "init\t [-0.73342638 -2.26708948]\t 157.51337782244087\t 22.479204656276803\t    \t    \n",
            "init\t [-3.74346314 -1.39051224]\t 380.7730677650304\t 22.479204656276803\t    \t    \n",
            "1  \t [2.73365793 4.35023323]\t 53339.37070055468\t 22.479204656276803\t 2.7786502274240776\t 2.6909551450303826\n",
            "2  \t [ 4.49888187 -3.64280031]\t 51790.7454303849\t 22.479204656276803\t 2.7337772367164535\t 3.919423153153339\n",
            "3  \t [-3.23147171  4.5       ]\t 86987.47402358249\t 22.479204656276803\t 2.6335212896794116\t 2.9774380839543957\n",
            "\u001b[1m\u001b[92m4\u001b[0m\t \u001b[1m\u001b[92m[ 1.46476118 -0.0288966 ]\u001b[0m\t \u001b[1m\u001b[92m1.9646446821347947\u001b[0m\t \u001b[1m\u001b[92m1.9646446821347947\u001b[0m\t \u001b[1m\u001b[92m2.804075530295179\u001b[0m\t \u001b[1m\u001b[92m2.56819500957722\u001b[0m\n",
            "5  \t [4.5        0.56244939]\t 2.0570715844004464\t 1.9646446821347947\t 3.455635265866223\t 3.0269514723402793\n",
            "6  \t [-1.3100768   0.62551859]\t 26.31376568732223\t 1.9646446821347947\t 2.2112568224200126\t 2.587838592807756\n",
            "7  \t [-4.5 -4.5]\t 181853.61328125\t 1.9646446821347947\t 3.567623957957211\t 2.8397440417224704\n",
            "8  \t [-0.04335193  2.48668619]\t 10.169536969383943\t 1.9646446821347947\t 2.8147571743801243\t 2.737636272816557\n",
            "9  \t [ 1.73785656 -2.11092826]\t 322.42497916266115\t 1.9646446821347947\t 3.010021471985082\t 3.0366658118401317\n",
            "10 \t [ 1.51799343 -4.5       ]\t 19866.72390320698\t 1.9646446821347947\t 2.7438289943556273\t 2.854717891602686\n",
            "11 \t [2.69497747 1.41383819]\t 88.2139175973202\t 1.9646446821347947\t 2.730763065784389\t 2.818509573145679\n",
            "12 \t [-3.10694841  1.38439647]\t 6.75893755222075\t 1.9646446821347947\t 2.7018265100369336\t 2.565418335920441\n",
            "13 \t [ 3.30799555 -0.86453757]\t 31.745370489489652\t 1.9646446821347947\t 2.6505127642585533\t 2.468289654956454\n",
            "14 \t [-2.0361846  -0.96673567]\t 78.24186003333114\t 1.9646446821347947\t 2.705797568798563\t 2.3136539225397375\n",
            "15 \t [-0.16087296  4.5       ]\t 142.5791152746474\t 1.9646446821347947\t 2.349031821028244\t 2.5177118436362154\n",
            "16 \t [-1.25111168 -4.5       ]\t 14443.520287870106\t 1.9646446821347947\t 2.8111690478368283\t 3.198945488251501\n",
            "17 \t [4.5        2.39570127]\t 4216.343880066869\t 1.9646446821347947\t 2.9318648487776864\t 2.9300212052773404\n",
            "18 \t [-0.07172569 -0.6822094 ]\t 15.258724041269897\t 1.9646446821347947\t 2.0049223017114532\t 2.453187042404809\n",
            "19 \t [-4.5         1.87555896]\t 597.557669256552\t 1.9646446821347947\t 3.3054420923969086\t 2.883693149627479\n",
            "20 \t [1.02081795 1.46395563]\t 38.67803328983263\t 1.9646446821347947\t 3.010171899955751\t 2.8753109355724296\n"
          ]
        }
      ],
      "source": [
        "### ESTIMATED STP CBM GRADIENTS\n",
        "\n",
        "np.random.seed(run_num_9)\n",
        "surrogate_approx_9 = dtStudentProcess(cov_func, optimize=opt, nu = df)\n",
        "\n",
        "approx_9 = GPGO_multi(surrogate_approx_9, Acquisition_grad(util), objfunc, param)\n",
        "approx_9.run(init_evals=n_init, max_iter=iters)\n"
      ]
    },
    {
      "cell_type": "code",
      "execution_count": 22,
      "metadata": {
        "id": "QQBR-qJPGCcp",
        "colab": {
          "base_uri": "https://localhost:8080/"
        },
        "outputId": "ee510b85-573d-481b-a171-6ab473037210"
      },
      "outputs": [
        {
          "output_type": "stream",
          "name": "stdout",
          "text": [
            "Evaluation \t Proposed point \t  Current eval. \t  Best eval. \t        Exact CBM: StdDev. x \t Approx CBM: StdDev. x \n",
            "init\t [ 2.44188579 -4.31323246]\t 40500.708995062356\t 15.229523981513257\t    \t    \n",
            "init\t [1.20283411 2.23923494]\t 281.8768699287936\t 15.229523981513257\t    \t    \n",
            "init\t [-0.01343689 -2.47683019]\t 15.229523981513257\t 15.229523981513257\t    \t    \n",
            "init\t [-2.71743422  2.34477641]\t 985.5637470908332\t 15.229523981513257\t    \t    \n",
            "init\t [-2.97800247 -3.70494167]\t 26177.1461164703\t 15.229523981513257\t    \t    \n",
            "1  \t [4.5 4.5]\t 174813.36328125\t 15.229523981513257\t 3.008599634561343\t 3.629561060005143\n",
            "2  \t [ 4.5        -0.23082122]\t 24.07836707616832\t 15.229523981513257\t 2.337164607275677\t 3.295004029303269\n",
            "3  \t [-4.5        -0.28465315]\t 146.0405319526674\t 15.229523981513257\t 2.4311257478509587\t 3.8240430675494603\n",
            "4  \t [-4.5  4.5]\t 169680.83203125\t 15.229523981513257\t 3.0145388140777123\t 3.527257537673642\n",
            "5  \t [-1.01943762  0.14470031]\t 29.43555363297914\t 15.229523981513257\t 2.7245711747301953\t 3.1643327772810927\n",
            "6  \t [0.09298606 4.45732906]\t 135.27309231382554\t 15.229523981513257\t 2.8702163908238685\t 3.3661468661461544\n",
            "\u001b[1m\u001b[92m7\u001b[0m\t \u001b[1m\u001b[92m[ 1.79451421 -0.4198857 ]\u001b[0m\t \u001b[1m\u001b[92m2.1807963196097138\u001b[0m\t \u001b[1m\u001b[92m2.1807963196097138\u001b[0m\t \u001b[1m\u001b[92m2.6214108543614976\u001b[0m\t \u001b[1m\u001b[92m2.9589902783898006\u001b[0m\n",
            "8  \t [ 4.5        -2.31190053]\t 3959.0216579682783\t 2.1807963196097138\t 2.6423447019251234\t 3.09488630705717\n",
            "9  \t [-0.78745208  2.44154225]\t 67.65433682672118\t 2.1807963196097138\t 2.6345523518078062\t 2.8672874307017793\n",
            "10 \t [3.12774227 1.28695036]\t 62.25540825125551\t 2.1807963196097138\t 3.211857092919523\t 3.3514146852610422\n",
            "11 \t [-0.36932559 -4.5       ]\t 1379.2429334865647\t 2.1807963196097138\t 3.0593864597464444\t 3.532113706054306\n",
            "12 \t [-2.59809773 -0.96983532]\t 107.23186174260388\t 2.1807963196097138\t 2.219390812686477\t 2.5595122087960993\n",
            "13 \t [-1.49137014  4.5       ]\t 18081.124925227745\t 2.1807963196097138\t 2.229540190079277\t 3.3736129930392775\n",
            "14 \t [0.52297547 0.70033671]\t 10.944789163210277\t 2.1807963196097138\t 3.330169455971363\t 3.849396205007878\n",
            "15 \t [-4.5         1.36357234]\t 20.985689818951453\t 2.1807963196097138\t 3.481110435529768\t 3.8156461669359194\n",
            "16 \t [ 1.51102289 -2.14457354]\t 259.8411693577184\t 2.1807963196097138\t 2.5084702359183666\t 3.5424762779810766\n",
            "17 \t [1.90692104 4.20862387]\t 21634.046294024865\t 2.1807963196097138\t 3.366203816585078\t 3.31493969003356\n",
            "18 \t [-4.5        -1.99693239]\t 2195.4376772811997\t 2.1807963196097138\t 2.707493392900176\t 3.099688871004145\n",
            "19 \t [-2.85682963  0.63584299]\t 44.608278943898966\t 2.1807963196097138\t 2.6945587494991106\t 3.0562220976591443\n",
            "20 \t [ 4.5 -4.5]\t 178131.83203125\t 2.1807963196097138\t 2.8859051438300245\t 3.2169223019455484\n"
          ]
        }
      ],
      "source": [
        "### ESTIMATED STP CBM GRADIENTS\n",
        "\n",
        "np.random.seed(run_num_10)\n",
        "surrogate_approx_10 = dtStudentProcess(cov_func, optimize=opt, nu = df)\n",
        "\n",
        "approx_10 = GPGO_multi(surrogate_approx_10, Acquisition_grad(util), objfunc, param)\n",
        "approx_10.run(init_evals=n_init, max_iter=iters)\n"
      ]
    },
    {
      "cell_type": "code",
      "execution_count": 23,
      "metadata": {
        "id": "JS8ejeQ2GCfi",
        "colab": {
          "base_uri": "https://localhost:8080/"
        },
        "outputId": "70ab8144-ae1f-4d3d-db87-d12558592859"
      },
      "outputs": [
        {
          "output_type": "stream",
          "name": "stdout",
          "text": [
            "Evaluation \t Proposed point \t  Current eval. \t  Best eval. \t        Exact CBM: StdDev. x \t Approx CBM: StdDev. x \n",
            "init\t [-2.8775728  -4.32472283]\t 59421.14819100274\t 2.8907294990196846\t    \t    \n",
            "init\t [-0.33103326  2.02440536]\t 2.8907294990196846\t 2.8907294990196846\t    \t    \n",
            "init\t [-0.71816756 -0.13115612]\t 25.271447350027046\t 2.8907294990196846\t    \t    \n",
            "init\t [-4.38497267 -0.11365553]\t 133.2515796886641\t 2.8907294990196846\t    \t    \n",
            "init\t [3.97625987 3.1571558 ]\t 16859.81677190551\t 2.8907294990196846\t    \t    \n",
            "1  \t [ 4.5 -4.5]\t 178131.83203125\t 2.8907294990196846\t 2.805392947465374\t 4.096330748748039\n",
            "2  \t [-4.5  4.5]\t 169680.83203125\t 2.8907294990196846\t 2.0738787362864515\t 3.134685458985447\n",
            "3  \t [ 2.29214575 -0.50276552]\t 4.071665644563369\t 2.8907294990196846\t 2.9716254939132525\t 2.6645072804226713\n",
            "4  \t [0.50385571 4.5       ]\t 2460.795153607628\t 2.8907294990196846\t 2.6790233057315973\t 2.496612397880806\n",
            "5  \t [ 0.64835819 -2.71704645]\t 163.25708946083597\t 2.8907294990196846\t 2.920679331480116\t 2.59274957899924\n",
            "6  \t [ 4.5       -0.1814954]\t 22.60208565791729\t 2.8907294990196846\t 3.261740067199954\t 3.222850566898748\n",
            "\u001b[1m\u001b[92m7\u001b[0m\t \u001b[1m\u001b[92m[-2.5749114   1.31232794]\u001b[0m\t \u001b[1m\u001b[92m1.0204685581009623\u001b[0m\t \u001b[1m\u001b[92m1.0204685581009623\u001b[0m\t \u001b[1m\u001b[92m3.250306576473392\u001b[0m\t \u001b[1m\u001b[92m2.576826274980035\u001b[0m\n",
            "8  \t [1.73455446 1.58740308]\t 91.50869430207496\t 1.0204685581009623\t 3.4593547879265913\t 2.665669653314446\n",
            "9  \t [-2.53030269 -1.19593996]\t 141.0768074485326\t 1.0204685581009623\t 3.040455558607295\t 2.5005220065989837\n",
            "10 \t [-1.36486245  3.72069041]\t 4635.490780949429\t 1.0204685581009623\t 3.4051014137938806\t 2.8431268629979267\n",
            "11 \t [ 0.64890356 -4.5       ]\t 3488.3107780557034\t 1.0204685581009623\t 3.7625112105678795\t 2.98682223873366\n",
            "12 \t [-4.5         1.48780712]\t 70.00938150270655\t 1.0204685581009623\t 3.600090231212499\t 3.2925474997129776\n",
            "13 \t [1.8008811 3.412645 ]\t 5734.645154036313\t 1.0204685581009623\t 3.823618994767616\t 2.8031569371318916\n",
            "14 \t [-4.5        -2.00396674]\t 2232.035008713665\t 1.0204685581009623\t 3.6496163109323034\t 3.365510329488951\n",
            "15 \t [-0.92601554 -2.04040308]\t 149.4378386107488\t 1.0204685581009623\t 3.6785577949060313\t 2.9687174519057438\n",
            "16 \t [ 2.38454545 -2.18430307]\t 769.2011265396638\t 1.0204685581009623\t 3.333490595087632\t 2.6727652626779426\n",
            "17 \t [ 0.71972043 -0.89153285]\t 6.385818117552463\t 1.0204685581009623\t 3.72727665459242\t 3.0309793173400923\n",
            "18 \t [ 4.5        -1.69605781]\t 795.2941090063566\t 1.0204685581009623\t 3.3845576568350193\t 2.9918364767985333\n",
            "19 \t [3.32104142 0.92594909]\t 8.493716120241745\t 1.0204685581009623\t 4.296502334926552\t 3.246156414642383\n",
            "20 \t [-2.20375904  0.08436699]\t 55.3757881301815\t 1.0204685581009623\t 4.165678806774069\t 3.2580519081560233\n"
          ]
        }
      ],
      "source": [
        "### ESTIMATED STP CBM GRADIENTS\n",
        "\n",
        "np.random.seed(run_num_11)\n",
        "surrogate_approx_11 = dtStudentProcess(cov_func, optimize=opt, nu = df)\n",
        "\n",
        "approx_11 = GPGO_multi(surrogate_approx_11, Acquisition_grad(util), objfunc, param)\n",
        "approx_11.run(init_evals=n_init, max_iter=iters)\n"
      ]
    },
    {
      "cell_type": "code",
      "execution_count": 24,
      "metadata": {
        "id": "DXwjUVZ4GCii",
        "colab": {
          "base_uri": "https://localhost:8080/"
        },
        "outputId": "e690d5e4-2b91-423d-9daa-2bbeaa9c0c57"
      },
      "outputs": [
        {
          "output_type": "stream",
          "name": "stdout",
          "text": [
            "Evaluation \t Proposed point \t  Current eval. \t  Best eval. \t        Exact CBM: StdDev. x \t Approx CBM: StdDev. x \n",
            "init\t [-3.11253442  2.16044727]\t 746.3412720881302\t 48.45196617039589\t    \t    \n",
            "init\t [-2.13016486  0.30365454]\t 48.45196617039589\t 48.45196617039589\t    \t    \n",
            "init\t [-4.36882534  3.76872307]\t 54651.235607336355\t 48.45196617039589\t    \t    \n",
            "init\t [ 3.60643369 -4.19920715]\t 76007.68460600567\t 48.45196617039589\t    \t    \n",
            "init\t [ 4.11254403 -3.26511611]\t 22941.17826205435\t 48.45196617039589\t    \t    \n",
            "1  \t [-0.72304443  2.53089834]\t 73.02216278592684\t 48.45196617039589\t 3.9039304993710067\t 3.500222542133336\n",
            "2  \t [4.5 4.5]\t 174813.36328125\t 48.45196617039589\t 4.399841230513107\t 3.890861801693242\n",
            "3  \t [-4.5 -4.5]\t 181853.61328125\t 48.45196617039589\t 2.963311992722151\t 3.0921224599979795\n",
            "\u001b[1m\u001b[92m4\u001b[0m\t \u001b[1m\u001b[92m[1.74760844 0.21441787]\u001b[0m\t \u001b[1m\u001b[92m1.156084007785007\u001b[0m\t \u001b[1m\u001b[92m1.156084007785007\u001b[0m\t \u001b[1m\u001b[92m2.2445924253015654\u001b[0m\t \u001b[1m\u001b[92m1.7738266342394988\u001b[0m\n",
            "5  \t [-0.36712457 -2.28584395]\t 62.2320754932272\t 1.156084007785007\t 2.4144626516736545\t 2.3598068596886783\n",
            "6  \t [-4.5        -0.21574215]\t 142.78297431398138\t 1.156084007785007\t 2.5522493048770496\t 2.831614192526574\n",
            "7  \t [4.5        0.06091825]\t 15.929797134591134\t 1.156084007785007\t 2.1708455762235004\t 2.468426359587893\n",
            "8  \t [0.55225006 4.5       ]\t 2923.097044162644\t 1.156084007785007\t 2.670792365250591\t 2.530841059497652\n",
            "9  \t [-0.29795189 -4.5       ]\t 926.4354070936188\t 1.156084007785007\t 2.319542699650866\t 2.075559003641047\n",
            "10 \t [1.60155593 2.31940026]\t 540.1670605479982\t 1.156084007785007\t 2.2784211568610986\t 2.348915138905511\n",
            "11 \t [-2.46464795 -1.72040984]\t 385.14149044611474\t 1.156084007785007\t 2.2878559118087285\t 2.597544782701394\n",
            "12 \t [-0.18981125 -0.07112295]\t 16.772810516035783\t 1.156084007785007\t 2.037967233370724\t 2.49841756090477\n",
            "13 \t [ 1.64600191 -1.7721244 ]\t 109.64549895442406\t 1.156084007785007\t 2.4533198309241215\t 2.4656193929674415\n",
            "14 \t [-1.54252533  4.5       ]\t 19371.974806683764\t 1.156084007785007\t 2.2768166495969155\t 2.471498379684393\n",
            "15 \t [3.33080767 1.42065405]\t 118.46846601623426\t 1.156084007785007\t 2.6350662693434947\t 2.385425632242461\n",
            "16 \t [ 3.31931442 -1.1247207 ]\t 69.96910138847733\t 1.156084007785007\t 2.647419982695006\t 2.489206626857237\n",
            "17 \t [-1.63534483 -3.42373924]\t 5194.743969917909\t 1.156084007785007\t 2.3923033251112513\t 2.309673087663008\n",
            "18 \t [ 2.47521798 -2.99581955]\t 4963.188041684995\t 1.156084007785007\t 2.533399974515543\t 3.0340030448042263\n",
            "19 \t [-4.5        -1.92034143]\t 1831.7070629086027\t 1.156084007785007\t 2.6044940167305297\t 2.5561895678593096\n",
            "20 \t [ 0.88213418 -3.42835908]\t 1286.1957254833535\t 1.156084007785007\t 2.332347619956366\t 2.3130389797360924\n"
          ]
        }
      ],
      "source": [
        "### ESTIMATED STP CBM GRADIENTS\n",
        "\n",
        "np.random.seed(run_num_12)\n",
        "surrogate_approx_12 = dtStudentProcess(cov_func, optimize=opt, nu = df)\n",
        "\n",
        "approx_12 = GPGO_multi(surrogate_approx_12, Acquisition_grad(util), objfunc, param)\n",
        "approx_12.run(init_evals=n_init, max_iter=iters)\n"
      ]
    },
    {
      "cell_type": "code",
      "execution_count": 25,
      "metadata": {
        "id": "CphOPndPGClX",
        "colab": {
          "base_uri": "https://localhost:8080/"
        },
        "outputId": "57319767-ee67-43b0-c8ec-45b432a1b8d6"
      },
      "outputs": [
        {
          "output_type": "stream",
          "name": "stdout",
          "text": [
            "Evaluation \t Proposed point \t  Current eval. \t  Best eval. \t        Exact CBM: StdDev. x \t Approx CBM: StdDev. x \n",
            "init\t [ 2.4993217  -2.36212902]\t 1312.0597023727128\t 25.917758071459016\t    \t    \n",
            "init\t [2.91850679 4.19174278]\t 48757.43948599124\t 25.917758071459016\t    \t    \n",
            "init\t [ 4.25341003 -0.41895677]\t 25.917758071459016\t 25.917758071459016\t    \t    \n",
            "init\t [0.98138216 2.47973863]\t 337.8750512678324\t 25.917758071459016\t    \t    \n",
            "init\t [1.2745201  1.99816407]\t 177.1374160884886\t 25.917758071459016\t    \t    \n",
            "\u001b[1m\u001b[92m1\u001b[0m\t \u001b[1m\u001b[92m[-1.31574815  1.32638362]\u001b[0m\t \u001b[1m\u001b[92m3.468692262868469\u001b[0m\t \u001b[1m\u001b[92m3.468692262868469\u001b[0m\t \u001b[1m\u001b[92m2.4468311110574197\u001b[0m\t \u001b[1m\u001b[92m2.95115396576654\u001b[0m\n",
            "2  \t [-4.5 -4.5]\t 181853.61328125\t 3.468692262868469\t 2.337636942216078\t 3.427575978069675\n",
            "3  \t [-4.5  4.5]\t 169680.83203125\t 3.468692262868469\t 2.504711132376501\t 3.452126027220466\n",
            "4  \t [-0.80511019 -1.7038747 ]\t 68.98333534516698\t 3.468692262868469\t 2.5110032723210676\t 3.5407285246477254\n",
            "5  \t [-4.5         0.00617874]\t 131.99291184301413\t 3.468692262868469\t 3.2031183674981043\t 3.782422894715654\n",
            "6  \t [ 0.15754813 -4.5       ]\t 169.66050375013492\t 3.468692262868469\t 2.681073932469232\t 3.4607926047479682\n",
            "7  \t [ 4.5 -4.5]\t 178131.83203125\t 3.468692262868469\t 2.9467421800449767\t 3.5798626798014257\n",
            "8  \t [-0.64430882  4.5       ]\t 3177.6155506847686\t 3.468692262868469\t 2.5820521994476047\t 2.568243873992354\n",
            "\u001b[1m\u001b[92m9\u001b[0m\t \u001b[1m\u001b[92m[ 1.25059322 -0.32340221]\u001b[0m\t \u001b[1m\u001b[92m3.075907500686908\u001b[0m\t \u001b[1m\u001b[92m3.075907500686908\u001b[0m\t \u001b[1m\u001b[92m2.836579194390542\u001b[0m\t \u001b[1m\u001b[92m2.5976075860305463\u001b[0m\n",
            "10 \t [4.5        1.66225023]\t 476.96483555645085\t 3.075907500686908\t 2.7101992041664396\t 2.7026496062966525\n",
            "11 \t [-2.60924047 -0.66927145]\t 84.10464161759504\t 3.075907500686908\t 2.4860233428168064\t 2.6579430503526695\n",
            "12 \t [-3.24657151  1.49739614]\t 28.479095291833545\t 3.075907500686908\t 2.9451241517091784\t 2.4899021002020043\n",
            "13 \t [-1.45153474 -3.4925522 ]\t 4605.194156617554\t 3.075907500686908\t 3.173651667958816\t 3.0943692788906243\n",
            "14 \t [2.77301208 0.8079251 ]\t 4.3199212710435315\t 3.075907500686908\t 2.776383632422627\t 2.1675860299359004\n",
            "15 \t [ 0.76017543 -2.67832888]\t 212.19943475202962\t 3.075907500686908\t 3.0306700537143727\t 2.8083581364873798\n",
            "16 \t [-1.67120678  2.98300819]\t 1728.311592565823\t 3.075907500686908\t 2.9528176431108593\t 2.9615347891548147\n",
            "17 \t [-4.1962383  -1.72976026]\t 1019.6298218245117\t 3.075907500686908\t 3.2579013529495993\t 3.2723917920401178\n",
            "18 \t [0.13297615 0.76534637]\t 13.485872264085472\t 3.075907500686908\t 2.876107466937434\t 2.704764380787008\n",
            "19 \t [ 1.63684939 -4.5       ]\t 23150.258761715348\t 3.075907500686908\t 2.639887778579183\t 2.7814379819130397\n",
            "20 \t [ 4.5        -2.11288007]\t 2439.0388801954336\t 3.075907500686908\t 3.1295103144177667\t 2.6063202366234424\n"
          ]
        }
      ],
      "source": [
        "### ESTIMATED STP CBM GRADIENTS\n",
        "\n",
        "np.random.seed(run_num_13)\n",
        "surrogate_approx_13 = dtStudentProcess(cov_func, optimize=opt, nu = df)\n",
        "\n",
        "approx_13 = GPGO_multi(surrogate_approx_13, Acquisition_grad(util), objfunc, param)\n",
        "approx_13.run(init_evals=n_init, max_iter=iters)\n"
      ]
    },
    {
      "cell_type": "code",
      "execution_count": 26,
      "metadata": {
        "id": "ojHTeARNGCoi",
        "colab": {
          "base_uri": "https://localhost:8080/"
        },
        "outputId": "4901c2cc-fdca-4ab1-d902-a16b3aa1536d"
      },
      "outputs": [
        {
          "output_type": "stream",
          "name": "stdout",
          "text": [
            "Evaluation \t Proposed point \t  Current eval. \t  Best eval. \t        Exact CBM: StdDev. x \t Approx CBM: StdDev. x \n",
            "init\t [0.12549009 2.45848547]\t 30.19066754742359\t 11.367015527968295\t    \t    \n",
            "init\t [ 3.33384917 -4.42757746]\t 88548.3950659154\t 11.367015527968295\t    \t    \n",
            "init\t [-1.71237667  4.11843365]\t 13933.414320383567\t 11.367015527968295\t    \t    \n",
            "init\t [ 0.11805041 -1.63544018]\t 11.367015527968295\t 11.367015527968295\t    \t    \n",
            "init\t [ 0.35279944 -2.50870552]\t 27.90050047415725\t 11.367015527968295\t    \t    \n",
            "1  \t [3.00040353 1.62348299]\t 217.93014219674217\t 11.367015527968295\t 3.1734926989865047\t 3.5506683232409646\n",
            "2  \t [-2.62511118 -4.32593681]\t 49619.12550875892\t 11.367015527968295\t 3.6655380561160293\t 4.021053283936817\n",
            "3  \t [-4.5         0.32281655]\t 108.76111220724061\t 11.367015527968295\t 3.293148563684073\t 3.560914559650858\n",
            "4  \t [4.5 4.5]\t 174813.36328125\t 11.367015527968295\t 3.5674288515284114\t 3.635250155301607\n",
            "5  \t [ 4.5        -0.52786552]\t 36.322891119263524\t 11.367015527968295\t 2.604690655602598\t 3.3079764281407282\n",
            "6  \t [-1.75501404  0.33679446]\t 40.18343369693539\t 11.367015527968295\t 2.8333837332204577\t 3.267266214467452\n",
            "7  \t [-4.5  4.5]\t 169680.83203125\t 11.367015527968295\t 2.6905097320598204\t 2.964409508190605\n",
            "\u001b[1m\u001b[92m8\u001b[0m\t \u001b[1m\u001b[92m[ 2.10637851 -0.54446553]\u001b[0m\t \u001b[1m\u001b[92m3.695614864555475\u001b[0m\t \u001b[1m\u001b[92m3.695614864555475\u001b[0m\t \u001b[1m\u001b[92m3.0509935954440732\u001b[0m\t \u001b[1m\u001b[92m3.1430787234132707\u001b[0m\n",
            "9  \t [0.97102393 4.5       ]\t 8587.527200937622\t 3.695614864555475\t 3.0477567541893578\t 2.913800420495227\n",
            "10 \t [-4.5        -1.84281468]\t 1522.217682375842\t 3.695614864555475\t 2.5909784505871656\t 2.45423795273064\n",
            "11 \t [-2.21574543 -1.48864834]\t 197.02870497193254\t 3.695614864555475\t 2.8274772750330555\t 2.812987321002245\n",
            "12 \t [0.38665787 0.51681998]\t 10.843991386992386\t 3.695614864555475\t 2.9204960808708433\t 2.656843606444143\n",
            "13 \t [ 0.23579888 -4.5       ]\t 410.86602649618794\t 3.695614864555475\t 3.199899900051399\t 3.0724201740733226\n",
            "14 \t [-2.9768311   1.64504582]\t 66.70802635309892\t 3.695614864555475\t 3.2084009834842946\t 3.029611564553681\n",
            "15 \t [ 3.31080977 -1.70046841]\t 415.6509938215295\t 3.695614864555475\t 3.1548216698105143\t 2.6367310978891356\n",
            "16 \t [4.5        1.17510178]\t 50.39897434443988\t 3.695614864555475\t 3.2261330181134786\t 3.0477636363575713\n",
            "17 \t [-1.36201756  1.9094257 ]\t 32.09368177917831\t 3.695614864555475\t 3.132748980316859\t 3.041774849543742\n",
            "18 \t [-4.5         2.20736837]\t 1949.3332174331993\t 3.695614864555475\t 3.0400154318151733\t 3.1705831698687357\n",
            "19 \t [ 1.87059895 -2.65643744]\t 1390.1660631165219\t 3.695614864555475\t 3.1952650224305086\t 3.0508905893460563\n",
            "20 \t [-4.5 -4.5]\t 181853.61328125\t 3.695614864555475\t 2.649273865365248\t 2.883159246869521\n"
          ]
        }
      ],
      "source": [
        "### ESTIMATED STP CBM GRADIENTS\n",
        "\n",
        "np.random.seed(run_num_14)\n",
        "surrogate_approx_14 = dtStudentProcess(cov_func, optimize=opt, nu = df)\n",
        "\n",
        "approx_14 = GPGO_multi(surrogate_approx_14, Acquisition_grad(util), objfunc, param)\n",
        "approx_14.run(init_evals=n_init, max_iter=iters)\n"
      ]
    },
    {
      "cell_type": "code",
      "execution_count": 27,
      "metadata": {
        "id": "vCJzn4vWGCs3",
        "colab": {
          "base_uri": "https://localhost:8080/"
        },
        "outputId": "fc8909da-07e8-4dba-b6f8-9679afb892e1"
      },
      "outputs": [
        {
          "output_type": "stream",
          "name": "stdout",
          "text": [
            "Evaluation \t Proposed point \t  Current eval. \t  Best eval. \t        Exact CBM: StdDev. x \t Approx CBM: StdDev. x \n",
            "init\t [ 3.13935928 -2.88993668]\t 6575.875821208801\t 47.082686538130915\t    \t    \n",
            "init\t [-4.01073107 -1.24615399]\t 317.710908287677\t 47.082686538130915\t    \t    \n",
            "init\t [-2.02139164  0.27000202]\t 47.082686538130915\t 47.082686538130915\t    \t    \n",
            "init\t [-1.74672976 -1.75973077]\t 234.8792968363759\t 47.082686538130915\t    \t    \n",
            "init\t [-3.49432851 -2.25090888]\t 2421.671033348018\t 47.082686538130915\t    \t    \n",
            "\u001b[1m\u001b[92m1\u001b[0m\t \u001b[1m\u001b[92m[-4.5        0.9525248]\u001b[0m\t \u001b[1m\u001b[92m20.521657610959743\u001b[0m\t \u001b[1m\u001b[92m20.521657610959743\u001b[0m\t \u001b[1m\u001b[92m3.7394143827984156\u001b[0m\t \u001b[1m\u001b[92m3.959483674074716\u001b[0m\n",
            "2  \t [4.5 4.5]\t 174813.36328125\t 20.521657610959743\t 2.728931078929846\t 3.6249475748211584\n",
            "3  \t [-1.70029506  4.5       ]\t 23633.48843666308\t 20.521657610959743\t 2.9596162493492604\t 3.603385371981115\n",
            "\u001b[1m\u001b[92m4\u001b[0m\t \u001b[1m\u001b[92m[1.19910456 0.81238664]\u001b[0m\t \u001b[1m\u001b[92m9.299595202144701\u001b[0m\t \u001b[1m\u001b[92m9.299595202144701\u001b[0m\t \u001b[1m\u001b[92m3.012931058334444\u001b[0m\t \u001b[1m\u001b[92m3.5035896743139383\u001b[0m\n",
            "5  \t [-0.43557662 -4.5       ]\t 1880.5885930712604\t 9.299595202144701\t 2.6680757082928777\t 3.205805705507887\n",
            "6  \t [4.5        0.19262683]\t 12.285501970182864\t 9.299595202144701\t 3.127244273801908\t 3.8665191093345235\n",
            "7  \t [-4.5 -4.5]\t 181853.61328125\t 9.299595202144701\t 2.9376205719483117\t 4.324544087380886\n",
            "8  \t [ 0.65557265 -1.59361148]\t 11.130804367573598\t 9.299595202144701\t 2.454279099506056\t 2.9471257594288987\n",
            "9  \t [-4.5  4.5]\t 169680.83203125\t 9.299595202144701\t 2.121907373061023\t 3.3811468116765897\n",
            "10 \t [1.01831416 3.15411298]\t 1269.006343885816\t 9.299595202144701\t 2.189478622948792\t 2.894172006742508\n",
            "11 \t [ 4.5 -4.5]\t 178131.83203125\t 9.299595202144701\t 1.85957161422911\t 2.885525403172503\n",
            "12 \t [ 2.69445882 -0.85700414]\t 17.74682890394145\t 9.299595202144701\t 2.173038430803609\t 2.2813871354720003\n",
            "\u001b[1m\u001b[92m13\u001b[0m\t \u001b[1m\u001b[92m[-0.78079146  1.87231828]\u001b[0m\t \u001b[1m\u001b[92m3.711715723637607\u001b[0m\t \u001b[1m\u001b[92m3.711715723637607\u001b[0m\t \u001b[1m\u001b[92m2.6708525973632726\u001b[0m\t \u001b[1m\u001b[92m2.3837657774491348\u001b[0m\n",
            "14 \t [3.00178782 1.56743799]\t 179.18818471375852\t 3.711715723637607\t 2.223033976478443\t 2.6332761902789095\n",
            "15 \t [ 1.26286343 -3.55248293]\t 3357.678596578735\t 3.711715723637607\t 1.986321195317845\t 2.2521380641099653\n",
            "16 \t [-2.7541387   1.90308844]\t 210.74450710077832\t 3.711715723637607\t 2.536270773998354\t 2.775579574691781\n",
            "17 \t [-1.9242666  -4.33406393]\t 27148.18416504429\t 3.711715723637607\t 2.188772770899243\t 2.4244477715715917\n",
            "18 \t [-0.28366545 -0.27355907]\t 18.270798577224067\t 3.711715723637607\t 2.286963170686728\t 2.3731429775498687\n",
            "19 \t [-2.75692301 -3.20913777]\t 10030.250051860414\t 3.711715723637607\t 2.7456695411559755\t 2.827216426169218\n",
            "20 \t [3.22881108 3.08043787]\t 9741.196492009793\t 3.711715723637607\t 2.430866120194954\t 2.1005235697683986\n"
          ]
        }
      ],
      "source": [
        "### ESTIMATED STP CBM GRADIENTS\n",
        "\n",
        "np.random.seed(run_num_15)\n",
        "surrogate_approx_15 = dtStudentProcess(cov_func, optimize=opt, nu = df)\n",
        "\n",
        "approx_15 = GPGO_multi(surrogate_approx_15, Acquisition_grad(util), objfunc, param)\n",
        "approx_15.run(init_evals=n_init, max_iter=iters)\n"
      ]
    },
    {
      "cell_type": "code",
      "execution_count": 28,
      "metadata": {
        "id": "bGGkhp-kGCw6",
        "colab": {
          "base_uri": "https://localhost:8080/"
        },
        "outputId": "67c93c36-7bd9-4d66-f322-3822154b833b"
      },
      "outputs": [
        {
          "output_type": "stream",
          "name": "stdout",
          "text": [
            "Evaluation \t Proposed point \t  Current eval. \t  Best eval. \t        Exact CBM: StdDev. x \t Approx CBM: StdDev. x \n",
            "init\t [-2.49038029  0.20847007]\t 59.442894178636664\t 59.442894178636664\t    \t    \n",
            "init\t [ 0.45631311 -4.08958245]\t 932.9374489641153\t 59.442894178636664\t    \t    \n",
            "init\t [-1.25344048 -2.49227152]\t 594.9494957841517\t 59.442894178636664\t    \t    \n",
            "init\t [ 1.69853546 -3.02641717]\t 2418.389440420566\t 59.442894178636664\t    \t    \n",
            "init\t [-3.8670762   3.96909774]\t 58473.38862292419\t 59.442894178636664\t    \t    \n",
            "1  \t [4.5 4.5]\t 174813.36328125\t 59.442894178636664\t 4.183957628764965\t 4.084862399356945\n",
            "2  \t [-4.5 -4.5]\t 181853.61328125\t 59.442894178636664\t 3.2723169184207412\t 3.4240468691933206\n",
            "\u001b[1m\u001b[92m3\u001b[0m\t \u001b[1m\u001b[92m[0.80051803 1.12198577]\u001b[0m\t \u001b[1m\u001b[92m17.323282192044797\u001b[0m\t \u001b[1m\u001b[92m17.323282192044797\u001b[0m\t \u001b[1m\u001b[92m2.4930605965278425\u001b[0m\t \u001b[1m\u001b[92m2.753039269122227\u001b[0m\n",
            "4  \t [ 4.5        -0.44220844]\t 31.90275040039772\t 17.323282192044797\t 2.4140352363380058\t 3.5004378034493677\n",
            "5  \t [ 4.5 -4.5]\t 178131.83203125\t 17.323282192044797\t 1.9171048035016245\t 2.920619389601018\n",
            "6  \t [0.15910113 4.5       ]\t 320.23232380760044\t 17.323282192044797\t 2.7076700220654564\t 3.218624708242466\n",
            "7  \t [-4.5        -0.67631268]\t 176.33546489160113\t 17.323282192044797\t 2.2368080423827665\t 2.3013349711444464\n",
            "\u001b[1m\u001b[92m8\u001b[0m\t \u001b[1m\u001b[92m[ 2.1816965  -0.67348961]\u001b[0m\t \u001b[1m\u001b[92m5.795951050807933\u001b[0m\t \u001b[1m\u001b[92m5.795951050807933\u001b[0m\t \u001b[1m\u001b[92m2.0924333413056746\u001b[0m\t \u001b[1m\u001b[92m1.89100247683713\u001b[0m\n",
            "9  \t [-1.07696425  2.29482926]\t 92.24547301204444\t 5.795951050807933\t 2.3640310395450723\t 2.365601056087559\n",
            "10 \t [3.07096488 1.35231014]\t 80.76147810832899\t 5.795951050807933\t 2.490133313234081\t 2.5417101274892424\n",
            "11 \t [-0.24073058 -0.67248101]\t 17.93060539513801\t 5.795951050807933\t 1.891917021196981\t 2.3001539988250603\n",
            "\u001b[1m\u001b[92m12\u001b[0m\t \u001b[1m\u001b[92m[-4.5         1.22334141]\u001b[0m\t \u001b[1m\u001b[92m1.4854227797051243\u001b[0m\t \u001b[1m\u001b[92m1.4854227797051243\u001b[0m\t \u001b[1m\u001b[92m2.7508689440156004\u001b[0m\t \u001b[1m\u001b[92m2.924263674638834\u001b[0m\n",
            "13 \t [1.46481592 2.98500493]\t 1820.5157879485182\t 1.4854227797051243\t 2.3174174373027325\t 2.4479375697317893\n",
            "14 \t [-1.59948752 -4.5       ]\t 23413.907944137125\t 1.4854227797051243\t 2.310010706248919\t 2.3739666841038427\n",
            "15 \t [-2.85091346 -1.61849679]\t 394.4334783671628\t 1.4854227797051243\t 2.110596044263939\t 2.004080670417693\n",
            "16 \t [-1.42538584  4.5       ]\t 16481.818242996713\t 1.4854227797051243\t 1.4500454202621398\t 2.0769228015308454\n",
            "17 \t [ 4.22893001 -2.00446708]\t 1622.759367784141\t 1.4854227797051243\t 2.76217831856149\t 2.7018769539930347\n",
            "18 \t [-2.77536989  2.04713706]\t 384.5298933129444\t 1.4854227797051243\t 2.508318871094624\t 2.315862175156372\n",
            "19 \t [-0.92597784  0.72437965]\t 20.551077414546384\t 1.4854227797051243\t 2.1253080003302043\t 2.0099747322070707\n",
            "20 \t [ 0.42568268 -2.08761055]\t 16.373958212968944\t 1.4854227797051243\t 2.762351915632594\t 2.6324129395530647\n"
          ]
        }
      ],
      "source": [
        "### ESTIMATED STP CBM GRADIENTS\n",
        "\n",
        "np.random.seed(run_num_16)\n",
        "surrogate_approx_16 = dtStudentProcess(cov_func, optimize=opt, nu = df)\n",
        "\n",
        "approx_16 = GPGO_multi(surrogate_approx_16, Acquisition_grad(util), objfunc, param)\n",
        "approx_16.run(init_evals=n_init, max_iter=iters)\n"
      ]
    },
    {
      "cell_type": "code",
      "execution_count": 29,
      "metadata": {
        "id": "Yrs2mp7hGC1Z",
        "colab": {
          "base_uri": "https://localhost:8080/"
        },
        "outputId": "ad875b91-37f8-469c-abdb-c0aa2595ae79"
      },
      "outputs": [
        {
          "output_type": "stream",
          "name": "stdout",
          "text": [
            "Evaluation \t Proposed point \t  Current eval. \t  Best eval. \t        Exact CBM: StdDev. x \t Approx CBM: StdDev. x \n",
            "init\t [-1.84801498  0.2752808 ]\t 43.39160388622011\t 6.891623366037299\t    \t    \n",
            "init\t [-2.77631292 -3.88889678]\t 30048.58268621874\t 6.891623366037299\t    \t    \n",
            "init\t [2.58286914 1.4070017 ]\t 81.72560623465196\t 6.891623366037299\t    \t    \n",
            "init\t [1.23768806 0.68042604]\t 6.891623366037299\t 6.891623366037299\t    \t    \n",
            "init\t [-4.14843375 -1.27967756]\t 359.4343933746243\t 6.891623366037299\t    \t    \n",
            "1  \t [ 4.5 -4.5]\t 178131.83203125\t 6.891623366037299\t 2.764074695875593\t 4.309058515314868\n",
            "2  \t [-4.5  4.5]\t 169680.83203125\t 6.891623366037299\t 3.2514891765940193\t 3.8872802090682805\n",
            "3  \t [4.5 4.5]\t 174813.36328125\t 6.891623366037299\t 3.7307992540823482\t 2.7344116098041322\n",
            "4  \t [-0.02484451  3.6191922 ]\t 8.026208472379459\t 6.891623366037299\t 3.2149148490299075\t 2.7922173061717928\n",
            "5  \t [ 0.75675122 -2.1682028 ]\t 60.48354924351628\t 6.891623366037299\t 2.7603224948488214\t 2.794168356972498\n",
            "6  \t [ 4.5        -0.35239657]\t 28.18237840211588\t 6.891623366037299\t 2.806174671638812\t 2.794494664205586\n",
            "7  \t [ 0.54363624 -4.5       ]\t 2416.1044466433063\t 6.891623366037299\t 2.092080152490577\t 2.4042160723311037\n",
            "8  \t [-4.5         0.91495283]\t 25.971744830841615\t 6.891623366037299\t 3.1176704937269393\t 2.6837466013544\n",
            "9  \t [ 2.6108453  -1.22283536]\t 53.7307534352193\t 6.891623366037299\t 3.326737422356096\t 2.891019462245619\n",
            "10 \t [-1.71582987  2.34806422]\t 350.25650931320416\t 6.891623366037299\t 2.683671087279794\t 2.326805526896302\n",
            "11 \t [-1.18720543 -1.59511722]\t 95.64595251519304\t 6.891623366037299\t 2.810423829889069\t 2.767470034843473\n",
            "12 \t [1.60945563 2.98914298]\t 2183.8003094340716\t 6.891623366037299\t 2.9056509853388617\t 2.678148918994875\n",
            "13 \t [4.5        1.38430564]\t 152.29976635465655\t 6.891623366037299\t 2.7387020572827403\t 2.903212015107162\n",
            "14 \t [-0.22667213  1.48682963]\t 10.27191131311325\t 6.891623366037299\t 2.2461918528077174\t 2.574621365439748\n",
            "15 \t [-1.40465589  4.5       ]\t 15994.661349778304\t 6.891623366037299\t 2.249470698784898\t 3.2739020786851465\n",
            "16 \t [ 0.04861471 -0.45986932]\t 13.54701297605093\t 6.891623366037299\t 2.906448314433714\t 2.901499153117375\n",
            "17 \t [ 2.24031109 -3.0597663 ]\t 4567.3485662603125\t 6.891623366037299\t 2.892564538972166\t 2.8017013568344296\n",
            "18 \t [-3.28691826  1.96136607]\t 410.0630815634256\t 6.891623366037299\t 2.822108453488693\t 2.241972422145485\n",
            "19 \t [1.40525245 4.5       ]\t 17611.35656942155\t 6.891623366037299\t 2.5194397551609153\t 2.8390911307211275\n",
            "20 \t [-0.31639177 -3.92438789]\t 501.47872433617835\t 6.891623366037299\t 2.779123106159497\t 2.542365682960513\n"
          ]
        }
      ],
      "source": [
        "### ESTIMATED STP CBM GRADIENTS\n",
        "\n",
        "np.random.seed(run_num_17)\n",
        "surrogate_approx_17 = dtStudentProcess(cov_func, optimize=opt, nu = df)\n",
        "\n",
        "approx_17 = GPGO_multi(surrogate_approx_17, Acquisition_grad(util), objfunc, param)\n",
        "approx_17.run(init_evals=n_init, max_iter=iters)\n"
      ]
    },
    {
      "cell_type": "code",
      "execution_count": 30,
      "metadata": {
        "id": "f0HIEP3PIUEa",
        "colab": {
          "base_uri": "https://localhost:8080/"
        },
        "outputId": "e0fcfee6-6e20-448e-f23d-02e140fa6ce2"
      },
      "outputs": [
        {
          "output_type": "stream",
          "name": "stdout",
          "text": [
            "Evaluation \t Proposed point \t  Current eval. \t  Best eval. \t        Exact CBM: StdDev. x \t Approx CBM: StdDev. x \n",
            "init\t [1.35336818 0.04908036]\t 2.472652645883837\t 2.472652645883837\t    \t    \n",
            "init\t [ 3.40741324 -2.86343797]\t 7379.017314590048\t 2.472652645883837\t    \t    \n",
            "init\t [3.17009762 2.25122657]\t 1528.3101419799655\t 2.472652645883837\t    \t    \n",
            "init\t [1.49491501 4.39105903]\t 17224.913295283764\t 2.472652645883837\t    \t    \n",
            "init\t [-2.1872842  -4.24524667]\t 31030.348242396165\t 2.472652645883837\t    \t    \n",
            "1  \t [-4.5         1.95508921]\t 819.5000304315288\t 2.472652645883837\t 3.5346169248968757\t 4.052661086491883\n",
            "2  \t [-1.48389363  0.31641931]\t 35.67546012159832\t 2.472652645883837\t 3.4267144989114806\t 4.192544254683748\n",
            "3  \t [-4.5  4.5]\t 169680.83203125\t 2.472652645883837\t 3.881929683409995\t 4.243819884452933\n",
            "4  \t [-4.5        -0.75241162]\t 187.50909339549779\t 2.472652645883837\t 4.279269592320058\t 3.9840615621012567\n",
            "5  \t [ 4.5        -0.01326551]\t 17.9363338169958\t 2.472652645883837\t 3.779402506806406\t 3.7192265457405047\n",
            "6  \t [ 0.32144402 -2.06477184]\t 11.424921195451375\t 2.472652645883837\t 4.390661225336488\t 3.7553202291401226\n",
            "7  \t [-1.17780722  2.63866794]\t 341.07834065815666\t 2.472652645883837\t 3.897114317029974\t 3.812340315908282\n",
            "8  \t [4.5 4.5]\t 174813.36328125\t 2.472652645883837\t 4.077590129443219\t 3.0995307727956583\n",
            "9  \t [-2.4685376  -1.44845928]\t 215.76529418385564\t 2.472652645883837\t 3.056697576826794\t 3.562805706963649\n",
            "10 \t [ 1.17438552 -4.5       ]\t 11786.48489901237\t 2.472652645883837\t 3.1161872501290198\t 3.6848157017684087\n",
            "11 \t [0.77879991 1.89257388]\t 73.74662574282662\t 2.472652645883837\t 2.7784967141106853\t 3.856552818633608\n",
            "12 \t [ 4.5 -4.5]\t 178131.83203125\t 2.472652645883837\t 2.931420546588413\t 3.3162617769895646\n",
            "13 \t [ 2.77961256 -1.21194207]\t 60.26822141849347\t 2.472652645883837\t 3.203306477584426\t 2.7966177247890354\n",
            "14 \t [-1.06009544  4.5       ]\t 8967.958160276456\t 2.472652645883837\t 2.5305684273668625\t 2.6603017496793635\n",
            "15 \t [-4.5 -4.5]\t 181853.61328125\t 2.472652645883837\t 2.9585497035947426\t 2.641453235578367\n",
            "\u001b[1m\u001b[92m16\u001b[0m\t \u001b[1m\u001b[92m[2.90746189 0.67867949]\u001b[0m\t \u001b[1m\u001b[92m1.1772615000867614\u001b[0m\t \u001b[1m\u001b[92m1.1772615000867614\u001b[0m\t \u001b[1m\u001b[92m2.1898338980179606\u001b[0m\t \u001b[1m\u001b[92m2.1435755870973847\u001b[0m\n",
            "17 \t [-3.1983454   0.80675331]\t 32.99337661514856\t 1.1772615000867614\t 2.494216065823942\t 2.4872786632422814\n",
            "18 \t [-2.78493192  2.4479686 ]\t 1398.492690712128\t 1.1772615000867614\t 2.462923074326935\t 2.37084144725365\n",
            "19 \t [-0.18437745 -0.54930688]\t 16.912238177948385\t 1.1772615000867614\t 2.202079689686892\t 2.0913220115583675\n",
            "20 \t [-2.3555754   3.31704509]\t 7029.302451286169\t 1.1772615000867614\t 2.5971302879862135\t 2.4291275629247737\n"
          ]
        }
      ],
      "source": [
        "### ESTIMATED STP CBM GRADIENTS\n",
        "\n",
        "np.random.seed(run_num_18)\n",
        "surrogate_approx_18 = dtStudentProcess(cov_func, optimize=opt, nu = df)\n",
        "\n",
        "approx_18 = GPGO_multi(surrogate_approx_18, Acquisition_grad(util), objfunc, param)\n",
        "approx_18.run(init_evals=n_init, max_iter=iters)\n"
      ]
    },
    {
      "cell_type": "code",
      "execution_count": 31,
      "metadata": {
        "id": "S3mxRQDLIUPC",
        "colab": {
          "base_uri": "https://localhost:8080/"
        },
        "outputId": "df256065-8f0b-417a-c1eb-f51cb78572d6"
      },
      "outputs": [
        {
          "output_type": "stream",
          "name": "stdout",
          "text": [
            "Evaluation \t Proposed point \t  Current eval. \t  Best eval. \t        Exact CBM: StdDev. x \t Approx CBM: StdDev. x \n",
            "init\t [-3.62219758  2.35124745]\t 1879.409018573639\t 63.544086067314716\t    \t    \n",
            "init\t [-2.27755824 -3.25681481]\t 7496.243410303341\t 63.544086067314716\t    \t    \n",
            "init\t [-1.51698093 -3.75300391]\t 7497.407542620609\t 63.544086067314716\t    \t    \n",
            "init\t [1.54779373 2.75934418]\t 1302.4341957421634\t 63.544086067314716\t    \t    \n",
            "init\t [4.34467723 1.22094661]\t 63.544086067314716\t 63.544086067314716\t    \t    \n",
            "1  \t [ 4.5 -4.5]\t 178131.83203125\t 63.544086067314716\t 3.2349445537999366\t 4.279816859418808\n",
            "2  \t [4.5 4.5]\t 174813.36328125\t 63.544086067314716\t 3.763633059826434\t 3.8271824557914096\n",
            "\u001b[1m\u001b[92m3\u001b[0m\t \u001b[1m\u001b[92m[ 1.42887609 -0.74230502]\u001b[0m\t \u001b[1m\u001b[92m3.940478524489166\u001b[0m\t \u001b[1m\u001b[92m3.940478524489166\u001b[0m\t \u001b[1m\u001b[92m2.6037241827724817\u001b[0m\t \u001b[1m\u001b[92m2.9835016430836117\u001b[0m\n",
            "4  \t [-1.12586417  4.5       ]\t 10153.24368137916\t 3.940478524489166\t 3.0660796505093617\t 3.5068310597537473\n",
            "5  \t [-1.41135926  1.17024932]\t 7.72340687047576\t 3.940478524489166\t 2.750223173809214\t 3.3049297519292846\n",
            "6  \t [-4.5  4.5]\t 169680.83203125\t 3.940478524489166\t 3.0902090493320324\t 3.398380282275701\n",
            "7  \t [-4.36692862  0.08615161]\t 122.35179196611954\t 3.940478524489166\t 3.266969059316609\t 3.225446497935623\n",
            "8  \t [-4.5 -4.5]\t 181853.61328125\t 3.940478524489166\t 2.1279618683687898\t 2.5036852526287485\n",
            "9  \t [-0.95564228 -1.08798468]\t 39.670209130763425\t 3.940478524489166\t 1.7529523662432602\t 2.363416496592673\n",
            "10 \t [ 1.04648501 -3.16570374]\t 1144.802629125513\t 3.940478524489166\t 2.2278076241477494\t 2.552186441503535\n",
            "11 \t [ 3.87847917 -0.94800729]\t 60.890373287549\t 3.940478524489166\t 1.6759841918679683\t 2.213521424742365\n",
            "12 \t [0.57528661 1.01795592]\t 14.495087004966933\t 3.940478524489166\t 2.3518207943412093\t 2.2074801987632373\n",
            "13 \t [-2.94564616 -1.15910628]\t 166.4943013351029\t 3.940478524489166\t 2.285354304246135\t 2.4329126493223763\n",
            "14 \t [2.54475886 0.8940209 ]\t 8.14331499145003\t 3.940478524489166\t 2.2164369869481817\t 2.2905797036729187\n",
            "15 \t [-0.38694507  2.6820764 ]\t 20.577240735764214\t 3.940478524489166\t 2.2325917265415844\t 2.305321568067504\n",
            "16 \t [1.09434504 4.5       ]\t 10824.19248351825\t 3.940478524489166\t 1.9749139005891185\t 2.24955425225222\n",
            "17 \t [ 0.03493375 -4.2425369 ]\t 9.827571970004593\t 3.940478524489166\t 2.497188460671513\t 2.424166408356337\n",
            "18 \t [ 3.58577466 -2.32378786]\t 2545.539360360843\t 3.940478524489166\t 2.5910964434818924\t 2.7126967396113297\n",
            "19 \t [ 2.48581805 -3.5898806 ]\t 14303.117535764253\t 3.940478524489166\t 2.333134543974798\t 2.189127425725693\n",
            "20 \t [-4.5    -1.7448]\t 1202.8887163445347\t 3.940478524489166\t 2.221574846550551\t 2.548404015854256\n"
          ]
        }
      ],
      "source": [
        "### ESTIMATED STP CBM GRADIENTS\n",
        "\n",
        "np.random.seed(run_num_19)\n",
        "surrogate_approx_19 = dtStudentProcess(cov_func, optimize=opt, nu = df)\n",
        "\n",
        "approx_19 = GPGO_multi(surrogate_approx_19, Acquisition_grad(util), objfunc, param)\n",
        "approx_19.run(init_evals=n_init, max_iter=iters)\n"
      ]
    },
    {
      "cell_type": "code",
      "execution_count": 32,
      "metadata": {
        "id": "Aawd59dRIUYn",
        "colab": {
          "base_uri": "https://localhost:8080/"
        },
        "outputId": "266702c8-6932-49fc-99a7-b2f0b320645c"
      },
      "outputs": [
        {
          "output_type": "stream",
          "name": "stdout",
          "text": [
            "Evaluation \t Proposed point \t  Current eval. \t  Best eval. \t        Exact CBM: StdDev. x \t Approx CBM: StdDev. x \n",
            "init\t [0.79317721 3.57942355]\t 1607.3829986954497\t 30.55204392634667\t    \t    \n",
            "init\t [3.52377657 2.8425373 ]\t 7209.150060592592\t 30.55204392634667\t    \t    \n",
            "init\t [-4.17699373  1.72581824]\t 253.68900136908488\t 30.55204392634667\t    \t    \n",
            "init\t [-1.09187152  0.16659851]\t 30.55204392634667\t 30.55204392634667\t    \t    \n",
            "init\t [ 1.42156319 -2.75534804]\t 963.9362838324588\t 30.55204392634667\t    \t    \n",
            "1  \t [-4.5 -4.5]\t 181853.61328125\t 30.55204392634667\t 3.271738085180646\t 4.035561152833233\n",
            "2  \t [ 4.5 -4.5]\t 178131.83203125\t 30.55204392634667\t 2.7994297175703386\t 3.8022249263005765\n",
            "3  \t [-4.5  4.5]\t 169680.83203125\t 30.55204392634667\t 2.7428072956899756\t 2.8158028777345354\n",
            "\u001b[1m\u001b[92m4\u001b[0m\t \u001b[1m\u001b[92m[ 4.5        -0.35980407]\u001b[0m\t \u001b[1m\u001b[92m28.462188691078254\u001b[0m\t \u001b[1m\u001b[92m28.462188691078254\u001b[0m\t \u001b[1m\u001b[92m2.993495346431561\u001b[0m\t \u001b[1m\u001b[92m2.309174879909931\u001b[0m\n",
            "\u001b[1m\u001b[92m5\u001b[0m\t \u001b[1m\u001b[92m[1.64496827 0.10636767]\u001b[0m\t \u001b[1m\u001b[92m1.3541771488788457\u001b[0m\t \u001b[1m\u001b[92m1.3541771488788457\u001b[0m\t \u001b[1m\u001b[92m3.013806222751861\u001b[0m\t \u001b[1m\u001b[92m2.7730783684883096\u001b[0m\n",
            "6  \t [-3.66632057 -0.64214378]\t 128.69790423569384\t 1.3541771488788457\t 3.3025119407734906\t 3.1157315058761657\n",
            "7  \t [-0.4685681 -4.5      ]\t 2159.347232592828\t 1.3541771488788457\t 3.2902592068330194\t 3.041924057200034\n",
            "8  \t [-1.35696167 -2.14486286]\t 341.979867493232\t 1.3541771488788457\t 3.372604619886545\t 2.8307052218847395\n",
            "9  \t [-1.40826285  2.4694995 ]\t 319.61820895784825\t 1.3541771488788457\t 2.794881378593463\t 2.8876340507373732\n",
            "10 \t [-1.04722318  4.5       ]\t 8744.58384539306\t 1.3541771488788457\t 3.1730782995930915\t 2.9234883919673673\n",
            "11 \t [4.5 4.5]\t 174813.36328125\t 1.3541771488788457\t 2.920131702923758\t 2.994405718571788\n",
            "12 \t [1.92498281 1.94264796]\t 288.00527996308364\t 1.3541771488788457\t 2.6478100921128975\t 2.5390367315660765\n",
            "13 \t [ 2.92495198 -1.45802024]\t 150.81464162761057\t 1.3541771488788457\t 2.4617407925002253\t 2.7556039797010947\n",
            "14 \t [4.5        1.34693965]\t 127.55069412505136\t 1.3541771488788457\t 2.34076278200047\t 2.4257608552613834\n",
            "15 \t [ 0.30973845 -1.2017325 ]\t 9.529955566274715\t 1.3541771488788457\t 2.164190320934328\t 2.1848466315865216\n",
            "16 \t [0.16816233 1.48467613]\t 17.55903226630818\t 1.3541771488788457\t 2.1036712907427098\t 2.408914959249996\n",
            "17 \t [-2.63477672  1.00418656]\t 13.897803074914801\t 1.3541771488788457\t 2.3288997198623957\t 2.4794967894061526\n",
            "18 \t [ 1.82060802 -4.5       ]\t 28721.040604895963\t 1.3541771488788457\t 2.78267958259422\t 2.611209671665399\n",
            "\u001b[1m\u001b[92m19\u001b[0m\t \u001b[1m\u001b[92m[3.10578667 0.49844615]\u001b[0m\t \u001b[1m\u001b[92m0.019663115122960352\u001b[0m\t \u001b[1m\u001b[92m0.019663115122960352\u001b[0m\t \u001b[1m\u001b[92m2.250330490304599\u001b[0m\t \u001b[1m\u001b[92m2.287525855917577\u001b[0m\n",
            "20 \t [-2.4960049 -3.3949391]\t 11297.626953850357\t 0.019663115122960352\t 2.3498072656714455\t 2.135747375771379\n"
          ]
        }
      ],
      "source": [
        "### ESTIMATED STP CBM GRADIENTS\n",
        "\n",
        "np.random.seed(run_num_20)\n",
        "surrogate_approx_20 = dtStudentProcess(cov_func, optimize=opt, nu = df)\n",
        "\n",
        "approx_20 = GPGO_multi(surrogate_approx_20, Acquisition_grad(util), objfunc, param)\n",
        "approx_20.run(init_evals=n_init, max_iter=iters)\n"
      ]
    },
    {
      "cell_type": "code",
      "execution_count": 33,
      "metadata": {
        "id": "xkgzPRbBTHaq",
        "colab": {
          "base_uri": "https://localhost:8080/"
        },
        "outputId": "71687800-1532-4ad9-c5a9-c27f7e3892e4"
      },
      "outputs": [
        {
          "output_type": "execute_result",
          "data": {
            "text/plain": [
              "1663328860.319495"
            ]
          },
          "metadata": {},
          "execution_count": 33
        }
      ],
      "source": [
        "end_approx = time.time()\n",
        "end_approx\n",
        "\n",
        "time_approx = end_approx - start_approx\n",
        "time_approx\n",
        "\n",
        "start_exact = time.time()\n",
        "start_exact"
      ]
    },
    {
      "cell_type": "code",
      "execution_count": 34,
      "metadata": {
        "id": "7CG3Ndvb16Rb",
        "colab": {
          "base_uri": "https://localhost:8080/"
        },
        "outputId": "214dd9dd-ea43-46e9-c72f-038bc8a41853"
      },
      "outputs": [
        {
          "output_type": "stream",
          "name": "stdout",
          "text": [
            "Evaluation \t Proposed point \t  Current eval. \t  Best eval. \t        Exact CBM: StdDev. x \t Approx CBM: StdDev. x \n",
            "init\t [-0.74680196  1.98292044]\t 6.597029498756062\t 6.597029498756062\t    \t    \n",
            "init\t [-4.49897063 -1.77900685]\t 1305.4710589552556\t 6.597029498756062\t    \t    \n",
            "init\t [-3.17919698 -3.66895265]\t 28173.776013477825\t 6.597029498756062\t    \t    \n",
            "init\t [-2.8236581  -1.38995346]\t 237.9931764117774\t 6.597029498756062\t    \t    \n",
            "init\t [-0.92909273  0.34935061]\t 26.1790631757263\t 6.597029498756062\t    \t    \n",
            "1  \t [-3.29292521  0.9940436 ]\t 14.750386888478214\t 6.597029498756062\t 3.46433914033274\t 3.7403983072822213\n",
            "2  \t [4.5 4.5]\t 174813.36328125\t 6.597029498756062\t 2.4869418266964676\t 3.342736325196261\n",
            "3  \t [ 2.96107524 -3.0886303 ]\t 8541.44202905192\t 6.597029498756062\t 2.9217402535369876\t 3.9829796163816633\n",
            "4  \t [-3.51460861  4.5       ]\t 103071.72931912485\t 6.597029498756062\t 3.2234941817026206\t 3.6272785280353603\n",
            "\u001b[1m\u001b[92m5\u001b[0m\t \u001b[1m\u001b[92m[2.33664629 0.5128022 ]\u001b[0m\t \u001b[1m\u001b[92m0.7734854209144935\u001b[0m\t \u001b[1m\u001b[92m0.7734854209144935\u001b[0m\t \u001b[1m\u001b[92m2.773942253148728\u001b[0m\t \u001b[1m\u001b[92m3.1423911091034737\u001b[0m\n",
            "6  \t [ 0.04860947 -2.10275934]\t 12.172140210157899\t 0.7734854209144935\t 2.902145087665711\t 3.6660575403241853\n",
            "7  \t [0.52159497 4.28079378]\t 1988.4782670079128\t 0.7734854209144935\t 2.9388964197305136\t 3.254951112841497\n",
            "8  \t [ 0.1973249 -4.5      ]\t 278.6695207271506\t 0.7734854209144935\t 2.933922825244823\t 3.491141926491253\n",
            "9  \t [ 3.74765268 -0.6617269 ]\t 27.248295349422857\t 0.7734854209144935\t 3.012151846506582\t 3.4558698492720623\n",
            "10 \t [ 0.97937355 -0.59258502]\t 4.689177467755787\t 0.7734854209144935\t 2.905506132062618\t 3.2106235260926166\n",
            "11 \t [1.49301925 2.25388036]\t 413.1580619358592\t 0.7734854209144935\t 2.6690204309846006\t 3.0544789524524445\n",
            "12 \t [4.5        1.09463688]\t 29.800645473064755\t 0.7734854209144935\t 3.0076137678429764\t 3.4709668577569257\n",
            "13 \t [ 1.77577217 -4.47198428]\t 26315.38660099209\t 0.7734854209144935\t 2.9242554281215525\t 3.2799238998740927\n",
            "14 \t [ 4.40406051 -3.80056887]\t 63478.338451026815\t 0.7734854209144935\t 3.106813686796362\t 3.437641026254526\n",
            "15 \t [-1.23837892 -1.3840742 ]\t 72.14665156715435\t 0.7734854209144935\t 2.752307259939435\t 2.46244163043174\n",
            "16 \t [ 2.18620412 -1.45337255]\t 76.19268298061641\t 0.7734854209144935\t 3.181548075181898\t 2.578734401589844\n",
            "17 \t [-4.26777253 -0.23456047]\t 133.56523010021448\t 0.7734854209144935\t 3.147201971411437\t 2.6428676918518534\n",
            "18 \t [0.73610064 0.83810242]\t 11.424227371632295\t 0.7734854209144935\t 3.0641847764980366\t 3.086911273164342\n",
            "19 \t [-1.39624791  3.58065646]\t 3816.956894914578\t 0.7734854209144935\t 3.4660594167794323\t 3.177281932006995\n",
            "20 \t [2.90320337 3.41535171]\t 14488.461899679307\t 0.7734854209144935\t 3.1054983145630324\t 2.767941227516699\n"
          ]
        }
      ],
      "source": [
        "### EXACT STP CBM GRADIENTS\n",
        "\n",
        "np.random.seed(run_num_1)\n",
        "surrogate_exact_1 = dtStudentProcess(cov_func, optimize=opt, nu = df)\n",
        "\n",
        "exact_1 = dGPGO(surrogate_exact_1, Acquisition_grad(util), objfunc, param)\n",
        "exact_1.run(init_evals=n_init, max_iter=iters)\n"
      ]
    },
    {
      "cell_type": "code",
      "execution_count": 35,
      "metadata": {
        "id": "-ilCPSAu9SAg",
        "colab": {
          "base_uri": "https://localhost:8080/"
        },
        "outputId": "893281d3-dfe7-4daf-afef-9cff87125ba2"
      },
      "outputs": [
        {
          "output_type": "stream",
          "name": "stdout",
          "text": [
            "Evaluation \t Proposed point \t  Current eval. \t  Best eval. \t        Exact CBM: StdDev. x \t Approx CBM: StdDev. x \n",
            "init\t [-0.57604588 -4.26666391]\t 2377.8441741808733\t 8.81624267140378\t    \t    \n",
            "init\t [ 0.4469623  -0.58209847]\t 8.81624267140378\t 8.81624267140378\t    \t    \n",
            "init\t [-0.71668978 -1.52698661]\t 47.3742628518178\t 8.81624267140378\t    \t    \n",
            "init\t [-2.65816229  1.0734387 ]\t 9.08861590265506\t 8.81624267140378\t    \t    \n",
            "init\t [-1.80310794 -2.09855452]\t 510.2220943696988\t 8.81624267140378\t    \t    \n",
            "1  \t [4.5 4.5]\t 174813.36328125\t 8.81624267140378\t 3.6056898086965936\t 3.9903009716272835\n",
            "2  \t [ 4.5        -2.05347305]\t 2097.5125880125133\t 8.81624267140378\t 3.190711259700572\t 4.095647940481456\n",
            "3  \t [-0.59671683  3.71364566]\t 776.4322614654162\t 8.81624267140378\t 3.104641943642623\t 3.9260330682751623\n",
            "4  \t [-4.5 -4.5]\t 181853.61328125\t 8.81624267140378\t 1.826735499874719\t 3.7582409449102645\n",
            "\u001b[1m\u001b[92m5\u001b[0m\t \u001b[1m\u001b[92m[3.04478215 0.51052883]\u001b[0m\t \u001b[1m\u001b[92m0.00030893508024687597\u001b[0m\t \u001b[1m\u001b[92m0.00030893508024687597\u001b[0m\t \u001b[1m\u001b[92m2.1467124505308197\u001b[0m\t \u001b[1m\u001b[92m3.2652440013268484\u001b[0m\n",
            "6  \t [-3.87305469  3.91638207]\t 54081.01598611377\t 0.00030893508024687597\t 2.5997117572975426\t 3.812456651192247\n",
            "7  \t [ 2.56724962 -4.5       ]\t 57530.20161197595\t 0.00030893508024687597\t 2.3747682945689563\t 3.239175196043839\n",
            "8  \t [1.0236859  1.93970112]\t 114.15054031687306\t 0.00030893508024687597\t 2.053309055907171\t 2.156909599216409\n",
            "9  \t [-4.13441649 -0.74976807]\t 165.0571662396031\t 0.00030893508024687597\t 2.2926526001723353\t 2.6250311277001206\n",
            "10 \t [ 2.29237064 -1.44386619]\t 82.39808381845293\t 0.00030893508024687597\t 2.394411005078176\t 2.536539333164174\n",
            "11 \t [1.32732842 4.0535965 ]\t 8595.033680120117\t 0.00030893508024687597\t 2.3448628102395137\t 2.6380985000536015\n",
            "12 \t [-0.77246396  1.19102146]\t 9.919343279348078\t 0.00030893508024687597\t 2.0764391573615844\t 3.0336533638244423\n",
            "13 \t [2.65980302 2.12018704]\t 794.2295233427845\t 0.00030893508024687597\t 2.1133468972330567\t 3.2555347199258495\n",
            "14 \t [-2.31367871 -0.45497388]\t 66.95675294745948\t 0.00030893508024687597\t 2.672405909842963\t 3.1515884595154047\n",
            "15 \t [-4.34948553  1.03866969]\t 9.823535291114865\t 0.00030893508024687597\t 1.8647331797838032\t 2.8886698650880915\n",
            "16 \t [1.40510575 0.54943592]\t 4.473128745633822\t 0.00030893508024687597\t 2.112804520862441\t 2.9659668966908286\n",
            "17 \t [ 0.30074025 -2.59775295]\t 24.695061237497377\t 0.00030893508024687597\t 2.446013580842242\t 3.2039139497529807\n",
            "18 \t [-3.47902723 -2.2430146 ]\t 2359.9551351509026\t 0.00030893508024687597\t 2.4363659253946697\t 2.307979555306489\n",
            "19 \t [-1.75628226  2.48893994]\t 563.6896163459335\t 0.00030893508024687597\t 2.3662140714012168\t 3.244372681899106\n",
            "20 \t [-1.92708242 -3.27631684]\t 5598.366902951735\t 0.00030893508024687597\t 2.5111173798471427\t 2.942342195795196\n"
          ]
        }
      ],
      "source": [
        "### EXACT STP CBM GRADIENTS\n",
        "\n",
        "np.random.seed(run_num_2)\n",
        "surrogate_exact_2 = dtStudentProcess(cov_func, optimize=opt, nu = df)\n",
        "\n",
        "exact_2 = dGPGO(surrogate_exact_2, Acquisition_grad(util), objfunc, param)\n",
        "exact_2.run(init_evals=n_init, max_iter=iters)\n"
      ]
    },
    {
      "cell_type": "code",
      "execution_count": 36,
      "metadata": {
        "id": "XieJ158mIvlP",
        "colab": {
          "base_uri": "https://localhost:8080/"
        },
        "outputId": "3da270a9-ebcd-4579-f391-2949e5d4110c"
      },
      "outputs": [
        {
          "output_type": "stream",
          "name": "stdout",
          "text": [
            "Evaluation \t Proposed point \t  Current eval. \t  Best eval. \t        Exact CBM: StdDev. x \t Approx CBM: StdDev. x \n",
            "init\t [0.45718112 1.8733304 ]\t 41.912714742005974\t 41.912714742005974\t    \t    \n",
            "init\t [-1.88185735  0.09744845]\t 47.451188393399434\t 41.912714742005974\t    \t    \n",
            "init\t [3.53652259 3.5666378 ]\t 27475.816689924115\t 41.912714742005974\t    \t    \n",
            "init\t [-3.36973221 -2.6348141 ]\t 5079.048973002421\t 41.912714742005974\t    \t    \n",
            "init\t [-4.03679517 -0.53271141]\t 138.4086524103332\t 41.912714742005974\t    \t    \n",
            "1  \t [ 2.52283288 -1.74272821]\t 259.55509339560894\t 41.912714742005974\t 2.758508659624749\t 3.029362464189536\n",
            "2  \t [-3.83738698  3.53153869]\t 28235.98177764287\t 41.912714742005974\t 2.6474215000827694\t 4.146075773533726\n",
            "\u001b[1m\u001b[92m3\u001b[0m\t \u001b[1m\u001b[92m[-0.05054316 -1.76918193]\u001b[0m\t \u001b[1m\u001b[92m16.013668675061382\u001b[0m\t \u001b[1m\u001b[92m16.013668675061382\u001b[0m\t \u001b[1m\u001b[92m3.047454177311853\u001b[0m\t \u001b[1m\u001b[92m4.012372836110785\u001b[0m\n",
            "4  \t [-0.18976093 -3.93948468]\t 214.03278005054008\t 16.013668675061382\t 2.8364786346376634\t 4.107797451085641\n",
            "5  \t [ 2.9558873  -4.12137429]\t 45591.66521870441\t 16.013668675061382\t 3.263504568812353\t 3.6627130553681426\n",
            "\u001b[1m\u001b[92m6\u001b[0m\t \u001b[1m\u001b[92m[ 3.68912944 -0.01909886]\u001b[0m\t \u001b[1m\u001b[92m8.305384432334733\u001b[0m\t \u001b[1m\u001b[92m8.305384432334733\u001b[0m\t \u001b[1m\u001b[92m3.2316059891586733\u001b[0m\t \u001b[1m\u001b[92m3.161688522373273\u001b[0m\n",
            "7  \t [-0.16549005  4.33701937]\t 116.08624047779486\t 8.305384432334733\t 3.441711263098841\t 2.911779161892544\n",
            "\u001b[1m\u001b[92m8\u001b[0m\t \u001b[1m\u001b[92m[1.34439766e+00 6.12982473e-04]\u001b[0m\t \u001b[1m\u001b[92m2.4845280742617892\u001b[0m\t \u001b[1m\u001b[92m2.4845280742617892\u001b[0m\t \u001b[1m\u001b[92m3.361526079862991\u001b[0m\t \u001b[1m\u001b[92m2.970166782287516\u001b[0m\n",
            "9  \t [-1.57500339  2.19008147]\t 166.4435676216367\t 2.4845280742617892\t 3.447315489959356\t 3.455990079000503\n",
            "10 \t [-4.5 -4.5]\t 181853.61328125\t 2.4845280742617892\t 3.633081317444977\t 3.4314397945958546\n",
            "11 \t [-1.97554873 -1.72116071]\t 265.2313168654666\t 2.4845280742617892\t 2.7422349106829733\t 2.7168793712687633\n",
            "12 \t [-3.14618782  1.07100637]\t 8.457456219364381\t 2.4845280742617892\t 2.9386873283746224\t 2.959213084125093\n",
            "13 \t [2.28581995 1.47123965]\t 88.8109004225266\t 2.4845280742617892\t 3.2309753162897583\t 3.3597457188800677\n",
            "14 \t [-0.19607701 -0.10273065]\t 16.878260116834188\t 2.4845280742617892\t 2.808324989306652\t 2.88158567043763\n",
            "15 \t [ 4.48759189 -1.56594284]\t 541.7662942819563\t 2.4845280742617892\t 2.8904850129317254\t 2.940272437383091\n",
            "16 \t [1.17741302 3.70830708]\t 4101.006756629731\t 2.4845280742617892\t 3.0313470890071503\t 3.1017321623188656\n",
            "17 \t [-1.55121179 -3.23530015]\t 3435.4625226867065\t 2.4845280742617892\t 2.9684409980769457\t 3.187551797634928\n",
            "18 \t [ 1.04941199 -2.68874433]\t 437.13120994395837\t 2.4845280742617892\t 3.200755292749122\t 3.849176355881573\n",
            "19 \t [3.75910794 1.48654427]\t 183.05764859523356\t 2.4845280742617892\t 2.6892183154285765\t 3.0833884605618658\n",
            "20 \t [-1.64544203  4.12631231]\t 12990.008055088807\t 2.4845280742617892\t 3.2189318346759284\t 3.4326937994332734\n"
          ]
        }
      ],
      "source": [
        "### EXACT STP CBM GRADIENTS\n",
        "\n",
        "np.random.seed(run_num_3)\n",
        "surrogate_exact_3 = dtStudentProcess(cov_func, optimize=opt, nu = df)\n",
        "\n",
        "exact_3 = dGPGO(surrogate_exact_3, Acquisition_grad(util), objfunc, param)\n",
        "exact_3.run(init_evals=n_init, max_iter=iters)\n"
      ]
    },
    {
      "cell_type": "code",
      "execution_count": 37,
      "metadata": {
        "id": "PhLBVOIfIvol",
        "colab": {
          "base_uri": "https://localhost:8080/"
        },
        "outputId": "7775ca37-7e02-44ee-ccbb-28d7c11eabca"
      },
      "outputs": [
        {
          "output_type": "stream",
          "name": "stdout",
          "text": [
            "Evaluation \t Proposed point \t  Current eval. \t  Best eval. \t        Exact CBM: StdDev. x \t Approx CBM: StdDev. x \n",
            "init\t [4.20326855 0.42509024]\t 3.8409856613776237\t 3.8409856613776237\t    \t    \n",
            "init\t [4.25415924 1.93334394]\t 1070.6518137934977\t 3.8409856613776237\t    \t    \n",
            "init\t [ 1.77955942 -2.55519454]\t 1001.3529311398922\t 3.8409856613776237\t    \t    \n",
            "init\t [ 4.28647009 -4.4439277 ]\t 150069.47442764963\t 3.8409856613776237\t    \t    \n",
            "init\t [-2.22315874 -0.58687621]\t 67.08861688517413\t 3.8409856613776237\t    \t    \n",
            "1  \t [-4.5 -4.5]\t 181853.61328125\t 3.8409856613776237\t 3.627058343155844\t 4.090046942971856\n",
            "2  \t [-1.56595897  4.28237238]\t 14744.12645523412\t 3.8409856613776237\t 2.7096303613945767\t 3.6235838211493188\n",
            "3  \t [0.93060757 0.65112371]\t 8.126506172671503\t 3.8409856613776237\t 3.2119290162190612\t 3.8477247441144806\n",
            "4  \t [4.5 4.5]\t 174813.36328125\t 3.8409856613776237\t 3.0273236243217134\t 4.048747855962538\n",
            "5  \t [-4.5         1.45974393]\t 55.61031990277605\t 3.8409856613776237\t 2.2240824186314767\t 3.3705318261770474\n",
            "6  \t [-0.34446104 -4.33119926]\t 984.4235834882447\t 3.8409856613776237\t 2.360941405285331\t 2.898357485827117\n",
            "7  \t [-0.31974925 -1.67993433]\t 28.232984829214402\t 3.8409856613776237\t 1.9500796031869572\t 3.037957370693345\n",
            "8  \t [1.2010609  2.88830241]\t 1058.6566085749166\t 3.8409856613776237\t 2.365494246505544\t 2.8013860278479994\n",
            "9  \t [-1.51817189  1.67939356]\t 9.77151789628104\t 3.8409856613776237\t 2.362151475090147\t 2.3863354734964637\n",
            "10 \t [-4.5        -0.84563259]\t 205.5676841952988\t 3.8409856613776237\t 2.686520843896896\t 3.083936735109026\n",
            "11 \t [-3.80196748  4.30196558]\t 92034.43210756198\t 3.8409856613776237\t 2.85711078142276\t 3.267932747057912\n",
            "12 \t [ 4.5       -1.5321547]\t 493.1972259854359\t 3.8409856613776237\t 2.4448995723031643\t 2.3288830744277824\n",
            "13 \t [-2.05740567 -2.48043968]\t 1446.5619950015293\t 3.8409856613776237\t 2.350709950530832\t 2.4092813504297497\n",
            "14 \t [2.49082309 1.44561936]\t 90.12104136082068\t 3.8409856613776237\t 1.9741971934877638\t 2.1061113659040562\n",
            "15 \t [ 1.52345071 -0.74889512]\t 4.068329689136235\t 3.8409856613776237\t 2.1367094972288436\t 1.9919056040123813\n",
            "16 \t [0.85338864 4.40532227]\t 5926.601021645816\t 3.8409856613776237\t 1.9762630631862208\t 2.3589978190558094\n",
            "17 \t [-5.77053737e-01 -3.83494442e-05]\t 22.559625114761317\t 3.8409856613776237\t 2.479785620474406\t 2.4898798479311974\n",
            "18 \t [-2.93628838  0.70073201]\t 40.391048836888004\t 3.8409856613776237\t 2.120643132098435\t 2.451413285797317\n",
            "19 \t [ 1.15111268 -4.24629796]\t 8008.406616712792\t 3.8409856613776237\t 2.247579822244938\t 2.317586842234125\n",
            "20 \t [3.09397595 3.51932254]\t 19552.772542939485\t 3.8409856613776237\t 2.4222764158000762\t 2.3510032381950237\n"
          ]
        }
      ],
      "source": [
        "### EXACT STP CBM GRADIENTS\n",
        "\n",
        "np.random.seed(run_num_4)\n",
        "surrogate_exact_4 = dtStudentProcess(cov_func, optimize=opt, nu = df)\n",
        "\n",
        "exact_4 = dGPGO(surrogate_exact_4, Acquisition_grad(util), objfunc, param)\n",
        "exact_4.run(init_evals=n_init, max_iter=iters)\n"
      ]
    },
    {
      "cell_type": "code",
      "execution_count": 38,
      "metadata": {
        "id": "arbiPyj2IvsJ",
        "colab": {
          "base_uri": "https://localhost:8080/"
        },
        "outputId": "a3b8480b-c9e9-49e0-efe6-14f270ec9377"
      },
      "outputs": [
        {
          "output_type": "stream",
          "name": "stdout",
          "text": [
            "Evaluation \t Proposed point \t  Current eval. \t  Best eval. \t        Exact CBM: StdDev. x \t Approx CBM: StdDev. x \n",
            "init\t [-2.50206146  3.33659076]\t 8263.905568073349\t 0.311397019260738\t    \t    \n",
            "init\t [-2.6395276   3.76749817]\t 19560.15202528338\t 0.311397019260738\t    \t    \n",
            "init\t [-0.1042993   1.00569477]\t 14.186578993925806\t 0.311397019260738\t    \t    \n",
            "init\t [2.39317071 0.16576189]\t 0.311397019260738\t 0.311397019260738\t    \t    \n",
            "init\t [-1.82879549 -2.81050894]\t 2208.9823086257425\t 0.311397019260738\t    \t    \n",
            "1  \t [4.5 4.5]\t 174813.36328125\t 0.311397019260738\t 3.879483434111206\t 4.211396857451553\n",
            "2  \t [ 3.98913154 -3.49749735]\t 32079.59686223533\t 0.311397019260738\t 3.2621913867544965\t 3.882739974304506\n",
            "3  \t [-4.5 -4.5]\t 181853.61328125\t 0.311397019260738\t 3.3095240843163434\t 3.7673871499682243\n",
            "4  \t [ 0.70128707 -1.83974661]\t 21.595271398007547\t 0.311397019260738\t 2.208338595943343\t 3.349898121116112\n",
            "5  \t [-3.37339481 -0.14089038]\t 95.57626442162588\t 0.311397019260738\t 2.2466023948465685\t 3.418409166671929\n",
            "6  \t [ 0.39874438 -4.32432037]\t 988.0826023468537\t 0.311397019260738\t 2.4043795604959923\t 3.1053984833409825\n",
            "7  \t [0.68783162 3.53236931]\t 1153.7294104049997\t 0.311397019260738\t 2.136187436322369\t 3.243444114907133\n",
            "8  \t [-1.470074    1.62391528]\t 5.206011682013744\t 0.311397019260738\t 2.7027011373532\t 3.3903305412094347\n",
            "9  \t [-1.52113862 -0.63428419]\t 46.42821064975476\t 0.311397019260738\t 2.306177818519462\t 2.9200384764763863\n",
            "10 \t [4.20761393 1.10505949]\t 30.65931590164053\t 0.311397019260738\t 2.357053457292104\t 2.940891012236606\n",
            "11 \t [-1.28431315 -4.29490149]\t 11638.872904822898\t 0.311397019260738\t 2.3834119197131507\t 3.06619131025526\n",
            "12 \t [2.43127857 1.86944748]\t 340.7202048269809\t 0.311397019260738\t 2.399130995318909\t 2.912997854461925\n",
            "13 \t [-4.46864113  1.04141211]\t 9.422565675670342\t 0.311397019260738\t 2.576582670631673\t 3.2186953982234474\n",
            "14 \t [-2.91784539 -1.70398663]\t 498.25997701031076\t 0.311397019260738\t 2.131981401598324\t 2.7104812719032205\n",
            "15 \t [ 0.92681677 -0.38870921]\t 4.888261826932271\t 0.311397019260738\t 2.1161165067333547\t 3.333114203781739\n",
            "16 \t [ 1.70082447 -3.2392652 ]\t 3606.9440009954606\t 0.311397019260738\t 2.278105982809621\t 3.1308490599316294\n",
            "17 \t [ 4.5        -0.78014743]\t 58.721396472291886\t 0.311397019260738\t 1.804444792505092\t 3.019423582150595\n",
            "18 \t [ 2.78353986 -1.15924915]\t 50.83343185489558\t 0.311397019260738\t 2.3476658493107694\t 2.8818059926771986\n",
            "19 \t [-3.12907865  1.85293254]\t 230.43219680146052\t 0.311397019260738\t 2.2624692775641244\t 3.166687139770419\n",
            "20 \t [2.63952327 3.71814951]\t 19782.81743808848\t 0.311397019260738\t 2.754827916207972\t 3.3578039237192696\n"
          ]
        }
      ],
      "source": [
        "### EXACT STP CBM GRADIENTS\n",
        "\n",
        "np.random.seed(run_num_5)\n",
        "surrogate_exact_5 = dtStudentProcess(cov_func, optimize=opt, nu = df)\n",
        "\n",
        "exact_5 = dGPGO(surrogate_exact_5, Acquisition_grad(util), objfunc, param)\n",
        "exact_5.run(init_evals=n_init, max_iter=iters)\n"
      ]
    },
    {
      "cell_type": "code",
      "execution_count": 39,
      "metadata": {
        "id": "04KJCEm_Ivvf",
        "colab": {
          "base_uri": "https://localhost:8080/"
        },
        "outputId": "7fd57445-7a73-4026-85d0-dd546a733a69"
      },
      "outputs": [
        {
          "output_type": "stream",
          "name": "stdout",
          "text": [
            "Evaluation \t Proposed point \t  Current eval. \t  Best eval. \t        Exact CBM: StdDev. x \t Approx CBM: StdDev. x \n",
            "init\t [ 3.53574136 -1.51218175]\t 273.3122030790333\t 10.038000709758428\t    \t    \n",
            "init\t [ 2.89106211 -4.12473037]\t 43803.250406689425\t 10.038000709758428\t    \t    \n",
            "init\t [-3.53108988  0.85546858]\t 29.828433746298536\t 10.038000709758428\t    \t    \n",
            "init\t [ 0.26835626 -0.73073314]\t 10.658925295067505\t 10.038000709758428\t    \t    \n",
            "init\t [-1.48132936  1.10267489]\t 10.038000709758428\t 10.038000709758428\t    \t    \n",
            "1  \t [2.4379287  2.38275885]\t 1310.2537204171506\t 10.038000709758428\t 3.762419580456152\t 4.045295156192806\n",
            "2  \t [-4.5 -4.5]\t 181853.61328125\t 10.038000709758428\t 4.45826779335633\t 4.259219732820089\n",
            "3  \t [-1.71589681  4.5       ]\t 24077.912703534523\t 10.038000709758428\t 3.0075041452263105\t 3.612320618310399\n",
            "4  \t [4.5 4.5]\t 174813.36328125\t 10.038000709758428\t 3.2908186929262397\t 3.9728377071126117\n",
            "5  \t [-0.80122828 -3.04514019]\t 720.2869472392365\t 10.038000709758428\t 1.8882767601843404\t 2.9125325763796\n",
            "\u001b[1m\u001b[92m6\u001b[0m\t \u001b[1m\u001b[92m[4.22080957 0.66891112]\u001b[0m\t \u001b[1m\u001b[92m0.12785074013268288\u001b[0m\t \u001b[1m\u001b[92m0.12785074013268288\u001b[0m\t \u001b[1m\u001b[92m2.149091411595738\u001b[0m\t \u001b[1m\u001b[92m2.8298570408841703\u001b[0m\n",
            "7  \t [-4.40923521  3.56526018]\t 39701.31534208017\t 0.12785074013268288\t 2.7674409706496688\t 3.2731663417443975\n",
            "8  \t [-2.34720391 -0.99449133]\t 96.4003860103393\t 0.12785074013268288\t 1.7303158462560742\t 2.669444547036622\n",
            "9  \t [1.15530076 4.5       ]\t 12025.27964496497\t 0.12785074013268288\t 2.386895011196734\t 3.001616874192723\n",
            "10 \t [-4.35591395 -1.60932769]\t 819.244401643223\t 0.12785074013268288\t 2.4318377830063804\t 2.900794228071928\n",
            "11 \t [0.46300361 1.69090698]\t 32.35284246675592\t 0.12785074013268288\t 1.9699218050649465\t 2.577107954087632\n",
            "12 \t [ 0.51814888 -3.52707002]\t 493.1151375958515\t 0.12785074013268288\t 2.1328617095941884\t 2.808720503342309\n",
            "13 \t [ 1.62120724 -1.84751143]\t 132.69101173960414\t 0.12785074013268288\t 2.4056703831521316\t 2.81089746964891\n",
            "14 \t [2.05852035 0.33601334]\t 0.6128995673765533\t 0.12785074013268288\t 2.101324606062111\t 2.772774702404651\n",
            "15 \t [-1.57449968 -4.13792627]\t 14026.389032660023\t 0.12785074013268288\t 2.3381179819465507\t 2.981353445817229\n",
            "16 \t [-0.97251367 -1.52102161]\t 65.83808847901223\t 0.12785074013268288\t 1.9624427237645772\t 2.5640481687750967\n",
            "17 \t [-1.0565983   2.56075755]\t 210.8507834478853\t 0.12785074013268288\t 2.743296160939106\t 3.7304484020512434\n",
            "18 \t [-2.69603153  2.24188105]\t 705.3136302982475\t 0.12785074013268288\t 2.0865155160281628\t 2.9933360264547346\n",
            "19 \t [-4.43811363  2.05436849]\t 1142.1454479367871\t 0.12785074013268288\t 2.481138512120245\t 3.2423988066607192\n",
            "20 \t [ 4.3365339  -2.77013074]\t 10009.235424178816\t 0.12785074013268288\t 2.6517946356572524\t 3.0062908051454786\n"
          ]
        }
      ],
      "source": [
        "### EXACT STP CBM GRADIENTS\n",
        "\n",
        "np.random.seed(run_num_6)\n",
        "surrogate_exact_6 = dtStudentProcess(cov_func, optimize=opt, nu = df)\n",
        "\n",
        "exact_6 = dGPGO(surrogate_exact_6, Acquisition_grad(util), objfunc, param)\n",
        "exact_6.run(init_evals=n_init, max_iter=iters)\n"
      ]
    },
    {
      "cell_type": "code",
      "execution_count": 40,
      "metadata": {
        "id": "tAOkme3CIvyO",
        "colab": {
          "base_uri": "https://localhost:8080/"
        },
        "outputId": "21e8da57-9f35-4ca9-d81b-76945e24b312"
      },
      "outputs": [
        {
          "output_type": "stream",
          "name": "stdout",
          "text": [
            "Evaluation \t Proposed point \t  Current eval. \t  Best eval. \t        Exact CBM: StdDev. x \t Approx CBM: StdDev. x \n",
            "init\t [-3.8132254   2.51926913]\t 3321.1422834954587\t 2.9676923934097053\t    \t    \n",
            "init\t [-0.55431692  2.0111866 ]\t 2.9676923934097053\t 2.9676923934097053\t    \t    \n",
            "init\t [4.30190561 0.34646283]\t 6.32173172477085\t 2.9676923934097053\t    \t    \n",
            "init\t [ 0.01008417 -3.8515398 ]\t 11.971894461559128\t 2.9676923934097053\t    \t    \n",
            "init\t [-2.08404918e+00 -1.05749257e-03]\t 53.820317186435204\t 2.9676923934097053\t    \t    \n",
            "1  \t [1.86107545 4.19484619]\t 20236.29977322388\t 2.9676923934097053\t 3.507492547681479\t 3.8677249414332406\n",
            "2  \t [-4.5 -4.5]\t 181853.61328125\t 2.9676923934097053\t 4.0069594544607385\t 4.104245761074804\n",
            "3  \t [ 4.01220639 -3.62631103]\t 40031.114510083346\t 2.9676923934097053\t 2.9512884663432315\t 4.108291328145758\n",
            "4  \t [-3.5381093  -1.17462676]\t 226.89781537510947\t 2.9676923934097053\t 2.6774367149429517\t 2.677580219900779\n",
            "5  \t [ 1.03304315 -0.51831226]\t 4.335194221110227\t 2.9676923934097053\t 2.4864948939881635\t 3.3639010954085493\n",
            "6  \t [-1.08340156 -1.97053966]\t 166.98246758438438\t 2.9676923934097053\t 3.1432225845402617\t 3.8921201525199054\n",
            "7  \t [-1.25378003  4.40922721]\t 11175.55416411969\t 2.9676923934097053\t 2.7441836248291693\t 3.1630762612783285\n",
            "8  \t [4.5 4.5]\t 174813.36328125\t 2.9676923934097053\t 3.097686149840934\t 3.3554371548704998\n",
            "9  \t [2.1697083  1.32079863]\t 49.51647411206244\t 2.9676923934097053\t 2.334696776314952\t 3.1062306132623902\n",
            "10 \t [-4.41231747  4.33061417]\t 129388.5327537275\t 2.9676923934097053\t 2.155903245202511\t 3.342843406441127\n",
            "11 \t [ 1.07677763 -2.29038171]\t 180.4264592522392\t 2.9676923934097053\t 2.1434340006128316\t 2.254619376707045\n",
            "12 \t [ 2.92488727 -0.99538615]\t 33.88625873162864\t 2.9676923934097053\t 2.539764414650737\t 2.9269209382967007\n",
            "13 \t [-2.27230942  1.68991741]\t 40.707477484372646\t 2.9676923934097053\t 2.705288268826003\t 2.9079070710741615\n",
            "14 \t [-3.86341768  0.78708353]\t 40.43554507126062\t 2.9676923934097053\t 2.241320501101841\t 2.554525243817605\n",
            "15 \t [-0.40198886  0.27174691]\t 19.204316173964397\t 2.9676923934097053\t 2.2433411386709614\t 2.5363605841477166\n",
            "16 \t [-2.06373007 -3.50291983]\t 9280.082303638255\t 2.9676923934097053\t 2.5222551033479785\t 2.5199584315168537\n",
            "17 \t [0.86206398 2.42569377]\t 247.06284588716247\t 2.9676923934097053\t 2.1147701863887436\t 2.236450014856005\n",
            "18 \t [ 1.62132038 -4.39050087]\t 19623.216916091213\t 2.9676923934097053\t 2.652035266280839\t 2.8520816106149005\n",
            "19 \t [0.86137076 0.67285866]\t 8.752261262934077\t 2.9676923934097053\t 2.7154632295142997\t 2.7116797466083846\n",
            "20 \t [3.97375584 1.68249083]\t 417.4282657138473\t 2.9676923934097053\t 2.307878236598231\t 2.7470975409838423\n"
          ]
        }
      ],
      "source": [
        "### EXACT STP CBM GRADIENTS\n",
        "\n",
        "np.random.seed(run_num_7)\n",
        "surrogate_exact_7 = dtStudentProcess(cov_func, optimize=opt, nu = df)\n",
        "\n",
        "exact_7 = dGPGO(surrogate_exact_7, Acquisition_grad(util), objfunc, param)\n",
        "exact_7.run(init_evals=n_init, max_iter=iters)\n"
      ]
    },
    {
      "cell_type": "code",
      "execution_count": 41,
      "metadata": {
        "id": "69-J3EF4Iv1S",
        "colab": {
          "base_uri": "https://localhost:8080/"
        },
        "outputId": "6490e4b3-b5bf-45f0-d728-d9d84a1f81d4"
      },
      "outputs": [
        {
          "output_type": "stream",
          "name": "stdout",
          "text": [
            "Evaluation \t Proposed point \t  Current eval. \t  Best eval. \t        Exact CBM: StdDev. x \t Approx CBM: StdDev. x \n",
            "init\t [3.36086463 4.21686597]\t 66731.07602386779\t 1.8693348557707412\t    \t    \n",
            "init\t [3.32275086 0.27770122]\t 1.8693348557707412\t 1.8693348557707412\t    \t    \n",
            "init\t [-2.40544505 -4.39741076]\t 45883.361726150484\t 1.8693348557707412\t    \t    \n",
            "init\t [-0.62578064 -0.87883776]\t 26.39306084619828\t 1.8693348557707412\t    \t    \n",
            "init\t [ 0.20407204 -0.19447384]\t 11.649230998110728\t 1.8693348557707412\t    \t    \n",
            "1  \t [ 4.36283378 -4.24132271]\t 118250.19259523552\t 1.8693348557707412\t 2.6917608486327493\t 4.1775436157985135\n",
            "2  \t [-4.42522463  2.59724938]\t 5535.695265667181\t 1.8693348557707412\t 2.9979877864488946\t 4.012386100319626\n",
            "3  \t [-1.0657662   4.30509469]\t 6891.542319872638\t 1.8693348557707412\t 2.7401940691055833\t 3.7340171016555312\n",
            "4  \t [-2.92106236 -0.72466131]\t 100.29636989100759\t 1.8693348557707412\t 3.154578281516183\t 3.8725882101029567\n",
            "5  \t [-1.9307964   1.59945738]\t 11.87999774966999\t 1.8693348557707412\t 3.0906921775336627\t 3.3725898783696553\n",
            "6  \t [ 0.94962315 -2.28601226]\t 135.3434387709009\t 1.8693348557707412\t 3.1805544060915354\t 3.386052478760273\n",
            "7  \t [0.520016   2.02645411]\t 60.45340565384126\t 1.8693348557707412\t 3.0080184176685623\t 3.3083484823744684\n",
            "8  \t [-4.29846239 -2.24381358]\t 3544.6473750346913\t 1.8693348557707412\t 3.3944403042397133\t 3.6780318506891847\n",
            "9  \t [ 0.76345848 -4.30605118]\t 3743.463044500036\t 1.8693348557707412\t 2.8891068060518506\t 3.1172602388037736\n",
            "10 \t [ 2.61748397 -1.38346628]\t 91.93959141248018\t 1.8693348557707412\t 2.8124463844729535\t 3.554206139488852\n",
            "11 \t [1.78728332 0.72240888]\t 5.239777259898222\t 1.8693348557707412\t 3.1478260995726606\t 3.7231807672047874\n",
            "12 \t [-4.18905264 -0.23064589]\t 130.0678582566849\t 1.8693348557707412\t 2.807241306239741\t 3.6757673968508073\n",
            "13 \t [4.5        1.42799817]\t 185.79585198235378\t 1.8693348557707412\t 3.2022356967459666\t 3.6399161687440826\n",
            "14 \t [-3.39179072  4.45013364]\t 89679.36210372916\t 1.8693348557707412\t 3.219756045201818\t 3.828474477799789\n",
            "15 \t [-1.73110545 -1.91825033]\t 323.37008564774754\t 1.8693348557707412\t 2.8228723277971786\t 2.7580586956207265\n",
            "16 \t [ 4.07536105 -1.0156018 ]\t 83.44977987001838\t 1.8693348557707412\t 3.0200794458967075\t 2.6114894736677083\n",
            "17 \t [0.7381394  3.61526394]\t 1487.9963602979954\t 1.8693348557707412\t 3.514987143487227\t 3.1119197313598534\n",
            "18 \t [-3.38251045  1.02378171]\t 12.025921900416098\t 1.8693348557707412\t 2.635576189417331\t 2.8929673283048953\n",
            "19 \t [-4.5 -4.5]\t 181853.61328125\t 1.8693348557707412\t 3.39089618452727\t 3.193424866829077\n",
            "20 \t [2.76608485 1.88720808]\t 443.220270349495\t 1.8693348557707412\t 2.4605305343989246\t 2.511923742632173\n"
          ]
        }
      ],
      "source": [
        "### EXACT STP CBM GRADIENTS\n",
        "\n",
        "np.random.seed(run_num_8)\n",
        "surrogate_exact_8 = dtStudentProcess(cov_func, optimize=opt, nu = df)\n",
        "\n",
        "exact_8 = dGPGO(surrogate_exact_8, Acquisition_grad(util), objfunc, param)\n",
        "exact_8.run(init_evals=n_init, max_iter=iters)\n"
      ]
    },
    {
      "cell_type": "code",
      "execution_count": 42,
      "metadata": {
        "id": "vonm9jyuIv4t",
        "colab": {
          "base_uri": "https://localhost:8080/"
        },
        "outputId": "efa02eda-5a4d-4349-921b-bca087f8b219"
      },
      "outputs": [
        {
          "output_type": "stream",
          "name": "stdout",
          "text": [
            "Evaluation \t Proposed point \t  Current eval. \t  Best eval. \t        Exact CBM: StdDev. x \t Approx CBM: StdDev. x \n",
            "init\t [-4.40663262  0.01687133]\t 127.7531900635415\t 22.479204656276803\t    \t    \n",
            "init\t [-0.03804036 -3.29553424]\t 22.479204656276803\t 22.479204656276803\t    \t    \n",
            "init\t [-3.22100023 -2.53297192]\t 3783.0538402600087\t 22.479204656276803\t    \t    \n",
            "init\t [-0.73342638 -2.26708948]\t 157.51337782244087\t 22.479204656276803\t    \t    \n",
            "init\t [-3.74346314 -1.39051224]\t 380.7730677650304\t 22.479204656276803\t    \t    \n",
            "1  \t [2.73365793 4.35023323]\t 53339.37070055468\t 22.479204656276803\t 2.7786502274240776\t 2.6909551450303826\n",
            "2  \t [-2.50174122  3.51176676]\t 11358.696468881277\t 22.479204656276803\t 2.7337772367164535\t 3.919423153153339\n",
            "3  \t [ 4.25647635 -2.99390664]\t 14969.763744060918\t 22.479204656276803\t 2.963124267929696\t 4.099598604012571\n",
            "\u001b[1m\u001b[92m4\u001b[0m\t \u001b[1m\u001b[92m[0.43734126 0.47301571]\u001b[0m\t \u001b[1m\u001b[92m10.25226219312692\u001b[0m\t \u001b[1m\u001b[92m10.25226219312692\u001b[0m\t \u001b[1m\u001b[92m2.7975127553462396\u001b[0m\t \u001b[1m\u001b[92m3.3007812925733906\u001b[0m\n",
            "\u001b[1m\u001b[92m5\u001b[0m\t \u001b[1m\u001b[92m[4.37120473 0.69311873]\u001b[0m\t \u001b[1m\u001b[92m0.11007738873347322\u001b[0m\t \u001b[1m\u001b[92m0.11007738873347322\u001b[0m\t \u001b[1m\u001b[92m3.1114027155415642\u001b[0m\t \u001b[1m\u001b[92m3.5007870079460015\u001b[0m\n",
            "6  \t [ 2.37814251 -0.46716774]\t 4.109457876166304\t 0.11007738873347322\t 2.042518450152808\t 3.339278188790192\n",
            "7  \t [-2.18018409  0.50763837]\t 42.01699540171918\t 0.11007738873347322\t 3.443313840191981\t 3.533996196842433\n",
            "8  \t [-4.5 -4.5]\t 181853.61328125\t 0.11007738873347322\t 3.0516106968032823\t 3.3090030362463083\n",
            "9  \t [-0.0648713   2.69008458]\t 7.3751067172164095\t 0.11007738873347322\t 2.8984475688840328\t 3.559122367846887\n",
            "10 \t [ 1.46890975 -2.1227723 ]\t 230.57061889847648\t 0.11007738873347322\t 2.897015736224969\t 3.5957054601813856\n",
            "11 \t [1.60723424 1.82581777]\t 160.64795396008228\t 0.11007738873347322\t 2.7766138920979566\t 3.351810958243164\n",
            "12 \t [-1.71333842 -1.02861782]\t 67.85995945201215\t 0.11007738873347322\t 2.530480183185452\t 3.8152157990866384\n",
            "13 \t [-3.90826421  1.79638741]\t 304.194589926223\t 0.11007738873347322\t 2.73430935853421\t 3.5986318296323714\n",
            "14 \t [ 1.33324313 -3.70579682]\t 4822.52287277435\t 0.11007738873347322\t 2.3705287258970964\t 3.8620337535087184\n",
            "15 \t [0.06650085 4.13505464]\t 66.65815833291464\t 0.11007738873347322\t 2.365334422902794\t 3.186284990442554\n",
            "16 \t [-1.38483171 -4.30763518]\t 13721.409813204415\t 0.11007738873347322\t 2.5343840365251764\t 3.2763987738202487\n",
            "17 \t [3.95297664 2.27550899]\t 2442.2966775779605\t 0.11007738873347322\t 3.093224782188758\t 4.130538280722113\n",
            "18 \t [-0.88383988  1.32272334]\t 6.13735641786006\t 0.11007738873347322\t 2.60281707590861\t 3.2532712284144516\n",
            "19 \t [-4.38750652  3.85577638]\t 63333.09832260292\t 0.11007738873347322\t 3.059004699232989\t 3.5920162549549626\n",
            "20 \t [ 0.25292484 -1.02146038]\t 10.510135833422499\t 0.11007738873347322\t 2.9539907065109743\t 3.448691556940896\n"
          ]
        }
      ],
      "source": [
        "### EXACT STP CBM GRADIENTS\n",
        "\n",
        "np.random.seed(run_num_9)\n",
        "surrogate_exact_9 = dtStudentProcess(cov_func, optimize=opt, nu = df)\n",
        "\n",
        "exact_9 = dGPGO(surrogate_exact_9, Acquisition_grad(util), objfunc, param)\n",
        "exact_9.run(init_evals=n_init, max_iter=iters)\n"
      ]
    },
    {
      "cell_type": "code",
      "execution_count": 43,
      "metadata": {
        "id": "6amuYlUdIv7r",
        "colab": {
          "base_uri": "https://localhost:8080/"
        },
        "outputId": "c4209402-8253-45e4-e7be-3122d0d99cf2"
      },
      "outputs": [
        {
          "output_type": "stream",
          "name": "stdout",
          "text": [
            "Evaluation \t Proposed point \t  Current eval. \t  Best eval. \t        Exact CBM: StdDev. x \t Approx CBM: StdDev. x \n",
            "init\t [ 2.44188579 -4.31323246]\t 40500.708995062356\t 15.229523981513257\t    \t    \n",
            "init\t [1.20283411 2.23923494]\t 281.8768699287936\t 15.229523981513257\t    \t    \n",
            "init\t [-0.01343689 -2.47683019]\t 15.229523981513257\t 15.229523981513257\t    \t    \n",
            "init\t [-2.71743422  2.34477641]\t 985.5637470908332\t 15.229523981513257\t    \t    \n",
            "init\t [-2.97800247 -3.70494167]\t 26177.1461164703\t 15.229523981513257\t    \t    \n",
            "1  \t [4.5 4.5]\t 174813.36328125\t 15.229523981513257\t 3.008599634561343\t 3.629561060005143\n",
            "2  \t [ 4.5        -0.23157151]\t 24.101466436435427\t 15.229523981513257\t 2.337164607275677\t 3.295004029303269\n",
            "\u001b[1m\u001b[92m3\u001b[0m\t \u001b[1m\u001b[92m[ 1.59211888 -0.44340878]\u001b[0m\t \u001b[1m\u001b[92m2.3789765195949784\u001b[0m\t \u001b[1m\u001b[92m2.3789765195949784\u001b[0m\t \u001b[1m\u001b[92m2.431136270085558\u001b[0m\t \u001b[1m\u001b[92m3.824035830163554\u001b[0m\n",
            "4  \t [-1.04820664 -0.11844297]\t 31.42813281372261\t 2.3789765195949784\t 3.187336689103319\t 3.9243338692148075\n",
            "5  \t [-4.5        -0.08133423]\t 136.48764995654827\t 2.3789765195949784\t 2.98270663927012\t 3.887557793619097\n",
            "6  \t [0.09298606 4.45732906]\t 135.27309231382554\t 2.3789765195949784\t 3.0285962448955717\t 4.07862628538139\n",
            "7  \t [2.68403172 1.7921909 ]\t 317.0707762130927\t 2.3789765195949784\t 2.6849396847281297\t 3.633742925820886\n",
            "8  \t [-0.83232475  2.65097402]\t 152.85068402493758\t 2.3789765195949784\t 2.924596871182179\t 3.5354770482509497\n",
            "9  \t [ 4.23215577 -2.0194233 ]\t 1689.9550802071951\t 2.3789765195949784\t 2.665799317540156\t 3.703521792290094\n",
            "10 \t [-4.27735095  1.71023747]\t 248.25016707280554\t 2.3789765195949784\t 2.881835539234644\t 3.531273563728624\n",
            "11 \t [-2.73022413  4.15170602]\t 37930.252290764096\t 2.3789765195949784\t 2.6944199986785646\t 3.7740244516107007\n",
            "12 \t [-2.67063986 -1.04410499]\t 121.94551501008638\t 2.3789765195949784\t 2.504255095701706\t 3.0039708775089267\n",
            "13 \t [4.4174221  1.38478975]\t 148.74163027798025\t 2.3789765195949784\t 2.585168141255811\t 3.309367620767566\n",
            "14 \t [ 2.51701776 -1.65766568]\t 200.12777462459883\t 2.3789765195949784\t 2.914444027528603\t 3.7537963212684855\n",
            "15 \t [0.38228995 0.75334495]\t 12.111448664329835\t 2.3789765195949784\t 3.3961243591866417\t 3.9385913734194977\n",
            "16 \t [-2.1133381   0.56242507]\t 38.56142735833102\t 2.3789765195949784\t 2.8417173208178546\t 3.702244180523788\n",
            "17 \t [2.19387729 3.88084012]\t 17710.3090903893\t 2.3789765195949784\t 3.1940565022265406\t 3.7274536306988404\n",
            "\u001b[1m\u001b[92m18\u001b[0m\t \u001b[1m\u001b[92m[2.84411775 0.37620273]\u001b[0m\t \u001b[1m\u001b[92m0.1164496502336296\u001b[0m\t \u001b[1m\u001b[92m0.1164496502336296\u001b[0m\t \u001b[1m\u001b[92m2.675770034127417\u001b[0m\t \u001b[1m\u001b[92m3.5789422197281837\u001b[0m\n",
            "19 \t [-1.40132878 -1.9538361 ]\t 244.31108100563563\t 0.1164496502336296\t 2.815980049372307\t 4.157685771590867\n",
            "20 \t [-0.49151281 -4.1371291 ]\t 1486.3451023912432\t 0.1164496502336296\t 2.1347809096206465\t 3.5473697585241406\n"
          ]
        }
      ],
      "source": [
        "### EXACT STP CBM GRADIENTS\n",
        "\n",
        "np.random.seed(run_num_10)\n",
        "surrogate_exact_10 = dtStudentProcess(cov_func, optimize=opt, nu = df)\n",
        "\n",
        "exact_10 = dGPGO(surrogate_exact_10, Acquisition_grad(util), objfunc, param)\n",
        "exact_10.run(init_evals=n_init, max_iter=iters)\n"
      ]
    },
    {
      "cell_type": "code",
      "execution_count": 44,
      "metadata": {
        "id": "VwbLIP9cIv-F",
        "colab": {
          "base_uri": "https://localhost:8080/"
        },
        "outputId": "b352d540-66d3-4404-bfd7-834a8587599d"
      },
      "outputs": [
        {
          "output_type": "stream",
          "name": "stdout",
          "text": [
            "Evaluation \t Proposed point \t  Current eval. \t  Best eval. \t        Exact CBM: StdDev. x \t Approx CBM: StdDev. x \n",
            "init\t [-2.8775728  -4.32472283]\t 59421.14819100274\t 2.8907294990196846\t    \t    \n",
            "init\t [-0.33103326  2.02440536]\t 2.8907294990196846\t 2.8907294990196846\t    \t    \n",
            "init\t [-0.71816756 -0.13115612]\t 25.271447350027046\t 2.8907294990196846\t    \t    \n",
            "init\t [-4.38497267 -0.11365553]\t 133.2515796886641\t 2.8907294990196846\t    \t    \n",
            "init\t [3.97625987 3.1571558 ]\t 16859.81677190551\t 2.8907294990196846\t    \t    \n",
            "1  \t [ 3.3799256  -3.21481831]\t 14086.238465886821\t 2.8907294990196846\t 2.805392947465374\t 4.096330748748039\n",
            "2  \t [-2.76283728  2.40869011]\t 1230.7881810361032\t 2.8907294990196846\t 1.9799774605222429\t 3.3516590603218606\n",
            "3  \t [0.57479912 4.104037  ]\t 1885.5832941098724\t 2.8907294990196846\t 2.639431917945938\t 3.4478777756659817\n",
            "\u001b[1m\u001b[92m4\u001b[0m\t \u001b[1m\u001b[92m[1.8414554  0.11854046]\u001b[0m\t \u001b[1m\u001b[92m0.8226499170248169\u001b[0m\t \u001b[1m\u001b[92m0.8226499170248169\u001b[0m\t \u001b[1m\u001b[92m2.4953936145755975\u001b[0m\t \u001b[1m\u001b[92m3.3714220720522623\u001b[0m\n",
            "5  \t [ 0.32327664 -2.33394132]\t 17.04735703408594\t 0.8226499170248169\t 2.509332038038886\t 3.6626860022078023\n",
            "6  \t [3.79723873 0.03440856]\t 8.447911114091056\t 0.8226499170248169\t 2.693882895344315\t 3.3242887124158513\n",
            "7  \t [-2.52305149 -0.83601914]\t 90.51882609498668\t 0.8226499170248169\t 2.9039727315465944\t 3.778900347342375\n",
            "8  \t [ 0.3418482  -4.43424092]\t 832.0601213371465\t 0.8226499170248169\t 2.620252374639637\t 3.6596305605853887\n",
            "9  \t [-1.72294782  4.10145969]\t 13756.549132904134\t 0.8226499170248169\t 2.8506672285619405\t 3.6498081838916394\n",
            "10 \t [-4.09209241  1.49227715]\t 55.2956280450369\t 0.8226499170248169\t 2.7140521807566285\t 3.7769221278540335\n",
            "11 \t [-4.35249381  3.66906037]\t 46071.403512547986\t 0.8226499170248169\t 3.190721217988901\t 4.121472342691544\n",
            "12 \t [-2.02691928  0.84314451]\t 23.160825652934243\t 0.8226499170248169\t 2.9417342349528597\t 3.101462655941611\n",
            "13 \t [1.48532898 1.88080618]\t 165.59610312962212\t 0.8226499170248169\t 2.7764896884958588\t 3.0764937795278176\n",
            "14 \t [ 0.66204906 -0.78981821]\t 6.7820255151361994\t 0.8226499170248169\t 2.6624586937478822\t 3.4203163491754243\n",
            "15 \t [-1.13204579 -1.7788498 ]\t 124.2227304364935\t 0.8226499170248169\t 3.1275128711686615\t 3.362577532115098\n",
            "16 \t [-4.19427921 -1.89854069]\t 1523.54097938057\t 0.8226499170248169\t 3.1478346689511496\t 3.653407994363963\n",
            "17 \t [ 2.32541819 -1.25866216]\t 45.91427111079082\t 0.8226499170248169\t 2.4888287798496895\t 3.2667376889449606\n",
            "18 \t [ 1.37020195 -3.29163934]\t 2533.470492885557\t 0.8226499170248169\t 3.842647468339454\t 3.7912412165092553\n",
            "19 \t [1.85749466 3.41697372]\t 6129.423178335214\t 0.8226499170248169\t 2.7517466898575593\t 3.3860118704035176\n",
            "20 \t [ 2.1299273  -4.46289293]\t 37570.3775829275\t 0.8226499170248169\t 4.244389630611204\t 4.1108052041569945\n"
          ]
        }
      ],
      "source": [
        "### EXACT STP CBM GRADIENTS\n",
        "\n",
        "np.random.seed(run_num_11)\n",
        "surrogate_exact_11 = dtStudentProcess(cov_func, optimize=opt, nu = df)\n",
        "\n",
        "exact_11 = dGPGO(surrogate_exact_11, Acquisition_grad(util), objfunc, param)\n",
        "exact_11.run(init_evals=n_init, max_iter=iters)\n"
      ]
    },
    {
      "cell_type": "code",
      "execution_count": 45,
      "metadata": {
        "id": "MlUNFjc-JTBY",
        "colab": {
          "base_uri": "https://localhost:8080/"
        },
        "outputId": "0cf98770-0ed4-4d70-b08d-217cf497caf3"
      },
      "outputs": [
        {
          "output_type": "stream",
          "name": "stdout",
          "text": [
            "Evaluation \t Proposed point \t  Current eval. \t  Best eval. \t        Exact CBM: StdDev. x \t Approx CBM: StdDev. x \n",
            "init\t [-3.11253442  2.16044727]\t 746.3412720881302\t 48.45196617039589\t    \t    \n",
            "init\t [-2.13016486  0.30365454]\t 48.45196617039589\t 48.45196617039589\t    \t    \n",
            "init\t [-4.36882534  3.76872307]\t 54651.235607336355\t 48.45196617039589\t    \t    \n",
            "init\t [ 3.60643369 -4.19920715]\t 76007.68460600567\t 48.45196617039589\t    \t    \n",
            "init\t [ 4.11254403 -3.26511611]\t 22941.17826205435\t 48.45196617039589\t    \t    \n",
            "1  \t [4.5 4.5]\t 174813.36328125\t 48.45196617039589\t 3.9039304993710067\t 3.500222542133336\n",
            "2  \t [-4.5 -4.5]\t 181853.61328125\t 48.45196617039589\t 3.003880464815346\t 2.8523709667957546\n",
            "3  \t [0.39301595 2.12427005]\t 52.943534308151584\t 48.45196617039589\t 2.1676344151535063\t 1.9658951530863285\n",
            "\u001b[1m\u001b[92m4\u001b[0m\t \u001b[1m\u001b[92m[-0.30833532 -2.16593838]\u001b[0m\t \u001b[1m\u001b[92m44.168147747531144\u001b[0m\t \u001b[1m\u001b[92m44.168147747531144\u001b[0m\t \u001b[1m\u001b[92m2.197595867862042\u001b[0m\t \u001b[1m\u001b[92m2.067280977983209\u001b[0m\n",
            "\u001b[1m\u001b[92m5\u001b[0m\t \u001b[1m\u001b[92m[2.82087197 0.1664906 ]\u001b[0m\t \u001b[1m\u001b[92m1.0007500721367193\u001b[0m\t \u001b[1m\u001b[92m1.0007500721367193\u001b[0m\t \u001b[1m\u001b[92m2.3467853230972233\u001b[0m\t \u001b[1m\u001b[92m2.5381258858588955\u001b[0m\n",
            "6  \t [-4.38198427 -0.57480031]\t 158.90113297360477\t 1.0007500721367193\t 2.3639500554237163\t 2.8693333309971107\n",
            "7  \t [0.17350788 0.00883756]\t 12.085341766590734\t 1.0007500721367193\t 2.26842243233593\t 2.492627576554543\n",
            "8  \t [-0.89589055  3.92935572]\t 2699.311626787804\t 1.0007500721367193\t 2.533546856110954\t 2.541097358468461\n",
            "9  \t [-0.99212561 -4.19912904]\t 6188.153954243719\t 1.0007500721367193\t 2.2695886883947174\t 2.2207622069982174\n",
            "10 \t [1.11526034 4.5       ]\t 11229.190099374684\t 1.0007500721367193\t 2.3404926672220734\t 2.584879979932872\n",
            "11 \t [-2.35729459 -1.75907753]\t 388.60556608123863\t 1.0007500721367193\t 2.3425484296726586\t 2.3361011881701588\n",
            "12 \t [ 1.93337878 -1.82665879]\t 184.56166141703198\t 1.0007500721367193\t 2.2936611661935165\t 2.7144529785440406\n",
            "13 \t [ 4.0400675  -0.89956588]\t 59.285906202382264\t 1.0007500721367193\t 2.3973898747465983\t 2.6211146578284636\n",
            "14 \t [2.24484107 2.044607  ]\t 485.8348007244237\t 1.0007500721367193\t 2.5087975290341498\t 2.5191948468383374\n",
            "15 \t [ 0.77896891 -4.5       ]\t 5085.14317601472\t 1.0007500721367193\t 2.5774177848204487\t 2.4869767252773562\n",
            "16 \t [4.42372923 1.28761589]\t 92.7651231147701\t 1.0007500721367193\t 2.2122160622313443\t 2.424024125918125\n",
            "17 \t [-1.11532002  1.62311463]\t 1.889034540246314\t 1.0007500721367193\t 1.9521980945837654\t 2.332901070421576\n",
            "18 \t [ 0.86178655 -2.90071797]\t 449.4578916165801\t 1.0007500721367193\t 2.86884532142364\t 3.1806956152576342\n",
            "19 \t [-4.33995818  1.00948157]\t 13.07736477498754\t 1.0007500721367193\t 2.5888578661237243\t 2.3286264675073736\n",
            "20 \t [1.27986346 0.90665891]\t 11.280760922869076\t 1.0007500721367193\t 2.2509886564006685\t 2.461469634157606\n"
          ]
        }
      ],
      "source": [
        "### EXACT STP CBM GRADIENTS\n",
        "\n",
        "np.random.seed(run_num_12)\n",
        "surrogate_exact_12 = dtStudentProcess(cov_func, optimize=opt, nu = df)\n",
        "\n",
        "exact_12 = dGPGO(surrogate_exact_12, Acquisition_grad(util), objfunc, param)\n",
        "exact_12.run(init_evals=n_init, max_iter=iters)\n"
      ]
    },
    {
      "cell_type": "code",
      "execution_count": 46,
      "metadata": {
        "id": "9BsKdU9eJTFL",
        "colab": {
          "base_uri": "https://localhost:8080/"
        },
        "outputId": "21c0a7c9-e664-4f3e-8fb8-c4e6fe69e269"
      },
      "outputs": [
        {
          "output_type": "stream",
          "name": "stdout",
          "text": [
            "Evaluation \t Proposed point \t  Current eval. \t  Best eval. \t        Exact CBM: StdDev. x \t Approx CBM: StdDev. x \n",
            "init\t [ 2.4993217  -2.36212902]\t 1312.0597023727128\t 25.917758071459016\t    \t    \n",
            "init\t [2.91850679 4.19174278]\t 48757.43948599124\t 25.917758071459016\t    \t    \n",
            "init\t [ 4.25341003 -0.41895677]\t 25.917758071459016\t 25.917758071459016\t    \t    \n",
            "init\t [0.98138216 2.47973863]\t 337.8750512678324\t 25.917758071459016\t    \t    \n",
            "init\t [1.2745201  1.99816407]\t 177.1374160884886\t 25.917758071459016\t    \t    \n",
            "1  \t [-1.35286454  0.56962649]\t 28.242550788120447\t 25.917758071459016\t 2.4468311110574197\t 2.95115396576654\n",
            "2  \t [-4.5 -4.5]\t 181853.61328125\t 25.917758071459016\t 2.441987190116833\t 3.650715205385069\n",
            "3  \t [-2.28230984  4.14144068]\t 25945.122888354657\t 25.917758071459016\t 2.6832177285143834\t 3.5088248722812723\n",
            "4  \t [-1.02136422 -2.03826972]\t 173.30976176954903\t 25.917758071459016\t 2.585369918686967\t 3.439030928527056\n",
            "5  \t [-4.35456867  0.17918457]\t 115.90686081254319\t 25.917758071459016\t 3.1447401360701295\t 4.2267218411235365\n",
            "\u001b[1m\u001b[92m6\u001b[0m\t \u001b[1m\u001b[92m[ 1.43732534 -0.30625912]\u001b[0m\t \u001b[1m\u001b[92m2.3544572500719716\u001b[0m\t \u001b[1m\u001b[92m2.3544572500719716\u001b[0m\t \u001b[1m\u001b[92m2.869861579459915\u001b[0m\t \u001b[1m\u001b[92m3.754783180472862\u001b[0m\n",
            "7  \t [-0.22995008 -4.45390569]\t 548.8512684787111\t 2.3544572500719716\t 2.895025442441767\t 3.8740401896978756\n",
            "8  \t [4.5        1.59234495]\t 366.74282031754933\t 2.3544572500719716\t 2.418043136365976\t 3.7760400663617273\n",
            "9  \t [ 1.82395641 -3.95146672]\t 13376.828307514506\t 2.3544572500719716\t 2.9208820225891645\t 3.9159200101661367\n",
            "10 \t [-3.01674908 -0.83738265]\t 114.48836442077025\t 2.3544572500719716\t 2.5752045677398505\t 3.8799659367459576\n",
            "11 \t [ 4.04489422 -3.54750737]\t 35822.22686240255\t 2.3544572500719716\t 2.748085784821093\t 3.600805293455945\n",
            "12 \t [-3.19116031  1.63684849]\t 76.84218161026065\t 2.3544572500719716\t 2.531912326578161\t 3.2782838579069824\n",
            "13 \t [-4.5         2.31148104]\t 2665.883839186512\t 2.3544572500719716\t 2.9371071200893875\t 3.5459971042514553\n",
            "14 \t [-0.57679148  1.95130333]\t 2.4768790552180593\t 2.3544572500719716\t 2.2381218493592603\t 3.284236662770363\n",
            "15 \t [2.58431499 1.07554267]\t 20.525648698935306\t 2.3544572500719716\t 2.7123159517625113\t 3.0665192576584794\n",
            "16 \t [0.19713781 4.45272073]\t 433.59262675018095\t 2.3544572500719716\t 2.587567745047005\t 2.932245313964516\n",
            "17 \t [-1.89525028 -3.49681095]\t 7782.59825392534\t 2.3544572500719716\t 3.4291594042577693\t 3.56837939092936\n",
            "18 \t [-0.04604162 -0.790075  ]\t 14.900983578092053\t 2.3544572500719716\t 2.7806476008666037\t 3.2308910732203233\n",
            "19 \t [ 0.6902496  -2.21403708]\t 55.82864361065343\t 2.3544572500719716\t 2.6088189481602373\t 3.0835676417832167\n",
            "20 \t [-4.14792051 -1.7876381 ]\t 1145.9988864816517\t 2.3544572500719716\t 3.2690321926150396\t 3.7226544700030577\n"
          ]
        }
      ],
      "source": [
        "### EXACT STP CBM GRADIENTS\n",
        "\n",
        "np.random.seed(run_num_13)\n",
        "surrogate_exact_13 = dtStudentProcess(cov_func, optimize=opt, nu = df)\n",
        "\n",
        "exact_13 = dGPGO(surrogate_exact_13, Acquisition_grad(util), objfunc, param)\n",
        "exact_13.run(init_evals=n_init, max_iter=iters)\n"
      ]
    },
    {
      "cell_type": "code",
      "execution_count": 47,
      "metadata": {
        "id": "k6GjFBr1JTJf",
        "colab": {
          "base_uri": "https://localhost:8080/"
        },
        "outputId": "72efd761-311c-4a9b-8dbb-b6d78b026685"
      },
      "outputs": [
        {
          "output_type": "stream",
          "name": "stdout",
          "text": [
            "Evaluation \t Proposed point \t  Current eval. \t  Best eval. \t        Exact CBM: StdDev. x \t Approx CBM: StdDev. x \n",
            "init\t [0.12549009 2.45848547]\t 30.19066754742359\t 11.367015527968295\t    \t    \n",
            "init\t [ 3.33384917 -4.42757746]\t 88548.3950659154\t 11.367015527968295\t    \t    \n",
            "init\t [-1.71237667  4.11843365]\t 13933.414320383567\t 11.367015527968295\t    \t    \n",
            "init\t [ 0.11805041 -1.63544018]\t 11.367015527968295\t 11.367015527968295\t    \t    \n",
            "init\t [ 0.35279944 -2.50870552]\t 27.90050047415725\t 11.367015527968295\t    \t    \n",
            "1  \t [3.14066858 2.55934315]\t 3146.3921589521065\t 11.367015527968295\t 3.1734926989865047\t 3.5506683232409646\n",
            "2  \t [-2.6941295  -4.21852825]\t 45178.56413579472\t 11.367015527968295\t 3.665646524387564\t 3.9092634178587637\n",
            "3  \t [-3.98597549  0.26464016]\t 97.85225849348389\t 11.367015527968295\t 3.2872915778125242\t 3.5497488447271635\n",
            "4  \t [ 3.42979751 -0.41639824]\t 12.725841458150368\t 11.367015527968295\t 3.5628382534983247\t 3.6337585607999148\n",
            "5  \t [-1.15124323  0.32421383]\t 29.91441011797802\t 11.367015527968295\t 2.621363152209327\t 3.543883891383429\n",
            "\u001b[1m\u001b[92m6\u001b[0m\t \u001b[1m\u001b[92m[1.30004532 0.35089554]\u001b[0m\t \u001b[1m\u001b[92m3.570172069861391\u001b[0m\t \u001b[1m\u001b[92m3.570172069861391\u001b[0m\t \u001b[1m\u001b[92m3.7342884637981286\u001b[0m\t \u001b[1m\u001b[92m3.391160000235724\u001b[0m\n",
            "7  \t [4.5 4.5]\t 174813.36328125\t 3.570172069861391\t 3.428351443195571\t 3.825566167339502\n",
            "8  \t [-4.34055078  2.69065881]\t 6670.351178528523\t 3.570172069861391\t 2.9563746378185125\t 3.3997807876356125\n",
            "9  \t [1.14531611 4.24084579]\t 8389.60409763722\t 3.570172069861391\t 2.9106949872900265\t 2.953540532426575\n",
            "10 \t [-4.02321035 -1.67235942]\t 823.3889986567733\t 3.570172069861391\t 2.506287466161576\t 3.2384058626732615\n",
            "11 \t [4.18281207 1.11490233]\t 32.56049831333385\t 3.570172069861391\t 2.8159037675554064\t 3.345604918719643\n",
            "12 \t [ 2.31851967 -1.7771749 ]\t 238.48999659033538\t 3.570172069861391\t 3.0426407281197707\t 3.602735672249159\n",
            "13 \t [-1.90307854 -1.40869917]\t 134.14077363071567\t 3.570172069861391\t 2.8916140469079266\t 3.5818059625356926\n",
            "14 \t [1.75773485 1.81421895]\t 177.12384130688218\t 3.570172069861391\t 3.2375837938195686\t 3.5749304040619125\n",
            "\u001b[1m\u001b[92m15\u001b[0m\t \u001b[1m\u001b[92m[-2.31375254  1.250564  ]\u001b[0m\t \u001b[1m\u001b[92m1.9114247933637498\u001b[0m\t \u001b[1m\u001b[92m1.9114247933637498\u001b[0m\t \u001b[1m\u001b[92m2.5727580469013396\u001b[0m\t \u001b[1m\u001b[92m3.1358964063932073\u001b[0m\n",
            "16 \t [0.0703473 0.9161333]\t 14.049634318426758\t 1.9114247933637498\t 2.952206955600801\t 3.688470809158615\n",
            "17 \t [ 0.76010554 -4.5       ]\t 4834.9112121895605\t 1.9114247933637498\t 2.7781377617184733\t 3.407032630429635\n",
            "18 \t [ 3.87242198 -2.00066964]\t 1335.5742344547473\t 1.9114247933637498\t 2.8444036203216814\t 3.067490019605313\n",
            "19 \t [3.32975362 3.58625207]\t 25215.7067473038\t 1.9114247933637498\t 2.5358525290488685\t 2.739056353095017\n",
            "20 \t [-1.35350411  2.22769251]\t 130.38366290582042\t 1.9114247933637498\t 3.274520733410421\t 3.515689805390554\n"
          ]
        }
      ],
      "source": [
        "### EXACT STP CBM GRADIENTS\n",
        "\n",
        "np.random.seed(run_num_14)\n",
        "surrogate_exact_14 = dtStudentProcess(cov_func, optimize=opt, nu = df)\n",
        "\n",
        "exact_14 = dGPGO(surrogate_exact_14, Acquisition_grad(util), objfunc, param)\n",
        "exact_14.run(init_evals=n_init, max_iter=iters)\n"
      ]
    },
    {
      "cell_type": "code",
      "execution_count": 48,
      "metadata": {
        "id": "dPS8WB3aJTN6",
        "colab": {
          "base_uri": "https://localhost:8080/"
        },
        "outputId": "fdd2b351-fb96-4bd2-803e-517927570a74"
      },
      "outputs": [
        {
          "output_type": "stream",
          "name": "stdout",
          "text": [
            "Evaluation \t Proposed point \t  Current eval. \t  Best eval. \t        Exact CBM: StdDev. x \t Approx CBM: StdDev. x \n",
            "init\t [ 3.13935928 -2.88993668]\t 6575.875821208801\t 47.082686538130915\t    \t    \n",
            "init\t [-4.01073107 -1.24615399]\t 317.710908287677\t 47.082686538130915\t    \t    \n",
            "init\t [-2.02139164  0.27000202]\t 47.082686538130915\t 47.082686538130915\t    \t    \n",
            "init\t [-1.74672976 -1.75973077]\t 234.8792968363759\t 47.082686538130915\t    \t    \n",
            "init\t [-3.49432851 -2.25090888]\t 2421.671033348018\t 47.082686538130915\t    \t    \n",
            "\u001b[1m\u001b[92m1\u001b[0m\t \u001b[1m\u001b[92m[-4.2231993   1.25540485]\u001b[0m\t \u001b[1m\u001b[92m2.484096500444409\u001b[0m\t \u001b[1m\u001b[92m2.484096500444409\u001b[0m\t \u001b[1m\u001b[92m3.7394143827984156\u001b[0m\t \u001b[1m\u001b[92m3.959483674074716\u001b[0m\n",
            "2  \t [4.5 4.5]\t 174813.36328125\t 2.484096500444409\t 2.729145457010295\t 3.873282247643215\n",
            "3  \t [-1.44748373  4.40373081]\t 14896.543571017899\t 2.484096500444409\t 2.9542546109157577\t 3.602729511677314\n",
            "4  \t [1.01800628 1.06184597]\t 16.091503438434902\t 2.484096500444409\t 3.0002075685969634\t 3.573179620782242\n",
            "5  \t [3.82303717 0.35919251]\t 3.110298556752162\t 2.484096500444409\t 2.6603282205241077\t 3.3379945160222997\n",
            "6  \t [-0.77603639 -4.48699848]\t 5595.023941463845\t 2.484096500444409\t 2.9166576864929823\t 3.7274300159338276\n",
            "7  \t [-4.5 -4.5]\t 181853.61328125\t 2.484096500444409\t 3.194143819788062\t 4.0801276889147156\n",
            "8  \t [ 0.47873741 -1.18435466]\t 7.998602790570013\t 2.484096500444409\t 2.4875540286408198\t 3.1357487843051013\n",
            "9  \t [1.39013514 2.96771411]\t 1601.1158308542676\t 2.484096500444409\t 2.279884147141923\t 3.2358261044076317\n",
            "\u001b[1m\u001b[92m10\u001b[0m\t \u001b[1m\u001b[92m[-0.73686741  1.70861777]\u001b[0m\t \u001b[1m\u001b[92m1.752935705632796\u001b[0m\t \u001b[1m\u001b[92m1.752935705632796\u001b[0m\t \u001b[1m\u001b[92m1.9868761387549803\u001b[0m\t \u001b[1m\u001b[92m3.3228787553539862\u001b[0m\n",
            "11 \t [-4.3425648  3.1107031]\t 16627.09126169064\t 1.752935705632796\t 1.888497502546929\t 3.4848663105798185\n",
            "12 \t [ 1.22762081 -3.58659364]\t 3351.342082517815\t 1.752935705632796\t 2.2291063198307097\t 3.3055607328089693\n",
            "13 \t [ 2.31701255 -0.73032283]\t 8.015621967090254\t 1.752935705632796\t 2.528574278315639\t 3.354587644402208\n",
            "14 \t [ 4.12061701 -1.08081223]\t 103.5703265662107\t 1.752935705632796\t 2.2825652863664487\t 3.6184342450048246\n",
            "15 \t [0.79662985 4.27561456]\t 4381.526049049342\t 1.752935705632796\t 2.0421974592066774\t 3.855965195804787\n",
            "16 \t [-2.3913127   2.33059281]\t 710.3395341853169\t 1.752935705632796\t 2.6453555910402926\t 3.6235475979522827\n",
            "17 \t [2.79087025 1.88354668]\t 444.99294915553565\t 1.752935705632796\t 1.8767945273966036\t 4.006647090680314\n",
            "18 \t [2.93169021 3.49258396]\t 16831.362782276927\t 1.752935705632796\t 2.4235601895898733\t 2.982910007239823\n",
            "19 \t [-0.33325539 -0.0408109 ]\t 18.832626469521617\t 1.752935705632796\t 1.8355412177928967\t 3.332171004625898\n",
            "20 \t [-0.49540723 -2.4874449 ]\t 125.9777227532107\t 1.752935705632796\t 2.36377911555208\t 3.9409943393238365\n"
          ]
        }
      ],
      "source": [
        "### EXACT STP CBM GRADIENTS\n",
        "\n",
        "np.random.seed(run_num_15)\n",
        "surrogate_exact_15 = dtStudentProcess(cov_func, optimize=opt, nu = df)\n",
        "\n",
        "exact_15 = dGPGO(surrogate_exact_15, Acquisition_grad(util), objfunc, param)\n",
        "exact_15.run(init_evals=n_init, max_iter=iters)\n"
      ]
    },
    {
      "cell_type": "code",
      "execution_count": 49,
      "metadata": {
        "id": "lu8ki9XIQPPN",
        "colab": {
          "base_uri": "https://localhost:8080/"
        },
        "outputId": "83e4e404-77bd-4f8d-8ffa-b73a53bccd73"
      },
      "outputs": [
        {
          "output_type": "stream",
          "name": "stdout",
          "text": [
            "Evaluation \t Proposed point \t  Current eval. \t  Best eval. \t        Exact CBM: StdDev. x \t Approx CBM: StdDev. x \n",
            "init\t [-2.49038029  0.20847007]\t 59.442894178636664\t 59.442894178636664\t    \t    \n",
            "init\t [ 0.45631311 -4.08958245]\t 932.9374489641153\t 59.442894178636664\t    \t    \n",
            "init\t [-1.25344048 -2.49227152]\t 594.9494957841517\t 59.442894178636664\t    \t    \n",
            "init\t [ 1.69853546 -3.02641717]\t 2418.389440420566\t 59.442894178636664\t    \t    \n",
            "init\t [-3.8670762   3.96909774]\t 58473.38862292419\t 59.442894178636664\t    \t    \n",
            "1  \t [4.5 4.5]\t 174813.36328125\t 59.442894178636664\t 4.183957628764965\t 4.084862399356945\n",
            "2  \t [-4.5 -4.5]\t 181853.61328125\t 59.442894178636664\t 3.2723169184207412\t 3.4240468691933206\n",
            "\u001b[1m\u001b[92m3\u001b[0m\t \u001b[1m\u001b[92m[0.43238816 1.76376643]\u001b[0m\t \u001b[1m\u001b[92m34.19235072476381\u001b[0m\t \u001b[1m\u001b[92m34.19235072476381\u001b[0m\t \u001b[1m\u001b[92m2.4930605965278425\u001b[0m\t \u001b[1m\u001b[92m2.753039269122227\u001b[0m\n",
            "\u001b[1m\u001b[92m4\u001b[0m\t \u001b[1m\u001b[92m[ 3.89220436 -0.12887117]\u001b[0m\t \u001b[1m\u001b[92m12.4897580946325\u001b[0m\t \u001b[1m\u001b[92m12.4897580946325\u001b[0m\t \u001b[1m\u001b[92m2.3348209972591376\u001b[0m\t \u001b[1m\u001b[92m3.638424490032919\u001b[0m\n",
            "\u001b[1m\u001b[92m5\u001b[0m\t \u001b[1m\u001b[92m[ 0.92022052 -0.58168592]\u001b[0m\t \u001b[1m\u001b[92m5.016883083372132\u001b[0m\t \u001b[1m\u001b[92m5.016883083372132\u001b[0m\t \u001b[1m\u001b[92m1.8645535265989932\u001b[0m\t \u001b[1m\u001b[92m2.8888080210329443\u001b[0m\n",
            "6  \t [0.31547291 4.36443613]\t 883.9899860902309\t 5.016883083372132\t 2.776770945710748\t 3.4796097467631104\n",
            "7  \t [ 4.05486449 -4.0114029 ]\t 73636.10083315914\t 5.016883083372132\t 2.376621761561926\t 3.3593038844521512\n",
            "8  \t [2.55933597 1.4815541 ]\t 106.01524571613882\t 5.016883083372132\t 2.286033132455408\t 2.336245615712714\n",
            "9  \t [-1.4931741   2.12683344]\t 114.10093995191856\t 5.016883083372132\t 2.3614107159264686\t 2.753776819302829\n",
            "10 \t [-4.47844581 -0.70773061]\t 179.3368215170902\t 5.016883083372132\t 2.500528839719511\t 2.803033348025943\n",
            "11 \t [-0.83896492 -0.40416917]\t 28.271623708565485\t 5.016883083372132\t 2.008098083801681\t 2.5478436118571963\n",
            "\u001b[1m\u001b[92m12\u001b[0m\t \u001b[1m\u001b[92m[-4.29887881  1.23696548]\u001b[0m\t \u001b[1m\u001b[92m1.7025008360172125\u001b[0m\t \u001b[1m\u001b[92m1.7025008360172125\u001b[0m\t \u001b[1m\u001b[92m2.688557323696747\u001b[0m\t \u001b[1m\u001b[92m2.7742507153316502\u001b[0m\n",
            "13 \t [ 2.65256722 -1.33736216]\t 81.54624693639812\t 1.7025008360172125\t 2.2860458112794926\t 2.468891361671143\n",
            "14 \t [1.56839026 3.23220884]\t 3234.139385293237\t 1.7025008360172125\t 2.1873689139937644\t 2.4210318949551994\n",
            "15 \t [4.33072783 1.57381935]\t 320.95659464825405\t 1.7025008360172125\t 2.0983876808226887\t 2.433575806289815\n",
            "16 \t [-0.8631952   3.37456682]\t 926.5046080789986\t 1.7025008360172125\t 2.407291396498863\t 2.475402485805427\n",
            "17 \t [-2.85571303 -1.61123295]\t 389.21188248995605\t 1.7025008360172125\t 2.455795761972647\t 2.615261660241336\n",
            "18 \t [-1.92692523 -3.46522162]\t 7640.862685048203\t 1.7025008360172125\t 1.979637783132423\t 2.439618544084651\n",
            "19 \t [ 4.17453927 -1.70250661]\t 689.840869109644\t 1.7025008360172125\t 2.1365387010828685\t 2.0315940815193483\n",
            "20 \t [ 0.22556463 -1.99379685]\t 9.587121619162575\t 1.7025008360172125\t 2.2885593988883435\t 2.5318638270198424\n"
          ]
        }
      ],
      "source": [
        "### EXACT STP CBM GRADIENTS\n",
        "\n",
        "np.random.seed(run_num_16)\n",
        "surrogate_exact_16 = dtStudentProcess(cov_func, optimize=opt, nu = df)\n",
        "\n",
        "exact_16 = dGPGO(surrogate_exact_16, Acquisition_grad(util), objfunc, param)\n",
        "exact_16.run(init_evals=n_init, max_iter=iters)\n"
      ]
    },
    {
      "cell_type": "code",
      "execution_count": 50,
      "metadata": {
        "id": "yU2SflSsJTUs",
        "colab": {
          "base_uri": "https://localhost:8080/"
        },
        "outputId": "720d2179-2c43-4f0f-bf11-e0ea77586b04"
      },
      "outputs": [
        {
          "output_type": "stream",
          "name": "stdout",
          "text": [
            "Evaluation \t Proposed point \t  Current eval. \t  Best eval. \t        Exact CBM: StdDev. x \t Approx CBM: StdDev. x \n",
            "init\t [-1.84801498  0.2752808 ]\t 43.39160388622011\t 6.891623366037299\t    \t    \n",
            "init\t [-2.77631292 -3.88889678]\t 30048.58268621874\t 6.891623366037299\t    \t    \n",
            "init\t [2.58286914 1.4070017 ]\t 81.72560623465196\t 6.891623366037299\t    \t    \n",
            "init\t [1.23768806 0.68042604]\t 6.891623366037299\t 6.891623366037299\t    \t    \n",
            "init\t [-4.14843375 -1.27967756]\t 359.4343933746243\t 6.891623366037299\t    \t    \n",
            "1  \t [ 4.35944082 -3.90869006]\t 73233.24116839684\t 6.891623366037299\t 2.764074695875593\t 4.309058515314868\n",
            "2  \t [-0.90022712  4.5       ]\t 6393.613761919776\t 6.891623366037299\t 2.6648927577141457\t 3.6476139661092932\n",
            "3  \t [4.5 4.5]\t 174813.36328125\t 6.891623366037299\t 3.3334820650081456\t 3.5298092614619816\n",
            "4  \t [-3.25955022  2.40832348]\t 1760.8006531581464\t 6.891623366037299\t 3.184601496346539\t 3.619397618598302\n",
            "5  \t [ 0.28809849 -1.76906457]\t 9.243305034979912\t 6.891623366037299\t 2.9106440172806134\t 3.6217802856278163\n",
            "6  \t [4.32110218 0.0892068 ]\t 12.946872244122787\t 6.891623366037299\t 2.930760992738921\t 3.233996782899336\n",
            "7  \t [1.35709801 2.70012627]\t 913.9272152803063\t 6.891623366037299\t 2.7069706930162303\t 3.237555953098765\n",
            "8  \t [-0.03916679 -3.78519623]\t 28.761242019216564\t 6.891623366037299\t 2.8571748741029674\t 3.438659153257108\n",
            "9  \t [ 2.76480898 -1.42631306]\t 119.85997781573545\t 6.891623366037299\t 3.2224660966984935\t 3.9307044088486096\n",
            "10 \t [-3.61117781  0.48423985]\t 70.39445049147655\t 6.891623366037299\t 2.7656358961964385\t 3.370763194614091\n",
            "11 \t [-0.81619904  2.05328924]\t 13.686516455015683\t 6.891623366037299\t 3.2968079736760942\t 4.050208504883652\n",
            "12 \t [-1.48777933 -1.58845346]\t 130.15452472115277\t 6.891623366037299\t 3.2791757381083335\t 3.704813787539988\n",
            "13 \t [-0.30477812  0.16658466]\t 18.135633339087164\t 6.891623366037299\t 2.879651812885305\t 2.8167592624108857\n",
            "14 \t [4.11767154 1.55010238]\t 270.25646617977884\t 6.891623366037299\t 3.125369538300866\t 3.86024385834737\n",
            "15 \t [1.34928971 4.00707286]\t 8299.795328310702\t 6.891623366037299\t 3.1173507714718176\t 3.303434838261494\n",
            "16 \t [-4.1510159   3.72906084]\t 46193.9988104917\t 6.891623366037299\t 2.848153563132961\t 3.602220008479972\n",
            "17 \t [ 1.30360879 -3.69340016]\t 4514.010263372467\t 6.891623366037299\t 2.7005590860966504\t 2.668551723527769\n",
            "18 \t [-2.80980358 -1.6295344 ]\t 394.28231878579277\t 6.891623366037299\t 1.9641980017756568\t 2.2850605011931586\n",
            "19 \t [-4.5 -4.5]\t 181853.61328125\t 6.891623366037299\t 2.384528764306477\t 2.7938819447018375\n",
            "20 \t [-1.83770267  2.85541784]\t 1590.9098264124477\t 6.891623366037299\t 2.173177088475199\t 2.704918524155319\n"
          ]
        }
      ],
      "source": [
        "### EXACT STP CBM GRADIENTS\n",
        "\n",
        "np.random.seed(run_num_17)\n",
        "surrogate_exact_17 = dtStudentProcess(cov_func, optimize=opt, nu = df)\n",
        "\n",
        "exact_17 = dGPGO(surrogate_exact_17, Acquisition_grad(util), objfunc, param)\n",
        "exact_17.run(init_evals=n_init, max_iter=iters)\n"
      ]
    },
    {
      "cell_type": "code",
      "execution_count": 51,
      "metadata": {
        "id": "eVEhyZ9BQS-1",
        "colab": {
          "base_uri": "https://localhost:8080/"
        },
        "outputId": "14034aa7-768a-4342-f709-b0c77e87cf17"
      },
      "outputs": [
        {
          "output_type": "stream",
          "name": "stdout",
          "text": [
            "Evaluation \t Proposed point \t  Current eval. \t  Best eval. \t        Exact CBM: StdDev. x \t Approx CBM: StdDev. x \n",
            "init\t [1.35336818 0.04908036]\t 2.472652645883837\t 2.472652645883837\t    \t    \n",
            "init\t [ 3.40741324 -2.86343797]\t 7379.017314590048\t 2.472652645883837\t    \t    \n",
            "init\t [3.17009762 2.25122657]\t 1528.3101419799655\t 2.472652645883837\t    \t    \n",
            "init\t [1.49491501 4.39105903]\t 17224.913295283764\t 2.472652645883837\t    \t    \n",
            "init\t [-2.1872842  -4.24524667]\t 31030.348242396165\t 2.472652645883837\t    \t    \n",
            "1  \t [-4.40102189  2.56395264]\t 5034.984945533792\t 2.472652645883837\t 3.5346169248968757\t 4.052661086491883\n",
            "2  \t [-1.39526063e+00 -1.28879769e-03]\t 37.84335359328037\t 2.472652645883837\t 3.5382243637430992\t 3.5300629176583334\n",
            "3  \t [4.5 4.5]\t 174813.36328125\t 2.472652645883837\t 3.6533446202190363\t 4.2089025953272134\n",
            "4  \t [-4.14591428 -0.90322948]\t 193.81458977101\t 2.472652645883837\t 2.6514571632064086\t 3.766430702306061\n",
            "5  \t [3.59018804e+00 3.09058933e-03]\t 7.050224379985915\t 2.472652645883837\t 2.673768305686564\t 3.5995378565587908\n",
            "6  \t [-1.56967916  3.13205724]\t 2076.412796155491\t 2.472652645883837\t 2.5320006858919566\t 3.5266282290093427\n",
            "7  \t [ 0.46917839 -2.19661395]\t 24.294528829967092\t 2.472652645883837\t 2.8423811657587152\t 3.4414253896946936\n",
            "8  \t [0.23381808 1.7251015 ]\t 23.041797897454643\t 2.472652645883837\t 2.033589308030011\t 4.018628497385644\n",
            "9  \t [-3.08028728  0.85250163]\t 27.79390401024743\t 2.472652645883837\t 3.185219517042187\t 3.941640880729171\n",
            "10 \t [ 0.38492752 -4.11963999]\t 679.4823223705499\t 2.472652645883837\t 3.2986130549570416\t 3.883713510495359\n",
            "11 \t [-3.12739894  4.09880337]\t 46224.65409803214\t 2.472652645883837\t 3.229083613228103\t 3.966899414616899\n",
            "12 \t [-4.5 -4.5]\t 181853.61328125\t 2.472652645883837\t 2.7433424777562507\t 3.1069088377128207\n",
            "13 \t [-1.87451937 -1.73302608]\t 249.37298672596683\t 2.472652645883837\t 2.0840022273275536\t 3.3872332723614353\n",
            "14 \t [ 2.67914041 -4.16460634]\t 39741.14604797996\t 2.472652645883837\t 1.8046454004374837\t 2.795491730878912\n",
            "15 \t [1.74221071 1.48219676]\t 67.24984277597248\t 2.472652645883837\t 2.490383782311085\t 2.9485847619922274\n",
            "16 \t [-0.00092623 -0.77919309]\t 14.2168740932715\t 2.472652645883837\t 1.9094880784050985\t 3.6422852792737355\n",
            "17 \t [ 2.15028087 -1.36556255]\t 54.76028148771931\t 2.472652645883837\t 2.8457557639427216\t 3.2246321543569616\n",
            "18 \t [-0.76102991 -2.86566528]\t 483.70893890032767\t 2.472652645883837\t 2.6394708952270016\t 2.9974061706390014\n",
            "19 \t [ 4.41669463 -1.559193  ]\t 513.0414340693437\t 2.472652645883837\t 2.4107360832698768\t 2.9786923456505865\n",
            "20 \t [-4.5        -2.59962996]\t 8300.640148045853\t 2.472652645883837\t 2.667887411371727\t 3.1032152897250893\n"
          ]
        }
      ],
      "source": [
        "### EXACT STP CBM GRADIENTS\n",
        "\n",
        "np.random.seed(run_num_18)\n",
        "surrogate_exact_18 = dtStudentProcess(cov_func, optimize=opt, nu = df)\n",
        "\n",
        "exact_18 = dGPGO(surrogate_exact_18, Acquisition_grad(util), objfunc, param)\n",
        "exact_18.run(init_evals=n_init, max_iter=iters)\n"
      ]
    },
    {
      "cell_type": "code",
      "execution_count": 52,
      "metadata": {
        "id": "B6gTz1ojQUxn",
        "colab": {
          "base_uri": "https://localhost:8080/"
        },
        "outputId": "0ac13ecf-5825-414b-ae84-e7b586b50c0b"
      },
      "outputs": [
        {
          "output_type": "stream",
          "name": "stdout",
          "text": [
            "Evaluation \t Proposed point \t  Current eval. \t  Best eval. \t        Exact CBM: StdDev. x \t Approx CBM: StdDev. x \n",
            "init\t [-3.62219758  2.35124745]\t 1879.409018573639\t 63.544086067314716\t    \t    \n",
            "init\t [-2.27755824 -3.25681481]\t 7496.243410303341\t 63.544086067314716\t    \t    \n",
            "init\t [-1.51698093 -3.75300391]\t 7497.407542620609\t 63.544086067314716\t    \t    \n",
            "init\t [1.54779373 2.75934418]\t 1302.4341957421634\t 63.544086067314716\t    \t    \n",
            "init\t [4.34467723 1.22094661]\t 63.544086067314716\t 63.544086067314716\t    \t    \n",
            "1  \t [ 4.24007146 -3.28131847]\t 25110.986645769954\t 63.544086067314716\t 3.2349445537999366\t 4.279816859418808\n",
            "2  \t [4.5 4.5]\t 174813.36328125\t 63.544086067314716\t 3.7627863155579506\t 4.063983800455434\n",
            "\u001b[1m\u001b[92m3\u001b[0m\t \u001b[1m\u001b[92m[ 0.72463955 -0.47032503]\u001b[0m\t \u001b[1m\u001b[92m6.360776418075002\u001b[0m\t \u001b[1m\u001b[92m6.360776418075002\u001b[0m\t \u001b[1m\u001b[92m2.614042716120477\u001b[0m\t \u001b[1m\u001b[92m2.9956636365099465\u001b[0m\n",
            "4  \t [-1.10477429  4.36344209]\t 8070.814129732557\t 6.360776418075002\t 3.065124027502327\t 3.463667387870683\n",
            "5  \t [-4.5       -0.6829465]\t 177.20353051537143\t 6.360776418075002\t 2.611817738154837\t 3.471376863155599\n",
            "6  \t [-4.5 -4.5]\t 181853.61328125\t 6.360776418075002\t 2.8536898735950422\t 3.2713795113340676\n",
            "7  \t [-1.56873886 -0.6096655 ]\t 47.366698458844425\t 6.360776418075002\t 1.904311523813531\t 2.9364057022042096\n",
            "8  \t [ 0.76331941 -2.6928952 ]\t 221.2057660384058\t 6.360776418075002\t 2.1984981066640326\t 2.500357264843354\n",
            "9  \t [-0.42083339  1.43271495]\t 8.271721050707582\t 6.360776418075002\t 2.2769805014629476\t 3.3304088453844183\n",
            "10 \t [ 3.09034171 -0.61625982]\t 13.737467702095893\t 6.360776418075002\t 2.183436845635564\t 2.872776006740073\n",
            "11 \t [2.08647167 1.02560608]\t 15.755192733948245\t 6.360776418075002\t 1.79493009069751\t 3.0005123371213163\n",
            "12 \t [-2.84610882  3.89037224]\t 27767.345002541857\t 6.360776418075002\t 2.468911243601301\t 3.465507331889666\n",
            "13 \t [-2.52543033  0.84745707]\t 25.38233489246531\t 6.360776418075002\t 2.2727063215701\t 3.060368943079366\n",
            "14 \t [1.07361905 4.23121927]\t 7309.954855738248\t 6.360776418075002\t 2.127474254193585\t 3.305787931014105\n",
            "15 \t [-4.5         0.86641354]\t 33.410151327434995\t 6.360776418075002\t 2.1052739191671783\t 3.5087252283570542\n",
            "16 \t [ 1.90336873 -1.66674523]\t 110.00377285081987\t 6.360776418075002\t 1.952343675079388\t 2.7772800021727653\n",
            "17 \t [-3.73432662 -2.13063469]\t 2098.7288057699743\t 6.360776418075002\t 2.5128190890359696\t 3.137005885151969\n",
            "18 \t [ 1.50925436 -4.48291744]\t 19197.14537141058\t 6.360776418075002\t 2.1860753664599706\t 3.5629240644132123\n",
            "19 \t [-0.55855135 -1.81789114]\t 53.136012164293184\t 6.360776418075002\t 2.111711237139247\t 2.517581423434387\n",
            "20 \t [-3.00492551 -0.68243669]\t 101.20226497193988\t 6.360776418075002\t 2.2106114108063593\t 3.0007111458151154\n"
          ]
        }
      ],
      "source": [
        "### EXACT STP CBM GRADIENTS\n",
        "\n",
        "np.random.seed(run_num_19)\n",
        "surrogate_exact_19 = dtStudentProcess(cov_func, optimize=opt, nu = df)\n",
        "\n",
        "exact_19 = dGPGO(surrogate_exact_19, Acquisition_grad(util), objfunc, param)\n",
        "exact_19.run(init_evals=n_init, max_iter=iters)\n"
      ]
    },
    {
      "cell_type": "code",
      "execution_count": 53,
      "metadata": {
        "id": "aw3xvSryIwDi",
        "colab": {
          "base_uri": "https://localhost:8080/"
        },
        "outputId": "5da3795e-bb65-443e-f775-8d79ba3e8522"
      },
      "outputs": [
        {
          "output_type": "stream",
          "name": "stdout",
          "text": [
            "Evaluation \t Proposed point \t  Current eval. \t  Best eval. \t        Exact CBM: StdDev. x \t Approx CBM: StdDev. x \n",
            "init\t [0.79317721 3.57942355]\t 1607.3829986954497\t 30.55204392634667\t    \t    \n",
            "init\t [3.52377657 2.8425373 ]\t 7209.150060592592\t 30.55204392634667\t    \t    \n",
            "init\t [-4.17699373  1.72581824]\t 253.68900136908488\t 30.55204392634667\t    \t    \n",
            "init\t [-1.09187152  0.16659851]\t 30.55204392634667\t 30.55204392634667\t    \t    \n",
            "init\t [ 1.42156319 -2.75534804]\t 963.9362838324588\t 30.55204392634667\t    \t    \n",
            "1  \t [-4.5 -4.5]\t 181853.61328125\t 30.55204392634667\t 3.271738085180646\t 4.035561152833233\n",
            "2  \t [ 3.86911059 -0.79159278]\t 40.16023603953394\t 30.55204392634667\t 2.7994297175703386\t 3.8022249263005765\n",
            "3  \t [-2.05277526  4.11642488]\t 20137.758854356038\t 30.55204392634667\t 2.9297368663989856\t 4.149752410858977\n",
            "4  \t [-1.18966029 -2.31106505]\t 380.29588743497334\t 30.55204392634667\t 3.06743747951147\t 4.289891125009669\n",
            "5  \t [4.5 4.5]\t 174813.36328125\t 30.55204392634667\t 2.854794207516509\t 4.056463026818181\n",
            "6  \t [ 3.64426552 -4.37676538]\t 98987.42794535059\t 30.55204392634667\t 2.4989749301453568\t 3.9273305911642287\n",
            "\u001b[1m\u001b[92m7\u001b[0m\t \u001b[1m\u001b[92m[1.62794483 1.11770028]\u001b[0m\t \u001b[1m\u001b[92m20.608485441650515\u001b[0m\t \u001b[1m\u001b[92m20.608485441650515\u001b[0m\t \u001b[1m\u001b[92m2.36981070669062\u001b[0m\t \u001b[1m\u001b[92m2.7560325132228636\u001b[0m\n",
            "8  \t [-3.3688019  -0.85510321]\t 135.62423307752613\t 20.608485441650515\t 2.3969956835058235\t 3.245342481386606\n",
            "9  \t [-0.35543788 -4.30067704]\t 1003.9890522578299\t 20.608485441650515\t 2.3519901122055074\t 3.7194995793692485\n",
            "\u001b[1m\u001b[92m10\u001b[0m\t \u001b[1m\u001b[92m[ 0.77970531 -0.78877799]\u001b[0m\t \u001b[1m\u001b[92m5.974037914676305\u001b[0m\t \u001b[1m\u001b[92m5.974037914676305\u001b[0m\t \u001b[1m\u001b[92m2.2319167504563087\u001b[0m\t \u001b[1m\u001b[92m3.13771139572278\u001b[0m\n",
            "11 \t [4.5        1.08410675]\t 27.65187717424052\t 5.974037914676305\t 2.5800516516499865\t 2.9480437213635518\n",
            "12 \t [-2.2395033   0.99237057]\t 14.67866906904699\t 5.974037914676305\t 2.213053193722184\t 3.490436693551629\n",
            "13 \t [-4.12098694  3.62797153]\t 38493.57334576617\t 5.974037914676305\t 2.41633451955701\t 3.1712063628290568\n",
            "14 \t [0.18095636 1.24875421]\t 15.735280160406717\t 5.974037914676305\t 2.239981320253619\t 2.0219070487912845\n",
            "15 \t [-0.96846538  2.38840843]\t 97.53217835177053\t 5.974037914676305\t 2.201755700513274\t 2.4485120807631002\n",
            "16 \t [ 2.47138199 -0.90125669]\t 16.162727702952743\t 5.974037914676305\t 2.1749646162298344\t 2.3175980480048524\n",
            "17 \t [-2.04134333 -4.14330976]\t 23548.77794061969\t 5.974037914676305\t 2.412615411600423\t 2.53602368260541\n",
            "18 \t [2.95186464 1.25850976]\t 51.79053768833725\t 5.974037914676305\t 2.487442863480443\t 2.4993388130427836\n",
            "19 \t [-4.5         0.12039524]\t 125.13214373007142\t 5.974037914676305\t 2.4838034065764845\t 2.9043652791354826\n",
            "20 \t [-2.90235506  2.02246649]\t 388.9164734966713\t 5.974037914676305\t 2.1729603788638405\t 2.390717335184628\n"
          ]
        }
      ],
      "source": [
        "### EXACT STP CBM GRADIENTS\n",
        "\n",
        "np.random.seed(run_num_20)\n",
        "surrogate_exact_20 = dtStudentProcess(cov_func, optimize=opt, nu = df)\n",
        "\n",
        "exact_20 = dGPGO(surrogate_exact_20, Acquisition_grad(util), objfunc, param)\n",
        "exact_20.run(init_evals=n_init, max_iter=iters)\n"
      ]
    },
    {
      "cell_type": "code",
      "execution_count": 54,
      "metadata": {
        "id": "5c8szjivRPme",
        "colab": {
          "base_uri": "https://localhost:8080/"
        },
        "outputId": "0bb4731c-53bf-488c-833e-3d523e6cb02f"
      },
      "outputs": [
        {
          "output_type": "execute_result",
          "data": {
            "text/plain": [
              "635.8320150375366"
            ]
          },
          "metadata": {},
          "execution_count": 54
        }
      ],
      "source": [
        "end_exact = time.time()\n",
        "end_exact\n",
        "\n",
        "time_exact = end_exact - start_exact\n",
        "time_exact\n"
      ]
    },
    {
      "cell_type": "code",
      "execution_count": 55,
      "metadata": {
        "id": "f6gCKnp6RR8c",
        "colab": {
          "base_uri": "https://localhost:8080/"
        },
        "outputId": "c1f0ad19-f434-420f-b883-ee9a0dee2152"
      },
      "outputs": [
        {
          "output_type": "execute_result",
          "data": {
            "text/plain": [
              "(-0.5038455118613798, -0.25684845735027423)"
            ]
          },
          "metadata": {},
          "execution_count": 55
        }
      ],
      "source": [
        "### Simple regret minimization: run number = 1\n",
        "\n",
        "approx_output_1 = np.append(np.min(-approx_1.GP.y[0:n_init]),-approx_1.GP.y[n_init:(n_init+iters)]) \n",
        "exact_output_1 = np.append(np.min(-exact_1.GP.y[0:n_init]),-exact_1.GP.y[n_init:(n_init+iters)]) \n",
        "\n",
        "regret_approx_1 = np.log(approx_output_1 - y_global_orig)\n",
        "regret_exact_1 = np.log(exact_output_1 - y_global_orig)\n",
        "\n",
        "simple_regret_approx_1 = min_max_array(regret_approx_1)\n",
        "simple_regret_exact_1 = min_max_array(regret_exact_1)\n",
        "\n",
        "min_simple_regret_approx_1 = min(simple_regret_approx_1)\n",
        "min_simple_regret_exact_1 = min(simple_regret_exact_1)\n",
        "\n",
        "min_simple_regret_approx_1, min_simple_regret_exact_1\n"
      ]
    },
    {
      "cell_type": "code",
      "execution_count": 56,
      "metadata": {
        "id": "94yBw5tqQxfk",
        "colab": {
          "base_uri": "https://localhost:8080/"
        },
        "outputId": "ebf3850d-4be3-4e8b-b681-80a5d552614d"
      },
      "outputs": [
        {
          "output_type": "execute_result",
          "data": {
            "text/plain": [
              "(-3.1842154495998893, -8.082379399428273)"
            ]
          },
          "metadata": {},
          "execution_count": 56
        }
      ],
      "source": [
        "### Simple regret minimization: run number = 2\n",
        "\n",
        "approx_output_2 = np.append(np.min(-approx_2.GP.y[0:n_init]),-approx_2.GP.y[n_init:(n_init+iters)]) \n",
        "exact_output_2 = np.append(np.min(-exact_2.GP.y[0:n_init]),-exact_2.GP.y[n_init:(n_init+iters)]) \n",
        "\n",
        "regret_approx_2 = np.log(approx_output_2 - y_global_orig)\n",
        "regret_exact_2 = np.log(exact_output_2 - y_global_orig)\n",
        "\n",
        "simple_regret_approx_2 = min_max_array(regret_approx_2)\n",
        "simple_regret_exact_2 = min_max_array(regret_exact_2)\n",
        "\n",
        "min_simple_regret_approx_2 = min(simple_regret_approx_2)\n",
        "min_simple_regret_exact_2 = min(simple_regret_exact_2)\n",
        "\n",
        "min_simple_regret_approx_2, min_simple_regret_exact_2\n"
      ]
    },
    {
      "cell_type": "code",
      "execution_count": 57,
      "metadata": {
        "id": "Bu6SBWALQxfl",
        "colab": {
          "base_uri": "https://localhost:8080/"
        },
        "outputId": "e1a85564-d6f0-47be-f1e2-1e88eae1f1d8"
      },
      "outputs": [
        {
          "output_type": "execute_result",
          "data": {
            "text/plain": [
              "(-0.22503247863827966, 0.9100827317596442)"
            ]
          },
          "metadata": {},
          "execution_count": 57
        }
      ],
      "source": [
        "### Simple regret minimization: run number = 3\n",
        "\n",
        "approx_output_3 = np.append(np.min(-approx_3.GP.y[0:n_init]),-approx_3.GP.y[n_init:(n_init+iters)]) \n",
        "exact_output_3 = np.append(np.min(-exact_3.GP.y[0:n_init]),-exact_3.GP.y[n_init:(n_init+iters)]) \n",
        "\n",
        "regret_approx_3 = np.log(approx_output_3 - y_global_orig)\n",
        "regret_exact_3 = np.log(exact_output_3 - y_global_orig)\n",
        "\n",
        "simple_regret_approx_3 = min_max_array(regret_approx_3)\n",
        "simple_regret_exact_3 = min_max_array(regret_exact_3)\n",
        "\n",
        "min_simple_regret_approx_3 = min(simple_regret_approx_3)\n",
        "min_simple_regret_exact_3 = min(simple_regret_exact_3)\n",
        "\n",
        "min_simple_regret_approx_3, min_simple_regret_exact_3"
      ]
    },
    {
      "cell_type": "code",
      "execution_count": 58,
      "metadata": {
        "id": "AZm0jgxkQxfm",
        "colab": {
          "base_uri": "https://localhost:8080/"
        },
        "outputId": "ee7fba69-1a0b-496b-fc63-a56273f1434a"
      },
      "outputs": [
        {
          "output_type": "execute_result",
          "data": {
            "text/plain": [
              "(1.345729016312703, 1.345729016312703)"
            ]
          },
          "metadata": {},
          "execution_count": 58
        }
      ],
      "source": [
        "### Simple regret minimization: run number = 4\n",
        "\n",
        "approx_output_4 = np.append(np.min(-approx_4.GP.y[0:n_init]),-approx_4.GP.y[n_init:(n_init+iters)]) \n",
        "exact_output_4 = np.append(np.min(-exact_4.GP.y[0:n_init]),-exact_4.GP.y[n_init:(n_init+iters)]) \n",
        "\n",
        "regret_approx_4 = np.log(approx_output_4 - y_global_orig)\n",
        "regret_exact_4 = np.log(exact_output_4 - y_global_orig)\n",
        "\n",
        "simple_regret_approx_4 = min_max_array(regret_approx_4)\n",
        "simple_regret_exact_4 = min_max_array(regret_exact_4)\n",
        "\n",
        "min_simple_regret_approx_4 = min(simple_regret_approx_4)\n",
        "min_simple_regret_exact_4 = min(simple_regret_exact_4)\n",
        "\n",
        "min_simple_regret_approx_4, min_simple_regret_exact_4"
      ]
    },
    {
      "cell_type": "code",
      "execution_count": 59,
      "metadata": {
        "id": "NONPm8JIQxfn",
        "colab": {
          "base_uri": "https://localhost:8080/"
        },
        "outputId": "dbed16ab-8d63-41bd-bead-9ccd2866de8e"
      },
      "outputs": [
        {
          "output_type": "execute_result",
          "data": {
            "text/plain": [
              "(-1.1666865916873388, -1.1666865916873388)"
            ]
          },
          "metadata": {},
          "execution_count": 59
        }
      ],
      "source": [
        "### Simple regret minimization: run number = 5\n",
        "\n",
        "approx_output_5 = np.append(np.min(-approx_5.GP.y[0:n_init]),-approx_5.GP.y[n_init:(n_init+iters)]) \n",
        "exact_output_5 = np.append(np.min(-exact_5.GP.y[0:n_init]),-exact_5.GP.y[n_init:(n_init+iters)]) \n",
        "\n",
        "regret_approx_5 = np.log(approx_output_5 - y_global_orig)\n",
        "regret_exact_5 = np.log(exact_output_5 - y_global_orig)\n",
        "\n",
        "simple_regret_approx_5 = min_max_array(regret_approx_5)\n",
        "simple_regret_exact_5 = min_max_array(regret_exact_5)\n",
        "\n",
        "min_simple_regret_approx_5 = min(simple_regret_approx_5)\n",
        "min_simple_regret_exact_5 = min(simple_regret_exact_5)\n",
        "\n",
        "min_simple_regret_approx_5, min_simple_regret_exact_5"
      ]
    },
    {
      "cell_type": "code",
      "execution_count": 60,
      "metadata": {
        "id": "CJv3lPuSQxfp",
        "colab": {
          "base_uri": "https://localhost:8080/"
        },
        "outputId": "524af3e1-9297-46f4-ac58-50d1bcb22be5"
      },
      "outputs": [
        {
          "output_type": "execute_result",
          "data": {
            "text/plain": [
              "(0.9826128618870328, -2.056891788191046)"
            ]
          },
          "metadata": {},
          "execution_count": 60
        }
      ],
      "source": [
        "### Simple regret minimization: run number = 6\n",
        "\n",
        "approx_output_6 = np.append(np.min(-approx_6.GP.y[0:n_init]),-approx_6.GP.y[n_init:(n_init+iters)]) \n",
        "exact_output_6 = np.append(np.min(-exact_6.GP.y[0:n_init]),-exact_6.GP.y[n_init:(n_init+iters)]) \n",
        "\n",
        "regret_approx_6 = np.log(approx_output_6 - y_global_orig)\n",
        "regret_exact_6 = np.log(exact_output_6 - y_global_orig)\n",
        "\n",
        "simple_regret_approx_6 = min_max_array(regret_approx_6)\n",
        "simple_regret_exact_6 = min_max_array(regret_exact_6)\n",
        "\n",
        "min_simple_regret_approx_6 = min(simple_regret_approx_6)\n",
        "min_simple_regret_exact_6 = min(simple_regret_exact_6)\n",
        "\n",
        "min_simple_regret_approx_6, min_simple_regret_exact_6"
      ]
    },
    {
      "cell_type": "code",
      "execution_count": 61,
      "metadata": {
        "id": "quR2ZyApQxfq",
        "colab": {
          "base_uri": "https://localhost:8080/"
        },
        "outputId": "7f5d56b1-7105-4bcd-ce71-4b2a8b9c0c63"
      },
      "outputs": [
        {
          "output_type": "execute_result",
          "data": {
            "text/plain": [
              "(1.087784678899565, 1.087784678899565)"
            ]
          },
          "metadata": {},
          "execution_count": 61
        }
      ],
      "source": [
        "### Simple regret minimization: run number = 7\n",
        "\n",
        "approx_output_7 = np.append(np.min(-approx_7.GP.y[0:n_init]),-approx_7.GP.y[n_init:(n_init+iters)]) \n",
        "exact_output_7 = np.append(np.min(-exact_7.GP.y[0:n_init]),-exact_7.GP.y[n_init:(n_init+iters)]) \n",
        "\n",
        "regret_approx_7 = np.log(approx_output_7 - y_global_orig)\n",
        "regret_exact_7 = np.log(exact_output_7 - y_global_orig)\n",
        "\n",
        "simple_regret_approx_7 = min_max_array(regret_approx_7)\n",
        "simple_regret_exact_7 = min_max_array(regret_exact_7)\n",
        "\n",
        "min_simple_regret_approx_7 = min(simple_regret_approx_7)\n",
        "min_simple_regret_exact_7 = min(simple_regret_exact_7)\n",
        "\n",
        "min_simple_regret_approx_7, min_simple_regret_exact_7"
      ]
    },
    {
      "cell_type": "code",
      "execution_count": 62,
      "metadata": {
        "id": "99wY5nK6Qxfr",
        "colab": {
          "base_uri": "https://localhost:8080/"
        },
        "outputId": "db23b6bf-92b3-44d4-b40d-d5bdfb1b3ff1"
      },
      "outputs": [
        {
          "output_type": "execute_result",
          "data": {
            "text/plain": [
              "(0.6255826754918475, 0.6255826754918475)"
            ]
          },
          "metadata": {},
          "execution_count": 62
        }
      ],
      "source": [
        "### Simple regret minimization: run number = 8\n",
        "\n",
        "approx_output_8 = np.append(np.min(-approx_8.GP.y[0:n_init]),-approx_8.GP.y[n_init:(n_init+iters)]) \n",
        "exact_output_8 = np.append(np.min(-exact_8.GP.y[0:n_init]),-exact_8.GP.y[n_init:(n_init+iters)]) \n",
        "\n",
        "regret_approx_8 = np.log(approx_output_8 - y_global_orig)\n",
        "regret_exact_8 = np.log(exact_output_8 - y_global_orig)\n",
        "\n",
        "simple_regret_approx_8 = min_max_array(regret_approx_8)\n",
        "simple_regret_exact_8 = min_max_array(regret_exact_8)\n",
        "\n",
        "min_simple_regret_approx_8 = min(simple_regret_approx_8)\n",
        "min_simple_regret_exact_8 = min(simple_regret_exact_8)\n",
        "\n",
        "min_simple_regret_approx_8, min_simple_regret_exact_8"
      ]
    },
    {
      "cell_type": "code",
      "execution_count": 63,
      "metadata": {
        "id": "qt0P5t9qQxfs",
        "colab": {
          "base_uri": "https://localhost:8080/"
        },
        "outputId": "5f74ac08-4189-4db1-cc1d-1924c00b1af9"
      },
      "outputs": [
        {
          "output_type": "execute_result",
          "data": {
            "text/plain": [
              "(0.6753114056296418, -2.2065716266130453)"
            ]
          },
          "metadata": {},
          "execution_count": 63
        }
      ],
      "source": [
        "### Simple regret minimization: run number = 9\n",
        "\n",
        "approx_output_9 = np.append(np.min(-approx_9.GP.y[0:n_init]),-approx_9.GP.y[n_init:(n_init+iters)]) \n",
        "exact_output_9 = np.append(np.min(-exact_9.GP.y[0:n_init]),-exact_9.GP.y[n_init:(n_init+iters)]) \n",
        "\n",
        "regret_approx_9 = np.log(approx_output_9 - y_global_orig)\n",
        "regret_exact_9 = np.log(exact_output_9 - y_global_orig)\n",
        "\n",
        "simple_regret_approx_9 = min_max_array(regret_approx_9)\n",
        "simple_regret_exact_9 = min_max_array(regret_exact_9)\n",
        "\n",
        "min_simple_regret_approx_9 = min(simple_regret_approx_9)\n",
        "min_simple_regret_exact_9 = min(simple_regret_exact_9)\n",
        "\n",
        "min_simple_regret_approx_9, min_simple_regret_exact_9"
      ]
    },
    {
      "cell_type": "code",
      "execution_count": 64,
      "metadata": {
        "id": "vx8to9stQxft",
        "colab": {
          "base_uri": "https://localhost:8080/"
        },
        "outputId": "26b4a3a6-6f88-4c64-f107-17bded5d556b"
      },
      "outputs": [
        {
          "output_type": "execute_result",
          "data": {
            "text/plain": [
              "(0.7796900943255971, -2.150296286231827)"
            ]
          },
          "metadata": {},
          "execution_count": 64
        }
      ],
      "source": [
        "### Simple regret minimization: run number = 10\n",
        "\n",
        "approx_output_10 = np.append(np.min(-approx_10.GP.y[0:n_init]),-approx_10.GP.y[n_init:(n_init+iters)]) \n",
        "exact_output_10 = np.append(np.min(-exact_10.GP.y[0:n_init]),-exact_10.GP.y[n_init:(n_init+iters)]) \n",
        "\n",
        "regret_approx_10 = np.log(approx_output_10 - y_global_orig)\n",
        "regret_exact_10 = np.log(exact_output_10 - y_global_orig)\n",
        "\n",
        "simple_regret_approx_10 = min_max_array(regret_approx_10)\n",
        "simple_regret_exact_10 = min_max_array(regret_exact_10)\n",
        "\n",
        "min_simple_regret_approx_10 = min(simple_regret_approx_10)\n",
        "min_simple_regret_exact_10 = min(simple_regret_exact_10)\n",
        "\n",
        "min_simple_regret_approx_10, min_simple_regret_exact_10"
      ]
    },
    {
      "cell_type": "code",
      "execution_count": 65,
      "metadata": {
        "id": "d-FGzWyHQxfu",
        "colab": {
          "base_uri": "https://localhost:8080/"
        },
        "outputId": "b5c77fae-b9bc-41f5-caa5-ebf6d764cb15"
      },
      "outputs": [
        {
          "output_type": "execute_result",
          "data": {
            "text/plain": [
              "(0.020261892504984707, -0.19522454301277006)"
            ]
          },
          "metadata": {},
          "execution_count": 65
        }
      ],
      "source": [
        "### Simple regret minimization: run number = 11\n",
        "\n",
        "approx_output_11 = np.append(np.min(-approx_11.GP.y[0:n_init]),-approx_11.GP.y[n_init:(n_init+iters)]) \n",
        "exact_output_11 = np.append(np.min(-exact_11.GP.y[0:n_init]),-exact_11.GP.y[n_init:(n_init+iters)]) \n",
        "\n",
        "regret_approx_11 = np.log(approx_output_11 - y_global_orig)\n",
        "regret_exact_11 = np.log(exact_output_11 - y_global_orig)\n",
        "\n",
        "simple_regret_approx_11 = min_max_array(regret_approx_11)\n",
        "simple_regret_exact_11 = min_max_array(regret_exact_11)\n",
        "\n",
        "min_simple_regret_approx_11 = min(simple_regret_approx_11)\n",
        "min_simple_regret_exact_11 = min(simple_regret_exact_11)\n",
        "\n",
        "min_simple_regret_approx_11, min_simple_regret_exact_11"
      ]
    },
    {
      "cell_type": "code",
      "execution_count": 66,
      "metadata": {
        "id": "SvtsssyjQxfv",
        "colab": {
          "base_uri": "https://localhost:8080/"
        },
        "outputId": "7feab5ee-5855-4e0f-c36a-5874a0b471ba"
      },
      "outputs": [
        {
          "output_type": "execute_result",
          "data": {
            "text/plain": [
              "(0.14503843870406635, 0.000749790973200648)"
            ]
          },
          "metadata": {},
          "execution_count": 66
        }
      ],
      "source": [
        "### Simple regret minimization: run number = 12\n",
        "\n",
        "approx_output_12 = np.append(np.min(-approx_12.GP.y[0:n_init]),-approx_12.GP.y[n_init:(n_init+iters)]) \n",
        "exact_output_12 = np.append(np.min(-exact_12.GP.y[0:n_init]),-exact_12.GP.y[n_init:(n_init+iters)]) \n",
        "\n",
        "regret_approx_12 = np.log(approx_output_12 - y_global_orig)\n",
        "regret_exact_12 = np.log(exact_output_12 - y_global_orig)\n",
        "\n",
        "simple_regret_approx_12 = min_max_array(regret_approx_12)\n",
        "simple_regret_exact_12 = min_max_array(regret_exact_12)\n",
        "\n",
        "min_simple_regret_approx_12 = min(simple_regret_approx_12)\n",
        "min_simple_regret_exact_12 = min(simple_regret_exact_12)\n",
        "\n",
        "min_simple_regret_approx_12, min_simple_regret_exact_12"
      ]
    },
    {
      "cell_type": "code",
      "execution_count": 67,
      "metadata": {
        "id": "K6OiGcHkQxfw",
        "colab": {
          "base_uri": "https://localhost:8080/"
        },
        "outputId": "1e9a32ce-7446-43a4-b585-a60b24a92bd9"
      },
      "outputs": [
        {
          "output_type": "execute_result",
          "data": {
            "text/plain": [
              "(1.1235999798931027, 0.856310233846033)"
            ]
          },
          "metadata": {},
          "execution_count": 67
        }
      ],
      "source": [
        "### Simple regret minimization: run number = 13\n",
        "\n",
        "approx_output_13 = np.append(np.min(-approx_13.GP.y[0:n_init]),-approx_13.GP.y[n_init:(n_init+iters)]) \n",
        "exact_output_13 = np.append(np.min(-exact_13.GP.y[0:n_init]),-exact_13.GP.y[n_init:(n_init+iters)]) \n",
        "\n",
        "regret_approx_13 = np.log(approx_output_13 - y_global_orig)\n",
        "regret_exact_13 = np.log(exact_output_13 - y_global_orig)\n",
        "\n",
        "simple_regret_approx_13 = min_max_array(regret_approx_13)\n",
        "simple_regret_exact_13 = min_max_array(regret_exact_13)\n",
        "\n",
        "min_simple_regret_approx_13 = min(simple_regret_approx_13)\n",
        "min_simple_regret_exact_13 = min(simple_regret_exact_13)\n",
        "\n",
        "min_simple_regret_approx_13, min_simple_regret_exact_13"
      ]
    },
    {
      "cell_type": "code",
      "execution_count": 68,
      "metadata": {
        "id": "ogML73shQxfx",
        "colab": {
          "base_uri": "https://localhost:8080/"
        },
        "outputId": "60b09a91-653b-4308-dc66-e934df554069"
      },
      "outputs": [
        {
          "output_type": "execute_result",
          "data": {
            "text/plain": [
              "(1.3071469450369828, 0.6478489290767655)"
            ]
          },
          "metadata": {},
          "execution_count": 68
        }
      ],
      "source": [
        "### Simple regret minimization: run number = 14\n",
        "\n",
        "approx_output_14 = np.append(np.min(-approx_14.GP.y[0:n_init]),-approx_14.GP.y[n_init:(n_init+iters)]) \n",
        "exact_output_14 = np.append(np.min(-exact_14.GP.y[0:n_init]),-exact_14.GP.y[n_init:(n_init+iters)]) \n",
        "\n",
        "regret_approx_14 = np.log(approx_output_14 - y_global_orig)\n",
        "regret_exact_14 = np.log(exact_output_14 - y_global_orig)\n",
        "\n",
        "simple_regret_approx_14 = min_max_array(regret_approx_14)\n",
        "simple_regret_exact_14 = min_max_array(regret_exact_14)\n",
        "\n",
        "min_simple_regret_approx_14 = min(simple_regret_approx_14)\n",
        "min_simple_regret_exact_14 = min(simple_regret_exact_14)\n",
        "\n",
        "min_simple_regret_approx_14, min_simple_regret_exact_14"
      ]
    },
    {
      "cell_type": "code",
      "execution_count": 69,
      "metadata": {
        "id": "9Eg7gFT9Qxfx",
        "colab": {
          "base_uri": "https://localhost:8080/"
        },
        "outputId": "bdc8c813-1863-4917-9453-6f00b01178f3"
      },
      "outputs": [
        {
          "output_type": "execute_result",
          "data": {
            "text/plain": [
              "(1.3114942289195557, 0.5612919285025387)"
            ]
          },
          "metadata": {},
          "execution_count": 69
        }
      ],
      "source": [
        "### Simple regret minimization: run number = 15\n",
        "\n",
        "approx_output_15 = np.append(np.min(-approx_15.GP.y[0:n_init]),-approx_15.GP.y[n_init:(n_init+iters)]) \n",
        "exact_output_15 = np.append(np.min(-exact_15.GP.y[0:n_init]),-exact_15.GP.y[n_init:(n_init+iters)]) \n",
        "\n",
        "regret_approx_15 = np.log(approx_output_15 - y_global_orig)\n",
        "regret_exact_15 = np.log(exact_output_15 - y_global_orig)\n",
        "\n",
        "simple_regret_approx_15 = min_max_array(regret_approx_15)\n",
        "simple_regret_exact_15 = min_max_array(regret_exact_15)\n",
        "\n",
        "min_simple_regret_approx_15 = min(simple_regret_approx_15)\n",
        "min_simple_regret_exact_15 = min(simple_regret_exact_15)\n",
        "\n",
        "min_simple_regret_approx_15, min_simple_regret_exact_15"
      ]
    },
    {
      "cell_type": "code",
      "execution_count": 70,
      "metadata": {
        "id": "lIAC1U7ZQxfy",
        "colab": {
          "base_uri": "https://localhost:8080/"
        },
        "outputId": "3ea74b77-e2c2-47d6-9642-c58836c1e882"
      },
      "outputs": [
        {
          "output_type": "execute_result",
          "data": {
            "text/plain": [
              "(0.39569943187339984, 0.5320982500941044)"
            ]
          },
          "metadata": {},
          "execution_count": 70
        }
      ],
      "source": [
        "### Simple regret minimization: run number = 16\n",
        "\n",
        "approx_output_16 = np.append(np.min(-approx_16.GP.y[0:n_init]),-approx_16.GP.y[n_init:(n_init+iters)]) \n",
        "exact_output_16 = np.append(np.min(-exact_16.GP.y[0:n_init]),-exact_16.GP.y[n_init:(n_init+iters)]) \n",
        "\n",
        "regret_approx_16 = np.log(approx_output_16 - y_global_orig)\n",
        "regret_exact_16 = np.log(exact_output_16 - y_global_orig)\n",
        "\n",
        "simple_regret_approx_16 = min_max_array(regret_approx_16)\n",
        "simple_regret_exact_16 = min_max_array(regret_exact_16)\n",
        "\n",
        "min_simple_regret_approx_16 = min(simple_regret_approx_16)\n",
        "min_simple_regret_exact_16 = min(simple_regret_exact_16)\n",
        "\n",
        "min_simple_regret_approx_16, min_simple_regret_exact_16"
      ]
    },
    {
      "cell_type": "code",
      "execution_count": 71,
      "metadata": {
        "id": "bGott36OQxfz",
        "colab": {
          "base_uri": "https://localhost:8080/"
        },
        "outputId": "660eca40-1f77-4329-f245-8b280e5986f7"
      },
      "outputs": [
        {
          "output_type": "execute_result",
          "data": {
            "text/plain": [
              "(1.9303066691801607, 1.9303066691801607)"
            ]
          },
          "metadata": {},
          "execution_count": 71
        }
      ],
      "source": [
        "### Simple regret minimization: run number = 17\n",
        "\n",
        "approx_output_17 = np.append(np.min(-approx_17.GP.y[0:n_init]),-approx_17.GP.y[n_init:(n_init+iters)]) \n",
        "exact_output_17 = np.append(np.min(-exact_17.GP.y[0:n_init]),-exact_17.GP.y[n_init:(n_init+iters)]) \n",
        "\n",
        "regret_approx_17 = np.log(approx_output_17 - y_global_orig)\n",
        "regret_exact_17 = np.log(exact_output_17 - y_global_orig)\n",
        "\n",
        "simple_regret_approx_17 = min_max_array(regret_approx_17)\n",
        "simple_regret_exact_17 = min_max_array(regret_exact_17)\n",
        "\n",
        "min_simple_regret_approx_17 = min(simple_regret_approx_17)\n",
        "min_simple_regret_exact_17 = min(simple_regret_exact_17)\n",
        "\n",
        "min_simple_regret_approx_17, min_simple_regret_exact_17"
      ]
    },
    {
      "cell_type": "code",
      "execution_count": 72,
      "metadata": {
        "id": "Cz9ZYMBMQxfz",
        "colab": {
          "base_uri": "https://localhost:8080/"
        },
        "outputId": "d260561b-8077-4c48-ccb2-2b50c6c3152e"
      },
      "outputs": [
        {
          "output_type": "execute_result",
          "data": {
            "text/plain": [
              "(0.1631909786958628, 0.9052915200747084)"
            ]
          },
          "metadata": {},
          "execution_count": 72
        }
      ],
      "source": [
        "### Simple regret minimization: run number = 18\n",
        "\n",
        "approx_output_18 = np.append(np.min(-approx_18.GP.y[0:n_init]),-approx_18.GP.y[n_init:(n_init+iters)]) \n",
        "exact_output_18 = np.append(np.min(-exact_18.GP.y[0:n_init]),-exact_18.GP.y[n_init:(n_init+iters)]) \n",
        "\n",
        "regret_approx_18 = np.log(approx_output_18 - y_global_orig)\n",
        "regret_exact_18 = np.log(exact_output_18 - y_global_orig)\n",
        "\n",
        "simple_regret_approx_18 = min_max_array(regret_approx_18)\n",
        "simple_regret_exact_18 = min_max_array(regret_exact_18)\n",
        "\n",
        "min_simple_regret_approx_18 = min(simple_regret_approx_18)\n",
        "min_simple_regret_exact_18 = min(simple_regret_exact_18)\n",
        "\n",
        "min_simple_regret_approx_18, min_simple_regret_exact_18"
      ]
    },
    {
      "cell_type": "code",
      "execution_count": 73,
      "metadata": {
        "id": "OBfpWOHNQxf0",
        "colab": {
          "base_uri": "https://localhost:8080/"
        },
        "outputId": "25fc3158-d0a0-4a8d-ce0c-c40829324c3b"
      },
      "outputs": [
        {
          "output_type": "execute_result",
          "data": {
            "text/plain": [
              "(1.371302168851066, 1.8501504482147593)"
            ]
          },
          "metadata": {},
          "execution_count": 73
        }
      ],
      "source": [
        "### Simple regret minimization: run number = 19\n",
        "\n",
        "approx_output_19 = np.append(np.min(-approx_19.GP.y[0:n_init]),-approx_19.GP.y[n_init:(n_init+iters)]) \n",
        "exact_output_19 = np.append(np.min(-exact_19.GP.y[0:n_init]),-exact_19.GP.y[n_init:(n_init+iters)]) \n",
        "\n",
        "regret_approx_19 = np.log(approx_output_19 - y_global_orig)\n",
        "regret_exact_19 = np.log(exact_output_19 - y_global_orig)\n",
        "\n",
        "simple_regret_approx_19 = min_max_array(regret_approx_19)\n",
        "simple_regret_exact_19 = min_max_array(regret_exact_19)\n",
        "\n",
        "min_simple_regret_approx_19 = min(simple_regret_approx_19)\n",
        "min_simple_regret_exact_19 = min(simple_regret_exact_19)\n",
        "\n",
        "min_simple_regret_approx_19, min_simple_regret_exact_19"
      ]
    },
    {
      "cell_type": "code",
      "execution_count": 74,
      "metadata": {
        "id": "BE1AJ7NsQxf0",
        "colab": {
          "base_uri": "https://localhost:8080/"
        },
        "outputId": "41aaacc3-61cd-4b0e-fb41-115d739606b6"
      },
      "outputs": [
        {
          "output_type": "execute_result",
          "data": {
            "text/plain": [
              "(-3.929010727020435, 1.7874230663884931)"
            ]
          },
          "metadata": {},
          "execution_count": 74
        }
      ],
      "source": [
        "### Simple regret minimization: run number = 20\n",
        "\n",
        "approx_output_20 = np.append(np.min(-approx_20.GP.y[0:n_init]),-approx_20.GP.y[n_init:(n_init+iters)]) \n",
        "exact_output_20 = np.append(np.min(-exact_20.GP.y[0:n_init]),-exact_20.GP.y[n_init:(n_init+iters)]) \n",
        "\n",
        "regret_approx_20 = np.log(approx_output_20 - y_global_orig)\n",
        "regret_exact_20 = np.log(exact_output_20 - y_global_orig)\n",
        "\n",
        "simple_regret_approx_20 = min_max_array(regret_approx_20)\n",
        "simple_regret_exact_20 = min_max_array(regret_exact_20)\n",
        "\n",
        "min_simple_regret_approx_20 = min(simple_regret_approx_20)\n",
        "min_simple_regret_exact_20 = min(simple_regret_exact_20)\n",
        "\n",
        "min_simple_regret_approx_20, min_simple_regret_exact_20"
      ]
    },
    {
      "cell_type": "code",
      "execution_count": 75,
      "metadata": {
        "id": "bpX-bKAHQxf1"
      },
      "outputs": [],
      "source": [
        "# Iteration1 :\n",
        "\n",
        "slice1 = 0\n",
        "\n",
        "approx1 = [simple_regret_approx_1[slice1],\n",
        "       simple_regret_approx_2[slice1],\n",
        "       simple_regret_approx_3[slice1],\n",
        "       simple_regret_approx_4[slice1],\n",
        "       simple_regret_approx_5[slice1],\n",
        "       simple_regret_approx_6[slice1],\n",
        "       simple_regret_approx_7[slice1],\n",
        "       simple_regret_approx_8[slice1],\n",
        "       simple_regret_approx_9[slice1],\n",
        "       simple_regret_approx_10[slice1],\n",
        "       simple_regret_approx_11[slice1],\n",
        "       simple_regret_approx_12[slice1],\n",
        "       simple_regret_approx_13[slice1],\n",
        "       simple_regret_approx_14[slice1],\n",
        "       simple_regret_approx_15[slice1],\n",
        "       simple_regret_approx_16[slice1],\n",
        "       simple_regret_approx_17[slice1],\n",
        "       simple_regret_approx_18[slice1],\n",
        "       simple_regret_approx_19[slice1],\n",
        "       simple_regret_approx_20[slice1]]\n",
        "\n",
        "exact1 = [simple_regret_exact_1[slice1],\n",
        "       simple_regret_exact_2[slice1],\n",
        "       simple_regret_exact_3[slice1],\n",
        "       simple_regret_exact_4[slice1],\n",
        "       simple_regret_exact_5[slice1],\n",
        "       simple_regret_exact_6[slice1],\n",
        "       simple_regret_exact_7[slice1],\n",
        "       simple_regret_exact_8[slice1],\n",
        "       simple_regret_exact_9[slice1],\n",
        "       simple_regret_exact_10[slice1],\n",
        "       simple_regret_exact_11[slice1],\n",
        "       simple_regret_exact_12[slice1],\n",
        "       simple_regret_exact_13[slice1],\n",
        "       simple_regret_exact_14[slice1],\n",
        "       simple_regret_exact_15[slice1],\n",
        "       simple_regret_exact_16[slice1],\n",
        "       simple_regret_exact_17[slice1],\n",
        "       simple_regret_exact_18[slice1],\n",
        "       simple_regret_exact_19[slice1],\n",
        "       simple_regret_exact_20[slice1]]\n",
        "\n",
        "approx1_results = pd.DataFrame(approx1).sort_values(by=[0], ascending=False)\n",
        "exact1_results = pd.DataFrame(exact1).sort_values(by=[0], ascending=False)\n",
        "\n",
        "### Best simple regret minimization IQR - approx:\n",
        "lower_approx1 = np.asarray(approx1_results[4:5][0])[0]\n",
        "median_approx1 = np.asarray(approx1_results[9:10][0])[0]\n",
        "upper_approx1 = np.asarray(approx1_results[14:15][0])[0]\n",
        "\n",
        "lower_exact1 = np.asarray(exact1_results[4:5][0])[0]\n",
        "median_exact1 = np.asarray(exact1_results[9:10][0])[0]\n",
        "upper_exact1 = np.asarray(exact1_results[14:15][0])[0]"
      ]
    },
    {
      "cell_type": "code",
      "execution_count": 76,
      "metadata": {
        "id": "CgIkJA1xQxf2"
      },
      "outputs": [],
      "source": [
        "# Iteration11 :\n",
        "\n",
        "slice11 = 10\n",
        "\n",
        "approx11 = [simple_regret_approx_1[slice11],\n",
        "       simple_regret_approx_2[slice11],\n",
        "       simple_regret_approx_3[slice11],\n",
        "       simple_regret_approx_4[slice11],\n",
        "       simple_regret_approx_5[slice11],\n",
        "       simple_regret_approx_6[slice11],\n",
        "       simple_regret_approx_7[slice11],\n",
        "       simple_regret_approx_8[slice11],\n",
        "       simple_regret_approx_9[slice11],\n",
        "       simple_regret_approx_10[slice11],\n",
        "       simple_regret_approx_11[slice11],\n",
        "       simple_regret_approx_12[slice11],\n",
        "       simple_regret_approx_13[slice11],\n",
        "       simple_regret_approx_14[slice11],\n",
        "       simple_regret_approx_15[slice11],\n",
        "       simple_regret_approx_16[slice11],\n",
        "       simple_regret_approx_17[slice11],\n",
        "       simple_regret_approx_18[slice11],\n",
        "       simple_regret_approx_19[slice11],\n",
        "       simple_regret_approx_20[slice11]]\n",
        "\n",
        "exact11 = [simple_regret_exact_1[slice11],\n",
        "       simple_regret_exact_2[slice11],\n",
        "       simple_regret_exact_3[slice11],\n",
        "       simple_regret_exact_4[slice11],\n",
        "       simple_regret_exact_5[slice11],\n",
        "       simple_regret_exact_6[slice11],\n",
        "       simple_regret_exact_7[slice11],\n",
        "       simple_regret_exact_8[slice11],\n",
        "       simple_regret_exact_9[slice11],\n",
        "       simple_regret_exact_10[slice11],\n",
        "       simple_regret_exact_11[slice11],\n",
        "       simple_regret_exact_12[slice11],\n",
        "       simple_regret_exact_13[slice11],\n",
        "       simple_regret_exact_14[slice11],\n",
        "       simple_regret_exact_15[slice11],\n",
        "       simple_regret_exact_16[slice11],\n",
        "       simple_regret_exact_17[slice11],\n",
        "       simple_regret_exact_18[slice11],\n",
        "       simple_regret_exact_19[slice11],\n",
        "       simple_regret_exact_20[slice11]]\n",
        "\n",
        "approx11_results = pd.DataFrame(approx11).sort_values(by=[0], ascending=False)\n",
        "exact11_results = pd.DataFrame(exact11).sort_values(by=[0], ascending=False)\n",
        "\n",
        "### Best simple regret minimization IQR - approx:\n",
        "lower_approx11 = np.asarray(approx11_results[4:5][0])[0]\n",
        "median_approx11 = np.asarray(approx11_results[9:10][0])[0]\n",
        "upper_approx11 = np.asarray(approx11_results[14:15][0])[0]\n",
        "\n",
        "lower_exact11 = np.asarray(exact11_results[4:5][0])[0]\n",
        "median_exact11 = np.asarray(exact11_results[9:10][0])[0]\n",
        "upper_exact11 = np.asarray(exact11_results[14:15][0])[0]"
      ]
    },
    {
      "cell_type": "code",
      "execution_count": 77,
      "metadata": {
        "id": "MFePDfGuQxf2"
      },
      "outputs": [],
      "source": [
        "# Iteration21 :\n",
        "\n",
        "slice21 = 20\n",
        "\n",
        "approx21 = [simple_regret_approx_1[slice21],\n",
        "       simple_regret_approx_2[slice21],\n",
        "       simple_regret_approx_3[slice21],\n",
        "       simple_regret_approx_4[slice21],\n",
        "       simple_regret_approx_5[slice21],\n",
        "       simple_regret_approx_6[slice21],\n",
        "       simple_regret_approx_7[slice21],\n",
        "       simple_regret_approx_8[slice21],\n",
        "       simple_regret_approx_9[slice21],\n",
        "       simple_regret_approx_10[slice21],\n",
        "       simple_regret_approx_11[slice21],\n",
        "       simple_regret_approx_12[slice21],\n",
        "       simple_regret_approx_13[slice21],\n",
        "       simple_regret_approx_14[slice21],\n",
        "       simple_regret_approx_15[slice21],\n",
        "       simple_regret_approx_16[slice21],\n",
        "       simple_regret_approx_17[slice21],\n",
        "       simple_regret_approx_18[slice21],\n",
        "       simple_regret_approx_19[slice21],\n",
        "       simple_regret_approx_20[slice21]]\n",
        "\n",
        "exact21 = [simple_regret_exact_1[slice21],\n",
        "       simple_regret_exact_2[slice21],\n",
        "       simple_regret_exact_3[slice21],\n",
        "       simple_regret_exact_4[slice21],\n",
        "       simple_regret_exact_5[slice21],\n",
        "       simple_regret_exact_6[slice21],\n",
        "       simple_regret_exact_7[slice21],\n",
        "       simple_regret_exact_8[slice21],\n",
        "       simple_regret_exact_9[slice21],\n",
        "       simple_regret_exact_10[slice21],\n",
        "       simple_regret_exact_11[slice21],\n",
        "       simple_regret_exact_12[slice21],\n",
        "       simple_regret_exact_13[slice21],\n",
        "       simple_regret_exact_14[slice21],\n",
        "       simple_regret_exact_15[slice21],\n",
        "       simple_regret_exact_16[slice21],\n",
        "       simple_regret_exact_17[slice21],\n",
        "       simple_regret_exact_18[slice21],\n",
        "       simple_regret_exact_19[slice21],\n",
        "       simple_regret_exact_20[slice21]]\n",
        "\n",
        "approx21_results = pd.DataFrame(approx21).sort_values(by=[0], ascending=False)\n",
        "exact21_results = pd.DataFrame(exact21).sort_values(by=[0], ascending=False)\n",
        "\n",
        "### Best simple regret minimization IQR - approx:\n",
        "lower_approx21 = np.asarray(approx21_results[4:5][0])[0]\n",
        "median_approx21 = np.asarray(approx21_results[9:10][0])[0]\n",
        "upper_approx21 = np.asarray(approx21_results[14:15][0])[0]\n",
        "\n",
        "lower_exact21 = np.asarray(exact21_results[4:5][0])[0]\n",
        "median_exact21 = np.asarray(exact21_results[9:10][0])[0]\n",
        "upper_exact21 = np.asarray(exact21_results[14:15][0])[0]"
      ]
    },
    {
      "cell_type": "code",
      "execution_count": 78,
      "metadata": {
        "id": "PrRDB1kfQxf3"
      },
      "outputs": [],
      "source": [
        "# Iteration2 :\n",
        "\n",
        "slice2 = 1\n",
        "\n",
        "approx2 = [simple_regret_approx_1[slice2],\n",
        "       simple_regret_approx_2[slice2],\n",
        "       simple_regret_approx_3[slice2],\n",
        "       simple_regret_approx_4[slice2],\n",
        "       simple_regret_approx_5[slice2],\n",
        "       simple_regret_approx_6[slice2],\n",
        "       simple_regret_approx_7[slice2],\n",
        "       simple_regret_approx_8[slice2],\n",
        "       simple_regret_approx_9[slice2],\n",
        "       simple_regret_approx_10[slice2],\n",
        "       simple_regret_approx_11[slice2],\n",
        "       simple_regret_approx_12[slice2],\n",
        "       simple_regret_approx_13[slice2],\n",
        "       simple_regret_approx_14[slice2],\n",
        "       simple_regret_approx_15[slice2],\n",
        "       simple_regret_approx_16[slice2],\n",
        "       simple_regret_approx_17[slice2],\n",
        "       simple_regret_approx_18[slice2],\n",
        "       simple_regret_approx_19[slice2],\n",
        "       simple_regret_approx_20[slice2]]\n",
        "\n",
        "exact2 = [simple_regret_exact_1[slice2],\n",
        "       simple_regret_exact_2[slice2],\n",
        "       simple_regret_exact_3[slice2],\n",
        "       simple_regret_exact_4[slice2],\n",
        "       simple_regret_exact_5[slice2],\n",
        "       simple_regret_exact_6[slice2],\n",
        "       simple_regret_exact_7[slice2],\n",
        "       simple_regret_exact_8[slice2],\n",
        "       simple_regret_exact_9[slice2],\n",
        "       simple_regret_exact_10[slice2],\n",
        "       simple_regret_exact_11[slice2],\n",
        "       simple_regret_exact_12[slice2],\n",
        "       simple_regret_exact_13[slice2],\n",
        "       simple_regret_exact_14[slice2],\n",
        "       simple_regret_exact_15[slice2],\n",
        "       simple_regret_exact_16[slice2],\n",
        "       simple_regret_exact_17[slice2],\n",
        "       simple_regret_exact_18[slice2],\n",
        "       simple_regret_exact_19[slice2],\n",
        "       simple_regret_exact_20[slice2]]\n",
        "\n",
        "approx2_results = pd.DataFrame(approx2).sort_values(by=[0], ascending=False)\n",
        "exact2_results = pd.DataFrame(exact2).sort_values(by=[0], ascending=False)\n",
        "\n",
        "### Best simple regret minimization IQR - approx:\n",
        "lower_approx2 = np.asarray(approx2_results[4:5][0])[0]\n",
        "median_approx2 = np.asarray(approx2_results[9:10][0])[0]\n",
        "upper_approx2 = np.asarray(approx2_results[14:15][0])[0]\n",
        "\n",
        "lower_exact2 = np.asarray(exact2_results[4:5][0])[0]\n",
        "median_exact2 = np.asarray(exact2_results[9:10][0])[0]\n",
        "upper_exact2 = np.asarray(exact2_results[14:15][0])[0]"
      ]
    },
    {
      "cell_type": "code",
      "execution_count": 79,
      "metadata": {
        "id": "B8ncJDYeQxf3"
      },
      "outputs": [],
      "source": [
        "# Iteration12 :\n",
        "\n",
        "slice12 = 11\n",
        "\n",
        "approx12 = [simple_regret_approx_1[slice12],\n",
        "       simple_regret_approx_2[slice12],\n",
        "       simple_regret_approx_3[slice12],\n",
        "       simple_regret_approx_4[slice12],\n",
        "       simple_regret_approx_5[slice12],\n",
        "       simple_regret_approx_6[slice12],\n",
        "       simple_regret_approx_7[slice12],\n",
        "       simple_regret_approx_8[slice12],\n",
        "       simple_regret_approx_9[slice12],\n",
        "       simple_regret_approx_10[slice12],\n",
        "       simple_regret_approx_11[slice12],\n",
        "       simple_regret_approx_12[slice12],\n",
        "       simple_regret_approx_13[slice12],\n",
        "       simple_regret_approx_14[slice12],\n",
        "       simple_regret_approx_15[slice12],\n",
        "       simple_regret_approx_16[slice12],\n",
        "       simple_regret_approx_17[slice12],\n",
        "       simple_regret_approx_18[slice12],\n",
        "       simple_regret_approx_19[slice12],\n",
        "       simple_regret_approx_20[slice12]]\n",
        "\n",
        "exact12 = [simple_regret_exact_1[slice12],\n",
        "       simple_regret_exact_2[slice12],\n",
        "       simple_regret_exact_3[slice12],\n",
        "       simple_regret_exact_4[slice12],\n",
        "       simple_regret_exact_5[slice12],\n",
        "       simple_regret_exact_6[slice12],\n",
        "       simple_regret_exact_7[slice12],\n",
        "       simple_regret_exact_8[slice12],\n",
        "       simple_regret_exact_9[slice12],\n",
        "       simple_regret_exact_10[slice12],\n",
        "       simple_regret_exact_11[slice12],\n",
        "       simple_regret_exact_12[slice12],\n",
        "       simple_regret_exact_13[slice12],\n",
        "       simple_regret_exact_14[slice12],\n",
        "       simple_regret_exact_15[slice12],\n",
        "       simple_regret_exact_16[slice12],\n",
        "       simple_regret_exact_17[slice12],\n",
        "       simple_regret_exact_18[slice12],\n",
        "       simple_regret_exact_19[slice12],\n",
        "       simple_regret_exact_20[slice12]]\n",
        "\n",
        "approx12_results = pd.DataFrame(approx12).sort_values(by=[0], ascending=False)\n",
        "exact12_results = pd.DataFrame(exact12).sort_values(by=[0], ascending=False)\n",
        "\n",
        "### Best simple regret minimization IQR - approx:\n",
        "lower_approx12 = np.asarray(approx12_results[4:5][0])[0]\n",
        "median_approx12 = np.asarray(approx12_results[9:10][0])[0]\n",
        "upper_approx12 = np.asarray(approx12_results[14:15][0])[0]\n",
        "\n",
        "lower_exact12 = np.asarray(exact12_results[4:5][0])[0]\n",
        "median_exact12 = np.asarray(exact12_results[9:10][0])[0]\n",
        "upper_exact12 = np.asarray(exact12_results[14:15][0])[0]"
      ]
    },
    {
      "cell_type": "code",
      "execution_count": 80,
      "metadata": {
        "id": "Jn4KpGvcQxf4"
      },
      "outputs": [],
      "source": [
        "# Iteration3 :\n",
        "\n",
        "slice3 = 2\n",
        "\n",
        "approx3 = [simple_regret_approx_1[slice3],\n",
        "       simple_regret_approx_2[slice3],\n",
        "       simple_regret_approx_3[slice3],\n",
        "       simple_regret_approx_4[slice3],\n",
        "       simple_regret_approx_5[slice3],\n",
        "       simple_regret_approx_6[slice3],\n",
        "       simple_regret_approx_7[slice3],\n",
        "       simple_regret_approx_8[slice3],\n",
        "       simple_regret_approx_9[slice3],\n",
        "       simple_regret_approx_10[slice3],\n",
        "       simple_regret_approx_11[slice3],\n",
        "       simple_regret_approx_12[slice3],\n",
        "       simple_regret_approx_13[slice3],\n",
        "       simple_regret_approx_14[slice3],\n",
        "       simple_regret_approx_15[slice3],\n",
        "       simple_regret_approx_16[slice3],\n",
        "       simple_regret_approx_17[slice3],\n",
        "       simple_regret_approx_18[slice3],\n",
        "       simple_regret_approx_19[slice3],\n",
        "       simple_regret_approx_20[slice3]]\n",
        "\n",
        "exact3 = [simple_regret_exact_1[slice3],\n",
        "       simple_regret_exact_2[slice3],\n",
        "       simple_regret_exact_3[slice3],\n",
        "       simple_regret_exact_4[slice3],\n",
        "       simple_regret_exact_5[slice3],\n",
        "       simple_regret_exact_6[slice3],\n",
        "       simple_regret_exact_7[slice3],\n",
        "       simple_regret_exact_8[slice3],\n",
        "       simple_regret_exact_9[slice3],\n",
        "       simple_regret_exact_10[slice3],\n",
        "       simple_regret_exact_11[slice3],\n",
        "       simple_regret_exact_12[slice3],\n",
        "       simple_regret_exact_13[slice3],\n",
        "       simple_regret_exact_14[slice3],\n",
        "       simple_regret_exact_15[slice3],\n",
        "       simple_regret_exact_16[slice3],\n",
        "       simple_regret_exact_17[slice3],\n",
        "       simple_regret_exact_18[slice3],\n",
        "       simple_regret_exact_19[slice3],\n",
        "       simple_regret_exact_20[slice3]]\n",
        "\n",
        "approx3_results = pd.DataFrame(approx3).sort_values(by=[0], ascending=False)\n",
        "exact3_results = pd.DataFrame(exact3).sort_values(by=[0], ascending=False)\n",
        "\n",
        "### Best simple regret minimization IQR - approx:\n",
        "lower_approx3 = np.asarray(approx3_results[4:5][0])[0]\n",
        "median_approx3 = np.asarray(approx3_results[9:10][0])[0]\n",
        "upper_approx3 = np.asarray(approx3_results[14:15][0])[0]\n",
        "\n",
        "lower_exact3 = np.asarray(exact3_results[4:5][0])[0]\n",
        "median_exact3 = np.asarray(exact3_results[9:10][0])[0]\n",
        "upper_exact3 = np.asarray(exact3_results[14:15][0])[0]"
      ]
    },
    {
      "cell_type": "code",
      "execution_count": 81,
      "metadata": {
        "id": "plf83wxrQxf4"
      },
      "outputs": [],
      "source": [
        "# Iteration13 :\n",
        "\n",
        "slice13 = 12\n",
        "\n",
        "approx13 = [simple_regret_approx_1[slice13],\n",
        "       simple_regret_approx_2[slice13],\n",
        "       simple_regret_approx_3[slice13],\n",
        "       simple_regret_approx_4[slice13],\n",
        "       simple_regret_approx_5[slice13],\n",
        "       simple_regret_approx_6[slice13],\n",
        "       simple_regret_approx_7[slice13],\n",
        "       simple_regret_approx_8[slice13],\n",
        "       simple_regret_approx_9[slice13],\n",
        "       simple_regret_approx_10[slice13],\n",
        "       simple_regret_approx_11[slice13],\n",
        "       simple_regret_approx_12[slice13],\n",
        "       simple_regret_approx_13[slice13],\n",
        "       simple_regret_approx_14[slice13],\n",
        "       simple_regret_approx_15[slice13],\n",
        "       simple_regret_approx_16[slice13],\n",
        "       simple_regret_approx_17[slice13],\n",
        "       simple_regret_approx_18[slice13],\n",
        "       simple_regret_approx_19[slice13],\n",
        "       simple_regret_approx_20[slice13]]\n",
        "\n",
        "exact13 = [simple_regret_exact_1[slice13],\n",
        "       simple_regret_exact_2[slice13],\n",
        "       simple_regret_exact_3[slice13],\n",
        "       simple_regret_exact_4[slice13],\n",
        "       simple_regret_exact_5[slice13],\n",
        "       simple_regret_exact_6[slice13],\n",
        "       simple_regret_exact_7[slice13],\n",
        "       simple_regret_exact_8[slice13],\n",
        "       simple_regret_exact_9[slice13],\n",
        "       simple_regret_exact_10[slice13],\n",
        "       simple_regret_exact_11[slice13],\n",
        "       simple_regret_exact_12[slice13],\n",
        "       simple_regret_exact_13[slice13],\n",
        "       simple_regret_exact_14[slice13],\n",
        "       simple_regret_exact_15[slice13],\n",
        "       simple_regret_exact_16[slice13],\n",
        "       simple_regret_exact_17[slice13],\n",
        "       simple_regret_exact_18[slice13],\n",
        "       simple_regret_exact_19[slice13],\n",
        "       simple_regret_exact_20[slice13]]\n",
        "\n",
        "approx13_results = pd.DataFrame(approx13).sort_values(by=[0], ascending=False)\n",
        "exact13_results = pd.DataFrame(exact13).sort_values(by=[0], ascending=False)\n",
        "\n",
        "### Best simple regret minimization IQR - approx:\n",
        "lower_approx13 = np.asarray(approx13_results[4:5][0])[0]\n",
        "median_approx13 = np.asarray(approx13_results[9:10][0])[0]\n",
        "upper_approx13 = np.asarray(approx13_results[14:15][0])[0]\n",
        "\n",
        "lower_exact13 = np.asarray(exact13_results[4:5][0])[0]\n",
        "median_exact13 = np.asarray(exact13_results[9:10][0])[0]\n",
        "upper_exact13 = np.asarray(exact13_results[14:15][0])[0]"
      ]
    },
    {
      "cell_type": "code",
      "execution_count": 82,
      "metadata": {
        "id": "9A7mlVvJQxf5"
      },
      "outputs": [],
      "source": [
        "# Iteration4 :\n",
        "\n",
        "slice4 = 3\n",
        "\n",
        "approx4 = [simple_regret_approx_1[slice4],\n",
        "       simple_regret_approx_2[slice4],\n",
        "       simple_regret_approx_3[slice4],\n",
        "       simple_regret_approx_4[slice4],\n",
        "       simple_regret_approx_5[slice4],\n",
        "       simple_regret_approx_6[slice4],\n",
        "       simple_regret_approx_7[slice4],\n",
        "       simple_regret_approx_8[slice4],\n",
        "       simple_regret_approx_9[slice4],\n",
        "       simple_regret_approx_10[slice4],\n",
        "       simple_regret_approx_11[slice4],\n",
        "       simple_regret_approx_12[slice4],\n",
        "       simple_regret_approx_13[slice4],\n",
        "       simple_regret_approx_14[slice4],\n",
        "       simple_regret_approx_15[slice4],\n",
        "       simple_regret_approx_16[slice4],\n",
        "       simple_regret_approx_17[slice4],\n",
        "       simple_regret_approx_18[slice4],\n",
        "       simple_regret_approx_19[slice4],\n",
        "       simple_regret_approx_20[slice4]]\n",
        "\n",
        "exact4 = [simple_regret_exact_1[slice4],\n",
        "       simple_regret_exact_2[slice4],\n",
        "       simple_regret_exact_3[slice4],\n",
        "       simple_regret_exact_4[slice4],\n",
        "       simple_regret_exact_5[slice4],\n",
        "       simple_regret_exact_6[slice4],\n",
        "       simple_regret_exact_7[slice4],\n",
        "       simple_regret_exact_8[slice4],\n",
        "       simple_regret_exact_9[slice4],\n",
        "       simple_regret_exact_10[slice4],\n",
        "       simple_regret_exact_11[slice4],\n",
        "       simple_regret_exact_12[slice4],\n",
        "       simple_regret_exact_13[slice4],\n",
        "       simple_regret_exact_14[slice4],\n",
        "       simple_regret_exact_15[slice4],\n",
        "       simple_regret_exact_16[slice4],\n",
        "       simple_regret_exact_17[slice4],\n",
        "       simple_regret_exact_18[slice4],\n",
        "       simple_regret_exact_19[slice4],\n",
        "       simple_regret_exact_20[slice4]]\n",
        "\n",
        "approx4_results = pd.DataFrame(approx4).sort_values(by=[0], ascending=False)\n",
        "exact4_results = pd.DataFrame(exact4).sort_values(by=[0], ascending=False)\n",
        "\n",
        "### Best simple regret minimization IQR - approx:\n",
        "lower_approx4 = np.asarray(approx4_results[4:5][0])[0]\n",
        "median_approx4 = np.asarray(approx4_results[9:10][0])[0]\n",
        "upper_approx4 = np.asarray(approx4_results[14:15][0])[0]\n",
        "\n",
        "lower_exact4 = np.asarray(exact4_results[4:5][0])[0]\n",
        "median_exact4 = np.asarray(exact4_results[9:10][0])[0]\n",
        "upper_exact4 = np.asarray(exact4_results[14:15][0])[0]"
      ]
    },
    {
      "cell_type": "code",
      "execution_count": 83,
      "metadata": {
        "id": "ijq-rioYQxf5"
      },
      "outputs": [],
      "source": [
        "# Iteration14 :\n",
        "\n",
        "slice14 = 13\n",
        "\n",
        "approx14 = [simple_regret_approx_1[slice14],\n",
        "       simple_regret_approx_2[slice14],\n",
        "       simple_regret_approx_3[slice14],\n",
        "       simple_regret_approx_4[slice14],\n",
        "       simple_regret_approx_5[slice14],\n",
        "       simple_regret_approx_6[slice14],\n",
        "       simple_regret_approx_7[slice14],\n",
        "       simple_regret_approx_8[slice14],\n",
        "       simple_regret_approx_9[slice14],\n",
        "       simple_regret_approx_10[slice14],\n",
        "       simple_regret_approx_11[slice14],\n",
        "       simple_regret_approx_12[slice14],\n",
        "       simple_regret_approx_13[slice14],\n",
        "       simple_regret_approx_14[slice14],\n",
        "       simple_regret_approx_15[slice14],\n",
        "       simple_regret_approx_16[slice14],\n",
        "       simple_regret_approx_17[slice14],\n",
        "       simple_regret_approx_18[slice14],\n",
        "       simple_regret_approx_19[slice14],\n",
        "       simple_regret_approx_20[slice14]]\n",
        "\n",
        "exact14 = [simple_regret_exact_1[slice14],\n",
        "       simple_regret_exact_2[slice14],\n",
        "       simple_regret_exact_3[slice14],\n",
        "       simple_regret_exact_4[slice14],\n",
        "       simple_regret_exact_5[slice14],\n",
        "       simple_regret_exact_6[slice14],\n",
        "       simple_regret_exact_7[slice14],\n",
        "       simple_regret_exact_8[slice14],\n",
        "       simple_regret_exact_9[slice14],\n",
        "       simple_regret_exact_10[slice14],\n",
        "       simple_regret_exact_11[slice14],\n",
        "       simple_regret_exact_12[slice14],\n",
        "       simple_regret_exact_13[slice14],\n",
        "       simple_regret_exact_14[slice14],\n",
        "       simple_regret_exact_15[slice14],\n",
        "       simple_regret_exact_16[slice14],\n",
        "       simple_regret_exact_17[slice14],\n",
        "       simple_regret_exact_18[slice14],\n",
        "       simple_regret_exact_19[slice14],\n",
        "       simple_regret_exact_20[slice14]]\n",
        "\n",
        "approx14_results = pd.DataFrame(approx14).sort_values(by=[0], ascending=False)\n",
        "exact14_results = pd.DataFrame(exact14).sort_values(by=[0], ascending=False)\n",
        "\n",
        "### Best simple regret minimization IQR - approx:\n",
        "lower_approx14 = np.asarray(approx14_results[4:5][0])[0]\n",
        "median_approx14 = np.asarray(approx14_results[9:10][0])[0]\n",
        "upper_approx14 = np.asarray(approx14_results[14:15][0])[0]\n",
        "\n",
        "lower_exact14 = np.asarray(exact14_results[4:5][0])[0]\n",
        "median_exact14 = np.asarray(exact14_results[9:10][0])[0]\n",
        "upper_exact14 = np.asarray(exact14_results[14:15][0])[0]"
      ]
    },
    {
      "cell_type": "code",
      "execution_count": 84,
      "metadata": {
        "id": "XINlZjoTd-ZK"
      },
      "outputs": [],
      "source": [
        "# Iteration5 :\n",
        "\n",
        "slice5 = 4\n",
        "\n",
        "approx5 = [simple_regret_approx_1[slice5],\n",
        "       simple_regret_approx_2[slice5],\n",
        "       simple_regret_approx_3[slice5],\n",
        "       simple_regret_approx_4[slice5],\n",
        "       simple_regret_approx_5[slice5],\n",
        "       simple_regret_approx_6[slice5],\n",
        "       simple_regret_approx_7[slice5],\n",
        "       simple_regret_approx_8[slice5],\n",
        "       simple_regret_approx_9[slice5],\n",
        "       simple_regret_approx_10[slice5],\n",
        "       simple_regret_approx_11[slice5],\n",
        "       simple_regret_approx_12[slice5],\n",
        "       simple_regret_approx_13[slice5],\n",
        "       simple_regret_approx_14[slice5],\n",
        "       simple_regret_approx_15[slice5],\n",
        "       simple_regret_approx_16[slice5],\n",
        "       simple_regret_approx_17[slice5],\n",
        "       simple_regret_approx_18[slice5],\n",
        "       simple_regret_approx_19[slice5],\n",
        "       simple_regret_approx_20[slice5]]\n",
        "\n",
        "exact5 = [simple_regret_exact_1[slice5],\n",
        "       simple_regret_exact_2[slice5],\n",
        "       simple_regret_exact_3[slice5],\n",
        "       simple_regret_exact_4[slice5],\n",
        "       simple_regret_exact_5[slice5],\n",
        "       simple_regret_exact_6[slice5],\n",
        "       simple_regret_exact_7[slice5],\n",
        "       simple_regret_exact_8[slice5],\n",
        "       simple_regret_exact_9[slice5],\n",
        "       simple_regret_exact_10[slice5],\n",
        "       simple_regret_exact_11[slice5],\n",
        "       simple_regret_exact_12[slice5],\n",
        "       simple_regret_exact_13[slice5],\n",
        "       simple_regret_exact_14[slice5],\n",
        "       simple_regret_exact_15[slice5],\n",
        "       simple_regret_exact_16[slice5],\n",
        "       simple_regret_exact_17[slice5],\n",
        "       simple_regret_exact_18[slice5],\n",
        "       simple_regret_exact_19[slice5],\n",
        "       simple_regret_exact_20[slice5]]\n",
        "\n",
        "approx5_results = pd.DataFrame(approx5).sort_values(by=[0], ascending=False)\n",
        "exact5_results = pd.DataFrame(exact5).sort_values(by=[0], ascending=False)\n",
        "\n",
        "### Best simple regret minimization IQR - approx:\n",
        "lower_approx5 = np.asarray(approx5_results[4:5][0])[0]\n",
        "median_approx5 = np.asarray(approx5_results[9:10][0])[0]\n",
        "upper_approx5 = np.asarray(approx5_results[14:15][0])[0]\n",
        "\n",
        "lower_exact5 = np.asarray(exact5_results[4:5][0])[0]\n",
        "median_exact5 = np.asarray(exact5_results[9:10][0])[0]\n",
        "upper_exact5 = np.asarray(exact5_results[14:15][0])[0]"
      ]
    },
    {
      "cell_type": "code",
      "execution_count": 85,
      "metadata": {
        "id": "4aZ7C8sOQxf6"
      },
      "outputs": [],
      "source": [
        "# Iteration15 :\n",
        "\n",
        "slice15 = 14\n",
        "\n",
        "approx15 = [simple_regret_approx_1[slice15],\n",
        "       simple_regret_approx_2[slice15],\n",
        "       simple_regret_approx_3[slice15],\n",
        "       simple_regret_approx_4[slice15],\n",
        "       simple_regret_approx_5[slice15],\n",
        "       simple_regret_approx_6[slice15],\n",
        "       simple_regret_approx_7[slice15],\n",
        "       simple_regret_approx_8[slice15],\n",
        "       simple_regret_approx_9[slice15],\n",
        "       simple_regret_approx_10[slice15],\n",
        "       simple_regret_approx_11[slice15],\n",
        "       simple_regret_approx_12[slice15],\n",
        "       simple_regret_approx_13[slice15],\n",
        "       simple_regret_approx_14[slice15],\n",
        "       simple_regret_approx_15[slice15],\n",
        "       simple_regret_approx_16[slice15],\n",
        "       simple_regret_approx_17[slice15],\n",
        "       simple_regret_approx_18[slice15],\n",
        "       simple_regret_approx_19[slice15],\n",
        "       simple_regret_approx_20[slice15]]\n",
        "\n",
        "exact15 = [simple_regret_exact_1[slice15],\n",
        "       simple_regret_exact_2[slice15],\n",
        "       simple_regret_exact_3[slice15],\n",
        "       simple_regret_exact_4[slice15],\n",
        "       simple_regret_exact_5[slice15],\n",
        "       simple_regret_exact_6[slice15],\n",
        "       simple_regret_exact_7[slice15],\n",
        "       simple_regret_exact_8[slice15],\n",
        "       simple_regret_exact_9[slice15],\n",
        "       simple_regret_exact_10[slice15],\n",
        "       simple_regret_exact_11[slice15],\n",
        "       simple_regret_exact_12[slice15],\n",
        "       simple_regret_exact_13[slice15],\n",
        "       simple_regret_exact_14[slice15],\n",
        "       simple_regret_exact_15[slice15],\n",
        "       simple_regret_exact_16[slice15],\n",
        "       simple_regret_exact_17[slice15],\n",
        "       simple_regret_exact_18[slice15],\n",
        "       simple_regret_exact_19[slice15],\n",
        "       simple_regret_exact_20[slice15]]\n",
        "\n",
        "approx15_results = pd.DataFrame(approx15).sort_values(by=[0], ascending=False)\n",
        "exact15_results = pd.DataFrame(exact15).sort_values(by=[0], ascending=False)\n",
        "\n",
        "### Best simple regret minimization IQR - approx:\n",
        "lower_approx15 = np.asarray(approx15_results[4:5][0])[0]\n",
        "median_approx15 = np.asarray(approx15_results[9:10][0])[0]\n",
        "upper_approx15 = np.asarray(approx15_results[14:15][0])[0]\n",
        "\n",
        "lower_exact15 = np.asarray(exact15_results[4:5][0])[0]\n",
        "median_exact15 = np.asarray(exact15_results[9:10][0])[0]\n",
        "upper_exact15 = np.asarray(exact15_results[14:15][0])[0]"
      ]
    },
    {
      "cell_type": "code",
      "execution_count": 86,
      "metadata": {
        "id": "KJINKhv1Qxf6"
      },
      "outputs": [],
      "source": [
        "# Iteration6 :\n",
        "\n",
        "slice6 = 5\n",
        "\n",
        "approx6 = [simple_regret_approx_1[slice6],\n",
        "       simple_regret_approx_2[slice6],\n",
        "       simple_regret_approx_3[slice6],\n",
        "       simple_regret_approx_4[slice6],\n",
        "       simple_regret_approx_5[slice6],\n",
        "       simple_regret_approx_6[slice6],\n",
        "       simple_regret_approx_7[slice6],\n",
        "       simple_regret_approx_8[slice6],\n",
        "       simple_regret_approx_9[slice6],\n",
        "       simple_regret_approx_10[slice6],\n",
        "       simple_regret_approx_11[slice6],\n",
        "       simple_regret_approx_12[slice6],\n",
        "       simple_regret_approx_13[slice6],\n",
        "       simple_regret_approx_14[slice6],\n",
        "       simple_regret_approx_15[slice6],\n",
        "       simple_regret_approx_16[slice6],\n",
        "       simple_regret_approx_17[slice6],\n",
        "       simple_regret_approx_18[slice6],\n",
        "       simple_regret_approx_19[slice6],\n",
        "       simple_regret_approx_20[slice6]]\n",
        "\n",
        "exact6 = [simple_regret_exact_1[slice6],\n",
        "       simple_regret_exact_2[slice6],\n",
        "       simple_regret_exact_3[slice6],\n",
        "       simple_regret_exact_4[slice6],\n",
        "       simple_regret_exact_5[slice6],\n",
        "       simple_regret_exact_6[slice6],\n",
        "       simple_regret_exact_7[slice6],\n",
        "       simple_regret_exact_8[slice6],\n",
        "       simple_regret_exact_9[slice6],\n",
        "       simple_regret_exact_10[slice6],\n",
        "       simple_regret_exact_11[slice6],\n",
        "       simple_regret_exact_12[slice6],\n",
        "       simple_regret_exact_13[slice6],\n",
        "       simple_regret_exact_14[slice6],\n",
        "       simple_regret_exact_15[slice6],\n",
        "       simple_regret_exact_16[slice6],\n",
        "       simple_regret_exact_17[slice6],\n",
        "       simple_regret_exact_18[slice6],\n",
        "       simple_regret_exact_19[slice6],\n",
        "       simple_regret_exact_20[slice6]]\n",
        "\n",
        "approx6_results = pd.DataFrame(approx6).sort_values(by=[0], ascending=False)\n",
        "exact6_results = pd.DataFrame(exact6).sort_values(by=[0], ascending=False)\n",
        "\n",
        "### Best simple regret minimization IQR - approx:\n",
        "lower_approx6 = np.asarray(approx6_results[4:5][0])[0]\n",
        "median_approx6 = np.asarray(approx6_results[9:10][0])[0]\n",
        "upper_approx6 = np.asarray(approx6_results[14:15][0])[0]\n",
        "\n",
        "lower_exact6 = np.asarray(exact6_results[4:5][0])[0]\n",
        "median_exact6 = np.asarray(exact6_results[9:10][0])[0]\n",
        "upper_exact6 = np.asarray(exact6_results[14:15][0])[0]"
      ]
    },
    {
      "cell_type": "code",
      "execution_count": 87,
      "metadata": {
        "id": "nwC5N1FsQxf7"
      },
      "outputs": [],
      "source": [
        "# Iteration16 :\n",
        "\n",
        "slice16 = 15\n",
        "\n",
        "approx16 = [simple_regret_approx_1[slice16],\n",
        "       simple_regret_approx_2[slice16],\n",
        "       simple_regret_approx_3[slice16],\n",
        "       simple_regret_approx_4[slice16],\n",
        "       simple_regret_approx_5[slice16],\n",
        "       simple_regret_approx_6[slice16],\n",
        "       simple_regret_approx_7[slice16],\n",
        "       simple_regret_approx_8[slice16],\n",
        "       simple_regret_approx_9[slice16],\n",
        "       simple_regret_approx_10[slice16],\n",
        "       simple_regret_approx_11[slice16],\n",
        "       simple_regret_approx_12[slice16],\n",
        "       simple_regret_approx_13[slice16],\n",
        "       simple_regret_approx_14[slice16],\n",
        "       simple_regret_approx_15[slice16],\n",
        "       simple_regret_approx_16[slice16],\n",
        "       simple_regret_approx_17[slice16],\n",
        "       simple_regret_approx_18[slice16],\n",
        "       simple_regret_approx_19[slice16],\n",
        "       simple_regret_approx_20[slice16]]\n",
        "\n",
        "exact16 = [simple_regret_exact_1[slice16],\n",
        "       simple_regret_exact_2[slice16],\n",
        "       simple_regret_exact_3[slice16],\n",
        "       simple_regret_exact_4[slice16],\n",
        "       simple_regret_exact_5[slice16],\n",
        "       simple_regret_exact_6[slice16],\n",
        "       simple_regret_exact_7[slice16],\n",
        "       simple_regret_exact_8[slice16],\n",
        "       simple_regret_exact_9[slice16],\n",
        "       simple_regret_exact_10[slice16],\n",
        "       simple_regret_exact_11[slice16],\n",
        "       simple_regret_exact_12[slice16],\n",
        "       simple_regret_exact_13[slice16],\n",
        "       simple_regret_exact_14[slice16],\n",
        "       simple_regret_exact_15[slice16],\n",
        "       simple_regret_exact_16[slice16],\n",
        "       simple_regret_exact_17[slice16],\n",
        "       simple_regret_exact_18[slice16],\n",
        "       simple_regret_exact_19[slice16],\n",
        "       simple_regret_exact_20[slice16]]\n",
        "\n",
        "approx16_results = pd.DataFrame(approx16).sort_values(by=[0], ascending=False)\n",
        "exact16_results = pd.DataFrame(exact16).sort_values(by=[0], ascending=False)\n",
        "\n",
        "### Best simple regret minimization IQR - approx:\n",
        "lower_approx16 = np.asarray(approx16_results[4:5][0])[0]\n",
        "median_approx16 = np.asarray(approx16_results[9:10][0])[0]\n",
        "upper_approx16 = np.asarray(approx16_results[14:15][0])[0]\n",
        "\n",
        "lower_exact16 = np.asarray(exact16_results[4:5][0])[0]\n",
        "median_exact16 = np.asarray(exact16_results[9:10][0])[0]\n",
        "upper_exact16 = np.asarray(exact16_results[14:15][0])[0]"
      ]
    },
    {
      "cell_type": "code",
      "execution_count": 88,
      "metadata": {
        "id": "TrPV0AfnQxf7"
      },
      "outputs": [],
      "source": [
        "# Iteration7 :\n",
        "\n",
        "slice7 = 6\n",
        "\n",
        "approx7 = [simple_regret_approx_1[slice7],\n",
        "       simple_regret_approx_2[slice7],\n",
        "       simple_regret_approx_3[slice7],\n",
        "       simple_regret_approx_4[slice7],\n",
        "       simple_regret_approx_5[slice7],\n",
        "       simple_regret_approx_6[slice7],\n",
        "       simple_regret_approx_7[slice7],\n",
        "       simple_regret_approx_8[slice7],\n",
        "       simple_regret_approx_9[slice7],\n",
        "       simple_regret_approx_10[slice7],\n",
        "       simple_regret_approx_11[slice7],\n",
        "       simple_regret_approx_12[slice7],\n",
        "       simple_regret_approx_13[slice7],\n",
        "       simple_regret_approx_14[slice7],\n",
        "       simple_regret_approx_15[slice7],\n",
        "       simple_regret_approx_16[slice7],\n",
        "       simple_regret_approx_17[slice7],\n",
        "       simple_regret_approx_18[slice7],\n",
        "       simple_regret_approx_19[slice7],\n",
        "       simple_regret_approx_20[slice7]]\n",
        "\n",
        "exact7 = [simple_regret_exact_1[slice7],\n",
        "       simple_regret_exact_2[slice7],\n",
        "       simple_regret_exact_3[slice7],\n",
        "       simple_regret_exact_4[slice7],\n",
        "       simple_regret_exact_5[slice7],\n",
        "       simple_regret_exact_6[slice7],\n",
        "       simple_regret_exact_7[slice7],\n",
        "       simple_regret_exact_8[slice7],\n",
        "       simple_regret_exact_9[slice7],\n",
        "       simple_regret_exact_10[slice7],\n",
        "       simple_regret_exact_11[slice7],\n",
        "       simple_regret_exact_12[slice7],\n",
        "       simple_regret_exact_13[slice7],\n",
        "       simple_regret_exact_14[slice7],\n",
        "       simple_regret_exact_15[slice7],\n",
        "       simple_regret_exact_16[slice7],\n",
        "       simple_regret_exact_17[slice7],\n",
        "       simple_regret_exact_18[slice7],\n",
        "       simple_regret_exact_19[slice7],\n",
        "       simple_regret_exact_20[slice7]]\n",
        "\n",
        "approx7_results = pd.DataFrame(approx7).sort_values(by=[0], ascending=False)\n",
        "exact7_results = pd.DataFrame(exact7).sort_values(by=[0], ascending=False)\n",
        "\n",
        "### Best simple regret minimization IQR - approx:\n",
        "lower_approx7 = np.asarray(approx7_results[4:5][0])[0]\n",
        "median_approx7 = np.asarray(approx7_results[9:10][0])[0]\n",
        "upper_approx7 = np.asarray(approx7_results[14:15][0])[0]\n",
        "\n",
        "lower_exact7 = np.asarray(exact7_results[4:5][0])[0]\n",
        "median_exact7 = np.asarray(exact7_results[9:10][0])[0]\n",
        "upper_exact7 = np.asarray(exact7_results[14:15][0])[0]"
      ]
    },
    {
      "cell_type": "code",
      "execution_count": 89,
      "metadata": {
        "id": "Ub_-wpK4Qxf8"
      },
      "outputs": [],
      "source": [
        "# Iteration17 :\n",
        "\n",
        "slice17 = 16\n",
        "\n",
        "approx17 = [simple_regret_approx_1[slice17],\n",
        "       simple_regret_approx_2[slice17],\n",
        "       simple_regret_approx_3[slice17],\n",
        "       simple_regret_approx_4[slice17],\n",
        "       simple_regret_approx_5[slice17],\n",
        "       simple_regret_approx_6[slice17],\n",
        "       simple_regret_approx_7[slice17],\n",
        "       simple_regret_approx_8[slice17],\n",
        "       simple_regret_approx_9[slice17],\n",
        "       simple_regret_approx_10[slice17],\n",
        "       simple_regret_approx_11[slice17],\n",
        "       simple_regret_approx_12[slice17],\n",
        "       simple_regret_approx_13[slice17],\n",
        "       simple_regret_approx_14[slice17],\n",
        "       simple_regret_approx_15[slice17],\n",
        "       simple_regret_approx_16[slice17],\n",
        "       simple_regret_approx_17[slice17],\n",
        "       simple_regret_approx_18[slice17],\n",
        "       simple_regret_approx_19[slice17],\n",
        "       simple_regret_approx_20[slice17]]\n",
        "\n",
        "exact17 = [simple_regret_exact_1[slice17],\n",
        "       simple_regret_exact_2[slice17],\n",
        "       simple_regret_exact_3[slice17],\n",
        "       simple_regret_exact_4[slice17],\n",
        "       simple_regret_exact_5[slice17],\n",
        "       simple_regret_exact_6[slice17],\n",
        "       simple_regret_exact_7[slice17],\n",
        "       simple_regret_exact_8[slice17],\n",
        "       simple_regret_exact_9[slice17],\n",
        "       simple_regret_exact_10[slice17],\n",
        "       simple_regret_exact_11[slice17],\n",
        "       simple_regret_exact_12[slice17],\n",
        "       simple_regret_exact_13[slice17],\n",
        "       simple_regret_exact_14[slice17],\n",
        "       simple_regret_exact_15[slice17],\n",
        "       simple_regret_exact_16[slice17],\n",
        "       simple_regret_exact_17[slice17],\n",
        "       simple_regret_exact_18[slice17],\n",
        "       simple_regret_exact_19[slice17],\n",
        "       simple_regret_exact_20[slice17]]\n",
        "\n",
        "approx17_results = pd.DataFrame(approx17).sort_values(by=[0], ascending=False)\n",
        "exact17_results = pd.DataFrame(exact17).sort_values(by=[0], ascending=False)\n",
        "\n",
        "### Best simple regret minimization IQR - approx:\n",
        "lower_approx17 = np.asarray(approx17_results[4:5][0])[0]\n",
        "median_approx17 = np.asarray(approx17_results[9:10][0])[0]\n",
        "upper_approx17 = np.asarray(approx17_results[14:15][0])[0]\n",
        "\n",
        "lower_exact17 = np.asarray(exact17_results[4:5][0])[0]\n",
        "median_exact17 = np.asarray(exact17_results[9:10][0])[0]\n",
        "upper_exact17 = np.asarray(exact17_results[14:15][0])[0]"
      ]
    },
    {
      "cell_type": "code",
      "execution_count": 90,
      "metadata": {
        "id": "-6VLo37PQxf8"
      },
      "outputs": [],
      "source": [
        "# Iteration8 :\n",
        "\n",
        "slice8 = 7\n",
        "\n",
        "approx8 = [simple_regret_approx_1[slice8],\n",
        "       simple_regret_approx_2[slice8],\n",
        "       simple_regret_approx_3[slice8],\n",
        "       simple_regret_approx_4[slice8],\n",
        "       simple_regret_approx_5[slice8],\n",
        "       simple_regret_approx_6[slice8],\n",
        "       simple_regret_approx_7[slice8],\n",
        "       simple_regret_approx_8[slice8],\n",
        "       simple_regret_approx_9[slice8],\n",
        "       simple_regret_approx_10[slice8],\n",
        "       simple_regret_approx_11[slice8],\n",
        "       simple_regret_approx_12[slice8],\n",
        "       simple_regret_approx_13[slice8],\n",
        "       simple_regret_approx_14[slice8],\n",
        "       simple_regret_approx_15[slice8],\n",
        "       simple_regret_approx_16[slice8],\n",
        "       simple_regret_approx_17[slice8],\n",
        "       simple_regret_approx_18[slice8],\n",
        "       simple_regret_approx_19[slice8],\n",
        "       simple_regret_approx_20[slice8]]\n",
        "\n",
        "exact8 = [simple_regret_exact_1[slice8],\n",
        "       simple_regret_exact_2[slice8],\n",
        "       simple_regret_exact_3[slice8],\n",
        "       simple_regret_exact_4[slice8],\n",
        "       simple_regret_exact_5[slice8],\n",
        "       simple_regret_exact_6[slice8],\n",
        "       simple_regret_exact_7[slice8],\n",
        "       simple_regret_exact_8[slice8],\n",
        "       simple_regret_exact_9[slice8],\n",
        "       simple_regret_exact_10[slice8],\n",
        "       simple_regret_exact_11[slice8],\n",
        "       simple_regret_exact_12[slice8],\n",
        "       simple_regret_exact_13[slice8],\n",
        "       simple_regret_exact_14[slice8],\n",
        "       simple_regret_exact_15[slice8],\n",
        "       simple_regret_exact_16[slice8],\n",
        "       simple_regret_exact_17[slice8],\n",
        "       simple_regret_exact_18[slice8],\n",
        "       simple_regret_exact_19[slice8],\n",
        "       simple_regret_exact_20[slice8]]\n",
        "\n",
        "approx8_results = pd.DataFrame(approx8).sort_values(by=[0], ascending=False)\n",
        "exact8_results = pd.DataFrame(exact8).sort_values(by=[0], ascending=False)\n",
        "\n",
        "### Best simple regret minimization IQR - approx:\n",
        "lower_approx8 = np.asarray(approx8_results[4:5][0])[0]\n",
        "median_approx8 = np.asarray(approx8_results[9:10][0])[0]\n",
        "upper_approx8 = np.asarray(approx8_results[14:15][0])[0]\n",
        "\n",
        "lower_exact8 = np.asarray(exact8_results[4:5][0])[0]\n",
        "median_exact8 = np.asarray(exact8_results[9:10][0])[0]\n",
        "upper_exact8 = np.asarray(exact8_results[14:15][0])[0]"
      ]
    },
    {
      "cell_type": "code",
      "execution_count": 91,
      "metadata": {
        "id": "2Dp-9CC2Qxf9"
      },
      "outputs": [],
      "source": [
        "# Iteration18 :\n",
        "\n",
        "slice18 = 17\n",
        "\n",
        "approx18 = [simple_regret_approx_1[slice18],\n",
        "       simple_regret_approx_2[slice18],\n",
        "       simple_regret_approx_3[slice18],\n",
        "       simple_regret_approx_4[slice18],\n",
        "       simple_regret_approx_5[slice18],\n",
        "       simple_regret_approx_6[slice18],\n",
        "       simple_regret_approx_7[slice18],\n",
        "       simple_regret_approx_8[slice18],\n",
        "       simple_regret_approx_9[slice18],\n",
        "       simple_regret_approx_10[slice18],\n",
        "       simple_regret_approx_11[slice18],\n",
        "       simple_regret_approx_12[slice18],\n",
        "       simple_regret_approx_13[slice18],\n",
        "       simple_regret_approx_14[slice18],\n",
        "       simple_regret_approx_15[slice18],\n",
        "       simple_regret_approx_16[slice18],\n",
        "       simple_regret_approx_17[slice18],\n",
        "       simple_regret_approx_18[slice18],\n",
        "       simple_regret_approx_19[slice18],\n",
        "       simple_regret_approx_20[slice18]]\n",
        "\n",
        "exact18 = [simple_regret_exact_1[slice18],\n",
        "       simple_regret_exact_2[slice18],\n",
        "       simple_regret_exact_3[slice18],\n",
        "       simple_regret_exact_4[slice18],\n",
        "       simple_regret_exact_5[slice18],\n",
        "       simple_regret_exact_6[slice18],\n",
        "       simple_regret_exact_7[slice18],\n",
        "       simple_regret_exact_8[slice18],\n",
        "       simple_regret_exact_9[slice18],\n",
        "       simple_regret_exact_10[slice18],\n",
        "       simple_regret_exact_11[slice18],\n",
        "       simple_regret_exact_12[slice18],\n",
        "       simple_regret_exact_13[slice18],\n",
        "       simple_regret_exact_14[slice18],\n",
        "       simple_regret_exact_15[slice18],\n",
        "       simple_regret_exact_16[slice18],\n",
        "       simple_regret_exact_17[slice18],\n",
        "       simple_regret_exact_18[slice18],\n",
        "       simple_regret_exact_19[slice18],\n",
        "       simple_regret_exact_20[slice18]]\n",
        "\n",
        "approx18_results = pd.DataFrame(approx18).sort_values(by=[0], ascending=False)\n",
        "exact18_results = pd.DataFrame(exact18).sort_values(by=[0], ascending=False)\n",
        "\n",
        "### Best simple regret minimization IQR - approx:\n",
        "lower_approx18 = np.asarray(approx18_results[4:5][0])[0]\n",
        "median_approx18 = np.asarray(approx18_results[9:10][0])[0]\n",
        "upper_approx18 = np.asarray(approx18_results[14:15][0])[0]\n",
        "\n",
        "lower_exact18 = np.asarray(exact18_results[4:5][0])[0]\n",
        "median_exact18 = np.asarray(exact18_results[9:10][0])[0]\n",
        "upper_exact18 = np.asarray(exact18_results[14:15][0])[0]"
      ]
    },
    {
      "cell_type": "code",
      "execution_count": 92,
      "metadata": {
        "id": "SqiaOpB7Qxf9"
      },
      "outputs": [],
      "source": [
        "# Iteration9 :\n",
        "\n",
        "slice9 = 8\n",
        "\n",
        "approx9 = [simple_regret_approx_1[slice9],\n",
        "       simple_regret_approx_2[slice9],\n",
        "       simple_regret_approx_3[slice9],\n",
        "       simple_regret_approx_4[slice9],\n",
        "       simple_regret_approx_5[slice9],\n",
        "       simple_regret_approx_6[slice9],\n",
        "       simple_regret_approx_7[slice9],\n",
        "       simple_regret_approx_8[slice9],\n",
        "       simple_regret_approx_9[slice9],\n",
        "       simple_regret_approx_10[slice9],\n",
        "       simple_regret_approx_11[slice9],\n",
        "       simple_regret_approx_12[slice9],\n",
        "       simple_regret_approx_13[slice9],\n",
        "       simple_regret_approx_14[slice9],\n",
        "       simple_regret_approx_15[slice9],\n",
        "       simple_regret_approx_16[slice9],\n",
        "       simple_regret_approx_17[slice9],\n",
        "       simple_regret_approx_18[slice9],\n",
        "       simple_regret_approx_19[slice9],\n",
        "       simple_regret_approx_20[slice9]]\n",
        "\n",
        "exact9 = [simple_regret_exact_1[slice9],\n",
        "       simple_regret_exact_2[slice9],\n",
        "       simple_regret_exact_3[slice9],\n",
        "       simple_regret_exact_4[slice9],\n",
        "       simple_regret_exact_5[slice9],\n",
        "       simple_regret_exact_6[slice9],\n",
        "       simple_regret_exact_7[slice9],\n",
        "       simple_regret_exact_8[slice9],\n",
        "       simple_regret_exact_9[slice9],\n",
        "       simple_regret_exact_10[slice9],\n",
        "       simple_regret_exact_11[slice9],\n",
        "       simple_regret_exact_12[slice9],\n",
        "       simple_regret_exact_13[slice9],\n",
        "       simple_regret_exact_14[slice9],\n",
        "       simple_regret_exact_15[slice9],\n",
        "       simple_regret_exact_16[slice9],\n",
        "       simple_regret_exact_17[slice9],\n",
        "       simple_regret_exact_18[slice9],\n",
        "       simple_regret_exact_19[slice9],\n",
        "       simple_regret_exact_20[slice9]]\n",
        "\n",
        "approx9_results = pd.DataFrame(approx9).sort_values(by=[0], ascending=False)\n",
        "exact9_results = pd.DataFrame(exact9).sort_values(by=[0], ascending=False)\n",
        "\n",
        "### Best simple regret minimization IQR - approx:\n",
        "lower_approx9 = np.asarray(approx9_results[4:5][0])[0]\n",
        "median_approx9 = np.asarray(approx9_results[9:10][0])[0]\n",
        "upper_approx9 = np.asarray(approx9_results[14:15][0])[0]\n",
        "\n",
        "lower_exact9 = np.asarray(exact9_results[4:5][0])[0]\n",
        "median_exact9 = np.asarray(exact9_results[9:10][0])[0]\n",
        "upper_exact9 = np.asarray(exact9_results[14:15][0])[0]"
      ]
    },
    {
      "cell_type": "code",
      "execution_count": 93,
      "metadata": {
        "id": "OQkCCOsPQxf9"
      },
      "outputs": [],
      "source": [
        "# Iteration19 :\n",
        "\n",
        "slice19 = 18\n",
        "\n",
        "approx19 = [simple_regret_approx_1[slice19],\n",
        "       simple_regret_approx_2[slice19],\n",
        "       simple_regret_approx_3[slice19],\n",
        "       simple_regret_approx_4[slice19],\n",
        "       simple_regret_approx_5[slice19],\n",
        "       simple_regret_approx_6[slice19],\n",
        "       simple_regret_approx_7[slice19],\n",
        "       simple_regret_approx_8[slice19],\n",
        "       simple_regret_approx_9[slice19],\n",
        "       simple_regret_approx_10[slice19],\n",
        "       simple_regret_approx_11[slice19],\n",
        "       simple_regret_approx_12[slice19],\n",
        "       simple_regret_approx_13[slice19],\n",
        "       simple_regret_approx_14[slice19],\n",
        "       simple_regret_approx_15[slice19],\n",
        "       simple_regret_approx_16[slice19],\n",
        "       simple_regret_approx_17[slice19],\n",
        "       simple_regret_approx_18[slice19],\n",
        "       simple_regret_approx_19[slice19],\n",
        "       simple_regret_approx_20[slice19]]\n",
        "\n",
        "exact19 = [simple_regret_exact_1[slice19],\n",
        "       simple_regret_exact_2[slice19],\n",
        "       simple_regret_exact_3[slice19],\n",
        "       simple_regret_exact_4[slice19],\n",
        "       simple_regret_exact_5[slice19],\n",
        "       simple_regret_exact_6[slice19],\n",
        "       simple_regret_exact_7[slice19],\n",
        "       simple_regret_exact_8[slice19],\n",
        "       simple_regret_exact_9[slice19],\n",
        "       simple_regret_exact_10[slice19],\n",
        "       simple_regret_exact_11[slice19],\n",
        "       simple_regret_exact_12[slice19],\n",
        "       simple_regret_exact_13[slice19],\n",
        "       simple_regret_exact_14[slice19],\n",
        "       simple_regret_exact_15[slice19],\n",
        "       simple_regret_exact_16[slice19],\n",
        "       simple_regret_exact_17[slice19],\n",
        "       simple_regret_exact_18[slice19],\n",
        "       simple_regret_exact_19[slice19],\n",
        "       simple_regret_exact_20[slice19]]\n",
        "\n",
        "approx19_results = pd.DataFrame(approx19).sort_values(by=[0], ascending=False)\n",
        "exact19_results = pd.DataFrame(exact19).sort_values(by=[0], ascending=False)\n",
        "\n",
        "### Best simple regret minimization IQR - approx:\n",
        "lower_approx19 = np.asarray(approx19_results[4:5][0])[0]\n",
        "median_approx19 = np.asarray(approx19_results[9:10][0])[0]\n",
        "upper_approx19 = np.asarray(approx19_results[14:15][0])[0]\n",
        "\n",
        "lower_exact19 = np.asarray(exact19_results[4:5][0])[0]\n",
        "median_exact19 = np.asarray(exact19_results[9:10][0])[0]\n",
        "upper_exact19 = np.asarray(exact19_results[14:15][0])[0]"
      ]
    },
    {
      "cell_type": "code",
      "execution_count": 94,
      "metadata": {
        "id": "h4vtWahcQxf-"
      },
      "outputs": [],
      "source": [
        "# Iteration10 :\n",
        "\n",
        "slice10 = 9\n",
        "\n",
        "approx10 = [simple_regret_approx_1[slice10],\n",
        "       simple_regret_approx_2[slice10],\n",
        "       simple_regret_approx_3[slice10],\n",
        "       simple_regret_approx_4[slice10],\n",
        "       simple_regret_approx_5[slice10],\n",
        "       simple_regret_approx_6[slice10],\n",
        "       simple_regret_approx_7[slice10],\n",
        "       simple_regret_approx_8[slice10],\n",
        "       simple_regret_approx_9[slice10],\n",
        "       simple_regret_approx_10[slice10],\n",
        "       simple_regret_approx_11[slice10],\n",
        "       simple_regret_approx_12[slice10],\n",
        "       simple_regret_approx_13[slice10],\n",
        "       simple_regret_approx_14[slice10],\n",
        "       simple_regret_approx_15[slice10],\n",
        "       simple_regret_approx_16[slice10],\n",
        "       simple_regret_approx_17[slice10],\n",
        "       simple_regret_approx_18[slice10],\n",
        "       simple_regret_approx_19[slice10],\n",
        "       simple_regret_approx_20[slice10]]\n",
        "\n",
        "exact10 = [simple_regret_exact_1[slice10],\n",
        "       simple_regret_exact_2[slice10],\n",
        "       simple_regret_exact_3[slice10],\n",
        "       simple_regret_exact_4[slice10],\n",
        "       simple_regret_exact_5[slice10],\n",
        "       simple_regret_exact_6[slice10],\n",
        "       simple_regret_exact_7[slice10],\n",
        "       simple_regret_exact_8[slice10],\n",
        "       simple_regret_exact_9[slice10],\n",
        "       simple_regret_exact_10[slice10],\n",
        "       simple_regret_exact_11[slice10],\n",
        "       simple_regret_exact_12[slice10],\n",
        "       simple_regret_exact_13[slice10],\n",
        "       simple_regret_exact_14[slice10],\n",
        "       simple_regret_exact_15[slice10],\n",
        "       simple_regret_exact_16[slice10],\n",
        "       simple_regret_exact_17[slice10],\n",
        "       simple_regret_exact_18[slice10],\n",
        "       simple_regret_exact_19[slice10],\n",
        "       simple_regret_exact_20[slice10]]\n",
        "\n",
        "approx10_results = pd.DataFrame(approx10).sort_values(by=[0], ascending=False)\n",
        "exact10_results = pd.DataFrame(exact10).sort_values(by=[0], ascending=False)\n",
        "\n",
        "### Best simple regret minimization IQR - approx:\n",
        "lower_approx10 = np.asarray(approx10_results[4:5][0])[0]\n",
        "median_approx10 = np.asarray(approx10_results[9:10][0])[0]\n",
        "upper_approx10 = np.asarray(approx10_results[14:15][0])[0]\n",
        "\n",
        "lower_exact10 = np.asarray(exact10_results[4:5][0])[0]\n",
        "median_exact10 = np.asarray(exact10_results[9:10][0])[0]\n",
        "upper_exact10 = np.asarray(exact10_results[14:15][0])[0]"
      ]
    },
    {
      "cell_type": "code",
      "execution_count": 95,
      "metadata": {
        "id": "Rsf240pWQxf-"
      },
      "outputs": [],
      "source": [
        "# Iteration20 :\n",
        "\n",
        "slice20 = 19\n",
        "\n",
        "approx20 = [simple_regret_approx_1[slice20],\n",
        "       simple_regret_approx_2[slice20],\n",
        "       simple_regret_approx_3[slice20],\n",
        "       simple_regret_approx_4[slice20],\n",
        "       simple_regret_approx_5[slice20],\n",
        "       simple_regret_approx_6[slice20],\n",
        "       simple_regret_approx_7[slice20],\n",
        "       simple_regret_approx_8[slice20],\n",
        "       simple_regret_approx_9[slice20],\n",
        "       simple_regret_approx_10[slice20],\n",
        "       simple_regret_approx_11[slice20],\n",
        "       simple_regret_approx_12[slice20],\n",
        "       simple_regret_approx_13[slice20],\n",
        "       simple_regret_approx_14[slice20],\n",
        "       simple_regret_approx_15[slice20],\n",
        "       simple_regret_approx_16[slice20],\n",
        "       simple_regret_approx_17[slice20],\n",
        "       simple_regret_approx_18[slice20],\n",
        "       simple_regret_approx_19[slice20],\n",
        "       simple_regret_approx_20[slice20]]\n",
        "\n",
        "exact20 = [simple_regret_exact_1[slice20],\n",
        "       simple_regret_exact_2[slice20],\n",
        "       simple_regret_exact_3[slice20],\n",
        "       simple_regret_exact_4[slice20],\n",
        "       simple_regret_exact_5[slice20],\n",
        "       simple_regret_exact_6[slice20],\n",
        "       simple_regret_exact_7[slice20],\n",
        "       simple_regret_exact_8[slice20],\n",
        "       simple_regret_exact_9[slice20],\n",
        "       simple_regret_exact_10[slice20],\n",
        "       simple_regret_exact_11[slice20],\n",
        "       simple_regret_exact_12[slice20],\n",
        "       simple_regret_exact_13[slice20],\n",
        "       simple_regret_exact_14[slice20],\n",
        "       simple_regret_exact_15[slice20],\n",
        "       simple_regret_exact_16[slice20],\n",
        "       simple_regret_exact_17[slice20],\n",
        "       simple_regret_exact_18[slice20],\n",
        "       simple_regret_exact_19[slice20],\n",
        "       simple_regret_exact_20[slice20]]\n",
        "\n",
        "approx20_results = pd.DataFrame(approx20).sort_values(by=[0], ascending=False)\n",
        "exact20_results = pd.DataFrame(exact20).sort_values(by=[0], ascending=False)\n",
        "\n",
        "### Best simple regret minimization IQR - approx:\n",
        "lower_approx20 = np.asarray(approx20_results[4:5][0])[0]\n",
        "median_approx20 = np.asarray(approx20_results[9:10][0])[0]\n",
        "upper_approx20 = np.asarray(approx20_results[14:15][0])[0]\n",
        "\n",
        "lower_exact20 = np.asarray(exact20_results[4:5][0])[0]\n",
        "median_exact20 = np.asarray(exact20_results[9:10][0])[0]\n",
        "upper_exact20 = np.asarray(exact20_results[14:15][0])[0]"
      ]
    },
    {
      "cell_type": "code",
      "execution_count": 96,
      "metadata": {
        "id": "gn36RejbQxf_"
      },
      "outputs": [],
      "source": [
        "### Summarize arrays: 'Loser'\n",
        "\n",
        "lower_approx = [lower_approx1,\n",
        "            lower_approx2,\n",
        "            lower_approx3,\n",
        "            lower_approx4,\n",
        "            lower_approx5,\n",
        "            lower_approx6,\n",
        "            lower_approx7,\n",
        "            lower_approx8,\n",
        "            lower_approx9,\n",
        "            lower_approx10,\n",
        "            lower_approx11,\n",
        "            lower_approx12,\n",
        "            lower_approx13,\n",
        "            lower_approx14,\n",
        "            lower_approx15,\n",
        "            lower_approx16,\n",
        "            lower_approx17,\n",
        "            lower_approx18,\n",
        "            lower_approx19,\n",
        "            lower_approx20,\n",
        "            lower_approx21]\n",
        "\n",
        "median_approx = [median_approx1,\n",
        "            median_approx2,\n",
        "            median_approx3,\n",
        "            median_approx4,\n",
        "            median_approx5,\n",
        "            median_approx6,\n",
        "            median_approx7,\n",
        "            median_approx8,\n",
        "            median_approx9,\n",
        "            median_approx10,\n",
        "            median_approx11,\n",
        "            median_approx12,\n",
        "            median_approx13,\n",
        "            median_approx14,\n",
        "            median_approx15,\n",
        "            median_approx16,\n",
        "            median_approx17,\n",
        "            median_approx18,\n",
        "            median_approx19,\n",
        "            median_approx20,\n",
        "            median_approx21]\n",
        "\n",
        "upper_approx = [upper_approx1,\n",
        "            upper_approx2,\n",
        "            upper_approx3,\n",
        "            upper_approx4,\n",
        "            upper_approx5,\n",
        "            upper_approx6,\n",
        "            upper_approx7,\n",
        "            upper_approx8,\n",
        "            upper_approx9,\n",
        "            upper_approx10,\n",
        "            upper_approx11,\n",
        "            upper_approx12,\n",
        "            upper_approx13,\n",
        "            upper_approx14,\n",
        "            upper_approx15,\n",
        "            upper_approx16,\n",
        "            upper_approx17,\n",
        "            upper_approx18,\n",
        "            upper_approx19,\n",
        "            upper_approx20,\n",
        "            upper_approx21]"
      ]
    },
    {
      "cell_type": "code",
      "execution_count": 97,
      "metadata": {
        "id": "wxtGTOYfQxf_"
      },
      "outputs": [],
      "source": [
        "### Summarize arrays: 'exact'\n",
        "\n",
        "lower_exact = [lower_exact1,\n",
        "            lower_exact2,\n",
        "            lower_exact3,\n",
        "            lower_exact4,\n",
        "            lower_exact5,\n",
        "            lower_exact6,\n",
        "            lower_exact7,\n",
        "            lower_exact8,\n",
        "            lower_exact9,\n",
        "            lower_exact10,\n",
        "            lower_exact11,\n",
        "            lower_exact12,\n",
        "            lower_exact13,\n",
        "            lower_exact14,\n",
        "            lower_exact15,\n",
        "            lower_exact16,\n",
        "            lower_exact17,\n",
        "            lower_exact18,\n",
        "            lower_exact19,\n",
        "            lower_exact20,\n",
        "            lower_exact21]\n",
        "\n",
        "median_exact = [median_exact1,\n",
        "            median_exact2,\n",
        "            median_exact3,\n",
        "            median_exact4,\n",
        "            median_exact5,\n",
        "            median_exact6,\n",
        "            median_exact7,\n",
        "            median_exact8,\n",
        "            median_exact9,\n",
        "            median_exact10,\n",
        "            median_exact11,\n",
        "            median_exact12,\n",
        "            median_exact13,\n",
        "            median_exact14,\n",
        "            median_exact15,\n",
        "            median_exact16,\n",
        "            median_exact17,\n",
        "            median_exact18,\n",
        "            median_exact19,\n",
        "            median_exact20,\n",
        "            median_exact21]\n",
        "\n",
        "upper_exact = [upper_exact1,\n",
        "            upper_exact2,\n",
        "            upper_exact3,\n",
        "            upper_exact4,\n",
        "            upper_exact5,\n",
        "            upper_exact6,\n",
        "            upper_exact7,\n",
        "            upper_exact8,\n",
        "            upper_exact9,\n",
        "            upper_exact10,\n",
        "            upper_exact11,\n",
        "            upper_exact12,\n",
        "            upper_exact13,\n",
        "            upper_exact14,\n",
        "            upper_exact15,\n",
        "            upper_exact16,\n",
        "            upper_exact17,\n",
        "            upper_exact18,\n",
        "            upper_exact19,\n",
        "            upper_exact20,\n",
        "            upper_exact21]"
      ]
    },
    {
      "cell_type": "code",
      "execution_count": 98,
      "metadata": {
        "id": "2MONq-BXQxgA",
        "colab": {
          "base_uri": "https://localhost:8080/",
          "height": 299
        },
        "outputId": "da566432-9b32-408a-c39f-fe0db7178e6d"
      },
      "outputs": [
        {
          "output_type": "display_data",
          "data": {
            "text/plain": [
              "<Figure size 432x288 with 1 Axes>"
            ],
            "image/png": "[encoded data removed]"
          },
          "metadata": {
            "needs_background": "light"
          }
        }
      ],
      "source": [
        "### Visualise!\n",
        "\n",
        "title = func\n",
        "plt.figure()\n",
        "\n",
        "plt.plot(median_approx, color = 'Purple', ls='--')\n",
        "plt.plot(median_exact, color = 'Orange', ls='--')\n",
        "\n",
        "xstar = np.arange(0, iters+1, step=1)\n",
        "plt.fill_between(xstar, lower_approx, upper_approx, facecolor = 'Purple', alpha=0.4, label='STP CBM Optimisation: Approx STP CBM gradients ' r'($\\nu$' ' = {})'.format(df))\n",
        "plt.fill_between(xstar, lower_exact, upper_exact, facecolor = 'Orange', alpha=0.4, label='STP CBM Optimisation: Exact STP dCBM gradients ' r'($\\nu$' ' = {})'.format(df))\n",
        "\n",
        "plt.title(title, weight = 'bold')\n",
        "plt.xlabel('(Post-initialisation) iteration $\\it{k}$', weight = 'bold')\n",
        "plt.ylabel('log(Regret)', weight = 'bold') \n",
        "plt.legend(loc=0) # add plot legend\n",
        "\n",
        "### Make the x-ticks integers, not floats:\n",
        "count = len(xstar)\n",
        "plt.xticks(np.arange(count), np.arange(0, count))\n",
        "plt.show() #visualize!"
      ]
    },
    {
      "cell_type": "code",
      "execution_count": 99,
      "metadata": {
        "id": "l5dkR2Id2oiu",
        "colab": {
          "base_uri": "https://localhost:8080/"
        },
        "outputId": "f698924f-9b29-4afa-c77b-bb0aadd76ab3"
      },
      "outputs": [
        {
          "output_type": "execute_result",
          "data": {
            "text/plain": [
              "(649.8513162136078, 635.8320150375366)"
            ]
          },
          "metadata": {},
          "execution_count": 99
        }
      ],
      "source": [
        "time_approx, time_exact\n"
      ]
    },
    {
      "cell_type": "code",
      "execution_count": 100,
      "metadata": {
        "id": "uwxv4dmfGsLr",
        "colab": {
          "base_uri": "https://localhost:8080/"
        },
        "outputId": "73c0ec80-e0b5-4612-b73f-39538c9c3ec9"
      },
      "outputs": [
        {
          "output_type": "execute_result",
          "data": {
            "text/plain": [
              "(0.23323303455755787, 0.3899719063533603)"
            ]
          },
          "metadata": {},
          "execution_count": 100
        }
      ],
      "source": [
        "### acqFunc attribute x, stddev: run number = 1\n",
        "\n",
        "acqFuncApprox_exact_1 = acqFuncApprox(exact_1.history)\n",
        "acqFuncExact_exact_1 = acqFuncExact(exact_1.history)\n",
        "\n",
        "e1 = np.std(acqFuncExact_exact_1)\n",
        "a1 = np.std(acqFuncApprox_exact_1)\n",
        "\n",
        "e1, a1\n"
      ]
    },
    {
      "cell_type": "code",
      "execution_count": 101,
      "metadata": {
        "id": "0YSV00_pGsXe",
        "colab": {
          "base_uri": "https://localhost:8080/"
        },
        "outputId": "9a9cefc4-266e-4550-a58c-cded3d7505d6"
      },
      "outputs": [
        {
          "output_type": "execute_result",
          "data": {
            "text/plain": [
              "(0.4345272049866981, 0.5396072941827266)"
            ]
          },
          "metadata": {},
          "execution_count": 101
        }
      ],
      "source": [
        "### acqFunc attribute x, stddev: run number = 2\n",
        "\n",
        "acqFuncApprox_exact_2 = acqFuncApprox(exact_2.history)\n",
        "acqFuncExact_exact_2 = acqFuncExact(exact_2.history)\n",
        "\n",
        "e2 = np.std(acqFuncExact_exact_2)\n",
        "a2 = np.std(acqFuncApprox_exact_2)\n",
        "\n",
        "e2, a2\n"
      ]
    },
    {
      "cell_type": "code",
      "execution_count": 102,
      "metadata": {
        "id": "HHVmsd2UGsjT",
        "colab": {
          "base_uri": "https://localhost:8080/"
        },
        "outputId": "5fa79ead-5ced-4c10-c46b-c4d7226ee4b7"
      },
      "outputs": [
        {
          "output_type": "execute_result",
          "data": {
            "text/plain": [
              "(0.2760564843583356, 0.4227959369046197)"
            ]
          },
          "metadata": {},
          "execution_count": 102
        }
      ],
      "source": [
        "### acqFunc attribute x, stddev: run number = 3\n",
        "\n",
        "acqFuncApprox_exact_3 = acqFuncApprox(exact_3.history)\n",
        "acqFuncExact_exact_3 = acqFuncExact(exact_3.history)\n",
        "\n",
        "e3 = np.std(acqFuncExact_exact_3)\n",
        "a3 = np.std(acqFuncApprox_exact_3)\n",
        "\n",
        "e3, a3\n"
      ]
    },
    {
      "cell_type": "code",
      "execution_count": 103,
      "metadata": {
        "id": "r7O19S2eGsu7",
        "colab": {
          "base_uri": "https://localhost:8080/"
        },
        "outputId": "bff4f011-0507-45df-bc2e-4f256926b028"
      },
      "outputs": [
        {
          "output_type": "execute_result",
          "data": {
            "text/plain": [
              "(0.4247215160393245, 0.6378924028325123)"
            ]
          },
          "metadata": {},
          "execution_count": 103
        }
      ],
      "source": [
        "### acqFunc attribute x, stddev: run number = 4\n",
        "\n",
        "acqFuncApprox_exact_4 = acqFuncApprox(exact_4.history)\n",
        "acqFuncExact_exact_4 = acqFuncExact(exact_4.history)\n",
        "\n",
        "e4 = np.std(acqFuncExact_exact_4)\n",
        "a4 = np.std(acqFuncApprox_exact_4)\n",
        "\n",
        "e4, a4\n"
      ]
    },
    {
      "cell_type": "code",
      "execution_count": 104,
      "metadata": {
        "id": "sdb9o6NuGs5m",
        "colab": {
          "base_uri": "https://localhost:8080/"
        },
        "outputId": "4fed75ed-e093-4856-8446-5b8586970b2a"
      },
      "outputs": [
        {
          "output_type": "execute_result",
          "data": {
            "text/plain": [
              "(0.47530318730588217, 0.3566174462830994)"
            ]
          },
          "metadata": {},
          "execution_count": 104
        }
      ],
      "source": [
        "### acqFunc attribute x, stddev: run number = 5\n",
        "\n",
        "acqFuncApprox_exact_5 = acqFuncApprox(exact_5.history)\n",
        "acqFuncExact_exact_5 = acqFuncExact(exact_5.history)\n",
        "\n",
        "e5 = np.std(acqFuncExact_exact_5)\n",
        "a5 = np.std(acqFuncApprox_exact_5)\n",
        "\n",
        "e5, a5\n"
      ]
    },
    {
      "cell_type": "code",
      "execution_count": 105,
      "metadata": {
        "id": "COQl7LZ8GtE0",
        "colab": {
          "base_uri": "https://localhost:8080/"
        },
        "outputId": "a7be9189-68aa-4105-84f1-7315c294c23f"
      },
      "outputs": [
        {
          "output_type": "execute_result",
          "data": {
            "text/plain": [
              "(0.6563046064034161, 0.4937696452220221)"
            ]
          },
          "metadata": {},
          "execution_count": 105
        }
      ],
      "source": [
        "### acqFunc attribute x, stddev: run number = 6\n",
        "\n",
        "acqFuncApprox_exact_6 = acqFuncApprox(exact_6.history)\n",
        "acqFuncExact_exact_6 = acqFuncExact(exact_6.history)\n",
        "\n",
        "e6 = np.std(acqFuncExact_exact_6)\n",
        "a6 = np.std(acqFuncApprox_exact_6)\n",
        "\n",
        "e6, a6\n"
      ]
    },
    {
      "cell_type": "code",
      "execution_count": 106,
      "metadata": {
        "id": "2gy9EtTzGtP7",
        "colab": {
          "base_uri": "https://localhost:8080/"
        },
        "outputId": "e085458b-8c1b-479d-c1e9-08fc9d42d71f"
      },
      "outputs": [
        {
          "output_type": "execute_result",
          "data": {
            "text/plain": [
              "(0.47513717601966327, 0.5658771594367659)"
            ]
          },
          "metadata": {},
          "execution_count": 106
        }
      ],
      "source": [
        "### acqFunc attribute x, stddev: run number = 7\n",
        "\n",
        "acqFuncApprox_exact_7 = acqFuncApprox(exact_7.history)\n",
        "acqFuncExact_exact_7 = acqFuncExact(exact_7.history)\n",
        "\n",
        "e7 = np.std(acqFuncExact_exact_7)\n",
        "a7 = np.std(acqFuncApprox_exact_7)\n",
        "\n",
        "e7, a7\n"
      ]
    },
    {
      "cell_type": "code",
      "execution_count": 107,
      "metadata": {
        "id": "S7mn0qoMGtbM",
        "colab": {
          "base_uri": "https://localhost:8080/"
        },
        "outputId": "b97843cf-fa8c-432b-a986-7f83c795bc2c"
      },
      "outputs": [
        {
          "output_type": "execute_result",
          "data": {
            "text/plain": [
              "(0.26930691800086964, 0.4544496981281813)"
            ]
          },
          "metadata": {},
          "execution_count": 107
        }
      ],
      "source": [
        "### acqFunc attribute x, stddev: run number = 8\n",
        "\n",
        "acqFuncApprox_exact_8 = acqFuncApprox(exact_8.history)\n",
        "acqFuncExact_exact_8 = acqFuncExact(exact_8.history)\n",
        "\n",
        "e8 = np.std(acqFuncExact_exact_8)\n",
        "a8 = np.std(acqFuncApprox_exact_8)\n",
        "\n",
        "e8, a8\n"
      ]
    },
    {
      "cell_type": "code",
      "execution_count": 108,
      "metadata": {
        "id": "BhljmkNxGtms",
        "colab": {
          "base_uri": "https://localhost:8080/"
        },
        "outputId": "d40a8cd8-747d-4e67-c6f2-5d443736bf24"
      },
      "outputs": [
        {
          "output_type": "execute_result",
          "data": {
            "text/plain": [
              "(0.31081619055061993, 0.3300966421655056)"
            ]
          },
          "metadata": {},
          "execution_count": 108
        }
      ],
      "source": [
        "### acqFunc attribute x, stddev: run number = 9\n",
        "\n",
        "acqFuncApprox_exact_9 = acqFuncApprox(exact_9.history)\n",
        "acqFuncExact_exact_9 = acqFuncExact(exact_9.history)\n",
        "\n",
        "e9 = np.std(acqFuncExact_exact_9)\n",
        "a9 = np.std(acqFuncApprox_exact_9)\n",
        "\n",
        "e9, a9\n"
      ]
    },
    {
      "cell_type": "code",
      "execution_count": 109,
      "metadata": {
        "id": "W5GZo6k3Gtx8",
        "colab": {
          "base_uri": "https://localhost:8080/"
        },
        "outputId": "f5c0d9c5-c20c-485d-91a5-e21e822e4fae"
      },
      "outputs": [
        {
          "output_type": "execute_result",
          "data": {
            "text/plain": [
              "(0.300896136700232, 0.2657975125796136)"
            ]
          },
          "metadata": {},
          "execution_count": 109
        }
      ],
      "source": [
        "### acqFunc attribute x, stddev: run number = 10\n",
        "\n",
        "acqFuncApprox_exact_10 = acqFuncApprox(exact_10.history)\n",
        "acqFuncExact_exact_10 = acqFuncExact(exact_10.history)\n",
        "\n",
        "e10 = np.std(acqFuncExact_exact_10)\n",
        "a10 = np.std(acqFuncApprox_exact_10)\n",
        "\n",
        "e10, a10\n"
      ]
    },
    {
      "cell_type": "code",
      "execution_count": 110,
      "metadata": {
        "id": "isKNhDk5Gt9D",
        "colab": {
          "base_uri": "https://localhost:8080/"
        },
        "outputId": "c5d4ed0c-f5ca-4ea7-89cc-355535889c91"
      },
      "outputs": [
        {
          "output_type": "execute_result",
          "data": {
            "text/plain": [
              "(0.4762726543409637, 0.3046049729933761)"
            ]
          },
          "metadata": {},
          "execution_count": 110
        }
      ],
      "source": [
        "### acqFunc attribute x, stddev: run number = 11\n",
        "\n",
        "acqFuncApprox_exact_11 = acqFuncApprox(exact_11.history)\n",
        "acqFuncExact_exact_11 = acqFuncExact(exact_11.history)\n",
        "\n",
        "e11 = np.std(acqFuncExact_exact_11)\n",
        "a11 = np.std(acqFuncApprox_exact_11)\n",
        "\n",
        "e11, a11\n"
      ]
    },
    {
      "cell_type": "code",
      "execution_count": 111,
      "metadata": {
        "id": "8ts-wrSuGuIm",
        "colab": {
          "base_uri": "https://localhost:8080/"
        },
        "outputId": "6a437d85-218a-419d-eb93-f5f39043914a"
      },
      "outputs": [
        {
          "output_type": "execute_result",
          "data": {
            "text/plain": [
              "(0.40349982242809646, 0.34525154198485414)"
            ]
          },
          "metadata": {},
          "execution_count": 111
        }
      ],
      "source": [
        "### acqFunc attribute x, stddev: run number = 12\n",
        "\n",
        "acqFuncApprox_exact_12 = acqFuncApprox(exact_12.history)\n",
        "acqFuncExact_exact_12 = acqFuncExact(exact_12.history)\n",
        "\n",
        "e12 = np.std(acqFuncExact_exact_12)\n",
        "a12 = np.std(acqFuncApprox_exact_12)\n",
        "\n",
        "e12, a12\n"
      ]
    },
    {
      "cell_type": "code",
      "execution_count": 112,
      "metadata": {
        "id": "n0drhEe3GuUL",
        "colab": {
          "base_uri": "https://localhost:8080/"
        },
        "outputId": "5f7e1187-61ec-4932-aa95-73180ab22349"
      },
      "outputs": [
        {
          "output_type": "execute_result",
          "data": {
            "text/plain": [
              "(0.2917093105194072, 0.3441182922370164)"
            ]
          },
          "metadata": {},
          "execution_count": 112
        }
      ],
      "source": [
        "### acqFunc attribute x, stddev: run number = 13\n",
        "\n",
        "acqFuncApprox_exact_13 = acqFuncApprox(exact_13.history)\n",
        "acqFuncExact_exact_13 = acqFuncExact(exact_13.history)\n",
        "\n",
        "e13 = np.std(acqFuncExact_exact_13)\n",
        "a13 = np.std(acqFuncApprox_exact_13)\n",
        "\n",
        "e13, a13\n"
      ]
    },
    {
      "cell_type": "code",
      "execution_count": 113,
      "metadata": {
        "id": "R0W3MZaVGues",
        "colab": {
          "base_uri": "https://localhost:8080/"
        },
        "outputId": "fc51e36d-c8c9-45e0-b3f2-e026b72b8086"
      },
      "outputs": [
        {
          "output_type": "execute_result",
          "data": {
            "text/plain": [
              "(0.36150635831683, 0.28165137290271014)"
            ]
          },
          "metadata": {},
          "execution_count": 113
        }
      ],
      "source": [
        "### acqFunc attribute x, stddev: run number = 14\n",
        "\n",
        "acqFuncApprox_exact_14 = acqFuncApprox(exact_14.history)\n",
        "acqFuncExact_exact_14 = acqFuncExact(exact_14.history)\n",
        "\n",
        "e14 = np.std(acqFuncExact_exact_14)\n",
        "a14 = np.std(acqFuncApprox_exact_14)\n",
        "\n",
        "e14, a14\n"
      ]
    },
    {
      "cell_type": "code",
      "execution_count": 114,
      "metadata": {
        "id": "DoXdDFHoGup-",
        "colab": {
          "base_uri": "https://localhost:8080/"
        },
        "outputId": "c54af00a-f220-4b7f-aadc-d1c56dca0c2e"
      },
      "outputs": [
        {
          "output_type": "execute_result",
          "data": {
            "text/plain": [
              "(0.4805446628280722, 0.3069945872901405)"
            ]
          },
          "metadata": {},
          "execution_count": 114
        }
      ],
      "source": [
        "### acqFunc attribute x, stddev: run number = 15\n",
        "\n",
        "acqFuncApprox_exact_15 = acqFuncApprox(exact_15.history)\n",
        "acqFuncExact_exact_15 = acqFuncExact(exact_15.history)\n",
        "\n",
        "e15 = np.std(acqFuncExact_exact_15)\n",
        "a15 = np.std(acqFuncApprox_exact_15)\n",
        "\n",
        "e15, a15\n"
      ]
    },
    {
      "cell_type": "code",
      "execution_count": 115,
      "metadata": {
        "id": "K_wAeqSoGu2j",
        "colab": {
          "base_uri": "https://localhost:8080/"
        },
        "outputId": "285731d3-0966-48bf-bfc8-8d80c89ad16d"
      },
      "outputs": [
        {
          "output_type": "execute_result",
          "data": {
            "text/plain": [
              "(0.5004606029333478, 0.5062281501555447)"
            ]
          },
          "metadata": {},
          "execution_count": 115
        }
      ],
      "source": [
        "### acqFunc attribute x, stddev: run number = 16\n",
        "\n",
        "acqFuncApprox_exact_16 = acqFuncApprox(exact_16.history)\n",
        "acqFuncExact_exact_16 = acqFuncExact(exact_16.history)\n",
        "\n",
        "e16 = np.std(acqFuncExact_exact_16)\n",
        "a16 = np.std(acqFuncApprox_exact_16)\n",
        "\n",
        "e16, a16\n"
      ]
    },
    {
      "cell_type": "code",
      "execution_count": 116,
      "metadata": {
        "id": "n6zy78fjGvBT",
        "colab": {
          "base_uri": "https://localhost:8080/"
        },
        "outputId": "a6cb8c86-afca-4911-9f0a-209563b149ab"
      },
      "outputs": [
        {
          "output_type": "execute_result",
          "data": {
            "text/plain": [
              "(0.35896126509304216, 0.5041166575714329)"
            ]
          },
          "metadata": {},
          "execution_count": 116
        }
      ],
      "source": [
        "### acqFunc attribute x, stddev: run number = 17\n",
        "\n",
        "acqFuncApprox_exact_17 = acqFuncApprox(exact_17.history)\n",
        "acqFuncExact_exact_17 = acqFuncExact(exact_17.history)\n",
        "\n",
        "e17 = np.std(acqFuncExact_exact_17)\n",
        "a17 = np.std(acqFuncApprox_exact_17)\n",
        "\n",
        "e17, a17\n"
      ]
    },
    {
      "cell_type": "code",
      "execution_count": 117,
      "metadata": {
        "id": "s_6_2K4iGvM-",
        "colab": {
          "base_uri": "https://localhost:8080/"
        },
        "outputId": "292ce75b-e24f-4389-e4e2-fba5d6a3cadb"
      },
      "outputs": [
        {
          "output_type": "execute_result",
          "data": {
            "text/plain": [
              "(0.529593308157325, 0.4164094218939081)"
            ]
          },
          "metadata": {},
          "execution_count": 117
        }
      ],
      "source": [
        "### acqFunc attribute x, stddev: run number = 18\n",
        "\n",
        "acqFuncApprox_exact_18 = acqFuncApprox(exact_18.history)\n",
        "acqFuncExact_exact_18 = acqFuncExact(exact_18.history)\n",
        "\n",
        "e18 = np.std(acqFuncExact_exact_18)\n",
        "a18 = np.std(acqFuncApprox_exact_18)\n",
        "\n",
        "e18, a18\n"
      ]
    },
    {
      "cell_type": "code",
      "execution_count": 118,
      "metadata": {
        "id": "o8oO8pdBGvYk",
        "colab": {
          "base_uri": "https://localhost:8080/"
        },
        "outputId": "e65fec4c-dda6-4b9a-f3e4-fda1b66b2dfe"
      },
      "outputs": [
        {
          "output_type": "execute_result",
          "data": {
            "text/plain": [
              "(0.47736637584894337, 0.43749217495459874)"
            ]
          },
          "metadata": {},
          "execution_count": 118
        }
      ],
      "source": [
        "### acqFunc attribute x, stddev: run number = 19\n",
        "\n",
        "acqFuncApprox_exact_19 = acqFuncApprox(exact_19.history)\n",
        "acqFuncExact_exact_19 = acqFuncExact(exact_19.history)\n",
        "\n",
        "e19 = np.std(acqFuncExact_exact_19)\n",
        "a19 = np.std(acqFuncApprox_exact_19)\n",
        "\n",
        "e19, a19\n"
      ]
    },
    {
      "cell_type": "code",
      "execution_count": 119,
      "metadata": {
        "id": "b2w8oLc0IMzU",
        "colab": {
          "base_uri": "https://localhost:8080/"
        },
        "outputId": "756decfd-f4b1-4941-b3d9-df0560d6513a"
      },
      "outputs": [
        {
          "output_type": "execute_result",
          "data": {
            "text/plain": [
              "(0.3091005581643946, 0.6869897747799805)"
            ]
          },
          "metadata": {},
          "execution_count": 119
        }
      ],
      "source": [
        "### acqFunc attribute x, stddev: run number = 20\n",
        "\n",
        "acqFuncApprox_exact_20 = acqFuncApprox(exact_20.history)\n",
        "acqFuncExact_exact_20 = acqFuncExact(exact_20.history)\n",
        "\n",
        "e20 = np.std(acqFuncExact_exact_20)\n",
        "a20 = np.std(acqFuncApprox_exact_20)\n",
        "\n",
        "e20, a20\n"
      ]
    },
    {
      "cell_type": "code",
      "execution_count": 120,
      "metadata": {
        "id": "qAZs3yxMIZul",
        "colab": {
          "base_uri": "https://localhost:8080/"
        },
        "outputId": "d872a9d5-c8b0-4721-d3f5-22c9478e4fdd"
      },
      "outputs": [
        {
          "output_type": "execute_result",
          "data": {
            "text/plain": [
              "(0.40226586867765113, 0.42953662954259847)"
            ]
          },
          "metadata": {},
          "execution_count": 120
        }
      ],
      "source": [
        "### Summarize arrays: \n",
        "\n",
        "exact_stddev = np.sort([e1,e2,e3,e4,e5,e6,e7,e8,e9,e10,e11,e12,e13,e14,e15,e16,e17,e18,e19,e20])\n",
        "approx_stddev = np.sort([a1,a2,a3,a4,a5,a6,a7,a8,a9,a10,a11,a12,a13,a14,a15,a16,a17,a18,a19,a20])\n",
        "\n",
        "np.mean(exact_stddev), np.mean(approx_stddev)\n"
      ]
    },
    {
      "cell_type": "code",
      "execution_count": 121,
      "metadata": {
        "id": "e_kpqYcMIZxu",
        "colab": {
          "base_uri": "https://localhost:8080/",
          "height": 295
        },
        "outputId": "a79780c8-cbc8-4aac-955c-604ebf7d6c7a"
      },
      "outputs": [
        {
          "output_type": "display_data",
          "data": {
            "text/plain": [
              "<Figure size 432x288 with 1 Axes>"
            ],
            "image/png": "[encoded data removed]"
          },
          "metadata": {
            "needs_background": "light"
          }
        }
      ],
      "source": [
        "### Visualise!\n",
        "\n",
        "title = func\n",
        "plt.figure()\n",
        "\n",
        "plt.plot(approx_stddev, color = 'Purple', ls='--', label='Average $\\sigma$, attribute $\\mathbf{x}$: Approx STP CBM gradients')\n",
        "plt.plot(exact_stddev, color = 'Orange', ls='-', label='Average $\\sigma$, attribute $\\mathbf{x}$: Exact STP dCBM gradients')\n",
        "\n",
        "plt.title(title, weight = 'bold')\n",
        "plt.xlabel('Experiment(s)', weight = 'bold')\n",
        "plt.ylabel('STP CBM: Average $\\sigma$, attribute $\\mathbf{x}$', weight = 'bold') \n",
        "plt.legend(loc=0) # add plot legend\n",
        "\n",
        "### Make the x-ticks integers, not floats:\n",
        "count = len(xstar)\n",
        "plt.xticks(np.arange(count), np.arange(1, count))\n",
        "plt.show() #visualize!\n"
      ]
    },
    {
      "cell_type": "code",
      "execution_count": 121,
      "metadata": {
        "id": "LToGd4vZIZ3I"
      },
      "outputs": [],
      "source": []
    }
  ],
  "metadata": {
    "colab": {
      "collapsed_sections": [],
      "provenance": []
    },
    "kernelspec": {
      "display_name": "Python 3",
      "name": "python3"
    },
    "language_info": {
      "name": "python"
    }
  },
  "nbformat": 4,
  "nbformat_minor": 0
}