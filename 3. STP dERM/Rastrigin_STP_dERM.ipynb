{
  "cells": [
    {
      "cell_type": "markdown",
      "metadata": {
        "id": "Dqn4dFx7Z2Ir"
      },
      "source": [
        "\n",
        "Rastrigin: 2D\n"
      ]
    },
    {
      "cell_type": "code",
      "execution_count": 1,
      "metadata": {
        "colab": {
          "base_uri": "https://localhost:8080/"
        },
        "id": "MJTM_GZZZb5x",
        "outputId": "b9a6abc9-699a-488b-dfc3-be0cbcdf0e7f"
      },
      "outputs": [
        {
          "output_type": "stream",
          "name": "stdout",
          "text": [
            "Looking in indexes: https://pypi.org/simple, https://us-python.pkg.dev/colab-wheels/public/simple/\n",
            "Collecting pyGPGO\n",
            "  Downloading pyGPGO-0.5.1.tar.gz (14 kB)\n",
            "Requirement already satisfied: numpy in /usr/local/lib/python3.7/dist-packages (from pyGPGO) (1.21.6)\n",
            "Requirement already satisfied: mkl in /usr/local/lib/python3.7/dist-packages (from pyGPGO) (2019.0)\n",
            "Requirement already satisfied: scipy in /usr/local/lib/python3.7/dist-packages (from pyGPGO) (1.7.3)\n",
            "Requirement already satisfied: joblib in /usr/local/lib/python3.7/dist-packages (from pyGPGO) (1.1.0)\n",
            "Requirement already satisfied: scikit-learn in /usr/local/lib/python3.7/dist-packages (from pyGPGO) (1.0.2)\n",
            "Collecting Theano-PyMC\n",
            "  Downloading Theano-PyMC-1.1.2.tar.gz (1.8 MB)\n",
            "\u001b[K     |████████████████████████████████| 1.8 MB 4.1 MB/s \n",
            "\u001b[?25hCollecting pyMC3\n",
            "  Downloading pymc3-3.11.5-py3-none-any.whl (872 kB)\n",
            "\u001b[K     |████████████████████████████████| 872 kB 40.5 MB/s \n",
            "\u001b[?25hRequirement already satisfied: intel-openmp in /usr/local/lib/python3.7/dist-packages (from mkl->pyGPGO) (2022.1.0)\n",
            "Collecting deprecat\n",
            "  Downloading deprecat-2.1.1-py2.py3-none-any.whl (9.8 kB)\n",
            "Requirement already satisfied: fastprogress>=0.2.0 in /usr/local/lib/python3.7/dist-packages (from pyMC3->pyGPGO) (1.0.3)\n",
            "Requirement already satisfied: patsy>=0.5.1 in /usr/local/lib/python3.7/dist-packages (from pyMC3->pyGPGO) (0.5.2)\n",
            "Requirement already satisfied: dill in /usr/local/lib/python3.7/dist-packages (from pyMC3->pyGPGO) (0.3.5.1)\n",
            "Requirement already satisfied: pandas>=0.24.0 in /usr/local/lib/python3.7/dist-packages (from pyMC3->pyGPGO) (1.3.5)\n",
            "Requirement already satisfied: typing-extensions>=3.7.4 in /usr/local/lib/python3.7/dist-packages (from pyMC3->pyGPGO) (4.1.1)\n",
            "Collecting semver>=2.13.0\n",
            "  Downloading semver-2.13.0-py2.py3-none-any.whl (12 kB)\n",
            "Requirement already satisfied: cachetools>=4.2.1 in /usr/local/lib/python3.7/dist-packages (from pyMC3->pyGPGO) (4.2.4)\n",
            "Requirement already satisfied: arviz>=0.11.0 in /usr/local/lib/python3.7/dist-packages (from pyMC3->pyGPGO) (0.12.1)\n",
            "Requirement already satisfied: filelock in /usr/local/lib/python3.7/dist-packages (from Theano-PyMC->pyGPGO) (3.8.0)\n",
            "Requirement already satisfied: setuptools>=38.4 in /usr/local/lib/python3.7/dist-packages (from arviz>=0.11.0->pyMC3->pyGPGO) (57.4.0)\n",
            "Requirement already satisfied: xarray>=0.16.1 in /usr/local/lib/python3.7/dist-packages (from arviz>=0.11.0->pyMC3->pyGPGO) (0.20.2)\n",
            "Requirement already satisfied: netcdf4 in /usr/local/lib/python3.7/dist-packages (from arviz>=0.11.0->pyMC3->pyGPGO) (1.6.0)\n",
            "Requirement already satisfied: matplotlib>=3.0 in /usr/local/lib/python3.7/dist-packages (from arviz>=0.11.0->pyMC3->pyGPGO) (3.2.2)\n",
            "Requirement already satisfied: packaging in /usr/local/lib/python3.7/dist-packages (from arviz>=0.11.0->pyMC3->pyGPGO) (21.3)\n",
            "Requirement already satisfied: xarray-einstats>=0.2 in /usr/local/lib/python3.7/dist-packages (from arviz>=0.11.0->pyMC3->pyGPGO) (0.2.2)\n",
            "Requirement already satisfied: cycler>=0.10 in /usr/local/lib/python3.7/dist-packages (from matplotlib>=3.0->arviz>=0.11.0->pyMC3->pyGPGO) (0.11.0)\n",
            "Requirement already satisfied: pyparsing!=2.0.4,!=2.1.2,!=2.1.6,>=2.0.1 in /usr/local/lib/python3.7/dist-packages (from matplotlib>=3.0->arviz>=0.11.0->pyMC3->pyGPGO) (3.0.9)\n",
            "Requirement already satisfied: python-dateutil>=2.1 in /usr/local/lib/python3.7/dist-packages (from matplotlib>=3.0->arviz>=0.11.0->pyMC3->pyGPGO) (2.8.2)\n",
            "Requirement already satisfied: kiwisolver>=1.0.1 in /usr/local/lib/python3.7/dist-packages (from matplotlib>=3.0->arviz>=0.11.0->pyMC3->pyGPGO) (1.4.4)\n",
            "Requirement already satisfied: pytz>=2017.3 in /usr/local/lib/python3.7/dist-packages (from pandas>=0.24.0->pyMC3->pyGPGO) (2022.2.1)\n",
            "Requirement already satisfied: six in /usr/local/lib/python3.7/dist-packages (from patsy>=0.5.1->pyMC3->pyGPGO) (1.15.0)\n",
            "Requirement already satisfied: importlib-metadata in /usr/local/lib/python3.7/dist-packages (from xarray>=0.16.1->arviz>=0.11.0->pyMC3->pyGPGO) (4.12.0)\n",
            "Requirement already satisfied: wrapt<2,>=1.10 in /usr/local/lib/python3.7/dist-packages (from deprecat->pyMC3->pyGPGO) (1.14.1)\n",
            "Requirement already satisfied: zipp>=0.5 in /usr/local/lib/python3.7/dist-packages (from importlib-metadata->xarray>=0.16.1->arviz>=0.11.0->pyMC3->pyGPGO) (3.8.1)\n",
            "Requirement already satisfied: cftime in /usr/local/lib/python3.7/dist-packages (from netcdf4->arviz>=0.11.0->pyMC3->pyGPGO) (1.6.1)\n",
            "Requirement already satisfied: threadpoolctl>=2.0.0 in /usr/local/lib/python3.7/dist-packages (from scikit-learn->pyGPGO) (3.1.0)\n",
            "Building wheels for collected packages: pyGPGO, Theano-PyMC\n",
            "  Building wheel for pyGPGO (setup.py) ... \u001b[?25l\u001b[?25hdone\n",
            "  Created wheel for pyGPGO: filename=pyGPGO-0.5.1-py3-none-any.whl size=19879 sha256=b676deb7cbce5b86c22ff99bb7b7e2618052ef1f9d02f698079d7c25e97ebd9b\n",
            "  Stored in directory: /root/.cache/pip/wheels/c8/5d/0b/2160114e2f1b87791c51b66cf07f89831dbb6f49167950316f\n",
            "  Building wheel for Theano-PyMC (setup.py) ... \u001b[?25l\u001b[?25hdone\n",
            "  Created wheel for Theano-PyMC: filename=Theano_PyMC-1.1.2-py3-none-any.whl size=1529963 sha256=bf5482eeb5a7d7f763bc2fb1cd192bff2252cf51d5f13a74f1a2aa28cfef0b56\n",
            "  Stored in directory: /root/.cache/pip/wheels/f3/af/8c/5dd7553522d74c52a7813806fc7ee1a9caa20a3f7c8fd850d5\n",
            "Successfully built pyGPGO Theano-PyMC\n",
            "Installing collected packages: Theano-PyMC, semver, deprecat, pyMC3, pyGPGO\n",
            "Successfully installed Theano-PyMC-1.1.2 deprecat-2.1.1 pyGPGO-0.5.1 pyMC3-3.11.5 semver-2.13.0\n"
          ]
        }
      ],
      "source": [
        "pip install pyGPGO\n"
      ]
    },
    {
      "cell_type": "code",
      "execution_count": 2,
      "metadata": {
        "id": "ZJSSPbwPaEUB"
      },
      "outputs": [],
      "source": [
        "### 1. Import python modules/packages required:\n",
        "\n",
        "import numpy as np\n",
        "import pandas as pd\n",
        "import scipy as sp\n",
        "import matplotlib.pyplot as plt\n",
        "import warnings\n",
        "import itertools\n",
        "import seaborn as sns\n",
        "import time\n",
        "\n",
        "from pyGPGO.GPGO import GPGO\n",
        "from pyGPGO.surrogates.tStudentProcess import tStudentProcess\n",
        "from pyGPGO.acquisition import Acquisition\n",
        "from pyGPGO.covfunc import squaredExponential\n",
        "from joblib import Parallel, delayed\n",
        "from scipy.linalg import inv\n",
        "from scipy.spatial.distance import cdist\n",
        "from scipy.optimize import minimize\n",
        "from scipy.stats import t\n",
        "from mpl_toolkits.axes_grid1.inset_locator import inset_axes, mark_inset\n",
        "\n",
        "warnings.filterwarnings(\"ignore\", category=RuntimeWarning)\n"
      ]
    },
    {
      "cell_type": "code",
      "execution_count": 3,
      "metadata": {
        "id": "OeYcTUNoaJWa"
      },
      "outputs": [],
      "source": [
        "### Inputs:\n",
        "\n",
        "func = 'Rastrigin'\n",
        "n_test = 500\n",
        "eps = 1e-08\n",
        "\n",
        "util = 'ERM'\n",
        "\n",
        "n_init = 5 # random initialisations\n",
        "iters = 20\n",
        "opt = True\n",
        "\n",
        "df = 3"
      ]
    },
    {
      "cell_type": "code",
      "execution_count": 4,
      "metadata": {
        "id": "xpaEOjdzaPMS"
      },
      "outputs": [],
      "source": [
        "### Objective Function - Rastrigin(x) 2-D:\n",
        "\n",
        "def objfunc(x1_training, x2_training):\n",
        "        return  operator * (10 * dim + x1_training** 2 - 10 * np.cos(2 * np.pi * x1_training)\n",
        "                                    + x2_training** 2 - 10 * np.cos(2 * np.pi * x2_training)\n",
        "                          )\n",
        "            \n",
        "# Constraints:\n",
        "lb = -5.12 \n",
        "ub = +5.12\n",
        "    \n",
        "# Input array dimension(s):\n",
        "dim = 2\n",
        "\n",
        "# 2-D inputs' parameter bounds:\n",
        "param = {'x1_training': ('cont', [lb, ub]),\n",
        "             'x2_training': ('cont', [lb, ub])}\n",
        "\n",
        "# True y bounds:\n",
        "operator = -1\n",
        "y_global_orig = 0 # targets global minimum\n",
        "\n",
        "# Test data:\n",
        "x1_test = np.linspace(lb, ub, n_test) \n",
        "x2_test = np.linspace(lb, ub, n_test)\n",
        "  \n",
        "x_test = np.column_stack((x1_test,x2_test))"
      ]
    },
    {
      "cell_type": "code",
      "execution_count": 5,
      "metadata": {
        "id": "eYpI3Zm4aGxi"
      },
      "outputs": [],
      "source": [
        "n_start_AcqFunc = iters\n",
        "inverse = -1\n"
      ]
    },
    {
      "cell_type": "code",
      "execution_count": 6,
      "metadata": {
        "id": "oO_GUmOoaV0T"
      },
      "outputs": [],
      "source": [
        "### Cumulative Regret Calculators:\n",
        "\n",
        "def min_max_array(x):\n",
        "    new_list = []\n",
        "    for i, num in enumerate(x):\n",
        "            new_list.append(np.min(x[0:i+1]))\n",
        "    return new_list\n",
        "  \n",
        "def acqFuncExact(x):\n",
        "    new_array = []\n",
        "    x = np.array(x) \n",
        "    for i, num in enumerate(x):\n",
        "            new_array = x[:-2][::-3]\n",
        "    return new_array[::-1]\n",
        "\n",
        "def acqFuncApprox(x):\n",
        "    new_array = []\n",
        "    x = np.array(x) \n",
        "    for i, num in enumerate(x):\n",
        "            new_array = x[:-1][::-3]\n",
        "    return new_array[::-1]\n"
      ]
    },
    {
      "cell_type": "code",
      "execution_count": 7,
      "metadata": {
        "id": "kuuJx0IMam9S"
      },
      "outputs": [],
      "source": [
        "### Surrogate derivatives: \n",
        "\n",
        "cov_func = squaredExponential()\n",
        "\n",
        "def kronDelta(X, Xstar):                     # Kronecker's Delta method\n",
        "    return cdist(X, Xstar) < np.finfo(np.float32).eps\n",
        "\n",
        "def se(X, Xstar, sigmaf, l, sigman):         # S.E. kernel method\n",
        "    return sigmaf * np.exp(-0.5 * cdist(X, Xstar) ** 2 / l ** 2) + sigman * kronDelta(X, Xstar)\n",
        "\n",
        "def delta(X, Xstar):                         # Distance between training X and test Xstar vectors\n",
        "    return (X - Xstar)\n",
        "   \n",
        "def der_covmat(X, Xstar, sigmaf, l, sigman): # Covariance matrix derivative terms (i.e. exact, first-order)\n",
        "    nx = len(X)\n",
        "    ny = len(Xstar)\n",
        "    return np.round(np.array([(delta(np.atleast_2d(i), np.atleast_2d(j))[0] * se(np.atleast_2d(i), np.atleast_2d(j), sigmaf, l, sigman)[0]).sum() for (i, j) in itertools.product(X, Xstar)]).reshape(nx, ny), 8)\n",
        "\n",
        "class dtStudentProcess(tStudentProcess):    # Via inheritance, also optimises hyperparameters when opt = TRUE\n",
        "    \n",
        "    def AcqGrad(self, Xstar):               # Method returning exact, first-order derivatives of the STP's posterior mean and standard deviation\n",
        "        Xstar = np.atleast_2d(Xstar)\n",
        "        Kstar = self.covfunc.K(self.X, Xstar).T\n",
        "        dKstar = der_covmat(self.X, Xstar, self.covfunc.sigmaf, self.covfunc.l, self.covfunc.sigman).T\n",
        "        \n",
        "        smd_adj = (self.nu + self.beta1 - 2) / (self.nu + self.n1 - 2)\n",
        "\n",
        "        alpha = np.dot(np.linalg.inv(self.K11 + (self.covfunc.sigman**2) * np.eye(len(self.X))), self.y)\n",
        "        alpha_Kstar = np.dot(np.linalg.inv(self.K11 + (self.covfunc.sigman**2) * np.eye(len(self.X))), Kstar.T)      \n",
        "        \n",
        "        dm = np.dot(dKstar, alpha)\n",
        "        ds = -2 * smd_adj * np.dot(dKstar, alpha_Kstar)\n",
        "        \n",
        "        return dm, ds \n",
        "        "
      ]
    },
    {
      "cell_type": "code",
      "execution_count": 8,
      "metadata": {
        "id": "_Dc3YVHVaXz7"
      },
      "outputs": [],
      "source": [
        "### Add exact acquisition function gradient as attribute:\n",
        "\n",
        "class Acquisition_grad(Acquisition):    \n",
        "    def __init__(self, mode, eps=eps, **params):\n",
        "        \n",
        "        self.params = params\n",
        "        self.eps = eps\n",
        "\n",
        "        mode_dict = {\n",
        "            'ERM': self.ERM\n",
        "        }\n",
        "\n",
        "        self.f = mode_dict[mode]\n",
        "    \n",
        "    def ERM(self, tau, mean, std, ds, dm, nu=3.0):\n",
        "        gamma = (mean - y_global_orig - self.eps) / (std + self.eps)\n",
        "        gamma_h = (mean - tau) / (std + self.eps)\n",
        "        dsdx = ds / (2 * (std + self.eps))\n",
        "        dmdx = (dm - gamma * dsdx) / (std + self.eps)\n",
        "        \n",
        "        f = (std + self.eps) * (gamma * t.cdf(gamma, df=nu) + (nu + gamma ** 2)/(nu - 1) * t.pdf(gamma, df=nu))\n",
        "        df1 = f / (std + self.eps) * dsdx \n",
        "        df2 = (std + self.eps) * (t.cdf(gamma, df=nu) * dmdx + gamma * t.pdf(gamma, df=nu) \\\n",
        "            * (1 - (nu + gamma ** 2)/(nu - 1) + 2/(nu - 1) * dmdx))\n",
        "        df = (df1 + df2)[0]\n",
        "        df_arr = []\n",
        "\n",
        "        for j in range(0, dim):\n",
        "          df_arr.append(df)\n",
        "        return f, np.asarray(df_arr).transpose()\n",
        "        \n",
        "    def d_eval(self, tau, mean, std, ds, dm, nu=3.0):\n",
        "    \n",
        "        return self.f(tau, mean, std, ds, dm, nu=3.0, **self.params)\n",
        "        "
      ]
    },
    {
      "cell_type": "code",
      "execution_count": 9,
      "metadata": {
        "id": "PITEQC8YSl7i"
      },
      "outputs": [],
      "source": [
        "## GPGO_multi: \n",
        "\n",
        "class GPGO_multi(GPGO):\n",
        "    n_start = n_start_AcqFunc\n",
        "\n",
        "    def __init__(self, surrogate, acquisition, f, parameter_dict, n_jobs=1):\n",
        "        self.GP = surrogate\n",
        "        self.A = acquisition\n",
        "        self.f = f\n",
        "        self.parameters = parameter_dict\n",
        "        self.n_jobs = n_jobs\n",
        "\n",
        "        self.parameter_key = list(parameter_dict.keys())\n",
        "        self.parameter_value = list(parameter_dict.values())\n",
        "        self.parameter_type = [p[0] for p in self.parameter_value]\n",
        "        self.parameter_range = [p[1] for p in self.parameter_value]\n",
        "\n",
        "        self.history = []\n",
        "        self.header =   'Evaluation \\t Proposed point \\t  Current eval. \\t  Best eval. \\t        Exact ERM: StdDev. x \\t Approx ERM: StdDev. x '\n",
        "        self.template = '{:3}\\t {}\\t {:3}\\t {:3}\\t {:3}\\t {:3}'\n",
        " \n",
        "    def acqfuncExact(self, xnew, n_start=n_start_AcqFunc):\n",
        "        new_mean, new_var = self.GP.predict(xnew, return_std=True)\n",
        "        new_std = np.sqrt(new_var + eps)\n",
        "        dm, ds = self.GP.AcqGrad(xnew)\n",
        "        f, df = self.A.d_eval(self.tau, new_mean, new_std, ds=ds, dm=dm, nu=3.0)\n",
        "\n",
        "        return -f, -df\n",
        "   \n",
        "    def acqfuncApprox(self, xnew, n_start=n_start_AcqFunc):\n",
        "        new_mean, new_var = self.GP.predict(xnew, return_std=True)\n",
        "        new_std = np.sqrt(new_var + eps)\n",
        "        dm, ds = self.GP.AcqGrad(xnew)\n",
        "        f, df = self.A.d_eval(self.tau, new_mean, new_std, ds=ds, dm=dm, nu=3.0)\n",
        "\n",
        "        return -f\n",
        "   \n",
        "    def _optimizeAcq(self, method='L-BFGS-B', n_start=n_start_AcqFunc):\n",
        "        \n",
        "        start_points_dict = [self._sampleParam() for i in range(n_start)]\n",
        "        start_points_arr = np.array([list(s.values())\n",
        "                                     for s in start_points_dict])\n",
        "        x_best = np.empty((n_start, len(self.parameter_key)))\n",
        "        f_best = np.empty((n_start,))\n",
        "        opt = Parallel(n_jobs=self.n_jobs)(delayed(minimize)(self.acqfuncApprox,\n",
        "                                                                 x0=start_point,\n",
        "                                                                 method=method,\n",
        "                                                                 jac = False,\n",
        "                                                                 bounds=self.parameter_range) for start_point in\n",
        "                                               start_points_arr)\n",
        "        x_best = np.array([res.x for res in opt])\n",
        "        f_best = np.array([np.atleast_1d(res.fun)[0] for res in opt])\n",
        "        f_best_min = min(f_best)\n",
        "\n",
        "        self.x_best = x_best\n",
        "        self.f_best = f_best\n",
        "        self.f_best_min = f_best_min\n",
        "        self.x_best_std = np.std(x_best)\n",
        "        self.best = x_best[np.argmin(f_best)]\n",
        "        self.start_points_arr = start_points_arr        \n",
        "        self.history.append(self.x_best_std)\n",
        "\n",
        "        x_best_exact = np.empty((n_start, len(self.parameter_key)))\n",
        "        f_best_exact = np.empty((n_start,))\n",
        "        opt_exact = Parallel(n_jobs=self.n_jobs)(delayed(minimize)(self.acqfuncExact,\n",
        "                                                                 x0=start_point,\n",
        "                                                                 method=method,\n",
        "                                                                 jac = True,\n",
        "                                                                 bounds=self.parameter_range) for start_point in\n",
        "                                               start_points_arr)\n",
        "        x_best_exact = np.array([res.x for res in opt_exact])\n",
        "        f_best_exact = np.array([np.atleast_1d(res.fun)[0] for res in opt_exact])\n",
        "        f_best_min_exact = min(f_best_exact)\n",
        "\n",
        "        self.x_best_exact = x_best_exact\n",
        "        self.f_best_exact = f_best_exact\n",
        "        self.f_best_min_exact = f_best_min_exact\n",
        "        self.x_best_std_exact = np.std(x_best_exact)\n",
        "        self.best_exact = x_best_exact[np.argmin(f_best_exact)]\n",
        "        self.start_points_arr = start_points_arr\n",
        "        self.history.append(self.x_best_std_exact)\n",
        "\n",
        "    def _printInit(self):\n",
        "        print(self.header)\n",
        "        for init_eval in range(self.init_evals):\n",
        "            print(self.template.format('init', self.GP.X[init_eval], inverse * self.GP.y[init_eval], inverse * self.tau, '', ''))\n",
        "      \n",
        "    def _printCurrent(self):\n",
        "        OKGREEN = '\\033[92m'\n",
        "        ENDC = '\\033[0m'\n",
        "        BOLD = '\\033[1m'\n",
        "        eval = str(len(self.GP.y) - self.init_evals)\n",
        "        proposed = str(self.best)\n",
        "        curr_eval = str(inverse * self.GP.y[-1])\n",
        "        curr_best = str(inverse * self.tau)\n",
        "        min_acqfunc = str(self.f_best_min)\n",
        "        min_acqfunc_exact = str(self.f_best_min_exact)\n",
        "        x_best_std = str(self.x_best_std)\n",
        "        x_best_std_exact = str(self.x_best_std_exact)\n",
        "        if float(curr_eval) <= float(curr_best):\n",
        "            eval = BOLD + OKGREEN + eval + ENDC\n",
        "            proposed = BOLD + OKGREEN + proposed + ENDC\n",
        "            curr_eval = BOLD + OKGREEN + curr_eval + ENDC\n",
        "            curr_best = BOLD + OKGREEN + curr_best + ENDC\n",
        "            x_best_std = BOLD + OKGREEN + x_best_std + ENDC\n",
        "            x_best_std_exact = BOLD + OKGREEN + x_best_std_exact + ENDC\n",
        "        print(self.template.format(eval, proposed, curr_eval, curr_best, x_best_std_exact, x_best_std))\n",
        "        \n",
        "    def run(self, max_iter=10, init_evals=3, resume=False):\n",
        "        \n",
        "        if not resume:\n",
        "            self.init_evals = init_evals\n",
        "            self._firstRun(self.init_evals)\n",
        "            self._printInit()\n",
        "        for iteration in range(max_iter):\n",
        "            self._optimizeAcq()\n",
        "            self.updateGP()\n",
        "            self._printCurrent()\n"
      ]
    },
    {
      "cell_type": "code",
      "execution_count": 10,
      "metadata": {
        "id": "b_B-w81BJxKN"
      },
      "outputs": [],
      "source": [
        "## dGPGO:\n",
        "\n",
        "class dGPGO(GPGO):\n",
        "    n_start = n_start_AcqFunc\n",
        "\n",
        "    def __init__(self, surrogate, acquisition, f, parameter_dict, n_jobs=1):\n",
        "        self.GP = surrogate\n",
        "        self.A = acquisition\n",
        "        self.f = f\n",
        "        self.parameters = parameter_dict\n",
        "        self.n_jobs = n_jobs\n",
        "\n",
        "        self.parameter_key = list(parameter_dict.keys())\n",
        "        self.parameter_value = list(parameter_dict.values())\n",
        "        self.parameter_type = [p[0] for p in self.parameter_value]\n",
        "        self.parameter_range = [p[1] for p in self.parameter_value]\n",
        "\n",
        "        self.history = []\n",
        "        self.header =   'Evaluation \\t Proposed point \\t  Current eval. \\t  Best eval. \\t        Exact ERM: StdDev. x \\t Approx ERM: StdDev. x '\n",
        "        self.template = '{:3}\\t {}\\t {:3}\\t {:3}\\t {:3}\\t {:3}'\n",
        "\n",
        "    def acqfuncExact(self, xnew, n_start=n_start_AcqFunc):\n",
        "        new_mean, new_var = self.GP.predict(xnew, return_std=True)\n",
        "        new_std = np.sqrt(new_var + eps)\n",
        "        dm, ds = self.GP.AcqGrad(xnew)\n",
        "        f, df = self.A.d_eval(self.tau, new_mean, new_std, ds=ds, dm=dm, nu=3.0)\n",
        "\n",
        "        return -f, -df\n",
        "   \n",
        "    def acqfuncApprox(self, xnew, n_start=n_start_AcqFunc):\n",
        "        new_mean, new_var = self.GP.predict(xnew, return_std=True)\n",
        "        new_std = np.sqrt(new_var + eps)\n",
        "        dm, ds = self.GP.AcqGrad(xnew)\n",
        "        f, df = self.A.d_eval(self.tau, new_mean, new_std, ds=ds, dm=dm, nu=3.0)\n",
        "\n",
        "        return -f\n",
        "\n",
        "    def d_optimizeAcq(self, method='L-BFGS-B', n_start=n_start_AcqFunc):\n",
        "        start_points_dict = [self._sampleParam() for i in range(n_start)]\n",
        "        start_points_arr = np.array([list(s.values())\n",
        "                                     for s in start_points_dict])\n",
        "        x_best = np.empty((n_start, len(self.parameter_key)))\n",
        "        f_best = np.empty((n_start,))\n",
        "        opt = Parallel(n_jobs=self.n_jobs)(delayed(minimize)(self.acqfuncExact,\n",
        "                                                                 x0=start_point,\n",
        "                                                                 method=method,\n",
        "                                                                 jac = True,\n",
        "                                                                 bounds=self.parameter_range) for start_point in\n",
        "                                               start_points_arr)\n",
        "        x_best = np.array([res.x for res in opt])\n",
        "        f_best = np.array([np.atleast_1d(res.fun)[0] for res in opt])\n",
        "        f_best_min = min(f_best)\n",
        "\n",
        "        self.x_best = x_best\n",
        "        self.f_best = f_best\n",
        "        self.f_best_min = f_best_min\n",
        "        self.x_best_std = np.std(x_best)\n",
        "        self.best = x_best[np.argmin(f_best)]\n",
        "        self.start_points_arr = start_points_arr\n",
        "        self.history.append(self.x_best_std)\n",
        "\n",
        "        x_best_approx = np.empty((n_start, len(self.parameter_key)))\n",
        "        f_best_approx = np.empty((n_start,))\n",
        "        opt_approx = Parallel(n_jobs=self.n_jobs)(delayed(minimize)(self.acqfuncApprox,\n",
        "                                                                 x0=start_point,\n",
        "                                                                 method=method,\n",
        "                                                                 jac = False,\n",
        "                                                                 bounds=self.parameter_range) for start_point in\n",
        "                                               start_points_arr)\n",
        "        x_best_approx = np.array([res.x for res in opt_approx])\n",
        "        f_best_approx = np.array([np.atleast_1d(res.fun)[0] for res in opt_approx])\n",
        "        f_best_min_approx = min(f_best_approx)\n",
        "\n",
        "        self.x_best_approx = x_best_approx\n",
        "        self.f_best_approx = f_best_approx\n",
        "        self.f_best_min_approx = f_best_min_approx\n",
        "        self.x_best_std_approx = np.std(x_best_approx)\n",
        "        self.best_approx = x_best_approx[np.argmin(f_best_approx)]\n",
        "        self.start_points_arr = start_points_arr\n",
        "        self.history.append(self.x_best_std_approx)\n",
        "    \n",
        "    def _printInit(self):\n",
        "        print(self.header)\n",
        "        for init_eval in range(self.init_evals):\n",
        "            print(self.template.format('init', self.GP.X[init_eval], inverse * self.GP.y[init_eval], inverse * self.tau, '', ''))\n",
        "      \n",
        "    def _printCurrent(self):\n",
        "        OKGREEN = '\\033[92m'\n",
        "        ENDC = '\\033[0m'\n",
        "        BOLD = '\\033[1m'\n",
        "        eval = str(len(self.GP.y) - self.init_evals)\n",
        "        proposed = str(self.best)\n",
        "        curr_eval = str(inverse * self.GP.y[-1])\n",
        "        curr_best = str(inverse * self.tau)\n",
        "        min_acqfunc = str(self.f_best_min)\n",
        "        min_acqfunc_approx = str(self.f_best_min_approx)\n",
        "        x_best_std = str(self.x_best_std)\n",
        "        x_best_std_approx = str(self.x_best_std_approx)\n",
        "        if float(curr_eval) <= float(curr_best):\n",
        "            eval = BOLD + OKGREEN + eval + ENDC\n",
        "            proposed = BOLD + OKGREEN + proposed + ENDC\n",
        "            curr_eval = BOLD + OKGREEN + curr_eval + ENDC\n",
        "            curr_best = BOLD + OKGREEN + curr_best + ENDC\n",
        "            x_best_std = BOLD + OKGREEN + x_best_std + ENDC\n",
        "            x_best_std_approx = BOLD + OKGREEN + x_best_std_approx + ENDC\n",
        "        print(self.template.format(eval, proposed, curr_eval, curr_best, x_best_std, x_best_std_approx))\n",
        "\n",
        "    def run(self, max_iter=10, init_evals=3, resume=False):\n",
        "        \n",
        "        if not resume:\n",
        "            self.init_evals = init_evals\n",
        "            self._firstRun(self.init_evals)\n",
        "            self._printInit()\n",
        "        for iteration in range(max_iter):\n",
        "            self.d_optimizeAcq()\n",
        "            self.updateGP()\n",
        "            self._printCurrent()\n"
      ]
    },
    {
      "cell_type": "code",
      "execution_count": 11,
      "metadata": {
        "id": "qXIKGuXVGEg2"
      },
      "outputs": [],
      "source": [
        "###Reproducible set-seeds:\n",
        "\n",
        "run_num_1 = 1\n",
        "run_num_2 = 2\n",
        "run_num_3 = 3\n",
        "run_num_4 = 4\n",
        "run_num_5 = 5\n",
        "run_num_6 = 6\n",
        "run_num_7 = 7\n",
        "run_num_8 = 8\n",
        "run_num_9 = 9\n",
        "run_num_10 = 10\n",
        "run_num_11 = 11\n",
        "run_num_12 = 12\n",
        "run_num_13 = 13\n",
        "run_num_14 = 14\n",
        "run_num_15 = 15\n",
        "run_num_16 = 16\n",
        "run_num_17 = 17\n",
        "run_num_18 = 18\n",
        "run_num_19 = 19\n",
        "run_num_20 = 20\n"
      ]
    },
    {
      "cell_type": "code",
      "execution_count": 12,
      "metadata": {
        "colab": {
          "base_uri": "https://localhost:8080/"
        },
        "id": "JEhagQmnTVIK",
        "outputId": "200781d0-6573-4a70-c724-a114092851be"
      },
      "outputs": [
        {
          "output_type": "execute_result",
          "data": {
            "text/plain": [
              "1663322499.1318495"
            ]
          },
          "metadata": {},
          "execution_count": 12
        }
      ],
      "source": [
        "start_approx = time.time()\n",
        "start_approx\n"
      ]
    },
    {
      "cell_type": "code",
      "execution_count": 13,
      "metadata": {
        "colab": {
          "base_uri": "https://localhost:8080/"
        },
        "id": "aH0YSTXufD1v",
        "outputId": "0e478acd-56b7-496f-de9f-256fc015cc5c"
      },
      "outputs": [
        {
          "output_type": "stream",
          "name": "stdout",
          "text": [
            "Evaluation \t Proposed point \t  Current eval. \t  Best eval. \t        Exact ERM: StdDev. x \t Approx ERM: StdDev. x \n",
            "init\t [-0.84969467  2.25612281]\t 20.33436270766351\t 19.908403246996286\t    \t    \n",
            "init\t [-5.1188288  -2.02411446]\t 33.07414982069084\t 19.908403246996286\t    \t    \n",
            "init\t [-3.61721968 -4.17445279]\t 53.347974723929894\t 19.908403246996286\t    \t    \n",
            "init\t [-3.21269544 -1.58145816]\t 39.218472310354045\t 19.908403246996286\t    \t    \n",
            "init\t [-1.05710106  0.39748336]\t 19.908403246996286\t 19.908403246996286\t    \t    \n",
            "1  \t [ 4.04077223 -4.24914728]\t 44.655863836006326\t 19.908403246996286\t 3.4117089087595756\t 4.379835009910504\n",
            "2  \t [3.88697252 5.12      ]\t 46.450775683645865\t 19.908403246996286\t 3.2389283766749113\t 3.7231842285171055\n",
            "3  \t [-5.12  5.12]\t 57.849427451571785\t 19.908403246996286\t 2.911883648632516\t 4.194897548922152\n",
            "4  \t [5.12       0.45090997]\t 48.65611125697322\t 19.908403246996286\t 2.757536041053353\t 3.6576655594502148\n",
            "5  \t [ 0.22552388 -5.12      ]\t 37.44374973019177\t 19.908403246996286\t 2.6901777098431663\t 3.13134097179657\n",
            "6  \t [ 1.74853617 -1.37738546]\t 32.222795888850946\t 19.908403246996286\t 2.4773913874581486\t 2.939840779366763\n",
            "7  \t [-5.12        1.53258069]\t 51.0647160737627\t 19.908403246996286\t 2.9310375339906054\t 3.467266340557731\n",
            "8  \t [0.19863511 5.12      ]\t 35.79255289112824\t 19.908403246996286\t 2.877832328437115\t 3.587465002125586\n",
            "\u001b[1m\u001b[92m9\u001b[0m\t \u001b[1m\u001b[92m[2.21092522 2.11554064]\u001b[0m\t \u001b[1m\u001b[92m19.454549090150035\u001b[0m\t \u001b[1m\u001b[92m19.454549090150035\u001b[0m\t \u001b[1m\u001b[92m2.7536860873583664\u001b[0m\t \u001b[1m\u001b[92m3.628050997391763\u001b[0m\n",
            "10 \t [-0.6726546  -2.53193055]\t 41.33326855491575\t 19.454549090150035\t 2.41359964556093\t 3.6881124672559586\n",
            "11 \t [-2.46223865  4.21307825]\t 51.23339063470872\t 19.454549090150035\t 2.779719639181578\t 3.7226104110271274\n",
            "12 \t [5.12       3.00447517]\t 37.95553768641689\t 19.454549090150035\t 3.1569153169090303\t 3.2277083704396285\n",
            "13 \t [ 5.12       -2.07028496]\t 34.170161045900976\t 19.454549090150035\t 2.2462258511888042\t 2.8575709411331083\n",
            "14 \t [-2.83756944  1.23449533]\t 23.374426621392086\t 19.454549090150035\t 2.895078272238554\t 3.2911073235858255\n",
            "\u001b[1m\u001b[92m15\u001b[0m\t \u001b[1m\u001b[92m[0.94828697 0.68430714]\u001b[0m\t \u001b[1m\u001b[92m15.90216451910733\u001b[0m\t \u001b[1m\u001b[92m15.90216451910733\u001b[0m\t \u001b[1m\u001b[92m2.6729463097504422\u001b[0m\t \u001b[1m\u001b[92m3.1001715489325523\u001b[0m\n",
            "16 \t [ 1.87303768 -3.60795081]\t 37.32879306979372\t 15.90216451910733\t 2.800527899146595\t 3.288607573344956\n",
            "17 \t [1.85287988 3.84501747]\t 26.5723094188537\t 15.90216451910733\t 2.918948427225028\t 3.5919568963182424\n",
            "18 \t [-5.12 -5.12]\t 57.849427451571785\t 15.90216451910733\t 2.9553157156651326\t 3.2775803305848066\n",
            "19 \t [-1.77472954 -5.12      ]\t 40.52682040802418\t 15.90216451910733\t 3.2022342142564764\t 3.427999884527288\n",
            "20 \t [2.93576221 0.31845704]\t 23.693527788154448\t 15.90216451910733\t 2.70984194258487\t 3.1599466714976208\n"
          ]
        }
      ],
      "source": [
        "### ESTIMATED STP ERM GRADIENTS\n",
        "\n",
        "np.random.seed(run_num_1)\n",
        "surrogate_approx_1 = dtStudentProcess(cov_func, optimize=opt, nu = df)\n",
        "\n",
        "approx_1 = GPGO_multi(surrogate_approx_1, Acquisition_grad(util), objfunc, param)\n",
        "approx_1.run(init_evals=n_init, max_iter=iters)\n"
      ]
    },
    {
      "cell_type": "code",
      "execution_count": 14,
      "metadata": {
        "id": "wTxsSZxFGBB5",
        "colab": {
          "base_uri": "https://localhost:8080/"
        },
        "outputId": "6ef22771-48fd-4973-c6b5-37be9fb9709e"
      },
      "outputs": [
        {
          "output_type": "stream",
          "name": "stdout",
          "text": [
            "Evaluation \t Proposed point \t  Current eval. \t  Best eval. \t        Exact ERM: StdDev. x \t Approx ERM: StdDev. x \n",
            "init\t [-0.6554122  -4.85451539]\t 43.490296251903594\t 18.964539418712707\t    \t    \n",
            "init\t [ 0.50854377 -0.6622987 ]\t 35.91861667536101\t 18.964539418712707\t    \t    \n",
            "init\t [-0.81543371 -1.73737143]\t 20.479562046739524\t 18.964539418712707\t    \t    \n",
            "init\t [-3.02439799  1.2213347 ]\t 18.964539418712707\t 18.964539418712707\t    \t    \n",
            "init\t [-2.05153614 -2.3876887 ]\t 28.041315668371354\t 18.964539418712707\t    \t    \n",
            "1  \t [ 5.12 -5.12]\t 57.849427451571785\t 18.964539418712707\t 3.829271915346961\t 4.305449800012825\n",
            "2  \t [3.56772614 5.12      ]\t 60.76156002270855\t 18.964539418712707\t 2.7559776342127247\t 3.2676612483137784\n",
            "3  \t [5.12       0.26135448]\t 39.70583775919441\t 18.964539418712707\t 3.4993800502956383\t 4.078625039494353\n",
            "4  \t [-5.12  5.12]\t 57.849427451571785\t 18.964539418712707\t 3.5120478965650626\t 3.8696154362784956\n",
            "5  \t [-5.12 -5.12]\t 57.849427451571785\t 18.964539418712707\t 3.4840924819335695\t 3.920620366744759\n",
            "6  \t [-0.7721413  5.12     ]\t 38.13422006580004\t 18.964539418712707\t 3.5060570405135834\t 3.5093042721541043\n",
            "7  \t [-5.12       -1.23480628]\t 39.49625980552859\t 18.964539418712707\t 2.9871386281231627\t 3.0277058946029776\n",
            "8  \t [1.48614869 2.38387913]\t 45.30802165928564\t 18.964539418712707\t 2.2086349672327787\t 2.0545498580567663\n",
            "9  \t [ 2.84357928 -2.7483034 ]\t 30.198933072900978\t 18.964539418712707\t 2.9718509329802476\t 3.4139260388911374\n",
            "10 \t [-5.12        2.10629749]\t 35.509881292225174\t 18.964539418712707\t 3.0045912196861466\t 3.3567049738844443\n",
            "11 \t [5.12       2.88824825]\t 39.632183187361775\t 18.964539418712707\t 2.7191669131238925\t 3.452056053950121\n",
            "12 \t [ 2.07506103 -5.12      ]\t 34.32226838181667\t 18.964539418712707\t 2.8637255886412643\t 3.103998363027838\n",
            "13 \t [-1.25566981  2.45758457]\t 37.61957297122919\t 18.964539418712707\t 3.0722905455903815\t 2.916298546839391\n",
            "14 \t [ 5.12       -2.28826051]\t 46.541740769485436\t 18.964539418712707\t 2.8844264466060263\t 2.977201460784454\n",
            "\u001b[1m\u001b[92m15\u001b[0m\t \u001b[1m\u001b[92m[2.77922713 0.02828786]\u001b[0m\t \u001b[1m\u001b[92m16.056351485093266\u001b[0m\t \u001b[1m\u001b[92m16.056351485093266\u001b[0m\t \u001b[1m\u001b[92m2.943660422571108\u001b[0m\t \u001b[1m\u001b[92m3.1029050951241746\u001b[0m\n",
            "16 \t [-2.97713147  4.05240926]\t 25.925686449607724\t 16.056351485093266\t 3.2311602475276437\t 2.8221166343878084\n",
            "17 \t [-2.81065179 -5.12      ]\t 43.10518552492959\t 16.056351485093266\t 3.2488706757582384\t 2.811860546025425\n",
            "18 \t [1.26683015 5.12      ]\t 41.58507189680377\t 16.056351485093266\t 2.631929169779862\t 3.0267939689239323\n",
            "19 \t [ 0.73832192 -3.0625009 ]\t 21.418354249643492\t 16.056351485093266\t 2.7249504825856667\t 2.862504911957715\n",
            "20 \t [-2.36204819 -0.32876536]\t 36.90963940003534\t 16.056351485093266\t 3.0776775062703985\t 2.697110404462171\n"
          ]
        }
      ],
      "source": [
        "### ESTIMATED STP ERM GRADIENTS\n",
        "\n",
        "np.random.seed(run_num_2)\n",
        "surrogate_approx_2 = dtStudentProcess(cov_func, optimize=opt, nu = df)\n",
        "\n",
        "approx_2 = GPGO_multi(surrogate_approx_2, Acquisition_grad(util), objfunc, param)\n",
        "approx_2.run(init_evals=n_init, max_iter=iters)\n"
      ]
    },
    {
      "cell_type": "code",
      "execution_count": 15,
      "metadata": {
        "id": "-dgzIrUIGCGT",
        "colab": {
          "base_uri": "https://localhost:8080/"
        },
        "outputId": "64448808-72a7-4977-a291-8ecf0cd8a823"
      },
      "outputs": [
        {
          "output_type": "stream",
          "name": "stdout",
          "text": [
            "Evaluation \t Proposed point \t  Current eval. \t  Best eval. \t        Exact ERM: StdDev. x \t Approx ERM: StdDev. x \n",
            "init\t [0.52017052 2.1314337 ]\t 27.953858411008774\t 10.607662635789808\t    \t    \n",
            "init\t [-2.14113547  0.11087468]\t 10.607662635789808\t 10.607662635789808\t    \t    \n",
            "init\t [4.02377681 4.05804123]\t 33.42749829480097\t 10.607662635789808\t    \t    \n",
            "init\t [-3.83400642 -2.99783293]\t 28.650953928965198\t 10.607662635789808\t    \t    \n",
            "init\t [-4.59297584 -0.6061072 ]\t 57.6631355589384\t 10.607662635789808\t    \t    \n",
            "1  \t [ 2.87042319 -1.98283743]\t 15.364229918613852\t 10.607662635789808\t 2.5001316621260035\t 2.787389595261731\n",
            "2  \t [-5.12  5.12]\t 57.849427451571785\t 10.607662635789808\t 3.0319382582865906\t 4.074179990657981\n",
            "3  \t [ 0.0504508 -5.12     ]\t 29.425484835232822\t 10.607662635789808\t 2.514396769352561\t 3.7703272082263375\n",
            "4  \t [ 5.12 -5.12]\t 57.849427451571785\t 10.607662635789808\t 3.261563758172618\t 3.1885364675169754\n",
            "5  \t [5.12       0.53388251]\t 48.983987929572464\t 10.607662635789808\t 2.6349045386071817\t 3.3268335906914803\n",
            "6  \t [-1.23918377  5.12      ]\t 39.78120938416245\t 10.607662635789808\t 2.961279705430035\t 3.0649465245842618\n",
            "7  \t [-0.16488308 -1.8217094 ]\t 13.89434714127069\t 10.607662635789808\t 2.862126180230269\t 2.8063572715891856\n",
            "8  \t [-3.19687262  2.51070135]\t 43.22457588240896\t 10.607662635789808\t 3.1488143853279476\t 3.314624856654091\n",
            "9  \t [-2.44691608 -5.12      ]\t 54.36101771149289\t 10.607662635789808\t 2.57803782305158\t 2.732661385901107\n",
            "10 \t [1.57301593 5.12      ]\t 50.36505997095942\t 10.607662635789808\t 3.011672014303649\t 3.266037230736871\n",
            "11 \t [-5.12 -5.12]\t 57.849427451571785\t 10.607662635789808\t 2.8023954179880604\t 2.7285491172780136\n",
            "12 \t [2.11870948 0.2289754 ]\t 15.879230301839584\t 10.607662635789808\t 2.6532715197246652\t 2.959806258653172\n",
            "13 \t [ 5.12       -2.28814109]\t 46.533906072596686\t 10.607662635789808\t 3.280966338306408\t 3.40407273593956\n",
            "14 \t [ 2.3879931 -4.436074 ]\t 62.20954522203627\t 10.607662635789808\t 2.773658845094992\t 2.9583291739874538\n",
            "15 \t [2.92241354 2.10264535]\t 16.13514544150876\t 10.607662635789808\t 2.837051580685186\t 2.9087754938486485\n",
            "16 \t [-0.29138326  0.07233257]\t 13.676223301457902\t 10.607662635789808\t 2.9476684539717293\t 2.306431789072648\n",
            "17 \t [-1.88126835 -2.13237575]\t 14.006291944938013\t 10.607662635789808\t 3.4128450965634185\t 2.8127436718867687\n",
            "18 \t [5.12 5.12]\t 57.849427451571785\t 10.607662635789808\t 2.8978995772013447\t 2.744047410883871\n",
            "19 \t [ 1.32347927 -1.68489344]\t 33.02264906048084\t 10.607662635789808\t 2.3123707194053686\t 2.581133770812231\n",
            "20 \t [-5.12        1.97557576]\t 32.94513533784801\t 10.607662635789808\t 2.5372730333414775\t 2.589635449517394\n"
          ]
        }
      ],
      "source": [
        "### ESTIMATED STP ERM GRADIENTS\n",
        "\n",
        "np.random.seed(run_num_3)\n",
        "surrogate_approx_3 = dtStudentProcess(cov_func, optimize=opt, nu = df)\n",
        "\n",
        "approx_3 = GPGO_multi(surrogate_approx_3, Acquisition_grad(util), objfunc, param)\n",
        "approx_3.run(init_evals=n_init, max_iter=iters)\n"
      ]
    },
    {
      "cell_type": "code",
      "execution_count": 16,
      "metadata": {
        "id": "hOtG-2sCGCKS",
        "colab": {
          "base_uri": "https://localhost:8080/"
        },
        "outputId": "43c67501-f50f-4827-de04-0bfa920183f0"
      },
      "outputs": [
        {
          "output_type": "stream",
          "name": "stdout",
          "text": [
            "Evaluation \t Proposed point \t  Current eval. \t  Best eval. \t        Exact ERM: StdDev. x \t Approx ERM: StdDev. x \n",
            "init\t [4.78238555 0.48365823]\t 51.03163809010808\t 14.323038259018315\t    \t    \n",
            "init\t [4.84028785 2.19971578]\t 39.78645699016559\t 14.323038259018315\t    \t    \n",
            "init\t [ 2.02474316 -2.90724357]\t 14.323038259018315\t 14.323038259018315\t    \t    \n",
            "init\t [ 4.87705042 -5.05620219]\t 52.80627247106233\t 14.323038259018315\t    \t    \n",
            "init\t [-2.52946061 -0.66773471]\t 41.61497868486559\t 14.323038259018315\t    \t    \n",
            "1  \t [-5.12        4.70342989]\t 63.931476122515704\t 14.323038259018315\t 2.8385678702776023\t 3.9165474383674814\n",
            "2  \t [0.36380399 5.12      ]\t 45.613630459065135\t 14.323038259018315\t 3.5642281336250856\t 3.816072219483275\n",
            "3  \t [-5.12 -5.12]\t 57.849427451571785\t 14.323038259018315\t 3.5443797370071146\t 3.4491692028203866\n",
            "4  \t [-0.9598071 -5.12     ]\t 30.163133040003217\t 14.323038259018315\t 3.0388046555998276\t 3.116778027076661\n",
            "\u001b[1m\u001b[92m5\u001b[0m\t \u001b[1m\u001b[92m[0.85404124 1.14424928]\u001b[0m\t \u001b[1m\u001b[92m9.791060008711353\u001b[0m\t \u001b[1m\u001b[92m9.791060008711353\u001b[0m\t \u001b[1m\u001b[92m2.7917222395001864\u001b[0m\t \u001b[1m\u001b[92m3.346519248719438\u001b[0m\n",
            "6  \t [-2.14797592  2.71790551]\t 28.023464763643563\t 9.791060008711353\t 3.0809987376247094\t 3.2166034168460027\n",
            "7  \t [3.91700444 5.12      ]\t 45.59679145593631\t 9.791060008711353\t 2.7952860389621863\t 3.419106406638157\n",
            "8  \t [-5.12        1.12163699]\t 32.96389049701939\t 9.791060008711353\t 2.7769893223469224\t 3.202611352730376\n",
            "9  \t [-5.12      -2.0288363]\t 33.20457976030019\t 9.791060008711353\t 2.52154712342404\t 2.6071688229425374\n",
            "10 \t [ 0.27188224 -1.30513019]\t 26.542933077076714\t 9.791060008711353\t 2.683306038865327\t 2.6656557096863875\n",
            "11 \t [ 5.12       -2.25369094]\t 44.235724602294304\t 9.791060008711353\t 3.183617685056546\t 3.0657728530593618\n",
            "12 \t [ 1.82284604 -5.12      ]\t 37.82857494882886\t 9.791060008711353\t 2.7260105745824577\t 2.9424817528228617\n",
            "13 \t [2.07359363 2.79529045]\t 20.35617438174488\t 9.791060008711353\t 2.8157884924425214\t 2.9875108785204425\n",
            "14 \t [-2.64043668 -3.36652672]\t 51.34325154776408\t 9.791060008711353\t 2.6020294810351183\t 2.458181953115886\n",
            "15 \t [-2.34549572  5.12      ]\t 50.0726315459732\t 9.791060008711353\t 2.2672739222122757\t 2.604676721308047\n",
            "16 \t [ 2.45152299 -0.49095398]\t 45.774552354229165\t 9.791060008711353\t 2.722550531330718\t 2.5158853939395556\n",
            "17 \t [-0.73030034  1.12257699]\t 15.850230187867693\t 9.791060008711353\t 2.817255720767264\t 2.452362722659934\n",
            "18 \t [ 0.04244263 -3.25080659]\t 20.9736997928676\t 9.791060008711353\t 2.9011454069326756\t 2.958653989619346\n",
            "19 \t [0.02166337 2.90108854]\t 10.379095475468823\t 9.791060008711353\t 2.695399247676661\t 2.953881773430788\n",
            "20 \t [ 3.63667218 -1.57258162]\t 51.21035977055178\t 9.791060008711353\t 2.7852413551380515\t 2.799871899530178\n"
          ]
        }
      ],
      "source": [
        "### ESTIMATED STP ERM GRADIENTS\n",
        "\n",
        "np.random.seed(run_num_4)\n",
        "surrogate_approx_4 = dtStudentProcess(cov_func, optimize=opt, nu = df)\n",
        "\n",
        "approx_4= GPGO_multi(surrogate_approx_4, Acquisition_grad(util), objfunc, param)\n",
        "approx_4.run(init_evals=n_init, max_iter=iters)\n"
      ]
    },
    {
      "cell_type": "code",
      "execution_count": 17,
      "metadata": {
        "id": "JF_SxcEvGCOl",
        "colab": {
          "base_uri": "https://localhost:8080/"
        },
        "outputId": "6800c5c9-d6c9-4551-ff97-b8ae7d8a2449"
      },
      "outputs": [
        {
          "output_type": "stream",
          "name": "stdout",
          "text": [
            "Evaluation \t Proposed point \t  Current eval. \t  Best eval. \t        Exact ERM: StdDev. x \t Approx ERM: StdDev. x \n",
            "init\t [-2.84678993  3.79629882]\t 33.93442008827236\t 7.8108627039749745\t    \t    \n",
            "init\t [-3.00319585  4.2865757 ]\t 39.673876075575784\t 7.8108627039749745\t    \t    \n",
            "init\t [-0.11866943  1.14425716]\t 7.8108627039749745\t 7.8108627039749745\t    \t    \n",
            "init\t [2.72289645 0.1886002 ]\t 25.38160395721669\t 7.8108627039749745\t    \t    \n",
            "init\t [-2.08076286 -3.19773462]\t 22.589982116319675\t 7.8108627039749745\t    \t    \n",
            "1  \t [ 5.12       -4.82446982]\t 57.69002443785672\t 7.8108627039749745\t 4.366514082960086\t 4.549475035449732\n",
            "2  \t [5.12 5.12]\t 57.849427451571785\t 7.8108627039749745\t 3.9853097918798666\t 4.208754245003676\n",
            "3  \t [-5.12       -0.04629139]\t 29.34687313754446\t 7.8108627039749745\t 3.3602023777238865\t 4.031070594630411\n",
            "4  \t [1.00368657 5.12      ]\t 29.93478304805204\t 7.8108627039749745\t 3.3609142371707326\t 3.8084049960642194\n",
            "5  \t [-5.12 -5.12]\t 57.849427451571785\t 7.8108627039749745\t 3.345687822839029\t 3.4294144153839263\n",
            "6  \t [ 1.10671714 -5.12      ]\t 32.31457220129036\t 7.8108627039749745\t 3.2491735073070553\t 3.585138369201371\n",
            "7  \t [ 5.12       -1.43628275]\t 50.19687895413294\t 7.8108627039749745\t 2.2765523533110334\t 2.4943295161133765\n",
            "8  \t [ 0.60411835 -1.88347726]\t 24.41033043641587\t 7.8108627039749745\t 3.11658919164605\t 2.8359759686560553\n",
            "9  \t [5.12       1.92703968]\t 33.67068175815106\t 7.8108627039749745\t 2.9877381516043915\t 3.177798168222967\n",
            "10 \t [-2.21400046 -0.02746103]\t 12.808358582601349\t 7.8108627039749745\t 2.7663599452151253\t 2.718915434356554\n",
            "11 \t [2.20067118 2.79101913]\t 27.033836417573\t 7.8108627039749745\t 2.8748569976853635\t 3.475993382958463\n",
            "12 \t [-5.12  5.12]\t 57.849427451571785\t 7.8108627039749745\t 2.7902353155202064\t 3.0979046995662904\n",
            "13 \t [-5.12       -2.42579966]\t 53.741980762570755\t 7.8108627039749745\t 2.8035626925044226\t 3.1770082509498727\n",
            "14 \t [-5.12        2.28691219]\t 46.45320622204243\t 7.8108627039749745\t 2.4811616541315757\t 2.477466369108884\n",
            "15 \t [-1.64521143 -5.12      ]\t 47.75000287225053\t 7.8108627039749745\t 2.26257941932139\t 2.3993314009757643\n",
            "16 \t [ 2.79996172 -3.03996452]\t 24.306901756022732\t 7.8108627039749745\t 2.3962401408578895\t 2.426487281931836\n",
            "17 \t [-0.53514554  2.97541048]\t 29.015731789274874\t 7.8108627039749745\t 2.3325491924884414\t 2.556006404323372\n",
            "18 \t [-2.58039826  1.55904372]\t 47.159772322510506\t 7.8108627039749745\t 2.356483733195618\t 2.5769361840126765\n",
            "19 \t [-1.37588114 -1.30980679]\t 34.38870589584491\t 7.8108627039749745\t 2.8017546637358732\t 2.561797588193135\n",
            "20 \t [-1.0533987  5.12     ]\t 30.591950415334097\t 7.8108627039749745\t 2.6402828344379787\t 2.5409470578296833\n"
          ]
        }
      ],
      "source": [
        "### ESTIMATED STP ERM GRADIENTS\n",
        "\n",
        "np.random.seed(run_num_5)\n",
        "surrogate_approx_5 = dtStudentProcess(cov_func, optimize=opt, nu = df)\n",
        "\n",
        "approx_5 = GPGO_multi(surrogate_approx_5, Acquisition_grad(util), objfunc, param)\n",
        "approx_5.run(init_evals=n_init, max_iter=iters)\n"
      ]
    },
    {
      "cell_type": "code",
      "execution_count": 18,
      "metadata": {
        "id": "-kDxZtJsGCR3",
        "colab": {
          "base_uri": "https://localhost:8080/"
        },
        "outputId": "2ab2f2df-23f3-409c-c389-60ff2256deee"
      },
      "outputs": [
        {
          "output_type": "stream",
          "name": "stdout",
          "text": [
            "Evaluation \t Proposed point \t  Current eval. \t  Best eval. \t        Exact ERM: StdDev. x \t Approx ERM: StdDev. x \n",
            "init\t [ 4.02288795 -1.72052679]\t 31.08835710146886\t 17.28954482757088\t    \t    \n",
            "init\t [ 3.28938622 -4.69302655]\t 58.797867722203385\t 17.28954482757088\t    \t    \n",
            "init\t [-4.0175956   0.97333314]\t 17.28954482757088\t 17.28954482757088\t    \t    \n",
            "init\t [ 0.30532979 -0.83141193]\t 19.296253155889353\t 17.28954482757088\t    \t    \n",
            "init\t [-1.68542362  1.25459899]\t 28.650630936276173\t 17.28954482757088\t    \t    \n",
            "1  \t [-3.54510677 -4.84392596]\t 60.06757205725741\t 17.28954482757088\t 3.740609366195705\t 4.268656808767541\n",
            "2  \t [4.84765205 3.82634403]\t 47.76778702673167\t 17.28954482757088\t 3.519611671676273\t 3.99345616873269\n",
            "3  \t [-5.12  5.12]\t 57.849427451571785\t 17.28954482757088\t 3.31463550041639\t 3.8494490115339275\n",
            "4  \t [0.36793566 5.12      ]\t 45.81043660807117\t 17.28954482757088\t 3.1568072451375047\t 3.5052986504525796\n",
            "5  \t [2.09021399 1.7700802 ]\t 17.807779504857518\t 17.28954482757088\t 2.991641674394496\t 2.97737350445739\n",
            "6  \t [-0.141067   -4.30496667]\t 35.61560592093518\t 17.28954482757088\t 3.312456098229258\t 3.668892841355664\n",
            "7  \t [-5.12       -1.80918786]\t 38.5641213909296\t 17.28954482757088\t 3.103953014035537\t 2.9333421302838953\n",
            "8  \t [5.12       0.83316917]\t 34.62782017633284\t 17.28954482757088\t 2.741727097377926\t 3.42388386473757\n",
            "\u001b[1m\u001b[92m9\u001b[0m\t \u001b[1m\u001b[92m[-2.16447815 -1.85524299]\u001b[0m\t \u001b[1m\u001b[92m16.867155746343286\u001b[0m\t \u001b[1m\u001b[92m16.867155746343286\u001b[0m\t \u001b[1m\u001b[92m2.7688185116693402\u001b[0m\t \u001b[1m\u001b[92m3.3176416785079867\u001b[0m\n",
            "10 \t [-2.37511925  4.11425883]\t 42.11285493557369\t 16.867155746343286\t 3.128044443488157\t 3.362466491662121\n",
            "11 \t [2.83003735 5.12      ]\t 42.114232190052334\t 16.867155746343286\t 2.754916793981537\t 3.2215466203896543\n",
            "12 \t [-5.12       2.4923586]\t 55.12504141511309\t 16.867155746343286\t 2.5521995207294608\t 3.0606829688548145\n",
            "13 \t [ 1.86015549 -2.71347372]\t 26.716273356905372\t 16.867155746343286\t 2.868708320446601\t 3.3666954917033256\n",
            "14 \t [0.20347619 2.54163639]\t 33.27934477527095\t 16.867155746343286\t 2.590802116264624\t 2.5770766743556583\n",
            "15 \t [ 2.39523554 -0.10404831]\t 25.720532938507898\t 16.867155746343286\t 2.9622908687060763\t 2.9837873844998906\n",
            "16 \t [ 5.12       -3.48265211]\t 60.99423323047568\t 16.867155746343286\t 2.8416524043518074\t 3.071064178691275\n",
            "17 \t [-3.17046184 -0.44110025]\t 34.77730153222562\t 16.867155746343286\t 3.323625635251742\t 3.631239851663075\n",
            "18 \t [-0.62897176 -2.3578189 ]\t 39.11539084232864\t 16.867155746343286\t 3.3213704854111112\t 3.1872485383635523\n",
            "19 \t [3.38859708 2.33248904]\t 49.52572976712916\t 16.867155746343286\t 3.2139389710917774\t 2.99942774043129\n",
            "20 \t [0.43888525 0.65012512]\t 35.75852669597506\t 16.867155746343286\t 3.30090598209077\t 2.977596198044673\n"
          ]
        }
      ],
      "source": [
        "### ESTIMATED STP ERM GRADIENTS\n",
        "\n",
        "np.random.seed(run_num_6)\n",
        "surrogate_approx_6 = dtStudentProcess(cov_func, optimize=opt, nu = df)\n",
        "\n",
        "approx_6 = GPGO_multi(surrogate_approx_6, Acquisition_grad(util), objfunc, param)\n",
        "approx_6.run(init_evals=n_init, max_iter=iters)\n"
      ]
    },
    {
      "cell_type": "code",
      "execution_count": 19,
      "metadata": {
        "id": "fKB8MCD_GCVI",
        "colab": {
          "base_uri": "https://localhost:8080/"
        },
        "outputId": "22155581-52c2-4727-e060-71e1e55bcca1"
      },
      "outputs": [
        {
          "output_type": "stream",
          "name": "stdout",
          "text": [
            "Evaluation \t Proposed point \t  Current eval. \t  Best eval. \t        Exact ERM: StdDev. x \t Approx ERM: StdDev. x \n",
            "init\t [-4.33860312  2.86636843]\t 45.646133072936244\t 22.52235437888213\t    \t    \n",
            "init\t [-0.63068947  2.28828342]\t 34.83012662845338\t 22.52235437888213\t    \t    \n",
            "init\t [4.8946126  0.39419771]\t 44.09657005662876\t 22.52235437888213\t    \t    \n",
            "init\t [ 0.01147355 -4.38219639]\t 36.613209822404315\t 22.52235437888213\t    \t    \n",
            "init\t [-2.37118484e+00 -1.20319155e-03]\t 22.52235437888213\t 22.52235437888213\t    \t    \n",
            "1  \t [-5.12 -5.12]\t 57.849427451571785\t 22.52235437888213\t 3.134600234870904\t 3.94443685311841\n",
            "2  \t [ 5.12 -5.12]\t 57.849427451571785\t 22.52235437888213\t 3.4510380562374894\t 4.070354242067437\n",
            "3  \t [3.59280883 5.12      ]\t 60.18039355746264\t 22.52235437888213\t 3.5690457085238623\t 3.473928001075943\n",
            "4  \t [-4.02558214 -1.33646422]\t 33.289738493146906\t 22.52235437888213\t 2.8760802494128046\t 3.046307140328312\n",
            "\u001b[1m\u001b[92m5\u001b[0m\t \u001b[1m\u001b[92m[ 1.40596908 -0.96120703]\u001b[0m\t \u001b[1m\u001b[92m21.501131277957086\u001b[0m\t \u001b[1m\u001b[92m21.501131277957086\u001b[0m\t \u001b[1m\u001b[92m3.0084426757961924\u001b[0m\t \u001b[1m\u001b[92m2.905396621275374\u001b[0m\n",
            "6  \t [-1.80943015  5.12      ]\t 38.55081965028002\t 21.501131277957086\t 3.0925129812172467\t 3.7328362600140896\n",
            "7  \t [2.33857999 2.13175738]\t 28.531505857307515\t 21.501131277957086\t 2.614090114858092\t 2.9626291401260882\n",
            "8  \t [ 3.59137344 -2.53585535]\t 57.47255434934337\t 21.501131277957086\t 2.9990456315811462\t 3.8481234114399343\n",
            "9  \t [-2.52657358 -3.63759631]\t 55.96649290971503\t 21.501131277957086\t 3.3626268279426696\t 3.590612345285189\n",
            "10 \t [-5.12  5.12]\t 57.849427451571785\t 21.501131277957086\t 3.1273554795568015\t 3.164908748396186\n",
            "11 \t [0.80763649 5.12      ]\t 36.03422081632108\t 21.501131277957086\t 2.9160273376003296\t 3.0092342968898227\n",
            "12 \t [5.12       2.99508958]\t 37.90003452049612\t 21.501131277957086\t 2.985237430132489\t 3.025435407092515\n",
            "13 \t [ 2.32969191 -5.12      ]\t 49.15274257616097\t 21.501131277957086\t 3.0957730288683307\t 3.364403114268679\n",
            "14 \t [-0.66136937 -1.56581566]\t 37.33168502838527\t 21.501131277957086\t 2.5798850873861223\t 2.8095806872185833\n",
            "15 \t [-5.12        0.59513445]\t 47.544953299973635\t 21.501131277957086\t 3.0830842991250744\t 3.0512534440032604\n",
            "16 \t [ 1.48938929 -2.9750096 ]\t 31.169769217947067\t 21.501131277957086\t 2.622413006426708\t 2.8318281005702715\n",
            "17 \t [-5.12       -2.78503248]\t 44.497695553332036\t 21.501131277957086\t 2.472628995365678\t 2.98392885815108\n",
            "18 \t [0.657517   0.65210713]\t 32.11713833190923\t 21.501131277957086\t 2.7760343068074715\t 3.0743403059729135\n",
            "19 \t [-2.51490636  1.92812609]\t 31.001083027531536\t 21.501131277957086\t 2.983702008907004\t 3.1546418006527297\n",
            "\u001b[1m\u001b[92m20\u001b[0m\t \u001b[1m\u001b[92m[ 2.89478264 -0.01728755]\u001b[0m\t \u001b[1m\u001b[92m10.545827706817219\u001b[0m\t \u001b[1m\u001b[92m10.545827706817219\u001b[0m\t \u001b[1m\u001b[92m2.945485933593049\u001b[0m\t \u001b[1m\u001b[92m2.906313513513735\u001b[0m\n"
          ]
        }
      ],
      "source": [
        "### ESTIMATED STP ERM GRADIENTS\n",
        "\n",
        "np.random.seed(run_num_7)\n",
        "surrogate_approx_7 = dtStudentProcess(cov_func, optimize=opt, nu = df)\n",
        "\n",
        "approx_7 = GPGO_multi(surrogate_approx_7, Acquisition_grad(util), objfunc, param)\n",
        "approx_7.run(init_evals=n_init, max_iter=iters)\n"
      ]
    },
    {
      "cell_type": "code",
      "execution_count": 20,
      "metadata": {
        "id": "4unvifF-GCXp",
        "colab": {
          "base_uri": "https://localhost:8080/"
        },
        "outputId": "a4e3d47e-fe8c-432f-9cf0-0e551600dafc"
      },
      "outputs": [
        {
          "output_type": "stream",
          "name": "stdout",
          "text": [
            "Evaluation \t Proposed point \t  Current eval. \t  Best eval. \t        Exact ERM: StdDev. x \t Approx ERM: StdDev. x \n",
            "init\t [3.82391708 4.79785639]\t 50.20079446939181\t 13.871821018360485\t    \t    \n",
            "init\t [3.78055209 0.31596228]\t 36.5114251593508\t 13.871821018360485\t    \t    \n",
            "init\t [-2.73686192 -5.00327624]\t 43.34985765011677\t 13.871821018360485\t    \t    \n",
            "init\t [-0.7119993  -0.99992207]\t 13.871821018360485\t 13.871821018360485\t    \t    \n",
            "init\t [ 0.23218863 -0.22126801]\t 17.190590355445654\t 13.871821018360485\t    \t    \n",
            "1  \t [-3.1401168  5.12     ]\t 42.41646365801475\t 13.871821018360485\t 3.2014202508474447\t 3.9952746002426327\n",
            "2  \t [ 5.12 -5.12]\t 57.849427451571785\t 13.871821018360485\t 3.3857022646495305\t 3.8295005623915377\n",
            "3  \t [-5.12        0.36894383]\t 45.85777883462702\t 13.871821018360485\t 2.6876273040739664\t 3.381822111943218\n",
            "4  \t [ 1.18397826 -4.40990397]\t 45.25878771332902\t 13.871821018360485\t 3.0542395426326387\t 3.5357325585042565\n",
            "5  \t [0.23149619 3.35080399]\t 36.04011280754845\t 13.871821018360485\t 2.923493451554612\t 3.136489939383138\n",
            "6  \t [-5.12       -2.94462212]\t 38.194774591017186\t 13.871821018360485\t 3.082713738603525\t 3.417410998953735\n",
            "7  \t [-2.35489643  1.72137413]\t 36.421528180447744\t 13.871821018360485\t 2.867556801106904\t 3.407023489455656\n",
            "8  \t [ 5.12       -2.11446601]\t 35.87242351813851\t 13.871821018360485\t 2.940404453246233\t 3.4373868051918417\n",
            "9  \t [-5.12        3.31168401]\t 53.67138162205604\t 13.871821018360485\t 2.9468955217321566\t 3.3598670322722426\n",
            "10 \t [-2.66433174 -1.79099946]\t 32.88517822553972\t 13.871821018360485\t 2.499301612108381\t 3.0430291512542786\n",
            "11 \t [5.12       2.45336922]\t 54.517580626333164\t 13.871821018360485\t 2.8183663115012467\t 3.4198937203459727\n",
            "12 \t [ 2.14598428 -1.87146223]\t 15.11537725340266\t 13.871821018360485\t 2.4865552985337143\t 2.7156680946122838\n",
            "13 \t [1.90426299 1.73594973]\t 19.276709116450434\t 13.871821018360485\t 2.0399900236137958\t 2.863503454961756\n",
            "14 \t [-5.12 -5.12]\t 57.849427451571785\t 13.871821018360485\t 2.8109274612969104\t 3.359900987885275\n",
            "15 \t [1.28131633 5.12      ]\t 42.52147613125699\t 13.871821018360485\t 2.779008487002178\t 2.7947278588297593\n",
            "16 \t [-0.77564611 -3.13532154]\t 22.22948931769442\t 13.871821018360485\t 2.960488840011328\t 3.0908500059886617\n",
            "17 \t [-1.0485368  5.12     ]\t 30.485570667543286\t 13.871821018360485\t 3.0656778635210973\t 2.9800756057727757\n",
            "18 \t [ 3.26718046 -3.47416851]\t 53.6902754608513\t 13.871821018360485\t 2.8670837766659028\t 2.5994368456193415\n",
            "19 \t [-0.27768166  1.35329113]\t 29.682916964981192\t 13.871821018360485\t 2.909769290781637\t 2.5027848519967395\n",
            "20 \t [-0.69556439 -5.12      ]\t 42.76251613074587\t 13.871821018360485\t 2.402571151188619\t 2.774207845588576\n"
          ]
        }
      ],
      "source": [
        "### ESTIMATED STP ERM GRADIENTS\n",
        "\n",
        "np.random.seed(run_num_8)\n",
        "surrogate_approx_8 = dtStudentProcess(cov_func, optimize=opt, nu = df)\n",
        "\n",
        "approx_8 = GPGO_multi(surrogate_approx_8, Acquisition_grad(util), objfunc, param)\n",
        "approx_8.run(init_evals=n_init, max_iter=iters)\n"
      ]
    },
    {
      "cell_type": "code",
      "execution_count": 21,
      "metadata": {
        "id": "85OIXcg7GCaJ",
        "colab": {
          "base_uri": "https://localhost:8080/"
        },
        "outputId": "5b26f257-f384-4bdf-c71d-94e2a5de10ea"
      },
      "outputs": [
        {
          "output_type": "stream",
          "name": "stdout",
          "text": [
            "Evaluation \t Proposed point \t  Current eval. \t  Best eval. \t        Exact ERM: StdDev. x \t Approx ERM: StdDev. x \n",
            "init\t [-5.01376866  0.01919582]\t 25.248289026162446\t 24.454800313488693\t    \t    \n",
            "init\t [-0.04328148 -3.74958562]\t 24.454800313488693\t 24.454800313488693\t    \t    \n",
            "init\t [-3.66478248 -2.88195916]\t 39.46509426509438\t 24.454800313488693\t    \t    \n",
            "init\t [-0.83447623 -2.57944404]\t 31.06766397812992\t 24.454800313488693\t    \t    \n",
            "init\t [-4.25922917 -1.58209393]\t 49.922543556206975\t 24.454800313488693\t    \t    \n",
            "1  \t [3.69491889 4.82146316]\t 55.95031066333101\t 24.454800313488693\t 2.516509494609229\t 3.0899578839515343\n",
            "2  \t [-2.61779553  5.12      ]\t 53.161368294726\t 24.454800313488693\t 3.109897447997611\t 4.01249884395081\n",
            "3  \t [ 5.06403656 -0.70588689]\t 39.677679335037084\t 24.454800313488693\t 2.6404024657407787\t 3.0577920366979328\n",
            "4  \t [ 4.50367097 -5.12      ]\t 69.20510599094833\t 24.454800313488693\t 2.845745988358509\t 3.443943890304856\n",
            "5  \t [0.45360746 1.59208424]\t 40.691038148986536\t 24.454800313488693\t 3.3273563323769855\t 2.858262442382085\n",
            "6  \t [-5.12        3.07985964]\t 39.64293712604188\t 24.454800313488693\t 2.3392840708421825\t 3.307783648995701\n",
            "7  \t [0.53813051 5.12      ]\t 48.92867287693966\t 24.454800313488693\t 2.6467487324133563\t 2.8796457667960036\n",
            "8  \t [ 2.08691484 -1.45765459]\t 27.582548653880266\t 24.454800313488693\t 2.7882031485463648\t 2.4167744741568598\n",
            "9  \t [-5.12 -5.12]\t 57.849427451571785\t 24.454800313488693\t 3.0798993307972253\t 3.6537261898194986\n",
            "10 \t [-2.4529591   1.37416197]\t 44.505439117002965\t 24.454800313488693\t 2.8624201536381673\t 3.162083748419632\n",
            "11 \t [5.12       2.19826435]\t 40.56337926016325\t 24.454800313488693\t 2.8812752668172203\t 3.664718550316877\n",
            "12 \t [-2.0561411 -5.12     ]\t 33.76815057909849\t 24.454800313488693\t 2.4626414164992263\t 3.33473785290496\n",
            "13 \t [ 1.65979339 -5.12      ]\t 47.048851878987676\t 24.454800313488693\t 2.574361518348718\t 2.383192678150756\n",
            "\u001b[1m\u001b[92m14\u001b[0m\t \u001b[1m\u001b[92m[2.85903256 1.13460282]\u001b[0m\t \u001b[1m\u001b[92m16.50228723085845\u001b[0m\t \u001b[1m\u001b[92m16.50228723085845\u001b[0m\t \u001b[1m\u001b[92m2.38980192533572\u001b[0m\t \u001b[1m\u001b[92m2.5583022451214794\u001b[0m\n",
            "15 \t [-0.74843348 -0.51113489]\t 30.895373411350086\t 16.50228723085845\t 2.7218758530473512\t 2.843661335641329\n",
            "16 \t [-5.12  5.12]\t 57.849427451571785\t 16.50228723085845\t 2.766566292048641\t 3.0018973311489865\n",
            "17 \t [2.17748086 3.0235739 ]\t 19.59244637403554\t 16.50228723085845\t 2.4132759281655685\t 2.6407515738316243\n",
            "18 \t [ 5.12       -2.82089561]\t 42.57352348918354\t 16.50228723085845\t 2.6129894480242104\t 3.051776508362624\n",
            "19 \t [-1.09359065  3.30040668]\t 26.882831818960945\t 16.50228723085845\t 2.86725631549787\t 2.952594312462182\n",
            "20 \t [ 2.83155898 -3.2288215 ]\t 32.2131117814734\t 16.50228723085845\t 3.0091548271822246\t 2.876145250526521\n"
          ]
        }
      ],
      "source": [
        "### ESTIMATED STP ERM GRADIENTS\n",
        "\n",
        "np.random.seed(run_num_9)\n",
        "surrogate_approx_9 = dtStudentProcess(cov_func, optimize=opt, nu = df)\n",
        "\n",
        "approx_9 = GPGO_multi(surrogate_approx_9, Acquisition_grad(util), objfunc, param)\n",
        "approx_9.run(init_evals=n_init, max_iter=iters)\n"
      ]
    },
    {
      "cell_type": "code",
      "execution_count": 22,
      "metadata": {
        "id": "QQBR-qJPGCcp",
        "colab": {
          "base_uri": "https://localhost:8080/"
        },
        "outputId": "dc70d1ed-d7af-4771-f035-7abe3ad2de2a"
      },
      "outputs": [
        {
          "output_type": "stream",
          "name": "stdout",
          "text": [
            "Evaluation \t Proposed point \t  Current eval. \t  Best eval. \t        Exact ERM: StdDev. x \t Approx ERM: StdDev. x \n",
            "init\t [ 2.77832339 -4.90750004]\t 41.674330194390116\t 13.839458310244165\t    \t    \n",
            "init\t [1.36855793 2.54775176]\t 44.69639719065837\t 13.839458310244165\t    \t    \n",
            "init\t [-0.01528819 -2.81808235]\t 13.839458310244165\t 13.839458310244165\t    \t    \n",
            "init\t [-3.09183626  2.66783449]\t 33.23221510904937\t 13.839458310244165\t    \t    \n",
            "init\t [-3.38830503 -4.2154003 ]\t 54.73014366983691\t 13.839458310244165\t    \t    \n",
            "1  \t [ 5.12       -0.56837655]\t 48.338995943865\t 13.839458310244165\t 3.2034928310291475\t 3.6443784788571927\n",
            "2  \t [5.12 5.12]\t 57.849427451571785\t 13.839458310244165\t 3.0742393246619346\t 3.1163250776649196\n",
            "3  \t [-5.12       -0.60622488]\t 47.14636873122888\t 13.839458310244165\t 2.969078537061349\t 3.422400388328607\n",
            "4  \t [-5.12  5.12]\t 57.849427451571785\t 13.839458310244165\t 3.1238511585306936\t 3.8029174823043967\n",
            "5  \t [-0.83770539  5.12      ]\t 34.39047924596105\t 13.839458310244165\t 2.2839136289230724\t 3.117285487990349\n",
            "\u001b[1m\u001b[92m6\u001b[0m\t \u001b[1m\u001b[92m[-1.23193018 -0.10213358]\u001b[0m\t \u001b[1m\u001b[92m12.384511919015157\u001b[0m\t \u001b[1m\u001b[92m12.384511919015157\u001b[0m\t \u001b[1m\u001b[92m3.072761756155009\u001b[0m\t \u001b[1m\u001b[92m2.9738834474930123\u001b[0m\n",
            "7  \t [ 1.89897837 -0.78571716]\t 13.94581186833634\t 12.384511919015157\t 2.642560668081142\t 2.900911376450492\n",
            "8  \t [-0.39137021 -5.12      ]\t 46.83760808799937\t 12.384511919015157\t 2.7498854593652866\t 3.6430610706955515\n",
            "9  \t [ 5.12       -3.59580236]\t 60.096872353908196\t 12.384511919015157\t 2.9523503236884396\t 3.575016606201958\n",
            "10 \t [4.53030804 2.23196167]\t 54.19361428341803\t 12.384511919015157\t 3.1417845289166952\t 3.428181614569524\n",
            "11 \t [2.14264358 5.12      ]\t 37.2702520358995\t 12.384511919015157\t 2.80106986871341\t 2.8666369093403223\n",
            "12 \t [-2.45850595 -1.68574942]\t 42.47628258586559\t 12.384511919015157\t 3.026466305154666\t 2.7407513513323267\n",
            "13 \t [-5.12        2.03115653]\t 33.241313791091684\t 12.384511919015157\t 2.657033560748898\t 3.1048043168214736\n",
            "\u001b[1m\u001b[92m14\u001b[0m\t \u001b[1m\u001b[92m[-0.94210776  1.78955066]\u001b[0m\t \u001b[1m\u001b[92m12.284815056100973\u001b[0m\t \u001b[1m\u001b[92m12.284815056100973\u001b[0m\t \u001b[1m\u001b[92m2.6079045276339228\u001b[0m\t \u001b[1m\u001b[92m2.9906301197386482\u001b[0m\n",
            "15 \t [ 2.37144115 -2.52845508]\t 48.768614334887864\t 12.284815056100973\t 2.3902235068176183\t 2.9982928259424924\n",
            "16 \t [-5.12 -5.12]\t 57.849427451571785\t 12.284815056100973\t 2.9951567764818763\t 3.307175332543238\n",
            "17 \t [-5.12       -2.82929553]\t 42.15092559336123\t 12.284815056100973\t 2.8422304174733615\t 3.1764199322810396\n",
            "18 \t [0.48446588 0.09049096]\t 21.768591244767723\t 12.284815056100973\t 2.6504796257155685\t 2.757889270827392\n",
            "19 \t [-2.83280253  5.12      ]\t 41.97839477936369\t 12.284815056100973\t 2.527454588551576\t 2.6503735517921663\n",
            "20 \t [3.71624043 3.58777732]\t 57.305178988836246\t 12.284815056100973\t 3.1464385232957097\t 3.1188411679795403\n"
          ]
        }
      ],
      "source": [
        "### ESTIMATED STP ERM GRADIENTS\n",
        "\n",
        "np.random.seed(run_num_10)\n",
        "surrogate_approx_10 = dtStudentProcess(cov_func, optimize=opt, nu = df)\n",
        "\n",
        "approx_10 = GPGO_multi(surrogate_approx_10, Acquisition_grad(util), objfunc, param)\n",
        "approx_10.run(init_evals=n_init, max_iter=iters)\n"
      ]
    },
    {
      "cell_type": "code",
      "execution_count": 23,
      "metadata": {
        "id": "JS8ejeQ2GCfi",
        "colab": {
          "base_uri": "https://localhost:8080/"
        },
        "outputId": "26d006d3-330e-4532-b919-98535b7340ec"
      },
      "outputs": [
        {
          "output_type": "stream",
          "name": "stdout",
          "text": [
            "Evaluation \t Proposed point \t  Current eval. \t  Best eval. \t        Exact ERM: StdDev. x \t Approx ERM: StdDev. x \n",
            "init\t [-3.27403839 -4.92057353]\t 47.655641290890955\t 10.679755252484755\t    \t    \n",
            "init\t [-0.37664229  2.30332343]\t 35.87889240695259\t 10.679755252484755\t    \t    \n",
            "init\t [-0.81711509 -0.14922651]\t 10.679755252484755\t 10.679755252484755\t    \t    \n",
            "init\t [-4.98912446 -0.12931474]\t 28.05462905574235\t 10.679755252484755\t    \t    \n",
            "init\t [4.52410012 3.59214172]\t 71.62694632141611\t 10.679755252484755\t    \t    \n",
            "1  \t [ 3.03550212 -4.46785095]\t 49.22040431745476\t 10.679755252484755\t 3.0018672514983105\t 4.059020558391665\n",
            "2  \t [-5.12  5.12]\t 57.849427451571785\t 10.679755252484755\t 2.363734922462881\t 3.7164123542541554\n",
            "3  \t [ 5.12       -0.75126059]\t 39.40990186050005\t 10.679755252484755\t 3.051753653453597\t 3.608836152489948\n",
            "4  \t [1.21059813 5.12      ]\t 37.939781282773964\t 10.679755252484755\t 2.662125988634472\t 2.7254784359438324\n",
            "5  \t [-0.21477493 -3.12950978]\t 20.77683622796704\t 10.679755252484755\t 2.8461539869050396\t 2.5665150752841046\n",
            "6  \t [ 1.98006293 -0.29557042]\t 16.910679844867644\t 10.679755252484755\t 3.13747507968252\t 3.0300698787100653\n",
            "7  \t [-1.93542321  5.12      ]\t 33.482502362365835\t 10.679755252484755\t 3.0337862620678147\t 3.5312505852235945\n",
            "8  \t [-3.48265713  2.27460785]\t 48.783433136337756\t 10.679755252484755\t 2.874757866331738\t 3.388018024432789\n",
            "9  \t [-2.81475799 -1.85756758]\t 21.16016140023108\t 10.679755252484755\t 3.2745802551681638\t 3.1905751072412936\n",
            "10 \t [-5.12       -2.93345553]\t 38.39130034174153\t 10.679755252484755\t 2.8991191646592633\t 3.1540815138399045\n",
            "11 \t [ 0.07195597 -5.12      ]\t 29.93463000412882\t 10.679755252484755\t 2.6231038403707876\t 3.2183982739203207\n",
            "12 \t [2.25811493 1.95697147]\t 19.801717725826453\t 10.679755252484755\t 2.6733331399329883\t 2.9129135330180573\n",
            "13 \t [ 2.01985901 -2.1975381 ]\t 15.749841379046392\t 10.679755252484755\t 2.970118807146148\t 3.0224924428684945\n",
            "14 \t [ 5.12       -3.37420356]\t 57.345557982727904\t 10.679755252484755\t 2.419288511234395\t 2.8966475653078505\n",
            "15 \t [-2.46396991  0.1338999 ]\t 29.169112379115937\t 10.679755252484755\t 2.77711274074057\t 3.1238853746331876\n",
            "16 \t [5.12       1.30282379]\t 43.88047849301509\t 10.679755252484755\t 2.99004766314525\t 2.8809617383458423\n",
            "17 \t [ 0.19198975 -1.21059794]\t 15.487194714382753\t 10.679755252484755\t 2.4161436715946603\t 2.6931772044623465\n",
            "18 \t [3.15368463 5.12      ]\t 43.181443585028745\t 10.679755252484755\t 2.3661494521307747\t 2.910778656847151\n",
            "19 \t [-5.12        2.59436348]\t 53.94865491270128\t 10.679755252484755\t 2.4864948507293665\t 2.8724966204419884\n",
            "20 \t [-1.8346063  -3.28651642]\t 31.372180795504864\t 10.679755252484755\t 2.9834982714067975\t 3.0841258067759703\n"
          ]
        }
      ],
      "source": [
        "### ESTIMATED STP ERM GRADIENTS\n",
        "\n",
        "np.random.seed(run_num_11)\n",
        "surrogate_approx_11 = dtStudentProcess(cov_func, optimize=opt, nu = df)\n",
        "\n",
        "approx_11 = GPGO_multi(surrogate_approx_11, Acquisition_grad(util), objfunc, param)\n",
        "approx_11.run(init_evals=n_init, max_iter=iters)\n"
      ]
    },
    {
      "cell_type": "code",
      "execution_count": 24,
      "metadata": {
        "id": "DXwjUVZ4GCii",
        "colab": {
          "base_uri": "https://localhost:8080/"
        },
        "outputId": "01f24d4c-a2a9-4350-e927-518fd2736088"
      },
      "outputs": [
        {
          "output_type": "stream",
          "name": "stdout",
          "text": [
            "Evaluation \t Proposed point \t  Current eval. \t  Best eval. \t        Exact ERM: StdDev. x \t Approx ERM: StdDev. x \n",
            "init\t [-3.54137249  2.45810889]\t 57.903242869085595\t 40.51116653209555\t    \t    \n",
            "init\t [-2.42365424  0.34549139]\t 40.51116653209555\t 40.51116653209555\t    \t    \n",
            "init\t [-4.97075238  4.28796936]\t 55.62655915398208\t 40.51116653209555\t    \t    \n",
            "init\t [ 4.10332011 -4.77776458]\t 49.962803461970296\t 40.51116653209555\t    \t    \n",
            "init\t [ 4.6791612  -3.71497655]\t 62.183891474990624\t 40.51116653209555\t    \t    \n",
            "1  \t [5.12       3.33837727]\t 55.34138055211067\t 40.51116653209555\t 3.65084687520348\t 3.6696712827935047\n",
            "2  \t [-5.12       -4.55424855]\t 69.09058985253489\t 40.51116653209555\t 3.6265198593606605\t 3.5477583741466834\n",
            "3  \t [0.55520479 5.12      ]\t 48.63740723738948\t 40.51116653209555\t 3.0648335308905983\t 3.2896157551531777\n",
            "4  \t [-0.45355854 -5.12      ]\t 48.70770431610255\t 40.51116653209555\t 3.1848225932357166\t 2.997313335734101\n",
            "\u001b[1m\u001b[92m5\u001b[0m\t \u001b[1m\u001b[92m[ 2.00078527 -0.01543999]\u001b[0m\t \u001b[1m\u001b[92m4.0505218641947955\u001b[0m\t \u001b[1m\u001b[92m4.0505218641947955\u001b[0m\t \u001b[1m\u001b[92m3.0745879743370157\u001b[0m\t \u001b[1m\u001b[92m2.732746939604526\u001b[0m\n",
            "6  \t [ 0.27921764 -1.85598832]\t 19.170140534392495\t 4.0505218641947955\t 3.1251094832247324\t 2.851725574476087\n",
            "7  \t [ 5.12       -0.21034029]\t 36.50277308298762\t 4.0505218641947955\t 2.8471360774152115\t 3.318008304325766\n",
            "8  \t [-5.12       -1.10478706]\t 32.23552483896197\t 4.0505218641947955\t 3.0351836008239697\t 3.1543027324254735\n",
            "9  \t [0.58836041 1.88206281]\t 25.0085630274309\t 4.0505218641947955\t 2.938063114419928\t 2.6762381070999997\n",
            "10 \t [-2.45174229 -2.75369246]\t 42.90570238990547\t 4.0505218641947955\t 2.734777939400429\t 3.337997519446158\n",
            "11 \t [-2.19203152  5.12      ]\t 40.16744746428278\t 4.0505218641947955\t 2.746786837095092\t 3.32785430339008\n",
            "12 \t [3.23161701 5.12      ]\t 48.21559154681012\t 4.0505218641947955\t 2.440662235608753\t 2.8031588477854266\n",
            "13 \t [ 2.63125715 -1.83257217]\t 32.110987161498855\t 4.0505218641947955\t 2.7704705033051127\t 2.859410562512593\n",
            "14 \t [2.9828216  1.58778571]\t 29.99348959192678\t 4.0505218641947955\t 2.4231180238079513\t 2.858378129714437\n",
            "15 \t [ 1.86745573 -5.12      ]\t 35.68403729619345\t 4.0505218641947955\t 2.9682106204140988\t 3.057857675153723\n",
            "\u001b[1m\u001b[92m16\u001b[0m\t \u001b[1m\u001b[92m[ 0.06430673 -0.03616326]\u001b[0m\t \u001b[1m\u001b[92m1.0677215573860277\u001b[0m\t \u001b[1m\u001b[92m1.0677215573860277\u001b[0m\t \u001b[1m\u001b[92m2.9301734789708855\u001b[0m\t \u001b[1m\u001b[92m2.545634669184691\u001b[0m\n",
            "17 \t [-2.75966578 -5.12      ]\t 45.93352345565618\t 1.0677215573860277\t 2.438035035180473\t 2.8677785769123\n",
            "18 \t [-1.25300762  1.68917774]\t 28.341544926264998\t 1.0677215573860277\t 3.1475908484627277\t 3.3988964482548796\n",
            "19 \t [-5.12        0.99902148]\t 29.922946649913573\t 1.0677215573860277\t 2.6908099301900044\t 2.921692231069186\n",
            "20 \t [1.9530936  3.38999254]\t 33.44262717018946\t 1.0677215573860277\t 2.665017325062154\t 2.5044234735576762\n"
          ]
        }
      ],
      "source": [
        "### ESTIMATED STP ERM GRADIENTS\n",
        "\n",
        "np.random.seed(run_num_12)\n",
        "surrogate_approx_12 = dtStudentProcess(cov_func, optimize=opt, nu = df)\n",
        "\n",
        "approx_12 = GPGO_multi(surrogate_approx_12, Acquisition_grad(util), objfunc, param)\n",
        "approx_12.run(init_evals=n_init, max_iter=iters)\n"
      ]
    },
    {
      "cell_type": "code",
      "execution_count": 25,
      "metadata": {
        "id": "CphOPndPGClX",
        "colab": {
          "base_uri": "https://localhost:8080/"
        },
        "outputId": "85b265ce-d26b-4dd6-ac87-9271f14a6c86"
      },
      "outputs": [
        {
          "output_type": "stream",
          "name": "stdout",
          "text": [
            "Evaluation \t Proposed point \t  Current eval. \t  Best eval. \t        Exact ERM: StdDev. x \t Approx ERM: StdDev. x \n",
            "init\t [ 2.84367268 -2.68757791]\t 33.58019830007169\t 17.435826639425656\t    \t    \n",
            "init\t [3.32061217 4.76927179]\t 56.857057997503354\t 17.435826639425656\t    \t    \n",
            "init\t [ 4.83943541 -0.47667971]\t 48.211919361679726\t 17.435826639425656\t    \t    \n",
            "init\t [1.11659482 2.82139151]\t 17.435826639425656\t 17.435826639425656\t    \t    \n",
            "init\t [1.45012065 2.27346667]\t 38.25352329493884\t 17.435826639425656\t    \t    \n",
            "1  \t [-4.10876704 -2.60547476]\t 43.79941556238635\t 17.435826639425656\t 3.5371601508905015\t 3.3599421144526462\n",
            "2  \t [-4.868995  5.12    ]\t 55.832522594917435\t 17.435826639425656\t 3.3366695652386347\t 3.628311424553677\n",
            "3  \t [-0.62137586 -5.12      ]\t 46.54105877732898\t 17.435826639425656\t 3.0248314431229075\t 2.805548341370337\n",
            "4  \t [-2.7193037   1.38167517]\t 38.581741271075856\t 17.435826639425656\t 3.204222121785573\t 2.8625011935222977\n",
            "5  \t [-0.99651023  5.12      ]\t 29.920150209146612\t 17.435826639425656\t 3.443948540664957\t 3.9473627891796523\n",
            "6  \t [ 5.12 -5.12]\t 57.849427451571785\t 17.435826639425656\t 3.040545691274412\t 3.225566056301628\n",
            "7  \t [-0.38881017 -1.29410985]\t 32.21931659135259\t 17.435826639425656\t 3.075652939149741\t 3.3399848005819073\n",
            "8  \t [-5.12 -5.12]\t 57.849427451571785\t 17.435826639425656\t 3.42520019708445\t 3.4188337901494794\n",
            "9  \t [5.12       2.46287948]\t 54.71972669949958\t 17.435826639425656\t 2.8416613638308257\t 3.325731956229412\n",
            "10 \t [-5.12        0.23444612]\t 38.00395455272515\t 17.435826639425656\t 2.80943100337908\t 3.265485088692422\n",
            "11 \t [ 2.1279925 -5.12     ]\t 36.516193150192876\t 17.435826639425656\t 3.1426825457940564\t 3.3601033432760024\n",
            "\u001b[1m\u001b[92m12\u001b[0m\t \u001b[1m\u001b[92m[ 2.01165175 -0.19062934]\u001b[0m\t \u001b[1m\u001b[92m10.465418050049113\u001b[0m\t \u001b[1m\u001b[92m10.465418050049113\u001b[0m\t \u001b[1m\u001b[92m3.0535108589250433\u001b[0m\t \u001b[1m\u001b[92m2.8439077506929342\u001b[0m\n",
            "13 \t [-5.12        2.64220468]\t 52.17285622777475\t 10.465418050049113\t 3.2142692911275215\t 2.9980861162099868\n",
            "14 \t [-0.96268222  2.82848268]\t 14.466930186203218\t 10.465418050049113\t 2.4203934201402966\t 2.330660881123072\n",
            "15 \t [-1.83326811 -3.06827399]\t 18.68481394255055\t 10.465418050049113\t 2.9577866778615407\t 2.9781495876880877\n",
            "16 \t [-0.34465736  0.81559216]\t 22.38139608863514\t 10.465418050049113\t 2.6895849811534767\t 2.441988537662765\n",
            "17 \t [1.00917985 5.12      ]\t 29.959787236108376\t 10.465418050049113\t 3.254773726707203\t 3.914635553343052\n",
            "18 \t [ 5.12       -2.77582174]\t 45.01458054288786\t 10.465418050049113\t 2.7365143497372655\t 2.9487327473956655\n",
            "19 \t [-2.70732235  3.90355267]\t 36.99746361280814\t 10.465418050049113\t 2.8656250622361275\t 2.947469109257243\n",
            "20 \t [-2.85333957 -5.12      ]\t 41.01995702574598\t 10.465418050049113\t 3.2877757198620214\t 3.487320228536192\n"
          ]
        }
      ],
      "source": [
        "### ESTIMATED STP ERM GRADIENTS\n",
        "\n",
        "np.random.seed(run_num_13)\n",
        "surrogate_approx_13 = dtStudentProcess(cov_func, optimize=opt, nu = df)\n",
        "\n",
        "approx_13 = GPGO_multi(surrogate_approx_13, Acquisition_grad(util), objfunc, param)\n",
        "approx_13.run(init_evals=n_init, max_iter=iters)\n"
      ]
    },
    {
      "cell_type": "code",
      "execution_count": 26,
      "metadata": {
        "id": "ojHTeARNGCoi",
        "colab": {
          "base_uri": "https://localhost:8080/"
        },
        "outputId": "b7b50c86-ae34-48d6-ec9e-3ff6e2503e97"
      },
      "outputs": [
        {
          "output_type": "stream",
          "name": "stdout",
          "text": [
            "Evaluation \t Proposed point \t  Current eval. \t  Best eval. \t        Exact ERM: StdDev. x \t Approx ERM: StdDev. x \n",
            "init\t [0.14277984 2.79721013]\t 18.683085263052178\t 10.423838604848608\t    \t    \n",
            "init\t [ 3.7931795  -5.03759925]\t 47.36348784446708\t 10.423838604848608\t    \t    \n",
            "init\t [-1.94830412  4.68586229]\t 40.19779334078636\t 10.423838604848608\t    \t    \n",
            "init\t [ 0.13431513 -1.86076749]\t 10.423838604848608\t 10.423838604848608\t    \t    \n",
            "init\t [ 0.40140736 -2.85434939]\t 30.353548735049138\t 10.423838604848608\t    \t    \n",
            "1  \t [-4.71300067 -5.12      ]\t 63.44094252536904\t 10.423838604848608\t 4.000048062345777\t 3.91539871349692\n",
            "2  \t [5.12 5.12]\t 57.849427451571785\t 10.423838604848608\t 3.6684076849141922\t 3.894462774316407\n",
            "3  \t [-5.12        0.35665841]\t 45.26299018750341\t 10.423838604848608\t 2.8969656169429006\t 3.6652236687998982\n",
            "4  \t [ 5.12       -0.06377833]\t 29.721020917664042\t 10.423838604848608\t 3.065010856667507\t 3.065948651125125\n",
            "5  \t [-5.12  5.12]\t 57.849427451571785\t 10.423838604848608\t 2.6996376279325456\t 2.8943102782411825\n",
            "6  \t [-1.66663397  0.07857109]\t 18.97965606505118\t 10.423838604848608\t 2.630744880222231\t 2.4624156950090406\n",
            "7  \t [1.92612948 0.25237885]\t 14.981072947712674\t 10.423838604848608\t 2.4858358978176622\t 2.582979066440712\n",
            "8  \t [1.75951517 5.12      ]\t 41.42310742284155\t 10.423838604848608\t 3.174953183823103\t 3.1969069606754346\n",
            "9  \t [-2.8975309  -2.48846867]\t 36.56391333357295\t 10.423838604848608\t 2.753114655596853\t 3.029627516689742\n",
            "10 \t [-1.23783024 -5.12      ]\t 39.693034066597335\t 10.423838604848608\t 2.7925585294541317\t 3.1468663488063524\n",
            "11 \t [3.50580198 2.42931101]\t 57.215309176037366\t 10.423838604848608\t 3.1033848419085692\t 3.2450400605314944\n",
            "12 \t [ 3.29086689 -2.14664634]\t 31.93050587085432\t 10.423838604848608\t 2.365109293224968\t 3.3524157224581654\n",
            "13 \t [-3.18322678  2.30786299]\t 34.94175705547944\t 10.423838604848608\t 2.795224494612805\t 3.146070261028586\n",
            "14 \t [ 1.30122564 -5.12      ]\t 43.781219405762656\t 10.423838604848608\t 2.431648042088985\t 2.9417512813941307\n",
            "15 \t [-5.12       -2.28905572]\t 46.59387829856542\t 10.423838604848608\t 2.317018513590415\t 2.740788852747695\n",
            "16 \t [ 5.12       -2.99054853]\t 37.885722141782665\t 10.423838604848608\t 2.2416893331829\t 3.211654141658014\n",
            "17 \t [0.17387165 0.49976486]\t 25.67702592541089\t 10.423838604848608\t 2.484805810270202\t 3.049628722543689\n",
            "18 \t [-5.12        2.79805709]\t 43.779996631883904\t 10.423838604848608\t 2.8023141770364024\t 2.5571332660871113\n",
            "19 \t [3.78851967 4.08035791]\t 39.85328824905621\t 10.423838604848608\t 2.8867778495673275\t 2.8867778495673275\n",
            "20 \t [-0.1425922  5.12     ]\t 32.697141919930935\t 10.423838604848608\t 2.1967670740441276\t 2.8193483065812694\n"
          ]
        }
      ],
      "source": [
        "### ESTIMATED STP ERM GRADIENTS\n",
        "\n",
        "np.random.seed(run_num_14)\n",
        "surrogate_approx_14 = dtStudentProcess(cov_func, optimize=opt, nu = df)\n",
        "\n",
        "approx_14 = GPGO_multi(surrogate_approx_14, Acquisition_grad(util), objfunc, param)\n",
        "approx_14.run(init_evals=n_init, max_iter=iters)\n"
      ]
    },
    {
      "cell_type": "code",
      "execution_count": 27,
      "metadata": {
        "id": "vCJzn4vWGCs3",
        "colab": {
          "base_uri": "https://localhost:8080/"
        },
        "outputId": "187c74c4-ba0d-454b-e5ff-10037f91b839"
      },
      "outputs": [
        {
          "output_type": "stream",
          "name": "stdout",
          "text": [
            "Evaluation \t Proposed point \t  Current eval. \t  Best eval. \t        Exact ERM: StdDev. x \t Approx ERM: StdDev. x \n",
            "init\t [ 3.57189322 -3.28810573]\t 54.938487770767075\t 7.990765314336182\t    \t    \n",
            "init\t [-4.56332069 -1.41784631]\t 60.750198753157726\t 7.990765314336182\t    \t    \n",
            "init\t [-2.29989449  0.3072023 ]\t 31.984997246800887\t 7.990765314336182\t    \t    \n",
            "init\t [-1.9873903  -2.00218256]\t 7.990765314336182\t 7.990765314336182\t    \t    \n",
            "init\t [-3.97576933 -2.5610341 ]\t 41.754957769694336\t 7.990765314336182\t    \t    \n",
            "1  \t [4.01996451 3.94594217]\t 32.38045274264061\t 7.990765314336182\t 3.2926780984091018\t 3.8624258216955587\n",
            "2  \t [-5.12  5.12]\t 57.849427451571785\t 7.990765314336182\t 2.9172846955005767\t 3.7083773819425945\n",
            "3  \t [-0.40154788  5.12      ]\t 47.23290658306392\t 7.990765314336182\t 3.226043215112769\t 3.5438451544333676\n",
            "4  \t [-0.33066507 -5.12      ]\t 43.88816648038993\t 7.990765314336182\t 2.861094292273337\t 3.2161971764471087\n",
            "5  \t [1.77938867 0.55191673]\t 31.107428463285494\t 7.990765314336182\t 3.0805741280646592\t 2.7422442932616318\n",
            "6  \t [5.12      0.2651583]\t 39.94600752456453\t 7.990765314336182\t 3.0680150600431007\t 3.5874268586092692\n",
            "7  \t [-5.12 -5.12]\t 57.849427451571785\t 7.990765314336182\t 2.93576963726037\t 3.5138696266433347\n",
            "8  \t [-5.12        1.87040469]\t 35.559142605746395\t 7.990765314336182\t 3.2422806254198613\t 3.4575076368268736\n",
            "9  \t [ 0.41938658 -2.0673367 ]\t 24.075949521057268\t 7.990765314336182\t 2.153791513648113\t 2.833709878558398\n",
            "10 \t [-2.44936128  3.15156209]\t 39.63163482857522\t 7.990765314336182\t 2.5910886451155504\t 3.6089234192801913\n",
            "11 \t [1.36555334 3.07075667]\t 28.905515084805867\t 7.990765314336182\t 2.730941046214283\t 3.570304777165821\n",
            "12 \t [ 5.12 -5.12]\t 57.849427451571785\t 7.990765314336182\t 2.7739959613791387\t 3.3737576933713465\n",
            "13 \t [-2.63910059 -5.12      ]\t 52.30724637369099\t 7.990765314336182\t 3.2782202962324263\t 3.553199806053917\n",
            "14 \t [ 2.03806929 -5.12      ]\t 33.36315335462223\t 7.990765314336182\t 2.6103329819706556\t 2.915655481250924\n",
            "15 \t [2.21791936 5.12      ]\t 41.841815954161504\t 7.990765314336182\t 2.4320104611706745\t 2.5609012274861573\n",
            "16 \t [-0.38053916  1.51466737]\t 39.709426419622815\t 7.990765314336182\t 3.2648445076405586\t 3.4548826551895293\n",
            "17 \t [5.12       2.41910992]\t 53.51279400347376\t 7.990765314336182\t 2.8279232785099295\t 2.8866371173831546\n",
            "18 \t [5.12 5.12]\t 57.849427451571785\t 7.990765314336182\t 2.99142624552909\t 3.40045927071514\n",
            "19 \t [ 3.08866839 -1.03422907]\t 12.352067827602408\t 7.990765314336182\t 2.460621139561598\t 2.588202282121563\n",
            "20 \t [ 5.12       -1.87181131]\t 35.50040274168852\t 7.990765314336182\t 2.21941520275099\t 2.665337811261745\n"
          ]
        }
      ],
      "source": [
        "### ESTIMATED STP ERM GRADIENTS\n",
        "\n",
        "np.random.seed(run_num_15)\n",
        "surrogate_approx_15 = dtStudentProcess(cov_func, optimize=opt, nu = df)\n",
        "\n",
        "approx_15 = GPGO_multi(surrogate_approx_15, Acquisition_grad(util), objfunc, param)\n",
        "approx_15.run(init_evals=n_init, max_iter=iters)\n"
      ]
    },
    {
      "cell_type": "code",
      "execution_count": 28,
      "metadata": {
        "id": "bGGkhp-kGCw6",
        "colab": {
          "base_uri": "https://localhost:8080/"
        },
        "outputId": "851114c0-a4ca-4681-e9d4-3139e2506e92"
      },
      "outputs": [
        {
          "output_type": "stream",
          "name": "stdout",
          "text": [
            "Evaluation \t Proposed point \t  Current eval. \t  Best eval. \t        Exact ERM: StdDev. x \t Approx ERM: StdDev. x \n",
            "init\t [-2.83349935  0.23719262]\t 22.27210456874814\t 22.27210456874814\t    \t    \n",
            "init\t [ 0.51918292 -4.65303603]\t 57.57021076017139\t 22.27210456874814\t    \t    \n",
            "init\t [-1.42613673 -2.83565116]\t 33.89145899403749\t 22.27210456874814\t    \t    \n",
            "init\t [ 1.9325559  -3.44339021]\t 35.85029586225333\t 22.27210456874814\t    \t    \n",
            "init\t [-4.39987336  4.51595121]\t 77.78800881964571\t 22.27210456874814\t    \t    \n",
            "1  \t [2.57149125 4.50237179]\t 65.89078791777406\t 22.27210456874814\t 3.5704591664157994\t 3.9761816636305096\n",
            "2  \t [5.12       0.18201381]\t 34.814876559950136\t 22.27210456874814\t 3.2401895155424523\t 3.4509496943475955\n",
            "3  \t [-5.12 -5.12]\t 57.849427451571785\t 22.27210456874814\t 3.4010978860443597\t 3.838455219744604\n",
            "\u001b[1m\u001b[92m4\u001b[0m\t \u001b[1m\u001b[92m[1.04280405 0.62518652]\u001b[0m\t \u001b[1m\u001b[92m18.90055889872741\u001b[0m\t \u001b[1m\u001b[92m18.90055889872741\u001b[0m\t \u001b[1m\u001b[92m3.168429970280327\u001b[0m\t \u001b[1m\u001b[92m3.3658330919564574\u001b[0m\n",
            "5  \t [ 5.12 -5.12]\t 57.849427451571785\t 18.90055889872741\t 2.8839780075285137\t 3.493836708825768\n",
            "6  \t [-0.91789054  3.46846445]\t 33.97865858427678\t 18.90055889872741\t 3.884741180965417\t 3.4994334679737484\n",
            "7  \t [-5.12       -1.65660807]\t 47.20604582765793\t 18.90055889872741\t 3.317486542698216\t 2.940915772541728\n",
            "8  \t [5.12       3.12233646]\t 41.48528879605564\t 18.90055889872741\t 2.7868168956823935\t 3.0900333733426706\n",
            "9  \t [-5.12        1.50543573]\t 51.185218656104354\t 18.90055889872741\t 2.655768947027118\t 3.2365574574631975\n",
            "10 \t [ 4.65402641 -2.32829747]\t 57.47577564258868\t 18.90055889872741\t 2.9198208921300757\t 3.513445290077931\n",
            "11 \t [-2.37298448 -5.12      ]\t 51.53672511484916\t 18.90055889872741\t 3.0008902986120916\t 3.180628225969213\n",
            "12 \t [2.91448457 1.54106695]\t 31.947160341562224\t 18.90055889872741\t 2.985618600094064\t 3.504746892739918\n",
            "13 \t [ 0.46552766 -1.28923337]\t 34.08539955543714\t 18.90055889872741\t 2.519130280111649\t 2.593906373083596\n",
            "\u001b[1m\u001b[92m14\u001b[0m\t \u001b[1m\u001b[92m[-0.96204365  1.10718625]\u001b[0m\t \u001b[1m\u001b[92m4.6178093343808655\u001b[0m\t \u001b[1m\u001b[92m4.6178093343808655\u001b[0m\t \u001b[1m\u001b[92m2.584652629799844\u001b[0m\t \u001b[1m\u001b[92m2.6892323425690323\u001b[0m\n",
            "15 \t [5.12 5.12]\t 57.849427451571785\t 4.6178093343808655\t 2.3675912057666526\t 2.9289219643784272\n",
            "16 \t [-1.80909058  5.12      ]\t 38.56946468548348\t 4.6178093343808655\t 1.9832228554068985\t 2.6161351977929437\n",
            "17 \t [ 2.7043971  -0.84912272]\t 25.02787168590546\t 4.6178093343808655\t 2.4261584431501793\t 3.0109605181074937\n",
            "18 \t [-2.65128347  2.24665497]\t 37.679024233435236\t 4.6178093343808655\t 2.64701910279581\t 2.6688553661884624\n",
            "19 \t [-3.6407203  -3.28286427]\t 52.42162497476169\t 4.6178093343808655\t 2.5497157035943023\t 2.9528039989956065\n",
            "20 \t [0.42208256 5.12      ]\t 47.928220097417295\t 4.6178093343808655\t 2.915426548335051\t 3.06883186848807\n"
          ]
        }
      ],
      "source": [
        "### ESTIMATED STP ERM GRADIENTS\n",
        "\n",
        "np.random.seed(run_num_16)\n",
        "surrogate_approx_16 = dtStudentProcess(cov_func, optimize=opt, nu = df)\n",
        "\n",
        "approx_16 = GPGO_multi(surrogate_approx_16, Acquisition_grad(util), objfunc, param)\n",
        "approx_16.run(init_evals=n_init, max_iter=iters)\n"
      ]
    },
    {
      "cell_type": "code",
      "execution_count": 29,
      "metadata": {
        "id": "Yrs2mp7hGC1Z",
        "colab": {
          "base_uri": "https://localhost:8080/"
        },
        "outputId": "9396e601-d47d-4009-ac47-8a6297cb932a"
      },
      "outputs": [
        {
          "output_type": "stream",
          "name": "stdout",
          "text": [
            "Evaluation \t Proposed point \t  Current eval. \t  Best eval. \t        Exact ERM: StdDev. x \t Approx ERM: StdDev. x \n",
            "init\t [-2.10263037  0.31320838]\t 20.395145364684023\t 20.395145364684023\t    \t    \n",
            "init\t [-3.15882714 -4.42470033]\t 53.03732051200137\t 20.395145364684023\t    \t    \n",
            "init\t [2.93873111 1.60085526]\t 29.989224812583537\t 20.395145364684023\t    \t    \n",
            "init\t [1.40821398 0.77417363]\t 29.451989415882437\t 20.395145364684023\t    \t    \n",
            "init\t [-4.71999574 -1.45598869]\t 55.89242173757483\t 20.395145364684023\t    \t    \n",
            "1  \t [ 4.96008736 -4.44720822]\t 64.14783177084814\t 20.395145364684023\t 3.2833876348789577\t 4.615577619590076\n",
            "2  \t [-5.12        4.84356685]\t 56.838723328301846\t 20.395145364684023\t 3.2585496531962024\t 3.603230019077796\n",
            "3  \t [-0.25171783  5.12      ]\t 39.09600773632165\t 20.395145364684023\t 3.364891649189216\t 3.463079506781596\n",
            "4  \t [5.12 5.12]\t 57.849427451571785\t 20.395145364684023\t 3.2141128143553055\t 3.894207374125031\n",
            "5  \t [ 0.87311112 -3.37293814]\t 32.131254199579296\t 20.395145364684023\t 2.8351976886141648\t 3.334067515482702\n",
            "6  \t [ 5.12       -0.83011454]\t 34.78996182224128\t 20.395145364684023\t 2.976647503505244\t 3.2137692296429963\n",
            "7  \t [-5.12        1.69293863]\t 45.299709214698176\t 20.395145364684023\t 3.045891795957279\t 3.0811280813276145\n",
            "8  \t [-2.25228337  3.06601743]\t 25.464736285084484\t 20.395145364684023\t 3.2139543672505564\t 3.3150374807341754\n",
            "9  \t [2.32756422 4.36550184]\t 55.79476326684368\t 20.395145364684023\t 3.3534715867717892\t 3.6268323996555307\n",
            "10 \t [-1.35308772 -1.98279837]\t 21.8543779774288\t 20.395145364684023\t 2.7779304034310734\t 2.574099802713783\n",
            "11 \t [5.12       2.17479539]\t 39.103092577169186\t 20.395145364684023\t 3.193846303794736\t 3.1573553939976087\n",
            "12 \t [ 2.71130584 -1.70333496]\t 35.5500947041585\t 20.395145364684023\t 2.5905563774123843\t 2.8445156835269394\n",
            "13 \t [-0.54700934 -5.12      ]\t 48.790882678293016\t 20.395145364684023\t 2.287578250500057\t 2.373365151575624\n",
            "14 \t [ 2.39829874 -5.12      ]\t 52.70342934379168\t 20.395145364684023\t 2.2504812249357813\t 3.1976636793338136\n",
            "15 \t [-0.09940667  2.39374472]\t 25.48083308595085\t 20.395145364684023\t 2.414872594351754\t 2.7434828884946127\n",
            "16 \t [-5.12 -5.12]\t 57.849427451571785\t 20.395145364684023\t 2.30287952322875\t 2.57999650151844\n",
            "17 \t [-2.72666244  5.12      ]\t 47.82049487768058\t 20.395145364684023\t 3.034121906497218\t 3.106164775208586\n",
            "\u001b[1m\u001b[92m18\u001b[0m\t \u001b[1m\u001b[92m[ 0.17057864 -0.80786768]\u001b[0m\t \u001b[1m\u001b[92m12.339752745261205\u001b[0m\t \u001b[1m\u001b[92m12.339752745261205\u001b[0m\t \u001b[1m\u001b[92m2.510014124022371\u001b[0m\t \u001b[1m\u001b[92m2.764899390972562\u001b[0m\n",
            "19 \t [-3.12366953  1.48993167]\t 34.82727297458627\t 12.339752745261205\t 2.4731136106957288\t 2.602015271518059\n",
            "20 \t [-0.578789   0.5168138]\t 39.345810719403104\t 12.339752745261205\t 2.6760438878817983\t 2.6815896043027\n"
          ]
        }
      ],
      "source": [
        "### ESTIMATED STP ERM GRADIENTS\n",
        "\n",
        "np.random.seed(run_num_17)\n",
        "surrogate_approx_17 = dtStudentProcess(cov_func, optimize=opt, nu = df)\n",
        "\n",
        "approx_17 = GPGO_multi(surrogate_approx_17, Acquisition_grad(util), objfunc, param)\n",
        "approx_17.run(init_evals=n_init, max_iter=iters)\n"
      ]
    },
    {
      "cell_type": "code",
      "execution_count": 30,
      "metadata": {
        "id": "f0HIEP3PIUEa",
        "colab": {
          "base_uri": "https://localhost:8080/"
        },
        "outputId": "be4106bb-e197-4958-803c-58d80e72890d"
      },
      "outputs": [
        {
          "output_type": "stream",
          "name": "stdout",
          "text": [
            "Evaluation \t Proposed point \t  Current eval. \t  Best eval. \t        Exact ERM: StdDev. x \t Approx ERM: StdDev. x \n",
            "init\t [1.53983224 0.05584255]\t 22.67190580753611\t 22.67190580753611\t    \t    \n",
            "init\t [ 3.87687906 -3.25795609]\t 38.990099416711985\t 22.67190580753611\t    \t    \n",
            "init\t [3.60686662 2.56139557]\t 56.66448698782129\t 22.67190580753611\t    \t    \n",
            "init\t [1.70088108 4.99604939]\t 40.894059318256296\t 22.67190580753611\t    \t    \n",
            "init\t [-2.48864335 -4.83014733]\t 54.6725749848372\t 22.67190580753611\t    \t    \n",
            "1  \t [-5.12        2.93383923]\t 38.38378925754521\t 22.67190580753611\t 3.4997305681548654\t 3.766994966966281\n",
            "2  \t [-5.12       -1.37708845]\t 47.984330020631845\t 22.67190580753611\t 2.989696287816707\t 2.8896989849407007\n",
            "3  \t [-1.35213017  2.41769561]\t 42.351509788736834\t 22.67190580753611\t 3.0617785074381607\t 3.190428885508522\n",
            "4  \t [ 1.04785629 -5.12      ]\t 30.471392858495065\t 22.67190580753611\t 3.1569980248155707\t 3.7560915208969283\n",
            "5  \t [-1.45596682 -1.34766321]\t 39.31418223066124\t 22.67190580753611\t 2.8944369212538805\t 3.2402996014222443\n",
            "6  \t [ 5.12      -0.3512392]\t 44.98874761601249\t 22.67190580753611\t 3.18040956557777\t 3.749680178437844\n",
            "7  \t [-2.80801722  5.12      ]\t 43.24454453677225\t 22.67190580753611\t 3.405930336943057\t 4.029658769219428\n",
            "8  \t [5.12 5.12]\t 57.849427451571785\t 22.67190580753611\t 3.091064730233411\t 3.6859385316928788\n",
            "9  \t [-5.12 -5.12]\t 57.849427451571785\t 22.67190580753611\t 2.7420051300671284\t 3.3513706987973673\n",
            "10 \t [ 1.10217523 -2.48448151]\t 29.330857441336722\t 22.67190580753611\t 3.088607243842674\t 3.3519260491046285\n",
            "11 \t [ 5.12 -5.12]\t 57.849427451571785\t 22.67190580753611\t 2.851601713175432\t 3.4157494757537576\n",
            "12 \t [-3.4601414   0.75274272]\t 42.05491556918621\t 22.67190580753611\t 2.380946132869894\t 3.004079388777369\n",
            "13 \t [-5.12  5.12]\t 57.849427451571785\t 22.67190580753611\t 2.4531990587361734\t 3.0729508593912778\n",
            "14 \t [1.00231329 2.37547301]\t 23.740611994940874\t 22.67190580753611\t 2.1615067038254696\t 2.793251292494277\n",
            "15 \t [-0.5327347  5.12     ]\t 48.997747074818506\t 22.67190580753611\t 2.4635881798538746\t 2.842433227817294\n",
            "16 \t [-3.32586729 -2.68056981]\t 47.06061015116035\t 22.67190580753611\t 2.6958693099014233\t 2.760995030788967\n",
            "\u001b[1m\u001b[92m17\u001b[0m\t \u001b[1m\u001b[92m[ 3.00050693 -1.12090448]\u001b[0m\t \u001b[1m\u001b[92m13.008853484641378\u001b[0m\t \u001b[1m\u001b[92m13.008853484641378\u001b[0m\t \u001b[1m\u001b[92m2.9027408199984532\u001b[0m\t \u001b[1m\u001b[92m3.0718757318909993\u001b[0m\n",
            "18 \t [-0.67454232 -3.57967099]\t 46.607567385133066\t 13.008853484641378\t 3.0560708875506153\t 3.5117621550294134\n",
            "19 \t [-0.34692216  0.42251016]\t 34.85713538487455\t 13.008853484641378\t 2.219917869954633\t 2.8950359919677746\n",
            "20 \t [ 2.80241978 -5.12      ]\t 43.543865254501924\t 13.008853484641378\t 2.4456967130145526\t 3.472608129733286\n"
          ]
        }
      ],
      "source": [
        "### ESTIMATED STP ERM GRADIENTS\n",
        "\n",
        "np.random.seed(run_num_18)\n",
        "surrogate_approx_18 = dtStudentProcess(cov_func, optimize=opt, nu = df)\n",
        "\n",
        "approx_18 = GPGO_multi(surrogate_approx_18, Acquisition_grad(util), objfunc, param)\n",
        "approx_18.run(init_evals=n_init, max_iter=iters)\n"
      ]
    },
    {
      "cell_type": "code",
      "execution_count": 31,
      "metadata": {
        "id": "S3mxRQDLIUPC",
        "colab": {
          "base_uri": "https://localhost:8080/"
        },
        "outputId": "ba29f7f6-3a12-4ea1-c24a-30a8d29d0713"
      },
      "outputs": [
        {
          "output_type": "stream",
          "name": "stdout",
          "text": [
            "Evaluation \t Proposed point \t  Current eval. \t  Best eval. \t        Exact ERM: StdDev. x \t Approx ERM: StdDev. x \n",
            "init\t [-4.12125592  2.6751971 ]\t 41.43485596167127\t 25.867003842388073\t    \t    \n",
            "init\t [-2.59135515 -3.70553152]\t 51.60126035043229\t 25.867003842388073\t    \t    \n",
            "init\t [-1.72598719 -4.27008445]\t 43.97430127029199\t 25.867003842388073\t    \t    \n",
            "init\t [1.76104531 3.13952049]\t 25.867003842388073\t 25.867003842388073\t    \t    \n",
            "init\t [4.9432772  1.38916592]\t 44.66580306903559\t 25.867003842388073\t    \t    \n",
            "1  \t [ 4.73630094 -5.12      ]\t 62.216935372653\t 25.867003842388073\t 3.4622925807913143\t 4.5045658200365235\n",
            "2  \t [ 1.58859015 -1.47089093]\t 43.010759282267614\t 25.867003842388073\t 3.3163418786280223\t 3.361209376373263\n",
            "3  \t [5.12 5.12]\t 57.849427451571785\t 25.867003842388073\t 3.512139454178146\t 3.9324626722922478\n",
            "4  \t [-1.2868327  5.12     ]\t 42.874316100296035\t 25.867003842388073\t 3.1753573270333195\t 3.123605322319773\n",
            "5  \t [-5.12       -0.97838653]\t 29.974022425070686\t 25.867003842388073\t 2.766990500225363\t 3.1522299360254986\n",
            "6  \t [-1.40481723  0.40744086]\t 38.759897715437894\t 25.867003842388073\t 3.2823317628721833\t 2.9499419299349436\n",
            "7  \t [ 1.33164239 -5.12      ]\t 45.60569393028868\t 25.867003842388073\t 2.7852283028323086\t 3.844529391659865\n",
            "8  \t [ 5.12       -1.82495823]\t 37.71761997623061\t 25.867003842388073\t 2.7967463825872345\t 2.7708363964546243\n",
            "9  \t [-5.12 -5.12]\t 57.849427451571785\t 25.867003842388073\t 3.6208958052501137\t 3.7703921833098146\n",
            "10 \t [-5.12  5.12]\t 57.849427451571785\t 25.867003842388073\t 2.861783149926084\t 3.3736796181479707\n",
            "11 \t [2.08120144 5.12      ]\t 34.52966280399487\t 25.867003842388073\t 2.3669970450697164\t 3.0572420949645047\n",
            "\u001b[1m\u001b[92m12\u001b[0m\t \u001b[1m\u001b[92m[2.1036725 0.9430771]\u001b[0m\t \u001b[1m\u001b[92m7.995239807907927\u001b[0m\t \u001b[1m\u001b[92m7.995239807907927\u001b[0m\t \u001b[1m\u001b[92m2.672221799132186\u001b[0m\t \u001b[1m\u001b[92m2.3880665714773377\u001b[0m\n",
            "13 \t [-0.63197523  2.68453562]\t 38.358840087391336\t 7.995239807907927\t 2.6845324802548176\t 2.9173826718038556\n",
            "14 \t [-0.79825603 -1.90790164]\t 12.919626879030382\t 7.995239807907927\t 2.424329332904699\t 2.757630840910325\n",
            "15 \t [-3.00692109 -1.23488852]\t 19.62792173522325\t 7.995239807907927\t 2.816549704596222\t 3.2028815636486088\n",
            "16 \t [ 3.05242095 -3.22451942]\t 28.658176616565772\t 7.995239807907927\t 2.7982214389499873\t 3.3798571260113808\n",
            "17 \t [-5.12        0.94366701]\t 30.43511392831641\t 7.995239807907927\t 2.379371994905367\t 3.218703388091659\n",
            "18 \t [-5.12       -2.84072677]\t 41.597674661106986\t 7.995239807907927\t 2.7862843007253777\t 3.2436180098514256\n",
            "19 \t [ 3.39598176 -0.19452427]\t 36.09425077190149\t 7.995239807907927\t 2.0901087381795835\t 2.913160634377455\n",
            "20 \t [3.82152957 3.27442006]\t 42.50970553623929\t 7.995239807907927\t 2.925941045984843\t 2.9178897109830046\n"
          ]
        }
      ],
      "source": [
        "### ESTIMATED STP ERM GRADIENTS\n",
        "\n",
        "np.random.seed(run_num_19)\n",
        "surrogate_approx_19 = dtStudentProcess(cov_func, optimize=opt, nu = df)\n",
        "\n",
        "approx_19 = GPGO_multi(surrogate_approx_19, Acquisition_grad(util), objfunc, param)\n",
        "approx_19.run(init_evals=n_init, max_iter=iters)\n"
      ]
    },
    {
      "cell_type": "code",
      "execution_count": 32,
      "metadata": {
        "id": "Aawd59dRIUYn",
        "colab": {
          "base_uri": "https://localhost:8080/"
        },
        "outputId": "7166521a-2c10-4da6-a4d9-b2ae112335fe"
      },
      "outputs": [
        {
          "output_type": "stream",
          "name": "stdout",
          "text": [
            "Evaluation \t Proposed point \t  Current eval. \t  Best eval. \t        Exact ERM: StdDev. x \t Approx ERM: StdDev. x \n",
            "init\t [0.9024594  4.07258857]\t 20.24255447774017\t 17.388691338534382\t    \t    \n",
            "init\t [4.00927467 3.23417577]\t 35.55852254546393\t 17.388691338534382\t    \t    \n",
            "init\t [-4.75249064  1.96359764]\t 36.54582989269194\t 17.388691338534382\t    \t    \n",
            "init\t [-1.24230715  0.18955208]\t 17.388691338534382\t 17.388691338534382\t    \t    \n",
            "init\t [ 1.61742301 -3.13497377]\t 33.22932870179905\t 17.388691338534382\t    \t    \n",
            "1  \t [-4.8756372  -3.99082775]\t 42.61582518530257\t 17.388691338534382\t 2.412682223371993\t 3.460756240350176\n",
            "2  \t [ 5.12       -0.92645185]\t 30.83191879561124\t 17.388691338534382\t 2.970906726606942\t 3.949389444691686\n",
            "3  \t [ 5.12 -5.12]\t 57.849427451571785\t 17.388691338534382\t 2.8668775820115364\t 3.3501468758031114\n",
            "4  \t [-2.70376655  5.12      ]\t 49.09931674724996\t 17.388691338534382\t 2.7702229669115663\t 3.750479539650046\n",
            "5  \t [-1.35997306 -5.12      ]\t 47.14717601037414\t 17.388691338534382\t 3.2399873735469007\t 3.187940759368062\n",
            "6  \t [1.91306919 0.46597124]\t 25.104227589538688\t 17.388691338534382\t 3.2142550700811174\t 3.2021756710873093\n",
            "7  \t [-3.94038934 -1.05673002]\t 17.965172364649504\t 17.388691338534382\t 3.440759242946075\t 3.5153870020344025\n",
            "8  \t [-1.38280595 -2.26649506]\t 35.49294792534755\t 17.388691338534382\t 3.3630309558710643\t 3.4384009769692607\n",
            "9  \t [-1.35306706  2.54843107]\t 43.898512648002104\t 17.388691338534382\t 3.3078223604072146\t 3.4171411457108474\n",
            "10 \t [-5.12  5.12]\t 57.849427451571785\t 17.388691338534382\t 3.042383771798486\t 3.397368229029769\n",
            "11 \t [5.12 5.12]\t 57.849427451571785\t 17.388691338534382\t 3.246867143593272\t 3.37476809179466\n",
            "12 \t [ 2.26859798 -5.12      ]\t 45.237138258997675\t 17.388691338534382\t 3.149485629105125\t 3.0636800957146693\n",
            "13 \t [5.12       1.32196516]\t 45.041494205139735\t 17.388691338534382\t 3.0789309093326973\t 3.417593685953778\n",
            "14 \t [2.42739377 5.12      ]\t 53.79429150131361\t 17.388691338534382\t 2.5968265453113286\t 2.758048882857094\n",
            "15 \t [ 3.9217057  -2.68529949]\t 37.730617930688084\t 17.388691338534382\t 2.3253327056693456\t 2.913232762705925\n",
            "16 \t [ 0.6218898  -1.06435416]\t 19.53390170188917\t 17.388691338534382\t 2.5868337845351443\t 2.6113643789149887\n",
            "17 \t [1.34907475 2.28111229]\t 34.7966131151317\t 17.388691338534382\t 2.4181613841290774\t 2.551911165699887\n",
            "18 \t [-0.39130371  5.12      ]\t 46.83492000394844\t 17.388691338534382\t 3.150696943299546\t 2.9045531201253216\n",
            "19 \t [-5.12       -0.18696805]\t 35.101978601924436\t 17.388691338534382\t 2.9629609860884174\t 2.7706038907117625\n",
            "20 \t [-2.88340588  0.63472106]\t 27.90865806715732\t 17.388691338534382\t 2.590414268689389\t 2.565134424234148\n"
          ]
        }
      ],
      "source": [
        "### ESTIMATED STP ERM GRADIENTS\n",
        "\n",
        "np.random.seed(run_num_20)\n",
        "surrogate_approx_20 = dtStudentProcess(cov_func, optimize=opt, nu = df)\n",
        "\n",
        "approx_20 = GPGO_multi(surrogate_approx_20, Acquisition_grad(util), objfunc, param)\n",
        "approx_20.run(init_evals=n_init, max_iter=iters)\n"
      ]
    },
    {
      "cell_type": "code",
      "execution_count": 33,
      "metadata": {
        "id": "xkgzPRbBTHaq",
        "colab": {
          "base_uri": "https://localhost:8080/"
        },
        "outputId": "c8acdbb2-9892-4655-cebb-e85e82aaf53d"
      },
      "outputs": [
        {
          "output_type": "execute_result",
          "data": {
            "text/plain": [
              "1663323842.6714807"
            ]
          },
          "metadata": {},
          "execution_count": 33
        }
      ],
      "source": [
        "end_approx = time.time()\n",
        "end_approx\n",
        "\n",
        "time_approx = end_approx - start_approx\n",
        "time_approx\n",
        "\n",
        "start_exact = time.time()\n",
        "start_exact"
      ]
    },
    {
      "cell_type": "code",
      "execution_count": 34,
      "metadata": {
        "id": "7CG3Ndvb16Rb",
        "colab": {
          "base_uri": "https://localhost:8080/"
        },
        "outputId": "5ba23e90-f2f6-4ca8-ba63-ab55e78d0245"
      },
      "outputs": [
        {
          "output_type": "stream",
          "name": "stdout",
          "text": [
            "Evaluation \t Proposed point \t  Current eval. \t  Best eval. \t        Exact ERM: StdDev. x \t Approx ERM: StdDev. x \n",
            "init\t [-0.84969467  2.25612281]\t 20.33436270766351\t 19.908403246996286\t    \t    \n",
            "init\t [-5.1188288  -2.02411446]\t 33.07414982069084\t 19.908403246996286\t    \t    \n",
            "init\t [-3.61721968 -4.17445279]\t 53.347974723929894\t 19.908403246996286\t    \t    \n",
            "init\t [-3.21269544 -1.58145816]\t 39.218472310354045\t 19.908403246996286\t    \t    \n",
            "init\t [-1.05710106  0.39748336]\t 19.908403246996286\t 19.908403246996286\t    \t    \n",
            "1  \t [ 4.04077223 -4.24914728]\t 44.655863836006326\t 19.908403246996286\t 3.4117089087595756\t 4.379835009910504\n",
            "2  \t [5.12 5.12]\t 57.84942745157173\t 19.908403246996286\t 3.2389283766749113\t 3.7231842285171055\n",
            "3  \t [5.12       0.34186208]\t 44.49826684520418\t 19.908403246996286\t 2.9770906474939927\t 4.007645721808183\n",
            "4  \t [-4.89963046  4.58717049]\t 65.50921217506412\t 19.908403246996286\t 2.820685942068005\t 4.057072976487511\n",
            "5  \t [ 0.22552721 -5.12      ]\t 37.4439580955668\t 19.908403246996286\t 2.650510181670767\t 3.307253864110312\n",
            "6  \t [1.35165197 5.12      ]\t 46.71318433524046\t 19.908403246996286\t 2.4337193653023754\t 2.9825768874031704\n",
            "7  \t [ 1.75285679 -1.28387743]\t 26.653904378997616\t 19.908403246996286\t 2.867011630592056\t 3.407788112353512\n",
            "8  \t [-5.12        1.26522847]\t 41.48089044363376\t 19.908403246996286\t 2.848770844485488\t 3.5508615421737386\n",
            "9  \t [-1.53935871  5.12      ]\t 50.99011244575156\t 19.908403246996286\t 2.8733684680555567\t 3.290109327467205\n",
            "10 \t [2.31265055 2.02382745]\t 23.391661826870305\t 19.908403246996286\t 2.4632083846376758\t 3.327695177427014\n",
            "11 \t [-0.64777125 -2.07974949]\t 21.964891192333063\t 19.908403246996286\t 2.657883636370959\t 2.8979163944730493\n",
            "12 \t [-2.90183979  2.65416755]\t 32.97172215447819\t 19.908403246996286\t 3.07137529741029\t 3.1398142243482208\n",
            "13 \t [4.89159185 2.69543754]\t 46.78605431642686\t 19.908403246996286\t 2.199337187618974\t 2.743133240081709\n",
            "14 \t [ 5.06478311 -1.83063436]\t 34.967874183014096\t 19.908403246996286\t 2.7570264992110953\t 3.2086386460840086\n",
            "15 \t [ 1.63504422 -3.26348549]\t 40.781046305824326\t 19.908403246996286\t 2.497063933995244\t 2.6767237538347484\n",
            "\u001b[1m\u001b[92m16\u001b[0m\t \u001b[1m\u001b[92m[0.96943141 0.61038461]\u001b[0m\t \u001b[1m\u001b[92m19.185957102541316\u001b[0m\t \u001b[1m\u001b[92m19.185957102541316\u001b[0m\t \u001b[1m\u001b[92m2.673588834582411\u001b[0m\t \u001b[1m\u001b[92m2.9745203011948784\u001b[0m\n",
            "17 \t [-1.33734476 -3.66365437]\t 45.590526745012276\t 19.185957102541316\t 2.9404413185178027\t 2.9392677843454638\n",
            "18 \t [-5.12 -5.12]\t 57.849427451571785\t 19.185957102541316\t 2.7467281805700035\t 2.8983288142861006\n",
            "19 \t [ 3.56045279 -0.47043527]\t 52.01334794564705\t 19.185957102541316\t 2.9173411484526737\t 2.893876882350277\n",
            "20 \t [0.89272876 3.25018594]\t 23.55907303889871\t 19.185957102541316\t 2.6750110279748838\t 3.116300183498882\n"
          ]
        }
      ],
      "source": [
        "### EXACT STP ERM GRADIENTS\n",
        "\n",
        "np.random.seed(run_num_1)\n",
        "surrogate_exact_1 = dtStudentProcess(cov_func, optimize=opt, nu = df)\n",
        "\n",
        "exact_1 = dGPGO(surrogate_exact_1, Acquisition_grad(util), objfunc, param)\n",
        "exact_1.run(init_evals=n_init, max_iter=iters)\n"
      ]
    },
    {
      "cell_type": "code",
      "execution_count": 35,
      "metadata": {
        "id": "-ilCPSAu9SAg",
        "colab": {
          "base_uri": "https://localhost:8080/"
        },
        "outputId": "ece93b03-2ac7-495a-b4c0-0535297d6129"
      },
      "outputs": [
        {
          "output_type": "stream",
          "name": "stdout",
          "text": [
            "Evaluation \t Proposed point \t  Current eval. \t  Best eval. \t        Exact ERM: StdDev. x \t Approx ERM: StdDev. x \n",
            "init\t [-0.6554122  -4.85451539]\t 43.490296251903594\t 18.964539418712707\t    \t    \n",
            "init\t [ 0.50854377 -0.6622987 ]\t 35.91861667536101\t 18.964539418712707\t    \t    \n",
            "init\t [-0.81543371 -1.73737143]\t 20.479562046739524\t 18.964539418712707\t    \t    \n",
            "init\t [-3.02439799  1.2213347 ]\t 18.964539418712707\t 18.964539418712707\t    \t    \n",
            "init\t [-2.05153614 -2.3876887 ]\t 28.041315668371354\t 18.964539418712707\t    \t    \n",
            "1  \t [4.81874241 3.07464552]\t 39.56740440269988\t 18.964539418712707\t 3.829271915346961\t 4.305449800012825\n",
            "2  \t [ 4.84260546 -3.96517156]\t 43.916134329740714\t 18.964539418712707\t 2.9269960005289626\t 4.27452618776966\n",
            "3  \t [0.0446565 5.12     ]\t 29.317772053854277\t 18.964539418712707\t 3.540985015332424\t 4.072575528122128\n",
            "4  \t [-5.12 -5.12]\t 57.849427451571785\t 18.964539418712707\t 3.2787709163420056\t 3.9124867792152713\n",
            "5  \t [ 4.16195973 -0.38137878]\t 39.56217438441193\t 18.964539418712707\t 3.186327682111874\t 3.4364562101265856\n",
            "6  \t [-3.94061225  4.89057193]\t 42.40627274113078\t 18.964539418712707\t 3.5324802343326462\t 3.8368414752745297\n",
            "7  \t [1.5746823  2.35797644]\t 43.234548062924404\t 18.964539418712707\t 3.154813061254612\t 3.2137737946347458\n",
            "8  \t [ 2.0355319  -3.58587341]\t 35.82941110151534\t 18.964539418712707\t 2.644985033523455\t 3.278542515427186\n",
            "9  \t [-5.12       -1.40767108]\t 49.27022212086658\t 18.964539418712707\t 3.287789437317968\t 3.4419024933863853\n",
            "10 \t [-1.08335749  2.72137431]\t 21.708969796332035\t 18.964539418712707\t 3.288687445516526\t 3.453854856250992\n",
            "11 \t [4.14878707 5.12      ]\t 50.19781087866237\t 18.964539418712707\t 2.852736225496899\t 3.415354436906175\n",
            "12 \t [-4.50532319  0.89672107]\t 43.129087573684906\t 18.964539418712707\t 2.6774460109537257\t 3.185346830064756\n",
            "13 \t [1.9613318 5.12     ]\t 33.06523366237435\t 18.964539418712707\t 2.9146407353408956\t 3.2427014533699086\n",
            "14 \t [-5.12        3.03478067]\t 38.37244284333582\t 18.964539418712707\t 2.980262297257978\t 3.403770478999947\n",
            "15 \t [-2.92713572 -4.40056142]\t 47.073735461351006\t 18.964539418712707\t 2.6520703085913313\t 3.495940490585774\n",
            "\u001b[1m\u001b[92m16\u001b[0m\t \u001b[1m\u001b[92m[-1.09690394  0.2669034 ]\u001b[0m\t \u001b[1m\u001b[92m14.131537398560507\u001b[0m\t \u001b[1m\u001b[92m14.131537398560507\u001b[0m\t \u001b[1m\u001b[92m2.6411717354434066\u001b[0m\t \u001b[1m\u001b[92m2.83601902494089\u001b[0m\n",
            "17 \t [ 2.35094553 -1.34101103]\t 38.66286291198526\t 14.131537398560507\t 2.2419251413862096\t 2.999360409109876\n",
            "18 \t [-1.67692324  5.03157166]\t 42.75680133811885\t 14.131537398560507\t 2.677965876365942\t 3.416015779826218\n",
            "19 \t [5.12       1.29188404]\t 43.195058785425836\t 14.131537398560507\t 2.609847208086608\t 3.1562965819978372\n",
            "20 \t [-2.8732538  -0.47271483]\t 31.339389660503173\t 14.131537398560507\t 3.122767347886572\t 2.925028863424466\n"
          ]
        }
      ],
      "source": [
        "### EXACT STP ERM GRADIENTS\n",
        "\n",
        "np.random.seed(run_num_2)\n",
        "surrogate_exact_2 = dtStudentProcess(cov_func, optimize=opt, nu = df)\n",
        "\n",
        "exact_2 = dGPGO(surrogate_exact_2, Acquisition_grad(util), objfunc, param)\n",
        "exact_2.run(init_evals=n_init, max_iter=iters)\n"
      ]
    },
    {
      "cell_type": "code",
      "execution_count": 36,
      "metadata": {
        "id": "XieJ158mIvlP",
        "colab": {
          "base_uri": "https://localhost:8080/"
        },
        "outputId": "81b1b377-1573-4c16-e7de-2aacc2ac58cb"
      },
      "outputs": [
        {
          "output_type": "stream",
          "name": "stdout",
          "text": [
            "Evaluation \t Proposed point \t  Current eval. \t  Best eval. \t        Exact ERM: StdDev. x \t Approx ERM: StdDev. x \n",
            "init\t [0.52017052 2.1314337 ]\t 27.953858411008774\t 10.607662635789808\t    \t    \n",
            "init\t [-2.14113547  0.11087468]\t 10.607662635789808\t 10.607662635789808\t    \t    \n",
            "init\t [4.02377681 4.05804123]\t 33.42749829480097\t 10.607662635789808\t    \t    \n",
            "init\t [-3.83400642 -2.99783293]\t 28.650953928965198\t 10.607662635789808\t    \t    \n",
            "init\t [-4.59297584 -0.6061072 ]\t 57.6631355589384\t 10.607662635789808\t    \t    \n",
            "1  \t [ 2.87042319 -1.98283743]\t 15.364229918613852\t 10.607662635789808\t 2.5001316621260035\t 2.787389595261731\n",
            "2  \t [-3.53694314  4.84725673]\t 60.000131826075666\t 10.607662635789808\t 3.0319382582865906\t 4.074179990657981\n",
            "3  \t [5.03286088 0.8111412 ]\t 32.45221551215277\t 10.607662635789808\t 2.5513620332595104\t 3.4633540901877953\n",
            "4  \t [-0.00755055 -5.12      ]\t 28.936022115238544\t 10.607662635789808\t 3.1845286421945174\t 3.2712868283621837\n",
            "5  \t [ 3.29774165 -4.75460931]\t 56.146750686692506\t 10.607662635789808\t 2.781481516483274\t 3.62491379339214\n",
            "6  \t [-5.12 -5.12]\t 57.849427451571785\t 10.607662635789808\t 2.876787130242141\t 2.9429844240201812\n",
            "7  \t [0.31085304 5.12      ]\t 42.75237017624444\t 10.607662635789808\t 2.884511343694446\t 3.006752349631791\n",
            "8  \t [-5.06298619  2.29811892]\t 44.66566769522963\t 10.607662635789808\t 2.6711822820615243\t 2.7661467768370334\n",
            "9  \t [ 0.49875776 -1.61579168]\t 40.32735999089754\t 10.607662635789808\t 2.471918833467419\t 2.6944752622876256\n",
            "10 \t [ 5.12       -2.24704117]\t 43.78800970781035\t 10.607662635789808\t 2.8160519917361495\t 3.118907267145906\n",
            "11 \t [2.57815317 0.59933554]\t 43.939093902148215\t 10.607662635789808\t 2.912819791388722\t 2.770946629104398\n",
            "12 \t [-2.22156924  2.69746869]\t 33.675870549083946\t 10.607662635789808\t 2.9588028997694984\t 3.271507496288928\n",
            "13 \t [-1.56548302 -2.51792015]\t 47.89278788481653\t 10.607662635789808\t 3.3455403659917087\t 3.048349797630422\n",
            "14 \t [5.12 5.12]\t 57.849427451571785\t 10.607662635789808\t 2.6933971461881487\t 3.2814454100125703\n",
            "15 \t [-2.54156542 -4.80683448]\t 55.73051403841442\t 10.607662635789808\t 2.788660275409604\t 3.063242974759098\n",
            "16 \t [2.36812362 3.12968086]\t 35.30189164196739\t 10.607662635789808\t 2.4260488806228584\t 3.2404759225298156\n",
            "17 \t [-0.62028504  0.8715712 ]\t 21.504703372506192\t 10.607662635789808\t 1.934527557144165\t 3.0080635869064\n",
            "18 \t [2.450612 5.12    ]\t 54.45259039382934\t 10.607662635789808\t 2.498362385440966\t 3.521983798147437\n",
            "19 \t [ 1.65854705 -3.80187241]\t 39.438293378538816\t 10.607662635789808\t 2.6632237277775563\t 3.427317770137143\n",
            "20 \t [5.12       2.63319204]\t 52.55631474423513\t 10.607662635789808\t 2.2335785333831994\t 2.981467500586316\n"
          ]
        }
      ],
      "source": [
        "### EXACT STP ERM GRADIENTS\n",
        "\n",
        "np.random.seed(run_num_3)\n",
        "surrogate_exact_3 = dtStudentProcess(cov_func, optimize=opt, nu = df)\n",
        "\n",
        "exact_3 = dGPGO(surrogate_exact_3, Acquisition_grad(util), objfunc, param)\n",
        "exact_3.run(init_evals=n_init, max_iter=iters)\n"
      ]
    },
    {
      "cell_type": "code",
      "execution_count": 37,
      "metadata": {
        "id": "PhLBVOIfIvol",
        "colab": {
          "base_uri": "https://localhost:8080/"
        },
        "outputId": "72d8b99f-d1f0-432c-f35b-d8b3f76fda44"
      },
      "outputs": [
        {
          "output_type": "stream",
          "name": "stdout",
          "text": [
            "Evaluation \t Proposed point \t  Current eval. \t  Best eval. \t        Exact ERM: StdDev. x \t Approx ERM: StdDev. x \n",
            "init\t [4.78238555 0.48365823]\t 51.03163809010808\t 14.323038259018315\t    \t    \n",
            "init\t [4.84028785 2.19971578]\t 39.78645699016559\t 14.323038259018315\t    \t    \n",
            "init\t [ 2.02474316 -2.90724357]\t 14.323038259018315\t 14.323038259018315\t    \t    \n",
            "init\t [ 4.87705042 -5.05620219]\t 52.80627247106233\t 14.323038259018315\t    \t    \n",
            "init\t [-2.52946061 -0.66773471]\t 41.61497868486559\t 14.323038259018315\t    \t    \n",
            "1  \t [-0.26413194  5.12      ]\t 39.88124879324639\t 14.323038259018315\t 2.8385678702776023\t 3.9165474383674814\n",
            "2  \t [-5.12 -5.12]\t 57.849427451571785\t 14.323038259018315\t 3.4932081758928697\t 3.4541585632406213\n",
            "3  \t [-0.98602895 -5.12      ]\t 29.935471106881437\t 14.323038259018315\t 3.260134142619433\t 3.670167529185935\n",
            "4  \t [0.80702247 1.32918437]\t 23.683915964249394\t 14.323038259018315\t 2.9241901226329987\t 3.657716177724031\n",
            "5  \t [-5.10987454  3.81089509]\t 49.19010637503044\t 14.323038259018315\t 2.9818575820563913\t 3.6621510878242267\n",
            "6  \t [3.47578935 5.12      ]\t 60.89034574936103\t 14.323038259018315\t 3.012951412901527\t 3.2923746539818874\n",
            "7  \t [-1.81595122  2.29782534]\t 27.511356313045827\t 14.323038259018315\t 2.516016778704597\t 3.068887240072189\n",
            "\u001b[1m\u001b[92m8\u001b[0m\t \u001b[1m\u001b[92m[ 0.02323323 -2.14621667]\u001b[0m\t \u001b[1m\u001b[92m8.644657701278065\u001b[0m\t \u001b[1m\u001b[92m8.644657701278065\u001b[0m\t \u001b[1m\u001b[92m2.7863021657061204\u001b[0m\t \u001b[1m\u001b[92m3.1795779443484316\u001b[0m\n",
            "9  \t [-5.12        0.37713977]\t 46.23244142924355\t 8.644657701278065\t 2.8992142738273086\t 3.336611661348815\n",
            "10 \t [ 4.66237648 -2.21719014]\t 49.8383544278644\t 8.644657701278065\t 3.3235387854403062\t 3.49610135584844\n",
            "11 \t [ 1.6160598  -5.06757708]\t 46.63685664511009\t 8.644657701278065\t 3.447622680286591\t 3.0363793006929045\n",
            "12 \t [-3.84041011 -2.70485926]\t 39.48340880921728\t 8.644657701278065\t 2.770254216586092\t 3.0732278686139085\n",
            "13 \t [ 2.10318136 -0.64436416]\t 23.02809704055799\t 8.644657701278065\t 2.357978084055569\t 2.9556329247361206\n",
            "14 \t [-2.69661411  4.93900667]\t 45.68269128575577\t 8.644657701278065\t 2.7817932376899983\t 3.3916160417802814\n",
            "15 \t [2.0393595  2.98704013]\t 13.41876977473117\t 8.644657701278065\t 2.5210513699272203\t 2.7930072836891022\n",
            "16 \t [-0.40445598 -0.17222192]\t 23.750057180360834\t 8.644657701278065\t 3.0366334589477355\t 2.7596001655892226\n",
            "17 \t [-0.51801744 -3.15707059]\t 34.65866723409305\t 8.644657701278065\t 2.5464927291591293\t 2.7267549693037596\n",
            "18 \t [5.12       4.22569756]\t 55.260193555063594\t 8.644657701278065\t 2.817727131332519\t 3.143940578535055\n",
            "19 \t [-3.6189379   1.95408626]\t 34.663609500118866\t 8.644657701278065\t 2.573099679252809\t 2.9194402926873817\n",
            "20 \t [0.0994799 3.1549447]\t 16.2305301148968\t 8.644657701278065\t 2.5041351244937156\t 2.446574812680891\n"
          ]
        }
      ],
      "source": [
        "### EXACT STP ERM GRADIENTS\n",
        "\n",
        "np.random.seed(run_num_4)\n",
        "surrogate_exact_4 = dtStudentProcess(cov_func, optimize=opt, nu = df)\n",
        "\n",
        "exact_4 = dGPGO(surrogate_exact_4, Acquisition_grad(util), objfunc, param)\n",
        "exact_4.run(init_evals=n_init, max_iter=iters)\n"
      ]
    },
    {
      "cell_type": "code",
      "execution_count": 38,
      "metadata": {
        "id": "arbiPyj2IvsJ",
        "colab": {
          "base_uri": "https://localhost:8080/"
        },
        "outputId": "b7113532-cf63-4c26-87c3-7a4ea3dadc3c"
      },
      "outputs": [
        {
          "output_type": "stream",
          "name": "stdout",
          "text": [
            "Evaluation \t Proposed point \t  Current eval. \t  Best eval. \t        Exact ERM: StdDev. x \t Approx ERM: StdDev. x \n",
            "init\t [-2.84678993  3.79629882]\t 33.93442008827236\t 7.8108627039749745\t    \t    \n",
            "init\t [-3.00319585  4.2865757 ]\t 39.673876075575784\t 7.8108627039749745\t    \t    \n",
            "init\t [-0.11866943  1.14425716]\t 7.8108627039749745\t 7.8108627039749745\t    \t    \n",
            "init\t [2.72289645 0.1886002 ]\t 25.38160395721669\t 7.8108627039749745\t    \t    \n",
            "init\t [-2.08076286 -3.19773462]\t 22.589982116319675\t 7.8108627039749745\t    \t    \n",
            "1  \t [ 4.32895605 -5.09732646]\t 61.29478907190488\t 7.8108627039749745\t 4.366514082960086\t 4.549475035449732\n",
            "2  \t [5.12 5.12]\t 57.849427451571785\t 7.8108627039749745\t 3.9440483831464404\t 4.054974884674912\n",
            "3  \t [-5.07831255 -0.23039965]\t 35.800275630858195\t 7.8108627039749745\t 3.355324415184524\t 3.802973433768179\n",
            "4  \t [1.11286109 5.12      ]\t 32.573867914589655\t 7.8108627039749745\t 3.331375424289776\t 3.4758355926341533\n",
            "5  \t [-5.12 -5.12]\t 57.849427451571785\t 7.8108627039749745\t 3.4314622915566044\t 3.33413738247916\n",
            "6  \t [ 1.17556294 -2.78971694]\t 22.186439570961095\t 7.8108627039749745\t 3.137801186093817\t 3.232510127877925\n",
            "7  \t [5.12       1.82450854]\t 37.74117543287156\t 7.8108627039749745\t 2.373899083185153\t 2.649972601392365\n",
            "8  \t [ 5.12      -1.5617251]\t 50.62101690320381\t 7.8108627039749745\t 3.0690351390322825\t 3.119032435213865\n",
            "\u001b[1m\u001b[92m9\u001b[0m\t \u001b[1m\u001b[92m[-2.07816328 -0.01209596]\u001b[0m\t \u001b[1m\u001b[92m5.529697434815414\u001b[0m\t \u001b[1m\u001b[92m5.529697434815414\u001b[0m\t \u001b[1m\u001b[92m2.884151394248721\u001b[0m\t \u001b[1m\u001b[92m2.947156617640394\u001b[0m\n",
            "10 \t [1.9952152  2.70722677]\t 23.96976522029879\t 5.529697434815414\t 2.6562651597999443\t 3.1544849035725933\n",
            "11 \t [-0.55781847 -5.12      ]\t 48.583223621086205\t 5.529697434815414\t 2.6726863883574286\t 3.2625097366000193\n",
            "\u001b[1m\u001b[92m12\u001b[0m\t \u001b[1m\u001b[92m[-5.70141363e-04 -8.39420833e-01]\u001b[0m\t \u001b[1m\u001b[92m5.377184472763668\u001b[0m\t \u001b[1m\u001b[92m5.377184472763668\u001b[0m\t \u001b[1m\u001b[92m2.7640118701716547\u001b[0m\t \u001b[1m\u001b[92m3.0137010922641716\u001b[0m\n",
            "13 \t [-3.17521825  1.5802045 ]\t 36.80824435497347\t 5.377184472763668\t 2.6909068845758815\t 3.2025049220216553\n",
            "14 \t [-5.12        3.16600736]\t 43.91248369087812\t 5.377184472763668\t 2.8161417956512618\t 3.1891054414437217\n",
            "15 \t [-0.46588996  3.68596059]\t 47.490587047134646\t 5.377184472763668\t 2.2834857239177317\t 3.016994435135639\n",
            "16 \t [-2.08342815 -1.31894895]\t 21.6209717156042\t 5.377184472763668\t 2.6183867492600466\t 3.297571100095688\n",
            "17 \t [ 2.91218185 -1.64431562]\t 28.831628296977712\t 5.377184472763668\t 2.807328508137623\t 3.231804021687553\n",
            "18 \t [-4.25693367 -2.63714603]\t 52.02291706982717\t 5.377184472763668\t 3.128894290107983\t 3.1031284578304423\n",
            "19 \t [-2.85836491 -4.89147712]\t 38.038093327295144\t 5.377184472763668\t 2.7532172630328224\t 3.2726755376655237\n",
            "20 \t [0.98077798 0.40473436]\t 19.459992944697422\t 5.377184472763668\t 2.4520111525272044\t 3.0227471987863432\n"
          ]
        }
      ],
      "source": [
        "### EXACT STP ERM GRADIENTS\n",
        "\n",
        "np.random.seed(run_num_5)\n",
        "surrogate_exact_5 = dtStudentProcess(cov_func, optimize=opt, nu = df)\n",
        "\n",
        "exact_5 = dGPGO(surrogate_exact_5, Acquisition_grad(util), objfunc, param)\n",
        "exact_5.run(init_evals=n_init, max_iter=iters)\n"
      ]
    },
    {
      "cell_type": "code",
      "execution_count": 39,
      "metadata": {
        "id": "04KJCEm_Ivvf",
        "colab": {
          "base_uri": "https://localhost:8080/"
        },
        "outputId": "7076baf3-c73b-419d-b43b-a3fb5f66e697"
      },
      "outputs": [
        {
          "output_type": "stream",
          "name": "stdout",
          "text": [
            "Evaluation \t Proposed point \t  Current eval. \t  Best eval. \t        Exact ERM: StdDev. x \t Approx ERM: StdDev. x \n",
            "init\t [ 4.02288795 -1.72052679]\t 31.08835710146886\t 17.28954482757088\t    \t    \n",
            "init\t [ 3.28938622 -4.69302655]\t 58.797867722203385\t 17.28954482757088\t    \t    \n",
            "init\t [-4.0175956   0.97333314]\t 17.28954482757088\t 17.28954482757088\t    \t    \n",
            "init\t [ 0.30532979 -0.83141193]\t 19.296253155889353\t 17.28954482757088\t    \t    \n",
            "init\t [-1.68542362  1.25459899]\t 28.650630936276173\t 17.28954482757088\t    \t    \n",
            "1  \t [3.10974016 5.12      ]\t 40.87966867973\t 17.28954482757088\t 3.740609366195705\t 4.268656808767541\n",
            "2  \t [-3.10570031 -5.12      ]\t 40.69558357074551\t 17.28954482757088\t 3.6017013135372684\t 4.012522677294071\n",
            "3  \t [-3.12422925  5.12      ]\t 41.580293612307635\t 17.28954482757088\t 3.4230200983143297\t 3.9217861694426532\n",
            "4  \t [5.12       1.88628015]\t 34.928707002821\t 17.28954482757088\t 3.2461115616692178\t 3.5237359908919315\n",
            "5  \t [1.52258322 2.19733046]\t 33.796768791344135\t 17.28954482757088\t 2.9220441334375824\t 3.055775098493563\n",
            "6  \t [-5.12       -2.21753713]\t 41.81659601719733\t 17.28954482757088\t 3.5802381665063634\t 3.676927295015867\n",
            "7  \t [-0.56490655 -3.42035206]\t 49.9715062260303\t 17.28954482757088\t 3.1965137719591215\t 3.3816524751670896\n",
            "8  \t [0.08476764 5.12      ]\t 30.317056332119705\t 17.28954482757088\t 2.750508223710625\t 3.7252648061960825\n",
            "9  \t [-2.42230786 -1.27209934]\t 37.701898098695196\t 17.28954482757088\t 2.3292871590769413\t 3.153850314650351\n",
            "10 \t [5.12 5.12]\t 57.849427451571785\t 17.28954482757088\t 3.160419695550936\t 3.656123896435412\n",
            "11 \t [-5.04047105  2.78477358]\t 41.31533682358309\t 17.28954482757088\t 2.9652921023025693\t 3.3884471040982236\n",
            "12 \t [2.70151465 0.22043032]\t 28.49904431529463\t 17.28954482757088\t 2.4806470730609673\t 3.1211064114959055\n",
            "13 \t [-0.35270283  2.96557391]\t 25.166446212238903\t 17.28954482757088\t 2.788295515941649\t 3.1246905305396098\n",
            "14 \t [ 5.12       -0.17409947]\t 34.36477765281321\t 17.28954482757088\t 2.2091054483284793\t 3.909362946075418\n",
            "15 \t [ 1.91387318 -2.6513247 ]\t 27.931580991093462\t 17.28954482757088\t 2.9414559411897687\t 3.3386496749720513\n",
            "16 \t [ 4.90472415 -3.31388097]\t 50.68392804367505\t 17.28954482757088\t 2.9703609187256568\t 3.625894073339936\n",
            "17 \t [ 0.46194395 -5.12      ]\t 48.85358980776839\t 17.28954482757088\t 2.8587917793082336\t 3.542727371781711\n",
            "18 \t [-5.12 -5.12]\t 57.849427451571785\t 17.28954482757088\t 3.032338145759735\t 3.6064498130674854\n",
            "19 \t [-1.80038732  3.31683819]\t 35.206714281458275\t 17.28954482757088\t 2.930450530611625\t 3.363611975277787\n",
            "\u001b[1m\u001b[92m20\u001b[0m\t \u001b[1m\u001b[92m[0.10858899 0.87897334]\u001b[0m\t \u001b[1m\u001b[92m5.777668116066425\u001b[0m\t \u001b[1m\u001b[92m5.777668116066425\u001b[0m\t \u001b[1m\u001b[92m2.4294079912149686\u001b[0m\t \u001b[1m\u001b[92m3.1908693239844133\u001b[0m\n"
          ]
        }
      ],
      "source": [
        "### EXACT STP ERM GRADIENTS\n",
        "\n",
        "np.random.seed(run_num_6)\n",
        "surrogate_exact_6 = dtStudentProcess(cov_func, optimize=opt, nu = df)\n",
        "\n",
        "exact_6 = dGPGO(surrogate_exact_6, Acquisition_grad(util), objfunc, param)\n",
        "exact_6.run(init_evals=n_init, max_iter=iters)\n"
      ]
    },
    {
      "cell_type": "code",
      "execution_count": 40,
      "metadata": {
        "id": "tAOkme3CIvyO",
        "colab": {
          "base_uri": "https://localhost:8080/"
        },
        "outputId": "33056b04-0b79-426b-fe38-71ba6f6c103b"
      },
      "outputs": [
        {
          "output_type": "stream",
          "name": "stdout",
          "text": [
            "Evaluation \t Proposed point \t  Current eval. \t  Best eval. \t        Exact ERM: StdDev. x \t Approx ERM: StdDev. x \n",
            "init\t [-4.33860312  2.86636843]\t 45.646133072936244\t 22.52235437888213\t    \t    \n",
            "init\t [-0.63068947  2.28828342]\t 34.83012662845338\t 22.52235437888213\t    \t    \n",
            "init\t [4.8946126  0.39419771]\t 44.09657005662876\t 22.52235437888213\t    \t    \n",
            "init\t [ 0.01147355 -4.38219639]\t 36.613209822404315\t 22.52235437888213\t    \t    \n",
            "init\t [-2.37118484e+00 -1.20319155e-03]\t 22.52235437888213\t 22.52235437888213\t    \t    \n",
            "1  \t [-5.12 -5.12]\t 57.849427451571785\t 22.52235437888213\t 3.134600234870904\t 3.94443685311841\n",
            "2  \t [3.68767284 5.12      ]\t 56.34044378197075\t 22.52235437888213\t 3.4510380562374894\t 4.070354242067437\n",
            "3  \t [ 4.55258248 -4.13835288]\t 60.85750692112466\t 22.52235437888213\t 3.1377768066669414\t 3.923548407660819\n",
            "4  \t [-4.02558214 -1.33646422]\t 33.289738493146906\t 22.52235437888213\t 2.8760812574369483\t 3.046307140328312\n",
            "5  \t [ 1.36915804 -0.79579852]\t 26.476644676101813\t 22.52235437888213\t 3.072743778814163\t 3.0691108964271123\n",
            "6  \t [-1.3966946  5.12     ]\t 48.841829550688615\t 22.52235437888213\t 2.97143010686969\t 3.647494884670428\n",
            "7  \t [2.30466668 2.37564338]\t 41.422431582185425\t 22.52235437888213\t 2.701939205008457\t 2.9535142661227796\n",
            "8  \t [-2.24018732 -3.150197  ]\t 28.458187961991726\t 22.52235437888213\t 3.0553379680643276\t 3.75472530620895\n",
            "9  \t [1.11046691 5.12      ]\t 32.47145116767401\t 22.52235437888213\t 3.3183771833394946\t 3.559167820694811\n",
            "10 \t [-5.02023677  4.92727657]\t 50.58746939743787\t 22.52235437888213\t 3.1601052217246766\t 3.388560432789176\n",
            "11 \t [5.12       3.00396831]\t 37.9516475731503\t 22.52235437888213\t 2.7109887937933315\t 2.8947360651740666\n",
            "12 \t [ 2.25581812 -3.22325669]\t 34.171145632338366\t 22.52235437888213\t 3.171001537505423\t 3.250590657101304\n",
            "13 \t [-2.43247955 -5.12      ]\t 53.955174551829856\t 22.52235437888213\t 3.1859840469016087\t 3.2095982498355085\n",
            "14 \t [-0.66722669 -0.70037238]\t 28.97311823347916\t 22.52235437888213\t 2.164461927828437\t 2.938741825191076\n",
            "15 \t [ 4.00291161 -1.59915202]\t 36.70363397533386\t 22.52235437888213\t 2.809983663514719\t 3.0904889185789948\n",
            "16 \t [-2.47683397  1.76671611]\t 38.10187178669381\t 22.52235437888213\t 2.430191188485538\t 2.8155574060517554\n",
            "17 \t [-5.12       0.4059713]\t 47.39448090732905\t 22.52235437888213\t 2.7680574154505804\t 2.795056352095406\n",
            "18 \t [ 1.82233131 -4.99696703]\t 33.90251540276881\t 22.52235437888213\t 3.4644228711660325\t 3.372745600325057\n",
            "\u001b[1m\u001b[92m19\u001b[0m\t \u001b[1m\u001b[92m[1.0729224  0.85843752]\u001b[0m\t \u001b[1m\u001b[92m6.621219156627405\u001b[0m\t \u001b[1m\u001b[92m6.621219156627405\u001b[0m\t \u001b[1m\u001b[92m2.816837356917962\u001b[0m\t \u001b[1m\u001b[92m3.1762742547386416\u001b[0m\n",
            "20 \t [ 0.18039205 -2.10345444]\t 12.260874184285324\t 6.621219156627405\t 2.870017864602227\t 3.1074731481948663\n"
          ]
        }
      ],
      "source": [
        "### EXACT STP ERM GRADIENTS\n",
        "\n",
        "np.random.seed(run_num_7)\n",
        "surrogate_exact_7 = dtStudentProcess(cov_func, optimize=opt, nu = df)\n",
        "\n",
        "exact_7 = dGPGO(surrogate_exact_7, Acquisition_grad(util), objfunc, param)\n",
        "exact_7.run(init_evals=n_init, max_iter=iters)\n"
      ]
    },
    {
      "cell_type": "code",
      "execution_count": 41,
      "metadata": {
        "id": "69-J3EF4Iv1S",
        "colab": {
          "base_uri": "https://localhost:8080/"
        },
        "outputId": "3a2529a3-dcf2-4c53-c67b-9e5ac5f5f56e"
      },
      "outputs": [
        {
          "output_type": "stream",
          "name": "stdout",
          "text": [
            "Evaluation \t Proposed point \t  Current eval. \t  Best eval. \t        Exact ERM: StdDev. x \t Approx ERM: StdDev. x \n",
            "init\t [3.82391708 4.79785639]\t 50.20079446939181\t 13.871821018360485\t    \t    \n",
            "init\t [3.78055209 0.31596228]\t 36.5114251593508\t 13.871821018360485\t    \t    \n",
            "init\t [-2.73686192 -5.00327624]\t 43.34985765011677\t 13.871821018360485\t    \t    \n",
            "init\t [-0.7119993  -0.99992207]\t 13.871821018360485\t 13.871821018360485\t    \t    \n",
            "init\t [ 0.23218863 -0.22126801]\t 17.190590355445654\t 13.871821018360485\t    \t    \n",
            "1  \t [ 4.96382097 -4.82579708]\t 53.60062490717928\t 13.871821018360485\t 3.2014202508474447\t 3.9952746002426327\n",
            "2  \t [-5.03492225  2.95509263]\t 34.71822332027364\t 13.871821018360485\t 3.2309645406358607\t 3.7536979442206047\n",
            "3  \t [-0.89873119  5.12      ]\t 31.68937729302\t 13.871821018360485\t 2.6984734460457256\t 3.6512777443613857\n",
            "4  \t [ 1.12486279 -4.46608383]\t 43.90785655185354\t 13.871821018360485\t 3.03673398882636\t 3.4206444995725525\n",
            "5  \t [-5.12       -1.41595952]\t 49.56760790290214\t 13.871821018360485\t 3.041328680950178\t 3.0027231027560313\n",
            "\u001b[1m\u001b[92m6\u001b[0m\t \u001b[1m\u001b[92m[-1.94315891  1.93783603]\u001b[0m\t \u001b[1m\u001b[92m8.91522624243033\u001b[0m\t \u001b[1m\u001b[92m8.91522624243033\u001b[0m\t \u001b[1m\u001b[92m2.8728085059794046\u001b[0m\t \u001b[1m\u001b[92m3.2863550303811975\u001b[0m\n",
            "7  \t [1.5322901  2.52633998]\t 48.38856340210114\t 8.91522624243033\t 2.7188028794025336\t 3.2468500892198446\n",
            "8  \t [ 3.74958261 -2.25424723]\t 39.43405540797325\t 8.91522624243033\t 2.863506481495044\t 3.4197961650069306\n",
            "9  \t [-5.12 -5.12]\t 57.849427451571785\t 8.91522624243033\t 3.085166235016428\t 3.487920055463995\n",
            "10 \t [5.12       2.51788533]\t 55.20138391066159\t 8.91522624243033\t 2.7015802458945184\t 3.355324767222284\n",
            "11 \t [-1.83073495 -2.5368894 ]\t 34.662030565116396\t 8.91522624243033\t 3.137000019347714\t 3.5841490471442374\n",
            "12 \t [-3.55751398  0.78929533]\t 40.18903294917002\t 8.91522624243033\t 2.4128573394670823\t 3.121194841489516\n",
            "13 \t [-3.03144368  4.59838737]\t 48.67865660210893\t 8.91522624243033\t 2.6055274851009287\t 2.7432784933110317\n",
            "14 \t [1.34066799 5.12      ]\t 46.115762210583\t 8.91522624243033\t 2.5245861626112855\t 3.096175530161039\n",
            "15 \t [ 1.64277788 -1.53808235]\t 41.01829979426332\t 8.91522624243033\t 2.6887121279858848\t 2.633149045457545\n",
            "16 \t [-0.63482588  2.08925334]\t 22.9209806916191\t 8.91522624243033\t 2.9519278132771682\t 2.9487897317432203\n",
            "17 \t [-1.26683764 -0.04018262]\t 12.979488205519605\t 8.91522624243033\t 2.869892225563608\t 3.343767119633401\n",
            "18 \t [-2.82073843 -0.82069005]\t 20.03338610804538\t 8.91522624243033\t 3.0017528601404457\t 2.8472942645337636\n",
            "19 \t [ 5.12       -0.23683027]\t 38.15426794553559\t 8.91522624243033\t 3.0901006539742153\t 3.0236424110430495\n",
            "20 \t [2.07033184 0.6390273 ]\t 22.07646843594066\t 8.91522624243033\t 2.828551788071916\t 2.944254692989755\n"
          ]
        }
      ],
      "source": [
        "### EXACT STP ERM GRADIENTS\n",
        "\n",
        "np.random.seed(run_num_8)\n",
        "surrogate_exact_8 = dtStudentProcess(cov_func, optimize=opt, nu = df)\n",
        "\n",
        "exact_8 = dGPGO(surrogate_exact_8, Acquisition_grad(util), objfunc, param)\n",
        "exact_8.run(init_evals=n_init, max_iter=iters)\n"
      ]
    },
    {
      "cell_type": "code",
      "execution_count": 42,
      "metadata": {
        "id": "vonm9jyuIv4t",
        "colab": {
          "base_uri": "https://localhost:8080/"
        },
        "outputId": "a97ecb14-2d11-4828-8ce8-2086b13da7ca"
      },
      "outputs": [
        {
          "output_type": "stream",
          "name": "stdout",
          "text": [
            "Evaluation \t Proposed point \t  Current eval. \t  Best eval. \t        Exact ERM: StdDev. x \t Approx ERM: StdDev. x \n",
            "init\t [-5.01376866  0.01919582]\t 25.248289026162446\t 24.454800313488693\t    \t    \n",
            "init\t [-0.04328148 -3.74958562]\t 24.454800313488693\t 24.454800313488693\t    \t    \n",
            "init\t [-3.66478248 -2.88195916]\t 39.46509426509438\t 24.454800313488693\t    \t    \n",
            "init\t [-0.83447623 -2.57944404]\t 31.06766397812992\t 24.454800313488693\t    \t    \n",
            "init\t [-4.25922917 -1.58209393]\t 49.922543556206975\t 24.454800313488693\t    \t    \n",
            "1  \t [3.69491889 4.82146316]\t 55.95031066333101\t 24.454800313488693\t 2.516509494609229\t 3.0899578839515343\n",
            "2  \t [ 4.8523099  -1.23150417]\t 37.90735446827398\t 24.454800313488693\t 3.109897447997611\t 4.01249884395081\n",
            "3  \t [-1.77890193  4.31360938]\t 43.85685950714702\t 24.454800313488693\t 2.8020473335634\t 4.179859593504787\n",
            "\u001b[1m\u001b[92m4\u001b[0m\t \u001b[1m\u001b[92m[1.13847355 1.17906314]\u001b[0m\t \u001b[1m\u001b[92m11.927485296001365\u001b[0m\t \u001b[1m\u001b[92m11.927485296001365\u001b[0m\t \u001b[1m\u001b[92m2.863724478185519\u001b[0m\t \u001b[1m\u001b[92m3.209139606942848\u001b[0m\n",
            "5  \t [4.72887783 1.91528902]\t 38.73721978847563\t 11.927485296001365\t 3.45225887202002\t 3.6738319587064105\n",
            "6  \t [-4.83090377  3.04661662]\t 38.17818020799227\t 11.927485296001365\t 2.4353161534634884\t 3.2241621334376145\n",
            "7  \t [ 2.74727862 -3.53016988]\t 50.001487216245586\t 11.927485296001365\t 2.600062065669895\t 3.143774170732607\n",
            "8  \t [-1.73983966  0.86638031]\t 17.737691688159174\t 11.927485296001365\t 2.617621666231117\t 2.583014320842311\n",
            "9  \t [0.8483613 5.12     ]\t 33.85018668809092\t 11.927485296001365\t 2.846417899614692\t 3.5363757250218115\n",
            "10 \t [-5.12 -5.12]\t 57.849427451571785\t 11.927485296001365\t 3.1779073630125705\t 2.5590064068820437\n",
            "11 \t [ 1.9563778  -0.72743589]\t 16.142848497479843\t 11.927485296001365\t 2.7009767867591363\t 3.2456024554155425\n",
            "12 \t [2.02421405 2.92233764]\t 13.92013347338293\t 11.927485296001365\t 2.2102511119421147\t 3.005266382752991\n",
            "13 \t [-0.20033496 -0.38975642]\t 24.81726534717035\t 11.927485296001365\t 2.5664472285857136\t 2.5548949510377916\n",
            "14 \t [-0.4589352   2.84664218]\t 32.27709791986688\t 11.927485296001365\t 2.3663220659071897\t 3.060019179789329\n",
            "15 \t [2.75711649 1.10829663]\t 20.61010855599442\t 11.927485296001365\t 2.8895319875243075\t 3.2644629414717072\n",
            "16 \t [-2.27333944 -5.0888204 ]\t 44.042614502490586\t 11.927485296001365\t 3.375381705492561\t 3.595854396014951\n",
            "17 \t [-3.93646303  4.74881519]\t 48.90776436883808\t 11.927485296001365\t 3.0413039277181793\t 2.7097425997581523\n",
            "18 \t [-3.07311259  2.22549846]\t 23.900185194882273\t 11.927485296001365\t 2.8199831274104685\t 2.820758772859354\n",
            "19 \t [ 0.40210489 -5.12      ]\t 47.25359927461309\t 11.927485296001365\t 2.9971563842988296\t 3.0778272011019863\n",
            "20 \t [ 4.36044213 -4.52108916]\t 75.76166036071737\t 11.927485296001365\t 2.9312552890347074\t 3.6449280731513767\n"
          ]
        }
      ],
      "source": [
        "### EXACT STP ERM GRADIENTS\n",
        "\n",
        "np.random.seed(run_num_9)\n",
        "surrogate_exact_9 = dtStudentProcess(cov_func, optimize=opt, nu = df)\n",
        "\n",
        "exact_9 = dGPGO(surrogate_exact_9, Acquisition_grad(util), objfunc, param)\n",
        "exact_9.run(init_evals=n_init, max_iter=iters)\n"
      ]
    },
    {
      "cell_type": "code",
      "execution_count": 43,
      "metadata": {
        "id": "6amuYlUdIv7r",
        "colab": {
          "base_uri": "https://localhost:8080/"
        },
        "outputId": "11405de6-93eb-481f-f934-b571443576ab"
      },
      "outputs": [
        {
          "output_type": "stream",
          "name": "stdout",
          "text": [
            "Evaluation \t Proposed point \t  Current eval. \t  Best eval. \t        Exact ERM: StdDev. x \t Approx ERM: StdDev. x \n",
            "init\t [ 2.77832339 -4.90750004]\t 41.674330194390116\t 13.839458310244165\t    \t    \n",
            "init\t [1.36855793 2.54775176]\t 44.69639719065837\t 13.839458310244165\t    \t    \n",
            "init\t [-0.01528819 -2.81808235]\t 13.839458310244165\t 13.839458310244165\t    \t    \n",
            "init\t [-3.09183626  2.66783449]\t 33.23221510904937\t 13.839458310244165\t    \t    \n",
            "init\t [-3.38830503 -4.2154003 ]\t 54.73014366983691\t 13.839458310244165\t    \t    \n",
            "1  \t [ 5.12       -0.54961457]\t 48.74481063939084\t 13.839458310244165\t 3.2034928310291475\t 3.6443784788571927\n",
            "2  \t [5.12 5.12]\t 57.849427451571785\t 13.839458310244165\t 3.074246873457857\t 3.11623774546179\n",
            "3  \t [-4.15779022 -0.66823905]\t 37.17298268079544\t 13.839458310244165\t 2.9701048341565754\t 3.42121781600062\n",
            "4  \t [-0.97024363  0.34933247]\t 17.08154557952903\t 13.839458310244165\t 3.1087777604921993\t 3.6456351774394546\n",
            "5  \t [-4.34042629  5.12      ]\t 63.14487766896882\t 13.839458310244165\t 2.663451076108885\t 3.518232297111589\n",
            "6  \t [0.10579747 5.07144996]\t 28.85095188801787\t 13.839458310244165\t 3.1738771465250197\t 3.2150121154611955\n",
            "7  \t [ 1.966371   -0.63162218]\t 21.258781842655843\t 13.839458310244165\t 2.6035983646392302\t 2.8837891796538817\n",
            "8  \t [4.54298212 2.25060922]\t 55.379743080505555\t 13.839458310244165\t 2.8671847476803194\t 3.806620306714338\n",
            "9  \t [-0.63648653 -5.12      ]\t 45.8725988022652\t 13.839458310244165\t 3.1148370165307244\t 3.581470379801456\n",
            "10 \t [ 4.59691081 -2.95304357]\t 48.48686626998474\t 13.839458310244165\t 2.952554147086253\t 3.7287649641765737\n",
            "11 \t [2.66959189 5.12      ]\t 50.89142610163745\t 13.839458310244165\t 2.8099633379605566\t 2.8092353354789315\n",
            "12 \t [-5.12        1.64739723]\t 47.64799632632603\t 13.839458310244165\t 3.0613476010074847\t 2.39865369243871\n",
            "13 \t [-1.51179524 -1.66454068]\t 40.14400451279288\t 13.839458310244165\t 2.9214771900822303\t 3.09289764230886\n",
            "14 \t [-1.84740584  5.12      ]\t 36.592411020189004\t 13.839458310244165\t 2.3805123958451704\t 3.2852910998774654\n",
            "15 \t [-5.12       -2.93143191]\t 38.43179586072435\t 13.839458310244165\t 2.8077200940411133\t 3.0804590076767315\n",
            "16 \t [ 1.71920826 -2.44004812]\t 40.13104434089033\t 13.839458310244165\t 2.804580246798699\t 3.3910842818709233\n",
            "17 \t [-1.00550388  3.19180174]\t 17.62886057737027\t 13.839458310244165\t 2.750086992085018\t 3.1029454023171326\n",
            "18 \t [2.82905493 1.1046699 ]\t 16.544185492538972\t 13.839458310244165\t 2.706411753694119\t 2.9866793327211356\n",
            "19 \t [-2.8243714   0.93796745]\t 15.102183499949453\t 13.839458310244165\t 2.636156845988362\t 3.2514460182862654\n",
            "20 \t [3.71624043 3.58777732]\t 57.305178988836246\t 13.839458310244165\t 3.1201036187353886\t 3.2485536957385865\n"
          ]
        }
      ],
      "source": [
        "### EXACT STP ERM GRADIENTS\n",
        "\n",
        "np.random.seed(run_num_10)\n",
        "surrogate_exact_10 = dtStudentProcess(cov_func, optimize=opt, nu = df)\n",
        "\n",
        "exact_10 = dGPGO(surrogate_exact_10, Acquisition_grad(util), objfunc, param)\n",
        "exact_10.run(init_evals=n_init, max_iter=iters)\n"
      ]
    },
    {
      "cell_type": "code",
      "execution_count": 44,
      "metadata": {
        "id": "VwbLIP9cIv-F",
        "colab": {
          "base_uri": "https://localhost:8080/"
        },
        "outputId": "0ae2203b-f9e7-49b4-d20e-581e75ad10e1"
      },
      "outputs": [
        {
          "output_type": "stream",
          "name": "stdout",
          "text": [
            "Evaluation \t Proposed point \t  Current eval. \t  Best eval. \t        Exact ERM: StdDev. x \t Approx ERM: StdDev. x \n",
            "init\t [-3.27403839 -4.92057353]\t 47.655641290890955\t 10.679755252484755\t    \t    \n",
            "init\t [-0.37664229  2.30332343]\t 35.87889240695259\t 10.679755252484755\t    \t    \n",
            "init\t [-0.81711509 -0.14922651]\t 10.679755252484755\t 10.679755252484755\t    \t    \n",
            "init\t [-4.98912446 -0.12931474]\t 28.05462905574235\t 10.679755252484755\t    \t    \n",
            "init\t [4.52410012 3.59214172]\t 71.62694632141611\t 10.679755252484755\t    \t    \n",
            "1  \t [ 3.03550212 -4.46785095]\t 49.22040431745476\t 10.679755252484755\t 3.0018672514983105\t 4.059020558391665\n",
            "2  \t [ 4.92305027 -0.63495388]\t 42.40110054673229\t 10.679755252484755\t 2.363734922462881\t 3.7164123542541554\n",
            "3  \t [1.21025544 5.12      ]\t 37.91808160396299\t 10.679755252484755\t 2.9906307093606586\t 4.0425409024684225\n",
            "4  \t [-0.06600333 -3.19727909]\t 17.822319381487365\t 10.679755252484755\t 2.6515073252240127\t 3.0337481779961766\n",
            "5  \t [-3.59106697  3.06585016]\t 41.54616624778192\t 10.679755252484755\t 2.9068734080773266\t 3.006580381606171\n",
            "6  \t [2.13322312 0.84957437]\t 12.719771103767501\t 10.679755252484755\t 3.1426905880480036\t 2.7412947435708985\n",
            "7  \t [-2.5503514  -1.81222597]\t 35.48125276684773\t 10.679755252484755\t 3.0616672669370124\t 3.6402377876600838\n",
            "8  \t [ 2.08600361 -1.65664532]\t 24.055767466035924\t 10.679755252484755\t 2.7018252170516885\t 3.2174803165449397\n",
            "9  \t [-5.12       -3.10871885]\t 40.832653862188195\t 10.679755252484755\t 3.26270275536746\t 3.5194200057633793\n",
            "10 \t [-1.42782393  4.931333  ]\t 46.26232359805654\t 10.679755252484755\t 2.3754145419949486\t 3.5929820270471002\n",
            "11 \t [ 4.73179784 -2.90694452]\t 43.642560254475185\t 10.679755252484755\t 2.892270238542779\t 3.0847177670271146\n",
            "12 \t [-4.15466204  5.07310638]\t 48.39579240684685\t 10.679755252484755\t 3.033880441830377\t 3.059584406603251\n",
            "13 \t [-2.7256509   1.00650461]\t 19.974512644032437\t 10.679755252484755\t 2.6536728486020364\t 2.7742176427528284\n",
            "14 \t [2.11602981 3.11435341]\t 19.190700000466194\t 10.679755252484755\t 2.6777291872698497\t 3.186951454210518\n",
            "15 \t [-0.6883007  -5.09103636]\t 41.7645062031011\t 10.679755252484755\t 3.353844627864817\t 2.9285241051241253\n",
            "16 \t [ 0.66536538 -0.48064677]\t 35.67053103891\t 10.679755252484755\t 3.1868454000499487\t 2.990974311330797\n",
            "17 \t [5.12       1.48736173]\t 51.1054466064006\t 10.679755252484755\t 2.9233867967128013\t 3.0374316067315883\n",
            "18 \t [3.32847186 5.0331645 ]\t 51.36097024783654\t 10.679755252484755\t 3.099199813591324\t 3.193621466651373\n",
            "19 \t [-5.12        1.90887064]\t 34.163455917659206\t 10.679755252484755\t 2.7687936479968775\t 2.8204846740518694\n",
            "20 \t [ 1.28813171 -5.12      ]\t 42.9570269168222\t 10.679755252484755\t 3.029682549506489\t 2.9535162460838325\n"
          ]
        }
      ],
      "source": [
        "### EXACT STP ERM GRADIENTS\n",
        "\n",
        "np.random.seed(run_num_11)\n",
        "surrogate_exact_11 = dtStudentProcess(cov_func, optimize=opt, nu = df)\n",
        "\n",
        "exact_11 = dGPGO(surrogate_exact_11, Acquisition_grad(util), objfunc, param)\n",
        "exact_11.run(init_evals=n_init, max_iter=iters)\n"
      ]
    },
    {
      "cell_type": "code",
      "execution_count": 45,
      "metadata": {
        "id": "MlUNFjc-JTBY",
        "colab": {
          "base_uri": "https://localhost:8080/"
        },
        "outputId": "99613b5c-3186-4e0c-ea88-80ac2d5b9b76"
      },
      "outputs": [
        {
          "output_type": "stream",
          "name": "stdout",
          "text": [
            "Evaluation \t Proposed point \t  Current eval. \t  Best eval. \t        Exact ERM: StdDev. x \t Approx ERM: StdDev. x \n",
            "init\t [-3.54137249  2.45810889]\t 57.903242869085595\t 40.51116653209555\t    \t    \n",
            "init\t [-2.42365424  0.34549139]\t 40.51116653209555\t 40.51116653209555\t    \t    \n",
            "init\t [-4.97075238  4.28796936]\t 55.62655915398208\t 40.51116653209555\t    \t    \n",
            "init\t [ 4.10332011 -4.77776458]\t 49.962803461970296\t 40.51116653209555\t    \t    \n",
            "init\t [ 4.6791612  -3.71497655]\t 62.183891474990624\t 40.51116653209555\t    \t    \n",
            "1  \t [5.12 5.12]\t 57.849427451571785\t 40.51116653209555\t 3.65084687520348\t 3.6696712827935047\n",
            "2  \t [-4.53937686 -4.82629783]\t 68.98217682301502\t 40.51116653209555\t 3.2632448639431364\t 3.41195667831882\n",
            "\u001b[1m\u001b[92m3\u001b[0m\t \u001b[1m\u001b[92m[2.40906387 0.99093628]\u001b[0m\t \u001b[1m\u001b[92m25.213371892352193\u001b[0m\t \u001b[1m\u001b[92m25.213371892352193\u001b[0m\t \u001b[1m\u001b[92m2.794874715100027\u001b[0m\t \u001b[1m\u001b[92m3.078875616710263\u001b[0m\n",
            "4  \t [0.6177084  4.86705327]\t 44.74792544571682\t 25.213371892352193\t 2.9580301189638933\t 3.289265913401724\n",
            "5  \t [-0.1167605  -3.73883692]\t 27.26585422179828\t 25.213371892352193\t 2.9121015906265715\t 2.96397111105098\n",
            "6  \t [-5.12       -1.33934276]\t 46.04190801048152\t 25.213371892352193\t 2.907690123681521\t 3.0377826883257537\n",
            "7  \t [5.08369088 2.14395388]\t 35.610576968358686\t 25.213371892352193\t 2.0689657487569\t 3.385312783725353\n",
            "8  \t [ 4.98716367 -0.67090493]\t 40.12205539999309\t 25.213371892352193\t 2.611323502434223\t 2.758922926910152\n",
            "\u001b[1m\u001b[92m9\u001b[0m\t \u001b[1m\u001b[92m[ 0.93462363 -1.15161042]\u001b[0m\t \u001b[1m\u001b[92m7.23590721877731\u001b[0m\t \u001b[1m\u001b[92m7.23590721877731\u001b[0m\t \u001b[1m\u001b[92m2.74467957725606\u001b[0m\t \u001b[1m\u001b[92m2.463702939761104\u001b[0m\n",
            "10 \t [-0.1862085   2.17612024]\t 16.391417385944546\t 7.23590721877731\t 2.6651507822041567\t 3.0247604395047176\n",
            "11 \t [-2.87608713 -1.98231419]\t 15.143922744916443\t 7.23590721877731\t 2.716724684101064\t 3.2060897186516097\n",
            "12 \t [ 2.32806131 -2.27748329]\t 37.03549407751407\t 7.23590721877731\t 2.3224536403065033\t 3.1284093299434392\n",
            "13 \t [ 1.14158319 -5.12      ]\t 33.93064687073351\t 7.23590721877731\t 2.814328700340057\t 2.9426377826222625\n",
            "14 \t [-1.89466991  5.09657391]\t 33.461201643864484\t 7.23590721877731\t 2.79511314884805\t 2.824283033811139\n",
            "15 \t [2.72841011 4.02315512]\t 35.088022474685374\t 7.23590721877731\t 3.046406926165252\t 3.0437431988409607\n",
            "16 \t [ 0.50421508 -2.11693339]\t 27.311909151805548\t 7.23590721877731\t 2.6015431747991706\t 2.745679064894119\n",
            "17 \t [0.73394103 0.25988834]\t 22.23441839385881\t 7.23590721877731\t 2.0652030227522946\t 2.6700459510827224\n",
            "18 \t [-2.18698641 -3.56206217]\t 42.86385656815264\t 7.23590721877731\t 2.687134492327721\t 3.080163976913582\n",
            "19 \t [-4.99899659  0.8426496 ]\t 30.202141911907702\t 7.23590721877731\t 3.17984987398052\t 3.0151791837118687\n",
            "20 \t [-0.65274442 -1.18821431]\t 23.790079156903502\t 7.23590721877731\t 2.2887070762754527\t 2.6014317915657315\n"
          ]
        }
      ],
      "source": [
        "### EXACT STP ERM GRADIENTS\n",
        "\n",
        "np.random.seed(run_num_12)\n",
        "surrogate_exact_12 = dtStudentProcess(cov_func, optimize=opt, nu = df)\n",
        "\n",
        "exact_12 = dGPGO(surrogate_exact_12, Acquisition_grad(util), objfunc, param)\n",
        "exact_12.run(init_evals=n_init, max_iter=iters)\n"
      ]
    },
    {
      "cell_type": "code",
      "execution_count": 46,
      "metadata": {
        "id": "9BsKdU9eJTFL",
        "colab": {
          "base_uri": "https://localhost:8080/"
        },
        "outputId": "b4457702-565a-4fd9-e6f0-c7b649af755c"
      },
      "outputs": [
        {
          "output_type": "stream",
          "name": "stdout",
          "text": [
            "Evaluation \t Proposed point \t  Current eval. \t  Best eval. \t        Exact ERM: StdDev. x \t Approx ERM: StdDev. x \n",
            "init\t [ 2.84367268 -2.68757791]\t 33.58019830007169\t 17.435826639425656\t    \t    \n",
            "init\t [3.32061217 4.76927179]\t 56.857057997503354\t 17.435826639425656\t    \t    \n",
            "init\t [ 4.83943541 -0.47667971]\t 48.211919361679726\t 17.435826639425656\t    \t    \n",
            "init\t [1.11659482 2.82139151]\t 17.435826639425656\t 17.435826639425656\t    \t    \n",
            "init\t [1.45012065 2.27346667]\t 38.25352329493884\t 17.435826639425656\t    \t    \n",
            "1  \t [-4.10876704 -2.60547476]\t 43.79941556238635\t 17.435826639425656\t 3.5371601508905015\t 3.3599421144526462\n",
            "2  \t [-3.79949098  2.66819134]\t 43.412447832211974\t 17.435826639425656\t 3.3366695652386347\t 3.628311424553677\n",
            "3  \t [-0.6283859 -5.12     ]\t 46.23863010930674\t 17.435826639425656\t 3.325645163189199\t 3.2000811367196422\n",
            "4  \t [-0.66435868 -0.82773048]\t 21.559475704074806\t 17.435826639425656\t 2.949263720814393\t 3.4974461368175587\n",
            "5  \t [0.1171298 5.12     ]\t 31.526487705616873\t 17.435826639425656\t 3.539270132130952\t 4.023865761710196\n",
            "6  \t [-5.12 -5.12]\t 57.849427451571785\t 17.435826639425656\t 2.977443004561165\t 3.2159764438927154\n",
            "7  \t [-4.54343901 -0.01969136]\t 40.34950492681422\t 17.435826639425656\t 3.128697147776307\t 4.122602905788456\n",
            "8  \t [5.12       2.78689419]\t 44.39406873195594\t 17.435826639425656\t 2.705342151239\t 3.7139181623653084\n",
            "9  \t [-2.6405447   5.11258866]\t 51.85843079329897\t 17.435826639425656\t 2.8796350305187493\t 3.6418546982923585\n",
            "10 \t [-0.95550548  1.46965278]\t 23.279881902429153\t 17.435826639425656\t 2.4633557885163215\t 3.51556845521144\n",
            "11 \t [ 4.98242681 -3.656039  ]\t 53.81881508085264\t 17.435826639425656\t 3.089473661513289\t 3.85823687770917\n",
            "12 \t [ 2.07106567 -0.44849687]\t 24.951860456732817\t 17.435826639425656\t 2.905790136296382\t 2.355184514881248\n",
            "13 \t [ 0.34084393 -2.51223997]\t 41.80092961331785\t 17.435826639425656\t 3.457001873072681\t 3.4516074805687773\n",
            "14 \t [ 2.17223159 -5.12      ]\t 38.94910800303106\t 17.435826639425656\t 3.060617862177397\t 3.2587059299469288\n",
            "15 \t [-2.29368118 -1.05125275]\t 19.59040102803727\t 17.435826639425656\t 3.0342798933840047\t 2.985293545176285\n",
            "16 \t [-2.64033607 -4.5354384 ]\t 63.652653220761756\t 17.435826639425656\t 2.8568969220643585\t 3.352606194522726\n",
            "17 \t [-5.04722328  4.48969395]\t 66.04782800107463\t 17.435826639425656\t 2.484254996412899\t 3.5821971209808523\n",
            "18 \t [5.12 5.12]\t 57.849427451571785\t 17.435826639425656\t 2.3361674808637396\t 2.3499463680742836\n",
            "19 \t [-0.86374212  3.39914753]\t 33.805197376125875\t 17.435826639425656\t 2.3751380214972198\t 2.7297463389613137\n",
            "20 \t [3.94968651 1.34271652]\t 33.40004497356712\t 17.435826639425656\t 2.2392919036200993\t 2.6601208364532725\n"
          ]
        }
      ],
      "source": [
        "### EXACT STP ERM GRADIENTS\n",
        "\n",
        "np.random.seed(run_num_13)\n",
        "surrogate_exact_13 = dtStudentProcess(cov_func, optimize=opt, nu = df)\n",
        "\n",
        "exact_13 = dGPGO(surrogate_exact_13, Acquisition_grad(util), objfunc, param)\n",
        "exact_13.run(init_evals=n_init, max_iter=iters)\n"
      ]
    },
    {
      "cell_type": "code",
      "execution_count": 47,
      "metadata": {
        "id": "k6GjFBr1JTJf",
        "colab": {
          "base_uri": "https://localhost:8080/"
        },
        "outputId": "5edffc1d-591e-4461-c4db-15c76ee7df69"
      },
      "outputs": [
        {
          "output_type": "stream",
          "name": "stdout",
          "text": [
            "Evaluation \t Proposed point \t  Current eval. \t  Best eval. \t        Exact ERM: StdDev. x \t Approx ERM: StdDev. x \n",
            "init\t [0.14277984 2.79721013]\t 18.683085263052178\t 10.423838604848608\t    \t    \n",
            "init\t [ 3.7931795  -5.03759925]\t 47.36348784446708\t 10.423838604848608\t    \t    \n",
            "init\t [-1.94830412  4.68586229]\t 40.19779334078636\t 10.423838604848608\t    \t    \n",
            "init\t [ 0.13431513 -1.86076749]\t 10.423838604848608\t 10.423838604848608\t    \t    \n",
            "init\t [ 0.40140736 -2.85434939]\t 30.353548735049138\t 10.423838604848608\t    \t    \n",
            "1  \t [5.12 5.12]\t 57.849427451571785\t 10.423838604848608\t 4.000048062345777\t 3.91539871349692\n",
            "2  \t [-5.12 -5.12]\t 57.849427451571785\t 10.423838604848608\t 3.651760518638706\t 3.6639788645566873\n",
            "3  \t [-4.93515663  0.26885623]\t 36.428606107531365\t 10.423838604848608\t 2.9193036119892146\t 3.696137676240105\n",
            "4  \t [ 5.12       -0.05313487]\t 29.479679774773643\t 10.423838604848608\t 3.1199562328718455\t 3.2246938067872346\n",
            "5  \t [-2.91820852 -2.25459962]\t 25.179837024613345\t 10.423838604848608\t 2.8574782699294654\t 3.0836258005733903\n",
            "6  \t [1.76359338 5.12      ]\t 41.181915919317426\t 10.423838604848608\t 2.5362300362835977\t 2.4558948847664435\n",
            "7  \t [2.10848394 0.44737807]\t 26.338720108598622\t 10.423838604848608\t 2.5442205151956667\t 2.6279895505909914\n",
            "8  \t [-5.12        3.82274132]\t 49.125061842203145\t 10.423838604848608\t 3.0624930672699886\t 3.1038690346358058\n",
            "9  \t [-2.54670676  1.8374726 ]\t 34.21096962249797\t 10.423838604848608\t 2.971439060976628\t 3.221052312282967\n",
            "10 \t [-2.01301079 -4.75465979]\t 36.399656907599784\t 10.423838604848608\t 2.8689833688610147\t 3.194493046049114\n",
            "11 \t [4.14167871 2.50571597]\t 47.13305045208623\t 10.423838604848608\t 3.0194626001552227\t 3.264538873205425\n",
            "12 \t [ 5.12       -2.59454453]\t 53.94323265772923\t 10.423838604848608\t 2.3116994786378027\t 3.146248471224289\n",
            "13 \t [-0.46126582  0.2365796 ]\t 29.13181099732769\t 10.423838604848608\t 2.739026228248853\t 2.9120158996212866\n",
            "14 \t [ 0.92423297 -5.12      ]\t 30.890838092611652\t 10.423838604848608\t 2.618596081420308\t 3.1533572589235734\n",
            "15 \t [ 2.73761377 -1.63689469]\t 37.47477139473632\t 10.423838604848608\t 2.499412157115223\t 2.855550902630067\n",
            "16 \t [1.88849497 2.65843541]\t 28.43019063071556\t 10.423838604848608\t 2.788903872830753\t 3.5112751330920373\n",
            "17 \t [-0.17272453  5.08259336]\t 32.512355860976136\t 10.423838604848608\t 3.05173982569514\t 3.25721609184229\n",
            "18 \t [-2.07609057 -0.36511829]\t 22.183407634268665\t 10.423838604848608\t 2.7558992542105907\t 2.5575668089070596\n",
            "19 \t [3.78851967 4.08035791]\t 39.85328824905621\t 10.423838604848608\t 2.894611404501109\t 2.8951954833527602\n",
            "20 \t [-5.12      -2.3422127]\t 49.885805636865996\t 10.423838604848608\t 2.6015503428882316\t 3.0801622865464626\n"
          ]
        }
      ],
      "source": [
        "### EXACT STP ERM GRADIENTS\n",
        "\n",
        "np.random.seed(run_num_14)\n",
        "surrogate_exact_14 = dtStudentProcess(cov_func, optimize=opt, nu = df)\n",
        "\n",
        "exact_14 = dGPGO(surrogate_exact_14, Acquisition_grad(util), objfunc, param)\n",
        "exact_14.run(init_evals=n_init, max_iter=iters)\n"
      ]
    },
    {
      "cell_type": "code",
      "execution_count": 48,
      "metadata": {
        "id": "dPS8WB3aJTN6",
        "colab": {
          "base_uri": "https://localhost:8080/"
        },
        "outputId": "c1cb06e5-0400-455d-830d-5772691c7986"
      },
      "outputs": [
        {
          "output_type": "stream",
          "name": "stdout",
          "text": [
            "Evaluation \t Proposed point \t  Current eval. \t  Best eval. \t        Exact ERM: StdDev. x \t Approx ERM: StdDev. x \n",
            "init\t [ 3.57189322 -3.28810573]\t 54.938487770767075\t 7.990765314336182\t    \t    \n",
            "init\t [-4.56332069 -1.41784631]\t 60.750198753157726\t 7.990765314336182\t    \t    \n",
            "init\t [-2.29989449  0.3072023 ]\t 31.984997246800887\t 7.990765314336182\t    \t    \n",
            "init\t [-1.9873903  -2.00218256]\t 7.990765314336182\t 7.990765314336182\t    \t    \n",
            "init\t [-3.97576933 -2.5610341 ]\t 41.754957769694336\t 7.990765314336182\t    \t    \n",
            "1  \t [2.98605241 5.12      ]\t 37.87959787249977\t 7.990765314336182\t 3.2926780984091018\t 3.8624258216955587\n",
            "2  \t [-2.70543926  5.12      ]\t 49.00751195236671\t 7.990765314336182\t 2.8773833473185046\t 3.876699752969757\n",
            "3  \t [5.12       1.09889481]\t 32.00149253191575\t 7.990765314336182\t 3.0699993548779134\t 3.4951517423336096\n",
            "4  \t [-0.42903976 -5.12      ]\t 48.131205981844026\t 7.990765314336182\t 2.7038309311052013\t 3.052560307274644\n",
            "5  \t [1.38052424 1.2668601 ]\t 31.88034735782871\t 7.990765314336182\t 3.1309834645659516\t 3.061525040378407\n",
            "6  \t [-5.12 -5.12]\t 57.849427451571785\t 7.990765314336182\t 2.98277731914328\t 3.6358822358816165\n",
            "7  \t [-5.12        2.34995949]\t 50.3228163830976\t 7.990765314336182\t 2.8604673252931176\t 2.920239780903768\n",
            "8  \t [ 0.51718432 -1.53502896]\t 42.324330564444686\t 7.990765314336182\t 3.2344705670150433\t 3.5006434348966122\n",
            "9  \t [0.24422044 4.23451467]\t 36.65625994215582\t 7.990765314336182\t 2.536258296509117\t 3.5648138611763387\n",
            "10 \t [5.12 5.12]\t 57.849427451571785\t 7.990765314336182\t 2.8905561179294965\t 3.7812847592208265\n",
            "11 \t [-1.28625842  2.45226744]\t 39.48022776112708\t 7.990765314336182\t 2.635103064931084\t 3.4076872245654815\n",
            "12 \t [ 4.05565136 -0.87473947]\t 20.759128144432793\t 7.990765314336182\t 2.6344813669696006\t 3.6808309407853392\n",
            "13 \t [-2.31475568 -3.62778028]\t 49.42274012481344\t 7.990765314336182\t 2.911083090348034\t 3.506607259199734\n",
            "14 \t [3.07992587 2.89045704]\t 21.35197034735764\t 7.990765314336182\t 2.392402060834571\t 3.1299186240498638\n",
            "15 \t [5.12       2.93687466]\t 38.326258543780924\t 7.990765314336182\t 2.0415922064339465\t 2.917497505411239\n",
            "16 \t [-3.29204432  3.10976485]\t 35.404754443234225\t 7.990765314336182\t 2.8846326950536096\t 3.381326951370226\n",
            "17 \t [ 2.56818953 -0.56159231]\t 45.26757202769633\t 7.990765314336182\t 2.376571662466147\t 2.963090775024044\n",
            "18 \t [ 1.84395565 -4.85426151]\t 35.305245103581306\t 7.990765314336182\t 2.930181224395283\t 3.8529343325957486\n",
            "19 \t [-0.10915598  0.29134826]\t 14.926832102876684\t 7.990765314336182\t 2.5468580560439973\t 3.2748448065899862\n",
            "20 \t [ 5.12       -1.76138006]\t 41.31275221175719\t 7.990765314336182\t 2.2447460665586747\t 3.310999881948497\n"
          ]
        }
      ],
      "source": [
        "### EXACT STP ERM GRADIENTS\n",
        "\n",
        "np.random.seed(run_num_15)\n",
        "surrogate_exact_15 = dtStudentProcess(cov_func, optimize=opt, nu = df)\n",
        "\n",
        "exact_15 = dGPGO(surrogate_exact_15, Acquisition_grad(util), objfunc, param)\n",
        "exact_15.run(init_evals=n_init, max_iter=iters)\n"
      ]
    },
    {
      "cell_type": "code",
      "execution_count": 49,
      "metadata": {
        "id": "lu8ki9XIQPPN",
        "colab": {
          "base_uri": "https://localhost:8080/"
        },
        "outputId": "f8b6272b-0fef-4d22-f08d-0f0a4d6e6f3b"
      },
      "outputs": [
        {
          "output_type": "stream",
          "name": "stdout",
          "text": [
            "Evaluation \t Proposed point \t  Current eval. \t  Best eval. \t        Exact ERM: StdDev. x \t Approx ERM: StdDev. x \n",
            "init\t [-2.83349935  0.23719262]\t 22.27210456874814\t 22.27210456874814\t    \t    \n",
            "init\t [ 0.51918292 -4.65303603]\t 57.57021076017139\t 22.27210456874814\t    \t    \n",
            "init\t [-1.42613673 -2.83565116]\t 33.89145899403749\t 22.27210456874814\t    \t    \n",
            "init\t [ 1.9325559  -3.44339021]\t 35.85029586225333\t 22.27210456874814\t    \t    \n",
            "init\t [-4.39987336  4.51595121]\t 77.78800881964571\t 22.27210456874814\t    \t    \n",
            "1  \t [5.12 5.12]\t 57.849427451571785\t 22.27210456874814\t 3.5704591664157994\t 3.9761816636305096\n",
            "2  \t [5.12       0.13721097]\t 32.435261743212884\t 22.27210456874814\t 2.8313379108248493\t 3.415597640238414\n",
            "3  \t [0.54952837 3.63554843]\t 49.626105938574355\t 22.27210456874814\t 3.362062066002484\t 4.080889023405864\n",
            "4  \t [-5.12 -5.12]\t 57.849427451571785\t 22.27210456874814\t 3.81441830688302\t 3.797703689604846\n",
            "\u001b[1m\u001b[92m5\u001b[0m\t \u001b[1m\u001b[92m[ 1.77609042 -0.05343525]\u001b[0m\t \u001b[1m\u001b[92m12.083719874880327\u001b[0m\t \u001b[1m\u001b[92m12.083719874880327\u001b[0m\t \u001b[1m\u001b[92m2.4164910202481704\u001b[0m\t \u001b[1m\u001b[92m2.8547210969623733\u001b[0m\n",
            "6  \t [ 5.12       -3.36093939]\t 56.64023422048925\t 12.083719874880327\t 3.629600751500584\t 3.6059642099949722\n",
            "7  \t [3.4141317  2.42955978]\t 55.17503534572228\t 12.083719874880327\t 3.045804914533367\t 3.249901683507038\n",
            "8  \t [-4.50797029 -2.08995924]\t 46.23253769903563\t 12.083719874880327\t 2.724233896199293\t 3.052881219474866\n",
            "9  \t [-0.16891007  0.53526721]\t 25.193098143660855\t 12.083719874880327\t 2.561269831367538\t 3.1962132115695363\n",
            "10 \t [-2.13293056  2.75426298]\t 25.1574469905347\t 12.083719874880327\t 2.9810443745698807\t 3.5814151656723023\n",
            "11 \t [-2.6860679  -4.83366166]\t 49.47120104537508\t 12.083719874880327\t 2.9832617627579587\t 3.2044596878718092\n",
            "12 \t [-5.12        1.13977656]\t 33.83875314645248\t 12.083719874880327\t 3.1045939439600367\t 3.670424320326369\n",
            "13 \t [2.46839213 5.12      ]\t 54.82111468441151\t 12.083719874880327\t 2.1761192212581477\t 2.818929570102586\n",
            "\u001b[1m\u001b[92m14\u001b[0m\t \u001b[1m\u001b[92m[ 2.94747993 -1.07369484]\u001b[0m\t \u001b[1m\u001b[92m11.433018612376959\u001b[0m\t \u001b[1m\u001b[92m11.433018612376959\u001b[0m\t \u001b[1m\u001b[92m2.333217007145653\u001b[0m\t \u001b[1m\u001b[92m2.642681143365831\u001b[0m\n",
            "15 \t [1.42829293 1.4750807 ]\t 43.095641622888905\t 11.433018612376959\t 2.3869630255453704\t 2.9537708017194007\n",
            "16 \t [ 0.4878861 -1.4746334]\t 42.25687770819222\t 11.433018612376959\t 2.343198092439918\t 3.038047266561287\n",
            "17 \t [-0.60971697  4.78675905]\t 48.71211297157548\t 11.433018612376959\t 2.5076437231803417\t 3.4382526886646216\n",
            "18 \t [5.12       2.66170916]\t 51.27669790193136\t 11.433018612376959\t 2.7879957266372277\t 3.206075552139267\n",
            "\u001b[1m\u001b[92m19\u001b[0m\t \u001b[1m\u001b[92m[-2.08547719 -1.00869565]\u001b[0m\t \u001b[1m\u001b[92m6.789484861835968\u001b[0m\t \u001b[1m\u001b[92m6.789484861835968\u001b[0m\t \u001b[1m\u001b[92m2.6865489262856443\u001b[0m\t \u001b[1m\u001b[92m3.5427689961543085\u001b[0m\n",
            "20 \t [ 3.08509548 -4.86060071]\t 38.1356118277683\t 6.789484861835968\t 2.94515099985452\t 3.2426770196074655\n"
          ]
        }
      ],
      "source": [
        "### EXACT STP ERM GRADIENTS\n",
        "\n",
        "np.random.seed(run_num_16)\n",
        "surrogate_exact_16 = dtStudentProcess(cov_func, optimize=opt, nu = df)\n",
        "\n",
        "exact_16 = dGPGO(surrogate_exact_16, Acquisition_grad(util), objfunc, param)\n",
        "exact_16.run(init_evals=n_init, max_iter=iters)\n"
      ]
    },
    {
      "cell_type": "code",
      "execution_count": 50,
      "metadata": {
        "id": "yU2SflSsJTUs",
        "colab": {
          "base_uri": "https://localhost:8080/"
        },
        "outputId": "105d3bad-ff92-4c6b-e573-f78b5f34e75c"
      },
      "outputs": [
        {
          "output_type": "stream",
          "name": "stdout",
          "text": [
            "Evaluation \t Proposed point \t  Current eval. \t  Best eval. \t        Exact ERM: StdDev. x \t Approx ERM: StdDev. x \n",
            "init\t [-2.10263037  0.31320838]\t 20.395145364684023\t 20.395145364684023\t    \t    \n",
            "init\t [-3.15882714 -4.42470033]\t 53.03732051200137\t 20.395145364684023\t    \t    \n",
            "init\t [2.93873111 1.60085526]\t 29.989224812583537\t 20.395145364684023\t    \t    \n",
            "init\t [1.40821398 0.77417363]\t 29.451989415882437\t 20.395145364684023\t    \t    \n",
            "init\t [-4.71999574 -1.45598869]\t 55.89242173757483\t 20.395145364684023\t    \t    \n",
            "1  \t [ 4.96008736 -4.44720822]\t 64.14783177084814\t 20.395145364684023\t 3.2833876348789577\t 4.615577619590076\n",
            "2  \t [-1.52514593  5.12      ]\t 51.126228729370766\t 20.395145364684023\t 3.2585496531962024\t 3.603230019077796\n",
            "3  \t [5.12 5.12]\t 57.849427451571785\t 20.395145364684023\t 3.373340056726609\t 3.5783632857713448\n",
            "4  \t [ 0.87626925 -5.12      ]\t 32.56532775557426\t 20.395145364684023\t 3.145488242762512\t 3.829269755277101\n",
            "5  \t [ 5.12       -0.82979112]\t 34.80723544015418\t 20.395145364684023\t 2.680454037225684\t 3.316829254141945\n",
            "6  \t [-5.12        2.92098394]\t 38.66417838185783\t 20.395145364684023\t 3.020035647301926\t 3.227043267240692\n",
            "7  \t [1.7726168 5.12     ]\t 40.65060630187617\t 20.395145364684023\t 2.759514338841905\t 2.961766058873094\n",
            "8  \t [ 1.71475934 -2.17627024]\t 25.404090024960787\t 20.395145364684023\t 3.055919888139629\t 3.0433034903598846\n",
            "9  \t [-0.40940376  2.45990709]\t 44.32627901370581\t 20.395145364684023\t 3.2353915702877725\t 3.5183031641489566\n",
            "10 \t [-0.84249014 -2.44642297]\t 30.643781584687638\t 20.395145364684023\t 2.708707254437792\t 3.206157244225735\n",
            "11 \t [5.12       2.22995623]\t 42.64135809016819\t 20.395145364684023\t 3.3048525773128397\t 3.4111055609276004\n",
            "12 \t [-2.69181104  2.8484107 ]\t 33.13772603857756\t 20.395145364684023\t 2.95446199785432\t 3.5083131999770836\n",
            "13 \t [-0.25573168 -0.36893634]\t 27.358167535054676\t 20.395145364684023\t 2.3223821747512643\t 3.2121923740049185\n",
            "14 \t [-4.25613366  0.8205968 ]\t 34.88165465030384\t 20.395145364684023\t 2.822163912691891\t 3.6997926765045825\n",
            "15 \t [ 3.40132444 -1.0102125 ]\t 30.74892004546507\t 20.395145364684023\t 2.825257846053013\t 3.435291122345977\n",
            "16 \t [-0.95859118 -5.12      ]\t 30.180172087252796\t 20.395145364684023\t 2.6749866967013194\t 3.10273977805037\n",
            "17 \t [-5.12 -5.12]\t 57.849427451571785\t 20.395145364684023\t 3.1413547767179564\t 3.183032529417581\n",
            "18 \t [ 2.83705984 -5.017253  ]\t 38.07905057442254\t 20.395145364684023\t 2.9352773786049373\t 3.26834843813673\n",
            "19 \t [2.21154283 3.26175905]\t 33.87527450251115\t 20.395145364684023\t 2.217959241717911\t 3.100851302252173\n",
            "20 \t [-2.73852008 -1.10721835]\t 21.630747309108905\t 20.395145364684023\t 2.6259146982745234\t 3.488484304189613\n"
          ]
        }
      ],
      "source": [
        "### EXACT STP ERM GRADIENTS\n",
        "\n",
        "np.random.seed(run_num_17)\n",
        "surrogate_exact_17 = dtStudentProcess(cov_func, optimize=opt, nu = df)\n",
        "\n",
        "exact_17 = dGPGO(surrogate_exact_17, Acquisition_grad(util), objfunc, param)\n",
        "exact_17.run(init_evals=n_init, max_iter=iters)\n"
      ]
    },
    {
      "cell_type": "code",
      "execution_count": 51,
      "metadata": {
        "id": "eVEhyZ9BQS-1",
        "colab": {
          "base_uri": "https://localhost:8080/"
        },
        "outputId": "484aa769-3c8c-4b37-fafe-949bdd21b0dc"
      },
      "outputs": [
        {
          "output_type": "stream",
          "name": "stdout",
          "text": [
            "Evaluation \t Proposed point \t  Current eval. \t  Best eval. \t        Exact ERM: StdDev. x \t Approx ERM: StdDev. x \n",
            "init\t [1.53983224 0.05584255]\t 22.67190580753611\t 22.67190580753611\t    \t    \n",
            "init\t [ 3.87687906 -3.25795609]\t 38.990099416711985\t 22.67190580753611\t    \t    \n",
            "init\t [3.60686662 2.56139557]\t 56.66448698782129\t 22.67190580753611\t    \t    \n",
            "init\t [1.70088108 4.99604939]\t 40.894059318256296\t 22.67190580753611\t    \t    \n",
            "init\t [-2.48864335 -4.83014733]\t 54.6725749848372\t 22.67190580753611\t    \t    \n",
            "1  \t [-5.00718904  2.9174042 ]\t 34.91005808676357\t 22.67190580753611\t 3.4997305681548654\t 3.766994966966281\n",
            "2  \t [-2.4927503  -0.54899256]\t 46.03475911354005\t 22.67190580753611\t 3.199511482189705\t 2.811424070256114\n",
            "\u001b[1m\u001b[92m3\u001b[0m\t \u001b[1m\u001b[92m[-1.25945714  3.05845017]\u001b[0m\t \u001b[1m\u001b[92m22.20103920827648\u001b[0m\t \u001b[1m\u001b[92m22.20103920827648\u001b[0m\t \u001b[1m\u001b[92m2.8579819524392778\u001b[0m\t \u001b[1m\u001b[92m3.4082613037854737\u001b[0m\n",
            "4  \t [ 1.0474466 -5.12     ]\t 30.462941894853586\t 22.20103920827648\t 3.7059473903327187\t 3.97428576144803\n",
            "5  \t [-5.12       -3.56632375]\t 60.78757583333879\t 22.20103920827648\t 2.941961948766062\t 3.4325096873014207\n",
            "6  \t [ 5.12       -0.24878194]\t 38.910073814014794\t 22.20103920827648\t 2.8301781241271926\t 3.468629852236451\n",
            "7  \t [5.12 5.12]\t 57.849427451571785\t 22.20103920827648\t 3.1812060411969414\t 3.3872219437370434\n",
            "\u001b[1m\u001b[92m8\u001b[0m\t \u001b[1m\u001b[92m[-0.14112603 -2.02846477]\u001b[0m\t \u001b[1m\u001b[92m7.974529053256038\u001b[0m\t \u001b[1m\u001b[92m7.974529053256038\u001b[0m\t \u001b[1m\u001b[92m2.1311346038928134\u001b[0m\t \u001b[1m\u001b[92m3.5012363990538975\u001b[0m\n",
            "9  \t [-5.10764455 -0.25530573]\t 38.68789898049555\t 7.974529053256038\t 2.7754458885878073\t 3.385963738464997\n",
            "10 \t [-1.72482118  5.12      ]\t 43.4751628385427\t 7.974529053256038\t 2.814737480511335\t 3.366425827280506\n",
            "11 \t [1.16378963 2.22538022]\t 19.610253352789048\t 7.974529053256038\t 2.855888420963454\t 3.060829652412385\n",
            "12 \t [-0.55568427  1.15264342]\t 25.28885157477835\t 7.974529053256038\t 2.451038222235088\t 2.544944563840726\n",
            "13 \t [ 4.90666391 -4.67293393]\t 62.23773095124354\t 7.974529053256038\t 2.923054317782096\t 3.4154425309586043\n",
            "14 \t [-1.41203809 -2.62715368]\t 44.38172731646271\t 7.974529053256038\t 2.441606535962977\t 2.6751971617149732\n",
            "15 \t [ 1.70818368 -1.88119941]\t 21.71300747101454\t 7.974529053256038\t 2.727757700323654\t 3.0761161909181625\n",
            "16 \t [-3.95121398  4.65827828]\t 53.22708044018908\t 7.974529053256038\t 2.7723106438531335\t 3.3634609345965703\n",
            "17 \t [-3.0678972   2.61380584]\t 34.69075818053631\t 7.974529053256038\t 2.7750631505340833\t 3.166447254211297\n",
            "18 \t [ 0.65391177 -3.26411052]\t 37.64470125305646\t 7.974529053256038\t 2.9054785755330927\t 3.11317277007602\n",
            "19 \t [ 3.84089908 -1.24752198]\t 30.74724556380063\t 7.974529053256038\t 2.203729462661149\t 2.87501346288921\n",
            "20 \t [-0.09625559 -0.29562207]\t 14.69787578028286\t 7.974529053256038\t 3.311086495896406\t 3.4294239988618713\n"
          ]
        }
      ],
      "source": [
        "### EXACT STP ERM GRADIENTS\n",
        "\n",
        "np.random.seed(run_num_18)\n",
        "surrogate_exact_18 = dtStudentProcess(cov_func, optimize=opt, nu = df)\n",
        "\n",
        "exact_18 = dGPGO(surrogate_exact_18, Acquisition_grad(util), objfunc, param)\n",
        "exact_18.run(init_evals=n_init, max_iter=iters)\n"
      ]
    },
    {
      "cell_type": "code",
      "execution_count": 52,
      "metadata": {
        "id": "B6gTz1ojQUxn",
        "colab": {
          "base_uri": "https://localhost:8080/"
        },
        "outputId": "8e279ec0-c332-4a4f-86bb-c66658e70f81"
      },
      "outputs": [
        {
          "output_type": "stream",
          "name": "stdout",
          "text": [
            "Evaluation \t Proposed point \t  Current eval. \t  Best eval. \t        Exact ERM: StdDev. x \t Approx ERM: StdDev. x \n",
            "init\t [-4.12125592  2.6751971 ]\t 41.43485596167127\t 25.867003842388073\t    \t    \n",
            "init\t [-2.59135515 -3.70553152]\t 51.60126035043229\t 25.867003842388073\t    \t    \n",
            "init\t [-1.72598719 -4.27008445]\t 43.97430127029199\t 25.867003842388073\t    \t    \n",
            "init\t [1.76104531 3.13952049]\t 25.867003842388073\t 25.867003842388073\t    \t    \n",
            "init\t [4.9432772  1.38916592]\t 44.66580306903559\t 25.867003842388073\t    \t    \n",
            "1  \t [ 4.82677578 -3.73089453]\t 53.77585428936947\t 25.867003842388073\t 3.4622925807913143\t 4.5045658200365235\n",
            "\u001b[1m\u001b[92m2\u001b[0m\t \u001b[1m\u001b[92m[-0.58954654  0.0049192 ]\u001b[0m\t \u001b[1m\u001b[92m18.81087714764606\u001b[0m\t \u001b[1m\u001b[92m18.81087714764606\u001b[0m\t \u001b[1m\u001b[92m3.4555212174189873\u001b[0m\t \u001b[1m\u001b[92m3.5232933300431544\u001b[0m\n",
            "3  \t [5.12 5.12]\t 57.849427451571785\t 18.81087714764606\t 3.67325756624776\t 3.950382570328079\n",
            "4  \t [-1.25895985  5.12      ]\t 41.0723605179829\t 18.81087714764606\t 3.281275582636313\t 3.44237882570481\n",
            "5  \t [ 2.31478008 -1.16885881]\t 25.8029855203665\t 18.81087714764606\t 2.5186097006949217\t 2.8451485673714907\n",
            "6  \t [ 1.56369339 -5.12      ]\t 50.57969180966882\t 18.81087714764606\t 3.3710720271716985\t 3.726582262414915\n",
            "7  \t [-5.12 -5.12]\t 57.849427451571785\t 18.81087714764606\t 2.7089551235375042\t 3.6429664819975844\n",
            "8  \t [-5.12       -0.92945103]\t 30.755062465902004\t 18.81087714764606\t 2.70446691427611\t 2.736706345699353\n",
            "\u001b[1m\u001b[92m9\u001b[0m\t \u001b[1m\u001b[92m[-2.77332896 -0.05885467]\u001b[0m\t \u001b[1m\u001b[92m16.91024373432563\u001b[0m\t \u001b[1m\u001b[92m16.91024373432563\u001b[0m\t \u001b[1m\u001b[92m2.4293002610810985\u001b[0m\t \u001b[1m\u001b[92m3.1292492172955004\u001b[0m\n",
            "10 \t [2.08419875 5.12      ]\t 34.63565976837199\t 16.91024373432563\t 2.7879270125185642\t 3.1310337778140966\n",
            "11 \t [-0.89562399  2.42632246]\t 27.711144236509018\t 16.91024373432563\t 2.207884699427467\t 3.0435372822896514\n",
            "12 \t [ 5.12       -1.11955568]\t 32.86935017430012\t 16.91024373432563\t 2.7770332840925906\t 3.1137278305092466\n",
            "13 \t [1.64286302 1.01081466]\t 19.978431937891866\t 16.91024373432563\t 2.8125117618763062\t 3.015444202168538\n",
            "14 \t [ 0.51637815 -2.47449941]\t 46.208805464595684\t 16.91024373432563\t 2.7123017172978634\t 2.8770134144332262\n",
            "15 \t [-3.33620828  5.1032116 ]\t 54.358745980671664\t 16.91024373432563\t 3.1823704041260954\t 3.0919293409467983\n",
            "16 \t [3.66082457 3.26520931]\t 50.33185566886073\t 16.91024373432563\t 2.639948404583966\t 3.221595349157712\n",
            "17 \t [-1.84850816 -1.48035684]\t 29.73060873158646\t 16.91024373432563\t 2.525677736291569\t 3.1634759105883274\n",
            "18 \t [-4.67913874 -2.6414772 ]\t 59.48088681100733\t 16.91024373432563\t 2.815957543512721\t 3.18530248862259\n",
            "19 \t [ 2.80886171 -2.94177761]\t 23.590806008943645\t 16.91024373432563\t 2.005897569564717\t 2.6388019884046643\n",
            "20 \t [-2.13110609  1.64708161]\t 26.485050071011685\t 16.91024373432563\t 2.0815631096602325\t 3.1527593652558554\n"
          ]
        }
      ],
      "source": [
        "### EXACT STP ERM GRADIENTS\n",
        "\n",
        "np.random.seed(run_num_19)\n",
        "surrogate_exact_19 = dtStudentProcess(cov_func, optimize=opt, nu = df)\n",
        "\n",
        "exact_19 = dGPGO(surrogate_exact_19, Acquisition_grad(util), objfunc, param)\n",
        "exact_19.run(init_evals=n_init, max_iter=iters)\n"
      ]
    },
    {
      "cell_type": "code",
      "execution_count": 53,
      "metadata": {
        "id": "aw3xvSryIwDi",
        "colab": {
          "base_uri": "https://localhost:8080/"
        },
        "outputId": "bc3aafda-5a93-4ca7-d1b5-9097c5e863a5"
      },
      "outputs": [
        {
          "output_type": "stream",
          "name": "stdout",
          "text": [
            "Evaluation \t Proposed point \t  Current eval. \t  Best eval. \t        Exact ERM: StdDev. x \t Approx ERM: StdDev. x \n",
            "init\t [0.9024594  4.07258857]\t 20.24255447774017\t 17.388691338534382\t    \t    \n",
            "init\t [4.00927467 3.23417577]\t 35.55852254546393\t 17.388691338534382\t    \t    \n",
            "init\t [-4.75249064  1.96359764]\t 36.54582989269194\t 17.388691338534382\t    \t    \n",
            "init\t [-1.24230715  0.18955208]\t 17.388691338534382\t 17.388691338534382\t    \t    \n",
            "init\t [ 1.61742301 -3.13497377]\t 33.22932870179905\t 17.388691338534382\t    \t    \n",
            "1  \t [-3.63321152 -5.03474635]\t 55.48325661511054\t 17.388691338534382\t 2.412682223371993\t 3.460756240350176\n",
            "2  \t [ 5.12      -0.8829083]\t 32.29068865601199\t 17.388691338534382\t 2.9508085656162732\t 3.706057618850579\n",
            "3  \t [-2.32069464  4.69848418]\t 54.93923015128713\t 17.388691338534382\t 2.907342926292012\t 3.2883773086507526\n",
            "4  \t [0.68245484 1.76884059]\t 26.531244609280083\t 17.388691338534382\t 3.232770927718294\t 3.370406609310003\n",
            "\u001b[1m\u001b[92m5\u001b[0m\t \u001b[1m\u001b[92m[-3.04755694 -1.85466883]\u001b[0m\t \u001b[1m\u001b[92m17.057906305415507\u001b[0m\t \u001b[1m\u001b[92m17.057906305415507\u001b[0m\t \u001b[1m\u001b[92m3.036420870098302\u001b[0m\t \u001b[1m\u001b[92m3.6476771305370614\u001b[0m\n",
            "6  \t [ 4.74943592 -4.3767148 ]\t 68.89505852791713\t 17.057906305415507\t 3.627937196044147\t 4.315651235023765\n",
            "7  \t [-0.4715397 -5.12     ]\t 48.987603640374076\t 17.057906305415507\t 3.7333851006721983\t 3.7603076876402706\n",
            "8  \t [-5.12       -2.05000536]\t 33.616774613312344\t 17.057906305415507\t 3.4009134263194234\t 3.0949788837795893\n",
            "9  \t [ 2.51688102 -0.39184516]\t 44.210547434205985\t 17.057906305415507\t 3.077310851922721\t 3.27127878673174\n",
            "10 \t [5.12 5.12]\t 57.849427451571785\t 17.057906305415507\t 3.11515329692977\t 3.4864708625193734\n",
            "11 \t [-0.62459373 -2.23016942]\t 31.210097445701773\t 17.057906305415507\t 2.7129686688440313\t 3.6331241164052144\n",
            "12 \t [-4.76171386  4.46249222]\t 71.57600127743926\t 17.057906305415507\t 3.0720194074384315\t 3.2482113999959106\n",
            "13 \t [5.12      1.5273816]\t 51.109977805993225\t 17.057906305415507\t 2.5891274148262045\t 3.4880947280869834\n",
            "14 \t [-1.97760002  2.35391331]\t 25.625667084942496\t 17.057906305415507\t 2.6696884393498634\t 2.9343414106954646\n",
            "15 \t [2.42979331 5.12      ]\t 53.871342764538554\t 17.057906305415507\t 2.57933566355724\t 3.277665519448022\n",
            "16 \t [-3.43633247  0.20191098]\t 38.083867173810795\t 17.057906305415507\t 2.650664902467898\t 2.8909550640465644\n",
            "17 \t [-0.17956538  5.12      ]\t 34.67447137252162\t 17.057906305415507\t 2.19945003627825\t 2.8023231257637797\n",
            "18 \t [ 0.34016487 -0.16923344]\t 20.65167641484655\t 17.057906305415507\t 2.8502068400014795\t 2.999582193900575\n",
            "19 \t [2.62645959 1.93949082]\t 28.379898288496\t 17.057906305415507\t 2.86465967290953\t 2.630670800543382\n",
            "20 \t [ 3.14420609 -2.02163228]\t 17.896848398753036\t 17.057906305415507\t 2.5746998168322768\t 3.0992225157822015\n"
          ]
        }
      ],
      "source": [
        "### EXACT STP ERM GRADIENTS\n",
        "\n",
        "np.random.seed(run_num_20)\n",
        "surrogate_exact_20 = dtStudentProcess(cov_func, optimize=opt, nu = df)\n",
        "\n",
        "exact_20 = dGPGO(surrogate_exact_20, Acquisition_grad(util), objfunc, param)\n",
        "exact_20.run(init_evals=n_init, max_iter=iters)\n"
      ]
    },
    {
      "cell_type": "code",
      "execution_count": 54,
      "metadata": {
        "id": "5c8szjivRPme",
        "colab": {
          "base_uri": "https://localhost:8080/"
        },
        "outputId": "293725b7-3336-457f-ba3c-abdfa0500602"
      },
      "outputs": [
        {
          "output_type": "execute_result",
          "data": {
            "text/plain": [
              "1305.0022685527802"
            ]
          },
          "metadata": {},
          "execution_count": 54
        }
      ],
      "source": [
        "end_exact = time.time()\n",
        "end_exact\n",
        "\n",
        "time_exact = end_exact - start_exact\n",
        "time_exact\n"
      ]
    },
    {
      "cell_type": "code",
      "execution_count": 55,
      "metadata": {
        "id": "f6gCKnp6RR8c",
        "colab": {
          "base_uri": "https://localhost:8080/"
        },
        "outputId": "88947fd4-b232-44f0-b443-bc747ececc49"
      },
      "outputs": [
        {
          "output_type": "execute_result",
          "data": {
            "text/plain": [
              "(2.7664552332380827, 2.9541786105202923)"
            ]
          },
          "metadata": {},
          "execution_count": 55
        }
      ],
      "source": [
        "### Simple regret minimization: run number = 1\n",
        "\n",
        "approx_output_1 = np.append(np.min(-approx_1.GP.y[0:n_init]),-approx_1.GP.y[n_init:(n_init+iters)]) \n",
        "exact_output_1 = np.append(np.min(-exact_1.GP.y[0:n_init]),-exact_1.GP.y[n_init:(n_init+iters)]) \n",
        "\n",
        "regret_approx_1 = np.log(approx_output_1 - y_global_orig)\n",
        "regret_exact_1 = np.log(exact_output_1 - y_global_orig)\n",
        "\n",
        "simple_regret_approx_1 = min_max_array(regret_approx_1)\n",
        "simple_regret_exact_1 = min_max_array(regret_exact_1)\n",
        "\n",
        "min_simple_regret_approx_1 = min(simple_regret_approx_1)\n",
        "min_simple_regret_exact_1 = min(simple_regret_exact_1)\n",
        "\n",
        "min_simple_regret_approx_1, min_simple_regret_exact_1\n"
      ]
    },
    {
      "cell_type": "code",
      "execution_count": 56,
      "metadata": {
        "id": "94yBw5tqQxfk",
        "colab": {
          "base_uri": "https://localhost:8080/"
        },
        "outputId": "ce0c66a2-ad39-4d7a-e798-c0705216b1ea"
      },
      "outputs": [
        {
          "output_type": "execute_result",
          "data": {
            "text/plain": [
              "(2.77610450245356, 2.648408994639049)"
            ]
          },
          "metadata": {},
          "execution_count": 56
        }
      ],
      "source": [
        "### Simple regret minimization: run number = 2\n",
        "\n",
        "approx_output_2 = np.append(np.min(-approx_2.GP.y[0:n_init]),-approx_2.GP.y[n_init:(n_init+iters)]) \n",
        "exact_output_2 = np.append(np.min(-exact_2.GP.y[0:n_init]),-exact_2.GP.y[n_init:(n_init+iters)]) \n",
        "\n",
        "regret_approx_2 = np.log(approx_output_2 - y_global_orig)\n",
        "regret_exact_2 = np.log(exact_output_2 - y_global_orig)\n",
        "\n",
        "simple_regret_approx_2 = min_max_array(regret_approx_2)\n",
        "simple_regret_exact_2 = min_max_array(regret_exact_2)\n",
        "\n",
        "min_simple_regret_approx_2 = min(simple_regret_approx_2)\n",
        "min_simple_regret_exact_2 = min(simple_regret_exact_2)\n",
        "\n",
        "min_simple_regret_approx_2, min_simple_regret_exact_2\n"
      ]
    },
    {
      "cell_type": "code",
      "execution_count": 57,
      "metadata": {
        "id": "Bu6SBWALQxfl",
        "colab": {
          "base_uri": "https://localhost:8080/"
        },
        "outputId": "5816b0e4-1915-484a-b1f7-9b9b182e2a18"
      },
      "outputs": [
        {
          "output_type": "execute_result",
          "data": {
            "text/plain": [
              "(2.361576630127625, 2.361576630127625)"
            ]
          },
          "metadata": {},
          "execution_count": 57
        }
      ],
      "source": [
        "### Simple regret minimization: run number = 3\n",
        "\n",
        "approx_output_3 = np.append(np.min(-approx_3.GP.y[0:n_init]),-approx_3.GP.y[n_init:(n_init+iters)]) \n",
        "exact_output_3 = np.append(np.min(-exact_3.GP.y[0:n_init]),-exact_3.GP.y[n_init:(n_init+iters)]) \n",
        "\n",
        "regret_approx_3 = np.log(approx_output_3 - y_global_orig)\n",
        "regret_exact_3 = np.log(exact_output_3 - y_global_orig)\n",
        "\n",
        "simple_regret_approx_3 = min_max_array(regret_approx_3)\n",
        "simple_regret_exact_3 = min_max_array(regret_exact_3)\n",
        "\n",
        "min_simple_regret_approx_3 = min(simple_regret_approx_3)\n",
        "min_simple_regret_exact_3 = min(simple_regret_exact_3)\n",
        "\n",
        "min_simple_regret_approx_3, min_simple_regret_exact_3"
      ]
    },
    {
      "cell_type": "code",
      "execution_count": 58,
      "metadata": {
        "id": "AZm0jgxkQxfm",
        "colab": {
          "base_uri": "https://localhost:8080/"
        },
        "outputId": "8221542b-27e9-4f13-d6fa-e63ba4949044"
      },
      "outputs": [
        {
          "output_type": "execute_result",
          "data": {
            "text/plain": [
              "(2.2814697253196883, 2.1569415233574896)"
            ]
          },
          "metadata": {},
          "execution_count": 58
        }
      ],
      "source": [
        "### Simple regret minimization: run number = 4\n",
        "\n",
        "approx_output_4 = np.append(np.min(-approx_4.GP.y[0:n_init]),-approx_4.GP.y[n_init:(n_init+iters)]) \n",
        "exact_output_4 = np.append(np.min(-exact_4.GP.y[0:n_init]),-exact_4.GP.y[n_init:(n_init+iters)]) \n",
        "\n",
        "regret_approx_4 = np.log(approx_output_4 - y_global_orig)\n",
        "regret_exact_4 = np.log(exact_output_4 - y_global_orig)\n",
        "\n",
        "simple_regret_approx_4 = min_max_array(regret_approx_4)\n",
        "simple_regret_exact_4 = min_max_array(regret_exact_4)\n",
        "\n",
        "min_simple_regret_approx_4 = min(simple_regret_approx_4)\n",
        "min_simple_regret_exact_4 = min(simple_regret_exact_4)\n",
        "\n",
        "min_simple_regret_approx_4, min_simple_regret_exact_4"
      ]
    },
    {
      "cell_type": "code",
      "execution_count": 59,
      "metadata": {
        "id": "NONPm8JIQxfn",
        "colab": {
          "base_uri": "https://localhost:8080/"
        },
        "outputId": "56ac5291-45ed-477e-ae55-ad9a307896d6"
      },
      "outputs": [
        {
          "output_type": "execute_result",
          "data": {
            "text/plain": [
              "(2.05551541920764, 1.6821649049875407)"
            ]
          },
          "metadata": {},
          "execution_count": 59
        }
      ],
      "source": [
        "### Simple regret minimization: run number = 5\n",
        "\n",
        "approx_output_5 = np.append(np.min(-approx_5.GP.y[0:n_init]),-approx_5.GP.y[n_init:(n_init+iters)]) \n",
        "exact_output_5 = np.append(np.min(-exact_5.GP.y[0:n_init]),-exact_5.GP.y[n_init:(n_init+iters)]) \n",
        "\n",
        "regret_approx_5 = np.log(approx_output_5 - y_global_orig)\n",
        "regret_exact_5 = np.log(exact_output_5 - y_global_orig)\n",
        "\n",
        "simple_regret_approx_5 = min_max_array(regret_approx_5)\n",
        "simple_regret_exact_5 = min_max_array(regret_exact_5)\n",
        "\n",
        "min_simple_regret_approx_5 = min(simple_regret_approx_5)\n",
        "min_simple_regret_exact_5 = min(simple_regret_exact_5)\n",
        "\n",
        "min_simple_regret_approx_5, min_simple_regret_exact_5"
      ]
    },
    {
      "cell_type": "code",
      "execution_count": 60,
      "metadata": {
        "id": "CJv3lPuSQxfp",
        "colab": {
          "base_uri": "https://localhost:8080/"
        },
        "outputId": "4dae781e-f106-4f7c-ab6f-dd8d79d99237"
      },
      "outputs": [
        {
          "output_type": "execute_result",
          "data": {
            "text/plain": [
              "(2.8253682840236825, 1.754000161153507)"
            ]
          },
          "metadata": {},
          "execution_count": 60
        }
      ],
      "source": [
        "### Simple regret minimization: run number = 6\n",
        "\n",
        "approx_output_6 = np.append(np.min(-approx_6.GP.y[0:n_init]),-approx_6.GP.y[n_init:(n_init+iters)]) \n",
        "exact_output_6 = np.append(np.min(-exact_6.GP.y[0:n_init]),-exact_6.GP.y[n_init:(n_init+iters)]) \n",
        "\n",
        "regret_approx_6 = np.log(approx_output_6 - y_global_orig)\n",
        "regret_exact_6 = np.log(exact_output_6 - y_global_orig)\n",
        "\n",
        "simple_regret_approx_6 = min_max_array(regret_approx_6)\n",
        "simple_regret_exact_6 = min_max_array(regret_exact_6)\n",
        "\n",
        "min_simple_regret_approx_6 = min(simple_regret_approx_6)\n",
        "min_simple_regret_exact_6 = min(simple_regret_exact_6)\n",
        "\n",
        "min_simple_regret_approx_6, min_simple_regret_exact_6"
      ]
    },
    {
      "cell_type": "code",
      "execution_count": 61,
      "metadata": {
        "id": "quR2ZyApQxfq",
        "colab": {
          "base_uri": "https://localhost:8080/"
        },
        "outputId": "2c12006f-7a31-4519-dd39-7fc3f03e80aa"
      },
      "outputs": [
        {
          "output_type": "execute_result",
          "data": {
            "text/plain": [
              "(2.3557303036732127, 1.8902795156255996)"
            ]
          },
          "metadata": {},
          "execution_count": 61
        }
      ],
      "source": [
        "### Simple regret minimization: run number = 7\n",
        "\n",
        "approx_output_7 = np.append(np.min(-approx_7.GP.y[0:n_init]),-approx_7.GP.y[n_init:(n_init+iters)]) \n",
        "exact_output_7 = np.append(np.min(-exact_7.GP.y[0:n_init]),-exact_7.GP.y[n_init:(n_init+iters)]) \n",
        "\n",
        "regret_approx_7 = np.log(approx_output_7 - y_global_orig)\n",
        "regret_exact_7 = np.log(exact_output_7 - y_global_orig)\n",
        "\n",
        "simple_regret_approx_7 = min_max_array(regret_approx_7)\n",
        "simple_regret_exact_7 = min_max_array(regret_exact_7)\n",
        "\n",
        "min_simple_regret_approx_7 = min(simple_regret_approx_7)\n",
        "min_simple_regret_exact_7 = min(simple_regret_exact_7)\n",
        "\n",
        "min_simple_regret_approx_7, min_simple_regret_exact_7"
      ]
    },
    {
      "cell_type": "code",
      "execution_count": 62,
      "metadata": {
        "id": "99wY5nK6Qxfr",
        "colab": {
          "base_uri": "https://localhost:8080/"
        },
        "outputId": "c4fd2897-ee7c-476f-ecf3-4d358bd31c2e"
      },
      "outputs": [
        {
          "output_type": "execute_result",
          "data": {
            "text/plain": [
              "(2.6298595175876263, 2.1877606287194356)"
            ]
          },
          "metadata": {},
          "execution_count": 62
        }
      ],
      "source": [
        "### Simple regret minimization: run number = 8\n",
        "\n",
        "approx_output_8 = np.append(np.min(-approx_8.GP.y[0:n_init]),-approx_8.GP.y[n_init:(n_init+iters)]) \n",
        "exact_output_8 = np.append(np.min(-exact_8.GP.y[0:n_init]),-exact_8.GP.y[n_init:(n_init+iters)]) \n",
        "\n",
        "regret_approx_8 = np.log(approx_output_8 - y_global_orig)\n",
        "regret_exact_8 = np.log(exact_output_8 - y_global_orig)\n",
        "\n",
        "simple_regret_approx_8 = min_max_array(regret_approx_8)\n",
        "simple_regret_exact_8 = min_max_array(regret_exact_8)\n",
        "\n",
        "min_simple_regret_approx_8 = min(simple_regret_approx_8)\n",
        "min_simple_regret_exact_8 = min(simple_regret_exact_8)\n",
        "\n",
        "min_simple_regret_approx_8, min_simple_regret_exact_8"
      ]
    },
    {
      "cell_type": "code",
      "execution_count": 63,
      "metadata": {
        "id": "qt0P5t9qQxfs",
        "colab": {
          "base_uri": "https://localhost:8080/"
        },
        "outputId": "7a5d08f7-8741-4e9b-e3f9-d10248534755"
      },
      "outputs": [
        {
          "output_type": "execute_result",
          "data": {
            "text/plain": [
              "(2.8034989913516903, 2.478845425626092)"
            ]
          },
          "metadata": {},
          "execution_count": 63
        }
      ],
      "source": [
        "### Simple regret minimization: run number = 9\n",
        "\n",
        "approx_output_9 = np.append(np.min(-approx_9.GP.y[0:n_init]),-approx_9.GP.y[n_init:(n_init+iters)]) \n",
        "exact_output_9 = np.append(np.min(-exact_9.GP.y[0:n_init]),-exact_9.GP.y[n_init:(n_init+iters)]) \n",
        "\n",
        "regret_approx_9 = np.log(approx_output_9 - y_global_orig)\n",
        "regret_exact_9 = np.log(exact_output_9 - y_global_orig)\n",
        "\n",
        "simple_regret_approx_9 = min_max_array(regret_approx_9)\n",
        "simple_regret_exact_9 = min_max_array(regret_exact_9)\n",
        "\n",
        "min_simple_regret_approx_9 = min(simple_regret_approx_9)\n",
        "min_simple_regret_exact_9 = min(simple_regret_exact_9)\n",
        "\n",
        "min_simple_regret_approx_9, min_simple_regret_exact_9"
      ]
    },
    {
      "cell_type": "code",
      "execution_count": 64,
      "metadata": {
        "id": "vx8to9stQxft",
        "colab": {
          "base_uri": "https://localhost:8080/"
        },
        "outputId": "35e20ddd-340c-4c4d-90a6-bb3b640535c4"
      },
      "outputs": [
        {
          "output_type": "execute_result",
          "data": {
            "text/plain": [
              "(2.508363951411388, 2.627523809990331)"
            ]
          },
          "metadata": {},
          "execution_count": 64
        }
      ],
      "source": [
        "### Simple regret minimization: run number = 10\n",
        "\n",
        "approx_output_10 = np.append(np.min(-approx_10.GP.y[0:n_init]),-approx_10.GP.y[n_init:(n_init+iters)]) \n",
        "exact_output_10 = np.append(np.min(-exact_10.GP.y[0:n_init]),-exact_10.GP.y[n_init:(n_init+iters)]) \n",
        "\n",
        "regret_approx_10 = np.log(approx_output_10 - y_global_orig)\n",
        "regret_exact_10 = np.log(exact_output_10 - y_global_orig)\n",
        "\n",
        "simple_regret_approx_10 = min_max_array(regret_approx_10)\n",
        "simple_regret_exact_10 = min_max_array(regret_exact_10)\n",
        "\n",
        "min_simple_regret_approx_10 = min(simple_regret_approx_10)\n",
        "min_simple_regret_exact_10 = min(simple_regret_exact_10)\n",
        "\n",
        "min_simple_regret_approx_10, min_simple_regret_exact_10"
      ]
    },
    {
      "cell_type": "code",
      "execution_count": 65,
      "metadata": {
        "id": "d-FGzWyHQxfu",
        "colab": {
          "base_uri": "https://localhost:8080/"
        },
        "outputId": "6033c9f6-b206-4d94-f3da-468e136a6487"
      },
      "outputs": [
        {
          "output_type": "execute_result",
          "data": {
            "text/plain": [
              "(2.3683499168354514, 2.3683499168354514)"
            ]
          },
          "metadata": {},
          "execution_count": 65
        }
      ],
      "source": [
        "### Simple regret minimization: run number = 11\n",
        "\n",
        "approx_output_11 = np.append(np.min(-approx_11.GP.y[0:n_init]),-approx_11.GP.y[n_init:(n_init+iters)]) \n",
        "exact_output_11 = np.append(np.min(-exact_11.GP.y[0:n_init]),-exact_11.GP.y[n_init:(n_init+iters)]) \n",
        "\n",
        "regret_approx_11 = np.log(approx_output_11 - y_global_orig)\n",
        "regret_exact_11 = np.log(exact_output_11 - y_global_orig)\n",
        "\n",
        "simple_regret_approx_11 = min_max_array(regret_approx_11)\n",
        "simple_regret_exact_11 = min_max_array(regret_exact_11)\n",
        "\n",
        "min_simple_regret_approx_11 = min(simple_regret_approx_11)\n",
        "min_simple_regret_exact_11 = min(simple_regret_exact_11)\n",
        "\n",
        "min_simple_regret_approx_11, min_simple_regret_exact_11"
      ]
    },
    {
      "cell_type": "code",
      "execution_count": 66,
      "metadata": {
        "id": "SvtsssyjQxfv",
        "colab": {
          "base_uri": "https://localhost:8080/"
        },
        "outputId": "264b1e45-cd20-4397-8520-4504f9087d0b"
      },
      "outputs": [
        {
          "output_type": "execute_result",
          "data": {
            "text/plain": [
              "(0.06552699248815834, 1.979055745280765)"
            ]
          },
          "metadata": {},
          "execution_count": 66
        }
      ],
      "source": [
        "### Simple regret minimization: run number = 12\n",
        "\n",
        "approx_output_12 = np.append(np.min(-approx_12.GP.y[0:n_init]),-approx_12.GP.y[n_init:(n_init+iters)]) \n",
        "exact_output_12 = np.append(np.min(-exact_12.GP.y[0:n_init]),-exact_12.GP.y[n_init:(n_init+iters)]) \n",
        "\n",
        "regret_approx_12 = np.log(approx_output_12 - y_global_orig)\n",
        "regret_exact_12 = np.log(exact_output_12 - y_global_orig)\n",
        "\n",
        "simple_regret_approx_12 = min_max_array(regret_approx_12)\n",
        "simple_regret_exact_12 = min_max_array(regret_exact_12)\n",
        "\n",
        "min_simple_regret_approx_12 = min(simple_regret_approx_12)\n",
        "min_simple_regret_exact_12 = min(simple_regret_exact_12)\n",
        "\n",
        "min_simple_regret_approx_12, min_simple_regret_exact_12"
      ]
    },
    {
      "cell_type": "code",
      "execution_count": 67,
      "metadata": {
        "id": "K6OiGcHkQxfw",
        "colab": {
          "base_uri": "https://localhost:8080/"
        },
        "outputId": "e3695fc6-96fc-4b22-bf42-09b6d900f574"
      },
      "outputs": [
        {
          "output_type": "execute_result",
          "data": {
            "text/plain": [
              "(2.3480763025486384, 2.858527091646381)"
            ]
          },
          "metadata": {},
          "execution_count": 67
        }
      ],
      "source": [
        "### Simple regret minimization: run number = 13\n",
        "\n",
        "approx_output_13 = np.append(np.min(-approx_13.GP.y[0:n_init]),-approx_13.GP.y[n_init:(n_init+iters)]) \n",
        "exact_output_13 = np.append(np.min(-exact_13.GP.y[0:n_init]),-exact_13.GP.y[n_init:(n_init+iters)]) \n",
        "\n",
        "regret_approx_13 = np.log(approx_output_13 - y_global_orig)\n",
        "regret_exact_13 = np.log(exact_output_13 - y_global_orig)\n",
        "\n",
        "simple_regret_approx_13 = min_max_array(regret_approx_13)\n",
        "simple_regret_exact_13 = min_max_array(regret_exact_13)\n",
        "\n",
        "min_simple_regret_approx_13 = min(simple_regret_approx_13)\n",
        "min_simple_regret_exact_13 = min(simple_regret_exact_13)\n",
        "\n",
        "min_simple_regret_approx_13, min_simple_regret_exact_13"
      ]
    },
    {
      "cell_type": "code",
      "execution_count": 68,
      "metadata": {
        "id": "ogML73shQxfx",
        "colab": {
          "base_uri": "https://localhost:8080/"
        },
        "outputId": "436a76a3-4b4a-4e85-a57e-c1f4aaba6de0"
      },
      "outputs": [
        {
          "output_type": "execute_result",
          "data": {
            "text/plain": [
              "(2.3440953566682032, 2.3440953566682032)"
            ]
          },
          "metadata": {},
          "execution_count": 68
        }
      ],
      "source": [
        "### Simple regret minimization: run number = 14\n",
        "\n",
        "approx_output_14 = np.append(np.min(-approx_14.GP.y[0:n_init]),-approx_14.GP.y[n_init:(n_init+iters)]) \n",
        "exact_output_14 = np.append(np.min(-exact_14.GP.y[0:n_init]),-exact_14.GP.y[n_init:(n_init+iters)]) \n",
        "\n",
        "regret_approx_14 = np.log(approx_output_14 - y_global_orig)\n",
        "regret_exact_14 = np.log(exact_output_14 - y_global_orig)\n",
        "\n",
        "simple_regret_approx_14 = min_max_array(regret_approx_14)\n",
        "simple_regret_exact_14 = min_max_array(regret_exact_14)\n",
        "\n",
        "min_simple_regret_approx_14 = min(simple_regret_approx_14)\n",
        "min_simple_regret_exact_14 = min(simple_regret_exact_14)\n",
        "\n",
        "min_simple_regret_approx_14, min_simple_regret_exact_14"
      ]
    },
    {
      "cell_type": "code",
      "execution_count": 69,
      "metadata": {
        "id": "9Eg7gFT9Qxfx",
        "colab": {
          "base_uri": "https://localhost:8080/"
        },
        "outputId": "c996e87e-74b7-4832-f082-a05321fc0019"
      },
      "outputs": [
        {
          "output_type": "execute_result",
          "data": {
            "text/plain": [
              "(2.078286539213237, 2.078286539213237)"
            ]
          },
          "metadata": {},
          "execution_count": 69
        }
      ],
      "source": [
        "### Simple regret minimization: run number = 15\n",
        "\n",
        "approx_output_15 = np.append(np.min(-approx_15.GP.y[0:n_init]),-approx_15.GP.y[n_init:(n_init+iters)]) \n",
        "exact_output_15 = np.append(np.min(-exact_15.GP.y[0:n_init]),-exact_15.GP.y[n_init:(n_init+iters)]) \n",
        "\n",
        "regret_approx_15 = np.log(approx_output_15 - y_global_orig)\n",
        "regret_exact_15 = np.log(exact_output_15 - y_global_orig)\n",
        "\n",
        "simple_regret_approx_15 = min_max_array(regret_approx_15)\n",
        "simple_regret_exact_15 = min_max_array(regret_exact_15)\n",
        "\n",
        "min_simple_regret_approx_15 = min(simple_regret_approx_15)\n",
        "min_simple_regret_exact_15 = min(simple_regret_exact_15)\n",
        "\n",
        "min_simple_regret_approx_15, min_simple_regret_exact_15"
      ]
    },
    {
      "cell_type": "code",
      "execution_count": 70,
      "metadata": {
        "id": "lIAC1U7ZQxfy",
        "colab": {
          "base_uri": "https://localhost:8080/"
        },
        "outputId": "625a0cda-0bae-4d39-c8a5-f8d101d45ea2"
      },
      "outputs": [
        {
          "output_type": "execute_result",
          "data": {
            "text/plain": [
              "(1.529920422592049, 1.915375071510802)"
            ]
          },
          "metadata": {},
          "execution_count": 70
        }
      ],
      "source": [
        "### Simple regret minimization: run number = 16\n",
        "\n",
        "approx_output_16 = np.append(np.min(-approx_16.GP.y[0:n_init]),-approx_16.GP.y[n_init:(n_init+iters)]) \n",
        "exact_output_16 = np.append(np.min(-exact_16.GP.y[0:n_init]),-exact_16.GP.y[n_init:(n_init+iters)]) \n",
        "\n",
        "regret_approx_16 = np.log(approx_output_16 - y_global_orig)\n",
        "regret_exact_16 = np.log(exact_output_16 - y_global_orig)\n",
        "\n",
        "simple_regret_approx_16 = min_max_array(regret_approx_16)\n",
        "simple_regret_exact_16 = min_max_array(regret_exact_16)\n",
        "\n",
        "min_simple_regret_approx_16 = min(simple_regret_approx_16)\n",
        "min_simple_regret_exact_16 = min(simple_regret_exact_16)\n",
        "\n",
        "min_simple_regret_approx_16, min_simple_regret_exact_16"
      ]
    },
    {
      "cell_type": "code",
      "execution_count": 71,
      "metadata": {
        "id": "bGott36OQxfz",
        "colab": {
          "base_uri": "https://localhost:8080/"
        },
        "outputId": "312be88c-f961-4e1d-9446-ad15db842909"
      },
      "outputs": [
        {
          "output_type": "execute_result",
          "data": {
            "text/plain": [
              "(2.5128259814257077, 3.0152969002108545)"
            ]
          },
          "metadata": {},
          "execution_count": 71
        }
      ],
      "source": [
        "### Simple regret minimization: run number = 17\n",
        "\n",
        "approx_output_17 = np.append(np.min(-approx_17.GP.y[0:n_init]),-approx_17.GP.y[n_init:(n_init+iters)]) \n",
        "exact_output_17 = np.append(np.min(-exact_17.GP.y[0:n_init]),-exact_17.GP.y[n_init:(n_init+iters)]) \n",
        "\n",
        "regret_approx_17 = np.log(approx_output_17 - y_global_orig)\n",
        "regret_exact_17 = np.log(exact_output_17 - y_global_orig)\n",
        "\n",
        "simple_regret_approx_17 = min_max_array(regret_approx_17)\n",
        "simple_regret_exact_17 = min_max_array(regret_exact_17)\n",
        "\n",
        "min_simple_regret_approx_17 = min(simple_regret_approx_17)\n",
        "min_simple_regret_exact_17 = min(simple_regret_exact_17)\n",
        "\n",
        "min_simple_regret_approx_17, min_simple_regret_exact_17"
      ]
    },
    {
      "cell_type": "code",
      "execution_count": 72,
      "metadata": {
        "id": "Cz9ZYMBMQxfz",
        "colab": {
          "base_uri": "https://localhost:8080/"
        },
        "outputId": "2043c80d-9ab5-483b-c328-63a8019105f1"
      },
      "outputs": [
        {
          "output_type": "execute_result",
          "data": {
            "text/plain": [
              "(2.5656301629409914, 2.0762525940439627)"
            ]
          },
          "metadata": {},
          "execution_count": 72
        }
      ],
      "source": [
        "### Simple regret minimization: run number = 18\n",
        "\n",
        "approx_output_18 = np.append(np.min(-approx_18.GP.y[0:n_init]),-approx_18.GP.y[n_init:(n_init+iters)]) \n",
        "exact_output_18 = np.append(np.min(-exact_18.GP.y[0:n_init]),-exact_18.GP.y[n_init:(n_init+iters)]) \n",
        "\n",
        "regret_approx_18 = np.log(approx_output_18 - y_global_orig)\n",
        "regret_exact_18 = np.log(exact_output_18 - y_global_orig)\n",
        "\n",
        "simple_regret_approx_18 = min_max_array(regret_approx_18)\n",
        "simple_regret_exact_18 = min_max_array(regret_exact_18)\n",
        "\n",
        "min_simple_regret_approx_18 = min(simple_regret_approx_18)\n",
        "min_simple_regret_exact_18 = min(simple_regret_exact_18)\n",
        "\n",
        "min_simple_regret_approx_18, min_simple_regret_exact_18"
      ]
    },
    {
      "cell_type": "code",
      "execution_count": 73,
      "metadata": {
        "id": "OBfpWOHNQxf0",
        "colab": {
          "base_uri": "https://localhost:8080/"
        },
        "outputId": "0b35fd36-858a-493a-c628-f52ab8720a9a"
      },
      "outputs": [
        {
          "output_type": "execute_result",
          "data": {
            "text/plain": [
              "(2.078846340571285, 2.8279195764272895)"
            ]
          },
          "metadata": {},
          "execution_count": 73
        }
      ],
      "source": [
        "### Simple regret minimization: run number = 19\n",
        "\n",
        "approx_output_19 = np.append(np.min(-approx_19.GP.y[0:n_init]),-approx_19.GP.y[n_init:(n_init+iters)]) \n",
        "exact_output_19 = np.append(np.min(-exact_19.GP.y[0:n_init]),-exact_19.GP.y[n_init:(n_init+iters)]) \n",
        "\n",
        "regret_approx_19 = np.log(approx_output_19 - y_global_orig)\n",
        "regret_exact_19 = np.log(exact_output_19 - y_global_orig)\n",
        "\n",
        "simple_regret_approx_19 = min_max_array(regret_approx_19)\n",
        "simple_regret_exact_19 = min_max_array(regret_exact_19)\n",
        "\n",
        "min_simple_regret_approx_19 = min(simple_regret_approx_19)\n",
        "min_simple_regret_exact_19 = min(simple_regret_exact_19)\n",
        "\n",
        "min_simple_regret_approx_19, min_simple_regret_exact_19"
      ]
    },
    {
      "cell_type": "code",
      "execution_count": 74,
      "metadata": {
        "id": "BE1AJ7NsQxf0",
        "colab": {
          "base_uri": "https://localhost:8080/"
        },
        "outputId": "24d68453-0197-4770-8713-ff77ff2cd410"
      },
      "outputs": [
        {
          "output_type": "execute_result",
          "data": {
            "text/plain": [
              "(2.8558200718561926, 2.8366138091755078)"
            ]
          },
          "metadata": {},
          "execution_count": 74
        }
      ],
      "source": [
        "### Simple regret minimization: run number = 20\n",
        "\n",
        "approx_output_20 = np.append(np.min(-approx_20.GP.y[0:n_init]),-approx_20.GP.y[n_init:(n_init+iters)]) \n",
        "exact_output_20 = np.append(np.min(-exact_20.GP.y[0:n_init]),-exact_20.GP.y[n_init:(n_init+iters)]) \n",
        "\n",
        "regret_approx_20 = np.log(approx_output_20 - y_global_orig)\n",
        "regret_exact_20 = np.log(exact_output_20 - y_global_orig)\n",
        "\n",
        "simple_regret_approx_20 = min_max_array(regret_approx_20)\n",
        "simple_regret_exact_20 = min_max_array(regret_exact_20)\n",
        "\n",
        "min_simple_regret_approx_20 = min(simple_regret_approx_20)\n",
        "min_simple_regret_exact_20 = min(simple_regret_exact_20)\n",
        "\n",
        "min_simple_regret_approx_20, min_simple_regret_exact_20"
      ]
    },
    {
      "cell_type": "code",
      "execution_count": 75,
      "metadata": {
        "id": "bpX-bKAHQxf1"
      },
      "outputs": [],
      "source": [
        "# Iteration1 :\n",
        "\n",
        "slice1 = 0\n",
        "\n",
        "approx1 = [simple_regret_approx_1[slice1],\n",
        "       simple_regret_approx_2[slice1],\n",
        "       simple_regret_approx_3[slice1],\n",
        "       simple_regret_approx_4[slice1],\n",
        "       simple_regret_approx_5[slice1],\n",
        "       simple_regret_approx_6[slice1],\n",
        "       simple_regret_approx_7[slice1],\n",
        "       simple_regret_approx_8[slice1],\n",
        "       simple_regret_approx_9[slice1],\n",
        "       simple_regret_approx_10[slice1],\n",
        "       simple_regret_approx_11[slice1],\n",
        "       simple_regret_approx_12[slice1],\n",
        "       simple_regret_approx_13[slice1],\n",
        "       simple_regret_approx_14[slice1],\n",
        "       simple_regret_approx_15[slice1],\n",
        "       simple_regret_approx_16[slice1],\n",
        "       simple_regret_approx_17[slice1],\n",
        "       simple_regret_approx_18[slice1],\n",
        "       simple_regret_approx_19[slice1],\n",
        "       simple_regret_approx_20[slice1]]\n",
        "\n",
        "exact1 = [simple_regret_exact_1[slice1],\n",
        "       simple_regret_exact_2[slice1],\n",
        "       simple_regret_exact_3[slice1],\n",
        "       simple_regret_exact_4[slice1],\n",
        "       simple_regret_exact_5[slice1],\n",
        "       simple_regret_exact_6[slice1],\n",
        "       simple_regret_exact_7[slice1],\n",
        "       simple_regret_exact_8[slice1],\n",
        "       simple_regret_exact_9[slice1],\n",
        "       simple_regret_exact_10[slice1],\n",
        "       simple_regret_exact_11[slice1],\n",
        "       simple_regret_exact_12[slice1],\n",
        "       simple_regret_exact_13[slice1],\n",
        "       simple_regret_exact_14[slice1],\n",
        "       simple_regret_exact_15[slice1],\n",
        "       simple_regret_exact_16[slice1],\n",
        "       simple_regret_exact_17[slice1],\n",
        "       simple_regret_exact_18[slice1],\n",
        "       simple_regret_exact_19[slice1],\n",
        "       simple_regret_exact_20[slice1]]\n",
        "\n",
        "approx1_results = pd.DataFrame(approx1).sort_values(by=[0], ascending=False)\n",
        "exact1_results = pd.DataFrame(exact1).sort_values(by=[0], ascending=False)\n",
        "\n",
        "### Best simple regret minimization IQR - approx:\n",
        "lower_approx1 = np.asarray(approx1_results[4:5][0])[0]\n",
        "median_approx1 = np.asarray(approx1_results[9:10][0])[0]\n",
        "upper_approx1 = np.asarray(approx1_results[14:15][0])[0]\n",
        "\n",
        "lower_exact1 = np.asarray(exact1_results[4:5][0])[0]\n",
        "median_exact1 = np.asarray(exact1_results[9:10][0])[0]\n",
        "upper_exact1 = np.asarray(exact1_results[14:15][0])[0]"
      ]
    },
    {
      "cell_type": "code",
      "execution_count": 76,
      "metadata": {
        "id": "CgIkJA1xQxf2"
      },
      "outputs": [],
      "source": [
        "# Iteration11 :\n",
        "\n",
        "slice11 = 10\n",
        "\n",
        "approx11 = [simple_regret_approx_1[slice11],\n",
        "       simple_regret_approx_2[slice11],\n",
        "       simple_regret_approx_3[slice11],\n",
        "       simple_regret_approx_4[slice11],\n",
        "       simple_regret_approx_5[slice11],\n",
        "       simple_regret_approx_6[slice11],\n",
        "       simple_regret_approx_7[slice11],\n",
        "       simple_regret_approx_8[slice11],\n",
        "       simple_regret_approx_9[slice11],\n",
        "       simple_regret_approx_10[slice11],\n",
        "       simple_regret_approx_11[slice11],\n",
        "       simple_regret_approx_12[slice11],\n",
        "       simple_regret_approx_13[slice11],\n",
        "       simple_regret_approx_14[slice11],\n",
        "       simple_regret_approx_15[slice11],\n",
        "       simple_regret_approx_16[slice11],\n",
        "       simple_regret_approx_17[slice11],\n",
        "       simple_regret_approx_18[slice11],\n",
        "       simple_regret_approx_19[slice11],\n",
        "       simple_regret_approx_20[slice11]]\n",
        "\n",
        "exact11 = [simple_regret_exact_1[slice11],\n",
        "       simple_regret_exact_2[slice11],\n",
        "       simple_regret_exact_3[slice11],\n",
        "       simple_regret_exact_4[slice11],\n",
        "       simple_regret_exact_5[slice11],\n",
        "       simple_regret_exact_6[slice11],\n",
        "       simple_regret_exact_7[slice11],\n",
        "       simple_regret_exact_8[slice11],\n",
        "       simple_regret_exact_9[slice11],\n",
        "       simple_regret_exact_10[slice11],\n",
        "       simple_regret_exact_11[slice11],\n",
        "       simple_regret_exact_12[slice11],\n",
        "       simple_regret_exact_13[slice11],\n",
        "       simple_regret_exact_14[slice11],\n",
        "       simple_regret_exact_15[slice11],\n",
        "       simple_regret_exact_16[slice11],\n",
        "       simple_regret_exact_17[slice11],\n",
        "       simple_regret_exact_18[slice11],\n",
        "       simple_regret_exact_19[slice11],\n",
        "       simple_regret_exact_20[slice11]]\n",
        "\n",
        "approx11_results = pd.DataFrame(approx11).sort_values(by=[0], ascending=False)\n",
        "exact11_results = pd.DataFrame(exact11).sort_values(by=[0], ascending=False)\n",
        "\n",
        "### Best simple regret minimization IQR - approx:\n",
        "lower_approx11 = np.asarray(approx11_results[4:5][0])[0]\n",
        "median_approx11 = np.asarray(approx11_results[9:10][0])[0]\n",
        "upper_approx11 = np.asarray(approx11_results[14:15][0])[0]\n",
        "\n",
        "lower_exact11 = np.asarray(exact11_results[4:5][0])[0]\n",
        "median_exact11 = np.asarray(exact11_results[9:10][0])[0]\n",
        "upper_exact11 = np.asarray(exact11_results[14:15][0])[0]"
      ]
    },
    {
      "cell_type": "code",
      "execution_count": 77,
      "metadata": {
        "id": "MFePDfGuQxf2"
      },
      "outputs": [],
      "source": [
        "# Iteration21 :\n",
        "\n",
        "slice21 = 20\n",
        "\n",
        "approx21 = [simple_regret_approx_1[slice21],\n",
        "       simple_regret_approx_2[slice21],\n",
        "       simple_regret_approx_3[slice21],\n",
        "       simple_regret_approx_4[slice21],\n",
        "       simple_regret_approx_5[slice21],\n",
        "       simple_regret_approx_6[slice21],\n",
        "       simple_regret_approx_7[slice21],\n",
        "       simple_regret_approx_8[slice21],\n",
        "       simple_regret_approx_9[slice21],\n",
        "       simple_regret_approx_10[slice21],\n",
        "       simple_regret_approx_11[slice21],\n",
        "       simple_regret_approx_12[slice21],\n",
        "       simple_regret_approx_13[slice21],\n",
        "       simple_regret_approx_14[slice21],\n",
        "       simple_regret_approx_15[slice21],\n",
        "       simple_regret_approx_16[slice21],\n",
        "       simple_regret_approx_17[slice21],\n",
        "       simple_regret_approx_18[slice21],\n",
        "       simple_regret_approx_19[slice21],\n",
        "       simple_regret_approx_20[slice21]]\n",
        "\n",
        "exact21 = [simple_regret_exact_1[slice21],\n",
        "       simple_regret_exact_2[slice21],\n",
        "       simple_regret_exact_3[slice21],\n",
        "       simple_regret_exact_4[slice21],\n",
        "       simple_regret_exact_5[slice21],\n",
        "       simple_regret_exact_6[slice21],\n",
        "       simple_regret_exact_7[slice21],\n",
        "       simple_regret_exact_8[slice21],\n",
        "       simple_regret_exact_9[slice21],\n",
        "       simple_regret_exact_10[slice21],\n",
        "       simple_regret_exact_11[slice21],\n",
        "       simple_regret_exact_12[slice21],\n",
        "       simple_regret_exact_13[slice21],\n",
        "       simple_regret_exact_14[slice21],\n",
        "       simple_regret_exact_15[slice21],\n",
        "       simple_regret_exact_16[slice21],\n",
        "       simple_regret_exact_17[slice21],\n",
        "       simple_regret_exact_18[slice21],\n",
        "       simple_regret_exact_19[slice21],\n",
        "       simple_regret_exact_20[slice21]]\n",
        "\n",
        "approx21_results = pd.DataFrame(approx21).sort_values(by=[0], ascending=False)\n",
        "exact21_results = pd.DataFrame(exact21).sort_values(by=[0], ascending=False)\n",
        "\n",
        "### Best simple regret minimization IQR - approx:\n",
        "lower_approx21 = np.asarray(approx21_results[4:5][0])[0]\n",
        "median_approx21 = np.asarray(approx21_results[9:10][0])[0]\n",
        "upper_approx21 = np.asarray(approx21_results[14:15][0])[0]\n",
        "\n",
        "lower_exact21 = np.asarray(exact21_results[4:5][0])[0]\n",
        "median_exact21 = np.asarray(exact21_results[9:10][0])[0]\n",
        "upper_exact21 = np.asarray(exact21_results[14:15][0])[0]"
      ]
    },
    {
      "cell_type": "code",
      "execution_count": 78,
      "metadata": {
        "id": "PrRDB1kfQxf3"
      },
      "outputs": [],
      "source": [
        "# Iteration2 :\n",
        "\n",
        "slice2 = 1\n",
        "\n",
        "approx2 = [simple_regret_approx_1[slice2],\n",
        "       simple_regret_approx_2[slice2],\n",
        "       simple_regret_approx_3[slice2],\n",
        "       simple_regret_approx_4[slice2],\n",
        "       simple_regret_approx_5[slice2],\n",
        "       simple_regret_approx_6[slice2],\n",
        "       simple_regret_approx_7[slice2],\n",
        "       simple_regret_approx_8[slice2],\n",
        "       simple_regret_approx_9[slice2],\n",
        "       simple_regret_approx_10[slice2],\n",
        "       simple_regret_approx_11[slice2],\n",
        "       simple_regret_approx_12[slice2],\n",
        "       simple_regret_approx_13[slice2],\n",
        "       simple_regret_approx_14[slice2],\n",
        "       simple_regret_approx_15[slice2],\n",
        "       simple_regret_approx_16[slice2],\n",
        "       simple_regret_approx_17[slice2],\n",
        "       simple_regret_approx_18[slice2],\n",
        "       simple_regret_approx_19[slice2],\n",
        "       simple_regret_approx_20[slice2]]\n",
        "\n",
        "exact2 = [simple_regret_exact_1[slice2],\n",
        "       simple_regret_exact_2[slice2],\n",
        "       simple_regret_exact_3[slice2],\n",
        "       simple_regret_exact_4[slice2],\n",
        "       simple_regret_exact_5[slice2],\n",
        "       simple_regret_exact_6[slice2],\n",
        "       simple_regret_exact_7[slice2],\n",
        "       simple_regret_exact_8[slice2],\n",
        "       simple_regret_exact_9[slice2],\n",
        "       simple_regret_exact_10[slice2],\n",
        "       simple_regret_exact_11[slice2],\n",
        "       simple_regret_exact_12[slice2],\n",
        "       simple_regret_exact_13[slice2],\n",
        "       simple_regret_exact_14[slice2],\n",
        "       simple_regret_exact_15[slice2],\n",
        "       simple_regret_exact_16[slice2],\n",
        "       simple_regret_exact_17[slice2],\n",
        "       simple_regret_exact_18[slice2],\n",
        "       simple_regret_exact_19[slice2],\n",
        "       simple_regret_exact_20[slice2]]\n",
        "\n",
        "approx2_results = pd.DataFrame(approx2).sort_values(by=[0], ascending=False)\n",
        "exact2_results = pd.DataFrame(exact2).sort_values(by=[0], ascending=False)\n",
        "\n",
        "### Best simple regret minimization IQR - approx:\n",
        "lower_approx2 = np.asarray(approx2_results[4:5][0])[0]\n",
        "median_approx2 = np.asarray(approx2_results[9:10][0])[0]\n",
        "upper_approx2 = np.asarray(approx2_results[14:15][0])[0]\n",
        "\n",
        "lower_exact2 = np.asarray(exact2_results[4:5][0])[0]\n",
        "median_exact2 = np.asarray(exact2_results[9:10][0])[0]\n",
        "upper_exact2 = np.asarray(exact2_results[14:15][0])[0]"
      ]
    },
    {
      "cell_type": "code",
      "execution_count": 79,
      "metadata": {
        "id": "B8ncJDYeQxf3"
      },
      "outputs": [],
      "source": [
        "# Iteration12 :\n",
        "\n",
        "slice12 = 11\n",
        "\n",
        "approx12 = [simple_regret_approx_1[slice12],\n",
        "       simple_regret_approx_2[slice12],\n",
        "       simple_regret_approx_3[slice12],\n",
        "       simple_regret_approx_4[slice12],\n",
        "       simple_regret_approx_5[slice12],\n",
        "       simple_regret_approx_6[slice12],\n",
        "       simple_regret_approx_7[slice12],\n",
        "       simple_regret_approx_8[slice12],\n",
        "       simple_regret_approx_9[slice12],\n",
        "       simple_regret_approx_10[slice12],\n",
        "       simple_regret_approx_11[slice12],\n",
        "       simple_regret_approx_12[slice12],\n",
        "       simple_regret_approx_13[slice12],\n",
        "       simple_regret_approx_14[slice12],\n",
        "       simple_regret_approx_15[slice12],\n",
        "       simple_regret_approx_16[slice12],\n",
        "       simple_regret_approx_17[slice12],\n",
        "       simple_regret_approx_18[slice12],\n",
        "       simple_regret_approx_19[slice12],\n",
        "       simple_regret_approx_20[slice12]]\n",
        "\n",
        "exact12 = [simple_regret_exact_1[slice12],\n",
        "       simple_regret_exact_2[slice12],\n",
        "       simple_regret_exact_3[slice12],\n",
        "       simple_regret_exact_4[slice12],\n",
        "       simple_regret_exact_5[slice12],\n",
        "       simple_regret_exact_6[slice12],\n",
        "       simple_regret_exact_7[slice12],\n",
        "       simple_regret_exact_8[slice12],\n",
        "       simple_regret_exact_9[slice12],\n",
        "       simple_regret_exact_10[slice12],\n",
        "       simple_regret_exact_11[slice12],\n",
        "       simple_regret_exact_12[slice12],\n",
        "       simple_regret_exact_13[slice12],\n",
        "       simple_regret_exact_14[slice12],\n",
        "       simple_regret_exact_15[slice12],\n",
        "       simple_regret_exact_16[slice12],\n",
        "       simple_regret_exact_17[slice12],\n",
        "       simple_regret_exact_18[slice12],\n",
        "       simple_regret_exact_19[slice12],\n",
        "       simple_regret_exact_20[slice12]]\n",
        "\n",
        "approx12_results = pd.DataFrame(approx12).sort_values(by=[0], ascending=False)\n",
        "exact12_results = pd.DataFrame(exact12).sort_values(by=[0], ascending=False)\n",
        "\n",
        "### Best simple regret minimization IQR - approx:\n",
        "lower_approx12 = np.asarray(approx12_results[4:5][0])[0]\n",
        "median_approx12 = np.asarray(approx12_results[9:10][0])[0]\n",
        "upper_approx12 = np.asarray(approx12_results[14:15][0])[0]\n",
        "\n",
        "lower_exact12 = np.asarray(exact12_results[4:5][0])[0]\n",
        "median_exact12 = np.asarray(exact12_results[9:10][0])[0]\n",
        "upper_exact12 = np.asarray(exact12_results[14:15][0])[0]"
      ]
    },
    {
      "cell_type": "code",
      "execution_count": 80,
      "metadata": {
        "id": "Jn4KpGvcQxf4"
      },
      "outputs": [],
      "source": [
        "# Iteration3 :\n",
        "\n",
        "slice3 = 2\n",
        "\n",
        "approx3 = [simple_regret_approx_1[slice3],\n",
        "       simple_regret_approx_2[slice3],\n",
        "       simple_regret_approx_3[slice3],\n",
        "       simple_regret_approx_4[slice3],\n",
        "       simple_regret_approx_5[slice3],\n",
        "       simple_regret_approx_6[slice3],\n",
        "       simple_regret_approx_7[slice3],\n",
        "       simple_regret_approx_8[slice3],\n",
        "       simple_regret_approx_9[slice3],\n",
        "       simple_regret_approx_10[slice3],\n",
        "       simple_regret_approx_11[slice3],\n",
        "       simple_regret_approx_12[slice3],\n",
        "       simple_regret_approx_13[slice3],\n",
        "       simple_regret_approx_14[slice3],\n",
        "       simple_regret_approx_15[slice3],\n",
        "       simple_regret_approx_16[slice3],\n",
        "       simple_regret_approx_17[slice3],\n",
        "       simple_regret_approx_18[slice3],\n",
        "       simple_regret_approx_19[slice3],\n",
        "       simple_regret_approx_20[slice3]]\n",
        "\n",
        "exact3 = [simple_regret_exact_1[slice3],\n",
        "       simple_regret_exact_2[slice3],\n",
        "       simple_regret_exact_3[slice3],\n",
        "       simple_regret_exact_4[slice3],\n",
        "       simple_regret_exact_5[slice3],\n",
        "       simple_regret_exact_6[slice3],\n",
        "       simple_regret_exact_7[slice3],\n",
        "       simple_regret_exact_8[slice3],\n",
        "       simple_regret_exact_9[slice3],\n",
        "       simple_regret_exact_10[slice3],\n",
        "       simple_regret_exact_11[slice3],\n",
        "       simple_regret_exact_12[slice3],\n",
        "       simple_regret_exact_13[slice3],\n",
        "       simple_regret_exact_14[slice3],\n",
        "       simple_regret_exact_15[slice3],\n",
        "       simple_regret_exact_16[slice3],\n",
        "       simple_regret_exact_17[slice3],\n",
        "       simple_regret_exact_18[slice3],\n",
        "       simple_regret_exact_19[slice3],\n",
        "       simple_regret_exact_20[slice3]]\n",
        "\n",
        "approx3_results = pd.DataFrame(approx3).sort_values(by=[0], ascending=False)\n",
        "exact3_results = pd.DataFrame(exact3).sort_values(by=[0], ascending=False)\n",
        "\n",
        "### Best simple regret minimization IQR - approx:\n",
        "lower_approx3 = np.asarray(approx3_results[4:5][0])[0]\n",
        "median_approx3 = np.asarray(approx3_results[9:10][0])[0]\n",
        "upper_approx3 = np.asarray(approx3_results[14:15][0])[0]\n",
        "\n",
        "lower_exact3 = np.asarray(exact3_results[4:5][0])[0]\n",
        "median_exact3 = np.asarray(exact3_results[9:10][0])[0]\n",
        "upper_exact3 = np.asarray(exact3_results[14:15][0])[0]"
      ]
    },
    {
      "cell_type": "code",
      "execution_count": 81,
      "metadata": {
        "id": "plf83wxrQxf4"
      },
      "outputs": [],
      "source": [
        "# Iteration13 :\n",
        "\n",
        "slice13 = 12\n",
        "\n",
        "approx13 = [simple_regret_approx_1[slice13],\n",
        "       simple_regret_approx_2[slice13],\n",
        "       simple_regret_approx_3[slice13],\n",
        "       simple_regret_approx_4[slice13],\n",
        "       simple_regret_approx_5[slice13],\n",
        "       simple_regret_approx_6[slice13],\n",
        "       simple_regret_approx_7[slice13],\n",
        "       simple_regret_approx_8[slice13],\n",
        "       simple_regret_approx_9[slice13],\n",
        "       simple_regret_approx_10[slice13],\n",
        "       simple_regret_approx_11[slice13],\n",
        "       simple_regret_approx_12[slice13],\n",
        "       simple_regret_approx_13[slice13],\n",
        "       simple_regret_approx_14[slice13],\n",
        "       simple_regret_approx_15[slice13],\n",
        "       simple_regret_approx_16[slice13],\n",
        "       simple_regret_approx_17[slice13],\n",
        "       simple_regret_approx_18[slice13],\n",
        "       simple_regret_approx_19[slice13],\n",
        "       simple_regret_approx_20[slice13]]\n",
        "\n",
        "exact13 = [simple_regret_exact_1[slice13],\n",
        "       simple_regret_exact_2[slice13],\n",
        "       simple_regret_exact_3[slice13],\n",
        "       simple_regret_exact_4[slice13],\n",
        "       simple_regret_exact_5[slice13],\n",
        "       simple_regret_exact_6[slice13],\n",
        "       simple_regret_exact_7[slice13],\n",
        "       simple_regret_exact_8[slice13],\n",
        "       simple_regret_exact_9[slice13],\n",
        "       simple_regret_exact_10[slice13],\n",
        "       simple_regret_exact_11[slice13],\n",
        "       simple_regret_exact_12[slice13],\n",
        "       simple_regret_exact_13[slice13],\n",
        "       simple_regret_exact_14[slice13],\n",
        "       simple_regret_exact_15[slice13],\n",
        "       simple_regret_exact_16[slice13],\n",
        "       simple_regret_exact_17[slice13],\n",
        "       simple_regret_exact_18[slice13],\n",
        "       simple_regret_exact_19[slice13],\n",
        "       simple_regret_exact_20[slice13]]\n",
        "\n",
        "approx13_results = pd.DataFrame(approx13).sort_values(by=[0], ascending=False)\n",
        "exact13_results = pd.DataFrame(exact13).sort_values(by=[0], ascending=False)\n",
        "\n",
        "### Best simple regret minimization IQR - approx:\n",
        "lower_approx13 = np.asarray(approx13_results[4:5][0])[0]\n",
        "median_approx13 = np.asarray(approx13_results[9:10][0])[0]\n",
        "upper_approx13 = np.asarray(approx13_results[14:15][0])[0]\n",
        "\n",
        "lower_exact13 = np.asarray(exact13_results[4:5][0])[0]\n",
        "median_exact13 = np.asarray(exact13_results[9:10][0])[0]\n",
        "upper_exact13 = np.asarray(exact13_results[14:15][0])[0]"
      ]
    },
    {
      "cell_type": "code",
      "execution_count": 82,
      "metadata": {
        "id": "9A7mlVvJQxf5"
      },
      "outputs": [],
      "source": [
        "# Iteration4 :\n",
        "\n",
        "slice4 = 3\n",
        "\n",
        "approx4 = [simple_regret_approx_1[slice4],\n",
        "       simple_regret_approx_2[slice4],\n",
        "       simple_regret_approx_3[slice4],\n",
        "       simple_regret_approx_4[slice4],\n",
        "       simple_regret_approx_5[slice4],\n",
        "       simple_regret_approx_6[slice4],\n",
        "       simple_regret_approx_7[slice4],\n",
        "       simple_regret_approx_8[slice4],\n",
        "       simple_regret_approx_9[slice4],\n",
        "       simple_regret_approx_10[slice4],\n",
        "       simple_regret_approx_11[slice4],\n",
        "       simple_regret_approx_12[slice4],\n",
        "       simple_regret_approx_13[slice4],\n",
        "       simple_regret_approx_14[slice4],\n",
        "       simple_regret_approx_15[slice4],\n",
        "       simple_regret_approx_16[slice4],\n",
        "       simple_regret_approx_17[slice4],\n",
        "       simple_regret_approx_18[slice4],\n",
        "       simple_regret_approx_19[slice4],\n",
        "       simple_regret_approx_20[slice4]]\n",
        "\n",
        "exact4 = [simple_regret_exact_1[slice4],\n",
        "       simple_regret_exact_2[slice4],\n",
        "       simple_regret_exact_3[slice4],\n",
        "       simple_regret_exact_4[slice4],\n",
        "       simple_regret_exact_5[slice4],\n",
        "       simple_regret_exact_6[slice4],\n",
        "       simple_regret_exact_7[slice4],\n",
        "       simple_regret_exact_8[slice4],\n",
        "       simple_regret_exact_9[slice4],\n",
        "       simple_regret_exact_10[slice4],\n",
        "       simple_regret_exact_11[slice4],\n",
        "       simple_regret_exact_12[slice4],\n",
        "       simple_regret_exact_13[slice4],\n",
        "       simple_regret_exact_14[slice4],\n",
        "       simple_regret_exact_15[slice4],\n",
        "       simple_regret_exact_16[slice4],\n",
        "       simple_regret_exact_17[slice4],\n",
        "       simple_regret_exact_18[slice4],\n",
        "       simple_regret_exact_19[slice4],\n",
        "       simple_regret_exact_20[slice4]]\n",
        "\n",
        "approx4_results = pd.DataFrame(approx4).sort_values(by=[0], ascending=False)\n",
        "exact4_results = pd.DataFrame(exact4).sort_values(by=[0], ascending=False)\n",
        "\n",
        "### Best simple regret minimization IQR - approx:\n",
        "lower_approx4 = np.asarray(approx4_results[4:5][0])[0]\n",
        "median_approx4 = np.asarray(approx4_results[9:10][0])[0]\n",
        "upper_approx4 = np.asarray(approx4_results[14:15][0])[0]\n",
        "\n",
        "lower_exact4 = np.asarray(exact4_results[4:5][0])[0]\n",
        "median_exact4 = np.asarray(exact4_results[9:10][0])[0]\n",
        "upper_exact4 = np.asarray(exact4_results[14:15][0])[0]"
      ]
    },
    {
      "cell_type": "code",
      "execution_count": 83,
      "metadata": {
        "id": "ijq-rioYQxf5"
      },
      "outputs": [],
      "source": [
        "# Iteration14 :\n",
        "\n",
        "slice14 = 13\n",
        "\n",
        "approx14 = [simple_regret_approx_1[slice14],\n",
        "       simple_regret_approx_2[slice14],\n",
        "       simple_regret_approx_3[slice14],\n",
        "       simple_regret_approx_4[slice14],\n",
        "       simple_regret_approx_5[slice14],\n",
        "       simple_regret_approx_6[slice14],\n",
        "       simple_regret_approx_7[slice14],\n",
        "       simple_regret_approx_8[slice14],\n",
        "       simple_regret_approx_9[slice14],\n",
        "       simple_regret_approx_10[slice14],\n",
        "       simple_regret_approx_11[slice14],\n",
        "       simple_regret_approx_12[slice14],\n",
        "       simple_regret_approx_13[slice14],\n",
        "       simple_regret_approx_14[slice14],\n",
        "       simple_regret_approx_15[slice14],\n",
        "       simple_regret_approx_16[slice14],\n",
        "       simple_regret_approx_17[slice14],\n",
        "       simple_regret_approx_18[slice14],\n",
        "       simple_regret_approx_19[slice14],\n",
        "       simple_regret_approx_20[slice14]]\n",
        "\n",
        "exact14 = [simple_regret_exact_1[slice14],\n",
        "       simple_regret_exact_2[slice14],\n",
        "       simple_regret_exact_3[slice14],\n",
        "       simple_regret_exact_4[slice14],\n",
        "       simple_regret_exact_5[slice14],\n",
        "       simple_regret_exact_6[slice14],\n",
        "       simple_regret_exact_7[slice14],\n",
        "       simple_regret_exact_8[slice14],\n",
        "       simple_regret_exact_9[slice14],\n",
        "       simple_regret_exact_10[slice14],\n",
        "       simple_regret_exact_11[slice14],\n",
        "       simple_regret_exact_12[slice14],\n",
        "       simple_regret_exact_13[slice14],\n",
        "       simple_regret_exact_14[slice14],\n",
        "       simple_regret_exact_15[slice14],\n",
        "       simple_regret_exact_16[slice14],\n",
        "       simple_regret_exact_17[slice14],\n",
        "       simple_regret_exact_18[slice14],\n",
        "       simple_regret_exact_19[slice14],\n",
        "       simple_regret_exact_20[slice14]]\n",
        "\n",
        "approx14_results = pd.DataFrame(approx14).sort_values(by=[0], ascending=False)\n",
        "exact14_results = pd.DataFrame(exact14).sort_values(by=[0], ascending=False)\n",
        "\n",
        "### Best simple regret minimization IQR - approx:\n",
        "lower_approx14 = np.asarray(approx14_results[4:5][0])[0]\n",
        "median_approx14 = np.asarray(approx14_results[9:10][0])[0]\n",
        "upper_approx14 = np.asarray(approx14_results[14:15][0])[0]\n",
        "\n",
        "lower_exact14 = np.asarray(exact14_results[4:5][0])[0]\n",
        "median_exact14 = np.asarray(exact14_results[9:10][0])[0]\n",
        "upper_exact14 = np.asarray(exact14_results[14:15][0])[0]"
      ]
    },
    {
      "cell_type": "code",
      "execution_count": 84,
      "metadata": {
        "id": "XINlZjoTd-ZK"
      },
      "outputs": [],
      "source": [
        "# Iteration5 :\n",
        "\n",
        "slice5 = 4\n",
        "\n",
        "approx5 = [simple_regret_approx_1[slice5],\n",
        "       simple_regret_approx_2[slice5],\n",
        "       simple_regret_approx_3[slice5],\n",
        "       simple_regret_approx_4[slice5],\n",
        "       simple_regret_approx_5[slice5],\n",
        "       simple_regret_approx_6[slice5],\n",
        "       simple_regret_approx_7[slice5],\n",
        "       simple_regret_approx_8[slice5],\n",
        "       simple_regret_approx_9[slice5],\n",
        "       simple_regret_approx_10[slice5],\n",
        "       simple_regret_approx_11[slice5],\n",
        "       simple_regret_approx_12[slice5],\n",
        "       simple_regret_approx_13[slice5],\n",
        "       simple_regret_approx_14[slice5],\n",
        "       simple_regret_approx_15[slice5],\n",
        "       simple_regret_approx_16[slice5],\n",
        "       simple_regret_approx_17[slice5],\n",
        "       simple_regret_approx_18[slice5],\n",
        "       simple_regret_approx_19[slice5],\n",
        "       simple_regret_approx_20[slice5]]\n",
        "\n",
        "exact5 = [simple_regret_exact_1[slice5],\n",
        "       simple_regret_exact_2[slice5],\n",
        "       simple_regret_exact_3[slice5],\n",
        "       simple_regret_exact_4[slice5],\n",
        "       simple_regret_exact_5[slice5],\n",
        "       simple_regret_exact_6[slice5],\n",
        "       simple_regret_exact_7[slice5],\n",
        "       simple_regret_exact_8[slice5],\n",
        "       simple_regret_exact_9[slice5],\n",
        "       simple_regret_exact_10[slice5],\n",
        "       simple_regret_exact_11[slice5],\n",
        "       simple_regret_exact_12[slice5],\n",
        "       simple_regret_exact_13[slice5],\n",
        "       simple_regret_exact_14[slice5],\n",
        "       simple_regret_exact_15[slice5],\n",
        "       simple_regret_exact_16[slice5],\n",
        "       simple_regret_exact_17[slice5],\n",
        "       simple_regret_exact_18[slice5],\n",
        "       simple_regret_exact_19[slice5],\n",
        "       simple_regret_exact_20[slice5]]\n",
        "\n",
        "approx5_results = pd.DataFrame(approx5).sort_values(by=[0], ascending=False)\n",
        "exact5_results = pd.DataFrame(exact5).sort_values(by=[0], ascending=False)\n",
        "\n",
        "### Best simple regret minimization IQR - approx:\n",
        "lower_approx5 = np.asarray(approx5_results[4:5][0])[0]\n",
        "median_approx5 = np.asarray(approx5_results[9:10][0])[0]\n",
        "upper_approx5 = np.asarray(approx5_results[14:15][0])[0]\n",
        "\n",
        "lower_exact5 = np.asarray(exact5_results[4:5][0])[0]\n",
        "median_exact5 = np.asarray(exact5_results[9:10][0])[0]\n",
        "upper_exact5 = np.asarray(exact5_results[14:15][0])[0]"
      ]
    },
    {
      "cell_type": "code",
      "execution_count": 85,
      "metadata": {
        "id": "4aZ7C8sOQxf6"
      },
      "outputs": [],
      "source": [
        "# Iteration15 :\n",
        "\n",
        "slice15 = 14\n",
        "\n",
        "approx15 = [simple_regret_approx_1[slice15],\n",
        "       simple_regret_approx_2[slice15],\n",
        "       simple_regret_approx_3[slice15],\n",
        "       simple_regret_approx_4[slice15],\n",
        "       simple_regret_approx_5[slice15],\n",
        "       simple_regret_approx_6[slice15],\n",
        "       simple_regret_approx_7[slice15],\n",
        "       simple_regret_approx_8[slice15],\n",
        "       simple_regret_approx_9[slice15],\n",
        "       simple_regret_approx_10[slice15],\n",
        "       simple_regret_approx_11[slice15],\n",
        "       simple_regret_approx_12[slice15],\n",
        "       simple_regret_approx_13[slice15],\n",
        "       simple_regret_approx_14[slice15],\n",
        "       simple_regret_approx_15[slice15],\n",
        "       simple_regret_approx_16[slice15],\n",
        "       simple_regret_approx_17[slice15],\n",
        "       simple_regret_approx_18[slice15],\n",
        "       simple_regret_approx_19[slice15],\n",
        "       simple_regret_approx_20[slice15]]\n",
        "\n",
        "exact15 = [simple_regret_exact_1[slice15],\n",
        "       simple_regret_exact_2[slice15],\n",
        "       simple_regret_exact_3[slice15],\n",
        "       simple_regret_exact_4[slice15],\n",
        "       simple_regret_exact_5[slice15],\n",
        "       simple_regret_exact_6[slice15],\n",
        "       simple_regret_exact_7[slice15],\n",
        "       simple_regret_exact_8[slice15],\n",
        "       simple_regret_exact_9[slice15],\n",
        "       simple_regret_exact_10[slice15],\n",
        "       simple_regret_exact_11[slice15],\n",
        "       simple_regret_exact_12[slice15],\n",
        "       simple_regret_exact_13[slice15],\n",
        "       simple_regret_exact_14[slice15],\n",
        "       simple_regret_exact_15[slice15],\n",
        "       simple_regret_exact_16[slice15],\n",
        "       simple_regret_exact_17[slice15],\n",
        "       simple_regret_exact_18[slice15],\n",
        "       simple_regret_exact_19[slice15],\n",
        "       simple_regret_exact_20[slice15]]\n",
        "\n",
        "approx15_results = pd.DataFrame(approx15).sort_values(by=[0], ascending=False)\n",
        "exact15_results = pd.DataFrame(exact15).sort_values(by=[0], ascending=False)\n",
        "\n",
        "### Best simple regret minimization IQR - approx:\n",
        "lower_approx15 = np.asarray(approx15_results[4:5][0])[0]\n",
        "median_approx15 = np.asarray(approx15_results[9:10][0])[0]\n",
        "upper_approx15 = np.asarray(approx15_results[14:15][0])[0]\n",
        "\n",
        "lower_exact15 = np.asarray(exact15_results[4:5][0])[0]\n",
        "median_exact15 = np.asarray(exact15_results[9:10][0])[0]\n",
        "upper_exact15 = np.asarray(exact15_results[14:15][0])[0]"
      ]
    },
    {
      "cell_type": "code",
      "execution_count": 86,
      "metadata": {
        "id": "KJINKhv1Qxf6"
      },
      "outputs": [],
      "source": [
        "# Iteration6 :\n",
        "\n",
        "slice6 = 5\n",
        "\n",
        "approx6 = [simple_regret_approx_1[slice6],\n",
        "       simple_regret_approx_2[slice6],\n",
        "       simple_regret_approx_3[slice6],\n",
        "       simple_regret_approx_4[slice6],\n",
        "       simple_regret_approx_5[slice6],\n",
        "       simple_regret_approx_6[slice6],\n",
        "       simple_regret_approx_7[slice6],\n",
        "       simple_regret_approx_8[slice6],\n",
        "       simple_regret_approx_9[slice6],\n",
        "       simple_regret_approx_10[slice6],\n",
        "       simple_regret_approx_11[slice6],\n",
        "       simple_regret_approx_12[slice6],\n",
        "       simple_regret_approx_13[slice6],\n",
        "       simple_regret_approx_14[slice6],\n",
        "       simple_regret_approx_15[slice6],\n",
        "       simple_regret_approx_16[slice6],\n",
        "       simple_regret_approx_17[slice6],\n",
        "       simple_regret_approx_18[slice6],\n",
        "       simple_regret_approx_19[slice6],\n",
        "       simple_regret_approx_20[slice6]]\n",
        "\n",
        "exact6 = [simple_regret_exact_1[slice6],\n",
        "       simple_regret_exact_2[slice6],\n",
        "       simple_regret_exact_3[slice6],\n",
        "       simple_regret_exact_4[slice6],\n",
        "       simple_regret_exact_5[slice6],\n",
        "       simple_regret_exact_6[slice6],\n",
        "       simple_regret_exact_7[slice6],\n",
        "       simple_regret_exact_8[slice6],\n",
        "       simple_regret_exact_9[slice6],\n",
        "       simple_regret_exact_10[slice6],\n",
        "       simple_regret_exact_11[slice6],\n",
        "       simple_regret_exact_12[slice6],\n",
        "       simple_regret_exact_13[slice6],\n",
        "       simple_regret_exact_14[slice6],\n",
        "       simple_regret_exact_15[slice6],\n",
        "       simple_regret_exact_16[slice6],\n",
        "       simple_regret_exact_17[slice6],\n",
        "       simple_regret_exact_18[slice6],\n",
        "       simple_regret_exact_19[slice6],\n",
        "       simple_regret_exact_20[slice6]]\n",
        "\n",
        "approx6_results = pd.DataFrame(approx6).sort_values(by=[0], ascending=False)\n",
        "exact6_results = pd.DataFrame(exact6).sort_values(by=[0], ascending=False)\n",
        "\n",
        "### Best simple regret minimization IQR - approx:\n",
        "lower_approx6 = np.asarray(approx6_results[4:5][0])[0]\n",
        "median_approx6 = np.asarray(approx6_results[9:10][0])[0]\n",
        "upper_approx6 = np.asarray(approx6_results[14:15][0])[0]\n",
        "\n",
        "lower_exact6 = np.asarray(exact6_results[4:5][0])[0]\n",
        "median_exact6 = np.asarray(exact6_results[9:10][0])[0]\n",
        "upper_exact6 = np.asarray(exact6_results[14:15][0])[0]"
      ]
    },
    {
      "cell_type": "code",
      "execution_count": 87,
      "metadata": {
        "id": "nwC5N1FsQxf7"
      },
      "outputs": [],
      "source": [
        "# Iteration16 :\n",
        "\n",
        "slice16 = 15\n",
        "\n",
        "approx16 = [simple_regret_approx_1[slice16],\n",
        "       simple_regret_approx_2[slice16],\n",
        "       simple_regret_approx_3[slice16],\n",
        "       simple_regret_approx_4[slice16],\n",
        "       simple_regret_approx_5[slice16],\n",
        "       simple_regret_approx_6[slice16],\n",
        "       simple_regret_approx_7[slice16],\n",
        "       simple_regret_approx_8[slice16],\n",
        "       simple_regret_approx_9[slice16],\n",
        "       simple_regret_approx_10[slice16],\n",
        "       simple_regret_approx_11[slice16],\n",
        "       simple_regret_approx_12[slice16],\n",
        "       simple_regret_approx_13[slice16],\n",
        "       simple_regret_approx_14[slice16],\n",
        "       simple_regret_approx_15[slice16],\n",
        "       simple_regret_approx_16[slice16],\n",
        "       simple_regret_approx_17[slice16],\n",
        "       simple_regret_approx_18[slice16],\n",
        "       simple_regret_approx_19[slice16],\n",
        "       simple_regret_approx_20[slice16]]\n",
        "\n",
        "exact16 = [simple_regret_exact_1[slice16],\n",
        "       simple_regret_exact_2[slice16],\n",
        "       simple_regret_exact_3[slice16],\n",
        "       simple_regret_exact_4[slice16],\n",
        "       simple_regret_exact_5[slice16],\n",
        "       simple_regret_exact_6[slice16],\n",
        "       simple_regret_exact_7[slice16],\n",
        "       simple_regret_exact_8[slice16],\n",
        "       simple_regret_exact_9[slice16],\n",
        "       simple_regret_exact_10[slice16],\n",
        "       simple_regret_exact_11[slice16],\n",
        "       simple_regret_exact_12[slice16],\n",
        "       simple_regret_exact_13[slice16],\n",
        "       simple_regret_exact_14[slice16],\n",
        "       simple_regret_exact_15[slice16],\n",
        "       simple_regret_exact_16[slice16],\n",
        "       simple_regret_exact_17[slice16],\n",
        "       simple_regret_exact_18[slice16],\n",
        "       simple_regret_exact_19[slice16],\n",
        "       simple_regret_exact_20[slice16]]\n",
        "\n",
        "approx16_results = pd.DataFrame(approx16).sort_values(by=[0], ascending=False)\n",
        "exact16_results = pd.DataFrame(exact16).sort_values(by=[0], ascending=False)\n",
        "\n",
        "### Best simple regret minimization IQR - approx:\n",
        "lower_approx16 = np.asarray(approx16_results[4:5][0])[0]\n",
        "median_approx16 = np.asarray(approx16_results[9:10][0])[0]\n",
        "upper_approx16 = np.asarray(approx16_results[14:15][0])[0]\n",
        "\n",
        "lower_exact16 = np.asarray(exact16_results[4:5][0])[0]\n",
        "median_exact16 = np.asarray(exact16_results[9:10][0])[0]\n",
        "upper_exact16 = np.asarray(exact16_results[14:15][0])[0]"
      ]
    },
    {
      "cell_type": "code",
      "execution_count": 88,
      "metadata": {
        "id": "TrPV0AfnQxf7"
      },
      "outputs": [],
      "source": [
        "# Iteration7 :\n",
        "\n",
        "slice7 = 6\n",
        "\n",
        "approx7 = [simple_regret_approx_1[slice7],\n",
        "       simple_regret_approx_2[slice7],\n",
        "       simple_regret_approx_3[slice7],\n",
        "       simple_regret_approx_4[slice7],\n",
        "       simple_regret_approx_5[slice7],\n",
        "       simple_regret_approx_6[slice7],\n",
        "       simple_regret_approx_7[slice7],\n",
        "       simple_regret_approx_8[slice7],\n",
        "       simple_regret_approx_9[slice7],\n",
        "       simple_regret_approx_10[slice7],\n",
        "       simple_regret_approx_11[slice7],\n",
        "       simple_regret_approx_12[slice7],\n",
        "       simple_regret_approx_13[slice7],\n",
        "       simple_regret_approx_14[slice7],\n",
        "       simple_regret_approx_15[slice7],\n",
        "       simple_regret_approx_16[slice7],\n",
        "       simple_regret_approx_17[slice7],\n",
        "       simple_regret_approx_18[slice7],\n",
        "       simple_regret_approx_19[slice7],\n",
        "       simple_regret_approx_20[slice7]]\n",
        "\n",
        "exact7 = [simple_regret_exact_1[slice7],\n",
        "       simple_regret_exact_2[slice7],\n",
        "       simple_regret_exact_3[slice7],\n",
        "       simple_regret_exact_4[slice7],\n",
        "       simple_regret_exact_5[slice7],\n",
        "       simple_regret_exact_6[slice7],\n",
        "       simple_regret_exact_7[slice7],\n",
        "       simple_regret_exact_8[slice7],\n",
        "       simple_regret_exact_9[slice7],\n",
        "       simple_regret_exact_10[slice7],\n",
        "       simple_regret_exact_11[slice7],\n",
        "       simple_regret_exact_12[slice7],\n",
        "       simple_regret_exact_13[slice7],\n",
        "       simple_regret_exact_14[slice7],\n",
        "       simple_regret_exact_15[slice7],\n",
        "       simple_regret_exact_16[slice7],\n",
        "       simple_regret_exact_17[slice7],\n",
        "       simple_regret_exact_18[slice7],\n",
        "       simple_regret_exact_19[slice7],\n",
        "       simple_regret_exact_20[slice7]]\n",
        "\n",
        "approx7_results = pd.DataFrame(approx7).sort_values(by=[0], ascending=False)\n",
        "exact7_results = pd.DataFrame(exact7).sort_values(by=[0], ascending=False)\n",
        "\n",
        "### Best simple regret minimization IQR - approx:\n",
        "lower_approx7 = np.asarray(approx7_results[4:5][0])[0]\n",
        "median_approx7 = np.asarray(approx7_results[9:10][0])[0]\n",
        "upper_approx7 = np.asarray(approx7_results[14:15][0])[0]\n",
        "\n",
        "lower_exact7 = np.asarray(exact7_results[4:5][0])[0]\n",
        "median_exact7 = np.asarray(exact7_results[9:10][0])[0]\n",
        "upper_exact7 = np.asarray(exact7_results[14:15][0])[0]"
      ]
    },
    {
      "cell_type": "code",
      "execution_count": 89,
      "metadata": {
        "id": "Ub_-wpK4Qxf8"
      },
      "outputs": [],
      "source": [
        "# Iteration17 :\n",
        "\n",
        "slice17 = 16\n",
        "\n",
        "approx17 = [simple_regret_approx_1[slice17],\n",
        "       simple_regret_approx_2[slice17],\n",
        "       simple_regret_approx_3[slice17],\n",
        "       simple_regret_approx_4[slice17],\n",
        "       simple_regret_approx_5[slice17],\n",
        "       simple_regret_approx_6[slice17],\n",
        "       simple_regret_approx_7[slice17],\n",
        "       simple_regret_approx_8[slice17],\n",
        "       simple_regret_approx_9[slice17],\n",
        "       simple_regret_approx_10[slice17],\n",
        "       simple_regret_approx_11[slice17],\n",
        "       simple_regret_approx_12[slice17],\n",
        "       simple_regret_approx_13[slice17],\n",
        "       simple_regret_approx_14[slice17],\n",
        "       simple_regret_approx_15[slice17],\n",
        "       simple_regret_approx_16[slice17],\n",
        "       simple_regret_approx_17[slice17],\n",
        "       simple_regret_approx_18[slice17],\n",
        "       simple_regret_approx_19[slice17],\n",
        "       simple_regret_approx_20[slice17]]\n",
        "\n",
        "exact17 = [simple_regret_exact_1[slice17],\n",
        "       simple_regret_exact_2[slice17],\n",
        "       simple_regret_exact_3[slice17],\n",
        "       simple_regret_exact_4[slice17],\n",
        "       simple_regret_exact_5[slice17],\n",
        "       simple_regret_exact_6[slice17],\n",
        "       simple_regret_exact_7[slice17],\n",
        "       simple_regret_exact_8[slice17],\n",
        "       simple_regret_exact_9[slice17],\n",
        "       simple_regret_exact_10[slice17],\n",
        "       simple_regret_exact_11[slice17],\n",
        "       simple_regret_exact_12[slice17],\n",
        "       simple_regret_exact_13[slice17],\n",
        "       simple_regret_exact_14[slice17],\n",
        "       simple_regret_exact_15[slice17],\n",
        "       simple_regret_exact_16[slice17],\n",
        "       simple_regret_exact_17[slice17],\n",
        "       simple_regret_exact_18[slice17],\n",
        "       simple_regret_exact_19[slice17],\n",
        "       simple_regret_exact_20[slice17]]\n",
        "\n",
        "approx17_results = pd.DataFrame(approx17).sort_values(by=[0], ascending=False)\n",
        "exact17_results = pd.DataFrame(exact17).sort_values(by=[0], ascending=False)\n",
        "\n",
        "### Best simple regret minimization IQR - approx:\n",
        "lower_approx17 = np.asarray(approx17_results[4:5][0])[0]\n",
        "median_approx17 = np.asarray(approx17_results[9:10][0])[0]\n",
        "upper_approx17 = np.asarray(approx17_results[14:15][0])[0]\n",
        "\n",
        "lower_exact17 = np.asarray(exact17_results[4:5][0])[0]\n",
        "median_exact17 = np.asarray(exact17_results[9:10][0])[0]\n",
        "upper_exact17 = np.asarray(exact17_results[14:15][0])[0]"
      ]
    },
    {
      "cell_type": "code",
      "execution_count": 90,
      "metadata": {
        "id": "-6VLo37PQxf8"
      },
      "outputs": [],
      "source": [
        "# Iteration8 :\n",
        "\n",
        "slice8 = 7\n",
        "\n",
        "approx8 = [simple_regret_approx_1[slice8],\n",
        "       simple_regret_approx_2[slice8],\n",
        "       simple_regret_approx_3[slice8],\n",
        "       simple_regret_approx_4[slice8],\n",
        "       simple_regret_approx_5[slice8],\n",
        "       simple_regret_approx_6[slice8],\n",
        "       simple_regret_approx_7[slice8],\n",
        "       simple_regret_approx_8[slice8],\n",
        "       simple_regret_approx_9[slice8],\n",
        "       simple_regret_approx_10[slice8],\n",
        "       simple_regret_approx_11[slice8],\n",
        "       simple_regret_approx_12[slice8],\n",
        "       simple_regret_approx_13[slice8],\n",
        "       simple_regret_approx_14[slice8],\n",
        "       simple_regret_approx_15[slice8],\n",
        "       simple_regret_approx_16[slice8],\n",
        "       simple_regret_approx_17[slice8],\n",
        "       simple_regret_approx_18[slice8],\n",
        "       simple_regret_approx_19[slice8],\n",
        "       simple_regret_approx_20[slice8]]\n",
        "\n",
        "exact8 = [simple_regret_exact_1[slice8],\n",
        "       simple_regret_exact_2[slice8],\n",
        "       simple_regret_exact_3[slice8],\n",
        "       simple_regret_exact_4[slice8],\n",
        "       simple_regret_exact_5[slice8],\n",
        "       simple_regret_exact_6[slice8],\n",
        "       simple_regret_exact_7[slice8],\n",
        "       simple_regret_exact_8[slice8],\n",
        "       simple_regret_exact_9[slice8],\n",
        "       simple_regret_exact_10[slice8],\n",
        "       simple_regret_exact_11[slice8],\n",
        "       simple_regret_exact_12[slice8],\n",
        "       simple_regret_exact_13[slice8],\n",
        "       simple_regret_exact_14[slice8],\n",
        "       simple_regret_exact_15[slice8],\n",
        "       simple_regret_exact_16[slice8],\n",
        "       simple_regret_exact_17[slice8],\n",
        "       simple_regret_exact_18[slice8],\n",
        "       simple_regret_exact_19[slice8],\n",
        "       simple_regret_exact_20[slice8]]\n",
        "\n",
        "approx8_results = pd.DataFrame(approx8).sort_values(by=[0], ascending=False)\n",
        "exact8_results = pd.DataFrame(exact8).sort_values(by=[0], ascending=False)\n",
        "\n",
        "### Best simple regret minimization IQR - approx:\n",
        "lower_approx8 = np.asarray(approx8_results[4:5][0])[0]\n",
        "median_approx8 = np.asarray(approx8_results[9:10][0])[0]\n",
        "upper_approx8 = np.asarray(approx8_results[14:15][0])[0]\n",
        "\n",
        "lower_exact8 = np.asarray(exact8_results[4:5][0])[0]\n",
        "median_exact8 = np.asarray(exact8_results[9:10][0])[0]\n",
        "upper_exact8 = np.asarray(exact8_results[14:15][0])[0]"
      ]
    },
    {
      "cell_type": "code",
      "execution_count": 91,
      "metadata": {
        "id": "2Dp-9CC2Qxf9"
      },
      "outputs": [],
      "source": [
        "# Iteration18 :\n",
        "\n",
        "slice18 = 17\n",
        "\n",
        "approx18 = [simple_regret_approx_1[slice18],\n",
        "       simple_regret_approx_2[slice18],\n",
        "       simple_regret_approx_3[slice18],\n",
        "       simple_regret_approx_4[slice18],\n",
        "       simple_regret_approx_5[slice18],\n",
        "       simple_regret_approx_6[slice18],\n",
        "       simple_regret_approx_7[slice18],\n",
        "       simple_regret_approx_8[slice18],\n",
        "       simple_regret_approx_9[slice18],\n",
        "       simple_regret_approx_10[slice18],\n",
        "       simple_regret_approx_11[slice18],\n",
        "       simple_regret_approx_12[slice18],\n",
        "       simple_regret_approx_13[slice18],\n",
        "       simple_regret_approx_14[slice18],\n",
        "       simple_regret_approx_15[slice18],\n",
        "       simple_regret_approx_16[slice18],\n",
        "       simple_regret_approx_17[slice18],\n",
        "       simple_regret_approx_18[slice18],\n",
        "       simple_regret_approx_19[slice18],\n",
        "       simple_regret_approx_20[slice18]]\n",
        "\n",
        "exact18 = [simple_regret_exact_1[slice18],\n",
        "       simple_regret_exact_2[slice18],\n",
        "       simple_regret_exact_3[slice18],\n",
        "       simple_regret_exact_4[slice18],\n",
        "       simple_regret_exact_5[slice18],\n",
        "       simple_regret_exact_6[slice18],\n",
        "       simple_regret_exact_7[slice18],\n",
        "       simple_regret_exact_8[slice18],\n",
        "       simple_regret_exact_9[slice18],\n",
        "       simple_regret_exact_10[slice18],\n",
        "       simple_regret_exact_11[slice18],\n",
        "       simple_regret_exact_12[slice18],\n",
        "       simple_regret_exact_13[slice18],\n",
        "       simple_regret_exact_14[slice18],\n",
        "       simple_regret_exact_15[slice18],\n",
        "       simple_regret_exact_16[slice18],\n",
        "       simple_regret_exact_17[slice18],\n",
        "       simple_regret_exact_18[slice18],\n",
        "       simple_regret_exact_19[slice18],\n",
        "       simple_regret_exact_20[slice18]]\n",
        "\n",
        "approx18_results = pd.DataFrame(approx18).sort_values(by=[0], ascending=False)\n",
        "exact18_results = pd.DataFrame(exact18).sort_values(by=[0], ascending=False)\n",
        "\n",
        "### Best simple regret minimization IQR - approx:\n",
        "lower_approx18 = np.asarray(approx18_results[4:5][0])[0]\n",
        "median_approx18 = np.asarray(approx18_results[9:10][0])[0]\n",
        "upper_approx18 = np.asarray(approx18_results[14:15][0])[0]\n",
        "\n",
        "lower_exact18 = np.asarray(exact18_results[4:5][0])[0]\n",
        "median_exact18 = np.asarray(exact18_results[9:10][0])[0]\n",
        "upper_exact18 = np.asarray(exact18_results[14:15][0])[0]"
      ]
    },
    {
      "cell_type": "code",
      "execution_count": 92,
      "metadata": {
        "id": "SqiaOpB7Qxf9"
      },
      "outputs": [],
      "source": [
        "# Iteration9 :\n",
        "\n",
        "slice9 = 8\n",
        "\n",
        "approx9 = [simple_regret_approx_1[slice9],\n",
        "       simple_regret_approx_2[slice9],\n",
        "       simple_regret_approx_3[slice9],\n",
        "       simple_regret_approx_4[slice9],\n",
        "       simple_regret_approx_5[slice9],\n",
        "       simple_regret_approx_6[slice9],\n",
        "       simple_regret_approx_7[slice9],\n",
        "       simple_regret_approx_8[slice9],\n",
        "       simple_regret_approx_9[slice9],\n",
        "       simple_regret_approx_10[slice9],\n",
        "       simple_regret_approx_11[slice9],\n",
        "       simple_regret_approx_12[slice9],\n",
        "       simple_regret_approx_13[slice9],\n",
        "       simple_regret_approx_14[slice9],\n",
        "       simple_regret_approx_15[slice9],\n",
        "       simple_regret_approx_16[slice9],\n",
        "       simple_regret_approx_17[slice9],\n",
        "       simple_regret_approx_18[slice9],\n",
        "       simple_regret_approx_19[slice9],\n",
        "       simple_regret_approx_20[slice9]]\n",
        "\n",
        "exact9 = [simple_regret_exact_1[slice9],\n",
        "       simple_regret_exact_2[slice9],\n",
        "       simple_regret_exact_3[slice9],\n",
        "       simple_regret_exact_4[slice9],\n",
        "       simple_regret_exact_5[slice9],\n",
        "       simple_regret_exact_6[slice9],\n",
        "       simple_regret_exact_7[slice9],\n",
        "       simple_regret_exact_8[slice9],\n",
        "       simple_regret_exact_9[slice9],\n",
        "       simple_regret_exact_10[slice9],\n",
        "       simple_regret_exact_11[slice9],\n",
        "       simple_regret_exact_12[slice9],\n",
        "       simple_regret_exact_13[slice9],\n",
        "       simple_regret_exact_14[slice9],\n",
        "       simple_regret_exact_15[slice9],\n",
        "       simple_regret_exact_16[slice9],\n",
        "       simple_regret_exact_17[slice9],\n",
        "       simple_regret_exact_18[slice9],\n",
        "       simple_regret_exact_19[slice9],\n",
        "       simple_regret_exact_20[slice9]]\n",
        "\n",
        "approx9_results = pd.DataFrame(approx9).sort_values(by=[0], ascending=False)\n",
        "exact9_results = pd.DataFrame(exact9).sort_values(by=[0], ascending=False)\n",
        "\n",
        "### Best simple regret minimization IQR - approx:\n",
        "lower_approx9 = np.asarray(approx9_results[4:5][0])[0]\n",
        "median_approx9 = np.asarray(approx9_results[9:10][0])[0]\n",
        "upper_approx9 = np.asarray(approx9_results[14:15][0])[0]\n",
        "\n",
        "lower_exact9 = np.asarray(exact9_results[4:5][0])[0]\n",
        "median_exact9 = np.asarray(exact9_results[9:10][0])[0]\n",
        "upper_exact9 = np.asarray(exact9_results[14:15][0])[0]"
      ]
    },
    {
      "cell_type": "code",
      "execution_count": 93,
      "metadata": {
        "id": "OQkCCOsPQxf9"
      },
      "outputs": [],
      "source": [
        "# Iteration19 :\n",
        "\n",
        "slice19 = 18\n",
        "\n",
        "approx19 = [simple_regret_approx_1[slice19],\n",
        "       simple_regret_approx_2[slice19],\n",
        "       simple_regret_approx_3[slice19],\n",
        "       simple_regret_approx_4[slice19],\n",
        "       simple_regret_approx_5[slice19],\n",
        "       simple_regret_approx_6[slice19],\n",
        "       simple_regret_approx_7[slice19],\n",
        "       simple_regret_approx_8[slice19],\n",
        "       simple_regret_approx_9[slice19],\n",
        "       simple_regret_approx_10[slice19],\n",
        "       simple_regret_approx_11[slice19],\n",
        "       simple_regret_approx_12[slice19],\n",
        "       simple_regret_approx_13[slice19],\n",
        "       simple_regret_approx_14[slice19],\n",
        "       simple_regret_approx_15[slice19],\n",
        "       simple_regret_approx_16[slice19],\n",
        "       simple_regret_approx_17[slice19],\n",
        "       simple_regret_approx_18[slice19],\n",
        "       simple_regret_approx_19[slice19],\n",
        "       simple_regret_approx_20[slice19]]\n",
        "\n",
        "exact19 = [simple_regret_exact_1[slice19],\n",
        "       simple_regret_exact_2[slice19],\n",
        "       simple_regret_exact_3[slice19],\n",
        "       simple_regret_exact_4[slice19],\n",
        "       simple_regret_exact_5[slice19],\n",
        "       simple_regret_exact_6[slice19],\n",
        "       simple_regret_exact_7[slice19],\n",
        "       simple_regret_exact_8[slice19],\n",
        "       simple_regret_exact_9[slice19],\n",
        "       simple_regret_exact_10[slice19],\n",
        "       simple_regret_exact_11[slice19],\n",
        "       simple_regret_exact_12[slice19],\n",
        "       simple_regret_exact_13[slice19],\n",
        "       simple_regret_exact_14[slice19],\n",
        "       simple_regret_exact_15[slice19],\n",
        "       simple_regret_exact_16[slice19],\n",
        "       simple_regret_exact_17[slice19],\n",
        "       simple_regret_exact_18[slice19],\n",
        "       simple_regret_exact_19[slice19],\n",
        "       simple_regret_exact_20[slice19]]\n",
        "\n",
        "approx19_results = pd.DataFrame(approx19).sort_values(by=[0], ascending=False)\n",
        "exact19_results = pd.DataFrame(exact19).sort_values(by=[0], ascending=False)\n",
        "\n",
        "### Best simple regret minimization IQR - approx:\n",
        "lower_approx19 = np.asarray(approx19_results[4:5][0])[0]\n",
        "median_approx19 = np.asarray(approx19_results[9:10][0])[0]\n",
        "upper_approx19 = np.asarray(approx19_results[14:15][0])[0]\n",
        "\n",
        "lower_exact19 = np.asarray(exact19_results[4:5][0])[0]\n",
        "median_exact19 = np.asarray(exact19_results[9:10][0])[0]\n",
        "upper_exact19 = np.asarray(exact19_results[14:15][0])[0]"
      ]
    },
    {
      "cell_type": "code",
      "execution_count": 94,
      "metadata": {
        "id": "h4vtWahcQxf-"
      },
      "outputs": [],
      "source": [
        "# Iteration10 :\n",
        "\n",
        "slice10 = 9\n",
        "\n",
        "approx10 = [simple_regret_approx_1[slice10],\n",
        "       simple_regret_approx_2[slice10],\n",
        "       simple_regret_approx_3[slice10],\n",
        "       simple_regret_approx_4[slice10],\n",
        "       simple_regret_approx_5[slice10],\n",
        "       simple_regret_approx_6[slice10],\n",
        "       simple_regret_approx_7[slice10],\n",
        "       simple_regret_approx_8[slice10],\n",
        "       simple_regret_approx_9[slice10],\n",
        "       simple_regret_approx_10[slice10],\n",
        "       simple_regret_approx_11[slice10],\n",
        "       simple_regret_approx_12[slice10],\n",
        "       simple_regret_approx_13[slice10],\n",
        "       simple_regret_approx_14[slice10],\n",
        "       simple_regret_approx_15[slice10],\n",
        "       simple_regret_approx_16[slice10],\n",
        "       simple_regret_approx_17[slice10],\n",
        "       simple_regret_approx_18[slice10],\n",
        "       simple_regret_approx_19[slice10],\n",
        "       simple_regret_approx_20[slice10]]\n",
        "\n",
        "exact10 = [simple_regret_exact_1[slice10],\n",
        "       simple_regret_exact_2[slice10],\n",
        "       simple_regret_exact_3[slice10],\n",
        "       simple_regret_exact_4[slice10],\n",
        "       simple_regret_exact_5[slice10],\n",
        "       simple_regret_exact_6[slice10],\n",
        "       simple_regret_exact_7[slice10],\n",
        "       simple_regret_exact_8[slice10],\n",
        "       simple_regret_exact_9[slice10],\n",
        "       simple_regret_exact_10[slice10],\n",
        "       simple_regret_exact_11[slice10],\n",
        "       simple_regret_exact_12[slice10],\n",
        "       simple_regret_exact_13[slice10],\n",
        "       simple_regret_exact_14[slice10],\n",
        "       simple_regret_exact_15[slice10],\n",
        "       simple_regret_exact_16[slice10],\n",
        "       simple_regret_exact_17[slice10],\n",
        "       simple_regret_exact_18[slice10],\n",
        "       simple_regret_exact_19[slice10],\n",
        "       simple_regret_exact_20[slice10]]\n",
        "\n",
        "approx10_results = pd.DataFrame(approx10).sort_values(by=[0], ascending=False)\n",
        "exact10_results = pd.DataFrame(exact10).sort_values(by=[0], ascending=False)\n",
        "\n",
        "### Best simple regret minimization IQR - approx:\n",
        "lower_approx10 = np.asarray(approx10_results[4:5][0])[0]\n",
        "median_approx10 = np.asarray(approx10_results[9:10][0])[0]\n",
        "upper_approx10 = np.asarray(approx10_results[14:15][0])[0]\n",
        "\n",
        "lower_exact10 = np.asarray(exact10_results[4:5][0])[0]\n",
        "median_exact10 = np.asarray(exact10_results[9:10][0])[0]\n",
        "upper_exact10 = np.asarray(exact10_results[14:15][0])[0]"
      ]
    },
    {
      "cell_type": "code",
      "execution_count": 95,
      "metadata": {
        "id": "Rsf240pWQxf-"
      },
      "outputs": [],
      "source": [
        "# Iteration20 :\n",
        "\n",
        "slice20 = 19\n",
        "\n",
        "approx20 = [simple_regret_approx_1[slice20],\n",
        "       simple_regret_approx_2[slice20],\n",
        "       simple_regret_approx_3[slice20],\n",
        "       simple_regret_approx_4[slice20],\n",
        "       simple_regret_approx_5[slice20],\n",
        "       simple_regret_approx_6[slice20],\n",
        "       simple_regret_approx_7[slice20],\n",
        "       simple_regret_approx_8[slice20],\n",
        "       simple_regret_approx_9[slice20],\n",
        "       simple_regret_approx_10[slice20],\n",
        "       simple_regret_approx_11[slice20],\n",
        "       simple_regret_approx_12[slice20],\n",
        "       simple_regret_approx_13[slice20],\n",
        "       simple_regret_approx_14[slice20],\n",
        "       simple_regret_approx_15[slice20],\n",
        "       simple_regret_approx_16[slice20],\n",
        "       simple_regret_approx_17[slice20],\n",
        "       simple_regret_approx_18[slice20],\n",
        "       simple_regret_approx_19[slice20],\n",
        "       simple_regret_approx_20[slice20]]\n",
        "\n",
        "exact20 = [simple_regret_exact_1[slice20],\n",
        "       simple_regret_exact_2[slice20],\n",
        "       simple_regret_exact_3[slice20],\n",
        "       simple_regret_exact_4[slice20],\n",
        "       simple_regret_exact_5[slice20],\n",
        "       simple_regret_exact_6[slice20],\n",
        "       simple_regret_exact_7[slice20],\n",
        "       simple_regret_exact_8[slice20],\n",
        "       simple_regret_exact_9[slice20],\n",
        "       simple_regret_exact_10[slice20],\n",
        "       simple_regret_exact_11[slice20],\n",
        "       simple_regret_exact_12[slice20],\n",
        "       simple_regret_exact_13[slice20],\n",
        "       simple_regret_exact_14[slice20],\n",
        "       simple_regret_exact_15[slice20],\n",
        "       simple_regret_exact_16[slice20],\n",
        "       simple_regret_exact_17[slice20],\n",
        "       simple_regret_exact_18[slice20],\n",
        "       simple_regret_exact_19[slice20],\n",
        "       simple_regret_exact_20[slice20]]\n",
        "\n",
        "approx20_results = pd.DataFrame(approx20).sort_values(by=[0], ascending=False)\n",
        "exact20_results = pd.DataFrame(exact20).sort_values(by=[0], ascending=False)\n",
        "\n",
        "### Best simple regret minimization IQR - approx:\n",
        "lower_approx20 = np.asarray(approx20_results[4:5][0])[0]\n",
        "median_approx20 = np.asarray(approx20_results[9:10][0])[0]\n",
        "upper_approx20 = np.asarray(approx20_results[14:15][0])[0]\n",
        "\n",
        "lower_exact20 = np.asarray(exact20_results[4:5][0])[0]\n",
        "median_exact20 = np.asarray(exact20_results[9:10][0])[0]\n",
        "upper_exact20 = np.asarray(exact20_results[14:15][0])[0]"
      ]
    },
    {
      "cell_type": "code",
      "execution_count": 96,
      "metadata": {
        "id": "gn36RejbQxf_"
      },
      "outputs": [],
      "source": [
        "### Summarize arrays: 'Loser'\n",
        "\n",
        "lower_approx = [lower_approx1,\n",
        "            lower_approx2,\n",
        "            lower_approx3,\n",
        "            lower_approx4,\n",
        "            lower_approx5,\n",
        "            lower_approx6,\n",
        "            lower_approx7,\n",
        "            lower_approx8,\n",
        "            lower_approx9,\n",
        "            lower_approx10,\n",
        "            lower_approx11,\n",
        "            lower_approx12,\n",
        "            lower_approx13,\n",
        "            lower_approx14,\n",
        "            lower_approx15,\n",
        "            lower_approx16,\n",
        "            lower_approx17,\n",
        "            lower_approx18,\n",
        "            lower_approx19,\n",
        "            lower_approx20,\n",
        "            lower_approx21]\n",
        "\n",
        "median_approx = [median_approx1,\n",
        "            median_approx2,\n",
        "            median_approx3,\n",
        "            median_approx4,\n",
        "            median_approx5,\n",
        "            median_approx6,\n",
        "            median_approx7,\n",
        "            median_approx8,\n",
        "            median_approx9,\n",
        "            median_approx10,\n",
        "            median_approx11,\n",
        "            median_approx12,\n",
        "            median_approx13,\n",
        "            median_approx14,\n",
        "            median_approx15,\n",
        "            median_approx16,\n",
        "            median_approx17,\n",
        "            median_approx18,\n",
        "            median_approx19,\n",
        "            median_approx20,\n",
        "            median_approx21]\n",
        "\n",
        "upper_approx = [upper_approx1,\n",
        "            upper_approx2,\n",
        "            upper_approx3,\n",
        "            upper_approx4,\n",
        "            upper_approx5,\n",
        "            upper_approx6,\n",
        "            upper_approx7,\n",
        "            upper_approx8,\n",
        "            upper_approx9,\n",
        "            upper_approx10,\n",
        "            upper_approx11,\n",
        "            upper_approx12,\n",
        "            upper_approx13,\n",
        "            upper_approx14,\n",
        "            upper_approx15,\n",
        "            upper_approx16,\n",
        "            upper_approx17,\n",
        "            upper_approx18,\n",
        "            upper_approx19,\n",
        "            upper_approx20,\n",
        "            upper_approx21]"
      ]
    },
    {
      "cell_type": "code",
      "execution_count": 97,
      "metadata": {
        "id": "wxtGTOYfQxf_"
      },
      "outputs": [],
      "source": [
        "### Summarize arrays: 'exact'\n",
        "\n",
        "lower_exact = [lower_exact1,\n",
        "            lower_exact2,\n",
        "            lower_exact3,\n",
        "            lower_exact4,\n",
        "            lower_exact5,\n",
        "            lower_exact6,\n",
        "            lower_exact7,\n",
        "            lower_exact8,\n",
        "            lower_exact9,\n",
        "            lower_exact10,\n",
        "            lower_exact11,\n",
        "            lower_exact12,\n",
        "            lower_exact13,\n",
        "            lower_exact14,\n",
        "            lower_exact15,\n",
        "            lower_exact16,\n",
        "            lower_exact17,\n",
        "            lower_exact18,\n",
        "            lower_exact19,\n",
        "            lower_exact20,\n",
        "            lower_exact21]\n",
        "\n",
        "median_exact = [median_exact1,\n",
        "            median_exact2,\n",
        "            median_exact3,\n",
        "            median_exact4,\n",
        "            median_exact5,\n",
        "            median_exact6,\n",
        "            median_exact7,\n",
        "            median_exact8,\n",
        "            median_exact9,\n",
        "            median_exact10,\n",
        "            median_exact11,\n",
        "            median_exact12,\n",
        "            median_exact13,\n",
        "            median_exact14,\n",
        "            median_exact15,\n",
        "            median_exact16,\n",
        "            median_exact17,\n",
        "            median_exact18,\n",
        "            median_exact19,\n",
        "            median_exact20,\n",
        "            median_exact21]\n",
        "\n",
        "upper_exact = [upper_exact1,\n",
        "            upper_exact2,\n",
        "            upper_exact3,\n",
        "            upper_exact4,\n",
        "            upper_exact5,\n",
        "            upper_exact6,\n",
        "            upper_exact7,\n",
        "            upper_exact8,\n",
        "            upper_exact9,\n",
        "            upper_exact10,\n",
        "            upper_exact11,\n",
        "            upper_exact12,\n",
        "            upper_exact13,\n",
        "            upper_exact14,\n",
        "            upper_exact15,\n",
        "            upper_exact16,\n",
        "            upper_exact17,\n",
        "            upper_exact18,\n",
        "            upper_exact19,\n",
        "            upper_exact20,\n",
        "            upper_exact21]"
      ]
    },
    {
      "cell_type": "code",
      "execution_count": 98,
      "metadata": {
        "id": "2MONq-BXQxgA",
        "colab": {
          "base_uri": "https://localhost:8080/",
          "height": 299
        },
        "outputId": "d80b557a-71ac-4664-d1f0-f46447ee1930"
      },
      "outputs": [
        {
          "output_type": "display_data",
          "data": {
            "text/plain": [
              "<Figure size 432x288 with 1 Axes>"
            ],
            "image/png": "[encoded data removed]"
          },
          "metadata": {
            "needs_background": "light"
          }
        }
      ],
      "source": [
        "### Visualise!\n",
        "\n",
        "title = func\n",
        "plt.figure()\n",
        "\n",
        "plt.plot(median_approx, color = 'Green', ls='--')\n",
        "plt.plot(median_exact, color = 'Blue', ls='--')\n",
        "\n",
        "xstar = np.arange(0, iters+1, step=1)\n",
        "plt.fill_between(xstar, lower_approx, upper_approx, facecolor = 'Green', alpha=0.4, label='STP ERM Optimisation: Approx STP ERM gradients ' r'($\\nu$' ' = {})'.format(df))\n",
        "plt.fill_between(xstar, lower_exact, upper_exact, facecolor = 'Blue', alpha=0.4, label='STP ERM Optimisation: Exact STP dERM gradients ' r'($\\nu$' ' = {})'.format(df))\n",
        "\n",
        "plt.title(title, weight = 'bold')\n",
        "plt.xlabel('(Post-initialisation) iteration $\\it{k}$', weight = 'bold')\n",
        "plt.ylabel('log(Regret)', weight = 'bold') \n",
        "plt.legend(loc=0) # add plot legend\n",
        "\n",
        "### Make the x-ticks integers, not floats:\n",
        "count = len(xstar)\n",
        "plt.xticks(np.arange(count), np.arange(0, count))\n",
        "plt.show() #visualise!\n"
      ]
    },
    {
      "cell_type": "code",
      "execution_count": 99,
      "metadata": {
        "id": "l5dkR2Id2oiu",
        "colab": {
          "base_uri": "https://localhost:8080/"
        },
        "outputId": "6a412c2f-608e-4baa-c178-3d63ad8b43d0"
      },
      "outputs": [
        {
          "output_type": "execute_result",
          "data": {
            "text/plain": [
              "(1343.5394744873047, 1305.0022685527802)"
            ]
          },
          "metadata": {},
          "execution_count": 99
        }
      ],
      "source": [
        "time_approx, time_exact\n"
      ]
    },
    {
      "cell_type": "code",
      "source": [
        "### acqFunc attribute x, stddev: run number = 1\n",
        "\n",
        "acqFuncApprox_exact_1 = acqFuncApprox(exact_1.history)\n",
        "acqFuncExact_exact_1 = acqFuncExact(exact_1.history)\n",
        "\n",
        "e1 = np.std(acqFuncExact_exact_1)\n",
        "a1 = np.std(acqFuncApprox_exact_1)\n",
        "\n",
        "e1, a1\n"
      ],
      "metadata": {
        "id": "uwxv4dmfGsLr",
        "colab": {
          "base_uri": "https://localhost:8080/"
        },
        "outputId": "192d7f57-0db7-4cad-ce84-ac04b34f46e3"
      },
      "execution_count": 100,
      "outputs": [
        {
          "output_type": "execute_result",
          "data": {
            "text/plain": [
              "(0.2732319248601142, 0.45134324645248514)"
            ]
          },
          "metadata": {},
          "execution_count": 100
        }
      ]
    },
    {
      "cell_type": "code",
      "source": [
        "### acqFunc attribute x, stddev: run number = 2\n",
        "\n",
        "acqFuncApprox_exact_2 = acqFuncApprox(exact_2.history)\n",
        "acqFuncExact_exact_2 = acqFuncExact(exact_2.history)\n",
        "\n",
        "e2 = np.std(acqFuncExact_exact_2)\n",
        "a2 = np.std(acqFuncApprox_exact_2)\n",
        "\n",
        "e2, a2\n"
      ],
      "metadata": {
        "id": "0YSV00_pGsXe",
        "colab": {
          "base_uri": "https://localhost:8080/"
        },
        "outputId": "07d50e6f-ccf1-4731-9a44-2e983eda9f98"
      },
      "execution_count": 101,
      "outputs": [
        {
          "output_type": "execute_result",
          "data": {
            "text/plain": [
              "(0.3825324453481423, 0.4065216605661489)"
            ]
          },
          "metadata": {},
          "execution_count": 101
        }
      ]
    },
    {
      "cell_type": "code",
      "source": [
        "### acqFunc attribute x, stddev: run number = 3\n",
        "\n",
        "acqFuncApprox_exact_3 = acqFuncApprox(exact_3.history)\n",
        "acqFuncExact_exact_3 = acqFuncExact(exact_3.history)\n",
        "\n",
        "e3 = np.std(acqFuncExact_exact_3)\n",
        "a3 = np.std(acqFuncApprox_exact_3)\n",
        "\n",
        "e3, a3\n"
      ],
      "metadata": {
        "id": "HHVmsd2UGsjT",
        "colab": {
          "base_uri": "https://localhost:8080/"
        },
        "outputId": "671690c0-356c-450c-858b-7b8bf86104b5"
      },
      "execution_count": 102,
      "outputs": [
        {
          "output_type": "execute_result",
          "data": {
            "text/plain": [
              "(0.3162415861725379, 0.3318248335126959)"
            ]
          },
          "metadata": {},
          "execution_count": 102
        }
      ]
    },
    {
      "cell_type": "code",
      "source": [
        "### acqFunc attribute x, stddev: run number = 4\n",
        "\n",
        "acqFuncApprox_exact_4 = acqFuncApprox(exact_4.history)\n",
        "acqFuncExact_exact_4 = acqFuncExact(exact_4.history)\n",
        "\n",
        "e4 = np.std(acqFuncExact_exact_4)\n",
        "a4 = np.std(acqFuncApprox_exact_4)\n",
        "\n",
        "e4, a4\n"
      ],
      "metadata": {
        "id": "r7O19S2eGsu7",
        "colab": {
          "base_uri": "https://localhost:8080/"
        },
        "outputId": "0c557557-3c04-47e3-f446-6496c464fc3a"
      },
      "execution_count": 103,
      "outputs": [
        {
          "output_type": "execute_result",
          "data": {
            "text/plain": [
              "(0.31692229480954487, 0.3692545980086536)"
            ]
          },
          "metadata": {},
          "execution_count": 103
        }
      ]
    },
    {
      "cell_type": "code",
      "source": [
        "### acqFunc attribute x, stddev: run number = 5\n",
        "\n",
        "acqFuncApprox_exact_5 = acqFuncApprox(exact_5.history)\n",
        "acqFuncExact_exact_5 = acqFuncExact(exact_5.history)\n",
        "\n",
        "e5 = np.std(acqFuncExact_exact_5)\n",
        "a5 = np.std(acqFuncApprox_exact_5)\n",
        "\n",
        "e5, a5\n"
      ],
      "metadata": {
        "id": "sdb9o6NuGs5m",
        "colab": {
          "base_uri": "https://localhost:8080/"
        },
        "outputId": "e77d046b-8c82-4c1f-bc93-1a4d8453ede2"
      },
      "execution_count": 104,
      "outputs": [
        {
          "output_type": "execute_result",
          "data": {
            "text/plain": [
              "(0.5041597881288994, 0.40791111016246767)"
            ]
          },
          "metadata": {},
          "execution_count": 104
        }
      ]
    },
    {
      "cell_type": "code",
      "source": [
        "### acqFunc attribute x, stddev: run number = 6\n",
        "\n",
        "acqFuncApprox_exact_6 = acqFuncApprox(exact_6.history)\n",
        "acqFuncExact_exact_6 = acqFuncExact(exact_6.history)\n",
        "\n",
        "e6 = np.std(acqFuncExact_exact_6)\n",
        "a6 = np.std(acqFuncApprox_exact_6)\n",
        "\n",
        "e6, a6\n"
      ],
      "metadata": {
        "id": "COQl7LZ8GtE0",
        "colab": {
          "base_uri": "https://localhost:8080/"
        },
        "outputId": "b231b0bc-72a7-45a9-ba54-41ad274e40a8"
      },
      "execution_count": 105,
      "outputs": [
        {
          "output_type": "execute_result",
          "data": {
            "text/plain": [
              "(0.40965898517200683, 0.32294841646496303)"
            ]
          },
          "metadata": {},
          "execution_count": 105
        }
      ]
    },
    {
      "cell_type": "code",
      "source": [
        "### acqFunc attribute x, stddev: run number = 7\n",
        "\n",
        "acqFuncApprox_exact_7 = acqFuncApprox(exact_7.history)\n",
        "acqFuncExact_exact_7 = acqFuncExact(exact_7.history)\n",
        "\n",
        "e7 = np.std(acqFuncExact_exact_7)\n",
        "a7 = np.std(acqFuncApprox_exact_7)\n",
        "\n",
        "e7, a7\n"
      ],
      "metadata": {
        "id": "2gy9EtTzGtP7",
        "colab": {
          "base_uri": "https://localhost:8080/"
        },
        "outputId": "85f1be2b-f026-49e2-ab27-4c76c873b133"
      },
      "execution_count": 106,
      "outputs": [
        {
          "output_type": "execute_result",
          "data": {
            "text/plain": [
              "(0.314686787488796, 0.38303973138075154)"
            ]
          },
          "metadata": {},
          "execution_count": 106
        }
      ]
    },
    {
      "cell_type": "code",
      "source": [
        "### acqFunc attribute x, stddev: run number = 8\n",
        "\n",
        "acqFuncApprox_exact_8 = acqFuncApprox(exact_8.history)\n",
        "acqFuncExact_exact_8 = acqFuncExact(exact_8.history)\n",
        "\n",
        "e8 = np.std(acqFuncExact_exact_8)\n",
        "a8 = np.std(acqFuncApprox_exact_8)\n",
        "\n",
        "e8, a8\n"
      ],
      "metadata": {
        "id": "S7mn0qoMGtbM",
        "colab": {
          "base_uri": "https://localhost:8080/"
        },
        "outputId": "7d64095b-e59a-4db8-f83b-135aeaf95135"
      },
      "execution_count": 107,
      "outputs": [
        {
          "output_type": "execute_result",
          "data": {
            "text/plain": [
              "(0.22356189014303732, 0.3430335702214577)"
            ]
          },
          "metadata": {},
          "execution_count": 107
        }
      ]
    },
    {
      "cell_type": "code",
      "source": [
        "### acqFunc attribute x, stddev: run number = 9\n",
        "\n",
        "acqFuncApprox_exact_9 = acqFuncApprox(exact_9.history)\n",
        "acqFuncExact_exact_9 = acqFuncExact(exact_9.history)\n",
        "\n",
        "e9 = np.std(acqFuncExact_exact_9)\n",
        "a9 = np.std(acqFuncApprox_exact_9)\n",
        "\n",
        "e9, a9\n"
      ],
      "metadata": {
        "id": "BhljmkNxGtms",
        "colab": {
          "base_uri": "https://localhost:8080/"
        },
        "outputId": "39bd894c-0c3d-4a93-92b2-ae89a5734577"
      },
      "execution_count": 108,
      "outputs": [
        {
          "output_type": "execute_result",
          "data": {
            "text/plain": [
              "(0.3167030413251732, 0.44706143292502454)"
            ]
          },
          "metadata": {},
          "execution_count": 108
        }
      ]
    },
    {
      "cell_type": "code",
      "source": [
        "### acqFunc attribute x, stddev: run number = 10\n",
        "\n",
        "acqFuncApprox_exact_10 = acqFuncApprox(exact_10.history)\n",
        "acqFuncExact_exact_10 = acqFuncExact(exact_10.history)\n",
        "\n",
        "e10 = np.std(acqFuncExact_exact_10)\n",
        "a10 = np.std(acqFuncApprox_exact_10)\n",
        "\n",
        "e10, a10\n"
      ],
      "metadata": {
        "id": "W5GZo6k3Gtx8",
        "colab": {
          "base_uri": "https://localhost:8080/"
        },
        "outputId": "7e76c3f7-5566-4b80-f3c7-e0654c79783a"
      },
      "execution_count": 109,
      "outputs": [
        {
          "output_type": "execute_result",
          "data": {
            "text/plain": [
              "(0.21636201850899553, 0.33896150236416706)"
            ]
          },
          "metadata": {},
          "execution_count": 109
        }
      ]
    },
    {
      "cell_type": "code",
      "source": [
        "### acqFunc attribute x, stddev: run number = 11\n",
        "\n",
        "acqFuncApprox_exact_11 = acqFuncApprox(exact_11.history)\n",
        "acqFuncExact_exact_11 = acqFuncExact(exact_11.history)\n",
        "\n",
        "e11 = np.std(acqFuncExact_exact_11)\n",
        "a11 = np.std(acqFuncApprox_exact_11)\n",
        "\n",
        "e11, a11\n"
      ],
      "metadata": {
        "id": "isKNhDk5Gt9D",
        "colab": {
          "base_uri": "https://localhost:8080/"
        },
        "outputId": "5f2bf63a-482f-40aa-8091-c790b64b9f9f"
      },
      "execution_count": 110,
      "outputs": [
        {
          "output_type": "execute_result",
          "data": {
            "text/plain": [
              "(0.2635614735512917, 0.38637045503970124)"
            ]
          },
          "metadata": {},
          "execution_count": 110
        }
      ]
    },
    {
      "cell_type": "code",
      "source": [
        "### acqFunc attribute x, stddev: run number = 12\n",
        "\n",
        "acqFuncApprox_exact_12 = acqFuncApprox(exact_12.history)\n",
        "acqFuncExact_exact_12 = acqFuncExact(exact_12.history)\n",
        "\n",
        "e12 = np.std(acqFuncExact_exact_12)\n",
        "a12 = np.std(acqFuncApprox_exact_12)\n",
        "\n",
        "e12, a12\n"
      ],
      "metadata": {
        "id": "8ts-wrSuGuIm",
        "colab": {
          "base_uri": "https://localhost:8080/"
        },
        "outputId": "c39242de-d167-49a4-b409-684d812fc123"
      },
      "execution_count": 111,
      "outputs": [
        {
          "output_type": "execute_result",
          "data": {
            "text/plain": [
              "(0.3762734391517762, 0.2858200026631047)"
            ]
          },
          "metadata": {},
          "execution_count": 111
        }
      ]
    },
    {
      "cell_type": "code",
      "source": [
        "### acqFunc attribute x, stddev: run number = 13\n",
        "\n",
        "acqFuncApprox_exact_13 = acqFuncApprox(exact_13.history)\n",
        "acqFuncExact_exact_13 = acqFuncExact(exact_13.history)\n",
        "\n",
        "e13 = np.std(acqFuncExact_exact_13)\n",
        "a13 = np.std(acqFuncApprox_exact_13)\n",
        "\n",
        "e13, a13\n"
      ],
      "metadata": {
        "id": "n0drhEe3GuUL",
        "colab": {
          "base_uri": "https://localhost:8080/"
        },
        "outputId": "70bb9ef3-1b70-42f7-a6b2-7964c849be28"
      },
      "execution_count": 112,
      "outputs": [
        {
          "output_type": "execute_result",
          "data": {
            "text/plain": [
              "(0.3903593271361714, 0.4867105325854671)"
            ]
          },
          "metadata": {},
          "execution_count": 112
        }
      ]
    },
    {
      "cell_type": "code",
      "source": [
        "### acqFunc attribute x, stddev: run number = 14\n",
        "\n",
        "acqFuncApprox_exact_14 = acqFuncApprox(exact_14.history)\n",
        "acqFuncExact_exact_14 = acqFuncExact(exact_14.history)\n",
        "\n",
        "e14 = np.std(acqFuncExact_exact_14)\n",
        "a14 = np.std(acqFuncApprox_exact_14)\n",
        "\n",
        "e14, a14\n"
      ],
      "metadata": {
        "id": "R0W3MZaVGues",
        "colab": {
          "base_uri": "https://localhost:8080/"
        },
        "outputId": "134affcb-743c-44b4-819d-beca01645305"
      },
      "execution_count": 113,
      "outputs": [
        {
          "output_type": "execute_result",
          "data": {
            "text/plain": [
              "(0.3799085478616909, 0.3632735961508034)"
            ]
          },
          "metadata": {},
          "execution_count": 113
        }
      ]
    },
    {
      "cell_type": "code",
      "source": [
        "### acqFunc attribute x, stddev: run number = 15\n",
        "\n",
        "acqFuncApprox_exact_15 = acqFuncApprox(exact_15.history)\n",
        "acqFuncExact_exact_15 = acqFuncExact(exact_15.history)\n",
        "\n",
        "e15 = np.std(acqFuncExact_exact_15)\n",
        "a15 = np.std(acqFuncApprox_exact_15)\n",
        "\n",
        "e15, a15\n"
      ],
      "metadata": {
        "id": "DoXdDFHoGup-",
        "colab": {
          "base_uri": "https://localhost:8080/"
        },
        "outputId": "b7d8beeb-3794-4ea7-8e2a-e179cb614199"
      },
      "execution_count": 114,
      "outputs": [
        {
          "output_type": "execute_result",
          "data": {
            "text/plain": [
              "(0.323587653825518, 0.3137152022767309)"
            ]
          },
          "metadata": {},
          "execution_count": 114
        }
      ]
    },
    {
      "cell_type": "code",
      "source": [
        "### acqFunc attribute x, stddev: run number = 16\n",
        "\n",
        "acqFuncApprox_exact_16 = acqFuncApprox(exact_16.history)\n",
        "acqFuncExact_exact_16 = acqFuncExact(exact_16.history)\n",
        "\n",
        "e16 = np.std(acqFuncExact_exact_16)\n",
        "a16 = np.std(acqFuncApprox_exact_16)\n",
        "\n",
        "e16, a16\n"
      ],
      "metadata": {
        "id": "K_wAeqSoGu2j",
        "colab": {
          "base_uri": "https://localhost:8080/"
        },
        "outputId": "bf76023d-a6fa-4e4b-fed5-5b4ee1bd4641"
      },
      "execution_count": 115,
      "outputs": [
        {
          "output_type": "execute_result",
          "data": {
            "text/plain": [
              "(0.45233395779647034, 0.37721238747435004)"
            ]
          },
          "metadata": {},
          "execution_count": 115
        }
      ]
    },
    {
      "cell_type": "code",
      "source": [
        "### acqFunc attribute x, stddev: run number = 17\n",
        "\n",
        "acqFuncApprox_exact_17 = acqFuncApprox(exact_17.history)\n",
        "acqFuncExact_exact_17 = acqFuncExact(exact_17.history)\n",
        "\n",
        "e17 = np.std(acqFuncExact_exact_17)\n",
        "a17 = np.std(acqFuncApprox_exact_17)\n",
        "\n",
        "e17, a17\n"
      ],
      "metadata": {
        "id": "n6zy78fjGvBT",
        "colab": {
          "base_uri": "https://localhost:8080/"
        },
        "outputId": "55580af5-9f09-4ddd-b97c-8af4caec1370"
      },
      "execution_count": 116,
      "outputs": [
        {
          "output_type": "execute_result",
          "data": {
            "text/plain": [
              "(0.3140238594774857, 0.35540357075828666)"
            ]
          },
          "metadata": {},
          "execution_count": 116
        }
      ]
    },
    {
      "cell_type": "code",
      "source": [
        "### acqFunc attribute x, stddev: run number = 18\n",
        "\n",
        "acqFuncApprox_exact_18 = acqFuncApprox(exact_18.history)\n",
        "acqFuncExact_exact_18 = acqFuncExact(exact_18.history)\n",
        "\n",
        "e18 = np.std(acqFuncExact_exact_18)\n",
        "a18 = np.std(acqFuncApprox_exact_18)\n",
        "\n",
        "e18, a18\n"
      ],
      "metadata": {
        "id": "s_6_2K4iGvM-",
        "colab": {
          "base_uri": "https://localhost:8080/"
        },
        "outputId": "8dd5964d-ddca-434d-9dcc-dd24c2ca20bb"
      },
      "execution_count": 117,
      "outputs": [
        {
          "output_type": "execute_result",
          "data": {
            "text/plain": [
              "(0.38116620832522286, 0.3416255158647971)"
            ]
          },
          "metadata": {},
          "execution_count": 117
        }
      ]
    },
    {
      "cell_type": "code",
      "source": [
        "### acqFunc attribute x, stddev: run number = 19\n",
        "\n",
        "acqFuncApprox_exact_19 = acqFuncApprox(exact_19.history)\n",
        "acqFuncExact_exact_19 = acqFuncExact(exact_19.history)\n",
        "\n",
        "e19 = np.std(acqFuncExact_exact_19)\n",
        "a19 = np.std(acqFuncApprox_exact_19)\n",
        "\n",
        "e19, a19\n"
      ],
      "metadata": {
        "id": "o8oO8pdBGvYk",
        "colab": {
          "base_uri": "https://localhost:8080/"
        },
        "outputId": "8d8772a7-f4cb-455e-8d3d-651216e430d7"
      },
      "execution_count": 118,
      "outputs": [
        {
          "output_type": "execute_result",
          "data": {
            "text/plain": [
              "(0.4568753498801934, 0.42946042786516747)"
            ]
          },
          "metadata": {},
          "execution_count": 118
        }
      ]
    },
    {
      "cell_type": "code",
      "source": [
        "### acqFunc attribute x, stddev: run number = 20\n",
        "\n",
        "acqFuncApprox_exact_20 = acqFuncApprox(exact_20.history)\n",
        "acqFuncExact_exact_20 = acqFuncExact(exact_20.history)\n",
        "\n",
        "e20 = np.std(acqFuncExact_exact_20)\n",
        "a20 = np.std(acqFuncApprox_exact_20)\n",
        "\n",
        "e20, a20\n"
      ],
      "metadata": {
        "id": "b2w8oLc0IMzU",
        "colab": {
          "base_uri": "https://localhost:8080/"
        },
        "outputId": "4e1b679f-8be8-4b7a-a5a6-a6fd02f5971a"
      },
      "execution_count": 119,
      "outputs": [
        {
          "output_type": "execute_result",
          "data": {
            "text/plain": [
              "(0.38070863221500717, 0.38120282711909903)"
            ]
          },
          "metadata": {},
          "execution_count": 119
        }
      ]
    },
    {
      "cell_type": "code",
      "source": [
        "### Summarize arrays: \n",
        "\n",
        "exact_stddev = np.sort([e1,e2,e3,e4,e5,e6,e7,e8,e9,e10,e11,e12,e13,e14,e15,e16,e17,e18,e19,e20])\n",
        "approx_stddev = np.sort([a1,a2,a3,a4,a5,a6,a7,a8,a9,a10,a11,a12,a13,a14,a15,a16,a17,a18,a19,a20])\n",
        "\n",
        "np.mean(exact_stddev), np.mean(approx_stddev)\n"
      ],
      "metadata": {
        "id": "qAZs3yxMIZul",
        "colab": {
          "base_uri": "https://localhost:8080/"
        },
        "outputId": "373a4602-f1d8-424a-9067-11b80022b781"
      },
      "execution_count": 120,
      "outputs": [
        {
          "output_type": "execute_result",
          "data": {
            "text/plain": [
              "(0.3496429605589037, 0.37613473099281614)"
            ]
          },
          "metadata": {},
          "execution_count": 120
        }
      ]
    },
    {
      "cell_type": "code",
      "source": [
        "### Visualise!\n",
        "\n",
        "title = func\n",
        "plt.figure()\n",
        "\n",
        "plt.plot(approx_stddev, color = 'Green', ls='--', label='Average $\\sigma$, attribute $\\mathbf{x}$: Approx STP ERM gradients')\n",
        "plt.plot(exact_stddev, color = 'Blue', ls='-', label='Average $\\sigma$, attribute $\\mathbf{x}$: Exact STP dERM gradients')\n",
        "\n",
        "plt.title(title, weight = 'bold')\n",
        "plt.xlabel('Experiment(s)', weight = 'bold')\n",
        "plt.ylabel('STP ERM: Average $\\sigma$, attribute $\\mathbf{x}$', weight = 'bold') \n",
        "plt.legend(loc=0) # add plot legend\n",
        "\n",
        "### Make the x-ticks integers, not floats:\n",
        "count = len(xstar)\n",
        "plt.xticks(np.arange(count), np.arange(1, count))\n",
        "plt.show() #visualize!\n"
      ],
      "metadata": {
        "id": "e_kpqYcMIZxu",
        "colab": {
          "base_uri": "https://localhost:8080/",
          "height": 295
        },
        "outputId": "daf0ab01-5a04-4f25-fde2-1d3b5bfdf0fb"
      },
      "execution_count": 121,
      "outputs": [
        {
          "output_type": "display_data",
          "data": {
            "text/plain": [
              "<Figure size 432x288 with 1 Axes>"
            ],
            "image/png": "[encoded data removed]"
          },
          "metadata": {
            "needs_background": "light"
          }
        }
      ]
    },
    {
      "cell_type": "code",
      "source": [],
      "metadata": {
        "id": "LToGd4vZIZ3I"
      },
      "execution_count": 121,
      "outputs": []
    }
  ],
  "metadata": {
    "colab": {
      "collapsed_sections": [],
      "provenance": []
    },
    "kernelspec": {
      "display_name": "Python 3",
      "name": "python3"
    },
    "language_info": {
      "name": "python"
    }
  },
  "nbformat": 4,
  "nbformat_minor": 0
}