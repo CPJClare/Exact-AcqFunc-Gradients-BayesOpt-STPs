{
  "cells": [
    {
      "cell_type": "markdown",
      "metadata": {
        "id": "Dqn4dFx7Z2Ir"
      },
      "source": [
        "\n",
        "SixHumpCamel: 2D\n"
      ]
    },
    {
      "cell_type": "code",
      "execution_count": 1,
      "metadata": {
        "colab": {
          "base_uri": "https://localhost:8080/"
        },
        "id": "MJTM_GZZZb5x",
        "outputId": "11455e1d-78c5-4991-c5f1-b900783c9361"
      },
      "outputs": [
        {
          "output_type": "stream",
          "name": "stdout",
          "text": [
            "Looking in indexes: https://pypi.org/simple, https://us-python.pkg.dev/colab-wheels/public/simple/\n",
            "Requirement already satisfied: pyGPGO in /usr/local/lib/python3.7/dist-packages (0.5.1)\n",
            "Requirement already satisfied: Theano-PyMC in /usr/local/lib/python3.7/dist-packages (from pyGPGO) (1.1.2)\n",
            "Requirement already satisfied: joblib in /usr/local/lib/python3.7/dist-packages (from pyGPGO) (1.1.0)\n",
            "Requirement already satisfied: mkl in /usr/local/lib/python3.7/dist-packages (from pyGPGO) (2019.0)\n",
            "Requirement already satisfied: scikit-learn in /usr/local/lib/python3.7/dist-packages (from pyGPGO) (1.0.2)\n",
            "Requirement already satisfied: pyMC3 in /usr/local/lib/python3.7/dist-packages (from pyGPGO) (3.11.5)\n",
            "Requirement already satisfied: numpy in /usr/local/lib/python3.7/dist-packages (from pyGPGO) (1.21.6)\n",
            "Requirement already satisfied: scipy in /usr/local/lib/python3.7/dist-packages (from pyGPGO) (1.7.3)\n",
            "Requirement already satisfied: intel-openmp in /usr/local/lib/python3.7/dist-packages (from mkl->pyGPGO) (2022.1.0)\n",
            "Requirement already satisfied: patsy>=0.5.1 in /usr/local/lib/python3.7/dist-packages (from pyMC3->pyGPGO) (0.5.2)\n",
            "Requirement already satisfied: fastprogress>=0.2.0 in /usr/local/lib/python3.7/dist-packages (from pyMC3->pyGPGO) (1.0.3)\n",
            "Requirement already satisfied: typing-extensions>=3.7.4 in /usr/local/lib/python3.7/dist-packages (from pyMC3->pyGPGO) (4.1.1)\n",
            "Requirement already satisfied: semver>=2.13.0 in /usr/local/lib/python3.7/dist-packages (from pyMC3->pyGPGO) (2.13.0)\n",
            "Requirement already satisfied: deprecat in /usr/local/lib/python3.7/dist-packages (from pyMC3->pyGPGO) (2.1.1)\n",
            "Requirement already satisfied: arviz>=0.11.0 in /usr/local/lib/python3.7/dist-packages (from pyMC3->pyGPGO) (0.12.1)\n",
            "Requirement already satisfied: cachetools>=4.2.1 in /usr/local/lib/python3.7/dist-packages (from pyMC3->pyGPGO) (4.2.4)\n",
            "Requirement already satisfied: dill in /usr/local/lib/python3.7/dist-packages (from pyMC3->pyGPGO) (0.3.5.1)\n",
            "Requirement already satisfied: pandas>=0.24.0 in /usr/local/lib/python3.7/dist-packages (from pyMC3->pyGPGO) (1.3.5)\n",
            "Requirement already satisfied: filelock in /usr/local/lib/python3.7/dist-packages (from Theano-PyMC->pyGPGO) (3.8.0)\n",
            "Requirement already satisfied: matplotlib>=3.0 in /usr/local/lib/python3.7/dist-packages (from arviz>=0.11.0->pyMC3->pyGPGO) (3.2.2)\n",
            "Requirement already satisfied: xarray>=0.16.1 in /usr/local/lib/python3.7/dist-packages (from arviz>=0.11.0->pyMC3->pyGPGO) (0.20.2)\n",
            "Requirement already satisfied: packaging in /usr/local/lib/python3.7/dist-packages (from arviz>=0.11.0->pyMC3->pyGPGO) (21.3)\n",
            "Requirement already satisfied: netcdf4 in /usr/local/lib/python3.7/dist-packages (from arviz>=0.11.0->pyMC3->pyGPGO) (1.6.0)\n",
            "Requirement already satisfied: xarray-einstats>=0.2 in /usr/local/lib/python3.7/dist-packages (from arviz>=0.11.0->pyMC3->pyGPGO) (0.2.2)\n",
            "Requirement already satisfied: setuptools>=38.4 in /usr/local/lib/python3.7/dist-packages (from arviz>=0.11.0->pyMC3->pyGPGO) (57.4.0)\n",
            "Requirement already satisfied: cycler>=0.10 in /usr/local/lib/python3.7/dist-packages (from matplotlib>=3.0->arviz>=0.11.0->pyMC3->pyGPGO) (0.11.0)\n",
            "Requirement already satisfied: pyparsing!=2.0.4,!=2.1.2,!=2.1.6,>=2.0.1 in /usr/local/lib/python3.7/dist-packages (from matplotlib>=3.0->arviz>=0.11.0->pyMC3->pyGPGO) (3.0.9)\n",
            "Requirement already satisfied: python-dateutil>=2.1 in /usr/local/lib/python3.7/dist-packages (from matplotlib>=3.0->arviz>=0.11.0->pyMC3->pyGPGO) (2.8.2)\n",
            "Requirement already satisfied: kiwisolver>=1.0.1 in /usr/local/lib/python3.7/dist-packages (from matplotlib>=3.0->arviz>=0.11.0->pyMC3->pyGPGO) (1.4.4)\n",
            "Requirement already satisfied: pytz>=2017.3 in /usr/local/lib/python3.7/dist-packages (from pandas>=0.24.0->pyMC3->pyGPGO) (2022.2.1)\n",
            "Requirement already satisfied: six in /usr/local/lib/python3.7/dist-packages (from patsy>=0.5.1->pyMC3->pyGPGO) (1.15.0)\n",
            "Requirement already satisfied: importlib-metadata in /usr/local/lib/python3.7/dist-packages (from xarray>=0.16.1->arviz>=0.11.0->pyMC3->pyGPGO) (4.12.0)\n",
            "Requirement already satisfied: wrapt<2,>=1.10 in /usr/local/lib/python3.7/dist-packages (from deprecat->pyMC3->pyGPGO) (1.14.1)\n",
            "Requirement already satisfied: zipp>=0.5 in /usr/local/lib/python3.7/dist-packages (from importlib-metadata->xarray>=0.16.1->arviz>=0.11.0->pyMC3->pyGPGO) (3.8.1)\n",
            "Requirement already satisfied: cftime in /usr/local/lib/python3.7/dist-packages (from netcdf4->arviz>=0.11.0->pyMC3->pyGPGO) (1.6.1)\n",
            "Requirement already satisfied: threadpoolctl>=2.0.0 in /usr/local/lib/python3.7/dist-packages (from scikit-learn->pyGPGO) (3.1.0)\n"
          ]
        }
      ],
      "source": [
        "pip install pyGPGO\n"
      ]
    },
    {
      "cell_type": "code",
      "execution_count": 2,
      "metadata": {
        "id": "ZJSSPbwPaEUB"
      },
      "outputs": [],
      "source": [
        "### 1. Import python modules/packages required:\n",
        "\n",
        "import numpy as np\n",
        "import pandas as pd\n",
        "import scipy as sp\n",
        "import matplotlib.pyplot as plt\n",
        "import warnings\n",
        "import itertools\n",
        "import seaborn as sns\n",
        "import time\n",
        "\n",
        "from pyGPGO.GPGO import GPGO\n",
        "from pyGPGO.surrogates.tStudentProcess import tStudentProcess\n",
        "from pyGPGO.acquisition import Acquisition\n",
        "from pyGPGO.covfunc import squaredExponential\n",
        "from joblib import Parallel, delayed\n",
        "from scipy.linalg import inv\n",
        "from scipy.spatial.distance import cdist\n",
        "from scipy.optimize import minimize\n",
        "from scipy.stats import t\n",
        "from mpl_toolkits.axes_grid1.inset_locator import inset_axes, mark_inset\n",
        "\n",
        "warnings.filterwarnings(\"ignore\", category=RuntimeWarning)\n"
      ]
    },
    {
      "cell_type": "code",
      "execution_count": 3,
      "metadata": {
        "id": "OeYcTUNoaJWa"
      },
      "outputs": [],
      "source": [
        "### Inputs:\n",
        "\n",
        "func = 'SixHumpCamel'\n",
        "n_test = 500\n",
        "eps = 1e-08\n",
        "\n",
        "util = 'ERM'\n",
        "\n",
        "n_init = 5 # random initialisations\n",
        "iters = 20\n",
        "opt = True\n",
        "\n",
        "df = 3"
      ]
    },
    {
      "cell_type": "code",
      "execution_count": 4,
      "metadata": {
        "id": "xpaEOjdzaPMS"
      },
      "outputs": [],
      "source": [
        "### Objective Function - SixHumpCamel(x) 2-D:\n",
        "\n",
        "def objfunc(x1_training, x2_training):\n",
        "        return operator * ((4 - 2.1 * x1_training ** 2 + 1 / 3 * x1_training ** 4) * x1_training ** 2 +\n",
        "                (x1_training * x2_training) + (-4 + 4 * x2_training ** 2) * x2_training ** 2)\n",
        "    \n",
        "# Constraints:\n",
        "lb_x1 = -3\n",
        "ub_x1 = +3\n",
        "    \n",
        "lb_x2 = -2\n",
        "ub_x2 = +2\n",
        "\n",
        "# Input array dimension(s):\n",
        "dim = 2\n",
        "\n",
        "# 2-D inputs' parameter bounds:\n",
        "param = {'x1_training': ('cont', [lb_x1, ub_x1]),\n",
        "             'x2_training': ('cont', [lb_x2, ub_x2])}\n",
        "\n",
        "# True y bounds:\n",
        "operator = -1\n",
        "y_global_orig = -1.0316 # targets global minimum\n",
        "\n",
        "# Test data:\n",
        "x1_test = np.linspace(lb_x1, ub_x1, n_test) \n",
        "x2_test = np.linspace(lb_x2, ub_x2, n_test)\n",
        "  \n",
        "x_test = np.column_stack((x1_test,x2_test))\n"
      ]
    },
    {
      "cell_type": "code",
      "execution_count": 5,
      "metadata": {
        "id": "eYpI3Zm4aGxi"
      },
      "outputs": [],
      "source": [
        "n_start_AcqFunc = iters\n",
        "inverse = -1\n"
      ]
    },
    {
      "cell_type": "code",
      "execution_count": 6,
      "metadata": {
        "id": "oO_GUmOoaV0T"
      },
      "outputs": [],
      "source": [
        "### Cumulative Regret Calculators:\n",
        "\n",
        "def min_max_array(x):\n",
        "    new_list = []\n",
        "    for i, num in enumerate(x):\n",
        "            new_list.append(np.min(x[0:i+1]))\n",
        "    return new_list\n",
        "  \n",
        "def acqFuncExact(x):\n",
        "    new_array = []\n",
        "    x = np.array(x) \n",
        "    for i, num in enumerate(x):\n",
        "            new_array = x[:-2][::-3]\n",
        "    return new_array[::-1]\n",
        "\n",
        "def acqFuncApprox(x):\n",
        "    new_array = []\n",
        "    x = np.array(x) \n",
        "    for i, num in enumerate(x):\n",
        "            new_array = x[:-1][::-3]\n",
        "    return new_array[::-1]\n"
      ]
    },
    {
      "cell_type": "code",
      "execution_count": 7,
      "metadata": {
        "id": "kuuJx0IMam9S"
      },
      "outputs": [],
      "source": [
        "### Surrogate derivatives: \n",
        "\n",
        "cov_func = squaredExponential()\n",
        "\n",
        "def kronDelta(X, Xstar):                     # Kronecker's Delta method\n",
        "    return cdist(X, Xstar) < np.finfo(np.float32).eps\n",
        "\n",
        "def se(X, Xstar, sigmaf, l, sigman):         # S.E. kernel method\n",
        "    return sigmaf * np.exp(-0.5 * cdist(X, Xstar) ** 2 / l ** 2) + sigman * kronDelta(X, Xstar)\n",
        "\n",
        "def delta(X, Xstar):                         # Distance between training X and test Xstar vectors\n",
        "    return (X - Xstar)\n",
        "   \n",
        "def der_covmat(X, Xstar, sigmaf, l, sigman): # Covariance matrix derivative terms (i.e. exact, first-order)\n",
        "    nx = len(X)\n",
        "    ny = len(Xstar)\n",
        "    return np.round(np.array([(delta(np.atleast_2d(i), np.atleast_2d(j))[0] * se(np.atleast_2d(i), np.atleast_2d(j), sigmaf, l, sigman)[0]).sum() for (i, j) in itertools.product(X, Xstar)]).reshape(nx, ny), 8)\n",
        "\n",
        "class dtStudentProcess(tStudentProcess):    # Via inheritance, also optimises hyperparameters when opt = TRUE\n",
        "    \n",
        "    def AcqGrad(self, Xstar):               # Method returning exact, first-order derivatives of the STP's posterior mean and standard deviation\n",
        "        Xstar = np.atleast_2d(Xstar)\n",
        "        Kstar = self.covfunc.K(self.X, Xstar).T\n",
        "        dKstar = der_covmat(self.X, Xstar, self.covfunc.sigmaf, self.covfunc.l, self.covfunc.sigman).T\n",
        "        \n",
        "        smd_adj = (self.nu + self.beta1 - 2) / (self.nu + self.n1 - 2)\n",
        "\n",
        "        alpha = np.dot(np.linalg.inv(self.K11 + (self.covfunc.sigman**2) * np.eye(len(self.X))), self.y)\n",
        "        alpha_Kstar = np.dot(np.linalg.inv(self.K11 + (self.covfunc.sigman**2) * np.eye(len(self.X))), Kstar.T)      \n",
        "        \n",
        "        dm = np.dot(dKstar, alpha)\n",
        "        ds = -2 * smd_adj * np.dot(dKstar, alpha_Kstar)\n",
        "        \n",
        "        return dm, ds \n",
        "        "
      ]
    },
    {
      "cell_type": "code",
      "execution_count": 8,
      "metadata": {
        "id": "_Dc3YVHVaXz7"
      },
      "outputs": [],
      "source": [
        "### Add exact acquisition function gradient as attribute:\n",
        "\n",
        "class Acquisition_grad(Acquisition):    \n",
        "    def __init__(self, mode, eps=eps, **params):\n",
        "        \n",
        "        self.params = params\n",
        "        self.eps = eps\n",
        "\n",
        "        mode_dict = {\n",
        "            'ERM': self.ERM\n",
        "        }\n",
        "\n",
        "        self.f = mode_dict[mode]\n",
        "    \n",
        "    def ERM(self, tau, mean, std, ds, dm, nu=3.0):\n",
        "        gamma = (mean - y_global_orig - self.eps) / (std + self.eps)\n",
        "        gamma_h = (mean - tau) / (std + self.eps)\n",
        "        dsdx = ds / (2 * (std + self.eps))\n",
        "        dmdx = (dm - gamma * dsdx) / (std + self.eps)\n",
        "        \n",
        "        f = (std + self.eps) * (gamma * t.cdf(gamma, df=nu) + (nu + gamma ** 2)/(nu - 1) * t.pdf(gamma, df=nu))\n",
        "        df1 = f / (std + self.eps) * dsdx \n",
        "        df2 = (std + self.eps) * (t.cdf(gamma, df=nu) * dmdx + gamma * t.pdf(gamma, df=nu) \\\n",
        "            * (1 - (nu + gamma ** 2)/(nu - 1) + 2/(nu - 1) * dmdx))\n",
        "        df = (df1 + df2)[0]\n",
        "        df_arr = []\n",
        "\n",
        "        for j in range(0, dim):\n",
        "          df_arr.append(df)\n",
        "        return f, np.asarray(df_arr).transpose()\n",
        "        \n",
        "    def d_eval(self, tau, mean, std, ds, dm, nu=3.0):\n",
        "    \n",
        "        return self.f(tau, mean, std, ds, dm, nu=3.0, **self.params)\n",
        "        "
      ]
    },
    {
      "cell_type": "code",
      "execution_count": 9,
      "metadata": {
        "id": "PITEQC8YSl7i"
      },
      "outputs": [],
      "source": [
        "## GPGO_multi: \n",
        "\n",
        "class GPGO_multi(GPGO):\n",
        "    n_start = n_start_AcqFunc\n",
        "\n",
        "    def __init__(self, surrogate, acquisition, f, parameter_dict, n_jobs=1):\n",
        "        self.GP = surrogate\n",
        "        self.A = acquisition\n",
        "        self.f = f\n",
        "        self.parameters = parameter_dict\n",
        "        self.n_jobs = n_jobs\n",
        "\n",
        "        self.parameter_key = list(parameter_dict.keys())\n",
        "        self.parameter_value = list(parameter_dict.values())\n",
        "        self.parameter_type = [p[0] for p in self.parameter_value]\n",
        "        self.parameter_range = [p[1] for p in self.parameter_value]\n",
        "\n",
        "        self.history = []\n",
        "        self.header =   'Evaluation \\t Proposed point \\t  Current eval. \\t  Best eval. \\t        Exact ERM: StdDev. x \\t Approx ERM: StdDev. x '\n",
        "        self.template = '{:3}\\t {}\\t {:3}\\t {:3}\\t {:3}\\t {:3}'\n",
        " \n",
        "    def acqfuncExact(self, xnew, n_start=n_start_AcqFunc):\n",
        "        new_mean, new_var = self.GP.predict(xnew, return_std=True)\n",
        "        new_std = np.sqrt(new_var + eps)\n",
        "        dm, ds = self.GP.AcqGrad(xnew)\n",
        "        f, df = self.A.d_eval(self.tau, new_mean, new_std, ds=ds, dm=dm, nu=3.0)\n",
        "\n",
        "        return -f, -df\n",
        "   \n",
        "    def acqfuncApprox(self, xnew, n_start=n_start_AcqFunc):\n",
        "        new_mean, new_var = self.GP.predict(xnew, return_std=True)\n",
        "        new_std = np.sqrt(new_var + eps)\n",
        "        dm, ds = self.GP.AcqGrad(xnew)\n",
        "        f, df = self.A.d_eval(self.tau, new_mean, new_std, ds=ds, dm=dm, nu=3.0)\n",
        "\n",
        "        return -f\n",
        "   \n",
        "    def _optimizeAcq(self, method='L-BFGS-B', n_start=n_start_AcqFunc):\n",
        "        \n",
        "        start_points_dict = [self._sampleParam() for i in range(n_start)]\n",
        "        start_points_arr = np.array([list(s.values())\n",
        "                                     for s in start_points_dict])\n",
        "        x_best = np.empty((n_start, len(self.parameter_key)))\n",
        "        f_best = np.empty((n_start,))\n",
        "        opt = Parallel(n_jobs=self.n_jobs)(delayed(minimize)(self.acqfuncApprox,\n",
        "                                                                 x0=start_point,\n",
        "                                                                 method=method,\n",
        "                                                                 jac = False,\n",
        "                                                                 bounds=self.parameter_range) for start_point in\n",
        "                                               start_points_arr)\n",
        "        x_best = np.array([res.x for res in opt])\n",
        "        f_best = np.array([np.atleast_1d(res.fun)[0] for res in opt])\n",
        "        f_best_min = min(f_best)\n",
        "\n",
        "        self.x_best = x_best\n",
        "        self.f_best = f_best\n",
        "        self.f_best_min = f_best_min\n",
        "        self.x_best_std = np.std(x_best)\n",
        "        self.best = x_best[np.argmin(f_best)]\n",
        "        self.start_points_arr = start_points_arr        \n",
        "        self.history.append(self.x_best_std)\n",
        "\n",
        "        x_best_exact = np.empty((n_start, len(self.parameter_key)))\n",
        "        f_best_exact = np.empty((n_start,))\n",
        "        opt_exact = Parallel(n_jobs=self.n_jobs)(delayed(minimize)(self.acqfuncExact,\n",
        "                                                                 x0=start_point,\n",
        "                                                                 method=method,\n",
        "                                                                 jac = True,\n",
        "                                                                 bounds=self.parameter_range) for start_point in\n",
        "                                               start_points_arr)\n",
        "        x_best_exact = np.array([res.x for res in opt_exact])\n",
        "        f_best_exact = np.array([np.atleast_1d(res.fun)[0] for res in opt_exact])\n",
        "        f_best_min_exact = min(f_best_exact)\n",
        "\n",
        "        self.x_best_exact = x_best_exact\n",
        "        self.f_best_exact = f_best_exact\n",
        "        self.f_best_min_exact = f_best_min_exact\n",
        "        self.x_best_std_exact = np.std(x_best_exact)\n",
        "        self.best_exact = x_best_exact[np.argmin(f_best_exact)]\n",
        "        self.start_points_arr = start_points_arr\n",
        "        self.history.append(self.x_best_std_exact)\n",
        "\n",
        "    def _printInit(self):\n",
        "        print(self.header)\n",
        "        for init_eval in range(self.init_evals):\n",
        "            print(self.template.format('init', self.GP.X[init_eval], inverse * self.GP.y[init_eval], inverse * self.tau, '', ''))\n",
        "      \n",
        "    def _printCurrent(self):\n",
        "        OKGREEN = '\\033[92m'\n",
        "        ENDC = '\\033[0m'\n",
        "        BOLD = '\\033[1m'\n",
        "        eval = str(len(self.GP.y) - self.init_evals)\n",
        "        proposed = str(self.best)\n",
        "        curr_eval = str(inverse * self.GP.y[-1])\n",
        "        curr_best = str(inverse * self.tau)\n",
        "        min_acqfunc = str(self.f_best_min)\n",
        "        min_acqfunc_exact = str(self.f_best_min_exact)\n",
        "        x_best_std = str(self.x_best_std)\n",
        "        x_best_std_exact = str(self.x_best_std_exact)\n",
        "        if float(curr_eval) <= float(curr_best):\n",
        "            eval = BOLD + OKGREEN + eval + ENDC\n",
        "            proposed = BOLD + OKGREEN + proposed + ENDC\n",
        "            curr_eval = BOLD + OKGREEN + curr_eval + ENDC\n",
        "            curr_best = BOLD + OKGREEN + curr_best + ENDC\n",
        "            x_best_std = BOLD + OKGREEN + x_best_std + ENDC\n",
        "            x_best_std_exact = BOLD + OKGREEN + x_best_std_exact + ENDC\n",
        "        print(self.template.format(eval, proposed, curr_eval, curr_best, x_best_std_exact, x_best_std))\n",
        "        \n",
        "    def run(self, max_iter=10, init_evals=3, resume=False):\n",
        "        \n",
        "        if not resume:\n",
        "            self.init_evals = init_evals\n",
        "            self._firstRun(self.init_evals)\n",
        "            self._printInit()\n",
        "        for iteration in range(max_iter):\n",
        "            self._optimizeAcq()\n",
        "            self.updateGP()\n",
        "            self._printCurrent()\n"
      ]
    },
    {
      "cell_type": "code",
      "execution_count": 10,
      "metadata": {
        "id": "b_B-w81BJxKN"
      },
      "outputs": [],
      "source": [
        "## dGPGO:\n",
        "\n",
        "class dGPGO(GPGO):\n",
        "    n_start = n_start_AcqFunc\n",
        "\n",
        "    def __init__(self, surrogate, acquisition, f, parameter_dict, n_jobs=1):\n",
        "        self.GP = surrogate\n",
        "        self.A = acquisition\n",
        "        self.f = f\n",
        "        self.parameters = parameter_dict\n",
        "        self.n_jobs = n_jobs\n",
        "\n",
        "        self.parameter_key = list(parameter_dict.keys())\n",
        "        self.parameter_value = list(parameter_dict.values())\n",
        "        self.parameter_type = [p[0] for p in self.parameter_value]\n",
        "        self.parameter_range = [p[1] for p in self.parameter_value]\n",
        "\n",
        "        self.history = []\n",
        "        self.header =   'Evaluation \\t Proposed point \\t  Current eval. \\t  Best eval. \\t        Exact ERM: StdDev. x \\t Approx ERM: StdDev. x '\n",
        "        self.template = '{:3}\\t {}\\t {:3}\\t {:3}\\t {:3}\\t {:3}'\n",
        "\n",
        "    def acqfuncExact(self, xnew, n_start=n_start_AcqFunc):\n",
        "        new_mean, new_var = self.GP.predict(xnew, return_std=True)\n",
        "        new_std = np.sqrt(new_var + eps)\n",
        "        dm, ds = self.GP.AcqGrad(xnew)\n",
        "        f, df = self.A.d_eval(self.tau, new_mean, new_std, ds=ds, dm=dm, nu=3.0)\n",
        "\n",
        "        return -f, -df\n",
        "   \n",
        "    def acqfuncApprox(self, xnew, n_start=n_start_AcqFunc):\n",
        "        new_mean, new_var = self.GP.predict(xnew, return_std=True)\n",
        "        new_std = np.sqrt(new_var + eps)\n",
        "        dm, ds = self.GP.AcqGrad(xnew)\n",
        "        f, df = self.A.d_eval(self.tau, new_mean, new_std, ds=ds, dm=dm, nu=3.0)\n",
        "\n",
        "        return -f\n",
        "\n",
        "    def d_optimizeAcq(self, method='L-BFGS-B', n_start=n_start_AcqFunc):\n",
        "        start_points_dict = [self._sampleParam() for i in range(n_start)]\n",
        "        start_points_arr = np.array([list(s.values())\n",
        "                                     for s in start_points_dict])\n",
        "        x_best = np.empty((n_start, len(self.parameter_key)))\n",
        "        f_best = np.empty((n_start,))\n",
        "        opt = Parallel(n_jobs=self.n_jobs)(delayed(minimize)(self.acqfuncExact,\n",
        "                                                                 x0=start_point,\n",
        "                                                                 method=method,\n",
        "                                                                 jac = True,\n",
        "                                                                 bounds=self.parameter_range) for start_point in\n",
        "                                               start_points_arr)\n",
        "        x_best = np.array([res.x for res in opt])\n",
        "        f_best = np.array([np.atleast_1d(res.fun)[0] for res in opt])\n",
        "        f_best_min = min(f_best)\n",
        "\n",
        "        self.x_best = x_best\n",
        "        self.f_best = f_best\n",
        "        self.f_best_min = f_best_min\n",
        "        self.x_best_std = np.std(x_best)\n",
        "        self.best = x_best[np.argmin(f_best)]\n",
        "        self.start_points_arr = start_points_arr\n",
        "        self.history.append(self.x_best_std)\n",
        "\n",
        "        x_best_approx = np.empty((n_start, len(self.parameter_key)))\n",
        "        f_best_approx = np.empty((n_start,))\n",
        "        opt_approx = Parallel(n_jobs=self.n_jobs)(delayed(minimize)(self.acqfuncApprox,\n",
        "                                                                 x0=start_point,\n",
        "                                                                 method=method,\n",
        "                                                                 jac = False,\n",
        "                                                                 bounds=self.parameter_range) for start_point in\n",
        "                                               start_points_arr)\n",
        "        x_best_approx = np.array([res.x for res in opt_approx])\n",
        "        f_best_approx = np.array([np.atleast_1d(res.fun)[0] for res in opt_approx])\n",
        "        f_best_min_approx = min(f_best_approx)\n",
        "\n",
        "        self.x_best_approx = x_best_approx\n",
        "        self.f_best_approx = f_best_approx\n",
        "        self.f_best_min_approx = f_best_min_approx\n",
        "        self.x_best_std_approx = np.std(x_best_approx)\n",
        "        self.best_approx = x_best_approx[np.argmin(f_best_approx)]\n",
        "        self.start_points_arr = start_points_arr\n",
        "        self.history.append(self.x_best_std_approx)\n",
        "    \n",
        "    def _printInit(self):\n",
        "        print(self.header)\n",
        "        for init_eval in range(self.init_evals):\n",
        "            print(self.template.format('init', self.GP.X[init_eval], inverse * self.GP.y[init_eval], inverse * self.tau, '', ''))\n",
        "      \n",
        "    def _printCurrent(self):\n",
        "        OKGREEN = '\\033[92m'\n",
        "        ENDC = '\\033[0m'\n",
        "        BOLD = '\\033[1m'\n",
        "        eval = str(len(self.GP.y) - self.init_evals)\n",
        "        proposed = str(self.best)\n",
        "        curr_eval = str(inverse * self.GP.y[-1])\n",
        "        curr_best = str(inverse * self.tau)\n",
        "        min_acqfunc = str(self.f_best_min)\n",
        "        min_acqfunc_approx = str(self.f_best_min_approx)\n",
        "        x_best_std = str(self.x_best_std)\n",
        "        x_best_std_approx = str(self.x_best_std_approx)\n",
        "        if float(curr_eval) <= float(curr_best):\n",
        "            eval = BOLD + OKGREEN + eval + ENDC\n",
        "            proposed = BOLD + OKGREEN + proposed + ENDC\n",
        "            curr_eval = BOLD + OKGREEN + curr_eval + ENDC\n",
        "            curr_best = BOLD + OKGREEN + curr_best + ENDC\n",
        "            x_best_std = BOLD + OKGREEN + x_best_std + ENDC\n",
        "            x_best_std_approx = BOLD + OKGREEN + x_best_std_approx + ENDC\n",
        "        print(self.template.format(eval, proposed, curr_eval, curr_best, x_best_std, x_best_std_approx))\n",
        "\n",
        "    def run(self, max_iter=10, init_evals=3, resume=False):\n",
        "        \n",
        "        if not resume:\n",
        "            self.init_evals = init_evals\n",
        "            self._firstRun(self.init_evals)\n",
        "            self._printInit()\n",
        "        for iteration in range(max_iter):\n",
        "            self.d_optimizeAcq()\n",
        "            self.updateGP()\n",
        "            self._printCurrent()\n"
      ]
    },
    {
      "cell_type": "code",
      "execution_count": 11,
      "metadata": {
        "id": "qXIKGuXVGEg2"
      },
      "outputs": [],
      "source": [
        "###Reproducible set-seeds:\n",
        "\n",
        "run_num_1 = 1\n",
        "run_num_2 = 2\n",
        "run_num_3 = 3\n",
        "run_num_4 = 4\n",
        "run_num_5 = 5\n",
        "run_num_6 = 6\n",
        "run_num_7 = 7\n",
        "run_num_8 = 8\n",
        "run_num_9 = 9\n",
        "run_num_10 = 10\n",
        "run_num_11 = 11\n",
        "run_num_12 = 12\n",
        "run_num_13 = 13\n",
        "run_num_14 = 14\n",
        "run_num_15 = 15\n",
        "run_num_16 = 16\n",
        "run_num_17 = 17\n",
        "run_num_18 = 18\n",
        "run_num_19 = 19\n",
        "run_num_20 = 20\n"
      ]
    },
    {
      "cell_type": "code",
      "execution_count": 12,
      "metadata": {
        "colab": {
          "base_uri": "https://localhost:8080/"
        },
        "id": "JEhagQmnTVIK",
        "outputId": "5c93629f-e908-448a-fbc7-2ff584e09122"
      },
      "outputs": [
        {
          "output_type": "execute_result",
          "data": {
            "text/plain": [
              "1663322453.8016474"
            ]
          },
          "metadata": {},
          "execution_count": 12
        }
      ],
      "source": [
        "start_approx = time.time()\n",
        "start_approx\n"
      ]
    },
    {
      "cell_type": "code",
      "execution_count": 13,
      "metadata": {
        "colab": {
          "base_uri": "https://localhost:8080/"
        },
        "id": "aH0YSTXufD1v",
        "outputId": "201480b0-426b-4af8-f104-d02294f99667"
      },
      "outputs": [
        {
          "output_type": "stream",
          "name": "stdout",
          "text": [
            "Evaluation \t Proposed point \t  Current eval. \t  Best eval. \t        Exact ERM: StdDev. x \t Approx ERM: StdDev. x \n",
            "init\t [-0.49786797  0.88129797]\t -0.2650082867644827\t -0.2650082867644827\t    \t    \n",
            "init\t [-2.99931375 -0.79066971]\t 110.13991869176735\t -0.2650082867644827\t    \t    \n",
            "init\t [-2.11946466 -1.63064562]\t 26.90935479429681\t -0.2650082867644827\t    \t    \n",
            "init\t [-1.88243873 -0.61775709]\t 2.8558363102363344\t -0.2650082867644827\t    \t    \n",
            "init\t [-0.61939515  0.15526694]\t 1.0540522096005847\t -0.2650082867644827\t    \t    \n",
            "1  \t [1.67724152 2.        ]\t 53.40898910046185\t -0.2650082867644827\t 1.5523791498388229\t 2.080247915139494\n",
            "2  \t [ 3. -2.]\t 150.89999999999998\t -0.2650082867644827\t 1.7011063139980716\t 2.323019119348695\n",
            "3  \t [-2.05111103  2.        ]\t 48.378108455118905\t -0.2650082867644827\t 1.4553146587356933\t 1.669418048188675\n",
            "4  \t [-0.21269103 -1.59977238]\t 16.479339697993275\t -0.2650082867644827\t 1.538701193691688\t 1.7680299096594285\n",
            "5  \t [ 0.85642936 -0.09031954]\t 1.8259412197921716\t -0.2650082867644827\t 1.151216718562092\t 1.34696508373804\n",
            "6  \t [3.         0.61310118]\t 109.8009136712093\t -0.2650082867644827\t 1.1751802756961751\t 1.6761719321824866\n",
            "7  \t [-0.13638039  2.        ]\t 47.80091332139111\t -0.2650082867644827\t 1.1873642573110155\t 1.5818496615364899\n",
            "8  \t [-0.62076869 -0.34960512]\t 1.0365284670082384\t -0.2650082867644827\t 1.5993689574809886\t 1.5221088988834965\n",
            "9  \t [ 0.13834398 -0.15957284]\t -0.04554702187313575\t -0.2650082867644827\t 1.6382998749788351\t 1.4107387875775355\n",
            "10 \t [0.48250611 0.73962213]\t 0.18735528921670208\t -0.2650082867644827\t 1.5601441003813163\t 1.871532968160955\n",
            "11 \t [-1.28956165 -1.138246  ]\t 5.377139985080804\t -0.2650082867644827\t 1.8339593373743297\t 1.6528939494361832\n",
            "12 \t [-1.75166053  0.45836497]\t 0.6649041206625231\t -0.2650082867644827\t 1.969648187816069\t 1.847325982245629\n",
            "13 \t [ 0.93962575 -2.        ]\t 48.244779245273854\t -0.2650082867644827\t 1.6304883953231728\t 1.599619008742457\n",
            "14 \t [-1.45875925 -0.22569552]\t 2.350396560432145\t -0.2650082867644827\t 1.3832714571724005\t 1.6403459191786047\n",
            "15 \t [-3.          1.19152583]\t 107.70906357749492\t -0.2650082867644827\t 1.7625312263885122\t 1.5719101115512721\n",
            "16 \t [-1.21647021  0.88217768]\t 0.6372839144820008\t -0.2650082867644827\t 1.538730636884936\t 1.6135559229986747\n",
            "17 \t [-1.18906233 -2.        ]\t 52.7777671109413\t -0.2650082867644827\t 1.756849942557443\t 1.5465053663990969\n",
            "18 \t [3. 2.]\t 162.89999999999998\t -0.2650082867644827\t 1.3520475716488876\t 1.4419181263664766\n",
            "19 \t [ 1.92204895 -0.48957961]\t 1.2531238910708935\t -0.2650082867644827\t 1.448138209143776\t 1.5223720767520141\n",
            "20 \t [-0.88290306  0.06844589]\t 1.9208185837669634\t -0.2650082867644827\t 1.1069149186365521\t 1.3410386289955525\n"
          ]
        }
      ],
      "source": [
        "### ESTIMATED STP ERM GRADIENTS\n",
        "\n",
        "np.random.seed(run_num_1)\n",
        "surrogate_approx_1 = dtStudentProcess(cov_func, optimize=opt, nu = df)\n",
        "\n",
        "approx_1 = GPGO_multi(surrogate_approx_1, Acquisition_grad(util), objfunc, param)\n",
        "approx_1.run(init_evals=n_init, max_iter=iters)\n"
      ]
    },
    {
      "cell_type": "code",
      "execution_count": 14,
      "metadata": {
        "id": "wTxsSZxFGBB5",
        "colab": {
          "base_uri": "https://localhost:8080/"
        },
        "outputId": "442d3c25-e76f-47c7-82d8-2cc986496d5d"
      },
      "outputs": [
        {
          "output_type": "stream",
          "name": "stdout",
          "text": [
            "Evaluation \t Proposed point \t  Current eval. \t  Best eval. \t        Exact ERM: StdDev. x \t Approx ERM: StdDev. x \n",
            "init\t [-0.38403059 -1.89629507]\t 38.61280125654363\t 0.011939608840498828\t    \t    \n",
            "init\t [ 0.29797487 -0.25871043]\t 0.011939608840498828\t 0.011939608840498828\t    \t    \n",
            "init\t [-0.47779319 -0.67866072]\t 0.1381453419305213\t 0.011939608840498828\t    \t    \n",
            "init\t [-1.7721082   0.47708387]\t 0.626144759281101\t 0.011939608840498828\t    \t    \n",
            "init\t [-1.20207196 -0.9326909 ]\t 3.0693811601417798\t 0.011939608840498828\t    \t    \n",
            "\u001b[1m\u001b[92m1\u001b[0m\t \u001b[1m\u001b[92m[-0.46861625  0.55052924]\u001b[0m\t \u001b[1m\u001b[92m-0.3222178688184678\u001b[0m\t \u001b[1m\u001b[92m-0.3222178688184678\u001b[0m\t \u001b[1m\u001b[92m1.7063464955402254\u001b[0m\t \u001b[1m\u001b[92m2.015995420180774\u001b[0m\n",
            "2  \t [3. 2.]\t 162.89999999999998\t -0.3222178688184678\t 1.378549883783785\t 1.7636223506488407\n",
            "3  \t [ 3. -2.]\t 150.89999999999998\t -0.3222178688184678\t 1.7133821882806652\t 2.372763213925104\n",
            "4  \t [-3.  2.]\t 150.89999999999998\t -0.3222178688184678\t 1.780970945693311\t 1.9849433241279208\n",
            "5  \t [-3.         -1.50972501]\t 125.09237634733785\t -0.3222178688184678\t 1.9942626567760777\t 1.8657986224750043\n",
            "6  \t [0.03745589 2.        ]\t 48.080519413457026\t -0.3222178688184678\t 1.0096856040540887\t 1.3235991150212734\n",
            "7  \t [ 1.36717528 -0.00990596]\t 2.302605528349823\t -0.3222178688184678\t 1.0679963748024741\t 1.0958240832793564\n",
            "8  \t [-1.008415    0.07045043]\t 2.1557435960849194\t -0.3222178688184678\t 1.0448471891522033\t 0.932680912758817\n",
            "9  \t [ 3.        -0.0206367]\t 108.8363871471838\t -0.3222178688184678\t 1.3812130341077509\t 1.5745784939471517\n",
            "10 \t [0.48637805 0.19104726]\t 0.7854001063950445\t -0.3222178688184678\t 1.11989066911745\t 1.001330984411459\n",
            "11 \t [ 1.11498287 -2.        ]\t 48.137657235441566\t -0.3222178688184678\t 1.5095991809750782\t 1.6113863721690305\n",
            "12 \t [-1.20833967  1.49178702]\t 11.506847229453445\t -0.3222178688184678\t 1.4496003136446602\t 1.4586302231345412\n",
            "13 \t [-3.          0.16366195]\t 108.30474300535302\t -0.3222178688184678\t 1.5900813891442496\t 1.4722123817893846\n",
            "14 \t [1.30247346 1.30732996]\t 8.92011855258985\t -0.3222178688184678\t 1.436344646780554\t 1.3382050026005052\n",
            "15 \t [-1.25300885  0.80401356]\t 0.47201032408269006\t -0.3222178688184678\t 1.4619743554782034\t 1.2607055273078833\n",
            "16 \t [-1.58941731 -2.        ]\t 53.255887707844444\t -0.3222178688184678\t 1.425840029718292\t 1.3433158548934405\n",
            "17 \t [ 1.09799144 -0.86203076]\t 0.6440883246129513\t -0.3222178688184678\t 1.256119024692209\t 0.9389522351633965\n",
            "18 \t [ 0.40469322 -1.04804416]\t 0.6084203116105864\t -0.3222178688184678\t 1.2717216334411607\t 1.300163634771236\n",
            "19 \t [0.41792626 1.02327274]\t 1.2612306821026436\t -0.3222178688184678\t 1.2848022058024355\t 1.251709523808963\n",
            "20 \t [-0.94745405  0.08696936]\t 2.0271674247691296\t -0.3222178688184678\t 1.090378285377389\t 0.6232743579686062\n"
          ]
        }
      ],
      "source": [
        "### ESTIMATED STP ERM GRADIENTS\n",
        "\n",
        "np.random.seed(run_num_2)\n",
        "surrogate_approx_2 = dtStudentProcess(cov_func, optimize=opt, nu = df)\n",
        "\n",
        "approx_2 = GPGO_multi(surrogate_approx_2, Acquisition_grad(util), objfunc, param)\n",
        "approx_2.run(init_evals=n_init, max_iter=iters)\n"
      ]
    },
    {
      "cell_type": "code",
      "execution_count": 15,
      "metadata": {
        "id": "-dgzIrUIGCGT",
        "colab": {
          "base_uri": "https://localhost:8080/"
        },
        "outputId": "36258e78-e911-45e8-ffc5-eac9a2626dbf"
      },
      "outputs": [
        {
          "output_type": "stream",
          "name": "stdout",
          "text": [
            "Evaluation \t Proposed point \t  Current eval. \t  Best eval. \t        Exact ERM: StdDev. x \t Approx ERM: StdDev. x \n",
            "init\t [0.30478742 0.83259129]\t -0.2431922946563294\t -0.2431922946563294\t    \t    \n",
            "init\t [-1.25457157  0.04331042]\t 2.3313310458730996\t -0.2431922946563294\t    \t    \n",
            "init\t [2.35768173 1.58517236]\t 33.54152175045586\t -0.2431922946563294\t    \t    \n",
            "init\t [-2.24648814 -1.17102849]\t 14.214109412296352\t -0.2431922946563294\t    \t    \n",
            "init\t [-2.69119678 -0.23676063]\t 45.87579771712209\t -0.2431922946563294\t    \t    \n",
            "1  \t [ 0.3258375  -1.11879867]\t 1.2971357237962424\t -0.2431922946563294\t 1.4900165674832018\t 1.6584036013021333\n",
            "2  \t [ 3. -2.]\t 150.89999999999998\t -0.2431922946563294\t 1.3701243102605096\t 2.0052329134215396\n",
            "3  \t [-1.04771596  2.        ]\t 48.20587764612952\t -0.2431922946563294\t 1.4270356971235\t 1.6900611961003338\n",
            "4  \t [-0.7466569 -2.       ]\t 51.128372019114636\t -0.2431922946563294\t 1.6998119336582311\t 1.4581311737101432\n",
            "5  \t [ 0.80441825 -0.0928419 ]\t 1.6904870338657925\t -0.2431922946563294\t 1.1692739664160683\t 1.6263653753761989\n",
            "6  \t [-3.  2.]\t 150.89999999999998\t -0.2431922946563294\t 1.4250867022662184\t 1.681818312433516\n",
            "7  \t [-3. -2.]\t 162.89999999999998\t -0.2431922946563294\t 1.425580488510666\t 1.453017199635329\n",
            "8  \t [0.77993607 2.        ]\t 51.29104151501141\t -0.2431922946563294\t 1.1316815414402273\t 1.2843116743595009\n",
            "9  \t [-0.2723248  -0.09838669]\t 0.2736776985949387\t -0.2431922946563294\t 1.3471362454121627\t 1.2657588718201942\n",
            "10 \t [3.         0.35484508]\t 109.5242934965306\t -0.2431922946563294\t 1.1477337021670828\t 1.3111611023641012\n",
            "11 \t [-0.04685852 -0.08457821]\t -0.01567323607565283\t -0.2431922946563294\t 1.2756777853126275\t 1.2155254635777728\n",
            "12 \t [ 0.82339897 -2.        ]\t 48.20373145527982\t -0.2431922946563294\t 1.3817345163640358\t 1.0354917251037408\n",
            "13 \t [-1.46492572 -0.83623452]\t 2.5910539831245174\t -0.2431922946563294\t 1.4436360937688355\t 1.5368435625087689\n",
            "14 \t [-0.61272176  0.8240742 ]\t -0.15326012120658283\t -0.2431922946563294\t 1.064046383112575\t 1.4885839278310729\n",
            "15 \t [1.34931618 0.87957089]\t 2.8196110900544182\t -0.2431922946563294\t 1.2243803960514978\t 1.257176875576787\n",
            "16 \t [3. 2.]\t 162.89999999999998\t -0.2431922946563294\t 1.591899442398556\t 1.7053434171404966\n",
            "17 \t [ 1.28626958 -0.95662995]\t 0.838068140019874\t -0.2431922946563294\t 1.4639235916645175\t 1.4035641084857697\n",
            "18 \t [ 0.86161271 -0.11593122]\t 1.7956026713320066\t -0.2431922946563294\t 1.2082998486898604\t 0.7720262040051903\n",
            "19 \t [-0.98617296 -0.37767452]\t 2.093809161592054\t -0.2431922946563294\t 1.2000796686614563\t 0.5550571968238474\n",
            "20 \t [ 0.64867509 -0.63085879]\t -0.03145720472215041\t -0.2431922946563294\t 1.046422056751246\t 0.8704801042344638\n"
          ]
        }
      ],
      "source": [
        "### ESTIMATED STP ERM GRADIENTS\n",
        "\n",
        "np.random.seed(run_num_3)\n",
        "surrogate_approx_3 = dtStudentProcess(cov_func, optimize=opt, nu = df)\n",
        "\n",
        "approx_3 = GPGO_multi(surrogate_approx_3, Acquisition_grad(util), objfunc, param)\n",
        "approx_3.run(init_evals=n_init, max_iter=iters)\n"
      ]
    },
    {
      "cell_type": "code",
      "execution_count": 16,
      "metadata": {
        "id": "hOtG-2sCGCKS",
        "colab": {
          "base_uri": "https://localhost:8080/"
        },
        "outputId": "d7c64496-9d47-4a7f-9699-a6fd996c26dc"
      },
      "outputs": [
        {
          "output_type": "stream",
          "name": "stdout",
          "text": [
            "Evaluation \t Proposed point \t  Current eval. \t  Best eval. \t        Exact ERM: StdDev. x \t Approx ERM: StdDev. x \n",
            "init\t [2.80217903 0.188929  ]\t 63.70212732873661\t 2.3196402150601703\t    \t    \n",
            "init\t [2.83610616 0.85926397]\t 71.43837110827245\t 2.3196402150601703\t    \t    \n",
            "init\t [ 1.18637295 -1.13564202]\t 2.5463267765341566\t 2.3196402150601703\t    \t    \n",
            "init\t [ 2.85764673 -1.97507898]\t 113.76785286351424\t 2.3196402150601703\t    \t    \n",
            "init\t [-1.48210583 -0.26083387]\t 2.3196402150601703\t 2.3196402150601703\t    \t    \n",
            "1  \t [-0.36962289 -2.        ]\t 49.24738295963381\t 2.3196402150601703\t 1.6191237137422436\t 2.107533519781842\n",
            "2  \t [-3.  2.]\t 150.89999999999998\t 2.3196402150601703\t 1.316035789189729\t 2.5030027031992654\n",
            "3  \t [-3. -2.]\t 162.89999999999998\t 2.3196402150601703\t 1.6485225082783013\t 1.787076246580081\n",
            "\u001b[1m\u001b[92m4\u001b[0m\t \u001b[1m\u001b[92m[-0.02254956  0.91735903]\u001b[0m\t \u001b[1m\u001b[92m-0.5520336352748136\u001b[0m\t \u001b[1m\u001b[92m-0.5520336352748136\u001b[0m\t \u001b[1m\u001b[92m1.105951199731035\u001b[0m\t \u001b[1m\u001b[92m1.1173553053307081\u001b[0m\n",
            "5  \t [0.58363323 2.        ]\t 50.29929421023813\t -0.5520336352748136\t 1.5682495784233013\t 1.10908391512013\n",
            "6  \t [ 0.09517296 -0.16392251]\t -0.08413570908605747\t -0.5520336352748136\t 1.5470472305933702\t 1.051426463707873\n",
            "7  \t [-0.91263754  0.50016795]\t 0.8605842185794111\t -0.5520336352748136\t 1.4625803378115472\t 1.3663200462910574\n",
            "8  \t [ 0.65162728 -0.12235786]\t 1.206640014568096\t -0.5520336352748136\t 1.4284422195790942\t 1.100852795404213\n",
            "9  \t [-3.          0.02175036]\t 108.83285751611372\t -0.5520336352748136\t 1.3633697654461265\t 1.563775024931373\n",
            "10 \t [-0.87937555  2.        ]\t 48.232808299075984\t -0.5520336352748136\t 0.8354375774425995\t 1.4799270445957042\n",
            "11 \t [ 0.99009596 -2.        ]\t 48.23694353811152\t -0.5520336352748136\t 1.6559139552651925\t 1.6441695568939494\n",
            "12 \t [-0.9035537  -0.64071624]\t 1.6582721152464344\t -0.5520336352748136\t 1.3493484973139354\t 1.4209711520665238\n",
            "13 \t [3. 2.]\t 162.89999999999998\t -0.5520336352748136\t 1.1792015207726736\t 1.469059479972564\n",
            "14 \t [1.37970084 0.88399766]\t 2.8405211972724103\t -0.5520336352748136\t 1.167195626306394\t 1.2611259190096067\n",
            "15 \t [ 0.45075663 -0.98851552]\t 0.19398627458823137\t -0.5520336352748136\t 1.2697313399121681\t 1.3413555066483298\n",
            "16 \t [-0.85062959 -0.06035077]\t 1.9579148305131442\t -0.5520336352748136\t 1.3686207905673275\t 1.2586604669791253\n",
            "17 \t [-1.48489752 -2.        ]\t 53.15316257919289\t -0.5520336352748136\t 1.0976613758446867\t 1.2025857536981688\n",
            "18 \t [0.66862271 0.76848141]\t 0.944934683672886\t -0.5520336352748136\t 1.420810522294836\t 1.3133354155428627\n",
            "19 \t [ 1.62958    -0.12972774]\t 1.7777946493036576\t -0.5520336352748136\t 1.3580480725590156\t 1.2601355999239021\n",
            "20 \t [6.04200126e-01 3.92273857e-04]\t 1.1968232065869642\t -0.5520336352748136\t 0.9604326840666818\t 0.3019039922319799\n"
          ]
        }
      ],
      "source": [
        "### ESTIMATED STP ERM GRADIENTS\n",
        "\n",
        "np.random.seed(run_num_4)\n",
        "surrogate_approx_4 = dtStudentProcess(cov_func, optimize=opt, nu = df)\n",
        "\n",
        "approx_4= GPGO_multi(surrogate_approx_4, Acquisition_grad(util), objfunc, param)\n",
        "approx_4.run(init_evals=n_init, max_iter=iters)\n"
      ]
    },
    {
      "cell_type": "code",
      "execution_count": 17,
      "metadata": {
        "id": "JF_SxcEvGCOl",
        "colab": {
          "base_uri": "https://localhost:8080/"
        },
        "outputId": "470ce0d3-cde6-41c3-b4f9-db86337e37b3"
      },
      "outputs": [
        {
          "output_type": "stream",
          "name": "stdout",
          "text": [
            "Evaluation \t Proposed point \t  Current eval. \t  Best eval. \t        Exact ERM: StdDev. x \t Approx ERM: StdDev. x \n",
            "init\t [-1.66804097  1.48292922]\t 10.126030408244933\t -0.6512780061070701\t    \t    \n",
            "init\t [-1.75968507  1.67444363]\t 19.4300499315822\t -0.6512780061070701\t    \t    \n",
            "init\t [-0.06953287  0.44697545]\t -0.6512780061070701\t -0.6512780061070701\t    \t    \n",
            "init\t [1.59544714 0.07367195]\t 2.168775388880503\t -0.6512780061070701\t    \t    \n",
            "init\t [-1.21919699 -1.24911509]\t 7.420330936884148\t -0.6512780061070701\t    \t    \n",
            "1  \t [ 3. -2.]\t 150.89999999999998\t -0.6512780061070701\t 1.7311687097305397\t 2.249195899527092\n",
            "2  \t [-2.71763891  0.0135324 ]\t 49.242597735721354\t -0.6512780061070701\t 2.2224763933509535\t 2.015098290143761\n",
            "3  \t [3. 2.]\t 162.89999999999998\t -0.6512780061070701\t 1.5962836494737564\t 2.0533793320893188\n",
            "4  \t [ 0.14294257 -2.        ]\t 47.794971287995445\t -0.6512780061070701\t 1.5926904770068395\t 1.7982311036033995\n",
            "5  \t [0.05447743 2.        ]\t 48.120807543289025\t -0.6512780061070701\t 1.802802177642918\t 1.9535057919406382\n",
            "6  \t [-3. -2.]\t 162.89999999999998\t -0.6512780061070701\t 1.8065605232382438\t 1.8489118979946784\n",
            "7  \t [-3.  2.]\t 150.89999999999998\t -0.6512780061070701\t 1.0865275034660768\t 1.1409611000365085\n",
            "8  \t [-0.9160024   0.05595242]\t 2.0109643592972732\t -0.6512780061070701\t 1.1564178657054898\t 0.91235297121299\n",
            "9  \t [ 0.52939299 -0.49698838]\t -0.043638045576376516\t -0.6512780061070701\t 1.2755698781592442\t 1.2524755754175343\n",
            "10 \t [ 3.         -0.03484924]\t 108.7906002983189\t -0.6512780061070701\t 1.1974957552077634\t 1.3994270438102845\n",
            "11 \t [0.95664836 0.56496936]\t 1.8286016408457368\t -0.6512780061070701\t 1.309592680774293\t 1.0731047797860431\n",
            "12 \t [-1.0488769  2.       ]\t 48.2049970709355\t -0.6512780061070701\t 1.348547342642951\t 1.5180400710477886\n",
            "13 \t [ 1.41385557 -0.99868541]\t 0.8445924010898426\t -0.6512780061070701\t 1.3210128248357835\t 1.4265999097213105\n",
            "14 \t [ 1.16761988 -0.31188985]\t 1.6793561815348508\t -0.6512780061070701\t 1.1264324571681048\t 0.9585270238165858\n",
            "15 \t [-0.47739912 -0.73741066]\t 0.16620965484848949\t -0.6512780061070701\t 1.5194068313241649\t 1.3400589716372098\n",
            "16 \t [1.27789076 2.        ]\t 52.93930141300263\t -0.6512780061070701\t 1.520890487431009\t 1.4236611148606604\n",
            "17 \t [ 1.34055501 -2.        ]\t 47.659819346789746\t -0.6512780061070701\t 1.277810012474498\t 1.2322775583201688\n",
            "18 \t [-1.11470826 -2.        ]\t 52.5968407176939\t -0.6512780061070701\t 1.356882313106009\t 1.1940515777303917\n",
            "19 \t [-1.61187497 -0.48854011]\t 2.1236018872937237\t -0.6512780061070701\t 1.300538106237021\t 1.0729377175360544\n",
            "20 \t [ 0.44100387 -0.11272815]\t 0.60106076711779\t -0.6512780061070701\t 1.067406118545417\t 0.7374660854033578\n"
          ]
        }
      ],
      "source": [
        "### ESTIMATED STP ERM GRADIENTS\n",
        "\n",
        "np.random.seed(run_num_5)\n",
        "surrogate_approx_5 = dtStudentProcess(cov_func, optimize=opt, nu = df)\n",
        "\n",
        "approx_5 = GPGO_multi(surrogate_approx_5, Acquisition_grad(util), objfunc, param)\n",
        "approx_5.run(init_evals=n_init, max_iter=iters)\n"
      ]
    },
    {
      "cell_type": "code",
      "execution_count": 18,
      "metadata": {
        "id": "-kDxZtJsGCR3",
        "colab": {
          "base_uri": "https://localhost:8080/"
        },
        "outputId": "c8adf1de-0122-46e7-d8b9-91b0a8a864fe"
      },
      "outputs": [
        {
          "output_type": "stream",
          "name": "stdout",
          "text": [
            "Evaluation \t Proposed point \t  Current eval. \t  Best eval. \t        Exact ERM: StdDev. x \t Approx ERM: StdDev. x \n",
            "init\t [ 2.35716091 -0.67208078]\t 11.995980169715628\t -0.3096187466378422\t    \t    \n",
            "init\t [ 1.92737474 -1.8332135 ]\t 31.167927894156623\t -0.3096187466378422\t    \t    \n",
            "init\t [-2.35405992  0.38020826]\t 13.013381745677465\t -0.3096187466378422\t    \t    \n",
            "init\t [ 0.17890417 -0.32477029]\t -0.3096187466378422\t -0.3096187466378422\t    \t    \n",
            "init\t [-0.9875529   0.49007773]\t 0.9989196280666852\t -0.3096187466378422\t    \t    \n",
            "1  \t [0.52056271 1.78780631]\t 29.94611738289049\t -0.3096187466378422\t 1.9811723141732869\t 1.7062149986840343\n",
            "2  \t [-1.18370307 -2.        ]\t 52.76616412229985\t -0.3096187466378422\t 2.0353014486316123\t 2.2414648649394677\n",
            "3  \t [3. 2.]\t 162.89999999999998\t -0.3096187466378422\t 1.7079826509890854\t 2.334291022734509\n",
            "4  \t [-3.  2.]\t 150.89999999999998\t -0.3096187466378422\t 1.521940906919992\t 2.153693736743277\n",
            "5  \t [-3.         -1.10083084]\t 113.22929199114246\t -0.3096187466378422\t 1.4132422840685086\t 1.6981080297197952\n",
            "6  \t [1.04689543 0.03386212]\t 2.3311534663572817\t -0.3096187466378422\t 1.1977363864638817\t 1.734298989813047\n",
            "7  \t [ 3. -2.]\t 150.89999999999998\t -0.3096187466378422\t 1.0986917958148592\t 1.6135756449138818\n",
            "8  \t [ 0.55826227 -2.        ]\t 47.936220037054646\t -0.3096187466378422\t 1.0455224458605714\t 1.4462469624494265\n",
            "\u001b[1m\u001b[92m9\u001b[0m\t \u001b[1m\u001b[92m[-0.30201673  0.44787149]\u001b[0m\t \u001b[1m\u001b[92m-0.42903922834711866\u001b[0m\t \u001b[1m\u001b[92m-0.42903922834711866\u001b[0m\t \u001b[1m\u001b[92m0.8146002862563352\u001b[0m\t \u001b[1m\u001b[92m0.8859297964148809\u001b[0m\n",
            "10 \t [-0.74809245  2.        ]\t 48.143091936308586\t -0.42903922834711866\t 1.0335516463205696\t 1.1470556958213363\n",
            "11 \t [-0.80540226 -0.15450537]\t 1.833273623946504\t -0.42903922834711866\t 0.9489349171567727\t 1.1338433196098878\n",
            "12 \t [ 1.41312436 -0.9042994 ]\t 0.39388908837167314\t -0.42903922834711866\t 1.4146583760649023\t 1.8998798698128532\n",
            "13 \t [ 1.38251988 -0.0312025 ]\t 2.254075690935079\t -0.42903922834711866\t 1.0598223439216965\t 0.7869011842568784\n",
            "14 \t [3.         0.14400833]\t 109.25079172117339\t -0.42903922834711866\t 1.4208511008802958\t 1.6571277592501414\n",
            "15 \t [ 1.80873593 -0.69568971]\t 0.02434374549585494\t -0.42903922834711866\t 1.5243440320684747\t 1.5487723495669692\n",
            "16 \t [1.29122034 1.04371988]\t 4.1134250283974385\t -0.42903922834711866\t 1.3776885653198188\t 1.522333582565714\n",
            "17 \t [1.43037016 2.        ]\t 53.10884460708469\t -0.42903922834711866\t 1.3817704583721073\t 1.47458210187326\n",
            "18 \t [-1.72478067 -0.00868092]\t 2.1051817707942426\t -0.42903922834711866\t 1.4206033522774753\t 1.3407350762625798\n",
            "19 \t [ 0.69118303 -0.04580144]\t 1.4279671437233195\t -0.42903922834711866\t 1.022661883231966\t 0.7210807110878777\n",
            "20 \t [0.55367388 0.64578558]\t 0.4235574441242572\t -0.42903922834711866\t 1.26513799271647\t 1.2265524216830364\n"
          ]
        }
      ],
      "source": [
        "### ESTIMATED STP ERM GRADIENTS\n",
        "\n",
        "np.random.seed(run_num_6)\n",
        "surrogate_approx_6 = dtStudentProcess(cov_func, optimize=opt, nu = df)\n",
        "\n",
        "approx_6 = GPGO_multi(surrogate_approx_6, Acquisition_grad(util), objfunc, param)\n",
        "approx_6.run(init_evals=n_init, max_iter=iters)\n"
      ]
    },
    {
      "cell_type": "code",
      "execution_count": 19,
      "metadata": {
        "id": "fKB8MCD_GCVI",
        "colab": {
          "base_uri": "https://localhost:8080/"
        },
        "outputId": "b7404ffe-6f7b-4568-b7d9-0d55a13fef57"
      },
      "outputs": [
        {
          "output_type": "stream",
          "name": "stdout",
          "text": [
            "Evaluation \t Proposed point \t  Current eval. \t  Best eval. \t        Exact ERM: StdDev. x \t Approx ERM: StdDev. x \n",
            "init\t [-2.54215026  1.11967517]\t 26.53843863832488\t -0.46481072558790276\t    \t    \n",
            "init\t [-0.36954461  0.89386071]\t -0.46481072558790276\t -0.46481072558790276\t    \t    \n",
            "init\t [2.86793707 0.15398348]\t 76.66051064695093\t -0.46481072558790276\t    \t    \n",
            "init\t [ 0.00672278 -1.71179547]\t 22.613010892757885\t -0.46481072558790276\t    \t    \n",
            "init\t [-1.38936612e+00 -4.69996698e-04]\t 2.294585534557751\t -0.46481072558790276\t    \t    \n",
            "1  \t [-3. -2.]\t 162.89999999999998\t -0.46481072558790276\t 1.682729343407361\t 2.002203453438559\n",
            "2  \t [0.77298944 2.        ]\t 51.257392931545844\t -0.46481072558790276\t 1.028764371931932\t 1.7658774160245363\n",
            "3  \t [ 3. -2.]\t 150.89999999999998\t -0.46481072558790276\t 1.5540089963424546\t 2.0435442561615695\n",
            "4  \t [-0.4522468   0.37454932]\t 0.08129919115999285\t -0.46481072558790276\t 1.4248307492843064\t 1.4892514221878534\n",
            "5  \t [-1.29005859  2.        ]\t 47.79696026980582\t -0.46481072558790276\t 1.3501512775253401\t 2.1187541461003123\n",
            "6  \t [3. 2.]\t 162.89999999999998\t -0.46481072558790276\t 1.9503853392220671\t 2.0633600970707575\n",
            "7  \t [ 0.51630149 -0.19686144]\t 0.6727109234336167\t -0.46481072558790276\t 1.2558597964274734\t 1.2340405324757766\n",
            "8  \t [-3.          0.02946472]\t 108.80813619121612\t -0.46481072558790276\t 1.5119822577825874\t 1.660505593703068\n",
            "9  \t [-0.479753   -0.40510565]\t 0.4591060508955549\t -0.46481072558790276\t 1.1523015546124435\t 1.1281474722853655\n",
            "10 \t [-3.  2.]\t 150.89999999999998\t -0.46481072558790276\t 1.5663902624189914\t 1.6045155556549047\n",
            "11 \t [-0.35533863 -0.0077126 ]\t 0.4747555698256969\t -0.46481072558790276\t 1.115241421736628\t 0.8189386981754249\n",
            "12 \t [-1.65067905  0.85146395]\t -0.15187489591334802\t -0.46481072558790276\t 1.319674970567913\t 1.3540664573672851\n",
            "13 \t [-1.12672329 -2.        ]\t 52.62901274744488\t -0.46481072558790276\t 1.3530031781377283\t 1.4025194853398246\n",
            "14 \t [ 1.22332676 -1.30851801]\t 5.677324470385237\t -0.46481072558790276\t 1.250969189319483\t 1.1726728668526447\n",
            "15 \t [0.99221465 0.70183292]\t 1.9172491696916873\t -0.46481072558790276\t 1.1875717511814903\t 1.2416887798188403\n",
            "16 \t [ 1.55951335 -0.27297559]\t 1.4004921388719624\t -0.46481072558790276\t 1.390356569096194\t 1.198186173911553\n",
            "17 \t [ 1.00058962 -2.        ]\t 48.23309623409333\t -0.46481072558790276\t 1.2074940768255058\t 1.2577992032893404\n",
            "18 \t [0.31127976 0.80433516]\t -0.29507618687021553\t -0.46481072558790276\t 1.406795966885215\t 1.2990513591977801\n",
            "19 \t [ 0.9758452  -0.80014372]\t 0.4904519864168183\t -0.46481072558790276\t 1.335825189241001\t 1.2398576344195262\n",
            "20 \t [ 0.60303709 -0.07322917]\t 1.127437856181565\t -0.46481072558790276\t 1.058671210344918\t 0.5693361832272278\n"
          ]
        }
      ],
      "source": [
        "### ESTIMATED STP ERM GRADIENTS\n",
        "\n",
        "np.random.seed(run_num_7)\n",
        "surrogate_approx_7 = dtStudentProcess(cov_func, optimize=opt, nu = df)\n",
        "\n",
        "approx_7 = GPGO_multi(surrogate_approx_7, Acquisition_grad(util), objfunc, param)\n",
        "approx_7.run(init_evals=n_init, max_iter=iters)\n"
      ]
    },
    {
      "cell_type": "code",
      "execution_count": 20,
      "metadata": {
        "id": "4unvifF-GCXp",
        "colab": {
          "base_uri": "https://localhost:8080/"
        },
        "outputId": "039818bb-033d-4f36-df89-f173f98cf284"
      },
      "outputs": [
        {
          "output_type": "stream",
          "name": "stdout",
          "text": [
            "Evaluation \t Proposed point \t  Current eval. \t  Best eval. \t        Exact ERM: StdDev. x \t Approx ERM: StdDev. x \n",
            "init\t [2.24057642 1.87416265]\t 48.82879577505094\t 0.03190064766213015\t    \t    \n",
            "init\t [2.21516724 0.12342277]\t 8.660623551418242\t 0.03190064766213015\t    \t    \n",
            "init\t [-1.60363003 -1.95440478]\t 48.28332373939171\t 0.03190064766213015\t    \t    \n",
            "init\t [-0.41718709 -0.39059456]\t 0.2801229037700297\t 0.03190064766213015\t    \t    \n",
            "init\t [ 0.13604803 -0.08643282]\t 0.03190064766213015\t 0.03190064766213015\t    \t    \n",
            "1  \t [-1.5021619   1.58259595]\t 14.859645176335144\t 0.03190064766213015\t 1.379462543331053\t 2.0428491237748405\n",
            "2  \t [ 3. -2.]\t 150.89999999999998\t 0.03190064766213015\t 1.6179878644083228\t 2.1830428205662264\n",
            "3  \t [-3.          0.26266095]\t 107.85509294895928\t 0.03190064766213015\t 0.9101179147431379\t 1.8685974663701759\n",
            "4  \t [-0.00953197  2.        ]\t 47.98129948384075\t 0.03190064766213015\t 1.077570016215551\t 1.9156014288535066\n",
            "5  \t [ 0.41204203 -2.        ]\t 47.796129711053375\t 0.03190064766213015\t 1.4728517128507361\t 1.806559917794863\n",
            "6  \t [0.95929556 0.03188891]\t 2.188893612694903\t 0.03190064766213015\t 1.4806857474840431\t 1.687237290743662\n",
            "7  \t [-0.50806574  0.28384909]\t 0.45780131088854337\t 0.03190064766213015\t 1.260802601759797\t 1.7098967164545005\n",
            "8  \t [-3.  2.]\t 150.89999999999998\t 0.03190064766213015\t 1.4811267359552411\t 1.7580419355747054\n",
            "9  \t [-3. -2.]\t 162.89999999999998\t 0.03190064766213015\t 2.084515164500574\t 1.9303306427577842\n",
            "10 \t [3.         0.74629859]\t 110.15187425070737\t 0.03190064766213015\t 1.6313458628439068\t 1.542571910377337\n",
            "\u001b[1m\u001b[92m11\u001b[0m\t \u001b[1m\u001b[92m[ 1.6928551 -0.6524547]\u001b[0m\t \u001b[1m\u001b[92m-0.020711894524908625\u001b[0m\t \u001b[1m\u001b[92m-0.020711894524908625\u001b[0m\t \u001b[1m\u001b[92m1.4053392743010216\u001b[0m\t \u001b[1m\u001b[92m1.3420030251201085\u001b[0m\n",
            "12 \t [1.16109266 1.24097766]\t 7.160090826915816\t -0.020711894524908625\t 1.382385625843306\t 1.3864337985180815\n",
            "13 \t [-0.67063241 -2.        ]\t 50.7458065501754\t -0.020711894524908625\t 1.5377684656055766\t 1.2824923455391037\n",
            "14 \t [-1.58750232 -0.34712487]\t 2.2056134580407982\t -0.020711894524908625\t 1.5298960414256504\t 1.4353269124549637\n",
            "15 \t [-1.43070422  0.56078434]\t 0.5830707104398611\t -0.020711894524908625\t 1.374030597820475\t 1.2496805431485807\n",
            "16 \t [1.26693625 2.        ]\t 52.92237233648346\t -0.020711894524908625\t 1.6216382590371923\t 1.3809396068635\n",
            "17 \t [-0.87083496  1.19035475]\t 3.297626093556506\t -0.020711894524908625\t 1.4615187074468532\t 1.3049876357560029\n",
            "18 \t [1.56899126 0.56646831]\t 2.1105776211787957\t -0.020711894524908625\t 1.4665216702122437\t 1.4481493915761492\n",
            "19 \t [ 1.10493933 -0.08465929]\t 2.2379599429427772\t -0.020711894524908625\t 1.2604341876005676\t 1.004708974235957\n",
            "20 \t [0.38514066 0.8362962 ]\t 0.02933466916954075\t -0.020711894524908625\t 1.6875614464807167\t 1.3653387590535702\n"
          ]
        }
      ],
      "source": [
        "### ESTIMATED STP ERM GRADIENTS\n",
        "\n",
        "np.random.seed(run_num_8)\n",
        "surrogate_approx_8 = dtStudentProcess(cov_func, optimize=opt, nu = df)\n",
        "\n",
        "approx_8 = GPGO_multi(surrogate_approx_8, Acquisition_grad(util), objfunc, param)\n",
        "approx_8.run(init_evals=n_init, max_iter=iters)\n"
      ]
    },
    {
      "cell_type": "code",
      "execution_count": 21,
      "metadata": {
        "id": "85OIXcg7GCaJ",
        "colab": {
          "base_uri": "https://localhost:8080/"
        },
        "outputId": "03142696-04de-440c-e4fa-c84c6d394ec4"
      },
      "outputs": [
        {
          "output_type": "stream",
          "name": "stdout",
          "text": [
            "Evaluation \t Proposed point \t  Current eval. \t  Best eval. \t        Exact ERM: StdDev. x \t Approx ERM: StdDev. x \n",
            "init\t [-2.93775508  0.00749837]\t 92.35857237145763\t 1.395407492769129\t    \t    \n",
            "init\t [-0.02536024 -1.46468188]\t 9.867672894921913\t 1.395407492769129\t    \t    \n",
            "init\t [-2.14733349 -1.1257653 ]\t 10.24680089963123\t 1.395407492769129\t    \t    \n",
            "init\t [-0.48895092 -1.00759533]\t 1.395407492769129\t 1.395407492769129\t    \t    \n",
            "init\t [-2.49564209 -0.61800544]\t 24.58298635463645\t 1.395407492769129\t    \t    \n",
            "1  \t [3. 2.]\t 162.89999999999998\t 1.395407492769129\t 1.4928371361929869\t 1.406385481311127\n",
            "2  \t [ 3. -2.]\t 150.89999999999998\t 1.395407492769129\t 1.5382211303594755\t 1.9153400186958698\n",
            "3  \t [-0.45842079  2.        ]\t 47.83410848886047\t 1.395407492769129\t 1.5092316842022633\t 1.9007964706253488\n",
            "4  \t [0.84829335 0.04114285]\t 1.9433221635922282\t 1.395407492769129\t 1.5589073505529867\t 1.7121195804710276\n",
            "5  \t [-1.48316087 -2.        ]\t 53.151748612205935\t 1.395407492769129\t 1.5663320668876877\t 1.359495195791513\n",
            "6  \t [-3.  2.]\t 150.89999999999998\t 1.395407492769129\t 1.3836759181776996\t 1.48156314449125\n",
            "\u001b[1m\u001b[92m7\u001b[0m\t \u001b[1m\u001b[92m[-0.40894536  0.08455287]\u001b[0m\t \u001b[1m\u001b[92m0.5488017477366025\u001b[0m\t \u001b[1m\u001b[92m0.5488017477366025\u001b[0m\t \u001b[1m\u001b[92m1.0208184780435219\u001b[0m\t \u001b[1m\u001b[92m1.2221124417761808\u001b[0m\n",
            "8  \t [-3. -2.]\t 162.89999999999998\t 0.5488017477366025\t 1.0254904617767528\t 1.1540867288152405\n",
            "9  \t [-1.50984341 -0.46732624]\t 2.1770824428670137\t 0.5488017477366025\t 1.3132612668208654\t 1.495297189365298\n",
            "\u001b[1m\u001b[92m10\u001b[0m\t \u001b[1m\u001b[92m[ 0.91799741 -0.80074066]\u001b[0m\t \u001b[1m\u001b[92m0.42365651649547065\u001b[0m\t \u001b[1m\u001b[92m0.42365651649547065\u001b[0m\t \u001b[1m\u001b[92m0.9207454639184083\u001b[0m\t \u001b[1m\u001b[92m0.810672679065447\u001b[0m\n",
            "11 \t [ 2.48793024 -0.03953931]\t 23.247147299377772\t 0.42365651649547065\t 0.9620099002188852\t 1.6502192179303643\n",
            "12 \t [0.97326345 2.        ]\t 52.13454291466552\t 0.42365651649547065\t 1.3340360045649269\t 1.3998117254632958\n",
            "\u001b[1m\u001b[92m13\u001b[0m\t \u001b[1m\u001b[92m[ 0.19513647 -0.47340733]\u001b[0m\t \u001b[1m\u001b[92m-0.6386413295718953\u001b[0m\t \u001b[1m\u001b[92m-0.6386413295718953\u001b[0m\t \u001b[1m\u001b[92m1.025662292689028\u001b[0m\t \u001b[1m\u001b[92m1.0005281233319594\u001b[0m\n",
            "14 \t [ 1.089033 -2.      ]\t 48.16815365470008\t -0.6386413295718953\t 1.2541860041243127\t 1.4107629012170095\n",
            "15 \t [0.15288654 0.90096084]\t -0.3811976789327623\t -0.6386413295718953\t 1.2923415199188195\t 1.1544681671419832\n",
            "16 \t [-1.09628908  0.99954861]\t 1.253335582822719\t -0.6386413295718953\t 1.3143420902732337\t 1.3652452157832706\n",
            "17 \t [-0.52621163  0.82890005]\t -0.34252962315361957\t -0.6386413295718953\t 1.256089062733317\t 1.380223280249995\n",
            "18 \t [1.47195442 0.82739689]\t 2.5529501695330232\t -0.6386413295718953\t 1.334639298379343\t 1.3594757841044443\n",
            "19 \t [-0.97865071 -0.03465446]\t 2.226667729290358\t -0.6386413295718953\t 1.1100829246020236\t 0.8167704816094824\n",
            "20 \t [ 1.66682149 -0.16239934]\t 1.6785206137791218\t -0.6386413295718953\t 1.3547567108916672\t 1.497937209403013\n"
          ]
        }
      ],
      "source": [
        "### ESTIMATED STP ERM GRADIENTS\n",
        "\n",
        "np.random.seed(run_num_9)\n",
        "surrogate_approx_9 = dtStudentProcess(cov_func, optimize=opt, nu = df)\n",
        "\n",
        "approx_9 = GPGO_multi(surrogate_approx_9, Acquisition_grad(util), objfunc, param)\n",
        "approx_9.run(init_evals=n_init, max_iter=iters)\n"
      ]
    },
    {
      "cell_type": "code",
      "execution_count": 22,
      "metadata": {
        "id": "QQBR-qJPGCcp",
        "colab": {
          "base_uri": "https://localhost:8080/"
        },
        "outputId": "ad843bd1-3e40-48aa-90ba-756cfa87dd61"
      },
      "outputs": [
        {
          "output_type": "stream",
          "name": "stdout",
          "text": [
            "Evaluation \t Proposed point \t  Current eval. \t  Best eval. \t        Exact ERM: StdDev. x \t Approx ERM: StdDev. x \n",
            "init\t [ 1.62792386 -1.9169922 ]\t 38.25414770674631\t 0.7775687473184012\t    \t    \n",
            "init\t [0.80188941 0.99521553]\t 2.552651714051803\t 0.7775687473184012\t    \t    \n",
            "init\t [-0.00895793 -1.10081342]\t 1.0367630165263393\t 0.7775687473184012\t    \t    \n",
            "init\t [-1.81162281  1.04212285]\t 0.7775687473184012\t 0.7775687473184012\t    \t    \n",
            "init\t [-1.98533498 -1.64664074]\t 25.383481436170044\t 0.7775687473184012\t    \t    \n",
            "1  \t [3. 2.]\t 162.89999999999998\t 0.7775687473184012\t 1.4860378436860349\t 1.898779522257203\n",
            "2  \t [-3.  2.]\t 150.89999999999998\t 0.7775687473184012\t 1.1251818654217005\t 1.9377462117796227\n",
            "3  \t [-0.61244265  2.        ]\t 47.997600960263085\t 0.7775687473184012\t 1.3704762172311558\t 1.8618193956685198\n",
            "4  \t [ 3.        -0.3369147]\t 107.48674930206634\t 0.7775687473184012\t 1.405302844570576\t 2.0718030177815683\n",
            "5  \t [-0.96544948  0.00636476]\t 2.167523684833025\t 0.7775687473184012\t 1.573955638848537\t 1.4265825608999463\n",
            "6  \t [-3.         -0.45193299]\t 109.60568677150889\t 0.7775687473184012\t 1.6260156652203852\t 1.611200370674878\n",
            "7  \t [-0.51797359 -2.        ]\t 49.96440688296167\t 0.7775687473184012\t 1.2279025512936979\t 1.4834943908766964\n",
            "\u001b[1m\u001b[92m8\u001b[0m\t \u001b[1m\u001b[92m[0.24916646 0.0313496 ]\u001b[0m\t \u001b[1m\u001b[92m0.2442051467129546\u001b[0m\t \u001b[1m\u001b[92m0.2442051467129546\u001b[0m\t \u001b[1m\u001b[92m1.1783268531047097\u001b[0m\t \u001b[1m\u001b[92m1.4813730537675271\u001b[0m\n",
            "\u001b[1m\u001b[92m9\u001b[0m\t \u001b[1m\u001b[92m[-0.41933589  0.32615458]\u001b[0m\t \u001b[1m\u001b[92m0.12323798625945531\u001b[0m\t \u001b[1m\u001b[92m0.12323798625945531\u001b[0m\t \u001b[1m\u001b[92m1.2750459180270663\u001b[0m\t \u001b[1m\u001b[92m1.6796213574737264\u001b[0m\n",
            "10 \t [-3. -2.]\t 162.89999999999998\t 0.12323798625945531\t 1.7820075965735798\t 1.8311998928536162\n",
            "11 \t [ 0.66878767 -0.15349445]\t 1.2041387226496523\t 0.12323798625945531\t 0.9205788497808889\t 1.236324715310929\n",
            "12 \t [ 3. -2.]\t 150.89999999999998\t 0.12323798625945531\t 1.5017852074998246\t 1.3654018543023305\n",
            "13 \t [0.98230491 2.        ]\t 52.16851368510369\t 0.12323798625945531\t 1.4321146661200128\t 1.3192380324896122\n",
            "14 \t [-1.27569832 -1.11204515]\t 4.973793704099771\t 0.12323798625945531\t 1.2984097228518932\t 1.2580227063009635\n",
            "15 \t [ 0.77902926 -1.37170569]\t 7.295015904423864\t 0.12323798625945531\t 1.42837329307143\t 1.2655630256045993\n",
            "16 \t [-1.25344874  0.82505418]\t 0.4899949337554115\t 0.12323798625945531\t 1.3261492298240949\t 0.9429731915517082\n",
            "17 \t [1.63476699 0.55908339]\t 2.1083095887218617\t 0.12323798625945531\t 1.4916823914884778\t 1.2818145006770867\n",
            "18 \t [-1.96937284  0.43724421]\t 1.8921654363843294\t 0.12323798625945531\t 1.398904458627205\t 1.4855608357121024\n",
            "19 \t [1.13532901 0.4501214 ]\t 2.2455000003756407\t 0.12323798625945531\t 1.3202662375896541\t 1.2545415714512722\n",
            "\u001b[1m\u001b[92m20\u001b[0m\t \u001b[1m\u001b[92m[ 1.56041566 -0.68382139]\u001b[0m\t \u001b[1m\u001b[92m0.03836284743197094\u001b[0m\t \u001b[1m\u001b[92m0.03836284743197094\u001b[0m\t \u001b[1m\u001b[92m1.4526743435540102\u001b[0m\t \u001b[1m\u001b[92m1.2647683448298979\u001b[0m\n"
          ]
        }
      ],
      "source": [
        "### ESTIMATED STP ERM GRADIENTS\n",
        "\n",
        "np.random.seed(run_num_10)\n",
        "surrogate_approx_10 = dtStudentProcess(cov_func, optimize=opt, nu = df)\n",
        "\n",
        "approx_10 = GPGO_multi(surrogate_approx_10, Acquisition_grad(util), objfunc, param)\n",
        "approx_10.run(init_evals=n_init, max_iter=iters)\n"
      ]
    },
    {
      "cell_type": "code",
      "execution_count": 23,
      "metadata": {
        "id": "JS8ejeQ2GCfi",
        "colab": {
          "base_uri": "https://localhost:8080/"
        },
        "outputId": "5bd24151-4180-4ffd-ef3a-bdf151e8d15b"
      },
      "outputs": [
        {
          "output_type": "stream",
          "name": "stdout",
          "text": [
            "Evaluation \t Proposed point \t  Current eval. \t  Best eval. \t        Exact ERM: StdDev. x \t Approx ERM: StdDev. x \n",
            "init\t [-1.91838187 -1.92209903]\t 46.39910375151002\t -0.6254688257880329\t    \t    \n",
            "init\t [-0.22068884  0.89973572]\t -0.6254688257880329\t -0.6254688257880329\t    \t    \n",
            "init\t [-0.47877837 -0.05829161]\t 0.8249470187639529\t -0.6254688257880329\t    \t    \n",
            "init\t [-2.92331511 -0.05051357]\t 88.99028404075307\t -0.6254688257880329\t    \t    \n",
            "init\t [2.65083991 1.40318036]\t 51.423425402262914\t -0.6254688257880329\t    \t    \n",
            "1  \t [ 1.80791127 -2.        ]\t 46.66295397773219\t -0.6254688257880329\t 1.153613064528092\t 2.163113811253916\n",
            "2  \t [-0.95715366  2.        ]\t 48.24400878476384\t -0.6254688257880329\t 0.6682021296531826\t 1.4673092639483283\n",
            "3  \t [0.63671746 0.05755564]\t 1.3221382530044827\t -0.6254688257880329\t 1.067582817185036\t 1.877499233212796\n",
            "\u001b[1m\u001b[92m4\u001b[0m\t \u001b[1m\u001b[92m[ 0.02537865 -0.84327007]\u001b[0m\t \u001b[1m\u001b[92m-0.8405653452897837\u001b[0m\t \u001b[1m\u001b[92m-0.8405653452897837\u001b[0m\t \u001b[1m\u001b[92m1.3551500279738244\u001b[0m\t \u001b[1m\u001b[92m1.6907896467381358\u001b[0m\n",
            "5  \t [0.25781044 0.11851668]\t 0.23184468345302042\t -0.8405653452897837\t 1.1794652052789352\t 1.454016278053086\n",
            "6  \t [ 3.         -0.61935477]\t 106.09613123920026\t -0.8405653452897837\t 1.441619507769051\t 1.6774439420125713\n",
            "7  \t [0.89608572 2.        ]\t 51.82262777160357\t -0.8405653452897837\t 1.8743740651213727\t 2.1914997355296775\n",
            "8  \t [-0.01788585 -2.        ]\t 48.03705110177471\t -0.8405653452897837\t 1.8323739205307652\t 1.9870517623463468\n",
            "9  \t [-3.  2.]\t 150.89999999999998\t -0.8405653452897837\t 1.5002838285564986\t 2.098738757648346\n",
            "10 \t [-3. -2.]\t 162.89999999999998\t -0.8405653452897837\t 1.7478264933879866\t 1.932023933050415\n",
            "11 \t [-1.08369463 -1.11173104]\t 4.712404315491089\t -0.8405653452897837\t 1.681376874161991\t 1.6835807177053876\n",
            "12 \t [ 0.96524675 -0.84094611]\t 0.5334478634145495\t -0.8405653452897837\t 1.4779671407741444\t 1.6771884787324498\n",
            "13 \t [-1.32187979  0.66078471]\t 0.49854494581600084\t -0.8405653452897837\t 1.262367240742465\t 1.6042053931931588\n",
            "14 \t [ 3. -2.]\t 150.89999999999998\t -0.8405653452897837\t 1.2878230498619807\t 1.741852210879285\n",
            "15 \t [-1.53136778 -0.25230525]\t 2.278371203830049\t -0.8405653452897837\t 1.574116096766954\t 1.3187511655556388\n",
            "16 \t [3. 2.]\t 162.89999999999998\t -0.8405653452897837\t 1.4068840231606714\t 1.5326494308306446\n",
            "17 \t [2.0320119  0.67161214]\t 4.553038244259951\t -0.8405653452897837\t 1.3040070205734022\t 1.3097549179298666\n",
            "18 \t [1.46504071 1.11766935]\t 5.089574385373205\t -0.8405653452897837\t 1.46834312513244\t 1.2360329343119039\n",
            "19 \t [-0.65575275 -0.05102811]\t 1.3813135545356077\t -0.8405653452897837\t 0.9190276282078748\t 0.6741640418454579\n",
            "20 \t [1.35778327 0.22693471]\t 2.438253245972016\t -0.8405653452897837\t 1.1192348090508522\t 0.932430766842827\n"
          ]
        }
      ],
      "source": [
        "### ESTIMATED STP ERM GRADIENTS\n",
        "\n",
        "np.random.seed(run_num_11)\n",
        "surrogate_approx_11 = dtStudentProcess(cov_func, optimize=opt, nu = df)\n",
        "\n",
        "approx_11 = GPGO_multi(surrogate_approx_11, Acquisition_grad(util), objfunc, param)\n",
        "approx_11.run(init_evals=n_init, max_iter=iters)\n"
      ]
    },
    {
      "cell_type": "code",
      "execution_count": 24,
      "metadata": {
        "id": "DXwjUVZ4GCii",
        "colab": {
          "base_uri": "https://localhost:8080/"
        },
        "outputId": "74c025f2-4490-4494-9f0f-fe2c32ecbc3a"
      },
      "outputs": [
        {
          "output_type": "stream",
          "name": "stdout",
          "text": [
            "Evaluation \t Proposed point \t  Current eval. \t  Best eval. \t        Exact ERM: StdDev. x \t Approx ERM: StdDev. x \n",
            "init\t [-2.07502295  0.96019879]\t 2.6185857163917037\t 1.9967735906956543\t    \t    \n",
            "init\t [-1.42010991  0.13495757]\t 1.9967735906956543\t 1.9967735906956543\t    \t    \n",
            "init\t [-2.91255023  1.67498803]\t 101.67816714332157\t 1.9967735906956543\t    \t    \n",
            "init\t [ 2.40428912 -1.86631429]\t 47.44624883788006\t 1.9967735906956543\t    \t    \n",
            "init\t [ 2.74169602 -1.45116271]\t 58.32400185681089\t 1.9967735906956543\t    \t    \n",
            "1  \t [-0.39796511  1.51771797]\t 11.98814082990124\t 1.9967735906956543\t 1.9851259270337431\t 1.9083975026557198\n",
            "2  \t [3. 2.]\t 162.89999999999998\t 1.9967735906956543\t 2.0390854027137775\t 2.1385866850297983\n",
            "3  \t [-3. -2.]\t 162.89999999999998\t 1.9967735906956543\t 1.9043214006442977\t 1.5037822366936882\n",
            "\u001b[1m\u001b[92m4\u001b[0m\t \u001b[1m\u001b[92m[-0.01726545 -1.11421704]\u001b[0m\t \u001b[1m\u001b[92m1.2195977190780267\u001b[0m\t \u001b[1m\u001b[92m1.2195977190780267\u001b[0m\t \u001b[1m\u001b[92m1.1466217271453596\u001b[0m\t \u001b[1m\u001b[92m1.1702310655759138\u001b[0m\n",
            "5  \t [0.6669988  0.18706424]\t 1.3829564778045016\t 1.2195977190780267\t 1.025959447267443\t 0.7148252646933312\n",
            "6  \t [-0.0575654 -2.       ]\t 48.12836284141048\t 1.2195977190780267\t 1.33400564785345\t 1.1231454964140937\n",
            "\u001b[1m\u001b[92m7\u001b[0m\t \u001b[1m\u001b[92m[-0.47403996  0.07321765]\u001b[0m\t \u001b[1m\u001b[92m0.740559214530259\u001b[0m\t \u001b[1m\u001b[92m0.740559214530259\u001b[0m\t \u001b[1m\u001b[92m1.123116755678571\u001b[0m\t \u001b[1m\u001b[92m1.0822941593830142\u001b[0m\n",
            "\u001b[1m\u001b[92m8\u001b[0m\t \u001b[1m\u001b[92m[ 1.08583751 -0.87554288]\u001b[0m\t \u001b[1m\u001b[92m0.6767712238469065\u001b[0m\t \u001b[1m\u001b[92m0.6767712238469065\u001b[0m\t \u001b[1m\u001b[92m1.4714858242213522\u001b[0m\t \u001b[1m\u001b[92m1.4978199933568652\u001b[0m\n",
            "9  \t [0.82399655 2.        ]\t 51.500108169603585\t 0.6767712238469065\t 1.2192019069489095\t 1.3213085880493713\n",
            "10 \t [-1.30662072  2.        ]\t 47.75358985020763\t 0.6767712238469065\t 1.4249454155429355\t 1.7429886173215179\n",
            "11 \t [-3.          0.09627716]\t 108.57443502974661\t 0.6767712238469065\t 1.4369420634435206\t 1.4043967054365265\n",
            "\u001b[1m\u001b[92m12\u001b[0m\t \u001b[1m\u001b[92m[-1.32816611  0.8543405 ]\u001b[0m\t \u001b[1m\u001b[92m0.4278138524166911\u001b[0m\t \u001b[1m\u001b[92m0.4278138524166911\u001b[0m\t \u001b[1m\u001b[92m1.2521475133744118\u001b[0m\t \u001b[1m\u001b[92m1.3092619110740222\u001b[0m\n",
            "13 \t [2.12360481 0.08509394]\t 6.0540586409582025\t 0.4278138524166911\t 1.3364653874198158\t 1.5325839297206307\n",
            "14 \t [-0.9903682 -1.0201285]\t 3.397155176099227\t 0.4278138524166911\t 1.377469665750608\t 1.4178066958936213\n",
            "15 \t [3.         0.05040057]\t 109.04106665794987\t 0.4278138524166911\t 1.3337647565683546\t 1.4956266507507237\n",
            "16 \t [ 1.48118097 -0.08653175]\t 2.02988226917737\t 0.4278138524166911\t 1.1297659243188751\t 1.4712403465437145\n",
            "17 \t [-0.63401999  0.04603051]\t 1.2525988735287943\t 0.4278138524166911\t 0.965112985993315\t 0.6974543782006678\n",
            "18 \t [1.63061772 0.76301031]\t 2.326239461544147\t 0.4278138524166911\t 1.2937234707618488\t 1.6203922261516919\n",
            "19 \t [1.19293497 0.07850312]\t 2.4692950254706285\t 0.4278138524166911\t 1.1459818174464933\t 1.141550467814996\n",
            "20 \t [ 1.20706006 -2.        ]\t 47.98689395990708\t 0.4278138524166911\t 1.396067857958051\t 1.5884435427501649\n"
          ]
        }
      ],
      "source": [
        "### ESTIMATED STP ERM GRADIENTS\n",
        "\n",
        "np.random.seed(run_num_12)\n",
        "surrogate_approx_12 = dtStudentProcess(cov_func, optimize=opt, nu = df)\n",
        "\n",
        "approx_12 = GPGO_multi(surrogate_approx_12, Acquisition_grad(util), objfunc, param)\n",
        "approx_12.run(init_evals=n_init, max_iter=iters)\n"
      ]
    },
    {
      "cell_type": "code",
      "execution_count": 25,
      "metadata": {
        "id": "CphOPndPGClX",
        "colab": {
          "base_uri": "https://localhost:8080/"
        },
        "outputId": "70798371-2dd4-49ad-b3ec-54a093d7df3e"
      },
      "outputs": [
        {
          "output_type": "stream",
          "name": "stdout",
          "text": [
            "Evaluation \t Proposed point \t  Current eval. \t  Best eval. \t        Exact ERM: StdDev. x \t Approx ERM: StdDev. x \n",
            "init\t [ 1.66621446 -1.04983512]\t 0.752930921147986\t 0.752930921147986\t    \t    \n",
            "init\t [1.9456712  1.86299679]\t 41.05776363102951\t 0.752930921147986\t    \t    \n",
            "init\t [ 2.83560668 -0.18620301]\t 69.0134544723513\t 0.752930921147986\t    \t    \n",
            "init\t [0.65425478 1.10210606]\t 3.117452174069064\t 0.752930921147986\t    \t    \n",
            "init\t [0.84968007 0.88807292]\t 2.006601529383926\t 0.752930921147986\t    \t    \n",
            "1  \t [ 0.13950176 -1.18087059]\t 2.112518138044028\t 0.752930921147986\t 1.632770117543796\t 0.6663985133887933\n",
            "2  \t [-1.11925837  1.01400836]\t 1.3517396460327082\t 0.752930921147986\t 2.012502931303499\t 1.4964614576685418\n",
            "3  \t [-3. -2.]\t 162.89999999999998\t 0.752930921147986\t 1.9820057712762045\t 1.7289739823199362\n",
            "4  \t [-3.  2.]\t 150.89999999999998\t 0.752930921147986\t 1.6939293268009832\t 2.1150238218455555\n",
            "5  \t [ 3. -2.]\t 150.89999999999998\t 0.752930921147986\t 1.8355565615164264\t 1.8252856920829712\n",
            "\u001b[1m\u001b[92m6\u001b[0m\t \u001b[1m\u001b[92m[-0.36035064  0.00278347]\u001b[0m\t \u001b[1m\u001b[92m0.48369660025092587\u001b[0m\t \u001b[1m\u001b[92m0.48369660025092587\u001b[0m\t \u001b[1m\u001b[92m1.5399721011964003\u001b[0m\t \u001b[1m\u001b[92m0.98666645642192\u001b[0m\n",
            "7  \t [-0.26103928  2.        ]\t 47.740842072895965\t 0.48369660025092587\t 1.4923374042780293\t 1.3817410544284359\n",
            "8  \t [ 0.45044073 -2.        ]\t 47.827039197638406\t 0.48369660025092587\t 1.571089582927688\t 1.6137233160928892\n",
            "9  \t [ 0.93984509 -0.55721376]\t 0.7444380148620894\t 0.48369660025092587\t 1.7219470544770483\t 1.6641787224618385\n",
            "10 \t [-1.28344234 -0.16955943]\t 2.4866219876046514\t 0.48369660025092587\t 1.6304984877344435\t 1.1765085429630577\n",
            "11 \t [-0.94661409 -1.59930012]\t 19.58938125285829\t 0.48369660025092587\t 1.5951987299019237\t 1.969082286172884\n",
            "12 \t [ 0.51126048 -0.03699244]\t 0.8836440696506235\t 0.48369660025092587\t 1.6045122013244932\t 1.096229387809459\n",
            "13 \t [-3.          0.06020246]\t 108.70494783277172\t 0.48369660025092587\t 1.924066841787568\t 1.6524651330071192\n",
            "14 \t [3. 2.]\t 162.89999999999998\t 0.48369660025092587\t 1.3982669411376185\t 1.2783242191168205\n",
            "15 \t [1.09354171 2.        ]\t 52.5374011495388\t 0.48369660025092587\t 1.354823670071122\t 1.27476269150246\n",
            "\u001b[1m\u001b[92m16\u001b[0m\t \u001b[1m\u001b[92m[-0.20641235  0.83131066]\u001b[0m\t \u001b[1m\u001b[92m-0.858912539326991\u001b[0m\t \u001b[1m\u001b[92m-0.858912539326991\u001b[0m\t \u001b[1m\u001b[92m1.1738101151321292\u001b[0m\t \u001b[1m\u001b[92m1.2166064469417688\u001b[0m\n",
            "17 \t [-0.64882596 -0.81166377]\t 0.9641026405574565\t -0.858912539326991\t 1.5418803540860628\t 1.3034018686028337\n",
            "18 \t [1.20818975 0.04553015]\t 2.447752996216165\t -0.858912539326991\t 0.7964472737228977\t 0.7361129222567939\n",
            "19 \t [-0.48339743  0.15398076]\t 0.657253348886295\t -0.858912539326991\t 1.077338721078041\t 0.6796181395203813\n",
            "20 \t [ 0.25418082 -0.02320195]\t 0.2417060163524494\t -0.858912539326991\t 1.1122276535897058\t 0.7766676906576211\n"
          ]
        }
      ],
      "source": [
        "### ESTIMATED STP ERM GRADIENTS\n",
        "\n",
        "np.random.seed(run_num_13)\n",
        "surrogate_approx_13 = dtStudentProcess(cov_func, optimize=opt, nu = df)\n",
        "\n",
        "approx_13 = GPGO_multi(surrogate_approx_13, Acquisition_grad(util), objfunc, param)\n",
        "approx_13.run(init_evals=n_init, max_iter=iters)\n"
      ]
    },
    {
      "cell_type": "code",
      "execution_count": 26,
      "metadata": {
        "id": "ojHTeARNGCoi",
        "colab": {
          "base_uri": "https://localhost:8080/"
        },
        "outputId": "0aca6b3c-e3cf-4026-a6b8-9b8c2f6d3dcc"
      },
      "outputs": [
        {
          "output_type": "stream",
          "name": "stdout",
          "text": [
            "Evaluation \t Proposed point \t  Current eval. \t  Best eval. \t        Exact ERM: StdDev. x \t Approx ERM: StdDev. x \n",
            "init\t [0.08366006 1.09266021]\t 1.0453292732107575\t -1.029299726828387\t    \t    \n",
            "init\t [ 2.22256611 -1.96781221]\t 48.81113313056442\t -1.029299726828387\t    \t    \n",
            "init\t [-1.14158445  1.83041496]\t 31.794043287944216\t -1.029299726828387\t    \t    \n",
            "init\t [ 0.07870027 -0.7268623 ]\t -1.029299726828387\t -1.029299726828387\t    \t    \n",
            "init\t [ 0.23519962 -1.11498023]\t 1.161934062902255\t -1.029299726828387\t    \t    \n",
            "1  \t [1.87686581 1.48413849]\t 15.984285742915556\t -1.029299726828387\t 2.063049350885115\t 1.777867080315758\n",
            "2  \t [-1.85509997 -1.63421163]\t 23.359042405263022\t -1.029299726828387\t 2.074840353775241\t 1.6724858526645465\n",
            "3  \t [-3.          0.42013143]\t 107.058187740562\t -1.029299726828387\t 1.6258562317788798\t 1.5621006991312034\n",
            "4  \t [3.         0.26267231]\t 109.43107216674912\t -1.029299726828387\t 1.5521066893672248\t 1.723283535343559\n",
            "5  \t [-0.18779622 -2.        ]\t 48.514064775742874\t -1.029299726828387\t 1.2547088349064368\t 1.6856270269130715\n",
            "6  \t [0.32996802 0.12087839]\t 0.39334478800726536\t -1.029299726828387\t 1.0868181685075793\t 1.7946680022768193\n",
            "7  \t [0.77957126 2.        ]\t 51.289278703708106\t -1.029299726828387\t 1.197962417815929\t 1.6454687911409487\n",
            "8  \t [-3. -2.]\t 162.89999999999998\t -1.029299726828387\t 2.296846336139523\t 2.127554269587684\n",
            "9  \t [-0.63496493 -0.08730622]\t 1.3183829894530608\t -1.029299726828387\t 1.1635756808811095\t 1.6400107404490734\n",
            "10 \t [ 0.30409692 -0.03093895]\t 0.33897130536681697\t -1.029299726828387\t 1.1785875073659995\t 1.6755249465996684\n",
            "11 \t [-0.38356726 -0.05273877]\t 0.5532357877046781\t -1.029299726828387\t 1.192952311189197\t 1.6039176716807684\n",
            "12 \t [3. 2.]\t 162.89999999999998\t -1.029299726828387\t 1.5556174498809863\t 1.8355680840899447\n",
            "13 \t [0.87459353 0.00479878]\t 1.9842465144632833\t -1.029299726828387\t 1.2791178619574246\t 1.4381252744697972\n",
            "14 \t [-3.  2.]\t 150.89999999999998\t -1.029299726828387\t 1.3895020108728564\t 2.0525832376576147\n",
            "15 \t [-1.37050231 -0.97977044]\t 3.502267272282139\t -1.029299726828387\t 1.3019181767355326\t 1.588477526006508\n",
            "16 \t [1.34827824 0.96572274]\t 3.3848975613253236\t -1.029299726828387\t 1.4427801478206812\t 1.7106016044479235\n",
            "17 \t [-0.72883984  0.8411815 ]\t 0.14149642145229535\t -1.029299726828387\t 1.4419771575361437\t 1.8887499715902927\n",
            "18 \t [-0.69965197 -0.27581784]\t 1.4057674745823738\t -1.029299726828387\t 0.8508870643610188\t 1.0713458827840345\n",
            "19 \t [ 1.16776428 -1.03335794]\t 1.4778197636532198\t -1.029299726828387\t 1.192865471042728\t 1.6066449490290458\n",
            "20 \t [0.6249663  0.13141499]\t 1.2760711595003906\t -1.029299726828387\t 1.0344984891701139\t 1.1324593651670067\n"
          ]
        }
      ],
      "source": [
        "### ESTIMATED STP ERM GRADIENTS\n",
        "\n",
        "np.random.seed(run_num_14)\n",
        "surrogate_approx_14 = dtStudentProcess(cov_func, optimize=opt, nu = df)\n",
        "\n",
        "approx_14 = GPGO_multi(surrogate_approx_14, Acquisition_grad(util), objfunc, param)\n",
        "approx_14.run(init_evals=n_init, max_iter=iters)\n"
      ]
    },
    {
      "cell_type": "code",
      "execution_count": 27,
      "metadata": {
        "id": "vCJzn4vWGCs3",
        "colab": {
          "base_uri": "https://localhost:8080/"
        },
        "outputId": "884aa6cf-df99-42d6-850b-998998fdca17"
      },
      "outputs": [
        {
          "output_type": "stream",
          "name": "stdout",
          "text": [
            "Evaluation \t Proposed point \t  Current eval. \t  Best eval. \t        Exact ERM: StdDev. x \t Approx ERM: StdDev. x \n",
            "init\t [ 2.09290618 -1.2844163 ]\t 6.84252100896936\t 2.1163170846379233\t    \t    \n",
            "init\t [-2.67382071 -0.55384622]\t 43.69785230561242\t 2.1163170846379233\t    \t    \n",
            "init\t [-1.34759443  0.1200009 ]\t 2.1163170846379233\t 2.1163170846379233\t    \t    \n",
            "init\t [-1.16448651 -0.78210256]\t 2.3544087277459513\t 2.1163170846379233\t    \t    \n",
            "init\t [-2.32955234 -1.00040394]\t 15.469119251600274\t 2.1163170846379233\t    \t    \n",
            "\u001b[1m\u001b[92m1\u001b[0m\t \u001b[1m\u001b[92m[0.03950798 0.73854207]\u001b[0m\t \u001b[1m\u001b[92m-0.9563225103200679\u001b[0m\t \u001b[1m\u001b[92m-0.9563225103200679\u001b[0m\t \u001b[1m\u001b[92m1.287424496135133\u001b[0m\t \u001b[1m\u001b[92m1.5016571982537847\u001b[0m\n",
            "2  \t [-1.03393206  2.        ]\t 48.21555174008953\t -0.9563225103200679\t 1.4132878514184362\t 1.927252970552931\n",
            "3  \t [ 0.20645227 -0.43634122]\t -0.539958354070923\t -0.9563225103200679\t 1.436013064744709\t 1.6194969926994538\n",
            "4  \t [1.70430917 1.14676841]\t 5.681613236588538\t -0.9563225103200679\t 1.545312883883097\t 1.7461420126016385\n",
            "5  \t [-0.193941 -2.      ]\t 48.535381206033435\t -0.9563225103200679\t 1.8747354435711077\t 1.9985964529112246\n",
            "6  \t [3. 2.]\t 162.89999999999998\t -0.9563225103200679\t 1.5533256552754446\t 2.058590443607387\n",
            "7  \t [1.1050629  0.17968243]\t 2.433652406862706\t -0.9563225103200679\t 1.3331823829904297\t 2.0117582982339743\n",
            "8  \t [ 3. -2.]\t 150.89999999999998\t -0.9563225103200679\t 1.7549002764599848\t 2.2229048006454697\n",
            "9  \t [-3.  2.]\t 150.89999999999998\t -0.9563225103200679\t 1.298107587182931\t 1.7108267651910078\n",
            "10 \t [ 1.53824562 -0.26721991]\t 1.4468657681723234\t -0.9563225103200679\t 1.425572216239517\t 1.4391648309296199\n",
            "11 \t [0.63234469 2.        ]\t 50.549674976422466\t -0.9563225103200679\t 1.3670401484360934\t 1.5241827293197117\n",
            "12 \t [-3. -2.]\t 162.89999999999998\t -0.9563225103200679\t 1.4239350995978814\t 1.1314444186027723\n",
            "13 \t [-0.48904056  0.00166823]\t 0.8402600876129948\t -0.9563225103200679\t 1.1487046492001864\t 0.9461939229805326\n",
            "14 \t [ 1.20242301 -1.55581312]\t 14.284267002804683\t -0.9563225103200679\t 1.4436983732662976\t 1.5852311322817854\n",
            "15 \t [ 3.         -0.11846564]\t 108.48925445379838\t -0.9563225103200679\t 1.318009385020898\t 1.5590874999820998\n",
            "16 \t [-1.44313801 -2.        ]\t 53.11938888215741\t -0.9563225103200679\t 1.4457830390070365\t 1.3433985314072792\n",
            "17 \t [ 1.50572739 -0.92073882]\t 0.25636669535266066\t -0.9563225103200679\t 1.1399491033460134\t 1.0971686174279052\n",
            "18 \t [-1.76490596 -0.61540065]\t 2.303304753913992\t -0.9563225103200679\t 1.2396216901737687\t 1.205600191788016\n",
            "19 \t [1.03875283 0.80460581]\t 2.2125196788538513\t -0.9563225103200679\t 1.1209900012325027\t 1.1845012892143933\n",
            "20 \t [ 0.70536514 -0.06793351]\t 1.4450753602652522\t -0.9563225103200679\t 1.1438172265265079\t 0.8461366618560077\n"
          ]
        }
      ],
      "source": [
        "### ESTIMATED STP ERM GRADIENTS\n",
        "\n",
        "np.random.seed(run_num_15)\n",
        "surrogate_approx_15 = dtStudentProcess(cov_func, optimize=opt, nu = df)\n",
        "\n",
        "approx_15 = GPGO_multi(surrogate_approx_15, Acquisition_grad(util), objfunc, param)\n",
        "approx_15.run(init_evals=n_init, max_iter=iters)\n"
      ]
    },
    {
      "cell_type": "code",
      "execution_count": 28,
      "metadata": {
        "id": "bGGkhp-kGCw6",
        "colab": {
          "base_uri": "https://localhost:8080/"
        },
        "outputId": "d7261b6f-f441-4c1a-c307-1bbf1bf94ca2"
      },
      "outputs": [
        {
          "output_type": "stream",
          "name": "stdout",
          "text": [
            "Evaluation \t Proposed point \t  Current eval. \t  Best eval. \t        Exact ERM: StdDev. x \t Approx ERM: StdDev. x \n",
            "init\t [-1.66025353  0.09265337]\t 1.8632773736203017\t 1.8632773736203017\t    \t    \n",
            "init\t [ 0.30420874 -1.8175922 ]\t 30.24114424375299\t 1.8632773736203017\t    \t    \n",
            "init\t [-0.83562699 -1.10767623]\t 3.922061281476444\t 1.8632773736203017\t    \t    \n",
            "init\t [ 1.13235697 -1.3450743 ]\t 6.7121671493737685\t 1.8632773736203017\t    \t    \n",
            "init\t [-2.5780508   1.76404344]\t 53.42443470756798\t 1.8632773736203017\t    \t    \n",
            "1  \t [3.         0.29091966]\t 109.46287381217955\t 1.8632773736203017\t 1.7765899256627646\t 2.1998951314082835\n",
            "2  \t [-3. -2.]\t 162.89999999999998\t 1.8632773736203017\t 1.6299260468366725\t 1.9421154186655638\n",
            "3  \t [0.33905805 2.        ]\t 49.110710610509955\t 1.8632773736203017\t 1.2899951588312502\t 1.74669524564533\n",
            "4  \t [ 3. -2.]\t 150.89999999999998\t 1.8632773736203017\t 1.3183110424451072\t 1.7684876509692746\n",
            "\u001b[1m\u001b[92m5\u001b[0m\t \u001b[1m\u001b[92m[-0.02267122 -0.00222094]\u001b[0m\t \u001b[1m\u001b[92m0.0020860033347475946\u001b[0m\t \u001b[1m\u001b[92m0.0020860033347475946\u001b[0m\t \u001b[1m\u001b[92m1.4784693654212062\u001b[0m\t \u001b[1m\u001b[92m1.5601842907840076\u001b[0m\n",
            "6  \t [-0.80676731  0.18213368]\t 1.5305404501238344\t 0.0020860033347475946\t 1.1953657454030477\t 1.7808056989064636\n",
            "7  \t [ 0.70243573 -0.14008458]\t 1.327086696872374\t 0.0020860033347475946\t 1.144401314427977\t 1.676402415286034\n",
            "8  \t [3. 2.]\t 162.89999999999998\t 0.0020860033347475946\t 1.3236475062171726\t 1.7193227193750473\n",
            "9  \t [-3.          0.22476536]\t 108.03383490565264\t 0.0020860033347475946\t 1.4564101204313153\t 1.3114426843191267\n",
            "10 \t [-1.19872001  2.        ]\t 48.00324315044443\t 0.0020860033347475946\t 1.1704285997600101\t 1.6086154692107368\n",
            "11 \t [-1.24707147 -0.46327294]\t 2.298966579818835\t 0.0020860033347475946\t 1.3500639170016726\t 1.317083697644904\n",
            "\u001b[1m\u001b[92m12\u001b[0m\t \u001b[1m\u001b[92m[ 0.25573284 -0.77252062]\u001b[0m\t \u001b[1m\u001b[92m-0.907378594848663\u001b[0m\t \u001b[1m\u001b[92m-0.907378594848663\u001b[0m\t \u001b[1m\u001b[92m1.508189732050592\u001b[0m\t \u001b[1m\u001b[92m1.3768970226735233\u001b[0m\n",
            "13 \t [-1.17082153 -2.        ]\t 52.73737138543851\t -0.907378594848663\t 1.318011742802307\t 1.3983095581892986\n",
            "14 \t [1.14184684 1.00899887]\t 3.609943362992051\t -0.907378594848663\t 1.200555725858617\t 1.545524237191464\n",
            "15 \t [0.40089247 0.82474149]\t 0.050520091919838306\t -0.907378594848663\t 1.0569153745900557\t 1.4553403543736498\n",
            "16 \t [-1.54713086  0.88171944]\t 0.05778813053307186\t -0.907378594848663\t 1.1238591489710261\t 1.3226302740518001\n",
            "17 \t [ 1.76888719 -0.57683114]\t 0.2588299523486811\t -0.907378594848663\t 1.2753426838818938\t 1.4067903844396301\n",
            "18 \t [-0.45342774 -0.64854827]\t 0.05579449230082645\t -0.907378594848663\t 1.3262578597531096\t 1.4017560681506192\n",
            "19 \t [ 1.28716849 -0.74787828]\t 0.4301237182877068\t -0.907378594848663\t 1.2557490307804806\t 1.5518372729161014\n",
            "20 \t [ 0.87713235 -0.06397768]\t 1.9137965383096605\t -0.907378594848663\t 1.0495958909932248\t 0.9115611960320719\n"
          ]
        }
      ],
      "source": [
        "### ESTIMATED STP ERM GRADIENTS\n",
        "\n",
        "np.random.seed(run_num_16)\n",
        "surrogate_approx_16 = dtStudentProcess(cov_func, optimize=opt, nu = df)\n",
        "\n",
        "approx_16 = GPGO_multi(surrogate_approx_16, Acquisition_grad(util), objfunc, param)\n",
        "approx_16.run(init_evals=n_init, max_iter=iters)\n"
      ]
    },
    {
      "cell_type": "code",
      "execution_count": 29,
      "metadata": {
        "id": "Yrs2mp7hGC1Z",
        "colab": {
          "base_uri": "https://localhost:8080/"
        },
        "outputId": "8e91ccd6-d115-4f13-c38e-2fdd92005517"
      },
      "outputs": [
        {
          "output_type": "stream",
          "name": "stdout",
          "text": [
            "Evaluation \t Proposed point \t  Current eval. \t  Best eval. \t        Exact ERM: StdDev. x \t Approx ERM: StdDev. x \n",
            "init\t [-1.23200998  0.12234702]\t 2.189206652278967\t 1.7722768782964888\t    \t    \n",
            "init\t [-1.85087528 -1.72839857]\t 29.406067820453675\t 1.7722768782964888\t    \t    \n",
            "init\t [1.72191276 0.62533409]\t 2.2113401446731897\t 1.7722768782964888\t    \t    \n",
            "init\t [0.82512538 0.30241158]\t 1.7722768782964888\t 1.7722768782964888\t    \t    \n",
            "init\t [-2.7656225  -0.56874558]\t 57.5922315952177\t 1.7722768782964888\t    \t    \n",
            "1  \t [-0.77062713  1.93147135]\t 40.9628421504404\t 1.7722768782964888\t 1.4051418994107843\t 1.9058503266977593\n",
            "2  \t [ 3. -2.]\t 150.89999999999998\t 1.7722768782964888\t 1.6386747108053936\t 2.365903632864196\n",
            "3  \t [3. 2.]\t 162.89999999999998\t 1.7722768782964888\t 1.5400885734929177\t 1.8769909498743513\n",
            "4  \t [-3.  2.]\t 150.89999999999998\t 1.7722768782964888\t 1.3437943914844628\t 1.839437565412227\n",
            "5  \t [ 0.16903632 -1.38652873]\t 6.971804304757533\t 1.7722768782964888\t 1.1003632435334492\t 1.3867777738677023\n",
            "\u001b[1m\u001b[92m6\u001b[0m\t \u001b[1m\u001b[92m[-0.12657087 -0.12582074]\u001b[0m\t \u001b[1m\u001b[92m0.017147432005197027\u001b[0m\t \u001b[1m\u001b[92m0.017147432005197027\u001b[0m\t \u001b[1m\u001b[92m1.1605345489140275\u001b[0m\t \u001b[1m\u001b[92m1.2429149588449178\u001b[0m\n",
            "7  \t [ 1.16189202 -0.46587112]\t 1.171856747402186\t 0.017147432005197027\t 1.232570337365226\t 1.291953634483162\n",
            "8  \t [-0.26177136 -2.        ]\t 48.787886245672475\t 0.017147432005197027\t 1.3442153705227184\t 1.4527439097321468\n",
            "9  \t [0.8064232 2.       ]\t 51.417676793120236\t 0.017147432005197027\t 1.7578269159151874\t 1.8504432040804342\n",
            "10 \t [ 0.61355408 -0.20331961]\t 0.9427111626921518\t 0.017147432005197027\t 1.0178861450336634\t 1.1706571089190758\n",
            "11 \t [-3. -2.]\t 162.89999999999998\t 0.017147432005197027\t 1.7648644713442942\t 1.8218267576187335\n",
            "12 \t [-1.13154852 -0.8735806 ]\t 2.6439919438531745\t 0.017147432005197027\t 1.2387615398971106\t 1.3698277049259904\n",
            "13 \t [ 3.         -0.02191587]\t 108.83233209254783\t 0.017147432005197027\t 1.304069906011995\t 1.5457273428053184\n",
            "14 \t [ 1.13376647 -2.        ]\t 48.11227752595963\t 0.017147432005197027\t 1.055315889884947\t 1.3621804073624808\n",
            "\u001b[1m\u001b[92m15\u001b[0m\t \u001b[1m\u001b[92m[-0.55933944  0.84171414]\u001b[0m\t \u001b[1m\u001b[92m-0.24084525196286044\u001b[0m\t \u001b[1m\u001b[92m-0.24084525196286044\u001b[0m\t \u001b[1m\u001b[92m1.1918226181496017\u001b[0m\t \u001b[1m\u001b[92m1.3362362527465863\u001b[0m\n",
            "16 \t [-3.         0.4540259]\t 106.88333825412097\t -0.24084525196286044\t 1.1395443553038074\t 1.242525574640689\n",
            "17 \t [ 0.62578481 -0.93672244]\t 0.24808190998831509\t -0.24084525196286044\t 1.185313584083971\t 1.0962235536394496\n",
            "18 \t [-1.34700981  1.04142784]\t 1.299403086964713\t -0.24084525196286044\t 1.3324248618210255\t 1.3341153960608887\n",
            "19 \t [1.41636227 0.22195706]\t 2.391250202385042\t -0.24084525196286044\t 1.2489999262352243\t 1.256321015751636\n",
            "20 \t [-0.47846011 -0.04393239]\t 0.8229568121575612\t -0.24084525196286044\t 1.1241931355549108\t 0.21726378824968853\n"
          ]
        }
      ],
      "source": [
        "### ESTIMATED STP ERM GRADIENTS\n",
        "\n",
        "np.random.seed(run_num_17)\n",
        "surrogate_approx_17 = dtStudentProcess(cov_func, optimize=opt, nu = df)\n",
        "\n",
        "approx_17 = GPGO_multi(surrogate_approx_17, Acquisition_grad(util), objfunc, param)\n",
        "approx_17.run(init_evals=n_init, max_iter=iters)\n"
      ]
    },
    {
      "cell_type": "code",
      "execution_count": 30,
      "metadata": {
        "id": "f0HIEP3PIUEa",
        "colab": {
          "base_uri": "https://localhost:8080/"
        },
        "outputId": "4dc58b57-1874-445f-d554-b1b236a8bab9"
      },
      "outputs": [
        {
          "output_type": "stream",
          "name": "stdout",
          "text": [
            "Evaluation \t Proposed point \t  Current eval. \t  Best eval. \t        Exact ERM: StdDev. x \t Approx ERM: StdDev. x \n",
            "init\t [0.90224545 0.02181349]\t 2.062169771852028\t 2.062169771852028\t    \t    \n",
            "init\t [ 2.27160883 -1.2726391 ]\t 11.64729291207819\t 2.062169771852028\t    \t    \n",
            "init\t [2.11339841 1.00054514]\t 7.792128760671214\t 2.062169771852028\t    \t    \n",
            "init\t [0.99661    1.95158179]\t 46.96206222999227\t 2.062169771852028\t    \t    \n",
            "init\t [-1.45818946 -1.8867763 ]\t 41.4190528039297\t 2.062169771852028\t    \t    \n",
            "1  \t [-3.  2.]\t 150.89999999999998\t 2.062169771852028\t 1.728375659886469\t 2.2729182622755477\n",
            "2  \t [ 0.79269653 -2.        ]\t 48.181604181967735\t 2.062169771852028\t 1.6636056626918772\t 1.9383259223151332\n",
            "3  \t [3.         0.05316002]\t 109.04820806615628\t 2.062169771852028\t 1.5192860394391081\t 2.144922362324172\n",
            "\u001b[1m\u001b[92m4\u001b[0m\t \u001b[1m\u001b[92m[-0.68986235  0.29605076]\u001b[0m\t \u001b[1m\u001b[92m0.9398489511360246\u001b[0m\t \u001b[1m\u001b[92m0.9398489511360246\u001b[0m\t \u001b[1m\u001b[92m1.8213560435864546\u001b[0m\t \u001b[1m\u001b[92m1.922203277082587\u001b[0m\n",
            "5  \t [-3.         -0.79671473]\t 110.36277914822932\t 0.9398489511360246\t 1.406949289091731\t 1.9611604926793622\n",
            "6  \t [3. 2.]\t 162.89999999999998\t 0.9398489511360246\t 1.402193977806697\t 1.5546492390095235\n",
            "7  \t [ 3. -2.]\t 150.89999999999998\t 0.9398489511360246\t 1.1990266413056867\t 1.8415800775784978\n",
            "8  \t [-0.65275037  2.        ]\t 48.04336791150655\t 0.9398489511360246\t 0.8494867753811828\t 1.407767107900871\n",
            "\u001b[1m\u001b[92m9\u001b[0m\t \u001b[1m\u001b[92m[-0.02809943 -0.37189974]\u001b[0m\t \u001b[1m\u001b[92m-0.4631125119885836\u001b[0m\t \u001b[1m\u001b[92m-0.4631125119885836\u001b[0m\t \u001b[1m\u001b[92m1.0724497645252848\u001b[0m\t \u001b[1m\u001b[92m0.8943158943611471\u001b[0m\n",
            "10 \t [0.82476443 0.25537984]\t 1.8209170545560822\t -0.4631125119885836\t 1.1672419795990638\t 0.8967413720405577\n",
            "11 \t [ 1.09768336 -0.44961328]\t 1.2152623384005237\t -0.4631125119885836\t 1.1099426267460717\t 0.9068191673668463\n",
            "12 \t [-0.20707996 -0.08145079]\t 0.15819904154645775\t -0.4631125119885836\t 1.038010014737801\t 0.9879489509435689\n",
            "13 \t [0.35063882 0.28977319]\t 0.254600551023053\t -0.4631125119885836\t 1.1521427607446224\t 1.046432727818028\n",
            "14 \t [-1.8818803   0.56430501]\t 0.7032838266105104\t -0.4631125119885836\t 1.5951201232386498\t 1.3805228976945434\n",
            "15 \t [ 1.75177777 -1.06794679]\t 0.9020577755730719\t -0.4631125119885836\t 1.8955323423441417\t 1.6043832698492446\n",
            "16 \t [1.56775044 0.94584376]\t 3.2003070211653877\t -0.4631125119885836\t 1.8068563434232876\t 1.4173279604341449\n",
            "17 \t [-1.47364399 -0.30132298]\t 2.3105915511146446\t -0.4631125119885836\t 1.6644313346586708\t 1.7058177802332177\n",
            "18 \t [-0.39284825 -2.        ]\t 49.35422366168245\t -0.4631125119885836\t 1.9106613624628581\t 1.7221037743805405\n",
            "19 \t [-1.18802402  0.28312322]\t 1.7681977470526742\t -0.4631125119885836\t 1.214753624709709\t 1.3246112796278653\n",
            "20 \t [-3. -2.]\t 162.89999999999998\t -0.4631125119885836\t 1.6633424025990051\t 1.629097400225846\n"
          ]
        }
      ],
      "source": [
        "### ESTIMATED STP ERM GRADIENTS\n",
        "\n",
        "np.random.seed(run_num_18)\n",
        "surrogate_approx_18 = dtStudentProcess(cov_func, optimize=opt, nu = df)\n",
        "\n",
        "approx_18 = GPGO_multi(surrogate_approx_18, Acquisition_grad(util), objfunc, param)\n",
        "approx_18.run(init_evals=n_init, max_iter=iters)\n"
      ]
    },
    {
      "cell_type": "code",
      "execution_count": 31,
      "metadata": {
        "id": "S3mxRQDLIUPC",
        "colab": {
          "base_uri": "https://localhost:8080/"
        },
        "outputId": "4c9c7ea4-39bc-49b0-976b-718597e90519"
      },
      "outputs": [
        {
          "output_type": "stream",
          "name": "stdout",
          "text": [
            "Evaluation \t Proposed point \t  Current eval. \t  Best eval. \t        Exact ERM: StdDev. x \t Approx ERM: StdDev. x \n",
            "init\t [-2.41479839  1.04499887]\t 15.890475442873509\t 6.578088852480828\t    \t    \n",
            "init\t [-1.51837216 -1.44747325]\t 13.520839509777993\t 6.578088852480828\t    \t    \n",
            "init\t [-1.01132062 -1.66800174]\t 23.772158573571232\t 6.578088852480828\t    \t    \n",
            "init\t [1.03186249 1.22637519]\t 6.578088852480828\t 6.578088852480828\t    \t    \n",
            "init\t [2.89645149 0.54264294]\t 83.31828503667734\t 6.578088852480828\t    \t    \n",
            "1  \t [ 1.61692121 -2.        ]\t 46.82661995524235\t 6.578088852480828\t 1.511877347133899\t 1.97700982150351\n",
            "2  \t [-0.38524377  2.        ]\t 47.77799784443529\t 6.578088852480828\t 1.5365229733621233\t 2.2717050730779005\n",
            "3  \t [-3. -2.]\t 162.89999999999998\t 6.578088852480828\t 1.9942574698893833\t 1.8175751806029674\n",
            "\u001b[1m\u001b[92m4\u001b[0m\t \u001b[1m\u001b[92m[-0.13635863 -0.20565462]\u001b[0m\t \u001b[1m\u001b[92m-0.06032661888233953\u001b[0m\t \u001b[1m\u001b[92m-0.06032661888233953\u001b[0m\t \u001b[1m\u001b[92m1.5721217505058735\u001b[0m\t \u001b[1m\u001b[92m1.834887771442668\u001b[0m\n",
            "5  \t [-3.  2.]\t 150.89999999999998\t -0.06032661888233953\t 1.4361182720806698\t 1.6794909215674965\n",
            "6  \t [-1.38732707  0.07375837]\t 2.1721165134761122\t -0.06032661888233953\t 1.4007680426468776\t 1.5871601355000402\n",
            "7  \t [ 0.68717991 -0.15491184]\t 1.2555498523734716\t -0.06032661888233953\t 1.257448368016124\t 1.408230092314841\n",
            "8  \t [ 3. -2.]\t 150.89999999999998\t -0.06032661888233953\t 1.6198181258408564\t 1.0766224159500448\n",
            "9  \t [ 0.10681678 -2.        ]\t 47.83173285216107\t -0.06032661888233953\t 1.5794892689895694\t 1.2656574430924261\n",
            "10 \t [1.79236214 2.        ]\t 53.813614804813255\t -0.06032661888233953\t 0.6989672886123577\t 1.3913939862495723\n",
            "11 \t [-0.47746562  0.31071072]\t 0.30946459240882107\t -0.06032661888233953\t 1.3453659389091954\t 1.0009715003402546\n",
            "12 \t [-2.9848032  0.1145992]\t 104.2700948295277\t -0.06032661888233953\t 1.5819232951212125\t 1.460233273409354\n",
            "13 \t [-0.7309731  -0.14705977]\t 1.6114482547550206\t -0.06032661888233953\t 1.3319939360389974\t 1.0848961266858834\n",
            "14 \t [-1.60250366  1.11003275]\t 1.43376020910004\t -0.06032661888233953\t 1.5737001313514087\t 1.5787965495575846\n",
            "15 \t [0.45740155 0.60153773]\t 0.09948591729436962\t -0.06032661888233953\t 1.2419345445649148\t 1.561912132134393\n",
            "16 \t [ 0.99800479 -1.07607281]\t 1.8877025865797945\t -0.06032661888233953\t 1.7149722278159603\t 1.415753362129029\n",
            "17 \t [3. 2.]\t 162.89999999999998\t -0.06032661888233953\t 1.6193742856063844\t 1.6077981692664636\n",
            "18 \t [0.77716762 2.        ]\t 51.27765206140448\t -0.06032661888233953\t 1.3390917935326179\t 1.3151766706547166\n",
            "19 \t [ 0.84683169 -0.04282085]\t 1.867883440323206\t -0.06032661888233953\t 0.994700624704086\t 0.8514007269359789\n",
            "20 \t [ 1.94813098 -0.58986731]\t 1.0981831026015247\t -0.06032661888233953\t 1.2139499130169356\t 1.2007328708745515\n"
          ]
        }
      ],
      "source": [
        "### ESTIMATED STP ERM GRADIENTS\n",
        "\n",
        "np.random.seed(run_num_19)\n",
        "surrogate_approx_19 = dtStudentProcess(cov_func, optimize=opt, nu = df)\n",
        "\n",
        "approx_19 = GPGO_multi(surrogate_approx_19, Acquisition_grad(util), objfunc, param)\n",
        "approx_19.run(init_evals=n_init, max_iter=iters)\n"
      ]
    },
    {
      "cell_type": "code",
      "execution_count": 32,
      "metadata": {
        "id": "Aawd59dRIUYn",
        "colab": {
          "base_uri": "https://localhost:8080/"
        },
        "outputId": "17fc4a32-bfa9-4c0c-bd80-2b452cbf30bd"
      },
      "outputs": [
        {
          "output_type": "stream",
          "name": "stdout",
          "text": [
            "Evaluation \t Proposed point \t  Current eval. \t  Best eval. \t        Exact ERM: StdDev. x \t Approx ERM: StdDev. x \n",
            "init\t [0.52878481 1.59085491]\t 17.29968374481291\t 1.5037392797834441\t    \t    \n",
            "init\t [2.34918438 1.26334991]\t 20.91583049569433\t 1.5037392797834441\t    \t    \n",
            "init\t [-2.78466249  0.76703033]\t 57.06253405225224\t 1.5037392797834441\t    \t    \n",
            "init\t [-0.72791435  0.07404378]\t 1.5037392797834441\t 1.5037392797834441\t    \t    \n",
            "init\t [ 0.94770879 -1.22459913]\t 3.9766737661914173\t 1.5037392797834441\t    \t    \n",
            "1  \t [-1.26628306 -2.        ]\t 52.92133779085094\t 1.5037392797834441\t 1.8114724601065746\t 1.649504202104326\n",
            "2  \t [ 3. -2.]\t 150.89999999999998\t 1.5037392797834441\t 1.5235813520895212\t 2.1240313491269602\n",
            "3  \t [-1.03816945  2.        ]\t 48.21273061807487\t 1.5037392797834441\t 1.4582851634835905\t 1.8660105463221401\n",
            "\u001b[1m\u001b[92m4\u001b[0m\t \u001b[1m\u001b[92m[ 0.58437683 -0.10785246]\u001b[0m\t \u001b[1m\u001b[92m1.0253449375913084\u001b[0m\t \u001b[1m\u001b[92m1.0253449375913084\u001b[0m\t \u001b[1m\u001b[92m1.517079859894936\u001b[0m\t \u001b[1m\u001b[92m1.7185485697229745\u001b[0m\n",
            "5  \t [-3. -2.]\t 162.89999999999998\t 1.0253449375913084\t 1.3717227926629583\t 1.7077037398838315\n",
            "6  \t [3. 2.]\t 162.89999999999998\t 1.0253449375913084\t 1.072772855980154\t 1.879205507868078\n",
            "7  \t [1.60706157 0.12446849]\t 2.204610952242922\t 1.0253449375913084\t 1.2593722932619915\t 1.3519939275790027\n",
            "8  \t [ 0.36457372 -2.        ]\t 47.76619236836469\t 1.0253449375913084\t 1.258486838956466\t 1.4460752442735414\n",
            "9  \t [0.90746158 0.37186733]\t 1.9168219985636692\t 1.0253449375913084\t 0.7361469043172312\t 1.2923896326211128\n",
            "\u001b[1m\u001b[92m10\u001b[0m\t \u001b[1m\u001b[92m[-0.05327409 -0.22304026]\u001b[0m\t \u001b[1m\u001b[92m-0.16587091572614182\u001b[0m\t \u001b[1m\u001b[92m-0.16587091572614182\u001b[0m\t \u001b[1m\u001b[92m0.9257360317577636\u001b[0m\t \u001b[1m\u001b[92m1.3013500795385506\u001b[0m\n",
            "11 \t [ 1.56249157 -0.04404253]\t 2.022735735405672\t -0.16587091572614182\t 0.9812724258165784\t 1.2290684927066282\n",
            "12 \t [3.         0.16253317]\t 109.28472281443334\t -0.16587091572614182\t 1.5217900280101648\t 1.8247951731093484\n",
            "13 \t [1.54209507 1.42461107]\t 12.673733556321308\t -0.16587091572614182\t 1.4785484290770718\t 1.8155625861862517\n",
            "14 \t [-3.  2.]\t 150.89999999999998\t -0.16587091572614182\t 1.2808793140894288\t 1.6754985689066333\n",
            "15 \t [-1.75912778 -0.47046874]\t 2.2843545774230027\t -0.16587091572614182\t 1.2607801920641253\t 1.483248666002409\n",
            "16 \t [-0.85774403 -0.79770624]\t 1.6975122068378896\t -0.16587091572614182\t 1.3297623152430516\t 1.4763335966557876\n",
            "17 \t [-3.        -0.2357363]\t 109.39727530509955\t -0.16587091572614182\t 1.24248798568869\t 1.2215704636995006\n",
            "18 \t [-1.75089932  0.39503026]\t 0.9117836126511044\t -0.16587091572614182\t 1.1515003066940288\t 1.2527906234458448\n",
            "19 \t [-1.21880328 -0.07761524]\t 2.471244804786079\t -0.16587091572614182\t 1.2617142021814673\t 0.9985335649842672\n",
            "20 \t [-1.01612567  0.00906881]\t 2.2486471991098087\t -0.16587091572614182\t 0.7599582329430099\t 0.8433151520640965\n"
          ]
        }
      ],
      "source": [
        "### ESTIMATED STP ERM GRADIENTS\n",
        "\n",
        "np.random.seed(run_num_20)\n",
        "surrogate_approx_20 = dtStudentProcess(cov_func, optimize=opt, nu = df)\n",
        "\n",
        "approx_20 = GPGO_multi(surrogate_approx_20, Acquisition_grad(util), objfunc, param)\n",
        "approx_20.run(init_evals=n_init, max_iter=iters)\n"
      ]
    },
    {
      "cell_type": "code",
      "execution_count": 33,
      "metadata": {
        "id": "xkgzPRbBTHaq",
        "colab": {
          "base_uri": "https://localhost:8080/"
        },
        "outputId": "f21fecf5-e804-4fd1-be30-65feb8652278"
      },
      "outputs": [
        {
          "output_type": "execute_result",
          "data": {
            "text/plain": [
              "1663323696.9748724"
            ]
          },
          "metadata": {},
          "execution_count": 33
        }
      ],
      "source": [
        "end_approx = time.time()\n",
        "end_approx\n",
        "\n",
        "time_approx = end_approx - start_approx\n",
        "time_approx\n",
        "\n",
        "start_exact = time.time()\n",
        "start_exact"
      ]
    },
    {
      "cell_type": "code",
      "execution_count": 34,
      "metadata": {
        "id": "7CG3Ndvb16Rb",
        "colab": {
          "base_uri": "https://localhost:8080/"
        },
        "outputId": "581cd939-f6e0-47b6-d2d5-dc3865eef5b6"
      },
      "outputs": [
        {
          "output_type": "stream",
          "name": "stdout",
          "text": [
            "Evaluation \t Proposed point \t  Current eval. \t  Best eval. \t        Exact ERM: StdDev. x \t Approx ERM: StdDev. x \n",
            "init\t [-0.49786797  0.88129797]\t -0.2650082867644827\t -0.2650082867644827\t    \t    \n",
            "init\t [-2.99931375 -0.79066971]\t 110.13991869176735\t -0.2650082867644827\t    \t    \n",
            "init\t [-2.11946466 -1.63064562]\t 26.90935479429681\t -0.2650082867644827\t    \t    \n",
            "init\t [-1.88243873 -0.61775709]\t 2.8558363102363344\t -0.2650082867644827\t    \t    \n",
            "init\t [-0.61939515  0.15526694]\t 1.0540522096005847\t -0.2650082867644827\t    \t    \n",
            "1  \t [1.62949887 2.        ]\t 53.31440521929192\t -0.2650082867644827\t 1.5523791498388229\t 2.080247915139494\n",
            "2  \t [ 0.7720647 -2.       ]\t 48.16464195738449\t -0.2650082867644827\t 1.6981865364369324\t 2.3224340255736364\n",
            "3  \t [ 2.52364098 -0.08907507]\t 26.148488570565895\t -0.2650082867644827\t 1.242988742742066\t 2.152088440952021\n",
            "4  \t [-1.554896    1.99763241]\t 46.73566578319888\t -0.2650082867644827\t 1.3332015377865007\t 2.0831489169003965\n",
            "5  \t [-0.5351319  -0.39408167]\t 0.6672378143352127\t -0.2650082867644827\t 1.5106250200429485\t 1.625260656359897\n",
            "6  \t [0.37739478 0.19081663]\t 0.45974330862916374\t -0.2650082867644827\t 1.0984810082347445\t 1.7549035657188434\n",
            "7  \t [0.27642482 0.10570374]\t 0.27855578744555887\t -0.2650082867644827\t 1.4169081659033917\t 2.1819477102233145\n",
            "8  \t [-1.17144233 -1.39393327]\t 11.35838880182214\t -0.2650082867644827\t 1.8889439828992527\t 2.286415663745984\n",
            "9  \t [-0.61292814 -0.07789869]\t 1.2476325426660106\t -0.2650082867644827\t 1.4645467021266874\t 1.9992245272647602\n",
            "10 \t [ 2.74479297 -1.42509311]\t 57.9434224609548\t -0.2650082867644827\t 1.56172355477677\t 2.0991101367778966\n",
            "11 \t [-1.70029494  0.31515035]\t 1.1729919890426463\t -0.2650082867644827\t 1.3527484018878562\t 1.8717529928123238\n",
            "12 \t [3.         1.38591065]\t 120.13183523025607\t -0.2650082867644827\t 1.0931524919300524\t 2.1859418131596966\n",
            "13 \t [ 1.41809748 -0.52601417]\t 0.7157832535886971\t -0.2650082867644827\t 1.147579888083317\t 1.5496248560260018\n",
            "14 \t [-2.94636539  1.29092002]\t 95.17661882587197\t -0.2650082867644827\t 1.3451224818587122\t 1.6010311701420885\n",
            "15 \t [-1.4640443  -0.21593862]\t 2.346545743453286\t -0.2650082867644827\t 1.3201188186944266\t 1.378945193925499\n",
            "16 \t [0.51921013 1.95805396]\t 45.41044084565711\t -0.2650082867644827\t 1.2986311889125317\t 1.8475465626372696\n",
            "17 \t [1.49996314 0.10361273]\t 2.27860174499185\t -0.2650082867644827\t 1.2527462316500524\t 1.8896772380078413\n",
            "18 \t [-1.17103371  0.89700472]\t 0.7165330729029161\t -0.2650082867644827\t 1.571242118873734\t 1.7948558730161086\n",
            "19 \t [ 1.76086181 -0.35981146]\t 1.065316563059891\t -0.2650082867644827\t 1.5537281194217532\t 1.7040167352586908\n",
            "20 \t [-1.08102221  0.20255819]\t 1.962191046534569\t -0.2650082867644827\t 1.1367572289150705\t 1.5282729612350938\n"
          ]
        }
      ],
      "source": [
        "### EXACT STP ERM GRADIENTS\n",
        "\n",
        "np.random.seed(run_num_1)\n",
        "surrogate_exact_1 = dtStudentProcess(cov_func, optimize=opt, nu = df)\n",
        "\n",
        "exact_1 = dGPGO(surrogate_exact_1, Acquisition_grad(util), objfunc, param)\n",
        "exact_1.run(init_evals=n_init, max_iter=iters)\n"
      ]
    },
    {
      "cell_type": "code",
      "execution_count": 35,
      "metadata": {
        "id": "-ilCPSAu9SAg",
        "colab": {
          "base_uri": "https://localhost:8080/"
        },
        "outputId": "7e9cd540-a489-4ec0-db04-c9855c8ac3ae"
      },
      "outputs": [
        {
          "output_type": "stream",
          "name": "stdout",
          "text": [
            "Evaluation \t Proposed point \t  Current eval. \t  Best eval. \t        Exact ERM: StdDev. x \t Approx ERM: StdDev. x \n",
            "init\t [-0.38403059 -1.89629507]\t 38.61280125654363\t 0.011939608840498828\t    \t    \n",
            "init\t [ 0.29797487 -0.25871043]\t 0.011939608840498828\t 0.011939608840498828\t    \t    \n",
            "init\t [-0.47779319 -0.67866072]\t 0.1381453419305213\t 0.011939608840498828\t    \t    \n",
            "init\t [-1.7721082   0.47708387]\t 0.626144759281101\t 0.011939608840498828\t    \t    \n",
            "init\t [-1.20207196 -0.9326909 ]\t 3.0693811601417798\t 0.011939608840498828\t    \t    \n",
            "1  \t [2.82348188 1.2010334 ]\t 73.25396563324732\t 0.011939608840498828\t 1.7063464955402254\t 2.015995420180774\n",
            "2  \t [-0.5850336  2.       ]\t 47.966350681673646\t 0.011939608840498828\t 1.387392026085468\t 2.158780121741608\n",
            "3  \t [-3.         -0.65154211]\t 109.87742302926006\t 0.011939608840498828\t 1.6685679179678394\t 1.9940583447149143\n",
            "4  \t [ 2.35657379 -1.87757738]\t 45.723983987078526\t 0.011939608840498828\t 1.459715552795465\t 2.2469916570164363\n",
            "5  \t [-0.61012437  0.37959097]\t 0.4902935672674671\t 0.011939608840498828\t 1.2212691309760322\t 1.9735940162047578\n",
            "6  \t [-2.58203646  1.74061425]\t 52.20775440220922\t 0.011939608840498828\t 1.4842853655758612\t 1.8224752763591932\n",
            "7  \t [-0.5817881  -0.05032558]\t 1.1454189271092867\t 0.011939608840498828\t 1.224619413133251\t 1.409957627236023\n",
            "8  \t [0.91092437 1.17281169]\t 5.197899312062043\t 0.011939608840498828\t 1.6088705006877857\t 1.4744847381149153\n",
            "9  \t [ 1.37527346 -0.04271608]\t 2.242477096465378\t 0.011939608840498828\t 1.5668841572628842\t 1.656212723292332\n",
            "10 \t [ 0.65555324 -0.16425512]\t 1.1449322909806148\t 0.011939608840498828\t 1.3174069188406998\t 1.4048794268931062\n",
            "11 \t [ 2.96634494 -0.51990484]\t 97.36668454071769\t 0.011939608840498828\t 2.193703073721354\t 1.8422846635654575\n",
            "12 \t [ 0.99699849 -1.16667226]\t 3.03146735843273\t 0.011939608840498828\t 2.1561306744442654\t 1.6978926716308007\n",
            "13 \t [-2.14261834 -1.89356462]\t 47.496467897498626\t 0.011939608840498828\t 1.975191761077964\t 1.7636774035565095\n",
            "14 \t [1.80961069 1.95734074]\t 49.21383400622809\t 0.011939608840498828\t 1.0043923659184848\t 1.707551948093772\n",
            "15 \t [-1.23294125  0.05577566]\t 2.3175789514001806\t 0.011939608840498828\t 1.435812841422485\t 1.6115898081799913\n",
            "\u001b[1m\u001b[92m16\u001b[0m\t \u001b[1m\u001b[92m[0.36582923 0.59869218]\u001b[0m\t \u001b[1m\u001b[92m-0.202304728683378\u001b[0m\t \u001b[1m\u001b[92m-0.202304728683378\u001b[0m\t \u001b[1m\u001b[92m1.6472125328749687\u001b[0m\t \u001b[1m\u001b[92m1.6709769901111768\u001b[0m\n",
            "17 \t [ 0.82498015 -2.        ]\t 48.2047612552119\t -0.202304728683378\t 1.602267453407612\t 1.6644799172094036\n",
            "18 \t [ 0.90835447 -0.62647256]\t 0.5351839426143029\t -0.202304728683378\t 1.7006486097643587\t 1.7710360726004535\n",
            "19 \t [-1.29997469  0.66376465]\t 0.5223862727522215\t -0.202304728683378\t 1.6008103760120083\t 1.713509023499158\n",
            "20 \t [1.27401311 0.56273302]\t 2.236743992776092\t -0.202304728683378\t 1.6337506809200073\t 1.766020537136685\n"
          ]
        }
      ],
      "source": [
        "### EXACT STP ERM GRADIENTS\n",
        "\n",
        "np.random.seed(run_num_2)\n",
        "surrogate_exact_2 = dtStudentProcess(cov_func, optimize=opt, nu = df)\n",
        "\n",
        "exact_2 = dGPGO(surrogate_exact_2, Acquisition_grad(util), objfunc, param)\n",
        "exact_2.run(init_evals=n_init, max_iter=iters)\n"
      ]
    },
    {
      "cell_type": "code",
      "execution_count": 36,
      "metadata": {
        "id": "XieJ158mIvlP",
        "colab": {
          "base_uri": "https://localhost:8080/"
        },
        "outputId": "552e6fcf-03d3-4f16-ba14-3d187414983e"
      },
      "outputs": [
        {
          "output_type": "stream",
          "name": "stdout",
          "text": [
            "Evaluation \t Proposed point \t  Current eval. \t  Best eval. \t        Exact ERM: StdDev. x \t Approx ERM: StdDev. x \n",
            "init\t [0.30478742 0.83259129]\t -0.2431922946563294\t -0.2431922946563294\t    \t    \n",
            "init\t [-1.25457157  0.04331042]\t 2.3313310458730996\t -0.2431922946563294\t    \t    \n",
            "init\t [2.35768173 1.58517236]\t 33.54152175045586\t -0.2431922946563294\t    \t    \n",
            "init\t [-2.24648814 -1.17102849]\t 14.214109412296352\t -0.2431922946563294\t    \t    \n",
            "init\t [-2.69119678 -0.23676063]\t 45.87579771712209\t -0.2431922946563294\t    \t    \n",
            "1  \t [ 0.28456836 -1.36484581]\t 6.350870631235976\t -0.2431922946563294\t 1.4900165674832018\t 1.6584036013021333\n",
            "2  \t [-0.74810262  2.        ]\t 48.143101456463555\t -0.2431922946563294\t 1.294721471127989\t 2.059096565109448\n",
            "3  \t [ 2.05829561 -0.95237242]\t 2.3035247693398477\t -0.2431922946563294\t 1.494046623391152\t 2.258052733256306\n",
            "4  \t [ 0.07035805 -0.07824989]\t -0.0100981225509746\t -0.2431922946563294\t 1.644138915147666\t 2.068947502352533\n",
            "5  \t [ 1.97059153 -1.83172191]\t 31.384258215170192\t -0.2431922946563294\t 1.2583264763215072\t 2.2883289525109793\n",
            "6  \t [0.78695649 0.05582125]\t 1.7824602595930377\t -0.2431922946563294\t 1.5121528502186328\t 1.665646473544832\n",
            "7  \t [-0.95971755 -1.95262349]\t 46.93407319000161\t -0.2431922946563294\t 1.534561922879908\t 1.3971565294571788\n",
            "8  \t [ 2.8449653  -0.14303788]\t 71.0594479069191\t -0.2431922946563294\t 1.5206540441506737\t 1.7008106723582024\n",
            "9  \t [-0.00381669  0.01988334]\t -0.001598384761096874\t -0.2431922946563294\t 1.509467091244069\t 1.4855035894187627\n",
            "10 \t [-3. -2.]\t 162.89999999999998\t -0.2431922946563294\t 1.8277077475346295\t 2.3831154090656224\n",
            "11 \t [ 0.67138471 -0.49736477]\t 0.3282367174431159\t -0.2431922946563294\t 1.4783837147144367\t 2.150395036990655\n",
            "12 \t [1.005433 2.      ]\t 52.252785585350445\t -0.2431922946563294\t 1.5557737005246841\t 1.8926841679648547\n",
            "13 \t [-1.6367823 -0.8339356]\t 2.5710789395509104\t -0.2431922946563294\t 1.7559953910606847\t 2.446797464404247\n",
            "14 \t [-0.71733508  0.02554356]\t 1.526721253354618\t -0.2431922946563294\t 1.6422549775299542\t 1.7483177843190587\n",
            "15 \t [-1.98889013  1.37857046]\t 7.69851301556591\t -0.2431922946563294\t 1.7621864545717805\t 2.3299380747953697\n",
            "16 \t [-2.86483535  1.211923  ]\t 74.93562325484626\t -0.2431922946563294\t 1.814892451289704\t 2.124452136540828\n",
            "17 \t [-1.32777253  0.97327144]\t 0.8592916675148021\t -0.2431922946563294\t 1.6916927512811353\t 1.8858214242305815\n",
            "18 \t [ 0.66348437 -0.33421424]\t 0.7636949554874325\t -0.2431922946563294\t 1.2799700494823467\t 1.7020063434026664\n",
            "19 \t [-0.876899    0.22054158]\t 1.607177677758962\t -0.2431922946563294\t 1.5777992094380993\t 1.5153912047709772\n",
            "20 \t [-0.61229373 -0.10718888]\t 1.2422195970874768\t -0.2431922946563294\t 1.4656046112491923\t 1.5205302469251691\n"
          ]
        }
      ],
      "source": [
        "### EXACT STP ERM GRADIENTS\n",
        "\n",
        "np.random.seed(run_num_3)\n",
        "surrogate_exact_3 = dtStudentProcess(cov_func, optimize=opt, nu = df)\n",
        "\n",
        "exact_3 = dGPGO(surrogate_exact_3, Acquisition_grad(util), objfunc, param)\n",
        "exact_3.run(init_evals=n_init, max_iter=iters)\n"
      ]
    },
    {
      "cell_type": "code",
      "execution_count": 37,
      "metadata": {
        "id": "PhLBVOIfIvol",
        "colab": {
          "base_uri": "https://localhost:8080/"
        },
        "outputId": "cbb48414-dac4-4f60-9db9-55b580d2d10a"
      },
      "outputs": [
        {
          "output_type": "stream",
          "name": "stdout",
          "text": [
            "Evaluation \t Proposed point \t  Current eval. \t  Best eval. \t        Exact ERM: StdDev. x \t Approx ERM: StdDev. x \n",
            "init\t [2.80217903 0.188929  ]\t 63.70212732873661\t 2.3196402150601703\t    \t    \n",
            "init\t [2.83610616 0.85926397]\t 71.43837110827245\t 2.3196402150601703\t    \t    \n",
            "init\t [ 1.18637295 -1.13564202]\t 2.5463267765341566\t 2.3196402150601703\t    \t    \n",
            "init\t [ 2.85764673 -1.97507898]\t 113.76785286351424\t 2.3196402150601703\t    \t    \n",
            "init\t [-1.48210583 -0.26083387]\t 2.3196402150601703\t 2.3196402150601703\t    \t    \n",
            "1  \t [-3. -2.]\t 162.89999999999998\t 2.3196402150601703\t 1.6191237137422436\t 2.107533519781842\n",
            "2  \t [-1.95732124  1.7703434 ]\t 26.534597980825662\t 2.3196402150601703\t 1.2101706767157336\t 1.7145797561764295\n",
            "\u001b[1m\u001b[92m3\u001b[0m\t \u001b[1m\u001b[92m[ 0.01360417 -0.18829526]\u001b[0m\t \u001b[1m\u001b[92m-0.13861353572942495\u001b[0m\t \u001b[1m\u001b[92m-0.13861353572942495\u001b[0m\t \u001b[1m\u001b[92m1.6473904800403247\u001b[0m\t \u001b[1m\u001b[92m1.941937191116918\u001b[0m\n",
            "4  \t [0.40130842 2.        ]\t 49.39373612237711\t -0.13861353572942495\t 1.0791070928957103\t 1.8008475731474896\n",
            "5  \t [-0.08248652 -1.80753533]\t 29.80544454417882\t -0.13861353572942495\t 1.430034176955942\t 1.4557002456981847\n",
            "6  \t [-2.67710581  0.38233667]\t 41.98729684387219\t -0.13861353572942495\t 1.5916794141529127\t 1.601239879817805\n",
            "7  \t [-0.30727651 -0.14627812]\t 0.3204247070016187\t -0.13861353572942495\t 1.3079146556092853\t 1.5659555477397151\n",
            "8  \t [ 1.2601232  -0.05532176]\t 2.309277241212207\t -0.13861353572942495\t 1.5153835599520256\t 1.6242751796941597\n",
            "9  \t [-1.00208234  0.74953176]\t 0.5008328134062886\t -0.13861353572942495\t 1.3609793604837184\t 1.5147951923816987\n",
            "10 \t [3. 2.]\t 162.89999999999998\t -0.13861353572942495\t 1.2592432207126358\t 2.1538393129523503\n",
            "11 \t [0.37787183 0.79371205]\t -0.1031968784360624\t -0.13861353572942495\t 1.5333983476265332\t 1.6291335849752937\n",
            "12 \t [ 0.81340579 -1.93398578]\t 41.24886525550365\t -0.13861353572942495\t 1.3990204264676351\t 1.7941860398995317\n",
            "13 \t [-1.23527441 -1.45857954]\t 13.794483658758871\t -0.13861353572942495\t 1.3026760389256364\t 1.339129841252358\n",
            "14 \t [-0.88326259  2.        ]\t 48.23422238473799\t -0.13861353572942495\t 1.176879063187138\t 1.6973774980858654\n",
            "15 \t [ 0.82143404 -0.51342641]\t 0.6470854640725295\t -0.13861353572942495\t 1.2856300856414917\t 1.5666888580257632\n",
            "16 \t [1.37176344 0.96014024]\t 3.341002683177112\t -0.13861353572942495\t 1.4639004017713304\t 1.4297344816824271\n",
            "17 \t [-1.3885919   0.36628045]\t 1.3214900979049884\t -0.13861353572942495\t 1.3477370590916542\t 1.6656133907934993\n",
            "18 \t [0.88466734 0.32116893]\t 1.9181364339208673\t -0.13861353572942495\t 1.4845148619828654\t 1.4525680907163356\n",
            "\u001b[1m\u001b[92m19\u001b[0m\t \u001b[1m\u001b[92m[-0.20971587  0.45043603]\u001b[0m\t \u001b[1m\u001b[92m-0.5694830974532539\u001b[0m\t \u001b[1m\u001b[92m-0.5694830974532539\u001b[0m\t \u001b[1m\u001b[92m1.5449596631260276\u001b[0m\t \u001b[1m\u001b[92m1.8036786713679456\u001b[0m\n",
            "20 \t [-0.66363491 -0.10250679]\t 1.4092372689479125\t -0.5694830974532539\t 1.0663499187335859\t 1.1283585493100912\n"
          ]
        }
      ],
      "source": [
        "### EXACT STP ERM GRADIENTS\n",
        "\n",
        "np.random.seed(run_num_4)\n",
        "surrogate_exact_4 = dtStudentProcess(cov_func, optimize=opt, nu = df)\n",
        "\n",
        "exact_4 = dGPGO(surrogate_exact_4, Acquisition_grad(util), objfunc, param)\n",
        "exact_4.run(init_evals=n_init, max_iter=iters)\n"
      ]
    },
    {
      "cell_type": "code",
      "execution_count": 38,
      "metadata": {
        "id": "arbiPyj2IvsJ",
        "colab": {
          "base_uri": "https://localhost:8080/"
        },
        "outputId": "8656e188-05ba-4c17-b38c-09b27a176349"
      },
      "outputs": [
        {
          "output_type": "stream",
          "name": "stdout",
          "text": [
            "Evaluation \t Proposed point \t  Current eval. \t  Best eval. \t        Exact ERM: StdDev. x \t Approx ERM: StdDev. x \n",
            "init\t [-1.66804097  1.48292922]\t 10.126030408244933\t -0.6512780061070701\t    \t    \n",
            "init\t [-1.75968507  1.67444363]\t 19.4300499315822\t -0.6512780061070701\t    \t    \n",
            "init\t [-0.06953287  0.44697545]\t -0.6512780061070701\t -0.6512780061070701\t    \t    \n",
            "init\t [1.59544714 0.07367195]\t 2.168775388880503\t -0.6512780061070701\t    \t    \n",
            "init\t [-1.21919699 -1.24911509]\t 7.420330936884148\t -0.6512780061070701\t    \t    \n",
            "1  \t [ 2.53649768 -1.99114315]\t 69.54643672700519\t -0.6512780061070701\t 1.7311687097305397\t 2.249195899527092\n",
            "2  \t [3. 2.]\t 162.89999999999998\t -0.6512780061070701\t 1.868751325264653\t 1.9760689659346122\n",
            "3  \t [-2.47234994 -0.09890518]\t 22.320839622737285\t -0.6512780061070701\t 2.010633916773236\t 2.0380592646657263\n",
            "4  \t [-3. -2.]\t 162.89999999999998\t -0.6512780061070701\t 1.6856503759537635\t 1.8134781964090358\n",
            "\u001b[1m\u001b[92m5\u001b[0m\t \u001b[1m\u001b[92m[-0.10971077 -0.84464887]\u001b[0m\t \u001b[1m\u001b[92m-0.6772783875284485\u001b[0m\t \u001b[1m\u001b[92m-0.6772783875284485\u001b[0m\t \u001b[1m\u001b[92m1.292879509218593\u001b[0m\t \u001b[1m\u001b[92m1.4637326810011757\u001b[0m\n",
            "6  \t [0.28210295 2.        ]\t 48.869402252182425\t -0.6772783875284485\t 1.4490374966425246\t 1.821236964416717\n",
            "7  \t [ 0.05035325 -2.        ]\t 47.90942180303042\t -0.6772783875284485\t 1.2236062286167795\t 1.287993049663778\n",
            "8  \t [ 0.64826462 -0.10118708]\t 1.2287198173297629\t -0.6772783875284485\t 1.237776051600585\t 1.5444569518341913\n",
            "9  \t [-1.1365516   0.02231595]\t 2.3540268374230098\t -0.6772783875284485\t 1.3788784227393085\t 1.6553237639418044\n",
            "10 \t [-2.81010548  1.00896264]\t 62.013526381410884\t -0.6772783875284485\t 1.331905454507859\t 1.6162723089680961\n",
            "11 \t [ 2.76266598 -0.22225693]\t 55.59776601091288\t -0.6772783875284485\t 1.0919539783097967\t 1.6035588550495437\n",
            "12 \t [-0.94635977  1.38567639]\t 7.892818284595334\t -0.6772783875284485\t 1.3034539851601175\t 1.37896846640849\n",
            "13 \t [1.23347737 1.01239064]\t 3.749640683151888\t -0.6772783875284485\t 1.3678193492063777\t 1.6325375929760317\n",
            "14 \t [-0.69409392 -0.67130378]\t 0.9526204562239173\t -0.6772783875284485\t 1.2596626538107356\t 1.5931521211269006\n",
            "15 \t [-1.23290293  0.71415733]\t 0.5186740029900788\t -0.6772783875284485\t 1.2109612366775537\t 1.5076619250830106\n",
            "16 \t [ 1.15708727 -1.08717392]\t 1.993333544508132\t -0.6772783875284485\t 1.3495446686362056\t 1.3146466792789626\n",
            "17 \t [0.52772984 0.84249594]\t 0.5789894966525533\t -0.6772783875284485\t 1.3913814190152383\t 1.4981142720887795\n",
            "18 \t [-1.46534539 -0.76055876]\t 2.345766579759198\t -0.6772783875284485\t 1.384833825732707\t 1.3769959403982983\n",
            "19 \t [1.20843627 0.46275397]\t 2.28708808408308\t -0.6772783875284485\t 1.3651885872182414\t 1.3695481238007505\n",
            "20 \t [ 0.17831057 -0.08119318]\t 0.08439336228941675\t -0.6772783875284485\t 1.048332534622482\t 1.1705841976938474\n"
          ]
        }
      ],
      "source": [
        "### EXACT STP ERM GRADIENTS\n",
        "\n",
        "np.random.seed(run_num_5)\n",
        "surrogate_exact_5 = dtStudentProcess(cov_func, optimize=opt, nu = df)\n",
        "\n",
        "exact_5 = dGPGO(surrogate_exact_5, Acquisition_grad(util), objfunc, param)\n",
        "exact_5.run(init_evals=n_init, max_iter=iters)\n"
      ]
    },
    {
      "cell_type": "code",
      "execution_count": 39,
      "metadata": {
        "id": "04KJCEm_Ivvf",
        "colab": {
          "base_uri": "https://localhost:8080/"
        },
        "outputId": "01a37f4d-7a43-484a-8b6b-504d1b90d5d3"
      },
      "outputs": [
        {
          "output_type": "stream",
          "name": "stdout",
          "text": [
            "Evaluation \t Proposed point \t  Current eval. \t  Best eval. \t        Exact ERM: StdDev. x \t Approx ERM: StdDev. x \n",
            "init\t [ 2.35716091 -0.67208078]\t 11.995980169715628\t -0.3096187466378422\t    \t    \n",
            "init\t [ 1.92737474 -1.8332135 ]\t 31.167927894156623\t -0.3096187466378422\t    \t    \n",
            "init\t [-2.35405992  0.38020826]\t 13.013381745677465\t -0.3096187466378422\t    \t    \n",
            "init\t [ 0.17890417 -0.32477029]\t -0.3096187466378422\t -0.3096187466378422\t    \t    \n",
            "init\t [-0.9875529   0.49007773]\t 0.9989196280666852\t -0.3096187466378422\t    \t    \n",
            "1  \t [0.46926988 1.84011816]\t 33.96287885491425\t -0.3096187466378422\t 1.9811723141732869\t 1.7062149986840343\n",
            "2  \t [-1.21915465 -2.        ]\t 52.838879567026694\t -0.3096187466378422\t 1.9865688965245707\t 2.2754570812930686\n",
            "3  \t [3. 2.]\t 162.89999999999998\t -0.3096187466378422\t 1.7308859221844068\t 2.331986001816885\n",
            "4  \t [-1.70805801  1.72097302]\t 22.374222241265805\t -0.3096187466378422\t 1.5303056816963791\t 2.1627957294401265\n",
            "5  \t [-3.         -1.39591771]\t 120.48136149027926\t -0.3096187466378422\t 1.4629364741881152\t 1.642497319758993\n",
            "6  \t [1.11403811 0.02266503]\t 2.3901325427985403\t -0.3096187466378422\t 1.0596611735827277\t 1.615242428342215\n",
            "7  \t [-2.93949014  1.58456008]\t 103.32816572636087\t -0.3096187466378422\t 1.3983754154542878\t 1.456173353680574\n",
            "8  \t [-0.41112297  0.17517867]\t 0.42670082831819\t -0.3096187466378422\t 1.081471485889358\t 1.304934695149213\n",
            "9  \t [ 0.38945555 -1.01227232]\t 0.26653945846842714\t -0.3096187466378422\t 0.9884412938145211\t 1.3945115941827533\n",
            "10 \t [-0.70180472 -0.18530614]\t 1.4979282003383114\t -0.3096187466378422\t 1.0154711735414923\t 1.2382151867168003\n",
            "11 \t [ 0.32623861 -2.        ]\t 47.749863024774086\t -0.3096187466378422\t 1.3954526513024217\t 1.9532353441790589\n",
            "12 \t [-0.70556032  1.73136951]\t 24.243206541489688\t -0.3096187466378422\t 1.2648784391566472\t 1.659716041004432\n",
            "13 \t [ 1.12153858 -0.61620691]\t 0.738970198392605\t -0.3096187466378422\t 1.3956874028820123\t 1.9155805210380492\n",
            "14 \t [2.51888492 0.2409855 ]\t 26.368242319563883\t -0.3096187466378422\t 1.277104913159564\t 1.9922788577706336\n",
            "15 \t [-1.81831714 -0.24219915]\t 2.536030221180148\t -0.3096187466378422\t 1.5123414445076453\t 1.5720683509538218\n",
            "16 \t [ 2.8738618  -1.29448475]\t 78.38972546419765\t -0.3096187466378422\t 1.4515419305326815\t 1.6526008151456104\n",
            "17 \t [ 1.74556604 -0.03037264]\t 2.0641190621775602\t -0.3096187466378422\t 1.3915853664856643\t 1.5820282951403273\n",
            "18 \t [1.15761931 1.10876945]\t 4.802742017385595\t -0.3096187466378422\t 1.3717964235303497\t 1.339044704245978\n",
            "19 \t [0.52500647 0.73277674]\t 0.3401415011204417\t -0.3096187466378422\t 1.4145526393875605\t 1.3013955377689022\n",
            "20 \t [-0.61131309 -1.06911428]\t 2.5263239156803476\t -0.3096187466378422\t 1.417758939268023\t 1.5265903503798306\n"
          ]
        }
      ],
      "source": [
        "### EXACT STP ERM GRADIENTS\n",
        "\n",
        "np.random.seed(run_num_6)\n",
        "surrogate_exact_6 = dtStudentProcess(cov_func, optimize=opt, nu = df)\n",
        "\n",
        "exact_6 = dGPGO(surrogate_exact_6, Acquisition_grad(util), objfunc, param)\n",
        "exact_6.run(init_evals=n_init, max_iter=iters)\n"
      ]
    },
    {
      "cell_type": "code",
      "execution_count": 40,
      "metadata": {
        "id": "tAOkme3CIvyO",
        "colab": {
          "base_uri": "https://localhost:8080/"
        },
        "outputId": "69fd9f77-1f0b-40d1-ab81-d0139ca6c525"
      },
      "outputs": [
        {
          "output_type": "stream",
          "name": "stdout",
          "text": [
            "Evaluation \t Proposed point \t  Current eval. \t  Best eval. \t        Exact ERM: StdDev. x \t Approx ERM: StdDev. x \n",
            "init\t [-2.54215026  1.11967517]\t 26.53843863832488\t -0.46481072558790276\t    \t    \n",
            "init\t [-0.36954461  0.89386071]\t -0.46481072558790276\t -0.46481072558790276\t    \t    \n",
            "init\t [2.86793707 0.15398348]\t 76.66051064695093\t -0.46481072558790276\t    \t    \n",
            "init\t [ 0.00672278 -1.71179547]\t 22.613010892757885\t -0.46481072558790276\t    \t    \n",
            "init\t [-1.38936612e+00 -4.69996698e-04]\t 2.294585534557751\t -0.46481072558790276\t    \t    \n",
            "1  \t [-3. -2.]\t 162.89999999999998\t -0.46481072558790276\t 1.682729343407361\t 2.002203453438559\n",
            "2  \t [0.77334869 2.        ]\t 51.259137268538346\t -0.46481072558790276\t 1.028764371931932\t 1.7658774160245363\n",
            "3  \t [ 1.87153329 -1.97043392]\t 43.651228467718894\t -0.46481072558790276\t 1.553984095189397\t 2.0435335815580835\n",
            "4  \t [-0.4522468   0.37454932]\t 0.08129919115999285\t -0.46481072558790276\t 1.4256552685983144\t 1.4893143668711115\n",
            "5  \t [-0.97779432  1.94087862]\t 41.99168144066137\t -0.46481072558790276\t 1.3264816897593936\t 2.074523647343092\n",
            "6  \t [3. 2.]\t 162.89999999999998\t -0.46481072558790276\t 1.9056129450376336\t 1.9831526323460447\n",
            "7  \t [ 0.4861184  -0.20543993]\t 0.5708078721662923\t -0.46481072558790276\t 1.2533667555852523\t 1.4157147629654636\n",
            "8  \t [0.71342293 0.6834356 ]\t 1.0277409232730994\t -0.46481072558790276\t 1.5024927568013289\t 1.897856906406634\n",
            "9  \t [-0.49267603 -0.35241573]\t 0.5904973765653478\t -0.46481072558790276\t 1.2784783781007438\t 1.5676760511859091\n",
            "10 \t [-2.94154498  1.92471741]\t 127.73976738684357\t -0.46481072558790276\t 1.5730683899903888\t 1.906936246792964\n",
            "11 \t [-1.17270012 -1.53368763]\t 16.91735140782668\t -0.46481072558790276\t 1.371272244616035\t 1.9305248134533208\n",
            "12 \t [-2.29467336 -0.04742529]\t 11.601424362433916\t -0.46481072558790276\t 1.313702038691395\t 1.7875546943143936\n",
            "13 \t [-1.76932189  0.64869385]\t 0.045607994011744646\t -0.46481072558790276\t 1.4387858336602672\t 1.9268884843135932\n",
            "14 \t [ 1.77966979 -0.56136043]\t 0.3312942875929016\t -0.46481072558790276\t 1.391921711159183\t 1.595363439882574\n",
            "15 \t [ 1.29761313 -0.12475857]\t 2.1494321977582285\t -0.46481072558790276\t 1.3590430373197493\t 1.74806152187665\n",
            "16 \t [ 2.50856378 -0.92639327]\t 22.26707046655681\t -0.46481072558790276\t 1.3226381159674938\t 1.3850416373819292\n",
            "17 \t [ 1.25986093 -0.9895396 ]\t 1.063096094456226\t -0.46481072558790276\t 1.169724958259006\t 1.4117637114504826\n",
            "18 \t [-0.76165559 -0.99705731]\t 2.4148694019747805\t -0.46481072558790276\t 1.4725679136047194\t 1.7307271170220668\n",
            "\u001b[1m\u001b[92m19\u001b[0m\t \u001b[1m\u001b[92m[0.17824771 0.6514111 ]\u001b[0m\t \u001b[1m\u001b[92m-0.7360077836017882\u001b[0m\t \u001b[1m\u001b[92m-0.7360077836017882\u001b[0m\t \u001b[1m\u001b[92m1.4602764853643888\u001b[0m\t \u001b[1m\u001b[92m1.6263728892823572\u001b[0m\n",
            "20 \t [ 0.46940447 -0.26575084]\t 0.39568521051492844\t -0.7360077836017882\t 1.2861474742065493\t 1.2249959094301013\n"
          ]
        }
      ],
      "source": [
        "### EXACT STP ERM GRADIENTS\n",
        "\n",
        "np.random.seed(run_num_7)\n",
        "surrogate_exact_7 = dtStudentProcess(cov_func, optimize=opt, nu = df)\n",
        "\n",
        "exact_7 = dGPGO(surrogate_exact_7, Acquisition_grad(util), objfunc, param)\n",
        "exact_7.run(init_evals=n_init, max_iter=iters)\n"
      ]
    },
    {
      "cell_type": "code",
      "execution_count": 41,
      "metadata": {
        "id": "69-J3EF4Iv1S",
        "colab": {
          "base_uri": "https://localhost:8080/"
        },
        "outputId": "af560962-3ea4-4063-d0d0-cfa73942d3e5"
      },
      "outputs": [
        {
          "output_type": "stream",
          "name": "stdout",
          "text": [
            "Evaluation \t Proposed point \t  Current eval. \t  Best eval. \t        Exact ERM: StdDev. x \t Approx ERM: StdDev. x \n",
            "init\t [2.24057642 1.87416265]\t 48.82879577505094\t 0.03190064766213015\t    \t    \n",
            "init\t [2.21516724 0.12342277]\t 8.660623551418242\t 0.03190064766213015\t    \t    \n",
            "init\t [-1.60363003 -1.95440478]\t 48.28332373939171\t 0.03190064766213015\t    \t    \n",
            "init\t [-0.41718709 -0.39059456]\t 0.2801229037700297\t 0.03190064766213015\t    \t    \n",
            "init\t [ 0.13604803 -0.08643282]\t 0.03190064766213015\t 0.03190064766213015\t    \t    \n",
            "1  \t [-1.37912555  1.20422355]\t 3.2549949242698304\t 0.03190064766213015\t 1.379462543331053\t 2.0428491237748405\n",
            "2  \t [ 1.87170145 -2.        ]\t 46.82834149396247\t 0.03190064766213015\t 1.5819301648134847\t 2.457499331826863\n",
            "3  \t [-0.18290734  1.97191328]\t 44.69696130704753\t 0.03190064766213015\t 0.8731172520807607\t 1.9028288985123545\n",
            "4  \t [-2.98067645  0.08845492]\t 103.24212952718692\t 0.03190064766213015\t 1.6126717392938592\t 2.1192405331529436\n",
            "5  \t [ 0.8992304  -0.53657322]\t 0.7350223234164271\t 0.03190064766213015\t 1.2062297995852698\t 1.5342342472542598\n",
            "\u001b[1m\u001b[92m6\u001b[0m\t \u001b[1m\u001b[92m[ 0.14028102 -0.82021886]\u001b[0m\t \u001b[1m\u001b[92m-0.9177741106324108\u001b[0m\t \u001b[1m\u001b[92m-0.9177741106324108\u001b[0m\t \u001b[1m\u001b[92m1.388838692696164\u001b[0m\t \u001b[1m\u001b[92m1.864400709045715\u001b[0m\n",
            "7  \t [ 2.90806495 -0.26216947]\t 84.22672096882249\t -0.9177741106324108\t 1.3293753210904684\t 1.8826671579734418\n",
            "8  \t [0.7038766  0.16592906]\t 1.5165301918305485\t -0.9177741106324108\t 1.3413433239331314\t 1.755270952895678\n",
            "9  \t [ 0.12291071 -0.16366499]\t -0.06444103904782823\t -0.9177741106324108\t 1.3043701919924497\t 1.2362499892367842\n",
            "10 \t [-3. -2.]\t 162.89999999999998\t -0.9177741106324108\t 2.2086586724435713\t 2.003088911376254\n",
            "11 \t [-0.32882658 -1.85636761]\t 34.73683775938893\t -0.9177741106324108\t 1.7024955371196209\t 2.0528252639349494\n",
            "12 \t [1.69946775 0.50502383]\t 2.1643370846298318\t -0.9177741106324108\t 1.6211951251765908\t 1.6905596852794624\n",
            "13 \t [-1.77623653  1.79624506]\t 27.72944809953937\t -0.9177741106324108\t 1.6641162988082632\t 1.8069225020222677\n",
            "14 \t [-0.91778192  0.64462692]\t 0.515441945179745\t -0.9177741106324108\t 1.7443818941623823\t 1.87119872220274\n",
            "15 \t [2.90096792 1.12299339]\t 88.18183678293167\t -0.9177741106324108\t 1.5893706840822428\t 1.9944737447243228\n",
            "16 \t [ 1.79611942 -0.36735441]\t 1.1134904701883004\t -0.9177741106324108\t 1.603501913113211\t 1.9132018487914157\n",
            "17 \t [1.09753319 2.        ]\t 52.54887919451657\t -0.9177741106324108\t 1.6101075187112193\t 1.8885628439324182\n",
            "18 \t [-2.75456766  1.59564342]\t 66.41187081240352\t -0.9177741106324108\t 1.7901061135950722\t 1.5854650730394422\n",
            "19 \t [ 1.13946087 -0.23515107]\t 1.906057624563895\t -0.9177741106324108\t 1.2691956284616916\t 1.0519738363078508\n",
            "20 \t [-1.40121848 -0.6752075 ]\t 2.2350418331792077\t -0.9177741106324108\t 1.5475223493860064\t 1.6681392284270826\n"
          ]
        }
      ],
      "source": [
        "### EXACT STP ERM GRADIENTS\n",
        "\n",
        "np.random.seed(run_num_8)\n",
        "surrogate_exact_8 = dtStudentProcess(cov_func, optimize=opt, nu = df)\n",
        "\n",
        "exact_8 = dGPGO(surrogate_exact_8, Acquisition_grad(util), objfunc, param)\n",
        "exact_8.run(init_evals=n_init, max_iter=iters)\n"
      ]
    },
    {
      "cell_type": "code",
      "execution_count": 42,
      "metadata": {
        "id": "vonm9jyuIv4t",
        "colab": {
          "base_uri": "https://localhost:8080/"
        },
        "outputId": "f3c3336f-3edb-4b80-adf9-3d94817b2792"
      },
      "outputs": [
        {
          "output_type": "stream",
          "name": "stdout",
          "text": [
            "Evaluation \t Proposed point \t  Current eval. \t  Best eval. \t        Exact ERM: StdDev. x \t Approx ERM: StdDev. x \n",
            "init\t [-2.93775508  0.00749837]\t 92.35857237145763\t 1.395407492769129\t    \t    \n",
            "init\t [-0.02536024 -1.46468188]\t 9.867672894921913\t 1.395407492769129\t    \t    \n",
            "init\t [-2.14733349 -1.1257653 ]\t 10.24680089963123\t 1.395407492769129\t    \t    \n",
            "init\t [-0.48895092 -1.00759533]\t 1.395407492769129\t 1.395407492769129\t    \t    \n",
            "init\t [-2.49564209 -0.61800544]\t 24.58298635463645\t 1.395407492769129\t    \t    \n",
            "1  \t [3. 2.]\t 162.89999999999998\t 1.395407492769129\t 1.4928371361929869\t 1.406385481311127\n",
            "2  \t [-0.38211948  1.94541856]\t 41.95273482107442\t 1.395407492769129\t 1.5382211303594755\t 1.9153400186958698\n",
            "3  \t [ 2.32406927 -1.66998639]\t 28.93986434462297\t 1.395407492769129\t 1.4217465859403278\t 2.475985318605406\n",
            "4  \t [0.79640987 0.29905675]\t 1.689732686799596\t 1.395407492769129\t 1.6300744338338211\t 1.718058819042306\n",
            "5  \t [-3. -2.]\t 162.89999999999998\t 1.395407492769129\t 1.5588646477783543\t 1.519582280643516\n",
            "6  \t [-0.66089519 -0.10428301]\t 1.4001638134679135\t 1.395407492769129\t 1.1264783947631094\t 1.4879454818290303\n",
            "7  \t [ 1.24037815 -0.39030358]\t 1.3965556133312986\t 1.395407492769129\t 1.189193799669958\t 1.7327314886167116\n",
            "8  \t [-0.76305985 -2.        ]\t 51.20900482763418\t 1.395407492769129\t 1.1617839761462143\t 1.6447116625951754\n",
            "9  \t [-1.69437587 -0.51828679]\t 2.1549619036459946\t 1.395407492769129\t 1.3211023661879777\t 2.0428535507321763\n",
            "\u001b[1m\u001b[92m10\u001b[0m\t \u001b[1m\u001b[92m[ 0.33372832 -0.34580696]\u001b[0m\t \u001b[1m\u001b[92m-0.11662569741989709\u001b[0m\t \u001b[1m\u001b[92m-0.11662569741989709\u001b[0m\t \u001b[1m\u001b[92m0.9810330528390822\u001b[0m\t \u001b[1m\u001b[92m1.002984099027403\u001b[0m\n",
            "11 \t [ 2.80840989 -0.13426962]\t 64.01192043187184\t -0.11662569741989709\t 1.1914839248730142\t 2.176449438912882\n",
            "12 \t [1.00430797 2.        ]\t 52.2487750643777\t -0.11662569741989709\t 1.1691053124850774\t 1.9677618350358832\n",
            "13 \t [-1.28272504  1.25111959]\t 4.315689166636458\t -0.11662569741989709\t 1.1206111460925585\t 2.2258679629010385\n",
            "14 \t [ 0.94647005 -1.54744622]\t 14.03092913496705\t -0.11662569741989709\t 1.1952498140835435\t 1.787784413708408\n",
            "15 \t [-1.68519143  1.70278536]\t 21.218116078123586\t -0.11662569741989709\t 1.1633363491246405\t 1.7919611821288148\n",
            "\u001b[1m\u001b[92m16\u001b[0m\t \u001b[1m\u001b[92m[-0.29040769  0.7992612 ]\u001b[0m\t \u001b[1m\u001b[92m-0.8324194748391944\u001b[0m\t \u001b[1m\u001b[92m-0.8324194748391944\u001b[0m\t \u001b[1m\u001b[92m1.4234851661575214\u001b[0m\t \u001b[1m\u001b[92m2.0177480853117995\u001b[0m\n",
            "17 \t [-0.73439992  0.65534747]\t 0.1374032946521917\t -0.8324194748391944\t 1.3408687272911428\t 1.9097487873380392\n",
            "18 \t [1.77374297 0.4603624 ]\t 2.3272278023929305\t -0.8324194748391944\t 1.1828633997204787\t 1.7955695810617798\n",
            "19 \t [-1.02109056  0.07444056]\t 2.167407920688358\t -0.8324194748391944\t 1.1984022061005848\t 1.3481041280883073\n",
            "20 \t [-1.59509504 -0.64234447]\t 2.1282173446888177\t -0.8324194748391944\t 1.2857573438406888\t 1.7565774186072782\n"
          ]
        }
      ],
      "source": [
        "### EXACT STP ERM GRADIENTS\n",
        "\n",
        "np.random.seed(run_num_9)\n",
        "surrogate_exact_9 = dtStudentProcess(cov_func, optimize=opt, nu = df)\n",
        "\n",
        "exact_9 = dGPGO(surrogate_exact_9, Acquisition_grad(util), objfunc, param)\n",
        "exact_9.run(init_evals=n_init, max_iter=iters)\n"
      ]
    },
    {
      "cell_type": "code",
      "execution_count": 43,
      "metadata": {
        "id": "6amuYlUdIv7r",
        "colab": {
          "base_uri": "https://localhost:8080/"
        },
        "outputId": "7948991c-7535-40df-8f27-b3968eec4ef1"
      },
      "outputs": [
        {
          "output_type": "stream",
          "name": "stdout",
          "text": [
            "Evaluation \t Proposed point \t  Current eval. \t  Best eval. \t        Exact ERM: StdDev. x \t Approx ERM: StdDev. x \n",
            "init\t [ 1.62792386 -1.9169922 ]\t 38.25414770674631\t 0.7775687473184012\t    \t    \n",
            "init\t [0.80188941 0.99521553]\t 2.552651714051803\t 0.7775687473184012\t    \t    \n",
            "init\t [-0.00895793 -1.10081342]\t 1.0367630165263393\t 0.7775687473184012\t    \t    \n",
            "init\t [-1.81162281  1.04212285]\t 0.7775687473184012\t 0.7775687473184012\t    \t    \n",
            "init\t [-1.98533498 -1.64664074]\t 25.383481436170044\t 0.7775687473184012\t    \t    \n",
            "1  \t [3. 2.]\t 162.89999999999998\t 0.7775687473184012\t 1.4860378436860349\t 1.898779522257203\n",
            "2  \t [-0.26216961  1.78622791]\t 27.75435640737533\t 0.7775687473184012\t 1.1251818654217005\t 1.9377462117796227\n",
            "3  \t [-3.          0.30848696]\t 107.6301072122587\t 0.7775687473184012\t 1.4190598445509774\t 1.9011629354465283\n",
            "\u001b[1m\u001b[92m4\u001b[0m\t \u001b[1m\u001b[92m[-0.49260532  0.12185217]\u001b[0m\t \u001b[1m\u001b[92m0.7332117916038413\u001b[0m\t \u001b[1m\u001b[92m0.7332117916038413\u001b[0m\t \u001b[1m\u001b[92m1.258645468922002\u001b[0m\t \u001b[1m\u001b[92m1.5731014003035886\u001b[0m\n",
            "5  \t [ 2.64424223 -0.4635126 ]\t 37.344862388744204\t 0.7332117916038413\t 1.1798781971808054\t 1.742829270135897\n",
            "6  \t [-0.47700215 -2.        ]\t 49.75933717360568\t 0.7332117916038413\t 1.2638508530086654\t 1.8131979424974871\n",
            "7  \t [ 0.58084794 -0.07712431]\t 1.0548507877676863\t 0.7332117916038413\t 1.1064266445615707\t 1.5110478723399086\n",
            "8  \t [-3. -2.]\t 162.89999999999998\t 0.7332117916038413\t 1.2252943018942777\t 1.5380358471535451\n",
            "9  \t [-0.79758922 -0.02619047]\t 1.7987163733701366\t 0.7332117916038413\t 1.1129826987719662\t 1.413057450501779\n",
            "\u001b[1m\u001b[92m10\u001b[0m\t \u001b[1m\u001b[92m[0.2394858 0.0909311]\u001b[0m\t \u001b[1m\u001b[92m0.21154522198318143\u001b[0m\t \u001b[1m\u001b[92m0.21154522198318143\u001b[0m\t \u001b[1m\u001b[92m1.1350622401176913\u001b[0m\t \u001b[1m\u001b[92m1.5127305335588312\u001b[0m\n",
            "11 \t [-1.61441209  1.87896121]\t 34.763862407967814\t 0.21154522198318143\t 0.965541828881575\t 1.3059754322124755\n",
            "12 \t [-1.35114755 -1.05739371]\t 4.288410702784425\t 0.21154522198318143\t 1.5709755018868787\t 1.9294757639109992\n",
            "13 \t [ 2.98846599 -1.3732985 ]\t 108.2520157523688\t 0.21154522198318143\t 1.4089822766385593\t 2.2956309448722623\n",
            "14 \t [1.07760229 2.        ]\t 52.49032280519373\t 0.21154522198318143\t 1.3186776492068415\t 1.7287052157364666\n",
            "15 \t [-1.31842556  0.84686514]\t 0.4306796694361691\t 0.21154522198318143\t 1.4162989304577744\t 1.6726515989389212\n",
            "16 \t [2.04027852 0.37702709]\t 4.587312923101853\t 0.21154522198318143\t 1.3554273323697816\t 1.543127402638821\n",
            "17 \t [2.84496702 0.3636004 ]\t 72.12242137638921\t 0.21154522198318143\t 1.4390922095448906\t 1.83394873287687\n",
            "18 \t [ 1.77804918 -0.48358813]\t 0.6129325336979221\t 0.21154522198318143\t 1.239821962867402\t 1.9428020610135859\n",
            "19 \t [1.13656508 0.54468705]\t 2.165810431646941\t 0.21154522198318143\t 1.3022242945067974\t 1.723446917197769\n",
            "20 \t [ 0.82285243 -0.09921715]\t 1.7284481348107308\t 0.21154522198318143\t 1.1852215388746759\t 0.7946251623417729\n"
          ]
        }
      ],
      "source": [
        "### EXACT STP ERM GRADIENTS\n",
        "\n",
        "np.random.seed(run_num_10)\n",
        "surrogate_exact_10 = dtStudentProcess(cov_func, optimize=opt, nu = df)\n",
        "\n",
        "exact_10 = dGPGO(surrogate_exact_10, Acquisition_grad(util), objfunc, param)\n",
        "exact_10.run(init_evals=n_init, max_iter=iters)\n"
      ]
    },
    {
      "cell_type": "code",
      "execution_count": 44,
      "metadata": {
        "id": "VwbLIP9cIv-F",
        "colab": {
          "base_uri": "https://localhost:8080/"
        },
        "outputId": "3c56eb03-42ad-4c93-d566-bab80bb9b904"
      },
      "outputs": [
        {
          "output_type": "stream",
          "name": "stdout",
          "text": [
            "Evaluation \t Proposed point \t  Current eval. \t  Best eval. \t        Exact ERM: StdDev. x \t Approx ERM: StdDev. x \n",
            "init\t [-1.91838187 -1.92209903]\t 46.39910375151002\t -0.6254688257880329\t    \t    \n",
            "init\t [-0.22068884  0.89973572]\t -0.6254688257880329\t -0.6254688257880329\t    \t    \n",
            "init\t [-0.47877837 -0.05829161]\t 0.8249470187639529\t -0.6254688257880329\t    \t    \n",
            "init\t [-2.92331511 -0.05051357]\t 88.99028404075307\t -0.6254688257880329\t    \t    \n",
            "init\t [2.65083991 1.40318036]\t 51.423425402262914\t -0.6254688257880329\t    \t    \n",
            "1  \t [ 1.50622899 -2.        ]\t 47.14596558483737\t -0.6254688257880329\t 1.153613064528092\t 2.163113811253916\n",
            "2  \t [0.35329761 1.69199613]\t 22.397243077607236\t -0.6254688257880329\t 0.646304060005138\t 1.5700157305623186\n",
            "3  \t [-1.11792508  1.72306369]\t 23.826285775409236\t -0.6254688257880329\t 1.3617422849047536\t 2.016262346262991\n",
            "4  \t [ 0.69826085 -0.15613331]\t 1.2855352758302654\t -0.6254688257880329\t 1.1655745953039702\t 1.717483969011945\n",
            "5  \t [-0.00636884 -0.27931782]\t -0.2857850895777609\t -0.6254688257880329\t 1.277264964164429\t 1.6911577975969767\n",
            "6  \t [-0.31847061 -0.71081138]\t -0.3890773466316164\t -0.6254688257880329\t 1.2260023845972172\t 1.2813067740769333\n",
            "7  \t [ 2.81342183 -0.60691386]\t 62.75835575675619\t -0.6254688257880329\t 1.5961304121458515\t 2.011914236759762\n",
            "8  \t [-0.24757892 -1.98704162]\t 47.29335796996688\t -0.6254688257880329\t 1.8592647646842306\t 1.785996218532706\n",
            "9  \t [-3. -2.]\t 162.89999999999998\t -0.6254688257880329\t 1.472674372620317\t 2.129794252821778\n",
            "10 \t [-1.2066732  -1.03204977]\t 3.9238299791086435\t -0.6254688257880329\t 1.6673171851383881\t 2.1459804667214097\n",
            "11 \t [-2.90166254  1.6306935 ]\t 96.68229595273566\t -0.6254688257880329\t 1.7967435803540377\t 2.386671759143176\n",
            "12 \t [ 0.70249802 -0.81871842]\t 0.04349158581135504\t -0.6254688257880329\t 1.5035158310468963\t 1.585680872284461\n",
            "13 \t [1.41004836 1.01256055]\t 3.802788625600886\t -0.6254688257880329\t 1.053200500126084\t 1.5486561552915135\n",
            "14 \t [1.83735207 2.        ]\t 54.06989433816268\t -0.6254688257880329\t 1.2538327548056702\t 1.5672556359479612\n",
            "15 \t [0.51568248 0.8710074 ]\t 0.6382453003839003\t -0.6254688257880329\t 1.5352577258154443\t 1.4000294664385697\n",
            "16 \t [2.15756349 0.20104825]\t 7.01726996120331\t -0.6254688257880329\t 1.3568142882835126\t 1.7256026960814006\n",
            "17 \t [ 1.58834692 -0.49219817]\t 0.5617747717435192\t -0.6254688257880329\t 1.535023076573757\t 1.292342605896834\n",
            "18 \t [1.51020893 0.32236309]\t 2.2682276056415778\t -0.6254688257880329\t 1.6048151726537596\t 1.4997261262025552\n",
            "19 \t [-1.28623407  0.50068832]\t 0.9838256627256937\t -0.6254688257880329\t 1.554527641797988\t 1.6001886458298682\n",
            "20 \t [-0.93631514 -0.25733781]\t 2.1109302591292343\t -0.6254688257880329\t 1.417919581493343\t 1.5337890115048378\n"
          ]
        }
      ],
      "source": [
        "### EXACT STP ERM GRADIENTS\n",
        "\n",
        "np.random.seed(run_num_11)\n",
        "surrogate_exact_11 = dtStudentProcess(cov_func, optimize=opt, nu = df)\n",
        "\n",
        "exact_11 = dGPGO(surrogate_exact_11, Acquisition_grad(util), objfunc, param)\n",
        "exact_11.run(init_evals=n_init, max_iter=iters)\n"
      ]
    },
    {
      "cell_type": "code",
      "execution_count": 45,
      "metadata": {
        "id": "MlUNFjc-JTBY",
        "colab": {
          "base_uri": "https://localhost:8080/"
        },
        "outputId": "cff3e5ec-30fc-433c-a91f-c89697c63fce"
      },
      "outputs": [
        {
          "output_type": "stream",
          "name": "stdout",
          "text": [
            "Evaluation \t Proposed point \t  Current eval. \t  Best eval. \t        Exact ERM: StdDev. x \t Approx ERM: StdDev. x \n",
            "init\t [-2.07502295  0.96019879]\t 2.6185857163917037\t 1.9967735906956543\t    \t    \n",
            "init\t [-1.42010991  0.13495757]\t 1.9967735906956543\t 1.9967735906956543\t    \t    \n",
            "init\t [-2.91255023  1.67498803]\t 101.67816714332157\t 1.9967735906956543\t    \t    \n",
            "init\t [ 2.40428912 -1.86631429]\t 47.44624883788006\t 1.9967735906956543\t    \t    \n",
            "init\t [ 2.74169602 -1.45116271]\t 58.32400185681089\t 1.9967735906956543\t    \t    \n",
            "1  \t [-0.32465759  1.42161496]\t 8.190763458825653\t 1.9967735906956543\t 1.9851259270337431\t 1.9083975026557198\n",
            "2  \t [3. 2.]\t 162.89999999999998\t 1.9967735906956543\t 2.03279269605988\t 2.1383117041261506\n",
            "3  \t [-3. -2.]\t 162.89999999999998\t 1.9967735906956543\t 1.909202810528784\t 1.4980471887857112\n",
            "4  \t [-0.04930085 -1.96182594]\t 43.96323093603395\t 1.9967735906956543\t 1.1434850760816522\t 1.1428076472080184\n",
            "\u001b[1m\u001b[92m5\u001b[0m\t \u001b[1m\u001b[92m[0.58560449 0.23654028]\u001b[0m\t \u001b[1m\u001b[92m1.065443940537077\u001b[0m\t \u001b[1m\u001b[92m1.065443940537077\u001b[0m\t \u001b[1m\u001b[92m0.7773688059886438\u001b[0m\t \u001b[1m\u001b[92m0.8200175778225645\u001b[0m\n",
            "6  \t [0.50301422 2.        ]\t 49.8890775642323\t 1.065443940537077\t 1.1908680349072611\t 1.0829325821806561\n",
            "7  \t [-0.68352402  0.11445983]\t 1.3144713137064725\t 1.065443940537077\t 1.140690545968917\t 0.9250598310241367\n",
            "8  \t [-1.31854422  1.40401311]\t 8.1655373087908\t 1.065443940537077\t 1.4343981736269351\t 1.418796117951642\n",
            "\u001b[1m\u001b[92m9\u001b[0m\t \u001b[1m\u001b[92m[ 1.07334316 -0.80913882]\u001b[0m\t \u001b[1m\u001b[92m0.5579732689186736\u001b[0m\t \u001b[1m\u001b[92m0.5579732689186736\u001b[0m\t \u001b[1m\u001b[92m1.2247994601598777\u001b[0m\t \u001b[1m\u001b[92m1.3399964100440962\u001b[0m\n",
            "10 \t [-2.65579233 -0.04310014]\t 40.81061346312433\t 0.5579732689186736\t 1.440427084050632\t 1.5186597006763731\n",
            "11 \t [2.30547977 0.31516415]\t 12.355945374253082\t 0.5579732689186736\t 1.3672307876505945\t 1.354145192789839\n",
            "12 \t [ 1.55580867 -0.12101695]\t 1.8595547548812992\t 0.5579732689186736\t 1.2021226134059064\t 1.5591659459642795\n",
            "\u001b[1m\u001b[92m13\u001b[0m\t \u001b[1m\u001b[92m[-1.6139802   0.72484598]\u001b[0m\t \u001b[1m\u001b[92m-0.10541634425899926\u001b[0m\t \u001b[1m\u001b[92m-0.10541634425899926\u001b[0m\t \u001b[1m\u001b[92m1.3268973382443343\u001b[0m\t \u001b[1m\u001b[92m1.6581952018972552\u001b[0m\n",
            "\u001b[1m\u001b[92m14\u001b[0m\t \u001b[1m\u001b[92m[-0.0458316  -0.69589026]\u001b[0m\t \u001b[1m\u001b[92m-0.9587227716627709\u001b[0m\t \u001b[1m\u001b[92m-0.9587227716627709\u001b[0m\t \u001b[1m\u001b[92m1.3618485025305644\u001b[0m\t \u001b[1m\u001b[92m1.3508843416756064\u001b[0m\n",
            "15 \t [-1.20769182 -0.85100571]\t 2.6298522769581423\t -0.9587227716627709\t 1.441782100253736\t 1.6598998485364804\n",
            "16 \t [-1.29250458 -1.96655776]\t 49.27362354633758\t -0.9587227716627709\t 1.2500702261702443\t 1.3932925669875873\n",
            "17 \t [1.50614915 0.87511878]\t 2.75924320228817\t -0.9587227716627709\t 1.213472905180091\t 1.5196233253636717\n",
            "18 \t [-0.82165032 -0.48334366]\t 1.526850530344062\t -0.9587227716627709\t 1.308271782228167\t 1.6304816594155256\n",
            "19 \t [ 1.11460205 -1.77070583]\t 27.1750292146039\t -0.9587227716627709\t 1.3165437079166127\t 1.5249475354357287\n",
            "20 \t [-0.82517726  1.99405211]\t 47.54688121306226\t -0.9587227716627709\t 1.1173488678744004\t 1.3927694904318908\n"
          ]
        }
      ],
      "source": [
        "### EXACT STP ERM GRADIENTS\n",
        "\n",
        "np.random.seed(run_num_12)\n",
        "surrogate_exact_12 = dtStudentProcess(cov_func, optimize=opt, nu = df)\n",
        "\n",
        "exact_12 = dGPGO(surrogate_exact_12, Acquisition_grad(util), objfunc, param)\n",
        "exact_12.run(init_evals=n_init, max_iter=iters)\n"
      ]
    },
    {
      "cell_type": "code",
      "execution_count": 46,
      "metadata": {
        "id": "9BsKdU9eJTFL",
        "colab": {
          "base_uri": "https://localhost:8080/"
        },
        "outputId": "6cca1a6a-e7c4-43ad-a3b8-5037b534066a"
      },
      "outputs": [
        {
          "output_type": "stream",
          "name": "stdout",
          "text": [
            "Evaluation \t Proposed point \t  Current eval. \t  Best eval. \t        Exact ERM: StdDev. x \t Approx ERM: StdDev. x \n",
            "init\t [ 1.66621446 -1.04983512]\t 0.752930921147986\t 0.752930921147986\t    \t    \n",
            "init\t [1.9456712  1.86299679]\t 41.05776363102951\t 0.752930921147986\t    \t    \n",
            "init\t [ 2.83560668 -0.18620301]\t 69.0134544723513\t 0.752930921147986\t    \t    \n",
            "init\t [0.65425478 1.10210606]\t 3.117452174069064\t 0.752930921147986\t    \t    \n",
            "init\t [0.84968007 0.88807292]\t 2.006601529383926\t 0.752930921147986\t    \t    \n",
            "1  \t [ 0.23391343 -1.47450383]\t 10.078990931415753\t 0.752930921147986\t 1.632770117543796\t 0.6663985133887933\n",
            "\u001b[1m\u001b[92m2\u001b[0m\t \u001b[1m\u001b[92m[-1.47360489  0.67541883]\u001b[0m\t \u001b[1m\u001b[92m0.2091788113751344\u001b[0m\t \u001b[1m\u001b[92m0.2091788113751344\u001b[0m\t \u001b[1m\u001b[92m2.0400929933551475\u001b[0m\t \u001b[1m\u001b[92m1.6197331678658122\u001b[0m\n",
            "3  \t [-3. -2.]\t 162.89999999999998\t 0.2091788113751344\t 2.0231425002005423\t 1.8625333503403605\n",
            "4  \t [-0.88749791  2.        ]\t 48.235667272358775\t 0.2091788113751344\t 1.5918163873694284\t 2.027784570371314\n",
            "\u001b[1m\u001b[92m5\u001b[0m\t \u001b[1m\u001b[92m[-0.16955943 -0.00853651]\u001b[0m\t \u001b[1m\u001b[92m0.11442966956069439\u001b[0m\t \u001b[1m\u001b[92m0.11442966956069439\u001b[0m\t \u001b[1m\u001b[92m1.8286454912385728\u001b[0m\t \u001b[1m\u001b[92m2.217403898846419\u001b[0m\n",
            "6  \t [-2.61580497  0.52962348]\t 33.64248757212666\t 0.11442966956069439\t 1.652171794385988\t 1.5269316982882215\n",
            "\u001b[1m\u001b[92m7\u001b[0m\t \u001b[1m\u001b[92m[ 0.3766173  -0.37210552]\u001b[0m\t \u001b[1m\u001b[92m-0.09123977505815045\u001b[0m\t \u001b[1m\u001b[92m-0.09123977505815045\u001b[0m\t \u001b[1m\u001b[92m1.6855255780700844\u001b[0m\t \u001b[1m\u001b[92m1.9330872481664318\u001b[0m\n",
            "8  \t [-1.13788446 -0.70844898]\t 2.188258657485599\t -0.09123977505815045\t 1.4003590236502963\t 2.0427525709068353\n",
            "9  \t [ 1.21597094 -1.75620743]\t 25.9789879385469\t -0.09123977505815045\t 1.811023561264168\t 2.1467267174377294\n",
            "10 \t [-0.54243424  0.0012349 ]\t 1.0029489413382136\t -0.09123977505815045\t 1.5943587038748732\t 1.8447778950377893\n",
            "11 \t [ 2.69659614 -1.57666994]\t 56.73540221539666\t -0.09123977505815045\t 1.4786207047656037\t 2.0979338259951814\n",
            "12 \t [ 0.95492794 -0.38739627]\t 1.273927059355439\t -0.09123977505815045\t 1.593883815099357\t 1.5507714079871853\n",
            "13 \t [-2.23028734  1.77433819]\t 32.058226370817614\t -0.09123977505815045\t 1.9253142379936148\t 1.986856663318865\n",
            "14 \t [-0.79290587 -2.        ]\t 51.35339160693357\t -0.09123977505815045\t 1.5215059561999666\t 1.7858044650870784\n",
            "15 \t [3. 2.]\t 162.89999999999998\t -0.09123977505815045\t 1.6286835153145631\t 1.8302472796570044\n",
            "16 \t [1.05219424 2.        ]\t 52.411201169998655\t -0.09123977505815045\t 1.1536099260095238\t 1.6522582217221897\n",
            "17 \t [-1.54436605 -0.28100805]\t 2.2599039261682576\t -0.09123977505815045\t 1.4405983386377488\t 1.8708273456125832\n",
            "18 \t [0.52589152 0.08064238]\t 0.9692425647997353\t -0.09123977505815045\t 0.8889070967705764\t 0.9038149062804639\n",
            "19 \t [-0.87185383  0.05022604]\t 1.9196892593429444\t -0.09123977505815045\t 1.159037707639078\t 1.5200357858894802\n",
            "20 \t [1.059891   0.09512095]\t 2.3808657998469376\t -0.09123977505815045\t 1.3523110932756828\t 1.6580034218662494\n"
          ]
        }
      ],
      "source": [
        "### EXACT STP ERM GRADIENTS\n",
        "\n",
        "np.random.seed(run_num_13)\n",
        "surrogate_exact_13 = dtStudentProcess(cov_func, optimize=opt, nu = df)\n",
        "\n",
        "exact_13 = dGPGO(surrogate_exact_13, Acquisition_grad(util), objfunc, param)\n",
        "exact_13.run(init_evals=n_init, max_iter=iters)\n"
      ]
    },
    {
      "cell_type": "code",
      "execution_count": 47,
      "metadata": {
        "id": "k6GjFBr1JTJf",
        "colab": {
          "base_uri": "https://localhost:8080/"
        },
        "outputId": "889b22a4-b008-4a2c-81cf-074ff8290890"
      },
      "outputs": [
        {
          "output_type": "stream",
          "name": "stdout",
          "text": [
            "Evaluation \t Proposed point \t  Current eval. \t  Best eval. \t        Exact ERM: StdDev. x \t Approx ERM: StdDev. x \n",
            "init\t [0.08366006 1.09266021]\t 1.0453292732107575\t -1.029299726828387\t    \t    \n",
            "init\t [ 2.22256611 -1.96781221]\t 48.81113313056442\t -1.029299726828387\t    \t    \n",
            "init\t [-1.14158445  1.83041496]\t 31.794043287944216\t -1.029299726828387\t    \t    \n",
            "init\t [ 0.07870027 -0.7268623 ]\t -1.029299726828387\t -1.029299726828387\t    \t    \n",
            "init\t [ 0.23519962 -1.11498023]\t 1.161934062902255\t -1.029299726828387\t    \t    \n",
            "1  \t [1.72343274 1.53399857]\t 17.469304464117286\t -1.029299726828387\t 2.063049350885115\t 1.777867080315758\n",
            "2  \t [-1.86185369 -1.85043292]\t 39.16302462140796\t -1.029299726828387\t 2.070960231920124\t 1.6644509918942736\n",
            "3  \t [-2.90877151e+00 -2.49213766e-03]\t 85.41688840682865\t -1.029299726828387\t 1.6565959155655998\t 1.719630086522183\n",
            "4  \t [0.74502838 0.04603883]\t 1.6561050687589653\t -1.029299726828387\t 1.2010325689275194\t 1.7409313537500999\n",
            "5  \t [3. 2.]\t 162.89999999999998\t -1.029299726828387\t 1.23042068383441\t 1.4220097351789864\n",
            "6  \t [0.54249921 2.        ]\t 50.08882425365601\t -1.029299726828387\t 1.1319689617798705\t 1.5689856593859044\n",
            "7  \t [-0.34160998 -0.15506045]\t 0.3978285118088978\t -1.029299726828387\t 1.1927366950303628\t 1.584013537382915\n",
            "8  \t [2.44794033 0.02556481]\t 20.347888513990025\t -1.029299726828387\t 1.7267029673222642\t 2.1894585996330562\n",
            "9  \t [0.17500368 0.105632  ]\t 0.09489651190336998\t -1.029299726828387\t 1.35650639129555\t 1.712129556978621\n",
            "10 \t [1.1246298 0.8992731]\t 2.766741936483835\t -1.029299726828387\t 1.6035655266829802\t 1.7272697762487805\n",
            "11 \t [-0.18445636 -1.6505788 ]\t 19.230144563289524\t -1.029299726828387\t 1.3031072990242114\t 1.765603217240597\n",
            "12 \t [-3. -2.]\t 162.89999999999998\t -1.029299726828387\t 1.6926385223159763\t 1.9252543149999863\n",
            "13 \t [-1.31783272  0.74567355]\t 0.3888581016312951\t -1.029299726828387\t 1.3924478913486134\t 2.0035050903650324\n",
            "14 \t [-2.86492301  1.86155184]\t 104.51274735556329\t -1.029299726828387\t 1.3714364839163593\t 2.1842904456010848\n",
            "15 \t [-1.33321294 -0.85423518]\t 2.6970159133724754\t -1.029299726828387\t 1.3693293783822458\t 1.4837139446337602\n",
            "16 \t [-0.61813857  0.74336546]\t -0.2080563450684053\t -1.029299726828387\t 1.4029065951629167\t 1.5637507869575369\n",
            "17 \t [ 0.9643726  -0.76716832]\t 0.46336925467986134\t -1.029299726828387\t 1.339098119866684\t 1.8915818166268432\n",
            "18 \t [-1.17261746 -0.18301935]\t 2.4813429298300216\t -1.029299726828387\t 1.2836533045235239\t 1.9790983832375664\n",
            "19 \t [-0.65485148  0.19241146]\t 1.0868207869523971\t -1.029299726828387\t 1.1548363560595871\t 1.158508463644744\n",
            "20 \t [-0.44645454 -0.05436322]\t 0.7289792890318527\t -1.029299726828387\t 1.058328434874692\t 1.0222443073172078\n"
          ]
        }
      ],
      "source": [
        "### EXACT STP ERM GRADIENTS\n",
        "\n",
        "np.random.seed(run_num_14)\n",
        "surrogate_exact_14 = dtStudentProcess(cov_func, optimize=opt, nu = df)\n",
        "\n",
        "exact_14 = dGPGO(surrogate_exact_14, Acquisition_grad(util), objfunc, param)\n",
        "exact_14.run(init_evals=n_init, max_iter=iters)\n"
      ]
    },
    {
      "cell_type": "code",
      "execution_count": 48,
      "metadata": {
        "id": "dPS8WB3aJTN6",
        "colab": {
          "base_uri": "https://localhost:8080/"
        },
        "outputId": "c3d7aaf3-62c0-4320-d59e-378bbcf73658"
      },
      "outputs": [
        {
          "output_type": "stream",
          "name": "stdout",
          "text": [
            "Evaluation \t Proposed point \t  Current eval. \t  Best eval. \t        Exact ERM: StdDev. x \t Approx ERM: StdDev. x \n",
            "init\t [ 2.09290618 -1.2844163 ]\t 6.84252100896936\t 2.1163170846379233\t    \t    \n",
            "init\t [-2.67382071 -0.55384622]\t 43.69785230561242\t 2.1163170846379233\t    \t    \n",
            "init\t [-1.34759443  0.1200009 ]\t 2.1163170846379233\t 2.1163170846379233\t    \t    \n",
            "init\t [-1.16448651 -0.78210256]\t 2.3544087277459513\t 2.1163170846379233\t    \t    \n",
            "init\t [-2.32955234 -1.00040394]\t 15.469119251600274\t 2.1163170846379233\t    \t    \n",
            "\u001b[1m\u001b[92m1\u001b[0m\t \u001b[1m\u001b[92m[0.07914102 0.51517986]\u001b[0m\t \u001b[1m\u001b[92m-0.7141278951954018\u001b[0m\t \u001b[1m\u001b[92m-0.7141278951954018\u001b[0m\t \u001b[1m\u001b[92m1.287424496135133\u001b[0m\t \u001b[1m\u001b[92m1.5016571982537847\u001b[0m\n",
            "2  \t [1.50247351 2.        ]\t 53.16770260054279\t -0.7141278951954018\t 1.4188035717249048\t 1.894736464690529\n",
            "3  \t [-0.12706435 -2.        ]\t 48.3181640899666\t -0.7141278951954018\t 1.4010557051559147\t 1.915198678924477\n",
            "4  \t [-1.47755569  2.        ]\t 47.23698036511613\t -0.7141278951954018\t 1.3168893624114324\t 2.2095817539487714\n",
            "5  \t [2.57985699 0.09790484]\t 32.088942074973126\t -0.7141278951954018\t 1.655941407988068\t 2.228360734999654\n",
            "6  \t [-0.47430748  0.40176581]\t 0.06538030394404104\t -0.7141278951954018\t 1.6556895314090294\t 1.962976445719534\n",
            "7  \t [-0.30480716  0.07684837]\t 0.30686306228535715\t -0.7141278951954018\t 1.5162730087414447\t 1.8217464937086825\n",
            "8  \t [-2.19605211 -1.91538537]\t 51.20613826079236\t -0.7141278951954018\t 2.2981265733551277\t 2.196601914069591\n",
            "9  \t [0.24017436 0.08637844]\t 0.21493494519638318\t -0.7141278951954018\t 1.2365707987832613\t 1.7364500400656673\n",
            "10 \t [ 2.8140135  -1.72095474]\t 83.90461479033235\t -0.7141278951954018\t 1.480528078650392\t 2.119695466577201\n",
            "11 \t [ 0.7024468  -0.13174778]\t 1.3417046937441641\t -0.7141278951954018\t 1.526684075899011\t 1.401382356275805\n",
            "12 \t [-0.4852299   0.01859321]\t 0.8193234741287513\t -0.7141278951954018\t 1.450795872824889\t 1.5590105725405112\n",
            "13 \t [ 1.16849174 -0.92546482]\t 0.8219719267788589\t -0.7141278951954018\t 0.9866631265693387\t 2.271590944869103\n",
            "14 \t [ 1.59501006 -0.61294682]\t 0.15726581572037268\t -0.7141278951954018\t 0.8164194180807288\t 2.0514074463748795\n",
            "15 \t [3. 2.]\t 162.89999999999998\t -0.7141278951954018\t 1.5038837814240156\t 1.7574423417869638\n",
            "16 \t [-2.95101279  1.21483727]\t 94.94220703513093\t -0.7141278951954018\t 1.7256987965469073\t 2.0269539009765123\n",
            "17 \t [0.35669978 2.        ]\t 49.189028841534025\t -0.7141278951954018\t 1.5475225588155814\t 1.7048743079911546\n",
            "18 \t [ 1.10663413 -1.88935464]\t 36.96176313756609\t -0.7141278951954018\t 1.4209631797972457\t 1.483434779775733\n",
            "19 \t [-1.64558246 -0.42929072]\t 2.156764101458992\t -0.7141278951954018\t 1.5374317809319202\t 1.66855982796154\n",
            "20 \t [ 1.26059916 -0.20284429]\t 1.9774993057954353\t -0.7141278951954018\t 1.1232447191762873\t 1.388239683590063\n"
          ]
        }
      ],
      "source": [
        "### EXACT STP ERM GRADIENTS\n",
        "\n",
        "np.random.seed(run_num_15)\n",
        "surrogate_exact_15 = dtStudentProcess(cov_func, optimize=opt, nu = df)\n",
        "\n",
        "exact_15 = dGPGO(surrogate_exact_15, Acquisition_grad(util), objfunc, param)\n",
        "exact_15.run(init_evals=n_init, max_iter=iters)\n"
      ]
    },
    {
      "cell_type": "code",
      "execution_count": 49,
      "metadata": {
        "id": "lu8ki9XIQPPN",
        "colab": {
          "base_uri": "https://localhost:8080/"
        },
        "outputId": "9995dce3-967a-44bc-e641-f0a9e141d380"
      },
      "outputs": [
        {
          "output_type": "stream",
          "name": "stdout",
          "text": [
            "Evaluation \t Proposed point \t  Current eval. \t  Best eval. \t        Exact ERM: StdDev. x \t Approx ERM: StdDev. x \n",
            "init\t [-1.66025353  0.09265337]\t 1.8632773736203017\t 1.8632773736203017\t    \t    \n",
            "init\t [ 0.30420874 -1.8175922 ]\t 30.24114424375299\t 1.8632773736203017\t    \t    \n",
            "init\t [-0.83562699 -1.10767623]\t 3.922061281476444\t 1.8632773736203017\t    \t    \n",
            "init\t [ 1.13235697 -1.3450743 ]\t 6.7121671493737685\t 1.8632773736203017\t    \t    \n",
            "init\t [-2.5780508   1.76404344]\t 53.42443470756798\t 1.8632773736203017\t    \t    \n",
            "1  \t [3.         0.15345315]\t 109.26838598640812\t 1.8632773736203017\t 1.7765899256627646\t 2.1998951314082835\n",
            "2  \t [-3. -2.]\t 162.89999999999998\t 1.8632773736203017\t 1.643498219165609\t 1.9429937899535659\n",
            "3  \t [0.47211741 2.        ]\t 49.735173087285055\t 1.8632773736203017\t 1.3888354320989302\t 1.7452346746299114\n",
            "\u001b[1m\u001b[92m4\u001b[0m\t \u001b[1m\u001b[92m[0.0258271 0.1372264]\u001b[0m\t \u001b[1m\u001b[92m-0.06769452241271019\u001b[0m\t \u001b[1m\u001b[92m-0.06769452241271019\u001b[0m\t \u001b[1m\u001b[92m1.2290256898922907\u001b[0m\t \u001b[1m\u001b[92m1.7612616241305405\u001b[0m\n",
            "5  \t [-0.52681676 -0.2163495 ]\t 0.8910261943904844\t -0.06769452241271019\t 1.5230337831256744\t 1.6649944584762995\n",
            "6  \t [ 2.25690291 -1.66535146]\t 25.856010198972065\t -0.06769452241271019\t 1.9590010443520935\t 2.1674217036300227\n",
            "7  \t [3. 2.]\t 162.89999999999998\t -0.06769452241271019\t 1.4121283932719215\t 1.6827694887576385\n",
            "8  \t [ 1.12282357 -0.26410928]\t 1.8169475029791164\t -0.06769452241271019\t 1.2146106162209376\t 1.3932619704081743\n",
            "9  \t [-3.          0.19262277]\t 108.17922426246274\t -0.06769452241271019\t 1.4142655426659498\t 1.6765803539112374\n",
            "10 \t [-0.95793287  1.1185021 ]\t 2.344629187606155\t -0.06769452241271019\t 1.3069253515483554\t 1.8116684460004537\n",
            "11 \t [-1.13321695 -2.        ]\t 52.64592727379292\t -0.06769452241271019\t 1.3138767952529635\t 1.7965853290728344\n",
            "12 \t [-1.29423331 -0.50929729]\t 2.265386590605157\t -0.06769452241271019\t 1.4431948314149257\t 1.8356806558741487\n",
            "\u001b[1m\u001b[92m13\u001b[0m\t \u001b[1m\u001b[92m[ 0.54167332 -0.74015781]\u001b[0m\t \u001b[1m\u001b[92m-0.3904995366733447\u001b[0m\t \u001b[1m\u001b[92m-0.3904995366733447\u001b[0m\t \u001b[1m\u001b[92m1.1687768724284244\u001b[0m\t \u001b[1m\u001b[92m1.6436414050589396\u001b[0m\n",
            "14 \t [-1.31532811  0.55709292]\t 0.7718963144617021\t -0.3904995366733447\t 1.1654854993021626\t 1.3885078846905883\n",
            "15 \t [-0.97176863  2.        ]\t 48.24179745209956\t -0.3904995366733447\t 1.143369299295314\t 1.6743950930179037\n",
            "16 \t [0.97686179 0.80952351]\t 2.08170725413041\t -0.3904995366733447\t 1.1178126939077426\t 1.0909295494217335\n",
            "17 \t [-0.25264918  0.96696226]\t -0.24048974014311247\t -0.3904995366733447\t 1.2982058405482733\t 1.7149381951637412\n",
            "18 \t [0.68506933 0.28789018]\t 1.3423675911236337\t -0.3904995366733447\t 1.2227951492648557\t 1.3480413037011443\n",
            "19 \t [-0.84459749  0.04201177]\t 1.8632389038041872\t -0.3904995366733447\t 0.9875576124382662\t 1.1369581143972514\n",
            "20 \t [-0.74443039  0.16632241]\t 1.3970961751579398\t -0.3904995366733447\t 1.1190634346493655\t 1.072341048086878\n"
          ]
        }
      ],
      "source": [
        "### EXACT STP ERM GRADIENTS\n",
        "\n",
        "np.random.seed(run_num_16)\n",
        "surrogate_exact_16 = dtStudentProcess(cov_func, optimize=opt, nu = df)\n",
        "\n",
        "exact_16 = dGPGO(surrogate_exact_16, Acquisition_grad(util), objfunc, param)\n",
        "exact_16.run(init_evals=n_init, max_iter=iters)\n"
      ]
    },
    {
      "cell_type": "code",
      "execution_count": 50,
      "metadata": {
        "id": "yU2SflSsJTUs",
        "colab": {
          "base_uri": "https://localhost:8080/"
        },
        "outputId": "90e29d9d-c86b-47cf-ba0c-43244ac9c936"
      },
      "outputs": [
        {
          "output_type": "stream",
          "name": "stdout",
          "text": [
            "Evaluation \t Proposed point \t  Current eval. \t  Best eval. \t        Exact ERM: StdDev. x \t Approx ERM: StdDev. x \n",
            "init\t [-1.23200998  0.12234702]\t 2.189206652278967\t 1.7722768782964888\t    \t    \n",
            "init\t [-1.85087528 -1.72839857]\t 29.406067820453675\t 1.7722768782964888\t    \t    \n",
            "init\t [1.72191276 0.62533409]\t 2.2113401446731897\t 1.7722768782964888\t    \t    \n",
            "init\t [0.82512538 0.30241158]\t 1.7722768782964888\t 1.7722768782964888\t    \t    \n",
            "init\t [-2.7656225  -0.56874558]\t 57.5922315952177\t 1.7722768782964888\t    \t    \n",
            "1  \t [-0.78867759  1.94429295]\t 42.2631771177913\t 1.7722768782964888\t 1.4051418994107843\t 1.9058503266977593\n",
            "2  \t [ 2.16747806 -2.        ]\t 50.67077466992877\t 1.7722768782964888\t 1.643264274889561\t 2.365903632864196\n",
            "3  \t [3. 2.]\t 162.89999999999998\t 1.7722768782964888\t 1.4438691728304802\t 1.831933060278122\n",
            "\u001b[1m\u001b[92m4\u001b[0m\t \u001b[1m\u001b[92m[ 0.12485783 -0.98174   ]\u001b[0m\t \u001b[1m\u001b[92m-0.2002375500917445\u001b[0m\t \u001b[1m\u001b[92m-0.2002375500917445\u001b[0m\t \u001b[1m\u001b[92m1.412140592933842\u001b[0m\t \u001b[1m\u001b[92m1.8701678272914197\u001b[0m\n",
            "5  \t [-0.18188285 -1.98018552]\t 46.30685178355699\t -0.2002375500917445\t 1.2521218079912095\t 1.865646516013551\n",
            "6  \t [0.09769709 0.13185802]\t -0.017466981395309833\t -0.2002375500917445\t 1.179767567484055\t 1.7604759437807183\n",
            "7  \t [ 1.27531672 -0.25767591]\t 1.8081891763779088\t -0.2002375500917445\t 1.2025745529853467\t 1.8904435044429813\n",
            "8  \t [-2.38338875  1.34042537]\t 18.590547454615788\t -0.2002375500917445\t 1.3152733406734103\t 1.8136188910913202\n",
            "9  \t [ 2.74465289 -0.27216073]\t 52.43679365041095\t -0.2002375500917445\t 1.6914369355840364\t 2.3217625426963298\n",
            "10 \t [ 0.19879616 -0.00575484]\t 0.15354388911116243\t -0.2002375500917445\t 1.047918321960625\t 1.0562431384568634\n",
            "11 \t [0.93816653 2.        ]\t 51.99741905791086\t -0.2002375500917445\t 1.7654462515854619\t 2.2703321242906376\n",
            "12 \t [-0.645475   -0.47358864]\t 0.9358884755183597\t -0.2002375500917445\t 1.607860981982018\t 1.9378025137260053\n",
            "13 \t [-3. -2.]\t 162.89999999999998\t -0.2002375500917445\t 1.6939818600014003\t 1.9264650132721175\n",
            "14 \t [-1.62926329 -0.66755549]\t 2.1549337686148515\t -0.2002375500917445\t 1.3546547739736607\t 1.8510402840415339\n",
            "15 \t [-1.25042676 -1.12381306]\t 5.1281348439761905\t -0.2002375500917445\t 1.288982063859285\t 1.6588194054148055\n",
            "16 \t [-2.6801324   0.52495199]\t 41.71558703961858\t -0.2002375500917445\t 1.2192987589264273\t 2.011009948247082\n",
            "17 \t [ 0.91502747 -1.23058129]\t 4.062038172005386\t -0.2002375500917445\t 1.264042504726302\t 1.5904576855840686\n",
            "18 \t [-0.67929269  0.79678105]\t -0.03713733803743979\t -0.2002375500917445\t 1.202553451006785\t 1.8921165865402345\n",
            "19 \t [-0.49828611  0.18887553]\t 0.6370792891343482\t -0.2002375500917445\t 1.2331343112289401\t 1.7887083021901506\n",
            "20 \t [ 0.57481851 -0.19523474]\t 0.8455428362964693\t -0.2002375500917445\t 1.2367558797793536\t 1.2593824539683174\n"
          ]
        }
      ],
      "source": [
        "### EXACT STP ERM GRADIENTS\n",
        "\n",
        "np.random.seed(run_num_17)\n",
        "surrogate_exact_17 = dtStudentProcess(cov_func, optimize=opt, nu = df)\n",
        "\n",
        "exact_17 = dGPGO(surrogate_exact_17, Acquisition_grad(util), objfunc, param)\n",
        "exact_17.run(init_evals=n_init, max_iter=iters)\n"
      ]
    },
    {
      "cell_type": "code",
      "execution_count": 51,
      "metadata": {
        "id": "eVEhyZ9BQS-1",
        "colab": {
          "base_uri": "https://localhost:8080/"
        },
        "outputId": "bf083a65-4be4-4140-e009-33eb47f4e820"
      },
      "outputs": [
        {
          "output_type": "stream",
          "name": "stdout",
          "text": [
            "Evaluation \t Proposed point \t  Current eval. \t  Best eval. \t        Exact ERM: StdDev. x \t Approx ERM: StdDev. x \n",
            "init\t [0.90224545 0.02181349]\t 2.062169771852028\t 2.062169771852028\t    \t    \n",
            "init\t [ 2.27160883 -1.2726391 ]\t 11.64729291207819\t 2.062169771852028\t    \t    \n",
            "init\t [2.11339841 1.00054514]\t 7.792128760671214\t 2.062169771852028\t    \t    \n",
            "init\t [0.99661    1.95158179]\t 46.96206222999227\t 2.062169771852028\t    \t    \n",
            "init\t [-1.45818946 -1.8867763 ]\t 41.4190528039297\t 2.062169771852028\t    \t    \n",
            "1  \t [-2.93389983  1.13961102]\t 89.63634825741386\t 2.062169771852028\t 1.728375659886469\t 2.2729182622755477\n",
            "2  \t [ 0.82830172 -2.        ]\t 48.206887662012676\t 2.062169771852028\t 1.6366049951764494\t 1.7614483134276442\n",
            "3  \t [3. 2.]\t 162.89999999999998\t 2.062169771852028\t 1.4294815893091384\t 1.9767078075405229\n",
            "\u001b[1m\u001b[92m4\u001b[0m\t \u001b[1m\u001b[92m[-0.50766426  0.48081775]\u001b[0m\t \u001b[1m\u001b[92m-0.05793581871006548\u001b[0m\t \u001b[1m\u001b[92m-0.05793581871006548\u001b[0m\t \u001b[1m\u001b[92m1.3633995653872792\u001b[0m\t \u001b[1m\u001b[92m2.008318420573291\u001b[0m\n",
            "5  \t [-3. -2.]\t 162.89999999999998\t -0.05793581871006548\t 1.185072988501861\t 1.9767423550618695\n",
            "6  \t [ 2.55281837 -0.21050435]\t 28.431055368923136\t -0.05793581871006548\t 1.0066130045666526\t 1.5745110769923358\n",
            "7  \t [-0.35021407 -0.39507694]\t 0.07109373821704734\t -0.05793581871006548\t 1.1316773397346334\t 1.578508747292457\n",
            "8  \t [-0.62604668  1.35262607]\t 6.489728808713931\t -0.05793581871006548\t 0.7859070082087034\t 1.339360444638936\n",
            "\u001b[1m\u001b[92m9\u001b[0m\t \u001b[1m\u001b[92m[0.2016338  0.36095014]\u001b[0m\t \u001b[1m\u001b[92m-0.22128753410210034\u001b[0m\t \u001b[1m\u001b[92m-0.22128753410210034\u001b[0m\t \u001b[1m\u001b[92m1.0567571125621498\u001b[0m\t \u001b[1m\u001b[92m1.7316311788493164\u001b[0m\n",
            "10 \t [-1.06900881  0.02011823]\t 2.302977871054662\t -0.22128753410210034\t 1.2368274199543523\t 1.4991407058738697\n",
            "11 \t [1.47892508 0.66867822]\t 2.19056691614004\t -0.22128753410210034\t 1.4393541200731683\t 2.1005129734331387\n",
            "12 \t [ 0.05372959 -0.06983515]\t -0.011634890046003946\t -0.22128753410210034\t 0.9438167253214224\t 1.3202041808512612\n",
            "13 \t [ 2.87499839 -1.82536482]\t 103.65834348020223\t -0.22128753410210034\t 1.4579127197192765\t 1.8408177654635371\n",
            "14 \t [-2.3229305  -0.30939803]\t 13.182652818533096\t -0.22128753410210034\t 1.326701910517186\t 1.7507408050047675\n",
            "15 \t [ 1.64699424 -1.01076547]\t 0.47520307069213863\t -0.22128753410210034\t 1.3684067231257777\t 1.8235077258863521\n",
            "16 \t [-1.35309573 -0.82228467]\t 2.566594259958526\t -0.22128753410210034\t 1.4160288163464978\t 1.7170750602063205\n",
            "17 \t [-0.94316404  2.        ]\t 48.24478586678292\t -0.22128753410210034\t 1.522867445736433\t 1.9267390817977879\n",
            "18 \t [ 0.87641242 -0.09418162]\t 1.8667912789600531\t -0.22128753410210034\t 1.1369394047706374\t 0.9381649286333168\n",
            "19 \t [-0.76150276 -1.09116105]\t 3.417196342162886\t -0.22128753410210034\t 1.3868063143996945\t 1.7356439229168663\n",
            "20 \t [1.68463208 0.00710545]\t 2.0691685609205432\t -0.22128753410210034\t 1.1330331192390264\t 1.4789684194132684\n"
          ]
        }
      ],
      "source": [
        "### EXACT STP ERM GRADIENTS\n",
        "\n",
        "np.random.seed(run_num_18)\n",
        "surrogate_exact_18 = dtStudentProcess(cov_func, optimize=opt, nu = df)\n",
        "\n",
        "exact_18 = dGPGO(surrogate_exact_18, Acquisition_grad(util), objfunc, param)\n",
        "exact_18.run(init_evals=n_init, max_iter=iters)\n"
      ]
    },
    {
      "cell_type": "code",
      "execution_count": 52,
      "metadata": {
        "id": "B6gTz1ojQUxn",
        "colab": {
          "base_uri": "https://localhost:8080/"
        },
        "outputId": "f961734a-08c2-4401-ac65-9767e719bd30"
      },
      "outputs": [
        {
          "output_type": "stream",
          "name": "stdout",
          "text": [
            "Evaluation \t Proposed point \t  Current eval. \t  Best eval. \t        Exact ERM: StdDev. x \t Approx ERM: StdDev. x \n",
            "init\t [-2.41479839  1.04499887]\t 15.890475442873509\t 6.578088852480828\t    \t    \n",
            "init\t [-1.51837216 -1.44747325]\t 13.520839509777993\t 6.578088852480828\t    \t    \n",
            "init\t [-1.01132062 -1.66800174]\t 23.772158573571232\t 6.578088852480828\t    \t    \n",
            "init\t [1.03186249 1.22637519]\t 6.578088852480828\t 6.578088852480828\t    \t    \n",
            "init\t [2.89645149 0.54264294]\t 83.31828503667734\t 6.578088852480828\t    \t    \n",
            "1  \t [-0.35736043  2.        ]\t 47.762550518838175\t 6.578088852480828\t 1.511877347133899\t 1.97700982150351\n",
            "2  \t [ 1.28165888 -1.8739018 ]\t 35.25664329958187\t 6.578088852480828\t 1.8536569283888988\t 2.354066965197878\n",
            "3  \t [-3. -2.]\t 162.89999999999998\t 6.578088852480828\t 1.9581874411913798\t 1.7819974394775147\n",
            "\u001b[1m\u001b[92m4\u001b[0m\t \u001b[1m\u001b[92m[-0.05844647 -0.06324761]\u001b[0m\t \u001b[1m\u001b[92m0.0013990362017589943\u001b[0m\t \u001b[1m\u001b[92m0.0013990362017589943\u001b[0m\t \u001b[1m\u001b[92m1.6000449733396804\u001b[0m\t \u001b[1m\u001b[92m1.964527415476044\u001b[0m\n",
            "5  \t [-1.23541732  0.22559966]\t 1.9263503463941705\t 0.0013990362017589943\t 1.396419040375978\t 1.7390816022162976\n",
            "6  \t [-0.23602566 -0.04772956]\t 0.2185466682022925\t 0.0013990362017589943\t 1.5147014447599862\t 1.8494611457758774\n",
            "7  \t [3. 2.]\t 162.89999999999998\t 0.0013990362017589943\t 1.4497640672172232\t 2.0427104008398653\n",
            "8  \t [-1.40359948 -0.61221558]\t 2.200529397123511\t 0.0013990362017589943\t 1.2950934579492053\t 1.9006254301899672\n",
            "9  \t [ 1.46113751 -0.12877828]\t 1.9582977676607443\t 0.0013990362017589943\t 1.237005396423045\t 1.8528969951186351\n",
            "10 \t [ 2.72118161 -0.99153626]\t 47.048029863588994\t 0.0013990362017589943\t 1.5395267899521559\t 2.434771861585885\n",
            "11 \t [0.67995993 0.4874755 ]\t 1.0402340604046034\t 0.0013990362017589943\t 1.2285284066022224\t 2.187049858515073\n",
            "12 \t [-2.6433103  -0.12674324]\t 39.4012568970022\t 0.0013990362017589943\t 1.4594093623669793\t 2.027679915339024\n",
            "13 \t [-1.75655497  1.75951354]\t 25.00483323635399\t 0.0013990362017589943\t 1.2544269990022985\t 2.151438991645642\n",
            "14 \t [0.94257739 1.88405359]\t 40.10746584587986\t 0.0013990362017589943\t 1.0699107104219088\t 2.0073524162861993\n",
            "15 \t [-2.94654728  1.44028649]\t 99.25486852831676\t 0.0013990362017589943\t 1.4178364155984202\t 1.7559815701400676\n",
            "\u001b[1m\u001b[92m16\u001b[0m\t \u001b[1m\u001b[92m[-1.6274964  0.6882921]\u001b[0m\t \u001b[1m\u001b[92m-0.06134167978536642\u001b[0m\t \u001b[1m\u001b[92m-0.06134167978536642\u001b[0m\t \u001b[1m\u001b[92m1.3003510801772922\u001b[0m\t \u001b[1m\u001b[92m1.196488260013437\u001b[0m\n",
            "17 \t [1.32215947 0.64281877]\t 2.2357864899640854\t -0.06134167978536642\t 1.2220014404757056\t 1.6980554481302208\n",
            "18 \t [ 0.84612802 -0.85391023]\t 0.3972196291703398\t -0.06134167978536642\t 1.3686588718691672\t 1.3565767985183381\n",
            "\u001b[1m\u001b[92m19\u001b[0m\t \u001b[1m\u001b[92m[ 0.19153454 -0.42097524]\u001b[0m\t \u001b[1m\u001b[92m-0.519951824686232\u001b[0m\t \u001b[1m\u001b[92m-0.519951824686232\u001b[0m\t \u001b[1m\u001b[92m1.112564530033462\u001b[0m\t \u001b[1m\u001b[92m1.0479081452945609\u001b[0m\n",
            "20 \t [ 0.85112918 -0.21119774]\t 1.5721393637475707\t -0.519951824686232\t 1.2933151986673301\t 1.5129070800085431\n"
          ]
        }
      ],
      "source": [
        "### EXACT STP ERM GRADIENTS\n",
        "\n",
        "np.random.seed(run_num_19)\n",
        "surrogate_exact_19 = dtStudentProcess(cov_func, optimize=opt, nu = df)\n",
        "\n",
        "exact_19 = dGPGO(surrogate_exact_19, Acquisition_grad(util), objfunc, param)\n",
        "exact_19.run(init_evals=n_init, max_iter=iters)\n"
      ]
    },
    {
      "cell_type": "code",
      "execution_count": 53,
      "metadata": {
        "id": "aw3xvSryIwDi",
        "colab": {
          "base_uri": "https://localhost:8080/"
        },
        "outputId": "bfb6aa1b-74cb-461c-be2d-66937991016b"
      },
      "outputs": [
        {
          "output_type": "stream",
          "name": "stdout",
          "text": [
            "Evaluation \t Proposed point \t  Current eval. \t  Best eval. \t        Exact ERM: StdDev. x \t Approx ERM: StdDev. x \n",
            "init\t [0.52878481 1.59085491]\t 17.29968374481291\t 1.5037392797834441\t    \t    \n",
            "init\t [2.34918438 1.26334991]\t 20.91583049569433\t 1.5037392797834441\t    \t    \n",
            "init\t [-2.78466249  0.76703033]\t 57.06253405225224\t 1.5037392797834441\t    \t    \n",
            "init\t [-0.72791435  0.07404378]\t 1.5037392797834441\t 1.5037392797834441\t    \t    \n",
            "init\t [ 0.94770879 -1.22459913]\t 3.9766737661914173\t 1.5037392797834441\t    \t    \n",
            "1  \t [-1.30221848 -2.        ]\t 52.974153216082456\t 1.5037392797834441\t 1.8114724601065746\t 1.649504202104326\n",
            "2  \t [ 2.77604483 -1.46935502]\t 64.59793259599941\t 1.5037392797834441\t 1.5243778516463886\t 2.1239401613922264\n",
            "\u001b[1m\u001b[92m3\u001b[0m\t \u001b[1m\u001b[92m[ 0.32709425 -0.10185972]\u001b[0m\t \u001b[1m\u001b[92m0.3299434069389006\u001b[0m\t \u001b[1m\u001b[92m0.3299434069389006\u001b[0m\t \u001b[1m\u001b[92m1.480021640457552\u001b[0m\t \u001b[1m\u001b[92m1.7361980898301261\u001b[0m\n",
            "4  \t [-0.63018161  1.68862292]\t 21.331278346830658\t 0.3299434069389006\t 1.5059632802555654\t 1.8017262991690828\n",
            "\u001b[1m\u001b[92m5\u001b[0m\t \u001b[1m\u001b[92m[-0.04462229 -0.11711559]\u001b[0m\t \u001b[1m\u001b[92m-0.040929489025142984\u001b[0m\t \u001b[1m\u001b[92m-0.040929489025142984\u001b[0m\t \u001b[1m\u001b[92m1.2587254489033828\u001b[0m\t \u001b[1m\u001b[92m1.7344100778234481\u001b[0m\n",
            "6  \t [-3. -2.]\t 162.89999999999998\t -0.040929489025142984\t 1.7202431709317634\t 1.9770556564776063\n",
            "7  \t [ 0.05281731 -1.97775813]\t 45.46075434273195\t -0.040929489025142984\t 1.5336317459350648\t 2.1077622562269043\n",
            "8  \t [3. 2.]\t 162.89999999999998\t -0.040929489025142984\t 1.1749498065863944\t 1.7856460625965977\n",
            "9  \t [1.38308313 0.04388087]\t 2.3535242564787273\t -0.040929489025142984\t 0.784850445816791\t 1.323882258035\n",
            "10 \t [2.4620868  0.41054803]\t 21.78094758700871\t -0.040929489025142984\t 1.3354386867709709\t 1.8481904187222764\n",
            "11 \t [0.83846851 0.23986393]\t 1.8742366397821533\t -0.040929489025142984\t 1.0892559759697409\t 1.3525544407481593\n",
            "12 \t [1.78542978 0.85115443]\t 2.9302510538265394\t -0.040929489025142984\t 1.3925927907471367\t 1.8090975676999748\n",
            "13 \t [-0.8790655  -0.83571829]\t 1.8829640345948622\t -0.040929489025142984\t 1.4831033342275806\t 1.9723097539176384\n",
            "14 \t [1.54626935 1.69226446]\t 26.081044029964936\t -0.040929489025142984\t 1.3093614686019153\t 1.8838340191805045\n",
            "15 \t [ 1.56980581 -1.60906695]\t 16.024129024939725\t -0.040929489025142984\t 1.2487202901076986\t 1.9005719521086473\n",
            "16 \t [-1.93914055 -0.49632457]\t 3.290610133970931\t -0.040929489025142984\t 1.3129574747883852\t 1.6323273958974953\n",
            "\u001b[1m\u001b[92m17\u001b[0m\t \u001b[1m\u001b[92m[-0.05321038  0.70110676]\u001b[0m\t \u001b[1m\u001b[92m-1.0257120422560455\u001b[0m\t \u001b[1m\u001b[92m-1.0257120422560455\u001b[0m\t \u001b[1m\u001b[92m1.2593430372268457\u001b[0m\t \u001b[1m\u001b[92m1.5336284715957866\u001b[0m\n",
            "18 \t [ 1.39346149 -0.84091781]\t 0.2894132087644741\t -1.0257120422560455\t 1.3069490940228332\t 2.14704515310841\n",
            "19 \t [-1.12230417  0.14433729]\t 2.129116482918953\t -1.0257120422560455\t 1.1228915094789182\t 1.5261733515504252\n",
            "20 \t [ 0.84430457 -0.01326898]\t 1.8931134901277549\t -1.0257120422560455\t 0.8107866621529531\t 1.0026946979929767\n"
          ]
        }
      ],
      "source": [
        "### EXACT STP ERM GRADIENTS\n",
        "\n",
        "np.random.seed(run_num_20)\n",
        "surrogate_exact_20 = dtStudentProcess(cov_func, optimize=opt, nu = df)\n",
        "\n",
        "exact_20 = dGPGO(surrogate_exact_20, Acquisition_grad(util), objfunc, param)\n",
        "exact_20.run(init_evals=n_init, max_iter=iters)\n"
      ]
    },
    {
      "cell_type": "code",
      "execution_count": 54,
      "metadata": {
        "id": "5c8szjivRPme",
        "colab": {
          "base_uri": "https://localhost:8080/"
        },
        "outputId": "740d5658-fb34-4235-bb2c-b9ec1d50b905"
      },
      "outputs": [
        {
          "output_type": "execute_result",
          "data": {
            "text/plain": [
              "1114.5121965408325"
            ]
          },
          "metadata": {},
          "execution_count": 54
        }
      ],
      "source": [
        "end_exact = time.time()\n",
        "end_exact\n",
        "\n",
        "time_exact = end_exact - start_exact\n",
        "time_exact\n"
      ]
    },
    {
      "cell_type": "code",
      "execution_count": 55,
      "metadata": {
        "id": "f6gCKnp6RR8c",
        "colab": {
          "base_uri": "https://localhost:8080/"
        },
        "outputId": "9d44b463-1025-4a84-a485-fd9eaa87df2d"
      },
      "outputs": [
        {
          "output_type": "execute_result",
          "data": {
            "text/plain": [
              "(-0.2658009358573259, -0.2658009358573259)"
            ]
          },
          "metadata": {},
          "execution_count": 55
        }
      ],
      "source": [
        "### Simple regret minimization: run number = 1\n",
        "\n",
        "approx_output_1 = np.append(np.min(-approx_1.GP.y[0:n_init]),-approx_1.GP.y[n_init:(n_init+iters)]) \n",
        "exact_output_1 = np.append(np.min(-exact_1.GP.y[0:n_init]),-exact_1.GP.y[n_init:(n_init+iters)]) \n",
        "\n",
        "regret_approx_1 = np.log(approx_output_1 - y_global_orig)\n",
        "regret_exact_1 = np.log(exact_output_1 - y_global_orig)\n",
        "\n",
        "simple_regret_approx_1 = min_max_array(regret_approx_1)\n",
        "simple_regret_exact_1 = min_max_array(regret_exact_1)\n",
        "\n",
        "min_simple_regret_approx_1 = min(simple_regret_approx_1)\n",
        "min_simple_regret_exact_1 = min(simple_regret_exact_1)\n",
        "\n",
        "min_simple_regret_approx_1, min_simple_regret_exact_1\n"
      ]
    },
    {
      "cell_type": "code",
      "execution_count": 56,
      "metadata": {
        "id": "94yBw5tqQxfk",
        "colab": {
          "base_uri": "https://localhost:8080/"
        },
        "outputId": "72432585-ecf9-4def-8bdb-a42553d1389e"
      },
      "outputs": [
        {
          "output_type": "execute_result",
          "data": {
            "text/plain": [
              "(-0.3433609255959806, -0.18717900955905534)"
            ]
          },
          "metadata": {},
          "execution_count": 56
        }
      ],
      "source": [
        "### Simple regret minimization: run number = 2\n",
        "\n",
        "approx_output_2 = np.append(np.min(-approx_2.GP.y[0:n_init]),-approx_2.GP.y[n_init:(n_init+iters)]) \n",
        "exact_output_2 = np.append(np.min(-exact_2.GP.y[0:n_init]),-exact_2.GP.y[n_init:(n_init+iters)]) \n",
        "\n",
        "regret_approx_2 = np.log(approx_output_2 - y_global_orig)\n",
        "regret_exact_2 = np.log(exact_output_2 - y_global_orig)\n",
        "\n",
        "simple_regret_approx_2 = min_max_array(regret_approx_2)\n",
        "simple_regret_exact_2 = min_max_array(regret_exact_2)\n",
        "\n",
        "min_simple_regret_approx_2 = min(simple_regret_approx_2)\n",
        "min_simple_regret_exact_2 = min(simple_regret_exact_2)\n",
        "\n",
        "min_simple_regret_approx_2, min_simple_regret_exact_2\n"
      ]
    },
    {
      "cell_type": "code",
      "execution_count": 57,
      "metadata": {
        "id": "Bu6SBWALQxfl",
        "colab": {
          "base_uri": "https://localhost:8080/"
        },
        "outputId": "9fc81879-c444-4f07-d16a-062e31483c85"
      },
      "outputs": [
        {
          "output_type": "execute_result",
          "data": {
            "text/plain": [
              "(-0.23773993035753282, -0.23773993035753282)"
            ]
          },
          "metadata": {},
          "execution_count": 57
        }
      ],
      "source": [
        "### Simple regret minimization: run number = 3\n",
        "\n",
        "approx_output_3 = np.append(np.min(-approx_3.GP.y[0:n_init]),-approx_3.GP.y[n_init:(n_init+iters)]) \n",
        "exact_output_3 = np.append(np.min(-exact_3.GP.y[0:n_init]),-exact_3.GP.y[n_init:(n_init+iters)]) \n",
        "\n",
        "regret_approx_3 = np.log(approx_output_3 - y_global_orig)\n",
        "regret_exact_3 = np.log(exact_output_3 - y_global_orig)\n",
        "\n",
        "simple_regret_approx_3 = min_max_array(regret_approx_3)\n",
        "simple_regret_exact_3 = min_max_array(regret_exact_3)\n",
        "\n",
        "min_simple_regret_approx_3 = min(simple_regret_approx_3)\n",
        "min_simple_regret_exact_3 = min(simple_regret_exact_3)\n",
        "\n",
        "min_simple_regret_approx_3, min_simple_regret_exact_3"
      ]
    },
    {
      "cell_type": "code",
      "execution_count": 58,
      "metadata": {
        "id": "AZm0jgxkQxfm",
        "colab": {
          "base_uri": "https://localhost:8080/"
        },
        "outputId": "8d764168-77b8-4b02-f965-008451ecf22b"
      },
      "outputs": [
        {
          "output_type": "execute_result",
          "data": {
            "text/plain": [
              "(-0.7348729902206088, -0.7719373840930929)"
            ]
          },
          "metadata": {},
          "execution_count": 58
        }
      ],
      "source": [
        "### Simple regret minimization: run number = 4\n",
        "\n",
        "approx_output_4 = np.append(np.min(-approx_4.GP.y[0:n_init]),-approx_4.GP.y[n_init:(n_init+iters)]) \n",
        "exact_output_4 = np.append(np.min(-exact_4.GP.y[0:n_init]),-exact_4.GP.y[n_init:(n_init+iters)]) \n",
        "\n",
        "regret_approx_4 = np.log(approx_output_4 - y_global_orig)\n",
        "regret_exact_4 = np.log(exact_output_4 - y_global_orig)\n",
        "\n",
        "simple_regret_approx_4 = min_max_array(regret_approx_4)\n",
        "simple_regret_exact_4 = min_max_array(regret_exact_4)\n",
        "\n",
        "min_simple_regret_approx_4 = min(simple_regret_approx_4)\n",
        "min_simple_regret_exact_4 = min(simple_regret_exact_4)\n",
        "\n",
        "min_simple_regret_approx_4, min_simple_regret_exact_4"
      ]
    },
    {
      "cell_type": "code",
      "execution_count": 59,
      "metadata": {
        "id": "NONPm8JIQxfn",
        "colab": {
          "base_uri": "https://localhost:8080/"
        },
        "outputId": "136093fb-1bc6-461d-85ce-04fc58477099"
      },
      "outputs": [
        {
          "output_type": "execute_result",
          "data": {
            "text/plain": [
              "(-0.9667370327122197, -1.037550268486966)"
            ]
          },
          "metadata": {},
          "execution_count": 59
        }
      ],
      "source": [
        "### Simple regret minimization: run number = 5\n",
        "\n",
        "approx_output_5 = np.append(np.min(-approx_5.GP.y[0:n_init]),-approx_5.GP.y[n_init:(n_init+iters)]) \n",
        "exact_output_5 = np.append(np.min(-exact_5.GP.y[0:n_init]),-exact_5.GP.y[n_init:(n_init+iters)]) \n",
        "\n",
        "regret_approx_5 = np.log(approx_output_5 - y_global_orig)\n",
        "regret_exact_5 = np.log(exact_output_5 - y_global_orig)\n",
        "\n",
        "simple_regret_approx_5 = min_max_array(regret_approx_5)\n",
        "simple_regret_exact_5 = min_max_array(regret_exact_5)\n",
        "\n",
        "min_simple_regret_approx_5 = min(simple_regret_approx_5)\n",
        "min_simple_regret_exact_5 = min(simple_regret_exact_5)\n",
        "\n",
        "min_simple_regret_approx_5, min_simple_regret_exact_5"
      ]
    },
    {
      "cell_type": "code",
      "execution_count": 60,
      "metadata": {
        "id": "CJv3lPuSQxfp",
        "colab": {
          "base_uri": "https://localhost:8080/"
        },
        "outputId": "210ab93c-cc5d-4610-a9ec-c98f199fb449"
      },
      "outputs": [
        {
          "output_type": "execute_result",
          "data": {
            "text/plain": [
              "(-0.5065667528900302, -0.3257561052987614)"
            ]
          },
          "metadata": {},
          "execution_count": 60
        }
      ],
      "source": [
        "### Simple regret minimization: run number = 6\n",
        "\n",
        "approx_output_6 = np.append(np.min(-approx_6.GP.y[0:n_init]),-approx_6.GP.y[n_init:(n_init+iters)]) \n",
        "exact_output_6 = np.append(np.min(-exact_6.GP.y[0:n_init]),-exact_6.GP.y[n_init:(n_init+iters)]) \n",
        "\n",
        "regret_approx_6 = np.log(approx_output_6 - y_global_orig)\n",
        "regret_exact_6 = np.log(exact_output_6 - y_global_orig)\n",
        "\n",
        "simple_regret_approx_6 = min_max_array(regret_approx_6)\n",
        "simple_regret_exact_6 = min_max_array(regret_exact_6)\n",
        "\n",
        "min_simple_regret_approx_6 = min(simple_regret_approx_6)\n",
        "min_simple_regret_exact_6 = min(simple_regret_exact_6)\n",
        "\n",
        "min_simple_regret_approx_6, min_simple_regret_exact_6"
      ]
    },
    {
      "cell_type": "code",
      "execution_count": 61,
      "metadata": {
        "id": "quR2ZyApQxfq",
        "colab": {
          "base_uri": "https://localhost:8080/"
        },
        "outputId": "9ccd7455-29d5-44d5-c17d-850f71f22fd6"
      },
      "outputs": [
        {
          "output_type": "execute_result",
          "data": {
            "text/plain": [
              "(-0.567767694400235, -1.218774421789914)"
            ]
          },
          "metadata": {},
          "execution_count": 61
        }
      ],
      "source": [
        "### Simple regret minimization: run number = 7\n",
        "\n",
        "approx_output_7 = np.append(np.min(-approx_7.GP.y[0:n_init]),-approx_7.GP.y[n_init:(n_init+iters)]) \n",
        "exact_output_7 = np.append(np.min(-exact_7.GP.y[0:n_init]),-exact_7.GP.y[n_init:(n_init+iters)]) \n",
        "\n",
        "regret_approx_7 = np.log(approx_output_7 - y_global_orig)\n",
        "regret_exact_7 = np.log(exact_output_7 - y_global_orig)\n",
        "\n",
        "simple_regret_approx_7 = min_max_array(regret_approx_7)\n",
        "simple_regret_exact_7 = min_max_array(regret_exact_7)\n",
        "\n",
        "min_simple_regret_approx_7 = min(simple_regret_approx_7)\n",
        "min_simple_regret_exact_7 = min(simple_regret_exact_7)\n",
        "\n",
        "min_simple_regret_approx_7, min_simple_regret_exact_7"
      ]
    },
    {
      "cell_type": "code",
      "execution_count": 62,
      "metadata": {
        "id": "99wY5nK6Qxfr",
        "colab": {
          "base_uri": "https://localhost:8080/"
        },
        "outputId": "d6b7260d-99d7-4cd0-f6a5-693129f37650"
      },
      "outputs": [
        {
          "output_type": "execute_result",
          "data": {
            "text/plain": [
              "(0.010829256836113731, -2.173085284327381)"
            ]
          },
          "metadata": {},
          "execution_count": 62
        }
      ],
      "source": [
        "### Simple regret minimization: run number = 8\n",
        "\n",
        "approx_output_8 = np.append(np.min(-approx_8.GP.y[0:n_init]),-approx_8.GP.y[n_init:(n_init+iters)]) \n",
        "exact_output_8 = np.append(np.min(-exact_8.GP.y[0:n_init]),-exact_8.GP.y[n_init:(n_init+iters)]) \n",
        "\n",
        "regret_approx_8 = np.log(approx_output_8 - y_global_orig)\n",
        "regret_exact_8 = np.log(exact_output_8 - y_global_orig)\n",
        "\n",
        "simple_regret_approx_8 = min_max_array(regret_approx_8)\n",
        "simple_regret_exact_8 = min_max_array(regret_exact_8)\n",
        "\n",
        "min_simple_regret_approx_8 = min(simple_regret_approx_8)\n",
        "min_simple_regret_exact_8 = min(simple_regret_exact_8)\n",
        "\n",
        "min_simple_regret_approx_8, min_simple_regret_exact_8"
      ]
    },
    {
      "cell_type": "code",
      "execution_count": 63,
      "metadata": {
        "id": "qt0P5t9qQxfs",
        "colab": {
          "base_uri": "https://localhost:8080/"
        },
        "outputId": "78177195-a3a6-4dcf-a93c-09f9bed103d3"
      },
      "outputs": [
        {
          "output_type": "execute_result",
          "data": {
            "text/plain": [
              "(-0.9340508369481061, -1.6135437038679732)"
            ]
          },
          "metadata": {},
          "execution_count": 63
        }
      ],
      "source": [
        "### Simple regret minimization: run number = 9\n",
        "\n",
        "approx_output_9 = np.append(np.min(-approx_9.GP.y[0:n_init]),-approx_9.GP.y[n_init:(n_init+iters)]) \n",
        "exact_output_9 = np.append(np.min(-exact_9.GP.y[0:n_init]),-exact_9.GP.y[n_init:(n_init+iters)]) \n",
        "\n",
        "regret_approx_9 = np.log(approx_output_9 - y_global_orig)\n",
        "regret_exact_9 = np.log(exact_output_9 - y_global_orig)\n",
        "\n",
        "simple_regret_approx_9 = min_max_array(regret_approx_9)\n",
        "simple_regret_exact_9 = min_max_array(regret_exact_9)\n",
        "\n",
        "min_simple_regret_approx_9 = min(simple_regret_approx_9)\n",
        "min_simple_regret_exact_9 = min(simple_regret_exact_9)\n",
        "\n",
        "min_simple_regret_approx_9, min_simple_regret_exact_9"
      ]
    },
    {
      "cell_type": "code",
      "execution_count": 64,
      "metadata": {
        "id": "vx8to9stQxft",
        "colab": {
          "base_uri": "https://localhost:8080/"
        },
        "outputId": "1504345a-341d-4336-e000-694c99227ebf"
      },
      "outputs": [
        {
          "output_type": "execute_result",
          "data": {
            "text/plain": [
              "(0.06762392584479608, 0.21764463754914215)"
            ]
          },
          "metadata": {},
          "execution_count": 64
        }
      ],
      "source": [
        "### Simple regret minimization: run number = 10\n",
        "\n",
        "approx_output_10 = np.append(np.min(-approx_10.GP.y[0:n_init]),-approx_10.GP.y[n_init:(n_init+iters)]) \n",
        "exact_output_10 = np.append(np.min(-exact_10.GP.y[0:n_init]),-exact_10.GP.y[n_init:(n_init+iters)]) \n",
        "\n",
        "regret_approx_10 = np.log(approx_output_10 - y_global_orig)\n",
        "regret_exact_10 = np.log(exact_output_10 - y_global_orig)\n",
        "\n",
        "simple_regret_approx_10 = min_max_array(regret_approx_10)\n",
        "simple_regret_exact_10 = min_max_array(regret_exact_10)\n",
        "\n",
        "min_simple_regret_approx_10 = min(simple_regret_approx_10)\n",
        "min_simple_regret_exact_10 = min(simple_regret_exact_10)\n",
        "\n",
        "min_simple_regret_approx_10, min_simple_regret_exact_10"
      ]
    },
    {
      "cell_type": "code",
      "execution_count": 65,
      "metadata": {
        "id": "d-FGzWyHQxfu",
        "colab": {
          "base_uri": "https://localhost:8080/"
        },
        "outputId": "6435a8b6-a7d0-455a-dd60-85f30e73cfe3"
      },
      "outputs": [
        {
          "output_type": "execute_result",
          "data": {
            "text/plain": [
              "(-1.6553004291200557, -0.9010790823704407)"
            ]
          },
          "metadata": {},
          "execution_count": 65
        }
      ],
      "source": [
        "### Simple regret minimization: run number = 11\n",
        "\n",
        "approx_output_11 = np.append(np.min(-approx_11.GP.y[0:n_init]),-approx_11.GP.y[n_init:(n_init+iters)]) \n",
        "exact_output_11 = np.append(np.min(-exact_11.GP.y[0:n_init]),-exact_11.GP.y[n_init:(n_init+iters)]) \n",
        "\n",
        "regret_approx_11 = np.log(approx_output_11 - y_global_orig)\n",
        "regret_exact_11 = np.log(exact_output_11 - y_global_orig)\n",
        "\n",
        "simple_regret_approx_11 = min_max_array(regret_approx_11)\n",
        "simple_regret_exact_11 = min_max_array(regret_exact_11)\n",
        "\n",
        "min_simple_regret_approx_11 = min(simple_regret_approx_11)\n",
        "min_simple_regret_exact_11 = min(simple_regret_exact_11)\n",
        "\n",
        "min_simple_regret_approx_11, min_simple_regret_exact_11"
      ]
    },
    {
      "cell_type": "code",
      "execution_count": 66,
      "metadata": {
        "id": "SvtsssyjQxfv",
        "colab": {
          "base_uri": "https://localhost:8080/"
        },
        "outputId": "94985fa5-0c2b-451d-d4b6-35d703cc7e41"
      },
      "outputs": [
        {
          "output_type": "execute_result",
          "data": {
            "text/plain": [
              "(0.3780348841617363, -2.6189790572526626)"
            ]
          },
          "metadata": {},
          "execution_count": 66
        }
      ],
      "source": [
        "### Simple regret minimization: run number = 12\n",
        "\n",
        "approx_output_12 = np.append(np.min(-approx_12.GP.y[0:n_init]),-approx_12.GP.y[n_init:(n_init+iters)]) \n",
        "exact_output_12 = np.append(np.min(-exact_12.GP.y[0:n_init]),-exact_12.GP.y[n_init:(n_init+iters)]) \n",
        "\n",
        "regret_approx_12 = np.log(approx_output_12 - y_global_orig)\n",
        "regret_exact_12 = np.log(exact_output_12 - y_global_orig)\n",
        "\n",
        "simple_regret_approx_12 = min_max_array(regret_approx_12)\n",
        "simple_regret_exact_12 = min_max_array(regret_exact_12)\n",
        "\n",
        "min_simple_regret_approx_12 = min(simple_regret_approx_12)\n",
        "min_simple_regret_exact_12 = min(simple_regret_exact_12)\n",
        "\n",
        "min_simple_regret_approx_12, min_simple_regret_exact_12"
      ]
    },
    {
      "cell_type": "code",
      "execution_count": 67,
      "metadata": {
        "id": "K6OiGcHkQxfw",
        "colab": {
          "base_uri": "https://localhost:8080/"
        },
        "outputId": "46f80bba-c475-4af4-f2e6-3c484beb0ce9"
      },
      "outputs": [
        {
          "output_type": "execute_result",
          "data": {
            "text/plain": [
              "(-1.7562719040335455, -0.0614922591041159)"
            ]
          },
          "metadata": {},
          "execution_count": 67
        }
      ],
      "source": [
        "### Simple regret minimization: run number = 13\n",
        "\n",
        "approx_output_13 = np.append(np.min(-approx_13.GP.y[0:n_init]),-approx_13.GP.y[n_init:(n_init+iters)]) \n",
        "exact_output_13 = np.append(np.min(-exact_13.GP.y[0:n_init]),-exact_13.GP.y[n_init:(n_init+iters)]) \n",
        "\n",
        "regret_approx_13 = np.log(approx_output_13 - y_global_orig)\n",
        "regret_exact_13 = np.log(exact_output_13 - y_global_orig)\n",
        "\n",
        "simple_regret_approx_13 = min_max_array(regret_approx_13)\n",
        "simple_regret_exact_13 = min_max_array(regret_exact_13)\n",
        "\n",
        "min_simple_regret_approx_13 = min(simple_regret_approx_13)\n",
        "min_simple_regret_exact_13 = min(simple_regret_exact_13)\n",
        "\n",
        "min_simple_regret_approx_13, min_simple_regret_exact_13"
      ]
    },
    {
      "cell_type": "code",
      "execution_count": 68,
      "metadata": {
        "id": "ogML73shQxfx",
        "colab": {
          "base_uri": "https://localhost:8080/"
        },
        "outputId": "b59b842d-7c8d-44e1-c188-1bf9cc77b06c"
      },
      "outputs": [
        {
          "output_type": "execute_result",
          "data": {
            "text/plain": [
              "(-6.074727392833108, -6.074727392833108)"
            ]
          },
          "metadata": {},
          "execution_count": 68
        }
      ],
      "source": [
        "### Simple regret minimization: run number = 14\n",
        "\n",
        "approx_output_14 = np.append(np.min(-approx_14.GP.y[0:n_init]),-approx_14.GP.y[n_init:(n_init+iters)]) \n",
        "exact_output_14 = np.append(np.min(-exact_14.GP.y[0:n_init]),-exact_14.GP.y[n_init:(n_init+iters)]) \n",
        "\n",
        "regret_approx_14 = np.log(approx_output_14 - y_global_orig)\n",
        "regret_exact_14 = np.log(exact_output_14 - y_global_orig)\n",
        "\n",
        "simple_regret_approx_14 = min_max_array(regret_approx_14)\n",
        "simple_regret_exact_14 = min_max_array(regret_exact_14)\n",
        "\n",
        "min_simple_regret_approx_14 = min(simple_regret_approx_14)\n",
        "min_simple_regret_exact_14 = min(simple_regret_exact_14)\n",
        "\n",
        "min_simple_regret_approx_14, min_simple_regret_exact_14"
      ]
    },
    {
      "cell_type": "code",
      "execution_count": 69,
      "metadata": {
        "id": "9Eg7gFT9Qxfx",
        "colab": {
          "base_uri": "https://localhost:8080/"
        },
        "outputId": "3eb953f4-f67a-41c1-8646-27f59cd16f87"
      },
      "outputs": [
        {
          "output_type": "execute_result",
          "data": {
            "text/plain": [
              "(-2.586574130701876, -1.1473653233923633)"
            ]
          },
          "metadata": {},
          "execution_count": 69
        }
      ],
      "source": [
        "### Simple regret minimization: run number = 15\n",
        "\n",
        "approx_output_15 = np.append(np.min(-approx_15.GP.y[0:n_init]),-approx_15.GP.y[n_init:(n_init+iters)]) \n",
        "exact_output_15 = np.append(np.min(-exact_15.GP.y[0:n_init]),-exact_15.GP.y[n_init:(n_init+iters)]) \n",
        "\n",
        "regret_approx_15 = np.log(approx_output_15 - y_global_orig)\n",
        "regret_exact_15 = np.log(exact_output_15 - y_global_orig)\n",
        "\n",
        "simple_regret_approx_15 = min_max_array(regret_approx_15)\n",
        "simple_regret_exact_15 = min_max_array(regret_exact_15)\n",
        "\n",
        "min_simple_regret_approx_15 = min(simple_regret_approx_15)\n",
        "min_simple_regret_exact_15 = min(simple_regret_exact_15)\n",
        "\n",
        "min_simple_regret_approx_15, min_simple_regret_exact_15"
      ]
    },
    {
      "cell_type": "code",
      "execution_count": 70,
      "metadata": {
        "id": "lIAC1U7ZQxfy",
        "colab": {
          "base_uri": "https://localhost:8080/"
        },
        "outputId": "9f2c5363-0b89-410e-f009-769d2c7a214a"
      },
      "outputs": [
        {
          "output_type": "execute_result",
          "data": {
            "text/plain": [
              "(-2.0856897801186527, -0.44456910528343807)"
            ]
          },
          "metadata": {},
          "execution_count": 70
        }
      ],
      "source": [
        "### Simple regret minimization: run number = 16\n",
        "\n",
        "approx_output_16 = np.append(np.min(-approx_16.GP.y[0:n_init]),-approx_16.GP.y[n_init:(n_init+iters)]) \n",
        "exact_output_16 = np.append(np.min(-exact_16.GP.y[0:n_init]),-exact_16.GP.y[n_init:(n_init+iters)]) \n",
        "\n",
        "regret_approx_16 = np.log(approx_output_16 - y_global_orig)\n",
        "regret_exact_16 = np.log(exact_output_16 - y_global_orig)\n",
        "\n",
        "simple_regret_approx_16 = min_max_array(regret_approx_16)\n",
        "simple_regret_exact_16 = min_max_array(regret_exact_16)\n",
        "\n",
        "min_simple_regret_approx_16 = min(simple_regret_approx_16)\n",
        "min_simple_regret_exact_16 = min(simple_regret_exact_16)\n",
        "\n",
        "min_simple_regret_approx_16, min_simple_regret_exact_16"
      ]
    },
    {
      "cell_type": "code",
      "execution_count": 71,
      "metadata": {
        "id": "bGott36OQxfz",
        "colab": {
          "base_uri": "https://localhost:8080/"
        },
        "outputId": "ac3d3d89-cc32-47e1-e547-846e0a8836f9"
      },
      "outputs": [
        {
          "output_type": "execute_result",
          "data": {
            "text/plain": [
              "(-0.23476741234126033, -0.1846894180762087)"
            ]
          },
          "metadata": {},
          "execution_count": 71
        }
      ],
      "source": [
        "### Simple regret minimization: run number = 17\n",
        "\n",
        "approx_output_17 = np.append(np.min(-approx_17.GP.y[0:n_init]),-approx_17.GP.y[n_init:(n_init+iters)]) \n",
        "exact_output_17 = np.append(np.min(-exact_17.GP.y[0:n_init]),-exact_17.GP.y[n_init:(n_init+iters)]) \n",
        "\n",
        "regret_approx_17 = np.log(approx_output_17 - y_global_orig)\n",
        "regret_exact_17 = np.log(exact_output_17 - y_global_orig)\n",
        "\n",
        "simple_regret_approx_17 = min_max_array(regret_approx_17)\n",
        "simple_regret_exact_17 = min_max_array(regret_exact_17)\n",
        "\n",
        "min_simple_regret_approx_17 = min(simple_regret_approx_17)\n",
        "min_simple_regret_exact_17 = min(simple_regret_exact_17)\n",
        "\n",
        "min_simple_regret_approx_17, min_simple_regret_exact_17"
      ]
    },
    {
      "cell_type": "code",
      "execution_count": 72,
      "metadata": {
        "id": "Cz9ZYMBMQxfz",
        "colab": {
          "base_uri": "https://localhost:8080/"
        },
        "outputId": "d35f5be7-d733-4150-91dd-b8983ac473e3"
      },
      "outputs": [
        {
          "output_type": "execute_result",
          "data": {
            "text/plain": [
              "(-0.564775974808736, -0.21033534533427622)"
            ]
          },
          "metadata": {},
          "execution_count": 72
        }
      ],
      "source": [
        "### Simple regret minimization: run number = 18\n",
        "\n",
        "approx_output_18 = np.append(np.min(-approx_18.GP.y[0:n_init]),-approx_18.GP.y[n_init:(n_init+iters)]) \n",
        "exact_output_18 = np.append(np.min(-exact_18.GP.y[0:n_init]),-exact_18.GP.y[n_init:(n_init+iters)]) \n",
        "\n",
        "regret_approx_18 = np.log(approx_output_18 - y_global_orig)\n",
        "regret_exact_18 = np.log(exact_output_18 - y_global_orig)\n",
        "\n",
        "simple_regret_approx_18 = min_max_array(regret_approx_18)\n",
        "simple_regret_exact_18 = min_max_array(regret_exact_18)\n",
        "\n",
        "min_simple_regret_approx_18 = min(simple_regret_approx_18)\n",
        "min_simple_regret_exact_18 = min(simple_regret_exact_18)\n",
        "\n",
        "min_simple_regret_approx_18, min_simple_regret_exact_18"
      ]
    },
    {
      "cell_type": "code",
      "execution_count": 73,
      "metadata": {
        "id": "OBfpWOHNQxf0",
        "colab": {
          "base_uri": "https://localhost:8080/"
        },
        "outputId": "df91ca88-e52a-4557-c6cb-b9f8d9e7ca74"
      },
      "outputs": [
        {
          "output_type": "execute_result",
          "data": {
            "text/plain": [
              "(-0.029147304367218664, -0.670118047733914)"
            ]
          },
          "metadata": {},
          "execution_count": 73
        }
      ],
      "source": [
        "### Simple regret minimization: run number = 19\n",
        "\n",
        "approx_output_19 = np.append(np.min(-approx_19.GP.y[0:n_init]),-approx_19.GP.y[n_init:(n_init+iters)]) \n",
        "exact_output_19 = np.append(np.min(-exact_19.GP.y[0:n_init]),-exact_19.GP.y[n_init:(n_init+iters)]) \n",
        "\n",
        "regret_approx_19 = np.log(approx_output_19 - y_global_orig)\n",
        "regret_exact_19 = np.log(exact_output_19 - y_global_orig)\n",
        "\n",
        "simple_regret_approx_19 = min_max_array(regret_approx_19)\n",
        "simple_regret_exact_19 = min_max_array(regret_exact_19)\n",
        "\n",
        "min_simple_regret_approx_19 = min(simple_regret_approx_19)\n",
        "min_simple_regret_exact_19 = min(simple_regret_exact_19)\n",
        "\n",
        "min_simple_regret_approx_19, min_simple_regret_exact_19"
      ]
    },
    {
      "cell_type": "code",
      "execution_count": 74,
      "metadata": {
        "id": "BE1AJ7NsQxf0",
        "colab": {
          "base_uri": "https://localhost:8080/"
        },
        "outputId": "0082a9dd-2625-4664-9fd1-82566a936187"
      },
      "outputs": [
        {
          "output_type": "execute_result",
          "data": {
            "text/plain": [
              "(-0.14418325507448085, -5.134846074219466)"
            ]
          },
          "metadata": {},
          "execution_count": 74
        }
      ],
      "source": [
        "### Simple regret minimization: run number = 20\n",
        "\n",
        "approx_output_20 = np.append(np.min(-approx_20.GP.y[0:n_init]),-approx_20.GP.y[n_init:(n_init+iters)]) \n",
        "exact_output_20 = np.append(np.min(-exact_20.GP.y[0:n_init]),-exact_20.GP.y[n_init:(n_init+iters)]) \n",
        "\n",
        "regret_approx_20 = np.log(approx_output_20 - y_global_orig)\n",
        "regret_exact_20 = np.log(exact_output_20 - y_global_orig)\n",
        "\n",
        "simple_regret_approx_20 = min_max_array(regret_approx_20)\n",
        "simple_regret_exact_20 = min_max_array(regret_exact_20)\n",
        "\n",
        "min_simple_regret_approx_20 = min(simple_regret_approx_20)\n",
        "min_simple_regret_exact_20 = min(simple_regret_exact_20)\n",
        "\n",
        "min_simple_regret_approx_20, min_simple_regret_exact_20"
      ]
    },
    {
      "cell_type": "code",
      "execution_count": 75,
      "metadata": {
        "id": "bpX-bKAHQxf1"
      },
      "outputs": [],
      "source": [
        "# Iteration1 :\n",
        "\n",
        "slice1 = 0\n",
        "\n",
        "approx1 = [simple_regret_approx_1[slice1],\n",
        "       simple_regret_approx_2[slice1],\n",
        "       simple_regret_approx_3[slice1],\n",
        "       simple_regret_approx_4[slice1],\n",
        "       simple_regret_approx_5[slice1],\n",
        "       simple_regret_approx_6[slice1],\n",
        "       simple_regret_approx_7[slice1],\n",
        "       simple_regret_approx_8[slice1],\n",
        "       simple_regret_approx_9[slice1],\n",
        "       simple_regret_approx_10[slice1],\n",
        "       simple_regret_approx_11[slice1],\n",
        "       simple_regret_approx_12[slice1],\n",
        "       simple_regret_approx_13[slice1],\n",
        "       simple_regret_approx_14[slice1],\n",
        "       simple_regret_approx_15[slice1],\n",
        "       simple_regret_approx_16[slice1],\n",
        "       simple_regret_approx_17[slice1],\n",
        "       simple_regret_approx_18[slice1],\n",
        "       simple_regret_approx_19[slice1],\n",
        "       simple_regret_approx_20[slice1]]\n",
        "\n",
        "exact1 = [simple_regret_exact_1[slice1],\n",
        "       simple_regret_exact_2[slice1],\n",
        "       simple_regret_exact_3[slice1],\n",
        "       simple_regret_exact_4[slice1],\n",
        "       simple_regret_exact_5[slice1],\n",
        "       simple_regret_exact_6[slice1],\n",
        "       simple_regret_exact_7[slice1],\n",
        "       simple_regret_exact_8[slice1],\n",
        "       simple_regret_exact_9[slice1],\n",
        "       simple_regret_exact_10[slice1],\n",
        "       simple_regret_exact_11[slice1],\n",
        "       simple_regret_exact_12[slice1],\n",
        "       simple_regret_exact_13[slice1],\n",
        "       simple_regret_exact_14[slice1],\n",
        "       simple_regret_exact_15[slice1],\n",
        "       simple_regret_exact_16[slice1],\n",
        "       simple_regret_exact_17[slice1],\n",
        "       simple_regret_exact_18[slice1],\n",
        "       simple_regret_exact_19[slice1],\n",
        "       simple_regret_exact_20[slice1]]\n",
        "\n",
        "approx1_results = pd.DataFrame(approx1).sort_values(by=[0], ascending=False)\n",
        "exact1_results = pd.DataFrame(exact1).sort_values(by=[0], ascending=False)\n",
        "\n",
        "### Best simple regret minimization IQR - approx:\n",
        "lower_approx1 = np.asarray(approx1_results[4:5][0])[0]\n",
        "median_approx1 = np.asarray(approx1_results[9:10][0])[0]\n",
        "upper_approx1 = np.asarray(approx1_results[14:15][0])[0]\n",
        "\n",
        "lower_exact1 = np.asarray(exact1_results[4:5][0])[0]\n",
        "median_exact1 = np.asarray(exact1_results[9:10][0])[0]\n",
        "upper_exact1 = np.asarray(exact1_results[14:15][0])[0]"
      ]
    },
    {
      "cell_type": "code",
      "execution_count": 76,
      "metadata": {
        "id": "CgIkJA1xQxf2"
      },
      "outputs": [],
      "source": [
        "# Iteration11 :\n",
        "\n",
        "slice11 = 10\n",
        "\n",
        "approx11 = [simple_regret_approx_1[slice11],\n",
        "       simple_regret_approx_2[slice11],\n",
        "       simple_regret_approx_3[slice11],\n",
        "       simple_regret_approx_4[slice11],\n",
        "       simple_regret_approx_5[slice11],\n",
        "       simple_regret_approx_6[slice11],\n",
        "       simple_regret_approx_7[slice11],\n",
        "       simple_regret_approx_8[slice11],\n",
        "       simple_regret_approx_9[slice11],\n",
        "       simple_regret_approx_10[slice11],\n",
        "       simple_regret_approx_11[slice11],\n",
        "       simple_regret_approx_12[slice11],\n",
        "       simple_regret_approx_13[slice11],\n",
        "       simple_regret_approx_14[slice11],\n",
        "       simple_regret_approx_15[slice11],\n",
        "       simple_regret_approx_16[slice11],\n",
        "       simple_regret_approx_17[slice11],\n",
        "       simple_regret_approx_18[slice11],\n",
        "       simple_regret_approx_19[slice11],\n",
        "       simple_regret_approx_20[slice11]]\n",
        "\n",
        "exact11 = [simple_regret_exact_1[slice11],\n",
        "       simple_regret_exact_2[slice11],\n",
        "       simple_regret_exact_3[slice11],\n",
        "       simple_regret_exact_4[slice11],\n",
        "       simple_regret_exact_5[slice11],\n",
        "       simple_regret_exact_6[slice11],\n",
        "       simple_regret_exact_7[slice11],\n",
        "       simple_regret_exact_8[slice11],\n",
        "       simple_regret_exact_9[slice11],\n",
        "       simple_regret_exact_10[slice11],\n",
        "       simple_regret_exact_11[slice11],\n",
        "       simple_regret_exact_12[slice11],\n",
        "       simple_regret_exact_13[slice11],\n",
        "       simple_regret_exact_14[slice11],\n",
        "       simple_regret_exact_15[slice11],\n",
        "       simple_regret_exact_16[slice11],\n",
        "       simple_regret_exact_17[slice11],\n",
        "       simple_regret_exact_18[slice11],\n",
        "       simple_regret_exact_19[slice11],\n",
        "       simple_regret_exact_20[slice11]]\n",
        "\n",
        "approx11_results = pd.DataFrame(approx11).sort_values(by=[0], ascending=False)\n",
        "exact11_results = pd.DataFrame(exact11).sort_values(by=[0], ascending=False)\n",
        "\n",
        "### Best simple regret minimization IQR - approx:\n",
        "lower_approx11 = np.asarray(approx11_results[4:5][0])[0]\n",
        "median_approx11 = np.asarray(approx11_results[9:10][0])[0]\n",
        "upper_approx11 = np.asarray(approx11_results[14:15][0])[0]\n",
        "\n",
        "lower_exact11 = np.asarray(exact11_results[4:5][0])[0]\n",
        "median_exact11 = np.asarray(exact11_results[9:10][0])[0]\n",
        "upper_exact11 = np.asarray(exact11_results[14:15][0])[0]"
      ]
    },
    {
      "cell_type": "code",
      "execution_count": 77,
      "metadata": {
        "id": "MFePDfGuQxf2"
      },
      "outputs": [],
      "source": [
        "# Iteration21 :\n",
        "\n",
        "slice21 = 20\n",
        "\n",
        "approx21 = [simple_regret_approx_1[slice21],\n",
        "       simple_regret_approx_2[slice21],\n",
        "       simple_regret_approx_3[slice21],\n",
        "       simple_regret_approx_4[slice21],\n",
        "       simple_regret_approx_5[slice21],\n",
        "       simple_regret_approx_6[slice21],\n",
        "       simple_regret_approx_7[slice21],\n",
        "       simple_regret_approx_8[slice21],\n",
        "       simple_regret_approx_9[slice21],\n",
        "       simple_regret_approx_10[slice21],\n",
        "       simple_regret_approx_11[slice21],\n",
        "       simple_regret_approx_12[slice21],\n",
        "       simple_regret_approx_13[slice21],\n",
        "       simple_regret_approx_14[slice21],\n",
        "       simple_regret_approx_15[slice21],\n",
        "       simple_regret_approx_16[slice21],\n",
        "       simple_regret_approx_17[slice21],\n",
        "       simple_regret_approx_18[slice21],\n",
        "       simple_regret_approx_19[slice21],\n",
        "       simple_regret_approx_20[slice21]]\n",
        "\n",
        "exact21 = [simple_regret_exact_1[slice21],\n",
        "       simple_regret_exact_2[slice21],\n",
        "       simple_regret_exact_3[slice21],\n",
        "       simple_regret_exact_4[slice21],\n",
        "       simple_regret_exact_5[slice21],\n",
        "       simple_regret_exact_6[slice21],\n",
        "       simple_regret_exact_7[slice21],\n",
        "       simple_regret_exact_8[slice21],\n",
        "       simple_regret_exact_9[slice21],\n",
        "       simple_regret_exact_10[slice21],\n",
        "       simple_regret_exact_11[slice21],\n",
        "       simple_regret_exact_12[slice21],\n",
        "       simple_regret_exact_13[slice21],\n",
        "       simple_regret_exact_14[slice21],\n",
        "       simple_regret_exact_15[slice21],\n",
        "       simple_regret_exact_16[slice21],\n",
        "       simple_regret_exact_17[slice21],\n",
        "       simple_regret_exact_18[slice21],\n",
        "       simple_regret_exact_19[slice21],\n",
        "       simple_regret_exact_20[slice21]]\n",
        "\n",
        "approx21_results = pd.DataFrame(approx21).sort_values(by=[0], ascending=False)\n",
        "exact21_results = pd.DataFrame(exact21).sort_values(by=[0], ascending=False)\n",
        "\n",
        "### Best simple regret minimization IQR - approx:\n",
        "lower_approx21 = np.asarray(approx21_results[4:5][0])[0]\n",
        "median_approx21 = np.asarray(approx21_results[9:10][0])[0]\n",
        "upper_approx21 = np.asarray(approx21_results[14:15][0])[0]\n",
        "\n",
        "lower_exact21 = np.asarray(exact21_results[4:5][0])[0]\n",
        "median_exact21 = np.asarray(exact21_results[9:10][0])[0]\n",
        "upper_exact21 = np.asarray(exact21_results[14:15][0])[0]"
      ]
    },
    {
      "cell_type": "code",
      "execution_count": 78,
      "metadata": {
        "id": "PrRDB1kfQxf3"
      },
      "outputs": [],
      "source": [
        "# Iteration2 :\n",
        "\n",
        "slice2 = 1\n",
        "\n",
        "approx2 = [simple_regret_approx_1[slice2],\n",
        "       simple_regret_approx_2[slice2],\n",
        "       simple_regret_approx_3[slice2],\n",
        "       simple_regret_approx_4[slice2],\n",
        "       simple_regret_approx_5[slice2],\n",
        "       simple_regret_approx_6[slice2],\n",
        "       simple_regret_approx_7[slice2],\n",
        "       simple_regret_approx_8[slice2],\n",
        "       simple_regret_approx_9[slice2],\n",
        "       simple_regret_approx_10[slice2],\n",
        "       simple_regret_approx_11[slice2],\n",
        "       simple_regret_approx_12[slice2],\n",
        "       simple_regret_approx_13[slice2],\n",
        "       simple_regret_approx_14[slice2],\n",
        "       simple_regret_approx_15[slice2],\n",
        "       simple_regret_approx_16[slice2],\n",
        "       simple_regret_approx_17[slice2],\n",
        "       simple_regret_approx_18[slice2],\n",
        "       simple_regret_approx_19[slice2],\n",
        "       simple_regret_approx_20[slice2]]\n",
        "\n",
        "exact2 = [simple_regret_exact_1[slice2],\n",
        "       simple_regret_exact_2[slice2],\n",
        "       simple_regret_exact_3[slice2],\n",
        "       simple_regret_exact_4[slice2],\n",
        "       simple_regret_exact_5[slice2],\n",
        "       simple_regret_exact_6[slice2],\n",
        "       simple_regret_exact_7[slice2],\n",
        "       simple_regret_exact_8[slice2],\n",
        "       simple_regret_exact_9[slice2],\n",
        "       simple_regret_exact_10[slice2],\n",
        "       simple_regret_exact_11[slice2],\n",
        "       simple_regret_exact_12[slice2],\n",
        "       simple_regret_exact_13[slice2],\n",
        "       simple_regret_exact_14[slice2],\n",
        "       simple_regret_exact_15[slice2],\n",
        "       simple_regret_exact_16[slice2],\n",
        "       simple_regret_exact_17[slice2],\n",
        "       simple_regret_exact_18[slice2],\n",
        "       simple_regret_exact_19[slice2],\n",
        "       simple_regret_exact_20[slice2]]\n",
        "\n",
        "approx2_results = pd.DataFrame(approx2).sort_values(by=[0], ascending=False)\n",
        "exact2_results = pd.DataFrame(exact2).sort_values(by=[0], ascending=False)\n",
        "\n",
        "### Best simple regret minimization IQR - approx:\n",
        "lower_approx2 = np.asarray(approx2_results[4:5][0])[0]\n",
        "median_approx2 = np.asarray(approx2_results[9:10][0])[0]\n",
        "upper_approx2 = np.asarray(approx2_results[14:15][0])[0]\n",
        "\n",
        "lower_exact2 = np.asarray(exact2_results[4:5][0])[0]\n",
        "median_exact2 = np.asarray(exact2_results[9:10][0])[0]\n",
        "upper_exact2 = np.asarray(exact2_results[14:15][0])[0]"
      ]
    },
    {
      "cell_type": "code",
      "execution_count": 79,
      "metadata": {
        "id": "B8ncJDYeQxf3"
      },
      "outputs": [],
      "source": [
        "# Iteration12 :\n",
        "\n",
        "slice12 = 11\n",
        "\n",
        "approx12 = [simple_regret_approx_1[slice12],\n",
        "       simple_regret_approx_2[slice12],\n",
        "       simple_regret_approx_3[slice12],\n",
        "       simple_regret_approx_4[slice12],\n",
        "       simple_regret_approx_5[slice12],\n",
        "       simple_regret_approx_6[slice12],\n",
        "       simple_regret_approx_7[slice12],\n",
        "       simple_regret_approx_8[slice12],\n",
        "       simple_regret_approx_9[slice12],\n",
        "       simple_regret_approx_10[slice12],\n",
        "       simple_regret_approx_11[slice12],\n",
        "       simple_regret_approx_12[slice12],\n",
        "       simple_regret_approx_13[slice12],\n",
        "       simple_regret_approx_14[slice12],\n",
        "       simple_regret_approx_15[slice12],\n",
        "       simple_regret_approx_16[slice12],\n",
        "       simple_regret_approx_17[slice12],\n",
        "       simple_regret_approx_18[slice12],\n",
        "       simple_regret_approx_19[slice12],\n",
        "       simple_regret_approx_20[slice12]]\n",
        "\n",
        "exact12 = [simple_regret_exact_1[slice12],\n",
        "       simple_regret_exact_2[slice12],\n",
        "       simple_regret_exact_3[slice12],\n",
        "       simple_regret_exact_4[slice12],\n",
        "       simple_regret_exact_5[slice12],\n",
        "       simple_regret_exact_6[slice12],\n",
        "       simple_regret_exact_7[slice12],\n",
        "       simple_regret_exact_8[slice12],\n",
        "       simple_regret_exact_9[slice12],\n",
        "       simple_regret_exact_10[slice12],\n",
        "       simple_regret_exact_11[slice12],\n",
        "       simple_regret_exact_12[slice12],\n",
        "       simple_regret_exact_13[slice12],\n",
        "       simple_regret_exact_14[slice12],\n",
        "       simple_regret_exact_15[slice12],\n",
        "       simple_regret_exact_16[slice12],\n",
        "       simple_regret_exact_17[slice12],\n",
        "       simple_regret_exact_18[slice12],\n",
        "       simple_regret_exact_19[slice12],\n",
        "       simple_regret_exact_20[slice12]]\n",
        "\n",
        "approx12_results = pd.DataFrame(approx12).sort_values(by=[0], ascending=False)\n",
        "exact12_results = pd.DataFrame(exact12).sort_values(by=[0], ascending=False)\n",
        "\n",
        "### Best simple regret minimization IQR - approx:\n",
        "lower_approx12 = np.asarray(approx12_results[4:5][0])[0]\n",
        "median_approx12 = np.asarray(approx12_results[9:10][0])[0]\n",
        "upper_approx12 = np.asarray(approx12_results[14:15][0])[0]\n",
        "\n",
        "lower_exact12 = np.asarray(exact12_results[4:5][0])[0]\n",
        "median_exact12 = np.asarray(exact12_results[9:10][0])[0]\n",
        "upper_exact12 = np.asarray(exact12_results[14:15][0])[0]"
      ]
    },
    {
      "cell_type": "code",
      "execution_count": 80,
      "metadata": {
        "id": "Jn4KpGvcQxf4"
      },
      "outputs": [],
      "source": [
        "# Iteration3 :\n",
        "\n",
        "slice3 = 2\n",
        "\n",
        "approx3 = [simple_regret_approx_1[slice3],\n",
        "       simple_regret_approx_2[slice3],\n",
        "       simple_regret_approx_3[slice3],\n",
        "       simple_regret_approx_4[slice3],\n",
        "       simple_regret_approx_5[slice3],\n",
        "       simple_regret_approx_6[slice3],\n",
        "       simple_regret_approx_7[slice3],\n",
        "       simple_regret_approx_8[slice3],\n",
        "       simple_regret_approx_9[slice3],\n",
        "       simple_regret_approx_10[slice3],\n",
        "       simple_regret_approx_11[slice3],\n",
        "       simple_regret_approx_12[slice3],\n",
        "       simple_regret_approx_13[slice3],\n",
        "       simple_regret_approx_14[slice3],\n",
        "       simple_regret_approx_15[slice3],\n",
        "       simple_regret_approx_16[slice3],\n",
        "       simple_regret_approx_17[slice3],\n",
        "       simple_regret_approx_18[slice3],\n",
        "       simple_regret_approx_19[slice3],\n",
        "       simple_regret_approx_20[slice3]]\n",
        "\n",
        "exact3 = [simple_regret_exact_1[slice3],\n",
        "       simple_regret_exact_2[slice3],\n",
        "       simple_regret_exact_3[slice3],\n",
        "       simple_regret_exact_4[slice3],\n",
        "       simple_regret_exact_5[slice3],\n",
        "       simple_regret_exact_6[slice3],\n",
        "       simple_regret_exact_7[slice3],\n",
        "       simple_regret_exact_8[slice3],\n",
        "       simple_regret_exact_9[slice3],\n",
        "       simple_regret_exact_10[slice3],\n",
        "       simple_regret_exact_11[slice3],\n",
        "       simple_regret_exact_12[slice3],\n",
        "       simple_regret_exact_13[slice3],\n",
        "       simple_regret_exact_14[slice3],\n",
        "       simple_regret_exact_15[slice3],\n",
        "       simple_regret_exact_16[slice3],\n",
        "       simple_regret_exact_17[slice3],\n",
        "       simple_regret_exact_18[slice3],\n",
        "       simple_regret_exact_19[slice3],\n",
        "       simple_regret_exact_20[slice3]]\n",
        "\n",
        "approx3_results = pd.DataFrame(approx3).sort_values(by=[0], ascending=False)\n",
        "exact3_results = pd.DataFrame(exact3).sort_values(by=[0], ascending=False)\n",
        "\n",
        "### Best simple regret minimization IQR - approx:\n",
        "lower_approx3 = np.asarray(approx3_results[4:5][0])[0]\n",
        "median_approx3 = np.asarray(approx3_results[9:10][0])[0]\n",
        "upper_approx3 = np.asarray(approx3_results[14:15][0])[0]\n",
        "\n",
        "lower_exact3 = np.asarray(exact3_results[4:5][0])[0]\n",
        "median_exact3 = np.asarray(exact3_results[9:10][0])[0]\n",
        "upper_exact3 = np.asarray(exact3_results[14:15][0])[0]"
      ]
    },
    {
      "cell_type": "code",
      "execution_count": 81,
      "metadata": {
        "id": "plf83wxrQxf4"
      },
      "outputs": [],
      "source": [
        "# Iteration13 :\n",
        "\n",
        "slice13 = 12\n",
        "\n",
        "approx13 = [simple_regret_approx_1[slice13],\n",
        "       simple_regret_approx_2[slice13],\n",
        "       simple_regret_approx_3[slice13],\n",
        "       simple_regret_approx_4[slice13],\n",
        "       simple_regret_approx_5[slice13],\n",
        "       simple_regret_approx_6[slice13],\n",
        "       simple_regret_approx_7[slice13],\n",
        "       simple_regret_approx_8[slice13],\n",
        "       simple_regret_approx_9[slice13],\n",
        "       simple_regret_approx_10[slice13],\n",
        "       simple_regret_approx_11[slice13],\n",
        "       simple_regret_approx_12[slice13],\n",
        "       simple_regret_approx_13[slice13],\n",
        "       simple_regret_approx_14[slice13],\n",
        "       simple_regret_approx_15[slice13],\n",
        "       simple_regret_approx_16[slice13],\n",
        "       simple_regret_approx_17[slice13],\n",
        "       simple_regret_approx_18[slice13],\n",
        "       simple_regret_approx_19[slice13],\n",
        "       simple_regret_approx_20[slice13]]\n",
        "\n",
        "exact13 = [simple_regret_exact_1[slice13],\n",
        "       simple_regret_exact_2[slice13],\n",
        "       simple_regret_exact_3[slice13],\n",
        "       simple_regret_exact_4[slice13],\n",
        "       simple_regret_exact_5[slice13],\n",
        "       simple_regret_exact_6[slice13],\n",
        "       simple_regret_exact_7[slice13],\n",
        "       simple_regret_exact_8[slice13],\n",
        "       simple_regret_exact_9[slice13],\n",
        "       simple_regret_exact_10[slice13],\n",
        "       simple_regret_exact_11[slice13],\n",
        "       simple_regret_exact_12[slice13],\n",
        "       simple_regret_exact_13[slice13],\n",
        "       simple_regret_exact_14[slice13],\n",
        "       simple_regret_exact_15[slice13],\n",
        "       simple_regret_exact_16[slice13],\n",
        "       simple_regret_exact_17[slice13],\n",
        "       simple_regret_exact_18[slice13],\n",
        "       simple_regret_exact_19[slice13],\n",
        "       simple_regret_exact_20[slice13]]\n",
        "\n",
        "approx13_results = pd.DataFrame(approx13).sort_values(by=[0], ascending=False)\n",
        "exact13_results = pd.DataFrame(exact13).sort_values(by=[0], ascending=False)\n",
        "\n",
        "### Best simple regret minimization IQR - approx:\n",
        "lower_approx13 = np.asarray(approx13_results[4:5][0])[0]\n",
        "median_approx13 = np.asarray(approx13_results[9:10][0])[0]\n",
        "upper_approx13 = np.asarray(approx13_results[14:15][0])[0]\n",
        "\n",
        "lower_exact13 = np.asarray(exact13_results[4:5][0])[0]\n",
        "median_exact13 = np.asarray(exact13_results[9:10][0])[0]\n",
        "upper_exact13 = np.asarray(exact13_results[14:15][0])[0]"
      ]
    },
    {
      "cell_type": "code",
      "execution_count": 82,
      "metadata": {
        "id": "9A7mlVvJQxf5"
      },
      "outputs": [],
      "source": [
        "# Iteration4 :\n",
        "\n",
        "slice4 = 3\n",
        "\n",
        "approx4 = [simple_regret_approx_1[slice4],\n",
        "       simple_regret_approx_2[slice4],\n",
        "       simple_regret_approx_3[slice4],\n",
        "       simple_regret_approx_4[slice4],\n",
        "       simple_regret_approx_5[slice4],\n",
        "       simple_regret_approx_6[slice4],\n",
        "       simple_regret_approx_7[slice4],\n",
        "       simple_regret_approx_8[slice4],\n",
        "       simple_regret_approx_9[slice4],\n",
        "       simple_regret_approx_10[slice4],\n",
        "       simple_regret_approx_11[slice4],\n",
        "       simple_regret_approx_12[slice4],\n",
        "       simple_regret_approx_13[slice4],\n",
        "       simple_regret_approx_14[slice4],\n",
        "       simple_regret_approx_15[slice4],\n",
        "       simple_regret_approx_16[slice4],\n",
        "       simple_regret_approx_17[slice4],\n",
        "       simple_regret_approx_18[slice4],\n",
        "       simple_regret_approx_19[slice4],\n",
        "       simple_regret_approx_20[slice4]]\n",
        "\n",
        "exact4 = [simple_regret_exact_1[slice4],\n",
        "       simple_regret_exact_2[slice4],\n",
        "       simple_regret_exact_3[slice4],\n",
        "       simple_regret_exact_4[slice4],\n",
        "       simple_regret_exact_5[slice4],\n",
        "       simple_regret_exact_6[slice4],\n",
        "       simple_regret_exact_7[slice4],\n",
        "       simple_regret_exact_8[slice4],\n",
        "       simple_regret_exact_9[slice4],\n",
        "       simple_regret_exact_10[slice4],\n",
        "       simple_regret_exact_11[slice4],\n",
        "       simple_regret_exact_12[slice4],\n",
        "       simple_regret_exact_13[slice4],\n",
        "       simple_regret_exact_14[slice4],\n",
        "       simple_regret_exact_15[slice4],\n",
        "       simple_regret_exact_16[slice4],\n",
        "       simple_regret_exact_17[slice4],\n",
        "       simple_regret_exact_18[slice4],\n",
        "       simple_regret_exact_19[slice4],\n",
        "       simple_regret_exact_20[slice4]]\n",
        "\n",
        "approx4_results = pd.DataFrame(approx4).sort_values(by=[0], ascending=False)\n",
        "exact4_results = pd.DataFrame(exact4).sort_values(by=[0], ascending=False)\n",
        "\n",
        "### Best simple regret minimization IQR - approx:\n",
        "lower_approx4 = np.asarray(approx4_results[4:5][0])[0]\n",
        "median_approx4 = np.asarray(approx4_results[9:10][0])[0]\n",
        "upper_approx4 = np.asarray(approx4_results[14:15][0])[0]\n",
        "\n",
        "lower_exact4 = np.asarray(exact4_results[4:5][0])[0]\n",
        "median_exact4 = np.asarray(exact4_results[9:10][0])[0]\n",
        "upper_exact4 = np.asarray(exact4_results[14:15][0])[0]"
      ]
    },
    {
      "cell_type": "code",
      "execution_count": 83,
      "metadata": {
        "id": "ijq-rioYQxf5"
      },
      "outputs": [],
      "source": [
        "# Iteration14 :\n",
        "\n",
        "slice14 = 13\n",
        "\n",
        "approx14 = [simple_regret_approx_1[slice14],\n",
        "       simple_regret_approx_2[slice14],\n",
        "       simple_regret_approx_3[slice14],\n",
        "       simple_regret_approx_4[slice14],\n",
        "       simple_regret_approx_5[slice14],\n",
        "       simple_regret_approx_6[slice14],\n",
        "       simple_regret_approx_7[slice14],\n",
        "       simple_regret_approx_8[slice14],\n",
        "       simple_regret_approx_9[slice14],\n",
        "       simple_regret_approx_10[slice14],\n",
        "       simple_regret_approx_11[slice14],\n",
        "       simple_regret_approx_12[slice14],\n",
        "       simple_regret_approx_13[slice14],\n",
        "       simple_regret_approx_14[slice14],\n",
        "       simple_regret_approx_15[slice14],\n",
        "       simple_regret_approx_16[slice14],\n",
        "       simple_regret_approx_17[slice14],\n",
        "       simple_regret_approx_18[slice14],\n",
        "       simple_regret_approx_19[slice14],\n",
        "       simple_regret_approx_20[slice14]]\n",
        "\n",
        "exact14 = [simple_regret_exact_1[slice14],\n",
        "       simple_regret_exact_2[slice14],\n",
        "       simple_regret_exact_3[slice14],\n",
        "       simple_regret_exact_4[slice14],\n",
        "       simple_regret_exact_5[slice14],\n",
        "       simple_regret_exact_6[slice14],\n",
        "       simple_regret_exact_7[slice14],\n",
        "       simple_regret_exact_8[slice14],\n",
        "       simple_regret_exact_9[slice14],\n",
        "       simple_regret_exact_10[slice14],\n",
        "       simple_regret_exact_11[slice14],\n",
        "       simple_regret_exact_12[slice14],\n",
        "       simple_regret_exact_13[slice14],\n",
        "       simple_regret_exact_14[slice14],\n",
        "       simple_regret_exact_15[slice14],\n",
        "       simple_regret_exact_16[slice14],\n",
        "       simple_regret_exact_17[slice14],\n",
        "       simple_regret_exact_18[slice14],\n",
        "       simple_regret_exact_19[slice14],\n",
        "       simple_regret_exact_20[slice14]]\n",
        "\n",
        "approx14_results = pd.DataFrame(approx14).sort_values(by=[0], ascending=False)\n",
        "exact14_results = pd.DataFrame(exact14).sort_values(by=[0], ascending=False)\n",
        "\n",
        "### Best simple regret minimization IQR - approx:\n",
        "lower_approx14 = np.asarray(approx14_results[4:5][0])[0]\n",
        "median_approx14 = np.asarray(approx14_results[9:10][0])[0]\n",
        "upper_approx14 = np.asarray(approx14_results[14:15][0])[0]\n",
        "\n",
        "lower_exact14 = np.asarray(exact14_results[4:5][0])[0]\n",
        "median_exact14 = np.asarray(exact14_results[9:10][0])[0]\n",
        "upper_exact14 = np.asarray(exact14_results[14:15][0])[0]"
      ]
    },
    {
      "cell_type": "code",
      "execution_count": 84,
      "metadata": {
        "id": "XINlZjoTd-ZK"
      },
      "outputs": [],
      "source": [
        "# Iteration5 :\n",
        "\n",
        "slice5 = 4\n",
        "\n",
        "approx5 = [simple_regret_approx_1[slice5],\n",
        "       simple_regret_approx_2[slice5],\n",
        "       simple_regret_approx_3[slice5],\n",
        "       simple_regret_approx_4[slice5],\n",
        "       simple_regret_approx_5[slice5],\n",
        "       simple_regret_approx_6[slice5],\n",
        "       simple_regret_approx_7[slice5],\n",
        "       simple_regret_approx_8[slice5],\n",
        "       simple_regret_approx_9[slice5],\n",
        "       simple_regret_approx_10[slice5],\n",
        "       simple_regret_approx_11[slice5],\n",
        "       simple_regret_approx_12[slice5],\n",
        "       simple_regret_approx_13[slice5],\n",
        "       simple_regret_approx_14[slice5],\n",
        "       simple_regret_approx_15[slice5],\n",
        "       simple_regret_approx_16[slice5],\n",
        "       simple_regret_approx_17[slice5],\n",
        "       simple_regret_approx_18[slice5],\n",
        "       simple_regret_approx_19[slice5],\n",
        "       simple_regret_approx_20[slice5]]\n",
        "\n",
        "exact5 = [simple_regret_exact_1[slice5],\n",
        "       simple_regret_exact_2[slice5],\n",
        "       simple_regret_exact_3[slice5],\n",
        "       simple_regret_exact_4[slice5],\n",
        "       simple_regret_exact_5[slice5],\n",
        "       simple_regret_exact_6[slice5],\n",
        "       simple_regret_exact_7[slice5],\n",
        "       simple_regret_exact_8[slice5],\n",
        "       simple_regret_exact_9[slice5],\n",
        "       simple_regret_exact_10[slice5],\n",
        "       simple_regret_exact_11[slice5],\n",
        "       simple_regret_exact_12[slice5],\n",
        "       simple_regret_exact_13[slice5],\n",
        "       simple_regret_exact_14[slice5],\n",
        "       simple_regret_exact_15[slice5],\n",
        "       simple_regret_exact_16[slice5],\n",
        "       simple_regret_exact_17[slice5],\n",
        "       simple_regret_exact_18[slice5],\n",
        "       simple_regret_exact_19[slice5],\n",
        "       simple_regret_exact_20[slice5]]\n",
        "\n",
        "approx5_results = pd.DataFrame(approx5).sort_values(by=[0], ascending=False)\n",
        "exact5_results = pd.DataFrame(exact5).sort_values(by=[0], ascending=False)\n",
        "\n",
        "### Best simple regret minimization IQR - approx:\n",
        "lower_approx5 = np.asarray(approx5_results[4:5][0])[0]\n",
        "median_approx5 = np.asarray(approx5_results[9:10][0])[0]\n",
        "upper_approx5 = np.asarray(approx5_results[14:15][0])[0]\n",
        "\n",
        "lower_exact5 = np.asarray(exact5_results[4:5][0])[0]\n",
        "median_exact5 = np.asarray(exact5_results[9:10][0])[0]\n",
        "upper_exact5 = np.asarray(exact5_results[14:15][0])[0]"
      ]
    },
    {
      "cell_type": "code",
      "execution_count": 85,
      "metadata": {
        "id": "4aZ7C8sOQxf6"
      },
      "outputs": [],
      "source": [
        "# Iteration15 :\n",
        "\n",
        "slice15 = 14\n",
        "\n",
        "approx15 = [simple_regret_approx_1[slice15],\n",
        "       simple_regret_approx_2[slice15],\n",
        "       simple_regret_approx_3[slice15],\n",
        "       simple_regret_approx_4[slice15],\n",
        "       simple_regret_approx_5[slice15],\n",
        "       simple_regret_approx_6[slice15],\n",
        "       simple_regret_approx_7[slice15],\n",
        "       simple_regret_approx_8[slice15],\n",
        "       simple_regret_approx_9[slice15],\n",
        "       simple_regret_approx_10[slice15],\n",
        "       simple_regret_approx_11[slice15],\n",
        "       simple_regret_approx_12[slice15],\n",
        "       simple_regret_approx_13[slice15],\n",
        "       simple_regret_approx_14[slice15],\n",
        "       simple_regret_approx_15[slice15],\n",
        "       simple_regret_approx_16[slice15],\n",
        "       simple_regret_approx_17[slice15],\n",
        "       simple_regret_approx_18[slice15],\n",
        "       simple_regret_approx_19[slice15],\n",
        "       simple_regret_approx_20[slice15]]\n",
        "\n",
        "exact15 = [simple_regret_exact_1[slice15],\n",
        "       simple_regret_exact_2[slice15],\n",
        "       simple_regret_exact_3[slice15],\n",
        "       simple_regret_exact_4[slice15],\n",
        "       simple_regret_exact_5[slice15],\n",
        "       simple_regret_exact_6[slice15],\n",
        "       simple_regret_exact_7[slice15],\n",
        "       simple_regret_exact_8[slice15],\n",
        "       simple_regret_exact_9[slice15],\n",
        "       simple_regret_exact_10[slice15],\n",
        "       simple_regret_exact_11[slice15],\n",
        "       simple_regret_exact_12[slice15],\n",
        "       simple_regret_exact_13[slice15],\n",
        "       simple_regret_exact_14[slice15],\n",
        "       simple_regret_exact_15[slice15],\n",
        "       simple_regret_exact_16[slice15],\n",
        "       simple_regret_exact_17[slice15],\n",
        "       simple_regret_exact_18[slice15],\n",
        "       simple_regret_exact_19[slice15],\n",
        "       simple_regret_exact_20[slice15]]\n",
        "\n",
        "approx15_results = pd.DataFrame(approx15).sort_values(by=[0], ascending=False)\n",
        "exact15_results = pd.DataFrame(exact15).sort_values(by=[0], ascending=False)\n",
        "\n",
        "### Best simple regret minimization IQR - approx:\n",
        "lower_approx15 = np.asarray(approx15_results[4:5][0])[0]\n",
        "median_approx15 = np.asarray(approx15_results[9:10][0])[0]\n",
        "upper_approx15 = np.asarray(approx15_results[14:15][0])[0]\n",
        "\n",
        "lower_exact15 = np.asarray(exact15_results[4:5][0])[0]\n",
        "median_exact15 = np.asarray(exact15_results[9:10][0])[0]\n",
        "upper_exact15 = np.asarray(exact15_results[14:15][0])[0]"
      ]
    },
    {
      "cell_type": "code",
      "execution_count": 86,
      "metadata": {
        "id": "KJINKhv1Qxf6"
      },
      "outputs": [],
      "source": [
        "# Iteration6 :\n",
        "\n",
        "slice6 = 5\n",
        "\n",
        "approx6 = [simple_regret_approx_1[slice6],\n",
        "       simple_regret_approx_2[slice6],\n",
        "       simple_regret_approx_3[slice6],\n",
        "       simple_regret_approx_4[slice6],\n",
        "       simple_regret_approx_5[slice6],\n",
        "       simple_regret_approx_6[slice6],\n",
        "       simple_regret_approx_7[slice6],\n",
        "       simple_regret_approx_8[slice6],\n",
        "       simple_regret_approx_9[slice6],\n",
        "       simple_regret_approx_10[slice6],\n",
        "       simple_regret_approx_11[slice6],\n",
        "       simple_regret_approx_12[slice6],\n",
        "       simple_regret_approx_13[slice6],\n",
        "       simple_regret_approx_14[slice6],\n",
        "       simple_regret_approx_15[slice6],\n",
        "       simple_regret_approx_16[slice6],\n",
        "       simple_regret_approx_17[slice6],\n",
        "       simple_regret_approx_18[slice6],\n",
        "       simple_regret_approx_19[slice6],\n",
        "       simple_regret_approx_20[slice6]]\n",
        "\n",
        "exact6 = [simple_regret_exact_1[slice6],\n",
        "       simple_regret_exact_2[slice6],\n",
        "       simple_regret_exact_3[slice6],\n",
        "       simple_regret_exact_4[slice6],\n",
        "       simple_regret_exact_5[slice6],\n",
        "       simple_regret_exact_6[slice6],\n",
        "       simple_regret_exact_7[slice6],\n",
        "       simple_regret_exact_8[slice6],\n",
        "       simple_regret_exact_9[slice6],\n",
        "       simple_regret_exact_10[slice6],\n",
        "       simple_regret_exact_11[slice6],\n",
        "       simple_regret_exact_12[slice6],\n",
        "       simple_regret_exact_13[slice6],\n",
        "       simple_regret_exact_14[slice6],\n",
        "       simple_regret_exact_15[slice6],\n",
        "       simple_regret_exact_16[slice6],\n",
        "       simple_regret_exact_17[slice6],\n",
        "       simple_regret_exact_18[slice6],\n",
        "       simple_regret_exact_19[slice6],\n",
        "       simple_regret_exact_20[slice6]]\n",
        "\n",
        "approx6_results = pd.DataFrame(approx6).sort_values(by=[0], ascending=False)\n",
        "exact6_results = pd.DataFrame(exact6).sort_values(by=[0], ascending=False)\n",
        "\n",
        "### Best simple regret minimization IQR - approx:\n",
        "lower_approx6 = np.asarray(approx6_results[4:5][0])[0]\n",
        "median_approx6 = np.asarray(approx6_results[9:10][0])[0]\n",
        "upper_approx6 = np.asarray(approx6_results[14:15][0])[0]\n",
        "\n",
        "lower_exact6 = np.asarray(exact6_results[4:5][0])[0]\n",
        "median_exact6 = np.asarray(exact6_results[9:10][0])[0]\n",
        "upper_exact6 = np.asarray(exact6_results[14:15][0])[0]"
      ]
    },
    {
      "cell_type": "code",
      "execution_count": 87,
      "metadata": {
        "id": "nwC5N1FsQxf7"
      },
      "outputs": [],
      "source": [
        "# Iteration16 :\n",
        "\n",
        "slice16 = 15\n",
        "\n",
        "approx16 = [simple_regret_approx_1[slice16],\n",
        "       simple_regret_approx_2[slice16],\n",
        "       simple_regret_approx_3[slice16],\n",
        "       simple_regret_approx_4[slice16],\n",
        "       simple_regret_approx_5[slice16],\n",
        "       simple_regret_approx_6[slice16],\n",
        "       simple_regret_approx_7[slice16],\n",
        "       simple_regret_approx_8[slice16],\n",
        "       simple_regret_approx_9[slice16],\n",
        "       simple_regret_approx_10[slice16],\n",
        "       simple_regret_approx_11[slice16],\n",
        "       simple_regret_approx_12[slice16],\n",
        "       simple_regret_approx_13[slice16],\n",
        "       simple_regret_approx_14[slice16],\n",
        "       simple_regret_approx_15[slice16],\n",
        "       simple_regret_approx_16[slice16],\n",
        "       simple_regret_approx_17[slice16],\n",
        "       simple_regret_approx_18[slice16],\n",
        "       simple_regret_approx_19[slice16],\n",
        "       simple_regret_approx_20[slice16]]\n",
        "\n",
        "exact16 = [simple_regret_exact_1[slice16],\n",
        "       simple_regret_exact_2[slice16],\n",
        "       simple_regret_exact_3[slice16],\n",
        "       simple_regret_exact_4[slice16],\n",
        "       simple_regret_exact_5[slice16],\n",
        "       simple_regret_exact_6[slice16],\n",
        "       simple_regret_exact_7[slice16],\n",
        "       simple_regret_exact_8[slice16],\n",
        "       simple_regret_exact_9[slice16],\n",
        "       simple_regret_exact_10[slice16],\n",
        "       simple_regret_exact_11[slice16],\n",
        "       simple_regret_exact_12[slice16],\n",
        "       simple_regret_exact_13[slice16],\n",
        "       simple_regret_exact_14[slice16],\n",
        "       simple_regret_exact_15[slice16],\n",
        "       simple_regret_exact_16[slice16],\n",
        "       simple_regret_exact_17[slice16],\n",
        "       simple_regret_exact_18[slice16],\n",
        "       simple_regret_exact_19[slice16],\n",
        "       simple_regret_exact_20[slice16]]\n",
        "\n",
        "approx16_results = pd.DataFrame(approx16).sort_values(by=[0], ascending=False)\n",
        "exact16_results = pd.DataFrame(exact16).sort_values(by=[0], ascending=False)\n",
        "\n",
        "### Best simple regret minimization IQR - approx:\n",
        "lower_approx16 = np.asarray(approx16_results[4:5][0])[0]\n",
        "median_approx16 = np.asarray(approx16_results[9:10][0])[0]\n",
        "upper_approx16 = np.asarray(approx16_results[14:15][0])[0]\n",
        "\n",
        "lower_exact16 = np.asarray(exact16_results[4:5][0])[0]\n",
        "median_exact16 = np.asarray(exact16_results[9:10][0])[0]\n",
        "upper_exact16 = np.asarray(exact16_results[14:15][0])[0]"
      ]
    },
    {
      "cell_type": "code",
      "execution_count": 88,
      "metadata": {
        "id": "TrPV0AfnQxf7"
      },
      "outputs": [],
      "source": [
        "# Iteration7 :\n",
        "\n",
        "slice7 = 6\n",
        "\n",
        "approx7 = [simple_regret_approx_1[slice7],\n",
        "       simple_regret_approx_2[slice7],\n",
        "       simple_regret_approx_3[slice7],\n",
        "       simple_regret_approx_4[slice7],\n",
        "       simple_regret_approx_5[slice7],\n",
        "       simple_regret_approx_6[slice7],\n",
        "       simple_regret_approx_7[slice7],\n",
        "       simple_regret_approx_8[slice7],\n",
        "       simple_regret_approx_9[slice7],\n",
        "       simple_regret_approx_10[slice7],\n",
        "       simple_regret_approx_11[slice7],\n",
        "       simple_regret_approx_12[slice7],\n",
        "       simple_regret_approx_13[slice7],\n",
        "       simple_regret_approx_14[slice7],\n",
        "       simple_regret_approx_15[slice7],\n",
        "       simple_regret_approx_16[slice7],\n",
        "       simple_regret_approx_17[slice7],\n",
        "       simple_regret_approx_18[slice7],\n",
        "       simple_regret_approx_19[slice7],\n",
        "       simple_regret_approx_20[slice7]]\n",
        "\n",
        "exact7 = [simple_regret_exact_1[slice7],\n",
        "       simple_regret_exact_2[slice7],\n",
        "       simple_regret_exact_3[slice7],\n",
        "       simple_regret_exact_4[slice7],\n",
        "       simple_regret_exact_5[slice7],\n",
        "       simple_regret_exact_6[slice7],\n",
        "       simple_regret_exact_7[slice7],\n",
        "       simple_regret_exact_8[slice7],\n",
        "       simple_regret_exact_9[slice7],\n",
        "       simple_regret_exact_10[slice7],\n",
        "       simple_regret_exact_11[slice7],\n",
        "       simple_regret_exact_12[slice7],\n",
        "       simple_regret_exact_13[slice7],\n",
        "       simple_regret_exact_14[slice7],\n",
        "       simple_regret_exact_15[slice7],\n",
        "       simple_regret_exact_16[slice7],\n",
        "       simple_regret_exact_17[slice7],\n",
        "       simple_regret_exact_18[slice7],\n",
        "       simple_regret_exact_19[slice7],\n",
        "       simple_regret_exact_20[slice7]]\n",
        "\n",
        "approx7_results = pd.DataFrame(approx7).sort_values(by=[0], ascending=False)\n",
        "exact7_results = pd.DataFrame(exact7).sort_values(by=[0], ascending=False)\n",
        "\n",
        "### Best simple regret minimization IQR - approx:\n",
        "lower_approx7 = np.asarray(approx7_results[4:5][0])[0]\n",
        "median_approx7 = np.asarray(approx7_results[9:10][0])[0]\n",
        "upper_approx7 = np.asarray(approx7_results[14:15][0])[0]\n",
        "\n",
        "lower_exact7 = np.asarray(exact7_results[4:5][0])[0]\n",
        "median_exact7 = np.asarray(exact7_results[9:10][0])[0]\n",
        "upper_exact7 = np.asarray(exact7_results[14:15][0])[0]"
      ]
    },
    {
      "cell_type": "code",
      "execution_count": 89,
      "metadata": {
        "id": "Ub_-wpK4Qxf8"
      },
      "outputs": [],
      "source": [
        "# Iteration17 :\n",
        "\n",
        "slice17 = 16\n",
        "\n",
        "approx17 = [simple_regret_approx_1[slice17],\n",
        "       simple_regret_approx_2[slice17],\n",
        "       simple_regret_approx_3[slice17],\n",
        "       simple_regret_approx_4[slice17],\n",
        "       simple_regret_approx_5[slice17],\n",
        "       simple_regret_approx_6[slice17],\n",
        "       simple_regret_approx_7[slice17],\n",
        "       simple_regret_approx_8[slice17],\n",
        "       simple_regret_approx_9[slice17],\n",
        "       simple_regret_approx_10[slice17],\n",
        "       simple_regret_approx_11[slice17],\n",
        "       simple_regret_approx_12[slice17],\n",
        "       simple_regret_approx_13[slice17],\n",
        "       simple_regret_approx_14[slice17],\n",
        "       simple_regret_approx_15[slice17],\n",
        "       simple_regret_approx_16[slice17],\n",
        "       simple_regret_approx_17[slice17],\n",
        "       simple_regret_approx_18[slice17],\n",
        "       simple_regret_approx_19[slice17],\n",
        "       simple_regret_approx_20[slice17]]\n",
        "\n",
        "exact17 = [simple_regret_exact_1[slice17],\n",
        "       simple_regret_exact_2[slice17],\n",
        "       simple_regret_exact_3[slice17],\n",
        "       simple_regret_exact_4[slice17],\n",
        "       simple_regret_exact_5[slice17],\n",
        "       simple_regret_exact_6[slice17],\n",
        "       simple_regret_exact_7[slice17],\n",
        "       simple_regret_exact_8[slice17],\n",
        "       simple_regret_exact_9[slice17],\n",
        "       simple_regret_exact_10[slice17],\n",
        "       simple_regret_exact_11[slice17],\n",
        "       simple_regret_exact_12[slice17],\n",
        "       simple_regret_exact_13[slice17],\n",
        "       simple_regret_exact_14[slice17],\n",
        "       simple_regret_exact_15[slice17],\n",
        "       simple_regret_exact_16[slice17],\n",
        "       simple_regret_exact_17[slice17],\n",
        "       simple_regret_exact_18[slice17],\n",
        "       simple_regret_exact_19[slice17],\n",
        "       simple_regret_exact_20[slice17]]\n",
        "\n",
        "approx17_results = pd.DataFrame(approx17).sort_values(by=[0], ascending=False)\n",
        "exact17_results = pd.DataFrame(exact17).sort_values(by=[0], ascending=False)\n",
        "\n",
        "### Best simple regret minimization IQR - approx:\n",
        "lower_approx17 = np.asarray(approx17_results[4:5][0])[0]\n",
        "median_approx17 = np.asarray(approx17_results[9:10][0])[0]\n",
        "upper_approx17 = np.asarray(approx17_results[14:15][0])[0]\n",
        "\n",
        "lower_exact17 = np.asarray(exact17_results[4:5][0])[0]\n",
        "median_exact17 = np.asarray(exact17_results[9:10][0])[0]\n",
        "upper_exact17 = np.asarray(exact17_results[14:15][0])[0]"
      ]
    },
    {
      "cell_type": "code",
      "execution_count": 90,
      "metadata": {
        "id": "-6VLo37PQxf8"
      },
      "outputs": [],
      "source": [
        "# Iteration8 :\n",
        "\n",
        "slice8 = 7\n",
        "\n",
        "approx8 = [simple_regret_approx_1[slice8],\n",
        "       simple_regret_approx_2[slice8],\n",
        "       simple_regret_approx_3[slice8],\n",
        "       simple_regret_approx_4[slice8],\n",
        "       simple_regret_approx_5[slice8],\n",
        "       simple_regret_approx_6[slice8],\n",
        "       simple_regret_approx_7[slice8],\n",
        "       simple_regret_approx_8[slice8],\n",
        "       simple_regret_approx_9[slice8],\n",
        "       simple_regret_approx_10[slice8],\n",
        "       simple_regret_approx_11[slice8],\n",
        "       simple_regret_approx_12[slice8],\n",
        "       simple_regret_approx_13[slice8],\n",
        "       simple_regret_approx_14[slice8],\n",
        "       simple_regret_approx_15[slice8],\n",
        "       simple_regret_approx_16[slice8],\n",
        "       simple_regret_approx_17[slice8],\n",
        "       simple_regret_approx_18[slice8],\n",
        "       simple_regret_approx_19[slice8],\n",
        "       simple_regret_approx_20[slice8]]\n",
        "\n",
        "exact8 = [simple_regret_exact_1[slice8],\n",
        "       simple_regret_exact_2[slice8],\n",
        "       simple_regret_exact_3[slice8],\n",
        "       simple_regret_exact_4[slice8],\n",
        "       simple_regret_exact_5[slice8],\n",
        "       simple_regret_exact_6[slice8],\n",
        "       simple_regret_exact_7[slice8],\n",
        "       simple_regret_exact_8[slice8],\n",
        "       simple_regret_exact_9[slice8],\n",
        "       simple_regret_exact_10[slice8],\n",
        "       simple_regret_exact_11[slice8],\n",
        "       simple_regret_exact_12[slice8],\n",
        "       simple_regret_exact_13[slice8],\n",
        "       simple_regret_exact_14[slice8],\n",
        "       simple_regret_exact_15[slice8],\n",
        "       simple_regret_exact_16[slice8],\n",
        "       simple_regret_exact_17[slice8],\n",
        "       simple_regret_exact_18[slice8],\n",
        "       simple_regret_exact_19[slice8],\n",
        "       simple_regret_exact_20[slice8]]\n",
        "\n",
        "approx8_results = pd.DataFrame(approx8).sort_values(by=[0], ascending=False)\n",
        "exact8_results = pd.DataFrame(exact8).sort_values(by=[0], ascending=False)\n",
        "\n",
        "### Best simple regret minimization IQR - approx:\n",
        "lower_approx8 = np.asarray(approx8_results[4:5][0])[0]\n",
        "median_approx8 = np.asarray(approx8_results[9:10][0])[0]\n",
        "upper_approx8 = np.asarray(approx8_results[14:15][0])[0]\n",
        "\n",
        "lower_exact8 = np.asarray(exact8_results[4:5][0])[0]\n",
        "median_exact8 = np.asarray(exact8_results[9:10][0])[0]\n",
        "upper_exact8 = np.asarray(exact8_results[14:15][0])[0]"
      ]
    },
    {
      "cell_type": "code",
      "execution_count": 91,
      "metadata": {
        "id": "2Dp-9CC2Qxf9"
      },
      "outputs": [],
      "source": [
        "# Iteration18 :\n",
        "\n",
        "slice18 = 17\n",
        "\n",
        "approx18 = [simple_regret_approx_1[slice18],\n",
        "       simple_regret_approx_2[slice18],\n",
        "       simple_regret_approx_3[slice18],\n",
        "       simple_regret_approx_4[slice18],\n",
        "       simple_regret_approx_5[slice18],\n",
        "       simple_regret_approx_6[slice18],\n",
        "       simple_regret_approx_7[slice18],\n",
        "       simple_regret_approx_8[slice18],\n",
        "       simple_regret_approx_9[slice18],\n",
        "       simple_regret_approx_10[slice18],\n",
        "       simple_regret_approx_11[slice18],\n",
        "       simple_regret_approx_12[slice18],\n",
        "       simple_regret_approx_13[slice18],\n",
        "       simple_regret_approx_14[slice18],\n",
        "       simple_regret_approx_15[slice18],\n",
        "       simple_regret_approx_16[slice18],\n",
        "       simple_regret_approx_17[slice18],\n",
        "       simple_regret_approx_18[slice18],\n",
        "       simple_regret_approx_19[slice18],\n",
        "       simple_regret_approx_20[slice18]]\n",
        "\n",
        "exact18 = [simple_regret_exact_1[slice18],\n",
        "       simple_regret_exact_2[slice18],\n",
        "       simple_regret_exact_3[slice18],\n",
        "       simple_regret_exact_4[slice18],\n",
        "       simple_regret_exact_5[slice18],\n",
        "       simple_regret_exact_6[slice18],\n",
        "       simple_regret_exact_7[slice18],\n",
        "       simple_regret_exact_8[slice18],\n",
        "       simple_regret_exact_9[slice18],\n",
        "       simple_regret_exact_10[slice18],\n",
        "       simple_regret_exact_11[slice18],\n",
        "       simple_regret_exact_12[slice18],\n",
        "       simple_regret_exact_13[slice18],\n",
        "       simple_regret_exact_14[slice18],\n",
        "       simple_regret_exact_15[slice18],\n",
        "       simple_regret_exact_16[slice18],\n",
        "       simple_regret_exact_17[slice18],\n",
        "       simple_regret_exact_18[slice18],\n",
        "       simple_regret_exact_19[slice18],\n",
        "       simple_regret_exact_20[slice18]]\n",
        "\n",
        "approx18_results = pd.DataFrame(approx18).sort_values(by=[0], ascending=False)\n",
        "exact18_results = pd.DataFrame(exact18).sort_values(by=[0], ascending=False)\n",
        "\n",
        "### Best simple regret minimization IQR - approx:\n",
        "lower_approx18 = np.asarray(approx18_results[4:5][0])[0]\n",
        "median_approx18 = np.asarray(approx18_results[9:10][0])[0]\n",
        "upper_approx18 = np.asarray(approx18_results[14:15][0])[0]\n",
        "\n",
        "lower_exact18 = np.asarray(exact18_results[4:5][0])[0]\n",
        "median_exact18 = np.asarray(exact18_results[9:10][0])[0]\n",
        "upper_exact18 = np.asarray(exact18_results[14:15][0])[0]"
      ]
    },
    {
      "cell_type": "code",
      "execution_count": 92,
      "metadata": {
        "id": "SqiaOpB7Qxf9"
      },
      "outputs": [],
      "source": [
        "# Iteration9 :\n",
        "\n",
        "slice9 = 8\n",
        "\n",
        "approx9 = [simple_regret_approx_1[slice9],\n",
        "       simple_regret_approx_2[slice9],\n",
        "       simple_regret_approx_3[slice9],\n",
        "       simple_regret_approx_4[slice9],\n",
        "       simple_regret_approx_5[slice9],\n",
        "       simple_regret_approx_6[slice9],\n",
        "       simple_regret_approx_7[slice9],\n",
        "       simple_regret_approx_8[slice9],\n",
        "       simple_regret_approx_9[slice9],\n",
        "       simple_regret_approx_10[slice9],\n",
        "       simple_regret_approx_11[slice9],\n",
        "       simple_regret_approx_12[slice9],\n",
        "       simple_regret_approx_13[slice9],\n",
        "       simple_regret_approx_14[slice9],\n",
        "       simple_regret_approx_15[slice9],\n",
        "       simple_regret_approx_16[slice9],\n",
        "       simple_regret_approx_17[slice9],\n",
        "       simple_regret_approx_18[slice9],\n",
        "       simple_regret_approx_19[slice9],\n",
        "       simple_regret_approx_20[slice9]]\n",
        "\n",
        "exact9 = [simple_regret_exact_1[slice9],\n",
        "       simple_regret_exact_2[slice9],\n",
        "       simple_regret_exact_3[slice9],\n",
        "       simple_regret_exact_4[slice9],\n",
        "       simple_regret_exact_5[slice9],\n",
        "       simple_regret_exact_6[slice9],\n",
        "       simple_regret_exact_7[slice9],\n",
        "       simple_regret_exact_8[slice9],\n",
        "       simple_regret_exact_9[slice9],\n",
        "       simple_regret_exact_10[slice9],\n",
        "       simple_regret_exact_11[slice9],\n",
        "       simple_regret_exact_12[slice9],\n",
        "       simple_regret_exact_13[slice9],\n",
        "       simple_regret_exact_14[slice9],\n",
        "       simple_regret_exact_15[slice9],\n",
        "       simple_regret_exact_16[slice9],\n",
        "       simple_regret_exact_17[slice9],\n",
        "       simple_regret_exact_18[slice9],\n",
        "       simple_regret_exact_19[slice9],\n",
        "       simple_regret_exact_20[slice9]]\n",
        "\n",
        "approx9_results = pd.DataFrame(approx9).sort_values(by=[0], ascending=False)\n",
        "exact9_results = pd.DataFrame(exact9).sort_values(by=[0], ascending=False)\n",
        "\n",
        "### Best simple regret minimization IQR - approx:\n",
        "lower_approx9 = np.asarray(approx9_results[4:5][0])[0]\n",
        "median_approx9 = np.asarray(approx9_results[9:10][0])[0]\n",
        "upper_approx9 = np.asarray(approx9_results[14:15][0])[0]\n",
        "\n",
        "lower_exact9 = np.asarray(exact9_results[4:5][0])[0]\n",
        "median_exact9 = np.asarray(exact9_results[9:10][0])[0]\n",
        "upper_exact9 = np.asarray(exact9_results[14:15][0])[0]"
      ]
    },
    {
      "cell_type": "code",
      "execution_count": 93,
      "metadata": {
        "id": "OQkCCOsPQxf9"
      },
      "outputs": [],
      "source": [
        "# Iteration19 :\n",
        "\n",
        "slice19 = 18\n",
        "\n",
        "approx19 = [simple_regret_approx_1[slice19],\n",
        "       simple_regret_approx_2[slice19],\n",
        "       simple_regret_approx_3[slice19],\n",
        "       simple_regret_approx_4[slice19],\n",
        "       simple_regret_approx_5[slice19],\n",
        "       simple_regret_approx_6[slice19],\n",
        "       simple_regret_approx_7[slice19],\n",
        "       simple_regret_approx_8[slice19],\n",
        "       simple_regret_approx_9[slice19],\n",
        "       simple_regret_approx_10[slice19],\n",
        "       simple_regret_approx_11[slice19],\n",
        "       simple_regret_approx_12[slice19],\n",
        "       simple_regret_approx_13[slice19],\n",
        "       simple_regret_approx_14[slice19],\n",
        "       simple_regret_approx_15[slice19],\n",
        "       simple_regret_approx_16[slice19],\n",
        "       simple_regret_approx_17[slice19],\n",
        "       simple_regret_approx_18[slice19],\n",
        "       simple_regret_approx_19[slice19],\n",
        "       simple_regret_approx_20[slice19]]\n",
        "\n",
        "exact19 = [simple_regret_exact_1[slice19],\n",
        "       simple_regret_exact_2[slice19],\n",
        "       simple_regret_exact_3[slice19],\n",
        "       simple_regret_exact_4[slice19],\n",
        "       simple_regret_exact_5[slice19],\n",
        "       simple_regret_exact_6[slice19],\n",
        "       simple_regret_exact_7[slice19],\n",
        "       simple_regret_exact_8[slice19],\n",
        "       simple_regret_exact_9[slice19],\n",
        "       simple_regret_exact_10[slice19],\n",
        "       simple_regret_exact_11[slice19],\n",
        "       simple_regret_exact_12[slice19],\n",
        "       simple_regret_exact_13[slice19],\n",
        "       simple_regret_exact_14[slice19],\n",
        "       simple_regret_exact_15[slice19],\n",
        "       simple_regret_exact_16[slice19],\n",
        "       simple_regret_exact_17[slice19],\n",
        "       simple_regret_exact_18[slice19],\n",
        "       simple_regret_exact_19[slice19],\n",
        "       simple_regret_exact_20[slice19]]\n",
        "\n",
        "approx19_results = pd.DataFrame(approx19).sort_values(by=[0], ascending=False)\n",
        "exact19_results = pd.DataFrame(exact19).sort_values(by=[0], ascending=False)\n",
        "\n",
        "### Best simple regret minimization IQR - approx:\n",
        "lower_approx19 = np.asarray(approx19_results[4:5][0])[0]\n",
        "median_approx19 = np.asarray(approx19_results[9:10][0])[0]\n",
        "upper_approx19 = np.asarray(approx19_results[14:15][0])[0]\n",
        "\n",
        "lower_exact19 = np.asarray(exact19_results[4:5][0])[0]\n",
        "median_exact19 = np.asarray(exact19_results[9:10][0])[0]\n",
        "upper_exact19 = np.asarray(exact19_results[14:15][0])[0]"
      ]
    },
    {
      "cell_type": "code",
      "execution_count": 94,
      "metadata": {
        "id": "h4vtWahcQxf-"
      },
      "outputs": [],
      "source": [
        "# Iteration10 :\n",
        "\n",
        "slice10 = 9\n",
        "\n",
        "approx10 = [simple_regret_approx_1[slice10],\n",
        "       simple_regret_approx_2[slice10],\n",
        "       simple_regret_approx_3[slice10],\n",
        "       simple_regret_approx_4[slice10],\n",
        "       simple_regret_approx_5[slice10],\n",
        "       simple_regret_approx_6[slice10],\n",
        "       simple_regret_approx_7[slice10],\n",
        "       simple_regret_approx_8[slice10],\n",
        "       simple_regret_approx_9[slice10],\n",
        "       simple_regret_approx_10[slice10],\n",
        "       simple_regret_approx_11[slice10],\n",
        "       simple_regret_approx_12[slice10],\n",
        "       simple_regret_approx_13[slice10],\n",
        "       simple_regret_approx_14[slice10],\n",
        "       simple_regret_approx_15[slice10],\n",
        "       simple_regret_approx_16[slice10],\n",
        "       simple_regret_approx_17[slice10],\n",
        "       simple_regret_approx_18[slice10],\n",
        "       simple_regret_approx_19[slice10],\n",
        "       simple_regret_approx_20[slice10]]\n",
        "\n",
        "exact10 = [simple_regret_exact_1[slice10],\n",
        "       simple_regret_exact_2[slice10],\n",
        "       simple_regret_exact_3[slice10],\n",
        "       simple_regret_exact_4[slice10],\n",
        "       simple_regret_exact_5[slice10],\n",
        "       simple_regret_exact_6[slice10],\n",
        "       simple_regret_exact_7[slice10],\n",
        "       simple_regret_exact_8[slice10],\n",
        "       simple_regret_exact_9[slice10],\n",
        "       simple_regret_exact_10[slice10],\n",
        "       simple_regret_exact_11[slice10],\n",
        "       simple_regret_exact_12[slice10],\n",
        "       simple_regret_exact_13[slice10],\n",
        "       simple_regret_exact_14[slice10],\n",
        "       simple_regret_exact_15[slice10],\n",
        "       simple_regret_exact_16[slice10],\n",
        "       simple_regret_exact_17[slice10],\n",
        "       simple_regret_exact_18[slice10],\n",
        "       simple_regret_exact_19[slice10],\n",
        "       simple_regret_exact_20[slice10]]\n",
        "\n",
        "approx10_results = pd.DataFrame(approx10).sort_values(by=[0], ascending=False)\n",
        "exact10_results = pd.DataFrame(exact10).sort_values(by=[0], ascending=False)\n",
        "\n",
        "### Best simple regret minimization IQR - approx:\n",
        "lower_approx10 = np.asarray(approx10_results[4:5][0])[0]\n",
        "median_approx10 = np.asarray(approx10_results[9:10][0])[0]\n",
        "upper_approx10 = np.asarray(approx10_results[14:15][0])[0]\n",
        "\n",
        "lower_exact10 = np.asarray(exact10_results[4:5][0])[0]\n",
        "median_exact10 = np.asarray(exact10_results[9:10][0])[0]\n",
        "upper_exact10 = np.asarray(exact10_results[14:15][0])[0]"
      ]
    },
    {
      "cell_type": "code",
      "execution_count": 95,
      "metadata": {
        "id": "Rsf240pWQxf-"
      },
      "outputs": [],
      "source": [
        "# Iteration20 :\n",
        "\n",
        "slice20 = 19\n",
        "\n",
        "approx20 = [simple_regret_approx_1[slice20],\n",
        "       simple_regret_approx_2[slice20],\n",
        "       simple_regret_approx_3[slice20],\n",
        "       simple_regret_approx_4[slice20],\n",
        "       simple_regret_approx_5[slice20],\n",
        "       simple_regret_approx_6[slice20],\n",
        "       simple_regret_approx_7[slice20],\n",
        "       simple_regret_approx_8[slice20],\n",
        "       simple_regret_approx_9[slice20],\n",
        "       simple_regret_approx_10[slice20],\n",
        "       simple_regret_approx_11[slice20],\n",
        "       simple_regret_approx_12[slice20],\n",
        "       simple_regret_approx_13[slice20],\n",
        "       simple_regret_approx_14[slice20],\n",
        "       simple_regret_approx_15[slice20],\n",
        "       simple_regret_approx_16[slice20],\n",
        "       simple_regret_approx_17[slice20],\n",
        "       simple_regret_approx_18[slice20],\n",
        "       simple_regret_approx_19[slice20],\n",
        "       simple_regret_approx_20[slice20]]\n",
        "\n",
        "exact20 = [simple_regret_exact_1[slice20],\n",
        "       simple_regret_exact_2[slice20],\n",
        "       simple_regret_exact_3[slice20],\n",
        "       simple_regret_exact_4[slice20],\n",
        "       simple_regret_exact_5[slice20],\n",
        "       simple_regret_exact_6[slice20],\n",
        "       simple_regret_exact_7[slice20],\n",
        "       simple_regret_exact_8[slice20],\n",
        "       simple_regret_exact_9[slice20],\n",
        "       simple_regret_exact_10[slice20],\n",
        "       simple_regret_exact_11[slice20],\n",
        "       simple_regret_exact_12[slice20],\n",
        "       simple_regret_exact_13[slice20],\n",
        "       simple_regret_exact_14[slice20],\n",
        "       simple_regret_exact_15[slice20],\n",
        "       simple_regret_exact_16[slice20],\n",
        "       simple_regret_exact_17[slice20],\n",
        "       simple_regret_exact_18[slice20],\n",
        "       simple_regret_exact_19[slice20],\n",
        "       simple_regret_exact_20[slice20]]\n",
        "\n",
        "approx20_results = pd.DataFrame(approx20).sort_values(by=[0], ascending=False)\n",
        "exact20_results = pd.DataFrame(exact20).sort_values(by=[0], ascending=False)\n",
        "\n",
        "### Best simple regret minimization IQR - approx:\n",
        "lower_approx20 = np.asarray(approx20_results[4:5][0])[0]\n",
        "median_approx20 = np.asarray(approx20_results[9:10][0])[0]\n",
        "upper_approx20 = np.asarray(approx20_results[14:15][0])[0]\n",
        "\n",
        "lower_exact20 = np.asarray(exact20_results[4:5][0])[0]\n",
        "median_exact20 = np.asarray(exact20_results[9:10][0])[0]\n",
        "upper_exact20 = np.asarray(exact20_results[14:15][0])[0]"
      ]
    },
    {
      "cell_type": "code",
      "execution_count": 96,
      "metadata": {
        "id": "gn36RejbQxf_"
      },
      "outputs": [],
      "source": [
        "### Summarize arrays: 'Loser'\n",
        "\n",
        "lower_approx = [lower_approx1,\n",
        "            lower_approx2,\n",
        "            lower_approx3,\n",
        "            lower_approx4,\n",
        "            lower_approx5,\n",
        "            lower_approx6,\n",
        "            lower_approx7,\n",
        "            lower_approx8,\n",
        "            lower_approx9,\n",
        "            lower_approx10,\n",
        "            lower_approx11,\n",
        "            lower_approx12,\n",
        "            lower_approx13,\n",
        "            lower_approx14,\n",
        "            lower_approx15,\n",
        "            lower_approx16,\n",
        "            lower_approx17,\n",
        "            lower_approx18,\n",
        "            lower_approx19,\n",
        "            lower_approx20,\n",
        "            lower_approx21]\n",
        "\n",
        "median_approx = [median_approx1,\n",
        "            median_approx2,\n",
        "            median_approx3,\n",
        "            median_approx4,\n",
        "            median_approx5,\n",
        "            median_approx6,\n",
        "            median_approx7,\n",
        "            median_approx8,\n",
        "            median_approx9,\n",
        "            median_approx10,\n",
        "            median_approx11,\n",
        "            median_approx12,\n",
        "            median_approx13,\n",
        "            median_approx14,\n",
        "            median_approx15,\n",
        "            median_approx16,\n",
        "            median_approx17,\n",
        "            median_approx18,\n",
        "            median_approx19,\n",
        "            median_approx20,\n",
        "            median_approx21]\n",
        "\n",
        "upper_approx = [upper_approx1,\n",
        "            upper_approx2,\n",
        "            upper_approx3,\n",
        "            upper_approx4,\n",
        "            upper_approx5,\n",
        "            upper_approx6,\n",
        "            upper_approx7,\n",
        "            upper_approx8,\n",
        "            upper_approx9,\n",
        "            upper_approx10,\n",
        "            upper_approx11,\n",
        "            upper_approx12,\n",
        "            upper_approx13,\n",
        "            upper_approx14,\n",
        "            upper_approx15,\n",
        "            upper_approx16,\n",
        "            upper_approx17,\n",
        "            upper_approx18,\n",
        "            upper_approx19,\n",
        "            upper_approx20,\n",
        "            upper_approx21]"
      ]
    },
    {
      "cell_type": "code",
      "execution_count": 97,
      "metadata": {
        "id": "wxtGTOYfQxf_"
      },
      "outputs": [],
      "source": [
        "### Summarize arrays: 'exact'\n",
        "\n",
        "lower_exact = [lower_exact1,\n",
        "            lower_exact2,\n",
        "            lower_exact3,\n",
        "            lower_exact4,\n",
        "            lower_exact5,\n",
        "            lower_exact6,\n",
        "            lower_exact7,\n",
        "            lower_exact8,\n",
        "            lower_exact9,\n",
        "            lower_exact10,\n",
        "            lower_exact11,\n",
        "            lower_exact12,\n",
        "            lower_exact13,\n",
        "            lower_exact14,\n",
        "            lower_exact15,\n",
        "            lower_exact16,\n",
        "            lower_exact17,\n",
        "            lower_exact18,\n",
        "            lower_exact19,\n",
        "            lower_exact20,\n",
        "            lower_exact21]\n",
        "\n",
        "median_exact = [median_exact1,\n",
        "            median_exact2,\n",
        "            median_exact3,\n",
        "            median_exact4,\n",
        "            median_exact5,\n",
        "            median_exact6,\n",
        "            median_exact7,\n",
        "            median_exact8,\n",
        "            median_exact9,\n",
        "            median_exact10,\n",
        "            median_exact11,\n",
        "            median_exact12,\n",
        "            median_exact13,\n",
        "            median_exact14,\n",
        "            median_exact15,\n",
        "            median_exact16,\n",
        "            median_exact17,\n",
        "            median_exact18,\n",
        "            median_exact19,\n",
        "            median_exact20,\n",
        "            median_exact21]\n",
        "\n",
        "upper_exact = [upper_exact1,\n",
        "            upper_exact2,\n",
        "            upper_exact3,\n",
        "            upper_exact4,\n",
        "            upper_exact5,\n",
        "            upper_exact6,\n",
        "            upper_exact7,\n",
        "            upper_exact8,\n",
        "            upper_exact9,\n",
        "            upper_exact10,\n",
        "            upper_exact11,\n",
        "            upper_exact12,\n",
        "            upper_exact13,\n",
        "            upper_exact14,\n",
        "            upper_exact15,\n",
        "            upper_exact16,\n",
        "            upper_exact17,\n",
        "            upper_exact18,\n",
        "            upper_exact19,\n",
        "            upper_exact20,\n",
        "            upper_exact21]"
      ]
    },
    {
      "cell_type": "code",
      "execution_count": 98,
      "metadata": {
        "id": "2MONq-BXQxgA",
        "colab": {
          "base_uri": "https://localhost:8080/",
          "height": 299
        },
        "outputId": "c85d6ac1-e356-4514-d1ad-b4d8760e1dc9"
      },
      "outputs": [
        {
          "output_type": "display_data",
          "data": {
            "text/plain": [
              "<Figure size 432x288 with 1 Axes>"
            ],
            "image/png": "[encoded data removed]"
          },
          "metadata": {
            "needs_background": "light"
          }
        }
      ],
      "source": [
        "### Visualise!\n",
        "\n",
        "title = func\n",
        "plt.figure()\n",
        "\n",
        "plt.plot(median_approx, color = 'Green', ls='--')\n",
        "plt.plot(median_exact, color = 'Blue', ls='--')\n",
        "\n",
        "xstar = np.arange(0, iters+1, step=1)\n",
        "plt.fill_between(xstar, lower_approx, upper_approx, facecolor = 'Green', alpha=0.4, label='STP ERM Optimisation: Approx STP ERM gradients ' r'($\\nu$' ' = {})'.format(df))\n",
        "plt.fill_between(xstar, lower_exact, upper_exact, facecolor = 'Blue', alpha=0.4, label='STP ERM Optimisation: Exact STP dERM gradients ' r'($\\nu$' ' = {})'.format(df))\n",
        "\n",
        "plt.title(title, weight = 'bold')\n",
        "plt.xlabel('(Post-initialisation) iteration $\\it{k}$', weight = 'bold')\n",
        "plt.ylabel('log(Regret)', weight = 'bold') \n",
        "plt.legend(loc=0) # add plot legend\n",
        "\n",
        "### Make the x-ticks integers, not floats:\n",
        "count = len(xstar)\n",
        "plt.xticks(np.arange(count), np.arange(0, count))\n",
        "plt.show() #visualise!\n"
      ]
    },
    {
      "cell_type": "code",
      "execution_count": 99,
      "metadata": {
        "id": "l5dkR2Id2oiu",
        "colab": {
          "base_uri": "https://localhost:8080/"
        },
        "outputId": "85b19e5a-0bc8-42ad-8937-1a594eda06c0"
      },
      "outputs": [
        {
          "output_type": "execute_result",
          "data": {
            "text/plain": [
              "(1243.173040151596, 1114.5121965408325)"
            ]
          },
          "metadata": {},
          "execution_count": 99
        }
      ],
      "source": [
        "time_approx, time_exact\n"
      ]
    },
    {
      "cell_type": "code",
      "source": [
        "### acqFunc attribute x, stddev: run number = 1\n",
        "\n",
        "acqFuncApprox_exact_1 = acqFuncApprox(exact_1.history)\n",
        "acqFuncExact_exact_1 = acqFuncExact(exact_1.history)\n",
        "\n",
        "e1 = np.std(acqFuncExact_exact_1)\n",
        "a1 = np.std(acqFuncApprox_exact_1)\n",
        "\n",
        "e1, a1\n"
      ],
      "metadata": {
        "colab": {
          "base_uri": "https://localhost:8080/"
        },
        "id": "uwxv4dmfGsLr",
        "outputId": "d6dcc586-1cae-4a7a-fcde-f38c7bf60206"
      },
      "execution_count": 100,
      "outputs": [
        {
          "output_type": "execute_result",
          "data": {
            "text/plain": [
              "(0.2045115497618103, 0.26826983209341515)"
            ]
          },
          "metadata": {},
          "execution_count": 100
        }
      ]
    },
    {
      "cell_type": "code",
      "source": [
        "### acqFunc attribute x, stddev: run number = 2\n",
        "\n",
        "acqFuncApprox_exact_2 = acqFuncApprox(exact_2.history)\n",
        "acqFuncExact_exact_2 = acqFuncExact(exact_2.history)\n",
        "\n",
        "e2 = np.std(acqFuncExact_exact_2)\n",
        "a2 = np.std(acqFuncApprox_exact_2)\n",
        "\n",
        "e2, a2\n"
      ],
      "metadata": {
        "colab": {
          "base_uri": "https://localhost:8080/"
        },
        "id": "0YSV00_pGsXe",
        "outputId": "980d3a4d-20b2-4706-d613-de53eb5ae73f"
      },
      "execution_count": 101,
      "outputs": [
        {
          "output_type": "execute_result",
          "data": {
            "text/plain": [
              "(0.28716007843416247, 0.2191302591509074)"
            ]
          },
          "metadata": {},
          "execution_count": 101
        }
      ]
    },
    {
      "cell_type": "code",
      "source": [
        "### acqFunc attribute x, stddev: run number = 3\n",
        "\n",
        "acqFuncApprox_exact_3 = acqFuncApprox(exact_3.history)\n",
        "acqFuncExact_exact_3 = acqFuncExact(exact_3.history)\n",
        "\n",
        "e3 = np.std(acqFuncExact_exact_3)\n",
        "a3 = np.std(acqFuncApprox_exact_3)\n",
        "\n",
        "e3, a3\n"
      ],
      "metadata": {
        "colab": {
          "base_uri": "https://localhost:8080/"
        },
        "id": "HHVmsd2UGsjT",
        "outputId": "272ad875-3e64-4824-eff5-41bf564cdd75"
      },
      "execution_count": 102,
      "outputs": [
        {
          "output_type": "execute_result",
          "data": {
            "text/plain": [
              "(0.16104439015563735, 0.3233588135658804)"
            ]
          },
          "metadata": {},
          "execution_count": 102
        }
      ]
    },
    {
      "cell_type": "code",
      "source": [
        "### acqFunc attribute x, stddev: run number = 4\n",
        "\n",
        "acqFuncApprox_exact_4 = acqFuncApprox(exact_4.history)\n",
        "acqFuncExact_exact_4 = acqFuncExact(exact_4.history)\n",
        "\n",
        "e4 = np.std(acqFuncExact_exact_4)\n",
        "a4 = np.std(acqFuncApprox_exact_4)\n",
        "\n",
        "e4, a4\n"
      ],
      "metadata": {
        "colab": {
          "base_uri": "https://localhost:8080/"
        },
        "id": "r7O19S2eGsu7",
        "outputId": "e3eacd5f-dee9-4664-d2ac-b74694e9eb79"
      },
      "execution_count": 103,
      "outputs": [
        {
          "output_type": "execute_result",
          "data": {
            "text/plain": [
              "(0.16709729471347745, 0.2399988280946614)"
            ]
          },
          "metadata": {},
          "execution_count": 103
        }
      ]
    },
    {
      "cell_type": "code",
      "source": [
        "### acqFunc attribute x, stddev: run number = 5\n",
        "\n",
        "acqFuncApprox_exact_5 = acqFuncApprox(exact_5.history)\n",
        "acqFuncExact_exact_5 = acqFuncExact(exact_5.history)\n",
        "\n",
        "e5 = np.std(acqFuncExact_exact_5)\n",
        "a5 = np.std(acqFuncApprox_exact_5)\n",
        "\n",
        "e5, a5\n"
      ],
      "metadata": {
        "colab": {
          "base_uri": "https://localhost:8080/"
        },
        "id": "sdb9o6NuGs5m",
        "outputId": "34f5cd54-4b74-4ef9-ae1c-edb53adad55e"
      },
      "execution_count": 104,
      "outputs": [
        {
          "output_type": "execute_result",
          "data": {
            "text/plain": [
              "(0.23965200862801744, 0.2654032954646201)"
            ]
          },
          "metadata": {},
          "execution_count": 104
        }
      ]
    },
    {
      "cell_type": "code",
      "source": [
        "### acqFunc attribute x, stddev: run number = 6\n",
        "\n",
        "acqFuncApprox_exact_6 = acqFuncApprox(exact_6.history)\n",
        "acqFuncExact_exact_6 = acqFuncExact(exact_6.history)\n",
        "\n",
        "e6 = np.std(acqFuncExact_exact_6)\n",
        "a6 = np.std(acqFuncApprox_exact_6)\n",
        "\n",
        "e6, a6\n"
      ],
      "metadata": {
        "colab": {
          "base_uri": "https://localhost:8080/"
        },
        "id": "COQl7LZ8GtE0",
        "outputId": "3ab10023-36c6-4a65-833f-2fb799630413"
      },
      "execution_count": 105,
      "outputs": [
        {
          "output_type": "execute_result",
          "data": {
            "text/plain": [
              "(0.26420056509358486, 0.31777886965654945)"
            ]
          },
          "metadata": {},
          "execution_count": 105
        }
      ]
    },
    {
      "cell_type": "code",
      "source": [
        "### acqFunc attribute x, stddev: run number = 7\n",
        "\n",
        "acqFuncApprox_exact_7 = acqFuncApprox(exact_7.history)\n",
        "acqFuncExact_exact_7 = acqFuncExact(exact_7.history)\n",
        "\n",
        "e7 = np.std(acqFuncExact_exact_7)\n",
        "a7 = np.std(acqFuncApprox_exact_7)\n",
        "\n",
        "e7, a7\n"
      ],
      "metadata": {
        "colab": {
          "base_uri": "https://localhost:8080/"
        },
        "id": "2gy9EtTzGtP7",
        "outputId": "6117a169-c8c7-4ec9-adff-64b09861c590"
      },
      "execution_count": 106,
      "outputs": [
        {
          "output_type": "execute_result",
          "data": {
            "text/plain": [
              "(0.18324962546334442, 0.24345585245823406)"
            ]
          },
          "metadata": {},
          "execution_count": 106
        }
      ]
    },
    {
      "cell_type": "code",
      "source": [
        "### acqFunc attribute x, stddev: run number = 8\n",
        "\n",
        "acqFuncApprox_exact_8 = acqFuncApprox(exact_8.history)\n",
        "acqFuncExact_exact_8 = acqFuncExact(exact_8.history)\n",
        "\n",
        "e8 = np.std(acqFuncExact_exact_8)\n",
        "a8 = np.std(acqFuncApprox_exact_8)\n",
        "\n",
        "e8, a8\n"
      ],
      "metadata": {
        "colab": {
          "base_uri": "https://localhost:8080/"
        },
        "id": "S7mn0qoMGtbM",
        "outputId": "b30f95fa-11b5-4d2b-aa4c-f509f248a49b"
      },
      "execution_count": 107,
      "outputs": [
        {
          "output_type": "execute_result",
          "data": {
            "text/plain": [
              "(0.26706009488670196, 0.30030964446032377)"
            ]
          },
          "metadata": {},
          "execution_count": 107
        }
      ]
    },
    {
      "cell_type": "code",
      "source": [
        "### acqFunc attribute x, stddev: run number = 9\n",
        "\n",
        "acqFuncApprox_exact_9 = acqFuncApprox(exact_9.history)\n",
        "acqFuncExact_exact_9 = acqFuncExact(exact_9.history)\n",
        "\n",
        "e9 = np.std(acqFuncExact_exact_9)\n",
        "a9 = np.std(acqFuncApprox_exact_9)\n",
        "\n",
        "e9, a9\n"
      ],
      "metadata": {
        "colab": {
          "base_uri": "https://localhost:8080/"
        },
        "id": "BhljmkNxGtms",
        "outputId": "93a3c671-baa4-42d5-82db-d2edb596b873"
      },
      "execution_count": 108,
      "outputs": [
        {
          "output_type": "execute_result",
          "data": {
            "text/plain": [
              "(0.16964233049433972, 0.32741220577319013)"
            ]
          },
          "metadata": {},
          "execution_count": 108
        }
      ]
    },
    {
      "cell_type": "code",
      "source": [
        "### acqFunc attribute x, stddev: run number = 10\n",
        "\n",
        "acqFuncApprox_exact_10 = acqFuncApprox(exact_10.history)\n",
        "acqFuncExact_exact_10 = acqFuncExact(exact_10.history)\n",
        "\n",
        "e10 = np.std(acqFuncExact_exact_10)\n",
        "a10 = np.std(acqFuncApprox_exact_10)\n",
        "\n",
        "e10, a10\n"
      ],
      "metadata": {
        "colab": {
          "base_uri": "https://localhost:8080/"
        },
        "id": "W5GZo6k3Gtx8",
        "outputId": "0bb6e6e7-e7d3-4b71-eb9d-61704e1b181c"
      },
      "execution_count": 109,
      "outputs": [
        {
          "output_type": "execute_result",
          "data": {
            "text/plain": [
              "(0.1484096560880742, 0.3020837278446956)"
            ]
          },
          "metadata": {},
          "execution_count": 109
        }
      ]
    },
    {
      "cell_type": "code",
      "source": [
        "### acqFunc attribute x, stddev: run number = 11\n",
        "\n",
        "acqFuncApprox_exact_11 = acqFuncApprox(exact_11.history)\n",
        "acqFuncExact_exact_11 = acqFuncExact(exact_11.history)\n",
        "\n",
        "e11 = np.std(acqFuncExact_exact_11)\n",
        "a11 = np.std(acqFuncApprox_exact_11)\n",
        "\n",
        "e11, a11\n"
      ],
      "metadata": {
        "colab": {
          "base_uri": "https://localhost:8080/"
        },
        "id": "isKNhDk5Gt9D",
        "outputId": "be66ea08-914e-4067-b701-29660ce9b5ee"
      },
      "execution_count": 110,
      "outputs": [
        {
          "output_type": "execute_result",
          "data": {
            "text/plain": [
              "(0.27118985260044004, 0.3027955235121615)"
            ]
          },
          "metadata": {},
          "execution_count": 110
        }
      ]
    },
    {
      "cell_type": "code",
      "source": [
        "### acqFunc attribute x, stddev: run number = 12\n",
        "\n",
        "acqFuncApprox_exact_12 = acqFuncApprox(exact_12.history)\n",
        "acqFuncExact_exact_12 = acqFuncExact(exact_12.history)\n",
        "\n",
        "e12 = np.std(acqFuncExact_exact_12)\n",
        "a12 = np.std(acqFuncApprox_exact_12)\n",
        "\n",
        "e12, a12\n"
      ],
      "metadata": {
        "colab": {
          "base_uri": "https://localhost:8080/"
        },
        "id": "8ts-wrSuGuIm",
        "outputId": "60cf0645-5cc9-4646-bfa5-33f665c78589"
      },
      "execution_count": 111,
      "outputs": [
        {
          "output_type": "execute_result",
          "data": {
            "text/plain": [
              "(0.29733239341242573, 0.2976632362912976)"
            ]
          },
          "metadata": {},
          "execution_count": 111
        }
      ]
    },
    {
      "cell_type": "code",
      "source": [
        "### acqFunc attribute x, stddev: run number = 13\n",
        "\n",
        "acqFuncApprox_exact_13 = acqFuncApprox(exact_13.history)\n",
        "acqFuncExact_exact_13 = acqFuncExact(exact_13.history)\n",
        "\n",
        "e13 = np.std(acqFuncExact_exact_13)\n",
        "a13 = np.std(acqFuncApprox_exact_13)\n",
        "\n",
        "e13, a13\n"
      ],
      "metadata": {
        "colab": {
          "base_uri": "https://localhost:8080/"
        },
        "id": "n0drhEe3GuUL",
        "outputId": "07ae99d8-b4fb-4868-9ee1-cfc14a135ec1"
      },
      "execution_count": 112,
      "outputs": [
        {
          "output_type": "execute_result",
          "data": {
            "text/plain": [
              "(0.28429356873709627, 0.377998518470235)"
            ]
          },
          "metadata": {},
          "execution_count": 112
        }
      ]
    },
    {
      "cell_type": "code",
      "source": [
        "### acqFunc attribute x, stddev: run number = 14\n",
        "\n",
        "acqFuncApprox_exact_14 = acqFuncApprox(exact_14.history)\n",
        "acqFuncExact_exact_14 = acqFuncExact(exact_14.history)\n",
        "\n",
        "e14 = np.std(acqFuncExact_exact_14)\n",
        "a14 = np.std(acqFuncApprox_exact_14)\n",
        "\n",
        "e14, a14\n"
      ],
      "metadata": {
        "colab": {
          "base_uri": "https://localhost:8080/"
        },
        "id": "R0W3MZaVGues",
        "outputId": "67a874dc-738c-422f-c5fb-2ef37234aac5"
      },
      "execution_count": 113,
      "outputs": [
        {
          "output_type": "execute_result",
          "data": {
            "text/plain": [
              "(0.279439734346847, 0.28910152666864775)"
            ]
          },
          "metadata": {},
          "execution_count": 113
        }
      ]
    },
    {
      "cell_type": "code",
      "source": [
        "### acqFunc attribute x, stddev: run number = 15\n",
        "\n",
        "acqFuncApprox_exact_15 = acqFuncApprox(exact_15.history)\n",
        "acqFuncExact_exact_15 = acqFuncExact(exact_15.history)\n",
        "\n",
        "e15 = np.std(acqFuncExact_exact_15)\n",
        "a15 = np.std(acqFuncApprox_exact_15)\n",
        "\n",
        "e15, a15\n"
      ],
      "metadata": {
        "colab": {
          "base_uri": "https://localhost:8080/"
        },
        "id": "DoXdDFHoGup-",
        "outputId": "e48963c7-ed67-46e4-f80b-bdea3deaaa49"
      },
      "execution_count": 114,
      "outputs": [
        {
          "output_type": "execute_result",
          "data": {
            "text/plain": [
              "(0.2939101596940408, 0.2796931053445752)"
            ]
          },
          "metadata": {},
          "execution_count": 114
        }
      ]
    },
    {
      "cell_type": "code",
      "source": [
        "### acqFunc attribute x, stddev: run number = 16\n",
        "\n",
        "acqFuncApprox_exact_16 = acqFuncApprox(exact_16.history)\n",
        "acqFuncExact_exact_16 = acqFuncExact(exact_16.history)\n",
        "\n",
        "e16 = np.std(acqFuncExact_exact_16)\n",
        "a16 = np.std(acqFuncApprox_exact_16)\n",
        "\n",
        "e16, a16\n"
      ],
      "metadata": {
        "colab": {
          "base_uri": "https://localhost:8080/"
        },
        "id": "K_wAeqSoGu2j",
        "outputId": "06a68f56-2528-40c3-b6cf-bdb04407f922"
      },
      "execution_count": 115,
      "outputs": [
        {
          "output_type": "execute_result",
          "data": {
            "text/plain": [
              "(0.23336152981828287, 0.30806845996044835)"
            ]
          },
          "metadata": {},
          "execution_count": 115
        }
      ]
    },
    {
      "cell_type": "code",
      "source": [
        "### acqFunc attribute x, stddev: run number = 17\n",
        "\n",
        "acqFuncApprox_exact_17 = acqFuncApprox(exact_17.history)\n",
        "acqFuncExact_exact_17 = acqFuncExact(exact_17.history)\n",
        "\n",
        "e17 = np.std(acqFuncExact_exact_17)\n",
        "a17 = np.std(acqFuncApprox_exact_17)\n",
        "\n",
        "e17, a17\n"
      ],
      "metadata": {
        "colab": {
          "base_uri": "https://localhost:8080/"
        },
        "id": "n6zy78fjGvBT",
        "outputId": "3aa09be2-7366-4acf-a05a-8b41f82c39bf"
      },
      "execution_count": 116,
      "outputs": [
        {
          "output_type": "execute_result",
          "data": {
            "text/plain": [
              "(0.19928739977668034, 0.3006161160907143)"
            ]
          },
          "metadata": {},
          "execution_count": 116
        }
      ]
    },
    {
      "cell_type": "code",
      "source": [
        "### acqFunc attribute x, stddev: run number = 18\n",
        "\n",
        "acqFuncApprox_exact_18 = acqFuncApprox(exact_18.history)\n",
        "acqFuncExact_exact_18 = acqFuncExact(exact_18.history)\n",
        "\n",
        "e18 = np.std(acqFuncExact_exact_18)\n",
        "a18 = np.std(acqFuncApprox_exact_18)\n",
        "\n",
        "e18, a18\n"
      ],
      "metadata": {
        "colab": {
          "base_uri": "https://localhost:8080/"
        },
        "id": "s_6_2K4iGvM-",
        "outputId": "ab9c52c1-b0c9-428e-a7fc-69cdfde8ecac"
      },
      "execution_count": 117,
      "outputs": [
        {
          "output_type": "execute_result",
          "data": {
            "text/plain": [
              "(0.23126652851253537, 0.3000407812048109)"
            ]
          },
          "metadata": {},
          "execution_count": 117
        }
      ]
    },
    {
      "cell_type": "code",
      "source": [
        "### acqFunc attribute x, stddev: run number = 19\n",
        "\n",
        "acqFuncApprox_exact_19 = acqFuncApprox(exact_19.history)\n",
        "acqFuncExact_exact_19 = acqFuncExact(exact_19.history)\n",
        "\n",
        "e19 = np.std(acqFuncExact_exact_19)\n",
        "a19 = np.std(acqFuncApprox_exact_19)\n",
        "\n",
        "e19, a19\n"
      ],
      "metadata": {
        "colab": {
          "base_uri": "https://localhost:8080/"
        },
        "id": "o8oO8pdBGvYk",
        "outputId": "680138c8-5e3d-4b28-bee9-b4ac3def6222"
      },
      "execution_count": 118,
      "outputs": [
        {
          "output_type": "execute_result",
          "data": {
            "text/plain": [
              "(0.21705398532046158, 0.3464732865243684)"
            ]
          },
          "metadata": {},
          "execution_count": 118
        }
      ]
    },
    {
      "cell_type": "code",
      "source": [
        "### acqFunc attribute x, stddev: run number = 20\n",
        "\n",
        "acqFuncApprox_exact_20 = acqFuncApprox(exact_20.history)\n",
        "acqFuncExact_exact_20 = acqFuncExact(exact_20.history)\n",
        "\n",
        "e20 = np.std(acqFuncExact_exact_20)\n",
        "a20 = np.std(acqFuncApprox_exact_20)\n",
        "\n",
        "e20, a20\n"
      ],
      "metadata": {
        "colab": {
          "base_uri": "https://localhost:8080/"
        },
        "id": "b2w8oLc0IMzU",
        "outputId": "6252b635-6e47-4721-dcc1-52002780d232"
      },
      "execution_count": 119,
      "outputs": [
        {
          "output_type": "execute_result",
          "data": {
            "text/plain": [
              "(0.25028966769884287, 0.28304256806264627)"
            ]
          },
          "metadata": {},
          "execution_count": 119
        }
      ]
    },
    {
      "cell_type": "code",
      "source": [
        "### Summarize arrays: \n",
        "\n",
        "exact_stddev = np.sort([e1,e2,e3,e4,e5,e6,e7,e8,e9,e10,e11,e12,e13,e14,e15,e16,e17,e18,e19,e20])\n",
        "approx_stddev = np.sort([a1,a2,a3,a4,a5,a6,a7,a8,a9,a10,a11,a12,a13,a14,a15,a16,a17,a18,a19,a20])\n",
        "\n",
        "np.mean(exact_stddev), np.mean(approx_stddev)\n"
      ],
      "metadata": {
        "colab": {
          "base_uri": "https://localhost:8080/"
        },
        "id": "qAZs3yxMIZul",
        "outputId": "fa0d0626-836b-4203-c794-b77077f7b3de"
      },
      "execution_count": 120,
      "outputs": [
        {
          "output_type": "execute_result",
          "data": {
            "text/plain": [
              "(0.23247262068184016, 0.2946347225346192)"
            ]
          },
          "metadata": {},
          "execution_count": 120
        }
      ]
    },
    {
      "cell_type": "code",
      "source": [
        "### Visualise!\n",
        "\n",
        "title = func\n",
        "plt.figure()\n",
        "\n",
        "plt.plot(approx_stddev, color = 'Green', ls='--', label='Average $\\sigma$, attribute $\\mathbf{x}$: Approx STP ERM gradients')\n",
        "plt.plot(exact_stddev, color = 'Blue', ls='-', label='Average $\\sigma$, attribute $\\mathbf{x}$: Exact STP dERM gradients')\n",
        "\n",
        "plt.title(title, weight = 'bold')\n",
        "plt.xlabel('Experiment(s)', weight = 'bold')\n",
        "plt.ylabel('STP ERM: Average $\\sigma$, attribute $\\mathbf{x}$', weight = 'bold') \n",
        "plt.legend(loc=0) # add plot legend\n",
        "\n",
        "### Make the x-ticks integers, not floats:\n",
        "count = len(xstar)\n",
        "plt.xticks(np.arange(count), np.arange(1, count))\n",
        "plt.show() #visualize!\n"
      ],
      "metadata": {
        "colab": {
          "base_uri": "https://localhost:8080/",
          "height": 295
        },
        "id": "e_kpqYcMIZxu",
        "outputId": "eaed9688-c966-4ed0-f4bd-da89a095e93a"
      },
      "execution_count": 121,
      "outputs": [
        {
          "output_type": "display_data",
          "data": {
            "text/plain": [
              "<Figure size 432x288 with 1 Axes>"
            ],
            "image/png": "[encoded data removed]"
          },
          "metadata": {
            "needs_background": "light"
          }
        }
      ]
    },
    {
      "cell_type": "code",
      "source": [],
      "metadata": {
        "id": "LToGd4vZIZ3I"
      },
      "execution_count": 121,
      "outputs": []
    }
  ],
  "metadata": {
    "colab": {
      "collapsed_sections": [],
      "provenance": []
    },
    "kernelspec": {
      "display_name": "Python 3",
      "name": "python3"
    },
    "language_info": {
      "name": "python"
    }
  },
  "nbformat": 4,
  "nbformat_minor": 0
}