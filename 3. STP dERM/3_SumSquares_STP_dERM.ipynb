{
  "cells": [
    {
      "cell_type": "markdown",
      "metadata": {
        "id": "Dqn4dFx7Z2Ir"
      },
      "source": [
        "\n",
        "SumSquares: 2D\n"
      ]
    },
    {
      "cell_type": "code",
      "execution_count": 1,
      "metadata": {
        "colab": {
          "base_uri": "https://localhost:8080/"
        },
        "id": "MJTM_GZZZb5x",
        "outputId": "d9971c27-9254-4fec-d1a5-9abd27411fc9"
      },
      "outputs": [
        {
          "output_type": "stream",
          "name": "stdout",
          "text": [
            "Looking in indexes: https://pypi.org/simple, https://us-python.pkg.dev/colab-wheels/public/simple/\n",
            "Collecting pyGPGO\n",
            "  Downloading pyGPGO-0.5.1.tar.gz (14 kB)\n",
            "Requirement already satisfied: numpy in /usr/local/lib/python3.7/dist-packages (from pyGPGO) (1.21.6)\n",
            "Requirement already satisfied: mkl in /usr/local/lib/python3.7/dist-packages (from pyGPGO) (2019.0)\n",
            "Requirement already satisfied: scipy in /usr/local/lib/python3.7/dist-packages (from pyGPGO) (1.7.3)\n",
            "Requirement already satisfied: joblib in /usr/local/lib/python3.7/dist-packages (from pyGPGO) (1.1.0)\n",
            "Requirement already satisfied: scikit-learn in /usr/local/lib/python3.7/dist-packages (from pyGPGO) (1.0.2)\n",
            "Collecting Theano-PyMC\n",
            "  Downloading Theano-PyMC-1.1.2.tar.gz (1.8 MB)\n",
            "\u001b[K     |████████████████████████████████| 1.8 MB 5.2 MB/s \n",
            "\u001b[?25hCollecting pyMC3\n",
            "  Downloading pymc3-3.11.5-py3-none-any.whl (872 kB)\n",
            "\u001b[K     |████████████████████████████████| 872 kB 41.7 MB/s \n",
            "\u001b[?25hRequirement already satisfied: intel-openmp in /usr/local/lib/python3.7/dist-packages (from mkl->pyGPGO) (2022.1.0)\n",
            "Requirement already satisfied: arviz>=0.11.0 in /usr/local/lib/python3.7/dist-packages (from pyMC3->pyGPGO) (0.12.1)\n",
            "Collecting semver>=2.13.0\n",
            "  Downloading semver-2.13.0-py2.py3-none-any.whl (12 kB)\n",
            "Requirement already satisfied: cachetools>=4.2.1 in /usr/local/lib/python3.7/dist-packages (from pyMC3->pyGPGO) (4.2.4)\n",
            "Requirement already satisfied: fastprogress>=0.2.0 in /usr/local/lib/python3.7/dist-packages (from pyMC3->pyGPGO) (1.0.3)\n",
            "Requirement already satisfied: typing-extensions>=3.7.4 in /usr/local/lib/python3.7/dist-packages (from pyMC3->pyGPGO) (4.1.1)\n",
            "Collecting deprecat\n",
            "  Downloading deprecat-2.1.1-py2.py3-none-any.whl (9.8 kB)\n",
            "Requirement already satisfied: pandas>=0.24.0 in /usr/local/lib/python3.7/dist-packages (from pyMC3->pyGPGO) (1.3.5)\n",
            "Requirement already satisfied: patsy>=0.5.1 in /usr/local/lib/python3.7/dist-packages (from pyMC3->pyGPGO) (0.5.2)\n",
            "Requirement already satisfied: dill in /usr/local/lib/python3.7/dist-packages (from pyMC3->pyGPGO) (0.3.5.1)\n",
            "Requirement already satisfied: filelock in /usr/local/lib/python3.7/dist-packages (from Theano-PyMC->pyGPGO) (3.8.0)\n",
            "Requirement already satisfied: xarray-einstats>=0.2 in /usr/local/lib/python3.7/dist-packages (from arviz>=0.11.0->pyMC3->pyGPGO) (0.2.2)\n",
            "Requirement already satisfied: xarray>=0.16.1 in /usr/local/lib/python3.7/dist-packages (from arviz>=0.11.0->pyMC3->pyGPGO) (0.20.2)\n",
            "Requirement already satisfied: netcdf4 in /usr/local/lib/python3.7/dist-packages (from arviz>=0.11.0->pyMC3->pyGPGO) (1.6.0)\n",
            "Requirement already satisfied: packaging in /usr/local/lib/python3.7/dist-packages (from arviz>=0.11.0->pyMC3->pyGPGO) (21.3)\n",
            "Requirement already satisfied: setuptools>=38.4 in /usr/local/lib/python3.7/dist-packages (from arviz>=0.11.0->pyMC3->pyGPGO) (57.4.0)\n",
            "Requirement already satisfied: matplotlib>=3.0 in /usr/local/lib/python3.7/dist-packages (from arviz>=0.11.0->pyMC3->pyGPGO) (3.2.2)\n",
            "Requirement already satisfied: cycler>=0.10 in /usr/local/lib/python3.7/dist-packages (from matplotlib>=3.0->arviz>=0.11.0->pyMC3->pyGPGO) (0.11.0)\n",
            "Requirement already satisfied: python-dateutil>=2.1 in /usr/local/lib/python3.7/dist-packages (from matplotlib>=3.0->arviz>=0.11.0->pyMC3->pyGPGO) (2.8.2)\n",
            "Requirement already satisfied: kiwisolver>=1.0.1 in /usr/local/lib/python3.7/dist-packages (from matplotlib>=3.0->arviz>=0.11.0->pyMC3->pyGPGO) (1.4.4)\n",
            "Requirement already satisfied: pyparsing!=2.0.4,!=2.1.2,!=2.1.6,>=2.0.1 in /usr/local/lib/python3.7/dist-packages (from matplotlib>=3.0->arviz>=0.11.0->pyMC3->pyGPGO) (3.0.9)\n",
            "Requirement already satisfied: pytz>=2017.3 in /usr/local/lib/python3.7/dist-packages (from pandas>=0.24.0->pyMC3->pyGPGO) (2022.2.1)\n",
            "Requirement already satisfied: six in /usr/local/lib/python3.7/dist-packages (from patsy>=0.5.1->pyMC3->pyGPGO) (1.15.0)\n",
            "Requirement already satisfied: importlib-metadata in /usr/local/lib/python3.7/dist-packages (from xarray>=0.16.1->arviz>=0.11.0->pyMC3->pyGPGO) (4.12.0)\n",
            "Requirement already satisfied: wrapt<2,>=1.10 in /usr/local/lib/python3.7/dist-packages (from deprecat->pyMC3->pyGPGO) (1.14.1)\n",
            "Requirement already satisfied: zipp>=0.5 in /usr/local/lib/python3.7/dist-packages (from importlib-metadata->xarray>=0.16.1->arviz>=0.11.0->pyMC3->pyGPGO) (3.8.1)\n",
            "Requirement already satisfied: cftime in /usr/local/lib/python3.7/dist-packages (from netcdf4->arviz>=0.11.0->pyMC3->pyGPGO) (1.6.1)\n",
            "Requirement already satisfied: threadpoolctl>=2.0.0 in /usr/local/lib/python3.7/dist-packages (from scikit-learn->pyGPGO) (3.1.0)\n",
            "Building wheels for collected packages: pyGPGO, Theano-PyMC\n",
            "  Building wheel for pyGPGO (setup.py) ... \u001b[?25l\u001b[?25hdone\n",
            "  Created wheel for pyGPGO: filename=pyGPGO-0.5.1-py3-none-any.whl size=19879 sha256=fc59d60803c147f19e9940c94e9ee89b55d7253e4884974a96a42c568e95e5e8\n",
            "  Stored in directory: /root/.cache/pip/wheels/c8/5d/0b/2160114e2f1b87791c51b66cf07f89831dbb6f49167950316f\n",
            "  Building wheel for Theano-PyMC (setup.py) ... \u001b[?25l\u001b[?25hdone\n",
            "  Created wheel for Theano-PyMC: filename=Theano_PyMC-1.1.2-py3-none-any.whl size=1529963 sha256=149d386e7fd760f4278a68051af8a493be3a9599f853efb286ab4ae6cb503531\n",
            "  Stored in directory: /root/.cache/pip/wheels/f3/af/8c/5dd7553522d74c52a7813806fc7ee1a9caa20a3f7c8fd850d5\n",
            "Successfully built pyGPGO Theano-PyMC\n",
            "Installing collected packages: Theano-PyMC, semver, deprecat, pyMC3, pyGPGO\n",
            "Successfully installed Theano-PyMC-1.1.2 deprecat-2.1.1 pyGPGO-0.5.1 pyMC3-3.11.5 semver-2.13.0\n"
          ]
        }
      ],
      "source": [
        "pip install pyGPGO\n"
      ]
    },
    {
      "cell_type": "code",
      "execution_count": 2,
      "metadata": {
        "id": "ZJSSPbwPaEUB"
      },
      "outputs": [],
      "source": [
        "### 1. Import python modules/packages required:\n",
        "\n",
        "import numpy as np\n",
        "import pandas as pd\n",
        "import scipy as sp\n",
        "import matplotlib.pyplot as plt\n",
        "import warnings\n",
        "import itertools\n",
        "import seaborn as sns\n",
        "import time\n",
        "\n",
        "from pyGPGO.GPGO import GPGO\n",
        "from pyGPGO.surrogates.tStudentProcess import tStudentProcess\n",
        "from pyGPGO.acquisition import Acquisition\n",
        "from pyGPGO.covfunc import squaredExponential\n",
        "from joblib import Parallel, delayed\n",
        "from scipy.linalg import inv\n",
        "from scipy.spatial.distance import cdist\n",
        "from scipy.optimize import minimize\n",
        "from scipy.stats import t\n",
        "from mpl_toolkits.axes_grid1.inset_locator import inset_axes, mark_inset\n",
        "\n",
        "warnings.filterwarnings(\"ignore\", category=RuntimeWarning)\n"
      ]
    },
    {
      "cell_type": "code",
      "execution_count": 3,
      "metadata": {
        "id": "OeYcTUNoaJWa"
      },
      "outputs": [],
      "source": [
        "### Inputs:\n",
        "\n",
        "func = 'SumSquares'\n",
        "n_test = 500\n",
        "eps = 1e-08\n",
        "\n",
        "util = 'ERM'\n",
        "\n",
        "n_init = 5 # random initialisations\n",
        "iters = 20\n",
        "opt = True\n",
        "\n",
        "df = 3"
      ]
    },
    {
      "cell_type": "code",
      "execution_count": 4,
      "metadata": {
        "id": "xpaEOjdzaPMS"
      },
      "outputs": [],
      "source": [
        "### Objective Function - Sum Squares(x) 2-D:\n",
        "\n",
        "def objfunc(x1_training, x2_training):\n",
        "            return  operator * (  1 * x1_training ** 2\n",
        "                            + 2 * x2_training ** 2\n",
        "                            )\n",
        "        \n",
        "# Constraints:\n",
        "lb = -5.12\n",
        "ub = +5.12\n",
        "    \n",
        "# Input array dimension(s):\n",
        "dim = 2\n",
        "\n",
        "# 2-D inputs' parameter bounds:\n",
        "param = {'x1_training': ('cont', [lb, ub]),\n",
        "                 'x2_training': ('cont', [lb, ub])\n",
        "                 }\n",
        "    \n",
        "# True y bounds:\n",
        "y_lb = 0\n",
        "operator = -1 # targets global minimum \n",
        "y_global_orig = y_lb * operator # targets global minimum\n",
        "    \n",
        "# Test data:\n",
        "x1_test = np.linspace(lb, ub, n_test)\n",
        "x2_test = np.linspace(lb, ub, n_test)\n",
        "x_test = np.column_stack((x1_test, x2_test))"
      ]
    },
    {
      "cell_type": "code",
      "execution_count": 5,
      "metadata": {
        "id": "eYpI3Zm4aGxi"
      },
      "outputs": [],
      "source": [
        "n_start_AcqFunc = iters\n",
        "inverse = -1\n"
      ]
    },
    {
      "cell_type": "code",
      "execution_count": 6,
      "metadata": {
        "id": "oO_GUmOoaV0T"
      },
      "outputs": [],
      "source": [
        "### Cumulative Regret Calculators:\n",
        "\n",
        "def min_max_array(x):\n",
        "    new_list = []\n",
        "    for i, num in enumerate(x):\n",
        "            new_list.append(np.min(x[0:i+1]))\n",
        "    return new_list\n",
        "  \n",
        "def acqFuncExact(x):\n",
        "    new_array = []\n",
        "    x = np.array(x) \n",
        "    for i, num in enumerate(x):\n",
        "            new_array = x[:-2][::-3]\n",
        "    return new_array[::-1]\n",
        "\n",
        "def acqFuncApprox(x):\n",
        "    new_array = []\n",
        "    x = np.array(x) \n",
        "    for i, num in enumerate(x):\n",
        "            new_array = x[:-1][::-3]\n",
        "    return new_array[::-1]\n"
      ]
    },
    {
      "cell_type": "code",
      "execution_count": 7,
      "metadata": {
        "id": "kuuJx0IMam9S"
      },
      "outputs": [],
      "source": [
        "### Surrogate derivatives: \n",
        "\n",
        "cov_func = squaredExponential()\n",
        "\n",
        "def kronDelta(X, Xstar):                     # Kronecker's Delta method\n",
        "    return cdist(X, Xstar) < np.finfo(np.float32).eps\n",
        "\n",
        "def se(X, Xstar, sigmaf, l, sigman):         # S.E. kernel method\n",
        "    return sigmaf * np.exp(-0.5 * cdist(X, Xstar) ** 2 / l ** 2) + sigman * kronDelta(X, Xstar)\n",
        "\n",
        "def delta(X, Xstar):                         # Distance between training X and test Xstar vectors\n",
        "    return (X - Xstar)\n",
        "   \n",
        "def der_covmat(X, Xstar, sigmaf, l, sigman): # Covariance matrix derivative terms (i.e. exact, first-order)\n",
        "    nx = len(X)\n",
        "    ny = len(Xstar)\n",
        "    return np.round(np.array([(delta(np.atleast_2d(i), np.atleast_2d(j))[0] * se(np.atleast_2d(i), np.atleast_2d(j), sigmaf, l, sigman)[0]).sum() for (i, j) in itertools.product(X, Xstar)]).reshape(nx, ny), 8)\n",
        "\n",
        "class dtStudentProcess(tStudentProcess):    # Via inheritance, also optimises hyperparameters when opt = TRUE\n",
        "    \n",
        "    def AcqGrad(self, Xstar):               # Method returning exact, first-order derivatives of the STP's posterior mean and standard deviation\n",
        "        Xstar = np.atleast_2d(Xstar)\n",
        "        Kstar = self.covfunc.K(self.X, Xstar).T\n",
        "        dKstar = der_covmat(self.X, Xstar, self.covfunc.sigmaf, self.covfunc.l, self.covfunc.sigman).T\n",
        "        \n",
        "        smd_adj = (self.nu + self.beta1 - 2) / (self.nu + self.n1 - 2)\n",
        "\n",
        "        alpha = np.dot(np.linalg.inv(self.K11 + (self.covfunc.sigman**2) * np.eye(len(self.X))), self.y)\n",
        "        alpha_Kstar = np.dot(np.linalg.inv(self.K11 + (self.covfunc.sigman**2) * np.eye(len(self.X))), Kstar.T)      \n",
        "        \n",
        "        dm = np.dot(dKstar, alpha)\n",
        "        ds = -2 * smd_adj * np.dot(dKstar, alpha_Kstar)\n",
        "        \n",
        "        return dm, ds \n",
        "        "
      ]
    },
    {
      "cell_type": "code",
      "execution_count": 8,
      "metadata": {
        "id": "_Dc3YVHVaXz7"
      },
      "outputs": [],
      "source": [
        "### Add exact acquisition function gradient as attribute:\n",
        "\n",
        "class Acquisition_grad(Acquisition):    \n",
        "    def __init__(self, mode, eps=eps, **params):\n",
        "        \n",
        "        self.params = params\n",
        "        self.eps = eps\n",
        "\n",
        "        mode_dict = {\n",
        "            'ERM': self.ERM\n",
        "        }\n",
        "\n",
        "        self.f = mode_dict[mode]\n",
        "    \n",
        "    def ERM(self, tau, mean, std, ds, dm, nu=3.0):\n",
        "        gamma = (mean - y_global_orig - self.eps) / (std + self.eps)\n",
        "        gamma_h = (mean - tau) / (std + self.eps)\n",
        "        dsdx = ds / (2 * (std + self.eps))\n",
        "        dmdx = (dm - gamma * dsdx) / (std + self.eps)\n",
        "        \n",
        "        f = (std + self.eps) * (gamma * t.cdf(gamma, df=nu) + (nu + gamma ** 2)/(nu - 1) * t.pdf(gamma, df=nu))\n",
        "        df1 = f / (std + self.eps) * dsdx \n",
        "        df2 = (std + self.eps) * (t.cdf(gamma, df=nu) * dmdx + gamma * t.pdf(gamma, df=nu) \\\n",
        "            * (1 - (nu + gamma ** 2)/(nu - 1) + 2/(nu - 1) * dmdx))\n",
        "        df = (df1 + df2)[0]\n",
        "        df_arr = []\n",
        "\n",
        "        for j in range(0, dim):\n",
        "          df_arr.append(df)\n",
        "        return f, np.asarray(df_arr).transpose()\n",
        "        \n",
        "    def d_eval(self, tau, mean, std, ds, dm, nu=3.0):\n",
        "    \n",
        "        return self.f(tau, mean, std, ds, dm, nu=3.0, **self.params)\n",
        "        "
      ]
    },
    {
      "cell_type": "code",
      "execution_count": 9,
      "metadata": {
        "id": "PITEQC8YSl7i"
      },
      "outputs": [],
      "source": [
        "## GPGO_multi: \n",
        "\n",
        "class GPGO_multi(GPGO):\n",
        "    n_start = n_start_AcqFunc\n",
        "\n",
        "    def __init__(self, surrogate, acquisition, f, parameter_dict, n_jobs=1):\n",
        "        self.GP = surrogate\n",
        "        self.A = acquisition\n",
        "        self.f = f\n",
        "        self.parameters = parameter_dict\n",
        "        self.n_jobs = n_jobs\n",
        "\n",
        "        self.parameter_key = list(parameter_dict.keys())\n",
        "        self.parameter_value = list(parameter_dict.values())\n",
        "        self.parameter_type = [p[0] for p in self.parameter_value]\n",
        "        self.parameter_range = [p[1] for p in self.parameter_value]\n",
        "\n",
        "        self.history = []\n",
        "        self.header =   'Evaluation \\t Proposed point \\t  Current eval. \\t  Best eval. \\t        Exact ERM: StdDev. x \\t Approx ERM: StdDev. x '\n",
        "        self.template = '{:3}\\t {}\\t {:3}\\t {:3}\\t {:3}\\t {:3}'\n",
        " \n",
        "    def acqfuncExact(self, xnew, n_start=n_start_AcqFunc):\n",
        "        new_mean, new_var = self.GP.predict(xnew, return_std=True)\n",
        "        new_std = np.sqrt(new_var + eps)\n",
        "        dm, ds = self.GP.AcqGrad(xnew)\n",
        "        f, df = self.A.d_eval(self.tau, new_mean, new_std, ds=ds, dm=dm, nu=3.0)\n",
        "\n",
        "        return -f, -df\n",
        "   \n",
        "    def acqfuncApprox(self, xnew, n_start=n_start_AcqFunc):\n",
        "        new_mean, new_var = self.GP.predict(xnew, return_std=True)\n",
        "        new_std = np.sqrt(new_var + eps)\n",
        "        dm, ds = self.GP.AcqGrad(xnew)\n",
        "        f, df = self.A.d_eval(self.tau, new_mean, new_std, ds=ds, dm=dm, nu=3.0)\n",
        "\n",
        "        return -f\n",
        "   \n",
        "    def _optimizeAcq(self, method='L-BFGS-B', n_start=n_start_AcqFunc):\n",
        "        \n",
        "        start_points_dict = [self._sampleParam() for i in range(n_start)]\n",
        "        start_points_arr = np.array([list(s.values())\n",
        "                                     for s in start_points_dict])\n",
        "        x_best = np.empty((n_start, len(self.parameter_key)))\n",
        "        f_best = np.empty((n_start,))\n",
        "        opt = Parallel(n_jobs=self.n_jobs)(delayed(minimize)(self.acqfuncApprox,\n",
        "                                                                 x0=start_point,\n",
        "                                                                 method=method,\n",
        "                                                                 jac = False,\n",
        "                                                                 bounds=self.parameter_range) for start_point in\n",
        "                                               start_points_arr)\n",
        "        x_best = np.array([res.x for res in opt])\n",
        "        f_best = np.array([np.atleast_1d(res.fun)[0] for res in opt])\n",
        "        f_best_min = min(f_best)\n",
        "\n",
        "        self.x_best = x_best\n",
        "        self.f_best = f_best\n",
        "        self.f_best_min = f_best_min\n",
        "        self.x_best_std = np.std(x_best)\n",
        "        self.best = x_best[np.argmin(f_best)]\n",
        "        self.start_points_arr = start_points_arr        \n",
        "        self.history.append(self.x_best_std)\n",
        "\n",
        "        x_best_exact = np.empty((n_start, len(self.parameter_key)))\n",
        "        f_best_exact = np.empty((n_start,))\n",
        "        opt_exact = Parallel(n_jobs=self.n_jobs)(delayed(minimize)(self.acqfuncExact,\n",
        "                                                                 x0=start_point,\n",
        "                                                                 method=method,\n",
        "                                                                 jac = True,\n",
        "                                                                 bounds=self.parameter_range) for start_point in\n",
        "                                               start_points_arr)\n",
        "        x_best_exact = np.array([res.x for res in opt_exact])\n",
        "        f_best_exact = np.array([np.atleast_1d(res.fun)[0] for res in opt_exact])\n",
        "        f_best_min_exact = min(f_best_exact)\n",
        "\n",
        "        self.x_best_exact = x_best_exact\n",
        "        self.f_best_exact = f_best_exact\n",
        "        self.f_best_min_exact = f_best_min_exact\n",
        "        self.x_best_std_exact = np.std(x_best_exact)\n",
        "        self.best_exact = x_best_exact[np.argmin(f_best_exact)]\n",
        "        self.start_points_arr = start_points_arr\n",
        "        self.history.append(self.x_best_std_exact)\n",
        "\n",
        "    def _printInit(self):\n",
        "        print(self.header)\n",
        "        for init_eval in range(self.init_evals):\n",
        "            print(self.template.format('init', self.GP.X[init_eval], inverse * self.GP.y[init_eval], inverse * self.tau, '', ''))\n",
        "      \n",
        "    def _printCurrent(self):\n",
        "        OKGREEN = '\\033[92m'\n",
        "        ENDC = '\\033[0m'\n",
        "        BOLD = '\\033[1m'\n",
        "        eval = str(len(self.GP.y) - self.init_evals)\n",
        "        proposed = str(self.best)\n",
        "        curr_eval = str(inverse * self.GP.y[-1])\n",
        "        curr_best = str(inverse * self.tau)\n",
        "        min_acqfunc = str(self.f_best_min)\n",
        "        min_acqfunc_exact = str(self.f_best_min_exact)\n",
        "        x_best_std = str(self.x_best_std)\n",
        "        x_best_std_exact = str(self.x_best_std_exact)\n",
        "        if float(curr_eval) <= float(curr_best):\n",
        "            eval = BOLD + OKGREEN + eval + ENDC\n",
        "            proposed = BOLD + OKGREEN + proposed + ENDC\n",
        "            curr_eval = BOLD + OKGREEN + curr_eval + ENDC\n",
        "            curr_best = BOLD + OKGREEN + curr_best + ENDC\n",
        "            x_best_std = BOLD + OKGREEN + x_best_std + ENDC\n",
        "            x_best_std_exact = BOLD + OKGREEN + x_best_std_exact + ENDC\n",
        "        print(self.template.format(eval, proposed, curr_eval, curr_best, x_best_std_exact, x_best_std))\n",
        "        \n",
        "    def run(self, max_iter=10, init_evals=3, resume=False):\n",
        "        \n",
        "        if not resume:\n",
        "            self.init_evals = init_evals\n",
        "            self._firstRun(self.init_evals)\n",
        "            self._printInit()\n",
        "        for iteration in range(max_iter):\n",
        "            self._optimizeAcq()\n",
        "            self.updateGP()\n",
        "            self._printCurrent()\n"
      ]
    },
    {
      "cell_type": "code",
      "execution_count": 10,
      "metadata": {
        "id": "b_B-w81BJxKN"
      },
      "outputs": [],
      "source": [
        "## dGPGO:\n",
        "\n",
        "class dGPGO(GPGO):\n",
        "    n_start = n_start_AcqFunc\n",
        "\n",
        "    def __init__(self, surrogate, acquisition, f, parameter_dict, n_jobs=1):\n",
        "        self.GP = surrogate\n",
        "        self.A = acquisition\n",
        "        self.f = f\n",
        "        self.parameters = parameter_dict\n",
        "        self.n_jobs = n_jobs\n",
        "\n",
        "        self.parameter_key = list(parameter_dict.keys())\n",
        "        self.parameter_value = list(parameter_dict.values())\n",
        "        self.parameter_type = [p[0] for p in self.parameter_value]\n",
        "        self.parameter_range = [p[1] for p in self.parameter_value]\n",
        "\n",
        "        self.history = []\n",
        "        self.header =   'Evaluation \\t Proposed point \\t  Current eval. \\t  Best eval. \\t        Exact ERM: StdDev. x \\t Approx ERM: StdDev. x '\n",
        "        self.template = '{:3}\\t {}\\t {:3}\\t {:3}\\t {:3}\\t {:3}'\n",
        "\n",
        "    def acqfuncExact(self, xnew, n_start=n_start_AcqFunc):\n",
        "        new_mean, new_var = self.GP.predict(xnew, return_std=True)\n",
        "        new_std = np.sqrt(new_var + eps)\n",
        "        dm, ds = self.GP.AcqGrad(xnew)\n",
        "        f, df = self.A.d_eval(self.tau, new_mean, new_std, ds=ds, dm=dm, nu=3.0)\n",
        "\n",
        "        return -f, -df\n",
        "   \n",
        "    def acqfuncApprox(self, xnew, n_start=n_start_AcqFunc):\n",
        "        new_mean, new_var = self.GP.predict(xnew, return_std=True)\n",
        "        new_std = np.sqrt(new_var + eps)\n",
        "        dm, ds = self.GP.AcqGrad(xnew)\n",
        "        f, df = self.A.d_eval(self.tau, new_mean, new_std, ds=ds, dm=dm, nu=3.0)\n",
        "\n",
        "        return -f\n",
        "\n",
        "    def d_optimizeAcq(self, method='L-BFGS-B', n_start=n_start_AcqFunc):\n",
        "        start_points_dict = [self._sampleParam() for i in range(n_start)]\n",
        "        start_points_arr = np.array([list(s.values())\n",
        "                                     for s in start_points_dict])\n",
        "        x_best = np.empty((n_start, len(self.parameter_key)))\n",
        "        f_best = np.empty((n_start,))\n",
        "        opt = Parallel(n_jobs=self.n_jobs)(delayed(minimize)(self.acqfuncExact,\n",
        "                                                                 x0=start_point,\n",
        "                                                                 method=method,\n",
        "                                                                 jac = True,\n",
        "                                                                 bounds=self.parameter_range) for start_point in\n",
        "                                               start_points_arr)\n",
        "        x_best = np.array([res.x for res in opt])\n",
        "        f_best = np.array([np.atleast_1d(res.fun)[0] for res in opt])\n",
        "        f_best_min = min(f_best)\n",
        "\n",
        "        self.x_best = x_best\n",
        "        self.f_best = f_best\n",
        "        self.f_best_min = f_best_min\n",
        "        self.x_best_std = np.std(x_best)\n",
        "        self.best = x_best[np.argmin(f_best)]\n",
        "        self.start_points_arr = start_points_arr\n",
        "        self.history.append(self.x_best_std)\n",
        "\n",
        "        x_best_approx = np.empty((n_start, len(self.parameter_key)))\n",
        "        f_best_approx = np.empty((n_start,))\n",
        "        opt_approx = Parallel(n_jobs=self.n_jobs)(delayed(minimize)(self.acqfuncApprox,\n",
        "                                                                 x0=start_point,\n",
        "                                                                 method=method,\n",
        "                                                                 jac = False,\n",
        "                                                                 bounds=self.parameter_range) for start_point in\n",
        "                                               start_points_arr)\n",
        "        x_best_approx = np.array([res.x for res in opt_approx])\n",
        "        f_best_approx = np.array([np.atleast_1d(res.fun)[0] for res in opt_approx])\n",
        "        f_best_min_approx = min(f_best_approx)\n",
        "\n",
        "        self.x_best_approx = x_best_approx\n",
        "        self.f_best_approx = f_best_approx\n",
        "        self.f_best_min_approx = f_best_min_approx\n",
        "        self.x_best_std_approx = np.std(x_best_approx)\n",
        "        self.best_approx = x_best_approx[np.argmin(f_best_approx)]\n",
        "        self.start_points_arr = start_points_arr\n",
        "        self.history.append(self.x_best_std_approx)\n",
        "    \n",
        "    def _printInit(self):\n",
        "        print(self.header)\n",
        "        for init_eval in range(self.init_evals):\n",
        "            print(self.template.format('init', self.GP.X[init_eval], inverse * self.GP.y[init_eval], inverse * self.tau, '', ''))\n",
        "      \n",
        "    def _printCurrent(self):\n",
        "        OKGREEN = '\\033[92m'\n",
        "        ENDC = '\\033[0m'\n",
        "        BOLD = '\\033[1m'\n",
        "        eval = str(len(self.GP.y) - self.init_evals)\n",
        "        proposed = str(self.best)\n",
        "        curr_eval = str(inverse * self.GP.y[-1])\n",
        "        curr_best = str(inverse * self.tau)\n",
        "        min_acqfunc = str(self.f_best_min)\n",
        "        min_acqfunc_approx = str(self.f_best_min_approx)\n",
        "        x_best_std = str(self.x_best_std)\n",
        "        x_best_std_approx = str(self.x_best_std_approx)\n",
        "        if float(curr_eval) <= float(curr_best):\n",
        "            eval = BOLD + OKGREEN + eval + ENDC\n",
        "            proposed = BOLD + OKGREEN + proposed + ENDC\n",
        "            curr_eval = BOLD + OKGREEN + curr_eval + ENDC\n",
        "            curr_best = BOLD + OKGREEN + curr_best + ENDC\n",
        "            x_best_std = BOLD + OKGREEN + x_best_std + ENDC\n",
        "            x_best_std_approx = BOLD + OKGREEN + x_best_std_approx + ENDC\n",
        "        print(self.template.format(eval, proposed, curr_eval, curr_best, x_best_std, x_best_std_approx))\n",
        "\n",
        "    def run(self, max_iter=10, init_evals=3, resume=False):\n",
        "        \n",
        "        if not resume:\n",
        "            self.init_evals = init_evals\n",
        "            self._firstRun(self.init_evals)\n",
        "            self._printInit()\n",
        "        for iteration in range(max_iter):\n",
        "            self.d_optimizeAcq()\n",
        "            self.updateGP()\n",
        "            self._printCurrent()\n"
      ]
    },
    {
      "cell_type": "code",
      "execution_count": 11,
      "metadata": {
        "id": "qXIKGuXVGEg2"
      },
      "outputs": [],
      "source": [
        "###Reproducible set-seeds:\n",
        "\n",
        "run_num_1 = 1\n",
        "run_num_2 = 2\n",
        "run_num_3 = 3\n",
        "run_num_4 = 4\n",
        "run_num_5 = 5\n",
        "run_num_6 = 6\n",
        "run_num_7 = 7\n",
        "run_num_8 = 8\n",
        "run_num_9 = 9\n",
        "run_num_10 = 10\n",
        "run_num_11 = 11\n",
        "run_num_12 = 12\n",
        "run_num_13 = 13\n",
        "run_num_14 = 14\n",
        "run_num_15 = 15\n",
        "run_num_16 = 16\n",
        "run_num_17 = 17\n",
        "run_num_18 = 18\n",
        "run_num_19 = 19\n",
        "run_num_20 = 20\n"
      ]
    },
    {
      "cell_type": "code",
      "execution_count": 12,
      "metadata": {
        "colab": {
          "base_uri": "https://localhost:8080/"
        },
        "id": "JEhagQmnTVIK",
        "outputId": "0b4d1644-d01e-4a13-99bb-d8c6941ace3e"
      },
      "outputs": [
        {
          "output_type": "execute_result",
          "data": {
            "text/plain": [
              "1662456654.8482263"
            ]
          },
          "metadata": {},
          "execution_count": 12
        }
      ],
      "source": [
        "start_approx = time.time()\n",
        "start_approx\n"
      ]
    },
    {
      "cell_type": "code",
      "execution_count": 13,
      "metadata": {
        "colab": {
          "base_uri": "https://localhost:8080/"
        },
        "id": "aH0YSTXufD1v",
        "outputId": "8b101d68-21c6-44e5-c7da-d4675b1b4253"
      },
      "outputs": [
        {
          "output_type": "stream",
          "name": "stdout",
          "text": [
            "Evaluation \t Proposed point \t  Current eval. \t  Best eval. \t        Exact ERM: StdDev. x \t Approx ERM: StdDev. x \n",
            "init\t [-0.84969467  2.25612281]\t 10.902161328666502\t 1.4334486961549602\t    \t    \n",
            "init\t [-5.1188288  -2.02411446]\t 34.396486966857985\t 1.4334486961549602\t    \t    \n",
            "init\t [-3.61721968 -4.17445279]\t 47.936390383803385\t 1.4334486961549602\t    \t    \n",
            "init\t [-3.21269544 -1.58145816]\t 15.323431753768267\t 1.4334486961549602\t    \t    \n",
            "init\t [-1.05710106  0.39748336]\t 1.4334486961549602\t 1.4334486961549602\t    \t    \n",
            "1  \t [ 4.04077223 -4.24914728]\t 52.43834538835027\t 1.4334486961549602\t 3.4158311341520133\t 4.189025155378068\n",
            "2  \t [5.12 5.12]\t 78.64320000000001\t 1.4334486961549602\t 3.1601399553164624\t 3.4621743706922925\n",
            "3  \t [-5.12  5.12]\t 78.64320000000001\t 1.4334486961549602\t 2.9457409124060234\t 3.786395300568999\n",
            "4  \t [3.43947312 0.5077815 ]\t 12.345659415755245\t 1.4334486961549602\t 2.2542101005754622\t 3.208655952690595\n",
            "5  \t [ 0.46300253 -2.30908632]\t 10.878130643502878\t 1.4334486961549602\t 2.645230147925612\t 3.2737611213570723\n",
            "6  \t [0.98108986 5.12      ]\t 53.39133730512772\t 1.4334486961549602\t 2.610583015250408\t 3.3118059048857864\n",
            "7  \t [-5.12        1.44515663]\t 30.39135539055625\t 1.4334486961549602\t 3.045926181757435\t 3.506551528460524\n",
            "8  \t [ 0.05285722 -5.12      ]\t 52.4315938859734\t 1.4334486961549602\t 3.012381691980336\t 3.333134326096195\n",
            "9  \t [ 5.12      -1.3083129]\t 29.637765265680915\t 1.4334486961549602\t 2.5659456575326427\t 2.9392510171538264\n",
            "10 \t [-2.00917276  5.12      ]\t 56.46557517282127\t 1.4334486961549602\t 2.463179380794149\t 3.035088505496263\n",
            "\u001b[1m\u001b[92m11\u001b[0m\t \u001b[1m\u001b[92m[0.99423049 0.34841368]\u001b[0m\t \u001b[1m\u001b[92m1.2312784498604183\u001b[0m\t \u001b[1m\u001b[92m1.2312784498604183\u001b[0m\t \u001b[1m\u001b[92m2.620874928846713\u001b[0m\t \u001b[1m\u001b[92m2.526219218516468\u001b[0m\n",
            "12 \t [5.12       2.01539288]\t 34.33801689528967\t 1.2312784498604183\t 3.1405837315676397\t 2.6823356537921175\n",
            "13 \t [1.86098982 2.29014487]\t 13.95281014671599\t 1.2312784498604183\t 2.214040919557424\t 2.145427091299809\n",
            "14 \t [ 2.35265786 -1.49843027]\t 10.02558554128194\t 1.2312784498604183\t 2.5302038209932807\t 2.463394875464166\n",
            "15 \t [-2.68244168  0.92668866]\t 8.912997084696851\t 1.2312784498604183\t 2.500226135428692\t 1.7572799595713697\n",
            "16 \t [-1.11218166 -1.21414172]\t 4.185228272853623\t 1.2312784498604183\t 2.364644567903067\t 2.6275187698888023\n",
            "17 \t [-1.26604066  5.06933578]\t 52.99918947165496\t 1.2312784498604183\t 2.8979641095412636\t 2.8979641095412636\n",
            "18 \t [-3.13309746  2.7773515 ]\t 25.243662418409095\t 1.2312784498604183\t 2.6334731206054873\t 2.770603070642629\n",
            "19 \t [-1.41018731 -2.87799412]\t 18.55432852946426\t 1.2312784498604183\t 3.0603862002621622\t 2.7772050101750603\n",
            "\u001b[1m\u001b[92m20\u001b[0m\t \u001b[1m\u001b[92m[ 0.11353727 -0.41945327]\u001b[0m\t \u001b[1m\u001b[92m0.36477281096100145\u001b[0m\t \u001b[1m\u001b[92m0.36477281096100145\u001b[0m\t \u001b[1m\u001b[92m2.6238078130633506\u001b[0m\t \u001b[1m\u001b[92m2.7925304092551895\u001b[0m\n"
          ]
        }
      ],
      "source": [
        "### ESTIMATED STP ERM GRADIENTS\n",
        "\n",
        "np.random.seed(run_num_1)\n",
        "surrogate_approx_1 = dtStudentProcess(cov_func, optimize=opt, nu = df)\n",
        "\n",
        "approx_1 = GPGO_multi(surrogate_approx_1, Acquisition_grad(util), objfunc, param)\n",
        "approx_1.run(init_evals=n_init, max_iter=iters)\n"
      ]
    },
    {
      "cell_type": "code",
      "execution_count": 14,
      "metadata": {
        "id": "wTxsSZxFGBB5",
        "colab": {
          "base_uri": "https://localhost:8080/"
        },
        "outputId": "58ad0f2a-5370-44d5-91c9-f17c532d4b02"
      },
      "outputs": [
        {
          "output_type": "stream",
          "name": "stdout",
          "text": [
            "Evaluation \t Proposed point \t  Current eval. \t  Best eval. \t        Exact ERM: StdDev. x \t Approx ERM: StdDev. x \n",
            "init\t [-0.6554122  -4.85451539]\t 47.562204422038214\t 1.1358959044973735\t    \t    \n",
            "init\t [ 0.50854377 -0.6622987 ]\t 1.1358959044973735\t 1.1358959044973735\t    \t    \n",
            "init\t [-0.81543371 -1.73737143]\t 6.7018511217540135\t 1.1358959044973735\t    \t    \n",
            "init\t [-3.02439799  1.2213347 ]\t 12.13030006303276\t 1.1358959044973735\t    \t    \n",
            "init\t [-2.05153614 -2.3876887 ]\t 15.610915224537823\t 1.1358959044973735\t    \t    \n",
            "1  \t [4.81874241 3.07464552]\t 42.12716849729408\t 1.1358959044973735\t 3.7765944099401763\t 3.7648488110877136\n",
            "2  \t [ 5.12       -4.88053564]\t 73.85365622419673\t 1.1358959044973735\t 2.37377145503933\t 3.8746952088073265\n",
            "3  \t [-0.02144711  5.12      ]\t 52.42925997832772\t 1.1358959044973735\t 3.5305761656178163\t 3.811657120166041\n",
            "4  \t [-5.12  5.12]\t 78.64320000000001\t 1.1358959044973735\t 3.1605900160176197\t 3.2670231579466815\n",
            "5  \t [-5.12 -5.12]\t 78.64320000000001\t 1.1358959044973735\t 3.6710273907517785\t 3.607064335076238\n",
            "6  \t [ 3.60649736 -0.88870341]\t 14.586410757801676\t 1.1358959044973735\t 3.0875678239864106\t 3.131859320302132\n",
            "7  \t [-5.12       -1.15113347]\t 28.864616530993565\t 1.1358959044973735\t 2.9761509607218795\t 2.898557398776574\n",
            "8  \t [1.20711248 1.70336548]\t 7.260028451485855\t 1.1358959044973735\t 2.248383014938159\t 2.3017735823157923\n",
            "9  \t [ 2.02820657 -3.17836765]\t 24.317663722244795\t 1.1358959044973735\t 2.6860812785197696\t 3.115964674915044\n",
            "10 \t [-5.12        1.94415394]\t 33.7738691052033\t 1.1358959044973735\t 2.609475660691301\t 3.2106868398801693\n",
            "11 \t [2.97585999 5.12      ]\t 61.284542678997084\t 1.1358959044973735\t 2.7583505774819432\t 3.2644526070015583\n",
            "12 \t [-0.98922616  2.19328572]\t 10.599572853857024\t 1.1358959044973735\t 2.507205353319143\t 2.4700021127636678\n",
            "13 \t [5.12       0.41465963]\t 26.558285218372497\t 1.1358959044973735\t 2.8429678601087276\t 3.112449424899924\n",
            "14 \t [-2.54124208  3.80902372]\t 35.47523468006845\t 1.1358959044973735\t 2.7114593473942428\t 2.9453458310425455\n",
            "15 \t [-1.09124174  0.12182937]\t 1.2204933290657385\t 1.1358959044973735\t 2.6182436925939285\t 2.7368644685961665\n",
            "16 \t [ 5.12       -2.16715348]\t 35.60750845243843\t 1.1358959044973735\t 2.892281510236438\t 2.5699209604537403\n",
            "17 \t [-4.35299134 -3.36019106]\t 41.530301542296236\t 1.1358959044973735\t 2.946589238415346\t 3.153089178664932\n",
            "18 \t [1.9522697  0.08369792]\t 3.8253676608244964\t 1.1358959044973735\t 2.4896586275925148\t 2.592243651291748\n",
            "19 \t [ 2.34725491 -5.12      ]\t 57.938405592203324\t 1.1358959044973735\t 2.8385660236233226\t 2.729004414245733\n",
            "20 \t [-2.84998005 -5.12      ]\t 60.55118627735391\t 1.1358959044973735\t 3.0494034367422964\t 2.9020552937443633\n"
          ]
        }
      ],
      "source": [
        "### ESTIMATED STP ERM GRADIENTS\n",
        "\n",
        "np.random.seed(run_num_2)\n",
        "surrogate_approx_2 = dtStudentProcess(cov_func, optimize=opt, nu = df)\n",
        "\n",
        "approx_2 = GPGO_multi(surrogate_approx_2, Acquisition_grad(util), objfunc, param)\n",
        "approx_2.run(init_evals=n_init, max_iter=iters)\n"
      ]
    },
    {
      "cell_type": "code",
      "execution_count": 15,
      "metadata": {
        "id": "-dgzIrUIGCGT",
        "colab": {
          "base_uri": "https://localhost:8080/"
        },
        "outputId": "80038e19-3155-4f75-aeb3-fc314c49ce95"
      },
      "outputs": [
        {
          "output_type": "stream",
          "name": "stdout",
          "text": [
            "Evaluation \t Proposed point \t  Current eval. \t  Best eval. \t        Exact ERM: StdDev. x \t Approx ERM: StdDev. x \n",
            "init\t [0.52017052 2.1314337 ]\t 9.356596638100186\t 4.609047504113831\t    \t    \n",
            "init\t [-2.14113547  0.11087468]\t 4.609047504113831\t 4.609047504113831\t    \t    \n",
            "init\t [4.02377681 4.05804123]\t 49.12617709674532\t 4.609047504113831\t    \t    \n",
            "init\t [-3.83400642 -2.99783293]\t 32.673609761904345\t 4.609047504113831\t    \t    \n",
            "init\t [-4.59297584 -0.6061072 ]\t 21.83015892853491\t 4.609047504113831\t    \t    \n",
            "1  \t [ 2.87042319 -1.98283743]\t 16.10261781709846\t 4.609047504113831\t 2.447040036294498\t 2.612229822795365\n",
            "2  \t [-4.10416211  5.12      ]\t 69.27294664538174\t 4.609047504113831\t 2.9660944564907448\t 4.087940757057679\n",
            "3  \t [ 0.06924193 -5.12      ]\t 52.43359444498189\t 4.609047504113831\t 2.8227191907798432\t 3.3882873380640897\n",
            "4  \t [ 5.12 -5.12]\t 78.64320000000001\t 4.609047504113831\t 2.9813342588458243\t 3.103538894904796\n",
            "5  \t [5.12       0.47132353]\t 26.65869174067188\t 4.609047504113831\t 2.603361882921618\t 3.0953139487496912\n",
            "6  \t [-0.06718554  5.12      ]\t 52.433313897146895\t 4.609047504113831\t 2.768782495351909\t 2.8514983282748747\n",
            "7  \t [-0.18320346 -1.51323507]\t 4.613324234354778\t 4.609047504113831\t 2.7712171658846265\t 2.8142742477577394\n",
            "8  \t [-5.12        2.10146583]\t 35.04671726519417\t 4.609047504113831\t 2.865996099312379\t 3.11749807499389\n",
            "9  \t [-2.54683792 -5.12      ]\t 58.91518339398211\t 4.609047504113831\t 2.5295091238599867\t 3.120988430938186\n",
            "10 \t [-2.02482766  2.42367167]\t 15.848295793857478\t 4.609047504113831\t 2.7890194873433085\t 2.8832377949240993\n",
            "11 \t [2.1874807  0.59866413]\t 5.5018692769863575\t 4.609047504113831\t 2.4319450976787444\t 2.5694161877769286\n",
            "12 \t [ 5.12       -2.12305399]\t 35.22911646360089\t 4.609047504113831\t 2.523854344363589\t 2.43276673029991\n",
            "13 \t [-5.12 -5.12]\t 78.64320000000001\t 4.609047504113831\t 3.282142712818139\t 2.49399665885406\n",
            "\u001b[1m\u001b[92m14\u001b[0m\t \u001b[1m\u001b[92m[-0.05107416  0.22788079]\u001b[0m\t \u001b[1m\u001b[92m0.10646787781111874\u001b[0m\t \u001b[1m\u001b[92m0.10646787781111874\u001b[0m\t \u001b[1m\u001b[92m2.3997633029155496\u001b[0m\t \u001b[1m\u001b[92m2.28004442107824\u001b[0m\n",
            "15 \t [-1.74769674 -1.86722359]\t 10.027491754985121\t 0.10646787781111874\t 2.731637891149724\t 2.5226747872737536\n",
            "16 \t [ 2.45088188 -4.18111472]\t 40.97026266199722\t 0.10646787781111874\t 2.41876668418894\t 2.8034873415720383\n",
            "17 \t [ 1.20074273 -0.7927688 ]\t 2.698747827793266\t 0.10646787781111874\t 2.4709915317703817\t 2.01176471514086\n",
            "18 \t [1.7956689  3.51244298]\t 27.8989381674076\t 0.10646787781111874\t 2.7064584061341854\t 2.9575224841609713\n",
            "19 \t [3.50888527 1.90808054]\t 19.593818582366428\t 0.10646787781111874\t 2.9288074798901205\t 3.2325707940377715\n",
            "20 \t [-2.29476927  5.12      ]\t 57.6947659901158\t 0.10646787781111874\t 2.6133316380795\t 2.6262785387248218\n"
          ]
        }
      ],
      "source": [
        "### ESTIMATED STP ERM GRADIENTS\n",
        "\n",
        "np.random.seed(run_num_3)\n",
        "surrogate_approx_3 = dtStudentProcess(cov_func, optimize=opt, nu = df)\n",
        "\n",
        "approx_3 = GPGO_multi(surrogate_approx_3, Acquisition_grad(util), objfunc, param)\n",
        "approx_3.run(init_evals=n_init, max_iter=iters)\n"
      ]
    },
    {
      "cell_type": "code",
      "execution_count": 16,
      "metadata": {
        "id": "hOtG-2sCGCKS",
        "colab": {
          "base_uri": "https://localhost:8080/"
        },
        "outputId": "c42d6312-df9f-4e01-b74c-be6211a28989"
      },
      "outputs": [
        {
          "output_type": "stream",
          "name": "stdout",
          "text": [
            "Evaluation \t Proposed point \t  Current eval. \t  Best eval. \t        Exact ERM: StdDev. x \t Approx ERM: StdDev. x \n",
            "init\t [4.78238555 0.48365823]\t 23.33906213310676\t 7.289910254474112\t    \t    \n",
            "init\t [4.84028785 2.19971578]\t 33.10588541607836\t 7.289910254474112\t    \t    \n",
            "init\t [ 2.02474316 -2.90724357]\t 21.003715175118646\t 7.289910254474112\t    \t    \n",
            "init\t [ 4.87705042 -5.05620219]\t 74.91598187475032\t 7.289910254474112\t    \t    \n",
            "init\t [-2.52946061 -0.66773471]\t 7.289910254474112\t 7.289910254474112\t    \t    \n",
            "1  \t [-4.00676679  4.51318986]\t 56.79194551170472\t 7.289910254474112\t 2.6610476910775667\t 3.854178455000527\n",
            "2  \t [-5.12 -5.12]\t 78.64320000000001\t 7.289910254474112\t 3.655705007628241\t 3.8880581772810587\n",
            "3  \t [0.97523609 5.12      ]\t 53.37988542811079\t 7.289910254474112\t 3.352206974798523\t 3.5971048811964934\n",
            "\u001b[1m\u001b[92m4\u001b[0m\t \u001b[1m\u001b[92m[0.68534949 0.95260407]\u001b[0m\t \u001b[1m\u001b[92m2.284612968868146\u001b[0m\t \u001b[1m\u001b[92m2.284612968868146\u001b[0m\t \u001b[1m\u001b[92m3.105907098389979\u001b[0m\t \u001b[1m\u001b[92m3.162060307370009\u001b[0m\n",
            "5  \t [-0.97424481 -5.12      ]\t 53.37795294983421\t 2.284612968868146\t 3.021259988318585\t 3.1849585586181237\n",
            "6  \t [-5.12        0.83248177]\t 27.600451787612037\t 2.284612968868146\t 2.9495472250264205\t 3.261917088825494\n",
            "7  \t [-1.42749113  2.18144476]\t 11.555133383402351\t 2.284612968868146\t 2.8766287801728065\t 2.8055836197847133\n",
            "8  \t [5.12 5.12]\t 78.64320000000001\t 2.284612968868146\t 2.9798185636630157\t 2.7850760821594083\n",
            "9  \t [-0.20514373 -1.23079656]\t 3.071804287284649\t 2.284612968868146\t 2.578735949474187\t 2.7187899981021935\n",
            "10 \t [-5.12       -1.96460113]\t 33.93371523672159\t 2.284612968868146\t 2.5689812146600945\t 2.7616191051160506\n",
            "11 \t [ 5.12       -2.00677022]\t 34.268653426706514\t 2.284612968868146\t 2.5981907285542216\t 2.85605712299854\n",
            "12 \t [2.04281949 2.27052149]\t 14.483647108585519\t 2.284612968868146\t 2.5669372874813807\t 2.720940377643457\n",
            "13 \t [ 2.12169221 -0.35793554]\t 4.757813543297766\t 2.284612968868146\t 2.6138441674395114\t 2.823329230548189\n",
            "14 \t [-2.28066824 -2.68091907]\t 19.576101759965173\t 2.284612968868146\t 2.274885817017482\t 2.5552914634929467\n",
            "15 \t [ 1.86272064 -5.12      ]\t 55.89852817781898\t 2.284612968868146\t 2.600062657901498\t 2.737173040284043\n",
            "16 \t [-1.54596077  5.12      ]\t 54.818794695477266\t 2.284612968868146\t 2.349975645113992\t 2.57095646971743\n",
            "17 \t [3.1405459 4.3555669]\t 47.80495452988066\t 2.284612968868146\t 2.7398736705937017\t 2.7937300860047505\n",
            "\u001b[1m\u001b[92m18\u001b[0m\t \u001b[1m\u001b[92m[-0.8799548   0.28023802]\u001b[0m\t \u001b[1m\u001b[92m0.931387137453419\u001b[0m\t \u001b[1m\u001b[92m0.931387137453419\u001b[0m\t \u001b[1m\u001b[92m2.635169297818861\u001b[0m\t \u001b[1m\u001b[92m2.166831492191406\u001b[0m\n",
            "19 \t [-2.9490639   1.27445287]\t 11.945438124570858\t 0.931387137453419\t 2.5582769709537208\t 2.1872848085863055\n",
            "20 \t [-0.03559566 -2.64751754]\t 14.019965295156235\t 0.931387137453419\t 2.2870827758338224\t 1.9239411171161984\n"
          ]
        }
      ],
      "source": [
        "### ESTIMATED STP ERM GRADIENTS\n",
        "\n",
        "np.random.seed(run_num_4)\n",
        "surrogate_approx_4 = dtStudentProcess(cov_func, optimize=opt, nu = df)\n",
        "\n",
        "approx_4= GPGO_multi(surrogate_approx_4, Acquisition_grad(util), objfunc, param)\n",
        "approx_4.run(init_evals=n_init, max_iter=iters)\n"
      ]
    },
    {
      "cell_type": "code",
      "execution_count": 17,
      "metadata": {
        "id": "JF_SxcEvGCOl",
        "colab": {
          "base_uri": "https://localhost:8080/"
        },
        "outputId": "e0059bdd-07dc-4f32-e076-ee31bde06872"
      },
      "outputs": [
        {
          "output_type": "stream",
          "name": "stdout",
          "text": [
            "Evaluation \t Proposed point \t  Current eval. \t  Best eval. \t        Exact ERM: StdDev. x \t Approx ERM: StdDev. x \n",
            "init\t [-2.84678993  3.79629882]\t 36.927982283829365\t 2.6327313115208373\t    \t    \n",
            "init\t [-3.00319585  4.2865757 ]\t 45.76864772649561\t 2.6327313115208373\t    \t    \n",
            "init\t [-0.11866943  1.14425716]\t 2.6327313115208373\t 2.6327313115208373\t    \t    \n",
            "init\t [2.72289645 0.1886002 ]\t 7.485305147100433\t 2.6327313115208373\t    \t    \n",
            "init\t [-2.08076286 -3.19773462]\t 24.780587476435763\t 2.6327313115208373\t    \t    \n",
            "1  \t [ 4.32895605 -5.09732646]\t 70.70533460957368\t 2.6327313115208373\t 4.421444275171899\t 4.497325186020681\n",
            "2  \t [5.12       4.92445095]\t 74.71483433559966\t 2.6327313115208373\t 3.6530954647931564\t 3.7540318346467845\n",
            "3  \t [-5.12       -0.04096535]\t 26.21775631913685\t 2.6327313115208373\t 3.341429500889886\t 3.7595522685121505\n",
            "4  \t [0.98441739 5.12      ]\t 53.39787760447226\t 2.6327313115208373\t 3.282812011633756\t 3.3949585877906445\n",
            "5  \t [-5.12 -5.12]\t 78.64320000000001\t 2.6327313115208373\t 3.4215452375141986\t 3.4213380070404247\n",
            "6  \t [ 1.35632472 -2.68246697]\t 16.230874844006234\t 2.6327313115208373\t 3.2675749828208134\t 3.3030645247143404\n",
            "7  \t [ 5.12       -1.38365726]\t 30.04341480632506\t 2.6327313115208373\t 2.390967034269385\t 2.579402421956324\n",
            "8  \t [-2.04185588  0.00769453]\t 4.169293844977154\t 2.6327313115208373\t 3.136494918096449\t 3.0187617597219836\n",
            "9  \t [ 0.26221663 -5.12      ]\t 52.49755755869129\t 2.6327313115208373\t 2.9093517337120294\t 3.2604993097591852\n",
            "10 \t [5.12       1.64760427]\t 31.643599687146537\t 2.6327313115208373\t 2.715038625102141\t 3.320401573626936\n",
            "11 \t [1.93824464 2.29984796]\t 14.335393544191378\t 2.6327313115208373\t 2.3971121998359193\t 3.2612734340708887\n",
            "\u001b[1m\u001b[92m12\u001b[0m\t \u001b[1m\u001b[92m[-0.07108349 -0.77747271]\u001b[0m\t \u001b[1m\u001b[92m1.2139805020034622\u001b[0m\t \u001b[1m\u001b[92m1.2139805020034622\u001b[0m\t \u001b[1m\u001b[92m2.6911157579216947\u001b[0m\t \u001b[1m\u001b[92m2.8472376631707452\u001b[0m\n",
            "13 \t [-5.12        2.54995805]\t 39.218972116757264\t 1.2139805020034622\t 2.5775756332904125\t 3.0592883918522995\n",
            "14 \t [-5.12       -2.32456052]\t 37.021563201399914\t 1.2139805020034622\t 2.460225343219892\t 2.7324798889912714\n",
            "15 \t [-0.63133399  2.66121904]\t 14.562756156386433\t 1.2139805020034622\t 2.151686305157084\t 2.0248367732743753\n",
            "\u001b[1m\u001b[92m16\u001b[0m\t \u001b[1m\u001b[92m[ 1.08200994 -0.04167378]\u001b[0m\t \u001b[1m\u001b[92m1.1742189237959568\u001b[0m\t \u001b[1m\u001b[92m1.1742189237959568\u001b[0m\t \u001b[1m\u001b[92m2.527713428566386\u001b[0m\t \u001b[1m\u001b[92m2.3169572547612134\u001b[0m\n",
            "17 \t [-2.71727903  1.31765355]\t 10.856027089134646\t 1.1742189237959568\t 2.3145865837651063\t 2.5448035467139167\n",
            "18 \t [-2.76836136 -5.12      ]\t 60.09262463093627\t 1.1742189237959568\t 2.7201576908423735\t 2.9496378123638536\n",
            "19 \t [-5.12  5.12]\t 78.64320000000001\t 1.1742189237959568\t 2.5286693602145625\t 2.99081060524757\n",
            "20 \t [-1.37158091 -1.32931584]\t 5.415395407329008\t 1.1742189237959568\t 2.366054902037448\t 2.605886897957076\n"
          ]
        }
      ],
      "source": [
        "### ESTIMATED STP ERM GRADIENTS\n",
        "\n",
        "np.random.seed(run_num_5)\n",
        "surrogate_approx_5 = dtStudentProcess(cov_func, optimize=opt, nu = df)\n",
        "\n",
        "approx_5 = GPGO_multi(surrogate_approx_5, Acquisition_grad(util), objfunc, param)\n",
        "approx_5.run(init_evals=n_init, max_iter=iters)\n"
      ]
    },
    {
      "cell_type": "code",
      "execution_count": 18,
      "metadata": {
        "id": "-kDxZtJsGCR3",
        "colab": {
          "base_uri": "https://localhost:8080/"
        },
        "outputId": "7e171c89-b38a-49ed-fbca-a1caba35a235"
      },
      "outputs": [
        {
          "output_type": "stream",
          "name": "stdout",
          "text": [
            "Evaluation \t Proposed point \t  Current eval. \t  Best eval. \t        Exact ERM: StdDev. x \t Approx ERM: StdDev. x \n",
            "init\t [ 4.02288795 -1.72052679]\t 22.104052359713652\t 1.4757178799086357\t    \t    \n",
            "init\t [ 3.28938622 -4.69302655]\t 54.869058151382724\t 1.4757178799086357\t    \t    \n",
            "init\t [-4.0175956   0.97333314]\t 18.035829177697114\t 1.4757178799086357\t    \t    \n",
            "init\t [ 0.30532979 -0.83141193]\t 1.4757178799086357\t 1.4757178799086357\t    \t    \n",
            "init\t [-1.68542362  1.25459899]\t 5.988690020231891\t 1.4757178799086357\t    \t    \n",
            "1  \t [2.57700369 5.12      ]\t 59.06974803780984\t 1.4757178799086357\t 3.5989401058188104\t 3.861130764895423\n",
            "2  \t [-3.35760429 -4.56687597]\t 52.98621882179129\t 1.4757178799086357\t 3.475386214541151\t 3.7539589355842278\n",
            "3  \t [-5.12  5.12]\t 78.64320000000001\t 1.4757178799086357\t 3.2524888742167386\t 3.6898814008030327\n",
            "4  \t [5.12       1.96157666]\t 33.90996600155988\t 1.4757178799086357\t 3.1987095808118533\t 3.207530407483678\n",
            "5  \t [-1.23035762  5.12      ]\t 53.942579874760185\t 1.4757178799086357\t 2.561514510471381\t 2.7762343929740427\n",
            "6  \t [1.47107272 1.50641607]\t 6.702633701538542\t 1.4757178799086357\t 3.1992838931412746\t 3.0811069354409186\n",
            "7  \t [-0.03321623 -3.32868732]\t 22.161421842689652\t 1.4757178799086357\t 2.9629936817120526\t 2.9699440593343374\n",
            "8  \t [-5.12       -1.77038701]\t 32.4829403088599\t 1.4757178799086357\t 2.787816127503332\t 3.224366239927255\n",
            "9  \t [-2.26892768 -1.54147223]\t 9.900306073075708\t 1.4757178799086357\t 2.4113272325402075\t 2.7397449998976846\n",
            "10 \t [5.12       4.67576024]\t 69.93986766726901\t 1.4757178799086357\t 2.97887974210189\t 3.50768265727576\n",
            "11 \t [ 2.01493357 -0.45841509]\t 4.48024608063994\t 1.4757178799086357\t 2.737936290081471\t 2.458992299855759\n",
            "12 \t [-0.09864907  2.57907899]\t 13.313028492613805\t 1.4757178799086357\t 2.4249297240349454\t 2.6103286129780257\n",
            "13 \t [-2.98813992  3.17573117]\t 29.099517114310643\t 1.4757178799086357\t 2.8126266360103105\t 3.3584517250502737\n",
            "\u001b[1m\u001b[92m14\u001b[0m\t \u001b[1m\u001b[92m[-0.79514661 -0.02758643]\u001b[0m\t \u001b[1m\u001b[92m0.6337801468887764\u001b[0m\t \u001b[1m\u001b[92m0.6337801468887764\u001b[0m\t \u001b[1m\u001b[92m2.2971111185678144\u001b[0m\t \u001b[1m\u001b[92m2.634548592165511\u001b[0m\n",
            "15 \t [-0.54004078 -5.12      ]\t 52.720444042878306\t 0.6337801468887764\t 2.824059240236384\t 2.356867547068975\n",
            "16 \t [ 1.69991501 -2.1659809 ]\t 12.272657524539717\t 0.6337801468887764\t 2.4377989782819913\t 2.849710444219983\n",
            "17 \t [3.1313287  0.76724067]\t 10.982535915904986\t 0.6337801468887764\t 2.627722464503442\t 3.4975118232280793\n",
            "18 \t [ 5.12       -3.37996332]\t 49.06270413896527\t 0.6337801468887764\t 2.850697490740645\t 3.014229913416094\n",
            "19 \t [-4.74644116  2.64056072]\t 36.4738255035077\t 0.6337801468887764\t 3.1565349834597916\t 3.093010880088059\n",
            "20 \t [-3.16292581  5.12      ]\t 62.432899681637345\t 0.6337801468887764\t 2.955183769155101\t 2.8532127898655437\n"
          ]
        }
      ],
      "source": [
        "### ESTIMATED STP ERM GRADIENTS\n",
        "\n",
        "np.random.seed(run_num_6)\n",
        "surrogate_approx_6 = dtStudentProcess(cov_func, optimize=opt, nu = df)\n",
        "\n",
        "approx_6 = GPGO_multi(surrogate_approx_6, Acquisition_grad(util), objfunc, param)\n",
        "approx_6.run(init_evals=n_init, max_iter=iters)\n"
      ]
    },
    {
      "cell_type": "code",
      "execution_count": 19,
      "metadata": {
        "id": "fKB8MCD_GCVI",
        "colab": {
          "base_uri": "https://localhost:8080/"
        },
        "outputId": "8b28383d-f34e-4562-bafe-9ab8141d44d5"
      },
      "outputs": [
        {
          "output_type": "stream",
          "name": "stdout",
          "text": [
            "Evaluation \t Proposed point \t  Current eval. \t  Best eval. \t        Exact ERM: StdDev. x \t Approx ERM: StdDev. x \n",
            "init\t [-4.33860312  2.86636843]\t 35.25561298730891\t 5.622520458601941\t    \t    \n",
            "init\t [-0.63068947  2.28828342]\t 10.870251237170722\t 5.622520458601941\t    \t    \n",
            "init\t [4.8946126  0.39419771]\t 24.268016205804518\t 5.622520458601941\t    \t    \n",
            "init\t [ 0.01147355 -4.38219639]\t 38.407422120416236\t 5.622520458601941\t    \t    \n",
            "init\t [-2.37118484e+00 -1.20319155e-03]\t 5.622520458601941\t 5.622520458601941\t    \t    \n",
            "1  \t [ 5.12 -5.12]\t 78.64320000000001\t 5.622520458601941\t 2.883886501819502\t 3.3228855911178568\n",
            "2  \t [-5.12 -5.12]\t 78.64320000000001\t 5.622520458601941\t 4.221815214144587\t 4.2952644724274816\n",
            "3  \t [3.47689803 5.12      ]\t 64.51761991408601\t 5.622520458601941\t 3.362586836478264\t 3.5291680879528227\n",
            "4  \t [-4.02558214 -1.33646422]\t 19.777584798449002\t 5.622520458601941\t 2.8857476451964876\t 3.046307140328312\n",
            "\u001b[1m\u001b[92m5\u001b[0m\t \u001b[1m\u001b[92m[ 1.31245477 -0.73571962]\u001b[0m\t \u001b[1m\u001b[92m2.805104233970139\u001b[0m\t \u001b[1m\u001b[92m2.805104233970139\u001b[0m\t \u001b[1m\u001b[92m3.0387553855569314\u001b[0m\t \u001b[1m\u001b[92m2.846251217893015\u001b[0m\n",
            "6  \t [-1.43510229  5.12      ]\t 54.48831858332637\t 2.805104233970139\t 2.9928690435629615\t 3.375366690751999\n",
            "7  \t [ 3.02715367 -2.37642751]\t 20.458474807352562\t 2.805104233970139\t 2.329680769959602\t 2.4418682289340383\n",
            "8  \t [2.12153573 1.82213549]\t 11.141269310575495\t 2.805104233970139\t 2.98803391583684\t 3.0055322549704973\n",
            "9  \t [-0.7096442  -1.44761576]\t 4.694777674642099\t 2.805104233970139\t 2.9657045676271125\t 3.2536696134710206\n",
            "10 \t [-5.12  5.12]\t 78.64320000000001\t 2.805104233970139\t 3.0303517583829773\t 3.1465345386622134\n",
            "11 \t [5.12       2.86200306]\t 42.59652298356822\t 2.805104233970139\t 2.468769203312289\t 2.9605021508781917\n",
            "12 \t [-2.51268072 -3.38039706]\t 29.16773302281245\t 2.805104233970139\t 3.028797846765459\t 3.0620807725571213\n",
            "13 \t [-5.12        0.53232166]\t 26.781132704685934\t 2.805104233970139\t 3.1300363410356917\t 3.1309568052532026\n",
            "14 \t [ 2.32760818 -5.12      ]\t 57.84655985246435\t 2.805104233970139\t 2.1527599566583118\t 2.4647491628950062\n",
            "\u001b[1m\u001b[92m15\u001b[0m\t \u001b[1m\u001b[92m[-0.10691842  0.33949408]\u001b[0m\t \u001b[1m\u001b[92m0.24194400717426365\u001b[0m\t \u001b[1m\u001b[92m0.24194400717426365\u001b[0m\t \u001b[1m\u001b[92m2.969048669296818\u001b[0m\t \u001b[1m\u001b[92m2.9030364440954934\u001b[0m\n",
            "16 \t [1.02831616 4.16499458]\t 35.7517938308616\t 0.24194400717426365\t 2.5156517284666915\t 2.7490533674174102\n",
            "17 \t [ 5.12       -2.04744799]\t 34.598486574209815\t 0.24194400717426365\t 2.1746910250665734\t 2.204574671814555\n",
            "18 \t [ 2.80584953 -0.09926303]\t 7.892497865836378\t 0.24194400717426365\t 3.3504823034503146\t 3.4336049727026823\n",
            "19 \t [ 4.26598706 -3.57503704]\t 43.76042527156956\t 0.24194400717426365\t 3.1152199361137036\t 3.3331762301801895\n",
            "20 \t [-3.55098647  4.45289609]\t 52.266072092944285\t 0.24194400717426365\t 2.944763148018273\t 3.0005762604939132\n"
          ]
        }
      ],
      "source": [
        "### ESTIMATED STP ERM GRADIENTS\n",
        "\n",
        "np.random.seed(run_num_7)\n",
        "surrogate_approx_7 = dtStudentProcess(cov_func, optimize=opt, nu = df)\n",
        "\n",
        "approx_7 = GPGO_multi(surrogate_approx_7, Acquisition_grad(util), objfunc, param)\n",
        "approx_7.run(init_evals=n_init, max_iter=iters)\n"
      ]
    },
    {
      "cell_type": "code",
      "execution_count": 20,
      "metadata": {
        "id": "4unvifF-GCXp",
        "colab": {
          "base_uri": "https://localhost:8080/"
        },
        "outputId": "6931b4bc-da2c-4f08-bff7-e3cfe354d4f9"
      },
      "outputs": [
        {
          "output_type": "stream",
          "name": "stdout",
          "text": [
            "Evaluation \t Proposed point \t  Current eval. \t  Best eval. \t        Exact ERM: StdDev. x \t Approx ERM: StdDev. x \n",
            "init\t [3.82391708 4.79785639]\t 60.661193695854244\t 0.1518306274298758\t    \t    \n",
            "init\t [3.78055209 0.31596228]\t 14.492238445440277\t 0.1518306274298758\t    \t    \n",
            "init\t [-2.73686192 -5.00327624]\t 57.555959528959804\t 0.1518306274298758\t    \t    \n",
            "init\t [-0.7119993  -0.99992207]\t 2.506631309190485\t 0.1518306274298758\t    \t    \n",
            "init\t [ 0.23218863 -0.22126801]\t 0.1518306274298758\t 0.1518306274298758\t    \t    \n",
            "1  \t [-0.54137126  2.72988939]\t 15.197674987943806\t 0.1518306274298758\t 3.13628323989362\t 3.7511824537059906\n",
            "2  \t [ 5.12 -5.12]\t 78.64320000000001\t 0.1518306274298758\t 3.1643756851429226\t 4.101290412402111\n",
            "3  \t [-5.12  5.12]\t 78.64320000000001\t 0.1518306274298758\t 2.4010813809712475\t 3.3877525024895068\n",
            "4  \t [-5.12       -0.23014239]\t 26.320331035304882\t 0.1518306274298758\t 2.977727646392534\t 3.347211232353744\n",
            "5  \t [ 1.25142991 -3.61111872]\t 27.646433677129323\t 0.1518306274298758\t 2.8247691208843113\t 2.97269515824374\n",
            "6  \t [-1.59536213  5.12      ]\t 54.97398033476862\t 0.1518306274298758\t 3.192345540755135\t 3.2314856699231274\n",
            "7  \t [-3.26933483  2.00964584]\t 18.765903055431238\t 0.1518306274298758\t 2.808428119185601\t 3.131556579948282\n",
            "8  \t [ 5.12       -1.86195506]\t 33.14815330749148\t 0.1518306274298758\t 3.228288361639345\t 3.3098429625745576\n",
            "9  \t [-5.12       -3.14230791]\t 45.962597986365196\t 0.1518306274298758\t 2.926634862110433\t 3.1833397681656654\n",
            "10 \t [1.89348154 2.02504318]\t 11.786872081789475\t 0.1518306274298758\t 2.63037642100327\t 3.1415608801138486\n",
            "11 \t [-2.49989632 -1.56148036]\t 11.125923444029407\t 0.1518306274298758\t 2.605458940884854\t 2.995379877758418\n",
            "12 \t [ 1.80846299 -1.01524228]\t 5.331972171206472\t 0.1518306274298758\t 2.4082202088405387\t 2.197429478546405\n",
            "13 \t [5.12       2.15903419]\t 35.5372572549777\t 0.1518306274298758\t 2.145575488164811\t 2.939434974446529\n",
            "14 \t [1.11992668 5.12      ]\t 53.6830357692355\t 0.1518306274298758\t 2.7657051602864757\t 3.0130082104188993\n",
            "15 \t [-1.32896792  0.58726741]\t 2.455921746970426\t 0.1518306274298758\t 2.6462075042110893\t 2.5305640024071567\n",
            "16 \t [-0.92932591 -2.84682559]\t 17.072478532856792\t 0.1518306274298758\t 2.538065538435806\t 2.657973650806539\n",
            "17 \t [-0.57656196 -4.57296098]\t 42.15636788933848\t 0.1518306274298758\t 3.198202196213079\t 3.1704947997163035\n",
            "18 \t [-5.12        2.27499808]\t 36.56563249093438\t 0.1518306274298758\t 2.9297098263946135\t 2.6486729521803825\n",
            "19 \t [ 2.46707174 -5.12      ]\t 58.51524297633801\t 0.1518306274298758\t 2.405980679476025\t 2.1878609951106505\n",
            "20 \t [ 3.33582478 -3.04064488]\t 29.61876951960248\t 0.1518306274298758\t 2.7741354273493988\t 2.6990273993472167\n"
          ]
        }
      ],
      "source": [
        "### ESTIMATED STP ERM GRADIENTS\n",
        "\n",
        "np.random.seed(run_num_8)\n",
        "surrogate_approx_8 = dtStudentProcess(cov_func, optimize=opt, nu = df)\n",
        "\n",
        "approx_8 = GPGO_multi(surrogate_approx_8, Acquisition_grad(util), objfunc, param)\n",
        "approx_8.run(init_evals=n_init, max_iter=iters)\n"
      ]
    },
    {
      "cell_type": "code",
      "execution_count": 21,
      "metadata": {
        "id": "85OIXcg7GCaJ",
        "colab": {
          "base_uri": "https://localhost:8080/"
        },
        "outputId": "8b127d9c-a3af-4586-ce3d-d6df9bc1808f"
      },
      "outputs": [
        {
          "output_type": "stream",
          "name": "stdout",
          "text": [
            "Evaluation \t Proposed point \t  Current eval. \t  Best eval. \t        Exact ERM: StdDev. x \t Approx ERM: StdDev. x \n",
            "init\t [-5.01376866  0.01919582]\t 25.138613177506063\t 14.00341364504739\t    \t    \n",
            "init\t [-0.04328148 -3.74958562]\t 28.12065798163534\t 14.00341364504739\t    \t    \n",
            "init\t [-3.66478248 -2.88195916]\t 30.04200788009657\t 14.00341364504739\t    \t    \n",
            "init\t [-0.83447623 -2.57944404]\t 14.00341364504739\t 14.00341364504739\t    \t    \n",
            "init\t [-4.25922917 -1.58209393]\t 23.14707552082245\t 14.00341364504739\t    \t    \n",
            "1  \t [3.11029524 4.9495987 ]\t 58.67099112867045\t 14.00341364504739\t 2.5165813084051365\t 3.0261563017011794\n",
            "2  \t [ 5.12       -0.44277913]\t 26.606506713769907\t 14.00341364504739\t 2.7246579441783547\t 4.125035735555112\n",
            "3  \t [-2.7905632  5.12     ]\t 60.21604298331559\t 14.00341364504739\t 2.8488404487103725\t 4.381755781800845\n",
            "4  \t [ 5.12 -5.12]\t 78.64320000000001\t 14.00341364504739\t 2.798627728626453\t 3.5419474214573365\n",
            "\u001b[1m\u001b[92m5\u001b[0m\t \u001b[1m\u001b[92m[0.16362225 1.40626349]\u001b[0m\t \u001b[1m\u001b[92m3.981926262025841\u001b[0m\t \u001b[1m\u001b[92m3.981926262025841\u001b[0m\t \u001b[1m\u001b[92m3.2228108734405243\u001b[0m\t \u001b[1m\u001b[92m2.6341152511327603\u001b[0m\n",
            "6  \t [ 1.85446945 -0.79224466]\t 4.694360133181325\t 3.981926262025841\t 2.7010405734288634\t 2.9088255835024905\n",
            "7  \t [-2.30872751  1.58985867]\t 10.385523877505694\t 3.981926262025841\t 2.6045279226039897\t 3.274715477292157\n",
            "8  \t [2.77131949 1.66601125]\t 13.231398669513819\t 3.981926262025841\t 2.8323828247564973\t 2.8240965801205675\n",
            "9  \t [-5.12        3.00816979]\t 44.31257091536391\t 3.981926262025841\t 3.0816061216028814\t 3.637724714158052\n",
            "10 \t [-5.12 -5.12]\t 78.64320000000001\t 3.981926262025841\t 3.061088294863815\t 2.854141256368756\n",
            "11 \t [0.12242666 3.78065077]\t 28.601628767514914\t 3.981926262025841\t 2.6333500588266907\t 3.1076386054838494\n",
            "12 \t [ 2.85532333 -2.82254904]\t 24.086437474057874\t 3.981926262025841\t 2.5277558861139884\t 2.9430564997925694\n",
            "13 \t [5.12       2.63690133]\t 40.120897238469425\t 3.981926262025841\t 2.730499186414906\t 2.1124448169870527\n",
            "\u001b[1m\u001b[92m14\u001b[0m\t \u001b[1m\u001b[92m[-0.87376666 -0.35533865]\u001b[0m\t \u001b[1m\u001b[92m1.0159992812989784\u001b[0m\t \u001b[1m\u001b[92m1.0159992812989784\u001b[0m\t \u001b[1m\u001b[92m2.500544910551136\u001b[0m\t \u001b[1m\u001b[92m2.4080892637043325\u001b[0m\n",
            "15 \t [-2.04722454 -5.12      ]\t 56.619928299526165\t 1.0159992812989784\t 2.547441070178261\t 2.7920563830842795\n",
            "16 \t [ 1.9708293 -5.12     ]\t 56.31296813325922\t 1.0159992812989784\t 2.7727967855989335\t 2.220462901260752\n",
            "17 \t [-2.395754   -0.53005627]\t 6.301556513590901\t 1.0159992812989784\t 2.556629237543969\t 2.8429765519874763\n",
            "\u001b[1m\u001b[92m18\u001b[0m\t \u001b[1m\u001b[92m[ 0.47687517 -0.29277083]\u001b[0m\t \u001b[1m\u001b[92m0.39883944160903506\u001b[0m\t \u001b[1m\u001b[92m0.39883944160903506\u001b[0m\t \u001b[1m\u001b[92m2.348887297338208\u001b[0m\t \u001b[1m\u001b[92m2.518075044919957\u001b[0m\n",
            "19 \t [ 5.12       -2.57785632]\t 39.50508637457199\t 0.39883944160903506\t 2.9394013214481673\t 2.986937219011112\n",
            "20 \t [-1.295237    2.86569029]\t 18.102000549546826\t 0.39883944160903506\t 3.1545057689136646\t 3.128803856554064\n"
          ]
        }
      ],
      "source": [
        "### ESTIMATED STP ERM GRADIENTS\n",
        "\n",
        "np.random.seed(run_num_9)\n",
        "surrogate_approx_9 = dtStudentProcess(cov_func, optimize=opt, nu = df)\n",
        "\n",
        "approx_9 = GPGO_multi(surrogate_approx_9, Acquisition_grad(util), objfunc, param)\n",
        "approx_9.run(init_evals=n_init, max_iter=iters)\n"
      ]
    },
    {
      "cell_type": "code",
      "execution_count": 22,
      "metadata": {
        "id": "QQBR-qJPGCcp",
        "colab": {
          "base_uri": "https://localhost:8080/"
        },
        "outputId": "3e644d7f-a506-46bb-9829-bd4fe5f0828d"
      },
      "outputs": [
        {
          "output_type": "stream",
          "name": "stdout",
          "text": [
            "Evaluation \t Proposed point \t  Current eval. \t  Best eval. \t        Exact ERM: StdDev. x \t Approx ERM: StdDev. x \n",
            "init\t [ 2.77832339 -4.90750004]\t 55.886194099964676\t 14.855028828430257\t    \t    \n",
            "init\t [1.36855793 2.54775176]\t 14.855028828430257\t 14.855028828430257\t    \t    \n",
            "init\t [-0.01528819 -2.81808235]\t 15.883409988980564\t 14.855028828430257\t    \t    \n",
            "init\t [-3.09183626  2.66783449]\t 23.79413325191142\t 14.855028828430257\t    \t    \n",
            "init\t [-3.38830503 -4.2154003 ]\t 47.019810427389544\t 14.855028828430257\t    \t    \n",
            "1  \t [ 5.12       -0.36487521]\t 26.4806678379501\t 14.855028828430257\t 3.0330831674438925\t 3.555934160565893\n",
            "2  \t [5.12 5.12]\t 78.64320000000001\t 14.855028828430257\t 3.083440770811091\t 2.995980410739227\n",
            "3  \t [-5.12       -0.57733974]\t 26.8810423557867\t 14.855028828430257\t 2.9252767328153673\t 3.1990250263289384\n",
            "4  \t [-0.64607331  5.12      ]\t 52.84621072605039\t 14.855028828430257\t 3.153583580283764\t 3.539925048245083\n",
            "5  \t [-5.12  5.12]\t 78.64320000000001\t 14.855028828430257\t 2.550858470059148\t 3.166054211034317\n",
            "\u001b[1m\u001b[92m6\u001b[0m\t \u001b[1m\u001b[92m[-1.00609353  0.12491822]\u001b[0m\t \u001b[1m\u001b[92m1.0434333233921715\u001b[0m\t \u001b[1m\u001b[92m1.0434333233921715\u001b[0m\t \u001b[1m\u001b[92m2.9783028438115307\u001b[0m\t \u001b[1m\u001b[92m2.8955894232841546\u001b[0m\n",
            "7  \t [ 1.87741605 -0.48874508]\t 4.0024345403959405\t 1.0434333233921715\t 2.5898098788424413\t 2.7371963639597707\n",
            "8  \t [-2.36420897 -1.21264174]\t 8.530484052779673\t 1.0434333233921715\t 3.044554911534393\t 3.1560493360185493\n",
            "9  \t [ 5.12       -3.18655951]\t 46.522722981774464\t 1.0434333233921715\t 2.8423401509511317\t 3.2562074563415737\n",
            "10 \t [3.98116834 2.126234  ]\t 24.891443426029554\t 1.0434333233921715\t 3.281482958774804\t 3.4877665725407843\n",
            "11 \t [-0.4902385 -5.12     ]\t 52.66913378344941\t 1.0434333233921715\t 2.7602289358350514\t 3.0522583202756137\n",
            "12 \t [2.17435026 5.12      ]\t 57.156599045627274\t 1.0434333233921715\t 2.9054298136420242\t 3.02177254551443\n",
            "13 \t [-0.71791528  1.77766661]\t 6.835599473540118\t 1.0434333233921715\t 2.6990124491724803\t 2.758192952463101\n",
            "14 \t [ 2.45097771 -2.0719282 ]\t 14.593064683095932\t 1.0434333233921715\t 2.655771705212238\t 2.8333607199442996\n",
            "15 \t [-5.12        1.89271965]\t 33.37917537712527\t 1.0434333233921715\t 2.643429005331933\t 2.896476841537806\n",
            "\u001b[1m\u001b[92m16\u001b[0m\t \u001b[1m\u001b[92m[0.43711856 0.01034923]\u001b[0m\t \u001b[1m\u001b[92m0.19128684666434115\u001b[0m\t \u001b[1m\u001b[92m0.19128684666434115\u001b[0m\t \u001b[1m\u001b[92m2.721472230828508\u001b[0m\t \u001b[1m\u001b[92m2.2288302908603757\u001b[0m\n",
            "17 \t [-2.86644954  5.12      ]\t 60.64533294668592\t 0.19128684666434115\t 2.820651287664662\t 3.281746195116594\n",
            "18 \t [-5.12       -2.78000984]\t 41.671309443743944\t 0.19128684666434115\t 2.7221211513662\t 2.627442633488493\n",
            "19 \t [ 5.12 -5.12]\t 78.64320000000001\t 0.19128684666434115\t 2.6385801856680087\t 2.7232628383449207\n",
            "20 \t [-2.67494657  0.53749574]\t 7.733142484509976\t 0.19128684666434115\t 2.348656116270996\t 2.487629695311674\n"
          ]
        }
      ],
      "source": [
        "### ESTIMATED STP ERM GRADIENTS\n",
        "\n",
        "np.random.seed(run_num_10)\n",
        "surrogate_approx_10 = dtStudentProcess(cov_func, optimize=opt, nu = df)\n",
        "\n",
        "approx_10 = GPGO_multi(surrogate_approx_10, Acquisition_grad(util), objfunc, param)\n",
        "approx_10.run(init_evals=n_init, max_iter=iters)\n"
      ]
    },
    {
      "cell_type": "code",
      "execution_count": 23,
      "metadata": {
        "id": "JS8ejeQ2GCfi",
        "colab": {
          "base_uri": "https://localhost:8080/"
        },
        "outputId": "dd4d41d2-f330-4760-de24-1515df832ce2"
      },
      "outputs": [
        {
          "output_type": "stream",
          "name": "stdout",
          "text": [
            "Evaluation \t Proposed point \t  Current eval. \t  Best eval. \t        Exact ERM: StdDev. x \t Approx ERM: StdDev. x \n",
            "init\t [-3.27403839 -4.92057353]\t 59.14341502486697\t 0.7122141741228657\t    \t    \n",
            "init\t [-0.37664229  2.30332343]\t 10.752457105378047\t 0.7122141741228657\t    \t    \n",
            "init\t [-0.81711509 -0.14922651]\t 0.7122141741228657\t 0.7122141741228657\t    \t    \n",
            "init\t [-4.98912446 -0.12931474]\t 24.924807467825406\t 0.7122141741228657\t    \t    \n",
            "init\t [4.52410012 3.59214172]\t 46.27444610017016\t 0.7122141741228657\t    \t    \n",
            "1  \t [ 3.03550212 -4.46785095]\t 49.13765732819627\t 0.7122141741228657\t 2.8927933740127956\t 3.819299798987514\n",
            "2  \t [-4.95826429  5.12      ]\t 77.01318477619444\t 0.7122141741228657\t 2.249406542652051\t 3.484960167210532\n",
            "3  \t [ 5.12       -0.69369872]\t 27.176835828890532\t 0.7122141741228657\t 2.6356378988585414\t 3.2406972206329483\n",
            "4  \t [1.01973696 5.12      ]\t 53.46866347406516\t 0.7122141741228657\t 2.5710543081072226\t 2.539805541269234\n",
            "5  \t [-0.19578057 -2.5718501 ]\t 13.2671558533767\t 0.7122141741228657\t 2.661190490479511\t 2.237264516976221\n",
            "6  \t [1.86822521 0.14927967]\t 3.53483426896904\t 0.7122141741228657\t 2.8463918500347716\t 2.792096745015694\n",
            "7  \t [-3.05357852  2.22330208]\t 19.210486059843532\t 0.7122141741228657\t 3.102063832738381\t 3.3274064495834117\n",
            "8  \t [-0.03852386 -5.12      ]\t 52.430284087578336\t 0.7122141741228657\t 2.6924969142285775\t 2.830595718643216\n",
            "9  \t [-2.57551796 -1.53745454]\t 11.360825666473291\t 0.7122141741228657\t 3.232189349628545\t 3.1029797000463586\n",
            "10 \t [-1.8945869  5.12     ]\t 56.0182595142673\t 0.7122141741228657\t 2.597657438923045\t 3.30854869497305\n",
            "11 \t [-5.12       -2.76857549]\t 41.54442051124679\t 0.7122141741228657\t 2.6748148653221113\t 2.9674565147324894\n",
            "12 \t [2.08728746 2.05785902]\t 12.826336444992432\t 0.7122141741228657\t 2.6415343806392064\t 2.3384808442611216\n",
            "13 \t [ 2.29712666 -1.6575241 ]\t 10.771563199036478\t 0.7122141741228657\t 2.650478931627861\t 2.219983788507328\n",
            "14 \t [ 5.12       -3.18786202]\t 46.53932849877289\t 0.7122141741228657\t 2.51260415639348\t 2.8180972097689723\n",
            "15 \t [-5.12     2.25239]\t 36.360921430037585\t 0.7122141741228657\t 2.797003399220156\t 2.92619116502665\n",
            "\u001b[1m\u001b[92m16\u001b[0m\t \u001b[1m\u001b[92m[ 0.46895763 -0.35638772]\u001b[0m\t \u001b[1m\u001b[92m0.4739456760719381\u001b[0m\t \u001b[1m\u001b[92m0.4739456760719381\u001b[0m\t \u001b[1m\u001b[92m3.0417052466831267\u001b[0m\t \u001b[1m\u001b[92m2.1888888370879194\u001b[0m\n",
            "17 \t [-2.13656013  0.40703789]\t 4.896248887425332\t 0.4739456760719381\t 2.286169599580444\t 2.2261178616707045\n",
            "18 \t [3.7674291  1.00165518]\t 16.200148219171528\t 0.4739456760719381\t 2.3093459975281982\t 2.4837116179069456\n",
            "19 \t [3.19894318 5.12      ]\t 62.66203749694215\t 0.4739456760719381\t 2.7651524665553775\t 2.7753528478004634\n",
            "20 \t [ 5.12 -5.12]\t 78.64320000000001\t 0.4739456760719381\t 2.8857925397608315\t 3.1150228952818826\n"
          ]
        }
      ],
      "source": [
        "### ESTIMATED STP ERM GRADIENTS\n",
        "\n",
        "np.random.seed(run_num_11)\n",
        "surrogate_approx_11 = dtStudentProcess(cov_func, optimize=opt, nu = df)\n",
        "\n",
        "approx_11 = GPGO_multi(surrogate_approx_11, Acquisition_grad(util), objfunc, param)\n",
        "approx_11.run(init_evals=n_init, max_iter=iters)\n"
      ]
    },
    {
      "cell_type": "code",
      "execution_count": 24,
      "metadata": {
        "id": "DXwjUVZ4GCii",
        "colab": {
          "base_uri": "https://localhost:8080/"
        },
        "outputId": "054baf91-90ce-4c65-a73c-0a33fb36818b"
      },
      "outputs": [
        {
          "output_type": "stream",
          "name": "stdout",
          "text": [
            "Evaluation \t Proposed point \t  Current eval. \t  Best eval. \t        Exact ERM: StdDev. x \t Approx ERM: StdDev. x \n",
            "init\t [-3.54137249  2.45810889]\t 24.62591779447066\t 6.112828495563743\t    \t    \n",
            "init\t [-2.42365424  0.34549139]\t 6.112828495563743\t 6.112828495563743\t    \t    \n",
            "init\t [-4.97075238  4.28796936]\t 61.48174177959852\t 6.112828495563743\t    \t    \n",
            "init\t [ 4.10332011 -4.77776458]\t 62.49130467854858\t 6.112828495563743\t    \t    \n",
            "init\t [ 4.6791612  -3.71497655]\t 49.4966510918416\t 6.112828495563743\t    \t    \n",
            "1  \t [5.12       4.01106059]\t 58.39161412819894\t 6.112828495563743\t 3.4735396927830475\t 3.6662405470824897\n",
            "2  \t [-5.12       -4.13593234]\t 60.426272658013275\t 6.112828495563743\t 3.3727912445838895\t 3.1904094168752755\n",
            "3  \t [0.33048425 5.12      ]\t 52.53801983988025\t 6.112828495563743\t 2.6286250911390687\t 2.928558244830129\n",
            "\u001b[1m\u001b[92m4\u001b[0m\t \u001b[1m\u001b[92m[1.93382422 0.22056493]\u001b[0m\t \u001b[1m\u001b[92m3.836973888802303\u001b[0m\t \u001b[1m\u001b[92m3.836973888802303\u001b[0m\t \u001b[1m\u001b[92m2.903927506998201\u001b[0m\t \u001b[1m\u001b[92m2.6018775673113415\u001b[0m\n",
            "5  \t [-0.54527029 -5.12      ]\t 52.72611969404128\t 3.836973888802303\t 3.024102450129404\t 2.8411372500955205\n",
            "6  \t [5.12       0.06598223]\t 26.223107309379337\t 3.836973888802303\t 2.962040614320689\t 2.6505346645946504\n",
            "7  \t [-0.17401808 -1.56141215]\t 4.906298119196496\t 3.836973888802303\t 2.797228746962404\t 2.2494130195417554\n",
            "8  \t [-5.12       -0.52394273]\t 26.763431975963766\t 3.836973888802303\t 2.8955208682105575\t 2.816801637464945\n",
            "9  \t [-0.06618169  1.73416705]\t 6.01905075888055\t 3.836973888802303\t 2.7479892569653157\t 2.316104677116198\n",
            "10 \t [-2.41659174 -2.2935049 ]\t 16.36024508404788\t 3.836973888802303\t 2.661777211375468\t 2.821998549163507\n",
            "11 \t [ 1.95702115 -2.18089797]\t 13.342563665436657\t 3.836973888802303\t 2.5994287541046313\t 2.9116185831148362\n",
            "12 \t [2.37185472 2.44150296]\t 17.547568274322906\t 3.836973888802303\t 2.4949394109787306\t 2.551486329623071\n",
            "\u001b[1m\u001b[92m13\u001b[0m\t \u001b[1m\u001b[92m[-0.3924392   0.05879922]\u001b[0m\t \u001b[1m\u001b[92m0.16092321935308515\u001b[0m\t \u001b[1m\u001b[92m0.16092321935308515\u001b[0m\t \u001b[1m\u001b[92m2.861510044394577\u001b[0m\t \u001b[1m\u001b[92m2.6523837148491007\u001b[0m\n",
            "14 \t [-2.3429506  5.12     ]\t 57.918217524601225\t 0.16092321935308515\t 2.587713956776774\t 2.763298024028116\n",
            "15 \t [2.86035098 5.12      ]\t 60.610407747380535\t 0.16092321935308515\t 2.833972865180439\t 3.1231010646884556\n",
            "16 \t [-2.93259081 -5.12      ]\t 61.02888883508907\t 0.16092321935308515\t 2.819151734530914\t 2.677158182933904\n",
            "17 \t [-1.34432758  2.50471459]\t 14.354407014361623\t 0.16092321935308515\t 2.3334551837514352\t 2.346183502342283\n",
            "18 \t [-4.46343513  0.92580287]\t 21.636475068177816\t 0.16092321935308515\t 3.1565622030473524\t 3.21070134301966\n",
            "19 \t [ 3.28847087 -0.95072392]\t 12.621792572178343\t 0.16092321935308515\t 2.6089771557395762\t 2.5523233835251746\n",
            "20 \t [ 1.62241435 -4.14054395]\t 36.92043665501394\t 0.16092321935308515\t 2.629359823367755\t 2.5188577567053203\n"
          ]
        }
      ],
      "source": [
        "### ESTIMATED STP ERM GRADIENTS\n",
        "\n",
        "np.random.seed(run_num_12)\n",
        "surrogate_approx_12 = dtStudentProcess(cov_func, optimize=opt, nu = df)\n",
        "\n",
        "approx_12 = GPGO_multi(surrogate_approx_12, Acquisition_grad(util), objfunc, param)\n",
        "approx_12.run(init_evals=n_init, max_iter=iters)\n"
      ]
    },
    {
      "cell_type": "code",
      "execution_count": 25,
      "metadata": {
        "id": "CphOPndPGClX",
        "colab": {
          "base_uri": "https://localhost:8080/"
        },
        "outputId": "36d17761-c288-452d-b59f-9232a24d89fa"
      },
      "outputs": [
        {
          "output_type": "stream",
          "name": "stdout",
          "text": [
            "Evaluation \t Proposed point \t  Current eval. \t  Best eval. \t        Exact ERM: StdDev. x \t Approx ERM: StdDev. x \n",
            "init\t [ 2.84367268 -2.68757791]\t 22.532624345992815\t 12.440151302029248\t    \t    \n",
            "init\t [3.32061217 4.76927179]\t 56.51837198799\t 12.440151302029248\t    \t    \n",
            "init\t [ 4.83943541 -0.47667971]\t 23.87458213765974\t 12.440151302029248\t    \t    \n",
            "init\t [1.11659482 2.82139151]\t 17.16728408945556\t 12.440151302029248\t    \t    \n",
            "init\t [1.45012065 2.27346667]\t 12.440151302029248\t 12.440151302029248\t    \t    \n",
            "1  \t [-4.10876704 -2.60547476]\t 30.458964016081993\t 12.440151302029248\t 3.3599409053271128\t 3.1480400961229407\n",
            "2  \t [-5.12        2.95691593]\t 43.701103620297054\t 12.440151302029248\t 3.300072078453558\t 3.5436581198374393\n",
            "3  \t [-0.61615093 -5.12      ]\t 52.808441967580585\t 12.440151302029248\t 2.997037770928737\t 2.9023776550375513\n",
            "4  \t [-1.75688978  5.12      ]\t 55.515461690406674\t 12.440151302029248\t 2.7486027347320587\t 2.8865631961233054\n",
            "\u001b[1m\u001b[92m5\u001b[0m\t \u001b[1m\u001b[92m[-0.72195126 -0.64062412]\u001b[0m\t \u001b[1m\u001b[92m1.3420121420971585\u001b[0m\t \u001b[1m\u001b[92m1.3420121420971585\u001b[0m\t \u001b[1m\u001b[92m3.3113789264161078\u001b[0m\t \u001b[1m\u001b[92m3.5363697696590317\u001b[0m\n",
            "6  \t [ 5.12 -5.12]\t 78.64320000000001\t 1.3420121420971585\t 2.9204523522855874\t 2.878495969207233\n",
            "7  \t [-2.13410857  1.2307136 ]\t 7.583731330559772\t 1.3420121420971585\t 2.9461177838449464\t 3.051215431579104\n",
            "8  \t [-5.12 -5.12]\t 78.64320000000001\t 1.3420121420971585\t 3.3538878442651763\t 3.503292037993548\n",
            "9  \t [5.12       2.30885039]\t 36.87598027127895\t 1.3420121420971585\t 2.82349432299114\t 3.199627939609406\n",
            "10 \t [ 1.37246383 -0.26068054]\t 2.0195656640539914\t 1.3420121420971585\t 2.6759611903977554\t 2.816158722339467\n",
            "11 \t [-5.12       -0.01556129]\t 26.214884307313607\t 1.3420121420971585\t 2.87728395004762\t 3.20146884081333\n",
            "12 \t [ 0.0508053  -2.24524931]\t 10.084870112674647\t 1.3420121420971585\t 2.7604599798534735\t 2.07953450565412\n",
            "13 \t [ 2.13304164 -5.12      ]\t 56.97866664794089\t 1.3420121420971585\t 2.6661016629488685\t 3.0268518185711315\n",
            "14 \t [-2.30053572 -0.92616794]\t 7.008038718496292\t 1.3420121420971585\t 2.5544855199285514\t 2.0003158297647103\n",
            "15 \t [-0.16907045  0.85948212]\t 1.5060038294270186\t 1.3420121420971585\t 2.625463731358338\t 3.4836029622899947\n",
            "16 \t [2.74912312 0.67325167]\t 8.464213564307872\t 1.3420121420971585\t 2.4890603109241605\t 2.6623262940846506\n",
            "17 \t [0.78134632 5.12      ]\t 53.039302070655374\t 1.3420121420971585\t 3.652688299417576\t 3.812668950030649\n",
            "18 \t [-5.12  5.12]\t 78.64320000000001\t 1.3420121420971585\t 2.111696070762993\t 2.1282537848230243\n",
            "19 \t [-1.08718067  2.55885336]\t 14.277422833752132\t 1.3420121420971585\t 2.909346152914708\t 2.603614845852971\n",
            "20 \t [-1.9214908  -3.24748823]\t 24.78448651562772\t 1.3420121420971585\t 3.2164773328543754\t 3.2511490861678736\n"
          ]
        }
      ],
      "source": [
        "### ESTIMATED STP ERM GRADIENTS\n",
        "\n",
        "np.random.seed(run_num_13)\n",
        "surrogate_approx_13 = dtStudentProcess(cov_func, optimize=opt, nu = df)\n",
        "\n",
        "approx_13 = GPGO_multi(surrogate_approx_13, Acquisition_grad(util), objfunc, param)\n",
        "approx_13.run(init_evals=n_init, max_iter=iters)\n"
      ]
    },
    {
      "cell_type": "code",
      "execution_count": 26,
      "metadata": {
        "id": "ojHTeARNGCoi",
        "colab": {
          "base_uri": "https://localhost:8080/"
        },
        "outputId": "2b701d5e-3f12-433d-9299-d0c7ef514b89"
      },
      "outputs": [
        {
          "output_type": "stream",
          "name": "stdout",
          "text": [
            "Evaluation \t Proposed point \t  Current eval. \t  Best eval. \t        Exact ERM: StdDev. x \t Approx ERM: StdDev. x \n",
            "init\t [0.14277984 2.79721013]\t 15.669155142359655\t 6.942951853664133\t    \t    \n",
            "init\t [ 3.7931795  -5.03759925]\t 65.14302308089468\t 6.942951853664133\t    \t    \n",
            "init\t [-1.94830412  4.68586229]\t 47.71049977745547\t 6.942951853664133\t    \t    \n",
            "init\t [ 0.13431513 -1.86076749]\t 6.942951853664133\t 6.942951853664133\t    \t    \n",
            "init\t [ 0.40140736 -2.85434939]\t 16.455748743182696\t 6.942951853664133\t    \t    \n",
            "1  \t [-4.87030094 -5.12      ]\t 76.14863121310593\t 6.942951853664133\t 4.058597440761668\t 3.8258469227289162\n",
            "2  \t [5.10657096 5.12      ]\t 78.50586692470584\t 6.942951853664133\t 3.7703393616836354\t 3.893285869747512\n",
            "3  \t [-5.12        0.36387576]\t 26.479211138474923\t 6.942951853664133\t 2.8970021274078737\t 3.6690030294816545\n",
            "4  \t [ 5.12       -0.06564663]\t 26.223018958802918\t 6.942951853664133\t 2.965475333003732\t 3.3201579024612515\n",
            "\u001b[1m\u001b[92m5\u001b[0m\t \u001b[1m\u001b[92m[-1.76055542  0.08657275]\u001b[0m\t \u001b[1m\u001b[92m3.1145450805772263\u001b[0m\t \u001b[1m\u001b[92m3.1145450805772263\u001b[0m\t \u001b[1m\u001b[92m2.665897998728045\u001b[0m\t \u001b[1m\u001b[92m2.4420165208875453\u001b[0m\n",
            "6  \t [-5.12  5.12]\t 78.64320000000001\t 3.1145450805772263\t 2.658633668508905\t 2.842390040635974\n",
            "7  \t [1.87846863 0.23318431]\t 3.6373942397960786\t 3.1145450805772263\t 2.4928120222342\t 2.417159780730706\n",
            "8  \t [-1.31939357 -5.12      ]\t 54.16959940511687\t 3.1145450805772263\t 3.207929469248646\t 2.8459466958977777\n",
            "9  \t [1.66779072 5.12      ]\t 55.21032587677013\t 3.1145450805772263\t 2.6192318144408655\t 2.5563454553288834\n",
            "10 \t [-3.04144339 -2.06288793]\t 17.761391083422666\t 3.1145450805772263\t 2.759811522222718\t 2.662871201365196\n",
            "11 \t [3.25492359 2.21178957]\t 20.378553797477693\t 3.1145450805772263\t 3.1052533819914157\t 3.110869452370134\n",
            "12 \t [ 2.97459638 -1.90492347]\t 16.105690439490893\t 3.1145450805772263\t 2.3612829420763193\t 2.9315772759509815\n",
            "13 \t [-2.85332157  1.89693108]\t 15.338139029901171\t 3.1145450805772263\t 2.626707826139887\t 3.2421998286013096\n",
            "\u001b[1m\u001b[92m14\u001b[0m\t \u001b[1m\u001b[92m[0.02880356 0.26528449]\u001b[0m\t \u001b[1m\u001b[92m0.14158136155170203\u001b[0m\t \u001b[1m\u001b[92m0.14158136155170203\u001b[0m\t \u001b[1m\u001b[92m2.521597932556295\u001b[0m\t \u001b[1m\u001b[92m2.8081246778000457\u001b[0m\n",
            "15 \t [ 5.12       -2.62324622]\t 39.97724142459112\t 0.14158136155170203\t 2.4763146251459944\t 2.887272350808717\n",
            "16 \t [-5.12       -2.18872982]\t 35.79547642424458\t 0.14158136155170203\t 2.7331444647740732\t 3.309746718035316\n",
            "17 \t [ 1.22495112 -5.12      ]\t 53.92930524586858\t 0.14158136155170203\t 2.503425484453025\t 2.926702063416215\n",
            "18 \t [-4.51139539  3.11803146]\t 39.79692867221928\t 0.14158136155170203\t 2.641265228400214\t 2.8048480226216883\n",
            "19 \t [5.12       2.89359584]\t 42.96019378468612\t 0.14158136155170203\t 2.81870729714253\t 2.9942009806438628\n",
            "20 \t [-1.17026811 -1.15628864]\t 4.043534267247769\t 0.14158136155170203\t 2.5188997462317704\t 2.1633902864152046\n"
          ]
        }
      ],
      "source": [
        "### ESTIMATED STP ERM GRADIENTS\n",
        "\n",
        "np.random.seed(run_num_14)\n",
        "surrogate_approx_14 = dtStudentProcess(cov_func, optimize=opt, nu = df)\n",
        "\n",
        "approx_14 = GPGO_multi(surrogate_approx_14, Acquisition_grad(util), objfunc, param)\n",
        "approx_14.run(init_evals=n_init, max_iter=iters)\n"
      ]
    },
    {
      "cell_type": "code",
      "execution_count": 27,
      "metadata": {
        "id": "vCJzn4vWGCs3",
        "colab": {
          "base_uri": "https://localhost:8080/"
        },
        "outputId": "20013fb9-0a4d-4de4-906b-f1b1a8b23434"
      },
      "outputs": [
        {
          "output_type": "stream",
          "name": "stdout",
          "text": [
            "Evaluation \t Proposed point \t  Current eval. \t  Best eval. \t        Exact ERM: StdDev. x \t Approx ERM: StdDev. x \n",
            "init\t [ 3.57189322 -3.28810573]\t 34.38169974295086\t 5.478261179905657\t    \t    \n",
            "init\t [-4.56332069 -1.41784631]\t 24.84447200795673\t 5.478261179905657\t    \t    \n",
            "init\t [-2.29989449  0.3072023 ]\t 5.478261179905657\t 5.478261179905657\t    \t    \n",
            "init\t [-1.9873903  -2.00218256]\t 11.967190241167383\t 5.478261179905657\t    \t    \n",
            "init\t [-3.97576933 -2.5610341 ]\t 28.924533081850157\t 5.478261179905657\t    \t    \n",
            "1  \t [2.7754098  2.98802689]\t 25.55950900004833\t 5.478261179905657\t 3.243508745925752\t 3.6840557560793066\n",
            "2  \t [-5.12        4.70132479]\t 70.41930961031005\t 5.478261179905657\t 2.902337615076261\t 3.849398653015713\n",
            "3  \t [-0.73916313  5.12      ]\t 52.97516213025971\t 5.478261179905657\t 3.3960684808564108\t 3.9241835683842474\n",
            "4  \t [-0.10753552 -5.12      ]\t 52.440363887508475\t 5.478261179905657\t 2.790413364255119\t 2.6907768608617224\n",
            "5  \t [5.12       0.17751819]\t 26.277425415534637\t 5.478261179905657\t 3.2842490223135936\t 3.5041465359265316\n",
            "\u001b[1m\u001b[92m6\u001b[0m\t \u001b[1m\u001b[92m[ 1.07568315 -0.32307751]\u001b[0m\t \u001b[1m\u001b[92m1.3658524000571672\u001b[0m\t \u001b[1m\u001b[92m1.3658524000571672\u001b[0m\t \u001b[1m\u001b[92m3.4546727757682305\u001b[0m\t \u001b[1m\u001b[92m3.8749732284945297\u001b[0m\n",
            "7  \t [5.12 5.12]\t 78.64320000000001\t 1.3658524000571672\t 3.0317570007879557\t 3.399079361971547\n",
            "8  \t [-5.12 -5.12]\t 78.64320000000001\t 1.3658524000571672\t 3.396538706881917\t 3.516694765547194\n",
            "9  \t [-0.20207249  1.71693417]\t 5.93655916442063\t 1.3658524000571672\t 2.0065951279517598\t 2.767127676439043\n",
            "10 \t [-5.12        1.39673374]\t 30.116130289627524\t 1.3658524000571672\t 2.3445370973658655\t 2.98926726291286\n",
            "11 \t [ 0.69082796 -2.15339492]\t 9.75146259514157\t 1.3658524000571672\t 2.359368221008049\t 2.8571000796527284\n",
            "12 \t [-2.46895457  2.6195594 ]\t 19.819919610925254\t 1.3658524000571672\t 2.429229804463201\t 3.0488800759918524\n",
            "13 \t [ 5.12 -5.12]\t 78.64320000000001\t 1.3658524000571672\t 2.801687962296524\t 3.510647205298672\n",
            "14 \t [2.63605168 0.09148428]\t 6.965507205184821\t 1.3658524000571672\t 2.5175155271261587\t 3.0763970247522314\n",
            "15 \t [1.99620102 5.12      ]\t 56.413618516219294\t 1.3658524000571672\t 2.2453684562844582\t 2.9373493980498337\n",
            "\u001b[1m\u001b[92m16\u001b[0m\t \u001b[1m\u001b[92m[-0.54254782 -0.25040202]\u001b[0m\t \u001b[1m\u001b[92m0.419760483455597\u001b[0m\t \u001b[1m\u001b[92m0.419760483455597\u001b[0m\t \u001b[1m\u001b[92m3.134548441222128\u001b[0m\t \u001b[1m\u001b[92m2.6105718014676604\u001b[0m\n",
            "17 \t [-2.58587261 -4.696579  ]\t 50.802445739811446\t 0.419760483455597\t 2.583331319150506\t 3.3452038440387426\n",
            "18 \t [5.12       2.53499339]\t 39.066782934631945\t 0.419760483455597\t 2.948689998040756\t 2.8741951504919188\n",
            "19 \t [1.30499117 1.27329109]\t 4.945542376058472\t 0.419760483455597\t 2.6114247670564383\t 2.532695976272412\n",
            "20 \t [ 2.30351343 -5.12      ]\t 57.734974109344776\t 0.419760483455597\t 2.3919909447675467\t 2.6772624660119817\n"
          ]
        }
      ],
      "source": [
        "### ESTIMATED STP ERM GRADIENTS\n",
        "\n",
        "np.random.seed(run_num_15)\n",
        "surrogate_approx_15 = dtStudentProcess(cov_func, optimize=opt, nu = df)\n",
        "\n",
        "approx_15 = GPGO_multi(surrogate_approx_15, Acquisition_grad(util), objfunc, param)\n",
        "approx_15.run(init_evals=n_init, max_iter=iters)\n"
      ]
    },
    {
      "cell_type": "code",
      "execution_count": 28,
      "metadata": {
        "id": "bGGkhp-kGCw6",
        "colab": {
          "base_uri": "https://localhost:8080/"
        },
        "outputId": "ff6ed5d5-f9c4-43a0-a56a-dc2b55296e9d"
      },
      "outputs": [
        {
          "output_type": "stream",
          "name": "stdout",
          "text": [
            "Evaluation \t Proposed point \t  Current eval. \t  Best eval. \t        Exact ERM: StdDev. x \t Approx ERM: StdDev. x \n",
            "init\t [-2.83349935  0.23719262]\t 8.141239237549925\t 8.141239237549925\t    \t    \n",
            "init\t [ 0.51918292 -4.65303603]\t 43.571039504503474\t 8.141239237549925\t    \t    \n",
            "init\t [-1.42613673 -2.83565116]\t 18.11570093066862\t 8.141239237549925\t    \t    \n",
            "init\t [ 1.9325559  -3.44339021]\t 27.448644544199137\t 8.141239237549925\t    \t    \n",
            "init\t [-4.39987336  4.51595121]\t 60.146516261103784\t 8.141239237549925\t    \t    \n",
            "1  \t [2.142749   4.83374619]\t 51.32157765102846\t 8.141239237549925\t 3.6920453542915657\t 3.897129469107269\n",
            "2  \t [5.12       0.51431815]\t 26.743446319201432\t 8.141239237549925\t 3.2629150140698457\t 3.3634494028144553\n",
            "3  \t [-5.12 -5.12]\t 78.64320000000001\t 8.141239237549925\t 3.35614761346091\t 3.769337521825931\n",
            "\u001b[1m\u001b[92m4\u001b[0m\t \u001b[1m\u001b[92m[0.94267794 0.71455483]\u001b[0m\t \u001b[1m\u001b[92m1.9098189242670478\u001b[0m\t \u001b[1m\u001b[92m1.9098189242670478\u001b[0m\t \u001b[1m\u001b[92m2.986584290693934\u001b[0m\t \u001b[1m\u001b[92m2.9545523364944377\u001b[0m\n",
            "5  \t [ 5.12 -5.12]\t 78.64320000000001\t 1.9098189242670478\t 2.715200438199831\t 2.77090365349684\n",
            "6  \t [-0.98790263  2.88990984]\t 17.679109412006216\t 1.9098189242670478\t 3.7722092898244015\t 3.57029405729149\n",
            "7  \t [-5.12       -1.37507616]\t 29.996068901807757\t 1.9098189242670478\t 2.955376138621657\t 2.656007608868714\n",
            "8  \t [5.12       3.82423951]\t 55.46401562816078\t 1.9098189242670478\t 2.655635714046146\t 2.79531929370774\n",
            "9  \t [ 2.48058417 -0.66907283]\t 7.048614734383381\t 1.9098189242670478\t 2.7462066106879033\t 2.8042837855982237\n",
            "10 \t [-5.12        1.53343264]\t 30.917231342397415\t 1.9098189242670478\t 2.8606448004223135\t 3.24648459482071\n",
            "11 \t [ 5.12       -2.09015552]\t 34.95190016625523\t 1.9098189242670478\t 2.9591641616632907\t 2.9412937927692955\n",
            "\u001b[1m\u001b[92m12\u001b[0m\t \u001b[1m\u001b[92m[-0.50968813 -0.42930856]\u001b[0m\t \u001b[1m\u001b[92m0.6283936645666649\u001b[0m\t \u001b[1m\u001b[92m0.6283936645666649\u001b[0m\t \u001b[1m\u001b[92m2.910021280471538\u001b[0m\t \u001b[1m\u001b[92m2.7401767174797667\u001b[0m\n",
            "13 \t [2.48421185 1.83820201]\t 12.92928174855189\t 0.6283936645666649\t 2.5752866297883257\t 2.5943138029368447\n",
            "14 \t [-1.19703957  5.12      ]\t 53.861703724635625\t 0.6283936645666649\t 2.6493476801564064\t 2.4775031655235287\n",
            "15 \t [ 0.67573842 -1.30659997]\t 3.8710293812715957\t 0.6283936645666649\t 2.288704966778226\t 2.498658809049134\n",
            "16 \t [-2.20472379 -5.12      ]\t 57.28960700695359\t 0.6283936645666649\t 2.489333963737516\t 2.0271079736127184\n",
            "17 \t [-0.90077534  0.90828317]\t 2.4613528586009745\t 0.6283936645666649\t 2.8937643021307595\t 2.672844855764125\n",
            "18 \t [-2.77963838  2.11349734]\t 16.660131537997746\t 0.6283936645666649\t 2.812338605048685\t 2.60066375672078\n",
            "19 \t [-2.70903121 -1.45939448]\t 11.598514566785244\t 0.6283936645666649\t 2.2106104111328992\t 2.2948577998895727\n",
            "20 \t [0.85814799 2.64597207]\t 14.738754336898369\t 0.6283936645666649\t 3.0523765225200203\t 3.1460988514188357\n"
          ]
        }
      ],
      "source": [
        "### ESTIMATED STP ERM GRADIENTS\n",
        "\n",
        "np.random.seed(run_num_16)\n",
        "surrogate_approx_16 = dtStudentProcess(cov_func, optimize=opt, nu = df)\n",
        "\n",
        "approx_16 = GPGO_multi(surrogate_approx_16, Acquisition_grad(util), objfunc, param)\n",
        "approx_16.run(init_evals=n_init, max_iter=iters)\n"
      ]
    },
    {
      "cell_type": "code",
      "execution_count": 29,
      "metadata": {
        "id": "Yrs2mp7hGC1Z",
        "colab": {
          "base_uri": "https://localhost:8080/"
        },
        "outputId": "feec60b9-3db3-4adb-be17-dee8615bf0a3"
      },
      "outputs": [
        {
          "output_type": "stream",
          "name": "stdout",
          "text": [
            "Evaluation \t Proposed point \t  Current eval. \t  Best eval. \t        Exact ERM: StdDev. x \t Approx ERM: StdDev. x \n",
            "init\t [-2.10263037  0.31320838]\t 4.617253458637031\t 3.1817562258207746\t    \t    \n",
            "init\t [-3.15882714 -4.42470033]\t 49.134134969019556\t 3.1817562258207746\t    \t    \n",
            "init\t [2.93873111 1.60085526]\t 13.761615685279608\t 3.1817562258207746\t    \t    \n",
            "init\t [1.40821398 0.77417363]\t 3.1817562258207746\t 3.1817562258207746\t    \t    \n",
            "init\t [-4.71999574 -1.45598869]\t 26.518165900202685\t 3.1817562258207746\t    \t    \n",
            "1  \t [ 4.96008736 -4.44720822]\t 64.15778856025273\t 3.1817562258207746\t 3.1847565881062545\t 4.350774880537536\n",
            "2  \t [-5.09684882  4.55041766]\t 67.39046955189836\t 3.1817562258207746\t 3.277317965384391\t 3.470641599652139\n",
            "3  \t [-0.07642269  5.12      ]\t 52.43464042788229\t 3.1817562258207746\t 3.084681434469267\t 3.2755372258677236\n",
            "4  \t [5.12 5.12]\t 78.64320000000001\t 3.1817562258207746\t 3.438782867057008\t 3.378590467865682\n",
            "5  \t [ 0.86743125 -2.7610002 ]\t 15.998681192014992\t 3.1817562258207746\t 2.8178700521777515\t 2.906688206809128\n",
            "6  \t [ 5.12       -0.69622527]\t 27.183859255400534\t 3.1817562258207746\t 2.587260942688237\t 2.72152748436554\n",
            "7  \t [-2.2601226   2.64233955]\t 19.072070710747525\t 3.1817562258207746\t 2.7768642215763455\t 2.216790516300747\n",
            "8  \t [ 0.1109958 -5.12     ]\t 52.441120068219\t 3.1817562258207746\t 3.304762640485538\t 3.1969621833708666\n",
            "9  \t [-5.12        1.33830219]\t 29.796505516361908\t 3.1817562258207746\t 3.246634649503649\t 3.0978243738257056\n",
            "10 \t [-1.48174863 -1.67988749]\t 7.83962299720322\t 3.1817562258207746\t 2.4757596755102655\t 2.4586164445202945\n",
            "11 \t [ 2.47211666 -1.09546063]\t 8.511428766755941\t 3.1817562258207746\t 2.9747877817746864\t 2.7260476228050745\n",
            "12 \t [0.16879957 2.02542247]\t 8.233165624091985\t 3.1817562258207746\t 2.576046458595963\t 2.4983978364198904\n",
            "13 \t [5.12       2.06555062]\t 34.74739875642336\t 3.1817562258207746\t 2.1821739346530067\t 2.5331535323556844\n",
            "14 \t [2.37517348 3.86256532]\t 35.48027074217748\t 3.1817562258207746\t 2.256813219244021\t 2.8825477841603853\n",
            "\u001b[1m\u001b[92m15\u001b[0m\t \u001b[1m\u001b[92m[-0.01070789 -0.24456143]\u001b[0m\t \u001b[1m\u001b[92m0.1197352464201856\u001b[0m\t \u001b[1m\u001b[92m0.1197352464201856\u001b[0m\t \u001b[1m\u001b[92m2.5279717452516346\u001b[0m\t \u001b[1m\u001b[92m2.586252445751335\u001b[0m\n",
            "16 \t [ 2.55477549 -5.12      ]\t 58.95567781918477\t 0.1197352464201856\t 2.154841806603227\t 2.1908828700074046\n",
            "17 \t [-2.60786304  5.12      ]\t 59.22974965451905\t 0.1197352464201856\t 2.6920627996673483\t 3.7234210123390543\n",
            "18 \t [-5.12 -5.12]\t 78.64320000000001\t 0.1197352464201856\t 2.8329618961575385\t 3.33927596166318\n",
            "19 \t [ 3.40729863 -2.46652791]\t 23.777203786143243\t 0.1197352464201856\t 2.7355340582767402\t 2.487626334679841\n",
            "20 \t [-0.35998353 -4.46508133]\t 40.00349078790458\t 0.1197352464201856\t 2.9895314230969166\t 3.0078204306817944\n"
          ]
        }
      ],
      "source": [
        "### ESTIMATED STP ERM GRADIENTS\n",
        "\n",
        "np.random.seed(run_num_17)\n",
        "surrogate_approx_17 = dtStudentProcess(cov_func, optimize=opt, nu = df)\n",
        "\n",
        "approx_17 = GPGO_multi(surrogate_approx_17, Acquisition_grad(util), objfunc, param)\n",
        "approx_17.run(init_evals=n_init, max_iter=iters)\n"
      ]
    },
    {
      "cell_type": "code",
      "execution_count": 30,
      "metadata": {
        "id": "f0HIEP3PIUEa",
        "colab": {
          "base_uri": "https://localhost:8080/"
        },
        "outputId": "110dd40b-c3a8-4a40-9a38-2d2a7d4a46cd"
      },
      "outputs": [
        {
          "output_type": "stream",
          "name": "stdout",
          "text": [
            "Evaluation \t Proposed point \t  Current eval. \t  Best eval. \t        Exact ERM: StdDev. x \t Approx ERM: StdDev. x \n",
            "init\t [1.53983224 0.05584255]\t 2.3773200933391867\t 2.3773200933391867\t    \t    \n",
            "init\t [ 3.87687906 -3.25795609]\t 36.25874706055664\t 2.3773200933391867\t    \t    \n",
            "init\t [3.60686662 2.56139557]\t 26.130981366974602\t 2.3773200933391867\t    \t    \n",
            "init\t [1.70088108 4.99604939]\t 52.81401545301259\t 2.3773200933391867\t    \t    \n",
            "init\t [-2.48864335 -4.83014733]\t 52.85399210258478\t 2.3773200933391867\t    \t    \n",
            "1  \t [-5.12        2.24656552]\t 36.30851327686615\t 2.3773200933391867\t 3.0509876797033297\t 3.610120889148808\n",
            "2  \t [-1.91336223 -0.49849355]\t 4.157946662250846\t 2.3773200933391867\t 2.856587879906643\t 2.6408717565025728\n",
            "3  \t [-2.43129219  5.12      ]\t 58.33998170228711\t 2.3773200933391867\t 2.8825537662631207\t 3.1692635345724813\n",
            "4  \t [-5.12       -1.81207675]\t 32.78164430571715\t 2.3773200933391867\t 3.18760484150961\t 3.405705727031635\n",
            "5  \t [ 0.38101339 -2.55764649]\t 13.228282308625971\t 2.3773200933391867\t 2.80713690822748\t 2.7348308242265404\n",
            "6  \t [-0.49384006  1.9320635 ]\t 7.709616748488704\t 2.3773200933391867\t 2.9897611998095184\t 2.9649062806347244\n",
            "7  \t [ 5.12       -0.21114907]\t 26.303567861427464\t 2.3773200933391867\t 2.7935490922393225\t 3.186677461200002\n",
            "8  \t [5.12 5.12]\t 78.64320000000001\t 2.3773200933391867\t 2.7986099662943964\t 2.965480117541708\n",
            "9  \t [ 1.21851808 -5.12      ]\t 53.91358630820825\t 2.3773200933391867\t 2.6274076993593463\t 2.9093205856410647\n",
            "10 \t [-5.12 -5.12]\t 78.64320000000001\t 2.3773200933391867\t 3.036434742414864\t 3.2497018356339877\n",
            "11 \t [-5.12  5.12]\t 78.64320000000001\t 2.3773200933391867\t 2.77448130697901\t 3.029107237472369\n",
            "12 \t [-2.57638444  1.47312343]\t 10.977942046022353\t 2.3773200933391867\t 2.4218424458018015\t 2.071164718707323\n",
            "13 \t [ 5.12 -5.12]\t 78.64320000000001\t 2.3773200933391867\t 2.6521831175247423\t 2.51635145592908\n",
            "14 \t [-2.22957534 -2.16419311]\t 14.338469862834952\t 2.3773200933391867\t 2.1814028613350347\t 2.1616716041928568\n",
            "15 \t [ 3.00440802 -1.15463611]\t 11.692836646430056\t 2.3773200933391867\t 2.731852507610709\t 2.762798031447629\n",
            "\u001b[1m\u001b[92m16\u001b[0m\t \u001b[1m\u001b[92m[-0.1333885  -0.20421041]\u001b[0m\t \u001b[1m\u001b[92m0.10119627975018769\u001b[0m\t \u001b[1m\u001b[92m0.10119627975018769\u001b[0m\t \u001b[1m\u001b[92m2.263932395435213\u001b[0m\t \u001b[1m\u001b[92m2.3204783799461435\u001b[0m\n",
            "17 \t [1.3374934  1.82080663]\t 8.419562177463645\t 0.10119627975018769\t 2.984293034112035\t 2.0685664257971834\n",
            "18 \t [-0.3881705   3.87672987]\t 30.208745322329893\t 0.10119627975018769\t 3.1841015922923126\t 3.1720884842133166\n",
            "19 \t [-3.75204626e+00  1.23267733e-03]\t 14.077854162705728\t 0.10119627975018769\t 2.407996121799451\t 2.3925574500909033\n",
            "20 \t [-0.49704439 -4.76661766]\t 45.6883410054552\t 0.10119627975018769\t 2.8239490021199605\t 2.800665201768967\n"
          ]
        }
      ],
      "source": [
        "### ESTIMATED STP ERM GRADIENTS\n",
        "\n",
        "np.random.seed(run_num_18)\n",
        "surrogate_approx_18 = dtStudentProcess(cov_func, optimize=opt, nu = df)\n",
        "\n",
        "approx_18 = GPGO_multi(surrogate_approx_18, Acquisition_grad(util), objfunc, param)\n",
        "approx_18.run(init_evals=n_init, max_iter=iters)\n"
      ]
    },
    {
      "cell_type": "code",
      "execution_count": 31,
      "metadata": {
        "id": "S3mxRQDLIUPC",
        "colab": {
          "base_uri": "https://localhost:8080/"
        },
        "outputId": "3a92a0ae-f557-4d82-f60a-0b788468becc"
      },
      "outputs": [
        {
          "output_type": "stream",
          "name": "stdout",
          "text": [
            "Evaluation \t Proposed point \t  Current eval. \t  Best eval. \t        Exact ERM: StdDev. x \t Approx ERM: StdDev. x \n",
            "init\t [-4.12125592  2.6751971 ]\t 31.298109376682206\t 22.814458446152262\t    \t    \n",
            "init\t [-2.59135515 -3.70553152]\t 34.17704923320956\t 22.814458446152262\t    \t    \n",
            "init\t [-1.72598719 -4.27008445]\t 39.4462742815243\t 22.814458446152262\t    \t    \n",
            "init\t [1.76104531 3.13952049]\t 22.814458446152262\t 22.814458446152262\t    \t    \n",
            "init\t [4.9432772  1.38916592]\t 28.295553455390152\t 22.814458446152262\t    \t    \n",
            "1  \t [ 5.12       -4.97301224]\t 75.67610141004222\t 22.814458446152262\t 3.4593109494400043\t 4.5142471219874185\n",
            "\u001b[1m\u001b[92m2\u001b[0m\t \u001b[1m\u001b[92m[ 1.67002287 -1.49891708]\u001b[0m\t \u001b[1m\u001b[92m7.2824811889276235\u001b[0m\t \u001b[1m\u001b[92m7.2824811889276235\u001b[0m\t \u001b[1m\u001b[92m3.416149182535435\u001b[0m\t \u001b[1m\u001b[92m3.2622187654449806\u001b[0m\n",
            "3  \t [5.12 5.12]\t 78.64320000000001\t 7.2824811889276235\t 3.5732657549025477\t 3.430945429322617\n",
            "4  \t [-5.12       -1.02144671]\t 28.301106771271225\t 7.2824811889276235\t 3.136732526518624\t 3.033992573237202\n",
            "5  \t [-1.31665323  5.12      ]\t 54.1623757217065\t 7.2824811889276235\t 2.6473790425117874\t 3.436770770857988\n",
            "\u001b[1m\u001b[92m6\u001b[0m\t \u001b[1m\u001b[92m[-1.16971326  0.27782801]\u001b[0m\t \u001b[1m\u001b[92m1.522605908509515\u001b[0m\t \u001b[1m\u001b[92m1.522605908509515\u001b[0m\t \u001b[1m\u001b[92m3.2272171913604413\u001b[0m\t \u001b[1m\u001b[92m2.924624457717975\u001b[0m\n",
            "7  \t [ 1.50766319 -5.12      ]\t 54.70184830066667\t 1.522605908509515\t 3.2063865727297505\t 3.7093410668044267\n",
            "8  \t [-5.12 -5.12]\t 78.64320000000001\t 1.522605908509515\t 2.6194301026594475\t 2.3627864472429825\n",
            "9  \t [ 5.12       -1.61913784]\t 31.457614689309327\t 1.522605908509515\t 2.4453989160086143\t 3.0415900660966666\n",
            "10 \t [-5.12  5.12]\t 78.64320000000001\t 1.522605908509515\t 2.8828675459033763\t 3.165175815487768\n",
            "\u001b[1m\u001b[92m11\u001b[0m\t \u001b[1m\u001b[92m[0.84697744 0.6264812 ]\u001b[0m\t \u001b[1m\u001b[92m1.5023281758396976\u001b[0m\t \u001b[1m\u001b[92m1.5023281758396976\u001b[0m\t \u001b[1m\u001b[92m2.1415108432739727\u001b[0m\t \u001b[1m\u001b[92m2.647787858325464\u001b[0m\n",
            "12 \t [-1.02767969  2.12503194]\t 10.08764703066258\t 1.5023281758396976\t 2.6944020430116224\t 2.3073154210780262\n",
            "13 \t [-0.63247514 -1.49459722]\t 4.867666526725781\t 1.5023281758396976\t 2.90738764184237\t 2.2549107262327377\n",
            "14 \t [-2.68810649 -0.43627611]\t 7.606590164333669\t 1.5023281758396976\t 2.4423433796382614\t 2.595180338365122\n",
            "15 \t [2.62869136 0.35740837]\t 7.165499757146546\t 1.5023281758396976\t 2.8896766086665653\t 2.5871021903326428\n",
            "16 \t [1.92041333 5.12      ]\t 56.11678737293803\t 1.5023281758396976\t 2.759344462211429\t 2.8228005540178103\n",
            "17 \t [ 2.96351027 -2.83828338]\t 24.894098185315382\t 1.5023281758396976\t 2.713263967773249\t 2.4393856881848297\n",
            "18 \t [ 0.34148585 -2.7474217 ]\t 15.213264579413613\t 1.5023281758396976\t 2.639258546390114\t 2.7884479081394753\n",
            "19 \t [3.87226964 3.25265242]\t 36.15396777957897\t 1.5023281758396976\t 2.475691641295907\t 2.5824835324944013\n",
            "20 \t [-4.86851162 -0.68360648]\t 24.6370410576583\t 1.5023281758396976\t 2.789034293713628\t 2.777858145763807\n"
          ]
        }
      ],
      "source": [
        "### ESTIMATED STP ERM GRADIENTS\n",
        "\n",
        "np.random.seed(run_num_19)\n",
        "surrogate_approx_19 = dtStudentProcess(cov_func, optimize=opt, nu = df)\n",
        "\n",
        "approx_19 = GPGO_multi(surrogate_approx_19, Acquisition_grad(util), objfunc, param)\n",
        "approx_19.run(init_evals=n_init, max_iter=iters)\n"
      ]
    },
    {
      "cell_type": "code",
      "execution_count": 32,
      "metadata": {
        "id": "Aawd59dRIUYn",
        "colab": {
          "base_uri": "https://localhost:8080/"
        },
        "outputId": "e4a6aeba-5991-4f99-c7a4-f9ab7d205e20"
      },
      "outputs": [
        {
          "output_type": "stream",
          "name": "stdout",
          "text": [
            "Evaluation \t Proposed point \t  Current eval. \t  Best eval. \t        Exact ERM: StdDev. x \t Approx ERM: StdDev. x \n",
            "init\t [0.9024594  4.07258857]\t 33.98638835688907\t 1.615187047660523\t    \t    \n",
            "init\t [4.00927467 3.23417577]\t 36.994069169927414\t 1.615187047660523\t    \t    \n",
            "init\t [-4.75249064  1.96359764]\t 30.297598676217497\t 1.615187047660523\t    \t    \n",
            "init\t [-1.24230715  0.18955208]\t 1.615187047660523\t 1.615187047660523\t    \t    \n",
            "init\t [ 1.61742301 -3.13497377]\t 22.27217824772924\t 1.615187047660523\t    \t    \n",
            "1  \t [-3.83993772 -4.36953106]\t 52.93072506512202\t 1.615187047660523\t 2.8197533784121194\t 2.9545902791335434\n",
            "2  \t [ 5.12 -5.12]\t 78.64320000000001\t 1.615187047660523\t 2.701659149338866\t 3.4856150962864185\n",
            "3  \t [ 5.12       -0.73704611]\t 27.300873931274307\t 1.615187047660523\t 2.9321050550820105\t 3.034269841995405\n",
            "4  \t [-2.84852667  5.12      ]\t 60.542904173603205\t 1.615187047660523\t 3.1050772002312668\t 3.6386624209290486\n",
            "5  \t [1.50464116 0.38227805]\t 2.5562180366824885\t 1.615187047660523\t 2.832872607644089\t 2.4831051668613133\n",
            "6  \t [-5.12       -1.23737919]\t 29.27661453603312\t 1.615187047660523\t 3.2534556924779654\t 3.552758138965679\n",
            "7  \t [-0.57182431 -5.12      ]\t 52.75578304535311\t 1.615187047660523\t 3.2801969118751844\t 3.384529751548725\n",
            "8  \t [-1.54412124 -1.86275768]\t 9.32404274785446\t 1.615187047660523\t 2.7450788890966016\t 3.1230829061170464\n",
            "9  \t [-1.50357667  2.10886824]\t 11.155393304804484\t 1.615187047660523\t 2.84059447144544\t 3.233168974430209\n",
            "10 \t [ 0.35623243 -0.86558234]\t 1.6253671170675001\t 1.615187047660523\t 2.7808750663538033\t 2.8792544736467267\n",
            "11 \t [3.090175   0.70260365]\t 10.53648528355743\t 1.615187047660523\t 2.7237078234064818\t 2.7620224086423266\n",
            "12 \t [5.12 5.12]\t 78.64320000000001\t 1.615187047660523\t 2.9837966527797652\t 3.0596376396911964\n",
            "13 \t [0.38299682 1.39031203]\t 4.012621620132159\t 1.615187047660523\t 2.7031737205900996\t 3.6831842220788746\n",
            "14 \t [-2.8804165  0.0040331]\t 8.296831751040303\t 1.615187047660523\t 2.61693097598815\t 2.569378454658071\n",
            "15 \t [-5.12  5.12]\t 78.64320000000001\t 1.615187047660523\t 2.451810620894281\t 2.7656988138544056\n",
            "16 \t [ 2.30757673 -5.12      ]\t 57.75371037222943\t 1.615187047660523\t 2.340880343986448\t 2.8151449516985045\n",
            "17 \t [ 2.57116285 -1.25535015]\t 9.762686394225014\t 1.615187047660523\t 2.309369860762456\t 2.8395034719905183\n",
            "18 \t [ 4.08827292 -2.89507504]\t 33.47689448604255\t 1.615187047660523\t 3.0253864593467013\t 3.1591310932841634\n",
            "19 \t [5.12       1.40845455]\t 30.181888446808948\t 1.615187047660523\t 2.6143286649557735\t 2.548554256304272\n",
            "20 \t [1.92221959 2.14505843]\t 12.897479448389415\t 1.615187047660523\t 2.4795659750219556\t 2.6738676633499483\n"
          ]
        }
      ],
      "source": [
        "### ESTIMATED STP ERM GRADIENTS\n",
        "\n",
        "np.random.seed(run_num_20)\n",
        "surrogate_approx_20 = dtStudentProcess(cov_func, optimize=opt, nu = df)\n",
        "\n",
        "approx_20 = GPGO_multi(surrogate_approx_20, Acquisition_grad(util), objfunc, param)\n",
        "approx_20.run(init_evals=n_init, max_iter=iters)\n"
      ]
    },
    {
      "cell_type": "code",
      "execution_count": 33,
      "metadata": {
        "id": "xkgzPRbBTHaq",
        "colab": {
          "base_uri": "https://localhost:8080/"
        },
        "outputId": "c2a6521e-5237-4f99-d0b7-e8485c8b35cc"
      },
      "outputs": [
        {
          "output_type": "execute_result",
          "data": {
            "text/plain": [
              "1662458004.4985745"
            ]
          },
          "metadata": {},
          "execution_count": 33
        }
      ],
      "source": [
        "end_approx = time.time()\n",
        "end_approx\n",
        "\n",
        "time_approx = end_approx - start_approx\n",
        "time_approx\n",
        "\n",
        "start_exact = time.time()\n",
        "start_exact"
      ]
    },
    {
      "cell_type": "code",
      "execution_count": 34,
      "metadata": {
        "id": "7CG3Ndvb16Rb",
        "colab": {
          "base_uri": "https://localhost:8080/"
        },
        "outputId": "8606d640-04f2-423d-b794-8c15ba182381"
      },
      "outputs": [
        {
          "output_type": "stream",
          "name": "stdout",
          "text": [
            "Evaluation \t Proposed point \t  Current eval. \t  Best eval. \t        Exact ERM: StdDev. x \t Approx ERM: StdDev. x \n",
            "init\t [-0.84969467  2.25612281]\t 10.902161328666502\t 1.4334486961549602\t    \t    \n",
            "init\t [-5.1188288  -2.02411446]\t 34.396486966857985\t 1.4334486961549602\t    \t    \n",
            "init\t [-3.61721968 -4.17445279]\t 47.936390383803385\t 1.4334486961549602\t    \t    \n",
            "init\t [-3.21269544 -1.58145816]\t 15.323431753768267\t 1.4334486961549602\t    \t    \n",
            "init\t [-1.05710106  0.39748336]\t 1.4334486961549602\t 1.4334486961549602\t    \t    \n",
            "1  \t [ 4.04077223 -4.24914728]\t 52.43834538835027\t 1.4334486961549602\t 3.4158311341520133\t 4.189025155378068\n",
            "2  \t [5.12 5.12]\t 78.64320000000001\t 1.4334486961549602\t 3.1601399553164624\t 3.4621743706922925\n",
            "3  \t [3.20480943 0.62956179]\t 11.063499597060197\t 1.4334486961549602\t 2.9457409124060234\t 3.786395300568999\n",
            "4  \t [-4.89961018  4.58719077]\t 66.09081832512999\t 1.4334486961549602\t 2.7343222023175238\t 3.9965273100153627\n",
            "5  \t [ 0.18759715 -5.12      ]\t 52.463992689408514\t 1.4334486961549602\t 2.6420317348742226\t 3.179792494122054\n",
            "6  \t [0.98153477 5.12      ]\t 53.3922104975491\t 1.4334486961549602\t 2.562286756142757\t 2.6581128106799294\n",
            "7  \t [ 1.33521096 -1.70152326]\t 7.573151117745123\t 1.4334486961549602\t 2.860627354903057\t 3.333111529404845\n",
            "8  \t [-5.12        1.24927821]\t 29.33579206871911\t 1.4334486961549602\t 2.9068361227492714\t 3.4842046344881124\n",
            "9  \t [ 5.12       -1.08992519]\t 28.590273851451727\t 1.4334486961549602\t 2.5596757611873864\t 2.802296319830227\n",
            "10 \t [5.12       2.00059805]\t 34.21918511326276\t 1.4334486961549602\t 2.5515739173421705\t 3.157846863305878\n",
            "11 \t [-0.75728447 -2.18926271]\t 10.159222164353043\t 1.4334486961549602\t 2.5543012016295963\t 2.7116227511723556\n",
            "12 \t [-1.81929981  4.873241  ]\t 50.80680742938288\t 1.4334486961549602\t 2.83902395639529\t 2.5463194500494195\n",
            "13 \t [1.20118832 0.37533915]\t 1.72461232091091\t 1.4334486961549602\t 2.0748756763430585\t 1.9878523670253612\n",
            "14 \t [-3.06761667  2.53309323]\t 22.24339463072266\t 1.4334486961549602\t 2.6292198866296594\t 2.880947902400531\n",
            "15 \t [2.02903064 2.36725806]\t 15.32478680887537\t 1.4334486961549602\t 2.3703750405292254\t 2.3564661288928943\n",
            "16 \t [ 2.81606063 -1.34778489]\t 11.56324564623184\t 1.4334486961549602\t 2.420199616083281\t 2.8660817219110704\n",
            "17 \t [-2.16984283  0.0046782 ]\t 4.708261687756149\t 1.4334486961549602\t 2.598346136974847\t 2.20041234277811\n",
            "18 \t [3.15943772 3.94801687]\t 41.15572116043113\t 1.4334486961549602\t 2.7615270126790774\t 2.957106115089678\n",
            "\u001b[1m\u001b[92m19\u001b[0m\t \u001b[1m\u001b[92m[ 0.28562308 -0.66726783]\u001b[0m\t \u001b[1m\u001b[92m0.9720732490047377\u001b[0m\t \u001b[1m\u001b[92m0.9720732490047377\u001b[0m\t \u001b[1m\u001b[92m2.8777925360738092\u001b[0m\t \u001b[1m\u001b[92m2.558655846805767\u001b[0m\n",
            "20 \t [ 1.32239282 -3.31210102]\t 23.688749119444402\t 0.9720732490047377\t 2.6880817723123145\t 3.3934234762411037\n"
          ]
        }
      ],
      "source": [
        "### EXACT STP ERM GRADIENTS\n",
        "\n",
        "np.random.seed(run_num_1)\n",
        "surrogate_exact_1 = dtStudentProcess(cov_func, optimize=opt, nu = df)\n",
        "\n",
        "exact_1 = dGPGO(surrogate_exact_1, Acquisition_grad(util), objfunc, param)\n",
        "exact_1.run(init_evals=n_init, max_iter=iters)\n"
      ]
    },
    {
      "cell_type": "code",
      "execution_count": 35,
      "metadata": {
        "id": "-ilCPSAu9SAg",
        "colab": {
          "base_uri": "https://localhost:8080/"
        },
        "outputId": "0bd8aa57-b4a4-4eaf-aadf-6567b05abd7a"
      },
      "outputs": [
        {
          "output_type": "stream",
          "name": "stdout",
          "text": [
            "Evaluation \t Proposed point \t  Current eval. \t  Best eval. \t        Exact ERM: StdDev. x \t Approx ERM: StdDev. x \n",
            "init\t [-0.6554122  -4.85451539]\t 47.562204422038214\t 1.1358959044973735\t    \t    \n",
            "init\t [ 0.50854377 -0.6622987 ]\t 1.1358959044973735\t 1.1358959044973735\t    \t    \n",
            "init\t [-0.81543371 -1.73737143]\t 6.7018511217540135\t 1.1358959044973735\t    \t    \n",
            "init\t [-3.02439799  1.2213347 ]\t 12.13030006303276\t 1.1358959044973735\t    \t    \n",
            "init\t [-2.05153614 -2.3876887 ]\t 15.610915224537823\t 1.1358959044973735\t    \t    \n",
            "1  \t [5.12 5.12]\t 78.64320000000001\t 1.1358959044973735\t 3.7765944099401763\t 3.7648488110877136\n",
            "2  \t [ 4.84260546 -3.96517156]\t 54.89599861946712\t 1.1358959044973735\t 2.6352881784990805\t 3.8532275772431666\n",
            "3  \t [-0.191808  5.12    ]\t 52.46559030861624\t 1.1358959044973735\t 3.5363790726492033\t 3.9224357727493846\n",
            "4  \t [4.23144194 0.5898175 ]\t 18.600870251600405\t 1.1358959044973735\t 3.043890768761002\t 3.3645853669245778\n",
            "5  \t [-5.12 -5.12]\t 78.64320000000001\t 1.1358959044973735\t 3.635586415933224\t 3.471706223010078\n",
            "6  \t [-4.31109732  4.55155072]\t 60.018788064887175\t 1.1358959044973735\t 3.30065726699548\t 3.5284299994467343\n",
            "7  \t [1.0414994  1.82479353]\t 7.7444638582498495\t 1.1358959044973735\t 2.9116381689888846\t 2.7550119924508554\n",
            "8  \t [ 2.22447274 -1.49587419]\t 9.423558182559127\t 1.1358959044973735\t 2.0917561929984334\t 2.601871739285276\n",
            "9  \t [-5.12       -1.15023525]\t 28.860482277606334\t 1.1358959044973735\t 2.5543511161501953\t 2.9550628919132467\n",
            "10 \t [3.02434841 2.87860718]\t 25.719441914006836\t 1.1358959044973735\t 2.614687401844856\t 3.100683377372164\n",
            "11 \t [ 2.16192122 -4.62233232]\t 47.40581547692422\t 1.1358959044973735\t 2.567933473175548\t 3.155096856168712\n",
            "12 \t [-0.7886531   0.70001304]\t 1.6020102099065174\t 1.1358959044973735\t 2.3866677818948037\t 2.538899006391569\n",
            "13 \t [-0.57198984  2.33429528]\t 11.225041301655365\t 1.1358959044973735\t 2.514846659055054\t 2.722344727161116\n",
            "14 \t [2.44743698 5.12      ]\t 58.41874775714445\t 1.1358959044973735\t 2.5364144437649965\t 3.368305160140671\n",
            "15 \t [-5.09835036  1.48383156]\t 30.396688543256502\t 1.1358959044973735\t 2.8599233981795518\t 2.997556937370343\n",
            "16 \t [ 5.12       -1.28792306]\t 29.531891635017775\t 1.1358959044973735\t 2.6874430830444043\t 2.542544547343048\n",
            "17 \t [-4.08431119 -3.0915109 ]\t 35.79647713693829\t 1.1358959044973735\t 2.8000166464145724\t 3.0708140078828245\n",
            "18 \t [-1.92771472 -0.21439921]\t 3.8080180809468605\t 1.1358959044973735\t 2.474227937102009\t 2.3187803468854296\n",
            "19 \t [-2.10213838  3.68648113]\t 31.59927197226241\t 1.1358959044973735\t 2.554655202521414\t 3.249696414721055\n",
            "20 \t [1.21569426 0.48241616]\t 1.9433632501000113\t 1.1358959044973735\t 2.685233032626367\t 2.3881883315541916\n"
          ]
        }
      ],
      "source": [
        "### EXACT STP ERM GRADIENTS\n",
        "\n",
        "np.random.seed(run_num_2)\n",
        "surrogate_exact_2 = dtStudentProcess(cov_func, optimize=opt, nu = df)\n",
        "\n",
        "exact_2 = dGPGO(surrogate_exact_2, Acquisition_grad(util), objfunc, param)\n",
        "exact_2.run(init_evals=n_init, max_iter=iters)\n"
      ]
    },
    {
      "cell_type": "code",
      "execution_count": 36,
      "metadata": {
        "id": "XieJ158mIvlP",
        "colab": {
          "base_uri": "https://localhost:8080/"
        },
        "outputId": "7e77a1fe-cd5c-43fc-de98-4ba6ae2c00c0"
      },
      "outputs": [
        {
          "output_type": "stream",
          "name": "stdout",
          "text": [
            "Evaluation \t Proposed point \t  Current eval. \t  Best eval. \t        Exact ERM: StdDev. x \t Approx ERM: StdDev. x \n",
            "init\t [0.52017052 2.1314337 ]\t 9.356596638100186\t 4.609047504113831\t    \t    \n",
            "init\t [-2.14113547  0.11087468]\t 4.609047504113831\t 4.609047504113831\t    \t    \n",
            "init\t [4.02377681 4.05804123]\t 49.12617709674532\t 4.609047504113831\t    \t    \n",
            "init\t [-3.83400642 -2.99783293]\t 32.673609761904345\t 4.609047504113831\t    \t    \n",
            "init\t [-4.59297584 -0.6061072 ]\t 21.83015892853491\t 4.609047504113831\t    \t    \n",
            "1  \t [ 2.87042319 -1.98283743]\t 16.10261781709846\t 4.609047504113831\t 2.447040036294498\t 2.612229822795365\n",
            "2  \t [-3.4987295   4.88547036]\t 59.976749498511126\t 4.609047504113831\t 2.9660944564907448\t 4.087940757057679\n",
            "3  \t [5.02281258 0.74850211]\t 26.34915705065586\t 4.609047504113831\t 2.805156559469296\t 3.434181204232672\n",
            "4  \t [-0.01997944 -5.12      ]\t 52.4291991780007\t 4.609047504113831\t 2.6942447222496244\t 3.2533181108482556\n",
            "\u001b[1m\u001b[92m5\u001b[0m\t \u001b[1m\u001b[92m[-0.10062277 -1.4018914 ]\u001b[0m\t \u001b[1m\u001b[92m3.9407239385857107\u001b[0m\t \u001b[1m\u001b[92m3.9407239385857107\u001b[0m\t \u001b[1m\u001b[92m2.7086591421222312\u001b[0m\t \u001b[1m\u001b[92m3.3986128018435853\u001b[0m\n",
            "6  \t [ 5.07685177 -4.61766316]\t 68.420049912086\t 3.9407239385857107\t 2.8574932187424698\t 3.605159431100062\n",
            "7  \t [0.34670359 5.12      ]\t 52.54900338066032\t 3.9407239385857107\t 2.8489825072057884\t 3.240303451664156\n",
            "8  \t [-5.09112614  2.12756686]\t 34.97264694049983\t 3.9407239385857107\t 2.9439028202335566\t 3.026280466889042\n",
            "9  \t [ 2.74089125 -4.7625971 ]\t 52.87714722413399\t 3.9407239385857107\t 2.5167832692520373\t 3.0607333293484937\n",
            "10 \t [-5.12 -5.12]\t 78.64320000000001\t 3.9407239385857107\t 3.076206247175442\t 2.8584129324443874\n",
            "11 \t [2.38908341 0.41026579]\t 6.044355586649643\t 3.9407239385857107\t 2.37195806203823\t 2.714049081363722\n",
            "12 \t [-1.31756871  1.66173995]\t 7.258746630632467\t 3.9407239385857107\t 2.4860448779450537\t 2.335329194057201\n",
            "13 \t [-1.45859628 -2.41103341]\t 13.753667311121072\t 3.9407239385857107\t 3.1043164759896786\t 2.938105735479915\n",
            "\u001b[1m\u001b[92m14\u001b[0m\t \u001b[1m\u001b[92m[0.26763882 0.17662051]\u001b[0m\t \u001b[1m\u001b[92m0.1340201449372318\u001b[0m\t \u001b[1m\u001b[92m0.1340201449372318\u001b[0m\t \u001b[1m\u001b[92m2.4106100113930946\u001b[0m\t \u001b[1m\u001b[92m2.435574708169176\u001b[0m\n",
            "15 \t [ 5.11260526 -1.70442711]\t 31.94887602659358\t 0.1340201449372318\t 2.867430344751007\t 2.9455283029064367\n",
            "16 \t [2.15897662 2.43039472]\t 16.474817010197995\t 0.1340201449372318\t 2.4557588141952365\t 3.054522013933767\n",
            "17 \t [ 1.26629774 -2.63821873]\t 15.523906093496292\t 0.1340201449372318\t 2.3328485116298805\t 2.667075230806299\n",
            "18 \t [-2.23945639 -4.50938047]\t 45.68418934529817\t 0.1340201449372318\t 3.2557316741738758\t 3.3812136676208997\n",
            "19 \t [-1.49440469  3.17928625]\t 22.448967492727274\t 0.1340201449372318\t 2.715433892169608\t 2.8548994147896156\n",
            "20 \t [-2.95890677  1.83433258]\t 15.484681330434384\t 0.1340201449372318\t 2.5356411085833366\t 2.038794889773463\n"
          ]
        }
      ],
      "source": [
        "### EXACT STP ERM GRADIENTS\n",
        "\n",
        "np.random.seed(run_num_3)\n",
        "surrogate_exact_3 = dtStudentProcess(cov_func, optimize=opt, nu = df)\n",
        "\n",
        "exact_3 = dGPGO(surrogate_exact_3, Acquisition_grad(util), objfunc, param)\n",
        "exact_3.run(init_evals=n_init, max_iter=iters)\n"
      ]
    },
    {
      "cell_type": "code",
      "execution_count": 37,
      "metadata": {
        "id": "PhLBVOIfIvol",
        "colab": {
          "base_uri": "https://localhost:8080/"
        },
        "outputId": "d9404fb2-34cb-4d8b-af71-d5815f517cb0"
      },
      "outputs": [
        {
          "output_type": "stream",
          "name": "stdout",
          "text": [
            "Evaluation \t Proposed point \t  Current eval. \t  Best eval. \t        Exact ERM: StdDev. x \t Approx ERM: StdDev. x \n",
            "init\t [4.78238555 0.48365823]\t 23.33906213310676\t 7.289910254474112\t    \t    \n",
            "init\t [4.84028785 2.19971578]\t 33.10588541607836\t 7.289910254474112\t    \t    \n",
            "init\t [ 2.02474316 -2.90724357]\t 21.003715175118646\t 7.289910254474112\t    \t    \n",
            "init\t [ 4.87705042 -5.05620219]\t 74.91598187475032\t 7.289910254474112\t    \t    \n",
            "init\t [-2.52946061 -0.66773471]\t 7.289910254474112\t 7.289910254474112\t    \t    \n",
            "1  \t [-1.31997861  4.46979914]\t 41.700552300857815\t 7.289910254474112\t 2.6610476910775667\t 3.854178455000527\n",
            "2  \t [-5.12 -5.12]\t 78.64320000000001\t 7.289910254474112\t 3.993378853483652\t 3.9442625129201803\n",
            "3  \t [-1.00583951 -5.12      ]\t 53.4405131170966\t 7.289910254474112\t 3.3369761507668536\t 3.469461015252652\n",
            "\u001b[1m\u001b[92m4\u001b[0m\t \u001b[1m\u001b[92m[0.65967365 1.18183555]\u001b[0m\t \u001b[1m\u001b[92m3.228639881538763\u001b[0m\t \u001b[1m\u001b[92m3.228639881538763\u001b[0m\t \u001b[1m\u001b[92m3.104306591609608\u001b[0m\t \u001b[1m\u001b[92m3.394305197973365\u001b[0m\n",
            "5  \t [-5.12       2.3707457]\t 37.45527030753055\t 3.228639881538763\t 2.9439403256371945\t 3.523899540301109\n",
            "6  \t [3.46171949 5.12      ]\t 64.41230183746976\t 3.228639881538763\t 3.0480902946063053\t 3.344063917284266\n",
            "7  \t [-5.12       -1.38936637]\t 30.07507781766187\t 3.228639881538763\t 2.7080163521147527\t 2.0622286496912587\n",
            "8  \t [-2.04804867  1.69862333]\t 9.965145741136622\t 3.228639881538763\t 2.6294133062235967\t 2.811529278325248\n",
            "\u001b[1m\u001b[92m9\u001b[0m\t \u001b[1m\u001b[92m[-0.30028182 -0.74408985]\u001b[0m\t \u001b[1m\u001b[92m1.1975085828962095\u001b[0m\t \u001b[1m\u001b[92m1.1975085828962095\u001b[0m\t \u001b[1m\u001b[92m2.717730988239473\u001b[0m\t \u001b[1m\u001b[92m2.9804038417223944\u001b[0m\n",
            "10 \t [ 4.73796515 -1.88408001]\t 29.547828764407896\t 1.1975085828962095\t 2.652006651370948\t 3.199243636329096\n",
            "11 \t [-4.13464319  4.98954179]\t 66.88632880493466\t 1.1975085828962095\t 3.0184452735463436\t 3.027873752373675\n",
            "12 \t [1.33005453 3.07553299]\t 20.686851336810225\t 1.1975085828962095\t 2.7194632441622453\t 2.7898992960848075\n",
            "13 \t [ 2.34854543 -0.39900009]\t 5.834067772371237\t 1.1975085828962095\t 2.6268996363702537\t 2.592655564647877\n",
            "14 \t [-1.04662368 -2.34242305]\t 12.069312611430137\t 1.1975085828962095\t 2.7164599111406327\t 1.7935876275069778\n",
            "15 \t [-3.02586094 -2.74961848]\t 24.276637993960847\t 1.1975085828962095\t 2.8611878178687262\t 2.5096926064148914\n",
            "16 \t [-0.68800563  0.91161349]\t 2.1354300490842864\t 1.1975085828962095\t 2.692751010190775\t 2.478782753346769\n",
            "17 \t [2.60844935 1.32109673]\t 10.294601141044854\t 1.1975085828962095\t 2.9051891675038917\t 2.2390206327057323\n",
            "18 \t [ 1.83918639 -5.12      ]\t 55.811406571212075\t 1.1975085828962095\t 2.943862111908861\t 2.735359113005693\n",
            "\u001b[1m\u001b[92m19\u001b[0m\t \u001b[1m\u001b[92m[ 0.75985401 -0.17064521]\u001b[0m\t \u001b[1m\u001b[92m0.6356176923929858\u001b[0m\t \u001b[1m\u001b[92m0.6356176923929858\u001b[0m\t \u001b[1m\u001b[92m2.549805452481669\u001b[0m\t \u001b[1m\u001b[92m2.6910986891203685\u001b[0m\n",
            "20 \t [-3.18695974  0.63806671]\t 10.970970670232774\t 0.6356176923929858\t 2.9307401611336585\t 2.525842473611577\n"
          ]
        }
      ],
      "source": [
        "### EXACT STP ERM GRADIENTS\n",
        "\n",
        "np.random.seed(run_num_4)\n",
        "surrogate_exact_4 = dtStudentProcess(cov_func, optimize=opt, nu = df)\n",
        "\n",
        "exact_4 = dGPGO(surrogate_exact_4, Acquisition_grad(util), objfunc, param)\n",
        "exact_4.run(init_evals=n_init, max_iter=iters)\n"
      ]
    },
    {
      "cell_type": "code",
      "execution_count": 38,
      "metadata": {
        "id": "arbiPyj2IvsJ",
        "colab": {
          "base_uri": "https://localhost:8080/"
        },
        "outputId": "a76f5210-0cfc-4678-de3a-482193f3de1d"
      },
      "outputs": [
        {
          "output_type": "stream",
          "name": "stdout",
          "text": [
            "Evaluation \t Proposed point \t  Current eval. \t  Best eval. \t        Exact ERM: StdDev. x \t Approx ERM: StdDev. x \n",
            "init\t [-2.84678993  3.79629882]\t 36.927982283829365\t 2.6327313115208373\t    \t    \n",
            "init\t [-3.00319585  4.2865757 ]\t 45.76864772649561\t 2.6327313115208373\t    \t    \n",
            "init\t [-0.11866943  1.14425716]\t 2.6327313115208373\t 2.6327313115208373\t    \t    \n",
            "init\t [2.72289645 0.1886002 ]\t 7.485305147100433\t 2.6327313115208373\t    \t    \n",
            "init\t [-2.08076286 -3.19773462]\t 24.780587476435763\t 2.6327313115208373\t    \t    \n",
            "1  \t [ 4.32895605 -5.09732646]\t 70.70533460957368\t 2.6327313115208373\t 4.421444275171899\t 4.497325186020681\n",
            "2  \t [4.8274496 5.12     ]\t 75.73306966862363\t 2.6327313115208373\t 3.6530954647931564\t 3.7540318346467845\n",
            "3  \t [-5.12      -0.0839832]\t 26.22850635432048\t 2.6327313115208373\t 3.336272952058545\t 3.7586291787628205\n",
            "4  \t [-5.12 -5.12]\t 78.64320000000001\t 2.6327313115208373\t 3.270968801807468\t 3.393665812286882\n",
            "5  \t [0.88137292 5.12      ]\t 53.20561822883712\t 2.6327313115208373\t 2.9685741336142373\t 3.2525605129112654\n",
            "6  \t [ 1.39900243 -2.56627745]\t 15.128767676696995\t 2.6327313115208373\t 3.2139103881742863\t 3.186286660366132\n",
            "7  \t [5.12       1.39904081]\t 30.12903038634569\t 2.6327313115208373\t 2.4005014093050154\t 2.665467833150663\n",
            "8  \t [ 4.96632625 -1.59840986]\t 29.77422454870267\t 2.6327313115208373\t 3.0372570392178693\t 3.247296349799202\n",
            "9  \t [-1.99702536  0.06904196]\t 3.9976438795145075\t 2.6327313115208373\t 2.709336528851456\t 2.640097094764379\n",
            "10 \t [2.45433906 2.64589222]\t 20.02527145422177\t 2.6327313115208373\t 2.6276746165188145\t 2.996921878876492\n",
            "11 \t [ 0.37314941 -5.12      ]\t 52.56804048016828\t 2.6327313115208373\t 2.563389772655382\t 3.1107882043009605\n",
            "\u001b[1m\u001b[92m12\u001b[0m\t \u001b[1m\u001b[92m[ 0.00797128 -0.83087942]\u001b[0m\t \u001b[1m\u001b[92m1.3807847481873334\u001b[0m\t \u001b[1m\u001b[92m1.3807847481873334\u001b[0m\t \u001b[1m\u001b[92m2.6249502998316685\u001b[0m\t \u001b[1m\u001b[92m2.6923828958179183\u001b[0m\n",
            "13 \t [-0.51406648  2.82727878]\t 16.25127495125613\t 1.3807847481873334\t 2.7693961474650455\t 3.0469634538245165\n",
            "14 \t [-5.12        2.45099174]\t 38.229121009669576\t 1.3807847481873334\t 2.339463529986827\t 2.868190702793258\n",
            "15 \t [-2.76814711  1.38370344]\t 11.491908852259645\t 1.3807847481873334\t 2.568473901840631\t 2.3314191648048164\n",
            "16 \t [ 1.3700293  -0.21982663]\t 1.9736277809125424\t 1.3807847481873334\t 2.650645161506492\t 2.8190242159887413\n",
            "17 \t [-1.34456486 -1.22377119]\t 4.803086483258339\t 1.3807847481873334\t 2.6630862782096747\t 2.9401746142309904\n",
            "18 \t [-3.78173257 -2.16194494]\t 23.649513051348663\t 1.3807847481873334\t 2.4698544716576847\t 2.842013362464637\n",
            "19 \t [ 2.61652976 -1.31582736]\t 10.30903123287959\t 1.3807847481873334\t 2.5779674503633405\t 3.2284996541473587\n",
            "20 \t [1.27533434 0.95217716]\t 3.439760379269862\t 1.3807847481873334\t 2.464409480453049\t 2.5373475198074806\n"
          ]
        }
      ],
      "source": [
        "### EXACT STP ERM GRADIENTS\n",
        "\n",
        "np.random.seed(run_num_5)\n",
        "surrogate_exact_5 = dtStudentProcess(cov_func, optimize=opt, nu = df)\n",
        "\n",
        "exact_5 = dGPGO(surrogate_exact_5, Acquisition_grad(util), objfunc, param)\n",
        "exact_5.run(init_evals=n_init, max_iter=iters)\n"
      ]
    },
    {
      "cell_type": "code",
      "execution_count": 39,
      "metadata": {
        "id": "04KJCEm_Ivvf",
        "colab": {
          "base_uri": "https://localhost:8080/"
        },
        "outputId": "ec430ba4-25ad-4f86-e0a0-72b980bf604d"
      },
      "outputs": [
        {
          "output_type": "stream",
          "name": "stdout",
          "text": [
            "Evaluation \t Proposed point \t  Current eval. \t  Best eval. \t        Exact ERM: StdDev. x \t Approx ERM: StdDev. x \n",
            "init\t [ 4.02288795 -1.72052679]\t 22.104052359713652\t 1.4757178799086357\t    \t    \n",
            "init\t [ 3.28938622 -4.69302655]\t 54.869058151382724\t 1.4757178799086357\t    \t    \n",
            "init\t [-4.0175956   0.97333314]\t 18.035829177697114\t 1.4757178799086357\t    \t    \n",
            "init\t [ 0.30532979 -0.83141193]\t 1.4757178799086357\t 1.4757178799086357\t    \t    \n",
            "init\t [-1.68542362  1.25459899]\t 5.988690020231891\t 1.4757178799086357\t    \t    \n",
            "1  \t [2.13189134 4.8991494 ]\t 52.54829040432828\t 1.4757178799086357\t 3.5989401058188104\t 3.861130764895423\n",
            "2  \t [-5.12       -4.34621688]\t 63.993602252795725\t 1.4757178799086357\t 3.502918105465064\t 3.744667064029472\n",
            "3  \t [-3.06882187  5.12      ]\t 61.84646769679331\t 1.4757178799086357\t 3.4184200663754365\t 4.0024287087319665\n",
            "4  \t [-0.91512297 -5.12      ]\t 53.266250049257685\t 1.4757178799086357\t 3.2103989252576297\t 3.441592816741508\n",
            "5  \t [5.12       2.08605375]\t 34.91764045490376\t 1.4757178799086357\t 2.3303659981005858\t 2.7152892249242635\n",
            "6  \t [1.6646713  1.22517964]\t 5.773260860260241\t 1.4757178799086357\t 2.8103628783747863\t 3.0475712400037174\n",
            "7  \t [-2.64039379 -1.55285401]\t 11.794390514707885\t 1.4757178799086357\t 3.140419855246728\t 2.830664473974874\n",
            "8  \t [5.12 5.12]\t 78.64320000000001\t 1.4757178799086357\t 2.488034963816611\t 3.398935278217477\n",
            "9  \t [-0.32190078  3.61094429]\t 26.181457465078502\t 1.4757178799086357\t 2.5569424155822813\t 2.8071939285911016\n",
            "10 \t [-5.12      -1.5545255]\t 31.04749903261368\t 1.4757178799086357\t 2.940009590645156\t 3.2320995193977238\n",
            "11 \t [ 1.43835358 -2.5389126 ]\t 14.961015428180021\t 1.4757178799086357\t 3.0624112507063828\t 2.9609866246467735\n",
            "12 \t [-0.84337067 -2.10089214]\t 9.538769635236045\t 1.4757178799086357\t 2.4552962906278335\t 3.014931869754886\n",
            "13 \t [3.079451   2.68849333]\t 23.939011181142163\t 1.4757178799086357\t 2.7570191218128004\t 3.0366071357316735\n",
            "14 \t [-4.7495154   2.75504312]\t 37.738421692051794\t 1.4757178799086357\t 2.830601136992034\t 2.6171341474280756\n",
            "15 \t [-0.15773989  1.08874464]\t 2.395611654113984\t 1.4757178799086357\t 2.9009962574585337\t 2.9117776807792777\n",
            "16 \t [ 2.42341286 -0.3056279 ]\t 6.05974674003588\t 1.4757178799086357\t 2.69109859213076\t 2.7906422311057653\n",
            "17 \t [ 5.12       -0.16621865]\t 26.269657282405195\t 1.4757178799086357\t 2.891029344911001\t 3.3495935315025105\n",
            "18 \t [-2.34380047 -3.54484426]\t 30.625242274135086\t 1.4757178799086357\t 2.776078858790774\t 3.475453889274748\n",
            "19 \t [ 1.64771181 -5.04664027]\t 53.65211027841784\t 1.4757178799086357\t 3.191260093700183\t 3.4465832646002\n",
            "\u001b[1m\u001b[92m20\u001b[0m\t \u001b[1m\u001b[92m[-1.0637143  -0.15708584]\u001b[0m\t \u001b[1m\u001b[92m1.180840029036474\u001b[0m\t \u001b[1m\u001b[92m1.180840029036474\u001b[0m\t \u001b[1m\u001b[92m2.368020823902682\u001b[0m\t \u001b[1m\u001b[92m2.343561941324493\u001b[0m\n"
          ]
        }
      ],
      "source": [
        "### EXACT STP ERM GRADIENTS\n",
        "\n",
        "np.random.seed(run_num_6)\n",
        "surrogate_exact_6 = dtStudentProcess(cov_func, optimize=opt, nu = df)\n",
        "\n",
        "exact_6 = dGPGO(surrogate_exact_6, Acquisition_grad(util), objfunc, param)\n",
        "exact_6.run(init_evals=n_init, max_iter=iters)\n"
      ]
    },
    {
      "cell_type": "code",
      "execution_count": 40,
      "metadata": {
        "id": "tAOkme3CIvyO",
        "colab": {
          "base_uri": "https://localhost:8080/"
        },
        "outputId": "6dd69db9-04c6-4dc1-c6ac-1ec731c6a748"
      },
      "outputs": [
        {
          "output_type": "stream",
          "name": "stdout",
          "text": [
            "Evaluation \t Proposed point \t  Current eval. \t  Best eval. \t        Exact ERM: StdDev. x \t Approx ERM: StdDev. x \n",
            "init\t [-4.33860312  2.86636843]\t 35.25561298730891\t 5.622520458601941\t    \t    \n",
            "init\t [-0.63068947  2.28828342]\t 10.870251237170722\t 5.622520458601941\t    \t    \n",
            "init\t [4.8946126  0.39419771]\t 24.268016205804518\t 5.622520458601941\t    \t    \n",
            "init\t [ 0.01147355 -4.38219639]\t 38.407422120416236\t 5.622520458601941\t    \t    \n",
            "init\t [-2.37118484e+00 -1.20319155e-03]\t 5.622520458601941\t 5.622520458601941\t    \t    \n",
            "1  \t [-5.12 -5.12]\t 78.64320000000001\t 5.622520458601941\t 2.883886501819502\t 3.3228855911178568\n",
            "2  \t [3.52508832 5.12      ]\t 64.85504764002215\t 5.622520458601941\t 3.550386598161528\t 3.821806542734948\n",
            "3  \t [ 4.60371205 -4.08722332]\t 54.60495355566634\t 5.622520458601941\t 3.0183397473179823\t 3.678456061128808\n",
            "4  \t [-4.02558214 -1.33646422]\t 19.777584798449002\t 5.622520458601941\t 2.885881897684341\t 3.046307140328312\n",
            "\u001b[1m\u001b[92m5\u001b[0m\t \u001b[1m\u001b[92m[ 1.32847693 -0.63532838]\u001b[0m\t \u001b[1m\u001b[92m2.572135263472374\u001b[0m\t \u001b[1m\u001b[92m2.572135263472374\u001b[0m\t \u001b[1m\u001b[92m3.0375762531175488\u001b[0m\t \u001b[1m\u001b[92m2.9562991217287875\u001b[0m\n",
            "6  \t [-1.13340642  5.12      ]\t 53.713410113975634\t 2.572135263472374\t 3.018196358317932\t 3.371573359907539\n",
            "7  \t [2.11690533 1.91305804]\t 11.800870315318532\t 2.572135263472374\t 2.366057076332151\t 2.5610316006487306\n",
            "8  \t [-2.24018732 -3.150197  ]\t 24.865921497388985\t 2.572135263472374\t 2.9879468797053508\t 2.922427900143186\n",
            "\u001b[1m\u001b[92m9\u001b[0m\t \u001b[1m\u001b[92m[-0.4041661  -0.47289413]\u001b[0m\t \u001b[1m\u001b[92m0.6106079579038082\u001b[0m\t \u001b[1m\u001b[92m0.6106079579038082\u001b[0m\t \u001b[1m\u001b[92m2.867807534861156\u001b[0m\t \u001b[1m\u001b[92m3.599595341315047\u001b[0m\n",
            "10 \t [ 2.77999713 -1.92047039]\t 15.104797060928613\t 0.6106079579038082\t 2.885455488860265\t 3.2203576499826396\n",
            "11 \t [5.12       2.86001069]\t 42.573722319144835\t 0.6106079579038082\t 2.4703807599215017\t 2.749044908416496\n",
            "12 \t [-5.11292055  5.04211319]\t 76.98776743271776\t 0.6106079579038082\t 3.0917692960864116\t 3.3352562906753143\n",
            "13 \t [ 0.42192788 -1.98416636]\t 8.05185542784654\t 0.6106079579038082\t 2.977054962371126\t 3.12246677096938\n",
            "14 \t [-4.72809116  0.56314577]\t 22.98911234873686\t 0.6106079579038082\t 2.2345474396919496\t 2.8562453078853567\n",
            "15 \t [1.10507146 3.83373988]\t 30.616305898388966\t 0.6106079579038082\t 3.025395004373397\t 3.308806270985687\n",
            "16 \t [ 2.33504838 -4.87454244]\t 52.974778922253854\t 0.6106079579038082\t 2.660424808972121\t 2.916457561989121\n",
            "17 \t [-2.12591659  2.04304709]\t 12.867604166499333\t 0.6106079579038082\t 2.5239697628473055\t 2.188567561627696\n",
            "18 \t [-5.07640569 -3.0017176 ]\t 43.79051190513188\t 0.6106079579038082\t 3.401900325573192\t 3.575273350366266\n",
            "19 \t [ 5.02297205 -1.64766341]\t 30.65983759865942\t 0.6106079579038082\t 2.9083571621276567\t 3.050050744743284\n",
            "20 \t [0.84831355 0.5288328 ]\t 1.2789641456135628\t 0.6106079579038082\t 2.463542804951041\t 2.6991922354657105\n"
          ]
        }
      ],
      "source": [
        "### EXACT STP ERM GRADIENTS\n",
        "\n",
        "np.random.seed(run_num_7)\n",
        "surrogate_exact_7 = dtStudentProcess(cov_func, optimize=opt, nu = df)\n",
        "\n",
        "exact_7 = dGPGO(surrogate_exact_7, Acquisition_grad(util), objfunc, param)\n",
        "exact_7.run(init_evals=n_init, max_iter=iters)\n"
      ]
    },
    {
      "cell_type": "code",
      "execution_count": 41,
      "metadata": {
        "id": "69-J3EF4Iv1S",
        "colab": {
          "base_uri": "https://localhost:8080/"
        },
        "outputId": "d3d66c91-a946-4b0d-a6ee-f2ba50523ce5"
      },
      "outputs": [
        {
          "output_type": "stream",
          "name": "stdout",
          "text": [
            "Evaluation \t Proposed point \t  Current eval. \t  Best eval. \t        Exact ERM: StdDev. x \t Approx ERM: StdDev. x \n",
            "init\t [3.82391708 4.79785639]\t 60.661193695854244\t 0.1518306274298758\t    \t    \n",
            "init\t [3.78055209 0.31596228]\t 14.492238445440277\t 0.1518306274298758\t    \t    \n",
            "init\t [-2.73686192 -5.00327624]\t 57.555959528959804\t 0.1518306274298758\t    \t    \n",
            "init\t [-0.7119993  -0.99992207]\t 2.506631309190485\t 0.1518306274298758\t    \t    \n",
            "init\t [ 0.23218863 -0.22126801]\t 0.1518306274298758\t 0.1518306274298758\t    \t    \n",
            "1  \t [ 4.96383424 -4.82578382]\t 71.21602926839647\t 0.1518306274298758\t 3.13628323989362\t 3.7511824537059906\n",
            "2  \t [-1.14909922  3.15906256]\t 21.27978150902888\t 0.1518306274298758\t 2.9301972014576165\t 3.453158222907236\n",
            "3  \t [-4.64421651 -0.73654389]\t 22.653740776655443\t 0.1518306274298758\t 2.438359414882238\t 3.293841837582518\n",
            "4  \t [ 1.11746074 -4.48825152]\t 41.53752192926821\t 0.1518306274298758\t 2.978976938257547\t 3.630073976612686\n",
            "5  \t [1.78087311 1.9942942 ]\t 11.125927715179259\t 0.1518306274298758\t 2.821284073899829\t 3.0552570112000366\n",
            "6  \t [-3.76284842  2.11068398]\t 23.069001937590528\t 0.1518306274298758\t 3.04253431902345\t 3.3285415506164413\n",
            "7  \t [-3.11480053  5.12      ]\t 62.130782354134666\t 0.1518306274298758\t 2.8347525347393523\t 3.639895863937852\n",
            "8  \t [ 1.95514355 -1.53967441]\t 8.563780881458406\t 0.1518306274298758\t 3.1141950843585255\t 3.14484530323152\n",
            "9  \t [0.66414055 5.12      ]\t 52.869882675090864\t 0.1518306274298758\t 2.792762591477393\t 3.1970557378604405\n",
            "10 \t [ 5.12       -1.48639949]\t 30.63316690888332\t 0.1518306274298758\t 3.142002044173838\t 3.3971745076374935\n",
            "11 \t [-1.69390671 -2.40006117]\t 14.38990714617399\t 0.1518306274298758\t 2.5796654745492313\t 3.1740310005427594\n",
            "12 \t [-5.12       -3.46051646]\t 50.16474834059099\t 0.1518306274298758\t 2.722306307978173\t 2.2020403699650415\n",
            "13 \t [5.12       2.25982816]\t 36.42804665986954\t 0.1518306274298758\t 2.209400478123887\t 2.3925208327011886\n",
            "14 \t [-1.77311099  0.99145518]\t 5.109889333090049\t 0.1518306274298758\t 2.503278733408978\t 2.4765189476003373\n",
            "15 \t [0.04402476 1.12140675]\t 2.517044369866159\t 0.1518306274298758\t 2.5755199989070627\t 2.309779664970861\n",
            "16 \t [1.54464042 0.19453756]\t 2.461603760288019\t 0.1518306274298758\t 2.374948987102539\t 2.123553400015425\n",
            "17 \t [-1.85913871 -0.51372585]\t 3.9842252332546115\t 0.1518306274298758\t 3.035560320559662\t 2.983066097901869\n",
            "18 \t [ 0.38466643 -1.77919786]\t 6.479058322442576\t 0.1518306274298758\t 2.9573569088780225\t 2.7830199827885145\n",
            "19 \t [ 2.91129908 -2.43313949]\t 20.315997902244735\t 0.1518306274298758\t 2.5920950423548907\t 2.5643289409005\n",
            "\u001b[1m\u001b[92m20\u001b[0m\t \u001b[1m\u001b[92m[-0.34459038  0.08554952]\u001b[0m\t \u001b[1m\u001b[92m0.13337997356004697\u001b[0m\t \u001b[1m\u001b[92m0.13337997356004697\u001b[0m\t \u001b[1m\u001b[92m2.637935015259851\u001b[0m\t \u001b[1m\u001b[92m2.7895500485321585\u001b[0m\n"
          ]
        }
      ],
      "source": [
        "### EXACT STP ERM GRADIENTS\n",
        "\n",
        "np.random.seed(run_num_8)\n",
        "surrogate_exact_8 = dtStudentProcess(cov_func, optimize=opt, nu = df)\n",
        "\n",
        "exact_8 = dGPGO(surrogate_exact_8, Acquisition_grad(util), objfunc, param)\n",
        "exact_8.run(init_evals=n_init, max_iter=iters)\n"
      ]
    },
    {
      "cell_type": "code",
      "execution_count": 42,
      "metadata": {
        "id": "vonm9jyuIv4t",
        "colab": {
          "base_uri": "https://localhost:8080/"
        },
        "outputId": "07df45d6-7539-4ec3-d03f-f9be0476a619"
      },
      "outputs": [
        {
          "output_type": "stream",
          "name": "stdout",
          "text": [
            "Evaluation \t Proposed point \t  Current eval. \t  Best eval. \t        Exact ERM: StdDev. x \t Approx ERM: StdDev. x \n",
            "init\t [-5.01376866  0.01919582]\t 25.138613177506063\t 14.00341364504739\t    \t    \n",
            "init\t [-0.04328148 -3.74958562]\t 28.12065798163534\t 14.00341364504739\t    \t    \n",
            "init\t [-3.66478248 -2.88195916]\t 30.04200788009657\t 14.00341364504739\t    \t    \n",
            "init\t [-0.83447623 -2.57944404]\t 14.00341364504739\t 14.00341364504739\t    \t    \n",
            "init\t [-4.25922917 -1.58209393]\t 23.14707552082245\t 14.00341364504739\t    \t    \n",
            "1  \t [3.11029524 4.9495987 ]\t 58.67099112867045\t 14.00341364504739\t 2.5165813084051365\t 3.0261563017011794\n",
            "2  \t [ 5.12       -0.19120733]\t 26.287520484233273\t 14.00341364504739\t 2.7246579441783547\t 4.125035735555112\n",
            "3  \t [-1.97967124  4.11284007]\t 37.750005062913154\t 14.00341364504739\t 2.8475406773450023\t 4.373579837978509\n",
            "\u001b[1m\u001b[92m4\u001b[0m\t \u001b[1m\u001b[92m[0.96813034 1.00871993]\u001b[0m\t \u001b[1m\u001b[92m2.972308153628944\u001b[0m\t \u001b[1m\u001b[92m2.972308153628944\u001b[0m\t \u001b[1m\u001b[92m2.9039555382961186\u001b[0m\t \u001b[1m\u001b[92m3.6774701280738955\u001b[0m\n",
            "5  \t [ 3.26000275 -2.97972536]\t 28.38514437654188\t 2.972308153628944\t 3.315694308713871\t 3.7549877186679255\n",
            "6  \t [-4.86364127  3.01387912]\t 41.82194113543636\t 2.972308153628944\t 2.3753258369407355\t 2.9592136827966122\n",
            "\u001b[1m\u001b[92m7\u001b[0m\t \u001b[1m\u001b[92m[-1.226758    0.35692859]\u001b[0m\t \u001b[1m\u001b[92m1.7597312248642007\u001b[0m\t \u001b[1m\u001b[92m1.7597312248642007\u001b[0m\t \u001b[1m\u001b[92m2.5668828447544594\u001b[0m\t \u001b[1m\u001b[92m3.037872161385843\u001b[0m\n",
            "8  \t [-5.12 -5.12]\t 78.64320000000001\t 1.7597312248642007\t 2.804126752224591\t 3.3068301066883516\n",
            "9  \t [5.12     2.736149]\t 41.18742267522343\t 1.7597312248642007\t 2.752585724253674\t 3.358672268474547\n",
            "10 \t [ 1.5813223  -0.82501534]\t 3.861880868895722\t 1.7597312248642007\t 2.1983780933085084\t 2.5032969580173434\n",
            "11 \t [0.90611996 2.87678319]\t 17.37281647945827\t 1.7597312248642007\t 2.7334772423071163\t 3.5314700977911273\n",
            "12 \t [-1.93271669  1.55335553]\t 8.5612205873582\t 1.7597312248642007\t 2.4281676323828667\t 3.1251535562890433\n",
            "13 \t [2.8658197  0.74431194]\t 9.320923059712309\t 1.7597312248642007\t 2.212940720430611\t 2.481806111657133\n",
            "14 \t [0.30609408 5.12      ]\t 52.52249358663556\t 1.7597312248642007\t 2.5414555377398416\t 3.4558327725485385\n",
            "\u001b[1m\u001b[92m15\u001b[0m\t \u001b[1m\u001b[92m[-0.18782152 -0.23786103]\u001b[0m\t \u001b[1m\u001b[92m0.148432658287262\u001b[0m\t \u001b[1m\u001b[92m0.148432658287262\u001b[0m\t \u001b[1m\u001b[92m2.5410920485898014\u001b[0m\t \u001b[1m\u001b[92m3.0372318768740905\u001b[0m\n",
            "16 \t [-1.85697785 -0.88566544]\t 5.017173247891391\t 0.148432658287262\t 2.8271041029696353\t 3.200959482808316\n",
            "17 \t [-0.14671104  1.19917718]\t 2.897575929073842\t 0.148432658287262\t 2.5711104515691923\t 2.4745986481885582\n",
            "18 \t [-2.43496293 -4.62062806]\t 48.62945181026208\t 0.148432658287262\t 3.065907520454808\t 2.8656721574655317\n",
            "19 \t [ 4.89287336 -3.35816219]\t 46.49471632927778\t 0.148432658287262\t 2.7847723407194294\t 3.0469852382179434\n",
            "20 \t [ 2.15086305 -5.12      ]\t 57.0550118459899\t 0.148432658287262\t 3.311695034768976\t 3.3629184959048013\n"
          ]
        }
      ],
      "source": [
        "### EXACT STP ERM GRADIENTS\n",
        "\n",
        "np.random.seed(run_num_9)\n",
        "surrogate_exact_9 = dtStudentProcess(cov_func, optimize=opt, nu = df)\n",
        "\n",
        "exact_9 = dGPGO(surrogate_exact_9, Acquisition_grad(util), objfunc, param)\n",
        "exact_9.run(init_evals=n_init, max_iter=iters)\n"
      ]
    },
    {
      "cell_type": "code",
      "execution_count": 43,
      "metadata": {
        "id": "6amuYlUdIv7r",
        "colab": {
          "base_uri": "https://localhost:8080/"
        },
        "outputId": "e43e613d-f9ce-41a8-d41b-5519ab7cd94e"
      },
      "outputs": [
        {
          "output_type": "stream",
          "name": "stdout",
          "text": [
            "Evaluation \t Proposed point \t  Current eval. \t  Best eval. \t        Exact ERM: StdDev. x \t Approx ERM: StdDev. x \n",
            "init\t [ 2.77832339 -4.90750004]\t 55.886194099964676\t 14.855028828430257\t    \t    \n",
            "init\t [1.36855793 2.54775176]\t 14.855028828430257\t 14.855028828430257\t    \t    \n",
            "init\t [-0.01528819 -2.81808235]\t 15.883409988980564\t 14.855028828430257\t    \t    \n",
            "init\t [-3.09183626  2.66783449]\t 23.79413325191142\t 14.855028828430257\t    \t    \n",
            "init\t [-3.38830503 -4.2154003 ]\t 47.019810427389544\t 14.855028828430257\t    \t    \n",
            "1  \t [ 5.12       -0.34497338]\t 26.45241326448165\t 14.855028828430257\t 3.0330831674438925\t 3.555934160565893\n",
            "2  \t [5.12 5.12]\t 78.64320000000001\t 14.855028828430257\t 3.083472684033078\t 2.996107140109678\n",
            "3  \t [-4.12803546 -0.63848429]\t 17.85600114623586\t 14.855028828430257\t 2.923751198487619\t 3.198550891131236\n",
            "4  \t [-0.20486656  5.12      ]\t 52.470770305870886\t 14.855028828430257\t 3.151259570049207\t 3.5567729983326446\n",
            "5  \t [-4.38862858  5.12      ]\t 71.68886082534767\t 14.855028828430257\t 2.5096268614333948\t 3.1136741793649443\n",
            "\u001b[1m\u001b[92m6\u001b[0m\t \u001b[1m\u001b[92m[ 2.10055253 -0.6474084 ]\u001b[0m\t \u001b[1m\u001b[92m5.250596196253026\u001b[0m\t \u001b[1m\u001b[92m5.250596196253026\u001b[0m\t \u001b[1m\u001b[92m3.026446235301114\u001b[0m\t \u001b[1m\u001b[92m2.9990553934764477\u001b[0m\n",
            "\u001b[1m\u001b[92m7\u001b[0m\t \u001b[1m\u001b[92m[-0.78257012  0.31347326]\u001b[0m\t \u001b[1m\u001b[92m0.8089469643893502\u001b[0m\t \u001b[1m\u001b[92m0.8089469643893502\u001b[0m\t \u001b[1m\u001b[92m2.6672200342669172\u001b[0m\t \u001b[1m\u001b[92m2.945593218721658\u001b[0m\n",
            "8  \t [3.78378511 2.27687538]\t 24.685352796110216\t 0.8089469643893502\t 3.0192842710115664\t 3.3745619134733635\n",
            "9  \t [-0.73039947 -5.12      ]\t 52.962283378663045\t 0.8089469643893502\t 3.0381513644731766\t 3.2033788241312924\n",
            "10 \t [ 3.89020279 -2.38850562]\t 26.5435959486743\t 0.8089469643893502\t 2.970096262129527\t 3.1807538644792235\n",
            "11 \t [2.50887294 5.12      ]\t 58.72324342792297\t 0.8089469643893502\t 2.704859721012256\t 2.610377484127332\n",
            "12 \t [-5.12        1.54653944]\t 30.997968450936362\t 0.8089469643893502\t 3.157535854437915\t 2.727386631251549\n",
            "13 \t [-1.77340155 -1.22501627]\t 6.146282801502771\t 0.8089469643893502\t 3.25983716991222\t 2.7642755428439223\n",
            "14 \t [0.70999948 0.45115781]\t 0.9111860023401797\t 0.8089469643893502\t 2.5619130128598724\t 2.877003709168818\n",
            "15 \t [-0.71658734  2.07667522]\t 9.138657383597877\t 0.8089469643893502\t 2.7299718509060256\t 2.728345932777434\n",
            "16 \t [-5.12 -5.12]\t 78.64320000000001\t 0.8089469643893502\t 2.7737381803069967\t 2.83045405391866\n",
            "17 \t [-5.12       -2.46853298]\t 38.401710135756055\t 0.8089469643893502\t 2.994458594861615\t 3.421934147000502\n",
            "18 \t [-1.82819732 -2.56803217]\t 16.531883844213695\t 0.8089469643893502\t 2.685732822850035\t 2.8878399845487714\n",
            "19 \t [-2.65685599  1.10548286]\t 9.503068419771154\t 0.8089469643893502\t 2.645266159147252\t 2.8131436089184874\n",
            "20 \t [ 1.46276184 -1.91515902]\t 9.47534032585091\t 0.8089469643893502\t 2.202839199033992\t 2.8231701592569336\n"
          ]
        }
      ],
      "source": [
        "### EXACT STP ERM GRADIENTS\n",
        "\n",
        "np.random.seed(run_num_10)\n",
        "surrogate_exact_10 = dtStudentProcess(cov_func, optimize=opt, nu = df)\n",
        "\n",
        "exact_10 = dGPGO(surrogate_exact_10, Acquisition_grad(util), objfunc, param)\n",
        "exact_10.run(init_evals=n_init, max_iter=iters)\n"
      ]
    },
    {
      "cell_type": "code",
      "execution_count": 44,
      "metadata": {
        "id": "VwbLIP9cIv-F",
        "colab": {
          "base_uri": "https://localhost:8080/"
        },
        "outputId": "04b31436-6686-441e-c4f7-a892f486e2df"
      },
      "outputs": [
        {
          "output_type": "stream",
          "name": "stdout",
          "text": [
            "Evaluation \t Proposed point \t  Current eval. \t  Best eval. \t        Exact ERM: StdDev. x \t Approx ERM: StdDev. x \n",
            "init\t [-3.27403839 -4.92057353]\t 59.14341502486697\t 0.7122141741228657\t    \t    \n",
            "init\t [-0.37664229  2.30332343]\t 10.752457105378047\t 0.7122141741228657\t    \t    \n",
            "init\t [-0.81711509 -0.14922651]\t 0.7122141741228657\t 0.7122141741228657\t    \t    \n",
            "init\t [-4.98912446 -0.12931474]\t 24.924807467825406\t 0.7122141741228657\t    \t    \n",
            "init\t [4.52410012 3.59214172]\t 46.27444610017016\t 0.7122141741228657\t    \t    \n",
            "1  \t [ 3.03550212 -4.46785095]\t 49.13765732819627\t 0.7122141741228657\t 2.8927933740127956\t 3.819299798987514\n",
            "2  \t [ 4.96641384 -0.59159031]\t 25.365224619077985\t 0.7122141741228657\t 2.249406542652051\t 3.484960167210532\n",
            "3  \t [1.03993634 5.12      ]\t 53.510267588855754\t 0.7122141741228657\t 2.6667695525351176\t 3.8471247156331665\n",
            "4  \t [ 1.4333058  -1.06524821]\t 4.323873021671382\t 0.7122141741228657\t 2.735125733227746\t 2.4217559718704162\n",
            "5  \t [-3.42260927  3.23430786]\t 32.635748908583004\t 0.7122141741228657\t 2.654993931491405\t 3.3138684824834805\n",
            "6  \t [-0.87754237 -2.44334654]\t 12.709965213117718\t 0.7122141741228657\t 2.8964017161431417\t 2.798960047544063\n",
            "7  \t [-0.06718195 -5.10723528]\t 52.172217879641224\t 0.7122141741228657\t 3.0803395186810127\t 3.4866831655943242\n",
            "8  \t [2.53455508 1.13856945]\t 9.016650247153281\t 0.7122141741228657\t 2.546363508735582\t 2.8442225793557108\n",
            "9  \t [-5.12       -2.74328779]\t 41.26565584991882\t 0.7122141741228657\t 3.1581325280452406\t 3.014374304282014\n",
            "10 \t [-2.35323907  0.38773727]\t 5.838414508396801\t 0.7122141741228657\t 2.4741924173299\t 3.0313300959247926\n",
            "11 \t [-1.32251192  4.53117384]\t 42.81211053220952\t 0.7122141741228657\t 2.6037232190497144\t 3.350187717391453\n",
            "12 \t [0.70074309 0.35994284]\t 0.7501585624928755\t 0.7122141741228657\t 2.8152430381642377\t 3.2250153265879455\n",
            "13 \t [-2.86939077 -1.23038176]\t 11.26108193292116\t 0.7122141741228657\t 2.8030907214077136\t 3.4279966656485485\n",
            "14 \t [ 3.43228017 -1.91543035]\t 19.11829402731015\t 0.7122141741228657\t 2.6777833026356213\t 3.326754472936063\n",
            "15 \t [ 0.09703657 -0.89152989]\t 1.599067194277876\t 0.7122141741228657\t 2.7087935970497115\t 2.7407878942647272\n",
            "16 \t [1.61850318 2.65831971]\t 16.752879866579725\t 0.7122141741228657\t 3.113459983371799\t 3.5983855338391053\n",
            "17 \t [5.12       1.39302781]\t 30.095452957890682\t 0.7122141741228657\t 2.382277906313066\t 2.1985887121087426\n",
            "18 \t [ 5.09255457 -3.34359753]\t 48.29340090297856\t 0.7122141741228657\t 2.535612779830393\t 2.89696747805477\n",
            "19 \t [ 1.34863865 -2.8451696 ]\t 18.00880625636802\t 0.7122141741228657\t 2.6753808453683\t 3.166974228003361\n",
            "20 \t [-5.11003102  1.91709762]\t 33.46294356535117\t 0.7122141741228657\t 3.175948578538567\t 3.5664390012949743\n"
          ]
        }
      ],
      "source": [
        "### EXACT STP ERM GRADIENTS\n",
        "\n",
        "np.random.seed(run_num_11)\n",
        "surrogate_exact_11 = dtStudentProcess(cov_func, optimize=opt, nu = df)\n",
        "\n",
        "exact_11 = dGPGO(surrogate_exact_11, Acquisition_grad(util), objfunc, param)\n",
        "exact_11.run(init_evals=n_init, max_iter=iters)\n"
      ]
    },
    {
      "cell_type": "code",
      "execution_count": 45,
      "metadata": {
        "id": "MlUNFjc-JTBY",
        "colab": {
          "base_uri": "https://localhost:8080/"
        },
        "outputId": "444151ab-7432-493e-8cec-4cb6b23a0adf"
      },
      "outputs": [
        {
          "output_type": "stream",
          "name": "stdout",
          "text": [
            "Evaluation \t Proposed point \t  Current eval. \t  Best eval. \t        Exact ERM: StdDev. x \t Approx ERM: StdDev. x \n",
            "init\t [-3.54137249  2.45810889]\t 24.62591779447066\t 6.112828495563743\t    \t    \n",
            "init\t [-2.42365424  0.34549139]\t 6.112828495563743\t 6.112828495563743\t    \t    \n",
            "init\t [-4.97075238  4.28796936]\t 61.48174177959852\t 6.112828495563743\t    \t    \n",
            "init\t [ 4.10332011 -4.77776458]\t 62.49130467854858\t 6.112828495563743\t    \t    \n",
            "init\t [ 4.6791612  -3.71497655]\t 49.4966510918416\t 6.112828495563743\t    \t    \n",
            "1  \t [5.12 5.12]\t 78.64320000000001\t 6.112828495563743\t 3.4735396927830475\t 3.6662405470824897\n",
            "2  \t [-1.84893086 -4.88854925]\t 51.21437290657847\t 6.112828495563743\t 3.0683649194797034\t 3.079393510963329\n",
            "3  \t [2.22272622 0.80459863]\t 6.235269728037231\t 6.112828495563743\t 3.0611062020610196\t 3.1196045361330382\n",
            "4  \t [0.44327916 4.69262403]\t 44.237937058689795\t 6.112828495563743\t 2.903058651742349\t 3.0473317350206437\n",
            "5  \t [-5.12       -2.29005415]\t 36.70309599594222\t 6.112828495563743\t 3.3386188815154374\t 2.926539419131104\n",
            "6  \t [ 0.83674256 -2.07732956]\t 9.330734307619158\t 6.112828495563743\t 2.6624115773281134\t 2.6860624523651935\n",
            "7  \t [5.12       0.30124938]\t 26.39590237419284\t 6.112828495563743\t 2.93423889946433\t 3.145978233391915\n",
            "\u001b[1m\u001b[92m8\u001b[0m\t \u001b[1m\u001b[92m[-0.34290551  1.62493583]\u001b[0m\t \u001b[1m\u001b[92m5.3984171200561635\u001b[0m\t \u001b[1m\u001b[92m5.3984171200561635\u001b[0m\t \u001b[1m\u001b[92m2.394565960779576\u001b[0m\t \u001b[1m\u001b[92m2.6784954060236204\u001b[0m\n",
            "9  \t [-5.12 -5.12]\t 78.64320000000001\t 5.3984171200561635\t 3.1516324251150794\t 3.1616815774333027\n",
            "10 \t [-2.32586622 -1.60679907]\t 10.573260158884114\t 5.3984171200561635\t 2.7710396096566736\t 3.300181820881847\n",
            "11 \t [3.12674729 2.79249161]\t 25.372567410588108\t 5.3984171200561635\t 2.770252463021404\t 2.748338337929503\n",
            "12 \t [ 3.10391268 -1.50163192]\t 14.144070776501813\t 5.3984171200561635\t 2.4079441196235636\t 2.85195397462488\n",
            "13 \t [ 1.06970708 -5.10662379]\t 53.29948633319665\t 5.3984171200561635\t 2.6295131479267977\t 2.875143370798555\n",
            "14 \t [-1.94841608  5.04282774]\t 54.65654851404125\t 5.3984171200561635\t 2.65948100110071\t 2.752489855956382\n",
            "15 \t [-4.81026817  0.35133248]\t 23.385548838881757\t 5.3984171200561635\t 2.5684182067790013\t 2.7128209825616194\n",
            "\u001b[1m\u001b[92m16\u001b[0m\t \u001b[1m\u001b[92m[ 0.9580898  -0.38699631]\u001b[0m\t \u001b[1m\u001b[92m1.2174683509937623\u001b[0m\t \u001b[1m\u001b[92m1.2174683509937623\u001b[0m\t \u001b[1m\u001b[92m2.5800774976410477\u001b[0m\t \u001b[1m\u001b[92m2.5871815133503286\u001b[0m\n",
            "\u001b[1m\u001b[92m17\u001b[0m\t \u001b[1m\u001b[92m[-0.74714828  0.16493327]\u001b[0m\t \u001b[1m\u001b[92m0.6126365249834668\u001b[0m\t \u001b[1m\u001b[92m0.6126365249834668\u001b[0m\t \u001b[1m\u001b[92m2.333994233160482\u001b[0m\t \u001b[1m\u001b[92m2.5298149479116243\u001b[0m\n",
            "18 \t [ 2.81624802 -3.40857691]\t 31.168046003269133\t 0.6126365249834668\t 3.1234728073796463\t 2.8566356938556607\n",
            "19 \t [2.69837687 5.12      ]\t 59.71003774540602\t 0.6126365249834668\t 2.7443366742954254\t 3.0508539147707405\n",
            "20 \t [-0.88797353 -3.16037892]\t 20.764486798679403\t 0.6126365249834668\t 2.6672777679997948\t 3.214802476765585\n"
          ]
        }
      ],
      "source": [
        "### EXACT STP ERM GRADIENTS\n",
        "\n",
        "np.random.seed(run_num_12)\n",
        "surrogate_exact_12 = dtStudentProcess(cov_func, optimize=opt, nu = df)\n",
        "\n",
        "exact_12 = dGPGO(surrogate_exact_12, Acquisition_grad(util), objfunc, param)\n",
        "exact_12.run(init_evals=n_init, max_iter=iters)\n"
      ]
    },
    {
      "cell_type": "code",
      "execution_count": 46,
      "metadata": {
        "id": "9BsKdU9eJTFL",
        "colab": {
          "base_uri": "https://localhost:8080/"
        },
        "outputId": "6dcb1f66-9c04-4e4b-f592-91f5fc3a07af"
      },
      "outputs": [
        {
          "output_type": "stream",
          "name": "stdout",
          "text": [
            "Evaluation \t Proposed point \t  Current eval. \t  Best eval. \t        Exact ERM: StdDev. x \t Approx ERM: StdDev. x \n",
            "init\t [ 2.84367268 -2.68757791]\t 22.532624345992815\t 12.440151302029248\t    \t    \n",
            "init\t [3.32061217 4.76927179]\t 56.51837198799\t 12.440151302029248\t    \t    \n",
            "init\t [ 4.83943541 -0.47667971]\t 23.87458213765974\t 12.440151302029248\t    \t    \n",
            "init\t [1.11659482 2.82139151]\t 17.16728408945556\t 12.440151302029248\t    \t    \n",
            "init\t [1.45012065 2.27346667]\t 12.440151302029248\t 12.440151302029248\t    \t    \n",
            "1  \t [-4.10876704 -2.60547476]\t 30.458964016081993\t 12.440151302029248\t 3.3599409053271128\t 3.1480400961229407\n",
            "2  \t [-3.79949934  2.66818298]\t 28.674596117903583\t 12.440151302029248\t 3.300072078453558\t 3.5436581198374393\n",
            "3  \t [-0.62510135 -5.12      ]\t 52.8195516983486\t 12.440151302029248\t 3.2465632468737238\t 3.124473400633831\n",
            "\u001b[1m\u001b[92m4\u001b[0m\t \u001b[1m\u001b[92m[-0.60142715 -0.76479895]\u001b[0m\t \u001b[1m\u001b[92m1.5315494811027874\u001b[0m\t \u001b[1m\u001b[92m1.5315494811027874\u001b[0m\t \u001b[1m\u001b[92m2.827476093001666\u001b[0m\t \u001b[1m\u001b[92m3.263349542543301\u001b[0m\n",
            "5  \t [ 4.58826702 -4.67889533]\t 64.83631727620164\t 1.5315494811027874\t 3.313568698385775\t 3.919325525738216\n",
            "6  \t [-0.87062011  5.12      ]\t 53.18677937697366\t 1.5315494811027874\t 2.968460579505971\t 2.862162494702535\n",
            "7  \t [ 1.36464435 -0.17039834]\t 1.9203253838216727\t 1.5315494811027874\t 2.893852702183662\t 3.407730066338573\n",
            "8  \t [-5.12 -5.12]\t 78.64320000000001\t 1.5315494811027874\t 3.2992990014452226\t 3.528963307948806\n",
            "9  \t [-1.24397484  1.06498787]\t 3.8158717334341574\t 1.5315494811027874\t 2.9356236226338406\t 3.556411706089193\n",
            "10 \t [-4.92117367e+00 -4.37178618e-05]\t 24.217950315252896\t 1.5315494811027874\t 2.764521420659333\t 3.1766493466544827\n",
            "11 \t [5.12       2.53837089]\t 39.10105354239516\t 1.5315494811027874\t 2.9435967372250693\t 3.3527268989785024\n",
            "12 \t [ 0.30014099 -2.35897926]\t 11.219650922463808\t 1.5315494811027874\t 2.501769871498493\t 1.950124387111744\n",
            "13 \t [-3.63475605  5.0750073 ]\t 64.7228497409306\t 1.5315494811027874\t 2.937163299251651\t 3.2911898822178984\n",
            "14 \t [-2.42136971 -0.18836771]\t 5.933996073877121\t 1.5315494811027874\t 2.760138239300201\t 2.1698704833096\n",
            "15 \t [2.82401766 0.69361971]\t 8.937292358189666\t 1.5315494811027874\t 2.7786909758173657\t 2.587305797915943\n",
            "\u001b[1m\u001b[92m16\u001b[0m\t \u001b[1m\u001b[92m[0.19648587 0.7440106 ]\u001b[0m\t \u001b[1m\u001b[92m1.1457102271940973\u001b[0m\t \u001b[1m\u001b[92m1.1457102271940973\u001b[0m\t \u001b[1m\u001b[92m2.739321923736754\u001b[0m\t \u001b[1m\u001b[92m2.39604462895871\u001b[0m\n",
            "17 \t [ 1.91142337 -5.05127498]\t 54.68429704658271\t 1.1457102271940973\t 3.014576882385546\t 3.2849330277982527\n",
            "18 \t [-1.74735594 -2.67861949]\t 17.40325749283133\t 1.1457102271940973\t 2.1570955237690903\t 2.537434384436257\n",
            "19 \t [-1.54684003  2.71604961]\t 17.146565090667117\t 1.1457102271940973\t 2.835865389606965\t 2.6398433842512\n",
            "20 \t [-2.5742137  -4.37680036]\t 44.93933890114759\t 1.1457102271940973\t 3.3093636541393954\t 3.8490810922417915\n"
          ]
        }
      ],
      "source": [
        "### EXACT STP ERM GRADIENTS\n",
        "\n",
        "np.random.seed(run_num_13)\n",
        "surrogate_exact_13 = dtStudentProcess(cov_func, optimize=opt, nu = df)\n",
        "\n",
        "exact_13 = dGPGO(surrogate_exact_13, Acquisition_grad(util), objfunc, param)\n",
        "exact_13.run(init_evals=n_init, max_iter=iters)\n"
      ]
    },
    {
      "cell_type": "code",
      "execution_count": 47,
      "metadata": {
        "id": "k6GjFBr1JTJf",
        "colab": {
          "base_uri": "https://localhost:8080/"
        },
        "outputId": "1829685d-955b-4ce9-fc65-e9afd891d89a"
      },
      "outputs": [
        {
          "output_type": "stream",
          "name": "stdout",
          "text": [
            "Evaluation \t Proposed point \t  Current eval. \t  Best eval. \t        Exact ERM: StdDev. x \t Approx ERM: StdDev. x \n",
            "init\t [0.14277984 2.79721013]\t 15.669155142359655\t 6.942951853664133\t    \t    \n",
            "init\t [ 3.7931795  -5.03759925]\t 65.14302308089468\t 6.942951853664133\t    \t    \n",
            "init\t [-1.94830412  4.68586229]\t 47.71049977745547\t 6.942951853664133\t    \t    \n",
            "init\t [ 0.13431513 -1.86076749]\t 6.942951853664133\t 6.942951853664133\t    \t    \n",
            "init\t [ 0.40140736 -2.85434939]\t 16.455748743182696\t 6.942951853664133\t    \t    \n",
            "1  \t [5.12 5.12]\t 78.64320000000001\t 6.942951853664133\t 4.058597440761668\t 3.8258469227289162\n",
            "2  \t [-5.12       -4.11127898]\t 60.01962966063495\t 6.942951853664133\t 3.630594707761633\t 3.5352376627235467\n",
            "3  \t [ 5.12      -0.0517137]\t 26.219748614390333\t 6.942951853664133\t 2.8050195676617284\t 3.7533333632864214\n",
            "4  \t [-5.12        0.91575893]\t 27.891628840761342\t 6.942951853664133\t 2.9186336712148417\t 3.236157519451449\n",
            "\u001b[1m\u001b[92m5\u001b[0m\t \u001b[1m\u001b[92m[-1.89281091  0.20353347]\u001b[0m\t \u001b[1m\u001b[92m3.665584893235581\u001b[0m\t \u001b[1m\u001b[92m3.665584893235581\u001b[0m\t \u001b[1m\u001b[92m2.4774443109747777\u001b[0m\t \u001b[1m\u001b[92m2.703494639037095\u001b[0m\n",
            "6  \t [1.67739677 5.12      ]\t 55.242459931933304\t 3.665584893235581\t 2.6807352068504113\t 2.860957561416091\n",
            "7  \t [-1.78411801 -5.12      ]\t 55.61187706877811\t 3.665584893235581\t 2.557831992079634\t 2.155977284515439\n",
            "8  \t [ 2.21537033 -0.10740563]\t 4.930937627825267\t 3.665584893235581\t 2.9650337426552373\t 3.0392610290258117\n",
            "9  \t [-5.12       4.1187376]\t 60.142398823133846\t 3.665584893235581\t 2.954268628735569\t 3.1773407115148213\n",
            "10 \t [-2.54432607 -1.89432935]\t 13.65056257688207\t 3.665584893235581\t 2.6480967178690724\t 2.526631074416095\n",
            "11 \t [3.04217916 2.35585077]\t 20.354919772551348\t 3.665584893235581\t 2.9621146185690344\t 2.817528525140503\n",
            "12 \t [ 2.89715425 -1.97105136]\t 16.163589696036333\t 3.665584893235581\t 2.4773410231797763\t 2.764498170276731\n",
            "\u001b[1m\u001b[92m13\u001b[0m\t \u001b[1m\u001b[92m[0.32357152 0.2186146 ]\u001b[0m\t \u001b[1m\u001b[92m0.20028321087097423\u001b[0m\t \u001b[1m\u001b[92m0.20028321087097423\u001b[0m\t \u001b[1m\u001b[92m2.770625146285911\u001b[0m\t \u001b[1m\u001b[92m3.215723068814788\u001b[0m\n",
            "14 \t [ 1.01487042 -5.09440675]\t 52.93592224359781\t 0.20028321087097423\t 2.535904917538479\t 2.834188510797167\n",
            "15 \t [-2.30214845  1.86133826]\t 12.22904775908783\t 0.20028321087097423\t 2.3549584565130854\t 2.446360624937926\n",
            "16 \t [5.12       2.31083877]\t 36.894351622822235\t 0.20028321087097423\t 2.771503947342117\t 3.3553547063049423\n",
            "17 \t [-3.91104802 -0.58585454]\t 15.982747676904259\t 0.20028321087097423\t 2.7219997029473455\t 3.253708562498436\n",
            "18 \t [ 4.88485803 -1.99093078]\t 31.789448762894228\t 0.20028321087097423\t 2.614398626416652\t 2.50615241890198\n",
            "19 \t [-5.12       -1.97112017]\t 33.98502947480516\t 0.20028321087097423\t 2.7643277213148876\t 2.9577754042776068\n",
            "20 \t [1.38742094 1.21660797]\t 4.885206744027813\t 0.20028321087097423\t 2.7485906491522334\t 3.102544008435291\n"
          ]
        }
      ],
      "source": [
        "### EXACT STP ERM GRADIENTS\n",
        "\n",
        "np.random.seed(run_num_14)\n",
        "surrogate_exact_14 = dtStudentProcess(cov_func, optimize=opt, nu = df)\n",
        "\n",
        "exact_14 = dGPGO(surrogate_exact_14, Acquisition_grad(util), objfunc, param)\n",
        "exact_14.run(init_evals=n_init, max_iter=iters)\n"
      ]
    },
    {
      "cell_type": "code",
      "execution_count": 48,
      "metadata": {
        "id": "dPS8WB3aJTN6",
        "colab": {
          "base_uri": "https://localhost:8080/"
        },
        "outputId": "0a8bee87-beab-4b07-b2ea-e5864091ff75"
      },
      "outputs": [
        {
          "output_type": "stream",
          "name": "stdout",
          "text": [
            "Evaluation \t Proposed point \t  Current eval. \t  Best eval. \t        Exact ERM: StdDev. x \t Approx ERM: StdDev. x \n",
            "init\t [ 3.57189322 -3.28810573]\t 34.38169974295086\t 5.478261179905657\t    \t    \n",
            "init\t [-4.56332069 -1.41784631]\t 24.84447200795673\t 5.478261179905657\t    \t    \n",
            "init\t [-2.29989449  0.3072023 ]\t 5.478261179905657\t 5.478261179905657\t    \t    \n",
            "init\t [-1.9873903  -2.00218256]\t 11.967190241167383\t 5.478261179905657\t    \t    \n",
            "init\t [-3.97576933 -2.5610341 ]\t 28.924533081850157\t 5.478261179905657\t    \t    \n",
            "1  \t [5.12 5.12]\t 78.64320000000001\t 5.478261179905657\t 3.243508745925752\t 3.6840557560793066\n",
            "2  \t [-2.66981022  5.12      ]\t 59.55668660806417\t 5.478261179905657\t 2.7537656337520726\t 3.5028635075126497\n",
            "3  \t [2.06718859 1.27345284]\t 7.516632915472393\t 5.478261179905657\t 3.1286826005873727\t 3.0907977807866978\n",
            "4  \t [-0.13329771 -5.12      ]\t 52.44656827900527\t 5.478261179905657\t 2.8796193838336013\t 3.11999250984742\n",
            "5  \t [5.12       0.37221377]\t 26.491486186164824\t 5.478261179905657\t 3.0977537176745624\t 3.4273825189231863\n",
            "6  \t [1.19972816 5.12      ]\t 53.86814766255043\t 5.478261179905657\t 2.9706646767548786\t 3.6365021854742015\n",
            "7  \t [-5.12        2.19235822]\t 35.82726917006913\t 5.478261179905657\t 2.7342783900777397\t 3.028869558179138\n",
            "\u001b[1m\u001b[92m8\u001b[0m\t \u001b[1m\u001b[92m[ 0.83936357 -1.21284972]\u001b[0m\t \u001b[1m\u001b[92m3.646540062906721\u001b[0m\t \u001b[1m\u001b[92m3.646540062906721\u001b[0m\t \u001b[1m\u001b[92m3.417393799114778\u001b[0m\t \u001b[1m\u001b[92m3.434978545394301\u001b[0m\n",
            "9  \t [-5.12 -5.12]\t 78.64320000000001\t 3.646540062906721\t 2.318068429618083\t 2.417961086370173\n",
            "10 \t [-0.58639147  2.26921681]\t 10.64254481396185\t 3.646540062906721\t 2.1201649133219638\t 2.7990597626594567\n",
            "11 \t [3.34228801 2.85287388]\t 27.44866784188696\t 3.646540062906721\t 2.4954339311534723\t 2.9427668887374927\n",
            "12 \t [ 2.62245933 -0.66085954]\t 7.750763604814557\t 3.646540062906721\t 2.376072364945272\t 2.830856014444364\n",
            "13 \t [-2.24238126  1.78103592]\t 11.372451608340384\t 3.646540062906721\t 2.752986192073574\t 3.2288274149397314\n",
            "\u001b[1m\u001b[92m14\u001b[0m\t \u001b[1m\u001b[92m[0.13166399 0.15712549]\u001b[0m\t \u001b[1m\u001b[92m0.06671224497994185\u001b[0m\t \u001b[1m\u001b[92m0.06671224497994185\u001b[0m\t \u001b[1m\u001b[92m2.5711649295848296\u001b[0m\t \u001b[1m\u001b[92m3.1642328818098395\u001b[0m\n",
            "15 \t [ 0.69512345 -2.63528308]\t 14.372630390929896\t 0.06671224497994185\t 2.187385023754114\t 2.6576314799123724\n",
            "16 \t [-2.4576693 -5.12     ]\t 58.46893838910119\t 0.06671224497994185\t 3.0935789548200363\t 3.1797273947234266\n",
            "17 \t [-0.8079463  -0.65282366]\t 1.505134690352775\t 0.06671224497994185\t 2.0887632722401817\t 2.4504643360812963\n",
            "18 \t [ 2.01929013 -4.70611332]\t 48.372537855056535\t 0.06671224497994185\t 2.810386798381593\t 2.9769519447001755\n",
            "19 \t [0.8560597  1.25656394]\t 3.890744085508679\t 0.06671224497994185\t 2.6914955521995183\t 3.027122526402611\n",
            "20 \t [ 4.55087733 -1.48720544]\t 25.13404446970504\t 0.06671224497994185\t 2.199373342085937\t 3.173361829052666\n"
          ]
        }
      ],
      "source": [
        "### EXACT STP ERM GRADIENTS\n",
        "\n",
        "np.random.seed(run_num_15)\n",
        "surrogate_exact_15 = dtStudentProcess(cov_func, optimize=opt, nu = df)\n",
        "\n",
        "exact_15 = dGPGO(surrogate_exact_15, Acquisition_grad(util), objfunc, param)\n",
        "exact_15.run(init_evals=n_init, max_iter=iters)\n"
      ]
    },
    {
      "cell_type": "code",
      "execution_count": 49,
      "metadata": {
        "id": "lu8ki9XIQPPN",
        "colab": {
          "base_uri": "https://localhost:8080/"
        },
        "outputId": "d8f3f8ac-e57b-43ba-9396-0691e5451eb0"
      },
      "outputs": [
        {
          "output_type": "stream",
          "name": "stdout",
          "text": [
            "Evaluation \t Proposed point \t  Current eval. \t  Best eval. \t        Exact ERM: StdDev. x \t Approx ERM: StdDev. x \n",
            "init\t [-2.83349935  0.23719262]\t 8.141239237549925\t 8.141239237549925\t    \t    \n",
            "init\t [ 0.51918292 -4.65303603]\t 43.571039504503474\t 8.141239237549925\t    \t    \n",
            "init\t [-1.42613673 -2.83565116]\t 18.11570093066862\t 8.141239237549925\t    \t    \n",
            "init\t [ 1.9325559  -3.44339021]\t 27.448644544199137\t 8.141239237549925\t    \t    \n",
            "init\t [-4.39987336  4.51595121]\t 60.146516261103784\t 8.141239237549925\t    \t    \n",
            "1  \t [5.12 5.12]\t 78.64320000000001\t 8.141239237549925\t 3.6920453542915657\t 3.897129469107269\n",
            "2  \t [5.12       0.06417698]\t 26.22263737000126\t 8.141239237549925\t 3.0984820923414174\t 3.605205903948436\n",
            "3  \t [0.41606856 3.75787742]\t 28.41639845998041\t 8.141239237549925\t 3.3535575283402794\t 3.9795961100792816\n",
            "4  \t [-5.12 -5.12]\t 78.64320000000001\t 8.141239237549925\t 3.8051634880942147\t 3.230481245076992\n",
            "\u001b[1m\u001b[92m5\u001b[0m\t \u001b[1m\u001b[92m[0.81451817 0.20679257]\u001b[0m\t \u001b[1m\u001b[92m0.7489661857624226\u001b[0m\t \u001b[1m\u001b[92m0.7489661857624226\u001b[0m\t \u001b[1m\u001b[92m2.2862126398967315\u001b[0m\t \u001b[1m\u001b[92m2.5382808170665156\u001b[0m\n",
            "6  \t [ 5.12     -3.380141]\t 49.06510634557607\t 0.7489661857624226\t 3.393597205998421\t 3.442542527851564\n",
            "7  \t [2.78181358 1.79724166]\t 14.198641950143891\t 0.7489661857624226\t 2.8705796314203886\t 3.2075952193735766\n",
            "8  \t [-4.26819503 -1.85018398]\t 25.063850345457695\t 0.7489661857624226\t 2.68170960613094\t 3.018888697914654\n",
            "9  \t [-0.66565041  1.13144243]\t 3.0034144052620344\t 0.7489661857624226\t 2.5462691152571204\t 2.7911773882766915\n",
            "10 \t [ 2.47338983 -0.896672  ]\t 7.725698561218741\t 0.7489661857624226\t 2.963507263624216\t 3.3285648185924486\n",
            "11 \t [-0.03420588 -1.02498294]\t 2.102350098028714\t 0.7489661857624226\t 2.919884384117189\t 3.1876897316785673\n",
            "12 \t [-5.12        1.20559229]\t 29.121305534820028\t 0.7489661857624226\t 3.1404186624356103\t 3.606633366908467\n",
            "13 \t [-1.95514356  3.27089538]\t 25.22009950770658\t 0.7489661857624226\t 2.436727540482009\t 3.0253245510846343\n",
            "14 \t [-2.35843924 -4.92152855]\t 54.00512212663886\t 0.7489661857624226\t 2.7335818299050185\t 2.6597059762987785\n",
            "15 \t [2.35242179 4.98538787]\t 55.24207262926267\t 0.7489661857624226\t 2.060831006864638\t 2.316213506448784\n",
            "16 \t [5.12       2.55839952]\t 39.305216238767855\t 0.7489661857624226\t 1.7540489677995\t 2.1331243276504894\n",
            "17 \t [-1.04362429 -0.78747804]\t 2.3293949956140363\t 0.7489661857624226\t 2.8184278944898304\t 2.59473448610633\n",
            "18 \t [-2.14064248  5.12      ]\t 57.0111502230099\t 0.7489661857624226\t 2.8477906787520935\t 3.364318662133654\n",
            "19 \t [0.97007303 1.58838302]\t 5.986962951293968\t 0.7489661857624226\t 2.1534159475598553\t 2.456168213783925\n",
            "20 \t [ 3.20214127 -4.87091113]\t 57.70525925259501\t 0.7489661857624226\t 2.590931114785715\t 2.6849386682222356\n"
          ]
        }
      ],
      "source": [
        "### EXACT STP ERM GRADIENTS\n",
        "\n",
        "np.random.seed(run_num_16)\n",
        "surrogate_exact_16 = dtStudentProcess(cov_func, optimize=opt, nu = df)\n",
        "\n",
        "exact_16 = dGPGO(surrogate_exact_16, Acquisition_grad(util), objfunc, param)\n",
        "exact_16.run(init_evals=n_init, max_iter=iters)\n"
      ]
    },
    {
      "cell_type": "code",
      "execution_count": 50,
      "metadata": {
        "id": "yU2SflSsJTUs",
        "colab": {
          "base_uri": "https://localhost:8080/"
        },
        "outputId": "99e9ce01-2298-46ed-fc28-60c2f139e69c"
      },
      "outputs": [
        {
          "output_type": "stream",
          "name": "stdout",
          "text": [
            "Evaluation \t Proposed point \t  Current eval. \t  Best eval. \t        Exact ERM: StdDev. x \t Approx ERM: StdDev. x \n",
            "init\t [-2.10263037  0.31320838]\t 4.617253458637031\t 3.1817562258207746\t    \t    \n",
            "init\t [-3.15882714 -4.42470033]\t 49.134134969019556\t 3.1817562258207746\t    \t    \n",
            "init\t [2.93873111 1.60085526]\t 13.761615685279608\t 3.1817562258207746\t    \t    \n",
            "init\t [1.40821398 0.77417363]\t 3.1817562258207746\t 3.1817562258207746\t    \t    \n",
            "init\t [-4.71999574 -1.45598869]\t 26.518165900202685\t 3.1817562258207746\t    \t    \n",
            "1  \t [ 4.96008736 -4.44720822]\t 64.15778856025273\t 3.1817562258207746\t 3.1847565881062545\t 4.350774880537536\n",
            "2  \t [-1.95632529  4.77843455]\t 49.49408204651806\t 3.1817562258207746\t 3.277317965384391\t 3.470641599652139\n",
            "3  \t [5.12 5.12]\t 78.64320000000001\t 3.1817562258207746\t 2.864915953272251\t 3.3393104678918824\n",
            "4  \t [ 0.47904151 -2.32508737]\t 11.041543296903994\t 3.1817562258207746\t 3.1898522902525634\t 3.754512775674556\n",
            "5  \t [ 5.12      -0.6223464]\t 26.98903007663151\t 3.1817562258207746\t 2.6263241024956185\t 3.3705604067461277\n",
            "6  \t [-5.12        2.33955066]\t 37.161394555805366\t 3.1817562258207746\t 2.6897689795764954\t 3.1006517723580598\n",
            "7  \t [1.49660729 5.12      ]\t 54.66863338994019\t 3.1817562258207746\t 2.8254178069645794\t 2.784373730750676\n",
            "8  \t [-0.24989083 -4.51203988]\t 40.77945324857779\t 3.1817562258207746\t 3.137913152030974\t 3.336074656587386\n",
            "9  \t [-0.17368367  2.06285545]\t 8.540911212639642\t 3.1817562258207746\t 3.1959501833580815\t 3.5744429963369115\n",
            "10 \t [ 2.91018651 -2.2982181 ]\t 19.032798367584974\t 3.1817562258207746\t 2.4698285507494653\t 2.5293844346335845\n",
            "11 \t [5.12       2.09736538]\t 35.012283103369676\t 3.1817562258207746\t 3.080134250386154\t 3.223630222509887\n",
            "12 \t [-1.56085993 -1.67981315]\t 8.0798282015589\t 3.1817562258207746\t 2.7214770963064465\t 2.5131127034268133\n",
            "\u001b[1m\u001b[92m13\u001b[0m\t \u001b[1m\u001b[92m[ 0.03218364 -0.08102102]\u001b[0m\t \u001b[1m\u001b[92m0.01416459725143999\u001b[0m\t \u001b[1m\u001b[92m0.01416459725143999\u001b[0m\t \u001b[1m\u001b[92m2.067102172371537\u001b[0m\t \u001b[1m\u001b[92m2.111640002176084\u001b[0m\n",
            "14 \t [-2.45404843  2.04718023]\t 14.404247458847559\t 0.01416459725143999\t 2.086730296013978\t 2.708110676026799\n",
            "15 \t [ 1.87193179 -0.40971155]\t 3.83985573806277\t 0.01416459725143999\t 2.547963115813177\t 2.241606259571917\n",
            "16 \t [-4.29099382  4.48973787]\t 58.72812022314493\t 0.01416459725143999\t 2.250479579199259\t 2.7283936579767305\n",
            "17 \t [ 2.25430864 -5.12      ]\t 57.510707435422084\t 0.01416459725143999\t 2.611344726370208\t 2.7110198784567054\n",
            "18 \t [1.6753105  3.02234887]\t 21.075850658042068\t 0.01416459725143999\t 2.8273887005355673\t 3.151701516919948\n",
            "19 \t [-3.69631913  0.4962441 ]\t 14.155291502066797\t 0.01416459725143999\t 2.556096685679296\t 2.5252889738353437\n",
            "20 \t [-0.89575809  0.73554364]\t 1.8844314590752305\t 0.01416459725143999\t 2.420478703181983\t 2.5460953550373775\n"
          ]
        }
      ],
      "source": [
        "### EXACT STP ERM GRADIENTS\n",
        "\n",
        "np.random.seed(run_num_17)\n",
        "surrogate_exact_17 = dtStudentProcess(cov_func, optimize=opt, nu = df)\n",
        "\n",
        "exact_17 = dGPGO(surrogate_exact_17, Acquisition_grad(util), objfunc, param)\n",
        "exact_17.run(init_evals=n_init, max_iter=iters)\n"
      ]
    },
    {
      "cell_type": "code",
      "execution_count": 51,
      "metadata": {
        "id": "eVEhyZ9BQS-1",
        "colab": {
          "base_uri": "https://localhost:8080/"
        },
        "outputId": "9dd1b4ba-afe2-42d7-cc60-e8a7281ae53f"
      },
      "outputs": [
        {
          "output_type": "stream",
          "name": "stdout",
          "text": [
            "Evaluation \t Proposed point \t  Current eval. \t  Best eval. \t        Exact ERM: StdDev. x \t Approx ERM: StdDev. x \n",
            "init\t [1.53983224 0.05584255]\t 2.3773200933391867\t 2.3773200933391867\t    \t    \n",
            "init\t [ 3.87687906 -3.25795609]\t 36.25874706055664\t 2.3773200933391867\t    \t    \n",
            "init\t [3.60686662 2.56139557]\t 26.130981366974602\t 2.3773200933391867\t    \t    \n",
            "init\t [1.70088108 4.99604939]\t 52.81401545301259\t 2.3773200933391867\t    \t    \n",
            "init\t [-2.48864335 -4.83014733]\t 52.85399210258478\t 2.3773200933391867\t    \t    \n",
            "1  \t [-5.00718904  2.9174042 ]\t 42.09443666312248\t 2.3773200933391867\t 3.0509876797033297\t 3.610120889148808\n",
            "2  \t [-2.07267486 -0.31790723]\t 4.498111083391848\t 2.3773200933391867\t 3.001918340615311\t 2.3949353705904297\n",
            "3  \t [-1.35630676  2.96160056]\t 19.381723730419566\t 2.3773200933391867\t 2.890934115208758\t 3.0620090674322893\n",
            "4  \t [-5.12      -1.6214935]\t 31.47288235850406\t 2.3773200933391867\t 3.209365042707776\t 3.553092650338437\n",
            "5  \t [ 0.27468854 -2.27971596]\t 10.469663477458734\t 2.3773200933391867\t 2.965468060703715\t 2.9502780538408615\n",
            "6  \t [ 1.04019444 -5.12      ]\t 53.510804481050464\t 2.3773200933391867\t 3.143594300962332\t 3.0501289647653316\n",
            "7  \t [ 5.12      -0.1985141]\t 26.293215692055412\t 2.3773200933391867\t 2.8737627306594997\t 3.4382266618563304\n",
            "8  \t [5.12 5.12]\t 78.64320000000001\t 2.3773200933391867\t 2.753113639442201\t 3.2089301103028602\n",
            "9  \t [-2.0025153  5.12     ]\t 56.43886751774576\t 2.3773200933391867\t 2.643419046397218\t 3.010695264538177\n",
            "10 \t [-2.40279033 -1.89380248]\t 12.946377052113295\t 2.3773200933391867\t 3.0342616576913453\t 3.4875299009148897\n",
            "11 \t [0.84773468 1.90932528]\t 8.009700122376051\t 2.3773200933391867\t 2.656800757747865\t 2.7173316252125495\n",
            "12 \t [-3.2959856   0.86902862]\t 12.373942557098857\t 2.3773200933391867\t 2.5191740720874463\t 3.1804086075492886\n",
            "\u001b[1m\u001b[92m13\u001b[0m\t \u001b[1m\u001b[92m[-0.31608194  0.27381541]\u001b[0m\t \u001b[1m\u001b[92m0.2498575541447911\u001b[0m\t \u001b[1m\u001b[92m0.2498575541447911\u001b[0m\t \u001b[1m\u001b[92m2.6151198867995262\u001b[0m\t \u001b[1m\u001b[92m2.8286544715310353\u001b[0m\n",
            "14 \t [-5.12 -5.12]\t 78.64320000000001\t 0.2498575541447911\t 2.534894219188416\t 3.1509476814887862\n",
            "15 \t [-4.43510253  5.12      ]\t 72.09893440949415\t 0.2498575541447911\t 2.854772840890106\t 3.367475365013987\n",
            "16 \t [2.91958905 0.09499765]\t 8.542049319029744\t 0.2498575541447911\t 2.186305051116725\t 3.3395184404312523\n",
            "17 \t [ 2.38702936 -1.70226655]\t 11.493331999715318\t 0.2498575541447911\t 2.8180969515240557\t 2.676683930094982\n",
            "18 \t [-4.97617441  0.47265089]\t 25.209109502042548\t 0.2498575541447911\t 3.1670582992877074\t 3.4276092299542187\n",
            "19 \t [-1.58035618  1.25563049]\t 5.650741482888659\t 0.2498575541447911\t 2.5267723068901313\t 2.8604223954193375\n",
            "20 \t [-0.90341363 -3.452873  ]\t 24.66082014804337\t 0.2498575541447911\t 2.549577124694102\t 3.1919737668313255\n"
          ]
        }
      ],
      "source": [
        "### EXACT STP ERM GRADIENTS\n",
        "\n",
        "np.random.seed(run_num_18)\n",
        "surrogate_exact_18 = dtStudentProcess(cov_func, optimize=opt, nu = df)\n",
        "\n",
        "exact_18 = dGPGO(surrogate_exact_18, Acquisition_grad(util), objfunc, param)\n",
        "exact_18.run(init_evals=n_init, max_iter=iters)\n"
      ]
    },
    {
      "cell_type": "code",
      "execution_count": 52,
      "metadata": {
        "id": "B6gTz1ojQUxn",
        "colab": {
          "base_uri": "https://localhost:8080/"
        },
        "outputId": "30484aaa-d0e3-4f28-9093-edf718759fb5"
      },
      "outputs": [
        {
          "output_type": "stream",
          "name": "stdout",
          "text": [
            "Evaluation \t Proposed point \t  Current eval. \t  Best eval. \t        Exact ERM: StdDev. x \t Approx ERM: StdDev. x \n",
            "init\t [-4.12125592  2.6751971 ]\t 31.298109376682206\t 22.814458446152262\t    \t    \n",
            "init\t [-2.59135515 -3.70553152]\t 34.17704923320956\t 22.814458446152262\t    \t    \n",
            "init\t [-1.72598719 -4.27008445]\t 39.4462742815243\t 22.814458446152262\t    \t    \n",
            "init\t [1.76104531 3.13952049]\t 22.814458446152262\t 22.814458446152262\t    \t    \n",
            "init\t [4.9432772  1.38916592]\t 28.295553455390152\t 22.814458446152262\t    \t    \n",
            "1  \t [ 4.82679436 -3.73087596]\t 51.1368146130697\t 22.814458446152262\t 3.4593109494400043\t 4.5142471219874185\n",
            "\u001b[1m\u001b[92m2\u001b[0m\t \u001b[1m\u001b[92m[-0.6118643  -0.01739856]\u001b[0m\t \u001b[1m\u001b[92m0.37498333830787434\u001b[0m\t \u001b[1m\u001b[92m0.37498333830787434\u001b[0m\t \u001b[1m\u001b[92m3.4600806558312387\u001b[0m\t \u001b[1m\u001b[92m3.528682361370828\u001b[0m\n",
            "3  \t [5.12 5.12]\t 78.64320000000001\t 0.37498333830787434\t 3.4267838357339127\t 3.349343598293905\n",
            "4  \t [-5.12       -1.11505329]\t 28.70108766255975\t 0.37498333830787434\t 3.1553674621508367\t 3.2151053781697625\n",
            "5  \t [ 1.54159461 -1.80987758]\t 8.92782764631288\t 0.37498333830787434\t 2.531942633711351\t 2.9380350996214264\n",
            "6  \t [ 1.56919211 -5.12      ]\t 54.891163865783994\t 0.37498333830787434\t 3.1681994477066735\t 3.2075512003815603\n",
            "7  \t [-5.12 -5.12]\t 78.64320000000001\t 0.37498333830787434\t 2.957916890235316\t 3.3873632607771014\n",
            "8  \t [-0.29545824  5.12      ]\t 52.51609557334715\t 0.37498333830787434\t 2.3418136956229296\t 2.543086558438711\n",
            "9  \t [-0.85282671  1.76709902]\t 6.972591273465232\t 0.37498333830787434\t 2.3630628865369387\t 2.8851688867769822\n",
            "10 \t [-2.32225    -0.51434796]\t 5.921952685292516\t 0.37498333830787434\t 2.6995950307094794\t 3.1452091209530963\n",
            "11 \t [1.89549093 0.57437675]\t 4.252703158103985\t 0.37498333830787434\t 2.1464741801708818\t 2.876921016006592\n",
            "12 \t [ 3.98206527 -0.97824771]\t 17.770780951042546\t 0.37498333830787434\t 2.70746350614466\t 2.7124638748925314\n",
            "13 \t [-2.8289812   4.59913922]\t 50.307297752710696\t 0.37498333830787434\t 2.6906687211930236\t 3.1401002258596926\n",
            "14 \t [-1.05151319 -1.29929429]\t 4.482011277065061\t 0.37498333830787434\t 2.409245618188854\t 2.3745059012555196\n",
            "15 \t [ 0.61029132 -0.13255803]\t 0.40759875452132244\t 0.37498333830787434\t 2.813759965120523\t 3.0702701285890766\n",
            "16 \t [-2.54997733  1.29599354]\t 9.861582895868867\t 0.37498333830787434\t 2.6955981119257877\t 2.75421433430146\n",
            "17 \t [2.43200786 5.12      ]\t 58.34346223429699\t 0.37498333830787434\t 2.5702591949788607\t 3.0536526154373465\n",
            "18 \t [0.64401091 1.67346589]\t 6.015726197601591\t 0.37498333830787434\t 2.717876055030806\t 3.3555912946034914\n",
            "19 \t [ 2.8004865 -3.3421816]\t 30.183080386655273\t 0.37498333830787434\t 2.5381069738644904\t 2.608837649144184\n",
            "20 \t [-3.24099176 -1.76077575]\t 16.704690082392922\t 0.37498333830787434\t 2.675264173922073\t 2.998693895554799\n"
          ]
        }
      ],
      "source": [
        "### EXACT STP ERM GRADIENTS\n",
        "\n",
        "np.random.seed(run_num_19)\n",
        "surrogate_exact_19 = dtStudentProcess(cov_func, optimize=opt, nu = df)\n",
        "\n",
        "exact_19 = dGPGO(surrogate_exact_19, Acquisition_grad(util), objfunc, param)\n",
        "exact_19.run(init_evals=n_init, max_iter=iters)\n"
      ]
    },
    {
      "cell_type": "code",
      "execution_count": 53,
      "metadata": {
        "id": "aw3xvSryIwDi",
        "colab": {
          "base_uri": "https://localhost:8080/"
        },
        "outputId": "cf61a6c1-11fe-41aa-9c6a-ad7979a57879"
      },
      "outputs": [
        {
          "output_type": "stream",
          "name": "stdout",
          "text": [
            "Evaluation \t Proposed point \t  Current eval. \t  Best eval. \t        Exact ERM: StdDev. x \t Approx ERM: StdDev. x \n",
            "init\t [0.9024594  4.07258857]\t 33.98638835688907\t 1.615187047660523\t    \t    \n",
            "init\t [4.00927467 3.23417577]\t 36.994069169927414\t 1.615187047660523\t    \t    \n",
            "init\t [-4.75249064  1.96359764]\t 30.297598676217497\t 1.615187047660523\t    \t    \n",
            "init\t [-1.24230715  0.18955208]\t 1.615187047660523\t 1.615187047660523\t    \t    \n",
            "init\t [ 1.61742301 -3.13497377]\t 22.27217824772924\t 1.615187047660523\t    \t    \n",
            "1  \t [-3.55490464 -4.95643946]\t 61.76993128298052\t 1.615187047660523\t 2.8197533784121194\t 2.9545902791335434\n",
            "2  \t [ 5.12       -0.99369682]\t 28.189266743213242\t 1.615187047660523\t 2.7289828806396716\t 3.55361019035493\n",
            "3  \t [1.49766294 0.48372729]\t 2.7109784681622293\t 1.615187047660523\t 2.8984915741137907\t 3.127164418761173\n",
            "4  \t [-2.83238696  5.12      ]\t 60.451215872648504\t 1.615187047660523\t 3.104059948067162\t 3.5619297971437436\n",
            "5  \t [-2.75762836 -1.56474025]\t 12.501338264471908\t 1.615187047660523\t 3.0426491262661126\t 3.1385200159831066\n",
            "6  \t [ 4.68647947 -4.43967125]\t 61.38445142643772\t 1.615187047660523\t 3.3425136928064285\t 4.041057662110996\n",
            "7  \t [-0.29237166 -5.12      ]\t 52.51428118804449\t 1.615187047660523\t 3.6397197397459857\t 3.6016768593706106\n",
            "8  \t [-5.09941752 -2.125229  ]\t 35.03725568401203\t 1.615187047660523\t 3.1736644483776586\t 2.9239777342083553\n",
            "9  \t [-0.78069232  1.85670829]\t 7.5042118548425565\t 1.615187047660523\t 2.6020905528424088\t 3.057138692550607\n",
            "10 \t [ 0.07314627 -1.15519689]\t 2.6743101067055766\t 1.615187047660523\t 2.857746199417297\t 3.0351147558805787\n",
            "11 \t [5.12 5.12]\t 78.64320000000001\t 1.615187047660523\t 2.901460351733674\t 3.084640242658203\n",
            "12 \t [3.19186589 0.6998225 ]\t 11.167510924411639\t 1.615187047660523\t 2.8230775092795835\t 2.9582624227352046\n",
            "13 \t [ 3.03104137 -1.4030192 ]\t 13.124137563460572\t 1.615187047660523\t 2.5294856608847347\t 3.6006420451302104\n",
            "14 \t [-0.92962093 -2.5547023 ]\t 13.917202735941197\t 1.615187047660523\t 2.6199229809574534\t 2.368028856541489\n",
            "15 \t [-2.18194992  2.35606112]\t 15.862953408969103\t 1.615187047660523\t 2.357771260510139\t 2.7772806181660714\n",
            "16 \t [-3.34937156  0.2888719 ]\t 11.385183770071714\t 1.615187047660523\t 2.5906695443663126\t 2.912413674943833\n",
            "\u001b[1m\u001b[92m17\u001b[0m\t \u001b[1m\u001b[92m[0.30642629 0.45010845]\u001b[0m\t \u001b[1m\u001b[92m0.49909230792008225\u001b[0m\t \u001b[1m\u001b[92m0.49909230792008225\u001b[0m\t \u001b[1m\u001b[92m2.381250183228378\u001b[0m\t \u001b[1m\u001b[92m3.1659689035409326\u001b[0m\n",
            "18 \t [2.77648235 5.12      ]\t 60.137654261375715\t 0.49909230792008225\t 3.015140911360484\t 3.488220001680848\n",
            "19 \t [1.53397285 2.07762633]\t 10.9861350407645\t 0.49909230792008225\t 2.7033511161913784\t 3.4737093214670103\n",
            "20 \t [ 1.60202077 -4.29730949]\t 39.50020834195699\t 0.49909230792008225\t 2.5228899174414043\t 2.4834627951280686\n"
          ]
        }
      ],
      "source": [
        "### EXACT STP ERM GRADIENTS\n",
        "\n",
        "np.random.seed(run_num_20)\n",
        "surrogate_exact_20 = dtStudentProcess(cov_func, optimize=opt, nu = df)\n",
        "\n",
        "exact_20 = dGPGO(surrogate_exact_20, Acquisition_grad(util), objfunc, param)\n",
        "exact_20.run(init_evals=n_init, max_iter=iters)\n"
      ]
    },
    {
      "cell_type": "code",
      "execution_count": 54,
      "metadata": {
        "id": "5c8szjivRPme",
        "colab": {
          "base_uri": "https://localhost:8080/"
        },
        "outputId": "46588c7c-b6c1-494c-dee9-191f5061bd68"
      },
      "outputs": [
        {
          "output_type": "execute_result",
          "data": {
            "text/plain": [
              "1340.3814897537231"
            ]
          },
          "metadata": {},
          "execution_count": 54
        }
      ],
      "source": [
        "end_exact = time.time()\n",
        "end_exact\n",
        "\n",
        "time_exact = end_exact - start_exact\n",
        "time_exact\n"
      ]
    },
    {
      "cell_type": "code",
      "execution_count": 55,
      "metadata": {
        "id": "f6gCKnp6RR8c",
        "colab": {
          "base_uri": "https://localhost:8080/"
        },
        "outputId": "12adb399-0d34-440a-8260-f54772d49dca"
      },
      "outputs": [
        {
          "output_type": "execute_result",
          "data": {
            "text/plain": [
              "(-1.0084805549164642, -0.028324118302677066)"
            ]
          },
          "metadata": {},
          "execution_count": 55
        }
      ],
      "source": [
        "### Simple regret minimization: run number = 1\n",
        "\n",
        "approx_output_1 = np.append(np.min(-approx_1.GP.y[0:n_init]),-approx_1.GP.y[n_init:(n_init+iters)]) \n",
        "exact_output_1 = np.append(np.min(-exact_1.GP.y[0:n_init]),-exact_1.GP.y[n_init:(n_init+iters)]) \n",
        "\n",
        "regret_approx_1 = np.log(approx_output_1 - y_global_orig)\n",
        "regret_exact_1 = np.log(exact_output_1 - y_global_orig)\n",
        "\n",
        "simple_regret_approx_1 = min_max_array(regret_approx_1)\n",
        "simple_regret_exact_1 = min_max_array(regret_exact_1)\n",
        "\n",
        "min_simple_regret_approx_1 = min(simple_regret_approx_1)\n",
        "min_simple_regret_exact_1 = min(simple_regret_exact_1)\n",
        "\n",
        "min_simple_regret_approx_1, min_simple_regret_exact_1\n"
      ]
    },
    {
      "cell_type": "code",
      "execution_count": 56,
      "metadata": {
        "id": "94yBw5tqQxfk",
        "colab": {
          "base_uri": "https://localhost:8080/"
        },
        "outputId": "65f5f650-22c6-4ace-9fd6-1ffaa7f5dff2"
      },
      "outputs": [
        {
          "output_type": "execute_result",
          "data": {
            "text/plain": [
              "(0.12742168273537824, 0.12742168273537824)"
            ]
          },
          "metadata": {},
          "execution_count": 56
        }
      ],
      "source": [
        "### Simple regret minimization: run number = 2\n",
        "\n",
        "approx_output_2 = np.append(np.min(-approx_2.GP.y[0:n_init]),-approx_2.GP.y[n_init:(n_init+iters)]) \n",
        "exact_output_2 = np.append(np.min(-exact_2.GP.y[0:n_init]),-exact_2.GP.y[n_init:(n_init+iters)]) \n",
        "\n",
        "regret_approx_2 = np.log(approx_output_2 - y_global_orig)\n",
        "regret_exact_2 = np.log(exact_output_2 - y_global_orig)\n",
        "\n",
        "simple_regret_approx_2 = min_max_array(regret_approx_2)\n",
        "simple_regret_exact_2 = min_max_array(regret_exact_2)\n",
        "\n",
        "min_simple_regret_approx_2 = min(simple_regret_approx_2)\n",
        "min_simple_regret_exact_2 = min(simple_regret_exact_2)\n",
        "\n",
        "min_simple_regret_approx_2, min_simple_regret_exact_2\n"
      ]
    },
    {
      "cell_type": "code",
      "execution_count": 57,
      "metadata": {
        "id": "Bu6SBWALQxfl",
        "colab": {
          "base_uri": "https://localhost:8080/"
        },
        "outputId": "d9c0bb82-4b3e-4caa-97c1-d219118c7f06"
      },
      "outputs": [
        {
          "output_type": "execute_result",
          "data": {
            "text/plain": [
              "(-2.239911956125159, -2.009765154977976)"
            ]
          },
          "metadata": {},
          "execution_count": 57
        }
      ],
      "source": [
        "### Simple regret minimization: run number = 3\n",
        "\n",
        "approx_output_3 = np.append(np.min(-approx_3.GP.y[0:n_init]),-approx_3.GP.y[n_init:(n_init+iters)]) \n",
        "exact_output_3 = np.append(np.min(-exact_3.GP.y[0:n_init]),-exact_3.GP.y[n_init:(n_init+iters)]) \n",
        "\n",
        "regret_approx_3 = np.log(approx_output_3 - y_global_orig)\n",
        "regret_exact_3 = np.log(exact_output_3 - y_global_orig)\n",
        "\n",
        "simple_regret_approx_3 = min_max_array(regret_approx_3)\n",
        "simple_regret_exact_3 = min_max_array(regret_exact_3)\n",
        "\n",
        "min_simple_regret_approx_3 = min(simple_regret_approx_3)\n",
        "min_simple_regret_exact_3 = min(simple_regret_exact_3)\n",
        "\n",
        "min_simple_regret_approx_3, min_simple_regret_exact_3"
      ]
    },
    {
      "cell_type": "code",
      "execution_count": 58,
      "metadata": {
        "id": "AZm0jgxkQxfm",
        "colab": {
          "base_uri": "https://localhost:8080/"
        },
        "outputId": "e8c68778-a0fb-4fae-dc35-fb1330bcb584"
      },
      "outputs": [
        {
          "output_type": "execute_result",
          "data": {
            "text/plain": [
              "(-0.07108025843536027, -0.4531580089722665)"
            ]
          },
          "metadata": {},
          "execution_count": 58
        }
      ],
      "source": [
        "### Simple regret minimization: run number = 4\n",
        "\n",
        "approx_output_4 = np.append(np.min(-approx_4.GP.y[0:n_init]),-approx_4.GP.y[n_init:(n_init+iters)]) \n",
        "exact_output_4 = np.append(np.min(-exact_4.GP.y[0:n_init]),-exact_4.GP.y[n_init:(n_init+iters)]) \n",
        "\n",
        "regret_approx_4 = np.log(approx_output_4 - y_global_orig)\n",
        "regret_exact_4 = np.log(exact_output_4 - y_global_orig)\n",
        "\n",
        "simple_regret_approx_4 = min_max_array(regret_approx_4)\n",
        "simple_regret_exact_4 = min_max_array(regret_exact_4)\n",
        "\n",
        "min_simple_regret_approx_4 = min(simple_regret_approx_4)\n",
        "min_simple_regret_exact_4 = min(simple_regret_exact_4)\n",
        "\n",
        "min_simple_regret_approx_4, min_simple_regret_exact_4"
      ]
    },
    {
      "cell_type": "code",
      "execution_count": 59,
      "metadata": {
        "id": "NONPm8JIQxfn",
        "colab": {
          "base_uri": "https://localhost:8080/"
        },
        "outputId": "971e3e58-28a0-4d66-f2c1-09011f402588"
      },
      "outputs": [
        {
          "output_type": "execute_result",
          "data": {
            "text/plain": [
              "(0.1606031808491641, 0.3226519956511254)"
            ]
          },
          "metadata": {},
          "execution_count": 59
        }
      ],
      "source": [
        "### Simple regret minimization: run number = 5\n",
        "\n",
        "approx_output_5 = np.append(np.min(-approx_5.GP.y[0:n_init]),-approx_5.GP.y[n_init:(n_init+iters)]) \n",
        "exact_output_5 = np.append(np.min(-exact_5.GP.y[0:n_init]),-exact_5.GP.y[n_init:(n_init+iters)]) \n",
        "\n",
        "regret_approx_5 = np.log(approx_output_5 - y_global_orig)\n",
        "regret_exact_5 = np.log(exact_output_5 - y_global_orig)\n",
        "\n",
        "simple_regret_approx_5 = min_max_array(regret_approx_5)\n",
        "simple_regret_exact_5 = min_max_array(regret_exact_5)\n",
        "\n",
        "min_simple_regret_approx_5 = min(simple_regret_approx_5)\n",
        "min_simple_regret_exact_5 = min(simple_regret_exact_5)\n",
        "\n",
        "min_simple_regret_approx_5, min_simple_regret_exact_5"
      ]
    },
    {
      "cell_type": "code",
      "execution_count": 60,
      "metadata": {
        "id": "CJv3lPuSQxfp",
        "colab": {
          "base_uri": "https://localhost:8080/"
        },
        "outputId": "1fa38082-4dda-4041-81c9-b56311d5aae9"
      },
      "outputs": [
        {
          "output_type": "execute_result",
          "data": {
            "text/plain": [
              "(-0.4560531561528473, 0.1662260742187446)"
            ]
          },
          "metadata": {},
          "execution_count": 60
        }
      ],
      "source": [
        "### Simple regret minimization: run number = 6\n",
        "\n",
        "approx_output_6 = np.append(np.min(-approx_6.GP.y[0:n_init]),-approx_6.GP.y[n_init:(n_init+iters)]) \n",
        "exact_output_6 = np.append(np.min(-exact_6.GP.y[0:n_init]),-exact_6.GP.y[n_init:(n_init+iters)]) \n",
        "\n",
        "regret_approx_6 = np.log(approx_output_6 - y_global_orig)\n",
        "regret_exact_6 = np.log(exact_output_6 - y_global_orig)\n",
        "\n",
        "simple_regret_approx_6 = min_max_array(regret_approx_6)\n",
        "simple_regret_exact_6 = min_max_array(regret_exact_6)\n",
        "\n",
        "min_simple_regret_approx_6 = min(simple_regret_approx_6)\n",
        "min_simple_regret_exact_6 = min(simple_regret_exact_6)\n",
        "\n",
        "min_simple_regret_approx_6, min_simple_regret_exact_6"
      ]
    },
    {
      "cell_type": "code",
      "execution_count": 61,
      "metadata": {
        "id": "quR2ZyApQxfq",
        "colab": {
          "base_uri": "https://localhost:8080/"
        },
        "outputId": "c4c1e1f2-fb2c-4a66-c55a-03c0c618919a"
      },
      "outputs": [
        {
          "output_type": "execute_result",
          "data": {
            "text/plain": [
              "(-1.419048954909808, -0.49330016584160974)"
            ]
          },
          "metadata": {},
          "execution_count": 61
        }
      ],
      "source": [
        "### Simple regret minimization: run number = 7\n",
        "\n",
        "approx_output_7 = np.append(np.min(-approx_7.GP.y[0:n_init]),-approx_7.GP.y[n_init:(n_init+iters)]) \n",
        "exact_output_7 = np.append(np.min(-exact_7.GP.y[0:n_init]),-exact_7.GP.y[n_init:(n_init+iters)]) \n",
        "\n",
        "regret_approx_7 = np.log(approx_output_7 - y_global_orig)\n",
        "regret_exact_7 = np.log(exact_output_7 - y_global_orig)\n",
        "\n",
        "simple_regret_approx_7 = min_max_array(regret_approx_7)\n",
        "simple_regret_exact_7 = min_max_array(regret_exact_7)\n",
        "\n",
        "min_simple_regret_approx_7 = min(simple_regret_approx_7)\n",
        "min_simple_regret_exact_7 = min(simple_regret_exact_7)\n",
        "\n",
        "min_simple_regret_approx_7, min_simple_regret_exact_7"
      ]
    },
    {
      "cell_type": "code",
      "execution_count": 62,
      "metadata": {
        "id": "99wY5nK6Qxfr",
        "colab": {
          "base_uri": "https://localhost:8080/"
        },
        "outputId": "d0331ebb-7dec-4016-f98c-8c6c544690dc"
      },
      "outputs": [
        {
          "output_type": "execute_result",
          "data": {
            "text/plain": [
              "(-1.88498967264663, -2.0145532800082635)"
            ]
          },
          "metadata": {},
          "execution_count": 62
        }
      ],
      "source": [
        "### Simple regret minimization: run number = 8\n",
        "\n",
        "approx_output_8 = np.append(np.min(-approx_8.GP.y[0:n_init]),-approx_8.GP.y[n_init:(n_init+iters)]) \n",
        "exact_output_8 = np.append(np.min(-exact_8.GP.y[0:n_init]),-exact_8.GP.y[n_init:(n_init+iters)]) \n",
        "\n",
        "regret_approx_8 = np.log(approx_output_8 - y_global_orig)\n",
        "regret_exact_8 = np.log(exact_output_8 - y_global_orig)\n",
        "\n",
        "simple_regret_approx_8 = min_max_array(regret_approx_8)\n",
        "simple_regret_exact_8 = min_max_array(regret_exact_8)\n",
        "\n",
        "min_simple_regret_approx_8 = min(simple_regret_approx_8)\n",
        "min_simple_regret_exact_8 = min(simple_regret_exact_8)\n",
        "\n",
        "min_simple_regret_approx_8, min_simple_regret_exact_8"
      ]
    },
    {
      "cell_type": "code",
      "execution_count": 63,
      "metadata": {
        "id": "qt0P5t9qQxfs",
        "colab": {
          "base_uri": "https://localhost:8080/"
        },
        "outputId": "9998d479-bc77-43fc-8526-f0096bdc19aa"
      },
      "outputs": [
        {
          "output_type": "execute_result",
          "data": {
            "text/plain": [
              "(-0.9191963450600461, -1.9076239031393856)"
            ]
          },
          "metadata": {},
          "execution_count": 63
        }
      ],
      "source": [
        "### Simple regret minimization: run number = 9\n",
        "\n",
        "approx_output_9 = np.append(np.min(-approx_9.GP.y[0:n_init]),-approx_9.GP.y[n_init:(n_init+iters)]) \n",
        "exact_output_9 = np.append(np.min(-exact_9.GP.y[0:n_init]),-exact_9.GP.y[n_init:(n_init+iters)]) \n",
        "\n",
        "regret_approx_9 = np.log(approx_output_9 - y_global_orig)\n",
        "regret_exact_9 = np.log(exact_output_9 - y_global_orig)\n",
        "\n",
        "simple_regret_approx_9 = min_max_array(regret_approx_9)\n",
        "simple_regret_exact_9 = min_max_array(regret_exact_9)\n",
        "\n",
        "min_simple_regret_approx_9 = min(simple_regret_approx_9)\n",
        "min_simple_regret_exact_9 = min(simple_regret_exact_9)\n",
        "\n",
        "min_simple_regret_approx_9, min_simple_regret_exact_9"
      ]
    },
    {
      "cell_type": "code",
      "execution_count": 64,
      "metadata": {
        "id": "vx8to9stQxft",
        "colab": {
          "base_uri": "https://localhost:8080/"
        },
        "outputId": "51ea615a-5e74-49a4-bc36-0998e675e219"
      },
      "outputs": [
        {
          "output_type": "execute_result",
          "data": {
            "text/plain": [
              "(-1.65398116253528, -0.21202192106969414)"
            ]
          },
          "metadata": {},
          "execution_count": 64
        }
      ],
      "source": [
        "### Simple regret minimization: run number = 10\n",
        "\n",
        "approx_output_10 = np.append(np.min(-approx_10.GP.y[0:n_init]),-approx_10.GP.y[n_init:(n_init+iters)]) \n",
        "exact_output_10 = np.append(np.min(-exact_10.GP.y[0:n_init]),-exact_10.GP.y[n_init:(n_init+iters)]) \n",
        "\n",
        "regret_approx_10 = np.log(approx_output_10 - y_global_orig)\n",
        "regret_exact_10 = np.log(exact_output_10 - y_global_orig)\n",
        "\n",
        "simple_regret_approx_10 = min_max_array(regret_approx_10)\n",
        "simple_regret_exact_10 = min_max_array(regret_exact_10)\n",
        "\n",
        "min_simple_regret_approx_10 = min(simple_regret_approx_10)\n",
        "min_simple_regret_exact_10 = min(simple_regret_exact_10)\n",
        "\n",
        "min_simple_regret_approx_10, min_simple_regret_exact_10"
      ]
    },
    {
      "cell_type": "code",
      "execution_count": 65,
      "metadata": {
        "id": "d-FGzWyHQxfu",
        "colab": {
          "base_uri": "https://localhost:8080/"
        },
        "outputId": "8cdf8c94-46d6-4871-a8bf-a19bc0d7b0e8"
      },
      "outputs": [
        {
          "output_type": "execute_result",
          "data": {
            "text/plain": [
              "(-0.7466625712981639, -0.3393766064509819)"
            ]
          },
          "metadata": {},
          "execution_count": 65
        }
      ],
      "source": [
        "### Simple regret minimization: run number = 11\n",
        "\n",
        "approx_output_11 = np.append(np.min(-approx_11.GP.y[0:n_init]),-approx_11.GP.y[n_init:(n_init+iters)]) \n",
        "exact_output_11 = np.append(np.min(-exact_11.GP.y[0:n_init]),-exact_11.GP.y[n_init:(n_init+iters)]) \n",
        "\n",
        "regret_approx_11 = np.log(approx_output_11 - y_global_orig)\n",
        "regret_exact_11 = np.log(exact_output_11 - y_global_orig)\n",
        "\n",
        "simple_regret_approx_11 = min_max_array(regret_approx_11)\n",
        "simple_regret_exact_11 = min_max_array(regret_exact_11)\n",
        "\n",
        "min_simple_regret_approx_11 = min(simple_regret_approx_11)\n",
        "min_simple_regret_exact_11 = min(simple_regret_exact_11)\n",
        "\n",
        "min_simple_regret_approx_11, min_simple_regret_exact_11"
      ]
    },
    {
      "cell_type": "code",
      "execution_count": 66,
      "metadata": {
        "id": "SvtsssyjQxfv",
        "colab": {
          "base_uri": "https://localhost:8080/"
        },
        "outputId": "fb8d9d66-9835-46d3-e7a4-cfd5ee3e960b"
      },
      "outputs": [
        {
          "output_type": "execute_result",
          "data": {
            "text/plain": [
              "(-1.8268279261779388, -0.48998346346911764)"
            ]
          },
          "metadata": {},
          "execution_count": 66
        }
      ],
      "source": [
        "### Simple regret minimization: run number = 12\n",
        "\n",
        "approx_output_12 = np.append(np.min(-approx_12.GP.y[0:n_init]),-approx_12.GP.y[n_init:(n_init+iters)]) \n",
        "exact_output_12 = np.append(np.min(-exact_12.GP.y[0:n_init]),-exact_12.GP.y[n_init:(n_init+iters)]) \n",
        "\n",
        "regret_approx_12 = np.log(approx_output_12 - y_global_orig)\n",
        "regret_exact_12 = np.log(exact_output_12 - y_global_orig)\n",
        "\n",
        "simple_regret_approx_12 = min_max_array(regret_approx_12)\n",
        "simple_regret_exact_12 = min_max_array(regret_exact_12)\n",
        "\n",
        "min_simple_regret_approx_12 = min(simple_regret_approx_12)\n",
        "min_simple_regret_exact_12 = min(simple_regret_exact_12)\n",
        "\n",
        "min_simple_regret_approx_12, min_simple_regret_exact_12"
      ]
    },
    {
      "cell_type": "code",
      "execution_count": 67,
      "metadata": {
        "id": "K6OiGcHkQxfw",
        "colab": {
          "base_uri": "https://localhost:8080/"
        },
        "outputId": "c4581440-331e-464b-8a08-afa07a7abaf2"
      },
      "outputs": [
        {
          "output_type": "execute_result",
          "data": {
            "text/plain": [
              "(0.29417008627097246, 0.13602473046754407)"
            ]
          },
          "metadata": {},
          "execution_count": 67
        }
      ],
      "source": [
        "### Simple regret minimization: run number = 13\n",
        "\n",
        "approx_output_13 = np.append(np.min(-approx_13.GP.y[0:n_init]),-approx_13.GP.y[n_init:(n_init+iters)]) \n",
        "exact_output_13 = np.append(np.min(-exact_13.GP.y[0:n_init]),-exact_13.GP.y[n_init:(n_init+iters)]) \n",
        "\n",
        "regret_approx_13 = np.log(approx_output_13 - y_global_orig)\n",
        "regret_exact_13 = np.log(exact_output_13 - y_global_orig)\n",
        "\n",
        "simple_regret_approx_13 = min_max_array(regret_approx_13)\n",
        "simple_regret_exact_13 = min_max_array(regret_exact_13)\n",
        "\n",
        "min_simple_regret_approx_13 = min(simple_regret_approx_13)\n",
        "min_simple_regret_exact_13 = min(simple_regret_exact_13)\n",
        "\n",
        "min_simple_regret_approx_13, min_simple_regret_exact_13"
      ]
    },
    {
      "cell_type": "code",
      "execution_count": 68,
      "metadata": {
        "id": "ogML73shQxfx",
        "colab": {
          "base_uri": "https://localhost:8080/"
        },
        "outputId": "4a7884dc-8f48-4273-d689-4237ba89b202"
      },
      "outputs": [
        {
          "output_type": "execute_result",
          "data": {
            "text/plain": [
              "(-1.9548807338459033, -1.6080228597387058)"
            ]
          },
          "metadata": {},
          "execution_count": 68
        }
      ],
      "source": [
        "### Simple regret minimization: run number = 14\n",
        "\n",
        "approx_output_14 = np.append(np.min(-approx_14.GP.y[0:n_init]),-approx_14.GP.y[n_init:(n_init+iters)]) \n",
        "exact_output_14 = np.append(np.min(-exact_14.GP.y[0:n_init]),-exact_14.GP.y[n_init:(n_init+iters)]) \n",
        "\n",
        "regret_approx_14 = np.log(approx_output_14 - y_global_orig)\n",
        "regret_exact_14 = np.log(exact_output_14 - y_global_orig)\n",
        "\n",
        "simple_regret_approx_14 = min_max_array(regret_approx_14)\n",
        "simple_regret_exact_14 = min_max_array(regret_exact_14)\n",
        "\n",
        "min_simple_regret_approx_14 = min(simple_regret_approx_14)\n",
        "min_simple_regret_exact_14 = min(simple_regret_exact_14)\n",
        "\n",
        "min_simple_regret_approx_14, min_simple_regret_exact_14"
      ]
    },
    {
      "cell_type": "code",
      "execution_count": 69,
      "metadata": {
        "id": "9Eg7gFT9Qxfx",
        "colab": {
          "base_uri": "https://localhost:8080/"
        },
        "outputId": "46fbced2-f700-4610-ecdc-2b6bc2a6e187"
      },
      "outputs": [
        {
          "output_type": "execute_result",
          "data": {
            "text/plain": [
              "(-0.8680710078614504, -2.7073667600021647)"
            ]
          },
          "metadata": {},
          "execution_count": 69
        }
      ],
      "source": [
        "### Simple regret minimization: run number = 15\n",
        "\n",
        "approx_output_15 = np.append(np.min(-approx_15.GP.y[0:n_init]),-approx_15.GP.y[n_init:(n_init+iters)]) \n",
        "exact_output_15 = np.append(np.min(-exact_15.GP.y[0:n_init]),-exact_15.GP.y[n_init:(n_init+iters)]) \n",
        "\n",
        "regret_approx_15 = np.log(approx_output_15 - y_global_orig)\n",
        "regret_exact_15 = np.log(exact_output_15 - y_global_orig)\n",
        "\n",
        "simple_regret_approx_15 = min_max_array(regret_approx_15)\n",
        "simple_regret_exact_15 = min_max_array(regret_exact_15)\n",
        "\n",
        "min_simple_regret_approx_15 = min(simple_regret_approx_15)\n",
        "min_simple_regret_exact_15 = min(simple_regret_exact_15)\n",
        "\n",
        "min_simple_regret_approx_15, min_simple_regret_exact_15"
      ]
    },
    {
      "cell_type": "code",
      "execution_count": 70,
      "metadata": {
        "id": "lIAC1U7ZQxfy",
        "colab": {
          "base_uri": "https://localhost:8080/"
        },
        "outputId": "24048700-08dc-4a2f-956a-32156e4ab196"
      },
      "outputs": [
        {
          "output_type": "execute_result",
          "data": {
            "text/plain": [
              "(-0.4645884544995757, -0.28906144232858455)"
            ]
          },
          "metadata": {},
          "execution_count": 70
        }
      ],
      "source": [
        "### Simple regret minimization: run number = 16\n",
        "\n",
        "approx_output_16 = np.append(np.min(-approx_16.GP.y[0:n_init]),-approx_16.GP.y[n_init:(n_init+iters)]) \n",
        "exact_output_16 = np.append(np.min(-exact_16.GP.y[0:n_init]),-exact_16.GP.y[n_init:(n_init+iters)]) \n",
        "\n",
        "regret_approx_16 = np.log(approx_output_16 - y_global_orig)\n",
        "regret_exact_16 = np.log(exact_output_16 - y_global_orig)\n",
        "\n",
        "simple_regret_approx_16 = min_max_array(regret_approx_16)\n",
        "simple_regret_exact_16 = min_max_array(regret_exact_16)\n",
        "\n",
        "min_simple_regret_approx_16 = min(simple_regret_approx_16)\n",
        "min_simple_regret_exact_16 = min(simple_regret_exact_16)\n",
        "\n",
        "min_simple_regret_approx_16, min_simple_regret_exact_16"
      ]
    },
    {
      "cell_type": "code",
      "execution_count": 71,
      "metadata": {
        "id": "bGott36OQxfz",
        "colab": {
          "base_uri": "https://localhost:8080/"
        },
        "outputId": "a9e04185-c7ae-4bc4-83ff-70c50cc94f8b"
      },
      "outputs": [
        {
          "output_type": "execute_result",
          "data": {
            "text/plain": [
              "(-2.1224722534529743, -4.25700957875901)"
            ]
          },
          "metadata": {},
          "execution_count": 71
        }
      ],
      "source": [
        "### Simple regret minimization: run number = 17\n",
        "\n",
        "approx_output_17 = np.append(np.min(-approx_17.GP.y[0:n_init]),-approx_17.GP.y[n_init:(n_init+iters)]) \n",
        "exact_output_17 = np.append(np.min(-exact_17.GP.y[0:n_init]),-exact_17.GP.y[n_init:(n_init+iters)]) \n",
        "\n",
        "regret_approx_17 = np.log(approx_output_17 - y_global_orig)\n",
        "regret_exact_17 = np.log(exact_output_17 - y_global_orig)\n",
        "\n",
        "simple_regret_approx_17 = min_max_array(regret_approx_17)\n",
        "simple_regret_exact_17 = min_max_array(regret_exact_17)\n",
        "\n",
        "min_simple_regret_approx_17 = min(simple_regret_approx_17)\n",
        "min_simple_regret_exact_17 = min(simple_regret_exact_17)\n",
        "\n",
        "min_simple_regret_approx_17, min_simple_regret_exact_17"
      ]
    },
    {
      "cell_type": "code",
      "execution_count": 72,
      "metadata": {
        "id": "Cz9ZYMBMQxfz",
        "colab": {
          "base_uri": "https://localhost:8080/"
        },
        "outputId": "bb2a88a7-3624-4bd6-c0f0-85f80d89e706"
      },
      "outputs": [
        {
          "output_type": "execute_result",
          "data": {
            "text/plain": [
              "(-2.290693284166269, -1.3868643069289865)"
            ]
          },
          "metadata": {},
          "execution_count": 72
        }
      ],
      "source": [
        "### Simple regret minimization: run number = 18\n",
        "\n",
        "approx_output_18 = np.append(np.min(-approx_18.GP.y[0:n_init]),-approx_18.GP.y[n_init:(n_init+iters)]) \n",
        "exact_output_18 = np.append(np.min(-exact_18.GP.y[0:n_init]),-exact_18.GP.y[n_init:(n_init+iters)]) \n",
        "\n",
        "regret_approx_18 = np.log(approx_output_18 - y_global_orig)\n",
        "regret_exact_18 = np.log(exact_output_18 - y_global_orig)\n",
        "\n",
        "simple_regret_approx_18 = min_max_array(regret_approx_18)\n",
        "simple_regret_exact_18 = min_max_array(regret_exact_18)\n",
        "\n",
        "min_simple_regret_approx_18 = min(simple_regret_approx_18)\n",
        "min_simple_regret_exact_18 = min(simple_regret_exact_18)\n",
        "\n",
        "min_simple_regret_approx_18, min_simple_regret_exact_18"
      ]
    },
    {
      "cell_type": "code",
      "execution_count": 73,
      "metadata": {
        "id": "OBfpWOHNQxf0",
        "colab": {
          "base_uri": "https://localhost:8080/"
        },
        "outputId": "cceef1f2-e4e1-465a-9420-e0cd953d7ff1"
      },
      "outputs": [
        {
          "output_type": "execute_result",
          "data": {
            "text/plain": [
              "(0.40701602204562326, -0.980873685177822)"
            ]
          },
          "metadata": {},
          "execution_count": 73
        }
      ],
      "source": [
        "### Simple regret minimization: run number = 19\n",
        "\n",
        "approx_output_19 = np.append(np.min(-approx_19.GP.y[0:n_init]),-approx_19.GP.y[n_init:(n_init+iters)]) \n",
        "exact_output_19 = np.append(np.min(-exact_19.GP.y[0:n_init]),-exact_19.GP.y[n_init:(n_init+iters)]) \n",
        "\n",
        "regret_approx_19 = np.log(approx_output_19 - y_global_orig)\n",
        "regret_exact_19 = np.log(exact_output_19 - y_global_orig)\n",
        "\n",
        "simple_regret_approx_19 = min_max_array(regret_approx_19)\n",
        "simple_regret_exact_19 = min_max_array(regret_exact_19)\n",
        "\n",
        "min_simple_regret_approx_19 = min(simple_regret_approx_19)\n",
        "min_simple_regret_exact_19 = min(simple_regret_exact_19)\n",
        "\n",
        "min_simple_regret_approx_19, min_simple_regret_exact_19"
      ]
    },
    {
      "cell_type": "code",
      "execution_count": 74,
      "metadata": {
        "id": "BE1AJ7NsQxf0",
        "colab": {
          "base_uri": "https://localhost:8080/"
        },
        "outputId": "8d757122-42fa-4528-910f-e6dea1dd96a8"
      },
      "outputs": [
        {
          "output_type": "execute_result",
          "data": {
            "text/plain": [
              "(0.479450768952963, -0.6949642145265958)"
            ]
          },
          "metadata": {},
          "execution_count": 74
        }
      ],
      "source": [
        "### Simple regret minimization: run number = 20\n",
        "\n",
        "approx_output_20 = np.append(np.min(-approx_20.GP.y[0:n_init]),-approx_20.GP.y[n_init:(n_init+iters)]) \n",
        "exact_output_20 = np.append(np.min(-exact_20.GP.y[0:n_init]),-exact_20.GP.y[n_init:(n_init+iters)]) \n",
        "\n",
        "regret_approx_20 = np.log(approx_output_20 - y_global_orig)\n",
        "regret_exact_20 = np.log(exact_output_20 - y_global_orig)\n",
        "\n",
        "simple_regret_approx_20 = min_max_array(regret_approx_20)\n",
        "simple_regret_exact_20 = min_max_array(regret_exact_20)\n",
        "\n",
        "min_simple_regret_approx_20 = min(simple_regret_approx_20)\n",
        "min_simple_regret_exact_20 = min(simple_regret_exact_20)\n",
        "\n",
        "min_simple_regret_approx_20, min_simple_regret_exact_20"
      ]
    },
    {
      "cell_type": "code",
      "execution_count": 75,
      "metadata": {
        "id": "bpX-bKAHQxf1"
      },
      "outputs": [],
      "source": [
        "# Iteration1 :\n",
        "\n",
        "slice1 = 0\n",
        "\n",
        "approx1 = [simple_regret_approx_1[slice1],\n",
        "       simple_regret_approx_2[slice1],\n",
        "       simple_regret_approx_3[slice1],\n",
        "       simple_regret_approx_4[slice1],\n",
        "       simple_regret_approx_5[slice1],\n",
        "       simple_regret_approx_6[slice1],\n",
        "       simple_regret_approx_7[slice1],\n",
        "       simple_regret_approx_8[slice1],\n",
        "       simple_regret_approx_9[slice1],\n",
        "       simple_regret_approx_10[slice1],\n",
        "       simple_regret_approx_11[slice1],\n",
        "       simple_regret_approx_12[slice1],\n",
        "       simple_regret_approx_13[slice1],\n",
        "       simple_regret_approx_14[slice1],\n",
        "       simple_regret_approx_15[slice1],\n",
        "       simple_regret_approx_16[slice1],\n",
        "       simple_regret_approx_17[slice1],\n",
        "       simple_regret_approx_18[slice1],\n",
        "       simple_regret_approx_19[slice1],\n",
        "       simple_regret_approx_20[slice1]]\n",
        "\n",
        "exact1 = [simple_regret_exact_1[slice1],\n",
        "       simple_regret_exact_2[slice1],\n",
        "       simple_regret_exact_3[slice1],\n",
        "       simple_regret_exact_4[slice1],\n",
        "       simple_regret_exact_5[slice1],\n",
        "       simple_regret_exact_6[slice1],\n",
        "       simple_regret_exact_7[slice1],\n",
        "       simple_regret_exact_8[slice1],\n",
        "       simple_regret_exact_9[slice1],\n",
        "       simple_regret_exact_10[slice1],\n",
        "       simple_regret_exact_11[slice1],\n",
        "       simple_regret_exact_12[slice1],\n",
        "       simple_regret_exact_13[slice1],\n",
        "       simple_regret_exact_14[slice1],\n",
        "       simple_regret_exact_15[slice1],\n",
        "       simple_regret_exact_16[slice1],\n",
        "       simple_regret_exact_17[slice1],\n",
        "       simple_regret_exact_18[slice1],\n",
        "       simple_regret_exact_19[slice1],\n",
        "       simple_regret_exact_20[slice1]]\n",
        "\n",
        "approx1_results = pd.DataFrame(approx1).sort_values(by=[0], ascending=False)\n",
        "exact1_results = pd.DataFrame(exact1).sort_values(by=[0], ascending=False)\n",
        "\n",
        "### Best simple regret minimization IQR - approx:\n",
        "lower_approx1 = np.asarray(approx1_results[4:5][0])[0]\n",
        "median_approx1 = np.asarray(approx1_results[9:10][0])[0]\n",
        "upper_approx1 = np.asarray(approx1_results[14:15][0])[0]\n",
        "\n",
        "lower_exact1 = np.asarray(exact1_results[4:5][0])[0]\n",
        "median_exact1 = np.asarray(exact1_results[9:10][0])[0]\n",
        "upper_exact1 = np.asarray(exact1_results[14:15][0])[0]"
      ]
    },
    {
      "cell_type": "code",
      "execution_count": 76,
      "metadata": {
        "id": "CgIkJA1xQxf2"
      },
      "outputs": [],
      "source": [
        "# Iteration11 :\n",
        "\n",
        "slice11 = 10\n",
        "\n",
        "approx11 = [simple_regret_approx_1[slice11],\n",
        "       simple_regret_approx_2[slice11],\n",
        "       simple_regret_approx_3[slice11],\n",
        "       simple_regret_approx_4[slice11],\n",
        "       simple_regret_approx_5[slice11],\n",
        "       simple_regret_approx_6[slice11],\n",
        "       simple_regret_approx_7[slice11],\n",
        "       simple_regret_approx_8[slice11],\n",
        "       simple_regret_approx_9[slice11],\n",
        "       simple_regret_approx_10[slice11],\n",
        "       simple_regret_approx_11[slice11],\n",
        "       simple_regret_approx_12[slice11],\n",
        "       simple_regret_approx_13[slice11],\n",
        "       simple_regret_approx_14[slice11],\n",
        "       simple_regret_approx_15[slice11],\n",
        "       simple_regret_approx_16[slice11],\n",
        "       simple_regret_approx_17[slice11],\n",
        "       simple_regret_approx_18[slice11],\n",
        "       simple_regret_approx_19[slice11],\n",
        "       simple_regret_approx_20[slice11]]\n",
        "\n",
        "exact11 = [simple_regret_exact_1[slice11],\n",
        "       simple_regret_exact_2[slice11],\n",
        "       simple_regret_exact_3[slice11],\n",
        "       simple_regret_exact_4[slice11],\n",
        "       simple_regret_exact_5[slice11],\n",
        "       simple_regret_exact_6[slice11],\n",
        "       simple_regret_exact_7[slice11],\n",
        "       simple_regret_exact_8[slice11],\n",
        "       simple_regret_exact_9[slice11],\n",
        "       simple_regret_exact_10[slice11],\n",
        "       simple_regret_exact_11[slice11],\n",
        "       simple_regret_exact_12[slice11],\n",
        "       simple_regret_exact_13[slice11],\n",
        "       simple_regret_exact_14[slice11],\n",
        "       simple_regret_exact_15[slice11],\n",
        "       simple_regret_exact_16[slice11],\n",
        "       simple_regret_exact_17[slice11],\n",
        "       simple_regret_exact_18[slice11],\n",
        "       simple_regret_exact_19[slice11],\n",
        "       simple_regret_exact_20[slice11]]\n",
        "\n",
        "approx11_results = pd.DataFrame(approx11).sort_values(by=[0], ascending=False)\n",
        "exact11_results = pd.DataFrame(exact11).sort_values(by=[0], ascending=False)\n",
        "\n",
        "### Best simple regret minimization IQR - approx:\n",
        "lower_approx11 = np.asarray(approx11_results[4:5][0])[0]\n",
        "median_approx11 = np.asarray(approx11_results[9:10][0])[0]\n",
        "upper_approx11 = np.asarray(approx11_results[14:15][0])[0]\n",
        "\n",
        "lower_exact11 = np.asarray(exact11_results[4:5][0])[0]\n",
        "median_exact11 = np.asarray(exact11_results[9:10][0])[0]\n",
        "upper_exact11 = np.asarray(exact11_results[14:15][0])[0]"
      ]
    },
    {
      "cell_type": "code",
      "execution_count": 77,
      "metadata": {
        "id": "MFePDfGuQxf2"
      },
      "outputs": [],
      "source": [
        "# Iteration21 :\n",
        "\n",
        "slice21 = 20\n",
        "\n",
        "approx21 = [simple_regret_approx_1[slice21],\n",
        "       simple_regret_approx_2[slice21],\n",
        "       simple_regret_approx_3[slice21],\n",
        "       simple_regret_approx_4[slice21],\n",
        "       simple_regret_approx_5[slice21],\n",
        "       simple_regret_approx_6[slice21],\n",
        "       simple_regret_approx_7[slice21],\n",
        "       simple_regret_approx_8[slice21],\n",
        "       simple_regret_approx_9[slice21],\n",
        "       simple_regret_approx_10[slice21],\n",
        "       simple_regret_approx_11[slice21],\n",
        "       simple_regret_approx_12[slice21],\n",
        "       simple_regret_approx_13[slice21],\n",
        "       simple_regret_approx_14[slice21],\n",
        "       simple_regret_approx_15[slice21],\n",
        "       simple_regret_approx_16[slice21],\n",
        "       simple_regret_approx_17[slice21],\n",
        "       simple_regret_approx_18[slice21],\n",
        "       simple_regret_approx_19[slice21],\n",
        "       simple_regret_approx_20[slice21]]\n",
        "\n",
        "exact21 = [simple_regret_exact_1[slice21],\n",
        "       simple_regret_exact_2[slice21],\n",
        "       simple_regret_exact_3[slice21],\n",
        "       simple_regret_exact_4[slice21],\n",
        "       simple_regret_exact_5[slice21],\n",
        "       simple_regret_exact_6[slice21],\n",
        "       simple_regret_exact_7[slice21],\n",
        "       simple_regret_exact_8[slice21],\n",
        "       simple_regret_exact_9[slice21],\n",
        "       simple_regret_exact_10[slice21],\n",
        "       simple_regret_exact_11[slice21],\n",
        "       simple_regret_exact_12[slice21],\n",
        "       simple_regret_exact_13[slice21],\n",
        "       simple_regret_exact_14[slice21],\n",
        "       simple_regret_exact_15[slice21],\n",
        "       simple_regret_exact_16[slice21],\n",
        "       simple_regret_exact_17[slice21],\n",
        "       simple_regret_exact_18[slice21],\n",
        "       simple_regret_exact_19[slice21],\n",
        "       simple_regret_exact_20[slice21]]\n",
        "\n",
        "approx21_results = pd.DataFrame(approx21).sort_values(by=[0], ascending=False)\n",
        "exact21_results = pd.DataFrame(exact21).sort_values(by=[0], ascending=False)\n",
        "\n",
        "### Best simple regret minimization IQR - approx:\n",
        "lower_approx21 = np.asarray(approx21_results[4:5][0])[0]\n",
        "median_approx21 = np.asarray(approx21_results[9:10][0])[0]\n",
        "upper_approx21 = np.asarray(approx21_results[14:15][0])[0]\n",
        "\n",
        "lower_exact21 = np.asarray(exact21_results[4:5][0])[0]\n",
        "median_exact21 = np.asarray(exact21_results[9:10][0])[0]\n",
        "upper_exact21 = np.asarray(exact21_results[14:15][0])[0]"
      ]
    },
    {
      "cell_type": "code",
      "execution_count": 78,
      "metadata": {
        "id": "PrRDB1kfQxf3"
      },
      "outputs": [],
      "source": [
        "# Iteration2 :\n",
        "\n",
        "slice2 = 1\n",
        "\n",
        "approx2 = [simple_regret_approx_1[slice2],\n",
        "       simple_regret_approx_2[slice2],\n",
        "       simple_regret_approx_3[slice2],\n",
        "       simple_regret_approx_4[slice2],\n",
        "       simple_regret_approx_5[slice2],\n",
        "       simple_regret_approx_6[slice2],\n",
        "       simple_regret_approx_7[slice2],\n",
        "       simple_regret_approx_8[slice2],\n",
        "       simple_regret_approx_9[slice2],\n",
        "       simple_regret_approx_10[slice2],\n",
        "       simple_regret_approx_11[slice2],\n",
        "       simple_regret_approx_12[slice2],\n",
        "       simple_regret_approx_13[slice2],\n",
        "       simple_regret_approx_14[slice2],\n",
        "       simple_regret_approx_15[slice2],\n",
        "       simple_regret_approx_16[slice2],\n",
        "       simple_regret_approx_17[slice2],\n",
        "       simple_regret_approx_18[slice2],\n",
        "       simple_regret_approx_19[slice2],\n",
        "       simple_regret_approx_20[slice2]]\n",
        "\n",
        "exact2 = [simple_regret_exact_1[slice2],\n",
        "       simple_regret_exact_2[slice2],\n",
        "       simple_regret_exact_3[slice2],\n",
        "       simple_regret_exact_4[slice2],\n",
        "       simple_regret_exact_5[slice2],\n",
        "       simple_regret_exact_6[slice2],\n",
        "       simple_regret_exact_7[slice2],\n",
        "       simple_regret_exact_8[slice2],\n",
        "       simple_regret_exact_9[slice2],\n",
        "       simple_regret_exact_10[slice2],\n",
        "       simple_regret_exact_11[slice2],\n",
        "       simple_regret_exact_12[slice2],\n",
        "       simple_regret_exact_13[slice2],\n",
        "       simple_regret_exact_14[slice2],\n",
        "       simple_regret_exact_15[slice2],\n",
        "       simple_regret_exact_16[slice2],\n",
        "       simple_regret_exact_17[slice2],\n",
        "       simple_regret_exact_18[slice2],\n",
        "       simple_regret_exact_19[slice2],\n",
        "       simple_regret_exact_20[slice2]]\n",
        "\n",
        "approx2_results = pd.DataFrame(approx2).sort_values(by=[0], ascending=False)\n",
        "exact2_results = pd.DataFrame(exact2).sort_values(by=[0], ascending=False)\n",
        "\n",
        "### Best simple regret minimization IQR - approx:\n",
        "lower_approx2 = np.asarray(approx2_results[4:5][0])[0]\n",
        "median_approx2 = np.asarray(approx2_results[9:10][0])[0]\n",
        "upper_approx2 = np.asarray(approx2_results[14:15][0])[0]\n",
        "\n",
        "lower_exact2 = np.asarray(exact2_results[4:5][0])[0]\n",
        "median_exact2 = np.asarray(exact2_results[9:10][0])[0]\n",
        "upper_exact2 = np.asarray(exact2_results[14:15][0])[0]"
      ]
    },
    {
      "cell_type": "code",
      "execution_count": 79,
      "metadata": {
        "id": "B8ncJDYeQxf3"
      },
      "outputs": [],
      "source": [
        "# Iteration12 :\n",
        "\n",
        "slice12 = 11\n",
        "\n",
        "approx12 = [simple_regret_approx_1[slice12],\n",
        "       simple_regret_approx_2[slice12],\n",
        "       simple_regret_approx_3[slice12],\n",
        "       simple_regret_approx_4[slice12],\n",
        "       simple_regret_approx_5[slice12],\n",
        "       simple_regret_approx_6[slice12],\n",
        "       simple_regret_approx_7[slice12],\n",
        "       simple_regret_approx_8[slice12],\n",
        "       simple_regret_approx_9[slice12],\n",
        "       simple_regret_approx_10[slice12],\n",
        "       simple_regret_approx_11[slice12],\n",
        "       simple_regret_approx_12[slice12],\n",
        "       simple_regret_approx_13[slice12],\n",
        "       simple_regret_approx_14[slice12],\n",
        "       simple_regret_approx_15[slice12],\n",
        "       simple_regret_approx_16[slice12],\n",
        "       simple_regret_approx_17[slice12],\n",
        "       simple_regret_approx_18[slice12],\n",
        "       simple_regret_approx_19[slice12],\n",
        "       simple_regret_approx_20[slice12]]\n",
        "\n",
        "exact12 = [simple_regret_exact_1[slice12],\n",
        "       simple_regret_exact_2[slice12],\n",
        "       simple_regret_exact_3[slice12],\n",
        "       simple_regret_exact_4[slice12],\n",
        "       simple_regret_exact_5[slice12],\n",
        "       simple_regret_exact_6[slice12],\n",
        "       simple_regret_exact_7[slice12],\n",
        "       simple_regret_exact_8[slice12],\n",
        "       simple_regret_exact_9[slice12],\n",
        "       simple_regret_exact_10[slice12],\n",
        "       simple_regret_exact_11[slice12],\n",
        "       simple_regret_exact_12[slice12],\n",
        "       simple_regret_exact_13[slice12],\n",
        "       simple_regret_exact_14[slice12],\n",
        "       simple_regret_exact_15[slice12],\n",
        "       simple_regret_exact_16[slice12],\n",
        "       simple_regret_exact_17[slice12],\n",
        "       simple_regret_exact_18[slice12],\n",
        "       simple_regret_exact_19[slice12],\n",
        "       simple_regret_exact_20[slice12]]\n",
        "\n",
        "approx12_results = pd.DataFrame(approx12).sort_values(by=[0], ascending=False)\n",
        "exact12_results = pd.DataFrame(exact12).sort_values(by=[0], ascending=False)\n",
        "\n",
        "### Best simple regret minimization IQR - approx:\n",
        "lower_approx12 = np.asarray(approx12_results[4:5][0])[0]\n",
        "median_approx12 = np.asarray(approx12_results[9:10][0])[0]\n",
        "upper_approx12 = np.asarray(approx12_results[14:15][0])[0]\n",
        "\n",
        "lower_exact12 = np.asarray(exact12_results[4:5][0])[0]\n",
        "median_exact12 = np.asarray(exact12_results[9:10][0])[0]\n",
        "upper_exact12 = np.asarray(exact12_results[14:15][0])[0]"
      ]
    },
    {
      "cell_type": "code",
      "execution_count": 80,
      "metadata": {
        "id": "Jn4KpGvcQxf4"
      },
      "outputs": [],
      "source": [
        "# Iteration3 :\n",
        "\n",
        "slice3 = 2\n",
        "\n",
        "approx3 = [simple_regret_approx_1[slice3],\n",
        "       simple_regret_approx_2[slice3],\n",
        "       simple_regret_approx_3[slice3],\n",
        "       simple_regret_approx_4[slice3],\n",
        "       simple_regret_approx_5[slice3],\n",
        "       simple_regret_approx_6[slice3],\n",
        "       simple_regret_approx_7[slice3],\n",
        "       simple_regret_approx_8[slice3],\n",
        "       simple_regret_approx_9[slice3],\n",
        "       simple_regret_approx_10[slice3],\n",
        "       simple_regret_approx_11[slice3],\n",
        "       simple_regret_approx_12[slice3],\n",
        "       simple_regret_approx_13[slice3],\n",
        "       simple_regret_approx_14[slice3],\n",
        "       simple_regret_approx_15[slice3],\n",
        "       simple_regret_approx_16[slice3],\n",
        "       simple_regret_approx_17[slice3],\n",
        "       simple_regret_approx_18[slice3],\n",
        "       simple_regret_approx_19[slice3],\n",
        "       simple_regret_approx_20[slice3]]\n",
        "\n",
        "exact3 = [simple_regret_exact_1[slice3],\n",
        "       simple_regret_exact_2[slice3],\n",
        "       simple_regret_exact_3[slice3],\n",
        "       simple_regret_exact_4[slice3],\n",
        "       simple_regret_exact_5[slice3],\n",
        "       simple_regret_exact_6[slice3],\n",
        "       simple_regret_exact_7[slice3],\n",
        "       simple_regret_exact_8[slice3],\n",
        "       simple_regret_exact_9[slice3],\n",
        "       simple_regret_exact_10[slice3],\n",
        "       simple_regret_exact_11[slice3],\n",
        "       simple_regret_exact_12[slice3],\n",
        "       simple_regret_exact_13[slice3],\n",
        "       simple_regret_exact_14[slice3],\n",
        "       simple_regret_exact_15[slice3],\n",
        "       simple_regret_exact_16[slice3],\n",
        "       simple_regret_exact_17[slice3],\n",
        "       simple_regret_exact_18[slice3],\n",
        "       simple_regret_exact_19[slice3],\n",
        "       simple_regret_exact_20[slice3]]\n",
        "\n",
        "approx3_results = pd.DataFrame(approx3).sort_values(by=[0], ascending=False)\n",
        "exact3_results = pd.DataFrame(exact3).sort_values(by=[0], ascending=False)\n",
        "\n",
        "### Best simple regret minimization IQR - approx:\n",
        "lower_approx3 = np.asarray(approx3_results[4:5][0])[0]\n",
        "median_approx3 = np.asarray(approx3_results[9:10][0])[0]\n",
        "upper_approx3 = np.asarray(approx3_results[14:15][0])[0]\n",
        "\n",
        "lower_exact3 = np.asarray(exact3_results[4:5][0])[0]\n",
        "median_exact3 = np.asarray(exact3_results[9:10][0])[0]\n",
        "upper_exact3 = np.asarray(exact3_results[14:15][0])[0]"
      ]
    },
    {
      "cell_type": "code",
      "execution_count": 81,
      "metadata": {
        "id": "plf83wxrQxf4"
      },
      "outputs": [],
      "source": [
        "# Iteration13 :\n",
        "\n",
        "slice13 = 12\n",
        "\n",
        "approx13 = [simple_regret_approx_1[slice13],\n",
        "       simple_regret_approx_2[slice13],\n",
        "       simple_regret_approx_3[slice13],\n",
        "       simple_regret_approx_4[slice13],\n",
        "       simple_regret_approx_5[slice13],\n",
        "       simple_regret_approx_6[slice13],\n",
        "       simple_regret_approx_7[slice13],\n",
        "       simple_regret_approx_8[slice13],\n",
        "       simple_regret_approx_9[slice13],\n",
        "       simple_regret_approx_10[slice13],\n",
        "       simple_regret_approx_11[slice13],\n",
        "       simple_regret_approx_12[slice13],\n",
        "       simple_regret_approx_13[slice13],\n",
        "       simple_regret_approx_14[slice13],\n",
        "       simple_regret_approx_15[slice13],\n",
        "       simple_regret_approx_16[slice13],\n",
        "       simple_regret_approx_17[slice13],\n",
        "       simple_regret_approx_18[slice13],\n",
        "       simple_regret_approx_19[slice13],\n",
        "       simple_regret_approx_20[slice13]]\n",
        "\n",
        "exact13 = [simple_regret_exact_1[slice13],\n",
        "       simple_regret_exact_2[slice13],\n",
        "       simple_regret_exact_3[slice13],\n",
        "       simple_regret_exact_4[slice13],\n",
        "       simple_regret_exact_5[slice13],\n",
        "       simple_regret_exact_6[slice13],\n",
        "       simple_regret_exact_7[slice13],\n",
        "       simple_regret_exact_8[slice13],\n",
        "       simple_regret_exact_9[slice13],\n",
        "       simple_regret_exact_10[slice13],\n",
        "       simple_regret_exact_11[slice13],\n",
        "       simple_regret_exact_12[slice13],\n",
        "       simple_regret_exact_13[slice13],\n",
        "       simple_regret_exact_14[slice13],\n",
        "       simple_regret_exact_15[slice13],\n",
        "       simple_regret_exact_16[slice13],\n",
        "       simple_regret_exact_17[slice13],\n",
        "       simple_regret_exact_18[slice13],\n",
        "       simple_regret_exact_19[slice13],\n",
        "       simple_regret_exact_20[slice13]]\n",
        "\n",
        "approx13_results = pd.DataFrame(approx13).sort_values(by=[0], ascending=False)\n",
        "exact13_results = pd.DataFrame(exact13).sort_values(by=[0], ascending=False)\n",
        "\n",
        "### Best simple regret minimization IQR - approx:\n",
        "lower_approx13 = np.asarray(approx13_results[4:5][0])[0]\n",
        "median_approx13 = np.asarray(approx13_results[9:10][0])[0]\n",
        "upper_approx13 = np.asarray(approx13_results[14:15][0])[0]\n",
        "\n",
        "lower_exact13 = np.asarray(exact13_results[4:5][0])[0]\n",
        "median_exact13 = np.asarray(exact13_results[9:10][0])[0]\n",
        "upper_exact13 = np.asarray(exact13_results[14:15][0])[0]"
      ]
    },
    {
      "cell_type": "code",
      "execution_count": 82,
      "metadata": {
        "id": "9A7mlVvJQxf5"
      },
      "outputs": [],
      "source": [
        "# Iteration4 :\n",
        "\n",
        "slice4 = 3\n",
        "\n",
        "approx4 = [simple_regret_approx_1[slice4],\n",
        "       simple_regret_approx_2[slice4],\n",
        "       simple_regret_approx_3[slice4],\n",
        "       simple_regret_approx_4[slice4],\n",
        "       simple_regret_approx_5[slice4],\n",
        "       simple_regret_approx_6[slice4],\n",
        "       simple_regret_approx_7[slice4],\n",
        "       simple_regret_approx_8[slice4],\n",
        "       simple_regret_approx_9[slice4],\n",
        "       simple_regret_approx_10[slice4],\n",
        "       simple_regret_approx_11[slice4],\n",
        "       simple_regret_approx_12[slice4],\n",
        "       simple_regret_approx_13[slice4],\n",
        "       simple_regret_approx_14[slice4],\n",
        "       simple_regret_approx_15[slice4],\n",
        "       simple_regret_approx_16[slice4],\n",
        "       simple_regret_approx_17[slice4],\n",
        "       simple_regret_approx_18[slice4],\n",
        "       simple_regret_approx_19[slice4],\n",
        "       simple_regret_approx_20[slice4]]\n",
        "\n",
        "exact4 = [simple_regret_exact_1[slice4],\n",
        "       simple_regret_exact_2[slice4],\n",
        "       simple_regret_exact_3[slice4],\n",
        "       simple_regret_exact_4[slice4],\n",
        "       simple_regret_exact_5[slice4],\n",
        "       simple_regret_exact_6[slice4],\n",
        "       simple_regret_exact_7[slice4],\n",
        "       simple_regret_exact_8[slice4],\n",
        "       simple_regret_exact_9[slice4],\n",
        "       simple_regret_exact_10[slice4],\n",
        "       simple_regret_exact_11[slice4],\n",
        "       simple_regret_exact_12[slice4],\n",
        "       simple_regret_exact_13[slice4],\n",
        "       simple_regret_exact_14[slice4],\n",
        "       simple_regret_exact_15[slice4],\n",
        "       simple_regret_exact_16[slice4],\n",
        "       simple_regret_exact_17[slice4],\n",
        "       simple_regret_exact_18[slice4],\n",
        "       simple_regret_exact_19[slice4],\n",
        "       simple_regret_exact_20[slice4]]\n",
        "\n",
        "approx4_results = pd.DataFrame(approx4).sort_values(by=[0], ascending=False)\n",
        "exact4_results = pd.DataFrame(exact4).sort_values(by=[0], ascending=False)\n",
        "\n",
        "### Best simple regret minimization IQR - approx:\n",
        "lower_approx4 = np.asarray(approx4_results[4:5][0])[0]\n",
        "median_approx4 = np.asarray(approx4_results[9:10][0])[0]\n",
        "upper_approx4 = np.asarray(approx4_results[14:15][0])[0]\n",
        "\n",
        "lower_exact4 = np.asarray(exact4_results[4:5][0])[0]\n",
        "median_exact4 = np.asarray(exact4_results[9:10][0])[0]\n",
        "upper_exact4 = np.asarray(exact4_results[14:15][0])[0]"
      ]
    },
    {
      "cell_type": "code",
      "execution_count": 83,
      "metadata": {
        "id": "ijq-rioYQxf5"
      },
      "outputs": [],
      "source": [
        "# Iteration14 :\n",
        "\n",
        "slice14 = 13\n",
        "\n",
        "approx14 = [simple_regret_approx_1[slice14],\n",
        "       simple_regret_approx_2[slice14],\n",
        "       simple_regret_approx_3[slice14],\n",
        "       simple_regret_approx_4[slice14],\n",
        "       simple_regret_approx_5[slice14],\n",
        "       simple_regret_approx_6[slice14],\n",
        "       simple_regret_approx_7[slice14],\n",
        "       simple_regret_approx_8[slice14],\n",
        "       simple_regret_approx_9[slice14],\n",
        "       simple_regret_approx_10[slice14],\n",
        "       simple_regret_approx_11[slice14],\n",
        "       simple_regret_approx_12[slice14],\n",
        "       simple_regret_approx_13[slice14],\n",
        "       simple_regret_approx_14[slice14],\n",
        "       simple_regret_approx_15[slice14],\n",
        "       simple_regret_approx_16[slice14],\n",
        "       simple_regret_approx_17[slice14],\n",
        "       simple_regret_approx_18[slice14],\n",
        "       simple_regret_approx_19[slice14],\n",
        "       simple_regret_approx_20[slice14]]\n",
        "\n",
        "exact14 = [simple_regret_exact_1[slice14],\n",
        "       simple_regret_exact_2[slice14],\n",
        "       simple_regret_exact_3[slice14],\n",
        "       simple_regret_exact_4[slice14],\n",
        "       simple_regret_exact_5[slice14],\n",
        "       simple_regret_exact_6[slice14],\n",
        "       simple_regret_exact_7[slice14],\n",
        "       simple_regret_exact_8[slice14],\n",
        "       simple_regret_exact_9[slice14],\n",
        "       simple_regret_exact_10[slice14],\n",
        "       simple_regret_exact_11[slice14],\n",
        "       simple_regret_exact_12[slice14],\n",
        "       simple_regret_exact_13[slice14],\n",
        "       simple_regret_exact_14[slice14],\n",
        "       simple_regret_exact_15[slice14],\n",
        "       simple_regret_exact_16[slice14],\n",
        "       simple_regret_exact_17[slice14],\n",
        "       simple_regret_exact_18[slice14],\n",
        "       simple_regret_exact_19[slice14],\n",
        "       simple_regret_exact_20[slice14]]\n",
        "\n",
        "approx14_results = pd.DataFrame(approx14).sort_values(by=[0], ascending=False)\n",
        "exact14_results = pd.DataFrame(exact14).sort_values(by=[0], ascending=False)\n",
        "\n",
        "### Best simple regret minimization IQR - approx:\n",
        "lower_approx14 = np.asarray(approx14_results[4:5][0])[0]\n",
        "median_approx14 = np.asarray(approx14_results[9:10][0])[0]\n",
        "upper_approx14 = np.asarray(approx14_results[14:15][0])[0]\n",
        "\n",
        "lower_exact14 = np.asarray(exact14_results[4:5][0])[0]\n",
        "median_exact14 = np.asarray(exact14_results[9:10][0])[0]\n",
        "upper_exact14 = np.asarray(exact14_results[14:15][0])[0]"
      ]
    },
    {
      "cell_type": "code",
      "execution_count": 84,
      "metadata": {
        "id": "XINlZjoTd-ZK"
      },
      "outputs": [],
      "source": [
        "# Iteration5 :\n",
        "\n",
        "slice5 = 4\n",
        "\n",
        "approx5 = [simple_regret_approx_1[slice5],\n",
        "       simple_regret_approx_2[slice5],\n",
        "       simple_regret_approx_3[slice5],\n",
        "       simple_regret_approx_4[slice5],\n",
        "       simple_regret_approx_5[slice5],\n",
        "       simple_regret_approx_6[slice5],\n",
        "       simple_regret_approx_7[slice5],\n",
        "       simple_regret_approx_8[slice5],\n",
        "       simple_regret_approx_9[slice5],\n",
        "       simple_regret_approx_10[slice5],\n",
        "       simple_regret_approx_11[slice5],\n",
        "       simple_regret_approx_12[slice5],\n",
        "       simple_regret_approx_13[slice5],\n",
        "       simple_regret_approx_14[slice5],\n",
        "       simple_regret_approx_15[slice5],\n",
        "       simple_regret_approx_16[slice5],\n",
        "       simple_regret_approx_17[slice5],\n",
        "       simple_regret_approx_18[slice5],\n",
        "       simple_regret_approx_19[slice5],\n",
        "       simple_regret_approx_20[slice5]]\n",
        "\n",
        "exact5 = [simple_regret_exact_1[slice5],\n",
        "       simple_regret_exact_2[slice5],\n",
        "       simple_regret_exact_3[slice5],\n",
        "       simple_regret_exact_4[slice5],\n",
        "       simple_regret_exact_5[slice5],\n",
        "       simple_regret_exact_6[slice5],\n",
        "       simple_regret_exact_7[slice5],\n",
        "       simple_regret_exact_8[slice5],\n",
        "       simple_regret_exact_9[slice5],\n",
        "       simple_regret_exact_10[slice5],\n",
        "       simple_regret_exact_11[slice5],\n",
        "       simple_regret_exact_12[slice5],\n",
        "       simple_regret_exact_13[slice5],\n",
        "       simple_regret_exact_14[slice5],\n",
        "       simple_regret_exact_15[slice5],\n",
        "       simple_regret_exact_16[slice5],\n",
        "       simple_regret_exact_17[slice5],\n",
        "       simple_regret_exact_18[slice5],\n",
        "       simple_regret_exact_19[slice5],\n",
        "       simple_regret_exact_20[slice5]]\n",
        "\n",
        "approx5_results = pd.DataFrame(approx5).sort_values(by=[0], ascending=False)\n",
        "exact5_results = pd.DataFrame(exact5).sort_values(by=[0], ascending=False)\n",
        "\n",
        "### Best simple regret minimization IQR - approx:\n",
        "lower_approx5 = np.asarray(approx5_results[4:5][0])[0]\n",
        "median_approx5 = np.asarray(approx5_results[9:10][0])[0]\n",
        "upper_approx5 = np.asarray(approx5_results[14:15][0])[0]\n",
        "\n",
        "lower_exact5 = np.asarray(exact5_results[4:5][0])[0]\n",
        "median_exact5 = np.asarray(exact5_results[9:10][0])[0]\n",
        "upper_exact5 = np.asarray(exact5_results[14:15][0])[0]"
      ]
    },
    {
      "cell_type": "code",
      "execution_count": 85,
      "metadata": {
        "id": "4aZ7C8sOQxf6"
      },
      "outputs": [],
      "source": [
        "# Iteration15 :\n",
        "\n",
        "slice15 = 14\n",
        "\n",
        "approx15 = [simple_regret_approx_1[slice15],\n",
        "       simple_regret_approx_2[slice15],\n",
        "       simple_regret_approx_3[slice15],\n",
        "       simple_regret_approx_4[slice15],\n",
        "       simple_regret_approx_5[slice15],\n",
        "       simple_regret_approx_6[slice15],\n",
        "       simple_regret_approx_7[slice15],\n",
        "       simple_regret_approx_8[slice15],\n",
        "       simple_regret_approx_9[slice15],\n",
        "       simple_regret_approx_10[slice15],\n",
        "       simple_regret_approx_11[slice15],\n",
        "       simple_regret_approx_12[slice15],\n",
        "       simple_regret_approx_13[slice15],\n",
        "       simple_regret_approx_14[slice15],\n",
        "       simple_regret_approx_15[slice15],\n",
        "       simple_regret_approx_16[slice15],\n",
        "       simple_regret_approx_17[slice15],\n",
        "       simple_regret_approx_18[slice15],\n",
        "       simple_regret_approx_19[slice15],\n",
        "       simple_regret_approx_20[slice15]]\n",
        "\n",
        "exact15 = [simple_regret_exact_1[slice15],\n",
        "       simple_regret_exact_2[slice15],\n",
        "       simple_regret_exact_3[slice15],\n",
        "       simple_regret_exact_4[slice15],\n",
        "       simple_regret_exact_5[slice15],\n",
        "       simple_regret_exact_6[slice15],\n",
        "       simple_regret_exact_7[slice15],\n",
        "       simple_regret_exact_8[slice15],\n",
        "       simple_regret_exact_9[slice15],\n",
        "       simple_regret_exact_10[slice15],\n",
        "       simple_regret_exact_11[slice15],\n",
        "       simple_regret_exact_12[slice15],\n",
        "       simple_regret_exact_13[slice15],\n",
        "       simple_regret_exact_14[slice15],\n",
        "       simple_regret_exact_15[slice15],\n",
        "       simple_regret_exact_16[slice15],\n",
        "       simple_regret_exact_17[slice15],\n",
        "       simple_regret_exact_18[slice15],\n",
        "       simple_regret_exact_19[slice15],\n",
        "       simple_regret_exact_20[slice15]]\n",
        "\n",
        "approx15_results = pd.DataFrame(approx15).sort_values(by=[0], ascending=False)\n",
        "exact15_results = pd.DataFrame(exact15).sort_values(by=[0], ascending=False)\n",
        "\n",
        "### Best simple regret minimization IQR - approx:\n",
        "lower_approx15 = np.asarray(approx15_results[4:5][0])[0]\n",
        "median_approx15 = np.asarray(approx15_results[9:10][0])[0]\n",
        "upper_approx15 = np.asarray(approx15_results[14:15][0])[0]\n",
        "\n",
        "lower_exact15 = np.asarray(exact15_results[4:5][0])[0]\n",
        "median_exact15 = np.asarray(exact15_results[9:10][0])[0]\n",
        "upper_exact15 = np.asarray(exact15_results[14:15][0])[0]"
      ]
    },
    {
      "cell_type": "code",
      "execution_count": 86,
      "metadata": {
        "id": "KJINKhv1Qxf6"
      },
      "outputs": [],
      "source": [
        "# Iteration6 :\n",
        "\n",
        "slice6 = 5\n",
        "\n",
        "approx6 = [simple_regret_approx_1[slice6],\n",
        "       simple_regret_approx_2[slice6],\n",
        "       simple_regret_approx_3[slice6],\n",
        "       simple_regret_approx_4[slice6],\n",
        "       simple_regret_approx_5[slice6],\n",
        "       simple_regret_approx_6[slice6],\n",
        "       simple_regret_approx_7[slice6],\n",
        "       simple_regret_approx_8[slice6],\n",
        "       simple_regret_approx_9[slice6],\n",
        "       simple_regret_approx_10[slice6],\n",
        "       simple_regret_approx_11[slice6],\n",
        "       simple_regret_approx_12[slice6],\n",
        "       simple_regret_approx_13[slice6],\n",
        "       simple_regret_approx_14[slice6],\n",
        "       simple_regret_approx_15[slice6],\n",
        "       simple_regret_approx_16[slice6],\n",
        "       simple_regret_approx_17[slice6],\n",
        "       simple_regret_approx_18[slice6],\n",
        "       simple_regret_approx_19[slice6],\n",
        "       simple_regret_approx_20[slice6]]\n",
        "\n",
        "exact6 = [simple_regret_exact_1[slice6],\n",
        "       simple_regret_exact_2[slice6],\n",
        "       simple_regret_exact_3[slice6],\n",
        "       simple_regret_exact_4[slice6],\n",
        "       simple_regret_exact_5[slice6],\n",
        "       simple_regret_exact_6[slice6],\n",
        "       simple_regret_exact_7[slice6],\n",
        "       simple_regret_exact_8[slice6],\n",
        "       simple_regret_exact_9[slice6],\n",
        "       simple_regret_exact_10[slice6],\n",
        "       simple_regret_exact_11[slice6],\n",
        "       simple_regret_exact_12[slice6],\n",
        "       simple_regret_exact_13[slice6],\n",
        "       simple_regret_exact_14[slice6],\n",
        "       simple_regret_exact_15[slice6],\n",
        "       simple_regret_exact_16[slice6],\n",
        "       simple_regret_exact_17[slice6],\n",
        "       simple_regret_exact_18[slice6],\n",
        "       simple_regret_exact_19[slice6],\n",
        "       simple_regret_exact_20[slice6]]\n",
        "\n",
        "approx6_results = pd.DataFrame(approx6).sort_values(by=[0], ascending=False)\n",
        "exact6_results = pd.DataFrame(exact6).sort_values(by=[0], ascending=False)\n",
        "\n",
        "### Best simple regret minimization IQR - approx:\n",
        "lower_approx6 = np.asarray(approx6_results[4:5][0])[0]\n",
        "median_approx6 = np.asarray(approx6_results[9:10][0])[0]\n",
        "upper_approx6 = np.asarray(approx6_results[14:15][0])[0]\n",
        "\n",
        "lower_exact6 = np.asarray(exact6_results[4:5][0])[0]\n",
        "median_exact6 = np.asarray(exact6_results[9:10][0])[0]\n",
        "upper_exact6 = np.asarray(exact6_results[14:15][0])[0]"
      ]
    },
    {
      "cell_type": "code",
      "execution_count": 87,
      "metadata": {
        "id": "nwC5N1FsQxf7"
      },
      "outputs": [],
      "source": [
        "# Iteration16 :\n",
        "\n",
        "slice16 = 15\n",
        "\n",
        "approx16 = [simple_regret_approx_1[slice16],\n",
        "       simple_regret_approx_2[slice16],\n",
        "       simple_regret_approx_3[slice16],\n",
        "       simple_regret_approx_4[slice16],\n",
        "       simple_regret_approx_5[slice16],\n",
        "       simple_regret_approx_6[slice16],\n",
        "       simple_regret_approx_7[slice16],\n",
        "       simple_regret_approx_8[slice16],\n",
        "       simple_regret_approx_9[slice16],\n",
        "       simple_regret_approx_10[slice16],\n",
        "       simple_regret_approx_11[slice16],\n",
        "       simple_regret_approx_12[slice16],\n",
        "       simple_regret_approx_13[slice16],\n",
        "       simple_regret_approx_14[slice16],\n",
        "       simple_regret_approx_15[slice16],\n",
        "       simple_regret_approx_16[slice16],\n",
        "       simple_regret_approx_17[slice16],\n",
        "       simple_regret_approx_18[slice16],\n",
        "       simple_regret_approx_19[slice16],\n",
        "       simple_regret_approx_20[slice16]]\n",
        "\n",
        "exact16 = [simple_regret_exact_1[slice16],\n",
        "       simple_regret_exact_2[slice16],\n",
        "       simple_regret_exact_3[slice16],\n",
        "       simple_regret_exact_4[slice16],\n",
        "       simple_regret_exact_5[slice16],\n",
        "       simple_regret_exact_6[slice16],\n",
        "       simple_regret_exact_7[slice16],\n",
        "       simple_regret_exact_8[slice16],\n",
        "       simple_regret_exact_9[slice16],\n",
        "       simple_regret_exact_10[slice16],\n",
        "       simple_regret_exact_11[slice16],\n",
        "       simple_regret_exact_12[slice16],\n",
        "       simple_regret_exact_13[slice16],\n",
        "       simple_regret_exact_14[slice16],\n",
        "       simple_regret_exact_15[slice16],\n",
        "       simple_regret_exact_16[slice16],\n",
        "       simple_regret_exact_17[slice16],\n",
        "       simple_regret_exact_18[slice16],\n",
        "       simple_regret_exact_19[slice16],\n",
        "       simple_regret_exact_20[slice16]]\n",
        "\n",
        "approx16_results = pd.DataFrame(approx16).sort_values(by=[0], ascending=False)\n",
        "exact16_results = pd.DataFrame(exact16).sort_values(by=[0], ascending=False)\n",
        "\n",
        "### Best simple regret minimization IQR - approx:\n",
        "lower_approx16 = np.asarray(approx16_results[4:5][0])[0]\n",
        "median_approx16 = np.asarray(approx16_results[9:10][0])[0]\n",
        "upper_approx16 = np.asarray(approx16_results[14:15][0])[0]\n",
        "\n",
        "lower_exact16 = np.asarray(exact16_results[4:5][0])[0]\n",
        "median_exact16 = np.asarray(exact16_results[9:10][0])[0]\n",
        "upper_exact16 = np.asarray(exact16_results[14:15][0])[0]"
      ]
    },
    {
      "cell_type": "code",
      "execution_count": 88,
      "metadata": {
        "id": "TrPV0AfnQxf7"
      },
      "outputs": [],
      "source": [
        "# Iteration7 :\n",
        "\n",
        "slice7 = 6\n",
        "\n",
        "approx7 = [simple_regret_approx_1[slice7],\n",
        "       simple_regret_approx_2[slice7],\n",
        "       simple_regret_approx_3[slice7],\n",
        "       simple_regret_approx_4[slice7],\n",
        "       simple_regret_approx_5[slice7],\n",
        "       simple_regret_approx_6[slice7],\n",
        "       simple_regret_approx_7[slice7],\n",
        "       simple_regret_approx_8[slice7],\n",
        "       simple_regret_approx_9[slice7],\n",
        "       simple_regret_approx_10[slice7],\n",
        "       simple_regret_approx_11[slice7],\n",
        "       simple_regret_approx_12[slice7],\n",
        "       simple_regret_approx_13[slice7],\n",
        "       simple_regret_approx_14[slice7],\n",
        "       simple_regret_approx_15[slice7],\n",
        "       simple_regret_approx_16[slice7],\n",
        "       simple_regret_approx_17[slice7],\n",
        "       simple_regret_approx_18[slice7],\n",
        "       simple_regret_approx_19[slice7],\n",
        "       simple_regret_approx_20[slice7]]\n",
        "\n",
        "exact7 = [simple_regret_exact_1[slice7],\n",
        "       simple_regret_exact_2[slice7],\n",
        "       simple_regret_exact_3[slice7],\n",
        "       simple_regret_exact_4[slice7],\n",
        "       simple_regret_exact_5[slice7],\n",
        "       simple_regret_exact_6[slice7],\n",
        "       simple_regret_exact_7[slice7],\n",
        "       simple_regret_exact_8[slice7],\n",
        "       simple_regret_exact_9[slice7],\n",
        "       simple_regret_exact_10[slice7],\n",
        "       simple_regret_exact_11[slice7],\n",
        "       simple_regret_exact_12[slice7],\n",
        "       simple_regret_exact_13[slice7],\n",
        "       simple_regret_exact_14[slice7],\n",
        "       simple_regret_exact_15[slice7],\n",
        "       simple_regret_exact_16[slice7],\n",
        "       simple_regret_exact_17[slice7],\n",
        "       simple_regret_exact_18[slice7],\n",
        "       simple_regret_exact_19[slice7],\n",
        "       simple_regret_exact_20[slice7]]\n",
        "\n",
        "approx7_results = pd.DataFrame(approx7).sort_values(by=[0], ascending=False)\n",
        "exact7_results = pd.DataFrame(exact7).sort_values(by=[0], ascending=False)\n",
        "\n",
        "### Best simple regret minimization IQR - approx:\n",
        "lower_approx7 = np.asarray(approx7_results[4:5][0])[0]\n",
        "median_approx7 = np.asarray(approx7_results[9:10][0])[0]\n",
        "upper_approx7 = np.asarray(approx7_results[14:15][0])[0]\n",
        "\n",
        "lower_exact7 = np.asarray(exact7_results[4:5][0])[0]\n",
        "median_exact7 = np.asarray(exact7_results[9:10][0])[0]\n",
        "upper_exact7 = np.asarray(exact7_results[14:15][0])[0]"
      ]
    },
    {
      "cell_type": "code",
      "execution_count": 89,
      "metadata": {
        "id": "Ub_-wpK4Qxf8"
      },
      "outputs": [],
      "source": [
        "# Iteration17 :\n",
        "\n",
        "slice17 = 16\n",
        "\n",
        "approx17 = [simple_regret_approx_1[slice17],\n",
        "       simple_regret_approx_2[slice17],\n",
        "       simple_regret_approx_3[slice17],\n",
        "       simple_regret_approx_4[slice17],\n",
        "       simple_regret_approx_5[slice17],\n",
        "       simple_regret_approx_6[slice17],\n",
        "       simple_regret_approx_7[slice17],\n",
        "       simple_regret_approx_8[slice17],\n",
        "       simple_regret_approx_9[slice17],\n",
        "       simple_regret_approx_10[slice17],\n",
        "       simple_regret_approx_11[slice17],\n",
        "       simple_regret_approx_12[slice17],\n",
        "       simple_regret_approx_13[slice17],\n",
        "       simple_regret_approx_14[slice17],\n",
        "       simple_regret_approx_15[slice17],\n",
        "       simple_regret_approx_16[slice17],\n",
        "       simple_regret_approx_17[slice17],\n",
        "       simple_regret_approx_18[slice17],\n",
        "       simple_regret_approx_19[slice17],\n",
        "       simple_regret_approx_20[slice17]]\n",
        "\n",
        "exact17 = [simple_regret_exact_1[slice17],\n",
        "       simple_regret_exact_2[slice17],\n",
        "       simple_regret_exact_3[slice17],\n",
        "       simple_regret_exact_4[slice17],\n",
        "       simple_regret_exact_5[slice17],\n",
        "       simple_regret_exact_6[slice17],\n",
        "       simple_regret_exact_7[slice17],\n",
        "       simple_regret_exact_8[slice17],\n",
        "       simple_regret_exact_9[slice17],\n",
        "       simple_regret_exact_10[slice17],\n",
        "       simple_regret_exact_11[slice17],\n",
        "       simple_regret_exact_12[slice17],\n",
        "       simple_regret_exact_13[slice17],\n",
        "       simple_regret_exact_14[slice17],\n",
        "       simple_regret_exact_15[slice17],\n",
        "       simple_regret_exact_16[slice17],\n",
        "       simple_regret_exact_17[slice17],\n",
        "       simple_regret_exact_18[slice17],\n",
        "       simple_regret_exact_19[slice17],\n",
        "       simple_regret_exact_20[slice17]]\n",
        "\n",
        "approx17_results = pd.DataFrame(approx17).sort_values(by=[0], ascending=False)\n",
        "exact17_results = pd.DataFrame(exact17).sort_values(by=[0], ascending=False)\n",
        "\n",
        "### Best simple regret minimization IQR - approx:\n",
        "lower_approx17 = np.asarray(approx17_results[4:5][0])[0]\n",
        "median_approx17 = np.asarray(approx17_results[9:10][0])[0]\n",
        "upper_approx17 = np.asarray(approx17_results[14:15][0])[0]\n",
        "\n",
        "lower_exact17 = np.asarray(exact17_results[4:5][0])[0]\n",
        "median_exact17 = np.asarray(exact17_results[9:10][0])[0]\n",
        "upper_exact17 = np.asarray(exact17_results[14:15][0])[0]"
      ]
    },
    {
      "cell_type": "code",
      "execution_count": 90,
      "metadata": {
        "id": "-6VLo37PQxf8"
      },
      "outputs": [],
      "source": [
        "# Iteration8 :\n",
        "\n",
        "slice8 = 7\n",
        "\n",
        "approx8 = [simple_regret_approx_1[slice8],\n",
        "       simple_regret_approx_2[slice8],\n",
        "       simple_regret_approx_3[slice8],\n",
        "       simple_regret_approx_4[slice8],\n",
        "       simple_regret_approx_5[slice8],\n",
        "       simple_regret_approx_6[slice8],\n",
        "       simple_regret_approx_7[slice8],\n",
        "       simple_regret_approx_8[slice8],\n",
        "       simple_regret_approx_9[slice8],\n",
        "       simple_regret_approx_10[slice8],\n",
        "       simple_regret_approx_11[slice8],\n",
        "       simple_regret_approx_12[slice8],\n",
        "       simple_regret_approx_13[slice8],\n",
        "       simple_regret_approx_14[slice8],\n",
        "       simple_regret_approx_15[slice8],\n",
        "       simple_regret_approx_16[slice8],\n",
        "       simple_regret_approx_17[slice8],\n",
        "       simple_regret_approx_18[slice8],\n",
        "       simple_regret_approx_19[slice8],\n",
        "       simple_regret_approx_20[slice8]]\n",
        "\n",
        "exact8 = [simple_regret_exact_1[slice8],\n",
        "       simple_regret_exact_2[slice8],\n",
        "       simple_regret_exact_3[slice8],\n",
        "       simple_regret_exact_4[slice8],\n",
        "       simple_regret_exact_5[slice8],\n",
        "       simple_regret_exact_6[slice8],\n",
        "       simple_regret_exact_7[slice8],\n",
        "       simple_regret_exact_8[slice8],\n",
        "       simple_regret_exact_9[slice8],\n",
        "       simple_regret_exact_10[slice8],\n",
        "       simple_regret_exact_11[slice8],\n",
        "       simple_regret_exact_12[slice8],\n",
        "       simple_regret_exact_13[slice8],\n",
        "       simple_regret_exact_14[slice8],\n",
        "       simple_regret_exact_15[slice8],\n",
        "       simple_regret_exact_16[slice8],\n",
        "       simple_regret_exact_17[slice8],\n",
        "       simple_regret_exact_18[slice8],\n",
        "       simple_regret_exact_19[slice8],\n",
        "       simple_regret_exact_20[slice8]]\n",
        "\n",
        "approx8_results = pd.DataFrame(approx8).sort_values(by=[0], ascending=False)\n",
        "exact8_results = pd.DataFrame(exact8).sort_values(by=[0], ascending=False)\n",
        "\n",
        "### Best simple regret minimization IQR - approx:\n",
        "lower_approx8 = np.asarray(approx8_results[4:5][0])[0]\n",
        "median_approx8 = np.asarray(approx8_results[9:10][0])[0]\n",
        "upper_approx8 = np.asarray(approx8_results[14:15][0])[0]\n",
        "\n",
        "lower_exact8 = np.asarray(exact8_results[4:5][0])[0]\n",
        "median_exact8 = np.asarray(exact8_results[9:10][0])[0]\n",
        "upper_exact8 = np.asarray(exact8_results[14:15][0])[0]"
      ]
    },
    {
      "cell_type": "code",
      "execution_count": 91,
      "metadata": {
        "id": "2Dp-9CC2Qxf9"
      },
      "outputs": [],
      "source": [
        "# Iteration18 :\n",
        "\n",
        "slice18 = 17\n",
        "\n",
        "approx18 = [simple_regret_approx_1[slice18],\n",
        "       simple_regret_approx_2[slice18],\n",
        "       simple_regret_approx_3[slice18],\n",
        "       simple_regret_approx_4[slice18],\n",
        "       simple_regret_approx_5[slice18],\n",
        "       simple_regret_approx_6[slice18],\n",
        "       simple_regret_approx_7[slice18],\n",
        "       simple_regret_approx_8[slice18],\n",
        "       simple_regret_approx_9[slice18],\n",
        "       simple_regret_approx_10[slice18],\n",
        "       simple_regret_approx_11[slice18],\n",
        "       simple_regret_approx_12[slice18],\n",
        "       simple_regret_approx_13[slice18],\n",
        "       simple_regret_approx_14[slice18],\n",
        "       simple_regret_approx_15[slice18],\n",
        "       simple_regret_approx_16[slice18],\n",
        "       simple_regret_approx_17[slice18],\n",
        "       simple_regret_approx_18[slice18],\n",
        "       simple_regret_approx_19[slice18],\n",
        "       simple_regret_approx_20[slice18]]\n",
        "\n",
        "exact18 = [simple_regret_exact_1[slice18],\n",
        "       simple_regret_exact_2[slice18],\n",
        "       simple_regret_exact_3[slice18],\n",
        "       simple_regret_exact_4[slice18],\n",
        "       simple_regret_exact_5[slice18],\n",
        "       simple_regret_exact_6[slice18],\n",
        "       simple_regret_exact_7[slice18],\n",
        "       simple_regret_exact_8[slice18],\n",
        "       simple_regret_exact_9[slice18],\n",
        "       simple_regret_exact_10[slice18],\n",
        "       simple_regret_exact_11[slice18],\n",
        "       simple_regret_exact_12[slice18],\n",
        "       simple_regret_exact_13[slice18],\n",
        "       simple_regret_exact_14[slice18],\n",
        "       simple_regret_exact_15[slice18],\n",
        "       simple_regret_exact_16[slice18],\n",
        "       simple_regret_exact_17[slice18],\n",
        "       simple_regret_exact_18[slice18],\n",
        "       simple_regret_exact_19[slice18],\n",
        "       simple_regret_exact_20[slice18]]\n",
        "\n",
        "approx18_results = pd.DataFrame(approx18).sort_values(by=[0], ascending=False)\n",
        "exact18_results = pd.DataFrame(exact18).sort_values(by=[0], ascending=False)\n",
        "\n",
        "### Best simple regret minimization IQR - approx:\n",
        "lower_approx18 = np.asarray(approx18_results[4:5][0])[0]\n",
        "median_approx18 = np.asarray(approx18_results[9:10][0])[0]\n",
        "upper_approx18 = np.asarray(approx18_results[14:15][0])[0]\n",
        "\n",
        "lower_exact18 = np.asarray(exact18_results[4:5][0])[0]\n",
        "median_exact18 = np.asarray(exact18_results[9:10][0])[0]\n",
        "upper_exact18 = np.asarray(exact18_results[14:15][0])[0]"
      ]
    },
    {
      "cell_type": "code",
      "execution_count": 92,
      "metadata": {
        "id": "SqiaOpB7Qxf9"
      },
      "outputs": [],
      "source": [
        "# Iteration9 :\n",
        "\n",
        "slice9 = 8\n",
        "\n",
        "approx9 = [simple_regret_approx_1[slice9],\n",
        "       simple_regret_approx_2[slice9],\n",
        "       simple_regret_approx_3[slice9],\n",
        "       simple_regret_approx_4[slice9],\n",
        "       simple_regret_approx_5[slice9],\n",
        "       simple_regret_approx_6[slice9],\n",
        "       simple_regret_approx_7[slice9],\n",
        "       simple_regret_approx_8[slice9],\n",
        "       simple_regret_approx_9[slice9],\n",
        "       simple_regret_approx_10[slice9],\n",
        "       simple_regret_approx_11[slice9],\n",
        "       simple_regret_approx_12[slice9],\n",
        "       simple_regret_approx_13[slice9],\n",
        "       simple_regret_approx_14[slice9],\n",
        "       simple_regret_approx_15[slice9],\n",
        "       simple_regret_approx_16[slice9],\n",
        "       simple_regret_approx_17[slice9],\n",
        "       simple_regret_approx_18[slice9],\n",
        "       simple_regret_approx_19[slice9],\n",
        "       simple_regret_approx_20[slice9]]\n",
        "\n",
        "exact9 = [simple_regret_exact_1[slice9],\n",
        "       simple_regret_exact_2[slice9],\n",
        "       simple_regret_exact_3[slice9],\n",
        "       simple_regret_exact_4[slice9],\n",
        "       simple_regret_exact_5[slice9],\n",
        "       simple_regret_exact_6[slice9],\n",
        "       simple_regret_exact_7[slice9],\n",
        "       simple_regret_exact_8[slice9],\n",
        "       simple_regret_exact_9[slice9],\n",
        "       simple_regret_exact_10[slice9],\n",
        "       simple_regret_exact_11[slice9],\n",
        "       simple_regret_exact_12[slice9],\n",
        "       simple_regret_exact_13[slice9],\n",
        "       simple_regret_exact_14[slice9],\n",
        "       simple_regret_exact_15[slice9],\n",
        "       simple_regret_exact_16[slice9],\n",
        "       simple_regret_exact_17[slice9],\n",
        "       simple_regret_exact_18[slice9],\n",
        "       simple_regret_exact_19[slice9],\n",
        "       simple_regret_exact_20[slice9]]\n",
        "\n",
        "approx9_results = pd.DataFrame(approx9).sort_values(by=[0], ascending=False)\n",
        "exact9_results = pd.DataFrame(exact9).sort_values(by=[0], ascending=False)\n",
        "\n",
        "### Best simple regret minimization IQR - approx:\n",
        "lower_approx9 = np.asarray(approx9_results[4:5][0])[0]\n",
        "median_approx9 = np.asarray(approx9_results[9:10][0])[0]\n",
        "upper_approx9 = np.asarray(approx9_results[14:15][0])[0]\n",
        "\n",
        "lower_exact9 = np.asarray(exact9_results[4:5][0])[0]\n",
        "median_exact9 = np.asarray(exact9_results[9:10][0])[0]\n",
        "upper_exact9 = np.asarray(exact9_results[14:15][0])[0]"
      ]
    },
    {
      "cell_type": "code",
      "execution_count": 93,
      "metadata": {
        "id": "OQkCCOsPQxf9"
      },
      "outputs": [],
      "source": [
        "# Iteration19 :\n",
        "\n",
        "slice19 = 18\n",
        "\n",
        "approx19 = [simple_regret_approx_1[slice19],\n",
        "       simple_regret_approx_2[slice19],\n",
        "       simple_regret_approx_3[slice19],\n",
        "       simple_regret_approx_4[slice19],\n",
        "       simple_regret_approx_5[slice19],\n",
        "       simple_regret_approx_6[slice19],\n",
        "       simple_regret_approx_7[slice19],\n",
        "       simple_regret_approx_8[slice19],\n",
        "       simple_regret_approx_9[slice19],\n",
        "       simple_regret_approx_10[slice19],\n",
        "       simple_regret_approx_11[slice19],\n",
        "       simple_regret_approx_12[slice19],\n",
        "       simple_regret_approx_13[slice19],\n",
        "       simple_regret_approx_14[slice19],\n",
        "       simple_regret_approx_15[slice19],\n",
        "       simple_regret_approx_16[slice19],\n",
        "       simple_regret_approx_17[slice19],\n",
        "       simple_regret_approx_18[slice19],\n",
        "       simple_regret_approx_19[slice19],\n",
        "       simple_regret_approx_20[slice19]]\n",
        "\n",
        "exact19 = [simple_regret_exact_1[slice19],\n",
        "       simple_regret_exact_2[slice19],\n",
        "       simple_regret_exact_3[slice19],\n",
        "       simple_regret_exact_4[slice19],\n",
        "       simple_regret_exact_5[slice19],\n",
        "       simple_regret_exact_6[slice19],\n",
        "       simple_regret_exact_7[slice19],\n",
        "       simple_regret_exact_8[slice19],\n",
        "       simple_regret_exact_9[slice19],\n",
        "       simple_regret_exact_10[slice19],\n",
        "       simple_regret_exact_11[slice19],\n",
        "       simple_regret_exact_12[slice19],\n",
        "       simple_regret_exact_13[slice19],\n",
        "       simple_regret_exact_14[slice19],\n",
        "       simple_regret_exact_15[slice19],\n",
        "       simple_regret_exact_16[slice19],\n",
        "       simple_regret_exact_17[slice19],\n",
        "       simple_regret_exact_18[slice19],\n",
        "       simple_regret_exact_19[slice19],\n",
        "       simple_regret_exact_20[slice19]]\n",
        "\n",
        "approx19_results = pd.DataFrame(approx19).sort_values(by=[0], ascending=False)\n",
        "exact19_results = pd.DataFrame(exact19).sort_values(by=[0], ascending=False)\n",
        "\n",
        "### Best simple regret minimization IQR - approx:\n",
        "lower_approx19 = np.asarray(approx19_results[4:5][0])[0]\n",
        "median_approx19 = np.asarray(approx19_results[9:10][0])[0]\n",
        "upper_approx19 = np.asarray(approx19_results[14:15][0])[0]\n",
        "\n",
        "lower_exact19 = np.asarray(exact19_results[4:5][0])[0]\n",
        "median_exact19 = np.asarray(exact19_results[9:10][0])[0]\n",
        "upper_exact19 = np.asarray(exact19_results[14:15][0])[0]"
      ]
    },
    {
      "cell_type": "code",
      "execution_count": 94,
      "metadata": {
        "id": "h4vtWahcQxf-"
      },
      "outputs": [],
      "source": [
        "# Iteration10 :\n",
        "\n",
        "slice10 = 9\n",
        "\n",
        "approx10 = [simple_regret_approx_1[slice10],\n",
        "       simple_regret_approx_2[slice10],\n",
        "       simple_regret_approx_3[slice10],\n",
        "       simple_regret_approx_4[slice10],\n",
        "       simple_regret_approx_5[slice10],\n",
        "       simple_regret_approx_6[slice10],\n",
        "       simple_regret_approx_7[slice10],\n",
        "       simple_regret_approx_8[slice10],\n",
        "       simple_regret_approx_9[slice10],\n",
        "       simple_regret_approx_10[slice10],\n",
        "       simple_regret_approx_11[slice10],\n",
        "       simple_regret_approx_12[slice10],\n",
        "       simple_regret_approx_13[slice10],\n",
        "       simple_regret_approx_14[slice10],\n",
        "       simple_regret_approx_15[slice10],\n",
        "       simple_regret_approx_16[slice10],\n",
        "       simple_regret_approx_17[slice10],\n",
        "       simple_regret_approx_18[slice10],\n",
        "       simple_regret_approx_19[slice10],\n",
        "       simple_regret_approx_20[slice10]]\n",
        "\n",
        "exact10 = [simple_regret_exact_1[slice10],\n",
        "       simple_regret_exact_2[slice10],\n",
        "       simple_regret_exact_3[slice10],\n",
        "       simple_regret_exact_4[slice10],\n",
        "       simple_regret_exact_5[slice10],\n",
        "       simple_regret_exact_6[slice10],\n",
        "       simple_regret_exact_7[slice10],\n",
        "       simple_regret_exact_8[slice10],\n",
        "       simple_regret_exact_9[slice10],\n",
        "       simple_regret_exact_10[slice10],\n",
        "       simple_regret_exact_11[slice10],\n",
        "       simple_regret_exact_12[slice10],\n",
        "       simple_regret_exact_13[slice10],\n",
        "       simple_regret_exact_14[slice10],\n",
        "       simple_regret_exact_15[slice10],\n",
        "       simple_regret_exact_16[slice10],\n",
        "       simple_regret_exact_17[slice10],\n",
        "       simple_regret_exact_18[slice10],\n",
        "       simple_regret_exact_19[slice10],\n",
        "       simple_regret_exact_20[slice10]]\n",
        "\n",
        "approx10_results = pd.DataFrame(approx10).sort_values(by=[0], ascending=False)\n",
        "exact10_results = pd.DataFrame(exact10).sort_values(by=[0], ascending=False)\n",
        "\n",
        "### Best simple regret minimization IQR - approx:\n",
        "lower_approx10 = np.asarray(approx10_results[4:5][0])[0]\n",
        "median_approx10 = np.asarray(approx10_results[9:10][0])[0]\n",
        "upper_approx10 = np.asarray(approx10_results[14:15][0])[0]\n",
        "\n",
        "lower_exact10 = np.asarray(exact10_results[4:5][0])[0]\n",
        "median_exact10 = np.asarray(exact10_results[9:10][0])[0]\n",
        "upper_exact10 = np.asarray(exact10_results[14:15][0])[0]"
      ]
    },
    {
      "cell_type": "code",
      "execution_count": 95,
      "metadata": {
        "id": "Rsf240pWQxf-"
      },
      "outputs": [],
      "source": [
        "# Iteration20 :\n",
        "\n",
        "slice20 = 19\n",
        "\n",
        "approx20 = [simple_regret_approx_1[slice20],\n",
        "       simple_regret_approx_2[slice20],\n",
        "       simple_regret_approx_3[slice20],\n",
        "       simple_regret_approx_4[slice20],\n",
        "       simple_regret_approx_5[slice20],\n",
        "       simple_regret_approx_6[slice20],\n",
        "       simple_regret_approx_7[slice20],\n",
        "       simple_regret_approx_8[slice20],\n",
        "       simple_regret_approx_9[slice20],\n",
        "       simple_regret_approx_10[slice20],\n",
        "       simple_regret_approx_11[slice20],\n",
        "       simple_regret_approx_12[slice20],\n",
        "       simple_regret_approx_13[slice20],\n",
        "       simple_regret_approx_14[slice20],\n",
        "       simple_regret_approx_15[slice20],\n",
        "       simple_regret_approx_16[slice20],\n",
        "       simple_regret_approx_17[slice20],\n",
        "       simple_regret_approx_18[slice20],\n",
        "       simple_regret_approx_19[slice20],\n",
        "       simple_regret_approx_20[slice20]]\n",
        "\n",
        "exact20 = [simple_regret_exact_1[slice20],\n",
        "       simple_regret_exact_2[slice20],\n",
        "       simple_regret_exact_3[slice20],\n",
        "       simple_regret_exact_4[slice20],\n",
        "       simple_regret_exact_5[slice20],\n",
        "       simple_regret_exact_6[slice20],\n",
        "       simple_regret_exact_7[slice20],\n",
        "       simple_regret_exact_8[slice20],\n",
        "       simple_regret_exact_9[slice20],\n",
        "       simple_regret_exact_10[slice20],\n",
        "       simple_regret_exact_11[slice20],\n",
        "       simple_regret_exact_12[slice20],\n",
        "       simple_regret_exact_13[slice20],\n",
        "       simple_regret_exact_14[slice20],\n",
        "       simple_regret_exact_15[slice20],\n",
        "       simple_regret_exact_16[slice20],\n",
        "       simple_regret_exact_17[slice20],\n",
        "       simple_regret_exact_18[slice20],\n",
        "       simple_regret_exact_19[slice20],\n",
        "       simple_regret_exact_20[slice20]]\n",
        "\n",
        "approx20_results = pd.DataFrame(approx20).sort_values(by=[0], ascending=False)\n",
        "exact20_results = pd.DataFrame(exact20).sort_values(by=[0], ascending=False)\n",
        "\n",
        "### Best simple regret minimization IQR - approx:\n",
        "lower_approx20 = np.asarray(approx20_results[4:5][0])[0]\n",
        "median_approx20 = np.asarray(approx20_results[9:10][0])[0]\n",
        "upper_approx20 = np.asarray(approx20_results[14:15][0])[0]\n",
        "\n",
        "lower_exact20 = np.asarray(exact20_results[4:5][0])[0]\n",
        "median_exact20 = np.asarray(exact20_results[9:10][0])[0]\n",
        "upper_exact20 = np.asarray(exact20_results[14:15][0])[0]"
      ]
    },
    {
      "cell_type": "code",
      "execution_count": 96,
      "metadata": {
        "id": "gn36RejbQxf_"
      },
      "outputs": [],
      "source": [
        "### Summarize arrays: 'Loser'\n",
        "\n",
        "lower_approx = [lower_approx1,\n",
        "            lower_approx2,\n",
        "            lower_approx3,\n",
        "            lower_approx4,\n",
        "            lower_approx5,\n",
        "            lower_approx6,\n",
        "            lower_approx7,\n",
        "            lower_approx8,\n",
        "            lower_approx9,\n",
        "            lower_approx10,\n",
        "            lower_approx11,\n",
        "            lower_approx12,\n",
        "            lower_approx13,\n",
        "            lower_approx14,\n",
        "            lower_approx15,\n",
        "            lower_approx16,\n",
        "            lower_approx17,\n",
        "            lower_approx18,\n",
        "            lower_approx19,\n",
        "            lower_approx20,\n",
        "            lower_approx21]\n",
        "\n",
        "median_approx = [median_approx1,\n",
        "            median_approx2,\n",
        "            median_approx3,\n",
        "            median_approx4,\n",
        "            median_approx5,\n",
        "            median_approx6,\n",
        "            median_approx7,\n",
        "            median_approx8,\n",
        "            median_approx9,\n",
        "            median_approx10,\n",
        "            median_approx11,\n",
        "            median_approx12,\n",
        "            median_approx13,\n",
        "            median_approx14,\n",
        "            median_approx15,\n",
        "            median_approx16,\n",
        "            median_approx17,\n",
        "            median_approx18,\n",
        "            median_approx19,\n",
        "            median_approx20,\n",
        "            median_approx21]\n",
        "\n",
        "upper_approx = [upper_approx1,\n",
        "            upper_approx2,\n",
        "            upper_approx3,\n",
        "            upper_approx4,\n",
        "            upper_approx5,\n",
        "            upper_approx6,\n",
        "            upper_approx7,\n",
        "            upper_approx8,\n",
        "            upper_approx9,\n",
        "            upper_approx10,\n",
        "            upper_approx11,\n",
        "            upper_approx12,\n",
        "            upper_approx13,\n",
        "            upper_approx14,\n",
        "            upper_approx15,\n",
        "            upper_approx16,\n",
        "            upper_approx17,\n",
        "            upper_approx18,\n",
        "            upper_approx19,\n",
        "            upper_approx20,\n",
        "            upper_approx21]"
      ]
    },
    {
      "cell_type": "code",
      "execution_count": 97,
      "metadata": {
        "id": "wxtGTOYfQxf_"
      },
      "outputs": [],
      "source": [
        "### Summarize arrays: 'exact'\n",
        "\n",
        "lower_exact = [lower_exact1,\n",
        "            lower_exact2,\n",
        "            lower_exact3,\n",
        "            lower_exact4,\n",
        "            lower_exact5,\n",
        "            lower_exact6,\n",
        "            lower_exact7,\n",
        "            lower_exact8,\n",
        "            lower_exact9,\n",
        "            lower_exact10,\n",
        "            lower_exact11,\n",
        "            lower_exact12,\n",
        "            lower_exact13,\n",
        "            lower_exact14,\n",
        "            lower_exact15,\n",
        "            lower_exact16,\n",
        "            lower_exact17,\n",
        "            lower_exact18,\n",
        "            lower_exact19,\n",
        "            lower_exact20,\n",
        "            lower_exact21]\n",
        "\n",
        "median_exact = [median_exact1,\n",
        "            median_exact2,\n",
        "            median_exact3,\n",
        "            median_exact4,\n",
        "            median_exact5,\n",
        "            median_exact6,\n",
        "            median_exact7,\n",
        "            median_exact8,\n",
        "            median_exact9,\n",
        "            median_exact10,\n",
        "            median_exact11,\n",
        "            median_exact12,\n",
        "            median_exact13,\n",
        "            median_exact14,\n",
        "            median_exact15,\n",
        "            median_exact16,\n",
        "            median_exact17,\n",
        "            median_exact18,\n",
        "            median_exact19,\n",
        "            median_exact20,\n",
        "            median_exact21]\n",
        "\n",
        "upper_exact = [upper_exact1,\n",
        "            upper_exact2,\n",
        "            upper_exact3,\n",
        "            upper_exact4,\n",
        "            upper_exact5,\n",
        "            upper_exact6,\n",
        "            upper_exact7,\n",
        "            upper_exact8,\n",
        "            upper_exact9,\n",
        "            upper_exact10,\n",
        "            upper_exact11,\n",
        "            upper_exact12,\n",
        "            upper_exact13,\n",
        "            upper_exact14,\n",
        "            upper_exact15,\n",
        "            upper_exact16,\n",
        "            upper_exact17,\n",
        "            upper_exact18,\n",
        "            upper_exact19,\n",
        "            upper_exact20,\n",
        "            upper_exact21]"
      ]
    },
    {
      "cell_type": "code",
      "execution_count": 123,
      "metadata": {
        "id": "2MONq-BXQxgA",
        "colab": {
          "base_uri": "https://localhost:8080/",
          "height": 299
        },
        "outputId": "e48aca24-7248-4de0-8a10-43ea4156ab28"
      },
      "outputs": [
        {
          "output_type": "display_data",
          "data": {
            "text/plain": [
              "<Figure size 432x288 with 1 Axes>"
            ],
            "image/png": "[encoded data removed]"
          },
          "metadata": {
            "needs_background": "light"
          }
        }
      ],
      "source": [
        "### Visualise!\n",
        "\n",
        "title = func\n",
        "plt.figure()\n",
        "\n",
        "plt.plot(median_approx, color = 'Green', ls='--')\n",
        "plt.plot(median_exact, color = 'Blue', ls='--')\n",
        "\n",
        "xstar = np.arange(0, iters+1, step=1)\n",
        "plt.fill_between(xstar, lower_approx, upper_approx, facecolor = 'Green', alpha=0.4, label='STP ERM Optimisation: Approx STP ERM gradients ' r'($\\nu$' ' = {})'.format(df))\n",
        "plt.fill_between(xstar, lower_exact, upper_exact, facecolor = 'Blue', alpha=0.4, label='STP ERM Optimisation: Exact STP dERM gradients ' r'($\\nu$' ' = {})'.format(df))\n",
        "\n",
        "plt.title(title, weight = 'bold')\n",
        "plt.xlabel('(Post-initialisation) iteration $\\it{k}$', weight = 'bold')\n",
        "plt.ylabel('log(Regret)', weight = 'bold') \n",
        "plt.legend(loc=1) # add plot legend\n",
        "\n",
        "### Make the x-ticks integers, not floats:\n",
        "count = len(xstar)\n",
        "plt.xticks(np.arange(count), np.arange(0, count))\n",
        "plt.show() #visualise!\n"
      ]
    },
    {
      "cell_type": "code",
      "execution_count": 99,
      "metadata": {
        "id": "l5dkR2Id2oiu",
        "colab": {
          "base_uri": "https://localhost:8080/"
        },
        "outputId": "0030eda4-9191-4ecf-a416-7b58e5641ed0"
      },
      "outputs": [
        {
          "output_type": "execute_result",
          "data": {
            "text/plain": [
              "(1349.650197982788, 1340.3814897537231)"
            ]
          },
          "metadata": {},
          "execution_count": 99
        }
      ],
      "source": [
        "time_approx, time_exact\n"
      ]
    },
    {
      "cell_type": "code",
      "source": [
        "### acqFunc attribute x, stddev: run number = 1\n",
        "\n",
        "acqFuncApprox_exact_1 = acqFuncApprox(exact_1.history)\n",
        "acqFuncExact_exact_1 = acqFuncExact(exact_1.history)\n",
        "\n",
        "e1 = np.mean(acqFuncExact_exact_1)\n",
        "a1 = np.mean(acqFuncApprox_exact_1)\n",
        "\n",
        "e1, a1\n"
      ],
      "metadata": {
        "id": "uwxv4dmfGsLr",
        "colab": {
          "base_uri": "https://localhost:8080/"
        },
        "outputId": "bfa4e19c-e7a2-4704-8a0f-3c61aacce316"
      },
      "execution_count": 100,
      "outputs": [
        {
          "output_type": "execute_result",
          "data": {
            "text/plain": [
              "(2.7076404343520526, 3.025418744542603)"
            ]
          },
          "metadata": {},
          "execution_count": 100
        }
      ]
    },
    {
      "cell_type": "code",
      "source": [
        "### acqFunc attribute x, stddev: run number = 2\n",
        "\n",
        "acqFuncApprox_exact_2 = acqFuncApprox(exact_2.history)\n",
        "acqFuncExact_exact_2 = acqFuncExact(exact_2.history)\n",
        "\n",
        "e2 = np.mean(acqFuncExact_exact_2)\n",
        "a2 = np.mean(acqFuncApprox_exact_2)\n",
        "\n",
        "e2, a2\n"
      ],
      "metadata": {
        "id": "0YSV00_pGsXe",
        "colab": {
          "base_uri": "https://localhost:8080/"
        },
        "outputId": "c3c47726-a133-4063-d60b-398d5b185468"
      },
      "execution_count": 101,
      "outputs": [
        {
          "output_type": "execute_result",
          "data": {
            "text/plain": [
              "(2.8084095325269627, 3.083504504355108)"
            ]
          },
          "metadata": {},
          "execution_count": 101
        }
      ]
    },
    {
      "cell_type": "code",
      "source": [
        "### acqFunc attribute x, stddev: run number = 3\n",
        "\n",
        "acqFuncApprox_exact_3 = acqFuncApprox(exact_3.history)\n",
        "acqFuncExact_exact_3 = acqFuncExact(exact_3.history)\n",
        "\n",
        "e3 = np.mean(acqFuncExact_exact_3)\n",
        "a3 = np.mean(acqFuncApprox_exact_3)\n",
        "\n",
        "e3, a3\n"
      ],
      "metadata": {
        "id": "HHVmsd2UGsjT",
        "colab": {
          "base_uri": "https://localhost:8080/"
        },
        "outputId": "3a92f3fc-10c5-4599-cfa1-e6537c3f0e4b"
      },
      "execution_count": 102,
      "outputs": [
        {
          "output_type": "execute_result",
          "data": {
            "text/plain": [
              "(2.7200168376052347, 2.99711322735621)"
            ]
          },
          "metadata": {},
          "execution_count": 102
        }
      ]
    },
    {
      "cell_type": "code",
      "source": [
        "### acqFunc attribute x, stddev: run number = 4\n",
        "\n",
        "acqFuncApprox_exact_4 = acqFuncApprox(exact_4.history)\n",
        "acqFuncExact_exact_4 = acqFuncExact(exact_4.history)\n",
        "\n",
        "e4 = np.mean(acqFuncExact_exact_4)\n",
        "a4 = np.mean(acqFuncApprox_exact_4)\n",
        "\n",
        "e4, a4\n"
      ],
      "metadata": {
        "id": "r7O19S2eGsu7",
        "colab": {
          "base_uri": "https://localhost:8080/"
        },
        "outputId": "6689c55c-0603-4033-8880-776b4c4ec945"
      },
      "execution_count": 103,
      "outputs": [
        {
          "output_type": "execute_result",
          "data": {
            "text/plain": [
              "(2.8879855495718503, 2.898369427680923)"
            ]
          },
          "metadata": {},
          "execution_count": 103
        }
      ]
    },
    {
      "cell_type": "code",
      "source": [
        "### acqFunc attribute x, stddev: run number = 5\n",
        "\n",
        "acqFuncApprox_exact_5 = acqFuncApprox(exact_5.history)\n",
        "acqFuncExact_exact_5 = acqFuncExact(exact_5.history)\n",
        "\n",
        "e5 = np.mean(acqFuncExact_exact_5)\n",
        "a5 = np.mean(acqFuncApprox_exact_5)\n",
        "\n",
        "e5, a5\n"
      ],
      "metadata": {
        "id": "sdb9o6NuGs5m",
        "colab": {
          "base_uri": "https://localhost:8080/"
        },
        "outputId": "d4ba8244-6ba6-4699-d1c7-c6f936159d08"
      },
      "execution_count": 104,
      "outputs": [
        {
          "output_type": "execute_result",
          "data": {
            "text/plain": [
              "(2.8665336051741273, 3.0904543064882986)"
            ]
          },
          "metadata": {},
          "execution_count": 104
        }
      ]
    },
    {
      "cell_type": "code",
      "source": [
        "### acqFunc attribute x, stddev: run number = 6\n",
        "\n",
        "acqFuncApprox_exact_6 = acqFuncApprox(exact_6.history)\n",
        "acqFuncExact_exact_6 = acqFuncExact(exact_6.history)\n",
        "\n",
        "e6 = np.mean(acqFuncExact_exact_6)\n",
        "a6 = np.mean(acqFuncApprox_exact_6)\n",
        "\n",
        "e6, a6\n"
      ],
      "metadata": {
        "id": "COQl7LZ8GtE0",
        "colab": {
          "base_uri": "https://localhost:8080/"
        },
        "outputId": "33acc40c-9fe7-47a8-fc3c-5ad0d7265fba"
      },
      "execution_count": 105,
      "outputs": [
        {
          "output_type": "execute_result",
          "data": {
            "text/plain": [
              "(2.896031233785804, 3.1514422667827966)"
            ]
          },
          "metadata": {},
          "execution_count": 105
        }
      ]
    },
    {
      "cell_type": "code",
      "source": [
        "### acqFunc attribute x, stddev: run number = 7\n",
        "\n",
        "acqFuncApprox_exact_7 = acqFuncApprox(exact_7.history)\n",
        "acqFuncExact_exact_7 = acqFuncExact(exact_7.history)\n",
        "\n",
        "e7 = np.mean(acqFuncExact_exact_7)\n",
        "a7 = np.mean(acqFuncApprox_exact_7)\n",
        "\n",
        "e7, a7\n"
      ],
      "metadata": {
        "id": "2gy9EtTzGtP7",
        "colab": {
          "base_uri": "https://localhost:8080/"
        },
        "outputId": "d665736c-3b02-4e62-c5f4-fe83d52fdbbf"
      },
      "execution_count": 106,
      "outputs": [
        {
          "output_type": "execute_result",
          "data": {
            "text/plain": [
              "(2.862943833154673, 3.115105065608008)"
            ]
          },
          "metadata": {},
          "execution_count": 106
        }
      ]
    },
    {
      "cell_type": "code",
      "source": [
        "### acqFunc attribute x, stddev: run number = 8\n",
        "\n",
        "acqFuncApprox_exact_8 = acqFuncApprox(exact_8.history)\n",
        "acqFuncExact_exact_8 = acqFuncExact(exact_8.history)\n",
        "\n",
        "e8 = np.mean(acqFuncExact_exact_8)\n",
        "a8 = np.mean(acqFuncApprox_exact_8)\n",
        "\n",
        "e8, a8\n"
      ],
      "metadata": {
        "id": "S7mn0qoMGtbM",
        "colab": {
          "base_uri": "https://localhost:8080/"
        },
        "outputId": "50a879c4-50e1-4810-db7a-86ab11e91019"
      },
      "execution_count": 107,
      "outputs": [
        {
          "output_type": "execute_result",
          "data": {
            "text/plain": [
              "(2.770970735464285, 2.9844717875605435)"
            ]
          },
          "metadata": {},
          "execution_count": 107
        }
      ]
    },
    {
      "cell_type": "code",
      "source": [
        "### acqFunc attribute x, stddev: run number = 9\n",
        "\n",
        "acqFuncApprox_exact_9 = acqFuncApprox(exact_9.history)\n",
        "acqFuncExact_exact_9 = acqFuncExact(exact_9.history)\n",
        "\n",
        "e9 = np.mean(acqFuncExact_exact_9)\n",
        "a9 = np.mean(acqFuncApprox_exact_9)\n",
        "\n",
        "e9, a9\n"
      ],
      "metadata": {
        "id": "BhljmkNxGtms",
        "colab": {
          "base_uri": "https://localhost:8080/"
        },
        "outputId": "d9381bff-fd9a-425e-a5f4-7cfdff9c8e80"
      },
      "execution_count": 108,
      "outputs": [
        {
          "output_type": "execute_result",
          "data": {
            "text/plain": [
              "(2.701172583017636, 3.23528716685422)"
            ]
          },
          "metadata": {},
          "execution_count": 108
        }
      ]
    },
    {
      "cell_type": "code",
      "source": [
        "### acqFunc attribute x, stddev: run number = 10\n",
        "\n",
        "acqFuncApprox_exact_10 = acqFuncApprox(exact_10.history)\n",
        "acqFuncExact_exact_10 = acqFuncExact(exact_10.history)\n",
        "\n",
        "e10 = np.mean(acqFuncExact_exact_10)\n",
        "a10 = np.mean(acqFuncApprox_exact_10)\n",
        "\n",
        "e10, a10\n"
      ],
      "metadata": {
        "id": "W5GZo6k3Gtx8",
        "colab": {
          "base_uri": "https://localhost:8080/"
        },
        "outputId": "383f183c-8942-4ca0-a602-e4c481bd5ff3"
      },
      "execution_count": 109,
      "outputs": [
        {
          "output_type": "execute_result",
          "data": {
            "text/plain": [
              "(2.856927210697884, 3.030415691879939)"
            ]
          },
          "metadata": {},
          "execution_count": 109
        }
      ]
    },
    {
      "cell_type": "code",
      "source": [
        "### acqFunc attribute x, stddev: run number = 11\n",
        "\n",
        "acqFuncApprox_exact_11 = acqFuncApprox(exact_11.history)\n",
        "acqFuncExact_exact_11 = acqFuncExact(exact_11.history)\n",
        "\n",
        "e11 = np.mean(acqFuncExact_exact_11)\n",
        "a11 = np.mean(acqFuncApprox_exact_11)\n",
        "\n",
        "e11, a11\n"
      ],
      "metadata": {
        "id": "isKNhDk5Gt9D",
        "colab": {
          "base_uri": "https://localhost:8080/"
        },
        "outputId": "6a7d5554-a99e-4793-f43d-a42cc1300626"
      },
      "execution_count": 110,
      "outputs": [
        {
          "output_type": "execute_result",
          "data": {
            "text/plain": [
              "(2.7422916397291557, 3.1780338179507854)"
            ]
          },
          "metadata": {},
          "execution_count": 110
        }
      ]
    },
    {
      "cell_type": "code",
      "source": [
        "### acqFunc attribute x, stddev: run number = 12\n",
        "\n",
        "acqFuncApprox_exact_12 = acqFuncApprox(exact_12.history)\n",
        "acqFuncExact_exact_12 = acqFuncExact(exact_12.history)\n",
        "\n",
        "e12 = np.mean(acqFuncExact_exact_12)\n",
        "a12 = np.mean(acqFuncApprox_exact_12)\n",
        "\n",
        "e12, a12\n"
      ],
      "metadata": {
        "id": "8ts-wrSuGuIm",
        "colab": {
          "base_uri": "https://localhost:8080/"
        },
        "outputId": "0b4ec9e1-b2d0-47a6-e9ad-538d1ed71f0e"
      },
      "execution_count": 111,
      "outputs": [
        {
          "output_type": "execute_result",
          "data": {
            "text/plain": [
              "(2.8121672369426602, 2.949577215347568)"
            ]
          },
          "metadata": {},
          "execution_count": 111
        }
      ]
    },
    {
      "cell_type": "code",
      "source": [
        "### acqFunc attribute x, stddev: run number = 13\n",
        "\n",
        "acqFuncApprox_exact_13 = acqFuncApprox(exact_13.history)\n",
        "acqFuncExact_exact_13 = acqFuncExact(exact_13.history)\n",
        "\n",
        "e13 = np.mean(acqFuncExact_exact_13)\n",
        "a13 = np.mean(acqFuncApprox_exact_13)\n",
        "\n",
        "e13, a13\n"
      ],
      "metadata": {
        "id": "n0drhEe3GuUL",
        "colab": {
          "base_uri": "https://localhost:8080/"
        },
        "outputId": "b1aefb90-bd99-40e8-fa80-55ff6f86b8ca"
      },
      "execution_count": 112,
      "outputs": [
        {
          "output_type": "execute_result",
          "data": {
            "text/plain": [
              "(2.94434804226002, 3.079465878691461)"
            ]
          },
          "metadata": {},
          "execution_count": 112
        }
      ]
    },
    {
      "cell_type": "code",
      "source": [
        "### acqFunc attribute x, stddev: run number = 14\n",
        "\n",
        "acqFuncApprox_exact_14 = acqFuncApprox(exact_14.history)\n",
        "acqFuncExact_exact_14 = acqFuncExact(exact_14.history)\n",
        "\n",
        "e14 = np.mean(acqFuncExact_exact_14)\n",
        "a14 = np.mean(acqFuncApprox_exact_14)\n",
        "\n",
        "e14, a14\n"
      ],
      "metadata": {
        "id": "R0W3MZaVGues",
        "colab": {
          "base_uri": "https://localhost:8080/"
        },
        "outputId": "6a2c66d8-b3be-4ca6-91e7-5bc73f7dbee3"
      },
      "execution_count": 113,
      "outputs": [
        {
          "output_type": "execute_result",
          "data": {
            "text/plain": [
              "(2.820901039791204, 3.003403588425053)"
            ]
          },
          "metadata": {},
          "execution_count": 113
        }
      ]
    },
    {
      "cell_type": "code",
      "source": [
        "### acqFunc attribute x, stddev: run number = 15\n",
        "\n",
        "acqFuncApprox_exact_15 = acqFuncApprox(exact_15.history)\n",
        "acqFuncExact_exact_15 = acqFuncExact(exact_15.history)\n",
        "\n",
        "e15 = np.mean(acqFuncExact_exact_15)\n",
        "a15 = np.mean(acqFuncApprox_exact_15)\n",
        "\n",
        "e15, a15\n"
      ],
      "metadata": {
        "id": "DoXdDFHoGup-",
        "colab": {
          "base_uri": "https://localhost:8080/"
        },
        "outputId": "5f76ceaf-a52f-4476-e40e-cf8e127d66bd"
      },
      "execution_count": 114,
      "outputs": [
        {
          "output_type": "execute_result",
          "data": {
            "text/plain": [
              "(2.6965270325949664, 3.0887202961015254)"
            ]
          },
          "metadata": {},
          "execution_count": 114
        }
      ]
    },
    {
      "cell_type": "code",
      "source": [
        "### acqFunc attribute x, stddev: run number = 16\n",
        "\n",
        "acqFuncApprox_exact_16 = acqFuncApprox(exact_16.history)\n",
        "acqFuncExact_exact_16 = acqFuncExact(exact_16.history)\n",
        "\n",
        "e16 = np.mean(acqFuncExact_exact_16)\n",
        "a16 = np.mean(acqFuncApprox_exact_16)\n",
        "\n",
        "e16, a16\n"
      ],
      "metadata": {
        "id": "K_wAeqSoGu2j",
        "colab": {
          "base_uri": "https://localhost:8080/"
        },
        "outputId": "85ce8899-a7b5-4d7e-a90b-fd98672dc6d9"
      },
      "execution_count": 115,
      "outputs": [
        {
          "output_type": "execute_result",
          "data": {
            "text/plain": [
              "(2.807359097629338, 3.053415684380165)"
            ]
          },
          "metadata": {},
          "execution_count": 115
        }
      ]
    },
    {
      "cell_type": "code",
      "source": [
        "### acqFunc attribute x, stddev: run number = 17\n",
        "\n",
        "acqFuncApprox_exact_17 = acqFuncApprox(exact_17.history)\n",
        "acqFuncExact_exact_17 = acqFuncExact(exact_17.history)\n",
        "\n",
        "e17 = np.mean(acqFuncExact_exact_17)\n",
        "a17 = np.mean(acqFuncApprox_exact_17)\n",
        "\n",
        "e17, a17\n"
      ],
      "metadata": {
        "id": "n6zy78fjGvBT",
        "colab": {
          "base_uri": "https://localhost:8080/"
        },
        "outputId": "23767b33-a25b-4b3d-a26a-356f1a19affd"
      },
      "execution_count": 116,
      "outputs": [
        {
          "output_type": "execute_result",
          "data": {
            "text/plain": [
              "(2.7315620449024136, 3.0035663483553234)"
            ]
          },
          "metadata": {},
          "execution_count": 116
        }
      ]
    },
    {
      "cell_type": "code",
      "source": [
        "### acqFunc attribute x, stddev: run number = 18\n",
        "\n",
        "acqFuncApprox_exact_18 = acqFuncApprox(exact_18.history)\n",
        "acqFuncExact_exact_18 = acqFuncExact(exact_18.history)\n",
        "\n",
        "e18 = np.mean(acqFuncExact_exact_18)\n",
        "a18 = np.mean(acqFuncApprox_exact_18)\n",
        "\n",
        "e18, a18\n"
      ],
      "metadata": {
        "id": "s_6_2K4iGvM-",
        "colab": {
          "base_uri": "https://localhost:8080/"
        },
        "outputId": "a74d2b7d-fb55-4197-a649-9ae21d3206b5"
      },
      "execution_count": 117,
      "outputs": [
        {
          "output_type": "execute_result",
          "data": {
            "text/plain": [
              "(2.7997698062158785, 3.1253486223627585)"
            ]
          },
          "metadata": {},
          "execution_count": 117
        }
      ]
    },
    {
      "cell_type": "code",
      "source": [
        "### acqFunc attribute x, stddev: run number = 19\n",
        "\n",
        "acqFuncApprox_exact_19 = acqFuncApprox(exact_19.history)\n",
        "acqFuncExact_exact_19 = acqFuncExact(exact_19.history)\n",
        "\n",
        "e19 = np.mean(acqFuncExact_exact_19)\n",
        "a19 = np.mean(acqFuncApprox_exact_19)\n",
        "\n",
        "e19, a19\n"
      ],
      "metadata": {
        "id": "o8oO8pdBGvYk",
        "colab": {
          "base_uri": "https://localhost:8080/"
        },
        "outputId": "70c4743f-9c5b-4601-c693-52933f0f9420"
      },
      "execution_count": 118,
      "outputs": [
        {
          "output_type": "execute_result",
          "data": {
            "text/plain": [
              "(2.7764394994109325, 3.0829521761207745)"
            ]
          },
          "metadata": {},
          "execution_count": 118
        }
      ]
    },
    {
      "cell_type": "code",
      "source": [
        "### acqFunc attribute x, stddev: run number = 20\n",
        "\n",
        "acqFuncApprox_exact_20 = acqFuncApprox(exact_20.history)\n",
        "acqFuncExact_exact_20 = acqFuncExact(exact_20.history)\n",
        "\n",
        "e20 = np.mean(acqFuncExact_exact_20)\n",
        "a20 = np.mean(acqFuncApprox_exact_20)\n",
        "\n",
        "e20, a20\n"
      ],
      "metadata": {
        "id": "b2w8oLc0IMzU",
        "colab": {
          "base_uri": "https://localhost:8080/"
        },
        "outputId": "3a20ec19-fc3c-49a9-898a-d932c16272b3"
      },
      "execution_count": 119,
      "outputs": [
        {
          "output_type": "execute_result",
          "data": {
            "text/plain": [
              "(2.8327345488321085, 3.1653704643744764)"
            ]
          },
          "metadata": {},
          "execution_count": 119
        }
      ]
    },
    {
      "cell_type": "code",
      "source": [
        "### Summarize arrays: \n",
        "\n",
        "exact_stddev = np.sort([e1,e2,e3,e4,e5,e6,e7,e8,e9,e10,e11,e12,e13,e14,e15,e16,e17,e18,e19,e20])\n",
        "approx_stddev = np.sort([a1,a2,a3,a4,a5,a6,a7,a8,a9,a10,a11,a12,a13,a14,a15,a16,a17,a18,a19,a20])\n",
        "\n",
        "np.mean(exact_stddev), np.mean(approx_stddev)\n"
      ],
      "metadata": {
        "id": "qAZs3yxMIZul",
        "colab": {
          "base_uri": "https://localhost:8080/"
        },
        "outputId": "c323aafb-944c-4231-e3d2-27e3c43f964a"
      },
      "execution_count": 120,
      "outputs": [
        {
          "output_type": "execute_result",
          "data": {
            "text/plain": [
              "(2.802136577182959, 3.067071814060927)"
            ]
          },
          "metadata": {},
          "execution_count": 120
        }
      ]
    },
    {
      "cell_type": "code",
      "source": [
        "### Visualise!\n",
        "\n",
        "title = func\n",
        "plt.figure()\n",
        "\n",
        "plt.plot(approx_stddev, color = 'Green', ls='--', label='Average $\\sigma$, attribute $\\mathbf{x}$: Approx STP ERM gradients')\n",
        "plt.plot(exact_stddev, color = 'Blue', ls='-', label='Average $\\sigma$, attribute $\\mathbf{x}$: Exact STP dERM gradients')\n",
        "\n",
        "plt.title(title, weight = 'bold')\n",
        "plt.xlabel('Function evaluations: iteration $\\it{k}$', weight = 'bold')\n",
        "plt.ylabel('STP ERM: Average $\\sigma$, attribute $\\mathbf{x}$', weight = 'bold') \n",
        "plt.legend(loc=0) # add plot legend\n",
        "\n",
        "### Make the x-ticks integers, not floats:\n",
        "count = len(xstar)\n",
        "plt.xticks(np.arange(count), np.arange(1, count))\n",
        "plt.show() #visualize!\n"
      ],
      "metadata": {
        "id": "e_kpqYcMIZxu",
        "colab": {
          "base_uri": "https://localhost:8080/",
          "height": 297
        },
        "outputId": "969cc2f1-f0a2-4285-8291-336a53ff51fd"
      },
      "execution_count": 121,
      "outputs": [
        {
          "output_type": "display_data",
          "data": {
            "text/plain": [
              "<Figure size 432x288 with 1 Axes>"
            ],
            "image/png": "[encoded data removed]"
          },
          "metadata": {
            "needs_background": "light"
          }
        }
      ]
    },
    {
      "cell_type": "code",
      "source": [],
      "metadata": {
        "id": "LToGd4vZIZ3I"
      },
      "execution_count": 121,
      "outputs": []
    }
  ],
  "metadata": {
    "colab": {
      "collapsed_sections": [],
      "provenance": []
    },
    "kernelspec": {
      "display_name": "Python 3",
      "name": "python3"
    },
    "language_info": {
      "name": "python"
    }
  },
  "nbformat": 4,
  "nbformat_minor": 0
}