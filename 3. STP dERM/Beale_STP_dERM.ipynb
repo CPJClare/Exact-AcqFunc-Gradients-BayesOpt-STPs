{
  "cells": [
    {
      "cell_type": "markdown",
      "metadata": {
        "id": "Dqn4dFx7Z2Ir"
      },
      "source": [
        "\n",
        "Beale: 2D\n"
      ]
    },
    {
      "cell_type": "code",
      "execution_count": 1,
      "metadata": {
        "id": "MJTM_GZZZb5x",
        "colab": {
          "base_uri": "https://localhost:8080/"
        },
        "outputId": "7a6f3b82-7ad3-4816-923e-2f213286d2f1"
      },
      "outputs": [
        {
          "output_type": "stream",
          "name": "stdout",
          "text": [
            "Looking in indexes: https://pypi.org/simple, https://us-python.pkg.dev/colab-wheels/public/simple/\n",
            "Collecting pyGPGO\n",
            "  Downloading pyGPGO-0.5.1.tar.gz (14 kB)\n",
            "Requirement already satisfied: numpy in /usr/local/lib/python3.7/dist-packages (from pyGPGO) (1.21.6)\n",
            "Requirement already satisfied: mkl in /usr/local/lib/python3.7/dist-packages (from pyGPGO) (2019.0)\n",
            "Requirement already satisfied: scipy in /usr/local/lib/python3.7/dist-packages (from pyGPGO) (1.7.3)\n",
            "Requirement already satisfied: joblib in /usr/local/lib/python3.7/dist-packages (from pyGPGO) (1.1.0)\n",
            "Requirement already satisfied: scikit-learn in /usr/local/lib/python3.7/dist-packages (from pyGPGO) (1.0.2)\n",
            "Collecting Theano-PyMC\n",
            "  Downloading Theano-PyMC-1.1.2.tar.gz (1.8 MB)\n",
            "\u001b[K     |████████████████████████████████| 1.8 MB 14.3 MB/s \n",
            "\u001b[?25hCollecting pyMC3\n",
            "  Downloading pymc3-3.11.5-py3-none-any.whl (872 kB)\n",
            "\u001b[K     |████████████████████████████████| 872 kB 56.6 MB/s \n",
            "\u001b[?25hRequirement already satisfied: intel-openmp in /usr/local/lib/python3.7/dist-packages (from mkl->pyGPGO) (2022.1.0)\n",
            "Requirement already satisfied: dill in /usr/local/lib/python3.7/dist-packages (from pyMC3->pyGPGO) (0.3.5.1)\n",
            "Requirement already satisfied: typing-extensions>=3.7.4 in /usr/local/lib/python3.7/dist-packages (from pyMC3->pyGPGO) (4.1.1)\n",
            "Collecting deprecat\n",
            "  Downloading deprecat-2.1.1-py2.py3-none-any.whl (9.8 kB)\n",
            "Requirement already satisfied: cachetools>=4.2.1 in /usr/local/lib/python3.7/dist-packages (from pyMC3->pyGPGO) (4.2.4)\n",
            "Requirement already satisfied: pandas>=0.24.0 in /usr/local/lib/python3.7/dist-packages (from pyMC3->pyGPGO) (1.3.5)\n",
            "Collecting semver>=2.13.0\n",
            "  Downloading semver-2.13.0-py2.py3-none-any.whl (12 kB)\n",
            "Requirement already satisfied: patsy>=0.5.1 in /usr/local/lib/python3.7/dist-packages (from pyMC3->pyGPGO) (0.5.2)\n",
            "Requirement already satisfied: arviz>=0.11.0 in /usr/local/lib/python3.7/dist-packages (from pyMC3->pyGPGO) (0.12.1)\n",
            "Requirement already satisfied: fastprogress>=0.2.0 in /usr/local/lib/python3.7/dist-packages (from pyMC3->pyGPGO) (1.0.3)\n",
            "Requirement already satisfied: filelock in /usr/local/lib/python3.7/dist-packages (from Theano-PyMC->pyGPGO) (3.8.0)\n",
            "Requirement already satisfied: netcdf4 in /usr/local/lib/python3.7/dist-packages (from arviz>=0.11.0->pyMC3->pyGPGO) (1.6.0)\n",
            "Requirement already satisfied: matplotlib>=3.0 in /usr/local/lib/python3.7/dist-packages (from arviz>=0.11.0->pyMC3->pyGPGO) (3.2.2)\n",
            "Requirement already satisfied: xarray-einstats>=0.2 in /usr/local/lib/python3.7/dist-packages (from arviz>=0.11.0->pyMC3->pyGPGO) (0.2.2)\n",
            "Requirement already satisfied: setuptools>=38.4 in /usr/local/lib/python3.7/dist-packages (from arviz>=0.11.0->pyMC3->pyGPGO) (57.4.0)\n",
            "Requirement already satisfied: packaging in /usr/local/lib/python3.7/dist-packages (from arviz>=0.11.0->pyMC3->pyGPGO) (21.3)\n",
            "Requirement already satisfied: xarray>=0.16.1 in /usr/local/lib/python3.7/dist-packages (from arviz>=0.11.0->pyMC3->pyGPGO) (0.20.2)\n",
            "Requirement already satisfied: python-dateutil>=2.1 in /usr/local/lib/python3.7/dist-packages (from matplotlib>=3.0->arviz>=0.11.0->pyMC3->pyGPGO) (2.8.2)\n",
            "Requirement already satisfied: cycler>=0.10 in /usr/local/lib/python3.7/dist-packages (from matplotlib>=3.0->arviz>=0.11.0->pyMC3->pyGPGO) (0.11.0)\n",
            "Requirement already satisfied: kiwisolver>=1.0.1 in /usr/local/lib/python3.7/dist-packages (from matplotlib>=3.0->arviz>=0.11.0->pyMC3->pyGPGO) (1.4.4)\n",
            "Requirement already satisfied: pyparsing!=2.0.4,!=2.1.2,!=2.1.6,>=2.0.1 in /usr/local/lib/python3.7/dist-packages (from matplotlib>=3.0->arviz>=0.11.0->pyMC3->pyGPGO) (3.0.9)\n",
            "Requirement already satisfied: pytz>=2017.3 in /usr/local/lib/python3.7/dist-packages (from pandas>=0.24.0->pyMC3->pyGPGO) (2022.2.1)\n",
            "Requirement already satisfied: six in /usr/local/lib/python3.7/dist-packages (from patsy>=0.5.1->pyMC3->pyGPGO) (1.15.0)\n",
            "Requirement already satisfied: importlib-metadata in /usr/local/lib/python3.7/dist-packages (from xarray>=0.16.1->arviz>=0.11.0->pyMC3->pyGPGO) (4.12.0)\n",
            "Requirement already satisfied: wrapt<2,>=1.10 in /usr/local/lib/python3.7/dist-packages (from deprecat->pyMC3->pyGPGO) (1.14.1)\n",
            "Requirement already satisfied: zipp>=0.5 in /usr/local/lib/python3.7/dist-packages (from importlib-metadata->xarray>=0.16.1->arviz>=0.11.0->pyMC3->pyGPGO) (3.8.1)\n",
            "Requirement already satisfied: cftime in /usr/local/lib/python3.7/dist-packages (from netcdf4->arviz>=0.11.0->pyMC3->pyGPGO) (1.6.1)\n",
            "Requirement already satisfied: threadpoolctl>=2.0.0 in /usr/local/lib/python3.7/dist-packages (from scikit-learn->pyGPGO) (3.1.0)\n",
            "Building wheels for collected packages: pyGPGO, Theano-PyMC\n",
            "  Building wheel for pyGPGO (setup.py) ... \u001b[?25l\u001b[?25hdone\n",
            "  Created wheel for pyGPGO: filename=pyGPGO-0.5.1-py3-none-any.whl size=19879 sha256=8ba755168d8a459bbbdab6622e2f989b54ff5042a9d66090d432273440ac4891\n",
            "  Stored in directory: /root/.cache/pip/wheels/c8/5d/0b/2160114e2f1b87791c51b66cf07f89831dbb6f49167950316f\n",
            "  Building wheel for Theano-PyMC (setup.py) ... \u001b[?25l\u001b[?25hdone\n",
            "  Created wheel for Theano-PyMC: filename=Theano_PyMC-1.1.2-py3-none-any.whl size=1529963 sha256=f312406c64d4ada6ff1f5c80c3bced2e047c761f0989b0f52ad73054e1a45132\n",
            "  Stored in directory: /root/.cache/pip/wheels/f3/af/8c/5dd7553522d74c52a7813806fc7ee1a9caa20a3f7c8fd850d5\n",
            "Successfully built pyGPGO Theano-PyMC\n",
            "Installing collected packages: Theano-PyMC, semver, deprecat, pyMC3, pyGPGO\n",
            "Successfully installed Theano-PyMC-1.1.2 deprecat-2.1.1 pyGPGO-0.5.1 pyMC3-3.11.5 semver-2.13.0\n"
          ]
        }
      ],
      "source": [
        "pip install pyGPGO\n"
      ]
    },
    {
      "cell_type": "code",
      "execution_count": 2,
      "metadata": {
        "id": "ZJSSPbwPaEUB"
      },
      "outputs": [],
      "source": [
        "### 1. Import python modules/packages required:\n",
        "\n",
        "import numpy as np\n",
        "import pandas as pd\n",
        "import scipy as sp\n",
        "import matplotlib.pyplot as plt\n",
        "import warnings\n",
        "import itertools\n",
        "import seaborn as sns\n",
        "import time\n",
        "\n",
        "from pyGPGO.GPGO import GPGO\n",
        "from pyGPGO.surrogates.tStudentProcess import tStudentProcess\n",
        "from pyGPGO.acquisition import Acquisition\n",
        "from pyGPGO.covfunc import squaredExponential\n",
        "from joblib import Parallel, delayed\n",
        "from scipy.linalg import inv\n",
        "from scipy.spatial.distance import cdist\n",
        "from scipy.optimize import minimize\n",
        "from scipy.stats import t\n",
        "from mpl_toolkits.axes_grid1.inset_locator import inset_axes, mark_inset\n",
        "\n",
        "warnings.filterwarnings(\"ignore\", category=RuntimeWarning)\n"
      ]
    },
    {
      "cell_type": "code",
      "execution_count": 3,
      "metadata": {
        "id": "OeYcTUNoaJWa"
      },
      "outputs": [],
      "source": [
        "### Inputs:\n",
        "\n",
        "func = 'Beale'\n",
        "n_test = 500\n",
        "eps = 1e-08\n",
        "\n",
        "util = 'ERM'\n",
        "\n",
        "n_init = 5 # random initialisations\n",
        "iters = 20\n",
        "opt = True\n",
        "\n",
        "df = 3"
      ]
    },
    {
      "cell_type": "code",
      "execution_count": 4,
      "metadata": {
        "id": "xpaEOjdzaPMS"
      },
      "outputs": [],
      "source": [
        "### Objective Function - Beale(x) 2-D:\n",
        "\n",
        "def objfunc(x1_training, x2_training):\n",
        "            return  operator * (\n",
        "                (1.500 - x1_training + x1_training * x2_training)**2 +\n",
        "                (2.250 - x1_training + x1_training * x2_training**2)**2 +\n",
        "                (2.625 - x1_training + x1_training * x2_training**3)**2 \n",
        "                )\n",
        "       \n",
        "# Constraints:\n",
        "lb = -4.5\n",
        "ub = +4.5\n",
        "\n",
        "# Input array dimension(s):\n",
        "dim = 2\n",
        "\n",
        "# 2-D inputs' parameter bounds:\n",
        "param = {'x1_training': ('cont', [lb, ub]),\n",
        "             'x2_training': ('cont', [lb, ub])}\n",
        "\n",
        "# True y bounds:\n",
        "operator = -1\n",
        "y_lb = 0 # targets global minimum\n",
        "y_global_orig = y_lb * operator # targets global minimum\n",
        "\n",
        "# Test data:\n",
        "x1_test = np.linspace(lb, ub, n_test)\n",
        "x2_test = np.linspace(lb, ub, n_test)\n",
        "  \n",
        "x_test = np.column_stack((x1_test,x2_test))"
      ]
    },
    {
      "cell_type": "code",
      "execution_count": 5,
      "metadata": {
        "id": "eYpI3Zm4aGxi"
      },
      "outputs": [],
      "source": [
        "n_start_AcqFunc = iters\n",
        "inverse = -1\n"
      ]
    },
    {
      "cell_type": "code",
      "execution_count": 6,
      "metadata": {
        "id": "oO_GUmOoaV0T"
      },
      "outputs": [],
      "source": [
        "### Cumulative Regret Calculators:\n",
        "\n",
        "def min_max_array(x):\n",
        "    new_list = []\n",
        "    for i, num in enumerate(x):\n",
        "            new_list.append(np.min(x[0:i+1]))\n",
        "    return new_list\n",
        "  \n",
        "def acqFuncExact(x):\n",
        "    new_array = []\n",
        "    x = np.array(x) \n",
        "    for i, num in enumerate(x):\n",
        "            new_array = x[:-2][::-3]\n",
        "    return new_array[::-1]\n",
        "\n",
        "def acqFuncApprox(x):\n",
        "    new_array = []\n",
        "    x = np.array(x) \n",
        "    for i, num in enumerate(x):\n",
        "            new_array = x[:-1][::-3]\n",
        "    return new_array[::-1]\n"
      ]
    },
    {
      "cell_type": "code",
      "execution_count": 7,
      "metadata": {
        "id": "kuuJx0IMam9S"
      },
      "outputs": [],
      "source": [
        "### Surrogate derivatives: \n",
        "\n",
        "cov_func = squaredExponential()\n",
        "\n",
        "def kronDelta(X, Xstar):                     # Kronecker's Delta method\n",
        "    return cdist(X, Xstar) < np.finfo(np.float32).eps\n",
        "\n",
        "def se(X, Xstar, sigmaf, l, sigman):         # S.E. kernel method\n",
        "    return sigmaf * np.exp(-0.5 * cdist(X, Xstar) ** 2 / l ** 2) + sigman * kronDelta(X, Xstar)\n",
        "\n",
        "def delta(X, Xstar):                         # Distance between training X and test Xstar vectors\n",
        "    return (X - Xstar)\n",
        "   \n",
        "def der_covmat(X, Xstar, sigmaf, l, sigman): # Covariance matrix derivative terms (i.e. exact, first-order)\n",
        "    nx = len(X)\n",
        "    ny = len(Xstar)\n",
        "    return np.round(np.array([(delta(np.atleast_2d(i), np.atleast_2d(j))[0] * se(np.atleast_2d(i), np.atleast_2d(j), sigmaf, l, sigman)[0]).sum() for (i, j) in itertools.product(X, Xstar)]).reshape(nx, ny), 8)\n",
        "\n",
        "class dtStudentProcess(tStudentProcess):    # Via inheritance, also optimises hyperparameters when opt = TRUE\n",
        "    \n",
        "    def AcqGrad(self, Xstar):               # Method returning exact, first-order derivatives of the STP's posterior mean and standard deviation\n",
        "        Xstar = np.atleast_2d(Xstar)\n",
        "        Kstar = self.covfunc.K(self.X, Xstar).T\n",
        "        dKstar = der_covmat(self.X, Xstar, self.covfunc.sigmaf, self.covfunc.l, self.covfunc.sigman).T\n",
        "        \n",
        "        smd_adj = (self.nu + self.beta1 - 2) / (self.nu + self.n1 - 2)\n",
        "\n",
        "        alpha = np.dot(np.linalg.inv(self.K11 + (self.covfunc.sigman**2) * np.eye(len(self.X))), self.y)\n",
        "        alpha_Kstar = np.dot(np.linalg.inv(self.K11 + (self.covfunc.sigman**2) * np.eye(len(self.X))), Kstar.T)      \n",
        "        \n",
        "        dm = np.dot(dKstar, alpha)\n",
        "        ds = -2 * smd_adj * np.dot(dKstar, alpha_Kstar)\n",
        "        \n",
        "        return dm, ds \n",
        "        "
      ]
    },
    {
      "cell_type": "code",
      "execution_count": 8,
      "metadata": {
        "id": "_Dc3YVHVaXz7"
      },
      "outputs": [],
      "source": [
        "### Add exact acquisition function gradient as attribute:\n",
        "\n",
        "class Acquisition_grad(Acquisition):    \n",
        "    def __init__(self, mode, eps=eps, **params):\n",
        "        \n",
        "        self.params = params\n",
        "        self.eps = eps\n",
        "\n",
        "        mode_dict = {\n",
        "            'ERM': self.ERM\n",
        "        }\n",
        "\n",
        "        self.f = mode_dict[mode]\n",
        "    \n",
        "    def ERM(self, tau, mean, std, ds, dm, nu=3.0):\n",
        "        gamma = (mean - y_global_orig - self.eps) / (std + self.eps)\n",
        "        gamma_h = (mean - tau) / (std + self.eps)\n",
        "        dsdx = ds / (2 * (std + self.eps))\n",
        "        dmdx = (dm - gamma * dsdx) / (std + self.eps)\n",
        "        \n",
        "        f = (std + self.eps) * (gamma * t.cdf(gamma, df=nu) + (nu + gamma ** 2)/(nu - 1) * t.pdf(gamma, df=nu))\n",
        "        df1 = f / (std + self.eps) * dsdx \n",
        "        df2 = (std + self.eps) * (t.cdf(gamma, df=nu) * dmdx + gamma * t.pdf(gamma, df=nu) \\\n",
        "            * (1 - (nu + gamma ** 2)/(nu - 1) + 2/(nu - 1) * dmdx))\n",
        "        df = (df1 + df2)[0]\n",
        "        df_arr = []\n",
        "\n",
        "        for j in range(0, dim):\n",
        "          df_arr.append(df)\n",
        "        return f, np.asarray(df_arr).transpose()\n",
        "        \n",
        "    def d_eval(self, tau, mean, std, ds, dm, nu=3.0):\n",
        "    \n",
        "        return self.f(tau, mean, std, ds, dm, nu=3.0, **self.params)\n",
        "        "
      ]
    },
    {
      "cell_type": "code",
      "execution_count": 9,
      "metadata": {
        "id": "PITEQC8YSl7i"
      },
      "outputs": [],
      "source": [
        "## GPGO_multi: \n",
        "\n",
        "class GPGO_multi(GPGO):\n",
        "    n_start = n_start_AcqFunc\n",
        "\n",
        "    def __init__(self, surrogate, acquisition, f, parameter_dict, n_jobs=1):\n",
        "        self.GP = surrogate\n",
        "        self.A = acquisition\n",
        "        self.f = f\n",
        "        self.parameters = parameter_dict\n",
        "        self.n_jobs = n_jobs\n",
        "\n",
        "        self.parameter_key = list(parameter_dict.keys())\n",
        "        self.parameter_value = list(parameter_dict.values())\n",
        "        self.parameter_type = [p[0] for p in self.parameter_value]\n",
        "        self.parameter_range = [p[1] for p in self.parameter_value]\n",
        "\n",
        "        self.history = []\n",
        "        self.header =   'Evaluation \\t Proposed point \\t  Current eval. \\t  Best eval. \\t        Exact ERM: StdDev. x \\t Approx ERM: StdDev. x '\n",
        "        self.template = '{:3}\\t {}\\t {:3}\\t {:3}\\t {:3}\\t {:3}'\n",
        " \n",
        "    def acqfuncExact(self, xnew, n_start=n_start_AcqFunc):\n",
        "        new_mean, new_var = self.GP.predict(xnew, return_std=True)\n",
        "        new_std = np.sqrt(new_var + eps)\n",
        "        dm, ds = self.GP.AcqGrad(xnew)\n",
        "        f, df = self.A.d_eval(self.tau, new_mean, new_std, ds=ds, dm=dm, nu=3.0)\n",
        "\n",
        "        return -f, -df\n",
        "   \n",
        "    def acqfuncApprox(self, xnew, n_start=n_start_AcqFunc):\n",
        "        new_mean, new_var = self.GP.predict(xnew, return_std=True)\n",
        "        new_std = np.sqrt(new_var + eps)\n",
        "        dm, ds = self.GP.AcqGrad(xnew)\n",
        "        f, df = self.A.d_eval(self.tau, new_mean, new_std, ds=ds, dm=dm, nu=3.0)\n",
        "\n",
        "        return -f\n",
        "   \n",
        "    def _optimizeAcq(self, method='L-BFGS-B', n_start=n_start_AcqFunc):\n",
        "        \n",
        "        start_points_dict = [self._sampleParam() for i in range(n_start)]\n",
        "        start_points_arr = np.array([list(s.values())\n",
        "                                     for s in start_points_dict])\n",
        "        x_best = np.empty((n_start, len(self.parameter_key)))\n",
        "        f_best = np.empty((n_start,))\n",
        "        opt = Parallel(n_jobs=self.n_jobs)(delayed(minimize)(self.acqfuncApprox,\n",
        "                                                                 x0=start_point,\n",
        "                                                                 method=method,\n",
        "                                                                 jac = False,\n",
        "                                                                 bounds=self.parameter_range) for start_point in\n",
        "                                               start_points_arr)\n",
        "        x_best = np.array([res.x for res in opt])\n",
        "        f_best = np.array([np.atleast_1d(res.fun)[0] for res in opt])\n",
        "        f_best_min = min(f_best)\n",
        "\n",
        "        self.x_best = x_best\n",
        "        self.f_best = f_best\n",
        "        self.f_best_min = f_best_min\n",
        "        self.x_best_std = np.std(x_best)\n",
        "        self.best = x_best[np.argmin(f_best)]\n",
        "        self.start_points_arr = start_points_arr        \n",
        "        self.history.append(self.x_best_std)\n",
        "\n",
        "        x_best_exact = np.empty((n_start, len(self.parameter_key)))\n",
        "        f_best_exact = np.empty((n_start,))\n",
        "        opt_exact = Parallel(n_jobs=self.n_jobs)(delayed(minimize)(self.acqfuncExact,\n",
        "                                                                 x0=start_point,\n",
        "                                                                 method=method,\n",
        "                                                                 jac = True,\n",
        "                                                                 bounds=self.parameter_range) for start_point in\n",
        "                                               start_points_arr)\n",
        "        x_best_exact = np.array([res.x for res in opt_exact])\n",
        "        f_best_exact = np.array([np.atleast_1d(res.fun)[0] for res in opt_exact])\n",
        "        f_best_min_exact = min(f_best_exact)\n",
        "\n",
        "        self.x_best_exact = x_best_exact\n",
        "        self.f_best_exact = f_best_exact\n",
        "        self.f_best_min_exact = f_best_min_exact\n",
        "        self.x_best_std_exact = np.std(x_best_exact)\n",
        "        self.best_exact = x_best_exact[np.argmin(f_best_exact)]\n",
        "        self.start_points_arr = start_points_arr\n",
        "        self.history.append(self.x_best_std_exact)\n",
        "\n",
        "    def _printInit(self):\n",
        "        print(self.header)\n",
        "        for init_eval in range(self.init_evals):\n",
        "            print(self.template.format('init', self.GP.X[init_eval], inverse * self.GP.y[init_eval], inverse * self.tau, '', ''))\n",
        "      \n",
        "    def _printCurrent(self):\n",
        "        OKGREEN = '\\033[92m'\n",
        "        ENDC = '\\033[0m'\n",
        "        BOLD = '\\033[1m'\n",
        "        eval = str(len(self.GP.y) - self.init_evals)\n",
        "        proposed = str(self.best)\n",
        "        curr_eval = str(inverse * self.GP.y[-1])\n",
        "        curr_best = str(inverse * self.tau)\n",
        "        min_acqfunc = str(self.f_best_min)\n",
        "        min_acqfunc_exact = str(self.f_best_min_exact)\n",
        "        x_best_std = str(self.x_best_std)\n",
        "        x_best_std_exact = str(self.x_best_std_exact)\n",
        "        if float(curr_eval) <= float(curr_best):\n",
        "            eval = BOLD + OKGREEN + eval + ENDC\n",
        "            proposed = BOLD + OKGREEN + proposed + ENDC\n",
        "            curr_eval = BOLD + OKGREEN + curr_eval + ENDC\n",
        "            curr_best = BOLD + OKGREEN + curr_best + ENDC\n",
        "            x_best_std = BOLD + OKGREEN + x_best_std + ENDC\n",
        "            x_best_std_exact = BOLD + OKGREEN + x_best_std_exact + ENDC\n",
        "        print(self.template.format(eval, proposed, curr_eval, curr_best, x_best_std_exact, x_best_std))\n",
        "        \n",
        "    def run(self, max_iter=10, init_evals=3, resume=False):\n",
        "        \n",
        "        if not resume:\n",
        "            self.init_evals = init_evals\n",
        "            self._firstRun(self.init_evals)\n",
        "            self._printInit()\n",
        "        for iteration in range(max_iter):\n",
        "            self._optimizeAcq()\n",
        "            self.updateGP()\n",
        "            self._printCurrent()\n"
      ]
    },
    {
      "cell_type": "code",
      "execution_count": 10,
      "metadata": {
        "id": "b_B-w81BJxKN"
      },
      "outputs": [],
      "source": [
        "## dGPGO:\n",
        "\n",
        "class dGPGO(GPGO):\n",
        "    n_start = n_start_AcqFunc\n",
        "\n",
        "    def __init__(self, surrogate, acquisition, f, parameter_dict, n_jobs=1):\n",
        "        self.GP = surrogate\n",
        "        self.A = acquisition\n",
        "        self.f = f\n",
        "        self.parameters = parameter_dict\n",
        "        self.n_jobs = n_jobs\n",
        "\n",
        "        self.parameter_key = list(parameter_dict.keys())\n",
        "        self.parameter_value = list(parameter_dict.values())\n",
        "        self.parameter_type = [p[0] for p in self.parameter_value]\n",
        "        self.parameter_range = [p[1] for p in self.parameter_value]\n",
        "\n",
        "        self.history = []\n",
        "        self.header =   'Evaluation \\t Proposed point \\t  Current eval. \\t  Best eval. \\t        Exact ERM: StdDev. x \\t Approx ERM: StdDev. x '\n",
        "        self.template = '{:3}\\t {}\\t {:3}\\t {:3}\\t {:3}\\t {:3}'\n",
        "\n",
        "    def acqfuncExact(self, xnew, n_start=n_start_AcqFunc):\n",
        "        new_mean, new_var = self.GP.predict(xnew, return_std=True)\n",
        "        new_std = np.sqrt(new_var + eps)\n",
        "        dm, ds = self.GP.AcqGrad(xnew)\n",
        "        f, df = self.A.d_eval(self.tau, new_mean, new_std, ds=ds, dm=dm, nu=3.0)\n",
        "\n",
        "        return -f, -df\n",
        "   \n",
        "    def acqfuncApprox(self, xnew, n_start=n_start_AcqFunc):\n",
        "        new_mean, new_var = self.GP.predict(xnew, return_std=True)\n",
        "        new_std = np.sqrt(new_var + eps)\n",
        "        dm, ds = self.GP.AcqGrad(xnew)\n",
        "        f, df = self.A.d_eval(self.tau, new_mean, new_std, ds=ds, dm=dm, nu=3.0)\n",
        "\n",
        "        return -f\n",
        "\n",
        "    def d_optimizeAcq(self, method='L-BFGS-B', n_start=n_start_AcqFunc):\n",
        "        start_points_dict = [self._sampleParam() for i in range(n_start)]\n",
        "        start_points_arr = np.array([list(s.values())\n",
        "                                     for s in start_points_dict])\n",
        "        x_best = np.empty((n_start, len(self.parameter_key)))\n",
        "        f_best = np.empty((n_start,))\n",
        "        opt = Parallel(n_jobs=self.n_jobs)(delayed(minimize)(self.acqfuncExact,\n",
        "                                                                 x0=start_point,\n",
        "                                                                 method=method,\n",
        "                                                                 jac = True,\n",
        "                                                                 bounds=self.parameter_range) for start_point in\n",
        "                                               start_points_arr)\n",
        "        x_best = np.array([res.x for res in opt])\n",
        "        f_best = np.array([np.atleast_1d(res.fun)[0] for res in opt])\n",
        "        f_best_min = min(f_best)\n",
        "\n",
        "        self.x_best = x_best\n",
        "        self.f_best = f_best\n",
        "        self.f_best_min = f_best_min\n",
        "        self.x_best_std = np.std(x_best)\n",
        "        self.best = x_best[np.argmin(f_best)]\n",
        "        self.start_points_arr = start_points_arr\n",
        "        self.history.append(self.x_best_std)\n",
        "\n",
        "        x_best_approx = np.empty((n_start, len(self.parameter_key)))\n",
        "        f_best_approx = np.empty((n_start,))\n",
        "        opt_approx = Parallel(n_jobs=self.n_jobs)(delayed(minimize)(self.acqfuncApprox,\n",
        "                                                                 x0=start_point,\n",
        "                                                                 method=method,\n",
        "                                                                 jac = False,\n",
        "                                                                 bounds=self.parameter_range) for start_point in\n",
        "                                               start_points_arr)\n",
        "        x_best_approx = np.array([res.x for res in opt_approx])\n",
        "        f_best_approx = np.array([np.atleast_1d(res.fun)[0] for res in opt_approx])\n",
        "        f_best_min_approx = min(f_best_approx)\n",
        "\n",
        "        self.x_best_approx = x_best_approx\n",
        "        self.f_best_approx = f_best_approx\n",
        "        self.f_best_min_approx = f_best_min_approx\n",
        "        self.x_best_std_approx = np.std(x_best_approx)\n",
        "        self.best_approx = x_best_approx[np.argmin(f_best_approx)]\n",
        "        self.start_points_arr = start_points_arr\n",
        "        self.history.append(self.x_best_std_approx)\n",
        "    \n",
        "    def _printInit(self):\n",
        "        print(self.header)\n",
        "        for init_eval in range(self.init_evals):\n",
        "            print(self.template.format('init', self.GP.X[init_eval], inverse * self.GP.y[init_eval], inverse * self.tau, '', ''))\n",
        "      \n",
        "    def _printCurrent(self):\n",
        "        OKGREEN = '\\033[92m'\n",
        "        ENDC = '\\033[0m'\n",
        "        BOLD = '\\033[1m'\n",
        "        eval = str(len(self.GP.y) - self.init_evals)\n",
        "        proposed = str(self.best)\n",
        "        curr_eval = str(inverse * self.GP.y[-1])\n",
        "        curr_best = str(inverse * self.tau)\n",
        "        min_acqfunc = str(self.f_best_min)\n",
        "        min_acqfunc_approx = str(self.f_best_min_approx)\n",
        "        x_best_std = str(self.x_best_std)\n",
        "        x_best_std_approx = str(self.x_best_std_approx)\n",
        "        if float(curr_eval) <= float(curr_best):\n",
        "            eval = BOLD + OKGREEN + eval + ENDC\n",
        "            proposed = BOLD + OKGREEN + proposed + ENDC\n",
        "            curr_eval = BOLD + OKGREEN + curr_eval + ENDC\n",
        "            curr_best = BOLD + OKGREEN + curr_best + ENDC\n",
        "            x_best_std = BOLD + OKGREEN + x_best_std + ENDC\n",
        "            x_best_std_approx = BOLD + OKGREEN + x_best_std_approx + ENDC\n",
        "        print(self.template.format(eval, proposed, curr_eval, curr_best, x_best_std, x_best_std_approx))\n",
        "\n",
        "    def run(self, max_iter=10, init_evals=3, resume=False):\n",
        "        \n",
        "        if not resume:\n",
        "            self.init_evals = init_evals\n",
        "            self._firstRun(self.init_evals)\n",
        "            self._printInit()\n",
        "        for iteration in range(max_iter):\n",
        "            self.d_optimizeAcq()\n",
        "            self.updateGP()\n",
        "            self._printCurrent()\n"
      ]
    },
    {
      "cell_type": "code",
      "execution_count": 11,
      "metadata": {
        "id": "qXIKGuXVGEg2"
      },
      "outputs": [],
      "source": [
        "###Reproducible set-seeds:\n",
        "\n",
        "run_num_1 = 1\n",
        "run_num_2 = 2\n",
        "run_num_3 = 3\n",
        "run_num_4 = 4\n",
        "run_num_5 = 5\n",
        "run_num_6 = 6\n",
        "run_num_7 = 7\n",
        "run_num_8 = 8\n",
        "run_num_9 = 9\n",
        "run_num_10 = 10\n",
        "run_num_11 = 11\n",
        "run_num_12 = 12\n",
        "run_num_13 = 13\n",
        "run_num_14 = 14\n",
        "run_num_15 = 15\n",
        "run_num_16 = 16\n",
        "run_num_17 = 17\n",
        "run_num_18 = 18\n",
        "run_num_19 = 19\n",
        "run_num_20 = 20\n"
      ]
    },
    {
      "cell_type": "code",
      "execution_count": 12,
      "metadata": {
        "id": "JEhagQmnTVIK",
        "colab": {
          "base_uri": "https://localhost:8080/"
        },
        "outputId": "f5968d99-c39b-47fc-f9a1-d11e82f0551b"
      },
      "outputs": [
        {
          "output_type": "execute_result",
          "data": {
            "text/plain": [
              "1663322681.9145513"
            ]
          },
          "metadata": {},
          "execution_count": 12
        }
      ],
      "source": [
        "start_approx = time.time()\n",
        "start_approx\n"
      ]
    },
    {
      "cell_type": "code",
      "execution_count": 13,
      "metadata": {
        "id": "aH0YSTXufD1v",
        "colab": {
          "base_uri": "https://localhost:8080/"
        },
        "outputId": "db8abd63-0dcd-4e4f-8c37-c0c80b75ac18"
      },
      "outputs": [
        {
          "output_type": "stream",
          "name": "stdout",
          "text": [
            "Evaluation \t Proposed point \t  Current eval. \t  Best eval. \t        Exact ERM: StdDev. x \t Approx ERM: StdDev. x \n",
            "init\t [-0.74680196  1.98292044]\t 6.597029498756062\t 6.597029498756062\t    \t    \n",
            "init\t [-4.49897063 -1.77900685]\t 1305.4710589552556\t 6.597029498756062\t    \t    \n",
            "init\t [-3.17919698 -3.66895265]\t 28173.776013477825\t 6.597029498756062\t    \t    \n",
            "init\t [-2.8236581  -1.38995346]\t 237.9931764117774\t 6.597029498756062\t    \t    \n",
            "init\t [-0.92909273  0.34935061]\t 26.1790631757263\t 6.597029498756062\t    \t    \n",
            "1  \t [-3.45884961  0.70800818]\t 45.68404953463458\t 6.597029498756062\t 3.136268757436948\t 3.7040045557843766\n",
            "2  \t [4.5 4.5]\t 174813.36328125\t 6.597029498756062\t 2.5799853724841464\t 3.232342852837881\n",
            "3  \t [ 4.5 -4.5]\t 178131.83203125\t 6.597029498756062\t 2.83662101253067\t 3.954521433398096\n",
            "4  \t [-4.5  4.5]\t 169680.83203125\t 6.597029498756062\t 3.2019960454054006\t 3.441173485165628\n",
            "\u001b[1m\u001b[92m5\u001b[0m\t \u001b[1m\u001b[92m[ 2.38325551 -0.01120082]\u001b[0m\t \u001b[1m\u001b[92m0.9041250817424344\u001b[0m\t \u001b[1m\u001b[92m0.9041250817424344\u001b[0m\t \u001b[1m\u001b[92m2.7103965097672167\u001b[0m\t \u001b[1m\u001b[92m2.219338072266834\u001b[0m\n",
            "6  \t [ 0.5528034  -2.33174714]\t 46.59877685671822\t 0.9041250817424344\t 2.692076674041234\t 2.4610407760632578\n",
            "7  \t [0.12434187 4.5       ]\t 216.6130063466769\t 0.9041250817424344\t 2.992556302893641\t 2.853680145269456\n",
            "8  \t [ 4.5        -0.44290231]\t 31.93466752887253\t 0.9041250817424344\t 2.907055456134248\t 2.929227048516397\n",
            "9  \t [ 0.23193601 -4.5       ]\t 396.4049516730246\t 0.9041250817424344\t 2.8519381642057007\t 2.6355022934547074\n",
            "10 \t [ 2.49259372 -1.89174439]\t 388.1901662952805\t 0.9041250817424344\t 3.114320270935505\t 2.8239448174533\n",
            "11 \t [1.52494881 2.18360563]\t 363.09397960337077\t 0.9041250817424344\t 2.3552902696206623\t 2.0382746453373315\n",
            "12 \t [ 0.64559931 -0.43463188]\t 7.020555014444575\t 0.9041250817424344\t 2.9723513951173466\t 2.317259702377472\n",
            "13 \t [3.84308624 1.32240081]\t 92.61004368541435\t 0.9041250817424344\t 2.7045363318652873\t 2.583107743417125\n",
            "14 \t [-1.07008793 -1.67352804]\t 94.99711650016076\t 0.9041250817424344\t 3.24382807273182\t 2.8883834263874197\n",
            "15 \t [-1.44999081  3.6634216 ]\t 4771.750076621795\t 0.9041250817424344\t 2.8111946603413216\t 2.8163335575254558\n",
            "16 \t [-2.43961041  1.92145365]\t 169.06417168596386\t 0.9041250817424344\t 2.8798035923253216\t 2.754625764836213\n",
            "17 \t [ 1.75945497 -3.6677392 ]\t 8015.308739108588\t 0.9041250817424344\t 3.1939597932031187\t 2.760900335196096\n",
            "18 \t [1.71269765 4.00208009]\t 13079.989178492791\t 0.9041250817424344\t 3.0418769178996463\t 2.856116603158985\n",
            "19 \t [-4.5        -0.18739347]\t 141.47298887467116\t 0.9041250817424344\t 3.2294174770006925\t 3.1962580097525404\n",
            "20 \t [-3.96740514  2.25285466]\t 1708.9657496786779\t 0.9041250817424344\t 2.840511643776084\t 2.9566927009301507\n"
          ]
        }
      ],
      "source": [
        "### ESTIMATED STP ERM GRADIENTS\n",
        "\n",
        "np.random.seed(run_num_1)\n",
        "surrogate_approx_1 = dtStudentProcess(cov_func, optimize=opt, nu = df)\n",
        "\n",
        "approx_1 = GPGO_multi(surrogate_approx_1, Acquisition_grad(util), objfunc, param)\n",
        "approx_1.run(init_evals=n_init, max_iter=iters)\n"
      ]
    },
    {
      "cell_type": "code",
      "execution_count": 14,
      "metadata": {
        "id": "wTxsSZxFGBB5",
        "colab": {
          "base_uri": "https://localhost:8080/"
        },
        "outputId": "d8c9d523-6314-4b40-e122-418bd921375a"
      },
      "outputs": [
        {
          "output_type": "stream",
          "name": "stdout",
          "text": [
            "Evaluation \t Proposed point \t  Current eval. \t  Best eval. \t        Exact ERM: StdDev. x \t Approx ERM: StdDev. x \n",
            "init\t [-0.57604588 -4.26666391]\t 2377.8441741808733\t 8.81624267140378\t    \t    \n",
            "init\t [ 0.4469623  -0.58209847]\t 8.81624267140378\t 8.81624267140378\t    \t    \n",
            "init\t [-0.71668978 -1.52698661]\t 47.3742628518178\t 8.81624267140378\t    \t    \n",
            "init\t [-2.65816229  1.0734387 ]\t 9.08861590265506\t 8.81624267140378\t    \t    \n",
            "init\t [-1.80310794 -2.09855452]\t 510.2220943696988\t 8.81624267140378\t    \t    \n",
            "1  \t [4.5 4.5]\t 174813.36328125\t 8.81624267140378\t 3.587298160338604\t 3.8885448587966174\n",
            "2  \t [ 4.5        -2.31239829]\t 3963.6646833552477\t 8.81624267140378\t 3.171940960035811\t 4.135603591868468\n",
            "3  \t [-4.5  4.5]\t 169680.83203125\t 8.81624267140378\t 3.110685925687336\t 3.892936512854766\n",
            "4  \t [-4.5 -4.5]\t 181853.61328125\t 8.81624267140378\t 2.2520115969879915\t 3.0426577226532174\n",
            "5  \t [0.07155073 2.74176053]\t 26.243724202568185\t 8.81624267140378\t 2.152702650326375\t 2.486937575661495\n",
            "\u001b[1m\u001b[92m6\u001b[0m\t \u001b[1m\u001b[92m[2.95419917 0.56061366]\u001b[0m\t \u001b[1m\u001b[92m0.1276872493955701\u001b[0m\t \u001b[1m\u001b[92m0.1276872493955701\u001b[0m\t \u001b[1m\u001b[92m2.522478939586996\u001b[0m\t \u001b[1m\u001b[92m3.2422380672498683\u001b[0m\n",
            "7  \t [ 2.4118296 -4.5      ]\t 50716.639436350495\t 0.1276872493955701\t 2.4124392821791805\t 2.9682303920550757\n",
            "8  \t [-4.5        -0.47064876]\t 156.67094597170876\t 0.1276872493955701\t 1.9225785818577161\t 3.0423232906685382\n",
            "9  \t [ 2.31118656 -1.42454393]\t 78.81180505684726\t 0.1276872493955701\t 2.184703868643111\t 2.573690358638795\n",
            "10 \t [-0.84990399  4.5       ]\t 5673.230228161636\t 0.1276872493955701\t 2.2836099016844007\t 2.7044310212186824\n",
            "11 \t [1.88531314 2.19239406]\t 527.5577303881036\t 0.1276872493955701\t 2.3094802466861197\t 2.8581382569139886\n",
            "12 \t [-0.72156805  0.94661361]\t 15.250138036830698\t 0.1276872493955701\t 2.235806495606696\t 3.058579199706889\n",
            "13 \t [-2.67421841 -0.66194456]\t 86.3207767925602\t 0.1276872493955701\t 2.284916303499198\t 3.301288635425054\n",
            "14 \t [ 4.5        -0.14124623]\t 21.447546538610336\t 0.1276872493955701\t 2.2791694305940315\t 3.327195192408833\n",
            "15 \t [-1.80161743  2.6248482 ]\t 864.6619281754568\t 0.1276872493955701\t 2.2873230384195375\t 2.8505755394604853\n",
            "16 \t [1.22435839 4.5       ]\t 13462.37343339192\t 0.1276872493955701\t 2.2156705705917044\t 2.949569024758413\n",
            "17 \t [4.5        1.66978508]\t 490.2754264061419\t 0.1276872493955701\t 2.482540357234256\t 3.232818744400657\n",
            "18 \t [-4.5         1.28510534]\t 6.395183697872245\t 0.1276872493955701\t 2.5131202194360225\t 3.107088488002967\n",
            "19 \t [ 0.71787824 -2.51938358]\t 129.761856651923\t 0.1276872493955701\t 2.2186445122202105\t 2.7258569808705655\n",
            "20 \t [-3.70564276 -1.94587064]\t 1350.579593182448\t 0.1276872493955701\t 2.5698208252712376\t 3.0901301762778473\n"
          ]
        }
      ],
      "source": [
        "### ESTIMATED STP ERM GRADIENTS\n",
        "\n",
        "np.random.seed(run_num_2)\n",
        "surrogate_approx_2 = dtStudentProcess(cov_func, optimize=opt, nu = df)\n",
        "\n",
        "approx_2 = GPGO_multi(surrogate_approx_2, Acquisition_grad(util), objfunc, param)\n",
        "approx_2.run(init_evals=n_init, max_iter=iters)\n"
      ]
    },
    {
      "cell_type": "code",
      "execution_count": 15,
      "metadata": {
        "id": "-dgzIrUIGCGT",
        "colab": {
          "base_uri": "https://localhost:8080/"
        },
        "outputId": "6c88e5d8-62e7-48c8-d4ce-b5a2a877fca0"
      },
      "outputs": [
        {
          "output_type": "stream",
          "name": "stdout",
          "text": [
            "Evaluation \t Proposed point \t  Current eval. \t  Best eval. \t        Exact ERM: StdDev. x \t Approx ERM: StdDev. x \n",
            "init\t [0.45718112 1.8733304 ]\t 41.912714742005974\t 41.912714742005974\t    \t    \n",
            "init\t [-1.88185735  0.09744845]\t 47.451188393399434\t 41.912714742005974\t    \t    \n",
            "init\t [3.53652259 3.5666378 ]\t 27475.816689924115\t 41.912714742005974\t    \t    \n",
            "init\t [-3.36973221 -2.6348141 ]\t 5079.048973002421\t 41.912714742005974\t    \t    \n",
            "init\t [-4.03679517 -0.53271141]\t 138.4086524103332\t 41.912714742005974\t    \t    \n",
            "1  \t [ 2.52283288 -1.74272821]\t 259.55509339560894\t 41.912714742005974\t 2.6373613278713\t 2.8202933052884016\n",
            "2  \t [-4.5         2.36264808]\t 3086.1845401096966\t 41.912714742005974\t 3.0334719627119244\t 3.9165236273827637\n",
            "3  \t [ 4.5 -4.5]\t 178131.83203125\t 41.912714742005974\t 2.7303520557946204\t 3.7778915010712906\n",
            "4  \t [-1.21259268  4.5       ]\t 11828.757217269962\t 41.912714742005974\t 3.367000955609247\t 3.372160832745998\n",
            "5  \t [-0.15395701 -4.5       ]\t 288.53521564878884\t 41.912714742005974\t 3.644952395906941\t 3.708644492275747\n",
            "\u001b[1m\u001b[92m6\u001b[0m\t \u001b[1m\u001b[92m[ 4.5       -0.0400998]\u001b[0m\t \u001b[1m\u001b[92m18.66196015814599\u001b[0m\t \u001b[1m\u001b[92m18.66196015814599\u001b[0m\t \u001b[1m\u001b[92m3.6454346337595283\u001b[0m\t \u001b[1m\u001b[92m3.580207930920937\u001b[0m\n",
            "7  \t [-0.19767076 -1.71099282]\t 22.175307119918873\t 18.66196015814599\t 3.5065424185703273\t 3.3572695348218495\n",
            "\u001b[1m\u001b[92m8\u001b[0m\t \u001b[1m\u001b[92m[2.09453962 0.40176919]\u001b[0m\t \u001b[1m\u001b[92m0.7485516717597099\u001b[0m\t \u001b[1m\u001b[92m0.7485516717597099\u001b[0m\t \u001b[1m\u001b[92m3.5965359750300507\u001b[0m\t \u001b[1m\u001b[92m3.2037462052582364\u001b[0m\n",
            "9  \t [-2.02264079  2.1301446 ]\t 246.75715689992768\t 0.7485516717597099\t 3.3480237783959415\t 3.219655567085192\n",
            "10 \t [-4.5  4.5]\t 169680.83203125\t 0.7485516717597099\t 3.68073706119365\t 3.8148525677459633\n",
            "11 \t [-4.5 -4.5]\t 181853.61328125\t 0.7485516717597099\t 3.4089644287977445\t 3.2046345854472595\n",
            "12 \t [-1.49184032 -2.9991879 ]\t 2117.545647885773\t 0.7485516717597099\t 2.710456030735444\t 2.529401255719721\n",
            "13 \t [1.09535808 4.5       ]\t 10843.637335363066\t 0.7485516717597099\t 3.0447201465663896\t 3.0571914124980673\n",
            "14 \t [0.13464914 0.06787867]\t 12.568616145460695\t 0.7485516717597099\t 2.5170532236237375\t 2.63431516707758\n",
            "15 \t [ 1.2420433  -3.22769449]\t 1839.325964134683\t 0.7485516717597099\t 2.6034997383468568\t 2.4791080632172293\n",
            "16 \t [-2.30808108 -1.42036162]\t 183.55593294967932\t 0.7485516717597099\t 2.7535329991257957\t 2.590820076139402\n",
            "17 \t [-3.61710423  1.41247695]\t 17.430959202222773\t 0.7485516717597099\t 2.6055584307506057\t 2.6243114780893393\n",
            "18 \t [ 4.5        -1.65426544]\t 705.2962543065246\t 0.7485516717597099\t 2.477149598759223\t 2.6922714908482006\n",
            "19 \t [3.74047055 1.41073979]\t 132.77144373452194\t 0.7485516717597099\t 2.6926752249253068\t 2.693994055776281\n",
            "20 \t [2.01002332 1.99389988]\t 353.83735447820004\t 0.7485516717597099\t 2.6809042414254987\t 2.559328153759309\n"
          ]
        }
      ],
      "source": [
        "### ESTIMATED STP ERM GRADIENTS\n",
        "\n",
        "np.random.seed(run_num_3)\n",
        "surrogate_approx_3 = dtStudentProcess(cov_func, optimize=opt, nu = df)\n",
        "\n",
        "approx_3 = GPGO_multi(surrogate_approx_3, Acquisition_grad(util), objfunc, param)\n",
        "approx_3.run(init_evals=n_init, max_iter=iters)\n"
      ]
    },
    {
      "cell_type": "code",
      "execution_count": 16,
      "metadata": {
        "id": "hOtG-2sCGCKS",
        "colab": {
          "base_uri": "https://localhost:8080/"
        },
        "outputId": "76e0c8b7-7400-4481-cab1-23762be5f2d4"
      },
      "outputs": [
        {
          "output_type": "stream",
          "name": "stdout",
          "text": [
            "Evaluation \t Proposed point \t  Current eval. \t  Best eval. \t        Exact ERM: StdDev. x \t Approx ERM: StdDev. x \n",
            "init\t [4.20326855 0.42509024]\t 3.8409856613776237\t 3.8409856613776237\t    \t    \n",
            "init\t [4.25415924 1.93334394]\t 1070.6518137934977\t 3.8409856613776237\t    \t    \n",
            "init\t [ 1.77955942 -2.55519454]\t 1001.3529311398922\t 3.8409856613776237\t    \t    \n",
            "init\t [ 4.28647009 -4.4439277 ]\t 150069.47442764963\t 3.8409856613776237\t    \t    \n",
            "init\t [-2.22315874 -0.58687621]\t 67.08861688517413\t 3.8409856613776237\t    \t    \n",
            "1  \t [-4.5  4.5]\t 169680.83203125\t 3.8409856613776237\t 3.4260813613333823\t 4.064205649659845\n",
            "2  \t [-4.5 -4.5]\t 181853.61328125\t 3.8409856613776237\t 4.156992422736273\t 3.1084807953256\n",
            "3  \t [0.88017595 4.5       ]\t 7105.3112280423275\t 3.8409856613776237\t 2.9288875538153643\t 2.7883762462579718\n",
            "4  \t [0.76460163 0.55592091]\t 8.278014426465358\t 3.8409856613776237\t 2.644155164125245\t 2.7227812786406944\n",
            "5  \t [-0.22860942 -4.5       ]\t 573.2383216500692\t 3.8409856613776237\t 3.157338135890234\t 2.727336165572302\n",
            "6  \t [4.5 4.5]\t 174813.36328125\t 3.8409856613776237\t 2.759941191634223\t 2.7877059167655376\n",
            "7  \t [-4.5         0.34915342]\t 106.14474015915422\t 3.8409856613776237\t 1.9971191142380584\t 2.054297264611746\n",
            "8  \t [-1.37999397  1.97627245]\t 47.298451521991076\t 3.8409856613776237\t 2.0671228050666577\t 2.045389653055077\n",
            "9  \t [-0.54117081 -2.08649966]\t 75.55770338706205\t 3.8409856613776237\t 2.2324314539434806\t 2.170992372228865\n",
            "10 \t [2.06140867 2.03899929]\t 415.36974214525003\t 3.8409856613776237\t 2.633113692331305\t 2.7413329186106195\n",
            "11 \t [-4.11766475 -1.38057868]\t 438.9161396020809\t 3.8409856613776237\t 2.661789187316998\t 2.7595493827419\n",
            "12 \t [ 4.4430235  -1.53699887]\t 486.6491618985409\t 3.8409856613776237\t 2.5645225996247993\t 2.5723374683297116\n",
            "13 \t [ 2.42562146 -0.5921812 ]\t 6.127416827858883\t 3.8409856613776237\t 2.488896489126935\t 2.4371335556865046\n",
            "14 \t [-3.07340935  1.41857793]\t 10.244688110130662\t 3.8409856613776237\t 2.1142496617132713\t 2.1474211339730123\n",
            "15 \t [-1.22781337  4.5       ]\t 12136.004687249471\t 3.8409856613776237\t 2.082151639099373\t 2.058285045908621\n",
            "16 \t [0.31316925 2.4399246 ]\t 65.3251937055894\t 3.8409856613776237\t 2.3458168521192975\t 2.251141132432535\n",
            "17 \t [-2.31261519 -2.55353566]\t 2092.397307590441\t 3.8409856613776237\t 2.3408104528447793\t 2.325395279402241\n",
            "18 \t [-0.74869336  0.04703216]\t 25.263010309933378\t 3.8409856613776237\t 2.2655933200832643\t 2.431356933972386\n",
            "19 \t [ 1.44366904 -4.5       ]\t 17941.037149543936\t 3.8409856613776237\t 2.470156844650891\t 2.6248428080354893\n",
            "20 \t [ 3.04149096 -1.82876412]\t 500.1569401191904\t 3.8409856613776237\t 2.2674799156261756\t 2.337193892509043\n"
          ]
        }
      ],
      "source": [
        "### ESTIMATED STP ERM GRADIENTS\n",
        "\n",
        "np.random.seed(run_num_4)\n",
        "surrogate_approx_4 = dtStudentProcess(cov_func, optimize=opt, nu = df)\n",
        "\n",
        "approx_4= GPGO_multi(surrogate_approx_4, Acquisition_grad(util), objfunc, param)\n",
        "approx_4.run(init_evals=n_init, max_iter=iters)\n"
      ]
    },
    {
      "cell_type": "code",
      "execution_count": 17,
      "metadata": {
        "id": "JF_SxcEvGCOl",
        "colab": {
          "base_uri": "https://localhost:8080/"
        },
        "outputId": "649e985e-2624-4671-c296-cbfba77ef215"
      },
      "outputs": [
        {
          "output_type": "stream",
          "name": "stdout",
          "text": [
            "Evaluation \t Proposed point \t  Current eval. \t  Best eval. \t        Exact ERM: StdDev. x \t Approx ERM: StdDev. x \n",
            "init\t [-2.50206146  3.33659076]\t 8263.905568073349\t 0.311397019260738\t    \t    \n",
            "init\t [-2.6395276   3.76749817]\t 19560.15202528338\t 0.311397019260738\t    \t    \n",
            "init\t [-0.1042993   1.00569477]\t 14.186578993925806\t 0.311397019260738\t    \t    \n",
            "init\t [2.39317071 0.16576189]\t 0.311397019260738\t 0.311397019260738\t    \t    \n",
            "init\t [-1.82879549 -2.81050894]\t 2208.9823086257425\t 0.311397019260738\t    \t    \n",
            "1  \t [ 4.5 -4.5]\t 178131.83203125\t 0.311397019260738\t 3.880337994280014\t 4.2129545740778775\n",
            "2  \t [4.5 4.5]\t 174813.36328125\t 0.311397019260738\t 4.242236738647611\t 3.8393025864400605\n",
            "3  \t [-4.5 -4.5]\t 181853.61328125\t 0.311397019260738\t 3.5002671235362124\t 3.8139702339107675\n",
            "4  \t [-4.5         0.16607762]\t 121.96496325666105\t 0.311397019260738\t 2.3035664356757795\t 3.2595179624542947\n",
            "5  \t [ 0.94942362 -2.14650558]\t 93.92742017360061\t 0.311397019260738\t 2.2037299330890106\t 2.714027519495322\n",
            "6  \t [ 0.25436824 -4.5       ]\t 484.0848376953432\t 0.311397019260738\t 2.766786208053743\t 3.082926023606555\n",
            "7  \t [0.55602182 4.5       ]\t 2960.8014167576002\t 0.311397019260738\t 2.184902871861176\t 3.076296489620289\n",
            "8  \t [ 4.5        -0.50378065]\t 34.973164692965774\t 0.311397019260738\t 2.7027011373532\t 3.545404035109857\n",
            "9  \t [-2.13349107 -0.22729203]\t 58.104488257107164\t 0.311397019260738\t 2.3626141356887533\t 2.9469553807288706\n",
            "10 \t [1.64997625 2.28510435]\t 524.9861925857015\t 0.311397019260738\t 2.2130493622610583\t 2.9207851872546766\n",
            "11 \t [4.5       1.2868614]\t 94.36792561168068\t 0.311397019260738\t 2.35541904526516\t 3.0742456953306148\n",
            "12 \t [-0.39977467 -0.95141756]\t 21.784089290784443\t 0.311397019260738\t 2.1233490862594127\t 2.9088573745555473\n",
            "13 \t [ 2.81791016 -1.67300554]\t 269.2044501862672\t 0.311397019260738\t 2.576582670631673\t 3.25074830376716\n",
            "14 \t [-4.5         2.12740245]\t 1508.7772165772258\t 0.311397019260738\t 1.8894211770626035\t 3.1084369932753644\n",
            "15 \t [-3.60235031 -1.40112671]\t 364.8771155534423\t 0.311397019260738\t 2.3164054771348503\t 3.3485174888873086\n",
            "16 \t [-1.97912182  1.45957769]\t 2.7507614870469665\t 0.311397019260738\t 2.345384061629964\t 2.907290705046125\n",
            "17 \t [-4.5  4.5]\t 169680.83203125\t 0.311397019260738\t 1.6732479722821547\t 3.3793815067871744\n",
            "18 \t [-0.45183854  2.84664735]\t 55.326960393132005\t 0.311397019260738\t 2.1884186393495146\t 2.031775384755528\n",
            "19 \t [-1.50943306 -4.5       ]\t 20888.32313703484\t 0.311397019260738\t 2.321239941923702\t 2.0019085907600407\n",
            "20 \t [ 1.68946998 -3.69340529]\t 7685.644480599121\t 0.311397019260738\t 2.0818383035332606\t 2.1973623416249892\n"
          ]
        }
      ],
      "source": [
        "### ESTIMATED STP ERM GRADIENTS\n",
        "\n",
        "np.random.seed(run_num_5)\n",
        "surrogate_approx_5 = dtStudentProcess(cov_func, optimize=opt, nu = df)\n",
        "\n",
        "approx_5 = GPGO_multi(surrogate_approx_5, Acquisition_grad(util), objfunc, param)\n",
        "approx_5.run(init_evals=n_init, max_iter=iters)\n"
      ]
    },
    {
      "cell_type": "code",
      "execution_count": 18,
      "metadata": {
        "id": "-kDxZtJsGCR3",
        "colab": {
          "base_uri": "https://localhost:8080/"
        },
        "outputId": "ca61b4d6-39f0-49f7-a4a6-52ce4834562c"
      },
      "outputs": [
        {
          "output_type": "stream",
          "name": "stdout",
          "text": [
            "Evaluation \t Proposed point \t  Current eval. \t  Best eval. \t        Exact ERM: StdDev. x \t Approx ERM: StdDev. x \n",
            "init\t [ 3.53574136 -1.51218175]\t 273.3122030790333\t 10.038000709758428\t    \t    \n",
            "init\t [ 2.89106211 -4.12473037]\t 43803.250406689425\t 10.038000709758428\t    \t    \n",
            "init\t [-3.53108988  0.85546858]\t 29.828433746298536\t 10.038000709758428\t    \t    \n",
            "init\t [ 0.26835626 -0.73073314]\t 10.658925295067505\t 10.038000709758428\t    \t    \n",
            "init\t [-1.48132936  1.10267489]\t 10.038000709758428\t 10.038000709758428\t    \t    \n",
            "1  \t [4.21952232 1.02653925]\t 17.554274928544203\t 10.038000709758428\t 3.7558024707210764\t 3.9896506328452674\n",
            "2  \t [-4.5 -4.5]\t 181853.61328125\t 10.038000709758428\t 4.422061817263742\t 4.276225851207419\n",
            "3  \t [1.25871173 4.5       ]\t 14207.48384207046\t 10.038000709758428\t 2.967017925811976\t 3.6458532324713375\n",
            "4  \t [-4.5  4.5]\t 169680.83203125\t 10.038000709758428\t 2.996423772828818\t 4.119082596973228\n",
            "5  \t [4.5 4.5]\t 174813.36328125\t 10.038000709758428\t 2.59397304873611\t 2.907862950954753\n",
            "6  \t [-0.69291546 -3.19646442]\t 709.8510504630686\t 10.038000709758428\t 2.334313224772967\t 2.4154989201063244\n",
            "7  \t [1.6803613  1.25524365]\t 32.28796152885528\t 10.038000709758428\t 2.5500719031662444\t 3.1394022673924074\n",
            "8  \t [-2.32737731 -1.25045782]\t 136.583942844731\t 10.038000709758428\t 2.2841804572725923\t 2.6299410727580046\n",
            "9  \t [-1.50664555  3.34763478]\t 2921.3445831254962\t 10.038000709758428\t 2.399779914314502\t 3.081516669131824\n",
            "10 \t [-4.5        -1.32467157]\t 453.61714151272747\t 10.038000709758428\t 2.587343384640056\t 3.1764416183293656\n",
            "11 \t [ 1.68739872 -1.63611266]\t 76.12972377472033\t 10.038000709758428\t 2.4722867481605877\t 2.925717876059787\n",
            "12 \t [0.13585851 2.18897566]\t 25.726965126031544\t 10.038000709758428\t 2.295312142649782\t 2.767373963507484\n",
            "13 \t [3.06275583 2.43566643]\t 2256.021382439491\t 10.038000709758428\t 2.573907064561988\t 3.0718449419359724\n",
            "\u001b[1m\u001b[92m14\u001b[0m\t \u001b[1m\u001b[92m[ 2.71488634 -0.03818675]\u001b[0m\t \u001b[1m\u001b[92m1.9591587341306187\u001b[0m\t \u001b[1m\u001b[92m1.9591587341306187\u001b[0m\t \u001b[1m\u001b[92m2.5673194699319315\u001b[0m\t \u001b[1m\u001b[92m2.8081219707548306\u001b[0m\n",
            "15 \t [ 0.20207449 -4.5       ]\t 293.565461601349\t 1.9591587341306187\t 2.295746207391564\t 3.1070032976160724\n",
            "16 \t [-1.48437133 -4.5       ]\t 20211.106307590177\t 1.9591587341306187\t 2.443910548535838\t 2.745633651124878\n",
            "17 \t [-2.82193819 -2.69937961]\t 4097.758719648925\t 1.9591587341306187\t 2.61703915973753\t 2.8869845433320203\n",
            "18 \t [ 0.69920975 -2.84957161]\t 256.8181961612958\t 1.9591587341306187\t 2.638474185838609\t 2.935328758212643\n",
            "19 \t [-4.1716768   2.32080532]\t 2330.22781090328\t 1.9591587341306187\t 2.6893308691082303\t 2.8643701875575056\n",
            "20 \t [0.06521725 0.71569263]\t 13.790534440098186\t 1.9591587341306187\t 2.4562678792599457\t 2.7845055134721908\n"
          ]
        }
      ],
      "source": [
        "### ESTIMATED STP ERM GRADIENTS\n",
        "\n",
        "np.random.seed(run_num_6)\n",
        "surrogate_approx_6 = dtStudentProcess(cov_func, optimize=opt, nu = df)\n",
        "\n",
        "approx_6 = GPGO_multi(surrogate_approx_6, Acquisition_grad(util), objfunc, param)\n",
        "approx_6.run(init_evals=n_init, max_iter=iters)\n"
      ]
    },
    {
      "cell_type": "code",
      "execution_count": 19,
      "metadata": {
        "id": "fKB8MCD_GCVI",
        "colab": {
          "base_uri": "https://localhost:8080/"
        },
        "outputId": "c3ce1ec5-1996-47b1-cbbc-1e746fb98019"
      },
      "outputs": [
        {
          "output_type": "stream",
          "name": "stdout",
          "text": [
            "Evaluation \t Proposed point \t  Current eval. \t  Best eval. \t        Exact ERM: StdDev. x \t Approx ERM: StdDev. x \n",
            "init\t [-3.8132254   2.51926913]\t 3321.1422834954587\t 2.9676923934097053\t    \t    \n",
            "init\t [-0.55431692  2.0111866 ]\t 2.9676923934097053\t 2.9676923934097053\t    \t    \n",
            "init\t [4.30190561 0.34646283]\t 6.32173172477085\t 2.9676923934097053\t    \t    \n",
            "init\t [ 0.01008417 -3.8515398 ]\t 11.971894461559128\t 2.9676923934097053\t    \t    \n",
            "init\t [-2.08404918e+00 -1.05749257e-03]\t 53.820317186435204\t 2.9676923934097053\t    \t    \n",
            "1  \t [1.69837345 4.23621826]\t 17921.966359192833\t 2.9676923934097053\t 3.5046826158446387\t 3.8343908453362485\n",
            "2  \t [ 4.5 -4.5]\t 178131.83203125\t 2.9676923934097053\t 4.270851553628904\t 3.894732920299653\n",
            "3  \t [-4.5 -4.5]\t 181853.61328125\t 2.9676923934097053\t 4.46638245130457\t 4.100522480432749\n",
            "4  \t [-3.5381093  -1.17462676]\t 226.89781537510947\t 2.9676923934097053\t 2.6774183850541804\t 2.6774183850541804\n",
            "5  \t [ 1.18442993 -0.72196906]\t 4.1131287113250234\t 2.9676923934097053\t 2.49627738058536\t 3.3827204106909625\n",
            "6  \t [-1.80238962  4.5       ]\t 26616.813926514224\t 2.9676923934097053\t 3.022548354332952\t 3.9052260860900656\n",
            "7  \t [4.5 4.5]\t 174813.36328125\t 2.9676923934097053\t 2.7691757546514846\t 3.3364660918303706\n",
            "8  \t [-1.11400562 -1.98064048]\t 177.87889717924327\t 2.9676923934097053\t 2.4096965330140163\t 2.5785640125099136\n",
            "9  \t [2.08452951 1.30217572]\t 44.680046006531015\t 2.9676923934097053\t 2.429800229704444\t 3.215736235005922\n",
            "10 \t [ 3.11678379 -1.34811551]\t 122.94091104183804\t 2.9676923934097053\t 2.2804756241986057\t 3.481650298967495\n",
            "11 \t [-4.5  4.5]\t 169680.83203125\t 2.9676923934097053\t 2.123627690402377\t 3.022380347111937\n",
            "12 \t [ 1.54232185 -2.71960626]\t 1061.1888141669199\t 2.9676923934097053\t 2.2721985143119885\t 2.5810620210571127\n",
            "13 \t [-4.5         0.74457689]\t 52.87226979543351\t 2.9676923934097053\t 2.689608792959159\t 2.869676917188894\n",
            "14 \t [-2.40569891  1.71088977]\t 54.97733888981331\t 2.9676923934097053\t 2.022213428341799\t 2.4223837578844734\n",
            "15 \t [-0.26477806  0.21213482]\t 17.519882892694554\t 2.9676923934097053\t 2.4654499177921805\t 2.5667285783068947\n",
            "16 \t [-1.71618589 -4.5       ]\t 26901.166581446538\t 2.9676923934097053\t 2.2643817428002104\t 2.300262762564661\n",
            "17 \t [ 4.5        -1.32722925]\t 266.39053674738136\t 2.9676923934097053\t 2.00842798072342\t 2.114238236014714\n",
            "18 \t [ 1.65441494 -4.5       ]\t 23656.825573088783\t 2.9676923934097053\t 2.6996979961974406\t 2.584831193671007\n",
            "19 \t [0.91766097 2.3410835 ]\t 229.6812503144304\t 2.9676923934097053\t 2.1425439640458173\t 2.19779006373544\n",
            "20 \t [3.6789344  1.82859434]\t 598.5923313848573\t 2.9676923934097053\t 2.3809168799713913\t 2.376792365252801\n"
          ]
        }
      ],
      "source": [
        "### ESTIMATED STP ERM GRADIENTS\n",
        "\n",
        "np.random.seed(run_num_7)\n",
        "surrogate_approx_7 = dtStudentProcess(cov_func, optimize=opt, nu = df)\n",
        "\n",
        "approx_7 = GPGO_multi(surrogate_approx_7, Acquisition_grad(util), objfunc, param)\n",
        "approx_7.run(init_evals=n_init, max_iter=iters)\n"
      ]
    },
    {
      "cell_type": "code",
      "execution_count": 20,
      "metadata": {
        "id": "4unvifF-GCXp",
        "colab": {
          "base_uri": "https://localhost:8080/"
        },
        "outputId": "265a825d-cf41-4fd8-ab89-8734b0ab2676"
      },
      "outputs": [
        {
          "output_type": "stream",
          "name": "stdout",
          "text": [
            "Evaluation \t Proposed point \t  Current eval. \t  Best eval. \t        Exact ERM: StdDev. x \t Approx ERM: StdDev. x \n",
            "init\t [3.36086463 4.21686597]\t 66731.07602386779\t 1.8693348557707412\t    \t    \n",
            "init\t [3.32275086 0.27770122]\t 1.8693348557707412\t 1.8693348557707412\t    \t    \n",
            "init\t [-2.40544505 -4.39741076]\t 45883.361726150484\t 1.8693348557707412\t    \t    \n",
            "init\t [-0.62578064 -0.87883776]\t 26.39306084619828\t 1.8693348557707412\t    \t    \n",
            "init\t [ 0.20407204 -0.19447384]\t 11.649230998110728\t 1.8693348557707412\t    \t    \n",
            "1  \t [ 4.32292391 -3.39832438]\t 31958.979385440227\t 1.8693348557707412\t 2.8442082631668684\t 4.111033786088526\n",
            "2  \t [-4.5  4.5]\t 169680.83203125\t 1.8693348557707412\t 2.9893410121810056\t 3.961905546899795\n",
            "3  \t [-4.5        -0.36307358]\t 150.06266629448282\t 1.8693348557707412\t 2.8277822751203785\t 2.974883062078185\n",
            "4  \t [-0.54911833  2.53301037]\t 34.02276936888314\t 1.8693348557707412\t 3.1941001560095854\t 3.040533426918077\n",
            "5  \t [-2.40382954  0.89557821]\t 21.400230978926796\t 1.8693348557707412\t 3.0407492460595087\t 2.3878431147803143\n",
            "6  \t [ 0.9123563  -2.85634095]\t 463.34362401556297\t 1.8693348557707412\t 3.3136911388739048\t 2.9772217242461587\n",
            "7  \t [-0.34078832  4.5       ]\t 807.6385155045089\t 1.8693348557707412\t 3.1309311377371496\t 2.98358847218587\n",
            "8  \t [1.43899374 1.48720276]\t 55.83354547149288\t 1.8693348557707412\t 3.25114417464911\t 3.2225862529195957\n",
            "9  \t [-4.5        -2.32130359]\t 4597.733190388065\t 1.8693348557707412\t 2.99704647690034\t 2.9642091207864136\n",
            "10 \t [ 2.02743995 -1.17060742]\t 24.46662918426453\t 1.8693348557707412\t 2.9753788039225872\t 2.991191266770023\n",
            "11 \t [ 1.48095721 -4.5       ]\t 18894.870100588592\t 1.8693348557707412\t 3.1571071720718473\t 3.097057290857634\n",
            "12 \t [-2.5317036  -1.12145964]\t 125.93092580278338\t 1.8693348557707412\t 3.2020327252429532\t 3.0760606896178744\n",
            "13 \t [4.5        1.42021033]\t 179.44119236128918\t 1.8693348557707412\t 3.435644940917047\t 3.024211801099996\n",
            "14 \t [-0.64068032 -2.40406497]\t 162.25739320923202\t 1.8693348557707412\t 3.3786065669878327\t 2.8595247933080152\n",
            "15 \t [-4.5         1.25615213]\t 3.4637068751030338\t 1.8693348557707412\t 3.152896084929964\t 2.727989026580267\n",
            "16 \t [ 4.5        -0.72059662]\t 51.64364582536753\t 1.8693348557707412\t 2.9344563069037686\t 2.622383682124044\n",
            "17 \t [-0.78020985  0.99766763]\t 14.253583132538513\t 1.8693348557707412\t 3.3761453940309507\t 2.9041868531518054\n",
            "18 \t [-2.07789501  2.51187167]\t 876.7014197184388\t 1.8693348557707412\t 3.5512787558441907\t 2.909965037711185\n",
            "19 \t [-4.5 -4.5]\t 181853.61328125\t 1.8693348557707412\t 3.2454960746642727\t 3.061008778487809\n",
            "20 \t [2.92327576 1.99264427]\t 660.1748404826974\t 1.8693348557707412\t 2.8453702378613066\t 2.7794477916314806\n"
          ]
        }
      ],
      "source": [
        "### ESTIMATED STP ERM GRADIENTS\n",
        "\n",
        "np.random.seed(run_num_8)\n",
        "surrogate_approx_8 = dtStudentProcess(cov_func, optimize=opt, nu = df)\n",
        "\n",
        "approx_8 = GPGO_multi(surrogate_approx_8, Acquisition_grad(util), objfunc, param)\n",
        "approx_8.run(init_evals=n_init, max_iter=iters)\n"
      ]
    },
    {
      "cell_type": "code",
      "execution_count": 21,
      "metadata": {
        "id": "85OIXcg7GCaJ",
        "colab": {
          "base_uri": "https://localhost:8080/"
        },
        "outputId": "c03723a6-777d-4b2e-a82d-abdd0cf51867"
      },
      "outputs": [
        {
          "output_type": "stream",
          "name": "stdout",
          "text": [
            "Evaluation \t Proposed point \t  Current eval. \t  Best eval. \t        Exact ERM: StdDev. x \t Approx ERM: StdDev. x \n",
            "init\t [-4.40663262  0.01687133]\t 127.7531900635415\t 22.479204656276803\t    \t    \n",
            "init\t [-0.03804036 -3.29553424]\t 22.479204656276803\t 22.479204656276803\t    \t    \n",
            "init\t [-3.22100023 -2.53297192]\t 3783.0538402600087\t 22.479204656276803\t    \t    \n",
            "init\t [-0.73342638 -2.26708948]\t 157.51337782244087\t 22.479204656276803\t    \t    \n",
            "init\t [-3.74346314 -1.39051224]\t 380.7730677650304\t 22.479204656276803\t    \t    \n",
            "1  \t [2.73365793 4.35023323]\t 53339.37070055468\t 22.479204656276803\t 2.3800532542022066\t 2.6980687980269895\n",
            "2  \t [ 4.5 -4.5]\t 178131.83203125\t 22.479204656276803\t 2.6852999120160783\t 3.8631446302654835\n",
            "3  \t [-3.28325797  4.5       ]\t 89827.41320420356\t 22.479204656276803\t 3.2166652398936364\t 3.0442773567116235\n",
            "\u001b[1m\u001b[92m4\u001b[0m\t \u001b[1m\u001b[92m[ 1.87748257 -0.2305786 ]\u001b[0m\t \u001b[1m\u001b[92m1.4047356976500636\u001b[0m\t \u001b[1m\u001b[92m1.4047356976500636\u001b[0m\t \u001b[1m\u001b[92m3.2891064707538256\u001b[0m\t \u001b[1m\u001b[92m2.6226801328600478\u001b[0m\n",
            "5  \t [-0.94352811  0.76409801]\t 19.858320182316625\t 1.4047356976500636\t 3.421745535811133\t 3.0487267471431245\n",
            "6  \t [4.5        0.42498699]\t 5.588069261734234\t 1.4047356976500636\t 3.5598083949294477\t 3.0587110145649863\n",
            "7  \t [-4.5 -4.5]\t 181853.61328125\t 1.4047356976500636\t 3.7163321864628456\t 2.7810387677958293\n",
            "8  \t [-0.14437456  2.82024526]\t 3.3034435743271398\t 1.4047356976500636\t 2.7635264881159545\t 2.6173129555435812\n",
            "9  \t [ 1.76947208 -2.26304312]\t 495.54547463473745\t 1.4047356976500636\t 3.0428773760281476\t 2.6738747205290223\n",
            "\u001b[1m\u001b[92m10\u001b[0m\t \u001b[1m\u001b[92m[-2.87373332  1.25758596]\u001b[0m\t \u001b[1m\u001b[92m0.9593416775706318\u001b[0m\t \u001b[1m\u001b[92m0.9593416775706318\u001b[0m\t \u001b[1m\u001b[92m2.780815156036538\u001b[0m\t \u001b[1m\u001b[92m2.744543066160256\u001b[0m\n",
            "11 \t [1.42985027 1.58051865]\t 71.51075262925508\t 0.9593416775706318\t 2.8609668169277076\t 2.9386889958011633\n",
            "12 \t [-1.99144343 -0.79043544]\t 66.00227676471091\t 0.9593416775706318\t 2.2544891469529142\t 2.42510590886551\n",
            "13 \t [ 0.1798717  -0.70083628]\t 11.764511212733112\t 0.9593416775706318\t 2.7381709410746096\t 2.5804265825521453\n",
            "14 \t [ 3.68834061 -1.23597322]\t 127.56755287734927\t 0.9593416775706318\t 2.5156911840188503\t 2.36605979923471\n",
            "15 \t [ 1.15747578 -4.5       ]\t 11443.020001318739\t 0.9593416775706318\t 2.6430658765653434\t 2.671515164199499\n",
            "16 \t [-1.27783759 -4.5       ]\t 15055.28702483183\t 0.9593416775706318\t 2.5515978852640173\t 2.9833451819131467\n",
            "17 \t [3.28786735 1.55774019]\t 197.69920952677487\t 0.9593416775706318\t 2.691553441749857\t 2.595006508363898\n",
            "18 \t [-0.18099881  4.5       ]\t 189.6222869126245\t 0.9593416775706318\t 2.3935935933574592\t 2.5981422402010317\n",
            "19 \t [-4.5         1.88162668]\t 612.6948767075097\t 0.9593416775706318\t 3.06820353487428\t 2.981796733364046\n",
            "20 \t [-1.61279839  2.28619985]\t 247.20756227166328\t 0.9593416775706318\t 2.707969631555124\t 3.0035483384046584\n"
          ]
        }
      ],
      "source": [
        "### ESTIMATED STP ERM GRADIENTS\n",
        "\n",
        "np.random.seed(run_num_9)\n",
        "surrogate_approx_9 = dtStudentProcess(cov_func, optimize=opt, nu = df)\n",
        "\n",
        "approx_9 = GPGO_multi(surrogate_approx_9, Acquisition_grad(util), objfunc, param)\n",
        "approx_9.run(init_evals=n_init, max_iter=iters)\n"
      ]
    },
    {
      "cell_type": "code",
      "execution_count": 22,
      "metadata": {
        "id": "QQBR-qJPGCcp",
        "colab": {
          "base_uri": "https://localhost:8080/"
        },
        "outputId": "b4d00783-5f12-406c-aff1-080401c0754f"
      },
      "outputs": [
        {
          "output_type": "stream",
          "name": "stdout",
          "text": [
            "Evaluation \t Proposed point \t  Current eval. \t  Best eval. \t        Exact ERM: StdDev. x \t Approx ERM: StdDev. x \n",
            "init\t [ 2.44188579 -4.31323246]\t 40500.708995062356\t 15.229523981513257\t    \t    \n",
            "init\t [1.20283411 2.23923494]\t 281.8768699287936\t 15.229523981513257\t    \t    \n",
            "init\t [-0.01343689 -2.47683019]\t 15.229523981513257\t 15.229523981513257\t    \t    \n",
            "init\t [-2.71743422  2.34477641]\t 985.5637470908332\t 15.229523981513257\t    \t    \n",
            "init\t [-2.97800247 -3.70494167]\t 26177.1461164703\t 15.229523981513257\t    \t    \n",
            "1  \t [4.5 4.5]\t 174813.36328125\t 15.229523981513257\t 2.909996245531442\t 3.6313845287076787\n",
            "2  \t [ 4.5      -0.261072]\t 25.027833066958237\t 15.229523981513257\t 2.3417560179788732\t 3.3238913094677565\n",
            "3  \t [-4.5        -0.28458907]\t 146.0374162212998\t 15.229523981513257\t 2.332958550867203\t 3.648811174468142\n",
            "4  \t [-0.54956341  4.5       ]\t 2269.576097954482\t 15.229523981513257\t 2.7176609994231553\t 3.5993760501480674\n",
            "5  \t [-4.5  4.5]\t 169680.83203125\t 15.229523981513257\t 2.3565336418620433\t 3.0662867280727273\n",
            "6  \t [-1.0856595   0.17713315]\t 30.352924954654448\t 15.229523981513257\t 2.842064924625209\t 3.290572714706581\n",
            "\u001b[1m\u001b[92m7\u001b[0m\t \u001b[1m\u001b[92m[ 1.7674113  -0.40319018]\u001b[0m\t \u001b[1m\u001b[92m2.103366333403962\u001b[0m\t \u001b[1m\u001b[92m2.103366333403962\u001b[0m\t \u001b[1m\u001b[92m2.631060562445973\u001b[0m\t \u001b[1m\u001b[92m2.8708263318010894\u001b[0m\n",
            "8  \t [ 4.5        -2.28658801]\t 3728.9985798254647\t 2.103366333403962\t 3.0470469806619604\t 3.1442426203294445\n",
            "9  \t [3.11969358 1.24285847]\t 50.88466957286124\t 2.103366333403962\t 2.823459163874683\t 2.9585918303598273\n",
            "10 \t [-0.77712491  2.24012208]\t 29.497798344619486\t 2.103366333403962\t 3.0053038522685847\t 3.4553286418880615\n",
            "11 \t [-2.87403277  0.42462079]\t 59.02709142446345\t 2.103366333403962\t 2.6820323788079787\t 3.1351733517242635\n",
            "12 \t [-0.44067426 -4.5       ]\t 1922.3968457531746\t 2.103366333403962\t 2.730839857906584\t 2.2961490941677543\n",
            "13 \t [-1.90315831 -1.40415975]\t 133.05570138017072\t 2.103366333403962\t 2.905975340715894\t 3.272436599225087\n",
            "14 \t [0.50101815 0.6594625 ]\t 10.778172385935987\t 2.103366333403962\t 3.332293246843629\t 3.5043322499858\n",
            "15 \t [1.25626304 4.5       ]\t 14153.708278342121\t 2.103366333403962\t 3.2285265751210983\t 3.5167506470298857\n",
            "16 \t [-4.5        -1.94293162]\t 1932.615978282046\t 2.103366333403962\t 3.188293508355831\t 3.627618886273995\n",
            "17 \t [ 2.34475119 -1.93650738]\t 385.1359482337385\t 2.103366333403962\t 3.2724733651103697\t 3.3009611726761707\n",
            "18 \t [4.5       1.8441372]\t 892.6562727559974\t 2.103366333403962\t 2.8090454178595974\t 3.1637543046937906\n",
            "19 \t [ 0.15941957 -0.9273112 ]\t 11.85353834513893\t 2.103366333403962\t 2.8033399000374475\t 3.2304780245445124\n",
            "20 \t [ 4.5 -4.5]\t 178131.83203125\t 2.103366333403962\t 2.85515406725985\t 3.020292932028265\n"
          ]
        }
      ],
      "source": [
        "### ESTIMATED STP ERM GRADIENTS\n",
        "\n",
        "np.random.seed(run_num_10)\n",
        "surrogate_approx_10 = dtStudentProcess(cov_func, optimize=opt, nu = df)\n",
        "\n",
        "approx_10 = GPGO_multi(surrogate_approx_10, Acquisition_grad(util), objfunc, param)\n",
        "approx_10.run(init_evals=n_init, max_iter=iters)\n"
      ]
    },
    {
      "cell_type": "code",
      "execution_count": 23,
      "metadata": {
        "id": "JS8ejeQ2GCfi",
        "colab": {
          "base_uri": "https://localhost:8080/"
        },
        "outputId": "56745827-26f0-414a-c893-6bf2b8463e0f"
      },
      "outputs": [
        {
          "output_type": "stream",
          "name": "stdout",
          "text": [
            "Evaluation \t Proposed point \t  Current eval. \t  Best eval. \t        Exact ERM: StdDev. x \t Approx ERM: StdDev. x \n",
            "init\t [-2.8775728  -4.32472283]\t 59421.14819100274\t 2.8907294990196846\t    \t    \n",
            "init\t [-0.33103326  2.02440536]\t 2.8907294990196846\t 2.8907294990196846\t    \t    \n",
            "init\t [-0.71816756 -0.13115612]\t 25.271447350027046\t 2.8907294990196846\t    \t    \n",
            "init\t [-4.38497267 -0.11365553]\t 133.2515796886641\t 2.8907294990196846\t    \t    \n",
            "init\t [3.97625987 3.1571558 ]\t 16859.81677190551\t 2.8907294990196846\t    \t    \n",
            "1  \t [ 4.5 -4.5]\t 178131.83203125\t 2.8907294990196846\t 2.723999950131864\t 4.155631722497872\n",
            "2  \t [-4.5  4.5]\t 169680.83203125\t 2.8907294990196846\t 2.0277131377681217\t 3.1271671068424647\n",
            "3  \t [ 2.25744554 -0.50593347]\t 3.9393395763106644\t 2.8907294990196846\t 2.9694457409122172\t 2.6069846580146345\n",
            "4  \t [0.44464045 4.5       ]\t 1949.3202080631693\t 2.8907294990196846\t 2.6723007608862686\t 2.4839683063495883\n",
            "5  \t [ 0.6457431  -2.68580854]\t 150.90511031707655\t 2.8907294990196846\t 2.9088342668587073\t 2.4625280410397212\n",
            "6  \t [ 4.5        -0.24221991]\t 24.43167064197955\t 2.8907294990196846\t 3.114484269251092\t 3.052748699305358\n",
            "\u001b[1m\u001b[92m7\u001b[0m\t \u001b[1m\u001b[92m[-2.55907316  1.27059542]\u001b[0m\t \u001b[1m\u001b[92m1.115599222527595\u001b[0m\t \u001b[1m\u001b[92m1.115599222527595\u001b[0m\t \u001b[1m\u001b[92m3.258483557862687\u001b[0m\t \u001b[1m\u001b[92m2.4116812424704506\u001b[0m\n",
            "8  \t [1.69549124 1.55087748]\t 80.00584738342256\t 1.115599222527595\t 3.2398083852362065\t 2.6542184822359576\n",
            "9  \t [-2.52915603 -1.14960884]\t 131.1233718211214\t 1.115599222527595\t 3.1059555450978342\t 2.443295380186342\n",
            "10 \t [-4.5        -1.97289039]\t 2074.539477191603\t 1.115599222527595\t 3.3910383797842685\t 2.7776391828135347\n",
            "11 \t [ 0.65089224 -4.5       ]\t 3510.4624307495715\t 1.115599222527595\t 2.808269015139137\t 2.9417571907851765\n",
            "12 \t [-1.34277237  3.63942092]\t 3897.5463680200364\t 1.115599222527595\t 2.9968361740680387\t 2.764088651239412\n",
            "13 \t [-0.92042767 -2.00245191]\t 138.04380707970245\t 1.115599222527595\t 2.7787572760543147\t 2.5408824754678294\n",
            "14 \t [ 2.35736855 -2.1560718 ]\t 698.7143484590455\t 1.115599222527595\t 2.2602664474573166\t 2.627502786622321\n",
            "15 \t [1.65325677 3.32301064]\t 4182.985983399214\t 1.115599222527595\t 3.2116592037621516\t 3.0733160718555927\n",
            "16 \t [-4.5        1.4202321]\t 38.81484195000185\t 1.115599222527595\t 2.7716681081759127\t 2.8628000930579165\n",
            "17 \t [ 0.70452712 -0.8715761 ]\t 6.476230282109283\t 1.115599222527595\t 3.0162729046608505\t 2.8542488698514177\n",
            "18 \t [0.58125776 0.67902096]\t 10.429895101022211\t 1.115599222527595\t 2.296089268635603\t 2.707863326587679\n",
            "19 \t [3.2992787  0.91706677]\t 7.979348197980595\t 1.115599222527595\t 3.6701338638230028\t 2.8471349977763185\n",
            "20 \t [ 4.5        -1.92284308]\t 1489.7880638447066\t 1.115599222527595\t 4.093035055248965\t 3.2748918631065496\n"
          ]
        }
      ],
      "source": [
        "### ESTIMATED STP ERM GRADIENTS\n",
        "\n",
        "np.random.seed(run_num_11)\n",
        "surrogate_approx_11 = dtStudentProcess(cov_func, optimize=opt, nu = df)\n",
        "\n",
        "approx_11 = GPGO_multi(surrogate_approx_11, Acquisition_grad(util), objfunc, param)\n",
        "approx_11.run(init_evals=n_init, max_iter=iters)\n"
      ]
    },
    {
      "cell_type": "code",
      "execution_count": 24,
      "metadata": {
        "id": "DXwjUVZ4GCii",
        "colab": {
          "base_uri": "https://localhost:8080/"
        },
        "outputId": "ea41f889-a4d2-4f6e-b732-094f0d6677d6"
      },
      "outputs": [
        {
          "output_type": "stream",
          "name": "stdout",
          "text": [
            "Evaluation \t Proposed point \t  Current eval. \t  Best eval. \t        Exact ERM: StdDev. x \t Approx ERM: StdDev. x \n",
            "init\t [-3.11253442  2.16044727]\t 746.3412720881302\t 48.45196617039589\t    \t    \n",
            "init\t [-2.13016486  0.30365454]\t 48.45196617039589\t 48.45196617039589\t    \t    \n",
            "init\t [-4.36882534  3.76872307]\t 54651.235607336355\t 48.45196617039589\t    \t    \n",
            "init\t [ 3.60643369 -4.19920715]\t 76007.68460600567\t 48.45196617039589\t    \t    \n",
            "init\t [ 4.11254403 -3.26511611]\t 22941.17826205435\t 48.45196617039589\t    \t    \n",
            "1  \t [-0.81260593  2.47399262]\t 82.37094232574817\t 48.45196617039589\t 3.7112251900295616\t 3.392154672672606\n",
            "2  \t [4.5 4.5]\t 174813.36328125\t 48.45196617039589\t 4.187536246785808\t 3.7872156311730096\n",
            "3  \t [-4.5 -4.5]\t 181853.61328125\t 48.45196617039589\t 2.832133711178589\t 2.955912781750184\n",
            "\u001b[1m\u001b[92m4\u001b[0m\t \u001b[1m\u001b[92m[1.7252576  0.22388909]\u001b[0m\t \u001b[1m\u001b[92m1.2442707643956052\u001b[0m\t \u001b[1m\u001b[92m1.2442707643956052\u001b[0m\t \u001b[1m\u001b[92m2.458417474468766\u001b[0m\t \u001b[1m\u001b[92m2.021488844368317\u001b[0m\n",
            "5  \t [-0.36665051 -2.25432314]\t 59.54784943797653\t 1.2442707643956052\t 2.3870576289609677\t 2.3500274285522984\n",
            "6  \t [-4.5        -0.15167427]\t 139.8215434140193\t 1.2442707643956052\t 2.6627225243031\t 2.724682638441781\n",
            "7  \t [4.5        0.06266598]\t 15.882304219630342\t 1.2442707643956052\t 2.484963539520072\t 2.5776304838058834\n",
            "8  \t [0.44204073 4.5       ]\t 1928.2318467636048\t 1.2442707643956052\t 2.6575773495044164\t 2.3866359612921717\n",
            "9  \t [-0.31033079 -4.5       ]\t 998.4786371847528\t 1.2442707643956052\t 2.3836722405017854\t 2.344614406070499\n",
            "10 \t [1.49773079 2.33459922]\t 499.1604858174006\t 1.2442707643956052\t 2.513258426590193\t 2.3692465568637457\n",
            "11 \t [-2.44129267 -1.68796253]\t 352.61334268016213\t 1.2442707643956052\t 2.59512584429672\t 2.5137879936923344\n",
            "12 \t [-0.19848003 -0.0550257 ]\t 16.886391702292546\t 1.2442707643956052\t 2.26854219764808\t 2.450569897194157\n",
            "13 \t [ 1.6156656  -1.73151339]\t 92.93517106490121\t 1.2442707643956052\t 2.3574365024462116\t 2.4959197810398157\n",
            "14 \t [-1.53584663  4.5       ]\t 19200.91802116379\t 1.2442707643956052\t 2.3862848676840245\t 2.272950463516017\n",
            "15 \t [3.25885071 1.38440999]\t 99.2124510996567\t 1.2442707643956052\t 2.743610266870995\t 2.419226405972549\n",
            "16 \t [ 3.27486077 -1.06623237]\t 56.35699959156949\t 1.2442707643956052\t 2.686750633982124\t 2.5490613145496748\n",
            "17 \t [0.24778146 1.3694818 ]\t 17.70072901716028\t 1.2442707643956052\t 2.3756319353163655\t 2.101505721389263\n",
            "18 \t [2.30118109 3.98653995]\t 22754.20391132955\t 1.2442707643956052\t 2.606445807531113\t 2.9098833515949822\n",
            "19 \t [-1.58614806 -3.36014188]\t 4414.441472789001\t 1.2442707643956052\t 2.553852161229303\t 2.4380304559929065\n",
            "20 \t [ 1.08399967 -3.38549257]\t 1837.2739763909697\t 1.2442707643956052\t 2.2190570768600013\t 2.2080286825328486\n"
          ]
        }
      ],
      "source": [
        "### ESTIMATED STP ERM GRADIENTS\n",
        "\n",
        "np.random.seed(run_num_12)\n",
        "surrogate_approx_12 = dtStudentProcess(cov_func, optimize=opt, nu = df)\n",
        "\n",
        "approx_12 = GPGO_multi(surrogate_approx_12, Acquisition_grad(util), objfunc, param)\n",
        "approx_12.run(init_evals=n_init, max_iter=iters)\n"
      ]
    },
    {
      "cell_type": "code",
      "execution_count": 25,
      "metadata": {
        "id": "CphOPndPGClX",
        "colab": {
          "base_uri": "https://localhost:8080/"
        },
        "outputId": "2028b589-b16e-41af-f038-ee3748377a65"
      },
      "outputs": [
        {
          "output_type": "stream",
          "name": "stdout",
          "text": [
            "Evaluation \t Proposed point \t  Current eval. \t  Best eval. \t        Exact ERM: StdDev. x \t Approx ERM: StdDev. x \n",
            "init\t [ 2.4993217  -2.36212902]\t 1312.0597023727128\t 25.917758071459016\t    \t    \n",
            "init\t [2.91850679 4.19174278]\t 48757.43948599124\t 25.917758071459016\t    \t    \n",
            "init\t [ 4.25341003 -0.41895677]\t 25.917758071459016\t 25.917758071459016\t    \t    \n",
            "init\t [0.98138216 2.47973863]\t 337.8750512678324\t 25.917758071459016\t    \t    \n",
            "init\t [1.2745201  1.99816407]\t 177.1374160884886\t 25.917758071459016\t    \t    \n",
            "\u001b[1m\u001b[92m1\u001b[0m\t \u001b[1m\u001b[92m[-1.22912564  1.37062569]\u001b[0m\t \u001b[1m\u001b[92m2.935057020034656\u001b[0m\t \u001b[1m\u001b[92m2.935057020034656\u001b[0m\t \u001b[1m\u001b[92m3.282293957041925\u001b[0m\t \u001b[1m\u001b[92m2.8362337599680076\u001b[0m\n",
            "2  \t [-4.5 -4.5]\t 181853.61328125\t 2.935057020034656\t 2.82693596650446\t 3.562392641948912\n",
            "3  \t [-4.5  4.5]\t 169680.83203125\t 2.935057020034656\t 2.546186608515398\t 3.2774237751701154\n",
            "4  \t [-0.82154792 -1.64677034]\t 64.84242111529271\t 2.935057020034656\t 2.676166651488801\t 3.537902196780388\n",
            "5  \t [-4.13619357e+00  6.21725645e-04]\t 118.23488300687177\t 2.935057020034656\t 3.0954304302900533\t 3.7401628442374504\n",
            "6  \t [ 0.13808373 -4.5       ]\t 126.56644176894045\t 2.935057020034656\t 2.7434245449950163\t 3.5510075963205847\n",
            "7  \t [ 4.5 -4.5]\t 178131.83203125\t 2.935057020034656\t 2.8906032285450256\t 3.6000779128731013\n",
            "8  \t [-0.63355497  4.5       ]\t 3066.868451494173\t 2.935057020034656\t 2.6205493237476483\t 2.4721302849178755\n",
            "9  \t [ 1.27265853 -0.31624905]\t 2.9724434870432357\t 2.935057020034656\t 2.8296090241601313\t 2.679523377285758\n",
            "10 \t [-2.76868591 -1.42194334]\t 245.99216196695818\t 2.935057020034656\t 2.849262140627173\t 2.677233451832084\n",
            "11 \t [3.97239771 1.84882043]\t 728.6546365657673\t 2.935057020034656\t 2.6698046316339794\t 2.7798010807330185\n",
            "12 \t [-3.07763908  1.53206551]\t 32.39653116348236\t 2.935057020034656\t 2.9215536429748843\t 2.5184400757988428\n",
            "13 \t [-1.38743067 -3.44146378]\t 3890.3564610806156\t 2.935057020034656\t 3.060108206624315\t 2.9776090088007834\n",
            "14 \t [ 0.75047049 -2.64990121]\t 193.52438513564113\t 2.935057020034656\t 2.416665894442021\t 2.147345067589327\n",
            "\u001b[1m\u001b[92m15\u001b[0m\t \u001b[1m\u001b[92m[2.70777691 0.61069815]\u001b[0m\t \u001b[1m\u001b[92m0.7886995387776452\u001b[0m\t \u001b[1m\u001b[92m0.7886995387776452\u001b[0m\t \u001b[1m\u001b[92m2.754857704361025\u001b[0m\t \u001b[1m\u001b[92m2.7633555830856307\u001b[0m\n",
            "16 \t [-0.42638848 -0.01062018]\t 20.20221227478092\t 0.7886995387776452\t 2.8758886284202263\t 2.659190028236731\n",
            "17 \t [-1.59974881  2.98411369]\t 1576.6888209700232\t 0.7886995387776452\t 2.867451014861923\t 3.178429561329654\n",
            "18 \t [ 2.78744353 -0.84281271]\t 18.660243098852412\t 0.7886995387776452\t 2.8645302811824367\t 2.6808675778228777\n",
            "19 \t [-2.20835315  0.03283023]\t 56.435664834575334\t 0.7886995387776452\t 2.704444393320417\t 2.8043957648892626\n",
            "20 \t [-4.5        -1.96053945]\t 2014.8824198329548\t 0.7886995387776452\t 3.3871841848936177\t 2.8701233087699958\n"
          ]
        }
      ],
      "source": [
        "### ESTIMATED STP ERM GRADIENTS\n",
        "\n",
        "np.random.seed(run_num_13)\n",
        "surrogate_approx_13 = dtStudentProcess(cov_func, optimize=opt, nu = df)\n",
        "\n",
        "approx_13 = GPGO_multi(surrogate_approx_13, Acquisition_grad(util), objfunc, param)\n",
        "approx_13.run(init_evals=n_init, max_iter=iters)\n"
      ]
    },
    {
      "cell_type": "code",
      "execution_count": 26,
      "metadata": {
        "id": "ojHTeARNGCoi",
        "colab": {
          "base_uri": "https://localhost:8080/"
        },
        "outputId": "4901c1c5-622f-492d-ed06-77b990b120e3"
      },
      "outputs": [
        {
          "output_type": "stream",
          "name": "stdout",
          "text": [
            "Evaluation \t Proposed point \t  Current eval. \t  Best eval. \t        Exact ERM: StdDev. x \t Approx ERM: StdDev. x \n",
            "init\t [0.12549009 2.45848547]\t 30.19066754742359\t 11.367015527968295\t    \t    \n",
            "init\t [ 3.33384917 -4.42757746]\t 88548.3950659154\t 11.367015527968295\t    \t    \n",
            "init\t [-1.71237667  4.11843365]\t 13933.414320383567\t 11.367015527968295\t    \t    \n",
            "init\t [ 0.11805041 -1.63544018]\t 11.367015527968295\t 11.367015527968295\t    \t    \n",
            "init\t [ 0.35279944 -2.50870552]\t 27.90050047415725\t 11.367015527968295\t    \t    \n",
            "1  \t [2.9150016  1.63283164]\t 215.45461148049975\t 11.367015527968295\t 3.4435364426803288\t 3.4805081088207905\n",
            "2  \t [-2.43835119 -4.46838913]\t 51710.28114780064\t 11.367015527968295\t 4.045650593433308\t 4.009581453362517\n",
            "3  \t [-4.5         0.20358194]\t 119.15131912403287\t 11.367015527968295\t 3.5319486379117246\t 3.643177954631871\n",
            "4  \t [4.5 4.5]\t 174813.36328125\t 11.367015527968295\t 2.2278406118668324\t 3.729832264847129\n",
            "5  \t [ 4.5        -0.45733773]\t 32.61159873276322\t 11.367015527968295\t 2.5778402410867325\t 3.3485186853069173\n",
            "6  \t [-1.75092994  0.32569017]\t 40.36477439488989\t 11.367015527968295\t 2.8793047744191096\t 3.154975599081866\n",
            "\u001b[1m\u001b[92m7\u001b[0m\t \u001b[1m\u001b[92m[ 2.10119416 -0.54199551]\u001b[0m\t \u001b[1m\u001b[92m3.6503650695493524\u001b[0m\t \u001b[1m\u001b[92m3.6503650695493524\u001b[0m\t \u001b[1m\u001b[92m2.5704172036102424\u001b[0m\t \u001b[1m\u001b[92m3.0581988895471803\u001b[0m\n",
            "8  \t [-4.5         2.71827809]\t 7673.277454704002\t 3.6503650695493524\t 2.9149539174646226\t 3.790733746403788\n",
            "9  \t [0.96292452 4.5       ]\t 8449.682206085237\t 3.6503650695493524\t 2.712442022236956\t 3.0180129287593904\n",
            "10 \t [-4.5        -1.93485787]\t 1895.9622737868804\t 3.6503650695493524\t 2.436047283341934\t 2.903504605185134\n",
            "11 \t [0.38674885 0.52987237]\t 10.896375126984728\t 3.6503650695493524\t 2.87147630425987\t 3.4007121150387514\n",
            "12 \t [-2.25490516 -1.43514675]\t 182.18474589655912\t 3.6503650695493524\t 2.9989342196140063\t 3.3968855502274122\n",
            "13 \t [ 0.3431394 -4.5      ]\t 918.7984534068102\t 3.6503650695493524\t 2.98836057664963\t 3.5605050400949145\n",
            "14 \t [-2.52507945  1.79143929]\t 99.06964195471731\t 3.6503650695493524\t 3.1515684779484143\t 3.4650601027953827\n",
            "15 \t [-4.5  4.5]\t 169680.83203125\t 3.6503650695493524\t 2.620500454213667\t 3.3148468279316643\n",
            "16 \t [4.5        1.20068601]\t 58.70994119792666\t 3.6503650695493524\t 3.203471451082948\t 3.1168253640407184\n",
            "17 \t [ 3.36278856 -1.62890276]\t 348.1021908959931\t 3.6503650695493524\t 3.2425047258282653\t 2.9666396048521135\n",
            "18 \t [ 1.90693525 -2.71723085]\t 1648.445968233336\t 3.6503650695493524\t 2.9112075828286503\t 2.93185730696951\n",
            "19 \t [1.42383882 1.70023092]\t 97.88921597602513\t 3.6503650695493524\t 3.1860679912034655\t 2.8940062313433166\n",
            "20 \t [2.30048557 3.07793705]\t 5055.7130052512\t 3.6503650695493524\t 3.1797434460396077\t 3.0221654855593956\n"
          ]
        }
      ],
      "source": [
        "### ESTIMATED STP ERM GRADIENTS\n",
        "\n",
        "np.random.seed(run_num_14)\n",
        "surrogate_approx_14 = dtStudentProcess(cov_func, optimize=opt, nu = df)\n",
        "\n",
        "approx_14 = GPGO_multi(surrogate_approx_14, Acquisition_grad(util), objfunc, param)\n",
        "approx_14.run(init_evals=n_init, max_iter=iters)\n"
      ]
    },
    {
      "cell_type": "code",
      "execution_count": 27,
      "metadata": {
        "id": "vCJzn4vWGCs3",
        "colab": {
          "base_uri": "https://localhost:8080/"
        },
        "outputId": "bd584641-a9ef-4825-f3f2-60e06a709963"
      },
      "outputs": [
        {
          "output_type": "stream",
          "name": "stdout",
          "text": [
            "Evaluation \t Proposed point \t  Current eval. \t  Best eval. \t        Exact ERM: StdDev. x \t Approx ERM: StdDev. x \n",
            "init\t [ 3.13935928 -2.88993668]\t 6575.875821208801\t 47.082686538130915\t    \t    \n",
            "init\t [-4.01073107 -1.24615399]\t 317.710908287677\t 47.082686538130915\t    \t    \n",
            "init\t [-2.02139164  0.27000202]\t 47.082686538130915\t 47.082686538130915\t    \t    \n",
            "init\t [-1.74672976 -1.75973077]\t 234.8792968363759\t 47.082686538130915\t    \t    \n",
            "init\t [-3.49432851 -2.25090888]\t 2421.671033348018\t 47.082686538130915\t    \t    \n",
            "\u001b[1m\u001b[92m1\u001b[0m\t \u001b[1m\u001b[92m[-4.5         0.87002356]\u001b[0m\t \u001b[1m\u001b[92m32.84559826399107\u001b[0m\t \u001b[1m\u001b[92m32.84559826399107\u001b[0m\t \u001b[1m\u001b[92m3.4019447496601622\u001b[0m\t \u001b[1m\u001b[92m3.932382036667184\u001b[0m\n",
            "2  \t [4.5 4.5]\t 174813.36328125\t 32.84559826399107\t 2.7215243238127016\t 3.122227660366636\n",
            "3  \t [-1.70707472  4.5       ]\t 23826.102052602702\t 32.84559826399107\t 3.1420960121669554\t 3.464748373177959\n",
            "\u001b[1m\u001b[92m4\u001b[0m\t \u001b[1m\u001b[92m[1.17685241 0.80977259]\u001b[0m\t \u001b[1m\u001b[92m9.329499553259952\u001b[0m\t \u001b[1m\u001b[92m9.329499553259952\u001b[0m\t \u001b[1m\u001b[92m2.906940912233105\u001b[0m\t \u001b[1m\u001b[92m3.5863998432524187\u001b[0m\n",
            "5  \t [-0.45478849 -4.5       ]\t 2040.5647143993767\t 9.329499553259952\t 2.961204106220246\t 3.058366659100595\n",
            "6  \t [4.5        0.19220677]\t 12.29737520966343\t 9.329499553259952\t 3.195360710803022\t 3.864216546403494\n",
            "7  \t [-4.5 -4.5]\t 181853.61328125\t 9.329499553259952\t 3.0082175462687575\t 4.292092151171896\n",
            "8  \t [ 0.63094988 -1.55922899]\t 10.112857022244876\t 9.329499553259952\t 2.4023545466382954\t 3.3423310489675058\n",
            "9  \t [-4.5  4.5]\t 169680.83203125\t 9.329499553259952\t 2.159529540097953\t 3.407422015048863\n",
            "10 \t [1.01624735 3.10454728]\t 1159.9707729546878\t 9.329499553259952\t 2.4256870927540195\t 3.127887046811108\n",
            "11 \t [ 4.5 -4.5]\t 178131.83203125\t 9.329499553259952\t 1.9248308569848689\t 2.917371281165336\n",
            "12 \t [ 2.69128931 -0.87609397]\t 18.754246639697804\t 9.329499553259952\t 2.2226740036748196\t 2.082648511654348\n",
            "\u001b[1m\u001b[92m13\u001b[0m\t \u001b[1m\u001b[92m[-0.77147259  1.82852968]\u001b[0m\t \u001b[1m\u001b[92m2.679059638583067\u001b[0m\t \u001b[1m\u001b[92m2.679059638583067\u001b[0m\t \u001b[1m\u001b[92m2.530168132576347\u001b[0m\t \u001b[1m\u001b[92m2.2438565590987647\u001b[0m\n",
            "14 \t [ 1.23696395 -3.47875653]\t 2840.9278660623727\t 2.679059638583067\t 2.1974692706556542\t 2.2844109656010265\n",
            "15 \t [2.97916302 1.50147758]\t 139.48795118857413\t 2.679059638583067\t 1.968998524533954\t 2.23822423596307\n",
            "16 \t [-2.76507909  1.84233686]\t 161.4125792307051\t 2.679059638583067\t 2.5388133008851743\t 2.6739981639773505\n",
            "17 \t [-0.35797587 -0.13843466]\t 19.308292878774036\t 2.679059638583067\t 2.2811870853031073\t 2.4589153223503724\n",
            "18 \t [4.5       2.1248201]\t 2074.7197490096614\t 2.679059638583067\t 2.481007758457734\t 2.6882883235091715\n",
            "19 \t [-3.6858111   2.14106255]\t 1019.385975007073\t 2.679059638583067\t 2.7412796066494405\t 2.7401425147703566\n",
            "20 \t [-3.97940187  1.28567587]\t 3.6851103500933244\t 2.679059638583067\t 2.485906690984462\t 2.4117292748823425\n"
          ]
        }
      ],
      "source": [
        "### ESTIMATED STP ERM GRADIENTS\n",
        "\n",
        "np.random.seed(run_num_15)\n",
        "surrogate_approx_15 = dtStudentProcess(cov_func, optimize=opt, nu = df)\n",
        "\n",
        "approx_15 = GPGO_multi(surrogate_approx_15, Acquisition_grad(util), objfunc, param)\n",
        "approx_15.run(init_evals=n_init, max_iter=iters)\n"
      ]
    },
    {
      "cell_type": "code",
      "execution_count": 28,
      "metadata": {
        "id": "bGGkhp-kGCw6",
        "colab": {
          "base_uri": "https://localhost:8080/"
        },
        "outputId": "73b1550c-99ab-41be-f8a3-5ec2eeb5beb6"
      },
      "outputs": [
        {
          "output_type": "stream",
          "name": "stdout",
          "text": [
            "Evaluation \t Proposed point \t  Current eval. \t  Best eval. \t        Exact ERM: StdDev. x \t Approx ERM: StdDev. x \n",
            "init\t [-2.49038029  0.20847007]\t 59.442894178636664\t 59.442894178636664\t    \t    \n",
            "init\t [ 0.45631311 -4.08958245]\t 932.9374489641153\t 59.442894178636664\t    \t    \n",
            "init\t [-1.25344048 -2.49227152]\t 594.9494957841517\t 59.442894178636664\t    \t    \n",
            "init\t [ 1.69853546 -3.02641717]\t 2418.389440420566\t 59.442894178636664\t    \t    \n",
            "init\t [-3.8670762   3.96909774]\t 58473.38862292419\t 59.442894178636664\t    \t    \n",
            "1  \t [4.5 4.5]\t 174813.36328125\t 59.442894178636664\t 4.035917866347818\t 4.058336365264469\n",
            "2  \t [-4.5 -4.5]\t 181853.61328125\t 59.442894178636664\t 3.4633051379895483\t 3.392246761846429\n",
            "\u001b[1m\u001b[92m3\u001b[0m\t \u001b[1m\u001b[92m[0.77220545 1.13630284]\u001b[0m\t \u001b[1m\u001b[92m17.616480854174483\u001b[0m\t \u001b[1m\u001b[92m17.616480854174483\u001b[0m\t \u001b[1m\u001b[92m2.3796321688392696\u001b[0m\t \u001b[1m\u001b[92m2.750719686181205\u001b[0m\n",
            "4  \t [ 4.5        -0.44265076]\t 31.923090108253806\t 17.616480854174483\t 2.3922852964289985\t 3.4988607428614364\n",
            "5  \t [ 4.5 -4.5]\t 178131.83203125\t 17.616480854174483\t 1.9296273058909446\t 2.8723292853632314\n",
            "6  \t [0.15918665 4.5       ]\t 320.5126091386101\t 17.616480854174483\t 2.7724968087191857\t 3.288255873653411\n",
            "7  \t [-4.5        -0.61809084]\t 169.4592371618844\t 17.616480854174483\t 2.1139686638058297\t 2.3210471926049303\n",
            "\u001b[1m\u001b[92m8\u001b[0m\t \u001b[1m\u001b[92m[ 2.17911952 -0.63824518]\u001b[0m\t \u001b[1m\u001b[92m5.218018551786132\u001b[0m\t \u001b[1m\u001b[92m5.218018551786132\u001b[0m\t \u001b[1m\u001b[92m2.1151606549395674\u001b[0m\t \u001b[1m\u001b[92m2.1889205273579155\u001b[0m\n",
            "9  \t [-1.06278275  2.28432129]\t 85.65279516809184\t 5.218018551786132\t 2.368650819802865\t 2.4519701654972548\n",
            "10 \t [-0.23311255 -0.6751332 ]\t 17.807436583045703\t 5.218018551786132\t 2.3576329647174616\t 2.496979161827409\n",
            "11 \t [3.04146124 1.3250146 ]\t 71.21996855859092\t 5.218018551786132\t 2.2999895034993756\t 2.4526559000857167\n",
            "12 \t [1.42830459 2.9704226 ]\t 1691.2159066435113\t 5.218018551786132\t 2.534780383086626\t 2.9424859891931563\n",
            "13 \t [-1.27678795 -4.5       ]\t 15031.020896855829\t 5.218018551786132\t 2.189135127974188\t 2.512064220471061\n",
            "14 \t [-3.11348927 -1.8768037 ]\t 833.5542093412872\t 5.218018551786132\t 1.9345251104838173\t 2.08071454499889\n",
            "\u001b[1m\u001b[92m15\u001b[0m\t \u001b[1m\u001b[92m[-4.5         1.19766813]\u001b[0m\t \u001b[1m\u001b[92m0.8267624043173019\u001b[0m\t \u001b[1m\u001b[92m0.8267624043173019\u001b[0m\t \u001b[1m\u001b[92m2.427634911072476\u001b[0m\t \u001b[1m\u001b[92m2.3181487843671453\u001b[0m\n",
            "16 \t [-1.37579029  4.5       ]\t 15328.491695256445\t 0.8267624043173019\t 1.9141871283227467\t 1.9611081981902885\n",
            "17 \t [ 3.42337016 -1.81040654]\t 612.5992702604308\t 0.8267624043173019\t 2.5321566454540894\t 2.615576016432457\n",
            "18 \t [4.5        1.31831871]\t 110.78868891764233\t 0.8267624043173019\t 2.312842593065881\t 1.978258841366814\n",
            "19 \t [-2.77221633  1.82787326]\t 151.62313242132842\t 0.8267624043173019\t 2.0701948308938225\t 1.95564965126518\n",
            "20 \t [-0.95119738  0.73344345]\t 20.554187637123434\t 0.8267624043173019\t 2.5233198407748287\t 2.239545419002749\n"
          ]
        }
      ],
      "source": [
        "### ESTIMATED STP ERM GRADIENTS\n",
        "\n",
        "np.random.seed(run_num_16)\n",
        "surrogate_approx_16 = dtStudentProcess(cov_func, optimize=opt, nu = df)\n",
        "\n",
        "approx_16 = GPGO_multi(surrogate_approx_16, Acquisition_grad(util), objfunc, param)\n",
        "approx_16.run(init_evals=n_init, max_iter=iters)\n"
      ]
    },
    {
      "cell_type": "code",
      "execution_count": 29,
      "metadata": {
        "id": "Yrs2mp7hGC1Z",
        "colab": {
          "base_uri": "https://localhost:8080/"
        },
        "outputId": "564f81cb-3120-4cf4-bf14-cc84e0c5fe59"
      },
      "outputs": [
        {
          "output_type": "stream",
          "name": "stdout",
          "text": [
            "Evaluation \t Proposed point \t  Current eval. \t  Best eval. \t        Exact ERM: StdDev. x \t Approx ERM: StdDev. x \n",
            "init\t [-1.84801498  0.2752808 ]\t 43.39160388622011\t 6.891623366037299\t    \t    \n",
            "init\t [-2.77631292 -3.88889678]\t 30048.58268621874\t 6.891623366037299\t    \t    \n",
            "init\t [2.58286914 1.4070017 ]\t 81.72560623465196\t 6.891623366037299\t    \t    \n",
            "init\t [1.23768806 0.68042604]\t 6.891623366037299\t 6.891623366037299\t    \t    \n",
            "init\t [-4.14843375 -1.27967756]\t 359.4343933746243\t 6.891623366037299\t    \t    \n",
            "1  \t [ 4.5 -4.5]\t 178131.83203125\t 6.891623366037299\t 2.6989897375605354\t 4.275542575222288\n",
            "2  \t [-4.5  4.5]\t 169680.83203125\t 6.891623366037299\t 2.8100090062982117\t 3.7331160253208706\n",
            "3  \t [4.5 4.5]\t 174813.36328125\t 6.891623366037299\t 3.4526998028649927\t 2.6158955374672535\n",
            "4  \t [-0.02595661  3.57067596]\t 7.9961440411586056\t 6.891623366037299\t 3.048280611111689\t 2.809314499413772\n",
            "5  \t [ 0.75936332 -2.13245316]\t 55.439765203477705\t 6.891623366037299\t 2.7478079930667323\t 2.8305285221354692\n",
            "6  \t [ 4.5       -0.3181039]\t 26.938449044009648\t 6.891623366037299\t 2.7623902724329215\t 2.633150623947261\n",
            "7  \t [ 0.5530064 -4.5      ]\t 2503.5584277950657\t 6.891623366037299\t 2.8111563839709035\t 2.60830812044261\n",
            "8  \t [-4.5         0.88113475]\t 31.117818436523077\t 6.891623366037299\t 3.002181370372407\t 2.7310971444916072\n",
            "9  \t [ 2.61180189 -1.18643051]\t 47.62564463657475\t 6.891623366037299\t 3.29311100195876\t 2.9271749955591013\n",
            "10 \t [-1.68570174  2.31359337]\t 300.79209028944075\t 6.891623366037299\t 2.5656645752594613\t 2.1548386508630246\n",
            "11 \t [-1.14378754 -1.54591774]\t 83.81437472722456\t 6.891623366037299\t 3.1034962029921473\t 2.845216964538976\n",
            "12 \t [1.56920716 2.92573983]\t 1848.1803135295124\t 6.891623366037299\t 3.185277867739211\t 2.9174308230478463\n",
            "13 \t [4.5        1.35809621]\t 134.58761353742653\t 6.891623366037299\t 3.0163069445343202\t 2.6949041215074527\n",
            "14 \t [-0.24562521  1.4004507 ]\t 10.842666037941605\t 6.891623366037299\t 2.6972559718933895\t 2.762210237262133\n",
            "15 \t [-1.33695813  4.5       ]\t 14454.669588386081\t 6.891623366037299\t 2.8536035845159837\t 3.038129898293612\n",
            "16 \t [ 0.09171043 -0.4637587 ]\t 12.98033378521195\t 6.891623366037299\t 2.9867309147176884\t 2.7372580085188636\n",
            "17 \t [ 2.24732031 -3.00258668]\t 4121.83990638039\t 6.891623366037299\t 2.7676210748303243\t 2.523202491744776\n",
            "18 \t [-3.25784778  1.90240435]\t 315.3718074286852\t 6.891623366037299\t 2.8040091807065943\t 2.2873352626584857\n",
            "19 \t [ 4.39464894 -2.0495349 ]\t 1976.3473112370198\t 6.891623366037299\t 2.9687189070995412\t 2.5971058421308926\n",
            "20 \t [-0.31639177 -3.92438789]\t 501.47872433617835\t 6.891623366037299\t 2.779071111512355\t 2.7425918681658166\n"
          ]
        }
      ],
      "source": [
        "### ESTIMATED STP ERM GRADIENTS\n",
        "\n",
        "np.random.seed(run_num_17)\n",
        "surrogate_approx_17 = dtStudentProcess(cov_func, optimize=opt, nu = df)\n",
        "\n",
        "approx_17 = GPGO_multi(surrogate_approx_17, Acquisition_grad(util), objfunc, param)\n",
        "approx_17.run(init_evals=n_init, max_iter=iters)\n"
      ]
    },
    {
      "cell_type": "code",
      "execution_count": 30,
      "metadata": {
        "id": "f0HIEP3PIUEa",
        "colab": {
          "base_uri": "https://localhost:8080/"
        },
        "outputId": "45837d43-4492-4b40-e008-5cd6d73c44f5"
      },
      "outputs": [
        {
          "output_type": "stream",
          "name": "stdout",
          "text": [
            "Evaluation \t Proposed point \t  Current eval. \t  Best eval. \t        Exact ERM: StdDev. x \t Approx ERM: StdDev. x \n",
            "init\t [1.35336818 0.04908036]\t 2.472652645883837\t 2.472652645883837\t    \t    \n",
            "init\t [ 3.40741324 -2.86343797]\t 7379.017314590048\t 2.472652645883837\t    \t    \n",
            "init\t [3.17009762 2.25122657]\t 1528.3101419799655\t 2.472652645883837\t    \t    \n",
            "init\t [1.49491501 4.39105903]\t 17224.913295283764\t 2.472652645883837\t    \t    \n",
            "init\t [-2.1872842  -4.24524667]\t 31030.348242396165\t 2.472652645883837\t    \t    \n",
            "1  \t [-4.5         1.94281173]\t 781.7632475044328\t 2.472652645883837\t 3.282949780319489\t 4.053218197663953\n",
            "2  \t [-1.44931987  0.3398436 ]\t 34.65008384738218\t 2.472652645883837\t 3.4128699336821815\t 4.191653264890672\n",
            "3  \t [-4.5  4.5]\t 169680.83203125\t 2.472652645883837\t 3.6425264848064933\t 4.2420280575887\n",
            "4  \t [-4.5       -0.7025804]\t 179.8845858584971\t 2.472652645883837\t 4.2805827790000635\t 3.98378694083246\n",
            "5  \t [ 4.5        -0.00502121]\t 17.713699841684186\t 2.472652645883837\t 3.803999924926429\t 3.7167633389365777\n",
            "6  \t [ 0.30080063 -2.01588254]\t 10.430002527854368\t 2.472652645883837\t 4.256576682287753\t 3.691384643462093\n",
            "7  \t [4.5 4.5]\t 174813.36328125\t 2.472652645883837\t 3.897114317029974\t 3.7907565947383652\n",
            "8  \t [-1.07500461  2.63641211]\t 273.2413554941378\t 2.472652645883837\t 2.545255971274513\t 2.1998644645855236\n",
            "9  \t [ 4.5 -4.5]\t 178131.83203125\t 2.472652645883837\t 2.82330388759759\t 3.5129811346018864\n",
            "10 \t [ 0.89852038 -4.5       ]\t 6818.1260065206925\t 2.472652645883837\t 3.0365915476937655\t 2.8296717760024235\n",
            "11 \t [0.86547886 1.89141556]\t 83.23617032800817\t 2.472652645883837\t 3.1316010970653805\t 2.714904467521105\n",
            "12 \t [ 2.77012085 -1.2389517 ]\t 65.34232171825951\t 2.472652645883837\t 2.864471427971441\t 2.8083818776315197\n",
            "13 \t [-2.48017181 -1.3928867 ]\t 194.70079336845265\t 2.472652645883837\t 2.893338266430999\t 2.717721526401996\n",
            "14 \t [-4.5 -4.5]\t 181853.61328125\t 2.472652645883837\t 2.4012263196858954\t 2.5487952733993726\n",
            "15 \t [-1.67832646  4.5       ]\t 23014.72061738155\t 2.472652645883837\t 2.5047149998974017\t 2.310623158273909\n",
            "16 \t [-3.14942531  0.86987713]\t 26.445786109055295\t 2.472652645883837\t 2.0580330971735035\t 2.156230624613832\n",
            "17 \t [-2.77784647  2.48520813]\t 1540.4578449648943\t 2.472652645883837\t 3.003349559424459\t 2.4520234673528414\n",
            "\u001b[1m\u001b[92m18\u001b[0m\t \u001b[1m\u001b[92m[2.88215433 0.37962559]\u001b[0m\t \u001b[1m\u001b[92m0.1398454618720965\u001b[0m\t \u001b[1m\u001b[92m0.1398454618720965\u001b[0m\t \u001b[1m\u001b[92m2.490437676034864\u001b[0m\t \u001b[1m\u001b[92m2.495482905436366\u001b[0m\n",
            "19 \t [-0.16947506 -0.51130094]\t 16.661628082348116\t 0.1398454618720965\t 2.0786388079057416\t 2.095188867036181\n",
            "20 \t [-1.1912137  -2.26142799]\t 345.5277026288005\t 0.1398454618720965\t 2.2523049477754427\t 2.1896761612267266\n"
          ]
        }
      ],
      "source": [
        "### ESTIMATED STP ERM GRADIENTS\n",
        "\n",
        "np.random.seed(run_num_18)\n",
        "surrogate_approx_18 = dtStudentProcess(cov_func, optimize=opt, nu = df)\n",
        "\n",
        "approx_18 = GPGO_multi(surrogate_approx_18, Acquisition_grad(util), objfunc, param)\n",
        "approx_18.run(init_evals=n_init, max_iter=iters)\n"
      ]
    },
    {
      "cell_type": "code",
      "execution_count": 31,
      "metadata": {
        "id": "S3mxRQDLIUPC",
        "colab": {
          "base_uri": "https://localhost:8080/"
        },
        "outputId": "fddf1773-5eb5-4e5c-bd0f-52ca23bbd8b2"
      },
      "outputs": [
        {
          "output_type": "stream",
          "name": "stdout",
          "text": [
            "Evaluation \t Proposed point \t  Current eval. \t  Best eval. \t        Exact ERM: StdDev. x \t Approx ERM: StdDev. x \n",
            "init\t [-3.62219758  2.35124745]\t 1879.409018573639\t 63.544086067314716\t    \t    \n",
            "init\t [-2.27755824 -3.25681481]\t 7496.243410303341\t 63.544086067314716\t    \t    \n",
            "init\t [-1.51698093 -3.75300391]\t 7497.407542620609\t 63.544086067314716\t    \t    \n",
            "init\t [1.54779373 2.75934418]\t 1302.4341957421634\t 63.544086067314716\t    \t    \n",
            "init\t [4.34467723 1.22094661]\t 63.544086067314716\t 63.544086067314716\t    \t    \n",
            "1  \t [ 4.5 -4.5]\t 178131.83203125\t 63.544086067314716\t 3.226839509690986\t 4.287686750313873\n",
            "2  \t [4.5 4.5]\t 174813.36328125\t 63.544086067314716\t 3.062929813126575\t 3.825396691120147\n",
            "\u001b[1m\u001b[92m3\u001b[0m\t \u001b[1m\u001b[92m[ 1.4432163  -0.73526939]\u001b[0m\t \u001b[1m\u001b[92m3.8971679032122344\u001b[0m\t \u001b[1m\u001b[92m3.8971679032122344\u001b[0m\t \u001b[1m\u001b[92m2.604764651190597\u001b[0m\t \u001b[1m\u001b[92m2.983840508614179\u001b[0m\n",
            "4  \t [-1.15853633  0.3944711 ]\t 29.050460524004727\t 3.8971679032122344\t 3.011683144611676\t 3.3794565280812443\n",
            "5  \t [-1.11887015  4.5       ]\t 10023.701056841648\t 3.8971679032122344\t 3.0326998692254836\t 3.640037034812989\n",
            "6  \t [-4.5  4.5]\t 169680.83203125\t 3.8971679032122344\t 2.879154324977774\t 3.2926483285554413\n",
            "7  \t [-4.22929266  0.15488223]\t 113.19100298990693\t 3.8971679032122344\t 3.0287355097734694\t 3.0086517359786433\n",
            "8  \t [-4.5 -4.5]\t 181853.61328125\t 3.8971679032122344\t 2.107630668912268\t 2.42263239689562\n",
            "9  \t [ 1.03523506 -3.09876446]\t 985.4304179454117\t 3.8971679032122344\t 2.4099635120583045\t 2.2490551175445552\n",
            "10 \t [ 3.86542352 -0.91525279]\t 55.15518145823092\t 3.8971679032122344\t 2.283819878086634\t 2.378343781960546\n",
            "11 \t [-2.57319595 -1.09900874]\t 124.76680116992614\t 3.8971679032122344\t 1.8631568431064152\t 2.124351923668394\n",
            "12 \t [-1.57544135  2.23565209]\t 196.25183607728135\t 3.8971679032122344\t 2.162737221864884\t 2.1337371341805094\n",
            "13 \t [-0.45870852 -1.54651233]\t 32.56810140707118\t 3.8971679032122344\t 2.697269582744048\t 2.3677879059972606\n",
            "14 \t [2.3785894  0.94301586]\t 10.83103803654737\t 3.8971679032122344\t 2.2134844000335874\t 2.3122936151551134\n",
            "15 \t [ 0.36198307 -4.5       ]\t 1029.0994415822597\t 3.8971679032122344\t 2.545153098607528\t 2.6250296978923338\n",
            "16 \t [0.4246199  1.22236753]\t 17.449108722283952\t 3.8971679032122344\t 2.1834817963944553\t 2.206951283868063\n",
            "17 \t [ 2.73672179 -2.26492733]\t 1257.1497958827822\t 3.8971679032122344\t 2.4386347689864283\t 2.1698804926761515\n",
            "18 \t [-0.02553801  2.5644067 ]\t 11.501499547155772\t 3.8971679032122344\t 2.6064405900696017\t 2.6621383322810663\n",
            "19 \t [ 2.48581805 -3.5898806 ]\t 14303.117535764253\t 3.8971679032122344\t 2.2321483118806955\t 2.227814287098061\n",
            "20 \t [-4.27896529 -0.60082601]\t 155.9045774307382\t 3.8971679032122344\t 2.4512996722092435\t 2.4501034673358695\n"
          ]
        }
      ],
      "source": [
        "### ESTIMATED STP ERM GRADIENTS\n",
        "\n",
        "np.random.seed(run_num_19)\n",
        "surrogate_approx_19 = dtStudentProcess(cov_func, optimize=opt, nu = df)\n",
        "\n",
        "approx_19 = GPGO_multi(surrogate_approx_19, Acquisition_grad(util), objfunc, param)\n",
        "approx_19.run(init_evals=n_init, max_iter=iters)\n"
      ]
    },
    {
      "cell_type": "code",
      "execution_count": 32,
      "metadata": {
        "id": "Aawd59dRIUYn",
        "colab": {
          "base_uri": "https://localhost:8080/"
        },
        "outputId": "a64ea0c0-7c75-4f55-bcfc-9e7ce845cb8a"
      },
      "outputs": [
        {
          "output_type": "stream",
          "name": "stdout",
          "text": [
            "Evaluation \t Proposed point \t  Current eval. \t  Best eval. \t        Exact ERM: StdDev. x \t Approx ERM: StdDev. x \n",
            "init\t [0.79317721 3.57942355]\t 1607.3829986954497\t 30.55204392634667\t    \t    \n",
            "init\t [3.52377657 2.8425373 ]\t 7209.150060592592\t 30.55204392634667\t    \t    \n",
            "init\t [-4.17699373  1.72581824]\t 253.68900136908488\t 30.55204392634667\t    \t    \n",
            "init\t [-1.09187152  0.16659851]\t 30.55204392634667\t 30.55204392634667\t    \t    \n",
            "init\t [ 1.42156319 -2.75534804]\t 963.9362838324588\t 30.55204392634667\t    \t    \n",
            "1  \t [-4.5 -4.5]\t 181853.61328125\t 30.55204392634667\t 3.432462306815486\t 3.8668700907619624\n",
            "2  \t [ 4.5 -4.5]\t 178131.83203125\t 30.55204392634667\t 2.870902438158627\t 3.684254238405863\n",
            "3  \t [-4.5  4.5]\t 169680.83203125\t 30.55204392634667\t 2.7341642965701576\t 2.9833059584882915\n",
            "\u001b[1m\u001b[92m4\u001b[0m\t \u001b[1m\u001b[92m[ 4.5        -0.35942327]\u001b[0m\t \u001b[1m\u001b[92m28.447701119015225\u001b[0m\t \u001b[1m\u001b[92m28.447701119015225\u001b[0m\t \u001b[1m\u001b[92m2.4726040880609865\u001b[0m\t \u001b[1m\u001b[92m2.3328842761750304\u001b[0m\n",
            "\u001b[1m\u001b[92m5\u001b[0m\t \u001b[1m\u001b[92m[1.62901327 0.09826806]\u001b[0m\t \u001b[1m\u001b[92m1.4014455046526215\u001b[0m\t \u001b[1m\u001b[92m1.4014455046526215\u001b[0m\t \u001b[1m\u001b[92m2.9551321759251095\u001b[0m\t \u001b[1m\u001b[92m2.518090531179354\u001b[0m\n",
            "6  \t [-3.66454938 -0.59523309]\t 125.14729407243928\t 1.4014455046526215\t 2.969093159346349\t 3.029830278546489\n",
            "7  \t [-1.12765123 -2.40542585]\t 416.6169957994645\t 1.4014455046526215\t 3.0950693560505873\t 2.9376834078860052\n",
            "8  \t [-0.21376841 -4.5       ]\t 508.7495503253745\t 1.4014455046526215\t 2.847996386011905\t 2.9410900142558516\n",
            "9  \t [-1.38760983  2.43842363]\t 280.92426190583893\t 1.4014455046526215\t 3.0368408953600903\t 3.045854360932749\n",
            "10 \t [4.5 4.5]\t 174813.36328125\t 1.4014455046526215\t 2.624038246805401\t 2.832337011698078\n",
            "11 \t [3.23839284 1.15065227]\t 33.500608913271066\t 1.4014455046526215\t 2.545888796722293\t 2.7398467851975585\n",
            "12 \t [-1.03277141  4.5       ]\t 8497.15865955172\t 1.4014455046526215\t 2.5175469404076547\t 2.48380287308013\n",
            "13 \t [0.52621085 1.61932316]\t 31.742872011106556\t 1.4014455046526215\t 2.487405615526254\t 2.6326678353959982\n",
            "14 \t [ 2.90320595 -1.42171274]\t 132.10694266875657\t 1.4014455046526215\t 2.1497351269211435\t 2.4196259771515627\n",
            "15 \t [ 0.30120689 -1.16549836]\t 9.689704282257635\t 1.4014455046526215\t 2.0731642689036285\t 2.005170297378892\n",
            "16 \t [2.01781474 2.31831536]\t 803.0263866624189\t 1.4014455046526215\t 2.2757763834801126\t 2.35963125043772\n",
            "17 \t [-2.63189583  1.02473561]\t 12.425421761950638\t 1.4014455046526215\t 2.4225207643671505\t 2.434013721663213\n",
            "18 \t [-2.60438031 -1.7826843 ]\t 487.5845656397929\t 1.4014455046526215\t 2.5427999425484256\t 2.46619442259173\n",
            "19 \t [-4.5         0.37409947]\t 103.5535989048828\t 1.4014455046526215\t 2.5398617893707693\t 2.4919855120590206\n",
            "20 \t [ 4.5        -1.89528483]\t 1383.5083651982766\t 1.4014455046526215\t 2.4164089162097127\t 2.420147767203498\n"
          ]
        }
      ],
      "source": [
        "### ESTIMATED STP ERM GRADIENTS\n",
        "\n",
        "np.random.seed(run_num_20)\n",
        "surrogate_approx_20 = dtStudentProcess(cov_func, optimize=opt, nu = df)\n",
        "\n",
        "approx_20 = GPGO_multi(surrogate_approx_20, Acquisition_grad(util), objfunc, param)\n",
        "approx_20.run(init_evals=n_init, max_iter=iters)\n"
      ]
    },
    {
      "cell_type": "code",
      "execution_count": 33,
      "metadata": {
        "id": "xkgzPRbBTHaq",
        "colab": {
          "base_uri": "https://localhost:8080/"
        },
        "outputId": "c06cf586-9b4a-43bd-e208-3a6c5e7e7e73"
      },
      "outputs": [
        {
          "output_type": "execute_result",
          "data": {
            "text/plain": [
              "1663323659.4238653"
            ]
          },
          "metadata": {},
          "execution_count": 33
        }
      ],
      "source": [
        "end_approx = time.time()\n",
        "end_approx\n",
        "\n",
        "time_approx = end_approx - start_approx\n",
        "time_approx\n",
        "\n",
        "start_exact = time.time()\n",
        "start_exact"
      ]
    },
    {
      "cell_type": "code",
      "execution_count": 34,
      "metadata": {
        "id": "7CG3Ndvb16Rb",
        "colab": {
          "base_uri": "https://localhost:8080/"
        },
        "outputId": "f2c6bb10-9f2c-471d-f20f-a7be8d5e7d8e"
      },
      "outputs": [
        {
          "output_type": "stream",
          "name": "stdout",
          "text": [
            "Evaluation \t Proposed point \t  Current eval. \t  Best eval. \t        Exact ERM: StdDev. x \t Approx ERM: StdDev. x \n",
            "init\t [-0.74680196  1.98292044]\t 6.597029498756062\t 6.597029498756062\t    \t    \n",
            "init\t [-4.49897063 -1.77900685]\t 1305.4710589552556\t 6.597029498756062\t    \t    \n",
            "init\t [-3.17919698 -3.66895265]\t 28173.776013477825\t 6.597029498756062\t    \t    \n",
            "init\t [-2.8236581  -1.38995346]\t 237.9931764117774\t 6.597029498756062\t    \t    \n",
            "init\t [-0.92909273  0.34935061]\t 26.1790631757263\t 6.597029498756062\t    \t    \n",
            "1  \t [-3.47064874  0.91408762]\t 23.057022584053712\t 6.597029498756062\t 3.136268757436948\t 3.7040045557843766\n",
            "2  \t [4.5 4.5]\t 174813.36328125\t 6.597029498756062\t 2.605839224936333\t 3.230923629193055\n",
            "3  \t [ 2.96097008 -3.08873547]\t 8542.495900953225\t 6.597029498756062\t 2.814065444213257\t 3.9558405122389826\n",
            "4  \t [-3.79576374  4.5       ]\t 120392.80724875955\t 6.597029498756062\t 3.014356491204784\t 3.5919394708673136\n",
            "\u001b[1m\u001b[92m5\u001b[0m\t \u001b[1m\u001b[92m[2.38303332 0.54681435]\u001b[0m\t \u001b[1m\u001b[92m0.9111772538217291\u001b[0m\t \u001b[1m\u001b[92m0.9111772538217291\u001b[0m\t \u001b[1m\u001b[92m2.7776734319833314\u001b[0m\t \u001b[1m\u001b[92m2.9855556348837413\u001b[0m\n",
            "6  \t [ 0.16254417 -2.04271266]\t 9.81989973644902\t 0.9111772538217291\t 2.699065876323502\t 3.5602441759304932\n",
            "7  \t [0.37978018 4.27297992]\t 1101.0413440890427\t 0.9111772538217291\t 2.724152131416253\t 3.2993594286986068\n",
            "8  \t [ 0.2026247 -4.5      ]\t 295.3169827715864\t 0.9111772538217291\t 2.934757620584172\t 3.4311718480761595\n",
            "9  \t [ 3.74765268 -0.6617269 ]\t 27.248295349422857\t 0.9111772538217291\t 2.742873606517944\t 3.2838073950882225\n",
            "10 \t [1.3569659  2.43109314]\t 522.4861229306723\t 0.9111772538217291\t 3.0915093907961846\t 3.3084804635866942\n",
            "11 \t [ 1.18641951 -0.66578374]\t 3.938042605403113\t 0.9111772538217291\t 2.405626219605999\t 3.068313210054802\n",
            "12 \t [4.5        1.12918322]\t 37.692798610856045\t 0.9111772538217291\t 2.996979207494978\t 3.555191234114175\n",
            "13 \t [ 1.77577217 -4.47198428]\t 26315.38660099209\t 0.9111772538217291\t 2.760676161756847\t 3.1940484288641056\n",
            "14 \t [ 4.40406051 -3.80056887]\t 63478.338451026815\t 0.9111772538217291\t 3.1456124797439373\t 3.363323751448328\n",
            "15 \t [-1.21910894 -1.36567031]\t 68.94048601487123\t 0.9111772538217291\t 2.730588121503674\t 2.268057088032815\n",
            "16 \t [-0.73853953 -3.54343503]\t 1375.1040917783964\t 0.9111772538217291\t 2.9596358094134154\t 2.5286053883988404\n",
            "17 \t [-1.57082617  3.99737578]\t 9705.875074558116\t 0.9111772538217291\t 3.0538460410596495\t 2.7124056771053384\n",
            "18 \t [-2.04613046  1.33023732]\t 1.1567707532018054\t 0.9111772538217291\t 3.0322645451790375\t 2.841092221480326\n",
            "19 \t [2.78953916 2.38646246]\t 1689.355251645237\t 0.9111772538217291\t 3.4749174679500974\t 3.1667634280692667\n",
            "20 \t [-3.9201277   3.57286563]\t 31667.74328405013\t 0.9111772538217291\t 2.600883630030711\t 2.572467217653883\n"
          ]
        }
      ],
      "source": [
        "### EXACT STP ERM GRADIENTS\n",
        "\n",
        "np.random.seed(run_num_1)\n",
        "surrogate_exact_1 = dtStudentProcess(cov_func, optimize=opt, nu = df)\n",
        "\n",
        "exact_1 = dGPGO(surrogate_exact_1, Acquisition_grad(util), objfunc, param)\n",
        "exact_1.run(init_evals=n_init, max_iter=iters)\n"
      ]
    },
    {
      "cell_type": "code",
      "execution_count": 35,
      "metadata": {
        "id": "-ilCPSAu9SAg",
        "colab": {
          "base_uri": "https://localhost:8080/"
        },
        "outputId": "26fbefba-aa8b-4d96-c01b-05cdebfa306c"
      },
      "outputs": [
        {
          "output_type": "stream",
          "name": "stdout",
          "text": [
            "Evaluation \t Proposed point \t  Current eval. \t  Best eval. \t        Exact ERM: StdDev. x \t Approx ERM: StdDev. x \n",
            "init\t [-0.57604588 -4.26666391]\t 2377.8441741808733\t 8.81624267140378\t    \t    \n",
            "init\t [ 0.4469623  -0.58209847]\t 8.81624267140378\t 8.81624267140378\t    \t    \n",
            "init\t [-0.71668978 -1.52698661]\t 47.3742628518178\t 8.81624267140378\t    \t    \n",
            "init\t [-2.65816229  1.0734387 ]\t 9.08861590265506\t 8.81624267140378\t    \t    \n",
            "init\t [-1.80310794 -2.09855452]\t 510.2220943696988\t 8.81624267140378\t    \t    \n",
            "1  \t [4.5 4.5]\t 174813.36328125\t 8.81624267140378\t 3.587298160338604\t 3.8885448587966174\n",
            "2  \t [ 4.5        -2.05730438]\t 2118.206585339626\t 8.81624267140378\t 3.171940960035811\t 4.135603591868468\n",
            "3  \t [-0.62138596  3.70983955]\t 843.4403240933992\t 8.81624267140378\t 3.1106294617078074\t 3.982683165269566\n",
            "4  \t [-4.5 -4.5]\t 181853.61328125\t 8.81624267140378\t 2.247443169385562\t 3.7582409449102645\n",
            "\u001b[1m\u001b[92m5\u001b[0m\t \u001b[1m\u001b[92m[3.06959032 0.52700162]\u001b[0m\t \u001b[1m\u001b[92m0.003418842949696566\u001b[0m\t \u001b[1m\u001b[92m0.003418842949696566\u001b[0m\t \u001b[1m\u001b[92m2.193213559136727\u001b[0m\t \u001b[1m\u001b[92m3.3082337176125596\u001b[0m\n",
            "6  \t [-3.93666872  3.81738135]\t 47837.44549479445\t 0.003418842949696566\t 2.5201881517267672\t 3.9881551300498446\n",
            "7  \t [ 2.4821812  -4.20431456]\t 36010.59372950455\t 0.003418842949696566\t 2.5589900712057916\t 3.21665703514563\n",
            "8  \t [1.05227727 1.97303391]\t 127.61656506832497\t 0.003418842949696566\t 1.9723515539673575\t 2.5200941785008055\n",
            "9  \t [-3.34013775 -0.87346105]\t 136.5255865279363\t 0.003418842949696566\t 2.2609893261238554\t 2.9719563978931522\n",
            "10 \t [-0.81322662  1.38700608]\t 5.259704077458958\t 0.003418842949696566\t 2.3594130906121005\t 2.721585364798309\n",
            "11 \t [1.15339263 4.5       ]\t 11986.72321131627\t 0.003418842949696566\t 2.4931749049688166\t 3.037084676644554\n",
            "12 \t [ 2.45740909 -1.31709433]\t 63.70874862782606\t 0.003418842949696566\t 2.201931553010072\t 3.1382681325594413\n",
            "13 \t [-1.65539565 -0.13317791]\t 44.77533932322719\t 0.003418842949696566\t 2.621699418382979\t 3.38974030090437\n",
            "14 \t [ 0.50349209 -2.44083646]\t 49.621435021396834\t 0.003418842949696566\t 2.1956191717487026\t 3.3337972417570794\n",
            "15 \t [-4.5         0.43642437]\t 96.59153006690968\t 0.003418842949696566\t 2.4664044963723373\t 2.9121077324845186\n",
            "16 \t [2.89656239 1.95471668]\t 583.1385343945653\t 0.003418842949696566\t 2.2215172808843655\t 2.7043619093654314\n",
            "17 \t [1.68006594 0.1807041 ]\t 1.3173620284237855\t 0.003418842949696566\t 2.480833593366025\t 2.8141857584848786\n",
            "18 \t [-4.03827233 -2.299376  ]\t 3555.463972591714\t 0.003418842949696566\t 2.5466538715352947\t 2.7957747764550738\n",
            "19 \t [-1.71161843  2.60270995]\t 727.5639266397258\t 0.003418842949696566\t 2.113857785047289\t 3.0641531710096244\n",
            "20 \t [3.81355082 0.04630112]\t 8.39762569821229\t 0.003418842949696566\t 2.3730356917654305\t 3.343124091266591\n"
          ]
        }
      ],
      "source": [
        "### EXACT STP ERM GRADIENTS\n",
        "\n",
        "np.random.seed(run_num_2)\n",
        "surrogate_exact_2 = dtStudentProcess(cov_func, optimize=opt, nu = df)\n",
        "\n",
        "exact_2 = dGPGO(surrogate_exact_2, Acquisition_grad(util), objfunc, param)\n",
        "exact_2.run(init_evals=n_init, max_iter=iters)\n"
      ]
    },
    {
      "cell_type": "code",
      "execution_count": 36,
      "metadata": {
        "id": "XieJ158mIvlP",
        "colab": {
          "base_uri": "https://localhost:8080/"
        },
        "outputId": "57b33eb0-57c6-4d1e-820e-58a384c92811"
      },
      "outputs": [
        {
          "output_type": "stream",
          "name": "stdout",
          "text": [
            "Evaluation \t Proposed point \t  Current eval. \t  Best eval. \t        Exact ERM: StdDev. x \t Approx ERM: StdDev. x \n",
            "init\t [0.45718112 1.8733304 ]\t 41.912714742005974\t 41.912714742005974\t    \t    \n",
            "init\t [-1.88185735  0.09744845]\t 47.451188393399434\t 41.912714742005974\t    \t    \n",
            "init\t [3.53652259 3.5666378 ]\t 27475.816689924115\t 41.912714742005974\t    \t    \n",
            "init\t [-3.36973221 -2.6348141 ]\t 5079.048973002421\t 41.912714742005974\t    \t    \n",
            "init\t [-4.03679517 -0.53271141]\t 138.4086524103332\t 41.912714742005974\t    \t    \n",
            "1  \t [ 2.52283288 -1.74272821]\t 259.55509339560894\t 41.912714742005974\t 2.6373613278713\t 2.8202933052884016\n",
            "2  \t [-3.83738698  3.53153869]\t 28235.98177764287\t 41.912714742005974\t 3.0334719627119244\t 3.9165236273827637\n",
            "\u001b[1m\u001b[92m3\u001b[0m\t \u001b[1m\u001b[92m[ 1.67951869e-03 -1.69721800e+00]\u001b[0m\t \u001b[1m\u001b[92m14.151950723263168\u001b[0m\t \u001b[1m\u001b[92m14.151950723263168\u001b[0m\t \u001b[1m\u001b[92m3.351291575402958\u001b[0m\t \u001b[1m\u001b[92m3.9757154043379206\u001b[0m\n",
            "4  \t [-0.18976093 -3.93948468]\t 214.03278005054008\t 14.151950723263168\t 2.815953907655124\t 4.040760096386735\n",
            "5  \t [ 2.9558873  -4.12137429]\t 45591.66521870441\t 14.151950723263168\t 3.459240883047238\t 3.654978012513409\n",
            "\u001b[1m\u001b[92m6\u001b[0m\t \u001b[1m\u001b[92m[ 3.67750642 -0.08387563]\u001b[0m\t \u001b[1m\u001b[92m9.256917308040716\u001b[0m\t \u001b[1m\u001b[92m9.256917308040716\u001b[0m\t \u001b[1m\u001b[92m3.328620631378784\u001b[0m\t \u001b[1m\u001b[92m3.137593946796397\u001b[0m\n",
            "7  \t [-0.16278944  4.33711371]\t 111.44317165952434\t 9.256917308040716\t 3.420357176713785\t 2.6854833055633276\n",
            "\u001b[1m\u001b[92m8\u001b[0m\t \u001b[1m\u001b[92m[1.37895555 0.02722508]\u001b[0m\t \u001b[1m\u001b[92m2.3383458682947493\u001b[0m\t \u001b[1m\u001b[92m2.3383458682947493\u001b[0m\t \u001b[1m\u001b[92m3.3207182064434977\u001b[0m\t \u001b[1m\u001b[92m3.003819504331434\u001b[0m\n",
            "9  \t [-1.52032981  2.24475505]\t 185.62780242861754\t 2.3383458682947493\t 3.1196575580388175\t 3.466024897818545\n",
            "10 \t [-4.5 -4.5]\t 181853.61328125\t 2.3383458682947493\t 3.879552945652307\t 3.4391957468335304\n",
            "11 \t [-1.97434963 -1.72000871]\t 264.31552369747226\t 2.3383458682947493\t 2.539083314591921\t 2.6933582791839177\n",
            "12 \t [-3.16568693  0.99076654]\t 15.02060119331712\t 2.3383458682947493\t 2.836957670436005\t 2.6416416682635955\n",
            "13 \t [2.3028885  1.49458759]\t 97.05399990332826\t 2.3383458682947493\t 2.914027434939168\t 3.038088017438746\n",
            "14 \t [-0.16231849 -0.06823995]\t 16.385317273765022\t 2.3383458682947493\t 2.4789823115711203\t 2.6502311435677064\n",
            "15 \t [ 4.48763366 -1.54552205]\t 510.0627127597597\t 2.3383458682947493\t 2.5769539287922703\t 2.6572225776742915\n",
            "16 \t [-1.47713619 -3.32356366]\t 3623.2255562289624\t 2.3383458682947493\t 2.69425841754335\t 2.7903733265320483\n",
            "17 \t [1.32273614 4.28712297]\t 11807.13511009702\t 2.3383458682947493\t 2.653393202149214\t 2.751554313370372\n",
            "18 \t [-1.64692473  4.47547234]\t 21417.186078439725\t 2.3383458682947493\t 2.8892628923727925\t 3.7832449467475304\n",
            "19 \t [3.74047055 1.41073979]\t 132.77144373452194\t 2.3383458682947493\t 2.687052767998653\t 3.367394553553162\n",
            "20 \t [ 1.00890009 -2.61755831]\t 342.628987861864\t 2.3383458682947493\t 2.654368386085751\t 2.8319924780090004\n"
          ]
        }
      ],
      "source": [
        "### EXACT STP ERM GRADIENTS\n",
        "\n",
        "np.random.seed(run_num_3)\n",
        "surrogate_exact_3 = dtStudentProcess(cov_func, optimize=opt, nu = df)\n",
        "\n",
        "exact_3 = dGPGO(surrogate_exact_3, Acquisition_grad(util), objfunc, param)\n",
        "exact_3.run(init_evals=n_init, max_iter=iters)\n"
      ]
    },
    {
      "cell_type": "code",
      "execution_count": 37,
      "metadata": {
        "id": "PhLBVOIfIvol",
        "colab": {
          "base_uri": "https://localhost:8080/"
        },
        "outputId": "771e8195-f339-427c-dfcd-f83255d58b8b"
      },
      "outputs": [
        {
          "output_type": "stream",
          "name": "stdout",
          "text": [
            "Evaluation \t Proposed point \t  Current eval. \t  Best eval. \t        Exact ERM: StdDev. x \t Approx ERM: StdDev. x \n",
            "init\t [4.20326855 0.42509024]\t 3.8409856613776237\t 3.8409856613776237\t    \t    \n",
            "init\t [4.25415924 1.93334394]\t 1070.6518137934977\t 3.8409856613776237\t    \t    \n",
            "init\t [ 1.77955942 -2.55519454]\t 1001.3529311398922\t 3.8409856613776237\t    \t    \n",
            "init\t [ 4.28647009 -4.4439277 ]\t 150069.47442764963\t 3.8409856613776237\t    \t    \n",
            "init\t [-2.22315874 -0.58687621]\t 67.08861688517413\t 3.8409856613776237\t    \t    \n",
            "1  \t [-4.5 -4.5]\t 181853.61328125\t 3.8409856613776237\t 3.4260813613333823\t 4.064205649659845\n",
            "2  \t [-1.53680621  4.31152515]\t 14790.411714068214\t 3.8409856613776237\t 2.5899187675078403\t 3.6051226964364824\n",
            "3  \t [0.96244795 0.68132543]\t 8.300718723669586\t 3.8409856613776237\t 2.941467468667964\t 3.6477786678115156\n",
            "4  \t [4.5 4.5]\t 174813.36328125\t 3.8409856613776237\t 2.7791152894748894\t 4.0076528377711\n",
            "5  \t [-4.5         1.47837304]\t 64.92641102143783\t 3.8409856613776237\t 2.223574408590618\t 3.0807065359575447\n",
            "6  \t [-0.33988216 -4.33101327]\t 960.2409619636014\t 3.8409856613776237\t 2.369670751145205\t 2.7948448845331284\n",
            "7  \t [-0.30160189 -1.66769182]\t 26.954556578787134\t 3.8409856613776237\t 1.975421395459702\t 2.884623803879415\n",
            "\u001b[1m\u001b[92m8\u001b[0m\t \u001b[1m\u001b[92m[-1.53802142  1.550123  ]\u001b[0m\t \u001b[1m\u001b[92m2.8876573217700736\u001b[0m\t \u001b[1m\u001b[92m2.8876573217700736\u001b[0m\t \u001b[1m\u001b[92m2.1499510559799755\u001b[0m\t \u001b[1m\u001b[92m2.7609297611101966\u001b[0m\n",
            "9  \t [1.13652792 2.92360252]\t 1024.2177096483895\t 2.8876573217700736\t 2.4024778575547807\t 2.9193971550122044\n",
            "10 \t [-4.5        -0.79312541]\t 194.72679072369488\t 2.8876573217700736\t 2.9690590326969346\t 3.2498951136887224\n",
            "11 \t [-3.94132694  3.47179359]\t 26854.445069699603\t 2.8876573217700736\t 2.2320966059994256\t 3.2328154040114754\n",
            "12 \t [ 4.5        -1.51704494]\t 471.55054131342524\t 2.8876573217700736\t 2.5103307381470947\t 2.4181577199018705\n",
            "13 \t [-2.00054005 -2.43342265]\t 1246.8049169489843\t 2.8876573217700736\t 2.5134267439693043\t 2.695434768649453\n",
            "14 \t [2.48946666 1.49461537]\t 107.1378478982928\t 2.8876573217700736\t 2.157209038939964\t 2.4132260422857437\n",
            "15 \t [ 2.0397205  -0.55213731]\t 3.526239885911091\t 2.8876573217700736\t 1.9836356577948924\t 2.7818832827069997\n",
            "16 \t [-0.48449154 -0.02965384]\t 21.139565947004115\t 2.8876573217700736\t 2.17967401184463\t 2.814680803740901\n",
            "17 \t [-3.64036371 -1.84760926]\t 1037.6690426400369\t 2.8876573217700736\t 2.4164619729610695\t 2.3167433104665656\n",
            "18 \t [-2.9668949  0.5989381]\t 49.02610883797985\t 2.8876573217700736\t 2.1108502933294004\t 2.332330386553587\n",
            "19 \t [ 1.08707869 -4.41353572]\t 8967.710427540624\t 2.8876573217700736\t 2.470465024835643\t 2.6578830354989877\n",
            "20 \t [1.16148876 4.27022835]\t 8970.492216877235\t 2.8876573217700736\t 2.098882804285833\t 2.6806243977432676\n"
          ]
        }
      ],
      "source": [
        "### EXACT STP ERM GRADIENTS\n",
        "\n",
        "np.random.seed(run_num_4)\n",
        "surrogate_exact_4 = dtStudentProcess(cov_func, optimize=opt, nu = df)\n",
        "\n",
        "exact_4 = dGPGO(surrogate_exact_4, Acquisition_grad(util), objfunc, param)\n",
        "exact_4.run(init_evals=n_init, max_iter=iters)\n"
      ]
    },
    {
      "cell_type": "code",
      "execution_count": 38,
      "metadata": {
        "id": "arbiPyj2IvsJ",
        "colab": {
          "base_uri": "https://localhost:8080/"
        },
        "outputId": "088361c1-0743-480b-a6c4-6eeda6e4c6b1"
      },
      "outputs": [
        {
          "output_type": "stream",
          "name": "stdout",
          "text": [
            "Evaluation \t Proposed point \t  Current eval. \t  Best eval. \t        Exact ERM: StdDev. x \t Approx ERM: StdDev. x \n",
            "init\t [-2.50206146  3.33659076]\t 8263.905568073349\t 0.311397019260738\t    \t    \n",
            "init\t [-2.6395276   3.76749817]\t 19560.15202528338\t 0.311397019260738\t    \t    \n",
            "init\t [-0.1042993   1.00569477]\t 14.186578993925806\t 0.311397019260738\t    \t    \n",
            "init\t [2.39317071 0.16576189]\t 0.311397019260738\t 0.311397019260738\t    \t    \n",
            "init\t [-1.82879549 -2.81050894]\t 2208.9823086257425\t 0.311397019260738\t    \t    \n",
            "1  \t [4.5 4.5]\t 174813.36328125\t 0.311397019260738\t 3.880337994280014\t 4.2129545740778775\n",
            "2  \t [ 3.99079899 -3.4958299 ]\t 32018.175483599254\t 0.311397019260738\t 3.5213165968177824\t 3.876385928930041\n",
            "3  \t [-4.5 -4.5]\t 181853.61328125\t 0.311397019260738\t 3.384317820805027\t 3.7303963058908205\n",
            "4  \t [-3.92616179 -0.04253936]\t 112.26258763962048\t 0.311397019260738\t 2.2811890360088367\t 3.2657279052571195\n",
            "5  \t [0.82447422 3.379515  ]\t 1260.0692206749895\t 0.311397019260738\t 2.1679246899618767\t 2.8478902931001384\n",
            "6  \t [ 0.39874438 -4.32432037]\t 988.0826023435719\t 0.311397019260738\t 2.7770445759804434\t 2.8941246192208974\n",
            "7  \t [-1.69901529 -0.46981511]\t 49.00321298028454\t 0.311397019260738\t 2.131293109102747\t 2.956361833011629\n",
            "8  \t [ 0.65745708 -1.55044443]\t 10.332268857054107\t 0.311397019260738\t 2.485054585753224\t 3.4779312617456335\n",
            "9  \t [-3.92401892  1.61460866]\t 116.64231346987253\t 0.311397019260738\t 2.448226085255098\t 3.166687799880835\n",
            "10 \t [4.21571524 0.87557021]\t 4.08976224704191\t 0.311397019260738\t 2.2857924867156574\t 2.975826486064166\n",
            "11 \t [ 1.73570354 -4.19111671]\t 17118.967501919196\t 0.311397019260738\t 2.582256802131899\t 3.143582087550111\n",
            "12 \t [2.441254   1.87861432]\t 352.207845020838\t 0.311397019260738\t 2.3918098598886597\t 3.173766093212617\n",
            "13 \t [ 4.37856183 -0.82995139]\t 61.32071305639533\t 0.311397019260738\t 2.4096859569222535\t 3.5370865045215196\n",
            "14 \t [-1.80961727  1.37815636]\t 1.1442433914847214\t 0.311397019260738\t 2.0239020344080285\t 2.7021963867948324\n",
            "15 \t [1.36501117 0.965833  ]\t 12.969750472601056\t 0.311397019260738\t 2.403038238934743\t 3.532527050318885\n",
            "16 \t [-1.16941216 -4.21940032]\t 8758.460090133854\t 0.311397019260738\t 2.434777826526947\t 3.5938022390981526\n",
            "17 \t [ 2.8311975 -1.1735366]\t 55.53225084000408\t 0.311397019260738\t 2.3972297760230203\t 2.9815577529067525\n",
            "18 \t [-0.52084661  2.67440402]\t 47.779090466149654\t 0.311397019260738\t 2.445715156376642\t 3.002105249101265\n",
            "19 \t [-3.90273378 -1.60343825]\t 662.5429169244051\t 0.311397019260738\t 2.274007567182011\t 3.4925252624410335\n",
            "20 \t [2.47588363 3.97996787]\t 26009.20269780772\t 0.311397019260738\t 2.618517456909476\t 3.2924001194590855\n"
          ]
        }
      ],
      "source": [
        "### EXACT STP ERM GRADIENTS\n",
        "\n",
        "np.random.seed(run_num_5)\n",
        "surrogate_exact_5 = dtStudentProcess(cov_func, optimize=opt, nu = df)\n",
        "\n",
        "exact_5 = dGPGO(surrogate_exact_5, Acquisition_grad(util), objfunc, param)\n",
        "exact_5.run(init_evals=n_init, max_iter=iters)\n"
      ]
    },
    {
      "cell_type": "code",
      "execution_count": 39,
      "metadata": {
        "id": "04KJCEm_Ivvf",
        "colab": {
          "base_uri": "https://localhost:8080/"
        },
        "outputId": "60c6cbef-8b00-4bd8-cb64-8b1f3374c22d"
      },
      "outputs": [
        {
          "output_type": "stream",
          "name": "stdout",
          "text": [
            "Evaluation \t Proposed point \t  Current eval. \t  Best eval. \t        Exact ERM: StdDev. x \t Approx ERM: StdDev. x \n",
            "init\t [ 3.53574136 -1.51218175]\t 273.3122030790333\t 10.038000709758428\t    \t    \n",
            "init\t [ 2.89106211 -4.12473037]\t 43803.250406689425\t 10.038000709758428\t    \t    \n",
            "init\t [-3.53108988  0.85546858]\t 29.828433746298536\t 10.038000709758428\t    \t    \n",
            "init\t [ 0.26835626 -0.73073314]\t 10.658925295067505\t 10.038000709758428\t    \t    \n",
            "init\t [-1.48132936  1.10267489]\t 10.038000709758428\t 10.038000709758428\t    \t    \n",
            "1  \t [2.4379287  2.38275885]\t 1310.2537203284783\t 10.038000709758428\t 3.7558024707210764\t 3.9896506328452674\n",
            "2  \t [-4.5 -4.5]\t 181853.61328125\t 10.038000709758428\t 4.477867257689836\t 4.241707750652723\n",
            "3  \t [-2.59935287  4.5       ]\t 55999.24147978855\t 10.038000709758428\t 2.813053930277084\t 3.7232574843973243\n",
            "4  \t [4.5 4.5]\t 174813.36328125\t 10.038000709758428\t 3.2088055382858705\t 3.571197683451632\n",
            "5  \t [-0.75563149 -3.02720534]\t 628.5684944378844\t 10.038000709758428\t 2.0123824474261403\t 2.930569877183724\n",
            "\u001b[1m\u001b[92m6\u001b[0m\t \u001b[1m\u001b[92m[4.21995222 0.65714642]\u001b[0m\t \u001b[1m\u001b[92m0.18254170579718812\u001b[0m\t \u001b[1m\u001b[92m0.18254170579718812\u001b[0m\t \u001b[1m\u001b[92m2.4246683737370183\u001b[0m\t \u001b[1m\u001b[92m2.6244025276227685\u001b[0m\n",
            "7  \t [-2.51852167 -1.15113497]\t 130.63699343942386\t 0.18254170579718812\t 2.8133398174167183\t 3.1690385840911417\n",
            "8  \t [0.77495275 4.5       ]\t 5564.034003078829\t 0.18254170579718812\t 1.8505287795940182\t 2.6927803024835124\n",
            "9  \t [0.40817777 1.31479541]\t 19.029646284456092\t 0.18254170579718812\t 2.363960119873786\t 3.1244333171622762\n",
            "10 \t [-4.26193351 -1.7869511 ]\t 1203.1431416076412\t 0.18254170579718812\t 2.5263894924635495\t 3.134261958501926\n",
            "11 \t [ 1.80664349 -1.6452327 ]\t 91.4306608073723\t 0.18254170579718812\t 2.6618461659005805\t 3.3949890676468573\n",
            "12 \t [-0.48713558  3.11600694]\t 139.3569353083287\t 0.18254170579718812\t 2.2430352781859\t 3.3764582224013617\n",
            "13 \t [-2.64802989  2.26233214]\t 722.8734518480957\t 0.18254170579718812\t 2.6758201060046485\t 3.632993355926029\n",
            "14 \t [-4.31965483  2.27614855]\t 2201.5582479362693\t 0.18254170579718812\t 2.5643154087251996\t 2.961985731268431\n",
            "15 \t [ 0.1666327  -3.92243551]\t 79.78243135576625\t 0.18254170579718812\t 2.4676569233032204\t 3.5201036265737167\n",
            "16 \t [ 2.53137154 -0.05187363]\t 1.4359151228059421\t 0.18254170579718812\t 2.3248031973023875\t 3.060444944662026\n",
            "17 \t [-2.53505627 -2.82543379]\t 4250.431574479873\t 0.18254170579718812\t 2.887534128625744\t 3.395649866164395\n",
            "18 \t [-1.07542373 -1.21317314]\t 49.683401981848874\t 0.18254170579718812\t 2.4747020463580642\t 3.614276738248096\n",
            "19 \t [-1.62451111 -4.5       ]\t 24141.29056603481\t 0.18254170579718812\t 2.704418732911868\t 3.112118104745875\n",
            "20 \t [ 4.3365339  -2.77013074]\t 10009.235424178816\t 0.18254170579718812\t 2.58065944875163\t 3.5573707415304416\n"
          ]
        }
      ],
      "source": [
        "### EXACT STP ERM GRADIENTS\n",
        "\n",
        "np.random.seed(run_num_6)\n",
        "surrogate_exact_6 = dtStudentProcess(cov_func, optimize=opt, nu = df)\n",
        "\n",
        "exact_6 = dGPGO(surrogate_exact_6, Acquisition_grad(util), objfunc, param)\n",
        "exact_6.run(init_evals=n_init, max_iter=iters)\n"
      ]
    },
    {
      "cell_type": "code",
      "execution_count": 40,
      "metadata": {
        "id": "tAOkme3CIvyO",
        "colab": {
          "base_uri": "https://localhost:8080/"
        },
        "outputId": "e72e7a31-0210-4972-a66e-54a696478470"
      },
      "outputs": [
        {
          "output_type": "stream",
          "name": "stdout",
          "text": [
            "Evaluation \t Proposed point \t  Current eval. \t  Best eval. \t        Exact ERM: StdDev. x \t Approx ERM: StdDev. x \n",
            "init\t [-3.8132254   2.51926913]\t 3321.1422834954587\t 2.9676923934097053\t    \t    \n",
            "init\t [-0.55431692  2.0111866 ]\t 2.9676923934097053\t 2.9676923934097053\t    \t    \n",
            "init\t [4.30190561 0.34646283]\t 6.32173172477085\t 2.9676923934097053\t    \t    \n",
            "init\t [ 0.01008417 -3.8515398 ]\t 11.971894461559128\t 2.9676923934097053\t    \t    \n",
            "init\t [-2.08404918e+00 -1.05749257e-03]\t 53.820317186435204\t 2.9676923934097053\t    \t    \n",
            "1  \t [1.80145935 4.13523008]\t 17465.710844773588\t 2.9676923934097053\t 3.5046826158446387\t 3.8343908453362485\n",
            "2  \t [-4.5 -4.5]\t 181853.61328125\t 2.9676923934097053\t 4.267290628343787\t 3.9027981774755287\n",
            "3  \t [ 4.01895261 -3.6195648 ]\t 39735.237508657374\t 2.9676923934097053\t 2.6117878178487453\t 3.992313054557519\n",
            "4  \t [-3.5381093  -1.17462676]\t 226.89781537510947\t 2.9676923934097053\t 2.6774220322818225\t 2.677569442883476\n",
            "5  \t [ 1.10036326 -0.46986737]\t 3.9425138694283888\t 2.9676923934097053\t 2.4220656641572846\t 3.361606808459526\n",
            "6  \t [4.5 4.5]\t 174813.36328125\t 2.9676923934097053\t 2.9710166007570313\t 3.876783972412284\n",
            "7  \t [-1.25378003  4.40922721]\t 11175.55416411969\t 2.9676923934097053\t 2.2714167049903153\t 3.1688262061381836\n",
            "8  \t [-1.2544802 -1.9659611]\t 208.93317237487662\t 2.9676923934097053\t 2.522101821176995\t 2.5167597682055787\n",
            "9  \t [1.50832228 1.61627286]\t 83.85119267419773\t 2.9676923934097053\t 2.3166053742130943\t 3.180799979169954\n",
            "10 \t [-4.41231747  4.33061417]\t 129388.5327537275\t 2.9676923934097053\t 2.537935908600667\t 3.150673609573586\n",
            "11 \t [ 1.07677763 -2.29038171]\t 180.42645925224565\t 2.9676923934097053\t 2.4701720070984776\t 2.4926607737190873\n",
            "\u001b[1m\u001b[92m12\u001b[0m\t \u001b[1m\u001b[92m[-3.0992868   1.31644808]\u001b[0m\t \u001b[1m\u001b[92m2.0833774652408956\u001b[0m\t \u001b[1m\u001b[92m2.0833774652408956\u001b[0m\t \u001b[1m\u001b[92m2.5038000636530477\u001b[0m\t \u001b[1m\u001b[92m2.746452565758436\u001b[0m\n",
            "13 \t [ 2.86112802 -0.89062876]\t 23.128986152605414\t 2.0833774652408956\t 2.5827524200670657\t 2.690143885252202\n",
            "14 \t [-0.40230672  0.16470428]\t 19.501725230657335\t 2.0833774652408956\t 2.2120963292137485\t 2.4305580203836787\n",
            "15 \t [3.20662768 1.48783802]\t 146.70421236787615\t 2.0833774652408956\t 2.401726826976986\t 2.401698240952258\n",
            "16 \t [-2.07606529  2.82112857]\t 1910.598772513935\t 2.0833774652408956\t 2.3408989919012773\t 2.720431363656532\n",
            "17 \t [-4.5         0.28054537]\t 112.7104936810598\t 2.0833774652408956\t 2.2152812860200672\t 2.1520615818769566\n",
            "18 \t [-1.80031551 -4.5       ]\t 29565.348950057738\t 2.0833774652408956\t 2.7982785862668456\t 2.889901590234319\n",
            "19 \t [-3.19444948 -3.44325672]\t 19855.851960147542\t 2.0833774652408956\t 2.7248205872899254\t 2.749700853572515\n",
            "20 \t [ 1.76231552 -3.71090964]\t 8615.038485934389\t 2.0833774652408956\t 2.4846935640447616\t 2.811483410084186\n"
          ]
        }
      ],
      "source": [
        "### EXACT STP ERM GRADIENTS\n",
        "\n",
        "np.random.seed(run_num_7)\n",
        "surrogate_exact_7 = dtStudentProcess(cov_func, optimize=opt, nu = df)\n",
        "\n",
        "exact_7 = dGPGO(surrogate_exact_7, Acquisition_grad(util), objfunc, param)\n",
        "exact_7.run(init_evals=n_init, max_iter=iters)\n"
      ]
    },
    {
      "cell_type": "code",
      "execution_count": 41,
      "metadata": {
        "id": "69-J3EF4Iv1S",
        "colab": {
          "base_uri": "https://localhost:8080/"
        },
        "outputId": "b67a2268-785d-45a4-ee68-a95ef31b6375"
      },
      "outputs": [
        {
          "output_type": "stream",
          "name": "stdout",
          "text": [
            "Evaluation \t Proposed point \t  Current eval. \t  Best eval. \t        Exact ERM: StdDev. x \t Approx ERM: StdDev. x \n",
            "init\t [3.36086463 4.21686597]\t 66731.07602386779\t 1.8693348557707412\t    \t    \n",
            "init\t [3.32275086 0.27770122]\t 1.8693348557707412\t 1.8693348557707412\t    \t    \n",
            "init\t [-2.40544505 -4.39741076]\t 45883.361726150484\t 1.8693348557707412\t    \t    \n",
            "init\t [-0.62578064 -0.87883776]\t 26.39306084619828\t 1.8693348557707412\t    \t    \n",
            "init\t [ 0.20407204 -0.19447384]\t 11.649230998110728\t 1.8693348557707412\t    \t    \n",
            "1  \t [ 4.36276653 -4.24138997]\t 118257.51382369526\t 1.8693348557707412\t 2.8442082631668684\t 4.111033786088526\n",
            "2  \t [-4.42522463  2.59724938]\t 5535.695265667181\t 1.8693348557707412\t 2.983464603258856\t 3.9590126541927932\n",
            "3  \t [-1.01857672  4.30650923]\t 6286.182417518976\t 1.8693348557707412\t 2.8438119261809525\t 3.675204654249396\n",
            "4  \t [-2.89284922 -0.65720193]\t 94.95624150999117\t 1.8693348557707412\t 3.3321340000684816\t 3.869071470471883\n",
            "5  \t [-1.81354354  1.68743579]\t 19.553259878237352\t 1.8693348557707412\t 2.9880811164086025\t 3.307574877537337\n",
            "6  \t [ 1.81771598 -1.70238746]\t 110.73495236478905\t 1.8693348557707412\t 3.287326396671173\t 3.335105560881161\n",
            "7  \t [0.53233084 2.03410774]\t 62.77619956846192\t 1.8693348557707412\t 2.9491209216635457\t 3.3194506858649784\n",
            "8  \t [-4.28657644 -2.11075192]\t 2607.807098051083\t 1.8693348557707412\t 3.390828245365887\t 3.792012808951034\n",
            "9  \t [ 0.8300326 -4.1725597]\t 3682.2966964971733\t 1.8693348557707412\t 3.0114737502091358\t 3.0877644543711593\n",
            "10 \t [-3.65365684  0.73387894]\t 44.9762853259343\t 1.8693348557707412\t 3.2957700318979586\t 3.6493457307001926\n",
            "11 \t [1.77728448 0.708485  ]\t 5.016560810598797\t 1.8693348557707412\t 3.32815069468128\t 3.6174066580877806\n",
            "12 \t [ 3.90895659 -1.07517579]\t 89.62340707374867\t 1.8693348557707412\t 2.992545896927071\t 3.615116447308696\n",
            "13 \t [ 0.01305065 -2.35531639]\t 13.414207207761423\t 1.8693348557707412\t 3.381642006260571\t 3.561499837127319\n",
            "14 \t [-3.34651173  4.43659045]\t 85682.88833230925\t 1.8693348557707412\t 3.1288492843543754\t 3.788656462788282\n",
            "15 \t [-1.40652531  0.23567348]\t 35.54091622909452\t 1.8693348557707412\t 3.192004877126092\t 2.4856934475955206\n",
            "16 \t [4.28451632 1.70109949]\t 505.263143912689\t 1.8693348557707412\t 3.092496903182922\t 2.997006094663274\n",
            "17 \t [0.7381394  3.61526394]\t 1487.9963602979954\t 1.8693348557707412\t 3.701640082663704\t 2.843025225630787\n",
            "18 \t [-1.28566073 -2.30998164]\t 434.5514238882594\t 1.8693348557707412\t 3.6875122940638\t 3.001498064738964\n",
            "19 \t [2.0973359  2.16658461]\t 593.2977830058572\t 1.8693348557707412\t 2.895005158975759\t 2.581657336212524\n",
            "20 \t [-4.5 -4.5]\t 181853.61328125\t 1.8693348557707412\t 3.322006598523243\t 2.8294414882091283\n"
          ]
        }
      ],
      "source": [
        "### EXACT STP ERM GRADIENTS\n",
        "\n",
        "np.random.seed(run_num_8)\n",
        "surrogate_exact_8 = dtStudentProcess(cov_func, optimize=opt, nu = df)\n",
        "\n",
        "exact_8 = dGPGO(surrogate_exact_8, Acquisition_grad(util), objfunc, param)\n",
        "exact_8.run(init_evals=n_init, max_iter=iters)\n"
      ]
    },
    {
      "cell_type": "code",
      "execution_count": 42,
      "metadata": {
        "id": "vonm9jyuIv4t",
        "colab": {
          "base_uri": "https://localhost:8080/"
        },
        "outputId": "084603c6-0395-482e-e61b-e2c4964fec30"
      },
      "outputs": [
        {
          "output_type": "stream",
          "name": "stdout",
          "text": [
            "Evaluation \t Proposed point \t  Current eval. \t  Best eval. \t        Exact ERM: StdDev. x \t Approx ERM: StdDev. x \n",
            "init\t [-4.40663262  0.01687133]\t 127.7531900635415\t 22.479204656276803\t    \t    \n",
            "init\t [-0.03804036 -3.29553424]\t 22.479204656276803\t 22.479204656276803\t    \t    \n",
            "init\t [-3.22100023 -2.53297192]\t 3783.0538402600087\t 22.479204656276803\t    \t    \n",
            "init\t [-0.73342638 -2.26708948]\t 157.51337782244087\t 22.479204656276803\t    \t    \n",
            "init\t [-3.74346314 -1.39051224]\t 380.7730677650304\t 22.479204656276803\t    \t    \n",
            "1  \t [2.73365793 4.35023323]\t 53339.37070055468\t 22.479204656276803\t 2.3800532542022066\t 2.6980687980269895\n",
            "2  \t [-2.48306887  3.53043911]\t 11558.498195861772\t 22.479204656276803\t 2.6852999120160783\t 3.8631446302654835\n",
            "3  \t [ 4.11875506 -3.13162794]\t 18106.252299149455\t 22.479204656276803\t 3.1056049096692977\t 4.1568272477384625\n",
            "\u001b[1m\u001b[92m4\u001b[0m\t \u001b[1m\u001b[92m[0.64122612 0.38735022]\u001b[0m\t \u001b[1m\u001b[92m8.217362249345054\u001b[0m\t \u001b[1m\u001b[92m8.217362249345054\u001b[0m\t \u001b[1m\u001b[92m3.6396850103683813\u001b[0m\t \u001b[1m\u001b[92m2.979618946736122\u001b[0m\n",
            "\u001b[1m\u001b[92m5\u001b[0m\t \u001b[1m\u001b[92m[4.36955627 0.64439412]\u001b[0m\t \u001b[1m\u001b[92m0.4270249088619045\u001b[0m\t \u001b[1m\u001b[92m0.4270249088619045\u001b[0m\t \u001b[1m\u001b[92m3.1768040785087637\u001b[0m\t \u001b[1m\u001b[92m3.611487984269614\u001b[0m\n",
            "6  \t [ 2.49885677 -0.29731662]\t 3.038335067513858\t 0.4270249088619045\t 2.694288524501324\t 3.1643343194846083\n",
            "7  \t [-2.15724783  0.55714941]\t 39.43903804191007\t 0.4270249088619045\t 3.524207583588207\t 3.3813118277501824\n",
            "8  \t [-4.5 -4.5]\t 181853.61328125\t 0.4270249088619045\t 3.0411445706086915\t 3.109640883131036\n",
            "9  \t [0.02290678 2.34486166]\t 16.27527433268321\t 0.4270249088619045\t 2.7677778029042925\t 3.5163483660773545\n",
            "10 \t [ 1.49017955 -2.03361464]\t 186.95807534844676\t 0.4270249088619045\t 2.8571719330790986\t 3.496918863564585\n",
            "11 \t [-3.75471639  1.4840105 ]\t 39.9374283030679\t 0.4270249088619045\t 2.716955735991366\t 3.262240904855295\n",
            "12 \t [-0.99813016 -0.51416445]\t 32.10253286104557\t 0.4270249088619045\t 2.541447737836195\t 3.505560735515065\n",
            "13 \t [-0.25803232  4.25655078]\t 294.6999394215212\t 0.4270249088619045\t 2.471448469320025\t 3.4002437540604555\n",
            "14 \t [2.37642776 1.50964456]\t 106.30511677353476\t 0.4270249088619045\t 2.4210000205108293\t 3.4736070813836606\n",
            "15 \t [4.17193032 2.44106894]\t 4079.817524158433\t 0.4270249088619045\t 2.522044656308925\t 3.4165178537160776\n",
            "16 \t [ 0.70126587 -0.80014434]\t 6.494927665137004\t 0.4270249088619045\t 2.933340029565525\t 3.6029484547840758\n",
            "17 \t [-1.14226057  1.5869008 ]\t 1.5902011066000492\t 0.4270249088619045\t 2.7206728801684235\t 4.020244232196455\n",
            "18 \t [-2.35328652 -1.0712207 ]\t 106.20428112454962\t 0.4270249088619045\t 2.8240287310614423\t 3.6628702903395047\n",
            "19 \t [ 1.64874244 -3.8092808 ]\t 8771.306711709727\t 0.4270249088619045\t 2.8528689316772597\t 3.8507259166668364\n",
            "20 \t [4.5 4.5]\t 174813.36328125\t 0.4270249088619045\t 3.148696805642221\t 3.0819979816591907\n"
          ]
        }
      ],
      "source": [
        "### EXACT STP ERM GRADIENTS\n",
        "\n",
        "np.random.seed(run_num_9)\n",
        "surrogate_exact_9 = dtStudentProcess(cov_func, optimize=opt, nu = df)\n",
        "\n",
        "exact_9 = dGPGO(surrogate_exact_9, Acquisition_grad(util), objfunc, param)\n",
        "exact_9.run(init_evals=n_init, max_iter=iters)\n"
      ]
    },
    {
      "cell_type": "code",
      "execution_count": 43,
      "metadata": {
        "id": "6amuYlUdIv7r",
        "colab": {
          "base_uri": "https://localhost:8080/"
        },
        "outputId": "0d31af1c-a7b6-43cc-f1c8-86aa75aaba23"
      },
      "outputs": [
        {
          "output_type": "stream",
          "name": "stdout",
          "text": [
            "Evaluation \t Proposed point \t  Current eval. \t  Best eval. \t        Exact ERM: StdDev. x \t Approx ERM: StdDev. x \n",
            "init\t [ 2.44188579 -4.31323246]\t 40500.708995062356\t 15.229523981513257\t    \t    \n",
            "init\t [1.20283411 2.23923494]\t 281.8768699287936\t 15.229523981513257\t    \t    \n",
            "init\t [-0.01343689 -2.47683019]\t 15.229523981513257\t 15.229523981513257\t    \t    \n",
            "init\t [-2.71743422  2.34477641]\t 985.5637470908332\t 15.229523981513257\t    \t    \n",
            "init\t [-2.97800247 -3.70494167]\t 26177.1461164703\t 15.229523981513257\t    \t    \n",
            "1  \t [4.5 4.5]\t 174813.36328125\t 15.229523981513257\t 2.909996245531442\t 3.6313845287076787\n",
            "2  \t [ 4.5        -0.23788043]\t 24.29656213481816\t 15.229523981513257\t 2.3417560179788732\t 3.3238913094677565\n",
            "\u001b[1m\u001b[92m3\u001b[0m\t \u001b[1m\u001b[92m[ 1.73287175 -0.47524411]\u001b[0m\t \u001b[1m\u001b[92m2.4400038166606737\u001b[0m\t \u001b[1m\u001b[92m2.4400038166606737\u001b[0m\t \u001b[1m\u001b[92m2.3280184179481855\u001b[0m\t \u001b[1m\u001b[92m3.6193318621656196\u001b[0m\n",
            "4  \t [-0.96150291 -0.008385  ]\t 29.275075772477805\t 2.4400038166606737\t 2.7806649376888974\t 3.647779629125201\n",
            "5  \t [-4.5        -0.06260207]\t 135.56596126788318\t 2.4400038166606737\t 2.8081269919548397\t 3.724370529755564\n",
            "6  \t [0.09298606 4.45732906]\t 135.27309231382554\t 2.4400038166606737\t 3.0112726843387834\t 4.080163561653974\n",
            "7  \t [2.65824366 1.76960422]\t 291.25148106499427\t 2.4400038166606737\t 2.699865378697773\t 3.725038875395549\n",
            "8  \t [-0.80678177  2.64658867]\t 139.56722714747548\t 2.4400038166606737\t 2.8554970354384617\t 3.557919570041058\n",
            "9  \t [-2.66070745 -0.82395818]\t 95.88594900330364\t 2.4400038166606737\t 2.795044474030264\t 3.7443077667222067\n",
            "10 \t [-1.59465478  4.20290449]\t 13639.551507338043\t 2.4400038166606737\t 3.1426636615244234\t 3.6396279706451837\n",
            "11 \t [-2.71338285  0.77425458]\t 32.235102617199445\t 2.4400038166606737\t 2.5286054076973494\t 3.881085150089975\n",
            "12 \t [-4.27773836  2.82918176]\t 8902.389337364095\t 2.4400038166606737\t 2.8633462947059067\t 3.428352545947821\n",
            "13 \t [ 3.233135   -1.44079003]\t 179.3050129248528\t 2.4400038166606737\t 2.9938045795952557\t 3.497920016391353\n",
            "14 \t [0.44733345 0.21983588]\t 9.415785613585447\t 2.4400038166606737\t 3.1335953149846043\t 3.88415302319351\n",
            "15 \t [1.42349361 4.12511356]\t 10888.92432776905\t 2.4400038166606737\t 3.2381324737373\t 4.020299104159456\n",
            "16 \t [-1.17529508 -1.68786228]\t 111.04751194821154\t 2.4400038166606737\t 3.201611663770495\t 4.018501654115049\n",
            "17 \t [ 4.0768882  -2.77685073]\t 8945.781072135169\t 2.4400038166606737\t 3.3011677130117003\t 3.780975149984785\n",
            "\u001b[1m\u001b[92m18\u001b[0m\t \u001b[1m\u001b[92m[3.00874587 0.48550926]\u001b[0m\t \u001b[1m\u001b[92m0.006307590712846991\u001b[0m\t \u001b[1m\u001b[92m0.006307590712846991\u001b[0m\t \u001b[1m\u001b[92m2.643787788526647\u001b[0m\t \u001b[1m\u001b[92m3.8899060862688124\u001b[0m\n",
            "19 \t [ 1.59140206 -2.11176969]\t 266.76779038320615\t 0.006307590712846991\t 2.8217360845774264\t 3.2905380065658685\n",
            "20 \t [-0.49204361 -4.1376599 ]\t 1490.4015676317824\t 0.006307590712846991\t 3.524100226746127\t 3.8105096765120834\n"
          ]
        }
      ],
      "source": [
        "### EXACT STP ERM GRADIENTS\n",
        "\n",
        "np.random.seed(run_num_10)\n",
        "surrogate_exact_10 = dtStudentProcess(cov_func, optimize=opt, nu = df)\n",
        "\n",
        "exact_10 = dGPGO(surrogate_exact_10, Acquisition_grad(util), objfunc, param)\n",
        "exact_10.run(init_evals=n_init, max_iter=iters)\n"
      ]
    },
    {
      "cell_type": "code",
      "execution_count": 44,
      "metadata": {
        "id": "VwbLIP9cIv-F",
        "colab": {
          "base_uri": "https://localhost:8080/"
        },
        "outputId": "2c72be2e-f390-458b-ac03-027f8768e195"
      },
      "outputs": [
        {
          "output_type": "stream",
          "name": "stdout",
          "text": [
            "Evaluation \t Proposed point \t  Current eval. \t  Best eval. \t        Exact ERM: StdDev. x \t Approx ERM: StdDev. x \n",
            "init\t [-2.8775728  -4.32472283]\t 59421.14819100274\t 2.8907294990196846\t    \t    \n",
            "init\t [-0.33103326  2.02440536]\t 2.8907294990196846\t 2.8907294990196846\t    \t    \n",
            "init\t [-0.71816756 -0.13115612]\t 25.271447350027046\t 2.8907294990196846\t    \t    \n",
            "init\t [-4.38497267 -0.11365553]\t 133.2515796886641\t 2.8907294990196846\t    \t    \n",
            "init\t [3.97625987 3.1571558 ]\t 16859.81677190551\t 2.8907294990196846\t    \t    \n",
            "1  \t [ 3.37087964 -3.22386427]\t 14238.39777012734\t 2.8907294990196846\t 2.723999950131864\t 4.155631722497872\n",
            "2  \t [-2.76283728  2.40869011]\t 1230.7881810804965\t 2.8907294990196846\t 1.9990436341156474\t 3.5115758000626225\n",
            "3  \t [0.28356989 4.5       ]\t 859.8471512261841\t 2.8907294990196846\t 2.619837253532061\t 3.444458025801818\n",
            "\u001b[1m\u001b[92m4\u001b[0m\t \u001b[1m\u001b[92m[1.8354214  0.10859602]\u001b[0m\t \u001b[1m\u001b[92m0.8359668767202896\u001b[0m\t \u001b[1m\u001b[92m0.8359668767202896\u001b[0m\t \u001b[1m\u001b[92m2.4713538409009614\u001b[0m\t \u001b[1m\u001b[92m3.3654337560325245\u001b[0m\n",
            "5  \t [ 0.42129943 -2.32592413]\t 26.479339879007178\t 0.8359668767202896\t 2.4530709429477207\t 3.548670936855182\n",
            "6  \t [3.7936422 0.011555 ]\t 8.808608782561603\t 0.8359668767202896\t 2.6310780972089596\t 3.3148469228980244\n",
            "7  \t [-2.4981406 -0.7898505]\t 86.20508189128338\t 0.8359668767202896\t 2.874000193074521\t 3.455632618110554\n",
            "8  \t [ 0.35700806 -4.40166831]\t 871.7970965497827\t 0.8359668767202896\t 2.438073389638976\t 3.4488677474139466\n",
            "9  \t [-1.76789393  4.09858118]\t 14440.591788800817\t 0.8359668767202896\t 2.835660784695782\t 3.653374157361278\n",
            "10 \t [1.27606527 2.40648206]\t 446.8646761132617\t 0.8359668767202896\t 2.7658393512835087\t 3.732102372378634\n",
            "11 \t [-4.39036221  1.57186519]\t 119.43295803440736\t 0.8359668767202896\t 2.318509294442638\t 4.127826884949357\n",
            "12 \t [-4.27653337  3.83380997]\t 58079.27949407449\t 0.8359668767202896\t 2.807089419352476\t 3.4439167376478768\n",
            "13 \t [-2.28487436  0.81124291]\t 26.533923060598248\t 0.8359668767202896\t 2.4243093898753445\t 3.06910293213073\n",
            "14 \t [ 0.65309403 -0.79625457]\t 6.847704257295359\t 0.8359668767202896\t 2.766575575450001\t 3.598790451005896\n",
            "15 \t [-1.09450013 -1.74851466]\t 111.91712797863349\t 0.8359668767202896\t 2.952868682679674\t 3.4234747647055026\n",
            "16 \t [-4.17317556 -1.71896416]\t 983.6511017697267\t 0.8359668767202896\t 2.5508212622952904\t 3.319603348793219\n",
            "17 \t [0.78716132 0.7872887 ]\t 10.518202860902942\t 0.8359668767202896\t 2.3447894996538277\t 3.1454407881457036\n",
            "18 \t [2.61931758 1.32327711]\t 60.19842348991257\t 0.8359668767202896\t 2.7964488649564845\t 3.1693016790713116\n",
            "19 \t [ 2.77981617 -1.09247717]\t 40.68992065565606\t 0.8359668767202896\t 2.7214322108255806\t 3.354906053095528\n",
            "20 \t [1.93326199 3.77247202]\t 11738.666688712347\t 0.8359668767202896\t 2.9700988107303874\t 3.6575438410631773\n"
          ]
        }
      ],
      "source": [
        "### EXACT STP ERM GRADIENTS\n",
        "\n",
        "np.random.seed(run_num_11)\n",
        "surrogate_exact_11 = dtStudentProcess(cov_func, optimize=opt, nu = df)\n",
        "\n",
        "exact_11 = dGPGO(surrogate_exact_11, Acquisition_grad(util), objfunc, param)\n",
        "exact_11.run(init_evals=n_init, max_iter=iters)\n"
      ]
    },
    {
      "cell_type": "code",
      "execution_count": 45,
      "metadata": {
        "id": "MlUNFjc-JTBY",
        "colab": {
          "base_uri": "https://localhost:8080/"
        },
        "outputId": "25514b85-6803-40dd-adde-cd177fd0aa04"
      },
      "outputs": [
        {
          "output_type": "stream",
          "name": "stdout",
          "text": [
            "Evaluation \t Proposed point \t  Current eval. \t  Best eval. \t        Exact ERM: StdDev. x \t Approx ERM: StdDev. x \n",
            "init\t [-3.11253442  2.16044727]\t 746.3412720881302\t 48.45196617039589\t    \t    \n",
            "init\t [-2.13016486  0.30365454]\t 48.45196617039589\t 48.45196617039589\t    \t    \n",
            "init\t [-4.36882534  3.76872307]\t 54651.235607336355\t 48.45196617039589\t    \t    \n",
            "init\t [ 3.60643369 -4.19920715]\t 76007.68460600567\t 48.45196617039589\t    \t    \n",
            "init\t [ 4.11254403 -3.26511611]\t 22941.17826205435\t 48.45196617039589\t    \t    \n",
            "1  \t [4.5 4.5]\t 174813.36328125\t 48.45196617039589\t 3.7112251900295616\t 3.392154672672606\n",
            "\u001b[1m\u001b[92m2\u001b[0m\t \u001b[1m\u001b[92m[0.3638476  2.00800877]\u001b[0m\t \u001b[1m\u001b[92m41.84217349319556\u001b[0m\t \u001b[1m\u001b[92m41.84217349319556\u001b[0m\t \u001b[1m\u001b[92m3.3003256713448286\u001b[0m\t \u001b[1m\u001b[92m2.822382098244549\u001b[0m\n",
            "3  \t [-4.5 -4.5]\t 181853.61328125\t 41.84217349319556\t 3.1669179688798663\t 3.2400819168962816\n",
            "\u001b[1m\u001b[92m4\u001b[0m\t \u001b[1m\u001b[92m[-0.21879947 -2.21445007]\u001b[0m\t \u001b[1m\u001b[92m34.04918797856735\u001b[0m\t \u001b[1m\u001b[92m34.04918797856735\u001b[0m\t \u001b[1m\u001b[92m2.112244566919425\u001b[0m\t \u001b[1m\u001b[92m2.098964278602236\u001b[0m\n",
            "\u001b[1m\u001b[92m5\u001b[0m\t \u001b[1m\u001b[92m[2.82520411 0.17767102]\u001b[0m\t \u001b[1m\u001b[92m0.9479404731251339\u001b[0m\t \u001b[1m\u001b[92m0.9479404731251339\u001b[0m\t \u001b[1m\u001b[92m2.2223380770413064\u001b[0m\t \u001b[1m\u001b[92m2.5434744719001516\u001b[0m\n",
            "6  \t [0.70421728 4.07203655]\t 2635.524047786941\t 0.9479404731251339\t 2.5200848806538096\t 2.7936382886507354\n",
            "7  \t [-4.46846946 -0.40873478]\t 151.16371339331403\t 0.9479404731251339\t 2.395593284805786\t 2.5877570646454227\n",
            "8  \t [ 1.19387567 -0.87091624]\t 4.79915534890158\t 0.9479404731251339\t 2.4064644463139464\t 2.215976156421837\n",
            "9  \t [-0.74682971 -4.17808997]\t 3475.253119538916\t 0.9479404731251339\t 2.286477580510356\t 2.737621293119461\n",
            "10 \t [-2.16827396 -1.53628135]\t 209.6327508329746\t 0.9479404731251339\t 2.4759686528492075\t 2.6913837868169486\n",
            "11 \t [-1.37393252  4.25814744]\t 10882.280750791793\t 0.9479404731251339\t 2.232367330067548\t 2.3840221483031394\n",
            "12 \t [2.13637894 2.21482108]\t 690.6665279665276\t 0.9479404731251339\t 2.2584316079906626\t 2.6892930255625553\n",
            "13 \t [ 4.0400675  -0.89956588]\t 59.285906202382264\t 0.9479404731251339\t 2.4079066852389692\t 2.7221239955678307\n",
            "14 \t [-0.25969662  0.01665031]\t 17.701016291824278\t 0.9479404731251339\t 2.316989909569769\t 2.3147817945746008\n",
            "15 \t [-1.13101184  1.63954599]\t 2.228949005085081\t 0.9479404731251339\t 2.7382482079986543\t 2.5935721447847637\n",
            "16 \t [3.67292068 1.46165267]\t 160.0889791074933\t 0.9479404731251339\t 2.310283464117215\t 2.5340785886649697\n",
            "17 \t [1.2187776  0.80675174]\t 9.114364210147299\t 0.9479404731251339\t 2.0893100881226516\t 2.267557687910898\n",
            "18 \t [ 2.36394416 -2.57405516]\t 1894.5552476186708\t 0.9479404731251339\t 2.6502398100695053\t 3.050603971210079\n",
            "19 \t [-3.98089843 -1.95156269]\t 1565.379607598818\t 0.9479404731251339\t 2.5499231555473356\t 2.7322152605597765\n",
            "20 \t [ 0.9826192  -3.72137457]\t 2631.9163143000433\t 0.9479404731251339\t 2.2819911743613908\t 2.3479037395196\n"
          ]
        }
      ],
      "source": [
        "### EXACT STP ERM GRADIENTS\n",
        "\n",
        "np.random.seed(run_num_12)\n",
        "surrogate_exact_12 = dtStudentProcess(cov_func, optimize=opt, nu = df)\n",
        "\n",
        "exact_12 = dGPGO(surrogate_exact_12, Acquisition_grad(util), objfunc, param)\n",
        "exact_12.run(init_evals=n_init, max_iter=iters)\n"
      ]
    },
    {
      "cell_type": "code",
      "execution_count": 46,
      "metadata": {
        "id": "9BsKdU9eJTFL",
        "colab": {
          "base_uri": "https://localhost:8080/"
        },
        "outputId": "fa61e398-9546-441a-f71f-afdd8353feac"
      },
      "outputs": [
        {
          "output_type": "stream",
          "name": "stdout",
          "text": [
            "Evaluation \t Proposed point \t  Current eval. \t  Best eval. \t        Exact ERM: StdDev. x \t Approx ERM: StdDev. x \n",
            "init\t [ 2.4993217  -2.36212902]\t 1312.0597023727128\t 25.917758071459016\t    \t    \n",
            "init\t [2.91850679 4.19174278]\t 48757.43948599124\t 25.917758071459016\t    \t    \n",
            "init\t [ 4.25341003 -0.41895677]\t 25.917758071459016\t 25.917758071459016\t    \t    \n",
            "init\t [0.98138216 2.47973863]\t 337.8750512678324\t 25.917758071459016\t    \t    \n",
            "init\t [1.2745201  1.99816407]\t 177.1374160884886\t 25.917758071459016\t    \t    \n",
            "1  \t [-1.3620619   0.56042914]\t 28.58652179798336\t 25.917758071459016\t 3.282293957041925\t 2.8362337599680076\n",
            "2  \t [-4.5 -4.5]\t 181853.61328125\t 25.917758071459016\t 2.9961625222568036\t 3.789598165454842\n",
            "3  \t [-2.3739109   4.04983962]\t 24521.854857021743\t 25.917758071459016\t 2.6775631968882077\t 3.5065432798255456\n",
            "4  \t [-0.99121904 -2.00315788]\t 154.76321179041608\t 25.917758071459016\t 2.6321209733597333\t 3.4846456860498\n",
            "5  \t [-4.35456867  0.17918457]\t 115.9068608126963\t 25.917758071459016\t 3.0773686817039665\t 4.22544938359788\n",
            "\u001b[1m\u001b[92m6\u001b[0m\t \u001b[1m\u001b[92m[ 1.43162914 -0.31519818]\u001b[0m\t \u001b[1m\u001b[92m2.38849533316766\u001b[0m\t \u001b[1m\u001b[92m2.38849533316766\u001b[0m\t \u001b[1m\u001b[92m2.7313856339585447\u001b[0m\t \u001b[1m\u001b[92m3.6184327632614295\u001b[0m\n",
            "7  \t [-0.22995008 -4.45390569]\t 548.851268476361\t 2.38849533316766\t 2.835735814866244\t 3.777498053984183\n",
            "8  \t [4.5       1.5692396]\t 335.1796774948876\t 2.38849533316766\t 2.8719122139935482\t 3.642173684049217\n",
            "9  \t [ 1.66549453 -3.96521153]\t 11345.80324911092\t 2.38849533316766\t 2.7235028305601285\t 3.745304987709418\n",
            "10 \t [-2.96957485 -0.72414682]\t 102.42538344178577\t 2.38849533316766\t 2.6667359709697656\t 3.6724159938872187\n",
            "11 \t [ 4.04489422 -3.54750737]\t 35822.22686240255\t 2.38849533316766\t 2.7038573166468205\t 3.497725307918637\n",
            "12 \t [-3.18364519  1.67208516]\t 94.78185313648322\t 2.38849533316766\t 2.6866985581784064\t 3.088745029390449\n",
            "13 \t [0.127821 4.5     ]\t 226.05886567076396\t 2.38849533316766\t 2.5179908487987395\t 3.363338215096068\n",
            "14 \t [-0.5689861   1.95522186]\t 2.450767113581734\t 2.38849533316766\t 2.391472017712476\t 3.280866040919244\n",
            "15 \t [2.56476427 1.04059402]\t 17.340503494335138\t 2.38849533316766\t 2.719422360108233\t 2.958471590280402\n",
            "16 \t [ 0.9934189  -1.99038828]\t 67.58301147909872\t 2.38849533316766\t 2.4476606821588187\t 3.095149020400884\n",
            "17 \t [-1.67884278 -3.22620858]\t 3939.285047091556\t 2.38849533316766\t 3.03223066378353\t 3.38639362929494\n",
            "18 \t [-4.5         2.59094824]\t 5643.772724861512\t 2.38849533316766\t 2.7713067751868854\t 3.2777367651644753\n",
            "19 \t [0.06195735 0.31949297]\t 13.520086364698182\t 2.38849533316766\t 2.566414302647092\t 2.58191527639179\n",
            "20 \t [-4.15989352 -1.87987616]\t 1435.2237160416555\t 2.38849533316766\t 3.1604398551238964\t 3.897395384505139\n"
          ]
        }
      ],
      "source": [
        "### EXACT STP ERM GRADIENTS\n",
        "\n",
        "np.random.seed(run_num_13)\n",
        "surrogate_exact_13 = dtStudentProcess(cov_func, optimize=opt, nu = df)\n",
        "\n",
        "exact_13 = dGPGO(surrogate_exact_13, Acquisition_grad(util), objfunc, param)\n",
        "exact_13.run(init_evals=n_init, max_iter=iters)\n"
      ]
    },
    {
      "cell_type": "code",
      "execution_count": 47,
      "metadata": {
        "id": "k6GjFBr1JTJf",
        "colab": {
          "base_uri": "https://localhost:8080/"
        },
        "outputId": "460c675e-462b-4830-d1c6-6c1052f4cb51"
      },
      "outputs": [
        {
          "output_type": "stream",
          "name": "stdout",
          "text": [
            "Evaluation \t Proposed point \t  Current eval. \t  Best eval. \t        Exact ERM: StdDev. x \t Approx ERM: StdDev. x \n",
            "init\t [0.12549009 2.45848547]\t 30.19066754742359\t 11.367015527968295\t    \t    \n",
            "init\t [ 3.33384917 -4.42757746]\t 88548.3950659154\t 11.367015527968295\t    \t    \n",
            "init\t [-1.71237667  4.11843365]\t 13933.414320383567\t 11.367015527968295\t    \t    \n",
            "init\t [ 0.11805041 -1.63544018]\t 11.367015527968295\t 11.367015527968295\t    \t    \n",
            "init\t [ 0.35279944 -2.50870552]\t 27.90050047415725\t 11.367015527968295\t    \t    \n",
            "1  \t [3.02114695 2.14578923]\t 1064.7464748913296\t 11.367015527968295\t 3.4435364426803288\t 3.4805081088207905\n",
            "2  \t [-2.7042976  -4.43938819]\t 61131.93409576092\t 11.367015527968295\t 4.0456554287109\t 3.908575127186448\n",
            "3  \t [-4.08785431  0.19115862]\t 106.07884345821006\t 11.367015527968295\t 3.2313555114716674\t 3.507851254441235\n",
            "4  \t [4.5 4.5]\t 174813.36328125\t 11.367015527968295\t 2.122871773637881\t 3.7560917480931915\n",
            "5  \t [ 4.24394386 -0.25925689]\t 20.56352008727636\t 11.367015527968295\t 2.5454277161499532\t 3.155058550686578\n",
            "6  \t [-1.57031986  0.47930597]\t 33.519871061519936\t 11.367015527968295\t 2.4127799902021008\t 2.993151109080024\n",
            "\u001b[1m\u001b[92m7\u001b[0m\t \u001b[1m\u001b[92m[1.64305804 0.23659009]\u001b[0m\t \u001b[1m\u001b[92m1.556249197800946\u001b[0m\t \u001b[1m\u001b[92m1.556249197800946\u001b[0m\t \u001b[1m\u001b[92m2.7356300367078936\u001b[0m\t \u001b[1m\u001b[92m2.93276028852822\u001b[0m\n",
            "8  \t [-4.34255318  2.60035667]\t 5362.99879300068\t 1.556249197800946\t 2.783090900934302\t 3.5033911743030313\n",
            "9  \t [1.14173756 4.04980523]\t 6396.288171367696\t 1.556249197800946\t 2.5470390593920404\t 3.1743291091922208\n",
            "10 \t [-4.2017067  -1.74335385]\t 1055.8268164993833\t 1.556249197800946\t 2.2572827342965915\t 3.07065925930697\n",
            "11 \t [-1.75713155 -1.50255432]\t 141.7534297377665\t 1.556249197800946\t 2.4074760475857606\t 3.453788861071027\n",
            "12 \t [ 2.46718167 -1.37792466]\t 78.67555156894036\t 1.556249197800946\t 2.7296173885838066\t 3.2276115585076597\n",
            "13 \t [ 0.2433667 -4.4941348]\t 436.3674132176181\t 1.556249197800946\t 3.0057877062253104\t 3.44997746525247\n",
            "14 \t [0.0788846  0.16994899]\t 13.266168764213873\t 1.556249197800946\t 2.8563021114695823\t 3.7687039167347094\n",
            "15 \t [1.73336121 1.54835778]\t 81.50434895487521\t 1.556249197800946\t 2.737352901094892\t 3.181564408536583\n",
            "16 \t [-2.47539284  1.94499545]\t 194.18569385519365\t 1.556249197800946\t 2.611041447472985\t 3.2771685399471018\n",
            "17 \t [-1.2831629  -2.88803194]\t 1305.7552056952318\t 1.556249197800946\t 2.9245828146361115\t 3.6513967330565413\n",
            "18 \t [ 3.8791844  -1.93062218]\t 1112.808491598094\t 1.556249197800946\t 2.874886640091191\t 3.6343560837938056\n",
            "19 \t [3.80794676 1.06704753]\t 22.654288334677865\t 1.556249197800946\t 2.8180121928485957\t 3.2642392069755415\n",
            "20 \t [-0.51412217  1.32460792]\t 9.024453330675918\t 1.556249197800946\t 3.22637524675269\t 3.7118344702049497\n"
          ]
        }
      ],
      "source": [
        "### EXACT STP ERM GRADIENTS\n",
        "\n",
        "np.random.seed(run_num_14)\n",
        "surrogate_exact_14 = dtStudentProcess(cov_func, optimize=opt, nu = df)\n",
        "\n",
        "exact_14 = dGPGO(surrogate_exact_14, Acquisition_grad(util), objfunc, param)\n",
        "exact_14.run(init_evals=n_init, max_iter=iters)\n"
      ]
    },
    {
      "cell_type": "code",
      "execution_count": 48,
      "metadata": {
        "id": "dPS8WB3aJTN6",
        "colab": {
          "base_uri": "https://localhost:8080/"
        },
        "outputId": "ac850e52-c51b-46a9-b093-3fc310fb8444"
      },
      "outputs": [
        {
          "output_type": "stream",
          "name": "stdout",
          "text": [
            "Evaluation \t Proposed point \t  Current eval. \t  Best eval. \t        Exact ERM: StdDev. x \t Approx ERM: StdDev. x \n",
            "init\t [ 3.13935928 -2.88993668]\t 6575.875821208801\t 47.082686538130915\t    \t    \n",
            "init\t [-4.01073107 -1.24615399]\t 317.710908287677\t 47.082686538130915\t    \t    \n",
            "init\t [-2.02139164  0.27000202]\t 47.082686538130915\t 47.082686538130915\t    \t    \n",
            "init\t [-1.74672976 -1.75973077]\t 234.8792968363759\t 47.082686538130915\t    \t    \n",
            "init\t [-3.49432851 -2.25090888]\t 2421.671033348018\t 47.082686538130915\t    \t    \n",
            "\u001b[1m\u001b[92m1\u001b[0m\t \u001b[1m\u001b[92m[-4.2231993   1.25540485]\u001b[0m\t \u001b[1m\u001b[92m2.484096500444409\u001b[0m\t \u001b[1m\u001b[92m2.484096500444409\u001b[0m\t \u001b[1m\u001b[92m3.4019447496601622\u001b[0m\t \u001b[1m\u001b[92m3.932382036667184\u001b[0m\n",
            "2  \t [4.5 4.5]\t 174813.36328125\t 2.484096500444409\t 2.7204117899479927\t 3.6235814674452294\n",
            "3  \t [-1.50884704  4.5       ]\t 18517.13081168743\t 2.484096500444409\t 3.1422987850665107\t 3.602090456499991\n",
            "4  \t [1.00653116 1.05051533]\t 15.705947284777894\t 2.484096500444409\t 2.917317485455993\t 3.501544385228378\n",
            "5  \t [-0.87742491 -3.95633549]\t 3492.0144638539\t 2.484096500444409\t 2.837565538461433\t 2.735545608803189\n",
            "\u001b[1m\u001b[92m6\u001b[0m\t \u001b[1m\u001b[92m[3.79792661 0.40360692]\u001b[0m\t \u001b[1m\u001b[92m2.301161102558612\u001b[0m\t \u001b[1m\u001b[92m2.301161102558612\u001b[0m\t \u001b[1m\u001b[92m3.129380902982375\u001b[0m\t \u001b[1m\u001b[92m3.8738019650014732\u001b[0m\n",
            "7  \t [-4.5 -4.5]\t 181853.61328125\t 2.301161102558612\t 3.183433578238568\t 4.1296814591282365\n",
            "8  \t [ 0.49896118 -1.15576685]\t 7.862567773937405\t 2.301161102558612\t 2.492503954364445\t 3.4908648332090344\n",
            "9  \t [1.32674806 3.02709005]\t 1640.238077170978\t 2.301161102558612\t 1.9091053145634906\t 3.244100851292742\n",
            "\u001b[1m\u001b[92m10\u001b[0m\t \u001b[1m\u001b[92m[-0.736405    1.70886425]\u001b[0m\t \u001b[1m\u001b[92m1.7535088634651756\u001b[0m\t \u001b[1m\u001b[92m1.7535088634651756\u001b[0m\t \u001b[1m\u001b[92m2.0807529306184622\u001b[0m\t \u001b[1m\u001b[92m3.5014939805138003\u001b[0m\n",
            "11 \t [-4.3425648  3.1107031]\t 16627.09126169064\t 1.7535088634651756\t 2.0879675806669575\t 3.702334998912798\n",
            "12 \t [ 1.16009973 -3.6969676 ]\t 3569.2453755226347\t 1.7535088634651756\t 2.257016161930981\t 3.327053613279683\n",
            "13 \t [ 2.32886751 -0.70191896]\t 7.470173680408265\t 1.7535088634651756\t 2.3344520732423084\t 3.3716149811824274\n",
            "14 \t [2.73456781 1.65478648]\t 210.7168219815587\t 1.7535088634651756\t 2.5846694969237634\t 3.436746431939849\n",
            "15 \t [ 4.5        -1.08729563]\t 130.38720404961518\t 1.7535088634651756\t 1.820129857662549\t 3.5845804049899725\n",
            "16 \t [-0.49901724  0.0254434 ]\t 21.260221495756696\t 1.7535088634651756\t 2.586111647691698\t 3.5479477377011186\n",
            "17 \t [-2.33091802  2.02301247]\t 231.07819601189857\t 1.7535088634651756\t 2.026657725267222\t 3.677810770072223\n",
            "18 \t [2.27519523 4.5       ]\t 45339.648951916606\t 1.7535088634651756\t 2.73177501623038\t 3.640338715934841\n",
            "19 \t [-3.6858111   2.14106255]\t 1019.385975007073\t 1.7535088634651756\t 2.706927920242749\t 2.7290061923120676\n",
            "20 \t [-0.14372519  3.24888098]\t 6.818949423708257\t 1.7535088634651756\t 2.2709337829178544\t 4.036413851674235\n"
          ]
        }
      ],
      "source": [
        "### EXACT STP ERM GRADIENTS\n",
        "\n",
        "np.random.seed(run_num_15)\n",
        "surrogate_exact_15 = dtStudentProcess(cov_func, optimize=opt, nu = df)\n",
        "\n",
        "exact_15 = dGPGO(surrogate_exact_15, Acquisition_grad(util), objfunc, param)\n",
        "exact_15.run(init_evals=n_init, max_iter=iters)\n"
      ]
    },
    {
      "cell_type": "code",
      "execution_count": 49,
      "metadata": {
        "id": "lu8ki9XIQPPN",
        "colab": {
          "base_uri": "https://localhost:8080/"
        },
        "outputId": "4fb84f48-39f5-4bf3-e31e-290494e46795"
      },
      "outputs": [
        {
          "output_type": "stream",
          "name": "stdout",
          "text": [
            "Evaluation \t Proposed point \t  Current eval. \t  Best eval. \t        Exact ERM: StdDev. x \t Approx ERM: StdDev. x \n",
            "init\t [-2.49038029  0.20847007]\t 59.442894178636664\t 59.442894178636664\t    \t    \n",
            "init\t [ 0.45631311 -4.08958245]\t 932.9374489641153\t 59.442894178636664\t    \t    \n",
            "init\t [-1.25344048 -2.49227152]\t 594.9494957841517\t 59.442894178636664\t    \t    \n",
            "init\t [ 1.69853546 -3.02641717]\t 2418.389440420566\t 59.442894178636664\t    \t    \n",
            "init\t [-3.8670762   3.96909774]\t 58473.38862292419\t 59.442894178636664\t    \t    \n",
            "1  \t [4.5 4.5]\t 174813.36328125\t 59.442894178636664\t 4.035917866347818\t 4.058336365264469\n",
            "2  \t [-4.5 -4.5]\t 181853.61328125\t 59.442894178636664\t 3.4633051379895483\t 3.392246761846429\n",
            "\u001b[1m\u001b[92m3\u001b[0m\t \u001b[1m\u001b[92m[0.40633477 1.79762317]\u001b[0m\t \u001b[1m\u001b[92m34.25975673538963\u001b[0m\t \u001b[1m\u001b[92m34.25975673538963\u001b[0m\t \u001b[1m\u001b[92m2.3796321688392696\u001b[0m\t \u001b[1m\u001b[92m2.750719686181205\u001b[0m\n",
            "\u001b[1m\u001b[92m4\u001b[0m\t \u001b[1m\u001b[92m[ 3.89010981 -0.13096572]\u001b[0m\t \u001b[1m\u001b[92m12.505803713943388\u001b[0m\t \u001b[1m\u001b[92m12.505803713943388\u001b[0m\t \u001b[1m\u001b[92m2.357562257028644\u001b[0m\t \u001b[1m\u001b[92m3.570028443584319\u001b[0m\n",
            "\u001b[1m\u001b[92m5\u001b[0m\t \u001b[1m\u001b[92m[ 1.08269732 -0.46423035]\u001b[0m\t \u001b[1m\u001b[92m4.025363473461972\u001b[0m\t \u001b[1m\u001b[92m4.025363473461972\u001b[0m\t \u001b[1m\u001b[92m1.9210674818906743\u001b[0m\t \u001b[1m\u001b[92m2.7089662715691287\u001b[0m\n",
            "6  \t [0.21032761 4.25473731]\t 385.4672840252961\t 4.025363473461972\t 2.8503232945251895\t 3.473821828050416\n",
            "7  \t [ 4.05486449 -4.0114029 ]\t 73636.10083315914\t 4.025363473461972\t 2.415017508570213\t 3.181324885816336\n",
            "8  \t [2.55754102 1.4787623 ]\t 104.87235842132478\t 4.025363473461972\t 2.110684188604036\t 2.37639706982003\n",
            "9  \t [-1.46104019  2.19765433]\t 141.70213750278884\t 4.025363473461972\t 2.341645148947768\t 2.7744465964683958\n",
            "10 \t [-4.47823448 -0.66097549]\t 173.1616140960269\t 4.025363473461972\t 2.48402638103825\t 2.646481715516819\n",
            "11 \t [-0.74845377 -0.4451362 ]\t 26.61805397086357\t 4.025363473461972\t 2.2685151893437667\t 2.8049528891787823\n",
            "\u001b[1m\u001b[92m12\u001b[0m\t \u001b[1m\u001b[92m[-4.30284394  1.12386036]\u001b[0m\t \u001b[1m\u001b[92m2.857586843220199\u001b[0m\t \u001b[1m\u001b[92m2.857586843220199\u001b[0m\t \u001b[1m\u001b[92m2.5072378954417083\u001b[0m\t \u001b[1m\u001b[92m2.841030575054013\u001b[0m\n",
            "13 \t [-2.93170552 -1.48530445]\t 308.77468461080997\t 2.857586843220199\t 2.2936377475983103\t 2.405950306789862\n",
            "14 \t [-1.76739332 -4.14572379]\t 17791.34384330296\t 2.857586843220199\t 2.1985037880044325\t 2.3389274930042956\n",
            "15 \t [ 2.68227176 -1.31378022]\t 77.46106264207313\t 2.857586843220199\t 2.3608172972477264\t 2.2966347503510702\n",
            "16 \t [ 0.3307613  -1.96134105]\t 10.497973972033153\t 2.857586843220199\t 1.8185276081075565\t 2.129475981511284\n",
            "17 \t [1.60635802 3.10804603]\t 2710.3440002026873\t 2.857586843220199\t 2.4812279930470496\t 2.715883332946952\n",
            "18 \t [4.24147795 2.16818741]\t 2095.6619110913775\t 2.857586843220199\t 2.3801815892343208\t 2.4331193658318324\n",
            "19 \t [-1.58853504  4.5       ]\t 20571.006902530655\t 2.857586843220199\t 2.1163748589997797\t 2.171575947018181\n",
            "20 \t [-3.30607668 -3.00494204]\t 9954.057252101302\t 2.857586843220199\t 2.736524929988495\t 2.4782642823855268\n"
          ]
        }
      ],
      "source": [
        "### EXACT STP ERM GRADIENTS\n",
        "\n",
        "np.random.seed(run_num_16)\n",
        "surrogate_exact_16 = dtStudentProcess(cov_func, optimize=opt, nu = df)\n",
        "\n",
        "exact_16 = dGPGO(surrogate_exact_16, Acquisition_grad(util), objfunc, param)\n",
        "exact_16.run(init_evals=n_init, max_iter=iters)\n"
      ]
    },
    {
      "cell_type": "code",
      "execution_count": 50,
      "metadata": {
        "id": "yU2SflSsJTUs",
        "colab": {
          "base_uri": "https://localhost:8080/"
        },
        "outputId": "c0c3ac1a-229a-4a66-fcb0-50ab75975c89"
      },
      "outputs": [
        {
          "output_type": "stream",
          "name": "stdout",
          "text": [
            "Evaluation \t Proposed point \t  Current eval. \t  Best eval. \t        Exact ERM: StdDev. x \t Approx ERM: StdDev. x \n",
            "init\t [-1.84801498  0.2752808 ]\t 43.39160388622011\t 6.891623366037299\t    \t    \n",
            "init\t [-2.77631292 -3.88889678]\t 30048.58268621874\t 6.891623366037299\t    \t    \n",
            "init\t [2.58286914 1.4070017 ]\t 81.72560623465196\t 6.891623366037299\t    \t    \n",
            "init\t [1.23768806 0.68042604]\t 6.891623366037299\t 6.891623366037299\t    \t    \n",
            "init\t [-4.14843375 -1.27967756]\t 359.4343933746243\t 6.891623366037299\t    \t    \n",
            "1  \t [ 4.35945178 -3.9086791 ]\t 73232.4143310993\t 6.891623366037299\t 2.6989897375605354\t 4.275542575222288\n",
            "2  \t [-0.85775711  4.5       ]\t 5782.8121791438425\t 6.891623366037299\t 2.573651005124183\t 3.659207144759502\n",
            "3  \t [4.5 4.5]\t 174813.36328125\t 6.891623366037299\t 3.0184494889635625\t 3.541895103157955\n",
            "4  \t [-3.26020916  2.40465371]\t 1743.5131005326175\t 6.891623366037299\t 3.1964278579971044\t 3.632651547286546\n",
            "5  \t [ 0.33581831 -1.74184714]\t 9.203037724799993\t 6.891623366037299\t 2.8666214569246957\t 3.548731223252826\n",
            "6  \t [4.32110218 0.0892068 ]\t 12.946872244122787\t 6.891623366037299\t 2.9533652349770008\t 3.3471161291027456\n",
            "7  \t [1.34559226 2.69353717]\t 888.4403279214068\t 6.891623366037299\t 2.815675515869782\t 3.2313136760213697\n",
            "8  \t [-1.73704513e-03 -3.71687692e+00]\t 14.613763136751487\t 6.891623366037299\t 2.8183225247593153\t 3.5525254228974856\n",
            "9  \t [-0.41005434  1.43498722]\t 8.368105344243254\t 6.891623366037299\t 3.1152146655974113\t 3.875142710458242\n",
            "10 \t [ 2.29153712 -1.06191548]\t 22.675964688745502\t 6.891623366037299\t 2.752409474156007\t 3.3523597276510264\n",
            "11 \t [-4.10173859  0.55141941]\t 73.68146590106406\t 6.891623366037299\t 3.112614351893115\t 3.5890005666583393\n",
            "12 \t [-1.39975413 -1.50337024]\t 102.38051137010318\t 6.891623366037299\t 3.0272510146444076\t 3.9154161068409956\n",
            "13 \t [-1.49252599  2.67621792]\t 649.0461377640203\t 6.891623366037299\t 2.7792095717939422\t 3.1548391795808075\n",
            "14 \t [-2.77808746 -0.91725703]\t 110.79652438002805\t 6.891623366037299\t 2.967326540088049\t 3.4989913002635005\n",
            "15 \t [-0.09667891 -0.26057642]\t 15.523451665676319\t 6.891623366037299\t 3.118903999137135\t 3.2718657394975144\n",
            "16 \t [-4.1510159   3.72906084]\t 46193.9988104917\t 6.891623366037299\t 2.8763969079301677\t 3.326171595891722\n",
            "17 \t [ 1.65906962 -2.78223734]\t 1411.8816211052365\t 6.891623366037299\t 2.958886603478269\t 2.9285279788614322\n",
            "18 \t [-4.5 -4.5]\t 181853.61328125\t 6.891623366037299\t 1.813095915914828\t 2.1832255319186427\n",
            "19 \t [ 1.2294908  -4.44056272]\t 11956.562104922947\t 6.891623366037299\t 2.3844305377859993\t 2.368247575183579\n",
            "20 \t [4.2385815  2.07312291]\t 1606.9017167450993\t 6.891623366037299\t 2.7459253088777\t 2.6414547769935406\n"
          ]
        }
      ],
      "source": [
        "### EXACT STP ERM GRADIENTS\n",
        "\n",
        "np.random.seed(run_num_17)\n",
        "surrogate_exact_17 = dtStudentProcess(cov_func, optimize=opt, nu = df)\n",
        "\n",
        "exact_17 = dGPGO(surrogate_exact_17, Acquisition_grad(util), objfunc, param)\n",
        "exact_17.run(init_evals=n_init, max_iter=iters)\n"
      ]
    },
    {
      "cell_type": "code",
      "execution_count": 51,
      "metadata": {
        "id": "eVEhyZ9BQS-1",
        "colab": {
          "base_uri": "https://localhost:8080/"
        },
        "outputId": "60290a71-a673-4ad0-b319-2400c5e79596"
      },
      "outputs": [
        {
          "output_type": "stream",
          "name": "stdout",
          "text": [
            "Evaluation \t Proposed point \t  Current eval. \t  Best eval. \t        Exact ERM: StdDev. x \t Approx ERM: StdDev. x \n",
            "init\t [1.35336818 0.04908036]\t 2.472652645883837\t 2.472652645883837\t    \t    \n",
            "init\t [ 3.40741324 -2.86343797]\t 7379.017314590048\t 2.472652645883837\t    \t    \n",
            "init\t [3.17009762 2.25122657]\t 1528.3101419799655\t 2.472652645883837\t    \t    \n",
            "init\t [1.49491501 4.39105903]\t 17224.913295283764\t 2.472652645883837\t    \t    \n",
            "init\t [-2.1872842  -4.24524667]\t 31030.348242396165\t 2.472652645883837\t    \t    \n",
            "1  \t [-4.40092736  2.56404717]\t 5035.96011064499\t 2.472652645883837\t 3.282949780319489\t 4.053218197663953\n",
            "2  \t [-1.35457812  0.02977407]\t 36.74107050916032\t 2.472652645883837\t 3.3912152402780698\t 3.526406167747907\n",
            "3  \t [4.5 4.5]\t 174813.36328125\t 2.472652645883837\t 3.3393905660767866\t 4.207154438587903\n",
            "4  \t [-4.14434242 -0.88726269]\t 190.09249673795992\t 2.472652645883837\t 2.656597375451357\t 3.765355142225287\n",
            "5  \t [3.62573451 0.1751258 ]\t 4.784335726556383\t 2.472652645883837\t 2.934885306437439\t 3.598835654520108\n",
            "6  \t [-1.51991399  3.14327297]\t 1983.5446803464852\t 2.472652645883837\t 2.7656673652924932\t 3.630512141269355\n",
            "7  \t [ 0.51496795 -2.1753889 ]\t 27.608922936000805\t 2.472652645883837\t 3.0880072121399516\t 3.6286146592237243\n",
            "8  \t [0.28884464 1.76089301]\t 26.432565457391746\t 2.472652645883837\t 2.6515125440600653\t 3.891322532422271\n",
            "9  \t [-3.04476498  0.86959432]\t 26.00401612970371\t 2.472652645883837\t 2.8343197018328774\t 4.0512293077386605\n",
            "10 \t [ 0.46978054 -3.94190255]\t 791.7238481723705\t 2.472652645883837\t 3.3340170625030083\t 3.787228314291937\n",
            "11 \t [-3.0293012   4.10669807]\t 43839.604417312235\t 2.472652645883837\t 3.0525014878216004\t 3.935646582325546\n",
            "12 \t [-4.5 -4.5]\t 181853.61328125\t 2.472652645883837\t 2.868184915577474\t 3.189548179814649\n",
            "13 \t [-2.17784436 -1.51331713]\t 201.48137862885878\t 2.472652645883837\t 2.2416018993916853\t 3.244687188521642\n",
            "14 \t [ 2.14036571 -4.18977671]\t 26141.045038253716\t 2.472652645883837\t 2.1352224091803547\t 3.355961306247289\n",
            "15 \t [ 2.63569356 -1.02492957]\t 28.51596002256222\t 2.472652645883837\t 2.494645752584032\t 3.4817365269190685\n",
            "16 \t [1.77884764 1.71366473]\t 136.10542926690363\t 2.472652645883837\t 2.06028181214726\t 3.1603503301984888\n",
            "17 \t [-0.0973465  -0.78158688]\t 15.701157411572103\t 2.472652645883837\t 2.7948765530721245\t 2.8909797033261913\n",
            "18 \t [-0.9084545  -2.54115928]\t 369.6437851159773\t 2.472652645883837\t 2.622875220247777\t 3.074623805913131\n",
            "19 \t [ 4.43716768 -1.2008613 ]\t 176.2331710758163\t 2.472652645883837\t 1.963927101588131\t 2.5834353492086883\n",
            "20 \t [-4.29624128  0.40297147]\t 94.82111747749623\t 2.472652645883837\t 2.734590063456981\t 3.6835842626489153\n"
          ]
        }
      ],
      "source": [
        "### EXACT STP ERM GRADIENTS\n",
        "\n",
        "np.random.seed(run_num_18)\n",
        "surrogate_exact_18 = dtStudentProcess(cov_func, optimize=opt, nu = df)\n",
        "\n",
        "exact_18 = dGPGO(surrogate_exact_18, Acquisition_grad(util), objfunc, param)\n",
        "exact_18.run(init_evals=n_init, max_iter=iters)\n"
      ]
    },
    {
      "cell_type": "code",
      "execution_count": 52,
      "metadata": {
        "id": "B6gTz1ojQUxn",
        "colab": {
          "base_uri": "https://localhost:8080/"
        },
        "outputId": "6dd8b9ba-0388-4140-c26e-c6b6a54ca7d1"
      },
      "outputs": [
        {
          "output_type": "stream",
          "name": "stdout",
          "text": [
            "Evaluation \t Proposed point \t  Current eval. \t  Best eval. \t        Exact ERM: StdDev. x \t Approx ERM: StdDev. x \n",
            "init\t [-3.62219758  2.35124745]\t 1879.409018573639\t 63.544086067314716\t    \t    \n",
            "init\t [-2.27755824 -3.25681481]\t 7496.243410303341\t 63.544086067314716\t    \t    \n",
            "init\t [-1.51698093 -3.75300391]\t 7497.407542620609\t 63.544086067314716\t    \t    \n",
            "init\t [1.54779373 2.75934418]\t 1302.4341957421634\t 63.544086067314716\t    \t    \n",
            "init\t [4.34467723 1.22094661]\t 63.544086067314716\t 63.544086067314716\t    \t    \n",
            "1  \t [ 4.24144768 -3.27994224]\t 25066.90388973683\t 63.544086067314716\t 3.226839509690986\t 4.287686750313873\n",
            "2  \t [4.5 4.5]\t 174813.36328125\t 63.544086067314716\t 3.007015252536517\t 4.0639513907883815\n",
            "\u001b[1m\u001b[92m3\u001b[0m\t \u001b[1m\u001b[92m[ 0.72389237 -0.4713087 ]\u001b[0m\t \u001b[1m\u001b[92m6.366618941918231\u001b[0m\t \u001b[1m\u001b[92m6.366618941918231\u001b[0m\t \u001b[1m\u001b[92m2.6069861892929147\u001b[0m\t \u001b[1m\u001b[92m2.996086483799383\u001b[0m\n",
            "4  \t [-1.09589222  4.3636585 ]\t 7939.628140900609\t 6.366618941918231\t 3.002047424690258\t 3.291416754678514\n",
            "\u001b[1m\u001b[92m5\u001b[0m\t \u001b[1m\u001b[92m[-1.30551489  1.23526488]\u001b[0m\t \u001b[1m\u001b[92m6.0276059683994365\u001b[0m\t \u001b[1m\u001b[92m6.0276059683994365\u001b[0m\t \u001b[1m\u001b[92m2.5897698548076105\u001b[0m\t \u001b[1m\u001b[92m3.3503257771861112\u001b[0m\n",
            "6  \t [-4.5 -4.5]\t 181853.61328125\t 6.0276059683994365\t 2.839436090006234\t 3.451248953379884\n",
            "7  \t [-1.51596225 -0.93489586]\t 54.55296486253938\t 6.0276059683994365\t 2.0308895410635337\t 3.3853699955712897\n",
            "8  \t [-4.5        -0.32286351]\t 147.9421403295511\t 6.0276059683994365\t 2.045977902918743\t 2.669163165451562\n",
            "9  \t [1.95231073 1.02095895]\t 15.38029543414035\t 6.0276059683994365\t 2.119372276606603\t 2.9454167754895453\n",
            "10 \t [ 1.17757219 -2.89603171]\t 866.7841061961152\t 6.0276059683994365\t 2.403737796850563\t 3.136484908051573\n",
            "11 \t [ 3.50455267 -0.61997766]\t 20.398547034194166\t 6.0276059683994365\t 1.8904860106834083\t 2.8276206938908475\n",
            "12 \t [ 0.38989793 -4.47984727]\t 1171.2998066609089\t 6.0276059683994365\t 2.2100254663390966\t 2.7691421455532024\n",
            "13 \t [-2.80963854  0.16930717]\t 68.87786002339988\t 6.0276059683994365\t 2.537543821874623\t 3.004414299523643\n",
            "14 \t [0.0116774  2.17342384]\t 15.021809929193354\t 6.0276059683994365\t 2.165790930450673\t 2.9077090331726905\n",
            "15 \t [-0.21737716 -1.93366406]\t 26.791156965140658\t 6.0276059683994365\t 2.2129610049559236\t 3.4418625156262626\n",
            "16 \t [1.50255457 4.42405985]\t 18174.115684455268\t 6.0276059683994365\t 2.260382230581184\t 3.3523467900674677\n",
            "17 \t [-3.74117718 -2.15183366]\t 2209.75588985008\t 6.0276059683994365\t 2.324859733808476\t 3.336268784628407\n",
            "18 \t [ 2.03970824 -1.40678243]\t 55.60157181825247\t 6.0276059683994365\t 2.3009199738925057\t 3.6734407587043187\n",
            "19 \t [3.32468788 2.3762434 ]\t 2278.1796557248804\t 6.0276059683994365\t 2.1077306030358076\t 3.1164423927371865\n",
            "20 \t [ 2.01058238 -4.34713897]\t 28626.165033268626\t 6.0276059683994365\t 2.3783534215033733\t 3.3273789068802575\n"
          ]
        }
      ],
      "source": [
        "### EXACT STP ERM GRADIENTS\n",
        "\n",
        "np.random.seed(run_num_19)\n",
        "surrogate_exact_19 = dtStudentProcess(cov_func, optimize=opt, nu = df)\n",
        "\n",
        "exact_19 = dGPGO(surrogate_exact_19, Acquisition_grad(util), objfunc, param)\n",
        "exact_19.run(init_evals=n_init, max_iter=iters)\n"
      ]
    },
    {
      "cell_type": "code",
      "execution_count": 53,
      "metadata": {
        "id": "aw3xvSryIwDi",
        "colab": {
          "base_uri": "https://localhost:8080/"
        },
        "outputId": "fdd38857-f766-4325-a753-7826f8f03cf0"
      },
      "outputs": [
        {
          "output_type": "stream",
          "name": "stdout",
          "text": [
            "Evaluation \t Proposed point \t  Current eval. \t  Best eval. \t        Exact ERM: StdDev. x \t Approx ERM: StdDev. x \n",
            "init\t [0.79317721 3.57942355]\t 1607.3829986954497\t 30.55204392634667\t    \t    \n",
            "init\t [3.52377657 2.8425373 ]\t 7209.150060592592\t 30.55204392634667\t    \t    \n",
            "init\t [-4.17699373  1.72581824]\t 253.68900136908488\t 30.55204392634667\t    \t    \n",
            "init\t [-1.09187152  0.16659851]\t 30.55204392634667\t 30.55204392634667\t    \t    \n",
            "init\t [ 1.42156319 -2.75534804]\t 963.9362838324588\t 30.55204392634667\t    \t    \n",
            "1  \t [-4.5 -4.5]\t 181853.61328125\t 30.55204392634667\t 3.432462306815486\t 3.8668700907619624\n",
            "2  \t [ 3.86001923 -0.86784666]\t 48.4086812354221\t 30.55204392634667\t 2.870902438158627\t 3.684254238405863\n",
            "3  \t [-2.15425903  3.89588229]\t 15854.899385477474\t 30.55204392634667\t 2.831554135702942\t 4.220754651787456\n",
            "4  \t [-1.1442791  -2.28105711]\t 335.20265897404863\t 30.55204392634667\t 2.8440756162188614\t 4.290052655909201\n",
            "\u001b[1m\u001b[92m5\u001b[0m\t \u001b[1m\u001b[92m[1.42663194 0.36707909]\u001b[0m\t \u001b[1m\u001b[92m2.998114713686749\u001b[0m\t \u001b[1m\u001b[92m2.998114713686749\u001b[0m\t \u001b[1m\u001b[92m2.9612782827578514\u001b[0m\t \u001b[1m\u001b[92m4.115533781579309\u001b[0m\n",
            "6  \t [ 3.64426552 -4.37676538]\t 98987.42794535059\t 2.998114713686749\t 3.1060195635049404\t 4.114024623442764\n",
            "7  \t [-4.3888382  -0.58774968]\t 160.44367190728934\t 2.998114713686749\t 3.507699335719216\t 3.7572040077074496\n",
            "8  \t [4.5 4.5]\t 174813.36328125\t 2.998114713686749\t 3.0004663848510447\t 3.4980254157021626\n",
            "9  \t [-0.82500884 -4.49292711]\t 6347.74620275359\t 2.998114713686749\t 2.3032152819372724\t 3.2716658256885864\n",
            "10 \t [3.88462468 1.05049962]\t 20.433259604047457\t 2.998114713686749\t 2.397063697084448\t 3.067607442872584\n",
            "11 \t [2.04195437 1.97427677]\t 344.45193662659625\t 2.998114713686749\t 2.4160011967763135\t 3.241075593831425\n",
            "\u001b[1m\u001b[92m12\u001b[0m\t \u001b[1m\u001b[92m[-0.40354771  1.97263874]\u001b[0m\t \u001b[1m\u001b[92m2.404690761231068\u001b[0m\t \u001b[1m\u001b[92m2.404690761231068\u001b[0m\t \u001b[1m\u001b[92m2.366654044602282\u001b[0m\t \u001b[1m\u001b[92m3.417812516928855\u001b[0m\n",
            "13 \t [-2.58891641 -1.60055989]\t 321.5576216073474\t 2.404690761231068\t 2.564148893614772\t 3.4447895366399557\n",
            "14 \t [-3.36580036  0.44119378]\t 68.54789947394076\t 2.404690761231068\t 2.3719421506551894\t 3.0110030523627285\n",
            "15 \t [ 0.67815928 -1.25427932]\t 7.334202631811119\t 2.404690761231068\t 2.011879633483163\t 2.643367890432775\n",
            "16 \t [ 2.47138199 -0.90125669]\t 16.162727702952743\t 2.404690761231068\t 2.243430934272544\t 2.901264554125127\n",
            "17 \t [-2.60539358  2.13398436]\t 454.7987490400421\t 2.404690761231068\t 2.1319763181252402\t 2.867992111990562\n",
            "18 \t [-4.00981557  3.28582413]\t 19822.114216913687\t 2.404690761231068\t 2.764744418929617\t 3.2280857023505662\n",
            "19 \t [-4.5        -1.98063173]\t 2112.771123852164\t 2.404690761231068\t 2.6266671161610873\t 2.9418708762996357\n",
            "20 \t [-2.13771814 -3.32109426]\t 7383.950632168222\t 2.404690761231068\t 2.1712851307172896\t 2.622597390905995\n"
          ]
        }
      ],
      "source": [
        "### EXACT STP ERM GRADIENTS\n",
        "\n",
        "np.random.seed(run_num_20)\n",
        "surrogate_exact_20 = dtStudentProcess(cov_func, optimize=opt, nu = df)\n",
        "\n",
        "exact_20 = dGPGO(surrogate_exact_20, Acquisition_grad(util), objfunc, param)\n",
        "exact_20.run(init_evals=n_init, max_iter=iters)\n"
      ]
    },
    {
      "cell_type": "code",
      "execution_count": 54,
      "metadata": {
        "id": "5c8szjivRPme",
        "colab": {
          "base_uri": "https://localhost:8080/"
        },
        "outputId": "2e4756ad-6d91-4eaf-9b0b-b483c9b03ad8"
      },
      "outputs": [
        {
          "output_type": "execute_result",
          "data": {
            "text/plain": [
              "966.8720428943634"
            ]
          },
          "metadata": {},
          "execution_count": 54
        }
      ],
      "source": [
        "end_exact = time.time()\n",
        "end_exact\n",
        "\n",
        "time_exact = end_exact - start_exact\n",
        "time_exact\n"
      ]
    },
    {
      "cell_type": "code",
      "execution_count": 55,
      "metadata": {
        "id": "f6gCKnp6RR8c",
        "colab": {
          "base_uri": "https://localhost:8080/"
        },
        "outputId": "11cb73cd-200e-45a9-abe3-f44081c2cf15"
      },
      "outputs": [
        {
          "output_type": "execute_result",
          "data": {
            "text/plain": [
              "(-0.10078756340215084, -0.09301783004295386)"
            ]
          },
          "metadata": {},
          "execution_count": 55
        }
      ],
      "source": [
        "### Simple regret minimization: run number = 1\n",
        "\n",
        "approx_output_1 = np.append(np.min(-approx_1.GP.y[0:n_init]),-approx_1.GP.y[n_init:(n_init+iters)]) \n",
        "exact_output_1 = np.append(np.min(-exact_1.GP.y[0:n_init]),-exact_1.GP.y[n_init:(n_init+iters)]) \n",
        "\n",
        "regret_approx_1 = np.log(approx_output_1 - y_global_orig)\n",
        "regret_exact_1 = np.log(exact_output_1 - y_global_orig)\n",
        "\n",
        "simple_regret_approx_1 = min_max_array(regret_approx_1)\n",
        "simple_regret_exact_1 = min_max_array(regret_exact_1)\n",
        "\n",
        "min_simple_regret_approx_1 = min(simple_regret_approx_1)\n",
        "min_simple_regret_exact_1 = min(simple_regret_exact_1)\n",
        "\n",
        "min_simple_regret_approx_1, min_simple_regret_exact_1\n"
      ]
    },
    {
      "cell_type": "code",
      "execution_count": 56,
      "metadata": {
        "id": "94yBw5tqQxfk",
        "colab": {
          "base_uri": "https://localhost:8080/"
        },
        "outputId": "31dc2b2a-9bb7-4f12-a74a-861805b6611c"
      },
      "outputs": [
        {
          "output_type": "execute_result",
          "data": {
            "text/plain": [
              "(-2.058171369044929, -5.678453103952514)"
            ]
          },
          "metadata": {},
          "execution_count": 56
        }
      ],
      "source": [
        "### Simple regret minimization: run number = 2\n",
        "\n",
        "approx_output_2 = np.append(np.min(-approx_2.GP.y[0:n_init]),-approx_2.GP.y[n_init:(n_init+iters)]) \n",
        "exact_output_2 = np.append(np.min(-exact_2.GP.y[0:n_init]),-exact_2.GP.y[n_init:(n_init+iters)]) \n",
        "\n",
        "regret_approx_2 = np.log(approx_output_2 - y_global_orig)\n",
        "regret_exact_2 = np.log(exact_output_2 - y_global_orig)\n",
        "\n",
        "simple_regret_approx_2 = min_max_array(regret_approx_2)\n",
        "simple_regret_exact_2 = min_max_array(regret_exact_2)\n",
        "\n",
        "min_simple_regret_approx_2 = min(simple_regret_approx_2)\n",
        "min_simple_regret_exact_2 = min(simple_regret_exact_2)\n",
        "\n",
        "min_simple_regret_approx_2, min_simple_regret_exact_2\n"
      ]
    },
    {
      "cell_type": "code",
      "execution_count": 57,
      "metadata": {
        "id": "Bu6SBWALQxfl",
        "colab": {
          "base_uri": "https://localhost:8080/"
        },
        "outputId": "c1c6f498-0d61-4e4d-e844-231af59dbf2c"
      },
      "outputs": [
        {
          "output_type": "execute_result",
          "data": {
            "text/plain": [
              "(-0.289615043758066, 0.8494437855111835)"
            ]
          },
          "metadata": {},
          "execution_count": 57
        }
      ],
      "source": [
        "### Simple regret minimization: run number = 3\n",
        "\n",
        "approx_output_3 = np.append(np.min(-approx_3.GP.y[0:n_init]),-approx_3.GP.y[n_init:(n_init+iters)]) \n",
        "exact_output_3 = np.append(np.min(-exact_3.GP.y[0:n_init]),-exact_3.GP.y[n_init:(n_init+iters)]) \n",
        "\n",
        "regret_approx_3 = np.log(approx_output_3 - y_global_orig)\n",
        "regret_exact_3 = np.log(exact_output_3 - y_global_orig)\n",
        "\n",
        "simple_regret_approx_3 = min_max_array(regret_approx_3)\n",
        "simple_regret_exact_3 = min_max_array(regret_exact_3)\n",
        "\n",
        "min_simple_regret_approx_3 = min(simple_regret_approx_3)\n",
        "min_simple_regret_exact_3 = min(simple_regret_exact_3)\n",
        "\n",
        "min_simple_regret_approx_3, min_simple_regret_exact_3"
      ]
    },
    {
      "cell_type": "code",
      "execution_count": 58,
      "metadata": {
        "id": "AZm0jgxkQxfm",
        "colab": {
          "base_uri": "https://localhost:8080/"
        },
        "outputId": "1075a2d4-5e33-497a-8276-9ffe73a5d443"
      },
      "outputs": [
        {
          "output_type": "execute_result",
          "data": {
            "text/plain": [
              "(1.345729016312703, 1.060445558093623)"
            ]
          },
          "metadata": {},
          "execution_count": 58
        }
      ],
      "source": [
        "### Simple regret minimization: run number = 4\n",
        "\n",
        "approx_output_4 = np.append(np.min(-approx_4.GP.y[0:n_init]),-approx_4.GP.y[n_init:(n_init+iters)]) \n",
        "exact_output_4 = np.append(np.min(-exact_4.GP.y[0:n_init]),-exact_4.GP.y[n_init:(n_init+iters)]) \n",
        "\n",
        "regret_approx_4 = np.log(approx_output_4 - y_global_orig)\n",
        "regret_exact_4 = np.log(exact_output_4 - y_global_orig)\n",
        "\n",
        "simple_regret_approx_4 = min_max_array(regret_approx_4)\n",
        "simple_regret_exact_4 = min_max_array(regret_exact_4)\n",
        "\n",
        "min_simple_regret_approx_4 = min(simple_regret_approx_4)\n",
        "min_simple_regret_exact_4 = min(simple_regret_exact_4)\n",
        "\n",
        "min_simple_regret_approx_4, min_simple_regret_exact_4"
      ]
    },
    {
      "cell_type": "code",
      "execution_count": 59,
      "metadata": {
        "id": "NONPm8JIQxfn",
        "colab": {
          "base_uri": "https://localhost:8080/"
        },
        "outputId": "5cb9788f-3f7f-47a5-b740-bf6b810e98a3"
      },
      "outputs": [
        {
          "output_type": "execute_result",
          "data": {
            "text/plain": [
              "(-1.1666865916873388, -1.1666865916873388)"
            ]
          },
          "metadata": {},
          "execution_count": 59
        }
      ],
      "source": [
        "### Simple regret minimization: run number = 5\n",
        "\n",
        "approx_output_5 = np.append(np.min(-approx_5.GP.y[0:n_init]),-approx_5.GP.y[n_init:(n_init+iters)]) \n",
        "exact_output_5 = np.append(np.min(-exact_5.GP.y[0:n_init]),-exact_5.GP.y[n_init:(n_init+iters)]) \n",
        "\n",
        "regret_approx_5 = np.log(approx_output_5 - y_global_orig)\n",
        "regret_exact_5 = np.log(exact_output_5 - y_global_orig)\n",
        "\n",
        "simple_regret_approx_5 = min_max_array(regret_approx_5)\n",
        "simple_regret_exact_5 = min_max_array(regret_exact_5)\n",
        "\n",
        "min_simple_regret_approx_5 = min(simple_regret_approx_5)\n",
        "min_simple_regret_exact_5 = min(simple_regret_exact_5)\n",
        "\n",
        "min_simple_regret_approx_5, min_simple_regret_exact_5"
      ]
    },
    {
      "cell_type": "code",
      "execution_count": 60,
      "metadata": {
        "id": "CJv3lPuSQxfp",
        "colab": {
          "base_uri": "https://localhost:8080/"
        },
        "outputId": "37ecf0ce-7e9c-46ec-9ad0-bb17e47a15bf"
      },
      "outputs": [
        {
          "output_type": "execute_result",
          "data": {
            "text/plain": [
              "(0.672515163822026, -1.7007766071513328)"
            ]
          },
          "metadata": {},
          "execution_count": 60
        }
      ],
      "source": [
        "### Simple regret minimization: run number = 6\n",
        "\n",
        "approx_output_6 = np.append(np.min(-approx_6.GP.y[0:n_init]),-approx_6.GP.y[n_init:(n_init+iters)]) \n",
        "exact_output_6 = np.append(np.min(-exact_6.GP.y[0:n_init]),-exact_6.GP.y[n_init:(n_init+iters)]) \n",
        "\n",
        "regret_approx_6 = np.log(approx_output_6 - y_global_orig)\n",
        "regret_exact_6 = np.log(exact_output_6 - y_global_orig)\n",
        "\n",
        "simple_regret_approx_6 = min_max_array(regret_approx_6)\n",
        "simple_regret_exact_6 = min_max_array(regret_exact_6)\n",
        "\n",
        "min_simple_regret_approx_6 = min(simple_regret_approx_6)\n",
        "min_simple_regret_exact_6 = min(simple_regret_exact_6)\n",
        "\n",
        "min_simple_regret_approx_6, min_simple_regret_exact_6"
      ]
    },
    {
      "cell_type": "code",
      "execution_count": 61,
      "metadata": {
        "id": "quR2ZyApQxfq",
        "colab": {
          "base_uri": "https://localhost:8080/"
        },
        "outputId": "b44b1c24-7eb4-4de6-ef46-26dd5dd972fe"
      },
      "outputs": [
        {
          "output_type": "execute_result",
          "data": {
            "text/plain": [
              "(1.087784678899565, 0.7339903581714671)"
            ]
          },
          "metadata": {},
          "execution_count": 61
        }
      ],
      "source": [
        "### Simple regret minimization: run number = 7\n",
        "\n",
        "approx_output_7 = np.append(np.min(-approx_7.GP.y[0:n_init]),-approx_7.GP.y[n_init:(n_init+iters)]) \n",
        "exact_output_7 = np.append(np.min(-exact_7.GP.y[0:n_init]),-exact_7.GP.y[n_init:(n_init+iters)]) \n",
        "\n",
        "regret_approx_7 = np.log(approx_output_7 - y_global_orig)\n",
        "regret_exact_7 = np.log(exact_output_7 - y_global_orig)\n",
        "\n",
        "simple_regret_approx_7 = min_max_array(regret_approx_7)\n",
        "simple_regret_exact_7 = min_max_array(regret_exact_7)\n",
        "\n",
        "min_simple_regret_approx_7 = min(simple_regret_approx_7)\n",
        "min_simple_regret_exact_7 = min(simple_regret_exact_7)\n",
        "\n",
        "min_simple_regret_approx_7, min_simple_regret_exact_7"
      ]
    },
    {
      "cell_type": "code",
      "execution_count": 62,
      "metadata": {
        "id": "99wY5nK6Qxfr",
        "colab": {
          "base_uri": "https://localhost:8080/"
        },
        "outputId": "46211587-56e1-4b72-d6a5-56c7f68a28d8"
      },
      "outputs": [
        {
          "output_type": "execute_result",
          "data": {
            "text/plain": [
              "(0.6255826754918475, 0.6255826754918475)"
            ]
          },
          "metadata": {},
          "execution_count": 62
        }
      ],
      "source": [
        "### Simple regret minimization: run number = 8\n",
        "\n",
        "approx_output_8 = np.append(np.min(-approx_8.GP.y[0:n_init]),-approx_8.GP.y[n_init:(n_init+iters)]) \n",
        "exact_output_8 = np.append(np.min(-exact_8.GP.y[0:n_init]),-exact_8.GP.y[n_init:(n_init+iters)]) \n",
        "\n",
        "regret_approx_8 = np.log(approx_output_8 - y_global_orig)\n",
        "regret_exact_8 = np.log(exact_output_8 - y_global_orig)\n",
        "\n",
        "simple_regret_approx_8 = min_max_array(regret_approx_8)\n",
        "simple_regret_exact_8 = min_max_array(regret_exact_8)\n",
        "\n",
        "min_simple_regret_approx_8 = min(simple_regret_approx_8)\n",
        "min_simple_regret_exact_8 = min(simple_regret_exact_8)\n",
        "\n",
        "min_simple_regret_approx_8, min_simple_regret_exact_8"
      ]
    },
    {
      "cell_type": "code",
      "execution_count": 63,
      "metadata": {
        "id": "qt0P5t9qQxfs",
        "colab": {
          "base_uri": "https://localhost:8080/"
        },
        "outputId": "09d55638-b2a7-4794-ba03-33fdc6921e00"
      },
      "outputs": [
        {
          "output_type": "execute_result",
          "data": {
            "text/plain": [
              "(-0.0415079822866621, -0.8509129328837026)"
            ]
          },
          "metadata": {},
          "execution_count": 63
        }
      ],
      "source": [
        "### Simple regret minimization: run number = 9\n",
        "\n",
        "approx_output_9 = np.append(np.min(-approx_9.GP.y[0:n_init]),-approx_9.GP.y[n_init:(n_init+iters)]) \n",
        "exact_output_9 = np.append(np.min(-exact_9.GP.y[0:n_init]),-exact_9.GP.y[n_init:(n_init+iters)]) \n",
        "\n",
        "regret_approx_9 = np.log(approx_output_9 - y_global_orig)\n",
        "regret_exact_9 = np.log(exact_output_9 - y_global_orig)\n",
        "\n",
        "simple_regret_approx_9 = min_max_array(regret_approx_9)\n",
        "simple_regret_exact_9 = min_max_array(regret_exact_9)\n",
        "\n",
        "min_simple_regret_approx_9 = min(simple_regret_approx_9)\n",
        "min_simple_regret_exact_9 = min(simple_regret_exact_9)\n",
        "\n",
        "min_simple_regret_approx_9, min_simple_regret_exact_9"
      ]
    },
    {
      "cell_type": "code",
      "execution_count": 64,
      "metadata": {
        "id": "vx8to9stQxft",
        "colab": {
          "base_uri": "https://localhost:8080/"
        },
        "outputId": "d6f077b7-2fc4-4342-cab1-563f382aa64a"
      },
      "outputs": [
        {
          "output_type": "execute_result",
          "data": {
            "text/plain": [
              "(0.7435390771774474, -5.066001495808999)"
            ]
          },
          "metadata": {},
          "execution_count": 64
        }
      ],
      "source": [
        "### Simple regret minimization: run number = 10\n",
        "\n",
        "approx_output_10 = np.append(np.min(-approx_10.GP.y[0:n_init]),-approx_10.GP.y[n_init:(n_init+iters)]) \n",
        "exact_output_10 = np.append(np.min(-exact_10.GP.y[0:n_init]),-exact_10.GP.y[n_init:(n_init+iters)]) \n",
        "\n",
        "regret_approx_10 = np.log(approx_output_10 - y_global_orig)\n",
        "regret_exact_10 = np.log(exact_output_10 - y_global_orig)\n",
        "\n",
        "simple_regret_approx_10 = min_max_array(regret_approx_10)\n",
        "simple_regret_exact_10 = min_max_array(regret_exact_10)\n",
        "\n",
        "min_simple_regret_approx_10 = min(simple_regret_approx_10)\n",
        "min_simple_regret_exact_10 = min(simple_regret_exact_10)\n",
        "\n",
        "min_simple_regret_approx_10, min_simple_regret_exact_10"
      ]
    },
    {
      "cell_type": "code",
      "execution_count": 65,
      "metadata": {
        "id": "d-FGzWyHQxfu",
        "colab": {
          "base_uri": "https://localhost:8080/"
        },
        "outputId": "b8f075a3-3eec-48f1-98e0-dd3dcaca812c"
      },
      "outputs": [
        {
          "output_type": "execute_result",
          "data": {
            "text/plain": [
              "(0.1093916798613045, -0.17916628783035282)"
            ]
          },
          "metadata": {},
          "execution_count": 65
        }
      ],
      "source": [
        "### Simple regret minimization: run number = 11\n",
        "\n",
        "approx_output_11 = np.append(np.min(-approx_11.GP.y[0:n_init]),-approx_11.GP.y[n_init:(n_init+iters)]) \n",
        "exact_output_11 = np.append(np.min(-exact_11.GP.y[0:n_init]),-exact_11.GP.y[n_init:(n_init+iters)]) \n",
        "\n",
        "regret_approx_11 = np.log(approx_output_11 - y_global_orig)\n",
        "regret_exact_11 = np.log(exact_output_11 - y_global_orig)\n",
        "\n",
        "simple_regret_approx_11 = min_max_array(regret_approx_11)\n",
        "simple_regret_exact_11 = min_max_array(regret_exact_11)\n",
        "\n",
        "min_simple_regret_approx_11 = min(simple_regret_approx_11)\n",
        "min_simple_regret_exact_11 = min(simple_regret_exact_11)\n",
        "\n",
        "min_simple_regret_approx_11, min_simple_regret_exact_11"
      ]
    },
    {
      "cell_type": "code",
      "execution_count": 66,
      "metadata": {
        "id": "SvtsssyjQxfv",
        "colab": {
          "base_uri": "https://localhost:8080/"
        },
        "outputId": "923c2a78-efd6-49af-c91a-8fac15a42273"
      },
      "outputs": [
        {
          "output_type": "execute_result",
          "data": {
            "text/plain": [
              "(0.21854962689986276, -0.0534635707607144)"
            ]
          },
          "metadata": {},
          "execution_count": 66
        }
      ],
      "source": [
        "### Simple regret minimization: run number = 12\n",
        "\n",
        "approx_output_12 = np.append(np.min(-approx_12.GP.y[0:n_init]),-approx_12.GP.y[n_init:(n_init+iters)]) \n",
        "exact_output_12 = np.append(np.min(-exact_12.GP.y[0:n_init]),-exact_12.GP.y[n_init:(n_init+iters)]) \n",
        "\n",
        "regret_approx_12 = np.log(approx_output_12 - y_global_orig)\n",
        "regret_exact_12 = np.log(exact_output_12 - y_global_orig)\n",
        "\n",
        "simple_regret_approx_12 = min_max_array(regret_approx_12)\n",
        "simple_regret_exact_12 = min_max_array(regret_exact_12)\n",
        "\n",
        "min_simple_regret_approx_12 = min(simple_regret_approx_12)\n",
        "min_simple_regret_exact_12 = min(simple_regret_exact_12)\n",
        "\n",
        "min_simple_regret_approx_12, min_simple_regret_exact_12"
      ]
    },
    {
      "cell_type": "code",
      "execution_count": 67,
      "metadata": {
        "id": "K6OiGcHkQxfw",
        "colab": {
          "base_uri": "https://localhost:8080/"
        },
        "outputId": "67ce7d94-05cc-45e2-d454-9aef826cb400"
      },
      "outputs": [
        {
          "output_type": "execute_result",
          "data": {
            "text/plain": [
              "(-0.23736984336643788, 0.8706635999701741)"
            ]
          },
          "metadata": {},
          "execution_count": 67
        }
      ],
      "source": [
        "### Simple regret minimization: run number = 13\n",
        "\n",
        "approx_output_13 = np.append(np.min(-approx_13.GP.y[0:n_init]),-approx_13.GP.y[n_init:(n_init+iters)]) \n",
        "exact_output_13 = np.append(np.min(-exact_13.GP.y[0:n_init]),-exact_13.GP.y[n_init:(n_init+iters)]) \n",
        "\n",
        "regret_approx_13 = np.log(approx_output_13 - y_global_orig)\n",
        "regret_exact_13 = np.log(exact_output_13 - y_global_orig)\n",
        "\n",
        "simple_regret_approx_13 = min_max_array(regret_approx_13)\n",
        "simple_regret_exact_13 = min_max_array(regret_exact_13)\n",
        "\n",
        "min_simple_regret_approx_13 = min(simple_regret_approx_13)\n",
        "min_simple_regret_exact_13 = min(simple_regret_exact_13)\n",
        "\n",
        "min_simple_regret_approx_13, min_simple_regret_exact_13"
      ]
    },
    {
      "cell_type": "code",
      "execution_count": 68,
      "metadata": {
        "id": "ogML73shQxfx",
        "colab": {
          "base_uri": "https://localhost:8080/"
        },
        "outputId": "baf448e8-cb6e-4cca-b18a-935c935597b2"
      },
      "outputs": [
        {
          "output_type": "execute_result",
          "data": {
            "text/plain": [
              "(1.294827181647445, 0.44227856576147623)"
            ]
          },
          "metadata": {},
          "execution_count": 68
        }
      ],
      "source": [
        "### Simple regret minimization: run number = 14\n",
        "\n",
        "approx_output_14 = np.append(np.min(-approx_14.GP.y[0:n_init]),-approx_14.GP.y[n_init:(n_init+iters)]) \n",
        "exact_output_14 = np.append(np.min(-exact_14.GP.y[0:n_init]),-exact_14.GP.y[n_init:(n_init+iters)]) \n",
        "\n",
        "regret_approx_14 = np.log(approx_output_14 - y_global_orig)\n",
        "regret_exact_14 = np.log(exact_output_14 - y_global_orig)\n",
        "\n",
        "simple_regret_approx_14 = min_max_array(regret_approx_14)\n",
        "simple_regret_exact_14 = min_max_array(regret_exact_14)\n",
        "\n",
        "min_simple_regret_approx_14 = min(simple_regret_approx_14)\n",
        "min_simple_regret_exact_14 = min(simple_regret_exact_14)\n",
        "\n",
        "min_simple_regret_approx_14, min_simple_regret_exact_14"
      ]
    },
    {
      "cell_type": "code",
      "execution_count": 69,
      "metadata": {
        "id": "9Eg7gFT9Qxfx",
        "colab": {
          "base_uri": "https://localhost:8080/"
        },
        "outputId": "82fa030a-bbf9-4cbf-dc81-1fe7c6bc57ba"
      },
      "outputs": [
        {
          "output_type": "execute_result",
          "data": {
            "text/plain": [
              "(0.9854658518238582, 0.5616188453131084)"
            ]
          },
          "metadata": {},
          "execution_count": 69
        }
      ],
      "source": [
        "### Simple regret minimization: run number = 15\n",
        "\n",
        "approx_output_15 = np.append(np.min(-approx_15.GP.y[0:n_init]),-approx_15.GP.y[n_init:(n_init+iters)]) \n",
        "exact_output_15 = np.append(np.min(-exact_15.GP.y[0:n_init]),-exact_15.GP.y[n_init:(n_init+iters)]) \n",
        "\n",
        "regret_approx_15 = np.log(approx_output_15 - y_global_orig)\n",
        "regret_exact_15 = np.log(exact_output_15 - y_global_orig)\n",
        "\n",
        "simple_regret_approx_15 = min_max_array(regret_approx_15)\n",
        "simple_regret_exact_15 = min_max_array(regret_exact_15)\n",
        "\n",
        "min_simple_regret_approx_15 = min(simple_regret_approx_15)\n",
        "min_simple_regret_exact_15 = min(simple_regret_exact_15)\n",
        "\n",
        "min_simple_regret_approx_15, min_simple_regret_exact_15"
      ]
    },
    {
      "cell_type": "code",
      "execution_count": 70,
      "metadata": {
        "id": "lIAC1U7ZQxfy",
        "colab": {
          "base_uri": "https://localhost:8080/"
        },
        "outputId": "e1d345f1-1889-4772-f8da-5fd5fd526c0e"
      },
      "outputs": [
        {
          "output_type": "execute_result",
          "data": {
            "text/plain": [
              "(-0.19023792352271762, 1.0499775075531752)"
            ]
          },
          "metadata": {},
          "execution_count": 70
        }
      ],
      "source": [
        "### Simple regret minimization: run number = 16\n",
        "\n",
        "approx_output_16 = np.append(np.min(-approx_16.GP.y[0:n_init]),-approx_16.GP.y[n_init:(n_init+iters)]) \n",
        "exact_output_16 = np.append(np.min(-exact_16.GP.y[0:n_init]),-exact_16.GP.y[n_init:(n_init+iters)]) \n",
        "\n",
        "regret_approx_16 = np.log(approx_output_16 - y_global_orig)\n",
        "regret_exact_16 = np.log(exact_output_16 - y_global_orig)\n",
        "\n",
        "simple_regret_approx_16 = min_max_array(regret_approx_16)\n",
        "simple_regret_exact_16 = min_max_array(regret_exact_16)\n",
        "\n",
        "min_simple_regret_approx_16 = min(simple_regret_approx_16)\n",
        "min_simple_regret_exact_16 = min(simple_regret_exact_16)\n",
        "\n",
        "min_simple_regret_approx_16, min_simple_regret_exact_16"
      ]
    },
    {
      "cell_type": "code",
      "execution_count": 71,
      "metadata": {
        "id": "bGott36OQxfz",
        "colab": {
          "base_uri": "https://localhost:8080/"
        },
        "outputId": "87b56f5d-de70-4aec-b4bc-a6db242981f4"
      },
      "outputs": [
        {
          "output_type": "execute_result",
          "data": {
            "text/plain": [
              "(1.9303066691801607, 1.9303066691801607)"
            ]
          },
          "metadata": {},
          "execution_count": 71
        }
      ],
      "source": [
        "### Simple regret minimization: run number = 17\n",
        "\n",
        "approx_output_17 = np.append(np.min(-approx_17.GP.y[0:n_init]),-approx_17.GP.y[n_init:(n_init+iters)]) \n",
        "exact_output_17 = np.append(np.min(-exact_17.GP.y[0:n_init]),-exact_17.GP.y[n_init:(n_init+iters)]) \n",
        "\n",
        "regret_approx_17 = np.log(approx_output_17 - y_global_orig)\n",
        "regret_exact_17 = np.log(exact_output_17 - y_global_orig)\n",
        "\n",
        "simple_regret_approx_17 = min_max_array(regret_approx_17)\n",
        "simple_regret_exact_17 = min_max_array(regret_exact_17)\n",
        "\n",
        "min_simple_regret_approx_17 = min(simple_regret_approx_17)\n",
        "min_simple_regret_exact_17 = min(simple_regret_exact_17)\n",
        "\n",
        "min_simple_regret_approx_17, min_simple_regret_exact_17"
      ]
    },
    {
      "cell_type": "code",
      "execution_count": 72,
      "metadata": {
        "id": "Cz9ZYMBMQxfz",
        "colab": {
          "base_uri": "https://localhost:8080/"
        },
        "outputId": "52c0095d-7c43-42fd-d842-52d8a545ad58"
      },
      "outputs": [
        {
          "output_type": "execute_result",
          "data": {
            "text/plain": [
              "(-1.9672173098278125, 0.9052915200747084)"
            ]
          },
          "metadata": {},
          "execution_count": 72
        }
      ],
      "source": [
        "### Simple regret minimization: run number = 18\n",
        "\n",
        "approx_output_18 = np.append(np.min(-approx_18.GP.y[0:n_init]),-approx_18.GP.y[n_init:(n_init+iters)]) \n",
        "exact_output_18 = np.append(np.min(-exact_18.GP.y[0:n_init]),-exact_18.GP.y[n_init:(n_init+iters)]) \n",
        "\n",
        "regret_approx_18 = np.log(approx_output_18 - y_global_orig)\n",
        "regret_exact_18 = np.log(exact_output_18 - y_global_orig)\n",
        "\n",
        "simple_regret_approx_18 = min_max_array(regret_approx_18)\n",
        "simple_regret_exact_18 = min_max_array(regret_exact_18)\n",
        "\n",
        "min_simple_regret_approx_18 = min(simple_regret_approx_18)\n",
        "min_simple_regret_exact_18 = min(simple_regret_exact_18)\n",
        "\n",
        "min_simple_regret_approx_18, min_simple_regret_exact_18"
      ]
    },
    {
      "cell_type": "code",
      "execution_count": 73,
      "metadata": {
        "id": "OBfpWOHNQxf0",
        "colab": {
          "base_uri": "https://localhost:8080/"
        },
        "outputId": "5afcf305-6f3c-47cd-d6ec-e2fe616c7dd9"
      },
      "outputs": [
        {
          "output_type": "execute_result",
          "data": {
            "text/plain": [
              "(1.3602501106766294, 1.7963499117397908)"
            ]
          },
          "metadata": {},
          "execution_count": 73
        }
      ],
      "source": [
        "### Simple regret minimization: run number = 19\n",
        "\n",
        "approx_output_19 = np.append(np.min(-approx_19.GP.y[0:n_init]),-approx_19.GP.y[n_init:(n_init+iters)]) \n",
        "exact_output_19 = np.append(np.min(-exact_19.GP.y[0:n_init]),-exact_19.GP.y[n_init:(n_init+iters)]) \n",
        "\n",
        "regret_approx_19 = np.log(approx_output_19 - y_global_orig)\n",
        "regret_exact_19 = np.log(exact_output_19 - y_global_orig)\n",
        "\n",
        "simple_regret_approx_19 = min_max_array(regret_approx_19)\n",
        "simple_regret_exact_19 = min_max_array(regret_exact_19)\n",
        "\n",
        "min_simple_regret_approx_19 = min(simple_regret_approx_19)\n",
        "min_simple_regret_exact_19 = min(simple_regret_exact_19)\n",
        "\n",
        "min_simple_regret_approx_19, min_simple_regret_exact_19"
      ]
    },
    {
      "cell_type": "code",
      "execution_count": 74,
      "metadata": {
        "id": "BE1AJ7NsQxf0",
        "colab": {
          "base_uri": "https://localhost:8080/"
        },
        "outputId": "b90faaf9-5773-4357-a8f7-fbfbf80b67bf"
      },
      "outputs": [
        {
          "output_type": "execute_result",
          "data": {
            "text/plain": [
              "(0.33750420727957836, 0.8774213136816972)"
            ]
          },
          "metadata": {},
          "execution_count": 74
        }
      ],
      "source": [
        "### Simple regret minimization: run number = 20\n",
        "\n",
        "approx_output_20 = np.append(np.min(-approx_20.GP.y[0:n_init]),-approx_20.GP.y[n_init:(n_init+iters)]) \n",
        "exact_output_20 = np.append(np.min(-exact_20.GP.y[0:n_init]),-exact_20.GP.y[n_init:(n_init+iters)]) \n",
        "\n",
        "regret_approx_20 = np.log(approx_output_20 - y_global_orig)\n",
        "regret_exact_20 = np.log(exact_output_20 - y_global_orig)\n",
        "\n",
        "simple_regret_approx_20 = min_max_array(regret_approx_20)\n",
        "simple_regret_exact_20 = min_max_array(regret_exact_20)\n",
        "\n",
        "min_simple_regret_approx_20 = min(simple_regret_approx_20)\n",
        "min_simple_regret_exact_20 = min(simple_regret_exact_20)\n",
        "\n",
        "min_simple_regret_approx_20, min_simple_regret_exact_20"
      ]
    },
    {
      "cell_type": "code",
      "execution_count": 75,
      "metadata": {
        "id": "bpX-bKAHQxf1"
      },
      "outputs": [],
      "source": [
        "# Iteration1 :\n",
        "\n",
        "slice1 = 0\n",
        "\n",
        "approx1 = [simple_regret_approx_1[slice1],\n",
        "       simple_regret_approx_2[slice1],\n",
        "       simple_regret_approx_3[slice1],\n",
        "       simple_regret_approx_4[slice1],\n",
        "       simple_regret_approx_5[slice1],\n",
        "       simple_regret_approx_6[slice1],\n",
        "       simple_regret_approx_7[slice1],\n",
        "       simple_regret_approx_8[slice1],\n",
        "       simple_regret_approx_9[slice1],\n",
        "       simple_regret_approx_10[slice1],\n",
        "       simple_regret_approx_11[slice1],\n",
        "       simple_regret_approx_12[slice1],\n",
        "       simple_regret_approx_13[slice1],\n",
        "       simple_regret_approx_14[slice1],\n",
        "       simple_regret_approx_15[slice1],\n",
        "       simple_regret_approx_16[slice1],\n",
        "       simple_regret_approx_17[slice1],\n",
        "       simple_regret_approx_18[slice1],\n",
        "       simple_regret_approx_19[slice1],\n",
        "       simple_regret_approx_20[slice1]]\n",
        "\n",
        "exact1 = [simple_regret_exact_1[slice1],\n",
        "       simple_regret_exact_2[slice1],\n",
        "       simple_regret_exact_3[slice1],\n",
        "       simple_regret_exact_4[slice1],\n",
        "       simple_regret_exact_5[slice1],\n",
        "       simple_regret_exact_6[slice1],\n",
        "       simple_regret_exact_7[slice1],\n",
        "       simple_regret_exact_8[slice1],\n",
        "       simple_regret_exact_9[slice1],\n",
        "       simple_regret_exact_10[slice1],\n",
        "       simple_regret_exact_11[slice1],\n",
        "       simple_regret_exact_12[slice1],\n",
        "       simple_regret_exact_13[slice1],\n",
        "       simple_regret_exact_14[slice1],\n",
        "       simple_regret_exact_15[slice1],\n",
        "       simple_regret_exact_16[slice1],\n",
        "       simple_regret_exact_17[slice1],\n",
        "       simple_regret_exact_18[slice1],\n",
        "       simple_regret_exact_19[slice1],\n",
        "       simple_regret_exact_20[slice1]]\n",
        "\n",
        "approx1_results = pd.DataFrame(approx1).sort_values(by=[0], ascending=False)\n",
        "exact1_results = pd.DataFrame(exact1).sort_values(by=[0], ascending=False)\n",
        "\n",
        "### Best simple regret minimization IQR - approx:\n",
        "lower_approx1 = np.asarray(approx1_results[4:5][0])[0]\n",
        "median_approx1 = np.asarray(approx1_results[9:10][0])[0]\n",
        "upper_approx1 = np.asarray(approx1_results[14:15][0])[0]\n",
        "\n",
        "lower_exact1 = np.asarray(exact1_results[4:5][0])[0]\n",
        "median_exact1 = np.asarray(exact1_results[9:10][0])[0]\n",
        "upper_exact1 = np.asarray(exact1_results[14:15][0])[0]"
      ]
    },
    {
      "cell_type": "code",
      "execution_count": 76,
      "metadata": {
        "id": "CgIkJA1xQxf2"
      },
      "outputs": [],
      "source": [
        "# Iteration11 :\n",
        "\n",
        "slice11 = 10\n",
        "\n",
        "approx11 = [simple_regret_approx_1[slice11],\n",
        "       simple_regret_approx_2[slice11],\n",
        "       simple_regret_approx_3[slice11],\n",
        "       simple_regret_approx_4[slice11],\n",
        "       simple_regret_approx_5[slice11],\n",
        "       simple_regret_approx_6[slice11],\n",
        "       simple_regret_approx_7[slice11],\n",
        "       simple_regret_approx_8[slice11],\n",
        "       simple_regret_approx_9[slice11],\n",
        "       simple_regret_approx_10[slice11],\n",
        "       simple_regret_approx_11[slice11],\n",
        "       simple_regret_approx_12[slice11],\n",
        "       simple_regret_approx_13[slice11],\n",
        "       simple_regret_approx_14[slice11],\n",
        "       simple_regret_approx_15[slice11],\n",
        "       simple_regret_approx_16[slice11],\n",
        "       simple_regret_approx_17[slice11],\n",
        "       simple_regret_approx_18[slice11],\n",
        "       simple_regret_approx_19[slice11],\n",
        "       simple_regret_approx_20[slice11]]\n",
        "\n",
        "exact11 = [simple_regret_exact_1[slice11],\n",
        "       simple_regret_exact_2[slice11],\n",
        "       simple_regret_exact_3[slice11],\n",
        "       simple_regret_exact_4[slice11],\n",
        "       simple_regret_exact_5[slice11],\n",
        "       simple_regret_exact_6[slice11],\n",
        "       simple_regret_exact_7[slice11],\n",
        "       simple_regret_exact_8[slice11],\n",
        "       simple_regret_exact_9[slice11],\n",
        "       simple_regret_exact_10[slice11],\n",
        "       simple_regret_exact_11[slice11],\n",
        "       simple_regret_exact_12[slice11],\n",
        "       simple_regret_exact_13[slice11],\n",
        "       simple_regret_exact_14[slice11],\n",
        "       simple_regret_exact_15[slice11],\n",
        "       simple_regret_exact_16[slice11],\n",
        "       simple_regret_exact_17[slice11],\n",
        "       simple_regret_exact_18[slice11],\n",
        "       simple_regret_exact_19[slice11],\n",
        "       simple_regret_exact_20[slice11]]\n",
        "\n",
        "approx11_results = pd.DataFrame(approx11).sort_values(by=[0], ascending=False)\n",
        "exact11_results = pd.DataFrame(exact11).sort_values(by=[0], ascending=False)\n",
        "\n",
        "### Best simple regret minimization IQR - approx:\n",
        "lower_approx11 = np.asarray(approx11_results[4:5][0])[0]\n",
        "median_approx11 = np.asarray(approx11_results[9:10][0])[0]\n",
        "upper_approx11 = np.asarray(approx11_results[14:15][0])[0]\n",
        "\n",
        "lower_exact11 = np.asarray(exact11_results[4:5][0])[0]\n",
        "median_exact11 = np.asarray(exact11_results[9:10][0])[0]\n",
        "upper_exact11 = np.asarray(exact11_results[14:15][0])[0]"
      ]
    },
    {
      "cell_type": "code",
      "execution_count": 77,
      "metadata": {
        "id": "MFePDfGuQxf2"
      },
      "outputs": [],
      "source": [
        "# Iteration21 :\n",
        "\n",
        "slice21 = 20\n",
        "\n",
        "approx21 = [simple_regret_approx_1[slice21],\n",
        "       simple_regret_approx_2[slice21],\n",
        "       simple_regret_approx_3[slice21],\n",
        "       simple_regret_approx_4[slice21],\n",
        "       simple_regret_approx_5[slice21],\n",
        "       simple_regret_approx_6[slice21],\n",
        "       simple_regret_approx_7[slice21],\n",
        "       simple_regret_approx_8[slice21],\n",
        "       simple_regret_approx_9[slice21],\n",
        "       simple_regret_approx_10[slice21],\n",
        "       simple_regret_approx_11[slice21],\n",
        "       simple_regret_approx_12[slice21],\n",
        "       simple_regret_approx_13[slice21],\n",
        "       simple_regret_approx_14[slice21],\n",
        "       simple_regret_approx_15[slice21],\n",
        "       simple_regret_approx_16[slice21],\n",
        "       simple_regret_approx_17[slice21],\n",
        "       simple_regret_approx_18[slice21],\n",
        "       simple_regret_approx_19[slice21],\n",
        "       simple_regret_approx_20[slice21]]\n",
        "\n",
        "exact21 = [simple_regret_exact_1[slice21],\n",
        "       simple_regret_exact_2[slice21],\n",
        "       simple_regret_exact_3[slice21],\n",
        "       simple_regret_exact_4[slice21],\n",
        "       simple_regret_exact_5[slice21],\n",
        "       simple_regret_exact_6[slice21],\n",
        "       simple_regret_exact_7[slice21],\n",
        "       simple_regret_exact_8[slice21],\n",
        "       simple_regret_exact_9[slice21],\n",
        "       simple_regret_exact_10[slice21],\n",
        "       simple_regret_exact_11[slice21],\n",
        "       simple_regret_exact_12[slice21],\n",
        "       simple_regret_exact_13[slice21],\n",
        "       simple_regret_exact_14[slice21],\n",
        "       simple_regret_exact_15[slice21],\n",
        "       simple_regret_exact_16[slice21],\n",
        "       simple_regret_exact_17[slice21],\n",
        "       simple_regret_exact_18[slice21],\n",
        "       simple_regret_exact_19[slice21],\n",
        "       simple_regret_exact_20[slice21]]\n",
        "\n",
        "approx21_results = pd.DataFrame(approx21).sort_values(by=[0], ascending=False)\n",
        "exact21_results = pd.DataFrame(exact21).sort_values(by=[0], ascending=False)\n",
        "\n",
        "### Best simple regret minimization IQR - approx:\n",
        "lower_approx21 = np.asarray(approx21_results[4:5][0])[0]\n",
        "median_approx21 = np.asarray(approx21_results[9:10][0])[0]\n",
        "upper_approx21 = np.asarray(approx21_results[14:15][0])[0]\n",
        "\n",
        "lower_exact21 = np.asarray(exact21_results[4:5][0])[0]\n",
        "median_exact21 = np.asarray(exact21_results[9:10][0])[0]\n",
        "upper_exact21 = np.asarray(exact21_results[14:15][0])[0]"
      ]
    },
    {
      "cell_type": "code",
      "execution_count": 78,
      "metadata": {
        "id": "PrRDB1kfQxf3"
      },
      "outputs": [],
      "source": [
        "# Iteration2 :\n",
        "\n",
        "slice2 = 1\n",
        "\n",
        "approx2 = [simple_regret_approx_1[slice2],\n",
        "       simple_regret_approx_2[slice2],\n",
        "       simple_regret_approx_3[slice2],\n",
        "       simple_regret_approx_4[slice2],\n",
        "       simple_regret_approx_5[slice2],\n",
        "       simple_regret_approx_6[slice2],\n",
        "       simple_regret_approx_7[slice2],\n",
        "       simple_regret_approx_8[slice2],\n",
        "       simple_regret_approx_9[slice2],\n",
        "       simple_regret_approx_10[slice2],\n",
        "       simple_regret_approx_11[slice2],\n",
        "       simple_regret_approx_12[slice2],\n",
        "       simple_regret_approx_13[slice2],\n",
        "       simple_regret_approx_14[slice2],\n",
        "       simple_regret_approx_15[slice2],\n",
        "       simple_regret_approx_16[slice2],\n",
        "       simple_regret_approx_17[slice2],\n",
        "       simple_regret_approx_18[slice2],\n",
        "       simple_regret_approx_19[slice2],\n",
        "       simple_regret_approx_20[slice2]]\n",
        "\n",
        "exact2 = [simple_regret_exact_1[slice2],\n",
        "       simple_regret_exact_2[slice2],\n",
        "       simple_regret_exact_3[slice2],\n",
        "       simple_regret_exact_4[slice2],\n",
        "       simple_regret_exact_5[slice2],\n",
        "       simple_regret_exact_6[slice2],\n",
        "       simple_regret_exact_7[slice2],\n",
        "       simple_regret_exact_8[slice2],\n",
        "       simple_regret_exact_9[slice2],\n",
        "       simple_regret_exact_10[slice2],\n",
        "       simple_regret_exact_11[slice2],\n",
        "       simple_regret_exact_12[slice2],\n",
        "       simple_regret_exact_13[slice2],\n",
        "       simple_regret_exact_14[slice2],\n",
        "       simple_regret_exact_15[slice2],\n",
        "       simple_regret_exact_16[slice2],\n",
        "       simple_regret_exact_17[slice2],\n",
        "       simple_regret_exact_18[slice2],\n",
        "       simple_regret_exact_19[slice2],\n",
        "       simple_regret_exact_20[slice2]]\n",
        "\n",
        "approx2_results = pd.DataFrame(approx2).sort_values(by=[0], ascending=False)\n",
        "exact2_results = pd.DataFrame(exact2).sort_values(by=[0], ascending=False)\n",
        "\n",
        "### Best simple regret minimization IQR - approx:\n",
        "lower_approx2 = np.asarray(approx2_results[4:5][0])[0]\n",
        "median_approx2 = np.asarray(approx2_results[9:10][0])[0]\n",
        "upper_approx2 = np.asarray(approx2_results[14:15][0])[0]\n",
        "\n",
        "lower_exact2 = np.asarray(exact2_results[4:5][0])[0]\n",
        "median_exact2 = np.asarray(exact2_results[9:10][0])[0]\n",
        "upper_exact2 = np.asarray(exact2_results[14:15][0])[0]"
      ]
    },
    {
      "cell_type": "code",
      "execution_count": 79,
      "metadata": {
        "id": "B8ncJDYeQxf3"
      },
      "outputs": [],
      "source": [
        "# Iteration12 :\n",
        "\n",
        "slice12 = 11\n",
        "\n",
        "approx12 = [simple_regret_approx_1[slice12],\n",
        "       simple_regret_approx_2[slice12],\n",
        "       simple_regret_approx_3[slice12],\n",
        "       simple_regret_approx_4[slice12],\n",
        "       simple_regret_approx_5[slice12],\n",
        "       simple_regret_approx_6[slice12],\n",
        "       simple_regret_approx_7[slice12],\n",
        "       simple_regret_approx_8[slice12],\n",
        "       simple_regret_approx_9[slice12],\n",
        "       simple_regret_approx_10[slice12],\n",
        "       simple_regret_approx_11[slice12],\n",
        "       simple_regret_approx_12[slice12],\n",
        "       simple_regret_approx_13[slice12],\n",
        "       simple_regret_approx_14[slice12],\n",
        "       simple_regret_approx_15[slice12],\n",
        "       simple_regret_approx_16[slice12],\n",
        "       simple_regret_approx_17[slice12],\n",
        "       simple_regret_approx_18[slice12],\n",
        "       simple_regret_approx_19[slice12],\n",
        "       simple_regret_approx_20[slice12]]\n",
        "\n",
        "exact12 = [simple_regret_exact_1[slice12],\n",
        "       simple_regret_exact_2[slice12],\n",
        "       simple_regret_exact_3[slice12],\n",
        "       simple_regret_exact_4[slice12],\n",
        "       simple_regret_exact_5[slice12],\n",
        "       simple_regret_exact_6[slice12],\n",
        "       simple_regret_exact_7[slice12],\n",
        "       simple_regret_exact_8[slice12],\n",
        "       simple_regret_exact_9[slice12],\n",
        "       simple_regret_exact_10[slice12],\n",
        "       simple_regret_exact_11[slice12],\n",
        "       simple_regret_exact_12[slice12],\n",
        "       simple_regret_exact_13[slice12],\n",
        "       simple_regret_exact_14[slice12],\n",
        "       simple_regret_exact_15[slice12],\n",
        "       simple_regret_exact_16[slice12],\n",
        "       simple_regret_exact_17[slice12],\n",
        "       simple_regret_exact_18[slice12],\n",
        "       simple_regret_exact_19[slice12],\n",
        "       simple_regret_exact_20[slice12]]\n",
        "\n",
        "approx12_results = pd.DataFrame(approx12).sort_values(by=[0], ascending=False)\n",
        "exact12_results = pd.DataFrame(exact12).sort_values(by=[0], ascending=False)\n",
        "\n",
        "### Best simple regret minimization IQR - approx:\n",
        "lower_approx12 = np.asarray(approx12_results[4:5][0])[0]\n",
        "median_approx12 = np.asarray(approx12_results[9:10][0])[0]\n",
        "upper_approx12 = np.asarray(approx12_results[14:15][0])[0]\n",
        "\n",
        "lower_exact12 = np.asarray(exact12_results[4:5][0])[0]\n",
        "median_exact12 = np.asarray(exact12_results[9:10][0])[0]\n",
        "upper_exact12 = np.asarray(exact12_results[14:15][0])[0]"
      ]
    },
    {
      "cell_type": "code",
      "execution_count": 80,
      "metadata": {
        "id": "Jn4KpGvcQxf4"
      },
      "outputs": [],
      "source": [
        "# Iteration3 :\n",
        "\n",
        "slice3 = 2\n",
        "\n",
        "approx3 = [simple_regret_approx_1[slice3],\n",
        "       simple_regret_approx_2[slice3],\n",
        "       simple_regret_approx_3[slice3],\n",
        "       simple_regret_approx_4[slice3],\n",
        "       simple_regret_approx_5[slice3],\n",
        "       simple_regret_approx_6[slice3],\n",
        "       simple_regret_approx_7[slice3],\n",
        "       simple_regret_approx_8[slice3],\n",
        "       simple_regret_approx_9[slice3],\n",
        "       simple_regret_approx_10[slice3],\n",
        "       simple_regret_approx_11[slice3],\n",
        "       simple_regret_approx_12[slice3],\n",
        "       simple_regret_approx_13[slice3],\n",
        "       simple_regret_approx_14[slice3],\n",
        "       simple_regret_approx_15[slice3],\n",
        "       simple_regret_approx_16[slice3],\n",
        "       simple_regret_approx_17[slice3],\n",
        "       simple_regret_approx_18[slice3],\n",
        "       simple_regret_approx_19[slice3],\n",
        "       simple_regret_approx_20[slice3]]\n",
        "\n",
        "exact3 = [simple_regret_exact_1[slice3],\n",
        "       simple_regret_exact_2[slice3],\n",
        "       simple_regret_exact_3[slice3],\n",
        "       simple_regret_exact_4[slice3],\n",
        "       simple_regret_exact_5[slice3],\n",
        "       simple_regret_exact_6[slice3],\n",
        "       simple_regret_exact_7[slice3],\n",
        "       simple_regret_exact_8[slice3],\n",
        "       simple_regret_exact_9[slice3],\n",
        "       simple_regret_exact_10[slice3],\n",
        "       simple_regret_exact_11[slice3],\n",
        "       simple_regret_exact_12[slice3],\n",
        "       simple_regret_exact_13[slice3],\n",
        "       simple_regret_exact_14[slice3],\n",
        "       simple_regret_exact_15[slice3],\n",
        "       simple_regret_exact_16[slice3],\n",
        "       simple_regret_exact_17[slice3],\n",
        "       simple_regret_exact_18[slice3],\n",
        "       simple_regret_exact_19[slice3],\n",
        "       simple_regret_exact_20[slice3]]\n",
        "\n",
        "approx3_results = pd.DataFrame(approx3).sort_values(by=[0], ascending=False)\n",
        "exact3_results = pd.DataFrame(exact3).sort_values(by=[0], ascending=False)\n",
        "\n",
        "### Best simple regret minimization IQR - approx:\n",
        "lower_approx3 = np.asarray(approx3_results[4:5][0])[0]\n",
        "median_approx3 = np.asarray(approx3_results[9:10][0])[0]\n",
        "upper_approx3 = np.asarray(approx3_results[14:15][0])[0]\n",
        "\n",
        "lower_exact3 = np.asarray(exact3_results[4:5][0])[0]\n",
        "median_exact3 = np.asarray(exact3_results[9:10][0])[0]\n",
        "upper_exact3 = np.asarray(exact3_results[14:15][0])[0]"
      ]
    },
    {
      "cell_type": "code",
      "execution_count": 81,
      "metadata": {
        "id": "plf83wxrQxf4"
      },
      "outputs": [],
      "source": [
        "# Iteration13 :\n",
        "\n",
        "slice13 = 12\n",
        "\n",
        "approx13 = [simple_regret_approx_1[slice13],\n",
        "       simple_regret_approx_2[slice13],\n",
        "       simple_regret_approx_3[slice13],\n",
        "       simple_regret_approx_4[slice13],\n",
        "       simple_regret_approx_5[slice13],\n",
        "       simple_regret_approx_6[slice13],\n",
        "       simple_regret_approx_7[slice13],\n",
        "       simple_regret_approx_8[slice13],\n",
        "       simple_regret_approx_9[slice13],\n",
        "       simple_regret_approx_10[slice13],\n",
        "       simple_regret_approx_11[slice13],\n",
        "       simple_regret_approx_12[slice13],\n",
        "       simple_regret_approx_13[slice13],\n",
        "       simple_regret_approx_14[slice13],\n",
        "       simple_regret_approx_15[slice13],\n",
        "       simple_regret_approx_16[slice13],\n",
        "       simple_regret_approx_17[slice13],\n",
        "       simple_regret_approx_18[slice13],\n",
        "       simple_regret_approx_19[slice13],\n",
        "       simple_regret_approx_20[slice13]]\n",
        "\n",
        "exact13 = [simple_regret_exact_1[slice13],\n",
        "       simple_regret_exact_2[slice13],\n",
        "       simple_regret_exact_3[slice13],\n",
        "       simple_regret_exact_4[slice13],\n",
        "       simple_regret_exact_5[slice13],\n",
        "       simple_regret_exact_6[slice13],\n",
        "       simple_regret_exact_7[slice13],\n",
        "       simple_regret_exact_8[slice13],\n",
        "       simple_regret_exact_9[slice13],\n",
        "       simple_regret_exact_10[slice13],\n",
        "       simple_regret_exact_11[slice13],\n",
        "       simple_regret_exact_12[slice13],\n",
        "       simple_regret_exact_13[slice13],\n",
        "       simple_regret_exact_14[slice13],\n",
        "       simple_regret_exact_15[slice13],\n",
        "       simple_regret_exact_16[slice13],\n",
        "       simple_regret_exact_17[slice13],\n",
        "       simple_regret_exact_18[slice13],\n",
        "       simple_regret_exact_19[slice13],\n",
        "       simple_regret_exact_20[slice13]]\n",
        "\n",
        "approx13_results = pd.DataFrame(approx13).sort_values(by=[0], ascending=False)\n",
        "exact13_results = pd.DataFrame(exact13).sort_values(by=[0], ascending=False)\n",
        "\n",
        "### Best simple regret minimization IQR - approx:\n",
        "lower_approx13 = np.asarray(approx13_results[4:5][0])[0]\n",
        "median_approx13 = np.asarray(approx13_results[9:10][0])[0]\n",
        "upper_approx13 = np.asarray(approx13_results[14:15][0])[0]\n",
        "\n",
        "lower_exact13 = np.asarray(exact13_results[4:5][0])[0]\n",
        "median_exact13 = np.asarray(exact13_results[9:10][0])[0]\n",
        "upper_exact13 = np.asarray(exact13_results[14:15][0])[0]"
      ]
    },
    {
      "cell_type": "code",
      "execution_count": 82,
      "metadata": {
        "id": "9A7mlVvJQxf5"
      },
      "outputs": [],
      "source": [
        "# Iteration4 :\n",
        "\n",
        "slice4 = 3\n",
        "\n",
        "approx4 = [simple_regret_approx_1[slice4],\n",
        "       simple_regret_approx_2[slice4],\n",
        "       simple_regret_approx_3[slice4],\n",
        "       simple_regret_approx_4[slice4],\n",
        "       simple_regret_approx_5[slice4],\n",
        "       simple_regret_approx_6[slice4],\n",
        "       simple_regret_approx_7[slice4],\n",
        "       simple_regret_approx_8[slice4],\n",
        "       simple_regret_approx_9[slice4],\n",
        "       simple_regret_approx_10[slice4],\n",
        "       simple_regret_approx_11[slice4],\n",
        "       simple_regret_approx_12[slice4],\n",
        "       simple_regret_approx_13[slice4],\n",
        "       simple_regret_approx_14[slice4],\n",
        "       simple_regret_approx_15[slice4],\n",
        "       simple_regret_approx_16[slice4],\n",
        "       simple_regret_approx_17[slice4],\n",
        "       simple_regret_approx_18[slice4],\n",
        "       simple_regret_approx_19[slice4],\n",
        "       simple_regret_approx_20[slice4]]\n",
        "\n",
        "exact4 = [simple_regret_exact_1[slice4],\n",
        "       simple_regret_exact_2[slice4],\n",
        "       simple_regret_exact_3[slice4],\n",
        "       simple_regret_exact_4[slice4],\n",
        "       simple_regret_exact_5[slice4],\n",
        "       simple_regret_exact_6[slice4],\n",
        "       simple_regret_exact_7[slice4],\n",
        "       simple_regret_exact_8[slice4],\n",
        "       simple_regret_exact_9[slice4],\n",
        "       simple_regret_exact_10[slice4],\n",
        "       simple_regret_exact_11[slice4],\n",
        "       simple_regret_exact_12[slice4],\n",
        "       simple_regret_exact_13[slice4],\n",
        "       simple_regret_exact_14[slice4],\n",
        "       simple_regret_exact_15[slice4],\n",
        "       simple_regret_exact_16[slice4],\n",
        "       simple_regret_exact_17[slice4],\n",
        "       simple_regret_exact_18[slice4],\n",
        "       simple_regret_exact_19[slice4],\n",
        "       simple_regret_exact_20[slice4]]\n",
        "\n",
        "approx4_results = pd.DataFrame(approx4).sort_values(by=[0], ascending=False)\n",
        "exact4_results = pd.DataFrame(exact4).sort_values(by=[0], ascending=False)\n",
        "\n",
        "### Best simple regret minimization IQR - approx:\n",
        "lower_approx4 = np.asarray(approx4_results[4:5][0])[0]\n",
        "median_approx4 = np.asarray(approx4_results[9:10][0])[0]\n",
        "upper_approx4 = np.asarray(approx4_results[14:15][0])[0]\n",
        "\n",
        "lower_exact4 = np.asarray(exact4_results[4:5][0])[0]\n",
        "median_exact4 = np.asarray(exact4_results[9:10][0])[0]\n",
        "upper_exact4 = np.asarray(exact4_results[14:15][0])[0]"
      ]
    },
    {
      "cell_type": "code",
      "execution_count": 83,
      "metadata": {
        "id": "ijq-rioYQxf5"
      },
      "outputs": [],
      "source": [
        "# Iteration14 :\n",
        "\n",
        "slice14 = 13\n",
        "\n",
        "approx14 = [simple_regret_approx_1[slice14],\n",
        "       simple_regret_approx_2[slice14],\n",
        "       simple_regret_approx_3[slice14],\n",
        "       simple_regret_approx_4[slice14],\n",
        "       simple_regret_approx_5[slice14],\n",
        "       simple_regret_approx_6[slice14],\n",
        "       simple_regret_approx_7[slice14],\n",
        "       simple_regret_approx_8[slice14],\n",
        "       simple_regret_approx_9[slice14],\n",
        "       simple_regret_approx_10[slice14],\n",
        "       simple_regret_approx_11[slice14],\n",
        "       simple_regret_approx_12[slice14],\n",
        "       simple_regret_approx_13[slice14],\n",
        "       simple_regret_approx_14[slice14],\n",
        "       simple_regret_approx_15[slice14],\n",
        "       simple_regret_approx_16[slice14],\n",
        "       simple_regret_approx_17[slice14],\n",
        "       simple_regret_approx_18[slice14],\n",
        "       simple_regret_approx_19[slice14],\n",
        "       simple_regret_approx_20[slice14]]\n",
        "\n",
        "exact14 = [simple_regret_exact_1[slice14],\n",
        "       simple_regret_exact_2[slice14],\n",
        "       simple_regret_exact_3[slice14],\n",
        "       simple_regret_exact_4[slice14],\n",
        "       simple_regret_exact_5[slice14],\n",
        "       simple_regret_exact_6[slice14],\n",
        "       simple_regret_exact_7[slice14],\n",
        "       simple_regret_exact_8[slice14],\n",
        "       simple_regret_exact_9[slice14],\n",
        "       simple_regret_exact_10[slice14],\n",
        "       simple_regret_exact_11[slice14],\n",
        "       simple_regret_exact_12[slice14],\n",
        "       simple_regret_exact_13[slice14],\n",
        "       simple_regret_exact_14[slice14],\n",
        "       simple_regret_exact_15[slice14],\n",
        "       simple_regret_exact_16[slice14],\n",
        "       simple_regret_exact_17[slice14],\n",
        "       simple_regret_exact_18[slice14],\n",
        "       simple_regret_exact_19[slice14],\n",
        "       simple_regret_exact_20[slice14]]\n",
        "\n",
        "approx14_results = pd.DataFrame(approx14).sort_values(by=[0], ascending=False)\n",
        "exact14_results = pd.DataFrame(exact14).sort_values(by=[0], ascending=False)\n",
        "\n",
        "### Best simple regret minimization IQR - approx:\n",
        "lower_approx14 = np.asarray(approx14_results[4:5][0])[0]\n",
        "median_approx14 = np.asarray(approx14_results[9:10][0])[0]\n",
        "upper_approx14 = np.asarray(approx14_results[14:15][0])[0]\n",
        "\n",
        "lower_exact14 = np.asarray(exact14_results[4:5][0])[0]\n",
        "median_exact14 = np.asarray(exact14_results[9:10][0])[0]\n",
        "upper_exact14 = np.asarray(exact14_results[14:15][0])[0]"
      ]
    },
    {
      "cell_type": "code",
      "execution_count": 84,
      "metadata": {
        "id": "XINlZjoTd-ZK"
      },
      "outputs": [],
      "source": [
        "# Iteration5 :\n",
        "\n",
        "slice5 = 4\n",
        "\n",
        "approx5 = [simple_regret_approx_1[slice5],\n",
        "       simple_regret_approx_2[slice5],\n",
        "       simple_regret_approx_3[slice5],\n",
        "       simple_regret_approx_4[slice5],\n",
        "       simple_regret_approx_5[slice5],\n",
        "       simple_regret_approx_6[slice5],\n",
        "       simple_regret_approx_7[slice5],\n",
        "       simple_regret_approx_8[slice5],\n",
        "       simple_regret_approx_9[slice5],\n",
        "       simple_regret_approx_10[slice5],\n",
        "       simple_regret_approx_11[slice5],\n",
        "       simple_regret_approx_12[slice5],\n",
        "       simple_regret_approx_13[slice5],\n",
        "       simple_regret_approx_14[slice5],\n",
        "       simple_regret_approx_15[slice5],\n",
        "       simple_regret_approx_16[slice5],\n",
        "       simple_regret_approx_17[slice5],\n",
        "       simple_regret_approx_18[slice5],\n",
        "       simple_regret_approx_19[slice5],\n",
        "       simple_regret_approx_20[slice5]]\n",
        "\n",
        "exact5 = [simple_regret_exact_1[slice5],\n",
        "       simple_regret_exact_2[slice5],\n",
        "       simple_regret_exact_3[slice5],\n",
        "       simple_regret_exact_4[slice5],\n",
        "       simple_regret_exact_5[slice5],\n",
        "       simple_regret_exact_6[slice5],\n",
        "       simple_regret_exact_7[slice5],\n",
        "       simple_regret_exact_8[slice5],\n",
        "       simple_regret_exact_9[slice5],\n",
        "       simple_regret_exact_10[slice5],\n",
        "       simple_regret_exact_11[slice5],\n",
        "       simple_regret_exact_12[slice5],\n",
        "       simple_regret_exact_13[slice5],\n",
        "       simple_regret_exact_14[slice5],\n",
        "       simple_regret_exact_15[slice5],\n",
        "       simple_regret_exact_16[slice5],\n",
        "       simple_regret_exact_17[slice5],\n",
        "       simple_regret_exact_18[slice5],\n",
        "       simple_regret_exact_19[slice5],\n",
        "       simple_regret_exact_20[slice5]]\n",
        "\n",
        "approx5_results = pd.DataFrame(approx5).sort_values(by=[0], ascending=False)\n",
        "exact5_results = pd.DataFrame(exact5).sort_values(by=[0], ascending=False)\n",
        "\n",
        "### Best simple regret minimization IQR - approx:\n",
        "lower_approx5 = np.asarray(approx5_results[4:5][0])[0]\n",
        "median_approx5 = np.asarray(approx5_results[9:10][0])[0]\n",
        "upper_approx5 = np.asarray(approx5_results[14:15][0])[0]\n",
        "\n",
        "lower_exact5 = np.asarray(exact5_results[4:5][0])[0]\n",
        "median_exact5 = np.asarray(exact5_results[9:10][0])[0]\n",
        "upper_exact5 = np.asarray(exact5_results[14:15][0])[0]"
      ]
    },
    {
      "cell_type": "code",
      "execution_count": 85,
      "metadata": {
        "id": "4aZ7C8sOQxf6"
      },
      "outputs": [],
      "source": [
        "# Iteration15 :\n",
        "\n",
        "slice15 = 14\n",
        "\n",
        "approx15 = [simple_regret_approx_1[slice15],\n",
        "       simple_regret_approx_2[slice15],\n",
        "       simple_regret_approx_3[slice15],\n",
        "       simple_regret_approx_4[slice15],\n",
        "       simple_regret_approx_5[slice15],\n",
        "       simple_regret_approx_6[slice15],\n",
        "       simple_regret_approx_7[slice15],\n",
        "       simple_regret_approx_8[slice15],\n",
        "       simple_regret_approx_9[slice15],\n",
        "       simple_regret_approx_10[slice15],\n",
        "       simple_regret_approx_11[slice15],\n",
        "       simple_regret_approx_12[slice15],\n",
        "       simple_regret_approx_13[slice15],\n",
        "       simple_regret_approx_14[slice15],\n",
        "       simple_regret_approx_15[slice15],\n",
        "       simple_regret_approx_16[slice15],\n",
        "       simple_regret_approx_17[slice15],\n",
        "       simple_regret_approx_18[slice15],\n",
        "       simple_regret_approx_19[slice15],\n",
        "       simple_regret_approx_20[slice15]]\n",
        "\n",
        "exact15 = [simple_regret_exact_1[slice15],\n",
        "       simple_regret_exact_2[slice15],\n",
        "       simple_regret_exact_3[slice15],\n",
        "       simple_regret_exact_4[slice15],\n",
        "       simple_regret_exact_5[slice15],\n",
        "       simple_regret_exact_6[slice15],\n",
        "       simple_regret_exact_7[slice15],\n",
        "       simple_regret_exact_8[slice15],\n",
        "       simple_regret_exact_9[slice15],\n",
        "       simple_regret_exact_10[slice15],\n",
        "       simple_regret_exact_11[slice15],\n",
        "       simple_regret_exact_12[slice15],\n",
        "       simple_regret_exact_13[slice15],\n",
        "       simple_regret_exact_14[slice15],\n",
        "       simple_regret_exact_15[slice15],\n",
        "       simple_regret_exact_16[slice15],\n",
        "       simple_regret_exact_17[slice15],\n",
        "       simple_regret_exact_18[slice15],\n",
        "       simple_regret_exact_19[slice15],\n",
        "       simple_regret_exact_20[slice15]]\n",
        "\n",
        "approx15_results = pd.DataFrame(approx15).sort_values(by=[0], ascending=False)\n",
        "exact15_results = pd.DataFrame(exact15).sort_values(by=[0], ascending=False)\n",
        "\n",
        "### Best simple regret minimization IQR - approx:\n",
        "lower_approx15 = np.asarray(approx15_results[4:5][0])[0]\n",
        "median_approx15 = np.asarray(approx15_results[9:10][0])[0]\n",
        "upper_approx15 = np.asarray(approx15_results[14:15][0])[0]\n",
        "\n",
        "lower_exact15 = np.asarray(exact15_results[4:5][0])[0]\n",
        "median_exact15 = np.asarray(exact15_results[9:10][0])[0]\n",
        "upper_exact15 = np.asarray(exact15_results[14:15][0])[0]"
      ]
    },
    {
      "cell_type": "code",
      "execution_count": 86,
      "metadata": {
        "id": "KJINKhv1Qxf6"
      },
      "outputs": [],
      "source": [
        "# Iteration6 :\n",
        "\n",
        "slice6 = 5\n",
        "\n",
        "approx6 = [simple_regret_approx_1[slice6],\n",
        "       simple_regret_approx_2[slice6],\n",
        "       simple_regret_approx_3[slice6],\n",
        "       simple_regret_approx_4[slice6],\n",
        "       simple_regret_approx_5[slice6],\n",
        "       simple_regret_approx_6[slice6],\n",
        "       simple_regret_approx_7[slice6],\n",
        "       simple_regret_approx_8[slice6],\n",
        "       simple_regret_approx_9[slice6],\n",
        "       simple_regret_approx_10[slice6],\n",
        "       simple_regret_approx_11[slice6],\n",
        "       simple_regret_approx_12[slice6],\n",
        "       simple_regret_approx_13[slice6],\n",
        "       simple_regret_approx_14[slice6],\n",
        "       simple_regret_approx_15[slice6],\n",
        "       simple_regret_approx_16[slice6],\n",
        "       simple_regret_approx_17[slice6],\n",
        "       simple_regret_approx_18[slice6],\n",
        "       simple_regret_approx_19[slice6],\n",
        "       simple_regret_approx_20[slice6]]\n",
        "\n",
        "exact6 = [simple_regret_exact_1[slice6],\n",
        "       simple_regret_exact_2[slice6],\n",
        "       simple_regret_exact_3[slice6],\n",
        "       simple_regret_exact_4[slice6],\n",
        "       simple_regret_exact_5[slice6],\n",
        "       simple_regret_exact_6[slice6],\n",
        "       simple_regret_exact_7[slice6],\n",
        "       simple_regret_exact_8[slice6],\n",
        "       simple_regret_exact_9[slice6],\n",
        "       simple_regret_exact_10[slice6],\n",
        "       simple_regret_exact_11[slice6],\n",
        "       simple_regret_exact_12[slice6],\n",
        "       simple_regret_exact_13[slice6],\n",
        "       simple_regret_exact_14[slice6],\n",
        "       simple_regret_exact_15[slice6],\n",
        "       simple_regret_exact_16[slice6],\n",
        "       simple_regret_exact_17[slice6],\n",
        "       simple_regret_exact_18[slice6],\n",
        "       simple_regret_exact_19[slice6],\n",
        "       simple_regret_exact_20[slice6]]\n",
        "\n",
        "approx6_results = pd.DataFrame(approx6).sort_values(by=[0], ascending=False)\n",
        "exact6_results = pd.DataFrame(exact6).sort_values(by=[0], ascending=False)\n",
        "\n",
        "### Best simple regret minimization IQR - approx:\n",
        "lower_approx6 = np.asarray(approx6_results[4:5][0])[0]\n",
        "median_approx6 = np.asarray(approx6_results[9:10][0])[0]\n",
        "upper_approx6 = np.asarray(approx6_results[14:15][0])[0]\n",
        "\n",
        "lower_exact6 = np.asarray(exact6_results[4:5][0])[0]\n",
        "median_exact6 = np.asarray(exact6_results[9:10][0])[0]\n",
        "upper_exact6 = np.asarray(exact6_results[14:15][0])[0]"
      ]
    },
    {
      "cell_type": "code",
      "execution_count": 87,
      "metadata": {
        "id": "nwC5N1FsQxf7"
      },
      "outputs": [],
      "source": [
        "# Iteration16 :\n",
        "\n",
        "slice16 = 15\n",
        "\n",
        "approx16 = [simple_regret_approx_1[slice16],\n",
        "       simple_regret_approx_2[slice16],\n",
        "       simple_regret_approx_3[slice16],\n",
        "       simple_regret_approx_4[slice16],\n",
        "       simple_regret_approx_5[slice16],\n",
        "       simple_regret_approx_6[slice16],\n",
        "       simple_regret_approx_7[slice16],\n",
        "       simple_regret_approx_8[slice16],\n",
        "       simple_regret_approx_9[slice16],\n",
        "       simple_regret_approx_10[slice16],\n",
        "       simple_regret_approx_11[slice16],\n",
        "       simple_regret_approx_12[slice16],\n",
        "       simple_regret_approx_13[slice16],\n",
        "       simple_regret_approx_14[slice16],\n",
        "       simple_regret_approx_15[slice16],\n",
        "       simple_regret_approx_16[slice16],\n",
        "       simple_regret_approx_17[slice16],\n",
        "       simple_regret_approx_18[slice16],\n",
        "       simple_regret_approx_19[slice16],\n",
        "       simple_regret_approx_20[slice16]]\n",
        "\n",
        "exact16 = [simple_regret_exact_1[slice16],\n",
        "       simple_regret_exact_2[slice16],\n",
        "       simple_regret_exact_3[slice16],\n",
        "       simple_regret_exact_4[slice16],\n",
        "       simple_regret_exact_5[slice16],\n",
        "       simple_regret_exact_6[slice16],\n",
        "       simple_regret_exact_7[slice16],\n",
        "       simple_regret_exact_8[slice16],\n",
        "       simple_regret_exact_9[slice16],\n",
        "       simple_regret_exact_10[slice16],\n",
        "       simple_regret_exact_11[slice16],\n",
        "       simple_regret_exact_12[slice16],\n",
        "       simple_regret_exact_13[slice16],\n",
        "       simple_regret_exact_14[slice16],\n",
        "       simple_regret_exact_15[slice16],\n",
        "       simple_regret_exact_16[slice16],\n",
        "       simple_regret_exact_17[slice16],\n",
        "       simple_regret_exact_18[slice16],\n",
        "       simple_regret_exact_19[slice16],\n",
        "       simple_regret_exact_20[slice16]]\n",
        "\n",
        "approx16_results = pd.DataFrame(approx16).sort_values(by=[0], ascending=False)\n",
        "exact16_results = pd.DataFrame(exact16).sort_values(by=[0], ascending=False)\n",
        "\n",
        "### Best simple regret minimization IQR - approx:\n",
        "lower_approx16 = np.asarray(approx16_results[4:5][0])[0]\n",
        "median_approx16 = np.asarray(approx16_results[9:10][0])[0]\n",
        "upper_approx16 = np.asarray(approx16_results[14:15][0])[0]\n",
        "\n",
        "lower_exact16 = np.asarray(exact16_results[4:5][0])[0]\n",
        "median_exact16 = np.asarray(exact16_results[9:10][0])[0]\n",
        "upper_exact16 = np.asarray(exact16_results[14:15][0])[0]"
      ]
    },
    {
      "cell_type": "code",
      "execution_count": 88,
      "metadata": {
        "id": "TrPV0AfnQxf7"
      },
      "outputs": [],
      "source": [
        "# Iteration7 :\n",
        "\n",
        "slice7 = 6\n",
        "\n",
        "approx7 = [simple_regret_approx_1[slice7],\n",
        "       simple_regret_approx_2[slice7],\n",
        "       simple_regret_approx_3[slice7],\n",
        "       simple_regret_approx_4[slice7],\n",
        "       simple_regret_approx_5[slice7],\n",
        "       simple_regret_approx_6[slice7],\n",
        "       simple_regret_approx_7[slice7],\n",
        "       simple_regret_approx_8[slice7],\n",
        "       simple_regret_approx_9[slice7],\n",
        "       simple_regret_approx_10[slice7],\n",
        "       simple_regret_approx_11[slice7],\n",
        "       simple_regret_approx_12[slice7],\n",
        "       simple_regret_approx_13[slice7],\n",
        "       simple_regret_approx_14[slice7],\n",
        "       simple_regret_approx_15[slice7],\n",
        "       simple_regret_approx_16[slice7],\n",
        "       simple_regret_approx_17[slice7],\n",
        "       simple_regret_approx_18[slice7],\n",
        "       simple_regret_approx_19[slice7],\n",
        "       simple_regret_approx_20[slice7]]\n",
        "\n",
        "exact7 = [simple_regret_exact_1[slice7],\n",
        "       simple_regret_exact_2[slice7],\n",
        "       simple_regret_exact_3[slice7],\n",
        "       simple_regret_exact_4[slice7],\n",
        "       simple_regret_exact_5[slice7],\n",
        "       simple_regret_exact_6[slice7],\n",
        "       simple_regret_exact_7[slice7],\n",
        "       simple_regret_exact_8[slice7],\n",
        "       simple_regret_exact_9[slice7],\n",
        "       simple_regret_exact_10[slice7],\n",
        "       simple_regret_exact_11[slice7],\n",
        "       simple_regret_exact_12[slice7],\n",
        "       simple_regret_exact_13[slice7],\n",
        "       simple_regret_exact_14[slice7],\n",
        "       simple_regret_exact_15[slice7],\n",
        "       simple_regret_exact_16[slice7],\n",
        "       simple_regret_exact_17[slice7],\n",
        "       simple_regret_exact_18[slice7],\n",
        "       simple_regret_exact_19[slice7],\n",
        "       simple_regret_exact_20[slice7]]\n",
        "\n",
        "approx7_results = pd.DataFrame(approx7).sort_values(by=[0], ascending=False)\n",
        "exact7_results = pd.DataFrame(exact7).sort_values(by=[0], ascending=False)\n",
        "\n",
        "### Best simple regret minimization IQR - approx:\n",
        "lower_approx7 = np.asarray(approx7_results[4:5][0])[0]\n",
        "median_approx7 = np.asarray(approx7_results[9:10][0])[0]\n",
        "upper_approx7 = np.asarray(approx7_results[14:15][0])[0]\n",
        "\n",
        "lower_exact7 = np.asarray(exact7_results[4:5][0])[0]\n",
        "median_exact7 = np.asarray(exact7_results[9:10][0])[0]\n",
        "upper_exact7 = np.asarray(exact7_results[14:15][0])[0]"
      ]
    },
    {
      "cell_type": "code",
      "execution_count": 89,
      "metadata": {
        "id": "Ub_-wpK4Qxf8"
      },
      "outputs": [],
      "source": [
        "# Iteration17 :\n",
        "\n",
        "slice17 = 16\n",
        "\n",
        "approx17 = [simple_regret_approx_1[slice17],\n",
        "       simple_regret_approx_2[slice17],\n",
        "       simple_regret_approx_3[slice17],\n",
        "       simple_regret_approx_4[slice17],\n",
        "       simple_regret_approx_5[slice17],\n",
        "       simple_regret_approx_6[slice17],\n",
        "       simple_regret_approx_7[slice17],\n",
        "       simple_regret_approx_8[slice17],\n",
        "       simple_regret_approx_9[slice17],\n",
        "       simple_regret_approx_10[slice17],\n",
        "       simple_regret_approx_11[slice17],\n",
        "       simple_regret_approx_12[slice17],\n",
        "       simple_regret_approx_13[slice17],\n",
        "       simple_regret_approx_14[slice17],\n",
        "       simple_regret_approx_15[slice17],\n",
        "       simple_regret_approx_16[slice17],\n",
        "       simple_regret_approx_17[slice17],\n",
        "       simple_regret_approx_18[slice17],\n",
        "       simple_regret_approx_19[slice17],\n",
        "       simple_regret_approx_20[slice17]]\n",
        "\n",
        "exact17 = [simple_regret_exact_1[slice17],\n",
        "       simple_regret_exact_2[slice17],\n",
        "       simple_regret_exact_3[slice17],\n",
        "       simple_regret_exact_4[slice17],\n",
        "       simple_regret_exact_5[slice17],\n",
        "       simple_regret_exact_6[slice17],\n",
        "       simple_regret_exact_7[slice17],\n",
        "       simple_regret_exact_8[slice17],\n",
        "       simple_regret_exact_9[slice17],\n",
        "       simple_regret_exact_10[slice17],\n",
        "       simple_regret_exact_11[slice17],\n",
        "       simple_regret_exact_12[slice17],\n",
        "       simple_regret_exact_13[slice17],\n",
        "       simple_regret_exact_14[slice17],\n",
        "       simple_regret_exact_15[slice17],\n",
        "       simple_regret_exact_16[slice17],\n",
        "       simple_regret_exact_17[slice17],\n",
        "       simple_regret_exact_18[slice17],\n",
        "       simple_regret_exact_19[slice17],\n",
        "       simple_regret_exact_20[slice17]]\n",
        "\n",
        "approx17_results = pd.DataFrame(approx17).sort_values(by=[0], ascending=False)\n",
        "exact17_results = pd.DataFrame(exact17).sort_values(by=[0], ascending=False)\n",
        "\n",
        "### Best simple regret minimization IQR - approx:\n",
        "lower_approx17 = np.asarray(approx17_results[4:5][0])[0]\n",
        "median_approx17 = np.asarray(approx17_results[9:10][0])[0]\n",
        "upper_approx17 = np.asarray(approx17_results[14:15][0])[0]\n",
        "\n",
        "lower_exact17 = np.asarray(exact17_results[4:5][0])[0]\n",
        "median_exact17 = np.asarray(exact17_results[9:10][0])[0]\n",
        "upper_exact17 = np.asarray(exact17_results[14:15][0])[0]"
      ]
    },
    {
      "cell_type": "code",
      "execution_count": 90,
      "metadata": {
        "id": "-6VLo37PQxf8"
      },
      "outputs": [],
      "source": [
        "# Iteration8 :\n",
        "\n",
        "slice8 = 7\n",
        "\n",
        "approx8 = [simple_regret_approx_1[slice8],\n",
        "       simple_regret_approx_2[slice8],\n",
        "       simple_regret_approx_3[slice8],\n",
        "       simple_regret_approx_4[slice8],\n",
        "       simple_regret_approx_5[slice8],\n",
        "       simple_regret_approx_6[slice8],\n",
        "       simple_regret_approx_7[slice8],\n",
        "       simple_regret_approx_8[slice8],\n",
        "       simple_regret_approx_9[slice8],\n",
        "       simple_regret_approx_10[slice8],\n",
        "       simple_regret_approx_11[slice8],\n",
        "       simple_regret_approx_12[slice8],\n",
        "       simple_regret_approx_13[slice8],\n",
        "       simple_regret_approx_14[slice8],\n",
        "       simple_regret_approx_15[slice8],\n",
        "       simple_regret_approx_16[slice8],\n",
        "       simple_regret_approx_17[slice8],\n",
        "       simple_regret_approx_18[slice8],\n",
        "       simple_regret_approx_19[slice8],\n",
        "       simple_regret_approx_20[slice8]]\n",
        "\n",
        "exact8 = [simple_regret_exact_1[slice8],\n",
        "       simple_regret_exact_2[slice8],\n",
        "       simple_regret_exact_3[slice8],\n",
        "       simple_regret_exact_4[slice8],\n",
        "       simple_regret_exact_5[slice8],\n",
        "       simple_regret_exact_6[slice8],\n",
        "       simple_regret_exact_7[slice8],\n",
        "       simple_regret_exact_8[slice8],\n",
        "       simple_regret_exact_9[slice8],\n",
        "       simple_regret_exact_10[slice8],\n",
        "       simple_regret_exact_11[slice8],\n",
        "       simple_regret_exact_12[slice8],\n",
        "       simple_regret_exact_13[slice8],\n",
        "       simple_regret_exact_14[slice8],\n",
        "       simple_regret_exact_15[slice8],\n",
        "       simple_regret_exact_16[slice8],\n",
        "       simple_regret_exact_17[slice8],\n",
        "       simple_regret_exact_18[slice8],\n",
        "       simple_regret_exact_19[slice8],\n",
        "       simple_regret_exact_20[slice8]]\n",
        "\n",
        "approx8_results = pd.DataFrame(approx8).sort_values(by=[0], ascending=False)\n",
        "exact8_results = pd.DataFrame(exact8).sort_values(by=[0], ascending=False)\n",
        "\n",
        "### Best simple regret minimization IQR - approx:\n",
        "lower_approx8 = np.asarray(approx8_results[4:5][0])[0]\n",
        "median_approx8 = np.asarray(approx8_results[9:10][0])[0]\n",
        "upper_approx8 = np.asarray(approx8_results[14:15][0])[0]\n",
        "\n",
        "lower_exact8 = np.asarray(exact8_results[4:5][0])[0]\n",
        "median_exact8 = np.asarray(exact8_results[9:10][0])[0]\n",
        "upper_exact8 = np.asarray(exact8_results[14:15][0])[0]"
      ]
    },
    {
      "cell_type": "code",
      "execution_count": 91,
      "metadata": {
        "id": "2Dp-9CC2Qxf9"
      },
      "outputs": [],
      "source": [
        "# Iteration18 :\n",
        "\n",
        "slice18 = 17\n",
        "\n",
        "approx18 = [simple_regret_approx_1[slice18],\n",
        "       simple_regret_approx_2[slice18],\n",
        "       simple_regret_approx_3[slice18],\n",
        "       simple_regret_approx_4[slice18],\n",
        "       simple_regret_approx_5[slice18],\n",
        "       simple_regret_approx_6[slice18],\n",
        "       simple_regret_approx_7[slice18],\n",
        "       simple_regret_approx_8[slice18],\n",
        "       simple_regret_approx_9[slice18],\n",
        "       simple_regret_approx_10[slice18],\n",
        "       simple_regret_approx_11[slice18],\n",
        "       simple_regret_approx_12[slice18],\n",
        "       simple_regret_approx_13[slice18],\n",
        "       simple_regret_approx_14[slice18],\n",
        "       simple_regret_approx_15[slice18],\n",
        "       simple_regret_approx_16[slice18],\n",
        "       simple_regret_approx_17[slice18],\n",
        "       simple_regret_approx_18[slice18],\n",
        "       simple_regret_approx_19[slice18],\n",
        "       simple_regret_approx_20[slice18]]\n",
        "\n",
        "exact18 = [simple_regret_exact_1[slice18],\n",
        "       simple_regret_exact_2[slice18],\n",
        "       simple_regret_exact_3[slice18],\n",
        "       simple_regret_exact_4[slice18],\n",
        "       simple_regret_exact_5[slice18],\n",
        "       simple_regret_exact_6[slice18],\n",
        "       simple_regret_exact_7[slice18],\n",
        "       simple_regret_exact_8[slice18],\n",
        "       simple_regret_exact_9[slice18],\n",
        "       simple_regret_exact_10[slice18],\n",
        "       simple_regret_exact_11[slice18],\n",
        "       simple_regret_exact_12[slice18],\n",
        "       simple_regret_exact_13[slice18],\n",
        "       simple_regret_exact_14[slice18],\n",
        "       simple_regret_exact_15[slice18],\n",
        "       simple_regret_exact_16[slice18],\n",
        "       simple_regret_exact_17[slice18],\n",
        "       simple_regret_exact_18[slice18],\n",
        "       simple_regret_exact_19[slice18],\n",
        "       simple_regret_exact_20[slice18]]\n",
        "\n",
        "approx18_results = pd.DataFrame(approx18).sort_values(by=[0], ascending=False)\n",
        "exact18_results = pd.DataFrame(exact18).sort_values(by=[0], ascending=False)\n",
        "\n",
        "### Best simple regret minimization IQR - approx:\n",
        "lower_approx18 = np.asarray(approx18_results[4:5][0])[0]\n",
        "median_approx18 = np.asarray(approx18_results[9:10][0])[0]\n",
        "upper_approx18 = np.asarray(approx18_results[14:15][0])[0]\n",
        "\n",
        "lower_exact18 = np.asarray(exact18_results[4:5][0])[0]\n",
        "median_exact18 = np.asarray(exact18_results[9:10][0])[0]\n",
        "upper_exact18 = np.asarray(exact18_results[14:15][0])[0]"
      ]
    },
    {
      "cell_type": "code",
      "execution_count": 92,
      "metadata": {
        "id": "SqiaOpB7Qxf9"
      },
      "outputs": [],
      "source": [
        "# Iteration9 :\n",
        "\n",
        "slice9 = 8\n",
        "\n",
        "approx9 = [simple_regret_approx_1[slice9],\n",
        "       simple_regret_approx_2[slice9],\n",
        "       simple_regret_approx_3[slice9],\n",
        "       simple_regret_approx_4[slice9],\n",
        "       simple_regret_approx_5[slice9],\n",
        "       simple_regret_approx_6[slice9],\n",
        "       simple_regret_approx_7[slice9],\n",
        "       simple_regret_approx_8[slice9],\n",
        "       simple_regret_approx_9[slice9],\n",
        "       simple_regret_approx_10[slice9],\n",
        "       simple_regret_approx_11[slice9],\n",
        "       simple_regret_approx_12[slice9],\n",
        "       simple_regret_approx_13[slice9],\n",
        "       simple_regret_approx_14[slice9],\n",
        "       simple_regret_approx_15[slice9],\n",
        "       simple_regret_approx_16[slice9],\n",
        "       simple_regret_approx_17[slice9],\n",
        "       simple_regret_approx_18[slice9],\n",
        "       simple_regret_approx_19[slice9],\n",
        "       simple_regret_approx_20[slice9]]\n",
        "\n",
        "exact9 = [simple_regret_exact_1[slice9],\n",
        "       simple_regret_exact_2[slice9],\n",
        "       simple_regret_exact_3[slice9],\n",
        "       simple_regret_exact_4[slice9],\n",
        "       simple_regret_exact_5[slice9],\n",
        "       simple_regret_exact_6[slice9],\n",
        "       simple_regret_exact_7[slice9],\n",
        "       simple_regret_exact_8[slice9],\n",
        "       simple_regret_exact_9[slice9],\n",
        "       simple_regret_exact_10[slice9],\n",
        "       simple_regret_exact_11[slice9],\n",
        "       simple_regret_exact_12[slice9],\n",
        "       simple_regret_exact_13[slice9],\n",
        "       simple_regret_exact_14[slice9],\n",
        "       simple_regret_exact_15[slice9],\n",
        "       simple_regret_exact_16[slice9],\n",
        "       simple_regret_exact_17[slice9],\n",
        "       simple_regret_exact_18[slice9],\n",
        "       simple_regret_exact_19[slice9],\n",
        "       simple_regret_exact_20[slice9]]\n",
        "\n",
        "approx9_results = pd.DataFrame(approx9).sort_values(by=[0], ascending=False)\n",
        "exact9_results = pd.DataFrame(exact9).sort_values(by=[0], ascending=False)\n",
        "\n",
        "### Best simple regret minimization IQR - approx:\n",
        "lower_approx9 = np.asarray(approx9_results[4:5][0])[0]\n",
        "median_approx9 = np.asarray(approx9_results[9:10][0])[0]\n",
        "upper_approx9 = np.asarray(approx9_results[14:15][0])[0]\n",
        "\n",
        "lower_exact9 = np.asarray(exact9_results[4:5][0])[0]\n",
        "median_exact9 = np.asarray(exact9_results[9:10][0])[0]\n",
        "upper_exact9 = np.asarray(exact9_results[14:15][0])[0]"
      ]
    },
    {
      "cell_type": "code",
      "execution_count": 93,
      "metadata": {
        "id": "OQkCCOsPQxf9"
      },
      "outputs": [],
      "source": [
        "# Iteration19 :\n",
        "\n",
        "slice19 = 18\n",
        "\n",
        "approx19 = [simple_regret_approx_1[slice19],\n",
        "       simple_regret_approx_2[slice19],\n",
        "       simple_regret_approx_3[slice19],\n",
        "       simple_regret_approx_4[slice19],\n",
        "       simple_regret_approx_5[slice19],\n",
        "       simple_regret_approx_6[slice19],\n",
        "       simple_regret_approx_7[slice19],\n",
        "       simple_regret_approx_8[slice19],\n",
        "       simple_regret_approx_9[slice19],\n",
        "       simple_regret_approx_10[slice19],\n",
        "       simple_regret_approx_11[slice19],\n",
        "       simple_regret_approx_12[slice19],\n",
        "       simple_regret_approx_13[slice19],\n",
        "       simple_regret_approx_14[slice19],\n",
        "       simple_regret_approx_15[slice19],\n",
        "       simple_regret_approx_16[slice19],\n",
        "       simple_regret_approx_17[slice19],\n",
        "       simple_regret_approx_18[slice19],\n",
        "       simple_regret_approx_19[slice19],\n",
        "       simple_regret_approx_20[slice19]]\n",
        "\n",
        "exact19 = [simple_regret_exact_1[slice19],\n",
        "       simple_regret_exact_2[slice19],\n",
        "       simple_regret_exact_3[slice19],\n",
        "       simple_regret_exact_4[slice19],\n",
        "       simple_regret_exact_5[slice19],\n",
        "       simple_regret_exact_6[slice19],\n",
        "       simple_regret_exact_7[slice19],\n",
        "       simple_regret_exact_8[slice19],\n",
        "       simple_regret_exact_9[slice19],\n",
        "       simple_regret_exact_10[slice19],\n",
        "       simple_regret_exact_11[slice19],\n",
        "       simple_regret_exact_12[slice19],\n",
        "       simple_regret_exact_13[slice19],\n",
        "       simple_regret_exact_14[slice19],\n",
        "       simple_regret_exact_15[slice19],\n",
        "       simple_regret_exact_16[slice19],\n",
        "       simple_regret_exact_17[slice19],\n",
        "       simple_regret_exact_18[slice19],\n",
        "       simple_regret_exact_19[slice19],\n",
        "       simple_regret_exact_20[slice19]]\n",
        "\n",
        "approx19_results = pd.DataFrame(approx19).sort_values(by=[0], ascending=False)\n",
        "exact19_results = pd.DataFrame(exact19).sort_values(by=[0], ascending=False)\n",
        "\n",
        "### Best simple regret minimization IQR - approx:\n",
        "lower_approx19 = np.asarray(approx19_results[4:5][0])[0]\n",
        "median_approx19 = np.asarray(approx19_results[9:10][0])[0]\n",
        "upper_approx19 = np.asarray(approx19_results[14:15][0])[0]\n",
        "\n",
        "lower_exact19 = np.asarray(exact19_results[4:5][0])[0]\n",
        "median_exact19 = np.asarray(exact19_results[9:10][0])[0]\n",
        "upper_exact19 = np.asarray(exact19_results[14:15][0])[0]"
      ]
    },
    {
      "cell_type": "code",
      "execution_count": 94,
      "metadata": {
        "id": "h4vtWahcQxf-"
      },
      "outputs": [],
      "source": [
        "# Iteration10 :\n",
        "\n",
        "slice10 = 9\n",
        "\n",
        "approx10 = [simple_regret_approx_1[slice10],\n",
        "       simple_regret_approx_2[slice10],\n",
        "       simple_regret_approx_3[slice10],\n",
        "       simple_regret_approx_4[slice10],\n",
        "       simple_regret_approx_5[slice10],\n",
        "       simple_regret_approx_6[slice10],\n",
        "       simple_regret_approx_7[slice10],\n",
        "       simple_regret_approx_8[slice10],\n",
        "       simple_regret_approx_9[slice10],\n",
        "       simple_regret_approx_10[slice10],\n",
        "       simple_regret_approx_11[slice10],\n",
        "       simple_regret_approx_12[slice10],\n",
        "       simple_regret_approx_13[slice10],\n",
        "       simple_regret_approx_14[slice10],\n",
        "       simple_regret_approx_15[slice10],\n",
        "       simple_regret_approx_16[slice10],\n",
        "       simple_regret_approx_17[slice10],\n",
        "       simple_regret_approx_18[slice10],\n",
        "       simple_regret_approx_19[slice10],\n",
        "       simple_regret_approx_20[slice10]]\n",
        "\n",
        "exact10 = [simple_regret_exact_1[slice10],\n",
        "       simple_regret_exact_2[slice10],\n",
        "       simple_regret_exact_3[slice10],\n",
        "       simple_regret_exact_4[slice10],\n",
        "       simple_regret_exact_5[slice10],\n",
        "       simple_regret_exact_6[slice10],\n",
        "       simple_regret_exact_7[slice10],\n",
        "       simple_regret_exact_8[slice10],\n",
        "       simple_regret_exact_9[slice10],\n",
        "       simple_regret_exact_10[slice10],\n",
        "       simple_regret_exact_11[slice10],\n",
        "       simple_regret_exact_12[slice10],\n",
        "       simple_regret_exact_13[slice10],\n",
        "       simple_regret_exact_14[slice10],\n",
        "       simple_regret_exact_15[slice10],\n",
        "       simple_regret_exact_16[slice10],\n",
        "       simple_regret_exact_17[slice10],\n",
        "       simple_regret_exact_18[slice10],\n",
        "       simple_regret_exact_19[slice10],\n",
        "       simple_regret_exact_20[slice10]]\n",
        "\n",
        "approx10_results = pd.DataFrame(approx10).sort_values(by=[0], ascending=False)\n",
        "exact10_results = pd.DataFrame(exact10).sort_values(by=[0], ascending=False)\n",
        "\n",
        "### Best simple regret minimization IQR - approx:\n",
        "lower_approx10 = np.asarray(approx10_results[4:5][0])[0]\n",
        "median_approx10 = np.asarray(approx10_results[9:10][0])[0]\n",
        "upper_approx10 = np.asarray(approx10_results[14:15][0])[0]\n",
        "\n",
        "lower_exact10 = np.asarray(exact10_results[4:5][0])[0]\n",
        "median_exact10 = np.asarray(exact10_results[9:10][0])[0]\n",
        "upper_exact10 = np.asarray(exact10_results[14:15][0])[0]"
      ]
    },
    {
      "cell_type": "code",
      "execution_count": 95,
      "metadata": {
        "id": "Rsf240pWQxf-"
      },
      "outputs": [],
      "source": [
        "# Iteration20 :\n",
        "\n",
        "slice20 = 19\n",
        "\n",
        "approx20 = [simple_regret_approx_1[slice20],\n",
        "       simple_regret_approx_2[slice20],\n",
        "       simple_regret_approx_3[slice20],\n",
        "       simple_regret_approx_4[slice20],\n",
        "       simple_regret_approx_5[slice20],\n",
        "       simple_regret_approx_6[slice20],\n",
        "       simple_regret_approx_7[slice20],\n",
        "       simple_regret_approx_8[slice20],\n",
        "       simple_regret_approx_9[slice20],\n",
        "       simple_regret_approx_10[slice20],\n",
        "       simple_regret_approx_11[slice20],\n",
        "       simple_regret_approx_12[slice20],\n",
        "       simple_regret_approx_13[slice20],\n",
        "       simple_regret_approx_14[slice20],\n",
        "       simple_regret_approx_15[slice20],\n",
        "       simple_regret_approx_16[slice20],\n",
        "       simple_regret_approx_17[slice20],\n",
        "       simple_regret_approx_18[slice20],\n",
        "       simple_regret_approx_19[slice20],\n",
        "       simple_regret_approx_20[slice20]]\n",
        "\n",
        "exact20 = [simple_regret_exact_1[slice20],\n",
        "       simple_regret_exact_2[slice20],\n",
        "       simple_regret_exact_3[slice20],\n",
        "       simple_regret_exact_4[slice20],\n",
        "       simple_regret_exact_5[slice20],\n",
        "       simple_regret_exact_6[slice20],\n",
        "       simple_regret_exact_7[slice20],\n",
        "       simple_regret_exact_8[slice20],\n",
        "       simple_regret_exact_9[slice20],\n",
        "       simple_regret_exact_10[slice20],\n",
        "       simple_regret_exact_11[slice20],\n",
        "       simple_regret_exact_12[slice20],\n",
        "       simple_regret_exact_13[slice20],\n",
        "       simple_regret_exact_14[slice20],\n",
        "       simple_regret_exact_15[slice20],\n",
        "       simple_regret_exact_16[slice20],\n",
        "       simple_regret_exact_17[slice20],\n",
        "       simple_regret_exact_18[slice20],\n",
        "       simple_regret_exact_19[slice20],\n",
        "       simple_regret_exact_20[slice20]]\n",
        "\n",
        "approx20_results = pd.DataFrame(approx20).sort_values(by=[0], ascending=False)\n",
        "exact20_results = pd.DataFrame(exact20).sort_values(by=[0], ascending=False)\n",
        "\n",
        "### Best simple regret minimization IQR - approx:\n",
        "lower_approx20 = np.asarray(approx20_results[4:5][0])[0]\n",
        "median_approx20 = np.asarray(approx20_results[9:10][0])[0]\n",
        "upper_approx20 = np.asarray(approx20_results[14:15][0])[0]\n",
        "\n",
        "lower_exact20 = np.asarray(exact20_results[4:5][0])[0]\n",
        "median_exact20 = np.asarray(exact20_results[9:10][0])[0]\n",
        "upper_exact20 = np.asarray(exact20_results[14:15][0])[0]"
      ]
    },
    {
      "cell_type": "code",
      "execution_count": 96,
      "metadata": {
        "id": "gn36RejbQxf_"
      },
      "outputs": [],
      "source": [
        "### Summarize arrays: 'Loser'\n",
        "\n",
        "lower_approx = [lower_approx1,\n",
        "            lower_approx2,\n",
        "            lower_approx3,\n",
        "            lower_approx4,\n",
        "            lower_approx5,\n",
        "            lower_approx6,\n",
        "            lower_approx7,\n",
        "            lower_approx8,\n",
        "            lower_approx9,\n",
        "            lower_approx10,\n",
        "            lower_approx11,\n",
        "            lower_approx12,\n",
        "            lower_approx13,\n",
        "            lower_approx14,\n",
        "            lower_approx15,\n",
        "            lower_approx16,\n",
        "            lower_approx17,\n",
        "            lower_approx18,\n",
        "            lower_approx19,\n",
        "            lower_approx20,\n",
        "            lower_approx21]\n",
        "\n",
        "median_approx = [median_approx1,\n",
        "            median_approx2,\n",
        "            median_approx3,\n",
        "            median_approx4,\n",
        "            median_approx5,\n",
        "            median_approx6,\n",
        "            median_approx7,\n",
        "            median_approx8,\n",
        "            median_approx9,\n",
        "            median_approx10,\n",
        "            median_approx11,\n",
        "            median_approx12,\n",
        "            median_approx13,\n",
        "            median_approx14,\n",
        "            median_approx15,\n",
        "            median_approx16,\n",
        "            median_approx17,\n",
        "            median_approx18,\n",
        "            median_approx19,\n",
        "            median_approx20,\n",
        "            median_approx21]\n",
        "\n",
        "upper_approx = [upper_approx1,\n",
        "            upper_approx2,\n",
        "            upper_approx3,\n",
        "            upper_approx4,\n",
        "            upper_approx5,\n",
        "            upper_approx6,\n",
        "            upper_approx7,\n",
        "            upper_approx8,\n",
        "            upper_approx9,\n",
        "            upper_approx10,\n",
        "            upper_approx11,\n",
        "            upper_approx12,\n",
        "            upper_approx13,\n",
        "            upper_approx14,\n",
        "            upper_approx15,\n",
        "            upper_approx16,\n",
        "            upper_approx17,\n",
        "            upper_approx18,\n",
        "            upper_approx19,\n",
        "            upper_approx20,\n",
        "            upper_approx21]"
      ]
    },
    {
      "cell_type": "code",
      "execution_count": 97,
      "metadata": {
        "id": "wxtGTOYfQxf_"
      },
      "outputs": [],
      "source": [
        "### Summarize arrays: 'exact'\n",
        "\n",
        "lower_exact = [lower_exact1,\n",
        "            lower_exact2,\n",
        "            lower_exact3,\n",
        "            lower_exact4,\n",
        "            lower_exact5,\n",
        "            lower_exact6,\n",
        "            lower_exact7,\n",
        "            lower_exact8,\n",
        "            lower_exact9,\n",
        "            lower_exact10,\n",
        "            lower_exact11,\n",
        "            lower_exact12,\n",
        "            lower_exact13,\n",
        "            lower_exact14,\n",
        "            lower_exact15,\n",
        "            lower_exact16,\n",
        "            lower_exact17,\n",
        "            lower_exact18,\n",
        "            lower_exact19,\n",
        "            lower_exact20,\n",
        "            lower_exact21]\n",
        "\n",
        "median_exact = [median_exact1,\n",
        "            median_exact2,\n",
        "            median_exact3,\n",
        "            median_exact4,\n",
        "            median_exact5,\n",
        "            median_exact6,\n",
        "            median_exact7,\n",
        "            median_exact8,\n",
        "            median_exact9,\n",
        "            median_exact10,\n",
        "            median_exact11,\n",
        "            median_exact12,\n",
        "            median_exact13,\n",
        "            median_exact14,\n",
        "            median_exact15,\n",
        "            median_exact16,\n",
        "            median_exact17,\n",
        "            median_exact18,\n",
        "            median_exact19,\n",
        "            median_exact20,\n",
        "            median_exact21]\n",
        "\n",
        "upper_exact = [upper_exact1,\n",
        "            upper_exact2,\n",
        "            upper_exact3,\n",
        "            upper_exact4,\n",
        "            upper_exact5,\n",
        "            upper_exact6,\n",
        "            upper_exact7,\n",
        "            upper_exact8,\n",
        "            upper_exact9,\n",
        "            upper_exact10,\n",
        "            upper_exact11,\n",
        "            upper_exact12,\n",
        "            upper_exact13,\n",
        "            upper_exact14,\n",
        "            upper_exact15,\n",
        "            upper_exact16,\n",
        "            upper_exact17,\n",
        "            upper_exact18,\n",
        "            upper_exact19,\n",
        "            upper_exact20,\n",
        "            upper_exact21]"
      ]
    },
    {
      "cell_type": "code",
      "execution_count": 98,
      "metadata": {
        "id": "2MONq-BXQxgA",
        "colab": {
          "base_uri": "https://localhost:8080/",
          "height": 299
        },
        "outputId": "47372365-c59c-4fc9-b3e9-8c6257bfe319"
      },
      "outputs": [
        {
          "output_type": "display_data",
          "data": {
            "text/plain": [
              "<Figure size 432x288 with 1 Axes>"
            ],
            "image/png": "[encoded data removed]"
          },
          "metadata": {
            "needs_background": "light"
          }
        }
      ],
      "source": [
        "### Visualise!\n",
        "\n",
        "title = func\n",
        "plt.figure()\n",
        "\n",
        "plt.plot(median_approx, color = 'Green', ls='--')\n",
        "plt.plot(median_exact, color = 'Blue', ls='--')\n",
        "\n",
        "xstar = np.arange(0, iters+1, step=1)\n",
        "plt.fill_between(xstar, lower_approx, upper_approx, facecolor = 'Green', alpha=0.4, label='STP ERM Optimisation: Approx STP ERM gradients ' r'($\\nu$' ' = {})'.format(df))\n",
        "plt.fill_between(xstar, lower_exact, upper_exact, facecolor = 'Blue', alpha=0.4, label='STP ERM Optimisation: Exact STP dERM gradients ' r'($\\nu$' ' = {})'.format(df))\n",
        "\n",
        "plt.title(title, weight = 'bold')\n",
        "plt.xlabel('(Post-initialisation) iteration $\\it{k}$', weight = 'bold')\n",
        "plt.ylabel('log(Regret)', weight = 'bold') \n",
        "plt.legend(loc=0) # add plot legend\n",
        "\n",
        "### Make the x-ticks integers, not floats:\n",
        "count = len(xstar)\n",
        "plt.xticks(np.arange(count), np.arange(0, count))\n",
        "plt.show() #visualise!\n"
      ]
    },
    {
      "cell_type": "code",
      "execution_count": 99,
      "metadata": {
        "id": "l5dkR2Id2oiu",
        "colab": {
          "base_uri": "https://localhost:8080/"
        },
        "outputId": "b55c2929-b2ae-4932-88f8-cf75267bfdfb"
      },
      "outputs": [
        {
          "output_type": "execute_result",
          "data": {
            "text/plain": [
              "(977.5091667175293, 966.8720428943634)"
            ]
          },
          "metadata": {},
          "execution_count": 99
        }
      ],
      "source": [
        "time_approx, time_exact\n"
      ]
    },
    {
      "cell_type": "code",
      "source": [
        "### acqFunc attribute x, stddev: run number = 1\n",
        "\n",
        "acqFuncApprox_exact_1 = acqFuncApprox(exact_1.history)\n",
        "acqFuncExact_exact_1 = acqFuncExact(exact_1.history)\n",
        "\n",
        "e1 = np.std(acqFuncExact_exact_1)\n",
        "a1 = np.std(acqFuncApprox_exact_1)\n",
        "\n",
        "e1, a1\n"
      ],
      "metadata": {
        "id": "uwxv4dmfGsLr",
        "colab": {
          "base_uri": "https://localhost:8080/"
        },
        "outputId": "7adbdabc-c4c7-4b56-9dac-b53de9473505"
      },
      "execution_count": 100,
      "outputs": [
        {
          "output_type": "execute_result",
          "data": {
            "text/plain": [
              "(0.23813480866232167, 0.4172266239921795)"
            ]
          },
          "metadata": {},
          "execution_count": 100
        }
      ]
    },
    {
      "cell_type": "code",
      "source": [
        "### acqFunc attribute x, stddev: run number = 2\n",
        "\n",
        "acqFuncApprox_exact_2 = acqFuncApprox(exact_2.history)\n",
        "acqFuncExact_exact_2 = acqFuncExact(exact_2.history)\n",
        "\n",
        "e2 = np.std(acqFuncExact_exact_2)\n",
        "a2 = np.std(acqFuncApprox_exact_2)\n",
        "\n",
        "e2, a2\n"
      ],
      "metadata": {
        "id": "0YSV00_pGsXe",
        "colab": {
          "base_uri": "https://localhost:8080/"
        },
        "outputId": "da8f3b64-d23e-4b93-c493-0581014689d4"
      },
      "execution_count": 101,
      "outputs": [
        {
          "output_type": "execute_result",
          "data": {
            "text/plain": [
              "(0.3848311417367734, 0.4669866118395165)"
            ]
          },
          "metadata": {},
          "execution_count": 101
        }
      ]
    },
    {
      "cell_type": "code",
      "source": [
        "### acqFunc attribute x, stddev: run number = 3\n",
        "\n",
        "acqFuncApprox_exact_3 = acqFuncApprox(exact_3.history)\n",
        "acqFuncExact_exact_3 = acqFuncExact(exact_3.history)\n",
        "\n",
        "e3 = np.std(acqFuncExact_exact_3)\n",
        "a3 = np.std(acqFuncApprox_exact_3)\n",
        "\n",
        "e3, a3\n"
      ],
      "metadata": {
        "id": "HHVmsd2UGsjT",
        "colab": {
          "base_uri": "https://localhost:8080/"
        },
        "outputId": "76a070fd-d937-4fd2-8bc8-981c7e269d69"
      },
      "execution_count": 102,
      "outputs": [
        {
          "output_type": "execute_result",
          "data": {
            "text/plain": [
              "(0.37358039482892336, 0.48222996198797535)"
            ]
          },
          "metadata": {},
          "execution_count": 102
        }
      ]
    },
    {
      "cell_type": "code",
      "source": [
        "### acqFunc attribute x, stddev: run number = 4\n",
        "\n",
        "acqFuncApprox_exact_4 = acqFuncApprox(exact_4.history)\n",
        "acqFuncExact_exact_4 = acqFuncExact(exact_4.history)\n",
        "\n",
        "e4 = np.std(acqFuncExact_exact_4)\n",
        "a4 = np.std(acqFuncApprox_exact_4)\n",
        "\n",
        "e4, a4\n"
      ],
      "metadata": {
        "id": "r7O19S2eGsu7",
        "colab": {
          "base_uri": "https://localhost:8080/"
        },
        "outputId": "ff9cf808-5145-4d11-cacd-30c667a47e9c"
      },
      "execution_count": 103,
      "outputs": [
        {
          "output_type": "execute_result",
          "data": {
            "text/plain": [
              "(0.36232626075736485, 0.507175791706529)"
            ]
          },
          "metadata": {},
          "execution_count": 103
        }
      ]
    },
    {
      "cell_type": "code",
      "source": [
        "### acqFunc attribute x, stddev: run number = 5\n",
        "\n",
        "acqFuncApprox_exact_5 = acqFuncApprox(exact_5.history)\n",
        "acqFuncExact_exact_5 = acqFuncExact(exact_5.history)\n",
        "\n",
        "e5 = np.std(acqFuncExact_exact_5)\n",
        "a5 = np.std(acqFuncApprox_exact_5)\n",
        "\n",
        "e5, a5\n"
      ],
      "metadata": {
        "id": "sdb9o6NuGs5m",
        "colab": {
          "base_uri": "https://localhost:8080/"
        },
        "outputId": "fc27644a-60c3-4b90-addc-cfc383a5a2d7"
      },
      "execution_count": 104,
      "outputs": [
        {
          "output_type": "execute_result",
          "data": {
            "text/plain": [
              "(0.46933021710751377, 0.3751311989840313)"
            ]
          },
          "metadata": {},
          "execution_count": 104
        }
      ]
    },
    {
      "cell_type": "code",
      "source": [
        "### acqFunc attribute x, stddev: run number = 6\n",
        "\n",
        "acqFuncApprox_exact_6 = acqFuncApprox(exact_6.history)\n",
        "acqFuncExact_exact_6 = acqFuncExact(exact_6.history)\n",
        "\n",
        "e6 = np.std(acqFuncExact_exact_6)\n",
        "a6 = np.std(acqFuncApprox_exact_6)\n",
        "\n",
        "e6, a6\n"
      ],
      "metadata": {
        "id": "COQl7LZ8GtE0",
        "colab": {
          "base_uri": "https://localhost:8080/"
        },
        "outputId": "71670b6e-7e9f-4200-8d6a-74a2621555e2"
      },
      "execution_count": 105,
      "outputs": [
        {
          "output_type": "execute_result",
          "data": {
            "text/plain": [
              "(0.5699178182979731, 0.3983240051941627)"
            ]
          },
          "metadata": {},
          "execution_count": 105
        }
      ]
    },
    {
      "cell_type": "code",
      "source": [
        "### acqFunc attribute x, stddev: run number = 7\n",
        "\n",
        "acqFuncApprox_exact_7 = acqFuncApprox(exact_7.history)\n",
        "acqFuncExact_exact_7 = acqFuncExact(exact_7.history)\n",
        "\n",
        "e7 = np.std(acqFuncExact_exact_7)\n",
        "a7 = np.std(acqFuncApprox_exact_7)\n",
        "\n",
        "e7, a7\n"
      ],
      "metadata": {
        "id": "2gy9EtTzGtP7",
        "colab": {
          "base_uri": "https://localhost:8080/"
        },
        "outputId": "abc39383-02f9-4240-eea6-2e928f2a2222"
      },
      "execution_count": 106,
      "outputs": [
        {
          "output_type": "execute_result",
          "data": {
            "text/plain": [
              "(0.47098091608266424, 0.5394917023338377)"
            ]
          },
          "metadata": {},
          "execution_count": 106
        }
      ]
    },
    {
      "cell_type": "code",
      "source": [
        "### acqFunc attribute x, stddev: run number = 8\n",
        "\n",
        "acqFuncApprox_exact_8 = acqFuncApprox(exact_8.history)\n",
        "acqFuncExact_exact_8 = acqFuncExact(exact_8.history)\n",
        "\n",
        "e8 = np.std(acqFuncExact_exact_8)\n",
        "a8 = np.std(acqFuncApprox_exact_8)\n",
        "\n",
        "e8, a8\n"
      ],
      "metadata": {
        "id": "S7mn0qoMGtbM",
        "colab": {
          "base_uri": "https://localhost:8080/"
        },
        "outputId": "20c52bda-33be-4b8b-b6a6-ececa9b51dca"
      },
      "execution_count": 107,
      "outputs": [
        {
          "output_type": "execute_result",
          "data": {
            "text/plain": [
              "(0.24643180552371427, 0.45624846334515334)"
            ]
          },
          "metadata": {},
          "execution_count": 107
        }
      ]
    },
    {
      "cell_type": "code",
      "source": [
        "### acqFunc attribute x, stddev: run number = 9\n",
        "\n",
        "acqFuncApprox_exact_9 = acqFuncApprox(exact_9.history)\n",
        "acqFuncExact_exact_9 = acqFuncExact(exact_9.history)\n",
        "\n",
        "e9 = np.std(acqFuncExact_exact_9)\n",
        "a9 = np.std(acqFuncApprox_exact_9)\n",
        "\n",
        "e9, a9\n"
      ],
      "metadata": {
        "id": "BhljmkNxGtms",
        "colab": {
          "base_uri": "https://localhost:8080/"
        },
        "outputId": "98c04c3a-3854-4c61-c01b-5aa58f20748b"
      },
      "execution_count": 108,
      "outputs": [
        {
          "output_type": "execute_result",
          "data": {
            "text/plain": [
              "(0.33370713595889384, 0.34791848213958165)"
            ]
          },
          "metadata": {},
          "execution_count": 108
        }
      ]
    },
    {
      "cell_type": "code",
      "source": [
        "### acqFunc attribute x, stddev: run number = 10\n",
        "\n",
        "acqFuncApprox_exact_10 = acqFuncApprox(exact_10.history)\n",
        "acqFuncExact_exact_10 = acqFuncExact(exact_10.history)\n",
        "\n",
        "e10 = np.std(acqFuncExact_exact_10)\n",
        "a10 = np.std(acqFuncApprox_exact_10)\n",
        "\n",
        "e10, a10\n"
      ],
      "metadata": {
        "id": "W5GZo6k3Gtx8",
        "colab": {
          "base_uri": "https://localhost:8080/"
        },
        "outputId": "e5649e5a-9fb7-4d85-8e30-71ebd77cdb7b"
      },
      "execution_count": 109,
      "outputs": [
        {
          "output_type": "execute_result",
          "data": {
            "text/plain": [
              "(0.30130990740686836, 0.21597207150461384)"
            ]
          },
          "metadata": {},
          "execution_count": 109
        }
      ]
    },
    {
      "cell_type": "code",
      "source": [
        "### acqFunc attribute x, stddev: run number = 11\n",
        "\n",
        "acqFuncApprox_exact_11 = acqFuncApprox(exact_11.history)\n",
        "acqFuncExact_exact_11 = acqFuncExact(exact_11.history)\n",
        "\n",
        "e11 = np.std(acqFuncExact_exact_11)\n",
        "a11 = np.std(acqFuncApprox_exact_11)\n",
        "\n",
        "e11, a11\n"
      ],
      "metadata": {
        "id": "isKNhDk5Gt9D",
        "colab": {
          "base_uri": "https://localhost:8080/"
        },
        "outputId": "fcf1e283-f74e-4606-83d7-17ae24cd3f26"
      },
      "execution_count": 110,
      "outputs": [
        {
          "output_type": "execute_result",
          "data": {
            "text/plain": [
              "(0.24006939376060177, 0.27218746596032684)"
            ]
          },
          "metadata": {},
          "execution_count": 110
        }
      ]
    },
    {
      "cell_type": "code",
      "source": [
        "### acqFunc attribute x, stddev: run number = 12\n",
        "\n",
        "acqFuncApprox_exact_12 = acqFuncApprox(exact_12.history)\n",
        "acqFuncExact_exact_12 = acqFuncExact(exact_12.history)\n",
        "\n",
        "e12 = np.std(acqFuncExact_exact_12)\n",
        "a12 = np.std(acqFuncApprox_exact_12)\n",
        "\n",
        "e12, a12\n"
      ],
      "metadata": {
        "id": "8ts-wrSuGuIm",
        "colab": {
          "base_uri": "https://localhost:8080/"
        },
        "outputId": "9c8fd2e4-35b2-4f3c-e5a5-18780579b145"
      },
      "execution_count": 111,
      "outputs": [
        {
          "output_type": "execute_result",
          "data": {
            "text/plain": [
              "(0.40881661923508417, 0.32205024418886574)"
            ]
          },
          "metadata": {},
          "execution_count": 111
        }
      ]
    },
    {
      "cell_type": "code",
      "source": [
        "### acqFunc attribute x, stddev: run number = 13\n",
        "\n",
        "acqFuncApprox_exact_13 = acqFuncApprox(exact_13.history)\n",
        "acqFuncExact_exact_13 = acqFuncExact(exact_13.history)\n",
        "\n",
        "e13 = np.std(acqFuncExact_exact_13)\n",
        "a13 = np.std(acqFuncApprox_exact_13)\n",
        "\n",
        "e13, a13\n"
      ],
      "metadata": {
        "id": "n0drhEe3GuUL",
        "colab": {
          "base_uri": "https://localhost:8080/"
        },
        "outputId": "ff9dfce7-950b-48de-9884-ab593ae6c39d"
      },
      "execution_count": 112,
      "outputs": [
        {
          "output_type": "execute_result",
          "data": {
            "text/plain": [
              "(0.22928662915907505, 0.38256400329242746)"
            ]
          },
          "metadata": {},
          "execution_count": 112
        }
      ]
    },
    {
      "cell_type": "code",
      "source": [
        "### acqFunc attribute x, stddev: run number = 14\n",
        "\n",
        "acqFuncApprox_exact_14 = acqFuncApprox(exact_14.history)\n",
        "acqFuncExact_exact_14 = acqFuncExact(exact_14.history)\n",
        "\n",
        "e14 = np.std(acqFuncExact_exact_14)\n",
        "a14 = np.std(acqFuncApprox_exact_14)\n",
        "\n",
        "e14, a14\n"
      ],
      "metadata": {
        "id": "R0W3MZaVGues",
        "colab": {
          "base_uri": "https://localhost:8080/"
        },
        "outputId": "9ea65c51-9cf4-400f-c60b-903d9baf9287"
      },
      "execution_count": 113,
      "outputs": [
        {
          "output_type": "execute_result",
          "data": {
            "text/plain": [
              "(0.4260577559011173, 0.27245167881354165)"
            ]
          },
          "metadata": {},
          "execution_count": 113
        }
      ]
    },
    {
      "cell_type": "code",
      "source": [
        "### acqFunc attribute x, stddev: run number = 15\n",
        "\n",
        "acqFuncApprox_exact_15 = acqFuncApprox(exact_15.history)\n",
        "acqFuncExact_exact_15 = acqFuncExact(exact_15.history)\n",
        "\n",
        "e15 = np.std(acqFuncExact_exact_15)\n",
        "a15 = np.std(acqFuncApprox_exact_15)\n",
        "\n",
        "e15, a15\n"
      ],
      "metadata": {
        "id": "DoXdDFHoGup-",
        "colab": {
          "base_uri": "https://localhost:8080/"
        },
        "outputId": "578108ec-db96-47b7-b4cd-5d5d67665874"
      },
      "execution_count": 114,
      "outputs": [
        {
          "output_type": "execute_result",
          "data": {
            "text/plain": [
              "(0.4462299533960763, 0.34708619093722004)"
            ]
          },
          "metadata": {},
          "execution_count": 114
        }
      ]
    },
    {
      "cell_type": "code",
      "source": [
        "### acqFunc attribute x, stddev: run number = 16\n",
        "\n",
        "acqFuncApprox_exact_16 = acqFuncApprox(exact_16.history)\n",
        "acqFuncExact_exact_16 = acqFuncExact(exact_16.history)\n",
        "\n",
        "e16 = np.std(acqFuncExact_exact_16)\n",
        "a16 = np.std(acqFuncApprox_exact_16)\n",
        "\n",
        "e16, a16\n"
      ],
      "metadata": {
        "id": "K_wAeqSoGu2j",
        "colab": {
          "base_uri": "https://localhost:8080/"
        },
        "outputId": "e8d88438-d5ac-42c8-cca8-80a463c18764"
      },
      "execution_count": 115,
      "outputs": [
        {
          "output_type": "execute_result",
          "data": {
            "text/plain": [
              "(0.49198691413517015, 0.5021653067416461)"
            ]
          },
          "metadata": {},
          "execution_count": 115
        }
      ]
    },
    {
      "cell_type": "code",
      "source": [
        "### acqFunc attribute x, stddev: run number = 17\n",
        "\n",
        "acqFuncApprox_exact_17 = acqFuncApprox(exact_17.history)\n",
        "acqFuncExact_exact_17 = acqFuncExact(exact_17.history)\n",
        "\n",
        "e17 = np.std(acqFuncExact_exact_17)\n",
        "a17 = np.std(acqFuncApprox_exact_17)\n",
        "\n",
        "e17, a17\n"
      ],
      "metadata": {
        "id": "n6zy78fjGvBT",
        "colab": {
          "base_uri": "https://localhost:8080/"
        },
        "outputId": "15c60de6-089f-4526-98ab-3bdc22562507"
      },
      "execution_count": 116,
      "outputs": [
        {
          "output_type": "execute_result",
          "data": {
            "text/plain": [
              "(0.30323833494381935, 0.49433951940023946)"
            ]
          },
          "metadata": {},
          "execution_count": 116
        }
      ]
    },
    {
      "cell_type": "code",
      "source": [
        "### acqFunc attribute x, stddev: run number = 18\n",
        "\n",
        "acqFuncApprox_exact_18 = acqFuncApprox(exact_18.history)\n",
        "acqFuncExact_exact_18 = acqFuncExact(exact_18.history)\n",
        "\n",
        "e18 = np.std(acqFuncExact_exact_18)\n",
        "a18 = np.std(acqFuncApprox_exact_18)\n",
        "\n",
        "e18, a18\n"
      ],
      "metadata": {
        "id": "s_6_2K4iGvM-",
        "colab": {
          "base_uri": "https://localhost:8080/"
        },
        "outputId": "d976f24a-dbe6-496d-e8b4-472e44fa3210"
      },
      "execution_count": 117,
      "outputs": [
        {
          "output_type": "execute_result",
          "data": {
            "text/plain": [
              "(0.4167695805861837, 0.4090285740827721)"
            ]
          },
          "metadata": {},
          "execution_count": 117
        }
      ]
    },
    {
      "cell_type": "code",
      "source": [
        "### acqFunc attribute x, stddev: run number = 19\n",
        "\n",
        "acqFuncApprox_exact_19 = acqFuncApprox(exact_19.history)\n",
        "acqFuncExact_exact_19 = acqFuncExact(exact_19.history)\n",
        "\n",
        "e19 = np.std(acqFuncExact_exact_19)\n",
        "a19 = np.std(acqFuncApprox_exact_19)\n",
        "\n",
        "e19, a19\n"
      ],
      "metadata": {
        "id": "o8oO8pdBGvYk",
        "colab": {
          "base_uri": "https://localhost:8080/"
        },
        "outputId": "d77cc909-9e0c-4683-ab71-4f640d82afb3"
      },
      "execution_count": 118,
      "outputs": [
        {
          "output_type": "execute_result",
          "data": {
            "text/plain": [
              "(0.35698596022697165, 0.39729125309960117)"
            ]
          },
          "metadata": {},
          "execution_count": 118
        }
      ]
    },
    {
      "cell_type": "code",
      "source": [
        "### acqFunc attribute x, stddev: run number = 20\n",
        "\n",
        "acqFuncApprox_exact_20 = acqFuncApprox(exact_20.history)\n",
        "acqFuncExact_exact_20 = acqFuncExact(exact_20.history)\n",
        "\n",
        "e20 = np.std(acqFuncExact_exact_20)\n",
        "a20 = np.std(acqFuncApprox_exact_20)\n",
        "\n",
        "e20, a20\n"
      ],
      "metadata": {
        "id": "b2w8oLc0IMzU",
        "colab": {
          "base_uri": "https://localhost:8080/"
        },
        "outputId": "080003dc-5bfb-4ec2-fb18-7abe3cc734bd"
      },
      "execution_count": 119,
      "outputs": [
        {
          "output_type": "execute_result",
          "data": {
            "text/plain": [
              "(0.41124134755970143, 0.5086949698956728)"
            ]
          },
          "metadata": {},
          "execution_count": 119
        }
      ]
    },
    {
      "cell_type": "code",
      "source": [
        "### Summarize arrays: \n",
        "\n",
        "exact_stddev = np.sort([e1,e2,e3,e4,e5,e6,e7,e8,e9,e10,e11,e12,e13,e14,e15,e16,e17,e18,e19,e20])\n",
        "approx_stddev = np.sort([a1,a2,a3,a4,a5,a6,a7,a8,a9,a10,a11,a12,a13,a14,a15,a16,a17,a18,a19,a20])\n",
        "\n",
        "np.mean(exact_stddev), np.mean(approx_stddev)\n"
      ],
      "metadata": {
        "id": "qAZs3yxMIZul",
        "colab": {
          "base_uri": "https://localhost:8080/"
        },
        "outputId": "d0196350-c310-428a-ead9-c700b3374cdb"
      },
      "execution_count": 120,
      "outputs": [
        {
          "output_type": "execute_result",
          "data": {
            "text/plain": [
              "(0.37406164476334053, 0.4057282059719947)"
            ]
          },
          "metadata": {},
          "execution_count": 120
        }
      ]
    },
    {
      "cell_type": "code",
      "source": [
        "### Visualise!\n",
        "\n",
        "title = func\n",
        "plt.figure()\n",
        "\n",
        "plt.plot(approx_stddev, color = 'Green', ls='--', label='Average $\\sigma$, attribute $\\mathbf{x}$: Approx STP ERM gradients')\n",
        "plt.plot(exact_stddev, color = 'Blue', ls='-', label='Average $\\sigma$, attribute $\\mathbf{x}$: Exact STP dERM gradients')\n",
        "\n",
        "plt.title(title, weight = 'bold')\n",
        "plt.xlabel('Experiment(s)', weight = 'bold')\n",
        "plt.ylabel('STP ERM: Average $\\sigma$, attribute $\\mathbf{x}$', weight = 'bold') \n",
        "plt.legend(loc=0) # add plot legend\n",
        "\n",
        "### Make the x-ticks integers, not floats:\n",
        "count = len(xstar)\n",
        "plt.xticks(np.arange(count), np.arange(1, count))\n",
        "plt.show() #visualize!\n"
      ],
      "metadata": {
        "id": "e_kpqYcMIZxu",
        "colab": {
          "base_uri": "https://localhost:8080/",
          "height": 295
        },
        "outputId": "b2243cc2-c69b-4c5d-adca-5b9345a514a6"
      },
      "execution_count": 121,
      "outputs": [
        {
          "output_type": "display_data",
          "data": {
            "text/plain": [
              "<Figure size 432x288 with 1 Axes>"
            ],
            "image/png": "[encoded data removed]"
          },
          "metadata": {
            "needs_background": "light"
          }
        }
      ]
    },
    {
      "cell_type": "code",
      "source": [],
      "metadata": {
        "id": "LToGd4vZIZ3I"
      },
      "execution_count": 121,
      "outputs": []
    }
  ],
  "metadata": {
    "colab": {
      "collapsed_sections": [],
      "provenance": []
    },
    "kernelspec": {
      "display_name": "Python 3",
      "name": "python3"
    },
    "language_info": {
      "name": "python"
    }
  },
  "nbformat": 4,
  "nbformat_minor": 0
}