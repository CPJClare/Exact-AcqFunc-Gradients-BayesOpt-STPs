{
  "cells": [
    {
      "cell_type": "markdown",
      "metadata": {
        "id": "Dqn4dFx7Z2Ir"
      },
      "source": [
        "\n",
        "Sphere: 2D\n"
      ]
    },
    {
      "cell_type": "code",
      "execution_count": 1,
      "metadata": {
        "colab": {
          "base_uri": "https://localhost:8080/"
        },
        "id": "MJTM_GZZZb5x",
        "outputId": "59437d39-a521-4325-a18b-b24b13a15c68"
      },
      "outputs": [
        {
          "output_type": "stream",
          "name": "stdout",
          "text": [
            "Looking in indexes: https://pypi.org/simple, https://us-python.pkg.dev/colab-wheels/public/simple/\n",
            "Collecting pyGPGO\n",
            "  Downloading pyGPGO-0.5.1.tar.gz (14 kB)\n",
            "Requirement already satisfied: numpy in /usr/local/lib/python3.7/dist-packages (from pyGPGO) (1.21.6)\n",
            "Requirement already satisfied: mkl in /usr/local/lib/python3.7/dist-packages (from pyGPGO) (2019.0)\n",
            "Requirement already satisfied: scipy in /usr/local/lib/python3.7/dist-packages (from pyGPGO) (1.7.3)\n",
            "Requirement already satisfied: joblib in /usr/local/lib/python3.7/dist-packages (from pyGPGO) (1.1.0)\n",
            "Requirement already satisfied: scikit-learn in /usr/local/lib/python3.7/dist-packages (from pyGPGO) (1.0.2)\n",
            "Collecting Theano-PyMC\n",
            "  Downloading Theano-PyMC-1.1.2.tar.gz (1.8 MB)\n",
            "\u001b[K     |████████████████████████████████| 1.8 MB 5.8 MB/s \n",
            "\u001b[?25hCollecting pyMC3\n",
            "  Downloading pymc3-3.11.5-py3-none-any.whl (872 kB)\n",
            "\u001b[K     |████████████████████████████████| 872 kB 43.8 MB/s \n",
            "\u001b[?25hRequirement already satisfied: intel-openmp in /usr/local/lib/python3.7/dist-packages (from mkl->pyGPGO) (2022.1.0)\n",
            "Requirement already satisfied: pandas>=0.24.0 in /usr/local/lib/python3.7/dist-packages (from pyMC3->pyGPGO) (1.3.5)\n",
            "Requirement already satisfied: patsy>=0.5.1 in /usr/local/lib/python3.7/dist-packages (from pyMC3->pyGPGO) (0.5.2)\n",
            "Collecting semver>=2.13.0\n",
            "  Downloading semver-2.13.0-py2.py3-none-any.whl (12 kB)\n",
            "Requirement already satisfied: arviz>=0.11.0 in /usr/local/lib/python3.7/dist-packages (from pyMC3->pyGPGO) (0.12.1)\n",
            "Requirement already satisfied: fastprogress>=0.2.0 in /usr/local/lib/python3.7/dist-packages (from pyMC3->pyGPGO) (1.0.3)\n",
            "Collecting deprecat\n",
            "  Downloading deprecat-2.1.1-py2.py3-none-any.whl (9.8 kB)\n",
            "Requirement already satisfied: typing-extensions>=3.7.4 in /usr/local/lib/python3.7/dist-packages (from pyMC3->pyGPGO) (4.1.1)\n",
            "Requirement already satisfied: dill in /usr/local/lib/python3.7/dist-packages (from pyMC3->pyGPGO) (0.3.5.1)\n",
            "Requirement already satisfied: cachetools>=4.2.1 in /usr/local/lib/python3.7/dist-packages (from pyMC3->pyGPGO) (4.2.4)\n",
            "Requirement already satisfied: filelock in /usr/local/lib/python3.7/dist-packages (from Theano-PyMC->pyGPGO) (3.8.0)\n",
            "Requirement already satisfied: setuptools>=38.4 in /usr/local/lib/python3.7/dist-packages (from arviz>=0.11.0->pyMC3->pyGPGO) (57.4.0)\n",
            "Requirement already satisfied: xarray-einstats>=0.2 in /usr/local/lib/python3.7/dist-packages (from arviz>=0.11.0->pyMC3->pyGPGO) (0.2.2)\n",
            "Requirement already satisfied: packaging in /usr/local/lib/python3.7/dist-packages (from arviz>=0.11.0->pyMC3->pyGPGO) (21.3)\n",
            "Requirement already satisfied: xarray>=0.16.1 in /usr/local/lib/python3.7/dist-packages (from arviz>=0.11.0->pyMC3->pyGPGO) (0.20.2)\n",
            "Requirement already satisfied: matplotlib>=3.0 in /usr/local/lib/python3.7/dist-packages (from arviz>=0.11.0->pyMC3->pyGPGO) (3.2.2)\n",
            "Requirement already satisfied: netcdf4 in /usr/local/lib/python3.7/dist-packages (from arviz>=0.11.0->pyMC3->pyGPGO) (1.6.0)\n",
            "Requirement already satisfied: cycler>=0.10 in /usr/local/lib/python3.7/dist-packages (from matplotlib>=3.0->arviz>=0.11.0->pyMC3->pyGPGO) (0.11.0)\n",
            "Requirement already satisfied: pyparsing!=2.0.4,!=2.1.2,!=2.1.6,>=2.0.1 in /usr/local/lib/python3.7/dist-packages (from matplotlib>=3.0->arviz>=0.11.0->pyMC3->pyGPGO) (3.0.9)\n",
            "Requirement already satisfied: kiwisolver>=1.0.1 in /usr/local/lib/python3.7/dist-packages (from matplotlib>=3.0->arviz>=0.11.0->pyMC3->pyGPGO) (1.4.4)\n",
            "Requirement already satisfied: python-dateutil>=2.1 in /usr/local/lib/python3.7/dist-packages (from matplotlib>=3.0->arviz>=0.11.0->pyMC3->pyGPGO) (2.8.2)\n",
            "Requirement already satisfied: pytz>=2017.3 in /usr/local/lib/python3.7/dist-packages (from pandas>=0.24.0->pyMC3->pyGPGO) (2022.2.1)\n",
            "Requirement already satisfied: six in /usr/local/lib/python3.7/dist-packages (from patsy>=0.5.1->pyMC3->pyGPGO) (1.15.0)\n",
            "Requirement already satisfied: importlib-metadata in /usr/local/lib/python3.7/dist-packages (from xarray>=0.16.1->arviz>=0.11.0->pyMC3->pyGPGO) (4.12.0)\n",
            "Requirement already satisfied: wrapt<2,>=1.10 in /usr/local/lib/python3.7/dist-packages (from deprecat->pyMC3->pyGPGO) (1.14.1)\n",
            "Requirement already satisfied: zipp>=0.5 in /usr/local/lib/python3.7/dist-packages (from importlib-metadata->xarray>=0.16.1->arviz>=0.11.0->pyMC3->pyGPGO) (3.8.1)\n",
            "Requirement already satisfied: cftime in /usr/local/lib/python3.7/dist-packages (from netcdf4->arviz>=0.11.0->pyMC3->pyGPGO) (1.6.1)\n",
            "Requirement already satisfied: threadpoolctl>=2.0.0 in /usr/local/lib/python3.7/dist-packages (from scikit-learn->pyGPGO) (3.1.0)\n",
            "Building wheels for collected packages: pyGPGO, Theano-PyMC\n",
            "  Building wheel for pyGPGO (setup.py) ... \u001b[?25l\u001b[?25hdone\n",
            "  Created wheel for pyGPGO: filename=pyGPGO-0.5.1-py3-none-any.whl size=19879 sha256=09d6c5ade3a245ee7231e8c317889826eec445013fd669f7fa29c476fb13fe4a\n",
            "  Stored in directory: /root/.cache/pip/wheels/c8/5d/0b/2160114e2f1b87791c51b66cf07f89831dbb6f49167950316f\n",
            "  Building wheel for Theano-PyMC (setup.py) ... \u001b[?25l\u001b[?25hdone\n",
            "  Created wheel for Theano-PyMC: filename=Theano_PyMC-1.1.2-py3-none-any.whl size=1529963 sha256=3120b27f2341dd76e7d84b7ca01e80f5ba2ad47b92d199dabd93b13a01b7cdd8\n",
            "  Stored in directory: /root/.cache/pip/wheels/f3/af/8c/5dd7553522d74c52a7813806fc7ee1a9caa20a3f7c8fd850d5\n",
            "Successfully built pyGPGO Theano-PyMC\n",
            "Installing collected packages: Theano-PyMC, semver, deprecat, pyMC3, pyGPGO\n",
            "Successfully installed Theano-PyMC-1.1.2 deprecat-2.1.1 pyGPGO-0.5.1 pyMC3-3.11.5 semver-2.13.0\n"
          ]
        }
      ],
      "source": [
        "pip install pyGPGO\n"
      ]
    },
    {
      "cell_type": "code",
      "execution_count": 2,
      "metadata": {
        "id": "ZJSSPbwPaEUB"
      },
      "outputs": [],
      "source": [
        "### 1. Import python modules/packages required:\n",
        "\n",
        "import numpy as np\n",
        "import pandas as pd\n",
        "import scipy as sp\n",
        "import matplotlib.pyplot as plt\n",
        "import warnings\n",
        "import itertools\n",
        "import seaborn as sns\n",
        "import time\n",
        "\n",
        "from pyGPGO.GPGO import GPGO\n",
        "from pyGPGO.surrogates.tStudentProcess import tStudentProcess\n",
        "from pyGPGO.acquisition import Acquisition\n",
        "from pyGPGO.covfunc import squaredExponential\n",
        "from joblib import Parallel, delayed\n",
        "from scipy.linalg import inv\n",
        "from scipy.spatial.distance import cdist\n",
        "from scipy.optimize import minimize\n",
        "from scipy.stats import t\n",
        "from mpl_toolkits.axes_grid1.inset_locator import inset_axes, mark_inset\n",
        "\n",
        "warnings.filterwarnings(\"ignore\", category=RuntimeWarning)\n"
      ]
    },
    {
      "cell_type": "code",
      "execution_count": 3,
      "metadata": {
        "id": "OeYcTUNoaJWa"
      },
      "outputs": [],
      "source": [
        "### Inputs:\n",
        "\n",
        "func = 'Sphere'\n",
        "n_test = 500\n",
        "eps = 1e-08\n",
        "\n",
        "util = 'ERM'\n",
        "\n",
        "n_init = 5 # random initialisations\n",
        "iters = 20\n",
        "opt = True\n",
        "\n",
        "df = 3"
      ]
    },
    {
      "cell_type": "code",
      "execution_count": 4,
      "metadata": {
        "id": "xpaEOjdzaPMS"
      },
      "outputs": [],
      "source": [
        "### Objective Function - Sphere(x) 2-D:\n",
        "\n",
        "def objfunc(x1_training, x2_training):\n",
        "            return  operator * ( x1_training ** 2\n",
        "                            + x2_training ** 2\n",
        "                            )\n",
        "        \n",
        "# Constraints:\n",
        "lb = -5.12\n",
        "ub = +5.12\n",
        "    \n",
        "# Input array dimension(s):\n",
        "dim = 2\n",
        "\n",
        "# 2-D inputs' parameter bounds:\n",
        "param = {'x1_training': ('cont', [lb, ub]),\n",
        "                 'x2_training': ('cont', [lb, ub])\n",
        "                 }\n",
        "    \n",
        "# True y bounds:\n",
        "y_lb = 0\n",
        "operator = -1 # targets global minimum \n",
        "y_global_orig = y_lb * operator # targets global minimum\n",
        "    \n",
        "# Test data:\n",
        "x1_test = np.linspace(lb, ub, n_test)\n",
        "x2_test = np.linspace(lb, ub, n_test)\n",
        "x_test = np.column_stack((x1_test, x2_test))\n"
      ]
    },
    {
      "cell_type": "code",
      "execution_count": 5,
      "metadata": {
        "id": "eYpI3Zm4aGxi"
      },
      "outputs": [],
      "source": [
        "n_start_AcqFunc = iters\n",
        "inverse = -1\n"
      ]
    },
    {
      "cell_type": "code",
      "execution_count": 6,
      "metadata": {
        "id": "oO_GUmOoaV0T"
      },
      "outputs": [],
      "source": [
        "### Cumulative Regret Calculators:\n",
        "\n",
        "def min_max_array(x):\n",
        "    new_list = []\n",
        "    for i, num in enumerate(x):\n",
        "            new_list.append(np.min(x[0:i+1]))\n",
        "    return new_list\n",
        "  \n",
        "def acqFuncExact(x):\n",
        "    new_array = []\n",
        "    x = np.array(x) \n",
        "    for i, num in enumerate(x):\n",
        "            new_array = x[:-2][::-3]\n",
        "    return new_array[::-1]\n",
        "\n",
        "def acqFuncApprox(x):\n",
        "    new_array = []\n",
        "    x = np.array(x) \n",
        "    for i, num in enumerate(x):\n",
        "            new_array = x[:-1][::-3]\n",
        "    return new_array[::-1]\n"
      ]
    },
    {
      "cell_type": "code",
      "execution_count": 7,
      "metadata": {
        "id": "kuuJx0IMam9S"
      },
      "outputs": [],
      "source": [
        "### Surrogate derivatives: \n",
        "\n",
        "cov_func = squaredExponential()\n",
        "\n",
        "def kronDelta(X, Xstar):                     # Kronecker's Delta method\n",
        "    return cdist(X, Xstar) < np.finfo(np.float32).eps\n",
        "\n",
        "def se(X, Xstar, sigmaf, l, sigman):         # S.E. kernel method\n",
        "    return sigmaf * np.exp(-0.5 * cdist(X, Xstar) ** 2 / l ** 2) + sigman * kronDelta(X, Xstar)\n",
        "\n",
        "def delta(X, Xstar):                         # Distance between training X and test Xstar vectors\n",
        "    return (X - Xstar)\n",
        "   \n",
        "def der_covmat(X, Xstar, sigmaf, l, sigman): # Covariance matrix derivative terms (i.e. exact, first-order)\n",
        "    nx = len(X)\n",
        "    ny = len(Xstar)\n",
        "    return np.round(np.array([(delta(np.atleast_2d(i), np.atleast_2d(j))[0] * se(np.atleast_2d(i), np.atleast_2d(j), sigmaf, l, sigman)[0]).sum() for (i, j) in itertools.product(X, Xstar)]).reshape(nx, ny), 8)\n",
        "\n",
        "class dtStudentProcess(tStudentProcess):    # Via inheritance, also optimises hyperparameters when opt = TRUE\n",
        "    \n",
        "    def AcqGrad(self, Xstar):               # Method returning exact, first-order derivatives of the STP's posterior mean and standard deviation\n",
        "        Xstar = np.atleast_2d(Xstar)\n",
        "        Kstar = self.covfunc.K(self.X, Xstar).T\n",
        "        dKstar = der_covmat(self.X, Xstar, self.covfunc.sigmaf, self.covfunc.l, self.covfunc.sigman).T\n",
        "        \n",
        "        smd_adj = (self.nu + self.beta1 - 2) / (self.nu + self.n1 - 2)\n",
        "\n",
        "        alpha = np.dot(np.linalg.inv(self.K11 + (self.covfunc.sigman**2) * np.eye(len(self.X))), self.y)\n",
        "        alpha_Kstar = np.dot(np.linalg.inv(self.K11 + (self.covfunc.sigman**2) * np.eye(len(self.X))), Kstar.T)      \n",
        "        \n",
        "        dm = np.dot(dKstar, alpha)\n",
        "        ds = -2 * smd_adj * np.dot(dKstar, alpha_Kstar)\n",
        "        \n",
        "        return dm, ds \n",
        "        "
      ]
    },
    {
      "cell_type": "code",
      "execution_count": 8,
      "metadata": {
        "id": "_Dc3YVHVaXz7"
      },
      "outputs": [],
      "source": [
        "### Add exact acquisition function gradient as attribute:\n",
        "\n",
        "class Acquisition_grad(Acquisition):    \n",
        "    def __init__(self, mode, eps=eps, **params):\n",
        "        \n",
        "        self.params = params\n",
        "        self.eps = eps\n",
        "\n",
        "        mode_dict = {\n",
        "            'ERM': self.ERM\n",
        "        }\n",
        "\n",
        "        self.f = mode_dict[mode]\n",
        "    \n",
        "    def ERM(self, tau, mean, std, ds, dm, nu=3.0):\n",
        "        gamma = (mean - y_global_orig - self.eps) / (std + self.eps)\n",
        "        gamma_h = (mean - tau) / (std + self.eps)\n",
        "        dsdx = ds / (2 * (std + self.eps))\n",
        "        dmdx = (dm - gamma * dsdx) / (std + self.eps)\n",
        "        \n",
        "        f = (std + self.eps) * (gamma * t.cdf(gamma, df=nu) + (nu + gamma ** 2)/(nu - 1) * t.pdf(gamma, df=nu))\n",
        "        df1 = f / (std + self.eps) * dsdx \n",
        "        df2 = (std + self.eps) * (t.cdf(gamma, df=nu) * dmdx + gamma * t.pdf(gamma, df=nu) \\\n",
        "            * (1 - (nu + gamma ** 2)/(nu - 1) + 2/(nu - 1) * dmdx))\n",
        "        df = (df1 + df2)[0]\n",
        "        df_arr = []\n",
        "\n",
        "        for j in range(0, dim):\n",
        "          df_arr.append(df)\n",
        "        return f, np.asarray(df_arr).transpose()\n",
        "        \n",
        "    def d_eval(self, tau, mean, std, ds, dm, nu=3.0):\n",
        "    \n",
        "        return self.f(tau, mean, std, ds, dm, nu=3.0, **self.params)\n",
        "        "
      ]
    },
    {
      "cell_type": "code",
      "execution_count": 9,
      "metadata": {
        "id": "PITEQC8YSl7i"
      },
      "outputs": [],
      "source": [
        "## GPGO_multi: \n",
        "\n",
        "class GPGO_multi(GPGO):\n",
        "    n_start = n_start_AcqFunc\n",
        "\n",
        "    def __init__(self, surrogate, acquisition, f, parameter_dict, n_jobs=1):\n",
        "        self.GP = surrogate\n",
        "        self.A = acquisition\n",
        "        self.f = f\n",
        "        self.parameters = parameter_dict\n",
        "        self.n_jobs = n_jobs\n",
        "\n",
        "        self.parameter_key = list(parameter_dict.keys())\n",
        "        self.parameter_value = list(parameter_dict.values())\n",
        "        self.parameter_type = [p[0] for p in self.parameter_value]\n",
        "        self.parameter_range = [p[1] for p in self.parameter_value]\n",
        "\n",
        "        self.history = []\n",
        "        self.header =   'Evaluation \\t Proposed point \\t  Current eval. \\t  Best eval. \\t        Exact ERM: StdDev. x \\t Approx ERM: StdDev. x '\n",
        "        self.template = '{:3}\\t {}\\t {:3}\\t {:3}\\t {:3}\\t {:3}'\n",
        " \n",
        "    def acqfuncExact(self, xnew, n_start=n_start_AcqFunc):\n",
        "        new_mean, new_var = self.GP.predict(xnew, return_std=True)\n",
        "        new_std = np.sqrt(new_var + eps)\n",
        "        dm, ds = self.GP.AcqGrad(xnew)\n",
        "        f, df = self.A.d_eval(self.tau, new_mean, new_std, ds=ds, dm=dm, nu=3.0)\n",
        "\n",
        "        return -f, -df\n",
        "   \n",
        "    def acqfuncApprox(self, xnew, n_start=n_start_AcqFunc):\n",
        "        new_mean, new_var = self.GP.predict(xnew, return_std=True)\n",
        "        new_std = np.sqrt(new_var + eps)\n",
        "        dm, ds = self.GP.AcqGrad(xnew)\n",
        "        f, df = self.A.d_eval(self.tau, new_mean, new_std, ds=ds, dm=dm, nu=3.0)\n",
        "\n",
        "        return -f\n",
        "   \n",
        "    def _optimizeAcq(self, method='L-BFGS-B', n_start=n_start_AcqFunc):\n",
        "        \n",
        "        start_points_dict = [self._sampleParam() for i in range(n_start)]\n",
        "        start_points_arr = np.array([list(s.values())\n",
        "                                     for s in start_points_dict])\n",
        "        x_best = np.empty((n_start, len(self.parameter_key)))\n",
        "        f_best = np.empty((n_start,))\n",
        "        opt = Parallel(n_jobs=self.n_jobs)(delayed(minimize)(self.acqfuncApprox,\n",
        "                                                                 x0=start_point,\n",
        "                                                                 method=method,\n",
        "                                                                 jac = False,\n",
        "                                                                 bounds=self.parameter_range) for start_point in\n",
        "                                               start_points_arr)\n",
        "        x_best = np.array([res.x for res in opt])\n",
        "        f_best = np.array([np.atleast_1d(res.fun)[0] for res in opt])\n",
        "        f_best_min = min(f_best)\n",
        "\n",
        "        self.x_best = x_best\n",
        "        self.f_best = f_best\n",
        "        self.f_best_min = f_best_min\n",
        "        self.x_best_std = np.std(x_best)\n",
        "        self.best = x_best[np.argmin(f_best)]\n",
        "        self.start_points_arr = start_points_arr        \n",
        "        self.history.append(self.x_best_std)\n",
        "\n",
        "        x_best_exact = np.empty((n_start, len(self.parameter_key)))\n",
        "        f_best_exact = np.empty((n_start,))\n",
        "        opt_exact = Parallel(n_jobs=self.n_jobs)(delayed(minimize)(self.acqfuncExact,\n",
        "                                                                 x0=start_point,\n",
        "                                                                 method=method,\n",
        "                                                                 jac = True,\n",
        "                                                                 bounds=self.parameter_range) for start_point in\n",
        "                                               start_points_arr)\n",
        "        x_best_exact = np.array([res.x for res in opt_exact])\n",
        "        f_best_exact = np.array([np.atleast_1d(res.fun)[0] for res in opt_exact])\n",
        "        f_best_min_exact = min(f_best_exact)\n",
        "\n",
        "        self.x_best_exact = x_best_exact\n",
        "        self.f_best_exact = f_best_exact\n",
        "        self.f_best_min_exact = f_best_min_exact\n",
        "        self.x_best_std_exact = np.std(x_best_exact)\n",
        "        self.best_exact = x_best_exact[np.argmin(f_best_exact)]\n",
        "        self.start_points_arr = start_points_arr\n",
        "        self.history.append(self.x_best_std_exact)\n",
        "\n",
        "    def _printInit(self):\n",
        "        print(self.header)\n",
        "        for init_eval in range(self.init_evals):\n",
        "            print(self.template.format('init', self.GP.X[init_eval], inverse * self.GP.y[init_eval], inverse * self.tau, '', ''))\n",
        "      \n",
        "    def _printCurrent(self):\n",
        "        OKGREEN = '\\033[92m'\n",
        "        ENDC = '\\033[0m'\n",
        "        BOLD = '\\033[1m'\n",
        "        eval = str(len(self.GP.y) - self.init_evals)\n",
        "        proposed = str(self.best)\n",
        "        curr_eval = str(inverse * self.GP.y[-1])\n",
        "        curr_best = str(inverse * self.tau)\n",
        "        min_acqfunc = str(self.f_best_min)\n",
        "        min_acqfunc_exact = str(self.f_best_min_exact)\n",
        "        x_best_std = str(self.x_best_std)\n",
        "        x_best_std_exact = str(self.x_best_std_exact)\n",
        "        if float(curr_eval) <= float(curr_best):\n",
        "            eval = BOLD + OKGREEN + eval + ENDC\n",
        "            proposed = BOLD + OKGREEN + proposed + ENDC\n",
        "            curr_eval = BOLD + OKGREEN + curr_eval + ENDC\n",
        "            curr_best = BOLD + OKGREEN + curr_best + ENDC\n",
        "            x_best_std = BOLD + OKGREEN + x_best_std + ENDC\n",
        "            x_best_std_exact = BOLD + OKGREEN + x_best_std_exact + ENDC\n",
        "        print(self.template.format(eval, proposed, curr_eval, curr_best, x_best_std_exact, x_best_std))\n",
        "        \n",
        "    def run(self, max_iter=10, init_evals=3, resume=False):\n",
        "        \n",
        "        if not resume:\n",
        "            self.init_evals = init_evals\n",
        "            self._firstRun(self.init_evals)\n",
        "            self._printInit()\n",
        "        for iteration in range(max_iter):\n",
        "            self._optimizeAcq()\n",
        "            self.updateGP()\n",
        "            self._printCurrent()\n"
      ]
    },
    {
      "cell_type": "code",
      "execution_count": 10,
      "metadata": {
        "id": "b_B-w81BJxKN"
      },
      "outputs": [],
      "source": [
        "## dGPGO:\n",
        "\n",
        "class dGPGO(GPGO):\n",
        "    n_start = n_start_AcqFunc\n",
        "\n",
        "    def __init__(self, surrogate, acquisition, f, parameter_dict, n_jobs=1):\n",
        "        self.GP = surrogate\n",
        "        self.A = acquisition\n",
        "        self.f = f\n",
        "        self.parameters = parameter_dict\n",
        "        self.n_jobs = n_jobs\n",
        "\n",
        "        self.parameter_key = list(parameter_dict.keys())\n",
        "        self.parameter_value = list(parameter_dict.values())\n",
        "        self.parameter_type = [p[0] for p in self.parameter_value]\n",
        "        self.parameter_range = [p[1] for p in self.parameter_value]\n",
        "\n",
        "        self.history = []\n",
        "        self.header =   'Evaluation \\t Proposed point \\t  Current eval. \\t  Best eval. \\t        Exact ERM: StdDev. x \\t Approx ERM: StdDev. x '\n",
        "        self.template = '{:3}\\t {}\\t {:3}\\t {:3}\\t {:3}\\t {:3}'\n",
        "\n",
        "    def acqfuncExact(self, xnew, n_start=n_start_AcqFunc):\n",
        "        new_mean, new_var = self.GP.predict(xnew, return_std=True)\n",
        "        new_std = np.sqrt(new_var + eps)\n",
        "        dm, ds = self.GP.AcqGrad(xnew)\n",
        "        f, df = self.A.d_eval(self.tau, new_mean, new_std, ds=ds, dm=dm, nu=3.0)\n",
        "\n",
        "        return -f, -df\n",
        "   \n",
        "    def acqfuncApprox(self, xnew, n_start=n_start_AcqFunc):\n",
        "        new_mean, new_var = self.GP.predict(xnew, return_std=True)\n",
        "        new_std = np.sqrt(new_var + eps)\n",
        "        dm, ds = self.GP.AcqGrad(xnew)\n",
        "        f, df = self.A.d_eval(self.tau, new_mean, new_std, ds=ds, dm=dm, nu=3.0)\n",
        "\n",
        "        return -f\n",
        "\n",
        "    def d_optimizeAcq(self, method='L-BFGS-B', n_start=n_start_AcqFunc):\n",
        "        start_points_dict = [self._sampleParam() for i in range(n_start)]\n",
        "        start_points_arr = np.array([list(s.values())\n",
        "                                     for s in start_points_dict])\n",
        "        x_best = np.empty((n_start, len(self.parameter_key)))\n",
        "        f_best = np.empty((n_start,))\n",
        "        opt = Parallel(n_jobs=self.n_jobs)(delayed(minimize)(self.acqfuncExact,\n",
        "                                                                 x0=start_point,\n",
        "                                                                 method=method,\n",
        "                                                                 jac = True,\n",
        "                                                                 bounds=self.parameter_range) for start_point in\n",
        "                                               start_points_arr)\n",
        "        x_best = np.array([res.x for res in opt])\n",
        "        f_best = np.array([np.atleast_1d(res.fun)[0] for res in opt])\n",
        "        f_best_min = min(f_best)\n",
        "\n",
        "        self.x_best = x_best\n",
        "        self.f_best = f_best\n",
        "        self.f_best_min = f_best_min\n",
        "        self.x_best_std = np.std(x_best)\n",
        "        self.best = x_best[np.argmin(f_best)]\n",
        "        self.start_points_arr = start_points_arr\n",
        "        self.history.append(self.x_best_std)\n",
        "\n",
        "        x_best_approx = np.empty((n_start, len(self.parameter_key)))\n",
        "        f_best_approx = np.empty((n_start,))\n",
        "        opt_approx = Parallel(n_jobs=self.n_jobs)(delayed(minimize)(self.acqfuncApprox,\n",
        "                                                                 x0=start_point,\n",
        "                                                                 method=method,\n",
        "                                                                 jac = False,\n",
        "                                                                 bounds=self.parameter_range) for start_point in\n",
        "                                               start_points_arr)\n",
        "        x_best_approx = np.array([res.x for res in opt_approx])\n",
        "        f_best_approx = np.array([np.atleast_1d(res.fun)[0] for res in opt_approx])\n",
        "        f_best_min_approx = min(f_best_approx)\n",
        "\n",
        "        self.x_best_approx = x_best_approx\n",
        "        self.f_best_approx = f_best_approx\n",
        "        self.f_best_min_approx = f_best_min_approx\n",
        "        self.x_best_std_approx = np.std(x_best_approx)\n",
        "        self.best_approx = x_best_approx[np.argmin(f_best_approx)]\n",
        "        self.start_points_arr = start_points_arr\n",
        "        self.history.append(self.x_best_std_approx)\n",
        "    \n",
        "    def _printInit(self):\n",
        "        print(self.header)\n",
        "        for init_eval in range(self.init_evals):\n",
        "            print(self.template.format('init', self.GP.X[init_eval], inverse * self.GP.y[init_eval], inverse * self.tau, '', ''))\n",
        "      \n",
        "    def _printCurrent(self):\n",
        "        OKGREEN = '\\033[92m'\n",
        "        ENDC = '\\033[0m'\n",
        "        BOLD = '\\033[1m'\n",
        "        eval = str(len(self.GP.y) - self.init_evals)\n",
        "        proposed = str(self.best)\n",
        "        curr_eval = str(inverse * self.GP.y[-1])\n",
        "        curr_best = str(inverse * self.tau)\n",
        "        min_acqfunc = str(self.f_best_min)\n",
        "        min_acqfunc_approx = str(self.f_best_min_approx)\n",
        "        x_best_std = str(self.x_best_std)\n",
        "        x_best_std_approx = str(self.x_best_std_approx)\n",
        "        if float(curr_eval) <= float(curr_best):\n",
        "            eval = BOLD + OKGREEN + eval + ENDC\n",
        "            proposed = BOLD + OKGREEN + proposed + ENDC\n",
        "            curr_eval = BOLD + OKGREEN + curr_eval + ENDC\n",
        "            curr_best = BOLD + OKGREEN + curr_best + ENDC\n",
        "            x_best_std = BOLD + OKGREEN + x_best_std + ENDC\n",
        "            x_best_std_approx = BOLD + OKGREEN + x_best_std_approx + ENDC\n",
        "        print(self.template.format(eval, proposed, curr_eval, curr_best, x_best_std, x_best_std_approx))\n",
        "\n",
        "    def run(self, max_iter=10, init_evals=3, resume=False):\n",
        "        \n",
        "        if not resume:\n",
        "            self.init_evals = init_evals\n",
        "            self._firstRun(self.init_evals)\n",
        "            self._printInit()\n",
        "        for iteration in range(max_iter):\n",
        "            self.d_optimizeAcq()\n",
        "            self.updateGP()\n",
        "            self._printCurrent()\n"
      ]
    },
    {
      "cell_type": "code",
      "execution_count": 11,
      "metadata": {
        "id": "qXIKGuXVGEg2"
      },
      "outputs": [],
      "source": [
        "###Reproducible set-seeds:\n",
        "\n",
        "run_num_1 = 1\n",
        "run_num_2 = 2\n",
        "run_num_3 = 3\n",
        "run_num_4 = 4\n",
        "run_num_5 = 5\n",
        "run_num_6 = 6\n",
        "run_num_7 = 7\n",
        "run_num_8 = 8\n",
        "run_num_9 = 9\n",
        "run_num_10 = 10\n",
        "run_num_11 = 11\n",
        "run_num_12 = 12\n",
        "run_num_13 = 13\n",
        "run_num_14 = 14\n",
        "run_num_15 = 15\n",
        "run_num_16 = 16\n",
        "run_num_17 = 17\n",
        "run_num_18 = 18\n",
        "run_num_19 = 19\n",
        "run_num_20 = 20\n"
      ]
    },
    {
      "cell_type": "code",
      "execution_count": 12,
      "metadata": {
        "colab": {
          "base_uri": "https://localhost:8080/"
        },
        "id": "JEhagQmnTVIK",
        "outputId": "1fef39b5-6ed6-4904-8115-08f6445a6401"
      },
      "outputs": [
        {
          "output_type": "execute_result",
          "data": {
            "text/plain": [
              "1662459697.7792988"
            ]
          },
          "metadata": {},
          "execution_count": 12
        }
      ],
      "source": [
        "start_approx = time.time()\n",
        "start_approx\n"
      ]
    },
    {
      "cell_type": "code",
      "execution_count": 13,
      "metadata": {
        "colab": {
          "base_uri": "https://localhost:8080/"
        },
        "id": "aH0YSTXufD1v",
        "outputId": "3f88163a-5f37-438a-f7ce-1a18ab3d0933"
      },
      "outputs": [
        {
          "output_type": "stream",
          "name": "stdout",
          "text": [
            "Evaluation \t Proposed point \t  Current eval. \t  Best eval. \t        Exact ERM: StdDev. x \t Approx ERM: StdDev. x \n",
            "init\t [-0.84969467  2.25612281]\t 5.812071182014687\t 1.275455677703416\t    \t    \n",
            "init\t [-5.1188288  -2.02411446]\t 30.299447634857913\t 1.275455677703416\t    \t    \n",
            "init\t [-3.61721968 -4.17445279]\t 30.510334291475417\t 1.275455677703416\t    \t    \n",
            "init\t [-3.21269544 -1.58145816]\t 12.822421857501787\t 1.275455677703416\t    \t    \n",
            "init\t [-1.05710106  0.39748336]\t 1.275455677703416\t 1.275455677703416\t    \t    \n",
            "1  \t [ 4.04077223 -4.24914728]\t 34.383092818836786\t 1.275455677703416\t 3.2577947648870555\t 4.203794230040782\n",
            "2  \t [4.31249029 5.12      ]\t 44.81197246351513\t 1.275455677703416\t 3.0926928363828536\t 3.484570110372532\n",
            "3  \t [-5.12  5.12]\t 52.4288\t 1.275455677703416\t 2.9090321996768775\t 3.649622210743778\n",
            "4  \t [5.12      0.3771022]\t 26.356606070686162\t 1.275455677703416\t 2.497187326530895\t 3.1832384072128415\n",
            "5  \t [ 0.59372776 -2.19624032]\t 5.175984189482424\t 1.275455677703416\t 2.5837788969636355\t 2.6670866881447783\n",
            "6  \t [0.3025467 5.12     ]\t 26.30593450714681\t 1.275455677703416\t 2.458174793355626\t 2.766937993973166\n",
            "7  \t [ 0.09797234 -5.12      ]\t 26.223998579462187\t 1.275455677703416\t 3.0315336808537485\t 3.0789699453526413\n",
            "8  \t [-5.12        1.48772456]\t 28.42772436114241\t 1.275455677703416\t 2.771464259805269\t 3.136376958481057\n",
            "9  \t [1.76701184 0.93908349]\t 4.004208630358247\t 1.275455677703416\t 2.4264494955436824\t 2.3141325913031747\n",
            "10 \t [ 2.74285274 -1.37558096]\t 9.415464146181964\t 1.275455677703416\t 2.9036823020767306\t 3.2009477145308076\n",
            "11 \t [2.37717273 2.82167432]\t 13.61279617890596\t 1.275455677703416\t 2.5025389243068195\t 2.3762353149204523\n",
            "12 \t [-2.44215782  3.74331718]\t 19.976558302132183\t 1.275455677703416\t 2.8897841172995653\t 2.731626534351018\n",
            "13 \t [-1.02147793 -1.34416189]\t 2.8501883620901713\t 1.275455677703416\t 2.361388382413597\t 2.109377188242993\n",
            "14 \t [-2.59983638  0.78539693]\t 7.375997517376472\t 1.275455677703416\t 3.0012703583536293\t 3.151193259224786\n",
            "\u001b[1m\u001b[92m15\u001b[0m\t \u001b[1m\u001b[92m[ 0.42201166 -0.1003542 ]\u001b[0m\t \u001b[1m\u001b[92m0.1881648069196445\u001b[0m\t \u001b[1m\u001b[92m0.1881648069196445\u001b[0m\t \u001b[1m\u001b[92m2.4982394604094704\u001b[0m\t \u001b[1m\u001b[92m2.3769554250635667\u001b[0m\n",
            "16 \t [5.12       2.69965039]\t 33.50251224694607\t 0.1881648069196445\t 2.5729194344116735\t 2.91256700856113\n",
            "17 \t [ 5.12       -2.03406824]\t 30.35183361274511\t 0.1881648069196445\t 2.7034736718569445\t 2.6077856301601505\n",
            "18 \t [-1.34352825 -3.18116161]\t 11.924857355855988\t 0.1881648069196445\t 2.760497408527647\t 2.8428680170660616\n",
            "19 \t [2.38720386 4.66365008]\t 27.44837434338396\t 0.1881648069196445\t 3.301170228804204\t 3.237037196851748\n",
            "20 \t [ 1.84358241 -3.59179212]\t 16.29976669123713\t 0.1881648069196445\t 2.5470009172532775\t 2.7631801192031267\n"
          ]
        }
      ],
      "source": [
        "### ESTIMATED STP ERM GRADIENTS\n",
        "\n",
        "np.random.seed(run_num_1)\n",
        "surrogate_approx_1 = dtStudentProcess(cov_func, optimize=opt, nu = df)\n",
        "\n",
        "approx_1 = GPGO_multi(surrogate_approx_1, Acquisition_grad(util), objfunc, param)\n",
        "approx_1.run(init_evals=n_init, max_iter=iters)\n"
      ]
    },
    {
      "cell_type": "code",
      "execution_count": 14,
      "metadata": {
        "id": "wTxsSZxFGBB5",
        "colab": {
          "base_uri": "https://localhost:8080/"
        },
        "outputId": "288a6738-2c37-4d59-89ff-f45c96f5aa41"
      },
      "outputs": [
        {
          "output_type": "stream",
          "name": "stdout",
          "text": [
            "Evaluation \t Proposed point \t  Current eval. \t  Best eval. \t        Exact ERM: StdDev. x \t Approx ERM: StdDev. x \n",
            "init\t [-0.6554122  -4.85451539]\t 23.995884788327533\t 0.6972563370202991\t    \t    \n",
            "init\t [ 0.50854377 -0.6622987 ]\t 0.6972563370202991\t 0.6972563370202991\t    \t    \n",
            "init\t [-0.81543371 -1.73737143]\t 3.683391625826377\t 0.6972563370202991\t    \t    \n",
            "init\t [-3.02439799  1.2213347 ]\t 10.638641624769724\t 0.6972563370202991\t    \t    \n",
            "init\t [-2.05153614 -2.3876887 ]\t 9.90985788235879\t 0.6972563370202991\t    \t    \n",
            "1  \t [4.81874241 3.07464552]\t 32.673723450709105\t 0.6972563370202991\t 3.689083261142593\t 3.7713928211297576\n",
            "2  \t [ 4.84260546 -3.96517156]\t 39.173413151255836\t 0.6972563370202991\t 2.4067897387824098\t 3.8602995897800123\n",
            "3  \t [-0.00881318  5.12      ]\t 26.214477672135438\t 0.6972563370202991\t 3.3835033382631337\t 3.956094042276509\n",
            "4  \t [-5.12  5.12]\t 52.4288\t 0.6972563370202991\t 3.2122926580239435\t 3.2027600378899512\n",
            "5  \t [-5.12 -5.12]\t 52.4288\t 0.6972563370202991\t 3.674229542662145\t 3.3373342941043913\n",
            "6  \t [ 3.1960876  -0.40924007]\t 10.382453409887686\t 0.6972563370202991\t 3.002496607905783\t 2.9628444405305583\n",
            "7  \t [-5.12       -1.21389406]\t 27.68793878624748\t 0.6972563370202991\t 2.8496295616524256\t 2.725789891992809\n",
            "8  \t [0.59799112 1.74048274]\t 3.386873531467684\t 0.6972563370202991\t 2.3697224266768413\t 2.146604675834046\n",
            "9  \t [ 1.67257098 -2.83836748]\t 10.853823613264748\t 0.6972563370202991\t 2.589300717468845\t 2.614512056101119\n",
            "10 \t [-2.32678959  3.56931553]\t 18.153963156007997\t 0.6972563370202991\t 2.811038165435714\t 2.899014617521675\n",
            "11 \t [2.87299306 5.12      ]\t 34.468489145424634\t 0.6972563370202991\t 2.744429473924076\t 3.150468243063333\n",
            "12 \t [-5.12        1.96042813]\t 30.057678463909447\t 0.6972563370202991\t 2.834708406866084\t 2.5016270538274927\n",
            "13 \t [ 2.1822055 -5.12     ]\t 30.976420846644416\t 0.6972563370202991\t 2.809088947238013\t 3.000067379115217\n",
            "14 \t [ 5.12       -0.77521709]\t 26.81536152991211\t 0.6972563370202991\t 2.5740532352527468\t 3.016755184734959\n",
            "15 \t [-0.9419251   0.36707474]\t 1.0219667638382315\t 0.6972563370202991\t 2.6217135580504514\t 2.2622997164204603\n",
            "16 \t [2.3670981  1.82213794]\t 8.923340079296176\t 0.6972563370202991\t 2.976151070530093\t 2.6125351801919448\n",
            "17 \t [-0.81950576  1.92216504]\t 4.366308128378813\t 0.6972563370202991\t 2.6690490358941363\t 2.2239716134717527\n",
            "18 \t [-2.43990036 -0.54557643]\t 6.250767405158255\t 0.6972563370202991\t 2.9792555565137886\t 2.8285501154778308\n",
            "19 \t [1.23662929 0.22329635]\t 1.5791132621522699\t 0.6972563370202991\t 2.6911055549105574\t 2.516092003603458\n",
            "20 \t [-3.93460226 -3.15429963]\t 25.430701078504214\t 0.6972563370202991\t 3.042437433731112\t 2.9823223535690575\n"
          ]
        }
      ],
      "source": [
        "### ESTIMATED STP ERM GRADIENTS\n",
        "\n",
        "np.random.seed(run_num_2)\n",
        "surrogate_approx_2 = dtStudentProcess(cov_func, optimize=opt, nu = df)\n",
        "\n",
        "approx_2 = GPGO_multi(surrogate_approx_2, Acquisition_grad(util), objfunc, param)\n",
        "approx_2.run(init_evals=n_init, max_iter=iters)\n"
      ]
    },
    {
      "cell_type": "code",
      "execution_count": 15,
      "metadata": {
        "id": "-dgzIrUIGCGT",
        "colab": {
          "base_uri": "https://localhost:8080/"
        },
        "outputId": "9ab14fa1-7b93-43d7-d4d1-7a884b63e3f6"
      },
      "outputs": [
        {
          "output_type": "stream",
          "name": "stdout",
          "text": [
            "Evaluation \t Proposed point \t  Current eval. \t  Best eval. \t        Exact ERM: StdDev. x \t Approx ERM: StdDev. x \n",
            "init\t [0.52017052 2.1314337 ]\t 4.813587005218131\t 4.59675431006429\t    \t    \n",
            "init\t [-2.14113547  0.11087468]\t 4.59675431006429\t 4.59675431006429\t    \t    \n",
            "init\t [4.02377681 4.05804123]\t 32.65847846685941\t 4.59675431006429\t    \t    \n",
            "init\t [-3.83400642 -2.99783293]\t 23.686607498512902\t 4.59675431006429\t    \t    \n",
            "init\t [-4.59297584 -0.6061072 ]\t 21.462792989409664\t 4.59675431006429\t    \t    \n",
            "1  \t [ 2.87042319 -1.98283743]\t 12.170973549365186\t 4.59675431006429\t 2.4386198472052447\t 2.5784722805022087\n",
            "2  \t [-3.95360718  5.12      ]\t 41.845409723662854\t 4.59675431006429\t 2.9146509141947536\t 3.9820702247011734\n",
            "3  \t [ 0.06158407 -5.12      ]\t 26.21819259782574\t 4.59675431006429\t 2.7040040660731024\t 3.3742098230470887\n",
            "4  \t [ 5.12 -5.12]\t 52.4288\t 4.59675431006429\t 2.9804221458346016\t 2.9703258962008716\n",
            "5  \t [0.06462252 5.12      ]\t 26.218576070632956\t 4.59675431006429\t 2.4996465778271353\t 3.17793667734223\n",
            "6  \t [5.12      0.4951505]\t 26.45957401758566\t 4.59675431006429\t 2.677184512731282\t 2.9979753183181246\n",
            "\u001b[1m\u001b[92m7\u001b[0m\t \u001b[1m\u001b[92m[-0.20271795 -1.66178081]\u001b[0m\t \u001b[1m\u001b[92m2.8026100395597235\u001b[0m\t \u001b[1m\u001b[92m2.8026100395597235\u001b[0m\t \u001b[1m\u001b[92m2.9590358653011157\u001b[0m\t \u001b[1m\u001b[92m2.5675706981103543\u001b[0m\n",
            "8  \t [-5.12        2.23035995]\t 31.188905519189383\t 2.8026100395597235\t 2.9098085914348992\t 3.1875374099400937\n",
            "9  \t [-1.82436813  3.42566076]\t 15.063470702239284\t 2.8026100395597235\t 2.566493823655593\t 2.655359181942049\n",
            "10 \t [1.93359342 0.50666136]\t 3.9954892395292765\t 2.8026100395597235\t 2.8068829747642567\t 2.844472935796161\n",
            "11 \t [-5.12 -5.12]\t 52.4288\t 2.8026100395597235\t 2.6841198210409347\t 2.8486432161965602\n",
            "12 \t [ 5.12       -2.19720895]\t 31.042127182412656\t 2.8026100395597235\t 2.777526637191978\t 2.3060292562983244\n",
            "\u001b[1m\u001b[92m13\u001b[0m\t \u001b[1m\u001b[92m[-0.14593336  0.22561272]\u001b[0m\t \u001b[1m\u001b[92m0.07219764358191394\u001b[0m\t \u001b[1m\u001b[92m0.07219764358191394\u001b[0m\t \u001b[1m\u001b[92m2.822448490719746\u001b[0m\t \u001b[1m\u001b[92m2.5443768992017763\u001b[0m\n",
            "14 \t [-1.38779362 -2.90367793]\t 10.357316620796503\t 0.07219764358191394\t 2.5686533110894625\t 2.0478269715908564\n",
            "15 \t [2.42751064 2.14959308]\t 10.513558323446787\t 0.07219764358191394\t 2.898510885723378\t 2.477675275621889\n",
            "16 \t [ 2.38846896 -4.31715239]\t 24.342588762108726\t 0.07219764358191394\t 2.619258148709865\t 2.721600948148182\n",
            "17 \t [-2.33137762 -5.12      ]\t 31.649721599850004\t 0.07219764358191394\t 2.2581282071582587\t 2.2557104745934216\n",
            "18 \t [ 1.1378063  -0.94210166]\t 2.1821587082646885\t 0.07219764358191394\t 2.5561705906303214\t 2.467100918629683\n",
            "19 \t [2.1799856 5.12     ]\t 30.966737206311855\t 0.07219764358191394\t 2.90719569499919\t 3.1590511079497285\n",
            "20 \t [-1.12636433  1.3786721 ]\t 3.1694333656440365\t 0.07219764358191394\t 2.520942848538082\t 2.018090399384988\n"
          ]
        }
      ],
      "source": [
        "### ESTIMATED STP ERM GRADIENTS\n",
        "\n",
        "np.random.seed(run_num_3)\n",
        "surrogate_approx_3 = dtStudentProcess(cov_func, optimize=opt, nu = df)\n",
        "\n",
        "approx_3 = GPGO_multi(surrogate_approx_3, Acquisition_grad(util), objfunc, param)\n",
        "approx_3.run(init_evals=n_init, max_iter=iters)\n"
      ]
    },
    {
      "cell_type": "code",
      "execution_count": 16,
      "metadata": {
        "id": "hOtG-2sCGCKS",
        "colab": {
          "base_uri": "https://localhost:8080/"
        },
        "outputId": "d93e6231-5899-4a8c-b855-cd19bb2d7687"
      },
      "outputs": [
        {
          "output_type": "stream",
          "name": "stdout",
          "text": [
            "Evaluation \t Proposed point \t  Current eval. \t  Best eval. \t        Exact ERM: StdDev. x \t Approx ERM: StdDev. x \n",
            "init\t [4.78238555 0.48365823]\t 23.1051368481516\t 6.844040613967918\t    \t    \n",
            "init\t [4.84028785 2.19971578]\t 28.267135924302462\t 6.844040613967918\t    \t    \n",
            "init\t [ 2.02474316 -2.90724357]\t 12.551650027390728\t 6.844040613967918\t    \t    \n",
            "init\t [ 4.87705042 -5.05620219]\t 49.3508013219099\t 6.844040613967918\t    \t    \n",
            "init\t [-2.52946061 -0.66773471]\t 6.844040613967918\t 6.844040613967918\t    \t    \n",
            "1  \t [-2.48825446  4.69465063]\t 28.231154823783243\t 6.844040613967918\t 2.688392261113429\t 3.7441273981326666\n",
            "2  \t [-5.12 -5.12]\t 52.4288\t 6.844040613967918\t 3.9284811704684697\t 3.753159583349691\n",
            "3  \t [1.80400057 5.12      ]\t 29.468818060450324\t 6.844040613967918\t 3.31906153709231\t 3.3344582288612115\n",
            "\u001b[1m\u001b[92m4\u001b[0m\t \u001b[1m\u001b[92m[0.64167696 1.12296837]\u001b[0m\t \u001b[1m\u001b[92m1.6728072834893526\u001b[0m\t \u001b[1m\u001b[92m1.6728072834893526\u001b[0m\t \u001b[1m\u001b[92m3.1360622329532846\u001b[0m\t \u001b[1m\u001b[92m3.3195698502567956\u001b[0m\n",
            "5  \t [-0.95736979 -5.12      ]\t 27.13095691115869\t 1.6728072834893526\t 2.9454756863961897\t 3.1396636481028164\n",
            "6  \t [-5.12        1.73054935]\t 29.209201044198412\t 1.6728072834893526\t 2.8502307711252413\t 2.893259812030804\n",
            "7  \t [-5.12       -1.66458958]\t 28.985258461455064\t 1.6728072834893526\t 2.837502212385678\t 2.572352292006358\n",
            "8  \t [5.12 5.12]\t 52.4288\t 1.6728072834893526\t 2.828369894982773\t 2.4447558000463245\n",
            "9  \t [-1.46677887  1.76794476]\t 5.277068951571938\t 1.6728072834893526\t 2.5402394103124633\t 2.3703594344961587\n",
            "\u001b[1m\u001b[92m10\u001b[0m\t \u001b[1m\u001b[92m[-0.02822773 -1.10882955]\u001b[0m\t \u001b[1m\u001b[92m1.2302997801184405\u001b[0m\t \u001b[1m\u001b[92m1.2302997801184405\u001b[0m\t \u001b[1m\u001b[92m2.616219688754335\u001b[0m\t \u001b[1m\u001b[92m2.4737469832108947\u001b[0m\n",
            "11 \t [-5.12  5.12]\t 52.4288\t 1.2302997801184405\t 2.7906090842402778\t 2.817632888935386\n",
            "12 \t [ 2.06576773 -0.23455217]\t 4.32241103330413\t 1.2302997801184405\t 2.5993323690683328\t 2.6537987232313824\n",
            "13 \t [1.94722328 2.33474012]\t 9.242689939327144\t 1.2302997801184405\t 2.684710991680248\t 2.365103185532289\n",
            "14 \t [ 5.12       -2.09486317]\t 30.602851682550785\t 1.2302997801184405\t 2.2573286792972205\t 2.294105685630604\n",
            "15 \t [-2.25886107 -2.80399721]\t 12.964853662772315\t 1.2302997801184405\t 2.7179201376244273\t 2.442756376117537\n",
            "16 \t [-0.17649371  3.26207219]\t 10.67226500855934\t 1.2302997801184405\t 2.3962874526811953\t 2.2575816944998564\n",
            "17 \t [ 1.81317103 -5.12      ]\t 29.50198919137646\t 1.2302997801184405\t 2.5730759829693763\t 2.2705823229035573\n",
            "\u001b[1m\u001b[92m18\u001b[0m\t \u001b[1m\u001b[92m[-0.6957372   0.18207782]\u001b[0m\t \u001b[1m\u001b[92m0.5172025839542898\u001b[0m\t \u001b[1m\u001b[92m0.5172025839542898\u001b[0m\t \u001b[1m\u001b[92m2.6930656921437386\u001b[0m\t \u001b[1m\u001b[92m2.4606620741490945\u001b[0m\n",
            "19 \t [-0.06485562 -2.60260315]\t 6.7777494268581995\t 0.5172025839542898\t 2.6889815112728708\t 2.5328161834603216\n",
            "20 \t [-2.90273606  1.11876859]\t 9.677519809508272\t 0.5172025839542898\t 2.314217935668782\t 2.094351909745489\n"
          ]
        }
      ],
      "source": [
        "### ESTIMATED STP ERM GRADIENTS\n",
        "\n",
        "np.random.seed(run_num_4)\n",
        "surrogate_approx_4 = dtStudentProcess(cov_func, optimize=opt, nu = df)\n",
        "\n",
        "approx_4= GPGO_multi(surrogate_approx_4, Acquisition_grad(util), objfunc, param)\n",
        "approx_4.run(init_evals=n_init, max_iter=iters)\n"
      ]
    },
    {
      "cell_type": "code",
      "execution_count": 17,
      "metadata": {
        "id": "JF_SxcEvGCOl",
        "colab": {
          "base_uri": "https://localhost:8080/"
        },
        "outputId": "06bae6dd-113d-4959-fd17-c39a35123e21"
      },
      "outputs": [
        {
          "output_type": "stream",
          "name": "stdout",
          "text": [
            "Evaluation \t Proposed point \t  Current eval. \t  Best eval. \t        Exact ERM: StdDev. x \t Approx ERM: StdDev. x \n",
            "init\t [-2.84678993  3.79629882]\t 22.516097589112718\t 1.3234068721819314\t    \t    \n",
            "init\t [-3.00319585  4.2865757 ]\t 27.393916517947076\t 1.3234068721819314\t    \t    \n",
            "init\t [-0.11866943  1.14425716]\t 1.3234068721819314\t 1.3234068721819314\t    \t    \n",
            "init\t [2.72289645 0.1886002 ]\t 7.449735113237491\t 1.3234068721819314\t    \t    \n",
            "init\t [-2.08076286 -3.19773462]\t 14.555080786026249\t 1.3234068721819314\t    \t    \n",
            "1  \t [ 4.32895605 -5.09732646]\t 44.722597532365825\t 1.3234068721819314\t 4.375918890183728\t 4.534779838354806\n",
            "2  \t [5.12       4.86210298]\t 49.85444539567493\t 1.3234068721819314\t 3.804980593868448\t 3.615406268755816\n",
            "3  \t [-5.12       -0.04790741]\t 26.216695119683738\t 1.3234068721819314\t 3.349108197342107\t 3.624634825778117\n",
            "4  \t [0.97278913 5.12      ]\t 27.160718687553892\t 1.3234068721819314\t 3.2273700403144843\t 3.406643966061913\n",
            "5  \t [-5.12 -5.12]\t 52.4288\t 1.3234068721819314\t 3.308287628374368\t 3.2833773935081596\n",
            "6  \t [ 0.61059276 -5.12      ]\t 26.587223523396368\t 1.3234068721819314\t 3.11271853573663\t 3.173771331302517\n",
            "7  \t [ 5.12       -1.49198783]\t 28.440427686746617\t 1.3234068721819314\t 2.199228244228221\t 2.355212954660964\n",
            "8  \t [ 0.53247502 -1.54437203]\t 2.6686146128349586\t 1.3234068721819314\t 3.129280938376815\t 2.604627150977008\n",
            "9  \t [-1.9610091  0.0125279]\t 3.8457136295339676\t 1.3234068721819314\t 2.9163738350761927\t 2.8905638696786133\n",
            "10 \t [5.12     1.635841]\t 28.890375775313665\t 1.3234068721819314\t 2.690633974911442\t 3.1236873620398025\n",
            "11 \t [1.75133916 2.36831868]\t 8.676122195448901\t 1.3234068721819314\t 2.6254347862306564\t 2.9586627451986263\n",
            "12 \t [ 2.29872107 -2.58079558]\t 11.944624412686444\t 1.3234068721819314\t 2.6441896637194766\t 3.1511212093361367\n",
            "13 \t [-5.12  5.12]\t 52.4288\t 1.3234068721819314\t 2.6557551234044285\t 2.7168537017826115\n",
            "14 \t [-0.6639975   2.69007267]\t 7.677383622847344\t 1.3234068721819314\t 2.3308821702920057\t 2.2063889700450985\n",
            "15 \t [-4.43422744 -2.38606264]\t 25.355667901970886\t 1.3234068721819314\t 2.3301031735792224\t 2.4878197992280433\n",
            "16 \t [-5.12        2.31009638]\t 31.550945280748977\t 1.3234068721819314\t 2.6891697580410483\t 2.5004573705235864\n",
            "17 \t [-2.12443451 -5.12      ]\t 30.727621996242576\t 1.3234068721819314\t 2.2662213389904844\t 1.9877327101581792\n",
            "18 \t [2.98766552 4.03967357]\t 25.24510782889167\t 1.3234068721819314\t 2.8936165920051335\t 2.7476609388041267\n",
            "\u001b[1m\u001b[92m19\u001b[0m\t \u001b[1m\u001b[92m[ 0.637393  -0.0294977]\u001b[0m\t \u001b[1m\u001b[92m0.4071399506327662\u001b[0m\t \u001b[1m\u001b[92m0.4071399506327662\u001b[0m\t \u001b[1m\u001b[92m2.2623015747634465\u001b[0m\t \u001b[1m\u001b[92m1.6929885091079009\u001b[0m\n",
            "20 \t [-0.95766473 -1.27285351]\t 2.5372777883048796\t 0.4071399506327662\t 2.3326544392999544\t 2.4395765943777574\n"
          ]
        }
      ],
      "source": [
        "### ESTIMATED STP ERM GRADIENTS\n",
        "\n",
        "np.random.seed(run_num_5)\n",
        "surrogate_approx_5 = dtStudentProcess(cov_func, optimize=opt, nu = df)\n",
        "\n",
        "approx_5 = GPGO_multi(surrogate_approx_5, Acquisition_grad(util), objfunc, param)\n",
        "approx_5.run(init_evals=n_init, max_iter=iters)\n"
      ]
    },
    {
      "cell_type": "code",
      "execution_count": 18,
      "metadata": {
        "id": "-kDxZtJsGCR3",
        "colab": {
          "base_uri": "https://localhost:8080/"
        },
        "outputId": "a6b1b449-272c-4f0d-99c9-40bd27ed8d97"
      },
      "outputs": [
        {
          "output_type": "stream",
          "name": "stdout",
          "text": [
            "Evaluation \t Proposed point \t  Current eval. \t  Best eval. \t        Exact ERM: StdDev. x \t Approx ERM: StdDev. x \n",
            "init\t [ 4.02288795 -1.72052679]\t 19.143839911819178\t 0.7844720799352826\t    \t    \n",
            "init\t [ 3.28938622 -4.69302655]\t 32.84455992822337\t 0.7844720799352826\t    \t    \n",
            "init\t [-4.0175956   0.97333314]\t 17.088451781196223\t 0.7844720799352826\t    \t    \n",
            "init\t [ 0.30532979 -0.83141193]\t 0.7844720799352826\t 0.7844720799352826\t    \t    \n",
            "init\t [-1.68542362  1.25459899]\t 4.414671405342624\t 0.7844720799352826\t    \t    \n",
            "1  \t [3.42535861 5.12      ]\t 37.947481623400705\t 0.7844720799352826\t 3.6063723876241744\t 3.7426273288781267\n",
            "2  \t [-5.12       -4.38937332]\t 45.48099810013264\t 0.7844720799352826\t 3.5097616996876817\t 3.551756930582981\n",
            "3  \t [-5.12  5.12]\t 52.4288\t 0.7844720799352826\t 3.451964878346549\t 3.7311485317310167\n",
            "4  \t [-0.89639511 -5.12      ]\t 27.017924186590697\t 0.7844720799352826\t 3.202809370832567\t 3.3801588287574957\n",
            "5  \t [-0.79904984  5.12      ]\t 26.852880653606583\t 0.7844720799352826\t 2.2875445269128623\t 2.6909630318841256\n",
            "6  \t [1.9097887  1.53821452]\t 6.013396778030371\t 0.7844720799352826\t 2.8275428507029536\t 2.774182459767699\n",
            "7  \t [5.12       1.73384183]\t 29.220607487555807\t 0.7844720799352826\t 3.0866097228607146\t 2.5666708097027744\n",
            "8  \t [-2.16121493 -1.87516594]\t 8.187097252904158\t 0.7844720799352826\t 2.4973317212665562\t 2.654470773500748\n",
            "9  \t [ 0.93149713 -2.6220171 ]\t 7.742660591112454\t 0.7844720799352826\t 2.3780458252382743\t 2.444346533911041\n",
            "10 \t [-5.12       -1.36135631]\t 28.067691014936248\t 0.7844720799352826\t 2.8488653423053516\t 3.099947758590608\n",
            "11 \t [0.01113346 2.45997848]\t 6.051618055664829\t 0.7844720799352826\t 3.1422567904518934\t 2.7047222555163275\n",
            "12 \t [-2.74051346  3.21141566]\t 17.823604585518876\t 0.7844720799352826\t 2.4938540397760693\t 2.745590957421834\n",
            "13 \t [1.32472508 4.20314202]\t 19.421299357790584\t 0.7844720799352826\t 2.8721325415588046\t 3.424312194183428\n",
            "14 \t [ 1.90116337 -0.38053005]\t 3.7592252605705223\t 0.7844720799352826\t 2.9127204890298386\t 2.9676800558596304\n",
            "\u001b[1m\u001b[92m15\u001b[0m\t \u001b[1m\u001b[92m[-0.25827666  0.3953998 ]\u001b[0m\t \u001b[1m\u001b[92m0.22304783819960916\u001b[0m\t \u001b[1m\u001b[92m0.22304783819960916\u001b[0m\t \u001b[1m\u001b[92m2.967976245793404\u001b[0m\t \u001b[1m\u001b[92m2.7436853299090074\u001b[0m\n",
            "16 \t [-1.28391997 -0.39485909]\t 1.8043642043777572\t 0.22304783819960916\t 2.8770625635202522\t 2.8780188799091473\n",
            "17 \t [-5.12        2.49640132]\t 32.446419561001264\t 0.22304783819960916\t 3.334508599154295\t 3.246728036232784\n",
            "18 \t [-2.74455374 -3.69509148]\t 21.186276262623327\t 0.22304783819960916\t 2.660664293434241\t 3.2834844544742263\n",
            "19 \t [3.27328698 0.40337746]\t 10.877121004475843\t 0.22304783819960916\t 2.9910590048832852\t 2.6786194951610107\n",
            "20 \t [ 5.12       -3.56274153]\t 38.907527222786044\t 0.22304783819960916\t 3.012847026925531\t 2.960372825139483\n"
          ]
        }
      ],
      "source": [
        "### ESTIMATED STP ERM GRADIENTS\n",
        "\n",
        "np.random.seed(run_num_6)\n",
        "surrogate_approx_6 = dtStudentProcess(cov_func, optimize=opt, nu = df)\n",
        "\n",
        "approx_6 = GPGO_multi(surrogate_approx_6, Acquisition_grad(util), objfunc, param)\n",
        "approx_6.run(init_evals=n_init, max_iter=iters)\n"
      ]
    },
    {
      "cell_type": "code",
      "execution_count": 19,
      "metadata": {
        "id": "fKB8MCD_GCVI",
        "colab": {
          "base_uri": "https://localhost:8080/"
        },
        "outputId": "fcb61948-2937-495c-edd3-467113874f87"
      },
      "outputs": [
        {
          "output_type": "stream",
          "name": "stdout",
          "text": [
            "Evaluation \t Proposed point \t  Current eval. \t  Best eval. \t        Exact ERM: StdDev. x \t Approx ERM: StdDev. x \n",
            "init\t [-4.33860312  2.86636843]\t 27.039544996254122\t 5.622519010932044\t    \t    \n",
            "init\t [-0.63068947  2.28828342]\t 5.634010222398341\t 5.622519010932044\t    \t    \n",
            "init\t [4.8946126  0.39419771]\t 24.112624368867845\t 5.622519010932044\t    \t    \n",
            "init\t [ 0.01147355 -4.38219639]\t 19.20377688135857\t 5.622519010932044\t    \t    \n",
            "init\t [-2.37118484e+00 -1.20319155e-03]\t 5.622519010932044\t 5.622519010932044\t    \t    \n",
            "1  \t [ 5.12 -5.12]\t 52.4288\t 5.622519010932044\t 2.845158992446571\t 3.137875959348832\n",
            "2  \t [-5.12 -5.12]\t 52.4288\t 5.622519010932044\t 4.106669627896568\t 4.182661241718393\n",
            "3  \t [3.3316904 5.12     ]\t 37.314560904489014\t 5.622519010932044\t 3.270265974487891\t 3.3836675418471325\n",
            "4  \t [-4.02558214 -1.33646422]\t 17.991448177385568\t 5.622519010932044\t 2.886315604141263\t 3.046307140328312\n",
            "\u001b[1m\u001b[92m5\u001b[0m\t \u001b[1m\u001b[92m[ 1.22410147 -0.77336959]\u001b[0m\t \u001b[1m\u001b[92m2.0965249354570203\u001b[0m\t \u001b[1m\u001b[92m2.0965249354570203\u001b[0m\t \u001b[1m\u001b[92m3.057410524940702\u001b[0m\t \u001b[1m\u001b[92m2.8935931667488535\u001b[0m\n",
            "6  \t [-1.27195735  5.12      ]\t 27.832275503079657\t 2.0965249354570203\t 2.9842889408777724\t 3.4833166380612823\n",
            "7  \t [ 2.91944603 -2.46511604]\t 14.599962215587086\t 2.0965249354570203\t 2.383324791704869\t 2.685625154369381\n",
            "8  \t [2.00530259 1.85178151]\t 7.450333236464016\t 2.0965249354570203\t 2.9942419808955987\t 2.9434460811225245\n",
            "9  \t [-0.74581394 -1.63983414]\t 3.245294447543289\t 2.0965249354570203\t 2.9149361496702917\t 3.222689339187815\n",
            "10 \t [-5.12  5.12]\t 52.4288\t 2.0965249354570203\t 2.9292612583376987\t 2.9133753401482094\n",
            "11 \t [5.12      3.0569388]\t 35.55927482537693\t 2.0965249354570203\t 2.413111761847213\t 2.8892720927489717\n",
            "12 \t [-2.26954445 -5.12      ]\t 31.365232030591493\t 2.0965249354570203\t 3.00974189593626\t 2.903884482065036\n",
            "13 \t [ 2.25007754 -5.12      ]\t 31.277248958063335\t 2.0965249354570203\t 2.8694690853417746\t 2.9216485782402497\n",
            "\u001b[1m\u001b[92m14\u001b[0m\t \u001b[1m\u001b[92m[-0.16413959  0.34311882]\u001b[0m\t \u001b[1m\u001b[92m0.1446723317321677\u001b[0m\t \u001b[1m\u001b[92m0.1446723317321677\u001b[0m\t \u001b[1m\u001b[92m2.3262318983435906\u001b[0m\t \u001b[1m\u001b[92m2.6108350566906604\u001b[0m\n",
            "15 \t [ 5.12       -2.15457376]\t 30.856588089482972\t 0.1446723317321677\t 2.908701207287901\t 2.745882816804042\n",
            "16 \t [1.01634538 4.07131728]\t 17.60858235118884\t 0.1446723317321677\t 2.692262577325988\t 3.042627132431762\n",
            "17 \t [-5.12       0.5797909]\t 26.550557482544654\t 0.1446723317321677\t 2.4568306081053444\t 2.0289017089064743\n",
            "18 \t [-2.23053536 -2.72862572]\t 12.420686295283506\t 0.1446723317321677\t 3.2724863918363334\t 3.0739189943270824\n",
            "19 \t [ 2.65237484 -0.07392799]\t 7.040557652085992\t 0.1446723317321677\t 2.9735550788145426\t 2.849502710846967\n",
            "20 \t [-2.17391782  1.7649804 ]\t 7.841074484922579\t 0.1446723317321677\t 2.9563364235407827\t 2.6431906042030944\n"
          ]
        }
      ],
      "source": [
        "### ESTIMATED STP ERM GRADIENTS\n",
        "\n",
        "np.random.seed(run_num_7)\n",
        "surrogate_approx_7 = dtStudentProcess(cov_func, optimize=opt, nu = df)\n",
        "\n",
        "approx_7 = GPGO_multi(surrogate_approx_7, Acquisition_grad(util), objfunc, param)\n",
        "approx_7.run(init_evals=n_init, max_iter=iters)\n"
      ]
    },
    {
      "cell_type": "code",
      "execution_count": 20,
      "metadata": {
        "id": "4unvifF-GCXp",
        "colab": {
          "base_uri": "https://localhost:8080/"
        },
        "outputId": "3cd7bbc6-81a5-494b-ebe2-f26f390c59f3"
      },
      "outputs": [
        {
          "output_type": "stream",
          "name": "stdout",
          "text": [
            "Evaluation \t Proposed point \t  Current eval. \t  Best eval. \t        Exact ERM: StdDev. x \t Approx ERM: StdDev. x \n",
            "init\t [3.82391708 4.79785639]\t 37.641767782829874\t 0.10287109474532606\t    \t    \n",
            "init\t [3.78055209 0.31596228]\t 14.392406282091054\t 0.10287109474532606\t    \t    \n",
            "init\t [-2.73686192 -5.00327624]\t 32.52318635319257\t 0.10287109474532606\t    \t    \n",
            "init\t [-0.7119993  -0.99992207]\t 1.5067871566831337\t 0.10287109474532606\t    \t    \n",
            "init\t [ 0.23218863 -0.22126801]\t 0.10287109474532606\t 0.10287109474532606\t    \t    \n",
            "1  \t [-0.60136285  2.7645328 ]\t 8.004278866775978\t 0.10287109474532606\t 3.2635182269052483\t 3.738703564974227\n",
            "2  \t [ 5.12      -4.9830254]\t 51.044942112722936\t 0.10287109474532606\t 3.2041790083138753\t 3.7311887645628325\n",
            "3  \t [-5.12  5.12]\t 52.4288\t 0.10287109474532606\t 2.684164349472631\t 3.6332670170659704\n",
            "4  \t [-5.12       -0.25161628]\t 26.277710751239166\t 0.10287109474532606\t 3.0402486367630903\t 3.36368930431313\n",
            "5  \t [ 1.1936463  -3.64773257]\t 14.730744415201274\t 0.10287109474532606\t 2.844849744938876\t 2.8380147888431417\n",
            "6  \t [0.37869858 5.12      ]\t 26.357812615306802\t 0.10287109474532606\t 3.0800007573565957\t 3.2942996732633296\n",
            "7  \t [-3.19827159  2.21888155]\t 15.152376466106395\t 0.10287109474532606\t 3.0548234105150978\t 2.874102742772059\n",
            "8  \t [-5.12      -3.3025513]\t 37.121245087075565\t 0.10287109474532606\t 3.097147737358949\t 3.250835385141911\n",
            "9  \t [ 5.12       -1.86470448]\t 29.69152278204062\t 0.10287109474532606\t 2.935509876887361\t 2.9690181123261765\n",
            "10 \t [1.67535337 1.90346589]\t 6.429991283663783\t 0.10287109474532606\t 2.600185564274751\t 3.19360973302181\n",
            "11 \t [-2.39928815 -1.75002178]\t 8.819159858901482\t 0.10287109474532606\t 2.5774183466910814\t 2.928906977160462\n",
            "12 \t [5.12       2.28036657]\t 31.4144717156686\t 0.10287109474532606\t 2.3512680797733245\t 2.332370641645908\n",
            "13 \t [ 1.72112723 -1.16283004]\t 4.314452638527328\t 0.10287109474532606\t 2.1545538321981237\t 2.5951932211907383\n",
            "14 \t [-2.23362655  5.12      ]\t 31.20348756630825\t 0.10287109474532606\t 2.721166417537157\t 2.648318456615777\n",
            "15 \t [-1.31196989  0.59610111]\t 2.0766015261840396\t 0.10287109474532606\t 2.6038849131155097\t 2.302956185611688\n",
            "16 \t [-0.1617755 -5.12     ]\t 26.24057131287164\t 0.10287109474532606\t 2.7920049107819698\t 2.715157485521989\n",
            "17 \t [ 2.52776906 -5.12      ]\t 32.60401643296966\t 0.10287109474532606\t 3.021070316905159\t 2.946091822193958\n",
            "18 \t [-5.12      2.303623]\t 31.52107891561839\t 0.10287109474532606\t 2.8708102544927283\t 2.6942787799295105\n",
            "19 \t [-0.6437489  -2.62357247]\t 7.29754514366043\t 0.10287109474532606\t 2.561078838730128\t 2.607133174747873\n",
            "20 \t [ 2.94313113 -2.49380936]\t 14.881106005347576\t 0.10287109474532606\t 2.522238329007018\t 2.551998292671434\n"
          ]
        }
      ],
      "source": [
        "### ESTIMATED STP ERM GRADIENTS\n",
        "\n",
        "np.random.seed(run_num_8)\n",
        "surrogate_approx_8 = dtStudentProcess(cov_func, optimize=opt, nu = df)\n",
        "\n",
        "approx_8 = GPGO_multi(surrogate_approx_8, Acquisition_grad(util), objfunc, param)\n",
        "approx_8.run(init_evals=n_init, max_iter=iters)\n"
      ]
    },
    {
      "cell_type": "code",
      "execution_count": 21,
      "metadata": {
        "id": "85OIXcg7GCaJ",
        "colab": {
          "base_uri": "https://localhost:8080/"
        },
        "outputId": "de7b3ec6-0a5d-4228-efb1-e1a35caa6c2d"
      },
      "outputs": [
        {
          "output_type": "stream",
          "name": "stdout",
          "text": [
            "Evaluation \t Proposed point \t  Current eval. \t  Best eval. \t        Exact ERM: StdDev. x \t Approx ERM: StdDev. x \n",
            "init\t [-5.01376866  0.01919582]\t 25.138244697862262\t 7.349882113053805\t    \t    \n",
            "init\t [-0.04328148 -3.74958562]\t 14.061265633999861\t 7.349882113053805\t    \t    \n",
            "init\t [-3.66478248 -2.88195916]\t 21.736319271030034\t 7.349882113053805\t    \t    \n",
            "init\t [-0.83447623 -2.57944404]\t 7.349882113053805\t 7.349882113053805\t    \t    \n",
            "init\t [-4.25922917 -1.58209393]\t 20.64405433050371\t 7.349882113053805\t    \t    \n",
            "1  \t [3.11029524 4.9495987 ]\t 34.172463819640285\t 7.349882113053805\t 2.774579746007222\t 3.0473536611845535\n",
            "2  \t [ 5.12       -0.43496757]\t 26.403596784886062\t 7.349882113053805\t 2.8560672501982083\t 3.980936431100248\n",
            "3  \t [-2.72757059  5.12      ]\t 33.654041318969135\t 7.349882113053805\t 2.8511650587445394\t 3.9558812925441473\n",
            "4  \t [ 4.93171526 -5.12      ]\t 50.53621543019305\t 7.349882113053805\t 2.939893838206961\t 3.2236218300886916\n",
            "\u001b[1m\u001b[92m5\u001b[0m\t \u001b[1m\u001b[92m[0.187669   1.38191445]\u001b[0m\t \u001b[1m\u001b[92m1.9449072001869563\u001b[0m\t \u001b[1m\u001b[92m1.9449072001869563\u001b[0m\t \u001b[1m\u001b[92m3.167038093212452\u001b[0m\t \u001b[1m\u001b[92m2.400324168986664\u001b[0m\n",
            "6  \t [ 1.723253   -0.80132943]\t 3.611729762692698\t 1.9449072001869563\t 2.4171046219829173\t 2.8476274187847253\n",
            "7  \t [-2.17963177  1.66414623]\t 7.520177310657418\t 1.9449072001869563\t 2.559159357923214\t 3.0317463871675736\n",
            "8  \t [2.6256148  1.72897012]\t 9.883190724522533\t 1.9449072001869563\t 2.6354788101663806\t 2.9361191266342264\n",
            "9  \t [-5.12        3.17136765]\t 36.27197278924271\t 1.9449072001869563\t 3.1018953801633313\t 3.4153023305224637\n",
            "10 \t [-5.12 -5.12]\t 52.4288\t 1.9449072001869563\t 2.842190696648299\t 2.62438352762585\n",
            "11 \t [0.14060981 3.77080054]\t 14.238707861216321\t 1.9449072001869563\t 2.459662982446385\t 3.058774180532376\n",
            "12 \t [5.12       2.72078955]\t 33.61709575561156\t 1.9449072001869563\t 2.5888251951693406\t 2.8161876273368147\n",
            "13 \t [ 2.72048909 -2.83406021]\t 15.432958146958738\t 1.9449072001869563\t 2.136558863459514\t 2.0016853497907343\n",
            "\u001b[1m\u001b[92m14\u001b[0m\t \u001b[1m\u001b[92m[-0.86936909 -0.3899695 ]\u001b[0m\t \u001b[1m\u001b[92m0.907878822885645\u001b[0m\t \u001b[1m\u001b[92m0.907878822885645\u001b[0m\t \u001b[1m\u001b[92m2.4657073532768177\u001b[0m\t \u001b[1m\u001b[92m2.4844723050353625\u001b[0m\n",
            "15 \t [ 1.80119997 -5.12      ]\t 29.458721320570348\t 0.907878822885645\t 2.5432998234855435\t 2.5984564114369992\n",
            "16 \t [-1.96340293 -5.12      ]\t 30.06935105378409\t 0.907878822885645\t 2.872716804731581\t 2.3127837287107114\n",
            "17 \t [-2.22560787 -0.42387591]\t 5.133001189164863\t 0.907878822885645\t 2.5389441533872157\t 2.0693591005197365\n",
            "\u001b[1m\u001b[92m18\u001b[0m\t \u001b[1m\u001b[92m[ 0.41869888 -0.13672818]\u001b[0m\t \u001b[1m\u001b[92m0.19400334723610077\u001b[0m\t \u001b[1m\u001b[92m0.19400334723610077\u001b[0m\t \u001b[1m\u001b[92m2.262360479368108\u001b[0m\t \u001b[1m\u001b[92m1.8335564695411404\u001b[0m\n",
            "19 \t [ 5.12       -2.66224087]\t 33.30192645786839\t 0.19400334723610077\t 2.870862982124601\t 2.589178194779946\n",
            "20 \t [-3.82338679  1.65783398]\t 17.36670001912156\t 0.19400334723610077\t 3.1319180295413163\t 3.1054958210782804\n"
          ]
        }
      ],
      "source": [
        "### ESTIMATED STP ERM GRADIENTS\n",
        "\n",
        "np.random.seed(run_num_9)\n",
        "surrogate_approx_9 = dtStudentProcess(cov_func, optimize=opt, nu = df)\n",
        "\n",
        "approx_9 = GPGO_multi(surrogate_approx_9, Acquisition_grad(util), objfunc, param)\n",
        "approx_9.run(init_evals=n_init, max_iter=iters)\n"
      ]
    },
    {
      "cell_type": "code",
      "execution_count": 22,
      "metadata": {
        "id": "QQBR-qJPGCcp",
        "colab": {
          "base_uri": "https://localhost:8080/"
        },
        "outputId": "b63db683-5200-40a8-b3f1-87d4acc66f57"
      },
      "outputs": [
        {
          "output_type": "stream",
          "name": "stdout",
          "text": [
            "Evaluation \t Proposed point \t  Current eval. \t  Best eval. \t        Exact ERM: StdDev. x \t Approx ERM: StdDev. x \n",
            "init\t [ 2.77832339 -4.90750004]\t 31.80263747150094\t 7.941821858928501\t    \t    \n",
            "init\t [1.36855793 2.54775176]\t 8.363989812138083\t 7.941821858928501\t    \t    \n",
            "init\t [-0.01528819 -2.81808235]\t 7.941821858928501\t 7.941821858928501\t    \t    \n",
            "init\t [-3.09183626  2.66783449]\t 16.67679237031191\t 7.941821858928501\t    \t    \n",
            "init\t [-3.38830503 -4.2154003 ]\t 29.25021071405309\t 7.941821858928501\t    \t    \n",
            "1  \t [ 5.12       -0.36591025]\t 26.34829030752475\t 7.941821858928501\t 3.146128583104609\t 3.475831178217413\n",
            "2  \t [5.12 5.12]\t 52.4288\t 7.941821858928501\t 2.934589610302016\t 2.830946283488092\n",
            "3  \t [-5.12       -0.59625039]\t 26.56991452293248\t 7.941821858928501\t 2.9233790503938692\t 2.9308880716327828\n",
            "4  \t [-0.58529462  5.12      ]\t 26.55696979288194\t 7.941821858928501\t 3.0859638270473218\t 3.412332318522582\n",
            "5  \t [-5.12  5.12]\t 52.4288\t 7.941821858928501\t 2.5848347682925326\t 3.0291707635401286\n",
            "\u001b[1m\u001b[92m6\u001b[0m\t \u001b[1m\u001b[92m[-0.91731034  0.10075574]\u001b[0m\t \u001b[1m\u001b[92m0.8516099698042076\u001b[0m\t \u001b[1m\u001b[92m0.8516099698042076\u001b[0m\t \u001b[1m\u001b[92m3.083483328847848\u001b[0m\t \u001b[1m\u001b[92m2.7210372037852557\u001b[0m\n",
            "7  \t [ 1.74885673 -0.48452973]\t 3.293268920252563\t 0.8516099698042076\t 2.8722483432358508\t 2.80170928934495\n",
            "8  \t [-0.45995504 -5.12      ]\t 26.425958637343115\t 0.8516099698042076\t 3.020648240723329\t 2.9772926679524456\n",
            "9  \t [ 5.12       -3.34014321]\t 37.37095669211327\t 0.8516099698042076\t 2.8692676412791993\t 3.2096503273575303\n",
            "10 \t [-2.21687882 -1.30955811]\t 6.629494159198688\t 0.8516099698042076\t 3.03000825790668\t 2.983360945072077\n",
            "11 \t [3.85412415 2.21116184]\t 19.74350961470906\t 0.8516099698042076\t 2.7021522591656404\t 2.751025970479315\n",
            "12 \t [2.14037168 5.12      ]\t 30.795590931872393\t 0.8516099698042076\t 3.0388788727956704\t 2.7339407254881385\n",
            "13 \t [-0.6747674   1.80385353]\t 3.70919859660643\t 0.8516099698042076\t 2.4947468594758617\t 2.604177972620808\n",
            "14 \t [ 2.36350041 -2.13062956]\t 10.125716514071303\t 0.8516099698042076\t 2.806658542094976\t 2.9318301051799023\n",
            "15 \t [-5.12       1.9911486]\t 30.179072744431362\t 0.8516099698042076\t 2.5494506811806295\t 2.70567967889293\n",
            "\u001b[1m\u001b[92m16\u001b[0m\t \u001b[1m\u001b[92m[0.57021599 0.47134344]\u001b[0m\t \u001b[1m\u001b[92m0.547310912526247\u001b[0m\t \u001b[1m\u001b[92m0.547310912526247\u001b[0m\t \u001b[1m\u001b[92m2.7369848223650477\u001b[0m\t \u001b[1m\u001b[92m2.571033956656836\u001b[0m\n",
            "17 \t [-2.81620106  5.12      ]\t 34.14538841640859\t 0.547310912526247\t 2.7887408734266086\t 3.0087441291079813\n",
            "18 \t [-5.12      -2.8474807]\t 34.32254633923423\t 0.547310912526247\t 2.791316028695809\t 2.862364162007127\n",
            "19 \t [-3.09013369  0.52161172]\t 9.82100498837653\t 0.547310912526247\t 2.6468092406063652\t 2.8514602768571415\n",
            "20 \t [-5.12 -5.12]\t 52.4288\t 0.547310912526247\t 3.158271908301846\t 3.2373399640149647\n"
          ]
        }
      ],
      "source": [
        "### ESTIMATED STP ERM GRADIENTS\n",
        "\n",
        "np.random.seed(run_num_10)\n",
        "surrogate_approx_10 = dtStudentProcess(cov_func, optimize=opt, nu = df)\n",
        "\n",
        "approx_10 = GPGO_multi(surrogate_approx_10, Acquisition_grad(util), objfunc, param)\n",
        "approx_10.run(init_evals=n_init, max_iter=iters)\n"
      ]
    },
    {
      "cell_type": "code",
      "execution_count": 23,
      "metadata": {
        "id": "JS8ejeQ2GCfi",
        "colab": {
          "base_uri": "https://localhost:8080/"
        },
        "outputId": "2839c821-b846-4c05-a673-e9f3d9e2a9ae"
      },
      "outputs": [
        {
          "output_type": "stream",
          "name": "stdout",
          "text": [
            "Evaluation \t Proposed point \t  Current eval. \t  Best eval. \t        Exact ERM: StdDev. x \t Approx ERM: StdDev. x \n",
            "init\t [-3.27403839 -4.92057353]\t 34.93137118861299\t 0.6899456214148796\t    \t    \n",
            "init\t [-0.37664229  2.30332343]\t 5.447158259491397\t 0.6899456214148796\t    \t    \n",
            "init\t [-0.81711509 -0.14922651]\t 0.6899456214148796\t 0.6899456214148796\t    \t    \n",
            "init\t [-4.98912446 -0.12931474]\t 24.908085165573997\t 0.6899456214148796\t    \t    \n",
            "init\t [4.52410012 3.59214172]\t 33.37096399795931\t 0.6899456214148796\t    \t    \n",
            "1  \t [ 3.03550212 -4.46785095]\t 29.17596522689979\t 0.6899456214148796\t 2.8541622788938295\t 3.781318374332612\n",
            "2  \t [-4.80064541  5.12      ]\t 49.26059639020582\t 0.6899456214148796\t 2.2293187093014604\t 3.2947126647737113\n",
            "3  \t [ 5.12       -0.71939979]\t 26.73193606264244\t 0.6899456214148796\t 2.8555795120540433\t 2.987910617269751\n",
            "4  \t [0.93036291 5.12      ]\t 27.07997515286353\t 0.6899456214148796\t 2.5595267736180816\t 2.5785100134197334\n",
            "5  \t [-0.19471125 -2.63796404]\t 6.996766724252415\t 0.6899456214148796\t 2.5414081551286447\t 2.1301357697593684\n",
            "6  \t [1.78041346 0.17212145]\t 3.1994978843368536\t 0.6899456214148796\t 2.8696843603917435\t 2.709785164297451\n",
            "7  \t [-2.91099177  2.25797806]\t 13.572337985886477\t 0.6899456214148796\t 3.060799691642685\t 3.2570215452300904\n",
            "8  \t [-0.03846156 -5.12      ]\t 26.215879291906447\t 0.6899456214148796\t 2.779399825947739\t 2.8307623029821944\n",
            "9  \t [-2.4734282  -1.64683105]\t 8.829899535815287\t 0.6899456214148796\t 3.0559458147012593\t 2.9536081503275753\n",
            "10 \t [-1.80809203  5.12      ]\t 29.483596790757776\t 0.6899456214148796\t 2.545968277689362\t 3.0846788672345316\n",
            "11 \t [-5.12       -2.89268276]\t 34.58201352530331\t 0.6899456214148796\t 2.6554380430642834\t 2.894444698844834\n",
            "12 \t [1.9672723  2.17836836]\t 8.61544902866593\t 0.6899456214148796\t 2.6165044108440365\t 2.8088675547856714\n",
            "13 \t [ 2.13349797 -1.73534742]\t 7.563244230184292\t 0.6899456214148796\t 2.5518858811011405\t 2.5560699778054317\n",
            "14 \t [ 5.12       -3.39507502]\t 37.740934407456926\t 0.6899456214148796\t 2.609735093247525\t 2.9002397318783495\n",
            "15 \t [-5.12       2.3635448]\t 31.800744006972188\t 0.6899456214148796\t 2.915927225598761\t 2.7779744963896436\n",
            "16 \t [-2.12963849  0.37685838]\t 4.677382326020789\t 0.6899456214148796\t 3.044416672539683\t 2.3791006554458805\n",
            "\u001b[1m\u001b[92m17\u001b[0m\t \u001b[1m\u001b[92m[ 0.38748202 -0.65071806]\u001b[0m\t \u001b[1m\u001b[92m0.5735763115703023\u001b[0m\t \u001b[1m\u001b[92m0.5735763115703023\u001b[0m\t \u001b[1m\u001b[92m2.165056059123476\u001b[0m\t \u001b[1m\u001b[92m2.2315214768826133\u001b[0m\n",
            "18 \t [3.54578608 1.02277469]\t 13.61866696149726\t 0.5735763115703023\t 2.398947947722416\t 2.5870678177122013\n",
            "19 \t [3.07913538 5.12      ]\t 35.69547466083927\t 0.5735763115703023\t 2.8067231446683047\t 2.4355602655893263\n",
            "20 \t [-1.78028884 -3.54480496]\t 15.735070544843502\t 0.5735763115703023\t 2.98302339876724\t 3.0711267526619035\n"
          ]
        }
      ],
      "source": [
        "### ESTIMATED STP ERM GRADIENTS\n",
        "\n",
        "np.random.seed(run_num_11)\n",
        "surrogate_approx_11 = dtStudentProcess(cov_func, optimize=opt, nu = df)\n",
        "\n",
        "approx_11 = GPGO_multi(surrogate_approx_11, Acquisition_grad(util), objfunc, param)\n",
        "approx_11.run(init_evals=n_init, max_iter=iters)\n"
      ]
    },
    {
      "cell_type": "code",
      "execution_count": 24,
      "metadata": {
        "id": "DXwjUVZ4GCii",
        "colab": {
          "base_uri": "https://localhost:8080/"
        },
        "outputId": "9dd6afa2-910b-4789-d5de-45f1879f22bf"
      },
      "outputs": [
        {
          "output_type": "stream",
          "name": "stdout",
          "text": [
            "Evaluation \t Proposed point \t  Current eval. \t  Best eval. \t        Exact ERM: StdDev. x \t Approx ERM: StdDev. x \n",
            "init\t [-3.54137249  2.45810889]\t 18.583618467979093\t 5.993464196233534\t    \t    \n",
            "init\t [-2.42365424  0.34549139]\t 5.993464196233534\t 5.993464196233534\t    \t    \n",
            "init\t [-4.97075238  4.28796936]\t 43.09506052206225\t 5.993464196233534\t    \t    \n",
            "init\t [ 4.10332011 -4.77776458]\t 39.66427028607538\t 5.993464196233534\t    \t    \n",
            "init\t [ 4.6791612  -3.71497655]\t 35.6956003298903\t 5.993464196233534\t    \t    \n",
            "1  \t [5.12 5.12]\t 52.4288\t 5.993464196233534\t 3.4319081215357548\t 3.639585287597927\n",
            "2  \t [-1.55358971 -5.12      ]\t 28.628040976364737\t 5.993464196233534\t 3.0918243335200826\t 2.8305770977216254\n",
            "\u001b[1m\u001b[92m3\u001b[0m\t \u001b[1m\u001b[92m[2.28101415 0.7763989 ]\u001b[0m\t \u001b[1m\u001b[92m5.805820815556423\u001b[0m\t \u001b[1m\u001b[92m5.805820815556423\u001b[0m\t \u001b[1m\u001b[92m3.2592958992785084\u001b[0m\t \u001b[1m\u001b[92m2.891919197448596\u001b[0m\n",
            "4  \t [0.22745526 5.12      ]\t 26.266135894750516\t 5.805820815556423\t 3.062793719800256\t 2.9914606797678798\n",
            "5  \t [-5.12       -2.61724595]\t 33.064376361926634\t 5.805820815556423\t 3.1884000039143414\t 2.8285707369642434\n",
            "\u001b[1m\u001b[92m6\u001b[0m\t \u001b[1m\u001b[92m[ 0.66432604 -2.07895675]\u001b[0m\t \u001b[1m\u001b[92m4.763390262597196\u001b[0m\t \u001b[1m\u001b[92m4.763390262597196\u001b[0m\t \u001b[1m\u001b[92m2.703573179707507\u001b[0m\t \u001b[1m\u001b[92m2.3044566498391807\u001b[0m\n",
            "7  \t [5.12       0.14889424]\t 26.236569494095317\t 4.763390262597196\t 2.663571450433387\t 2.9810695028215153\n",
            "\u001b[1m\u001b[92m8\u001b[0m\t \u001b[1m\u001b[92m[-0.14960282  1.85160954]\u001b[0m\t \u001b[1m\u001b[92m3.450838907992429\u001b[0m\t \u001b[1m\u001b[92m3.450838907992429\u001b[0m\t \u001b[1m\u001b[92m2.585574744577271\u001b[0m\t \u001b[1m\u001b[92m2.4147699142904524\u001b[0m\n",
            "9  \t [-1.85886234 -2.01429926]\t 7.512770730809201\t 3.450838907992429\t 2.954342408788334\t 2.950268342381593\n",
            "10 \t [2.57858843 3.12034733]\t 16.38568576485315\t 3.450838907992429\t 2.6251912837366747\t 3.2002658629865044\n",
            "11 \t [-5.12        0.34929377]\t 26.33640613741997\t 3.450838907992429\t 3.033322022332835\t 3.0628504188374928\n",
            "12 \t [ 1.24875899 -5.12      ]\t 27.7737990253543\t 3.450838907992429\t 2.2106788304744383\t 3.0974938678720307\n",
            "13 \t [-5.12 -5.12]\t 52.4288\t 3.450838907992429\t 2.6246946209770767\t 2.830529946305702\n",
            "14 \t [ 2.68391886 -1.54342641]\t 9.585585528591178\t 3.450838907992429\t 2.6656414900069807\t 2.529513967784031\n",
            "\u001b[1m\u001b[92m15\u001b[0m\t \u001b[1m\u001b[92m[-0.04697072 -0.12313118]\u001b[0m\t \u001b[1m\u001b[92m0.017367535648270573\u001b[0m\t \u001b[1m\u001b[92m0.017367535648270573\u001b[0m\t \u001b[1m\u001b[92m2.4585572831866163\u001b[0m\t \u001b[1m\u001b[92m2.7626544834053686\u001b[0m\n",
            "16 \t [-2.31886625  5.12      ]\t 31.591540688250404\t 0.017367535648270573\t 2.6252115770450395\t 2.9247704345040946\n",
            "17 \t [5.12       2.45756928]\t 32.25404676558088\t 0.017367535648270573\t 2.268029585395519\t 2.4785491373368735\n",
            "18 \t [-1.30121776  2.70365147]\t 9.002898907796192\t 0.017367535648270573\t 2.811601682847758\t 2.540539200470736\n",
            "19 \t [2.49760425 5.12      ]\t 32.45242696681643\t 0.017367535648270573\t 2.7739966558804916\t 2.569763331085329\n",
            "20 \t [ 2.49299933 -3.50954921]\t 18.531981330871147\t 0.017367535648270573\t 2.626701493233853\t 2.879797950509733\n"
          ]
        }
      ],
      "source": [
        "### ESTIMATED STP ERM GRADIENTS\n",
        "\n",
        "np.random.seed(run_num_12)\n",
        "surrogate_approx_12 = dtStudentProcess(cov_func, optimize=opt, nu = df)\n",
        "\n",
        "approx_12 = GPGO_multi(surrogate_approx_12, Acquisition_grad(util), objfunc, param)\n",
        "approx_12.run(init_evals=n_init, max_iter=iters)\n"
      ]
    },
    {
      "cell_type": "code",
      "execution_count": 25,
      "metadata": {
        "id": "CphOPndPGClX",
        "colab": {
          "base_uri": "https://localhost:8080/"
        },
        "outputId": "12e520b1-cdd8-49b8-84d3-de3dc072eee3"
      },
      "outputs": [
        {
          "output_type": "stream",
          "name": "stdout",
          "text": [
            "Evaluation \t Proposed point \t  Current eval. \t  Best eval. \t        Exact ERM: StdDev. x \t Approx ERM: StdDev. x \n",
            "init\t [ 2.84367268 -2.68757791]\t 15.30954934064491\t 7.271500601275535\t    \t    \n",
            "init\t [3.32061217 4.76927179]\t 33.772418600555795\t 7.271500601275535\t    \t    \n",
            "init\t [ 4.83943541 -0.47667971]\t 23.647358595121606\t 7.271500601275535\t    \t    \n",
            "init\t [1.11659482 2.82139151]\t 9.20703403927425\t 7.271500601275535\t    \t    \n",
            "init\t [1.45012065 2.27346667]\t 7.271500601275535\t 7.271500601275535\t    \t    \n",
            "1  \t [-4.10876704 -2.60547476]\t 23.670465283396044\t 7.271500601275535\t 3.347237928179087\t 3.3422270088598744\n",
            "2  \t [-3.73043861  5.12      ]\t 40.130572220202744\t 7.271500601275535\t 3.1100090327017575\t 3.495167997192962\n",
            "3  \t [-0.5946202 -5.12     ]\t 26.56797318471565\t 7.271500601275535\t 3.0328091014116443\t 2.875570683687759\n",
            "\u001b[1m\u001b[92m4\u001b[0m\t \u001b[1m\u001b[92m[-2.37546078  1.05010444]\u001b[0m\t \u001b[1m\u001b[92m6.745533262210848\u001b[0m\t \u001b[1m\u001b[92m6.745533262210848\u001b[0m\t \u001b[1m\u001b[92m2.892727768620736\u001b[0m\t \u001b[1m\u001b[92m2.734738565624782\u001b[0m\n",
            "5  \t [ 5.12 -5.12]\t 52.4288\t 6.745533262210848\t 3.3445186332730263\t 4.061618672716962\n",
            "\u001b[1m\u001b[92m6\u001b[0m\t \u001b[1m\u001b[92m[-0.27818115 -1.27201705]\u001b[0m\t \u001b[1m\u001b[92m1.6954121366220618\u001b[0m\t \u001b[1m\u001b[92m1.6954121366220618\u001b[0m\t \u001b[1m\u001b[92m2.8641627481371117\u001b[0m\t \u001b[1m\u001b[92m2.6296556333624337\u001b[0m\n",
            "7  \t [-5.12        1.49939377]\t 28.462581685365066\t 1.6954121366220618\t 3.019860255566761\t 3.636836552969086\n",
            "8  \t [-0.3443852  5.12     ]\t 26.333001166157967\t 1.6954121366220618\t 2.9854947446479416\t 3.1349981184353295\n",
            "9  \t [5.12      2.4196871]\t 32.06928564426944\t 1.6954121366220618\t 2.7871981598601723\t 2.7119954517424465\n",
            "10 \t [-5.12 -5.12]\t 52.4288\t 1.6954121366220618\t 2.9302683234248383\t 2.9666052946714876\n",
            "11 \t [ 1.54311669 -0.10448342]\t 2.3921259088075617\t 1.6954121366220618\t 2.82747141554874\t 2.428724059637614\n",
            "12 \t [-1.4886768  -2.46238906]\t 8.279518514932127\t 1.6954121366220618\t 2.575298548654467\t 2.0495967227098966\n",
            "\u001b[1m\u001b[92m13\u001b[0m\t \u001b[1m\u001b[92m[-0.30710117  0.66399829]\u001b[0m\t \u001b[1m\u001b[92m0.5352048547089076\u001b[0m\t \u001b[1m\u001b[92m0.5352048547089076\u001b[0m\t \u001b[1m\u001b[92m2.827931833901363\u001b[0m\t \u001b[1m\u001b[92m2.835979207957017\u001b[0m\n",
            "14 \t [ 2.0775414 -5.12     ]\t 30.53057828901646\t 0.5352048547089076\t 2.473738229049414\t 2.369863294597629\n",
            "15 \t [-1.51603113  2.76455446]\t 9.941111752675988\t 0.5352048547089076\t 2.678395573991401\t 2.905265892645653\n",
            "16 \t [-2.31696029 -0.65490948]\t 5.797211414031108\t 0.5352048547089076\t 2.9170708686700095\t 2.615930674401087\n",
            "17 \t [ 0.66450016 -2.4718452 ]\t 6.551579153226303\t 0.5352048547089076\t 3.2102737370251915\t 3.514240023794595\n",
            "18 \t [3.01539744 1.05596843]\t 10.207691070606408\t 0.5352048547089076\t 2.371516577825499\t 2.58628712348072\n",
            "19 \t [-5.12       -0.77823088]\t 26.820043302012756\t 0.5352048547089076\t 2.9052749500687494\t 2.268383671351555\n",
            "20 \t [-2.79050819 -4.56659277]\t 28.64070546314862\t 0.5352048547089076\t 3.2940698457773276\t 3.7053904551074277\n"
          ]
        }
      ],
      "source": [
        "### ESTIMATED STP ERM GRADIENTS\n",
        "\n",
        "np.random.seed(run_num_13)\n",
        "surrogate_approx_13 = dtStudentProcess(cov_func, optimize=opt, nu = df)\n",
        "\n",
        "approx_13 = GPGO_multi(surrogate_approx_13, Acquisition_grad(util), objfunc, param)\n",
        "approx_13.run(init_evals=n_init, max_iter=iters)\n"
      ]
    },
    {
      "cell_type": "code",
      "execution_count": 26,
      "metadata": {
        "id": "ojHTeARNGCoi",
        "colab": {
          "base_uri": "https://localhost:8080/"
        },
        "outputId": "bded0237-9218-4c32-a9d3-af3630d991d5"
      },
      "outputs": [
        {
          "output_type": "stream",
          "name": "stdout",
          "text": [
            "Evaluation \t Proposed point \t  Current eval. \t  Best eval. \t        Exact ERM: StdDev. x \t Approx ERM: StdDev. x \n",
            "init\t [0.14277984 2.79721013]\t 7.844770612568215\t 3.480496204392171\t    \t    \n",
            "init\t [ 3.7931795  -5.03759925]\t 39.765616906968944\t 3.480496204392171\t    \t    \n",
            "init\t [-1.94830412  4.68586229]\t 25.753194366239512\t 3.480496204392171\t    \t    \n",
            "init\t [ 0.13431513 -1.86076749]\t 3.480496204392171\t 3.480496204392171\t    \t    \n",
            "init\t [ 0.40140736 -2.85434939]\t 8.308438305616814\t 3.480496204392171\t    \t    \n",
            "1  \t [-5.12 -5.12]\t 52.4288\t 3.480496204392171\t 3.943071933801878\t 3.766678082786296\n",
            "2  \t [5.00058348 5.12      ]\t 51.22023515683708\t 3.480496204392171\t 3.681336556636982\t 3.845689383357188\n",
            "3  \t [-5.12        0.39632033]\t 26.37146980097051\t 3.480496204392171\t 2.8279971363902097\t 3.6732497360836476\n",
            "4  \t [ 5.12       -0.07211953]\t 26.21960122627733\t 3.480496204392171\t 2.979597683061928\t 3.176933318275151\n",
            "\u001b[1m\u001b[92m5\u001b[0m\t \u001b[1m\u001b[92m[-1.61902532  0.11433656]\u001b[0m\t \u001b[1m\u001b[92m2.634315837013793\u001b[0m\t \u001b[1m\u001b[92m2.634315837013793\u001b[0m\t \u001b[1m\u001b[92m2.6744576173623367\u001b[0m\t \u001b[1m\u001b[92m2.3247363899918665\u001b[0m\n",
            "6  \t [-5.12  5.12]\t 52.4288\t 2.634315837013793\t 2.6692136553122827\t 2.617695411847882\n",
            "7  \t [-1.43536487 -5.12      ]\t 28.274672316694595\t 2.634315837013793\t 2.492799177133079\t 2.3491738511850926\n",
            "8  \t [1.74058728 0.24462482]\t 3.089485378473483\t 2.634315837013793\t 2.8156453714860152\t 2.692151113332558\n",
            "9  \t [1.55055213 5.12      ]\t 28.618611919454526\t 2.634315837013793\t 2.7695898415679947\t 2.5835716407528637\n",
            "10 \t [-2.99495123 -2.13757492]\t 13.538959383495317\t 2.634315837013793\t 2.6383463551984625\t 2.529908703808345\n",
            "11 \t [3.10746725 2.2792756 ]\t 14.851449942294527\t 2.634315837013793\t 3.06318553290819\t 3.091356192569921\n",
            "12 \t [ 2.84301341 -1.97655624]\t 11.989499848137925\t 2.634315837013793\t 2.411346852070057\t 2.5615431946280807\n",
            "13 \t [-2.69231535  1.95400811]\t 11.066709667766265\t 2.634315837013793\t 2.76823245197936\t 3.018570285966076\n",
            "\u001b[1m\u001b[92m14\u001b[0m\t \u001b[1m\u001b[92m[0.03413948 0.34107067]\u001b[0m\t \u001b[1m\u001b[92m0.11749470677589902\u001b[0m\t \u001b[1m\u001b[92m0.11749470677589902\u001b[0m\t \u001b[1m\u001b[92m2.4997746427292644\u001b[0m\t \u001b[1m\u001b[92m2.5675505257814\u001b[0m\n",
            "15 \t [ 5.12       -2.72011233]\t 33.61341107307936\t 0.11749470677589902\t 2.5732710568300035\t 2.7213345322706894\n",
            "16 \t [ 1.13331229 -5.12      ]\t 27.498796749561286\t 0.11749470677589902\t 2.8761972410920618\t 3.2445880284783932\n",
            "17 \t [-5.12      -2.2344927]\t 31.207357641554005\t 0.11749470677589902\t 2.673975453304722\t 2.892069940397759\n",
            "18 \t [-4.51139894  3.11810287]\t 30.075285872076627\t 0.11749470677589902\t 2.6482261308168735\t 2.6664193096522335\n",
            "19 \t [5.12       2.79772418]\t 34.04166057585217\t 0.11749470677589902\t 2.809144697041093\t 2.8574339189293783\n",
            "20 \t [-3.24105316 -4.09382128]\t 27.26379826752494\t 0.11749470677589902\t 2.8893887399816416\t 3.036633236478433\n"
          ]
        }
      ],
      "source": [
        "### ESTIMATED STP ERM GRADIENTS\n",
        "\n",
        "np.random.seed(run_num_14)\n",
        "surrogate_approx_14 = dtStudentProcess(cov_func, optimize=opt, nu = df)\n",
        "\n",
        "approx_14 = GPGO_multi(surrogate_approx_14, Acquisition_grad(util), objfunc, param)\n",
        "approx_14.run(init_evals=n_init, max_iter=iters)\n"
      ]
    },
    {
      "cell_type": "code",
      "execution_count": 27,
      "metadata": {
        "id": "vCJzn4vWGCs3",
        "colab": {
          "base_uri": "https://localhost:8080/"
        },
        "outputId": "d6f7f80f-92ef-4e18-fdd7-b507f2942d46"
      },
      "outputs": [
        {
          "output_type": "stream",
          "name": "stdout",
          "text": [
            "Evaluation \t Proposed point \t  Current eval. \t  Best eval. \t        Exact ERM: StdDev. x \t Approx ERM: StdDev. x \n",
            "init\t [ 3.57189322 -3.28810573]\t 23.57006045912445\t 5.383887924980681\t    \t    \n",
            "init\t [-4.56332069 -1.41784631]\t 22.834183843344235\t 5.383887924980681\t    \t    \n",
            "init\t [-2.29989449  0.3072023 ]\t 5.383887924980681\t 5.383887924980681\t    \t    \n",
            "init\t [-1.9873903  -2.00218256]\t 7.958455228543059\t 5.383887924980681\t    \t    \n",
            "init\t [-3.97576933 -2.5610341 ]\t 22.365637431409507\t 5.383887924980681\t    \t    \n",
            "1  \t [2.7754098  2.98802689]\t 16.631204280641075\t 5.383887924980681\t 3.2413058306438876\t 3.680458659889904\n",
            "2  \t [-5.12        4.65351663]\t 47.86961698737859\t 5.383887924980681\t 2.8898250997938595\t 3.642859954753749\n",
            "3  \t [-0.73603909  5.12      ]\t 26.756153541505782\t 5.383887924980681\t 3.3355886379363544\t 3.865492024888126\n",
            "4  \t [-0.11916361 -5.12      ]\t 26.228599966057796\t 5.383887924980681\t 2.8624463531671713\t 2.972089259226207\n",
            "5  \t [5.12       0.18677606]\t 26.24928529615733\t 5.383887924980681\t 3.2061149952431265\t 3.50511693968619\n",
            "\u001b[1m\u001b[92m6\u001b[0m\t \u001b[1m\u001b[92m[ 1.08775017 -0.33553285]\u001b[0m\t \u001b[1m\u001b[92m1.295782714922891\u001b[0m\t \u001b[1m\u001b[92m1.295782714922891\u001b[0m\t \u001b[1m\u001b[92m3.265152236561248\u001b[0m\t \u001b[1m\u001b[92m3.5993591606559323\u001b[0m\n",
            "7  \t [5.12 5.12]\t 52.4288\t 1.295782714922891\t 2.938762068161715\t 3.2149413752038667\n",
            "8  \t [-5.12 -5.12]\t 52.4288\t 1.295782714922891\t 3.3531678346669462\t 3.3634981755936177\n",
            "9  \t [-0.16495784  1.8258063 ]\t 3.3607797388529788\t 1.295782714922891\t 2.1784362284971297\t 2.783287516061157\n",
            "10 \t [-5.12        1.43461806]\t 28.272528981344436\t 1.295782714922891\t 2.2953462471471195\t 3.1099763924926056\n",
            "11 \t [ 0.6514398  -2.22992423]\t 5.396935905047027\t 1.295782714922891\t 2.0502091205876924\t 2.685434789373091\n",
            "12 \t [-2.36280476  2.72446222]\t 13.005540737611039\t 1.295782714922891\t 2.407087738693079\t 2.8453097389927335\n",
            "13 \t [2.48884185 0.34985005]\t 6.316728804107912\t 1.295782714922891\t 2.888776181551855\t 3.3919837378349023\n",
            "14 \t [ 5.12 -5.12]\t 52.4288\t 1.295782714922891\t 2.521164196847385\t 3.198071638455808\n",
            "15 \t [1.92640021 5.12      ]\t 29.925417765680596\t 1.295782714922891\t 2.3375495979567766\t 2.8637365892533118\n",
            "\u001b[1m\u001b[92m16\u001b[0m\t \u001b[1m\u001b[92m[-0.47467941 -0.21152973]\u001b[0m\t \u001b[1m\u001b[92m0.27006537297874456\u001b[0m\t \u001b[1m\u001b[92m0.27006537297874456\u001b[0m\t \u001b[1m\u001b[92m3.0883005745929206\u001b[0m\t \u001b[1m\u001b[92m2.678272544945584\u001b[0m\n",
            "17 \t [-2.44520132 -5.12      ]\t 32.193409513783195\t 0.27006537297874456\t 2.3960760196304554\t 2.90925653263186\n",
            "18 \t [ 2.18162051 -5.12      ]\t 30.97386803644269\t 0.27006537297874456\t 2.9700581787948974\t 2.7441734535961553\n",
            "19 \t [5.12      2.5652777]\t 32.795049671085586\t 0.27006537297874456\t 2.701817366465681\t 2.822621870627218\n",
            "20 \t [ 2.49282535 -1.39527318]\t 8.160965478807004\t 0.27006537297874456\t 1.9699085988437515\t 2.1512885011651184\n"
          ]
        }
      ],
      "source": [
        "### ESTIMATED STP ERM GRADIENTS\n",
        "\n",
        "np.random.seed(run_num_15)\n",
        "surrogate_approx_15 = dtStudentProcess(cov_func, optimize=opt, nu = df)\n",
        "\n",
        "approx_15 = GPGO_multi(surrogate_approx_15, Acquisition_grad(util), objfunc, param)\n",
        "approx_15.run(init_evals=n_init, max_iter=iters)\n"
      ]
    },
    {
      "cell_type": "code",
      "execution_count": 28,
      "metadata": {
        "id": "bGGkhp-kGCw6",
        "colab": {
          "base_uri": "https://localhost:8080/"
        },
        "outputId": "84a1d802-f74d-444a-ba5a-105cf586900f"
      },
      "outputs": [
        {
          "output_type": "stream",
          "name": "stdout",
          "text": [
            "Evaluation \t Proposed point \t  Current eval. \t  Best eval. \t        Exact ERM: StdDev. x \t Approx ERM: StdDev. x \n",
            "init\t [-2.83349935  0.23719262]\t 8.084978900492077\t 8.084978900492077\t    \t    \n",
            "init\t [ 0.51918292 -4.65303603]\t 21.92029520206884\t 8.084978900492077\t    \t    \n",
            "init\t [-1.42613673 -2.83565116]\t 10.074783446012654\t 8.084978900492077\t    \t    \n",
            "init\t [ 1.9325559  -3.44339021]\t 15.591708419712269\t 8.084978900492077\t    \t    \n",
            "init\t [-4.39987336  4.51595121]\t 39.75270093978162\t 8.084978900492077\t    \t    \n",
            "1  \t [2.142749   4.83374619]\t 27.956475467604665\t 8.084978900492077\t 3.550840142887768\t 3.8827747554808614\n",
            "2  \t [5.12       0.51596843]\t 26.48062341711456\t 8.084978900492077\t 3.0479941142050517\t 3.4876775723947615\n",
            "3  \t [-5.12 -5.12]\t 52.4288\t 8.084978900492077\t 3.360172488134032\t 3.669003224855324\n",
            "\u001b[1m\u001b[92m4\u001b[0m\t \u001b[1m\u001b[92m[0.95118883 0.73957654]\u001b[0m\t \u001b[1m\u001b[92m1.451733656815996\u001b[0m\t \u001b[1m\u001b[92m1.451733656815996\u001b[0m\t \u001b[1m\u001b[92m2.935251398797922\u001b[0m\t \u001b[1m\u001b[92m3.192977280153737\u001b[0m\n",
            "5  \t [ 5.12 -5.12]\t 52.4288\t 1.451733656815996\t 2.5895682120686514\t 2.971007847678731\n",
            "6  \t [-0.95598219  3.00550338]\t 9.946952523360553\t 1.451733656815996\t 3.5659698138268117\t 3.4120411904055725\n",
            "7  \t [-5.12      -1.4622443]\t 28.352558398857802\t 1.451733656815996\t 2.9034656549920594\t 2.5625602822255513\n",
            "8  \t [5.12      4.0294315]\t 42.45071818459519\t 1.451733656815996\t 2.460322060819352\t 2.7414835865705824\n",
            "9  \t [ 2.36225614 -0.75564573]\t 6.151254532393696\t 1.451733656815996\t 2.6840438746709867\t 2.647720910774964\n",
            "10 \t [-5.12       1.5729021]\t 28.688421021585533\t 1.451733656815996\t 2.641105793959348\t 3.302428505665121\n",
            "\u001b[1m\u001b[92m11\u001b[0m\t \u001b[1m\u001b[92m[-0.41989564 -0.54852112]\u001b[0m\t \u001b[1m\u001b[92m0.47718776648299055\u001b[0m\t \u001b[1m\u001b[92m0.47718776648299055\u001b[0m\t \u001b[1m\u001b[92m2.7832543926118922\u001b[0m\t \u001b[1m\u001b[92m2.9004660485019342\u001b[0m\n",
            "12 \t [2.43072193 1.94453677]\t 9.68963238922446\t 0.47718776648299055\t 2.8396975558533146\t 3.2407187829400796\n",
            "13 \t [-1.19499701  5.12      ]\t 27.642417850428732\t 0.47718776648299055\t 2.4552436122914285\t 2.6755893538805577\n",
            "14 \t [ 5.12       -2.16694935]\t 30.91006950583088\t 0.47718776648299055\t 2.6240351094236782\t 2.5551028967924108\n",
            "15 \t [-2.14523639 -5.12      ]\t 30.816439174596052\t 0.47718776648299055\t 2.3140137765477924\t 2.5872897736421616\n",
            "16 \t [-0.76916305  0.98103925]\t 1.5540498160826737\t 0.47718776648299055\t 2.1007289360528723\t 1.3742927375617238\n",
            "17 \t [ 0.54419325 -1.55171659]\t 2.7039706655965183\t 0.47718776648299055\t 2.796968210243674\t 2.4002302489744034\n",
            "18 \t [-3.60452575 -3.26540501]\t 23.655475798093896\t 0.47718776648299055\t 2.800452768542917\t 3.1084898936343555\n",
            "19 \t [-2.62177132  2.22217228]\t 11.811734510001646\t 0.47718776648299055\t 2.1595018484214115\t 2.0344604889767655\n",
            "20 \t [ 3.45569769 -4.61735471]\t 33.261811060304616\t 0.47718776648299055\t 3.1619470523218474\t 3.1119147307425914\n"
          ]
        }
      ],
      "source": [
        "### ESTIMATED STP ERM GRADIENTS\n",
        "\n",
        "np.random.seed(run_num_16)\n",
        "surrogate_approx_16 = dtStudentProcess(cov_func, optimize=opt, nu = df)\n",
        "\n",
        "approx_16 = GPGO_multi(surrogate_approx_16, Acquisition_grad(util), objfunc, param)\n",
        "approx_16.run(init_evals=n_init, max_iter=iters)\n"
      ]
    },
    {
      "cell_type": "code",
      "execution_count": 29,
      "metadata": {
        "id": "Yrs2mp7hGC1Z",
        "colab": {
          "base_uri": "https://localhost:8080/"
        },
        "outputId": "a00b40ef-f624-4a88-d8f3-9ccf30986da6"
      },
      "outputs": [
        {
          "output_type": "stream",
          "name": "stdout",
          "text": [
            "Evaluation \t Proposed point \t  Current eval. \t  Best eval. \t        Exact ERM: StdDev. x \t Approx ERM: StdDev. x \n",
            "init\t [-2.10263037  0.31320838]\t 4.519153970964611\t 2.5824114132885994\t    \t    \n",
            "init\t [-3.15882714 -4.42470033]\t 29.556161939946307\t 2.5824114132885994\t    \t    \n",
            "init\t [2.93873111 1.60085526]\t 11.198878112253603\t 2.5824114132885994\t    \t    \n",
            "init\t [1.40821398 0.77417363]\t 2.5824114132885994\t 2.5824114132885994\t    \t    \n",
            "init\t [-4.71999574 -1.45598869]\t 24.39826283453718\t 2.5824114132885994\t    \t    \n",
            "1  \t [ 4.96008736 -4.44720822]\t 44.38012757656366\t 2.5824114132885994\t 3.2242163407014295\t 4.422016526816355\n",
            "2  \t [-5.12        4.62934928]\t 47.645274733245955\t 2.5824114132885994\t 3.198822377088879\t 3.299540615784581\n",
            "3  \t [-0.1018174  5.12     ]\t 26.224766783157282\t 2.5824114132885994\t 3.169919840679673\t 3.3361424850926875\n",
            "4  \t [5.12 5.12]\t 52.4288\t 2.5824114132885994\t 3.3763128035447254\t 3.4458399058420173\n",
            "5  \t [ 0.8526048 -2.8184164]\t 8.67040594971073\t 2.5824114132885994\t 2.7657707004690955\t 2.830362475301526\n",
            "6  \t [ 5.12       -0.72628182]\t 26.741885281663155\t 2.5824114132885994\t 2.561800952692813\t 2.711915449717447\n",
            "7  \t [-2.24857948  2.76050808]\t 12.676514517432139\t 2.5824114132885994\t 2.7654411972790673\t 2.4343921169641405\n",
            "8  \t [ 0.0911847 -5.12     ]\t 26.22271464979035\t 2.5824114132885994\t 3.2911949635782936\t 3.241464215461542\n",
            "9  \t [-5.12        1.43323548]\t 28.268563928116006\t 2.5824114132885994\t 3.257610966741653\t 3.1779287052233722\n",
            "10 \t [-1.39106292 -1.77580707]\t 5.088546807126842\t 2.5824114132885994\t 2.5559481740625456\t 2.1385353082051095\n",
            "11 \t [0.2126833  2.17875736]\t 4.792217839916369\t 2.5824114132885994\t 3.1340983954313555\t 2.746305647338405\n",
            "12 \t [ 2.27709835 -1.12013282]\t 6.439874431899733\t 2.5824114132885994\t 2.616521547810734\t 2.6851495582140754\n",
            "13 \t [2.33794777 4.00371507]\t 21.49573413741688\t 2.5824114132885994\t 2.1876555626840997\t 2.8166921738770094\n",
            "14 \t [5.12       2.11173069]\t 30.673806512776206\t 2.5824114132885994\t 2.401651419694321\t 2.917155573427679\n",
            "\u001b[1m\u001b[92m15\u001b[0m\t \u001b[1m\u001b[92m[-0.04832898 -0.18978625]\u001b[0m\t \u001b[1m\u001b[92m0.03835450887414454\u001b[0m\t \u001b[1m\u001b[92m0.03835450887414454\u001b[0m\t \u001b[1m\u001b[92m2.515253950815025\u001b[0m\t \u001b[1m\u001b[92m2.5261877292573183\u001b[0m\n",
            "16 \t [ 2.46971207 -5.12      ]\t 32.31387768912816\t 0.03835450887414454\t 2.1568326298226173\t 2.247615695954247\n",
            "17 \t [ 3.33207906 -2.80482936]\t 18.9698185797802\t 0.03835450887414454\t 2.5197079481399585\t 3.1093181446397993\n",
            "18 \t [-2.57956523  5.12      ]\t 32.86855677963315\t 0.03835450887414454\t 2.7193619113203247\t 2.9684251707843496\n",
            "19 \t [-5.12 -5.12]\t 52.4288\t 0.03835450887414454\t 2.2674645728254097\t 2.145988602947298\n",
            "20 \t [-1.25371657 -3.61486449]\t 14.63905048721835\t 0.03835450887414454\t 2.809326343962587\t 3.1725035241260033\n"
          ]
        }
      ],
      "source": [
        "### ESTIMATED STP ERM GRADIENTS\n",
        "\n",
        "np.random.seed(run_num_17)\n",
        "surrogate_approx_17 = dtStudentProcess(cov_func, optimize=opt, nu = df)\n",
        "\n",
        "approx_17 = GPGO_multi(surrogate_approx_17, Acquisition_grad(util), objfunc, param)\n",
        "approx_17.run(init_evals=n_init, max_iter=iters)\n"
      ]
    },
    {
      "cell_type": "code",
      "execution_count": 30,
      "metadata": {
        "id": "f0HIEP3PIUEa",
        "colab": {
          "base_uri": "https://localhost:8080/"
        },
        "outputId": "ea4b29f8-7825-464c-a531-fbd2410ce046"
      },
      "outputs": [
        {
          "output_type": "stream",
          "name": "stdout",
          "text": [
            "Evaluation \t Proposed point \t  Current eval. \t  Best eval. \t        Exact ERM: StdDev. x \t Approx ERM: StdDev. x \n",
            "init\t [1.53983224 0.05584255]\t 2.3742017032787373\t 2.3742017032787373\t    \t    \n",
            "init\t [ 3.87687906 -3.25795609]\t 25.644469161882945\t 2.3742017032787373\t    \t    \n",
            "init\t [3.60686662 2.56139557]\t 19.570234102364928\t 2.3742017032787373\t    \t    \n",
            "init\t [1.70088108 4.99604939]\t 27.853505942237412\t 2.3742017032787373\t    \t    \n",
            "init\t [-2.48864335 -4.83014733]\t 29.523668919355142\t 2.3742017032787373\t    \t    \n",
            "1  \t [-5.00718904  2.9174042 ]\t 33.58318939621877\t 2.3742017032787373\t 3.0647282488550096\t 3.827695887001409\n",
            "2  \t [-5.12       -1.45216137]\t 28.323172649819313\t 2.3742017032787373\t 2.6600267767465655\t 2.52963910459379\n",
            "3  \t [-1.15686523  1.84914376]\t 4.757669799537527\t 2.3742017032787373\t 3.019579861293326\t 3.0486814417545594\n",
            "4  \t [-2.03989992  5.12      ]\t 30.375591680765922\t 2.3742017032787373\t 2.7969328554732016\t 3.2330268737739494\n",
            "5  \t [-1.01586591 -1.45218434]\t 3.140822894121768\t 2.3742017032787373\t 2.996565054156675\t 2.643964408272589\n",
            "6  \t [ 1.01430294 -5.12      ]\t 27.243210445795565\t 2.3742017032787373\t 2.8615119669171443\t 2.976694833936956\n",
            "7  \t [ 5.12       -0.22311874]\t 26.264181971241214\t 2.3742017032787373\t 2.879407650770205\t 3.2139530627541832\n",
            "8  \t [5.12 5.12]\t 52.4288\t 2.3742017032787373\t 2.856056352198258\t 3.0598420741378725\n",
            "9  \t [-5.12 -5.12]\t 52.4288\t 2.3742017032787373\t 2.594268416749863\t 2.6261862031855885\n",
            "10 \t [-2.76549836  0.29438968]\t 7.734646439530154\t 2.3742017032787373\t 2.9623395027443418\t 3.0036052350531435\n",
            "11 \t [ 1.08302419 -2.04317895]\t 5.347521638634173\t 2.3742017032787373\t 2.766990017924995\t 2.6052510525773807\n",
            "12 \t [0.87749078 2.04948576]\t 4.970381940526029\t 2.3742017032787373\t 2.415421683385011\t 2.375471142284763\n",
            "13 \t [ 5.12 -5.12]\t 52.4288\t 2.3742017032787373\t 2.7364416700305125\t 2.859916219117783\n",
            "14 \t [-2.57564561 -2.20932983]\t 11.515088616374278\t 2.3742017032787373\t 2.2510647759821447\t 2.150235564415742\n",
            "15 \t [-4.46540729  5.12      ]\t 46.15426224326708\t 2.3742017032787373\t 2.871064826887694\t 2.8393445651639313\n",
            "\u001b[1m\u001b[92m16\u001b[0m\t \u001b[1m\u001b[92m[-0.24119664  0.09279024]\u001b[0m\t \u001b[1m\u001b[92m0.06678584590294204\u001b[0m\t \u001b[1m\u001b[92m0.06678584590294204\u001b[0m\t \u001b[1m\u001b[92m2.220516326549346\u001b[0m\t \u001b[1m\u001b[92m2.0047457159032027\u001b[0m\n",
            "17 \t [-0.58621526 -3.45914641]\t 12.309342192095988\t 0.06678584590294204\t 3.2785752330972944\t 3.059681979758071\n",
            "18 \t [ 2.73489265 -0.93471036]\t 8.353321260428539\t 0.06678584590294204\t 2.90322223843085\t 2.7721695492944267\n",
            "19 \t [-0.24553638  3.66336703]\t 13.480546088254822\t 0.06678584590294204\t 2.5620988347080496\t 2.753057087953989\n",
            "20 \t [-4.85217233  1.32463924]\t 25.29824541467909\t 0.06678584590294204\t 2.8858100753503066\t 2.9078780183874593\n"
          ]
        }
      ],
      "source": [
        "### ESTIMATED STP ERM GRADIENTS\n",
        "\n",
        "np.random.seed(run_num_18)\n",
        "surrogate_approx_18 = dtStudentProcess(cov_func, optimize=opt, nu = df)\n",
        "\n",
        "approx_18 = GPGO_multi(surrogate_approx_18, Acquisition_grad(util), objfunc, param)\n",
        "approx_18.run(init_evals=n_init, max_iter=iters)\n"
      ]
    },
    {
      "cell_type": "code",
      "execution_count": 31,
      "metadata": {
        "id": "S3mxRQDLIUPC",
        "colab": {
          "base_uri": "https://localhost:8080/"
        },
        "outputId": "1c5208e5-587f-48d8-84ec-699a881fbc26"
      },
      "outputs": [
        {
          "output_type": "stream",
          "name": "stdout",
          "text": [
            "Evaluation \t Proposed point \t  Current eval. \t  Best eval. \t        Exact ERM: StdDev. x \t Approx ERM: StdDev. x \n",
            "init\t [-4.12125592  2.6751971 ]\t 24.141429859518958\t 12.957869519084127\t    \t    \n",
            "init\t [-2.59135515 -3.70553152]\t 20.446085385698954\t 12.957869519084127\t    \t    \n",
            "init\t [-1.72598719 -4.27008445]\t 21.212653034418548\t 12.957869519084127\t    \t    \n",
            "init\t [1.76104531 3.13952049]\t 12.957869519084127\t 12.957869519084127\t    \t    \n",
            "init\t [4.9432772  1.38916592]\t 26.36577149009895\t 12.957869519084127\t    \t    \n",
            "1  \t [ 5.12       -4.68348284]\t 48.149411467099846\t 12.957869519084127\t 3.4677723307976427\t 4.449795157621861\n",
            "\u001b[1m\u001b[92m2\u001b[0m\t \u001b[1m\u001b[92m[ 1.47754945 -1.38234046]\u001b[0m\t \u001b[1m\u001b[92m4.09401750218581\u001b[0m\t \u001b[1m\u001b[92m4.09401750218581\u001b[0m\t \u001b[1m\u001b[92m3.448186874773856\u001b[0m\t \u001b[1m\u001b[92m3.3672366801971836\u001b[0m\n",
            "3  \t [5.12 5.12]\t 52.4288\t 4.09401750218581\t 3.3344496479099894\t 3.0840034271031356\n",
            "4  \t [-5.12       -1.05754466]\t 27.332800705223434\t 4.09401750218581\t 3.0085172680253995\t 2.8368900801642427\n",
            "5  \t [-1.25782448  5.12      ]\t 27.796522420356418\t 4.09401750218581\t 3.007696601811564\t 2.672247258580867\n",
            "\u001b[1m\u001b[92m6\u001b[0m\t \u001b[1m\u001b[92m[-1.18194292  0.34947882]\u001b[0m\t \u001b[1m\u001b[92m1.5191245000762552\u001b[0m\t \u001b[1m\u001b[92m1.5191245000762552\u001b[0m\t \u001b[1m\u001b[92m3.1467199015621845\u001b[0m\t \u001b[1m\u001b[92m2.831346810902856\u001b[0m\n",
            "7  \t [ 1.48973017 -5.12      ]\t 28.43369599394683\t 1.5191245000762552\t 3.091890615146532\t 3.450566716944732\n",
            "8  \t [-5.12 -5.12]\t 52.4288\t 1.5191245000762552\t 2.6627855491404304\t 2.712946176843378\n",
            "9  \t [ 4.05704161 -1.57508408]\t 18.9404765223328\t 1.5191245000762552\t 2.3357659703866664\t 2.6540336679373295\n",
            "10 \t [-5.12  5.12]\t 52.4288\t 1.5191245000762552\t 2.756961661339978\t 2.925169753746409\n",
            "\u001b[1m\u001b[92m11\u001b[0m\t \u001b[1m\u001b[92m[0.88596543 0.71793006]\u001b[0m\t \u001b[1m\u001b[92m1.300358327747563\u001b[0m\t \u001b[1m\u001b[92m1.300358327747563\u001b[0m\t \u001b[1m\u001b[92m2.146810239101339\u001b[0m\t \u001b[1m\u001b[92m2.241684692373283\u001b[0m\n",
            "12 \t [-0.97288843  2.23188355]\t 5.927816072496678\t 1.300358327747563\t 2.6305583053632273\t 2.3380301239887604\n",
            "13 \t [-0.75716902 -1.50913896]\t 2.8508053211875835\t 1.300358327747563\t 2.9714213819175246\t 2.3420543927159496\n",
            "14 \t [-2.60721887 -0.47827275]\t 7.026335035688442\t 1.300358327747563\t 2.392843596388016\t 2.5223286873616\n",
            "15 \t [2.46552682 0.59290142]\t 6.430354618073508\t 1.300358327747563\t 2.8517947474294396\t 2.52045385256553\n",
            "16 \t [1.87731 5.12   ]\t 29.73869282459409\t 1.300358327747563\t 2.610584651424469\t 2.5946500511735104\n",
            "17 \t [ 0.35252255 -3.10062863]\t 9.73817003448391\t 1.300358327747563\t 2.792605967579308\t 2.837782164825789\n",
            "\u001b[1m\u001b[92m18\u001b[0m\t \u001b[1m\u001b[92m[ 0.12414645 -0.35048752]\u001b[0m\t \u001b[1m\u001b[92m0.13825384702801755\u001b[0m\t \u001b[1m\u001b[92m0.13825384702801755\u001b[0m\t \u001b[1m\u001b[92m2.8128838719805453\u001b[0m\t \u001b[1m\u001b[92m2.9364333293299496\u001b[0m\n",
            "19 \t [ 2.82830854 -4.08448637]\t 24.68235806848893\t 0.13825384702801755\t 2.4607919869206865\t 2.4786572514148286\n",
            "20 \t [-2.45864187  1.24259712]\t 7.588967431108721\t 0.13825384702801755\t 2.4230980974320073\t 1.9874221970472086\n"
          ]
        }
      ],
      "source": [
        "### ESTIMATED STP ERM GRADIENTS\n",
        "\n",
        "np.random.seed(run_num_19)\n",
        "surrogate_approx_19 = dtStudentProcess(cov_func, optimize=opt, nu = df)\n",
        "\n",
        "approx_19 = GPGO_multi(surrogate_approx_19, Acquisition_grad(util), objfunc, param)\n",
        "approx_19.run(init_evals=n_init, max_iter=iters)\n"
      ]
    },
    {
      "cell_type": "code",
      "execution_count": 32,
      "metadata": {
        "id": "Aawd59dRIUYn",
        "colab": {
          "base_uri": "https://localhost:8080/"
        },
        "outputId": "2333a308-ca3d-45e1-bf6e-623e819bc5bc"
      },
      "outputs": [
        {
          "output_type": "stream",
          "name": "stdout",
          "text": [
            "Evaluation \t Proposed point \t  Current eval. \t  Best eval. \t        Exact ERM: StdDev. x \t Approx ERM: StdDev. x \n",
            "init\t [0.9024594  4.07258857]\t 17.400410665504328\t 1.579257056101869\t    \t    \n",
            "init\t [4.00927467 3.23417577]\t 26.53417627399789\t 1.579257056101869\t    \t    \n",
            "init\t [-4.75249064  1.96359764]\t 26.44188299535699\t 1.579257056101869\t    \t    \n",
            "init\t [-1.24230715  0.18955208]\t 1.579257056101869\t 1.579257056101869\t    \t    \n",
            "init\t [ 1.61742301 -3.13497377]\t 12.44411771617229\t 1.579257056101869\t    \t    \n",
            "1  \t [-5.12 -5.12]\t 52.4288\t 1.579257056101869\t 2.6354560435771197\t 3.2104962422189427\n",
            "2  \t [ 5.12 -5.12]\t 52.4288\t 1.579257056101869\t 2.6901836873584566\t 3.482539761543191\n",
            "3  \t [ 5.12       -0.75179091]\t 26.779589573820815\t 1.579257056101869\t 2.755380061636525\t 2.9892840571371337\n",
            "4  \t [-2.73898147  5.12      ]\t 33.71641947743469\t 1.579257056101869\t 2.6615759922135194\t 3.337526603101846\n",
            "5  \t [-1.19645019 -5.12      ]\t 27.645893051420355\t 1.579257056101869\t 3.0716302883278255\t 2.793729373319723\n",
            "6  \t [-3.49122991 -1.6188652 ]\t 14.80941081831561\t 1.579257056101869\t 3.1083476692383476\t 3.1803406907459144\n",
            "7  \t [1.49845298 0.39182986]\t 2.3988919561489017\t 1.579257056101869\t 3.24824429948953\t 3.192555572895108\n",
            "8  \t [-1.40569844  2.19678199]\t 6.801839209527106\t 1.579257056101869\t 3.070812256415507\t 2.8838717295257754\n",
            "9  \t [-0.60968583 -1.73571926]\t 3.3844381699659145\t 1.579257056101869\t 3.1208383411879574\t 2.9814094979206653\n",
            "10 \t [-5.12  5.12]\t 52.4288\t 1.579257056101869\t 2.9356075582327357\t 3.143771763429951\n",
            "11 \t [ 1.99726913 -5.12      ]\t 30.203483961940858\t 1.579257056101869\t 3.265425610585685\t 2.8458328108093083\n",
            "12 \t [5.12 5.12]\t 52.4288\t 1.579257056101869\t 3.4660466606645586\t 2.9719365683187084\n",
            "13 \t [3.07633226 0.86130348]\t 10.205663891933241\t 1.579257056101869\t 2.983227907321446\t 2.9533268191100093\n",
            "14 \t [0.43574243 1.54391141]\t 2.5735338961925054\t 1.579257056101869\t 2.652030861231298\t 2.4238036349918652\n",
            "15 \t [ 2.28901072 -1.23604407]\t 6.767375016371297\t 1.579257056101869\t 2.547770876637104\t 2.535461845207839\n",
            "16 \t [-5.12       -0.53865509]\t 26.504549301936006\t 1.579257056101869\t 2.4758616566311655\t 2.4317886969516227\n",
            "\u001b[1m\u001b[92m17\u001b[0m\t \u001b[1m\u001b[92m[ 0.24465313 -0.38140843]\u001b[0m\t \u001b[1m\u001b[92m0.20532754754840576\u001b[0m\t \u001b[1m\u001b[92m0.20532754754840576\u001b[0m\t \u001b[1m\u001b[92m2.5756237018531905\u001b[0m\t \u001b[1m\u001b[92m2.3584838386949847\u001b[0m\n",
            "18 \t [ 3.97845956 -2.90140939]\t 24.246316904404452\t 0.20532754754840576\t 3.2336917874656783\t 3.109483519321511\n",
            "19 \t [-1.9515863  -2.90408017]\t 12.242370691840858\t 0.20532754754840576\t 2.989534081333922\t 2.577350441609642\n",
            "20 \t [-3.41038666  1.79200416]\t 14.84201606480225\t 0.20532754754840576\t 2.526635600754131\t 2.4985126832427076\n"
          ]
        }
      ],
      "source": [
        "### ESTIMATED STP ERM GRADIENTS\n",
        "\n",
        "np.random.seed(run_num_20)\n",
        "surrogate_approx_20 = dtStudentProcess(cov_func, optimize=opt, nu = df)\n",
        "\n",
        "approx_20 = GPGO_multi(surrogate_approx_20, Acquisition_grad(util), objfunc, param)\n",
        "approx_20.run(init_evals=n_init, max_iter=iters)\n"
      ]
    },
    {
      "cell_type": "code",
      "execution_count": 33,
      "metadata": {
        "id": "xkgzPRbBTHaq",
        "colab": {
          "base_uri": "https://localhost:8080/"
        },
        "outputId": "5cec5694-df93-4315-c92e-30c7f33bccb0"
      },
      "outputs": [
        {
          "output_type": "execute_result",
          "data": {
            "text/plain": [
              "1662461406.4850595"
            ]
          },
          "metadata": {},
          "execution_count": 33
        }
      ],
      "source": [
        "end_approx = time.time()\n",
        "end_approx\n",
        "\n",
        "time_approx = end_approx - start_approx\n",
        "time_approx\n",
        "\n",
        "start_exact = time.time()\n",
        "start_exact"
      ]
    },
    {
      "cell_type": "code",
      "execution_count": 34,
      "metadata": {
        "id": "7CG3Ndvb16Rb",
        "colab": {
          "base_uri": "https://localhost:8080/"
        },
        "outputId": "9e8e5bf4-cfa2-4977-e8b3-8f0a04342b14"
      },
      "outputs": [
        {
          "output_type": "stream",
          "name": "stdout",
          "text": [
            "Evaluation \t Proposed point \t  Current eval. \t  Best eval. \t        Exact ERM: StdDev. x \t Approx ERM: StdDev. x \n",
            "init\t [-0.84969467  2.25612281]\t 5.812071182014687\t 1.275455677703416\t    \t    \n",
            "init\t [-5.1188288  -2.02411446]\t 30.299447634857913\t 1.275455677703416\t    \t    \n",
            "init\t [-3.61721968 -4.17445279]\t 30.510334291475417\t 1.275455677703416\t    \t    \n",
            "init\t [-3.21269544 -1.58145816]\t 12.822421857501787\t 1.275455677703416\t    \t    \n",
            "init\t [-1.05710106  0.39748336]\t 1.275455677703416\t 1.275455677703416\t    \t    \n",
            "1  \t [ 4.04077223 -4.24914728]\t 34.383092818836786\t 1.275455677703416\t 3.2577947648870555\t 4.203794230040782\n",
            "2  \t [5.12       3.36783542]\t 37.55671539878193\t 1.275455677703416\t 3.0926928363828536\t 3.484570110372532\n",
            "3  \t [ 2.41201356 -0.16323408]\t 5.8444547844369685\t 1.275455677703416\t 2.8611842351113266\t 3.5158208644086257\n",
            "4  \t [-4.89959887  4.58720209]\t 45.048492069877184\t 1.275455677703416\t 2.8964220269727186\t 3.95230111556077\n",
            "5  \t [1.51106854 5.12      ]\t 28.497728119417452\t 1.275455677703416\t 2.507365643501343\t 3.2657547552152844\n",
            "6  \t [ 0.18249776 -5.12      ]\t 26.247705433924022\t 1.275455677703416\t 2.6091291718182945\t 2.895742936981609\n",
            "7  \t [ 5.12       -0.48738674]\t 26.451945833921076\t 1.275455677703416\t 2.87233269883641\t 3.094744412342526\n",
            "8  \t [-5.12        1.29265265]\t 27.885350868350933\t 1.275455677703416\t 3.0231284049387788\t 3.150463594188928\n",
            "9  \t [ 0.22580477 -1.78186433]\t 3.226028276524864\t 1.275455677703416\t 2.7009022771407136\t 2.694758850055351\n",
            "10 \t [2.15682548 2.04189759]\t 8.821241945051389\t 1.275455677703416\t 2.8827159113931167\t 3.0834264555539503\n",
            "11 \t [-1.2709013   4.50080972]\t 21.872478258541502\t 1.275455677703416\t 2.3636495816426084\t 2.769956662955113\n",
            "12 \t [-2.55264743  1.55518683]\t 8.934614967604755\t 1.275455677703416\t 2.966798240671593\t 2.469729910090955\n",
            "13 \t [ 2.14095607 -2.50277691]\t 10.847585167173282\t 1.275455677703416\t 2.3407542976155615\t 2.1813429256693286\n",
            "14 \t [-1.12823047 -2.65619559]\t 8.328278985250577\t 1.275455677703416\t 3.140904483363408\t 2.9422911932061195\n",
            "\u001b[1m\u001b[92m15\u001b[0m\t \u001b[1m\u001b[92m[0.44639665 0.27626714]\u001b[0m\t \u001b[1m\u001b[92m0.27559350441755937\u001b[0m\t \u001b[1m\u001b[92m0.27559350441755937\u001b[0m\t \u001b[1m\u001b[92m2.420981493831692\u001b[0m\t \u001b[1m\u001b[92m2.226180401359632\u001b[0m\n",
            "16 \t [0.4798868  1.98005707]\t 4.150917342298028\t 0.27559350441755937\t 2.5178566300327767\t 3.178710345051724\n",
            "17 \t [ 5.12       -2.68671181]\t 33.432820341487236\t 0.27559350441755937\t 3.1445482810739644\t 3.0073903852135717\n",
            "18 \t [-0.93120809 -0.72407383]\t 1.3914314181152454\t 0.27559350441755937\t 2.8386212390854944\t 2.8364392818781963\n",
            "19 \t [ 1.02576232 -0.73273671]\t 1.5890914182316003\t 0.27559350441755937\t 2.9928527989797713\t 3.0733493945630297\n",
            "20 \t [3.94582443 1.38051774]\t 17.475359702515018\t 0.27559350441755937\t 2.6517502412962077\t 2.64198910803728\n"
          ]
        }
      ],
      "source": [
        "### EXACT STP ERM GRADIENTS\n",
        "\n",
        "np.random.seed(run_num_1)\n",
        "surrogate_exact_1 = dtStudentProcess(cov_func, optimize=opt, nu = df)\n",
        "\n",
        "exact_1 = dGPGO(surrogate_exact_1, Acquisition_grad(util), objfunc, param)\n",
        "exact_1.run(init_evals=n_init, max_iter=iters)\n"
      ]
    },
    {
      "cell_type": "code",
      "execution_count": 35,
      "metadata": {
        "id": "-ilCPSAu9SAg",
        "colab": {
          "base_uri": "https://localhost:8080/"
        },
        "outputId": "1519b806-a4dd-49b0-8632-0ca9ec0f3707"
      },
      "outputs": [
        {
          "output_type": "stream",
          "name": "stdout",
          "text": [
            "Evaluation \t Proposed point \t  Current eval. \t  Best eval. \t        Exact ERM: StdDev. x \t Approx ERM: StdDev. x \n",
            "init\t [-0.6554122  -4.85451539]\t 23.995884788327533\t 0.6972563370202991\t    \t    \n",
            "init\t [ 0.50854377 -0.6622987 ]\t 0.6972563370202991\t 0.6972563370202991\t    \t    \n",
            "init\t [-0.81543371 -1.73737143]\t 3.683391625826377\t 0.6972563370202991\t    \t    \n",
            "init\t [-3.02439799  1.2213347 ]\t 10.638641624769724\t 0.6972563370202991\t    \t    \n",
            "init\t [-2.05153614 -2.3876887 ]\t 9.90985788235879\t 0.6972563370202991\t    \t    \n",
            "1  \t [4.81874241 3.07464552]\t 32.673723450709105\t 0.6972563370202991\t 3.689083261142593\t 3.7713928211297576\n",
            "2  \t [ 4.84260546 -3.96517156]\t 39.173413151255836\t 0.6972563370202991\t 2.4067897387824098\t 3.8602995897800123\n",
            "3  \t [-4.41402281e-03  5.12000000e+00]\t 26.21441948359734\t 0.6972563370202991\t 3.3835033382631337\t 3.956094042276509\n",
            "4  \t [-5.12 -5.12]\t 52.4288\t 0.6972563370202991\t 3.2122759397281904\t 3.202857625123928\n",
            "5  \t [ 3.11871621 -0.26285344]\t 9.795482704942232\t 0.6972563370202991\t 3.1675126863547924\t 3.2248813489981463\n",
            "6  \t [-4.06449842  4.79814962]\t 39.54238720978005\t 0.6972563370202991\t 3.1225924477330533\t 3.554972916921654\n",
            "7  \t [0.05183407 1.82703626]\t 3.3407482679315095\t 0.6972563370202991\t 2.8305516709668224\t 2.745000834604622\n",
            "8  \t [ 1.40614646 -2.31420047]\t 7.332771707369579\t 0.6972563370202991\t 2.4737977848796624\t 2.557839760868231\n",
            "9  \t [-5.12       -1.21470453]\t 27.689907084114367\t 0.6972563370202991\t 2.7713020779434836\t 3.0553902382872105\n",
            "10 \t [3.17230798 5.12      ]\t 36.27793795019919\t 0.6972563370202991\t 2.8957357619722073\t 3.0327857851871856\n",
            "11 \t [ 2.03571789 -4.74853565]\t 26.69273814165167\t 0.6972563370202991\t 2.646397639030987\t 2.832541118308903\n",
            "12 \t [ 5.12       -0.39605322]\t 26.371258151239132\t 0.6972563370202991\t 2.5802968293216035\t 2.5011745260132123\n",
            "13 \t [2.33537653 1.54469318]\t 7.8400605530126555\t 0.6972563370202991\t 2.647789360871366\t 2.3645990047056635\n",
            "14 \t [-1.72303858  3.3487148 ]\t 14.182752793849023\t 0.6972563370202991\t 2.775758052254069\t 2.4599454653979502\n",
            "15 \t [-5.12        1.90831713]\t 29.856074259600696\t 0.6972563370202991\t 2.713944462480347\t 2.7886842682340367\n",
            "16 \t [-0.85802823  0.09250666]\t 0.7447699173352165\t 0.6972563370202991\t 3.0645891734623802\t 1.9875810445551165\n",
            "17 \t [-1.71164521 -0.71884492]\t 3.4464673379944033\t 0.6972563370202991\t 2.9647952739317622\t 2.4197429651987226\n",
            "18 \t [-2.80107637 -3.89427429]\t 23.011401091903544\t 0.6972563370202991\t 2.7652598525281595\t 2.5642930998077555\n",
            "19 \t [0.81727989 0.56243384]\t 0.9842782353513759\t 0.6972563370202991\t 2.755951477900049\t 2.8259884556934964\n",
            "20 \t [ 2.81649153 -1.66708341]\t 10.71179165757131\t 0.6972563370202991\t 2.916433234556987\t 2.5234226312549586\n"
          ]
        }
      ],
      "source": [
        "### EXACT STP ERM GRADIENTS\n",
        "\n",
        "np.random.seed(run_num_2)\n",
        "surrogate_exact_2 = dtStudentProcess(cov_func, optimize=opt, nu = df)\n",
        "\n",
        "exact_2 = dGPGO(surrogate_exact_2, Acquisition_grad(util), objfunc, param)\n",
        "exact_2.run(init_evals=n_init, max_iter=iters)\n"
      ]
    },
    {
      "cell_type": "code",
      "execution_count": 36,
      "metadata": {
        "id": "XieJ158mIvlP",
        "colab": {
          "base_uri": "https://localhost:8080/"
        },
        "outputId": "44e6c406-5ed6-4ef5-c313-0a66cc8c3d18"
      },
      "outputs": [
        {
          "output_type": "stream",
          "name": "stdout",
          "text": [
            "Evaluation \t Proposed point \t  Current eval. \t  Best eval. \t        Exact ERM: StdDev. x \t Approx ERM: StdDev. x \n",
            "init\t [0.52017052 2.1314337 ]\t 4.813587005218131\t 4.59675431006429\t    \t    \n",
            "init\t [-2.14113547  0.11087468]\t 4.59675431006429\t 4.59675431006429\t    \t    \n",
            "init\t [4.02377681 4.05804123]\t 32.65847846685941\t 4.59675431006429\t    \t    \n",
            "init\t [-3.83400642 -2.99783293]\t 23.686607498512902\t 4.59675431006429\t    \t    \n",
            "init\t [-4.59297584 -0.6061072 ]\t 21.462792989409664\t 4.59675431006429\t    \t    \n",
            "1  \t [ 2.87042319 -1.98283743]\t 12.170973549365186\t 4.59675431006429\t 2.4386198472052447\t 2.5784722805022087\n",
            "2  \t [-3.46039198  4.92380788]\t 36.218196762572546\t 4.59675431006429\t 2.9146509141947536\t 3.9820702247011734\n",
            "3  \t [5.12       0.50716845]\t 26.47161984066232\t 4.59675431006429\t 2.7115845524982496\t 3.478425695979041\n",
            "4  \t [ 0.05910987 -5.12      ]\t 26.217893976910375\t 4.59675431006429\t 2.99138721791685\t 3.292339173120077\n",
            "5  \t [0.96911324 5.01097789]\t 26.049079903146605\t 4.59675431006429\t 2.6955885074225368\t 3.2946332912859075\n",
            "6  \t [ 5.07685177 -4.61766316]\t 47.097236897679934\t 4.59675431006429\t 2.792983444026646\t 2.9287264543116467\n",
            "\u001b[1m\u001b[92m7\u001b[0m\t \u001b[1m\u001b[92m[ 0.35763543 -0.36314133]\u001b[0m\t \u001b[1m\u001b[92m0.25977472344830566\u001b[0m\t \u001b[1m\u001b[92m0.25977472344830566\u001b[0m\t \u001b[1m\u001b[92m2.996224731739633\u001b[0m\t \u001b[1m\u001b[92m2.800189080840075\u001b[0m\n",
            "8  \t [-5.12        2.30365794]\t 31.521239922636124\t 0.25977472344830566\t 3.0172651986006938\t 3.1577030208435146\n",
            "9  \t [-5.12 -5.12]\t 52.4288\t 0.25977472344830566\t 2.5753762026586156\t 2.6494281639455353\n",
            "10 \t [-0.34455115 -2.15397089]\t 4.758306109332965\t 0.25977472344830566\t 2.791550516041791\t 2.881031182036767\n",
            "11 \t [2.37325508 0.37668639]\t 5.7742323338387385\t 0.25977472344830566\t 2.5072092362383094\t 2.597174021393776\n",
            "12 \t [-1.21096081  1.76834785]\t 4.593480208177743\t 0.25977472344830566\t 2.530293449192216\t 2.8007038256021173\n",
            "13 \t [-1.13248153  3.94192985]\t 16.821325355849403\t 0.25977472344830566\t 2.841203991821694\t 2.8804143464991925\n",
            "14 \t [2.36865062 2.14617207]\t 10.216560292036977\t 0.25977472344830566\t 2.618523629182016\t 2.5243332473338094\n",
            "15 \t [ 5.11061724 -1.90460886]\t 29.745943466607667\t 0.25977472344830566\t 2.9501344392710696\t 2.8325576176295173\n",
            "16 \t [ 1.83116957 -3.59756118]\t 16.295628420635527\t 0.25977472344830566\t 2.644421072957427\t 3.23405112320415\n",
            "17 \t [-1.62186574 -3.35862135]\t 13.910785856814785\t 0.25977472344830566\t 2.6397535861921795\t 2.347251588889377\n",
            "18 \t [2.37800043 3.97738931]\t 21.47451176471724\t 0.25977472344830566\t 3.140990511367318\t 3.4075727601473327\n",
            "19 \t [-0.83177738 -0.72889167]\t 1.223136676978017\t 0.25977472344830566\t 2.8248164924387167\t 2.9500136466348583\n",
            "20 \t [-2.74938982  2.04384954]\t 11.736465295882862\t 0.25977472344830566\t 2.461400647603375\t 2.09904722765791\n"
          ]
        }
      ],
      "source": [
        "### EXACT STP ERM GRADIENTS\n",
        "\n",
        "np.random.seed(run_num_3)\n",
        "surrogate_exact_3 = dtStudentProcess(cov_func, optimize=opt, nu = df)\n",
        "\n",
        "exact_3 = dGPGO(surrogate_exact_3, Acquisition_grad(util), objfunc, param)\n",
        "exact_3.run(init_evals=n_init, max_iter=iters)\n"
      ]
    },
    {
      "cell_type": "code",
      "execution_count": 37,
      "metadata": {
        "id": "PhLBVOIfIvol",
        "colab": {
          "base_uri": "https://localhost:8080/"
        },
        "outputId": "60116c4d-7eb8-4381-864a-e925c457b1cb"
      },
      "outputs": [
        {
          "output_type": "stream",
          "name": "stdout",
          "text": [
            "Evaluation \t Proposed point \t  Current eval. \t  Best eval. \t        Exact ERM: StdDev. x \t Approx ERM: StdDev. x \n",
            "init\t [4.78238555 0.48365823]\t 23.1051368481516\t 6.844040613967918\t    \t    \n",
            "init\t [4.84028785 2.19971578]\t 28.267135924302462\t 6.844040613967918\t    \t    \n",
            "init\t [ 2.02474316 -2.90724357]\t 12.551650027390728\t 6.844040613967918\t    \t    \n",
            "init\t [ 4.87705042 -5.05620219]\t 49.3508013219099\t 6.844040613967918\t    \t    \n",
            "init\t [-2.52946061 -0.66773471]\t 6.844040613967918\t 6.844040613967918\t    \t    \n",
            "1  \t [-1.31878782  4.47098993]\t 21.72895229974667\t 6.844040613967918\t 2.688392261113429\t 3.7441273981326666\n",
            "2  \t [-5.12 -5.12]\t 52.4288\t 6.844040613967918\t 3.8137069993263877\t 3.7491441116069244\n",
            "3  \t [-0.97681995 -5.12      ]\t 27.168577215277583\t 6.844040613967918\t 3.2968390473496476\t 3.508759491561303\n",
            "\u001b[1m\u001b[92m4\u001b[0m\t \u001b[1m\u001b[92m[0.67165165 1.19381354]\u001b[0m\t \u001b[1m\u001b[92m1.8763067113269694\u001b[0m\t \u001b[1m\u001b[92m1.8763067113269694\u001b[0m\t \u001b[1m\u001b[92m3.0345048497565785\u001b[0m\t \u001b[1m\u001b[92m3.22753554267749\u001b[0m\n",
            "5  \t [-5.12        2.08051319]\t 30.542935146851264\t 1.8763067113269694\t 2.8743881883197617\t 3.22923855280734\n",
            "6  \t [2.46639617 5.12      ]\t 32.29751007441051\t 1.8763067113269694\t 2.913935304018439\t 3.255886416576701\n",
            "7  \t [-5.12       -1.53872564]\t 28.58207658372227\t 1.8763067113269694\t 2.743039625916144\t 2.385945478183205\n",
            "8  \t [-1.89835543  1.84831656]\t 7.020027449356001\t 1.8763067113269694\t 2.646496656106337\t 2.551813369199064\n",
            "\u001b[1m\u001b[92m9\u001b[0m\t \u001b[1m\u001b[92m[-0.2247159  -0.66852393]\u001b[0m\t \u001b[1m\u001b[92m0.49742148782563894\u001b[0m\t \u001b[1m\u001b[92m0.49742148782563894\u001b[0m\t \u001b[1m\u001b[92m2.668059794101805\u001b[0m\t \u001b[1m\u001b[92m3.0220506025180884\u001b[0m\n",
            "10 \t [5.12 5.12]\t 52.4288\t 0.49742148782563894\t 2.7161826806564773\t 2.8015676163309085\n",
            "11 \t [-4.14570405  5.0747709 ]\t 42.94016177656436\t 0.49742148782563894\t 2.8306841833916416\t 2.8344809009058967\n",
            "12 \t [ 5.07404675 -2.06459368]\t 30.008497453833243\t 0.49742148782563894\t 2.541110193850433\t 2.6155424150845694\n",
            "13 \t [ 2.25485118 -0.49269434]\t 5.327101563571549\t 0.49742148782563894\t 2.5232263405100013\t 2.3815175789869145\n",
            "14 \t [-1.04583435 -2.34163372]\t 6.577017960666085\t 0.49742148782563894\t 2.41771587792032\t 2.2525196383382142\n",
            "15 \t [1.51383252 2.71195541]\t 9.646391071246999\t 0.49742148782563894\t 2.5725515151684593\t 2.4341122938753585\n",
            "16 \t [-2.99228201 -2.34201522]\t 14.438786915757671\t 0.49742148782563894\t 2.6704695428145038\t 2.210125861758809\n",
            "17 \t [-0.56518229  0.50572976]\t 0.5751936103990103\t 0.49742148782563894\t 2.515071503924831\t 2.318398256392155\n",
            "18 \t [ 1.79513824 -5.12      ]\t 29.43692129693843\t 0.49742148782563894\t 2.606278485654862\t 2.4254592913026523\n",
            "\u001b[1m\u001b[92m19\u001b[0m\t \u001b[1m\u001b[92m[0.6558737 0.0566433]\u001b[0m\t \u001b[1m\u001b[92m0.4333787682215997\u001b[0m\t \u001b[1m\u001b[92m0.4333787682215997\u001b[0m\t \u001b[1m\u001b[92m2.599650033377969\u001b[0m\t \u001b[1m\u001b[92m2.3315269072603426\u001b[0m\n",
            "20 \t [0.5633751  4.80639219]\t 23.418797335829566\t 0.4333787682215997\t 2.7390194012097426\t 2.740917990235479\n"
          ]
        }
      ],
      "source": [
        "### EXACT STP ERM GRADIENTS\n",
        "\n",
        "np.random.seed(run_num_4)\n",
        "surrogate_exact_4 = dtStudentProcess(cov_func, optimize=opt, nu = df)\n",
        "\n",
        "exact_4 = dGPGO(surrogate_exact_4, Acquisition_grad(util), objfunc, param)\n",
        "exact_4.run(init_evals=n_init, max_iter=iters)\n"
      ]
    },
    {
      "cell_type": "code",
      "execution_count": 38,
      "metadata": {
        "id": "arbiPyj2IvsJ",
        "colab": {
          "base_uri": "https://localhost:8080/"
        },
        "outputId": "5e2463fd-e760-48c4-bd5e-031fd785c075"
      },
      "outputs": [
        {
          "output_type": "stream",
          "name": "stdout",
          "text": [
            "Evaluation \t Proposed point \t  Current eval. \t  Best eval. \t        Exact ERM: StdDev. x \t Approx ERM: StdDev. x \n",
            "init\t [-2.84678993  3.79629882]\t 22.516097589112718\t 1.3234068721819314\t    \t    \n",
            "init\t [-3.00319585  4.2865757 ]\t 27.393916517947076\t 1.3234068721819314\t    \t    \n",
            "init\t [-0.11866943  1.14425716]\t 1.3234068721819314\t 1.3234068721819314\t    \t    \n",
            "init\t [2.72289645 0.1886002 ]\t 7.449735113237491\t 1.3234068721819314\t    \t    \n",
            "init\t [-2.08076286 -3.19773462]\t 14.555080786026249\t 1.3234068721819314\t    \t    \n",
            "1  \t [ 4.32895605 -5.09732646]\t 44.722597532365825\t 1.3234068721819314\t 4.375918890183728\t 4.534779838354806\n",
            "2  \t [5.12 5.12]\t 52.4288\t 1.3234068721819314\t 3.804980593868448\t 3.615406268755816\n",
            "3  \t [-5.12       -0.06133744]\t 26.218162281003252\t 1.3234068721819314\t 3.3671610892166592\t 3.6879990725872447\n",
            "4  \t [0.96269701 5.12      ]\t 27.14118553143329\t 1.3234068721819314\t 3.2442284704955973\t 3.4115619988260724\n",
            "5  \t [-5.12 -5.12]\t 52.4288\t 1.3234068721819314\t 3.3224705404098716\t 3.2840848502379885\n",
            "6  \t [ 1.25993378 -2.7053461 ]\t 8.90633064055468\t 1.3234068721819314\t 3.114148810389134\t 3.0817008159283823\n",
            "7  \t [5.12      1.4748952]\t 28.389715838120832\t 1.3234068721819314\t 2.3343465919533672\t 2.5443276403390263\n",
            "8  \t [ 5.05196223 -1.73239106]\t 28.523501160443818\t 1.3234068721819314\t 3.018151979373405\t 3.107379794365523\n",
            "9  \t [-1.95454176  0.11152556]\t 3.8326714383959395\t 1.3234068721819314\t 2.7450974568943685\t 2.659362556126807\n",
            "10 \t [2.31089699 2.50245015]\t 11.602501657392125\t 1.3234068721819314\t 2.6280630946366577\t 2.7320882787521916\n",
            "11 \t [ 0.25560147 -5.12      ]\t 26.279732108993688\t 1.3234068721819314\t 2.55972846585466\t 2.8326833927986983\n",
            "\u001b[1m\u001b[92m12\u001b[0m\t \u001b[1m\u001b[92m[ 0.19962422 -0.63922648]\u001b[0m\t \u001b[1m\u001b[92m0.4484603154745369\u001b[0m\t \u001b[1m\u001b[92m0.4484603154745369\u001b[0m\t \u001b[1m\u001b[92m2.587871619262547\u001b[0m\t \u001b[1m\u001b[92m2.9417304325615192\u001b[0m\n",
            "13 \t [-0.47393343  2.86741184]\t 8.446663531791964\t 0.4484603154745369\t 2.6889167387832575\t 2.6234140299970123\n",
            "14 \t [-5.12        2.69273445]\t 33.46521879250078\t 0.4484603154745369\t 2.2592892876496418\t 2.6982249426122213\n",
            "15 \t [-1.48867802 -1.09617352]\t 3.4177586234269004\t 0.4484603154745369\t 2.3749765516411148\t 2.4253436379192586\n",
            "16 \t [-2.12671573  1.6674693 ]\t 7.303373671456777\t 0.4484603154745369\t 2.6625978449382752\t 2.5870952765399378\n",
            "17 \t [1.11043689 0.21150434]\t 1.2778041700273777\t 0.4484603154745369\t 2.6299218507406397\t 2.7387795828496437\n",
            "18 \t [-4.31827188 -2.69848425]\t 25.92928928152528\t 0.4484603154745369\t 2.8835115343313524\t 3.282196105329158\n",
            "19 \t [ 2.67820543 -1.54919242]\t 9.57278148604375\t 0.4484603154745369\t 2.6633244334297452\t 2.754722370423958\n",
            "20 \t [-1.50969517  5.12      ]\t 28.493579518114522\t 0.4484603154745369\t 2.7749416983454673\t 3.338636300407547\n"
          ]
        }
      ],
      "source": [
        "### EXACT STP ERM GRADIENTS\n",
        "\n",
        "np.random.seed(run_num_5)\n",
        "surrogate_exact_5 = dtStudentProcess(cov_func, optimize=opt, nu = df)\n",
        "\n",
        "exact_5 = dGPGO(surrogate_exact_5, Acquisition_grad(util), objfunc, param)\n",
        "exact_5.run(init_evals=n_init, max_iter=iters)\n"
      ]
    },
    {
      "cell_type": "code",
      "execution_count": 39,
      "metadata": {
        "id": "04KJCEm_Ivvf",
        "colab": {
          "base_uri": "https://localhost:8080/"
        },
        "outputId": "e0c0b666-b286-4b53-abc5-6d6cc6b2769a"
      },
      "outputs": [
        {
          "output_type": "stream",
          "name": "stdout",
          "text": [
            "Evaluation \t Proposed point \t  Current eval. \t  Best eval. \t        Exact ERM: StdDev. x \t Approx ERM: StdDev. x \n",
            "init\t [ 4.02288795 -1.72052679]\t 19.143839911819178\t 0.7844720799352826\t    \t    \n",
            "init\t [ 3.28938622 -4.69302655]\t 32.84455992822337\t 0.7844720799352826\t    \t    \n",
            "init\t [-4.0175956   0.97333314]\t 17.088451781196223\t 0.7844720799352826\t    \t    \n",
            "init\t [ 0.30532979 -0.83141193]\t 0.7844720799352826\t 0.7844720799352826\t    \t    \n",
            "init\t [-1.68542362  1.25459899]\t 4.414671405342624\t 0.7844720799352826\t    \t    \n",
            "1  \t [1.80259807 5.12      ]\t 29.463759790352267\t 0.7844720799352826\t 3.6063723876241744\t 3.7426273288781267\n",
            "2  \t [-2.54347117 -4.69631487]\t 28.524618939622748\t 0.7844720799352826\t 3.5655996168303754\t 3.740510665762139\n",
            "3  \t [-3.09422144  5.12      ]\t 35.788606314330174\t 0.7844720799352826\t 3.549602420421963\t 3.568900794199878\n",
            "4  \t [5.12      2.4419465]\t 32.177502721890384\t 0.7844720799352826\t 3.2412123034782545\t 2.993974985326234\n",
            "5  \t [1.29606199 1.61663436]\t 4.293283338486059\t 0.7844720799352826\t 3.173284345985468\t 2.413476419034492\n",
            "6  \t [-5.12       -2.30546554]\t 31.52957135956587\t 0.7844720799352826\t 3.1645265753695027\t 3.643994575873206\n",
            "7  \t [ 0.47117896 -3.05233999]\t 9.538789015059436\t 0.7844720799352826\t 3.0312137103370755\t 2.912418313056581\n",
            "8  \t [-1.77610195 -1.30989465]\t 4.87036211212308\t 0.7844720799352826\t 3.098758995616492\t 3.3611240844574435\n",
            "9  \t [-0.57293088  3.35991419]\t 11.617273180950862\t 0.7844720799352826\t 2.5629121142813935\t 2.5694121321793437\n",
            "10 \t [5.12 5.12]\t 52.4288\t 0.7844720799352826\t 2.6603458548146093\t 3.078507641333782\n",
            "11 \t [-5.04183925  3.03390915]\t 34.62474776974649\t 0.7844720799352826\t 3.008279252649241\t 3.0528736032888615\n",
            "12 \t [ 2.36415318 -0.11693115]\t 5.602893140530285\t 0.7844720799352826\t 2.633971124639241\t 2.8856546988601757\n",
            "13 \t [5.12       0.18191383]\t 26.24749264134114\t 0.7844720799352826\t 2.8129596322852803\t 2.9852284578822954\n",
            "14 \t [2.52291125 2.71084331]\t 13.71375262443099\t 0.7844720799352826\t 2.5492016878068053\t 2.679083509020033\n",
            "15 \t [-0.23483709 -4.88728803]\t 23.940732712774988\t 0.7844720799352826\t 2.9113116442942935\t 2.7336026021324766\n",
            "\u001b[1m\u001b[92m16\u001b[0m\t \u001b[1m\u001b[92m[-0.1682399   0.65653606]\u001b[0m\t \u001b[1m\u001b[92m0.4593442554785538\u001b[0m\t \u001b[1m\u001b[92m0.4593442554785538\u001b[0m\t \u001b[1m\u001b[92m2.410334322971019\u001b[0m\t \u001b[1m\u001b[92m2.414007204574739\u001b[0m\n",
            "17 \t [-0.60331679  5.12      ]\t 26.578391146219822\t 0.4593442554785538\t 2.7936431020400847\t 3.016750609655156\n",
            "18 \t [-5.12 -5.12]\t 52.4288\t 0.4593442554785538\t 2.8802485498352284\t 2.877600437711306\n",
            "19 \t [ 1.92049815 -2.11028024]\t 8.141595833494884\t 0.4593442554785538\t 2.837716202560757\t 2.318713815056375\n",
            "20 \t [-2.40861739  2.72072571]\t 13.203786147819788\t 0.4593442554785538\t 2.6467049025635623\t 2.234139954927989\n"
          ]
        }
      ],
      "source": [
        "### EXACT STP ERM GRADIENTS\n",
        "\n",
        "np.random.seed(run_num_6)\n",
        "surrogate_exact_6 = dtStudentProcess(cov_func, optimize=opt, nu = df)\n",
        "\n",
        "exact_6 = dGPGO(surrogate_exact_6, Acquisition_grad(util), objfunc, param)\n",
        "exact_6.run(init_evals=n_init, max_iter=iters)\n"
      ]
    },
    {
      "cell_type": "code",
      "execution_count": 40,
      "metadata": {
        "id": "tAOkme3CIvyO",
        "colab": {
          "base_uri": "https://localhost:8080/"
        },
        "outputId": "11c36906-2046-4110-e9d3-40c05cc15776"
      },
      "outputs": [
        {
          "output_type": "stream",
          "name": "stdout",
          "text": [
            "Evaluation \t Proposed point \t  Current eval. \t  Best eval. \t        Exact ERM: StdDev. x \t Approx ERM: StdDev. x \n",
            "init\t [-4.33860312  2.86636843]\t 27.039544996254122\t 5.622519010932044\t    \t    \n",
            "init\t [-0.63068947  2.28828342]\t 5.634010222398341\t 5.622519010932044\t    \t    \n",
            "init\t [4.8946126  0.39419771]\t 24.112624368867845\t 5.622519010932044\t    \t    \n",
            "init\t [ 0.01147355 -4.38219639]\t 19.20377688135857\t 5.622519010932044\t    \t    \n",
            "init\t [-2.37118484e+00 -1.20319155e-03]\t 5.622519010932044\t 5.622519010932044\t    \t    \n",
            "1  \t [-5.12 -5.12]\t 52.4288\t 5.622519010932044\t 2.845158992446571\t 3.137875959348832\n",
            "2  \t [3.3302631 5.12     ]\t 37.305052285596794\t 5.622519010932044\t 3.567572195782\t 3.770374058031214\n",
            "3  \t [ 4.54842469 -4.14251068]\t 37.84856187243875\t 5.622519010932044\t 3.0298653505268236\t 3.450717691728931\n",
            "4  \t [-4.02558214 -1.33646422]\t 17.991448177385568\t 5.622519010932044\t 2.886404776156912\t 3.046307140328312\n",
            "\u001b[1m\u001b[92m5\u001b[0m\t \u001b[1m\u001b[92m[ 1.26396401 -0.69984131]\u001b[0m\t \u001b[1m\u001b[92m2.0873828652683315\u001b[0m\t \u001b[1m\u001b[92m2.0873828652683315\u001b[0m\t \u001b[1m\u001b[92m3.0300518151029983\u001b[0m\t \u001b[1m\u001b[92m3.10619246717158\u001b[0m\n",
            "6  \t [-1.25072785  5.12      ]\t 27.77872015344438\t 2.0873828652683315\t 3.0128942630473485\t 3.348313624812544\n",
            "7  \t [2.03020561 2.10118231]\t 8.536701883475143\t 2.0873828652683315\t 2.3627114906396685\t 2.715524044923245\n",
            "8  \t [-2.24018732 -3.150197  ]\t 14.94218036645744\t 2.0873828652683315\t 2.9768110891355737\t 2.907568262420699\n",
            "\u001b[1m\u001b[92m9\u001b[0m\t \u001b[1m\u001b[92m[-0.35374618 -0.42247421]\u001b[0m\t \u001b[1m\u001b[92m0.3036208154721104\u001b[0m\t \u001b[1m\u001b[92m0.3036208154721104\u001b[0m\t \u001b[1m\u001b[92m2.950595515914002\u001b[0m\t \u001b[1m\u001b[92m3.062534087165196\u001b[0m\n",
            "10 \t [ 2.79895474 -1.90151278]\t 11.449898478598035\t 0.3036208154721104\t 2.841470199530222\t 3.0588660570839323\n",
            "11 \t [5.12       3.08843694]\t 35.75284273770869\t 0.3036208154721104\t 2.5089077588271653\t 2.569583354790619\n",
            "12 \t [-5.11292055  5.04211319]\t 51.56486198679663\t 0.3036208154721104\t 3.0504622904002985\t 3.238143944781903\n",
            "13 \t [ 0.33441853 -2.0716757 ]\t 4.403675971536834\t 0.3036208154721104\t 3.0385223075615593\t 2.903605190442464\n",
            "14 \t [1.12434006 3.6102075 ]\t 14.297738725879341\t 0.3036208154721104\t 2.370262698404948\t 2.7540080217390948\n",
            "15 \t [-2.45685407 -5.08835903]\t 31.92752961372553\t 0.3036208154721104\t 3.0640190674616625\t 3.01046796843855\n",
            "16 \t [ 2.27972352 -4.9298673 ]\t 29.500730910455193\t 0.3036208154721104\t 2.729805034348705\t 3.166146166945107\n",
            "17 \t [-5.12        0.48743936]\t 26.451997128900413\t 0.3036208154721104\t 2.499193105395754\t 2.2912871329654965\n",
            "18 \t [ 5.12       -1.89715025]\t 29.813579087781378\t 0.3036208154721104\t 3.3488548076635087\t 3.619357551247822\n",
            "19 \t [0.9229273  0.70844243]\t 1.3536854778987712\t 0.3036208154721104\t 2.667911926212199\t 2.3392086668457233\n",
            "20 \t [-2.11628024  2.36557986]\t 10.074610115057489\t 0.3036208154721104\t 2.6522845920548206\t 2.820927313655488\n"
          ]
        }
      ],
      "source": [
        "### EXACT STP ERM GRADIENTS\n",
        "\n",
        "np.random.seed(run_num_7)\n",
        "surrogate_exact_7 = dtStudentProcess(cov_func, optimize=opt, nu = df)\n",
        "\n",
        "exact_7 = dGPGO(surrogate_exact_7, Acquisition_grad(util), objfunc, param)\n",
        "exact_7.run(init_evals=n_init, max_iter=iters)\n"
      ]
    },
    {
      "cell_type": "code",
      "execution_count": 41,
      "metadata": {
        "id": "69-J3EF4Iv1S",
        "colab": {
          "base_uri": "https://localhost:8080/"
        },
        "outputId": "0d32d7f5-032d-4a0a-8173-51ecd0769fd4"
      },
      "outputs": [
        {
          "output_type": "stream",
          "name": "stdout",
          "text": [
            "Evaluation \t Proposed point \t  Current eval. \t  Best eval. \t        Exact ERM: StdDev. x \t Approx ERM: StdDev. x \n",
            "init\t [3.82391708 4.79785639]\t 37.641767782829874\t 0.10287109474532606\t    \t    \n",
            "init\t [3.78055209 0.31596228]\t 14.392406282091054\t 0.10287109474532606\t    \t    \n",
            "init\t [-2.73686192 -5.00327624]\t 32.52318635319257\t 0.10287109474532606\t    \t    \n",
            "init\t [-0.7119993  -0.99992207]\t 1.5067871566831337\t 0.10287109474532606\t    \t    \n",
            "init\t [ 0.23218863 -0.22126801]\t 0.10287109474532606\t 0.10287109474532606\t    \t    \n",
            "1  \t [ 4.96383424 -4.82578382]\t 47.92783980438184\t 0.10287109474532606\t 3.2635182269052483\t 3.738703564974227\n",
            "2  \t [-1.08247996  3.22568182]\t 11.576786056866002\t 0.10287109474532606\t 2.969222647662698\t 3.400707240596241\n",
            "3  \t [-4.65543354 -0.74776093]\t 22.23220782485097\t 0.10287109474532606\t 2.452795423498436\t 3.566837254764021\n",
            "4  \t [ 1.12837248 -4.41631231]\t 20.777038905206414\t 0.10287109474532606\t 2.911941878305374\t 3.411205762805889\n",
            "5  \t [-3.46999861  2.06663688]\t 16.311878361949553\t 0.10287109474532606\t 2.825837140843555\t 3.255960278609295\n",
            "6  \t [0.67481004 5.12      ]\t 26.66976859204945\t 0.10287109474532606\t 3.1300435030598583\t 3.1025541490367723\n",
            "7  \t [-3.13712031  5.12      ]\t 36.05592381193712\t 0.10287109474532606\t 2.74452772860132\t 3.1947540728973998\n",
            "8  \t [ 1.71229786 -1.48235353]\t 5.129335937337515\t 0.10287109474532606\t 3.026367321403067\t 2.849223506277618\n",
            "9  \t [1.20911869 1.72311026]\t 4.4310769799616905\t 0.10287109474532606\t 2.769056750585485\t 2.822143568038851\n",
            "10 \t [-5.12       -3.70946553]\t 39.974534486671054\t 0.10287109474532606\t 3.055385311061749\t 3.4264796738028007\n",
            "11 \t [-1.70074859 -2.40690304]\t 8.685728002921463\t 0.10287109474532606\t 2.4939348786774964\t 2.860194292218718\n",
            "12 \t [4.93107112 2.56872212]\t 30.913795776970726\t 0.10287109474532606\t 2.2769694794169464\t 2.458556687088779\n",
            "13 \t [-1.38103469  0.63485514]\t 2.3102978618075456\t 0.10287109474532606\t 2.052979540360188\t 2.650539144135405\n",
            "14 \t [ 5.12      -1.7634296]\t 29.324083940587094\t 0.10287109474532606\t 2.582646954604783\t 2.8021869947006866\n",
            "15 \t [ 2.99001933 -2.89563196]\t 17.324900012034472\t 0.10287109474532606\t 2.6704579462682223\t 2.0522410138567286\n",
            "16 \t [1.54756152 0.19745866]\t 2.433936580372818\t 0.10287109474532606\t 2.4531214210947865\t 2.628639396202283\n",
            "17 \t [-2.02321535 -0.79656034]\t 4.727908729649769\t 0.10287109474532606\t 2.9254999684637144\t 2.9395357460814617\n",
            "18 \t [-5.12        3.15583094]\t 36.17366892360282\t 0.10287109474532606\t 2.7776184050883024\t 3.030526090574318\n",
            "19 \t [ 0.27560164 -2.38627929]\t 5.770285103164746\t 0.10287109474532606\t 2.6240218005416813\t 2.840716094049689\n",
            "20 \t [0.08311415 0.95781465]\t 0.9243168594921024\t 0.10287109474532606\t 2.5468753930494783\t 2.8610239594043887\n"
          ]
        }
      ],
      "source": [
        "### EXACT STP ERM GRADIENTS\n",
        "\n",
        "np.random.seed(run_num_8)\n",
        "surrogate_exact_8 = dtStudentProcess(cov_func, optimize=opt, nu = df)\n",
        "\n",
        "exact_8 = dGPGO(surrogate_exact_8, Acquisition_grad(util), objfunc, param)\n",
        "exact_8.run(init_evals=n_init, max_iter=iters)\n"
      ]
    },
    {
      "cell_type": "code",
      "execution_count": 42,
      "metadata": {
        "id": "vonm9jyuIv4t",
        "colab": {
          "base_uri": "https://localhost:8080/"
        },
        "outputId": "ad3d652e-0e3b-45c0-9d78-f140a601f185"
      },
      "outputs": [
        {
          "output_type": "stream",
          "name": "stdout",
          "text": [
            "Evaluation \t Proposed point \t  Current eval. \t  Best eval. \t        Exact ERM: StdDev. x \t Approx ERM: StdDev. x \n",
            "init\t [-5.01376866  0.01919582]\t 25.138244697862262\t 7.349882113053805\t    \t    \n",
            "init\t [-0.04328148 -3.74958562]\t 14.061265633999861\t 7.349882113053805\t    \t    \n",
            "init\t [-3.66478248 -2.88195916]\t 21.736319271030034\t 7.349882113053805\t    \t    \n",
            "init\t [-0.83447623 -2.57944404]\t 7.349882113053805\t 7.349882113053805\t    \t    \n",
            "init\t [-4.25922917 -1.58209393]\t 20.64405433050371\t 7.349882113053805\t    \t    \n",
            "1  \t [3.11029524 4.9495987 ]\t 34.172463819640285\t 7.349882113053805\t 2.774579746007222\t 3.0473536611845535\n",
            "2  \t [ 4.79630543 -1.28750864]\t 24.662224277591548\t 7.349882113053805\t 2.8560672501982083\t 3.980936431100248\n",
            "3  \t [-1.96628198  4.12622933]\t 20.892033287770825\t 7.349882113053805\t 2.8339283087628573\t 3.8698677892966367\n",
            "\u001b[1m\u001b[92m4\u001b[0m\t \u001b[1m\u001b[92m[0.97368175 1.01427134]\u001b[0m\t \u001b[1m\u001b[92m1.976802513962799\u001b[0m\t \u001b[1m\u001b[92m1.976802513962799\u001b[0m\t \u001b[1m\u001b[92m2.8156725640978904\u001b[0m\t \u001b[1m\u001b[92m3.339240754292452\u001b[0m\n",
            "5  \t [5.12       2.22308371]\t 31.156501161038456\t 1.976802513962799\t 3.344227928750004\t 3.655927325077566\n",
            "6  \t [-4.83065875  3.04686164]\t 32.618629843846335\t 1.976802513962799\t 2.390723111017599\t 3.048912424730163\n",
            "\u001b[1m\u001b[92m7\u001b[0m\t \u001b[1m\u001b[92m[-1.22393648  0.35975011]\u001b[0m\t \u001b[1m\u001b[92m1.6274406411529965\u001b[0m\t \u001b[1m\u001b[92m1.6274406411529965\u001b[0m\t \u001b[1m\u001b[92m2.746909176633847\u001b[0m\t \u001b[1m\u001b[92m3.1625397907263864\u001b[0m\n",
            "8  \t [ 2.77574491 -3.52342522]\t 20.1192851031132\t 1.6274406411529965\t 2.548818739310219\t 2.901096634809572\n",
            "9  \t [0.64260293 3.239168  ]\t 10.905147839631494\t 1.6274406411529965\t 2.891800541505116\t 3.325161892294159\n",
            "10 \t [-5.12 -5.12]\t 52.4288\t 1.6274406411529965\t 2.542935723715325\t 2.42355086634408\n",
            "11 \t [ 1.9563778  -0.72743589]\t 4.356577080166593\t 1.6274406411529965\t 2.6392655215109335\t 3.2039734869733816\n",
            "\u001b[1m\u001b[92m12\u001b[0m\t \u001b[1m\u001b[92m[ 0.16701808 -0.62225474]\u001b[0m\t \u001b[1m\u001b[92m0.415096005731585\u001b[0m\t \u001b[1m\u001b[92m0.415096005731585\u001b[0m\t \u001b[1m\u001b[92m2.4379780552730437\u001b[0m\t \u001b[1m\u001b[92m3.1246642845990316\u001b[0m\n",
            "13 \t [2.97666298 1.02001676]\t 9.900956724314618\t 0.415096005731585\t 2.359144180697246\t 2.4195043531631204\n",
            "14 \t [-1.42850606  1.87707132]\t 5.564026302750303\t 0.415096005731585\t 2.3786971277535383\t 3.144986254973127\n",
            "15 \t [-1.51569994 -0.93525201]\t 3.1720426287174246\t 0.415096005731585\t 2.578329253284694\t 3.19285607437917\n",
            "16 \t [-1.9653295 -5.12     ]\t 30.076920045243448\t 0.415096005731585\t 2.771485400766911\t 3.62601604072752\n",
            "17 \t [0.29788351 5.12      ]\t 26.303134587524998\t 0.415096005731585\t 2.371606016245161\t 2.889497174978843\n",
            "18 \t [5.12 5.12]\t 52.4288\t 0.415096005731585\t 2.6061577470155037\t 2.5986363760815427\n",
            "19 \t [ 0.79886749 -1.6517899 ]\t 3.3665991479594526\t 0.415096005731585\t 2.5128233526157073\t 3.5425639953722254\n",
            "20 \t [ 4.89160514 -3.98992614]\t 39.847311480910285\t 0.415096005731585\t 2.7205214877374115\t 3.2926758330297523\n"
          ]
        }
      ],
      "source": [
        "### EXACT STP ERM GRADIENTS\n",
        "\n",
        "np.random.seed(run_num_9)\n",
        "surrogate_exact_9 = dtStudentProcess(cov_func, optimize=opt, nu = df)\n",
        "\n",
        "exact_9 = dGPGO(surrogate_exact_9, Acquisition_grad(util), objfunc, param)\n",
        "exact_9.run(init_evals=n_init, max_iter=iters)\n"
      ]
    },
    {
      "cell_type": "code",
      "execution_count": 43,
      "metadata": {
        "id": "6amuYlUdIv7r",
        "colab": {
          "base_uri": "https://localhost:8080/"
        },
        "outputId": "e793f257-f393-435c-bdd0-353129f48754"
      },
      "outputs": [
        {
          "output_type": "stream",
          "name": "stdout",
          "text": [
            "Evaluation \t Proposed point \t  Current eval. \t  Best eval. \t        Exact ERM: StdDev. x \t Approx ERM: StdDev. x \n",
            "init\t [ 2.77832339 -4.90750004]\t 31.80263747150094\t 7.941821858928501\t    \t    \n",
            "init\t [1.36855793 2.54775176]\t 8.363989812138083\t 7.941821858928501\t    \t    \n",
            "init\t [-0.01528819 -2.81808235]\t 7.941821858928501\t 7.941821858928501\t    \t    \n",
            "init\t [-3.09183626  2.66783449]\t 16.67679237031191\t 7.941821858928501\t    \t    \n",
            "init\t [-3.38830503 -4.2154003 ]\t 29.25021071405309\t 7.941821858928501\t    \t    \n",
            "1  \t [ 5.12       -0.33841289]\t 26.328923284438197\t 7.941821858928501\t 3.146128583104609\t 3.475831178217413\n",
            "2  \t [5.12 5.12]\t 52.4288\t 7.941821858928501\t 2.934609299736067\t 2.831244627338642\n",
            "3  \t [-4.14754023 -0.65798906]\t 17.63503958921916\t 7.941821858928501\t 2.924815679634627\t 3.0630370042863015\n",
            "4  \t [-0.58575627  5.12      ]\t 26.557510406832236\t 7.941821858928501\t 3.0925051930973586\t 3.314198382396944\n",
            "\u001b[1m\u001b[92m5\u001b[0m\t \u001b[1m\u001b[92m[ 0.09467046 -0.04313953]\u001b[0m\t \u001b[1m\u001b[92m0.010823515734684538\u001b[0m\t \u001b[1m\u001b[92m0.010823515734684538\u001b[0m\t \u001b[1m\u001b[92m2.6435110677733133\u001b[0m\t \u001b[1m\u001b[92m2.9154619175929284\u001b[0m\n",
            "6  \t [ 2.1115624  -0.84005397]\t 5.1643864640477934\t 0.010823515734684538\t 3.074842574321985\t 2.9108088540312247\n",
            "7  \t [-0.46761144 -5.12      ]\t 26.433060461956405\t 0.010823515734684538\t 2.8430061238592836\t 3.145156890826919\n",
            "8  \t [-1.47443849  0.27861509]\t 2.2515952203488525\t 0.010823515734684538\t 2.9191276005349316\t 3.362547225572774\n",
            "9  \t [3.91963911 2.19074532]\t 20.162935812573423\t 0.010823515734684538\t 2.841488386962611\t 3.6267717840625573\n",
            "10 \t [2.15384399 5.12      ]\t 30.853443930787016\t 0.010823515734684538\t 3.013721792012863\t 4.134054159135544\n",
            "11 \t [ 3.16609562 -2.27315221]\t 15.19138246456578\t 0.010823515734684538\t 2.701474610666847\t 3.743566979856616\n",
            "12 \t [-5.12        2.76823709]\t 33.87753657055725\t 0.010823515734684538\t 2.986983349183611\t 2.8944568215957767\n",
            "13 \t [ 5.10031529 -3.51564416]\t 38.37296984455697\t 0.010823515734684538\t 2.960420408301096\t 2.7103632895662235\n",
            "14 \t [-3.08144246  5.01931768]\t 34.688837664796736\t 0.010823515734684538\t 2.60997779122082\t 2.7423989968784577\n",
            "15 \t [-0.73903769  2.05422487]\t 4.766016516392203\t 0.010823515734684538\t 2.776264082380731\t 2.980901399469796\n",
            "16 \t [1.40848138 0.68821873]\t 2.4574648179180616\t 0.010823515734684538\t 2.6363438048876224\t 2.6493054212426794\n",
            "17 \t [-2.10616764 -1.8398372 ]\t 7.820943040037378\t 0.010823515734684538\t 2.9132599103730628\t 3.2089870086631045\n",
            "18 \t [-5.12       -2.73620258]\t 33.701204537387206\t 0.010823515734684538\t 2.728394280768876\t 2.8518584770550186\n",
            "19 \t [ 0.33316753 -1.17571725]\t 1.4933116609421486\t 0.010823515734684538\t 2.493402674235851\t 2.2833958686656763\n",
            "20 \t [ 1.60626394 -3.36352774]\t 13.893402700612809\t 0.010823515734684538\t 3.132190479675565\t 3.206559957070939\n"
          ]
        }
      ],
      "source": [
        "### EXACT STP ERM GRADIENTS\n",
        "\n",
        "np.random.seed(run_num_10)\n",
        "surrogate_exact_10 = dtStudentProcess(cov_func, optimize=opt, nu = df)\n",
        "\n",
        "exact_10 = dGPGO(surrogate_exact_10, Acquisition_grad(util), objfunc, param)\n",
        "exact_10.run(init_evals=n_init, max_iter=iters)\n"
      ]
    },
    {
      "cell_type": "code",
      "execution_count": 44,
      "metadata": {
        "id": "VwbLIP9cIv-F",
        "colab": {
          "base_uri": "https://localhost:8080/"
        },
        "outputId": "f2f509ea-7c21-4d3b-b368-68424bd2a645"
      },
      "outputs": [
        {
          "output_type": "stream",
          "name": "stdout",
          "text": [
            "Evaluation \t Proposed point \t  Current eval. \t  Best eval. \t        Exact ERM: StdDev. x \t Approx ERM: StdDev. x \n",
            "init\t [-3.27403839 -4.92057353]\t 34.93137118861299\t 0.6899456214148796\t    \t    \n",
            "init\t [-0.37664229  2.30332343]\t 5.447158259491397\t 0.6899456214148796\t    \t    \n",
            "init\t [-0.81711509 -0.14922651]\t 0.6899456214148796\t 0.6899456214148796\t    \t    \n",
            "init\t [-4.98912446 -0.12931474]\t 24.908085165573997\t 0.6899456214148796\t    \t    \n",
            "init\t [4.52410012 3.59214172]\t 33.37096399795931\t 0.6899456214148796\t    \t    \n",
            "1  \t [ 3.03550212 -4.46785095]\t 29.17596522689979\t 0.6899456214148796\t 2.8541622788938295\t 3.781318374332612\n",
            "2  \t [ 4.94292156 -0.61508259]\t 24.810800149578867\t 0.6899456214148796\t 2.2293187093014604\t 3.2947126647737113\n",
            "3  \t [0.9300638 5.12     ]\t 27.079418677115807\t 0.6899456214148796\t 2.9050141428536693\t 3.8911627816169596\n",
            "4  \t [ 1.33510924 -1.16344477]\t 3.136120415600238\t 0.6899456214148796\t 2.5392127946013074\t 2.4119860687951746\n",
            "5  \t [-3.28913395  3.36778318]\t 22.16036568917439\t 0.6899456214148796\t 2.619089413924618\t 3.0944797909924113\n",
            "6  \t [-0.9004427  -2.46624687]\t 6.893170658108653\t 0.6899456214148796\t 2.9060026807475405\t 2.8016895541231186\n",
            "7  \t [-0.04743135 -5.12      ]\t 26.2166497327962\t 0.6899456214148796\t 3.1977034568668143\t 3.3203234606986562\n",
            "8  \t [2.40132894 1.00534331]\t 6.777095855812461\t 0.6899456214148796\t 2.5421271766047\t 2.852260336961019\n",
            "9  \t [-5.12       -3.01144011]\t 35.28317152955866\t 0.6899456214148796\t 3.152803923871393\t 3.069287878634067\n",
            "10 \t [-2.21230246  0.52867388]\t 5.173778241434259\t 0.6899456214148796\t 2.515367075166586\t 3.0100567983737045\n",
            "11 \t [-5.12        4.00674609]\t 42.268414198152485\t 0.6899456214148796\t 2.7885976494547404\t 3.33462777873698\n",
            "12 \t [-1.28981811  4.96384952]\t 26.303432858733682\t 0.6899456214148796\t 2.591236442676093\t 2.584050640081879\n",
            "13 \t [-2.81845845 -1.17944945]\t 9.334809048173067\t 0.6899456214148796\t 2.4822887527024653\t 2.819735565144178\n",
            "14 \t [1.72810459 2.73893065]\t 10.48808657081959\t 0.6899456214148796\t 2.6455856269842704\t 3.1260521054322568\n",
            "15 \t [ 2.82518435 -1.86408944]\t 11.456496022958538\t 0.6899456214148796\t 2.774796708289044\t 2.4976554743522468\n",
            "\u001b[1m\u001b[92m16\u001b[0m\t \u001b[1m\u001b[92m[0.68906392 0.29963362]\u001b[0m\t \u001b[1m\u001b[92m0.5645893950121318\u001b[0m\t \u001b[1m\u001b[92m0.5645893950121318\u001b[0m\t \u001b[1m\u001b[92m3.0273035137591777\u001b[0m\t \u001b[1m\u001b[92m2.817293878834517\u001b[0m\n",
            "17 \t [ 0.80572959 -2.52236343]\t 7.0115174676592895\t 0.5645893950121318\t 2.2849434196111043\t 2.480261934381999\n",
            "18 \t [ 5.09861744 -3.28666558]\t 36.798070472022395\t 0.5645893950121318\t 2.694658698686636\t 2.5513276979014754\n",
            "19 \t [3.24097423 5.07937902]\t 36.30400521298232\t 0.5645893950121318\t 2.7958209166401233\t 2.918662736222402\n",
            "20 \t [5.12       1.49623027]\t 28.45310501152314\t 0.5645893950121318\t 3.200370038677108\t 3.1557402830773476\n"
          ]
        }
      ],
      "source": [
        "### EXACT STP ERM GRADIENTS\n",
        "\n",
        "np.random.seed(run_num_11)\n",
        "surrogate_exact_11 = dtStudentProcess(cov_func, optimize=opt, nu = df)\n",
        "\n",
        "exact_11 = dGPGO(surrogate_exact_11, Acquisition_grad(util), objfunc, param)\n",
        "exact_11.run(init_evals=n_init, max_iter=iters)\n"
      ]
    },
    {
      "cell_type": "code",
      "execution_count": 45,
      "metadata": {
        "id": "MlUNFjc-JTBY",
        "colab": {
          "base_uri": "https://localhost:8080/"
        },
        "outputId": "7f9fccd4-4a17-436a-aa1c-469c6a66dc15"
      },
      "outputs": [
        {
          "output_type": "stream",
          "name": "stdout",
          "text": [
            "Evaluation \t Proposed point \t  Current eval. \t  Best eval. \t        Exact ERM: StdDev. x \t Approx ERM: StdDev. x \n",
            "init\t [-3.54137249  2.45810889]\t 18.583618467979093\t 5.993464196233534\t    \t    \n",
            "init\t [-2.42365424  0.34549139]\t 5.993464196233534\t 5.993464196233534\t    \t    \n",
            "init\t [-4.97075238  4.28796936]\t 43.09506052206225\t 5.993464196233534\t    \t    \n",
            "init\t [ 4.10332011 -4.77776458]\t 39.66427028607538\t 5.993464196233534\t    \t    \n",
            "init\t [ 4.6791612  -3.71497655]\t 35.6956003298903\t 5.993464196233534\t    \t    \n",
            "1  \t [4.61121049 2.73895066]\t 28.76511294085281\t 5.993464196233534\t 3.4319081215357548\t 3.639585287597927\n",
            "2  \t [-2.0803816 -5.12     ]\t 30.54238761508499\t 5.993464196233534\t 3.4816026229434884\t 3.4738023154259645\n",
            "3  \t [0.40435711 5.12      ]\t 26.377904668568\t 5.993464196233534\t 3.2515059035141882\t 3.104004787555901\n",
            "\u001b[1m\u001b[92m4\u001b[0m\t \u001b[1m\u001b[92m[ 1.62420441 -0.64640249]\u001b[0m\t \u001b[1m\u001b[92m3.0558761590978225\u001b[0m\t \u001b[1m\u001b[92m3.0558761590978225\u001b[0m\t \u001b[1m\u001b[92m2.9554167635549105\u001b[0m\t \u001b[1m\u001b[92m2.2077079046236516\u001b[0m\n",
            "5  \t [-5.12      -2.3345287]\t 31.664424251611482\t 3.0558761590978225\t 3.09634861329119\t 3.2021600268266077\n",
            "6  \t [ 0.56143765 -2.91741906]\t 8.826546226665608\t 3.0558761590978225\t 3.0280255323979257\t 2.878353410662247\n",
            "7  \t [ 4.97079391 -0.43440115]\t 24.897496481230235\t 3.0558761590978225\t 2.811223468700139\t 3.151215676727601\n",
            "8  \t [0.64568413 1.71599489]\t 3.3615464469627536\t 3.0558761590978225\t 2.8123833889459022\t 2.7823291644686874\n",
            "9  \t [-5.12 -5.12]\t 52.4288\t 3.0558761590978225\t 3.086309389056725\t 3.067065718943325\n",
            "10 \t [-5.12        0.45418769]\t 26.420686460343237\t 3.0558761590978225\t 2.739960330580085\t 2.9099177969223424\n",
            "\u001b[1m\u001b[92m11\u001b[0m\t \u001b[1m\u001b[92m[-0.66525086 -0.99950654]\u001b[0m\t \u001b[1m\u001b[92m1.4415720371167668\u001b[0m\t \u001b[1m\u001b[92m1.4415720371167668\u001b[0m\t \u001b[1m\u001b[92m2.7278257225789075\u001b[0m\t \u001b[1m\u001b[92m2.959875266866409\u001b[0m\n",
            "12 \t [3.37487891 5.12      ]\t 37.60420765269255\t 1.4415720371167668\t 2.535288819911835\t 2.5949938938349955\n",
            "13 \t [ 1.07917068 -5.12      ]\t 27.37900935742243\t 1.4415720371167668\t 2.4709961195044365\t 2.541883613879217\n",
            "14 \t [-2.17586667 -2.13632025]\t 9.29825995999959\t 1.4415720371167668\t 2.5305563539469187\t 2.4250217376403067\n",
            "15 \t [-1.1947953   3.00844462]\t 10.47827480496669\t 1.4415720371167668\t 2.644813379878878\t 2.4061646921010245\n",
            "16 \t [2.21875757 2.32806352]\t 10.342764904417852\t 1.4415720371167668\t 2.647607019496936\t 2.3544734811355266\n",
            "\u001b[1m\u001b[92m17\u001b[0m\t \u001b[1m\u001b[92m[-0.40197166  0.5101099 ]\u001b[0m\t \u001b[1m\u001b[92m0.42179332055279095\u001b[0m\t \u001b[1m\u001b[92m0.42179332055279095\u001b[0m\t \u001b[1m\u001b[92m2.2326342293840042\u001b[0m\t \u001b[1m\u001b[92m2.3067575914282425\u001b[0m\n",
            "18 \t [ 2.61706137 -1.66383265]\t 9.617349341436313\t 0.42179332055279095\t 2.780430390515812\t 2.9508912982094793\n",
            "19 \t [-2.22940474  5.12      ]\t 31.18464550441685\t 0.42179332055279095\t 3.1219933532016935\t 2.9205553695998874\n",
            "20 \t [3.61476502 1.18299681]\t 14.466007605464402\t 0.42179332055279095\t 2.7649520441734894\t 3.2305275851658988\n"
          ]
        }
      ],
      "source": [
        "### EXACT STP ERM GRADIENTS\n",
        "\n",
        "np.random.seed(run_num_12)\n",
        "surrogate_exact_12 = dtStudentProcess(cov_func, optimize=opt, nu = df)\n",
        "\n",
        "exact_12 = dGPGO(surrogate_exact_12, Acquisition_grad(util), objfunc, param)\n",
        "exact_12.run(init_evals=n_init, max_iter=iters)\n"
      ]
    },
    {
      "cell_type": "code",
      "execution_count": 46,
      "metadata": {
        "id": "9BsKdU9eJTFL",
        "colab": {
          "base_uri": "https://localhost:8080/"
        },
        "outputId": "304b2f12-aba3-4f95-f68f-88823d19c18f"
      },
      "outputs": [
        {
          "output_type": "stream",
          "name": "stdout",
          "text": [
            "Evaluation \t Proposed point \t  Current eval. \t  Best eval. \t        Exact ERM: StdDev. x \t Approx ERM: StdDev. x \n",
            "init\t [ 2.84367268 -2.68757791]\t 15.30954934064491\t 7.271500601275535\t    \t    \n",
            "init\t [3.32061217 4.76927179]\t 33.772418600555795\t 7.271500601275535\t    \t    \n",
            "init\t [ 4.83943541 -0.47667971]\t 23.647358595121606\t 7.271500601275535\t    \t    \n",
            "init\t [1.11659482 2.82139151]\t 9.20703403927425\t 7.271500601275535\t    \t    \n",
            "init\t [1.45012065 2.27346667]\t 7.271500601275535\t 7.271500601275535\t    \t    \n",
            "1  \t [-4.10876704 -2.60547476]\t 23.670465283396044\t 7.271500601275535\t 3.347237928179087\t 3.3422270088598744\n",
            "2  \t [-3.79948035  2.66820198]\t 21.555352714045164\t 7.271500601275535\t 3.1100090327017575\t 3.495167997192962\n",
            "3  \t [-0.59686174 -5.12      ]\t 26.570643932021145\t 7.271500601275535\t 3.0954735515804788\t 3.126486952081602\n",
            "\u001b[1m\u001b[92m4\u001b[0m\t \u001b[1m\u001b[92m[-0.57652417 -0.73989597]\u001b[0m\t \u001b[1m\u001b[92m0.8798261684802231\u001b[0m\t \u001b[1m\u001b[92m0.8798261684802231\u001b[0m\t \u001b[1m\u001b[92m2.7965792692546834\u001b[0m\t \u001b[1m\u001b[92m3.1321144697313796\u001b[0m\n",
            "5  \t [-0.30636294  5.12      ]\t 26.30825825405709\t 0.8798261684802231\t 3.344371246260949\t 3.9345609898902794\n",
            "6  \t [-5.12 -5.12]\t 52.4288\t 0.8798261684802231\t 2.7881119976349575\t 3.278401567419346\n",
            "7  \t [ 1.43811488 -0.09692781]\t 2.0775694053588123\t 0.8798261684802231\t 2.9094105081064936\t 3.9154638168291167\n",
            "8  \t [-0.94170044  1.04967548]\t 1.9886183251619918\t 0.8798261684802231\t 2.315317967816577\t 3.2997217082040504\n",
            "9  \t [5.12       2.66353331]\t 33.30880968777613\t 0.8798261684802231\t 2.828401401290784\t 3.5135252038588805\n",
            "10 \t [-4.95514937 -0.03401941]\t 24.55466258216428\t 0.8798261684802231\t 2.868323133133983\t 3.2279949036672106\n",
            "11 \t [ 5.12       -3.51846581]\t 38.594001636493765\t 0.8798261684802231\t 2.791435656077895\t 3.393505766839081\n",
            "12 \t [-1.07985077 -2.3483547 ]\t 6.68084748877247\t 0.8798261684802231\t 2.3784439401021533\t 2.0866944058434016\n",
            "13 \t [-2.87601445  4.93860236]\t 32.661252404738235\t 0.8798261684802231\t 2.6846316226894156\t 3.0714793223564447\n",
            "14 \t [ 2.3649164 -5.12     ]\t 31.80722959904763\t 0.8798261684802231\t 2.506636361895905\t 2.7072035559155583\n",
            "15 \t [-2.29353659 -0.05094027]\t 5.262904990868336\t 0.8798261684802231\t 2.652343655897414\t 2.9666796259340282\n",
            "16 \t [ 1.13028995 -2.26461956]\t 6.406057116016936\t 0.8798261684802231\t 2.5707383817299263\t 2.2767964770938787\n",
            "17 \t [-1.40292804  2.74910042]\t 9.525760219405127\t 0.8798261684802231\t 3.1402043264436488\t 3.495538452343342\n",
            "18 \t [-3.04477405 -4.18791302]\t 26.80926447518062\t 0.8798261684802231\t 2.3824337243763445\t 2.4901146892649586\n",
            "19 \t [3.0114057 0.538008 ]\t 9.358016876042303\t 0.8798261684802231\t 2.6832182547246908\t 2.2105708622610623\n",
            "\u001b[1m\u001b[92m20\u001b[0m\t \u001b[1m\u001b[92m[0.36498456 0.40121819]\u001b[0m\t \u001b[1m\u001b[92m0.2941897655226615\u001b[0m\t \u001b[1m\u001b[92m0.2941897655226615\u001b[0m\t \u001b[1m\u001b[92m2.9571186526647875\u001b[0m\t \u001b[1m\u001b[92m3.2932299758116144\u001b[0m\n"
          ]
        }
      ],
      "source": [
        "### EXACT STP ERM GRADIENTS\n",
        "\n",
        "np.random.seed(run_num_13)\n",
        "surrogate_exact_13 = dtStudentProcess(cov_func, optimize=opt, nu = df)\n",
        "\n",
        "exact_13 = dGPGO(surrogate_exact_13, Acquisition_grad(util), objfunc, param)\n",
        "exact_13.run(init_evals=n_init, max_iter=iters)\n"
      ]
    },
    {
      "cell_type": "code",
      "execution_count": 47,
      "metadata": {
        "id": "k6GjFBr1JTJf",
        "colab": {
          "base_uri": "https://localhost:8080/"
        },
        "outputId": "8cd62d4e-bcad-4313-8388-07b004fe0b9c"
      },
      "outputs": [
        {
          "output_type": "stream",
          "name": "stdout",
          "text": [
            "Evaluation \t Proposed point \t  Current eval. \t  Best eval. \t        Exact ERM: StdDev. x \t Approx ERM: StdDev. x \n",
            "init\t [0.14277984 2.79721013]\t 7.844770612568215\t 3.480496204392171\t    \t    \n",
            "init\t [ 3.7931795  -5.03759925]\t 39.765616906968944\t 3.480496204392171\t    \t    \n",
            "init\t [-1.94830412  4.68586229]\t 25.753194366239512\t 3.480496204392171\t    \t    \n",
            "init\t [ 0.13431513 -1.86076749]\t 3.480496204392171\t 3.480496204392171\t    \t    \n",
            "init\t [ 0.40140736 -2.85434939]\t 8.308438305616814\t 3.480496204392171\t    \t    \n",
            "1  \t [5.12       4.96599404]\t 50.87549680975267\t 3.480496204392171\t 3.943071933801878\t 3.766678082786296\n",
            "2  \t [-5.01349473 -3.76776229]\t 39.33116214994049\t 3.480496204392171\t 3.55589289886336\t 3.568833122086281\n",
            "3  \t [ 5.12       -0.12504744]\t 26.230036863037544\t 3.480496204392171\t 2.7175766281795117\t 3.7355689860029577\n",
            "4  \t [-5.07616183  1.08120014]\t 26.936412620332096\t 3.480496204392171\t 2.6594120782972555\t 2.9576841124070556\n",
            "\u001b[1m\u001b[92m5\u001b[0m\t \u001b[1m\u001b[92m[-1.70800749  0.38833689]\u001b[0m\t \u001b[1m\u001b[92m3.0680951137840937\u001b[0m\t \u001b[1m\u001b[92m3.0680951137840937\u001b[0m\t \u001b[1m\u001b[92m2.4643832627859785\u001b[0m\t \u001b[1m\u001b[92m2.2199810092941066\u001b[0m\n",
            "6  \t [1.85808584 0.3091096 ]\t 3.548031718346012\t 3.0680951137840937\t 2.579781988111962\t 2.548793868409564\n",
            "7  \t [-1.77742064 -5.12      ]\t 29.373624120961804\t 3.0680951137840937\t 2.669173719705608\t 2.8206394572099653\n",
            "8  \t [1.83032266 5.12      ]\t 29.56448103888158\t 3.0680951137840937\t 2.9577587852829983\t 3.043126206100816\n",
            "9  \t [-5.06731802  4.23091784]\t 43.57837771805262\t 3.0680951137840937\t 2.9333113969538194\t 2.982420130289459\n",
            "10 \t [-2.39236044 -1.74236372]\t 8.759219811953118\t 3.0680951137840937\t 2.618077111395445\t 2.203429748674213\n",
            "11 \t [ 2.91463146 -1.96897437]\t 12.371936645999844\t 3.0680951137840937\t 2.9404251133283075\t 2.8966131489234273\n",
            "12 \t [3.09660664 2.4347753 ]\t 15.517103460225552\t 3.0680951137840937\t 2.7621560495632735\t 3.060768017779254\n",
            "13 \t [ 0.98790064 -5.12      ]\t 27.19034767722409\t 3.0680951137840937\t 2.9581289337081427\t 3.2191640809120754\n",
            "\u001b[1m\u001b[92m14\u001b[0m\t \u001b[1m\u001b[92m[0.09392542 0.22472285]\u001b[0m\t \u001b[1m\u001b[92m0.05932234191987733\u001b[0m\t \u001b[1m\u001b[92m0.05932234191987733\u001b[0m\t \u001b[1m\u001b[92m2.28710844550305\u001b[0m\t \u001b[1m\u001b[92m2.5103627695783444\u001b[0m\n",
            "15 \t [-2.07173371  2.09175301]\t 8.667511206002597\t 0.05932234191987733\t 2.4326014306208834\t 2.7021769660054744\n",
            "16 \t [ 5.12       -2.66604529]\t 33.32219746983831\t 0.05932234191987733\t 2.8098297015527716\t 3.0469032089011314\n",
            "17 \t [-3.83281585 -1.52663103]\t 17.02107964764867\t 0.05932234191987733\t 2.7259570272215607\t 2.952619186784698\n",
            "18 \t [-2.778466   -3.42303006]\t 19.43700812689591\t 0.05932234191987733\t 2.5528124702587633\t 2.538986029117377\n",
            "19 \t [-0.01073372  4.60575735]\t 21.213115940215246\t 0.05932234191987733\t 2.844347657110859\t 2.913514313161003\n",
            "20 \t [5.12       2.24244901]\t 31.24297755513329\t 0.05932234191987733\t 2.5749978816066776\t 2.680515437832041\n"
          ]
        }
      ],
      "source": [
        "### EXACT STP ERM GRADIENTS\n",
        "\n",
        "np.random.seed(run_num_14)\n",
        "surrogate_exact_14 = dtStudentProcess(cov_func, optimize=opt, nu = df)\n",
        "\n",
        "exact_14 = dGPGO(surrogate_exact_14, Acquisition_grad(util), objfunc, param)\n",
        "exact_14.run(init_evals=n_init, max_iter=iters)\n"
      ]
    },
    {
      "cell_type": "code",
      "execution_count": 48,
      "metadata": {
        "id": "dPS8WB3aJTN6",
        "colab": {
          "base_uri": "https://localhost:8080/"
        },
        "outputId": "f1dbf8f3-e213-4123-c2f5-8fcc3b87bdbe"
      },
      "outputs": [
        {
          "output_type": "stream",
          "name": "stdout",
          "text": [
            "Evaluation \t Proposed point \t  Current eval. \t  Best eval. \t        Exact ERM: StdDev. x \t Approx ERM: StdDev. x \n",
            "init\t [ 3.57189322 -3.28810573]\t 23.57006045912445\t 5.383887924980681\t    \t    \n",
            "init\t [-4.56332069 -1.41784631]\t 22.834183843344235\t 5.383887924980681\t    \t    \n",
            "init\t [-2.29989449  0.3072023 ]\t 5.383887924980681\t 5.383887924980681\t    \t    \n",
            "init\t [-1.9873903  -2.00218256]\t 7.958455228543059\t 5.383887924980681\t    \t    \n",
            "init\t [-3.97576933 -2.5610341 ]\t 22.365637431409507\t 5.383887924980681\t    \t    \n",
            "1  \t [5.12 5.12]\t 52.4288\t 5.383887924980681\t 3.2413058306438876\t 3.680458659889904\n",
            "2  \t [-2.67127025  5.12      ]\t 33.35008474065915\t 5.383887924980681\t 2.7844975862783214\t 3.36858969535424\n",
            "3  \t [2.09005175 1.296316  ]\t 6.048751498219033\t 5.383887924980681\t 3.131965282522351\t 3.106469079734478\n",
            "4  \t [-0.19501967 -5.12      ]\t 26.25243267284743\t 5.383887924980681\t 2.751106764689279\t 3.3080239495317314\n",
            "5  \t [5.12       0.30579317]\t 26.307909461277237\t 5.383887924980681\t 3.0893462268875935\t 3.649677043758366\n",
            "6  \t [1.15840293 5.12      ]\t 27.55629735822384\t 5.383887924980681\t 2.8242684277411856\t 3.5601161067810474\n",
            "7  \t [-5.12        2.28693675]\t 31.44447970306937\t 5.383887924980681\t 2.7371458345662365\t 3.018384600818981\n",
            "\u001b[1m\u001b[92m8\u001b[0m\t \u001b[1m\u001b[92m[ 0.79497591 -1.25723737]\u001b[0m\t \u001b[1m\u001b[92m2.212632510689538\u001b[0m\t \u001b[1m\u001b[92m2.212632510689538\u001b[0m\t \u001b[1m\u001b[92m3.3778127103571696\u001b[0m\t \u001b[1m\u001b[92m3.416360105068879\u001b[0m\n",
            "9  \t [-5.12 -5.12]\t 52.4288\t 2.212632510689538\t 2.388750783695431\t 2.414802502322688\n",
            "10 \t [-0.60994405  2.29225743]\t 5.626475883023832\t 2.212632510689538\t 2.032546026821608\t 2.5656837327747466\n",
            "\u001b[1m\u001b[92m11\u001b[0m\t \u001b[1m\u001b[92m[-0.19903956  0.29176564]\u001b[0m\t \u001b[1m\u001b[92m0.12474393565931617\u001b[0m\t \u001b[1m\u001b[92m0.12474393565931617\u001b[0m\t \u001b[1m\u001b[92m2.131555193199657\u001b[0m\t \u001b[1m\u001b[92m2.5043281352283864\u001b[0m\n",
            "12 \t [ 2.65031194 -0.63300693]\t 7.424851148621726\t 0.12474393565931617\t 2.41902942471892\t 2.6974825096572923\n",
            "13 \t [3.02134857 3.15336755]\t 19.07227408940539\t 0.12474393565931617\t 2.658525979760972\t 2.892787312745265\n",
            "14 \t [ 0.57070117 -2.74829881]\t 7.87884615625059\t 0.12474393565931617\t 2.453701005573106\t 3.354357580867827\n",
            "15 \t [-0.59524875 -0.89134311]\t 1.1488136213500386\t 0.12474393565931617\t 2.300193570769336\t 2.7426988543198236\n",
            "16 \t [-2.43500252 -5.12      ]\t 32.143637279863235\t 0.12474393565931617\t 3.0443942497541756\t 3.0395326916619174\n",
            "17 \t [-2.76663919  2.73756904]\t 15.148576680828931\t 0.12474393565931617\t 2.048902144268759\t 2.5470331794394783\n",
            "18 \t [ 1.94512432 -4.78027913]\t 26.634577181472185\t 0.12474393565931617\t 2.870043149263535\t 2.770843617143956\n",
            "19 \t [0.9297916  0.53661379]\t 1.152466783843903\t 0.12474393565931617\t 2.6440549859068603\t 2.5154700666052987\n",
            "20 \t [ 5.12      -2.0368336]\t 30.363091113838074\t 0.12474393565931617\t 2.3169162248745065\t 3.037884522533678\n"
          ]
        }
      ],
      "source": [
        "### EXACT STP ERM GRADIENTS\n",
        "\n",
        "np.random.seed(run_num_15)\n",
        "surrogate_exact_15 = dtStudentProcess(cov_func, optimize=opt, nu = df)\n",
        "\n",
        "exact_15 = dGPGO(surrogate_exact_15, Acquisition_grad(util), objfunc, param)\n",
        "exact_15.run(init_evals=n_init, max_iter=iters)\n"
      ]
    },
    {
      "cell_type": "code",
      "execution_count": 49,
      "metadata": {
        "id": "lu8ki9XIQPPN",
        "colab": {
          "base_uri": "https://localhost:8080/"
        },
        "outputId": "19fe5c37-0d47-4fdf-bc4b-0735fd533f02"
      },
      "outputs": [
        {
          "output_type": "stream",
          "name": "stdout",
          "text": [
            "Evaluation \t Proposed point \t  Current eval. \t  Best eval. \t        Exact ERM: StdDev. x \t Approx ERM: StdDev. x \n",
            "init\t [-2.83349935  0.23719262]\t 8.084978900492077\t 8.084978900492077\t    \t    \n",
            "init\t [ 0.51918292 -4.65303603]\t 21.92029520206884\t 8.084978900492077\t    \t    \n",
            "init\t [-1.42613673 -2.83565116]\t 10.074783446012654\t 8.084978900492077\t    \t    \n",
            "init\t [ 1.9325559  -3.44339021]\t 15.591708419712269\t 8.084978900492077\t    \t    \n",
            "init\t [-4.39987336  4.51595121]\t 39.75270093978162\t 8.084978900492077\t    \t    \n",
            "1  \t [5.12 5.12]\t 52.4288\t 8.084978900492077\t 3.550840142887768\t 3.8827747554808614\n",
            "2  \t [5.12       0.04685127]\t 26.21659504181987\t 8.084978900492077\t 2.9395712372066236\t 3.040453119430324\n",
            "3  \t [0.41434431 3.75615317]\t 14.280367841196577\t 8.084978900492077\t 3.310259861449649\t 3.809302389176245\n",
            "4  \t [-5.12 -5.12]\t 52.4288\t 8.084978900492077\t 3.7110350203923903\t 3.1889968303744625\n",
            "\u001b[1m\u001b[92m5\u001b[0m\t \u001b[1m\u001b[92m[0.50478437 0.47361727]\u001b[0m\t \u001b[1m\u001b[92m0.4791205838120213\u001b[0m\t \u001b[1m\u001b[92m0.4791205838120213\u001b[0m\t \u001b[1m\u001b[92m2.17580499574267\u001b[0m\t \u001b[1m\u001b[92m2.22954341283348\u001b[0m\n",
            "6  \t [ 5.12       -3.40803308]\t 37.82908944214559\t 0.4791205838120213\t 3.3849224873646757\t 3.664972103832667\n",
            "7  \t [2.58180792 1.597236  ]\t 9.21689499505784\t 0.4791205838120213\t 2.8096038102369536\t 3.0015430579496916\n",
            "8  \t [-4.33754233 -1.91953127]\t 22.49887374873295\t 0.4791205838120213\t 2.4930391189324195\t 2.8671713047204297\n",
            "9  \t [ 1.96923116 -0.90400818]\t 4.69510214207158\t 0.4791205838120213\t 2.5609274686173524\t 2.8728499435806425\n",
            "10 \t [-1.33722159  1.94075717]\t 5.554699974627063\t 0.4791205838120213\t 3.007850373973146\t 3.244051505173641\n",
            "11 \t [2.21195931 5.12      ]\t 31.107163981610476\t 0.4791205838120213\t 2.84252148423228\t 3.164300199620124\n",
            "12 \t [-5.12        1.11329243]\t 27.453820038992177\t 0.4791205838120213\t 3.0283480503535807\t 3.5316719832950274\n",
            "13 \t [-0.85336367 -0.37569878]\t 0.8693791269948338\t 0.4791205838120213\t 2.409375364766793\t 2.6404618503982573\n",
            "14 \t [-2.31779151 -5.02380307]\t 30.61075473234902\t 0.4791205838120213\t 2.52331832414927\t 2.8373223367032097\n",
            "15 \t [-0.46544558  5.12      ]\t 26.431039585035485\t 0.4791205838120213\t 2.10948630400686\t 2.8142168877417215\n",
            "16 \t [ 0.35600506 -1.60651444]\t 2.7076282375887715\t 0.4791205838120213\t 1.8979561256886899\t 1.868850142807426\n",
            "17 \t [-2.70372033  2.61763152]\t 14.162098388478531\t 0.4791205838120213\t 2.6668144065341344\t 2.7824423925941155\n",
            "18 \t [5.04429792 2.68535401]\t 32.65606763581698\t 0.4791205838120213\t 2.9588604173057185\t 3.2664015667374198\n",
            "19 \t [-2.40234383  5.11005254]\t 31.883892786958473\t 0.4791205838120213\t 2.6071829922295104\t 3.160303024996648\n",
            "20 \t [ 3.0399256 -5.0331268]\t 34.57351305208399\t 0.4791205838120213\t 2.6735040033541777\t 2.530410249099044\n"
          ]
        }
      ],
      "source": [
        "### EXACT STP ERM GRADIENTS\n",
        "\n",
        "np.random.seed(run_num_16)\n",
        "surrogate_exact_16 = dtStudentProcess(cov_func, optimize=opt, nu = df)\n",
        "\n",
        "exact_16 = dGPGO(surrogate_exact_16, Acquisition_grad(util), objfunc, param)\n",
        "exact_16.run(init_evals=n_init, max_iter=iters)\n"
      ]
    },
    {
      "cell_type": "code",
      "execution_count": 50,
      "metadata": {
        "id": "yU2SflSsJTUs",
        "colab": {
          "base_uri": "https://localhost:8080/"
        },
        "outputId": "9fb6d9c4-08c6-4205-97c1-a7f3f0a44ef2"
      },
      "outputs": [
        {
          "output_type": "stream",
          "name": "stdout",
          "text": [
            "Evaluation \t Proposed point \t  Current eval. \t  Best eval. \t        Exact ERM: StdDev. x \t Approx ERM: StdDev. x \n",
            "init\t [-2.10263037  0.31320838]\t 4.519153970964611\t 2.5824114132885994\t    \t    \n",
            "init\t [-3.15882714 -4.42470033]\t 29.556161939946307\t 2.5824114132885994\t    \t    \n",
            "init\t [2.93873111 1.60085526]\t 11.198878112253603\t 2.5824114132885994\t    \t    \n",
            "init\t [1.40821398 0.77417363]\t 2.5824114132885994\t 2.5824114132885994\t    \t    \n",
            "init\t [-4.71999574 -1.45598869]\t 24.39826283453718\t 2.5824114132885994\t    \t    \n",
            "1  \t [ 4.96008736 -4.44720822]\t 44.38012757656366\t 2.5824114132885994\t 3.2242163407014295\t 4.422016526816355\n",
            "2  \t [-1.21501884  5.12      ]\t 27.69067078656031\t 2.5824114132885994\t 3.198822377088879\t 3.299540615784581\n",
            "3  \t [5.12 5.12]\t 52.4288\t 2.5824114132885994\t 3.1955423300388612\t 3.4238397602609822\n",
            "4  \t [ 0.84862 -5.12   ]\t 26.934555911937373\t 2.5824114132885994\t 3.1096345501965867\t 3.5733087595406854\n",
            "5  \t [-4.75742074  2.79303524]\t 30.43409790449211\t 2.5824114132885994\t 2.617910357247507\t 3.1642494562797476\n",
            "6  \t [ 0.68245823 -1.6677864 ]\t 3.2472607048851176\t 2.5824114132885994\t 2.5872259559330906\t 2.6673078194729434\n",
            "7  \t [ 4.47625606 -0.48216844]\t 20.269354721402827\t 2.5824114132885994\t 2.741525577558552\t 2.321845423553491\n",
            "8  \t [1.934773 5.12    ]\t 29.957746546155924\t 2.5824114132885994\t 2.9689945801694013\t 3.045955230271956\n",
            "9  \t [-0.19091039  2.04562873]\t 4.221043678174097\t 2.5824114132885994\t 3.249141096028426\t 3.425843834098701\n",
            "10 \t [-0.99022726 -2.59416009]\t 7.710216569594099\t 2.5824114132885994\t 2.3830212970165876\t 2.571349802726245\n",
            "11 \t [ 2.77629254 -2.60161342]\t 14.476192612237512\t 2.5824114132885994\t 3.202844155402775\t 3.2746965316464443\n",
            "12 \t [-1.91667879  2.44305329]\t 9.642166978785445\t 2.5824114132885994\t 2.5798133675209636\t 2.638830940344394\n",
            "\u001b[1m\u001b[92m13\u001b[0m\t \u001b[1m\u001b[92m[-0.07340259 -0.18660725]\u001b[0m\t \u001b[1m\u001b[92m0.040210205596063704\u001b[0m\t \u001b[1m\u001b[92m0.040210205596063704\u001b[0m\t \u001b[1m\u001b[92m2.2944895023039464\u001b[0m\t \u001b[1m\u001b[92m2.6132555791486247\u001b[0m\n",
            "14 \t [5.09284111 2.5443094 ]\t 32.41054087119798\t 0.040210205596063704\t 2.5763799602859727\t 3.1333066981756086\n",
            "15 \t [0.90767932 3.01840354]\t 9.934641654198247\t 0.040210205596063704\t 2.4848748900788675\t 2.6814973795495285\n",
            "16 \t [-3.35864539  4.6834214 ]\t 33.21493489019238\t 0.040210205596063704\t 2.43025009025063\t 2.4867487689784222\n",
            "17 \t [-5.12       -3.68429738]\t 39.78844719490564\t 0.040210205596063704\t 2.5592598388436834\t 2.9727923640682943\n",
            "18 \t [-1.96089204 -1.36369923]\t 5.704773188642003\t 0.040210205596063704\t 2.6728446201117677\t 2.685730756679311\n",
            "19 \t [-3.5465257   0.64603753]\t 12.99520904651632\t 0.040210205596063704\t 2.478401547796018\t 2.7506123439169654\n",
            "20 \t [ 5.12      -2.3243782]\t 31.617134013029794\t 0.040210205596063704\t 2.8009198940429214\t 3.2341725037868274\n"
          ]
        }
      ],
      "source": [
        "### EXACT STP ERM GRADIENTS\n",
        "\n",
        "np.random.seed(run_num_17)\n",
        "surrogate_exact_17 = dtStudentProcess(cov_func, optimize=opt, nu = df)\n",
        "\n",
        "exact_17 = dGPGO(surrogate_exact_17, Acquisition_grad(util), objfunc, param)\n",
        "exact_17.run(init_evals=n_init, max_iter=iters)\n"
      ]
    },
    {
      "cell_type": "code",
      "execution_count": 51,
      "metadata": {
        "id": "eVEhyZ9BQS-1",
        "colab": {
          "base_uri": "https://localhost:8080/"
        },
        "outputId": "799f9c86-ca72-4516-b6bd-d496ebabc98e"
      },
      "outputs": [
        {
          "output_type": "stream",
          "name": "stdout",
          "text": [
            "Evaluation \t Proposed point \t  Current eval. \t  Best eval. \t        Exact ERM: StdDev. x \t Approx ERM: StdDev. x \n",
            "init\t [1.53983224 0.05584255]\t 2.3742017032787373\t 2.3742017032787373\t    \t    \n",
            "init\t [ 3.87687906 -3.25795609]\t 25.644469161882945\t 2.3742017032787373\t    \t    \n",
            "init\t [3.60686662 2.56139557]\t 19.570234102364928\t 2.3742017032787373\t    \t    \n",
            "init\t [1.70088108 4.99604939]\t 27.853505942237412\t 2.3742017032787373\t    \t    \n",
            "init\t [-2.48864335 -4.83014733]\t 29.523668919355142\t 2.3742017032787373\t    \t    \n",
            "1  \t [-5.00718904  2.9174042 ]\t 33.58318939621877\t 2.3742017032787373\t 3.0647282488550096\t 3.827695887001409\n",
            "2  \t [-2.20675571 -0.45198808]\t 5.074063988128159\t 2.3742017032787373\t 2.6600267767465655\t 2.52963910459379\n",
            "3  \t [-1.32510895  2.99279837]\t 10.71275581551618\t 2.3742017032787373\t 2.8542390396151016\t 3.048060261076258\n",
            "4  \t [-5.12       -2.04317506]\t 30.388964340026636\t 2.3742017032787373\t 3.1494569476005236\t 3.644860300465034\n",
            "5  \t [ 0.99052465 -5.12      ]\t 27.195539074612377\t 2.3742017032787373\t 2.8128661814425344\t 2.8816832474784175\n",
            "6  \t [5.12 5.12]\t 52.4288\t 2.3742017032787373\t 2.9094258447738293\t 2.972698020164046\n",
            "7  \t [ 0.11553196 -1.83210613]\t 3.369960492218884\t 2.3742017032787373\t 2.743552455657857\t 2.7680078985190275\n",
            "8  \t [-5.12 -5.12]\t 52.4288\t 2.3742017032787373\t 2.8063922466012787\t 3.3333368224860833\n",
            "9  \t [5.12       0.11040347]\t 26.226588925869656\t 2.3742017032787373\t 2.6316407284094443\t 2.726937711817021\n",
            "10 \t [-1.98517039  5.12      ]\t 30.15530147883375\t 2.3742017032787373\t 2.935699124065597\t 2.9076023210111983\n",
            "11 \t [0.87484061 1.93643121]\t 4.515111910920229\t 2.3742017032787373\t 2.7732990665873953\t 2.56237946546648\n",
            "\u001b[1m\u001b[92m12\u001b[0m\t \u001b[1m\u001b[92m[-0.38095661  0.3174344 ]\u001b[0m\t \u001b[1m\u001b[92m0.24589253458957216\u001b[0m\t \u001b[1m\u001b[92m0.24589253458957216\u001b[0m\t \u001b[1m\u001b[92m2.4868878926174607\u001b[0m\t \u001b[1m\u001b[92m2.297329292898543\u001b[0m\n",
            "13 \t [-1.6117116  -2.40780356]\t 8.395132270807617\t 0.24589253458957216\t 2.8099751477308805\t 2.5968527936973036\n",
            "14 \t [ 1.70669272 -1.18208864]\t 4.310133607948359\t 0.24589253458957216\t 2.0033088865366464\t 3.1834407705719023\n",
            "15 \t [-3.08799081  1.3318682 ]\t 11.309560149567107\t 0.24589253458957216\t 2.6410398002017157\t 2.6998814794452644\n",
            "16 \t [2.91958905 0.09499765]\t 8.53302476484866\t 0.24589253458957216\t 2.1203112997857008\t 2.7694494917666206\n",
            "17 \t [-5.12        0.41422793]\t 26.385984776635915\t 0.24589253458957216\t 3.261722640614676\t 3.1028119614719123\n",
            "18 \t [ 1.10350982 -2.81451248]\t 9.139214407210975\t 0.24589253458957216\t 3.0516494071222655\t 3.422030326029717\n",
            "19 \t [-0.44510158 -0.51358611]\t 0.4618861166079685\t 0.24589253458957216\t 2.4456212716445855\t 3.0011187119457245\n",
            "20 \t [-3.01117313  3.4430084 ]\t 20.921470469644916\t 0.24589253458957216\t 2.5463255959143885\t 2.9096319171069687\n"
          ]
        }
      ],
      "source": [
        "### EXACT STP ERM GRADIENTS\n",
        "\n",
        "np.random.seed(run_num_18)\n",
        "surrogate_exact_18 = dtStudentProcess(cov_func, optimize=opt, nu = df)\n",
        "\n",
        "exact_18 = dGPGO(surrogate_exact_18, Acquisition_grad(util), objfunc, param)\n",
        "exact_18.run(init_evals=n_init, max_iter=iters)\n"
      ]
    },
    {
      "cell_type": "code",
      "execution_count": 52,
      "metadata": {
        "id": "B6gTz1ojQUxn",
        "colab": {
          "base_uri": "https://localhost:8080/"
        },
        "outputId": "f704e919-b561-4648-fab4-d56017072183"
      },
      "outputs": [
        {
          "output_type": "stream",
          "name": "stdout",
          "text": [
            "Evaluation \t Proposed point \t  Current eval. \t  Best eval. \t        Exact ERM: StdDev. x \t Approx ERM: StdDev. x \n",
            "init\t [-4.12125592  2.6751971 ]\t 24.141429859518958\t 12.957869519084127\t    \t    \n",
            "init\t [-2.59135515 -3.70553152]\t 20.446085385698954\t 12.957869519084127\t    \t    \n",
            "init\t [-1.72598719 -4.27008445]\t 21.212653034418548\t 12.957869519084127\t    \t    \n",
            "init\t [1.76104531 3.13952049]\t 12.957869519084127\t 12.957869519084127\t    \t    \n",
            "init\t [4.9432772  1.38916592]\t 26.36577149009895\t 12.957869519084127\t    \t    \n",
            "1  \t [ 4.82679653 -3.73087378]\t 37.21738394868636\t 12.957869519084127\t 3.4677723307976427\t 4.449795157621861\n",
            "\u001b[1m\u001b[92m2\u001b[0m\t \u001b[1m\u001b[92m[-0.60688553 -0.01241979]\u001b[0m\t \u001b[1m\u001b[92m0.3684642928369959\u001b[0m\t \u001b[1m\u001b[92m0.3684642928369959\u001b[0m\t \u001b[1m\u001b[92m3.491081531990845\u001b[0m\t \u001b[1m\u001b[92m3.4539920049794564\u001b[0m\n",
            "3  \t [5.12 5.12]\t 52.4288\t 0.3684642928369959\t 3.2201662219530456\t 3.34769851441313\n",
            "4  \t [-5.12       -1.12553419]\t 27.48122720281075\t 0.3684642928369959\t 2.9787528737810076\t 3.056131817171266\n",
            "5  \t [ 1.46901482 -2.01462407]\t 6.216714710374064\t 0.3684642928369959\t 2.6797754651549854\t 2.419910560912169\n",
            "6  \t [-0.96355916  5.12      ]\t 27.14284625276245\t 0.3684642928369959\t 3.207679064629781\t 3.2084451660941826\n",
            "7  \t [-5.12 -5.12]\t 52.4288\t 0.3684642928369959\t 2.9851098952071236\t 3.4736362787530695\n",
            "8  \t [ 1.52305893 -5.12      ]\t 28.534108491056116\t 0.3684642928369959\t 2.474500734545083\t 2.8231139568607837\n",
            "9  \t [-0.74249048  1.87743524]\t 4.076055204852567\t 0.3684642928369959\t 2.2562479162674434\t 2.6220076852258005\n",
            "10 \t [1.64501931 0.41356435]\t 2.877124006409813\t 0.3684642928369959\t 2.6935249017936274\t 3.0804031220359183\n",
            "11 \t [-2.06339751 -0.92539079]\t 5.113957421400999\t 0.3684642928369959\t 2.3303047263789822\t 2.509949378507471\n",
            "12 \t [ 3.79613112 -1.11823358]\t 15.661057819525478\t 0.3684642928369959\t 2.7053526855064103\t 2.9437238084960478\n",
            "13 \t [2.13337555 5.12      ]\t 30.76569123365459\t 0.3684642928369959\t 2.802302101213474\t 2.570408512124053\n",
            "14 \t [-2.36449891  0.84776972]\t 6.309568581655128\t 0.3684642928369959\t 2.2686369975077945\t 2.319853238025045\n",
            "15 \t [-3.39740118  4.98505253]\t 36.39308350723162\t 0.3684642928369959\t 2.8096535793810076\t 2.6073496363778346\n",
            "16 \t [-0.15621733 -1.92546923]\t 3.7318355953111846\t 0.3684642928369959\t 2.610911037646926\t 2.5383311285611487\n",
            "17 \t [0.58861525 1.595303  ]\t 2.8914595867555306\t 0.3684642928369959\t 2.576208414582266\t 2.7209077842305183\n",
            "18 \t [0.01304764 2.95982917]\t 8.760758977292339\t 0.3684642928369959\t 2.7508822986089383\t 2.612198689025616\n",
            "19 \t [ 2.7579122  -3.38475591]\t 19.062652246776562\t 0.3684642928369959\t 2.43044536232211\t 2.5776064714719706\n",
            "20 \t [-4.86851162 -0.68360648]\t 24.169723237973468\t 0.3684642928369959\t 2.789034293713628\t 2.789034293713628\n"
          ]
        }
      ],
      "source": [
        "### EXACT STP ERM GRADIENTS\n",
        "\n",
        "np.random.seed(run_num_19)\n",
        "surrogate_exact_19 = dtStudentProcess(cov_func, optimize=opt, nu = df)\n",
        "\n",
        "exact_19 = dGPGO(surrogate_exact_19, Acquisition_grad(util), objfunc, param)\n",
        "exact_19.run(init_evals=n_init, max_iter=iters)\n"
      ]
    },
    {
      "cell_type": "code",
      "execution_count": 53,
      "metadata": {
        "id": "aw3xvSryIwDi",
        "colab": {
          "base_uri": "https://localhost:8080/"
        },
        "outputId": "6c5d0e02-96e6-484b-eade-24e3f073a37e"
      },
      "outputs": [
        {
          "output_type": "stream",
          "name": "stdout",
          "text": [
            "Evaluation \t Proposed point \t  Current eval. \t  Best eval. \t        Exact ERM: StdDev. x \t Approx ERM: StdDev. x \n",
            "init\t [0.9024594  4.07258857]\t 17.400410665504328\t 1.579257056101869\t    \t    \n",
            "init\t [4.00927467 3.23417577]\t 26.53417627399789\t 1.579257056101869\t    \t    \n",
            "init\t [-4.75249064  1.96359764]\t 26.44188299535699\t 1.579257056101869\t    \t    \n",
            "init\t [-1.24230715  0.18955208]\t 1.579257056101869\t 1.579257056101869\t    \t    \n",
            "init\t [ 1.61742301 -3.13497377]\t 12.44411771617229\t 1.579257056101869\t    \t    \n",
            "1  \t [-3.37614778 -5.12      ]\t 37.61277384911143\t 1.579257056101869\t 2.6354560435771197\t 3.2104962422189427\n",
            "2  \t [ 5.12     -1.046507]\t 27.309576911377928\t 1.579257056101869\t 2.7012396647436026\t 3.5180975802177934\n",
            "3  \t [-2.33560207  4.68357675]\t 27.390928216566184\t 1.579257056101869\t 2.9049747193042657\t 2.9411163467049684\n",
            "4  \t [0.31151118 1.39789693]\t 2.05115503500473\t 1.579257056101869\t 3.302889146519711\t 3.5439383357543845\n",
            "5  \t [-2.86456243 -1.67167433]\t 11.000213008168489\t 1.579257056101869\t 2.861737788558655\t 3.2443656314234786\n",
            "6  \t [ 4.42228134 -4.70386938]\t 41.68295940044668\t 1.579257056101869\t 3.2471719204152665\t 4.04800653531217\n",
            "7  \t [-0.14761972 -5.12      ]\t 26.236191582775433\t 1.579257056101869\t 3.6297757482587856\t 3.714370267060166\n",
            "8  \t [2.25612196 0.32831474]\t 5.1978768579025045\t 1.579257056101869\t 3.0467174641075623\t 2.7867422168634306\n",
            "9  \t [-5.12       -2.50035615]\t 32.46618086287432\t 1.579257056101869\t 2.979139516385831\t 2.9943960636029043\n",
            "\u001b[1m\u001b[92m10\u001b[0m\t \u001b[1m\u001b[92m[ 0.00261877 -1.22572439]\u001b[0m\t \u001b[1m\u001b[92m1.5024071458790873\u001b[0m\t \u001b[1m\u001b[92m1.5024071458790873\u001b[0m\t \u001b[1m\u001b[92m2.7689731325601175\u001b[0m\t \u001b[1m\u001b[92m2.8698736752927125\u001b[0m\n",
            "11 \t [-1.72869433  2.01861852]\t 7.063204839932517\t 1.5024071458790873\t 3.085943401053979\t 3.0430772057206656\n",
            "12 \t [5.12 5.12]\t 52.4288\t 1.5024071458790873\t 3.0249375053979084\t 3.034876268999859\n",
            "13 \t [-0.93073655 -2.68299444]\t 8.064729668862334\t 1.5024071458790873\t 2.7013933428396677\t 3.5490395363014167\n",
            "\u001b[1m\u001b[92m14\u001b[0m\t \u001b[1m\u001b[92m[ 0.57246878 -0.07157303]\u001b[0m\t \u001b[1m\u001b[92m0.33284320300165005\u001b[0m\t \u001b[1m\u001b[92m0.33284320300165005\u001b[0m\t \u001b[1m\u001b[92m2.751606491694048\u001b[0m\t \u001b[1m\u001b[92m2.9121523079058136\u001b[0m\n",
            "15 \t [ 1.70261956 -1.13426157]\t 4.185462663484457\t 0.33284320300165005\t 2.3932698332708324\t 2.6774185492889195\n",
            "16 \t [5.12       1.30497998]\t 27.91737275623092\t 0.33284320300165005\t 2.45268393710503\t 2.6884071636646043\n",
            "17 \t [-3.11597134  0.49485909]\t 9.954162877115644\t 0.33284320300165005\t 2.542547854880708\t 2.702305218953839\n",
            "18 \t [2.75318087 5.12      ]\t 33.79440491677847\t 0.33284320300165005\t 3.088673827435774\t 3.31420394640436\n",
            "19 \t [-4.52857844  4.2369931 ]\t 38.460133225020115\t 0.33284320300165005\t 3.0292065599607674\t 3.512290889792536\n",
            "20 \t [2.0426814  1.81459826]\t 7.465314133440804\t 0.33284320300165005\t 2.5567475383932305\t 2.5650022262497383\n"
          ]
        }
      ],
      "source": [
        "### EXACT STP ERM GRADIENTS\n",
        "\n",
        "np.random.seed(run_num_20)\n",
        "surrogate_exact_20 = dtStudentProcess(cov_func, optimize=opt, nu = df)\n",
        "\n",
        "exact_20 = dGPGO(surrogate_exact_20, Acquisition_grad(util), objfunc, param)\n",
        "exact_20.run(init_evals=n_init, max_iter=iters)\n"
      ]
    },
    {
      "cell_type": "code",
      "execution_count": 54,
      "metadata": {
        "id": "5c8szjivRPme",
        "colab": {
          "base_uri": "https://localhost:8080/"
        },
        "outputId": "1f6d98ad-3cac-4349-fd9a-18ac9cdb2e6a"
      },
      "outputs": [
        {
          "output_type": "execute_result",
          "data": {
            "text/plain": [
              "1613.6628093719482"
            ]
          },
          "metadata": {},
          "execution_count": 54
        }
      ],
      "source": [
        "end_exact = time.time()\n",
        "end_exact\n",
        "\n",
        "time_exact = end_exact - start_exact\n",
        "time_exact\n"
      ]
    },
    {
      "cell_type": "code",
      "execution_count": 55,
      "metadata": {
        "id": "f6gCKnp6RR8c",
        "colab": {
          "base_uri": "https://localhost:8080/"
        },
        "outputId": "c40f649a-a8cc-40da-872c-31a4d13d1074"
      },
      "outputs": [
        {
          "output_type": "execute_result",
          "data": {
            "text/plain": [
              "(-1.6704370676187903, -1.2888283089971642)"
            ]
          },
          "metadata": {},
          "execution_count": 55
        }
      ],
      "source": [
        "### Simple regret minimization: run number = 1\n",
        "\n",
        "approx_output_1 = np.append(np.min(-approx_1.GP.y[0:n_init]),-approx_1.GP.y[n_init:(n_init+iters)]) \n",
        "exact_output_1 = np.append(np.min(-exact_1.GP.y[0:n_init]),-exact_1.GP.y[n_init:(n_init+iters)]) \n",
        "\n",
        "regret_approx_1 = np.log(approx_output_1 - y_global_orig)\n",
        "regret_exact_1 = np.log(exact_output_1 - y_global_orig)\n",
        "\n",
        "simple_regret_approx_1 = min_max_array(regret_approx_1)\n",
        "simple_regret_exact_1 = min_max_array(regret_exact_1)\n",
        "\n",
        "min_simple_regret_approx_1 = min(simple_regret_approx_1)\n",
        "min_simple_regret_exact_1 = min(simple_regret_exact_1)\n",
        "\n",
        "min_simple_regret_approx_1, min_simple_regret_exact_1\n"
      ]
    },
    {
      "cell_type": "code",
      "execution_count": 56,
      "metadata": {
        "id": "94yBw5tqQxfk",
        "colab": {
          "base_uri": "https://localhost:8080/"
        },
        "outputId": "aeedfd5e-2a3d-4844-ebe6-2450794268c2"
      },
      "outputs": [
        {
          "output_type": "execute_result",
          "data": {
            "text/plain": [
              "(-0.36060216392451794, -0.36060216392451794)"
            ]
          },
          "metadata": {},
          "execution_count": 56
        }
      ],
      "source": [
        "### Simple regret minimization: run number = 2\n",
        "\n",
        "approx_output_2 = np.append(np.min(-approx_2.GP.y[0:n_init]),-approx_2.GP.y[n_init:(n_init+iters)]) \n",
        "exact_output_2 = np.append(np.min(-exact_2.GP.y[0:n_init]),-exact_2.GP.y[n_init:(n_init+iters)]) \n",
        "\n",
        "regret_approx_2 = np.log(approx_output_2 - y_global_orig)\n",
        "regret_exact_2 = np.log(exact_output_2 - y_global_orig)\n",
        "\n",
        "simple_regret_approx_2 = min_max_array(regret_approx_2)\n",
        "simple_regret_exact_2 = min_max_array(regret_exact_2)\n",
        "\n",
        "min_simple_regret_approx_2 = min(simple_regret_approx_2)\n",
        "min_simple_regret_exact_2 = min(simple_regret_exact_2)\n",
        "\n",
        "min_simple_regret_approx_2, min_simple_regret_exact_2\n"
      ]
    },
    {
      "cell_type": "code",
      "execution_count": 57,
      "metadata": {
        "id": "Bu6SBWALQxfl",
        "colab": {
          "base_uri": "https://localhost:8080/"
        },
        "outputId": "db0c82cc-8ec8-45b2-b535-b7139d665f38"
      },
      "outputs": [
        {
          "output_type": "execute_result",
          "data": {
            "text/plain": [
              "(-2.62834787098558, -1.3479404718256287)"
            ]
          },
          "metadata": {},
          "execution_count": 57
        }
      ],
      "source": [
        "### Simple regret minimization: run number = 3\n",
        "\n",
        "approx_output_3 = np.append(np.min(-approx_3.GP.y[0:n_init]),-approx_3.GP.y[n_init:(n_init+iters)]) \n",
        "exact_output_3 = np.append(np.min(-exact_3.GP.y[0:n_init]),-exact_3.GP.y[n_init:(n_init+iters)]) \n",
        "\n",
        "regret_approx_3 = np.log(approx_output_3 - y_global_orig)\n",
        "regret_exact_3 = np.log(exact_output_3 - y_global_orig)\n",
        "\n",
        "simple_regret_approx_3 = min_max_array(regret_approx_3)\n",
        "simple_regret_exact_3 = min_max_array(regret_exact_3)\n",
        "\n",
        "min_simple_regret_approx_3 = min(simple_regret_approx_3)\n",
        "min_simple_regret_exact_3 = min(simple_regret_exact_3)\n",
        "\n",
        "min_simple_regret_approx_3, min_simple_regret_exact_3"
      ]
    },
    {
      "cell_type": "code",
      "execution_count": 58,
      "metadata": {
        "id": "AZm0jgxkQxfm",
        "colab": {
          "base_uri": "https://localhost:8080/"
        },
        "outputId": "99d92fdf-f472-485d-d5d6-d4edc3440713"
      },
      "outputs": [
        {
          "output_type": "execute_result",
          "data": {
            "text/plain": [
              "(-0.6593206360522711, -0.8361431799548155)"
            ]
          },
          "metadata": {},
          "execution_count": 58
        }
      ],
      "source": [
        "### Simple regret minimization: run number = 4\n",
        "\n",
        "approx_output_4 = np.append(np.min(-approx_4.GP.y[0:n_init]),-approx_4.GP.y[n_init:(n_init+iters)]) \n",
        "exact_output_4 = np.append(np.min(-exact_4.GP.y[0:n_init]),-exact_4.GP.y[n_init:(n_init+iters)]) \n",
        "\n",
        "regret_approx_4 = np.log(approx_output_4 - y_global_orig)\n",
        "regret_exact_4 = np.log(exact_output_4 - y_global_orig)\n",
        "\n",
        "simple_regret_approx_4 = min_max_array(regret_approx_4)\n",
        "simple_regret_exact_4 = min_max_array(regret_exact_4)\n",
        "\n",
        "min_simple_regret_approx_4 = min(simple_regret_approx_4)\n",
        "min_simple_regret_exact_4 = min(simple_regret_exact_4)\n",
        "\n",
        "min_simple_regret_approx_4, min_simple_regret_exact_4"
      ]
    },
    {
      "cell_type": "code",
      "execution_count": 59,
      "metadata": {
        "id": "NONPm8JIQxfn",
        "colab": {
          "base_uri": "https://localhost:8080/"
        },
        "outputId": "fa57c518-9dd6-48f9-b3f9-4531874ddf59"
      },
      "outputs": [
        {
          "output_type": "execute_result",
          "data": {
            "text/plain": [
              "(-0.8985982935969501, -0.8019350841750703)"
            ]
          },
          "metadata": {},
          "execution_count": 59
        }
      ],
      "source": [
        "### Simple regret minimization: run number = 5\n",
        "\n",
        "approx_output_5 = np.append(np.min(-approx_5.GP.y[0:n_init]),-approx_5.GP.y[n_init:(n_init+iters)]) \n",
        "exact_output_5 = np.append(np.min(-exact_5.GP.y[0:n_init]),-exact_5.GP.y[n_init:(n_init+iters)]) \n",
        "\n",
        "regret_approx_5 = np.log(approx_output_5 - y_global_orig)\n",
        "regret_exact_5 = np.log(exact_output_5 - y_global_orig)\n",
        "\n",
        "simple_regret_approx_5 = min_max_array(regret_approx_5)\n",
        "simple_regret_exact_5 = min_max_array(regret_exact_5)\n",
        "\n",
        "min_simple_regret_approx_5 = min(simple_regret_approx_5)\n",
        "min_simple_regret_exact_5 = min(simple_regret_exact_5)\n",
        "\n",
        "min_simple_regret_approx_5, min_simple_regret_exact_5"
      ]
    },
    {
      "cell_type": "code",
      "execution_count": 60,
      "metadata": {
        "id": "CJv3lPuSQxfp",
        "colab": {
          "base_uri": "https://localhost:8080/"
        },
        "outputId": "12647471-7ea3-4df7-e764-6512ab12d86b"
      },
      "outputs": [
        {
          "output_type": "execute_result",
          "data": {
            "text/plain": [
              "(-1.5003690094538933, -0.7779553381041442)"
            ]
          },
          "metadata": {},
          "execution_count": 60
        }
      ],
      "source": [
        "### Simple regret minimization: run number = 6\n",
        "\n",
        "approx_output_6 = np.append(np.min(-approx_6.GP.y[0:n_init]),-approx_6.GP.y[n_init:(n_init+iters)]) \n",
        "exact_output_6 = np.append(np.min(-exact_6.GP.y[0:n_init]),-exact_6.GP.y[n_init:(n_init+iters)]) \n",
        "\n",
        "regret_approx_6 = np.log(approx_output_6 - y_global_orig)\n",
        "regret_exact_6 = np.log(exact_output_6 - y_global_orig)\n",
        "\n",
        "simple_regret_approx_6 = min_max_array(regret_approx_6)\n",
        "simple_regret_exact_6 = min_max_array(regret_exact_6)\n",
        "\n",
        "min_simple_regret_approx_6 = min(simple_regret_approx_6)\n",
        "min_simple_regret_exact_6 = min(simple_regret_exact_6)\n",
        "\n",
        "min_simple_regret_approx_6, min_simple_regret_exact_6"
      ]
    },
    {
      "cell_type": "code",
      "execution_count": 61,
      "metadata": {
        "id": "quR2ZyApQxfq",
        "colab": {
          "base_uri": "https://localhost:8080/"
        },
        "outputId": "b8680b84-2fa5-4623-9c44-f5c1f685bc36"
      },
      "outputs": [
        {
          "output_type": "execute_result",
          "data": {
            "text/plain": [
              "(-1.9332838748776053, -1.1919756736498384)"
            ]
          },
          "metadata": {},
          "execution_count": 61
        }
      ],
      "source": [
        "### Simple regret minimization: run number = 7\n",
        "\n",
        "approx_output_7 = np.append(np.min(-approx_7.GP.y[0:n_init]),-approx_7.GP.y[n_init:(n_init+iters)]) \n",
        "exact_output_7 = np.append(np.min(-exact_7.GP.y[0:n_init]),-exact_7.GP.y[n_init:(n_init+iters)]) \n",
        "\n",
        "regret_approx_7 = np.log(approx_output_7 - y_global_orig)\n",
        "regret_exact_7 = np.log(exact_output_7 - y_global_orig)\n",
        "\n",
        "simple_regret_approx_7 = min_max_array(regret_approx_7)\n",
        "simple_regret_exact_7 = min_max_array(regret_exact_7)\n",
        "\n",
        "min_simple_regret_approx_7 = min(simple_regret_approx_7)\n",
        "min_simple_regret_exact_7 = min(simple_regret_exact_7)\n",
        "\n",
        "min_simple_regret_approx_7, min_simple_regret_exact_7"
      ]
    },
    {
      "cell_type": "code",
      "execution_count": 62,
      "metadata": {
        "id": "99wY5nK6Qxfr",
        "colab": {
          "base_uri": "https://localhost:8080/"
        },
        "outputId": "7eb5f404-9324-4482-9544-cd87f945e789"
      },
      "outputs": [
        {
          "output_type": "execute_result",
          "data": {
            "text/plain": [
              "(-2.274278581868741, -2.274278581868741)"
            ]
          },
          "metadata": {},
          "execution_count": 62
        }
      ],
      "source": [
        "### Simple regret minimization: run number = 8\n",
        "\n",
        "approx_output_8 = np.append(np.min(-approx_8.GP.y[0:n_init]),-approx_8.GP.y[n_init:(n_init+iters)]) \n",
        "exact_output_8 = np.append(np.min(-exact_8.GP.y[0:n_init]),-exact_8.GP.y[n_init:(n_init+iters)]) \n",
        "\n",
        "regret_approx_8 = np.log(approx_output_8 - y_global_orig)\n",
        "regret_exact_8 = np.log(exact_output_8 - y_global_orig)\n",
        "\n",
        "simple_regret_approx_8 = min_max_array(regret_approx_8)\n",
        "simple_regret_exact_8 = min_max_array(regret_exact_8)\n",
        "\n",
        "min_simple_regret_approx_8 = min(simple_regret_approx_8)\n",
        "min_simple_regret_exact_8 = min(simple_regret_exact_8)\n",
        "\n",
        "min_simple_regret_approx_8, min_simple_regret_exact_8"
      ]
    },
    {
      "cell_type": "code",
      "execution_count": 63,
      "metadata": {
        "id": "qt0P5t9qQxfs",
        "colab": {
          "base_uri": "https://localhost:8080/"
        },
        "outputId": "1f1b9127-b7b3-4aeb-a054-29aa7bb4f4df"
      },
      "outputs": [
        {
          "output_type": "execute_result",
          "data": {
            "text/plain": [
              "(-1.63987986627332, -0.879245446393952)"
            ]
          },
          "metadata": {},
          "execution_count": 63
        }
      ],
      "source": [
        "### Simple regret minimization: run number = 9\n",
        "\n",
        "approx_output_9 = np.append(np.min(-approx_9.GP.y[0:n_init]),-approx_9.GP.y[n_init:(n_init+iters)]) \n",
        "exact_output_9 = np.append(np.min(-exact_9.GP.y[0:n_init]),-exact_9.GP.y[n_init:(n_init+iters)]) \n",
        "\n",
        "regret_approx_9 = np.log(approx_output_9 - y_global_orig)\n",
        "regret_exact_9 = np.log(exact_output_9 - y_global_orig)\n",
        "\n",
        "simple_regret_approx_9 = min_max_array(regret_approx_9)\n",
        "simple_regret_exact_9 = min_max_array(regret_exact_9)\n",
        "\n",
        "min_simple_regret_approx_9 = min(simple_regret_approx_9)\n",
        "min_simple_regret_exact_9 = min(simple_regret_exact_9)\n",
        "\n",
        "min_simple_regret_approx_9, min_simple_regret_exact_9"
      ]
    },
    {
      "cell_type": "code",
      "execution_count": 64,
      "metadata": {
        "id": "vx8to9stQxft",
        "colab": {
          "base_uri": "https://localhost:8080/"
        },
        "outputId": "64577d5c-469c-4042-fa71-d34cd762f0ce"
      },
      "outputs": [
        {
          "output_type": "execute_result",
          "data": {
            "text/plain": [
              "(-0.6027382421926577, -4.526034129073443)"
            ]
          },
          "metadata": {},
          "execution_count": 64
        }
      ],
      "source": [
        "### Simple regret minimization: run number = 10\n",
        "\n",
        "approx_output_10 = np.append(np.min(-approx_10.GP.y[0:n_init]),-approx_10.GP.y[n_init:(n_init+iters)]) \n",
        "exact_output_10 = np.append(np.min(-exact_10.GP.y[0:n_init]),-exact_10.GP.y[n_init:(n_init+iters)]) \n",
        "\n",
        "regret_approx_10 = np.log(approx_output_10 - y_global_orig)\n",
        "regret_exact_10 = np.log(exact_output_10 - y_global_orig)\n",
        "\n",
        "simple_regret_approx_10 = min_max_array(regret_approx_10)\n",
        "simple_regret_exact_10 = min_max_array(regret_exact_10)\n",
        "\n",
        "min_simple_regret_approx_10 = min(simple_regret_approx_10)\n",
        "min_simple_regret_exact_10 = min(simple_regret_exact_10)\n",
        "\n",
        "min_simple_regret_approx_10, min_simple_regret_exact_10"
      ]
    },
    {
      "cell_type": "code",
      "execution_count": 65,
      "metadata": {
        "id": "d-FGzWyHQxfu",
        "colab": {
          "base_uri": "https://localhost:8080/"
        },
        "outputId": "ff6e77b1-4e73-4f2c-a00c-b0cf12c9bf28"
      },
      "outputs": [
        {
          "output_type": "execute_result",
          "data": {
            "text/plain": [
              "(-0.5558642883697589, -0.5716565465270187)"
            ]
          },
          "metadata": {},
          "execution_count": 65
        }
      ],
      "source": [
        "### Simple regret minimization: run number = 11\n",
        "\n",
        "approx_output_11 = np.append(np.min(-approx_11.GP.y[0:n_init]),-approx_11.GP.y[n_init:(n_init+iters)]) \n",
        "exact_output_11 = np.append(np.min(-exact_11.GP.y[0:n_init]),-exact_11.GP.y[n_init:(n_init+iters)]) \n",
        "\n",
        "regret_approx_11 = np.log(approx_output_11 - y_global_orig)\n",
        "regret_exact_11 = np.log(exact_output_11 - y_global_orig)\n",
        "\n",
        "simple_regret_approx_11 = min_max_array(regret_approx_11)\n",
        "simple_regret_exact_11 = min_max_array(regret_exact_11)\n",
        "\n",
        "min_simple_regret_approx_11 = min(simple_regret_approx_11)\n",
        "min_simple_regret_exact_11 = min(simple_regret_exact_11)\n",
        "\n",
        "min_simple_regret_approx_11, min_simple_regret_exact_11"
      ]
    },
    {
      "cell_type": "code",
      "execution_count": 66,
      "metadata": {
        "id": "SvtsssyjQxfv",
        "colab": {
          "base_uri": "https://localhost:8080/"
        },
        "outputId": "7615cc52-f997-4421-ec95-5fe23879a523"
      },
      "outputs": [
        {
          "output_type": "execute_result",
          "data": {
            "text/plain": [
              "(-4.053152582814311, -0.8632398466418157)"
            ]
          },
          "metadata": {},
          "execution_count": 66
        }
      ],
      "source": [
        "### Simple regret minimization: run number = 12\n",
        "\n",
        "approx_output_12 = np.append(np.min(-approx_12.GP.y[0:n_init]),-approx_12.GP.y[n_init:(n_init+iters)]) \n",
        "exact_output_12 = np.append(np.min(-exact_12.GP.y[0:n_init]),-exact_12.GP.y[n_init:(n_init+iters)]) \n",
        "\n",
        "regret_approx_12 = np.log(approx_output_12 - y_global_orig)\n",
        "regret_exact_12 = np.log(exact_output_12 - y_global_orig)\n",
        "\n",
        "simple_regret_approx_12 = min_max_array(regret_approx_12)\n",
        "simple_regret_exact_12 = min_max_array(regret_exact_12)\n",
        "\n",
        "min_simple_regret_approx_12 = min(simple_regret_approx_12)\n",
        "min_simple_regret_exact_12 = min(simple_regret_exact_12)\n",
        "\n",
        "min_simple_regret_approx_12, min_simple_regret_exact_12"
      ]
    },
    {
      "cell_type": "code",
      "execution_count": 67,
      "metadata": {
        "id": "K6OiGcHkQxfw",
        "colab": {
          "base_uri": "https://localhost:8080/"
        },
        "outputId": "e93d231a-bff4-4121-9245-a108c924b21f"
      },
      "outputs": [
        {
          "output_type": "execute_result",
          "data": {
            "text/plain": [
              "(-0.625105699377966, -1.2235302589023542)"
            ]
          },
          "metadata": {},
          "execution_count": 67
        }
      ],
      "source": [
        "### Simple regret minimization: run number = 13\n",
        "\n",
        "approx_output_13 = np.append(np.min(-approx_13.GP.y[0:n_init]),-approx_13.GP.y[n_init:(n_init+iters)]) \n",
        "exact_output_13 = np.append(np.min(-exact_13.GP.y[0:n_init]),-exact_13.GP.y[n_init:(n_init+iters)]) \n",
        "\n",
        "regret_approx_13 = np.log(approx_output_13 - y_global_orig)\n",
        "regret_exact_13 = np.log(exact_output_13 - y_global_orig)\n",
        "\n",
        "simple_regret_approx_13 = min_max_array(regret_approx_13)\n",
        "simple_regret_exact_13 = min_max_array(regret_exact_13)\n",
        "\n",
        "min_simple_regret_approx_13 = min(simple_regret_approx_13)\n",
        "min_simple_regret_exact_13 = min(simple_regret_exact_13)\n",
        "\n",
        "min_simple_regret_approx_13, min_simple_regret_exact_13"
      ]
    },
    {
      "cell_type": "code",
      "execution_count": 68,
      "metadata": {
        "id": "ogML73shQxfx",
        "colab": {
          "base_uri": "https://localhost:8080/"
        },
        "outputId": "4c3ed780-5fdc-43f7-f869-686d0fdaecb1"
      },
      "outputs": [
        {
          "output_type": "execute_result",
          "data": {
            "text/plain": [
              "(-2.1413619951284004, -2.8247692830601854)"
            ]
          },
          "metadata": {},
          "execution_count": 68
        }
      ],
      "source": [
        "### Simple regret minimization: run number = 14\n",
        "\n",
        "approx_output_14 = np.append(np.min(-approx_14.GP.y[0:n_init]),-approx_14.GP.y[n_init:(n_init+iters)]) \n",
        "exact_output_14 = np.append(np.min(-exact_14.GP.y[0:n_init]),-exact_14.GP.y[n_init:(n_init+iters)]) \n",
        "\n",
        "regret_approx_14 = np.log(approx_output_14 - y_global_orig)\n",
        "regret_exact_14 = np.log(exact_output_14 - y_global_orig)\n",
        "\n",
        "simple_regret_approx_14 = min_max_array(regret_approx_14)\n",
        "simple_regret_exact_14 = min_max_array(regret_exact_14)\n",
        "\n",
        "min_simple_regret_approx_14 = min(simple_regret_approx_14)\n",
        "min_simple_regret_exact_14 = min(simple_regret_exact_14)\n",
        "\n",
        "min_simple_regret_approx_14, min_simple_regret_exact_14"
      ]
    },
    {
      "cell_type": "code",
      "execution_count": 69,
      "metadata": {
        "id": "9Eg7gFT9Qxfx",
        "colab": {
          "base_uri": "https://localhost:8080/"
        },
        "outputId": "fc5f67c2-0b15-4b44-b925-3a57d82ff6e3"
      },
      "outputs": [
        {
          "output_type": "execute_result",
          "data": {
            "text/plain": [
              "(-1.3090912271470996, -2.0814921574814775)"
            ]
          },
          "metadata": {},
          "execution_count": 69
        }
      ],
      "source": [
        "### Simple regret minimization: run number = 15\n",
        "\n",
        "approx_output_15 = np.append(np.min(-approx_15.GP.y[0:n_init]),-approx_15.GP.y[n_init:(n_init+iters)]) \n",
        "exact_output_15 = np.append(np.min(-exact_15.GP.y[0:n_init]),-exact_15.GP.y[n_init:(n_init+iters)]) \n",
        "\n",
        "regret_approx_15 = np.log(approx_output_15 - y_global_orig)\n",
        "regret_exact_15 = np.log(exact_output_15 - y_global_orig)\n",
        "\n",
        "simple_regret_approx_15 = min_max_array(regret_approx_15)\n",
        "simple_regret_exact_15 = min_max_array(regret_exact_15)\n",
        "\n",
        "min_simple_regret_approx_15 = min(simple_regret_approx_15)\n",
        "min_simple_regret_exact_15 = min(simple_regret_exact_15)\n",
        "\n",
        "min_simple_regret_approx_15, min_simple_regret_exact_15"
      ]
    },
    {
      "cell_type": "code",
      "execution_count": 70,
      "metadata": {
        "id": "lIAC1U7ZQxfy",
        "colab": {
          "base_uri": "https://localhost:8080/"
        },
        "outputId": "9b13fb13-e850-4c2a-adcc-0959cfde8b50"
      },
      "outputs": [
        {
          "output_type": "execute_result",
          "data": {
            "text/plain": [
              "(-0.7398452251243055, -0.735802972517695)"
            ]
          },
          "metadata": {},
          "execution_count": 70
        }
      ],
      "source": [
        "### Simple regret minimization: run number = 16\n",
        "\n",
        "approx_output_16 = np.append(np.min(-approx_16.GP.y[0:n_init]),-approx_16.GP.y[n_init:(n_init+iters)]) \n",
        "exact_output_16 = np.append(np.min(-exact_16.GP.y[0:n_init]),-exact_16.GP.y[n_init:(n_init+iters)]) \n",
        "\n",
        "regret_approx_16 = np.log(approx_output_16 - y_global_orig)\n",
        "regret_exact_16 = np.log(exact_output_16 - y_global_orig)\n",
        "\n",
        "simple_regret_approx_16 = min_max_array(regret_approx_16)\n",
        "simple_regret_exact_16 = min_max_array(regret_exact_16)\n",
        "\n",
        "min_simple_regret_approx_16 = min(simple_regret_approx_16)\n",
        "min_simple_regret_exact_16 = min(simple_regret_exact_16)\n",
        "\n",
        "min_simple_regret_approx_16, min_simple_regret_exact_16"
      ]
    },
    {
      "cell_type": "code",
      "execution_count": 71,
      "metadata": {
        "id": "bGott36OQxfz",
        "colab": {
          "base_uri": "https://localhost:8080/"
        },
        "outputId": "96fe1a67-bcce-427d-e5c1-c7f49c062eb1"
      },
      "outputs": [
        {
          "output_type": "execute_result",
          "data": {
            "text/plain": [
              "(-3.2608831863942345, -3.213634445027988)"
            ]
          },
          "metadata": {},
          "execution_count": 71
        }
      ],
      "source": [
        "### Simple regret minimization: run number = 17\n",
        "\n",
        "approx_output_17 = np.append(np.min(-approx_17.GP.y[0:n_init]),-approx_17.GP.y[n_init:(n_init+iters)]) \n",
        "exact_output_17 = np.append(np.min(-exact_17.GP.y[0:n_init]),-exact_17.GP.y[n_init:(n_init+iters)]) \n",
        "\n",
        "regret_approx_17 = np.log(approx_output_17 - y_global_orig)\n",
        "regret_exact_17 = np.log(exact_output_17 - y_global_orig)\n",
        "\n",
        "simple_regret_approx_17 = min_max_array(regret_approx_17)\n",
        "simple_regret_exact_17 = min_max_array(regret_exact_17)\n",
        "\n",
        "min_simple_regret_approx_17 = min(simple_regret_approx_17)\n",
        "min_simple_regret_exact_17 = min(simple_regret_exact_17)\n",
        "\n",
        "min_simple_regret_approx_17, min_simple_regret_exact_17"
      ]
    },
    {
      "cell_type": "code",
      "execution_count": 72,
      "metadata": {
        "id": "Cz9ZYMBMQxfz",
        "colab": {
          "base_uri": "https://localhost:8080/"
        },
        "outputId": "9d0c7b82-921d-490a-8df2-2e6983f62428"
      },
      "outputs": [
        {
          "output_type": "execute_result",
          "data": {
            "text/plain": [
              "(-2.7062641085714114, -1.402860689758987)"
            ]
          },
          "metadata": {},
          "execution_count": 72
        }
      ],
      "source": [
        "### Simple regret minimization: run number = 18\n",
        "\n",
        "approx_output_18 = np.append(np.min(-approx_18.GP.y[0:n_init]),-approx_18.GP.y[n_init:(n_init+iters)]) \n",
        "exact_output_18 = np.append(np.min(-exact_18.GP.y[0:n_init]),-exact_18.GP.y[n_init:(n_init+iters)]) \n",
        "\n",
        "regret_approx_18 = np.log(approx_output_18 - y_global_orig)\n",
        "regret_exact_18 = np.log(exact_output_18 - y_global_orig)\n",
        "\n",
        "simple_regret_approx_18 = min_max_array(regret_approx_18)\n",
        "simple_regret_exact_18 = min_max_array(regret_exact_18)\n",
        "\n",
        "min_simple_regret_approx_18 = min(simple_regret_approx_18)\n",
        "min_simple_regret_exact_18 = min(simple_regret_exact_18)\n",
        "\n",
        "min_simple_regret_approx_18, min_simple_regret_exact_18"
      ]
    },
    {
      "cell_type": "code",
      "execution_count": 73,
      "metadata": {
        "id": "OBfpWOHNQxf0",
        "colab": {
          "base_uri": "https://localhost:8080/"
        },
        "outputId": "fe12685a-ff06-4ec8-94e9-bb495d2ed1e1"
      },
      "outputs": [
        {
          "output_type": "execute_result",
          "data": {
            "text/plain": [
              "(-1.9786638123627405, -0.9984114707261632)"
            ]
          },
          "metadata": {},
          "execution_count": 73
        }
      ],
      "source": [
        "### Simple regret minimization: run number = 19\n",
        "\n",
        "approx_output_19 = np.append(np.min(-approx_19.GP.y[0:n_init]),-approx_19.GP.y[n_init:(n_init+iters)]) \n",
        "exact_output_19 = np.append(np.min(-exact_19.GP.y[0:n_init]),-exact_19.GP.y[n_init:(n_init+iters)]) \n",
        "\n",
        "regret_approx_19 = np.log(approx_output_19 - y_global_orig)\n",
        "regret_exact_19 = np.log(exact_output_19 - y_global_orig)\n",
        "\n",
        "simple_regret_approx_19 = min_max_array(regret_approx_19)\n",
        "simple_regret_exact_19 = min_max_array(regret_exact_19)\n",
        "\n",
        "min_simple_regret_approx_19 = min(simple_regret_approx_19)\n",
        "min_simple_regret_exact_19 = min(simple_regret_exact_19)\n",
        "\n",
        "min_simple_regret_approx_19, min_simple_regret_exact_19"
      ]
    },
    {
      "cell_type": "code",
      "execution_count": 74,
      "metadata": {
        "id": "BE1AJ7NsQxf0",
        "colab": {
          "base_uri": "https://localhost:8080/"
        },
        "outputId": "74482bb9-6dbe-473c-c279-1a1d7f75cf9e"
      },
      "outputs": [
        {
          "output_type": "execute_result",
          "data": {
            "text/plain": [
              "(-1.5831487820377188, -1.1000837617488548)"
            ]
          },
          "metadata": {},
          "execution_count": 74
        }
      ],
      "source": [
        "### Simple regret minimization: run number = 20\n",
        "\n",
        "approx_output_20 = np.append(np.min(-approx_20.GP.y[0:n_init]),-approx_20.GP.y[n_init:(n_init+iters)]) \n",
        "exact_output_20 = np.append(np.min(-exact_20.GP.y[0:n_init]),-exact_20.GP.y[n_init:(n_init+iters)]) \n",
        "\n",
        "regret_approx_20 = np.log(approx_output_20 - y_global_orig)\n",
        "regret_exact_20 = np.log(exact_output_20 - y_global_orig)\n",
        "\n",
        "simple_regret_approx_20 = min_max_array(regret_approx_20)\n",
        "simple_regret_exact_20 = min_max_array(regret_exact_20)\n",
        "\n",
        "min_simple_regret_approx_20 = min(simple_regret_approx_20)\n",
        "min_simple_regret_exact_20 = min(simple_regret_exact_20)\n",
        "\n",
        "min_simple_regret_approx_20, min_simple_regret_exact_20"
      ]
    },
    {
      "cell_type": "code",
      "execution_count": 75,
      "metadata": {
        "id": "bpX-bKAHQxf1"
      },
      "outputs": [],
      "source": [
        "# Iteration1 :\n",
        "\n",
        "slice1 = 0\n",
        "\n",
        "approx1 = [simple_regret_approx_1[slice1],\n",
        "       simple_regret_approx_2[slice1],\n",
        "       simple_regret_approx_3[slice1],\n",
        "       simple_regret_approx_4[slice1],\n",
        "       simple_regret_approx_5[slice1],\n",
        "       simple_regret_approx_6[slice1],\n",
        "       simple_regret_approx_7[slice1],\n",
        "       simple_regret_approx_8[slice1],\n",
        "       simple_regret_approx_9[slice1],\n",
        "       simple_regret_approx_10[slice1],\n",
        "       simple_regret_approx_11[slice1],\n",
        "       simple_regret_approx_12[slice1],\n",
        "       simple_regret_approx_13[slice1],\n",
        "       simple_regret_approx_14[slice1],\n",
        "       simple_regret_approx_15[slice1],\n",
        "       simple_regret_approx_16[slice1],\n",
        "       simple_regret_approx_17[slice1],\n",
        "       simple_regret_approx_18[slice1],\n",
        "       simple_regret_approx_19[slice1],\n",
        "       simple_regret_approx_20[slice1]]\n",
        "\n",
        "exact1 = [simple_regret_exact_1[slice1],\n",
        "       simple_regret_exact_2[slice1],\n",
        "       simple_regret_exact_3[slice1],\n",
        "       simple_regret_exact_4[slice1],\n",
        "       simple_regret_exact_5[slice1],\n",
        "       simple_regret_exact_6[slice1],\n",
        "       simple_regret_exact_7[slice1],\n",
        "       simple_regret_exact_8[slice1],\n",
        "       simple_regret_exact_9[slice1],\n",
        "       simple_regret_exact_10[slice1],\n",
        "       simple_regret_exact_11[slice1],\n",
        "       simple_regret_exact_12[slice1],\n",
        "       simple_regret_exact_13[slice1],\n",
        "       simple_regret_exact_14[slice1],\n",
        "       simple_regret_exact_15[slice1],\n",
        "       simple_regret_exact_16[slice1],\n",
        "       simple_regret_exact_17[slice1],\n",
        "       simple_regret_exact_18[slice1],\n",
        "       simple_regret_exact_19[slice1],\n",
        "       simple_regret_exact_20[slice1]]\n",
        "\n",
        "approx1_results = pd.DataFrame(approx1).sort_values(by=[0], ascending=False)\n",
        "exact1_results = pd.DataFrame(exact1).sort_values(by=[0], ascending=False)\n",
        "\n",
        "### Best simple regret minimization IQR - approx:\n",
        "lower_approx1 = np.asarray(approx1_results[4:5][0])[0]\n",
        "median_approx1 = np.asarray(approx1_results[9:10][0])[0]\n",
        "upper_approx1 = np.asarray(approx1_results[14:15][0])[0]\n",
        "\n",
        "lower_exact1 = np.asarray(exact1_results[4:5][0])[0]\n",
        "median_exact1 = np.asarray(exact1_results[9:10][0])[0]\n",
        "upper_exact1 = np.asarray(exact1_results[14:15][0])[0]"
      ]
    },
    {
      "cell_type": "code",
      "execution_count": 76,
      "metadata": {
        "id": "CgIkJA1xQxf2"
      },
      "outputs": [],
      "source": [
        "# Iteration11 :\n",
        "\n",
        "slice11 = 10\n",
        "\n",
        "approx11 = [simple_regret_approx_1[slice11],\n",
        "       simple_regret_approx_2[slice11],\n",
        "       simple_regret_approx_3[slice11],\n",
        "       simple_regret_approx_4[slice11],\n",
        "       simple_regret_approx_5[slice11],\n",
        "       simple_regret_approx_6[slice11],\n",
        "       simple_regret_approx_7[slice11],\n",
        "       simple_regret_approx_8[slice11],\n",
        "       simple_regret_approx_9[slice11],\n",
        "       simple_regret_approx_10[slice11],\n",
        "       simple_regret_approx_11[slice11],\n",
        "       simple_regret_approx_12[slice11],\n",
        "       simple_regret_approx_13[slice11],\n",
        "       simple_regret_approx_14[slice11],\n",
        "       simple_regret_approx_15[slice11],\n",
        "       simple_regret_approx_16[slice11],\n",
        "       simple_regret_approx_17[slice11],\n",
        "       simple_regret_approx_18[slice11],\n",
        "       simple_regret_approx_19[slice11],\n",
        "       simple_regret_approx_20[slice11]]\n",
        "\n",
        "exact11 = [simple_regret_exact_1[slice11],\n",
        "       simple_regret_exact_2[slice11],\n",
        "       simple_regret_exact_3[slice11],\n",
        "       simple_regret_exact_4[slice11],\n",
        "       simple_regret_exact_5[slice11],\n",
        "       simple_regret_exact_6[slice11],\n",
        "       simple_regret_exact_7[slice11],\n",
        "       simple_regret_exact_8[slice11],\n",
        "       simple_regret_exact_9[slice11],\n",
        "       simple_regret_exact_10[slice11],\n",
        "       simple_regret_exact_11[slice11],\n",
        "       simple_regret_exact_12[slice11],\n",
        "       simple_regret_exact_13[slice11],\n",
        "       simple_regret_exact_14[slice11],\n",
        "       simple_regret_exact_15[slice11],\n",
        "       simple_regret_exact_16[slice11],\n",
        "       simple_regret_exact_17[slice11],\n",
        "       simple_regret_exact_18[slice11],\n",
        "       simple_regret_exact_19[slice11],\n",
        "       simple_regret_exact_20[slice11]]\n",
        "\n",
        "approx11_results = pd.DataFrame(approx11).sort_values(by=[0], ascending=False)\n",
        "exact11_results = pd.DataFrame(exact11).sort_values(by=[0], ascending=False)\n",
        "\n",
        "### Best simple regret minimization IQR - approx:\n",
        "lower_approx11 = np.asarray(approx11_results[4:5][0])[0]\n",
        "median_approx11 = np.asarray(approx11_results[9:10][0])[0]\n",
        "upper_approx11 = np.asarray(approx11_results[14:15][0])[0]\n",
        "\n",
        "lower_exact11 = np.asarray(exact11_results[4:5][0])[0]\n",
        "median_exact11 = np.asarray(exact11_results[9:10][0])[0]\n",
        "upper_exact11 = np.asarray(exact11_results[14:15][0])[0]"
      ]
    },
    {
      "cell_type": "code",
      "execution_count": 77,
      "metadata": {
        "id": "MFePDfGuQxf2"
      },
      "outputs": [],
      "source": [
        "# Iteration21 :\n",
        "\n",
        "slice21 = 20\n",
        "\n",
        "approx21 = [simple_regret_approx_1[slice21],\n",
        "       simple_regret_approx_2[slice21],\n",
        "       simple_regret_approx_3[slice21],\n",
        "       simple_regret_approx_4[slice21],\n",
        "       simple_regret_approx_5[slice21],\n",
        "       simple_regret_approx_6[slice21],\n",
        "       simple_regret_approx_7[slice21],\n",
        "       simple_regret_approx_8[slice21],\n",
        "       simple_regret_approx_9[slice21],\n",
        "       simple_regret_approx_10[slice21],\n",
        "       simple_regret_approx_11[slice21],\n",
        "       simple_regret_approx_12[slice21],\n",
        "       simple_regret_approx_13[slice21],\n",
        "       simple_regret_approx_14[slice21],\n",
        "       simple_regret_approx_15[slice21],\n",
        "       simple_regret_approx_16[slice21],\n",
        "       simple_regret_approx_17[slice21],\n",
        "       simple_regret_approx_18[slice21],\n",
        "       simple_regret_approx_19[slice21],\n",
        "       simple_regret_approx_20[slice21]]\n",
        "\n",
        "exact21 = [simple_regret_exact_1[slice21],\n",
        "       simple_regret_exact_2[slice21],\n",
        "       simple_regret_exact_3[slice21],\n",
        "       simple_regret_exact_4[slice21],\n",
        "       simple_regret_exact_5[slice21],\n",
        "       simple_regret_exact_6[slice21],\n",
        "       simple_regret_exact_7[slice21],\n",
        "       simple_regret_exact_8[slice21],\n",
        "       simple_regret_exact_9[slice21],\n",
        "       simple_regret_exact_10[slice21],\n",
        "       simple_regret_exact_11[slice21],\n",
        "       simple_regret_exact_12[slice21],\n",
        "       simple_regret_exact_13[slice21],\n",
        "       simple_regret_exact_14[slice21],\n",
        "       simple_regret_exact_15[slice21],\n",
        "       simple_regret_exact_16[slice21],\n",
        "       simple_regret_exact_17[slice21],\n",
        "       simple_regret_exact_18[slice21],\n",
        "       simple_regret_exact_19[slice21],\n",
        "       simple_regret_exact_20[slice21]]\n",
        "\n",
        "approx21_results = pd.DataFrame(approx21).sort_values(by=[0], ascending=False)\n",
        "exact21_results = pd.DataFrame(exact21).sort_values(by=[0], ascending=False)\n",
        "\n",
        "### Best simple regret minimization IQR - approx:\n",
        "lower_approx21 = np.asarray(approx21_results[4:5][0])[0]\n",
        "median_approx21 = np.asarray(approx21_results[9:10][0])[0]\n",
        "upper_approx21 = np.asarray(approx21_results[14:15][0])[0]\n",
        "\n",
        "lower_exact21 = np.asarray(exact21_results[4:5][0])[0]\n",
        "median_exact21 = np.asarray(exact21_results[9:10][0])[0]\n",
        "upper_exact21 = np.asarray(exact21_results[14:15][0])[0]"
      ]
    },
    {
      "cell_type": "code",
      "execution_count": 78,
      "metadata": {
        "id": "PrRDB1kfQxf3"
      },
      "outputs": [],
      "source": [
        "# Iteration2 :\n",
        "\n",
        "slice2 = 1\n",
        "\n",
        "approx2 = [simple_regret_approx_1[slice2],\n",
        "       simple_regret_approx_2[slice2],\n",
        "       simple_regret_approx_3[slice2],\n",
        "       simple_regret_approx_4[slice2],\n",
        "       simple_regret_approx_5[slice2],\n",
        "       simple_regret_approx_6[slice2],\n",
        "       simple_regret_approx_7[slice2],\n",
        "       simple_regret_approx_8[slice2],\n",
        "       simple_regret_approx_9[slice2],\n",
        "       simple_regret_approx_10[slice2],\n",
        "       simple_regret_approx_11[slice2],\n",
        "       simple_regret_approx_12[slice2],\n",
        "       simple_regret_approx_13[slice2],\n",
        "       simple_regret_approx_14[slice2],\n",
        "       simple_regret_approx_15[slice2],\n",
        "       simple_regret_approx_16[slice2],\n",
        "       simple_regret_approx_17[slice2],\n",
        "       simple_regret_approx_18[slice2],\n",
        "       simple_regret_approx_19[slice2],\n",
        "       simple_regret_approx_20[slice2]]\n",
        "\n",
        "exact2 = [simple_regret_exact_1[slice2],\n",
        "       simple_regret_exact_2[slice2],\n",
        "       simple_regret_exact_3[slice2],\n",
        "       simple_regret_exact_4[slice2],\n",
        "       simple_regret_exact_5[slice2],\n",
        "       simple_regret_exact_6[slice2],\n",
        "       simple_regret_exact_7[slice2],\n",
        "       simple_regret_exact_8[slice2],\n",
        "       simple_regret_exact_9[slice2],\n",
        "       simple_regret_exact_10[slice2],\n",
        "       simple_regret_exact_11[slice2],\n",
        "       simple_regret_exact_12[slice2],\n",
        "       simple_regret_exact_13[slice2],\n",
        "       simple_regret_exact_14[slice2],\n",
        "       simple_regret_exact_15[slice2],\n",
        "       simple_regret_exact_16[slice2],\n",
        "       simple_regret_exact_17[slice2],\n",
        "       simple_regret_exact_18[slice2],\n",
        "       simple_regret_exact_19[slice2],\n",
        "       simple_regret_exact_20[slice2]]\n",
        "\n",
        "approx2_results = pd.DataFrame(approx2).sort_values(by=[0], ascending=False)\n",
        "exact2_results = pd.DataFrame(exact2).sort_values(by=[0], ascending=False)\n",
        "\n",
        "### Best simple regret minimization IQR - approx:\n",
        "lower_approx2 = np.asarray(approx2_results[4:5][0])[0]\n",
        "median_approx2 = np.asarray(approx2_results[9:10][0])[0]\n",
        "upper_approx2 = np.asarray(approx2_results[14:15][0])[0]\n",
        "\n",
        "lower_exact2 = np.asarray(exact2_results[4:5][0])[0]\n",
        "median_exact2 = np.asarray(exact2_results[9:10][0])[0]\n",
        "upper_exact2 = np.asarray(exact2_results[14:15][0])[0]"
      ]
    },
    {
      "cell_type": "code",
      "execution_count": 79,
      "metadata": {
        "id": "B8ncJDYeQxf3"
      },
      "outputs": [],
      "source": [
        "# Iteration12 :\n",
        "\n",
        "slice12 = 11\n",
        "\n",
        "approx12 = [simple_regret_approx_1[slice12],\n",
        "       simple_regret_approx_2[slice12],\n",
        "       simple_regret_approx_3[slice12],\n",
        "       simple_regret_approx_4[slice12],\n",
        "       simple_regret_approx_5[slice12],\n",
        "       simple_regret_approx_6[slice12],\n",
        "       simple_regret_approx_7[slice12],\n",
        "       simple_regret_approx_8[slice12],\n",
        "       simple_regret_approx_9[slice12],\n",
        "       simple_regret_approx_10[slice12],\n",
        "       simple_regret_approx_11[slice12],\n",
        "       simple_regret_approx_12[slice12],\n",
        "       simple_regret_approx_13[slice12],\n",
        "       simple_regret_approx_14[slice12],\n",
        "       simple_regret_approx_15[slice12],\n",
        "       simple_regret_approx_16[slice12],\n",
        "       simple_regret_approx_17[slice12],\n",
        "       simple_regret_approx_18[slice12],\n",
        "       simple_regret_approx_19[slice12],\n",
        "       simple_regret_approx_20[slice12]]\n",
        "\n",
        "exact12 = [simple_regret_exact_1[slice12],\n",
        "       simple_regret_exact_2[slice12],\n",
        "       simple_regret_exact_3[slice12],\n",
        "       simple_regret_exact_4[slice12],\n",
        "       simple_regret_exact_5[slice12],\n",
        "       simple_regret_exact_6[slice12],\n",
        "       simple_regret_exact_7[slice12],\n",
        "       simple_regret_exact_8[slice12],\n",
        "       simple_regret_exact_9[slice12],\n",
        "       simple_regret_exact_10[slice12],\n",
        "       simple_regret_exact_11[slice12],\n",
        "       simple_regret_exact_12[slice12],\n",
        "       simple_regret_exact_13[slice12],\n",
        "       simple_regret_exact_14[slice12],\n",
        "       simple_regret_exact_15[slice12],\n",
        "       simple_regret_exact_16[slice12],\n",
        "       simple_regret_exact_17[slice12],\n",
        "       simple_regret_exact_18[slice12],\n",
        "       simple_regret_exact_19[slice12],\n",
        "       simple_regret_exact_20[slice12]]\n",
        "\n",
        "approx12_results = pd.DataFrame(approx12).sort_values(by=[0], ascending=False)\n",
        "exact12_results = pd.DataFrame(exact12).sort_values(by=[0], ascending=False)\n",
        "\n",
        "### Best simple regret minimization IQR - approx:\n",
        "lower_approx12 = np.asarray(approx12_results[4:5][0])[0]\n",
        "median_approx12 = np.asarray(approx12_results[9:10][0])[0]\n",
        "upper_approx12 = np.asarray(approx12_results[14:15][0])[0]\n",
        "\n",
        "lower_exact12 = np.asarray(exact12_results[4:5][0])[0]\n",
        "median_exact12 = np.asarray(exact12_results[9:10][0])[0]\n",
        "upper_exact12 = np.asarray(exact12_results[14:15][0])[0]"
      ]
    },
    {
      "cell_type": "code",
      "execution_count": 80,
      "metadata": {
        "id": "Jn4KpGvcQxf4"
      },
      "outputs": [],
      "source": [
        "# Iteration3 :\n",
        "\n",
        "slice3 = 2\n",
        "\n",
        "approx3 = [simple_regret_approx_1[slice3],\n",
        "       simple_regret_approx_2[slice3],\n",
        "       simple_regret_approx_3[slice3],\n",
        "       simple_regret_approx_4[slice3],\n",
        "       simple_regret_approx_5[slice3],\n",
        "       simple_regret_approx_6[slice3],\n",
        "       simple_regret_approx_7[slice3],\n",
        "       simple_regret_approx_8[slice3],\n",
        "       simple_regret_approx_9[slice3],\n",
        "       simple_regret_approx_10[slice3],\n",
        "       simple_regret_approx_11[slice3],\n",
        "       simple_regret_approx_12[slice3],\n",
        "       simple_regret_approx_13[slice3],\n",
        "       simple_regret_approx_14[slice3],\n",
        "       simple_regret_approx_15[slice3],\n",
        "       simple_regret_approx_16[slice3],\n",
        "       simple_regret_approx_17[slice3],\n",
        "       simple_regret_approx_18[slice3],\n",
        "       simple_regret_approx_19[slice3],\n",
        "       simple_regret_approx_20[slice3]]\n",
        "\n",
        "exact3 = [simple_regret_exact_1[slice3],\n",
        "       simple_regret_exact_2[slice3],\n",
        "       simple_regret_exact_3[slice3],\n",
        "       simple_regret_exact_4[slice3],\n",
        "       simple_regret_exact_5[slice3],\n",
        "       simple_regret_exact_6[slice3],\n",
        "       simple_regret_exact_7[slice3],\n",
        "       simple_regret_exact_8[slice3],\n",
        "       simple_regret_exact_9[slice3],\n",
        "       simple_regret_exact_10[slice3],\n",
        "       simple_regret_exact_11[slice3],\n",
        "       simple_regret_exact_12[slice3],\n",
        "       simple_regret_exact_13[slice3],\n",
        "       simple_regret_exact_14[slice3],\n",
        "       simple_regret_exact_15[slice3],\n",
        "       simple_regret_exact_16[slice3],\n",
        "       simple_regret_exact_17[slice3],\n",
        "       simple_regret_exact_18[slice3],\n",
        "       simple_regret_exact_19[slice3],\n",
        "       simple_regret_exact_20[slice3]]\n",
        "\n",
        "approx3_results = pd.DataFrame(approx3).sort_values(by=[0], ascending=False)\n",
        "exact3_results = pd.DataFrame(exact3).sort_values(by=[0], ascending=False)\n",
        "\n",
        "### Best simple regret minimization IQR - approx:\n",
        "lower_approx3 = np.asarray(approx3_results[4:5][0])[0]\n",
        "median_approx3 = np.asarray(approx3_results[9:10][0])[0]\n",
        "upper_approx3 = np.asarray(approx3_results[14:15][0])[0]\n",
        "\n",
        "lower_exact3 = np.asarray(exact3_results[4:5][0])[0]\n",
        "median_exact3 = np.asarray(exact3_results[9:10][0])[0]\n",
        "upper_exact3 = np.asarray(exact3_results[14:15][0])[0]"
      ]
    },
    {
      "cell_type": "code",
      "execution_count": 81,
      "metadata": {
        "id": "plf83wxrQxf4"
      },
      "outputs": [],
      "source": [
        "# Iteration13 :\n",
        "\n",
        "slice13 = 12\n",
        "\n",
        "approx13 = [simple_regret_approx_1[slice13],\n",
        "       simple_regret_approx_2[slice13],\n",
        "       simple_regret_approx_3[slice13],\n",
        "       simple_regret_approx_4[slice13],\n",
        "       simple_regret_approx_5[slice13],\n",
        "       simple_regret_approx_6[slice13],\n",
        "       simple_regret_approx_7[slice13],\n",
        "       simple_regret_approx_8[slice13],\n",
        "       simple_regret_approx_9[slice13],\n",
        "       simple_regret_approx_10[slice13],\n",
        "       simple_regret_approx_11[slice13],\n",
        "       simple_regret_approx_12[slice13],\n",
        "       simple_regret_approx_13[slice13],\n",
        "       simple_regret_approx_14[slice13],\n",
        "       simple_regret_approx_15[slice13],\n",
        "       simple_regret_approx_16[slice13],\n",
        "       simple_regret_approx_17[slice13],\n",
        "       simple_regret_approx_18[slice13],\n",
        "       simple_regret_approx_19[slice13],\n",
        "       simple_regret_approx_20[slice13]]\n",
        "\n",
        "exact13 = [simple_regret_exact_1[slice13],\n",
        "       simple_regret_exact_2[slice13],\n",
        "       simple_regret_exact_3[slice13],\n",
        "       simple_regret_exact_4[slice13],\n",
        "       simple_regret_exact_5[slice13],\n",
        "       simple_regret_exact_6[slice13],\n",
        "       simple_regret_exact_7[slice13],\n",
        "       simple_regret_exact_8[slice13],\n",
        "       simple_regret_exact_9[slice13],\n",
        "       simple_regret_exact_10[slice13],\n",
        "       simple_regret_exact_11[slice13],\n",
        "       simple_regret_exact_12[slice13],\n",
        "       simple_regret_exact_13[slice13],\n",
        "       simple_regret_exact_14[slice13],\n",
        "       simple_regret_exact_15[slice13],\n",
        "       simple_regret_exact_16[slice13],\n",
        "       simple_regret_exact_17[slice13],\n",
        "       simple_regret_exact_18[slice13],\n",
        "       simple_regret_exact_19[slice13],\n",
        "       simple_regret_exact_20[slice13]]\n",
        "\n",
        "approx13_results = pd.DataFrame(approx13).sort_values(by=[0], ascending=False)\n",
        "exact13_results = pd.DataFrame(exact13).sort_values(by=[0], ascending=False)\n",
        "\n",
        "### Best simple regret minimization IQR - approx:\n",
        "lower_approx13 = np.asarray(approx13_results[4:5][0])[0]\n",
        "median_approx13 = np.asarray(approx13_results[9:10][0])[0]\n",
        "upper_approx13 = np.asarray(approx13_results[14:15][0])[0]\n",
        "\n",
        "lower_exact13 = np.asarray(exact13_results[4:5][0])[0]\n",
        "median_exact13 = np.asarray(exact13_results[9:10][0])[0]\n",
        "upper_exact13 = np.asarray(exact13_results[14:15][0])[0]"
      ]
    },
    {
      "cell_type": "code",
      "execution_count": 82,
      "metadata": {
        "id": "9A7mlVvJQxf5"
      },
      "outputs": [],
      "source": [
        "# Iteration4 :\n",
        "\n",
        "slice4 = 3\n",
        "\n",
        "approx4 = [simple_regret_approx_1[slice4],\n",
        "       simple_regret_approx_2[slice4],\n",
        "       simple_regret_approx_3[slice4],\n",
        "       simple_regret_approx_4[slice4],\n",
        "       simple_regret_approx_5[slice4],\n",
        "       simple_regret_approx_6[slice4],\n",
        "       simple_regret_approx_7[slice4],\n",
        "       simple_regret_approx_8[slice4],\n",
        "       simple_regret_approx_9[slice4],\n",
        "       simple_regret_approx_10[slice4],\n",
        "       simple_regret_approx_11[slice4],\n",
        "       simple_regret_approx_12[slice4],\n",
        "       simple_regret_approx_13[slice4],\n",
        "       simple_regret_approx_14[slice4],\n",
        "       simple_regret_approx_15[slice4],\n",
        "       simple_regret_approx_16[slice4],\n",
        "       simple_regret_approx_17[slice4],\n",
        "       simple_regret_approx_18[slice4],\n",
        "       simple_regret_approx_19[slice4],\n",
        "       simple_regret_approx_20[slice4]]\n",
        "\n",
        "exact4 = [simple_regret_exact_1[slice4],\n",
        "       simple_regret_exact_2[slice4],\n",
        "       simple_regret_exact_3[slice4],\n",
        "       simple_regret_exact_4[slice4],\n",
        "       simple_regret_exact_5[slice4],\n",
        "       simple_regret_exact_6[slice4],\n",
        "       simple_regret_exact_7[slice4],\n",
        "       simple_regret_exact_8[slice4],\n",
        "       simple_regret_exact_9[slice4],\n",
        "       simple_regret_exact_10[slice4],\n",
        "       simple_regret_exact_11[slice4],\n",
        "       simple_regret_exact_12[slice4],\n",
        "       simple_regret_exact_13[slice4],\n",
        "       simple_regret_exact_14[slice4],\n",
        "       simple_regret_exact_15[slice4],\n",
        "       simple_regret_exact_16[slice4],\n",
        "       simple_regret_exact_17[slice4],\n",
        "       simple_regret_exact_18[slice4],\n",
        "       simple_regret_exact_19[slice4],\n",
        "       simple_regret_exact_20[slice4]]\n",
        "\n",
        "approx4_results = pd.DataFrame(approx4).sort_values(by=[0], ascending=False)\n",
        "exact4_results = pd.DataFrame(exact4).sort_values(by=[0], ascending=False)\n",
        "\n",
        "### Best simple regret minimization IQR - approx:\n",
        "lower_approx4 = np.asarray(approx4_results[4:5][0])[0]\n",
        "median_approx4 = np.asarray(approx4_results[9:10][0])[0]\n",
        "upper_approx4 = np.asarray(approx4_results[14:15][0])[0]\n",
        "\n",
        "lower_exact4 = np.asarray(exact4_results[4:5][0])[0]\n",
        "median_exact4 = np.asarray(exact4_results[9:10][0])[0]\n",
        "upper_exact4 = np.asarray(exact4_results[14:15][0])[0]"
      ]
    },
    {
      "cell_type": "code",
      "execution_count": 83,
      "metadata": {
        "id": "ijq-rioYQxf5"
      },
      "outputs": [],
      "source": [
        "# Iteration14 :\n",
        "\n",
        "slice14 = 13\n",
        "\n",
        "approx14 = [simple_regret_approx_1[slice14],\n",
        "       simple_regret_approx_2[slice14],\n",
        "       simple_regret_approx_3[slice14],\n",
        "       simple_regret_approx_4[slice14],\n",
        "       simple_regret_approx_5[slice14],\n",
        "       simple_regret_approx_6[slice14],\n",
        "       simple_regret_approx_7[slice14],\n",
        "       simple_regret_approx_8[slice14],\n",
        "       simple_regret_approx_9[slice14],\n",
        "       simple_regret_approx_10[slice14],\n",
        "       simple_regret_approx_11[slice14],\n",
        "       simple_regret_approx_12[slice14],\n",
        "       simple_regret_approx_13[slice14],\n",
        "       simple_regret_approx_14[slice14],\n",
        "       simple_regret_approx_15[slice14],\n",
        "       simple_regret_approx_16[slice14],\n",
        "       simple_regret_approx_17[slice14],\n",
        "       simple_regret_approx_18[slice14],\n",
        "       simple_regret_approx_19[slice14],\n",
        "       simple_regret_approx_20[slice14]]\n",
        "\n",
        "exact14 = [simple_regret_exact_1[slice14],\n",
        "       simple_regret_exact_2[slice14],\n",
        "       simple_regret_exact_3[slice14],\n",
        "       simple_regret_exact_4[slice14],\n",
        "       simple_regret_exact_5[slice14],\n",
        "       simple_regret_exact_6[slice14],\n",
        "       simple_regret_exact_7[slice14],\n",
        "       simple_regret_exact_8[slice14],\n",
        "       simple_regret_exact_9[slice14],\n",
        "       simple_regret_exact_10[slice14],\n",
        "       simple_regret_exact_11[slice14],\n",
        "       simple_regret_exact_12[slice14],\n",
        "       simple_regret_exact_13[slice14],\n",
        "       simple_regret_exact_14[slice14],\n",
        "       simple_regret_exact_15[slice14],\n",
        "       simple_regret_exact_16[slice14],\n",
        "       simple_regret_exact_17[slice14],\n",
        "       simple_regret_exact_18[slice14],\n",
        "       simple_regret_exact_19[slice14],\n",
        "       simple_regret_exact_20[slice14]]\n",
        "\n",
        "approx14_results = pd.DataFrame(approx14).sort_values(by=[0], ascending=False)\n",
        "exact14_results = pd.DataFrame(exact14).sort_values(by=[0], ascending=False)\n",
        "\n",
        "### Best simple regret minimization IQR - approx:\n",
        "lower_approx14 = np.asarray(approx14_results[4:5][0])[0]\n",
        "median_approx14 = np.asarray(approx14_results[9:10][0])[0]\n",
        "upper_approx14 = np.asarray(approx14_results[14:15][0])[0]\n",
        "\n",
        "lower_exact14 = np.asarray(exact14_results[4:5][0])[0]\n",
        "median_exact14 = np.asarray(exact14_results[9:10][0])[0]\n",
        "upper_exact14 = np.asarray(exact14_results[14:15][0])[0]"
      ]
    },
    {
      "cell_type": "code",
      "execution_count": 84,
      "metadata": {
        "id": "XINlZjoTd-ZK"
      },
      "outputs": [],
      "source": [
        "# Iteration5 :\n",
        "\n",
        "slice5 = 4\n",
        "\n",
        "approx5 = [simple_regret_approx_1[slice5],\n",
        "       simple_regret_approx_2[slice5],\n",
        "       simple_regret_approx_3[slice5],\n",
        "       simple_regret_approx_4[slice5],\n",
        "       simple_regret_approx_5[slice5],\n",
        "       simple_regret_approx_6[slice5],\n",
        "       simple_regret_approx_7[slice5],\n",
        "       simple_regret_approx_8[slice5],\n",
        "       simple_regret_approx_9[slice5],\n",
        "       simple_regret_approx_10[slice5],\n",
        "       simple_regret_approx_11[slice5],\n",
        "       simple_regret_approx_12[slice5],\n",
        "       simple_regret_approx_13[slice5],\n",
        "       simple_regret_approx_14[slice5],\n",
        "       simple_regret_approx_15[slice5],\n",
        "       simple_regret_approx_16[slice5],\n",
        "       simple_regret_approx_17[slice5],\n",
        "       simple_regret_approx_18[slice5],\n",
        "       simple_regret_approx_19[slice5],\n",
        "       simple_regret_approx_20[slice5]]\n",
        "\n",
        "exact5 = [simple_regret_exact_1[slice5],\n",
        "       simple_regret_exact_2[slice5],\n",
        "       simple_regret_exact_3[slice5],\n",
        "       simple_regret_exact_4[slice5],\n",
        "       simple_regret_exact_5[slice5],\n",
        "       simple_regret_exact_6[slice5],\n",
        "       simple_regret_exact_7[slice5],\n",
        "       simple_regret_exact_8[slice5],\n",
        "       simple_regret_exact_9[slice5],\n",
        "       simple_regret_exact_10[slice5],\n",
        "       simple_regret_exact_11[slice5],\n",
        "       simple_regret_exact_12[slice5],\n",
        "       simple_regret_exact_13[slice5],\n",
        "       simple_regret_exact_14[slice5],\n",
        "       simple_regret_exact_15[slice5],\n",
        "       simple_regret_exact_16[slice5],\n",
        "       simple_regret_exact_17[slice5],\n",
        "       simple_regret_exact_18[slice5],\n",
        "       simple_regret_exact_19[slice5],\n",
        "       simple_regret_exact_20[slice5]]\n",
        "\n",
        "approx5_results = pd.DataFrame(approx5).sort_values(by=[0], ascending=False)\n",
        "exact5_results = pd.DataFrame(exact5).sort_values(by=[0], ascending=False)\n",
        "\n",
        "### Best simple regret minimization IQR - approx:\n",
        "lower_approx5 = np.asarray(approx5_results[4:5][0])[0]\n",
        "median_approx5 = np.asarray(approx5_results[9:10][0])[0]\n",
        "upper_approx5 = np.asarray(approx5_results[14:15][0])[0]\n",
        "\n",
        "lower_exact5 = np.asarray(exact5_results[4:5][0])[0]\n",
        "median_exact5 = np.asarray(exact5_results[9:10][0])[0]\n",
        "upper_exact5 = np.asarray(exact5_results[14:15][0])[0]"
      ]
    },
    {
      "cell_type": "code",
      "execution_count": 85,
      "metadata": {
        "id": "4aZ7C8sOQxf6"
      },
      "outputs": [],
      "source": [
        "# Iteration15 :\n",
        "\n",
        "slice15 = 14\n",
        "\n",
        "approx15 = [simple_regret_approx_1[slice15],\n",
        "       simple_regret_approx_2[slice15],\n",
        "       simple_regret_approx_3[slice15],\n",
        "       simple_regret_approx_4[slice15],\n",
        "       simple_regret_approx_5[slice15],\n",
        "       simple_regret_approx_6[slice15],\n",
        "       simple_regret_approx_7[slice15],\n",
        "       simple_regret_approx_8[slice15],\n",
        "       simple_regret_approx_9[slice15],\n",
        "       simple_regret_approx_10[slice15],\n",
        "       simple_regret_approx_11[slice15],\n",
        "       simple_regret_approx_12[slice15],\n",
        "       simple_regret_approx_13[slice15],\n",
        "       simple_regret_approx_14[slice15],\n",
        "       simple_regret_approx_15[slice15],\n",
        "       simple_regret_approx_16[slice15],\n",
        "       simple_regret_approx_17[slice15],\n",
        "       simple_regret_approx_18[slice15],\n",
        "       simple_regret_approx_19[slice15],\n",
        "       simple_regret_approx_20[slice15]]\n",
        "\n",
        "exact15 = [simple_regret_exact_1[slice15],\n",
        "       simple_regret_exact_2[slice15],\n",
        "       simple_regret_exact_3[slice15],\n",
        "       simple_regret_exact_4[slice15],\n",
        "       simple_regret_exact_5[slice15],\n",
        "       simple_regret_exact_6[slice15],\n",
        "       simple_regret_exact_7[slice15],\n",
        "       simple_regret_exact_8[slice15],\n",
        "       simple_regret_exact_9[slice15],\n",
        "       simple_regret_exact_10[slice15],\n",
        "       simple_regret_exact_11[slice15],\n",
        "       simple_regret_exact_12[slice15],\n",
        "       simple_regret_exact_13[slice15],\n",
        "       simple_regret_exact_14[slice15],\n",
        "       simple_regret_exact_15[slice15],\n",
        "       simple_regret_exact_16[slice15],\n",
        "       simple_regret_exact_17[slice15],\n",
        "       simple_regret_exact_18[slice15],\n",
        "       simple_regret_exact_19[slice15],\n",
        "       simple_regret_exact_20[slice15]]\n",
        "\n",
        "approx15_results = pd.DataFrame(approx15).sort_values(by=[0], ascending=False)\n",
        "exact15_results = pd.DataFrame(exact15).sort_values(by=[0], ascending=False)\n",
        "\n",
        "### Best simple regret minimization IQR - approx:\n",
        "lower_approx15 = np.asarray(approx15_results[4:5][0])[0]\n",
        "median_approx15 = np.asarray(approx15_results[9:10][0])[0]\n",
        "upper_approx15 = np.asarray(approx15_results[14:15][0])[0]\n",
        "\n",
        "lower_exact15 = np.asarray(exact15_results[4:5][0])[0]\n",
        "median_exact15 = np.asarray(exact15_results[9:10][0])[0]\n",
        "upper_exact15 = np.asarray(exact15_results[14:15][0])[0]"
      ]
    },
    {
      "cell_type": "code",
      "execution_count": 86,
      "metadata": {
        "id": "KJINKhv1Qxf6"
      },
      "outputs": [],
      "source": [
        "# Iteration6 :\n",
        "\n",
        "slice6 = 5\n",
        "\n",
        "approx6 = [simple_regret_approx_1[slice6],\n",
        "       simple_regret_approx_2[slice6],\n",
        "       simple_regret_approx_3[slice6],\n",
        "       simple_regret_approx_4[slice6],\n",
        "       simple_regret_approx_5[slice6],\n",
        "       simple_regret_approx_6[slice6],\n",
        "       simple_regret_approx_7[slice6],\n",
        "       simple_regret_approx_8[slice6],\n",
        "       simple_regret_approx_9[slice6],\n",
        "       simple_regret_approx_10[slice6],\n",
        "       simple_regret_approx_11[slice6],\n",
        "       simple_regret_approx_12[slice6],\n",
        "       simple_regret_approx_13[slice6],\n",
        "       simple_regret_approx_14[slice6],\n",
        "       simple_regret_approx_15[slice6],\n",
        "       simple_regret_approx_16[slice6],\n",
        "       simple_regret_approx_17[slice6],\n",
        "       simple_regret_approx_18[slice6],\n",
        "       simple_regret_approx_19[slice6],\n",
        "       simple_regret_approx_20[slice6]]\n",
        "\n",
        "exact6 = [simple_regret_exact_1[slice6],\n",
        "       simple_regret_exact_2[slice6],\n",
        "       simple_regret_exact_3[slice6],\n",
        "       simple_regret_exact_4[slice6],\n",
        "       simple_regret_exact_5[slice6],\n",
        "       simple_regret_exact_6[slice6],\n",
        "       simple_regret_exact_7[slice6],\n",
        "       simple_regret_exact_8[slice6],\n",
        "       simple_regret_exact_9[slice6],\n",
        "       simple_regret_exact_10[slice6],\n",
        "       simple_regret_exact_11[slice6],\n",
        "       simple_regret_exact_12[slice6],\n",
        "       simple_regret_exact_13[slice6],\n",
        "       simple_regret_exact_14[slice6],\n",
        "       simple_regret_exact_15[slice6],\n",
        "       simple_regret_exact_16[slice6],\n",
        "       simple_regret_exact_17[slice6],\n",
        "       simple_regret_exact_18[slice6],\n",
        "       simple_regret_exact_19[slice6],\n",
        "       simple_regret_exact_20[slice6]]\n",
        "\n",
        "approx6_results = pd.DataFrame(approx6).sort_values(by=[0], ascending=False)\n",
        "exact6_results = pd.DataFrame(exact6).sort_values(by=[0], ascending=False)\n",
        "\n",
        "### Best simple regret minimization IQR - approx:\n",
        "lower_approx6 = np.asarray(approx6_results[4:5][0])[0]\n",
        "median_approx6 = np.asarray(approx6_results[9:10][0])[0]\n",
        "upper_approx6 = np.asarray(approx6_results[14:15][0])[0]\n",
        "\n",
        "lower_exact6 = np.asarray(exact6_results[4:5][0])[0]\n",
        "median_exact6 = np.asarray(exact6_results[9:10][0])[0]\n",
        "upper_exact6 = np.asarray(exact6_results[14:15][0])[0]"
      ]
    },
    {
      "cell_type": "code",
      "execution_count": 87,
      "metadata": {
        "id": "nwC5N1FsQxf7"
      },
      "outputs": [],
      "source": [
        "# Iteration16 :\n",
        "\n",
        "slice16 = 15\n",
        "\n",
        "approx16 = [simple_regret_approx_1[slice16],\n",
        "       simple_regret_approx_2[slice16],\n",
        "       simple_regret_approx_3[slice16],\n",
        "       simple_regret_approx_4[slice16],\n",
        "       simple_regret_approx_5[slice16],\n",
        "       simple_regret_approx_6[slice16],\n",
        "       simple_regret_approx_7[slice16],\n",
        "       simple_regret_approx_8[slice16],\n",
        "       simple_regret_approx_9[slice16],\n",
        "       simple_regret_approx_10[slice16],\n",
        "       simple_regret_approx_11[slice16],\n",
        "       simple_regret_approx_12[slice16],\n",
        "       simple_regret_approx_13[slice16],\n",
        "       simple_regret_approx_14[slice16],\n",
        "       simple_regret_approx_15[slice16],\n",
        "       simple_regret_approx_16[slice16],\n",
        "       simple_regret_approx_17[slice16],\n",
        "       simple_regret_approx_18[slice16],\n",
        "       simple_regret_approx_19[slice16],\n",
        "       simple_regret_approx_20[slice16]]\n",
        "\n",
        "exact16 = [simple_regret_exact_1[slice16],\n",
        "       simple_regret_exact_2[slice16],\n",
        "       simple_regret_exact_3[slice16],\n",
        "       simple_regret_exact_4[slice16],\n",
        "       simple_regret_exact_5[slice16],\n",
        "       simple_regret_exact_6[slice16],\n",
        "       simple_regret_exact_7[slice16],\n",
        "       simple_regret_exact_8[slice16],\n",
        "       simple_regret_exact_9[slice16],\n",
        "       simple_regret_exact_10[slice16],\n",
        "       simple_regret_exact_11[slice16],\n",
        "       simple_regret_exact_12[slice16],\n",
        "       simple_regret_exact_13[slice16],\n",
        "       simple_regret_exact_14[slice16],\n",
        "       simple_regret_exact_15[slice16],\n",
        "       simple_regret_exact_16[slice16],\n",
        "       simple_regret_exact_17[slice16],\n",
        "       simple_regret_exact_18[slice16],\n",
        "       simple_regret_exact_19[slice16],\n",
        "       simple_regret_exact_20[slice16]]\n",
        "\n",
        "approx16_results = pd.DataFrame(approx16).sort_values(by=[0], ascending=False)\n",
        "exact16_results = pd.DataFrame(exact16).sort_values(by=[0], ascending=False)\n",
        "\n",
        "### Best simple regret minimization IQR - approx:\n",
        "lower_approx16 = np.asarray(approx16_results[4:5][0])[0]\n",
        "median_approx16 = np.asarray(approx16_results[9:10][0])[0]\n",
        "upper_approx16 = np.asarray(approx16_results[14:15][0])[0]\n",
        "\n",
        "lower_exact16 = np.asarray(exact16_results[4:5][0])[0]\n",
        "median_exact16 = np.asarray(exact16_results[9:10][0])[0]\n",
        "upper_exact16 = np.asarray(exact16_results[14:15][0])[0]"
      ]
    },
    {
      "cell_type": "code",
      "execution_count": 88,
      "metadata": {
        "id": "TrPV0AfnQxf7"
      },
      "outputs": [],
      "source": [
        "# Iteration7 :\n",
        "\n",
        "slice7 = 6\n",
        "\n",
        "approx7 = [simple_regret_approx_1[slice7],\n",
        "       simple_regret_approx_2[slice7],\n",
        "       simple_regret_approx_3[slice7],\n",
        "       simple_regret_approx_4[slice7],\n",
        "       simple_regret_approx_5[slice7],\n",
        "       simple_regret_approx_6[slice7],\n",
        "       simple_regret_approx_7[slice7],\n",
        "       simple_regret_approx_8[slice7],\n",
        "       simple_regret_approx_9[slice7],\n",
        "       simple_regret_approx_10[slice7],\n",
        "       simple_regret_approx_11[slice7],\n",
        "       simple_regret_approx_12[slice7],\n",
        "       simple_regret_approx_13[slice7],\n",
        "       simple_regret_approx_14[slice7],\n",
        "       simple_regret_approx_15[slice7],\n",
        "       simple_regret_approx_16[slice7],\n",
        "       simple_regret_approx_17[slice7],\n",
        "       simple_regret_approx_18[slice7],\n",
        "       simple_regret_approx_19[slice7],\n",
        "       simple_regret_approx_20[slice7]]\n",
        "\n",
        "exact7 = [simple_regret_exact_1[slice7],\n",
        "       simple_regret_exact_2[slice7],\n",
        "       simple_regret_exact_3[slice7],\n",
        "       simple_regret_exact_4[slice7],\n",
        "       simple_regret_exact_5[slice7],\n",
        "       simple_regret_exact_6[slice7],\n",
        "       simple_regret_exact_7[slice7],\n",
        "       simple_regret_exact_8[slice7],\n",
        "       simple_regret_exact_9[slice7],\n",
        "       simple_regret_exact_10[slice7],\n",
        "       simple_regret_exact_11[slice7],\n",
        "       simple_regret_exact_12[slice7],\n",
        "       simple_regret_exact_13[slice7],\n",
        "       simple_regret_exact_14[slice7],\n",
        "       simple_regret_exact_15[slice7],\n",
        "       simple_regret_exact_16[slice7],\n",
        "       simple_regret_exact_17[slice7],\n",
        "       simple_regret_exact_18[slice7],\n",
        "       simple_regret_exact_19[slice7],\n",
        "       simple_regret_exact_20[slice7]]\n",
        "\n",
        "approx7_results = pd.DataFrame(approx7).sort_values(by=[0], ascending=False)\n",
        "exact7_results = pd.DataFrame(exact7).sort_values(by=[0], ascending=False)\n",
        "\n",
        "### Best simple regret minimization IQR - approx:\n",
        "lower_approx7 = np.asarray(approx7_results[4:5][0])[0]\n",
        "median_approx7 = np.asarray(approx7_results[9:10][0])[0]\n",
        "upper_approx7 = np.asarray(approx7_results[14:15][0])[0]\n",
        "\n",
        "lower_exact7 = np.asarray(exact7_results[4:5][0])[0]\n",
        "median_exact7 = np.asarray(exact7_results[9:10][0])[0]\n",
        "upper_exact7 = np.asarray(exact7_results[14:15][0])[0]"
      ]
    },
    {
      "cell_type": "code",
      "execution_count": 89,
      "metadata": {
        "id": "Ub_-wpK4Qxf8"
      },
      "outputs": [],
      "source": [
        "# Iteration17 :\n",
        "\n",
        "slice17 = 16\n",
        "\n",
        "approx17 = [simple_regret_approx_1[slice17],\n",
        "       simple_regret_approx_2[slice17],\n",
        "       simple_regret_approx_3[slice17],\n",
        "       simple_regret_approx_4[slice17],\n",
        "       simple_regret_approx_5[slice17],\n",
        "       simple_regret_approx_6[slice17],\n",
        "       simple_regret_approx_7[slice17],\n",
        "       simple_regret_approx_8[slice17],\n",
        "       simple_regret_approx_9[slice17],\n",
        "       simple_regret_approx_10[slice17],\n",
        "       simple_regret_approx_11[slice17],\n",
        "       simple_regret_approx_12[slice17],\n",
        "       simple_regret_approx_13[slice17],\n",
        "       simple_regret_approx_14[slice17],\n",
        "       simple_regret_approx_15[slice17],\n",
        "       simple_regret_approx_16[slice17],\n",
        "       simple_regret_approx_17[slice17],\n",
        "       simple_regret_approx_18[slice17],\n",
        "       simple_regret_approx_19[slice17],\n",
        "       simple_regret_approx_20[slice17]]\n",
        "\n",
        "exact17 = [simple_regret_exact_1[slice17],\n",
        "       simple_regret_exact_2[slice17],\n",
        "       simple_regret_exact_3[slice17],\n",
        "       simple_regret_exact_4[slice17],\n",
        "       simple_regret_exact_5[slice17],\n",
        "       simple_regret_exact_6[slice17],\n",
        "       simple_regret_exact_7[slice17],\n",
        "       simple_regret_exact_8[slice17],\n",
        "       simple_regret_exact_9[slice17],\n",
        "       simple_regret_exact_10[slice17],\n",
        "       simple_regret_exact_11[slice17],\n",
        "       simple_regret_exact_12[slice17],\n",
        "       simple_regret_exact_13[slice17],\n",
        "       simple_regret_exact_14[slice17],\n",
        "       simple_regret_exact_15[slice17],\n",
        "       simple_regret_exact_16[slice17],\n",
        "       simple_regret_exact_17[slice17],\n",
        "       simple_regret_exact_18[slice17],\n",
        "       simple_regret_exact_19[slice17],\n",
        "       simple_regret_exact_20[slice17]]\n",
        "\n",
        "approx17_results = pd.DataFrame(approx17).sort_values(by=[0], ascending=False)\n",
        "exact17_results = pd.DataFrame(exact17).sort_values(by=[0], ascending=False)\n",
        "\n",
        "### Best simple regret minimization IQR - approx:\n",
        "lower_approx17 = np.asarray(approx17_results[4:5][0])[0]\n",
        "median_approx17 = np.asarray(approx17_results[9:10][0])[0]\n",
        "upper_approx17 = np.asarray(approx17_results[14:15][0])[0]\n",
        "\n",
        "lower_exact17 = np.asarray(exact17_results[4:5][0])[0]\n",
        "median_exact17 = np.asarray(exact17_results[9:10][0])[0]\n",
        "upper_exact17 = np.asarray(exact17_results[14:15][0])[0]"
      ]
    },
    {
      "cell_type": "code",
      "execution_count": 90,
      "metadata": {
        "id": "-6VLo37PQxf8"
      },
      "outputs": [],
      "source": [
        "# Iteration8 :\n",
        "\n",
        "slice8 = 7\n",
        "\n",
        "approx8 = [simple_regret_approx_1[slice8],\n",
        "       simple_regret_approx_2[slice8],\n",
        "       simple_regret_approx_3[slice8],\n",
        "       simple_regret_approx_4[slice8],\n",
        "       simple_regret_approx_5[slice8],\n",
        "       simple_regret_approx_6[slice8],\n",
        "       simple_regret_approx_7[slice8],\n",
        "       simple_regret_approx_8[slice8],\n",
        "       simple_regret_approx_9[slice8],\n",
        "       simple_regret_approx_10[slice8],\n",
        "       simple_regret_approx_11[slice8],\n",
        "       simple_regret_approx_12[slice8],\n",
        "       simple_regret_approx_13[slice8],\n",
        "       simple_regret_approx_14[slice8],\n",
        "       simple_regret_approx_15[slice8],\n",
        "       simple_regret_approx_16[slice8],\n",
        "       simple_regret_approx_17[slice8],\n",
        "       simple_regret_approx_18[slice8],\n",
        "       simple_regret_approx_19[slice8],\n",
        "       simple_regret_approx_20[slice8]]\n",
        "\n",
        "exact8 = [simple_regret_exact_1[slice8],\n",
        "       simple_regret_exact_2[slice8],\n",
        "       simple_regret_exact_3[slice8],\n",
        "       simple_regret_exact_4[slice8],\n",
        "       simple_regret_exact_5[slice8],\n",
        "       simple_regret_exact_6[slice8],\n",
        "       simple_regret_exact_7[slice8],\n",
        "       simple_regret_exact_8[slice8],\n",
        "       simple_regret_exact_9[slice8],\n",
        "       simple_regret_exact_10[slice8],\n",
        "       simple_regret_exact_11[slice8],\n",
        "       simple_regret_exact_12[slice8],\n",
        "       simple_regret_exact_13[slice8],\n",
        "       simple_regret_exact_14[slice8],\n",
        "       simple_regret_exact_15[slice8],\n",
        "       simple_regret_exact_16[slice8],\n",
        "       simple_regret_exact_17[slice8],\n",
        "       simple_regret_exact_18[slice8],\n",
        "       simple_regret_exact_19[slice8],\n",
        "       simple_regret_exact_20[slice8]]\n",
        "\n",
        "approx8_results = pd.DataFrame(approx8).sort_values(by=[0], ascending=False)\n",
        "exact8_results = pd.DataFrame(exact8).sort_values(by=[0], ascending=False)\n",
        "\n",
        "### Best simple regret minimization IQR - approx:\n",
        "lower_approx8 = np.asarray(approx8_results[4:5][0])[0]\n",
        "median_approx8 = np.asarray(approx8_results[9:10][0])[0]\n",
        "upper_approx8 = np.asarray(approx8_results[14:15][0])[0]\n",
        "\n",
        "lower_exact8 = np.asarray(exact8_results[4:5][0])[0]\n",
        "median_exact8 = np.asarray(exact8_results[9:10][0])[0]\n",
        "upper_exact8 = np.asarray(exact8_results[14:15][0])[0]"
      ]
    },
    {
      "cell_type": "code",
      "execution_count": 91,
      "metadata": {
        "id": "2Dp-9CC2Qxf9"
      },
      "outputs": [],
      "source": [
        "# Iteration18 :\n",
        "\n",
        "slice18 = 17\n",
        "\n",
        "approx18 = [simple_regret_approx_1[slice18],\n",
        "       simple_regret_approx_2[slice18],\n",
        "       simple_regret_approx_3[slice18],\n",
        "       simple_regret_approx_4[slice18],\n",
        "       simple_regret_approx_5[slice18],\n",
        "       simple_regret_approx_6[slice18],\n",
        "       simple_regret_approx_7[slice18],\n",
        "       simple_regret_approx_8[slice18],\n",
        "       simple_regret_approx_9[slice18],\n",
        "       simple_regret_approx_10[slice18],\n",
        "       simple_regret_approx_11[slice18],\n",
        "       simple_regret_approx_12[slice18],\n",
        "       simple_regret_approx_13[slice18],\n",
        "       simple_regret_approx_14[slice18],\n",
        "       simple_regret_approx_15[slice18],\n",
        "       simple_regret_approx_16[slice18],\n",
        "       simple_regret_approx_17[slice18],\n",
        "       simple_regret_approx_18[slice18],\n",
        "       simple_regret_approx_19[slice18],\n",
        "       simple_regret_approx_20[slice18]]\n",
        "\n",
        "exact18 = [simple_regret_exact_1[slice18],\n",
        "       simple_regret_exact_2[slice18],\n",
        "       simple_regret_exact_3[slice18],\n",
        "       simple_regret_exact_4[slice18],\n",
        "       simple_regret_exact_5[slice18],\n",
        "       simple_regret_exact_6[slice18],\n",
        "       simple_regret_exact_7[slice18],\n",
        "       simple_regret_exact_8[slice18],\n",
        "       simple_regret_exact_9[slice18],\n",
        "       simple_regret_exact_10[slice18],\n",
        "       simple_regret_exact_11[slice18],\n",
        "       simple_regret_exact_12[slice18],\n",
        "       simple_regret_exact_13[slice18],\n",
        "       simple_regret_exact_14[slice18],\n",
        "       simple_regret_exact_15[slice18],\n",
        "       simple_regret_exact_16[slice18],\n",
        "       simple_regret_exact_17[slice18],\n",
        "       simple_regret_exact_18[slice18],\n",
        "       simple_regret_exact_19[slice18],\n",
        "       simple_regret_exact_20[slice18]]\n",
        "\n",
        "approx18_results = pd.DataFrame(approx18).sort_values(by=[0], ascending=False)\n",
        "exact18_results = pd.DataFrame(exact18).sort_values(by=[0], ascending=False)\n",
        "\n",
        "### Best simple regret minimization IQR - approx:\n",
        "lower_approx18 = np.asarray(approx18_results[4:5][0])[0]\n",
        "median_approx18 = np.asarray(approx18_results[9:10][0])[0]\n",
        "upper_approx18 = np.asarray(approx18_results[14:15][0])[0]\n",
        "\n",
        "lower_exact18 = np.asarray(exact18_results[4:5][0])[0]\n",
        "median_exact18 = np.asarray(exact18_results[9:10][0])[0]\n",
        "upper_exact18 = np.asarray(exact18_results[14:15][0])[0]"
      ]
    },
    {
      "cell_type": "code",
      "execution_count": 92,
      "metadata": {
        "id": "SqiaOpB7Qxf9"
      },
      "outputs": [],
      "source": [
        "# Iteration9 :\n",
        "\n",
        "slice9 = 8\n",
        "\n",
        "approx9 = [simple_regret_approx_1[slice9],\n",
        "       simple_regret_approx_2[slice9],\n",
        "       simple_regret_approx_3[slice9],\n",
        "       simple_regret_approx_4[slice9],\n",
        "       simple_regret_approx_5[slice9],\n",
        "       simple_regret_approx_6[slice9],\n",
        "       simple_regret_approx_7[slice9],\n",
        "       simple_regret_approx_8[slice9],\n",
        "       simple_regret_approx_9[slice9],\n",
        "       simple_regret_approx_10[slice9],\n",
        "       simple_regret_approx_11[slice9],\n",
        "       simple_regret_approx_12[slice9],\n",
        "       simple_regret_approx_13[slice9],\n",
        "       simple_regret_approx_14[slice9],\n",
        "       simple_regret_approx_15[slice9],\n",
        "       simple_regret_approx_16[slice9],\n",
        "       simple_regret_approx_17[slice9],\n",
        "       simple_regret_approx_18[slice9],\n",
        "       simple_regret_approx_19[slice9],\n",
        "       simple_regret_approx_20[slice9]]\n",
        "\n",
        "exact9 = [simple_regret_exact_1[slice9],\n",
        "       simple_regret_exact_2[slice9],\n",
        "       simple_regret_exact_3[slice9],\n",
        "       simple_regret_exact_4[slice9],\n",
        "       simple_regret_exact_5[slice9],\n",
        "       simple_regret_exact_6[slice9],\n",
        "       simple_regret_exact_7[slice9],\n",
        "       simple_regret_exact_8[slice9],\n",
        "       simple_regret_exact_9[slice9],\n",
        "       simple_regret_exact_10[slice9],\n",
        "       simple_regret_exact_11[slice9],\n",
        "       simple_regret_exact_12[slice9],\n",
        "       simple_regret_exact_13[slice9],\n",
        "       simple_regret_exact_14[slice9],\n",
        "       simple_regret_exact_15[slice9],\n",
        "       simple_regret_exact_16[slice9],\n",
        "       simple_regret_exact_17[slice9],\n",
        "       simple_regret_exact_18[slice9],\n",
        "       simple_regret_exact_19[slice9],\n",
        "       simple_regret_exact_20[slice9]]\n",
        "\n",
        "approx9_results = pd.DataFrame(approx9).sort_values(by=[0], ascending=False)\n",
        "exact9_results = pd.DataFrame(exact9).sort_values(by=[0], ascending=False)\n",
        "\n",
        "### Best simple regret minimization IQR - approx:\n",
        "lower_approx9 = np.asarray(approx9_results[4:5][0])[0]\n",
        "median_approx9 = np.asarray(approx9_results[9:10][0])[0]\n",
        "upper_approx9 = np.asarray(approx9_results[14:15][0])[0]\n",
        "\n",
        "lower_exact9 = np.asarray(exact9_results[4:5][0])[0]\n",
        "median_exact9 = np.asarray(exact9_results[9:10][0])[0]\n",
        "upper_exact9 = np.asarray(exact9_results[14:15][0])[0]"
      ]
    },
    {
      "cell_type": "code",
      "execution_count": 93,
      "metadata": {
        "id": "OQkCCOsPQxf9"
      },
      "outputs": [],
      "source": [
        "# Iteration19 :\n",
        "\n",
        "slice19 = 18\n",
        "\n",
        "approx19 = [simple_regret_approx_1[slice19],\n",
        "       simple_regret_approx_2[slice19],\n",
        "       simple_regret_approx_3[slice19],\n",
        "       simple_regret_approx_4[slice19],\n",
        "       simple_regret_approx_5[slice19],\n",
        "       simple_regret_approx_6[slice19],\n",
        "       simple_regret_approx_7[slice19],\n",
        "       simple_regret_approx_8[slice19],\n",
        "       simple_regret_approx_9[slice19],\n",
        "       simple_regret_approx_10[slice19],\n",
        "       simple_regret_approx_11[slice19],\n",
        "       simple_regret_approx_12[slice19],\n",
        "       simple_regret_approx_13[slice19],\n",
        "       simple_regret_approx_14[slice19],\n",
        "       simple_regret_approx_15[slice19],\n",
        "       simple_regret_approx_16[slice19],\n",
        "       simple_regret_approx_17[slice19],\n",
        "       simple_regret_approx_18[slice19],\n",
        "       simple_regret_approx_19[slice19],\n",
        "       simple_regret_approx_20[slice19]]\n",
        "\n",
        "exact19 = [simple_regret_exact_1[slice19],\n",
        "       simple_regret_exact_2[slice19],\n",
        "       simple_regret_exact_3[slice19],\n",
        "       simple_regret_exact_4[slice19],\n",
        "       simple_regret_exact_5[slice19],\n",
        "       simple_regret_exact_6[slice19],\n",
        "       simple_regret_exact_7[slice19],\n",
        "       simple_regret_exact_8[slice19],\n",
        "       simple_regret_exact_9[slice19],\n",
        "       simple_regret_exact_10[slice19],\n",
        "       simple_regret_exact_11[slice19],\n",
        "       simple_regret_exact_12[slice19],\n",
        "       simple_regret_exact_13[slice19],\n",
        "       simple_regret_exact_14[slice19],\n",
        "       simple_regret_exact_15[slice19],\n",
        "       simple_regret_exact_16[slice19],\n",
        "       simple_regret_exact_17[slice19],\n",
        "       simple_regret_exact_18[slice19],\n",
        "       simple_regret_exact_19[slice19],\n",
        "       simple_regret_exact_20[slice19]]\n",
        "\n",
        "approx19_results = pd.DataFrame(approx19).sort_values(by=[0], ascending=False)\n",
        "exact19_results = pd.DataFrame(exact19).sort_values(by=[0], ascending=False)\n",
        "\n",
        "### Best simple regret minimization IQR - approx:\n",
        "lower_approx19 = np.asarray(approx19_results[4:5][0])[0]\n",
        "median_approx19 = np.asarray(approx19_results[9:10][0])[0]\n",
        "upper_approx19 = np.asarray(approx19_results[14:15][0])[0]\n",
        "\n",
        "lower_exact19 = np.asarray(exact19_results[4:5][0])[0]\n",
        "median_exact19 = np.asarray(exact19_results[9:10][0])[0]\n",
        "upper_exact19 = np.asarray(exact19_results[14:15][0])[0]"
      ]
    },
    {
      "cell_type": "code",
      "execution_count": 94,
      "metadata": {
        "id": "h4vtWahcQxf-"
      },
      "outputs": [],
      "source": [
        "# Iteration10 :\n",
        "\n",
        "slice10 = 9\n",
        "\n",
        "approx10 = [simple_regret_approx_1[slice10],\n",
        "       simple_regret_approx_2[slice10],\n",
        "       simple_regret_approx_3[slice10],\n",
        "       simple_regret_approx_4[slice10],\n",
        "       simple_regret_approx_5[slice10],\n",
        "       simple_regret_approx_6[slice10],\n",
        "       simple_regret_approx_7[slice10],\n",
        "       simple_regret_approx_8[slice10],\n",
        "       simple_regret_approx_9[slice10],\n",
        "       simple_regret_approx_10[slice10],\n",
        "       simple_regret_approx_11[slice10],\n",
        "       simple_regret_approx_12[slice10],\n",
        "       simple_regret_approx_13[slice10],\n",
        "       simple_regret_approx_14[slice10],\n",
        "       simple_regret_approx_15[slice10],\n",
        "       simple_regret_approx_16[slice10],\n",
        "       simple_regret_approx_17[slice10],\n",
        "       simple_regret_approx_18[slice10],\n",
        "       simple_regret_approx_19[slice10],\n",
        "       simple_regret_approx_20[slice10]]\n",
        "\n",
        "exact10 = [simple_regret_exact_1[slice10],\n",
        "       simple_regret_exact_2[slice10],\n",
        "       simple_regret_exact_3[slice10],\n",
        "       simple_regret_exact_4[slice10],\n",
        "       simple_regret_exact_5[slice10],\n",
        "       simple_regret_exact_6[slice10],\n",
        "       simple_regret_exact_7[slice10],\n",
        "       simple_regret_exact_8[slice10],\n",
        "       simple_regret_exact_9[slice10],\n",
        "       simple_regret_exact_10[slice10],\n",
        "       simple_regret_exact_11[slice10],\n",
        "       simple_regret_exact_12[slice10],\n",
        "       simple_regret_exact_13[slice10],\n",
        "       simple_regret_exact_14[slice10],\n",
        "       simple_regret_exact_15[slice10],\n",
        "       simple_regret_exact_16[slice10],\n",
        "       simple_regret_exact_17[slice10],\n",
        "       simple_regret_exact_18[slice10],\n",
        "       simple_regret_exact_19[slice10],\n",
        "       simple_regret_exact_20[slice10]]\n",
        "\n",
        "approx10_results = pd.DataFrame(approx10).sort_values(by=[0], ascending=False)\n",
        "exact10_results = pd.DataFrame(exact10).sort_values(by=[0], ascending=False)\n",
        "\n",
        "### Best simple regret minimization IQR - approx:\n",
        "lower_approx10 = np.asarray(approx10_results[4:5][0])[0]\n",
        "median_approx10 = np.asarray(approx10_results[9:10][0])[0]\n",
        "upper_approx10 = np.asarray(approx10_results[14:15][0])[0]\n",
        "\n",
        "lower_exact10 = np.asarray(exact10_results[4:5][0])[0]\n",
        "median_exact10 = np.asarray(exact10_results[9:10][0])[0]\n",
        "upper_exact10 = np.asarray(exact10_results[14:15][0])[0]"
      ]
    },
    {
      "cell_type": "code",
      "execution_count": 95,
      "metadata": {
        "id": "Rsf240pWQxf-"
      },
      "outputs": [],
      "source": [
        "# Iteration20 :\n",
        "\n",
        "slice20 = 19\n",
        "\n",
        "approx20 = [simple_regret_approx_1[slice20],\n",
        "       simple_regret_approx_2[slice20],\n",
        "       simple_regret_approx_3[slice20],\n",
        "       simple_regret_approx_4[slice20],\n",
        "       simple_regret_approx_5[slice20],\n",
        "       simple_regret_approx_6[slice20],\n",
        "       simple_regret_approx_7[slice20],\n",
        "       simple_regret_approx_8[slice20],\n",
        "       simple_regret_approx_9[slice20],\n",
        "       simple_regret_approx_10[slice20],\n",
        "       simple_regret_approx_11[slice20],\n",
        "       simple_regret_approx_12[slice20],\n",
        "       simple_regret_approx_13[slice20],\n",
        "       simple_regret_approx_14[slice20],\n",
        "       simple_regret_approx_15[slice20],\n",
        "       simple_regret_approx_16[slice20],\n",
        "       simple_regret_approx_17[slice20],\n",
        "       simple_regret_approx_18[slice20],\n",
        "       simple_regret_approx_19[slice20],\n",
        "       simple_regret_approx_20[slice20]]\n",
        "\n",
        "exact20 = [simple_regret_exact_1[slice20],\n",
        "       simple_regret_exact_2[slice20],\n",
        "       simple_regret_exact_3[slice20],\n",
        "       simple_regret_exact_4[slice20],\n",
        "       simple_regret_exact_5[slice20],\n",
        "       simple_regret_exact_6[slice20],\n",
        "       simple_regret_exact_7[slice20],\n",
        "       simple_regret_exact_8[slice20],\n",
        "       simple_regret_exact_9[slice20],\n",
        "       simple_regret_exact_10[slice20],\n",
        "       simple_regret_exact_11[slice20],\n",
        "       simple_regret_exact_12[slice20],\n",
        "       simple_regret_exact_13[slice20],\n",
        "       simple_regret_exact_14[slice20],\n",
        "       simple_regret_exact_15[slice20],\n",
        "       simple_regret_exact_16[slice20],\n",
        "       simple_regret_exact_17[slice20],\n",
        "       simple_regret_exact_18[slice20],\n",
        "       simple_regret_exact_19[slice20],\n",
        "       simple_regret_exact_20[slice20]]\n",
        "\n",
        "approx20_results = pd.DataFrame(approx20).sort_values(by=[0], ascending=False)\n",
        "exact20_results = pd.DataFrame(exact20).sort_values(by=[0], ascending=False)\n",
        "\n",
        "### Best simple regret minimization IQR - approx:\n",
        "lower_approx20 = np.asarray(approx20_results[4:5][0])[0]\n",
        "median_approx20 = np.asarray(approx20_results[9:10][0])[0]\n",
        "upper_approx20 = np.asarray(approx20_results[14:15][0])[0]\n",
        "\n",
        "lower_exact20 = np.asarray(exact20_results[4:5][0])[0]\n",
        "median_exact20 = np.asarray(exact20_results[9:10][0])[0]\n",
        "upper_exact20 = np.asarray(exact20_results[14:15][0])[0]"
      ]
    },
    {
      "cell_type": "code",
      "execution_count": 96,
      "metadata": {
        "id": "gn36RejbQxf_"
      },
      "outputs": [],
      "source": [
        "### Summarize arrays: 'Loser'\n",
        "\n",
        "lower_approx = [lower_approx1,\n",
        "            lower_approx2,\n",
        "            lower_approx3,\n",
        "            lower_approx4,\n",
        "            lower_approx5,\n",
        "            lower_approx6,\n",
        "            lower_approx7,\n",
        "            lower_approx8,\n",
        "            lower_approx9,\n",
        "            lower_approx10,\n",
        "            lower_approx11,\n",
        "            lower_approx12,\n",
        "            lower_approx13,\n",
        "            lower_approx14,\n",
        "            lower_approx15,\n",
        "            lower_approx16,\n",
        "            lower_approx17,\n",
        "            lower_approx18,\n",
        "            lower_approx19,\n",
        "            lower_approx20,\n",
        "            lower_approx21]\n",
        "\n",
        "median_approx = [median_approx1,\n",
        "            median_approx2,\n",
        "            median_approx3,\n",
        "            median_approx4,\n",
        "            median_approx5,\n",
        "            median_approx6,\n",
        "            median_approx7,\n",
        "            median_approx8,\n",
        "            median_approx9,\n",
        "            median_approx10,\n",
        "            median_approx11,\n",
        "            median_approx12,\n",
        "            median_approx13,\n",
        "            median_approx14,\n",
        "            median_approx15,\n",
        "            median_approx16,\n",
        "            median_approx17,\n",
        "            median_approx18,\n",
        "            median_approx19,\n",
        "            median_approx20,\n",
        "            median_approx21]\n",
        "\n",
        "upper_approx = [upper_approx1,\n",
        "            upper_approx2,\n",
        "            upper_approx3,\n",
        "            upper_approx4,\n",
        "            upper_approx5,\n",
        "            upper_approx6,\n",
        "            upper_approx7,\n",
        "            upper_approx8,\n",
        "            upper_approx9,\n",
        "            upper_approx10,\n",
        "            upper_approx11,\n",
        "            upper_approx12,\n",
        "            upper_approx13,\n",
        "            upper_approx14,\n",
        "            upper_approx15,\n",
        "            upper_approx16,\n",
        "            upper_approx17,\n",
        "            upper_approx18,\n",
        "            upper_approx19,\n",
        "            upper_approx20,\n",
        "            upper_approx21]"
      ]
    },
    {
      "cell_type": "code",
      "execution_count": 97,
      "metadata": {
        "id": "wxtGTOYfQxf_"
      },
      "outputs": [],
      "source": [
        "### Summarize arrays: 'exact'\n",
        "\n",
        "lower_exact = [lower_exact1,\n",
        "            lower_exact2,\n",
        "            lower_exact3,\n",
        "            lower_exact4,\n",
        "            lower_exact5,\n",
        "            lower_exact6,\n",
        "            lower_exact7,\n",
        "            lower_exact8,\n",
        "            lower_exact9,\n",
        "            lower_exact10,\n",
        "            lower_exact11,\n",
        "            lower_exact12,\n",
        "            lower_exact13,\n",
        "            lower_exact14,\n",
        "            lower_exact15,\n",
        "            lower_exact16,\n",
        "            lower_exact17,\n",
        "            lower_exact18,\n",
        "            lower_exact19,\n",
        "            lower_exact20,\n",
        "            lower_exact21]\n",
        "\n",
        "median_exact = [median_exact1,\n",
        "            median_exact2,\n",
        "            median_exact3,\n",
        "            median_exact4,\n",
        "            median_exact5,\n",
        "            median_exact6,\n",
        "            median_exact7,\n",
        "            median_exact8,\n",
        "            median_exact9,\n",
        "            median_exact10,\n",
        "            median_exact11,\n",
        "            median_exact12,\n",
        "            median_exact13,\n",
        "            median_exact14,\n",
        "            median_exact15,\n",
        "            median_exact16,\n",
        "            median_exact17,\n",
        "            median_exact18,\n",
        "            median_exact19,\n",
        "            median_exact20,\n",
        "            median_exact21]\n",
        "\n",
        "upper_exact = [upper_exact1,\n",
        "            upper_exact2,\n",
        "            upper_exact3,\n",
        "            upper_exact4,\n",
        "            upper_exact5,\n",
        "            upper_exact6,\n",
        "            upper_exact7,\n",
        "            upper_exact8,\n",
        "            upper_exact9,\n",
        "            upper_exact10,\n",
        "            upper_exact11,\n",
        "            upper_exact12,\n",
        "            upper_exact13,\n",
        "            upper_exact14,\n",
        "            upper_exact15,\n",
        "            upper_exact16,\n",
        "            upper_exact17,\n",
        "            upper_exact18,\n",
        "            upper_exact19,\n",
        "            upper_exact20,\n",
        "            upper_exact21]"
      ]
    },
    {
      "cell_type": "code",
      "execution_count": 123,
      "metadata": {
        "id": "2MONq-BXQxgA",
        "colab": {
          "base_uri": "https://localhost:8080/",
          "height": 299
        },
        "outputId": "9e6de03c-2833-4a98-8fd3-cc056a792f3d"
      },
      "outputs": [
        {
          "output_type": "display_data",
          "data": {
            "text/plain": [
              "<Figure size 432x288 with 1 Axes>"
            ],
            "image/png": "[encoded data removed]"
          },
          "metadata": {
            "needs_background": "light"
          }
        }
      ],
      "source": [
        "### Visualise!\n",
        "\n",
        "title = func\n",
        "plt.figure()\n",
        "\n",
        "plt.plot(median_approx, color = 'Green', ls='--')\n",
        "plt.plot(median_exact, color = 'Blue', ls='--')\n",
        "\n",
        "xstar = np.arange(0, iters+1, step=1)\n",
        "plt.fill_between(xstar, lower_approx, upper_approx, facecolor = 'Green', alpha=0.4, label='STP ERM Optimisation: Approx STP ERM gradients ' r'($\\nu$' ' = {})'.format(df))\n",
        "plt.fill_between(xstar, lower_exact, upper_exact, facecolor = 'Blue', alpha=0.4, label='STP ERM Optimisation: Exact STP dERM gradients ' r'($\\nu$' ' = {})'.format(df))\n",
        "\n",
        "plt.title(title, weight = 'bold')\n",
        "plt.xlabel('(Post-initialisation) iteration $\\it{k}$', weight = 'bold')\n",
        "plt.ylabel('log(Regret)', weight = 'bold') \n",
        "plt.legend(loc=1) # add plot legend\n",
        "\n",
        "### Make the x-ticks integers, not floats:\n",
        "count = len(xstar)\n",
        "plt.xticks(np.arange(count), np.arange(0, count))\n",
        "plt.show() #visualise!\n"
      ]
    },
    {
      "cell_type": "code",
      "execution_count": 99,
      "metadata": {
        "id": "l5dkR2Id2oiu",
        "colab": {
          "base_uri": "https://localhost:8080/"
        },
        "outputId": "a9ca494a-b4e4-430d-8c3e-7b7cab2c5ae2"
      },
      "outputs": [
        {
          "output_type": "execute_result",
          "data": {
            "text/plain": [
              "(1708.705506324768, 1613.6628093719482)"
            ]
          },
          "metadata": {},
          "execution_count": 99
        }
      ],
      "source": [
        "time_approx, time_exact\n"
      ]
    },
    {
      "cell_type": "code",
      "source": [
        "### acqFunc attribute x, stddev: run number = 1\n",
        "\n",
        "acqFuncApprox_exact_1 = acqFuncApprox(exact_1.history)\n",
        "acqFuncExact_exact_1 = acqFuncExact(exact_1.history)\n",
        "\n",
        "e1 = np.mean(acqFuncExact_exact_1)\n",
        "a1 = np.mean(acqFuncApprox_exact_1)\n",
        "\n",
        "e1, a1\n"
      ],
      "metadata": {
        "colab": {
          "base_uri": "https://localhost:8080/"
        },
        "id": "uwxv4dmfGsLr",
        "outputId": "ae565497-e6e1-416b-d00d-d9f31250af0c"
      },
      "execution_count": 100,
      "outputs": [
        {
          "output_type": "execute_result",
          "data": {
            "text/plain": [
              "(2.8041192629287846, 3.0334378466372653)"
            ]
          },
          "metadata": {},
          "execution_count": 100
        }
      ]
    },
    {
      "cell_type": "code",
      "source": [
        "### acqFunc attribute x, stddev: run number = 2\n",
        "\n",
        "acqFuncApprox_exact_2 = acqFuncApprox(exact_2.history)\n",
        "acqFuncExact_exact_2 = acqFuncExact(exact_2.history)\n",
        "\n",
        "e2 = np.mean(acqFuncExact_exact_2)\n",
        "a2 = np.mean(acqFuncApprox_exact_2)\n",
        "\n",
        "e2, a2\n"
      ],
      "metadata": {
        "colab": {
          "base_uri": "https://localhost:8080/"
        },
        "id": "0YSV00_pGsXe",
        "outputId": "11c76a89-1ec6-4bb6-b85a-c6c454f3d383"
      },
      "execution_count": 101,
      "outputs": [
        {
          "output_type": "execute_result",
          "data": {
            "text/plain": [
              "(2.8892180032052033, 2.9114743771173535)"
            ]
          },
          "metadata": {},
          "execution_count": 101
        }
      ]
    },
    {
      "cell_type": "code",
      "source": [
        "### acqFunc attribute x, stddev: run number = 3\n",
        "\n",
        "acqFuncApprox_exact_3 = acqFuncApprox(exact_3.history)\n",
        "acqFuncExact_exact_3 = acqFuncExact(exact_3.history)\n",
        "\n",
        "e3 = np.mean(acqFuncExact_exact_3)\n",
        "a3 = np.mean(acqFuncApprox_exact_3)\n",
        "\n",
        "e3, a3\n"
      ],
      "metadata": {
        "colab": {
          "base_uri": "https://localhost:8080/"
        },
        "id": "HHVmsd2UGsjT",
        "outputId": "80f85aa7-5d1d-4e33-dd5c-304a6081a1a0"
      },
      "execution_count": 102,
      "outputs": [
        {
          "output_type": "execute_result",
          "data": {
            "text/plain": [
              "(2.7541989094284665, 2.9358068986278996)"
            ]
          },
          "metadata": {},
          "execution_count": 102
        }
      ]
    },
    {
      "cell_type": "code",
      "source": [
        "### acqFunc attribute x, stddev: run number = 4\n",
        "\n",
        "acqFuncApprox_exact_4 = acqFuncApprox(exact_4.history)\n",
        "acqFuncExact_exact_4 = acqFuncExact(exact_4.history)\n",
        "\n",
        "e4 = np.mean(acqFuncExact_exact_4)\n",
        "a4 = np.mean(acqFuncApprox_exact_4)\n",
        "\n",
        "e4, a4\n"
      ],
      "metadata": {
        "colab": {
          "base_uri": "https://localhost:8080/"
        },
        "id": "r7O19S2eGsu7",
        "outputId": "30de4693-62ca-408f-d731-4d3335293d45"
      },
      "execution_count": 103,
      "outputs": [
        {
          "output_type": "execute_result",
          "data": {
            "text/plain": [
              "(2.7705661242243886, 2.801033485686704)"
            ]
          },
          "metadata": {},
          "execution_count": 103
        }
      ]
    },
    {
      "cell_type": "code",
      "source": [
        "### acqFunc attribute x, stddev: run number = 5\n",
        "\n",
        "acqFuncApprox_exact_5 = acqFuncApprox(exact_5.history)\n",
        "acqFuncExact_exact_5 = acqFuncExact(exact_5.history)\n",
        "\n",
        "e5 = np.mean(acqFuncExact_exact_5)\n",
        "a5 = np.mean(acqFuncApprox_exact_5)\n",
        "\n",
        "e5, a5\n"
      ],
      "metadata": {
        "colab": {
          "base_uri": "https://localhost:8080/"
        },
        "id": "sdb9o6NuGs5m",
        "outputId": "b8630b99-e0f1-4344-c795-609cdb237933"
      },
      "execution_count": 104,
      "outputs": [
        {
          "output_type": "execute_result",
          "data": {
            "text/plain": [
              "(2.901982377119897, 3.0440758592856403)"
            ]
          },
          "metadata": {},
          "execution_count": 104
        }
      ]
    },
    {
      "cell_type": "code",
      "source": [
        "### acqFunc attribute x, stddev: run number = 6\n",
        "\n",
        "acqFuncApprox_exact_6 = acqFuncApprox(exact_6.history)\n",
        "acqFuncExact_exact_6 = acqFuncExact(exact_6.history)\n",
        "\n",
        "e6 = np.mean(acqFuncExact_exact_6)\n",
        "a6 = np.mean(acqFuncApprox_exact_6)\n",
        "\n",
        "e6, a6\n"
      ],
      "metadata": {
        "colab": {
          "base_uri": "https://localhost:8080/"
        },
        "id": "COQl7LZ8GtE0",
        "outputId": "6c22ca59-79ba-4439-a3ae-a8b4403737ad"
      },
      "execution_count": 105,
      "outputs": [
        {
          "output_type": "execute_result",
          "data": {
            "text/plain": [
              "(2.9569099373202414, 2.961130091660532)"
            ]
          },
          "metadata": {},
          "execution_count": 105
        }
      ]
    },
    {
      "cell_type": "code",
      "source": [
        "### acqFunc attribute x, stddev: run number = 7\n",
        "\n",
        "acqFuncApprox_exact_7 = acqFuncApprox(exact_7.history)\n",
        "acqFuncExact_exact_7 = acqFuncExact(exact_7.history)\n",
        "\n",
        "e7 = np.mean(acqFuncExact_exact_7)\n",
        "a7 = np.mean(acqFuncApprox_exact_7)\n",
        "\n",
        "e7, a7\n"
      ],
      "metadata": {
        "colab": {
          "base_uri": "https://localhost:8080/"
        },
        "id": "2gy9EtTzGtP7",
        "outputId": "8e15fc10-bd18-4d34-dd13-070a994f16ae"
      },
      "execution_count": 106,
      "outputs": [
        {
          "output_type": "execute_result",
          "data": {
            "text/plain": [
              "(2.871687963830637, 3.0158504352433377)"
            ]
          },
          "metadata": {},
          "execution_count": 106
        }
      ]
    },
    {
      "cell_type": "code",
      "source": [
        "### acqFunc attribute x, stddev: run number = 8\n",
        "\n",
        "acqFuncApprox_exact_8 = acqFuncApprox(exact_8.history)\n",
        "acqFuncExact_exact_8 = acqFuncExact(exact_8.history)\n",
        "\n",
        "e8 = np.mean(acqFuncExact_exact_8)\n",
        "a8 = np.mean(acqFuncApprox_exact_8)\n",
        "\n",
        "e8, a8\n"
      ],
      "metadata": {
        "colab": {
          "base_uri": "https://localhost:8080/"
        },
        "id": "S7mn0qoMGtbM",
        "outputId": "0ca1da92-504c-403d-d5a2-9907e922acad"
      },
      "execution_count": 107,
      "outputs": [
        {
          "output_type": "execute_result",
          "data": {
            "text/plain": [
              "(2.727641085974619, 2.994636424505779)"
            ]
          },
          "metadata": {},
          "execution_count": 107
        }
      ]
    },
    {
      "cell_type": "code",
      "source": [
        "### acqFunc attribute x, stddev: run number = 9\n",
        "\n",
        "acqFuncApprox_exact_9 = acqFuncApprox(exact_9.history)\n",
        "acqFuncExact_exact_9 = acqFuncExact(exact_9.history)\n",
        "\n",
        "e9 = np.mean(acqFuncExact_exact_9)\n",
        "a9 = np.mean(acqFuncApprox_exact_9)\n",
        "\n",
        "e9, a9\n"
      ],
      "metadata": {
        "colab": {
          "base_uri": "https://localhost:8080/"
        },
        "id": "BhljmkNxGtms",
        "outputId": "02058430-07eb-4f0d-a266-0999810fbc25"
      },
      "execution_count": 108,
      "outputs": [
        {
          "output_type": "execute_result",
          "data": {
            "text/plain": [
              "(2.656083561644922, 3.189498072206677)"
            ]
          },
          "metadata": {},
          "execution_count": 108
        }
      ]
    },
    {
      "cell_type": "code",
      "source": [
        "### acqFunc attribute x, stddev: run number = 10\n",
        "\n",
        "acqFuncApprox_exact_10 = acqFuncApprox(exact_10.history)\n",
        "acqFuncExact_exact_10 = acqFuncExact(exact_10.history)\n",
        "\n",
        "e10 = np.mean(acqFuncExact_exact_10)\n",
        "a10 = np.mean(acqFuncApprox_exact_10)\n",
        "\n",
        "e10, a10\n"
      ],
      "metadata": {
        "colab": {
          "base_uri": "https://localhost:8080/"
        },
        "id": "W5GZo6k3Gtx8",
        "outputId": "43602796-5af1-4775-e3d2-89aab5f9380f"
      },
      "execution_count": 109,
      "outputs": [
        {
          "output_type": "execute_result",
          "data": {
            "text/plain": [
              "(2.8686233846365865, 3.1025453121762765)"
            ]
          },
          "metadata": {},
          "execution_count": 109
        }
      ]
    },
    {
      "cell_type": "code",
      "source": [
        "### acqFunc attribute x, stddev: run number = 11\n",
        "\n",
        "acqFuncApprox_exact_11 = acqFuncApprox(exact_11.history)\n",
        "acqFuncExact_exact_11 = acqFuncExact(exact_11.history)\n",
        "\n",
        "e11 = np.mean(acqFuncExact_exact_11)\n",
        "a11 = np.mean(acqFuncApprox_exact_11)\n",
        "\n",
        "e11, a11\n"
      ],
      "metadata": {
        "colab": {
          "base_uri": "https://localhost:8080/"
        },
        "id": "isKNhDk5Gt9D",
        "outputId": "de595c6c-b9ed-4921-be2f-12414e9c1db7"
      },
      "execution_count": 110,
      "outputs": [
        {
          "output_type": "execute_result",
          "data": {
            "text/plain": [
              "(2.737320171015634, 2.9906342901733356)"
            ]
          },
          "metadata": {},
          "execution_count": 110
        }
      ]
    },
    {
      "cell_type": "code",
      "source": [
        "### acqFunc attribute x, stddev: run number = 12\n",
        "\n",
        "acqFuncApprox_exact_12 = acqFuncApprox(exact_12.history)\n",
        "acqFuncExact_exact_12 = acqFuncExact(exact_12.history)\n",
        "\n",
        "e12 = np.mean(acqFuncExact_exact_12)\n",
        "a12 = np.mean(acqFuncApprox_exact_12)\n",
        "\n",
        "e12, a12\n"
      ],
      "metadata": {
        "colab": {
          "base_uri": "https://localhost:8080/"
        },
        "id": "8ts-wrSuGuIm",
        "outputId": "91ce858f-cd76-4008-915f-042843bd0578"
      },
      "execution_count": 111,
      "outputs": [
        {
          "output_type": "execute_result",
          "data": {
            "text/plain": [
              "(2.8575890783556614, 2.855364330980762)"
            ]
          },
          "metadata": {},
          "execution_count": 111
        }
      ]
    },
    {
      "cell_type": "code",
      "source": [
        "### acqFunc attribute x, stddev: run number = 13\n",
        "\n",
        "acqFuncApprox_exact_13 = acqFuncApprox(exact_13.history)\n",
        "acqFuncExact_exact_13 = acqFuncExact(exact_13.history)\n",
        "\n",
        "e13 = np.mean(acqFuncExact_exact_13)\n",
        "a13 = np.mean(acqFuncApprox_exact_13)\n",
        "\n",
        "e13, a13\n"
      ],
      "metadata": {
        "colab": {
          "base_uri": "https://localhost:8080/"
        },
        "id": "n0drhEe3GuUL",
        "outputId": "8b9abfea-0513-4cce-d40f-577804cb52b4"
      },
      "execution_count": 112,
      "outputs": [
        {
          "output_type": "execute_result",
          "data": {
            "text/plain": [
              "(2.807522030628097, 3.1128738875699034)"
            ]
          },
          "metadata": {},
          "execution_count": 112
        }
      ]
    },
    {
      "cell_type": "code",
      "source": [
        "### acqFunc attribute x, stddev: run number = 14\n",
        "\n",
        "acqFuncApprox_exact_14 = acqFuncApprox(exact_14.history)\n",
        "acqFuncExact_exact_14 = acqFuncExact(exact_14.history)\n",
        "\n",
        "e14 = np.mean(acqFuncExact_exact_14)\n",
        "a14 = np.mean(acqFuncApprox_exact_14)\n",
        "\n",
        "e14, a14\n"
      ],
      "metadata": {
        "colab": {
          "base_uri": "https://localhost:8080/"
        },
        "id": "R0W3MZaVGues",
        "outputId": "2ec9287b-de2f-4c86-afba-5af1388a6e86"
      },
      "execution_count": 113,
      "outputs": [
        {
          "output_type": "execute_result",
          "data": {
            "text/plain": [
              "(2.7993402256926054, 2.9184388941127763)"
            ]
          },
          "metadata": {},
          "execution_count": 113
        }
      ]
    },
    {
      "cell_type": "code",
      "source": [
        "### acqFunc attribute x, stddev: run number = 15\n",
        "\n",
        "acqFuncApprox_exact_15 = acqFuncApprox(exact_15.history)\n",
        "acqFuncExact_exact_15 = acqFuncExact(exact_15.history)\n",
        "\n",
        "e15 = np.mean(acqFuncExact_exact_15)\n",
        "a15 = np.mean(acqFuncApprox_exact_15)\n",
        "\n",
        "e15, a15\n"
      ],
      "metadata": {
        "colab": {
          "base_uri": "https://localhost:8080/"
        },
        "id": "DoXdDFHoGup-",
        "outputId": "16aee58a-2933-49fc-e506-e69a1ad1d2d5"
      },
      "execution_count": 114,
      "outputs": [
        {
          "output_type": "execute_result",
          "data": {
            "text/plain": [
              "(2.6623030701146444, 3.009549197311899)"
            ]
          },
          "metadata": {},
          "execution_count": 114
        }
      ]
    },
    {
      "cell_type": "code",
      "source": [
        "### acqFunc attribute x, stddev: run number = 16\n",
        "\n",
        "acqFuncApprox_exact_16 = acqFuncApprox(exact_16.history)\n",
        "acqFuncExact_exact_16 = acqFuncExact(exact_16.history)\n",
        "\n",
        "e16 = np.mean(acqFuncExact_exact_16)\n",
        "a16 = np.mean(acqFuncApprox_exact_16)\n",
        "\n",
        "e16, a16\n"
      ],
      "metadata": {
        "colab": {
          "base_uri": "https://localhost:8080/"
        },
        "id": "K_wAeqSoGu2j",
        "outputId": "900b5c7d-dc61-4c7d-9a29-95217497d203"
      },
      "execution_count": 115,
      "outputs": [
        {
          "output_type": "execute_result",
          "data": {
            "text/plain": [
              "(2.7830610994712335, 3.0199019528272717)"
            ]
          },
          "metadata": {},
          "execution_count": 115
        }
      ]
    },
    {
      "cell_type": "code",
      "source": [
        "### acqFunc attribute x, stddev: run number = 17\n",
        "\n",
        "acqFuncApprox_exact_17 = acqFuncApprox(exact_17.history)\n",
        "acqFuncExact_exact_17 = acqFuncExact(exact_17.history)\n",
        "\n",
        "e17 = np.mean(acqFuncExact_exact_17)\n",
        "a17 = np.mean(acqFuncApprox_exact_17)\n",
        "\n",
        "e17, a17\n"
      ],
      "metadata": {
        "colab": {
          "base_uri": "https://localhost:8080/"
        },
        "id": "n6zy78fjGvBT",
        "outputId": "5733f906-06e2-4244-8a7f-0bc9f3f31f74"
      },
      "execution_count": 116,
      "outputs": [
        {
          "output_type": "execute_result",
          "data": {
            "text/plain": [
              "(2.7678056164308438, 3.0193450547550054)"
            ]
          },
          "metadata": {},
          "execution_count": 116
        }
      ]
    },
    {
      "cell_type": "code",
      "source": [
        "### acqFunc attribute x, stddev: run number = 18\n",
        "\n",
        "acqFuncApprox_exact_18 = acqFuncApprox(exact_18.history)\n",
        "acqFuncExact_exact_18 = acqFuncExact(exact_18.history)\n",
        "\n",
        "e18 = np.mean(acqFuncExact_exact_18)\n",
        "a18 = np.mean(acqFuncApprox_exact_18)\n",
        "\n",
        "e18, a18\n"
      ],
      "metadata": {
        "colab": {
          "base_uri": "https://localhost:8080/"
        },
        "id": "s_6_2K4iGvM-",
        "outputId": "0ff68aca-f539-4f61-fa4c-885333c6a4c1"
      },
      "execution_count": 117,
      "outputs": [
        {
          "output_type": "execute_result",
          "data": {
            "text/plain": [
              "(2.735408430126173, 2.9592723892506365)"
            ]
          },
          "metadata": {},
          "execution_count": 117
        }
      ]
    },
    {
      "cell_type": "code",
      "source": [
        "### acqFunc attribute x, stddev: run number = 19\n",
        "\n",
        "acqFuncApprox_exact_19 = acqFuncApprox(exact_19.history)\n",
        "acqFuncExact_exact_19 = acqFuncExact(exact_19.history)\n",
        "\n",
        "e19 = np.mean(acqFuncExact_exact_19)\n",
        "a19 = np.mean(acqFuncApprox_exact_19)\n",
        "\n",
        "e19, a19\n"
      ],
      "metadata": {
        "colab": {
          "base_uri": "https://localhost:8080/"
        },
        "id": "o8oO8pdBGvYk",
        "outputId": "bc8ea27c-57b4-493f-f1f0-409c1a004202"
      },
      "execution_count": 118,
      "outputs": [
        {
          "output_type": "execute_result",
          "data": {
            "text/plain": [
              "(2.7764171216491063, 2.906224860230049)"
            ]
          },
          "metadata": {},
          "execution_count": 118
        }
      ]
    },
    {
      "cell_type": "code",
      "source": [
        "### acqFunc attribute x, stddev: run number = 20\n",
        "\n",
        "acqFuncApprox_exact_20 = acqFuncApprox(exact_20.history)\n",
        "acqFuncExact_exact_20 = acqFuncExact(exact_20.history)\n",
        "\n",
        "e20 = np.mean(acqFuncExact_exact_20)\n",
        "a20 = np.mean(acqFuncApprox_exact_20)\n",
        "\n",
        "e20, a20\n"
      ],
      "metadata": {
        "colab": {
          "base_uri": "https://localhost:8080/"
        },
        "id": "b2w8oLc0IMzU",
        "outputId": "15922a8e-d03a-4096-bb9c-57eb8ce55301"
      },
      "execution_count": 119,
      "outputs": [
        {
          "output_type": "execute_result",
          "data": {
            "text/plain": [
              "(2.8852542718231433, 3.1435088103866353)"
            ]
          },
          "metadata": {},
          "execution_count": 119
        }
      ]
    },
    {
      "cell_type": "code",
      "source": [
        "### Summarize arrays: \n",
        "\n",
        "exact_stddev = np.sort([e1,e2,e3,e4,e5,e6,e7,e8,e9,e10,e11,e12,e13,e14,e15,e16,e17,e18,e19,e20])\n",
        "approx_stddev = np.sort([a1,a2,a3,a4,a5,a6,a7,a8,a9,a10,a11,a12,a13,a14,a15,a16,a17,a18,a19,a20])\n",
        "\n",
        "np.mean(exact_stddev), np.mean(approx_stddev)\n"
      ],
      "metadata": {
        "colab": {
          "base_uri": "https://localhost:8080/"
        },
        "id": "qAZs3yxMIZul",
        "outputId": "12c8a1ca-0ba1-4546-9c34-694c1a3d852f"
      },
      "execution_count": 120,
      "outputs": [
        {
          "output_type": "execute_result",
          "data": {
            "text/plain": [
              "(2.800652586281044, 2.996230123537287)"
            ]
          },
          "metadata": {},
          "execution_count": 120
        }
      ]
    },
    {
      "cell_type": "code",
      "source": [
        "### Visualise!\n",
        "\n",
        "title = func\n",
        "plt.figure()\n",
        "\n",
        "plt.plot(approx_stddev, color = 'Green', ls='--', label='Average $\\sigma$, attribute $\\mathbf{x}$: Approx STP ERM gradients')\n",
        "plt.plot(exact_stddev, color = 'Blue', ls='-', label='Average $\\sigma$, attribute $\\mathbf{x}$: Exact STP dERM gradients')\n",
        "\n",
        "plt.title(title, weight = 'bold')\n",
        "plt.xlabel('Function evaluations: iteration $\\it{k}$', weight = 'bold')\n",
        "plt.ylabel('STP ERM: Average $\\sigma$, attribute $\\mathbf{x}$', weight = 'bold') \n",
        "plt.legend(loc=0) # add plot legend\n",
        "\n",
        "### Make the x-ticks integers, not floats:\n",
        "count = len(xstar)\n",
        "plt.xticks(np.arange(count), np.arange(1, count))\n",
        "plt.show() #visualize!\n"
      ],
      "metadata": {
        "colab": {
          "base_uri": "https://localhost:8080/",
          "height": 297
        },
        "id": "e_kpqYcMIZxu",
        "outputId": "e70bb748-a412-4e54-ba21-3458e730b0a9"
      },
      "execution_count": 121,
      "outputs": [
        {
          "output_type": "display_data",
          "data": {
            "text/plain": [
              "<Figure size 432x288 with 1 Axes>"
            ],
            "image/png": "[encoded data removed]"
          },
          "metadata": {
            "needs_background": "light"
          }
        }
      ]
    },
    {
      "cell_type": "code",
      "source": [],
      "metadata": {
        "id": "LToGd4vZIZ3I"
      },
      "execution_count": 121,
      "outputs": []
    }
  ],
  "metadata": {
    "colab": {
      "collapsed_sections": [],
      "provenance": []
    },
    "kernelspec": {
      "display_name": "Python 3",
      "name": "python3"
    },
    "language_info": {
      "name": "python"
    }
  },
  "nbformat": 4,
  "nbformat_minor": 0
}