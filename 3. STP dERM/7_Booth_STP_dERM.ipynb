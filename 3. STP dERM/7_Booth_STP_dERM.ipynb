{
  "cells": [
    {
      "cell_type": "markdown",
      "metadata": {
        "id": "Dqn4dFx7Z2Ir"
      },
      "source": [
        "\n",
        "Booth: 2D\n"
      ]
    },
    {
      "cell_type": "code",
      "execution_count": 1,
      "metadata": {
        "colab": {
          "base_uri": "https://localhost:8080/"
        },
        "id": "MJTM_GZZZb5x",
        "outputId": "745720fc-dd29-448e-cfe1-4d7445bd61f0"
      },
      "outputs": [
        {
          "output_type": "stream",
          "name": "stdout",
          "text": [
            "Looking in indexes: https://pypi.org/simple, https://us-python.pkg.dev/colab-wheels/public/simple/\n",
            "Collecting pyGPGO\n",
            "  Downloading pyGPGO-0.5.1.tar.gz (14 kB)\n",
            "Requirement already satisfied: numpy in /usr/local/lib/python3.7/dist-packages (from pyGPGO) (1.21.6)\n",
            "Requirement already satisfied: mkl in /usr/local/lib/python3.7/dist-packages (from pyGPGO) (2019.0)\n",
            "Requirement already satisfied: scipy in /usr/local/lib/python3.7/dist-packages (from pyGPGO) (1.7.3)\n",
            "Requirement already satisfied: joblib in /usr/local/lib/python3.7/dist-packages (from pyGPGO) (1.1.0)\n",
            "Requirement already satisfied: scikit-learn in /usr/local/lib/python3.7/dist-packages (from pyGPGO) (1.0.2)\n",
            "Collecting Theano-PyMC\n",
            "  Downloading Theano-PyMC-1.1.2.tar.gz (1.8 MB)\n",
            "\u001b[K     |████████████████████████████████| 1.8 MB 15.5 MB/s \n",
            "\u001b[?25hCollecting pyMC3\n",
            "  Downloading pymc3-3.11.5-py3-none-any.whl (872 kB)\n",
            "\u001b[K     |████████████████████████████████| 872 kB 32.9 MB/s \n",
            "\u001b[?25hRequirement already satisfied: intel-openmp in /usr/local/lib/python3.7/dist-packages (from mkl->pyGPGO) (2022.1.0)\n",
            "Requirement already satisfied: pandas>=0.24.0 in /usr/local/lib/python3.7/dist-packages (from pyMC3->pyGPGO) (1.3.5)\n",
            "Requirement already satisfied: typing-extensions>=3.7.4 in /usr/local/lib/python3.7/dist-packages (from pyMC3->pyGPGO) (4.1.1)\n",
            "Requirement already satisfied: cachetools>=4.2.1 in /usr/local/lib/python3.7/dist-packages (from pyMC3->pyGPGO) (4.2.4)\n",
            "Requirement already satisfied: dill in /usr/local/lib/python3.7/dist-packages (from pyMC3->pyGPGO) (0.3.5.1)\n",
            "Collecting semver>=2.13.0\n",
            "  Downloading semver-2.13.0-py2.py3-none-any.whl (12 kB)\n",
            "Collecting deprecat\n",
            "  Downloading deprecat-2.1.1-py2.py3-none-any.whl (9.8 kB)\n",
            "Requirement already satisfied: arviz>=0.11.0 in /usr/local/lib/python3.7/dist-packages (from pyMC3->pyGPGO) (0.12.1)\n",
            "Requirement already satisfied: patsy>=0.5.1 in /usr/local/lib/python3.7/dist-packages (from pyMC3->pyGPGO) (0.5.2)\n",
            "Requirement already satisfied: fastprogress>=0.2.0 in /usr/local/lib/python3.7/dist-packages (from pyMC3->pyGPGO) (1.0.3)\n",
            "Requirement already satisfied: filelock in /usr/local/lib/python3.7/dist-packages (from Theano-PyMC->pyGPGO) (3.8.0)\n",
            "Requirement already satisfied: xarray>=0.16.1 in /usr/local/lib/python3.7/dist-packages (from arviz>=0.11.0->pyMC3->pyGPGO) (0.20.2)\n",
            "Requirement already satisfied: matplotlib>=3.0 in /usr/local/lib/python3.7/dist-packages (from arviz>=0.11.0->pyMC3->pyGPGO) (3.2.2)\n",
            "Requirement already satisfied: setuptools>=38.4 in /usr/local/lib/python3.7/dist-packages (from arviz>=0.11.0->pyMC3->pyGPGO) (57.4.0)\n",
            "Requirement already satisfied: packaging in /usr/local/lib/python3.7/dist-packages (from arviz>=0.11.0->pyMC3->pyGPGO) (21.3)\n",
            "Requirement already satisfied: netcdf4 in /usr/local/lib/python3.7/dist-packages (from arviz>=0.11.0->pyMC3->pyGPGO) (1.6.0)\n",
            "Requirement already satisfied: xarray-einstats>=0.2 in /usr/local/lib/python3.7/dist-packages (from arviz>=0.11.0->pyMC3->pyGPGO) (0.2.2)\n",
            "Requirement already satisfied: python-dateutil>=2.1 in /usr/local/lib/python3.7/dist-packages (from matplotlib>=3.0->arviz>=0.11.0->pyMC3->pyGPGO) (2.8.2)\n",
            "Requirement already satisfied: pyparsing!=2.0.4,!=2.1.2,!=2.1.6,>=2.0.1 in /usr/local/lib/python3.7/dist-packages (from matplotlib>=3.0->arviz>=0.11.0->pyMC3->pyGPGO) (3.0.9)\n",
            "Requirement already satisfied: cycler>=0.10 in /usr/local/lib/python3.7/dist-packages (from matplotlib>=3.0->arviz>=0.11.0->pyMC3->pyGPGO) (0.11.0)\n",
            "Requirement already satisfied: kiwisolver>=1.0.1 in /usr/local/lib/python3.7/dist-packages (from matplotlib>=3.0->arviz>=0.11.0->pyMC3->pyGPGO) (1.4.4)\n",
            "Requirement already satisfied: pytz>=2017.3 in /usr/local/lib/python3.7/dist-packages (from pandas>=0.24.0->pyMC3->pyGPGO) (2022.2.1)\n",
            "Requirement already satisfied: six in /usr/local/lib/python3.7/dist-packages (from patsy>=0.5.1->pyMC3->pyGPGO) (1.15.0)\n",
            "Requirement already satisfied: importlib-metadata in /usr/local/lib/python3.7/dist-packages (from xarray>=0.16.1->arviz>=0.11.0->pyMC3->pyGPGO) (4.12.0)\n",
            "Requirement already satisfied: wrapt<2,>=1.10 in /usr/local/lib/python3.7/dist-packages (from deprecat->pyMC3->pyGPGO) (1.14.1)\n",
            "Requirement already satisfied: zipp>=0.5 in /usr/local/lib/python3.7/dist-packages (from importlib-metadata->xarray>=0.16.1->arviz>=0.11.0->pyMC3->pyGPGO) (3.8.1)\n",
            "Requirement already satisfied: cftime in /usr/local/lib/python3.7/dist-packages (from netcdf4->arviz>=0.11.0->pyMC3->pyGPGO) (1.6.1)\n",
            "Requirement already satisfied: threadpoolctl>=2.0.0 in /usr/local/lib/python3.7/dist-packages (from scikit-learn->pyGPGO) (3.1.0)\n",
            "Building wheels for collected packages: pyGPGO, Theano-PyMC\n",
            "  Building wheel for pyGPGO (setup.py) ... \u001b[?25l\u001b[?25hdone\n",
            "  Created wheel for pyGPGO: filename=pyGPGO-0.5.1-py3-none-any.whl size=19879 sha256=1cc8ee5e343720ef902bc79a82cbf8559002a71150ecba43ee8d5e65152c07f3\n",
            "  Stored in directory: /root/.cache/pip/wheels/c8/5d/0b/2160114e2f1b87791c51b66cf07f89831dbb6f49167950316f\n",
            "  Building wheel for Theano-PyMC (setup.py) ... \u001b[?25l\u001b[?25hdone\n",
            "  Created wheel for Theano-PyMC: filename=Theano_PyMC-1.1.2-py3-none-any.whl size=1529963 sha256=750f807510f74173aa83ccdd73722fe3d5e2ad4e4558f06f5671b8c593d86e0a\n",
            "  Stored in directory: /root/.cache/pip/wheels/f3/af/8c/5dd7553522d74c52a7813806fc7ee1a9caa20a3f7c8fd850d5\n",
            "Successfully built pyGPGO Theano-PyMC\n",
            "Installing collected packages: Theano-PyMC, semver, deprecat, pyMC3, pyGPGO\n",
            "Successfully installed Theano-PyMC-1.1.2 deprecat-2.1.1 pyGPGO-0.5.1 pyMC3-3.11.5 semver-2.13.0\n"
          ]
        }
      ],
      "source": [
        "pip install pyGPGO\n"
      ]
    },
    {
      "cell_type": "code",
      "execution_count": 2,
      "metadata": {
        "id": "ZJSSPbwPaEUB"
      },
      "outputs": [],
      "source": [
        "### 1. Import python modules/packages required:\n",
        "\n",
        "import numpy as np\n",
        "import pandas as pd\n",
        "import scipy as sp\n",
        "import matplotlib.pyplot as plt\n",
        "import warnings\n",
        "import itertools\n",
        "import seaborn as sns\n",
        "import time\n",
        "\n",
        "from pyGPGO.GPGO import GPGO\n",
        "from pyGPGO.surrogates.tStudentProcess import tStudentProcess\n",
        "from pyGPGO.acquisition import Acquisition\n",
        "from pyGPGO.covfunc import squaredExponential\n",
        "from joblib import Parallel, delayed\n",
        "from scipy.linalg import inv\n",
        "from scipy.spatial.distance import cdist\n",
        "from scipy.optimize import minimize\n",
        "from scipy.stats import t\n",
        "from mpl_toolkits.axes_grid1.inset_locator import inset_axes, mark_inset\n",
        "\n",
        "warnings.filterwarnings(\"ignore\", category=RuntimeWarning)\n"
      ]
    },
    {
      "cell_type": "code",
      "execution_count": 3,
      "metadata": {
        "id": "OeYcTUNoaJWa"
      },
      "outputs": [],
      "source": [
        "### Inputs:\n",
        "\n",
        "func = 'Booth'\n",
        "n_test = 500\n",
        "eps = 1e-08\n",
        "\n",
        "util = 'ERM'\n",
        "\n",
        "n_init = 5 # random initialisations\n",
        "iters = 20\n",
        "opt = True\n",
        "\n",
        "df = 3"
      ]
    },
    {
      "cell_type": "code",
      "execution_count": 4,
      "metadata": {
        "id": "xpaEOjdzaPMS"
      },
      "outputs": [],
      "source": [
        "### Objective Function - Booth(x) 2-D:\n",
        "\n",
        "def objfunc(x1_training, x2_training):\n",
        "            return  operator * ( (x1_training + 2 * x2_training -7) ** 2 +\n",
        "                                 (2 * x1_training + x2_training -5) ** 2\n",
        "                            )\n",
        "        \n",
        "# Constraints:\n",
        "lb = -10\n",
        "ub = +10\n",
        "    \n",
        "# Input array dimension(s):\n",
        "dim = 2\n",
        "\n",
        "# 2-D inputs' parameter bounds:\n",
        "param = {'x1_training': ('cont', [lb, ub]),\n",
        "                 'x2_training': ('cont', [lb, ub])\n",
        "                 }\n",
        "    \n",
        "# True y bounds:\n",
        "y_lb = 0\n",
        "operator = -1 # targets global minimum \n",
        "y_global_orig = y_lb * operator # targets global minimum\n",
        "    \n",
        "# Test data:\n",
        "x1_test = np.linspace(lb, ub, n_test)\n",
        "x2_test = np.linspace(lb, ub, n_test)\n",
        "x_test = np.column_stack((x1_test, x2_test))"
      ]
    },
    {
      "cell_type": "code",
      "execution_count": 5,
      "metadata": {
        "id": "eYpI3Zm4aGxi"
      },
      "outputs": [],
      "source": [
        "n_start_AcqFunc = iters\n",
        "inverse = -1\n"
      ]
    },
    {
      "cell_type": "code",
      "execution_count": 6,
      "metadata": {
        "id": "oO_GUmOoaV0T"
      },
      "outputs": [],
      "source": [
        "### Cumulative Regret Calculators:\n",
        "\n",
        "def min_max_array(x):\n",
        "    new_list = []\n",
        "    for i, num in enumerate(x):\n",
        "            new_list.append(np.min(x[0:i+1]))\n",
        "    return new_list\n",
        "  \n",
        "def acqFuncExact(x):\n",
        "    new_array = []\n",
        "    x = np.array(x) \n",
        "    for i, num in enumerate(x):\n",
        "            new_array = x[:-2][::-3]\n",
        "    return new_array[::-1]\n",
        "\n",
        "def acqFuncApprox(x):\n",
        "    new_array = []\n",
        "    x = np.array(x) \n",
        "    for i, num in enumerate(x):\n",
        "            new_array = x[:-1][::-3]\n",
        "    return new_array[::-1]\n"
      ]
    },
    {
      "cell_type": "code",
      "execution_count": 7,
      "metadata": {
        "id": "kuuJx0IMam9S"
      },
      "outputs": [],
      "source": [
        "### Surrogate derivatives: \n",
        "\n",
        "cov_func = squaredExponential()\n",
        "\n",
        "def kronDelta(X, Xstar):                     # Kronecker's Delta method\n",
        "    return cdist(X, Xstar) < np.finfo(np.float32).eps\n",
        "\n",
        "def se(X, Xstar, sigmaf, l, sigman):         # S.E. kernel method\n",
        "    return sigmaf * np.exp(-0.5 * cdist(X, Xstar) ** 2 / l ** 2) + sigman * kronDelta(X, Xstar)\n",
        "\n",
        "def delta(X, Xstar):                         # Distance between training X and test Xstar vectors\n",
        "    return (X - Xstar)\n",
        "   \n",
        "def der_covmat(X, Xstar, sigmaf, l, sigman): # Covariance matrix derivative terms (i.e. exact, first-order)\n",
        "    nx = len(X)\n",
        "    ny = len(Xstar)\n",
        "    return np.round(np.array([(delta(np.atleast_2d(i), np.atleast_2d(j))[0] * se(np.atleast_2d(i), np.atleast_2d(j), sigmaf, l, sigman)[0]).sum() for (i, j) in itertools.product(X, Xstar)]).reshape(nx, ny), 8)\n",
        "\n",
        "class dtStudentProcess(tStudentProcess):    # Via inheritance, also optimises hyperparameters when opt = TRUE\n",
        "    \n",
        "    def AcqGrad(self, Xstar):               # Method returning exact, first-order derivatives of the STP's posterior mean and standard deviation\n",
        "        Xstar = np.atleast_2d(Xstar)\n",
        "        Kstar = self.covfunc.K(self.X, Xstar).T\n",
        "        dKstar = der_covmat(self.X, Xstar, self.covfunc.sigmaf, self.covfunc.l, self.covfunc.sigman).T\n",
        "        \n",
        "        smd_adj = (self.nu + self.beta1 - 2) / (self.nu + self.n1 - 2)\n",
        "\n",
        "        alpha = np.dot(np.linalg.inv(self.K11 + (self.covfunc.sigman**2) * np.eye(len(self.X))), self.y)\n",
        "        alpha_Kstar = np.dot(np.linalg.inv(self.K11 + (self.covfunc.sigman**2) * np.eye(len(self.X))), Kstar.T)      \n",
        "        \n",
        "        dm = np.dot(dKstar, alpha)\n",
        "        ds = -2 * smd_adj * np.dot(dKstar, alpha_Kstar)\n",
        "        \n",
        "        return dm, ds \n",
        "        "
      ]
    },
    {
      "cell_type": "code",
      "execution_count": 8,
      "metadata": {
        "id": "_Dc3YVHVaXz7"
      },
      "outputs": [],
      "source": [
        "### Add exact acquisition function gradient as attribute:\n",
        "\n",
        "class Acquisition_grad(Acquisition):    \n",
        "    def __init__(self, mode, eps=eps, **params):\n",
        "        \n",
        "        self.params = params\n",
        "        self.eps = eps\n",
        "\n",
        "        mode_dict = {\n",
        "            'ERM': self.ERM\n",
        "        }\n",
        "\n",
        "        self.f = mode_dict[mode]\n",
        "    \n",
        "    def ERM(self, tau, mean, std, ds, dm, nu=3.0):\n",
        "        gamma = (mean - y_global_orig - self.eps) / (std + self.eps)\n",
        "        gamma_h = (mean - tau) / (std + self.eps)\n",
        "        dsdx = ds / (2 * (std + self.eps))\n",
        "        dmdx = (dm - gamma * dsdx) / (std + self.eps)\n",
        "        \n",
        "        f = (std + self.eps) * (gamma * t.cdf(gamma, df=nu) + (nu + gamma ** 2)/(nu - 1) * t.pdf(gamma, df=nu))\n",
        "        df1 = f / (std + self.eps) * dsdx \n",
        "        df2 = (std + self.eps) * (t.cdf(gamma, df=nu) * dmdx + gamma * t.pdf(gamma, df=nu) \\\n",
        "            * (1 - (nu + gamma ** 2)/(nu - 1) + 2/(nu - 1) * dmdx))\n",
        "        df = (df1 + df2)[0]\n",
        "        df_arr = []\n",
        "\n",
        "        for j in range(0, dim):\n",
        "          df_arr.append(df)\n",
        "        return f, np.asarray(df_arr).transpose()\n",
        "        \n",
        "    def d_eval(self, tau, mean, std, ds, dm, nu=3.0):\n",
        "    \n",
        "        return self.f(tau, mean, std, ds, dm, nu=3.0, **self.params)\n",
        "        "
      ]
    },
    {
      "cell_type": "code",
      "execution_count": 9,
      "metadata": {
        "id": "PITEQC8YSl7i"
      },
      "outputs": [],
      "source": [
        "## GPGO_multi: \n",
        "\n",
        "class GPGO_multi(GPGO):\n",
        "    n_start = n_start_AcqFunc\n",
        "\n",
        "    def __init__(self, surrogate, acquisition, f, parameter_dict, n_jobs=1):\n",
        "        self.GP = surrogate\n",
        "        self.A = acquisition\n",
        "        self.f = f\n",
        "        self.parameters = parameter_dict\n",
        "        self.n_jobs = n_jobs\n",
        "\n",
        "        self.parameter_key = list(parameter_dict.keys())\n",
        "        self.parameter_value = list(parameter_dict.values())\n",
        "        self.parameter_type = [p[0] for p in self.parameter_value]\n",
        "        self.parameter_range = [p[1] for p in self.parameter_value]\n",
        "\n",
        "        self.history = []\n",
        "        self.header =   'Evaluation \\t Proposed point \\t  Current eval. \\t  Best eval. \\t        Exact ERM: StdDev. x \\t Approx ERM: StdDev. x '\n",
        "        self.template = '{:3}\\t {}\\t {:3}\\t {:3}\\t {:3}\\t {:3}'\n",
        " \n",
        "    def acqfuncExact(self, xnew, n_start=n_start_AcqFunc):\n",
        "        new_mean, new_var = self.GP.predict(xnew, return_std=True)\n",
        "        new_std = np.sqrt(new_var + eps)\n",
        "        dm, ds = self.GP.AcqGrad(xnew)\n",
        "        f, df = self.A.d_eval(self.tau, new_mean, new_std, ds=ds, dm=dm, nu=3.0)\n",
        "\n",
        "        return -f, -df\n",
        "   \n",
        "    def acqfuncApprox(self, xnew, n_start=n_start_AcqFunc):\n",
        "        new_mean, new_var = self.GP.predict(xnew, return_std=True)\n",
        "        new_std = np.sqrt(new_var + eps)\n",
        "        dm, ds = self.GP.AcqGrad(xnew)\n",
        "        f, df = self.A.d_eval(self.tau, new_mean, new_std, ds=ds, dm=dm, nu=3.0)\n",
        "\n",
        "        return -f\n",
        "   \n",
        "    def _optimizeAcq(self, method='L-BFGS-B', n_start=n_start_AcqFunc):\n",
        "        \n",
        "        start_points_dict = [self._sampleParam() for i in range(n_start)]\n",
        "        start_points_arr = np.array([list(s.values())\n",
        "                                     for s in start_points_dict])\n",
        "        x_best = np.empty((n_start, len(self.parameter_key)))\n",
        "        f_best = np.empty((n_start,))\n",
        "        opt = Parallel(n_jobs=self.n_jobs)(delayed(minimize)(self.acqfuncApprox,\n",
        "                                                                 x0=start_point,\n",
        "                                                                 method=method,\n",
        "                                                                 jac = False,\n",
        "                                                                 bounds=self.parameter_range) for start_point in\n",
        "                                               start_points_arr)\n",
        "        x_best = np.array([res.x for res in opt])\n",
        "        f_best = np.array([np.atleast_1d(res.fun)[0] for res in opt])\n",
        "        f_best_min = min(f_best)\n",
        "\n",
        "        self.x_best = x_best\n",
        "        self.f_best = f_best\n",
        "        self.f_best_min = f_best_min\n",
        "        self.x_best_std = np.std(x_best)\n",
        "        self.best = x_best[np.argmin(f_best)]\n",
        "        self.start_points_arr = start_points_arr        \n",
        "        self.history.append(self.x_best_std)\n",
        "\n",
        "        x_best_exact = np.empty((n_start, len(self.parameter_key)))\n",
        "        f_best_exact = np.empty((n_start,))\n",
        "        opt_exact = Parallel(n_jobs=self.n_jobs)(delayed(minimize)(self.acqfuncExact,\n",
        "                                                                 x0=start_point,\n",
        "                                                                 method=method,\n",
        "                                                                 jac = True,\n",
        "                                                                 bounds=self.parameter_range) for start_point in\n",
        "                                               start_points_arr)\n",
        "        x_best_exact = np.array([res.x for res in opt_exact])\n",
        "        f_best_exact = np.array([np.atleast_1d(res.fun)[0] for res in opt_exact])\n",
        "        f_best_min_exact = min(f_best_exact)\n",
        "\n",
        "        self.x_best_exact = x_best_exact\n",
        "        self.f_best_exact = f_best_exact\n",
        "        self.f_best_min_exact = f_best_min_exact\n",
        "        self.x_best_std_exact = np.std(x_best_exact)\n",
        "        self.best_exact = x_best_exact[np.argmin(f_best_exact)]\n",
        "        self.start_points_arr = start_points_arr\n",
        "        self.history.append(self.x_best_std_exact)\n",
        "\n",
        "    def _printInit(self):\n",
        "        print(self.header)\n",
        "        for init_eval in range(self.init_evals):\n",
        "            print(self.template.format('init', self.GP.X[init_eval], inverse * self.GP.y[init_eval], inverse * self.tau, '', ''))\n",
        "      \n",
        "    def _printCurrent(self):\n",
        "        OKGREEN = '\\033[92m'\n",
        "        ENDC = '\\033[0m'\n",
        "        BOLD = '\\033[1m'\n",
        "        eval = str(len(self.GP.y) - self.init_evals)\n",
        "        proposed = str(self.best)\n",
        "        curr_eval = str(inverse * self.GP.y[-1])\n",
        "        curr_best = str(inverse * self.tau)\n",
        "        min_acqfunc = str(self.f_best_min)\n",
        "        min_acqfunc_exact = str(self.f_best_min_exact)\n",
        "        x_best_std = str(self.x_best_std)\n",
        "        x_best_std_exact = str(self.x_best_std_exact)\n",
        "        if float(curr_eval) <= float(curr_best):\n",
        "            eval = BOLD + OKGREEN + eval + ENDC\n",
        "            proposed = BOLD + OKGREEN + proposed + ENDC\n",
        "            curr_eval = BOLD + OKGREEN + curr_eval + ENDC\n",
        "            curr_best = BOLD + OKGREEN + curr_best + ENDC\n",
        "            x_best_std = BOLD + OKGREEN + x_best_std + ENDC\n",
        "            x_best_std_exact = BOLD + OKGREEN + x_best_std_exact + ENDC\n",
        "        print(self.template.format(eval, proposed, curr_eval, curr_best, x_best_std_exact, x_best_std))\n",
        "        \n",
        "    def run(self, max_iter=10, init_evals=3, resume=False):\n",
        "        \n",
        "        if not resume:\n",
        "            self.init_evals = init_evals\n",
        "            self._firstRun(self.init_evals)\n",
        "            self._printInit()\n",
        "        for iteration in range(max_iter):\n",
        "            self._optimizeAcq()\n",
        "            self.updateGP()\n",
        "            self._printCurrent()\n"
      ]
    },
    {
      "cell_type": "code",
      "execution_count": 10,
      "metadata": {
        "id": "b_B-w81BJxKN"
      },
      "outputs": [],
      "source": [
        "## dGPGO:\n",
        "\n",
        "class dGPGO(GPGO):\n",
        "    n_start = n_start_AcqFunc\n",
        "\n",
        "    def __init__(self, surrogate, acquisition, f, parameter_dict, n_jobs=1):\n",
        "        self.GP = surrogate\n",
        "        self.A = acquisition\n",
        "        self.f = f\n",
        "        self.parameters = parameter_dict\n",
        "        self.n_jobs = n_jobs\n",
        "\n",
        "        self.parameter_key = list(parameter_dict.keys())\n",
        "        self.parameter_value = list(parameter_dict.values())\n",
        "        self.parameter_type = [p[0] for p in self.parameter_value]\n",
        "        self.parameter_range = [p[1] for p in self.parameter_value]\n",
        "\n",
        "        self.history = []\n",
        "        self.header =   'Evaluation \\t Proposed point \\t  Current eval. \\t  Best eval. \\t        Exact ERM: StdDev. x \\t Approx ERM: StdDev. x '\n",
        "        self.template = '{:3}\\t {}\\t {:3}\\t {:3}\\t {:3}\\t {:3}'\n",
        "\n",
        "    def acqfuncExact(self, xnew, n_start=n_start_AcqFunc):\n",
        "        new_mean, new_var = self.GP.predict(xnew, return_std=True)\n",
        "        new_std = np.sqrt(new_var + eps)\n",
        "        dm, ds = self.GP.AcqGrad(xnew)\n",
        "        f, df = self.A.d_eval(self.tau, new_mean, new_std, ds=ds, dm=dm, nu=3.0)\n",
        "\n",
        "        return -f, -df\n",
        "   \n",
        "    def acqfuncApprox(self, xnew, n_start=n_start_AcqFunc):\n",
        "        new_mean, new_var = self.GP.predict(xnew, return_std=True)\n",
        "        new_std = np.sqrt(new_var + eps)\n",
        "        dm, ds = self.GP.AcqGrad(xnew)\n",
        "        f, df = self.A.d_eval(self.tau, new_mean, new_std, ds=ds, dm=dm, nu=3.0)\n",
        "\n",
        "        return -f\n",
        "\n",
        "    def d_optimizeAcq(self, method='L-BFGS-B', n_start=n_start_AcqFunc):\n",
        "        start_points_dict = [self._sampleParam() for i in range(n_start)]\n",
        "        start_points_arr = np.array([list(s.values())\n",
        "                                     for s in start_points_dict])\n",
        "        x_best = np.empty((n_start, len(self.parameter_key)))\n",
        "        f_best = np.empty((n_start,))\n",
        "        opt = Parallel(n_jobs=self.n_jobs)(delayed(minimize)(self.acqfuncExact,\n",
        "                                                                 x0=start_point,\n",
        "                                                                 method=method,\n",
        "                                                                 jac = True,\n",
        "                                                                 bounds=self.parameter_range) for start_point in\n",
        "                                               start_points_arr)\n",
        "        x_best = np.array([res.x for res in opt])\n",
        "        f_best = np.array([np.atleast_1d(res.fun)[0] for res in opt])\n",
        "        f_best_min = min(f_best)\n",
        "\n",
        "        self.x_best = x_best\n",
        "        self.f_best = f_best\n",
        "        self.f_best_min = f_best_min\n",
        "        self.x_best_std = np.std(x_best)\n",
        "        self.best = x_best[np.argmin(f_best)]\n",
        "        self.start_points_arr = start_points_arr\n",
        "        self.history.append(self.x_best_std)\n",
        "\n",
        "        x_best_approx = np.empty((n_start, len(self.parameter_key)))\n",
        "        f_best_approx = np.empty((n_start,))\n",
        "        opt_approx = Parallel(n_jobs=self.n_jobs)(delayed(minimize)(self.acqfuncApprox,\n",
        "                                                                 x0=start_point,\n",
        "                                                                 method=method,\n",
        "                                                                 jac = False,\n",
        "                                                                 bounds=self.parameter_range) for start_point in\n",
        "                                               start_points_arr)\n",
        "        x_best_approx = np.array([res.x for res in opt_approx])\n",
        "        f_best_approx = np.array([np.atleast_1d(res.fun)[0] for res in opt_approx])\n",
        "        f_best_min_approx = min(f_best_approx)\n",
        "\n",
        "        self.x_best_approx = x_best_approx\n",
        "        self.f_best_approx = f_best_approx\n",
        "        self.f_best_min_approx = f_best_min_approx\n",
        "        self.x_best_std_approx = np.std(x_best_approx)\n",
        "        self.best_approx = x_best_approx[np.argmin(f_best_approx)]\n",
        "        self.start_points_arr = start_points_arr\n",
        "        self.history.append(self.x_best_std_approx)\n",
        "    \n",
        "    def _printInit(self):\n",
        "        print(self.header)\n",
        "        for init_eval in range(self.init_evals):\n",
        "            print(self.template.format('init', self.GP.X[init_eval], inverse * self.GP.y[init_eval], inverse * self.tau, '', ''))\n",
        "      \n",
        "    def _printCurrent(self):\n",
        "        OKGREEN = '\\033[92m'\n",
        "        ENDC = '\\033[0m'\n",
        "        BOLD = '\\033[1m'\n",
        "        eval = str(len(self.GP.y) - self.init_evals)\n",
        "        proposed = str(self.best)\n",
        "        curr_eval = str(inverse * self.GP.y[-1])\n",
        "        curr_best = str(inverse * self.tau)\n",
        "        min_acqfunc = str(self.f_best_min)\n",
        "        min_acqfunc_approx = str(self.f_best_min_approx)\n",
        "        x_best_std = str(self.x_best_std)\n",
        "        x_best_std_approx = str(self.x_best_std_approx)\n",
        "        if float(curr_eval) <= float(curr_best):\n",
        "            eval = BOLD + OKGREEN + eval + ENDC\n",
        "            proposed = BOLD + OKGREEN + proposed + ENDC\n",
        "            curr_eval = BOLD + OKGREEN + curr_eval + ENDC\n",
        "            curr_best = BOLD + OKGREEN + curr_best + ENDC\n",
        "            x_best_std = BOLD + OKGREEN + x_best_std + ENDC\n",
        "            x_best_std_approx = BOLD + OKGREEN + x_best_std_approx + ENDC\n",
        "        print(self.template.format(eval, proposed, curr_eval, curr_best, x_best_std, x_best_std_approx))\n",
        "\n",
        "    def run(self, max_iter=10, init_evals=3, resume=False):\n",
        "        \n",
        "        if not resume:\n",
        "            self.init_evals = init_evals\n",
        "            self._firstRun(self.init_evals)\n",
        "            self._printInit()\n",
        "        for iteration in range(max_iter):\n",
        "            self.d_optimizeAcq()\n",
        "            self.updateGP()\n",
        "            self._printCurrent()\n"
      ]
    },
    {
      "cell_type": "code",
      "execution_count": 11,
      "metadata": {
        "id": "qXIKGuXVGEg2"
      },
      "outputs": [],
      "source": [
        "###Reproducible set-seeds:\n",
        "\n",
        "run_num_1 = 1\n",
        "run_num_2 = 2\n",
        "run_num_3 = 3\n",
        "run_num_4 = 4\n",
        "run_num_5 = 5\n",
        "run_num_6 = 6\n",
        "run_num_7 = 7\n",
        "run_num_8 = 8\n",
        "run_num_9 = 9\n",
        "run_num_10 = 10\n",
        "run_num_11 = 11\n",
        "run_num_12 = 12\n",
        "run_num_13 = 13\n",
        "run_num_14 = 14\n",
        "run_num_15 = 15\n",
        "run_num_16 = 16\n",
        "run_num_17 = 17\n",
        "run_num_18 = 18\n",
        "run_num_19 = 19\n",
        "run_num_20 = 20\n"
      ]
    },
    {
      "cell_type": "code",
      "execution_count": 12,
      "metadata": {
        "colab": {
          "base_uri": "https://localhost:8080/"
        },
        "id": "JEhagQmnTVIK",
        "outputId": "68b07a4d-b99d-4bb5-d95e-57c77e3fd3d3"
      },
      "outputs": [
        {
          "output_type": "execute_result",
          "data": {
            "text/plain": [
              "1662459867.1050496"
            ]
          },
          "metadata": {},
          "execution_count": 12
        }
      ],
      "source": [
        "start_approx = time.time()\n",
        "start_approx\n"
      ]
    },
    {
      "cell_type": "code",
      "execution_count": 13,
      "metadata": {
        "colab": {
          "base_uri": "https://localhost:8080/"
        },
        "id": "aH0YSTXufD1v",
        "outputId": "25713161-e432-435c-e184-67e2866b87c1"
      },
      "outputs": [
        {
          "output_type": "stream",
          "name": "stdout",
          "text": [
            "Evaluation \t Proposed point \t  Current eval. \t  Best eval. \t        Exact ERM: StdDev. x \t Approx ERM: StdDev. x \n",
            "init\t [-1.65955991  4.40648987]\t 15.332210716052247\t 15.332210716052247\t    \t    \n",
            "init\t [-9.9977125  -3.95334855]\t 1458.2611077633842\t 15.332210716052247\t    \t    \n",
            "init\t [-7.06488218 -8.1532281 ]\t 1666.779874000304\t 15.332210716052247\t    \t    \n",
            "init\t [-6.27479577 -3.08878546]\t 804.3371752309802\t 15.332210716052247\t    \t    \n",
            "init\t [-2.06465052  0.77633468]\t 126.2019077328938\t 15.332210716052247\t    \t    \n",
            "1  \t [ 7.89213327 -8.29911577]\t 252.857497365554\t 15.332210716052247\t 6.813384919686618\t 7.181352358002538\n",
            "2  \t [7.66612182 2.47344414]\t 195.49152221204983\t 15.332210716052247\t 6.748722926870652\t 6.271495103160669\n",
            "3  \t [1.62717855 9.40039978]\t 238.9058988758153\t 15.332210716052247\t 6.639067253383088\t 6.639885732296822\n",
            "4  \t [-9.56950389  8.95940422]\t 232.24098716076017\t 15.332210716052247\t 6.861265611518378\t 8.477256551323238\n",
            "5  \t [10. 10.]\t 1154.0\t 15.332210716052247\t 6.7243668684029005\t 7.12444573003759\n",
            "6  \t [ -0.45646314 -10.        ]\t 1007.0785913108265\t 15.332210716052247\t 5.258964125584973\t 6.158592743051523\n",
            "7  \t [ 1.91198896 -3.94074818]\t 194.3894601511631\t 15.332210716052247\t 6.56578294658032\t 7.180936754102034\n",
            "8  \t [-8.76568066  2.78563792]\t 493.8194822388091\t 15.332210716052247\t 6.157663318287033\t 7.383321857109422\n",
            "9  \t [10.         -2.94044574]\t 153.73238472312448\t 15.332210716052247\t 6.153420584439414\t 7.639837379452026\n",
            "10 \t [3.99494486 5.14235398]\t 119.12673264513413\t 15.332210716052247\t 6.3235184328974565\t 6.625080457161343\n",
            "11 \t [-4.01339671 10.        ]\t 89.92051712827514\t 15.332210716052247\t 6.431630291699708\t 6.8925484520823455\n",
            "\u001b[1m\u001b[92m12\u001b[0m\t \u001b[1m\u001b[92m[2.93139253 0.65474052]\u001b[0m\t \u001b[1m\u001b[92m9.915662560049077\u001b[0m\t \u001b[1m\u001b[92m9.915662560049077\u001b[0m\t \u001b[1m\u001b[92m6.795300519075384\u001b[0m\t \u001b[1m\u001b[92m6.432115210842766\u001b[0m\n",
            "13 \t [-2.30929634 -5.60393808]\t 652.6798096382407\t 9.915662560049077\t 5.243960506772575\t 6.54246883919755\n",
            "14 \t [ 3.51016502 -7.95806968]\t 411.848592376191\t 9.915662560049077\t 6.972321293707245\t 6.639693397868168\n",
            "15 \t [-5.34007035  5.92635419]\t 95.37387290312182\t 9.915662560049077\t 4.111378478120334\t 5.959078586390449\n",
            "16 \t [ 5.83476535 -1.87077245]\t 47.10456628073396\t 9.915662560049077\t 6.479625128662207\t 6.858695259775079\n",
            "17 \t [-2.47273567  9.90104645]\t 106.69759429977512\t 9.915662560049077\t 5.66008615144778\t 5.66008615144778\n",
            "18 \t [6.03258783 8.56540575]\t 505.5705528230112\t 9.915662560049077\t 5.388825044409907\t 6.4611664164314755\n",
            "19 \t [-3.28672398 -8.95374107]\t 1216.2787479466879\t 9.915662560049077\t 6.419939093650122\t 6.534091290843864\n",
            "20 \t [ 7.63541246 -0.2649851 ]\t 100.12794856608573\t 9.915662560049077\t 5.737628342737344\t 5.882433538346931\n"
          ]
        }
      ],
      "source": [
        "### ESTIMATED STP ERM GRADIENTS\n",
        "\n",
        "np.random.seed(run_num_1)\n",
        "surrogate_approx_1 = dtStudentProcess(cov_func, optimize=opt, nu = df)\n",
        "\n",
        "approx_1 = GPGO_multi(surrogate_approx_1, Acquisition_grad(util), objfunc, param)\n",
        "approx_1.run(init_evals=n_init, max_iter=iters)\n"
      ]
    },
    {
      "cell_type": "code",
      "execution_count": 14,
      "metadata": {
        "id": "wTxsSZxFGBB5",
        "colab": {
          "base_uri": "https://localhost:8080/"
        },
        "outputId": "821d0169-6626-4abf-b34e-dad5aed31b96"
      },
      "outputs": [
        {
          "output_type": "stream",
          "name": "stdout",
          "text": [
            "Evaluation \t Proposed point \t  Current eval. \t  Best eval. \t        Exact ERM: StdDev. x \t Approx ERM: StdDev. x \n",
            "init\t [-1.28010196 -9.48147536]\t 1032.6027521517153\t 92.40504507724606\t    \t    \n",
            "init\t [ 0.99324956 -1.29355215]\t 92.40504507724606\t 92.40504507724606\t    \t    \n",
            "init\t [-1.59264396 -3.39330358]\t 370.5851459944721\t 92.40504507724606\t    \t    \n",
            "init\t [-5.90702732  2.38541933]\t 274.38308294748543\t 92.40504507724606\t    \t    \n",
            "init\t [-4.00690653 -4.6634545 ]\t 725.9498417670716\t 92.40504507724606\t    \t    \n",
            "1  \t [-10.  10.]\t 234.0\t 92.40504507724606\t 6.483926636905752\t 6.612501164031472\n",
            "2  \t [10.         -9.51499839]\t 287.04603962335784\t 92.40504507724606\t 6.186382350312467\t 6.542845615232203\n",
            "3  \t [10. 10.]\t 1154.0\t 92.40504507724606\t 6.886163896227533\t 6.568512388130119\n",
            "4  \t [8.51803193 1.4054842 ]\t 199.41545789668123\t 92.40504507724606\t 5.958451101667243\t 6.202339595608988\n",
            "5  \t [3.27683917 7.92889665]\t 237.16853314402582\t 92.40504507724606\t 6.6829149056063635\t 6.601413198477508\n",
            "6  \t [-10. -10.]\t 2594.0\t 92.40504507724606\t 6.859712318762381\t 6.87859188286379\n",
            "7  \t [-3.62128367 10.        ]\t 92.989428272673\t 92.40504507724606\t 5.812362675237269\t 6.055186071472069\n",
            "8  \t [ 4.25708797 -6.30172713]\t 243.28140008206952\t 92.40504507724606\t 4.82499412862228\t 4.985868832191715\n",
            "9  \t [-10.         -2.0318078]\t 1174.3945350421218\t 92.40504507724606\t 5.102076222059994\t 5.694757087655269\n",
            "10 \t [10.         -3.91723151]\t 146.19979009572035\t 92.40504507724606\t 5.91678280960448\t 5.8173144517989215\n",
            "\u001b[1m\u001b[92m11\u001b[0m\t \u001b[1m\u001b[92m[3.99173366 2.95681302]\u001b[0m\t \u001b[1m\u001b[92m43.728045607704395\u001b[0m\t \u001b[1m\u001b[92m43.728045607704395\u001b[0m\t \u001b[1m\u001b[92m5.582990196525441\u001b[0m\t \u001b[1m\u001b[92m5.857471928920365\u001b[0m\n",
            "\u001b[1m\u001b[92m12\u001b[0m\t \u001b[1m\u001b[92m[-0.99770991  4.61657798]\u001b[0m\t \u001b[1m\u001b[92m7.185215461266213\u001b[0m\t \u001b[1m\u001b[92m7.185215461266213\u001b[0m\t \u001b[1m\u001b[92m5.372939071985181\u001b[0m\t \u001b[1m\u001b[92m5.702763569372466\u001b[0m\n",
            "13 \t [-10.           5.03009103]\t 446.95833742343603\t 7.185215461266213\t 6.471680225768661\t 6.450913507390928\n",
            "14 \t [ 5.41831868 -1.85683084]\t 43.87951744467307\t 7.185215461266213\t 5.676080000336354\t 5.466333912032975\n",
            "15 \t [7.1162378  5.96725013]\t 376.2519497907307\t 7.185215461266213\t 5.931552046667759\t 5.332224337576976\n",
            "16 \t [-5.63660923 -8.80302141]\t 1543.4358084730202\t 7.185215461266213\t 5.171671879995434\t 5.188588840832201\n",
            "17 \t [ 0.56413065 -3.87491574]\t 261.2447628536747\t 7.185215461266213\t 5.69318061017296\t 5.696409322884844\n",
            "18 \t [-5.9180456   6.72101534]\t 102.58932002185868\t 7.185215461266213\t 5.685782022519611\t 5.030561789430943\n",
            "19 \t [  5.8274878 -10.       ]\t 459.46446096011954\t 7.185215461266213\t 5.153154651972761\t 5.13508150029413\n",
            "20 \t [-0.6992521   7.73801437]\t 62.27254247205398\t 7.185215461266213\t 5.757406629170809\t 5.761453490205935\n"
          ]
        }
      ],
      "source": [
        "### ESTIMATED STP ERM GRADIENTS\n",
        "\n",
        "np.random.seed(run_num_2)\n",
        "surrogate_approx_2 = dtStudentProcess(cov_func, optimize=opt, nu = df)\n",
        "\n",
        "approx_2 = GPGO_multi(surrogate_approx_2, Acquisition_grad(util), objfunc, param)\n",
        "approx_2.run(init_evals=n_init, max_iter=iters)\n"
      ]
    },
    {
      "cell_type": "code",
      "execution_count": 15,
      "metadata": {
        "id": "-dgzIrUIGCGT",
        "colab": {
          "base_uri": "https://localhost:8080/"
        },
        "outputId": "10b9dc7b-7362-4717-a0e9-f5470f3a506a"
      },
      "outputs": [
        {
          "output_type": "stream",
          "name": "stdout",
          "text": [
            "Evaluation \t Proposed point \t  Current eval. \t  Best eval. \t        Exact ERM: StdDev. x \t Approx ERM: StdDev. x \n",
            "init\t [1.01595805 4.16295645]\t 6.912079999083602\t 6.912079999083602\t    \t    \n",
            "init\t [-4.18190522  0.2165521 ]\t 288.3871250813255\t 6.912079999083602\t    \t    \n",
            "init\t [7.85893909 7.92586178]\t 626.8352854305291\t 6.912079999083602\t    \t    \n",
            "init\t [-7.48829379 -5.85514244]\t 1353.6437998345716\t 6.912079999083602\t    \t    \n",
            "init\t [-8.97065593 -1.18380313]\t 918.3130335940459\t 6.912079999083602\t    \t    \n",
            "1  \t [ 5.60629529 -3.87272935]\t 88.9992584872525\t 6.912079999083602\t 4.717150437873575\t 4.717150437873575\n",
            "2  \t [-6.2437035   9.04202486]\t 94.75343105833329\t 6.912079999083602\t 6.58813484365419\t 7.009402017260656\n",
            "3  \t [10.          0.15212474]\t 240.50494881893536\t 6.912079999083602\t 6.7395640104523\t 6.851382576828079\n",
            "4  \t [-0.42169096 -8.75441039]\t 834.625955715487\t 6.912079999083602\t 6.443187405966922\t 6.424923604620764\n",
            "5  \t [10.         -8.11756666]\t 222.5366426424971\t 6.912079999083602\t 5.546235797275152\t 7.110455331965438\n",
            "6  \t [-9.21277105  4.93342182]\t 382.22930688812016\t 6.912079999083602\t 6.504485518363148\t 6.3740263901616965\n",
            "7  \t [ 0.69850669 -0.70926041]\t 78.19409262167642\t 6.912079999083602\t 5.797289785347145\t 5.838158922921258\n",
            "8  \t [-10. -10.]\t 2594.0\t 6.912079999083602\t 5.7204219641662295\t 7.082408666183468\n",
            "9  \t [ 5.74317947 -0.19878238]\t 42.2706096709416\t 6.912079999083602\t 5.353002637551311\t 5.698950766943839\n",
            "10 \t [-1.45882167  8.3749067 ]\t 68.94963382188247\t 6.912079999083602\t 5.852820937452743\t 6.504066052057261\n",
            "11 \t [-4.67617006 -9.97354931]\t 1591.7800200785114\t 6.912079999083602\t 5.834533741701419\t 5.717837724510608\n",
            "12 \t [-2.82301848 -4.5249568 ]\t 586.346616490385\t 6.912079999083602\t 5.874094425712659\t 6.255150769868678\n",
            "13 \t [ 3.08059428 10.        ]\t 383.1576427699805\t 6.912079999083602\t 7.139547659078067\t 8.110699941498675\n",
            "14 \t [4.91742526 4.04336884]\t 114.87275146969043\t 6.912079999083602\t 5.517997679932054\t 6.294758056306762\n",
            "15 \t [-3.95767409  4.6741016 ]\t 70.5085415308683\t 6.912079999083602\t 5.510096499746144\t 5.53997067018393\n",
            "16 \t [  5.01703352 -10.        ]\t 507.91130520312856\t 6.912079999083602\t 5.3745569146515715\t 8.771773359975434\n",
            "17 \t [ 1.62178128 -4.79373611]\t 266.876678983349\t 6.912079999083602\t 6.487492279222683\t 6.701126368460552\n",
            "18 \t [ 4.70293075 -5.98326533]\t 205.9384852288142\t 6.912079999083602\t 6.314641415888902\t 6.271027752848399\n",
            "19 \t [-10.  10.]\t 234.0\t 6.912079999083602\t 5.671459059937808\t 5.876527421147126\n",
            "20 \t [10.          4.53000749]\t 526.8651534596738\t 6.912079999083602\t 5.548665782768819\t 5.7550607019544\n"
          ]
        }
      ],
      "source": [
        "### ESTIMATED STP ERM GRADIENTS\n",
        "\n",
        "np.random.seed(run_num_3)\n",
        "surrogate_approx_3 = dtStudentProcess(cov_func, optimize=opt, nu = df)\n",
        "\n",
        "approx_3 = GPGO_multi(surrogate_approx_3, Acquisition_grad(util), objfunc, param)\n",
        "approx_3.run(init_evals=n_init, max_iter=iters)\n"
      ]
    },
    {
      "cell_type": "code",
      "execution_count": 16,
      "metadata": {
        "id": "hOtG-2sCGCKS",
        "colab": {
          "base_uri": "https://localhost:8080/"
        },
        "outputId": "ce08a9ad-538a-41df-dd12-d4949ef82ed0"
      },
      "outputs": [
        {
          "output_type": "stream",
          "name": "stdout",
          "text": [
            "Evaluation \t Proposed point \t  Current eval. \t  Best eval. \t        Exact ERM: StdDev. x \t Approx ERM: StdDev. x \n",
            "init\t [9.34059678 0.94464498]\t 231.80709501196006\t 215.08077877054313\t    \t    \n",
            "init\t [9.4536872  4.29631987]\t 453.3958241553961\t 215.08077877054313\t    \t    \n",
            "init\t [ 3.95457649 -5.67821009]\t 215.08077877054313\t 215.08077877054313\t    \t    \n",
            "init\t [ 9.5254891 -9.8753949]\t 314.14647993232734\t 215.08077877054313\t    \t    \n",
            "init\t [-4.94035275 -1.30416935]\t 473.61459720928724\t 215.08077877054313\t    \t    \n",
            "1  \t [-10. -10.]\t 2594.0\t 215.08077877054313\t 5.520879884521139\t 6.074805396848882\n",
            "\u001b[1m\u001b[92m2\u001b[0m\t \u001b[1m\u001b[92m[1.43282743 6.87413988]\u001b[0m\t \u001b[1m\u001b[92m89.39616910477575\u001b[0m\t \u001b[1m\u001b[92m89.39616910477575\u001b[0m\t \u001b[1m\u001b[92m5.896308199623629\u001b[0m\t \u001b[1m\u001b[92m5.9577654592052\u001b[0m\n",
            "3  \t [-10.  10.]\t 234.0\t 89.39616910477575\t 6.6146996695556615\t 6.981243657900718\n",
            "\u001b[1m\u001b[92m4\u001b[0m\t \u001b[1m\u001b[92m[1.92634932 0.19217821]\u001b[0m\t \u001b[1m\u001b[92m22.901740789057865\u001b[0m\t \u001b[1m\u001b[92m22.901740789057865\u001b[0m\t \u001b[1m\u001b[92m6.433094664176779\u001b[0m\t \u001b[1m\u001b[92m6.537306184756057\u001b[0m\n",
            "5  \t [-4.73528101  5.9269116 ]\t 73.00801478255636\t 22.901740789057865\t 5.655750093228452\t 5.986365418597166\n",
            "6  \t [-3.5249608  -7.68742692]\t 1060.3633251516749\t 22.901740789057865\t 5.793481275515408\t 5.879166368325554\n",
            "7  \t [ 6.84418982 10.        ]\t 743.0474032552797\t 22.901740789057865\t 5.7653299432426355\t 5.2611598209229475\n",
            "8  \t [-10.           3.14450077]\t 592.3883345091535\t 22.901740789057865\t 6.2267658202377785\t 6.442995791443561\n",
            "9  \t [-10.          -3.87585657]\t 1446.4623963370102\t 22.901740789057865\t 5.583733936939925\t 6.400162251434462\n",
            "10 \t [10.         -4.42869189]\t 146.06149989297938\t 22.901740789057865\t 5.997929930857596\t 6.582213296620673\n",
            "11 \t [  1.40761562 -10.        ]\t 803.4387281486632\t 22.901740789057865\t 6.768769676214325\t 6.37813868309698\n",
            "12 \t [-2.91916568  8.15405406]\t 48.02393021395088\t 22.901740789057865\t 5.843881102236819\t 5.657072876541434\n",
            "13 \t [-0.49403372 -3.60115295]\t 307.9355460330161\t 22.901740789057865\t 6.155708369720963\t 6.147317190192005\n",
            "14 \t [-1.67745491  2.31555546]\t 52.84670082917873\t 22.901740789057865\t 6.059379781173491\t 6.000609311101025\n",
            "15 \t [4.62698059 3.52798358]\t 82.48866392823726\t 22.901740789057865\t 6.0475998976594\t 6.195741879199197\n",
            "16 \t [-5.96430054 10.        ]\t 97.50657982562123\t 22.901740789057865\t 6.6460984616022705\t 6.766390804167685\n",
            "17 \t [-8.10797379  7.20532234]\t 196.78388741436467\t 22.901740789057865\t 5.9499150353590755\t 5.714202309419626\n",
            "18 \t [ 5.61292033 -1.51328447]\t 41.68847986933086\t 22.901740789057865\t 6.488596451137067\t 6.3005914941264916\n",
            "19 \t [ 5.53142178 -9.41266408]\t 423.0639342460445\t 22.901740789057865\t 6.4191780244830445\t 6.914026907022349\n",
            "20 \t [-7.40554016 -7.27556044]\t 1572.1743254169328\t 22.901740789057865\t 5.833180217660682\t 5.4950757563388235\n"
          ]
        }
      ],
      "source": [
        "### ESTIMATED STP ERM GRADIENTS\n",
        "\n",
        "np.random.seed(run_num_4)\n",
        "surrogate_approx_4 = dtStudentProcess(cov_func, optimize=opt, nu = df)\n",
        "\n",
        "approx_4= GPGO_multi(surrogate_approx_4, Acquisition_grad(util), objfunc, param)\n",
        "approx_4.run(init_evals=n_init, max_iter=iters)\n"
      ]
    },
    {
      "cell_type": "code",
      "execution_count": 17,
      "metadata": {
        "id": "JF_SxcEvGCOl",
        "colab": {
          "base_uri": "https://localhost:8080/"
        },
        "outputId": "5d351a91-2514-45bb-afbc-eaa7ec311290"
      },
      "outputs": [
        {
          "output_type": "stream",
          "name": "stdout",
          "text": [
            "Evaluation \t Proposed point \t  Current eval. \t  Best eval. \t        Exact ERM: StdDev. x \t Approx ERM: StdDev. x \n",
            "init\t [-5.56013658  7.41464612]\t 80.93700948496809\t 18.053107398965345\t    \t    \n",
            "init\t [-5.86561689  8.37221816]\t 84.91838238990834\t 18.053107398965345\t    \t    \n",
            "init\t [-0.23177622  2.23487726]\t 18.053107398965345\t 18.053107398965345\t    \t    \n",
            "init\t [5.31815713 0.36835976]\t 36.94936820355582\t 18.053107398965345\t    \t    \n",
            "init\t [-4.06398997 -6.24557543]\t 930.179306576812\t 18.053107398965345\t    \t    \n",
            "1  \t [9.27861058 9.20453431]\t 946.0775823883291\t 18.053107398965345\t 7.557595378826689\t 7.538954122158759\n",
            "2  \t [ 8.87080164 -7.76615146]\t 211.3917378701312\t 18.053107398965345\t 6.500551172451353\t 6.806606194870211\n",
            "3  \t [-10. -10.]\t 2594.0\t 18.053107398965345\t 6.918192448003631\t 7.334688177490873\n",
            "4  \t [-9.25570479 -0.33216213]\t 854.8032955954754\t 18.053107398965345\t 5.996074626400895\t 6.300994701247313\n",
            "5  \t [2.68428552 8.77105868]\t 258.4705647495647\t 18.053107398965345\t 5.5589532062068985\t 6.410356440584501\n",
            "6  \t [ 2.43424704 -6.95987477]\t 392.00148300079826\t 18.053107398965345\t 6.464046231684612\t 6.746609983312768\n",
            "7  \t [10.          3.19594378]\t 419.2999220501237\t 18.053107398965345\t 5.455836058115756\t 5.828815792996502\n",
            "8  \t [10.         -2.41613946]\t 161.71079209967397\t 18.053107398965345\t 5.942011015288054\t 7.153509049334736\n",
            "9  \t [-10.           5.18818939]\t 436.38019798982583\t 18.053107398965345\t 5.5090277315910745\t 6.2845216159264154\n",
            "10 \t [-3.78542403 -0.73643641]\t 327.3496614861788\t 18.053107398965345\t 5.926798086778448\t 6.11946984406615\n",
            "11 \t [ 1.24489022 -2.0226067 ]\t 116.59284797263616\t 18.053107398965345\t 5.719352646365263\t 6.4576234818179605\n",
            "12 \t [5.26941084 4.77475043]\t 167.50514947077198\t 18.053107398965345\t 5.350614033458606\t 6.595329298041662\n",
            "13 \t [-10.  10.]\t 234.0\t 18.053107398965345\t 5.864823262013255\t 7.112366325956657\n",
            "14 \t [-1.32284122  6.23240311]\t 19.153232573748703\t 18.053107398965345\t 4.958093995952703\t 4.83077447406369\n",
            "15 \t [ -1.08060498 -10.        ]\t 1083.0275036568814\t 18.053107398965345\t 5.3277425570193335\t 6.001527620043138\n",
            "16 \t [ 5.79778897 -3.82496905]\t 86.03681793444248\t 18.053107398965345\t 5.193486688489023\t 5.913050796920831\n",
            "17 \t [-8.81743862 -5.17384216]\t 1457.9385325411768\t 18.053107398965345\t 5.254320931982772\t 6.488227114392554\n",
            "18 \t [-5.84446008  3.20395839]\t 223.27328329037863\t 18.053107398965345\t 5.553180280306016\t 6.159296645160767\n",
            "19 \t [-1.49446776 10.        ]\t 136.421652585059\t 18.053107398965345\t 5.210646908883485\t 5.851909181857741\n",
            "\u001b[1m\u001b[92m20\u001b[0m\t \u001b[1m\u001b[92m[1.915582   0.79049679]\u001b[0m\t \u001b[1m\u001b[92m12.417123183405844\u001b[0m\t \u001b[1m\u001b[92m12.417123183405844\u001b[0m\t \u001b[1m\u001b[92m5.5589154526464615\u001b[0m\t \u001b[1m\u001b[92m6.308773448676875\u001b[0m\n"
          ]
        }
      ],
      "source": [
        "### ESTIMATED STP ERM GRADIENTS\n",
        "\n",
        "np.random.seed(run_num_5)\n",
        "surrogate_approx_5 = dtStudentProcess(cov_func, optimize=opt, nu = df)\n",
        "\n",
        "approx_5 = GPGO_multi(surrogate_approx_5, Acquisition_grad(util), objfunc, param)\n",
        "approx_5.run(init_evals=n_init, max_iter=iters)\n"
      ]
    },
    {
      "cell_type": "code",
      "execution_count": 18,
      "metadata": {
        "id": "-kDxZtJsGCR3",
        "colab": {
          "base_uri": "https://localhost:8080/"
        },
        "outputId": "41f8b046-1504-47cd-f214-1723e2e9c064"
      },
      "outputs": [
        {
          "output_type": "stream",
          "name": "stdout",
          "text": [
            "Evaluation \t Proposed point \t  Current eval. \t  Best eval. \t        Exact ERM: StdDev. x \t Approx ERM: StdDev. x \n",
            "init\t [ 7.85720303 -3.36040389]\t 88.46320859272592\t 88.46320859272592\t    \t    \n",
            "init\t [ 6.42458246 -9.16606749]\t 359.2297742730208\t 88.46320859272592\t    \t    \n",
            "init\t [-7.8468664   1.90104128]\t 475.1525044254979\t 88.46320859272592\t    \t    \n",
            "init\t [ 0.59634724 -1.62385143]\t 122.64613090496854\t 88.46320859272592\t    \t    \n",
            "init\t [-3.29184301  2.45038864]\t 112.48071079498652\t 88.46320859272592\t    \t    \n",
            "1  \t [4.34664291 8.74699069]\t 375.00460929454164\t 88.46320859272592\t 5.6979738639153865\t 5.89892124023098\n",
            "2  \t [-4.96771714 -9.17248997]\t 1500.0516160468933\t 88.46320859272592\t 6.7762022927016865\t 7.244349912959313\n",
            "3  \t [9.57427611 1.74148842]\t 289.1837050334585\t 88.46320859272592\t 6.323552320665415\t 6.429265186548631\n",
            "4  \t [-10.  10.]\t 234.0\t 88.46320859272592\t 5.840928825317589\t 6.202807537382587\n",
            "5  \t [-2.76894148 10.        ]\t 104.96387645820363\t 88.46320859272592\t 7.0598005665117345\t 7.227657923247565\n",
            "6  \t [-9.7862122  -5.16840514]\t 1620.175291334825\t 88.46320859272592\t 6.699312825260045\t 7.17337054144256\n",
            "7  \t [10. 10.]\t 1154.0\t 88.46320859272592\t 6.4928217855087285\t 6.235268549912289\n",
            "8  \t [-5.2160087  -2.20998074]\t 587.9956019453816\t 88.46320859272592\t 5.392307571157802\t 6.725095345327044\n",
            "\u001b[1m\u001b[92m9\u001b[0m\t \u001b[1m\u001b[92m[-1.22868843  4.34354782]\u001b[0m\t \u001b[1m\u001b[92m9.906068482791387\u001b[0m\t \u001b[1m\u001b[92m9.906068482791387\u001b[0m\t \u001b[1m\u001b[92m5.297517715668511\u001b[0m\t \u001b[1m\u001b[92m5.293543959915414\u001b[0m\n",
            "10 \t [3.92174558 4.35771114]\t 83.63497585533506\t 9.906068482791387\t 5.560852009472708\t 6.267566135085137\n",
            "11 \t [ 1.36088175 -9.77833046]\t 780.188094787266\t 9.906068482791387\t 5.837822729538349\t 6.227861767976931\n",
            "12 \t [-6.32701743  6.75571874]\t 118.80730490756713\t 9.906068482791387\t 5.828948598966628\t 5.717034876795742\n",
            "13 \t [ 3.45896194 -3.24909195]\t 102.55798614529127\t 9.906068482791387\t 5.254417843773382\t 5.717891096193681\n",
            "14 \t [-1.40119337 -5.6216667 ]\t 566.1126420257076\t 9.906068482791387\t 6.732143142476277\t 6.888950379226642\n",
            "15 \t [-10. -10.]\t 2594.0\t 9.906068482791387\t 5.812489560543119\t 6.994391465640909\n",
            "16 \t [7.94238229 5.83268761]\t 438.4287576091759\t 9.906068482791387\t 5.216717298350728\t 6.623957659275474\n",
            "17 \t [5.41689729 0.46275235]\t 40.07893822589408\t 9.906068482791387\t 5.856827536805165\t 6.309391687374138\n",
            "18 \t [0.35296456 7.47546196]\t 79.0758133074427\t 9.906068482791387\t 5.511429249658715\t 6.090713149589367\n",
            "19 \t [-10.           5.62376353]\t 408.52948493143066\t 9.906068482791387\t 5.465661186477576\t 6.826889318041344\n",
            "20 \t [ 10. -10.]\t 314.0\t 9.906068482791387\t 5.738553723419137\t 6.209446102368202\n"
          ]
        }
      ],
      "source": [
        "### ESTIMATED STP ERM GRADIENTS\n",
        "\n",
        "np.random.seed(run_num_6)\n",
        "surrogate_approx_6 = dtStudentProcess(cov_func, optimize=opt, nu = df)\n",
        "\n",
        "approx_6 = GPGO_multi(surrogate_approx_6, Acquisition_grad(util), objfunc, param)\n",
        "approx_6.run(init_evals=n_init, max_iter=iters)\n"
      ]
    },
    {
      "cell_type": "code",
      "execution_count": 19,
      "metadata": {
        "id": "fKB8MCD_GCVI",
        "colab": {
          "base_uri": "https://localhost:8080/"
        },
        "outputId": "9572e62c-26a8-4099-93b7-90f61f52a9ae"
      },
      "outputs": [
        {
          "output_type": "stream",
          "name": "stdout",
          "text": [
            "Evaluation \t Proposed point \t  Current eval. \t  Best eval. \t        Exact ERM: StdDev. x \t Approx ERM: StdDev. x \n",
            "init\t [-8.47383421  5.59837584]\t 285.59280278210764\t 9.465549861932052\t    \t    \n",
            "init\t [-1.23181537  4.46930356]\t 9.465549861932052\t 9.465549861932052\t    \t    \n",
            "init\t [9.55979024 0.76991741]\t 238.50407296157155\t 9.465549861932052\t    \t    \n",
            "init\t [ 0.02240927 -8.55897733]\t 763.2277954619568\t 9.465549861932052\t    \t    \n",
            "init\t [-4.63122040e+00 -2.34998349e-03]\t 338.87889871968287\t 9.465549861932052\t    \t    \n",
            "1  \t [ 3.22227697 10.        ]\t 394.1400846427881\t 9.465549861932052\t 4.937082094496583\t 5.304564727016315\n",
            "2  \t [ 10. -10.]\t 314.0\t 9.465549861932052\t 6.632599702303276\t 6.703472629345981\n",
            "3  \t [-9.10467478 -9.8356699 ]\t 2371.896530806677\t 9.465549861932052\t 6.9106196333818435\t 7.398322476398754\n",
            "4  \t [-7.86246511 -2.61028169]\t 947.860148457175\t 9.465549861932052\t 5.616500378047552\t 5.949818633453735\n",
            "5  \t [10. 10.]\t 1154.0\t 9.465549861932052\t 6.018123086674649\t 6.425545394734653\n",
            "6  \t [ 1.57595283 -1.99563877]\t 103.42262391086848\t 9.465549861932052\t 5.686666123719569\t 7.062943895209287\n",
            "7  \t [-3.39103977 10.        ]\t 95.50792422081543\t 9.465549861932052\t 5.320977165124801\t 5.866424781979382\n",
            "8  \t [4.39769448 3.92061238]\t 86.9829516531317\t 9.465549861932052\t 5.9598514843194\t 6.025892290740185\n",
            "9  \t [ 7.15599632 -4.67471481]\t 106.02356149197598\t 9.465549861932052\t 5.395034375313668\t 6.540699673985704\n",
            "10 \t [  4.99519874 -10.        ]\t 509.30739586269516\t 9.465549861932052\t 5.683656703944965\t 6.969249465537913\n",
            "11 \t [-3.54527351 -5.07462643]\t 722.9066017062519\t 9.465549861932052\t 5.658151563299921\t 6.0156542474246\n",
            "12 \t [-10.  10.]\t 234.0\t 9.465549861932052\t 6.256253007436203\t 6.9560199198207995\n",
            "13 \t [8.72565513 5.31519958]\t 468.32094909586203\t 9.465549861932052\t 5.653256602935383\t 6.489352704869394\n",
            "14 \t [-10.           1.50440461]\t 747.7964222172034\t 9.465549861932052\t 4.662772864348209\t 5.195740333528054\n",
            "15 \t [ -4.32554864 -10.        ]\t 1540.6644003201973\t 9.465549861932052\t 5.817385160961887\t 6.70179021823419\n",
            "16 \t [-5.24466004  6.10803375]\t 88.00935067997807\t 9.465549861932052\t 5.0511823225697325\t 4.834602954008673\n",
            "17 \t [-0.66735773  1.05256569]\t 58.83946809606482\t 9.465549861932052\t 4.653034970815036\t 4.981746871044061\n",
            "18 \t [ 4.81992949 -1.56757271]\t 37.69046326665794\t 9.465549861932052\t 6.290843873996475\t 6.063981240369143\n",
            "19 \t [ 3.30744029 -5.69100021]\t 243.85711474291253\t 9.465549861932052\t 5.5477111825847025\t 6.123963428833008\n",
            "20 \t [-6.93552045  8.69706267]\t 115.47178087499306\t 9.465549861932052\t 5.788119027137846\t 5.788119027137846\n"
          ]
        }
      ],
      "source": [
        "### ESTIMATED STP ERM GRADIENTS\n",
        "\n",
        "np.random.seed(run_num_7)\n",
        "surrogate_approx_7 = dtStudentProcess(cov_func, optimize=opt, nu = df)\n",
        "\n",
        "approx_7 = GPGO_multi(surrogate_approx_7, Acquisition_grad(util), objfunc, param)\n",
        "approx_7.run(init_evals=n_init, max_iter=iters)\n"
      ]
    },
    {
      "cell_type": "code",
      "execution_count": 20,
      "metadata": {
        "id": "4unvifF-GCXp",
        "colab": {
          "base_uri": "https://localhost:8080/"
        },
        "outputId": "919773d8-2ef4-4ad9-fbf5-d18828dd399b"
      },
      "outputs": [
        {
          "output_type": "stream",
          "name": "stdout",
          "text": [
            "Evaluation \t Proposed point \t  Current eval. \t  Best eval. \t        Exact ERM: StdDev. x \t Approx ERM: StdDev. x \n",
            "init\t [7.46858806 9.37081326]\t 741.8307972128058\t 75.39770051777191\t    \t    \n",
            "init\t [7.3838908  0.61711383]\t 110.46436066448925\t 75.39770051777191\t    \t    \n",
            "init\t [-5.34543344 -9.77202391]\t 1665.297823285088\t 75.39770051777191\t    \t    \n",
            "init\t [-1.39062363 -1.9529728 ]\t 245.96065521704543\t 75.39770051777191\t    \t    \n",
            "init\t [ 0.45349343 -0.43216408]\t 75.39770051777191\t 75.39770051777191\t    \t    \n",
            "1  \t [ 9.69498875 -9.42535902]\t 285.65502563735186\t 75.39770051777191\t 6.020115200386511\t 6.649092732414614\n",
            "2  \t [-9.83383251  5.77166529]\t 385.04821658618386\t 75.39770051777191\t 6.2951350654938025\t 6.030256848759891\n",
            "3  \t [-3.97152767  9.51013426]\t 76.56717653580492\t 75.39770051777191\t 6.302972402337654\t 6.3587908897211785\n",
            "4  \t [-7.56192218 -3.55847736]\t 1030.8260652917913\t 75.39770051777191\t 7.316491223521239\t 7.20627466468805\n",
            "5  \t [ 1.61024039 -7.7694804 ]\t 529.194731080536\t 75.39770051777191\t 6.459586954054764\t 6.702402259428125\n",
            "6  \t [-4.37325708  3.29118328]\t 132.26657565225028\t 75.39770051777191\t 7.369287434515477\t 7.4699944418053645\n",
            "\u001b[1m\u001b[92m7\u001b[0m\t \u001b[1m\u001b[92m[1.43445123 6.13331923]\u001b[0m\t \u001b[1m\u001b[92m60.92238165804572\u001b[0m\t \u001b[1m\u001b[92m60.92238165804572\u001b[0m\t \u001b[1m\u001b[92m6.009302296901713\u001b[0m\t \u001b[1m\u001b[92m6.418684307469841\u001b[0m\n",
            "8  \t [ 6.52310029 -4.74979107]\t 110.39650587575309\t 60.92238165804572\t 7.374629394692199\t 7.151887373146959\n",
            "9  \t [5.64126318 4.74990354]\t 187.99153404432414\t 60.92238165804572\t 7.066313447447236\t 7.75782112258499\n",
            "10 \t [-10.           0.88471259]\t 813.5174967410205\t 60.92238165804572\t 7.544222270009396\t 7.2925140525342025\n",
            "11 \t [10.          4.72348006]\t 543.9424817192039\t 60.92238165804572\t 7.633946652578365\t 7.933751478340641\n",
            "12 \t [-10.          -8.00109011]\t 2178.2158475417864\t 60.92238165804572\t 6.101632955005743\t 7.127519035917526\n",
            "13 \t [3.3833782  9.48592555]\t 362.4059175988698\t 60.92238165804572\t 5.342566890020311\t 5.484948611920477\n",
            "14 \t [-8.31017765 10.        ]\t 157.02709111249683\t 60.92238165804572\t 6.821318433125115\t 8.011625763704405\n",
            "15 \t [  5.52139902 -10.        ]\t 476.9897473697251\t 60.92238165804572\t 5.488228492061899\t 5.45178845345129\n",
            "16 \t [10.         -2.63409219]\t 158.06033637900873\t 60.92238165804572\t 5.600468835081594\t 7.174145315562529\n",
            "17 \t [-2.66449322 -6.00751774]\t 736.8833328961052\t 60.92238165804572\t 6.365288513568574\t 6.920522765491544\n",
            "18 \t [ 2.75311883 -3.53796998]\t 137.3976790038837\t 60.92238165804572\t 5.916297878877822\t 7.1532255984408755\n",
            "\u001b[1m\u001b[92m19\u001b[0m\t \u001b[1m\u001b[92m[-1.70035601  7.70794796]\u001b[0m\t \u001b[1m\u001b[92m45.578398332373126\u001b[0m\t \u001b[1m\u001b[92m45.578398332373126\u001b[0m\t \u001b[1m\u001b[92m4.942672762898414\u001b[0m\t \u001b[1m\u001b[92m4.967868094379883\u001b[0m\n",
            "\u001b[1m\u001b[92m20\u001b[0m\t \u001b[1m\u001b[92m[3.5372515  1.39242522]\u001b[0m\t \u001b[1m\u001b[92m12.479137090924308\u001b[0m\t \u001b[1m\u001b[92m12.479137090924308\u001b[0m\t \u001b[1m\u001b[92m5.645823960257016\u001b[0m\t \u001b[1m\u001b[92m7.093703878395078\u001b[0m\n"
          ]
        }
      ],
      "source": [
        "### ESTIMATED STP ERM GRADIENTS\n",
        "\n",
        "np.random.seed(run_num_8)\n",
        "surrogate_approx_8 = dtStudentProcess(cov_func, optimize=opt, nu = df)\n",
        "\n",
        "approx_8 = GPGO_multi(surrogate_approx_8, Acquisition_grad(util), objfunc, param)\n",
        "approx_8.run(init_evals=n_init, max_iter=iters)\n"
      ]
    },
    {
      "cell_type": "code",
      "execution_count": 21,
      "metadata": {
        "id": "85OIXcg7GCaJ",
        "colab": {
          "base_uri": "https://localhost:8080/"
        },
        "outputId": "10e4d469-8199-4595-a301-de417bc87e2e"
      },
      "outputs": [
        {
          "output_type": "stream",
          "name": "stdout",
          "text": [
            "Evaluation \t Proposed point \t  Current eval. \t  Best eval. \t        Exact ERM: StdDev. x \t Approx ERM: StdDev. x \n",
            "init\t [-9.79251692  0.03749184]\t 882.0577358281939\t 526.7340464177141\t    \t    \n",
            "init\t [-0.08453414 -7.32340942]\t 628.3137012668271\t 526.7340464177141\t    \t    \n",
            "init\t [-7.15777829 -5.62882649]\t 1268.1663931377898\t 526.7340464177141\t    \t    \n",
            "init\t [-1.62983639 -5.03797663]\t 526.7340464177141\t 526.7340464177141\t    \t    \n",
            "init\t [-8.31880698 -3.0900272 ]\t 1073.657277368356\t 526.7340464177141\t    \t    \n",
            "1  \t [6.0747954  9.66718496]\t 621.7013152481403\t 526.7340464177141\t 6.116711341756675\t 6.099198512418332\n",
            "\u001b[1m\u001b[92m2\u001b[0m\t \u001b[1m\u001b[92m[4.69531634 1.12432974]\u001b[0m\t \u001b[1m\u001b[92m30.41794917619908\u001b[0m\t \u001b[1m\u001b[92m30.41794917619908\u001b[0m\t \u001b[1m\u001b[92m6.436866681068765\u001b[0m\t \u001b[1m\u001b[92m6.65763485545182\u001b[0m\n",
            "3  \t [-4.34667475  7.2314955 ]\t 51.466984168071384\t 30.41794917619908\t 6.4523188064042145\t 6.964723632625617\n",
            "4  \t [ 8.66970884 -6.33785621]\t 157.1508550483091\t 30.41794917619908\t 6.426587813950524\t 6.632490980701343\n",
            "5  \t [10.         4.7163552]\t 543.3069504237093\t 30.41794917619908\t 7.950321979760548\t 7.381256777149069\n",
            "6  \t [-10.  10.]\t 234.0\t 30.41794917619908\t 5.477420136474239\t 6.151132967345492\n",
            "7  \t [-1.38934455  1.5969873 ]\t 65.2053060278297\t 30.41794917619908\t 5.90307504410668\t 6.40989529958715\n",
            "8  \t [ 0.22563169 10.        ]\t 204.63360604668355\t 30.41794917619908\t 7.069203290942115\t 7.24148181304466\n",
            "9  \t [10.         -1.01287455]\t 196.5888432543223\t 30.41794917619908\t 6.846512257273669\t 7.164295370966824\n",
            "10 \t [  4.83767593 -10.        ]\t 519.5204862133652\t 30.41794917619908\t 6.5102573402118935\t 6.229408455485684\n",
            "11 \t [ 4.08166799 -3.71875873]\t 107.55211261414325\t 30.41794917619908\t 7.049715326117764\t 6.639178922106259\n",
            "12 \t [2.33643401 5.27917552]\t 59.2712261287227\t 30.41794917619908\t 7.358243205817811\t 7.244351950400568\n",
            "13 \t [-10. -10.]\t 2594.0\t 30.41794917619908\t 7.321642678023488\t 7.058828582737058\n",
            "14 \t [-8.68103085  5.15929685]\t 324.69085030015486\t 30.41794917619908\t 5.9062957497416235\t 6.514230055398519\n",
            "15 \t [-5.43903027 -9.78695968]\t 1683.5222057807266\t 30.41794917619908\t 5.710947571557455\t 6.05179795246106\n",
            "16 \t [-5.42138188  1.90648889]\t 268.324378624506\t 30.41794917619908\t 6.0290914603575425\t 6.35629702690277\n",
            "17 \t [ 10. -10.]\t 314.0\t 30.41794917619908\t 5.561119074188698\t 5.8270316556871995\n",
            "18 \t [ 1.04697695 -1.26293341]\t 89.27196375001104\t 30.41794917619908\t 4.496125141395795\t 5.611222982431092\n",
            "\u001b[1m\u001b[92m19\u001b[0m\t \u001b[1m\u001b[92m[-1.29625334  5.41052704]\u001b[0m\t \u001b[1m\u001b[92m11.135653931653287\u001b[0m\t \u001b[1m\u001b[92m11.135653931653287\u001b[0m\t \u001b[1m\u001b[92m6.630192696807264\u001b[0m\t \u001b[1m\u001b[92m6.085471878321235\u001b[0m\n",
            "20 \t [10.          8.99495875]\t 1016.3346826166172\t 11.135653931653287\t 6.6304712904771685\t 6.184116680424321\n"
          ]
        }
      ],
      "source": [
        "### ESTIMATED STP ERM GRADIENTS\n",
        "\n",
        "np.random.seed(run_num_9)\n",
        "surrogate_approx_9 = dtStudentProcess(cov_func, optimize=opt, nu = df)\n",
        "\n",
        "approx_9 = GPGO_multi(surrogate_approx_9, Acquisition_grad(util), objfunc, param)\n",
        "approx_9.run(init_evals=n_init, max_iter=iters)\n"
      ]
    },
    {
      "cell_type": "code",
      "execution_count": 22,
      "metadata": {
        "id": "QQBR-qJPGCcp",
        "colab": {
          "base_uri": "https://localhost:8080/"
        },
        "outputId": "076acd54-d6a5-4e60-a22f-f6ff819f01df"
      },
      "outputs": [
        {
          "output_type": "stream",
          "name": "stdout",
          "text": [
            "Evaluation \t Proposed point \t  Current eval. \t  Best eval. \t        Exact ERM: StdDev. x \t Approx ERM: StdDev. x \n",
            "init\t [ 5.42641287 -9.58496101]\t 444.22200604720473\t 59.96573403226766\t    \t    \n",
            "init\t [2.6729647  4.97607765]\t 59.96573403226766\t 59.96573403226766\t    \t    \n",
            "init\t [-0.02985975 -5.50406709]\t 436.96281238949786\t 59.96573403226766\t    \t    \n",
            "init\t [-6.0387427   5.21061424]\t 147.67401193720747\t 59.96573403226766\t    \t    \n",
            "init\t [-6.61778327 -8.23320372]\t 1605.6543289416081\t 59.96573403226766\t    \t    \n",
            "1  \t [10. 10.]\t 1154.0\t 59.96573403226766\t 5.795410654590376\t 6.0821270717377836\n",
            "\u001b[1m\u001b[92m2\u001b[0m\t \u001b[1m\u001b[92m[2.11155129 0.26933255]\u001b[0m\t \u001b[1m\u001b[92m19.17823960765822\u001b[0m\t \u001b[1m\u001b[92m19.17823960765822\u001b[0m\t \u001b[1m\u001b[92m5.072865790402685\u001b[0m\t \u001b[1m\u001b[92m5.067976075413647\u001b[0m\n",
            "3  \t [8.50713746 1.33499849]\t 195.6515526065785\t 19.17823960765822\t 5.460018038166926\t 6.52798568008612\n",
            "4  \t [-10.          -3.20056045]\t 1342.8840695167191\t 19.17823960765822\t 6.260615933796172\t 6.949049222861885\n",
            "5  \t [-10.  10.]\t 234.0\t 19.17823960765822\t 5.471329427238922\t 6.667039984017828\n",
            "6  \t [0.20663569 9.9051757 ]\t 197.72783206478573\t 19.17823960765822\t 6.047078491289219\t 6.565891897196811\n",
            "7  \t [10.         -5.23487632]\t 151.1548450300827\t 19.17823960765822\t 5.379909480124487\t 6.366958892467367\n",
            "8  \t [-4.3360631  -0.47026667]\t 350.7220966387369\t 19.17823960765822\t 6.4746496260637985\t 6.606758725449643\n",
            "9  \t [-5.06285802 10.        ]\t 89.27118772827019\t 19.17823960765822\t 6.281202805923552\t 6.875459409519675\n",
            "10 \t [ 5.09606661 -3.68315966]\t 88.214586501703\t 19.17823960765822\t 6.43393786052147\t 7.254546072121166\n",
            "11 \t [-0.08367683  7.29529934]\t 60.88202825517117\t 19.17823960765822\t 5.533382015548997\t 5.259832145261588\n",
            "12 \t [-10.           2.27474351]\t 671.452556121359\t 19.17823960765822\t 6.505548425547421\t 6.415560102775285\n",
            "13 \t [4.98811532 9.2371992 ]\t 473.0359460744501\t 19.17823960765822\t 6.017339693871441\t 5.7551283420763015\n",
            "14 \t [ -2.41220265 -10.        ]\t 1258.0847105095024\t 19.17823960765822\t 5.842692593230778\t 6.416655511626252\n",
            "15 \t [ 10. -10.]\t 314.0\t 19.17823960765822\t 6.0268442877116986\t 6.710809102615186\n",
            "16 \t [-1.39209876  3.13307728]\t 26.15255834182962\t 19.17823960765822\t 5.759400989316073\t 5.809107647228039\n",
            "17 \t [7.92835026 6.13637116]\t 463.03333032441503\t 19.17823960765822\t 5.642328143044239\t 5.928221843832834\n",
            "18 \t [  1.59992415 -10.        ]\t 784.4074335786238\t 19.17823960765822\t 5.286911811593948\t 4.808326915211666\n",
            "19 \t [ 3.11274631 -3.01201899]\t 101.42537904592518\t 19.17823960765822\t 4.9137852676137035\t 5.311328370041165\n",
            "20 \t [-4.16911931 -4.56538468]\t 732.6252074172603\t 19.17823960765822\t 6.054192068530932\t 6.072443868949276\n"
          ]
        }
      ],
      "source": [
        "### ESTIMATED STP ERM GRADIENTS\n",
        "\n",
        "np.random.seed(run_num_10)\n",
        "surrogate_approx_10 = dtStudentProcess(cov_func, optimize=opt, nu = df)\n",
        "\n",
        "approx_10 = GPGO_multi(surrogate_approx_10, Acquisition_grad(util), objfunc, param)\n",
        "approx_10.run(init_evals=n_init, max_iter=iters)\n"
      ]
    },
    {
      "cell_type": "code",
      "execution_count": 23,
      "metadata": {
        "id": "JS8ejeQ2GCfi",
        "colab": {
          "base_uri": "https://localhost:8080/"
        },
        "outputId": "f5802fbb-09e6-4d1c-870b-5fbbc30107fc"
      },
      "outputs": [
        {
          "output_type": "stream",
          "name": "stdout",
          "text": [
            "Evaluation \t Proposed point \t  Current eval. \t  Best eval. \t        Exact ERM: StdDev. x \t Approx ERM: StdDev. x \n",
            "init\t [-6.39460622 -9.61049517]\t 1814.521116554919\t 5.483030044782123\t    \t    \n",
            "init\t [-0.73562947  4.49867858]\t 5.483030044782123\t 5.483030044782123\t    \t    \n",
            "init\t [-1.59592791 -0.29145804]\t 156.21779076814232\t 5.483030044782123\t    \t    \n",
            "init\t [-9.74438371 -0.25256785]\t 909.6795910034871\t 5.483030044782123\t    \t    \n",
            "init\t [8.83613305 7.01590179]\t 639.4153671589368\t 5.483030044782123\t    \t    \n",
            "1  \t [ 1.99086793 -8.88652641]\t 617.1328244256196\t 5.483030044782123\t 6.221718565242518\t 6.392765653843418\n",
            "2  \t [ 4.79903036 -1.6267314 ]\t 38.579631108734375\t 5.483030044782123\t 4.737984464063145\t 4.834714165334543\n",
            "3  \t [-10.  10.]\t 234.0\t 5.483030044782123\t 5.747878928926921\t 7.309231139241232\n",
            "4  \t [ 10. -10.]\t 314.0\t 5.483030044782123\t 5.621393409943951\t 6.098020114055173\n",
            "5  \t [9.26680876 1.25905778]\t 241.71874312681138\t 5.483030044782123\t 6.1311172482264364\t 6.147600431646813\n",
            "6  \t [-1.26517254 -4.80316636]\t 471.50620430839194\t 5.483030044782123\t 6.392344028392917\t 6.60160212050589\n",
            "7  \t [-3.67349889 10.        ]\t 92.49202155939244\t 5.483030044782123\t 6.393149357466369\t 6.676821522839104\n",
            "8  \t [2.35009428 9.0870899 ]\t 260.1222517494269\t 5.483030044782123\t 6.878868245593004\t 6.914272579275347\n",
            "9  \t [-6.22471588  5.04983776]\t 163.51580877051018\t 5.483030044782123\t 6.682954740082044\t 6.629450583895102\n",
            "10 \t [4.06994938 3.62013287]\t 64.2759821347826\t 5.483030044782123\t 6.387325735560176\t 5.850134645565084\n",
            "11 \t [ 6.73682935 -5.96536233]\t 154.98263344385484\t 5.483030044782123\t 7.797342286671432\t 7.347990229188066\n",
            "12 \t [-6.38817531 -4.28197634]\t 968.4657116217304\t 5.483030044782123\t 6.1306330151599715\t 6.379822062094039\n",
            "13 \t [10.         -3.01834301]\t 152.7815661523331\t 5.483030044782123\t 6.044106238094119\t 6.350709795233658\n",
            "14 \t [-10.          -6.80555938]\t 1948.6341992844036\t 5.483030044782123\t 7.4282599850865765\t 6.899302696520607\n",
            "15 \t [-5.47950837  0.92160871]\t 339.254325143444\t 5.483030044782123\t 7.288713486615571\t 6.864671677342379\n",
            "16 \t [  5.96184853 -10.        ]\t 452.0674568211262\t 5.483030044782123\t 6.4567186420893\t 6.357580425445121\n",
            "17 \t [ -2.01444142 -10.        ]\t 1203.936193456241\t 5.483030044782123\t 5.816321467829092\t 6.461509892098616\n",
            "18 \t [-10.           4.04690616]\t 518.3523203188793\t 5.483030044782123\t 6.24888216002563\t 6.235197032654569\n",
            "19 \t [ 2.78095373 -4.65344822]\t 199.69183199072668\t 5.483030044782123\t 5.878745492710897\t 5.154738013446999\n",
            "20 \t [ 6.14256582 10.        ]\t 665.2136016665744\t 5.483030044782123\t 7.95371935177039\t 7.879811785896753\n"
          ]
        }
      ],
      "source": [
        "### ESTIMATED STP ERM GRADIENTS\n",
        "\n",
        "np.random.seed(run_num_11)\n",
        "surrogate_approx_11 = dtStudentProcess(cov_func, optimize=opt, nu = df)\n",
        "\n",
        "approx_11 = GPGO_multi(surrogate_approx_11, Acquisition_grad(util), objfunc, param)\n",
        "approx_11.run(init_evals=n_init, max_iter=iters)\n"
      ]
    },
    {
      "cell_type": "code",
      "execution_count": 24,
      "metadata": {
        "id": "DXwjUVZ4GCii",
        "colab": {
          "base_uri": "https://localhost:8080/"
        },
        "outputId": "aadc1cba-8123-4bc7-b2e6-cbf96659d195"
      },
      "outputs": [
        {
          "output_type": "stream",
          "name": "stdout",
          "text": [
            "Evaluation \t Proposed point \t  Current eval. \t  Best eval. \t        Exact ERM: StdDev. x \t Approx ERM: StdDev. x \n",
            "init\t [-6.91674315  4.80099393]\t 215.5279554685742\t 189.34864056663108\t    \t    \n",
            "init\t [-4.7336997   0.67478787]\t 298.0661631184378\t 189.34864056663108\t    \t    \n",
            "init\t [-9.70850075  8.37494016]\t 257.3494442600599\t 189.34864056663108\t    \t    \n",
            "init\t [ 8.01429708 -9.33157145]\t 314.3616446198572\t 189.34864056663108\t    \t    \n",
            "init\t [ 9.13898673 -7.25581357]\t 189.34864056663108\t 189.34864056663108\t    \t    \n",
            "\u001b[1m\u001b[92m1\u001b[0m\t \u001b[1m\u001b[92m[4.66251955 4.05244711]\u001b[0m\t \u001b[1m\u001b[92m103.44533669968575\u001b[0m\t \u001b[1m\u001b[92m103.44533669968575\u001b[0m\t \u001b[1m\u001b[92m6.338481157916655\u001b[0m\t \u001b[1m\u001b[92m5.743472817351776\u001b[0m\n",
            "2  \t [-3.75432006 -8.6025265 ]\t 1227.4078991356632\t 103.44533669968575\t 6.070795345198979\t 5.7203645734388795\n",
            "3  \t [ 6.56493214 10.        ]\t 711.47854824009\t 103.44533669968575\t 6.4782101041727005\t 7.22911618806227\n",
            "4  \t [ 3.7223347 -4.0061421]\t 129.9011568095155\t 103.44533669968575\t 6.239057747719195\t 6.3430115397625935\n",
            "5  \t [-9.83084704 -5.63532277]\t 1707.6031145673362\t 103.44533669968575\t 6.870080139075125\t 6.515992056270736\n",
            "\u001b[1m\u001b[92m6\u001b[0m\t \u001b[1m\u001b[92m[0.19963403 8.01084739]\u001b[0m\t \u001b[1m\u001b[92m96.66179265969335\u001b[0m\t \u001b[1m\u001b[92m96.66179265969335\u001b[0m\t \u001b[1m\u001b[92m6.116826686139228\u001b[0m\t \u001b[1m\u001b[92m6.696229285228399\u001b[0m\n",
            "7  \t [9.52790242 0.12161485]\t 208.67840246505696\t 96.66179265969335\t 6.724707128595413\t 6.748884088734559\n",
            "8  \t [  2.16592425 -10.        ]\t 730.5407744746528\t 96.66179265969335\t 6.407899406011045\t 6.176388968747681\n",
            "\u001b[1m\u001b[92m9\u001b[0m\t \u001b[1m\u001b[92m[0.74335349 0.45170297]\u001b[0m\t \u001b[1m\u001b[92m38.03051827637529\u001b[0m\t \u001b[1m\u001b[92m38.03051827637529\u001b[0m\t \u001b[1m\u001b[92m7.563012583573406\u001b[0m\t \u001b[1m\u001b[92m7.487856946879345\u001b[0m\n",
            "10 \t [10.          5.55032154]\t 621.1438511057949\t 38.03051827637529\t 7.792518157432195\t 7.185003800231693\n",
            "11 \t [-4.57686884 10.        ]\t 88.20267525201585\t 38.03051827637529\t 6.539596482815656\t 6.4402652469817525\n",
            "12 \t [-10.           0.22560715]\t 887.6328488687345\t 38.03051827637529\t 5.929814116848256\t 6.304728168698277\n",
            "13 \t [-1.56789053 -3.66830575]\t 392.2896504747231\t 38.03051827637529\t 6.526210961852039\t 7.236528844039937\n",
            "\u001b[1m\u001b[92m14\u001b[0m\t \u001b[1m\u001b[92m[-1.75107198  4.0911337 ]\u001b[0m\t \u001b[1m\u001b[92m19.78055024249013\u001b[0m\t \u001b[1m\u001b[92m19.78055024249013\u001b[0m\t \u001b[1m\u001b[92m6.74039540998755\u001b[0m\t \u001b[1m\u001b[92m7.046211201221426\u001b[0m\n",
            "15 \t [ -8.32830374 -10.        ]\t 2250.2298414703478\t 19.78055024249013\t 6.800288869701787\t 7.244326272587236\n",
            "16 \t [ 5.10271377 -0.06598714]\t 30.5317457900672\t 19.78055024249013\t 5.635331850952111\t 6.18601879919032\n",
            "17 \t [-5.86190868 -3.48551955]\t 801.7631159442883\t 19.78055024249013\t 5.184314643112939\t 6.210844651464723\n",
            "18 \t [-3.47730121  6.67314142]\t 36.12488588950455\t 19.78055024249013\t 6.44227432242533\t 7.275381076345328\n",
            "19 \t [-10.           3.66883918]\t 548.3788814266059\t 19.78055024249013\t 6.0031645094663135\t 5.8635940135339215\n",
            "20 \t [ 7.68964043 -3.51916628]\t 87.36706385777849\t 19.78055024249013\t 6.038899236109859\t 6.672645396934222\n"
          ]
        }
      ],
      "source": [
        "### ESTIMATED STP ERM GRADIENTS\n",
        "\n",
        "np.random.seed(run_num_12)\n",
        "surrogate_approx_12 = dtStudentProcess(cov_func, optimize=opt, nu = df)\n",
        "\n",
        "approx_12 = GPGO_multi(surrogate_approx_12, Acquisition_grad(util), objfunc, param)\n",
        "approx_12.run(init_evals=n_init, max_iter=iters)\n"
      ]
    },
    {
      "cell_type": "code",
      "execution_count": 25,
      "metadata": {
        "id": "CphOPndPGClX",
        "colab": {
          "base_uri": "https://localhost:8080/"
        },
        "outputId": "74899391-f3b0-45fb-e6d9-28c02ca4efd1"
      },
      "outputs": [
        {
          "output_type": "stream",
          "name": "stdout",
          "text": [
            "Evaluation \t Proposed point \t  Current eval. \t  Best eval. \t        Exact ERM: StdDev. x \t Approx ERM: StdDev. x \n",
            "init\t [ 5.55404821 -5.2491756 ]\t 143.4041188295949\t 48.27231948835582\t    \t    \n",
            "init\t [6.48557065 9.31498396]\t 626.9828646177026\t 48.27231948835582\t    \t    \n",
            "init\t [ 9.45202228 -0.93101505]\t 168.64758529203058\t 48.27231948835582\t    \t    \n",
            "init\t [2.18084926 5.51053029]\t 62.202299160666314\t 48.27231948835582\t    \t    \n",
            "init\t [2.8322669  4.44036459]\t 48.27231948835582\t 48.27231948835582\t    \t    \n",
            "1  \t [-8.69830926  2.59657998]\t 502.3996877395562\t 48.27231948835582\t 5.605804519239457\t 6.165920748004624\n",
            "2  \t [-5.9673185  -6.48540274]\t 1221.284536050755\t 48.27231948835582\t 6.550373105871608\t 6.682190918556178\n",
            "3  \t [-10.  10.]\t 234.0\t 48.27231948835582\t 7.473551722208673\t 7.563022982969219\n",
            "4  \t [ 10. -10.]\t 314.0\t 48.27231948835582\t 6.318813297217157\t 6.596513307299718\n",
            "5  \t [-0.35221045 -1.20015421]\t 142.7847817105967\t 48.27231948835582\t 6.971822599368635\t 6.524882813797271\n",
            "6  \t [-4.21399637  8.00469474]\t 52.407956291331814\t 48.27231948835582\t 6.450335228088554\t 6.473760432490226\n",
            "7  \t [ -0.48292686 -10.        ]\t 1010.2197541637981\t 48.27231948835582\t 7.516038574271808\t 7.477729449533798\n",
            "8  \t [10.          4.66590573]\t 538.8214220681044\t 48.27231948835582\t 7.073299708479302\t 6.887319407444909\n",
            "9  \t [-3.12280994  3.1507763 ]\t 80.1285001756805\t 48.27231948835582\t 6.513658943215809\t 6.9511624515614026\n",
            "10 \t [-10.          -2.68245023]\t 1266.5068236087914\t 48.27231948835582\t 6.788737004737007\t 6.579025651011759\n",
            "11 \t [ 0.38816937 10.        ]\t 212.60916850474896\t 48.27231948835582\t 7.716938882013758\t 7.693242320461194\n",
            "12 \t [-10. -10.]\t 2594.0\t 48.27231948835582\t 7.52714502480891\t 6.444802706480515\n",
            "\u001b[1m\u001b[92m13\u001b[0m\t \u001b[1m\u001b[92m[ 4.52390267 -0.03896431]\u001b[0m\t \u001b[1m\u001b[92m22.59385499351291\u001b[0m\t \u001b[1m\u001b[92m22.59385499351291\u001b[0m\t \u001b[1m\u001b[92m7.086040569977002\u001b[0m\t \u001b[1m\u001b[92m6.173428509593216\u001b[0m\n",
            "14 \t [  4.84318305 -10.        ]\t 519.1592426041755\t 22.59385499351291\t 5.221157666656321\t 5.498978776505223\n",
            "15 \t [-5.05613574 -1.18360162]\t 473.58818759119686\t 22.59385499351291\t 5.925904736658823\t 6.106768967333668\n",
            "16 \t [ 1.03325066 -5.39072463]\t 349.7948500654378\t 22.59385499351291\t 6.188802781050861\t 5.354587508996475\n",
            "17 \t [10.         -5.33091933]\t 152.19489265790065\t 22.59385499351291\t 7.439275939264899\t 7.053293456859551\n",
            "18 \t [6.19771817 5.3335898 ]\t 259.3443146303326\t 22.59385499351291\t 5.346669681775867\t 5.285013595163342\n",
            "19 \t [-7.66055946  6.6754057 ]\t 187.92092945895283\t 22.59385499351291\t 6.671390540236839\t 5.3109003231593475\n",
            "20 \t [-2.61835547 -4.27337783]\t 540.5139387663814\t 22.59385499351291\t 6.915921611155027\t 6.991047984645601\n"
          ]
        }
      ],
      "source": [
        "### ESTIMATED STP ERM GRADIENTS\n",
        "\n",
        "np.random.seed(run_num_13)\n",
        "surrogate_approx_13 = dtStudentProcess(cov_func, optimize=opt, nu = df)\n",
        "\n",
        "approx_13 = GPGO_multi(surrogate_approx_13, Acquisition_grad(util), objfunc, param)\n",
        "approx_13.run(init_evals=n_init, max_iter=iters)\n"
      ]
    },
    {
      "cell_type": "code",
      "execution_count": 26,
      "metadata": {
        "id": "ojHTeARNGCoi",
        "colab": {
          "base_uri": "https://localhost:8080/"
        },
        "outputId": "4d4d9744-de9d-4a9d-e22d-1a7759e11af6"
      },
      "outputs": [
        {
          "output_type": "stream",
          "name": "stdout",
          "text": [
            "Evaluation \t Proposed point \t  Current eval. \t  Best eval. \t        Exact ERM: StdDev. x \t Approx ERM: StdDev. x \n",
            "init\t [0.27886688 5.46330104]\t 18.728481209446468\t 18.728481209446468\t    \t    \n",
            "init\t [ 7.40855371 -9.83906103]\t 371.31674613664467\t 18.728481209446468\t    \t    \n",
            "init\t [-3.80528149  9.15207479]\t 68.19416312981014\t 18.728481209446468\t    \t    \n",
            "init\t [ 0.26233425 -3.6343115 ]\t 261.94243460125864\t 18.728481209446468\t    \t    \n",
            "init\t [ 0.78399875 -5.57490115]\t 382.6954465291845\t 18.728481209446468\t    \t    \n",
            "1  \t [ 9.82765998 -0.95725402]\t 188.47085669712428\t 18.728481209446468\t 6.0386301502806345\t 6.521457146437464\n",
            "2  \t [-8.1477833   0.47898709]\t 634.6806661127735\t 18.728481209446468\t 5.940969169653585\t 6.203622194590273\n",
            "3  \t [-10. -10.]\t 2594.0\t 18.728481209446468\t 6.666150407655979\t 6.851263833202971\n",
            "4  \t [10.          6.08213037]\t 674.4110251797449\t 18.728481209446468\t 6.06833082768441\t 6.0354403800964365\n",
            "5  \t [-10.  10.]\t 234.0\t 18.728481209446468\t 5.503377341128333\t 6.195999903594129\n",
            "6  \t [4.27577223 9.57506531]\t 442.118168700274\t 18.728481209446468\t 6.4782010555263945\t 6.1176660908505385\n",
            "7  \t [4.20816317 1.35688587]\t 22.789648922733978\t 18.728481209446468\t 5.337442573280796\t 5.630173900979584\n",
            "8  \t [-5.62671518 -5.20521793]\t 991.1839148255755\t 18.728481209446468\t 6.498743722783653\t 7.197728572547626\n",
            "9  \t [-2.46454266  1.23438269]\t 124.53875396673953\t 18.728481209446468\t 6.351074138902434\t 6.650216842329077\n",
            "10 \t [ -2.54926179 -10.        ]\t 1277.1095220186608\t 18.728481209446468\t 7.227709484877218\t 7.48879754954697\n",
            "11 \t [ 6.06416354 -4.5566782 ]\t 107.5996552564415\t 18.728481209446468\t 6.790298308303943\t 7.076195671864077\n",
            "12 \t [-7.1992958   5.65212118]\t 197.3467832204745\t 18.728481209446468\t 5.960147436324364\t 6.994071248756236\n",
            "13 \t [  2.61291804 -10.        ]\t 690.2640472562052\t 18.728481209446468\t 6.215773484518764\t 6.921496014051809\n",
            "14 \t [10.         -5.96576924]\t 161.38970505687598\t 18.728481209446468\t 5.688587889499322\t 5.625810125225399\n",
            "15 \t [5.25959965 5.06057058]\t 182.1683474709655\t 18.728481209446468\t 5.716140661353713\t 7.077525991766022\n",
            "16 \t [-0.04635513 10.        ]\t 191.8784080926771\t 18.728481209446468\t 5.823395605863594\t 6.2942819187891486\n",
            "17 \t [7.47842852 9.96695579]\t 813.6219464910598\t 18.728481209446468\t 6.055973757745908\t 6.06355857439963\n",
            "18 \t [ 3.64952003 -1.61705051]\t 43.821816571110496\t 18.728481209446468\t 5.201739845633271\t 5.512676437192859\n",
            "19 \t [ 5.28044661 -7.53570401]\t 285.83626295821574\t 18.728481209446468\t 5.943115661133085\t 5.94009983243119\n",
            "20 \t [-2.89339106  5.30444656]\t 30.567946457883256\t 18.728481209446468\t 6.0088170616455345\t 5.633449415866428\n"
          ]
        }
      ],
      "source": [
        "### ESTIMATED STP ERM GRADIENTS\n",
        "\n",
        "np.random.seed(run_num_14)\n",
        "surrogate_approx_14 = dtStudentProcess(cov_func, optimize=opt, nu = df)\n",
        "\n",
        "approx_14 = GPGO_multi(surrogate_approx_14, Acquisition_grad(util), objfunc, param)\n",
        "approx_14.run(init_evals=n_init, max_iter=iters)\n"
      ]
    },
    {
      "cell_type": "code",
      "execution_count": 27,
      "metadata": {
        "id": "vCJzn4vWGCs3",
        "colab": {
          "base_uri": "https://localhost:8080/"
        },
        "outputId": "274493b3-acd4-44f1-fbcf-8c8c4fdd09ac"
      },
      "outputs": [
        {
          "output_type": "stream",
          "name": "stdout",
          "text": [
            "Evaluation \t Proposed point \t  Current eval. \t  Best eval. \t        Exact ERM: StdDev. x \t Approx ERM: StdDev. x \n",
            "init\t [ 6.97635395 -6.4220815 ]\t 171.98457986923216\t 171.98457986923216\t    \t    \n",
            "init\t [-8.91273571 -2.76923108]\t 1115.2426864421157\t 171.98457986923216\t    \t    \n",
            "init\t [-4.49198143  0.6000045 ]\t 285.0550378664367\t 171.98457986923216\t    \t    \n",
            "init\t [-3.88162169 -3.91051282]\t 627.8031621427792\t 171.98457986923216\t    \t    \n",
            "init\t [-7.76517448 -5.00201972]\t 1265.415808453521\t 171.98457986923216\t    \t    \n",
            "\u001b[1m\u001b[92m1\u001b[0m\t \u001b[1m\u001b[92m[2.12220589 7.51843625]\u001b[0m\t \u001b[1m\u001b[92m148.9429874472628\u001b[0m\t \u001b[1m\u001b[92m148.9429874472628\u001b[0m\t \u001b[1m\u001b[92m6.517732498955924\u001b[0m\t \u001b[1m\u001b[92m6.384628429308271\u001b[0m\n",
            "2  \t [10.          4.90969788]\t 560.7329769858065\t 148.9429874472628\t 7.221829955967545\t 7.412018212228402\n",
            "\u001b[1m\u001b[92m3\u001b[0m\t \u001b[1m\u001b[92m[-7.57016827  9.39485424]\u001b[0m\t \u001b[1m\u001b[92m133.26990946724956\u001b[0m\t \u001b[1m\u001b[92m133.26990946724956\u001b[0m\t \u001b[1m\u001b[92m7.342901999109\u001b[0m\t \u001b[1m\u001b[92m7.767692919176995\u001b[0m\n",
            "\u001b[1m\u001b[92m4\u001b[0m\t \u001b[1m\u001b[92m[ 2.46902528 -0.89638552]\u001b[0m\t \u001b[1m\u001b[92m40.90816628952518\u001b[0m\t \u001b[1m\u001b[92m40.90816628952518\u001b[0m\t \u001b[1m\u001b[92m6.207671267185303\u001b[0m\t \u001b[1m\u001b[92m6.247344431893645\u001b[0m\n",
            "5  \t [ 0.73029086 -9.31010615]\t 784.6184668971999\t 40.90816628952518\t 7.2420439729971235\t 7.522748196810224\n",
            "6  \t [10.         -1.29767877]\t 187.9173427524176\t 40.90816628952518\t 8.551222963607561\t 8.44961308735067\n",
            "7  \t [-9.44856301  3.95271082]\t 470.7649619124821\t 40.90816628952518\t 6.17573196911625\t 7.06890460179295\n",
            "8  \t [ 7.21778413 10.        ]\t 786.5001088316635\t 40.90816628952518\t 8.329511372275395\t 7.807123289332043\n",
            "\u001b[1m\u001b[92m9\u001b[0m\t \u001b[1m\u001b[92m[-3.19335548  6.09310445]\u001b[0m\t \u001b[1m\u001b[92m31.9937346133907\u001b[0m\t \u001b[1m\u001b[92m31.9937346133907\u001b[0m\t \u001b[1m\u001b[92m6.51838558360873\u001b[0m\t \u001b[1m\u001b[92m7.098126145574853\u001b[0m\n",
            "10 \t [-10. -10.]\t 2594.0\t 31.9937346133907\t 7.327582833081891\t 8.229329112560949\n",
            "11 \t [4.93423069 3.21133334]\t 84.26563729310888\t 31.9937346133907\t 5.615738854199396\t 6.768177216625692\n",
            "12 \t [ -4.4946613 -10.       ]\t 1567.4012892318221\t 31.9937346133907\t 6.265082680585858\t 5.550113280882761\n",
            "13 \t [ 10. -10.]\t 314.0\t 31.9937346133907\t 5.715071492537142\t 7.4681829958054085\n",
            "\u001b[1m\u001b[92m14\u001b[0m\t \u001b[1m\u001b[92m[0.04400952 2.95660335]\u001b[0m\t \u001b[1m\u001b[92m4.910899610882001\u001b[0m\t \u001b[1m\u001b[92m4.910899610882001\u001b[0m\t \u001b[1m\u001b[92m5.8514939665079035\u001b[0m\t \u001b[1m\u001b[92m6.334666106594603\u001b[0m\n",
            "15 \t [-1.89156578 10.        ]\t 124.87807959045695\t 4.910899610882001\t 5.5324264436359405\t 5.759132670604847\n",
            "16 \t [ 2.62448562 -4.93695343]\t 225.02318265335853\t 4.910899610882001\t 6.322571715794789\t 6.503857335398367\n",
            "17 \t [ 6.05798662 -2.33058806]\t 54.29564382675782\t 4.910899610882001\t 5.559063882611504\t 7.009988879735743\n",
            "18 \t [  5.1248832 -10.       ]\t 501.08545446372295\t 4.910899610882001\t 6.120891798268547\t 6.785570099984779\n",
            "19 \t [-1.04780401 -1.12733032]\t 173.7574927446854\t 4.910899610882001\t 6.518699898581378\t 6.349501248336932\n",
            "20 \t [6.13616462 6.36726715]\t 326.9520828879107\t 4.910899610882001\t 5.327825934232599\t 6.0778922799663375\n"
          ]
        }
      ],
      "source": [
        "### ESTIMATED STP ERM GRADIENTS\n",
        "\n",
        "np.random.seed(run_num_15)\n",
        "surrogate_approx_15 = dtStudentProcess(cov_func, optimize=opt, nu = df)\n",
        "\n",
        "approx_15 = GPGO_multi(surrogate_approx_15, Acquisition_grad(util), objfunc, param)\n",
        "approx_15.run(init_evals=n_init, max_iter=iters)\n"
      ]
    },
    {
      "cell_type": "code",
      "execution_count": 28,
      "metadata": {
        "id": "bGGkhp-kGCw6",
        "colab": {
          "base_uri": "https://localhost:8080/"
        },
        "outputId": "dc76dfe7-e19f-43c9-dc6c-554dd0e61abd"
      },
      "outputs": [
        {
          "output_type": "stream",
          "name": "stdout",
          "text": [
            "Evaluation \t Proposed point \t  Current eval. \t  Best eval. \t        Exact ERM: StdDev. x \t Approx ERM: StdDev. x \n",
            "init\t [-5.53417842  0.46326683]\t 378.2562509858209\t 182.86095429406956\t    \t    \n",
            "init\t [ 1.01402913 -9.087961  ]\t 729.2383206820605\t 182.86095429406956\t    \t    \n",
            "init\t [-2.78542329 -5.53838117]\t 694.7380078426447\t 182.86095429406956\t    \t    \n",
            "init\t [ 3.77452324 -6.7253715 ]\t 295.53799633399245\t 182.86095429406956\t    \t    \n",
            "init\t [-8.59350266  8.8202172 ]\t 182.86095429406956\t 182.86095429406956\t    \t    \n",
            "1  \t [ 4.07343445 10.        ]\t 464.3423256288145\t 182.86095429406956\t 6.871678830374767\t 6.817546723153015\n",
            "2  \t [9.22704387 3.02362854]\t 339.97919009954177\t 182.86095429406956\t 7.355581049946225\t 7.274634738570959\n",
            "3  \t [-10. -10.]\t 2594.0\t 182.86095429406956\t 6.882646635828353\t 7.241998773783122\n",
            "\u001b[1m\u001b[92m4\u001b[0m\t \u001b[1m\u001b[92m[-0.37475423  6.36256265]\u001b[0m\t \u001b[1m\u001b[92m29.002305995571415\u001b[0m\t \u001b[1m\u001b[92m29.002305995571415\u001b[0m\t \u001b[1m\u001b[92m6.121374785510353\u001b[0m\t \u001b[1m\u001b[92m6.347614136245031\u001b[0m\n",
            "5  \t [ 10. -10.]\t 314.0\t 29.002305995571415\t 5.740235552230183\t 5.8204442606043045\n",
            "\u001b[1m\u001b[92m6\u001b[0m\t \u001b[1m\u001b[92m[3.19935227 1.72957775]\u001b[0m\t \u001b[1m\u001b[92m9.902767002998171\u001b[0m\t \u001b[1m\u001b[92m9.902767002998171\u001b[0m\t \u001b[1m\u001b[92m6.99314263393256\u001b[0m\t \u001b[1m\u001b[92m7.263684809384442\u001b[0m\n",
            "7  \t [10.         -3.48379005]\t 148.3647834562714\t 9.902767002998171\t 6.271534714811269\t 7.309317453958215\n",
            "8  \t [-10.          -3.50824213]\t 1389.5113853363557\t 9.902767002998171\t 5.718279366807438\t 6.329882961000546\n",
            "9  \t [10. 10.]\t 1154.0\t 9.902767002998171\t 6.547361996003282\t 6.314842674955692\n",
            "10 \t [-10.           3.59228614]\t 554.6328341483265\t 9.902767002998171\t 5.508496284597608\t 6.484802467399645\n",
            "11 \t [-3.47700819 10.        ]\t 94.50555300060164\t 9.902767002998171\t 5.14584388030714\t 5.518696794628201\n",
            "12 \t [ 1.13999396 -2.27401223]\t 133.2673775203062\t 9.902767002998171\t 5.93368673677434\t 6.054686349531406\n",
            "13 \t [-1.05126599  1.79989335]\t 47.933644487239484\t 9.902767002998171\t 5.043848288393639\t 5.770060319045061\n",
            "14 \t [3.76717088 5.68756452]\t 133.8967907216487\t 9.902767002998171\t 5.115167240942341\t 5.100309549821568\n",
            "15 \t [-4.96872411  5.41786063]\t 91.90624319827063\t 9.902767002998171\t 4.796083130542979\t 5.837344232532223\n",
            "16 \t [ -4.70816827 -10.        ]\t 1601.565425377326\t 9.902767002998171\t 5.064482344707675\t 5.198086206477487\n",
            "17 \t [ 6.46990466 -5.76874203]\t 150.34000584611528\t 9.902767002998171\t 5.901934450536537\t 6.055413178839034\n",
            "18 \t [ 6.09171342 -1.01011831]\t 46.68598637508161\t 9.902767002998171\t 5.117272226097152\t 5.9480484131398885\n",
            "19 \t [-6.15813168 -6.10978715]\t 1192.807803013574\t 9.902767002998171\t 5.417159378558627\t 5.375145884276992\n",
            "20 \t [  5.95017954 -10.        ]\t 452.70271513247064\t 9.902767002998171\t 5.748511751653917\t 5.50450938759584\n"
          ]
        }
      ],
      "source": [
        "### ESTIMATED STP ERM GRADIENTS\n",
        "\n",
        "np.random.seed(run_num_16)\n",
        "surrogate_approx_16 = dtStudentProcess(cov_func, optimize=opt, nu = df)\n",
        "\n",
        "approx_16 = GPGO_multi(surrogate_approx_16, Acquisition_grad(util), objfunc, param)\n",
        "approx_16.run(init_evals=n_init, max_iter=iters)\n"
      ]
    },
    {
      "cell_type": "code",
      "execution_count": 29,
      "metadata": {
        "id": "Yrs2mp7hGC1Z",
        "colab": {
          "base_uri": "https://localhost:8080/"
        },
        "outputId": "a5821610-fd40-4716-ccbb-63758a716563"
      },
      "outputs": [
        {
          "output_type": "stream",
          "name": "stdout",
          "text": [
            "Evaluation \t Proposed point \t  Current eval. \t  Best eval. \t        Exact ERM: StdDev. x \t Approx ERM: StdDev. x \n",
            "init\t [-4.10669995  0.61173511]\t 256.4801849765532\t 5.553508838684786\t    \t    \n",
            "init\t [-6.16958426 -8.64199284]\t 1602.4406672130797\t 5.553508838684786\t    \t    \n",
            "init\t [5.7397092  3.12667044]\t 117.20749172761734\t 5.553508838684786\t    \t    \n",
            "init\t [2.75041792 1.51205788]\t 5.553508838684786\t 5.553508838684786\t    \t    \n",
            "init\t [-9.21874168 -2.84372791]\t 1170.583554210921\t 5.553508838684786\t    \t    \n",
            "1  \t [-10.  10.]\t 234.0\t 5.553508838684786\t 7.103843370286438\t 7.6858414269403434\n",
            "2  \t [ 4.54825031 -8.71744454]\t 416.8315243674168\t 5.553508838684786\t 5.687347806347678\t 5.885209581479743\n",
            "3  \t [9.12376544 9.73620918]\t 994.6474624709882\t 5.553508838684786\t 5.989499028988502\t 6.582616568399064\n",
            "4  \t [-0.05385845  7.96254756]\t 86.84889828641981\t 5.553508838684786\t 6.197362481614249\t 6.682436074022467\n",
            "5  \t [ 9.06636127 -2.74323799]\t 119.63857371103694\t 5.553508838684786\t 5.419249724216632\t 5.402320740447351\n",
            "6  \t [-0.84621021 -4.67969409]\t 425.3576041547739\t 5.553508838684786\t 5.456964342210415\t 6.450107522203542\n",
            "7  \t [ 10. -10.]\t 314.0\t 5.553508838684786\t 6.198323175323117\t 6.458561030682046\n",
            "8  \t [-5.57224913  7.95450333]\t 78.20996789613113\t 5.553508838684786\t 6.2201968066236315\t 6.42894208650057\n",
            "9  \t [-10.           3.55623355]\t 557.5984261789056\t 5.553508838684786\t 6.656741768272704\t 6.387432905039614\n",
            "10 \t [ 3.66206321 -4.11658337]\t 137.10333875467904\t 5.553508838684786\t 5.342814447581015\t 5.039627141558397\n",
            "11 \t [9.5139802  2.06959615]\t 303.396031259508\t 5.553508838684786\t 6.206291683883093\t 6.124234403140814\n",
            "12 \t [ -0.9271435 -10.       ]\t 1063.992333812405\t 5.553508838684786\t 5.875608848800115\t 5.5802065072195015\n",
            "13 \t [ 4.12715177 10.        ]\t 469.0158904735098\t 5.553508838684786\t 5.530309523682905\t 5.506766401412744\n",
            "14 \t [-0.48048091  3.55977332]\t 5.895979738214491\t 5.553508838684786\t 5.475127123661028\t 5.70179443928665\n",
            "15 \t [-5.00756936 -4.05008595]\t 767.8040501724313\t 5.553508838684786\t 5.276064484445699\t 5.3592741106539705\n",
            "16 \t [ 0.04760403 -0.43049247]\t 89.51418071536382\t 5.553508838684786\t 5.956205480781001\t 5.435221587408592\n",
            "17 \t [-10. -10.]\t 2594.0\t 5.553508838684786\t 6.029233005445046\t 5.785769271710771\n",
            "18 \t [ 7.98138017 -6.44218144]\t 162.11663083106393\t 5.553508838684786\t 5.6298949518961825\t 5.906763884821902\n",
            "19 \t [-3.72395889  4.64415564]\t 62.959787795407294\t 5.553508838684786\t 5.41556607783992\t 5.942266569063569\n",
            "20 \t [-0.70309283 -8.72086198]\t 861.0893815619343\t 5.553508838684786\t 5.988581501888878\t 5.797995565488174\n"
          ]
        }
      ],
      "source": [
        "### ESTIMATED STP ERM GRADIENTS\n",
        "\n",
        "np.random.seed(run_num_17)\n",
        "surrogate_approx_17 = dtStudentProcess(cov_func, optimize=opt, nu = df)\n",
        "\n",
        "approx_17 = GPGO_multi(surrogate_approx_17, Acquisition_grad(util), objfunc, param)\n",
        "approx_17.run(init_evals=n_init, max_iter=iters)\n"
      ]
    },
    {
      "cell_type": "code",
      "execution_count": 30,
      "metadata": {
        "id": "f0HIEP3PIUEa",
        "colab": {
          "base_uri": "https://localhost:8080/"
        },
        "outputId": "b4b54907-3f33-4636-c5de-c93e3bce8a1e"
      },
      "outputs": [
        {
          "output_type": "stream",
          "name": "stdout",
          "text": [
            "Evaluation \t Proposed point \t  Current eval. \t  Best eval. \t        Exact ERM: StdDev. x \t Approx ERM: StdDev. x \n",
            "init\t [3.00748483 0.10906747]\t 15.509405515253864\t 15.509405515253864\t    \t    \n",
            "init\t [ 7.57202942 -6.36319549]\t 162.0234327224751\t 15.509405515253864\t    \t    \n",
            "init\t [7.04466137 5.00272572]\t 299.59059770472754\t 15.509405515253864\t    \t    \n",
            "init\t [3.32203335 9.75790897]\t 380.8425822546991\t 15.509405515253864\t    \t    \n",
            "init\t [-4.86063155 -9.43388149]\t 1527.7052410059514\t 15.509405515253864\t    \t    \n",
            "1  \t [-6.1664519   4.28513481]\t 191.3691670751314\t 15.509405515253864\t 7.128913174710426\t 7.405329390990217\n",
            "2  \t [-10.          -2.39996571]\t 1225.995131506264\t 15.509405515253864\t 6.2233621476064185\t 6.424142120606524\n",
            "3  \t [6.31975365 3.18761398]\t 149.65937068607042\t 15.509405515253864\t 5.359806725699657\t 5.359806725699657\n",
            "4  \t [  1.78449375 -10.        ]\t 766.4898020673735\t 15.509405515253864\t 6.895375134325462\t 7.199419855902988\n",
            "5  \t [-10.  10.]\t 234.0\t 15.509405515253864\t 5.98593455130525\t 6.696851507732999\n",
            "6  \t [-2.7363273  -3.18773408]\t 446.1961721642634\t 15.509405515253864\t 6.288555938271825\t 5.893734782557377\n",
            "7  \t [-4.03853742 10.        ]\t 89.7762011495585\t 15.509405515253864\t 7.282922140889705\t 7.781251443245431\n",
            "\u001b[1m\u001b[92m8\u001b[0m\t \u001b[1m\u001b[92m[-0.18247632  4.7018099 ]\u001b[0m\t \u001b[1m\u001b[92m5.373236691612641\u001b[0m\t \u001b[1m\u001b[92m5.373236691612641\u001b[0m\t \u001b[1m\u001b[92m7.83080886646528\u001b[0m\t \u001b[1m\u001b[92m6.3727634207141\u001b[0m\n",
            "9  \t [10. 10.]\t 1154.0\t 5.373236691612641\t 6.79728278244788\t 6.604597405422415\n",
            "10 \t [10.         -1.10963352]\t 193.5518249592614\t 5.373236691612641\t 6.368176581571623\t 6.430045253686382\n",
            "11 \t [ 2.57580436 -4.5699218 ]\t 203.5046509728401\t 5.373236691612641\t 6.121328337892451\t 6.87258995144107\n",
            "12 \t [-10.          -7.95306445]\t 2168.7177762658694\t 5.373236691612641\t 6.079340915391993\t 7.087678589663721\n",
            "13 \t [ 10. -10.]\t 314.0\t 5.373236691612641\t 5.35370150381637\t 5.817630475666024\n",
            "14 \t [-2.23750028  1.57491632]\t 99.47102835724516\t 5.373236691612641\t 4.5930014647818584\t 5.0344868377305385\n",
            "15 \t [  6.29111406 -10.        ]\t 434.7035777207697\t 5.373236691612641\t 5.513193418159733\t 5.516590569518473\n",
            "16 \t [-6.09453772 -0.09391192]\t 475.1227805758882\t 5.373236691612641\t 5.79988635110991\t 5.6200151070974025\n",
            "17 \t [-9.27507469  2.26288858]\t 591.1934644288801\t 5.373236691612641\t 6.112170827766034\t 6.287494720496891\n",
            "18 \t [-0.50145449 -6.24772694]\t 549.9544254910807\t 5.373236691612641\t 6.099747786414139\t 6.09957314089178\n",
            "19 \t [ 6.05750606 -2.28852783]\t 53.76037836398098\t 5.373236691612641\t 6.007494538551483\t 6.714554032605232\n",
            "20 \t [-5.23461199  7.37121131]\t 71.86692334194329\t 5.373236691612641\t 5.8461726863953585\t 5.834282616609305\n"
          ]
        }
      ],
      "source": [
        "### ESTIMATED STP ERM GRADIENTS\n",
        "\n",
        "np.random.seed(run_num_18)\n",
        "surrogate_approx_18 = dtStudentProcess(cov_func, optimize=opt, nu = df)\n",
        "\n",
        "approx_18 = GPGO_multi(surrogate_approx_18, Acquisition_grad(util), objfunc, param)\n",
        "approx_18.run(init_evals=n_init, max_iter=iters)\n"
      ]
    },
    {
      "cell_type": "code",
      "execution_count": 31,
      "metadata": {
        "id": "S3mxRQDLIUPC",
        "colab": {
          "base_uri": "https://localhost:8080/"
        },
        "outputId": "e718124b-ed8d-4a82-9203-a897bd7f1802"
      },
      "outputs": [
        {
          "output_type": "stream",
          "name": "stdout",
          "text": [
            "Evaluation \t Proposed point \t  Current eval. \t  Best eval. \t        Exact ERM: StdDev. x \t Approx ERM: StdDev. x \n",
            "init\t [-8.04932797  5.22499433]\t 273.1270544592675\t 139.9227861892117\t    \t    \n",
            "init\t [-5.06124054 -7.23736625]\t 1204.1206373978957\t 139.9227861892117\t    \t    \n",
            "init\t [-3.37106873 -8.3400087 ]\t 1135.0538557997047\t 139.9227861892117\t    \t    \n",
            "init\t [3.43954163 6.13187596]\t 139.9227861892117\t 139.9227861892117\t    \t    \n",
            "init\t [9.65483829 2.7132147 ]\t 355.08571481298065\t 139.9227861892117\t    \t    \n",
            "1  \t [ 10. -10.]\t 314.0\t 139.9227861892117\t 6.505801212982246\t 7.28586084592802\n",
            "\u001b[1m\u001b[92m2\u001b[0m\t \u001b[1m\u001b[92m[ 4.81772344 -2.77685984]\u001b[0m\t \u001b[1m\u001b[92m63.29998354966632\u001b[0m\t \u001b[1m\u001b[92m63.29998354966632\u001b[0m\t \u001b[1m\u001b[92m6.810153592990421\u001b[0m\t \u001b[1m\u001b[92m6.772663920890899\u001b[0m\n",
            "3  \t [10. 10.]\t 1154.0\t 63.29998354966632\t 7.368912417745559\t 7.352148644382677\n",
            "4  \t [-9.64931371 -1.76781368]\t 1086.8911967373488\t 63.29998354966632\t 6.018588933708549\t 5.680226734339032\n",
            "5  \t [-1.67701223 -1.45097573]\t 230.2104293628728\t 63.29998354966632\t 6.011153801227009\t 6.3121543230477455\n",
            "6  \t [ 3.45743747 -8.92749322]\t 507.031916962191\t 63.29998354966632\t 6.427899122694188\t 6.330697406834465\n",
            "7  \t [-1.15645447 10.        ]\t 147.490029147742\t 63.29998354966632\t 6.088769943810287\t 6.897015277354755\n",
            "\u001b[1m\u001b[92m8\u001b[0m\t \u001b[1m\u001b[92m[-2.16696277  4.33106925]\u001b[0m\t \u001b[1m\u001b[92m25.283418604568485\u001b[0m\t \u001b[1m\u001b[92m25.283418604568485\u001b[0m\t \u001b[1m\u001b[92m5.907627155819612\u001b[0m\t \u001b[1m\u001b[92m5.737988489882395\u001b[0m\n",
            "9  \t [-10. -10.]\t 2594.0\t 25.283418604568485\t 6.720269331771389\t 7.199507538261358\n",
            "10 \t [10.         -4.10209611]\t 145.84792586090828\t 25.283418604568485\t 5.5658777863131\t 7.381724035380944\n",
            "11 \t [-10.  10.]\t 234.0\t 25.283418604568485\t 5.258804438871474\t 6.684462972091982\n",
            "\u001b[1m\u001b[92m12\u001b[0m\t \u001b[1m\u001b[92m[2.51109079 1.37364935]\u001b[0m\t \u001b[1m\u001b[92m4.981551151674516\u001b[0m\t \u001b[1m\u001b[92m4.981551151674516\u001b[0m\t \u001b[1m\u001b[92m5.496088391482564\u001b[0m\t \u001b[1m\u001b[92m5.946104824782704\u001b[0m\n",
            "13 \t [-5.50000256  1.24003675]\t 318.25564464518914\t 4.981551151674516\t 5.854013900145071\t 5.9172795835145475\n",
            "14 \t [-5.49826358  9.27222842]\t 81.77264640744008\t 4.981551151674516\t 4.645989600469843\t 5.790447477512043\n",
            "15 \t [ 0.7687568  -5.15978235]\t 348.27276051404226\t 4.981551151674516\t 5.969553044236956\t 5.989350612941938\n",
            "16 \t [ 5.09228465 10.        ]\t 557.9019087680306\t 4.981551151674516\t 5.221504224691421\t 5.766293436096949\n",
            "17 \t [5.4842357  2.26097847]\t 76.76103928606737\t 4.981551151674516\t 5.362613754002341\t 5.868839874174245\n",
            "18 \t [ 6.99601061 -6.6142102 ]\t 180.75065425409187\t 4.981551151674516\t 5.491031295339245\t 6.339271617871413\n",
            "19 \t [9.17572749 6.8514031 ]\t 660.283307324958\t 4.981551151674516\t 4.836666959636685\t 5.03974665853878\n",
            "20 \t [-5.49715554 -2.96168367]\t 698.6453992424292\t 4.981551151674516\t 5.0220910735353925\t 5.081076900029792\n"
          ]
        }
      ],
      "source": [
        "### ESTIMATED STP ERM GRADIENTS\n",
        "\n",
        "np.random.seed(run_num_19)\n",
        "surrogate_approx_19 = dtStudentProcess(cov_func, optimize=opt, nu = df)\n",
        "\n",
        "approx_19 = GPGO_multi(surrogate_approx_19, Acquisition_grad(util), objfunc, param)\n",
        "approx_19.run(init_evals=n_init, max_iter=iters)\n"
      ]
    },
    {
      "cell_type": "code",
      "execution_count": 32,
      "metadata": {
        "id": "Aawd59dRIUYn",
        "colab": {
          "base_uri": "https://localhost:8080/"
        },
        "outputId": "bbb3e80c-2031-4029-8d57-06bb4d65765e"
      },
      "outputs": [
        {
          "output_type": "stream",
          "name": "stdout",
          "text": [
            "Evaluation \t Proposed point \t  Current eval. \t  Best eval. \t        Exact ERM: StdDev. x \t Approx ERM: StdDev. x \n",
            "init\t [1.76261602 7.95427456]\t 155.85777119682857\t 155.85777119682857\t    \t    \n",
            "init\t [7.83061459 6.31674955]\t 469.53411882784934\t 155.85777119682857\t    \t    \n",
            "init\t [-9.28220829  3.83515164]\t 463.4088031056881\t 155.85777119682857\t    \t    \n",
            "init\t [-2.42638116  0.37021891]\t 165.36424127801376\t 155.85777119682857\t    \t    \n",
            "init\t [ 3.15902931 -6.12299564]\t 281.877765303078\t 155.85777119682857\t    \t    \n",
            "1  \t [-10. -10.]\t 2594.0\t 155.85777119682857\t 5.112157128692612\t 5.371028194623578\n",
            "2  \t [ 10. -10.]\t 314.0\t 155.85777119682857\t 6.5167749574395835\t 6.657098993592362\n",
            "3  \t [10.         -2.63501013]\t 158.04596654118015\t 155.85777119682857\t 5.390353109376323\t 5.487178047986488\n",
            "4  \t [-9.01691851  9.21808255]\t 196.72782576426894\t 155.85777119682857\t 5.802933299824207\t 6.172577432646048\n",
            "5  \t [-4.58565224 -5.85262184]\t 943.4234588106542\t 155.85777119682857\t 5.944235875006141\t 5.950759652451101\n",
            "6  \t [-10.         -2.4557293]\t 1233.9290889865179\t 155.85777119682857\t 6.838310334060734\t 7.4449288092092125\n",
            "\u001b[1m\u001b[92m7\u001b[0m\t \u001b[1m\u001b[92m[2.84315097 1.88329192]\u001b[0m\t \u001b[1m\u001b[92m6.755119522975037\u001b[0m\t \u001b[1m\u001b[92m6.755119522975037\u001b[0m\t \u001b[1m\u001b[92m7.5782205680116554\u001b[0m\t \u001b[1m\u001b[92m6.969812046321363\u001b[0m\n",
            "8  \t [-3.8081598   6.01726784]\t 45.051481829378005\t 6.755119522975037\t 7.015108580676364\t 6.7321007123167105\n",
            "9  \t [ -0.71510118 -10.        ]\t 1038.078382519818\t 6.755119522975037\t 6.945547199512167\t 6.900071392569593\n",
            "10 \t [7.1565612  1.67499244]\t 133.0345332853725\t 6.755119522975037\t 6.174728216485731\t 6.007600891862517\n",
            "11 \t [ 1.66205298 -1.75761081]\t 90.1675504919683\t 6.755119522975037\t 6.390113184309971\t 5.490211680101362\n",
            "12 \t [  5.4101953 -10.       ]\t 483.5888018727864\t 6.755119522975037\t 6.746058665767109\t 6.349786848935868\n",
            "13 \t [ 5.49914962 10.        ]\t 598.1641157267854\t 6.755119522975037\t 7.07193149580663\t 6.897367895054818\n",
            "14 \t [10. 10.]\t 1154.0\t 6.755119522975037\t 5.6205064833041245\t 6.154994169737626\n",
            "15 \t [-2.46851079  9.76141338]\t 101.1201077624073\t 6.755119522975037\t 4.729227948184793\t 5.380459465211668\n",
            "\u001b[1m\u001b[92m16\u001b[0m\t \u001b[1m\u001b[92m[-0.11084395  4.06010556]\u001b[0m\t \u001b[1m\u001b[92m2.3680956118374983\u001b[0m\t \u001b[1m\u001b[92m2.3680956118374983\u001b[0m\t \u001b[1m\u001b[92m4.873345750692583\u001b[0m\t \u001b[1m\u001b[92m5.314085798378469\u001b[0m\n",
            "17 \t [4.19502648 7.49821132]\t 267.18573032829926\t 2.3680956118374983\t 5.478711398425761\t 5.328140368749079\n",
            "18 \t [ 5.76313854 -2.48416963]\t 54.84314864493638\t 2.3680956118374983\t 5.737496607979504\t 6.4086254464086965\n",
            "19 \t [ 7.7390189  -6.17415098]\t 153.298894759669\t 2.3680956118374983\t 5.503414345131684\t 5.913265134979096\n",
            "20 \t [ 3.12894682 -8.39318261]\t 477.6412830540284\t 2.3680956118374983\t 4.8610250037181695\t 4.849445096381647\n"
          ]
        }
      ],
      "source": [
        "### ESTIMATED STP ERM GRADIENTS\n",
        "\n",
        "np.random.seed(run_num_20)\n",
        "surrogate_approx_20 = dtStudentProcess(cov_func, optimize=opt, nu = df)\n",
        "\n",
        "approx_20 = GPGO_multi(surrogate_approx_20, Acquisition_grad(util), objfunc, param)\n",
        "approx_20.run(init_evals=n_init, max_iter=iters)\n"
      ]
    },
    {
      "cell_type": "code",
      "execution_count": 33,
      "metadata": {
        "id": "xkgzPRbBTHaq",
        "colab": {
          "base_uri": "https://localhost:8080/"
        },
        "outputId": "f13e8f12-82e7-4fca-a655-785129fed4bc"
      },
      "outputs": [
        {
          "output_type": "execute_result",
          "data": {
            "text/plain": [
              "1662460978.326216"
            ]
          },
          "metadata": {},
          "execution_count": 33
        }
      ],
      "source": [
        "end_approx = time.time()\n",
        "end_approx\n",
        "\n",
        "time_approx = end_approx - start_approx\n",
        "time_approx\n",
        "\n",
        "start_exact = time.time()\n",
        "start_exact"
      ]
    },
    {
      "cell_type": "code",
      "execution_count": 34,
      "metadata": {
        "id": "7CG3Ndvb16Rb",
        "colab": {
          "base_uri": "https://localhost:8080/"
        },
        "outputId": "634b7de4-0a50-41ff-a4c4-e82c9f3517c7"
      },
      "outputs": [
        {
          "output_type": "stream",
          "name": "stdout",
          "text": [
            "Evaluation \t Proposed point \t  Current eval. \t  Best eval. \t        Exact ERM: StdDev. x \t Approx ERM: StdDev. x \n",
            "init\t [-1.65955991  4.40648987]\t 15.332210716052247\t 15.332210716052247\t    \t    \n",
            "init\t [-9.9977125  -3.95334855]\t 1458.2611077633842\t 15.332210716052247\t    \t    \n",
            "init\t [-7.06488218 -8.1532281 ]\t 1666.779874000304\t 15.332210716052247\t    \t    \n",
            "init\t [-6.27479577 -3.08878546]\t 804.3371752309802\t 15.332210716052247\t    \t    \n",
            "init\t [-2.06465052  0.77633468]\t 126.2019077328938\t 15.332210716052247\t    \t    \n",
            "1  \t [ 7.89213327 -8.29911577]\t 252.857497365554\t 15.332210716052247\t 6.813384919686618\t 7.181352358002538\n",
            "2  \t [7.66612182 2.47344414]\t 195.49152221204983\t 15.332210716052247\t 6.748722926870652\t 6.271495103160669\n",
            "3  \t [10. 10.]\t 1154.0\t 15.332210716052247\t 6.639067253383088\t 6.639885732296822\n",
            "4  \t [-9.56950389  8.95940422]\t 232.24098716076017\t 15.332210716052247\t 6.855643588186331\t 7.904202279883911\n",
            "5  \t [ 2.56152397 -4.28847437]\t 186.75205921539708\t 15.332210716052247\t 6.0658772117420945\t 6.623560394287678\n",
            "6  \t [ 1.74134833 10.        ]\t 289.26349323680677\t 15.332210716052247\t 5.355017195880918\t 6.694991005432913\n",
            "7  \t [  1.50591649 -10.        ]\t 793.6644421250767\t 15.332210716052247\t 6.8606983249755835\t 7.380901106546645\n",
            "8  \t [-10.           3.12940421]\t 593.6961571616042\t 15.332210716052247\t 6.089876618200169\t 7.477133483565187\n",
            "9  \t [-3.78828527  9.64831868]\t 80.96671426963735\t 15.332210716052247\t 5.984473103535864\t 7.41844278949599\n",
            "10 \t [10.         -4.74605412]\t 147.29087548660567\t 15.332210716052247\t 6.228477510734636\t 6.58182375410493\n",
            "11 \t [2.81028816 5.03428405]\t 66.53839662589242\t 15.332210716052247\t 5.705814933800275\t 5.72666362376862\n",
            "12 \t [-5.56820982  5.283367  ]\t 121.79465704024088\t 15.332210716052247\t 6.125140492165293\t 6.581717784022461\n",
            "13 \t [-1.93470191 -4.98430465]\t 549.2604131373803\t 15.332210716052247\t 4.6935659355959745\t 6.556827931635021\n",
            "14 \t [ 5.1100207  -0.63994786]\t 31.025364439212204\t 15.332210716052247\t 6.536909853457566\t 6.85630600024636\n",
            "15 \t [6.37621842 7.03681886]\t 399.62071425214003\t 15.332210716052247\t 4.742551648854228\t 5.9130025043037815\n",
            "16 \t [-2.81140301 -9.11627872]\t 1176.095183614087\t 15.332210716052247\t 5.986194075558172\t 6.681806752965827\n",
            "17 \t [10.          5.60441313]\t 626.4325843290924\t 15.332210716052247\t 5.814468042519882\t 6.524084230114935\n",
            "18 \t [-5.97916642  1.16270734]\t 363.00421106069007\t 15.332210716052247\t 5.832602227618736\t 6.754625852810588\n",
            "19 \t [2.10233561 0.24122055]\t 19.801232622052552\t 15.332210716052247\t 6.395205144662671\t 7.160520499636349\n",
            "20 \t [-10. -10.]\t 2594.0\t 15.332210716052247\t 6.457174213609874\t 7.40914496488661\n"
          ]
        }
      ],
      "source": [
        "### EXACT STP ERM GRADIENTS\n",
        "\n",
        "np.random.seed(run_num_1)\n",
        "surrogate_exact_1 = dtStudentProcess(cov_func, optimize=opt, nu = df)\n",
        "\n",
        "exact_1 = dGPGO(surrogate_exact_1, Acquisition_grad(util), objfunc, param)\n",
        "exact_1.run(init_evals=n_init, max_iter=iters)\n"
      ]
    },
    {
      "cell_type": "code",
      "execution_count": 35,
      "metadata": {
        "id": "-ilCPSAu9SAg",
        "colab": {
          "base_uri": "https://localhost:8080/"
        },
        "outputId": "de9f6200-778a-4dd9-8c60-5c0c59d3141d"
      },
      "outputs": [
        {
          "output_type": "stream",
          "name": "stdout",
          "text": [
            "Evaluation \t Proposed point \t  Current eval. \t  Best eval. \t        Exact ERM: StdDev. x \t Approx ERM: StdDev. x \n",
            "init\t [-1.28010196 -9.48147536]\t 1032.6027521517153\t 92.40504507724606\t    \t    \n",
            "init\t [ 0.99324956 -1.29355215]\t 92.40504507724606\t 92.40504507724606\t    \t    \n",
            "init\t [-1.59264396 -3.39330358]\t 370.5851459944721\t 92.40504507724606\t    \t    \n",
            "init\t [-5.90702732  2.38541933]\t 274.38308294748543\t 92.40504507724606\t    \t    \n",
            "init\t [-4.00690653 -4.6634545 ]\t 725.9498417670716\t 92.40504507724606\t    \t    \n",
            "1  \t [10. 10.]\t 1154.0\t 92.40504507724606\t 6.483926636905752\t 6.612501164031472\n",
            "2  \t [ 9.4582138 -7.7444757]\t 207.8931124700012\t 92.40504507724606\t 5.909913204176651\t 6.383624643435384\n",
            "3  \t [ 0.235308 10.      ]\t 205.10101719083318\t 92.40504507724606\t 5.90896255858412\t 6.620738694755291\n",
            "4  \t [8.51803193 1.4054842 ]\t 199.41545789668123\t 92.40504507724606\t 6.274890746970704\t 6.7244945082894505\n",
            "5  \t [-10. -10.]\t 2594.0\t 92.40504507724606\t 6.611716425454394\t 6.4927677111820765\n",
            "6  \t [-8.60678819  8.70307127]\t 185.77142455141157\t 92.40504507724606\t 6.66210432533847\t 6.600430912113545\n",
            "\u001b[1m\u001b[92m7\u001b[0m\t \u001b[1m\u001b[92m[2.18665861 4.32874455]\u001b[0m\t \u001b[1m\u001b[92m28.482733132011578\u001b[0m\t \u001b[1m\u001b[92m28.482733132011578\u001b[0m\t \u001b[1m\u001b[92m5.769033880971726\u001b[0m\t \u001b[1m\u001b[92m6.379620858643689\u001b[0m\n",
            "8  \t [-3.73170835  7.01047955]\t 40.55369403423139\t 28.482733132011578\t 4.972864845203094\t 6.301914150103442\n",
            "9  \t [6.07162317 6.53225478]\t 334.3050480999208\t 28.482733132011578\t 5.180406010408686\t 6.8039916045753985\n",
            "10 \t [-9.62544667 -2.19432987]\t 1140.942499236245\t 28.482733132011578\t 5.645419397854629\t 6.358091465376267\n",
            "11 \t [ 4.91106517 -8.33943002]\t 364.60152167202926\t 28.482733132011578\t 5.839170436422861\t 6.1556014833831805\n",
            "12 \t [ 6.68077602 -3.33829758]\t 74.17457084051047\t 28.482733132011578\t 4.977589385088721\t 6.578468490671021\n",
            "13 \t [-5.50501725 -9.24876159]\t 1599.1642933940002\t 28.482733132011578\t 6.2833569056602085\t 7.234792972721511\n",
            "14 \t [ 4.3586747 10.       ]\t 489.4892622195316\t 28.482733132011578\t 5.748836538624103\t 6.906149583316352\n",
            "15 \t [-9.60922514  4.37983248]\t 455.1863506566029\t 28.482733132011578\t 5.817007347871283\t 6.143449688930623\n",
            "16 \t [-2.17957861  2.44408707]\t 66.23434766330432\t 28.482733132011578\t 5.114632697792792\t 4.774032977410893\n",
            "17 \t [9.77814011 6.064458  ]\t 647.4351673110433\t 28.482733132011578\t 5.528911020984272\t 6.242698766848037\n",
            "18 \t [ 1.7011448  -6.38396135]\t 390.11554753607396\t 28.482733132011578\t 5.204949605083234\t 6.193543525764548\n",
            "\u001b[1m\u001b[92m19\u001b[0m\t \u001b[1m\u001b[92m[2.9115355  1.44339687]\u001b[0m\t \u001b[1m\u001b[92m6.580889239728086\u001b[0m\t \u001b[1m\u001b[92m6.580889239728086\u001b[0m\t \u001b[1m\u001b[92m5.331194849304976\u001b[0m\t \u001b[1m\u001b[92m7.037942985733867\u001b[0m\n",
            "20 \t [ 5.50529154 -0.56324051]\t 36.54417528409975\t 6.580889239728086\t 5.184058376450083\t 6.082349053844281\n"
          ]
        }
      ],
      "source": [
        "### EXACT STP ERM GRADIENTS\n",
        "\n",
        "np.random.seed(run_num_2)\n",
        "surrogate_exact_2 = dtStudentProcess(cov_func, optimize=opt, nu = df)\n",
        "\n",
        "exact_2 = dGPGO(surrogate_exact_2, Acquisition_grad(util), objfunc, param)\n",
        "exact_2.run(init_evals=n_init, max_iter=iters)\n"
      ]
    },
    {
      "cell_type": "code",
      "execution_count": 36,
      "metadata": {
        "id": "XieJ158mIvlP",
        "colab": {
          "base_uri": "https://localhost:8080/"
        },
        "outputId": "d2707f0a-be4a-4260-9812-3c3b46f80563"
      },
      "outputs": [
        {
          "output_type": "stream",
          "name": "stdout",
          "text": [
            "Evaluation \t Proposed point \t  Current eval. \t  Best eval. \t        Exact ERM: StdDev. x \t Approx ERM: StdDev. x \n",
            "init\t [1.01595805 4.16295645]\t 6.912079999083602\t 6.912079999083602\t    \t    \n",
            "init\t [-4.18190522  0.2165521 ]\t 288.3871250813255\t 6.912079999083602\t    \t    \n",
            "init\t [7.85893909 7.92586178]\t 626.8352854305291\t 6.912079999083602\t    \t    \n",
            "init\t [-7.48829379 -5.85514244]\t 1353.6437998345716\t 6.912079999083602\t    \t    \n",
            "init\t [-8.97065593 -1.18380313]\t 918.3130335940459\t 6.912079999083602\t    \t    \n",
            "1  \t [ 5.60629529 -3.87272935]\t 88.9992584872525\t 6.912079999083602\t 4.717150437873575\t 4.717150437873575\n",
            "2  \t [-6.2437035   9.04202486]\t 94.75343105833329\t 6.912079999083602\t 6.58813484365419\t 7.009402017260656\n",
            "3  \t [10.         -0.13570811]\t 228.39234278278482\t 6.912079999083602\t 6.7395640104523\t 6.851382576828079\n",
            "4  \t [-0.42169096 -8.75441039]\t 834.625955715487\t 6.912079999083602\t 6.690917629635003\t 6.560477998441535\n",
            "5  \t [ 6.56861694 -9.15863104]\t 352.5549468500716\t 6.912079999083602\t 5.532968326397709\t 7.067595612932735\n",
            "6  \t [-9.21277105  4.93342182]\t 382.22930688812016\t 6.912079999083602\t 6.012542650794505\t 6.042622584021706\n",
            "7  \t [ 0.69850669 -0.70926041]\t 78.19409262167642\t 6.912079999083602\t 5.8156941863747385\t 5.939755517678357\n",
            "8  \t [ 1.84038383 10.        ]\t 295.5927191499637\t 6.912079999083602\t 5.790232914976504\t 7.124683891572387\n",
            "9  \t [ 5.74317947 -0.19878238]\t 42.2706096709416\t 6.912079999083602\t 5.325010274524176\t 5.545637260799393\n",
            "10 \t [-10. -10.]\t 2594.0\t 6.912079999083602\t 6.540502093970791\t 6.970272793214417\n",
            "11 \t [-4.67617006 -9.97354931]\t 1591.7800200785114\t 6.912079999083602\t 5.83234351267205\t 5.777737831906343\n",
            "12 \t [5.18327228 4.36574179]\t 142.53124595250372\t 6.912079999083602\t 5.935312744124676\t 6.622489326524354\n",
            "13 \t [-2.30540098 -4.16562974]\t 500.8418625794897\t 6.912079999083602\t 6.980223175164546\t 7.280241886848578\n",
            "14 \t [-2.98238207  5.1005849 ]\t 34.43646615870871\t 6.912079999083602\t 4.901895652183988\t 6.535868617856368\n",
            "15 \t [ 9.97093215 -4.21037813]\t 144.8653782548394\t 6.912079999083602\t 5.498193966665797\t 5.931982035144082\n",
            "16 \t [-2.29520448  9.61690064]\t 98.77640814543062\t 6.912079999083602\t 5.235988816249119\t 8.420397006623887\n",
            "17 \t [10.          4.10813199]\t 490.9252859370523\t 6.912079999083602\t 6.818008473141533\t 7.360202757543302\n",
            "18 \t [4.64453209 7.76833849]\t 319.12523222142494\t 6.912079999083602\t 6.327796116499771\t 6.27091178005234\n",
            "19 \t [-6.21217239  2.91613024]\t 264.9513889151653\t 6.912079999083602\t 6.003450821483118\t 6.0910105189809585\n",
            "20 \t [-4.77009806 -5.49033935]\t 918.8201938823742\t 6.912079999083602\t 5.043017451466369\t 5.030446448408367\n"
          ]
        }
      ],
      "source": [
        "### EXACT STP ERM GRADIENTS\n",
        "\n",
        "np.random.seed(run_num_3)\n",
        "surrogate_exact_3 = dtStudentProcess(cov_func, optimize=opt, nu = df)\n",
        "\n",
        "exact_3 = dGPGO(surrogate_exact_3, Acquisition_grad(util), objfunc, param)\n",
        "exact_3.run(init_evals=n_init, max_iter=iters)\n"
      ]
    },
    {
      "cell_type": "code",
      "execution_count": 37,
      "metadata": {
        "id": "PhLBVOIfIvol",
        "colab": {
          "base_uri": "https://localhost:8080/"
        },
        "outputId": "45f21ded-37a2-42d9-b3d7-2d7b2d6ff399"
      },
      "outputs": [
        {
          "output_type": "stream",
          "name": "stdout",
          "text": [
            "Evaluation \t Proposed point \t  Current eval. \t  Best eval. \t        Exact ERM: StdDev. x \t Approx ERM: StdDev. x \n",
            "init\t [9.34059678 0.94464498]\t 231.80709501196006\t 215.08077877054313\t    \t    \n",
            "init\t [9.4536872  4.29631987]\t 453.3958241553961\t 215.08077877054313\t    \t    \n",
            "init\t [ 3.95457649 -5.67821009]\t 215.08077877054313\t 215.08077877054313\t    \t    \n",
            "init\t [ 9.5254891 -9.8753949]\t 314.14647993232734\t 215.08077877054313\t    \t    \n",
            "init\t [-4.94035275 -1.30416935]\t 473.61459720928724\t 215.08077877054313\t    \t    \n",
            "1  \t [-10. -10.]\t 2594.0\t 215.08077877054313\t 5.520879884521139\t 6.074805396848882\n",
            "\u001b[1m\u001b[92m2\u001b[0m\t \u001b[1m\u001b[92m[1.43282743 6.87413988]\u001b[0m\t \u001b[1m\u001b[92m89.39616910477575\u001b[0m\t \u001b[1m\u001b[92m89.39616910477575\u001b[0m\t \u001b[1m\u001b[92m5.896308199623629\u001b[0m\t \u001b[1m\u001b[92m5.9577654592052\u001b[0m\n",
            "3  \t [ -1.8291149 -10.       ]\t 1179.2474046327752\t 89.39616910477575\t 6.6146996695556615\t 6.981243657900718\n",
            "4  \t [ 8.89249793 10.        ]\t 998.4375014634302\t 89.39616910477575\t 6.544584213518988\t 7.133310734399755\n",
            "5  \t [-6.86935575  9.72449447]\t 112.38841506890779\t 89.39616910477575\t 5.423703824051689\t 6.296649609760581\n",
            "\u001b[1m\u001b[92m6\u001b[0m\t \u001b[1m\u001b[92m[3.2443385  1.16332465]\u001b[0m\t \u001b[1m\u001b[92m9.075188608740515\u001b[0m\t \u001b[1m\u001b[92m9.075188608740515\u001b[0m\t \u001b[1m\u001b[92m5.493065182549347\u001b[0m\t \u001b[1m\u001b[92m6.324164547423764\u001b[0m\n",
            "7  \t [-3.54677973  4.48794012]\t 60.3131706621093\t 9.075188608740515\t 5.000901356805354\t 5.457030263623386\n",
            "8  \t [-10.          -3.88104234]\t 1447.2754446718757\t 9.075188608740515\t 5.453834262063443\t 6.152974458771997\n",
            "9  \t [-9.61962239  2.41246975]\t 615.5226522795301\t 9.075188608740515\t 5.289135732092749\t 5.908129901811842\n",
            "10 \t [ 9.20319709 -4.34836611]\t 124.21387098743585\t 9.075188608740515\t 6.023301745415835\t 6.573733906373243\n",
            "11 \t [ 0.68180215 -2.48870162]\t 165.10742117117434\t 9.075188608740515\t 5.83033441710136\t 6.283617855230629\n",
            "12 \t [-2.91916568  8.15405406]\t 48.02393021395088\t 9.075188608740515\t 5.862973846367102\t 5.8611197612375765\n",
            "13 \t [-5.75728202 -6.54853222]\t 1200.353640372252\t 9.075188608740515\t 6.074252603227474\t 6.867997039720115\n",
            "14 \t [ 3.84318378 -9.73620006]\t 561.7815708823426\t 9.075188608740515\t 5.77044811554754\t 5.799318522672166\n",
            "15 \t [-0.43564662  1.90443716]\t 28.889424583743306\t 9.075188608740515\t 5.408512275951163\t 6.8795482759036855\n",
            "16 \t [4.99044097 4.81958358]\t 154.2600444211706\t 9.075188608740515\t 5.246691890445101\t 5.960189881140405\n",
            "17 \t [2.14852253 4.24014763]\t 25.680050629095042\t 9.075188608740515\t 5.508946831337312\t 5.50709822515214\n",
            "18 \t [ 5.54948979 -1.51474531]\t 41.08561129303727\t 9.075188608740515\t 6.000179801720541\t 7.155107854028091\n",
            "19 \t [-7.59263614  6.11130619]\t 203.69353411085967\t 9.075188608740515\t 5.82006508736329\t 7.1348634939082105\n",
            "20 \t [ 4.16323072 10.        ]\t 472.1710635465961\t 9.075188608740515\t 5.07772637471948\t 6.423210175834316\n"
          ]
        }
      ],
      "source": [
        "### EXACT STP ERM GRADIENTS\n",
        "\n",
        "np.random.seed(run_num_4)\n",
        "surrogate_exact_4 = dtStudentProcess(cov_func, optimize=opt, nu = df)\n",
        "\n",
        "exact_4 = dGPGO(surrogate_exact_4, Acquisition_grad(util), objfunc, param)\n",
        "exact_4.run(init_evals=n_init, max_iter=iters)\n"
      ]
    },
    {
      "cell_type": "code",
      "execution_count": 38,
      "metadata": {
        "id": "arbiPyj2IvsJ",
        "colab": {
          "base_uri": "https://localhost:8080/"
        },
        "outputId": "cb16048d-9446-4348-c0a2-4869fecce89b"
      },
      "outputs": [
        {
          "output_type": "stream",
          "name": "stdout",
          "text": [
            "Evaluation \t Proposed point \t  Current eval. \t  Best eval. \t        Exact ERM: StdDev. x \t Approx ERM: StdDev. x \n",
            "init\t [-5.56013658  7.41464612]\t 80.93700948496809\t 18.053107398965345\t    \t    \n",
            "init\t [-5.86561689  8.37221816]\t 84.91838238990834\t 18.053107398965345\t    \t    \n",
            "init\t [-0.23177622  2.23487726]\t 18.053107398965345\t 18.053107398965345\t    \t    \n",
            "init\t [5.31815713 0.36835976]\t 36.94936820355582\t 18.053107398965345\t    \t    \n",
            "init\t [-4.06398997 -6.24557543]\t 930.179306576812\t 18.053107398965345\t    \t    \n",
            "1  \t [9.27861058 9.20453431]\t 946.0775823883291\t 18.053107398965345\t 7.557595378826689\t 7.538954122158759\n",
            "2  \t [ 8.87080164 -7.76615146]\t 211.3917378701312\t 18.053107398965345\t 6.500551172451353\t 6.806606194870211\n",
            "3  \t [-10. -10.]\t 2594.0\t 18.053107398965345\t 6.918192448003631\t 7.334688177490873\n",
            "4  \t [-10.           2.17374057]\t 681.1243529207238\t 18.053107398965345\t 5.996074626400895\t 6.300994701247313\n",
            "5  \t [2.68428552 8.77105868]\t 258.4705647495647\t 18.053107398965345\t 5.576584231538905\t 6.407078474908636\n",
            "6  \t [ 2.04807117 -4.95530312]\t 255.22471389624351\t 18.053107398965345\t 6.480391139944991\t 7.131543016005799\n",
            "7  \t [10.          3.13275458]\t 414.64644834741193\t 18.053107398965345\t 5.191134377850461\t 6.433388078920201\n",
            "8  \t [10.         -2.44907774]\t 161.1286438046798\t 18.053107398965345\t 5.958529617519918\t 7.121156989203225\n",
            "9  \t [-4.52687114 -0.49158341]\t 368.06754934011485\t 18.053107398965345\t 5.432468314154007\t 6.321561854839761\n",
            "10 \t [-10.          -3.79910583]\t 1434.4605135718987\t 18.053107398965345\t 6.404939911995672\t 6.938632555445584\n",
            "11 \t [  3.40986757 -10.        ]\t 623.4110814836931\t 18.053107398965345\t 5.685920381642211\t 7.595333855280205\n",
            "12 \t [-10.           7.25968741]\t 320.872191976507\t 18.053107398965345\t 5.391374229346462\t 6.87619943210604\n",
            "13 \t [5.57184884 4.72115685]\t 182.27186529999761\t 18.053107398965345\t 5.871833017395066\t 7.1053707013583995\n",
            "14 \t [-1.63126698  9.67070711]\t 116.69020545115856\t 18.053107398965345\t 5.298364452892032\t 5.2218507842116395\n",
            "15 \t [ -1.32017321 -10.        ]\t 1113.2140323545318\t 18.053107398965345\t 5.424288229975231\t 6.21805588116043\n",
            "16 \t [ 6.18920622 -4.0390379 ]\t 90.16342479367484\t 18.053107398965345\t 5.165199192315485\t 5.834485743393136\n",
            "17 \t [-4.29330364  3.74321481]\t 111.38466481895462\t 18.053107398965345\t 5.3119042006813855\t 6.461746489973404\n",
            "18 \t [-0.43257329 -1.43993257]\t 159.71056762121617\t 18.053107398965345\t 5.698348440935714\t 7.049391049477675\n",
            "19 \t [0.45443938 5.61287869]\t 24.219987355346422\t 18.053107398965345\t 4.951575385717469\t 6.533680337231985\n",
            "20 \t [-8.43938921 -0.42631543]\t 762.9471294882171\t 18.053107398965345\t 5.652767438766926\t 6.060116682096244\n"
          ]
        }
      ],
      "source": [
        "### EXACT STP ERM GRADIENTS\n",
        "\n",
        "np.random.seed(run_num_5)\n",
        "surrogate_exact_5 = dtStudentProcess(cov_func, optimize=opt, nu = df)\n",
        "\n",
        "exact_5 = dGPGO(surrogate_exact_5, Acquisition_grad(util), objfunc, param)\n",
        "exact_5.run(init_evals=n_init, max_iter=iters)\n"
      ]
    },
    {
      "cell_type": "code",
      "execution_count": 39,
      "metadata": {
        "id": "04KJCEm_Ivvf",
        "colab": {
          "base_uri": "https://localhost:8080/"
        },
        "outputId": "349e3fa0-e999-4f1a-a35d-94e1e0b40303"
      },
      "outputs": [
        {
          "output_type": "stream",
          "name": "stdout",
          "text": [
            "Evaluation \t Proposed point \t  Current eval. \t  Best eval. \t        Exact ERM: StdDev. x \t Approx ERM: StdDev. x \n",
            "init\t [ 7.85720303 -3.36040389]\t 88.46320859272592\t 88.46320859272592\t    \t    \n",
            "init\t [ 6.42458246 -9.16606749]\t 359.2297742730208\t 88.46320859272592\t    \t    \n",
            "init\t [-7.8468664   1.90104128]\t 475.1525044254979\t 88.46320859272592\t    \t    \n",
            "init\t [ 0.59634724 -1.62385143]\t 122.64613090496854\t 88.46320859272592\t    \t    \n",
            "init\t [-3.29184301  2.45038864]\t 112.48071079498652\t 88.46320859272592\t    \t    \n",
            "1  \t [4.34664291 8.74699069]\t 375.00460929454164\t 88.46320859272592\t 5.6979738639153865\t 5.89892124023098\n",
            "2  \t [-4.96771714 -9.17248997]\t 1500.0516160468933\t 88.46320859272592\t 6.7762022927016865\t 7.244349912959313\n",
            "3  \t [9.57427611 1.74148842]\t 289.1837050334585\t 88.46320859272592\t 6.323552320665415\t 6.429265186548631\n",
            "\u001b[1m\u001b[92m4\u001b[0m\t \u001b[1m\u001b[92m[-5.6935267   8.60486508]\u001b[0m\t \u001b[1m\u001b[92m80.95854876086956\u001b[0m\t \u001b[1m\u001b[92m80.95854876086956\u001b[0m\t \u001b[1m\u001b[92m5.840928825317589\u001b[0m\t \u001b[1m\u001b[92m6.202807537382587\u001b[0m\n",
            "5  \t [10. 10.]\t 1154.0\t 80.95854876086956\t 7.1118174609253115\t 7.241782036075382\n",
            "6  \t [-10.          -3.62030374]\t 1406.7288366353391\t 80.95854876086956\t 6.033474604863996\t 6.6482549288295685\n",
            "\u001b[1m\u001b[92m7\u001b[0m\t \u001b[1m\u001b[92m[-0.8435912   6.65633019]\u001b[0m\t \u001b[1m\u001b[92m29.911669712809825\u001b[0m\t \u001b[1m\u001b[92m29.911669712809825\u001b[0m\t \u001b[1m\u001b[92m5.802663106655293\u001b[0m\t \u001b[1m\u001b[92m6.398361946145168\u001b[0m\n",
            "\u001b[1m\u001b[92m8\u001b[0m\t \u001b[1m\u001b[92m[3.86985982 2.13953316]\u001b[0m\t \u001b[1m\u001b[92m25.127139068905244\u001b[0m\t \u001b[1m\u001b[92m25.127139068905244\u001b[0m\t \u001b[1m\u001b[92m5.4076674272569525\u001b[0m\t \u001b[1m\u001b[92m6.646568799746227\u001b[0m\n",
            "\u001b[1m\u001b[92m9\u001b[0m\t \u001b[1m\u001b[92m[-1.22868843  4.34354782]\u001b[0m\t \u001b[1m\u001b[92m9.906068482791387\u001b[0m\t \u001b[1m\u001b[92m9.906068482791387\u001b[0m\t \u001b[1m\u001b[92m5.297517767171145\u001b[0m\t \u001b[1m\u001b[92m5.294760488359756\u001b[0m\n",
            "10 \t [-1.38629601 -7.30554564]\t 756.2300575131685\t 9.906068482791387\t 5.466072660130939\t 6.105684239275314\n",
            "11 \t [-4.00404151 -2.38328172]\t 485.6060884646513\t 9.906068482791387\t 5.4703335539454585\t 6.546940510471871\n",
            "12 \t [-10. -10.]\t 2594.0\t 9.906068482791387\t 5.560044049216515\t 7.593943812122817\n",
            "13 \t [ 3.45896194 -3.24909195]\t 102.55798614529127\t 9.906068482791387\t 5.2982409192862825\t 6.1864352694149405\n",
            "14 \t [8.16992185 5.70583648]\t 448.85174127760564\t 9.906068482791387\t 5.601829144861689\t 6.626844511822365\n",
            "15 \t [-10.           6.60338213]\t 352.82418632756867\t 9.906068482791387\t 5.681486139963144\t 7.076724668951475\n",
            "16 \t [ 0.29714542 10.        ]\t 208.11016618816245\t 9.906068482791387\t 4.970041029432725\t 6.148246214134246\n",
            "17 \t [ 9.46618921 -6.46256821]\t 165.18764122546003\t 9.906068482791387\t 6.245545071053086\t 7.191924877313891\n",
            "18 \t [2.456825   5.18277868]\t 59.8737217291315\t 9.906068482791387\t 5.482432301307596\t 6.187563088208476\n",
            "19 \t [  2.16051167 -10.        ]\t 731.040722580295\t 9.906068482791387\t 5.71782440533983\t 7.062557842983007\n",
            "20 \t [-7.46889687 -5.69813815]\t 1326.2081870156203\t 9.906068482791387\t 5.80037242028923\t 6.135927890104196\n"
          ]
        }
      ],
      "source": [
        "### EXACT STP ERM GRADIENTS\n",
        "\n",
        "np.random.seed(run_num_6)\n",
        "surrogate_exact_6 = dtStudentProcess(cov_func, optimize=opt, nu = df)\n",
        "\n",
        "exact_6 = dGPGO(surrogate_exact_6, Acquisition_grad(util), objfunc, param)\n",
        "exact_6.run(init_evals=n_init, max_iter=iters)\n"
      ]
    },
    {
      "cell_type": "code",
      "execution_count": 40,
      "metadata": {
        "id": "tAOkme3CIvyO",
        "colab": {
          "base_uri": "https://localhost:8080/"
        },
        "outputId": "986a8460-3166-4664-cb0d-31b1153156c6"
      },
      "outputs": [
        {
          "output_type": "stream",
          "name": "stdout",
          "text": [
            "Evaluation \t Proposed point \t  Current eval. \t  Best eval. \t        Exact ERM: StdDev. x \t Approx ERM: StdDev. x \n",
            "init\t [-8.47383421  5.59837584]\t 285.59280278210764\t 9.465549861932052\t    \t    \n",
            "init\t [-1.23181537  4.46930356]\t 9.465549861932052\t 9.465549861932052\t    \t    \n",
            "init\t [9.55979024 0.76991741]\t 238.50407296157155\t 9.465549861932052\t    \t    \n",
            "init\t [ 0.02240927 -8.55897733]\t 763.2277954619568\t 9.465549861932052\t    \t    \n",
            "init\t [-4.63122040e+00 -2.34998349e-03]\t 338.87889871968287\t 9.465549861932052\t    \t    \n",
            "1  \t [-9.60012009 -6.06424241]\t 1741.2716467393147\t 9.465549861932052\t 4.937082094496583\t 5.304564727016315\n",
            "2  \t [10. 10.]\t 1154.0\t 9.465549861932052\t 6.5850269143711015\t 6.889673916726663\n",
            "3  \t [ 7.45254366 -9.52193948]\t 345.78455019200885\t 9.465549861932052\t 6.483278624553535\t 7.1312110714283\n",
            "4  \t [-7.86246511 -2.61028169]\t 947.860148457175\t 9.465549861932052\t 5.616490564367487\t 5.606473018575698\n",
            "5  \t [-3.25931441  9.70439311]\t 87.00428551859866\t 9.465549861932052\t 6.225886035301137\t 6.745668431944675\n",
            "6  \t [5.59919992 5.65613034]\t 238.76693666817698\t 9.465549861932052\t 6.536604650100984\t 7.615527998410906\n",
            "7  \t [2.51738481 0.01970541]\t 19.745032573178012\t 9.465549861932052\t 5.832188271326393\t 6.532068329501573\n",
            "8  \t [ 2.13111977 10.        ]\t 314.7398665737504\t 9.465549861932052\t 6.250447597292728\t 7.240966236034135\n",
            "9  \t [10.         -4.63626266]\t 146.75162554578208\t 9.465549861932052\t 5.9644706016588085\t 6.73155637619225\n",
            "10 \t [ -5.45641637 -10.        ]\t 1724.8938641520708\t 9.465549861932052\t 5.999313024974841\t 7.080601564434161\n",
            "11 \t [ 2.85654764 -4.62602867]\t 194.7507276323538\t 9.465549861932052\t 5.800438756674842\t 6.503788964587323\n",
            "12 \t [-9.52173607 10.        ]\t 209.31742984806215\t 9.465549861932052\t 6.374742131831151\t 7.1324175173231374\n",
            "13 \t [-3.48459083 -4.3270733 ]\t 631.8591955763407\t 9.465549861932052\t 5.375751916883929\t 6.939624139309851\n",
            "14 \t [ 6.01082748 -1.62039461]\t 47.066189629290264\t 9.465549861932052\t 5.41256965366023\t 6.6089729368147205\n",
            "15 \t [10.          5.22364074]\t 589.8250243595363\t 9.465549861932052\t 5.7221998764825015\t 6.654479473207966\n",
            "16 \t [-5.24466004  6.10803375]\t 88.00935067997807\t 9.465549861932052\t 5.388994201924652\t 6.316893083496126\n",
            "17 \t [-9.39428165  1.51531188]\t 674.6850807591202\t 9.465549861932052\t 4.599642165338997\t 6.515810799418348\n",
            "18 \t [ 3.61951594 -9.74008684]\t 578.8754972128601\t 9.465549861932052\t 6.062126863543765\t 6.864387281818452\n",
            "19 \t [5.65393272 7.75173423]\t 398.10435111297875\t 9.465549861932052\t 6.034362732253999\t 6.0609801294890095\n",
            "20 \t [1.99770565 3.90147475]\t 16.235618029301495\t 9.465549861932052\t 5.615192582451904\t 6.209425601270337\n"
          ]
        }
      ],
      "source": [
        "### EXACT STP ERM GRADIENTS\n",
        "\n",
        "np.random.seed(run_num_7)\n",
        "surrogate_exact_7 = dtStudentProcess(cov_func, optimize=opt, nu = df)\n",
        "\n",
        "exact_7 = dGPGO(surrogate_exact_7, Acquisition_grad(util), objfunc, param)\n",
        "exact_7.run(init_evals=n_init, max_iter=iters)\n"
      ]
    },
    {
      "cell_type": "code",
      "execution_count": 41,
      "metadata": {
        "id": "69-J3EF4Iv1S",
        "colab": {
          "base_uri": "https://localhost:8080/"
        },
        "outputId": "19b7324a-d3f6-4755-d849-336ea3ea2a58"
      },
      "outputs": [
        {
          "output_type": "stream",
          "name": "stdout",
          "text": [
            "Evaluation \t Proposed point \t  Current eval. \t  Best eval. \t        Exact ERM: StdDev. x \t Approx ERM: StdDev. x \n",
            "init\t [7.46858806 9.37081326]\t 741.8307972128058\t 75.39770051777191\t    \t    \n",
            "init\t [7.3838908  0.61711383]\t 110.46436066448925\t 75.39770051777191\t    \t    \n",
            "init\t [-5.34543344 -9.77202391]\t 1665.297823285088\t 75.39770051777191\t    \t    \n",
            "init\t [-1.39062363 -1.9529728 ]\t 245.96065521704543\t 75.39770051777191\t    \t    \n",
            "init\t [ 0.45349343 -0.43216408]\t 75.39770051777191\t 75.39770051777191\t    \t    \n",
            "1  \t [ 9.69498875 -9.42535902]\t 285.65502563735186\t 75.39770051777191\t 6.020115200386511\t 6.649092732414614\n",
            "2  \t [-9.83383251  5.77166529]\t 385.04821658618386\t 75.39770051777191\t 6.2951350654938025\t 6.030256848759891\n",
            "3  \t [-3.97152767  9.51013426]\t 76.56717653580492\t 75.39770051777191\t 6.302972402337654\t 6.3587908897211785\n",
            "4  \t [-9.65586204 -5.07440767]\t 1582.0354694335447\t 75.39770051777191\t 7.316491223521239\t 7.20627466468805\n",
            "\u001b[1m\u001b[92m5\u001b[0m\t \u001b[1m\u001b[92m[1.10947828 5.5318851 ]\u001b[0m\t \u001b[1m\u001b[92m34.329629696240445\u001b[0m\t \u001b[1m\u001b[92m34.329629696240445\u001b[0m\t \u001b[1m\u001b[92m6.280541174610286\u001b[0m\t \u001b[1m\u001b[92m6.029716738280662\u001b[0m\n",
            "6  \t [ 3.07576884 -9.74452776]\t 622.0214720440326\t 34.329629696240445\t 6.928639759701483\t 6.954898263990621\n",
            "7  \t [-4.27718834  3.61404147]\t 115.20551881306825\t 34.329629696240445\t 6.0256147825211706\t 5.851408638389285\n",
            "8  \t [ 4.23110031 -3.95465816]\t 114.26681149849968\t 34.329629696240445\t 6.666539046930177\t 6.995089022556492\n",
            "9  \t [ 9.94199315 -3.51681626]\t 145.9540676423766\t 34.329629696240445\t 6.773253206620858\t 7.9196262651668725\n",
            "10 \t [-10.           0.49913941]\t 856.3472509249134\t 34.329629696240445\t 7.31832043337631\t 7.249332318661102\n",
            "11 \t [ 2.11144711 10.        ]\t 313.41761179939294\t 34.329629696240445\t 7.602751640356405\t 6.68917833525696\n",
            "12 \t [10.         4.7459016]\t 545.94577718086\t 34.329629696240445\t 6.2183939615297135\t 7.181104649539152\n",
            "13 \t [-6.0314859  -2.09420108]\t 663.5218177241916\t 34.329629696240445\t 5.345402293084165\t 6.441393588493301\n",
            "14 \t [-8.30609821 10.        ]\t 156.87581985966182\t 34.329629696240445\t 7.532399148603747\t 7.528415365809106\n",
            "15 \t [ -1.04638924 -10.        ]\t 1078.7630260602173\t 34.329629696240445\t 5.654642144735405\t 5.484460949815397\n",
            "16 \t [5.14653561 5.02399974]\t 173.59235813037628\t 34.329629696240445\t 5.806550090548479\t 6.345021718805397\n",
            "17 \t [-10. -10.]\t 2594.0\t 34.329629696240445\t 7.421200489311731\t 6.913412004317516\n",
            "18 \t [-3.18971737 -5.70830213]\t 758.8238847332369\t 34.329629696240445\t 5.581379585455527\t 6.619591739299969\n",
            "19 \t [ 0.92149906 -5.64857065]\t 379.45105137340437\t 34.329629696240445\t 5.3775541437548\t 5.723095737164918\n",
            "\u001b[1m\u001b[92m20\u001b[0m\t \u001b[1m\u001b[92m[3.78291664 0.98739994]\u001b[0m\t \u001b[1m\u001b[92m14.168734526097637\u001b[0m\t \u001b[1m\u001b[92m14.168734526097637\u001b[0m\t \u001b[1m\u001b[92m5.647109199606737\u001b[0m\t \u001b[1m\u001b[92m7.62808235657095\u001b[0m\n"
          ]
        }
      ],
      "source": [
        "### EXACT STP ERM GRADIENTS\n",
        "\n",
        "np.random.seed(run_num_8)\n",
        "surrogate_exact_8 = dtStudentProcess(cov_func, optimize=opt, nu = df)\n",
        "\n",
        "exact_8 = dGPGO(surrogate_exact_8, Acquisition_grad(util), objfunc, param)\n",
        "exact_8.run(init_evals=n_init, max_iter=iters)\n"
      ]
    },
    {
      "cell_type": "code",
      "execution_count": 42,
      "metadata": {
        "id": "vonm9jyuIv4t",
        "colab": {
          "base_uri": "https://localhost:8080/"
        },
        "outputId": "e988e3f8-b084-4069-f7b1-4ef6ea669eaa"
      },
      "outputs": [
        {
          "output_type": "stream",
          "name": "stdout",
          "text": [
            "Evaluation \t Proposed point \t  Current eval. \t  Best eval. \t        Exact ERM: StdDev. x \t Approx ERM: StdDev. x \n",
            "init\t [-9.79251692  0.03749184]\t 882.0577358281939\t 526.7340464177141\t    \t    \n",
            "init\t [-0.08453414 -7.32340942]\t 628.3137012668271\t 526.7340464177141\t    \t    \n",
            "init\t [-7.15777829 -5.62882649]\t 1268.1663931377898\t 526.7340464177141\t    \t    \n",
            "init\t [-1.62983639 -5.03797663]\t 526.7340464177141\t 526.7340464177141\t    \t    \n",
            "init\t [-8.31880698 -3.0900272 ]\t 1073.657277368356\t 526.7340464177141\t    \t    \n",
            "1  \t [6.0747954  9.66718496]\t 621.7013152481403\t 526.7340464177141\t 6.116711341756675\t 6.099198512418332\n",
            "\u001b[1m\u001b[92m2\u001b[0m\t \u001b[1m\u001b[92m[4.69531634 1.12432974]\u001b[0m\t \u001b[1m\u001b[92m30.41794917619908\u001b[0m\t \u001b[1m\u001b[92m30.41794917619908\u001b[0m\t \u001b[1m\u001b[92m6.436866681068765\u001b[0m\t \u001b[1m\u001b[92m6.65763485545182\u001b[0m\n",
            "3  \t [-4.34667475  7.2314955 ]\t 51.466984168071384\t 30.41794917619908\t 6.4523188064042145\t 6.964723632625617\n",
            "4  \t [ 8.66970884 -6.33785621]\t 157.1508550483091\t 30.41794917619908\t 6.426587813950524\t 6.632490980701343\n",
            "5  \t [9.46408642 3.96879577]\t 428.4963898650028\t 30.41794917619908\t 7.950321979760548\t 7.381256777149069\n",
            "6  \t [1.39441828 5.91974277]\t 52.61511746781383\t 30.41794917619908\t 5.60560132884544\t 6.141798509324322\n",
            "7  \t [-2.00413361  1.08900426]\t 109.31070926825305\t 30.41794917619908\t 5.992453777061572\t 6.76794138171902\n",
            "8  \t [10.         -1.35042412]\t 186.40041347593325\t 30.41794917619908\t 6.5564427716184\t 7.199342425855204\n",
            "9  \t [ 4.09432515 -3.69076785]\t 106.07882277230128\t 30.41794917619908\t 7.093355561484244\t 7.649406318903591\n",
            "10 \t [  4.79202776 -10.        ]\t 522.5264854560345\t 30.41794917619908\t 7.2237628033533\t 7.5298622927413135\n",
            "11 \t [-9.79970417  7.57245091]\t 292.6556502235871\t 30.41794917619908\t 7.110605293051658\t 7.455627432222964\n",
            "12 \t [-10. -10.]\t 2594.0\t 30.41794917619908\t 6.803525195770489\t 7.224450199854148\n",
            "13 \t [-0.50983187 10.        ]\t 171.84737645659277\t 30.41794917619908\t 5.494061248381484\t 6.2807122835160305\n",
            "14 \t [-6.04265446  3.30115602]\t 231.4808814050338\t 30.41794917619908\t 6.633463760949805\t 6.95758411869248\n",
            "15 \t [10. 10.]\t 1154.0\t 30.41794917619908\t 5.834761617637945\t 6.950139774478547\n",
            "16 \t [ -4.38435123 -10.        ]\t 1549.928718068642\t 30.41794917619908\t 5.314256686248436\t 6.827534955464178\n",
            "17 \t [5.3840232  4.63228052]\t 166.66764067667918\t 30.41794917619908\t 4.580253593678035\t 6.2387971714918375\n",
            "\u001b[1m\u001b[92m18\u001b[0m\t \u001b[1m\u001b[92m[1.66133707 2.10596339]\u001b[0m\t \u001b[1m\u001b[92m1.4532644986703442\u001b[0m\t \u001b[1m\u001b[92m1.4532644986703442\u001b[0m\t \u001b[1m\u001b[92m4.6446150301253395\u001b[0m\t \u001b[1m\u001b[92m6.8031665526092855\u001b[0m\n",
            "19 \t [-2.09477726  4.98262853]\t 18.455961311951683\t 1.4532644986703442\t 5.864941154633915\t 6.023244043277109\n",
            "20 \t [ 7.00622485 -5.03856773]\t 117.21497843754506\t 1.4532644986703442\t 6.080557561818465\t 6.0601780230363325\n"
          ]
        }
      ],
      "source": [
        "### EXACT STP ERM GRADIENTS\n",
        "\n",
        "np.random.seed(run_num_9)\n",
        "surrogate_exact_9 = dtStudentProcess(cov_func, optimize=opt, nu = df)\n",
        "\n",
        "exact_9 = dGPGO(surrogate_exact_9, Acquisition_grad(util), objfunc, param)\n",
        "exact_9.run(init_evals=n_init, max_iter=iters)\n"
      ]
    },
    {
      "cell_type": "code",
      "execution_count": 43,
      "metadata": {
        "id": "6amuYlUdIv7r",
        "colab": {
          "base_uri": "https://localhost:8080/"
        },
        "outputId": "30fdc2e8-e27c-4ebf-fdaf-2852b85dcf8a"
      },
      "outputs": [
        {
          "output_type": "stream",
          "name": "stdout",
          "text": [
            "Evaluation \t Proposed point \t  Current eval. \t  Best eval. \t        Exact ERM: StdDev. x \t Approx ERM: StdDev. x \n",
            "init\t [ 5.42641287 -9.58496101]\t 444.22200604720473\t 59.96573403226766\t    \t    \n",
            "init\t [2.6729647  4.97607765]\t 59.96573403226766\t 59.96573403226766\t    \t    \n",
            "init\t [-0.02985975 -5.50406709]\t 436.96281238949786\t 59.96573403226766\t    \t    \n",
            "init\t [-6.0387427   5.21061424]\t 147.67401193720747\t 59.96573403226766\t    \t    \n",
            "init\t [-6.61778327 -8.23320372]\t 1605.6543289416081\t 59.96573403226766\t    \t    \n",
            "1  \t [10. 10.]\t 1154.0\t 59.96573403226766\t 5.795410654590376\t 6.0821270717377836\n",
            "\u001b[1m\u001b[92m2\u001b[0m\t \u001b[1m\u001b[92m[2.11155129 0.26933255]\u001b[0m\t \u001b[1m\u001b[92m19.17823960765822\u001b[0m\t \u001b[1m\u001b[92m19.17823960765822\u001b[0m\t \u001b[1m\u001b[92m5.072865790402685\u001b[0m\t \u001b[1m\u001b[92m5.067976075413647\u001b[0m\n",
            "3  \t [8.50713746 1.33499849]\t 195.6515526065785\t 19.17823960765822\t 5.460018038166926\t 6.52798568008612\n",
            "4  \t [-4.18237684 -1.60507976]\t 431.24101603472565\t 19.17823960765822\t 6.260615933796172\t 6.949049222861885\n",
            "5  \t [-9.81557797  0.86930077]\t 791.9409790195468\t 19.17823960765822\t 5.674924169751383\t 6.989643589186534\n",
            "6  \t [0.20663569 9.9051757 ]\t 197.72783206478573\t 19.17823960765822\t 6.466184525772608\t 6.860634347030099\n",
            "7  \t [ 6.44070079 -4.06490509]\t 90.06626754182491\t 19.17823960765822\t 5.574528713374315\t 7.37677015637475\n",
            "8  \t [-1.66693814  3.49116905]\t 26.28969059435472\t 19.17823960765822\t 6.627222131499766\t 7.1734321956087745\n",
            "9  \t [7.48648202 6.06544807]\t 416.42889444964123\t 19.17823960765822\t 6.290662794155178\t 7.542318775501589\n",
            "10 \t [-10.          -4.27054178]\t 1509.111566150359\t 19.17823960765822\t 6.666130758865418\t 8.420647870184004\n",
            "11 \t [-6.06716473  9.22601338]\t 91.5382023829747\t 19.17823960765822\t 5.548297125168099\t 6.526952406345083\n",
            "12 \t [ -1.66436819 -10.        ]\t 1157.5885804398085\t 19.17823960765822\t 6.415707037639675\t 7.438476938237078\n",
            "13 \t [ 9.96160129 -6.8664445 ]\t 180.93198959562795\t 19.17823960765822\t 6.842277286787754\t 7.050082666019949\n",
            "14 \t [5.86195042 9.72855805]\t 606.2716020356748\t 19.17823960765822\t 5.778084316622232\t 6.667403735645084\n",
            "15 \t [-2.8021752   7.41384576]\t 35.43513414050952\t 19.17823960765822\t 6.026077822976207\t 7.173854082569826\n",
            "16 \t [5.09393057 0.1781376 ]\t 31.19580457956932\t 19.17823960765822\t 5.582970364143984\t 7.836709029540037\n",
            "17 \t [-6.44466395 -5.37151662]\t 1126.1115834875736\t 19.17823960765822\t 5.747735358269803\t 5.782584140052184\n",
            "18 \t [10.         -2.39724877]\t 162.04956005343857\t 19.17823960765822\t 4.521797705112848\t 7.894128622445006\n",
            "19 \t [-0.32791382 -1.91352632]\t 181.72839594702367\t 19.17823960765822\t 5.039097930392668\t 6.031532485429644\n",
            "20 \t [ 3.13723426 -6.56939012]\t 317.08876022762706\t 19.17823960765822\t 6.226776835258696\t 6.417102757708732\n"
          ]
        }
      ],
      "source": [
        "### EXACT STP ERM GRADIENTS\n",
        "\n",
        "np.random.seed(run_num_10)\n",
        "surrogate_exact_10 = dtStudentProcess(cov_func, optimize=opt, nu = df)\n",
        "\n",
        "exact_10 = dGPGO(surrogate_exact_10, Acquisition_grad(util), objfunc, param)\n",
        "exact_10.run(init_evals=n_init, max_iter=iters)\n"
      ]
    },
    {
      "cell_type": "code",
      "execution_count": 44,
      "metadata": {
        "id": "VwbLIP9cIv-F",
        "colab": {
          "base_uri": "https://localhost:8080/"
        },
        "outputId": "b8fb655a-18d3-41d5-ab5e-8752c8f5024d"
      },
      "outputs": [
        {
          "output_type": "stream",
          "name": "stdout",
          "text": [
            "Evaluation \t Proposed point \t  Current eval. \t  Best eval. \t        Exact ERM: StdDev. x \t Approx ERM: StdDev. x \n",
            "init\t [-6.39460622 -9.61049517]\t 1814.521116554919\t 5.483030044782123\t    \t    \n",
            "init\t [-0.73562947  4.49867858]\t 5.483030044782123\t 5.483030044782123\t    \t    \n",
            "init\t [-1.59592791 -0.29145804]\t 156.21779076814232\t 5.483030044782123\t    \t    \n",
            "init\t [-9.74438371 -0.25256785]\t 909.6795910034871\t 5.483030044782123\t    \t    \n",
            "init\t [8.83613305 7.01590179]\t 639.4153671589368\t 5.483030044782123\t    \t    \n",
            "1  \t [ 1.99086793 -8.88652641]\t 617.1328244256196\t 5.483030044782123\t 6.221718565242518\t 6.392765653843418\n",
            "2  \t [ 4.79903036 -1.6267314 ]\t 38.579631108734375\t 5.483030044782123\t 4.737984464063145\t 4.834714165334543\n",
            "3  \t [-1.00478556 10.        ]\t 152.82783417992448\t 5.483030044782123\t 5.747878928926921\t 7.309231139241232\n",
            "4  \t [ 9.95657874 -0.23184313]\t 221.75550389009737\t 5.483030044782123\t 5.6226680529864055\t 6.4212038852949656\n",
            "5  \t [-7.89611862  5.10567265]\t 268.0154091266694\t 5.483030044782123\t 6.061361865409361\t 5.962543184281313\n",
            "6  \t [-8.47917244 -4.4343425 ]\t 1289.392108733857\t 5.483030044782123\t 5.783594338248669\t 6.363768265081195\n",
            "7  \t [ 8.69087926 -7.76523114]\t 212.84638298156062\t 5.483030044782123\t 6.298568089129118\t 6.895422578326453\n",
            "8  \t [3.80679846 4.74025516]\t 93.6093919549703\t 5.483030044782123\t 6.606479202146003\t 6.845048100137752\n",
            "9  \t [-2.71998935 -5.05143406]\t 632.9295484793881\t 5.483030044782123\t 6.536926160132387\t 7.327304780364057\n",
            "10 \t [ 4.2449176 10.       ]\t 479.36283647579785\t 5.483030044782123\t 6.916525721508406\t 8.536519080382973\n",
            "11 \t [-6.27506447 10.        ]\t 102.22920481827623\t 5.483030044782123\t 7.7540212554839885\t 7.407408667747961\n",
            "12 \t [ 2.04743987 -4.63528382]\t 232.993441014585\t 5.483030044782123\t 5.836547083671705\t 6.4331910228610205\n",
            "13 \t [-5.70458319  1.58478305]\t 310.6788924860938\t 5.483030044782123\t 5.842552544820241\t 6.936108548499261\n",
            "14 \t [7.16748424 2.73534723]\t 177.48158030539767\t 5.483030044782123\t 7.300301582977981\t 7.1902460727252\n",
            "15 \t [-3.93447236  6.88967364]\t 43.844996038203846\t 5.483030044782123\t 7.3439097259308985\t 7.813962021394952\n",
            "16 \t [ 8.76332318 -3.91407733]\t 110.9585260791876\t 5.483030044782123\t 6.096028681483464\t 7.13156775162148\n",
            "\u001b[1m\u001b[92m17\u001b[0m\t \u001b[1m\u001b[92m[1.81730929 1.56460329]\u001b[0m\t \u001b[1m\u001b[92m4.256486396547464\u001b[0m\t \u001b[1m\u001b[92m4.256486396547464\u001b[0m\t \u001b[1m\u001b[92m6.5258512120476855\u001b[0m\t \u001b[1m\u001b[92m6.490524216377389\u001b[0m\n",
            "18 \t [-5.0404982  -2.16885042]\t 565.8026186168845\t 4.256486396547464\t 6.1253922150696445\t 7.269078245242828\n",
            "19 \t [ -2.05029711 -10.        ]\t 1208.7524623770685\t 4.256486396547464\t 6.392677748980765\t 7.692963549976492\n",
            "20 \t [0.61303551 7.17960302]\t 75.15525112110512\t 4.256486396547464\t 7.304431418623374\t 8.524839596658115\n"
          ]
        }
      ],
      "source": [
        "### EXACT STP ERM GRADIENTS\n",
        "\n",
        "np.random.seed(run_num_11)\n",
        "surrogate_exact_11 = dtStudentProcess(cov_func, optimize=opt, nu = df)\n",
        "\n",
        "exact_11 = dGPGO(surrogate_exact_11, Acquisition_grad(util), objfunc, param)\n",
        "exact_11.run(init_evals=n_init, max_iter=iters)\n"
      ]
    },
    {
      "cell_type": "code",
      "execution_count": 45,
      "metadata": {
        "id": "MlUNFjc-JTBY",
        "colab": {
          "base_uri": "https://localhost:8080/"
        },
        "outputId": "1dfd9d69-7548-451e-9161-f58b72dd574b"
      },
      "outputs": [
        {
          "output_type": "stream",
          "name": "stdout",
          "text": [
            "Evaluation \t Proposed point \t  Current eval. \t  Best eval. \t        Exact ERM: StdDev. x \t Approx ERM: StdDev. x \n",
            "init\t [-6.91674315  4.80099393]\t 215.5279554685742\t 189.34864056663108\t    \t    \n",
            "init\t [-4.7336997   0.67478787]\t 298.0661631184378\t 189.34864056663108\t    \t    \n",
            "init\t [-9.70850075  8.37494016]\t 257.3494442600599\t 189.34864056663108\t    \t    \n",
            "init\t [ 8.01429708 -9.33157145]\t 314.3616446198572\t 189.34864056663108\t    \t    \n",
            "init\t [ 9.13898673 -7.25581357]\t 189.34864056663108\t 189.34864056663108\t    \t    \n",
            "\u001b[1m\u001b[92m1\u001b[0m\t \u001b[1m\u001b[92m[4.66251955 4.05244711]\u001b[0m\t \u001b[1m\u001b[92m103.44533669968575\u001b[0m\t \u001b[1m\u001b[92m103.44533669968575\u001b[0m\t \u001b[1m\u001b[92m6.338481157916655\u001b[0m\t \u001b[1m\u001b[92m5.743472817351776\u001b[0m\n",
            "2  \t [-3.75432006 -8.6025265 ]\t 1227.4078991356632\t 103.44533669968575\t 6.070795345198979\t 5.7203645734388795\n",
            "3  \t [ 8.49964204 10.        ]\t 946.2031078312491\t 103.44533669968575\t 6.4782101041727005\t 7.22911618806227\n",
            "4  \t [0.62006076 8.91956245]\t 157.93527468112498\t 103.44533669968575\t 5.278812157518763\t 5.782035339910419\n",
            "5  \t [ 8.15269188 -0.957369  ]\t 107.66212394211308\t 103.44533669968575\t 5.102969306994968\t 5.6370417168858475\n",
            "6  \t [ 1.87426022 -4.9203818 ]\t 262.0880957130615\t 103.44533669968575\t 6.0804573070398815\t 6.424603028285269\n",
            "7  \t [-10.          -6.76098454]\t 1940.3507354829596\t 103.44533669968575\t 6.634885840737248\t 6.885014636337229\n",
            "8  \t [10.          4.27967844]\t 505.3247318800862\t 103.44533669968575\t 5.76078735445293\t 6.627762186507258\n",
            "\u001b[1m\u001b[92m9\u001b[0m\t \u001b[1m\u001b[92m[0.83083959 0.46840646]\u001b[0m\t \u001b[1m\u001b[92m35.61386857745035\u001b[0m\t \u001b[1m\u001b[92m35.61386857745035\u001b[0m\t \u001b[1m\u001b[92m5.92030982372688\u001b[0m\t \u001b[1m\u001b[92m7.229763065639099\u001b[0m\n",
            "10 \t [-4.39431411  9.19439106]\t 70.0295977915963\t 35.61386857745035\t 6.201314170439159\t 7.01170571209911\n",
            "11 \t [-10.          -0.83007361]\t 1015.3937969813826\t 35.61386857745035\t 5.946724439179756\t 6.722099048006096\n",
            "\u001b[1m\u001b[92m12\u001b[0m\t \u001b[1m\u001b[92m[-0.88184967  4.3746842 ]\u001b[0m\t \u001b[1m\u001b[92m6.459982109051736\u001b[0m\t \u001b[1m\u001b[92m6.459982109051736\u001b[0m\t \u001b[1m\u001b[92m6.309911378027826\u001b[0m\t \u001b[1m\u001b[92m6.477209704449297\u001b[0m\n",
            "13 \t [  2.50220428 -10.        ]\t 700.0538429743449\t 6.459982109051736\t 6.42363796679411\t 7.112615156632994\n",
            "14 \t [-2.83324903 -3.59422287]\t 493.10625470093424\t 6.459982109051736\t 6.07614061554919\t 6.194478077430442\n",
            "15 \t [ 6.03509125 -4.33656638]\t 100.36450121054378\t 6.459982109051736\t 6.8941176745332005\t 7.444048396516323\n",
            "16 \t [4.64668226 7.93077284]\t 331.90175635802314\t 6.459982109051736\t 6.285261026801075\t 6.927129555299878\n",
            "17 \t [4.28662211 0.33602566]\t 19.449405182974616\t 6.459982109051736\t 5.8212606067329355\t 7.182594170597392\n",
            "18 \t [ 1.91508122 -6.44603993]\t 381.1740698937552\t 6.459982109051736\t 6.085791564910151\t 6.085791564910151\n",
            "19 \t [-9.6224482   2.99731971]\t 564.4098351351573\t 6.459982109051736\t 5.715848531320089\t 6.239704204166195\n",
            "20 \t [-3.20154135  6.3401982 ]\t 31.777521832570297\t 6.459982109051736\t 5.739634409261294\t 6.549814377872158\n"
          ]
        }
      ],
      "source": [
        "### EXACT STP ERM GRADIENTS\n",
        "\n",
        "np.random.seed(run_num_12)\n",
        "surrogate_exact_12 = dtStudentProcess(cov_func, optimize=opt, nu = df)\n",
        "\n",
        "exact_12 = dGPGO(surrogate_exact_12, Acquisition_grad(util), objfunc, param)\n",
        "exact_12.run(init_evals=n_init, max_iter=iters)\n"
      ]
    },
    {
      "cell_type": "code",
      "execution_count": 46,
      "metadata": {
        "id": "9BsKdU9eJTFL",
        "colab": {
          "base_uri": "https://localhost:8080/"
        },
        "outputId": "36ad2f3b-ba26-427f-b4cf-bca5a1621c82"
      },
      "outputs": [
        {
          "output_type": "stream",
          "name": "stdout",
          "text": [
            "Evaluation \t Proposed point \t  Current eval. \t  Best eval. \t        Exact ERM: StdDev. x \t Approx ERM: StdDev. x \n",
            "init\t [ 5.55404821 -5.2491756 ]\t 143.4041188295949\t 48.27231948835582\t    \t    \n",
            "init\t [6.48557065 9.31498396]\t 626.9828646177026\t 48.27231948835582\t    \t    \n",
            "init\t [ 9.45202228 -0.93101505]\t 168.64758529203058\t 48.27231948835582\t    \t    \n",
            "init\t [2.18084926 5.51053029]\t 62.202299160666314\t 48.27231948835582\t    \t    \n",
            "init\t [2.8322669  4.44036459]\t 48.27231948835582\t 48.27231948835582\t    \t    \n",
            "1  \t [-8.69830926  2.59657998]\t 502.3996877395562\t 48.27231948835582\t 5.605804519239457\t 6.165920748004624\n",
            "2  \t [-5.9673185  -6.48540274]\t 1221.284536050755\t 48.27231948835582\t 6.550373105871608\t 6.682190918556178\n",
            "3  \t [ 1.27140344 -9.80309118]\t 792.165594807452\t 48.27231948835582\t 7.473551722208673\t 7.563022982969219\n",
            "4  \t [-5.68974606  9.11900061]\t 83.49787226161779\t 48.27231948835582\t 6.408477887784284\t 7.038929831886273\n",
            "5  \t [-0.61831667  0.09195316]\t 93.02755170666893\t 48.27231948835582\t 7.101808613356037\t 7.507008687220552\n",
            "6  \t [-0.37225463 10.        ]\t 177.56915439802214\t 48.27231948835582\t 6.376902244846727\t 6.656797165252023\n",
            "7  \t [-10.          -2.68502791]\t 1266.8801671928613\t 48.27231948835582\t 8.058756971960147\t 7.76072181658155\n",
            "8  \t [-10. -10.]\t 2594.0\t 48.27231948835582\t 7.380359104974887\t 8.147351748697286\n",
            "9  \t [9.89483639 4.77832375]\t 537.9459391767057\t 48.27231948835582\t 6.0421459045318775\t 6.448053390283579\n",
            "\u001b[1m\u001b[92m10\u001b[0m\t \u001b[1m\u001b[92m[-2.95522843  4.58448489]\u001b[0m\t \u001b[1m\u001b[92m40.6361240226766\u001b[0m\t \u001b[1m\u001b[92m40.6361240226766\u001b[0m\t \u001b[1m\u001b[92m5.685126122889033\u001b[0m\t \u001b[1m\u001b[92m6.596866910781038\u001b[0m\n",
            "11 \t [10.         -6.87200353]\t 181.4980143137421\t 40.6361240226766\t 6.199437809327937\t 7.802713024125762\n",
            "\u001b[1m\u001b[92m12\u001b[0m\t \u001b[1m\u001b[92m[ 4.5268167  -0.39420389]\u001b[0m\t \u001b[1m\u001b[92m24.029400699428344\u001b[0m\t \u001b[1m\u001b[92m24.029400699428344\u001b[0m\t \u001b[1m\u001b[92m5.8262897454972045\u001b[0m\t \u001b[1m\u001b[92m6.705273910704592\u001b[0m\n",
            "13 \t [ 0.72296138 -4.64675704]\t 309.69579477234845\t 24.029400699428344\t 6.910838315819597\t 6.720500608595233\n",
            "14 \t [-5.12910771 -0.76777568]\t 443.5552984125521\t 24.029400699428344\t 5.507434083821987\t 6.353192049668564\n",
            "15 \t [-10.           7.49391034]\t 310.5120408606263\t 24.029400699428344\t 6.144673983359843\t 7.164633693111758\n",
            "16 \t [-2.06268336 -7.11802295]\t 806.6784941153144\t 24.029400699428344\t 6.520424217093124\t 6.972448888271044\n",
            "17 \t [7.06702782 2.0804401 ]\t 143.64012068147935\t 24.029400699428344\t 7.252246478711758\t 7.8198057065428985\n",
            "18 \t [10. 10.]\t 1154.0\t 24.029400699428344\t 5.224967188318321\t 5.1422792521436405\n",
            "19 \t [ -4.70515952 -10.        ]\t 1601.0808159384108\t 24.029400699428344\t 5.830930327106394\t 6.388377708258724\n",
            "20 \t [-9.13817624 -5.66925397]\t 1592.8163075125653\t 24.029400699428344\t 6.466406867181491\t 6.181026550469246\n"
          ]
        }
      ],
      "source": [
        "### EXACT STP ERM GRADIENTS\n",
        "\n",
        "np.random.seed(run_num_13)\n",
        "surrogate_exact_13 = dtStudentProcess(cov_func, optimize=opt, nu = df)\n",
        "\n",
        "exact_13 = dGPGO(surrogate_exact_13, Acquisition_grad(util), objfunc, param)\n",
        "exact_13.run(init_evals=n_init, max_iter=iters)\n"
      ]
    },
    {
      "cell_type": "code",
      "execution_count": 47,
      "metadata": {
        "id": "k6GjFBr1JTJf",
        "colab": {
          "base_uri": "https://localhost:8080/"
        },
        "outputId": "2cf3b8f9-823c-487a-8aaa-3ba8601cdadb"
      },
      "outputs": [
        {
          "output_type": "stream",
          "name": "stdout",
          "text": [
            "Evaluation \t Proposed point \t  Current eval. \t  Best eval. \t        Exact ERM: StdDev. x \t Approx ERM: StdDev. x \n",
            "init\t [0.27886688 5.46330104]\t 18.728481209446468\t 18.728481209446468\t    \t    \n",
            "init\t [ 7.40855371 -9.83906103]\t 371.31674613664467\t 18.728481209446468\t    \t    \n",
            "init\t [-3.80528149  9.15207479]\t 68.19416312981014\t 18.728481209446468\t    \t    \n",
            "init\t [ 0.26233425 -3.6343115 ]\t 261.94243460125864\t 18.728481209446468\t    \t    \n",
            "init\t [ 0.78399875 -5.57490115]\t 382.6954465291845\t 18.728481209446468\t    \t    \n",
            "1  \t [ 9.82765998 -0.95725402]\t 188.47085669712428\t 18.728481209446468\t 6.0386301502806345\t 6.521457146437464\n",
            "2  \t [-8.1477833   0.47898709]\t 634.6806661127735\t 18.728481209446468\t 5.940969169653585\t 6.203622194590273\n",
            "3  \t [-10. -10.]\t 2594.0\t 18.728481209446468\t 6.666150407655979\t 6.851263833202971\n",
            "4  \t [10.          7.60185035]\t 842.2183580452022\t 18.728481209446468\t 6.06833082768441\t 6.0354403800964365\n",
            "5  \t [ 3.25085938 10.        ]\t 396.3799648209767\t 18.728481209446468\t 5.324777352511397\t 6.231290777256357\n",
            "6  \t [-8.95774377  6.78491068]\t 265.897683020481\t 18.728481209446468\t 5.8296447520952235\t 6.294028350557702\n",
            "7  \t [ -3.2130259 -10.       ]\t 1371.90262978951\t 18.728481209446468\t 5.728891485245188\t 4.685267177096699\n",
            "8  \t [4.56663943 0.02996763]\t 22.96576902401327\t 18.728481209446468\t 6.436732987415565\t 6.882090667500132\n",
            "9  \t [ 6.02214308 -4.53434526]\t 107.23291889300518\t 18.728481209446468\t 6.264309894319969\t 7.052958470141403\n",
            "10 \t [-3.311633    2.64514893]\t 105.82039297818899\t 18.728481209446468\t 6.131219554569567\t 7.041640640006553\n",
            "11 \t [-5.2775472  -4.57961626]\t 864.9420978370393\t 18.728481209446468\t 6.692885114962343\t 6.621585671003763\n",
            "12 \t [5.22915446 4.82515066]\t 167.8353641383577\t 18.728481209446468\t 5.521118733698308\t 7.292791442264251\n",
            "13 \t [  2.46854627 -10.        ]\t 703.0543289638666\t 18.728481209446468\t 5.927886135201633\t 7.072297691229199\n",
            "14 \t [0.86468899 0.86079977]\t 25.288092319686346\t 18.728481209446468\t 5.242446182461654\t 6.0721765749049545\n",
            "15 \t [9.1173538  3.15531053]\t 339.6634545234584\t 18.728481209446468\t 5.867543616623885\t 6.575084397019615\n",
            "16 \t [10.         -5.16903121]\t 150.49510743161602\t 18.728481209446468\t 6.010337151936862\t 7.068149335888194\n",
            "17 \t [7.47842852 9.96695579]\t 813.6219464910598\t 18.728481209446468\t 6.058286435125191\t 6.381988762449137\n",
            "18 \t [ 3.64952003 -1.61705051]\t 43.821816571110496\t 18.728481209446468\t 5.199427115337049\t 5.335050818353595\n",
            "19 \t [7.39945248 7.96944904]\t 582.6561033547346\t 18.728481209446468\t 5.64164868685879\t 5.635943269533171\n",
            "20 \t [-2.13323309 -1.23939305]\t 245.21206790967142\t 18.728481209446468\t 5.843389298456631\t 6.473479719762802\n"
          ]
        }
      ],
      "source": [
        "### EXACT STP ERM GRADIENTS\n",
        "\n",
        "np.random.seed(run_num_14)\n",
        "surrogate_exact_14 = dtStudentProcess(cov_func, optimize=opt, nu = df)\n",
        "\n",
        "exact_14 = dGPGO(surrogate_exact_14, Acquisition_grad(util), objfunc, param)\n",
        "exact_14.run(init_evals=n_init, max_iter=iters)\n"
      ]
    },
    {
      "cell_type": "code",
      "execution_count": 48,
      "metadata": {
        "id": "dPS8WB3aJTN6",
        "colab": {
          "base_uri": "https://localhost:8080/"
        },
        "outputId": "b11c05c4-f1a8-4863-9ffd-d26454ff4efe"
      },
      "outputs": [
        {
          "output_type": "stream",
          "name": "stdout",
          "text": [
            "Evaluation \t Proposed point \t  Current eval. \t  Best eval. \t        Exact ERM: StdDev. x \t Approx ERM: StdDev. x \n",
            "init\t [ 6.97635395 -6.4220815 ]\t 171.98457986923216\t 171.98457986923216\t    \t    \n",
            "init\t [-8.91273571 -2.76923108]\t 1115.2426864421157\t 171.98457986923216\t    \t    \n",
            "init\t [-4.49198143  0.6000045 ]\t 285.0550378664367\t 171.98457986923216\t    \t    \n",
            "init\t [-3.88162169 -3.91051282]\t 627.8031621427792\t 171.98457986923216\t    \t    \n",
            "init\t [-7.76517448 -5.00201972]\t 1265.415808453521\t 171.98457986923216\t    \t    \n",
            "1  \t [3.16357034 8.33736671]\t 258.22474648756804\t 171.98457986923216\t 6.517732498955924\t 6.384628429308271\n",
            "2  \t [-9.69991687  7.99454818]\t 269.63866043864715\t 171.98457986923216\t 6.738821456860332\t 7.302851771832869\n",
            "3  \t [  0.18671736 -10.        ]\t 932.8885373663732\t 171.98457986923216\t 6.752089766134692\t 6.98863573476407\n",
            "4  \t [9.63775261 2.68376544]\t 351.7014249194208\t 171.98457986923216\t 6.345717756598301\t 6.429186209534804\n",
            "5  \t [10. 10.]\t 1154.0\t 171.98457986923216\t 7.067212088939328\t 6.295675819436448\n",
            "\u001b[1m\u001b[92m6\u001b[0m\t \u001b[1m\u001b[92m[3.71207256 0.39322931]\u001b[0m\t \u001b[1m\u001b[92m14.19494492541071\u001b[0m\t \u001b[1m\u001b[92m14.19494492541071\u001b[0m\t \u001b[1m\u001b[92m5.962265765619393\u001b[0m\t \u001b[1m\u001b[92m7.940653880105915\u001b[0m\n",
            "7  \t [-2.64025234  7.74199258]\t 40.59325695912031\t 14.19494492541071\t 6.001292198657957\t 7.043574910841144\n",
            "8  \t [-10. -10.]\t 2594.0\t 14.19494492541071\t 6.641961170609432\t 7.534086777886785\n",
            "\u001b[1m\u001b[92m9\u001b[0m\t \u001b[1m\u001b[92m[0.21196637 3.56293222]\u001b[0m\t \u001b[1m\u001b[92m1.1405722673228826\u001b[0m\t \u001b[1m\u001b[92m1.1405722673228826\u001b[0m\t \u001b[1m\u001b[92m4.802326535595766\u001b[0m\t \u001b[1m\u001b[92m6.505472911914397\u001b[0m\n",
            "10 \t [ 1.2556205  -5.77177401]\t 367.1088438701189\t 1.1405722673228826\t 5.632951770446336\t 5.417173693192187\n",
            "11 \t [-10.           2.69650763]\t 632.1678665224304\t 1.1405722673228826\t 4.92692552941526\t 6.561915151758432\n",
            "12 \t [ 7.83681458 -1.79285502]\t 86.42457556798439\t 1.1405722673228826\t 4.85518576248532\t 6.875750467294067\n",
            "13 \t [-5.86111772  5.24916897]\t 137.21398267381775\t 1.1405722673228826\t 5.3117466023319535\t 7.391819775508389\n",
            "14 \t [-0.02170989 -0.36400369]\t 89.2983462488471\t 1.1405722673228826\t 5.4867039533540085\t 6.506474542957113\n",
            "15 \t [5.20131607 4.12802256]\t 132.53089255704322\t 1.1405722673228826\t 4.900674632032761\t 6.110639519484814\n",
            "16 \t [ -4.77293159 -10.        ]\t 1612.0185814576205\t 1.1405722673228826\t 5.931052615764815\t 6.90519614382577\n",
            "17 \t [ 4.28794938 -2.95245526]\t 74.64070095314\t 1.1405722673228826\t 4.5944797095460315\t 6.361277354323516\n",
            "18 \t [ 4.16481311 -8.97074051]\t 463.4921000191939\t 1.1405722673228826\t 5.588753865087972\t 6.101600758409688\n",
            "19 \t [6.23616491 3.12283239]\t 142.3079191472234\t 1.1405722673228826\t 6.015402410528172\t 6.015402410528172\n",
            "20 \t [9.90335147 7.28649281]\t 793.5316560106153\t 1.1405722673228826\t 5.30347093229855\t 5.469008840313104\n"
          ]
        }
      ],
      "source": [
        "### EXACT STP ERM GRADIENTS\n",
        "\n",
        "np.random.seed(run_num_15)\n",
        "surrogate_exact_15 = dtStudentProcess(cov_func, optimize=opt, nu = df)\n",
        "\n",
        "exact_15 = dGPGO(surrogate_exact_15, Acquisition_grad(util), objfunc, param)\n",
        "exact_15.run(init_evals=n_init, max_iter=iters)\n"
      ]
    },
    {
      "cell_type": "code",
      "execution_count": 49,
      "metadata": {
        "id": "lu8ki9XIQPPN",
        "colab": {
          "base_uri": "https://localhost:8080/"
        },
        "outputId": "03f87b03-6ad7-4854-9a49-b6141490b746"
      },
      "outputs": [
        {
          "output_type": "stream",
          "name": "stdout",
          "text": [
            "Evaluation \t Proposed point \t  Current eval. \t  Best eval. \t        Exact ERM: StdDev. x \t Approx ERM: StdDev. x \n",
            "init\t [-5.53417842  0.46326683]\t 378.2562509858209\t 182.86095429406956\t    \t    \n",
            "init\t [ 1.01402913 -9.087961  ]\t 729.2383206820605\t 182.86095429406956\t    \t    \n",
            "init\t [-2.78542329 -5.53838117]\t 694.7380078426447\t 182.86095429406956\t    \t    \n",
            "init\t [ 3.77452324 -6.7253715 ]\t 295.53799633399245\t 182.86095429406956\t    \t    \n",
            "init\t [-8.59350266  8.8202172 ]\t 182.86095429406956\t 182.86095429406956\t    \t    \n",
            "1  \t [10.          9.62767696]\t 1101.82325044151\t 182.86095429406956\t 6.871678830374767\t 6.817546723153015\n",
            "2  \t [-10. -10.]\t 2594.0\t 182.86095429406956\t 6.516758720635217\t 6.888527203358137\n",
            "3  \t [0.85375082 9.40301345]\t 197.60836624830344\t 182.86095429406956\t 6.034867284017487\t 6.31837699378228\n",
            "\u001b[1m\u001b[92m4\u001b[0m\t \u001b[1m\u001b[92m[ 8.8300141  -0.10570929]\u001b[0m\t \u001b[1m\u001b[92m160.2307750031207\u001b[0m\t \u001b[1m\u001b[92m160.2307750031207\u001b[0m\t \u001b[1m\u001b[92m5.80139778511319\u001b[0m\t \u001b[1m\u001b[92m6.128654155807109\u001b[0m\n",
            "\u001b[1m\u001b[92m5\u001b[0m\t \u001b[1m\u001b[92m[-2.22531694  5.42968011]\u001b[0m\t \u001b[1m\u001b[92m18.838166667692633\u001b[0m\t \u001b[1m\u001b[92m18.838166667692633\u001b[0m\t \u001b[1m\u001b[92m5.661105049310173\u001b[0m\t \u001b[1m\u001b[92m5.816261983260712\u001b[0m\n",
            "6  \t [-10.          -3.44473771]\t 1379.810139312965\t 18.838166667692633\t 6.670477054762194\t 7.157210534520888\n",
            "7  \t [ 0.78901244 -0.62077111]\t 71.88399737230455\t 18.838166667692633\t 5.428630972544514\t 6.16594610688374\n",
            "8  \t [4.47173027 1.40150854]\t 28.644180411891053\t 18.838166667692633\t 5.271669412590702\t 5.889154770668191\n",
            "9  \t [ 8.52581363 -4.94655124]\t 120.49362784564599\t 18.838166667692633\t 5.867929879098281\t 6.216781940023317\n",
            "10 \t [-9.8400437   3.64519134]\t 533.6628782981601\t 18.838166667692633\t 5.695268286914616\t 7.785214027322829\n",
            "11 \t [5.27204738 6.46235095]\t 269.521933053047\t 18.838166667692633\t 6.240214090613411\t 7.191388275107664\n",
            "12 \t [9.8019657  4.42959002]\t 498.25725717724777\t 18.838166667692633\t 6.630002426974617\t 8.317205363635642\n",
            "13 \t [-4.57125194 -9.47085208]\t 1488.6310701306668\t 18.838166667692633\t 5.2775783077620195\t 5.605618407094669\n",
            "14 \t [ 4.97318218 -3.34847648]\t 78.65742242677014\t 18.838166667692633\t 4.8377789686093235\t 4.9608948360488325\n",
            "\u001b[1m\u001b[92m15\u001b[0m\t \u001b[1m\u001b[92m[1.38591144 4.1555048 ]\u001b[0m\t \u001b[1m\u001b[92m10.987975120873967\u001b[0m\t \u001b[1m\u001b[92m10.987975120873967\u001b[0m\t \u001b[1m\u001b[92m4.99964424435065\u001b[0m\t \u001b[1m\u001b[92m6.716339606175547\u001b[0m\n",
            "16 \t [ 1.25951615 -4.13398068]\t 239.99407901615825\t 10.987975120873967\t 5.325573452230445\t 6.125341056411915\n",
            "17 \t [-3.70732757  9.33216311]\t 72.81558453484327\t 10.987975120873967\t 6.08288916848288\t 7.256128277441663\n",
            "18 \t [-7.93099291 -5.611128  ]\t 1384.8181832442942\t 10.987975120873967\t 5.537988771704008\t 5.913635922352507\n",
            "19 \t [-5.45078819  4.52067849]\t 141.14905773654905\t 10.987975120873967\t 5.317586682788894\t 6.863044142596683\n",
            "20 \t [ 6.74940955 -9.01827092]\t 334.68903787507315\t 10.987975120873967\t 6.058446793267791\t 6.301404821911727\n"
          ]
        }
      ],
      "source": [
        "### EXACT STP ERM GRADIENTS\n",
        "\n",
        "np.random.seed(run_num_16)\n",
        "surrogate_exact_16 = dtStudentProcess(cov_func, optimize=opt, nu = df)\n",
        "\n",
        "exact_16 = dGPGO(surrogate_exact_16, Acquisition_grad(util), objfunc, param)\n",
        "exact_16.run(init_evals=n_init, max_iter=iters)\n"
      ]
    },
    {
      "cell_type": "code",
      "execution_count": 50,
      "metadata": {
        "id": "yU2SflSsJTUs",
        "colab": {
          "base_uri": "https://localhost:8080/"
        },
        "outputId": "36c06974-ef2f-42a0-a145-83505f1275cb"
      },
      "outputs": [
        {
          "output_type": "stream",
          "name": "stdout",
          "text": [
            "Evaluation \t Proposed point \t  Current eval. \t  Best eval. \t        Exact ERM: StdDev. x \t Approx ERM: StdDev. x \n",
            "init\t [-4.10669995  0.61173511]\t 256.4801849765532\t 5.553508838684786\t    \t    \n",
            "init\t [-6.16958426 -8.64199284]\t 1602.4406672130797\t 5.553508838684786\t    \t    \n",
            "init\t [5.7397092  3.12667044]\t 117.20749172761734\t 5.553508838684786\t    \t    \n",
            "init\t [2.75041792 1.51205788]\t 5.553508838684786\t 5.553508838684786\t    \t    \n",
            "init\t [-9.21874168 -2.84372791]\t 1170.583554210921\t 5.553508838684786\t    \t    \n",
            "1  \t [-8.64042543  9.21575513]\t 178.4868811929342\t 5.553508838684786\t 7.103843370286438\t 7.6858414269403434\n",
            "2  \t [ 4.54825031 -8.71744454]\t 416.8315243674168\t 5.553508838684786\t 5.687288363332812\t 5.898340975659733\n",
            "3  \t [10. 10.]\t 1154.0\t 5.553508838684786\t 5.989578392747073\t 6.559651758163535\n",
            "4  \t [-0.05385845  7.96254756]\t 86.84889828641981\t 5.553508838684786\t 6.244241589887884\t 6.862831154332085\n",
            "5  \t [ 9.06636127 -2.74323799]\t 119.63857371103694\t 5.553508838684786\t 5.459411357630716\t 5.382145093590996\n",
            "6  \t [-0.73748554 -4.09939086]\t 365.7817448429897\t 5.553508838684786\t 5.4692960831775705\t 6.886950551052554\n",
            "7  \t [-10.           4.33006869]\t 496.7993691467886\t 5.553508838684786\t 5.923005278098461\t 6.727382635305841\n",
            "8  \t [5.45096118 8.92076449]\t 485.1572810390528\t 5.553508838684786\t 6.21831666445576\t 6.6110562855443975\n",
            "9  \t [ -0.68240151 -10.        ]\t 1034.1221307386713\t 5.553508838684786\t 6.200991863074819\t 6.858770320187797\n",
            "10 \t [-0.67996868  2.84557445]\t 16.306150829007805\t 5.553508838684786\t 5.081511528669225\t 5.507074096048496\n",
            "11 \t [-5.34307141  5.91978222]\t 95.63531874971927\t 5.553508838684786\t 6.605853199153801\t 6.820968844175244\n",
            "12 \t [2.43606521 5.13914615]\t 57.76677459165954\t 5.553508838684786\t 6.069068841559877\t 6.656868117320229\n",
            "13 \t [ 4.50052674 -3.43319779]\t 88.04195907698761\t 5.553508838684786\t 6.357838117948851\t 7.639415295509289\n",
            "14 \t [10.          4.76821654]\t 547.9445393421229\t 5.553508838684786\t 5.72965760110678\t 7.329878081297612\n",
            "15 \t [-3.39023785  9.04508145]\t 66.7712273459282\t 5.553508838684786\t 5.355949498962194\t 6.996302984353846\n",
            "16 \t [-10. -10.]\t 2594.0\t 5.553508838684786\t 5.452317172190963\t 6.588401200244388\n",
            "17 \t [-5.27959232 -4.38010255]\t 840.2482489532126\t 5.553508838684786\t 5.297333290283752\t 6.0259079290865785\n",
            "18 \t [ 8.58053564 -6.75991913]\t 171.71939175272982\t 5.553508838684786\t 5.815109669359791\t 7.044626332125139\n",
            "19 \t [9.17018127 0.91818832]\t 219.3587788510289\t 5.553508838684786\t 5.532151849316653\t 6.665844156856803\n",
            "20 \t [-0.70309283 -8.72086198]\t 861.0893815619343\t 5.553508838684786\t 5.881229401532522\t 5.763860806158785\n"
          ]
        }
      ],
      "source": [
        "### EXACT STP ERM GRADIENTS\n",
        "\n",
        "np.random.seed(run_num_17)\n",
        "surrogate_exact_17 = dtStudentProcess(cov_func, optimize=opt, nu = df)\n",
        "\n",
        "exact_17 = dGPGO(surrogate_exact_17, Acquisition_grad(util), objfunc, param)\n",
        "exact_17.run(init_evals=n_init, max_iter=iters)\n"
      ]
    },
    {
      "cell_type": "code",
      "execution_count": 51,
      "metadata": {
        "id": "eVEhyZ9BQS-1",
        "colab": {
          "base_uri": "https://localhost:8080/"
        },
        "outputId": "b0aff2b6-0743-470c-a8ba-3e5fa956c2b9"
      },
      "outputs": [
        {
          "output_type": "stream",
          "name": "stdout",
          "text": [
            "Evaluation \t Proposed point \t  Current eval. \t  Best eval. \t        Exact ERM: StdDev. x \t Approx ERM: StdDev. x \n",
            "init\t [3.00748483 0.10906747]\t 15.509405515253864\t 15.509405515253864\t    \t    \n",
            "init\t [ 7.57202942 -6.36319549]\t 162.0234327224751\t 15.509405515253864\t    \t    \n",
            "init\t [7.04466137 5.00272572]\t 299.59059770472754\t 15.509405515253864\t    \t    \n",
            "init\t [3.32203335 9.75790897]\t 380.8425822546991\t 15.509405515253864\t    \t    \n",
            "init\t [-4.86063155 -9.43388149]\t 1527.7052410059514\t 15.509405515253864\t    \t    \n",
            "1  \t [-6.1664519   4.28513481]\t 191.3691670751314\t 15.509405515253864\t 7.128913174710426\t 7.405329390990217\n",
            "2  \t [-6.07110106 -2.27098711]\t 687.0923366704285\t 15.509405515253864\t 6.2233621476064185\t 6.424142120606524\n",
            "3  \t [6.31975365 3.18761398]\t 149.65937068607042\t 15.509405515253864\t 5.359806725699657\t 5.359806725699657\n",
            "4  \t [ 0.70967908 -5.05646854]\t 343.66654848895763\t 15.509405515253864\t 6.723310024060268\t 6.9036575902083515\n",
            "5  \t [10. 10.]\t 1154.0\t 15.509405515253864\t 6.898308415941908\t 7.499583413835616\n",
            "\u001b[1m\u001b[92m6\u001b[0m\t \u001b[1m\u001b[92m[-0.36097099  5.22297181]\u001b[0m\t \u001b[1m\u001b[92m9.766027399444273\u001b[0m\t \u001b[1m\u001b[92m9.766027399444273\u001b[0m\t \u001b[1m\u001b[92m6.085408694134774\u001b[0m\t \u001b[1m\u001b[92m6.695068634234205\u001b[0m\n",
            "7  \t [10.         -1.13875035]\t 192.6562470472947\t 9.766027399444273\t 6.274344139349157\t 6.97274787674153\n",
            "8  \t [  2.90756292 -10.        ]\t 664.8074380058122\t 9.766027399444273\t 6.406759872301207\t 7.744523646994291\n",
            "9  \t [-3.32345342  9.52294988]\t 80.59226344906085\t 9.766027399444273\t 6.093157538011233\t 7.076922609066771\n",
            "10 \t [-9.69289674  8.4893621 ]\t 252.77822825688602\t 9.766027399444273\t 6.068310682120428\t 7.15399996447709\n",
            "11 \t [-10.          -6.57964857]\t 1906.857406943307\t 9.766027399444273\t 6.315262680300075\t 6.925966938459924\n",
            "12 \t [-1.96584547  1.17128796]\t 104.09155387564397\t 9.766027399444273\t 6.048432186638589\t 7.208372608538197\n",
            "13 \t [ 5.89710337 -2.62421322]\t 57.72815072588134\t 9.766027399444273\t 6.074413336609617\t 7.620467784326106\n",
            "14 \t [-2.96821739 -5.63067642]\t 725.1638259337769\t 9.766027399444273\t 5.051257853645119\t 5.450757468411946\n",
            "15 \t [-8.89018434 -0.25764721]\t 799.8899091095016\t 9.766027399444273\t 5.492063982805801\t 5.555144658480495\n",
            "16 \t [3.02512007 5.66701349]\t 99.27854160710882\t 9.766027399444273\t 5.978199534934345\t 7.756037332566632\n",
            "17 \t [ 3.65537608 -6.44112071]\t 280.371103225672\t 9.766027399444273\t 6.197194831921984\t 6.365570479619065\n",
            "18 \t [  7.9931778 -10.       ]\t 362.2321875152047\t 9.766027399444273\t 6.5809617377315135\t 7.4584316768111405\n",
            "19 \t [-6.30799496  8.42010767]\t 97.04083125395937\t 9.766027399444273\t 6.513054524329856\t 7.242616796039111\n",
            "\u001b[1m\u001b[92m20\u001b[0m\t \u001b[1m\u001b[92m[2.22470729 2.09129902]\u001b[0m\t \u001b[1m\u001b[92m2.7250853464889415\u001b[0m\t \u001b[1m\u001b[92m2.7250853464889415\u001b[0m\t \u001b[1m\u001b[92m5.809659769958326\u001b[0m\t \u001b[1m\u001b[92m5.78184218932442\u001b[0m\n"
          ]
        }
      ],
      "source": [
        "### EXACT STP ERM GRADIENTS\n",
        "\n",
        "np.random.seed(run_num_18)\n",
        "surrogate_exact_18 = dtStudentProcess(cov_func, optimize=opt, nu = df)\n",
        "\n",
        "exact_18 = dGPGO(surrogate_exact_18, Acquisition_grad(util), objfunc, param)\n",
        "exact_18.run(init_evals=n_init, max_iter=iters)\n"
      ]
    },
    {
      "cell_type": "code",
      "execution_count": 52,
      "metadata": {
        "id": "B6gTz1ojQUxn",
        "colab": {
          "base_uri": "https://localhost:8080/"
        },
        "outputId": "1b07aff8-1b06-4161-f491-ee04f8d8065b"
      },
      "outputs": [
        {
          "output_type": "stream",
          "name": "stdout",
          "text": [
            "Evaluation \t Proposed point \t  Current eval. \t  Best eval. \t        Exact ERM: StdDev. x \t Approx ERM: StdDev. x \n",
            "init\t [-8.04932797  5.22499433]\t 273.1270544592675\t 139.9227861892117\t    \t    \n",
            "init\t [-5.06124054 -7.23736625]\t 1204.1206373978957\t 139.9227861892117\t    \t    \n",
            "init\t [-3.37106873 -8.3400087 ]\t 1135.0538557997047\t 139.9227861892117\t    \t    \n",
            "init\t [3.43954163 6.13187596]\t 139.9227861892117\t 139.9227861892117\t    \t    \n",
            "init\t [9.65483829 2.7132147 ]\t 355.08571481298065\t 139.9227861892117\t    \t    \n",
            "1  \t [ 9.42739537 -7.28680447]\t 190.6689475777885\t 139.9227861892117\t 6.505801212982246\t 7.28586084592802\n",
            "2  \t [10. 10.]\t 1154.0\t 139.9227861892117\t 6.879639126084708\t 7.021324576778693\n",
            "3  \t [ 1.19601233 -3.03912179]\t 173.07712550836953\t 139.9227861892117\t 5.659056877229389\t 5.839515452741558\n",
            "4  \t [-9.64931371 -1.76781368]\t 1086.8911967373488\t 139.9227861892117\t 6.086335832308958\t 5.901186668038697\n",
            "\u001b[1m\u001b[92m5\u001b[0m\t \u001b[1m\u001b[92m[-2.69333527  7.93798122]\u001b[0m\t \u001b[1m\u001b[92m44.22095814180932\u001b[0m\t \u001b[1m\u001b[92m44.22095814180932\u001b[0m\t \u001b[1m\u001b[92m5.993240689344719\u001b[0m\t \u001b[1m\u001b[92m6.9866318871649895\u001b[0m\n",
            "6  \t [  3.53928752 -10.        ]\t 613.1540037633156\t 44.22095814180932\t 6.3758826871399\t 6.317067129450975\n",
            "\u001b[1m\u001b[92m7\u001b[0m\t \u001b[1m\u001b[92m[-1.03378002  2.53827954]\u001b[0m\t \u001b[1m\u001b[92m29.259537381974255\u001b[0m\t \u001b[1m\u001b[92m29.259537381974255\u001b[0m\t \u001b[1m\u001b[92m5.983704286183496\u001b[0m\t \u001b[1m\u001b[92m6.851221884271818\u001b[0m\n",
            "8  \t [-10. -10.]\t 2594.0\t 29.259537381974255\t 5.987768582052403\t 6.615568329417101\n",
            "9  \t [-4.09353871 -1.24269983]\t 392.60603903622797\t 29.259537381974255\t 5.086330957350752\t 5.790840438232835\n",
            "10 \t [ 6.79945922 -2.26234766]\t 62.47998546286891\t 29.259537381974255\t 5.550073590715372\t 6.445762371587246\n",
            "\u001b[1m\u001b[92m11\u001b[0m\t \u001b[1m\u001b[92m[3.35364243 1.41437873]\u001b[0m\t \u001b[1m\u001b[92m10.413253509888674\u001b[0m\t \u001b[1m\u001b[92m10.413253509888674\u001b[0m\t \u001b[1m\u001b[92m5.2140760935095205\u001b[0m\t \u001b[1m\u001b[92m7.604249031220257\u001b[0m\n",
            "12 \t [ 4.31375891 -5.37435238]\t 183.54920087108056\t 10.413253509888674\t 5.352351271937243\t 6.037521913335262\n",
            "13 \t [5.59217747 9.54218342]\t 559.784227230986\t 10.413253509888674\t 5.6840482414454145\t 6.751096897883883\n",
            "14 \t [1.04783004 9.54832647]\t 216.91999015858028\t 10.413253509888674\t 4.828259138192014\t 7.61079700508137\n",
            "15 \t [-7.0143125 10.       ]\t 117.344524141699\t 10.413253509888674\t 6.013434720999456\t 7.001601688558908\n",
            "16 \t [-4.47242788  3.03923398]\t 148.02738992118938\t 10.413253509888674\t 5.178249326786665\t 6.479632458806112\n",
            "17 \t [ 9.99920373 -2.6530456 ]\t 157.72968942806756\t 10.413253509888674\t 5.167132918173502\t 7.013276472135023\n",
            "18 \t [-0.12111628  5.6343164 ]\t 17.355623015098264\t 10.413253509888674\t 5.63889480915474\t 6.777317125105026\n",
            "19 \t [ 5.52404011 -7.97751244]\t 307.5619388236172\t 10.413253509888674\t 4.825795339426198\t 4.8237812540195515\n",
            "20 \t [-8.78132627 -6.00222858]\t 1588.002194153752\t 10.413253509888674\t 5.223097278123224\t 5.818788647639514\n"
          ]
        }
      ],
      "source": [
        "### EXACT STP ERM GRADIENTS\n",
        "\n",
        "np.random.seed(run_num_19)\n",
        "surrogate_exact_19 = dtStudentProcess(cov_func, optimize=opt, nu = df)\n",
        "\n",
        "exact_19 = dGPGO(surrogate_exact_19, Acquisition_grad(util), objfunc, param)\n",
        "exact_19.run(init_evals=n_init, max_iter=iters)\n"
      ]
    },
    {
      "cell_type": "code",
      "execution_count": 53,
      "metadata": {
        "id": "aw3xvSryIwDi",
        "colab": {
          "base_uri": "https://localhost:8080/"
        },
        "outputId": "28bb4374-4add-4378-9589-91be9b3913d5"
      },
      "outputs": [
        {
          "output_type": "stream",
          "name": "stdout",
          "text": [
            "Evaluation \t Proposed point \t  Current eval. \t  Best eval. \t        Exact ERM: StdDev. x \t Approx ERM: StdDev. x \n",
            "init\t [1.76261602 7.95427456]\t 155.85777119682857\t 155.85777119682857\t    \t    \n",
            "init\t [7.83061459 6.31674955]\t 469.53411882784934\t 155.85777119682857\t    \t    \n",
            "init\t [-9.28220829  3.83515164]\t 463.4088031056881\t 155.85777119682857\t    \t    \n",
            "init\t [-2.42638116  0.37021891]\t 165.36424127801376\t 155.85777119682857\t    \t    \n",
            "init\t [ 3.15902931 -6.12299564]\t 281.877765303078\t 155.85777119682857\t    \t    \n",
            "1  \t [ -5.92354215 -10.        ]\t 1804.7255625413031\t 155.85777119682857\t 5.112157128692612\t 5.371028194623578\n",
            "2  \t [ 9.25348277 -7.34677508]\t 192.70322330637893\t 155.85777119682857\t 6.786927827736613\t 6.7524588233386735\n",
            "\u001b[1m\u001b[92m3\u001b[0m\t \u001b[1m\u001b[92m[-4.56172279  9.14761084]\u001b[0m\t \u001b[1m\u001b[92m70.09893873088411\u001b[0m\t \u001b[1m\u001b[92m70.09893873088411\u001b[0m\t \u001b[1m\u001b[92m5.660516831739147\u001b[0m\t \u001b[1m\u001b[92m5.930700758141665\u001b[0m\n",
            "4  \t [6.75943299 0.83853385]\t 89.62446576496485\t 70.09893873088411\t 6.21458386035955\t 6.974460385895998\n",
            "5  \t [-6.31482861 -3.98496903]\t 920.233358961298\t 70.09893873088411\t 6.75728297658511\t 7.14820479613666\n",
            "\u001b[1m\u001b[92m6\u001b[0m\t \u001b[1m\u001b[92m[2.22672011 2.01024353]\u001b[0m\t \u001b[1m\u001b[92m2.709067177454698\u001b[0m\t \u001b[1m\u001b[92m2.709067177454698\u001b[0m\t \u001b[1m\u001b[92m7.729670586548451\u001b[0m\t \u001b[1m\u001b[92m8.0952791077314\u001b[0m\n",
            "7  \t [ -0.32988686 -10.        ]\t 992.1512287603838\t 2.709067177454698\t 7.40490704051973\t 7.682434005048901\n",
            "8  \t [-1.46678318  4.77521079]\t 11.149482113810757\t 2.709067177454698\t 7.208205516544803\t 7.3985437660508095\n",
            "9  \t [-10.        -7.166003]\t 2016.3463483762062\t 2.709067177454698\t 7.720452802728265\t 7.910395092849764\n",
            "10 \t [ 1.35970106 -1.93616959]\t 108.27141183077345\t 2.709067177454698\t 6.730280792443928\t 6.43149123457507\n",
            "11 \t [-10.         -0.8777557]\t 1021.4274483291726\t 2.709067177454698\t 7.316563999457849\t 7.666638481915974\n",
            "12 \t [  5.5712215 -10.       ]\t 474.07329407429995\t 2.709067177454698\t 7.5711027355476705\t 8.312770866343861\n",
            "13 \t [ 9.97003442 -2.98334325]\t 151.94321046888743\t 2.709067177454698\t 5.814190265618695\t 8.483587463905005\n",
            "14 \t [-3.3990266  -6.86999145]\t 931.1876705867685\t 2.709067177454698\t 5.505937665721966\t 5.361896092898961\n",
            "15 \t [10. 10.]\t 1154.0\t 2.709067177454698\t 6.120531200945595\t 7.088942978740556\n",
            "16 \t [3.97225483 4.55089913]\t 93.07527392339534\t 2.709067177454698\t 6.032732858755581\t 7.644649940765916\n",
            "17 \t [-5.09534714  5.02227618]\t 107.60248608869684\t 2.709067177454698\t 5.363034361531433\t 6.917420442718929\n",
            "18 \t [-8.89742927  7.42875864]\t 237.19844288269013\t 2.709067177454698\t 5.992582898202015\t 6.237329850100756\n",
            "19 \t [ 6.63227518 -4.44096314]\t 100.17586484093518\t 2.709067177454698\t 5.964230608491674\t 6.883167322805173\n",
            "20 \t [ 3.12894682 -8.39318261]\t 477.6412830540284\t 2.709067177454698\t 4.934556478087081\t 4.934556478087081\n"
          ]
        }
      ],
      "source": [
        "### EXACT STP ERM GRADIENTS\n",
        "\n",
        "np.random.seed(run_num_20)\n",
        "surrogate_exact_20 = dtStudentProcess(cov_func, optimize=opt, nu = df)\n",
        "\n",
        "exact_20 = dGPGO(surrogate_exact_20, Acquisition_grad(util), objfunc, param)\n",
        "exact_20.run(init_evals=n_init, max_iter=iters)\n"
      ]
    },
    {
      "cell_type": "code",
      "execution_count": 54,
      "metadata": {
        "id": "5c8szjivRPme",
        "colab": {
          "base_uri": "https://localhost:8080/"
        },
        "outputId": "5942ac6c-7b33-44e0-a76e-80811c0f1715"
      },
      "outputs": [
        {
          "output_type": "execute_result",
          "data": {
            "text/plain": [
              "1018.2015488147736"
            ]
          },
          "metadata": {},
          "execution_count": 54
        }
      ],
      "source": [
        "end_exact = time.time()\n",
        "end_exact\n",
        "\n",
        "time_exact = end_exact - start_exact\n",
        "time_exact\n"
      ]
    },
    {
      "cell_type": "code",
      "execution_count": 55,
      "metadata": {
        "id": "f6gCKnp6RR8c",
        "colab": {
          "base_uri": "https://localhost:8080/"
        },
        "outputId": "12f8dc09-44fd-4361-b10d-5b0962e5df7e"
      },
      "outputs": [
        {
          "output_type": "execute_result",
          "data": {
            "text/plain": [
              "(2.294115583748119, 2.7299558909701913)"
            ]
          },
          "metadata": {},
          "execution_count": 55
        }
      ],
      "source": [
        "### Simple regret minimization: run number = 1\n",
        "\n",
        "approx_output_1 = np.append(np.min(-approx_1.GP.y[0:n_init]),-approx_1.GP.y[n_init:(n_init+iters)]) \n",
        "exact_output_1 = np.append(np.min(-exact_1.GP.y[0:n_init]),-exact_1.GP.y[n_init:(n_init+iters)]) \n",
        "\n",
        "regret_approx_1 = np.log(approx_output_1 - y_global_orig)\n",
        "regret_exact_1 = np.log(exact_output_1 - y_global_orig)\n",
        "\n",
        "simple_regret_approx_1 = min_max_array(regret_approx_1)\n",
        "simple_regret_exact_1 = min_max_array(regret_exact_1)\n",
        "\n",
        "min_simple_regret_approx_1 = min(simple_regret_approx_1)\n",
        "min_simple_regret_exact_1 = min(simple_regret_exact_1)\n",
        "\n",
        "min_simple_regret_approx_1, min_simple_regret_exact_1\n"
      ]
    },
    {
      "cell_type": "code",
      "execution_count": 56,
      "metadata": {
        "id": "94yBw5tqQxfk",
        "colab": {
          "base_uri": "https://localhost:8080/"
        },
        "outputId": "890b9d9e-ad08-43fe-96ab-41e7209a9e44"
      },
      "outputs": [
        {
          "output_type": "execute_result",
          "data": {
            "text/plain": [
              "(1.9720255067315018, 1.8841698790220767)"
            ]
          },
          "metadata": {},
          "execution_count": 56
        }
      ],
      "source": [
        "### Simple regret minimization: run number = 2\n",
        "\n",
        "approx_output_2 = np.append(np.min(-approx_2.GP.y[0:n_init]),-approx_2.GP.y[n_init:(n_init+iters)]) \n",
        "exact_output_2 = np.append(np.min(-exact_2.GP.y[0:n_init]),-exact_2.GP.y[n_init:(n_init+iters)]) \n",
        "\n",
        "regret_approx_2 = np.log(approx_output_2 - y_global_orig)\n",
        "regret_exact_2 = np.log(exact_output_2 - y_global_orig)\n",
        "\n",
        "simple_regret_approx_2 = min_max_array(regret_approx_2)\n",
        "simple_regret_exact_2 = min_max_array(regret_exact_2)\n",
        "\n",
        "min_simple_regret_approx_2 = min(simple_regret_approx_2)\n",
        "min_simple_regret_exact_2 = min(simple_regret_exact_2)\n",
        "\n",
        "min_simple_regret_approx_2, min_simple_regret_exact_2\n"
      ]
    },
    {
      "cell_type": "code",
      "execution_count": 57,
      "metadata": {
        "id": "Bu6SBWALQxfl",
        "colab": {
          "base_uri": "https://localhost:8080/"
        },
        "outputId": "5688f64f-e70b-4068-a49f-10f13501a337"
      },
      "outputs": [
        {
          "output_type": "execute_result",
          "data": {
            "text/plain": [
              "(1.9332706053762703, 1.9332706053762703)"
            ]
          },
          "metadata": {},
          "execution_count": 57
        }
      ],
      "source": [
        "### Simple regret minimization: run number = 3\n",
        "\n",
        "approx_output_3 = np.append(np.min(-approx_3.GP.y[0:n_init]),-approx_3.GP.y[n_init:(n_init+iters)]) \n",
        "exact_output_3 = np.append(np.min(-exact_3.GP.y[0:n_init]),-exact_3.GP.y[n_init:(n_init+iters)]) \n",
        "\n",
        "regret_approx_3 = np.log(approx_output_3 - y_global_orig)\n",
        "regret_exact_3 = np.log(exact_output_3 - y_global_orig)\n",
        "\n",
        "simple_regret_approx_3 = min_max_array(regret_approx_3)\n",
        "simple_regret_exact_3 = min_max_array(regret_exact_3)\n",
        "\n",
        "min_simple_regret_approx_3 = min(simple_regret_approx_3)\n",
        "min_simple_regret_exact_3 = min(simple_regret_exact_3)\n",
        "\n",
        "min_simple_regret_approx_3, min_simple_regret_exact_3"
      ]
    },
    {
      "cell_type": "code",
      "execution_count": 58,
      "metadata": {
        "id": "AZm0jgxkQxfm",
        "colab": {
          "base_uri": "https://localhost:8080/"
        },
        "outputId": "e28e651d-a2a8-4603-a490-829647d5e946"
      },
      "outputs": [
        {
          "output_type": "execute_result",
          "data": {
            "text/plain": [
              "(3.1312129246604754, 2.2055441632672323)"
            ]
          },
          "metadata": {},
          "execution_count": 58
        }
      ],
      "source": [
        "### Simple regret minimization: run number = 4\n",
        "\n",
        "approx_output_4 = np.append(np.min(-approx_4.GP.y[0:n_init]),-approx_4.GP.y[n_init:(n_init+iters)]) \n",
        "exact_output_4 = np.append(np.min(-exact_4.GP.y[0:n_init]),-exact_4.GP.y[n_init:(n_init+iters)]) \n",
        "\n",
        "regret_approx_4 = np.log(approx_output_4 - y_global_orig)\n",
        "regret_exact_4 = np.log(exact_output_4 - y_global_orig)\n",
        "\n",
        "simple_regret_approx_4 = min_max_array(regret_approx_4)\n",
        "simple_regret_exact_4 = min_max_array(regret_exact_4)\n",
        "\n",
        "min_simple_regret_approx_4 = min(simple_regret_approx_4)\n",
        "min_simple_regret_exact_4 = min(simple_regret_exact_4)\n",
        "\n",
        "min_simple_regret_approx_4, min_simple_regret_exact_4"
      ]
    },
    {
      "cell_type": "code",
      "execution_count": 59,
      "metadata": {
        "id": "NONPm8JIQxfn",
        "colab": {
          "base_uri": "https://localhost:8080/"
        },
        "outputId": "5a4a7f8d-b8ec-40cc-8ac9-e99df0dd111d"
      },
      "outputs": [
        {
          "output_type": "execute_result",
          "data": {
            "text/plain": [
              "(2.5190764219303823, 2.893317825029239)"
            ]
          },
          "metadata": {},
          "execution_count": 59
        }
      ],
      "source": [
        "### Simple regret minimization: run number = 5\n",
        "\n",
        "approx_output_5 = np.append(np.min(-approx_5.GP.y[0:n_init]),-approx_5.GP.y[n_init:(n_init+iters)]) \n",
        "exact_output_5 = np.append(np.min(-exact_5.GP.y[0:n_init]),-exact_5.GP.y[n_init:(n_init+iters)]) \n",
        "\n",
        "regret_approx_5 = np.log(approx_output_5 - y_global_orig)\n",
        "regret_exact_5 = np.log(exact_output_5 - y_global_orig)\n",
        "\n",
        "simple_regret_approx_5 = min_max_array(regret_approx_5)\n",
        "simple_regret_exact_5 = min_max_array(regret_exact_5)\n",
        "\n",
        "min_simple_regret_approx_5 = min(simple_regret_approx_5)\n",
        "min_simple_regret_exact_5 = min(simple_regret_exact_5)\n",
        "\n",
        "min_simple_regret_approx_5, min_simple_regret_exact_5"
      ]
    },
    {
      "cell_type": "code",
      "execution_count": 60,
      "metadata": {
        "id": "CJv3lPuSQxfp",
        "colab": {
          "base_uri": "https://localhost:8080/"
        },
        "outputId": "34254e08-5de6-4eac-d187-d42947d306e5"
      },
      "outputs": [
        {
          "output_type": "execute_result",
          "data": {
            "text/plain": [
              "(2.293147547405968, 2.293147547405968)"
            ]
          },
          "metadata": {},
          "execution_count": 60
        }
      ],
      "source": [
        "### Simple regret minimization: run number = 6\n",
        "\n",
        "approx_output_6 = np.append(np.min(-approx_6.GP.y[0:n_init]),-approx_6.GP.y[n_init:(n_init+iters)]) \n",
        "exact_output_6 = np.append(np.min(-exact_6.GP.y[0:n_init]),-exact_6.GP.y[n_init:(n_init+iters)]) \n",
        "\n",
        "regret_approx_6 = np.log(approx_output_6 - y_global_orig)\n",
        "regret_exact_6 = np.log(exact_output_6 - y_global_orig)\n",
        "\n",
        "simple_regret_approx_6 = min_max_array(regret_approx_6)\n",
        "simple_regret_exact_6 = min_max_array(regret_exact_6)\n",
        "\n",
        "min_simple_regret_approx_6 = min(simple_regret_approx_6)\n",
        "min_simple_regret_exact_6 = min(simple_regret_exact_6)\n",
        "\n",
        "min_simple_regret_approx_6, min_simple_regret_exact_6"
      ]
    },
    {
      "cell_type": "code",
      "execution_count": 61,
      "metadata": {
        "id": "quR2ZyApQxfq",
        "colab": {
          "base_uri": "https://localhost:8080/"
        },
        "outputId": "0fbb5287-8a54-4944-d716-549b634c39ee"
      },
      "outputs": [
        {
          "output_type": "execute_result",
          "data": {
            "text/plain": [
              "(2.2476588772086465, 2.2476588772086465)"
            ]
          },
          "metadata": {},
          "execution_count": 61
        }
      ],
      "source": [
        "### Simple regret minimization: run number = 7\n",
        "\n",
        "approx_output_7 = np.append(np.min(-approx_7.GP.y[0:n_init]),-approx_7.GP.y[n_init:(n_init+iters)]) \n",
        "exact_output_7 = np.append(np.min(-exact_7.GP.y[0:n_init]),-exact_7.GP.y[n_init:(n_init+iters)]) \n",
        "\n",
        "regret_approx_7 = np.log(approx_output_7 - y_global_orig)\n",
        "regret_exact_7 = np.log(exact_output_7 - y_global_orig)\n",
        "\n",
        "simple_regret_approx_7 = min_max_array(regret_approx_7)\n",
        "simple_regret_exact_7 = min_max_array(regret_exact_7)\n",
        "\n",
        "min_simple_regret_approx_7 = min(simple_regret_approx_7)\n",
        "min_simple_regret_exact_7 = min(simple_regret_exact_7)\n",
        "\n",
        "min_simple_regret_approx_7, min_simple_regret_exact_7"
      ]
    },
    {
      "cell_type": "code",
      "execution_count": 62,
      "metadata": {
        "id": "99wY5nK6Qxfr",
        "colab": {
          "base_uri": "https://localhost:8080/"
        },
        "outputId": "1255e00c-fed9-4800-8373-03a2199a89f1"
      },
      "outputs": [
        {
          "output_type": "execute_result",
          "data": {
            "text/plain": [
              "(2.5240582171953454, 2.65103774315825)"
            ]
          },
          "metadata": {},
          "execution_count": 62
        }
      ],
      "source": [
        "### Simple regret minimization: run number = 8\n",
        "\n",
        "approx_output_8 = np.append(np.min(-approx_8.GP.y[0:n_init]),-approx_8.GP.y[n_init:(n_init+iters)]) \n",
        "exact_output_8 = np.append(np.min(-exact_8.GP.y[0:n_init]),-exact_8.GP.y[n_init:(n_init+iters)]) \n",
        "\n",
        "regret_approx_8 = np.log(approx_output_8 - y_global_orig)\n",
        "regret_exact_8 = np.log(exact_output_8 - y_global_orig)\n",
        "\n",
        "simple_regret_approx_8 = min_max_array(regret_approx_8)\n",
        "simple_regret_exact_8 = min_max_array(regret_exact_8)\n",
        "\n",
        "min_simple_regret_approx_8 = min(simple_regret_approx_8)\n",
        "min_simple_regret_exact_8 = min(simple_regret_exact_8)\n",
        "\n",
        "min_simple_regret_approx_8, min_simple_regret_exact_8"
      ]
    },
    {
      "cell_type": "code",
      "execution_count": 63,
      "metadata": {
        "id": "qt0P5t9qQxfs",
        "colab": {
          "base_uri": "https://localhost:8080/"
        },
        "outputId": "9d8285a5-78e9-4587-f5c2-56a285f0024d"
      },
      "outputs": [
        {
          "output_type": "execute_result",
          "data": {
            "text/plain": [
              "(2.410152026569423, 0.3738124042709349)"
            ]
          },
          "metadata": {},
          "execution_count": 63
        }
      ],
      "source": [
        "### Simple regret minimization: run number = 9\n",
        "\n",
        "approx_output_9 = np.append(np.min(-approx_9.GP.y[0:n_init]),-approx_9.GP.y[n_init:(n_init+iters)]) \n",
        "exact_output_9 = np.append(np.min(-exact_9.GP.y[0:n_init]),-exact_9.GP.y[n_init:(n_init+iters)]) \n",
        "\n",
        "regret_approx_9 = np.log(approx_output_9 - y_global_orig)\n",
        "regret_exact_9 = np.log(exact_output_9 - y_global_orig)\n",
        "\n",
        "simple_regret_approx_9 = min_max_array(regret_approx_9)\n",
        "simple_regret_exact_9 = min_max_array(regret_exact_9)\n",
        "\n",
        "min_simple_regret_approx_9 = min(simple_regret_approx_9)\n",
        "min_simple_regret_exact_9 = min(simple_regret_exact_9)\n",
        "\n",
        "min_simple_regret_approx_9, min_simple_regret_exact_9"
      ]
    },
    {
      "cell_type": "code",
      "execution_count": 64,
      "metadata": {
        "id": "vx8to9stQxft",
        "colab": {
          "base_uri": "https://localhost:8080/"
        },
        "outputId": "e484fbc3-a1b9-44d4-b0de-a5c4d5bc990f"
      },
      "outputs": [
        {
          "output_type": "execute_result",
          "data": {
            "text/plain": [
              "(2.9537762825348794, 2.9537762825348794)"
            ]
          },
          "metadata": {},
          "execution_count": 64
        }
      ],
      "source": [
        "### Simple regret minimization: run number = 10\n",
        "\n",
        "approx_output_10 = np.append(np.min(-approx_10.GP.y[0:n_init]),-approx_10.GP.y[n_init:(n_init+iters)]) \n",
        "exact_output_10 = np.append(np.min(-exact_10.GP.y[0:n_init]),-exact_10.GP.y[n_init:(n_init+iters)]) \n",
        "\n",
        "regret_approx_10 = np.log(approx_output_10 - y_global_orig)\n",
        "regret_exact_10 = np.log(exact_output_10 - y_global_orig)\n",
        "\n",
        "simple_regret_approx_10 = min_max_array(regret_approx_10)\n",
        "simple_regret_exact_10 = min_max_array(regret_exact_10)\n",
        "\n",
        "min_simple_regret_approx_10 = min(simple_regret_approx_10)\n",
        "min_simple_regret_exact_10 = min(simple_regret_exact_10)\n",
        "\n",
        "min_simple_regret_approx_10, min_simple_regret_exact_10"
      ]
    },
    {
      "cell_type": "code",
      "execution_count": 65,
      "metadata": {
        "id": "d-FGzWyHQxfu",
        "colab": {
          "base_uri": "https://localhost:8080/"
        },
        "outputId": "ab4597e5-b8de-4bf2-c780-0e87855fa41f"
      },
      "outputs": [
        {
          "output_type": "execute_result",
          "data": {
            "text/plain": [
              "(1.7016578760315788, 1.448444030412391)"
            ]
          },
          "metadata": {},
          "execution_count": 65
        }
      ],
      "source": [
        "### Simple regret minimization: run number = 11\n",
        "\n",
        "approx_output_11 = np.append(np.min(-approx_11.GP.y[0:n_init]),-approx_11.GP.y[n_init:(n_init+iters)]) \n",
        "exact_output_11 = np.append(np.min(-exact_11.GP.y[0:n_init]),-exact_11.GP.y[n_init:(n_init+iters)]) \n",
        "\n",
        "regret_approx_11 = np.log(approx_output_11 - y_global_orig)\n",
        "regret_exact_11 = np.log(exact_output_11 - y_global_orig)\n",
        "\n",
        "simple_regret_approx_11 = min_max_array(regret_approx_11)\n",
        "simple_regret_exact_11 = min_max_array(regret_exact_11)\n",
        "\n",
        "min_simple_regret_approx_11 = min(simple_regret_approx_11)\n",
        "min_simple_regret_exact_11 = min(simple_regret_exact_11)\n",
        "\n",
        "min_simple_regret_approx_11, min_simple_regret_exact_11"
      ]
    },
    {
      "cell_type": "code",
      "execution_count": 66,
      "metadata": {
        "id": "SvtsssyjQxfv",
        "colab": {
          "base_uri": "https://localhost:8080/"
        },
        "outputId": "ab4f6ef2-b980-4fc8-b46d-15a525798d5a"
      },
      "outputs": [
        {
          "output_type": "execute_result",
          "data": {
            "text/plain": [
              "(2.9846991439315183, 1.8656265482940402)"
            ]
          },
          "metadata": {},
          "execution_count": 66
        }
      ],
      "source": [
        "### Simple regret minimization: run number = 12\n",
        "\n",
        "approx_output_12 = np.append(np.min(-approx_12.GP.y[0:n_init]),-approx_12.GP.y[n_init:(n_init+iters)]) \n",
        "exact_output_12 = np.append(np.min(-exact_12.GP.y[0:n_init]),-exact_12.GP.y[n_init:(n_init+iters)]) \n",
        "\n",
        "regret_approx_12 = np.log(approx_output_12 - y_global_orig)\n",
        "regret_exact_12 = np.log(exact_output_12 - y_global_orig)\n",
        "\n",
        "simple_regret_approx_12 = min_max_array(regret_approx_12)\n",
        "simple_regret_exact_12 = min_max_array(regret_exact_12)\n",
        "\n",
        "min_simple_regret_approx_12 = min(simple_regret_approx_12)\n",
        "min_simple_regret_exact_12 = min(simple_regret_exact_12)\n",
        "\n",
        "min_simple_regret_approx_12, min_simple_regret_exact_12"
      ]
    },
    {
      "cell_type": "code",
      "execution_count": 67,
      "metadata": {
        "id": "K6OiGcHkQxfw",
        "colab": {
          "base_uri": "https://localhost:8080/"
        },
        "outputId": "449dcbe1-12ba-436f-968a-04d2b362850b"
      },
      "outputs": [
        {
          "output_type": "execute_result",
          "data": {
            "text/plain": [
              "(3.1176779663640266, 3.1792781097548293)"
            ]
          },
          "metadata": {},
          "execution_count": 67
        }
      ],
      "source": [
        "### Simple regret minimization: run number = 13\n",
        "\n",
        "approx_output_13 = np.append(np.min(-approx_13.GP.y[0:n_init]),-approx_13.GP.y[n_init:(n_init+iters)]) \n",
        "exact_output_13 = np.append(np.min(-exact_13.GP.y[0:n_init]),-exact_13.GP.y[n_init:(n_init+iters)]) \n",
        "\n",
        "regret_approx_13 = np.log(approx_output_13 - y_global_orig)\n",
        "regret_exact_13 = np.log(exact_output_13 - y_global_orig)\n",
        "\n",
        "simple_regret_approx_13 = min_max_array(regret_approx_13)\n",
        "simple_regret_exact_13 = min_max_array(regret_exact_13)\n",
        "\n",
        "min_simple_regret_approx_13 = min(simple_regret_approx_13)\n",
        "min_simple_regret_exact_13 = min(simple_regret_exact_13)\n",
        "\n",
        "min_simple_regret_approx_13, min_simple_regret_exact_13"
      ]
    },
    {
      "cell_type": "code",
      "execution_count": 68,
      "metadata": {
        "id": "ogML73shQxfx",
        "colab": {
          "base_uri": "https://localhost:8080/"
        },
        "outputId": "abd11cea-641f-4010-c525-d2f2f0e50daa"
      },
      "outputs": [
        {
          "output_type": "execute_result",
          "data": {
            "text/plain": [
              "(2.9300454245107113, 2.9300454245107113)"
            ]
          },
          "metadata": {},
          "execution_count": 68
        }
      ],
      "source": [
        "### Simple regret minimization: run number = 14\n",
        "\n",
        "approx_output_14 = np.append(np.min(-approx_14.GP.y[0:n_init]),-approx_14.GP.y[n_init:(n_init+iters)]) \n",
        "exact_output_14 = np.append(np.min(-exact_14.GP.y[0:n_init]),-exact_14.GP.y[n_init:(n_init+iters)]) \n",
        "\n",
        "regret_approx_14 = np.log(approx_output_14 - y_global_orig)\n",
        "regret_exact_14 = np.log(exact_output_14 - y_global_orig)\n",
        "\n",
        "simple_regret_approx_14 = min_max_array(regret_approx_14)\n",
        "simple_regret_exact_14 = min_max_array(regret_exact_14)\n",
        "\n",
        "min_simple_regret_approx_14 = min(simple_regret_approx_14)\n",
        "min_simple_regret_exact_14 = min(simple_regret_exact_14)\n",
        "\n",
        "min_simple_regret_approx_14, min_simple_regret_exact_14"
      ]
    },
    {
      "cell_type": "code",
      "execution_count": 69,
      "metadata": {
        "id": "9Eg7gFT9Qxfx",
        "colab": {
          "base_uri": "https://localhost:8080/"
        },
        "outputId": "4c9c39a7-8467-4ee1-a96f-72c606ab0e15"
      },
      "outputs": [
        {
          "output_type": "execute_result",
          "data": {
            "text/plain": [
              "(1.5914571451625699, 0.131530125331858)"
            ]
          },
          "metadata": {},
          "execution_count": 69
        }
      ],
      "source": [
        "### Simple regret minimization: run number = 15\n",
        "\n",
        "approx_output_15 = np.append(np.min(-approx_15.GP.y[0:n_init]),-approx_15.GP.y[n_init:(n_init+iters)]) \n",
        "exact_output_15 = np.append(np.min(-exact_15.GP.y[0:n_init]),-exact_15.GP.y[n_init:(n_init+iters)]) \n",
        "\n",
        "regret_approx_15 = np.log(approx_output_15 - y_global_orig)\n",
        "regret_exact_15 = np.log(exact_output_15 - y_global_orig)\n",
        "\n",
        "simple_regret_approx_15 = min_max_array(regret_approx_15)\n",
        "simple_regret_exact_15 = min_max_array(regret_exact_15)\n",
        "\n",
        "min_simple_regret_approx_15 = min(simple_regret_approx_15)\n",
        "min_simple_regret_exact_15 = min(simple_regret_exact_15)\n",
        "\n",
        "min_simple_regret_approx_15, min_simple_regret_exact_15"
      ]
    },
    {
      "cell_type": "code",
      "execution_count": 70,
      "metadata": {
        "id": "lIAC1U7ZQxfy",
        "colab": {
          "base_uri": "https://localhost:8080/"
        },
        "outputId": "06abf141-5e23-4c51-b4a7-639fa4de3b5e"
      },
      "outputs": [
        {
          "output_type": "execute_result",
          "data": {
            "text/plain": [
              "(2.292814213341363, 2.396801504021688)"
            ]
          },
          "metadata": {},
          "execution_count": 70
        }
      ],
      "source": [
        "### Simple regret minimization: run number = 16\n",
        "\n",
        "approx_output_16 = np.append(np.min(-approx_16.GP.y[0:n_init]),-approx_16.GP.y[n_init:(n_init+iters)]) \n",
        "exact_output_16 = np.append(np.min(-exact_16.GP.y[0:n_init]),-exact_16.GP.y[n_init:(n_init+iters)]) \n",
        "\n",
        "regret_approx_16 = np.log(approx_output_16 - y_global_orig)\n",
        "regret_exact_16 = np.log(exact_output_16 - y_global_orig)\n",
        "\n",
        "simple_regret_approx_16 = min_max_array(regret_approx_16)\n",
        "simple_regret_exact_16 = min_max_array(regret_exact_16)\n",
        "\n",
        "min_simple_regret_approx_16 = min(simple_regret_approx_16)\n",
        "min_simple_regret_exact_16 = min(simple_regret_exact_16)\n",
        "\n",
        "min_simple_regret_approx_16, min_simple_regret_exact_16"
      ]
    },
    {
      "cell_type": "code",
      "execution_count": 71,
      "metadata": {
        "id": "bGott36OQxfz",
        "colab": {
          "base_uri": "https://localhost:8080/"
        },
        "outputId": "ece2e8e6-e301-40cf-9568-660c0c83fc85"
      },
      "outputs": [
        {
          "output_type": "execute_result",
          "data": {
            "text/plain": [
              "(1.714429951175907, 1.714429951175907)"
            ]
          },
          "metadata": {},
          "execution_count": 71
        }
      ],
      "source": [
        "### Simple regret minimization: run number = 17\n",
        "\n",
        "approx_output_17 = np.append(np.min(-approx_17.GP.y[0:n_init]),-approx_17.GP.y[n_init:(n_init+iters)]) \n",
        "exact_output_17 = np.append(np.min(-exact_17.GP.y[0:n_init]),-exact_17.GP.y[n_init:(n_init+iters)]) \n",
        "\n",
        "regret_approx_17 = np.log(approx_output_17 - y_global_orig)\n",
        "regret_exact_17 = np.log(exact_output_17 - y_global_orig)\n",
        "\n",
        "simple_regret_approx_17 = min_max_array(regret_approx_17)\n",
        "simple_regret_exact_17 = min_max_array(regret_exact_17)\n",
        "\n",
        "min_simple_regret_approx_17 = min(simple_regret_approx_17)\n",
        "min_simple_regret_exact_17 = min(simple_regret_exact_17)\n",
        "\n",
        "min_simple_regret_approx_17, min_simple_regret_exact_17"
      ]
    },
    {
      "cell_type": "code",
      "execution_count": 72,
      "metadata": {
        "id": "Cz9ZYMBMQxfz",
        "colab": {
          "base_uri": "https://localhost:8080/"
        },
        "outputId": "bbf80184-1a21-4d6f-8b5c-d18a80f9e097"
      },
      "outputs": [
        {
          "output_type": "execute_result",
          "data": {
            "text/plain": [
              "(1.6814304628167422, 1.002499747437208)"
            ]
          },
          "metadata": {},
          "execution_count": 72
        }
      ],
      "source": [
        "### Simple regret minimization: run number = 18\n",
        "\n",
        "approx_output_18 = np.append(np.min(-approx_18.GP.y[0:n_init]),-approx_18.GP.y[n_init:(n_init+iters)]) \n",
        "exact_output_18 = np.append(np.min(-exact_18.GP.y[0:n_init]),-exact_18.GP.y[n_init:(n_init+iters)]) \n",
        "\n",
        "regret_approx_18 = np.log(approx_output_18 - y_global_orig)\n",
        "regret_exact_18 = np.log(exact_output_18 - y_global_orig)\n",
        "\n",
        "simple_regret_approx_18 = min_max_array(regret_approx_18)\n",
        "simple_regret_exact_18 = min_max_array(regret_exact_18)\n",
        "\n",
        "min_simple_regret_approx_18 = min(simple_regret_approx_18)\n",
        "min_simple_regret_exact_18 = min(simple_regret_exact_18)\n",
        "\n",
        "min_simple_regret_approx_18, min_simple_regret_exact_18"
      ]
    },
    {
      "cell_type": "code",
      "execution_count": 73,
      "metadata": {
        "id": "OBfpWOHNQxf0",
        "colab": {
          "base_uri": "https://localhost:8080/"
        },
        "outputId": "461f949a-13ab-4f78-d367-e48509da6a92"
      },
      "outputs": [
        {
          "output_type": "execute_result",
          "data": {
            "text/plain": [
              "(1.6057413187777707, 2.343079370770347)"
            ]
          },
          "metadata": {},
          "execution_count": 73
        }
      ],
      "source": [
        "### Simple regret minimization: run number = 19\n",
        "\n",
        "approx_output_19 = np.append(np.min(-approx_19.GP.y[0:n_init]),-approx_19.GP.y[n_init:(n_init+iters)]) \n",
        "exact_output_19 = np.append(np.min(-exact_19.GP.y[0:n_init]),-exact_19.GP.y[n_init:(n_init+iters)]) \n",
        "\n",
        "regret_approx_19 = np.log(approx_output_19 - y_global_orig)\n",
        "regret_exact_19 = np.log(exact_output_19 - y_global_orig)\n",
        "\n",
        "simple_regret_approx_19 = min_max_array(regret_approx_19)\n",
        "simple_regret_exact_19 = min_max_array(regret_exact_19)\n",
        "\n",
        "min_simple_regret_approx_19 = min(simple_regret_approx_19)\n",
        "min_simple_regret_exact_19 = min(simple_regret_exact_19)\n",
        "\n",
        "min_simple_regret_approx_19, min_simple_regret_exact_19"
      ]
    },
    {
      "cell_type": "code",
      "execution_count": 74,
      "metadata": {
        "id": "BE1AJ7NsQxf0",
        "colab": {
          "base_uri": "https://localhost:8080/"
        },
        "outputId": "e36394e8-10b6-4301-9447-64272a4532c2"
      },
      "outputs": [
        {
          "output_type": "execute_result",
          "data": {
            "text/plain": [
              "(0.8620860928272106, 0.9966043606746756)"
            ]
          },
          "metadata": {},
          "execution_count": 74
        }
      ],
      "source": [
        "### Simple regret minimization: run number = 20\n",
        "\n",
        "approx_output_20 = np.append(np.min(-approx_20.GP.y[0:n_init]),-approx_20.GP.y[n_init:(n_init+iters)]) \n",
        "exact_output_20 = np.append(np.min(-exact_20.GP.y[0:n_init]),-exact_20.GP.y[n_init:(n_init+iters)]) \n",
        "\n",
        "regret_approx_20 = np.log(approx_output_20 - y_global_orig)\n",
        "regret_exact_20 = np.log(exact_output_20 - y_global_orig)\n",
        "\n",
        "simple_regret_approx_20 = min_max_array(regret_approx_20)\n",
        "simple_regret_exact_20 = min_max_array(regret_exact_20)\n",
        "\n",
        "min_simple_regret_approx_20 = min(simple_regret_approx_20)\n",
        "min_simple_regret_exact_20 = min(simple_regret_exact_20)\n",
        "\n",
        "min_simple_regret_approx_20, min_simple_regret_exact_20"
      ]
    },
    {
      "cell_type": "code",
      "execution_count": 75,
      "metadata": {
        "id": "bpX-bKAHQxf1"
      },
      "outputs": [],
      "source": [
        "# Iteration1 :\n",
        "\n",
        "slice1 = 0\n",
        "\n",
        "approx1 = [simple_regret_approx_1[slice1],\n",
        "       simple_regret_approx_2[slice1],\n",
        "       simple_regret_approx_3[slice1],\n",
        "       simple_regret_approx_4[slice1],\n",
        "       simple_regret_approx_5[slice1],\n",
        "       simple_regret_approx_6[slice1],\n",
        "       simple_regret_approx_7[slice1],\n",
        "       simple_regret_approx_8[slice1],\n",
        "       simple_regret_approx_9[slice1],\n",
        "       simple_regret_approx_10[slice1],\n",
        "       simple_regret_approx_11[slice1],\n",
        "       simple_regret_approx_12[slice1],\n",
        "       simple_regret_approx_13[slice1],\n",
        "       simple_regret_approx_14[slice1],\n",
        "       simple_regret_approx_15[slice1],\n",
        "       simple_regret_approx_16[slice1],\n",
        "       simple_regret_approx_17[slice1],\n",
        "       simple_regret_approx_18[slice1],\n",
        "       simple_regret_approx_19[slice1],\n",
        "       simple_regret_approx_20[slice1]]\n",
        "\n",
        "exact1 = [simple_regret_exact_1[slice1],\n",
        "       simple_regret_exact_2[slice1],\n",
        "       simple_regret_exact_3[slice1],\n",
        "       simple_regret_exact_4[slice1],\n",
        "       simple_regret_exact_5[slice1],\n",
        "       simple_regret_exact_6[slice1],\n",
        "       simple_regret_exact_7[slice1],\n",
        "       simple_regret_exact_8[slice1],\n",
        "       simple_regret_exact_9[slice1],\n",
        "       simple_regret_exact_10[slice1],\n",
        "       simple_regret_exact_11[slice1],\n",
        "       simple_regret_exact_12[slice1],\n",
        "       simple_regret_exact_13[slice1],\n",
        "       simple_regret_exact_14[slice1],\n",
        "       simple_regret_exact_15[slice1],\n",
        "       simple_regret_exact_16[slice1],\n",
        "       simple_regret_exact_17[slice1],\n",
        "       simple_regret_exact_18[slice1],\n",
        "       simple_regret_exact_19[slice1],\n",
        "       simple_regret_exact_20[slice1]]\n",
        "\n",
        "approx1_results = pd.DataFrame(approx1).sort_values(by=[0], ascending=False)\n",
        "exact1_results = pd.DataFrame(exact1).sort_values(by=[0], ascending=False)\n",
        "\n",
        "### Best simple regret minimization IQR - approx:\n",
        "lower_approx1 = np.asarray(approx1_results[4:5][0])[0]\n",
        "median_approx1 = np.asarray(approx1_results[9:10][0])[0]\n",
        "upper_approx1 = np.asarray(approx1_results[14:15][0])[0]\n",
        "\n",
        "lower_exact1 = np.asarray(exact1_results[4:5][0])[0]\n",
        "median_exact1 = np.asarray(exact1_results[9:10][0])[0]\n",
        "upper_exact1 = np.asarray(exact1_results[14:15][0])[0]"
      ]
    },
    {
      "cell_type": "code",
      "execution_count": 76,
      "metadata": {
        "id": "CgIkJA1xQxf2"
      },
      "outputs": [],
      "source": [
        "# Iteration11 :\n",
        "\n",
        "slice11 = 10\n",
        "\n",
        "approx11 = [simple_regret_approx_1[slice11],\n",
        "       simple_regret_approx_2[slice11],\n",
        "       simple_regret_approx_3[slice11],\n",
        "       simple_regret_approx_4[slice11],\n",
        "       simple_regret_approx_5[slice11],\n",
        "       simple_regret_approx_6[slice11],\n",
        "       simple_regret_approx_7[slice11],\n",
        "       simple_regret_approx_8[slice11],\n",
        "       simple_regret_approx_9[slice11],\n",
        "       simple_regret_approx_10[slice11],\n",
        "       simple_regret_approx_11[slice11],\n",
        "       simple_regret_approx_12[slice11],\n",
        "       simple_regret_approx_13[slice11],\n",
        "       simple_regret_approx_14[slice11],\n",
        "       simple_regret_approx_15[slice11],\n",
        "       simple_regret_approx_16[slice11],\n",
        "       simple_regret_approx_17[slice11],\n",
        "       simple_regret_approx_18[slice11],\n",
        "       simple_regret_approx_19[slice11],\n",
        "       simple_regret_approx_20[slice11]]\n",
        "\n",
        "exact11 = [simple_regret_exact_1[slice11],\n",
        "       simple_regret_exact_2[slice11],\n",
        "       simple_regret_exact_3[slice11],\n",
        "       simple_regret_exact_4[slice11],\n",
        "       simple_regret_exact_5[slice11],\n",
        "       simple_regret_exact_6[slice11],\n",
        "       simple_regret_exact_7[slice11],\n",
        "       simple_regret_exact_8[slice11],\n",
        "       simple_regret_exact_9[slice11],\n",
        "       simple_regret_exact_10[slice11],\n",
        "       simple_regret_exact_11[slice11],\n",
        "       simple_regret_exact_12[slice11],\n",
        "       simple_regret_exact_13[slice11],\n",
        "       simple_regret_exact_14[slice11],\n",
        "       simple_regret_exact_15[slice11],\n",
        "       simple_regret_exact_16[slice11],\n",
        "       simple_regret_exact_17[slice11],\n",
        "       simple_regret_exact_18[slice11],\n",
        "       simple_regret_exact_19[slice11],\n",
        "       simple_regret_exact_20[slice11]]\n",
        "\n",
        "approx11_results = pd.DataFrame(approx11).sort_values(by=[0], ascending=False)\n",
        "exact11_results = pd.DataFrame(exact11).sort_values(by=[0], ascending=False)\n",
        "\n",
        "### Best simple regret minimization IQR - approx:\n",
        "lower_approx11 = np.asarray(approx11_results[4:5][0])[0]\n",
        "median_approx11 = np.asarray(approx11_results[9:10][0])[0]\n",
        "upper_approx11 = np.asarray(approx11_results[14:15][0])[0]\n",
        "\n",
        "lower_exact11 = np.asarray(exact11_results[4:5][0])[0]\n",
        "median_exact11 = np.asarray(exact11_results[9:10][0])[0]\n",
        "upper_exact11 = np.asarray(exact11_results[14:15][0])[0]"
      ]
    },
    {
      "cell_type": "code",
      "execution_count": 77,
      "metadata": {
        "id": "MFePDfGuQxf2"
      },
      "outputs": [],
      "source": [
        "# Iteration21 :\n",
        "\n",
        "slice21 = 20\n",
        "\n",
        "approx21 = [simple_regret_approx_1[slice21],\n",
        "       simple_regret_approx_2[slice21],\n",
        "       simple_regret_approx_3[slice21],\n",
        "       simple_regret_approx_4[slice21],\n",
        "       simple_regret_approx_5[slice21],\n",
        "       simple_regret_approx_6[slice21],\n",
        "       simple_regret_approx_7[slice21],\n",
        "       simple_regret_approx_8[slice21],\n",
        "       simple_regret_approx_9[slice21],\n",
        "       simple_regret_approx_10[slice21],\n",
        "       simple_regret_approx_11[slice21],\n",
        "       simple_regret_approx_12[slice21],\n",
        "       simple_regret_approx_13[slice21],\n",
        "       simple_regret_approx_14[slice21],\n",
        "       simple_regret_approx_15[slice21],\n",
        "       simple_regret_approx_16[slice21],\n",
        "       simple_regret_approx_17[slice21],\n",
        "       simple_regret_approx_18[slice21],\n",
        "       simple_regret_approx_19[slice21],\n",
        "       simple_regret_approx_20[slice21]]\n",
        "\n",
        "exact21 = [simple_regret_exact_1[slice21],\n",
        "       simple_regret_exact_2[slice21],\n",
        "       simple_regret_exact_3[slice21],\n",
        "       simple_regret_exact_4[slice21],\n",
        "       simple_regret_exact_5[slice21],\n",
        "       simple_regret_exact_6[slice21],\n",
        "       simple_regret_exact_7[slice21],\n",
        "       simple_regret_exact_8[slice21],\n",
        "       simple_regret_exact_9[slice21],\n",
        "       simple_regret_exact_10[slice21],\n",
        "       simple_regret_exact_11[slice21],\n",
        "       simple_regret_exact_12[slice21],\n",
        "       simple_regret_exact_13[slice21],\n",
        "       simple_regret_exact_14[slice21],\n",
        "       simple_regret_exact_15[slice21],\n",
        "       simple_regret_exact_16[slice21],\n",
        "       simple_regret_exact_17[slice21],\n",
        "       simple_regret_exact_18[slice21],\n",
        "       simple_regret_exact_19[slice21],\n",
        "       simple_regret_exact_20[slice21]]\n",
        "\n",
        "approx21_results = pd.DataFrame(approx21).sort_values(by=[0], ascending=False)\n",
        "exact21_results = pd.DataFrame(exact21).sort_values(by=[0], ascending=False)\n",
        "\n",
        "### Best simple regret minimization IQR - approx:\n",
        "lower_approx21 = np.asarray(approx21_results[4:5][0])[0]\n",
        "median_approx21 = np.asarray(approx21_results[9:10][0])[0]\n",
        "upper_approx21 = np.asarray(approx21_results[14:15][0])[0]\n",
        "\n",
        "lower_exact21 = np.asarray(exact21_results[4:5][0])[0]\n",
        "median_exact21 = np.asarray(exact21_results[9:10][0])[0]\n",
        "upper_exact21 = np.asarray(exact21_results[14:15][0])[0]"
      ]
    },
    {
      "cell_type": "code",
      "execution_count": 78,
      "metadata": {
        "id": "PrRDB1kfQxf3"
      },
      "outputs": [],
      "source": [
        "# Iteration2 :\n",
        "\n",
        "slice2 = 1\n",
        "\n",
        "approx2 = [simple_regret_approx_1[slice2],\n",
        "       simple_regret_approx_2[slice2],\n",
        "       simple_regret_approx_3[slice2],\n",
        "       simple_regret_approx_4[slice2],\n",
        "       simple_regret_approx_5[slice2],\n",
        "       simple_regret_approx_6[slice2],\n",
        "       simple_regret_approx_7[slice2],\n",
        "       simple_regret_approx_8[slice2],\n",
        "       simple_regret_approx_9[slice2],\n",
        "       simple_regret_approx_10[slice2],\n",
        "       simple_regret_approx_11[slice2],\n",
        "       simple_regret_approx_12[slice2],\n",
        "       simple_regret_approx_13[slice2],\n",
        "       simple_regret_approx_14[slice2],\n",
        "       simple_regret_approx_15[slice2],\n",
        "       simple_regret_approx_16[slice2],\n",
        "       simple_regret_approx_17[slice2],\n",
        "       simple_regret_approx_18[slice2],\n",
        "       simple_regret_approx_19[slice2],\n",
        "       simple_regret_approx_20[slice2]]\n",
        "\n",
        "exact2 = [simple_regret_exact_1[slice2],\n",
        "       simple_regret_exact_2[slice2],\n",
        "       simple_regret_exact_3[slice2],\n",
        "       simple_regret_exact_4[slice2],\n",
        "       simple_regret_exact_5[slice2],\n",
        "       simple_regret_exact_6[slice2],\n",
        "       simple_regret_exact_7[slice2],\n",
        "       simple_regret_exact_8[slice2],\n",
        "       simple_regret_exact_9[slice2],\n",
        "       simple_regret_exact_10[slice2],\n",
        "       simple_regret_exact_11[slice2],\n",
        "       simple_regret_exact_12[slice2],\n",
        "       simple_regret_exact_13[slice2],\n",
        "       simple_regret_exact_14[slice2],\n",
        "       simple_regret_exact_15[slice2],\n",
        "       simple_regret_exact_16[slice2],\n",
        "       simple_regret_exact_17[slice2],\n",
        "       simple_regret_exact_18[slice2],\n",
        "       simple_regret_exact_19[slice2],\n",
        "       simple_regret_exact_20[slice2]]\n",
        "\n",
        "approx2_results = pd.DataFrame(approx2).sort_values(by=[0], ascending=False)\n",
        "exact2_results = pd.DataFrame(exact2).sort_values(by=[0], ascending=False)\n",
        "\n",
        "### Best simple regret minimization IQR - approx:\n",
        "lower_approx2 = np.asarray(approx2_results[4:5][0])[0]\n",
        "median_approx2 = np.asarray(approx2_results[9:10][0])[0]\n",
        "upper_approx2 = np.asarray(approx2_results[14:15][0])[0]\n",
        "\n",
        "lower_exact2 = np.asarray(exact2_results[4:5][0])[0]\n",
        "median_exact2 = np.asarray(exact2_results[9:10][0])[0]\n",
        "upper_exact2 = np.asarray(exact2_results[14:15][0])[0]"
      ]
    },
    {
      "cell_type": "code",
      "execution_count": 79,
      "metadata": {
        "id": "B8ncJDYeQxf3"
      },
      "outputs": [],
      "source": [
        "# Iteration12 :\n",
        "\n",
        "slice12 = 11\n",
        "\n",
        "approx12 = [simple_regret_approx_1[slice12],\n",
        "       simple_regret_approx_2[slice12],\n",
        "       simple_regret_approx_3[slice12],\n",
        "       simple_regret_approx_4[slice12],\n",
        "       simple_regret_approx_5[slice12],\n",
        "       simple_regret_approx_6[slice12],\n",
        "       simple_regret_approx_7[slice12],\n",
        "       simple_regret_approx_8[slice12],\n",
        "       simple_regret_approx_9[slice12],\n",
        "       simple_regret_approx_10[slice12],\n",
        "       simple_regret_approx_11[slice12],\n",
        "       simple_regret_approx_12[slice12],\n",
        "       simple_regret_approx_13[slice12],\n",
        "       simple_regret_approx_14[slice12],\n",
        "       simple_regret_approx_15[slice12],\n",
        "       simple_regret_approx_16[slice12],\n",
        "       simple_regret_approx_17[slice12],\n",
        "       simple_regret_approx_18[slice12],\n",
        "       simple_regret_approx_19[slice12],\n",
        "       simple_regret_approx_20[slice12]]\n",
        "\n",
        "exact12 = [simple_regret_exact_1[slice12],\n",
        "       simple_regret_exact_2[slice12],\n",
        "       simple_regret_exact_3[slice12],\n",
        "       simple_regret_exact_4[slice12],\n",
        "       simple_regret_exact_5[slice12],\n",
        "       simple_regret_exact_6[slice12],\n",
        "       simple_regret_exact_7[slice12],\n",
        "       simple_regret_exact_8[slice12],\n",
        "       simple_regret_exact_9[slice12],\n",
        "       simple_regret_exact_10[slice12],\n",
        "       simple_regret_exact_11[slice12],\n",
        "       simple_regret_exact_12[slice12],\n",
        "       simple_regret_exact_13[slice12],\n",
        "       simple_regret_exact_14[slice12],\n",
        "       simple_regret_exact_15[slice12],\n",
        "       simple_regret_exact_16[slice12],\n",
        "       simple_regret_exact_17[slice12],\n",
        "       simple_regret_exact_18[slice12],\n",
        "       simple_regret_exact_19[slice12],\n",
        "       simple_regret_exact_20[slice12]]\n",
        "\n",
        "approx12_results = pd.DataFrame(approx12).sort_values(by=[0], ascending=False)\n",
        "exact12_results = pd.DataFrame(exact12).sort_values(by=[0], ascending=False)\n",
        "\n",
        "### Best simple regret minimization IQR - approx:\n",
        "lower_approx12 = np.asarray(approx12_results[4:5][0])[0]\n",
        "median_approx12 = np.asarray(approx12_results[9:10][0])[0]\n",
        "upper_approx12 = np.asarray(approx12_results[14:15][0])[0]\n",
        "\n",
        "lower_exact12 = np.asarray(exact12_results[4:5][0])[0]\n",
        "median_exact12 = np.asarray(exact12_results[9:10][0])[0]\n",
        "upper_exact12 = np.asarray(exact12_results[14:15][0])[0]"
      ]
    },
    {
      "cell_type": "code",
      "execution_count": 80,
      "metadata": {
        "id": "Jn4KpGvcQxf4"
      },
      "outputs": [],
      "source": [
        "# Iteration3 :\n",
        "\n",
        "slice3 = 2\n",
        "\n",
        "approx3 = [simple_regret_approx_1[slice3],\n",
        "       simple_regret_approx_2[slice3],\n",
        "       simple_regret_approx_3[slice3],\n",
        "       simple_regret_approx_4[slice3],\n",
        "       simple_regret_approx_5[slice3],\n",
        "       simple_regret_approx_6[slice3],\n",
        "       simple_regret_approx_7[slice3],\n",
        "       simple_regret_approx_8[slice3],\n",
        "       simple_regret_approx_9[slice3],\n",
        "       simple_regret_approx_10[slice3],\n",
        "       simple_regret_approx_11[slice3],\n",
        "       simple_regret_approx_12[slice3],\n",
        "       simple_regret_approx_13[slice3],\n",
        "       simple_regret_approx_14[slice3],\n",
        "       simple_regret_approx_15[slice3],\n",
        "       simple_regret_approx_16[slice3],\n",
        "       simple_regret_approx_17[slice3],\n",
        "       simple_regret_approx_18[slice3],\n",
        "       simple_regret_approx_19[slice3],\n",
        "       simple_regret_approx_20[slice3]]\n",
        "\n",
        "exact3 = [simple_regret_exact_1[slice3],\n",
        "       simple_regret_exact_2[slice3],\n",
        "       simple_regret_exact_3[slice3],\n",
        "       simple_regret_exact_4[slice3],\n",
        "       simple_regret_exact_5[slice3],\n",
        "       simple_regret_exact_6[slice3],\n",
        "       simple_regret_exact_7[slice3],\n",
        "       simple_regret_exact_8[slice3],\n",
        "       simple_regret_exact_9[slice3],\n",
        "       simple_regret_exact_10[slice3],\n",
        "       simple_regret_exact_11[slice3],\n",
        "       simple_regret_exact_12[slice3],\n",
        "       simple_regret_exact_13[slice3],\n",
        "       simple_regret_exact_14[slice3],\n",
        "       simple_regret_exact_15[slice3],\n",
        "       simple_regret_exact_16[slice3],\n",
        "       simple_regret_exact_17[slice3],\n",
        "       simple_regret_exact_18[slice3],\n",
        "       simple_regret_exact_19[slice3],\n",
        "       simple_regret_exact_20[slice3]]\n",
        "\n",
        "approx3_results = pd.DataFrame(approx3).sort_values(by=[0], ascending=False)\n",
        "exact3_results = pd.DataFrame(exact3).sort_values(by=[0], ascending=False)\n",
        "\n",
        "### Best simple regret minimization IQR - approx:\n",
        "lower_approx3 = np.asarray(approx3_results[4:5][0])[0]\n",
        "median_approx3 = np.asarray(approx3_results[9:10][0])[0]\n",
        "upper_approx3 = np.asarray(approx3_results[14:15][0])[0]\n",
        "\n",
        "lower_exact3 = np.asarray(exact3_results[4:5][0])[0]\n",
        "median_exact3 = np.asarray(exact3_results[9:10][0])[0]\n",
        "upper_exact3 = np.asarray(exact3_results[14:15][0])[0]"
      ]
    },
    {
      "cell_type": "code",
      "execution_count": 81,
      "metadata": {
        "id": "plf83wxrQxf4"
      },
      "outputs": [],
      "source": [
        "# Iteration13 :\n",
        "\n",
        "slice13 = 12\n",
        "\n",
        "approx13 = [simple_regret_approx_1[slice13],\n",
        "       simple_regret_approx_2[slice13],\n",
        "       simple_regret_approx_3[slice13],\n",
        "       simple_regret_approx_4[slice13],\n",
        "       simple_regret_approx_5[slice13],\n",
        "       simple_regret_approx_6[slice13],\n",
        "       simple_regret_approx_7[slice13],\n",
        "       simple_regret_approx_8[slice13],\n",
        "       simple_regret_approx_9[slice13],\n",
        "       simple_regret_approx_10[slice13],\n",
        "       simple_regret_approx_11[slice13],\n",
        "       simple_regret_approx_12[slice13],\n",
        "       simple_regret_approx_13[slice13],\n",
        "       simple_regret_approx_14[slice13],\n",
        "       simple_regret_approx_15[slice13],\n",
        "       simple_regret_approx_16[slice13],\n",
        "       simple_regret_approx_17[slice13],\n",
        "       simple_regret_approx_18[slice13],\n",
        "       simple_regret_approx_19[slice13],\n",
        "       simple_regret_approx_20[slice13]]\n",
        "\n",
        "exact13 = [simple_regret_exact_1[slice13],\n",
        "       simple_regret_exact_2[slice13],\n",
        "       simple_regret_exact_3[slice13],\n",
        "       simple_regret_exact_4[slice13],\n",
        "       simple_regret_exact_5[slice13],\n",
        "       simple_regret_exact_6[slice13],\n",
        "       simple_regret_exact_7[slice13],\n",
        "       simple_regret_exact_8[slice13],\n",
        "       simple_regret_exact_9[slice13],\n",
        "       simple_regret_exact_10[slice13],\n",
        "       simple_regret_exact_11[slice13],\n",
        "       simple_regret_exact_12[slice13],\n",
        "       simple_regret_exact_13[slice13],\n",
        "       simple_regret_exact_14[slice13],\n",
        "       simple_regret_exact_15[slice13],\n",
        "       simple_regret_exact_16[slice13],\n",
        "       simple_regret_exact_17[slice13],\n",
        "       simple_regret_exact_18[slice13],\n",
        "       simple_regret_exact_19[slice13],\n",
        "       simple_regret_exact_20[slice13]]\n",
        "\n",
        "approx13_results = pd.DataFrame(approx13).sort_values(by=[0], ascending=False)\n",
        "exact13_results = pd.DataFrame(exact13).sort_values(by=[0], ascending=False)\n",
        "\n",
        "### Best simple regret minimization IQR - approx:\n",
        "lower_approx13 = np.asarray(approx13_results[4:5][0])[0]\n",
        "median_approx13 = np.asarray(approx13_results[9:10][0])[0]\n",
        "upper_approx13 = np.asarray(approx13_results[14:15][0])[0]\n",
        "\n",
        "lower_exact13 = np.asarray(exact13_results[4:5][0])[0]\n",
        "median_exact13 = np.asarray(exact13_results[9:10][0])[0]\n",
        "upper_exact13 = np.asarray(exact13_results[14:15][0])[0]"
      ]
    },
    {
      "cell_type": "code",
      "execution_count": 82,
      "metadata": {
        "id": "9A7mlVvJQxf5"
      },
      "outputs": [],
      "source": [
        "# Iteration4 :\n",
        "\n",
        "slice4 = 3\n",
        "\n",
        "approx4 = [simple_regret_approx_1[slice4],\n",
        "       simple_regret_approx_2[slice4],\n",
        "       simple_regret_approx_3[slice4],\n",
        "       simple_regret_approx_4[slice4],\n",
        "       simple_regret_approx_5[slice4],\n",
        "       simple_regret_approx_6[slice4],\n",
        "       simple_regret_approx_7[slice4],\n",
        "       simple_regret_approx_8[slice4],\n",
        "       simple_regret_approx_9[slice4],\n",
        "       simple_regret_approx_10[slice4],\n",
        "       simple_regret_approx_11[slice4],\n",
        "       simple_regret_approx_12[slice4],\n",
        "       simple_regret_approx_13[slice4],\n",
        "       simple_regret_approx_14[slice4],\n",
        "       simple_regret_approx_15[slice4],\n",
        "       simple_regret_approx_16[slice4],\n",
        "       simple_regret_approx_17[slice4],\n",
        "       simple_regret_approx_18[slice4],\n",
        "       simple_regret_approx_19[slice4],\n",
        "       simple_regret_approx_20[slice4]]\n",
        "\n",
        "exact4 = [simple_regret_exact_1[slice4],\n",
        "       simple_regret_exact_2[slice4],\n",
        "       simple_regret_exact_3[slice4],\n",
        "       simple_regret_exact_4[slice4],\n",
        "       simple_regret_exact_5[slice4],\n",
        "       simple_regret_exact_6[slice4],\n",
        "       simple_regret_exact_7[slice4],\n",
        "       simple_regret_exact_8[slice4],\n",
        "       simple_regret_exact_9[slice4],\n",
        "       simple_regret_exact_10[slice4],\n",
        "       simple_regret_exact_11[slice4],\n",
        "       simple_regret_exact_12[slice4],\n",
        "       simple_regret_exact_13[slice4],\n",
        "       simple_regret_exact_14[slice4],\n",
        "       simple_regret_exact_15[slice4],\n",
        "       simple_regret_exact_16[slice4],\n",
        "       simple_regret_exact_17[slice4],\n",
        "       simple_regret_exact_18[slice4],\n",
        "       simple_regret_exact_19[slice4],\n",
        "       simple_regret_exact_20[slice4]]\n",
        "\n",
        "approx4_results = pd.DataFrame(approx4).sort_values(by=[0], ascending=False)\n",
        "exact4_results = pd.DataFrame(exact4).sort_values(by=[0], ascending=False)\n",
        "\n",
        "### Best simple regret minimization IQR - approx:\n",
        "lower_approx4 = np.asarray(approx4_results[4:5][0])[0]\n",
        "median_approx4 = np.asarray(approx4_results[9:10][0])[0]\n",
        "upper_approx4 = np.asarray(approx4_results[14:15][0])[0]\n",
        "\n",
        "lower_exact4 = np.asarray(exact4_results[4:5][0])[0]\n",
        "median_exact4 = np.asarray(exact4_results[9:10][0])[0]\n",
        "upper_exact4 = np.asarray(exact4_results[14:15][0])[0]"
      ]
    },
    {
      "cell_type": "code",
      "execution_count": 83,
      "metadata": {
        "id": "ijq-rioYQxf5"
      },
      "outputs": [],
      "source": [
        "# Iteration14 :\n",
        "\n",
        "slice14 = 13\n",
        "\n",
        "approx14 = [simple_regret_approx_1[slice14],\n",
        "       simple_regret_approx_2[slice14],\n",
        "       simple_regret_approx_3[slice14],\n",
        "       simple_regret_approx_4[slice14],\n",
        "       simple_regret_approx_5[slice14],\n",
        "       simple_regret_approx_6[slice14],\n",
        "       simple_regret_approx_7[slice14],\n",
        "       simple_regret_approx_8[slice14],\n",
        "       simple_regret_approx_9[slice14],\n",
        "       simple_regret_approx_10[slice14],\n",
        "       simple_regret_approx_11[slice14],\n",
        "       simple_regret_approx_12[slice14],\n",
        "       simple_regret_approx_13[slice14],\n",
        "       simple_regret_approx_14[slice14],\n",
        "       simple_regret_approx_15[slice14],\n",
        "       simple_regret_approx_16[slice14],\n",
        "       simple_regret_approx_17[slice14],\n",
        "       simple_regret_approx_18[slice14],\n",
        "       simple_regret_approx_19[slice14],\n",
        "       simple_regret_approx_20[slice14]]\n",
        "\n",
        "exact14 = [simple_regret_exact_1[slice14],\n",
        "       simple_regret_exact_2[slice14],\n",
        "       simple_regret_exact_3[slice14],\n",
        "       simple_regret_exact_4[slice14],\n",
        "       simple_regret_exact_5[slice14],\n",
        "       simple_regret_exact_6[slice14],\n",
        "       simple_regret_exact_7[slice14],\n",
        "       simple_regret_exact_8[slice14],\n",
        "       simple_regret_exact_9[slice14],\n",
        "       simple_regret_exact_10[slice14],\n",
        "       simple_regret_exact_11[slice14],\n",
        "       simple_regret_exact_12[slice14],\n",
        "       simple_regret_exact_13[slice14],\n",
        "       simple_regret_exact_14[slice14],\n",
        "       simple_regret_exact_15[slice14],\n",
        "       simple_regret_exact_16[slice14],\n",
        "       simple_regret_exact_17[slice14],\n",
        "       simple_regret_exact_18[slice14],\n",
        "       simple_regret_exact_19[slice14],\n",
        "       simple_regret_exact_20[slice14]]\n",
        "\n",
        "approx14_results = pd.DataFrame(approx14).sort_values(by=[0], ascending=False)\n",
        "exact14_results = pd.DataFrame(exact14).sort_values(by=[0], ascending=False)\n",
        "\n",
        "### Best simple regret minimization IQR - approx:\n",
        "lower_approx14 = np.asarray(approx14_results[4:5][0])[0]\n",
        "median_approx14 = np.asarray(approx14_results[9:10][0])[0]\n",
        "upper_approx14 = np.asarray(approx14_results[14:15][0])[0]\n",
        "\n",
        "lower_exact14 = np.asarray(exact14_results[4:5][0])[0]\n",
        "median_exact14 = np.asarray(exact14_results[9:10][0])[0]\n",
        "upper_exact14 = np.asarray(exact14_results[14:15][0])[0]"
      ]
    },
    {
      "cell_type": "code",
      "execution_count": 84,
      "metadata": {
        "id": "XINlZjoTd-ZK"
      },
      "outputs": [],
      "source": [
        "# Iteration5 :\n",
        "\n",
        "slice5 = 4\n",
        "\n",
        "approx5 = [simple_regret_approx_1[slice5],\n",
        "       simple_regret_approx_2[slice5],\n",
        "       simple_regret_approx_3[slice5],\n",
        "       simple_regret_approx_4[slice5],\n",
        "       simple_regret_approx_5[slice5],\n",
        "       simple_regret_approx_6[slice5],\n",
        "       simple_regret_approx_7[slice5],\n",
        "       simple_regret_approx_8[slice5],\n",
        "       simple_regret_approx_9[slice5],\n",
        "       simple_regret_approx_10[slice5],\n",
        "       simple_regret_approx_11[slice5],\n",
        "       simple_regret_approx_12[slice5],\n",
        "       simple_regret_approx_13[slice5],\n",
        "       simple_regret_approx_14[slice5],\n",
        "       simple_regret_approx_15[slice5],\n",
        "       simple_regret_approx_16[slice5],\n",
        "       simple_regret_approx_17[slice5],\n",
        "       simple_regret_approx_18[slice5],\n",
        "       simple_regret_approx_19[slice5],\n",
        "       simple_regret_approx_20[slice5]]\n",
        "\n",
        "exact5 = [simple_regret_exact_1[slice5],\n",
        "       simple_regret_exact_2[slice5],\n",
        "       simple_regret_exact_3[slice5],\n",
        "       simple_regret_exact_4[slice5],\n",
        "       simple_regret_exact_5[slice5],\n",
        "       simple_regret_exact_6[slice5],\n",
        "       simple_regret_exact_7[slice5],\n",
        "       simple_regret_exact_8[slice5],\n",
        "       simple_regret_exact_9[slice5],\n",
        "       simple_regret_exact_10[slice5],\n",
        "       simple_regret_exact_11[slice5],\n",
        "       simple_regret_exact_12[slice5],\n",
        "       simple_regret_exact_13[slice5],\n",
        "       simple_regret_exact_14[slice5],\n",
        "       simple_regret_exact_15[slice5],\n",
        "       simple_regret_exact_16[slice5],\n",
        "       simple_regret_exact_17[slice5],\n",
        "       simple_regret_exact_18[slice5],\n",
        "       simple_regret_exact_19[slice5],\n",
        "       simple_regret_exact_20[slice5]]\n",
        "\n",
        "approx5_results = pd.DataFrame(approx5).sort_values(by=[0], ascending=False)\n",
        "exact5_results = pd.DataFrame(exact5).sort_values(by=[0], ascending=False)\n",
        "\n",
        "### Best simple regret minimization IQR - approx:\n",
        "lower_approx5 = np.asarray(approx5_results[4:5][0])[0]\n",
        "median_approx5 = np.asarray(approx5_results[9:10][0])[0]\n",
        "upper_approx5 = np.asarray(approx5_results[14:15][0])[0]\n",
        "\n",
        "lower_exact5 = np.asarray(exact5_results[4:5][0])[0]\n",
        "median_exact5 = np.asarray(exact5_results[9:10][0])[0]\n",
        "upper_exact5 = np.asarray(exact5_results[14:15][0])[0]"
      ]
    },
    {
      "cell_type": "code",
      "execution_count": 85,
      "metadata": {
        "id": "4aZ7C8sOQxf6"
      },
      "outputs": [],
      "source": [
        "# Iteration15 :\n",
        "\n",
        "slice15 = 14\n",
        "\n",
        "approx15 = [simple_regret_approx_1[slice15],\n",
        "       simple_regret_approx_2[slice15],\n",
        "       simple_regret_approx_3[slice15],\n",
        "       simple_regret_approx_4[slice15],\n",
        "       simple_regret_approx_5[slice15],\n",
        "       simple_regret_approx_6[slice15],\n",
        "       simple_regret_approx_7[slice15],\n",
        "       simple_regret_approx_8[slice15],\n",
        "       simple_regret_approx_9[slice15],\n",
        "       simple_regret_approx_10[slice15],\n",
        "       simple_regret_approx_11[slice15],\n",
        "       simple_regret_approx_12[slice15],\n",
        "       simple_regret_approx_13[slice15],\n",
        "       simple_regret_approx_14[slice15],\n",
        "       simple_regret_approx_15[slice15],\n",
        "       simple_regret_approx_16[slice15],\n",
        "       simple_regret_approx_17[slice15],\n",
        "       simple_regret_approx_18[slice15],\n",
        "       simple_regret_approx_19[slice15],\n",
        "       simple_regret_approx_20[slice15]]\n",
        "\n",
        "exact15 = [simple_regret_exact_1[slice15],\n",
        "       simple_regret_exact_2[slice15],\n",
        "       simple_regret_exact_3[slice15],\n",
        "       simple_regret_exact_4[slice15],\n",
        "       simple_regret_exact_5[slice15],\n",
        "       simple_regret_exact_6[slice15],\n",
        "       simple_regret_exact_7[slice15],\n",
        "       simple_regret_exact_8[slice15],\n",
        "       simple_regret_exact_9[slice15],\n",
        "       simple_regret_exact_10[slice15],\n",
        "       simple_regret_exact_11[slice15],\n",
        "       simple_regret_exact_12[slice15],\n",
        "       simple_regret_exact_13[slice15],\n",
        "       simple_regret_exact_14[slice15],\n",
        "       simple_regret_exact_15[slice15],\n",
        "       simple_regret_exact_16[slice15],\n",
        "       simple_regret_exact_17[slice15],\n",
        "       simple_regret_exact_18[slice15],\n",
        "       simple_regret_exact_19[slice15],\n",
        "       simple_regret_exact_20[slice15]]\n",
        "\n",
        "approx15_results = pd.DataFrame(approx15).sort_values(by=[0], ascending=False)\n",
        "exact15_results = pd.DataFrame(exact15).sort_values(by=[0], ascending=False)\n",
        "\n",
        "### Best simple regret minimization IQR - approx:\n",
        "lower_approx15 = np.asarray(approx15_results[4:5][0])[0]\n",
        "median_approx15 = np.asarray(approx15_results[9:10][0])[0]\n",
        "upper_approx15 = np.asarray(approx15_results[14:15][0])[0]\n",
        "\n",
        "lower_exact15 = np.asarray(exact15_results[4:5][0])[0]\n",
        "median_exact15 = np.asarray(exact15_results[9:10][0])[0]\n",
        "upper_exact15 = np.asarray(exact15_results[14:15][0])[0]"
      ]
    },
    {
      "cell_type": "code",
      "execution_count": 86,
      "metadata": {
        "id": "KJINKhv1Qxf6"
      },
      "outputs": [],
      "source": [
        "# Iteration6 :\n",
        "\n",
        "slice6 = 5\n",
        "\n",
        "approx6 = [simple_regret_approx_1[slice6],\n",
        "       simple_regret_approx_2[slice6],\n",
        "       simple_regret_approx_3[slice6],\n",
        "       simple_regret_approx_4[slice6],\n",
        "       simple_regret_approx_5[slice6],\n",
        "       simple_regret_approx_6[slice6],\n",
        "       simple_regret_approx_7[slice6],\n",
        "       simple_regret_approx_8[slice6],\n",
        "       simple_regret_approx_9[slice6],\n",
        "       simple_regret_approx_10[slice6],\n",
        "       simple_regret_approx_11[slice6],\n",
        "       simple_regret_approx_12[slice6],\n",
        "       simple_regret_approx_13[slice6],\n",
        "       simple_regret_approx_14[slice6],\n",
        "       simple_regret_approx_15[slice6],\n",
        "       simple_regret_approx_16[slice6],\n",
        "       simple_regret_approx_17[slice6],\n",
        "       simple_regret_approx_18[slice6],\n",
        "       simple_regret_approx_19[slice6],\n",
        "       simple_regret_approx_20[slice6]]\n",
        "\n",
        "exact6 = [simple_regret_exact_1[slice6],\n",
        "       simple_regret_exact_2[slice6],\n",
        "       simple_regret_exact_3[slice6],\n",
        "       simple_regret_exact_4[slice6],\n",
        "       simple_regret_exact_5[slice6],\n",
        "       simple_regret_exact_6[slice6],\n",
        "       simple_regret_exact_7[slice6],\n",
        "       simple_regret_exact_8[slice6],\n",
        "       simple_regret_exact_9[slice6],\n",
        "       simple_regret_exact_10[slice6],\n",
        "       simple_regret_exact_11[slice6],\n",
        "       simple_regret_exact_12[slice6],\n",
        "       simple_regret_exact_13[slice6],\n",
        "       simple_regret_exact_14[slice6],\n",
        "       simple_regret_exact_15[slice6],\n",
        "       simple_regret_exact_16[slice6],\n",
        "       simple_regret_exact_17[slice6],\n",
        "       simple_regret_exact_18[slice6],\n",
        "       simple_regret_exact_19[slice6],\n",
        "       simple_regret_exact_20[slice6]]\n",
        "\n",
        "approx6_results = pd.DataFrame(approx6).sort_values(by=[0], ascending=False)\n",
        "exact6_results = pd.DataFrame(exact6).sort_values(by=[0], ascending=False)\n",
        "\n",
        "### Best simple regret minimization IQR - approx:\n",
        "lower_approx6 = np.asarray(approx6_results[4:5][0])[0]\n",
        "median_approx6 = np.asarray(approx6_results[9:10][0])[0]\n",
        "upper_approx6 = np.asarray(approx6_results[14:15][0])[0]\n",
        "\n",
        "lower_exact6 = np.asarray(exact6_results[4:5][0])[0]\n",
        "median_exact6 = np.asarray(exact6_results[9:10][0])[0]\n",
        "upper_exact6 = np.asarray(exact6_results[14:15][0])[0]"
      ]
    },
    {
      "cell_type": "code",
      "execution_count": 87,
      "metadata": {
        "id": "nwC5N1FsQxf7"
      },
      "outputs": [],
      "source": [
        "# Iteration16 :\n",
        "\n",
        "slice16 = 15\n",
        "\n",
        "approx16 = [simple_regret_approx_1[slice16],\n",
        "       simple_regret_approx_2[slice16],\n",
        "       simple_regret_approx_3[slice16],\n",
        "       simple_regret_approx_4[slice16],\n",
        "       simple_regret_approx_5[slice16],\n",
        "       simple_regret_approx_6[slice16],\n",
        "       simple_regret_approx_7[slice16],\n",
        "       simple_regret_approx_8[slice16],\n",
        "       simple_regret_approx_9[slice16],\n",
        "       simple_regret_approx_10[slice16],\n",
        "       simple_regret_approx_11[slice16],\n",
        "       simple_regret_approx_12[slice16],\n",
        "       simple_regret_approx_13[slice16],\n",
        "       simple_regret_approx_14[slice16],\n",
        "       simple_regret_approx_15[slice16],\n",
        "       simple_regret_approx_16[slice16],\n",
        "       simple_regret_approx_17[slice16],\n",
        "       simple_regret_approx_18[slice16],\n",
        "       simple_regret_approx_19[slice16],\n",
        "       simple_regret_approx_20[slice16]]\n",
        "\n",
        "exact16 = [simple_regret_exact_1[slice16],\n",
        "       simple_regret_exact_2[slice16],\n",
        "       simple_regret_exact_3[slice16],\n",
        "       simple_regret_exact_4[slice16],\n",
        "       simple_regret_exact_5[slice16],\n",
        "       simple_regret_exact_6[slice16],\n",
        "       simple_regret_exact_7[slice16],\n",
        "       simple_regret_exact_8[slice16],\n",
        "       simple_regret_exact_9[slice16],\n",
        "       simple_regret_exact_10[slice16],\n",
        "       simple_regret_exact_11[slice16],\n",
        "       simple_regret_exact_12[slice16],\n",
        "       simple_regret_exact_13[slice16],\n",
        "       simple_regret_exact_14[slice16],\n",
        "       simple_regret_exact_15[slice16],\n",
        "       simple_regret_exact_16[slice16],\n",
        "       simple_regret_exact_17[slice16],\n",
        "       simple_regret_exact_18[slice16],\n",
        "       simple_regret_exact_19[slice16],\n",
        "       simple_regret_exact_20[slice16]]\n",
        "\n",
        "approx16_results = pd.DataFrame(approx16).sort_values(by=[0], ascending=False)\n",
        "exact16_results = pd.DataFrame(exact16).sort_values(by=[0], ascending=False)\n",
        "\n",
        "### Best simple regret minimization IQR - approx:\n",
        "lower_approx16 = np.asarray(approx16_results[4:5][0])[0]\n",
        "median_approx16 = np.asarray(approx16_results[9:10][0])[0]\n",
        "upper_approx16 = np.asarray(approx16_results[14:15][0])[0]\n",
        "\n",
        "lower_exact16 = np.asarray(exact16_results[4:5][0])[0]\n",
        "median_exact16 = np.asarray(exact16_results[9:10][0])[0]\n",
        "upper_exact16 = np.asarray(exact16_results[14:15][0])[0]"
      ]
    },
    {
      "cell_type": "code",
      "execution_count": 88,
      "metadata": {
        "id": "TrPV0AfnQxf7"
      },
      "outputs": [],
      "source": [
        "# Iteration7 :\n",
        "\n",
        "slice7 = 6\n",
        "\n",
        "approx7 = [simple_regret_approx_1[slice7],\n",
        "       simple_regret_approx_2[slice7],\n",
        "       simple_regret_approx_3[slice7],\n",
        "       simple_regret_approx_4[slice7],\n",
        "       simple_regret_approx_5[slice7],\n",
        "       simple_regret_approx_6[slice7],\n",
        "       simple_regret_approx_7[slice7],\n",
        "       simple_regret_approx_8[slice7],\n",
        "       simple_regret_approx_9[slice7],\n",
        "       simple_regret_approx_10[slice7],\n",
        "       simple_regret_approx_11[slice7],\n",
        "       simple_regret_approx_12[slice7],\n",
        "       simple_regret_approx_13[slice7],\n",
        "       simple_regret_approx_14[slice7],\n",
        "       simple_regret_approx_15[slice7],\n",
        "       simple_regret_approx_16[slice7],\n",
        "       simple_regret_approx_17[slice7],\n",
        "       simple_regret_approx_18[slice7],\n",
        "       simple_regret_approx_19[slice7],\n",
        "       simple_regret_approx_20[slice7]]\n",
        "\n",
        "exact7 = [simple_regret_exact_1[slice7],\n",
        "       simple_regret_exact_2[slice7],\n",
        "       simple_regret_exact_3[slice7],\n",
        "       simple_regret_exact_4[slice7],\n",
        "       simple_regret_exact_5[slice7],\n",
        "       simple_regret_exact_6[slice7],\n",
        "       simple_regret_exact_7[slice7],\n",
        "       simple_regret_exact_8[slice7],\n",
        "       simple_regret_exact_9[slice7],\n",
        "       simple_regret_exact_10[slice7],\n",
        "       simple_regret_exact_11[slice7],\n",
        "       simple_regret_exact_12[slice7],\n",
        "       simple_regret_exact_13[slice7],\n",
        "       simple_regret_exact_14[slice7],\n",
        "       simple_regret_exact_15[slice7],\n",
        "       simple_regret_exact_16[slice7],\n",
        "       simple_regret_exact_17[slice7],\n",
        "       simple_regret_exact_18[slice7],\n",
        "       simple_regret_exact_19[slice7],\n",
        "       simple_regret_exact_20[slice7]]\n",
        "\n",
        "approx7_results = pd.DataFrame(approx7).sort_values(by=[0], ascending=False)\n",
        "exact7_results = pd.DataFrame(exact7).sort_values(by=[0], ascending=False)\n",
        "\n",
        "### Best simple regret minimization IQR - approx:\n",
        "lower_approx7 = np.asarray(approx7_results[4:5][0])[0]\n",
        "median_approx7 = np.asarray(approx7_results[9:10][0])[0]\n",
        "upper_approx7 = np.asarray(approx7_results[14:15][0])[0]\n",
        "\n",
        "lower_exact7 = np.asarray(exact7_results[4:5][0])[0]\n",
        "median_exact7 = np.asarray(exact7_results[9:10][0])[0]\n",
        "upper_exact7 = np.asarray(exact7_results[14:15][0])[0]"
      ]
    },
    {
      "cell_type": "code",
      "execution_count": 89,
      "metadata": {
        "id": "Ub_-wpK4Qxf8"
      },
      "outputs": [],
      "source": [
        "# Iteration17 :\n",
        "\n",
        "slice17 = 16\n",
        "\n",
        "approx17 = [simple_regret_approx_1[slice17],\n",
        "       simple_regret_approx_2[slice17],\n",
        "       simple_regret_approx_3[slice17],\n",
        "       simple_regret_approx_4[slice17],\n",
        "       simple_regret_approx_5[slice17],\n",
        "       simple_regret_approx_6[slice17],\n",
        "       simple_regret_approx_7[slice17],\n",
        "       simple_regret_approx_8[slice17],\n",
        "       simple_regret_approx_9[slice17],\n",
        "       simple_regret_approx_10[slice17],\n",
        "       simple_regret_approx_11[slice17],\n",
        "       simple_regret_approx_12[slice17],\n",
        "       simple_regret_approx_13[slice17],\n",
        "       simple_regret_approx_14[slice17],\n",
        "       simple_regret_approx_15[slice17],\n",
        "       simple_regret_approx_16[slice17],\n",
        "       simple_regret_approx_17[slice17],\n",
        "       simple_regret_approx_18[slice17],\n",
        "       simple_regret_approx_19[slice17],\n",
        "       simple_regret_approx_20[slice17]]\n",
        "\n",
        "exact17 = [simple_regret_exact_1[slice17],\n",
        "       simple_regret_exact_2[slice17],\n",
        "       simple_regret_exact_3[slice17],\n",
        "       simple_regret_exact_4[slice17],\n",
        "       simple_regret_exact_5[slice17],\n",
        "       simple_regret_exact_6[slice17],\n",
        "       simple_regret_exact_7[slice17],\n",
        "       simple_regret_exact_8[slice17],\n",
        "       simple_regret_exact_9[slice17],\n",
        "       simple_regret_exact_10[slice17],\n",
        "       simple_regret_exact_11[slice17],\n",
        "       simple_regret_exact_12[slice17],\n",
        "       simple_regret_exact_13[slice17],\n",
        "       simple_regret_exact_14[slice17],\n",
        "       simple_regret_exact_15[slice17],\n",
        "       simple_regret_exact_16[slice17],\n",
        "       simple_regret_exact_17[slice17],\n",
        "       simple_regret_exact_18[slice17],\n",
        "       simple_regret_exact_19[slice17],\n",
        "       simple_regret_exact_20[slice17]]\n",
        "\n",
        "approx17_results = pd.DataFrame(approx17).sort_values(by=[0], ascending=False)\n",
        "exact17_results = pd.DataFrame(exact17).sort_values(by=[0], ascending=False)\n",
        "\n",
        "### Best simple regret minimization IQR - approx:\n",
        "lower_approx17 = np.asarray(approx17_results[4:5][0])[0]\n",
        "median_approx17 = np.asarray(approx17_results[9:10][0])[0]\n",
        "upper_approx17 = np.asarray(approx17_results[14:15][0])[0]\n",
        "\n",
        "lower_exact17 = np.asarray(exact17_results[4:5][0])[0]\n",
        "median_exact17 = np.asarray(exact17_results[9:10][0])[0]\n",
        "upper_exact17 = np.asarray(exact17_results[14:15][0])[0]"
      ]
    },
    {
      "cell_type": "code",
      "execution_count": 90,
      "metadata": {
        "id": "-6VLo37PQxf8"
      },
      "outputs": [],
      "source": [
        "# Iteration8 :\n",
        "\n",
        "slice8 = 7\n",
        "\n",
        "approx8 = [simple_regret_approx_1[slice8],\n",
        "       simple_regret_approx_2[slice8],\n",
        "       simple_regret_approx_3[slice8],\n",
        "       simple_regret_approx_4[slice8],\n",
        "       simple_regret_approx_5[slice8],\n",
        "       simple_regret_approx_6[slice8],\n",
        "       simple_regret_approx_7[slice8],\n",
        "       simple_regret_approx_8[slice8],\n",
        "       simple_regret_approx_9[slice8],\n",
        "       simple_regret_approx_10[slice8],\n",
        "       simple_regret_approx_11[slice8],\n",
        "       simple_regret_approx_12[slice8],\n",
        "       simple_regret_approx_13[slice8],\n",
        "       simple_regret_approx_14[slice8],\n",
        "       simple_regret_approx_15[slice8],\n",
        "       simple_regret_approx_16[slice8],\n",
        "       simple_regret_approx_17[slice8],\n",
        "       simple_regret_approx_18[slice8],\n",
        "       simple_regret_approx_19[slice8],\n",
        "       simple_regret_approx_20[slice8]]\n",
        "\n",
        "exact8 = [simple_regret_exact_1[slice8],\n",
        "       simple_regret_exact_2[slice8],\n",
        "       simple_regret_exact_3[slice8],\n",
        "       simple_regret_exact_4[slice8],\n",
        "       simple_regret_exact_5[slice8],\n",
        "       simple_regret_exact_6[slice8],\n",
        "       simple_regret_exact_7[slice8],\n",
        "       simple_regret_exact_8[slice8],\n",
        "       simple_regret_exact_9[slice8],\n",
        "       simple_regret_exact_10[slice8],\n",
        "       simple_regret_exact_11[slice8],\n",
        "       simple_regret_exact_12[slice8],\n",
        "       simple_regret_exact_13[slice8],\n",
        "       simple_regret_exact_14[slice8],\n",
        "       simple_regret_exact_15[slice8],\n",
        "       simple_regret_exact_16[slice8],\n",
        "       simple_regret_exact_17[slice8],\n",
        "       simple_regret_exact_18[slice8],\n",
        "       simple_regret_exact_19[slice8],\n",
        "       simple_regret_exact_20[slice8]]\n",
        "\n",
        "approx8_results = pd.DataFrame(approx8).sort_values(by=[0], ascending=False)\n",
        "exact8_results = pd.DataFrame(exact8).sort_values(by=[0], ascending=False)\n",
        "\n",
        "### Best simple regret minimization IQR - approx:\n",
        "lower_approx8 = np.asarray(approx8_results[4:5][0])[0]\n",
        "median_approx8 = np.asarray(approx8_results[9:10][0])[0]\n",
        "upper_approx8 = np.asarray(approx8_results[14:15][0])[0]\n",
        "\n",
        "lower_exact8 = np.asarray(exact8_results[4:5][0])[0]\n",
        "median_exact8 = np.asarray(exact8_results[9:10][0])[0]\n",
        "upper_exact8 = np.asarray(exact8_results[14:15][0])[0]"
      ]
    },
    {
      "cell_type": "code",
      "execution_count": 91,
      "metadata": {
        "id": "2Dp-9CC2Qxf9"
      },
      "outputs": [],
      "source": [
        "# Iteration18 :\n",
        "\n",
        "slice18 = 17\n",
        "\n",
        "approx18 = [simple_regret_approx_1[slice18],\n",
        "       simple_regret_approx_2[slice18],\n",
        "       simple_regret_approx_3[slice18],\n",
        "       simple_regret_approx_4[slice18],\n",
        "       simple_regret_approx_5[slice18],\n",
        "       simple_regret_approx_6[slice18],\n",
        "       simple_regret_approx_7[slice18],\n",
        "       simple_regret_approx_8[slice18],\n",
        "       simple_regret_approx_9[slice18],\n",
        "       simple_regret_approx_10[slice18],\n",
        "       simple_regret_approx_11[slice18],\n",
        "       simple_regret_approx_12[slice18],\n",
        "       simple_regret_approx_13[slice18],\n",
        "       simple_regret_approx_14[slice18],\n",
        "       simple_regret_approx_15[slice18],\n",
        "       simple_regret_approx_16[slice18],\n",
        "       simple_regret_approx_17[slice18],\n",
        "       simple_regret_approx_18[slice18],\n",
        "       simple_regret_approx_19[slice18],\n",
        "       simple_regret_approx_20[slice18]]\n",
        "\n",
        "exact18 = [simple_regret_exact_1[slice18],\n",
        "       simple_regret_exact_2[slice18],\n",
        "       simple_regret_exact_3[slice18],\n",
        "       simple_regret_exact_4[slice18],\n",
        "       simple_regret_exact_5[slice18],\n",
        "       simple_regret_exact_6[slice18],\n",
        "       simple_regret_exact_7[slice18],\n",
        "       simple_regret_exact_8[slice18],\n",
        "       simple_regret_exact_9[slice18],\n",
        "       simple_regret_exact_10[slice18],\n",
        "       simple_regret_exact_11[slice18],\n",
        "       simple_regret_exact_12[slice18],\n",
        "       simple_regret_exact_13[slice18],\n",
        "       simple_regret_exact_14[slice18],\n",
        "       simple_regret_exact_15[slice18],\n",
        "       simple_regret_exact_16[slice18],\n",
        "       simple_regret_exact_17[slice18],\n",
        "       simple_regret_exact_18[slice18],\n",
        "       simple_regret_exact_19[slice18],\n",
        "       simple_regret_exact_20[slice18]]\n",
        "\n",
        "approx18_results = pd.DataFrame(approx18).sort_values(by=[0], ascending=False)\n",
        "exact18_results = pd.DataFrame(exact18).sort_values(by=[0], ascending=False)\n",
        "\n",
        "### Best simple regret minimization IQR - approx:\n",
        "lower_approx18 = np.asarray(approx18_results[4:5][0])[0]\n",
        "median_approx18 = np.asarray(approx18_results[9:10][0])[0]\n",
        "upper_approx18 = np.asarray(approx18_results[14:15][0])[0]\n",
        "\n",
        "lower_exact18 = np.asarray(exact18_results[4:5][0])[0]\n",
        "median_exact18 = np.asarray(exact18_results[9:10][0])[0]\n",
        "upper_exact18 = np.asarray(exact18_results[14:15][0])[0]"
      ]
    },
    {
      "cell_type": "code",
      "execution_count": 92,
      "metadata": {
        "id": "SqiaOpB7Qxf9"
      },
      "outputs": [],
      "source": [
        "# Iteration9 :\n",
        "\n",
        "slice9 = 8\n",
        "\n",
        "approx9 = [simple_regret_approx_1[slice9],\n",
        "       simple_regret_approx_2[slice9],\n",
        "       simple_regret_approx_3[slice9],\n",
        "       simple_regret_approx_4[slice9],\n",
        "       simple_regret_approx_5[slice9],\n",
        "       simple_regret_approx_6[slice9],\n",
        "       simple_regret_approx_7[slice9],\n",
        "       simple_regret_approx_8[slice9],\n",
        "       simple_regret_approx_9[slice9],\n",
        "       simple_regret_approx_10[slice9],\n",
        "       simple_regret_approx_11[slice9],\n",
        "       simple_regret_approx_12[slice9],\n",
        "       simple_regret_approx_13[slice9],\n",
        "       simple_regret_approx_14[slice9],\n",
        "       simple_regret_approx_15[slice9],\n",
        "       simple_regret_approx_16[slice9],\n",
        "       simple_regret_approx_17[slice9],\n",
        "       simple_regret_approx_18[slice9],\n",
        "       simple_regret_approx_19[slice9],\n",
        "       simple_regret_approx_20[slice9]]\n",
        "\n",
        "exact9 = [simple_regret_exact_1[slice9],\n",
        "       simple_regret_exact_2[slice9],\n",
        "       simple_regret_exact_3[slice9],\n",
        "       simple_regret_exact_4[slice9],\n",
        "       simple_regret_exact_5[slice9],\n",
        "       simple_regret_exact_6[slice9],\n",
        "       simple_regret_exact_7[slice9],\n",
        "       simple_regret_exact_8[slice9],\n",
        "       simple_regret_exact_9[slice9],\n",
        "       simple_regret_exact_10[slice9],\n",
        "       simple_regret_exact_11[slice9],\n",
        "       simple_regret_exact_12[slice9],\n",
        "       simple_regret_exact_13[slice9],\n",
        "       simple_regret_exact_14[slice9],\n",
        "       simple_regret_exact_15[slice9],\n",
        "       simple_regret_exact_16[slice9],\n",
        "       simple_regret_exact_17[slice9],\n",
        "       simple_regret_exact_18[slice9],\n",
        "       simple_regret_exact_19[slice9],\n",
        "       simple_regret_exact_20[slice9]]\n",
        "\n",
        "approx9_results = pd.DataFrame(approx9).sort_values(by=[0], ascending=False)\n",
        "exact9_results = pd.DataFrame(exact9).sort_values(by=[0], ascending=False)\n",
        "\n",
        "### Best simple regret minimization IQR - approx:\n",
        "lower_approx9 = np.asarray(approx9_results[4:5][0])[0]\n",
        "median_approx9 = np.asarray(approx9_results[9:10][0])[0]\n",
        "upper_approx9 = np.asarray(approx9_results[14:15][0])[0]\n",
        "\n",
        "lower_exact9 = np.asarray(exact9_results[4:5][0])[0]\n",
        "median_exact9 = np.asarray(exact9_results[9:10][0])[0]\n",
        "upper_exact9 = np.asarray(exact9_results[14:15][0])[0]"
      ]
    },
    {
      "cell_type": "code",
      "execution_count": 93,
      "metadata": {
        "id": "OQkCCOsPQxf9"
      },
      "outputs": [],
      "source": [
        "# Iteration19 :\n",
        "\n",
        "slice19 = 18\n",
        "\n",
        "approx19 = [simple_regret_approx_1[slice19],\n",
        "       simple_regret_approx_2[slice19],\n",
        "       simple_regret_approx_3[slice19],\n",
        "       simple_regret_approx_4[slice19],\n",
        "       simple_regret_approx_5[slice19],\n",
        "       simple_regret_approx_6[slice19],\n",
        "       simple_regret_approx_7[slice19],\n",
        "       simple_regret_approx_8[slice19],\n",
        "       simple_regret_approx_9[slice19],\n",
        "       simple_regret_approx_10[slice19],\n",
        "       simple_regret_approx_11[slice19],\n",
        "       simple_regret_approx_12[slice19],\n",
        "       simple_regret_approx_13[slice19],\n",
        "       simple_regret_approx_14[slice19],\n",
        "       simple_regret_approx_15[slice19],\n",
        "       simple_regret_approx_16[slice19],\n",
        "       simple_regret_approx_17[slice19],\n",
        "       simple_regret_approx_18[slice19],\n",
        "       simple_regret_approx_19[slice19],\n",
        "       simple_regret_approx_20[slice19]]\n",
        "\n",
        "exact19 = [simple_regret_exact_1[slice19],\n",
        "       simple_regret_exact_2[slice19],\n",
        "       simple_regret_exact_3[slice19],\n",
        "       simple_regret_exact_4[slice19],\n",
        "       simple_regret_exact_5[slice19],\n",
        "       simple_regret_exact_6[slice19],\n",
        "       simple_regret_exact_7[slice19],\n",
        "       simple_regret_exact_8[slice19],\n",
        "       simple_regret_exact_9[slice19],\n",
        "       simple_regret_exact_10[slice19],\n",
        "       simple_regret_exact_11[slice19],\n",
        "       simple_regret_exact_12[slice19],\n",
        "       simple_regret_exact_13[slice19],\n",
        "       simple_regret_exact_14[slice19],\n",
        "       simple_regret_exact_15[slice19],\n",
        "       simple_regret_exact_16[slice19],\n",
        "       simple_regret_exact_17[slice19],\n",
        "       simple_regret_exact_18[slice19],\n",
        "       simple_regret_exact_19[slice19],\n",
        "       simple_regret_exact_20[slice19]]\n",
        "\n",
        "approx19_results = pd.DataFrame(approx19).sort_values(by=[0], ascending=False)\n",
        "exact19_results = pd.DataFrame(exact19).sort_values(by=[0], ascending=False)\n",
        "\n",
        "### Best simple regret minimization IQR - approx:\n",
        "lower_approx19 = np.asarray(approx19_results[4:5][0])[0]\n",
        "median_approx19 = np.asarray(approx19_results[9:10][0])[0]\n",
        "upper_approx19 = np.asarray(approx19_results[14:15][0])[0]\n",
        "\n",
        "lower_exact19 = np.asarray(exact19_results[4:5][0])[0]\n",
        "median_exact19 = np.asarray(exact19_results[9:10][0])[0]\n",
        "upper_exact19 = np.asarray(exact19_results[14:15][0])[0]"
      ]
    },
    {
      "cell_type": "code",
      "execution_count": 94,
      "metadata": {
        "id": "h4vtWahcQxf-"
      },
      "outputs": [],
      "source": [
        "# Iteration10 :\n",
        "\n",
        "slice10 = 9\n",
        "\n",
        "approx10 = [simple_regret_approx_1[slice10],\n",
        "       simple_regret_approx_2[slice10],\n",
        "       simple_regret_approx_3[slice10],\n",
        "       simple_regret_approx_4[slice10],\n",
        "       simple_regret_approx_5[slice10],\n",
        "       simple_regret_approx_6[slice10],\n",
        "       simple_regret_approx_7[slice10],\n",
        "       simple_regret_approx_8[slice10],\n",
        "       simple_regret_approx_9[slice10],\n",
        "       simple_regret_approx_10[slice10],\n",
        "       simple_regret_approx_11[slice10],\n",
        "       simple_regret_approx_12[slice10],\n",
        "       simple_regret_approx_13[slice10],\n",
        "       simple_regret_approx_14[slice10],\n",
        "       simple_regret_approx_15[slice10],\n",
        "       simple_regret_approx_16[slice10],\n",
        "       simple_regret_approx_17[slice10],\n",
        "       simple_regret_approx_18[slice10],\n",
        "       simple_regret_approx_19[slice10],\n",
        "       simple_regret_approx_20[slice10]]\n",
        "\n",
        "exact10 = [simple_regret_exact_1[slice10],\n",
        "       simple_regret_exact_2[slice10],\n",
        "       simple_regret_exact_3[slice10],\n",
        "       simple_regret_exact_4[slice10],\n",
        "       simple_regret_exact_5[slice10],\n",
        "       simple_regret_exact_6[slice10],\n",
        "       simple_regret_exact_7[slice10],\n",
        "       simple_regret_exact_8[slice10],\n",
        "       simple_regret_exact_9[slice10],\n",
        "       simple_regret_exact_10[slice10],\n",
        "       simple_regret_exact_11[slice10],\n",
        "       simple_regret_exact_12[slice10],\n",
        "       simple_regret_exact_13[slice10],\n",
        "       simple_regret_exact_14[slice10],\n",
        "       simple_regret_exact_15[slice10],\n",
        "       simple_regret_exact_16[slice10],\n",
        "       simple_regret_exact_17[slice10],\n",
        "       simple_regret_exact_18[slice10],\n",
        "       simple_regret_exact_19[slice10],\n",
        "       simple_regret_exact_20[slice10]]\n",
        "\n",
        "approx10_results = pd.DataFrame(approx10).sort_values(by=[0], ascending=False)\n",
        "exact10_results = pd.DataFrame(exact10).sort_values(by=[0], ascending=False)\n",
        "\n",
        "### Best simple regret minimization IQR - approx:\n",
        "lower_approx10 = np.asarray(approx10_results[4:5][0])[0]\n",
        "median_approx10 = np.asarray(approx10_results[9:10][0])[0]\n",
        "upper_approx10 = np.asarray(approx10_results[14:15][0])[0]\n",
        "\n",
        "lower_exact10 = np.asarray(exact10_results[4:5][0])[0]\n",
        "median_exact10 = np.asarray(exact10_results[9:10][0])[0]\n",
        "upper_exact10 = np.asarray(exact10_results[14:15][0])[0]"
      ]
    },
    {
      "cell_type": "code",
      "execution_count": 95,
      "metadata": {
        "id": "Rsf240pWQxf-"
      },
      "outputs": [],
      "source": [
        "# Iteration20 :\n",
        "\n",
        "slice20 = 19\n",
        "\n",
        "approx20 = [simple_regret_approx_1[slice20],\n",
        "       simple_regret_approx_2[slice20],\n",
        "       simple_regret_approx_3[slice20],\n",
        "       simple_regret_approx_4[slice20],\n",
        "       simple_regret_approx_5[slice20],\n",
        "       simple_regret_approx_6[slice20],\n",
        "       simple_regret_approx_7[slice20],\n",
        "       simple_regret_approx_8[slice20],\n",
        "       simple_regret_approx_9[slice20],\n",
        "       simple_regret_approx_10[slice20],\n",
        "       simple_regret_approx_11[slice20],\n",
        "       simple_regret_approx_12[slice20],\n",
        "       simple_regret_approx_13[slice20],\n",
        "       simple_regret_approx_14[slice20],\n",
        "       simple_regret_approx_15[slice20],\n",
        "       simple_regret_approx_16[slice20],\n",
        "       simple_regret_approx_17[slice20],\n",
        "       simple_regret_approx_18[slice20],\n",
        "       simple_regret_approx_19[slice20],\n",
        "       simple_regret_approx_20[slice20]]\n",
        "\n",
        "exact20 = [simple_regret_exact_1[slice20],\n",
        "       simple_regret_exact_2[slice20],\n",
        "       simple_regret_exact_3[slice20],\n",
        "       simple_regret_exact_4[slice20],\n",
        "       simple_regret_exact_5[slice20],\n",
        "       simple_regret_exact_6[slice20],\n",
        "       simple_regret_exact_7[slice20],\n",
        "       simple_regret_exact_8[slice20],\n",
        "       simple_regret_exact_9[slice20],\n",
        "       simple_regret_exact_10[slice20],\n",
        "       simple_regret_exact_11[slice20],\n",
        "       simple_regret_exact_12[slice20],\n",
        "       simple_regret_exact_13[slice20],\n",
        "       simple_regret_exact_14[slice20],\n",
        "       simple_regret_exact_15[slice20],\n",
        "       simple_regret_exact_16[slice20],\n",
        "       simple_regret_exact_17[slice20],\n",
        "       simple_regret_exact_18[slice20],\n",
        "       simple_regret_exact_19[slice20],\n",
        "       simple_regret_exact_20[slice20]]\n",
        "\n",
        "approx20_results = pd.DataFrame(approx20).sort_values(by=[0], ascending=False)\n",
        "exact20_results = pd.DataFrame(exact20).sort_values(by=[0], ascending=False)\n",
        "\n",
        "### Best simple regret minimization IQR - approx:\n",
        "lower_approx20 = np.asarray(approx20_results[4:5][0])[0]\n",
        "median_approx20 = np.asarray(approx20_results[9:10][0])[0]\n",
        "upper_approx20 = np.asarray(approx20_results[14:15][0])[0]\n",
        "\n",
        "lower_exact20 = np.asarray(exact20_results[4:5][0])[0]\n",
        "median_exact20 = np.asarray(exact20_results[9:10][0])[0]\n",
        "upper_exact20 = np.asarray(exact20_results[14:15][0])[0]"
      ]
    },
    {
      "cell_type": "code",
      "execution_count": 96,
      "metadata": {
        "id": "gn36RejbQxf_"
      },
      "outputs": [],
      "source": [
        "### Summarize arrays: 'Loser'\n",
        "\n",
        "lower_approx = [lower_approx1,\n",
        "            lower_approx2,\n",
        "            lower_approx3,\n",
        "            lower_approx4,\n",
        "            lower_approx5,\n",
        "            lower_approx6,\n",
        "            lower_approx7,\n",
        "            lower_approx8,\n",
        "            lower_approx9,\n",
        "            lower_approx10,\n",
        "            lower_approx11,\n",
        "            lower_approx12,\n",
        "            lower_approx13,\n",
        "            lower_approx14,\n",
        "            lower_approx15,\n",
        "            lower_approx16,\n",
        "            lower_approx17,\n",
        "            lower_approx18,\n",
        "            lower_approx19,\n",
        "            lower_approx20,\n",
        "            lower_approx21]\n",
        "\n",
        "median_approx = [median_approx1,\n",
        "            median_approx2,\n",
        "            median_approx3,\n",
        "            median_approx4,\n",
        "            median_approx5,\n",
        "            median_approx6,\n",
        "            median_approx7,\n",
        "            median_approx8,\n",
        "            median_approx9,\n",
        "            median_approx10,\n",
        "            median_approx11,\n",
        "            median_approx12,\n",
        "            median_approx13,\n",
        "            median_approx14,\n",
        "            median_approx15,\n",
        "            median_approx16,\n",
        "            median_approx17,\n",
        "            median_approx18,\n",
        "            median_approx19,\n",
        "            median_approx20,\n",
        "            median_approx21]\n",
        "\n",
        "upper_approx = [upper_approx1,\n",
        "            upper_approx2,\n",
        "            upper_approx3,\n",
        "            upper_approx4,\n",
        "            upper_approx5,\n",
        "            upper_approx6,\n",
        "            upper_approx7,\n",
        "            upper_approx8,\n",
        "            upper_approx9,\n",
        "            upper_approx10,\n",
        "            upper_approx11,\n",
        "            upper_approx12,\n",
        "            upper_approx13,\n",
        "            upper_approx14,\n",
        "            upper_approx15,\n",
        "            upper_approx16,\n",
        "            upper_approx17,\n",
        "            upper_approx18,\n",
        "            upper_approx19,\n",
        "            upper_approx20,\n",
        "            upper_approx21]"
      ]
    },
    {
      "cell_type": "code",
      "execution_count": 97,
      "metadata": {
        "id": "wxtGTOYfQxf_"
      },
      "outputs": [],
      "source": [
        "### Summarize arrays: 'exact'\n",
        "\n",
        "lower_exact = [lower_exact1,\n",
        "            lower_exact2,\n",
        "            lower_exact3,\n",
        "            lower_exact4,\n",
        "            lower_exact5,\n",
        "            lower_exact6,\n",
        "            lower_exact7,\n",
        "            lower_exact8,\n",
        "            lower_exact9,\n",
        "            lower_exact10,\n",
        "            lower_exact11,\n",
        "            lower_exact12,\n",
        "            lower_exact13,\n",
        "            lower_exact14,\n",
        "            lower_exact15,\n",
        "            lower_exact16,\n",
        "            lower_exact17,\n",
        "            lower_exact18,\n",
        "            lower_exact19,\n",
        "            lower_exact20,\n",
        "            lower_exact21]\n",
        "\n",
        "median_exact = [median_exact1,\n",
        "            median_exact2,\n",
        "            median_exact3,\n",
        "            median_exact4,\n",
        "            median_exact5,\n",
        "            median_exact6,\n",
        "            median_exact7,\n",
        "            median_exact8,\n",
        "            median_exact9,\n",
        "            median_exact10,\n",
        "            median_exact11,\n",
        "            median_exact12,\n",
        "            median_exact13,\n",
        "            median_exact14,\n",
        "            median_exact15,\n",
        "            median_exact16,\n",
        "            median_exact17,\n",
        "            median_exact18,\n",
        "            median_exact19,\n",
        "            median_exact20,\n",
        "            median_exact21]\n",
        "\n",
        "upper_exact = [upper_exact1,\n",
        "            upper_exact2,\n",
        "            upper_exact3,\n",
        "            upper_exact4,\n",
        "            upper_exact5,\n",
        "            upper_exact6,\n",
        "            upper_exact7,\n",
        "            upper_exact8,\n",
        "            upper_exact9,\n",
        "            upper_exact10,\n",
        "            upper_exact11,\n",
        "            upper_exact12,\n",
        "            upper_exact13,\n",
        "            upper_exact14,\n",
        "            upper_exact15,\n",
        "            upper_exact16,\n",
        "            upper_exact17,\n",
        "            upper_exact18,\n",
        "            upper_exact19,\n",
        "            upper_exact20,\n",
        "            upper_exact21]"
      ]
    },
    {
      "cell_type": "code",
      "execution_count": 98,
      "metadata": {
        "id": "2MONq-BXQxgA",
        "colab": {
          "base_uri": "https://localhost:8080/",
          "height": 299
        },
        "outputId": "b5870226-daa3-4047-c675-31cd84d0965d"
      },
      "outputs": [
        {
          "output_type": "display_data",
          "data": {
            "text/plain": [
              "<Figure size 432x288 with 1 Axes>"
            ],
            "image/png": "[encoded data removed]"
          },
          "metadata": {
            "needs_background": "light"
          }
        }
      ],
      "source": [
        "### Visualise!\n",
        "\n",
        "title = func\n",
        "plt.figure()\n",
        "\n",
        "plt.plot(median_approx, color = 'Green', ls='--')\n",
        "plt.plot(median_exact, color = 'Blue', ls='--')\n",
        "\n",
        "xstar = np.arange(0, iters+1, step=1)\n",
        "plt.fill_between(xstar, lower_approx, upper_approx, facecolor = 'Green', alpha=0.4, label='STP ERM Optimisation: Approx STP ERM gradients ' r'($\\nu$' ' = {})'.format(df))\n",
        "plt.fill_between(xstar, lower_exact, upper_exact, facecolor = 'Blue', alpha=0.4, label='STP ERM Optimisation: Exact STP dERM gradients ' r'($\\nu$' ' = {})'.format(df))\n",
        "\n",
        "plt.title(title, weight = 'bold')\n",
        "plt.xlabel('(Post-initialisation) iteration $\\it{k}$', weight = 'bold')\n",
        "plt.ylabel('log(Regret)', weight = 'bold') \n",
        "plt.legend(loc=0) # add plot legend\n",
        "\n",
        "### Make the x-ticks integers, not floats:\n",
        "count = len(xstar)\n",
        "plt.xticks(np.arange(count), np.arange(0, count))\n",
        "plt.show() #visualise!\n"
      ]
    },
    {
      "cell_type": "code",
      "execution_count": 99,
      "metadata": {
        "id": "l5dkR2Id2oiu",
        "colab": {
          "base_uri": "https://localhost:8080/"
        },
        "outputId": "f2a21054-43b0-4ad1-d898-f57ee42088f0"
      },
      "outputs": [
        {
          "output_type": "execute_result",
          "data": {
            "text/plain": [
              "(1111.2209661006927, 1018.2015488147736)"
            ]
          },
          "metadata": {},
          "execution_count": 99
        }
      ],
      "source": [
        "time_approx, time_exact\n"
      ]
    },
    {
      "cell_type": "code",
      "source": [
        "### acqFunc attribute x, stddev: run number = 1\n",
        "\n",
        "acqFuncApprox_exact_1 = acqFuncApprox(exact_1.history)\n",
        "acqFuncExact_exact_1 = acqFuncExact(exact_1.history)\n",
        "\n",
        "e1 = np.mean(acqFuncExact_exact_1)\n",
        "a1 = np.mean(acqFuncApprox_exact_1)\n",
        "\n",
        "e1, a1\n"
      ],
      "metadata": {
        "colab": {
          "base_uri": "https://localhost:8080/"
        },
        "id": "uwxv4dmfGsLr",
        "outputId": "10c432a4-86b0-44ff-e2b6-952ca9dd245f"
      },
      "execution_count": 100,
      "outputs": [
        {
          "output_type": "execute_result",
          "data": {
            "text/plain": [
              "(6.096543261051931, 6.8169244075583935)"
            ]
          },
          "metadata": {},
          "execution_count": 100
        }
      ]
    },
    {
      "cell_type": "code",
      "source": [
        "### acqFunc attribute x, stddev: run number = 2\n",
        "\n",
        "acqFuncApprox_exact_2 = acqFuncApprox(exact_2.history)\n",
        "acqFuncExact_exact_2 = acqFuncExact(exact_2.history)\n",
        "\n",
        "e2 = np.mean(acqFuncExact_exact_2)\n",
        "a2 = np.mean(acqFuncApprox_exact_2)\n",
        "\n",
        "e2, a2\n"
      ],
      "metadata": {
        "colab": {
          "base_uri": "https://localhost:8080/"
        },
        "id": "0YSV00_pGsXe",
        "outputId": "4d592c6d-3db8-4f25-8dbe-afb0f637e0a0"
      },
      "execution_count": 101,
      "outputs": [
        {
          "output_type": "execute_result",
          "data": {
            "text/plain": [
              "(5.722447259757537, 6.431360262056517)"
            ]
          },
          "metadata": {},
          "execution_count": 101
        }
      ]
    },
    {
      "cell_type": "code",
      "source": [
        "### acqFunc attribute x, stddev: run number = 3\n",
        "\n",
        "acqFuncApprox_exact_3 = acqFuncApprox(exact_3.history)\n",
        "acqFuncExact_exact_3 = acqFuncExact(exact_3.history)\n",
        "\n",
        "e3 = np.mean(acqFuncExact_exact_3)\n",
        "a3 = np.mean(acqFuncApprox_exact_3)\n",
        "\n",
        "e3, a3\n"
      ],
      "metadata": {
        "colab": {
          "base_uri": "https://localhost:8080/"
        },
        "id": "HHVmsd2UGsjT",
        "outputId": "b08e459b-08cf-45bb-b024-5fc694566143"
      },
      "execution_count": 102,
      "outputs": [
        {
          "output_type": "execute_result",
          "data": {
            "text/plain": [
              "(5.916447404915222, 6.457513445025571)"
            ]
          },
          "metadata": {},
          "execution_count": 102
        }
      ]
    },
    {
      "cell_type": "code",
      "source": [
        "### acqFunc attribute x, stddev: run number = 4\n",
        "\n",
        "acqFuncApprox_exact_4 = acqFuncApprox(exact_4.history)\n",
        "acqFuncExact_exact_4 = acqFuncExact(exact_4.history)\n",
        "\n",
        "e4 = np.mean(acqFuncExact_exact_4)\n",
        "a4 = np.mean(acqFuncApprox_exact_4)\n",
        "\n",
        "e4, a4\n"
      ],
      "metadata": {
        "colab": {
          "base_uri": "https://localhost:8080/"
        },
        "id": "r7O19S2eGsu7",
        "outputId": "3a85aa6d-c671-42a3-c8f6-b899a8a1995a"
      },
      "execution_count": 103,
      "outputs": [
        {
          "output_type": "execute_result",
          "data": {
            "text/plain": [
              "(5.69302726569891, 6.336593951047335)"
            ]
          },
          "metadata": {},
          "execution_count": 103
        }
      ]
    },
    {
      "cell_type": "code",
      "source": [
        "### acqFunc attribute x, stddev: run number = 5\n",
        "\n",
        "acqFuncApprox_exact_5 = acqFuncApprox(exact_5.history)\n",
        "acqFuncExact_exact_5 = acqFuncExact(exact_5.history)\n",
        "\n",
        "e5 = np.mean(acqFuncExact_exact_5)\n",
        "a5 = np.mean(acqFuncApprox_exact_5)\n",
        "\n",
        "e5, a5\n"
      ],
      "metadata": {
        "colab": {
          "base_uri": "https://localhost:8080/"
        },
        "id": "sdb9o6NuGs5m",
        "outputId": "f0752bfb-317e-4c66-e0cd-4399eae48b0b"
      },
      "execution_count": 104,
      "outputs": [
        {
          "output_type": "execute_result",
          "data": {
            "text/plain": [
              "(5.823401809417725, 6.664541756068976)"
            ]
          },
          "metadata": {},
          "execution_count": 104
        }
      ]
    },
    {
      "cell_type": "code",
      "source": [
        "### acqFunc attribute x, stddev: run number = 6\n",
        "\n",
        "acqFuncApprox_exact_6 = acqFuncApprox(exact_6.history)\n",
        "acqFuncExact_exact_6 = acqFuncExact(exact_6.history)\n",
        "\n",
        "e6 = np.mean(acqFuncExact_exact_6)\n",
        "a6 = np.mean(acqFuncApprox_exact_6)\n",
        "\n",
        "e6, a6\n"
      ],
      "metadata": {
        "colab": {
          "base_uri": "https://localhost:8080/"
        },
        "id": "COQl7LZ8GtE0",
        "outputId": "b27ab2c3-d44c-4312-cbb8-99c99f2cf251"
      },
      "execution_count": 105,
      "outputs": [
        {
          "output_type": "execute_result",
          "data": {
            "text/plain": [
              "(5.779300968214963, 6.543393250054011)"
            ]
          },
          "metadata": {},
          "execution_count": 105
        }
      ]
    },
    {
      "cell_type": "code",
      "source": [
        "### acqFunc attribute x, stddev: run number = 7\n",
        "\n",
        "acqFuncApprox_exact_7 = acqFuncApprox(exact_7.history)\n",
        "acqFuncExact_exact_7 = acqFuncExact(exact_7.history)\n",
        "\n",
        "e7 = np.mean(acqFuncExact_exact_7)\n",
        "a7 = np.mean(acqFuncApprox_exact_7)\n",
        "\n",
        "e7, a7\n"
      ],
      "metadata": {
        "colab": {
          "base_uri": "https://localhost:8080/"
        },
        "id": "2gy9EtTzGtP7",
        "outputId": "ddbcc69c-35f1-4e22-ac5d-28e198045d78"
      },
      "execution_count": 106,
      "outputs": [
        {
          "output_type": "execute_result",
          "data": {
            "text/plain": [
              "(5.840840462974478, 6.634254579849997)"
            ]
          },
          "metadata": {},
          "execution_count": 106
        }
      ]
    },
    {
      "cell_type": "code",
      "source": [
        "### acqFunc attribute x, stddev: run number = 8\n",
        "\n",
        "acqFuncApprox_exact_8 = acqFuncApprox(exact_8.history)\n",
        "acqFuncExact_exact_8 = acqFuncExact(exact_8.history)\n",
        "\n",
        "e8 = np.mean(acqFuncExact_exact_8)\n",
        "a8 = np.mean(acqFuncApprox_exact_8)\n",
        "\n",
        "e8, a8\n"
      ],
      "metadata": {
        "colab": {
          "base_uri": "https://localhost:8080/"
        },
        "id": "S7mn0qoMGtbM",
        "outputId": "4c2e952b-9111-4902-f1dc-0cd96d4770b6"
      },
      "execution_count": 107,
      "outputs": [
        {
          "output_type": "execute_result",
          "data": {
            "text/plain": [
              "(6.40575024962431, 6.689912141385072)"
            ]
          },
          "metadata": {},
          "execution_count": 107
        }
      ]
    },
    {
      "cell_type": "code",
      "source": [
        "### acqFunc attribute x, stddev: run number = 9\n",
        "\n",
        "acqFuncApprox_exact_9 = acqFuncApprox(exact_9.history)\n",
        "acqFuncExact_exact_9 = acqFuncExact(exact_9.history)\n",
        "\n",
        "e9 = np.mean(acqFuncExact_exact_9)\n",
        "a9 = np.mean(acqFuncApprox_exact_9)\n",
        "\n",
        "e9, a9\n"
      ],
      "metadata": {
        "colab": {
          "base_uri": "https://localhost:8080/"
        },
        "id": "BhljmkNxGtms",
        "outputId": "9ea70217-3095-4259-c599-581311cd2705"
      },
      "execution_count": 108,
      "outputs": [
        {
          "output_type": "execute_result",
          "data": {
            "text/plain": [
              "(6.210773200379963, 6.792254512076627)"
            ]
          },
          "metadata": {},
          "execution_count": 108
        }
      ]
    },
    {
      "cell_type": "code",
      "source": [
        "### acqFunc attribute x, stddev: run number = 10\n",
        "\n",
        "acqFuncApprox_exact_10 = acqFuncApprox(exact_10.history)\n",
        "acqFuncExact_exact_10 = acqFuncExact(exact_10.history)\n",
        "\n",
        "e10 = np.mean(acqFuncExact_exact_10)\n",
        "a10 = np.mean(acqFuncApprox_exact_10)\n",
        "\n",
        "e10, a10\n"
      ],
      "metadata": {
        "colab": {
          "base_uri": "https://localhost:8080/"
        },
        "id": "W5GZo6k3Gtx8",
        "outputId": "3ee09626-e3cf-4b37-caf3-bc3315faea77"
      },
      "execution_count": 109,
      "outputs": [
        {
          "output_type": "execute_result",
          "data": {
            "text/plain": [
              "(5.880869264637339, 6.89047059239889)"
            ]
          },
          "metadata": {},
          "execution_count": 109
        }
      ]
    },
    {
      "cell_type": "code",
      "source": [
        "### acqFunc attribute x, stddev: run number = 11\n",
        "\n",
        "acqFuncApprox_exact_11 = acqFuncApprox(exact_11.history)\n",
        "acqFuncExact_exact_11 = acqFuncExact(exact_11.history)\n",
        "\n",
        "e11 = np.mean(acqFuncExact_exact_11)\n",
        "a11 = np.mean(acqFuncApprox_exact_11)\n",
        "\n",
        "e11, a11\n"
      ],
      "metadata": {
        "colab": {
          "base_uri": "https://localhost:8080/"
        },
        "id": "isKNhDk5Gt9D",
        "outputId": "74363132-add4-4cf5-cb86-639ee57bc10b"
      },
      "execution_count": 110,
      "outputs": [
        {
          "output_type": "execute_result",
          "data": {
            "text/plain": [
              "(6.352770942844134, 6.988920526269631)"
            ]
          },
          "metadata": {},
          "execution_count": 110
        }
      ]
    },
    {
      "cell_type": "code",
      "source": [
        "### acqFunc attribute x, stddev: run number = 12\n",
        "\n",
        "acqFuncApprox_exact_12 = acqFuncApprox(exact_12.history)\n",
        "acqFuncExact_exact_12 = acqFuncExact(exact_12.history)\n",
        "\n",
        "e12 = np.mean(acqFuncExact_exact_12)\n",
        "a12 = np.mean(acqFuncApprox_exact_12)\n",
        "\n",
        "e12, a12\n"
      ],
      "metadata": {
        "colab": {
          "base_uri": "https://localhost:8080/"
        },
        "id": "8ts-wrSuGuIm",
        "outputId": "886f5769-0432-4521-c6a0-2dc343421390"
      },
      "execution_count": 111,
      "outputs": [
        {
          "output_type": "execute_result",
          "data": {
            "text/plain": [
              "(6.05826753906539, 6.561318176019904)"
            ]
          },
          "metadata": {},
          "execution_count": 111
        }
      ]
    },
    {
      "cell_type": "code",
      "source": [
        "### acqFunc attribute x, stddev: run number = 13\n",
        "\n",
        "acqFuncApprox_exact_13 = acqFuncApprox(exact_13.history)\n",
        "acqFuncExact_exact_13 = acqFuncExact(exact_13.history)\n",
        "\n",
        "e13 = np.mean(acqFuncExact_exact_13)\n",
        "a13 = np.mean(acqFuncApprox_exact_13)\n",
        "\n",
        "e13, a13\n"
      ],
      "metadata": {
        "colab": {
          "base_uri": "https://localhost:8080/"
        },
        "id": "n0drhEe3GuUL",
        "outputId": "7f19e53e-9f3d-4494-98ab-fd7f0835a566"
      },
      "execution_count": 112,
      "outputs": [
        {
          "output_type": "execute_result",
          "data": {
            "text/plain": [
              "(6.428347760695019, 6.89085577960619)"
            ]
          },
          "metadata": {},
          "execution_count": 112
        }
      ]
    },
    {
      "cell_type": "code",
      "source": [
        "### acqFunc attribute x, stddev: run number = 14\n",
        "\n",
        "acqFuncApprox_exact_14 = acqFuncApprox(exact_14.history)\n",
        "acqFuncExact_exact_14 = acqFuncExact(exact_14.history)\n",
        "\n",
        "e14 = np.mean(acqFuncExact_exact_14)\n",
        "a14 = np.mean(acqFuncApprox_exact_14)\n",
        "\n",
        "e14, a14\n"
      ],
      "metadata": {
        "colab": {
          "base_uri": "https://localhost:8080/"
        },
        "id": "R0W3MZaVGues",
        "outputId": "14f39301-68cc-410d-e2a9-a3f892052529"
      },
      "execution_count": 113,
      "outputs": [
        {
          "output_type": "execute_result",
          "data": {
            "text/plain": [
              "(5.921731252604693, 6.416380365964734)"
            ]
          },
          "metadata": {},
          "execution_count": 113
        }
      ]
    },
    {
      "cell_type": "code",
      "source": [
        "### acqFunc attribute x, stddev: run number = 15\n",
        "\n",
        "acqFuncApprox_exact_15 = acqFuncApprox(exact_15.history)\n",
        "acqFuncExact_exact_15 = acqFuncExact(exact_15.history)\n",
        "\n",
        "e15 = np.mean(acqFuncExact_exact_15)\n",
        "a15 = np.mean(acqFuncApprox_exact_15)\n",
        "\n",
        "e15, a15\n"
      ],
      "metadata": {
        "colab": {
          "base_uri": "https://localhost:8080/"
        },
        "id": "DoXdDFHoGup-",
        "outputId": "0230a8b8-fd8d-4cf0-f3a6-71dc4bc6a06d"
      },
      "execution_count": 114,
      "outputs": [
        {
          "output_type": "execute_result",
          "data": {
            "text/plain": [
              "(5.768838351063115, 6.607051255160997)"
            ]
          },
          "metadata": {},
          "execution_count": 114
        }
      ]
    },
    {
      "cell_type": "code",
      "source": [
        "### acqFunc attribute x, stddev: run number = 16\n",
        "\n",
        "acqFuncApprox_exact_16 = acqFuncApprox(exact_16.history)\n",
        "acqFuncExact_exact_16 = acqFuncExact(exact_16.history)\n",
        "\n",
        "e16 = np.mean(acqFuncExact_exact_16)\n",
        "a16 = np.mean(acqFuncApprox_exact_16)\n",
        "\n",
        "e16, a16\n"
      ],
      "metadata": {
        "colab": {
          "base_uri": "https://localhost:8080/"
        },
        "id": "K_wAeqSoGu2j",
        "outputId": "97fa6d18-5cb1-418a-8203-328bfb36ba16"
      },
      "execution_count": 115,
      "outputs": [
        {
          "output_type": "execute_result",
          "data": {
            "text/plain": [
              "(5.806374309107259, 6.521733757377854)"
            ]
          },
          "metadata": {},
          "execution_count": 115
        }
      ]
    },
    {
      "cell_type": "code",
      "source": [
        "### acqFunc attribute x, stddev: run number = 17\n",
        "\n",
        "acqFuncApprox_exact_17 = acqFuncApprox(exact_17.history)\n",
        "acqFuncExact_exact_17 = acqFuncExact(exact_17.history)\n",
        "\n",
        "e17 = np.mean(acqFuncExact_exact_17)\n",
        "a17 = np.mean(acqFuncApprox_exact_17)\n",
        "\n",
        "e17, a17\n"
      ],
      "metadata": {
        "colab": {
          "base_uri": "https://localhost:8080/"
        },
        "id": "n6zy78fjGvBT",
        "outputId": "8b8ea8de-41ea-436a-ebf6-a5533b0bb0da"
      },
      "execution_count": 116,
      "outputs": [
        {
          "output_type": "execute_result",
          "data": {
            "text/plain": [
              "(5.873699656638797, 6.625605902197686)"
            ]
          },
          "metadata": {},
          "execution_count": 116
        }
      ]
    },
    {
      "cell_type": "code",
      "source": [
        "### acqFunc attribute x, stddev: run number = 18\n",
        "\n",
        "acqFuncApprox_exact_18 = acqFuncApprox(exact_18.history)\n",
        "acqFuncExact_exact_18 = acqFuncExact(exact_18.history)\n",
        "\n",
        "e18 = np.mean(acqFuncExact_exact_18)\n",
        "a18 = np.mean(acqFuncApprox_exact_18)\n",
        "\n",
        "e18, a18\n"
      ],
      "metadata": {
        "colab": {
          "base_uri": "https://localhost:8080/"
        },
        "id": "s_6_2K4iGvM-",
        "outputId": "61849a52-9763-4e0f-f71c-cb16a6ee80c7"
      },
      "execution_count": 117,
      "outputs": [
        {
          "output_type": "execute_result",
          "data": {
            "text/plain": [
              "(6.166109092640536, 6.830049495271564)"
            ]
          },
          "metadata": {},
          "execution_count": 117
        }
      ]
    },
    {
      "cell_type": "code",
      "source": [
        "### acqFunc attribute x, stddev: run number = 19\n",
        "\n",
        "acqFuncApprox_exact_19 = acqFuncApprox(exact_19.history)\n",
        "acqFuncExact_exact_19 = acqFuncExact(exact_19.history)\n",
        "\n",
        "e19 = np.mean(acqFuncExact_exact_19)\n",
        "a19 = np.mean(acqFuncApprox_exact_19)\n",
        "\n",
        "e19, a19\n"
      ],
      "metadata": {
        "colab": {
          "base_uri": "https://localhost:8080/"
        },
        "id": "o8oO8pdBGvYk",
        "outputId": "55b103b6-44ae-4d85-e902-a057dc988183"
      },
      "execution_count": 118,
      "outputs": [
        {
          "output_type": "execute_result",
          "data": {
            "text/plain": [
              "(5.661658648956996, 6.548652103869841)"
            ]
          },
          "metadata": {},
          "execution_count": 118
        }
      ]
    },
    {
      "cell_type": "code",
      "source": [
        "### acqFunc attribute x, stddev: run number = 20\n",
        "\n",
        "acqFuncApprox_exact_20 = acqFuncApprox(exact_20.history)\n",
        "acqFuncExact_exact_20 = acqFuncExact(exact_20.history)\n",
        "\n",
        "e20 = np.mean(acqFuncExact_exact_20)\n",
        "a20 = np.mean(acqFuncApprox_exact_20)\n",
        "\n",
        "e20, a20\n"
      ],
      "metadata": {
        "colab": {
          "base_uri": "https://localhost:8080/"
        },
        "id": "b2w8oLc0IMzU",
        "outputId": "2a4c2cfe-d59b-443e-8e3e-c8068c95e190"
      },
      "execution_count": 119,
      "outputs": [
        {
          "output_type": "execute_result",
          "data": {
            "text/plain": [
              "(6.397022421812888, 6.961297804133736)"
            ]
          },
          "metadata": {},
          "execution_count": 119
        }
      ]
    },
    {
      "cell_type": "code",
      "source": [
        "### Summarize arrays: \n",
        "\n",
        "exact_stddev = np.sort([e1,e2,e3,e4,e5,e6,e7,e8,e9,e10,e11,e12,e13,e14,e15,e16,e17,e18,e19,e20])\n",
        "approx_stddev = np.sort([a1,a2,a3,a4,a5,a6,a7,a8,a9,a10,a11,a12,a13,a14,a15,a16,a17,a18,a19,a20])\n",
        "\n",
        "np.mean(exact_stddev), np.mean(approx_stddev)\n"
      ],
      "metadata": {
        "colab": {
          "base_uri": "https://localhost:8080/"
        },
        "id": "qAZs3yxMIZul",
        "outputId": "57922dea-0fd4-405b-a17e-34e9cfcd7717"
      },
      "execution_count": 120,
      "outputs": [
        {
          "output_type": "execute_result",
          "data": {
            "text/plain": [
              "(5.99021105610506, 6.660454203169675)"
            ]
          },
          "metadata": {},
          "execution_count": 120
        }
      ]
    },
    {
      "cell_type": "code",
      "source": [
        "### Visualise!\n",
        "\n",
        "title = func\n",
        "plt.figure()\n",
        "\n",
        "plt.plot(approx_stddev, color = 'Green', ls='--', label='Average $\\sigma$, attribute $\\mathbf{x}$: Approx STP ERM gradients')\n",
        "plt.plot(exact_stddev, color = 'Blue', ls='-', label='Average $\\sigma$, attribute $\\mathbf{x}$: Exact STP dERM gradients')\n",
        "\n",
        "plt.title(title, weight = 'bold')\n",
        "plt.xlabel('Function evaluations: iteration $\\it{k}$', weight = 'bold')\n",
        "plt.ylabel('STP ERM: Average $\\sigma$, attribute $\\mathbf{x}$', weight = 'bold') \n",
        "plt.legend(loc=0) # add plot legend\n",
        "\n",
        "### Make the x-ticks integers, not floats:\n",
        "count = len(xstar)\n",
        "plt.xticks(np.arange(count), np.arange(1, count))\n",
        "plt.show() #visualize!\n"
      ],
      "metadata": {
        "colab": {
          "base_uri": "https://localhost:8080/",
          "height": 297
        },
        "id": "e_kpqYcMIZxu",
        "outputId": "905b3d3b-a080-4032-8625-285fe215e99f"
      },
      "execution_count": 121,
      "outputs": [
        {
          "output_type": "display_data",
          "data": {
            "text/plain": [
              "<Figure size 432x288 with 1 Axes>"
            ],
            "image/png": "[encoded data removed]"
          },
          "metadata": {
            "needs_background": "light"
          }
        }
      ]
    },
    {
      "cell_type": "code",
      "source": [],
      "metadata": {
        "id": "LToGd4vZIZ3I"
      },
      "execution_count": 121,
      "outputs": []
    }
  ],
  "metadata": {
    "colab": {
      "collapsed_sections": [],
      "provenance": []
    },
    "kernelspec": {
      "display_name": "Python 3",
      "name": "python3"
    },
    "language_info": {
      "name": "python"
    }
  },
  "nbformat": 4,
  "nbformat_minor": 0
}