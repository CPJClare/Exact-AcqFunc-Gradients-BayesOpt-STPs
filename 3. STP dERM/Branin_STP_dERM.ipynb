{
  "cells": [
    {
      "cell_type": "markdown",
      "metadata": {
        "id": "Dqn4dFx7Z2Ir"
      },
      "source": [
        "\n",
        "Branin: 2D\n"
      ]
    },
    {
      "cell_type": "code",
      "execution_count": 1,
      "metadata": {
        "colab": {
          "base_uri": "https://localhost:8080/"
        },
        "id": "MJTM_GZZZb5x",
        "outputId": "c971964a-a99d-44fd-8076-b92589083bf1"
      },
      "outputs": [
        {
          "output_type": "stream",
          "name": "stdout",
          "text": [
            "Looking in indexes: https://pypi.org/simple, https://us-python.pkg.dev/colab-wheels/public/simple/\n",
            "Collecting pyGPGO\n",
            "  Downloading pyGPGO-0.5.1.tar.gz (14 kB)\n",
            "Requirement already satisfied: numpy in /usr/local/lib/python3.7/dist-packages (from pyGPGO) (1.21.6)\n",
            "Requirement already satisfied: mkl in /usr/local/lib/python3.7/dist-packages (from pyGPGO) (2019.0)\n",
            "Requirement already satisfied: scipy in /usr/local/lib/python3.7/dist-packages (from pyGPGO) (1.7.3)\n",
            "Requirement already satisfied: joblib in /usr/local/lib/python3.7/dist-packages (from pyGPGO) (1.1.0)\n",
            "Requirement already satisfied: scikit-learn in /usr/local/lib/python3.7/dist-packages (from pyGPGO) (1.0.2)\n",
            "Collecting Theano-PyMC\n",
            "  Downloading Theano-PyMC-1.1.2.tar.gz (1.8 MB)\n",
            "\u001b[K     |████████████████████████████████| 1.8 MB 5.1 MB/s \n",
            "\u001b[?25hCollecting pyMC3\n",
            "  Downloading pymc3-3.11.5-py3-none-any.whl (872 kB)\n",
            "\u001b[K     |████████████████████████████████| 872 kB 45.6 MB/s \n",
            "\u001b[?25hRequirement already satisfied: intel-openmp in /usr/local/lib/python3.7/dist-packages (from mkl->pyGPGO) (2022.1.0)\n",
            "Requirement already satisfied: patsy>=0.5.1 in /usr/local/lib/python3.7/dist-packages (from pyMC3->pyGPGO) (0.5.2)\n",
            "Collecting semver>=2.13.0\n",
            "  Downloading semver-2.13.0-py2.py3-none-any.whl (12 kB)\n",
            "Requirement already satisfied: cachetools>=4.2.1 in /usr/local/lib/python3.7/dist-packages (from pyMC3->pyGPGO) (4.2.4)\n",
            "Requirement already satisfied: pandas>=0.24.0 in /usr/local/lib/python3.7/dist-packages (from pyMC3->pyGPGO) (1.3.5)\n",
            "Requirement already satisfied: typing-extensions>=3.7.4 in /usr/local/lib/python3.7/dist-packages (from pyMC3->pyGPGO) (4.1.1)\n",
            "Requirement already satisfied: dill in /usr/local/lib/python3.7/dist-packages (from pyMC3->pyGPGO) (0.3.5.1)\n",
            "Requirement already satisfied: fastprogress>=0.2.0 in /usr/local/lib/python3.7/dist-packages (from pyMC3->pyGPGO) (1.0.3)\n",
            "Requirement already satisfied: arviz>=0.11.0 in /usr/local/lib/python3.7/dist-packages (from pyMC3->pyGPGO) (0.12.1)\n",
            "Collecting deprecat\n",
            "  Downloading deprecat-2.1.1-py2.py3-none-any.whl (9.8 kB)\n",
            "Requirement already satisfied: filelock in /usr/local/lib/python3.7/dist-packages (from Theano-PyMC->pyGPGO) (3.8.0)\n",
            "Requirement already satisfied: matplotlib>=3.0 in /usr/local/lib/python3.7/dist-packages (from arviz>=0.11.0->pyMC3->pyGPGO) (3.2.2)\n",
            "Requirement already satisfied: netcdf4 in /usr/local/lib/python3.7/dist-packages (from arviz>=0.11.0->pyMC3->pyGPGO) (1.6.0)\n",
            "Requirement already satisfied: xarray-einstats>=0.2 in /usr/local/lib/python3.7/dist-packages (from arviz>=0.11.0->pyMC3->pyGPGO) (0.2.2)\n",
            "Requirement already satisfied: setuptools>=38.4 in /usr/local/lib/python3.7/dist-packages (from arviz>=0.11.0->pyMC3->pyGPGO) (57.4.0)\n",
            "Requirement already satisfied: xarray>=0.16.1 in /usr/local/lib/python3.7/dist-packages (from arviz>=0.11.0->pyMC3->pyGPGO) (0.20.2)\n",
            "Requirement already satisfied: packaging in /usr/local/lib/python3.7/dist-packages (from arviz>=0.11.0->pyMC3->pyGPGO) (21.3)\n",
            "Requirement already satisfied: pyparsing!=2.0.4,!=2.1.2,!=2.1.6,>=2.0.1 in /usr/local/lib/python3.7/dist-packages (from matplotlib>=3.0->arviz>=0.11.0->pyMC3->pyGPGO) (3.0.9)\n",
            "Requirement already satisfied: python-dateutil>=2.1 in /usr/local/lib/python3.7/dist-packages (from matplotlib>=3.0->arviz>=0.11.0->pyMC3->pyGPGO) (2.8.2)\n",
            "Requirement already satisfied: kiwisolver>=1.0.1 in /usr/local/lib/python3.7/dist-packages (from matplotlib>=3.0->arviz>=0.11.0->pyMC3->pyGPGO) (1.4.4)\n",
            "Requirement already satisfied: cycler>=0.10 in /usr/local/lib/python3.7/dist-packages (from matplotlib>=3.0->arviz>=0.11.0->pyMC3->pyGPGO) (0.11.0)\n",
            "Requirement already satisfied: pytz>=2017.3 in /usr/local/lib/python3.7/dist-packages (from pandas>=0.24.0->pyMC3->pyGPGO) (2022.2.1)\n",
            "Requirement already satisfied: six in /usr/local/lib/python3.7/dist-packages (from patsy>=0.5.1->pyMC3->pyGPGO) (1.15.0)\n",
            "Requirement already satisfied: importlib-metadata in /usr/local/lib/python3.7/dist-packages (from xarray>=0.16.1->arviz>=0.11.0->pyMC3->pyGPGO) (4.12.0)\n",
            "Requirement already satisfied: wrapt<2,>=1.10 in /usr/local/lib/python3.7/dist-packages (from deprecat->pyMC3->pyGPGO) (1.14.1)\n",
            "Requirement already satisfied: zipp>=0.5 in /usr/local/lib/python3.7/dist-packages (from importlib-metadata->xarray>=0.16.1->arviz>=0.11.0->pyMC3->pyGPGO) (3.8.1)\n",
            "Requirement already satisfied: cftime in /usr/local/lib/python3.7/dist-packages (from netcdf4->arviz>=0.11.0->pyMC3->pyGPGO) (1.6.1)\n",
            "Requirement already satisfied: threadpoolctl>=2.0.0 in /usr/local/lib/python3.7/dist-packages (from scikit-learn->pyGPGO) (3.1.0)\n",
            "Building wheels for collected packages: pyGPGO, Theano-PyMC\n",
            "  Building wheel for pyGPGO (setup.py) ... \u001b[?25l\u001b[?25hdone\n",
            "  Created wheel for pyGPGO: filename=pyGPGO-0.5.1-py3-none-any.whl size=19879 sha256=a16c4a98df3fedbc486b18e2f39a97caffd20462af4250ad2328f56367c8f1f1\n",
            "  Stored in directory: /root/.cache/pip/wheels/c8/5d/0b/2160114e2f1b87791c51b66cf07f89831dbb6f49167950316f\n",
            "  Building wheel for Theano-PyMC (setup.py) ... \u001b[?25l\u001b[?25hdone\n",
            "  Created wheel for Theano-PyMC: filename=Theano_PyMC-1.1.2-py3-none-any.whl size=1529963 sha256=aac051136d076a23d99e66415b96011a7cd9391e3587693297f341804bb86a9c\n",
            "  Stored in directory: /root/.cache/pip/wheels/f3/af/8c/5dd7553522d74c52a7813806fc7ee1a9caa20a3f7c8fd850d5\n",
            "Successfully built pyGPGO Theano-PyMC\n",
            "Installing collected packages: Theano-PyMC, semver, deprecat, pyMC3, pyGPGO\n",
            "Successfully installed Theano-PyMC-1.1.2 deprecat-2.1.1 pyGPGO-0.5.1 pyMC3-3.11.5 semver-2.13.0\n"
          ]
        }
      ],
      "source": [
        "pip install pyGPGO\n"
      ]
    },
    {
      "cell_type": "code",
      "execution_count": 2,
      "metadata": {
        "id": "ZJSSPbwPaEUB"
      },
      "outputs": [],
      "source": [
        "### 1. Import python modules/packages required:\n",
        "\n",
        "import numpy as np\n",
        "import pandas as pd\n",
        "import scipy as sp\n",
        "import matplotlib.pyplot as plt\n",
        "import warnings\n",
        "import itertools\n",
        "import seaborn as sns\n",
        "import time\n",
        "\n",
        "from pyGPGO.GPGO import GPGO\n",
        "from pyGPGO.surrogates.tStudentProcess import tStudentProcess\n",
        "from pyGPGO.acquisition import Acquisition\n",
        "from pyGPGO.covfunc import squaredExponential\n",
        "from joblib import Parallel, delayed\n",
        "from scipy.linalg import inv\n",
        "from scipy.spatial.distance import cdist\n",
        "from scipy.optimize import minimize\n",
        "from scipy.stats import t\n",
        "from mpl_toolkits.axes_grid1.inset_locator import inset_axes, mark_inset\n",
        "\n",
        "warnings.filterwarnings(\"ignore\", category=RuntimeWarning)\n"
      ]
    },
    {
      "cell_type": "code",
      "execution_count": 3,
      "metadata": {
        "id": "OeYcTUNoaJWa"
      },
      "outputs": [],
      "source": [
        "### Inputs:\n",
        "\n",
        "func = 'Branin'\n",
        "n_test = 500\n",
        "eps = 1e-08\n",
        "\n",
        "util = 'ERM'\n",
        "\n",
        "n_init = 5 # random initialisations\n",
        "iters = 20\n",
        "opt = True\n",
        "\n",
        "df = 3"
      ]
    },
    {
      "cell_type": "code",
      "execution_count": 4,
      "metadata": {
        "id": "xpaEOjdzaPMS"
      },
      "outputs": [],
      "source": [
        "### Objective Function - Branin(x) 2-D:\n",
        "\n",
        "def objfunc(x1_training, x2_training, a = 1, b = (5.1 / (4 * (np.pi) ** 2)), c = (5 / (np.pi)), r = 6, s = 10, t = (1 / (8 * np.pi))):\n",
        "        return operator * ((a * (x2_training - b * x1_training ** 2 + c * x1_training - r) ** 2) + \n",
        "                 s * (1 - t) * np.cos(x1_training) + s)\n",
        "        \n",
        "# Constraints:\n",
        "lb_x1 = -5 \n",
        "ub_x1 = +10\n",
        "lb_x2 = +0 \n",
        "ub_x2 = +15\n",
        "\n",
        "# Input array dimension(s):\n",
        "dim = 2\n",
        "\n",
        "# 2-D inputs' parameter bounds:\n",
        "param = {'x1_training': ('cont', [lb_x1, ub_x1]),\n",
        "             'x2_training': ('cont', [lb_x2, ub_x2])}\n",
        "\n",
        "# True y bounds:\n",
        "operator = -1\n",
        "y_lb = 0.397887 # targets global minimum\n",
        "y_global_orig = y_lb * operator # targets global minimum\n",
        "\n",
        "\n",
        "# Test data:\n",
        "x1_test = np.linspace(lb_x1, ub_x1, n_test)\n",
        "x2_test = np.linspace(lb_x2, ub_x2, n_test)\n",
        "  \n",
        "x_test = np.column_stack((x1_test,x2_test))"
      ]
    },
    {
      "cell_type": "code",
      "execution_count": 5,
      "metadata": {
        "id": "eYpI3Zm4aGxi"
      },
      "outputs": [],
      "source": [
        "n_start_AcqFunc = iters\n",
        "inverse = -1\n"
      ]
    },
    {
      "cell_type": "code",
      "execution_count": 6,
      "metadata": {
        "id": "oO_GUmOoaV0T"
      },
      "outputs": [],
      "source": [
        "### Cumulative Regret Calculators:\n",
        "\n",
        "def min_max_array(x):\n",
        "    new_list = []\n",
        "    for i, num in enumerate(x):\n",
        "            new_list.append(np.min(x[0:i+1]))\n",
        "    return new_list\n",
        "  \n",
        "def acqFuncExact(x):\n",
        "    new_array = []\n",
        "    x = np.array(x) \n",
        "    for i, num in enumerate(x):\n",
        "            new_array = x[:-2][::-3]\n",
        "    return new_array[::-1]\n",
        "\n",
        "def acqFuncApprox(x):\n",
        "    new_array = []\n",
        "    x = np.array(x) \n",
        "    for i, num in enumerate(x):\n",
        "            new_array = x[:-1][::-3]\n",
        "    return new_array[::-1]\n"
      ]
    },
    {
      "cell_type": "code",
      "execution_count": 7,
      "metadata": {
        "id": "kuuJx0IMam9S"
      },
      "outputs": [],
      "source": [
        "### Surrogate derivatives: \n",
        "\n",
        "cov_func = squaredExponential()\n",
        "\n",
        "def kronDelta(X, Xstar):                     # Kronecker's Delta method\n",
        "    return cdist(X, Xstar) < np.finfo(np.float32).eps\n",
        "\n",
        "def se(X, Xstar, sigmaf, l, sigman):         # S.E. kernel method\n",
        "    return sigmaf * np.exp(-0.5 * cdist(X, Xstar) ** 2 / l ** 2) + sigman * kronDelta(X, Xstar)\n",
        "\n",
        "def delta(X, Xstar):                         # Distance between training X and test Xstar vectors\n",
        "    return (X - Xstar)\n",
        "   \n",
        "def der_covmat(X, Xstar, sigmaf, l, sigman): # Covariance matrix derivative terms (i.e. exact, first-order)\n",
        "    nx = len(X)\n",
        "    ny = len(Xstar)\n",
        "    return np.round(np.array([(delta(np.atleast_2d(i), np.atleast_2d(j))[0] * se(np.atleast_2d(i), np.atleast_2d(j), sigmaf, l, sigman)[0]).sum() for (i, j) in itertools.product(X, Xstar)]).reshape(nx, ny), 8)\n",
        "\n",
        "class dtStudentProcess(tStudentProcess):    # Via inheritance, also optimises hyperparameters when opt = TRUE\n",
        "    \n",
        "    def AcqGrad(self, Xstar):               # Method returning exact, first-order derivatives of the STP's posterior mean and standard deviation\n",
        "        Xstar = np.atleast_2d(Xstar)\n",
        "        Kstar = self.covfunc.K(self.X, Xstar).T\n",
        "        dKstar = der_covmat(self.X, Xstar, self.covfunc.sigmaf, self.covfunc.l, self.covfunc.sigman).T\n",
        "        \n",
        "        smd_adj = (self.nu + self.beta1 - 2) / (self.nu + self.n1 - 2)\n",
        "\n",
        "        alpha = np.dot(np.linalg.inv(self.K11 + (self.covfunc.sigman**2) * np.eye(len(self.X))), self.y)\n",
        "        alpha_Kstar = np.dot(np.linalg.inv(self.K11 + (self.covfunc.sigman**2) * np.eye(len(self.X))), Kstar.T)      \n",
        "        \n",
        "        dm = np.dot(dKstar, alpha)\n",
        "        ds = -2 * smd_adj * np.dot(dKstar, alpha_Kstar)\n",
        "        \n",
        "        return dm, ds \n",
        "        "
      ]
    },
    {
      "cell_type": "code",
      "execution_count": 8,
      "metadata": {
        "id": "_Dc3YVHVaXz7"
      },
      "outputs": [],
      "source": [
        "### Add exact acquisition function gradient as attribute:\n",
        "\n",
        "class Acquisition_grad(Acquisition):    \n",
        "    def __init__(self, mode, eps=eps, **params):\n",
        "        \n",
        "        self.params = params\n",
        "        self.eps = eps\n",
        "\n",
        "        mode_dict = {\n",
        "            'ERM': self.ERM\n",
        "        }\n",
        "\n",
        "        self.f = mode_dict[mode]\n",
        "    \n",
        "    def ERM(self, tau, mean, std, ds, dm, nu=3.0):\n",
        "        gamma = (mean - y_global_orig - self.eps) / (std + self.eps)\n",
        "        gamma_h = (mean - tau) / (std + self.eps)\n",
        "        dsdx = ds / (2 * (std + self.eps))\n",
        "        dmdx = (dm - gamma * dsdx) / (std + self.eps)\n",
        "        \n",
        "        f = (std + self.eps) * (gamma * t.cdf(gamma, df=nu) + (nu + gamma ** 2)/(nu - 1) * t.pdf(gamma, df=nu))\n",
        "        df1 = f / (std + self.eps) * dsdx \n",
        "        df2 = (std + self.eps) * (t.cdf(gamma, df=nu) * dmdx + gamma * t.pdf(gamma, df=nu) \\\n",
        "            * (1 - (nu + gamma ** 2)/(nu - 1) + 2/(nu - 1) * dmdx))\n",
        "        df = (df1 + df2)[0]\n",
        "        df_arr = []\n",
        "\n",
        "        for j in range(0, dim):\n",
        "          df_arr.append(df)\n",
        "        return f, np.asarray(df_arr).transpose()\n",
        "        \n",
        "    def d_eval(self, tau, mean, std, ds, dm, nu=3.0):\n",
        "    \n",
        "        return self.f(tau, mean, std, ds, dm, nu=3.0, **self.params)\n",
        "        "
      ]
    },
    {
      "cell_type": "code",
      "execution_count": 9,
      "metadata": {
        "id": "PITEQC8YSl7i"
      },
      "outputs": [],
      "source": [
        "## GPGO_multi: \n",
        "\n",
        "class GPGO_multi(GPGO):\n",
        "    n_start = n_start_AcqFunc\n",
        "\n",
        "    def __init__(self, surrogate, acquisition, f, parameter_dict, n_jobs=1):\n",
        "        self.GP = surrogate\n",
        "        self.A = acquisition\n",
        "        self.f = f\n",
        "        self.parameters = parameter_dict\n",
        "        self.n_jobs = n_jobs\n",
        "\n",
        "        self.parameter_key = list(parameter_dict.keys())\n",
        "        self.parameter_value = list(parameter_dict.values())\n",
        "        self.parameter_type = [p[0] for p in self.parameter_value]\n",
        "        self.parameter_range = [p[1] for p in self.parameter_value]\n",
        "\n",
        "        self.history = []\n",
        "        self.header =   'Evaluation \\t Proposed point \\t  Current eval. \\t  Best eval. \\t        Exact ERM: StdDev. x \\t Approx ERM: StdDev. x '\n",
        "        self.template = '{:3}\\t {}\\t {:3}\\t {:3}\\t {:3}\\t {:3}'\n",
        " \n",
        "    def acqfuncExact(self, xnew, n_start=n_start_AcqFunc):\n",
        "        new_mean, new_var = self.GP.predict(xnew, return_std=True)\n",
        "        new_std = np.sqrt(new_var + eps)\n",
        "        dm, ds = self.GP.AcqGrad(xnew)\n",
        "        f, df = self.A.d_eval(self.tau, new_mean, new_std, ds=ds, dm=dm, nu=3.0)\n",
        "\n",
        "        return -f, -df\n",
        "   \n",
        "    def acqfuncApprox(self, xnew, n_start=n_start_AcqFunc):\n",
        "        new_mean, new_var = self.GP.predict(xnew, return_std=True)\n",
        "        new_std = np.sqrt(new_var + eps)\n",
        "        dm, ds = self.GP.AcqGrad(xnew)\n",
        "        f, df = self.A.d_eval(self.tau, new_mean, new_std, ds=ds, dm=dm, nu=3.0)\n",
        "\n",
        "        return -f\n",
        "   \n",
        "    def _optimizeAcq(self, method='L-BFGS-B', n_start=n_start_AcqFunc):\n",
        "        \n",
        "        start_points_dict = [self._sampleParam() for i in range(n_start)]\n",
        "        start_points_arr = np.array([list(s.values())\n",
        "                                     for s in start_points_dict])\n",
        "        x_best = np.empty((n_start, len(self.parameter_key)))\n",
        "        f_best = np.empty((n_start,))\n",
        "        opt = Parallel(n_jobs=self.n_jobs)(delayed(minimize)(self.acqfuncApprox,\n",
        "                                                                 x0=start_point,\n",
        "                                                                 method=method,\n",
        "                                                                 jac = False,\n",
        "                                                                 bounds=self.parameter_range) for start_point in\n",
        "                                               start_points_arr)\n",
        "        x_best = np.array([res.x for res in opt])\n",
        "        f_best = np.array([np.atleast_1d(res.fun)[0] for res in opt])\n",
        "        f_best_min = min(f_best)\n",
        "\n",
        "        self.x_best = x_best\n",
        "        self.f_best = f_best\n",
        "        self.f_best_min = f_best_min\n",
        "        self.x_best_std = np.std(x_best)\n",
        "        self.best = x_best[np.argmin(f_best)]\n",
        "        self.start_points_arr = start_points_arr        \n",
        "        self.history.append(self.x_best_std)\n",
        "\n",
        "        x_best_exact = np.empty((n_start, len(self.parameter_key)))\n",
        "        f_best_exact = np.empty((n_start,))\n",
        "        opt_exact = Parallel(n_jobs=self.n_jobs)(delayed(minimize)(self.acqfuncExact,\n",
        "                                                                 x0=start_point,\n",
        "                                                                 method=method,\n",
        "                                                                 jac = True,\n",
        "                                                                 bounds=self.parameter_range) for start_point in\n",
        "                                               start_points_arr)\n",
        "        x_best_exact = np.array([res.x for res in opt_exact])\n",
        "        f_best_exact = np.array([np.atleast_1d(res.fun)[0] for res in opt_exact])\n",
        "        f_best_min_exact = min(f_best_exact)\n",
        "\n",
        "        self.x_best_exact = x_best_exact\n",
        "        self.f_best_exact = f_best_exact\n",
        "        self.f_best_min_exact = f_best_min_exact\n",
        "        self.x_best_std_exact = np.std(x_best_exact)\n",
        "        self.best_exact = x_best_exact[np.argmin(f_best_exact)]\n",
        "        self.start_points_arr = start_points_arr\n",
        "        self.history.append(self.x_best_std_exact)\n",
        "\n",
        "    def _printInit(self):\n",
        "        print(self.header)\n",
        "        for init_eval in range(self.init_evals):\n",
        "            print(self.template.format('init', self.GP.X[init_eval], inverse * self.GP.y[init_eval], inverse * self.tau, '', ''))\n",
        "      \n",
        "    def _printCurrent(self):\n",
        "        OKGREEN = '\\033[92m'\n",
        "        ENDC = '\\033[0m'\n",
        "        BOLD = '\\033[1m'\n",
        "        eval = str(len(self.GP.y) - self.init_evals)\n",
        "        proposed = str(self.best)\n",
        "        curr_eval = str(inverse * self.GP.y[-1])\n",
        "        curr_best = str(inverse * self.tau)\n",
        "        min_acqfunc = str(self.f_best_min)\n",
        "        min_acqfunc_exact = str(self.f_best_min_exact)\n",
        "        x_best_std = str(self.x_best_std)\n",
        "        x_best_std_exact = str(self.x_best_std_exact)\n",
        "        if float(curr_eval) <= float(curr_best):\n",
        "            eval = BOLD + OKGREEN + eval + ENDC\n",
        "            proposed = BOLD + OKGREEN + proposed + ENDC\n",
        "            curr_eval = BOLD + OKGREEN + curr_eval + ENDC\n",
        "            curr_best = BOLD + OKGREEN + curr_best + ENDC\n",
        "            x_best_std = BOLD + OKGREEN + x_best_std + ENDC\n",
        "            x_best_std_exact = BOLD + OKGREEN + x_best_std_exact + ENDC\n",
        "        print(self.template.format(eval, proposed, curr_eval, curr_best, x_best_std_exact, x_best_std))\n",
        "        \n",
        "    def run(self, max_iter=10, init_evals=3, resume=False):\n",
        "        \n",
        "        if not resume:\n",
        "            self.init_evals = init_evals\n",
        "            self._firstRun(self.init_evals)\n",
        "            self._printInit()\n",
        "        for iteration in range(max_iter):\n",
        "            self._optimizeAcq()\n",
        "            self.updateGP()\n",
        "            self._printCurrent()\n"
      ]
    },
    {
      "cell_type": "code",
      "execution_count": 10,
      "metadata": {
        "id": "b_B-w81BJxKN"
      },
      "outputs": [],
      "source": [
        "## dGPGO:\n",
        "\n",
        "class dGPGO(GPGO):\n",
        "    n_start = n_start_AcqFunc\n",
        "\n",
        "    def __init__(self, surrogate, acquisition, f, parameter_dict, n_jobs=1):\n",
        "        self.GP = surrogate\n",
        "        self.A = acquisition\n",
        "        self.f = f\n",
        "        self.parameters = parameter_dict\n",
        "        self.n_jobs = n_jobs\n",
        "\n",
        "        self.parameter_key = list(parameter_dict.keys())\n",
        "        self.parameter_value = list(parameter_dict.values())\n",
        "        self.parameter_type = [p[0] for p in self.parameter_value]\n",
        "        self.parameter_range = [p[1] for p in self.parameter_value]\n",
        "\n",
        "        self.history = []\n",
        "        self.header =   'Evaluation \\t Proposed point \\t  Current eval. \\t  Best eval. \\t        Exact ERM: StdDev. x \\t Approx ERM: StdDev. x '\n",
        "        self.template = '{:3}\\t {}\\t {:3}\\t {:3}\\t {:3}\\t {:3}'\n",
        "\n",
        "    def acqfuncExact(self, xnew, n_start=n_start_AcqFunc):\n",
        "        new_mean, new_var = self.GP.predict(xnew, return_std=True)\n",
        "        new_std = np.sqrt(new_var + eps)\n",
        "        dm, ds = self.GP.AcqGrad(xnew)\n",
        "        f, df = self.A.d_eval(self.tau, new_mean, new_std, ds=ds, dm=dm, nu=3.0)\n",
        "\n",
        "        return -f, -df\n",
        "   \n",
        "    def acqfuncApprox(self, xnew, n_start=n_start_AcqFunc):\n",
        "        new_mean, new_var = self.GP.predict(xnew, return_std=True)\n",
        "        new_std = np.sqrt(new_var + eps)\n",
        "        dm, ds = self.GP.AcqGrad(xnew)\n",
        "        f, df = self.A.d_eval(self.tau, new_mean, new_std, ds=ds, dm=dm, nu=3.0)\n",
        "\n",
        "        return -f\n",
        "\n",
        "    def d_optimizeAcq(self, method='L-BFGS-B', n_start=n_start_AcqFunc):\n",
        "        start_points_dict = [self._sampleParam() for i in range(n_start)]\n",
        "        start_points_arr = np.array([list(s.values())\n",
        "                                     for s in start_points_dict])\n",
        "        x_best = np.empty((n_start, len(self.parameter_key)))\n",
        "        f_best = np.empty((n_start,))\n",
        "        opt = Parallel(n_jobs=self.n_jobs)(delayed(minimize)(self.acqfuncExact,\n",
        "                                                                 x0=start_point,\n",
        "                                                                 method=method,\n",
        "                                                                 jac = True,\n",
        "                                                                 bounds=self.parameter_range) for start_point in\n",
        "                                               start_points_arr)\n",
        "        x_best = np.array([res.x for res in opt])\n",
        "        f_best = np.array([np.atleast_1d(res.fun)[0] for res in opt])\n",
        "        f_best_min = min(f_best)\n",
        "\n",
        "        self.x_best = x_best\n",
        "        self.f_best = f_best\n",
        "        self.f_best_min = f_best_min\n",
        "        self.x_best_std = np.std(x_best)\n",
        "        self.best = x_best[np.argmin(f_best)]\n",
        "        self.start_points_arr = start_points_arr\n",
        "        self.history.append(self.x_best_std)\n",
        "\n",
        "        x_best_approx = np.empty((n_start, len(self.parameter_key)))\n",
        "        f_best_approx = np.empty((n_start,))\n",
        "        opt_approx = Parallel(n_jobs=self.n_jobs)(delayed(minimize)(self.acqfuncApprox,\n",
        "                                                                 x0=start_point,\n",
        "                                                                 method=method,\n",
        "                                                                 jac = False,\n",
        "                                                                 bounds=self.parameter_range) for start_point in\n",
        "                                               start_points_arr)\n",
        "        x_best_approx = np.array([res.x for res in opt_approx])\n",
        "        f_best_approx = np.array([np.atleast_1d(res.fun)[0] for res in opt_approx])\n",
        "        f_best_min_approx = min(f_best_approx)\n",
        "\n",
        "        self.x_best_approx = x_best_approx\n",
        "        self.f_best_approx = f_best_approx\n",
        "        self.f_best_min_approx = f_best_min_approx\n",
        "        self.x_best_std_approx = np.std(x_best_approx)\n",
        "        self.best_approx = x_best_approx[np.argmin(f_best_approx)]\n",
        "        self.start_points_arr = start_points_arr\n",
        "        self.history.append(self.x_best_std_approx)\n",
        "    \n",
        "    def _printInit(self):\n",
        "        print(self.header)\n",
        "        for init_eval in range(self.init_evals):\n",
        "            print(self.template.format('init', self.GP.X[init_eval], inverse * self.GP.y[init_eval], inverse * self.tau, '', ''))\n",
        "      \n",
        "    def _printCurrent(self):\n",
        "        OKGREEN = '\\033[92m'\n",
        "        ENDC = '\\033[0m'\n",
        "        BOLD = '\\033[1m'\n",
        "        eval = str(len(self.GP.y) - self.init_evals)\n",
        "        proposed = str(self.best)\n",
        "        curr_eval = str(inverse * self.GP.y[-1])\n",
        "        curr_best = str(inverse * self.tau)\n",
        "        min_acqfunc = str(self.f_best_min)\n",
        "        min_acqfunc_approx = str(self.f_best_min_approx)\n",
        "        x_best_std = str(self.x_best_std)\n",
        "        x_best_std_approx = str(self.x_best_std_approx)\n",
        "        if float(curr_eval) <= float(curr_best):\n",
        "            eval = BOLD + OKGREEN + eval + ENDC\n",
        "            proposed = BOLD + OKGREEN + proposed + ENDC\n",
        "            curr_eval = BOLD + OKGREEN + curr_eval + ENDC\n",
        "            curr_best = BOLD + OKGREEN + curr_best + ENDC\n",
        "            x_best_std = BOLD + OKGREEN + x_best_std + ENDC\n",
        "            x_best_std_approx = BOLD + OKGREEN + x_best_std_approx + ENDC\n",
        "        print(self.template.format(eval, proposed, curr_eval, curr_best, x_best_std, x_best_std_approx))\n",
        "\n",
        "    def run(self, max_iter=10, init_evals=3, resume=False):\n",
        "        \n",
        "        if not resume:\n",
        "            self.init_evals = init_evals\n",
        "            self._firstRun(self.init_evals)\n",
        "            self._printInit()\n",
        "        for iteration in range(max_iter):\n",
        "            self.d_optimizeAcq()\n",
        "            self.updateGP()\n",
        "            self._printCurrent()\n"
      ]
    },
    {
      "cell_type": "code",
      "execution_count": 11,
      "metadata": {
        "id": "qXIKGuXVGEg2"
      },
      "outputs": [],
      "source": [
        "###Reproducible set-seeds:\n",
        "\n",
        "run_num_1 = 1\n",
        "run_num_2 = 2\n",
        "run_num_3 = 3\n",
        "run_num_4 = 4\n",
        "run_num_5 = 5\n",
        "run_num_6 = 6\n",
        "run_num_7 = 7\n",
        "run_num_8 = 8\n",
        "run_num_9 = 9\n",
        "run_num_10 = 10\n",
        "run_num_11 = 11\n",
        "run_num_12 = 12\n",
        "run_num_13 = 13\n",
        "run_num_14 = 14\n",
        "run_num_15 = 15\n",
        "run_num_16 = 16\n",
        "run_num_17 = 17\n",
        "run_num_18 = 18\n",
        "run_num_19 = 19\n",
        "run_num_20 = 20\n"
      ]
    },
    {
      "cell_type": "code",
      "execution_count": 12,
      "metadata": {
        "colab": {
          "base_uri": "https://localhost:8080/"
        },
        "id": "JEhagQmnTVIK",
        "outputId": "2261ad91-7f69-46f9-e589-a457a7141695"
      },
      "outputs": [
        {
          "output_type": "execute_result",
          "data": {
            "text/plain": [
              "1663322618.6400461"
            ]
          },
          "metadata": {},
          "execution_count": 12
        }
      ],
      "source": [
        "start_approx = time.time()\n",
        "start_approx\n"
      ]
    },
    {
      "cell_type": "code",
      "execution_count": 13,
      "metadata": {
        "colab": {
          "base_uri": "https://localhost:8080/"
        },
        "id": "aH0YSTXufD1v",
        "outputId": "e603eb2c-bb1e-4f2f-83fe-1f50dbc64747"
      },
      "outputs": [
        {
          "output_type": "stream",
          "name": "stdout",
          "text": [
            "Evaluation \t Proposed point \t  Current eval. \t  Best eval. \t        Exact ERM: StdDev. x \t Approx ERM: StdDev. x \n",
            "init\t [ 1.25533007 10.8048674 ]\t 56.52874004692151\t 27.68166689936483\t    \t    \n",
            "init\t [-4.99828438  4.53498859]\t 172.66531086516164\t 27.68166689936483\t    \t    \n",
            "init\t [-2.79866164  1.38507892]\t 102.58290348816024\t 27.68166689936483\t    \t    \n",
            "init\t [-2.20609683  5.18341091]\t 28.868064601155666\t 27.68166689936483\t    \t    \n",
            "init\t [0.95151211 8.08225101]\t 27.68166689936483\t 27.68166689936483\t    \t    \n",
            "\u001b[1m\u001b[92m1\u001b[0m\t \u001b[1m\u001b[92m[8.41909995 1.27566317]\u001b[0m\t \u001b[1m\u001b[92m5.089934878453152\u001b[0m\t \u001b[1m\u001b[92m5.089934878453152\u001b[0m\t \u001b[1m\u001b[92m5.340590691766231\u001b[0m\t \u001b[1m\u001b[92m5.496908624787056\u001b[0m\n",
            "2  \t [ 8.98893195 10.45227242]\t 70.52424256621515\t 5.089934878453152\t 5.715074871881187\t 5.7405797219728365\n",
            "3  \t [-2.89399201 15.        ]\t 11.660885255200084\t 5.089934878453152\t 5.080167595712545\t 5.188374113810777\n",
            "4  \t [3.16734272 0.        ]\t 5.486114690773226\t 5.089934878453152\t 5.470998323033277\t 5.9939639302982926\n",
            "5  \t [ 5.43365279 15.        ]\t 207.71485600111575\t 5.089934878453152\t 4.323785516519015\t 4.489017935328112\n",
            "6  \t [5.87428177 5.72009882]\t 40.07655666631159\t 5.089934878453152\t 5.135060368612696\t 5.481273671786316\n",
            "7  \t [-5.         10.26896484]\t 60.58794629459761\t 5.089934878453152\t 5.730310598519862\t 6.3529664277553515\n",
            "8  \t [10. 15.]\t 145.87219087939556\t 5.089934878453152\t 5.061282161166527\t 5.3496481182330635\n",
            "9  \t [10.         5.0521961]\t 6.142523188432219\t 5.089934878453152\t 5.065852924063676\t 5.205250018063433\n",
            "10 \t [1.87207416 3.66249218]\t 7.186474928717841\t 5.089934878453152\t 4.298475189405094\t 4.707474694626409\n",
            "11 \t [ 0.89194689 15.        ]\t 122.46555750930995\t 5.089934878453152\t 4.591938985191829\t 5.166380017793437\n",
            "12 \t [5.04290407 9.70300407]\t 84.41324637886473\t 5.089934878453152\t 4.290995298881113\t 4.756339253238932\n",
            "13 \t [5.40382768 2.04075538]\t 16.87765316592267\t 5.089934878453152\t 4.178205294746202\t 4.257175489193158\n",
            "14 \t [-1.96988556 11.92343965]\t 11.499074552796756\t 5.089934878453152\t 5.354254031198603\t 5.642849545440348\n",
            "15 \t [0.51482658 0.        ]\t 45.552316402166504\t 5.089934878453152\t 4.9672928592139325\t 5.384444083388455\n",
            "16 \t [-2.18461143  8.44657882]\t 7.181472734181741\t 5.089934878453152\t 4.834592267901673\t 4.922052769409207\n",
            "17 \t [8.57349715 7.31883158]\t 33.57418250168616\t 5.089934878453152\t 4.712848820997085\t 4.7663347239262706\n",
            "18 \t [2.9989515  6.11299548]\t 14.36452852523055\t 5.089934878453152\t 5.036527438535129\t 5.666675265081219\n",
            "19 \t [-5.         13.33418645]\t 27.570701799387287\t 5.089934878453152\t 5.219645690989544\t 5.947833059624427\n",
            "20 \t [ 3.65485171 12.48005581]\t 113.387385475635\t 5.089934878453152\t 5.408715957811018\t 6.256710792994238\n"
          ]
        }
      ],
      "source": [
        "### ESTIMATED STP ERM GRADIENTS\n",
        "\n",
        "np.random.seed(run_num_1)\n",
        "surrogate_approx_1 = dtStudentProcess(cov_func, optimize=opt, nu = df)\n",
        "\n",
        "approx_1 = GPGO_multi(surrogate_approx_1, Acquisition_grad(util), objfunc, param)\n",
        "approx_1.run(init_evals=n_init, max_iter=iters)\n"
      ]
    },
    {
      "cell_type": "code",
      "execution_count": 14,
      "metadata": {
        "id": "wTxsSZxFGBB5",
        "colab": {
          "base_uri": "https://localhost:8080/"
        },
        "outputId": "027d0160-9755-48b2-86a9-49725bf703b5"
      },
      "outputs": [
        {
          "output_type": "stream",
          "name": "stdout",
          "text": [
            "Evaluation \t Proposed point \t  Current eval. \t  Best eval. \t        Exact ERM: StdDev. x \t Approx ERM: StdDev. x \n",
            "init\t [1.53992353 0.38889348]\t 22.31361308916297\t 6.692051508754487\t    \t    \n",
            "init\t [3.24493717 6.52983589]\t 19.233109967858276\t 6.692051508754487\t    \t    \n",
            "init\t [1.30551703 4.95502232]\t 13.177851563387286\t 6.692051508754487\t    \t    \n",
            "init\t [-1.93027049  9.2890645 ]\t 6.692051508754487\t 6.692051508754487\t    \t    \n",
            "init\t [-0.50517989  4.00240913]\t 26.437522758780958\t 6.692051508754487\t    \t    \n",
            "1  \t [ 8.46607084 14.67537039]\t 170.64328894458473\t 6.692051508754487\t 5.599226190971729\t 6.086998482655873\n",
            "\u001b[1m\u001b[92m2\u001b[0m\t \u001b[1m\u001b[92m[9.59366035 1.69164323]\u001b[0m\t \u001b[1m\u001b[92m1.3984593420568778\u001b[0m\t \u001b[1m\u001b[92m1.3984593420568778\u001b[0m\t \u001b[1m\u001b[92m4.495496226122183\u001b[0m\t \u001b[1m\u001b[92m5.409957263557668\u001b[0m\n",
            "3  \t [-5.          0.63724474]\t 286.63006759236856\t 1.3984593420568778\t 5.417275983934143\t 5.993845558184856\n",
            "4  \t [10.          7.92955631]\t 26.214525295287956\t 1.3984593420568778\t 4.3105951153552615\t 5.156521287455628\n",
            "5  \t [ 2.56208107 13.57179262]\t 118.63739072130377\t 1.3984593420568778\t 4.574902158211437\t 5.569272429611297\n",
            "6  \t [-3.19219289 14.54689504]\t 5.032504370961937\t 1.3984593420568778\t 5.067651988655072\t 6.03165718963299\n",
            "7  \t [-5.          6.03830599]\t 137.02515894794203\t 1.3984593420568778\t 4.664342592156165\t 4.995919619548694\n",
            "8  \t [5.73559356 2.52760632]\t 20.175778849488218\t 1.3984593420568778\t 5.105567661700316\t 5.776161106579301\n",
            "9  \t [ 6.0387586  10.13808914]\t 101.00488284274532\t 1.3984593420568778\t 4.631508906895813\t 4.493945329124284\n",
            "10 \t [-5.         11.30430222]\t 47.33412376026391\t 1.3984593420568778\t 4.861300771328567\t 5.146435651308313\n",
            "11 \t [1.38250009 9.62312394]\t 42.895063106282194\t 1.3984593420568778\t 5.180383359886994\t 5.4027362534001515\n",
            "12 \t [8.86286431 4.5028399 ]\t 7.931036436751088\t 1.3984593420568778\t 5.321942563347234\t 5.3529665362180125\n",
            "13 \t [7.68222498 0.        ]\t 13.593820861115095\t 1.3984593420568778\t 5.068478709837106\t 5.27188436587443\n",
            "14 \t [-1.20891396 12.41216962]\t 31.883670606030755\t 1.3984593420568778\t 5.441469071907882\t 6.860791011653015\n",
            "15 \t [10.         11.33675147]\t 71.39527751906937\t 1.3984593420568778\t 5.307679070880475\t 4.919584871564762\n",
            "16 \t [6.52024562 6.27909238]\t 46.00342269303471\t 1.3984593420568778\t 5.300415749905334\t 5.140455702124804\n",
            "17 \t [-1.55517654  0.82155161]\t 73.60762715912827\t 1.3984593420568778\t 4.2808834832055584\t 4.791393450252215\n",
            "18 \t [-2.08835058  6.43655775]\t 17.15563184124586\t 1.3984593420568778\t 5.818705349542236\t 5.875918121863942\n",
            "19 \t [ 5.31777814 15.        ]\t 206.18956342429226\t 1.3984593420568778\t 5.203095038494487\t 6.212104750905401\n",
            "20 \t [4.4920416 0.       ]\t 10.025397242685962\t 1.3984593420568778\t 6.1622014921109285\t 6.360973081373266\n"
          ]
        }
      ],
      "source": [
        "### ESTIMATED STP ERM GRADIENTS\n",
        "\n",
        "np.random.seed(run_num_2)\n",
        "surrogate_approx_2 = dtStudentProcess(cov_func, optimize=opt, nu = df)\n",
        "\n",
        "approx_2 = GPGO_multi(surrogate_approx_2, Acquisition_grad(util), objfunc, param)\n",
        "approx_2.run(init_evals=n_init, max_iter=iters)\n"
      ]
    },
    {
      "cell_type": "code",
      "execution_count": 15,
      "metadata": {
        "id": "-dgzIrUIGCGT",
        "colab": {
          "base_uri": "https://localhost:8080/"
        },
        "outputId": "f395bba4-da62-40b4-8476-5f91b611eb4c"
      },
      "outputs": [
        {
          "output_type": "stream",
          "name": "stdout",
          "text": [
            "Evaluation \t Proposed point \t  Current eval. \t  Best eval. \t        Exact ERM: StdDev. x \t Approx ERM: StdDev. x \n",
            "init\t [ 3.26196854 10.62221734]\t 71.68783452098575\t 18.07886746449891\t    \t    \n",
            "init\t [-0.63642892  7.66241408]\t 18.07886746449891\t 18.07886746449891\t    \t    \n",
            "init\t [ 8.39420432 13.44439633]\t 141.98653529865882\t 18.07886746449891\t    \t    \n",
            "init\t [-3.11622034  3.10864317]\t 83.31045707266176\t 18.07886746449891\t    \t    \n",
            "init\t [-4.22799195  6.61214765]\t 76.5294170688398\t 18.07886746449891\t    \t    \n",
            "1  \t [6.70472147 4.59545299]\t 30.726791812855225\t 18.07886746449891\t 4.241477993385701\t 4.241477993385701\n",
            "\u001b[1m\u001b[92m2\u001b[0m\t \u001b[1m\u001b[92m[-5. 15.]\u001b[0m\t \u001b[1m\u001b[92m17.508299515778166\u001b[0m\t \u001b[1m\u001b[92m17.508299515778166\u001b[0m\t \u001b[1m\u001b[92m5.205194297266853\u001b[0m\t \u001b[1m\u001b[92m6.041582924078019\u001b[0m\n",
            "\u001b[1m\u001b[92m3\u001b[0m\t \u001b[1m\u001b[92m[2.85406233 0.34779969]\u001b[0m\t \u001b[1m\u001b[92m5.466816786205542\u001b[0m\t \u001b[1m\u001b[92m5.466816786205542\u001b[0m\t \u001b[1m\u001b[92m5.450329841196635\u001b[0m\t \u001b[1m\u001b[92m6.256232988818928\u001b[0m\n",
            "4  \t [9.64673545 0.        ]\t 7.754815894887007\t 5.466816786205542\t 4.485248743049029\t 4.4433403758770735\n",
            "5  \t [ 0.18131554 15.        ]\t 105.64341136808237\t 5.466816786205542\t 4.877474614125568\t 5.989348850244664\n",
            "6  \t [10.          8.34439645]\t 30.474120298785408\t 5.466816786205542\t 4.744138342472093\t 4.703607229314712\n",
            "\u001b[1m\u001b[92m7\u001b[0m\t \u001b[1m\u001b[92m[2.56384761 3.87026893]\u001b[0m\t \u001b[1m\u001b[92m3.1698435521181274\u001b[0m\t \u001b[1m\u001b[92m3.1698435521181274\u001b[0m\t \u001b[1m\u001b[92m4.771922151064556\u001b[0m\t \u001b[1m\u001b[92m4.160139730098068\u001b[0m\n",
            "\u001b[1m\u001b[92m8\u001b[0m\t \u001b[1m\u001b[92m[-3.07046805 11.22866374]\u001b[0m\t \u001b[1m\u001b[92m1.1896459346381985\u001b[0m\t \u001b[1m\u001b[92m1.1896459346381985\u001b[0m\t \u001b[1m\u001b[92m5.145251799778047\u001b[0m\t \u001b[1m\u001b[92m5.508610485790527\u001b[0m\n",
            "9  \t [ 2.9848232  13.89014314]\t 132.52907817355987\t 1.1896459346381985\t 4.349432085567316\t 4.197931292305734\n",
            "10 \t [-0.52181297  0.        ]\t 65.46161229856006\t 1.1896459346381985\t 4.307151327306788\t 5.4810146085708125\n",
            "11 \t [6.18245913 0.        ]\t 20.75927684079231\t 1.1896459346381985\t 4.887761059661614\t 5.6625252639617205\n",
            "12 \t [10.          3.39164698]\t 2.0942208739180606\t 1.1896459346381985\t 4.349994203168231\t 5.137670307453105\n",
            "13 \t [6.32056225 8.30938972]\t 71.55095122353539\t 1.1896459346381985\t 5.804474772866928\t 5.65709116687392\n",
            "14 \t [2.74892295 6.6946159 ]\t 17.885192684961865\t 1.1896459346381985\t 5.611408829842\t 5.5540237544043\n",
            "15 \t [-0.2109929  11.26950343]\t 43.67383032534598\t 1.1896459346381985\t 5.4912353231742745\t 5.498552394388019\n",
            "16 \t [-5.  0.]\t 308.12909601160663\t 1.1896459346381985\t 5.571209324453981\t 5.2340200994598005\n",
            "17 \t [-5.         10.02846267]\t 63.97356553122357\t 1.1896459346381985\t 5.415606244932152\t 5.564650818784165\n",
            "18 \t [-0.01944708  4.52774549]\t 21.860070629328433\t 1.1896459346381985\t 4.572054888868175\t 5.276411339059247\n",
            "19 \t [ 6.17465591 11.35601891]\t 124.77119536255148\t 1.1896459346381985\t 5.1770728845304195\t 5.0215289203771585\n",
            "20 \t [4.43166101 5.62334984]\t 24.474506083821616\t 1.1896459346381985\t 4.368897873311139\t 4.668249300812163\n"
          ]
        }
      ],
      "source": [
        "### ESTIMATED STP ERM GRADIENTS\n",
        "\n",
        "np.random.seed(run_num_3)\n",
        "surrogate_approx_3 = dtStudentProcess(cov_func, optimize=opt, nu = df)\n",
        "\n",
        "approx_3 = GPGO_multi(surrogate_approx_3, Acquisition_grad(util), objfunc, param)\n",
        "approx_3.run(init_evals=n_init, max_iter=iters)\n"
      ]
    },
    {
      "cell_type": "code",
      "execution_count": 16,
      "metadata": {
        "id": "hOtG-2sCGCKS",
        "colab": {
          "base_uri": "https://localhost:8080/"
        },
        "outputId": "2dc20756-23e8-4955-e061-ce60f5b8e95b"
      },
      "outputs": [
        {
          "output_type": "stream",
          "name": "stdout",
          "text": [
            "Evaluation \t Proposed point \t  Current eval. \t  Best eval. \t        Exact ERM: StdDev. x \t Approx ERM: StdDev. x \n",
            "init\t [9.50544759 8.20848374]\t 32.51676744781521\t 7.247126865776948\t    \t    \n",
            "init\t [ 9.5902654  10.72223991]\t 66.20566674364716\t 7.247126865776948\t    \t    \n",
            "init\t [5.46593237 3.24134243]\t 20.90089401680587\t 7.247126865776948\t    \t    \n",
            "init\t [9.64411682 0.09345383]\t 7.247126865776948\t 7.247126865776948\t    \t    \n",
            "init\t [-1.20526456  6.52187299]\t 15.941376982363263\t 7.247126865776948\t    \t    \n",
            "1  \t [ 1.25164457 13.57001383]\t 100.61648848019335\t 7.247126865776948\t 5.2402538839240655\t 5.741752587556389\n",
            "2  \t [-5.         13.24978887]\t 28.22822170351927\t 7.247126865776948\t 6.20581639654956\t 5.898092220590237\n",
            "3  \t [0.2005701  1.25868149]\t 39.01058966424029\t 7.247126865776948\t 5.477112904664057\t 5.654600915679881\n",
            "4  \t [-5.  0.]\t 308.12909601160663\t 7.247126865776948\t 5.287522660345248\t 5.441154903167734\n",
            "5  \t [3.86024444 8.49136559]\t 47.797910291099754\t 7.247126865776948\t 5.500080590787816\t 5.586053582601533\n",
            "6  \t [ 6.5395642 15.       ]\t 212.03561197800263\t 7.247126865776948\t 4.6482880587836615\t 5.851369412956953\n",
            "7  \t [-5.          8.61206485]\t 86.25944116094246\t 7.247126865776948\t 5.0713793033844645\t 5.476527383218006\n",
            "\u001b[1m\u001b[92m8\u001b[0m\t \u001b[1m\u001b[92m[10.          3.97164606]\u001b[0m\t \u001b[1m\u001b[92m2.881499920619941\u001b[0m\t \u001b[1m\u001b[92m2.881499920619941\u001b[0m\t \u001b[1m\u001b[92m4.600287726774797\u001b[0m\t \u001b[1m\u001b[92m4.686599954813538\u001b[0m\n",
            "9  \t [3.97447474 0.        ]\t 6.481727034821467\t 2.881499920619941\t 4.945266295108968\t 4.647112451148804\n",
            "10 \t [-5.          4.45680378]\t 174.79081506180083\t 2.881499920619941\t 5.279367465976934\t 5.591107788679903\n",
            "11 \t [2.0596413  4.82066679]\t 7.895367197976968\t 2.881499920619941\t 5.283846953931626\t 4.718303970212153\n",
            "12 \t [ 4.1137574  11.96798308]\t 111.27819540216987\t 2.881499920619941\t 4.753954366668852\t 5.011616412556244\n",
            "13 \t [-1.17271768 10.27181628]\t 18.684953174227022\t 2.881499920619941\t 5.303414672171592\t 5.325168765478764\n",
            "14 \t [-2.18973339 15.        ]\t 28.395066013589606\t 2.881499920619941\t 4.681213911635562\t 4.636817858003315\n",
            "15 \t [6.7792671  6.21432759]\t 44.11652304071787\t 2.881499920619941\t 4.75480800015217\t 4.654510230119991\n",
            "16 \t [6.81854074 0.        ]\t 19.590523785473955\t 2.881499920619941\t 5.518966060029191\t 5.710352885839809\n",
            "17 \t [10.         13.70047302]\t 116.37999813836608\t 2.881499920619941\t 5.4535597053442535\t 5.26011738546883\n",
            "18 \t [-1.82791109  3.55971784]\t 40.97975322484628\t 2.881499920619941\t 4.7649053283171945\t 5.080216383125471\n",
            "19 \t [ 6.78991688 10.86993247]\t 112.88613624512642\t 2.881499920619941\t 5.17813175623199\t 5.906715070250414\n",
            "20 \t [0.95402241 8.35195669]\t 29.63707272751802\t 2.881499920619941\t 5.137415374578058\t 5.654754948085035\n"
          ]
        }
      ],
      "source": [
        "### ESTIMATED STP ERM GRADIENTS\n",
        "\n",
        "np.random.seed(run_num_4)\n",
        "surrogate_approx_4 = dtStudentProcess(cov_func, optimize=opt, nu = df)\n",
        "\n",
        "approx_4= GPGO_multi(surrogate_approx_4, Acquisition_grad(util), objfunc, param)\n",
        "approx_4.run(init_evals=n_init, max_iter=iters)\n"
      ]
    },
    {
      "cell_type": "code",
      "execution_count": 17,
      "metadata": {
        "id": "JF_SxcEvGCOl",
        "colab": {
          "base_uri": "https://localhost:8080/"
        },
        "outputId": "7ff3c7f4-50fe-4f57-c3ee-53a3e0f9f986"
      },
      "outputs": [
        {
          "output_type": "stream",
          "name": "stdout",
          "text": [
            "Evaluation \t Proposed point \t  Current eval. \t  Best eval. \t        Exact ERM: StdDev. x \t Approx ERM: StdDev. x \n",
            "init\t [-1.67010243 13.06098459]\t 25.390690545664548\t 25.311309190989615\t    \t    \n",
            "init\t [-1.89921267 13.77916362]\t 25.311309190989615\t 25.311309190989615\t    \t    \n",
            "init\t [2.32616783 9.17615794]\t 41.60147975414021\t 25.311309190989615\t    \t    \n",
            "init\t [6.48861785 7.77626982]\t 63.81281921768236\t 25.311309190989615\t    \t    \n",
            "init\t [-0.54799248  2.81581843]\t 34.966203644931994\t 25.311309190989615\t    \t    \n",
            "\u001b[1m\u001b[92m1\u001b[0m\t \u001b[1m\u001b[92m[8.84124421 0.03321319]\u001b[0m\t \u001b[1m\u001b[92m5.96108856337545\u001b[0m\t \u001b[1m\u001b[92m5.96108856337545\u001b[0m\t \u001b[1m\u001b[92m6.141465238109788\u001b[0m\t \u001b[1m\u001b[92m6.0812975364330475\u001b[0m\n",
            "2  \t [ 6.75909387 14.87069624]\t 206.94609790360653\t 5.96108856337545\t 5.543552314619118\t 5.474371671665266\n",
            "3  \t [-5.          6.25055159]\t 132.33753191713197\t 5.96108856337545\t 5.576638137748949\t 6.132933894467863\n",
            "4  \t [-5.  0.]\t 308.12909601160663\t 5.96108856337545\t 5.44260699618553\t 5.857004669706865\n",
            "5  \t [3.90188833 0.        ]\t 6.128174850722516\t 5.96108856337545\t 5.115271478015284\t 5.521001676177939\n",
            "\u001b[1m\u001b[92m6\u001b[0m\t \u001b[1m\u001b[92m[10.          4.33713845]\u001b[0m\t \u001b[1m\u001b[92m3.7231818506159327\u001b[0m\t \u001b[1m\u001b[92m3.7231818506159327\u001b[0m\t \u001b[1m\u001b[92m5.36156727914644\u001b[0m\t \u001b[1m\u001b[92m5.611059544248955\u001b[0m\n",
            "7  \t [10.         11.00367445]\t 65.9546266752983\t 3.7231818506159327\t 4.783141717815093\t 5.59405893862615\n",
            "8  \t [3.79856906 4.09292435]\t 7.570058716504598\t 3.7231818506159327\t 4.649375612706956\t 5.206898698821936\n",
            "9  \t [ 2.11245238 15.        ]\t 143.94976233305835\t 3.7231818506159327\t 4.971357120883926\t 5.727117985082064\n",
            "10 \t [-5.         10.81105595]\t 53.38100812203604\t 3.7231818506159327\t 5.99826072800872\t 6.126286863408402\n",
            "11 \t [-0.80088098  6.85465222]\t 16.936643233944068\t 3.7231818506159327\t 4.725401004456119\t 4.8721689954539045\n",
            "12 \t [6.98891427 2.91531488]\t 20.296289027052744\t 3.7231818506159327\t 5.656603101160166\t 5.572667914218038\n",
            "13 \t [10.         7.1786782]\t 19.37979151264109\t 3.7231818506159327\t 5.222371041950255\t 4.172603437799177\n",
            "14 \t [-5. 15.]\t 17.508299515778166\t 3.7231818506159327\t 4.6185048549611265\t 4.843808596997614\n",
            "15 \t [ 5.15636269 11.30082808]\t 115.58302070409904\t 3.7231818506159327\t 4.979193338571162\t 4.934710321527494\n",
            "16 \t [1.01201319 0.        ]\t 35.535816069106474\t 3.7231818506159327\t 5.631876211789303\t 4.724426211308983\n",
            "17 \t [-1.35644563  9.90275033]\t 14.311156148545745\t 3.7231818506159327\t 4.668868783500873\t 5.277567165287784\n",
            "18 \t [1.8954051 5.7875543]\t 12.413505195266584\t 3.7231818506159327\t 5.361249581093811\t 5.79988184638869\n",
            "19 \t [10. 15.]\t 145.87219087939556\t 3.7231818506159327\t 5.980956797157577\t 5.70419756595292\n",
            "20 \t [ 7.34383333 12.50382019]\t 140.68332740187432\t 3.7231818506159327\t 4.636145944877206\t 5.125321058449457\n"
          ]
        }
      ],
      "source": [
        "### ESTIMATED STP ERM GRADIENTS\n",
        "\n",
        "np.random.seed(run_num_5)\n",
        "surrogate_approx_5 = dtStudentProcess(cov_func, optimize=opt, nu = df)\n",
        "\n",
        "approx_5 = GPGO_multi(surrogate_approx_5, Acquisition_grad(util), objfunc, param)\n",
        "approx_5.run(init_evals=n_init, max_iter=iters)\n"
      ]
    },
    {
      "cell_type": "code",
      "execution_count": 18,
      "metadata": {
        "id": "-kDxZtJsGCR3",
        "colab": {
          "base_uri": "https://localhost:8080/"
        },
        "outputId": "7089e440-3b42-488e-e8df-0c56154c685d"
      },
      "outputs": [
        {
          "output_type": "stream",
          "name": "stdout",
          "text": [
            "Evaluation \t Proposed point \t  Current eval. \t  Best eval. \t        Exact ERM: StdDev. x \t Approx ERM: StdDev. x \n",
            "init\t [8.39290227 4.97969708]\t 15.553860636684597\t 15.31731051317483\t    \t    \n",
            "init\t [7.31843685 0.62544939]\t 15.31731051317483\t 15.31731051317483\t    \t    \n",
            "init\t [-3.3851498   8.92578096]\t 16.222288919361837\t 15.31731051317483\t    \t    \n",
            "init\t [2.94726043 6.28211143]\t 15.406373581304088\t 15.31731051317483\t    \t    \n",
            "init\t [0.03111774 9.33779148]\t 31.07053245856209\t 15.31731051317483\t    \t    \n",
            "1  \t [ 9.64829531 12.55362889]\t 98.32295673962142\t 15.31731051317483\t 5.361214713282755\t 5.618991212886415\n",
            "2  \t [-1.22578785  0.62063252]\t 69.8637190838968\t 15.31731051317483\t 5.877493305715666\t 6.304814833298821\n",
            "3  \t [ 4.34724927 14.59608757]\t 177.48889452505895\t 15.31731051317483\t 5.3671216174303344\t 5.4233099889438625\n",
            "4  \t [-2.41015644 14.55025163]\t 18.56689123293787\t 15.31731051317483\t 5.749146096090794\t 6.384213334191322\n",
            "5  \t [-5.          4.21813234]\t 180.92461932534616\t 15.31731051317483\t 6.149429375119838\t 5.602922269323449\n",
            "6  \t [5.85556125 9.56490312]\t 90.22267330732427\t 15.31731051317483\t 5.3135977226940865\t 5.5281189120291865\n",
            "\u001b[1m\u001b[92m7\u001b[0m\t \u001b[1m\u001b[92m[3.23826262 1.87853779]\u001b[0m\t \u001b[1m\u001b[92m0.5465834056687395\u001b[0m\t \u001b[1m\u001b[92m0.5465834056687395\u001b[0m\t \u001b[1m\u001b[92m5.894025478648562\u001b[0m\t \u001b[1m\u001b[92m6.242061476479507\u001b[0m\n",
            "8  \t [-0.95291145  5.0162485 ]\t 22.414776877212834\t 0.5465834056687395\t 5.193762490871944\t 5.4357681447214485\n",
            "9  \t [ 0.18638758 12.6865283 ]\t 68.1378550124482\t 0.5465834056687395\t 5.212016976358616\t 4.606374936022011\n",
            "10 \t [-4.26114313  0.85643378]\t 209.47503497239973\t 0.5465834056687395\t 5.41346875648767\t 5.5557395786192245\n",
            "11 \t [10.          8.30452321]\t 30.04974908178947\t 0.5465834056687395\t 5.306042398441594\t 6.2637661664501385\n",
            "12 \t [-5.         12.12971683]\t 38.30350947817465\t 0.5465834056687395\t 5.806736526575783\t 5.792171834594202\n",
            "13 \t [10.          2.39181245]\t 2.3166378438970403\t 0.5465834056687395\t 5.4550015382584975\t 5.602802597258151\n",
            "14 \t [5.24796574 3.64200821]\t 20.836924159517327\t 0.5465834056687395\t 5.5456065465283695\t 5.292579796282504\n",
            "15 \t [4.33786865 0.        ]\t 8.818860257135373\t 0.5465834056687395\t 5.30339752500559\t 5.841427877608181\n",
            "16 \t [1.5069264  3.25232721]\t 11.025907752763237\t 0.5465834056687395\t 4.784435712407333\t 5.438415282033847\n",
            "17 \t [ 2.87155562 10.86415668]\t 70.78845746281542\t 0.5465834056687395\t 4.9670840628028206\t 5.370044171750889\n",
            "18 \t [1.77038275 0.        ]\t 20.96457760342681\t 0.5465834056687395\t 5.214035629825219\t 5.593896869165349\n",
            "19 \t [ 7.64931658 15.        ]\t 197.33107194186454\t 0.5465834056687395\t 5.9057651258176005\t 5.964827602391922\n",
            "20 \t [10.  0.]\t 10.960889035651505\t 0.5465834056687395\t 5.718866046566138\t 5.38013930890619\n"
          ]
        }
      ],
      "source": [
        "### ESTIMATED STP ERM GRADIENTS\n",
        "\n",
        "np.random.seed(run_num_6)\n",
        "surrogate_approx_6 = dtStudentProcess(cov_func, optimize=opt, nu = df)\n",
        "\n",
        "approx_6 = GPGO_multi(surrogate_approx_6, Acquisition_grad(util), objfunc, param)\n",
        "approx_6.run(init_evals=n_init, max_iter=iters)\n"
      ]
    },
    {
      "cell_type": "code",
      "execution_count": 19,
      "metadata": {
        "id": "fKB8MCD_GCVI",
        "colab": {
          "base_uri": "https://localhost:8080/"
        },
        "outputId": "c5ec95e7-fa0f-4f46-ea6f-88e6ba20e7f1"
      },
      "outputs": [
        {
          "output_type": "stream",
          "name": "stdout",
          "text": [
            "Evaluation \t Proposed point \t  Current eval. \t  Best eval. \t        Exact ERM: StdDev. x \t Approx ERM: StdDev. x \n",
            "init\t [-3.85537566 11.69878188]\t 8.299317850233932\t 5.211335324193094\t    \t    \n",
            "init\t [ 1.57613847 10.85197767]\t 59.50408380701259\t 5.211335324193094\t    \t    \n",
            "init\t [9.66984268 8.07743806]\t 29.714921414987273\t 5.211335324193094\t    \t    \n",
            "init\t [2.51680695 1.080767  ]\t 5.211335324193094\t 5.211335324193094\t    \t    \n",
            "init\t [-0.9734153   7.49823751]\t 15.431057204948033\t 5.211335324193094\t    \t    \n",
            "1  \t [-4.97859679  1.38393519]\t 260.3293952774437\t 5.211335324193094\t 4.216856105783353\t 4.7003466868822\n",
            "2  \t [ 7.65398218 15.        ]\t 197.2382251569806\t 5.211335324193094\t 5.753066840343669\t 5.797063315279278\n",
            "3  \t [8.04221284 0.        ]\t 10.623475048190265\t 5.211335324193094\t 5.598800058315446\t 5.241521226890791\n",
            "4  \t [-3.39684884  5.54228873]\t 54.79871094423047\t 5.211335324193094\t 4.5111783886103725\t 4.684343925138193\n",
            "5  \t [4.41799046 5.91084974]\t 26.757229807698593\t 5.211335324193094\t 4.973045559534687\t 5.271955491969464\n",
            "6  \t [-0.88981205 15.        ]\t 72.01847292513465\t 5.211335324193094\t 5.708011523812449\t 6.761937456235211\n",
            "\u001b[1m\u001b[92m7\u001b[0m\t \u001b[1m\u001b[92m[10.        3.657542]\u001b[0m\t \u001b[1m\u001b[92m2.3716227012951387\u001b[0m\t \u001b[1m\u001b[92m2.3716227012951387\u001b[0m\t \u001b[1m\u001b[92m4.868786840968283\u001b[0m\t \u001b[1m\u001b[92m4.828523559133157\u001b[0m\n",
            "8  \t [ 6.03615052 10.40659026]\t 105.92285437496923\t 2.3716227012951387\t 5.523345814232512\t 5.719580493618459\n",
            "9  \t [-0.72672541  0.        ]\t 69.37457261953924\t 2.3716227012951387\t 5.751512085663641\t 6.13997968502253\n",
            "10 \t [-5. 15.]\t 17.508299515778166\t 2.3716227012951387\t 5.423882406834489\t 5.538555594241221\n",
            "11 \t [ 3.30731494 15.        ]\t 165.66973007652717\t 2.3716227012951387\t 5.094888988843584\t 5.108201549014262\n",
            "12 \t [0.7420237  4.10865526]\t 17.688493096294238\t 2.3716227012951387\t 5.266732585011971\t 4.595408384045893\n",
            "13 \t [5.68480346 2.44167382]\t 19.661546647576927\t 2.3716227012951387\t 4.560140451650584\t 4.460298735807473\n",
            "14 \t [-5.          8.84187705]\t 82.37083999116203\t 2.3716227012951387\t 4.6250053987460875\t 4.844642965255588\n",
            "15 \t [10.         11.73966801]\t 78.27326689607618\t 2.3716227012951387\t 5.341020475019864\t 4.996569438618095\n",
            "16 \t [-1.89181094  2.80647176]\t 51.416253581871366\t 2.3716227012951387\t 5.052186599852317\t 4.800641179359948\n",
            "17 \t [7.77307839 5.20078855]\t 24.963288666879976\t 2.3716227012951387\t 4.106745547639956\t 4.272157798328188\n",
            "18 \t [-1.27140731 11.79265206]\t 25.507896833167187\t 2.3716227012951387\t 5.195814301977612\t 5.084723403999333\n",
            "19 \t [1.92703975 7.54427642]\t 23.720754645216672\t 2.3716227012951387\t 4.8904411176885105\t 5.261112356426498\n",
            "20 \t [4.75264862 0.        ]\t 12.21952303842007\t 2.3716227012951387\t 4.543712811357265\t 5.102160670557877\n"
          ]
        }
      ],
      "source": [
        "### ESTIMATED STP ERM GRADIENTS\n",
        "\n",
        "np.random.seed(run_num_7)\n",
        "surrogate_approx_7 = dtStudentProcess(cov_func, optimize=opt, nu = df)\n",
        "\n",
        "approx_7 = GPGO_multi(surrogate_approx_7, Acquisition_grad(util), objfunc, param)\n",
        "approx_7.run(init_evals=n_init, max_iter=iters)\n"
      ]
    },
    {
      "cell_type": "code",
      "execution_count": 20,
      "metadata": {
        "id": "4unvifF-GCXp",
        "colab": {
          "base_uri": "https://localhost:8080/"
        },
        "outputId": "811275ec-e720-42c2-b6c3-82c5bca60153"
      },
      "outputs": [
        {
          "output_type": "stream",
          "name": "stdout",
          "text": [
            "Evaluation \t Proposed point \t  Current eval. \t  Best eval. \t        Exact ERM: StdDev. x \t Approx ERM: StdDev. x \n",
            "init\t [ 8.10144104 14.52810994]\t 175.17297136347514\t 15.416245468470875\t    \t    \n",
            "init\t [8.0379181  7.96283537]\t 49.32173799887473\t 15.416245468470875\t    \t    \n",
            "init\t [-1.50907508  0.17098206]\t 83.26753461673219\t 15.416245468470875\t    \t    \n",
            "init\t [1.45703227 6.0352704 ]\t 15.416245468470875\t 15.416245468470875\t    \t    \n",
            "init\t [2.84012007 7.17587694]\t 22.49093277852639\t 15.416245468470875\t    \t    \n",
            "1  \t [-5. 15.]\t 17.508299515778166\t 15.416245468470875\t 5.082282249401537\t 5.674101801382928\n",
            "2  \t [5.76169522 0.        ]\t 19.576893694121402\t 15.416245468470875\t 5.176471047706022\t 5.487114486155548\n",
            "3  \t [ 2.15930784 15.        ]\t 144.7204901184648\t 15.416245468470875\t 4.727708020936856\t 5.906247208677404\n",
            "4  \t [-5.          9.47954206]\t 72.13421185668594\t 15.416245468470875\t 5.176392140292328\t 5.4453941830812\n",
            "\u001b[1m\u001b[92m5\u001b[0m\t \u001b[1m\u001b[92m[10.          2.91164386]\u001b[0m\t \u001b[1m\u001b[92m1.9514786796471473\u001b[0m\t \u001b[1m\u001b[92m1.9514786796471473\u001b[0m\t \u001b[1m\u001b[92m4.904044127354944\u001b[0m\t \u001b[1m\u001b[92m5.362159744728023\u001b[0m\n",
            "6  \t [-5.          4.15407319]\t 182.59031816466953\t 1.9514786796471473\t 4.851336193753572\t 5.193076951233094\n",
            "7  \t [-0.29153043 10.6399929 ]\t 36.5444144754037\t 1.9514786796471473\t 4.928218005600954\t 4.216715895344404\n",
            "8  \t [ 4.71455462 11.04388429]\t 103.6446805964912\t 1.9514786796471473\t 4.936306379072774\t 5.049653371642801\n",
            "9  \t [5.87078562 4.11291511]\t 27.821531885035682\t 1.9514786796471473\t 5.310834832903105\t 5.514134710292889\n",
            "10 \t [2.28724358 2.10845663]\t 4.553731593425389\t 1.9514786796471473\t 5.687840295855627\t 5.978112352185419\n",
            "11 \t [-1.84751157  6.9715281 ]\t 13.183976514195376\t 1.9514786796471473\t 5.409953072103115\t 5.585989283150523\n",
            "12 \t [10.  0.]\t 10.960889035651505\t 1.9514786796471473\t 5.29430474463506\t 5.352427795627862\n",
            "13 \t [10.         11.01223265]\t 66.09164337304551\t 1.9514786796471473\t 4.815707078022956\t 5.238248879409242\n",
            "14 \t [-1.77073448 14.13500873]\t 32.21811851021122\t 1.9514786796471473\t 6.068379587235067\t 5.931012332244224\n",
            "15 \t [-5.  0.]\t 308.12909601160663\t 1.9514786796471473\t 4.7180618849036104\t 4.7132473693226595\n",
            "16 \t [-0.79922742  3.78632339]\t 29.427263063552044\t 1.9514786796471473\t 4.371523411566012\t 4.2567809000552765\n",
            "17 \t [2.55262402 0.        ]\t 9.739242349873827\t 1.9514786796471473\t 5.3865467801393345\t 5.932135051209304\n",
            "18 \t [10.          5.40703321]\t 7.7227249697435285\t 1.9514786796471473\t 5.503751316309007\t 5.058351744028279\n",
            "\u001b[1m\u001b[92m19\u001b[0m\t \u001b[1m\u001b[92m[-2.96635166 11.39665617]\u001b[0m\t \u001b[1m\u001b[92m0.7576210864299995\u001b[0m\t \u001b[1m\u001b[92m0.7576210864299995\u001b[0m\t \u001b[1m\u001b[92m4.330100898317508\u001b[0m\t \u001b[1m\u001b[92m4.212215699085542\u001b[0m\n",
            "20 \t [5.53271266 8.43607514]\t 70.12602897570747\t 0.7576210864299995\t 4.236996121408399\t 4.658682141706713\n"
          ]
        }
      ],
      "source": [
        "### ESTIMATED STP ERM GRADIENTS\n",
        "\n",
        "np.random.seed(run_num_8)\n",
        "surrogate_approx_8 = dtStudentProcess(cov_func, optimize=opt, nu = df)\n",
        "\n",
        "approx_8 = GPGO_multi(surrogate_approx_8, Acquisition_grad(util), objfunc, param)\n",
        "approx_8.run(init_evals=n_init, max_iter=iters)\n"
      ]
    },
    {
      "cell_type": "code",
      "execution_count": 21,
      "metadata": {
        "id": "85OIXcg7GCaJ",
        "colab": {
          "base_uri": "https://localhost:8080/"
        },
        "outputId": "6ba60a82-4f98-4160-a68d-92c144245a7d"
      },
      "outputs": [
        {
          "output_type": "stream",
          "name": "stdout",
          "text": [
            "Evaluation \t Proposed point \t  Current eval. \t  Best eval. \t        Exact ERM: StdDev. x \t Approx ERM: StdDev. x \n",
            "init\t [-4.84438769  7.52811888]\t 96.15564306553264\t 3.4640248583909496\t    \t    \n",
            "init\t [2.4365994  2.00744293]\t 3.4640248583909496\t 3.4640248583909496\t    \t    \n",
            "init\t [-2.86833372  3.27838013]\t 70.46930174488207\t 3.4640248583909496\t    \t    \n",
            "init\t [1.27762271 3.72151753]\t 12.982825924833865\t 3.4640248583909496\t    \t    \n",
            "init\t [-3.73910523  5.1824796 ]\t 75.58547400560856\t 3.4640248583909496\t    \t    \n",
            "1  \t [ 7.05609655 14.75038872]\t 200.4388688685465\t 3.4640248583909496\t 5.706309062230284\t 5.499480808847191\n",
            "2  \t [-0.46054038 14.56197292]\t 79.4666617606301\t 3.4640248583909496\t 4.900317304969094\t 4.854241455361167\n",
            "3  \t [10.  0.]\t 10.960889035651505\t 3.4640248583909496\t 4.932050589364364\t 4.490643825557569\n",
            "4  \t [7.88726017 5.53575938]\t 26.10165890634534\t 3.4640248583909496\t 4.765927442793317\t 4.588022699456321\n",
            "5  \t [2.47353799 9.61155624]\t 48.13145864742941\t 3.4640248583909496\t 5.1876449868958545\t 4.517718325785544\n",
            "6  \t [10.         10.15210218]\t 53.05342304437669\t 3.4640248583909496\t 5.179869782463917\t 5.909617459129696\n",
            "7  \t [-5.         12.67588703]\t 33.077143605211695\t 3.4640248583909496\t 4.971356726135037\t 5.925849812050278\n",
            "8  \t [5.73429334 0.        ]\t 19.449240973011634\t 3.4640248583909496\t 4.662421736450754\t 4.836810001554351\n",
            "9  \t [-1.565209   10.29972816]\t 12.28011435770657\t 3.4640248583909496\t 5.652500275180391\t 6.025670145051806\n",
            "10 \t [-0.30637982  0.        ]\t 61.40164350571362\t 3.4640248583909496\t 4.65007807187102\t 4.106583915405293\n",
            "11 \t [-5.  0.]\t 308.12909601160663\t 3.4640248583909496\t 5.403936560229631\t 6.1097820529521485\n",
            "12 \t [4.13062421 5.93256344]\t 23.23517557007608\t 3.4640248583909496\t 4.910248087586367\t 4.565614491787409\n",
            "13 \t [ 6.18078984 10.33616332]\t 104.89372233495573\t 3.4640248583909496\t 4.762658694856631\t 4.950715069034433\n",
            "14 \t [-0.19414507  6.90764491]\t 19.77429707723849\t 3.4640248583909496\t 4.721084578455804\t 5.066859327670334\n",
            "15 \t [ 3.18964505 13.43934515]\t 125.88304289215253\t 3.4640248583909496\t 5.245129230483421\t 4.437352728289009\n",
            "16 \t [7.94486234 2.33866904]\t 9.815920564074624\t 3.4640248583909496\t 5.640728621574662\t 5.344783382117666\n",
            "17 \t [-3.4640828 15.       ]\t 4.643085935587963\t 3.4640248583909496\t 5.842974631797529\t 6.076324012069589\n",
            "18 \t [5.00219425 2.99954863]\t 15.73111305214964\t 3.4640248583909496\t 5.56610562967168\t 5.378328539443754\n",
            "19 \t [10.         13.37633668]\t 109.55015483546819\t 3.4640248583909496\t 4.560384965201249\t 4.990282554774407\n",
            "\u001b[1m\u001b[92m20\u001b[0m\t \u001b[1m\u001b[92m[10.          3.66456735]\u001b[0m\t \u001b[1m\u001b[92m2.380869442357933\u001b[0m\t \u001b[1m\u001b[92m2.380869442357933\u001b[0m\t \u001b[1m\u001b[92m4.754238240545453\u001b[0m\t \u001b[1m\u001b[92m4.777653830711276\u001b[0m\n"
          ]
        }
      ],
      "source": [
        "### ESTIMATED STP ERM GRADIENTS\n",
        "\n",
        "np.random.seed(run_num_9)\n",
        "surrogate_approx_9 = dtStudentProcess(cov_func, optimize=opt, nu = df)\n",
        "\n",
        "approx_9 = GPGO_multi(surrogate_approx_9, Acquisition_grad(util), objfunc, param)\n",
        "approx_9.run(init_evals=n_init, max_iter=iters)\n"
      ]
    },
    {
      "cell_type": "code",
      "execution_count": 22,
      "metadata": {
        "id": "QQBR-qJPGCcp",
        "colab": {
          "base_uri": "https://localhost:8080/"
        },
        "outputId": "c00cf1b8-d6d4-49ca-816b-95c56801f5ef"
      },
      "outputs": [
        {
          "output_type": "stream",
          "name": "stdout",
          "text": [
            "Evaluation \t Proposed point \t  Current eval. \t  Best eval. \t        Exact ERM: StdDev. x \t Approx ERM: StdDev. x \n",
            "init\t [6.56980965 0.31127924]\t 19.863985024602144\t 2.710610964564512\t    \t    \n",
            "init\t [ 4.50472352 11.23205824]\t 103.66999147252169\t 2.710610964564512\t    \t    \n",
            "init\t [2.47760518 3.37194968]\t 2.710610964564512\t 2.710610964564512\t    \t    \n",
            "init\t [-2.02905703 11.40796068]\t 8.463930835255017\t 2.710610964564512\t    \t    \n",
            "init\t [-2.46333745  1.32509721]\t 90.49481266026973\t 2.710610964564512\t    \t    \n",
            "1  \t [ 9.16391068 14.81438212]\t 158.2412724465548\t 2.710610964564512\t 4.68703420880756\t 5.194079048287083\n",
            "2  \t [9.65621089 6.61160737]\t 16.1339423373336\t 2.710610964564512\t 4.479203789039923\t 4.771757289235599\n",
            "3  \t [-3.43070383  6.59407857]\t 41.58407101130534\t 2.710610964564512\t 4.523394081324088\t 5.000378579661473\n",
            "4  \t [-5.         14.86403984]\t 18.12157228017135\t 2.710610964564512\t 5.423681166439236\t 5.571110275903699\n",
            "5  \t [ 1.02217669 15.        ]\t 125.086868598027\t 2.710610964564512\t 5.100362008039122\t 6.082449242870202\n",
            "6  \t [1.24384896 7.52499218]\t 24.00525882729596\t 2.710610964564512\t 5.2137364411174945\t 5.0405620212875055\n",
            "7  \t [5.44945965 5.94454277]\t 39.31447675465628\t 2.710610964564512\t 4.753845260399663\t 4.955006572319746\n",
            "\u001b[1m\u001b[92m8\u001b[0m\t \u001b[1m\u001b[92m[10.          2.46632433]\u001b[0m\t \u001b[1m\u001b[92m2.231114863380343\u001b[0m\t \u001b[1m\u001b[92m2.231114863380343\u001b[0m\t \u001b[1m\u001b[92m5.452791379369376\u001b[0m\t \u001b[1m\u001b[92m5.61590173102214\u001b[0m\n",
            "9  \t [ 8.8378564  10.50829976]\t 73.9810167420783\t 2.231114863380343\t 5.115091214056387\t 5.3144160795366275\n",
            "10 \t [2.03660495 0.        ]\t 16.540780132251783\t 2.231114863380343\t 5.26308586491374\t 5.3604218806273325\n",
            "11 \t [ 4.86190235 15.        ]\t 198.68988319318984\t 2.231114863380343\t 4.939509614086151\t 5.060082195788276\n",
            "12 \t [-5.         10.21057314]\t 61.399309476166586\t 2.231114863380343\t 5.299328242318665\t 4.909064114546121\n",
            "13 \t [-0.24616157  4.41690019]\t 23.24377975969679\t 2.231114863380343\t 4.936367014744077\t 5.153862886226148\n",
            "14 \t [7.43003807 3.40488966]\t 18.353489554912677\t 2.231114863380343\t 4.961429962559661\t 5.424736403437826\n",
            "15 \t [10.  0.]\t 10.960889035651505\t 2.231114863380343\t 5.849241240922197\t 5.613470062802124\n",
            "16 \t [ 0.84555009 10.9582362 ]\t 54.9533677541276\t 2.231114863380343\t 5.554800677414736\t 5.659878018899996\n",
            "17 \t [-1.85660376 15.        ]\t 38.65092027030482\t 2.231114863380343\t 5.373933600465851\t 5.886329877996288\n",
            "18 \t [-5.          3.67790478]\t 195.22913357489585\t 2.231114863380343\t 4.147843386064319\t 5.04169159662187\n",
            "19 \t [-1.404253    8.73929251]\t 11.654091596882559\t 2.231114863380343\t 4.377081146217189\t 4.256097677679028\n",
            "20 \t [ 6.92068317 13.3114756 ]\t 165.06374753602876\t 2.231114863380343\t 5.3157342975451725\t 5.316554468351171\n"
          ]
        }
      ],
      "source": [
        "### ESTIMATED STP ERM GRADIENTS\n",
        "\n",
        "np.random.seed(run_num_10)\n",
        "surrogate_approx_10 = dtStudentProcess(cov_func, optimize=opt, nu = df)\n",
        "\n",
        "approx_10 = GPGO_multi(surrogate_approx_10, Acquisition_grad(util), objfunc, param)\n",
        "approx_10.run(init_evals=n_init, max_iter=iters)\n"
      ]
    },
    {
      "cell_type": "code",
      "execution_count": 23,
      "metadata": {
        "id": "JS8ejeQ2GCfi",
        "colab": {
          "base_uri": "https://localhost:8080/"
        },
        "outputId": "4e5aad01-1356-4886-cebd-7e6c90304eee"
      },
      "outputs": [
        {
          "output_type": "stream",
          "name": "stdout",
          "text": [
            "Evaluation \t Proposed point \t  Current eval. \t  Best eval. \t        Exact ERM: StdDev. x \t Approx ERM: StdDev. x \n",
            "init\t [-2.29595467  0.29212862]\t 104.49282729548965\t 22.37435843952312\t    \t    \n",
            "init\t [ 1.9482779  10.87400894]\t 62.47758067812407\t 22.37435843952312\t    \t    \n",
            "init\t [1.30305407 7.28140647]\t 22.37435843952312\t 22.37435843952312\t    \t    \n",
            "init\t [-4.80828778  7.31057411]\t 97.94503054415523\t 22.37435843952312\t    \t    \n",
            "init\t [ 9.12709979 12.76192634]\t 111.62900800771942\t 22.37435843952312\t    \t    \n",
            "\u001b[1m\u001b[92m1\u001b[0m\t \u001b[1m\u001b[92m[6.94653631 0.95529646]\u001b[0m\t \u001b[1m\u001b[92m17.615403152614682\u001b[0m\t \u001b[1m\u001b[92m17.615403152614682\u001b[0m\t \u001b[1m\u001b[92m4.660999999972853\u001b[0m\t \u001b[1m\u001b[92m4.995585873400998\u001b[0m\n",
            "2  \t [9.9324357  6.93970169]\t 17.63437199185647\t 17.615403152614682\t 4.339990910920864\t 5.479299878433456\n",
            "3  \t [-2.19620451 15.        ]\t 28.20803081859271\t 17.615403152614682\t 5.183661628406584\t 5.674267884108631\n",
            "\u001b[1m\u001b[92m4\u001b[0m\t \u001b[1m\u001b[92m[2.40684595 2.48830736]\u001b[0m\t \u001b[1m\u001b[92m3.0596388417412523\u001b[0m\t \u001b[1m\u001b[92m3.0596388417412523\u001b[0m\t \u001b[1m\u001b[92m4.037889959498257\u001b[0m\t \u001b[1m\u001b[92m4.055093859353676\u001b[0m\n",
            "5  \t [ 4.54007412 15.        ]\t 192.3076363037032\t 3.0596388417412523\t 4.969929832685016\t 4.796832077155494\n",
            "6  \t [6.43645684 9.64474589]\t 92.36705154594212\t 3.0596388417412523\t 5.362952929082775\t 5.252317080807524\n",
            "7  \t [5.49690809 5.05402935]\t 31.987440995438046\t 3.0596388417412523\t 5.566501188023038\t 5.613410013287199\n",
            "8  \t [-5.         11.87521094]\t 40.942682680916164\t 3.0596388417412523\t 4.644329307106583\t 5.294841128092264\n",
            "\u001b[1m\u001b[92m9\u001b[0m\t \u001b[1m\u001b[92m[10.          3.06589014]\u001b[0m\t \u001b[1m\u001b[92m1.94710129300117\u001b[0m\t \u001b[1m\u001b[92m1.94710129300117\u001b[0m\t \u001b[1m\u001b[92m5.081534660916654\u001b[0m\t \u001b[1m\u001b[92m4.9138870647674455\u001b[0m\n",
            "10 \t [-1.43303314  4.48382054]\t 27.820218089997947\t 1.94710129300117\t 5.34429413288229\t 5.602087627132269\n",
            "11 \t [-5.          3.20427194]\t 208.25050462980695\t 1.94710129300117\t 5.207571422236145\t 5.918665398520407\n",
            "12 \t [-1.74072327  9.81899665]\t 8.807970753776296\t 1.94710129300117\t 5.4596838930526514\t 5.4543034983483905\n",
            "13 \t [10.  0.]\t 10.960889035651505\t 1.94710129300117\t 5.688046836839476\t 5.304381999478924\n",
            "14 \t [3.53161595 0.        ]\t 5.0810467424055545\t 1.94710129300117\t 5.355792194133684\t 5.62858376716184\n",
            "15 \t [ 0.92343552 14.33851065]\t 109.84293126834955\t 1.94710129300117\t 5.457122084200594\t 5.491726703688367\n",
            "16 \t [4.05706031 7.67403158]\t 40.20470860000456\t 1.94710129300117\t 5.588353826751577\t 5.250494005166943\n",
            "17 \t [1.02668241 0.        ]\t 35.240027275018036\t 1.94710129300117\t 4.568566830465477\t 4.758099776951362\n",
            "18 \t [-5. 15.]\t 17.508299515778166\t 1.94710129300117\t 5.597120903062687\t 5.57793494874718\n",
            "19 \t [10.          9.74607058]\t 47.412726777792656\t 1.94710129300117\t 5.29185542181867\t 4.607500631955091\n",
            "20 \t [8.32744311 4.53759368]\t 13.645702423961346\t 1.94710129300117\t 5.480918455095849\t 5.444871073094357\n"
          ]
        }
      ],
      "source": [
        "### ESTIMATED STP ERM GRADIENTS\n",
        "\n",
        "np.random.seed(run_num_11)\n",
        "surrogate_approx_11 = dtStudentProcess(cov_func, optimize=opt, nu = df)\n",
        "\n",
        "approx_11 = GPGO_multi(surrogate_approx_11, Acquisition_grad(util), objfunc, param)\n",
        "approx_11.run(init_evals=n_init, max_iter=iters)\n"
      ]
    },
    {
      "cell_type": "code",
      "execution_count": 24,
      "metadata": {
        "id": "DXwjUVZ4GCii",
        "colab": {
          "base_uri": "https://localhost:8080/"
        },
        "outputId": "4ca87720-325f-4209-e81a-33188f354627"
      },
      "outputs": [
        {
          "output_type": "stream",
          "name": "stdout",
          "text": [
            "Evaluation \t Proposed point \t  Current eval. \t  Best eval. \t        Exact ERM: StdDev. x \t Approx ERM: StdDev. x \n",
            "init\t [-2.68755736 11.10074545]\t 1.3827702760021356\t 0.5499315281120278\t    \t    \n",
            "init\t [-1.05027477  8.0060909 ]\t 14.81231853080056\t 0.5499315281120278\t    \t    \n",
            "init\t [-4.78137556 13.78120512]\t 18.401131000214548\t 0.5499315281120278\t    \t    \n",
            "init\t [8.51072281 0.50132141]\t 5.855172364344769\t 0.5499315281120278\t    \t    \n",
            "init\t [9.35424004 2.05813982]\t 0.5499315281120278\t 0.5499315281120278\t    \t    \n",
            "1  \t [10.          5.04443016]\t 6.110754936957272\t 0.5499315281120278\t 4.837803345434685\t 4.182051439339511\n",
            "2  \t [ 8.50155249 13.79797306]\t 148.00655208378976\t 0.5499315281120278\t 5.434887688622774\t 4.486765166137535\n",
            "3  \t [-4.8799499   0.15657603]\t 290.0404981832191\t 0.5499315281120278\t 5.362967409502737\t 5.039082491580589\n",
            "4  \t [ 2.03553476 14.80237623]\t 138.10212779463444\t 0.5499315281120278\t 4.338809421510181\t 4.166204269606143\n",
            "5  \t [4.6687947  5.41054545]\t 25.784133262557322\t 0.5499315281120278\t 4.850322272551783\t 4.451127983797653\n",
            "6  \t [2.75655409 0.        ]\t 7.831973189106086\t 0.5499315281120278\t 5.597076556292104\t 4.962021572423341\n",
            "7  \t [-5.          5.55375221]\t 148.06458379496746\t 0.5499315281120278\t 5.198490427485749\t 5.421809710781452\n",
            "8  \t [ 4.54333644 10.22908871]\t 85.70867238667556\t 0.5499315281120278\t 5.046796719847427\t 5.183830204622172\n",
            "9  \t [-0.25242087  3.3239628 ]\t 28.821277369165614\t 0.5499315281120278\t 4.851294732224813\t 4.753241271942761\n",
            "10 \t [10.          9.17273035]\t 40.00924870033681\t 0.5499315281120278\t 5.289530950911397\t 5.454630553964849\n",
            "11 \t [-5.          9.69772299]\t 68.81841711885102\t 0.5499315281120278\t 5.308584553023316\t 4.926299221713183\n",
            "12 \t [5.58429495 1.82345938]\t 17.816911205966527\t 0.5499315281120278\t 4.51096032850941\t 4.870314765940103\n",
            "13 \t [-0.60640608  0.        ]\t 67.06705119296322\t 0.5499315281120278\t 4.435995202115396\t 4.312528948554522\n",
            "14 \t [ 0.66649142 11.13149582]\t 55.18378338852875\t 0.5499315281120278\t 4.896908026135805\t 4.9963370015165784\n",
            "15 \t [-1.81203531 15.        ]\t 40.10352499203661\t 0.5499315281120278\t 4.995572234842085\t 5.46134683102607\n",
            "16 \t [1.91200654 7.16540267]\t 20.745958622793527\t 0.5499315281120278\t 4.771945769231308\t 4.713951851705831\n",
            "17 \t [7.39165956 7.10388013]\t 48.03734258521403\t 0.5499315281120278\t 5.423218710045766\t 5.79512771630964\n",
            "18 \t [-0.62652498 13.05910059]\t 53.91345947689268\t 0.5499315281120278\t 6.050394094703859\t 6.077869894547666\n",
            "19 \t [3.01545507 2.98935311]\t 0.8510820072312928\t 0.5499315281120278\t 4.984596369735239\t 5.082868064606955\n",
            "20 \t [ 5.3770911 15.       ]\t 206.99208167727105\t 0.5499315281120278\t 4.363260754753887\t 4.604220182071667\n"
          ]
        }
      ],
      "source": [
        "### ESTIMATED STP ERM GRADIENTS\n",
        "\n",
        "np.random.seed(run_num_12)\n",
        "surrogate_approx_12 = dtStudentProcess(cov_func, optimize=opt, nu = df)\n",
        "\n",
        "approx_12 = GPGO_multi(surrogate_approx_12, Acquisition_grad(util), objfunc, param)\n",
        "approx_12.run(init_evals=n_init, max_iter=iters)\n"
      ]
    },
    {
      "cell_type": "code",
      "execution_count": 25,
      "metadata": {
        "id": "CphOPndPGClX",
        "colab": {
          "base_uri": "https://localhost:8080/"
        },
        "outputId": "6dbfa713-a222-4f88-fb8b-b96f4773b141"
      },
      "outputs": [
        {
          "output_type": "stream",
          "name": "stdout",
          "text": [
            "Evaluation \t Proposed point \t  Current eval. \t  Best eval. \t        Exact ERM: StdDev. x \t Approx ERM: StdDev. x \n",
            "init\t [6.66553616 3.5631183 ]\t 24.823670200298267\t 18.038943061558626\t    \t    \n",
            "init\t [ 7.36417799 14.48623797]\t 188.7803334745195\t 18.038943061558626\t    \t    \n",
            "init\t [9.58901671 6.80173871]\t 18.038943061558626\t 18.038943061558626\t    \t    \n",
            "init\t [ 4.13563694 11.63289772]\t 104.87319703906111\t 18.038943061558626\t    \t    \n",
            "init\t [ 4.62420017 10.83027344]\t 98.03271225790056\t 18.038943061558626\t    \t    \n",
            "1  \t [-3.51870171  3.68338658]\t 91.63196166423945\t 18.038943061558626\t 6.130023692705932\t 5.729491241131659\n",
            "2  \t [-5.         12.82213439]\t 31.77894990493846\t 18.038943061558626\t 5.448585325579851\t 4.876582521345631\n",
            "\u001b[1m\u001b[92m3\u001b[0m\t \u001b[1m\u001b[92m[2.37794188 0.        ]\u001b[0m\t \u001b[1m\u001b[92m11.742422967100662\u001b[0m\t \u001b[1m\u001b[92m11.742422967100662\u001b[0m\t \u001b[1m\u001b[92m5.838111263239104\u001b[0m\t \u001b[1m\u001b[92m5.3010760554486955\u001b[0m\n",
            "4  \t [-0.97273231  8.95900812]\t 17.06695224293281\t 11.742422967100662\t 5.809529992998351\t 5.436340769163886\n",
            "5  \t [-0.16988509 15.        ]\t 95.60505793049171\t 11.742422967100662\t 4.912524180796249\t 5.63869459074823\n",
            "\u001b[1m\u001b[92m6\u001b[0m\t \u001b[1m\u001b[92m[10.  0.]\u001b[0m\t \u001b[1m\u001b[92m10.960889035651505\u001b[0m\t \u001b[1m\u001b[92m10.960889035651505\u001b[0m\t \u001b[1m\u001b[92m5.564518947469625\u001b[0m\t \u001b[1m\u001b[92m4.654061152115229\u001b[0m\n",
            "\u001b[1m\u001b[92m7\u001b[0m\t \u001b[1m\u001b[92m[1.82861578 4.93039794]\u001b[0m\t \u001b[1m\u001b[92m9.53632430844924\u001b[0m\t \u001b[1m\u001b[92m9.53632430844924\u001b[0m\t \u001b[1m\u001b[92m5.750226137861504\u001b[0m\t \u001b[1m\u001b[92m5.826973774069898\u001b[0m\n",
            "8  \t [10.         10.78937871]\t 62.571509799726904\t 9.53632430844924\t 5.470487383864593\t 5.613645249829897\n",
            "9  \t [-1.48102861  0.        ]\t 85.518860585017\t 9.53632430844924\t 5.018448276061952\t 4.8333638854429575\n",
            "10 \t [-5.          8.16761075]\t 94.07963066705109\t 9.53632430844924\t 5.123291939817901\t 4.809881949485551\n",
            "11 \t [4.94915783 6.85826977]\t 43.2864753024755\t 9.53632430844924\t 5.693363630045135\t 5.331114967558865\n",
            "12 \t [6.10317231 0.        ]\t 20.653561622467954\t 9.53632430844924\t 5.033796688514349\t 5.267524520359761\n",
            "\u001b[1m\u001b[92m13\u001b[0m\t \u001b[1m\u001b[92m[10.          3.30942385]\u001b[0m\t \u001b[1m\u001b[92m2.0370628324581466\u001b[0m\t \u001b[1m\u001b[92m2.0370628324581466\u001b[0m\t \u001b[1m\u001b[92m5.75224708996607\u001b[0m\t \u001b[1m\u001b[92m6.080357893831537\u001b[0m\n",
            "14 \t [ 3.46090992 15.        ]\t 168.86691788899336\t 2.0370628324581466\t 4.926402073374661\t 4.817653931034166\n",
            "15 \t [1.87032669 8.18855413]\t 29.382531299142162\t 2.0370628324581466\t 5.957292220009365\t 5.017033915520075\n",
            "\u001b[1m\u001b[92m16\u001b[0m\t \u001b[1m\u001b[92m[3.57607566 2.66617733]\u001b[0m\t \u001b[1m\u001b[92m1.787949006783668\u001b[0m\t \u001b[1m\u001b[92m1.787949006783668\u001b[0m\t \u001b[1m\u001b[92m5.0312655865479625\u001b[0m\t \u001b[1m\u001b[92m4.921552169294266\u001b[0m\n",
            "17 \t [-5.  0.]\t 308.12909601160663\t 1.787949006783668\t 6.132325324905346\t 6.340865381644034\n",
            "18 \t [ 0.6570192  11.65532796]\t 61.76233557613838\t 1.787949006783668\t 4.4606330144790665\t 4.749981839519824\n",
            "19 \t [0.22214376 2.91766224]\t 26.847263595386007\t 1.787949006783668\t 5.625261631653775\t 5.928557999926138\n",
            "20 \t [7.08401589 9.54382835]\t 86.16448084632104\t 1.787949006783668\t 6.038479852190087\t 5.914797037496198\n"
          ]
        }
      ],
      "source": [
        "### ESTIMATED STP ERM GRADIENTS\n",
        "\n",
        "np.random.seed(run_num_13)\n",
        "surrogate_approx_13 = dtStudentProcess(cov_func, optimize=opt, nu = df)\n",
        "\n",
        "approx_13 = GPGO_multi(surrogate_approx_13, Acquisition_grad(util), objfunc, param)\n",
        "approx_13.run(init_evals=n_init, max_iter=iters)\n"
      ]
    },
    {
      "cell_type": "code",
      "execution_count": 26,
      "metadata": {
        "id": "ojHTeARNGCoi",
        "colab": {
          "base_uri": "https://localhost:8080/"
        },
        "outputId": "7d25bc58-701f-41ef-ef96-ae19ac6706b4"
      },
      "outputs": [
        {
          "output_type": "stream",
          "name": "stdout",
          "text": [
            "Evaluation \t Proposed point \t  Current eval. \t  Best eval. \t        Exact ERM: StdDev. x \t Approx ERM: StdDev. x \n",
            "init\t [ 2.70915016 11.59747578]\t 81.58264375064097\t 1.4149920024014744\t    \t    \n",
            "init\t [8.05641529 0.12070423]\t 10.148649076616518\t 1.4149920024014744\t    \t    \n",
            "init\t [-0.35396112 14.36405609]\t 79.6056658956529\t 1.4149920024014744\t    \t    \n",
            "init\t [2.69675068 4.77426637]\t 5.855607664288365\t 1.4149920024014744\t    \t    \n",
            "init\t [3.08799906 3.31882414]\t 1.4149920024014744\t 1.4149920024014744\t    \t    \n",
            "1  \t [-5.          5.21282094]\t 156.11333924418585\t 1.4149920024014744\t 4.8894974490054155\t 5.427344747965223\n",
            "2  \t [ 9.02510452 14.92575454]\t 164.15736583327134\t 1.4149920024014744\t 5.606181249043642\t 5.676275294389068\n",
            "3  \t [8.4415984  6.61360555]\t 28.132050221972662\t 1.4149920024014744\t 5.248076538277552\t 5.7385692460878746\n",
            "4  \t [-1.13794984  0.66190413]\t 67.55860872858261\t 1.4149920024014744\t 5.180927721925129\t 4.121323566217179\n",
            "5  \t [-2.25114831  9.62679155]\t 4.332568960149614\t 1.4149920024014744\t 4.405304419332386\t 4.375831852334193\n",
            "6  \t [-5.         13.06996086]\t 29.67673101095149\t 1.4149920024014744\t 4.541090860396535\t 4.822859628915059\n",
            "7  \t [3.70746771 0.        ]\t 5.410531576148542\t 1.4149920024014744\t 3.880689458863601\t 4.077151519043714\n",
            "8  \t [ 7.18045774 10.63996131]\t 104.48832568822928\t 1.4149920024014744\t 5.353585679313155\t 5.4795597190473035\n",
            "9  \t [-0.54726501  6.39302585]\t 18.466674298542365\t 1.4149920024014744\t 5.3366225263466305\t 5.982799236546304\n",
            "10 \t [6.17310963 3.3127361 ]\t 24.448782366595687\t 1.4149920024014744\t 4.7251221702714075\t 5.486986408725983\n",
            "11 \t [-5.  0.]\t 308.12909601160663\t 1.4149920024014744\t 4.686034895860445\t 4.64532820561722\n",
            "12 \t [ 4.71962473 15.        ]\t 195.95405707433355\t 1.4149920024014744\t 4.927558837641043\t 5.066584205944555\n",
            "13 \t [10.          3.06905585]\t 1.9475097734553213\t 1.4149920024014744\t 5.054085883742187\t 5.150165999426273\n",
            "14 \t [4.27120827 7.63773754]\t 42.85206398036144\t 1.4149920024014744\t 5.434005354616374\t 5.731321245278284\n",
            "15 \t [-5.          9.32455163]\t 74.54750981742028\t 1.4149920024014744\t 5.179823731622336\t 5.525875475828998\n",
            "16 \t [0.33665707 9.19391176]\t 32.86488481518575\t 1.4149920024014744\t 5.286217795479052\t 5.367075830716947\n",
            "17 \t [-2.27618364  4.67807313]\t 35.29045908868473\t 1.4149920024014744\t 5.2756960374365836\t 5.710900421703003\n",
            "18 \t [-4.01985289  2.75560681]\t 141.4551940239695\t 1.4149920024014744\t 4.720802233184045\t 4.476120521272764\n",
            "19 \t [-2.96353848 15.        ]\t 10.464707411666978\t 1.4149920024014744\t 4.974027015851538\t 5.084952372768985\n",
            "20 \t [0.316732   3.39489507]\t 23.59335676476558\t 1.4149920024014744\t 4.73090090758582\t 4.641262837343664\n"
          ]
        }
      ],
      "source": [
        "### ESTIMATED STP ERM GRADIENTS\n",
        "\n",
        "np.random.seed(run_num_14)\n",
        "surrogate_approx_14 = dtStudentProcess(cov_func, optimize=opt, nu = df)\n",
        "\n",
        "approx_14 = GPGO_multi(surrogate_approx_14, Acquisition_grad(util), objfunc, param)\n",
        "approx_14.run(init_evals=n_init, max_iter=iters)\n"
      ]
    },
    {
      "cell_type": "code",
      "execution_count": 27,
      "metadata": {
        "id": "vCJzn4vWGCs3",
        "colab": {
          "base_uri": "https://localhost:8080/"
        },
        "outputId": "a4878757-d3c4-4c15-bb89-1b923b7ec854"
      },
      "outputs": [
        {
          "output_type": "stream",
          "name": "stdout",
          "text": [
            "Evaluation \t Proposed point \t  Current eval. \t  Best eval. \t        Exact ERM: StdDev. x \t Approx ERM: StdDev. x \n",
            "init\t [7.73226546 2.68343887]\t 12.768724532005583\t 12.768724532005583\t    \t    \n",
            "init\t [-4.18455179  5.42307669]\t 95.39334176626551\t 12.768724532005583\t    \t    \n",
            "init\t [-0.86898607  7.95000337]\t 16.419487782111716\t 12.768724532005583\t    \t    \n",
            "init\t [-0.41121626  4.56711539]\t 23.250362743740954\t 12.768724532005583\t    \t    \n",
            "init\t [-3.32388086  3.74848521]\t 80.99796277938532\t 12.768724532005583\t    \t    \n",
            "1  \t [ 6.5655417  11.87699252]\t 134.95011349993544\t 12.768724532005583\t 4.968094775083851\t 5.02464708127746\n",
            "2  \t [-4.77493765 13.49591113]\t 19.896906503438096\t 12.768724532005583\t 5.300707200174809\t 6.019393648788107\n",
            "3  \t [ 0.55812671 15.        ]\t 115.1289614033055\t 12.768724532005583\t 5.65387975347592\t 5.843548682476663\n",
            "\u001b[1m\u001b[92m4\u001b[0m\t \u001b[1m\u001b[92m[2.53474101 0.        ]\u001b[0m\t \u001b[1m\u001b[92m9.929053053316036\u001b[0m\t \u001b[1m\u001b[92m9.929053053316036\u001b[0m\t \u001b[1m\u001b[92m4.956341267260225\u001b[0m\t \u001b[1m\u001b[92m4.910202505526886\u001b[0m\n",
            "5  \t [10.          7.40294019]\t 21.302996223148213\t 9.929053053316036\t 6.331296565462526\t 5.736201913208134\n",
            "6  \t [4.43760023 6.70037779]\t 34.6335154693326\t 9.929053053316036\t 5.102900980597606\t 5.55289039195351\n",
            "7  \t [10. 15.]\t 145.87219087939556\t 9.929053053316036\t 4.8826433788243975\t 4.909583413917469\n",
            "8  \t [ 2.13629563 10.66196653]\t 60.69188388574408\t 9.929053053316036\t 5.773912808465042\t 5.73305681381696\n",
            "9  \t [-1.37545235  0.        ]\t 82.98774066742703\t 9.929053053316036\t 4.763344070323374\t 5.668103843933663\n",
            "10 \t [-5.          9.62109059]\t 69.9721873443969\t 9.929053053316036\t 5.517603261697896\t 5.772485399796216\n",
            "\u001b[1m\u001b[92m11\u001b[0m\t \u001b[1m\u001b[92m[4.01652096 2.98644677]\u001b[0m\t \u001b[1m\u001b[92m5.5212540543237685\u001b[0m\t \u001b[1m\u001b[92m5.5212540543237685\u001b[0m\t \u001b[1m\u001b[92m5.299594207100686\u001b[0m\t \u001b[1m\u001b[92m5.47393195186689\u001b[0m\n",
            "12 \t [10.  0.]\t 10.960889035651505\t 5.5212540543237685\t 5.153517272106184\t 4.926236260237196\n",
            "13 \t [5.91161855 0.        ]\t 20.170114945499517\t 5.5212540543237685\t 5.489327051736564\t 5.7389723752880295\n",
            "14 \t [-5.  0.]\t 308.12909601160663\t 5.5212540543237685\t 4.951747939866475\t 4.856568354283374\n",
            "15 \t [-1.64653458 11.60370867]\t 16.205812835835236\t 5.5212540543237685\t 4.393924253629551\t 5.0622895754463\n",
            "16 \t [ 4.44893239 15.        ]\t 190.3911535212182\t 5.5212540543237685\t 5.779849342451869\t 5.259442209517714\n",
            "17 \t [10.         10.85996861]\t 63.6757783219517\t 5.5212540543237685\t 5.0970418597328795\t 5.772335242916575\n",
            "18 \t [7.49119343 5.62625821]\t 31.891508364456598\t 5.5212540543237685\t 4.826243478514866\t 4.682700263389326\n",
            "19 \t [7.17712369 9.84212429]\t 90.15383728026255\t 5.5212540543237685\t 4.935000576738438\t 4.935000576738438\n",
            "20 \t [-4.13233645  9.64279312]\t 31.157049375995143\t 5.5212540543237685\t 4.634683149873264\t 4.637655764388853\n"
          ]
        }
      ],
      "source": [
        "### ESTIMATED STP ERM GRADIENTS\n",
        "\n",
        "np.random.seed(run_num_15)\n",
        "surrogate_approx_15 = dtStudentProcess(cov_func, optimize=opt, nu = df)\n",
        "\n",
        "approx_15 = GPGO_multi(surrogate_approx_15, Acquisition_grad(util), objfunc, param)\n",
        "approx_15.run(init_evals=n_init, max_iter=iters)\n"
      ]
    },
    {
      "cell_type": "code",
      "execution_count": 28,
      "metadata": {
        "id": "bGGkhp-kGCw6",
        "colab": {
          "base_uri": "https://localhost:8080/"
        },
        "outputId": "5ad07f67-3d4a-421f-dc4e-e473575c9217"
      },
      "outputs": [
        {
          "output_type": "stream",
          "name": "stdout",
          "text": [
            "Evaluation \t Proposed point \t  Current eval. \t  Best eval. \t        Exact ERM: StdDev. x \t Approx ERM: StdDev. x \n",
            "init\t [-1.65063381  7.84745012]\t 10.514702126319445\t 2.715864006988424\t    \t    \n",
            "init\t [3.26052185 0.68402925]\t 2.715864006988424\t 2.715864006988424\t    \t    \n",
            "init\t [0.41093253 3.34621413]\t 22.889515127492515\t 2.715864006988424\t    \t    \n",
            "init\t [5.33089243 2.45597138]\t 17.178157611778595\t 2.715864006988424\t    \t    \n",
            "init\t [-3.945127  14.1151629]\t 3.3649224341694195\t 2.715864006988424\t    \t    \n",
            "1  \t [ 5.63879248 14.58068289]\t 198.51319639462758\t 2.715864006988424\t 5.140742256925427\t 5.5404198387477575\n",
            "2  \t [10.          7.21198801]\t 19.6590860392513\t 2.715864006988424\t 5.959525081595655\t 5.446431464601831\n",
            "3  \t [-4.05650123  0.        ]\t 216.77523478154126\t 2.715864006988424\t 4.961266444731422\t 5.846258023467907\n",
            "4  \t [4.38713455 8.78674174]\t 59.96900849784591\t 2.715864006988424\t 4.926362797539912\t 5.5052858081095195\n",
            "5  \t [10.  0.]\t 10.960889035651505\t 2.715864006988424\t 5.067993869863183\t 5.326477597698921\n",
            "6  \t [ 0.46792729 12.55302027]\t 71.41504071023027\t 2.715864006988424\t 5.691341701832009\t 5.80012663811188\n",
            "7  \t [10.         11.95253207]\t 82.03804166611992\t 2.715864006988424\t 4.158372600985955\t 4.271101511493969\n",
            "8  \t [-5.          5.04270923]\t 160.21629575042905\t 2.715864006988424\t 5.045780110235196\t 5.9353583167829616\n",
            "9  \t [-5.         10.31220031]\t 59.99157542218351\t 2.715864006988424\t 4.464707377898308\t 4.895397384514796\n",
            "\u001b[1m\u001b[92m10\u001b[0m\t \u001b[1m\u001b[92m[9.13332094 3.53944526]\u001b[0m\t \u001b[1m\u001b[92m2.4910812946907344\u001b[0m\t \u001b[1m\u001b[92m2.4910812946907344\u001b[0m\t \u001b[1m\u001b[92m5.147165344638473\u001b[0m\t \u001b[1m\u001b[92m5.4030203638216365\u001b[0m\n",
            "11 \t [6.68083808 5.7365078 ]\t 40.044382277370715\t 2.4910812946907344\t 4.60533989812879\t 5.305848210782535\n",
            "12 \t [0.24861243 0.        ]\t 50.804868589427485\t 2.4910812946907344\t 5.007714210248418\t 4.638160282495973\n",
            "13 \t [1.52914008 6.62315334]\t 17.988724754767514\t 2.4910812946907344\t 4.4562026983099825\t 4.654674741500177\n",
            "14 \t [7.64317324 9.52546215]\t 78.32155465879644\t 2.4910812946907344\t 4.7204142124381345\t 4.842661458851384\n",
            "15 \t [6.98779605 0.        ]\t 18.72343917757307\t 2.4910812946907344\t 4.80547561568127\t 4.797630331789458\n",
            "16 \t [10. 15.]\t 145.87219087939556\t 2.4910812946907344\t 4.7139773298059575\t 5.737872979710786\n",
            "17 \t [0.9612028  9.43108451]\t 38.93796384830293\t 2.4910812946907344\t 5.461265436873084\t 5.052276715080251\n",
            "18 \t [-3.44824468  3.291654  ]\t 95.56645657316915\t 2.4910812946907344\t 4.844030929388928\t 5.148179041921498\n",
            "19 \t [-1.65455156 15.        ]\t 45.353501586930044\t 2.4910812946907344\t 4.182099925826661\t 5.014907161517348\n",
            "20 \t [3.48368006 4.5854111 ]\t 7.518487883036863\t 2.4910812946907344\t 4.877429280126094\t 5.449390284537619\n"
          ]
        }
      ],
      "source": [
        "### ESTIMATED STP ERM GRADIENTS\n",
        "\n",
        "np.random.seed(run_num_16)\n",
        "surrogate_approx_16 = dtStudentProcess(cov_func, optimize=opt, nu = df)\n",
        "\n",
        "approx_16 = GPGO_multi(surrogate_approx_16, Acquisition_grad(util), objfunc, param)\n",
        "approx_16.run(init_evals=n_init, max_iter=iters)\n"
      ]
    },
    {
      "cell_type": "code",
      "execution_count": 29,
      "metadata": {
        "id": "Yrs2mp7hGC1Z",
        "colab": {
          "base_uri": "https://localhost:8080/"
        },
        "outputId": "2cb36bc5-88d1-49d1-df6e-c05e6b699382"
      },
      "outputs": [
        {
          "output_type": "stream",
          "name": "stdout",
          "text": [
            "Evaluation \t Proposed point \t  Current eval. \t  Best eval. \t        Exact ERM: StdDev. x \t Approx ERM: StdDev. x \n",
            "init\t [-0.58002496  7.95880133]\t 19.016141117164256\t 19.016141117164256\t    \t    \n",
            "init\t [-2.1271882   1.01850537]\t 85.05949339404415\t 19.016141117164256\t    \t    \n",
            "init\t [6.8047819  9.84500283]\t 93.89792695202516\t 19.016141117164256\t    \t    \n",
            "init\t [4.56281344 8.63404341]\t 60.50217141122736\t 19.016141117164256\t    \t    \n",
            "init\t [-4.41405626  5.36720407]\t 110.70834086593878\t 19.016141117164256\t    \t    \n",
            "\u001b[1m\u001b[92m1\u001b[0m\t \u001b[1m\u001b[92m[10.  0.]\u001b[0m\t \u001b[1m\u001b[92m10.960889035651505\u001b[0m\t \u001b[1m\u001b[92m10.960889035651505\u001b[0m\t \u001b[1m\u001b[92m6.027547752836504\u001b[0m\t \u001b[1m\u001b[92m7.087933317300506\u001b[0m\n",
            "2  \t [-0.36591853 14.49945231]\t 81.3728947682288\t 10.960889035651505\t 4.816239992033601\t 5.33026311092362\n",
            "\u001b[1m\u001b[92m3\u001b[0m\t \u001b[1m\u001b[92m[3.74599703 2.35814314]\u001b[0m\t \u001b[1m\u001b[92m2.3563457989420957\u001b[0m\t \u001b[1m\u001b[92m2.3563457989420957\u001b[0m\t \u001b[1m\u001b[92m4.5075674677953685\u001b[0m\t \u001b[1m\u001b[92m4.487507266305614\u001b[0m\n",
            "4  \t [10. 15.]\t 145.87219087939556\t 2.3563457989420957\t 5.655563776420247\t 6.336349839428315\n",
            "5  \t [-5.         11.18556248]\t 48.745328286290835\t 2.3563457989420957\t 4.666251799295875\t 5.713293195279018\n",
            "6  \t [10.          5.24036346]\t 6.949130095226852\t 2.3563457989420957\t 5.085738109186431\t 5.6230037201468335\n",
            "7  \t [ 4.74100033 15.        ]\t 196.37463494087126\t 2.3563457989420957\t 5.1302911227964465\t 5.464811334877765\n",
            "8  \t [7.12064642 2.78432213]\t 18.88287090094028\t 2.3563457989420957\t 5.37682603511414\t 5.486106252290146\n",
            "9  \t [0.95690193 4.29569269]\t 15.621130403541493\t 2.3563457989420957\t 5.487324828848438\t 6.184543639188124\n",
            "10 \t [-5. 15.]\t 17.508299515778166\t 2.3563457989420957\t 4.891085186263881\t 5.424427087631106\n",
            "11 \t [ 1.5673902  11.08041792]\t 62.70586665581102\t 2.3563457989420957\t 5.587078016119465\t 5.2900395916584655\n",
            "12 \t [1.91279403 0.        ]\t 18.533336213538476\t 2.3563457989420957\t 5.687193709015217\t 6.251073026949304\n",
            "13 \t [4.48705389 5.01992884]\t 20.53059833558496\t 2.3563457989420957\t 4.597050378539835\t 4.807517913967105\n",
            "14 \t [10.          8.23737393]\t 29.342265382668913\t 2.3563457989420957\t 4.815528857162862\t 5.147330880022153\n",
            "15 \t [5.48645237 0.        ]\t 18.05014841217509\t 2.3563457989420957\t 5.095029169801384\t 5.16991693618423\n",
            "16 \t [10.        11.4175331]\t 72.74823832815505\t 2.3563457989420957\t 4.733341126598294\t 4.6768268953459025\n",
            "17 \t [-1.72545686 11.51015854]\t 14.182391481100552\t 2.3563457989420957\t 4.81546043118995\t 4.498826062698698\n",
            "18 \t [7.28194326 6.3660934 ]\t 41.26357396308482\t 2.3563457989420957\t 4.85138800951389\t 4.745237559254542\n",
            "19 \t [ 2.09637967 10.94126921]\t 64.6268586485911\t 2.3563457989420957\t 4.938457805056945\t 4.938457805057502\n",
            "20 \t [-5.  0.]\t 308.12909601160663\t 2.3563457989420957\t 4.8734778549796784\t 5.708140867861113\n"
          ]
        }
      ],
      "source": [
        "### ESTIMATED STP ERM GRADIENTS\n",
        "\n",
        "np.random.seed(run_num_17)\n",
        "surrogate_approx_17 = dtStudentProcess(cov_func, optimize=opt, nu = df)\n",
        "\n",
        "approx_17 = GPGO_multi(surrogate_approx_17, Acquisition_grad(util), objfunc, param)\n",
        "approx_17.run(init_evals=n_init, max_iter=iters)\n"
      ]
    },
    {
      "cell_type": "code",
      "execution_count": 30,
      "metadata": {
        "id": "f0HIEP3PIUEa",
        "colab": {
          "base_uri": "https://localhost:8080/"
        },
        "outputId": "04b09a79-e7b5-4cea-8a92-6eea527a0c17"
      },
      "outputs": [
        {
          "output_type": "stream",
          "name": "stdout",
          "text": [
            "Evaluation \t Proposed point \t  Current eval. \t  Best eval. \t        Exact ERM: StdDev. x \t Approx ERM: StdDev. x \n",
            "init\t [4.75561363 7.58180061]\t 49.215059064668324\t 8.150075223157177\t    \t    \n",
            "init\t [8.17902206 2.72760338]\t 8.150075223157177\t 8.150075223157177\t    \t    \n",
            "init\t [ 7.78349603 11.25204429]\t 106.98107856533271\t 8.150075223157177\t    \t    \n",
            "init\t [ 4.99152501 14.81843172]\t 196.08601750690153\t 8.150075223157177\t    \t    \n",
            "init\t [-1.14547366  0.42458888]\t 71.23649635555944\t 8.150075223157177\t    \t    \n",
            "\u001b[1m\u001b[92m1\u001b[0m\t \u001b[1m\u001b[92m[-2.12483893 10.71385111]\u001b[0m\t \u001b[1m\u001b[92m5.508754856016457\u001b[0m\t \u001b[1m\u001b[92m5.508754856016457\u001b[0m\t \u001b[1m\u001b[92m5.659171820853315\u001b[0m\t \u001b[1m\u001b[92m6.03916981330079\u001b[0m\n",
            "2  \t [-5.          4.67777688]\t 169.2134232956231\t 5.508754856016457\t 5.706765427972737\t 5.776197999566847\n",
            "3  \t [10.          6.81468394]\t 16.47240592771945\t 5.508754856016457\t 4.762935687950562\t 5.089888789777003\n",
            "4  \t [-5. 15.]\t 17.508299515778166\t 5.508754856016457\t 5.681032264577344\t 5.787914195911912\n",
            "5  \t [4.52116942 0.        ]\t 10.263060509565518\t 5.508754856016457\t 4.772891282548718\t 4.443829412393363\n",
            "6  \t [0.18674308 5.58079421]\t 19.451173751252618\t 5.508754856016457\t 4.961430671962184\t 5.578285915139621\n",
            "7  \t [ 1.82468345 11.12764698]\t 65.3726513638893\t 5.508754856016457\t 4.961529503812995\t 5.625881960382494\n",
            "8  \t [-0.59134354 15.        ]\t 82.19056199431\t 5.508754856016457\t 5.417157626970337\t 5.848291520797562\n",
            "\u001b[1m\u001b[92m9\u001b[0m\t \u001b[1m\u001b[92m[3.66155611 3.55826988]\u001b[0m\t \u001b[1m\u001b[92m4.402120129793943\u001b[0m\t \u001b[1m\u001b[92m4.402120129793943\u001b[0m\t \u001b[1m\u001b[92m5.67307244139016\u001b[0m\t \u001b[1m\u001b[92m5.550052277276032\u001b[0m\n",
            "10 \t [10. 15.]\t 145.87219087939556\t 4.402120129793943\t 6.067213755873789\t 5.881984537128558\n",
            "11 \t [-5.          9.11064543]\t 77.95707263501389\t 4.402120129793943\t 5.350321846415665\t 6.3455253696752205\n",
            "12 \t [10.  0.]\t 10.960889035651505\t 4.402120129793943\t 4.9139110397790535\t 4.831325637650845\n",
            "13 \t [-5.  0.]\t 308.12909601160663\t 4.402120129793943\t 5.019272104706861\t 5.488123705470585\n",
            "14 \t [-1.09353742  8.2906924 ]\t 14.567344073693768\t 4.402120129793943\t 4.231573199455926\t 4.600862091574021\n",
            "15 \t [6.82459744 5.18047743]\t 34.43248984667966\t 4.402120129793943\t 4.975140683015795\t 4.755567660696569\n",
            "16 \t [1.26084774 2.58237597]\t 15.541136787036447\t 4.402120129793943\t 4.491430907734809\t 4.683403622823893\n",
            "17 \t [-4.68848254 12.06668398]\t 27.705564291568177\t 4.402120129793943\t 5.719959441393455\t 5.631157477832274\n",
            "18 \t [-1.93970392  3.485579  ]\t 43.59645748962337\t 4.402120129793943\t 4.133629034566499\t 4.326906741887073\n",
            "19 \t [7.24080727 0.        ]\t 17.085568091254054\t 4.402120129793943\t 4.730944607819758\t 4.41155577270345\n",
            "20 \t [-1.42595899 13.02840849]\t 31.60211305898655\t 4.402120129793943\t 4.768337897367039\t 5.279889651835499\n"
          ]
        }
      ],
      "source": [
        "### ESTIMATED STP ERM GRADIENTS\n",
        "\n",
        "np.random.seed(run_num_18)\n",
        "surrogate_approx_18 = dtStudentProcess(cov_func, optimize=opt, nu = df)\n",
        "\n",
        "approx_18 = GPGO_multi(surrogate_approx_18, Acquisition_grad(util), objfunc, param)\n",
        "approx_18.run(init_evals=n_init, max_iter=iters)\n"
      ]
    },
    {
      "cell_type": "code",
      "execution_count": 31,
      "metadata": {
        "id": "S3mxRQDLIUPC",
        "colab": {
          "base_uri": "https://localhost:8080/"
        },
        "outputId": "730c3eb0-02ea-4dff-d548-4434c1f81551"
      },
      "outputs": [
        {
          "output_type": "stream",
          "name": "stdout",
          "text": [
            "Evaluation \t Proposed point \t  Current eval. \t  Best eval. \t        Exact ERM: StdDev. x \t Approx ERM: StdDev. x \n",
            "init\t [-3.53699597 11.41874575]\t 4.475608269502271\t 4.475608269502271\t    \t    \n",
            "init\t [-1.2959304   2.07197531]\t 51.13947793770689\t 4.475608269502271\t    \t    \n",
            "init\t [-0.02830155  1.24499348]\t 42.63973921760034\t 4.475608269502271\t    \t    \n",
            "init\t [ 5.07965622 12.09890697]\t 131.17235664506808\t 4.475608269502271\t    \t    \n",
            "init\t [9.74112872 9.53491102]\t 46.84458913925112\t 4.475608269502271\t    \t    \n",
            "1  \t [10.        1.347149]\t 4.684839497113188\t 4.475608269502271\t 5.720542187459437\t 5.64595730937796\n",
            "2  \t [0.14026716 7.7906054 ]\t 23.55315834183055\t 4.475608269502271\t 5.902608903075834\t 6.223141171230229\n",
            "3  \t [5.15860681 5.19788374]\t 29.907166963571484\t 4.475608269502271\t 5.229853583316168\t 5.767891655532823\n",
            "4  \t [ 0.09654871 15.        ]\t 103.3248780154852\t 4.475608269502271\t 5.5060725418721645\t 5.647260207629649\n",
            "5  \t [-5.          6.19005212]\t 133.66453431610864\t 4.475608269502271\t 4.984706570150843\t 4.7064157307533785\n",
            "6  \t [10. 15.]\t 145.87219087939556\t 4.475608269502271\t 5.337935695789004\t 5.226956916406816\n",
            "7  \t [5.20858356 0.        ]\t 16.047556312005433\t 4.475608269502271\t 5.548046933991206\t 5.948420294299665\n",
            "8  \t [-5. 15.]\t 17.508299515778166\t 4.475608269502271\t 5.120016644566759\t 4.743255157119061\n",
            "9  \t [-5.  0.]\t 308.12909601160663\t 4.475608269502271\t 5.8097908317982\t 6.1620882783252515\n",
            "10 \t [10.          5.14735487]\t 6.541584578022079\t 4.475608269502271\t 4.944737385604858\t 4.666070422097114\n",
            "11 \t [ 1.01261932 11.162336  ]\t 59.19524818823455\t 4.475608269502271\t 4.540348601179449\t 4.771997583493952\n",
            "12 \t [1.6639118  4.57876463]\t 9.86287214004836\t 4.475608269502271\t 4.528835026175208\t 4.728908622928822\n",
            "13 \t [3.7683817  8.35867499]\t 44.75606924958076\t 4.475608269502271\t 5.285259439047285\t 5.57141660699512\n",
            "14 \t [7.45600179 2.63016405]\t 15.450955386217181\t 4.475608269502271\t 5.099073656561387\t 5.572873476519769\n",
            "\u001b[1m\u001b[92m15\u001b[0m\t \u001b[1m\u001b[92m[3.30596917 2.22301097]\u001b[0m\t \u001b[1m\u001b[92m0.5326052369801779\u001b[0m\t \u001b[1m\u001b[92m0.5326052369801779\u001b[0m\t \u001b[1m\u001b[92m4.781409256369752\u001b[0m\t \u001b[1m\u001b[92m4.774372394519613\u001b[0m\n",
            "16 \t [7.6346247  7.05602814]\t 44.31855595972258\t 0.5326052369801779\t 4.567938893764905\t 4.780685362176553\n",
            "17 \t [ 3.47243012 15.        ]\t 169.11011408144677\t 0.5326052369801779\t 5.250321279253753\t 5.77729081803538\n",
            "18 \t [-2.68835177  9.04418032]\t 6.068093081365068\t 0.5326052369801779\t 4.838864524770577\t 5.808847388759161\n",
            "19 \t [9.69829902 3.34619314]\t 1.1527568868091596\t 0.5326052369801779\t 4.218336114524861\t 4.014142568854679\n",
            "20 \t [-1.54318891  5.28571977]\t 22.361440993487605\t 0.5326052369801779\t 4.833855232371473\t 4.743252108731271\n"
          ]
        }
      ],
      "source": [
        "### ESTIMATED STP ERM GRADIENTS\n",
        "\n",
        "np.random.seed(run_num_19)\n",
        "surrogate_approx_19 = dtStudentProcess(cov_func, optimize=opt, nu = df)\n",
        "\n",
        "approx_19 = GPGO_multi(surrogate_approx_19, Acquisition_grad(util), objfunc, param)\n",
        "approx_19.run(init_evals=n_init, max_iter=iters)\n"
      ]
    },
    {
      "cell_type": "code",
      "execution_count": 32,
      "metadata": {
        "id": "Aawd59dRIUYn",
        "colab": {
          "base_uri": "https://localhost:8080/"
        },
        "outputId": "681ad879-bd75-48ce-8d53-3f6e84b95c34"
      },
      "outputs": [
        {
          "output_type": "stream",
          "name": "stdout",
          "text": [
            "Evaluation \t Proposed point \t  Current eval. \t  Best eval. \t        Exact ERM: StdDev. x \t Approx ERM: StdDev. x \n",
            "init\t [ 3.82196202 13.46570592]\t 138.5264349938869\t 14.042667401507376\t    \t    \n",
            "init\t [ 8.37296094 12.23756216]\t 115.63178540512689\t 14.042667401507376\t    \t    \n",
            "init\t [-4.46165622 10.37636373]\t 35.66708529307584\t 14.042667401507376\t    \t    \n",
            "init\t [0.68021413 7.77766418]\t 25.307769914281764\t 14.042667401507376\t    \t    \n",
            "init\t [4.86927198 2.90775327]\t 14.042667401507376\t 14.042667401507376\t    \t    \n",
            "1  \t [-0.74081147  0.52016261]\t 62.37543498388434\t 14.042667401507376\t 4.913955979348157\t 5.371092224423555\n",
            "2  \t [9.2529231  6.28516016]\t 16.152168735357876\t 14.042667401507376\t 4.746075659155023\t 5.312117982520331\n",
            "\u001b[1m\u001b[92m3\u001b[0m\t \u001b[1m\u001b[92m[9.58497463 0.        ]\u001b[0m\t \u001b[1m\u001b[92m7.350925883820714\u001b[0m\t \u001b[1m\u001b[92m7.350925883820714\u001b[0m\t \u001b[1m\u001b[92m4.991994981557275\u001b[0m\t \u001b[1m\u001b[92m5.1809692368816505\u001b[0m\n",
            "4  \t [-2.7160515  14.88212394]\t 14.260425112565152\t 7.350925883820714\t 5.847978941206295\t 6.685367237539611\n",
            "5  \t [-4.47400208  4.72587094]\t 128.30554895248525\t 7.350925883820714\t 5.370157665296418\t 5.251161326754664\n",
            "6  \t [5.21512176 8.28722718]\t 64.66595066054522\t 7.350925883820714\t 5.560533332373823\t 5.192730210415804\n",
            "7  \t [-5.  0.]\t 308.12909601160663\t 7.350925883820714\t 6.392148016457325\t 6.591884355657628\n",
            "8  \t [-0.35436732 11.72986185]\t 45.52435339860463\t 7.350925883820714\t 5.393078260581557\t 5.653910959188899\n",
            "9  \t [1.29516659 4.03526299]\t 12.627671387427299\t 7.350925883820714\t 5.319955118283214\t 5.9107583418395375\n",
            "10 \t [6.31084834 0.        ]\t 20.810594536794824\t 7.350925883820714\t 5.511459771834491\t 5.695193057947234\n",
            "\u001b[1m\u001b[92m11\u001b[0m\t \u001b[1m\u001b[92m[10.          3.05110063]\u001b[0m\t \u001b[1m\u001b[92m1.9454585101723971\u001b[0m\t \u001b[1m\u001b[92m1.9454585101723971\u001b[0m\t \u001b[1m\u001b[92m5.634313568016333\u001b[0m\t \u001b[1m\u001b[92m5.610438604635965\u001b[0m\n",
            "12 \t [2.85263779 0.        ]\t 7.101745452556363\t 1.9454585101723971\t 5.741618452050612\t 5.562974265748571\n",
            "13 \t [-2.53826743  7.68436136]\t 12.254709419699667\t 1.9454585101723971\t 5.597909025957172\t 5.348626401568407\n",
            "14 \t [ 0.61032771 15.        ]\t 116.33935084085672\t 1.9454585101723971\t 5.211861807577344\t 5.8030054679333976\n",
            "15 \t [10.          9.20190476]\t 40.37009884734447\t 1.9454585101723971\t 4.85226462653505\t 5.037325370659725\n",
            "16 \t [6.70920258 4.98448589]\t 33.546963391035405\t 1.9454585101723971\t 4.850074789978041\t 5.025179433611573\n",
            "17 \t [10. 15.]\t 145.87219087939556\t 1.9454585101723971\t 4.858684425185613\t 4.718526728359458\n",
            "18 \t [ 6.66523739 15.        ]\t 211.25849450168303\t 1.9454585101723971\t 5.199554458330761\t 5.882597109043501\n",
            "19 \t [-5.         13.49541339]\t 26.354225140946394\t 1.9454585101723971\t 5.248460626751887\t 5.856992803483123\n",
            "20 \t [ 2.5904364  10.27212252]\t 58.491390846444794\t 1.9454585101723971\t 4.08731320219029\t 4.4182839567958\n"
          ]
        }
      ],
      "source": [
        "### ESTIMATED STP ERM GRADIENTS\n",
        "\n",
        "np.random.seed(run_num_20)\n",
        "surrogate_approx_20 = dtStudentProcess(cov_func, optimize=opt, nu = df)\n",
        "\n",
        "approx_20 = GPGO_multi(surrogate_approx_20, Acquisition_grad(util), objfunc, param)\n",
        "approx_20.run(init_evals=n_init, max_iter=iters)\n"
      ]
    },
    {
      "cell_type": "code",
      "execution_count": 33,
      "metadata": {
        "id": "xkgzPRbBTHaq",
        "colab": {
          "base_uri": "https://localhost:8080/"
        },
        "outputId": "3172a7fd-1493-4513-8dc6-20f6936f6891"
      },
      "outputs": [
        {
          "output_type": "execute_result",
          "data": {
            "text/plain": [
              "1663324029.1261528"
            ]
          },
          "metadata": {},
          "execution_count": 33
        }
      ],
      "source": [
        "end_approx = time.time()\n",
        "end_approx\n",
        "\n",
        "time_approx = end_approx - start_approx\n",
        "time_approx\n",
        "\n",
        "start_exact = time.time()\n",
        "start_exact"
      ]
    },
    {
      "cell_type": "code",
      "execution_count": 34,
      "metadata": {
        "id": "7CG3Ndvb16Rb",
        "colab": {
          "base_uri": "https://localhost:8080/"
        },
        "outputId": "bff58caf-b68b-4d17-f5a8-09f207b62ea6"
      },
      "outputs": [
        {
          "output_type": "stream",
          "name": "stdout",
          "text": [
            "Evaluation \t Proposed point \t  Current eval. \t  Best eval. \t        Exact ERM: StdDev. x \t Approx ERM: StdDev. x \n",
            "init\t [ 1.25533007 10.8048674 ]\t 56.52874004692151\t 27.68166689936483\t    \t    \n",
            "init\t [-4.99828438  4.53498859]\t 172.66531086516164\t 27.68166689936483\t    \t    \n",
            "init\t [-2.79866164  1.38507892]\t 102.58290348816024\t 27.68166689936483\t    \t    \n",
            "init\t [-2.20609683  5.18341091]\t 28.868064601155666\t 27.68166689936483\t    \t    \n",
            "init\t [0.95151211 8.08225101]\t 27.68166689936483\t 27.68166689936483\t    \t    \n",
            "\u001b[1m\u001b[92m1\u001b[0m\t \u001b[1m\u001b[92m[8.41909995 1.27566317]\u001b[0m\t \u001b[1m\u001b[92m5.089934878453152\u001b[0m\t \u001b[1m\u001b[92m5.089934878453152\u001b[0m\t \u001b[1m\u001b[92m5.340590691766231\u001b[0m\t \u001b[1m\u001b[92m5.496908624787056\u001b[0m\n",
            "2  \t [10. 15.]\t 145.87219087924458\t 5.089934878453152\t 5.715074871881187\t 5.7405797219728365\n",
            "3  \t [9.50914495 8.52150693]\t 36.125759150808236\t 5.089934878453152\t 5.201269653012405\t 5.439181591117297\n",
            "4  \t [-4.67712792 14.21955317]\t 13.865244792739254\t 5.089934878453152\t 5.3127732170976865\t 5.865813372485215\n",
            "5  \t [3.09728785 0.        ]\t 5.742509418786376\t 5.089934878453152\t 4.4019278052984205\t 4.820337050936547\n",
            "6  \t [4.9938493  5.39981407]\t 29.69177431126688\t 5.089934878453152\t 4.596702145286507\t 4.838787538754023\n",
            "7  \t [ 4.549066   14.90869537]\t 190.02550896349496\t 5.089934878453152\t 5.6637841153804915\t 6.262166726625311\n",
            "8  \t [-5.          9.61789439]\t 70.02056414282396\t 5.089934878453152\t 4.301191473981715\t 5.421702149817529\n",
            "9  \t [-0.34119122 14.73626174]\t 85.93157875380474\t 5.089934878453152\t 5.063498386040752\t 5.5959499697165205\n",
            "10 \t [5.44040493 9.32400767]\t 82.95968893464577\t 5.089934878453152\t 4.205407792796436\t 4.786197049194755\n",
            "11 \t [1.71452062 2.97402127]\t 9.082995130743484\t 5.089934878453152\t 4.4856656239716735\t 4.829304673823889\n",
            "\u001b[1m\u001b[92m12\u001b[0m\t \u001b[1m\u001b[92m[10.          3.55420647]\u001b[0m\t \u001b[1m\u001b[92m2.2470170807532712\u001b[0m\t \u001b[1m\u001b[92m2.2470170807532712\u001b[0m\t \u001b[1m\u001b[92m4.411624634452126\u001b[0m\t \u001b[1m\u001b[92m4.4490027126273315\u001b[0m\n",
            "13 \t [5.68783743 0.27491001]\t 18.675882888703676\t 2.2470170807532712\t 4.256835223439602\t 4.481929174659942\n",
            "14 \t [ 7.57497339 12.09678801]\t 127.99412387069582\t 2.2470170807532712\t 5.2630575791299625\t 5.173954467935474\n",
            "15 \t [8.0979843  5.40314601]\t 22.271955398154788\t 2.2470170807532712\t 4.751452799013882\t 5.533541070814908\n",
            "16 \t [-1.86461012 10.44641954]\t 8.279373514096967\t 2.2470170807532712\t 4.818604597602814\t 4.824606967583946\n",
            "17 \t [0.04624005 0.        ]\t 54.71741921384713\t 2.2470170807532712\t 4.890940402710457\t 4.610541949922215\n",
            "18 \t [-2.54699017  7.80941515]\t 11.54637330979547\t 2.2470170807532712\t 5.133609282321296\t 5.47797070532535\n",
            "19 \t [ 4.84302322 12.34504561]\t 132.75622858309882\t 2.2470170807532712\t 5.469194172265595\t 5.566192975595268\n",
            "20 \t [1.86676247 5.24630383]\t 10.322284335201251\t 2.2470170807532712\t 5.3870830422114695\t 6.706250427851572\n"
          ]
        }
      ],
      "source": [
        "### EXACT STP ERM GRADIENTS\n",
        "\n",
        "np.random.seed(run_num_1)\n",
        "surrogate_exact_1 = dtStudentProcess(cov_func, optimize=opt, nu = df)\n",
        "\n",
        "exact_1 = dGPGO(surrogate_exact_1, Acquisition_grad(util), objfunc, param)\n",
        "exact_1.run(init_evals=n_init, max_iter=iters)\n"
      ]
    },
    {
      "cell_type": "code",
      "execution_count": 35,
      "metadata": {
        "id": "-ilCPSAu9SAg",
        "colab": {
          "base_uri": "https://localhost:8080/"
        },
        "outputId": "415e1fb1-5b56-4b7f-a7d5-0e84e842dab0"
      },
      "outputs": [
        {
          "output_type": "stream",
          "name": "stdout",
          "text": [
            "Evaluation \t Proposed point \t  Current eval. \t  Best eval. \t        Exact ERM: StdDev. x \t Approx ERM: StdDev. x \n",
            "init\t [1.53992353 0.38889348]\t 22.31361308916297\t 6.692051508754487\t    \t    \n",
            "init\t [3.24493717 6.52983589]\t 19.233109967858276\t 6.692051508754487\t    \t    \n",
            "init\t [1.30551703 4.95502232]\t 13.177851563387286\t 6.692051508754487\t    \t    \n",
            "init\t [-1.93027049  9.2890645 ]\t 6.692051508754487\t 6.692051508754487\t    \t    \n",
            "init\t [-0.50517989  4.00240913]\t 26.437522758780958\t 6.692051508754487\t    \t    \n",
            "1  \t [ 9.5587047  12.00387527]\t 89.09951357262268\t 6.692051508754487\t 5.599226190971729\t 6.086998482655873\n",
            "\u001b[1m\u001b[92m2\u001b[0m\t \u001b[1m\u001b[92m[9.59366035 1.69164323]\u001b[0m\t \u001b[1m\u001b[92m1.3984593420568778\u001b[0m\t \u001b[1m\u001b[92m1.3984593420568778\u001b[0m\t \u001b[1m\u001b[92m4.413475142154889\u001b[0m\t \u001b[1m\u001b[92m5.5216330813752785\u001b[0m\n",
            "3  \t [ 3.24245232 12.67669673]\t 110.25694222671481\t 1.3984593420568778\t 5.568444047507924\t 6.045299537237288\n",
            "4  \t [-5.  0.]\t 308.12909601160663\t 1.3984593420568778\t 5.464328296398272\t 5.459384948106579\n",
            "5  \t [-5.          5.78298656]\t 142.78348721830454\t 1.3984593420568778\t 5.351473152499579\t 5.78448905986798\n",
            "6  \t [-3.95509114 14.02730345]\t 3.486800558660862\t 1.3984593420568778\t 5.25367684696131\t 5.299565460006577\n",
            "7  \t [6.10273603 0.        ]\t 20.65282479637566\t 1.3984593420568778\t 4.565442658200733\t 5.184207736857134\n",
            "8  \t [7.94468569 6.87836372]\t 37.95481386990482\t 1.3984593420568778\t 4.738121722899462\t 5.4865055061551935\n",
            "9  \t [-5.         10.71976079]\t 54.553594295328374\t 1.3984593420568778\t 5.152967316105071\t 4.381148404605845\n",
            "10 \t [ 6.95708896 14.99211561]\t 208.27424212215737\t 1.3984593420568778\t 5.077274939177755\t 5.068750738528872\n",
            "11 \t [-0.97662797 12.64336388]\t 40.034580212291175\t 1.3984593420568778\t 5.4581339496580545\t 6.028849039383727\n",
            "12 \t [5.93359713 3.41929192]\t 24.378838038516605\t 1.3984593420568778\t 5.274764348010127\t 5.218310049495526\n",
            "13 \t [9.90247319 4.23859685]\t 3.2447964405896137\t 1.3984593420568778\t 5.530178171321785\t 4.893354834285954\n",
            "14 \t [6.08406544 9.7106972 ]\t 93.57743701539373\t 1.3984593420568778\t 5.454551814908784\t 6.2990787510294135\n",
            "15 \t [-1.78779647  1.0538651 ]\t 75.24488271527939\t 1.3984593420568778\t 5.487532417753382\t 5.1186564623852036\n",
            "16 \t [0.86502943 9.33277869]\t 37.506486752235844\t 1.3984593420568778\t 5.446755882913431\t 4.792400292873811\n",
            "17 \t [ 4.65840401 14.36372523]\t 177.81713455401555\t 1.3984593420568778\t 4.226328929448634\t 4.379733345542626\n",
            "18 \t [-1.62323085  6.90167749]\t 13.585880045170331\t 1.3984593420568778\t 5.2615834099622\t 5.945286040498561\n",
            "\u001b[1m\u001b[92m19\u001b[0m\t \u001b[1m\u001b[92m[3.07328493 2.67531427]\u001b[0m\t \u001b[1m\u001b[92m0.5403015489870544\u001b[0m\t \u001b[1m\u001b[92m0.5403015489870544\u001b[0m\t \u001b[1m\u001b[92m5.569276869488258\u001b[0m\t \u001b[1m\u001b[92m6.658202669111467\u001b[0m\n",
            "20 \t [10. 15.]\t 145.87219087928463\t 0.5403015489870544\t 5.892849300098177\t 6.665273753607545\n"
          ]
        }
      ],
      "source": [
        "### EXACT STP ERM GRADIENTS\n",
        "\n",
        "np.random.seed(run_num_2)\n",
        "surrogate_exact_2 = dtStudentProcess(cov_func, optimize=opt, nu = df)\n",
        "\n",
        "exact_2 = dGPGO(surrogate_exact_2, Acquisition_grad(util), objfunc, param)\n",
        "exact_2.run(init_evals=n_init, max_iter=iters)\n"
      ]
    },
    {
      "cell_type": "code",
      "execution_count": 36,
      "metadata": {
        "id": "XieJ158mIvlP",
        "colab": {
          "base_uri": "https://localhost:8080/"
        },
        "outputId": "601f46f6-ce22-4d34-a5fd-e22b26a86aeb"
      },
      "outputs": [
        {
          "output_type": "stream",
          "name": "stdout",
          "text": [
            "Evaluation \t Proposed point \t  Current eval. \t  Best eval. \t        Exact ERM: StdDev. x \t Approx ERM: StdDev. x \n",
            "init\t [ 3.26196854 10.62221734]\t 71.68783452098575\t 18.07886746449891\t    \t    \n",
            "init\t [-0.63642892  7.66241408]\t 18.07886746449891\t 18.07886746449891\t    \t    \n",
            "init\t [ 8.39420432 13.44439633]\t 141.98653529865882\t 18.07886746449891\t    \t    \n",
            "init\t [-3.11622034  3.10864317]\t 83.31045707266176\t 18.07886746449891\t    \t    \n",
            "init\t [-4.22799195  6.61214765]\t 76.5294170688398\t 18.07886746449891\t    \t    \n",
            "1  \t [6.70472147 4.59545299]\t 30.726791812855225\t 18.07886746449891\t 4.241477993385701\t 4.241477993385701\n",
            "\u001b[1m\u001b[92m2\u001b[0m\t \u001b[1m\u001b[92m[-3.89564496 13.38589781]\u001b[0m\t \u001b[1m\u001b[92m3.6010193697779265\u001b[0m\t \u001b[1m\u001b[92m3.6010193697779265\u001b[0m\t \u001b[1m\u001b[92m5.205194297266853\u001b[0m\t \u001b[1m\u001b[92m6.041582924078019\u001b[0m\n",
            "3  \t [10.          7.61285855]\t 23.194336566245866\t 3.6010193697779265\t 5.454625391754562\t 6.646141012317317\n",
            "4  \t [1.92237887 0.        ]\t 18.37485478152121\t 3.6010193697779265\t 4.412182154941415\t 4.219843510886701\n",
            "5  \t [6.79543598 0.        ]\t 19.6925879675945\t 3.6010193697779265\t 4.873939140838872\t 6.472241249811275\n",
            "6  \t [0.99668535 4.38474452]\t 15.239543865281291\t 3.6010193697779265\t 4.652395098453496\t 4.806125640228084\n",
            "7  \t [ 0.7273756  14.67607729]\t 112.53473754745858\t 3.6010193697779265\t 5.009701027003779\t 4.633429077805425\n",
            "8  \t [-5.  0.]\t 308.12909601160663\t 3.6010193697779265\t 5.1838454360882285\t 5.560333984594891\n",
            "9  \t [ 6.22047423 11.17698776]\t 121.158913811279\t 3.6010193697779265\t 4.253390133888657\t 4.206377646284788\n",
            "\u001b[1m\u001b[92m10\u001b[0m\t \u001b[1m\u001b[92m[9.69076517 1.91135623]\u001b[0m\t \u001b[1m\u001b[92m1.371007380740057\u001b[0m\t \u001b[1m\u001b[92m1.371007380740057\u001b[0m\t \u001b[1m\u001b[92m4.090344810315544\u001b[0m\t \u001b[1m\u001b[92m5.4267592283359525\u001b[0m\n",
            "11 \t [-1.89997183 11.08706323]\t 9.4458333149888\t 1.371007380740057\t 5.420020301981195\t 5.194884365547735\n",
            "12 \t [3.6925435  6.58347869]\t 23.898675444210223\t 1.371007380740057\t 5.0783860942491375\t 5.4541920256487515\n",
            "13 \t [-4.88539687 10.1296702 ]\t 56.93160466539013\t 1.371007380740057\t 6.102763898769266\t 6.225766735150563\n",
            "14 \t [ 4.42319744 15.        ]\t 189.84352272767958\t 1.371007380740057\t 5.411197042337134\t 6.416352665575477\n",
            "15 \t [9.97819911 4.3422164 ]\t 3.683034505878166\t 1.371007380740057\t 5.432092299742337\t 5.544167401459289\n",
            "16 \t [4.59183497 1.63959267]\t 8.89534930513642\t 1.371007380740057\t 5.187630054585364\t 5.243853630207997\n",
            "17 \t [-0.2470508  12.67633296]\t 58.6893940287311\t 1.371007380740057\t 5.205730516655265\t 4.85800434317726\n",
            "18 \t [6.02719806 3.012551  ]\t 22.945854874494934\t 1.371007380740057\t 5.030836359942069\t 5.096079054138333\n",
            "19 \t [6.19401586 7.32768803]\t 58.37062426290875\t 1.371007380740057\t 5.182199826895691\t 5.474795483871376\n",
            "20 \t [-1.1916868e+00  2.0268110e-06]\t 78.84142904286689\t 1.371007380740057\t 4.7506809998744455\t 4.627902144392594\n"
          ]
        }
      ],
      "source": [
        "### EXACT STP ERM GRADIENTS\n",
        "\n",
        "np.random.seed(run_num_3)\n",
        "surrogate_exact_3 = dtStudentProcess(cov_func, optimize=opt, nu = df)\n",
        "\n",
        "exact_3 = dGPGO(surrogate_exact_3, Acquisition_grad(util), objfunc, param)\n",
        "exact_3.run(init_evals=n_init, max_iter=iters)\n"
      ]
    },
    {
      "cell_type": "code",
      "execution_count": 37,
      "metadata": {
        "id": "PhLBVOIfIvol",
        "colab": {
          "base_uri": "https://localhost:8080/"
        },
        "outputId": "1e0667eb-c5cd-4733-9e72-ec551d4ca7cb"
      },
      "outputs": [
        {
          "output_type": "stream",
          "name": "stdout",
          "text": [
            "Evaluation \t Proposed point \t  Current eval. \t  Best eval. \t        Exact ERM: StdDev. x \t Approx ERM: StdDev. x \n",
            "init\t [9.50544759 8.20848374]\t 32.51676744781521\t 7.247126865776948\t    \t    \n",
            "init\t [ 9.5902654  10.72223991]\t 66.20566674364716\t 7.247126865776948\t    \t    \n",
            "init\t [5.46593237 3.24134243]\t 20.90089401680587\t 7.247126865776948\t    \t    \n",
            "init\t [9.64411682 0.09345383]\t 7.247126865776948\t 7.247126865776948\t    \t    \n",
            "init\t [-1.20526456  6.52187299]\t 15.941376982363263\t 7.247126865776948\t    \t    \n",
            "1  \t [ 1.25164457 13.57001383]\t 100.61648848019335\t 7.247126865776948\t 5.2402538839240655\t 5.741752587556389\n",
            "2  \t [-5.  0.]\t 308.12909601160663\t 7.247126865776948\t 6.20581639654956\t 5.898092220590237\n",
            "3  \t [4.10141048 8.46112595]\t 50.94447777623793\t 7.247126865776948\t 5.018840856051719\t 5.868780513318772\n",
            "4  \t [-5.          8.29016774]\t 91.88378422148983\t 7.247126865776948\t 5.384694354725709\t 6.589363478829995\n",
            "5  \t [0.79785733 0.        ]\t 39.86385550359393\t 7.247126865776948\t 5.862339490397121\t 6.04518653265454\n",
            "6  \t [ 8.92772357 15.        ]\t 168.28884975068254\t 7.247126865776948\t 4.388926660594463\t 5.811943896636423\n",
            "7  \t [ 5.65108715 12.00827959]\t 136.0513252853779\t 7.247126865776948\t 4.403524432263372\t 5.904108973773672\n",
            "\u001b[1m\u001b[92m8\u001b[0m\t \u001b[1m\u001b[92m[-2.57292201 11.59274259]\u001b[0m\t \u001b[1m\u001b[92m2.3220487610235105\u001b[0m\t \u001b[1m\u001b[92m2.3220487610235105\u001b[0m\t \u001b[1m\u001b[92m4.017544168266949\u001b[0m\t \u001b[1m\u001b[92m4.159758894364502\u001b[0m\n",
            "9  \t [-0.490197    9.83907875]\t 27.639328625909343\t 2.3220487610235105\t 5.017346226470611\t 5.852253642545327\n",
            "10 \t [8.92771524 3.76404284]\t 4.370211743563413\t 2.3220487610235105\t 5.328745387969035\t 6.048849291685884\n",
            "11 \t [-3.83661247 14.66994264]\t 3.0637462396772754\t 2.3220487610235105\t 4.91213111396393\t 4.25717858799327\n",
            "12 \t [6.89474821 6.10551723]\t 42.24296670727987\t 2.3220487610235105\t 4.8055606513655045\t 5.150318159785355\n",
            "13 \t [-5.          4.29731017]\t 178.8771377715247\t 2.3220487610235105\t 5.169424105578524\t 5.403881855157748\n",
            "14 \t [1.78959081 3.69048933]\t 7.931452794753375\t 2.3220487610235105\t 4.678884596321218\t 4.112723236598498\n",
            "15 \t [4.15471672 0.08782408]\t 7.258360339670874\t 2.3220487610235105\t 4.598785559545259\t 4.8850969054156925\n",
            "16 \t [6.89136143 0.        ]\t 19.24259116507897\t 2.3220487610235105\t 4.781368715042967\t 4.95571741279378\n",
            "17 \t [ 4.1113919  10.68011072]\t 86.29046140588906\t 2.3220487610235105\t 5.8506816649281825\t 5.488439019682175\n",
            "18 \t [-1.40721717  2.9498425 ]\t 42.31774561515712\t 2.3220487610235105\t 4.768405914019691\t 5.324251965993811\n",
            "19 \t [2.01082618 6.13304728]\t 13.811706335962079\t 2.3220487610235105\t 4.798822575450352\t 6.269234843061978\n",
            "20 \t [ 4.66793429 14.2132705 ]\t 174.1215917547776\t 2.3220487610235105\t 4.803480026689629\t 4.844593796024297\n"
          ]
        }
      ],
      "source": [
        "### EXACT STP ERM GRADIENTS\n",
        "\n",
        "np.random.seed(run_num_4)\n",
        "surrogate_exact_4 = dtStudentProcess(cov_func, optimize=opt, nu = df)\n",
        "\n",
        "exact_4 = dGPGO(surrogate_exact_4, Acquisition_grad(util), objfunc, param)\n",
        "exact_4.run(init_evals=n_init, max_iter=iters)\n"
      ]
    },
    {
      "cell_type": "code",
      "execution_count": 38,
      "metadata": {
        "id": "arbiPyj2IvsJ",
        "colab": {
          "base_uri": "https://localhost:8080/"
        },
        "outputId": "4d758690-26ab-4114-f21a-d7306a4b728f"
      },
      "outputs": [
        {
          "output_type": "stream",
          "name": "stdout",
          "text": [
            "Evaluation \t Proposed point \t  Current eval. \t  Best eval. \t        Exact ERM: StdDev. x \t Approx ERM: StdDev. x \n",
            "init\t [-1.67010243 13.06098459]\t 25.390690545664548\t 25.311309190989615\t    \t    \n",
            "init\t [-1.89921267 13.77916362]\t 25.311309190989615\t 25.311309190989615\t    \t    \n",
            "init\t [2.32616783 9.17615794]\t 41.60147975414021\t 25.311309190989615\t    \t    \n",
            "init\t [6.48861785 7.77626982]\t 63.81281921768236\t 25.311309190989615\t    \t    \n",
            "init\t [-0.54799248  2.81581843]\t 34.966203644931994\t 25.311309190989615\t    \t    \n",
            "\u001b[1m\u001b[92m1\u001b[0m\t \u001b[1m\u001b[92m[8.84124421 0.03321319]\u001b[0m\t \u001b[1m\u001b[92m5.96108856337545\u001b[0m\t \u001b[1m\u001b[92m5.96108856337545\u001b[0m\t \u001b[1m\u001b[92m6.141465238109788\u001b[0m\t \u001b[1m\u001b[92m6.0812975364330475\u001b[0m\n",
            "2  \t [ 8.50022859 15.        ]\t 178.31120292364685\t 5.96108856337545\t 5.543552314619118\t 5.474371671665266\n",
            "3  \t [-5.        7.931711]\t 98.39079249024725\t 5.96108856337545\t 5.621589944011876\t 5.7359174610527885\n",
            "4  \t [-5.  0.]\t 308.12909601160663\t 5.96108856337545\t 5.1951716211227925\t 5.606282943819306\n",
            "5  \t [4.54205242 2.61598405]\t 9.764182039504554\t 5.96108856337545\t 5.018881771337198\t 5.261794478285413\n",
            "6  \t [ 3.99896898 13.00894549]\t 131.57832068426893\t 5.96108856337545\t 5.550471940413776\t 5.380064630572471\n",
            "7  \t [ 9.50361479 10.47395751]\t 63.33884777188751\t 5.96108856337545\t 4.24125120904403\t 5.27176632505414\n",
            "\u001b[1m\u001b[92m8\u001b[0m\t \u001b[1m\u001b[92m[10.          4.14120703]\u001b[0m\t \u001b[1m\u001b[92m3.238754699454356\u001b[0m\t \u001b[1m\u001b[92m3.238754699454356\u001b[0m\t \u001b[1m\u001b[92m4.806594193395899\u001b[0m\t \u001b[1m\u001b[92m5.289870390376236\u001b[0m\n",
            "9  \t [2.12278265 5.43329631]\t 9.936311212360934\t 3.238754699454356\t 5.099070677850868\t 5.755558792062084\n",
            "10 \t [-1.31513929  6.63206467]\t 15.26566925041552\t 3.238754699454356\t 5.748952989406035\t 5.641713306460527\n",
            "11 \t [1.48625792 0.        ]\t 26.17648145723722\t 3.238754699454356\t 4.384610482694668\t 4.951054328900835\n",
            "12 \t [-5.         11.87186246]\t 40.97826908891641\t 3.238754699454356\t 5.273493313954391\t 6.21702798099135\n",
            "13 \t [-4.95150379  3.932476  ]\t 184.28670111879782\t 3.238754699454356\t 4.624148018374287\t 5.2462794674331015\n",
            "14 \t [-0.85839697  9.45455908]\t 20.249236976744733\t 3.238754699454356\t 4.947381378147381\t 5.455104032607463\n",
            "15 \t [5.43617746 4.89708347]\t 30.28187179871334\t 3.238754699454356\t 4.749136756104337\t 5.113153386998008\n",
            "16 \t [9.72698697 7.05580388]\t 19.4443776540256\t 3.238754699454356\t 4.7766823324841\t 5.32740463279914\n",
            "17 \t [ 6.23146371 10.81459789]\t 113.98795884540569\t 3.238754699454356\t 4.6391088443777155\t 4.188525144469518\n",
            "18 \t [ 0.85380989 13.04360893]\t 85.33780376229544\t 3.238754699454356\t 5.026755377408702\t 4.961957885117245\n",
            "\u001b[1m\u001b[92m19\u001b[0m\t \u001b[1m\u001b[92m[9.17543443 2.187871  ]\u001b[0m\t \u001b[1m\u001b[92m0.7020331217473412\u001b[0m\t \u001b[1m\u001b[92m0.7020331217473412\u001b[0m\t \u001b[1m\u001b[92m5.174581518863865\u001b[0m\t \u001b[1m\u001b[92m4.890730579768453\u001b[0m\n",
            "20 \t [-1.27822621  0.        ]\t 80.75649843738671\t 0.7020331217473412\t 4.85119614652283\t 4.261268542430333\n"
          ]
        }
      ],
      "source": [
        "### EXACT STP ERM GRADIENTS\n",
        "\n",
        "np.random.seed(run_num_5)\n",
        "surrogate_exact_5 = dtStudentProcess(cov_func, optimize=opt, nu = df)\n",
        "\n",
        "exact_5 = dGPGO(surrogate_exact_5, Acquisition_grad(util), objfunc, param)\n",
        "exact_5.run(init_evals=n_init, max_iter=iters)\n"
      ]
    },
    {
      "cell_type": "code",
      "execution_count": 39,
      "metadata": {
        "id": "04KJCEm_Ivvf",
        "colab": {
          "base_uri": "https://localhost:8080/"
        },
        "outputId": "1c756758-1db0-492d-a494-f243f7a3ee2a"
      },
      "outputs": [
        {
          "output_type": "stream",
          "name": "stdout",
          "text": [
            "Evaluation \t Proposed point \t  Current eval. \t  Best eval. \t        Exact ERM: StdDev. x \t Approx ERM: StdDev. x \n",
            "init\t [8.39290227 4.97969708]\t 15.553860636684597\t 15.31731051317483\t    \t    \n",
            "init\t [7.31843685 0.62544939]\t 15.31731051317483\t 15.31731051317483\t    \t    \n",
            "init\t [-3.3851498   8.92578096]\t 16.222288919361837\t 15.31731051317483\t    \t    \n",
            "init\t [2.94726043 6.28211143]\t 15.406373581304088\t 15.31731051317483\t    \t    \n",
            "init\t [0.03111774 9.33779148]\t 31.07053245856209\t 15.31731051317483\t    \t    \n",
            "1  \t [-3.52736493  0.        ]\t 175.90709218361607\t 15.31731051317483\t 5.361214713282755\t 5.618991212886415\n",
            "2  \t [ 9.0758891  11.79008788]\t 93.01466310382783\t 15.31731051317483\t 5.287086104542808\t 5.759625805511511\n",
            "3  \t [ 4.34724927 14.59608757]\t 177.48889452505895\t 15.31731051317483\t 5.371482047405225\t 5.4297606474368\n",
            "\u001b[1m\u001b[92m4\u001b[0m\t \u001b[1m\u001b[92m[1.9206314  0.98203154]\u001b[0m\t \u001b[1m\u001b[92m12.651460650116729\u001b[0m\t \u001b[1m\u001b[92m12.651460650116729\u001b[0m\t \u001b[1m\u001b[92m5.760920322272895\u001b[0m\t \u001b[1m\u001b[92m6.694149177102279\u001b[0m\n",
            "5  \t [-1.22507193  4.46209656]\t 26.807730355625996\t 12.651460650116729\t 5.064136250686171\t 6.207540469022735\n",
            "\u001b[1m\u001b[92m6\u001b[0m\t \u001b[1m\u001b[92m[-2.88144405 14.07252479]\u001b[0m\t \u001b[1m\u001b[92m6.548287565825361\u001b[0m\t \u001b[1m\u001b[92m6.548287565825361\u001b[0m\t \u001b[1m\u001b[92m5.552027523531187\u001b[0m\t \u001b[1m\u001b[92m6.581564467568138\u001b[0m\n",
            "7  \t [5.00779924 9.77036689]\t 85.05961219632958\t 6.548287565825361\t 5.871924791091977\t 6.212985913724662\n",
            "8  \t [9.78392361 8.03590981]\t 28.481751260970825\t 6.548287565825361\t 5.0305802475898025\t 5.439832947328774\n",
            "9  \t [ 0.18638758 12.6865283 ]\t 68.1378550124482\t 6.548287565825361\t 4.588007803096023\t 4.994234855166883\n",
            "10 \t [ 7.81795063 14.9264498 ]\t 191.8757654797541\t 6.548287565825361\t 5.191735210505361\t 5.850938317714371\n",
            "11 \t [-5.          4.04681521]\t 185.39767052369922\t 6.548287565825361\t 5.386680107647189\t 5.842278038489975\n",
            "12 \t [4.92527267 3.18324116]\t 15.594246857384624\t 6.548287565825361\t 5.583226595252861\t 5.560851535023204\n",
            "13 \t [6.41010576 6.8375094 ]\t 52.373690032560226\t 6.548287565825361\t 5.280370075694992\t 5.3107182221700775\n",
            "14 \t [-4.56781718 11.42518846]\t 29.22957269713623\t 6.548287565825361\t 5.353135626635961\t 4.754168314829012\n",
            "15 \t [1.40001436 4.23817414]\t 11.67734464572332\t 6.548287565825361\t 5.383907941775171\t 5.599376247517067\n",
            "\u001b[1m\u001b[92m16\u001b[0m\t \u001b[1m\u001b[92m[9.68465451 2.64568218]\u001b[0m\t \u001b[1m\u001b[92m0.7235879042761031\u001b[0m\t \u001b[1m\u001b[92m0.7235879042761031\u001b[0m\t \u001b[1m\u001b[92m5.219897712434721\u001b[0m\t \u001b[1m\u001b[92m5.409600219145336\u001b[0m\n",
            "17 \t [4.52172821 0.        ]\t 10.26764495844872\t 0.7235879042761031\t 5.467165887468236\t 5.000730406557772\n",
            "18 \t [-0.35521752  0.        ]\t 62.32073406130837\t 0.7235879042761031\t 5.204468927113926\t 6.007536779407201\n",
            "19 \t [-0.28819301  6.80255041]\t 19.31709944495689\t 0.7235879042761031\t 6.065401913369615\t 6.304469835911236\n",
            "20 \t [-5.          6.91147415]\t 118.31758378245839\t 0.7235879042761031\t 5.574873348782933\t 5.51157445001749\n"
          ]
        }
      ],
      "source": [
        "### EXACT STP ERM GRADIENTS\n",
        "\n",
        "np.random.seed(run_num_6)\n",
        "surrogate_exact_6 = dtStudentProcess(cov_func, optimize=opt, nu = df)\n",
        "\n",
        "exact_6 = dGPGO(surrogate_exact_6, Acquisition_grad(util), objfunc, param)\n",
        "exact_6.run(init_evals=n_init, max_iter=iters)\n"
      ]
    },
    {
      "cell_type": "code",
      "execution_count": 40,
      "metadata": {
        "id": "tAOkme3CIvyO",
        "colab": {
          "base_uri": "https://localhost:8080/"
        },
        "outputId": "278d3aab-9f71-48ea-80c3-8d0446e591d5"
      },
      "outputs": [
        {
          "output_type": "stream",
          "name": "stdout",
          "text": [
            "Evaluation \t Proposed point \t  Current eval. \t  Best eval. \t        Exact ERM: StdDev. x \t Approx ERM: StdDev. x \n",
            "init\t [-3.85537566 11.69878188]\t 8.299317850233932\t 5.211335324193094\t    \t    \n",
            "init\t [ 1.57613847 10.85197767]\t 59.50408380701259\t 5.211335324193094\t    \t    \n",
            "init\t [9.66984268 8.07743806]\t 29.714921414987273\t 5.211335324193094\t    \t    \n",
            "init\t [2.51680695 1.080767  ]\t 5.211335324193094\t 5.211335324193094\t    \t    \n",
            "init\t [-0.9734153   7.49823751]\t 15.431057204948033\t 5.211335324193094\t    \t    \n",
            "1  \t [-4.97859679  1.38393519]\t 260.3293952774437\t 5.211335324193094\t 4.216856105783353\t 4.7003466868822\n",
            "2  \t [10. 15.]\t 145.87219087939556\t 5.211335324193094\t 5.753066840343669\t 5.797063315279278\n",
            "3  \t [8.08940775 0.35854539]\t 9.249625108410735\t 5.211335324193094\t 5.316690175103101\t 5.947077988920478\n",
            "4  \t [-3.39684884  5.54228873]\t 54.79871094423047\t 5.211335324193094\t 4.511278388123972\t 4.474253720050951\n",
            "5  \t [5.26455898 5.1618109 ]\t 30.719782090689836\t 5.211335324193094\t 4.82620589489326\t 5.442264479094518\n",
            "6  \t [ 4.23206853 15.        ]\t 185.7079172699578\t 5.211335324193094\t 5.808207594655405\t 6.764291735888841\n",
            "7  \t [-0.35565921 14.08268619]\t 75.25562480025303\t 5.211335324193094\t 4.948154201831778\t 5.27013480588833\n",
            "8  \t [5.86143144 9.55120175]\t 90.02211866238973\t 5.211335324193094\t 5.00404114687874\t 6.051373552600446\n",
            "\u001b[1m\u001b[92m9\u001b[0m\t \u001b[1m\u001b[92m[10.          3.34263479]\u001b[0m\t \u001b[1m\u001b[92m2.058521930196454\u001b[0m\t \u001b[1m\u001b[92m2.058521930196454\u001b[0m\t \u001b[1m\u001b[92m5.344857900408906\u001b[0m\t \u001b[1m\u001b[92m5.906573155982001\u001b[0m\n",
            "10 \t [-0.81588331  0.        ]\t 71.11063261766392\t 2.058521930196454\t 5.18334777415995\t 6.316097210138189\n",
            "11 \t [0.96532467 3.69418794]\t 16.256841064592646\t 2.058521930196454\t 4.739888252967213\t 4.577166965449359\n",
            "12 \t [-4.98962971 14.885908  ]\t 17.7881286640214\t 2.058521930196454\t 5.080287969356531\t 5.043837801819652\n",
            "13 \t [2.31571595 6.6838541 ]\t 17.008532607203136\t 2.058521930196454\t 4.575188026460943\t 4.301852135365366\n",
            "14 \t [-3.93902947  8.81180588]\t 33.123496421987326\t 2.058521930196454\t 4.994342631535865\t 5.27039738695504\n",
            "15 \t [ 8.91734213 11.45355873]\t 89.46708992007142\t 2.058521930196454\t 5.19222673553386\t 5.209656591408808\n",
            "16 \t [-1.92946785  2.8564412 ]\t 51.45689285334571\t 2.058521930196454\t 5.047282249341605\t 4.621873640408514\n",
            "17 \t [5.25102735 1.80533708]\t 15.286251293578019\t 2.058521930196454\t 4.150033223837534\t 4.418676086370405\n",
            "18 \t [ 7.04746014 13.58765721]\t 170.3909590537286\t 2.058521930196454\t 5.025539656523839\t 5.2427332693783635\n",
            "19 \t [-4.30552354  2.26782759]\t 174.66464458634962\t 2.058521930196454\t 5.171360807412449\t 5.055411374500061\n",
            "20 \t [7.79887409 3.10033192]\t 13.268928551373186\t 2.058521930196454\t 4.65125271990746\t 4.838168281765523\n"
          ]
        }
      ],
      "source": [
        "### EXACT STP ERM GRADIENTS\n",
        "\n",
        "np.random.seed(run_num_7)\n",
        "surrogate_exact_7 = dtStudentProcess(cov_func, optimize=opt, nu = df)\n",
        "\n",
        "exact_7 = dGPGO(surrogate_exact_7, Acquisition_grad(util), objfunc, param)\n",
        "exact_7.run(init_evals=n_init, max_iter=iters)\n"
      ]
    },
    {
      "cell_type": "code",
      "execution_count": 41,
      "metadata": {
        "id": "69-J3EF4Iv1S",
        "colab": {
          "base_uri": "https://localhost:8080/"
        },
        "outputId": "fdb6c200-1ff4-4a1c-fd73-b8e7d8c39be8"
      },
      "outputs": [
        {
          "output_type": "stream",
          "name": "stdout",
          "text": [
            "Evaluation \t Proposed point \t  Current eval. \t  Best eval. \t        Exact ERM: StdDev. x \t Approx ERM: StdDev. x \n",
            "init\t [ 8.10144104 14.52810994]\t 175.17297136347514\t 15.416245468470875\t    \t    \n",
            "init\t [8.0379181  7.96283537]\t 49.32173799887473\t 15.416245468470875\t    \t    \n",
            "init\t [-1.50907508  0.17098206]\t 83.26753461673219\t 15.416245468470875\t    \t    \n",
            "init\t [1.45703227 6.0352704 ]\t 15.416245468470875\t 15.416245468470875\t    \t    \n",
            "init\t [2.84012007 7.17587694]\t 22.49093277852639\t 15.416245468470875\t    \t    \n",
            "\u001b[1m\u001b[92m1\u001b[0m\t \u001b[1m\u001b[92m[9.77124156 0.43098073]\u001b[0m\t \u001b[1m\u001b[92m6.499298445992174\u001b[0m\t \u001b[1m\u001b[92m6.499298445992174\u001b[0m\t \u001b[1m\u001b[92m5.082282249401537\u001b[0m\t \u001b[1m\u001b[92m5.674101801382928\u001b[0m\n",
            "2  \t [-4.87537438 11.82874897]\t 36.57081146531108\t 6.499298445992174\t 5.245266860859549\t 5.543706227232879\n",
            "3  \t [-5.         5.7241298]\t 144.1294001558661\t 6.499298445992174\t 4.816415697400608\t 5.9419919633513\n",
            "4  \t [4.95455185 1.71484609]\t 12.486735378828065\t 6.499298445992174\t 5.059141673558017\t 5.489759493260913\n",
            "5  \t [-0.10664759 12.3093941 ]\t 57.22493359529306\t 6.499298445992174\t 4.940331518471301\t 5.027452351799017\n",
            "6  \t [8.42532341 3.8352012 ]\t 9.109933142734505\t 6.499298445992174\t 4.944638912878002\t 4.462894501713405\n",
            "7  \t [ 3.38154359 14.74265704]\t 160.62837755360607\t 6.499298445992174\t 4.9606732577392325\t 5.1200911252023396\n",
            "8  \t [ 3.78995158 10.28542822]\t 73.94762957630297\t 6.499298445992174\t 5.085069964178175\t 4.924790311377639\n",
            "9  \t [10.         10.96862814]\t 65.39506364076263\t 6.499298445992174\t 4.984311565734299\t 4.603657968558937\n",
            "10 \t [-1.5151857   8.29303111]\t 10.705964191045595\t 6.499298445992174\t 5.752722803189336\t 5.069258408019277\n",
            "11 \t [1.37312836 2.72406431]\t 13.665540905835096\t 6.499298445992174\t 5.083899274425006\t 5.935093980511589\n",
            "12 \t [-5.  0.]\t 308.12909601160663\t 6.499298445992174\t 5.185277884797589\t 5.331077103375669\n",
            "13 \t [-1.91707246  3.92388672]\t 38.12351160125604\t 6.499298445992174\t 4.731653905947587\t 5.4092456772039705\n",
            "\u001b[1m\u001b[92m14\u001b[0m\t \u001b[1m\u001b[92m[-3.64913395 15.        ]\u001b[0m\t \u001b[1m\u001b[92m3.7750310258570092\u001b[0m\t \u001b[1m\u001b[92m3.7750310258570092\u001b[0m\t \u001b[1m\u001b[92m5.928536634008407\u001b[0m\t \u001b[1m\u001b[92m5.674082441361818\u001b[0m\n",
            "15 \t [2.34410986 0.        ]\t 12.167761163495662\t 3.7750310258570092\t 4.907544764867809\t 4.846477150877914\n",
            "16 \t [5.1145524  4.86464018]\t 26.90197049241296\t 3.7750310258570092\t 4.236194151777328\t 4.29998222716128\n",
            "17 \t [-1.2232806 15.       ]\t 60.32663492552562\t 3.7750310258570092\t 5.377243247742196\t 6.009137635019035\n",
            "18 \t [-4.01952153  8.92612879]\t 34.76155199569476\t 3.7750310258570092\t 5.426558036306785\t 5.573873293991688\n",
            "19 \t [7.04037037 0.78450844]\t 17.149664090282037\t 3.7750310258570092\t 4.255474195799387\t 4.722058452076148\n",
            "20 \t [ 7.26265914 10.44933208]\t 99.88644879369095\t 3.7750310258570092\t 4.7040720818737825\t 4.7618128299683535\n"
          ]
        }
      ],
      "source": [
        "### EXACT STP ERM GRADIENTS\n",
        "\n",
        "np.random.seed(run_num_8)\n",
        "surrogate_exact_8 = dtStudentProcess(cov_func, optimize=opt, nu = df)\n",
        "\n",
        "exact_8 = dGPGO(surrogate_exact_8, Acquisition_grad(util), objfunc, param)\n",
        "exact_8.run(init_evals=n_init, max_iter=iters)\n"
      ]
    },
    {
      "cell_type": "code",
      "execution_count": 42,
      "metadata": {
        "id": "vonm9jyuIv4t",
        "colab": {
          "base_uri": "https://localhost:8080/"
        },
        "outputId": "7315fef5-7767-40fe-a4c3-f340952f3a9e"
      },
      "outputs": [
        {
          "output_type": "stream",
          "name": "stdout",
          "text": [
            "Evaluation \t Proposed point \t  Current eval. \t  Best eval. \t        Exact ERM: StdDev. x \t Approx ERM: StdDev. x \n",
            "init\t [-4.84438769  7.52811888]\t 96.15564306553264\t 3.4640248583909496\t    \t    \n",
            "init\t [2.4365994  2.00744293]\t 3.4640248583909496\t 3.4640248583909496\t    \t    \n",
            "init\t [-2.86833372  3.27838013]\t 70.46930174488207\t 3.4640248583909496\t    \t    \n",
            "init\t [1.27762271 3.72151753]\t 12.982825924833865\t 3.4640248583909496\t    \t    \n",
            "init\t [-3.73910523  5.1824796 ]\t 75.58547400560856\t 3.4640248583909496\t    \t    \n",
            "1  \t [ 7.05609655 14.75038872]\t 200.4388688685465\t 3.4640248583909496\t 5.706309062230284\t 5.499480808847191\n",
            "2  \t [-0.46054038 14.56197292]\t 79.4666617606301\t 3.4640248583909496\t 4.900317304969094\t 4.854241455361167\n",
            "3  \t [8.28747407 1.2035024 ]\t 6.196385269800155\t 3.4640248583909496\t 4.932050589364364\t 4.490643825557569\n",
            "4  \t [3.64521891 9.21815645]\t 54.92606929281933\t 3.4640248583909496\t 5.001872525129249\t 4.649878588216721\n",
            "5  \t [9.67993735 5.53971063]\t 8.780439004073106\t 3.4640248583909496\t 5.261124920651723\t 4.976490217566992\n",
            "6  \t [5.69614675 4.2958879 ]\t 28.043820974806252\t 3.4640248583909496\t 5.065412451349353\t 5.57928399348893\n",
            "7  \t [-1.33871014 10.05387546]\t 15.070531777450903\t 3.4640248583909496\t 5.533651779675087\t 6.17322537445628\n",
            "8  \t [-0.39889157  0.        ]\t 63.1427633084718\t 3.4640248583909496\t 4.9129157821724\t 5.255168534924451\n",
            "9  \t [ 9.43768443 10.16698247]\t 59.39758589958582\t 3.4640248583909496\t 5.6076012125462364\t 6.139605667324173\n",
            "10 \t [-5.  0.]\t 308.12909601160663\t 3.4640248583909496\t 5.003392399318283\t 4.726720380721671\n",
            "11 \t [-5.         12.93128759]\t 30.837907598957987\t 3.4640248583909496\t 5.172425867015564\t 6.393169511038392\n",
            "12 \t [ 3.12894904 13.23550013]\t 120.31471654027513\t 3.4640248583909496\t 5.217394802380207\t 4.761319497606937\n",
            "13 \t [0.86443719 6.66989294]\t 20.031629352591537\t 3.4640248583909496\t 4.745321229293051\t 5.413260207808654\n",
            "14 \t [6.85593356 7.35396908]\t 56.427467358648116\t 3.4640248583909496\t 4.853974582084008\t 4.411735548983027\n",
            "15 \t [4.54897268 1.18451402]\t 8.499737220414504\t 3.4640248583909496\t 4.925846067685124\t 4.943827133680695\n",
            "16 \t [10.         13.41548243]\t 110.3638347335093\t 3.4640248583909496\t 5.44359313005628\t 5.522277557973683\n",
            "17 \t [ 6.30984557 10.34009767]\t 104.96072668209003\t 3.4640248583909496\t 5.592736881693912\t 6.786722994158735\n",
            "18 \t [ 0.66711837 11.499587  ]\t 59.84350390859656\t 3.4640248583909496\t 5.462089320026303\t 5.514711301525606\n",
            "19 \t [2.2913516  0.03325076]\t 12.653747701376833\t 3.4640248583909496\t 4.303471428096876\t 4.792107090653386\n",
            "\u001b[1m\u001b[92m20\u001b[0m\t \u001b[1m\u001b[92m[10.          2.77536883]\u001b[0m\t \u001b[1m\u001b[92m1.9949368564013863\u001b[0m\t \u001b[1m\u001b[92m1.9949368564013863\u001b[0m\t \u001b[1m\u001b[92m4.669766645978615\u001b[0m\t \u001b[1m\u001b[92m5.1877025963221\u001b[0m\n"
          ]
        }
      ],
      "source": [
        "### EXACT STP ERM GRADIENTS\n",
        "\n",
        "np.random.seed(run_num_9)\n",
        "surrogate_exact_9 = dtStudentProcess(cov_func, optimize=opt, nu = df)\n",
        "\n",
        "exact_9 = dGPGO(surrogate_exact_9, Acquisition_grad(util), objfunc, param)\n",
        "exact_9.run(init_evals=n_init, max_iter=iters)\n"
      ]
    },
    {
      "cell_type": "code",
      "execution_count": 43,
      "metadata": {
        "id": "6amuYlUdIv7r",
        "colab": {
          "base_uri": "https://localhost:8080/"
        },
        "outputId": "e23cc829-9b41-49e5-b669-5ca3805f1f9d"
      },
      "outputs": [
        {
          "output_type": "stream",
          "name": "stdout",
          "text": [
            "Evaluation \t Proposed point \t  Current eval. \t  Best eval. \t        Exact ERM: StdDev. x \t Approx ERM: StdDev. x \n",
            "init\t [6.56980965 0.31127924]\t 19.863985024602144\t 2.710610964564512\t    \t    \n",
            "init\t [ 4.50472352 11.23205824]\t 103.66999147252169\t 2.710610964564512\t    \t    \n",
            "init\t [2.47760518 3.37194968]\t 2.710610964564512\t 2.710610964564512\t    \t    \n",
            "init\t [-2.02905703 11.40796068]\t 8.463930835255017\t 2.710610964564512\t    \t    \n",
            "init\t [-2.46333745  1.32509721]\t 90.49481266026973\t 2.710610964564512\t    \t    \n",
            "1  \t [ 9.16391068 14.81438212]\t 158.2412724465548\t 2.710610964564512\t 4.68703420880756\t 5.194079048287083\n",
            "2  \t [9.65621089 6.61160737]\t 16.1339423373336\t 2.710610964564512\t 4.479203789039923\t 4.771757289235599\n",
            "3  \t [-3.43070383  6.59407857]\t 41.58407101130534\t 2.710610964564512\t 4.523394081324088\t 5.000378579661473\n",
            "4  \t [1.11775906 8.16864467]\t 28.538232618918585\t 2.710610964564512\t 5.423681166439236\t 5.571110275903699\n",
            "5  \t [-4.09924692 14.83375461]\t 4.493827434732684\t 2.710610964564512\t 5.239271410876281\t 6.699629166342108\n",
            "6  \t [5.23841902 5.91476222]\t 36.97718919166813\t 2.710610964564512\t 5.208479578147174\t 5.72947616259022\n",
            "7  \t [1.97452444 0.        ]\t 17.52483844546277\t 2.710610964564512\t 5.050242584672436\t 5.546636396341927\n",
            "8  \t [ 0.31835157 13.61714771]\t 84.90353128248466\t 2.710610964564512\t 5.458264103184564\t 6.483190838712363\n",
            "9  \t [8.63815778 3.21885933]\t 4.980718604648086\t 2.710610964564512\t 4.86423309358554\t 5.737056248908865\n",
            "10 \t [ 9.65820404 10.44956301]\t 61.040900751329914\t 2.710610964564512\t 5.23326591567901\t 6.1806488360074825\n",
            "11 \t [-0.44906199  4.08353117]\t 25.71094830332185\t 2.710610964564512\t 4.8564852511435\t 5.338679352292933\n",
            "12 \t [-5.         10.12767269]\t 62.562939563407255\t 2.710610964564512\t 5.292898797991156\t 5.475767324522739\n",
            "13 \t [-5.          2.95321699]\t 215.33458003856202\t 2.710610964564512\t 4.838203366721095\t 5.674094229903542\n",
            "14 \t [6.97123577 8.48410878]\t 70.72282056472008\t 2.710610964564512\t 4.89313046688043\t 5.734924726929534\n",
            "15 \t [ 3.90050645 15.        ]\t 178.39513409755773\t 2.710610964564512\t 5.319467068155145\t 5.8895683367956915\n",
            "16 \t [4.3916343  3.29897358]\t 10.201704837059026\t 2.710610964564512\t 5.357820926241989\t 6.014012416068882\n",
            "17 \t [-5.  0.]\t 308.12909601160663\t 2.710610964564512\t 5.692715743883031\t 6.053038583938428\n",
            "18 \t [1.81858628 5.73484383]\t 12.493627545299676\t 2.710610964564512\t 4.271710034029174\t 5.018768423752317\n",
            "19 \t [-1.39187889  9.11935965]\t 12.13634485831467\t 2.710610964564512\t 3.9508568259041374\t 3.988379152691661\n",
            "20 \t [ 6.92068317 13.3114756 ]\t 165.06374753602876\t 2.710610964564512\t 5.316049287547192\t 5.316634293574963\n"
          ]
        }
      ],
      "source": [
        "### EXACT STP ERM GRADIENTS\n",
        "\n",
        "np.random.seed(run_num_10)\n",
        "surrogate_exact_10 = dtStudentProcess(cov_func, optimize=opt, nu = df)\n",
        "\n",
        "exact_10 = dGPGO(surrogate_exact_10, Acquisition_grad(util), objfunc, param)\n",
        "exact_10.run(init_evals=n_init, max_iter=iters)\n"
      ]
    },
    {
      "cell_type": "code",
      "execution_count": 44,
      "metadata": {
        "id": "VwbLIP9cIv-F",
        "colab": {
          "base_uri": "https://localhost:8080/"
        },
        "outputId": "b5ed0425-d18a-4765-b0de-042e34489d6e"
      },
      "outputs": [
        {
          "output_type": "stream",
          "name": "stdout",
          "text": [
            "Evaluation \t Proposed point \t  Current eval. \t  Best eval. \t        Exact ERM: StdDev. x \t Approx ERM: StdDev. x \n",
            "init\t [-2.29595467  0.29212862]\t 104.49282729548965\t 22.37435843952312\t    \t    \n",
            "init\t [ 1.9482779  10.87400894]\t 62.47758067812407\t 22.37435843952312\t    \t    \n",
            "init\t [1.30305407 7.28140647]\t 22.37435843952312\t 22.37435843952312\t    \t    \n",
            "init\t [-4.80828778  7.31057411]\t 97.94503054415523\t 22.37435843952312\t    \t    \n",
            "init\t [ 9.12709979 12.76192634]\t 111.62900800771942\t 22.37435843952312\t    \t    \n",
            "\u001b[1m\u001b[92m1\u001b[0m\t \u001b[1m\u001b[92m[6.94653631 0.95529646]\u001b[0m\t \u001b[1m\u001b[92m17.615403152614682\u001b[0m\t \u001b[1m\u001b[92m17.615403152614682\u001b[0m\t \u001b[1m\u001b[92m4.660999999972853\u001b[0m\t \u001b[1m\u001b[92m4.995585873400998\u001b[0m\n",
            "2  \t [7.19106811 6.95991687]\t 48.67962340591087\t 17.615403152614682\t 4.339990910920864\t 5.479299878433456\n",
            "\u001b[1m\u001b[92m3\u001b[0m\t \u001b[1m\u001b[92m[2.54941416 0.        ]\u001b[0m\t \u001b[1m\u001b[92m9.773049806267423\u001b[0m\t \u001b[1m\u001b[92m9.773049806267423\u001b[0m\t \u001b[1m\u001b[92m5.1965301573609555\u001b[0m\t \u001b[1m\u001b[92m5.977907213775175\u001b[0m\n",
            "4  \t [ 4.68792333 14.74413073]\t 188.41914504166638\t 9.773049806267423\t 4.038858147359663\t 4.764173590316874\n",
            "\u001b[1m\u001b[92m5\u001b[0m\t \u001b[1m\u001b[92m[-3.42208896 11.32925449]\u001b[0m\t \u001b[1m\u001b[92m3.4300860679630905\u001b[0m\t \u001b[1m\u001b[92m3.4300860679630905\u001b[0m\t \u001b[1m\u001b[92m5.37761214070054\u001b[0m\t \u001b[1m\u001b[92m5.812567079266246\u001b[0m\n",
            "6  \t [3.85639254 4.11630485]\t 8.189938698665571\t 3.4300860679630905\t 5.357428742011773\t 5.523261552389859\n",
            "7  \t [-0.34674146 14.86901278]\t 87.94761799681596\t 3.4300860679630905\t 5.190846324004856\t 5.362710395860543\n",
            "8  \t [0.54560804 2.81588541]\t 23.750300872608673\t 3.4300860679630905\t 4.654667889023593\t 5.299125688038698\n",
            "9  \t [-5.          3.24615504]\t 207.0809487830449\t 3.4300860679630905\t 5.078012810379439\t 5.384338016045064\n",
            "\u001b[1m\u001b[92m10\u001b[0m\t \u001b[1m\u001b[92m[9.34760694 3.61520968]\u001b[0m\t \u001b[1m\u001b[92m1.877371556236696\u001b[0m\t \u001b[1m\u001b[92m1.877371556236696\u001b[0m\t \u001b[1m\u001b[92m5.232039020651249\u001b[0m\t \u001b[1m\u001b[92m6.006306968141151\u001b[0m\n",
            "11 \t [-4.75415634 13.61510062]\t 18.644743848491714\t 1.877371556236696\t 5.590797765831768\t 6.068122155123177\n",
            "12 \t [-1.47344188  8.86487533]\t 10.990623742369415\t 1.877371556236696\t 5.594723889768936\t 5.434499422809501\n",
            "13 \t [ 5.13723596 10.46997067]\t 99.27632834611862\t 1.877371556236696\t 5.525041213229213\t 4.621395656847814\n",
            "14 \t [10.          8.96604498]\t 37.501563576110655\t 1.877371556236696\t 5.144512887076404\t 5.508367249094949\n",
            "15 \t [4.03995898 7.09357196]\t 33.34021564951778\t 1.877371556236696\t 5.562796757652055\t 5.603459261350654\n",
            "16 \t [6.91574414 3.50883116]\t 23.205865115126134\t 1.877371556236696\t 5.658579301619589\t 5.559685241794383\n",
            "17 \t [-1.63107822  5.30119573]\t 22.659693034729493\t 1.877371556236696\t 4.941683318861491\t 5.1398649325209425\n",
            "18 \t [9.70919344 1.54275108]\t 2.1822093006438736\t 1.877371556236696\t 4.762212019036392\t 5.385978308068209\n",
            "19 \t [ 7.4836557 15.       ]\t 200.49767037718956\t 1.877371556236696\t 5.323266162816418\t 5.193513599767716\n",
            "20 \t [-0.71112897 11.43090016]\t 35.19964825167476\t 1.877371556236696\t 5.454181204420979\t 5.50569968788167\n"
          ]
        }
      ],
      "source": [
        "### EXACT STP ERM GRADIENTS\n",
        "\n",
        "np.random.seed(run_num_11)\n",
        "surrogate_exact_11 = dtStudentProcess(cov_func, optimize=opt, nu = df)\n",
        "\n",
        "exact_11 = dGPGO(surrogate_exact_11, Acquisition_grad(util), objfunc, param)\n",
        "exact_11.run(init_evals=n_init, max_iter=iters)\n"
      ]
    },
    {
      "cell_type": "code",
      "execution_count": 45,
      "metadata": {
        "id": "MlUNFjc-JTBY",
        "colab": {
          "base_uri": "https://localhost:8080/"
        },
        "outputId": "0b180603-7980-4bcc-9643-f8e0a914bbef"
      },
      "outputs": [
        {
          "output_type": "stream",
          "name": "stdout",
          "text": [
            "Evaluation \t Proposed point \t  Current eval. \t  Best eval. \t        Exact ERM: StdDev. x \t Approx ERM: StdDev. x \n",
            "init\t [-2.68755736 11.10074545]\t 1.3827702760021356\t 0.5499315281120278\t    \t    \n",
            "init\t [-1.05027477  8.0060909 ]\t 14.81231853080056\t 0.5499315281120278\t    \t    \n",
            "init\t [-4.78137556 13.78120512]\t 18.401131000214548\t 0.5499315281120278\t    \t    \n",
            "init\t [8.51072281 0.50132141]\t 5.855172364344769\t 0.5499315281120278\t    \t    \n",
            "init\t [9.35424004 2.05813982]\t 0.5499315281120278\t 0.5499315281120278\t    \t    \n",
            "1  \t [9.43895355 6.28875405]\t 14.852312468115107\t 0.5499315281120278\t 4.837803345434685\t 4.182051439339511\n",
            "2  \t [-5.  0.]\t 308.12909601160663\t 0.5499315281120278\t 5.583437248549205\t 4.4820338772634924\n",
            "3  \t [10. 15.]\t 145.87219087939556\t 0.5499315281120278\t 5.324237884857967\t 4.923621421482216\n",
            "4  \t [ 2.96504557 14.18967184]\t 139.14981054237984\t 0.5499315281120278\t 4.385557913089573\t 4.1572518124141915\n",
            "5  \t [1.93570332 0.        ]\t 18.155681846878494\t 0.5499315281120278\t 4.121932591347314\t 4.2296317094965135\n",
            "6  \t [4.24455848 7.73465334]\t 43.648223846497075\t 0.5499315281120278\t 4.645831984602435\t 4.34478033965076\n",
            "7  \t [-4.89014029  5.28693871]\t 145.91493814409483\t 0.5499315281120278\t 5.465787555588998\t 5.04071482826574\n",
            "8  \t [ 7.7941997  10.61584365]\t 94.71389729681759\t 0.5499315281120278\t 4.97445950861914\t 5.312509419658182\n",
            "9  \t [4.2062305  3.35947422]\t 8.471639972202178\t 0.5499315281120278\t 4.09553872441376\t 4.225858018417106\n",
            "10 \t [-1.22850937 14.63493594]\t 55.274633482995604\t 0.5499315281120278\t 5.262618315772985\t 5.659864072389573\n",
            "11 \t [-1.13948359  3.47172058]\t 34.35042587083049\t 0.5499315281120278\t 5.229003750805065\t 5.43791434360822\n",
            "12 \t [ 1.289063   10.23146341]\t 49.49515463723561\t 0.5499315281120278\t 4.626325312989889\t 5.1349898284135485\n",
            "13 \t [-5.          9.48069239]\t 72.11648015909844\t 0.5499315281120278\t 4.374223678408681\t 4.4921693232965465\n",
            "14 \t [5.35486116 0.        ]\t 17.149964364150275\t 0.5499315281120278\t 4.75143027648891\t 4.671266782950979\n",
            "15 \t [1.51761316 5.47411923]\t 13.044716811723994\t 0.5499315281120278\t 4.625207761452591\t 4.776304917003709\n",
            "16 \t [7.20400716 3.44330993]\t 20.67052582827187\t 0.5499315281120278\t 5.076209709643949\t 5.36969332393314\n",
            "17 \t [ 6.43556361 14.85797048]\t 208.55666753159483\t 0.5499315281120278\t 5.087552248277108\t 4.490411254481447\n",
            "18 \t [3.93631092 2.66547005]\t 4.136243786491044\t 0.5499315281120278\t 6.119082335119981\t 6.119082335119981\n",
            "19 \t [-1.22859333  0.68441345]\t 68.96252515898271\t 0.5499315281120278\t 5.31157012948597\t 5.500112588083712\n",
            "20 \t [6.91829533 5.99621361]\t 40.99966706342099\t 0.5499315281120278\t 4.362350585844919\t 4.470739476460583\n"
          ]
        }
      ],
      "source": [
        "### EXACT STP ERM GRADIENTS\n",
        "\n",
        "np.random.seed(run_num_12)\n",
        "surrogate_exact_12 = dtStudentProcess(cov_func, optimize=opt, nu = df)\n",
        "\n",
        "exact_12 = dGPGO(surrogate_exact_12, Acquisition_grad(util), objfunc, param)\n",
        "exact_12.run(init_evals=n_init, max_iter=iters)\n"
      ]
    },
    {
      "cell_type": "code",
      "execution_count": 46,
      "metadata": {
        "id": "9BsKdU9eJTFL",
        "colab": {
          "base_uri": "https://localhost:8080/"
        },
        "outputId": "2e8fcf7c-8666-4511-bfd7-b2ff3deee318"
      },
      "outputs": [
        {
          "output_type": "stream",
          "name": "stdout",
          "text": [
            "Evaluation \t Proposed point \t  Current eval. \t  Best eval. \t        Exact ERM: StdDev. x \t Approx ERM: StdDev. x \n",
            "init\t [6.66553616 3.5631183 ]\t 24.823670200298267\t 18.038943061558626\t    \t    \n",
            "init\t [ 7.36417799 14.48623797]\t 188.7803334745195\t 18.038943061558626\t    \t    \n",
            "init\t [9.58901671 6.80173871]\t 18.038943061558626\t 18.038943061558626\t    \t    \n",
            "init\t [ 4.13563694 11.63289772]\t 104.87319703906111\t 18.038943061558626\t    \t    \n",
            "init\t [ 4.62420017 10.83027344]\t 98.03271225790056\t 18.038943061558626\t    \t    \n",
            "1  \t [-5.  0.]\t 308.12909601160663\t 18.038943061558626\t 6.130023692705932\t 5.729491241131659\n",
            "\u001b[1m\u001b[92m2\u001b[0m\t \u001b[1m\u001b[92m[-3.06562888 11.40851515]\u001b[0m\t \u001b[1m\u001b[92m0.8943531030676173\u001b[0m\t \u001b[1m\u001b[92m0.8943531030676173\u001b[0m\t \u001b[1m\u001b[92m4.77366319176455\u001b[0m\t \u001b[1m\u001b[92m4.862290240566748\u001b[0m\n",
            "3  \t [-0.77721745  5.55115316]\t 19.956248293152978\t 0.8943531030676173\t 5.766790764086707\t 5.571343922540283\n",
            "4  \t [-5.          7.71867593]\t 102.37973209931107\t 0.8943531030676173\t 6.077979720552878\t 6.506490854734041\n",
            "5  \t [1.70334002 0.        ]\t 22.154907440082695\t 0.8943531030676173\t 5.392713175729995\t 5.129926552254299\n",
            "6  \t [-0.0981476  13.34916674]\t 71.27667395866462\t 0.8943531030676173\t 5.477839199914472\t 5.123823614281769\n",
            "7  \t [3.46144458 6.22038997]\t 18.37077632305828\t 0.8943531030676173\t 5.591122407595079\t 5.752251128228784\n",
            "8  \t [10.         10.71839793]\t 61.4711755102888\t 0.8943531030676173\t 5.271733220807724\t 5.334108719985092\n",
            "9  \t [-0.4985845   9.28144232]\t 24.4641420926061\t 0.8943531030676173\t 5.168624791316893\t 5.440875094900179\n",
            "10 \t [-5.          4.00898671]\t 186.3932757743541\t 0.8943531030676173\t 5.704500572488892\t 5.4003791888543455\n",
            "11 \t [9.24149036 1.58748771]\t 1.1022551284354893\t 0.8943531030676173\t 5.335266248507906\t 6.5904780941554595\n",
            "12 \t [-1.08759921  1.82347875]\t 51.18847348295179\t 0.8943531030676173\t 5.055010854687082\t 5.4709586641187\n",
            "13 \t [-4.43446921 13.32397319]\t 12.536929350944982\t 0.8943531030676173\t 5.730691725235033\t 6.6080646329774035\n",
            "14 \t [5.54351681 0.        ]\t 18.408919921266445\t 0.8943531030676173\t 4.6742955114942815\t 4.677187630845702\n",
            "15 \t [ 3.17323045 15.        ]\t 162.9535575706629\t 0.8943531030676173\t 5.189489613938129\t 5.693903106091876\n",
            "\u001b[1m\u001b[92m16\u001b[0m\t \u001b[1m\u001b[92m[2.98485819 3.01184622]\u001b[0m\t \u001b[1m\u001b[92m0.8894485702984465\u001b[0m\t \u001b[1m\u001b[92m0.8894485702984465\u001b[0m\t \u001b[1m\u001b[92m5.114923171312562\u001b[0m\t \u001b[1m\u001b[92m5.2889408656339505\u001b[0m\n",
            "17 \t [6.35091508 7.35211369]\t 58.63466214314029\t 0.8894485702984465\t 5.401833819170596\t 5.949056916047298\n",
            "18 \t [2.15598839 8.59824525]\t 34.17153467742369\t 0.8894485702984465\t 4.840047129664342\t 4.824315247612532\n",
            "19 \t [10. 15.]\t 145.87219087939556\t 0.8894485702984465\t 5.210250384816315\t 5.698764010704262\n",
            "20 \t [8.80751464 8.79594345]\t 48.30646574951298\t 0.8894485702984465\t 5.985640205074865\t 5.782453204444997\n"
          ]
        }
      ],
      "source": [
        "### EXACT STP ERM GRADIENTS\n",
        "\n",
        "np.random.seed(run_num_13)\n",
        "surrogate_exact_13 = dtStudentProcess(cov_func, optimize=opt, nu = df)\n",
        "\n",
        "exact_13 = dGPGO(surrogate_exact_13, Acquisition_grad(util), objfunc, param)\n",
        "exact_13.run(init_evals=n_init, max_iter=iters)\n"
      ]
    },
    {
      "cell_type": "code",
      "execution_count": 47,
      "metadata": {
        "id": "k6GjFBr1JTJf",
        "colab": {
          "base_uri": "https://localhost:8080/"
        },
        "outputId": "03464d55-78af-4ba9-94af-0f116c83f188"
      },
      "outputs": [
        {
          "output_type": "stream",
          "name": "stdout",
          "text": [
            "Evaluation \t Proposed point \t  Current eval. \t  Best eval. \t        Exact ERM: StdDev. x \t Approx ERM: StdDev. x \n",
            "init\t [ 2.70915016 11.59747578]\t 81.58264375064097\t 1.4149920024014744\t    \t    \n",
            "init\t [8.05641529 0.12070423]\t 10.148649076616518\t 1.4149920024014744\t    \t    \n",
            "init\t [-0.35396112 14.36405609]\t 79.6056658956529\t 1.4149920024014744\t    \t    \n",
            "init\t [2.69675068 4.77426637]\t 5.855607664288365\t 1.4149920024014744\t    \t    \n",
            "init\t [3.08799906 3.31882414]\t 1.4149920024014744\t 1.4149920024014744\t    \t    \n",
            "1  \t [-4.22572169  4.73878507]\t 111.46482334173054\t 1.4149920024014744\t 4.8894974490054155\t 5.427344747965223\n",
            "2  \t [ 9.02510452 14.92575454]\t 164.15736583327134\t 1.4149920024014744\t 5.580045400895932\t 6.531394389551471\n",
            "3  \t [8.4415984  6.61360555]\t 28.132050221972662\t 1.4149920024014744\t 5.148162736635453\t 6.371178054277318\n",
            "4  \t [-1.54716831e+00  8.74660312e-17]\t 87.16830945506574\t 1.4149920024014744\t 4.996428695937003\t 4.712551820841518\n",
            "5  \t [-2.34721787  9.6154237 ]\t 3.9637644452644256\t 1.4149920024014744\t 4.35765472402261\t 5.536738233060165\n",
            "6  \t [ 7.33726726 10.58825964]\t 101.4416132312179\t 1.4149920024014744\t 4.573874775825691\t 4.967557094586447\n",
            "\u001b[1m\u001b[92m7\u001b[0m\t \u001b[1m\u001b[92m[9.64630457 3.16921643]\u001b[0m\t \u001b[1m\u001b[92m0.8835481011824502\u001b[0m\t \u001b[1m\u001b[92m0.8835481011824502\u001b[0m\t \u001b[1m\u001b[92m4.340492386185404\u001b[0m\t \u001b[1m\u001b[92m4.595693120924579\u001b[0m\n",
            "8  \t [3.57318196 0.        ]\t 5.129725530959386\t 0.8835481011824502\t 5.53233179384276\t 5.925717428867639\n",
            "9  \t [-5.         13.04636622]\t 29.87158478184854\t 0.8835481011824502\t 5.301253040545112\t 6.276786627452332\n",
            "10 \t [0.98975761 7.37512741]\t 23.244508479900254\t 0.8835481011824502\t 4.986322020181014\t 5.515630210295557\n",
            "11 \t [5.89841424 3.74469475]\t 25.85812567322156\t 0.8835481011824502\t 4.783177985569935\t 4.728967454629652\n",
            "12 \t [ 4.0640614 15.       ]\t 182.00971783601625\t 0.8835481011824502\t 5.247089091322458\t 5.331641665726597\n",
            "13 \t [4.82830233 7.31974222]\t 47.02189373571933\t 0.8835481011824502\t 4.92540386881353\t 5.881604647422941\n",
            "14 \t [-0.08155479  3.52395836]\t 26.365079162728666\t 0.8835481011824502\t 5.720436607419613\t 6.129645720557598\n",
            "15 \t [-5.         8.5573368]\t 87.20105471722167\t 0.8835481011824502\t 5.54412589024765\t 5.185964800111912\n",
            "16 \t [-5.  0.]\t 308.12909601160663\t 0.8835481011824502\t 5.377760797957917\t 5.422953631513479\n",
            "17 \t [5.72442889 0.30557417]\t 18.80921984057827\t 0.8835481011824502\t 5.310416929087066\t 5.797896359392657\n",
            "18 \t [-2.37563365  6.86617735]\t 16.35709218052885\t 0.8835481011824502\t 4.554287971511826\t 4.629762791748977\n",
            "19 \t [1.35630914 0.        ]\t 28.682109786124453\t 0.8835481011824502\t 4.823821174998071\t 5.680668925749492\n",
            "20 \t [-0.02745812 10.78874551]\t 42.11301662498331\t 0.8835481011824502\t 4.951174630497658\t 4.933829397317104\n"
          ]
        }
      ],
      "source": [
        "### EXACT STP ERM GRADIENTS\n",
        "\n",
        "np.random.seed(run_num_14)\n",
        "surrogate_exact_14 = dtStudentProcess(cov_func, optimize=opt, nu = df)\n",
        "\n",
        "exact_14 = dGPGO(surrogate_exact_14, Acquisition_grad(util), objfunc, param)\n",
        "exact_14.run(init_evals=n_init, max_iter=iters)\n"
      ]
    },
    {
      "cell_type": "code",
      "execution_count": 48,
      "metadata": {
        "id": "dPS8WB3aJTN6",
        "colab": {
          "base_uri": "https://localhost:8080/"
        },
        "outputId": "ac9a72ff-cc1d-442b-d580-dbc03b2fcf34"
      },
      "outputs": [
        {
          "output_type": "stream",
          "name": "stdout",
          "text": [
            "Evaluation \t Proposed point \t  Current eval. \t  Best eval. \t        Exact ERM: StdDev. x \t Approx ERM: StdDev. x \n",
            "init\t [7.73226546 2.68343887]\t 12.768724532005583\t 12.768724532005583\t    \t    \n",
            "init\t [-4.18455179  5.42307669]\t 95.39334176626551\t 12.768724532005583\t    \t    \n",
            "init\t [-0.86898607  7.95000337]\t 16.419487782111716\t 12.768724532005583\t    \t    \n",
            "init\t [-0.41121626  4.56711539]\t 23.250362743740954\t 12.768724532005583\t    \t    \n",
            "init\t [-3.32388086  3.74848521]\t 80.99796277938532\t 12.768724532005583\t    \t    \n",
            "1  \t [ 6.5655417  11.87699252]\t 134.95011349993544\t 12.768724532005583\t 4.968094775083851\t 5.02464708127746\n",
            "2  \t [-4.77493765 13.49591113]\t 19.896906503438096\t 12.768724532005583\t 5.300707200174809\t 6.019393648788107\n",
            "\u001b[1m\u001b[92m3\u001b[0m\t \u001b[1m\u001b[92m[2.82510315 0.        ]\u001b[0m\t \u001b[1m\u001b[92m7.299780876268308\u001b[0m\t \u001b[1m\u001b[92m7.299780876268308\u001b[0m\t \u001b[1m\u001b[92m5.65387975347592\u001b[0m\t \u001b[1m\u001b[92m5.843548682476663\u001b[0m\n",
            "4  \t [ 1.37272768 15.        ]\t 131.60219222947694\t 7.299780876268308\t 4.774834565436448\t 5.04032189574334\n",
            "5  \t [8.37150312 7.10816022]\t 34.1757242405039\t 7.299780876268308\t 6.172879400300789\t 5.766820723318989\n",
            "6  \t [3.5415815  7.29987201]\t 29.417156827255134\t 7.299780876268308\t 5.89004917996615\t 5.784957166711794\n",
            "7  \t [10. 15.]\t 145.87219087939556\t 7.299780876268308\t 4.671618588026159\t 4.42256296926729\n",
            "8  \t [-5.  0.]\t 308.12909601160663\t 7.299780876268308\t 5.779108898511887\t 5.765669459065879\n",
            "\u001b[1m\u001b[92m9\u001b[0m\t \u001b[1m\u001b[92m[3.87917517 3.29714961]\u001b[0m\t \u001b[1m\u001b[92m5.2254839893143945\u001b[0m\t \u001b[1m\u001b[92m5.2254839893143945\u001b[0m\t \u001b[1m\u001b[92m4.5021959500383195\u001b[0m\t \u001b[1m\u001b[92m5.724749341615435\u001b[0m\n",
            "10 \t [-0.57181752  0.        ]\t 66.40929453409848\t 5.2254839893143945\t 4.652817388000353\t 5.752649402870097\n",
            "11 \t [-5.          9.61675792]\t 70.03777032648975\t 5.2254839893143945\t 4.818717441721781\t 5.323599731847309\n",
            "12 \t [ 1.49388656 10.72653456]\t 57.193282177691096\t 5.2254839893143945\t 4.32016936154766\t 4.293957230053731\n",
            "13 \t [-1.94363089 12.1126965 ]\t 12.909802215181614\t 5.2254839893143945\t 5.093535444893125\t 5.389829339437373\n",
            "14 \t [ 9.99602349 10.64674284]\t 60.410197940361655\t 5.2254839893143945\t 4.714669537288432\t 4.749332871551259\n",
            "\u001b[1m\u001b[92m15\u001b[0m\t \u001b[1m\u001b[92m[10.          4.32433751]\u001b[0m\t \u001b[1m\u001b[92m3.6891881461979636\u001b[0m\t \u001b[1m\u001b[92m3.6891881461979636\u001b[0m\t \u001b[1m\u001b[92m4.3911910181438065\u001b[0m\t \u001b[1m\u001b[92m4.78317613854407\u001b[0m\n",
            "16 \t [ 5.09407432 15.        ]\t 202.78177505622494\t 3.6891881461979636\t 5.92465975872499\t 5.465885704955532\n",
            "17 \t [5.68703499 5.25673151]\t 35.00099393345638\t 3.6891881461979636\t 5.018122555534463\t 6.222587473951601\n",
            "18 \t [5.26658532 0.41492011]\t 15.671365654624177\t 3.6891881461979636\t 4.76829021225181\t 5.0108768462968705\n",
            "19 \t [5.4283971  9.09196569]\t 79.10482181959027\t 3.6891881461979636\t 4.704841548879299\t 4.463925772155141\n",
            "20 \t [ 9.9275136  12.96486961]\t 102.25009626234477\t 3.6891881461979636\t 4.597721933113587\t 4.543933734204002\n"
          ]
        }
      ],
      "source": [
        "### EXACT STP ERM GRADIENTS\n",
        "\n",
        "np.random.seed(run_num_15)\n",
        "surrogate_exact_15 = dtStudentProcess(cov_func, optimize=opt, nu = df)\n",
        "\n",
        "exact_15 = dGPGO(surrogate_exact_15, Acquisition_grad(util), objfunc, param)\n",
        "exact_15.run(init_evals=n_init, max_iter=iters)\n"
      ]
    },
    {
      "cell_type": "code",
      "execution_count": 49,
      "metadata": {
        "id": "lu8ki9XIQPPN",
        "colab": {
          "base_uri": "https://localhost:8080/"
        },
        "outputId": "8dc62a09-0095-4391-d441-2b997a3fd511"
      },
      "outputs": [
        {
          "output_type": "stream",
          "name": "stdout",
          "text": [
            "Evaluation \t Proposed point \t  Current eval. \t  Best eval. \t        Exact ERM: StdDev. x \t Approx ERM: StdDev. x \n",
            "init\t [-1.65063381  7.84745012]\t 10.514702126319445\t 2.715864006988424\t    \t    \n",
            "init\t [3.26052185 0.68402925]\t 2.715864006988424\t 2.715864006988424\t    \t    \n",
            "init\t [0.41093253 3.34621413]\t 22.889515127492515\t 2.715864006988424\t    \t    \n",
            "init\t [5.33089243 2.45597138]\t 17.178157611778595\t 2.715864006988424\t    \t    \n",
            "init\t [-3.945127  14.1151629]\t 3.3649224341694195\t 2.715864006988424\t    \t    \n",
            "1  \t [ 5.63879248 14.58068289]\t 198.51319639462758\t 2.715864006988424\t 5.140742256925427\t 5.5404198387477575\n",
            "2  \t [-5.  0.]\t 308.12909601160663\t 2.715864006988424\t 5.959525081595655\t 5.446431464601831\n",
            "3  \t [4.39600939 7.43435868]\t 42.22899400142327\t 2.715864006988424\t 4.826050540154118\t 5.763484491254287\n",
            "4  \t [10.          9.47803921]\t 43.869835427045274\t 2.715864006988424\t 5.130847183644675\t 6.0193045963482765\n",
            "5  \t [ 0.83101229 11.57226008]\t 62.789858080895414\t 2.715864006988424\t 5.1531618431740265\t 5.100915371448674\n",
            "6  \t [-5.          4.85549264]\t 164.79870598961614\t 2.715864006988424\t 5.6238691940547225\t 6.303378035857992\n",
            "7  \t [8.97411151 4.88997732]\t 9.023324019257892\t 2.715864006988424\t 4.453474096266795\t 4.983089787110573\n",
            "8  \t [10. 15.]\t 145.8721908792686\t 2.715864006988424\t 4.605460622190896\t 5.616561441636528\n",
            "9  \t [8.58924681 0.80210851]\t 4.679032567618621\t 2.715864006988424\t 4.429843279414232\t 4.552635053575995\n",
            "10 \t [-5.       10.061513]\t 63.50145012687367\t 2.715864006988424\t 4.471543641229659\t 5.7800639998422465\n",
            "11 \t [ 6.35359778 10.2826436 ]\t 103.84634615540088\t 2.715864006988424\t 4.339244560356333\t 5.361185113280147\n",
            "12 \t [-0.56559293  0.        ]\t 66.2911328264608\t 2.715864006988424\t 4.5391720927237\t 4.897798382655749\n",
            "13 \t [1.13902036 6.83872479]\t 20.18825399259879\t 2.715864006988424\t 4.19349543121753\t 5.1403629023707875\n",
            "14 \t [ 1.30509226 14.884634  ]\t 127.90589634403422\t 2.715864006988424\t 4.9531351258951375\t 5.336993496889029\n",
            "15 \t [6.16388498 5.08160971]\t 35.40268049528029\t 2.715864006988424\t 4.400796993317386\t 5.099737536882146\n",
            "16 \t [3.17550109 4.13037846]\t 3.9441030226527465\t 2.715864006988424\t 4.4091708553582345\t 5.080043518659005\n",
            "17 \t [ 3.57917156 10.83764705]\t 80.14210224725682\t 2.715864006988424\t 5.3051787709753135\t 4.986615908195362\n",
            "18 \t [-2.34995134 12.0862135 ]\t 5.918700581867037\t 2.715864006988424\t 5.238600625668921\t 5.267505562604565\n",
            "19 \t [-1.92827507  5.0085591 ]\t 27.25828041607948\t 2.715864006988424\t 4.528746089414812\t 4.491489645301396\n",
            "20 \t [-1.86397076 14.91919743]\t 37.5164212174102\t 2.715864006988424\t 4.952422409518767\t 5.610503150644839\n"
          ]
        }
      ],
      "source": [
        "### EXACT STP ERM GRADIENTS\n",
        "\n",
        "np.random.seed(run_num_16)\n",
        "surrogate_exact_16 = dtStudentProcess(cov_func, optimize=opt, nu = df)\n",
        "\n",
        "exact_16 = dGPGO(surrogate_exact_16, Acquisition_grad(util), objfunc, param)\n",
        "exact_16.run(init_evals=n_init, max_iter=iters)\n"
      ]
    },
    {
      "cell_type": "code",
      "execution_count": 50,
      "metadata": {
        "id": "yU2SflSsJTUs",
        "colab": {
          "base_uri": "https://localhost:8080/"
        },
        "outputId": "8fdccc4f-8a31-4d83-b571-4f84a52116a8"
      },
      "outputs": [
        {
          "output_type": "stream",
          "name": "stdout",
          "text": [
            "Evaluation \t Proposed point \t  Current eval. \t  Best eval. \t        Exact ERM: StdDev. x \t Approx ERM: StdDev. x \n",
            "init\t [-0.58002496  7.95880133]\t 19.016141117164256\t 19.016141117164256\t    \t    \n",
            "init\t [-2.1271882   1.01850537]\t 85.05949339404415\t 19.016141117164256\t    \t    \n",
            "init\t [6.8047819  9.84500283]\t 93.89792695202516\t 19.016141117164256\t    \t    \n",
            "init\t [4.56281344 8.63404341]\t 60.50217141122736\t 19.016141117164256\t    \t    \n",
            "init\t [-4.41405626  5.36720407]\t 110.70834086593878\t 19.016141117164256\t    \t    \n",
            "\u001b[1m\u001b[92m1\u001b[0m\t \u001b[1m\u001b[92m[9.76575296 0.98553483]\u001b[0m\t \u001b[1m\u001b[92m4.1623278326263815\u001b[0m\t \u001b[1m\u001b[92m4.1623278326263815\u001b[0m\t \u001b[1m\u001b[92m6.027547752836504\u001b[0m\t \u001b[1m\u001b[92m7.087933317300506\u001b[0m\n",
            "2  \t [-0.36591853 14.49945231]\t 81.3728947682288\t 4.1623278326263815\t 4.80407888851987\t 5.363963111642544\n",
            "\u001b[1m\u001b[92m3\u001b[0m\t \u001b[1m\u001b[92m[3.74599703 2.35814314]\u001b[0m\t \u001b[1m\u001b[92m2.3563457989420957\u001b[0m\t \u001b[1m\u001b[92m2.3563457989420957\u001b[0m\t \u001b[1m\u001b[92m4.5145486973193725\u001b[0m\t \u001b[1m\u001b[92m4.5123752242305954\u001b[0m\n",
            "4  \t [10. 15.]\t 145.87219087939556\t 2.3563457989420957\t 5.651715690272202\t 6.419409997523032\n",
            "5  \t [9.29977095 5.44257151]\t 9.903848503973805\t 2.3563457989420957\t 4.6668010948841525\t 5.719642996218961\n",
            "6  \t [-5.         10.91009209]\t 52.12784724281622\t 2.3563457989420957\t 5.196889827690044\t 5.812017395598779\n",
            "7  \t [ 4.75165257 14.75691375]\t 190.00793632892052\t 2.3563457989420957\t 5.139836409520479\t 5.684788136105559\n",
            "8  \t [6.65149539 2.99508674]\t 22.439521979202098\t 2.3563457989420957\t 5.375667870117215\t 5.728377487931472\n",
            "9  \t [1.85550014 0.        ]\t 19.494620445251787\t 2.3563457989420957\t 5.601921395947389\t 6.149149285082358\n",
            "10 \t [0.77206734 4.36773122]\t 17.110496927415394\t 2.3563457989420957\t 4.9094843583098005\t 5.599484992961328\n",
            "11 \t [5.4647046 0.       ]\t 17.908158366978682\t 2.3563457989420957\t 5.628529044132163\t 5.541888406727504\n",
            "12 \t [ 1.69194265 11.01298709]\t 62.656256349689734\t 2.3563457989420957\t 5.553690962858291\t 6.0995361052442405\n",
            "13 \t [-1.86902859 11.38774672]\t 11.027336746628539\t 2.3563457989420957\t 4.561557252172382\t 4.825729061990474\n",
            "14 \t [10.          8.41479307]\t 31.231114571606902\t 2.3563457989420957\t 4.844802294393068\t 4.996998562008606\n",
            "15 \t [ 9.85844277 11.59257824]\t 77.45560326197874\t 2.3563457989420957\t 5.008667797035786\t 5.542802090148614\n",
            "16 \t [-4.00334807 14.13011317]\t 3.84524161261057\t 2.3563457989420957\t 4.455153503314032\t 4.853534633198215\n",
            "17 \t [4.80555738 5.36464006]\t 27.13111677953356\t 2.3563457989420957\t 4.7728258843325255\t 4.624955581544091\n",
            "18 \t [2.44484757 6.267007  ]\t 14.100331217197422\t 2.3563457989420957\t 4.7404047294670475\t 5.13761502428939\n",
            "19 \t [-3.08773607  8.05371397]\t 17.15815972581443\t 2.3563457989420957\t 4.802937358505783\t 5.326181620849129\n",
            "\u001b[1m\u001b[92m20\u001b[0m\t \u001b[1m\u001b[92m[9.95332462 3.2195392 ]\u001b[0m\t \u001b[1m\u001b[92m1.7771471219578814\u001b[0m\t \u001b[1m\u001b[92m1.7771471219578814\u001b[0m\t \u001b[1m\u001b[92m4.8081602205195555\u001b[0m\t \u001b[1m\u001b[92m5.542925109735036\u001b[0m\n"
          ]
        }
      ],
      "source": [
        "### EXACT STP ERM GRADIENTS\n",
        "\n",
        "np.random.seed(run_num_17)\n",
        "surrogate_exact_17 = dtStudentProcess(cov_func, optimize=opt, nu = df)\n",
        "\n",
        "exact_17 = dGPGO(surrogate_exact_17, Acquisition_grad(util), objfunc, param)\n",
        "exact_17.run(init_evals=n_init, max_iter=iters)\n"
      ]
    },
    {
      "cell_type": "code",
      "execution_count": 51,
      "metadata": {
        "id": "eVEhyZ9BQS-1",
        "colab": {
          "base_uri": "https://localhost:8080/"
        },
        "outputId": "1c733669-f6e5-4248-ecab-e2e15df4949f"
      },
      "outputs": [
        {
          "output_type": "stream",
          "name": "stdout",
          "text": [
            "Evaluation \t Proposed point \t  Current eval. \t  Best eval. \t        Exact ERM: StdDev. x \t Approx ERM: StdDev. x \n",
            "init\t [4.75561363 7.58180061]\t 49.215059064668324\t 8.150075223157177\t    \t    \n",
            "init\t [8.17902206 2.72760338]\t 8.150075223157177\t 8.150075223157177\t    \t    \n",
            "init\t [ 7.78349603 11.25204429]\t 106.98107856533271\t 8.150075223157177\t    \t    \n",
            "init\t [ 4.99152501 14.81843172]\t 196.08601750690153\t 8.150075223157177\t    \t    \n",
            "init\t [-1.14547366  0.42458888]\t 71.23649635555944\t 8.150075223157177\t    \t    \n",
            "\u001b[1m\u001b[92m1\u001b[0m\t \u001b[1m\u001b[92m[-2.12483893 10.71385111]\u001b[0m\t \u001b[1m\u001b[92m5.508754856016457\u001b[0m\t \u001b[1m\u001b[92m5.508754856016457\u001b[0m\t \u001b[1m\u001b[92m5.659171820853315\u001b[0m\t \u001b[1m\u001b[92m6.03916981330079\u001b[0m\n",
            "2  \t [-5.          6.15870599]\t 134.3549629625931\t 5.508754856016457\t 5.706765427972737\t 5.776197999566847\n",
            "3  \t [0.59356239 4.59031092]\t 18.220333891306154\t 5.508754856016457\t 4.707915027239905\t 5.027247648277779\n",
            "4  \t [4.1900768 0.       ]\t 7.767550818379065\t 5.508754856016457\t 5.976981400399981\t 5.980823039459322\n",
            "5  \t [-5.          1.77141971]\t 250.37496777409976\t 5.508754856016457\t 4.972711416876549\t 4.693312557484819\n",
            "6  \t [ 1.5931775  11.00804151]\t 61.85236512310362\t 5.508754856016457\t 5.177295145111187\t 6.166590741608611\n",
            "7  \t [10. 15.]\t 145.87219087939556\t 5.508754856016457\t 4.652281905423109\t 6.072924223459921\n",
            "8  \t [-0.90336196  7.63874221]\t 15.95258239116957\t 5.508754856016457\t 4.132008931288307\t 6.880742854521406\n",
            "9  \t [10.          6.56033411]\t 14.598075346656682\t 5.508754856016457\t 5.728386011038577\t 7.851016537090827\n",
            "10 \t [-4.76967256 13.86702157]\t 17.641667143206\t 5.508754856016457\t 5.632686859802455\t 6.9779428030021915\n",
            "11 \t [-0.56317354 14.85364973]\t 80.78794298700325\t 5.508754856016457\t 5.365612148911687\t 6.279551962896257\n",
            "12 \t [-5.         10.22566788]\t 61.18891182944128\t 5.508754856016457\t 4.397448361788701\t 4.526817502842788\n",
            "13 \t [4.83651813 3.44553069]\t 15.688402079431057\t 5.508754856016457\t 4.649638027309612\t 4.806050927349846\n",
            "14 \t [6.79112526 0.38488067]\t 18.97446983349606\t 5.508754856016457\t 4.033307035054118\t 4.916901646250906\n",
            "15 \t [1.93188211 1.97562013]\t 8.657811521998282\t 5.508754856016457\t 4.981806330063308\t 5.666165724509706\n",
            "16 \t [-2.26096757  4.7204525 ]\t 34.56025049053687\t 5.508754856016457\t 4.509600085725512\t 4.6721723567826645\n",
            "\u001b[1m\u001b[92m17\u001b[0m\t \u001b[1m\u001b[92m[9.51596417 0.82580478]\u001b[0m\t \u001b[1m\u001b[92m3.4209546196981684\u001b[0m\t \u001b[1m\u001b[92m3.4209546196981684\u001b[0m\t \u001b[1m\u001b[92m5.3707663747564585\u001b[0m\t \u001b[1m\u001b[92m5.33530906453595\u001b[0m\n",
            "18 \t [2.75557598 5.21136387]\t 7.948299305381821\t 3.4209546196981684\t 4.1339493958120705\t 4.404789752094272\n",
            "19 \t [ 4.35188118 11.06715898]\t 97.75395247037932\t 3.4209546196981684\t 4.583836936625452\t 4.197215778160214\n",
            "20 \t [3.80715166 3.63946951]\t 5.7825744631702385\t 3.4209546196981684\t 5.186064096469503\t 5.293000301693874\n"
          ]
        }
      ],
      "source": [
        "### EXACT STP ERM GRADIENTS\n",
        "\n",
        "np.random.seed(run_num_18)\n",
        "surrogate_exact_18 = dtStudentProcess(cov_func, optimize=opt, nu = df)\n",
        "\n",
        "exact_18 = dGPGO(surrogate_exact_18, Acquisition_grad(util), objfunc, param)\n",
        "exact_18.run(init_evals=n_init, max_iter=iters)\n"
      ]
    },
    {
      "cell_type": "code",
      "execution_count": 52,
      "metadata": {
        "id": "B6gTz1ojQUxn",
        "colab": {
          "base_uri": "https://localhost:8080/"
        },
        "outputId": "fbf8f4d7-1385-4b58-ea1e-057ef689b486"
      },
      "outputs": [
        {
          "output_type": "stream",
          "name": "stdout",
          "text": [
            "Evaluation \t Proposed point \t  Current eval. \t  Best eval. \t        Exact ERM: StdDev. x \t Approx ERM: StdDev. x \n",
            "init\t [-3.53699597 11.41874575]\t 4.475608269502271\t 4.475608269502271\t    \t    \n",
            "init\t [-1.2959304   2.07197531]\t 51.13947793770689\t 4.475608269502271\t    \t    \n",
            "init\t [-0.02830155  1.24499348]\t 42.63973921760034\t 4.475608269502271\t    \t    \n",
            "init\t [ 5.07965622 12.09890697]\t 131.17235664506808\t 4.475608269502271\t    \t    \n",
            "init\t [9.74112872 9.53491102]\t 46.84458913925112\t 4.475608269502271\t    \t    \n",
            "\u001b[1m\u001b[92m1\u001b[0m\t \u001b[1m\u001b[92m[9.57054653 2.03489665]\u001b[0m\t \u001b[1m\u001b[92m0.8198597583535783\u001b[0m\t \u001b[1m\u001b[92m0.8198597583535783\u001b[0m\t \u001b[1m\u001b[92m5.720542187459437\u001b[0m\t \u001b[1m\u001b[92m5.64595730937796\u001b[0m\n",
            "2  \t [4.92671407 4.54323343]\t 22.59637030087211\t 0.8198597583535783\t 5.905933710502545\t 6.2240600113464515\n",
            "3  \t [-5.          6.22133771]\t 132.97739859336184\t 0.8198597583535783\t 5.210460393646125\t 5.754055252674902\n",
            "4  \t [0.72694679 7.76486817]\t 25.317640019453304\t 0.8198597583535783\t 5.727071315071402\t 5.265399698788491\n",
            "5  \t [10. 15.]\t 145.87219087926889\t 0.8198597583535783\t 5.005398216349216\t 5.5884756256549775\n",
            "6  \t [5.02579626 0.        ]\t 14.558600863688937\t 0.8198597583535783\t 5.074905842498588\t 5.522402885728138\n",
            "7  \t [-1.0547233  14.22621679]\t 55.74779207244822\t 0.8198597583535783\t 5.532051897028459\t 6.222121182339752\n",
            "8  \t [-5.  0.]\t 308.12909601160663\t 0.8198597583535783\t 5.4186554010068475\t 4.8350733966458\n",
            "9  \t [4.63784455 8.0850009 ]\t 54.00957294839718\t 0.8198597583535783\t 5.296311353214491\t 6.679788573750189\n",
            "10 \t [8.37255521 5.8642055 ]\t 22.328665667522195\t 0.8198597583535783\t 5.008298322147356\t 4.8453265605181945\n",
            "11 \t [ 2.39653391 15.        ]\t 148.68113633681133\t 0.8198597583535783\t 4.607667473521539\t 5.500335684006145\n",
            "12 \t [ 0.24369579 10.93653731]\t 47.585901024713976\t 0.8198597583535783\t 4.836134933533963\t 4.9426934518852645\n",
            "13 \t [-1.29579909  5.40151218]\t 20.888724230591663\t 0.8198597583535783\t 5.538179888970427\t 5.870239350791021\n",
            "14 \t [6.96089943 2.67336575]\t 19.707558103666607\t 0.8198597583535783\t 5.065269049245238\t 4.875472798870029\n",
            "15 \t [2.83881701 2.44192817]\t 0.8412299494958102\t 0.8198597583535783\t 5.235294634418628\t 5.053650400879227\n",
            "16 \t [-2.17385541  8.45989098]\t 7.147370490457094\t 0.8198597583535783\t 4.709713722459373\t 5.335772306464712\n",
            "17 \t [ 6.59274305 15.        ]\t 211.7381322775745\t 0.8198597583535783\t 5.138998191438325\t 5.761292201687873\n",
            "18 \t [8.4762911  3.62702023]\t 7.773224071324273\t 0.8198597583535783\t 4.6445326929121675\t 4.9284830683635805\n",
            "19 \t [2.13153509 5.27552308]\t 9.224143412941832\t 0.8198597583535783\t 4.593718830979678\t 4.005858347490313\n",
            "20 \t [7.0876908  9.90142024]\t 92.21309602031519\t 0.8198597583535783\t 5.02634952930322\t 5.63948491890306\n"
          ]
        }
      ],
      "source": [
        "### EXACT STP ERM GRADIENTS\n",
        "\n",
        "np.random.seed(run_num_19)\n",
        "surrogate_exact_19 = dtStudentProcess(cov_func, optimize=opt, nu = df)\n",
        "\n",
        "exact_19 = dGPGO(surrogate_exact_19, Acquisition_grad(util), objfunc, param)\n",
        "exact_19.run(init_evals=n_init, max_iter=iters)\n"
      ]
    },
    {
      "cell_type": "code",
      "execution_count": 53,
      "metadata": {
        "id": "aw3xvSryIwDi",
        "colab": {
          "base_uri": "https://localhost:8080/"
        },
        "outputId": "59e7efa8-18f5-47b8-8d7f-cb8a370216bd"
      },
      "outputs": [
        {
          "output_type": "stream",
          "name": "stdout",
          "text": [
            "Evaluation \t Proposed point \t  Current eval. \t  Best eval. \t        Exact ERM: StdDev. x \t Approx ERM: StdDev. x \n",
            "init\t [ 3.82196202 13.46570592]\t 138.5264349938869\t 14.042667401507376\t    \t    \n",
            "init\t [ 8.37296094 12.23756216]\t 115.63178540512689\t 14.042667401507376\t    \t    \n",
            "init\t [-4.46165622 10.37636373]\t 35.66708529307584\t 14.042667401507376\t    \t    \n",
            "init\t [0.68021413 7.77766418]\t 25.307769914281764\t 14.042667401507376\t    \t    \n",
            "init\t [4.86927198 2.90775327]\t 14.042667401507376\t 14.042667401507376\t    \t    \n",
            "1  \t [-4.63587627  0.        ]\t 270.23634495036345\t 14.042667401507376\t 4.913955979348157\t 5.371092224423555\n",
            "2  \t [8.35929903 6.62265811]\t 29.359368903223917\t 14.042667401507376\t 4.472134993948404\t 5.298908623064647\n",
            "3  \t [0.71261201 0.58763805]\t 36.134159014493406\t 14.042667401507376\t 4.953510020822079\t 5.415135675898801\n",
            "\u001b[1m\u001b[92m4\u001b[0m\t \u001b[1m\u001b[92m[8.69107139 2.73113535]\u001b[0m\t \u001b[1m\u001b[92m3.517347724389211\u001b[0m\t \u001b[1m\u001b[92m3.517347724389211\u001b[0m\t \u001b[1m\u001b[92m5.790825487086137\u001b[0m\t \u001b[1m\u001b[92m6.875609681645035\u001b[0m\n",
            "5  \t [-3.95150181  5.33140712]\t 83.92464167850142\t 3.517347724389211\t 5.381079637516703\t 6.789451695811623\n",
            "6  \t [4.2304701  9.06811267]\t 61.6364624810251\t 3.517347724389211\t 4.88290689103315\t 5.219810190732164\n",
            "7  \t [-4.32298919 14.99123565]\t 6.446677251505133\t 3.517347724389211\t 6.21035019893362\t 6.807322432226319\n",
            "8  \t [-0.86518879 14.99502714]\t 72.7974178130248\t 3.517347724389211\t 5.5712668306959054\t 5.896502550960658\n",
            "9  \t [6.9851089 0.       ]\t 18.7387645082898\t 3.517347724389211\t 5.509914223457191\t 6.129015364927277\n",
            "10 \t [1.71774974 3.63450325]\t 8.59417366668087\t 3.517347724389211\t 5.351699100643859\t 5.080215019683551\n",
            "11 \t [9.99227222 0.3524908 ]\t 8.887439660387686\t 3.517347724389211\t 5.378246445099927\t 5.393088065042315\n",
            "12 \t [5.09223401 5.76603166]\t 33.99705743371642\t 3.517347724389211\t 5.349100588336849\t 6.004054445996454\n",
            "13 \t [ 0.52170122 11.34607745]\t 56.039478414339925\t 3.517347724389211\t 5.460610686765592\t 5.521329791006288\n",
            "14 \t [10.          9.28327678]\t 41.38556212007182\t 3.517347724389211\t 5.2456158324879185\t 5.829404423579262\n",
            "15 \t [-1.40259361  3.2615222 ]\t 38.907238680360926\t 3.517347724389211\t 5.292071768766604\t 5.702443041523443\n",
            "16 \t [10. 15.]\t 145.87219087939556\t 3.517347724389211\t 5.62384469091822\t 5.851711639842304\n",
            "17 \t [3.70119855 0.        ]\t 5.393348223047477\t 3.517347724389211\t 4.489459948044673\t 4.9535650126010236\n",
            "18 \t [-2.32737435 11.74589722]\t 5.209760825073092\t 3.517347724389211\t 5.126623370361046\t 4.938195178615094\n",
            "19 \t [ 6.45727518 15.        ]\t 212.40416639151104\t 3.517347724389211\t 5.83081885668994\t 6.264969330709988\n",
            "20 \t [4.84671012 1.20511305]\t 11.299285190642689\t 3.517347724389211\t 4.319229943632809\t 4.159912673929305\n"
          ]
        }
      ],
      "source": [
        "### EXACT STP ERM GRADIENTS\n",
        "\n",
        "np.random.seed(run_num_20)\n",
        "surrogate_exact_20 = dtStudentProcess(cov_func, optimize=opt, nu = df)\n",
        "\n",
        "exact_20 = dGPGO(surrogate_exact_20, Acquisition_grad(util), objfunc, param)\n",
        "exact_20.run(init_evals=n_init, max_iter=iters)\n"
      ]
    },
    {
      "cell_type": "code",
      "execution_count": 54,
      "metadata": {
        "id": "5c8szjivRPme",
        "colab": {
          "base_uri": "https://localhost:8080/"
        },
        "outputId": "2f2b96c7-d4f3-40a2-f9c5-11368e14bf06"
      },
      "outputs": [
        {
          "output_type": "execute_result",
          "data": {
            "text/plain": [
              "1387.1749868392944"
            ]
          },
          "metadata": {},
          "execution_count": 54
        }
      ],
      "source": [
        "end_exact = time.time()\n",
        "end_exact\n",
        "\n",
        "time_exact = end_exact - start_exact\n",
        "time_exact\n"
      ]
    },
    {
      "cell_type": "code",
      "execution_count": 55,
      "metadata": {
        "id": "f6gCKnp6RR8c",
        "colab": {
          "base_uri": "https://localhost:8080/"
        },
        "outputId": "4181fd70-9462-4726-e6a3-7498c2a7123d"
      },
      "outputs": [
        {
          "output_type": "execute_result",
          "data": {
            "text/plain": [
              "(1.7025314333467774, 0.9726348002872017)"
            ]
          },
          "metadata": {},
          "execution_count": 55
        }
      ],
      "source": [
        "### Simple regret minimization: run number = 1\n",
        "\n",
        "approx_output_1 = np.append(np.min(-approx_1.GP.y[0:n_init]),-approx_1.GP.y[n_init:(n_init+iters)]) \n",
        "exact_output_1 = np.append(np.min(-exact_1.GP.y[0:n_init]),-exact_1.GP.y[n_init:(n_init+iters)]) \n",
        "\n",
        "regret_approx_1 = np.log(approx_output_1 - y_global_orig)\n",
        "regret_exact_1 = np.log(exact_output_1 - y_global_orig)\n",
        "\n",
        "simple_regret_approx_1 = min_max_array(regret_approx_1)\n",
        "simple_regret_exact_1 = min_max_array(regret_exact_1)\n",
        "\n",
        "min_simple_regret_approx_1 = min(simple_regret_approx_1)\n",
        "min_simple_regret_exact_1 = min(simple_regret_exact_1)\n",
        "\n",
        "min_simple_regret_approx_1, min_simple_regret_exact_1\n"
      ]
    },
    {
      "cell_type": "code",
      "execution_count": 56,
      "metadata": {
        "id": "94yBw5tqQxfk",
        "colab": {
          "base_uri": "https://localhost:8080/"
        },
        "outputId": "13a79c11-e031-43a7-cb6d-dc040bcaf1fb"
      },
      "outputs": [
        {
          "output_type": "execute_result",
          "data": {
            "text/plain": [
              "(0.5857547920775205, -0.06380433846278227)"
            ]
          },
          "metadata": {},
          "execution_count": 56
        }
      ],
      "source": [
        "### Simple regret minimization: run number = 2\n",
        "\n",
        "approx_output_2 = np.append(np.min(-approx_2.GP.y[0:n_init]),-approx_2.GP.y[n_init:(n_init+iters)]) \n",
        "exact_output_2 = np.append(np.min(-exact_2.GP.y[0:n_init]),-exact_2.GP.y[n_init:(n_init+iters)]) \n",
        "\n",
        "regret_approx_2 = np.log(approx_output_2 - y_global_orig)\n",
        "regret_exact_2 = np.log(exact_output_2 - y_global_orig)\n",
        "\n",
        "simple_regret_approx_2 = min_max_array(regret_approx_2)\n",
        "simple_regret_exact_2 = min_max_array(regret_exact_2)\n",
        "\n",
        "min_simple_regret_approx_2 = min(simple_regret_approx_2)\n",
        "min_simple_regret_exact_2 = min(simple_regret_exact_2)\n",
        "\n",
        "min_simple_regret_approx_2, min_simple_regret_exact_2\n"
      ]
    },
    {
      "cell_type": "code",
      "execution_count": 57,
      "metadata": {
        "id": "Bu6SBWALQxfl",
        "colab": {
          "base_uri": "https://localhost:8080/"
        },
        "outputId": "74fc4fe2-20a8-4d90-d1e9-9f333f18dcf5"
      },
      "outputs": [
        {
          "output_type": "execute_result",
          "data": {
            "text/plain": [
              "(0.462181197798296, 0.5703547077649286)"
            ]
          },
          "metadata": {},
          "execution_count": 57
        }
      ],
      "source": [
        "### Simple regret minimization: run number = 3\n",
        "\n",
        "approx_output_3 = np.append(np.min(-approx_3.GP.y[0:n_init]),-approx_3.GP.y[n_init:(n_init+iters)]) \n",
        "exact_output_3 = np.append(np.min(-exact_3.GP.y[0:n_init]),-exact_3.GP.y[n_init:(n_init+iters)]) \n",
        "\n",
        "regret_approx_3 = np.log(approx_output_3 - y_global_orig)\n",
        "regret_exact_3 = np.log(exact_output_3 - y_global_orig)\n",
        "\n",
        "simple_regret_approx_3 = min_max_array(regret_approx_3)\n",
        "simple_regret_exact_3 = min_max_array(regret_exact_3)\n",
        "\n",
        "min_simple_regret_approx_3 = min(simple_regret_approx_3)\n",
        "min_simple_regret_exact_3 = min(simple_regret_exact_3)\n",
        "\n",
        "min_simple_regret_approx_3, min_simple_regret_exact_3"
      ]
    },
    {
      "cell_type": "code",
      "execution_count": 58,
      "metadata": {
        "id": "AZm0jgxkQxfm",
        "colab": {
          "base_uri": "https://localhost:8080/"
        },
        "outputId": "845ef783-86e0-47d7-cadf-2163ce0a0f26"
      },
      "outputs": [
        {
          "output_type": "execute_result",
          "data": {
            "text/plain": [
              "(1.1876564904802305, 1.0006082627582455)"
            ]
          },
          "metadata": {},
          "execution_count": 58
        }
      ],
      "source": [
        "### Simple regret minimization: run number = 4\n",
        "\n",
        "approx_output_4 = np.append(np.min(-approx_4.GP.y[0:n_init]),-approx_4.GP.y[n_init:(n_init+iters)]) \n",
        "exact_output_4 = np.append(np.min(-exact_4.GP.y[0:n_init]),-exact_4.GP.y[n_init:(n_init+iters)]) \n",
        "\n",
        "regret_approx_4 = np.log(approx_output_4 - y_global_orig)\n",
        "regret_exact_4 = np.log(exact_output_4 - y_global_orig)\n",
        "\n",
        "simple_regret_approx_4 = min_max_array(regret_approx_4)\n",
        "simple_regret_exact_4 = min_max_array(regret_exact_4)\n",
        "\n",
        "min_simple_regret_approx_4 = min(simple_regret_approx_4)\n",
        "min_simple_regret_exact_4 = min(simple_regret_exact_4)\n",
        "\n",
        "min_simple_regret_approx_4, min_simple_regret_exact_4"
      ]
    },
    {
      "cell_type": "code",
      "execution_count": 59,
      "metadata": {
        "id": "NONPm8JIQxfn",
        "colab": {
          "base_uri": "https://localhost:8080/"
        },
        "outputId": "a0d80541-7e14-4a4b-82dd-3ccd685835a4"
      },
      "outputs": [
        {
          "output_type": "execute_result",
          "data": {
            "text/plain": [
              "(1.4161125594765023, 0.09523756057428613)"
            ]
          },
          "metadata": {},
          "execution_count": 59
        }
      ],
      "source": [
        "### Simple regret minimization: run number = 5\n",
        "\n",
        "approx_output_5 = np.append(np.min(-approx_5.GP.y[0:n_init]),-approx_5.GP.y[n_init:(n_init+iters)]) \n",
        "exact_output_5 = np.append(np.min(-exact_5.GP.y[0:n_init]),-exact_5.GP.y[n_init:(n_init+iters)]) \n",
        "\n",
        "regret_approx_5 = np.log(approx_output_5 - y_global_orig)\n",
        "regret_exact_5 = np.log(exact_output_5 - y_global_orig)\n",
        "\n",
        "simple_regret_approx_5 = min_max_array(regret_approx_5)\n",
        "simple_regret_exact_5 = min_max_array(regret_exact_5)\n",
        "\n",
        "min_simple_regret_approx_5 = min(simple_regret_approx_5)\n",
        "min_simple_regret_exact_5 = min(simple_regret_exact_5)\n",
        "\n",
        "min_simple_regret_approx_5, min_simple_regret_exact_5"
      ]
    },
    {
      "cell_type": "code",
      "execution_count": 60,
      "metadata": {
        "id": "CJv3lPuSQxfp",
        "colab": {
          "base_uri": "https://localhost:8080/"
        },
        "outputId": "83aea86b-f601-4250-d1f6-96a42c02e162"
      },
      "outputs": [
        {
          "output_type": "execute_result",
          "data": {
            "text/plain": [
              "(-0.05713092586261056, 0.11464469780052113)"
            ]
          },
          "metadata": {},
          "execution_count": 60
        }
      ],
      "source": [
        "### Simple regret minimization: run number = 6\n",
        "\n",
        "approx_output_6 = np.append(np.min(-approx_6.GP.y[0:n_init]),-approx_6.GP.y[n_init:(n_init+iters)]) \n",
        "exact_output_6 = np.append(np.min(-exact_6.GP.y[0:n_init]),-exact_6.GP.y[n_init:(n_init+iters)]) \n",
        "\n",
        "regret_approx_6 = np.log(approx_output_6 - y_global_orig)\n",
        "regret_exact_6 = np.log(exact_output_6 - y_global_orig)\n",
        "\n",
        "simple_regret_approx_6 = min_max_array(regret_approx_6)\n",
        "simple_regret_exact_6 = min_max_array(regret_exact_6)\n",
        "\n",
        "min_simple_regret_approx_6 = min(simple_regret_approx_6)\n",
        "min_simple_regret_exact_6 = min(simple_regret_exact_6)\n",
        "\n",
        "min_simple_regret_approx_6, min_simple_regret_exact_6"
      ]
    },
    {
      "cell_type": "code",
      "execution_count": 61,
      "metadata": {
        "id": "quR2ZyApQxfq",
        "colab": {
          "base_uri": "https://localhost:8080/"
        },
        "outputId": "c9431591-b23b-4547-f71b-da15845973d7"
      },
      "outputs": [
        {
          "output_type": "execute_result",
          "data": {
            "text/plain": [
              "(1.0186703013897929, 0.8987004989478755)"
            ]
          },
          "metadata": {},
          "execution_count": 61
        }
      ],
      "source": [
        "### Simple regret minimization: run number = 7\n",
        "\n",
        "approx_output_7 = np.append(np.min(-approx_7.GP.y[0:n_init]),-approx_7.GP.y[n_init:(n_init+iters)]) \n",
        "exact_output_7 = np.append(np.min(-exact_7.GP.y[0:n_init]),-exact_7.GP.y[n_init:(n_init+iters)]) \n",
        "\n",
        "regret_approx_7 = np.log(approx_output_7 - y_global_orig)\n",
        "regret_exact_7 = np.log(exact_output_7 - y_global_orig)\n",
        "\n",
        "simple_regret_approx_7 = min_max_array(regret_approx_7)\n",
        "simple_regret_exact_7 = min_max_array(regret_exact_7)\n",
        "\n",
        "min_simple_regret_approx_7 = min(simple_regret_approx_7)\n",
        "min_simple_regret_exact_7 = min(simple_regret_exact_7)\n",
        "\n",
        "min_simple_regret_approx_7, min_simple_regret_exact_7"
      ]
    },
    {
      "cell_type": "code",
      "execution_count": 62,
      "metadata": {
        "id": "99wY5nK6Qxfr",
        "colab": {
          "base_uri": "https://localhost:8080/"
        },
        "outputId": "077b2bc5-648b-4bf1-b071-1ee70788215c"
      },
      "outputs": [
        {
          "output_type": "execute_result",
          "data": {
            "text/plain": [
              "(0.14454014891637817, 1.4286155574809352)"
            ]
          },
          "metadata": {},
          "execution_count": 62
        }
      ],
      "source": [
        "### Simple regret minimization: run number = 8\n",
        "\n",
        "approx_output_8 = np.append(np.min(-approx_8.GP.y[0:n_init]),-approx_8.GP.y[n_init:(n_init+iters)]) \n",
        "exact_output_8 = np.append(np.min(-exact_8.GP.y[0:n_init]),-exact_8.GP.y[n_init:(n_init+iters)]) \n",
        "\n",
        "regret_approx_8 = np.log(approx_output_8 - y_global_orig)\n",
        "regret_exact_8 = np.log(exact_output_8 - y_global_orig)\n",
        "\n",
        "simple_regret_approx_8 = min_max_array(regret_approx_8)\n",
        "simple_regret_exact_8 = min_max_array(regret_exact_8)\n",
        "\n",
        "min_simple_regret_approx_8 = min(simple_regret_approx_8)\n",
        "min_simple_regret_exact_8 = min(simple_regret_exact_8)\n",
        "\n",
        "min_simple_regret_approx_8, min_simple_regret_exact_8"
      ]
    },
    {
      "cell_type": "code",
      "execution_count": 63,
      "metadata": {
        "id": "qt0P5t9qQxfs",
        "colab": {
          "base_uri": "https://localhost:8080/"
        },
        "outputId": "2de0c5f6-8319-4c99-fffe-9a45c9cdc692"
      },
      "outputs": [
        {
          "output_type": "execute_result",
          "data": {
            "text/plain": [
              "(1.0220035047309846, 0.872474198361377)"
            ]
          },
          "metadata": {},
          "execution_count": 63
        }
      ],
      "source": [
        "### Simple regret minimization: run number = 9\n",
        "\n",
        "approx_output_9 = np.append(np.min(-approx_9.GP.y[0:n_init]),-approx_9.GP.y[n_init:(n_init+iters)]) \n",
        "exact_output_9 = np.append(np.min(-exact_9.GP.y[0:n_init]),-exact_9.GP.y[n_init:(n_init+iters)]) \n",
        "\n",
        "regret_approx_9 = np.log(approx_output_9 - y_global_orig)\n",
        "regret_exact_9 = np.log(exact_output_9 - y_global_orig)\n",
        "\n",
        "simple_regret_approx_9 = min_max_array(regret_approx_9)\n",
        "simple_regret_exact_9 = min_max_array(regret_exact_9)\n",
        "\n",
        "min_simple_regret_approx_9 = min(simple_regret_approx_9)\n",
        "min_simple_regret_exact_9 = min(simple_regret_exact_9)\n",
        "\n",
        "min_simple_regret_approx_9, min_simple_regret_exact_9"
      ]
    },
    {
      "cell_type": "code",
      "execution_count": 64,
      "metadata": {
        "id": "vx8to9stQxft",
        "colab": {
          "base_uri": "https://localhost:8080/"
        },
        "outputId": "2876251e-5685-417c-a735-ec61a24b5071"
      },
      "outputs": [
        {
          "output_type": "execute_result",
          "data": {
            "text/plain": [
              "(0.9666042545266268, 1.134139639930358)"
            ]
          },
          "metadata": {},
          "execution_count": 64
        }
      ],
      "source": [
        "### Simple regret minimization: run number = 10\n",
        "\n",
        "approx_output_10 = np.append(np.min(-approx_10.GP.y[0:n_init]),-approx_10.GP.y[n_init:(n_init+iters)]) \n",
        "exact_output_10 = np.append(np.min(-exact_10.GP.y[0:n_init]),-exact_10.GP.y[n_init:(n_init+iters)]) \n",
        "\n",
        "regret_approx_10 = np.log(approx_output_10 - y_global_orig)\n",
        "regret_exact_10 = np.log(exact_output_10 - y_global_orig)\n",
        "\n",
        "simple_regret_approx_10 = min_max_array(regret_approx_10)\n",
        "simple_regret_exact_10 = min_max_array(regret_exact_10)\n",
        "\n",
        "min_simple_regret_approx_10 = min(simple_regret_approx_10)\n",
        "min_simple_regret_exact_10 = min(simple_regret_exact_10)\n",
        "\n",
        "min_simple_regret_approx_10, min_simple_regret_exact_10"
      ]
    },
    {
      "cell_type": "code",
      "execution_count": 65,
      "metadata": {
        "id": "d-FGzWyHQxfu",
        "colab": {
          "base_uri": "https://localhost:8080/"
        },
        "outputId": "4dd29618-24fe-4c7c-de5d-d0786511ba35"
      },
      "outputs": [
        {
          "output_type": "execute_result",
          "data": {
            "text/plain": [
              "(0.8522804095621861, 0.8220936970381707)"
            ]
          },
          "metadata": {},
          "execution_count": 65
        }
      ],
      "source": [
        "### Simple regret minimization: run number = 11\n",
        "\n",
        "approx_output_11 = np.append(np.min(-approx_11.GP.y[0:n_init]),-approx_11.GP.y[n_init:(n_init+iters)]) \n",
        "exact_output_11 = np.append(np.min(-exact_11.GP.y[0:n_init]),-exact_11.GP.y[n_init:(n_init+iters)]) \n",
        "\n",
        "regret_approx_11 = np.log(approx_output_11 - y_global_orig)\n",
        "regret_exact_11 = np.log(exact_output_11 - y_global_orig)\n",
        "\n",
        "simple_regret_approx_11 = min_max_array(regret_approx_11)\n",
        "simple_regret_exact_11 = min_max_array(regret_exact_11)\n",
        "\n",
        "min_simple_regret_approx_11 = min(simple_regret_approx_11)\n",
        "min_simple_regret_exact_11 = min(simple_regret_exact_11)\n",
        "\n",
        "min_simple_regret_approx_11, min_simple_regret_exact_11"
      ]
    },
    {
      "cell_type": "code",
      "execution_count": 66,
      "metadata": {
        "id": "SvtsssyjQxfv",
        "colab": {
          "base_uri": "https://localhost:8080/"
        },
        "outputId": "82cce9a8-5397-4cae-b67a-e2c709c69d4b"
      },
      "outputs": [
        {
          "output_type": "execute_result",
          "data": {
            "text/plain": [
              "(-0.05359222109358334, -0.05359222109358334)"
            ]
          },
          "metadata": {},
          "execution_count": 66
        }
      ],
      "source": [
        "### Simple regret minimization: run number = 12\n",
        "\n",
        "approx_output_12 = np.append(np.min(-approx_12.GP.y[0:n_init]),-approx_12.GP.y[n_init:(n_init+iters)]) \n",
        "exact_output_12 = np.append(np.min(-exact_12.GP.y[0:n_init]),-exact_12.GP.y[n_init:(n_init+iters)]) \n",
        "\n",
        "regret_approx_12 = np.log(approx_output_12 - y_global_orig)\n",
        "regret_exact_12 = np.log(exact_output_12 - y_global_orig)\n",
        "\n",
        "simple_regret_approx_12 = min_max_array(regret_approx_12)\n",
        "simple_regret_exact_12 = min_max_array(regret_exact_12)\n",
        "\n",
        "min_simple_regret_approx_12 = min(simple_regret_approx_12)\n",
        "min_simple_regret_exact_12 = min(simple_regret_exact_12)\n",
        "\n",
        "min_simple_regret_approx_12, min_simple_regret_exact_12"
      ]
    },
    {
      "cell_type": "code",
      "execution_count": 67,
      "metadata": {
        "id": "K6OiGcHkQxfw",
        "colab": {
          "base_uri": "https://localhost:8080/"
        },
        "outputId": "aba3701b-66c2-4c50-cebe-95d4e863435c"
      },
      "outputs": [
        {
          "output_type": "execute_result",
          "data": {
            "text/plain": [
              "(0.7819983671706293, 0.2525746330102763)"
            ]
          },
          "metadata": {},
          "execution_count": 67
        }
      ],
      "source": [
        "### Simple regret minimization: run number = 13\n",
        "\n",
        "approx_output_13 = np.append(np.min(-approx_13.GP.y[0:n_init]),-approx_13.GP.y[n_init:(n_init+iters)]) \n",
        "exact_output_13 = np.append(np.min(-exact_13.GP.y[0:n_init]),-exact_13.GP.y[n_init:(n_init+iters)]) \n",
        "\n",
        "regret_approx_13 = np.log(approx_output_13 - y_global_orig)\n",
        "regret_exact_13 = np.log(exact_output_13 - y_global_orig)\n",
        "\n",
        "simple_regret_approx_13 = min_max_array(regret_approx_13)\n",
        "simple_regret_exact_13 = min_max_array(regret_exact_13)\n",
        "\n",
        "min_simple_regret_approx_13 = min(simple_regret_approx_13)\n",
        "min_simple_regret_exact_13 = min(simple_regret_exact_13)\n",
        "\n",
        "min_simple_regret_approx_13, min_simple_regret_exact_13"
      ]
    },
    {
      "cell_type": "code",
      "execution_count": 68,
      "metadata": {
        "id": "ogML73shQxfx",
        "colab": {
          "base_uri": "https://localhost:8080/"
        },
        "outputId": "bd54141e-302c-4fdb-df7f-d5600b016ece"
      },
      "outputs": [
        {
          "output_type": "execute_result",
          "data": {
            "text/plain": [
              "(0.5949161906605641, 0.2479806226854799)"
            ]
          },
          "metadata": {},
          "execution_count": 68
        }
      ],
      "source": [
        "### Simple regret minimization: run number = 14\n",
        "\n",
        "approx_output_14 = np.append(np.min(-approx_14.GP.y[0:n_init]),-approx_14.GP.y[n_init:(n_init+iters)]) \n",
        "exact_output_14 = np.append(np.min(-exact_14.GP.y[0:n_init]),-exact_14.GP.y[n_init:(n_init+iters)]) \n",
        "\n",
        "regret_approx_14 = np.log(approx_output_14 - y_global_orig)\n",
        "regret_exact_14 = np.log(exact_output_14 - y_global_orig)\n",
        "\n",
        "simple_regret_approx_14 = min_max_array(regret_approx_14)\n",
        "simple_regret_exact_14 = min_max_array(regret_exact_14)\n",
        "\n",
        "min_simple_regret_approx_14 = min(simple_regret_approx_14)\n",
        "min_simple_regret_exact_14 = min(simple_regret_exact_14)\n",
        "\n",
        "min_simple_regret_approx_14, min_simple_regret_exact_14"
      ]
    },
    {
      "cell_type": "code",
      "execution_count": 69,
      "metadata": {
        "id": "9Eg7gFT9Qxfx",
        "colab": {
          "base_uri": "https://localhost:8080/"
        },
        "outputId": "4fcc9cd5-c275-4768-88ab-92091234952e"
      },
      "outputs": [
        {
          "output_type": "execute_result",
          "data": {
            "text/plain": [
              "(1.7781913461939873, 1.4078295910531775)"
            ]
          },
          "metadata": {},
          "execution_count": 69
        }
      ],
      "source": [
        "### Simple regret minimization: run number = 15\n",
        "\n",
        "approx_output_15 = np.append(np.min(-approx_15.GP.y[0:n_init]),-approx_15.GP.y[n_init:(n_init+iters)]) \n",
        "exact_output_15 = np.append(np.min(-exact_15.GP.y[0:n_init]),-exact_15.GP.y[n_init:(n_init+iters)]) \n",
        "\n",
        "regret_approx_15 = np.log(approx_output_15 - y_global_orig)\n",
        "regret_exact_15 = np.log(exact_output_15 - y_global_orig)\n",
        "\n",
        "simple_regret_approx_15 = min_max_array(regret_approx_15)\n",
        "simple_regret_exact_15 = min_max_array(regret_exact_15)\n",
        "\n",
        "min_simple_regret_approx_15 = min(simple_regret_approx_15)\n",
        "min_simple_regret_exact_15 = min(simple_regret_exact_15)\n",
        "\n",
        "min_simple_regret_approx_15, min_simple_regret_exact_15"
      ]
    },
    {
      "cell_type": "code",
      "execution_count": 70,
      "metadata": {
        "id": "lIAC1U7ZQxfy",
        "colab": {
          "base_uri": "https://localhost:8080/"
        },
        "outputId": "94a9edb1-1de5-4917-8253-9be978923a39"
      },
      "outputs": [
        {
          "output_type": "execute_result",
          "data": {
            "text/plain": [
              "(1.060899446931228, 1.1358281109947383)"
            ]
          },
          "metadata": {},
          "execution_count": 70
        }
      ],
      "source": [
        "### Simple regret minimization: run number = 16\n",
        "\n",
        "approx_output_16 = np.append(np.min(-approx_16.GP.y[0:n_init]),-approx_16.GP.y[n_init:(n_init+iters)]) \n",
        "exact_output_16 = np.append(np.min(-exact_16.GP.y[0:n_init]),-exact_16.GP.y[n_init:(n_init+iters)]) \n",
        "\n",
        "regret_approx_16 = np.log(approx_output_16 - y_global_orig)\n",
        "regret_exact_16 = np.log(exact_output_16 - y_global_orig)\n",
        "\n",
        "simple_regret_approx_16 = min_max_array(regret_approx_16)\n",
        "simple_regret_exact_16 = min_max_array(regret_exact_16)\n",
        "\n",
        "min_simple_regret_approx_16 = min(simple_regret_approx_16)\n",
        "min_simple_regret_exact_16 = min(simple_regret_exact_16)\n",
        "\n",
        "min_simple_regret_approx_16, min_simple_regret_exact_16"
      ]
    },
    {
      "cell_type": "code",
      "execution_count": 71,
      "metadata": {
        "id": "bGott36OQxfz",
        "colab": {
          "base_uri": "https://localhost:8080/"
        },
        "outputId": "11603334-c30d-4ab3-ea84-c35bfff98e97"
      },
      "outputs": [
        {
          "output_type": "execute_result",
          "data": {
            "text/plain": [
              "(1.0131389279401821, 0.7770443526740851)"
            ]
          },
          "metadata": {},
          "execution_count": 71
        }
      ],
      "source": [
        "### Simple regret minimization: run number = 17\n",
        "\n",
        "approx_output_17 = np.append(np.min(-approx_17.GP.y[0:n_init]),-approx_17.GP.y[n_init:(n_init+iters)]) \n",
        "exact_output_17 = np.append(np.min(-exact_17.GP.y[0:n_init]),-exact_17.GP.y[n_init:(n_init+iters)]) \n",
        "\n",
        "regret_approx_17 = np.log(approx_output_17 - y_global_orig)\n",
        "regret_exact_17 = np.log(exact_output_17 - y_global_orig)\n",
        "\n",
        "simple_regret_approx_17 = min_max_array(regret_approx_17)\n",
        "simple_regret_exact_17 = min_max_array(regret_exact_17)\n",
        "\n",
        "min_simple_regret_approx_17 = min(simple_regret_approx_17)\n",
        "min_simple_regret_exact_17 = min(simple_regret_exact_17)\n",
        "\n",
        "min_simple_regret_approx_17, min_simple_regret_exact_17"
      ]
    },
    {
      "cell_type": "code",
      "execution_count": 72,
      "metadata": {
        "id": "Cz9ZYMBMQxfz",
        "colab": {
          "base_uri": "https://localhost:8080/"
        },
        "outputId": "2d581d21-1d1c-4f6b-d722-06a97e1f70db"
      },
      "outputs": [
        {
          "output_type": "execute_result",
          "data": {
            "text/plain": [
              "(1.5686174032864801, 1.3399471357149502)"
            ]
          },
          "metadata": {},
          "execution_count": 72
        }
      ],
      "source": [
        "### Simple regret minimization: run number = 18\n",
        "\n",
        "approx_output_18 = np.append(np.min(-approx_18.GP.y[0:n_init]),-approx_18.GP.y[n_init:(n_init+iters)]) \n",
        "exact_output_18 = np.append(np.min(-exact_18.GP.y[0:n_init]),-exact_18.GP.y[n_init:(n_init+iters)]) \n",
        "\n",
        "regret_approx_18 = np.log(approx_output_18 - y_global_orig)\n",
        "regret_exact_18 = np.log(exact_output_18 - y_global_orig)\n",
        "\n",
        "simple_regret_approx_18 = min_max_array(regret_approx_18)\n",
        "simple_regret_exact_18 = min_max_array(regret_exact_18)\n",
        "\n",
        "min_simple_regret_approx_18 = min(simple_regret_approx_18)\n",
        "min_simple_regret_exact_18 = min(simple_regret_exact_18)\n",
        "\n",
        "min_simple_regret_approx_18, min_simple_regret_exact_18"
      ]
    },
    {
      "cell_type": "code",
      "execution_count": 73,
      "metadata": {
        "id": "OBfpWOHNQxf0",
        "colab": {
          "base_uri": "https://localhost:8080/"
        },
        "outputId": "a52aa018-7904-4b5c-8d49-ead8302c3b44"
      },
      "outputs": [
        {
          "output_type": "execute_result",
          "data": {
            "text/plain": [
              "(-0.07204154578237337, 0.1970022317043208)"
            ]
          },
          "metadata": {},
          "execution_count": 73
        }
      ],
      "source": [
        "### Simple regret minimization: run number = 19\n",
        "\n",
        "approx_output_19 = np.append(np.min(-approx_19.GP.y[0:n_init]),-approx_19.GP.y[n_init:(n_init+iters)]) \n",
        "exact_output_19 = np.append(np.min(-exact_19.GP.y[0:n_init]),-exact_19.GP.y[n_init:(n_init+iters)]) \n",
        "\n",
        "regret_approx_19 = np.log(approx_output_19 - y_global_orig)\n",
        "regret_exact_19 = np.log(exact_output_19 - y_global_orig)\n",
        "\n",
        "simple_regret_approx_19 = min_max_array(regret_approx_19)\n",
        "simple_regret_exact_19 = min_max_array(regret_exact_19)\n",
        "\n",
        "min_simple_regret_approx_19 = min(simple_regret_approx_19)\n",
        "min_simple_regret_exact_19 = min(simple_regret_exact_19)\n",
        "\n",
        "min_simple_regret_approx_19, min_simple_regret_exact_19"
      ]
    },
    {
      "cell_type": "code",
      "execution_count": 74,
      "metadata": {
        "id": "BE1AJ7NsQxf0",
        "colab": {
          "base_uri": "https://localhost:8080/"
        },
        "outputId": "92146b03-2d78-49c4-f00a-fbe42448d338"
      },
      "outputs": [
        {
          "output_type": "execute_result",
          "data": {
            "text/plain": [
              "(0.8515796135160966, 1.3648752827896438)"
            ]
          },
          "metadata": {},
          "execution_count": 74
        }
      ],
      "source": [
        "### Simple regret minimization: run number = 20\n",
        "\n",
        "approx_output_20 = np.append(np.min(-approx_20.GP.y[0:n_init]),-approx_20.GP.y[n_init:(n_init+iters)]) \n",
        "exact_output_20 = np.append(np.min(-exact_20.GP.y[0:n_init]),-exact_20.GP.y[n_init:(n_init+iters)]) \n",
        "\n",
        "regret_approx_20 = np.log(approx_output_20 - y_global_orig)\n",
        "regret_exact_20 = np.log(exact_output_20 - y_global_orig)\n",
        "\n",
        "simple_regret_approx_20 = min_max_array(regret_approx_20)\n",
        "simple_regret_exact_20 = min_max_array(regret_exact_20)\n",
        "\n",
        "min_simple_regret_approx_20 = min(simple_regret_approx_20)\n",
        "min_simple_regret_exact_20 = min(simple_regret_exact_20)\n",
        "\n",
        "min_simple_regret_approx_20, min_simple_regret_exact_20"
      ]
    },
    {
      "cell_type": "code",
      "execution_count": 75,
      "metadata": {
        "id": "bpX-bKAHQxf1"
      },
      "outputs": [],
      "source": [
        "# Iteration1 :\n",
        "\n",
        "slice1 = 0\n",
        "\n",
        "approx1 = [simple_regret_approx_1[slice1],\n",
        "       simple_regret_approx_2[slice1],\n",
        "       simple_regret_approx_3[slice1],\n",
        "       simple_regret_approx_4[slice1],\n",
        "       simple_regret_approx_5[slice1],\n",
        "       simple_regret_approx_6[slice1],\n",
        "       simple_regret_approx_7[slice1],\n",
        "       simple_regret_approx_8[slice1],\n",
        "       simple_regret_approx_9[slice1],\n",
        "       simple_regret_approx_10[slice1],\n",
        "       simple_regret_approx_11[slice1],\n",
        "       simple_regret_approx_12[slice1],\n",
        "       simple_regret_approx_13[slice1],\n",
        "       simple_regret_approx_14[slice1],\n",
        "       simple_regret_approx_15[slice1],\n",
        "       simple_regret_approx_16[slice1],\n",
        "       simple_regret_approx_17[slice1],\n",
        "       simple_regret_approx_18[slice1],\n",
        "       simple_regret_approx_19[slice1],\n",
        "       simple_regret_approx_20[slice1]]\n",
        "\n",
        "exact1 = [simple_regret_exact_1[slice1],\n",
        "       simple_regret_exact_2[slice1],\n",
        "       simple_regret_exact_3[slice1],\n",
        "       simple_regret_exact_4[slice1],\n",
        "       simple_regret_exact_5[slice1],\n",
        "       simple_regret_exact_6[slice1],\n",
        "       simple_regret_exact_7[slice1],\n",
        "       simple_regret_exact_8[slice1],\n",
        "       simple_regret_exact_9[slice1],\n",
        "       simple_regret_exact_10[slice1],\n",
        "       simple_regret_exact_11[slice1],\n",
        "       simple_regret_exact_12[slice1],\n",
        "       simple_regret_exact_13[slice1],\n",
        "       simple_regret_exact_14[slice1],\n",
        "       simple_regret_exact_15[slice1],\n",
        "       simple_regret_exact_16[slice1],\n",
        "       simple_regret_exact_17[slice1],\n",
        "       simple_regret_exact_18[slice1],\n",
        "       simple_regret_exact_19[slice1],\n",
        "       simple_regret_exact_20[slice1]]\n",
        "\n",
        "approx1_results = pd.DataFrame(approx1).sort_values(by=[0], ascending=False)\n",
        "exact1_results = pd.DataFrame(exact1).sort_values(by=[0], ascending=False)\n",
        "\n",
        "### Best simple regret minimization IQR - approx:\n",
        "lower_approx1 = np.asarray(approx1_results[4:5][0])[0]\n",
        "median_approx1 = np.asarray(approx1_results[9:10][0])[0]\n",
        "upper_approx1 = np.asarray(approx1_results[14:15][0])[0]\n",
        "\n",
        "lower_exact1 = np.asarray(exact1_results[4:5][0])[0]\n",
        "median_exact1 = np.asarray(exact1_results[9:10][0])[0]\n",
        "upper_exact1 = np.asarray(exact1_results[14:15][0])[0]"
      ]
    },
    {
      "cell_type": "code",
      "execution_count": 76,
      "metadata": {
        "id": "CgIkJA1xQxf2"
      },
      "outputs": [],
      "source": [
        "# Iteration11 :\n",
        "\n",
        "slice11 = 10\n",
        "\n",
        "approx11 = [simple_regret_approx_1[slice11],\n",
        "       simple_regret_approx_2[slice11],\n",
        "       simple_regret_approx_3[slice11],\n",
        "       simple_regret_approx_4[slice11],\n",
        "       simple_regret_approx_5[slice11],\n",
        "       simple_regret_approx_6[slice11],\n",
        "       simple_regret_approx_7[slice11],\n",
        "       simple_regret_approx_8[slice11],\n",
        "       simple_regret_approx_9[slice11],\n",
        "       simple_regret_approx_10[slice11],\n",
        "       simple_regret_approx_11[slice11],\n",
        "       simple_regret_approx_12[slice11],\n",
        "       simple_regret_approx_13[slice11],\n",
        "       simple_regret_approx_14[slice11],\n",
        "       simple_regret_approx_15[slice11],\n",
        "       simple_regret_approx_16[slice11],\n",
        "       simple_regret_approx_17[slice11],\n",
        "       simple_regret_approx_18[slice11],\n",
        "       simple_regret_approx_19[slice11],\n",
        "       simple_regret_approx_20[slice11]]\n",
        "\n",
        "exact11 = [simple_regret_exact_1[slice11],\n",
        "       simple_regret_exact_2[slice11],\n",
        "       simple_regret_exact_3[slice11],\n",
        "       simple_regret_exact_4[slice11],\n",
        "       simple_regret_exact_5[slice11],\n",
        "       simple_regret_exact_6[slice11],\n",
        "       simple_regret_exact_7[slice11],\n",
        "       simple_regret_exact_8[slice11],\n",
        "       simple_regret_exact_9[slice11],\n",
        "       simple_regret_exact_10[slice11],\n",
        "       simple_regret_exact_11[slice11],\n",
        "       simple_regret_exact_12[slice11],\n",
        "       simple_regret_exact_13[slice11],\n",
        "       simple_regret_exact_14[slice11],\n",
        "       simple_regret_exact_15[slice11],\n",
        "       simple_regret_exact_16[slice11],\n",
        "       simple_regret_exact_17[slice11],\n",
        "       simple_regret_exact_18[slice11],\n",
        "       simple_regret_exact_19[slice11],\n",
        "       simple_regret_exact_20[slice11]]\n",
        "\n",
        "approx11_results = pd.DataFrame(approx11).sort_values(by=[0], ascending=False)\n",
        "exact11_results = pd.DataFrame(exact11).sort_values(by=[0], ascending=False)\n",
        "\n",
        "### Best simple regret minimization IQR - approx:\n",
        "lower_approx11 = np.asarray(approx11_results[4:5][0])[0]\n",
        "median_approx11 = np.asarray(approx11_results[9:10][0])[0]\n",
        "upper_approx11 = np.asarray(approx11_results[14:15][0])[0]\n",
        "\n",
        "lower_exact11 = np.asarray(exact11_results[4:5][0])[0]\n",
        "median_exact11 = np.asarray(exact11_results[9:10][0])[0]\n",
        "upper_exact11 = np.asarray(exact11_results[14:15][0])[0]"
      ]
    },
    {
      "cell_type": "code",
      "execution_count": 77,
      "metadata": {
        "id": "MFePDfGuQxf2"
      },
      "outputs": [],
      "source": [
        "# Iteration21 :\n",
        "\n",
        "slice21 = 20\n",
        "\n",
        "approx21 = [simple_regret_approx_1[slice21],\n",
        "       simple_regret_approx_2[slice21],\n",
        "       simple_regret_approx_3[slice21],\n",
        "       simple_regret_approx_4[slice21],\n",
        "       simple_regret_approx_5[slice21],\n",
        "       simple_regret_approx_6[slice21],\n",
        "       simple_regret_approx_7[slice21],\n",
        "       simple_regret_approx_8[slice21],\n",
        "       simple_regret_approx_9[slice21],\n",
        "       simple_regret_approx_10[slice21],\n",
        "       simple_regret_approx_11[slice21],\n",
        "       simple_regret_approx_12[slice21],\n",
        "       simple_regret_approx_13[slice21],\n",
        "       simple_regret_approx_14[slice21],\n",
        "       simple_regret_approx_15[slice21],\n",
        "       simple_regret_approx_16[slice21],\n",
        "       simple_regret_approx_17[slice21],\n",
        "       simple_regret_approx_18[slice21],\n",
        "       simple_regret_approx_19[slice21],\n",
        "       simple_regret_approx_20[slice21]]\n",
        "\n",
        "exact21 = [simple_regret_exact_1[slice21],\n",
        "       simple_regret_exact_2[slice21],\n",
        "       simple_regret_exact_3[slice21],\n",
        "       simple_regret_exact_4[slice21],\n",
        "       simple_regret_exact_5[slice21],\n",
        "       simple_regret_exact_6[slice21],\n",
        "       simple_regret_exact_7[slice21],\n",
        "       simple_regret_exact_8[slice21],\n",
        "       simple_regret_exact_9[slice21],\n",
        "       simple_regret_exact_10[slice21],\n",
        "       simple_regret_exact_11[slice21],\n",
        "       simple_regret_exact_12[slice21],\n",
        "       simple_regret_exact_13[slice21],\n",
        "       simple_regret_exact_14[slice21],\n",
        "       simple_regret_exact_15[slice21],\n",
        "       simple_regret_exact_16[slice21],\n",
        "       simple_regret_exact_17[slice21],\n",
        "       simple_regret_exact_18[slice21],\n",
        "       simple_regret_exact_19[slice21],\n",
        "       simple_regret_exact_20[slice21]]\n",
        "\n",
        "approx21_results = pd.DataFrame(approx21).sort_values(by=[0], ascending=False)\n",
        "exact21_results = pd.DataFrame(exact21).sort_values(by=[0], ascending=False)\n",
        "\n",
        "### Best simple regret minimization IQR - approx:\n",
        "lower_approx21 = np.asarray(approx21_results[4:5][0])[0]\n",
        "median_approx21 = np.asarray(approx21_results[9:10][0])[0]\n",
        "upper_approx21 = np.asarray(approx21_results[14:15][0])[0]\n",
        "\n",
        "lower_exact21 = np.asarray(exact21_results[4:5][0])[0]\n",
        "median_exact21 = np.asarray(exact21_results[9:10][0])[0]\n",
        "upper_exact21 = np.asarray(exact21_results[14:15][0])[0]"
      ]
    },
    {
      "cell_type": "code",
      "execution_count": 78,
      "metadata": {
        "id": "PrRDB1kfQxf3"
      },
      "outputs": [],
      "source": [
        "# Iteration2 :\n",
        "\n",
        "slice2 = 1\n",
        "\n",
        "approx2 = [simple_regret_approx_1[slice2],\n",
        "       simple_regret_approx_2[slice2],\n",
        "       simple_regret_approx_3[slice2],\n",
        "       simple_regret_approx_4[slice2],\n",
        "       simple_regret_approx_5[slice2],\n",
        "       simple_regret_approx_6[slice2],\n",
        "       simple_regret_approx_7[slice2],\n",
        "       simple_regret_approx_8[slice2],\n",
        "       simple_regret_approx_9[slice2],\n",
        "       simple_regret_approx_10[slice2],\n",
        "       simple_regret_approx_11[slice2],\n",
        "       simple_regret_approx_12[slice2],\n",
        "       simple_regret_approx_13[slice2],\n",
        "       simple_regret_approx_14[slice2],\n",
        "       simple_regret_approx_15[slice2],\n",
        "       simple_regret_approx_16[slice2],\n",
        "       simple_regret_approx_17[slice2],\n",
        "       simple_regret_approx_18[slice2],\n",
        "       simple_regret_approx_19[slice2],\n",
        "       simple_regret_approx_20[slice2]]\n",
        "\n",
        "exact2 = [simple_regret_exact_1[slice2],\n",
        "       simple_regret_exact_2[slice2],\n",
        "       simple_regret_exact_3[slice2],\n",
        "       simple_regret_exact_4[slice2],\n",
        "       simple_regret_exact_5[slice2],\n",
        "       simple_regret_exact_6[slice2],\n",
        "       simple_regret_exact_7[slice2],\n",
        "       simple_regret_exact_8[slice2],\n",
        "       simple_regret_exact_9[slice2],\n",
        "       simple_regret_exact_10[slice2],\n",
        "       simple_regret_exact_11[slice2],\n",
        "       simple_regret_exact_12[slice2],\n",
        "       simple_regret_exact_13[slice2],\n",
        "       simple_regret_exact_14[slice2],\n",
        "       simple_regret_exact_15[slice2],\n",
        "       simple_regret_exact_16[slice2],\n",
        "       simple_regret_exact_17[slice2],\n",
        "       simple_regret_exact_18[slice2],\n",
        "       simple_regret_exact_19[slice2],\n",
        "       simple_regret_exact_20[slice2]]\n",
        "\n",
        "approx2_results = pd.DataFrame(approx2).sort_values(by=[0], ascending=False)\n",
        "exact2_results = pd.DataFrame(exact2).sort_values(by=[0], ascending=False)\n",
        "\n",
        "### Best simple regret minimization IQR - approx:\n",
        "lower_approx2 = np.asarray(approx2_results[4:5][0])[0]\n",
        "median_approx2 = np.asarray(approx2_results[9:10][0])[0]\n",
        "upper_approx2 = np.asarray(approx2_results[14:15][0])[0]\n",
        "\n",
        "lower_exact2 = np.asarray(exact2_results[4:5][0])[0]\n",
        "median_exact2 = np.asarray(exact2_results[9:10][0])[0]\n",
        "upper_exact2 = np.asarray(exact2_results[14:15][0])[0]"
      ]
    },
    {
      "cell_type": "code",
      "execution_count": 79,
      "metadata": {
        "id": "B8ncJDYeQxf3"
      },
      "outputs": [],
      "source": [
        "# Iteration12 :\n",
        "\n",
        "slice12 = 11\n",
        "\n",
        "approx12 = [simple_regret_approx_1[slice12],\n",
        "       simple_regret_approx_2[slice12],\n",
        "       simple_regret_approx_3[slice12],\n",
        "       simple_regret_approx_4[slice12],\n",
        "       simple_regret_approx_5[slice12],\n",
        "       simple_regret_approx_6[slice12],\n",
        "       simple_regret_approx_7[slice12],\n",
        "       simple_regret_approx_8[slice12],\n",
        "       simple_regret_approx_9[slice12],\n",
        "       simple_regret_approx_10[slice12],\n",
        "       simple_regret_approx_11[slice12],\n",
        "       simple_regret_approx_12[slice12],\n",
        "       simple_regret_approx_13[slice12],\n",
        "       simple_regret_approx_14[slice12],\n",
        "       simple_regret_approx_15[slice12],\n",
        "       simple_regret_approx_16[slice12],\n",
        "       simple_regret_approx_17[slice12],\n",
        "       simple_regret_approx_18[slice12],\n",
        "       simple_regret_approx_19[slice12],\n",
        "       simple_regret_approx_20[slice12]]\n",
        "\n",
        "exact12 = [simple_regret_exact_1[slice12],\n",
        "       simple_regret_exact_2[slice12],\n",
        "       simple_regret_exact_3[slice12],\n",
        "       simple_regret_exact_4[slice12],\n",
        "       simple_regret_exact_5[slice12],\n",
        "       simple_regret_exact_6[slice12],\n",
        "       simple_regret_exact_7[slice12],\n",
        "       simple_regret_exact_8[slice12],\n",
        "       simple_regret_exact_9[slice12],\n",
        "       simple_regret_exact_10[slice12],\n",
        "       simple_regret_exact_11[slice12],\n",
        "       simple_regret_exact_12[slice12],\n",
        "       simple_regret_exact_13[slice12],\n",
        "       simple_regret_exact_14[slice12],\n",
        "       simple_regret_exact_15[slice12],\n",
        "       simple_regret_exact_16[slice12],\n",
        "       simple_regret_exact_17[slice12],\n",
        "       simple_regret_exact_18[slice12],\n",
        "       simple_regret_exact_19[slice12],\n",
        "       simple_regret_exact_20[slice12]]\n",
        "\n",
        "approx12_results = pd.DataFrame(approx12).sort_values(by=[0], ascending=False)\n",
        "exact12_results = pd.DataFrame(exact12).sort_values(by=[0], ascending=False)\n",
        "\n",
        "### Best simple regret minimization IQR - approx:\n",
        "lower_approx12 = np.asarray(approx12_results[4:5][0])[0]\n",
        "median_approx12 = np.asarray(approx12_results[9:10][0])[0]\n",
        "upper_approx12 = np.asarray(approx12_results[14:15][0])[0]\n",
        "\n",
        "lower_exact12 = np.asarray(exact12_results[4:5][0])[0]\n",
        "median_exact12 = np.asarray(exact12_results[9:10][0])[0]\n",
        "upper_exact12 = np.asarray(exact12_results[14:15][0])[0]"
      ]
    },
    {
      "cell_type": "code",
      "execution_count": 80,
      "metadata": {
        "id": "Jn4KpGvcQxf4"
      },
      "outputs": [],
      "source": [
        "# Iteration3 :\n",
        "\n",
        "slice3 = 2\n",
        "\n",
        "approx3 = [simple_regret_approx_1[slice3],\n",
        "       simple_regret_approx_2[slice3],\n",
        "       simple_regret_approx_3[slice3],\n",
        "       simple_regret_approx_4[slice3],\n",
        "       simple_regret_approx_5[slice3],\n",
        "       simple_regret_approx_6[slice3],\n",
        "       simple_regret_approx_7[slice3],\n",
        "       simple_regret_approx_8[slice3],\n",
        "       simple_regret_approx_9[slice3],\n",
        "       simple_regret_approx_10[slice3],\n",
        "       simple_regret_approx_11[slice3],\n",
        "       simple_regret_approx_12[slice3],\n",
        "       simple_regret_approx_13[slice3],\n",
        "       simple_regret_approx_14[slice3],\n",
        "       simple_regret_approx_15[slice3],\n",
        "       simple_regret_approx_16[slice3],\n",
        "       simple_regret_approx_17[slice3],\n",
        "       simple_regret_approx_18[slice3],\n",
        "       simple_regret_approx_19[slice3],\n",
        "       simple_regret_approx_20[slice3]]\n",
        "\n",
        "exact3 = [simple_regret_exact_1[slice3],\n",
        "       simple_regret_exact_2[slice3],\n",
        "       simple_regret_exact_3[slice3],\n",
        "       simple_regret_exact_4[slice3],\n",
        "       simple_regret_exact_5[slice3],\n",
        "       simple_regret_exact_6[slice3],\n",
        "       simple_regret_exact_7[slice3],\n",
        "       simple_regret_exact_8[slice3],\n",
        "       simple_regret_exact_9[slice3],\n",
        "       simple_regret_exact_10[slice3],\n",
        "       simple_regret_exact_11[slice3],\n",
        "       simple_regret_exact_12[slice3],\n",
        "       simple_regret_exact_13[slice3],\n",
        "       simple_regret_exact_14[slice3],\n",
        "       simple_regret_exact_15[slice3],\n",
        "       simple_regret_exact_16[slice3],\n",
        "       simple_regret_exact_17[slice3],\n",
        "       simple_regret_exact_18[slice3],\n",
        "       simple_regret_exact_19[slice3],\n",
        "       simple_regret_exact_20[slice3]]\n",
        "\n",
        "approx3_results = pd.DataFrame(approx3).sort_values(by=[0], ascending=False)\n",
        "exact3_results = pd.DataFrame(exact3).sort_values(by=[0], ascending=False)\n",
        "\n",
        "### Best simple regret minimization IQR - approx:\n",
        "lower_approx3 = np.asarray(approx3_results[4:5][0])[0]\n",
        "median_approx3 = np.asarray(approx3_results[9:10][0])[0]\n",
        "upper_approx3 = np.asarray(approx3_results[14:15][0])[0]\n",
        "\n",
        "lower_exact3 = np.asarray(exact3_results[4:5][0])[0]\n",
        "median_exact3 = np.asarray(exact3_results[9:10][0])[0]\n",
        "upper_exact3 = np.asarray(exact3_results[14:15][0])[0]"
      ]
    },
    {
      "cell_type": "code",
      "execution_count": 81,
      "metadata": {
        "id": "plf83wxrQxf4"
      },
      "outputs": [],
      "source": [
        "# Iteration13 :\n",
        "\n",
        "slice13 = 12\n",
        "\n",
        "approx13 = [simple_regret_approx_1[slice13],\n",
        "       simple_regret_approx_2[slice13],\n",
        "       simple_regret_approx_3[slice13],\n",
        "       simple_regret_approx_4[slice13],\n",
        "       simple_regret_approx_5[slice13],\n",
        "       simple_regret_approx_6[slice13],\n",
        "       simple_regret_approx_7[slice13],\n",
        "       simple_regret_approx_8[slice13],\n",
        "       simple_regret_approx_9[slice13],\n",
        "       simple_regret_approx_10[slice13],\n",
        "       simple_regret_approx_11[slice13],\n",
        "       simple_regret_approx_12[slice13],\n",
        "       simple_regret_approx_13[slice13],\n",
        "       simple_regret_approx_14[slice13],\n",
        "       simple_regret_approx_15[slice13],\n",
        "       simple_regret_approx_16[slice13],\n",
        "       simple_regret_approx_17[slice13],\n",
        "       simple_regret_approx_18[slice13],\n",
        "       simple_regret_approx_19[slice13],\n",
        "       simple_regret_approx_20[slice13]]\n",
        "\n",
        "exact13 = [simple_regret_exact_1[slice13],\n",
        "       simple_regret_exact_2[slice13],\n",
        "       simple_regret_exact_3[slice13],\n",
        "       simple_regret_exact_4[slice13],\n",
        "       simple_regret_exact_5[slice13],\n",
        "       simple_regret_exact_6[slice13],\n",
        "       simple_regret_exact_7[slice13],\n",
        "       simple_regret_exact_8[slice13],\n",
        "       simple_regret_exact_9[slice13],\n",
        "       simple_regret_exact_10[slice13],\n",
        "       simple_regret_exact_11[slice13],\n",
        "       simple_regret_exact_12[slice13],\n",
        "       simple_regret_exact_13[slice13],\n",
        "       simple_regret_exact_14[slice13],\n",
        "       simple_regret_exact_15[slice13],\n",
        "       simple_regret_exact_16[slice13],\n",
        "       simple_regret_exact_17[slice13],\n",
        "       simple_regret_exact_18[slice13],\n",
        "       simple_regret_exact_19[slice13],\n",
        "       simple_regret_exact_20[slice13]]\n",
        "\n",
        "approx13_results = pd.DataFrame(approx13).sort_values(by=[0], ascending=False)\n",
        "exact13_results = pd.DataFrame(exact13).sort_values(by=[0], ascending=False)\n",
        "\n",
        "### Best simple regret minimization IQR - approx:\n",
        "lower_approx13 = np.asarray(approx13_results[4:5][0])[0]\n",
        "median_approx13 = np.asarray(approx13_results[9:10][0])[0]\n",
        "upper_approx13 = np.asarray(approx13_results[14:15][0])[0]\n",
        "\n",
        "lower_exact13 = np.asarray(exact13_results[4:5][0])[0]\n",
        "median_exact13 = np.asarray(exact13_results[9:10][0])[0]\n",
        "upper_exact13 = np.asarray(exact13_results[14:15][0])[0]"
      ]
    },
    {
      "cell_type": "code",
      "execution_count": 82,
      "metadata": {
        "id": "9A7mlVvJQxf5"
      },
      "outputs": [],
      "source": [
        "# Iteration4 :\n",
        "\n",
        "slice4 = 3\n",
        "\n",
        "approx4 = [simple_regret_approx_1[slice4],\n",
        "       simple_regret_approx_2[slice4],\n",
        "       simple_regret_approx_3[slice4],\n",
        "       simple_regret_approx_4[slice4],\n",
        "       simple_regret_approx_5[slice4],\n",
        "       simple_regret_approx_6[slice4],\n",
        "       simple_regret_approx_7[slice4],\n",
        "       simple_regret_approx_8[slice4],\n",
        "       simple_regret_approx_9[slice4],\n",
        "       simple_regret_approx_10[slice4],\n",
        "       simple_regret_approx_11[slice4],\n",
        "       simple_regret_approx_12[slice4],\n",
        "       simple_regret_approx_13[slice4],\n",
        "       simple_regret_approx_14[slice4],\n",
        "       simple_regret_approx_15[slice4],\n",
        "       simple_regret_approx_16[slice4],\n",
        "       simple_regret_approx_17[slice4],\n",
        "       simple_regret_approx_18[slice4],\n",
        "       simple_regret_approx_19[slice4],\n",
        "       simple_regret_approx_20[slice4]]\n",
        "\n",
        "exact4 = [simple_regret_exact_1[slice4],\n",
        "       simple_regret_exact_2[slice4],\n",
        "       simple_regret_exact_3[slice4],\n",
        "       simple_regret_exact_4[slice4],\n",
        "       simple_regret_exact_5[slice4],\n",
        "       simple_regret_exact_6[slice4],\n",
        "       simple_regret_exact_7[slice4],\n",
        "       simple_regret_exact_8[slice4],\n",
        "       simple_regret_exact_9[slice4],\n",
        "       simple_regret_exact_10[slice4],\n",
        "       simple_regret_exact_11[slice4],\n",
        "       simple_regret_exact_12[slice4],\n",
        "       simple_regret_exact_13[slice4],\n",
        "       simple_regret_exact_14[slice4],\n",
        "       simple_regret_exact_15[slice4],\n",
        "       simple_regret_exact_16[slice4],\n",
        "       simple_regret_exact_17[slice4],\n",
        "       simple_regret_exact_18[slice4],\n",
        "       simple_regret_exact_19[slice4],\n",
        "       simple_regret_exact_20[slice4]]\n",
        "\n",
        "approx4_results = pd.DataFrame(approx4).sort_values(by=[0], ascending=False)\n",
        "exact4_results = pd.DataFrame(exact4).sort_values(by=[0], ascending=False)\n",
        "\n",
        "### Best simple regret minimization IQR - approx:\n",
        "lower_approx4 = np.asarray(approx4_results[4:5][0])[0]\n",
        "median_approx4 = np.asarray(approx4_results[9:10][0])[0]\n",
        "upper_approx4 = np.asarray(approx4_results[14:15][0])[0]\n",
        "\n",
        "lower_exact4 = np.asarray(exact4_results[4:5][0])[0]\n",
        "median_exact4 = np.asarray(exact4_results[9:10][0])[0]\n",
        "upper_exact4 = np.asarray(exact4_results[14:15][0])[0]"
      ]
    },
    {
      "cell_type": "code",
      "execution_count": 83,
      "metadata": {
        "id": "ijq-rioYQxf5"
      },
      "outputs": [],
      "source": [
        "# Iteration14 :\n",
        "\n",
        "slice14 = 13\n",
        "\n",
        "approx14 = [simple_regret_approx_1[slice14],\n",
        "       simple_regret_approx_2[slice14],\n",
        "       simple_regret_approx_3[slice14],\n",
        "       simple_regret_approx_4[slice14],\n",
        "       simple_regret_approx_5[slice14],\n",
        "       simple_regret_approx_6[slice14],\n",
        "       simple_regret_approx_7[slice14],\n",
        "       simple_regret_approx_8[slice14],\n",
        "       simple_regret_approx_9[slice14],\n",
        "       simple_regret_approx_10[slice14],\n",
        "       simple_regret_approx_11[slice14],\n",
        "       simple_regret_approx_12[slice14],\n",
        "       simple_regret_approx_13[slice14],\n",
        "       simple_regret_approx_14[slice14],\n",
        "       simple_regret_approx_15[slice14],\n",
        "       simple_regret_approx_16[slice14],\n",
        "       simple_regret_approx_17[slice14],\n",
        "       simple_regret_approx_18[slice14],\n",
        "       simple_regret_approx_19[slice14],\n",
        "       simple_regret_approx_20[slice14]]\n",
        "\n",
        "exact14 = [simple_regret_exact_1[slice14],\n",
        "       simple_regret_exact_2[slice14],\n",
        "       simple_regret_exact_3[slice14],\n",
        "       simple_regret_exact_4[slice14],\n",
        "       simple_regret_exact_5[slice14],\n",
        "       simple_regret_exact_6[slice14],\n",
        "       simple_regret_exact_7[slice14],\n",
        "       simple_regret_exact_8[slice14],\n",
        "       simple_regret_exact_9[slice14],\n",
        "       simple_regret_exact_10[slice14],\n",
        "       simple_regret_exact_11[slice14],\n",
        "       simple_regret_exact_12[slice14],\n",
        "       simple_regret_exact_13[slice14],\n",
        "       simple_regret_exact_14[slice14],\n",
        "       simple_regret_exact_15[slice14],\n",
        "       simple_regret_exact_16[slice14],\n",
        "       simple_regret_exact_17[slice14],\n",
        "       simple_regret_exact_18[slice14],\n",
        "       simple_regret_exact_19[slice14],\n",
        "       simple_regret_exact_20[slice14]]\n",
        "\n",
        "approx14_results = pd.DataFrame(approx14).sort_values(by=[0], ascending=False)\n",
        "exact14_results = pd.DataFrame(exact14).sort_values(by=[0], ascending=False)\n",
        "\n",
        "### Best simple regret minimization IQR - approx:\n",
        "lower_approx14 = np.asarray(approx14_results[4:5][0])[0]\n",
        "median_approx14 = np.asarray(approx14_results[9:10][0])[0]\n",
        "upper_approx14 = np.asarray(approx14_results[14:15][0])[0]\n",
        "\n",
        "lower_exact14 = np.asarray(exact14_results[4:5][0])[0]\n",
        "median_exact14 = np.asarray(exact14_results[9:10][0])[0]\n",
        "upper_exact14 = np.asarray(exact14_results[14:15][0])[0]"
      ]
    },
    {
      "cell_type": "code",
      "execution_count": 84,
      "metadata": {
        "id": "XINlZjoTd-ZK"
      },
      "outputs": [],
      "source": [
        "# Iteration5 :\n",
        "\n",
        "slice5 = 4\n",
        "\n",
        "approx5 = [simple_regret_approx_1[slice5],\n",
        "       simple_regret_approx_2[slice5],\n",
        "       simple_regret_approx_3[slice5],\n",
        "       simple_regret_approx_4[slice5],\n",
        "       simple_regret_approx_5[slice5],\n",
        "       simple_regret_approx_6[slice5],\n",
        "       simple_regret_approx_7[slice5],\n",
        "       simple_regret_approx_8[slice5],\n",
        "       simple_regret_approx_9[slice5],\n",
        "       simple_regret_approx_10[slice5],\n",
        "       simple_regret_approx_11[slice5],\n",
        "       simple_regret_approx_12[slice5],\n",
        "       simple_regret_approx_13[slice5],\n",
        "       simple_regret_approx_14[slice5],\n",
        "       simple_regret_approx_15[slice5],\n",
        "       simple_regret_approx_16[slice5],\n",
        "       simple_regret_approx_17[slice5],\n",
        "       simple_regret_approx_18[slice5],\n",
        "       simple_regret_approx_19[slice5],\n",
        "       simple_regret_approx_20[slice5]]\n",
        "\n",
        "exact5 = [simple_regret_exact_1[slice5],\n",
        "       simple_regret_exact_2[slice5],\n",
        "       simple_regret_exact_3[slice5],\n",
        "       simple_regret_exact_4[slice5],\n",
        "       simple_regret_exact_5[slice5],\n",
        "       simple_regret_exact_6[slice5],\n",
        "       simple_regret_exact_7[slice5],\n",
        "       simple_regret_exact_8[slice5],\n",
        "       simple_regret_exact_9[slice5],\n",
        "       simple_regret_exact_10[slice5],\n",
        "       simple_regret_exact_11[slice5],\n",
        "       simple_regret_exact_12[slice5],\n",
        "       simple_regret_exact_13[slice5],\n",
        "       simple_regret_exact_14[slice5],\n",
        "       simple_regret_exact_15[slice5],\n",
        "       simple_regret_exact_16[slice5],\n",
        "       simple_regret_exact_17[slice5],\n",
        "       simple_regret_exact_18[slice5],\n",
        "       simple_regret_exact_19[slice5],\n",
        "       simple_regret_exact_20[slice5]]\n",
        "\n",
        "approx5_results = pd.DataFrame(approx5).sort_values(by=[0], ascending=False)\n",
        "exact5_results = pd.DataFrame(exact5).sort_values(by=[0], ascending=False)\n",
        "\n",
        "### Best simple regret minimization IQR - approx:\n",
        "lower_approx5 = np.asarray(approx5_results[4:5][0])[0]\n",
        "median_approx5 = np.asarray(approx5_results[9:10][0])[0]\n",
        "upper_approx5 = np.asarray(approx5_results[14:15][0])[0]\n",
        "\n",
        "lower_exact5 = np.asarray(exact5_results[4:5][0])[0]\n",
        "median_exact5 = np.asarray(exact5_results[9:10][0])[0]\n",
        "upper_exact5 = np.asarray(exact5_results[14:15][0])[0]"
      ]
    },
    {
      "cell_type": "code",
      "execution_count": 85,
      "metadata": {
        "id": "4aZ7C8sOQxf6"
      },
      "outputs": [],
      "source": [
        "# Iteration15 :\n",
        "\n",
        "slice15 = 14\n",
        "\n",
        "approx15 = [simple_regret_approx_1[slice15],\n",
        "       simple_regret_approx_2[slice15],\n",
        "       simple_regret_approx_3[slice15],\n",
        "       simple_regret_approx_4[slice15],\n",
        "       simple_regret_approx_5[slice15],\n",
        "       simple_regret_approx_6[slice15],\n",
        "       simple_regret_approx_7[slice15],\n",
        "       simple_regret_approx_8[slice15],\n",
        "       simple_regret_approx_9[slice15],\n",
        "       simple_regret_approx_10[slice15],\n",
        "       simple_regret_approx_11[slice15],\n",
        "       simple_regret_approx_12[slice15],\n",
        "       simple_regret_approx_13[slice15],\n",
        "       simple_regret_approx_14[slice15],\n",
        "       simple_regret_approx_15[slice15],\n",
        "       simple_regret_approx_16[slice15],\n",
        "       simple_regret_approx_17[slice15],\n",
        "       simple_regret_approx_18[slice15],\n",
        "       simple_regret_approx_19[slice15],\n",
        "       simple_regret_approx_20[slice15]]\n",
        "\n",
        "exact15 = [simple_regret_exact_1[slice15],\n",
        "       simple_regret_exact_2[slice15],\n",
        "       simple_regret_exact_3[slice15],\n",
        "       simple_regret_exact_4[slice15],\n",
        "       simple_regret_exact_5[slice15],\n",
        "       simple_regret_exact_6[slice15],\n",
        "       simple_regret_exact_7[slice15],\n",
        "       simple_regret_exact_8[slice15],\n",
        "       simple_regret_exact_9[slice15],\n",
        "       simple_regret_exact_10[slice15],\n",
        "       simple_regret_exact_11[slice15],\n",
        "       simple_regret_exact_12[slice15],\n",
        "       simple_regret_exact_13[slice15],\n",
        "       simple_regret_exact_14[slice15],\n",
        "       simple_regret_exact_15[slice15],\n",
        "       simple_regret_exact_16[slice15],\n",
        "       simple_regret_exact_17[slice15],\n",
        "       simple_regret_exact_18[slice15],\n",
        "       simple_regret_exact_19[slice15],\n",
        "       simple_regret_exact_20[slice15]]\n",
        "\n",
        "approx15_results = pd.DataFrame(approx15).sort_values(by=[0], ascending=False)\n",
        "exact15_results = pd.DataFrame(exact15).sort_values(by=[0], ascending=False)\n",
        "\n",
        "### Best simple regret minimization IQR - approx:\n",
        "lower_approx15 = np.asarray(approx15_results[4:5][0])[0]\n",
        "median_approx15 = np.asarray(approx15_results[9:10][0])[0]\n",
        "upper_approx15 = np.asarray(approx15_results[14:15][0])[0]\n",
        "\n",
        "lower_exact15 = np.asarray(exact15_results[4:5][0])[0]\n",
        "median_exact15 = np.asarray(exact15_results[9:10][0])[0]\n",
        "upper_exact15 = np.asarray(exact15_results[14:15][0])[0]"
      ]
    },
    {
      "cell_type": "code",
      "execution_count": 86,
      "metadata": {
        "id": "KJINKhv1Qxf6"
      },
      "outputs": [],
      "source": [
        "# Iteration6 :\n",
        "\n",
        "slice6 = 5\n",
        "\n",
        "approx6 = [simple_regret_approx_1[slice6],\n",
        "       simple_regret_approx_2[slice6],\n",
        "       simple_regret_approx_3[slice6],\n",
        "       simple_regret_approx_4[slice6],\n",
        "       simple_regret_approx_5[slice6],\n",
        "       simple_regret_approx_6[slice6],\n",
        "       simple_regret_approx_7[slice6],\n",
        "       simple_regret_approx_8[slice6],\n",
        "       simple_regret_approx_9[slice6],\n",
        "       simple_regret_approx_10[slice6],\n",
        "       simple_regret_approx_11[slice6],\n",
        "       simple_regret_approx_12[slice6],\n",
        "       simple_regret_approx_13[slice6],\n",
        "       simple_regret_approx_14[slice6],\n",
        "       simple_regret_approx_15[slice6],\n",
        "       simple_regret_approx_16[slice6],\n",
        "       simple_regret_approx_17[slice6],\n",
        "       simple_regret_approx_18[slice6],\n",
        "       simple_regret_approx_19[slice6],\n",
        "       simple_regret_approx_20[slice6]]\n",
        "\n",
        "exact6 = [simple_regret_exact_1[slice6],\n",
        "       simple_regret_exact_2[slice6],\n",
        "       simple_regret_exact_3[slice6],\n",
        "       simple_regret_exact_4[slice6],\n",
        "       simple_regret_exact_5[slice6],\n",
        "       simple_regret_exact_6[slice6],\n",
        "       simple_regret_exact_7[slice6],\n",
        "       simple_regret_exact_8[slice6],\n",
        "       simple_regret_exact_9[slice6],\n",
        "       simple_regret_exact_10[slice6],\n",
        "       simple_regret_exact_11[slice6],\n",
        "       simple_regret_exact_12[slice6],\n",
        "       simple_regret_exact_13[slice6],\n",
        "       simple_regret_exact_14[slice6],\n",
        "       simple_regret_exact_15[slice6],\n",
        "       simple_regret_exact_16[slice6],\n",
        "       simple_regret_exact_17[slice6],\n",
        "       simple_regret_exact_18[slice6],\n",
        "       simple_regret_exact_19[slice6],\n",
        "       simple_regret_exact_20[slice6]]\n",
        "\n",
        "approx6_results = pd.DataFrame(approx6).sort_values(by=[0], ascending=False)\n",
        "exact6_results = pd.DataFrame(exact6).sort_values(by=[0], ascending=False)\n",
        "\n",
        "### Best simple regret minimization IQR - approx:\n",
        "lower_approx6 = np.asarray(approx6_results[4:5][0])[0]\n",
        "median_approx6 = np.asarray(approx6_results[9:10][0])[0]\n",
        "upper_approx6 = np.asarray(approx6_results[14:15][0])[0]\n",
        "\n",
        "lower_exact6 = np.asarray(exact6_results[4:5][0])[0]\n",
        "median_exact6 = np.asarray(exact6_results[9:10][0])[0]\n",
        "upper_exact6 = np.asarray(exact6_results[14:15][0])[0]"
      ]
    },
    {
      "cell_type": "code",
      "execution_count": 87,
      "metadata": {
        "id": "nwC5N1FsQxf7"
      },
      "outputs": [],
      "source": [
        "# Iteration16 :\n",
        "\n",
        "slice16 = 15\n",
        "\n",
        "approx16 = [simple_regret_approx_1[slice16],\n",
        "       simple_regret_approx_2[slice16],\n",
        "       simple_regret_approx_3[slice16],\n",
        "       simple_regret_approx_4[slice16],\n",
        "       simple_regret_approx_5[slice16],\n",
        "       simple_regret_approx_6[slice16],\n",
        "       simple_regret_approx_7[slice16],\n",
        "       simple_regret_approx_8[slice16],\n",
        "       simple_regret_approx_9[slice16],\n",
        "       simple_regret_approx_10[slice16],\n",
        "       simple_regret_approx_11[slice16],\n",
        "       simple_regret_approx_12[slice16],\n",
        "       simple_regret_approx_13[slice16],\n",
        "       simple_regret_approx_14[slice16],\n",
        "       simple_regret_approx_15[slice16],\n",
        "       simple_regret_approx_16[slice16],\n",
        "       simple_regret_approx_17[slice16],\n",
        "       simple_regret_approx_18[slice16],\n",
        "       simple_regret_approx_19[slice16],\n",
        "       simple_regret_approx_20[slice16]]\n",
        "\n",
        "exact16 = [simple_regret_exact_1[slice16],\n",
        "       simple_regret_exact_2[slice16],\n",
        "       simple_regret_exact_3[slice16],\n",
        "       simple_regret_exact_4[slice16],\n",
        "       simple_regret_exact_5[slice16],\n",
        "       simple_regret_exact_6[slice16],\n",
        "       simple_regret_exact_7[slice16],\n",
        "       simple_regret_exact_8[slice16],\n",
        "       simple_regret_exact_9[slice16],\n",
        "       simple_regret_exact_10[slice16],\n",
        "       simple_regret_exact_11[slice16],\n",
        "       simple_regret_exact_12[slice16],\n",
        "       simple_regret_exact_13[slice16],\n",
        "       simple_regret_exact_14[slice16],\n",
        "       simple_regret_exact_15[slice16],\n",
        "       simple_regret_exact_16[slice16],\n",
        "       simple_regret_exact_17[slice16],\n",
        "       simple_regret_exact_18[slice16],\n",
        "       simple_regret_exact_19[slice16],\n",
        "       simple_regret_exact_20[slice16]]\n",
        "\n",
        "approx16_results = pd.DataFrame(approx16).sort_values(by=[0], ascending=False)\n",
        "exact16_results = pd.DataFrame(exact16).sort_values(by=[0], ascending=False)\n",
        "\n",
        "### Best simple regret minimization IQR - approx:\n",
        "lower_approx16 = np.asarray(approx16_results[4:5][0])[0]\n",
        "median_approx16 = np.asarray(approx16_results[9:10][0])[0]\n",
        "upper_approx16 = np.asarray(approx16_results[14:15][0])[0]\n",
        "\n",
        "lower_exact16 = np.asarray(exact16_results[4:5][0])[0]\n",
        "median_exact16 = np.asarray(exact16_results[9:10][0])[0]\n",
        "upper_exact16 = np.asarray(exact16_results[14:15][0])[0]"
      ]
    },
    {
      "cell_type": "code",
      "execution_count": 88,
      "metadata": {
        "id": "TrPV0AfnQxf7"
      },
      "outputs": [],
      "source": [
        "# Iteration7 :\n",
        "\n",
        "slice7 = 6\n",
        "\n",
        "approx7 = [simple_regret_approx_1[slice7],\n",
        "       simple_regret_approx_2[slice7],\n",
        "       simple_regret_approx_3[slice7],\n",
        "       simple_regret_approx_4[slice7],\n",
        "       simple_regret_approx_5[slice7],\n",
        "       simple_regret_approx_6[slice7],\n",
        "       simple_regret_approx_7[slice7],\n",
        "       simple_regret_approx_8[slice7],\n",
        "       simple_regret_approx_9[slice7],\n",
        "       simple_regret_approx_10[slice7],\n",
        "       simple_regret_approx_11[slice7],\n",
        "       simple_regret_approx_12[slice7],\n",
        "       simple_regret_approx_13[slice7],\n",
        "       simple_regret_approx_14[slice7],\n",
        "       simple_regret_approx_15[slice7],\n",
        "       simple_regret_approx_16[slice7],\n",
        "       simple_regret_approx_17[slice7],\n",
        "       simple_regret_approx_18[slice7],\n",
        "       simple_regret_approx_19[slice7],\n",
        "       simple_regret_approx_20[slice7]]\n",
        "\n",
        "exact7 = [simple_regret_exact_1[slice7],\n",
        "       simple_regret_exact_2[slice7],\n",
        "       simple_regret_exact_3[slice7],\n",
        "       simple_regret_exact_4[slice7],\n",
        "       simple_regret_exact_5[slice7],\n",
        "       simple_regret_exact_6[slice7],\n",
        "       simple_regret_exact_7[slice7],\n",
        "       simple_regret_exact_8[slice7],\n",
        "       simple_regret_exact_9[slice7],\n",
        "       simple_regret_exact_10[slice7],\n",
        "       simple_regret_exact_11[slice7],\n",
        "       simple_regret_exact_12[slice7],\n",
        "       simple_regret_exact_13[slice7],\n",
        "       simple_regret_exact_14[slice7],\n",
        "       simple_regret_exact_15[slice7],\n",
        "       simple_regret_exact_16[slice7],\n",
        "       simple_regret_exact_17[slice7],\n",
        "       simple_regret_exact_18[slice7],\n",
        "       simple_regret_exact_19[slice7],\n",
        "       simple_regret_exact_20[slice7]]\n",
        "\n",
        "approx7_results = pd.DataFrame(approx7).sort_values(by=[0], ascending=False)\n",
        "exact7_results = pd.DataFrame(exact7).sort_values(by=[0], ascending=False)\n",
        "\n",
        "### Best simple regret minimization IQR - approx:\n",
        "lower_approx7 = np.asarray(approx7_results[4:5][0])[0]\n",
        "median_approx7 = np.asarray(approx7_results[9:10][0])[0]\n",
        "upper_approx7 = np.asarray(approx7_results[14:15][0])[0]\n",
        "\n",
        "lower_exact7 = np.asarray(exact7_results[4:5][0])[0]\n",
        "median_exact7 = np.asarray(exact7_results[9:10][0])[0]\n",
        "upper_exact7 = np.asarray(exact7_results[14:15][0])[0]"
      ]
    },
    {
      "cell_type": "code",
      "execution_count": 89,
      "metadata": {
        "id": "Ub_-wpK4Qxf8"
      },
      "outputs": [],
      "source": [
        "# Iteration17 :\n",
        "\n",
        "slice17 = 16\n",
        "\n",
        "approx17 = [simple_regret_approx_1[slice17],\n",
        "       simple_regret_approx_2[slice17],\n",
        "       simple_regret_approx_3[slice17],\n",
        "       simple_regret_approx_4[slice17],\n",
        "       simple_regret_approx_5[slice17],\n",
        "       simple_regret_approx_6[slice17],\n",
        "       simple_regret_approx_7[slice17],\n",
        "       simple_regret_approx_8[slice17],\n",
        "       simple_regret_approx_9[slice17],\n",
        "       simple_regret_approx_10[slice17],\n",
        "       simple_regret_approx_11[slice17],\n",
        "       simple_regret_approx_12[slice17],\n",
        "       simple_regret_approx_13[slice17],\n",
        "       simple_regret_approx_14[slice17],\n",
        "       simple_regret_approx_15[slice17],\n",
        "       simple_regret_approx_16[slice17],\n",
        "       simple_regret_approx_17[slice17],\n",
        "       simple_regret_approx_18[slice17],\n",
        "       simple_regret_approx_19[slice17],\n",
        "       simple_regret_approx_20[slice17]]\n",
        "\n",
        "exact17 = [simple_regret_exact_1[slice17],\n",
        "       simple_regret_exact_2[slice17],\n",
        "       simple_regret_exact_3[slice17],\n",
        "       simple_regret_exact_4[slice17],\n",
        "       simple_regret_exact_5[slice17],\n",
        "       simple_regret_exact_6[slice17],\n",
        "       simple_regret_exact_7[slice17],\n",
        "       simple_regret_exact_8[slice17],\n",
        "       simple_regret_exact_9[slice17],\n",
        "       simple_regret_exact_10[slice17],\n",
        "       simple_regret_exact_11[slice17],\n",
        "       simple_regret_exact_12[slice17],\n",
        "       simple_regret_exact_13[slice17],\n",
        "       simple_regret_exact_14[slice17],\n",
        "       simple_regret_exact_15[slice17],\n",
        "       simple_regret_exact_16[slice17],\n",
        "       simple_regret_exact_17[slice17],\n",
        "       simple_regret_exact_18[slice17],\n",
        "       simple_regret_exact_19[slice17],\n",
        "       simple_regret_exact_20[slice17]]\n",
        "\n",
        "approx17_results = pd.DataFrame(approx17).sort_values(by=[0], ascending=False)\n",
        "exact17_results = pd.DataFrame(exact17).sort_values(by=[0], ascending=False)\n",
        "\n",
        "### Best simple regret minimization IQR - approx:\n",
        "lower_approx17 = np.asarray(approx17_results[4:5][0])[0]\n",
        "median_approx17 = np.asarray(approx17_results[9:10][0])[0]\n",
        "upper_approx17 = np.asarray(approx17_results[14:15][0])[0]\n",
        "\n",
        "lower_exact17 = np.asarray(exact17_results[4:5][0])[0]\n",
        "median_exact17 = np.asarray(exact17_results[9:10][0])[0]\n",
        "upper_exact17 = np.asarray(exact17_results[14:15][0])[0]"
      ]
    },
    {
      "cell_type": "code",
      "execution_count": 90,
      "metadata": {
        "id": "-6VLo37PQxf8"
      },
      "outputs": [],
      "source": [
        "# Iteration8 :\n",
        "\n",
        "slice8 = 7\n",
        "\n",
        "approx8 = [simple_regret_approx_1[slice8],\n",
        "       simple_regret_approx_2[slice8],\n",
        "       simple_regret_approx_3[slice8],\n",
        "       simple_regret_approx_4[slice8],\n",
        "       simple_regret_approx_5[slice8],\n",
        "       simple_regret_approx_6[slice8],\n",
        "       simple_regret_approx_7[slice8],\n",
        "       simple_regret_approx_8[slice8],\n",
        "       simple_regret_approx_9[slice8],\n",
        "       simple_regret_approx_10[slice8],\n",
        "       simple_regret_approx_11[slice8],\n",
        "       simple_regret_approx_12[slice8],\n",
        "       simple_regret_approx_13[slice8],\n",
        "       simple_regret_approx_14[slice8],\n",
        "       simple_regret_approx_15[slice8],\n",
        "       simple_regret_approx_16[slice8],\n",
        "       simple_regret_approx_17[slice8],\n",
        "       simple_regret_approx_18[slice8],\n",
        "       simple_regret_approx_19[slice8],\n",
        "       simple_regret_approx_20[slice8]]\n",
        "\n",
        "exact8 = [simple_regret_exact_1[slice8],\n",
        "       simple_regret_exact_2[slice8],\n",
        "       simple_regret_exact_3[slice8],\n",
        "       simple_regret_exact_4[slice8],\n",
        "       simple_regret_exact_5[slice8],\n",
        "       simple_regret_exact_6[slice8],\n",
        "       simple_regret_exact_7[slice8],\n",
        "       simple_regret_exact_8[slice8],\n",
        "       simple_regret_exact_9[slice8],\n",
        "       simple_regret_exact_10[slice8],\n",
        "       simple_regret_exact_11[slice8],\n",
        "       simple_regret_exact_12[slice8],\n",
        "       simple_regret_exact_13[slice8],\n",
        "       simple_regret_exact_14[slice8],\n",
        "       simple_regret_exact_15[slice8],\n",
        "       simple_regret_exact_16[slice8],\n",
        "       simple_regret_exact_17[slice8],\n",
        "       simple_regret_exact_18[slice8],\n",
        "       simple_regret_exact_19[slice8],\n",
        "       simple_regret_exact_20[slice8]]\n",
        "\n",
        "approx8_results = pd.DataFrame(approx8).sort_values(by=[0], ascending=False)\n",
        "exact8_results = pd.DataFrame(exact8).sort_values(by=[0], ascending=False)\n",
        "\n",
        "### Best simple regret minimization IQR - approx:\n",
        "lower_approx8 = np.asarray(approx8_results[4:5][0])[0]\n",
        "median_approx8 = np.asarray(approx8_results[9:10][0])[0]\n",
        "upper_approx8 = np.asarray(approx8_results[14:15][0])[0]\n",
        "\n",
        "lower_exact8 = np.asarray(exact8_results[4:5][0])[0]\n",
        "median_exact8 = np.asarray(exact8_results[9:10][0])[0]\n",
        "upper_exact8 = np.asarray(exact8_results[14:15][0])[0]"
      ]
    },
    {
      "cell_type": "code",
      "execution_count": 91,
      "metadata": {
        "id": "2Dp-9CC2Qxf9"
      },
      "outputs": [],
      "source": [
        "# Iteration18 :\n",
        "\n",
        "slice18 = 17\n",
        "\n",
        "approx18 = [simple_regret_approx_1[slice18],\n",
        "       simple_regret_approx_2[slice18],\n",
        "       simple_regret_approx_3[slice18],\n",
        "       simple_regret_approx_4[slice18],\n",
        "       simple_regret_approx_5[slice18],\n",
        "       simple_regret_approx_6[slice18],\n",
        "       simple_regret_approx_7[slice18],\n",
        "       simple_regret_approx_8[slice18],\n",
        "       simple_regret_approx_9[slice18],\n",
        "       simple_regret_approx_10[slice18],\n",
        "       simple_regret_approx_11[slice18],\n",
        "       simple_regret_approx_12[slice18],\n",
        "       simple_regret_approx_13[slice18],\n",
        "       simple_regret_approx_14[slice18],\n",
        "       simple_regret_approx_15[slice18],\n",
        "       simple_regret_approx_16[slice18],\n",
        "       simple_regret_approx_17[slice18],\n",
        "       simple_regret_approx_18[slice18],\n",
        "       simple_regret_approx_19[slice18],\n",
        "       simple_regret_approx_20[slice18]]\n",
        "\n",
        "exact18 = [simple_regret_exact_1[slice18],\n",
        "       simple_regret_exact_2[slice18],\n",
        "       simple_regret_exact_3[slice18],\n",
        "       simple_regret_exact_4[slice18],\n",
        "       simple_regret_exact_5[slice18],\n",
        "       simple_regret_exact_6[slice18],\n",
        "       simple_regret_exact_7[slice18],\n",
        "       simple_regret_exact_8[slice18],\n",
        "       simple_regret_exact_9[slice18],\n",
        "       simple_regret_exact_10[slice18],\n",
        "       simple_regret_exact_11[slice18],\n",
        "       simple_regret_exact_12[slice18],\n",
        "       simple_regret_exact_13[slice18],\n",
        "       simple_regret_exact_14[slice18],\n",
        "       simple_regret_exact_15[slice18],\n",
        "       simple_regret_exact_16[slice18],\n",
        "       simple_regret_exact_17[slice18],\n",
        "       simple_regret_exact_18[slice18],\n",
        "       simple_regret_exact_19[slice18],\n",
        "       simple_regret_exact_20[slice18]]\n",
        "\n",
        "approx18_results = pd.DataFrame(approx18).sort_values(by=[0], ascending=False)\n",
        "exact18_results = pd.DataFrame(exact18).sort_values(by=[0], ascending=False)\n",
        "\n",
        "### Best simple regret minimization IQR - approx:\n",
        "lower_approx18 = np.asarray(approx18_results[4:5][0])[0]\n",
        "median_approx18 = np.asarray(approx18_results[9:10][0])[0]\n",
        "upper_approx18 = np.asarray(approx18_results[14:15][0])[0]\n",
        "\n",
        "lower_exact18 = np.asarray(exact18_results[4:5][0])[0]\n",
        "median_exact18 = np.asarray(exact18_results[9:10][0])[0]\n",
        "upper_exact18 = np.asarray(exact18_results[14:15][0])[0]"
      ]
    },
    {
      "cell_type": "code",
      "execution_count": 92,
      "metadata": {
        "id": "SqiaOpB7Qxf9"
      },
      "outputs": [],
      "source": [
        "# Iteration9 :\n",
        "\n",
        "slice9 = 8\n",
        "\n",
        "approx9 = [simple_regret_approx_1[slice9],\n",
        "       simple_regret_approx_2[slice9],\n",
        "       simple_regret_approx_3[slice9],\n",
        "       simple_regret_approx_4[slice9],\n",
        "       simple_regret_approx_5[slice9],\n",
        "       simple_regret_approx_6[slice9],\n",
        "       simple_regret_approx_7[slice9],\n",
        "       simple_regret_approx_8[slice9],\n",
        "       simple_regret_approx_9[slice9],\n",
        "       simple_regret_approx_10[slice9],\n",
        "       simple_regret_approx_11[slice9],\n",
        "       simple_regret_approx_12[slice9],\n",
        "       simple_regret_approx_13[slice9],\n",
        "       simple_regret_approx_14[slice9],\n",
        "       simple_regret_approx_15[slice9],\n",
        "       simple_regret_approx_16[slice9],\n",
        "       simple_regret_approx_17[slice9],\n",
        "       simple_regret_approx_18[slice9],\n",
        "       simple_regret_approx_19[slice9],\n",
        "       simple_regret_approx_20[slice9]]\n",
        "\n",
        "exact9 = [simple_regret_exact_1[slice9],\n",
        "       simple_regret_exact_2[slice9],\n",
        "       simple_regret_exact_3[slice9],\n",
        "       simple_regret_exact_4[slice9],\n",
        "       simple_regret_exact_5[slice9],\n",
        "       simple_regret_exact_6[slice9],\n",
        "       simple_regret_exact_7[slice9],\n",
        "       simple_regret_exact_8[slice9],\n",
        "       simple_regret_exact_9[slice9],\n",
        "       simple_regret_exact_10[slice9],\n",
        "       simple_regret_exact_11[slice9],\n",
        "       simple_regret_exact_12[slice9],\n",
        "       simple_regret_exact_13[slice9],\n",
        "       simple_regret_exact_14[slice9],\n",
        "       simple_regret_exact_15[slice9],\n",
        "       simple_regret_exact_16[slice9],\n",
        "       simple_regret_exact_17[slice9],\n",
        "       simple_regret_exact_18[slice9],\n",
        "       simple_regret_exact_19[slice9],\n",
        "       simple_regret_exact_20[slice9]]\n",
        "\n",
        "approx9_results = pd.DataFrame(approx9).sort_values(by=[0], ascending=False)\n",
        "exact9_results = pd.DataFrame(exact9).sort_values(by=[0], ascending=False)\n",
        "\n",
        "### Best simple regret minimization IQR - approx:\n",
        "lower_approx9 = np.asarray(approx9_results[4:5][0])[0]\n",
        "median_approx9 = np.asarray(approx9_results[9:10][0])[0]\n",
        "upper_approx9 = np.asarray(approx9_results[14:15][0])[0]\n",
        "\n",
        "lower_exact9 = np.asarray(exact9_results[4:5][0])[0]\n",
        "median_exact9 = np.asarray(exact9_results[9:10][0])[0]\n",
        "upper_exact9 = np.asarray(exact9_results[14:15][0])[0]"
      ]
    },
    {
      "cell_type": "code",
      "execution_count": 93,
      "metadata": {
        "id": "OQkCCOsPQxf9"
      },
      "outputs": [],
      "source": [
        "# Iteration19 :\n",
        "\n",
        "slice19 = 18\n",
        "\n",
        "approx19 = [simple_regret_approx_1[slice19],\n",
        "       simple_regret_approx_2[slice19],\n",
        "       simple_regret_approx_3[slice19],\n",
        "       simple_regret_approx_4[slice19],\n",
        "       simple_regret_approx_5[slice19],\n",
        "       simple_regret_approx_6[slice19],\n",
        "       simple_regret_approx_7[slice19],\n",
        "       simple_regret_approx_8[slice19],\n",
        "       simple_regret_approx_9[slice19],\n",
        "       simple_regret_approx_10[slice19],\n",
        "       simple_regret_approx_11[slice19],\n",
        "       simple_regret_approx_12[slice19],\n",
        "       simple_regret_approx_13[slice19],\n",
        "       simple_regret_approx_14[slice19],\n",
        "       simple_regret_approx_15[slice19],\n",
        "       simple_regret_approx_16[slice19],\n",
        "       simple_regret_approx_17[slice19],\n",
        "       simple_regret_approx_18[slice19],\n",
        "       simple_regret_approx_19[slice19],\n",
        "       simple_regret_approx_20[slice19]]\n",
        "\n",
        "exact19 = [simple_regret_exact_1[slice19],\n",
        "       simple_regret_exact_2[slice19],\n",
        "       simple_regret_exact_3[slice19],\n",
        "       simple_regret_exact_4[slice19],\n",
        "       simple_regret_exact_5[slice19],\n",
        "       simple_regret_exact_6[slice19],\n",
        "       simple_regret_exact_7[slice19],\n",
        "       simple_regret_exact_8[slice19],\n",
        "       simple_regret_exact_9[slice19],\n",
        "       simple_regret_exact_10[slice19],\n",
        "       simple_regret_exact_11[slice19],\n",
        "       simple_regret_exact_12[slice19],\n",
        "       simple_regret_exact_13[slice19],\n",
        "       simple_regret_exact_14[slice19],\n",
        "       simple_regret_exact_15[slice19],\n",
        "       simple_regret_exact_16[slice19],\n",
        "       simple_regret_exact_17[slice19],\n",
        "       simple_regret_exact_18[slice19],\n",
        "       simple_regret_exact_19[slice19],\n",
        "       simple_regret_exact_20[slice19]]\n",
        "\n",
        "approx19_results = pd.DataFrame(approx19).sort_values(by=[0], ascending=False)\n",
        "exact19_results = pd.DataFrame(exact19).sort_values(by=[0], ascending=False)\n",
        "\n",
        "### Best simple regret minimization IQR - approx:\n",
        "lower_approx19 = np.asarray(approx19_results[4:5][0])[0]\n",
        "median_approx19 = np.asarray(approx19_results[9:10][0])[0]\n",
        "upper_approx19 = np.asarray(approx19_results[14:15][0])[0]\n",
        "\n",
        "lower_exact19 = np.asarray(exact19_results[4:5][0])[0]\n",
        "median_exact19 = np.asarray(exact19_results[9:10][0])[0]\n",
        "upper_exact19 = np.asarray(exact19_results[14:15][0])[0]"
      ]
    },
    {
      "cell_type": "code",
      "execution_count": 94,
      "metadata": {
        "id": "h4vtWahcQxf-"
      },
      "outputs": [],
      "source": [
        "# Iteration10 :\n",
        "\n",
        "slice10 = 9\n",
        "\n",
        "approx10 = [simple_regret_approx_1[slice10],\n",
        "       simple_regret_approx_2[slice10],\n",
        "       simple_regret_approx_3[slice10],\n",
        "       simple_regret_approx_4[slice10],\n",
        "       simple_regret_approx_5[slice10],\n",
        "       simple_regret_approx_6[slice10],\n",
        "       simple_regret_approx_7[slice10],\n",
        "       simple_regret_approx_8[slice10],\n",
        "       simple_regret_approx_9[slice10],\n",
        "       simple_regret_approx_10[slice10],\n",
        "       simple_regret_approx_11[slice10],\n",
        "       simple_regret_approx_12[slice10],\n",
        "       simple_regret_approx_13[slice10],\n",
        "       simple_regret_approx_14[slice10],\n",
        "       simple_regret_approx_15[slice10],\n",
        "       simple_regret_approx_16[slice10],\n",
        "       simple_regret_approx_17[slice10],\n",
        "       simple_regret_approx_18[slice10],\n",
        "       simple_regret_approx_19[slice10],\n",
        "       simple_regret_approx_20[slice10]]\n",
        "\n",
        "exact10 = [simple_regret_exact_1[slice10],\n",
        "       simple_regret_exact_2[slice10],\n",
        "       simple_regret_exact_3[slice10],\n",
        "       simple_regret_exact_4[slice10],\n",
        "       simple_regret_exact_5[slice10],\n",
        "       simple_regret_exact_6[slice10],\n",
        "       simple_regret_exact_7[slice10],\n",
        "       simple_regret_exact_8[slice10],\n",
        "       simple_regret_exact_9[slice10],\n",
        "       simple_regret_exact_10[slice10],\n",
        "       simple_regret_exact_11[slice10],\n",
        "       simple_regret_exact_12[slice10],\n",
        "       simple_regret_exact_13[slice10],\n",
        "       simple_regret_exact_14[slice10],\n",
        "       simple_regret_exact_15[slice10],\n",
        "       simple_regret_exact_16[slice10],\n",
        "       simple_regret_exact_17[slice10],\n",
        "       simple_regret_exact_18[slice10],\n",
        "       simple_regret_exact_19[slice10],\n",
        "       simple_regret_exact_20[slice10]]\n",
        "\n",
        "approx10_results = pd.DataFrame(approx10).sort_values(by=[0], ascending=False)\n",
        "exact10_results = pd.DataFrame(exact10).sort_values(by=[0], ascending=False)\n",
        "\n",
        "### Best simple regret minimization IQR - approx:\n",
        "lower_approx10 = np.asarray(approx10_results[4:5][0])[0]\n",
        "median_approx10 = np.asarray(approx10_results[9:10][0])[0]\n",
        "upper_approx10 = np.asarray(approx10_results[14:15][0])[0]\n",
        "\n",
        "lower_exact10 = np.asarray(exact10_results[4:5][0])[0]\n",
        "median_exact10 = np.asarray(exact10_results[9:10][0])[0]\n",
        "upper_exact10 = np.asarray(exact10_results[14:15][0])[0]"
      ]
    },
    {
      "cell_type": "code",
      "execution_count": 95,
      "metadata": {
        "id": "Rsf240pWQxf-"
      },
      "outputs": [],
      "source": [
        "# Iteration20 :\n",
        "\n",
        "slice20 = 19\n",
        "\n",
        "approx20 = [simple_regret_approx_1[slice20],\n",
        "       simple_regret_approx_2[slice20],\n",
        "       simple_regret_approx_3[slice20],\n",
        "       simple_regret_approx_4[slice20],\n",
        "       simple_regret_approx_5[slice20],\n",
        "       simple_regret_approx_6[slice20],\n",
        "       simple_regret_approx_7[slice20],\n",
        "       simple_regret_approx_8[slice20],\n",
        "       simple_regret_approx_9[slice20],\n",
        "       simple_regret_approx_10[slice20],\n",
        "       simple_regret_approx_11[slice20],\n",
        "       simple_regret_approx_12[slice20],\n",
        "       simple_regret_approx_13[slice20],\n",
        "       simple_regret_approx_14[slice20],\n",
        "       simple_regret_approx_15[slice20],\n",
        "       simple_regret_approx_16[slice20],\n",
        "       simple_regret_approx_17[slice20],\n",
        "       simple_regret_approx_18[slice20],\n",
        "       simple_regret_approx_19[slice20],\n",
        "       simple_regret_approx_20[slice20]]\n",
        "\n",
        "exact20 = [simple_regret_exact_1[slice20],\n",
        "       simple_regret_exact_2[slice20],\n",
        "       simple_regret_exact_3[slice20],\n",
        "       simple_regret_exact_4[slice20],\n",
        "       simple_regret_exact_5[slice20],\n",
        "       simple_regret_exact_6[slice20],\n",
        "       simple_regret_exact_7[slice20],\n",
        "       simple_regret_exact_8[slice20],\n",
        "       simple_regret_exact_9[slice20],\n",
        "       simple_regret_exact_10[slice20],\n",
        "       simple_regret_exact_11[slice20],\n",
        "       simple_regret_exact_12[slice20],\n",
        "       simple_regret_exact_13[slice20],\n",
        "       simple_regret_exact_14[slice20],\n",
        "       simple_regret_exact_15[slice20],\n",
        "       simple_regret_exact_16[slice20],\n",
        "       simple_regret_exact_17[slice20],\n",
        "       simple_regret_exact_18[slice20],\n",
        "       simple_regret_exact_19[slice20],\n",
        "       simple_regret_exact_20[slice20]]\n",
        "\n",
        "approx20_results = pd.DataFrame(approx20).sort_values(by=[0], ascending=False)\n",
        "exact20_results = pd.DataFrame(exact20).sort_values(by=[0], ascending=False)\n",
        "\n",
        "### Best simple regret minimization IQR - approx:\n",
        "lower_approx20 = np.asarray(approx20_results[4:5][0])[0]\n",
        "median_approx20 = np.asarray(approx20_results[9:10][0])[0]\n",
        "upper_approx20 = np.asarray(approx20_results[14:15][0])[0]\n",
        "\n",
        "lower_exact20 = np.asarray(exact20_results[4:5][0])[0]\n",
        "median_exact20 = np.asarray(exact20_results[9:10][0])[0]\n",
        "upper_exact20 = np.asarray(exact20_results[14:15][0])[0]"
      ]
    },
    {
      "cell_type": "code",
      "execution_count": 96,
      "metadata": {
        "id": "gn36RejbQxf_"
      },
      "outputs": [],
      "source": [
        "### Summarize arrays: 'Loser'\n",
        "\n",
        "lower_approx = [lower_approx1,\n",
        "            lower_approx2,\n",
        "            lower_approx3,\n",
        "            lower_approx4,\n",
        "            lower_approx5,\n",
        "            lower_approx6,\n",
        "            lower_approx7,\n",
        "            lower_approx8,\n",
        "            lower_approx9,\n",
        "            lower_approx10,\n",
        "            lower_approx11,\n",
        "            lower_approx12,\n",
        "            lower_approx13,\n",
        "            lower_approx14,\n",
        "            lower_approx15,\n",
        "            lower_approx16,\n",
        "            lower_approx17,\n",
        "            lower_approx18,\n",
        "            lower_approx19,\n",
        "            lower_approx20,\n",
        "            lower_approx21]\n",
        "\n",
        "median_approx = [median_approx1,\n",
        "            median_approx2,\n",
        "            median_approx3,\n",
        "            median_approx4,\n",
        "            median_approx5,\n",
        "            median_approx6,\n",
        "            median_approx7,\n",
        "            median_approx8,\n",
        "            median_approx9,\n",
        "            median_approx10,\n",
        "            median_approx11,\n",
        "            median_approx12,\n",
        "            median_approx13,\n",
        "            median_approx14,\n",
        "            median_approx15,\n",
        "            median_approx16,\n",
        "            median_approx17,\n",
        "            median_approx18,\n",
        "            median_approx19,\n",
        "            median_approx20,\n",
        "            median_approx21]\n",
        "\n",
        "upper_approx = [upper_approx1,\n",
        "            upper_approx2,\n",
        "            upper_approx3,\n",
        "            upper_approx4,\n",
        "            upper_approx5,\n",
        "            upper_approx6,\n",
        "            upper_approx7,\n",
        "            upper_approx8,\n",
        "            upper_approx9,\n",
        "            upper_approx10,\n",
        "            upper_approx11,\n",
        "            upper_approx12,\n",
        "            upper_approx13,\n",
        "            upper_approx14,\n",
        "            upper_approx15,\n",
        "            upper_approx16,\n",
        "            upper_approx17,\n",
        "            upper_approx18,\n",
        "            upper_approx19,\n",
        "            upper_approx20,\n",
        "            upper_approx21]"
      ]
    },
    {
      "cell_type": "code",
      "execution_count": 97,
      "metadata": {
        "id": "wxtGTOYfQxf_"
      },
      "outputs": [],
      "source": [
        "### Summarize arrays: 'exact'\n",
        "\n",
        "lower_exact = [lower_exact1,\n",
        "            lower_exact2,\n",
        "            lower_exact3,\n",
        "            lower_exact4,\n",
        "            lower_exact5,\n",
        "            lower_exact6,\n",
        "            lower_exact7,\n",
        "            lower_exact8,\n",
        "            lower_exact9,\n",
        "            lower_exact10,\n",
        "            lower_exact11,\n",
        "            lower_exact12,\n",
        "            lower_exact13,\n",
        "            lower_exact14,\n",
        "            lower_exact15,\n",
        "            lower_exact16,\n",
        "            lower_exact17,\n",
        "            lower_exact18,\n",
        "            lower_exact19,\n",
        "            lower_exact20,\n",
        "            lower_exact21]\n",
        "\n",
        "median_exact = [median_exact1,\n",
        "            median_exact2,\n",
        "            median_exact3,\n",
        "            median_exact4,\n",
        "            median_exact5,\n",
        "            median_exact6,\n",
        "            median_exact7,\n",
        "            median_exact8,\n",
        "            median_exact9,\n",
        "            median_exact10,\n",
        "            median_exact11,\n",
        "            median_exact12,\n",
        "            median_exact13,\n",
        "            median_exact14,\n",
        "            median_exact15,\n",
        "            median_exact16,\n",
        "            median_exact17,\n",
        "            median_exact18,\n",
        "            median_exact19,\n",
        "            median_exact20,\n",
        "            median_exact21]\n",
        "\n",
        "upper_exact = [upper_exact1,\n",
        "            upper_exact2,\n",
        "            upper_exact3,\n",
        "            upper_exact4,\n",
        "            upper_exact5,\n",
        "            upper_exact6,\n",
        "            upper_exact7,\n",
        "            upper_exact8,\n",
        "            upper_exact9,\n",
        "            upper_exact10,\n",
        "            upper_exact11,\n",
        "            upper_exact12,\n",
        "            upper_exact13,\n",
        "            upper_exact14,\n",
        "            upper_exact15,\n",
        "            upper_exact16,\n",
        "            upper_exact17,\n",
        "            upper_exact18,\n",
        "            upper_exact19,\n",
        "            upper_exact20,\n",
        "            upper_exact21]"
      ]
    },
    {
      "cell_type": "code",
      "execution_count": 98,
      "metadata": {
        "id": "2MONq-BXQxgA",
        "colab": {
          "base_uri": "https://localhost:8080/",
          "height": 299
        },
        "outputId": "ee40a37a-3794-4210-e175-3e4d637cc44e"
      },
      "outputs": [
        {
          "output_type": "display_data",
          "data": {
            "text/plain": [
              "<Figure size 432x288 with 1 Axes>"
            ],
            "image/png": "[encoded data removed]"
          },
          "metadata": {
            "needs_background": "light"
          }
        }
      ],
      "source": [
        "### Visualise!\n",
        "\n",
        "title = func\n",
        "plt.figure()\n",
        "\n",
        "plt.plot(median_approx, color = 'Green', ls='--')\n",
        "plt.plot(median_exact, color = 'Blue', ls='--')\n",
        "\n",
        "xstar = np.arange(0, iters+1, step=1)\n",
        "plt.fill_between(xstar, lower_approx, upper_approx, facecolor = 'Green', alpha=0.4, label='STP ERM Optimisation: Approx STP ERM gradients ' r'($\\nu$' ' = {})'.format(df))\n",
        "plt.fill_between(xstar, lower_exact, upper_exact, facecolor = 'Blue', alpha=0.4, label='STP ERM Optimisation: Exact STP dERM gradients ' r'($\\nu$' ' = {})'.format(df))\n",
        "\n",
        "plt.title(title, weight = 'bold')\n",
        "plt.xlabel('(Post-initialisation) iteration $\\it{k}$', weight = 'bold')\n",
        "plt.ylabel('log(Regret)', weight = 'bold') \n",
        "plt.legend(loc=1) # add plot legend\n",
        "\n",
        "### Make the x-ticks integers, not floats:\n",
        "count = len(xstar)\n",
        "plt.xticks(np.arange(count), np.arange(0, count))\n",
        "plt.show() #visualise!\n"
      ]
    },
    {
      "cell_type": "code",
      "execution_count": 99,
      "metadata": {
        "id": "l5dkR2Id2oiu",
        "colab": {
          "base_uri": "https://localhost:8080/"
        },
        "outputId": "91e8428f-b67d-4232-e728-b8253c3f09a9"
      },
      "outputs": [
        {
          "output_type": "execute_result",
          "data": {
            "text/plain": [
              "(1410.4859342575073, 1387.1749868392944)"
            ]
          },
          "metadata": {},
          "execution_count": 99
        }
      ],
      "source": [
        "time_approx, time_exact\n"
      ]
    },
    {
      "cell_type": "code",
      "source": [
        "### acqFunc attribute x, stddev: run number = 1\n",
        "\n",
        "acqFuncApprox_exact_1 = acqFuncApprox(exact_1.history)\n",
        "acqFuncExact_exact_1 = acqFuncExact(exact_1.history)\n",
        "\n",
        "e1 = np.std(acqFuncExact_exact_1)\n",
        "a1 = np.std(acqFuncApprox_exact_1)\n",
        "\n",
        "e1, a1\n"
      ],
      "metadata": {
        "id": "uwxv4dmfGsLr",
        "colab": {
          "base_uri": "https://localhost:8080/"
        },
        "outputId": "c1ea2964-cbdb-4d4c-b791-5bc7d9520798"
      },
      "execution_count": 100,
      "outputs": [
        {
          "output_type": "execute_result",
          "data": {
            "text/plain": [
              "(0.47373913768729253, 0.5819741998758138)"
            ]
          },
          "metadata": {},
          "execution_count": 100
        }
      ]
    },
    {
      "cell_type": "code",
      "source": [
        "### acqFunc attribute x, stddev: run number = 2\n",
        "\n",
        "acqFuncApprox_exact_2 = acqFuncApprox(exact_2.history)\n",
        "acqFuncExact_exact_2 = acqFuncExact(exact_2.history)\n",
        "\n",
        "e2 = np.std(acqFuncExact_exact_2)\n",
        "a2 = np.std(acqFuncApprox_exact_2)\n",
        "\n",
        "e2, a2\n"
      ],
      "metadata": {
        "id": "0YSV00_pGsXe",
        "colab": {
          "base_uri": "https://localhost:8080/"
        },
        "outputId": "faa912bb-1436-4d3e-ff28-bae0864092d0"
      },
      "execution_count": 101,
      "outputs": [
        {
          "output_type": "execute_result",
          "data": {
            "text/plain": [
              "(0.4224707413086202, 0.6504650999382787)"
            ]
          },
          "metadata": {},
          "execution_count": 101
        }
      ]
    },
    {
      "cell_type": "code",
      "source": [
        "### acqFunc attribute x, stddev: run number = 3\n",
        "\n",
        "acqFuncApprox_exact_3 = acqFuncApprox(exact_3.history)\n",
        "acqFuncExact_exact_3 = acqFuncExact(exact_3.history)\n",
        "\n",
        "e3 = np.std(acqFuncExact_exact_3)\n",
        "a3 = np.std(acqFuncApprox_exact_3)\n",
        "\n",
        "e3, a3\n"
      ],
      "metadata": {
        "id": "HHVmsd2UGsjT",
        "colab": {
          "base_uri": "https://localhost:8080/"
        },
        "outputId": "51805e9d-2bbe-4b76-c8e7-8f9d3ccfe477"
      },
      "execution_count": 102,
      "outputs": [
        {
          "output_type": "execute_result",
          "data": {
            "text/plain": [
              "(0.48227925785594516, 0.7383750820989688)"
            ]
          },
          "metadata": {},
          "execution_count": 102
        }
      ]
    },
    {
      "cell_type": "code",
      "source": [
        "### acqFunc attribute x, stddev: run number = 4\n",
        "\n",
        "acqFuncApprox_exact_4 = acqFuncApprox(exact_4.history)\n",
        "acqFuncExact_exact_4 = acqFuncExact(exact_4.history)\n",
        "\n",
        "e4 = np.std(acqFuncExact_exact_4)\n",
        "a4 = np.std(acqFuncApprox_exact_4)\n",
        "\n",
        "e4, a4\n"
      ],
      "metadata": {
        "id": "r7O19S2eGsu7",
        "colab": {
          "base_uri": "https://localhost:8080/"
        },
        "outputId": "3480aaa1-fc29-475d-82d0-dcee3dbbc044"
      },
      "execution_count": 103,
      "outputs": [
        {
          "output_type": "execute_result",
          "data": {
            "text/plain": [
              "(0.5219636494969415, 0.6910120927620194)"
            ]
          },
          "metadata": {},
          "execution_count": 103
        }
      ]
    },
    {
      "cell_type": "code",
      "source": [
        "### acqFunc attribute x, stddev: run number = 5\n",
        "\n",
        "acqFuncApprox_exact_5 = acqFuncApprox(exact_5.history)\n",
        "acqFuncExact_exact_5 = acqFuncExact(exact_5.history)\n",
        "\n",
        "e5 = np.std(acqFuncExact_exact_5)\n",
        "a5 = np.std(acqFuncApprox_exact_5)\n",
        "\n",
        "e5, a5\n"
      ],
      "metadata": {
        "id": "sdb9o6NuGs5m",
        "colab": {
          "base_uri": "https://localhost:8080/"
        },
        "outputId": "72d7307b-2b50-4f9f-cb06-9634f316a286"
      },
      "execution_count": 104,
      "outputs": [
        {
          "output_type": "execute_result",
          "data": {
            "text/plain": [
              "(0.4638976522907652, 0.4938897172288832)"
            ]
          },
          "metadata": {},
          "execution_count": 104
        }
      ]
    },
    {
      "cell_type": "code",
      "source": [
        "### acqFunc attribute x, stddev: run number = 6\n",
        "\n",
        "acqFuncApprox_exact_6 = acqFuncApprox(exact_6.history)\n",
        "acqFuncExact_exact_6 = acqFuncExact(exact_6.history)\n",
        "\n",
        "e6 = np.std(acqFuncExact_exact_6)\n",
        "a6 = np.std(acqFuncApprox_exact_6)\n",
        "\n",
        "e6, a6\n"
      ],
      "metadata": {
        "id": "COQl7LZ8GtE0",
        "colab": {
          "base_uri": "https://localhost:8080/"
        },
        "outputId": "3b9ee7ba-3e21-48c6-91e4-5d6fa0e79e14"
      },
      "execution_count": 105,
      "outputs": [
        {
          "output_type": "execute_result",
          "data": {
            "text/plain": [
              "(0.31097454410052916, 0.5060727640122399)"
            ]
          },
          "metadata": {},
          "execution_count": 105
        }
      ]
    },
    {
      "cell_type": "code",
      "source": [
        "### acqFunc attribute x, stddev: run number = 7\n",
        "\n",
        "acqFuncApprox_exact_7 = acqFuncApprox(exact_7.history)\n",
        "acqFuncExact_exact_7 = acqFuncExact(exact_7.history)\n",
        "\n",
        "e7 = np.std(acqFuncExact_exact_7)\n",
        "a7 = np.std(acqFuncApprox_exact_7)\n",
        "\n",
        "e7, a7\n"
      ],
      "metadata": {
        "id": "2gy9EtTzGtP7",
        "colab": {
          "base_uri": "https://localhost:8080/"
        },
        "outputId": "f528ae51-fefa-4aa9-e93e-af7decffd6c5"
      },
      "execution_count": 106,
      "outputs": [
        {
          "output_type": "execute_result",
          "data": {
            "text/plain": [
              "(0.4192562046266675, 0.6676710509938144)"
            ]
          },
          "metadata": {},
          "execution_count": 106
        }
      ]
    },
    {
      "cell_type": "code",
      "source": [
        "### acqFunc attribute x, stddev: run number = 8\n",
        "\n",
        "acqFuncApprox_exact_8 = acqFuncApprox(exact_8.history)\n",
        "acqFuncExact_exact_8 = acqFuncExact(exact_8.history)\n",
        "\n",
        "e8 = np.std(acqFuncExact_exact_8)\n",
        "a8 = np.std(acqFuncApprox_exact_8)\n",
        "\n",
        "e8, a8\n"
      ],
      "metadata": {
        "id": "S7mn0qoMGtbM",
        "colab": {
          "base_uri": "https://localhost:8080/"
        },
        "outputId": "fcc2c4bd-e848-4812-ea34-1a32f01d710a"
      },
      "execution_count": 107,
      "outputs": [
        {
          "output_type": "execute_result",
          "data": {
            "text/plain": [
              "(0.39968861239111403, 0.49862461648921885)"
            ]
          },
          "metadata": {},
          "execution_count": 107
        }
      ]
    },
    {
      "cell_type": "code",
      "source": [
        "### acqFunc attribute x, stddev: run number = 9\n",
        "\n",
        "acqFuncApprox_exact_9 = acqFuncApprox(exact_9.history)\n",
        "acqFuncExact_exact_9 = acqFuncExact(exact_9.history)\n",
        "\n",
        "e9 = np.std(acqFuncExact_exact_9)\n",
        "a9 = np.std(acqFuncApprox_exact_9)\n",
        "\n",
        "e9, a9\n"
      ],
      "metadata": {
        "id": "BhljmkNxGtms",
        "colab": {
          "base_uri": "https://localhost:8080/"
        },
        "outputId": "c14c49d4-6faa-4d5b-c00e-244a56c8ec11"
      },
      "execution_count": 108,
      "outputs": [
        {
          "output_type": "execute_result",
          "data": {
            "text/plain": [
              "(0.3538979113384411, 0.6437020493862148)"
            ]
          },
          "metadata": {},
          "execution_count": 108
        }
      ]
    },
    {
      "cell_type": "code",
      "source": [
        "### acqFunc attribute x, stddev: run number = 10\n",
        "\n",
        "acqFuncApprox_exact_10 = acqFuncApprox(exact_10.history)\n",
        "acqFuncExact_exact_10 = acqFuncExact(exact_10.history)\n",
        "\n",
        "e10 = np.std(acqFuncExact_exact_10)\n",
        "a10 = np.std(acqFuncApprox_exact_10)\n",
        "\n",
        "e10, a10\n"
      ],
      "metadata": {
        "id": "W5GZo6k3Gtx8",
        "colab": {
          "base_uri": "https://localhost:8080/"
        },
        "outputId": "b415e5b4-a8ef-4c6f-ff11-f954e038f2d2"
      },
      "execution_count": 109,
      "outputs": [
        {
          "output_type": "execute_result",
          "data": {
            "text/plain": [
              "(0.4328256620250109, 0.5975916965434205)"
            ]
          },
          "metadata": {},
          "execution_count": 109
        }
      ]
    },
    {
      "cell_type": "code",
      "source": [
        "### acqFunc attribute x, stddev: run number = 11\n",
        "\n",
        "acqFuncApprox_exact_11 = acqFuncApprox(exact_11.history)\n",
        "acqFuncExact_exact_11 = acqFuncExact(exact_11.history)\n",
        "\n",
        "e11 = np.std(acqFuncExact_exact_11)\n",
        "a11 = np.std(acqFuncApprox_exact_11)\n",
        "\n",
        "e11, a11\n"
      ],
      "metadata": {
        "id": "isKNhDk5Gt9D",
        "colab": {
          "base_uri": "https://localhost:8080/"
        },
        "outputId": "758fbd8f-6dec-4aaf-f2d7-13bfc5417a1a"
      },
      "execution_count": 110,
      "outputs": [
        {
          "output_type": "execute_result",
          "data": {
            "text/plain": [
              "(0.4335309970037541, 0.3679298328462994)"
            ]
          },
          "metadata": {},
          "execution_count": 110
        }
      ]
    },
    {
      "cell_type": "code",
      "source": [
        "### acqFunc attribute x, stddev: run number = 12\n",
        "\n",
        "acqFuncApprox_exact_12 = acqFuncApprox(exact_12.history)\n",
        "acqFuncExact_exact_12 = acqFuncExact(exact_12.history)\n",
        "\n",
        "e12 = np.std(acqFuncExact_exact_12)\n",
        "a12 = np.std(acqFuncApprox_exact_12)\n",
        "\n",
        "e12, a12\n"
      ],
      "metadata": {
        "id": "8ts-wrSuGuIm",
        "colab": {
          "base_uri": "https://localhost:8080/"
        },
        "outputId": "8b523678-7e76-4b80-844e-f35511a828ed"
      },
      "execution_count": 111,
      "outputs": [
        {
          "output_type": "execute_result",
          "data": {
            "text/plain": [
              "(0.5125675215833049, 0.5554906943425064)"
            ]
          },
          "metadata": {},
          "execution_count": 111
        }
      ]
    },
    {
      "cell_type": "code",
      "source": [
        "### acqFunc attribute x, stddev: run number = 13\n",
        "\n",
        "acqFuncApprox_exact_13 = acqFuncApprox(exact_13.history)\n",
        "acqFuncExact_exact_13 = acqFuncExact(exact_13.history)\n",
        "\n",
        "e13 = np.std(acqFuncExact_exact_13)\n",
        "a13 = np.std(acqFuncApprox_exact_13)\n",
        "\n",
        "e13, a13\n"
      ],
      "metadata": {
        "id": "n0drhEe3GuUL",
        "colab": {
          "base_uri": "https://localhost:8080/"
        },
        "outputId": "51f94343-f706-4ba5-a92d-49e47b8273b0"
      },
      "execution_count": 112,
      "outputs": [
        {
          "output_type": "execute_result",
          "data": {
            "text/plain": [
              "(0.40629536762356366, 0.5344136036510206)"
            ]
          },
          "metadata": {},
          "execution_count": 112
        }
      ]
    },
    {
      "cell_type": "code",
      "source": [
        "### acqFunc attribute x, stddev: run number = 14\n",
        "\n",
        "acqFuncApprox_exact_14 = acqFuncApprox(exact_14.history)\n",
        "acqFuncExact_exact_14 = acqFuncExact(exact_14.history)\n",
        "\n",
        "e14 = np.std(acqFuncExact_exact_14)\n",
        "a14 = np.std(acqFuncApprox_exact_14)\n",
        "\n",
        "e14, a14\n"
      ],
      "metadata": {
        "id": "R0W3MZaVGues",
        "colab": {
          "base_uri": "https://localhost:8080/"
        },
        "outputId": "b84ffae5-f9c6-4eed-8663-b56c34521562"
      },
      "execution_count": 113,
      "outputs": [
        {
          "output_type": "execute_result",
          "data": {
            "text/plain": [
              "(0.39556464862247326, 0.5829069804518769)"
            ]
          },
          "metadata": {},
          "execution_count": 113
        }
      ]
    },
    {
      "cell_type": "code",
      "source": [
        "### acqFunc attribute x, stddev: run number = 15\n",
        "\n",
        "acqFuncApprox_exact_15 = acqFuncApprox(exact_15.history)\n",
        "acqFuncExact_exact_15 = acqFuncExact(exact_15.history)\n",
        "\n",
        "e15 = np.std(acqFuncExact_exact_15)\n",
        "a15 = np.std(acqFuncApprox_exact_15)\n",
        "\n",
        "e15, a15\n"
      ],
      "metadata": {
        "id": "DoXdDFHoGup-",
        "colab": {
          "base_uri": "https://localhost:8080/"
        },
        "outputId": "2f45d2b1-6d48-4501-b9ed-3e9c3187b75c"
      },
      "execution_count": 114,
      "outputs": [
        {
          "output_type": "execute_result",
          "data": {
            "text/plain": [
              "(0.5435413520811432, 0.5738877514720558)"
            ]
          },
          "metadata": {},
          "execution_count": 114
        }
      ]
    },
    {
      "cell_type": "code",
      "source": [
        "### acqFunc attribute x, stddev: run number = 16\n",
        "\n",
        "acqFuncApprox_exact_16 = acqFuncApprox(exact_16.history)\n",
        "acqFuncExact_exact_16 = acqFuncExact(exact_16.history)\n",
        "\n",
        "e16 = np.std(acqFuncExact_exact_16)\n",
        "a16 = np.std(acqFuncApprox_exact_16)\n",
        "\n",
        "e16, a16\n"
      ],
      "metadata": {
        "id": "K_wAeqSoGu2j",
        "colab": {
          "base_uri": "https://localhost:8080/"
        },
        "outputId": "b2115024-002e-4f9c-dee7-14a93634798d"
      },
      "execution_count": 115,
      "outputs": [
        {
          "output_type": "execute_result",
          "data": {
            "text/plain": [
              "(0.46280432111397224, 0.4455655440364377)"
            ]
          },
          "metadata": {},
          "execution_count": 115
        }
      ]
    },
    {
      "cell_type": "code",
      "source": [
        "### acqFunc attribute x, stddev: run number = 17\n",
        "\n",
        "acqFuncApprox_exact_17 = acqFuncApprox(exact_17.history)\n",
        "acqFuncExact_exact_17 = acqFuncExact(exact_17.history)\n",
        "\n",
        "e17 = np.std(acqFuncExact_exact_17)\n",
        "a17 = np.std(acqFuncApprox_exact_17)\n",
        "\n",
        "e17, a17\n"
      ],
      "metadata": {
        "id": "n6zy78fjGvBT",
        "colab": {
          "base_uri": "https://localhost:8080/"
        },
        "outputId": "149da3a3-3806-469a-8f6b-b6c2405c5860"
      },
      "execution_count": 116,
      "outputs": [
        {
          "output_type": "execute_result",
          "data": {
            "text/plain": [
              "(0.4352228585656611, 0.6093202529328497)"
            ]
          },
          "metadata": {},
          "execution_count": 116
        }
      ]
    },
    {
      "cell_type": "code",
      "source": [
        "### acqFunc attribute x, stddev: run number = 18\n",
        "\n",
        "acqFuncApprox_exact_18 = acqFuncApprox(exact_18.history)\n",
        "acqFuncExact_exact_18 = acqFuncExact(exact_18.history)\n",
        "\n",
        "e18 = np.std(acqFuncExact_exact_18)\n",
        "a18 = np.std(acqFuncApprox_exact_18)\n",
        "\n",
        "e18, a18\n"
      ],
      "metadata": {
        "id": "s_6_2K4iGvM-",
        "colab": {
          "base_uri": "https://localhost:8080/"
        },
        "outputId": "525014ab-3f26-4802-eea8-1172f9e7ad72"
      },
      "execution_count": 117,
      "outputs": [
        {
          "output_type": "execute_result",
          "data": {
            "text/plain": [
              "(0.5784264077028081, 0.9433112397942293)"
            ]
          },
          "metadata": {},
          "execution_count": 117
        }
      ]
    },
    {
      "cell_type": "code",
      "source": [
        "### acqFunc attribute x, stddev: run number = 19\n",
        "\n",
        "acqFuncApprox_exact_19 = acqFuncApprox(exact_19.history)\n",
        "acqFuncExact_exact_19 = acqFuncExact(exact_19.history)\n",
        "\n",
        "e19 = np.std(acqFuncExact_exact_19)\n",
        "a19 = np.std(acqFuncApprox_exact_19)\n",
        "\n",
        "e19, a19\n"
      ],
      "metadata": {
        "id": "o8oO8pdBGvYk",
        "colab": {
          "base_uri": "https://localhost:8080/"
        },
        "outputId": "9a8a9005-4c6c-4923-a646-0489ccd2d0fd"
      },
      "execution_count": 118,
      "outputs": [
        {
          "output_type": "execute_result",
          "data": {
            "text/plain": [
              "(0.3773203047485883, 0.59393494541453)"
            ]
          },
          "metadata": {},
          "execution_count": 118
        }
      ]
    },
    {
      "cell_type": "code",
      "source": [
        "### acqFunc attribute x, stddev: run number = 20\n",
        "\n",
        "acqFuncApprox_exact_20 = acqFuncApprox(exact_20.history)\n",
        "acqFuncExact_exact_20 = acqFuncExact(exact_20.history)\n",
        "\n",
        "e20 = np.std(acqFuncExact_exact_20)\n",
        "a20 = np.std(acqFuncApprox_exact_20)\n",
        "\n",
        "e20, a20\n"
      ],
      "metadata": {
        "id": "b2w8oLc0IMzU",
        "colab": {
          "base_uri": "https://localhost:8080/"
        },
        "outputId": "ceebd6b5-d31f-42a6-a80b-060a22febf1a"
      },
      "execution_count": 119,
      "outputs": [
        {
          "output_type": "execute_result",
          "data": {
            "text/plain": [
              "(0.4670142512054806, 0.6729488939307404)"
            ]
          },
          "metadata": {},
          "execution_count": 119
        }
      ]
    },
    {
      "cell_type": "code",
      "source": [
        "### Summarize arrays: \n",
        "\n",
        "exact_stddev = np.sort([e1,e2,e3,e4,e5,e6,e7,e8,e9,e10,e11,e12,e13,e14,e15,e16,e17,e18,e19,e20])\n",
        "approx_stddev = np.sort([a1,a2,a3,a4,a5,a6,a7,a8,a9,a10,a11,a12,a13,a14,a15,a16,a17,a18,a19,a20])\n",
        "\n",
        "np.mean(exact_stddev), np.mean(approx_stddev)\n"
      ],
      "metadata": {
        "id": "qAZs3yxMIZul",
        "colab": {
          "base_uri": "https://localhost:8080/"
        },
        "outputId": "49dbec27-f5ae-45b4-fa7a-bd34098fcf69"
      },
      "execution_count": 120,
      "outputs": [
        {
          "output_type": "execute_result",
          "data": {
            "text/plain": [
              "(0.4446640701686039, 0.5974544054100709)"
            ]
          },
          "metadata": {},
          "execution_count": 120
        }
      ]
    },
    {
      "cell_type": "code",
      "source": [
        "### Visualise!\n",
        "\n",
        "title = func\n",
        "plt.figure()\n",
        "\n",
        "plt.plot(approx_stddev, color = 'Green', ls='--', label='Average $\\sigma$, attribute $\\mathbf{x}$: Approx STP ERM gradients')\n",
        "plt.plot(exact_stddev, color = 'Blue', ls='-', label='Average $\\sigma$, attribute $\\mathbf{x}$: Exact STP dERM gradients')\n",
        "\n",
        "plt.title(title, weight = 'bold')\n",
        "plt.xlabel('Experiment(s)', weight = 'bold')\n",
        "plt.ylabel('STP ERM: Average $\\sigma$, attribute $\\mathbf{x}$', weight = 'bold') \n",
        "plt.legend(loc=0) # add plot legend\n",
        "\n",
        "### Make the x-ticks integers, not floats:\n",
        "count = len(xstar)\n",
        "plt.xticks(np.arange(count), np.arange(1, count))\n",
        "plt.show() #visualize!\n"
      ],
      "metadata": {
        "id": "e_kpqYcMIZxu",
        "colab": {
          "base_uri": "https://localhost:8080/",
          "height": 295
        },
        "outputId": "e7839494-fac0-4abe-c3e6-1a183233f377"
      },
      "execution_count": 121,
      "outputs": [
        {
          "output_type": "display_data",
          "data": {
            "text/plain": [
              "<Figure size 432x288 with 1 Axes>"
            ],
            "image/png": "[encoded data removed]"
          },
          "metadata": {
            "needs_background": "light"
          }
        }
      ]
    },
    {
      "cell_type": "code",
      "source": [],
      "metadata": {
        "id": "LToGd4vZIZ3I"
      },
      "execution_count": 121,
      "outputs": []
    }
  ],
  "metadata": {
    "colab": {
      "collapsed_sections": [],
      "provenance": []
    },
    "kernelspec": {
      "display_name": "Python 3",
      "name": "python3"
    },
    "language_info": {
      "name": "python"
    }
  },
  "nbformat": 4,
  "nbformat_minor": 0
}