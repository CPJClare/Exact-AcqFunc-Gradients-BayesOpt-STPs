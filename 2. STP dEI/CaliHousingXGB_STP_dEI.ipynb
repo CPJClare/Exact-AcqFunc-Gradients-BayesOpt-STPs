{
  "nbformat": 4,
  "nbformat_minor": 0,
  "metadata": {
    "colab": {
      "provenance": [],
      "collapsed_sections": []
    },
    "kernelspec": {
      "name": "python3",
      "display_name": "Python 3"
    }
  },
  "cells": [
    {
      "cell_type": "markdown",
      "metadata": {
        "id": "W9wHutsqZUcn"
      },
      "source": [
        "XGBoost Regression - 'real-world' example: Californian Housing Dataset\n",
        "\n",
        "https://scikit-learn.org/stable/datasets/real_world.html#california-housing-dataset"
      ]
    },
    {
      "cell_type": "code",
      "metadata": {
        "id": "X-0Pe1i4Z2R_",
        "colab": {
          "base_uri": "https://localhost:8080/"
        },
        "outputId": "afd49b35-e944-4a6c-b89a-32693db92b3e"
      },
      "source": [
        "!pip install pyGPGO"
      ],
      "execution_count": null,
      "outputs": [
        {
          "output_type": "stream",
          "name": "stdout",
          "text": [
            "Looking in indexes: https://pypi.org/simple, https://us-python.pkg.dev/colab-wheels/public/simple/\n",
            "Requirement already satisfied: pyGPGO in /usr/local/lib/python3.7/dist-packages (0.5.1)\n",
            "Requirement already satisfied: pyMC3 in /usr/local/lib/python3.7/dist-packages (from pyGPGO) (3.11.5)\n",
            "Requirement already satisfied: numpy in /usr/local/lib/python3.7/dist-packages (from pyGPGO) (1.21.6)\n",
            "Requirement already satisfied: Theano-PyMC in /usr/local/lib/python3.7/dist-packages (from pyGPGO) (1.1.2)\n",
            "Requirement already satisfied: joblib in /usr/local/lib/python3.7/dist-packages (from pyGPGO) (1.1.0)\n",
            "Requirement already satisfied: scikit-learn in /usr/local/lib/python3.7/dist-packages (from pyGPGO) (1.0.2)\n",
            "Requirement already satisfied: mkl in /usr/local/lib/python3.7/dist-packages (from pyGPGO) (2019.0)\n",
            "Requirement already satisfied: scipy in /usr/local/lib/python3.7/dist-packages (from pyGPGO) (1.7.3)\n",
            "Requirement already satisfied: intel-openmp in /usr/local/lib/python3.7/dist-packages (from mkl->pyGPGO) (2022.1.0)\n",
            "Requirement already satisfied: dill in /usr/local/lib/python3.7/dist-packages (from pyMC3->pyGPGO) (0.3.5.1)\n",
            "Requirement already satisfied: cachetools>=4.2.1 in /usr/local/lib/python3.7/dist-packages (from pyMC3->pyGPGO) (4.2.4)\n",
            "Requirement already satisfied: semver>=2.13.0 in /usr/local/lib/python3.7/dist-packages (from pyMC3->pyGPGO) (2.13.0)\n",
            "Requirement already satisfied: fastprogress>=0.2.0 in /usr/local/lib/python3.7/dist-packages (from pyMC3->pyGPGO) (1.0.3)\n",
            "Requirement already satisfied: patsy>=0.5.1 in /usr/local/lib/python3.7/dist-packages (from pyMC3->pyGPGO) (0.5.2)\n",
            "Requirement already satisfied: deprecat in /usr/local/lib/python3.7/dist-packages (from pyMC3->pyGPGO) (2.1.1)\n",
            "Requirement already satisfied: pandas>=0.24.0 in /usr/local/lib/python3.7/dist-packages (from pyMC3->pyGPGO) (1.3.5)\n",
            "Requirement already satisfied: typing-extensions>=3.7.4 in /usr/local/lib/python3.7/dist-packages (from pyMC3->pyGPGO) (4.1.1)\n",
            "Requirement already satisfied: arviz>=0.11.0 in /usr/local/lib/python3.7/dist-packages (from pyMC3->pyGPGO) (0.12.1)\n",
            "Requirement already satisfied: filelock in /usr/local/lib/python3.7/dist-packages (from Theano-PyMC->pyGPGO) (3.8.0)\n",
            "Requirement already satisfied: setuptools>=38.4 in /usr/local/lib/python3.7/dist-packages (from arviz>=0.11.0->pyMC3->pyGPGO) (57.4.0)\n",
            "Requirement already satisfied: netcdf4 in /usr/local/lib/python3.7/dist-packages (from arviz>=0.11.0->pyMC3->pyGPGO) (1.6.0)\n",
            "Requirement already satisfied: matplotlib>=3.0 in /usr/local/lib/python3.7/dist-packages (from arviz>=0.11.0->pyMC3->pyGPGO) (3.2.2)\n",
            "Requirement already satisfied: xarray>=0.16.1 in /usr/local/lib/python3.7/dist-packages (from arviz>=0.11.0->pyMC3->pyGPGO) (0.20.2)\n",
            "Requirement already satisfied: xarray-einstats>=0.2 in /usr/local/lib/python3.7/dist-packages (from arviz>=0.11.0->pyMC3->pyGPGO) (0.2.2)\n",
            "Requirement already satisfied: packaging in /usr/local/lib/python3.7/dist-packages (from arviz>=0.11.0->pyMC3->pyGPGO) (21.3)\n",
            "Requirement already satisfied: kiwisolver>=1.0.1 in /usr/local/lib/python3.7/dist-packages (from matplotlib>=3.0->arviz>=0.11.0->pyMC3->pyGPGO) (1.4.4)\n",
            "Requirement already satisfied: cycler>=0.10 in /usr/local/lib/python3.7/dist-packages (from matplotlib>=3.0->arviz>=0.11.0->pyMC3->pyGPGO) (0.11.0)\n",
            "Requirement already satisfied: python-dateutil>=2.1 in /usr/local/lib/python3.7/dist-packages (from matplotlib>=3.0->arviz>=0.11.0->pyMC3->pyGPGO) (2.8.2)\n",
            "Requirement already satisfied: pyparsing!=2.0.4,!=2.1.2,!=2.1.6,>=2.0.1 in /usr/local/lib/python3.7/dist-packages (from matplotlib>=3.0->arviz>=0.11.0->pyMC3->pyGPGO) (3.0.9)\n",
            "Requirement already satisfied: pytz>=2017.3 in /usr/local/lib/python3.7/dist-packages (from pandas>=0.24.0->pyMC3->pyGPGO) (2022.2.1)\n",
            "Requirement already satisfied: six in /usr/local/lib/python3.7/dist-packages (from patsy>=0.5.1->pyMC3->pyGPGO) (1.15.0)\n",
            "Requirement already satisfied: importlib-metadata in /usr/local/lib/python3.7/dist-packages (from xarray>=0.16.1->arviz>=0.11.0->pyMC3->pyGPGO) (4.12.0)\n",
            "Requirement already satisfied: wrapt<2,>=1.10 in /usr/local/lib/python3.7/dist-packages (from deprecat->pyMC3->pyGPGO) (1.14.1)\n",
            "Requirement already satisfied: zipp>=0.5 in /usr/local/lib/python3.7/dist-packages (from importlib-metadata->xarray>=0.16.1->arviz>=0.11.0->pyMC3->pyGPGO) (3.8.1)\n",
            "Requirement already satisfied: cftime in /usr/local/lib/python3.7/dist-packages (from netcdf4->arviz>=0.11.0->pyMC3->pyGPGO) (1.6.1)\n",
            "Requirement already satisfied: threadpoolctl>=2.0.0 in /usr/local/lib/python3.7/dist-packages (from scikit-learn->pyGPGO) (3.1.0)\n"
          ]
        }
      ]
    },
    {
      "cell_type": "code",
      "metadata": {
        "id": "W7zDTf1naBsH"
      },
      "source": [
        "# Load some default Python modules:\n",
        "\n",
        "import numpy as np\n",
        "import scipy as sp\n",
        "import pandas as pd\n",
        "import matplotlib.pyplot as plt\n",
        "import xgboost as xgb\n",
        "import time\n",
        "\n",
        "from matplotlib.pyplot import rc\n",
        "rc('font',**{'family':'sans-serif','sans-serif':['Helvetica']})\n",
        "rc('text', usetex=False)\n",
        "import seaborn as sns\n",
        "plt.style.use('seaborn-whitegrid')\n",
        "\n",
        "from collections import OrderedDict\n",
        "from joblib import Parallel, delayed\n",
        "from numpy.linalg import slogdet, inv, cholesky, solve\n",
        "from scipy.optimize import minimize\n",
        "from scipy.spatial.distance import cdist\n",
        "from scipy.special import gamma\n",
        "from scipy.stats import t\n",
        "from joblib import Parallel, delayed\n",
        "import itertools\n",
        "\n",
        "from pyGPGO.logger import EventLogger\n",
        "from pyGPGO.GPGO import GPGO\n",
        "from pyGPGO.surrogates.tStudentProcess import tStudentProcess\n",
        "from pyGPGO.acquisition import Acquisition\n",
        "from pyGPGO.covfunc import squaredExponential\n",
        "from sklearn.model_selection import cross_val_score, train_test_split\n",
        "from sklearn.metrics import mean_squared_error\n",
        "from xgboost import XGBRegressor\n",
        "from pandas_datareader import data\n",
        "\n",
        "import warnings\n",
        "import random\n",
        "warnings.filterwarnings(\"ignore\", category=FutureWarning)\n",
        "warnings.filterwarnings(\"ignore\", category=RuntimeWarning)\n",
        "warnings.filterwarnings(\"ignore\", category=UserWarning)"
      ],
      "execution_count": null,
      "outputs": []
    },
    {
      "cell_type": "code",
      "metadata": {
        "id": "VXicekJhaE0P"
      },
      "source": [
        "# Read data in pandas dataframe:\n",
        "df_train =  pd.read_csv('/content/sample_data/california_housing_train.csv')\n"
      ],
      "execution_count": null,
      "outputs": []
    },
    {
      "cell_type": "code",
      "metadata": {
        "id": "YQ0mDzt_cBmw",
        "colab": {
          "base_uri": "https://localhost:8080/",
          "height": 270
        },
        "outputId": "a908119b-1109-42e8-cd21-c01da0fa723c"
      },
      "source": [
        "# List first rows:\n",
        "\n",
        "df_train.head()"
      ],
      "execution_count": null,
      "outputs": [
        {
          "output_type": "execute_result",
          "data": {
            "text/plain": [
              "   longitude  latitude  housing_median_age  total_rooms  total_bedrooms  \\\n",
              "0    -114.31     34.19                15.0       5612.0          1283.0   \n",
              "1    -114.47     34.40                19.0       7650.0          1901.0   \n",
              "2    -114.56     33.69                17.0        720.0           174.0   \n",
              "3    -114.57     33.64                14.0       1501.0           337.0   \n",
              "4    -114.57     33.57                20.0       1454.0           326.0   \n",
              "\n",
              "   population  households  median_income  median_house_value  \n",
              "0      1015.0       472.0         1.4936             66900.0  \n",
              "1      1129.0       463.0         1.8200             80100.0  \n",
              "2       333.0       117.0         1.6509             85700.0  \n",
              "3       515.0       226.0         3.1917             73400.0  \n",
              "4       624.0       262.0         1.9250             65500.0  "
            ],
            "text/html": [
              "\n",
              "  <div id=\"df-60b5318d-20e8-4789-aaeb-b7b12d56f475\">\n",
              "    <div class=\"colab-df-container\">\n",
              "      <div>\n",
              "<style scoped>\n",
              "    .dataframe tbody tr th:only-of-type {\n",
              "        vertical-align: middle;\n",
              "    }\n",
              "\n",
              "    .dataframe tbody tr th {\n",
              "        vertical-align: top;\n",
              "    }\n",
              "\n",
              "    .dataframe thead th {\n",
              "        text-align: right;\n",
              "    }\n",
              "</style>\n",
              "<table border=\"1\" class=\"dataframe\">\n",
              "  <thead>\n",
              "    <tr style=\"text-align: right;\">\n",
              "      <th></th>\n",
              "      <th>longitude</th>\n",
              "      <th>latitude</th>\n",
              "      <th>housing_median_age</th>\n",
              "      <th>total_rooms</th>\n",
              "      <th>total_bedrooms</th>\n",
              "      <th>population</th>\n",
              "      <th>households</th>\n",
              "      <th>median_income</th>\n",
              "      <th>median_house_value</th>\n",
              "    </tr>\n",
              "  </thead>\n",
              "  <tbody>\n",
              "    <tr>\n",
              "      <th>0</th>\n",
              "      <td>-114.31</td>\n",
              "      <td>34.19</td>\n",
              "      <td>15.0</td>\n",
              "      <td>5612.0</td>\n",
              "      <td>1283.0</td>\n",
              "      <td>1015.0</td>\n",
              "      <td>472.0</td>\n",
              "      <td>1.4936</td>\n",
              "      <td>66900.0</td>\n",
              "    </tr>\n",
              "    <tr>\n",
              "      <th>1</th>\n",
              "      <td>-114.47</td>\n",
              "      <td>34.40</td>\n",
              "      <td>19.0</td>\n",
              "      <td>7650.0</td>\n",
              "      <td>1901.0</td>\n",
              "      <td>1129.0</td>\n",
              "      <td>463.0</td>\n",
              "      <td>1.8200</td>\n",
              "      <td>80100.0</td>\n",
              "    </tr>\n",
              "    <tr>\n",
              "      <th>2</th>\n",
              "      <td>-114.56</td>\n",
              "      <td>33.69</td>\n",
              "      <td>17.0</td>\n",
              "      <td>720.0</td>\n",
              "      <td>174.0</td>\n",
              "      <td>333.0</td>\n",
              "      <td>117.0</td>\n",
              "      <td>1.6509</td>\n",
              "      <td>85700.0</td>\n",
              "    </tr>\n",
              "    <tr>\n",
              "      <th>3</th>\n",
              "      <td>-114.57</td>\n",
              "      <td>33.64</td>\n",
              "      <td>14.0</td>\n",
              "      <td>1501.0</td>\n",
              "      <td>337.0</td>\n",
              "      <td>515.0</td>\n",
              "      <td>226.0</td>\n",
              "      <td>3.1917</td>\n",
              "      <td>73400.0</td>\n",
              "    </tr>\n",
              "    <tr>\n",
              "      <th>4</th>\n",
              "      <td>-114.57</td>\n",
              "      <td>33.57</td>\n",
              "      <td>20.0</td>\n",
              "      <td>1454.0</td>\n",
              "      <td>326.0</td>\n",
              "      <td>624.0</td>\n",
              "      <td>262.0</td>\n",
              "      <td>1.9250</td>\n",
              "      <td>65500.0</td>\n",
              "    </tr>\n",
              "  </tbody>\n",
              "</table>\n",
              "</div>\n",
              "      <button class=\"colab-df-convert\" onclick=\"convertToInteractive('df-60b5318d-20e8-4789-aaeb-b7b12d56f475')\"\n",
              "              title=\"Convert this dataframe to an interactive table.\"\n",
              "              style=\"display:none;\">\n",
              "        \n",
              "  <svg xmlns=\"http://www.w3.org/2000/svg\" height=\"24px\"viewBox=\"0 0 24 24\"\n",
              "       width=\"24px\">\n",
              "    <path d=\"M0 0h24v24H0V0z\" fill=\"none\"/>\n",
              "    <path d=\"M18.56 5.44l.94 2.06.94-2.06 2.06-.94-2.06-.94-.94-2.06-.94 2.06-2.06.94zm-11 1L8.5 8.5l.94-2.06 2.06-.94-2.06-.94L8.5 2.5l-.94 2.06-2.06.94zm10 10l.94 2.06.94-2.06 2.06-.94-2.06-.94-.94-2.06-.94 2.06-2.06.94z\"/><path d=\"M17.41 7.96l-1.37-1.37c-.4-.4-.92-.59-1.43-.59-.52 0-1.04.2-1.43.59L10.3 9.45l-7.72 7.72c-.78.78-.78 2.05 0 2.83L4 21.41c.39.39.9.59 1.41.59.51 0 1.02-.2 1.41-.59l7.78-7.78 2.81-2.81c.8-.78.8-2.07 0-2.86zM5.41 20L4 18.59l7.72-7.72 1.47 1.35L5.41 20z\"/>\n",
              "  </svg>\n",
              "      </button>\n",
              "      \n",
              "  <style>\n",
              "    .colab-df-container {\n",
              "      display:flex;\n",
              "      flex-wrap:wrap;\n",
              "      gap: 12px;\n",
              "    }\n",
              "\n",
              "    .colab-df-convert {\n",
              "      background-color: #E8F0FE;\n",
              "      border: none;\n",
              "      border-radius: 50%;\n",
              "      cursor: pointer;\n",
              "      display: none;\n",
              "      fill: #1967D2;\n",
              "      height: 32px;\n",
              "      padding: 0 0 0 0;\n",
              "      width: 32px;\n",
              "    }\n",
              "\n",
              "    .colab-df-convert:hover {\n",
              "      background-color: #E2EBFA;\n",
              "      box-shadow: 0px 1px 2px rgba(60, 64, 67, 0.3), 0px 1px 3px 1px rgba(60, 64, 67, 0.15);\n",
              "      fill: #174EA6;\n",
              "    }\n",
              "\n",
              "    [theme=dark] .colab-df-convert {\n",
              "      background-color: #3B4455;\n",
              "      fill: #D2E3FC;\n",
              "    }\n",
              "\n",
              "    [theme=dark] .colab-df-convert:hover {\n",
              "      background-color: #434B5C;\n",
              "      box-shadow: 0px 1px 3px 1px rgba(0, 0, 0, 0.15);\n",
              "      filter: drop-shadow(0px 1px 2px rgba(0, 0, 0, 0.3));\n",
              "      fill: #FFFFFF;\n",
              "    }\n",
              "  </style>\n",
              "\n",
              "      <script>\n",
              "        const buttonEl =\n",
              "          document.querySelector('#df-60b5318d-20e8-4789-aaeb-b7b12d56f475 button.colab-df-convert');\n",
              "        buttonEl.style.display =\n",
              "          google.colab.kernel.accessAllowed ? 'block' : 'none';\n",
              "\n",
              "        async function convertToInteractive(key) {\n",
              "          const element = document.querySelector('#df-60b5318d-20e8-4789-aaeb-b7b12d56f475');\n",
              "          const dataTable =\n",
              "            await google.colab.kernel.invokeFunction('convertToInteractive',\n",
              "                                                     [key], {});\n",
              "          if (!dataTable) return;\n",
              "\n",
              "          const docLinkHtml = 'Like what you see? Visit the ' +\n",
              "            '<a target=\"_blank\" href=https://colab.research.google.com/notebooks/data_table.ipynb>data table notebook</a>'\n",
              "            + ' to learn more about interactive tables.';\n",
              "          element.innerHTML = '';\n",
              "          dataTable['output_type'] = 'display_data';\n",
              "          await google.colab.output.renderOutput(dataTable, element);\n",
              "          const docLink = document.createElement('div');\n",
              "          docLink.innerHTML = docLinkHtml;\n",
              "          element.appendChild(docLink);\n",
              "        }\n",
              "      </script>\n",
              "    </div>\n",
              "  </div>\n",
              "  "
            ]
          },
          "metadata": {},
          "execution_count": 4
        }
      ]
    },
    {
      "cell_type": "code",
      "metadata": {
        "id": "KTVDAD2KchTv",
        "colab": {
          "base_uri": "https://localhost:8080/"
        },
        "outputId": "9c0082a3-d107-41bd-baa7-6abcf0ba0026"
      },
      "source": [
        "# Remove missing data:\n",
        "\n",
        "df_train = df_train.dropna(how = 'any', axis = 'rows')\n",
        "print('New size: %d' % len(df_train))"
      ],
      "execution_count": null,
      "outputs": [
        {
          "output_type": "stream",
          "name": "stdout",
          "text": [
            "New size: 17000\n"
          ]
        }
      ]
    },
    {
      "cell_type": "code",
      "metadata": {
        "id": "OXgSHPyYcnuv",
        "colab": {
          "base_uri": "https://localhost:8080/",
          "height": 381
        },
        "outputId": "012f6b27-adca-46c3-9734-0083025c2506"
      },
      "source": [
        "# Histogram fare plot:\n",
        "\n",
        "df_train.median_house_value.hist(bins=100, figsize=(16,5), color = \"red\")\n",
        "plt.xlabel('$ US Dollars', weight = 'bold', family = 'Arial')\n",
        "plt.title('Median Californian House Price', weight = 'bold', family = 'Arial')\n",
        "plt.grid(b=None)"
      ],
      "execution_count": null,
      "outputs": [
        {
          "output_type": "stream",
          "name": "stderr",
          "text": [
            "WARNING:matplotlib.font_manager:findfont: Font family ['Arial'] not found. Falling back to DejaVu Sans.\n",
            "WARNING:matplotlib.font_manager:findfont: Font family ['Arial'] not found. Falling back to DejaVu Sans.\n"
          ]
        },
        {
          "output_type": "display_data",
          "data": {
            "text/plain": [
              "<Figure size 1152x360 with 1 Axes>"
            ],
            "image/png": "[encoded data removed]"
          },
          "metadata": {}
        }
      ]
    },
    {
      "cell_type": "code",
      "metadata": {
        "id": "9TMSdAAjcr4o",
        "colab": {
          "base_uri": "https://localhost:8080/"
        },
        "outputId": "a41fe0b3-73f7-478c-aab2-270498b803c3"
      },
      "source": [
        "y = df_train.median_house_value.values + 1e-10\n",
        "y ### for supervised learning: output vector y"
      ],
      "execution_count": null,
      "outputs": [
        {
          "output_type": "execute_result",
          "data": {
            "text/plain": [
              "array([ 66900.,  80100.,  85700., ..., 103600.,  85800.,  94600.])"
            ]
          },
          "metadata": {},
          "execution_count": 7
        }
      ]
    },
    {
      "cell_type": "code",
      "metadata": {
        "id": "6FOeHvi3cu1n",
        "colab": {
          "base_uri": "https://localhost:8080/",
          "height": 270
        },
        "outputId": "f2a61c7f-7ce2-4d67-b92f-28f3ef54e9d0"
      },
      "source": [
        "# List first rows (post-cleaning):\n",
        "\n",
        "df_train.head()"
      ],
      "execution_count": null,
      "outputs": [
        {
          "output_type": "execute_result",
          "data": {
            "text/plain": [
              "   longitude  latitude  housing_median_age  total_rooms  total_bedrooms  \\\n",
              "0    -114.31     34.19                15.0       5612.0          1283.0   \n",
              "1    -114.47     34.40                19.0       7650.0          1901.0   \n",
              "2    -114.56     33.69                17.0        720.0           174.0   \n",
              "3    -114.57     33.64                14.0       1501.0           337.0   \n",
              "4    -114.57     33.57                20.0       1454.0           326.0   \n",
              "\n",
              "   population  households  median_income  median_house_value  \n",
              "0      1015.0       472.0         1.4936             66900.0  \n",
              "1      1129.0       463.0         1.8200             80100.0  \n",
              "2       333.0       117.0         1.6509             85700.0  \n",
              "3       515.0       226.0         3.1917             73400.0  \n",
              "4       624.0       262.0         1.9250             65500.0  "
            ],
            "text/html": [
              "\n",
              "  <div id=\"df-d0ffa5ba-8090-4c6e-9355-aa5d5c7e1c00\">\n",
              "    <div class=\"colab-df-container\">\n",
              "      <div>\n",
              "<style scoped>\n",
              "    .dataframe tbody tr th:only-of-type {\n",
              "        vertical-align: middle;\n",
              "    }\n",
              "\n",
              "    .dataframe tbody tr th {\n",
              "        vertical-align: top;\n",
              "    }\n",
              "\n",
              "    .dataframe thead th {\n",
              "        text-align: right;\n",
              "    }\n",
              "</style>\n",
              "<table border=\"1\" class=\"dataframe\">\n",
              "  <thead>\n",
              "    <tr style=\"text-align: right;\">\n",
              "      <th></th>\n",
              "      <th>longitude</th>\n",
              "      <th>latitude</th>\n",
              "      <th>housing_median_age</th>\n",
              "      <th>total_rooms</th>\n",
              "      <th>total_bedrooms</th>\n",
              "      <th>population</th>\n",
              "      <th>households</th>\n",
              "      <th>median_income</th>\n",
              "      <th>median_house_value</th>\n",
              "    </tr>\n",
              "  </thead>\n",
              "  <tbody>\n",
              "    <tr>\n",
              "      <th>0</th>\n",
              "      <td>-114.31</td>\n",
              "      <td>34.19</td>\n",
              "      <td>15.0</td>\n",
              "      <td>5612.0</td>\n",
              "      <td>1283.0</td>\n",
              "      <td>1015.0</td>\n",
              "      <td>472.0</td>\n",
              "      <td>1.4936</td>\n",
              "      <td>66900.0</td>\n",
              "    </tr>\n",
              "    <tr>\n",
              "      <th>1</th>\n",
              "      <td>-114.47</td>\n",
              "      <td>34.40</td>\n",
              "      <td>19.0</td>\n",
              "      <td>7650.0</td>\n",
              "      <td>1901.0</td>\n",
              "      <td>1129.0</td>\n",
              "      <td>463.0</td>\n",
              "      <td>1.8200</td>\n",
              "      <td>80100.0</td>\n",
              "    </tr>\n",
              "    <tr>\n",
              "      <th>2</th>\n",
              "      <td>-114.56</td>\n",
              "      <td>33.69</td>\n",
              "      <td>17.0</td>\n",
              "      <td>720.0</td>\n",
              "      <td>174.0</td>\n",
              "      <td>333.0</td>\n",
              "      <td>117.0</td>\n",
              "      <td>1.6509</td>\n",
              "      <td>85700.0</td>\n",
              "    </tr>\n",
              "    <tr>\n",
              "      <th>3</th>\n",
              "      <td>-114.57</td>\n",
              "      <td>33.64</td>\n",
              "      <td>14.0</td>\n",
              "      <td>1501.0</td>\n",
              "      <td>337.0</td>\n",
              "      <td>515.0</td>\n",
              "      <td>226.0</td>\n",
              "      <td>3.1917</td>\n",
              "      <td>73400.0</td>\n",
              "    </tr>\n",
              "    <tr>\n",
              "      <th>4</th>\n",
              "      <td>-114.57</td>\n",
              "      <td>33.57</td>\n",
              "      <td>20.0</td>\n",
              "      <td>1454.0</td>\n",
              "      <td>326.0</td>\n",
              "      <td>624.0</td>\n",
              "      <td>262.0</td>\n",
              "      <td>1.9250</td>\n",
              "      <td>65500.0</td>\n",
              "    </tr>\n",
              "  </tbody>\n",
              "</table>\n",
              "</div>\n",
              "      <button class=\"colab-df-convert\" onclick=\"convertToInteractive('df-d0ffa5ba-8090-4c6e-9355-aa5d5c7e1c00')\"\n",
              "              title=\"Convert this dataframe to an interactive table.\"\n",
              "              style=\"display:none;\">\n",
              "        \n",
              "  <svg xmlns=\"http://www.w3.org/2000/svg\" height=\"24px\"viewBox=\"0 0 24 24\"\n",
              "       width=\"24px\">\n",
              "    <path d=\"M0 0h24v24H0V0z\" fill=\"none\"/>\n",
              "    <path d=\"M18.56 5.44l.94 2.06.94-2.06 2.06-.94-2.06-.94-.94-2.06-.94 2.06-2.06.94zm-11 1L8.5 8.5l.94-2.06 2.06-.94-2.06-.94L8.5 2.5l-.94 2.06-2.06.94zm10 10l.94 2.06.94-2.06 2.06-.94-2.06-.94-.94-2.06-.94 2.06-2.06.94z\"/><path d=\"M17.41 7.96l-1.37-1.37c-.4-.4-.92-.59-1.43-.59-.52 0-1.04.2-1.43.59L10.3 9.45l-7.72 7.72c-.78.78-.78 2.05 0 2.83L4 21.41c.39.39.9.59 1.41.59.51 0 1.02-.2 1.41-.59l7.78-7.78 2.81-2.81c.8-.78.8-2.07 0-2.86zM5.41 20L4 18.59l7.72-7.72 1.47 1.35L5.41 20z\"/>\n",
              "  </svg>\n",
              "      </button>\n",
              "      \n",
              "  <style>\n",
              "    .colab-df-container {\n",
              "      display:flex;\n",
              "      flex-wrap:wrap;\n",
              "      gap: 12px;\n",
              "    }\n",
              "\n",
              "    .colab-df-convert {\n",
              "      background-color: #E8F0FE;\n",
              "      border: none;\n",
              "      border-radius: 50%;\n",
              "      cursor: pointer;\n",
              "      display: none;\n",
              "      fill: #1967D2;\n",
              "      height: 32px;\n",
              "      padding: 0 0 0 0;\n",
              "      width: 32px;\n",
              "    }\n",
              "\n",
              "    .colab-df-convert:hover {\n",
              "      background-color: #E2EBFA;\n",
              "      box-shadow: 0px 1px 2px rgba(60, 64, 67, 0.3), 0px 1px 3px 1px rgba(60, 64, 67, 0.15);\n",
              "      fill: #174EA6;\n",
              "    }\n",
              "\n",
              "    [theme=dark] .colab-df-convert {\n",
              "      background-color: #3B4455;\n",
              "      fill: #D2E3FC;\n",
              "    }\n",
              "\n",
              "    [theme=dark] .colab-df-convert:hover {\n",
              "      background-color: #434B5C;\n",
              "      box-shadow: 0px 1px 3px 1px rgba(0, 0, 0, 0.15);\n",
              "      filter: drop-shadow(0px 1px 2px rgba(0, 0, 0, 0.3));\n",
              "      fill: #FFFFFF;\n",
              "    }\n",
              "  </style>\n",
              "\n",
              "      <script>\n",
              "        const buttonEl =\n",
              "          document.querySelector('#df-d0ffa5ba-8090-4c6e-9355-aa5d5c7e1c00 button.colab-df-convert');\n",
              "        buttonEl.style.display =\n",
              "          google.colab.kernel.accessAllowed ? 'block' : 'none';\n",
              "\n",
              "        async function convertToInteractive(key) {\n",
              "          const element = document.querySelector('#df-d0ffa5ba-8090-4c6e-9355-aa5d5c7e1c00');\n",
              "          const dataTable =\n",
              "            await google.colab.kernel.invokeFunction('convertToInteractive',\n",
              "                                                     [key], {});\n",
              "          if (!dataTable) return;\n",
              "\n",
              "          const docLinkHtml = 'Like what you see? Visit the ' +\n",
              "            '<a target=\"_blank\" href=https://colab.research.google.com/notebooks/data_table.ipynb>data table notebook</a>'\n",
              "            + ' to learn more about interactive tables.';\n",
              "          element.innerHTML = '';\n",
              "          dataTable['output_type'] = 'display_data';\n",
              "          await google.colab.output.renderOutput(dataTable, element);\n",
              "          const docLink = document.createElement('div');\n",
              "          docLink.innerHTML = docLinkHtml;\n",
              "          element.appendChild(docLink);\n",
              "        }\n",
              "      </script>\n",
              "    </div>\n",
              "  </div>\n",
              "  "
            ]
          },
          "metadata": {},
          "execution_count": 8
        }
      ]
    },
    {
      "cell_type": "code",
      "metadata": {
        "id": "n-lT9BBicw4P",
        "colab": {
          "base_uri": "https://localhost:8080/",
          "height": 206
        },
        "outputId": "f6c8be05-a60e-4efa-c488-3f3e5938444b"
      },
      "source": [
        "X = df_train.drop(['median_house_value'], axis = 1)\n",
        "X.head() ### for supervised learning: input matrix X"
      ],
      "execution_count": null,
      "outputs": [
        {
          "output_type": "execute_result",
          "data": {
            "text/plain": [
              "   longitude  latitude  housing_median_age  total_rooms  total_bedrooms  \\\n",
              "0    -114.31     34.19                15.0       5612.0          1283.0   \n",
              "1    -114.47     34.40                19.0       7650.0          1901.0   \n",
              "2    -114.56     33.69                17.0        720.0           174.0   \n",
              "3    -114.57     33.64                14.0       1501.0           337.0   \n",
              "4    -114.57     33.57                20.0       1454.0           326.0   \n",
              "\n",
              "   population  households  median_income  \n",
              "0      1015.0       472.0         1.4936  \n",
              "1      1129.0       463.0         1.8200  \n",
              "2       333.0       117.0         1.6509  \n",
              "3       515.0       226.0         3.1917  \n",
              "4       624.0       262.0         1.9250  "
            ],
            "text/html": [
              "\n",
              "  <div id=\"df-b4b5105b-190f-4529-b179-3ffe32b7750b\">\n",
              "    <div class=\"colab-df-container\">\n",
              "      <div>\n",
              "<style scoped>\n",
              "    .dataframe tbody tr th:only-of-type {\n",
              "        vertical-align: middle;\n",
              "    }\n",
              "\n",
              "    .dataframe tbody tr th {\n",
              "        vertical-align: top;\n",
              "    }\n",
              "\n",
              "    .dataframe thead th {\n",
              "        text-align: right;\n",
              "    }\n",
              "</style>\n",
              "<table border=\"1\" class=\"dataframe\">\n",
              "  <thead>\n",
              "    <tr style=\"text-align: right;\">\n",
              "      <th></th>\n",
              "      <th>longitude</th>\n",
              "      <th>latitude</th>\n",
              "      <th>housing_median_age</th>\n",
              "      <th>total_rooms</th>\n",
              "      <th>total_bedrooms</th>\n",
              "      <th>population</th>\n",
              "      <th>households</th>\n",
              "      <th>median_income</th>\n",
              "    </tr>\n",
              "  </thead>\n",
              "  <tbody>\n",
              "    <tr>\n",
              "      <th>0</th>\n",
              "      <td>-114.31</td>\n",
              "      <td>34.19</td>\n",
              "      <td>15.0</td>\n",
              "      <td>5612.0</td>\n",
              "      <td>1283.0</td>\n",
              "      <td>1015.0</td>\n",
              "      <td>472.0</td>\n",
              "      <td>1.4936</td>\n",
              "    </tr>\n",
              "    <tr>\n",
              "      <th>1</th>\n",
              "      <td>-114.47</td>\n",
              "      <td>34.40</td>\n",
              "      <td>19.0</td>\n",
              "      <td>7650.0</td>\n",
              "      <td>1901.0</td>\n",
              "      <td>1129.0</td>\n",
              "      <td>463.0</td>\n",
              "      <td>1.8200</td>\n",
              "    </tr>\n",
              "    <tr>\n",
              "      <th>2</th>\n",
              "      <td>-114.56</td>\n",
              "      <td>33.69</td>\n",
              "      <td>17.0</td>\n",
              "      <td>720.0</td>\n",
              "      <td>174.0</td>\n",
              "      <td>333.0</td>\n",
              "      <td>117.0</td>\n",
              "      <td>1.6509</td>\n",
              "    </tr>\n",
              "    <tr>\n",
              "      <th>3</th>\n",
              "      <td>-114.57</td>\n",
              "      <td>33.64</td>\n",
              "      <td>14.0</td>\n",
              "      <td>1501.0</td>\n",
              "      <td>337.0</td>\n",
              "      <td>515.0</td>\n",
              "      <td>226.0</td>\n",
              "      <td>3.1917</td>\n",
              "    </tr>\n",
              "    <tr>\n",
              "      <th>4</th>\n",
              "      <td>-114.57</td>\n",
              "      <td>33.57</td>\n",
              "      <td>20.0</td>\n",
              "      <td>1454.0</td>\n",
              "      <td>326.0</td>\n",
              "      <td>624.0</td>\n",
              "      <td>262.0</td>\n",
              "      <td>1.9250</td>\n",
              "    </tr>\n",
              "  </tbody>\n",
              "</table>\n",
              "</div>\n",
              "      <button class=\"colab-df-convert\" onclick=\"convertToInteractive('df-b4b5105b-190f-4529-b179-3ffe32b7750b')\"\n",
              "              title=\"Convert this dataframe to an interactive table.\"\n",
              "              style=\"display:none;\">\n",
              "        \n",
              "  <svg xmlns=\"http://www.w3.org/2000/svg\" height=\"24px\"viewBox=\"0 0 24 24\"\n",
              "       width=\"24px\">\n",
              "    <path d=\"M0 0h24v24H0V0z\" fill=\"none\"/>\n",
              "    <path d=\"M18.56 5.44l.94 2.06.94-2.06 2.06-.94-2.06-.94-.94-2.06-.94 2.06-2.06.94zm-11 1L8.5 8.5l.94-2.06 2.06-.94-2.06-.94L8.5 2.5l-.94 2.06-2.06.94zm10 10l.94 2.06.94-2.06 2.06-.94-2.06-.94-.94-2.06-.94 2.06-2.06.94z\"/><path d=\"M17.41 7.96l-1.37-1.37c-.4-.4-.92-.59-1.43-.59-.52 0-1.04.2-1.43.59L10.3 9.45l-7.72 7.72c-.78.78-.78 2.05 0 2.83L4 21.41c.39.39.9.59 1.41.59.51 0 1.02-.2 1.41-.59l7.78-7.78 2.81-2.81c.8-.78.8-2.07 0-2.86zM5.41 20L4 18.59l7.72-7.72 1.47 1.35L5.41 20z\"/>\n",
              "  </svg>\n",
              "      </button>\n",
              "      \n",
              "  <style>\n",
              "    .colab-df-container {\n",
              "      display:flex;\n",
              "      flex-wrap:wrap;\n",
              "      gap: 12px;\n",
              "    }\n",
              "\n",
              "    .colab-df-convert {\n",
              "      background-color: #E8F0FE;\n",
              "      border: none;\n",
              "      border-radius: 50%;\n",
              "      cursor: pointer;\n",
              "      display: none;\n",
              "      fill: #1967D2;\n",
              "      height: 32px;\n",
              "      padding: 0 0 0 0;\n",
              "      width: 32px;\n",
              "    }\n",
              "\n",
              "    .colab-df-convert:hover {\n",
              "      background-color: #E2EBFA;\n",
              "      box-shadow: 0px 1px 2px rgba(60, 64, 67, 0.3), 0px 1px 3px 1px rgba(60, 64, 67, 0.15);\n",
              "      fill: #174EA6;\n",
              "    }\n",
              "\n",
              "    [theme=dark] .colab-df-convert {\n",
              "      background-color: #3B4455;\n",
              "      fill: #D2E3FC;\n",
              "    }\n",
              "\n",
              "    [theme=dark] .colab-df-convert:hover {\n",
              "      background-color: #434B5C;\n",
              "      box-shadow: 0px 1px 3px 1px rgba(0, 0, 0, 0.15);\n",
              "      filter: drop-shadow(0px 1px 2px rgba(0, 0, 0, 0.3));\n",
              "      fill: #FFFFFF;\n",
              "    }\n",
              "  </style>\n",
              "\n",
              "      <script>\n",
              "        const buttonEl =\n",
              "          document.querySelector('#df-b4b5105b-190f-4529-b179-3ffe32b7750b button.colab-df-convert');\n",
              "        buttonEl.style.display =\n",
              "          google.colab.kernel.accessAllowed ? 'block' : 'none';\n",
              "\n",
              "        async function convertToInteractive(key) {\n",
              "          const element = document.querySelector('#df-b4b5105b-190f-4529-b179-3ffe32b7750b');\n",
              "          const dataTable =\n",
              "            await google.colab.kernel.invokeFunction('convertToInteractive',\n",
              "                                                     [key], {});\n",
              "          if (!dataTable) return;\n",
              "\n",
              "          const docLinkHtml = 'Like what you see? Visit the ' +\n",
              "            '<a target=\"_blank\" href=https://colab.research.google.com/notebooks/data_table.ipynb>data table notebook</a>'\n",
              "            + ' to learn more about interactive tables.';\n",
              "          element.innerHTML = '';\n",
              "          dataTable['output_type'] = 'display_data';\n",
              "          await google.colab.output.renderOutput(dataTable, element);\n",
              "          const docLink = document.createElement('div');\n",
              "          docLink.innerHTML = docLinkHtml;\n",
              "          element.appendChild(docLink);\n",
              "        }\n",
              "      </script>\n",
              "    </div>\n",
              "  </div>\n",
              "  "
            ]
          },
          "metadata": {},
          "execution_count": 9
        }
      ]
    },
    {
      "cell_type": "code",
      "metadata": {
        "id": "2eC8SDPzczNY"
      },
      "source": [
        "### Optimum rmse: regression model objective function is Root Mean Square Error (RMSE); \n",
        "### Should be minimized (as close to zero as possible):\n",
        "\n",
        "y_global_orig = 0"
      ],
      "execution_count": null,
      "outputs": []
    },
    {
      "cell_type": "code",
      "metadata": {
        "id": "GoTmWEhSc1qQ"
      },
      "source": [
        "### Bayesian Optimization - inputs:\n",
        "\n",
        "obj_func = 'XGBoost'\n",
        "n_test = 500 # test points\n",
        "\n",
        "util = 'EI'\n",
        "n_init = 5 # random initialisations\n",
        "opt = True\n",
        "\n",
        "test_perc = 0.1\n",
        "train_perc = 1 - test_perc\n",
        "\n",
        "n_test = int(len(df_train) * test_perc)\n",
        "n_train = int(len(df_train) - n_test)\n",
        "\n",
        "eps = 1e-08\n",
        "\n",
        "df = 3\n"
      ],
      "execution_count": null,
      "outputs": []
    },
    {
      "cell_type": "code",
      "metadata": {
        "id": "W2ngnRxbc7cg"
      },
      "source": [
        "### Objective function:\n",
        "\n",
        "if obj_func == 'XGBoost': # 6-D\n",
        "            \n",
        "    # Constraints:\n",
        "    param_lb_alpha = 0\n",
        "    param_ub_alpha = 10\n",
        "    \n",
        "    param_lb_gamma = 0\n",
        "    param_ub_gamma = 10\n",
        "    \n",
        "    param_lb_max_depth = 5\n",
        "    param_ub_max_depth = 15\n",
        "    \n",
        "    param_lb_min_child_weight = 1\n",
        "    param_ub_min_child_weight = 20\n",
        "    \n",
        "    param_lb_subsample = .5\n",
        "    param_ub_subsample = 1\n",
        "    \n",
        "    param_lb_colsample = .1\n",
        "    param_ub_colsample = 1\n",
        "    \n",
        "    # 6-D inputs' parameter bounds:\n",
        "    param = { 'alpha':  ('cont', (param_lb_alpha, param_ub_alpha)),\n",
        "         'gamma':  ('cont', (param_lb_gamma, param_ub_gamma)),     \n",
        "         'max_depth':  ('int', (param_lb_max_depth, param_ub_max_depth)),\n",
        "         'subsample':  ('cont', (param_lb_subsample, param_ub_subsample)),\n",
        "          'min_child_weight':  ('int', (param_lb_min_child_weight, param_ub_min_child_weight)),\n",
        "            'colsample': ('cont', (param_lb_colsample, param_ub_colsample))\n",
        "        }\n",
        "       \n",
        "    # True y bounds:\n",
        "    dim = 6\n",
        "    \n",
        "    max_iter = 30  # iterations of Bayesian optimization\n",
        "    \n",
        "    operator = 1 \n",
        "    \n",
        "    n_est = 10"
      ],
      "execution_count": null,
      "outputs": []
    },
    {
      "cell_type": "code",
      "metadata": {
        "id": "_3pmZYhVl9Hb"
      },
      "source": [
        "n_start_AcqFunc = max_iter\n"
      ],
      "execution_count": null,
      "outputs": []
    },
    {
      "cell_type": "code",
      "metadata": {
        "id": "PmJsNX29c_xA"
      },
      "source": [
        "### Surrogate derivatives: \n",
        "\n",
        "cov_func = squaredExponential()\n",
        "\n",
        "def kronDelta(X, Xstar):                     # Kronecker's Delta method\n",
        "    return cdist(X, Xstar) < np.finfo(np.float32).eps\n",
        "\n",
        "def se(X, Xstar, sigmaf, l, sigman):         # S.E. kernel method\n",
        "    return sigmaf * np.exp(-0.5 * cdist(X, Xstar) ** 2 / l ** 2) + sigman * kronDelta(X, Xstar)\n",
        "\n",
        "def delta(X, Xstar):                         # Distance between training X and test Xstar vectors\n",
        "    return (X - Xstar)\n",
        "   \n",
        "def der_covmat(X, Xstar, sigmaf, l, sigman): # Covariance matrix derivative terms (i.e. exact, first-order)\n",
        "    nx = len(X)\n",
        "    ny = len(Xstar)\n",
        "    return np.round(np.array([(delta(np.atleast_2d(i), np.atleast_2d(j))[0] * se(np.atleast_2d(i), np.atleast_2d(j), sigmaf, l, sigman)[0]).sum() for (i, j) in itertools.product(X, Xstar)]).reshape(nx, ny), 8)\n",
        "\n",
        "class dtStudentProcess(tStudentProcess):    # Via inheritance, also optimises hyperparameters when opt = TRUE\n",
        "    \n",
        "    def AcqGrad(self, Xstar):               # Method returning exact, first-order derivatives of the STP's posterior mean and standard deviation\n",
        "        Xstar = np.atleast_2d(Xstar)\n",
        "        Kstar = self.covfunc.K(self.X, Xstar).T\n",
        "        dKstar = der_covmat(self.X, Xstar, self.covfunc.sigmaf, self.covfunc.l, self.covfunc.sigman).T\n",
        "        \n",
        "        smd_adj = (self.nu + self.beta1 - 2) / (self.nu + self.n1 - 2)\n",
        "\n",
        "        alpha = np.dot(np.linalg.inv(self.K11 + (self.covfunc.sigman**2) * np.eye(len(self.X))), self.y)\n",
        "        alpha_Kstar = np.dot(np.linalg.inv(self.K11 + (self.covfunc.sigman**2) * np.eye(len(self.X))), Kstar.T)      \n",
        "        \n",
        "        dm = np.dot(dKstar, alpha)\n",
        "        ds = -2 * smd_adj * np.dot(dKstar, alpha_Kstar)\n",
        "        \n",
        "        return dm, ds           \n",
        "        "
      ],
      "execution_count": null,
      "outputs": []
    },
    {
      "cell_type": "code",
      "metadata": {
        "id": "n9ZuEB2VdE0W"
      },
      "source": [
        "### Set-seeds:\n",
        "\n",
        "run_num_1 = 1\n",
        "run_num_2 = 2\n",
        "run_num_3 = 3\n",
        "run_num_4 = 4\n",
        "run_num_5 = 5\n",
        "run_num_6 = 6\n",
        "run_num_7 = 7\n",
        "run_num_8 = 8\n",
        "run_num_9 = 9\n",
        "run_num_10 = 10\n",
        "run_num_11 = 11\n",
        "run_num_12 = 12\n",
        "run_num_13 = 13\n",
        "run_num_14 = 14\n",
        "run_num_15 = 15\n",
        "run_num_16 = 16\n",
        "run_num_17 = 17\n",
        "run_num_18 = 18\n",
        "run_num_19 = 19\n",
        "run_num_20 = 20\n"
      ],
      "execution_count": null,
      "outputs": []
    },
    {
      "cell_type": "code",
      "metadata": {
        "id": "XgHMFEyPdCk4"
      },
      "source": [
        "### Cumulative Regret Calculator:\n",
        "\n",
        "def min_max_array(x):\n",
        "    new_list = []\n",
        "    for i, num in enumerate(x):\n",
        "            new_list.append(np.min(x[0:i+1]))\n",
        "    return new_list\n",
        "    "
      ],
      "execution_count": null,
      "outputs": []
    },
    {
      "cell_type": "code",
      "source": [
        "### Add exact acquisition function gradient as attribute:\n",
        "\n",
        "class Acquisition_grad(Acquisition):    \n",
        "    def __init__(self, mode, eps=eps, **params):\n",
        "        \n",
        "        self.params = params\n",
        "        self.eps = eps\n",
        "\n",
        "        mode_dict = {\n",
        "            'EI': self.EI\n",
        "        }\n",
        "\n",
        "        self.f = mode_dict[mode]\n",
        "    \n",
        "    def EI(self, tau, mean, std, ds, dm, nu=3.0):\n",
        "        gamma = (mean - tau - self.eps) / (std + self.eps)\n",
        "        gamma_h = (mean - tau) / (std + self.eps)\n",
        "        dsdx = ds / (2 * (std + self.eps))\n",
        "        dmdx = (dm - gamma * dsdx) / (std + self.eps)\n",
        "        \n",
        "        f = (std + self.eps) * (gamma * t.cdf(gamma, df=nu) + (nu + gamma ** 2)/(nu - 1) * t.pdf(gamma, df=nu))\n",
        "        df1 = f / (std + self.eps) * dsdx \n",
        "        df2 = (std + self.eps) * (t.cdf(gamma, df=nu) * dmdx + gamma * t.pdf(gamma, df=nu) \\\n",
        "            * (1 - (nu + gamma ** 2)/(nu - 1) + 2/(nu - 1) * dmdx))\n",
        "        df = (df1 + df2)[0]\n",
        "        df_arr = []\n",
        "\n",
        "        for j in range(0, dim):\n",
        "          df_arr.append(df)\n",
        "        return f, np.asarray(df_arr).transpose()\n",
        "        \n",
        "    def d_eval(self, tau, mean, std, ds, dm, nu=3.0):\n",
        "    \n",
        "        return self.f(tau, mean, std, ds, dm, nu=3.0, **self.params)\n",
        "        "
      ],
      "metadata": {
        "id": "ZIh5RYGkwBUZ"
      },
      "execution_count": null,
      "outputs": []
    },
    {
      "cell_type": "code",
      "metadata": {
        "id": "yAK8N5bwfuJ7"
      },
      "source": [
        "## GPGO_multi: \n",
        "\n",
        "class GPGO_multi(GPGO):\n",
        "    n_start = n_start_AcqFunc\n",
        "\n",
        "    def __init__(self, surrogate, acquisition, f, parameter_dict, n_jobs=1):\n",
        "        self.GP = surrogate\n",
        "        self.A = acquisition\n",
        "        self.f = f\n",
        "        self.parameters = parameter_dict\n",
        "        self.n_jobs = n_jobs\n",
        "\n",
        "        self.parameter_key = list(parameter_dict.keys())\n",
        "        self.parameter_value = list(parameter_dict.values())\n",
        "        self.parameter_type = [p[0] for p in self.parameter_value]\n",
        "        self.parameter_range = [p[1] for p in self.parameter_value]\n",
        "\n",
        "        self.history = []\n",
        "        self.header =   'Evaluation \\t Proposed point \\t  Current eval. \\t  Best eval. \\t         Max. ExactAcqFunc \\t Max. ApproxAcqFunc '\n",
        "        self.template = '{:3}\\t {}\\t {:3}\\t {:3}\\t {:3}\\t {:3}'\n",
        " \n",
        "    def acqfuncExact(self, xnew, n_start=n_start_AcqFunc):\n",
        "        new_mean, new_var = self.GP.predict(xnew, return_std=True)\n",
        "        new_std = np.sqrt(new_var + eps)\n",
        "        dm, ds = self.GP.AcqGrad(xnew)\n",
        "        f, df = self.A.d_eval(self.tau, new_mean, new_std, ds=ds, dm=dm, nu=3.0)\n",
        "\n",
        "        return -f, -df\n",
        "   \n",
        "    def acqfuncApprox(self, xnew, n_start=n_start_AcqFunc):\n",
        "        new_mean, new_var = self.GP.predict(xnew, return_std=True)\n",
        "        new_std = np.sqrt(new_var + eps)\n",
        "        dm, ds = self.GP.AcqGrad(xnew)\n",
        "        f, df = self.A.d_eval(self.tau, new_mean, new_std, ds=ds, dm=dm, nu=3.0)\n",
        "\n",
        "        return -f\n",
        "   \n",
        "    def _optimizeAcq(self, method='L-BFGS-B', n_start=n_start_AcqFunc):\n",
        "        \n",
        "        start_points_dict = [self._sampleParam() for i in range(n_start)]\n",
        "        start_points_arr = np.array([list(s.values())\n",
        "                                     for s in start_points_dict])\n",
        "        x_best = np.empty((n_start, len(self.parameter_key)))\n",
        "        f_best = np.empty((n_start,))\n",
        "        opt = Parallel(n_jobs=self.n_jobs)(delayed(minimize)(self.acqfuncApprox,\n",
        "                                                                 x0=start_point,\n",
        "                                                                 method=method,\n",
        "                                                                 jac = False,\n",
        "                                                                 bounds=self.parameter_range) for start_point in\n",
        "                                               start_points_arr)\n",
        "        x_best = np.array([res.x for res in opt])\n",
        "        f_best = np.array([np.atleast_1d(res.fun)[0] for res in opt])\n",
        "        f_best_min = min(f_best)\n",
        "\n",
        "        self.x_best = x_best\n",
        "        self.f_best = f_best\n",
        "        self.f_best_min = f_best_min\n",
        "        self.best = x_best[np.argmin(f_best)]\n",
        "        self.start_points_arr = start_points_arr        \n",
        "        self.history.append(self.f_best_min)\n",
        "\n",
        "        x_best_exact = np.empty((n_start, len(self.parameter_key)))\n",
        "        f_best_exact = np.empty((n_start,))\n",
        "        opt_exact = Parallel(n_jobs=self.n_jobs)(delayed(minimize)(self.acqfuncExact,\n",
        "                                                                 x0=start_point,\n",
        "                                                                 method=method,\n",
        "                                                                 jac = True,\n",
        "                                                                 bounds=self.parameter_range) for start_point in\n",
        "                                               start_points_arr)\n",
        "        x_best_exact = np.array([res.x for res in opt_exact])\n",
        "        f_best_exact = np.array([np.atleast_1d(res.fun)[0] for res in opt_exact])\n",
        "        f_best_min_exact = min(f_best_exact)\n",
        "\n",
        "        self.x_best_exact = x_best_exact\n",
        "        self.f_best_exact = f_best_exact\n",
        "        self.f_best_min_exact = f_best_min_exact\n",
        "        self.best_exact = x_best_exact[np.argmin(f_best_exact)]\n",
        "        self.start_points_arr = start_points_arr\n",
        "        self.history.append(self.f_best_min_exact)\n",
        "\n",
        "    def _printInit(self):\n",
        "        print(self.header)\n",
        "        inverse = -1\n",
        "        for init_eval in range(self.init_evals):\n",
        "            print(self.template.format('init', self.GP.X[init_eval], inverse * self.GP.y[init_eval], inverse * self.tau, '', ''))\n",
        "      \n",
        "    def _printCurrent(self):\n",
        "        OKGREEN = '\\033[92m'\n",
        "        ENDC = '\\033[0m'\n",
        "        BOLD = '\\033[1m'\n",
        "        inverse = -1\n",
        "        eval = str(len(self.GP.y) - self.init_evals)\n",
        "        proposed = str(self.best)\n",
        "        curr_eval = str(inverse * self.GP.y[-1])\n",
        "        curr_best = str(inverse * self.tau)\n",
        "        max_acqfunc = str(inverse * self.f_best_min)\n",
        "        max_acqfunc_exact = str(inverse * self.f_best_min_exact)\n",
        "        if float(curr_eval) <= float(curr_best):\n",
        "            eval = BOLD + OKGREEN + eval + ENDC\n",
        "            proposed = BOLD + OKGREEN + proposed + ENDC\n",
        "            curr_eval = BOLD + OKGREEN + curr_eval + ENDC\n",
        "            curr_best = BOLD + OKGREEN + curr_best + ENDC\n",
        "            max_acqfunc = BOLD + OKGREEN + max_acqfunc + ENDC\n",
        "            max_acqfunc_exact = BOLD + OKGREEN + max_acqfunc_exact + ENDC\n",
        "        print(self.template.format(eval, proposed, curr_eval, curr_best, max_acqfunc_exact, max_acqfunc))\n",
        "        \n",
        "    def run(self, max_iter=10, init_evals=3, resume=False):\n",
        "        \n",
        "        if not resume:\n",
        "            self.init_evals = init_evals\n",
        "            self._firstRun(self.init_evals)\n",
        "            self._printInit()\n",
        "        for iteration in range(max_iter):\n",
        "            self._optimizeAcq()\n",
        "            self.updateGP()\n",
        "            self._printCurrent()\n"
      ],
      "execution_count": null,
      "outputs": []
    },
    {
      "cell_type": "code",
      "metadata": {
        "id": "S422jNLsdIMm"
      },
      "source": [
        "## dGPGO:\n",
        "\n",
        "class dGPGO(GPGO):\n",
        "    n_start = n_start_AcqFunc\n",
        "\n",
        "    def __init__(self, surrogate, acquisition, f, parameter_dict, n_jobs=1):\n",
        "        self.GP = surrogate\n",
        "        self.A = acquisition\n",
        "        self.f = f\n",
        "        self.parameters = parameter_dict\n",
        "        self.n_jobs = n_jobs\n",
        "\n",
        "        self.parameter_key = list(parameter_dict.keys())\n",
        "        self.parameter_value = list(parameter_dict.values())\n",
        "        self.parameter_type = [p[0] for p in self.parameter_value]\n",
        "        self.parameter_range = [p[1] for p in self.parameter_value]\n",
        "\n",
        "        self.history = []\n",
        "        self.header =   'Evaluation \\t Proposed point \\t  Current eval. \\t  Best eval. \\t         Max. ExactAcqFunc \\t Max. ApproxAcqFunc '\n",
        "        self.template = '{:3}\\t {}\\t {:3}\\t {:3}\\t {:3}\\t {:3}'\n",
        "\n",
        "    def acqfuncExact(self, xnew, n_start=n_start_AcqFunc):\n",
        "        new_mean, new_var = self.GP.predict(xnew, return_std=True)\n",
        "        new_std = np.sqrt(new_var + eps)\n",
        "        dm, ds = self.GP.AcqGrad(xnew)\n",
        "        f, df = self.A.d_eval(self.tau, new_mean, new_std, ds=ds, dm=dm, nu=3.0)\n",
        "\n",
        "        return -f, -df\n",
        "   \n",
        "    def acqfuncApprox(self, xnew, n_start=n_start_AcqFunc):\n",
        "        new_mean, new_var = self.GP.predict(xnew, return_std=True)\n",
        "        new_std = np.sqrt(new_var + eps)\n",
        "        dm, ds = self.GP.AcqGrad(xnew)\n",
        "        f, df = self.A.d_eval(self.tau, new_mean, new_std, ds=ds, dm=dm, nu=3.0)\n",
        "\n",
        "        return -f\n",
        "\n",
        "    def d_optimizeAcq(self, method='L-BFGS-B', n_start=n_start_AcqFunc):\n",
        "        start_points_dict = [self._sampleParam() for i in range(n_start)]\n",
        "        start_points_arr = np.array([list(s.values())\n",
        "                                     for s in start_points_dict])\n",
        "        x_best = np.empty((n_start, len(self.parameter_key)))\n",
        "        f_best = np.empty((n_start,))\n",
        "        opt = Parallel(n_jobs=self.n_jobs)(delayed(minimize)(self.acqfuncExact,\n",
        "                                                                 x0=start_point,\n",
        "                                                                 method=method,\n",
        "                                                                 jac = True,\n",
        "                                                                 bounds=self.parameter_range) for start_point in\n",
        "                                               start_points_arr)\n",
        "        x_best = np.array([res.x for res in opt])\n",
        "        f_best = np.array([np.atleast_1d(res.fun)[0] for res in opt])\n",
        "        f_best_min = min(f_best)\n",
        "\n",
        "        self.x_best = x_best\n",
        "        self.f_best = f_best\n",
        "        self.f_best_min = f_best_min\n",
        "        self.best = x_best[np.argmin(f_best)]\n",
        "        self.start_points_arr = start_points_arr\n",
        "        self.history.append(self.f_best_min)\n",
        "\n",
        "        x_best_approx = np.empty((n_start, len(self.parameter_key)))\n",
        "        f_best_approx = np.empty((n_start,))\n",
        "        opt_approx = Parallel(n_jobs=self.n_jobs)(delayed(minimize)(self.acqfuncApprox,\n",
        "                                                                 x0=start_point,\n",
        "                                                                 method=method,\n",
        "                                                                 jac = False,\n",
        "                                                                 bounds=self.parameter_range) for start_point in\n",
        "                                               start_points_arr)\n",
        "        x_best_approx = np.array([res.x for res in opt_approx])\n",
        "        f_best_approx = np.array([np.atleast_1d(res.fun)[0] for res in opt_approx])\n",
        "        f_best_min_approx = min(f_best_approx)\n",
        "\n",
        "        self.x_best_approx = x_best_approx\n",
        "        self.f_best_approx = f_best_approx\n",
        "        self.f_best_min_approx = f_best_min_approx\n",
        "        self.best_approx = x_best_approx[np.argmin(f_best_approx)]\n",
        "        self.start_points_arr = start_points_arr\n",
        "        self.history.append(self.f_best_min_approx)\n",
        "    \n",
        "    def _printInit(self):\n",
        "        print(self.header)\n",
        "        inverse = -1\n",
        "        for init_eval in range(self.init_evals):\n",
        "            print(self.template.format('init', self.GP.X[init_eval], inverse * self.GP.y[init_eval], inverse * self.tau, '', ''))\n",
        "      \n",
        "    def _printCurrent(self):\n",
        "        OKGREEN = '\\033[92m'\n",
        "        ENDC = '\\033[0m'\n",
        "        BOLD = '\\033[1m'\n",
        "        inverse = -1\n",
        "        eval = str(len(self.GP.y) - self.init_evals)\n",
        "        proposed = str(self.best)\n",
        "        curr_eval = str(inverse * self.GP.y[-1])\n",
        "        curr_best = str(inverse * self.tau)\n",
        "        max_acqfunc = str(inverse * self.f_best_min)\n",
        "        max_acqfunc_approx = str(inverse * self.f_best_min_approx)\n",
        "        if float(curr_eval) <= float(curr_best):\n",
        "            eval = BOLD + OKGREEN + eval + ENDC\n",
        "            proposed = BOLD + OKGREEN + proposed + ENDC\n",
        "            curr_eval = BOLD + OKGREEN + curr_eval + ENDC\n",
        "            curr_best = BOLD + OKGREEN + curr_best + ENDC\n",
        "            max_acqfunc = BOLD + OKGREEN + max_acqfunc + ENDC\n",
        "            max_acqfunc_approx = BOLD + OKGREEN + max_acqfunc_approx + ENDC\n",
        "        print(self.template.format(eval, proposed, curr_eval, curr_best, max_acqfunc, max_acqfunc_approx))\n",
        "\n",
        "    def run(self, max_iter=10, init_evals=3, resume=False):\n",
        "        \n",
        "        if not resume:\n",
        "            self.init_evals = init_evals\n",
        "            self._firstRun(self.init_evals)\n",
        "            self._printInit()\n",
        "        for iteration in range(max_iter):\n",
        "            self.d_optimizeAcq()\n",
        "            self.updateGP()\n",
        "            self._printCurrent()\n"
      ],
      "execution_count": null,
      "outputs": []
    },
    {
      "cell_type": "code",
      "metadata": {
        "id": "HlilveEgdIR_",
        "colab": {
          "base_uri": "https://localhost:8080/"
        },
        "outputId": "6916b4a9-8c08-4fb9-fd1b-e8e37a2a73b1"
      },
      "source": [
        "start_approx = time.time()\n",
        "start_approx"
      ],
      "execution_count": null,
      "outputs": [
        {
          "output_type": "execute_result",
          "data": {
            "text/plain": [
              "1663868856.4654555"
            ]
          },
          "metadata": {},
          "execution_count": 20
        }
      ]
    },
    {
      "cell_type": "code",
      "metadata": {
        "id": "1wlzDSHbUG-c",
        "colab": {
          "base_uri": "https://localhost:8080/"
        },
        "outputId": "488c6ff6-56e8-4f41-d48d-c16e43de93d1"
      },
      "source": [
        "### Bayesian optimization runs (x20): 'approx' Acquisition Function run number = 1\n",
        "\n",
        "np.random.seed(run_num_1)\n",
        "surrogate_approx_1 = dtStudentProcess(cov_func, optimize=opt, nu = df)\n",
        "\n",
        "X_train1, X_test1, y_train1, y_test1 = train_test_split(X, y, test_size=test_perc, random_state=run_num_1)\n",
        "\n",
        "def f_syn_polarity1(alpha, gamma, max_depth, subsample, min_child_weight, colsample):\n",
        "    reg = XGBRegressor(reg_alpha=alpha, gamma=gamma, max_depth=int(max_depth), subsample=subsample, min_child_weight=min_child_weight,\n",
        "          colsample_bytree=colsample, n_estimators = n_est, random_state=run_num_1, objective = 'reg:squarederror')\n",
        "    score = np.array(cross_val_score(reg, X=X_train1, y=y_train1).mean())\n",
        "    return operator * score\n",
        "\n",
        "approx_1 = GPGO_multi(surrogate_approx_1, Acquisition_grad(util), f_syn_polarity1, param, n_jobs = -1) # define BayesOpt\n",
        "approx_1.run(max_iter = max_iter, init_evals = n_init) # run\n",
        "\n",
        "### Return optimal parameters' set:\n",
        "params_approx_1 = approx_1.getResult()[0]\n",
        "params_approx_1['max_depth'] = int(params_approx_1['max_depth'])\n",
        "params_approx_1['min_child_weight'] = int(params_approx_1['min_child_weight'])\n",
        "\n",
        "### Re-train with optimal parameters, run predictons:\n",
        "dX_approx_train1 = xgb.DMatrix(X_train1, y_train1)\n",
        "dX_approx_test1 = xgb.DMatrix(X_test1, y_test1)\n",
        "model_approx_1 = xgb.train(params_approx_1, dX_approx_train1)\n",
        "pred_approx_1 = model_approx_1.predict(dX_approx_test1)\n",
        "\n",
        "rmse_approx_1 = np.sqrt(mean_squared_error(pred_approx_1, y_test1))\n",
        "rmse_approx_1"
      ],
      "execution_count": null,
      "outputs": [
        {
          "output_type": "stream",
          "name": "stdout",
          "text": [
            "Evaluation \t Proposed point \t  Current eval. \t  Best eval. \t         Max. ExactAcqFunc \t Max. ApproxAcqFunc \n",
            "init\t [ 4.17022005  7.20324493 14.          0.65116629 16.          0.31248008]\t 0.054121170578294596\t -0.26681477983740615\t    \t    \n",
            "init\t [ 3.96580727  3.87910741 11.          0.96776954  6.          0.71669755]\t -0.22165378680670292\t -0.26681477983740615\t    \t    \n",
            "init\t [ 2.0445225   8.78117436  7.          0.95698101 10.          0.48762871]\t -0.06302724434135558\t -0.26681477983740615\t    \t    \n",
            "init\t [ 9.39127789  7.78389236 14.          0.98413079  2.          0.87851823]\t -0.26681477983740615\t -0.26681477983740615\t    \t    \n",
            "init\t [8.29146907 8.29603359 8.         0.58491521 9.         0.18851215]\t 0.19961365170867312\t -0.26681477983740615\t    \t    \n",
            "1  \t [ 9.08595503  2.93614148 12.          0.55974523  6.          0.1752607 ]\t 0.20648769377989837\t -0.26681477983740615\t 0.026844809940982723\t 0.026844809940982723\n",
            "2  \t [8.44734445 9.05392319 8.         0.71498395 8.         0.81874323]\t -0.2364419304773092\t -0.26681477983740615\t 0.028197680422206158\t 0.028197680422206158\n",
            "3  \t [ 3.61274713  8.16007507 11.          0.84840025 19.          0.76215891]\t -0.2581836712240067\t -0.26681477983740615\t 0.03081546290819742\t 0.03081546290819742\n",
            "4  \t [1.9446581  8.47939392 7.         0.77013047 8.         0.8712317 ]\t -0.22257212965762524\t -0.26681477983740615\t 0.03392298499597968\t 0.03392298499597968\n",
            "5  \t [ 0.96774022  1.46324776 12.          0.76243609  5.          0.33599658]\t 0.055691890162900215\t -0.26681477983740615\t 0.03468757549807932\t 0.03468757549807932\n",
            "6  \t [ 7.36056458  2.99905847 13.          0.67109763 18.          0.52655625]\t -0.15547867118474706\t -0.26681477983740615\t 0.031290987685676695\t 0.031290987685676695\n",
            "7  \t [ 2.05722318  9.92568059 11.          0.85938245  2.          0.31039182]\t 0.05599281146368966\t -0.26681477983740615\t 0.030157422054090798\t 0.030157422054090798\n",
            "8  \t [ 4.89047813  0.23370061 11.          0.76838416 19.          0.70607293]\t -0.22221209109414977\t -0.26681477983740615\t 0.027670867430382655\t 0.027670867430382655\n",
            "9  \t [ 6.20774135  9.49844808 12.          0.96757656  6.          0.4103327 ]\t -0.08136698674653767\t -0.26681477983740615\t 0.028686071170319818\t 0.028686071170319818\n",
            "10 \t [9.47161836 5.35231143 6.         0.51632193 6.         0.43288953]\t -0.04697662578411108\t -0.26681477983740615\t 0.026871606602415422\t 0.026871606602415422\n",
            "11 \t [8.75388738 6.08565437 5.         0.80717485 5.         0.96587039]\t -0.16754953194399003\t -0.26681477983740615\t 0.025030603870900874\t 0.025030603870900874\n",
            "12 \t [6.76356635 2.31703141 5.         0.84148498 5.         0.43949556]\t -0.025545424018074823\t -0.26681477983740615\t 0.0248486332548101\t 0.0248486332548101\n",
            "13 \t [4.13690736 2.14715696 6.         0.52611104 1.         0.96671642]\t -0.1995451023345413\t -0.26681477983740615\t 0.02325438849433677\t 0.02325438849433677\n",
            "14 \t [ 0.99440257  2.23238431 10.          0.58984965 12.          0.68792603]\t -0.21383886154698314\t -0.26681477983740615\t 0.02377606858012485\t 0.02377606858012485\n",
            "15 \t [ 3.69324122  8.14410705 10.99999109  0.84751336 18.99999109  0.77562266]\t -0.25625821044461033\t -0.26681477983740615\t 0.0245313896765686\t 0.03682149143033913\n",
            "16 \t [ 3.71515532  8.65241701 10.61242918  0.74053952 18.61242959  0.64210699]\t -0.2188817196966733\t -0.26681477983740615\t 0.026085590380160013\t 0.03635569282832391\n",
            "17 \t [8.54653513 9.53638754 8.00003069 0.79778692 7.36335726 1.        ]\t -0.24247204427209218\t -0.26681477983740615\t 0.03024310508178222\t 0.046474336851993855\n",
            "18 \t [ 3.55443592  7.92914079 10.2767347   0.75216266 18.98069131  0.72688   ]\t -0.21850075156058235\t -0.26681477983740615\t 0.02412182508286779\t 0.03775402427525921\n",
            "19 \t [8.3475528  8.84237699 7.66740242 0.72155727 7.35518325 1.        ]\t -0.22828708603763231\t -0.26681477983740615\t 0.03272822727887531\t 0.03795056585240939\n",
            "20 \t [ 5.68575652  2.73061603 14.          0.61811388 15.          0.91855302]\t -0.25928426254234144\t -0.26681477983740615\t 0.03274196944760777\t 0.03274196944760777\n",
            "21 \t [ 3.67163466  8.47259782 10.59523152  0.7735967  19.28288746  0.77591011]\t -0.25339849249175994\t -0.26681477983740615\t 0.02424962053789641\t 0.03876945052086886\n",
            "22 \t [ 3.42988222  3.60806268 11.          0.65919672 19.          0.15600267]\t 0.20098501308588856\t -0.26681477983740615\t 0.07497687362099838\t 0.07497687362099838\n",
            "23 \t [ 8.16209219  7.52891617 14.          0.68101158  2.          0.5081048 ]\t -0.13445496090089373\t -0.26681477983740615\t 0.06861756557316272\t 0.06861756557316272\n",
            "24 \t [ 5.68623367  2.73080057 14.          0.6182031  14.99931081  0.91834378]\t -0.2590826863717363\t -0.26681477983740615\t 0.05949013415638423\t 0.06732057167193196\n",
            "25 \t [ 5.642271    2.36433485 14.          0.6219506  14.49117393  0.91848617]\t -0.260574029143305\t -0.26681477983740615\t 0.05536465797414162\t 0.06211057076385688\n",
            "26 \t [ 6.77828696  9.13436598 11.42301888  0.91692362  6.          0.72274819]\t -0.21961075081936343\t -0.26681477983740615\t 0.07191903151525912\t 0.07310819646599331\n",
            "27 \t [8.45904521 9.1977998  7.89437972 0.75329572 7.51668705 0.97157648]\t -0.2267033843249676\t -0.26681477983740615\t 0.05406568599275258\t 0.06689345100157901\n",
            "28 \t [ 3.76763668  8.19912822 10.78153091  0.5        19.1363786   0.1       ]\t 0.20252854994505282\t -0.26681477983740615\t 0.054101561482809445\t 0.0701113960219862\n",
            "29 \t [ 3.46750216  8.35565804 10.63637113  1.         18.87473556  1.        ]\t -0.2632612543202256\t -0.26681477983740615\t 0.08405787090325745\t 0.11355178746746544\n",
            "30 \t [8.96077722 5.87278806 5.28977612 0.7227761  5.29128876 0.81152893]\t -0.16167650709825077\t -0.26681477983740615\t 0.0418417373806362\t 0.04370048468048513\n"
          ]
        },
        {
          "output_type": "execute_result",
          "data": {
            "text/plain": [
              "48973.66312746987"
            ]
          },
          "metadata": {},
          "execution_count": 21
        }
      ]
    },
    {
      "cell_type": "code",
      "metadata": {
        "id": "ClJ9rN2KUJzy",
        "colab": {
          "base_uri": "https://localhost:8080/"
        },
        "outputId": "8dff344b-a392-4099-bd03-bd274f3ea7d0"
      },
      "source": [
        "### Bayesian optimization runs (x20): 'approx' Acquisition Function run number = 2\n",
        "\n",
        "np.random.seed(run_num_2)\n",
        "surrogate_approx_2 = dtStudentProcess(cov_func, optimize=opt, nu = df)\n",
        "\n",
        "X_train2, X_test2, y_train2, y_test2 = train_test_split(X, y, test_size=test_perc, random_state=run_num_2)\n",
        "\n",
        "def f_syn_polarity2(alpha, gamma, max_depth, subsample, min_child_weight, colsample):\n",
        "    reg = XGBRegressor(reg_alpha=alpha, gamma=gamma, max_depth=int(max_depth), subsample=subsample, min_child_weight=min_child_weight,\n",
        "          colsample_bytree=colsample, n_estimators = n_est, random_state=run_num_2, objective = 'reg:squarederror')\n",
        "    score = np.array(cross_val_score(reg, X=X_train2, y=y_train2).mean())\n",
        "    return operator * score\n",
        "\n",
        "approx_2 = GPGO_multi(surrogate_approx_2, Acquisition_grad(util), f_syn_polarity2, param, n_jobs = -1) # define BayesOpt\n",
        "approx_2.run(max_iter = max_iter, init_evals = n_init) # run\n",
        "\n",
        "### Return optimal parameters' set:\n",
        "params_approx_2 = approx_2.getResult()[0]\n",
        "params_approx_2['max_depth'] = int(params_approx_2['max_depth'])\n",
        "params_approx_2['min_child_weight'] = int(params_approx_2['min_child_weight'])\n",
        "\n",
        "### Re-train with optimal parameters, run predictons:\n",
        "dX_approx_train2 = xgb.DMatrix(X_train2, y_train2)\n",
        "dX_approx_test2 = xgb.DMatrix(X_test2, y_test2)\n",
        "model_approx_2 = xgb.train(params_approx_2, dX_approx_train2)\n",
        "pred_approx_2 = model_approx_2.predict(dX_approx_test2)\n",
        "\n",
        "rmse_approx_2 = np.sqrt(mean_squared_error(pred_approx_2, y_test2))\n",
        "rmse_approx_2"
      ],
      "execution_count": null,
      "outputs": [
        {
          "output_type": "stream",
          "name": "stdout",
          "text": [
            "Evaluation \t Proposed point \t  Current eval. \t  Best eval. \t         Max. ExactAcqFunc \t Max. ApproxAcqFunc \n",
            "init\t [ 4.35994902  0.25926232 11.          0.97386531 12.          0.47833102]\t -0.12841435421394\t -0.23126820418533683\t    \t    \n",
            "init\t [ 3.30334821  2.04648634 10.          0.55997527  6.          0.71472339]\t -0.23126820418533683\t -0.23126820418533683\t    \t    \n",
            "init\t [ 4.9856117   5.86796978  8.          0.89266757 11.          0.59158659]\t -0.18779297960324595\t -0.23126820418533683\t    \t    \n",
            "init\t [ 4.07307832  1.76984624 13.          0.75262305  7.          0.35908193]\t -0.08370045954557759\t -0.23126820418533683\t    \t    \n",
            "init\t [ 1.16193318  1.81727038  9.          0.79837265 19.          0.29965165]\t -0.08458970441400507\t -0.23126820418533683\t    \t    \n",
            "1  \t [ 3.53158713  1.9642312  10.88980257  0.61715563  6.2967167   0.60917411]\t -0.1930700482970704\t -0.23126820418533683\t 0.025178014160578636\t 0.035201928416859284\n",
            "\u001b[1m\u001b[92m2\u001b[0m\t \u001b[1m\u001b[92m[ 3.80250692  2.59345902 10.09106272  0.57928555  6.4592066   0.78027733]\u001b[0m\t \u001b[1m\u001b[92m-0.24627468887202308\u001b[0m\t \u001b[1m\u001b[92m-0.24627468887202308\u001b[0m\t \u001b[1m\u001b[92m0.02465778691124867\u001b[0m\t \u001b[1m\u001b[92m0.03124223078022809\u001b[0m\n",
            "3  \t [ 3.46004339  2.57819536 10.17496345  0.55940593  6.22898829  0.1       ]\t 0.09757038874201011\t -0.24627468887202308\t 0.020705544232330786\t 0.030785236627004022\n",
            "\u001b[1m\u001b[92m4\u001b[0m\t \u001b[1m\u001b[92m[ 3.65074994  2.00397844 10.29800835  0.59867105  6.28814669  1.        ]\u001b[0m\t \u001b[1m\u001b[92m-0.2554773882343561\u001b[0m\t \u001b[1m\u001b[92m-0.2554773882343561\u001b[0m\t \u001b[1m\u001b[92m0.02682735554110433\u001b[0m\t \u001b[1m\u001b[92m0.03689873328604319\u001b[0m\n",
            "5  \t [ 4.78292266  6.1460869   8.          0.78946987 10.3650936   0.792803  ]\t -0.23788505630535708\t -0.2554773882343561\t 0.024768832855332837\t 0.027157689871627654\n",
            "6  \t [ 4.41212922  6.44815664  8.          0.83486822 10.82188956  0.64687076]\t -0.2252489379345651\t -0.2554773882343561\t 0.02366088778049652\t 0.03562852128382899\n",
            "7  \t [3.85175022 2.11392725 9.80738139 0.58784391 6.36578201 1.        ]\t -0.24778374457184835\t -0.2554773882343561\t 0.032588255713569034\t 0.04839168423212243\n",
            "8  \t [ 4.67194514  0.17573144  9.96251421  0.98612817 12.51875488  0.52930746]\t -0.19659117859831912\t -0.2554773882343561\t 0.022733359409624978\t 0.02402295207355224\n",
            "\u001b[1m\u001b[92m9\u001b[0m\t \u001b[1m\u001b[92m[ 3.43560082  2.06241288 10.16697645  0.99992429  6.63875826  1.        ]\u001b[0m\t \u001b[1m\u001b[92m-0.26215837753536475\u001b[0m\t \u001b[1m\u001b[92m-0.26215837753536475\u001b[0m\t \u001b[1m\u001b[92m0.027234535814878766\u001b[0m\t \u001b[1m\u001b[92m0.044910173827392465\u001b[0m\n",
            "\u001b[1m\u001b[92m10\u001b[0m\t \u001b[1m\u001b[92m[ 3.79687026  2.19351741 10.26163052  1.          6.08129943  1.        ]\u001b[0m\t \u001b[1m\u001b[92m-0.2622254411973149\u001b[0m\t \u001b[1m\u001b[92m-0.2622254411973149\u001b[0m\t \u001b[1m\u001b[92m0.024528681432150857\u001b[0m\t \u001b[1m\u001b[92m0.04185720984285244\u001b[0m\n",
            "11 \t [ 4.82422001  6.46228283  7.2160683   0.72612533 10.45171225  0.38965776]\t -0.10930718658624175\t -0.2622254411973149\t 0.02104234925315504\t 0.031518284978617896\n",
            "12 \t [ 3.59686743  2.16511957 10.23419568  0.73778096  6.37246614  1.        ]\t -0.2588174154887466\t -0.2622254411973149\t 0.025381776552452134\t 0.03691213539179437\n",
            "13 \t [ 4.31386452  2.53209199 10.43201586  0.91613409  6.92920016  1.        ]\t -0.26098674864261795\t -0.2622254411973149\t 0.020025504678069312\t 0.03619835381178207\n",
            "14 \t [4.12323485 2.88515466 9.77331109 1.         6.81991147 1.        ]\t -0.25530299939207535\t -0.2622254411973149\t 0.020315049589790725\t 0.036302930914587465\n",
            "15 \t [ 3.94271089  2.55193928 10.18531995  0.87502459  6.63080521  1.        ]\t -0.2615159030033136\t -0.2622254411973149\t 0.020153006399643975\t 0.033518627328156435\n",
            "16 \t [ 2.94295661  1.46390796 10.21219382  1.          5.78518947  1.        ]\t -0.2621211728878921\t -0.2622254411973149\t 0.02010183553298255\t 0.03999051734693891\n",
            "17 \t [ 4.60329426  2.92692552 10.05431235  0.5         6.63815071  1.        ]\t -0.2507542683830814\t -0.2622254411973149\t 0.020246845441882624\t 0.031532336625970624\n",
            "18 \t [3.03987472 1.896055   9.55557749 1.         5.8781737  1.        ]\t -0.25623913116477715\t -0.2622254411973149\t 0.02357852044119733\t 0.03421705316586756\n",
            "19 \t [ 4.06267497  2.92321497 10.05517492  0.5         7.3885247   1.        ]\t -0.251070317664334\t -0.2622254411973149\t 0.02352041967617886\t 0.04076151369692999\n",
            "20 \t [ 4.63600715  4.02549622  7.          0.64795288 12.          0.480631  ]\t -0.10749603949991164\t -0.2622254411973149\t 0.0192320392150545\t 0.0192320392150545\n",
            "21 \t [ 2.28999689  5.99293916  7.00000647  0.8431804  10.99999851  0.11216999]\t 0.0995147074685688\t -0.2622254411973149\t 0.05047824117969331\t 0.05047824146675232\n",
            "22 \t [ 2.04764833  2.17877785  9.          0.67524765 18.          0.16164331]\t 0.09543921102905042\t -0.2622254411973149\t 0.055715675325945214\t 0.055715675325945214\n",
            "23 \t [ 3.79557487  2.28741056 10.13907455  0.79402278  6.46966834  0.97367039]\t -0.25496463334548125\t -0.2622254411973149\t 0.060504274409476984\t 0.1153206540628187\n",
            "24 \t [ 3.91366163  2.15149309 10.03652031  0.90120238  6.60857149  1.        ]\t -0.2618773214191471\t -0.2622254411973149\t 0.0777115726216492\t 0.11939976682342479\n",
            "25 \t [ 3.32579135  1.78075968 10.04500566  0.99002948  6.07122334  0.98125395]\t -0.25808719184805656\t -0.2622254411973149\t 0.053203666994176536\t 0.1076942451372167\n",
            "26 \t [4.98923612 1.38765222 9.         0.90288169 5.         0.61558382]\t -0.19387326418923906\t -0.2622254411973149\t 0.02771857374371082\t 0.02771857374371082\n",
            "27 \t [3.9076273  2.08218793 9.99915775 0.92607729 6.44825588 1.        ]\t -0.2558569156791456\t -0.2622254411973149\t 0.07090552392714251\t 0.11468668572841573\n",
            "\u001b[1m\u001b[92m28\u001b[0m\t \u001b[1m\u001b[92m[ 3.88895261  2.11929689 10.02345451  0.90480939  6.47228335  1.        ]\u001b[0m\t \u001b[1m\u001b[92m-0.2643162210389133\u001b[0m\t \u001b[1m\u001b[92m-0.2643162210389133\u001b[0m\t \u001b[1m\u001b[92m0.06410463844820853\u001b[0m\t \u001b[1m\u001b[92m0.11184282908215787\u001b[0m\n",
            "29 \t [4.64388724 6.36335726 5.         0.58222141 8.         0.2595269 ]\t -0.03476561974009129\t -0.2643162210389133\t 0.043783767462124625\t 0.043783767462124625\n",
            "30 \t [5.55301534 4.43776121 9.         0.77874612 6.         0.99491253]\t -0.2498035312166552\t -0.2643162210389133\t 0.05565783741775962\t 0.05565783741775962\n"
          ]
        },
        {
          "output_type": "execute_result",
          "data": {
            "text/plain": [
              "49184.20291366331"
            ]
          },
          "metadata": {},
          "execution_count": 22
        }
      ]
    },
    {
      "cell_type": "code",
      "metadata": {
        "id": "-45l3NU4UNiI",
        "colab": {
          "base_uri": "https://localhost:8080/"
        },
        "outputId": "c3febbe3-d651-42d5-ef95-f4412009e7c2"
      },
      "source": [
        "### Bayesian optimization runs (x20): 'approx' Acquisition Function run number = 3\n",
        "\n",
        "np.random.seed(run_num_3)\n",
        "surrogate_approx_3 = dtStudentProcess(cov_func, optimize=opt, nu = df)\n",
        "\n",
        "X_train3, X_test3, y_train3, y_test3 = train_test_split(X, y, test_size=test_perc, random_state=run_num_3)\n",
        "\n",
        "def f_syn_polarity3(alpha, gamma, max_depth, subsample, min_child_weight, colsample):\n",
        "    reg = XGBRegressor(reg_alpha=alpha, gamma=gamma, max_depth=int(max_depth), subsample=subsample, min_child_weight=min_child_weight,\n",
        "          colsample_bytree=colsample, n_estimators = n_est, random_state=run_num_3, objective = 'reg:squarederror')\n",
        "    score = np.array(cross_val_score(reg, X=X_train3, y=y_train3).mean())\n",
        "    return operator * score\n",
        "\n",
        "approx_3 = GPGO_multi(surrogate_approx_3, Acquisition_grad(util), f_syn_polarity3, param, n_jobs = -1) # define BayesOpt\n",
        "approx_3.run(max_iter = max_iter, init_evals = n_init) # run\n",
        "\n",
        "### Return optimal parameters' set:\n",
        "params_approx_3 = approx_3.getResult()[0]\n",
        "params_approx_3['max_depth'] = int(params_approx_3['max_depth'])\n",
        "params_approx_3['min_child_weight'] = int(params_approx_3['min_child_weight'])\n",
        "\n",
        "### Re-train with optimal parameters, run predictons:\n",
        "dX_approx_train3 = xgb.DMatrix(X_train3, y_train3)\n",
        "dX_approx_test3 = xgb.DMatrix(X_test3, y_test3)\n",
        "model_approx_3 = xgb.train(params_approx_3, dX_approx_train3)\n",
        "pred_approx_3 = model_approx_3.predict(dX_approx_test3)\n",
        "\n",
        "rmse_approx_3 = np.sqrt(mean_squared_error(pred_approx_3, y_test3))\n",
        "rmse_approx_3"
      ],
      "execution_count": null,
      "outputs": [
        {
          "output_type": "stream",
          "name": "stdout",
          "text": [
            "Evaluation \t Proposed point \t  Current eval. \t  Best eval. \t         Max. ExactAcqFunc \t Max. ApproxAcqFunc \n",
            "init\t [ 5.50797903  7.08147823 13.          0.56066429 11.          0.11687321]\t 0.20419878473048766\t -0.14123526450961563\t    \t    \n",
            "init\t [ 0.40630737  2.47888297 11.          0.72040492 13.          0.23083313]\t 0.20337567565936182\t -0.14123526450961563\t    \t    \n",
            "init\t [ 4.53172301  2.15577008 11.          0.74631796  2.          0.60296868]\t -0.14123526450961563\t -0.14123526450961563\t    \t    \n",
            "init\t [ 2.59252447  4.15101197 13.          0.79330998  8.          0.24118096]\t 0.20612536738030748\t -0.14123526450961563\t    \t    \n",
            "init\t [ 5.44649018  7.80314765 10.          0.62879264 18.          0.44917413]\t -0.049629861638836356\t -0.14123526450961563\t    \t    \n",
            "\u001b[1m\u001b[92m1\u001b[0m\t \u001b[1m\u001b[92m[ 3.94985488  2.00982884 10.5422024   0.7692061   2.22890881  0.51167985]\u001b[0m\t \u001b[1m\u001b[92m-0.14766251449469042\u001b[0m\t \u001b[1m\u001b[92m-0.14766251449469042\u001b[0m\t \u001b[1m\u001b[92m0.04414615438317159\u001b[0m\t \u001b[1m\u001b[92m0.052893002112103266\u001b[0m\n",
            "2  \t [ 3.45990873  2.09702174 11.48081901  0.76920883  1.75958314  0.57873422]\t -0.143281860786686\t -0.14766251449469042\t 0.03939985969896545\t 0.04750725580306296\n",
            "3  \t [ 3.98948454  1.28137964 10.96652393  0.77492483  1.51835716  0.48321042]\t -0.04511697613590815\t -0.14766251449469042\t 0.033563861094039193\t 0.04669777151904499\n",
            "\u001b[1m\u001b[92m4\u001b[0m\t \u001b[1m\u001b[92m[ 3.78684049  2.80295309 11.13754778  0.75421188  2.3787481   0.63379229]\u001b[0m\t \u001b[1m\u001b[92m-0.1917718149250193\u001b[0m\t \u001b[1m\u001b[92m-0.1917718149250193\u001b[0m\t \u001b[1m\u001b[92m0.0308069070435177\u001b[0m\t \u001b[1m\u001b[92m0.04924872930476465\u001b[0m\n",
            "5  \t [ 3.88093781  2.12723689 11.50612352  0.65398096  2.88190765  0.49233476]\t -0.037076547190296516\t -0.1917718149250193\t 0.025204257779099376\t 0.03336693935670956\n",
            "6  \t [ 6.86336891  8.51413243  8.          0.84853354 15.          0.52954984]\t -0.14504196893966975\t -0.1917718149250193\t 0.021054060990508324\t 0.021054060990508324\n",
            "\u001b[1m\u001b[92m7\u001b[0m\t \u001b[1m\u001b[92m[ 3.7785621   2.87143102 10.76225979  0.84466821  1.67618775  0.70338712]\u001b[0m\t \u001b[1m\u001b[92m-0.19379323053962266\u001b[0m\t \u001b[1m\u001b[92m-0.19379323053962266\u001b[0m\t \u001b[1m\u001b[92m0.023140351955532455\u001b[0m\t \u001b[1m\u001b[92m0.044539105345092714\u001b[0m\n",
            "\u001b[1m\u001b[92m8\u001b[0m\t \u001b[1m\u001b[92m[ 4.1739404   2.92319486 10.49714994  1.          2.34921575  1.        ]\u001b[0m\t \u001b[1m\u001b[92m-0.26036755493135166\u001b[0m\t \u001b[1m\u001b[92m-0.26036755493135166\u001b[0m\t \u001b[1m\u001b[92m0.01917582715218343\u001b[0m\t \u001b[1m\u001b[92m0.03021703496082857\u001b[0m\n",
            "9  \t [ 4.4457097   3.2562379  10.26314883  1.          2.44900673  0.32308754]\t 0.06758926484228342\t -0.26036755493135166\t 0.015968856598627762\t 0.023578020921033765\n",
            "\u001b[1m\u001b[92m10\u001b[0m\t \u001b[1m\u001b[92m[ 3.78994011  2.57045611 10.77396487  1.          2.17259488  1.        ]\u001b[0m\t \u001b[1m\u001b[92m-0.2603676235625426\u001b[0m\t \u001b[1m\u001b[92m-0.2603676235625426\u001b[0m\t \u001b[1m\u001b[92m0.021723558631060368\u001b[0m\t \u001b[1m\u001b[92m0.04462136186516784\u001b[0m\n",
            "11 \t [ 6.32643625  8.24478953  8.7578867   0.76527185 16.13698821  0.49902491]\t -0.043837067796707284\t -0.2603676235625426\t 0.01900920378027254\t 0.02107573044849469\n",
            "12 \t [ 3.928305    2.68090135 10.66856228  0.5         2.16516107  1.        ]\t -0.25160894497396363\t -0.2603676235625426\t 0.018272040709530212\t 0.03222798699460409\n",
            "13 \t [ 5.60886802  8.26583042  7.5208744   0.90267559 14.55589155  0.26880909]\t 0.08011560197433161\t -0.2603676235625426\t 0.016427945526574488\t 0.018401856140388976\n",
            "14 \t [ 6.59871591  4.04002245 10.          0.7321013  19.          0.61478069]\t -0.15246846391217733\t -0.2603676235625426\t 0.015177546664068706\t 0.015177546664068706\n",
            "15 \t [ 8.03794591  8.75975529  8.37255414  0.80632572 15.30916949  0.76691972]\t -0.20449297754147314\t -0.2603676235625426\t 0.015798417791328102\t 0.019422228975820136\n",
            "16 \t [ 7.9274828   8.02234555  7.78613701  0.69508828 15.43477289  0.19795981]\t 0.2027254732873606\t -0.2603676235625426\t 0.017178281000785788\t 0.023125209424112607\n",
            "17 \t [ 4.18136937  2.75778096 10.8490921   0.90813006  2.12806299  1.        ]\t -0.2591018992650107\t -0.2603676235625426\t 0.01778250916337199\t 0.0352958206939845\n",
            "18 \t [ 7.43670006  9.19673796  8.60648074  0.91939492 15.01761604  1.        ]\t -0.2464567915474995\t -0.2603676235625426\t 0.022980731068683733\t 0.06156802903412898\n",
            "19 \t [ 9.53340901  9.80298418 12.          0.98959106 17.          0.42225857]\t -0.057273236880361414\t -0.2603676235625426\t 0.018433972007169695\t 0.018433972007169695\n",
            "20 \t [ 7.56573524  8.53164684  8.92128796  0.88301978 14.97352463  1.        ]\t -0.24531424751693956\t -0.2603676235625426\t 0.021360584131170163\t 0.034288264037351315\n",
            "21 \t [ 7.41710538  8.7720131   8.54740351  0.84702814 15.30004889  1.        ]\t -0.24328958023799996\t -0.2603676235625426\t 0.016265266534927714\t 0.03918799702289141\n",
            "22 \t [ 2.77110475  0.35980325 10.          0.77088835  9.          0.78161047]\t -0.2177681712079563\t -0.2603676235625426\t 0.042808073461034414\t 0.042808073461034414\n",
            "\u001b[1m\u001b[92m23\u001b[0m\t \u001b[1m\u001b[92m[ 3.75757614  2.6292426  10.81112928  0.88832603  1.98603137  1.        ]\u001b[0m\t \u001b[1m\u001b[92m-0.2605927598315376\u001b[0m\t \u001b[1m\u001b[92m-0.2605927598315376\u001b[0m\t \u001b[1m\u001b[92m0.07697313182602819\u001b[0m\t \u001b[1m\u001b[92m0.10695322245856916\u001b[0m\n",
            "\u001b[1m\u001b[92m24\u001b[0m\t \u001b[1m\u001b[92m[ 3.89515052  2.61309607 10.81751247  0.84262586  2.07651892  1.        ]\u001b[0m\t \u001b[1m\u001b[92m-0.2606141696749442\u001b[0m\t \u001b[1m\u001b[92m-0.2606141696749442\u001b[0m\t \u001b[1m\u001b[92m0.05898516351408162\u001b[0m\t \u001b[1m\u001b[92m0.09812920032838478\u001b[0m\n",
            "25 \t [ 8.57700095  9.71425069 12.56507393  0.82777865 18.13052176  0.56287404]\t -0.15915634992974775\t -0.2606141696749442\t 0.057070942573323076\t 0.05756108073121118\n",
            "26 \t [2.7711368  0.35927881 9.99984331 0.77088385 8.99999669 0.78162183]\t -0.21326581288230367\t -0.2606141696749442\t 0.051417953531625024\t 0.05632756032689838\n",
            "27 \t [ 7.56880658  8.81924984  8.61312701  0.87392    15.08581882  0.92177827]\t -0.2211949145405841\t -0.2606141696749442\t 0.042483482218040367\t 0.07397996221338503\n",
            "28 \t [ 6.17923598  2.70671115 12.          0.90217652  2.          0.54461122]\t -0.1429615177333359\t -0.2606141696749442\t 0.05668738041818681\t 0.05668738041818681\n",
            "29 \t [ 3.94970738  2.64005557 10.76020172  0.86779941  2.14671294  1.        ]\t -0.2604694409540859\t -0.2606141696749442\t 0.015841150847931976\t 0.03992409487662596\n",
            "30 \t [ 7.53023013  8.82414828  8.61595662  0.8740193  15.10443616  0.94092966]\t -0.22123671768400827\t -0.2606141696749442\t 0.050362935419341566\t 0.0829327404439082\n"
          ]
        },
        {
          "output_type": "execute_result",
          "data": {
            "text/plain": [
              "48821.42487579994"
            ]
          },
          "metadata": {},
          "execution_count": 23
        }
      ]
    },
    {
      "cell_type": "code",
      "metadata": {
        "id": "voPfk1UDUQU0",
        "colab": {
          "base_uri": "https://localhost:8080/"
        },
        "outputId": "b7419a39-01bb-4466-f59e-2f10a4f18c1f"
      },
      "source": [
        "### Bayesian optimization runs (x20): 'approx' Acquisition Function run number = 4\n",
        "\n",
        "np.random.seed(run_num_4)\n",
        "surrogate_approx_4 = dtStudentProcess(cov_func, optimize=opt, nu = df)\n",
        "\n",
        "X_train4, X_test4, y_train4, y_test4 = train_test_split(X, y, test_size=test_perc, random_state=run_num_4)\n",
        "\n",
        "def f_syn_polarity4(alpha, gamma, max_depth, subsample, min_child_weight, colsample):\n",
        "    reg = XGBRegressor(reg_alpha=alpha, gamma=gamma, max_depth=int(max_depth), subsample=subsample, min_child_weight=min_child_weight,\n",
        "          colsample_bytree=colsample, n_estimators = n_est, random_state=run_num_4, objective = 'reg:squarederror')\n",
        "    score = np.array(cross_val_score(reg, X=X_train4, y=y_train4).mean())\n",
        "    return operator * score\n",
        "\n",
        "approx_4 = GPGO_multi(surrogate_approx_4, Acquisition_grad(util), f_syn_polarity4, param, n_jobs = -1) # define BayesOpt\n",
        "approx_4.run(max_iter = max_iter, init_evals = n_init) # run\n",
        "\n",
        "### Return optimal parameters' set:\n",
        "params_approx_4 = approx_4.getResult()[0]\n",
        "params_approx_4['max_depth'] = int(params_approx_4['max_depth'])\n",
        "params_approx_4['min_child_weight'] = int(params_approx_4['min_child_weight'])\n",
        "\n",
        "### Re-train with optimal parameters, run predictons:\n",
        "dX_approx_train4 = xgb.DMatrix(X_train4, y_train4)\n",
        "dX_approx_test4 = xgb.DMatrix(X_test4, y_test4)\n",
        "model_approx_4 = xgb.train(params_approx_4, dX_approx_train4)\n",
        "pred_approx_4 = model_approx_4.predict(dX_approx_test4)\n",
        "\n",
        "rmse_approx_4 = np.sqrt(mean_squared_error(pred_approx_4, y_test4))\n",
        "rmse_approx_4"
      ],
      "execution_count": null,
      "outputs": [
        {
          "output_type": "stream",
          "name": "stdout",
          "text": [
            "Evaluation \t Proposed point \t  Current eval. \t  Best eval. \t         Max. ExactAcqFunc \t Max. ApproxAcqFunc \n",
            "init\t [9.67029839 5.47232249 6.         0.92781047 9.         0.72795594]\t -0.15402376245304267\t -0.2695272079483354\t    \t    \n",
            "init\t [ 2.16089496  9.76274455 12.          0.62649118  9.          0.66966679]\t -0.2046608443261646\t -0.2695272079483354\t    \t    \n",
            "init\t [ 0.05159149  5.72356491  9.          0.99170034 10.          0.10808749]\t 0.16593650831860893\t -0.2695272079483354\t    \t    \n",
            "init\t [ 3.86571283  0.44160058 10.          0.90553105 18.          0.95407958]\t -0.2695272079483354\t -0.2695272079483354\t    \t    \n",
            "init\t [ 7.86305986  8.66289299  6.          0.53285477 14.          0.25117497]\t -0.019282794675503846\t -0.2695272079483354\t    \t    \n",
            "1  \t [ 1.7897391   3.75575769 12.          0.73387518 17.          0.32831168]\t -0.04129599513432099\t -0.2695272079483354\t 0.02636257848759347\t 0.02636257848759347\n",
            "2  \t [ 3.19424725  7.29994108 13.9999909   0.55667877  9.99999545  0.61464247]\t -0.19564738629370998\t -0.2695272079483354\t 0.021745123055043912\t 0.021745123306100407\n",
            "3  \t [9.670389   5.47243394 6.00007579 0.92783884 9.00007156 0.72796198]\t -0.15385446879751966\t -0.2695272079483354\t 0.023934764706443797\t 0.026029847720319948\n",
            "4  \t [ 2.62875182  8.64796311 12.90531037  0.59487464  9.45259398  0.64477095]\t -0.20243533418740228\t -0.2695272079483354\t 0.027371154022567998\t 0.029802466985942196\n",
            "5  \t [ 3.47414563  1.04988781 10.44602422  0.87447606 17.81075534  0.84424954]\t -0.2637506347233283\t -0.2695272079483354\t 0.026464989803232978\t 0.0326933412686589\n",
            "6  \t [ 4.10105375  1.17394505  9.91503242  0.91028548 17.8252897   0.81323508]\t -0.2578728068291557\t -0.2695272079483354\t 0.020558699933449328\t 0.03579265865375952\n",
            "7  \t [ 3.00895541  9.14295496 12.29206097  0.60311823  8.55022546  0.71699894]\t -0.20446473673394722\t -0.2695272079483354\t 0.016739821588015815\t 0.024803694676300253\n",
            "\u001b[1m\u001b[92m8\u001b[0m\t \u001b[1m\u001b[92m[ 4.12857583  0.72545759 10.5224802   0.92428179 17.64807243  1.        ]\u001b[0m\t \u001b[1m\u001b[92m-0.26974539405474474\u001b[0m\t \u001b[1m\u001b[92m-0.26974539405474474\u001b[0m\t \u001b[1m\u001b[92m0.017465716542913585\u001b[0m\t \u001b[1m\u001b[92m0.03337364638999994\u001b[0m\n",
            "\u001b[1m\u001b[92m9\u001b[0m\t \u001b[1m\u001b[92m[ 3.98118445  0.90999743 10.41120734  0.9286335  18.29637241  0.97642961]\u001b[0m\t \u001b[1m\u001b[92m-0.2716391859298319\u001b[0m\t \u001b[1m\u001b[92m-0.2716391859298319\u001b[0m\t \u001b[1m\u001b[92m0.01478212338128222\u001b[0m\t \u001b[1m\u001b[92m0.03288561759648858\u001b[0m\n",
            "10 \t [ 3.84427197  0.84430363 10.22815826  1.         17.8862329   1.        ]\t -0.2688496058923633\t -0.2716391859298319\t 0.013244308077651526\t 0.028196631476967327\n",
            "11 \t [ 3.97261609  0.75339354 10.33689594  0.53909043 17.95590564  0.59183432]\t -0.19484622722702466\t -0.2716391859298319\t 0.01578673243104583\t 0.05391237376895263\n",
            "12 \t [ 4.74068124  0.30507957  9.83251241  1.         18.18693651  1.        ]\t -0.2621332861095885\t -0.2716391859298319\t 0.026097694979178212\t 0.04208209150198738\n",
            "\u001b[1m\u001b[92m13\u001b[0m\t \u001b[1m\u001b[92m[ 3.7882418   1.7562905  10.99376449  0.98738051 17.73383523  0.91448575]\u001b[0m\t \u001b[1m\u001b[92m-0.2727992182641958\u001b[0m\t \u001b[1m\u001b[92m-0.2727992182641958\u001b[0m\t \u001b[1m\u001b[92m0.022038505729634478\u001b[0m\t \u001b[1m\u001b[92m0.03798395764555152\u001b[0m\n",
            "14 \t [ 4.07473753  0.25747227  9.34518841  1.         18.70162983  1.        ]\t -0.26213301567941266\t -0.2727992182641958\t 0.016496001033964112\t 0.031190241755102387\n",
            "15 \t [ 3.48475327  1.07230521 11.38017329  1.         17.76770294  1.        ]\t -0.2714282721145206\t -0.2727992182641958\t 0.015458791447167462\t 0.03265211067075563\n",
            "16 \t [ 4.14725907  0.         10.07306339  1.         18.56782377  1.        ]\t -0.26641208422077745\t -0.2727992182641958\t 0.013740172903257691\t 0.028956453403525557\n",
            "17 \t [ 3.4739532   1.38211026 11.03056079  0.77506554 17.18376238  1.        ]\t -0.27186866547300725\t -0.2727992182641958\t 0.017810291509579485\t 0.028857354528053113\n",
            "18 \t [ 3.70619365  1.29328433 10.94635617  0.89427295 17.6742413   1.        ]\t -0.26955900895285645\t -0.2727992182641958\t 0.013215527679505316\t 0.028499557296253395\n",
            "19 \t [ 3.07440632  1.6028992  11.08115114  1.         17.52356822  0.57389911]\t -0.17458277779418646\t -0.2727992182641958\t 0.02051265210332474\t 0.04763140163776143\n",
            "20 \t [ 2.70922261  9.23235933 12.22151192  0.63389205  9.36564701  0.77234787]\t -0.2593492833279076\t -0.2727992182641958\t 0.01640162957877376\t 0.03089135100066885\n",
            "21 \t [ 2.53612737  9.20221654 12.39547269  0.61173008  9.11574841  0.6798391 ]\t -0.20339909248636748\t -0.2727992182641958\t 0.02653766404694506\t 0.04559797722051586\n",
            "22 \t [ 2.65012668  9.2203074  12.31117847  0.61842432  9.1150744   0.71575773]\t -0.20468613125979046\t -0.2727992182641958\t 0.06266896844269329\t 0.08531812128133902\n",
            "23 \t [ 3.32872627  6.10366571 13.          0.58157612  9.          0.26503433]\t -0.03447026208351052\t -0.2727992182641958\t 0.06152472372313817\t 0.06152472372313817\n",
            "24 \t [ 3.05463286  9.73985158 11.5148076   0.66564622  9.02303897  0.918336  ]\t -0.2665755714756911\t -0.2727992182641958\t 0.06948902430288902\t 0.07978413594830838\n",
            "25 \t [ 2.60920445  5.00088016 13.          0.88308408 19.          0.6912904 ]\t -0.2142609181760156\t -0.2727992182641958\t 0.06425938073616742\t 0.06425938073616742\n",
            "26 \t [ 1.79367446  1.83423794 12.          0.81217616 18.          0.26970861]\t -0.043663797636804544\t -0.2727992182641958\t 0.0625314783514429\t 0.0625314783514429\n",
            "27 \t [ 3.86953375  1.00257985 10.58471804  1.         17.86217302  1.        ]\t -0.2688496030924724\t -0.2727992182641958\t 0.03710789821427405\t 0.08150000132486072\n",
            "28 \t [9.11382125 5.82655636 6.0000183  0.73695866 9.50143429 0.84385907]\t -0.20482168585149357\t -0.2727992182641958\t 0.03594159898837509\t 0.039521830741682216\n",
            "29 \t [ 3.80198699  1.13398267 10.70870139  0.98907148 17.74408812  1.        ]\t -0.268204188900561\t -0.2727992182641958\t 0.027627786806824758\t 0.06957476725909466\n",
            "30 \t [ 9.09372952  7.38091756  6.          0.59880918 14.          0.45337127]\t -0.10879041526485718\t -0.2727992182641958\t 0.0285197891127506\t 0.028519790619359657\n"
          ]
        },
        {
          "output_type": "execute_result",
          "data": {
            "text/plain": [
              "49906.52504961169"
            ]
          },
          "metadata": {},
          "execution_count": 24
        }
      ]
    },
    {
      "cell_type": "code",
      "metadata": {
        "id": "8kEnTd7MUdlv",
        "colab": {
          "base_uri": "https://localhost:8080/"
        },
        "outputId": "6cfcb9b8-1195-4ce5-8c25-fd8c34fbd12e"
      },
      "source": [
        "### Bayesian optimization runs (x20): 'approx' Acquisition Function run number = 5\n",
        "\n",
        "np.random.seed(run_num_5)\n",
        "surrogate_approx_5 = dtStudentProcess(cov_func, optimize=opt, nu = df)\n",
        "\n",
        "X_train5, X_test5, y_train5, y_test5 = train_test_split(X, y, test_size=test_perc, random_state=run_num_5)\n",
        "\n",
        "def f_syn_polarity5(alpha, gamma, max_depth, subsample, min_child_weight, colsample):\n",
        "    reg = XGBRegressor(reg_alpha=alpha, gamma=gamma, max_depth=int(max_depth), subsample=subsample, min_child_weight=min_child_weight,\n",
        "          colsample_bytree=colsample, n_estimators = n_est, random_state=run_num_5, objective = 'reg:squarederror')\n",
        "    score = np.array(cross_val_score(reg, X=X_train5, y=y_train5).mean())\n",
        "    return operator * score\n",
        "\n",
        "approx_5 = GPGO_multi(surrogate_approx_5, Acquisition_grad(util), f_syn_polarity5, param, n_jobs = -1) # define BayesOpt\n",
        "approx_5.run(max_iter = max_iter, init_evals = n_init) # run\n",
        "\n",
        "### Return optimal parameters' set:\n",
        "params_approx_5 = approx_5.getResult()[0]\n",
        "params_approx_5['max_depth'] = int(params_approx_5['max_depth'])\n",
        "params_approx_5['min_child_weight'] = int(params_approx_5['min_child_weight'])\n",
        "\n",
        "### Re-train with optimal parameters, run predictons:\n",
        "dX_approx_train5 = xgb.DMatrix(X_train5, y_train5)\n",
        "dX_approx_test5 = xgb.DMatrix(X_test5, y_test5)\n",
        "model_approx_5 = xgb.train(params_approx_5, dX_approx_train5)\n",
        "pred_approx_5 = model_approx_5.predict(dX_approx_test5)\n",
        "\n",
        "rmse_approx_5 = np.sqrt(mean_squared_error(pred_approx_5, y_test5))\n",
        "rmse_approx_5"
      ],
      "execution_count": null,
      "outputs": [
        {
          "output_type": "stream",
          "name": "stdout",
          "text": [
            "Evaluation \t Proposed point \t  Current eval. \t  Best eval. \t         Max. ExactAcqFunc \t Max. ApproxAcqFunc \n",
            "init\t [ 2.21993171  8.70732306 11.          0.68186845 10.          0.53957007]\t -0.17651299901312462\t -0.17651299901312462\t    \t    \n",
            "init\t [ 6.11743863  7.65907856  5.          0.64840025 16.          0.82745351]\t -0.13570811921529394\t -0.17651299901312462\t    \t    \n",
            "init\t [ 6.49458883  8.19472793  6.          0.93996852 19.          0.36647194]\t 0.11807106905648564\t -0.17651299901312462\t    \t    \n",
            "init\t [ 6.28787909  5.7983781   6.          0.63290956 17.          0.18402673]\t 0.1828233127139726\t -0.17651299901312462\t    \t    \n",
            "init\t [8.26554249 8.33492742 9.         0.97900675 3.         0.26957319]\t 0.09353994877735272\t -0.17651299901312462\t    \t    \n",
            "1  \t [ 4.69488372  9.81468738  5.          0.90686624 14.          0.64783233]\t -0.12548595851251157\t -0.17651299901312462\t 0.02625011352240443\t 0.02625011352240443\n",
            "2  \t [ 1.92279296  1.5474511   5.          0.92275891 14.          0.81540076]\t -0.13337431057237456\t -0.17651299901312462\t 0.025103649999524268\t 0.025103649999524268\n",
            "\u001b[1m\u001b[92m3\u001b[0m\t \u001b[1m\u001b[92m[ 7.62799793  1.89080141  6.          0.7466555  10.          0.94084967]\u001b[0m\t \u001b[1m\u001b[92m-0.20113588914355965\u001b[0m\t \u001b[1m\u001b[92m-0.20113588914355965\u001b[0m\t \u001b[1m\u001b[92m0.02465473924244677\u001b[0m\t \u001b[1m\u001b[92m0.02465473924244677\u001b[0m\n",
            "4  \t [ 8.98063632  2.97885127  9.          0.64249728 18.          0.16342995]\t 0.16938707127841512\t -0.20113588914355965\t 0.02426360870131618\t 0.02426360870131618\n",
            "\u001b[1m\u001b[92m5\u001b[0m\t \u001b[1m\u001b[92m[ 8.28543059  3.39110374 12.          0.9220584  15.          0.75865107]\u001b[0m\t \u001b[1m\u001b[92m-0.23736344341411098\u001b[0m\t \u001b[1m\u001b[92m-0.23736344341411098\u001b[0m\t \u001b[1m\u001b[92m0.025057920373483412\u001b[0m\t \u001b[1m\u001b[92m0.025057920373483412\u001b[0m\n",
            "6  \t [ 0.98887586  1.72560345 12.          0.50342471 19.          0.20615949]\t 0.17309323877694555\t -0.23736344341411098\t 0.023908503879066484\t 0.023908503879066484\n",
            "7  \t [ 3.24042995  1.09980323  7.          0.6309073  19.          0.70915812]\t -0.1740553716842589\t -0.23736344341411098\t 0.024222717511331062\t 0.024222717511331062\n",
            "8  \t [2.10059724 2.34370327 6.         0.86729082 8.         0.98674784]\t -0.20006948432541324\t -0.23736344341411098\t 0.024511999806671805\t 0.024511999806671805\n",
            "9  \t [ 4.19568767  9.59167992  7.          0.63744542 18.          0.96346932]\t -0.22443837155988425\t -0.23736344341411098\t 0.025495458935870054\t 0.025495458935870054\n",
            "10 \t [ 1.58241915  0.32099496 10.          0.9176032  13.          0.17055232]\t 0.17066225366275134\t -0.23736344341411098\t 0.02706085330476055\t 0.02706085330476055\n",
            "11 \t [ 5.25956941  9.91062408 14.          0.87187088 14.          0.23097886]\t 0.1734165039015665\t -0.23736344341411098\t 0.02702540644992341\t 0.02702540644992341\n",
            "12 \t [ 7.83473281  8.95526607 13.          0.83803848 10.          0.64663933]\t -0.2148190562134204\t -0.23736344341411098\t 0.027052054694251967\t 0.027052054694251967\n",
            "13 \t [ 7.35427678  9.97065609 13.          0.51927758 11.          0.83788385]\t -0.22196784983235068\t -0.23736344341411098\t 0.028001768384265373\t 0.028001768384265373\n",
            "14 \t [ 7.99867078  9.84904304 12.78388482  0.68586813 10.31885916  0.84034413]\t -0.2309063102957903\t -0.23736344341411098\t 0.0334009492613143\t 0.04853153697537727\n",
            "15 \t [ 7.52945574  9.65172805 13.51671021  0.85349625 10.37120051  0.71255637]\t -0.21941322144087447\t -0.23736344341411098\t 0.027513873013364505\t 0.0479686611707859\n",
            "\u001b[1m\u001b[92m16\u001b[0m\t \u001b[1m\u001b[92m[ 7.22464159  9.44423834 12.74867916  0.50118188 10.27863383  0.94696653]\u001b[0m\t \u001b[1m\u001b[92m-0.24953279231513342\u001b[0m\t \u001b[1m\u001b[92m-0.24953279231513342\u001b[0m\t \u001b[1m\u001b[92m0.04000515652375702\u001b[0m\t \u001b[1m\u001b[92m0.04658182401620282\u001b[0m\n",
            "\u001b[1m\u001b[92m17\u001b[0m\t \u001b[1m\u001b[92m[ 8.74643069  3.27838025 12.77133046  1.         15.38041077  0.9004141 ]\u001b[0m\t \u001b[1m\u001b[92m-0.2809536527237856\u001b[0m\t \u001b[1m\u001b[92m-0.2809536527237856\u001b[0m\t \u001b[1m\u001b[92m0.02781538275356482\u001b[0m\t \u001b[1m\u001b[92m0.0333035503662886\u001b[0m\n",
            "18 \t [ 8.31114476  3.55911185 12.9542951   0.99993215 14.75380833  0.91953108]\t -0.26399698598588717\t -0.2809536527237856\t 0.025278143438240096\t 0.034738970850308304\n",
            "19 \t [ 8.50645298  3.39001776 12.64518836  0.98172963 15.10091661  0.87302249]\t -0.2400889444237945\t -0.2809536527237856\t 0.023429147720890085\t 0.04326070737133972\n",
            "20 \t [ 8.79173791  4.9107906  14.          0.68574351 14.          0.3677575 ]\t 0.09588324892692639\t -0.2809536527237856\t 0.036602317408910984\t 0.036602317408910984\n",
            "21 \t [ 5.76375853  8.01351872  5.00000001  0.62064185 15.47729163  0.71084914]\t -0.12230007302201922\t -0.2809536527237856\t 0.05953238555839914\t 0.062196060591757044\n",
            "22 \t [ 2.11292767  2.22494856  5.          0.75299667 14.          0.58662257]\t -0.0971939113084338\t -0.2809536527237856\t 0.04700895570071304\t 0.04942643837198582\n",
            "23 \t [ 8.01401091  2.8997914  12.74169494  1.         15.18347525  1.        ]\t -0.27225689396988484\t -0.2809536527237856\t 0.06664902962653657\t 0.08621709348295573\n",
            "24 \t [ 7.55742344  9.54442489 12.95309634  0.65015575 10.41471424  0.80617227]\t -0.23029050011588464\t -0.2809536527237856\t 0.04876873180378731\t 0.05956627907823828\n",
            "25 \t [ 2.60956706  4.4745251   9.          0.69330349 17.          0.83988084]\t -0.22273433653035948\t -0.2809536527237856\t 0.048801410454861666\t 0.048801410454861666\n",
            "\u001b[1m\u001b[92m26\u001b[0m\t \u001b[1m\u001b[92m[ 8.36083118  3.12891632 12.8038204   1.         15.22349515  0.95445533]\u001b[0m\t \u001b[1m\u001b[92m-0.2809537117896047\u001b[0m\t \u001b[1m\u001b[92m-0.2809537117896047\u001b[0m\t \u001b[1m\u001b[92m0.046453158655992186\u001b[0m\t \u001b[1m\u001b[92m0.08215621538321921\u001b[0m\n",
            "27 \t [ 8.7721008   2.69414004 13.2886514   1.         14.77739469  1.        ]\t -0.27341821390209614\t -0.2809537117896047\t 0.03732574685520442\t 0.05144338868922402\n",
            "28 \t [ 8.47859396  3.00954941 12.78849491  0.99173232 14.97604452  0.94121157]\t -0.2653800053336487\t -0.2809537117896047\t 0.0707330228494163\t 0.10943016192443002\n",
            "29 \t [2.95294456 4.12933541 6.         0.56429452 7.         0.80256955]\t -0.1691719060735629\t -0.2809537117896047\t 0.03683183771615434\t 0.03683183771615434\n",
            "30 \t [ 8.46738239  3.0361159  12.79957411  0.99196746 14.99989985  0.94047633]\t -0.264577875168857\t -0.2809537117896047\t 0.06895277956073988\t 0.10587456186889124\n"
          ]
        },
        {
          "output_type": "execute_result",
          "data": {
            "text/plain": [
              "50195.93899223276"
            ]
          },
          "metadata": {},
          "execution_count": 25
        }
      ]
    },
    {
      "cell_type": "code",
      "metadata": {
        "id": "OjVSH6caUgyy",
        "colab": {
          "base_uri": "https://localhost:8080/"
        },
        "outputId": "71555b40-337b-4642-cb51-d17055b310ff"
      },
      "source": [
        "### Bayesian optimization runs (x20): 'approx' Acquisition Function run number = 6\n",
        "\n",
        "np.random.seed(run_num_6)\n",
        "surrogate_approx_6 = dtStudentProcess(cov_func, optimize=opt, nu = df)\n",
        "\n",
        "X_train6, X_test6, y_train6, y_test6 = train_test_split(X, y, test_size=test_perc, random_state=run_num_6)\n",
        "\n",
        "def f_syn_polarity6(alpha, gamma, max_depth, subsample, min_child_weight, colsample):\n",
        "    reg = XGBRegressor(reg_alpha=alpha, gamma=gamma, max_depth=int(max_depth), subsample=subsample, min_child_weight=min_child_weight,\n",
        "          colsample_bytree=colsample, n_estimators = n_est, random_state=run_num_6, objective = 'reg:squarederror')\n",
        "    score = np.array(cross_val_score(reg, X=X_train6, y=y_train6).mean())\n",
        "    return operator * score\n",
        "\n",
        "approx_6 = GPGO_multi(surrogate_approx_6, Acquisition_grad(util), f_syn_polarity6, param, n_jobs = -1) # define BayesOpt\n",
        "approx_6.run(max_iter = max_iter, init_evals = n_init) # run\n",
        "\n",
        "### Return optimal parameters' set:\n",
        "params_approx_6 = approx_6.getResult()[0]\n",
        "params_approx_6['max_depth'] = int(params_approx_6['max_depth'])\n",
        "params_approx_6['min_child_weight'] = int(params_approx_6['min_child_weight'])\n",
        "\n",
        "### Re-train with optimal parameters, run predictons:\n",
        "dX_approx_train6 = xgb.DMatrix(X_train6, y_train6)\n",
        "dX_approx_test6 = xgb.DMatrix(X_test6, y_test6)\n",
        "model_approx_6 = xgb.train(params_approx_6, dX_approx_train6)\n",
        "pred_approx_6 = model_approx_6.predict(dX_approx_test6)\n",
        "\n",
        "rmse_approx_6 = np.sqrt(mean_squared_error(pred_approx_6, y_test6))\n",
        "rmse_approx_6"
      ],
      "execution_count": null,
      "outputs": [
        {
          "output_type": "stream",
          "name": "stdout",
          "text": [
            "Evaluation \t Proposed point \t  Current eval. \t  Best eval. \t         Max. ExactAcqFunc \t Max. ApproxAcqFunc \n",
            "init\t [8.92860151 3.31979805 5.         0.99251441 2.         0.57683563]\t -0.040732828703740065\t -0.21785700752344095\t    \t    \n",
            "init\t [4.18807429 3.35407849 9.         0.87750649 3.         0.56623277]\t -0.10623625486331174\t -0.21785700752344095\t    \t    \n",
            "init\t [ 5.788586    6.45355096 14.          0.70660047 12.          0.82154882]\t -0.21785700752344095\t -0.21785700752344095\t    \t    \n",
            "init\t [4.58184578 6.73834679 5.         0.90108528 3.         0.65482895]\t -0.11385386818236495\t -0.21785700752344095\t    \t    \n",
            "init\t [ 4.42510505  5.75952352 14.          0.97882365 15.          0.29525604]\t 0.12540433205962548\t -0.21785700752344095\t    \t    \n",
            "1  \t [5.45268592 5.03178362 5.         0.95262932 3.         0.48391818]\t 0.0707878759481773\t -0.21785700752344095\t 0.017070757074667913\t 0.017070757074667913\n",
            "2  \t [9.09094176 7.85627378 8.         0.56995173 8.         0.86634552]\t -0.19897750754040164\t -0.21785700752344095\t 0.01473267736684492\t 0.01473267736684492\n",
            "3  \t [9.35121584 4.61966573 5.         0.73080031 1.         0.81790253]\t -0.14554305584927463\t -0.21785700752344095\t 0.018469785307364265\t 0.018469785307364265\n",
            "4  \t [9.22831146 4.53560935 5.92501132 0.77898022 1.50714296 0.71035616]\t -0.11541238322965117\t -0.21785700752344095\t 0.0190286340697121\t 0.022445496371053843\n",
            "5  \t [8.94598498 8.26271011 7.17884532 0.63513112 7.58942262 0.75349186]\t -0.18767735165363608\t -0.21785700752344095\t 0.018740520664786944\t 0.02464882124395689\n",
            "6  \t [9.03050379 7.39213523 7.60473084 0.66392546 7.25003348 0.81599818]\t -0.18939034563419305\t -0.21785700752344095\t 0.017053295161495247\t 0.02595907856586206\n",
            "7  \t [8.41041235 7.57179892 7.45115822 0.71524626 7.97874577 0.75565423]\t -0.19044844831850022\t -0.21785700752344095\t 0.0174525650749045\t 0.025752618958208833\n",
            "\u001b[1m\u001b[92m8\u001b[0m\t \u001b[1m\u001b[92m[8.46878701 8.05799035 7.94818009 0.50014565 7.37583141 0.8828103 ]\u001b[0m\t \u001b[1m\u001b[92m-0.22085854429631174\u001b[0m\t \u001b[1m\u001b[92m-0.22085854429631174\u001b[0m\t \u001b[1m\u001b[92m0.018146394427477938\u001b[0m\t \u001b[1m\u001b[92m0.024959945158824923\u001b[0m\n",
            "\u001b[1m\u001b[92m9\u001b[0m\t \u001b[1m\u001b[92m[8.71958834 7.8697258  7.65447029 0.5        7.59778059 1.        ]\u001b[0m\t \u001b[1m\u001b[92m-0.22551768634406572\u001b[0m\t \u001b[1m\u001b[92m-0.22551768634406572\u001b[0m\t \u001b[1m\u001b[92m0.01574624034292375\u001b[0m\t \u001b[1m\u001b[92m0.021953635490861146\u001b[0m\n",
            "10 \t [8.72340153 7.98472821 7.83775294 1.         7.53837724 0.84799553]\t -0.1885010425114083\t -0.22551768634406572\t 0.010898891541987147\t 0.02294421937795302\n",
            "11 \t [8.72306313 7.86378574 7.755227   0.5        7.57593811 0.36137228]\t 0.1318636982902682\t -0.22551768634406572\t 0.011299159909253526\t 0.023997318635916746\n",
            "12 \t [9.03392543 4.9432259  5.0638563  0.5        1.4603546  0.36885562]\t 0.15143583299774543\t -0.22551768634406572\t 0.020876684450321675\t 0.025439873672485687\n",
            "\u001b[1m\u001b[92m13\u001b[0m\t \u001b[1m\u001b[92m[8.80290978 7.85883056 7.56382359 0.82763695 7.67177685 1.        ]\u001b[0m\t \u001b[1m\u001b[92m-0.2306399690333139\u001b[0m\t \u001b[1m\u001b[92m-0.2306399690333139\u001b[0m\t \u001b[1m\u001b[92m0.034038928336214976\u001b[0m\t \u001b[1m\u001b[92m0.042410690245725385\u001b[0m\n",
            "14 \t [ 5.80191965  6.46030441 13.99999976  0.70393859 11.97072585  0.82668964]\t -0.2183619154026652\t -0.2306399690333139\t 0.02126464087813967\t 0.03065502152469977\n",
            "15 \t [8.73630067 8.43300678 5.         0.99126995 7.         0.49162865]\t 0.06914303218527378\t -0.2306399690333139\t 0.021367949129422855\t 0.021367949129422855\n",
            "16 \t [4.03188062 7.82151253 5.00408487 0.86855012 3.00128057 0.75564071]\t -0.14595125210344412\t -0.2306399690333139\t 0.021428247917899323\t 0.02352496759659222\n",
            "\u001b[1m\u001b[92m17\u001b[0m\t \u001b[1m\u001b[92m[7.99728393 7.99914761 8.40521071 0.74033511 7.69135053 1.        ]\u001b[0m\t \u001b[1m\u001b[92m-0.24767677590724935\u001b[0m\t \u001b[1m\u001b[92m-0.24767677590724935\u001b[0m\t \u001b[1m\u001b[92m0.04060813663080768\u001b[0m\t \u001b[1m\u001b[92m0.0843097241771263\u001b[0m\n",
            "18 \t [ 5.33598283  4.61557013 13.00000741  0.89884725 11.00000716  0.32048759]\t 0.12696363150121778\t -0.24767677590724935\t 0.01998507896151553\t 0.019985079283038353\n",
            "19 \t [ 5.26429796  7.61064276 14.          0.6561462  10.          0.72475108]\t -0.188959124717316\t -0.24767677590724935\t 0.02011369733832537\t 0.02011369733832537\n",
            "20 \t [9.86647873 7.85839702 8.         0.50906511 9.         0.81110449]\t -0.1977696486502599\t -0.24767677590724935\t 0.06873213517724938\t 0.06873213517724938\n",
            "21 \t [8.50321029 7.89860968 7.87783014 0.82568635 7.78403476 1.        ]\t -0.23262268287338111\t -0.24767677590724935\t 0.07320351945934214\t 0.10684802963348447\n",
            "22 \t [8.57922875 7.88612247 7.81648334 0.76872266 7.71280293 1.        ]\t -0.23217684417924364\t -0.24767677590724935\t 0.03649565400506119\t 0.06890391547871691\n",
            "23 \t [8.86129003 7.62670792 8.         0.64247921 6.         0.45176657]\t -0.00234923454124083\t -0.24767677590724935\t 0.051900075638821964\t 0.051900075638821964\n",
            "24 \t [7.91991697 7.90025164 7.91144976 0.80115038 7.20308775 1.        ]\t -0.2320441894683225\t -0.24767677590724935\t 0.03985329023235872\t 0.06553952286073346\n",
            "25 \t [ 5.79431546  6.46352384 14.00148018  0.70481619 11.98029186  0.8245639 ]\t -0.21864985662895248\t -0.24767677590724935\t 0.0653039900021713\t 0.07992843805614029\n",
            "26 \t [8.21663328 7.82790818 7.88456313 0.8319153  7.59177006 1.        ]\t -0.23198422243681485\t -0.24767677590724935\t 0.028794489754116394\t 0.057950064265876754\n",
            "27 \t [4.18907098 3.35270903 9.00318623 0.87749531 2.99750961 0.56646596]\t -0.10614670233288306\t -0.24767677590724935\t 0.052619640200491424\t 0.05447179193461764\n",
            "28 \t [9.38747631 7.67757824 7.31232307 0.68304278 8.36818137 1.        ]\t -0.22984467469666253\t -0.24767677590724935\t 0.05840820982705689\t 0.08034887439670085\n",
            "29 \t [ 5.56210896  7.17324957 14.08860331  0.66734285 11.14092794  0.81437899]\t -0.21687223225493427\t -0.24767677590724935\t 0.07062805530551874\t 0.07793994594354697\n",
            "30 \t [ 5.6964569   6.75066685 14.03340799  0.68996907 11.62640978  0.81839641]\t -0.21791998371359353\t -0.24767677590724935\t 0.02358170263407525\t 0.04497788758568924\n"
          ]
        },
        {
          "output_type": "execute_result",
          "data": {
            "text/plain": [
              "50914.76427397215"
            ]
          },
          "metadata": {},
          "execution_count": 26
        }
      ]
    },
    {
      "cell_type": "code",
      "metadata": {
        "id": "J1WsphKSUj19",
        "colab": {
          "base_uri": "https://localhost:8080/"
        },
        "outputId": "6aa306c4-ef5f-4f83-ce6b-75eb6cdf1201"
      },
      "source": [
        "### Bayesian optimization runs (x20): 'approx' Acquisition Function run number = 7\n",
        "\n",
        "np.random.seed(run_num_7)\n",
        "surrogate_approx_7 = dtStudentProcess(cov_func, optimize=opt, nu = df)\n",
        "\n",
        "X_train7, X_test7, y_train7, y_test7 = train_test_split(X, y, test_size=test_perc, random_state=run_num_7)\n",
        "\n",
        "def f_syn_polarity7(alpha, gamma, max_depth, subsample, min_child_weight, colsample):\n",
        "    reg = XGBRegressor(reg_alpha=alpha, gamma=gamma, max_depth=int(max_depth), subsample=subsample, min_child_weight=min_child_weight,\n",
        "          colsample_bytree=colsample, n_estimators = n_est, random_state=run_num_7, objective = 'reg:squarederror')\n",
        "    score = np.array(cross_val_score(reg, X=X_train7, y=y_train7).mean())\n",
        "    return operator * score\n",
        "\n",
        "approx_7 = GPGO_multi(surrogate_approx_7, Acquisition_grad(util), f_syn_polarity7, param, n_jobs = -1) # define BayesOpt\n",
        "approx_7.run(max_iter = max_iter, init_evals = n_init) # run\n",
        "\n",
        "### Return optimal parameters' set:\n",
        "params_approx_7 = approx_7.getResult()[0]\n",
        "params_approx_7['max_depth'] = int(params_approx_7['max_depth'])\n",
        "params_approx_7['min_child_weight'] = int(params_approx_7['min_child_weight'])\n",
        "\n",
        "### Re-train with optimal parameters, run predictons:\n",
        "dX_approx_train7 = xgb.DMatrix(X_train7, y_train7)\n",
        "dX_approx_test7 = xgb.DMatrix(X_test7, y_test7)\n",
        "model_approx_7 = xgb.train(params_approx_7, dX_approx_train7)\n",
        "pred_approx_7 = model_approx_7.predict(dX_approx_test7)\n",
        "\n",
        "rmse_approx_7 = np.sqrt(mean_squared_error(pred_approx_7, y_test7))\n",
        "rmse_approx_7"
      ],
      "execution_count": null,
      "outputs": [
        {
          "output_type": "stream",
          "name": "stdout",
          "text": [
            "Evaluation \t Proposed point \t  Current eval. \t  Best eval. \t         Max. ExactAcqFunc \t Max. ApproxAcqFunc \n",
            "init\t [0.76308289 7.79918792 8.         0.98911145 8.         0.98019056]\t -0.2586906150944297\t -0.2733552926318651\t    \t    \n",
            "init\t [ 5.3849587   5.01120464 13.          0.74994125  5.          0.88192131]\t -0.2733552926318651\t -0.2733552926318651\t    \t    \n",
            "init\t [ 3.30839249  3.9294231  12.          0.6440728  13.          0.41137564]\t -0.11293024337404892\t -0.2733552926318651\t    \t    \n",
            "init\t [9.29528191 2.6258377  5.         0.80027446 1.         0.86616513]\t -0.1563990755548888\t -0.2733552926318651\t    \t    \n",
            "init\t [ 1.74052764  7.90763512 14.          0.7244129   4.          0.77536887]\t -0.23762179034590777\t -0.2733552926318651\t    \t    \n",
            "1  \t [ 5.45764857  4.97281112 13.00046414  0.9366862   4.99954402  0.5665214 ]\t -0.19836378206302993\t -0.2733552926318651\t 0.03827307496835929\t 0.05315899604461423\n",
            "2  \t [ 4.63120439  5.41610772 13.00232503  0.5         4.99777074  1.        ]\t -0.26166724663513624\t -0.2733552926318651\t 0.04119399317934918\t 0.05767815930140075\n",
            "3  \t [0.77165936 7.77428604 7.56215436 0.93640946 8.87568882 0.6380552 ]\t -0.1873182621155866\t -0.2733552926318651\t 0.03155897752991208\t 0.04200739591721237\n",
            "4  \t [ 4.9810184   4.83509774 12.57789695  0.5         5.40232895  1.        ]\t -0.26142380887985817\t -0.2733552926318651\t 0.02702778840315385\t 0.04824979116890068\n",
            "5  \t [ 5.19394455  5.22805525 12.4832292   0.5         4.66914582  1.        ]\t -0.26002622176802237\t -0.2733552926318651\t 0.023678684053032452\t 0.04545794035721353\n",
            "6  \t [ 5.35005525  5.5201151  12.85140519  0.5         5.33981504  1.        ]\t -0.26142370569600965\t -0.2733552926318651\t 0.0210639823636787\t 0.04285773841169148\n",
            "7  \t [1.05789679 7.3184991  7.41560863 1.         7.77694009 0.56447495]\t -0.16739407267553735\t -0.2733552926318651\t 0.01948228555673468\t 0.029006856773004592\n",
            "8  \t [ 2.50062817  7.26538436 13.7534121   0.66656046  4.25895599  0.83929898]\t -0.23578965909717287\t -0.2733552926318651\t 0.016832825496809117\t 0.023967943877239165\n",
            "9  \t [ 2.18073574  7.99701646 13.14230807  0.68264088  4.23009926  0.81693262]\t -0.2362294187716457\t -0.2733552926318651\t 0.01691186941850667\t 0.02683448008722563\n",
            "10 \t [ 5.11557382  5.07459996 12.9580656   0.5         5.01936541  1.        ]\t -0.26142377248102333\t -0.2733552926318651\t 0.023981839027142442\t 0.03633448973011041\n",
            "11 \t [ 3.25856829  3.96639184 10.43743629  0.70313238 13.51964206  0.5945648 ]\t -0.1946184433512293\t -0.2733552926318651\t 0.01493900891238138\t 0.01601628536845287\n",
            "12 \t [1.06443574 7.35775212 8.52016654 0.81522772 8.3900669  0.74529126]\t -0.19957563089910052\t -0.2733552926318651\t 0.016463372551669277\t 0.02581026808371432\n",
            "13 \t [ 3.81172836  4.57733703 11.15433048  0.74996006 14.08113335  0.58696623]\t -0.19955848164788473\t -0.2733552926318651\t 0.014373361770851795\t 0.01898294808921461\n",
            "14 \t [ 4.98127309  5.31498607 12.62053524  0.97937491  5.13979148  1.        ]\t -0.27261322234648494\t -0.2733552926318651\t 0.017961942208761746\t 0.037525355293041726\n",
            "15 \t [ 3.34755161  5.00045472 10.85086006  0.57166161 13.17735749  0.40809244]\t -0.1050777555214076\t -0.2733552926318651\t 0.016020104292985518\t 0.019773063172045614\n",
            "16 \t [ 5.0954424   5.247921   12.68271931  0.65457138  5.11533096  1.        ]\t -0.2637308254233354\t -0.2733552926318651\t 0.016555709537808994\t 0.02563974660074114\n",
            "17 \t [0.17559793 7.39480941 7.97214786 0.59740977 8.18981111 0.93361672]\t -0.23539168912426991\t -0.2733552926318651\t 0.01639257322570042\t 0.02210379506769657\n",
            "18 \t [ 1.95019212  7.41658248 13.40452515  0.68223143  3.66401172  0.99994493]\t -0.2700962877276162\t -0.2733552926318651\t 0.013320201307515685\t 0.0234545294502233\n",
            "19 \t [ 1.83128954  7.45232508 13.48876637  0.70916716  4.19499965  0.99642215]\t -0.2713288095812792\t -0.2733552926318651\t 0.010277445806520949\t 0.026078707727830736\n",
            "20 \t [ 5.04186013  5.22833618 12.75076326  0.59894363  5.0943952   1.        ]\t -0.26477384040055485\t -0.2733552926318651\t 0.0815525440606014\t 0.12042822035073597\n",
            "21 \t [ 5.05042321  5.22416947 12.75587193  0.60381439  5.09253417  1.        ]\t -0.26433953999737214\t -0.2733552926318651\t 0.07805321731104066\t 0.11772398306685065\n",
            "22 \t [ 2.06640894  7.53144572 13.50677432  0.99379918  3.93906017  0.43548228]\t -0.11399083015034397\t -0.2733552926318651\t 0.03467487330508941\t 0.06001636099889388\n",
            "23 \t [ 4.56796849  7.2276288  12.          0.69041532 11.          0.25650596]\t -0.009743840186487196\t -0.2733552926318651\t 0.057754134219298356\t 0.057754134219298356\n",
            "24 \t [ 5.10580218  5.19643172 12.78154816  0.63131773  5.08252539  0.9655608 ]\t -0.26970892393053675\t -0.2733552926318651\t 0.06032780459270669\t 0.07721934033855929\n",
            "25 \t [0.65388684 7.81541488 8.00512432 0.54402242 8.13612902 0.52995243]\t -0.17675719147569174\t -0.2733552926318651\t 0.024867852493962103\t 0.03826894392323855\n",
            "26 \t [ 2.06002331  9.88106062 13.          0.81874566 19.          0.24780841]\t 0.2666541973787562\t -0.2733552926318651\t 0.05582544194592481\t 0.05582544194592481\n",
            "27 \t [ 3.51626773  4.35720776 10.82516271  0.70815739 13.7240249   0.56730562]\t -0.19484465608908824\t -0.2733552926318651\t 0.058259772014810744\t 0.07088172070105274\n",
            "28 \t [ 5.29420826  5.12243755 12.72121082  0.70738909  5.13925038  0.87848081]\t -0.2714148943970954\t -0.2733552926318651\t 0.029364587874818292\t 0.05483506668132481\n",
            "\u001b[1m\u001b[92m29\u001b[0m\t \u001b[1m\u001b[92m[ 2.09059022  8.0393244  10.          0.97805306  8.          0.90435312]\u001b[0m\t \u001b[1m\u001b[92m-0.2773262378583471\u001b[0m\t \u001b[1m\u001b[92m-0.2773262378583471\u001b[0m\t \u001b[1m\u001b[92m0.028633772381836793\u001b[0m\t \u001b[1m\u001b[92m0.028633772381836793\u001b[0m\n",
            "30 \t [ 3.70924549  8.01457336 12.          0.67563189  4.          0.5761452 ]\t -0.18974478359554767\t -0.2773262378583471\t 0.05951140349714069\t 0.05951140349714069\n"
          ]
        },
        {
          "output_type": "execute_result",
          "data": {
            "text/plain": [
              "50300.444429160176"
            ]
          },
          "metadata": {},
          "execution_count": 27
        }
      ]
    },
    {
      "cell_type": "code",
      "metadata": {
        "id": "hI8sFP4ZUmOs",
        "colab": {
          "base_uri": "https://localhost:8080/"
        },
        "outputId": "209424fa-1073-4560-b2af-f5df4ea9bd7f"
      },
      "source": [
        "### Bayesian optimization runs (x20): 'approx' Acquisition Function run number = 8\n",
        "\n",
        "np.random.seed(run_num_8)\n",
        "surrogate_approx_8 = dtStudentProcess(cov_func, optimize=opt, nu = df)\n",
        "\n",
        "X_train8, X_test8, y_train8, y_test8 = train_test_split(X, y, test_size=test_perc, random_state=run_num_8)\n",
        "\n",
        "def f_syn_polarity8(alpha, gamma, max_depth, subsample, min_child_weight, colsample):\n",
        "    reg = XGBRegressor(reg_alpha=alpha, gamma=gamma, max_depth=int(max_depth), subsample=subsample, min_child_weight=min_child_weight,\n",
        "          colsample_bytree=colsample, n_estimators = n_est, random_state=run_num_8, objective = 'reg:squarederror')\n",
        "    score = np.array(cross_val_score(reg, X=X_train8, y=y_train8).mean())\n",
        "    return operator * score\n",
        "\n",
        "approx_8 = GPGO_multi(surrogate_approx_8, Acquisition_grad(util), f_syn_polarity8, param, n_jobs = -1) # define BayesOpt\n",
        "approx_8.run(max_iter = max_iter, init_evals = n_init) # run\n",
        "\n",
        "### Return optimal parameters' set:\n",
        "params_approx_8 = approx_8.getResult()[0]\n",
        "params_approx_8['max_depth'] = int(params_approx_8['max_depth'])\n",
        "params_approx_8['min_child_weight'] = int(params_approx_8['min_child_weight'])\n",
        "\n",
        "### Re-train with optimal parameters, run predictons:\n",
        "dX_approx_train8 = xgb.DMatrix(X_train8, y_train8)\n",
        "dX_approx_test8 = xgb.DMatrix(X_test8, y_test8)\n",
        "model_approx_8 = xgb.train(params_approx_8, dX_approx_train8)\n",
        "pred_approx_8 = model_approx_8.predict(dX_approx_test8)\n",
        "\n",
        "rmse_approx_8 = np.sqrt(mean_squared_error(pred_approx_8, y_test8))\n",
        "rmse_approx_8"
      ],
      "execution_count": null,
      "outputs": [
        {
          "output_type": "stream",
          "name": "stdout",
          "text": [
            "Evaluation \t Proposed point \t  Current eval. \t  Best eval. \t         Max. ExactAcqFunc \t Max. ApproxAcqFunc \n",
            "init\t [ 8.73429403  9.68540663 10.          0.68875849  9.          0.48011572]\t -0.1436805245641621\t -0.25516824115729875\t    \t    \n",
            "init\t [ 6.12033333  7.66062926  8.          0.76133734 13.          0.93379456]\t -0.23445327671439503\t -0.25516824115729875\t    \t    \n",
            "init\t [ 1.46524679  7.01527914  7.          0.90913299 10.          0.36016753]\t -0.04700988677478737\t -0.25516824115729875\t    \t    \n",
            "init\t [ 9.73855241  3.33774046 14.          0.53290419  7.          0.7088681 ]\t -0.2087365736042072\t -0.25516824115729875\t    \t    \n",
            "init\t [ 3.00618018  1.82702795 11.          0.75681389 14.          0.98627449]\t -0.25516824115729875\t -0.25516824115729875\t    \t    \n",
            "1  \t [ 6.60170689  7.49812375  8.66885618  0.74711865 12.99999993  1.        ]\t -0.2459104178860899\t -0.25516824115729875\t 0.0337341874854288\t 0.04286967546651597\n",
            "2  \t [ 6.13235466  8.0485466   8.72846253  0.79786659 13.49105065  0.52929933]\t -0.19075269892122268\t -0.25516824115729875\t 0.03033418628760489\t 0.04294255677181826\n",
            "3  \t [ 6.56737902  7.52363213  8.32247083  0.75044227 12.6779941   0.17041135]\t 0.050681868127971395\t -0.25516824115729875\t 0.029880872584880695\t 0.03842809199503873\n",
            "4  \t [ 6.1645589   7.44533453  8.46824967  0.73879691 13.55637643  1.        ]\t -0.2462099444272161\t -0.25516824115729875\t 0.02971545622793338\t 0.059962626669582283\n",
            "5  \t [ 5.79285355  7.79314956  8.79959757  0.80437554 12.95385061  1.        ]\t -0.24473346088404924\t -0.25516824115729875\t 0.03280176126712211\t 0.05039621343227551\n",
            "6  \t [ 6.35246482  8.10954774  8.45213163  1.         13.27561587  1.        ]\t -0.2482472266464338\t -0.25516824115729875\t 0.028670800185314874\t 0.04645247783612816\n",
            "7  \t [ 6.21240773  7.92821684  8.54251305  0.5        13.21987515  1.        ]\t -0.23878572333923237\t -0.25516824115729875\t 0.023228493618151397\t 0.04079686735548353\n",
            "8  \t [ 2.90062492  1.66697269 11.00000001  0.84591615 13.14349833  0.78677757]\t -0.24691454276235952\t -0.25516824115729875\t 0.028033931591060893\t 0.03395710240198178\n",
            "\u001b[1m\u001b[92m9\u001b[0m\t \u001b[1m\u001b[92m[ 6.48589137  7.65610814  9.5430429   1.         13.42460891  1.        ]\u001b[0m\t \u001b[1m\u001b[92m-0.25906374516254177\u001b[0m\t \u001b[1m\u001b[92m-0.25906374516254177\u001b[0m\t \u001b[1m\u001b[92m0.02019206355047112\u001b[0m\t \u001b[1m\u001b[92m0.032332449941789874\u001b[0m\n",
            "10 \t [ 2.35542866  2.08739252 10.73937611  0.89778324 13.63559495  0.86365854]\t -0.24710250703211614\t -0.25906374516254177\t 0.019991909282486307\t 0.03461821939252508\n",
            "11 \t [ 2.84067459  1.53325761 10.3544947   0.75095533 13.63469215  0.98966517]\t -0.25192584389572137\t -0.25906374516254177\t 0.01846011109940268\t 0.03494888963403735\n",
            "12 \t [ 3.105116    2.21979676 10.58887136  0.66710426 13.49252815  0.87184702]\t -0.23818216900975359\t -0.25906374516254177\t 0.02045990097054075\t 0.0347675364257353\n",
            "13 \t [ 2.74573809  1.70001202 10.78381695  0.53658603 13.7268233   0.4150306 ]\t -0.14366046048495992\t -0.25906374516254177\t 0.016157641409434886\t 0.03348278463506607\n",
            "14 \t [ 6.27676369  7.64028592  8.91481418  1.         13.26915071  1.        ]\t -0.24824723393148132\t -0.25906374516254177\t 0.02207768394814489\t 0.033652000468294786\n",
            "\u001b[1m\u001b[92m15\u001b[0m\t \u001b[1m\u001b[92m[ 2.88057824  1.86132421 10.78268178  1.         13.5312213   1.        ]\u001b[0m\t \u001b[1m\u001b[92m-0.2698971583229618\u001b[0m\t \u001b[1m\u001b[92m-0.2698971583229618\u001b[0m\t \u001b[1m\u001b[92m0.02046044893414298\u001b[0m\t \u001b[1m\u001b[92m0.0456069997778041\u001b[0m\n",
            "16 \t [ 2.66721829  1.89150382 10.92665751  0.5        13.36461175  1.        ]\t -0.2539063532682534\t -0.2698971583229618\t 0.01826774783711612\t 0.026519153144273847\n",
            "17 \t [ 7.27503441  7.64770814  9.35153478  0.67752143 13.70103077  1.        ]\t -0.2583230538999267\t -0.2698971583229618\t 0.014628287753401225\t 0.02552169085419516\n",
            "18 \t [ 6.95093538  7.15753356  9.73917693  0.5        13.27262861  1.        ]\t -0.24859755166869543\t -0.2698971583229618\t 0.01593029898350335\t 0.028613009427056378\n",
            "19 \t [ 7.05631054  7.97016859  9.73018448  0.66223626 13.07713717  1.        ]\t -0.2560463034735817\t -0.2698971583229618\t 0.015904840063859088\t 0.027868595791782327\n",
            "20 \t [ 5.25899175  8.07812777  7.93429776  1.         13.35470313  1.        ]\t -0.23380491976573275\t -0.2698971583229618\t 0.0151396208006228\t 0.027450455781200814\n",
            "21 \t [ 4.96181193  2.91089923  6.          0.69167509 15.          0.83383245]\t -0.18064895129039782\t -0.2698971583229618\t 0.0476092869806022\t 0.0476092869806022\n",
            "22 \t [ 4.58460492  5.58657543  6.          0.87617459 13.          0.44086456]\t -0.12312766281575442\t -0.2698971583229618\t 0.04877277472170562\t 0.04877277472170562\n",
            "23 \t [ 9.05515089  2.98070061 13.44781076  0.68330396  7.          0.49389108]\t -0.13809966202049828\t -0.2698971583229618\t 0.031048225944810114\t 0.03125075777861142\n",
            "24 \t [ 6.26699779  7.74644927  8.71201633  0.80615431 13.25577212  0.98748046]\t -0.23364768988908136\t -0.2698971583229618\t 0.08159752935694213\t 0.1064413439153142\n",
            "25 \t [ 5.26093317  8.07724828  7.93495171  0.99947742 13.3539917   0.99993532]\t -0.22040892651331684\t -0.2698971583229618\t 0.044163459271045355\t 0.05155036323931868\n",
            "26 \t [ 3.21551212  3.04157433  6.          0.9055065  17.          0.2304952 ]\t 0.05581451245565692\t -0.2698971583229618\t 0.05217896815750824\t 0.05217896815750824\n",
            "27 \t [ 7.15040543  9.72926644 14.          0.63776297 15.          0.43073814]\t -0.14305933729428139\t -0.2698971583229618\t 0.045492225561549915\t 0.045492225561549915\n",
            "28 \t [ 5.19310336  7.25215803  8.19348588  0.5        13.19473275  1.        ]\t -0.23878585121925905\t -0.2698971583229618\t 0.04940283637988773\t 0.06438473170349905\n",
            "29 \t [ 3.0033824   1.54024245 10.          0.57968523 14.          0.81377548]\t -0.23682840260038668\t -0.2698971583229618\t 0.06540343783408759\t 0.06540343783408759\n",
            "30 \t [ 6.13227177  4.9471251  12.          0.70151646  5.          0.22031339]\t 0.054850144568836835\t -0.2698971583229618\t 0.05734570858212277\t 0.05734570858212277\n"
          ]
        },
        {
          "output_type": "execute_result",
          "data": {
            "text/plain": [
              "51925.86071625527"
            ]
          },
          "metadata": {},
          "execution_count": 28
        }
      ]
    },
    {
      "cell_type": "code",
      "metadata": {
        "id": "Vw5IYus6UpAn",
        "colab": {
          "base_uri": "https://localhost:8080/"
        },
        "outputId": "04238883-9208-4652-ff4c-b49533c4708d"
      },
      "source": [
        "### Bayesian optimization runs (x20): 'approx' Acquisition Function run number = 9\n",
        "\n",
        "np.random.seed(run_num_9)\n",
        "surrogate_approx_9 = dtStudentProcess(cov_func, optimize=opt, nu = df)\n",
        "\n",
        "X_train9, X_test9, y_train9, y_test9 = train_test_split(X, y, test_size=test_perc, random_state=run_num_9)\n",
        "\n",
        "def f_syn_polarity9(alpha, gamma, max_depth, subsample, min_child_weight, colsample):\n",
        "    reg = XGBRegressor(reg_alpha=alpha, gamma=gamma, max_depth=int(max_depth), subsample=subsample, min_child_weight=min_child_weight,\n",
        "          colsample_bytree=colsample, n_estimators = n_est, random_state=run_num_9, objective = 'reg:squarederror')\n",
        "    score = np.array(cross_val_score(reg, X=X_train9, y=y_train9).mean())\n",
        "    return operator * score\n",
        "\n",
        "approx_9 = GPGO_multi(surrogate_approx_9, Acquisition_grad(util), f_syn_polarity9, param, n_jobs = -1) # define BayesOpt\n",
        "approx_9.run(max_iter = max_iter, init_evals = n_init) # run\n",
        "\n",
        "### Return optimal parameters' set:\n",
        "params_approx_9 = approx_9.getResult()[0]\n",
        "params_approx_9['max_depth'] = int(params_approx_9['max_depth'])\n",
        "params_approx_9['min_child_weight'] = int(params_approx_9['min_child_weight'])\n",
        "\n",
        "### Re-train with optimal parameters, run predictons:\n",
        "dX_approx_train9 = xgb.DMatrix(X_train9, y_train9)\n",
        "dX_approx_test9 = xgb.DMatrix(X_test9, y_test9)\n",
        "model_approx_9 = xgb.train(params_approx_9, dX_approx_train9)\n",
        "pred_approx_9 = model_approx_9.predict(dX_approx_test9)\n",
        "\n",
        "rmse_approx_9 = np.sqrt(mean_squared_error(pred_approx_9, y_test9))\n",
        "rmse_approx_9"
      ],
      "execution_count": null,
      "outputs": [
        {
          "output_type": "stream",
          "name": "stdout",
          "text": [
            "Evaluation \t Proposed point \t  Current eval. \t  Best eval. \t         Max. ExactAcqFunc \t Max. ApproxAcqFunc \n",
            "init\t [ 0.10374154  5.01874592 11.          0.50377155  2.          0.29670281]\t -0.019717608908007823\t -0.2785418431036636\t    \t    \n",
            "init\t [ 4.18508181  2.48101168 13.          0.69794293  2.          0.25009871]\t -0.018650671836447353\t -0.2785418431036636\t    \t    \n",
            "init\t [ 8.78559086  9.50964032 13.          0.98395204 11.          0.90820641]\t -0.2785418431036636\t -0.2785418431036636\t    \t    \n",
            "init\t [ 6.66898973  5.47837783  6.          0.97165345 12.          0.72499481]\t -0.17934492858364784\t -0.2785418431036636\t    \t    \n",
            "init\t [ 8.24870465  4.65668475 13.          0.68760467  9.          0.98502332]\t -0.26955240780936573\t -0.2785418431036636\t    \t    \n",
            "1  \t [ 4.71622593  4.29991654 12.08967405  0.73462587  2.95526125  0.43086462]\t -0.10648828631205032\t -0.2785418431036636\t 0.028242109989785807\t 0.028246235662721827\n",
            "2  \t [ 6.73288741  5.5053378   7.99998917  0.58701855 13.99998917  0.29641682]\t -0.029724094568469563\t -0.2785418431036636\t 0.02463130566721055\t 0.02463130591152036\n",
            "3  \t [ 8.21672231  9.32816852 13.          0.84364962 10.36817665  0.9238832 ]\t -0.27549010664866513\t -0.2785418431036636\t 0.03223526675514865\t 0.03419659855363424\n",
            "4  \t [ 8.16752119  4.92232927 12.72247869  0.71027977  9.8313736   1.        ]\t -0.2628102418458256\t -0.2785418431036636\t 0.019337877600472907\t 0.030910415685031754\n",
            "5  \t [ 8.64819314  8.78276955 12.96614653  0.87496195 10.76044675  0.93691081]\t -0.2728052148839973\t -0.2785418431036636\t 0.022618462502509026\t 0.03622443534387244\n",
            "6  \t [ 8.14531624  9.20905966 13.00058326  0.94550221 11.07013498  0.7158353 ]\t -0.2480536087970842\t -0.2785418431036636\t 0.030159956528274637\t 0.03544365607814907\n",
            "7  \t [ 8.30843295  5.42264726 13.01437956  0.71897011  9.24487597  0.97546109]\t -0.27064695485197465\t -0.2785418431036636\t 0.02196505094713462\t 0.029277818500706404\n",
            "8  \t [ 8.74607321  4.95741886 12.6197856   0.70023232  9.30410296  0.96227636]\t -0.26904683612200175\t -0.2785418431036636\t 0.015296467336159355\t 0.02981123862678199\n",
            "9  \t [ 8.71331853  9.26406841 13.10755357  0.96471965 10.53459862  0.55597467]\t -0.20689488576473947\t -0.2785418431036636\t 0.017061852443254515\t 0.031089393063170993\n",
            "10 \t [ 8.48734463  9.30088235 12.6552164   0.69428646 10.80995341  1.        ]\t -0.26377170618297197\t -0.2785418431036636\t 0.013927108808239663\t 0.041803595840772305\n",
            "11 \t [ 8.43441557  9.24173224 13.17398578  1.         10.81666583  1.        ]\t -0.26701494419556704\t -0.2785418431036636\t 0.015172049219222567\t 0.03677370851923193\n",
            "12 \t [ 8.53814874  4.90080552 13.21934161  0.66430021  9.50252758  1.        ]\t -0.2604782046780382\t -0.2785418431036636\t 0.013982300130191102\t 0.028858488785284662\n",
            "13 \t [ 5.04620241  6.79241915  7.          0.77907426 17.          0.85539484]\t -0.2332464322862983\t -0.2785418431036636\t 0.010558166476939152\t 0.010558166476939152\n",
            "14 \t [ 8.24788507  4.99369979 12.78221625  0.5         9.31129792  0.54127333]\t -0.18836848746281618\t -0.2785418431036636\t 0.016147618289347538\t 0.03028031564007951\n",
            "15 \t [ 8.56203541  9.23660143 13.21534777  0.5        10.92128653  1.        ]\t -0.2537894534722176\t -0.2785418431036636\t 0.016392769034925633\t 0.023433117944172674\n",
            "16 \t [ 8.34314626  4.97711629 12.8345841   1.          9.30652218  1.        ]\t -0.2680312473464798\t -0.2785418431036636\t 0.012942257500069042\t 0.035097737367824774\n",
            "17 \t [ 8.47931065  9.20293398 12.87506034  0.95848757 10.78668283  1.        ]\t -0.26613822171097123\t -0.2785418431036636\t 0.011447972652393886\t 0.02194243505886249\n",
            "18 \t [ 8.97830859  9.03662947 12.93376724  0.83108122 11.42048483  0.80651166]\t -0.27314798470557355\t -0.2785418431036636\t 0.01280750958474378\t 0.028095463211999853\n",
            "19 \t [ 7.77728922  8.59353258 13.00723643  0.5093005  10.05804919  1.        ]\t -0.2536160024783058\t -0.2785418431036636\t 0.018352994118536463\t 0.035764649776168715\n",
            "20 \t [ 8.3666384   4.99915962 12.84861101  0.58022613  9.33222758  1.        ]\t -0.25960243538989597\t -0.2785418431036636\t 0.0200607998160339\t 0.04417084929037532\n",
            "21 \t [ 8.4964953   9.17552693 12.98838737  0.83930268 10.8062724   0.90630551]\t -0.2757328601183934\t -0.2785418431036636\t 0.0644579431397616\t 0.08771305150434053\n",
            "22 \t [ 0.3768638   0.98456584  9.          0.99441364 13.          0.49763585]\t -0.11578962315774832\t -0.2785418431036636\t 0.0590350332213948\t 0.0590350332213948\n",
            "23 \t [ 8.22423677  8.79160209 12.85856286  0.5        10.74153728  0.78646185]\t -0.2563015180166367\t -0.2785418431036636\t 0.06908891236401427\t 0.0874883039461258\n",
            "24 \t [ 8.38778828  4.96826088 12.90481007  0.77008164  9.37374832  1.        ]\t -0.26536187922106613\t -0.2785418431036636\t 0.04706623459268196\t 0.08832966849018607\n",
            "25 \t [ 8.38230912  4.9749332  12.8935558   0.72714121  9.36195394  0.98813863]\t -0.2706541363393523\t -0.2785418431036636\t 0.0420549412108979\t 0.09087194157812309\n",
            "26 \t [ 8.44998687  9.15244538 12.98324623  0.75180416 10.80164365  0.85152281]\t -0.27086490166226745\t -0.2785418431036636\t 0.04635495461271296\t 0.10585791375731811\n",
            "27 \t [ 8.40616433  8.94891758 12.95678911  0.76510005 10.79307029  1.        ]\t -0.26743760635586444\t -0.2785418431036636\t 0.07971544395571685\t 0.09638487675405752\n",
            "28 \t [ 5.68636813  6.01717072 13.          0.71713548 10.          0.98956477]\t -0.2703559404955704\t -0.2785418431036636\t 0.052867499756609364\t 0.052867499756609364\n",
            "29 \t [ 5.01940394  4.83027424 11.57449376  0.76903526  2.97641954  0.29898485]\t -0.02775811994089907\t -0.2785418431036636\t 0.040104511189865764\t 0.04171060646530767\n",
            "30 \t [ 6.66781508  5.47795973  6.00003762  0.97182937 12.0007246   0.72535532]\t -0.17808619733569525\t -0.2785418431036636\t 0.034374888226682894\t 0.036856742747785276\n"
          ]
        },
        {
          "output_type": "execute_result",
          "data": {
            "text/plain": [
              "48075.00995818073"
            ]
          },
          "metadata": {},
          "execution_count": 29
        }
      ]
    },
    {
      "cell_type": "code",
      "metadata": {
        "id": "YD494io_Ur7V",
        "colab": {
          "base_uri": "https://localhost:8080/"
        },
        "outputId": "dd0c674f-f017-4e00-cd9d-b87fadc1e87c"
      },
      "source": [
        "### Bayesian optimization runs (x20): 'approx' Acquisition Function run number = 10\n",
        "\n",
        "np.random.seed(run_num_10)\n",
        "surrogate_approx_10 = dtStudentProcess(cov_func, optimize=opt, nu = df)\n",
        "\n",
        "X_train10, X_test10, y_train10, y_test10 = train_test_split(X, y, test_size=test_perc, random_state=run_num_10)\n",
        "\n",
        "def f_syn_polarity10(alpha, gamma, max_depth, subsample, min_child_weight, colsample):\n",
        "    reg = XGBRegressor(reg_alpha=alpha, gamma=gamma, max_depth=int(max_depth), subsample=subsample, min_child_weight=min_child_weight,\n",
        "          colsample_bytree=colsample, n_estimators = n_est, random_state=run_num_10, objective = 'reg:squarederror')\n",
        "    score = np.array(cross_val_score(reg, X=X_train10, y=y_train10).mean())\n",
        "    return operator * score\n",
        "\n",
        "approx_10 = GPGO_multi(surrogate_approx_10, Acquisition_grad(util), f_syn_polarity10, param, n_jobs = -1) # define BayesOpt\n",
        "approx_10.run(max_iter = max_iter, init_evals = n_init) # run\n",
        "\n",
        "### Return optimal parameters' set:\n",
        "params_approx_10 = approx_10.getResult()[0]\n",
        "params_approx_10['max_depth'] = int(params_approx_10['max_depth'])\n",
        "params_approx_10['min_child_weight'] = int(params_approx_10['min_child_weight'])\n",
        "\n",
        "### Re-train with optimal parameters, run predictons:\n",
        "dX_approx_train10 = xgb.DMatrix(X_train10, y_train10)\n",
        "dX_approx_test10 = xgb.DMatrix(X_test10, y_test10)\n",
        "model_approx_10 = xgb.train(params_approx_10, dX_approx_train10)\n",
        "pred_approx_10 = model_approx_10.predict(dX_approx_test10)\n",
        "\n",
        "rmse_approx_10 = np.sqrt(mean_squared_error(pred_approx_10, y_test10))\n",
        "rmse_approx_10"
      ],
      "execution_count": null,
      "outputs": [
        {
          "output_type": "stream",
          "name": "stdout",
          "text": [
            "Evaluation \t Proposed point \t  Current eval. \t  Best eval. \t         Max. ExactAcqFunc \t Max. ApproxAcqFunc \n",
            "init\t [ 7.71320643  0.20751949  5.          0.72150747 17.          0.12265456]\t 0.0350749555997862\t -0.25870937338076144\t    \t    \n",
            "init\t [ 7.0920801   2.65566127 13.          0.57518893 17.          0.83494165]\t -0.25870937338076144\t -0.25870937338076144\t    \t    \n",
            "init\t [ 3.36071584  8.90816531  6.          0.86087766 15.          0.75469196]\t -0.20394230168800664\t -0.25870937338076144\t    \t    \n",
            "init\t [ 5.40880931  1.31458152  8.          0.57108502 14.          0.62551123]\t -0.22600169453661217\t -0.25870937338076144\t    \t    \n",
            "init\t [1.82631436 8.26082248 6.         0.80888349 5.         0.15900694]\t 0.03489450960148628\t -0.25870937338076144\t    \t    \n",
            "1  \t [ 6.7244911   0.77055265 10.          0.67779069 14.          0.63914662]\t -0.2417467767778893\t -0.25870937338076144\t 0.026933196430874315\t 0.026933196430874315\n",
            "2  \t [ 5.68984766  0.96762623  8.01202173  0.6517041  14.28108668  0.58467156]\t -0.21909581900609404\t -0.25870937338076144\t 0.030850930359251627\t 0.04044183948099551\n",
            "3  \t [ 6.04630885  1.12821752  9.10836178  0.60376084 13.90565398  0.6468276 ]\t -0.23451121580756498\t -0.25870937338076144\t 0.02619452541069942\t 0.05243475763644882\n",
            "4  \t [ 6.24045681  0.39634879  9.49323253  0.89807806 14.45915137  0.2830028 ]\t -0.11628097926770083\t -0.25870937338076144\t 0.02707304523158762\t 0.03592692410892762\n",
            "5  \t [ 6.24623503  2.62537717 12.99998583  0.56624743 17.27232065  0.81057946]\t -0.25772473977947885\t -0.25870937338076144\t 0.026168529740967828\t 0.032731681885252426\n",
            "6  \t [ 6.41221368  1.41543608  8.17461563  0.5        13.80859923  1.        ]\t -0.24110946216722695\t -0.25870937338076144\t 0.01953136886308791\t 0.031192041327433313\n",
            "7  \t [ 7.00416397  1.02016365  9.23964402  0.5        13.90762161  1.        ]\t -0.25222066095315054\t -0.25870937338076144\t 0.021873684994387695\t 0.03607280755457555\n",
            "8  \t [ 6.89576985  1.314027    9.38742307  1.         13.63664577  0.51495857]\t -0.1521097844529096\t -0.25870937338076144\t 0.0179601283823306\t 0.031617323082848814\n",
            "9  \t [ 6.59434782  1.27286002  9.58093853  0.5        14.43084447  1.        ]\t -0.2523591725830088\t -0.25870937338076144\t 0.019224936770645348\t 0.03201930552974171\n",
            "10 \t [ 6.03881761  1.41920284  8.53430623  0.5        14.34963423  1.        ]\t -0.23981906932349412\t -0.25870937338076144\t 0.014803237957725281\t 0.02985556853840116\n",
            "\u001b[1m\u001b[92m11\u001b[0m\t \u001b[1m\u001b[92m[ 6.57293695  2.43291717 12.61620852  0.60724137 16.80057573  0.8194555 ]\u001b[0m\t \u001b[1m\u001b[92m-0.25942611408012184\u001b[0m\t \u001b[1m\u001b[92m-0.25942611408012184\u001b[0m\t \u001b[1m\u001b[92m0.013274250944624262\u001b[0m\t \u001b[1m\u001b[92m0.029744325221055544\u001b[0m\n",
            "12 \t [ 6.62730618  2.22093101 13.24000332  0.55983013 16.94587619  0.83101589]\t -0.2559220212008032\t -0.25942611408012184\t 0.014848029302934085\t 0.02929544004203453\n",
            "13 \t [ 7.27401049  0.75259819  9.9896061   0.5        14.43530918  1.        ]\t -0.2523590708600746\t -0.25942611408012184\t 0.012224835934239366\t 0.020991305909348387\n",
            "14 \t [ 6.76152757  2.32867215 12.77118025  0.50021321 17.37063908  0.80932228]\t -0.2529061387471918\t -0.25942611408012184\t 0.015006820721840832\t 0.027885126526196544\n",
            "15 \t [ 6.65804267  2.57077583 12.96875983  0.94928798 17.07525174  0.63177868]\t -0.2532089268138688\t -0.25942611408012184\t 0.013040017292856977\t 0.027164655488020318\n",
            "16 \t [ 6.63404443  2.61613701 12.96201441  0.5        17.01233159  0.86956434]\t -0.25257677110943744\t -0.25942611408012184\t 0.010034682316260635\t 0.025944637000072428\n",
            "17 \t [ 6.0005259   0.9488057   8.44981938  0.5        13.81515127  1.        ]\t -0.24110951792043248\t -0.25942611408012184\t 0.010585200340858717\t 0.023001029274961487\n",
            "18 \t [ 6.66455181  2.39209721 12.90950657  0.5        17.00596616  0.34013326]\t -0.1109483596494174\t -0.25942611408012184\t 0.009075711512274185\t 0.022102481843405835\n",
            "\u001b[1m\u001b[92m19\u001b[0m\t \u001b[1m\u001b[92m[ 6.65095775  2.37428606 12.89185967  0.97608784 17.12996113  1.        ]\u001b[0m\t \u001b[1m\u001b[92m-0.27347156847391735\u001b[0m\t \u001b[1m\u001b[92m-0.27347156847391735\u001b[0m\t \u001b[1m\u001b[92m0.015897006172592893\u001b[0m\t \u001b[1m\u001b[92m0.07566721361499437\u001b[0m\n",
            "20 \t [ 6.69377841  2.3559171  12.90279289  0.71201122 17.07083955  0.85240303]\t -0.26622336072029934\t -0.27347156847391735\t 0.025418025844511683\t 0.07623350939193606\n",
            "\u001b[1m\u001b[92m21\u001b[0m\t \u001b[1m\u001b[92m[ 6.96572182  2.49048158 14.0615186   0.76474455 17.78905171  0.99499438]\u001b[0m\t \u001b[1m\u001b[92m-0.2798533603099965\u001b[0m\t \u001b[1m\u001b[92m-0.2798533603099965\u001b[0m\t \u001b[1m\u001b[92m0.07475102257187216\u001b[0m\t \u001b[1m\u001b[92m0.09077941351414436\u001b[0m\n",
            "22 \t [ 1.18348631  0.07810449 10.          0.77447687 17.          0.36722268]\t -0.11627783172230995\t -0.2798533603099965\t 0.04810263436448646\t 0.04810263436448646\n",
            "23 \t [ 6.89824313  6.43931113 11.          0.60707962 11.          0.89509759]\t -0.27329161907114713\t -0.2798533603099965\t 0.04521613602936185\t 0.04521613602936185\n",
            "24 \t [ 7.31319047  1.06855916 11.00001475  0.62851487 16.9999999   0.94787095]\t -0.27390027557186114\t -0.2798533603099965\t 0.04279349287214971\t 0.04279349326659382\n",
            "25 \t [ 6.70683129  0.91752292  9.38163392  0.5        14.20243769  0.92312913]\t -0.258824154329008\t -0.2798533603099965\t 0.01560023972808632\t 0.0390350503803944\n",
            "26 \t [ 6.77360398  2.6711583  13.44170839  0.84629876 17.49705072  1.        ]\t -0.27263055187074847\t -0.2798533603099965\t 0.06387477063918565\t 0.091980991275414\n",
            "27 \t [ 5.25542375  7.82207384 11.          0.98568236 11.99998276  0.41833869]\t -0.19990426403381592\t -0.2798533603099965\t 0.03248090002848559\t 0.03248090180631958\n",
            "28 \t [ 6.76443134  2.46432487 13.31684519  0.70812917 17.33529023  1.        ]\t -0.2696357115695121\t -0.2798533603099965\t 0.023685851131060247\t 0.0586111492665505\n",
            "29 \t [ 6.72510153  2.49865065 13.18021059  0.72532228 17.25869574  0.96228084]\t -0.2796454607183036\t -0.2798533603099965\t 0.024325195874308855\t 0.06488581394078267\n",
            "30 \t [ 6.76982187  2.48143932 13.27848052  0.77666958 17.35096326  1.        ]\t -0.27125403565698913\t -0.2798533603099965\t 0.06231946891549043\t 0.10496523042764129\n"
          ]
        },
        {
          "output_type": "execute_result",
          "data": {
            "text/plain": [
              "49030.32057885701"
            ]
          },
          "metadata": {},
          "execution_count": 30
        }
      ]
    },
    {
      "cell_type": "code",
      "metadata": {
        "id": "N03Sq0TvUuhp",
        "colab": {
          "base_uri": "https://localhost:8080/"
        },
        "outputId": "db62c3a8-79ee-48f2-8bcb-6aa2c61c86bb"
      },
      "source": [
        "### Bayesian optimization runs (x20): 'approx' Acquisition Function run number = 11\n",
        "\n",
        "np.random.seed(run_num_11)\n",
        "surrogate_approx_11 = dtStudentProcess(cov_func, optimize=opt, nu = df)\n",
        "\n",
        "X_train11, X_test11, y_train11, y_test11 = train_test_split(X, y, test_size=test_perc, random_state=run_num_11)\n",
        "\n",
        "def f_syn_polarity11(alpha, gamma, max_depth, subsample, min_child_weight, colsample):\n",
        "    reg = XGBRegressor(reg_alpha=alpha, gamma=gamma, max_depth=int(max_depth), subsample=subsample, min_child_weight=min_child_weight,\n",
        "          colsample_bytree=colsample, n_estimators = n_est, random_state=run_num_11, objective = 'reg:squarederror')\n",
        "    score = np.array(cross_val_score(reg, X=X_train11, y=y_train11).mean())\n",
        "    return operator * score\n",
        "\n",
        "approx_11 = GPGO_multi(surrogate_approx_11, Acquisition_grad(util), f_syn_polarity11, param, n_jobs = -1) # define BayesOpt\n",
        "approx_11.run(max_iter = max_iter, init_evals = n_init) # run\n",
        "\n",
        "### Return optimal parameters' set:\n",
        "params_approx_11 = approx_11.getResult()[0]\n",
        "params_approx_11['max_depth'] = int(params_approx_11['max_depth'])\n",
        "params_approx_11['min_child_weight'] = int(params_approx_11['min_child_weight'])\n",
        "\n",
        "### Re-train with optimal parameters, run predictons:\n",
        "dX_approx_train11 = xgb.DMatrix(X_train11, y_train11)\n",
        "dX_approx_test11 = xgb.DMatrix(X_test11, y_test11)\n",
        "model_approx_11 = xgb.train(params_approx_11, dX_approx_train11)\n",
        "pred_approx_11 = model_approx_11.predict(dX_approx_test11)\n",
        "\n",
        "rmse_approx_11 = np.sqrt(mean_squared_error(pred_approx_11, y_test11))\n",
        "rmse_approx_11"
      ],
      "execution_count": null,
      "outputs": [
        {
          "output_type": "stream",
          "name": "stdout",
          "text": [
            "Evaluation \t Proposed point \t  Current eval. \t  Best eval. \t         Max. ExactAcqFunc \t Max. ApproxAcqFunc \n",
            "init\t [ 1.80269689  0.19475241  6.          0.59705781 13.          0.47818324]\t -0.10452827211752527\t -0.23842076500548512\t    \t    \n",
            "init\t [ 4.85427098  0.12780815  5.          0.91309068 14.          0.86571558]\t -0.1728713310140717\t -0.23842076500548512\t    \t    \n",
            "init\t [ 7.2996447   1.08736072 10.          0.92857712 18.          0.66910061]\t -0.23842076500548512\t -0.23842076500548512\t    \t    \n",
            "init\t [ 0.20483613  1.16737269  7.          0.57895615 16.          0.83644782]\t -0.2257485504188868\t -0.23842076500548512\t    \t    \n",
            "init\t [ 3.44624491  3.18798797 14.          0.54197657 15.          0.63958906]\t -0.22885928086884694\t -0.23842076500548512\t    \t    \n",
            "1  \t [ 3.55324976  0.15650747  5.42651686  0.77830058 13.57572287  0.70082655]\t -0.16655774005770876\t -0.23842076500548512\t 0.04051885884443808\t 0.04517527959921266\n",
            "2  \t [ 7.24103426  1.6781534   9.64321525  0.79286169 17.28643959  0.52024113]\t -0.1905800760559641\t -0.23842076500548512\t 0.0431681034154249\t 0.045611534430953914\n",
            "3  \t [ 7.34642565  1.55714322  9.31536317  0.66408588 18.39744992  0.53884531]\t -0.18583824316005665\t -0.23842076500548512\t 0.02905752044935837\t 0.04219437531580067\n",
            "4  \t [ 3.37957961  3.04787334 13.14543484  0.71544285 15.42729333  0.42305377]\t -0.1391483881932985\t -0.23842076500548512\t 0.029341583713946198\t 0.0352749813441718\n",
            "5  \t [ 0.67941886  0.89694168  6.712491    0.58727771 15.17969476  0.74142682]\t -0.19208476790350051\t -0.23842076500548512\t 0.023218077396175874\t 0.03198095250508797\n",
            "\u001b[1m\u001b[92m6\u001b[0m\t \u001b[1m\u001b[92m[ 6.98941815  1.85659019 10.25059223  0.94478709 18.1243397   0.67937629]\u001b[0m\t \u001b[1m\u001b[92m-0.2392586822775596\u001b[0m\t \u001b[1m\u001b[92m-0.2392586822775596\u001b[0m\t \u001b[1m\u001b[92m0.02034911820511054\u001b[0m\t \u001b[1m\u001b[92m0.03311494559528133\u001b[0m\n",
            "7  \t [ 6.68872158  1.35508356 10.01154077  0.5        17.97952062  0.48037633]\t -0.1318037344496678\t -0.2392586822775596\t 0.018309829207480494\t 0.03526495477463203\n",
            "\u001b[1m\u001b[92m8\u001b[0m\t \u001b[1m\u001b[92m[ 7.63218492  1.70095278 10.0529321   1.         18.00322454  0.82004847]\u001b[0m\t \u001b[1m\u001b[92m-0.26848924615049097\u001b[0m\t \u001b[1m\u001b[92m-0.26848924615049097\u001b[0m\t \u001b[1m\u001b[92m0.02169538309345156\u001b[0m\t \u001b[1m\u001b[92m0.047240742562696315\u001b[0m\n",
            "9  \t [ 7.61382382  1.65099799 10.16941374  1.         18.06619026  0.1       ]\t 0.23549177389708925\t -0.26848924615049097\t 0.013851287498762323\t 0.027234891249684652\n",
            "10 \t [ 7.02483643  1.54140218  9.64875398  0.92156191 17.89569514  1.        ]\t -0.2626438968415908\t -0.26848924615049097\t 0.03436120803365364\t 0.06082166781033737\n",
            "11 \t [ 7.08565048  1.54992903  9.70572622  0.89344311 17.905637    1.        ]\t -0.26357259033247565\t -0.26848924615049097\t 0.03399076758133747\t 0.06387883147905238\n",
            "12 \t [ 7.19066428  1.55470575  9.7993791   0.76090248 17.90917628  1.        ]\t -0.263128446391043\t -0.26848924615049097\t 0.0340526875875558\t 0.060452086657837766\n",
            "13 \t [ 3.57376391  4.28498399 13.96337404  0.51096643 15.49177639  0.77156201]\t -0.2504267452788634\t -0.26848924615049097\t 0.05080731729142552\t 0.06139313447407303\n",
            "\u001b[1m\u001b[92m14\u001b[0m\t \u001b[1m\u001b[92m[ 7.32208758  1.45478984 10.39622792  1.         18.73374801  1.        ]\u001b[0m\t \u001b[1m\u001b[92m-0.2696518953287197\u001b[0m\t \u001b[1m\u001b[92m-0.2696518953287197\u001b[0m\t \u001b[1m\u001b[92m0.05540706045002506\u001b[0m\t \u001b[1m\u001b[92m0.09666721883136412\u001b[0m\n",
            "15 \t [ 7.33557325  1.55632077 10.09810391  1.         18.24978871  1.        ]\t -0.26965189435373976\t -0.2696518953287197\t 0.031143335709826393\t 0.07738014560965567\n",
            "\u001b[1m\u001b[92m16\u001b[0m\t \u001b[1m\u001b[92m[ 7.56694834  2.13152349 10.46939709  0.9160564  17.76918175  1.        ]\u001b[0m\t \u001b[1m\u001b[92m-0.26976938316593607\u001b[0m\t \u001b[1m\u001b[92m-0.26976938316593607\u001b[0m\t \u001b[1m\u001b[92m0.03333235856262509\u001b[0m\t \u001b[1m\u001b[92m0.06747933709237004\u001b[0m\n",
            "17 \t [ 7.38967135  0.99696245  9.21414562  0.95208341 17.67753887  0.82888779]\t -0.2576475309655871\t -0.26976938316593607\t 0.03279788115136097\t 0.06556945929057116\n",
            "18 \t [ 3.16124517  3.89389459 13.72727929  0.53799843 15.11344463  0.55393707]\t -0.18484829363734184\t -0.26976938316593607\t 0.03161995319033143\t 0.053219166298482064\n",
            "\u001b[1m\u001b[92m19\u001b[0m\t \u001b[1m\u001b[92m[ 8.00839027  1.35507672 10.03141624  0.88219367 17.55729376  1.        ]\u001b[0m\t \u001b[1m\u001b[92m-0.2698391428221439\u001b[0m\t \u001b[1m\u001b[92m-0.2698391428221439\u001b[0m\t \u001b[1m\u001b[92m0.03608841238617553\u001b[0m\t \u001b[1m\u001b[92m0.07226197054888187\u001b[0m\n",
            "20 \t [ 1.07301069  0.3606189   7.09288973  0.79027973 16.3486005   0.38816874]\t -0.12432199743869324\t -0.2698391428221439\t 0.0673883127095876\t 0.07922301787164261\n",
            "21 \t [ 3.32966927  6.72206515 14.          0.83912863 18.          0.84659432]\t -0.26134864988615014\t -0.2698391428221439\t 0.038888938030283905\t 0.038888938030283905\n",
            "22 \t [ 2.29651207  8.19121596 10.          0.96687949 12.          0.17406334]\t 0.163764984998644\t -0.2698391428221439\t 0.0614149417073839\t 0.0614149417073839\n",
            "23 \t [ 3.76597197  3.68250261 14.04644156  0.54064714 15.44523938  0.79635728]\t -0.24998746732915897\t -0.2698391428221439\t 0.09231699067913945\t 0.10120353542638583\n",
            "24 \t [ 4.6126632   2.30401726 12.          0.91435286 14.          0.162288  ]\t 0.1643925270544261\t -0.2698391428221439\t 0.059022598765833406\t 0.059022598765833406\n",
            "25 \t [ 4.08716551  8.2132064  14.          0.54750755 16.00002839  0.26871387]\t -0.015481715342796853\t -0.2698391428221439\t 0.030604540046348553\t 0.030604541501031816\n",
            "26 \t [ 3.37143287  6.44115093 13.99640781  0.79609631 17.66857373  0.8290163 ]\t -0.25948633151890277\t -0.2698391428221439\t 0.07145741430033138\t 0.08703050593132844\n",
            "27 \t [ 5.56086291  7.99069804 14.          0.71502169 15.          0.65059415]\t -0.2355921237286704\t -0.2698391428221439\t 0.05905668869016269\t 0.05905668869016269\n",
            "28 \t [ 0.54460447  0.90845243  6.92243853  0.6256792  15.79869003  0.71111527]\t -0.19378381996554941\t -0.2698391428221439\t 0.03929669661438542\t 0.05656857271210225\n",
            "29 \t [ 0.50866776  0.94514912  6.9129355   0.61505155 15.7653719   0.73247985]\t -0.1945209091130954\t -0.2698391428221439\t 0.04484291853265509\t 0.05169223004135178\n",
            "\u001b[1m\u001b[92m30\u001b[0m\t \u001b[1m\u001b[92m[ 7.39306311  1.53195626 10.20122963  1.         17.54706911  1.        ]\u001b[0m\t \u001b[1m\u001b[92m-0.27052304117636466\u001b[0m\t \u001b[1m\u001b[92m-0.27052304117636466\u001b[0m\t \u001b[1m\u001b[92m0.06829551078106533\u001b[0m\t \u001b[1m\u001b[92m0.10946639385728152\u001b[0m\n"
          ]
        },
        {
          "output_type": "execute_result",
          "data": {
            "text/plain": [
              "50258.23604808732"
            ]
          },
          "metadata": {},
          "execution_count": 31
        }
      ]
    },
    {
      "cell_type": "code",
      "metadata": {
        "id": "g_nP9lQjUztV",
        "colab": {
          "base_uri": "https://localhost:8080/"
        },
        "outputId": "5680caa3-56c6-40e7-93a1-6ac20b02d67b"
      },
      "source": [
        "### Bayesian optimization runs (x20): 'approx' Acquisition Function run number = 12\n",
        "\n",
        "np.random.seed(run_num_12)\n",
        "surrogate_approx_12 = dtStudentProcess(cov_func, optimize=opt, nu = df)\n",
        "\n",
        "X_train12, X_test12, y_train12, y_test12 = train_test_split(X, y, test_size=test_perc, random_state=run_num_12)\n",
        "\n",
        "def f_syn_polarity12(alpha, gamma, max_depth, subsample, min_child_weight, colsample):\n",
        "    reg = XGBRegressor(reg_alpha=alpha, gamma=gamma, max_depth=int(max_depth), subsample=subsample, min_child_weight=min_child_weight,\n",
        "          colsample_bytree=colsample, n_estimators = n_est, random_state=run_num_12, objective = 'reg:squarederror')\n",
        "    score = np.array(cross_val_score(reg, X=X_train12, y=y_train12).mean())\n",
        "    return operator * score\n",
        "\n",
        "approx_12 = GPGO_multi(surrogate_approx_12, Acquisition_grad(util), f_syn_polarity12, param, n_jobs = -1) # define BayesOpt\n",
        "approx_12.run(max_iter = max_iter, init_evals = n_init) # run\n",
        "\n",
        "### Return optimal parameters' set:\n",
        "params_approx_12 = approx_12.getResult()[0]\n",
        "params_approx_12['max_depth'] = int(params_approx_12['max_depth'])\n",
        "params_approx_12['min_child_weight'] = int(params_approx_12['min_child_weight'])\n",
        "\n",
        "### Re-train with optimal parameters, run predictons:\n",
        "dX_approx_train12 = xgb.DMatrix(X_train12, y_train12)\n",
        "dX_approx_test12 = xgb.DMatrix(X_test12, y_test12)\n",
        "model_approx_12 = xgb.train(params_approx_12, dX_approx_train12)\n",
        "pred_approx_12 = model_approx_12.predict(dX_approx_test12)\n",
        "\n",
        "rmse_approx_12 = np.sqrt(mean_squared_error(pred_approx_12, y_test12))\n",
        "rmse_approx_12"
      ],
      "execution_count": null,
      "outputs": [
        {
          "output_type": "stream",
          "name": "stdout",
          "text": [
            "Evaluation \t Proposed point \t  Current eval. \t  Best eval. \t         Max. ExactAcqFunc \t Max. ApproxAcqFunc \n",
            "init\t [1.54162842 7.40049697 6.         0.54321714 4.         0.11311747]\t 0.09248222413972491\t -0.22106000670744913\t    \t    \n",
            "init\t [ 9.18747008  9.00714854 14.          0.97847467 11.          0.35544552]\t -0.09277012890077845\t -0.22106000670744913\t    \t    \n",
            "init\t [ 6.06083184  9.44225136 14.          0.95626942  5.          0.56910342]\t -0.1911022288119455\t -0.22106000670744913\t    \t    \n",
            "init\t [ 5.52037633  4.85377414  7.          0.97886436 17.          0.78810441]\t -0.22106000670744913\t -0.22106000670744913\t    \t    \n",
            "init\t [ 0.20809798  1.35210178  5.          0.65494879 16.          0.36062811]\t -0.06755802199028571\t -0.22106000670744913\t    \t    \n",
            "1  \t [ 4.02590089  7.86842566  7.9999937   0.56838152 17.9999937   0.23899235]\t 0.08813252897670379\t -0.22106000670744913\t 0.020631212998243588\t 0.02063121354588592\n",
            "2  \t [ 7.57473716  9.63637997 12.          0.83444517 10.          0.18761713]\t 0.08767780548539039\t -0.22106000670744913\t 0.018182727278860243\t 0.018182727278860243\n",
            "3  \t [ 4.11623908  6.6334167   5.          0.55963826 19.          0.14834292]\t 0.09624497023416759\t -0.22106000670744913\t 0.016418059134357676\t 0.016418059134357676\n",
            "4  \t [6.38266166 3.66323517 5.         0.6972131  9.         0.47709595]\t -0.11027996822049409\t -0.22106000670744913\t 0.015305158304763177\t 0.015305158304763177\n",
            "5  \t [ 5.83217552  8.53843574 11.          0.58549752 18.          0.26781236]\t -0.09239552231433901\t -0.22106000670744913\t 0.014787160297549064\t 0.014787160297549064\n",
            "\u001b[1m\u001b[92m6\u001b[0m\t \u001b[1m\u001b[92m[ 8.98233701  8.86516356 13.          0.87437284 10.          0.97353777]\u001b[0m\t \u001b[1m\u001b[92m-0.25268456335945366\u001b[0m\t \u001b[1m\u001b[92m-0.25268456335945366\u001b[0m\t \u001b[1m\u001b[92m0.013981501547181927\u001b[0m\t \u001b[1m\u001b[92m0.013981501547181927\u001b[0m\n",
            "\u001b[1m\u001b[92m7\u001b[0m\t \u001b[1m\u001b[92m[ 9.50735637  8.57872144 13.37747623  0.88975888 10.00561547  1.        ]\u001b[0m\t \u001b[1m\u001b[92m-0.26827003507008645\u001b[0m\t \u001b[1m\u001b[92m-0.26827003507008645\u001b[0m\t \u001b[1m\u001b[92m0.02709514687666626\u001b[0m\t \u001b[1m\u001b[92m0.028542502025459108\u001b[0m\n",
            "8  \t [ 6.21927893  4.87911437  6.63227226  0.95245081 16.25107656  0.90055077]\t -0.19185162699160785\t -0.26827003507008645\t 0.01367261952942318\t 0.01945275424125937\n",
            "9  \t [ 5.40611486  4.16275463  7.10063971  0.87014712 16.21045662  0.76064168]\t -0.2234047425977869\t -0.26827003507008645\t 0.015389498562301557\t 0.0198336586149769\n",
            "10 \t [ 6.13584159  4.24802527  7.44684869  1.         16.75527902  0.99978157]\t -0.23419429453280244\t -0.26827003507008645\t 0.016026041840234918\t 0.021603791121171407\n",
            "11 \t [ 8.66072392  4.96655106 12.00000804  0.78684297 10.00000002  0.75679044]\t -0.24970675944209475\t -0.26827003507008645\t 0.011737760161910893\t 0.011737760825493063\n",
            "\u001b[1m\u001b[92m12\u001b[0m\t \u001b[1m\u001b[92m[ 9.05486179  8.05102848 13.07539406  0.88100649 10.21709123  1.        ]\u001b[0m\t \u001b[1m\u001b[92m-0.2712125656077209\u001b[0m\t \u001b[1m\u001b[92m-0.2712125656077209\u001b[0m\t \u001b[1m\u001b[92m0.018264879805217054\u001b[0m\t \u001b[1m\u001b[92m0.028267500732835033\u001b[0m\n",
            "13 \t [ 5.87701107  4.00166902  6.57689493  0.88676303 16.91739283  0.87173486]\t -0.19935952817784164\t -0.2712125656077209\t 0.014140581055741333\t 0.024468086254105917\n",
            "14 \t [ 6.06783906  8.86374672 12.89622972  0.83669649  4.9999064   0.51728801]\t -0.18968357493592072\t -0.2712125656077209\t 0.012697320540089263\t 0.016090308960043914\n",
            "15 \t [ 8.79782544  5.92305223 12.32718959  0.81439462 10.04568225  0.82724556]\t -0.25171187803124023\t -0.2712125656077209\t 0.01983318336356037\t 0.02196407611287531\n",
            "16 \t [ 8.32932489  5.40930443 12.31880862  0.84709933 10.5706603   0.89899601]\t -0.2537269680683165\t -0.2712125656077209\t 0.012493984858657554\t 0.02435681805906578\n",
            "17 \t [ 8.10389704  5.52580835 12.21583808  0.82086642  9.83427811  0.71007462]\t -0.22162103653113946\t -0.2712125656077209\t 0.013530453566325696\t 0.02525174511282187\n",
            "18 \t [ 9.4987204   8.46590768 12.77302116  0.88337868 10.31567648  1.        ]\t -0.2702173720119294\t -0.2712125656077209\t 0.01274606105023994\t 0.026323428801063944\n",
            "19 \t [ 9.22064135  8.48890545 13.16021901  0.6463111  10.31524531  1.        ]\t -0.26159087356941413\t -0.2712125656077209\t 0.01767806530986437\t 0.03217589764134334\n",
            "20 \t [ 6.86135464  8.85279824 11.          0.59068727 18.56939773  0.43388295]\t -0.1482488222626334\t -0.2712125656077209\t 0.013237419314379705\t 0.013876269098131054\n",
            "21 \t [ 8.46446111  5.45454477 12.22049068  0.81874938 10.13326674  0.80261569]\t -0.24919313331814616\t -0.2712125656077209\t 0.0423300707963155\t 0.04774062653486818\n",
            "22 \t [ 5.81483175  4.42771882  7.01510726  0.9420324  16.62291901  0.86549221]\t -0.22254061685961618\t -0.2712125656077209\t 0.06517539894130803\t 0.09404823008248474\n",
            "23 \t [ 9.26541968  8.44716688 13.0953575   0.90679707 10.1717732   0.97012922]\t -0.2551237827240902\t -0.2712125656077209\t 0.06010350945816833\t 0.08354947639849022\n",
            "24 \t [ 9.38849169  9.88889217 13.          0.96460152 11.          0.89133265]\t -0.25445147309750743\t -0.2712125656077209\t 0.040690178067848276\t 0.040690178067848276\n",
            "25 \t [ 1.04159226  4.03780394  5.          0.9134339  15.          0.13519165]\t 0.09650967968039778\t -0.2712125656077209\t 0.06036588348753473\t 0.06036588348753473\n",
            "26 \t [ 5.79920957  4.44857073  7.10874196  0.95075624 16.60044864  0.86797719]\t -0.22298049459868433\t -0.2712125656077209\t 0.0672202886331385\t 0.0934068179661476\n",
            "27 \t [ 6.08393479  4.42820209  7.22541808  0.5        16.71145147  0.1       ]\t 0.09007878302004362\t -0.2712125656077209\t 0.05529641407425122\t 0.06850211296083852\n",
            "28 \t [ 9.26382844  8.51541081 13.08754366  0.85293912 10.20212658  0.98210731]\t -0.2551483113601238\t -0.2712125656077209\t 0.0529097443662504\t 0.0850905168172849\n",
            "29 \t [ 8.62829847  5.48331982 12.22272353  0.81471784 10.19517625  0.82895475]\t -0.2513439941582445\t -0.2712125656077209\t 0.06357694958912881\t 0.09440029733397765\n",
            "30 \t [ 0.42138623  7.7269096  13.          0.72605204 19.          0.17338535]\t 0.08706842577900123\t -0.2712125656077209\t 0.05366962198587916\t 0.05366962198587916\n"
          ]
        },
        {
          "output_type": "execute_result",
          "data": {
            "text/plain": [
              "49871.05395205489"
            ]
          },
          "metadata": {},
          "execution_count": 32
        }
      ]
    },
    {
      "cell_type": "code",
      "metadata": {
        "id": "yDI2Bi9vU05U",
        "colab": {
          "base_uri": "https://localhost:8080/"
        },
        "outputId": "7621d338-8170-4a46-d9e2-bfc89b3d1d8e"
      },
      "source": [
        "### Bayesian optimization runs (x20): 'approx' Acquisition Function run number = 13\n",
        "\n",
        "np.random.seed(run_num_13)\n",
        "surrogate_approx_13 = dtStudentProcess(cov_func, optimize=opt, nu = df)\n",
        "\n",
        "X_train13, X_test13, y_train13, y_test13 = train_test_split(X, y, test_size=test_perc, random_state=run_num_13)\n",
        "\n",
        "def f_syn_polarity13(alpha, gamma, max_depth, subsample, min_child_weight, colsample):\n",
        "    reg = XGBRegressor(reg_alpha=alpha, gamma=gamma, max_depth=int(max_depth), subsample=subsample, min_child_weight=min_child_weight,\n",
        "          colsample_bytree=colsample, n_estimators = n_est, random_state=run_num_13, objective = 'reg:squarederror')\n",
        "    score = np.array(cross_val_score(reg, X=X_train13, y=y_train13).mean())\n",
        "    return operator * score\n",
        "\n",
        "approx_13 = GPGO_multi(surrogate_approx_13, Acquisition_grad(util), f_syn_polarity13, param, n_jobs = -1) # define BayesOpt\n",
        "approx_13.run(max_iter = max_iter, init_evals = n_init) # run\n",
        "\n",
        "### Return optimal parameters' set:\n",
        "params_approx_13 = approx_13.getResult()[0]\n",
        "params_approx_13['max_depth'] = int(params_approx_13['max_depth'])\n",
        "params_approx_13['min_child_weight'] = int(params_approx_13['min_child_weight'])\n",
        "\n",
        "### Re-train with optimal parameters, run predictons:\n",
        "dX_approx_train13 = xgb.DMatrix(X_train13, y_train13)\n",
        "dX_approx_test13 = xgb.DMatrix(X_test13, y_test13)\n",
        "model_approx_13 = xgb.train(params_approx_13, dX_approx_train13)\n",
        "pred_approx_13 = model_approx_13.predict(dX_approx_test13)\n",
        "\n",
        "rmse_approx_13 = np.sqrt(mean_squared_error(pred_approx_13, y_test13))\n",
        "rmse_approx_13"
      ],
      "execution_count": null,
      "outputs": [
        {
          "output_type": "stream",
          "name": "stdout",
          "text": [
            "Evaluation \t Proposed point \t  Current eval. \t  Best eval. \t         Max. ExactAcqFunc \t Max. ApproxAcqFunc \n",
            "init\t [ 7.77702411  2.3754122  11.          0.94649135 13.          0.7827256 ]\t -0.2641613310589675\t -0.2641613310589675\t    \t    \n",
            "init\t [ 7.51661514  6.07343344 11.          0.69402149 11.          0.13153287]\t 0.28680303470666935\t -0.2641613310589675\t    \t    \n",
            "init\t [ 2.98449471  0.58512492 10.          0.73579614 12.          0.33065195]\t 0.07010925826999212\t -0.2641613310589675\t    \t    \n",
            "init\t [ 3.47581215  0.0941277  11.          0.86143432  8.          0.58454932]\t -0.16295931332811592\t -0.2641613310589675\t    \t    \n",
            "init\t [ 4.70137857  6.24432527 10.          0.8149145  18.          0.10784416]\t 0.28525565322508906\t -0.2641613310589675\t    \t    \n",
            "1  \t [ 7.07351664  0.82712043 11.          0.83684144  7.          0.55407602]\t -0.1603076832053938\t -0.2641613310589675\t 0.04402257489926925\t 0.04402257489926925\n",
            "2  \t [ 7.67384359  2.36552072 11.00000442  0.93524012 13.76825499  0.70691332]\t -0.24432657133879115\t -0.2641613310589675\t 0.04139103983243083\t 0.055482260269020776\n",
            "\u001b[1m\u001b[92m3\u001b[0m\t \u001b[1m\u001b[92m[ 8.55249073  1.9346518  10.99995027  0.94812627 13.4087717   0.95523402]\u001b[0m\t \u001b[1m\u001b[92m-0.2680260271194391\u001b[0m\t \u001b[1m\u001b[92m-0.2680260271194391\u001b[0m\t \u001b[1m\u001b[92m0.04357654211391898\u001b[0m\t \u001b[1m\u001b[92m0.05159453190926735\u001b[0m\n",
            "\u001b[1m\u001b[92m4\u001b[0m\t \u001b[1m\u001b[92m[ 7.76291568  1.50960887 10.81097498  0.93681771 13.29193234  0.90248739]\u001b[0m\t \u001b[1m\u001b[92m-0.268490080550553\u001b[0m\t \u001b[1m\u001b[92m-0.268490080550553\u001b[0m\t \u001b[1m\u001b[92m0.032132318868889544\u001b[0m\t \u001b[1m\u001b[92m0.05304989074619509\u001b[0m\n",
            "\u001b[1m\u001b[92m5\u001b[0m\t \u001b[1m\u001b[92m[ 7.9360409   1.83394192 11.59907595  0.98364348 13.31865894  0.88919531]\u001b[0m\t \u001b[1m\u001b[92m-0.2725781887787603\u001b[0m\t \u001b[1m\u001b[92m-0.2725781887787603\u001b[0m\t \u001b[1m\u001b[92m0.02886981160873939\u001b[0m\t \u001b[1m\u001b[92m0.052026737263603254\u001b[0m\n",
            "6  \t [ 8.10174696  1.84260311 11.08665719  0.99345683 13.27913543  0.26018492]\t 0.06544746339131371\t -0.2725781887787603\t 0.026273147881883074\t 0.04862353711552563\n",
            "7  \t [ 7.72629072  2.15471036 11.11406446  0.70341997 13.4239431   1.        ]\t -0.26627076311298836\t -0.2725781887787603\t 0.04380735093030644\t 0.07527675173068088\n",
            "8  \t [ 7.7893932   2.16549167 11.05208444  1.         13.41055263  1.        ]\t -0.2711895466473856\t -0.2725781887787603\t 0.03632283889352201\t 0.06812169378409554\n",
            "9  \t [ 7.08318035  2.00715417 11.24747407  1.         13.17735509  1.        ]\t -0.2711924469809704\t -0.2725781887787603\t 0.04072444648661583\t 0.05666406590457765\n",
            "10 \t [ 7.69954955  2.07379359 11.13588543  1.         13.2886804   1.        ]\t -0.2711895612295899\t -0.2725781887787603\t 0.03434584058225836\t 0.05577117329642743\n",
            "11 \t [ 7.23335878  3.11036933 10.73463329  0.9101514  13.16302397  0.71978559]\t -0.23940111486715782\t -0.2725781887787603\t 0.057613885243826386\t 0.08401805882374466\n",
            "12 \t [ 4.83024459  0.37232927 11.00200517  0.85234774  7.6267824   0.57375592]\t -0.16313352858961178\t -0.2725781887787603\t 0.0393825411283663\t 0.04400237641982611\n",
            "13 \t [ 7.59609751  0.92695801 11.61106156  0.86812057 13.32746488  1.        ]\t -0.26931093885504986\t -0.2725781887787603\t 0.03815096655852713\t 0.07836283870890333\n",
            "14 \t [ 8.48464221  2.93664347 11.58392211  0.91488478 13.18482516  1.        ]\t -0.2699607874742561\t -0.2725781887787603\t 0.03915435440824768\t 0.07913607829590434\n",
            "15 \t [ 7.04767416  1.188878   10.44753748  0.81094046 12.7151853   1.        ]\t -0.26513381917246115\t -0.2725781887787603\t 0.0402501475530329\t 0.07565183220342513\n",
            "16 \t [ 8.44824532  2.91368356 10.40727364  0.80313202 12.91796325  1.        ]\t -0.26702008066643435\t -0.2725781887787603\t 0.04412093941525158\t 0.07094495730800741\n",
            "17 \t [ 8.58714218  1.67189314 12.31129097  0.88890199 13.38849178  1.        ]\t -0.2712791183877755\t -0.2725781887787603\t 0.047868689127801164\t 0.07731384901013509\n",
            "18 \t [ 8.33793003  1.83313713 11.79151788  0.96225199 14.28830833  1.        ]\t -0.27194948944481234\t -0.2725781887787603\t 0.03841242934040564\t 0.06525206004086706\n",
            "19 \t [ 7.19437313  0.96920108 10.50722453  0.89437353 13.74817539  1.        ]\t -0.2666294944973545\t -0.2725781887787603\t 0.031104859450851906\t 0.06270933977153977\n",
            "20 \t [ 7.58030641  1.99455736 12.48975142  1.         13.50584523  1.        ]\t -0.2723222082242276\t -0.2725781887787603\t 0.0442746362526044\t 0.06533682945527956\n",
            "21 \t [ 8.08930584  2.30702845 11.95753991  0.5        13.69268948  1.        ]\t -0.2519050586178054\t -0.2725781887787603\t 0.09639403940390442\t 0.12187213041343817\n",
            "22 \t [ 7.99457096  1.95365342 11.76568565  0.9293526  13.59225916  1.        ]\t -0.2699339304469812\t -0.2725781887787603\t 0.07010753207806508\t 0.13504768677003604\n",
            "23 \t [ 7.77101129  1.97494627 11.5571596   0.84845758 13.48344032  1.        ]\t -0.2689057113772577\t -0.2725781887787603\t 0.07615780469367209\t 0.13324760342704298\n",
            "24 \t [ 7.13211138  1.19905556 10.99364263  0.86925756 13.22935466  1.        ]\t -0.26517261407267395\t -0.2725781887787603\t 0.06903309563455458\t 0.11527436903733158\n",
            "25 \t [ 7.801992    1.99085536 11.3388832   0.89795514 13.41004018  0.98765093]\t -0.27082572447995157\t -0.2725781887787603\t 0.06651956725260373\t 0.09661676956460957\n",
            "26 \t [ 5.98762392  0.53609147 12.          0.99600525 15.          0.45704376]\t -0.03357500674398972\t -0.2725781887787603\t 0.06827904027775208\t 0.06827904027775208\n",
            "27 \t [ 7.01040912  0.8142426  10.99983332  0.83727449  7.01756391  0.55467475]\t -0.1592628403149577\t -0.2725781887787603\t 0.06656083897832235\t 0.06697028222271863\n",
            "28 \t [ 7.59054392  0.39496963 13.          0.8585713  13.          0.46102047]\t -0.03315508580405917\t -0.2725781887787603\t 0.05344568561728821\t 0.05344568561728821\n",
            "29 \t [ 8.07258103  2.85662309 10.96007323  0.87623569 13.32360876  1.        ]\t -0.26565433341244726\t -0.2725781887787603\t 0.06376150619521248\t 0.10740243160648669\n",
            "30 \t [ 2.32893999  0.70568143 10.          0.95982734 18.          0.36824695]\t 0.06305721989820037\t -0.2725781887787603\t 0.06114490675226866\t 0.06114490675226866\n"
          ]
        },
        {
          "output_type": "execute_result",
          "data": {
            "text/plain": [
              "49487.30143961314"
            ]
          },
          "metadata": {},
          "execution_count": 33
        }
      ]
    },
    {
      "cell_type": "code",
      "metadata": {
        "id": "Z2F_Q194U3uu",
        "colab": {
          "base_uri": "https://localhost:8080/"
        },
        "outputId": "7c98097b-30b5-485a-9cfa-88fc63380e44"
      },
      "source": [
        "### Bayesian optimization runs (x20): 'approx' Acquisition Function run number = 14\n",
        "\n",
        "np.random.seed(run_num_14)\n",
        "surrogate_approx_14 = dtStudentProcess(cov_func, optimize=opt, nu = df)\n",
        "\n",
        "X_train14, X_test14, y_train14, y_test14 = train_test_split(X, y, test_size=test_perc, random_state=run_num_14)\n",
        "\n",
        "def f_syn_polarity14(alpha, gamma, max_depth, subsample, min_child_weight, colsample):\n",
        "    reg = XGBRegressor(reg_alpha=alpha, gamma=gamma, max_depth=int(max_depth), subsample=subsample, min_child_weight=min_child_weight,\n",
        "          colsample_bytree=colsample, n_estimators = n_est, random_state=run_num_14, objective = 'reg:squarederror')\n",
        "    score = np.array(cross_val_score(reg, X=X_train14, y=y_train14).mean())\n",
        "    return operator * score\n",
        "\n",
        "approx_14 = GPGO_multi(surrogate_approx_14, Acquisition_grad(util), f_syn_polarity14, param, n_jobs = -1) # define BayesOpt\n",
        "approx_14.run(max_iter = max_iter, init_evals = n_init) # run\n",
        "\n",
        "### Return optimal parameters' set:\n",
        "params_approx_14 = approx_14.getResult()[0]\n",
        "params_approx_14['max_depth'] = int(params_approx_14['max_depth'])\n",
        "params_approx_14['min_child_weight'] = int(params_approx_14['min_child_weight'])\n",
        "\n",
        "### Re-train with optimal parameters, run predictons:\n",
        "dX_approx_train14 = xgb.DMatrix(X_train14, y_train14)\n",
        "dX_approx_test14 = xgb.DMatrix(X_test14, y_test14)\n",
        "model_approx_14 = xgb.train(params_approx_14, dX_approx_train14)\n",
        "pred_approx_14 = model_approx_14.predict(dX_approx_test14)\n",
        "\n",
        "rmse_approx_14 = np.sqrt(mean_squared_error(pred_approx_14, y_test14))\n",
        "rmse_approx_14"
      ],
      "execution_count": null,
      "outputs": [
        {
          "output_type": "stream",
          "name": "stdout",
          "text": [
            "Evaluation \t Proposed point \t  Current eval. \t  Best eval. \t         Max. ExactAcqFunc \t Max. ApproxAcqFunc \n",
            "init\t [ 5.13943344  7.73165052 12.          0.6831412  11.          0.37876233]\t -0.09032679245659181\t -0.24686294321368765\t    \t    \n",
            "init\t [ 9.57603739  5.13116712 14.          0.76959997 12.          0.71328228]\t -0.2383432061119965\t -0.24686294321368765\t    \t    \n",
            "init\t [5.34950319 2.47493539 5.         0.50293689 6.         0.29706373]\t 0.05606822386944312\t -0.24686294321368765\t    \t    \n",
            "init\t [ 2.94506579  3.45329697  8.          0.87620946 14.          0.9783044 ]\t -0.24686294321368765\t -0.24686294321368765\t    \t    \n",
            "init\t [ 1.11811929  1.73004086  5.          0.73745288 12.          0.20586008]\t 0.2850679884543654\t -0.24686294321368765\t    \t    \n",
            "1  \t [ 4.34197661  7.60557613 13.          0.85954801 11.          0.4707788 ]\t -0.09152367152803573\t -0.24686294321368765\t 0.03736467262045487\t 0.03736467262045487\n",
            "2  \t [ 3.41229517  4.03783375  7.430397    0.89492784 14.28491919  0.78804554]\t -0.2171429461645064\t -0.24686294321368765\t 0.03152974021707327\t 0.04522399211230491\n",
            "3  \t [ 3.35243639  3.38047558  8.1020257   0.83568649 14.77550569  0.64757536]\t -0.22349047835418326\t -0.24686294321368765\t 0.028987537169168562\t 0.04373395856221364\n",
            "4  \t [ 3.71463495  3.76331514  8.32154242  0.85700341 13.98594705  0.87572559]\t -0.24408275790417008\t -0.24686294321368765\t 0.026853329334809852\t 0.04188412422158831\n",
            "\u001b[1m\u001b[92m5\u001b[0m\t \u001b[1m\u001b[92m[ 3.07267262  4.09874975  8.31361667  0.93267246 14.41267113  1.        ]\u001b[0m\t \u001b[1m\u001b[92m-0.24798614112959552\u001b[0m\t \u001b[1m\u001b[92m-0.24798614112959552\u001b[0m\t \u001b[1m\u001b[92m0.025212456649387212\u001b[0m\t \u001b[1m\u001b[92m0.041738195127277666\u001b[0m\n",
            "6  \t [ 3.1477854   3.83720502  8.16708887  0.99431167 14.09230137  0.34603742]\t 0.03633913894283949\t -0.24798614112959552\t 0.021845612728403695\t 0.04017063471829117\n",
            "7  \t [ 3.53914478  3.6119961   7.92970437  0.58573988 14.5047743   1.        ]\t -0.22899383920853572\t -0.24798614112959552\t 0.029434264112467377\t 0.06641368705783805\n",
            "8  \t [ 3.52210697  3.57550964  7.9427204   1.         14.50701194  1.        ]\t -0.23254208457493702\t -0.24798614112959552\t 0.033685178833295755\t 0.05595759187613787\n",
            "9  \t [ 3.29607897  3.67426215  8.03845681  0.58596357 14.44661301  1.        ]\t -0.2442849606826943\t -0.24798614112959552\t 0.027654954233329265\t 0.0485426165820061\n",
            "10 \t [ 2.748208    3.59173857  7.60398135  0.89978739 14.90562679  1.        ]\t -0.2316543272781165\t -0.24798614112959552\t 0.02803038478074597\t 0.043648175821148466\n",
            "11 \t [ 3.42655495  4.15335467  7.98274678  0.93769727 15.1149715   1.        ]\t -0.2312824382373242\t -0.24798614112959552\t 0.02655281464507016\t 0.03964667812294142\n",
            "\u001b[1m\u001b[92m12\u001b[0m\t \u001b[1m\u001b[92m[ 3.09886417  3.34868544  8.64440582  0.88797918 14.85626156  1.        ]\u001b[0m\t \u001b[1m\u001b[92m-0.24900351391562073\u001b[0m\t \u001b[1m\u001b[92m-0.24900351391562073\u001b[0m\t \u001b[1m\u001b[92m0.027029640965506006\u001b[0m\t \u001b[1m\u001b[92m0.041338787236365505\u001b[0m\n",
            "13 \t [ 3.59692245  2.95383758  8.81681692  0.72715879 14.06218582  1.        ]\t -0.245216000292486\t -0.24900351391562073\t 0.02921691186278246\t 0.039783774152723744\n",
            "\u001b[1m\u001b[92m14\u001b[0m\t \u001b[1m\u001b[92m[ 3.90316917  3.69440967  9.00750482  0.79875163 14.52823113  1.        ]\u001b[0m\t \u001b[1m\u001b[92m-0.25918935325101\u001b[0m\t \u001b[1m\u001b[92m-0.25918935325101\u001b[0m\t \u001b[1m\u001b[92m0.029239848801091407\u001b[0m\t \u001b[1m\u001b[92m0.04226802275899685\u001b[0m\n",
            "15 \t [ 3.50968296  3.70493334  9.14755553  0.5        13.92172342  1.        ]\t -0.251237561607179\t -0.25918935325101\t 0.02555371037636999\t 0.035042722111339575\n",
            "\u001b[1m\u001b[92m16\u001b[0m\t \u001b[1m\u001b[92m[ 9.99749803  5.90064318 14.39316475  0.70559005 11.994654    0.90728143]\u001b[0m\t \u001b[1m\u001b[92m-0.25934719366446657\u001b[0m\t \u001b[1m\u001b[92m-0.25934719366446657\u001b[0m\t \u001b[1m\u001b[92m0.022113440454172878\u001b[0m\t \u001b[1m\u001b[92m0.031107484066454347\u001b[0m\n",
            "17 \t [ 9.72448931  5.47525736 14.5655246   0.8022157  11.44547119  0.76791954]\t -0.2506926281441236\t -0.25934719366446657\t 0.022557197252491994\t 0.03896971460413536\n",
            "18 \t [ 4.06311269  4.69562989  8.52133523  0.7283133  14.00700501  1.        ]\t -0.24704655784162322\t -0.25934719366446657\t 0.03326391012020245\t 0.049106436638266256\n",
            "19 \t [ 4.18978976  3.87687913  8.82985442  0.64305778 13.80609283  1.        ]\t -0.24244068477155886\t -0.25934719366446657\t 0.022190496285571175\t 0.0459734530671012\n",
            "20 \t [ 2.70178135  2.48811886  7.98905793  0.78752398 14.44250885  1.        ]\t -0.22913127432247427\t -0.25934719366446657\t 0.05803476239817408\t 0.06925090279119697\n",
            "21 \t [ 9.40688758  9.33622771 13.          0.99329805 12.          0.21956851]\t 0.2804719342614831\t -0.25934719366446657\t 0.07450958637817415\t 0.07450958637817415\n",
            "22 \t [ 3.66092688  3.86674255  8.62602039  0.64577738 14.37971125  1.        ]\t -0.24280257732533408\t -0.25934719366446657\t 0.05598423319591334\t 0.09842659471620438\n",
            "23 \t [ 8.60891032  3.83475991 14.          0.65931793 13.          0.41519862]\t -0.08883537272302569\t -0.25934719366446657\t 0.07622465852114536\t 0.07622465852114536\n",
            "24 \t [ 3.49970727  3.64274108  8.42199848  0.74781303 14.40729588  1.        ]\t -0.2451153832189481\t -0.25934719366446657\t 0.06005138223402923\t 0.1119196781984549\n",
            "25 \t [ 3.55146678  3.60386187  8.48288155  0.6743036  14.44338173  1.        ]\t -0.24576366819153392\t -0.25934719366446657\t 0.07345258316315117\t 0.11987608752937234\n",
            "26 \t [ 3.02649354  3.17134208  8.19310005  0.83194886 14.52138572  1.        ]\t -0.24637186009319692\t -0.25934719366446657\t 0.04503035548837896\t 0.08178499232700047\n",
            "27 \t [ 4.5613488   4.50486976  7.76447352  1.         14.46561564  1.        ]\t -0.23254202311150268\t -0.25934719366446657\t 0.06318317990601145\t 0.06536601908845334\n",
            "28 \t [ 3.47791141  3.65645325  8.3314407   0.77281585 14.41375037  1.        ]\t -0.2458041977705138\t -0.25934719366446657\t 0.04540988925226453\t 0.07796766466695641\n",
            "29 \t [ 3.09365544  3.62818131  8.02736998  0.89647651 14.67302873  1.        ]\t -0.24845804248369943\t -0.25934719366446657\t 0.044021027112245245\t 0.07378939604540735\n",
            "30 \t [ 4.86421265  5.25315491  5.          0.73830181 12.          0.43979559]\t -0.049640952517698844\t -0.25934719366446657\t 0.06739435546431716\t 0.06739435546431716\n"
          ]
        },
        {
          "output_type": "execute_result",
          "data": {
            "text/plain": [
              "51015.7578574899"
            ]
          },
          "metadata": {},
          "execution_count": 34
        }
      ]
    },
    {
      "cell_type": "code",
      "metadata": {
        "id": "Po5wImJaU6VC",
        "colab": {
          "base_uri": "https://localhost:8080/"
        },
        "outputId": "58a90f39-e189-4f1e-ca94-66c3f00f67bc"
      },
      "source": [
        "### Bayesian optimization runs (x20): 'approx' Acquisition Function run number = 15\n",
        "\n",
        "np.random.seed(run_num_15)\n",
        "surrogate_approx_15 = dtStudentProcess(cov_func, optimize=opt, nu = df)\n",
        "\n",
        "X_train15, X_test15, y_train15, y_test15 = train_test_split(X, y, test_size=test_perc, random_state=run_num_15)\n",
        "\n",
        "def f_syn_polarity15(alpha, gamma, max_depth, subsample, min_child_weight, colsample):\n",
        "    reg = XGBRegressor(reg_alpha=alpha, gamma=gamma, max_depth=int(max_depth), subsample=subsample, min_child_weight=min_child_weight,\n",
        "          colsample_bytree=colsample, n_estimators = n_est, random_state=run_num_15, objective = 'reg:squarederror')\n",
        "    score = np.array(cross_val_score(reg, X=X_train15, y=y_train15).mean())\n",
        "    return operator * score\n",
        "\n",
        "approx_15 = GPGO_multi(surrogate_approx_15, Acquisition_grad(util), f_syn_polarity15, param, n_jobs = -1) # define BayesOpt\n",
        "approx_15.run(max_iter = max_iter, init_evals = n_init) # run\n",
        "\n",
        "### Return optimal parameters' set:\n",
        "params_approx_15 = approx_15.getResult()[0]\n",
        "params_approx_15['max_depth'] = int(params_approx_15['max_depth'])\n",
        "params_approx_15['min_child_weight'] = int(params_approx_15['min_child_weight'])\n",
        "\n",
        "### Re-train with optimal parameters, run predictons:\n",
        "dX_approx_train15 = xgb.DMatrix(X_train15, y_train15)\n",
        "dX_approx_test15 = xgb.DMatrix(X_test15, y_test15)\n",
        "model_approx_15 = xgb.train(params_approx_15, dX_approx_train15)\n",
        "pred_approx_15 = model_approx_15.predict(dX_approx_test15)\n",
        "\n",
        "rmse_approx_15 = np.sqrt(mean_squared_error(pred_approx_15, y_test15))\n",
        "rmse_approx_15"
      ],
      "execution_count": null,
      "outputs": [
        {
          "output_type": "stream",
          "name": "stdout",
          "text": [
            "Evaluation \t Proposed point \t  Current eval. \t  Best eval. \t         Max. ExactAcqFunc \t Max. ApproxAcqFunc \n",
            "init\t [ 8.48817697  1.78895925 12.          0.55549316  8.          0.93397854]\t -0.26163187566355783\t -0.26163187566355783\t    \t    \n",
            "init\t [ 0.24953032  8.22298097 12.          0.62494951 11.          0.12924598]\t 0.024522460442168416\t -0.26163187566355783\t    \t    \n",
            "init\t [ 5.02017228  5.50882771 11.          0.85295832 19.          0.13548008]\t 0.02297926937894814\t -0.26163187566355783\t    \t    \n",
            "init\t [2.0023081  9.98543403 7.         0.6295772  2.         0.526127  ]\t -0.18638649492575546\t -0.26163187566355783\t    \t    \n",
            "init\t [ 5.09715306  9.45038417 11.          0.7388277  16.          0.22739973]\t 0.023164783472115303\t -0.26163187566355783\t    \t    \n",
            "1  \t [4.45998148 9.74606636 5.         0.59771241 5.         0.5173403 ]\t -0.1290373322633273\t -0.26163187566355783\t 0.016188437940889994\t 0.016188437940889994\n",
            "2  \t [ 8.86276226  1.46233955 12.          0.50418058  8.2300187   0.95743661]\t -0.2600472431993964\t -0.26163187566355783\t 0.0156006275031351\t 0.02726714958031265\n",
            "3  \t [ 8.90041148  1.75565727 12.64595723  0.50399901  7.89558846  1.        ]\t -0.2589028702107718\t -0.26163187566355783\t 0.014100937270860892\t 0.026440625736284112\n",
            "4  \t [0.43232451 7.98796116 8.99998174 0.61838706 3.99998174 0.4652065 ]\t -0.07765899146803079\t -0.26163187566355783\t 0.012231832966180854\t 0.012231834172058616\n",
            "5  \t [ 8.44525633  1.56849908 12.52036935  0.50369603  8.37290626  0.98103042]\t -0.26014545475215767\t -0.26163187566355783\t 0.012989322121186444\t 0.02657644994968742\n",
            "6  \t [ 8.54853798  1.30190012 12.3496765   0.5         7.82344211  1.        ]\t -0.2603737521381778\t -0.26163187566355783\t 0.010311107956967684\t 0.025855952168299858\n",
            "7  \t [ 8.69781422  1.59084878 12.3630545   0.64662626  8.06606998  0.58077291]\t -0.22025767152535208\t -0.26163187566355783\t 0.009164021047358322\t 0.02474427602284024\n",
            "8  \t [6.15285895 7.08924678 6.         0.87188135 8.         0.39740786]\t -0.056484683200666796\t -0.26163187566355783\t 0.00858569845882276\t 0.00858569845882276\n",
            "9  \t [ 9.22282179  1.77132645 11.81109383  0.5         7.30264221  1.        ]\t -0.2607790277190574\t -0.26163187566355783\t 0.008580627856493342\t 0.011752183891613649\n",
            "10 \t [4.98974072 5.99414262 7.99997323 0.7232238  9.99997323 0.65281961]\t -0.2015994846411199\t -0.26163187566355783\t 0.008507968492407486\t 0.008507970399070397\n",
            "11 \t [5.40351566 6.38258522 7.29094818 0.77590122 9.29094839 0.56248391]\t -0.1883412076671718\t -0.26163187566355783\t 0.01121161845018923\t 0.014507930657371446\n",
            "12 \t [ 8.8531483   1.69280953 12.13859697  0.5         7.8186143   1.        ]\t -0.2603736775348467\t -0.26163187566355783\t 0.010701342364929131\t 0.028410239335496742\n",
            "13 \t [ 8.69859068  1.59612952 12.23303308  0.5         7.98112318  1.        ]\t -0.26037888784783714\t -0.26163187566355783\t 0.010731072958371293\t 0.018858558490874176\n",
            "14 \t [ 8.84576219  1.44566195 11.10554933  0.60362502  7.50322606  1.        ]\t -0.256592232948027\t -0.26163187566355783\t 0.014671877045772688\t 0.02241540191674497\n",
            "15 \t [ 4.69549866  6.14252602  6.93911593  0.61583341 10.13548627  0.61771969]\t -0.16496770600498972\t -0.26163187566355783\t 0.01446907248925965\t 0.016720529590336913\n",
            "\u001b[1m\u001b[92m16\u001b[0m\t \u001b[1m\u001b[92m[ 8.13406312  1.21227706 11.45143122  0.67444981  8.42144906  1.        ]\u001b[0m\t \u001b[1m\u001b[92m-0.2636580611631132\u001b[0m\t \u001b[1m\u001b[92m-0.2636580611631132\u001b[0m\t \u001b[1m\u001b[92m0.016559409736012064\u001b[0m\t \u001b[1m\u001b[92m0.034287045948752454\u001b[0m\n",
            "\u001b[1m\u001b[92m17\u001b[0m\t \u001b[1m\u001b[92m[ 8.56723155  1.37574694 11.64448138  0.99868986  7.96279711  1.        ]\u001b[0m\t \u001b[1m\u001b[92m-0.2705093626551479\u001b[0m\t \u001b[1m\u001b[92m-0.2705093626551479\u001b[0m\t \u001b[1m\u001b[92m0.011610674897878969\u001b[0m\t \u001b[1m\u001b[92m0.024688254825878886\u001b[0m\n",
            "18 \t [ 0.32352216  7.31389978 10.71702449  0.54926432  3.99923197  0.2659134 ]\t -0.017347862443793514\t -0.2705093626551479\t 0.00958659139094052\t 0.009665875260361726\n",
            "19 \t [4.55960229 5.8824327  7.62844354 0.51592826 9.26894639 0.15206545]\t 0.026306226262012934\t -0.2705093626551479\t 0.009962329174563968\t 0.013296546760743093\n",
            "20 \t [ 5.51727347  6.39306357  7.47788082  0.89244444 10.18098322  0.99406294]\t -0.22871551870699083\t -0.2705093626551479\t 0.017691646609199974\t 0.02742088528472537\n",
            "21 \t [ 8.68231512  1.53091305 11.95988322  0.59135036  7.9324351   0.97837772]\t -0.2611437825171891\t -0.2705093626551479\t 0.06027647080611175\t 0.10983994939534829\n",
            "\u001b[1m\u001b[92m22\u001b[0m\t \u001b[1m\u001b[92m[ 8.75529519  1.94646037 10.96028212  0.93791933  8.4346828   0.99393674]\u001b[0m\t \u001b[1m\u001b[92m-0.27118410170724994\u001b[0m\t \u001b[1m\u001b[92m-0.27118410170724994\u001b[0m\t \u001b[1m\u001b[92m0.0521734593650912\u001b[0m\t \u001b[1m\u001b[92m0.06816168900878174\u001b[0m\n",
            "23 \t [ 8.69278344  1.57831133 11.74986392  0.6446103   7.9878871   0.99191684]\t -0.264389590266192\t -0.27118410170724994\t 0.04299001395095232\t 0.09895781123743529\n",
            "24 \t [ 8.69137585  1.57342943 11.84225824  0.62846798  7.98138353  0.98228036]\t -0.26493810083148384\t -0.27118410170724994\t 0.04404419054416506\t 0.0998483358257521\n",
            "25 \t [3.03171409 5.76278098 8.00000596 0.84811509 3.99999998 0.37564499]\t -0.08057129970616128\t -0.27118410170724994\t 0.05839066320809678\t 0.05839066365450596\n",
            "26 \t [1.62259367 9.50412501 7.48496138 0.62826297 2.48671177 0.51248421]\t -0.1866497653593651\t -0.27118410170724994\t 0.062362119543746944\t 0.0684501252271616\n",
            "27 \t [5.31130181 6.10449246 7.40368688 0.84558506 9.94155755 0.89825157]\t -0.2287485379229704\t -0.27118410170724994\t 0.04276373313145243\t 0.06206058174834206\n",
            "28 \t [2.00263688 9.99826249 7.43585836 0.60921756 2.45198926 0.54594611]\t -0.18556793713662373\t -0.27118410170724994\t 0.035798301319437224\t 0.03971012298590942\n",
            "29 \t [ 8.6932626   1.58473073 11.73262599  0.64828604  7.99438076  0.99905847]\t -0.2632017132948118\t -0.27118410170724994\t 0.020884715937140093\t 0.06914523541025216\n",
            "30 \t [1.88244017 9.83807819 7.31412204 0.62163601 2.32061354 0.52922409]\t -0.18699981688881012\t -0.27118410170724994\t 0.05052703486744948\t 0.05413997952790218\n"
          ]
        },
        {
          "output_type": "execute_result",
          "data": {
            "text/plain": [
              "51305.166523449"
            ]
          },
          "metadata": {},
          "execution_count": 35
        }
      ]
    },
    {
      "cell_type": "code",
      "metadata": {
        "id": "9HrAQN-pU9Qo",
        "colab": {
          "base_uri": "https://localhost:8080/"
        },
        "outputId": "48127562-5b89-49d1-e441-7374199fdfb7"
      },
      "source": [
        "### Bayesian optimization runs (x20): 'approx' Acquisition Function run number = 16\n",
        "\n",
        "np.random.seed(run_num_16)\n",
        "surrogate_approx_16 = dtStudentProcess(cov_func, optimize=opt, nu = df)\n",
        "\n",
        "X_train16, X_test16, y_train16, y_test16 = train_test_split(X, y, test_size=test_perc, random_state=run_num_16)\n",
        "\n",
        "def f_syn_polarity16(alpha, gamma, max_depth, subsample, min_child_weight, colsample):\n",
        "    reg = XGBRegressor(reg_alpha=alpha, gamma=gamma, max_depth=int(max_depth), subsample=subsample, min_child_weight=min_child_weight,\n",
        "          colsample_bytree=colsample, n_estimators = n_est, random_state=run_num_16, objective = 'reg:squarederror')\n",
        "    score = np.array(cross_val_score(reg, X=X_train16, y=y_train16).mean())\n",
        "    return operator * score\n",
        "\n",
        "approx_16 = GPGO_multi(surrogate_approx_16, Acquisition_grad(util), f_syn_polarity16, param, n_jobs = -1) # define BayesOpt\n",
        "approx_16.run(max_iter = max_iter, init_evals = n_init) # run\n",
        "\n",
        "### Return optimal parameters' set:\n",
        "params_approx_16 = approx_16.getResult()[0]\n",
        "params_approx_16['max_depth'] = int(params_approx_16['max_depth'])\n",
        "params_approx_16['min_child_weight'] = int(params_approx_16['min_child_weight'])\n",
        "\n",
        "### Re-train with optimal parameters, run predictons:\n",
        "dX_approx_train16 = xgb.DMatrix(X_train16, y_train16)\n",
        "dX_approx_test16 = xgb.DMatrix(X_test16, y_test16)\n",
        "model_approx_16 = xgb.train(params_approx_16, dX_approx_train16)\n",
        "pred_approx_16 = model_approx_16.predict(dX_approx_test16)\n",
        "\n",
        "rmse_approx_16 = np.sqrt(mean_squared_error(pred_approx_16, y_test16))\n",
        "rmse_approx_16"
      ],
      "execution_count": null,
      "outputs": [
        {
          "output_type": "stream",
          "name": "stdout",
          "text": [
            "Evaluation \t Proposed point \t  Current eval. \t  Best eval. \t         Max. ExactAcqFunc \t Max. ApproxAcqFunc \n",
            "init\t [2.23291079 5.23163341 6.         0.65430839 5.         0.30077285]\t 0.048703725132963484\t -0.05843642955244097\t    \t    \n",
            "init\t [6.88726162 1.63731425 7.         0.97050543 2.         0.25392012]\t 0.040027922929579816\t -0.05843642955244097\t    \t    \n",
            "init\t [ 5.94328983  5.6393473   5.          0.67602695 19.          0.42538144]\t -0.05843642955244097\t -0.05843642955244097\t    \t    \n",
            "init\t [ 0.88741148  3.08148142 14.          0.56043938  9.          0.27515386]\t 0.05351180978919934\t -0.05843642955244097\t    \t    \n",
            "init\t [ 2.74631586  1.30996118 11.          0.52160786  8.          0.27956463]\t 0.05128838103896838\t -0.05843642955244097\t    \t    \n",
            "1  \t [ 5.00544789  5.65847632  5.46235762  0.70589741 19.          0.3379472 ]\t 0.052161789939805914\t -0.05843642955244097\t 0.010391756495671579\t 0.013107274986115613\n",
            "\u001b[1m\u001b[92m2\u001b[0m\t \u001b[1m\u001b[92m[ 9.22066243  2.6955384  13.          0.86577429 19.          0.38086064]\u001b[0m\t \u001b[1m\u001b[92m-0.09960408275417523\u001b[0m\t \u001b[1m\u001b[92m-0.09960408275417523\u001b[0m\t \u001b[1m\u001b[92m0.00976945757273036\u001b[0m\t \u001b[1m\u001b[92m0.00976945757273036\u001b[0m\n",
            "3  \t [ 6.11365208  6.18589791 10.          0.73005028  6.          0.19363375]\t 0.19002357345212628\t -0.09960408275417523\t 0.007617184875702847\t 0.007617184875702847\n",
            "\u001b[1m\u001b[92m4\u001b[0m\t \u001b[1m\u001b[92m[ 3.35529467  5.06431524 13.          0.9972866   3.          0.93236698]\u001b[0m\t \u001b[1m\u001b[92m-0.26262891558290447\u001b[0m\t \u001b[1m\u001b[92m-0.26262891558290447\u001b[0m\t \u001b[1m\u001b[92m0.016979041978650595\u001b[0m\t \u001b[1m\u001b[92m0.016979041978650595\u001b[0m\n",
            "5  \t [ 4.32892404  0.24224571  6.          0.90054399 18.          0.32729375]\t 0.04576430565578016\t -0.26262891558290447\t 0.010291927899841442\t 0.010291927899841442\n",
            "6  \t [ 5.58043809  8.91463745  8.          0.85851576 10.          0.64398202]\t -0.21518287714880166\t -0.26262891558290447\t 0.009198180103059027\t 0.009198180103059027\n",
            "7  \t [ 2.65571666  4.32529089 14.          0.66921971  2.          0.36607383]\t 0.06512189227660317\t -0.26262891558290447\t 0.011861022604607434\t 0.011861022604607434\n",
            "8  \t [7.55845149 1.43475685 6.         0.93543816 5.         0.90371481]\t -0.20213465918970402\t -0.26262891558290447\t 0.01096679005930488\t 0.01096679005930488\n",
            "9  \t [ 7.84974289  7.4836946  14.          0.52626561 19.          0.40280383]\t -0.09265788026886138\t -0.26262891558290447\t 0.012727807221508824\t 0.012727807221508824\n",
            "10 \t [ 3.42614455  4.49504386  7.          0.77564645 17.          0.86152495]\t -0.21687953993694425\t -0.26262891558290447\t 0.012172245519072552\t 0.012172245519072552\n",
            "11 \t [7.37439838 7.63841598 6.         0.56413023 9.         0.88294461]\t -0.1993178676719037\t -0.26262891558290447\t 0.013999662452672422\t 0.013999662452672422\n",
            "12 \t [ 9.1898735   2.44032091 13.0000006   0.89313504 19.0000006   0.59733351]\t -0.18190503315609102\t -0.26262891558290447\t 0.01595839542330213\t 0.016113904822216397\n",
            "13 \t [ 8.65212037  0.27357128 12.          0.56611912 19.          0.77902637]\t -0.24186958926844868\t -0.26262891558290447\t 0.015862590551262986\t 0.015862590551262986\n",
            "14 \t [ 3.30438439  4.84306451  6.66140315  0.72544251 17.33856198  0.9915636 ]\t -0.200362574023216\t -0.26262891558290447\t 0.017826429897794906\t 0.02435009465092487\n",
            "\u001b[1m\u001b[92m15\u001b[0m\t \u001b[1m\u001b[92m[ 3.65923042  5.38704455 12.56418095  1.          3.43591706  1.        ]\u001b[0m\t \u001b[1m\u001b[92m-0.27084330311151417\u001b[0m\t \u001b[1m\u001b[92m-0.27084330311151417\u001b[0m\t \u001b[1m\u001b[92m0.022529231322447354\u001b[0m\t \u001b[1m\u001b[92m0.03253996616417394\u001b[0m\n",
            "16 \t [ 8.91478975  1.24424249 12.52674034  0.75665533 18.99998123  0.82797836]\t -0.25160748642887004\t -0.27084330311151417\t 0.027331217491450115\t 0.04173681988957248\n",
            "17 \t [ 2.97498733  5.46046897 12.88987309  1.          3.56948292  1.        ]\t -0.27073815758286457\t -0.27084330311151417\t 0.019728991757611964\t 0.03260991697655129\n",
            "18 \t [ 3.0721687   4.99554317 12.3663004   1.          3.32074098  1.        ]\t -0.2706528260862604\t -0.27084330311151417\t 0.025246274064137514\t 0.03437220648927817\n",
            "19 \t [ 2.12411356  5.17941692 14.          0.70666157 12.          0.74350351]\t -0.23023704608135676\t -0.27084330311151417\t 0.02800752107072461\t 0.02800752107072461\n",
            "20 \t [ 3.43557416  4.68723515 12.97179639  1.          3.89441707  1.        ]\t -0.27065273457296163\t -0.27084330311151417\t 0.05916061154869811\t 0.07760004551740231\n",
            "21 \t [ 2.84260873  5.32431887  6.          0.92997564 16.          0.35060369]\t 0.044722328628921115\t -0.27084330311151417\t 0.024073091308567756\t 0.024073091308567756\n",
            "22 \t [ 3.67367142  5.76857475  6.          0.87832082 17.          0.78955577]\t -0.18701774602018806\t -0.27084330311151417\t 0.03984110899027265\t 0.03984110899027265\n",
            "23 \t [ 3.30022301  5.12867425 12.7470834   1.          3.44935968  0.9896274 ]\t -0.25786885572060586\t -0.27084330311151417\t 0.0445005246393687\t 0.05892872735648153\n",
            "24 \t [ 3.39762013  4.74926345  6.77362431  0.76159588 17.15368041  0.91535579]\t -0.19808219665014315\t -0.27084330311151417\t 0.05256965098793173\t 0.05874850076067101\n",
            "25 \t [ 3.31116278  5.06214011 12.79483032  0.9978032   3.50821781  0.98097455]\t -0.26668001796488294\t -0.27084330311151417\t 0.045980384841512366\t 0.0868387835488164\n",
            "26 \t [ 3.73420217  8.22730904 13.          0.84562785  9.          0.47506411]\t -0.09278852007803315\t -0.27084330311151417\t 0.029556024398411852\t 0.029556024398411852\n",
            "27 \t [ 7.8232746   4.38850045 13.          0.76208803 18.          0.20715737]\t 0.19029439623203612\t -0.27084330311151417\t 0.05666224860633066\t 0.05666224860633066\n",
            "28 \t [ 3.60668261  3.61026877 14.          0.9898327  13.          0.9620422 ]\t -0.26794167445473754\t -0.27084330311151417\t 0.039092279082624526\t 0.039092279082624526\n",
            "29 \t [7.2967089  9.15541435 6.         0.87552502 9.         0.73296466]\t -0.17350030826763915\t -0.27084330311151417\t 0.059436301831617015\t 0.059436301831617015\n",
            "30 \t [ 3.33220862  5.09278018 12.75031201  1.          3.54616193  1.        ]\t -0.27065275980530146\t -0.27084330311151417\t 0.05019602466119454\t 0.08327718984401782\n"
          ]
        },
        {
          "output_type": "execute_result",
          "data": {
            "text/plain": [
              "51271.73109903588"
            ]
          },
          "metadata": {},
          "execution_count": 36
        }
      ]
    },
    {
      "cell_type": "code",
      "metadata": {
        "id": "SXelbcAVVCqO",
        "colab": {
          "base_uri": "https://localhost:8080/"
        },
        "outputId": "9df05e02-d072-4588-cdca-63eadd27e9ea"
      },
      "source": [
        "### Bayesian optimization runs (x20): 'approx' Acquisition Function run number = 17\n",
        "\n",
        "np.random.seed(run_num_17)\n",
        "surrogate_approx_17 = dtStudentProcess(cov_func, optimize=opt, nu = df)\n",
        "\n",
        "X_train17, X_test17, y_train17, y_test17 = train_test_split(X, y, test_size=test_perc, random_state=run_num_17)\n",
        "\n",
        "def f_syn_polarity17(alpha, gamma, max_depth, subsample, min_child_weight, colsample):\n",
        "    reg = XGBRegressor(reg_alpha=alpha, gamma=gamma, max_depth=int(max_depth), subsample=subsample, min_child_weight=min_child_weight,\n",
        "          colsample_bytree=colsample, n_estimators = n_est, random_state=run_num_17, objective = 'reg:squarederror')\n",
        "    score = np.array(cross_val_score(reg, X=X_train17, y=y_train17).mean())\n",
        "    return operator * score\n",
        "\n",
        "approx_17 = GPGO_multi(surrogate_approx_17, Acquisition_grad(util), f_syn_polarity17, param, n_jobs = -1) # define BayesOpt\n",
        "approx_17.run(max_iter = max_iter, init_evals = n_init) # run\n",
        "\n",
        "### Return optimal parameters' set:\n",
        "params_approx_17 = approx_17.getResult()[0]\n",
        "params_approx_17['max_depth'] = int(params_approx_17['max_depth'])\n",
        "params_approx_17['min_child_weight'] = int(params_approx_17['min_child_weight'])\n",
        "\n",
        "### Re-train with optimal parameters, run predictons:\n",
        "dX_approx_train17 = xgb.DMatrix(X_train17, y_train17)\n",
        "dX_approx_test17 = xgb.DMatrix(X_test17, y_test17)\n",
        "model_approx_17 = xgb.train(params_approx_17, dX_approx_train17)\n",
        "pred_approx_17 = model_approx_17.predict(dX_approx_test17)\n",
        "\n",
        "rmse_approx_17 = np.sqrt(mean_squared_error(pred_approx_17, y_test17))\n",
        "rmse_approx_17"
      ],
      "execution_count": null,
      "outputs": [
        {
          "output_type": "stream",
          "name": "stdout",
          "text": [
            "Evaluation \t Proposed point \t  Current eval. \t  Best eval. \t         Max. ExactAcqFunc \t Max. ApproxAcqFunc \n",
            "init\t [ 2.94665003  5.30586756 11.          0.94443241 14.          0.80828691]\t -0.23910144701287991\t -0.23910144701287991\t    \t    \n",
            "init\t [ 6.56333522  6.37520896 12.          0.81487881 18.          0.42203224]\t -0.10378249122646373\t -0.23910144701287991\t    \t    \n",
            "init\t [ 9.45683187  0.6004468  11.          0.5171566  10.          0.53881211]\t -0.19590683647137813\t -0.23910144701287991\t    \t    \n",
            "init\t [2.72705857 1.19063434 6.         0.74176431 6.         0.10101151]\t 0.07401068176879111\t -0.23910144701287991\t    \t    \n",
            "init\t [ 4.77631812  5.24671297 13.          0.66254476 19.          0.36708086]\t -0.045394377443917985\t -0.23910144701287991\t    \t    \n",
            "\u001b[1m\u001b[92m1\u001b[0m\t \u001b[1m\u001b[92m[ 3.41626332  5.96699834 11.28425311  0.93623084 13.71581295  0.83405663]\u001b[0m\t \u001b[1m\u001b[92m-0.24029749994591154\u001b[0m\t \u001b[1m\u001b[92m-0.24029749994591154\u001b[0m\t \u001b[1m\u001b[92m0.020125598071459975\u001b[0m\t \u001b[1m\u001b[92m0.031932403175072704\u001b[0m\n",
            "2  \t [ 2.6223469   5.99265492 11.29340711  0.91005577 13.89020312  0.7426334 ]\t -0.23209031572032773\t -0.24029749994591154\t 0.01808194024064945\t 0.034721663433074\n",
            "3  \t [ 3.16361309  5.61556253 11.55699818  0.98011401 14.14479047  0.47556914]\t -0.10557161564109482\t -0.24029749994591154\t 0.020345990128959664\t 0.03270637779456545\n",
            "\u001b[1m\u001b[92m4\u001b[0m\t \u001b[1m\u001b[92m[ 2.96033361  5.82236332 10.78774399  0.88627762 13.57509899  1.        ]\u001b[0m\t \u001b[1m\u001b[92m-0.266502796165338\u001b[0m\t \u001b[1m\u001b[92m-0.266502796165338\u001b[0m\t \u001b[1m\u001b[92m0.018361780491238718\u001b[0m\t \u001b[1m\u001b[92m0.06378635274201006\u001b[0m\n",
            "5  \t [ 3.08071367  5.97225986 10.78727233  0.51220843 14.1404243   1.        ]\t -0.2519273076134626\t -0.266502796165338\t 0.01505902150575202\t 0.02935798793313368\n",
            "6  \t [ 2.95601566  5.6580921  11.17033847  0.5        13.59555248  1.        ]\t -0.2572214218003563\t -0.266502796165338\t 0.012798110503797415\t 0.027853001973877283\n",
            "7  \t [ 3.13293896  6.78412369 11.18673504  0.53651822 13.47879742  1.        ]\t -0.257262373238242\t -0.266502796165338\t 0.012380109894012678\t 0.01913982827748622\n",
            "8  \t [ 2.12423508  5.21366155 10.55298661  0.59887967 14.10737926  1.        ]\t -0.25932504459199734\t -0.266502796165338\t 0.011358466237029687\t 0.018197078347045592\n",
            "9  \t [ 2.55612009  5.51466426 10.55806304  0.5        13.831637    0.50152066]\t -0.19737723171882482\t -0.266502796165338\t 0.011745330728604146\t 0.022704008333643128\n",
            "10 \t [ 6.12664566  4.78595448 11.70704153  0.83072409 18.13223751  0.25038598]\t -0.04834342919958952\t -0.266502796165338\t 0.010518334569555966\t 0.011409004465172297\n",
            "11 \t [ 2.55686495  5.57227948 10.84920685  0.79341877 13.99971486  1.        ]\t -0.26265772772422824\t -0.266502796165338\t 0.011948790087734494\t 0.023078223772375214\n",
            "12 \t [ 2.53187872  4.56529727 10.45783154  0.68576828 14.14006589  1.        ]\t -0.26196798874480753\t -0.266502796165338\t 0.01017361432240458\t 0.022075163471955442\n",
            "13 \t [ 3.08405763  6.26741398 11.09777517  0.73670914 13.6527488   1.        ]\t -0.26632258211612564\t -0.266502796165338\t 0.009976625101759373\t 0.02450242415207948\n",
            "\u001b[1m\u001b[92m14\u001b[0m\t \u001b[1m\u001b[92m[ 2.32042594  4.8133461  10.71952996  0.91562069 13.61640749  1.        ]\u001b[0m\t \u001b[1m\u001b[92m-0.26794046213891765\u001b[0m\t \u001b[1m\u001b[92m-0.26794046213891765\u001b[0m\t \u001b[1m\u001b[92m0.011544231719038898\u001b[0m\t \u001b[1m\u001b[92m0.02197933178081293\u001b[0m\n",
            "15 \t [ 2.6972514   5.04095722 10.5760086   0.71902343 13.82391064  1.        ]\t -0.26209312287883896\t -0.26794046213891765\t 0.009527919654107589\t 0.022071090820665055\n",
            "16 \t [ 3.74956915  6.35257498 10.80302355  0.5        13.43141174  0.87551395]\t -0.25182394605446196\t -0.26794046213891765\t 0.009537115695286869\t 0.018600293816596034\n",
            "17 \t [ 8.35462213  0.7330694  11.37107353  0.67632783 10.          0.51264504]\t -0.20172557099179142\t -0.26794046213891765\t 0.008554415453954219\t 0.011249178558152497\n",
            "18 \t [ 2.17005649  4.72602285 10.91462575  0.69236387 14.06705818  1.        ]\t -0.2623859862908417\t -0.26794046213891765\t 0.010575452773433483\t 0.022130462852206885\n",
            "\u001b[1m\u001b[92m19\u001b[0m\t \u001b[1m\u001b[92m[ 2.2024185   4.8203756  10.54349438  1.         14.11152521  1.        ]\u001b[0m\t \u001b[1m\u001b[92m-0.26803515932988475\u001b[0m\t \u001b[1m\u001b[92m-0.26803515932988475\u001b[0m\t \u001b[1m\u001b[92m0.008550780143911616\u001b[0m\t \u001b[1m\u001b[92m0.02069158523231508\u001b[0m\n",
            "20 \t [ 1.74443118  4.29602629 10.24997206  0.53479557 13.87347079  1.        ]\t -0.254173366954541\t -0.26803515932988475\t 0.008043135829286154\t 0.015419361127930712\n",
            "21 \t [ 2.65189924  5.42584903 10.74698816  0.68489841 13.73836802  1.        ]\t -0.2607447270815763\t -0.26803515932988475\t 0.07873092473513751\t 0.12194534229462918\n",
            "22 \t [ 2.25553983  4.83478402 10.58884713  0.70402314 13.91215316  1.        ]\t -0.2646772484217603\t -0.26803515932988475\t 0.02140634218156835\t 0.0392583558463565\n",
            "23 \t [ 2.64310433  5.40593532 10.75125996  0.69600291 13.76840569  1.        ]\t -0.2633992871753291\t -0.26803515932988475\t 0.06849598210947619\t 0.11650754408416997\n",
            "24 \t [ 2.08918588  4.53438286 10.50084106  0.73834857 13.9690114   0.68031759]\t -0.2259852538483343\t -0.26803515932988475\t 0.021398673530693926\t 0.04391774340179965\n",
            "25 \t [ 2.59820877  5.32971275 10.74714977  0.71224888 13.81813996  1.        ]\t -0.2620777877145323\t -0.26803515932988475\t 0.0402793251919165\t 0.08388265115935258\n",
            "26 \t [ 2.61482375  5.35854758 10.74765934  0.70621188 13.79898579  1.        ]\t -0.26361523185691543\t -0.26803515932988475\t 0.0768092615107559\t 0.1094051404557353\n",
            "27 \t [ 2.57431247  4.7319646  10.          0.70668774 16.          0.66746833]\t -0.2254011757208012\t -0.26803515932988475\t 0.06449159129638019\t 0.06449159129638019\n",
            "28 \t [ 5.25650638  7.61051907 12.99998984  0.66047093 12.00000757  0.18627961]\t 0.07397527830339193\t -0.26803515932988475\t 0.02904073251162327\t 0.029040732806144415\n",
            "29 \t [ 3.01724722  5.86895397 10.98621395  0.69482658 13.80501113  0.83906878]\t -0.23504328941419955\t -0.26803515932988475\t 0.06162589032359716\t 0.11392083502872398\n",
            "30 \t [ 3.17187998  4.13355162  8.          0.8657932  13.          0.82446402]\t -0.22290733444388416\t -0.26803515932988475\t 0.04627279139715011\t 0.04627279139715011\n"
          ]
        },
        {
          "output_type": "execute_result",
          "data": {
            "text/plain": [
              "49072.741084765155"
            ]
          },
          "metadata": {},
          "execution_count": 37
        }
      ]
    },
    {
      "cell_type": "code",
      "metadata": {
        "id": "qJG2fAtAVFDZ",
        "colab": {
          "base_uri": "https://localhost:8080/"
        },
        "outputId": "662e2f9b-1fa6-49b0-857c-51a83ae38279"
      },
      "source": [
        "### Bayesian optimization runs (x20): 'approx' Acquisition Function run number = 18\n",
        "\n",
        "np.random.seed(run_num_18)\n",
        "surrogate_approx_18 = dtStudentProcess(cov_func, optimize=opt, nu = df)\n",
        "\n",
        "X_train18, X_test18, y_train18, y_test18 = train_test_split(X, y, test_size=test_perc, random_state=run_num_18)\n",
        "\n",
        "def f_syn_polarity18(alpha, gamma, max_depth, subsample, min_child_weight, colsample):\n",
        "    reg = XGBRegressor(reg_alpha=alpha, gamma=gamma, max_depth=int(max_depth), subsample=subsample, min_child_weight=min_child_weight,\n",
        "          colsample_bytree=colsample, n_estimators = n_est, random_state=run_num_11, objective = 'reg:squarederror')\n",
        "    score = np.array(cross_val_score(reg, X=X_train18, y=y_train18).mean())\n",
        "    return operator * score\n",
        "\n",
        "approx_18 = GPGO_multi(surrogate_approx_18, Acquisition_grad(util), f_syn_polarity18, param, n_jobs = -1) # define BayesOpt\n",
        "approx_18.run(max_iter = max_iter, init_evals = n_init) # run\n",
        "\n",
        "### Return optimal parameters' set:\n",
        "params_approx_18 = approx_18.getResult()[0]\n",
        "params_approx_18['max_depth'] = int(params_approx_18['max_depth'])\n",
        "params_approx_18['min_child_weight'] = int(params_approx_18['min_child_weight'])\n",
        "\n",
        "### Re-train with optimal parameters, run predictons:\n",
        "dX_approx_train18 = xgb.DMatrix(X_train18, y_train18)\n",
        "dX_approx_test18 = xgb.DMatrix(X_test18, y_test18)\n",
        "model_approx_18 = xgb.train(params_approx_18, dX_approx_train18)\n",
        "pred_approx_18 = model_approx_18.predict(dX_approx_test18)\n",
        "\n",
        "rmse_approx_18 = np.sqrt(mean_squared_error(pred_approx_18, y_test18))\n",
        "rmse_approx_18"
      ],
      "execution_count": null,
      "outputs": [
        {
          "output_type": "stream",
          "name": "stdout",
          "text": [
            "Evaluation \t Proposed point \t  Current eval. \t  Best eval. \t         Max. ExactAcqFunc \t Max. ApproxAcqFunc \n",
            "init\t [6.50374242 5.05453374 6.         0.59092011 3.         0.28357516]\t -0.0076405919200202895\t -0.22843023341795562\t    \t    \n",
            "init\t [0.11506734 4.26891483 9.         0.81785956 5.         0.63489043]\t -0.22843023341795562\t -0.22843023341795562\t    \t    \n",
            "init\t [ 2.8861259   6.35547834 11.          0.64267955 14.          0.27877092]\t -0.01476438658360133\t -0.22843023341795562\t    \t    \n",
            "init\t [6.57189031 6.99655629 8.         0.63235896 4.         0.52894035]\t -0.17597140551442877\t -0.22843023341795562\t    \t    \n",
            "init\t [ 6.66600348  2.11312037 14.          0.74363461  4.          0.73174558]\t -0.22689233796346936\t -0.22843023341795562\t    \t    \n",
            "1  \t [ 6.72471173  1.26672475 14.          0.6776362   4.          0.74967688]\t -0.22490734961091424\t -0.22843023341795562\t 0.02570441661221225\t 0.037636729816874326\n",
            "\u001b[1m\u001b[92m2\u001b[0m\t \u001b[1m\u001b[92m[ 7.09588839  1.73671223 14.31020274  0.61766601  3.37958515  0.80486317]\u001b[0m\t \u001b[1m\u001b[92m-0.24212012362051363\u001b[0m\t \u001b[1m\u001b[92m-0.24212012362051363\u001b[0m\t \u001b[1m\u001b[92m0.023051255475140097\u001b[0m\t \u001b[1m\u001b[92m0.03776853654397774\u001b[0m\n",
            "\u001b[1m\u001b[92m3\u001b[0m\t \u001b[1m\u001b[92m[ 6.41473311  1.6847851  14.6775245   0.68130938  3.67480547  0.81911907]\u001b[0m\t \u001b[1m\u001b[92m-0.24681308375614144\u001b[0m\t \u001b[1m\u001b[92m-0.24681308375614144\u001b[0m\t \u001b[1m\u001b[92m0.019453574490045866\u001b[0m\t \u001b[1m\u001b[92m0.035229111645295436\u001b[0m\n",
            "4  \t [5.77650903 6.19037695 8.3824198  0.60918562 3.57056378 0.42465742]\t -0.12407305509349151\t -0.24681308375614144\t 0.016398165610865358\t 0.020371282498118783\n",
            "5  \t [ 3.40683813  4.12059394 11.          0.80068229 12.93379661  0.66430562]\t -0.23552651413970613\t -0.24681308375614144\t 0.014446887382276757\t 0.014453672543476018\n",
            "\u001b[1m\u001b[92m6\u001b[0m\t \u001b[1m\u001b[92m[ 3.91146767  4.29274901 10.38293871  0.77174829 13.37977483  0.86907914]\u001b[0m\t \u001b[1m\u001b[92m-0.2558289126581614\u001b[0m\t \u001b[1m\u001b[92m-0.2558289126581614\u001b[0m\t \u001b[1m\u001b[92m0.020356325923659737\u001b[0m\t \u001b[1m\u001b[92m0.028132784853017546\u001b[0m\n",
            "7  \t [ 4.05518838  4.6076729  10.66014285  0.75416874 12.72303324  0.70323216]\t -0.23348184129532826\t -0.2558289126581614\t 0.017654498205141093\t 0.0324689169771672\n",
            "\u001b[1m\u001b[92m8\u001b[0m\t \u001b[1m\u001b[92m[ 4.07520746  3.74878188 10.59985946  0.81050898 12.89719773  0.82282045]\u001b[0m\t \u001b[1m\u001b[92m-0.25658559519950996\u001b[0m\t \u001b[1m\u001b[92m-0.25658559519950996\u001b[0m\t \u001b[1m\u001b[92m0.016625218066482653\u001b[0m\t \u001b[1m\u001b[92m0.031210847650295928\u001b[0m\n",
            "9  \t [ 4.10828223  4.1015804  10.87889826  0.77511055 13.29542675  0.41348309]\t -0.13967629087568084\t -0.25658559519950996\t 0.014741807011771272\t 0.03181410496946461\n",
            "\u001b[1m\u001b[92m10\u001b[0m\t \u001b[1m\u001b[92m[ 3.63439929  4.12197499 10.34955631  0.80262648 12.80673154  1.        ]\u001b[0m\t \u001b[1m\u001b[92m-0.26834772805799334\u001b[0m\t \u001b[1m\u001b[92m-0.26834772805799334\u001b[0m\t \u001b[1m\u001b[92m0.016722746851053915\u001b[0m\t \u001b[1m\u001b[92m0.06014312710189672\u001b[0m\n",
            "11 \t [ 3.82305358  4.1353483  10.69251845  0.5        12.93532133  1.        ]\t -0.25882271019472475\t -0.26834772805799334\t 0.01485102230967473\t 0.029732877131117764\n",
            "\u001b[1m\u001b[92m12\u001b[0m\t \u001b[1m\u001b[92m[ 3.84521463  4.18163049 10.65953598  1.         12.95134895  1.        ]\u001b[0m\t \u001b[1m\u001b[92m-0.2691283163398535\u001b[0m\t \u001b[1m\u001b[92m-0.2691283163398535\u001b[0m\t \u001b[1m\u001b[92m0.015644583723846254\u001b[0m\t \u001b[1m\u001b[92m0.02886893999691194\u001b[0m\n",
            "\u001b[1m\u001b[92m13\u001b[0m\t \u001b[1m\u001b[92m[ 7.11485052  1.7116359  14.69314513  0.97796104  4.09919193  0.88714048]\u001b[0m\t \u001b[1m\u001b[92m-0.27666924916101954\u001b[0m\t \u001b[1m\u001b[92m-0.27666924916101954\u001b[0m\t \u001b[1m\u001b[92m0.012084537741152824\u001b[0m\t \u001b[1m\u001b[92m0.02353793071950743\u001b[0m\n",
            "14 \t [ 7.0171682   1.73167203 14.6625369   0.5         4.04275415  0.39189463]\t -0.12361216014680262\t -0.27666924916101954\t 0.013727819831541657\t 0.025855624750308906\n",
            "15 \t [ 4.58535509  4.16369331  9.78588699  0.80780576 12.92726451  1.        ]\t -0.2634741886307749\t -0.27666924916101954\t 0.017082922155923157\t 0.021870549544777733\n",
            "16 \t [ 6.82698834  1.6824714  14.37904346  1.          3.75777754  1.        ]\t -0.26831266814306637\t -0.27666924916101954\t 0.013282098766262958\t 0.050127123289157714\n",
            "17 \t [ 4.11573356  4.1469444  10.17191564  0.81094165 12.89475534  1.        ]\t -0.26956964611319584\t -0.27666924916101954\t 0.013004071805057619\t 0.02424697994241339\n",
            "18 \t [ 6.47719071  1.67471472 14.64592502  1.          4.66596606  1.        ]\t -0.26614474350624784\t -0.27666924916101954\t 0.017330773426808572\t 0.02156529806394257\n",
            "19 \t [ 3.9618501   4.15934873 10.27464742  0.80068889 12.84459303  1.        ]\t -0.2694432885407547\t -0.27666924916101954\t 0.07952194516717172\t 0.12001986439130899\n",
            "20 \t [ 3.96705937  4.15967309 10.29319617  0.79942733 12.85889282  1.        ]\t -0.2690503325008227\t -0.27666924916101954\t 0.0758624998912387\t 0.11739902692104807\n",
            "21 \t [ 8.01350971  9.39452245  7.          0.78496229 15.          0.57062146]\t -0.16977857841044341\t -0.27666924916101954\t 0.037976216008947315\t 0.037976216008947315\n",
            "22 \t [ 3.98701164  4.16437303 10.35720805  0.79138862 12.90345021  0.9445609 ]\t -0.2716940334910209\t -0.27666924916101954\t 0.050729357082945035\t 0.08044455187148464\n",
            "23 \t [ 2.37037687  7.84041646 11.          0.9725866  13.          0.81262008]\t -0.2614108347643897\t -0.27666924916101954\t 0.05846841871176241\t 0.05846841871176241\n",
            "24 \t [5.65613367 6.32674591 8.70223379 0.76589444 3.27510013 0.32344234]\t -0.017376576883222895\t -0.27666924916101954\t 0.06439786790309467\t 0.06704389054798697\n",
            "25 \t [ 6.29220368  2.38330385 14.0000035   0.79935399  1.00002485  0.16879633]\t 0.17042528922466643\t -0.27666924916101954\t 0.058498402102728164\t 0.05849840287576071\n",
            "26 \t [ 3.96984893  4.15790121 10.31432167  0.79839256 12.8722219   1.        ]\t -0.2683327279971571\t -0.27666924916101954\t 0.07155079224606507\t 0.10763116382215067\n",
            "27 \t [ 3.13132135  4.96185351 10.66363845  0.73906095 13.09783191  1.        ]\t -0.26836919964035083\t -0.27666924916101954\t 0.0356320890467895\t 0.04711102818026329\n",
            "28 \t [6.2749894  4.76509346 9.         0.61681888 3.         0.2355964 ]\t 0.16892706243973193\t -0.27666924916101954\t 0.04485517287075134\t 0.04485517287075134\n",
            "29 \t [9.31614024 4.63885987 7.         0.54659744 6.         0.74814245]\t -0.20453249997809192\t -0.27666924916101954\t 0.048529084891098445\t 0.048529084891098445\n",
            "30 \t [ 6.65137951  1.69029333 14.41895372  0.96118209  4.10803527  1.        ]\t -0.26937389002753853\t -0.27666924916101954\t 0.06444672648935641\t 0.09340792071704647\n"
          ]
        },
        {
          "output_type": "execute_result",
          "data": {
            "text/plain": [
              "48792.67253893092"
            ]
          },
          "metadata": {},
          "execution_count": 38
        }
      ]
    },
    {
      "cell_type": "code",
      "metadata": {
        "id": "XHidSEGcVHvG",
        "colab": {
          "base_uri": "https://localhost:8080/"
        },
        "outputId": "63fa766d-93da-4ab9-d0ef-7340b0f1f8bb"
      },
      "source": [
        "### Bayesian optimization runs (x20): 'approx' Acquisition Function run number = 19\n",
        "\n",
        "np.random.seed(run_num_19)\n",
        "surrogate_approx_19 = dtStudentProcess(cov_func, optimize=opt, nu = df)\n",
        "\n",
        "X_train19, X_test19, y_train19, y_test19 = train_test_split(X, y, test_size=test_perc, random_state=run_num_19)\n",
        "\n",
        "def f_syn_polarity19(alpha, gamma, max_depth, subsample, min_child_weight, colsample):\n",
        "    reg = XGBRegressor(reg_alpha=alpha, gamma=gamma, max_depth=int(max_depth), subsample=subsample, min_child_weight=min_child_weight,\n",
        "          colsample_bytree=colsample, n_estimators = n_est, random_state=run_num_19, objective = 'reg:squarederror')\n",
        "    score = np.array(cross_val_score(reg, X=X_train19, y=y_train19).mean())\n",
        "    return operator * score\n",
        "\n",
        "approx_19 = GPGO_multi(surrogate_approx_19, Acquisition_grad(util), f_syn_polarity19, param, n_jobs = -1) # define BayesOpt\n",
        "approx_19.run(max_iter = max_iter, init_evals = n_init) # run\n",
        "\n",
        "### Return optimal parameters' set:\n",
        "params_approx_19 = approx_19.getResult()[0]\n",
        "params_approx_19['max_depth'] = int(params_approx_19['max_depth'])\n",
        "params_approx_19['min_child_weight'] = int(params_approx_19['min_child_weight'])\n",
        "\n",
        "### Re-train with optimal parameters, run predictons:\n",
        "dX_approx_train19 = xgb.DMatrix(X_train19, y_train19)\n",
        "dX_approx_test19 = xgb.DMatrix(X_test19, y_test19)\n",
        "model_approx_19 = xgb.train(params_approx_19, dX_approx_train19)\n",
        "pred_approx_19 = model_approx_19.predict(dX_approx_test19)\n",
        "\n",
        "rmse_approx_19 = np.sqrt(mean_squared_error(pred_approx_19, y_test19))\n",
        "rmse_approx_19"
      ],
      "execution_count": null,
      "outputs": [
        {
          "output_type": "stream",
          "name": "stdout",
          "text": [
            "Evaluation \t Proposed point \t  Current eval. \t  Best eval. \t         Max. ExactAcqFunc \t Max. ApproxAcqFunc \n",
            "init\t [ 0.97533602  7.61249717 13.          0.85765469 11.          0.39830191]\t -0.17415007614032985\t -0.19183869260741285\t    \t    \n",
            "init\t [ 0.82999565  6.71977081  6.          0.50407413 19.          0.67209466]\t -0.18632204531137952\t -0.19183869260741285\t    \t    \n",
            "init\t [ 2.15923256  5.49027432 12.          0.52588686 10.          0.20235326]\t 0.21252211626474998\t -0.19183869260741285\t    \t    \n",
            "init\t [4.99659267 1.52108422 6.         0.73481085 4.         0.71949465]\t -0.19183869260741285\t -0.19183869260741285\t    \t    \n",
            "init\t [ 3.72927156  9.46160045  5.          0.80554614 18.          0.97708466]\t -0.17145265904667953\t -0.19183869260741285\t    \t    \n",
            "\u001b[1m\u001b[92m1\u001b[0m\t \u001b[1m\u001b[92m[ 3.98244269  1.00367494 10.          0.79972195 10.          0.76646673]\u001b[0m\t \u001b[1m\u001b[92m-0.2664079916571761\u001b[0m\t \u001b[1m\u001b[92m-0.2664079916571761\u001b[0m\t \u001b[1m\u001b[92m0.040172798746990666\u001b[0m\t \u001b[1m\u001b[92m0.040172798746990666\u001b[0m\n",
            "2  \t [2.09754861 2.6282992  8.         0.77142046 4.         0.42641463]\t -0.159263494964981\t -0.2664079916571761\t 0.033718867242738634\t 0.033718867242738634\n",
            "3  \t [ 6.27854545  7.10921922  8.          0.72671603 19.          0.75160997]\t -0.24806609122800963\t -0.2664079916571761\t 0.03175654484956467\t 0.03175654484956467\n",
            "4  \t [4.88929098 0.59869674 5.         0.62191122 3.         0.75816014]\t -0.17349428548387855\t -0.2664079916571761\t 0.03419733867137919\t 0.03419733867137919\n",
            "5  \t [3.48773615 1.4568675  9.68904531 0.7654373  9.35113047 0.6935991 ]\t -0.2412338154749732\t -0.2664079916571761\t 0.03351887443192794\t 0.046638530613466726\n",
            "6  \t [ 3.62855339  1.64439709 10.56129414  0.75813875  9.86279753  0.68006767]\t -0.24475937068653889\t -0.2664079916571761\t 0.02972672858682996\t 0.047186993631389236\n",
            "\u001b[1m\u001b[92m7\u001b[0m\t \u001b[1m\u001b[92m[ 3.16785806  0.84704541 10.25472638  0.85718319  9.78435167  0.80612423]\u001b[0m\t \u001b[1m\u001b[92m-0.2679476276086139\u001b[0m\t \u001b[1m\u001b[92m-0.2679476276086139\u001b[0m\t \u001b[1m\u001b[92m0.03424947115904084\u001b[0m\t \u001b[1m\u001b[92m0.046344017090360096\u001b[0m\n",
            "8  \t [ 3.44175928  1.13502933 10.03101724  0.77093605  9.96540369  0.12012406]\t 0.21210613669459807\t -0.2679476276086139\t 0.027456186962171142\t 0.04659884824016756\n",
            "9  \t [ 6.27848512  7.10927384  7.9999236   0.72671737 18.99997825  0.75161563]\t -0.2318709809598784\t -0.2679476276086139\t 0.03811463632361437\t 0.0458191088409472\n",
            "10 \t [ 9.3596928   5.4381217   6.          0.86940972 15.          0.99546607]\t -0.20467003878931248\t -0.2679476276086139\t 0.03740139815092066\t 0.03740139815092066\n",
            "11 \t [ 3.59646216  1.19647487 10.1639879   0.80939752  9.72794098  0.91190979]\t -0.2673715106676521\t -0.2679476276086139\t 0.03735829768915265\t 0.10337887425773597\n",
            "12 \t [ 3.01610245  7.43720323  6.          0.74142165 16.          0.23290047]\t 0.20565036499729072\t -0.2679476276086139\t 0.03555378438769927\t 0.03555378438769927\n",
            "13 \t [4.94690476 1.09373824 5.53670883 0.68250493 3.53672263 0.73740941]\t -0.16139535479172457\t -0.2679476276086139\t 0.03563873840126402\t 0.04524012331440146\n",
            "14 \t [ 4.28322497  1.20251496 11.          0.81266627 13.          0.34810226]\t -0.008883232884090342\t -0.2679476276086139\t 0.03453162266595695\t 0.03453162266595695\n",
            "15 \t [5.01387078 1.23810191 6.31976198 0.7970636  3.45473667 0.7022261 ]\t -0.19316239045777547\t -0.2679476276086139\t 0.03693024754892126\t 0.03948378677229704\n",
            "16 \t [ 3.83681689  1.17409872 10.3569885   0.88726016  9.35894392  1.        ]\t -0.26465700376090123\t -0.2679476276086139\t 0.03876212356308341\t 0.09872547055165536\n",
            "17 \t [4.41105466 1.38497093 6.08822686 0.73543347 3.64822315 0.80802247]\t -0.20861288802163416\t -0.2679476276086139\t 0.03074019915558468\t 0.04022225924492609\n",
            "18 \t [ 3.89218885  9.82469866  5.          0.719879   17.29325443  0.91006337]\t -0.1738109454569272\t -0.2679476276086139\t 0.030053470250018078\t 0.0341416145701567\n",
            "19 \t [ 3.71268944  1.30309426 10.24366544  0.82852371  9.53283074  1.        ]\t -0.2638442494036065\t -0.2679476276086139\t 0.031069913723937026\t 0.06825409268232561\n",
            "20 \t [ 6.82860409  6.61141499  8.69542017  0.71357086 19.19798937  0.70059774]\t -0.22765697923827513\t -0.2679476276086139\t 0.059968809671378895\t 0.06073910516727148\n",
            "21 \t [ 1.58154662  1.48669546 11.          0.98001116 10.          0.1586078 ]\t 0.21179079576382823\t -0.2679476276086139\t 0.06804943094996989\t 0.06804943094996989\n",
            "22 \t [ 7.57677364  4.34985746  9.          0.92599618 19.          0.58700788]\t -0.23075858140451028\t -0.2679476276086139\t 0.045732641481326365\t 0.045732641481326365\n",
            "23 \t [ 3.82045549  0.82273501 10.7954999   0.5         9.92761107  1.        ]\t -0.25252170523720424\t -0.2679476276086139\t 0.0901528173057062\t 0.10880188656393479\n",
            "24 \t [4.68403741 1.22590838 5.97772782 0.92446024 3.63887524 0.46269778]\t -0.10433645322196401\t -0.2679476276086139\t 0.05514287082250137\t 0.06448557067826784\n",
            "25 \t [3.50392351 6.35497601 9.         0.51577921 5.         0.45370698]\t -0.15870090774004847\t -0.2679476276086139\t 0.04195161585746992\t 0.04195161585746992\n",
            "26 \t [ 5.94841252  8.68600931  7.00000958  0.57912798 17.00002443  0.53526171]\t -0.20091654365628903\t -0.2679476276086139\t 0.0390209327214\t 0.03902093372401816\n",
            "27 \t [ 3.6980834   1.16403884 10.30987644  0.77679144  9.65624399  1.        ]\t -0.2609759503195309\t -0.2679476276086139\t 0.03483288133735651\t 0.07116009739378534\n",
            "28 \t [ 3.71572755  9.96104461  5.36039819  0.79710531 17.77633427  0.97908552]\t -0.172873980879624\t -0.2679476276086139\t 0.043872721015534855\t 0.0533504048731287\n",
            "29 \t [ 6.19086368  8.47911079  6.          0.770382   12.          0.93751062]\t -0.20675557486459156\t -0.2679476276086139\t 0.047118313820661166\t 0.047118313820661166\n",
            "30 \t [ 3.70087085  1.16625657 10.27445798  0.80425454  9.67690604  0.8917022 ]\t -0.2671410507465362\t -0.2679476276086139\t 0.04701751606727962\t 0.09194038715577534\n"
          ]
        },
        {
          "output_type": "execute_result",
          "data": {
            "text/plain": [
              "49824.66121018971"
            ]
          },
          "metadata": {},
          "execution_count": 39
        }
      ]
    },
    {
      "cell_type": "code",
      "metadata": {
        "id": "CWGPYRJhVKsO",
        "colab": {
          "base_uri": "https://localhost:8080/"
        },
        "outputId": "b9d0aeb3-4e37-4208-9eaa-484fa1d0feee"
      },
      "source": [
        "### Bayesian optimization runs (x20): 'approx' Acquisition Function run number = 20\n",
        "\n",
        "np.random.seed(run_num_20)\n",
        "surrogate_approx_20 = dtStudentProcess(cov_func, optimize=opt, nu = df)\n",
        "\n",
        "X_train20, X_test20, y_train20, y_test20 = train_test_split(X, y, test_size=test_perc, random_state=run_num_20)\n",
        "\n",
        "def f_syn_polarity20(alpha, gamma, max_depth, subsample, min_child_weight, colsample):\n",
        "    reg = XGBRegressor(reg_alpha=alpha, gamma=gamma, max_depth=int(max_depth), subsample=subsample, min_child_weight=min_child_weight,\n",
        "          colsample_bytree=colsample, n_estimators = n_est, random_state=run_num_20, objective = 'reg:squarederror')\n",
        "    score = np.array(cross_val_score(reg, X=X_train20, y=y_train20).mean())\n",
        "    return operator * score\n",
        "\n",
        "approx_20 = GPGO_multi(surrogate_approx_20, Acquisition_grad(util), f_syn_polarity20, param, n_jobs = -1) # define BayesOpt\n",
        "approx_20.run(max_iter = max_iter, init_evals = n_init) # run\n",
        "\n",
        "### Return optimal parameters' set:\n",
        "params_approx_20 = approx_20.getResult()[0]\n",
        "params_approx_20['max_depth'] = int(params_approx_20['max_depth'])\n",
        "params_approx_20['min_child_weight'] = int(params_approx_20['min_child_weight'])\n",
        "\n",
        "### Re-train with optimal parameters, run predictons:\n",
        "dX_approx_train20 = xgb.DMatrix(X_train20, y_train20)\n",
        "dX_approx_test20 = xgb.DMatrix(X_test20, y_test20)\n",
        "model_approx_20 = xgb.train(params_approx_20, dX_approx_train20)\n",
        "pred_approx_20 = model_approx_20.predict(dX_approx_test20)\n",
        "\n",
        "rmse_approx_20 = np.sqrt(mean_squared_error(pred_approx_20, y_test20))\n",
        "rmse_approx_20"
      ],
      "execution_count": null,
      "outputs": [
        {
          "output_type": "stream",
          "name": "stdout",
          "text": [
            "Evaluation \t Proposed point \t  Current eval. \t  Best eval. \t         Max. ExactAcqFunc \t Max. ApproxAcqFunc \n",
            "init\t [ 5.88130801  8.97713728 14.          0.81074445  8.          0.95540649]\t -0.26936432191802473\t -0.26936432191802473\t    \t    \n",
            "init\t [6.72865655 0.41173329 8.         0.6361582  7.         0.76174061]\t -0.22717556385781487\t -0.26936432191802473\t    \t    \n",
            "init\t [ 4.77387703  8.66202323 10.          0.51833215  7.          0.10123387]\t 0.1869918793862669\t -0.26936432191802473\t    \t    \n",
            "init\t [ 5.75489985  4.74524381  8.          0.78084343 15.          0.26643049]\t -0.0022319593135559533\t -0.26936432191802473\t    \t    \n",
            "init\t [ 4.53444     4.47342833  8.          0.91974896 18.          0.35997552]\t -0.003277438149602863\t -0.26936432191802473\t    \t    \n",
            "1  \t [ 3.8422053   9.45395911 13.          0.75311658  7.          0.67283825]\t -0.23379854702783193\t -0.26936432191802473\t 0.02515215547931111\t 0.02515215547931111\n",
            "2  \t [6.70531869 1.55812811 8.         0.75035711 7.         0.59190212]\t -0.18383848637332084\t -0.26936432191802473\t 0.031110526677807334\t 0.03647169344021764\n",
            "3  \t [7.66507462 0.83862209 8.45273379 0.54915123 7.         0.70830289]\t -0.21944732566478925\t -0.26936432191802473\t 0.030256822211439972\t 0.03391975977931517\n",
            "4  \t [ 4.97122338  9.1910371  13.56023223  0.78551863  7.55454867  0.83061876]\t -0.2472716373501645\t -0.26936432191802473\t 0.029165865295091218\t 0.05053427089167161\n",
            "5  \t [7.41396125 0.81599898 7.51619215 0.62531996 6.49946324 0.6414771 ]\t -0.21006360526621098\t -0.26936432191802473\t 0.02155740085529294\t 0.03093249202193719\n",
            "6  \t [6.96050469 0.82597166 8.47267594 0.67090806 6.21003126 0.80180401]\t -0.23179960431810853\t -0.26936432191802473\t 0.02245575997669222\t 0.029298635578933682\n",
            "7  \t [ 5.51092466  9.20694596 13.49242989  0.71811944  8.46122116  0.88679735]\t -0.2674368855211159\t -0.26936432191802473\t 0.01678864770872905\t 0.029953742584520958\n",
            "8  \t [7.11773314 0.68966234 8.2563093  1.         6.68925028 0.1       ]\t 0.20052849369107592\t -0.26936432191802473\t 0.014870939428748575\t 0.027676861986049267\n",
            "9  \t [ 5.16144071  1.66776987 10.99997493  0.8362808   8.99998242  0.96383453]\t -0.26658308177923745\t -0.26936432191802473\t 0.031051051071167245\t 0.031051052252553734\n",
            "10 \t [7.08915756 1.06777859 7.93800171 0.5        6.75401801 1.        ]\t -0.22386877881500428\t -0.26936432191802473\t 0.034315737966715075\t 0.06737840538162253\n",
            "11 \t [7.05961497 0.90025901 8.02470162 0.5        6.72500532 1.        ]\t -0.2373954424418095\t -0.26936432191802473\t 0.03293884831803158\t 0.0532806154049712\n",
            "12 \t [7.84592807 0.85289295 8.45369171 0.5        6.08637492 1.        ]\t -0.23739533105108035\t -0.26936432191802473\t 0.03372949094676379\t 0.05914718440596608\n",
            "13 \t [7.56520408 0.09873291 7.67664386 0.5        7.26421011 1.        ]\t -0.22472352543069526\t -0.26936432191802473\t 0.034298916017512254\t 0.05421688569306808\n",
            "14 \t [7.22737087 0.95884115 9.27189205 0.5        6.38813713 1.        ]\t -0.24542362253175676\t -0.26936432191802473\t 0.034973508401486726\t 0.055571653542195065\n",
            "15 \t [6.20767436 0.12572131 8.66553876 0.5        6.24802317 1.        ]\t -0.2373955636427037\t -0.26936432191802473\t 0.03664178173782719\t 0.06649273683025274\n",
            "16 \t [6.46152179 0.         7.30638785 0.5        6.43284805 1.        ]\t -0.22386884246099684\t -0.26936432191802473\t 0.03448314273388305\t 0.06087918688860335\n",
            "17 \t [ 5.39913295  8.35167209 13.55722968  0.68186342  8.15602996  0.95684265]\t -0.2645397399510478\t -0.26936432191802473\t 0.04107927314192127\t 0.052220464155521125\n",
            "18 \t [7.31797304 0.         8.81023129 0.5        6.45834506 1.        ]\t -0.23739540506317863\t -0.26936432191802473\t 0.031082778679209704\t 0.05182332790584432\n",
            "19 \t [ 5.72278325  8.90897389 13.33391385  0.5         7.88226612  1.        ]\t -0.2526067398786423\t -0.26936432191802473\t 0.03161053671773639\t 0.05100690323878155\n",
            "20 \t [7.19373948 0.12795435 8.52873461 0.5        7.24718291 1.        ]\t -0.23731971766100637\t -0.26936432191802473\t 0.08428393938166635\t 0.1037821998599204\n",
            "21 \t [ 7.41954815  2.80862624  9.          0.85591029 17.          0.3641919 ]\t -0.0050109344482965005\t -0.26936432191802473\t 0.077325738778953\t 0.077325738778953\n",
            "22 \t [7.17543355 0.68705484 8.20922782 0.52122345 6.7056962  0.94455821]\t -0.2369872553770394\t -0.26936432191802473\t 0.07115137353675247\t 0.09213838922441638\n",
            "23 \t [7.08960177 0.46743246 8.2853476  0.5        6.57745385 1.        ]\t -0.23739543898274204\t -0.26936432191802473\t 0.05167201139070407\t 0.08793782802098672\n",
            "24 \t [ 1.96869013  7.00264368 10.          0.79233192  3.          0.8133863 ]\t -0.24144769550473963\t -0.26936432191802473\t 0.057805169392973976\t 0.057805169392973976\n",
            "25 \t [ 5.33266462  8.93870006 13.60301729  0.74675225  7.99149997  0.89364772]\t -0.2651727060811234\t -0.26936432191802473\t 0.06070686652608873\t 0.10013539251649678\n",
            "26 \t [ 2.6203808   7.21367481 10.25339532  0.79415126  2.74680081  0.68621628]\t -0.22869211258612127\t -0.26936432191802473\t 0.06490084230435311\t 0.07744189120101518\n",
            "27 \t [ 5.81038521  8.73749255 13.48571786  1.          8.11150903  0.1       ]\t 0.20461388779641726\t -0.26936432191802473\t 0.08219946656227903\t 0.09695872434673662\n",
            "28 \t [ 5.2911644   8.99759731 13.88062652  0.5         8.11950134  1.        ]\t -0.2536679837910927\t -0.26936432191802473\t 0.052196639715160115\t 0.09641253506474823\n",
            "29 \t [ 4.70823754  8.99298927 13.09738673  0.5         7.99814245  1.        ]\t -0.2526070153980579\t -0.26936432191802473\t 0.07699306675727637\t 0.09014338341499338\n",
            "30 \t [ 1.933012    7.53632287 10.19215966  0.82618065  2.51933928  0.78278015]\t -0.24619810036720216\t -0.26936432191802473\t 0.0344763596634037\t 0.04654683149760563\n"
          ]
        },
        {
          "output_type": "execute_result",
          "data": {
            "text/plain": [
              "49100.59813085487"
            ]
          },
          "metadata": {},
          "execution_count": 40
        }
      ]
    },
    {
      "cell_type": "code",
      "metadata": {
        "id": "-1d_1LyydIfe",
        "colab": {
          "base_uri": "https://localhost:8080/"
        },
        "outputId": "bf03611b-7238-4601-8ce9-d9d96e54d639"
      },
      "source": [
        "end_approx = time.time()\n",
        "end_approx\n",
        "\n",
        "time_approx = end_approx - start_approx\n",
        "time_approx\n",
        "\n",
        "start_exact = time.time()\n",
        "start_exact"
      ],
      "execution_count": null,
      "outputs": [
        {
          "output_type": "execute_result",
          "data": {
            "text/plain": [
              "1663871694.3791707"
            ]
          },
          "metadata": {},
          "execution_count": 41
        }
      ]
    },
    {
      "cell_type": "code",
      "metadata": {
        "id": "ZAyOw7XYVwAf",
        "colab": {
          "base_uri": "https://localhost:8080/"
        },
        "outputId": "7d761284-2df3-4e34-dabc-25973173e597"
      },
      "source": [
        "### Bayesian optimization runs (x20): 'exact' Acquisition Function run number = 1 \n",
        "\n",
        "np.random.seed(run_num_1)\n",
        "surrogate_exact_1 = dtStudentProcess(cov_func, optimize=opt, nu = df)\n",
        "\n",
        "X_train1, X_test1, y_train1, y_test1 = train_test_split(X, y, test_size=test_perc, random_state=run_num_1)\n",
        "\n",
        "def f_syn_polarity1(alpha, gamma, max_depth, subsample, min_child_weight, colsample):\n",
        "    reg = XGBRegressor(reg_alpha=alpha, gamma=gamma, max_depth=int(max_depth), subsample=subsample, min_child_weight=min_child_weight,\n",
        "          colsample_bytree=colsample, n_estimators = n_est, random_state=run_num_1, objective = 'reg:squarederror')\n",
        "    score = np.array(cross_val_score(reg, X=X_train1, y=y_train1).mean())\n",
        "    return operator * score\n",
        "\n",
        "exact_1 = dGPGO(surrogate_exact_1, Acquisition_grad(util), f_syn_polarity1, param, n_jobs = -1) # Define BayesOpt\n",
        "exact_1.run(max_iter = max_iter, init_evals = n_init) # run\n",
        "\n",
        "### Return optimal parameters' set:\n",
        "params_exact_1 = exact_1.getResult()[0]\n",
        "params_exact_1['max_depth'] = int(params_exact_1['max_depth'])\n",
        "params_exact_1['min_child_weight'] = int(params_exact_1['min_child_weight'])\n",
        "\n",
        "### Re-train with optimal parameters, run predictons:\n",
        "dX_exact_train1 = xgb.DMatrix(X_train1, y_train1)\n",
        "dX_exact_test1 = xgb.DMatrix(X_test1, y_test1)\n",
        "model_exact_1 = xgb.train(params_exact_1, dX_exact_train1)\n",
        "pred_exact_1 = model_exact_1.predict(dX_exact_test1)\n",
        "\n",
        "rmse_exact_1 = np.sqrt(mean_squared_error(pred_exact_1, y_test1))\n",
        "rmse_exact_1"
      ],
      "execution_count": null,
      "outputs": [
        {
          "output_type": "stream",
          "name": "stdout",
          "text": [
            "Evaluation \t Proposed point \t  Current eval. \t  Best eval. \t         Max. ExactAcqFunc \t Max. ApproxAcqFunc \n",
            "init\t [ 4.17022005  7.20324493 14.          0.65116629 16.          0.31248008]\t 0.054121170578294596\t -0.26681477983740615\t    \t    \n",
            "init\t [ 3.96580727  3.87910741 11.          0.96776954  6.          0.71669755]\t -0.22165378680670292\t -0.26681477983740615\t    \t    \n",
            "init\t [ 2.0445225   8.78117436  7.          0.95698101 10.          0.48762871]\t -0.06302724434135558\t -0.26681477983740615\t    \t    \n",
            "init\t [ 9.39127789  7.78389236 14.          0.98413079  2.          0.87851823]\t -0.26681477983740615\t -0.26681477983740615\t    \t    \n",
            "init\t [8.29146907 8.29603359 8.         0.58491521 9.         0.18851215]\t 0.19961365170867312\t -0.26681477983740615\t    \t    \n",
            "1  \t [ 9.08595503  2.93614148 12.          0.55974523  6.          0.1752607 ]\t 0.20648769377989837\t -0.26681477983740615\t 0.026844809940982723\t 0.026844809940982723\n",
            "2  \t [8.44734445 9.05392319 8.         0.71498395 8.         0.81874323]\t -0.2364419304773092\t -0.26681477983740615\t 0.028197680422206158\t 0.028197680422206158\n",
            "3  \t [ 3.61274713  8.16007507 11.          0.84840025 19.          0.76215891]\t -0.2581836712240067\t -0.26681477983740615\t 0.03081546290819742\t 0.03081546290819742\n",
            "4  \t [1.9446581  8.47939392 7.         0.77013047 8.         0.8712317 ]\t -0.22257212965762524\t -0.26681477983740615\t 0.03392298499597968\t 0.03392298499597968\n",
            "5  \t [ 0.96774022  1.46324776 12.          0.76243609  5.          0.33599658]\t 0.055691890162900215\t -0.26681477983740615\t 0.03468757549807932\t 0.03468757549807932\n",
            "6  \t [ 7.36056458  2.99905847 13.          0.67109763 18.          0.52655625]\t -0.15547867118474706\t -0.26681477983740615\t 0.031290987685676695\t 0.031290987685676695\n",
            "7  \t [ 2.05722318  9.92568059 11.          0.85938245  2.          0.31039182]\t 0.05599281146368966\t -0.26681477983740615\t 0.030157422054090798\t 0.030157422054090798\n",
            "8  \t [ 4.89047813  0.23370061 11.          0.76838416 19.          0.70607293]\t -0.22221209109414977\t -0.26681477983740615\t 0.027670867430382655\t 0.027670867430382655\n",
            "9  \t [ 6.20774135  9.49844808 12.          0.96757656  6.          0.4103327 ]\t -0.08136698674653767\t -0.26681477983740615\t 0.028686071170319818\t 0.028686071170319818\n",
            "10 \t [9.47161836 5.35231143 6.         0.51632193 6.         0.43288953]\t -0.04697662578411108\t -0.26681477983740615\t 0.026871606602415422\t 0.026871606602415422\n",
            "11 \t [8.75388738 6.08565437 5.         0.80717485 5.         0.96587039]\t -0.16754953194399003\t -0.26681477983740615\t 0.025030603870900874\t 0.025030603870900874\n",
            "12 \t [6.76356635 2.31703141 5.         0.84148498 5.         0.43949556]\t -0.025545424018074823\t -0.26681477983740615\t 0.0248486332548101\t 0.0248486332548101\n",
            "13 \t [4.13690736 2.14715696 6.         0.52611104 1.         0.96671642]\t -0.1995451023345413\t -0.26681477983740615\t 0.02325438849433677\t 0.02325438849433677\n",
            "14 \t [ 0.99440257  2.23238431 10.          0.58984965 12.          0.68792603]\t -0.21383886154698314\t -0.26681477983740615\t 0.02377606858012485\t 0.02377606858012485\n",
            "\u001b[1m\u001b[92m15\u001b[0m\t \u001b[1m\u001b[92m[ 4.90089496  7.90026151 11.          0.83120459 19.          0.97189183]\u001b[0m\t \u001b[1m\u001b[92m-0.267699188953967\u001b[0m\t \u001b[1m\u001b[92m-0.267699188953967\u001b[0m\t \u001b[1m\u001b[92m0.0245313896765686\u001b[0m\t \u001b[1m\u001b[92m0.03682149143033913\u001b[0m\n",
            "16 \t [ 4.92332296  9.63181099 11.05545192  0.69854027 18.44521018  0.56243243]\t -0.1548844920561219\t -0.267699188953967\t 0.02971762717973488\t 0.05159160728986201\n",
            "17 \t [9.2625514  8.90997537 8.37576291 1.         8.37576291 0.81201166]\t -0.2324227642287225\t -0.267699188953967\t 0.0292512048442703\t 0.035911561972076844\n",
            "18 \t [ 2.38650203  5.58286578 12.          0.57066412  6.          0.27637031]\t 0.058950277199905844\t -0.267699188953967\t 0.025395209386944204\t 0.03898599323703474\n",
            "19 \t [ 6.63766827  3.77956021 14.          0.93033956 18.          0.34261032]\t 0.04825250294336243\t -0.267699188953967\t 0.025327524983809063\t 0.05941228127512366\n",
            "20 \t [ 6.7255681   4.6048359  12.          0.75051248 19.          0.12112762]\t 0.1999862449711433\t -0.267699188953967\t 0.025257246294291012\t 0.02525724700933261\n",
            "21 \t [ 9.55757511  8.74630335 14.00028736  0.97591414  1.00028736  0.6721897 ]\t -0.2114822096823715\t -0.267699188953967\t 0.057651785715319114\t 0.08614990900260956\n",
            "22 \t [ 3.42988222  3.60806268 11.          0.65919672 19.          0.15600267]\t 0.20098501308588856\t -0.267699188953967\t 0.07050436683013718\t 0.07050436683013718\n",
            "23 \t [ 8.16209219  7.52891617 14.          0.68101158  2.          0.5081048 ]\t -0.13445496090089373\t -0.267699188953967\t 0.06525913329987029\t 0.06525913329987029\n",
            "24 \t [ 4.72554036  1.03466692  9.          0.53483618 18.          0.77209692]\t -0.23622050126726019\t -0.267699188953967\t 0.057473816538100145\t 0.06404913935225587\n",
            "25 \t [ 6.88619023  8.36541492 14.11853233  0.90532438  2.32939043  0.49469884]\t -0.06724159536607473\t -0.267699188953967\t 0.04990715744912403\t 0.07897256651363138\n",
            "\u001b[1m\u001b[92m26\u001b[0m\t \u001b[1m\u001b[92m[ 7.19657131  8.86746012 11.          0.87977872  6.          0.9517893 ]\u001b[0m\t \u001b[1m\u001b[92m-0.26841324748028195\u001b[0m\t \u001b[1m\u001b[92m-0.26841324748028195\u001b[0m\t \u001b[1m\u001b[92m0.07353440982880917\u001b[0m\t \u001b[1m\u001b[92m0.074724217842904\u001b[0m\n",
            "27 \t [4.40452191 1.70137693 6.09749193 0.77706854 1.09749193 0.75646005]\t -0.1958917459698836\t -0.26841324748028195\t 0.052747917764701925\t 0.0605267551176144\n",
            "28 \t [ 6.31849118  7.42377324 11.20214676  0.71994689 18.20214676  0.76151142]\t -0.25236282070429705\t -0.26841324748028195\t 0.05692894282186393\t 0.0938005713670108\n",
            "29 \t [ 4.28695841  8.5907003  11.78048106  1.         18.78048106  1.        ]\t -0.26730715998604754\t -0.26841324748028195\t 0.08386228935191761\t 0.10054232362889483\n",
            "30 \t [9.02358327 6.62858648 5.67203287 0.76483813 4.67203287 0.63254837]\t -0.13940223733384413\t -0.26841324748028195\t 0.042827685291713685\t 0.04466826764395759\n"
          ]
        },
        {
          "output_type": "execute_result",
          "data": {
            "text/plain": [
              "47466.369550544194"
            ]
          },
          "metadata": {},
          "execution_count": 42
        }
      ]
    },
    {
      "cell_type": "code",
      "metadata": {
        "id": "hrDQbChpZ48F",
        "colab": {
          "base_uri": "https://localhost:8080/"
        },
        "outputId": "c64091d4-8a0c-407b-a462-b0c550e5d59b"
      },
      "source": [
        "### Bayesian optimization runs (x20): 'exact' Acquisition Function run number = 2 \n",
        "\n",
        "np.random.seed(run_num_2)\n",
        "surrogate_exact_2 = dtStudentProcess(cov_func, optimize=opt, nu = df)\n",
        "\n",
        "X_train2, X_test2, y_train2, y_test2 = train_test_split(X, y, test_size=test_perc, random_state=run_num_2)\n",
        "\n",
        "def f_syn_polarity2(alpha, gamma, max_depth, subsample, min_child_weight, colsample):\n",
        "    reg = XGBRegressor(reg_alpha=alpha, gamma=gamma, max_depth=int(max_depth), subsample=subsample, min_child_weight=min_child_weight,\n",
        "          colsample_bytree=colsample, n_estimators = n_est, random_state=run_num_2, objective = 'reg:squarederror')\n",
        "    score = np.array(cross_val_score(reg, X=X_train2, y=y_train2).mean())\n",
        "    return operator * score\n",
        "\n",
        "exact_2 = dGPGO(surrogate_exact_2, Acquisition_grad(util), f_syn_polarity2, param, n_jobs = -1) # Define BayesOpt\n",
        "exact_2.run(max_iter = max_iter, init_evals = n_init) # run\n",
        "\n",
        "### Return optimal parameters' set:\n",
        "params_exact_2 = exact_2.getResult()[0]\n",
        "params_exact_2['max_depth'] = int(params_exact_2['max_depth'])\n",
        "params_exact_2['min_child_weight'] = int(params_exact_2['min_child_weight'])\n",
        "\n",
        "### Re-train with optimal parameters, run predictons:\n",
        "dX_exact_train2 = xgb.DMatrix(X_train2, y_train2)\n",
        "dX_exact_test2 = xgb.DMatrix(X_test2, y_test2)\n",
        "model_exact_2 = xgb.train(params_exact_2, dX_exact_train2)\n",
        "pred_exact_2 = model_exact_2.predict(dX_exact_test2)\n",
        "\n",
        "rmse_exact_2 = np.sqrt(mean_squared_error(pred_exact_2, y_test2))\n",
        "rmse_exact_2"
      ],
      "execution_count": null,
      "outputs": [
        {
          "output_type": "stream",
          "name": "stdout",
          "text": [
            "Evaluation \t Proposed point \t  Current eval. \t  Best eval. \t         Max. ExactAcqFunc \t Max. ApproxAcqFunc \n",
            "init\t [ 4.35994902  0.25926232 11.          0.97386531 12.          0.47833102]\t -0.12841435421394\t -0.23126820418533683\t    \t    \n",
            "init\t [ 3.30334821  2.04648634 10.          0.55997527  6.          0.71472339]\t -0.23126820418533683\t -0.23126820418533683\t    \t    \n",
            "init\t [ 4.9856117   5.86796978  8.          0.89266757 11.          0.59158659]\t -0.18779297960324595\t -0.23126820418533683\t    \t    \n",
            "init\t [ 4.07307832  1.76984624 13.          0.75262305  7.          0.35908193]\t -0.08370045954557759\t -0.23126820418533683\t    \t    \n",
            "init\t [ 1.16193318  1.81727038  9.          0.79837265 19.          0.29965165]\t -0.08458970441400507\t -0.23126820418533683\t    \t    \n",
            "1  \t [ 3.15621261  0.68167543 10.41783393  1.          7.41783393  0.56181521]\t -0.21971317324317416\t -0.23126820418533683\t 0.025178014160578636\t 0.035201928416859284\n",
            "2  \t [ 2.13701457  2.1760107  11.15701569  1.          6.15701569  0.61414116]\t -0.22118048492236236\t -0.23126820418533683\t 0.03195954778908126\t 0.058170531296507365\n",
            "3  \t [ 4.63218302  5.07557752  7.2697371   1.         11.2697371   0.83676621]\t -0.22998265959295186\t -0.23126820418533683\t 0.0311014852931591\t 0.07459893502153868\n",
            "\u001b[1m\u001b[92m4\u001b[0m\t \u001b[1m\u001b[92m[ 2.40860186  2.23842323 11.28324717  0.74002754  5.28324717  0.75707297]\u001b[0m\t \u001b[1m\u001b[92m-0.25833608333267655\u001b[0m\t \u001b[1m\u001b[92m-0.25833608333267655\u001b[0m\t \u001b[1m\u001b[92m0.03664746574842645\u001b[0m\t \u001b[1m\u001b[92m0.0744529351686409\u001b[0m\n",
            "5  \t [ 4.66636948  6.30601394  8.          0.73012749 10.          0.90850957]\t -0.23868062314384692\t -0.25833608333267655\t 0.022864361826709593\t 0.057021325164867985\n",
            "6  \t [ 5.97346956  4.30882577  7.65585649  0.7894782  10.68235279  0.48379863]\t -0.1099302870036714\t -0.25833608333267655\t 0.026229204158193936\t 0.0465698972555133\n",
            "7  \t [ 4.2793303   2.09636814 10.35845601  0.8887296   5.35845601  0.82457552]\t -0.25487013008880044\t -0.25833608333267655\t 0.02638378757958417\t 0.055890675694358995\n",
            "8  \t [ 3.94424025  3.76069373  7.91543923  0.7703374  12.91543923  0.77928705]\t -0.22196040321239421\t -0.25833608333267655\t 0.02143476659167914\t 0.06781116898159688\n",
            "9  \t [ 5.35241204  6.22977198  7.          0.53994446 12.          0.33823284]\t -0.06665936067106978\t -0.25833608333267655\t 0.024814985985870064\t 0.06928283651509046\n",
            "10 \t [ 2.6479407   2.94337669 12.          0.9679577   6.          0.37332804]\t -0.0861221628630187\t -0.25833608333267655\t 0.02989417083205368\t 0.06736866432027107\n",
            "11 \t [ 5.41121567  4.57624404  8.          0.57260601 15.          0.47128442]\t -0.11379068941502384\t -0.25833608333267655\t 0.01884543841081837\t 0.04036973691436639\n",
            "12 \t [ 5.34631779  6.31986542  8.          0.97143015 10.          0.44246045]\t -0.12118291150232426\t -0.25833608333267655\t 0.024644426510792888\t 0.06505152678108238\n",
            "13 \t [ 4.23965967  3.21421587  9.          0.52844122 15.          0.66499833]\t -0.228643332300582\t -0.25833608333267655\t 0.01855414527616827\t 0.0639181175652886\n",
            "14 \t [ 3.7060069   1.0623557  13.          0.79656638  5.          0.87119551]\t -0.2563772097396543\t -0.25833608333267655\t 0.01939994490359551\t 0.0652017663238114\n",
            "15 \t [ 3.2543894   5.40064157  7.58345924  0.7371474  12.58345924  0.63845277]\t -0.2091604896622993\t -0.25833608333267655\t 0.025645812326883503\t 0.07119604213144148\n",
            "\u001b[1m\u001b[92m16\u001b[0m\t \u001b[1m\u001b[92m[ 0.93364417  2.92726456 11.          0.91183142  7.          0.93956452]\u001b[0m\t \u001b[1m\u001b[92m-0.26004343085420073\u001b[0m\t \u001b[1m\u001b[92m-0.26004343085420073\u001b[0m\t \u001b[1m\u001b[92m0.020953328440684694\u001b[0m\t \u001b[1m\u001b[92m0.0711222448182286\u001b[0m\n",
            "17 \t [ 0.2656898   2.73982921 11.06625522  0.89879499  8.06625522  0.62926289]\t -0.24268934027636582\t -0.26004343085420073\t 0.029636065973585007\t 0.06854628088689105\n",
            "18 \t [4.48653259 2.96062767 9.50119979 0.72072997 5.81820429 1.        ]\t -0.25518254118911005\t -0.26004343085420073\t 0.029364588517502864\t 0.05001457596997779\n",
            "19 \t [ 5.89847324  2.99472659  9.96574027  0.62013824 14.1195727   0.31501243]\t -0.07915499298856184\t -0.26004343085420073\t 0.026699826598211525\t 0.044109821909404205\n",
            "20 \t [ 2.26812476  6.7571478  13.          0.87941648  6.          0.30778351]\t -0.08432655915947782\t -0.26004343085420073\t 0.07056914804781231\t 0.07056914804781231\n",
            "21 \t [ 3.52719704  6.65775222  8.28204017  0.91282956 12.43661919  0.2948149 ]\t -0.08260607762954002\t -0.26004343085420073\t 0.06109157202748098\t 0.08849056436025156\n",
            "22 \t [ 2.04764833  2.17877785  9.          0.67524765 18.          0.16164331]\t 0.09543921102905042\t -0.26004343085420073\t 0.050511392524603224\t 0.050511392524603224\n",
            "23 \t [ 5.67189788  5.4814473   7.12850188  0.57167175 11.14219122  0.84070416]\t -0.22012419909499342\t -0.26004343085420073\t 0.06632410011247143\t 0.07824642363329383\n",
            "24 \t [ 0.96296148  3.42832275 11.30597611  0.71783949  6.30597611  0.59822881]\t -0.1953872790700837\t -0.26004343085420073\t 0.09450715127678772\t 0.1169508588968331\n",
            "25 \t [6.3087854  1.96141655 9.         0.64303324 6.         0.8677603 ]\t -0.24351599003878643\t -0.26004343085420073\t 0.0626654141129347\t 0.0626654141129347\n",
            "26 \t [5.48074589 2.12337278 9.5585864  1.         6.16884489 0.79339715]\t -0.25396619385080743\t -0.26004343085420073\t 0.04027851142270644\t 0.06274309821445088\n",
            "27 \t [ 8.92720117  4.31465286 13.          0.70553933  1.          0.75946259]\t -0.24433183975086364\t -0.26004343085420073\t 0.06489587720676337\t 0.06489587720676337\n",
            "28 \t [ 6.43394806  4.04962478  9.          0.58197037 13.          0.86980439]\t -0.2429284775947859\t -0.26004343085420073\t 0.07264889689074584\t 0.07264889689074584\n",
            "29 \t [ 6.37775331  3.53976    10.          0.82973771 13.          0.46704176]\t -0.12625490531467848\t -0.26004343085420073\t 0.06332608375195801\t 0.08455010417214906\n",
            "30 \t [ 0.2175563   1.98892667 12.          0.51507007  8.          0.18870129]\t 0.09863851187755382\t -0.26004343085420073\t 0.05415318318438294\t 0.05415318318438294\n"
          ]
        },
        {
          "output_type": "execute_result",
          "data": {
            "text/plain": [
              "49354.618620159665"
            ]
          },
          "metadata": {},
          "execution_count": 43
        }
      ]
    },
    {
      "cell_type": "code",
      "metadata": {
        "id": "HpUPyXRfZ95Y",
        "colab": {
          "base_uri": "https://localhost:8080/"
        },
        "outputId": "0d019af9-361c-4ed6-ea46-b26746b216c1"
      },
      "source": [
        "### Bayesian optimization runs (x20): 'exact' Acquisition Function run number = 3 \n",
        "\n",
        "np.random.seed(run_num_3)\n",
        "surrogate_exact_3 = dtStudentProcess(cov_func, optimize=opt, nu = df)\n",
        "\n",
        "X_train3, X_test3, y_train3, y_test3 = train_test_split(X, y, test_size=test_perc, random_state=run_num_3)\n",
        "\n",
        "def f_syn_polarity3(alpha, gamma, max_depth, subsample, min_child_weight, colsample):\n",
        "    reg = XGBRegressor(reg_alpha=alpha, gamma=gamma, max_depth=int(max_depth), subsample=subsample, min_child_weight=min_child_weight,\n",
        "          colsample_bytree=colsample, n_estimators = n_est, random_state=run_num_3, objective = 'reg:squarederror')\n",
        "    score = np.array(cross_val_score(reg, X=X_train3, y=y_train3).mean())\n",
        "    return operator * score\n",
        "\n",
        "exact_3 = dGPGO(surrogate_exact_3, Acquisition_grad(util), f_syn_polarity3, param, n_jobs = -1) # Define BayesOpt\n",
        "exact_3.run(max_iter = max_iter, init_evals = n_init) # run\n",
        "\n",
        "### Return optimal parameters' set:\n",
        "params_exact_3 = exact_3.getResult()[0]\n",
        "params_exact_3['max_depth'] = int(params_exact_3['max_depth'])\n",
        "params_exact_3['min_child_weight'] = int(params_exact_3['min_child_weight'])\n",
        "\n",
        "### Re-train with optimal parameters, run predictons:\n",
        "dX_exact_train3 = xgb.DMatrix(X_train3, y_train3)\n",
        "dX_exact_test3 = xgb.DMatrix(X_test3, y_test3)\n",
        "model_exact_3 = xgb.train(params_exact_3, dX_exact_train3)\n",
        "pred_exact_3 = model_exact_3.predict(dX_exact_test3)\n",
        "\n",
        "rmse_exact_3 = np.sqrt(mean_squared_error(pred_exact_3, y_test3))\n",
        "rmse_exact_3"
      ],
      "execution_count": null,
      "outputs": [
        {
          "output_type": "stream",
          "name": "stdout",
          "text": [
            "Evaluation \t Proposed point \t  Current eval. \t  Best eval. \t         Max. ExactAcqFunc \t Max. ApproxAcqFunc \n",
            "init\t [ 5.50797903  7.08147823 13.          0.56066429 11.          0.11687321]\t 0.20419878473048766\t -0.14123526450961563\t    \t    \n",
            "init\t [ 0.40630737  2.47888297 11.          0.72040492 13.          0.23083313]\t 0.20337567565936182\t -0.14123526450961563\t    \t    \n",
            "init\t [ 4.53172301  2.15577008 11.          0.74631796  2.          0.60296868]\t -0.14123526450961563\t -0.14123526450961563\t    \t    \n",
            "init\t [ 2.59252447  4.15101197 13.          0.79330998  8.          0.24118096]\t 0.20612536738030748\t -0.14123526450961563\t    \t    \n",
            "init\t [ 5.44649018  7.80314765 10.          0.62879264 18.          0.44917413]\t -0.049629861638836356\t -0.14123526450961563\t    \t    \n",
            "1  \t [1.98976026 1.51860997 9.         0.84632531 3.         0.20459493]\t 0.20272700743035754\t -0.14123526450961563\t 0.04414615438317159\t 0.052893002112103266\n",
            "\u001b[1m\u001b[92m2\u001b[0m\t \u001b[1m\u001b[92m[ 5.72860711  1.96462961 11.          0.9255565   1.          0.65739455]\u001b[0m\t \u001b[1m\u001b[92m-0.1921484402175689\u001b[0m\t \u001b[1m\u001b[92m-0.1921484402175689\u001b[0m\t \u001b[1m\u001b[92m0.046607039670729496\u001b[0m\t \u001b[1m\u001b[92m0.046607039670729496\u001b[0m\n",
            "\u001b[1m\u001b[92m3\u001b[0m\t \u001b[1m\u001b[92m[ 6.63097187  0.93398    11.13785269  0.85557164  1.13785269  0.72546294]\u001b[0m\t \u001b[1m\u001b[92m-0.19414854042242083\u001b[0m\t \u001b[1m\u001b[92m-0.19414854042242083\u001b[0m\t \u001b[1m\u001b[92m0.04290105906321146\u001b[0m\t \u001b[1m\u001b[92m0.050252870694780793\u001b[0m\n",
            "\u001b[1m\u001b[92m4\u001b[0m\t \u001b[1m\u001b[92m[ 7.91658642  2.25303435 11.          0.98937016  3.          0.78501192]\u001b[0m\t \u001b[1m\u001b[92m-0.21638611219544987\u001b[0m\t \u001b[1m\u001b[92m-0.21638611219544987\u001b[0m\t \u001b[1m\u001b[92m0.03403200772650217\u001b[0m\t \u001b[1m\u001b[92m0.058135013414184984\u001b[0m\n",
            "5  \t [ 5.85374092  3.39699018 12.          0.90723793  1.          0.38503528]\t -0.03697237753552518\t -0.21638611219544987\t 0.03518228891645158\t 0.05990436858353613\n",
            "6  \t [ 6.4278086   0.51800891 13.          0.93155335  2.          0.28738578]\t 0.09066640115826137\t -0.21638611219544987\t 0.030417580716829228\t 0.055905807706400835\n",
            "7  \t [ 3.6624839   7.76350689  9.29096645  0.98847812 18.12404575  0.25325713]\t 0.06864295551133312\t -0.21638611219544987\t 0.026871710577850736\t 0.05383216706787377\n",
            "8  \t [ 8.05706937  3.68839958 12.          0.98864801  1.          0.79204101]\t -0.2094763290475564\t -0.21638611219544987\t 0.02555317480754448\t 0.05147335911733701\n",
            "9  \t [ 7.39632045  6.1297858  13.          0.74963299  2.          0.50808001]\t -0.13622422388052755\t -0.21638611219544987\t 0.026352685770269967\t 0.05613611878069169\n",
            "10 \t [ 8.42474909  6.86461219 12.08369403  0.80499835  1.08369403  0.25406574]\t 0.08716287694830185\t -0.21638611219544987\t 0.028104889508296992\t 0.04036219224903624\n",
            "11 \t [ 7.30514997  4.86749854 13.          0.72470118  4.          0.29033589]\t 0.08751132923882676\t -0.21638611219544987\t 0.025739564820300372\t 0.054103444377788495\n",
            "12 \t [ 2.38755111  1.26481367 13.          0.72525817  3.          0.77034732]\t -0.20680900829609908\t -0.21638611219544987\t 0.02355494063538742\t 0.052757029492770106\n",
            "13 \t [ 8.80484295  2.89682477 11.08682996  0.77860643  2.24449411  0.60205643]\t -0.1444874152562568\t -0.21638611219544987\t 0.04029203680760828\t 0.054394609735064485\n",
            "14 \t [ 2.21822882  1.53693794 14.          0.52729474  4.          0.15443687]\t 0.20767719583044295\t -0.21638611219544987\t 0.029833657376816803\t 0.03544416557381364\n",
            "15 \t [ 8.58495733  5.09928748 13.          0.89538108  1.          0.67774369]\t -0.18396194348413675\t -0.21638611219544987\t 0.03200622371992803\t 0.05714303024459318\n",
            "16 \t [ 6.43837122  4.78598045 12.          0.59257034 19.          0.54360868]\t -0.15239663442878287\t -0.21638611219544987\t 0.02583509154599273\t 0.049823158811253\n",
            "\u001b[1m\u001b[92m17\u001b[0m\t \u001b[1m\u001b[92m[ 5.3609611   1.33155397 10.46592069  1.          3.46592069  0.75912867]\u001b[0m\t \u001b[1m\u001b[92m-0.242338294540962\u001b[0m\t \u001b[1m\u001b[92m-0.242338294540962\u001b[0m\t \u001b[1m\u001b[92m0.028698013539221454\u001b[0m\t \u001b[1m\u001b[92m0.055255907175526316\u001b[0m\n",
            "18 \t [ 6.87101505  4.56707308 12.19133701  0.64849771  2.25083249  0.68264725]\t -0.19080056264658776\t -0.242338294540962\t 0.02764515964668746\t 0.041641672418122035\n",
            "19 \t [ 8.14829019  2.01930442 13.          0.50520787  3.          0.53744572]\t -0.13069436076479896\t -0.242338294540962\t 0.025781824134514627\t 0.03292099597607358\n",
            "20 \t [ 6.72084181  5.33449647 11.          0.77115008 19.          0.82441778]\t -0.2209820063500417\t -0.242338294540962\t 0.05423314105216828\t 0.05690633201783524\n",
            "21 \t [5.5082658  3.32726098 8.         0.53686262 5.         0.80157701]\t -0.19749179784396195\t -0.242338294540962\t 0.05090982201217529\t 0.05090982201217529\n",
            "22 \t [ 2.77110475  0.35980325 10.          0.77088835  9.          0.78161047]\t -0.2177681712079563\t -0.242338294540962\t 0.04368424038379379\t 0.04368424038379379\n",
            "23 \t [ 9.71610686  2.88363039 10.          0.71373353  2.          0.42833271]\t -0.04190400705687338\t -0.242338294540962\t 0.0775228144125675\t 0.0775228144125675\n",
            "\u001b[1m\u001b[92m24\u001b[0m\t \u001b[1m\u001b[92m[5.70825306 2.80940339 9.96536687 0.69325402 3.96619581 1.        ]\u001b[0m\t \u001b[1m\u001b[92m-0.25151588403090885\u001b[0m\t \u001b[1m\u001b[92m-0.25151588403090885\u001b[0m\t \u001b[1m\u001b[92m0.06869057464893442\u001b[0m\t \u001b[1m\u001b[92m0.0823635364744797\u001b[0m\n",
            "25 \t [ 8.15243629  1.14357745 14.          0.56303738  3.          0.70192688]\t -0.18505991910369377\t -0.25151588403090885\t 0.06317963742871831\t 0.06317963742871831\n",
            "26 \t [ 8.28406104  1.35057505 12.          0.96798672  5.          0.39866609]\t -0.04848211292759641\t -0.25151588403090885\t 0.05531226623044206\t 0.05531226623044206\n",
            "27 \t [ 8.25032336  0.79403839 14.03088104  0.73870105  3.03088104  0.6172831 ]\t -0.141404786193675\t -0.25151588403090885\t 0.05414331091609658\t 0.05708552379712312\n",
            "28 \t [ 8.38758492  3.77510949 13.          0.50537467  1.          0.77790676]\t -0.19210748057685798\t -0.25151588403090885\t 0.055891537396108776\t 0.05589153780867066\n",
            "29 \t [ 7.97621668  1.65109766 11.68233912  0.7921289   3.68233912  0.72800865]\t -0.19505887672887154\t -0.25151588403090885\t 0.031545398732295137\t 0.0537342158969682\n",
            "30 \t [ 1.52359361  2.43129748 12.05178525  0.81289816  3.05178525  0.75146511]\t -0.21687251301594954\t -0.25151588403090885\t 0.05820895724843852\t 0.06790489811883932\n"
          ]
        },
        {
          "output_type": "execute_result",
          "data": {
            "text/plain": [
              "48914.006664813714"
            ]
          },
          "metadata": {},
          "execution_count": 44
        }
      ]
    },
    {
      "cell_type": "code",
      "source": [
        "### Bayesian optimization runs (x20): 'exact' Acquisition Function run number = 4 \n",
        "\n",
        "np.random.seed(run_num_4)\n",
        "surrogate_exact_4 = dtStudentProcess(cov_func, optimize=opt, nu = df)\n",
        "\n",
        "X_train4, X_test4, y_train4, y_test4 = train_test_split(X, y, test_size=test_perc, random_state=run_num_4)\n",
        "\n",
        "def f_syn_polarity4(alpha, gamma, max_depth, subsample, min_child_weight, colsample):\n",
        "    reg = XGBRegressor(reg_alpha=alpha, gamma=gamma, max_depth=int(max_depth), subsample=subsample, min_child_weight=min_child_weight,\n",
        "          colsample_bytree=colsample, n_estimators = n_est, random_state=run_num_4, objective = 'reg:squarederror')\n",
        "    score = np.array(cross_val_score(reg, X=X_train4, y=y_train4).mean())\n",
        "    return operator * score\n",
        "\n",
        "exact_4 = dGPGO(surrogate_exact_4, Acquisition_grad(util), f_syn_polarity4, param, n_jobs = -1) # Define BayesOpt\n",
        "exact_4.run(max_iter = max_iter, init_evals = n_init) # run\n",
        "\n",
        "### Return optimal parameters' set:\n",
        "params_exact_4 = exact_4.getResult()[0]\n",
        "params_exact_4['max_depth'] = int(params_exact_4['max_depth'])\n",
        "params_exact_4['min_child_weight'] = int(params_exact_4['min_child_weight'])\n",
        "\n",
        "### Re-train with optimal parameters, run predictons:\n",
        "dX_exact_train4 = xgb.DMatrix(X_train4, y_train4)\n",
        "dX_exact_test4 = xgb.DMatrix(X_test4, y_test4)\n",
        "model_exact_4 = xgb.train(params_exact_4, dX_exact_train4)\n",
        "pred_exact_4 = model_exact_4.predict(dX_exact_test4)\n",
        "\n",
        "rmse_exact_4 = np.sqrt(mean_squared_error(pred_exact_4, y_test4))\n",
        "rmse_exact_4"
      ],
      "metadata": {
        "colab": {
          "base_uri": "https://localhost:8080/"
        },
        "id": "bdDTsSEtNuf-",
        "outputId": "2ff494fd-7e8b-48b3-e8d5-83ad9a5e5c53"
      },
      "execution_count": null,
      "outputs": [
        {
          "output_type": "stream",
          "name": "stdout",
          "text": [
            "Evaluation \t Proposed point \t  Current eval. \t  Best eval. \t         Max. ExactAcqFunc \t Max. ApproxAcqFunc \n",
            "init\t [9.67029839 5.47232249 6.         0.92781047 9.         0.72795594]\t -0.15402376245304267\t -0.2695272079483354\t    \t    \n",
            "init\t [ 2.16089496  9.76274455 12.          0.62649118  9.          0.66966679]\t -0.2046608443261646\t -0.2695272079483354\t    \t    \n",
            "init\t [ 0.05159149  5.72356491  9.          0.99170034 10.          0.10808749]\t 0.16593650831860893\t -0.2695272079483354\t    \t    \n",
            "init\t [ 3.86571283  0.44160058 10.          0.90553105 18.          0.95407958]\t -0.2695272079483354\t -0.2695272079483354\t    \t    \n",
            "init\t [ 7.86305986  8.66289299  6.          0.53285477 14.          0.25117497]\t -0.019282794675503846\t -0.2695272079483354\t    \t    \n",
            "1  \t [ 1.7897391   3.75575769 12.          0.73387518 17.          0.32831168]\t -0.04129599513432099\t -0.2695272079483354\t 0.02636257848759347\t 0.02636257848759347\n",
            "2  \t [ 3.19425195  7.29992989 14.          0.55667845 10.          0.61464222]\t -0.19701256852017113\t -0.2695272079483354\t 0.021745123055043912\t 0.021745123306100407\n",
            "3  \t [8.72111763 4.93760825 6.58354522 0.66352324 9.89155962 0.7672793 ]\t -0.20256793852649224\t -0.2695272079483354\t 0.024004095812993013\t 0.026102216131116678\n",
            "4  \t [ 3.326496    8.24822785 12.79320303  0.71961117  9.22509344  0.86174264]\t -0.26509670429328813\t -0.2695272079483354\t 0.02943648745195226\t 0.03188679967409013\n",
            "5  \t [8.88174767 5.00774884 5.12682577 0.65946843 9.12682577 0.97389847]\t -0.1773375907396129\t -0.2695272079483354\t 0.029544539346595067\t 0.04713394277959319\n",
            "6  \t [10.          5.94710328  7.67865287  1.          9.67865287  1.        ]\t -0.23408757003793973\t -0.2695272079483354\t 0.02481542091330884\t 0.044949136027908794\n",
            "\u001b[1m\u001b[92m7\u001b[0m\t \u001b[1m\u001b[92m[ 4.71248925  9.100984   12.21145215  0.79371451  7.21145215  1.        ]\u001b[0m\t \u001b[1m\u001b[92m-0.2723433849077558\u001b[0m\t \u001b[1m\u001b[92m-0.2723433849077558\u001b[0m\t \u001b[1m\u001b[92m0.024224606646851696\u001b[0m\t \u001b[1m\u001b[92m0.04635552966375426\u001b[0m\n",
            "8  \t [ 4.28592132  1.43925621  8.87740258  0.92179432 19.16224418  0.3089159 ]\t -0.04026057911121341\t -0.2723433849077558\t 0.029811977605885383\t 0.04782882798015818\n",
            "9  \t [10.          7.16698139  8.01491417  1.         11.01491417  1.        ]\t -0.24864106572673883\t -0.2723433849077558\t 0.027683963204720614\t 0.0399692575705628\n",
            "10 \t [ 1.49834302  1.44919992 10.03569896  0.8312859  19.03569896  0.95170056]\t -0.2677150278756283\t -0.2723433849077558\t 0.02539762029529718\t 0.054125551912140565\n",
            "11 \t [10.          8.13058705  8.02420784  0.80317927 10.65191978  0.9000945 ]\t -0.2534765644883792\t -0.2723433849077558\t 0.03540306864524593\t 0.05703449815039252\n",
            "\u001b[1m\u001b[92m12\u001b[0m\t \u001b[1m\u001b[92m[ 3.11912531  8.60720163 13.37699236  0.81543006  8.37699236  0.92207006]\u001b[0m\t \u001b[1m\u001b[92m-0.27482206096372364\u001b[0m\t \u001b[1m\u001b[92m-0.27482206096372364\u001b[0m\t \u001b[1m\u001b[92m0.04220098643471739\u001b[0m\t \u001b[1m\u001b[92m0.05611379600797417\u001b[0m\n",
            "13 \t [ 9.48075521  6.04619904  6.70566758  1.         10.70566758  1.        ]\t -0.20587672461744458\t -0.27482206096372364\t 0.03991397419644071\t 0.06519639706484318\n",
            "\u001b[1m\u001b[92m14\u001b[0m\t \u001b[1m\u001b[92m[ 6.81850816  7.96729517 12.15301433  0.89008368  6.15301433  1.        ]\u001b[0m\t \u001b[1m\u001b[92m-0.27489389949703585\u001b[0m\t \u001b[1m\u001b[92m-0.27489389949703585\u001b[0m\t \u001b[1m\u001b[92m0.02486895347070913\u001b[0m\t \u001b[1m\u001b[92m0.0635331496255668\u001b[0m\n",
            "15 \t [ 2.25440654  2.18173928  8.71773202  0.84641535 19.27454829  0.44577886]\t -0.13831570396898907\t -0.27489389949703585\t 0.0317910132708378\t 0.06467562912605179\n",
            "16 \t [ 7.13304929  6.7859097  11.07632184  1.          8.29278075  1.        ]\t -0.27219247769751426\t -0.27489389949703585\t 0.025449536431528464\t 0.06316467933456467\n",
            "17 \t [ 2.82676062  8.54122916 12.99257325  1.          9.99257325  1.        ]\t -0.2743546763094985\t -0.27489389949703585\t 0.039846120019792604\t 0.06548623797578847\n",
            "18 \t [ 7.53352059  7.99845285 11.56807762  0.84232591  6.56807762  0.59377506]\t -0.20670005405037967\t -0.27489389949703585\t 0.039768157516160633\t 0.06612936196964223\n",
            "19 \t [ 3.27469268 10.         12.83660335  1.          9.83660335  1.        ]\t -0.27436081220898345\t -0.27489389949703585\t 0.037930738638177565\t 0.06913708385970485\n",
            "20 \t [ 2.94725578  9.82551429 12.          0.52491068  6.          0.45547533]\t -0.13585657368097592\t -0.27489389949703585\t 0.037754644756784486\t 0.03775464576541721\n",
            "21 \t [ 3.17133648  6.27978142 14.25497319  0.71134771 11.3637096   1.        ]\t -0.2705328156211022\t -0.27489389949703585\t 0.042204922283709624\t 0.09578566185570997\n",
            "22 \t [ 4.20028932 10.         12.21539482  0.83616959 10.15387282  0.49612446]\t -0.14719781661382064\t -0.27489389949703585\t 0.07163370193518966\t 0.08504878181178824\n",
            "23 \t [ 4.98237764  8.34976866 11.          0.84897076  8.          0.33791541]\t -0.0415583051206444\t -0.27489389949703585\t 0.05971359114229344\t 0.05971359114229344\n",
            "24 \t [ 3.79005797  9.93803802 12.          0.85095053 10.          0.40418733]\t -0.14680428109868107\t -0.27489389949703585\t 0.06264306147490814\t 0.06264306147490814\n",
            "25 \t [ 6.40195853  6.87043209 12.          0.91562784  5.          0.13489119]\t 0.16955126922411798\t -0.27489389949703585\t 0.06088274638171457\t 0.06088274638171457\n",
            "26 \t [ 4.9520167   7.53159057 12.          0.61998803  7.          0.53099058]\t -0.1990331336838364\t -0.27489389949703585\t 0.06619747901648355\t 0.06619747901648355\n",
            "27 \t [ 9.95725064  7.34058461  8.10729917  1.         11.23239383  1.        ]\t -0.24864106925188958\t -0.27489389949703585\t 0.06545742699283637\t 0.07189068711165053\n",
            "28 \t [ 9.35599432  7.52268465  7.60673629  1.         11.60673629  1.        ]\t -0.23357437771918485\t -0.27489389949703585\t 0.05892986462197521\t 0.07607266681103779\n",
            "29 \t [ 7.24849174  7.75984452  7.          0.59768358 13.          0.33894998]\t -0.029634480727249744\t -0.27489389949703585\t 0.04118237885556716\t 0.07554165194759174\n",
            "30 \t [ 9.09375621  7.38088975  6.          0.59881061 14.          0.45337565]\t -0.10879041328935964\t -0.27489389949703585\t 0.03931359469681775\t 0.03948216366665394\n"
          ]
        },
        {
          "output_type": "execute_result",
          "data": {
            "text/plain": [
              "50022.41981245382"
            ]
          },
          "metadata": {},
          "execution_count": 45
        }
      ]
    },
    {
      "cell_type": "code",
      "metadata": {
        "id": "PJmI9saAaEG1",
        "colab": {
          "base_uri": "https://localhost:8080/"
        },
        "outputId": "845f232f-394e-4910-ac02-4fe28e0ed73e"
      },
      "source": [
        "### Bayesian optimization runs (x20): 'exact' Acquisition Function run number = 5 \n",
        "\n",
        "np.random.seed(run_num_5)\n",
        "surrogate_exact_5 = dtStudentProcess(cov_func, optimize=opt, nu = df)\n",
        "\n",
        "X_train5, X_test5, y_train5, y_test5 = train_test_split(X, y, test_size=test_perc, random_state=run_num_5)\n",
        "\n",
        "def f_syn_polarity5(alpha, gamma, max_depth, subsample, min_child_weight, colsample):\n",
        "    reg = XGBRegressor(reg_alpha=alpha, gamma=gamma, max_depth=int(max_depth), subsample=subsample, min_child_weight=min_child_weight,\n",
        "          colsample_bytree=colsample, n_estimators = n_est, random_state=run_num_5, objective = 'reg:squarederror')\n",
        "    score = np.array(cross_val_score(reg, X=X_train5, y=y_train5).mean())\n",
        "    return operator * score\n",
        "\n",
        "exact_5 = dGPGO(surrogate_exact_5, Acquisition_grad(util), f_syn_polarity5, param, n_jobs = -1) # Define BayesOpt\n",
        "exact_5.run(max_iter = max_iter, init_evals = n_init) # run\n",
        "\n",
        "### Return optimal parameters' set:\n",
        "params_exact_5 = exact_5.getResult()[0]\n",
        "params_exact_5['max_depth'] = int(params_exact_5['max_depth'])\n",
        "params_exact_5['min_child_weight'] = int(params_exact_5['min_child_weight'])\n",
        "\n",
        "### Re-train with optimal parameters, run predictons:\n",
        "dX_exact_train5 = xgb.DMatrix(X_train5, y_train5)\n",
        "dX_exact_test5 = xgb.DMatrix(X_test5, y_test5)\n",
        "model_exact_5 = xgb.train(params_exact_5, dX_exact_train5)\n",
        "pred_exact_5 = model_exact_5.predict(dX_exact_test5)\n",
        "\n",
        "rmse_exact_5 = np.sqrt(mean_squared_error(pred_exact_5, y_test5))\n",
        "rmse_exact_5"
      ],
      "execution_count": null,
      "outputs": [
        {
          "output_type": "stream",
          "name": "stdout",
          "text": [
            "Evaluation \t Proposed point \t  Current eval. \t  Best eval. \t         Max. ExactAcqFunc \t Max. ApproxAcqFunc \n",
            "init\t [ 2.21993171  8.70732306 11.          0.68186845 10.          0.53957007]\t -0.17651299901312462\t -0.17651299901312462\t    \t    \n",
            "init\t [ 6.11743863  7.65907856  5.          0.64840025 16.          0.82745351]\t -0.13570811921529394\t -0.17651299901312462\t    \t    \n",
            "init\t [ 6.49458883  8.19472793  6.          0.93996852 19.          0.36647194]\t 0.11807106905648564\t -0.17651299901312462\t    \t    \n",
            "init\t [ 6.28787909  5.7983781   6.          0.63290956 17.          0.18402673]\t 0.1828233127139726\t -0.17651299901312462\t    \t    \n",
            "init\t [8.26554249 8.33492742 9.         0.97900675 3.         0.26957319]\t 0.09353994877735272\t -0.17651299901312462\t    \t    \n",
            "1  \t [ 4.69488372  9.81468738  5.          0.90686624 14.          0.64783233]\t -0.12548595851251157\t -0.17651299901312462\t 0.02625011352240443\t 0.02625011352240443\n",
            "2  \t [ 1.92279296  1.5474511   5.          0.92275891 14.          0.81540076]\t -0.13337431057237456\t -0.17651299901312462\t 0.025103649999524268\t 0.025103649999524268\n",
            "\u001b[1m\u001b[92m3\u001b[0m\t \u001b[1m\u001b[92m[ 7.62799793  1.89080141  6.          0.7466555  10.          0.94084967]\u001b[0m\t \u001b[1m\u001b[92m-0.20113588914355965\u001b[0m\t \u001b[1m\u001b[92m-0.20113588914355965\u001b[0m\t \u001b[1m\u001b[92m0.02465473924244677\u001b[0m\t \u001b[1m\u001b[92m0.02465473924244677\u001b[0m\n",
            "4  \t [ 8.98063632  2.97885127  9.          0.64249728 18.          0.16342995]\t 0.16938707127841512\t -0.20113588914355965\t 0.02426360870131618\t 0.02426360870131618\n",
            "\u001b[1m\u001b[92m5\u001b[0m\t \u001b[1m\u001b[92m[ 8.28543059  3.39110374 12.          0.9220584  15.          0.75865107]\u001b[0m\t \u001b[1m\u001b[92m-0.23736344341411098\u001b[0m\t \u001b[1m\u001b[92m-0.23736344341411098\u001b[0m\t \u001b[1m\u001b[92m0.025057920373483412\u001b[0m\t \u001b[1m\u001b[92m0.025057920373483412\u001b[0m\n",
            "6  \t [ 0.98887586  1.72560345 12.          0.50342471 19.          0.20615949]\t 0.17309323877694555\t -0.23736344341411098\t 0.023908503879066484\t 0.023908503879066484\n",
            "7  \t [ 3.24042995  1.09980323  7.          0.6309073  19.          0.70915812]\t -0.1740553716842589\t -0.23736344341411098\t 0.024222717511331062\t 0.024222717511331062\n",
            "8  \t [2.10059724 2.34370327 6.         0.86729082 8.         0.98674784]\t -0.20006948432541324\t -0.23736344341411098\t 0.024511999806671805\t 0.024511999806671805\n",
            "9  \t [ 4.19568767  9.59167992  7.          0.63744542 18.          0.96346932]\t -0.22443837155988425\t -0.23736344341411098\t 0.025495458935870054\t 0.025495458935870054\n",
            "10 \t [ 1.58241915  0.32099496 10.          0.9176032  13.          0.17055232]\t 0.17066225366275134\t -0.23736344341411098\t 0.02706085330476055\t 0.02706085330476055\n",
            "11 \t [ 5.25956941  9.91062408 14.          0.87187088 14.          0.23097886]\t 0.1734165039015665\t -0.23736344341411098\t 0.02702540644992341\t 0.02702540644992341\n",
            "12 \t [ 7.83473281  8.95526607 13.          0.83803848 10.          0.64663933]\t -0.2148190562134204\t -0.23736344341411098\t 0.027052054694251967\t 0.027052054694251967\n",
            "13 \t [ 7.35427678  9.97065609 13.          0.51927758 11.          0.83788385]\t -0.22196784983235068\t -0.23736344341411098\t 0.028001768384265373\t 0.028001768384265373\n",
            "\u001b[1m\u001b[92m14\u001b[0m\t \u001b[1m\u001b[92m[ 9.14685231  8.46024011 12.47600837  1.         10.47600837  1.        ]\u001b[0m\t \u001b[1m\u001b[92m-0.2725106710939835\u001b[0m\t \u001b[1m\u001b[92m-0.2725106710939835\u001b[0m\t \u001b[1m\u001b[92m0.0334009492613143\u001b[0m\t \u001b[1m\u001b[92m0.04853153697537727\u001b[0m\n",
            "15 \t [ 9.15743489  7.61031189 12.01981015  0.75524492 10.01981015  0.65088672]\t -0.21301013055767176\t -0.2725106710939835\t 0.03612461702705716\t 0.05716681301442952\n",
            "16 \t [ 6.80572479  9.95137235 12.3539721   0.94387453 10.3539721   0.73202217]\t -0.2162180004650131\t -0.2725106710939835\t 0.03260222617091165\t 0.049805919372902394\n",
            "17 \t [ 7.93981788  4.78828861 11.10239797  0.83303443 15.10239797  0.65957497]\t -0.21304284521192418\t -0.2725106710939835\t 0.02822752932795732\t 0.03176793038890011\n",
            "18 \t [ 8.99348272  3.35921708 11.26405076  0.94119733 16.26405076  0.88875136]\t -0.26295760629328735\t -0.2725106710939835\t 0.029147829434587273\t 0.04869505017813538\n",
            "19 \t [ 9.29337394  3.29790857 12.66731353  0.90271991 16.87605985  0.63821356]\t -0.21682379394958975\t -0.2725106710939835\t 0.029103721438248076\t 0.05672027730132492\n",
            "20 \t [ 2.84028047  1.98381865  5.          0.54947822 10.          0.7846567 ]\t -0.13405484116320754\t -0.2725106710939835\t 0.07338533000329117\t 0.07338533000329117\n",
            "21 \t [ 5.69727294  8.45567116  5.49692988  0.66279955 15.27524569  0.67255563]\t -0.12495257577858229\t -0.2725106710939835\t 0.0646182764300562\t 0.06746201551382827\n",
            "22 \t [ 2.24816213  2.70681903  5.          0.63225321 14.          0.42390482]\t -0.01833457976764108\t -0.2725106710939835\t 0.05222452420781738\t 0.07026281321860152\n",
            "23 \t [ 9.79150704  3.24770817 12.67491757  1.         18.46461869  0.36541789]\t -0.02864414129112809\t -0.2725106710939835\t 0.07325429797956659\t 0.1088107409637425\n",
            "24 \t [ 8.12156711  9.68118047 12.59593995  0.86987698 10.40653478  0.91835593]\t -0.261319578923659\t -0.2725106710939835\t 0.05766942008288281\t 0.06195655085254399\n",
            "25 \t [ 2.60956706  4.4745251   9.          0.69330349 17.          0.83988084]\t -0.22273433653035948\t -0.2725106710939835\t 0.04763206348965227\t 0.04763206348965227\n",
            "26 \t [ 8.76603602  3.77594487 13.          0.92636547 16.          0.52142602]\t -0.18413662180178209\t -0.2725106710939835\t 0.047706881764672304\t 0.047826186258649345\n",
            "27 \t [ 2.16299915  9.3170672  10.30919121  0.70362448 11.36393173  0.6987033 ]\t -0.20845125059732092\t -0.2725106710939835\t 0.04047599811899802\t 0.0796792355459298\n",
            "28 \t [3.05158864 2.4144153  5.         0.90155089 8.         0.67781492]\t -0.1255593651459187\t -0.2725106710939835\t 0.06731135069548518\t 0.06731135069548518\n",
            "29 \t [ 7.88970808  4.94504171  9.          0.76758027 15.          0.85028799]\t -0.22383824658981188\t -0.2725106710939835\t 0.03785411509304279\t 0.03785411509304279\n",
            "30 \t [ 9.03111866  3.6218782  12.          0.85982587 17.          0.46063912]\t -0.0992573352615955\t -0.2725106710939835\t 0.08949336013829463\t 0.10482508810873406\n"
          ]
        },
        {
          "output_type": "execute_result",
          "data": {
            "text/plain": [
              "50400.6033439677"
            ]
          },
          "metadata": {},
          "execution_count": 46
        }
      ]
    },
    {
      "cell_type": "code",
      "source": [
        "### Bayesian optimization runs (x20): 'exact' Acquisition Function run number = 6 \n",
        "\n",
        "np.random.seed(run_num_6)\n",
        "surrogate_exact_6 = dtStudentProcess(cov_func, optimize=opt, nu = df)\n",
        "\n",
        "X_train6, X_test6, y_train6, y_test6 = train_test_split(X, y, test_size=test_perc, random_state=run_num_6)\n",
        "\n",
        "def f_syn_polarity6(alpha, gamma, max_depth, subsample, min_child_weight, colsample):\n",
        "    reg = XGBRegressor(reg_alpha=alpha, gamma=gamma, max_depth=int(max_depth), subsample=subsample, min_child_weight=int(min_child_weight),\n",
        "          colsample_bytree=colsample, n_estimators = n_est, random_state=run_num_6, objective = 'reg:squarederror', eval_metric = 'rmse')\n",
        "    score = np.array(cross_val_score(reg, X=X_train6, y=y_train6).mean())\n",
        "    return operator * score\n",
        "\n",
        "exact_6 = dGPGO(surrogate_exact_6, Acquisition_grad(util), f_syn_polarity6, param, n_jobs = -1) # Define BayesOpt\n",
        "exact_6.run(max_iter = max_iter, init_evals = n_init) # run\n",
        "\n",
        "### Return optimal parameters' set:\n",
        "params_exact_6 = exact_6.getResult()[0]\n",
        "params_exact_6['max_depth'] = int(params_exact_6['max_depth'])\n",
        "params_exact_6['min_child_weight'] = int(params_exact_6['min_child_weight'])\n",
        "\n",
        "### Re-train with optimal parameters, run predictons:\n",
        "dX_exact_train6 = xgb.DMatrix(X_train6, y_train6)\n",
        "dX_exact_test6 = xgb.DMatrix(X_test6, y_test6)\n",
        "model_exact_6 = xgb.train(params_exact_6, dX_exact_train6)\n",
        "pred_exact_6 = model_exact_6.predict(dX_exact_test6)\n",
        "\n",
        "rmse_exact_6 = np.sqrt(mean_squared_error(pred_exact_6, y_test6))\n",
        "rmse_exact_6"
      ],
      "metadata": {
        "colab": {
          "base_uri": "https://localhost:8080/"
        },
        "id": "-i707LrINxei",
        "outputId": "d361c1f2-cac9-4620-e6f0-bd3ef6dfab16"
      },
      "execution_count": null,
      "outputs": [
        {
          "output_type": "stream",
          "name": "stdout",
          "text": [
            "Evaluation \t Proposed point \t  Current eval. \t  Best eval. \t         Max. ExactAcqFunc \t Max. ApproxAcqFunc \n",
            "init\t [8.92860151 3.31979805 5.         0.99251441 2.         0.57683563]\t -0.040732828703740065\t -0.21785700752344095\t    \t    \n",
            "init\t [4.18807429 3.35407849 9.         0.87750649 3.         0.56623277]\t -0.10623625486331174\t -0.21785700752344095\t    \t    \n",
            "init\t [ 5.788586    6.45355096 14.          0.70660047 12.          0.82154882]\t -0.21785700752344095\t -0.21785700752344095\t    \t    \n",
            "init\t [4.58184578 6.73834679 5.         0.90108528 3.         0.65482895]\t -0.11385386818236495\t -0.21785700752344095\t    \t    \n",
            "init\t [ 4.42510505  5.75952352 14.          0.97882365 15.          0.29525604]\t 0.12540433205962548\t -0.21785700752344095\t    \t    \n",
            "1  \t [5.45268592 5.03178362 5.         0.95262932 3.         0.48391818]\t 0.0707878759481773\t -0.21785700752344095\t 0.017070757074667913\t 0.017070757074667913\n",
            "2  \t [9.09094176 7.85627378 8.         0.56995173 8.         0.86634552]\t -0.19897750754040164\t -0.21785700752344095\t 0.01473267736684492\t 0.01473267736684492\n",
            "3  \t [9.35121584 4.61966573 5.         0.73080031 1.         0.81790253]\t -0.14554305584927463\t -0.21785700752344095\t 0.018469785307364265\t 0.018469785307364265\n",
            "4  \t [9.07159316 4.39824128 7.         0.8432642  2.         0.57714482]\t -0.08510629494670745\t -0.21785700752344095\t 0.0190286340697121\t 0.022445496371053843\n",
            "5  \t [9.0279904  9.11403714 7.88018532 0.81520156 9.702156   0.70617676]\t -0.16490407617946756\t -0.21785700752344095\t 0.019255724533136013\t 0.025212079891325376\n",
            "6  \t [2.72759146 4.35444167 9.27498739 0.83826497 3.27498739 0.51057911]\t -0.10443126609422618\t -0.21785700752344095\t 0.019086803834501027\t 0.035206295306132944\n",
            "\u001b[1m\u001b[92m7\u001b[0m\t \u001b[1m\u001b[92m[ 5.10493463  6.79471483 12.9364515   1.         13.19884364  1.        ]\u001b[0m\t \u001b[1m\u001b[92m-0.26821887206003814\u001b[0m\t \u001b[1m\u001b[92m-0.26821887206003814\u001b[0m\t \u001b[1m\u001b[92m0.019908365133603372\u001b[0m\t \u001b[1m\u001b[92m0.027171045039630498\u001b[0m\n",
            "8  \t [ 5.83615211  7.38012374 13.00822509  0.55435094 13.00822509  0.14664648]\t 0.21299545990436522\t -0.26821887206003814\t 0.02634508412881247\t 0.04345674838717812\n",
            "9  \t [ 1.43292764  9.31823681  5.          0.51738676 10.          0.30600768]\t 0.15040992098449318\t -0.26821887206003814\t 0.018718191445456306\t 0.018718191445456306\n",
            "10 \t [ 0.09135886  8.11961466 10.          0.74013552 12.          0.97362941]\t -0.25443224664420994\t -0.26821887206003814\t 0.018603744258501993\t 0.018603744258501993\n",
            "11 \t [6.1523354  7.97789265 8.         0.60732993 4.         0.7001282 ]\t -0.17290876706289143\t -0.26821887206003814\t 0.0210018470098252\t 0.0210018470098252\n",
            "12 \t [8.61690274 5.10910222 8.         0.73084754 3.         0.99674536]\t -0.2386291440630711\t -0.26821887206003814\t 0.02116281798188587\t 0.02116281798188587\n",
            "13 \t [7.8505844  4.9653067  7.         0.82643123 3.         0.93729038]\t -0.22470702163000428\t -0.26821887206003814\t 0.022729184446623495\t 0.022729185696145505\n",
            "14 \t [ 6.6940591   4.83814572 14.          0.57133756 14.          0.85010184]\t -0.21187755985328902\t -0.26821887206003814\t 0.023765745735175384\t 0.038440054392559396\n",
            "15 \t [ 7.24331971  5.23320976 12.63033631  1.         14.92076607  0.64456362]\t -0.20950152310919426\t -0.26821887206003814\t 0.026069107652920028\t 0.03675011227076182\n",
            "16 \t [ 6.66876579  8.99559055 10.          0.75818439  3.          0.43597892]\t -0.010567466898016752\t -0.26821887206003814\t 0.025077484466124438\t 0.042353328319248235\n",
            "17 \t [ 6.87397442  5.21245188 13.73262292  1.         14.65079478  0.82961682]\t -0.21991353361738067\t -0.26821887206003814\t 0.03814502975365079\t 0.04033727768569901\n",
            "18 \t [ 7.30161188  6.58118897 14.96563252  1.         12.96563252  1.        ]\t -0.2660356438732506\t -0.26821887206003814\t 0.0265183289556372\t 0.06638139683673883\n",
            "19 \t [ 5.26429796  7.61064276 14.          0.6561462  10.          0.72475108]\t -0.188959124717316\t -0.26821887206003814\t 0.025614122321081623\t 0.025614122321081623\n",
            "20 \t [ 7.65515729  8.3524801  13.          0.94320546  2.          0.37856462]\t -0.0014960450545438819\t -0.26821887206003814\t 0.03005246752627064\t 0.03005246752627064\n",
            "21 \t [ 7.98738378  8.41208709  8.06915918  1.         11.1921932   1.        ]\t -0.24793195863886233\t -0.26821887206003814\t 0.07483047564604421\t 0.09169351720378308\n",
            "22 \t [9.4979261  3.73898776 8.16435485 0.87677389 3.16435485 0.3968292 ]\t -0.0036795081167921182\t -0.26821887206003814\t 0.04225542822395567\t 0.05754354433404106\n",
            "23 \t [5.88229089 7.89257882 9.         0.86254599 5.         0.64374427]\t -0.18723602525751712\t -0.26821887206003814\t 0.05337147813944264\t 0.05337147813944264\n",
            "24 \t [ 7.06105799  6.88893686 13.14019462  0.91057207 11.45027017  0.5210261 ]\t -0.12008737288992362\t -0.26821887206003814\t 0.04185061772510383\t 0.06639579422066035\n",
            "25 \t [ 4.88178159  8.35204642 14.2008129   0.64681526 10.74280584  0.35133492]\t 0.1354061575819371\t -0.26821887206003814\t 0.06896889897236587\t 0.07753474876785547\n",
            "26 \t [ 7.73014591  3.8381874  14.          0.76672646 15.          0.50176179]\t -0.11712163861023676\t -0.26821887206003814\t 0.03660102705574719\t 0.055737559046054735\n",
            "27 \t [5.64848817 3.70150236 8.         0.8529409  1.         0.55472344]\t -0.09981745430619275\t -0.26821887206003814\t 0.05396767686558078\t 0.056285913411124724\n",
            "28 \t [5.67174834 6.90103663 9.93345329 1.         5.72912502 0.75334718]\t -0.20886466348306448\t -0.26821887206003814\t 0.04508600119615834\t 0.056634155920504616\n",
            "29 \t [ 8.47172139  5.81269703 13.43209864  0.77915928 14.41576809  0.78271894]\t -0.22076943043103398\t -0.26821887206003814\t 0.06399861587505166\t 0.09087394000592787\n",
            "30 \t [ 3.63486139  3.22746962 10.29610155  0.87704424  2.93479289  0.88139758]\t -0.2522571706599459\t -0.26821887206003814\t 0.03091323515966226\t 0.04419790990293228\n"
          ]
        },
        {
          "output_type": "execute_result",
          "data": {
            "text/plain": [
              "47437.8078261504"
            ]
          },
          "metadata": {},
          "execution_count": 47
        }
      ]
    },
    {
      "cell_type": "code",
      "source": [
        "### Bayesian optimization runs (x20): 'exact' Acquisition Function run number = 7 \n",
        "\n",
        "np.random.seed(run_num_7)\n",
        "surrogate_exact_7 = dtStudentProcess(cov_func, optimize=opt, nu = df)\n",
        "\n",
        "X_train7, X_test7, y_train7, y_test7 = train_test_split(X, y, test_size=test_perc, random_state=run_num_7)\n",
        "\n",
        "def f_syn_polarity7(alpha, gamma, max_depth, subsample, min_child_weight, colsample):\n",
        "    reg = XGBRegressor(reg_alpha=alpha, gamma=gamma, max_depth=int(max_depth), subsample=subsample, min_child_weight=min_child_weight,\n",
        "          colsample_bytree=colsample, n_estimators = n_est, random_state=run_num_7, objective = 'reg:squarederror')\n",
        "    score = np.array(cross_val_score(reg, X=X_train7, y=y_train7).mean())\n",
        "    return operator * score\n",
        "\n",
        "exact_7 = dGPGO(surrogate_exact_7, Acquisition_grad(util), f_syn_polarity7, param, n_jobs = -1) # Define BayesOpt\n",
        "exact_7.run(max_iter = max_iter, init_evals = n_init) # run\n",
        "\n",
        "### Return optimal parameters' set:\n",
        "params_exact_7 = exact_7.getResult()[0]\n",
        "params_exact_7['max_depth'] = int(params_exact_7['max_depth'])\n",
        "params_exact_7['min_child_weight'] = int(params_exact_7['min_child_weight'])\n",
        "\n",
        "### Re-train with optimal parameters, run predictons:\n",
        "dX_exact_train7 = xgb.DMatrix(X_train7, y_train7)\n",
        "dX_exact_test7 = xgb.DMatrix(X_test7, y_test7)\n",
        "model_exact_7 = xgb.train(params_exact_7, dX_exact_train7)\n",
        "pred_exact_7 = model_exact_7.predict(dX_exact_test7)\n",
        "\n",
        "rmse_exact_7 = np.sqrt(mean_squared_error(pred_exact_7, y_test7))\n",
        "rmse_exact_7"
      ],
      "metadata": {
        "colab": {
          "base_uri": "https://localhost:8080/"
        },
        "id": "zh0IJf8zNy9E",
        "outputId": "efb79818-01c3-498b-8b78-db16afcb2fbf"
      },
      "execution_count": null,
      "outputs": [
        {
          "output_type": "stream",
          "name": "stdout",
          "text": [
            "Evaluation \t Proposed point \t  Current eval. \t  Best eval. \t         Max. ExactAcqFunc \t Max. ApproxAcqFunc \n",
            "init\t [0.76308289 7.79918792 8.         0.98911145 8.         0.98019056]\t -0.2586906150944297\t -0.2733552926318651\t    \t    \n",
            "init\t [ 5.3849587   5.01120464 13.          0.74994125  5.          0.88192131]\t -0.2733552926318651\t -0.2733552926318651\t    \t    \n",
            "init\t [ 3.30839249  3.9294231  12.          0.6440728  13.          0.41137564]\t -0.11293024337404892\t -0.2733552926318651\t    \t    \n",
            "init\t [9.29528191 2.6258377  5.         0.80027446 1.         0.86616513]\t -0.1563990755548888\t -0.2733552926318651\t    \t    \n",
            "init\t [ 1.74052764  7.90763512 14.          0.7244129   4.          0.77536887]\t -0.23762179034590777\t -0.2733552926318651\t    \t    \n",
            "1  \t [ 2.10039472  7.0673313  13.41764167  1.          5.41764167  0.93423979]\t -0.2729539615160682\t -0.2733552926318651\t 0.03827307496835929\t 0.05315899604461423\n",
            "2  \t [ 5.08677645  6.38392453 11.86760249  1.          5.19229741  0.76320201]\t -0.25562882111289886\t -0.2733552926318651\t 0.04575485819485792\t 0.055175210964729146\n",
            "3  \t [ 0.78267256  7.74231553  7.          0.8687458  10.          0.19878452]\t 0.26547560023048733\t -0.2733552926318651\t 0.04021380904122713\t 0.06822173503609387\n",
            "4  \t [ 6.29026624  5.86902501 10.77707112  0.85392675  5.77707112  0.65472515]\t -0.21737409164066665\t -0.2733552926318651\t 0.047834271453434274\t 0.07629109821526532\n",
            "5  \t [ 7.18495783  4.91860037 11.07136732  0.74575304  7.5408341   0.55881624]\t -0.19790988278195137\t -0.2733552926318651\t 0.04143287887112255\t 0.08393714312875956\n",
            "\u001b[1m\u001b[92m6\u001b[0m\t \u001b[1m\u001b[92m[ 7.39069632  4.91516641 14.          0.80021173  5.          0.90523324]\u001b[0m\t \u001b[1m\u001b[92m-0.27339157460213803\u001b[0m\t \u001b[1m\u001b[92m-0.27339157460213803\u001b[0m\t \u001b[1m\u001b[92m0.040799451116305736\u001b[0m\t \u001b[1m\u001b[92m0.0820978631540233\u001b[0m\n",
            "7  \t [ 7.00966107  4.43315535 13.          0.59508816  9.          0.27460488]\t -0.005815836150033516\t -0.27339157460213803\t 0.04048943657620201\t 0.07902878616772416\n",
            "8  \t [ 3.5877618   2.82379156 14.          0.82714341 13.          0.63245248]\t -0.2234437734586286\t -0.27339157460213803\t 0.03683773552572711\t 0.07939484024797952\n",
            "\u001b[1m\u001b[92m9\u001b[0m\t \u001b[1m\u001b[92m[ 3.51389746  4.33424478 14.38164203  1.         13.38164203  1.        ]\u001b[0m\t \u001b[1m\u001b[92m-0.27868806075775643\u001b[0m\t \u001b[1m\u001b[92m-0.27868806075775643\u001b[0m\t \u001b[1m\u001b[92m0.04300819961695337\u001b[0m\t \u001b[1m\u001b[92m0.07952473317301137\u001b[0m\n",
            "10 \t [ 6.44077003  6.45091749 12.33093497  0.864179    4.91838382  0.68271348]\t -0.21918162412254563\t -0.27868806075775643\t 0.05589709269752361\t 0.07746151723794492\n",
            "11 \t [ 1.84079822  6.54012562 11.96594859  1.          7.63943949  1.        ]\t -0.2726968887850591\t -0.27868806075775643\t 0.034363208716012776\t 0.0810155911584516\n",
            "12 \t [ 2.17308567  7.75532715 11.01151055  0.80782002  8.07223877  0.92524962]\t -0.27558664548514195\t -0.27868806075775643\t 0.043764409769322936\t 0.08251307931531754\n",
            "13 \t [ 9.82634664  3.5512289  12.          0.70408142  5.          0.90962318]\t -0.271658483338504\t -0.27868806075775643\t 0.035160955887606975\t 0.0825418529781528\n",
            "14 \t [ 1.0760658   8.21857404 13.38260734  0.68731964  5.39980006  1.        ]\t -0.269018100278067\t -0.27868806075775643\t 0.051991465883200354\t 0.08387675375717399\n",
            "15 \t [ 2.40222658  5.03881562 13.32671341  0.71942435 14.69707311  0.77952137]\t -0.24353879607110737\t -0.27868806075775643\t 0.0391589026655008\t 0.08306747999878088\n",
            "16 \t [ 0.39415104  7.92691638 12.12290215  1.          8.12290215  0.87038537]\t -0.25779076400359385\t -0.27868806075775643\t 0.04280374441902742\t 0.08316403538503056\n",
            "17 \t [ 6.90860796  5.35704435 12.67587304  0.94791655  5.83462853  0.6252488 ]\t -0.22162474346043198\t -0.27868806075775643\t 0.061224183938334745\t 0.0948903289741735\n",
            "18 \t [0.8223371  7.38915434 7.27243154 0.95280371 7.27243154 0.98968995]\t -0.24160865548143665\t -0.27868806075775643\t 0.048043274041960196\t 0.09431048630395508\n",
            "19 \t [ 7.50373907  5.41854764 11.          0.90174644  5.          0.21227631]\t 0.2686361211884139\t -0.27868806075775643\t 0.04505312205968128\t 0.04505312205968128\n",
            "20 \t [ 5.89765157  6.37833091 12.          0.98149645  2.          0.57500336]\t -0.19459458954666353\t -0.27868806075775643\t 0.03848393321085313\t 0.09598688408947195\n",
            "21 \t [ 3.09348613  3.96247234  8.          0.81774087 13.          0.58941598]\t -0.18547338496800467\t -0.27868806075775643\t 0.08472073118709017\t 0.08472073118709017\n",
            "22 \t [ 1.54067634  6.34676421 11.80656577  0.9938383   8.80656577  0.83826176]\t -0.2499241784434064\t -0.27868806075775643\t 0.06339238225258331\t 0.10635679781320961\n",
            "23 \t [ 4.56796849  7.2276288  12.          0.69041532 11.          0.25650596]\t -0.009743840186487196\t -0.27868806075775643\t 0.06335665617628258\t 0.06335665617628258\n",
            "24 \t [2.07972604 6.5724838  7.48235568 1.         7.48235568 0.61217151]\t -0.16739015931655107\t -0.27868806075775643\t 0.06704855749661466\t 0.0699615108727529\n",
            "25 \t [1.35762875 8.29358121 9.         0.62984213 8.         0.68708405]\t -0.20548074694851537\t -0.27868806075775643\t 0.05296462398365741\t 0.10676702860148735\n",
            "26 \t [ 6.61419013  4.78753838 11.          0.65982994  8.          0.51525525]\t -0.1931762713473983\t -0.27868806075775643\t 0.06057786008295684\t 0.06057786008295684\n",
            "27 \t [ 4.07638948  3.52457987 12.31934483  0.73330329 12.7648566   0.97539126]\t -0.2774214461955444\t -0.27868806075775643\t 0.07134533374861564\t 0.07810278806621225\n",
            "28 \t [ 5.68624448  5.59443974 13.46853613  0.73234654  4.72070543  0.89444676]\t -0.272932320992698\t -0.27868806075775643\t 0.04857597768689435\t 0.07015234392833415\n",
            "29 \t [ 2.32418887  8.15969984 10.17822339  1.          8.3114555   0.98034932]\t -0.2680659783216095\t -0.27868806075775643\t 0.04578809714717766\t 0.06084874395573477\n",
            "30 \t [0.9211151  8.15500246 7.         0.88017627 6.         0.61996731]\t -0.17335181636130476\t -0.27868806075775643\t 0.07601533970327885\t 0.10151393937177733\n"
          ]
        },
        {
          "output_type": "execute_result",
          "data": {
            "text/plain": [
              "50048.46205895395"
            ]
          },
          "metadata": {},
          "execution_count": 48
        }
      ]
    },
    {
      "cell_type": "code",
      "metadata": {
        "id": "xk0IPTSTbIl3",
        "colab": {
          "base_uri": "https://localhost:8080/"
        },
        "outputId": "5401c304-3cf8-4902-948e-fa0e48d96649"
      },
      "source": [
        "### Bayesian optimization runs (x20): 'exact' Acquisition Function run number = 8 \n",
        "\n",
        "np.random.seed(run_num_8)\n",
        "surrogate_exact_8 = dtStudentProcess(cov_func, optimize=opt, nu = df)\n",
        "\n",
        "X_train8, X_test8, y_train8, y_test8 = train_test_split(X, y, test_size=test_perc, random_state=run_num_8)\n",
        "\n",
        "def f_syn_polarity8(alpha, gamma, max_depth, subsample, min_child_weight, colsample):\n",
        "    reg = XGBRegressor(reg_alpha=alpha, gamma=gamma, max_depth=int(max_depth), subsample=subsample, min_child_weight=min_child_weight,\n",
        "          colsample_bytree=colsample, n_estimators = n_est, random_state=run_num_8, objective = 'reg:squarederror')\n",
        "    score = np.array(cross_val_score(reg, X=X_train8, y=y_train8).mean())\n",
        "    return operator * score\n",
        "\n",
        "exact_8 = dGPGO(surrogate_exact_8, Acquisition_grad(util), f_syn_polarity8, param, n_jobs = -1) # Define BayesOpt\n",
        "exact_8.run(max_iter = max_iter, init_evals = n_init) # run\n",
        "\n",
        "### Return optimal parameters' set:\n",
        "params_exact_8 = exact_8.getResult()[0]\n",
        "params_exact_8['max_depth'] = int(params_exact_8['max_depth'])\n",
        "params_exact_8['min_child_weight'] = int(params_exact_8['min_child_weight'])\n",
        "\n",
        "### Re-train with optimal parameters, run predictons:\n",
        "dX_exact_train8 = xgb.DMatrix(X_train8, y_train8)\n",
        "dX_exact_test8 = xgb.DMatrix(X_test8, y_test8)\n",
        "model_exact_8 = xgb.train(params_exact_8, dX_exact_train8)\n",
        "pred_exact_8 = model_exact_8.predict(dX_exact_test8)\n",
        "\n",
        "rmse_exact_8 = np.sqrt(mean_squared_error(pred_exact_8, y_test8))\n",
        "rmse_exact_8"
      ],
      "execution_count": null,
      "outputs": [
        {
          "output_type": "stream",
          "name": "stdout",
          "text": [
            "Evaluation \t Proposed point \t  Current eval. \t  Best eval. \t         Max. ExactAcqFunc \t Max. ApproxAcqFunc \n",
            "init\t [ 8.73429403  9.68540663 10.          0.68875849  9.          0.48011572]\t -0.1436805245641621\t -0.25516824115729875\t    \t    \n",
            "init\t [ 6.12033333  7.66062926  8.          0.76133734 13.          0.93379456]\t -0.23445327671439503\t -0.25516824115729875\t    \t    \n",
            "init\t [ 1.46524679  7.01527914  7.          0.90913299 10.          0.36016753]\t -0.04700988677478737\t -0.25516824115729875\t    \t    \n",
            "init\t [ 9.73855241  3.33774046 14.          0.53290419  7.          0.7088681 ]\t -0.2087365736042072\t -0.25516824115729875\t    \t    \n",
            "init\t [ 3.00618018  1.82702795 11.          0.75681389 14.          0.98627449]\t -0.25516824115729875\t -0.25516824115729875\t    \t    \n",
            "1  \t [ 5.84173193  8.5773491   7.93600071  0.88551597 14.51474743  0.70483898]\t -0.1974509659369815\t -0.25516824115729875\t 0.0337341874854288\t 0.04286967546651597\n",
            "2  \t [ 7.242407    9.72156695 11.07080987  0.89693024  9.62296191  0.4127434 ]\t -0.1463749552139248\t -0.25516824115729875\t 0.03209315490637282\t 0.04914543412411772\n",
            "3  \t [ 2.60333978  3.25182932 11.8784023   0.90729275 13.71740728  0.87093994]\t -0.2494494001836615\t -0.25516824115729875\t 0.03380555629286962\t 0.046453838250551015\n",
            "4  \t [ 1.78270934  3.37283728 12.          0.58056239 15.          0.32033705]\t -0.05090364735040505\t -0.25516824115729875\t 0.03507276471691619\t 0.06437706064548036\n",
            "5  \t [ 2.78649747  5.20025792 13.45760828  0.74751423 13.71431932  0.37247072]\t -0.05164488392140034\t -0.25516824115729875\t 0.02563858236928334\t 0.06174880511894995\n",
            "6  \t [ 2.10179705  2.76773968 12.15426084  0.88314354 13.15426084  0.31298267]\t -0.05380058818853846\t -0.25516824115729875\t 0.03389007534782148\t 0.05912301814051406\n",
            "7  \t [ 7.23110317  6.84982396  7.62867977  1.         14.48857184  0.39802935]\t -0.1470352880465219\t -0.25516824115729875\t 0.02422880638055303\t 0.06173306684503173\n",
            "8  \t [ 6.00899385  8.11999024  7.          0.78404367 14.          0.89892293]\t -0.21591432982998274\t -0.25516824115729875\t 0.03454000692172872\t 0.0608443382150466\n",
            "9  \t [ 7.75452227  5.96266311  8.46382195  0.90481163 13.46382195  0.31146082]\t -0.05264308794459305\t -0.25516824115729875\t 0.020721474765906807\t 0.05955514835896663\n",
            "10 \t [ 1.05626986  1.88033588 11.21745865  0.95607768 15.26098838  0.24137763]\t 0.05027290868772059\t -0.25516824115729875\t 0.017471578657213355\t 0.058071890085863394\n",
            "11 \t [ 6.89281022  9.62019286  6.          0.58847805 14.          0.38083888]\t -0.12338333406570572\t -0.25516824115729875\t 0.01715733612465516\t 0.05678691750269796\n",
            "12 \t [ 7.73631161  7.78308827  7.37988982  0.93479839 13.37988982  0.53465546]\t -0.18508674784039075\t -0.25516824115729875\t 0.02249454499173174\t 0.05626922814201497\n",
            "\u001b[1m\u001b[92m13\u001b[0m\t \u001b[1m\u001b[92m[ 3.60251522  4.30748789 11.37122652  1.         12.37122652  1.        ]\u001b[0m\t \u001b[1m\u001b[92m-0.27221173945271504\u001b[0m\t \u001b[1m\u001b[92m-0.27221173945271504\u001b[0m\t \u001b[1m\u001b[92m0.017380801245416563\u001b[0m\t \u001b[1m\u001b[92m0.0557647985687045\u001b[0m\n",
            "14 \t [ 6.69691215  6.46733501  9.3553425   0.91824352 12.41487984  0.4851414 ]\t -0.1483036765155014\t -0.27221173945271504\t 0.016919411056674237\t 0.051726075066494154\n",
            "15 \t [ 5.85608188  5.49085377 11.08517347  0.72324997 12.13322186  0.72950353]\t -0.2193371450762661\t -0.27221173945271504\t 0.01680827043101678\t 0.05131627480926102\n",
            "16 \t [ 6.71802402  7.9123835   7.25862871  1.         15.1610628   1.        ]\t -0.2333182787257881\t -0.27221173945271504\t 0.023047507117447682\t 0.05132411501020772\n",
            "17 \t [ 6.31279556  3.98445639 11.87562189  0.85694167 12.92324154  0.42760085]\t -0.148680856326277\t -0.27221173945271504\t 0.01864511049077547\t 0.05112965105729118\n",
            "18 \t [ 6.6958388   4.81789104 10.2930818   0.91394569 14.50237172  1.        ]\t -0.2681595468307985\t -0.27221173945271504\t 0.016831426632975603\t 0.051004921012341164\n",
            "19 \t [ 8.52708095  8.92245402 11.34037269  0.77159344  9.03343856  0.73720286]\t -0.2198434437355325\t -0.27221173945271504\t 0.023867131025990855\t 0.05550300622665192\n",
            "20 \t [ 4.97314344  9.75276791  8.72164131  0.68182707 14.51124151  0.63633032]\t -0.20390652817087931\t -0.27221173945271504\t 0.018002345981045362\t 0.05239366606452391\n",
            "21 \t [ 4.96181193  2.91089923  6.          0.69167509 15.          0.83383245]\t -0.18064895129039782\t -0.27221173945271504\t 0.026154639065624447\t 0.026154639065624447\n",
            "22 \t [ 3.36538587  9.88859923 13.          0.74640712 14.          0.34166583]\t -0.051223101116806904\t -0.27221173945271504\t 0.05411180540024859\t 0.05411180540024859\n",
            "23 \t [ 9.12770964  3.42251382 13.73136388  0.91122232  7.73136388  0.61945096]\t -0.20226976786939707\t -0.27221173945271504\t 0.03977058867353453\t 0.0714929333001643\n",
            "24 \t [ 3.63840397  4.59087663 11.65921211  0.67090354 12.97184857  0.52366569]\t -0.19805558750313518\t -0.27221173945271504\t 0.06374933626178216\t 0.07348470032286622\n",
            "25 \t [ 6.87134365  7.13868452  7.          0.57465027 13.          0.94386467]\t -0.2174251751148275\t -0.27221173945271504\t 0.032773576097171485\t 0.032773576097171485\n",
            "26 \t [ 3.21551212  3.04157433  6.          0.9055065  17.          0.2304952 ]\t 0.05581451245565692\t -0.27221173945271504\t 0.03914291830422519\t 0.03914291830422519\n",
            "27 \t [ 7.15040543  9.72926644 14.          0.63776297 15.          0.43073814]\t -0.14305933729428139\t -0.27221173945271504\t 0.033674850429348493\t 0.033674850429348493\n",
            "28 \t [ 5.29841112  4.74245374 11.          0.68146799 19.          0.79014882]\t -0.240547382653609\t -0.27221173945271504\t 0.05114284151888161\t 0.05114284151888161\n",
            "29 \t [ 9.6464663   0.98885701  8.          0.8054878  19.          0.70201828]\t -0.20796171111440823\t -0.27221173945271504\t 0.05492771098128677\t 0.05492771098128677\n",
            "30 \t [ 6.13227177  4.9471251  12.          0.70151646  5.          0.22031339]\t 0.054850144568836835\t -0.27221173945271504\t 0.04659766282498747\t 0.04659766282498747\n"
          ]
        },
        {
          "output_type": "execute_result",
          "data": {
            "text/plain": [
              "51200.10831852318"
            ]
          },
          "metadata": {},
          "execution_count": 49
        }
      ]
    },
    {
      "cell_type": "code",
      "metadata": {
        "id": "9UroEj_RbLSb",
        "colab": {
          "base_uri": "https://localhost:8080/"
        },
        "outputId": "cbe48519-a7db-481d-ca37-6af271399e8e"
      },
      "source": [
        "### Bayesian optimization runs (x20): 'exact' Acquisition Function run number = 9 \n",
        "\n",
        "np.random.seed(run_num_9)\n",
        "surrogate_exact_9 = dtStudentProcess(cov_func, optimize=opt, nu = df)\n",
        "\n",
        "X_train9, X_test9, y_train9, y_test9 = train_test_split(X, y, test_size=test_perc, random_state=run_num_9)\n",
        "\n",
        "def f_syn_polarity9(alpha, gamma, max_depth, subsample, min_child_weight, colsample):\n",
        "    reg = XGBRegressor(reg_alpha=alpha, gamma=gamma, max_depth=int(max_depth), subsample=subsample, min_child_weight=min_child_weight,\n",
        "          colsample_bytree=colsample, n_estimators = n_est, random_state=run_num_9, objective = 'reg:squarederror')\n",
        "    score = np.array(cross_val_score(reg, X=X_train9, y=y_train9).mean())\n",
        "    return operator * score\n",
        "\n",
        "exact_9 = dGPGO(surrogate_exact_9, Acquisition_grad(util), f_syn_polarity9, param, n_jobs = -1) # Define BayesOpt\n",
        "exact_9.run(max_iter = max_iter, init_evals = n_init) # run\n",
        "\n",
        "### Return optimal parameters' set:\n",
        "params_exact_9 = exact_9.getResult()[0]\n",
        "params_exact_9['max_depth'] = int(params_exact_9['max_depth'])\n",
        "params_exact_9['min_child_weight'] = int(params_exact_9['min_child_weight'])\n",
        "\n",
        "### Re-train with optimal parameters, run predictons:\n",
        "dX_exact_train9 = xgb.DMatrix(X_train9, y_train9)\n",
        "dX_exact_test9 = xgb.DMatrix(X_test9, y_test9)\n",
        "model_exact_9 = xgb.train(params_exact_9, dX_exact_train9)\n",
        "pred_exact_9 = model_exact_9.predict(dX_exact_test9)\n",
        "\n",
        "rmse_exact_9 = np.sqrt(mean_squared_error(pred_exact_9, y_test9))\n",
        "rmse_exact_9"
      ],
      "execution_count": null,
      "outputs": [
        {
          "output_type": "stream",
          "name": "stdout",
          "text": [
            "Evaluation \t Proposed point \t  Current eval. \t  Best eval. \t         Max. ExactAcqFunc \t Max. ApproxAcqFunc \n",
            "init\t [ 0.10374154  5.01874592 11.          0.50377155  2.          0.29670281]\t -0.019717608908007823\t -0.2785418431036636\t    \t    \n",
            "init\t [ 4.18508181  2.48101168 13.          0.69794293  2.          0.25009871]\t -0.018650671836447353\t -0.2785418431036636\t    \t    \n",
            "init\t [ 8.78559086  9.50964032 13.          0.98395204 11.          0.90820641]\t -0.2785418431036636\t -0.2785418431036636\t    \t    \n",
            "init\t [ 6.66898973  5.47837783  6.          0.97165345 12.          0.72499481]\t -0.17934492858364784\t -0.2785418431036636\t    \t    \n",
            "init\t [ 8.24870465  4.65668475 13.          0.68760467  9.          0.98502332]\t -0.26955240780936573\t -0.2785418431036636\t    \t    \n",
            "1  \t [ 4.7356788   4.41653184 12.          0.72177191  3.          0.40587078]\t -0.10289299546256037\t -0.2785418431036636\t 0.028242109989785807\t 0.028246235662721827\n",
            "2  \t [ 6.73288776  5.50533795  8.          0.58701646 14.          0.2964145 ]\t -0.0323841043438259\t -0.2785418431036636\t 0.024525632956773454\t 0.02452563320436904\n",
            "3  \t [ 8.54860794  9.54933272 14.06573561  1.         11.51376292  1.        ]\t -0.2670047317847391\t -0.2785418431036636\t 0.032150339029268095\t 0.03411655634001515\n",
            "4  \t [ 8.53928981  3.70219562 14.          0.60595441  6.          0.88155948]\t -0.2635558986422029\t -0.2785418431036636\t 0.020268429223270722\t 0.03203476010100702\n",
            "5  \t [ 9.44032712  8.82410194 13.20443109  0.80419531 12.20443109  0.79036993]\t -0.2718794190028456\t -0.2785418431036636\t 0.03562360685289026\t 0.04770613758940895\n",
            "6  \t [10.         10.         14.36925623  1.         11.36925623  1.        ]\t -0.267004436178206\t -0.2785418431036636\t 0.034213275049257384\t 0.07432168833481802\n",
            "7  \t [10.          8.86254069 15.          1.         12.32976302  1.        ]\t -0.2689934861441527\t -0.2785418431036636\t 0.03444646576682935\t 0.04147211440190379\n",
            "8  \t [ 9.47256602  5.99692767 13.          0.71445965  8.          0.75288297]\t -0.2678545184437357\t -0.2785418431036636\t 0.027684928780994968\t 0.041201808081142294\n",
            "9  \t [ 7.39075301  7.06675215 14.          0.66505674 10.          0.90226237]\t -0.2691653264643003\t -0.2785418431036636\t 0.02667880173402579\t 0.06508154721564538\n",
            "10 \t [ 9.83235719  5.07008693 12.58994238  0.8136499   8.94846519  0.80520782]\t -0.2713941685314637\t -0.2785418431036636\t 0.04615378475681035\t 0.1026444640179245\n",
            "11 \t [ 9.21563187  9.9405068  12.49371889  1.         12.49371889  1.        ]\t -0.2659096757150075\t -0.2785418431036636\t 0.04020862855910981\t 0.1019836942509249\n",
            "12 \t [ 7.16132287  4.89180695  5.          0.75712601 12.          0.38977721]\t -0.07441771807972816\t -0.2785418431036636\t 0.030866406605791142\t 0.08295146824408244\n",
            "13 \t [ 9.37166205  4.68289732 10.          0.53965276  6.          0.18075314]\t 0.12752531111966908\t -0.2785418431036636\t 0.02489526325057974\t 0.08140290583165362\n",
            "14 \t [ 8.94948083  8.98366256 12.74202878  1.         12.33988876  1.        ]\t -0.2659155164530424\t -0.2785418431036636\t 0.044066276910908704\t 0.10402728184589666\n",
            "15 \t [ 8.67606871 10.         15.          1.         13.12908965  1.        ]\t -0.2683224163249256\t -0.2785418431036636\t 0.029507712535139934\t 0.10104616493097156\n",
            "16 \t [ 9.86865757  6.18787164 14.          0.59403128 10.          0.97080054]\t -0.26359675954670864\t -0.2785418431036636\t 0.02831619325053875\t 0.10508422707205892\n",
            "17 \t [ 9.28367326  9.57955949 11.50774818  1.         13.48650597  0.66274179]\t -0.23654299634684026\t -0.2785418431036636\t 0.02856604705763208\t 0.10540632793805971\n",
            "18 \t [ 9.80628022  9.02560792 14.27745269  1.         13.39077581  0.56645914]\t -0.21745954202222856\t -0.2785418431036636\t 0.042974512252153534\t 0.10033051135415183\n",
            "19 \t [ 9.88091199  5.70396469 14.06818259  0.94639797  7.06818259  0.1821887 ]\t 0.12348599845427724\t -0.2785418431036636\t 0.03974969901078767\t 0.0904066868167457\n",
            "20 \t [ 9.71982677  8.82337867 14.          0.54793326 14.          0.7096773 ]\t -0.23286960745209226\t -0.2785418431036636\t 0.03936138074622284\t 0.047518784650135176\n",
            "21 \t [ 9.28345479  7.94024652 14.4053299   0.80736206 14.66287817  0.73241098]\t -0.24639159675264183\t -0.2785418431036636\t 0.0703920625496647\t 0.0803398755687733\n",
            "22 \t [ 0.3768638   0.98456584  9.          0.99441364 13.          0.49763585]\t -0.11578962315774832\t -0.2785418431036636\t 0.057316744195974524\t 0.057316744195974524\n",
            "23 \t [ 9.63735816  9.20990094 14.40418147  0.86481512 12.41959453  0.49603754]\t -0.11407033900273722\t -0.2785418431036636\t 0.12350898015143501\t 0.14809922274353957\n",
            "24 \t [ 9.46217307  6.57211674 13.72390514  0.9773953   7.75396897  0.72752746]\t -0.24695636251167996\t -0.2785418431036636\t 0.06993892150270901\t 0.09915479625601092\n",
            "25 \t [ 9.18549591  3.61285198 14.          0.64218493 10.          0.64889306]\t -0.239007853266183\t -0.2785418431036636\t 0.05957266509020059\t 0.08082596278929555\n",
            "26 \t [ 8.72867539  2.82996439 14.          0.82175888 11.          0.30329733]\t -0.031887369930361564\t -0.2785418431036636\t 0.055072811693593605\t 0.06635620979749066\n",
            "27 \t [ 8.65000456  6.10525769 13.          0.90667241  9.          0.36373907]\t -0.03290773777704388\t -0.2785418431036636\t 0.0676945861832497\t 0.07357296391327577\n",
            "28 \t [3.83388461 2.85611667 7.         0.74640655 5.         0.27473638]\t -0.030222579614209953\t -0.2785418431036636\t 0.06175297486178155\t 0.06175297486178155\n",
            "29 \t [ 5.3574592   5.42167977 11.          0.80739246  3.          0.15190636]\t 0.12501032280657612\t -0.2785418431036636\t 0.05412756729088133\t 0.05412756875390035\n",
            "30 \t [ 0.71982943  1.64712597  8.          0.95730675 13.          0.62848123]\t -0.2226427725278855\t -0.2785418431036636\t 0.04397227903265456\t 0.04723048069565829\n"
          ]
        },
        {
          "output_type": "execute_result",
          "data": {
            "text/plain": [
              "48075.00995818073"
            ]
          },
          "metadata": {},
          "execution_count": 50
        }
      ]
    },
    {
      "cell_type": "code",
      "metadata": {
        "id": "7VgaJOoJbOIE",
        "colab": {
          "base_uri": "https://localhost:8080/"
        },
        "outputId": "3ebfab9c-069e-4bb1-f07d-159a05a600ca"
      },
      "source": [
        "### Bayesian optimization runs (x20): 'exact' Acquisition Function run number = 10 \n",
        "\n",
        "np.random.seed(run_num_10)\n",
        "surrogate_exact_10 = dtStudentProcess(cov_func, optimize=opt, nu = df)\n",
        "\n",
        "X_train10, X_test10, y_train10, y_test10 = train_test_split(X, y, test_size=test_perc, random_state=run_num_10)\n",
        "\n",
        "def f_syn_polarity10(alpha, gamma, max_depth, subsample, min_child_weight, colsample):\n",
        "    reg = XGBRegressor(reg_alpha=alpha, gamma=gamma, max_depth=int(max_depth), subsample=subsample, min_child_weight=min_child_weight,\n",
        "          colsample_bytree=colsample, n_estimators = n_est, random_state=run_num_10, objective = 'reg:squarederror')\n",
        "    score = np.array(cross_val_score(reg, X=X_train10, y=y_train10).mean())\n",
        "    return operator * score\n",
        "\n",
        "exact_10 = dGPGO(surrogate_exact_10, Acquisition_grad(util), f_syn_polarity10, param, n_jobs = -1) # Define BayesOpt\n",
        "exact_10.run(max_iter = max_iter, init_evals = n_init) # run\n",
        "\n",
        "### Return optimal parameters' set:\n",
        "params_exact_10 = exact_10.getResult()[0]\n",
        "params_exact_10['max_depth'] = int(params_exact_10['max_depth'])\n",
        "params_exact_10['min_child_weight'] = int(params_exact_10['min_child_weight'])\n",
        "\n",
        "### Re-train with optimal parameters, run predictons:\n",
        "dX_exact_train10 = xgb.DMatrix(X_train10, y_train10)\n",
        "dX_exact_test10 = xgb.DMatrix(X_test10, y_test10)\n",
        "model_exact_10 = xgb.train(params_exact_10, dX_exact_train10)\n",
        "pred_exact_10 = model_exact_10.predict(dX_exact_test10)\n",
        "\n",
        "rmse_exact_10 = np.sqrt(mean_squared_error(pred_exact_10, y_test10))\n",
        "rmse_exact_10"
      ],
      "execution_count": null,
      "outputs": [
        {
          "output_type": "stream",
          "name": "stdout",
          "text": [
            "Evaluation \t Proposed point \t  Current eval. \t  Best eval. \t         Max. ExactAcqFunc \t Max. ApproxAcqFunc \n",
            "init\t [ 7.71320643  0.20751949  5.          0.72150747 17.          0.12265456]\t 0.0350749555997862\t -0.25870937338076144\t    \t    \n",
            "init\t [ 7.0920801   2.65566127 13.          0.57518893 17.          0.83494165]\t -0.25870937338076144\t -0.25870937338076144\t    \t    \n",
            "init\t [ 3.36071584  8.90816531  6.          0.86087766 15.          0.75469196]\t -0.20394230168800664\t -0.25870937338076144\t    \t    \n",
            "init\t [ 5.40880931  1.31458152  8.          0.57108502 14.          0.62551123]\t -0.22600169453661217\t -0.25870937338076144\t    \t    \n",
            "init\t [1.82631436 8.26082248 6.         0.80888349 5.         0.15900694]\t 0.03489450960148628\t -0.25870937338076144\t    \t    \n",
            "1  \t [ 6.7244911   0.77055265 10.          0.67779069 14.          0.63914662]\t -0.2417467767778893\t -0.25870937338076144\t 0.026933196430874315\t 0.026933196430874315\n",
            "2  \t [ 6.38035081  0.09221102  8.          0.85576791 15.          0.48029703]\t -0.19086745736465466\t -0.25870937338076144\t 0.030850930359251627\t 0.04044183948099551\n",
            "3  \t [ 8.07866533  2.74067589  9.          0.98481674 13.          0.45947386]\t -0.19729859182923967\t -0.25870937338076144\t 0.028739275751850014\t 0.06467349038849972\n",
            "\u001b[1m\u001b[92m4\u001b[0m\t \u001b[1m\u001b[92m[ 6.15310242  2.98080059 14.31479176  1.         16.31479176  1.        ]\u001b[0m\t \u001b[1m\u001b[92m-0.27444294815206594\u001b[0m\t \u001b[1m\u001b[92m-0.27444294815206594\u001b[0m\t \u001b[1m\u001b[92m0.03422255325999312\u001b[0m\t \u001b[1m\u001b[92m0.06540791928891125\u001b[0m\n",
            "5  \t [ 3.24817631  8.17788934  6.01744214  0.59811447 14.01744214  0.52734884]\t -0.18443723254696293\t -0.27444294815206594\t 0.03467530405819533\t 0.06623358428166438\n",
            "6  \t [ 7.20502035  2.13256072  8.          0.92877104 16.          0.97564307]\t -0.26263808041021214\t -0.27444294815206594\t 0.02757749237117419\t 0.058380557592963914\n",
            "7  \t [ 6.30833632  1.83148228 11.          0.50206423 13.          0.44765102]\t -0.18916143026930654\t -0.27444294815206594\t 0.033475694862345244\t 0.06633773103629792\n",
            "8  \t [ 9.30357691  3.13039949  9.50528373  0.7816197  12.92344343  0.47468831]\t -0.19319577948263822\t -0.27444294815206594\t 0.03266177378541022\t 0.06541133572361582\n",
            "9  \t [ 7.45689104  0.71688844  9.          0.60159473 15.          0.36127525]\t -0.1137652093905264\t -0.27444294815206594\t 0.04088950141865339\t 0.05977194539497992\n",
            "10 \t [ 5.96620096  0.45340133 12.19609436  1.         13.19609436  0.60027831]\t -0.1596710304953507\t -0.27444294815206594\t 0.027245839705202966\t 0.054173379289994106\n",
            "11 \t [ 8.57047921  1.91064728 10.03075811  0.61598269 13.03075811  0.3759255 ]\t -0.19226780254041737\t -0.27444294815206594\t 0.033566518428934204\t 0.05173141919199018\n",
            "12 \t [ 3.97675174  8.17485787  7.20823494  0.90916905 14.20823494  1.        ]\t -0.23296806719236346\t -0.27444294815206594\t 0.027676499017417096\t 0.06054154408010458\n",
            "13 \t [ 9.75124576  3.13122364 10.68272443  0.81015256 13.50544642  0.84370802]\t -0.2645004527682748\t -0.27444294815206594\t 0.025663993314913505\t 0.06057992246770402\n",
            "14 \t [ 2.41762381  8.7391454   7.93220944  0.99806137 15.30179752  0.69364136]\t -0.21924068267903118\t -0.27444294815206594\t 0.026530882526731043\t 0.061414502770044954\n",
            "15 \t [ 5.77678314  2.75350421  8.32241115  0.80787327 14.07866171  0.58523434]\t -0.22318044593729577\t -0.27444294815206594\t 0.03078095524626665\t 0.06162121174673763\n",
            "16 \t [ 2.89966458  7.79508966  7.13358994  0.76639146 16.13358994  0.65963838]\t -0.2133336701035701\t -0.27444294815206594\t 0.031575808080604235\t 0.061322300125019685\n",
            "17 \t [ 6.60545013  3.91333175  8.29930313  0.87013663 14.0516526   0.76306865]\t -0.24996366633301167\t -0.27444294815206594\t 0.02776528424953927\t 0.06414635917705656\n",
            "18 \t [ 6.37713453  1.26287282  7.92293028  1.         15.92293028  0.91605418]\t -0.23605019622272505\t -0.27444294815206594\t 0.04257509880084359\t 0.06453211891115472\n",
            "19 \t [ 8.82071545  3.29124519  9.          0.74432536 11.          0.47194474]\t -0.1918341946594239\t -0.27444294815206594\t 0.0362117790639458\t 0.0362117790639458\n",
            "\u001b[1m\u001b[92m20\u001b[0m\t \u001b[1m\u001b[92m[ 6.58414255  2.08657028 11.26144305  1.         12.46919447  0.88058034]\u001b[0m\t \u001b[1m\u001b[92m-0.2747653172349821\u001b[0m\t \u001b[1m\u001b[92m-0.2747653172349821\u001b[0m\t \u001b[1m\u001b[92m0.058829238410232715\u001b[0m\t \u001b[1m\u001b[92m0.06505241903933359\u001b[0m\n",
            "21 \t [ 5.7294971   0.66748044 14.          0.87589892 13.          0.68663556]\t -0.2516061692314906\t -0.2747653172349821\t 0.05924490813829027\t 0.05924490813829027\n",
            "22 \t [ 9.93589724  2.50925722 10.          0.73371299 12.          0.27380248]\t -0.11597074710635902\t -0.2747653172349821\t 0.05327914354268436\t 0.05852466026461167\n",
            "23 \t [ 4.47904571  7.44453499  8.          0.5680222  13.          0.63024624]\t -0.22596177226125827\t -0.2747653172349821\t 0.047166068637877465\t 0.047166068637877465\n",
            "24 \t [ 8.37963964  3.7334235   8.54972873  1.         12.6208233   0.84669939]\t -0.2477374844073153\t -0.2747653172349821\t 0.059437357491783284\t 0.07750547388359201\n",
            "25 \t [ 5.44934273  1.91081351 10.          0.54717653 15.          0.43913678]\t -0.18979251856963567\t -0.2747653172349821\t 0.03147299074057232\t 0.056552465479007594\n",
            "26 \t [ 5.91840753  2.55076429  9.93334052  0.67875487 14.08150561  0.87608495]\t -0.26486606739583146\t -0.2747653172349821\t 0.06467672729360312\t 0.07356493890735104\n",
            "27 \t [ 8.4662657   4.43414414  9.          0.87315205 12.          0.38094136]\t -0.19447489790603728\t -0.2747653172349821\t 0.05251782003710856\t 0.07068376376993861\n",
            "28 \t [ 6.49989595  3.39908038 14.63421141  1.         16.1367679   1.        ]\t -0.27444841849633067\t -0.2747653172349821\t 0.05174311380137083\t 0.06920657645463095\n",
            "29 \t [ 8.08815513  1.52295882  8.52318367  0.66015133 14.45581755  0.50447305]\t -0.21834526601695953\t -0.2747653172349821\t 0.037069146168690344\t 0.04798499954634288\n",
            "30 \t [ 9.44119737  4.83052802 12.          0.87311968 19.          0.35147834]\t -0.11835268079184653\t -0.2747653172349821\t 0.0636048349463975\t 0.0636048349463975\n"
          ]
        },
        {
          "output_type": "execute_result",
          "data": {
            "text/plain": [
              "50372.44072702377"
            ]
          },
          "metadata": {},
          "execution_count": 51
        }
      ]
    },
    {
      "cell_type": "code",
      "metadata": {
        "id": "51z87uHWbRGr",
        "colab": {
          "base_uri": "https://localhost:8080/"
        },
        "outputId": "84de8359-95cc-4f9a-b753-648e0111fd0a"
      },
      "source": [
        "### Bayesian optimization runs (x20): 'exact' Acquisition Function run number = 11 \n",
        "\n",
        "np.random.seed(run_num_11)\n",
        "surrogate_exact_11 = dtStudentProcess(cov_func, optimize=opt, nu = df)\n",
        "\n",
        "X_train11, X_test11, y_train11, y_test11 = train_test_split(X, y, test_size=test_perc, random_state=run_num_11)\n",
        "\n",
        "def f_syn_polarity11(alpha, gamma, max_depth, subsample, min_child_weight, colsample):\n",
        "    reg = XGBRegressor(reg_alpha=alpha, gamma=gamma, max_depth=int(max_depth), subsample=subsample, min_child_weight=min_child_weight,\n",
        "          colsample_bytree=colsample, n_estimators = n_est, random_state=run_num_11, objective = 'reg:squarederror')\n",
        "    score = np.array(cross_val_score(reg, X=X_train11, y=y_train11).mean())\n",
        "    return operator * score\n",
        "\n",
        "exact_11 = dGPGO(surrogate_exact_11, Acquisition_grad(util), f_syn_polarity11, param, n_jobs = -1) # Define BayesOpt\n",
        "exact_11.run(max_iter = max_iter, init_evals = n_init) # run\n",
        "\n",
        "### Return optimal parameters' set:\n",
        "params_exact_11 = exact_11.getResult()[0]\n",
        "params_exact_11['max_depth'] = int(params_exact_11['max_depth'])\n",
        "params_exact_11['min_child_weight'] = int(params_exact_11['min_child_weight'])\n",
        "\n",
        "### Re-train with optimal parameters, run predictons:\n",
        "dX_exact_train11 = xgb.DMatrix(X_train11, y_train11)\n",
        "dX_exact_test11 = xgb.DMatrix(X_test11, y_test11)\n",
        "model_exact_11 = xgb.train(params_exact_11, dX_exact_train11)\n",
        "pred_exact_11 = model_exact_11.predict(dX_exact_test11)\n",
        "\n",
        "rmse_exact_11 = np.sqrt(mean_squared_error(pred_exact_11, y_test11))\n",
        "rmse_exact_11"
      ],
      "execution_count": null,
      "outputs": [
        {
          "output_type": "stream",
          "name": "stdout",
          "text": [
            "Evaluation \t Proposed point \t  Current eval. \t  Best eval. \t         Max. ExactAcqFunc \t Max. ApproxAcqFunc \n",
            "init\t [ 1.80269689  0.19475241  6.          0.59705781 13.          0.47818324]\t -0.10452827211752527\t -0.23842076500548512\t    \t    \n",
            "init\t [ 4.85427098  0.12780815  5.          0.91309068 14.          0.86571558]\t -0.1728713310140717\t -0.23842076500548512\t    \t    \n",
            "init\t [ 7.2996447   1.08736072 10.          0.92857712 18.          0.66910061]\t -0.23842076500548512\t -0.23842076500548512\t    \t    \n",
            "init\t [ 0.20483613  1.16737269  7.          0.57895615 16.          0.83644782]\t -0.2257485504188868\t -0.23842076500548512\t    \t    \n",
            "init\t [ 3.44624491  3.18798797 14.          0.54197657 15.          0.63958906]\t -0.22885928086884694\t -0.23842076500548512\t    \t    \n",
            "1  \t [ 3.19367707  0.70382595  5.          0.96192493 15.          0.91486029]\t -0.18142627205535547\t -0.23842076500548512\t 0.04051885884443808\t 0.04517527959921266\n",
            "2  \t [ 4.25985596  3.59762255 13.45115135  1.         14.45115135  0.51574958]\t -0.13480028158643423\t -0.23842076500548512\t 0.045906939638698595\t 0.04823526035283314\n",
            "3  \t [ 3.25134754  2.00913232 13.          0.94248345 17.          0.44944391]\t -0.14662881851978582\t -0.23842076500548512\t 0.030718248877383215\t 0.04443011998378351\n",
            "4  \t [ 3.75842379  3.34222655 12.35040768  1.         16.38221903  0.41532143]\t -0.10578645600475729\t -0.23842076500548512\t 0.034143647293686116\t 0.04629976472013601\n",
            "5  \t [ 1.84612557  2.67231658  6.          0.74512658 15.          0.20777621]\t 0.17044469564230003\t -0.23842076500548512\t 0.026318968369877623\t 0.04377033210742952\n",
            "6  \t [ 7.19683306  2.28448897  9.27124828  1.         18.27124828  0.54637161]\t -0.12844709501009868\t -0.23842076500548512\t 0.03489915176238213\t 0.044352604618839796\n",
            "\u001b[1m\u001b[92m7\u001b[0m\t \u001b[1m\u001b[92m[ 2.79142768  0.83424819 14.          0.87595062 18.          0.69818129]\u001b[0m\t \u001b[1m\u001b[92m-0.23940289933898673\u001b[0m\t \u001b[1m\u001b[92m-0.23940289933898673\u001b[0m\t \u001b[1m\u001b[92m0.02498284555227867\u001b[0m\t \u001b[1m\u001b[92m0.041601561468367076\u001b[0m\n",
            "\u001b[1m\u001b[92m8\u001b[0m\t \u001b[1m\u001b[92m[ 0.62601385  1.63625449  8.          0.52579982 17.          0.96897744]\u001b[0m\t \u001b[1m\u001b[92m-0.24799809633818964\u001b[0m\t \u001b[1m\u001b[92m-0.24799809633818964\u001b[0m\t \u001b[1m\u001b[92m0.03240331813280951\u001b[0m\t \u001b[1m\u001b[92m0.0418916384634307\u001b[0m\n",
            "9  \t [ 7.44774882  3.2857689  12.          0.57381528 16.          0.57457109]\t -0.18611936335756274\t -0.24799809633818964\t 0.024575118133511417\t 0.03994962467740065\n",
            "\u001b[1m\u001b[92m10\u001b[0m\t \u001b[1m\u001b[92m[ 3.76238472  3.03299235 12.36701073  0.69742576 14.36701073  1.        ]\u001b[0m\t \u001b[1m\u001b[92m-0.2712942149381988\u001b[0m\t \u001b[1m\u001b[92m-0.2712942149381988\u001b[0m\t \u001b[1m\u001b[92m0.029220009011015367\u001b[0m\t \u001b[1m\u001b[92m0.05141899687789484\u001b[0m\n",
            "11 \t [ 6.65518413  2.7356708  11.1369865   0.90328188 17.1369865   0.52203685]\t -0.19616636457975783\t -0.2712942149381988\t 0.029756609398484467\t 0.04294091656428518\n",
            "12 \t [ 3.53867836  2.58042032 11.69796284  0.91158858 13.69796284  0.82518637]\t -0.26196815196162976\t -0.2712942149381988\t 0.03231491704950328\t 0.05519231718592996\n",
            "13 \t [ 4.52817971  2.25005344 13.45917149  0.69948527 14.5064662   0.3520039 ]\t -0.019526688769810563\t -0.2712942149381988\t 0.030806881264161378\t 0.04911067386318671\n",
            "\u001b[1m\u001b[92m14\u001b[0m\t \u001b[1m\u001b[92m[ 6.5988932   2.75716861 11.87682561  0.81194793 16.08606786  0.91878949]\u001b[0m\t \u001b[1m\u001b[92m-0.27617962606397484\u001b[0m\t \u001b[1m\u001b[92m-0.27617962606397484\u001b[0m\t \u001b[1m\u001b[92m0.029527244516810422\u001b[0m\t \u001b[1m\u001b[92m0.046521670285180686\u001b[0m\n",
            "15 \t [ 5.76368258  3.4368748  11.          0.67884044 17.          0.40695002]\t -0.13850426720256853\t -0.27617962606397484\t 0.025385408858649757\t 0.04457881927527623\n",
            "16 \t [ 5.82031933  3.91105337 12.22617395  0.82601322 16.22617395  0.54341726]\t -0.19490632077378278\t -0.27617962606397484\t 0.0289418452950383\t 0.03773724963040837\n",
            "17 \t [ 7.46940498  2.98482808 13.0908462   0.77201553 14.0908462   0.79328981]\t -0.26007877321535655\t -0.27617962606397484\t 0.020331351922459325\t 0.042033796781284584\n",
            "18 \t [ 4.64460663  3.82284029 13.          0.82827879 17.          0.86634583]\t -0.2616682036679582\t -0.27617962606397484\t 0.030675407452111766\t 0.032131734292503725\n",
            "19 \t [ 2.2753558   2.28969393 14.          0.90872006 19.          0.33199698]\t -0.020805677057197693\t -0.27617962606397484\t 0.027625131027195104\t 0.039057359006431216\n",
            "20 \t [ 0.38298105  0.47581158  8.          0.94068677 19.          0.29096898]\t -0.02458252447784166\t -0.27617962606397484\t 0.023605223758048566\t 0.04232808930219159\n",
            "21 \t [ 7.17287955  4.9916464  13.          0.60690118 16.          0.53114182]\t -0.18686150181951022\t -0.27617962606397484\t 0.06155438454139306\t 0.06155438492144689\n",
            "22 \t [ 3.76413059  6.45557485 13.          0.51492722 14.          0.58868109]\t -0.1839342123623664\t -0.27617962606397484\t 0.055839767754114415\t 0.055839767754114415\n",
            "23 \t [ 0.74871008  0.89904108  7.01062464  0.58989323 16.01062464  0.54575498]\t -0.16914044646852655\t -0.27617962606397484\t 0.08333504607715804\t 0.08887515717559856\n",
            "24 \t [ 3.1808698   6.08364786 11.          0.83908038 16.          0.30036907]\t -0.021889572736571373\t -0.27617962606397484\t 0.05807150376532735\t 0.05807150376532735\n",
            "25 \t [ 7.78502351  3.76412283 11.          0.8166633  14.          0.85305779]\t -0.26088949030237385\t -0.27617962606397484\t 0.03198631956536138\t 0.04216514080540389\n",
            "26 \t [ 4.35725957  3.75495843 10.          0.8962831   7.          0.47601782]\t -0.14025674908058658\t -0.27617962606397484\t 0.07016122519868592\t 0.07016122519868592\n",
            "27 \t [ 2.55929599  1.40831769 14.          0.75924508 16.          0.28796011]\t -0.021714454303657416\t -0.27617962606397484\t 0.051317579311878164\t 0.051317579311878164\n",
            "\u001b[1m\u001b[92m28\u001b[0m\t \u001b[1m\u001b[92m[ 4.34012084  3.60059686 11.37145416  0.94173191 12.69236368  0.97511396]\u001b[0m\t \u001b[1m\u001b[92m-0.2789268693958204\u001b[0m\t \u001b[1m\u001b[92m-0.2789268693958204\u001b[0m\t \u001b[1m\u001b[92m0.04288976652441816\u001b[0m\t \u001b[1m\u001b[92m0.06783532325364293\u001b[0m\n",
            "29 \t [ 2.00797589  2.02123771  7.          0.96245921 17.          0.9986052 ]\t -0.24181171087950432\t -0.2789268693958204\t 0.039997485073563974\t 0.05087688425028028\n",
            "30 \t [ 6.27124475  1.890249   12.          0.79151295 18.          0.33799881]\t -0.023054181353477123\t -0.2789268693958204\t 0.06155019062549286\t 0.07600261206381839\n"
          ]
        },
        {
          "output_type": "execute_result",
          "data": {
            "text/plain": [
              "50573.44662431121"
            ]
          },
          "metadata": {},
          "execution_count": 52
        }
      ]
    },
    {
      "cell_type": "code",
      "metadata": {
        "id": "j8jZUeoWbTvn",
        "colab": {
          "base_uri": "https://localhost:8080/"
        },
        "outputId": "d006eaff-0e63-48ee-8366-dfafa4b7e460"
      },
      "source": [
        "### Bayesian optimization runs (x20): 'exact' Acquisition Function run number = 12\n",
        "\n",
        "np.random.seed(run_num_12)\n",
        "surrogate_exact_12 = dtStudentProcess(cov_func, optimize=opt, nu = df)\n",
        "\n",
        "X_train12, X_test12, y_train12, y_test12 = train_test_split(X, y, test_size=test_perc, random_state=run_num_12)\n",
        "\n",
        "def f_syn_polarity12(alpha, gamma, max_depth, subsample, min_child_weight, colsample):\n",
        "    reg = XGBRegressor(reg_alpha=alpha, gamma=gamma, max_depth=int(max_depth), subsample=subsample, min_child_weight=min_child_weight,\n",
        "          colsample_bytree=colsample, n_estimators = n_est, random_state=run_num_12, objective = 'reg:squarederror')\n",
        "    score = np.array(cross_val_score(reg, X=X_train12, y=y_train12).mean())\n",
        "    return operator * score\n",
        "\n",
        "exact_12 = dGPGO(surrogate_exact_12, Acquisition_grad(util), f_syn_polarity12, param, n_jobs = -1) # Define BayesOpt\n",
        "exact_12.run(max_iter = max_iter, init_evals = n_init) # run\n",
        "\n",
        "### Return optimal parameters' set:\n",
        "params_exact_12 = exact_12.getResult()[0]\n",
        "params_exact_12['max_depth'] = int(params_exact_12['max_depth'])\n",
        "params_exact_12['min_child_weight'] = int(params_exact_12['min_child_weight'])\n",
        "\n",
        "### Re-train with optimal parameters, run predictons:\n",
        "dX_exact_train12 = xgb.DMatrix(X_train12, y_train12)\n",
        "dX_exact_test12 = xgb.DMatrix(X_test12, y_test12)\n",
        "model_exact_12 = xgb.train(params_exact_12, dX_exact_train12)\n",
        "pred_exact_12 = model_exact_12.predict(dX_exact_test12)\n",
        "\n",
        "rmse_exact_12 = np.sqrt(mean_squared_error(pred_exact_12, y_test12))\n",
        "rmse_exact_12"
      ],
      "execution_count": null,
      "outputs": [
        {
          "output_type": "stream",
          "name": "stdout",
          "text": [
            "Evaluation \t Proposed point \t  Current eval. \t  Best eval. \t         Max. ExactAcqFunc \t Max. ApproxAcqFunc \n",
            "init\t [1.54162842 7.40049697 6.         0.54321714 4.         0.11311747]\t 0.09248222413972491\t -0.22106000670744913\t    \t    \n",
            "init\t [ 9.18747008  9.00714854 14.          0.97847467 11.          0.35544552]\t -0.09277012890077845\t -0.22106000670744913\t    \t    \n",
            "init\t [ 6.06083184  9.44225136 14.          0.95626942  5.          0.56910342]\t -0.1911022288119455\t -0.22106000670744913\t    \t    \n",
            "init\t [ 5.52037633  4.85377414  7.          0.97886436 17.          0.78810441]\t -0.22106000670744913\t -0.22106000670744913\t    \t    \n",
            "init\t [ 0.20809798  1.35210178  5.          0.65494879 16.          0.36062811]\t -0.06755802199028571\t -0.22106000670744913\t    \t    \n",
            "1  \t [ 4.02589148  7.86844465  8.          0.56837893 18.          0.23898889]\t 0.08660523403281446\t -0.22106000670744913\t 0.020631212998243588\t 0.02063121354588592\n",
            "2  \t [ 7.57473716  9.63637997 12.          0.83444517 10.          0.18761713]\t 0.08767780548539039\t -0.22106000670744913\t 0.01813484623487002\t 0.01813484623487002\n",
            "3  \t [ 4.11623908  6.6334167   5.          0.55963826 19.          0.14834292]\t 0.09624497023416759\t -0.22106000670744913\t 0.01637691215059646\t 0.01637691215059646\n",
            "4  \t [6.38266166 3.66323517 5.         0.6972131  9.         0.47709595]\t -0.11027996822049409\t -0.22106000670744913\t 0.015269132389827144\t 0.015269132389827144\n",
            "5  \t [ 5.83217552  8.53843574 11.          0.58549752 18.          0.26781236]\t -0.09239552231433901\t -0.22106000670744913\t 0.014755138282950699\t 0.014755138282950699\n",
            "\u001b[1m\u001b[92m6\u001b[0m\t \u001b[1m\u001b[92m[ 8.98233701  8.86516356 13.          0.87437284 10.          0.97353777]\u001b[0m\t \u001b[1m\u001b[92m-0.25268456335945366\u001b[0m\t \u001b[1m\u001b[92m-0.25268456335945366\u001b[0m\t \u001b[1m\u001b[92m0.01395269665675094\u001b[0m\t \u001b[1m\u001b[92m0.01395269665675094\u001b[0m\n",
            "\u001b[1m\u001b[92m7\u001b[0m\t \u001b[1m\u001b[92m[ 9.48671092  8.86845878 12.60249932  0.9821332  10.60249932  0.92208005]\u001b[0m\t \u001b[1m\u001b[92m-0.25327947968292824\u001b[0m\t \u001b[1m\u001b[92m-0.25327947968292824\u001b[0m\t \u001b[1m\u001b[92m0.027064360470313086\u001b[0m\t \u001b[1m\u001b[92m0.02851372623181284\u001b[0m\n",
            "8  \t [5.66130845 5.14409026 5.         0.5944158  6.         0.42908372]\t -0.1100786743624012\t -0.25327947968292824\t 0.014934026649181495\t 0.021961659023776694\n",
            "9  \t [ 4.9619989   5.09425566  6.82627408  1.         17.82627408  1.        ]\t -0.20038729711570813\t -0.25327947968292824\t 0.021071865056456272\t 0.02135713911516211\n",
            "10 \t [ 6.70666953  4.21407686  7.13187051  0.7382361  17.66357724  0.34457731]\t -0.08755111084361926\t -0.25327947968292824\t 0.01738007495272838\t 0.02268209311684857\n",
            "11 \t [ 8.66071965  4.96652703 12.          0.78684234 10.          0.75678888]\t -0.24970675944209475\t -0.25327947968292824\t 0.012734192143368562\t 0.012734192686984572\n",
            "12 \t [ 6.06725828  5.02835687  7.89304498  1.         18.89304498  1.        ]\t -0.2276221766163644\t -0.25327947968292824\t 0.018020155986699687\t 0.034801034559015516\n",
            "13 \t [6.1678268  5.3314748  6.42033852 1.         6.42033852 1.        ]\t -0.2044493393443676\t -0.25327947968292824\t 0.017734480669959193\t 0.042020582984600596\n",
            "14 \t [5.11576012 6.20454547 6.11395793 0.64408618 7.11395793 0.85284109]\t -0.19796598045554023\t -0.25327947968292824\t 0.021915817965306922\t 0.025181789061374246\n",
            "\u001b[1m\u001b[92m15\u001b[0m\t \u001b[1m\u001b[92m[ 7.97414877  5.89886066 12.23561041  1.          9.67759863  1.        ]\u001b[0m\t \u001b[1m\u001b[92m-0.27036376059743117\u001b[0m\t \u001b[1m\u001b[92m-0.27036376059743117\u001b[0m\t \u001b[1m\u001b[92m0.026438637417904223\u001b[0m\t \u001b[1m\u001b[92m0.04285313226208516\u001b[0m\n",
            "16 \t [ 0.36065791  1.60863914  5.          0.89631751 18.          0.90826797]\t -0.15582364173501687\t -0.27036376059743117\t 0.016460205582437902\t 0.03843380995765002\n",
            "17 \t [ 7.23842216  4.99531202 12.8060896   1.         10.903474    0.71612861]\t -0.2258170994469218\t -0.27036376059743117\t 0.021793789207295126\t 0.03846530406488866\n",
            "18 \t [ 6.833893    5.41905042 12.          0.9792313  12.          0.55277388]\t -0.19768116894274165\t -0.27036376059743117\t 0.019736226872503985\t 0.05867078405529667\n",
            "\u001b[1m\u001b[92m19\u001b[0m\t \u001b[1m\u001b[92m[10.          7.93333945 13.45972137  1.         10.89852759  0.98470091]\u001b[0m\t \u001b[1m\u001b[92m-0.275149754263189\u001b[0m\t \u001b[1m\u001b[92m-0.275149754263189\u001b[0m\t \u001b[1m\u001b[92m0.02532210015065552\u001b[0m\t \u001b[1m\u001b[92m0.06260578781887863\u001b[0m\n",
            "20 \t [ 8.50746042  5.82217198 11.19481248  0.88239372 10.66397016  0.58346347]\t -0.19637732671928848\t -0.275149754263189\t 0.06899136861579823\t 0.09040398802738372\n",
            "21 \t [ 7.6024546   6.3623269  13.          0.83897923 11.          0.32625642]\t -0.09255050203370548\t -0.275149754263189\t 0.025545284396777914\t 0.027045203945914826\n",
            "22 \t [ 6.4179551   4.90528799  7.          0.88495976 19.          0.76513066]\t -0.22291866602442\t -0.275149754263189\t 0.0645023628713258\t 0.0645023628713258\n",
            "23 \t [ 9.18009265  6.84352522 12.          0.70829812 10.          0.65152088]\t -0.21954413683063329\t -0.275149754263189\t 0.05901281765692335\t 0.0879819072648636\n",
            "24 \t [5.91771985 4.67090504 5.         0.91087571 6.         0.28115393]\t -0.06682325343017366\t -0.275149754263189\t 0.037950587555192185\t 0.043470724695641685\n",
            "25 \t [ 1.04159226  4.03780394  5.          0.9134339  15.          0.13519165]\t 0.09650967968039778\t -0.275149754263189\t 0.05719063844381107\t 0.05719063844381107\n",
            "26 \t [7.16088058 4.97333215 8.         0.81630506 6.         0.38815762]\t -0.14517865987374293\t -0.275149754263189\t 0.06896744754444514\t 0.06896744754444514\n",
            "27 \t [ 5.78202114  4.02951214  7.42447117  0.98411625 19.40369994  0.62757739]\t -0.19741235790953357\t -0.275149754263189\t 0.07050390326120681\t 0.09630298491946294\n",
            "28 \t [ 5.46846379  5.94158011  7.15689376  0.82425744 18.46720756  0.55855939]\t -0.1781639896028156\t -0.275149754263189\t 0.055336751487146014\t 0.06644770542861443\n",
            "29 \t [4.85059817 0.59059416 8.         0.66375786 6.         0.57600536]\t -0.18341406507164626\t -0.275149754263189\t 0.05754795563485445\t 0.05754795563485445\n",
            "30 \t [ 0.42138623  7.7269096  13.          0.72605204 19.          0.17338535]\t 0.08706842577900123\t -0.275149754263189\t 0.04596991781827813\t 0.04596991781827813\n"
          ]
        },
        {
          "output_type": "execute_result",
          "data": {
            "text/plain": [
              "51021.65463964297"
            ]
          },
          "metadata": {},
          "execution_count": 53
        }
      ]
    },
    {
      "cell_type": "code",
      "metadata": {
        "id": "snTrqE2RbWbe",
        "colab": {
          "base_uri": "https://localhost:8080/"
        },
        "outputId": "42a14391-6f7b-40a1-9458-3dba6ee4ca19"
      },
      "source": [
        "### Bayesian optimization runs (x20): 'exact' Acquisition Function run number = 13 \n",
        "\n",
        "np.random.seed(run_num_13)\n",
        "surrogate_exact_13 = dtStudentProcess(cov_func, optimize=opt, nu = df)\n",
        "\n",
        "X_train13, X_test13, y_train13, y_test13 = train_test_split(X, y, test_size=test_perc, random_state=run_num_13)\n",
        "\n",
        "def f_syn_polarity13(alpha, gamma, max_depth, subsample, min_child_weight, colsample):\n",
        "    reg = XGBRegressor(reg_alpha=alpha, gamma=gamma, max_depth=int(max_depth), subsample=subsample, min_child_weight=min_child_weight,\n",
        "          colsample_bytree=colsample, n_estimators = n_est, random_state=run_num_13, objective = 'reg:squarederror')\n",
        "    score = np.array(cross_val_score(reg, X=X_train13, y=y_train13).mean())\n",
        "    return operator * score\n",
        "\n",
        "exact_13 = dGPGO(surrogate_exact_13, Acquisition_grad(util), f_syn_polarity13, param, n_jobs = -1) # Define BayesOpt\n",
        "exact_13.run(max_iter = max_iter, init_evals = n_init) # run\n",
        "\n",
        "### Return optimal parameters' set:\n",
        "params_exact_13 = exact_13.getResult()[0]\n",
        "params_exact_13['max_depth'] = int(params_exact_13['max_depth'])\n",
        "params_exact_13['min_child_weight'] = int(params_exact_13['min_child_weight'])\n",
        "\n",
        "### Re-train with optimal parameters, run predictons:\n",
        "dX_exact_train13 = xgb.DMatrix(X_train13, y_train13)\n",
        "dX_exact_test13 = xgb.DMatrix(X_test13, y_test13)\n",
        "model_exact_13 = xgb.train(params_exact_13, dX_exact_train13)\n",
        "pred_exact_13 = model_exact_13.predict(dX_exact_test13)\n",
        "\n",
        "rmse_exact_13 = np.sqrt(mean_squared_error(pred_exact_13, y_test13))\n",
        "rmse_exact_13"
      ],
      "execution_count": null,
      "outputs": [
        {
          "output_type": "stream",
          "name": "stdout",
          "text": [
            "Evaluation \t Proposed point \t  Current eval. \t  Best eval. \t         Max. ExactAcqFunc \t Max. ApproxAcqFunc \n",
            "init\t [ 7.77702411  2.3754122  11.          0.94649135 13.          0.7827256 ]\t -0.2641613310589675\t -0.2641613310589675\t    \t    \n",
            "init\t [ 7.51661514  6.07343344 11.          0.69402149 11.          0.13153287]\t 0.28680303470666935\t -0.2641613310589675\t    \t    \n",
            "init\t [ 2.98449471  0.58512492 10.          0.73579614 12.          0.33065195]\t 0.07010925826999212\t -0.2641613310589675\t    \t    \n",
            "init\t [ 3.47581215  0.0941277  11.          0.86143432  8.          0.58454932]\t -0.16295931332811592\t -0.2641613310589675\t    \t    \n",
            "init\t [ 4.70137857  6.24432527 10.          0.8149145  18.          0.10784416]\t 0.28525565322508906\t -0.2641613310589675\t    \t    \n",
            "1  \t [ 7.07351664  0.82712043 11.          0.83684144  7.          0.55407602]\t -0.1603076832053938\t -0.2641613310589675\t 0.04402257489926925\t 0.04402257489926925\n",
            "2  \t [ 9.11005624  1.29753481 10.07031905  0.95042436 14.07031905  0.22724529]\t 0.2837348281888043\t -0.2641613310589675\t 0.04139103983243083\t 0.055482260269020776\n",
            "\u001b[1m\u001b[92m3\u001b[0m\t \u001b[1m\u001b[92m[ 9.26333258  2.96256092 11.          0.84894581 13.          0.87653633]\u001b[0m\t \u001b[1m\u001b[92m-0.2689360714939949\u001b[0m\t \u001b[1m\u001b[92m-0.2689360714939949\u001b[0m\t \u001b[1m\u001b[92m0.0440529563879406\u001b[0m\t \u001b[1m\u001b[92m0.0440529563879406\u001b[0m\n",
            "4  \t [3.15734697 2.10027989 9.40099401 0.98190701 7.77039464 0.26400047]\t 0.06417546396492271\t -0.2689360714939949\t 0.04457750147467878\t 0.08244147642699734\n",
            "5  \t [ 5.08669042  3.47362665 10.32063804  0.84693401 14.53338066  0.79545485]\t -0.25799032483585016\t -0.2689360714939949\t 0.039407178810817095\t 0.045088562794041116\n",
            "6  \t [ 5.79317062  0.83748631 11.          0.52014723  9.          0.76876452]\t -0.2456849524561761\t -0.2689360714939949\t 0.04242012913226222\t 0.04695959569232401\n",
            "7  \t [ 5.85601274  0.41338386 10.          0.5466935  17.          0.87128937]\t -0.24671312127397022\t -0.2689360714939949\t 0.04128411871113946\t 0.06186411337829483\n",
            "8  \t [ 5.39652091  3.27658989  9.50857986  0.74541537 16.88038942  0.56923463]\t -0.14997026003815964\t -0.2689360714939949\t 0.04397137242678419\t 0.08053708850980137\n",
            "9  \t [ 7.52703655  3.77904764 10.87087023  1.         13.03749737  0.99719967]\t -0.2640959107515942\t -0.2689360714939949\t 0.05659594004223949\t 0.06031101906630897\n",
            "10 \t [ 4.93003547  2.71506738 11.06686522  0.902184   16.86169513  0.51655933]\t -0.16339301619273244\t -0.2689360714939949\t 0.04393299910964117\t 0.09785932983125151\n",
            "11 \t [ 7.35998659  3.44056649 10.10132735  0.9349295  12.38494571  1.        ]\t -0.26657483189291087\t -0.2689360714939949\t 0.05370790023487397\t 0.09659991311477188\n",
            "12 \t [ 4.32051028  2.55308204 11.09698805  0.84156277 16.09698805  0.89494991]\t -0.26888473894279646\t -0.2689360714939949\t 0.03911220654134652\t 0.10229217517624752\n",
            "13 \t [ 6.56651011  2.05227493 14.          0.80113096 14.          0.60502985]\t -0.1618479537235043\t -0.2689360714939949\t 0.035032535625931005\t 0.10218275416728473\n",
            "14 \t [ 5.17007301  3.12624344  9.817859    0.93608358 15.60681138  0.71210019]\t -0.2353215122703137\t -0.2689360714939949\t 0.062121450122137524\t 0.1014549530892059\n",
            "15 \t [ 5.00853375  3.44998622 11.51689596  0.95109944 14.51689596  0.65139907]\t -0.2450948318429665\t -0.2689360714939949\t 0.04676804685036494\t 0.10011893577667894\n",
            "16 \t [ 9.42481463  2.32455035 11.07779791  0.99761931 12.07779791  0.64190464]\t -0.24504364622908575\t -0.2689360714939949\t 0.04422362778539836\t 0.09919003424575484\n",
            "17 \t [ 5.98937621  2.69743557 11.28333695  0.86847437 14.28333695  0.50250071]\t -0.16371783963238556\t -0.2689360714939949\t 0.04694101677565166\t 0.10029945993745368\n",
            "18 \t [ 7.38415005  3.96061619 10.96460595  1.         11.96460595  1.        ]\t -0.26747876290044503\t -0.2689360714939949\t 0.04137817677944476\t 0.09825599068660072\n",
            "19 \t [ 0.786033    9.84105109  9.          0.91945518 19.          0.21791409]\t 0.28362965485042463\t -0.2689360714939949\t 0.042611347678250276\t 0.042611347678250276\n",
            "20 \t [ 4.28421469  4.7761736  11.1398808   0.67201972 14.16986702  0.61853347]\t -0.15538372110046925\t -0.2689360714939949\t 0.04643235644849279\t 0.09371006030169708\n",
            "21 \t [ 9.34231251  4.02864243 11.          0.62937328 13.          0.6356956 ]\t -0.2350321778003457\t -0.2689360714939949\t 0.0787255630586696\t 0.09606779639394655\n",
            "22 \t [ 6.0539449   1.73735229 13.20886989  0.92398472 15.44645124  0.3645049 ]\t 0.06724639875813301\t -0.2689360714939949\t 0.08130630349171417\t 0.1321027586198515\n",
            "23 \t [ 4.22072481  3.19486195 11.          0.69670099 13.          0.21159504]\t 0.2867457021305428\t -0.2689360714939949\t 0.08509044099455754\t 0.08509044099455754\n",
            "24 \t [ 8.06084635  3.71988831 11.17799603  0.88714471 12.17799603  0.65555546]\t -0.24215551258776954\t -0.2689360714939949\t 0.1058154580808908\t 0.13555406546250606\n",
            "25 \t [ 4.4155389   5.07048669 13.          0.72235176 15.          0.395461  ]\t -0.03034349324472212\t -0.2689360714939949\t 0.06433503316897836\t 0.07612240849291992\n",
            "26 \t [ 4.84469591  3.68281835 11.          0.65293391 16.          0.24534036]\t 0.28627506508506045\t -0.2689360714939949\t 0.0662596656776474\t 0.06625966659594075\n",
            "27 \t [ 8.09528142  1.39150052 12.          0.83538636  7.          0.34189645]\t 0.07407479879435655\t -0.2689360714939949\t 0.06425043705976356\t 0.06466021604378551\n",
            "28 \t [ 7.320344    4.35977935 12.          0.53721852 12.          0.60416364]\t -0.15259406576162815\t -0.2689360714939949\t 0.05345390567754207\t 0.06338734136426248\n",
            "29 \t [ 6.78566188  0.98073099 11.          0.9117905  17.          0.72161469]\t -0.2425075497392438\t -0.2689360714939949\t 0.0636413630827074\t 0.0636413630827074\n",
            "30 \t [ 2.32893999  0.70568143 10.          0.95982734 18.          0.36824695]\t 0.06305721989820037\t -0.2689360714939949\t 0.05516938698307717\t 0.05516938698307717\n"
          ]
        },
        {
          "output_type": "execute_result",
          "data": {
            "text/plain": [
              "50111.537069091886"
            ]
          },
          "metadata": {},
          "execution_count": 54
        }
      ]
    },
    {
      "cell_type": "code",
      "metadata": {
        "id": "nAuEsXYbtOnC",
        "colab": {
          "base_uri": "https://localhost:8080/"
        },
        "outputId": "4073f15e-a42d-4d92-e0ae-3478ffad780a"
      },
      "source": [
        "### Bayesian optimization runs (x20): 'exact' Acquisition Function run number = 14 \n",
        "\n",
        "np.random.seed(run_num_14)\n",
        "surrogate_exact_14 = dtStudentProcess(cov_func, optimize=opt, nu = df)\n",
        "\n",
        "X_train14, X_test14, y_train14, y_test14 = train_test_split(X, y, test_size=test_perc, random_state=run_num_14)\n",
        "\n",
        "def f_syn_polarity14(alpha, gamma, max_depth, subsample, min_child_weight, colsample):\n",
        "    reg = XGBRegressor(reg_alpha=alpha, gamma=gamma, max_depth=int(max_depth), subsample=subsample, min_child_weight=min_child_weight,\n",
        "          colsample_bytree=colsample, n_estimators = n_est, random_state=run_num_14, objective = 'reg:squarederror')\n",
        "    score = np.array(cross_val_score(reg, X=X_train14, y=y_train14).mean())\n",
        "    return operator * score\n",
        "\n",
        "exact_14 = dGPGO(surrogate_exact_14, Acquisition_grad(util), f_syn_polarity14, param, n_jobs = -1) # Define BayesOpt\n",
        "exact_14.run(max_iter = max_iter, init_evals = n_init) # run\n",
        "\n",
        "### Return optimal parameters' set:\n",
        "params_exact_14 = exact_14.getResult()[0]\n",
        "params_exact_14['max_depth'] = int(params_exact_14['max_depth'])\n",
        "params_exact_14['min_child_weight'] = int(params_exact_14['min_child_weight'])\n",
        "\n",
        "### Re-train with optimal parameters, run predictons:\n",
        "dX_exact_train14 = xgb.DMatrix(X_train14, y_train14)\n",
        "dX_exact_test14 = xgb.DMatrix(X_test14, y_test14)\n",
        "model_exact_14 = xgb.train(params_exact_14, dX_exact_train14)\n",
        "pred_exact_14 = model_exact_14.predict(dX_exact_test14)\n",
        "\n",
        "rmse_exact_14 = np.sqrt(mean_squared_error(pred_exact_14, y_test14))\n",
        "rmse_exact_14"
      ],
      "execution_count": null,
      "outputs": [
        {
          "output_type": "stream",
          "name": "stdout",
          "text": [
            "Evaluation \t Proposed point \t  Current eval. \t  Best eval. \t         Max. ExactAcqFunc \t Max. ApproxAcqFunc \n",
            "init\t [ 5.13943344  7.73165052 12.          0.6831412  11.          0.37876233]\t -0.09032679245659181\t -0.24686294321368765\t    \t    \n",
            "init\t [ 9.57603739  5.13116712 14.          0.76959997 12.          0.71328228]\t -0.2383432061119965\t -0.24686294321368765\t    \t    \n",
            "init\t [5.34950319 2.47493539 5.         0.50293689 6.         0.29706373]\t 0.05606822386944312\t -0.24686294321368765\t    \t    \n",
            "init\t [ 2.94506579  3.45329697  8.          0.87620946 14.          0.9783044 ]\t -0.24686294321368765\t -0.24686294321368765\t    \t    \n",
            "init\t [ 1.11811929  1.73004086  5.          0.73745288 12.          0.20586008]\t 0.2850679884543654\t -0.24686294321368765\t    \t    \n",
            "1  \t [ 4.34197661  7.60557613 13.          0.85954801 11.          0.4707788 ]\t -0.09152367152803573\t -0.24686294321368765\t 0.03736467262045487\t 0.03736467262045487\n",
            "\u001b[1m\u001b[92m2\u001b[0m\t \u001b[1m\u001b[92m[ 2.4653627   9.65988408 12.          0.68666665 10.          0.94359848]\u001b[0m\t \u001b[1m\u001b[92m-0.2550500452682788\u001b[0m\t \u001b[1m\u001b[92m-0.2550500452682788\u001b[0m\t \u001b[1m\u001b[92m0.03152974021707327\u001b[0m\t \u001b[1m\u001b[92m0.04522399211230491\u001b[0m\n",
            "3  \t [ 4.08231099  9.17552052 12.          0.63056515 12.          0.62867207]\t -0.23402985715382404\t -0.2550500452682788\t 0.03672260523771423\t 0.050419518958507985\n",
            "4  \t [ 3.4758703   9.09624915 12.684151    1.          9.99582022  0.67375612]\t -0.20654983515502473\t -0.2550500452682788\t 0.05107126675202941\t 0.06605353104814236\n",
            "\u001b[1m\u001b[92m5\u001b[0m\t \u001b[1m\u001b[92m[ 3.12435844  9.08737283 14.          0.9506732  12.          0.97668233]\u001b[0m\t \u001b[1m\u001b[92m-0.26794458452966713\u001b[0m\t \u001b[1m\u001b[92m-0.26794458452966713\u001b[0m\t \u001b[1m\u001b[92m0.03513502039383503\u001b[0m\t \u001b[1m\u001b[92m0.06797433328629288\u001b[0m\n",
            "6  \t [ 4.00507502  7.54280358 13.61511286  1.         13.16690608  0.56015834]\t -0.18917722488965594\t -0.26794458452966713\t 0.03581703001120428\t 0.07682067574497185\n",
            "7  \t [ 3.91889761  3.99128667  6.80999639  1.         13.8065269   1.        ]\t -0.20735840618292323\t -0.26794458452966713\t 0.03812003612665547\t 0.042150722195740474\n",
            "8  \t [ 2.99613696  8.39551254 13.          0.86243381 14.          0.60234948]\t -0.1808862359945659\t -0.26794458452966713\t 0.03619792832235509\t 0.07258017111122703\n",
            "\u001b[1m\u001b[92m9\u001b[0m\t \u001b[1m\u001b[92m[ 3.85799979  9.29142585 12.40855921  1.         13.08328465  1.        ]\u001b[0m\t \u001b[1m\u001b[92m-0.2724494687937831\u001b[0m\t \u001b[1m\u001b[92m-0.2724494687937831\u001b[0m\t \u001b[1m\u001b[92m0.04608799842494501\u001b[0m\t \u001b[1m\u001b[92m0.0737863285995225\u001b[0m\n",
            "\u001b[1m\u001b[92m10\u001b[0m\t \u001b[1m\u001b[92m[ 3.08010487 10.         12.54894184  1.          9.54894184  1.        ]\u001b[0m\t \u001b[1m\u001b[92m-0.27306978127010095\u001b[0m\t \u001b[1m\u001b[92m-0.27306978127010095\u001b[0m\t \u001b[1m\u001b[92m0.04017705577352873\u001b[0m\t \u001b[1m\u001b[92m0.08688810422964807\u001b[0m\n",
            "11 \t [ 5.68753836  4.29152083  7.          0.51509664 13.          0.69140329]\t -0.20118501301826774\t -0.27306978127010095\t 0.027468377346089114\t 0.08540018356986025\n",
            "12 \t [ 3.46291819 10.         13.20067251  0.8326902  10.20067251  0.96686291]\t -0.26064404162919264\t -0.27306978127010095\t 0.04094415477876592\t 0.08544229774226816\n",
            "\u001b[1m\u001b[92m13\u001b[0m\t \u001b[1m\u001b[92m[ 2.99365658  8.73892364 14.2274314   1.         13.2274314   1.        ]\u001b[0m\t \u001b[1m\u001b[92m-0.27361230428647976\u001b[0m\t \u001b[1m\u001b[92m-0.27361230428647976\u001b[0m\t \u001b[1m\u001b[92m0.0428626611080627\u001b[0m\t \u001b[1m\u001b[92m0.08311809654235666\u001b[0m\n",
            "14 \t [ 4.20614397  3.9042046   7.73312699  1.         14.37871505  1.        ]\t -0.23254204643244786\t -0.27361230428647976\t 0.037482901765712624\t 0.09030561213456458\n",
            "15 \t [ 4.7282913  10.         15.          1.         11.58919682  1.        ]\t -0.2722237074621715\t -0.27361230428647976\t 0.025018035114586\t 0.08922416693849429\n",
            "16 \t [ 4.25989059  9.76743192 13.7298584   0.98829258 11.7298584   1.        ]\t -0.27319817300967014\t -0.27361230428647976\t 0.060078282345487684\t 0.08847468273374981\n",
            "17 \t [ 4.15053818  8.08558293 12.51234717  0.95407514 13.51234717  0.82255616]\t -0.2559261586929268\t -0.27361230428647976\t 0.03727258028469465\t 0.08998912104620221\n",
            "18 \t [ 3.73808609  9.51688242 11.08188013  0.82203685 13.70675661  0.72781623]\t -0.2424647276060849\t -0.27361230428647976\t 0.029588247368480976\t 0.09376255356588437\n",
            "19 \t [ 3.57066982  8.85721159 12.          0.78573885 12.          0.47065679]\t -0.09180910617467908\t -0.27361230428647976\t 0.034085534079328725\t 0.08647402651269691\n",
            "20 \t [ 4.31634476  2.90639611  8.72223562  0.74777129 15.30236913  0.83916093]\t -0.2320788997447357\t -0.27361230428647976\t 0.035426751797038504\t 0.0898841836357734\n",
            "21 \t [4.16561464 4.3151821  6.         0.76299318 2.         0.59049538]\t -0.1292188749142291\t -0.27361230428647976\t 0.08105354240760315\t 0.08105354240760315\n",
            "22 \t [ 4.29442306  7.05568445 13.15885231  0.65085726 13.15885231  1.        ]\t -0.2640908469077847\t -0.27361230428647976\t 0.07150129369746713\t 0.11716764897398906\n",
            "23 \t [ 3.03570576  8.9205621  12.          0.89768566  9.          0.68063347]\t -0.24241749368127322\t -0.27361230428647976\t 0.07451644927640406\t 0.07451644927640406\n",
            "24 \t [ 3.92425049  8.74993012 12.          0.91452421  8.          0.47444932]\t -0.09067488062299908\t -0.27361230428647976\t 0.06241319097182713\t 0.06241319097182713\n",
            "25 \t [ 4.46083536  4.15108263  7.99584297  1.         13.78473801  0.42979768]\t -0.0651030728310396\t -0.27361230428647976\t 0.08141979113581158\t 0.09317969783236672\n",
            "26 \t [ 3.94681257  9.74227097 13.07841989  1.         11.52683928  0.95736031]\t -0.27182776622442856\t -0.27361230428647976\t 0.08341271622303333\t 0.10042779398495337\n",
            "27 \t [ 3.37160133  2.47240502  8.12917079  1.         15.49347957  0.9824152 ]\t -0.24720454820784304\t -0.27361230428647976\t 0.07054244772054874\t 0.08785420874950929\n",
            "28 \t [ 8.16440635  3.57724702 11.          0.83367572  9.          0.82276147]\t -0.24964802496449146\t -0.27361230428647976\t 0.045496485811360836\t 0.045496485811360836\n",
            "29 \t [ 4.41165633  3.32831218  7.46683572  0.73055711 14.46683572  0.78062537]\t -0.21650985594629307\t -0.27361230428647976\t 0.06252772563902757\t 0.08362113050972776\n",
            "30 \t [ 4.82210694 10.         13.66512041  1.         11.5626157   1.        ]\t -0.27289714106584056\t -0.27361230428647976\t 0.09785032611008114\t 0.11162175225550401\n"
          ]
        },
        {
          "output_type": "execute_result",
          "data": {
            "text/plain": [
              "51332.16924921047"
            ]
          },
          "metadata": {},
          "execution_count": 55
        }
      ]
    },
    {
      "cell_type": "code",
      "metadata": {
        "id": "KgxvE7Irbbj_",
        "colab": {
          "base_uri": "https://localhost:8080/"
        },
        "outputId": "229ce32c-cfa5-462e-f310-8ee62cc42bd5"
      },
      "source": [
        "### Bayesian optimization runs (x20): 'exact' Acquisition Function run number = 15 \n",
        "\n",
        "np.random.seed(run_num_15)\n",
        "surrogate_exact_15 = dtStudentProcess(cov_func, optimize=opt, nu = df)\n",
        "\n",
        "X_train15, X_test15, y_train15, y_test15 = train_test_split(X, y, test_size=test_perc, random_state=run_num_15)\n",
        "\n",
        "def f_syn_polarity15(alpha, gamma, max_depth, subsample, min_child_weight, colsample):\n",
        "    reg = XGBRegressor(reg_alpha=alpha, gamma=gamma, max_depth=int(max_depth), subsample=subsample, min_child_weight=min_child_weight,\n",
        "          colsample_bytree=colsample, n_estimators = n_est, random_state=run_num_15, objective = 'reg:squarederror')\n",
        "    score = np.array(cross_val_score(reg, X=X_train15, y=y_train15).mean())\n",
        "    return operator * score\n",
        "\n",
        "exact_15 = dGPGO(surrogate_exact_15, Acquisition_grad(util), f_syn_polarity15, param, n_jobs = -1) # Define BayesOpt\n",
        "exact_15.run(max_iter = max_iter, init_evals = n_init) # run\n",
        "\n",
        "### Return optimal parameters' set:\n",
        "params_exact_15 = exact_15.getResult()[0]\n",
        "params_exact_15['max_depth'] = int(params_exact_15['max_depth'])\n",
        "params_exact_15['min_child_weight'] = int(params_exact_15['min_child_weight'])\n",
        "\n",
        "### Re-train with optimal parameters, run predictons:\n",
        "dX_exact_train15 = xgb.DMatrix(X_train15, y_train15)\n",
        "dX_exact_test15 = xgb.DMatrix(X_test15, y_test15)\n",
        "model_exact_15 = xgb.train(params_exact_15, dX_exact_train15)\n",
        "pred_exact_15 = model_exact_15.predict(dX_exact_test15)\n",
        "\n",
        "rmse_exact_15 = np.sqrt(mean_squared_error(pred_exact_15, y_test15))\n",
        "rmse_exact_15"
      ],
      "execution_count": null,
      "outputs": [
        {
          "output_type": "stream",
          "name": "stdout",
          "text": [
            "Evaluation \t Proposed point \t  Current eval. \t  Best eval. \t         Max. ExactAcqFunc \t Max. ApproxAcqFunc \n",
            "init\t [ 8.48817697  1.78895925 12.          0.55549316  8.          0.93397854]\t -0.26163187566355783\t -0.26163187566355783\t    \t    \n",
            "init\t [ 0.24953032  8.22298097 12.          0.62494951 11.          0.12924598]\t 0.024522460442168416\t -0.26163187566355783\t    \t    \n",
            "init\t [ 5.02017228  5.50882771 11.          0.85295832 19.          0.13548008]\t 0.02297926937894814\t -0.26163187566355783\t    \t    \n",
            "init\t [2.0023081  9.98543403 7.         0.6295772  2.         0.526127  ]\t -0.18638649492575546\t -0.26163187566355783\t    \t    \n",
            "init\t [ 5.09715306  9.45038417 11.          0.7388277  16.          0.22739973]\t 0.023164783472115303\t -0.26163187566355783\t    \t    \n",
            "1  \t [4.45998148 9.74606636 5.         0.59771241 5.         0.5173403 ]\t -0.1290373322633273\t -0.26163187566355783\t 0.016188437940889994\t 0.016188437940889994\n",
            "\u001b[1m\u001b[92m2\u001b[0m\t \u001b[1m\u001b[92m[ 6.85968854  3.2089767  12.          0.77854722  7.          0.83202773]\u001b[0m\t \u001b[1m\u001b[92m-0.27270129057394266\u001b[0m\t \u001b[1m\u001b[92m-0.27270129057394266\u001b[0m\t \u001b[1m\u001b[92m0.0156006275031351\u001b[0m\t \u001b[1m\u001b[92m0.02726714958031265\u001b[0m\n",
            "3  \t [ 7.21114711  3.22455125 10.77330416  0.85762887  8.87344936  0.36919053]\t -0.025662325007439167\t -0.27270129057394266\t 0.023278876373617752\t 0.05514445821795978\n",
            "4  \t [0.43231017 7.98794292 9.         0.61838696 4.         0.46520594]\t -0.08257312017060973\t -0.27270129057394266\t 0.017531430304435592\t 0.017531432286219926\n",
            "5  \t [2.08681233 8.47573817 7.78776381 0.73364547 2.78776381 0.4524155 ]\t -0.07004374767598139\t -0.27270129057394266\t 0.01848552748054473\t 0.04820146516654726\n",
            "6  \t [0.88800882 8.34317769 9.         0.58476516 5.         0.25444674]\t -0.020292467281379324\t -0.27270129057394266\t 0.01525479518974999\t 0.01575315500903299\n",
            "\u001b[1m\u001b[92m7\u001b[0m\t \u001b[1m\u001b[92m[ 8.43704814  4.52021943 12.          0.84855688  7.          0.82176739]\u001b[0m\t \u001b[1m\u001b[92m-0.274539575809391\u001b[0m\t \u001b[1m\u001b[92m-0.274539575809391\u001b[0m\t \u001b[1m\u001b[92m0.015008190303546482\u001b[0m\t \u001b[1m\u001b[92m0.04284718944583393\u001b[0m\n",
            "8  \t [ 7.47601916  4.72986214 10.          0.87500072  3.          0.12250203]\t 0.02410429685097215\t -0.274539575809391\t 0.015394260947098972\t 0.015394260947098972\n",
            "9  \t [10.          1.28266628 11.8623586   1.          8.8623586   1.        ]\t -0.26966461176904055\t -0.274539575809391\t 0.01701772090891481\t 0.05847662905955931\n",
            "10 \t [ 5.96734569  6.49945721 12.          0.56561304  6.          0.12244768]\t 0.026202674029860918\t -0.274539575809391\t 0.01617406275286859\t 0.06030199725511161\n",
            "11 \t [1.08363837 8.0366093  7.         0.53089783 4.         0.78415213]\t -0.22733530504090016\t -0.274539575809391\t 0.015394184855563\t 0.04829037958246413\n",
            "12 \t [ 8.25059108  4.31072534 12.          0.75349812  6.          0.83717338]\t -0.27241632822568784\t -0.274539575809391\t 0.030224400089189824\t 0.06053329410049524\n",
            "13 \t [ 6.28135212  2.74933005 11.70830717  0.69646427  6.70830717  0.12805902]\t 0.025683138747235046\t -0.274539575809391\t 0.02334873250581936\t 0.07030923315631175\n",
            "14 \t [ 8.37385583  1.89007187 13.13641368  0.94211744  7.15946814  1.        ]\t -0.2703241511859839\t -0.274539575809391\t 0.0245857726916969\t 0.09018730871121952\n",
            "15 \t [ 9.57153302  5.52853952 14.          0.73459213  6.          0.97690235]\t -0.2687701732971359\t -0.274539575809391\t 0.017696434727809872\t 0.09506109611195017\n",
            "16 \t [2.9888825  8.78135003 6.15526899 0.79873611 3.15526899 0.51899981]\t -0.16670911791421286\t -0.274539575809391\t 0.021651739457486763\t 0.047663527917082116\n",
            "17 \t [6.43154029 8.85764492 6.         0.76317169 6.         0.52287264]\t -0.16418093194829936\t -0.274539575809391\t 0.02047218068314708\t 0.05058069762796294\n",
            "18 \t [10.          6.44055355 14.12954069  1.          6.12954069  1.        ]\t -0.27009329485554245\t -0.274539575809391\t 0.029334553033547574\t 0.09492763530421715\n",
            "19 \t [2.03084337 9.53837657 5.         0.76530223 1.         0.46287923]\t -0.03343294416467726\t -0.274539575809391\t 0.02546291845421214\t 0.02546291845421214\n",
            "20 \t [8.45180008 9.95541021 6.         0.7775323  4.         0.33717582]\t -0.009196176151697256\t -0.274539575809391\t 0.0598561403589921\t 0.07872999425364352\n",
            "\u001b[1m\u001b[92m21\u001b[0m\t \u001b[1m\u001b[92m[ 6.84597369  4.97628442 12.33041804  1.          6.6397999   0.75263619]\u001b[0m\t \u001b[1m\u001b[92m-0.27487299047016245\u001b[0m\t \u001b[1m\u001b[92m-0.27487299047016245\u001b[0m\t \u001b[1m\u001b[92m0.06885683104413623\u001b[0m\t \u001b[1m\u001b[92m0.08340486825953655\u001b[0m\n",
            "22 \t [ 8.96206876  2.56973308 12.07317233  1.          8.07317233  1.        ]\t -0.2710719823716834\t -0.27487299047016245\t 0.0682866182943433\t 0.1307233118449723\n",
            "23 \t [ 5.74257344  5.4352809  13.03316353  0.80594665  7.03316353  0.55423332]\t -0.22219640240446967\t -0.27487299047016245\t 0.052893435514196466\t 0.08297552896934164\n",
            "24 \t [ 8.88943155  5.91201649 12.67508522  0.74997395  7.40818069  0.41827617]\t -0.09012891218193049\t -0.27487299047016245\t 0.0551154041048257\t 0.07718203342733723\n",
            "25 \t [ 5.51328237  5.89630819 14.0070818   0.55616304  6.0070818   0.83170732]\t -0.2654055351064218\t -0.27487299047016245\t 0.07198692331119022\t 0.139118683416801\n",
            "26 \t [ 6.59000923  9.78665977 14.          0.63113594  1.          0.38899025]\t -0.06452397714187137\t -0.27487299047016245\t 0.06477209551578599\t 0.06477209551578599\n",
            "27 \t [ 7.39085714  6.30819489 11.1419053   0.92371631  7.1419053   0.38151292]\t -0.09497419042426428\t -0.27487299047016245\t 0.0537004795700705\t 0.10035798335532167\n",
            "28 \t [ 6.32488619  5.55615028 14.          0.54704748  7.          0.7971619 ]\t -0.2646852135823355\t -0.27487299047016245\t 0.05308215111883822\t 0.06928472356408016\n",
            "29 \t [ 5.82693459  5.49530184 14.25430952  0.91417282  7.41898138  0.35315405]\t -0.0200157707368255\t -0.27487299047016245\t 0.044736247289330254\t 0.06823535260629512\n",
            "30 \t [3.16782664 8.62998356 5.         0.68135047 4.         0.78661322]\t -0.17265541677727922\t -0.27487299047016245\t 0.04840272689435399\t 0.05029120016210375\n"
          ]
        },
        {
          "output_type": "execute_result",
          "data": {
            "text/plain": [
              "50183.6809553557"
            ]
          },
          "metadata": {},
          "execution_count": 56
        }
      ]
    },
    {
      "cell_type": "code",
      "metadata": {
        "id": "5TaP6RoGuiNT",
        "colab": {
          "base_uri": "https://localhost:8080/"
        },
        "outputId": "9e164967-b210-452b-9db2-7a967e214584"
      },
      "source": [
        "### Bayesian optimization runs (x20): 'exact' Acquisition Function run number = 16 \n",
        "\n",
        "np.random.seed(run_num_16)\n",
        "surrogate_exact_16 = dtStudentProcess(cov_func, optimize=opt, nu = df)\n",
        "\n",
        "X_train16, X_test16, y_train16, y_test16 = train_test_split(X, y, test_size=test_perc, random_state=run_num_16)\n",
        "\n",
        "def f_syn_polarity16(alpha, gamma, max_depth, subsample, min_child_weight, colsample):\n",
        "    reg = XGBRegressor(reg_alpha=alpha, gamma=gamma, max_depth=int(max_depth), subsample=subsample, min_child_weight=min_child_weight,\n",
        "          colsample_bytree=colsample, n_estimators = n_est, random_state=run_num_16, objective = 'reg:squarederror')\n",
        "    score = np.array(cross_val_score(reg, X=X_train16, y=y_train16).mean())\n",
        "    return operator * score\n",
        "\n",
        "exact_16 = dGPGO(surrogate_exact_16, Acquisition_grad(util), f_syn_polarity16, param, n_jobs = -1) # Define BayesOpt\n",
        "exact_16.run(max_iter = max_iter, init_evals = n_init) # run\n",
        "\n",
        "### Return optimal parameters' set:\n",
        "params_exact_16 = exact_16.getResult()[0]\n",
        "params_exact_16['max_depth'] = int(params_exact_16['max_depth'])\n",
        "params_exact_16['min_child_weight'] = int(params_exact_16['min_child_weight'])\n",
        "\n",
        "### Re-train with optimal parameters, run predictons:\n",
        "dX_exact_train16 = xgb.DMatrix(X_train16, y_train16)\n",
        "dX_exact_test16 = xgb.DMatrix(X_test16, y_test16)\n",
        "model_exact_16 = xgb.train(params_exact_16, dX_exact_train16)\n",
        "pred_exact_16 = model_exact_16.predict(dX_exact_test16)\n",
        "\n",
        "rmse_exact_16 = np.sqrt(mean_squared_error(pred_exact_16, y_test16))\n",
        "rmse_exact_16"
      ],
      "execution_count": null,
      "outputs": [
        {
          "output_type": "stream",
          "name": "stdout",
          "text": [
            "Evaluation \t Proposed point \t  Current eval. \t  Best eval. \t         Max. ExactAcqFunc \t Max. ApproxAcqFunc \n",
            "init\t [2.23291079 5.23163341 6.         0.65430839 5.         0.30077285]\t 0.048703725132963484\t -0.05843642955244097\t    \t    \n",
            "init\t [6.88726162 1.63731425 7.         0.97050543 2.         0.25392012]\t 0.040027922929579816\t -0.05843642955244097\t    \t    \n",
            "init\t [ 5.94328983  5.6393473   5.          0.67602695 19.          0.42538144]\t -0.05843642955244097\t -0.05843642955244097\t    \t    \n",
            "init\t [ 0.88741148  3.08148142 14.          0.56043938  9.          0.27515386]\t 0.05351180978919934\t -0.05843642955244097\t    \t    \n",
            "init\t [ 2.74631586  1.30996118 11.          0.52160786  8.          0.27956463]\t 0.05128838103896838\t -0.05843642955244097\t    \t    \n",
            "1  \t [ 4.15430798  5.88063989  6.30458832  0.84976471 19.12569529  0.35668895]\t 0.045785682505139834\t -0.05843642955244097\t 0.010391756495671579\t 0.013107274986115613\n",
            "\u001b[1m\u001b[92m2\u001b[0m\t \u001b[1m\u001b[92m[ 9.22066243  2.6955384  13.          0.86577429 19.          0.38086064]\u001b[0m\t \u001b[1m\u001b[92m-0.09960408275417523\u001b[0m\t \u001b[1m\u001b[92m-0.09960408275417523\u001b[0m\t \u001b[1m\u001b[92m0.009376567504652022\u001b[0m\t \u001b[1m\u001b[92m0.009376567504652022\u001b[0m\n",
            "3  \t [ 6.11365208  6.18589791 10.          0.73005028  6.          0.19363375]\t 0.19002357345212628\t -0.09960408275417523\t 0.007403542714808438\t 0.007403542714808438\n",
            "\u001b[1m\u001b[92m4\u001b[0m\t \u001b[1m\u001b[92m[ 3.35529467  5.06431524 13.          0.9972866   3.          0.93236698]\u001b[0m\t \u001b[1m\u001b[92m-0.26262891558290447\u001b[0m\t \u001b[1m\u001b[92m-0.26262891558290447\u001b[0m\t \u001b[1m\u001b[92m0.016807327094468843\u001b[0m\t \u001b[1m\u001b[92m0.016807327094468843\u001b[0m\n",
            "5  \t [ 4.32892404  0.24224571  6.          0.90054399 18.          0.32729375]\t 0.04576430565578016\t -0.26262891558290447\t 0.010230500399546955\t 0.010230500399546955\n",
            "6  \t [ 5.58043809  8.91463745  8.          0.85851576 10.          0.64398202]\t -0.21518287714880166\t -0.26262891558290447\t 0.009143505517784749\t 0.009143505517784749\n",
            "7  \t [ 2.65571666  4.32529089 14.          0.66921971  2.          0.36607383]\t 0.06512189227660317\t -0.26262891558290447\t 0.011810145833000807\t 0.011810145833000807\n",
            "8  \t [7.55845149 1.43475685 6.         0.93543816 5.         0.90371481]\t -0.20213465918970402\t -0.26262891558290447\t 0.010919188215262355\t 0.010919188215262355\n",
            "9  \t [ 7.84974289  7.4836946  14.          0.52626561 19.          0.40280383]\t -0.09265788026886138\t -0.26262891558290447\t 0.01268459220355479\t 0.01268459220355479\n",
            "10 \t [ 3.42614455  4.49504386  7.          0.77564645 17.          0.86152495]\t -0.21687953993694425\t -0.26262891558290447\t 0.012132125149919123\t 0.012132125149919123\n",
            "11 \t [7.37439838 7.63841598 6.         0.56413023 9.         0.88294461]\t -0.1993178676719037\t -0.26262891558290447\t 0.013961997568838813\t 0.013961997568838813\n",
            "12 \t [ 9.32577015  2.51704358 13.14400746  1.         19.14400746  0.79840784]\t -0.26221317507180714\t -0.26262891558290447\t 0.016087789745335496\t 0.016094577888114532\n",
            "13 \t [ 5.70086811  7.90113625  6.          0.63183903 11.          0.54843338]\t -0.13769250714774312\t -0.26262891558290447\t 0.01733208776436203\t 0.01733208776436203\n",
            "14 \t [ 3.88245653  3.56384392  8.0967239   0.99334481 16.0967239   0.57417067]\t -0.1709880215760623\t -0.26262891558290447\t 0.017355608082216478\t 0.023691872434078567\n",
            "15 \t [ 4.35710013  5.23818304  7.13324519  0.92242278 16.08531403  0.62517809]\t -0.1994115627816269\t -0.26262891558290447\t 0.022324365226832357\t 0.03042585156834176\n",
            "\u001b[1m\u001b[92m16\u001b[0m\t \u001b[1m\u001b[92m[ 9.42162439  2.98697924 14.15689845  1.         19.15689845  1.        ]\u001b[0m\t \u001b[1m\u001b[92m-0.27345250346325\u001b[0m\t \u001b[1m\u001b[92m-0.27345250346325\u001b[0m\t \u001b[1m\u001b[92m0.0266947929730697\u001b[0m\t \u001b[1m\u001b[92m0.0378631643169441\u001b[0m\n",
            "17 \t [7.90962894 6.38248963 6.63002607 1.         9.63002607 0.56088396]\t -0.1552334456896319\t -0.27345250346325\t 0.020378211683869073\t 0.03320173280836662\n",
            "18 \t [ 4.21691624  5.1644415  12.15961118  0.89055221  3.15961118  0.84864102]\t -0.249240541895782\t -0.27345250346325\t 0.024786209921594953\t 0.039781962491014095\n",
            "19 \t [ 5.32546433  6.4400515   6.          0.67634112 11.          0.98496677]\t -0.2002018658254035\t -0.27345250346325\t 0.019689100643302874\t 0.038795358621401634\n",
            "20 \t [ 9.73746622  4.68956892  8.          0.55986726 12.          0.41407274]\t -0.09010225788439682\t -0.27345250346325\t 0.021232336015987143\t 0.021232336015987143\n",
            "21 \t [ 3.41514306  5.8968532   6.57253434  0.98896812 16.57253434  0.53236159]\t -0.13992496471267146\t -0.27345250346325\t 0.06721387598913718\t 0.08495986904214041\n",
            "22 \t [ 3.67367142  5.76857475  6.          0.87832082 17.          0.78955577]\t -0.18701774602018806\t -0.27345250346325\t 0.0347579784408534\t 0.037648527196191904\n",
            "\u001b[1m\u001b[92m23\u001b[0m\t \u001b[1m\u001b[92m[ 8.6070968   4.0886221  13.14531268  1.         18.93468301  1.        ]\u001b[0m\t \u001b[1m\u001b[92m-0.27466984181161075\u001b[0m\t \u001b[1m\u001b[92m-0.27466984181161075\u001b[0m\t \u001b[1m\u001b[92m0.041211666155625666\u001b[0m\t \u001b[1m\u001b[92m0.04668309337370535\u001b[0m\n",
            "24 \t [7.93459876 1.36753631 6.54693693 0.83088553 4.88843426 0.31850375]\t 0.04681526664043463\t -0.27466984181161075\t 0.05064729577046115\t 0.05502396910724589\n",
            "25 \t [ 3.87616737  5.31166266  7.32466646  0.81671511 16.88142614  0.46892413]\t -0.08926131103997989\t -0.27466984181161075\t 0.058705991882054644\t 0.07542738774840557\n",
            "26 \t [ 3.73420217  8.22730904 13.          0.84562785  9.          0.47506411]\t -0.09278852007803315\t -0.27466984181161075\t 0.023800258407907893\t 0.023800258407907893\n",
            "27 \t [ 5.55740035  6.3688391   6.59461631  0.71650478 10.64642222  0.53838369]\t -0.14107880166205056\t -0.27466984181161075\t 0.05500478393357369\t 0.06463193217587686\n",
            "28 \t [ 8.38875421  4.11863768  8.          0.99487015 10.          0.21048075]\t 0.1885370379687537\t -0.27466984181161075\t 0.03183523310498384\t 0.03183523310498384\n",
            "29 \t [7.2967089  9.15541435 6.         0.87552502 9.         0.73296466]\t -0.17350030826763915\t -0.27466984181161075\t 0.05302508807931569\t 0.05302508807931569\n",
            "30 \t [ 4.71207453  4.11623452  8.0287308   0.92749789 16.0287308   0.16739482]\t 0.18750268020525973\t -0.27466984181161075\t 0.05404548187947505\t 0.0830479284703894\n"
          ]
        },
        {
          "output_type": "execute_result",
          "data": {
            "text/plain": [
              "50161.06898530528"
            ]
          },
          "metadata": {},
          "execution_count": 57
        }
      ]
    },
    {
      "cell_type": "code",
      "metadata": {
        "id": "NiOaMUmgulbx",
        "colab": {
          "base_uri": "https://localhost:8080/"
        },
        "outputId": "10ad895d-ca3e-49fc-e5e8-9b9b28043334"
      },
      "source": [
        "### Bayesian optimization runs (x20): 'exact' Acquisition Function run number = 17 \n",
        "\n",
        "np.random.seed(run_num_17)\n",
        "surrogate_exact_17 = dtStudentProcess(cov_func, optimize=opt, nu = df)\n",
        "\n",
        "X_train17, X_test17, y_train17, y_test17 = train_test_split(X, y, test_size=test_perc, random_state=run_num_17)\n",
        "\n",
        "def f_syn_polarity17(alpha, gamma, max_depth, subsample, min_child_weight, colsample):\n",
        "    reg = XGBRegressor(reg_alpha=alpha, gamma=gamma, max_depth=int(max_depth), subsample=subsample, min_child_weight=min_child_weight,\n",
        "          colsample_bytree=colsample, n_estimators = n_est, random_state=run_num_17, objective = 'reg:squarederror')\n",
        "    score = np.array(cross_val_score(reg, X=X_train17, y=y_train17).mean())\n",
        "    return operator * score\n",
        "\n",
        "exact_17 = dGPGO(surrogate_exact_17, Acquisition_grad(util), f_syn_polarity17, param, n_jobs = -1) # Define BayesOpt\n",
        "exact_17.run(max_iter = max_iter, init_evals = n_init) # run\n",
        "\n",
        "### Return optimal parameters' set:\n",
        "params_exact_17 = exact_17.getResult()[0]\n",
        "params_exact_17['max_depth'] = int(params_exact_17['max_depth'])\n",
        "params_exact_17['min_child_weight'] = int(params_exact_17['min_child_weight'])\n",
        "\n",
        "### Re-train with optimal parameters, run predictons:\n",
        "dX_exact_train17 = xgb.DMatrix(X_train17, y_train17)\n",
        "dX_exact_test17 = xgb.DMatrix(X_test17, y_test17)\n",
        "model_exact_17 = xgb.train(params_exact_17, dX_exact_train17)\n",
        "pred_exact_17 = model_exact_17.predict(dX_exact_test17)\n",
        "\n",
        "rmse_exact_17 = np.sqrt(mean_squared_error(pred_exact_17, y_test17))\n",
        "rmse_exact_17"
      ],
      "execution_count": null,
      "outputs": [
        {
          "output_type": "stream",
          "name": "stdout",
          "text": [
            "Evaluation \t Proposed point \t  Current eval. \t  Best eval. \t         Max. ExactAcqFunc \t Max. ApproxAcqFunc \n",
            "init\t [ 2.94665003  5.30586756 11.          0.94443241 14.          0.80828691]\t -0.23910144701287991\t -0.23910144701287991\t    \t    \n",
            "init\t [ 6.56333522  6.37520896 12.          0.81487881 18.          0.42203224]\t -0.10378249122646373\t -0.23910144701287991\t    \t    \n",
            "init\t [ 9.45683187  0.6004468  11.          0.5171566  10.          0.53881211]\t -0.19590683647137813\t -0.23910144701287991\t    \t    \n",
            "init\t [2.72705857 1.19063434 6.         0.74176431 6.         0.10101151]\t 0.07401068176879111\t -0.23910144701287991\t    \t    \n",
            "init\t [ 4.77631812  5.24671297 13.          0.66254476 19.          0.36708086]\t -0.045394377443917985\t -0.23910144701287991\t    \t    \n",
            "\u001b[1m\u001b[92m1\u001b[0m\t \u001b[1m\u001b[92m[ 4.59873326  7.63188285 12.          0.91556127 13.          0.89896272]\u001b[0m\t \u001b[1m\u001b[92m-0.2748455805250584\u001b[0m\t \u001b[1m\u001b[92m-0.2748455805250584\u001b[0m\t \u001b[1m\u001b[92m0.020125598071459975\u001b[0m\t \u001b[1m\u001b[92m0.031932403175072704\u001b[0m\n",
            "2  \t [ 0.19082343  7.6555649  12.          0.77419698 14.          0.39628951]\t -0.10022064544935523\t -0.2748455805250584\t 0.024163042421379736\t 0.043410018491056857\n",
            "3  \t [ 3.72132681  6.17447108 12.          0.99320128 14.          0.5574435 ]\t -0.21012426955056793\t -0.2748455805250584\t 0.03310887472762247\t 0.03989552227364526\n",
            "4  \t [ 6.08912351  5.01196344 11.3014818   0.94010788 13.3014818   0.71429685]\t -0.23145373353127247\t -0.2748455805250584\t 0.020196124402783573\t 0.042236243071963685\n",
            "5  \t [ 2.38975726  6.38521317 11.          0.82181045 15.          0.31546724]\t -0.047630072884651486\t -0.2748455805250584\t 0.028797206082885354\t 0.04768404007136488\n",
            "6  \t [ 4.45461828  4.99077265 11.          0.91216518 16.          0.63304876]\t -0.23285559379338702\t -0.2748455805250584\t 0.020886077233751757\t 0.04451655247729468\n",
            "7  \t [ 6.93013219  6.41930284 11.          0.55238125 13.          0.94731507]\t -0.25812662572867334\t -0.2748455805250584\t 0.02632769036562023\t 0.04865793018314776\n",
            "8  \t [ 5.43964473  2.63409317 12.          0.96821485 17.          0.8944812 ]\t -0.2739875082066973\t -0.2748455805250584\t 0.022851685466428812\t 0.049885135054599974\n",
            "9  \t [ 7.9123883   7.11140158 11.          0.93611972 13.          0.25679124]\t -0.05052272149471173\t -0.2748455805250584\t 0.03221748703993121\t 0.058604534422383475\n",
            "10 \t [ 8.54821149  4.08125619 12.          0.67785228 12.          0.79657239]\t -0.2370143340967526\t -0.2748455805250584\t 0.02382089289898832\t 0.05634474417222266\n",
            "11 \t [ 5.20803519  7.64671219 12.67093227  0.79929948 12.13969824  0.89830234]\t -0.27254946944245056\t -0.2748455805250584\t 0.03605976090731512\t 0.057976395616154135\n",
            "12 \t [ 3.97124147  5.634866   10.01093003  0.8752916  16.01093003  0.50454946]\t -0.20554733892530885\t -0.2748455805250584\t 0.03287991343215302\t 0.06261457295991338\n",
            "13 \t [ 1.2288999   7.99082714 11.          0.63598268 13.          0.90896699]\t -0.2608212340097997\t -0.2748455805250584\t 0.02493855531253552\t 0.06127526494374286\n",
            "14 \t [ 6.83234397  6.3189177  10.89890844  0.85890029 11.89890844  0.69571196]\t -0.22721051152159025\t -0.2748455805250584\t 0.03696327431551673\t 0.06318434803777702\n",
            "15 \t [ 3.17958909  5.59645151 11.04223852  0.78898694 16.04223852  1.        ]\t -0.26743890189741915\t -0.2748455805250584\t 0.03446107789096979\t 0.0641368443878623\n",
            "16 \t [ 4.8848016   6.65618888 10.03573329  0.88635189 15.03573329  0.49151436]\t -0.10256103363154945\t -0.2748455805250584\t 0.028216498469018792\t 0.06820731726792066\n",
            "17 \t [ 5.24948295  8.25906222 12.          0.90961715 18.          0.50330106]\t -0.2097956810218195\t -0.2748455805250584\t 0.02374456346793733\t 0.06846278916875632\n",
            "18 \t [ 4.51602736  3.16903983 12.23533628  1.         17.23533628  0.7540652 ]\t -0.25739501767122164\t -0.2748455805250584\t 0.03929819894979296\t 0.07078777982953117\n",
            "19 \t [ 8.11452937  5.27319295 13.          0.60061305 12.          0.82231586]\t -0.23306191828628905\t -0.2748455805250584\t 0.030634821170370037\t 0.06051815463106729\n",
            "20 \t [ 6.64369419  2.54544111 12.67242816  0.6683732  16.09286867  0.68749056]\t -0.22845798013841936\t -0.2748455805250584\t 0.029414297709460708\t 0.07028171146604387\n",
            "21 \t [ 4.48878711  5.49356507 14.          0.56680442 14.          0.88105297]\t -0.2602839620536096\t -0.2748455805250584\t 0.07667938457248008\t 0.07667938457248008\n",
            "22 \t [ 3.65940484  5.95292579 11.26926431  0.93884486 13.55673314  0.74737799]\t -0.2315917081344215\t -0.2748455805250584\t 0.04414707844103808\t 0.06512144908484391\n",
            "23 \t [ 4.83650195  3.40351663 12.          0.75982352 18.          0.18739867]\t 0.07237236692673185\t -0.2748455805250584\t 0.07326568061842806\t 0.07852317893115214\n",
            "24 \t [ 4.94400847  8.73199365 12.45039759  0.63180393 12.56661394  0.9286473 ]\t -0.26203969794035176\t -0.2748455805250584\t 0.05179446919967809\t 0.08322335454742968\n",
            "25 \t [ 3.15508768  5.50191691 12.81570468  0.67911042 15.58956326  0.62468644]\t -0.20506886055476975\t -0.2748455805250584\t 0.06087893812079881\t 0.09148825629624564\n",
            "26 \t [ 3.43206202  6.53945805 11.          0.58915319 15.          0.72693958]\t -0.2211520561658414\t -0.2748455805250584\t 0.07689592568902606\t 0.08688265679970815\n",
            "27 \t [ 2.57431247  4.7319646  10.          0.70668774 16.          0.66746833]\t -0.2254011757208012\t -0.2748455805250584\t 0.0663049166830572\t 0.0663049183969505\n",
            "28 \t [ 5.46296047  7.81696949 13.20644477  0.86691623 12.20644477  0.39272056]\t -0.103279547844248\t -0.2748455805250584\t 0.062023741380273764\t 0.08924374671727373\n",
            "29 \t [ 2.06875299  5.78910467 11.          0.55168232 14.          0.15825265]\t 0.07534287671880521\t -0.2748455805250584\t 0.06548062385683785\t 0.06548062385683785\n",
            "30 \t [ 3.17187998  4.13355162  8.          0.8657932  13.          0.82446402]\t -0.22290733444388416\t -0.2748455805250584\t 0.041104509707493055\t 0.041104509707493055\n"
          ]
        },
        {
          "output_type": "execute_result",
          "data": {
            "text/plain": [
              "49261.0276078998"
            ]
          },
          "metadata": {},
          "execution_count": 58
        }
      ]
    },
    {
      "cell_type": "code",
      "metadata": {
        "id": "5H4MWSXFcZjO",
        "colab": {
          "base_uri": "https://localhost:8080/"
        },
        "outputId": "bf8bde0c-a082-4fe0-d0f5-3c3e5e324c98"
      },
      "source": [
        "### Bayesian optimization runs (x20): 'exact' Acquisition Function run number = 18 \n",
        "\n",
        "np.random.seed(run_num_18)\n",
        "surrogate_exact_18 = dtStudentProcess(cov_func, optimize=opt, nu = df)\n",
        "\n",
        "X_train18, X_test18, y_train18, y_test18 = train_test_split(X, y, test_size=test_perc, random_state=run_num_18)\n",
        "\n",
        "def f_syn_polarity18(alpha, gamma, max_depth, subsample, min_child_weight, colsample):\n",
        "    reg = XGBRegressor(reg_alpha=alpha, gamma=gamma, max_depth=int(max_depth), subsample=subsample, min_child_weight=min_child_weight,\n",
        "          colsample_bytree=colsample, n_estimators = n_est, random_state=run_num_18, objective = 'reg:squarederror')\n",
        "    score = np.array(cross_val_score(reg, X=X_train18, y=y_train18).mean())\n",
        "    return operator * score\n",
        "\n",
        "exact_18 = dGPGO(surrogate_exact_18, Acquisition_grad(util), f_syn_polarity18, param, n_jobs = -1) # Define BayesOpt\n",
        "exact_18.run(max_iter = max_iter, init_evals = n_init) # run\n",
        "\n",
        "### Return optimal parameters' set:\n",
        "params_exact_18 = exact_18.getResult()[0]\n",
        "params_exact_18['max_depth'] = int(params_exact_18['max_depth'])\n",
        "params_exact_18['min_child_weight'] = int(params_exact_18['min_child_weight'])\n",
        "\n",
        "### Re-train with optimal parameters, run predictons:\n",
        "dX_exact_train18 = xgb.DMatrix(X_train18, y_train18)\n",
        "dX_exact_test18 = xgb.DMatrix(X_test18, y_test18)\n",
        "model_exact_18 = xgb.train(params_exact_18, dX_exact_train18)\n",
        "pred_exact_18 = model_exact_18.predict(dX_exact_test18)\n",
        "\n",
        "rmse_exact_18 = np.sqrt(mean_squared_error(pred_exact_18, y_test18))\n",
        "rmse_exact_18"
      ],
      "execution_count": null,
      "outputs": [
        {
          "output_type": "stream",
          "name": "stdout",
          "text": [
            "Evaluation \t Proposed point \t  Current eval. \t  Best eval. \t         Max. ExactAcqFunc \t Max. ApproxAcqFunc \n",
            "init\t [6.50374242 5.05453374 6.         0.59092011 3.         0.28357516]\t 0.05910241089026078\t -0.2055451438245795\t    \t    \n",
            "init\t [0.11506734 4.26891483 9.         0.81785956 5.         0.63489043]\t -0.2055451438245795\t -0.2055451438245795\t    \t    \n",
            "init\t [ 2.8861259   6.35547834 11.          0.64267955 14.          0.27877092]\t 0.05095497205574499\t -0.2055451438245795\t    \t    \n",
            "init\t [6.57189031 6.99655629 8.         0.63235896 4.         0.52894035]\t -0.16555584173223978\t -0.2055451438245795\t    \t    \n",
            "init\t [ 6.66600348  2.11312037 14.          0.74363461  4.          0.73174558]\t -0.20292872109210697\t -0.2055451438245795\t    \t    \n",
            "\u001b[1m\u001b[92m1\u001b[0m\t \u001b[1m\u001b[92m[ 6.47390501  4.8826822  14.          0.95955642  4.          0.67306823]\u001b[0m\t \u001b[1m\u001b[92m-0.20868189173647908\u001b[0m\t \u001b[1m\u001b[92m-0.20868189173647908\u001b[0m\t \u001b[1m\u001b[92m0.024716741417032305\u001b[0m\t \u001b[1m\u001b[92m0.024716741417032305\u001b[0m\n",
            "\u001b[1m\u001b[92m2\u001b[0m\t \u001b[1m\u001b[92m[ 8.17593978  3.85437352 13.45456563  0.66865584  5.03633033  0.78036629]\u001b[0m\t \u001b[1m\u001b[92m-0.2515736744696695\u001b[0m\t \u001b[1m\u001b[92m-0.2515736744696695\u001b[0m\t \u001b[1m\u001b[92m0.030754728897433678\u001b[0m\t \u001b[1m\u001b[92m0.052268761238574296\u001b[0m\n",
            "\u001b[1m\u001b[92m3\u001b[0m\t \u001b[1m\u001b[92m[ 9.06394499  3.24586085 11.82796367  1.          6.6005473   1.        ]\u001b[0m\t \u001b[1m\u001b[92m-0.27087107174181757\u001b[0m\t \u001b[1m\u001b[92m-0.27087107174181757\u001b[0m\t \u001b[1m\u001b[92m0.027080446074045753\u001b[0m\t \u001b[1m\u001b[92m0.06102258329274328\u001b[0m\n",
            "4  \t [ 8.89962131  3.83152371 13.          0.81031289  7.          0.28713197]\t 0.05752620503584751\t -0.27087107174181757\t 0.039799406046928554\t 0.05841270178828943\n",
            "5  \t [ 9.98394208  8.5932438  14.          0.75596751 19.          0.64506065]\t -0.21231713920419598\t -0.27087107174181757\t 0.02633587315766935\t 0.02633587315766935\n",
            "6  \t [ 8.59351835  0.33828736  8.          0.50137841 17.          0.87422411]\t -0.22306970642351018\t -0.27087107174181757\t 0.027352925122606328\t 0.027352925122606328\n",
            "7  \t [6.89691723 7.85480788 6.         0.94341328 8.         0.60630348]\t -0.13778896603089186\t -0.27087107174181757\t 0.02855134775484421\t 0.02855134775484421\n",
            "8  \t [ 7.20201958  5.30206536 11.85034102  1.          5.90831583  0.83359327]\t -0.2690745278142689\t -0.27087107174181757\t 0.02789492019864263\t 0.03822597214564895\n",
            "9  \t [ 6.602949    1.68000299 14.3693064   1.          5.02880918  1.        ]\t -0.26859406452592366\t -0.27087107174181757\t 0.03567223304413347\t 0.05413399920375721\n",
            "10 \t [ 9.29112354  5.05107288 13.          0.51265986  5.          0.56863318]\t -0.1683971374456865\t -0.27087107174181757\t 0.036644612638088\t 0.06637563501356769\n",
            "\u001b[1m\u001b[92m11\u001b[0m\t \u001b[1m\u001b[92m[10. 10. 15.  1. 20.  1.]\u001b[0m\t \u001b[1m\u001b[92m-0.27372751332091233\u001b[0m\t \u001b[1m\u001b[92m-0.27372751332091233\u001b[0m\t \u001b[1m\u001b[92m0.031556788053670286\u001b[0m\t \u001b[1m\u001b[92m0.06779256507280063\u001b[0m\n",
            "12 \t [ 9.88718943  9.88718943 14.88718943  0.88718943 18.93243415  0.88718943]\t -0.2692392275294413\t -0.27372751332091233\t 0.05197898639964444\t 0.06841442514955427\n",
            "13 \t [ 9.75352349  2.60469492 12.37532395  0.97505694  5.79813063  0.77659005]\t -0.26034189979789124\t -0.27372751332091233\t 0.040933995280005776\t 0.0666137873979374\n",
            "14 \t [5.96964614 7.44260308 8.10689559 0.95196253 5.10689559 1.        ]\t -0.25044359855271797\t -0.27372751332091233\t 0.03157534447744884\t 0.0646745231312066\n",
            "15 \t [0.51686432 3.31669963 9.         0.86328674 6.         0.97609807]\t -0.2551156822166417\t -0.27372751332091233\t 0.034001463006953815\t 0.06885301983966477\n",
            "16 \t [ 5.59489159  4.79991094 14.          0.85783079  3.          0.51965887]\t -0.1731202848125279\t -0.27372751332091233\t 0.033830650742957484\t 0.06918143886922133\n",
            "17 \t [ 9.83410791  9.54902776 14.9118743   0.96671484 19.26720286  0.95123568]\t -0.26942820959927183\t -0.27372751332091233\t 0.04989739472692568\t 0.0682439725514023\n",
            "18 \t [ 6.27976862  0.68473531 14.          0.98758664  5.          0.894576  ]\t -0.2690510715918292\t -0.27372751332091233\t 0.03670956638966529\t 0.06580331571939506\n",
            "19 \t [ 5.44856139  5.55813284 13.4312768   0.9326036   3.50523646  1.        ]\t -0.2709586524079569\t -0.27372751332091233\t 0.037179125661389215\t 0.04808030511373925\n",
            "20 \t [ 8.86897076  3.46697974 11.          0.59225902  9.          0.47586637]\t -0.09996283101158063\t -0.27372751332091233\t 0.0379507603249994\t 0.07717703879625928\n",
            "21 \t [ 8.01350971  9.39452245  7.          0.78496229 15.          0.57062146]\t -0.1556168125479802\t -0.27372751332091233\t 0.037873290520547255\t 0.037873290520547255\n",
            "22 \t [ 7.47841913  5.8287025  11.54408994  0.78509926  5.54408994  0.95841464]\t -0.262028927776763\t -0.27372751332091233\t 0.06842914868695146\t 0.08857066552888662\n",
            "23 \t [ 0.38770026  3.75331606 10.          0.64033993  8.          0.22151425]\t 0.19094930708747615\t -0.27372751332091233\t 0.06556847532046006\t 0.06556847532046006\n",
            "24 \t [ 6.53986112  7.86486911  8.          0.51123614 12.          0.99656982]\t -0.23625169037229216\t -0.27372751332091233\t 0.06362776905135503\t 0.06362776905135503\n",
            "25 \t [ 9.12998119  5.34361186 12.04509701  0.59881882  5.04509701  0.8037374 ]\t -0.24519718244891794\t -0.27372751332091233\t 0.07968362103305711\t 0.09533890372339278\n",
            "26 \t [ 0.40678625  1.26787537  5.          0.70261051 12.          0.55749237]\t -0.11110682400809865\t -0.27372751332091233\t 0.07497334099875752\t 0.07497334099875752\n",
            "\u001b[1m\u001b[92m27\u001b[0m\t \u001b[1m\u001b[92m[ 9.20598362  9.939031   14.79409994  1.         19.79409994  0.85330442]\u001b[0m\t \u001b[1m\u001b[92m-0.27453467871300885\u001b[0m\t \u001b[1m\u001b[92m-0.27453467871300885\u001b[0m\t \u001b[1m\u001b[92m0.06896618020351798\u001b[0m\t \u001b[1m\u001b[92m0.0822536476371389\u001b[0m\n",
            "28 \t [7.64692639 9.63785405 6.         0.57017652 9.         0.55205494]\t -0.13465294065901875\t -0.27453467871300885\t 0.05208925410697373\t 0.05208925410697373\n",
            "29 \t [9.31614024 4.63885987 7.         0.54659744 6.         0.74814245]\t -0.17721263374115903\t -0.27453467871300885\t 0.05012649149681294\t 0.05012649149681294\n",
            "30 \t [ 8.72970833  8.53959219  7.          0.85735112 16.          0.73173338]\t -0.18458969831991298\t -0.27453467871300885\t 0.059919949933324126\t 0.062161163617787965\n"
          ]
        },
        {
          "output_type": "execute_result",
          "data": {
            "text/plain": [
              "48212.13635977481"
            ]
          },
          "metadata": {},
          "execution_count": 59
        }
      ]
    },
    {
      "cell_type": "code",
      "metadata": {
        "id": "B-zaPbk2uuzH",
        "colab": {
          "base_uri": "https://localhost:8080/"
        },
        "outputId": "9e2a76e9-0c2e-4658-d6e2-88aa2a4e92b5"
      },
      "source": [
        "### Bayesian optimization runs (x20): 'exact' Acquisition Function run number = 19 \n",
        "\n",
        "np.random.seed(run_num_19)\n",
        "surrogate_exact_19 = dtStudentProcess(cov_func, optimize=opt, nu = df)\n",
        "\n",
        "X_train19, X_test19, y_train19, y_test19 = train_test_split(X, y, test_size=test_perc, random_state=run_num_19)\n",
        "\n",
        "def f_syn_polarity19(alpha, gamma, max_depth, subsample, min_child_weight, colsample):\n",
        "    reg = XGBRegressor(reg_alpha=alpha, gamma=gamma, max_depth=int(max_depth), subsample=subsample, min_child_weight=min_child_weight,\n",
        "          colsample_bytree=colsample, n_estimators = n_est, random_state=run_num_19, objective = 'reg:squarederror')\n",
        "    score = np.array(cross_val_score(reg, X=X_train19, y=y_train19).mean())\n",
        "    return operator * score\n",
        "\n",
        "exact_19 = dGPGO(surrogate_exact_19, Acquisition_grad(util), f_syn_polarity19, param, n_jobs = -1) # Define BayesOpt\n",
        "exact_19.run(max_iter = max_iter, init_evals = n_init) # run\n",
        "\n",
        "### Return optimal parameters' set:\n",
        "params_exact_19 = exact_19.getResult()[0]\n",
        "params_exact_19['max_depth'] = int(params_exact_19['max_depth'])\n",
        "params_exact_19['min_child_weight'] = int(params_exact_19['min_child_weight'])\n",
        "\n",
        "### Re-train with optimal parameters, run predictons:\n",
        "dX_exact_train19 = xgb.DMatrix(X_train19, y_train19)\n",
        "dX_exact_test19 = xgb.DMatrix(X_test19, y_test19)\n",
        "model_exact_19 = xgb.train(params_exact_19, dX_exact_train19)\n",
        "pred_exact_19 = model_exact_19.predict(dX_exact_test19)\n",
        "\n",
        "rmse_exact_19 = np.sqrt(mean_squared_error(pred_exact_19, y_test19))\n",
        "rmse_exact_19"
      ],
      "execution_count": null,
      "outputs": [
        {
          "output_type": "stream",
          "name": "stdout",
          "text": [
            "Evaluation \t Proposed point \t  Current eval. \t  Best eval. \t         Max. ExactAcqFunc \t Max. ApproxAcqFunc \n",
            "init\t [ 0.97533602  7.61249717 13.          0.85765469 11.          0.39830191]\t -0.17415007614032985\t -0.19183869260741285\t    \t    \n",
            "init\t [ 0.82999565  6.71977081  6.          0.50407413 19.          0.67209466]\t -0.18632204531137952\t -0.19183869260741285\t    \t    \n",
            "init\t [ 2.15923256  5.49027432 12.          0.52588686 10.          0.20235326]\t 0.21252211626474998\t -0.19183869260741285\t    \t    \n",
            "init\t [4.99659267 1.52108422 6.         0.73481085 4.         0.71949465]\t -0.19183869260741285\t -0.19183869260741285\t    \t    \n",
            "init\t [ 3.72927156  9.46160045  5.          0.80554614 18.          0.97708466]\t -0.17145265904667953\t -0.19183869260741285\t    \t    \n",
            "\u001b[1m\u001b[92m1\u001b[0m\t \u001b[1m\u001b[92m[ 3.98244269  1.00367494 10.          0.79972195 10.          0.76646673]\u001b[0m\t \u001b[1m\u001b[92m-0.2664079916571761\u001b[0m\t \u001b[1m\u001b[92m-0.2664079916571761\u001b[0m\t \u001b[1m\u001b[92m0.040172798746990666\u001b[0m\t \u001b[1m\u001b[92m0.040172798746990666\u001b[0m\n",
            "2  \t [2.09754861 2.6282992  8.         0.77142046 4.         0.42641463]\t -0.159263494964981\t -0.2664079916571761\t 0.033718867242738634\t 0.033718867242738634\n",
            "3  \t [ 6.27854545  7.10921922  8.          0.72671603 19.          0.75160997]\t -0.24806609122800963\t -0.2664079916571761\t 0.03175654484956467\t 0.03175654484956467\n",
            "4  \t [4.88929098 0.59869674 5.         0.62191122 3.         0.75816014]\t -0.17349428548387855\t -0.2664079916571761\t 0.03419733867137919\t 0.03419733867137919\n",
            "5  \t [2.43858136 2.71286225 9.31663441 1.         2.31663441 1.        ]\t -0.2571736242142494\t -0.2664079916571761\t 0.03351887443192794\t 0.046638530613466726\n",
            "6  \t [ 1.43760127  2.85106909 10.34316373  0.82772169  2.37183235  0.99115134]\t -0.2631461153653287\t -0.2664079916571761\t 0.04383374915157785\t 0.05393725109603807\n",
            "7  \t [ 7.44845671  6.74193406  7.          0.8104212  19.          0.97313927]\t -0.23323478734163197\t -0.2664079916571761\t 0.04159139002662782\t 0.04810939476688587\n",
            "8  \t [3.43978602 2.97617848 6.04872994 0.62711472 4.04872994 0.58633347]\t -0.1788884815609401\t -0.2664079916571761\t 0.03565548923090739\t 0.06465823226656707\n",
            "9  \t [3.01932937 1.1827013  8.15694158 0.96160915 4.15694158 1.        ]\t -0.24715607313130744\t -0.2664079916571761\t 0.03513874125635071\t 0.0631295575850438\n",
            "10 \t [ 6.50809337  7.47391222  9.68526715  1.         19.68526715  1.        ]\t -0.2549432807502305\t -0.2664079916571761\t 0.03597899787131132\t 0.063132280157959\n",
            "11 \t [ 5.47165297  0.82344839  9.02738737  0.76142481 10.02738737  0.43765112]\t -0.16743104016197075\t -0.2664079916571761\t 0.039156547530706104\t 0.06530555602642235\n",
            "12 \t [2.66202985 2.48986162 9.51601051 1.         4.87955725 0.37890822]\t -0.1035301068334044\t -0.2664079916571761\t 0.03677302786849808\t 0.06367341090805198\n",
            "13 \t [ 1.55910109  4.66988067 10.          0.69063499  3.          0.95129618]\t -0.2578369614564213\t -0.2664079916571761\t 0.034453420470187214\t 0.06166492379638251\n",
            "14 \t [ 9.40120527  6.49469304  7.14624639  0.98279861 18.46252135  0.8524181 ]\t -0.23512433041880082\t -0.2664079916571761\t 0.03263973300527367\t 0.08295902510970271\n",
            "15 \t [5.06450939 1.10726958 7.         0.90817526 3.         0.66948935]\t -0.21582052018655312\t -0.2664079916571761\t 0.03728567421049711\t 0.08335359485484072\n",
            "16 \t [ 7.08339153  6.20943593 10.63350293  0.98863422 19.42996087  0.7243129 ]\t -0.24858167702760103\t -0.2664079916571761\t 0.03591826737593883\t 0.08279342680823105\n",
            "17 \t [ 5.92770091  6.67511835 11.4460618   1.         19.61265013  0.71441197]\t -0.23993014240499905\t -0.2664079916571761\t 0.04058325300112927\t 0.08316324970829617\n",
            "18 \t [ 2.13744374  2.13737196 10.          0.74787088  4.          0.4194566 ]\t -0.16690035934130487\t -0.2664079916571761\t 0.039856489087853275\t 0.06619614530981291\n",
            "19 \t [3.67490977 3.08879856 6.         0.93702758 3.         0.73587074]\t -0.19185286906446308\t -0.2664079916571761\t 0.0333440764070699\t 0.08325291800723283\n",
            "20 \t [ 6.43938582  6.93262529  9.29101311  0.98988164 19.29101311  0.58834657]\t -0.2327737191898609\t -0.2664079916571761\t 0.08450638358371483\t 0.101493697712438\n",
            "21 \t [ 7.94208704  5.2095945  11.          0.77225106 19.          0.28809655]\t -0.009901234182906893\t -0.2664079916571761\t 0.07434532562815593\t 0.08809863725060789\n",
            "22 \t [ 6.2177859   0.84337114 10.          0.66279945  8.          0.68065117]\t -0.23909116534093638\t -0.2664079916571761\t 0.05200909336770338\t 0.05200909336770338\n",
            "23 \t [ 3.65384962  2.05867807  9.32008418  0.7693264  10.32008418  0.41633061]\t -0.16515342862176538\t -0.2664079916571761\t 0.09415830897161862\t 0.11475130602642146\n",
            "24 \t [2.94968301 2.45442334 8.85835815 1.         2.6663247  1.        ]\t -0.24517032206905975\t -0.2664079916571761\t 0.06606477026469249\t 0.0839747946915409\n",
            "25 \t [3.50392351 6.35497601 9.         0.51577921 5.         0.45370698]\t -0.15870090774004847\t -0.2664079916571761\t 0.044174049578294135\t 0.044174049578294135\n",
            "26 \t [ 1.00164272  3.89600254 12.          0.60143419  2.          0.50268385]\t -0.2194455121979554\t -0.2664079916571761\t 0.041172029901277815\t 0.04440301449777898\n",
            "27 \t [ 1.75102832  2.75873273 11.11493358  0.60868949  2.2453702   0.55066724]\t -0.22350770897120387\t -0.2664079916571761\t 0.04615117215952391\t 0.05708629256913499\n",
            "28 \t [4.54499176 3.32751107 6.44395824 0.60808494 2.50094683 0.52899096]\t -0.17851177227427892\t -0.2664079916571761\t 0.053525315254298045\t 0.06681074631506584\n",
            "29 \t [ 6.19086368  8.47911079  6.          0.770382   12.          0.93751062]\t -0.20675557486459156\t -0.2664079916571761\t 0.05036988340552904\t 0.05036988340552904\n",
            "30 \t [2.67383049 5.93345555 9.22781101 0.75056851 5.47343947 0.3885986 ]\t -0.16631561299215145\t -0.2664079916571761\t 0.05267844367584966\t 0.05721425515239748\n"
          ]
        },
        {
          "output_type": "execute_result",
          "data": {
            "text/plain": [
              "49511.71719821917"
            ]
          },
          "metadata": {},
          "execution_count": 60
        }
      ]
    },
    {
      "cell_type": "code",
      "metadata": {
        "id": "NvkuHKlQuxRy",
        "colab": {
          "base_uri": "https://localhost:8080/"
        },
        "outputId": "5e121347-2991-43ef-f3fe-4f7b0f992289"
      },
      "source": [
        "### Bayesian optimization runs (x20): 'exact' Acquisition Function run number = 20 \n",
        "\n",
        "np.random.seed(run_num_20)\n",
        "surrogate_exact_20 = dtStudentProcess(cov_func, optimize=opt, nu = df)\n",
        "\n",
        "X_train20, X_test20, y_train20, y_test20 = train_test_split(X, y, test_size=test_perc, random_state=run_num_20)\n",
        "\n",
        "def f_syn_polarity20(alpha, gamma, max_depth, subsample, min_child_weight, colsample):\n",
        "    reg = XGBRegressor(reg_alpha=alpha, gamma=gamma, max_depth=int(max_depth), subsample=subsample, min_child_weight=min_child_weight,\n",
        "          colsample_bytree=colsample, n_estimators = n_est, random_state=run_num_20, objective = 'reg:squarederror')\n",
        "    score = np.array(cross_val_score(reg, X=X_train20, y=y_train20).mean())\n",
        "    return operator * score\n",
        "\n",
        "exact_20 = dGPGO(surrogate_exact_20, Acquisition_grad(util), f_syn_polarity20, param, n_jobs = -1) # Define BayesOpt\n",
        "exact_20.run(max_iter = max_iter, init_evals = n_init) # run\n",
        "\n",
        "### Return optimal parameters' set:\n",
        "params_exact_20 = exact_20.getResult()[0]\n",
        "params_exact_20['max_depth'] = int(params_exact_20['max_depth'])\n",
        "params_exact_20['min_child_weight'] = int(params_exact_20['min_child_weight'])\n",
        "\n",
        "### Re-train with optimal parameters, run predictons:\n",
        "dX_exact_train20 = xgb.DMatrix(X_train20, y_train20)\n",
        "dX_exact_test20 = xgb.DMatrix(X_test20, y_test20)\n",
        "model_exact_20 = xgb.train(params_exact_20, dX_exact_train20)\n",
        "pred_exact_20 = model_exact_20.predict(dX_exact_test20)\n",
        "\n",
        "rmse_exact_20 = np.sqrt(mean_squared_error(pred_exact_20, y_test20))\n",
        "rmse_exact_20"
      ],
      "execution_count": null,
      "outputs": [
        {
          "output_type": "stream",
          "name": "stdout",
          "text": [
            "Evaluation \t Proposed point \t  Current eval. \t  Best eval. \t         Max. ExactAcqFunc \t Max. ApproxAcqFunc \n",
            "init\t [ 5.88130801  8.97713728 14.          0.81074445  8.          0.95540649]\t -0.26936432191802473\t -0.26936432191802473\t    \t    \n",
            "init\t [6.72865655 0.41173329 8.         0.6361582  7.         0.76174061]\t -0.22717556385781487\t -0.26936432191802473\t    \t    \n",
            "init\t [ 4.77387703  8.66202323 10.          0.51833215  7.          0.10123387]\t 0.1869918793862669\t -0.26936432191802473\t    \t    \n",
            "init\t [ 5.75489985  4.74524381  8.          0.78084343 15.          0.26643049]\t -0.0022319593135559533\t -0.26936432191802473\t    \t    \n",
            "init\t [ 4.53444     4.47342833  8.          0.91974896 18.          0.35997552]\t -0.003277438149602863\t -0.26936432191802473\t    \t    \n",
            "1  \t [ 3.8422053   9.45395911 13.          0.75311658  7.          0.67283825]\t -0.23379854702783193\t -0.26936432191802473\t 0.02515215547931111\t 0.02515215547931111\n",
            "2  \t [6.687849   2.4162364  8.         0.83583695 7.         0.46477208]\t -0.12702368735025205\t -0.26936432191802473\t 0.031110526677807334\t 0.03647169344021764\n",
            "3  \t [5.71116265 1.21117747 8.15743312 0.97504418 8.15743312 0.88034364]\t -0.25255809491424125\t -0.26936432191802473\t 0.0306572050615747\t 0.03532408480379734\n",
            "4  \t [5.88155791 0.92880259 7.49400143 1.         7.49400143 0.61173765]\t -0.15841813957898682\t -0.26936432191802473\t 0.0490112800010563\t 0.055415688811611255\n",
            "5  \t [7.30333946 1.83120398 7.52917542 0.76661654 5.74563909 0.6939646 ]\t -0.21411144833036716\t -0.26936432191802473\t 0.026136753062546224\t 0.05190794456687566\n",
            "6  \t [6.69701311 1.51735934 8.22207393 1.         6.22207393 1.        ]\t -0.25213343280067985\t -0.26936432191802473\t 0.03857445915254312\t 0.04717077220526565\n",
            "7  \t [ 5.79816917  9.93402257 12.70933491  0.88597898  7.4484845   0.59071885]\t -0.1982809941339302\t -0.26936432191802473\t 0.030411842496453005\t 0.04978355777976515\n",
            "8  \t [ 7.90575583  0.3203761  12.          0.87875096  7.          0.22986948]\t 0.18552798679408658\t -0.26936432191802473\t 0.020505201588595534\t 0.020505201845824713\n",
            "9  \t [ 5.16142611  1.66777417 11.          0.83628414  9.          0.96383356]\t -0.2693310380607662\t -0.26936432191802473\t 0.02127707423156949\t 0.04903957786287983\n",
            "10 \t [7.69342485 2.83034773 6.         0.60969909 7.         0.3988609 ]\t -0.0961023635122443\t -0.26936432191802473\t 0.024864490724303055\t 0.061702601629444916\n",
            "11 \t [6.68419345 2.37265413 9.45062191 0.83363671 5.12618143 0.29557475]\t -0.003490750361339101\t -0.26936432191802473\t 0.02524697121850667\t 0.044616512021268685\n",
            "12 \t [6.67578793 3.61325589 7.         0.88253551 5.         0.96413507]\t -0.2359628605063498\t -0.26936432191802473\t 0.02252904039225881\t 0.04322130146077221\n",
            "13 \t [9.51256224 1.03096602 7.         0.71416918 6.         0.86441614]\t -0.2160534098449499\t -0.26936432191802473\t 0.022780715455479845\t 0.059337704253233974\n",
            "14 \t [ 3.30040406  8.65202044 13.64098603  0.75056183  8.55530514  0.7130695 ]\t -0.23557703740212857\t -0.26936432191802473\t 0.026727403617291288\t 0.06030292347022137\n",
            "15 \t [ 6.97560183  1.48211849  9.          0.80794429 10.          0.21839694]\t 0.18256806469136558\t -0.26936432191802473\t 0.02478182121593126\t 0.06762640566814046\n",
            "16 \t [ 2.54611246  9.97611697 13.          0.89526853 10.          0.37603097]\t -0.13508444739891243\t -0.26936432191802473\t 0.02546678837341076\t 0.06821293498879324\n",
            "\u001b[1m\u001b[92m17\u001b[0m\t \u001b[1m\u001b[92m[ 6.35874036  8.39359519 12.99314811  1.          9.08694559  1.        ]\u001b[0m\t \u001b[1m\u001b[92m-0.27204559537300266\u001b[0m\t \u001b[1m\u001b[92m-0.27204559537300266\u001b[0m\t \u001b[1m\u001b[92m0.0296385569133494\u001b[0m\t \u001b[1m\u001b[92m0.06676523272262752\u001b[0m\n",
            "18 \t [7.87165392 3.61139706 5.4576748  0.93754531 5.6229785  0.37519039]\t -0.07566437568205735\t -0.27204559537300266\t 0.02850848161862607\t 0.07227572406948866\n",
            "19 \t [ 3.98505873  2.30634587 12.04545307  0.77361317  9.04545307  0.48305154]\t -0.13402864300715317\t -0.27204559537300266\t 0.027148865101620165\t 0.06700126360316969\n",
            "20 \t [7.89298101 0.82744318 9.         0.92039631 8.         0.92231003]\t -0.2622475970790246\t -0.27204559537300266\t 0.08200911512418022\t 0.11360006497919874\n",
            "21 \t [ 7.41954815  2.80862624  9.          0.85591029 17.          0.3641919 ]\t -0.0050109344482965005\t -0.27204559537300266\t 0.0683335868659632\t 0.0683335868659632\n",
            "22 \t [6.05168593 1.24025839 6.76957782 0.70978761 8.08863767 0.86446362]\t -0.1935049386714839\t -0.27204559537300266\t 0.06636314107452904\t 0.07178903894807141\n",
            "23 \t [ 3.89094272  8.49145967 14.25259572  0.70843694  8.86391794  0.41793444]\t -0.12928104033073445\t -0.27204559537300266\t 0.05617270257120689\t 0.07932401536417874\n",
            "24 \t [ 1.96869013  7.00264368 10.          0.79233192  3.          0.8133863 ]\t -0.24144769550473963\t -0.27204559537300266\t 0.048084586279999585\t 0.048084586279999585\n",
            "25 \t [ 4.80913059  8.14830836 13.84771184  0.88611048  9.61107685  0.78548829]\t -0.2515315087279345\t -0.27204559537300266\t 0.07055248404443236\t 0.09688742640913219\n",
            "26 \t [ 8.41587592  4.63136717 11.          0.99322381 16.          0.53340451]\t -0.20304051623329294\t -0.27204559537300266\t 0.06449605559235473\t 0.06449605559235473\n",
            "27 \t [7.80044921 2.66144523 8.         0.96593264 7.         0.48022405]\t -0.12649868519290278\t -0.27204559537300266\t 0.08230011260385331\t 0.1150015771087338\n",
            "\u001b[1m\u001b[92m28\u001b[0m\t \u001b[1m\u001b[92m[ 6.96938592  7.93783201 12.39925741  1.         10.39925741  0.89329911]\u001b[0m\t \u001b[1m\u001b[92m-0.2780911689026015\u001b[0m\t \u001b[1m\u001b[92m-0.2780911689026015\u001b[0m\t \u001b[1m\u001b[92m0.056739401753625414\u001b[0m\t \u001b[1m\u001b[92m0.09890166861702152\u001b[0m\n",
            "29 \t [ 5.83409671  8.78654562 13.23872021  1.          8.48306935  1.        ]\t -0.2731026173290453\t -0.2780911689026015\t 0.09984833263768594\t 0.10582163890829956\n",
            "30 \t [5.77510937 4.18899295 7.14796703 0.89932014 5.14796703 1.        ]\t -0.235300464819499\t -0.2780911689026015\t 0.04127353292340637\t 0.07304652338897198\n"
          ]
        },
        {
          "output_type": "execute_result",
          "data": {
            "text/plain": [
              "48698.605882052194"
            ]
          },
          "metadata": {},
          "execution_count": 61
        }
      ]
    },
    {
      "cell_type": "code",
      "metadata": {
        "id": "KFKuwvS3uzrs",
        "colab": {
          "base_uri": "https://localhost:8080/"
        },
        "outputId": "2ec03eb2-ed37-416a-cb24-2e19dca8c25d"
      },
      "source": [
        "end_exact = time.time()\n",
        "end_exact\n",
        "\n",
        "time_exact = end_exact - start_exact\n",
        "time_exact"
      ],
      "execution_count": null,
      "outputs": [
        {
          "output_type": "execute_result",
          "data": {
            "text/plain": [
              "2874.500435590744"
            ]
          },
          "metadata": {},
          "execution_count": 62
        }
      ]
    },
    {
      "cell_type": "code",
      "metadata": {
        "id": "CU2FlhY4vHUk",
        "colab": {
          "base_uri": "https://localhost:8080/"
        },
        "outputId": "193b9d3f-b4d4-492b-f101-1c4d5b890290"
      },
      "source": [
        "rmse_approx = [rmse_approx_1,\n",
        "rmse_approx_2,\n",
        "rmse_approx_3,\n",
        "rmse_approx_4,\n",
        "rmse_approx_5,\n",
        "rmse_approx_6,\n",
        "rmse_approx_7,\n",
        "rmse_approx_8,\n",
        "rmse_approx_9,\n",
        "rmse_approx_10,\n",
        "rmse_approx_11,\n",
        "rmse_approx_12,\n",
        "rmse_approx_13,\n",
        "rmse_approx_14,\n",
        "rmse_approx_15,\n",
        "rmse_approx_16,\n",
        "rmse_approx_17,\n",
        "rmse_approx_18,\n",
        "rmse_approx_19,\n",
        "rmse_approx_20]\n",
        "\n",
        "np.mean(rmse_approx)"
      ],
      "execution_count": null,
      "outputs": [
        {
          "output_type": "execute_result",
          "data": {
            "text/plain": [
              "49866.40373998369"
            ]
          },
          "metadata": {},
          "execution_count": 63
        }
      ]
    },
    {
      "cell_type": "code",
      "metadata": {
        "id": "iZ53FsWXu3J1",
        "colab": {
          "base_uri": "https://localhost:8080/"
        },
        "outputId": "7da4f384-d5f2-4f58-9112-69273b765612"
      },
      "source": [
        "rmse_exact = [rmse_exact_1,\n",
        "rmse_exact_2,\n",
        "rmse_exact_3,\n",
        "rmse_exact_4,\n",
        "rmse_exact_5,\n",
        "rmse_exact_6,\n",
        "rmse_exact_7,\n",
        "rmse_exact_8,\n",
        "rmse_exact_9,\n",
        "rmse_exact_10,\n",
        "rmse_exact_11,\n",
        "rmse_exact_12,\n",
        "rmse_exact_13,\n",
        "rmse_exact_14,\n",
        "rmse_exact_15,\n",
        "rmse_exact_16,\n",
        "rmse_exact_17,\n",
        "rmse_exact_18,\n",
        "rmse_exact_19,\n",
        "rmse_exact_20]\n",
        "\n",
        "np.mean(rmse_exact)"
      ],
      "execution_count": null,
      "outputs": [
        {
          "output_type": "execute_result",
          "data": {
            "text/plain": [
              "49617.944572581735"
            ]
          },
          "metadata": {},
          "execution_count": 64
        }
      ]
    },
    {
      "cell_type": "code",
      "metadata": {
        "id": "a9FOyoH8u5Wx",
        "colab": {
          "base_uri": "https://localhost:8080/"
        },
        "outputId": "4ceed0ee-22ff-41fe-8498-04d013b68759"
      },
      "source": [
        "min_rmse_approx = min_max_array(rmse_approx)\n",
        "min_rmse_approx, len(min_rmse_approx)"
      ],
      "execution_count": null,
      "outputs": [
        {
          "output_type": "execute_result",
          "data": {
            "text/plain": [
              "([48973.66312746987,\n",
              "  48973.66312746987,\n",
              "  48821.42487579994,\n",
              "  48821.42487579994,\n",
              "  48821.42487579994,\n",
              "  48821.42487579994,\n",
              "  48821.42487579994,\n",
              "  48821.42487579994,\n",
              "  48075.00995818073,\n",
              "  48075.00995818073,\n",
              "  48075.00995818073,\n",
              "  48075.00995818073,\n",
              "  48075.00995818073,\n",
              "  48075.00995818073,\n",
              "  48075.00995818073,\n",
              "  48075.00995818073,\n",
              "  48075.00995818073,\n",
              "  48075.00995818073,\n",
              "  48075.00995818073,\n",
              "  48075.00995818073],\n",
              " 20)"
            ]
          },
          "metadata": {},
          "execution_count": 65
        }
      ]
    },
    {
      "cell_type": "code",
      "metadata": {
        "id": "unXOpKHcvO15",
        "colab": {
          "base_uri": "https://localhost:8080/"
        },
        "outputId": "b35bffd7-ed20-4f11-e22d-e757506c554c"
      },
      "source": [
        "min_rmse_exact = min_max_array(rmse_exact)\n",
        "min_rmse_exact, len(min_rmse_exact)"
      ],
      "execution_count": null,
      "outputs": [
        {
          "output_type": "execute_result",
          "data": {
            "text/plain": [
              "([47466.369550544194,\n",
              "  47466.369550544194,\n",
              "  47466.369550544194,\n",
              "  47466.369550544194,\n",
              "  47466.369550544194,\n",
              "  47437.8078261504,\n",
              "  47437.8078261504,\n",
              "  47437.8078261504,\n",
              "  47437.8078261504,\n",
              "  47437.8078261504,\n",
              "  47437.8078261504,\n",
              "  47437.8078261504,\n",
              "  47437.8078261504,\n",
              "  47437.8078261504,\n",
              "  47437.8078261504,\n",
              "  47437.8078261504,\n",
              "  47437.8078261504,\n",
              "  47437.8078261504,\n",
              "  47437.8078261504,\n",
              "  47437.8078261504],\n",
              " 20)"
            ]
          },
          "metadata": {},
          "execution_count": 66
        }
      ]
    },
    {
      "cell_type": "code",
      "metadata": {
        "id": "Yxo85-HEvRPi",
        "colab": {
          "base_uri": "https://localhost:8080/",
          "height": 292
        },
        "outputId": "20052919-ef15-4e17-c1c7-528cf3978cde"
      },
      "source": [
        "### Visualise!\n",
        "\n",
        "title = obj_func\n",
        "plt.figure()\n",
        "\n",
        "plt.plot(min_rmse_approx, color = 'Yellow', label='RMSE: Approx STP EI gradients', ls='--')\n",
        "plt.plot(min_rmse_exact, color = 'Red', label='RMSE: Exact STP dEI gradients', ls='-')# r'($\\nu$' ' = {})'.format(df))\n",
        "\n",
        "plt.title(title, weight = 'bold', family = 'Arial')\n",
        "plt.xlabel('Experiment(s)', weight = 'bold', family = 'Arial') # x-axis label\n",
        "plt.ylabel('RMSE (US Dollars $)', weight = 'bold', family = 'Arial') # y-axis label\n",
        "plt.legend(loc=0) # add plot legend\n",
        "\n",
        "### Make the x-ticks integers, not floats:\n",
        "count = len(min_rmse_approx)\n",
        "plt.xticks(np.arange(count), np.arange(1, count + 1))\n",
        "plt.grid(b=None)\n",
        "plt.show() #visualize!\n"
      ],
      "execution_count": null,
      "outputs": [
        {
          "output_type": "display_data",
          "data": {
            "text/plain": [
              "<Figure size 432x288 with 1 Axes>"
            ],
            "image/png": "[encoded data removed]"
          },
          "metadata": {}
        }
      ]
    },
    {
      "cell_type": "code",
      "metadata": {
        "id": "AwyO7_iZvT7a",
        "colab": {
          "base_uri": "https://localhost:8080/"
        },
        "outputId": "291208be-412f-440e-f14b-36c8c7946d4f"
      },
      "source": [
        "time_approx, time_exact\n"
      ],
      "execution_count": null,
      "outputs": [
        {
          "output_type": "execute_result",
          "data": {
            "text/plain": [
              "(2837.9136176109314, 2874.500435590744)"
            ]
          },
          "metadata": {},
          "execution_count": 68
        }
      ]
    },
    {
      "cell_type": "code",
      "metadata": {
        "id": "aHLA-0DnVXxD",
        "colab": {
          "base_uri": "https://localhost:8080/"
        },
        "outputId": "150c512e-1b9d-461a-8aed-bf37fcddc0b3"
      },
      "source": [
        "min(min_rmse_exact), min(min_rmse_approx)\n"
      ],
      "execution_count": null,
      "outputs": [
        {
          "output_type": "execute_result",
          "data": {
            "text/plain": [
              "(47437.8078261504, 48075.00995818073)"
            ]
          },
          "metadata": {},
          "execution_count": 69
        }
      ]
    },
    {
      "cell_type": "code",
      "metadata": {
        "id": "-iUNBRy3W0GY"
      },
      "source": [],
      "execution_count": null,
      "outputs": []
    }
  ]
}