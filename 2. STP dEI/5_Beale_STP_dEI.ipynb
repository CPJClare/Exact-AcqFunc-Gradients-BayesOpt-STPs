{
  "cells": [
    {
      "cell_type": "markdown",
      "metadata": {
        "id": "Dqn4dFx7Z2Ir"
      },
      "source": [
        "\n",
        "Beale: 2D\n"
      ]
    },
    {
      "cell_type": "code",
      "execution_count": 1,
      "metadata": {
        "colab": {
          "base_uri": "https://localhost:8080/"
        },
        "id": "MJTM_GZZZb5x",
        "outputId": "64ae4134-9aaf-4e02-c154-7152529a8ee1"
      },
      "outputs": [
        {
          "output_type": "stream",
          "name": "stdout",
          "text": [
            "Looking in indexes: https://pypi.org/simple, https://us-python.pkg.dev/colab-wheels/public/simple/\n",
            "Collecting pyGPGO\n",
            "  Downloading pyGPGO-0.5.1.tar.gz (14 kB)\n",
            "Requirement already satisfied: numpy in /usr/local/lib/python3.7/dist-packages (from pyGPGO) (1.21.6)\n",
            "Requirement already satisfied: mkl in /usr/local/lib/python3.7/dist-packages (from pyGPGO) (2019.0)\n",
            "Requirement already satisfied: scipy in /usr/local/lib/python3.7/dist-packages (from pyGPGO) (1.7.3)\n",
            "Requirement already satisfied: joblib in /usr/local/lib/python3.7/dist-packages (from pyGPGO) (1.1.0)\n",
            "Requirement already satisfied: scikit-learn in /usr/local/lib/python3.7/dist-packages (from pyGPGO) (1.0.2)\n",
            "Collecting Theano-PyMC\n",
            "  Downloading Theano-PyMC-1.1.2.tar.gz (1.8 MB)\n",
            "\u001b[K     |████████████████████████████████| 1.8 MB 7.0 MB/s \n",
            "\u001b[?25hCollecting pyMC3\n",
            "  Downloading pymc3-3.11.5-py3-none-any.whl (872 kB)\n",
            "\u001b[K     |████████████████████████████████| 872 kB 46.3 MB/s \n",
            "\u001b[?25hRequirement already satisfied: intel-openmp in /usr/local/lib/python3.7/dist-packages (from mkl->pyGPGO) (2022.1.0)\n",
            "Requirement already satisfied: patsy>=0.5.1 in /usr/local/lib/python3.7/dist-packages (from pyMC3->pyGPGO) (0.5.2)\n",
            "Requirement already satisfied: fastprogress>=0.2.0 in /usr/local/lib/python3.7/dist-packages (from pyMC3->pyGPGO) (1.0.3)\n",
            "Requirement already satisfied: arviz>=0.11.0 in /usr/local/lib/python3.7/dist-packages (from pyMC3->pyGPGO) (0.12.1)\n",
            "Requirement already satisfied: typing-extensions>=3.7.4 in /usr/local/lib/python3.7/dist-packages (from pyMC3->pyGPGO) (4.1.1)\n",
            "Requirement already satisfied: cachetools>=4.2.1 in /usr/local/lib/python3.7/dist-packages (from pyMC3->pyGPGO) (4.2.4)\n",
            "Collecting semver>=2.13.0\n",
            "  Downloading semver-2.13.0-py2.py3-none-any.whl (12 kB)\n",
            "Requirement already satisfied: pandas>=0.24.0 in /usr/local/lib/python3.7/dist-packages (from pyMC3->pyGPGO) (1.3.5)\n",
            "Requirement already satisfied: dill in /usr/local/lib/python3.7/dist-packages (from pyMC3->pyGPGO) (0.3.5.1)\n",
            "Collecting deprecat\n",
            "  Downloading deprecat-2.1.1-py2.py3-none-any.whl (9.8 kB)\n",
            "Requirement already satisfied: filelock in /usr/local/lib/python3.7/dist-packages (from Theano-PyMC->pyGPGO) (3.8.0)\n",
            "Requirement already satisfied: matplotlib>=3.0 in /usr/local/lib/python3.7/dist-packages (from arviz>=0.11.0->pyMC3->pyGPGO) (3.2.2)\n",
            "Requirement already satisfied: setuptools>=38.4 in /usr/local/lib/python3.7/dist-packages (from arviz>=0.11.0->pyMC3->pyGPGO) (57.4.0)\n",
            "Requirement already satisfied: netcdf4 in /usr/local/lib/python3.7/dist-packages (from arviz>=0.11.0->pyMC3->pyGPGO) (1.6.0)\n",
            "Requirement already satisfied: xarray-einstats>=0.2 in /usr/local/lib/python3.7/dist-packages (from arviz>=0.11.0->pyMC3->pyGPGO) (0.2.2)\n",
            "Requirement already satisfied: packaging in /usr/local/lib/python3.7/dist-packages (from arviz>=0.11.0->pyMC3->pyGPGO) (21.3)\n",
            "Requirement already satisfied: xarray>=0.16.1 in /usr/local/lib/python3.7/dist-packages (from arviz>=0.11.0->pyMC3->pyGPGO) (0.20.2)\n",
            "Requirement already satisfied: kiwisolver>=1.0.1 in /usr/local/lib/python3.7/dist-packages (from matplotlib>=3.0->arviz>=0.11.0->pyMC3->pyGPGO) (1.4.4)\n",
            "Requirement already satisfied: pyparsing!=2.0.4,!=2.1.2,!=2.1.6,>=2.0.1 in /usr/local/lib/python3.7/dist-packages (from matplotlib>=3.0->arviz>=0.11.0->pyMC3->pyGPGO) (3.0.9)\n",
            "Requirement already satisfied: python-dateutil>=2.1 in /usr/local/lib/python3.7/dist-packages (from matplotlib>=3.0->arviz>=0.11.0->pyMC3->pyGPGO) (2.8.2)\n",
            "Requirement already satisfied: cycler>=0.10 in /usr/local/lib/python3.7/dist-packages (from matplotlib>=3.0->arviz>=0.11.0->pyMC3->pyGPGO) (0.11.0)\n",
            "Requirement already satisfied: pytz>=2017.3 in /usr/local/lib/python3.7/dist-packages (from pandas>=0.24.0->pyMC3->pyGPGO) (2022.2.1)\n",
            "Requirement already satisfied: six in /usr/local/lib/python3.7/dist-packages (from patsy>=0.5.1->pyMC3->pyGPGO) (1.15.0)\n",
            "Requirement already satisfied: importlib-metadata in /usr/local/lib/python3.7/dist-packages (from xarray>=0.16.1->arviz>=0.11.0->pyMC3->pyGPGO) (4.12.0)\n",
            "Requirement already satisfied: wrapt<2,>=1.10 in /usr/local/lib/python3.7/dist-packages (from deprecat->pyMC3->pyGPGO) (1.14.1)\n",
            "Requirement already satisfied: zipp>=0.5 in /usr/local/lib/python3.7/dist-packages (from importlib-metadata->xarray>=0.16.1->arviz>=0.11.0->pyMC3->pyGPGO) (3.8.1)\n",
            "Requirement already satisfied: cftime in /usr/local/lib/python3.7/dist-packages (from netcdf4->arviz>=0.11.0->pyMC3->pyGPGO) (1.6.1)\n",
            "Requirement already satisfied: threadpoolctl>=2.0.0 in /usr/local/lib/python3.7/dist-packages (from scikit-learn->pyGPGO) (3.1.0)\n",
            "Building wheels for collected packages: pyGPGO, Theano-PyMC\n",
            "  Building wheel for pyGPGO (setup.py) ... \u001b[?25l\u001b[?25hdone\n",
            "  Created wheel for pyGPGO: filename=pyGPGO-0.5.1-py3-none-any.whl size=19879 sha256=5bba36e091be75e341f26e1bcd3ce02f012a82869736f87a9817da8b2fd786d8\n",
            "  Stored in directory: /root/.cache/pip/wheels/c8/5d/0b/2160114e2f1b87791c51b66cf07f89831dbb6f49167950316f\n",
            "  Building wheel for Theano-PyMC (setup.py) ... \u001b[?25l\u001b[?25hdone\n",
            "  Created wheel for Theano-PyMC: filename=Theano_PyMC-1.1.2-py3-none-any.whl size=1529963 sha256=93853b610998bee9f64989c35f0b3dd9514d74a6d751c56a349b855260a49372\n",
            "  Stored in directory: /root/.cache/pip/wheels/f3/af/8c/5dd7553522d74c52a7813806fc7ee1a9caa20a3f7c8fd850d5\n",
            "Successfully built pyGPGO Theano-PyMC\n",
            "Installing collected packages: Theano-PyMC, semver, deprecat, pyMC3, pyGPGO\n",
            "Successfully installed Theano-PyMC-1.1.2 deprecat-2.1.1 pyGPGO-0.5.1 pyMC3-3.11.5 semver-2.13.0\n"
          ]
        }
      ],
      "source": [
        "pip install pyGPGO\n"
      ]
    },
    {
      "cell_type": "code",
      "execution_count": 2,
      "metadata": {
        "id": "ZJSSPbwPaEUB"
      },
      "outputs": [],
      "source": [
        "### 1. Import python modules/packages required:\n",
        "\n",
        "import numpy as np\n",
        "import pandas as pd\n",
        "import scipy as sp\n",
        "import matplotlib.pyplot as plt\n",
        "import warnings\n",
        "import itertools\n",
        "import seaborn as sns\n",
        "import time\n",
        "\n",
        "from pyGPGO.GPGO import GPGO\n",
        "from pyGPGO.surrogates.tStudentProcess import tStudentProcess\n",
        "from pyGPGO.acquisition import Acquisition\n",
        "from pyGPGO.covfunc import squaredExponential\n",
        "from joblib import Parallel, delayed\n",
        "from scipy.linalg import inv\n",
        "from scipy.spatial.distance import cdist\n",
        "from scipy.optimize import minimize\n",
        "from scipy.stats import t\n",
        "from mpl_toolkits.axes_grid1.inset_locator import inset_axes, mark_inset\n",
        "\n",
        "warnings.filterwarnings(\"ignore\", category=RuntimeWarning)\n"
      ]
    },
    {
      "cell_type": "code",
      "execution_count": 3,
      "metadata": {
        "id": "OeYcTUNoaJWa"
      },
      "outputs": [],
      "source": [
        "### Inputs:\n",
        "\n",
        "func = 'Beale'\n",
        "n_test = 500\n",
        "eps = 1e-08\n",
        "\n",
        "util = 'EI'\n",
        "\n",
        "n_init = 5 # random initialisations\n",
        "iters = 20\n",
        "opt = True\n",
        "\n",
        "df = 3"
      ]
    },
    {
      "cell_type": "code",
      "execution_count": 4,
      "metadata": {
        "id": "xpaEOjdzaPMS"
      },
      "outputs": [],
      "source": [
        "### Objective Function - Beale(x) 2-D:\n",
        "\n",
        "def objfunc(x1_training, x2_training):\n",
        "            return  operator * (\n",
        "                (1.500 - x1_training + x1_training * x2_training)**2 +\n",
        "                (2.250 - x1_training + x1_training * x2_training**2)**2 +\n",
        "                (2.625 - x1_training + x1_training * x2_training**3)**2 \n",
        "                )\n",
        "       \n",
        "# Constraints:\n",
        "lb = -4.5\n",
        "ub = +4.5\n",
        "\n",
        "# Input array dimension(s):\n",
        "dim = 2\n",
        "\n",
        "# 2-D inputs' parameter bounds:\n",
        "param = {'x1_training': ('cont', [lb, ub]),\n",
        "             'x2_training': ('cont', [lb, ub])}\n",
        "\n",
        "# True y bounds:\n",
        "operator = -1\n",
        "y_lb = 0 # targets global minimum\n",
        "y_global_orig = y_lb * operator # targets global minimum\n",
        "\n",
        "# Test data:\n",
        "x1_test = np.linspace(lb, ub, n_test)\n",
        "x2_test = np.linspace(lb, ub, n_test)\n",
        "  \n",
        "x_test = np.column_stack((x1_test,x2_test))"
      ]
    },
    {
      "cell_type": "code",
      "execution_count": 5,
      "metadata": {
        "id": "eYpI3Zm4aGxi"
      },
      "outputs": [],
      "source": [
        "n_start_AcqFunc = iters\n",
        "inverse = -1\n"
      ]
    },
    {
      "cell_type": "code",
      "execution_count": 6,
      "metadata": {
        "id": "oO_GUmOoaV0T"
      },
      "outputs": [],
      "source": [
        "### Cumulative Regret Calculators:\n",
        "\n",
        "def min_max_array(x):\n",
        "    new_list = []\n",
        "    for i, num in enumerate(x):\n",
        "            new_list.append(np.min(x[0:i+1]))\n",
        "    return new_list\n",
        "  \n",
        "def acqFuncExact(x):\n",
        "    new_array = []\n",
        "    x = np.array(x) \n",
        "    for i, num in enumerate(x):\n",
        "            new_array = x[:-2][::-3]\n",
        "    return new_array[::-1]\n",
        "\n",
        "def acqFuncApprox(x):\n",
        "    new_array = []\n",
        "    x = np.array(x) \n",
        "    for i, num in enumerate(x):\n",
        "            new_array = x[:-1][::-3]\n",
        "    return new_array[::-1]\n"
      ]
    },
    {
      "cell_type": "code",
      "execution_count": 7,
      "metadata": {
        "id": "kuuJx0IMam9S"
      },
      "outputs": [],
      "source": [
        "### Surrogate derivatives: \n",
        "\n",
        "cov_func = squaredExponential()\n",
        "\n",
        "def kronDelta(X, Xstar):                     # Kronecker's Delta method\n",
        "    return cdist(X, Xstar) < np.finfo(np.float32).eps\n",
        "\n",
        "def se(X, Xstar, sigmaf, l, sigman):         # S.E. kernel method\n",
        "    return sigmaf * np.exp(-0.5 * cdist(X, Xstar) ** 2 / l ** 2) + sigman * kronDelta(X, Xstar)\n",
        "\n",
        "def delta(X, Xstar):                         # Distance between training X and test Xstar vectors\n",
        "    return (X - Xstar)\n",
        "   \n",
        "def der_covmat(X, Xstar, sigmaf, l, sigman): # Covariance matrix derivative terms (i.e. exact, first-order)\n",
        "    nx = len(X)\n",
        "    ny = len(Xstar)\n",
        "    return np.round(np.array([(delta(np.atleast_2d(i), np.atleast_2d(j))[0] * se(np.atleast_2d(i), np.atleast_2d(j), sigmaf, l, sigman)[0]).sum() for (i, j) in itertools.product(X, Xstar)]).reshape(nx, ny), 8)\n",
        "\n",
        "class dtStudentProcess(tStudentProcess):    # Via inheritance, also optimises hyperparameters when opt = TRUE\n",
        "    \n",
        "    def AcqGrad(self, Xstar):               # Method returning exact, first-order derivatives of the STP's posterior mean and standard deviation\n",
        "        Xstar = np.atleast_2d(Xstar)\n",
        "        Kstar = self.covfunc.K(self.X, Xstar).T\n",
        "        dKstar = der_covmat(self.X, Xstar, self.covfunc.sigmaf, self.covfunc.l, self.covfunc.sigman).T\n",
        "        \n",
        "        smd_adj = (self.nu + self.beta1 - 2) / (self.nu + self.n1 - 2)\n",
        "\n",
        "        alpha = np.dot(np.linalg.inv(self.K11 + (self.covfunc.sigman**2) * np.eye(len(self.X))), self.y)\n",
        "        alpha_Kstar = np.dot(np.linalg.inv(self.K11 + (self.covfunc.sigman**2) * np.eye(len(self.X))), Kstar.T)      \n",
        "        \n",
        "        dm = np.dot(dKstar, alpha)\n",
        "        ds = -2 * smd_adj * np.dot(dKstar, alpha_Kstar)\n",
        "        \n",
        "        return dm, ds \n",
        "        "
      ]
    },
    {
      "cell_type": "code",
      "execution_count": 8,
      "metadata": {
        "id": "_Dc3YVHVaXz7"
      },
      "outputs": [],
      "source": [
        "### Add exact acquisition function gradient as attribute:\n",
        "\n",
        "class Acquisition_grad(Acquisition):    \n",
        "    def __init__(self, mode, eps=eps, **params):\n",
        "        \n",
        "        self.params = params\n",
        "        self.eps = eps\n",
        "\n",
        "        mode_dict = {\n",
        "            'EI': self.EI\n",
        "        }\n",
        "\n",
        "        self.f = mode_dict[mode]\n",
        "    \n",
        "    def EI(self, tau, mean, std, ds, dm, nu=3.0):\n",
        "        gamma = (mean - tau - self.eps) / (std + self.eps)\n",
        "        gamma_h = (mean - tau) / (std + self.eps)\n",
        "        dsdx = ds / (2 * (std + self.eps))\n",
        "        dmdx = (dm - gamma * dsdx) / (std + self.eps)\n",
        "        \n",
        "        f = (std + self.eps) * (gamma * t.cdf(gamma, df=nu) + (nu + gamma ** 2)/(nu - 1) * t.pdf(gamma, df=nu))\n",
        "        df1 = f / (std + self.eps) * dsdx \n",
        "        df2 = (std + self.eps) * (t.cdf(gamma, df=nu) * dmdx + gamma * t.pdf(gamma, df=nu) \\\n",
        "            * (1 - (nu + gamma ** 2)/(nu - 1) + 2/(nu - 1) * dmdx))\n",
        "        df = (df1 + df2)[0]\n",
        "        df_arr = []\n",
        "\n",
        "        for j in range(0, dim):\n",
        "          df_arr.append(df)\n",
        "        return f, np.asarray(df_arr).transpose()\n",
        "        \n",
        "    def d_eval(self, tau, mean, std, ds, dm, nu=3.0):\n",
        "    \n",
        "        return self.f(tau, mean, std, ds, dm, nu=3.0, **self.params)\n",
        "        "
      ]
    },
    {
      "cell_type": "code",
      "execution_count": 9,
      "metadata": {
        "id": "PITEQC8YSl7i"
      },
      "outputs": [],
      "source": [
        "## GPGO_multi: \n",
        "\n",
        "class GPGO_multi(GPGO):\n",
        "    n_start = n_start_AcqFunc\n",
        "\n",
        "    def __init__(self, surrogate, acquisition, f, parameter_dict, n_jobs=1):\n",
        "        self.GP = surrogate\n",
        "        self.A = acquisition\n",
        "        self.f = f\n",
        "        self.parameters = parameter_dict\n",
        "        self.n_jobs = n_jobs\n",
        "\n",
        "        self.parameter_key = list(parameter_dict.keys())\n",
        "        self.parameter_value = list(parameter_dict.values())\n",
        "        self.parameter_type = [p[0] for p in self.parameter_value]\n",
        "        self.parameter_range = [p[1] for p in self.parameter_value]\n",
        "\n",
        "        self.history = []\n",
        "        self.header =   'Evaluation \\t Proposed point \\t  Current eval. \\t  Best eval. \\t        Exact EI: StdDev. x \\t Approx EI: StdDev. x '\n",
        "        self.template = '{:3}\\t {}\\t {:3}\\t {:3}\\t {:3}\\t {:3}'\n",
        " \n",
        "    def acqfuncExact(self, xnew, n_start=n_start_AcqFunc):\n",
        "        new_mean, new_var = self.GP.predict(xnew, return_std=True)\n",
        "        new_std = np.sqrt(new_var + eps)\n",
        "        dm, ds = self.GP.AcqGrad(xnew)\n",
        "        f, df = self.A.d_eval(self.tau, new_mean, new_std, ds=ds, dm=dm, nu=3.0)\n",
        "\n",
        "        return -f, -df\n",
        "   \n",
        "    def acqfuncApprox(self, xnew, n_start=n_start_AcqFunc):\n",
        "        new_mean, new_var = self.GP.predict(xnew, return_std=True)\n",
        "        new_std = np.sqrt(new_var + eps)\n",
        "        dm, ds = self.GP.AcqGrad(xnew)\n",
        "        f, df = self.A.d_eval(self.tau, new_mean, new_std, ds=ds, dm=dm, nu=3.0)\n",
        "\n",
        "        return -f\n",
        "   \n",
        "    def _optimizeAcq(self, method='L-BFGS-B', n_start=n_start_AcqFunc):\n",
        "        \n",
        "        start_points_dict = [self._sampleParam() for i in range(n_start)]\n",
        "        start_points_arr = np.array([list(s.values())\n",
        "                                     for s in start_points_dict])\n",
        "        x_best = np.empty((n_start, len(self.parameter_key)))\n",
        "        f_best = np.empty((n_start,))\n",
        "        opt = Parallel(n_jobs=self.n_jobs)(delayed(minimize)(self.acqfuncApprox,\n",
        "                                                                 x0=start_point,\n",
        "                                                                 method=method,\n",
        "                                                                 jac = False,\n",
        "                                                                 bounds=self.parameter_range) for start_point in\n",
        "                                               start_points_arr)\n",
        "        x_best = np.array([res.x for res in opt])\n",
        "        f_best = np.array([np.atleast_1d(res.fun)[0] for res in opt])\n",
        "        f_best_min = min(f_best)\n",
        "\n",
        "        self.x_best = x_best\n",
        "        self.f_best = f_best\n",
        "        self.f_best_min = f_best_min\n",
        "        self.x_best_std = np.std(x_best)\n",
        "        self.best = x_best[np.argmin(f_best)]\n",
        "        self.start_points_arr = start_points_arr        \n",
        "        self.history.append(self.x_best_std)\n",
        "\n",
        "        x_best_exact = np.empty((n_start, len(self.parameter_key)))\n",
        "        f_best_exact = np.empty((n_start,))\n",
        "        opt_exact = Parallel(n_jobs=self.n_jobs)(delayed(minimize)(self.acqfuncExact,\n",
        "                                                                 x0=start_point,\n",
        "                                                                 method=method,\n",
        "                                                                 jac = True,\n",
        "                                                                 bounds=self.parameter_range) for start_point in\n",
        "                                               start_points_arr)\n",
        "        x_best_exact = np.array([res.x for res in opt_exact])\n",
        "        f_best_exact = np.array([np.atleast_1d(res.fun)[0] for res in opt_exact])\n",
        "        f_best_min_exact = min(f_best_exact)\n",
        "\n",
        "        self.x_best_exact = x_best_exact\n",
        "        self.f_best_exact = f_best_exact\n",
        "        self.f_best_min_exact = f_best_min_exact\n",
        "        self.x_best_std_exact = np.std(x_best_exact)\n",
        "        self.best_exact = x_best_exact[np.argmin(f_best_exact)]\n",
        "        self.start_points_arr = start_points_arr\n",
        "        self.history.append(self.x_best_std_exact)\n",
        "\n",
        "    def _printInit(self):\n",
        "        print(self.header)\n",
        "        for init_eval in range(self.init_evals):\n",
        "            print(self.template.format('init', self.GP.X[init_eval], inverse * self.GP.y[init_eval], inverse * self.tau, '', ''))\n",
        "      \n",
        "    def _printCurrent(self):\n",
        "        OKGREEN = '\\033[92m'\n",
        "        ENDC = '\\033[0m'\n",
        "        BOLD = '\\033[1m'\n",
        "        eval = str(len(self.GP.y) - self.init_evals)\n",
        "        proposed = str(self.best)\n",
        "        curr_eval = str(inverse * self.GP.y[-1])\n",
        "        curr_best = str(inverse * self.tau)\n",
        "        min_acqfunc = str(self.f_best_min)\n",
        "        min_acqfunc_exact = str(self.f_best_min_exact)\n",
        "        x_best_std = str(self.x_best_std)\n",
        "        x_best_std_exact = str(self.x_best_std_exact)\n",
        "        if float(curr_eval) <= float(curr_best):\n",
        "            eval = BOLD + OKGREEN + eval + ENDC\n",
        "            proposed = BOLD + OKGREEN + proposed + ENDC\n",
        "            curr_eval = BOLD + OKGREEN + curr_eval + ENDC\n",
        "            curr_best = BOLD + OKGREEN + curr_best + ENDC\n",
        "            x_best_std = BOLD + OKGREEN + x_best_std + ENDC\n",
        "            x_best_std_exact = BOLD + OKGREEN + x_best_std_exact + ENDC\n",
        "        print(self.template.format(eval, proposed, curr_eval, curr_best, x_best_std_exact, x_best_std))\n",
        "        \n",
        "    def run(self, max_iter=10, init_evals=3, resume=False):\n",
        "        \n",
        "        if not resume:\n",
        "            self.init_evals = init_evals\n",
        "            self._firstRun(self.init_evals)\n",
        "            self._printInit()\n",
        "        for iteration in range(max_iter):\n",
        "            self._optimizeAcq()\n",
        "            self.updateGP()\n",
        "            self._printCurrent()\n"
      ]
    },
    {
      "cell_type": "code",
      "execution_count": 10,
      "metadata": {
        "id": "b_B-w81BJxKN"
      },
      "outputs": [],
      "source": [
        "## dGPGO:\n",
        "\n",
        "class dGPGO(GPGO):\n",
        "    n_start = n_start_AcqFunc\n",
        "\n",
        "    def __init__(self, surrogate, acquisition, f, parameter_dict, n_jobs=1):\n",
        "        self.GP = surrogate\n",
        "        self.A = acquisition\n",
        "        self.f = f\n",
        "        self.parameters = parameter_dict\n",
        "        self.n_jobs = n_jobs\n",
        "\n",
        "        self.parameter_key = list(parameter_dict.keys())\n",
        "        self.parameter_value = list(parameter_dict.values())\n",
        "        self.parameter_type = [p[0] for p in self.parameter_value]\n",
        "        self.parameter_range = [p[1] for p in self.parameter_value]\n",
        "\n",
        "        self.history = []\n",
        "        self.header =   'Evaluation \\t Proposed point \\t  Current eval. \\t  Best eval. \\t        Exact EI: StdDev. x \\t Approx EI: StdDev. x '\n",
        "        self.template = '{:3}\\t {}\\t {:3}\\t {:3}\\t {:3}\\t {:3}'\n",
        "\n",
        "    def acqfuncExact(self, xnew, n_start=n_start_AcqFunc):\n",
        "        new_mean, new_var = self.GP.predict(xnew, return_std=True)\n",
        "        new_std = np.sqrt(new_var + eps)\n",
        "        dm, ds = self.GP.AcqGrad(xnew)\n",
        "        f, df = self.A.d_eval(self.tau, new_mean, new_std, ds=ds, dm=dm, nu=3.0)\n",
        "\n",
        "        return -f, -df\n",
        "   \n",
        "    def acqfuncApprox(self, xnew, n_start=n_start_AcqFunc):\n",
        "        new_mean, new_var = self.GP.predict(xnew, return_std=True)\n",
        "        new_std = np.sqrt(new_var + eps)\n",
        "        dm, ds = self.GP.AcqGrad(xnew)\n",
        "        f, df = self.A.d_eval(self.tau, new_mean, new_std, ds=ds, dm=dm, nu=3.0)\n",
        "\n",
        "        return -f\n",
        "\n",
        "    def d_optimizeAcq(self, method='L-BFGS-B', n_start=n_start_AcqFunc):\n",
        "        start_points_dict = [self._sampleParam() for i in range(n_start)]\n",
        "        start_points_arr = np.array([list(s.values())\n",
        "                                     for s in start_points_dict])\n",
        "        x_best = np.empty((n_start, len(self.parameter_key)))\n",
        "        f_best = np.empty((n_start,))\n",
        "        opt = Parallel(n_jobs=self.n_jobs)(delayed(minimize)(self.acqfuncExact,\n",
        "                                                                 x0=start_point,\n",
        "                                                                 method=method,\n",
        "                                                                 jac = True,\n",
        "                                                                 bounds=self.parameter_range) for start_point in\n",
        "                                               start_points_arr)\n",
        "        x_best = np.array([res.x for res in opt])\n",
        "        f_best = np.array([np.atleast_1d(res.fun)[0] for res in opt])\n",
        "        f_best_min = min(f_best)\n",
        "\n",
        "        self.x_best = x_best\n",
        "        self.f_best = f_best\n",
        "        self.f_best_min = f_best_min\n",
        "        self.x_best_std = np.std(x_best)\n",
        "        self.best = x_best[np.argmin(f_best)]\n",
        "        self.start_points_arr = start_points_arr\n",
        "        self.history.append(self.x_best_std)\n",
        "\n",
        "        x_best_approx = np.empty((n_start, len(self.parameter_key)))\n",
        "        f_best_approx = np.empty((n_start,))\n",
        "        opt_approx = Parallel(n_jobs=self.n_jobs)(delayed(minimize)(self.acqfuncApprox,\n",
        "                                                                 x0=start_point,\n",
        "                                                                 method=method,\n",
        "                                                                 jac = False,\n",
        "                                                                 bounds=self.parameter_range) for start_point in\n",
        "                                               start_points_arr)\n",
        "        x_best_approx = np.array([res.x for res in opt_approx])\n",
        "        f_best_approx = np.array([np.atleast_1d(res.fun)[0] for res in opt_approx])\n",
        "        f_best_min_approx = min(f_best_approx)\n",
        "\n",
        "        self.x_best_approx = x_best_approx\n",
        "        self.f_best_approx = f_best_approx\n",
        "        self.f_best_min_approx = f_best_min_approx\n",
        "        self.x_best_std_approx = np.std(x_best_approx)\n",
        "        self.best_approx = x_best_approx[np.argmin(f_best_approx)]\n",
        "        self.start_points_arr = start_points_arr\n",
        "        self.history.append(self.x_best_std_approx)\n",
        "    \n",
        "    def _printInit(self):\n",
        "        print(self.header)\n",
        "        for init_eval in range(self.init_evals):\n",
        "            print(self.template.format('init', self.GP.X[init_eval], inverse * self.GP.y[init_eval], inverse * self.tau, '', ''))\n",
        "      \n",
        "    def _printCurrent(self):\n",
        "        OKGREEN = '\\033[92m'\n",
        "        ENDC = '\\033[0m'\n",
        "        BOLD = '\\033[1m'\n",
        "        eval = str(len(self.GP.y) - self.init_evals)\n",
        "        proposed = str(self.best)\n",
        "        curr_eval = str(inverse * self.GP.y[-1])\n",
        "        curr_best = str(inverse * self.tau)\n",
        "        min_acqfunc = str(self.f_best_min)\n",
        "        min_acqfunc_approx = str(self.f_best_min_approx)\n",
        "        x_best_std = str(self.x_best_std)\n",
        "        x_best_std_approx = str(self.x_best_std_approx)\n",
        "        if float(curr_eval) <= float(curr_best):\n",
        "            eval = BOLD + OKGREEN + eval + ENDC\n",
        "            proposed = BOLD + OKGREEN + proposed + ENDC\n",
        "            curr_eval = BOLD + OKGREEN + curr_eval + ENDC\n",
        "            curr_best = BOLD + OKGREEN + curr_best + ENDC\n",
        "            x_best_std = BOLD + OKGREEN + x_best_std + ENDC\n",
        "            x_best_std_approx = BOLD + OKGREEN + x_best_std_approx + ENDC\n",
        "        print(self.template.format(eval, proposed, curr_eval, curr_best, x_best_std, x_best_std_approx))\n",
        "\n",
        "    def run(self, max_iter=10, init_evals=3, resume=False):\n",
        "        \n",
        "        if not resume:\n",
        "            self.init_evals = init_evals\n",
        "            self._firstRun(self.init_evals)\n",
        "            self._printInit()\n",
        "        for iteration in range(max_iter):\n",
        "            self.d_optimizeAcq()\n",
        "            self.updateGP()\n",
        "            self._printCurrent()\n"
      ]
    },
    {
      "cell_type": "code",
      "execution_count": 11,
      "metadata": {
        "id": "qXIKGuXVGEg2"
      },
      "outputs": [],
      "source": [
        "###Reproducible set-seeds:\n",
        "\n",
        "run_num_1 = 1\n",
        "run_num_2 = 2\n",
        "run_num_3 = 3\n",
        "run_num_4 = 4\n",
        "run_num_5 = 5\n",
        "run_num_6 = 6\n",
        "run_num_7 = 7\n",
        "run_num_8 = 8\n",
        "run_num_9 = 9\n",
        "run_num_10 = 10\n",
        "run_num_11 = 11\n",
        "run_num_12 = 12\n",
        "run_num_13 = 13\n",
        "run_num_14 = 14\n",
        "run_num_15 = 15\n",
        "run_num_16 = 16\n",
        "run_num_17 = 17\n",
        "run_num_18 = 18\n",
        "run_num_19 = 19\n",
        "run_num_20 = 20\n"
      ]
    },
    {
      "cell_type": "code",
      "execution_count": 12,
      "metadata": {
        "colab": {
          "base_uri": "https://localhost:8080/"
        },
        "id": "JEhagQmnTVIK",
        "outputId": "49b996f4-1370-4f0c-dc14-59f3b0477cfe"
      },
      "outputs": [
        {
          "output_type": "execute_result",
          "data": {
            "text/plain": [
              "1662385535.39182"
            ]
          },
          "metadata": {},
          "execution_count": 12
        }
      ],
      "source": [
        "start_approx = time.time()\n",
        "start_approx\n"
      ]
    },
    {
      "cell_type": "code",
      "execution_count": 13,
      "metadata": {
        "colab": {
          "base_uri": "https://localhost:8080/"
        },
        "id": "aH0YSTXufD1v",
        "outputId": "7557cb53-4b93-47c6-f342-9bf6b3889c52"
      },
      "outputs": [
        {
          "output_type": "stream",
          "name": "stdout",
          "text": [
            "Evaluation \t Proposed point \t  Current eval. \t  Best eval. \t        Exact EI: StdDev. x \t Approx EI: StdDev. x \n",
            "init\t [-0.74680196  1.98292044]\t 6.597029498756062\t 6.597029498756062\t    \t    \n",
            "init\t [-4.49897063 -1.77900685]\t 1305.4710589552556\t 6.597029498756062\t    \t    \n",
            "init\t [-3.17919698 -3.66895265]\t 28173.776013477825\t 6.597029498756062\t    \t    \n",
            "init\t [-2.8236581  -1.38995346]\t 237.9931764117774\t 6.597029498756062\t    \t    \n",
            "init\t [-0.92909273  0.34935061]\t 26.1790631757263\t 6.597029498756062\t    \t    \n",
            "1  \t [-3.45872854  0.70783302]\t 45.701342397289736\t 6.597029498756062\t 3.2076154856298436\t 3.712994226755531\n",
            "2  \t [4.5 4.5]\t 174813.36328125\t 6.597029498756062\t 2.737440614736301\t 3.23215197802042\n",
            "3  \t [ 4.5 -4.5]\t 178131.83203125\t 6.597029498756062\t 2.783219747078788\t 3.9934514487946644\n",
            "4  \t [-4.5  4.5]\t 169680.83203125\t 6.597029498756062\t 3.202861344608653\t 3.4411695220334115\n",
            "\u001b[1m\u001b[92m5\u001b[0m\t \u001b[1m\u001b[92m[ 2.38309702 -0.01133301]\u001b[0m\t \u001b[1m\u001b[92m0.904439350347999\u001b[0m\t \u001b[1m\u001b[92m0.904439350347999\u001b[0m\t \u001b[1m\u001b[92m2.704604078941776\u001b[0m\t \u001b[1m\u001b[92m2.219320385454639\u001b[0m\n",
            "6  \t [ 0.55274627 -2.33184188]\t 46.59931472411752\t 0.904439350347999\t 2.6921156655987124\t 2.4610394538273157\n",
            "7  \t [0.12434768 4.5       ]\t 216.62860486078944\t 0.904439350347999\t 2.992969915037148\t 3.0564121881590727\n",
            "8  \t [ 4.5        -0.44255735]\t 31.918793195517942\t 0.904439350347999\t 2.8666284530476096\t 2.9292186438323338\n",
            "9  \t [ 0.23189178 -4.5       ]\t 396.2409109197677\t 0.904439350347999\t 2.98184144888397\t 2.8412551633828866\n",
            "10 \t [1.52880934 2.18690814]\t 367.4460346171011\t 0.904439350347999\t 3.213743561930362\t 2.9865942556519323\n",
            "11 \t [3.84352466 1.33192037]\t 96.83332848474083\t 0.904439350347999\t 2.5824315993818407\t 2.389629699200356\n",
            "12 \t [ 2.48106951 -1.88510655]\t 377.209898555966\t 0.904439350347999\t 2.849479517328082\t 2.8659809361952755\n",
            "13 \t [-1.02209333 -1.57887821]\t 76.45810105387548\t 0.904439350347999\t 2.6553592255459377\t 2.419120734393979\n",
            "14 \t [-1.60083438  4.01537156]\t 10376.297054647519\t 0.904439350347999\t 3.230078088614673\t 2.8734218565368623\n",
            "15 \t [ 0.68620042 -0.3507749 ]\t 6.690088177935152\t 0.904439350347999\t 2.6360329993696454\t 2.7737651192921193\n",
            "16 \t [-2.42383248  1.91813708]\t 163.90690113493164\t 0.904439350347999\t 2.990435979594604\t 2.830549813797796\n",
            "17 \t [-1.17540067 -3.22000872]\t 1971.1958997519228\t 0.904439350347999\t 3.017166076658704\t 2.8064225261063926\n",
            "18 \t [1.70756438 4.01277274]\t 13207.253569858\t 0.904439350347999\t 2.850031575786411\t 2.854018674189616\n",
            "19 \t [-4.5         1.77345998]\t 381.8371463165936\t 0.904439350347999\t 3.043061222210292\t 2.902367227638696\n",
            "20 \t [ 1.79610785 -3.66866199]\t 8372.827421393418\t 0.904439350347999\t 2.818441100514413\t 2.836801192387848\n"
          ]
        }
      ],
      "source": [
        "### ESTIMATED STP EI GRADIENTS\n",
        "\n",
        "np.random.seed(run_num_1)\n",
        "surrogate_approx_1 = dtStudentProcess(cov_func, optimize=opt, nu = df)\n",
        "\n",
        "approx_1 = GPGO_multi(surrogate_approx_1, Acquisition_grad(util), objfunc, param)\n",
        "approx_1.run(init_evals=n_init, max_iter=iters)\n"
      ]
    },
    {
      "cell_type": "code",
      "execution_count": 14,
      "metadata": {
        "id": "wTxsSZxFGBB5",
        "colab": {
          "base_uri": "https://localhost:8080/"
        },
        "outputId": "9a2dbcc9-3939-443f-eb37-eb8d0a54ffea"
      },
      "outputs": [
        {
          "output_type": "stream",
          "name": "stdout",
          "text": [
            "Evaluation \t Proposed point \t  Current eval. \t  Best eval. \t        Exact EI: StdDev. x \t Approx EI: StdDev. x \n",
            "init\t [-0.57604588 -4.26666391]\t 2377.8441741808733\t 8.81624267140378\t    \t    \n",
            "init\t [ 0.4469623  -0.58209847]\t 8.81624267140378\t 8.81624267140378\t    \t    \n",
            "init\t [-0.71668978 -1.52698661]\t 47.3742628518178\t 8.81624267140378\t    \t    \n",
            "init\t [-2.65816229  1.0734387 ]\t 9.08861590265506\t 8.81624267140378\t    \t    \n",
            "init\t [-1.80310794 -2.09855452]\t 510.2220943696988\t 8.81624267140378\t    \t    \n",
            "1  \t [4.5 4.5]\t 174813.36328125\t 8.81624267140378\t 3.5407493401359926\t 3.9193328927918465\n",
            "2  \t [ 4.5       -2.3195876]\t 4031.249197797953\t 8.81624267140378\t 3.1510080097068576\t 4.124742437051462\n",
            "3  \t [-4.5  4.5]\t 169680.83203125\t 8.81624267140378\t 3.098129203444193\t 3.89265970608765\n",
            "4  \t [-4.5 -4.5]\t 181853.61328125\t 8.81624267140378\t 2.247182080936631\t 3.0426674924415216\n",
            "5  \t [0.07154295 2.7416703 ]\t 26.24079000084432\t 8.81624267140378\t 2.1505673483255827\t 2.485331236148967\n",
            "\u001b[1m\u001b[92m6\u001b[0m\t \u001b[1m\u001b[92m[2.95506646 0.5599053 ]\u001b[0m\t \u001b[1m\u001b[92m0.12436337389414565\u001b[0m\t \u001b[1m\u001b[92m0.12436337389414565\u001b[0m\t \u001b[1m\u001b[92m2.5216006015427643\u001b[0m\t \u001b[1m\u001b[92m3.250285885655231\u001b[0m\n",
            "7  \t [ 2.4054166 -4.5      ]\t 50444.71984414054\t 0.12436337389414565\t 2.411704316088801\t 2.8177670266974624\n",
            "8  \t [-4.5        -0.47062025]\t 156.66895761427986\t 0.12436337389414565\t 1.9215374762020243\t 2.99066507819647\n",
            "9  \t [ 2.31111053 -1.425114  ]\t 78.95363418965466\t 0.12436337389414565\t 2.1847164401032315\t 2.5737748621745666\n",
            "10 \t [-0.84979326  4.5       ]\t 5671.692597618982\t 0.12436337389414565\t 2.289460365815949\t 2.704364669766235\n",
            "11 \t [-0.72002407  0.94650634]\t 15.249909835248841\t 0.12436337389414565\t 2.6765166374469462\t 2.8556275806810865\n",
            "12 \t [1.87980964 2.183804  ]\t 514.0276902591605\t 0.12436337389414565\t 2.3303594380594292\t 3.234883907796835\n",
            "13 \t [4.5        1.01935238]\t 16.763501464402886\t 0.12436337389414565\t 2.2853639640457692\t 3.152376401876502\n",
            "14 \t [-2.67371197 -0.66138663]\t 86.2739877228183\t 0.12436337389414565\t 2.7606059437569965\t 3.5340187567377996\n",
            "15 \t [-4.5         1.29787589]\t 8.07564510615418\t 0.12436337389414565\t 2.2753363286689634\t 2.9766342068989102\n",
            "16 \t [ 0.64030063 -2.50882249]\t 98.40235129492444\t 0.12436337389414565\t 2.292450413586003\t 2.8363867856741725\n",
            "17 \t [1.29504241 4.11823514]\t 8979.837337152205\t 0.12436337389414565\t 2.603495800446893\t 2.5616522041170553\n",
            "18 \t [-1.77880903  2.61482927]\t 818.7180436610948\t 0.12436337389414565\t 2.2381603493296884\t 2.92351350040268\n",
            "19 \t [0.9538821  0.88702777]\t 11.588018335970881\t 0.12436337389414565\t 2.4384339010875125\t 3.074588837430043\n",
            "20 \t [-3.73716833 -2.01138502]\t 1598.3160738358288\t 0.12436337389414565\t 2.5965256836373585\t 3.1392305116076233\n"
          ]
        }
      ],
      "source": [
        "### ESTIMATED STP EI GRADIENTS\n",
        "\n",
        "np.random.seed(run_num_2)\n",
        "surrogate_approx_2 = dtStudentProcess(cov_func, optimize=opt, nu = df)\n",
        "\n",
        "approx_2 = GPGO_multi(surrogate_approx_2, Acquisition_grad(util), objfunc, param)\n",
        "approx_2.run(init_evals=n_init, max_iter=iters)\n"
      ]
    },
    {
      "cell_type": "code",
      "execution_count": 15,
      "metadata": {
        "id": "-dgzIrUIGCGT",
        "colab": {
          "base_uri": "https://localhost:8080/"
        },
        "outputId": "85878581-e9a0-49df-d02e-4c8dda39c013"
      },
      "outputs": [
        {
          "output_type": "stream",
          "name": "stdout",
          "text": [
            "Evaluation \t Proposed point \t  Current eval. \t  Best eval. \t        Exact EI: StdDev. x \t Approx EI: StdDev. x \n",
            "init\t [0.45718112 1.8733304 ]\t 41.912714742005974\t 41.912714742005974\t    \t    \n",
            "init\t [-1.88185735  0.09744845]\t 47.451188393399434\t 41.912714742005974\t    \t    \n",
            "init\t [3.53652259 3.5666378 ]\t 27475.816689924115\t 41.912714742005974\t    \t    \n",
            "init\t [-3.36973221 -2.6348141 ]\t 5079.048973002421\t 41.912714742005974\t    \t    \n",
            "init\t [-4.03679517 -0.53271141]\t 138.4086524103332\t 41.912714742005974\t    \t    \n",
            "1  \t [ 2.52283288 -1.74272821]\t 259.55509339560894\t 41.912714742005974\t 3.0806288044778567\t 2.815944078874167\n",
            "2  \t [-4.5         2.36169148]\t 3077.8768807596903\t 41.912714742005974\t 3.016910191133809\t 4.111807600685231\n",
            "3  \t [ 4.5 -4.5]\t 178131.83203125\t 41.912714742005974\t 2.7511386438795906\t 3.7779113737638372\n",
            "4  \t [-1.21320099  4.5       ]\t 11840.961082284184\t 41.912714742005974\t 3.369872396634606\t 3.3721599309593557\n",
            "5  \t [-0.15395414 -4.5       ]\t 288.526173203107\t 41.912714742005974\t 3.6431628278020862\t 3.7086480860135707\n",
            "\u001b[1m\u001b[92m6\u001b[0m\t \u001b[1m\u001b[92m[ 4.5        -0.04015041]\u001b[0m\t \u001b[1m\u001b[92m18.66333093582929\u001b[0m\t \u001b[1m\u001b[92m18.66333093582929\u001b[0m\t \u001b[1m\u001b[92m3.644130179858536\u001b[0m\t \u001b[1m\u001b[92m3.651372127739497\u001b[0m\n",
            "7  \t [-0.21170175 -1.73517754]\t 23.195409564594613\t 18.66333093582929\t 3.6288774631752707\t 3.3574781853654265\n",
            "\u001b[1m\u001b[92m8\u001b[0m\t \u001b[1m\u001b[92m[2.09386591 0.40134803]\u001b[0m\t \u001b[1m\u001b[92m0.7484451292743746\u001b[0m\t \u001b[1m\u001b[92m0.7484451292743746\u001b[0m\t \u001b[1m\u001b[92m3.5965146439162066\u001b[0m\t \u001b[1m\u001b[92m3.257313165934741\u001b[0m\n",
            "9  \t [-2.11113152  2.18031802]\t 327.1460693036443\t 0.7484451292743746\t 3.3517910701411164\t 3.249515062746191\n",
            "10 \t [-4.5  4.5]\t 169680.83203125\t 0.7484451292743746\t 3.68085202983363\t 3.787730949417699\n",
            "11 \t [-4.5 -4.5]\t 181853.61328125\t 0.7484451292743746\t 3.4391413639057826\t 3.1947680714847606\n",
            "12 \t [-1.49770433 -3.01925888]\t 2210.7850718238783\t 0.7484451292743746\t 2.7136272299685262\t 2.2528383851743974\n",
            "13 \t [ 4.5        -1.52982935]\t 489.80612806945976\t 0.7484451292743746\t 3.0474780917273807\t 3.15829386561439\n",
            "14 \t [1.0942886 4.5      ]\t 10823.109777676395\t 0.7484451292743746\t 2.539979963113089\t 2.4316298030310057\n",
            "15 \t [0.13958443 0.05103845]\t 12.50293651416847\t 0.7484451292743746\t 2.6146685413303183\t 2.6117959755179574\n",
            "16 \t [ 1.24142047 -3.22881006]\t 1841.158088015801\t 0.7484451292743746\t 2.7565746729324316\t 2.6076434376273436\n",
            "17 \t [-3.61710423  1.41247695]\t 17.430959202222773\t 0.7484451292743746\t 2.8596195976633356\t 2.704975013268525\n",
            "18 \t [3.56369811 1.28410612]\t 70.78310115012977\t 0.7484451292743746\t 2.6544152479590717\t 2.625722895580255\n",
            "19 \t [1.99879048 1.98873419]\t 345.86558996516004\t 0.7484451292743746\t 2.843362123542534\t 2.850632212393944\n",
            "20 \t [ 2.47289183 -4.5       ]\t 53342.378295012255\t 0.7484451292743746\t 3.024224480587698\t 2.571234730010043\n"
          ]
        }
      ],
      "source": [
        "### ESTIMATED STP EI GRADIENTS\n",
        "\n",
        "np.random.seed(run_num_3)\n",
        "surrogate_approx_3 = dtStudentProcess(cov_func, optimize=opt, nu = df)\n",
        "\n",
        "approx_3 = GPGO_multi(surrogate_approx_3, Acquisition_grad(util), objfunc, param)\n",
        "approx_3.run(init_evals=n_init, max_iter=iters)\n"
      ]
    },
    {
      "cell_type": "code",
      "execution_count": 16,
      "metadata": {
        "id": "hOtG-2sCGCKS",
        "colab": {
          "base_uri": "https://localhost:8080/"
        },
        "outputId": "263662c8-c2e2-4411-a57e-484f0e77770f"
      },
      "outputs": [
        {
          "output_type": "stream",
          "name": "stdout",
          "text": [
            "Evaluation \t Proposed point \t  Current eval. \t  Best eval. \t        Exact EI: StdDev. x \t Approx EI: StdDev. x \n",
            "init\t [4.20326855 0.42509024]\t 3.8409856613776237\t 3.8409856613776237\t    \t    \n",
            "init\t [4.25415924 1.93334394]\t 1070.6518137934977\t 3.8409856613776237\t    \t    \n",
            "init\t [ 1.77955942 -2.55519454]\t 1001.3529311398922\t 3.8409856613776237\t    \t    \n",
            "init\t [ 4.28647009 -4.4439277 ]\t 150069.47442764963\t 3.8409856613776237\t    \t    \n",
            "init\t [-2.22315874 -0.58687621]\t 67.08861688517413\t 3.8409856613776237\t    \t    \n",
            "1  \t [-4.5  4.5]\t 169680.83203125\t 3.8409856613776237\t 3.432981558400771\t 4.038649852519747\n",
            "2  \t [-4.5 -4.5]\t 181853.61328125\t 3.8409856613776237\t 4.23537280293904\t 3.1085816446365113\n",
            "3  \t [0.8804465 4.5      ]\t 7109.516927767731\t 3.8409856613776237\t 2.9384756587616416\t 2.7883896316777506\n",
            "4  \t [0.76464175 0.55589648]\t 8.277561430559203\t 3.8409856613776237\t 2.644531491051978\t 2.722781811582386\n",
            "5  \t [-0.22861051 -4.5       ]\t 573.2432031329017\t 3.8409856613776237\t 3.1200067334971555\t 2.7273447651988225\n",
            "6  \t [4.5 4.5]\t 174813.36328125\t 3.8409856613776237\t 2.758758208911353\t 2.7877065783311674\n",
            "7  \t [-1.38222147  1.98187679]\t 48.847763634966526\t 3.8409856613776237\t 1.9445043467146297\t 1.7985600441564586\n",
            "8  \t [-4.5         0.34106857]\t 106.96084326189064\t 3.8409856613776237\t 2.1340961615755156\t 2.2665013729744152\n",
            "9  \t [-0.54117489 -2.08650098]\t 75.5585886138601\t 3.8409856613776237\t 2.374077306528876\t 2.3383534636763823\n",
            "10 \t [2.06156439 2.0388212 ]\t 415.2274638663695\t 3.8409856613776237\t 2.947141743456417\t 2.6763826424498265\n",
            "11 \t [-3.08993449  1.44099062]\t 13.642259634244176\t 3.8409856613776237\t 2.527268957193757\t 2.7586834661626853\n",
            "12 \t [ 4.44400874 -1.55866188]\t 519.1403110655731\t 3.8409856613776237\t 2.597770837688065\t 2.703235011096905\n",
            "13 \t [ 2.42847149 -0.59366427]\t 6.173666545199131\t 3.8409856613776237\t 2.531564482171688\t 2.3179732026235125\n",
            "14 \t [-1.22957445  4.5       ]\t 12171.808547311137\t 3.8409856613776237\t 2.3955866762701588\t 2.238969408336611\n",
            "15 \t [0.31297931 2.44381172]\t 65.63064807512573\t 3.8409856613776237\t 2.299227171204767\t 2.492106770614852\n",
            "16 \t [-3.86068084 -1.2148982 ]\t 280.98109907290507\t 3.8409856613776237\t 2.506309135672555\t 2.3538418734422057\n",
            "17 \t [-2.21742427 -2.56060779]\t 1959.6903213385142\t 3.8409856613776237\t 2.3322508218002893\t 2.287620047031817\n",
            "18 \t [ 1.56095909 -4.5       ]\t 21024.720180016007\t 3.8409856613776237\t 2.411469460878886\t 2.494315698723547\n",
            "19 \t [-0.78453861  0.13187498]\t 25.49559147924628\t 3.8409856613776237\t 2.527507553369123\t 2.663055770314773\n",
            "20 \t [ 0.77380845 -1.13710952]\t 6.6668912267652045\t 3.8409856613776237\t 2.246119433533747\t 2.311300176363041\n"
          ]
        }
      ],
      "source": [
        "### ESTIMATED STP EI GRADIENTS\n",
        "\n",
        "np.random.seed(run_num_4)\n",
        "surrogate_approx_4 = dtStudentProcess(cov_func, optimize=opt, nu = df)\n",
        "\n",
        "approx_4= GPGO_multi(surrogate_approx_4, Acquisition_grad(util), objfunc, param)\n",
        "approx_4.run(init_evals=n_init, max_iter=iters)\n"
      ]
    },
    {
      "cell_type": "code",
      "execution_count": 17,
      "metadata": {
        "id": "JF_SxcEvGCOl",
        "colab": {
          "base_uri": "https://localhost:8080/"
        },
        "outputId": "b6c3b210-e78b-466f-f1a3-8243a0cf3b42"
      },
      "outputs": [
        {
          "output_type": "stream",
          "name": "stdout",
          "text": [
            "Evaluation \t Proposed point \t  Current eval. \t  Best eval. \t        Exact EI: StdDev. x \t Approx EI: StdDev. x \n",
            "init\t [-2.50206146  3.33659076]\t 8263.905568073349\t 0.311397019260738\t    \t    \n",
            "init\t [-2.6395276   3.76749817]\t 19560.15202528338\t 0.311397019260738\t    \t    \n",
            "init\t [-0.1042993   1.00569477]\t 14.186578993925806\t 0.311397019260738\t    \t    \n",
            "init\t [2.39317071 0.16576189]\t 0.311397019260738\t 0.311397019260738\t    \t    \n",
            "init\t [-1.82879549 -2.81050894]\t 2208.9823086257425\t 0.311397019260738\t    \t    \n",
            "1  \t [ 4.5 -4.5]\t 178131.83203125\t 0.311397019260738\t 3.8459484662966297\t 4.206652369360936\n",
            "2  \t [4.5 4.5]\t 174813.36328125\t 0.311397019260738\t 4.2346115651947125\t 3.853341551670314\n",
            "3  \t [-4.5 -4.5]\t 181853.61328125\t 0.311397019260738\t 3.500320756860276\t 3.813970435297759\n",
            "4  \t [-4.5         0.16611871]\t 121.96198941724768\t 0.311397019260738\t 2.301156820308525\t 3.259518327056697\n",
            "5  \t [ 0.94941939 -2.14652333]\t 93.93096068690633\t 0.311397019260738\t 2.1367891777032884\t 2.7498972913588107\n",
            "6  \t [ 0.25435778 -4.5       ]\t 484.04186021970895\t 0.311397019260738\t 2.76678276779632\t 3.082927314159924\n",
            "7  \t [0.55602401 4.5       ]\t 2960.8234089755324\t 0.311397019260738\t 2.1849035326118105\t 3.015117631052043\n",
            "8  \t [ 4.5        -0.50376488]\t 34.97231056698308\t 0.311397019260738\t 2.7027011373532\t 3.5454039744782495\n",
            "9  \t [-2.13349439 -0.22729183]\t 58.10457827979417\t 0.311397019260738\t 2.2291104421725345\t 2.956170065722328\n",
            "10 \t [1.6499776  2.28510273]\t 524.9849488335695\t 0.311397019260738\t 2.2144190904920458\t 2.9483445281815497\n",
            "11 \t [4.5        1.28686899]\t 94.37164583331715\t 0.311397019260738\t 2.2547275809556835\t 3.036986517580043\n",
            "12 \t [-0.39977658 -0.95142395]\t 21.784167220931558\t 0.311397019260738\t 2.3463083749462137\t 2.8422515168281923\n",
            "13 \t [ 2.8179071  -1.67300414]\t 269.20267542970083\t 0.311397019260738\t 2.576582670631673\t 3.2507488282000088\n",
            "14 \t [-4.5         2.12743206]\t 1508.9246039405841\t 0.311397019260738\t 1.889418524923785\t 3.108438553646904\n",
            "15 \t [-3.6023841  -1.40111096]\t 364.8706008092267\t 0.311397019260738\t 2.121130180448848\t 3.3485182699836997\n",
            "16 \t [-0.36698631  2.75489725]\t 22.673035866479378\t 0.311397019260738\t 2.3453921585112307\t 2.964794066659582\n",
            "17 \t [-2.17842501  1.41445246]\t 2.214402837563307\t 0.311397019260738\t 1.744756934204165\t 3.18114639881451\n",
            "18 \t [3.29586498 2.3145041 ]\t 1925.410624554695\t 0.311397019260738\t 2.5218790422885573\t 3.0730595819831517\n",
            "19 \t [-4.5  4.5]\t 169680.83203125\t 0.311397019260738\t 2.1034694426927603\t 3.060377951017941\n",
            "20 \t [ 1.99617471 -3.98920394]\t 16996.744050190817\t 0.311397019260738\t 2.5843055545173033\t 2.3532215386080204\n"
          ]
        }
      ],
      "source": [
        "### ESTIMATED STP EI GRADIENTS\n",
        "\n",
        "np.random.seed(run_num_5)\n",
        "surrogate_approx_5 = dtStudentProcess(cov_func, optimize=opt, nu = df)\n",
        "\n",
        "approx_5 = GPGO_multi(surrogate_approx_5, Acquisition_grad(util), objfunc, param)\n",
        "approx_5.run(init_evals=n_init, max_iter=iters)\n"
      ]
    },
    {
      "cell_type": "code",
      "execution_count": 18,
      "metadata": {
        "id": "-kDxZtJsGCR3",
        "colab": {
          "base_uri": "https://localhost:8080/"
        },
        "outputId": "62103a91-9d55-4dc5-8220-af9a6feb9fc5"
      },
      "outputs": [
        {
          "output_type": "stream",
          "name": "stdout",
          "text": [
            "Evaluation \t Proposed point \t  Current eval. \t  Best eval. \t        Exact EI: StdDev. x \t Approx EI: StdDev. x \n",
            "init\t [ 3.53574136 -1.51218175]\t 273.3122030790333\t 10.038000709758428\t    \t    \n",
            "init\t [ 2.89106211 -4.12473037]\t 43803.250406689425\t 10.038000709758428\t    \t    \n",
            "init\t [-3.53108988  0.85546858]\t 29.828433746298536\t 10.038000709758428\t    \t    \n",
            "init\t [ 0.26835626 -0.73073314]\t 10.658925295067505\t 10.038000709758428\t    \t    \n",
            "init\t [-1.48132936  1.10267489]\t 10.038000709758428\t 10.038000709758428\t    \t    \n",
            "1  \t [4.21946802 1.0268738 ]\t 17.599686696059685\t 10.038000709758428\t 3.6573389797130966\t 4.061812094727508\n",
            "2  \t [-4.5 -4.5]\t 181853.61328125\t 10.038000709758428\t 4.396417202486709\t 4.268863332074396\n",
            "3  \t [1.42630882 4.5       ]\t 18130.472800605636\t 10.038000709758428\t 2.972854544086952\t 3.688170554452692\n",
            "4  \t [-4.5  4.5]\t 169680.83203125\t 10.038000709758428\t 3.080139496123863\t 4.118841910392498\n",
            "5  \t [-0.69632026 -3.16391828]\t 679.4486236365794\t 10.038000709758428\t 2.7773160895859905\t 2.838477279618647\n",
            "6  \t [4.5        3.67178165]\t 52387.14896858218\t 10.038000709758428\t 2.284996015775273\t 3.0039840936435556\n",
            "7  \t [1.74494877 1.10571469]\t 20.28965245939049\t 10.038000709758428\t 2.7577194153658766\t 3.1449487883480356\n",
            "8  \t [-2.32021445 -1.22627013]\t 130.67292053407726\t 10.038000709758428\t 2.301169416728505\t 2.472983543284145\n",
            "9  \t [-1.41290355  3.44585193]\t 3067.2253174957086\t 10.038000709758428\t 2.369570755266646\t 3.180817257628596\n",
            "10 \t [-4.5        -1.33202519]\t 460.8106047600796\t 10.038000709758428\t 2.6784935614262655\t 3.2292495000439336\n",
            "\u001b[1m\u001b[92m11\u001b[0m\t \u001b[1m\u001b[92m[ 2.02342848 -0.76145877]\u001b[0m\t \u001b[1m\u001b[92m6.305429591402816\u001b[0m\t \u001b[1m\u001b[92m6.305429591402816\u001b[0m\t \u001b[1m\u001b[92m2.653656836314211\u001b[0m\t \u001b[1m\u001b[92m2.91145121902092\u001b[0m\n",
            "12 \t [0.18229161 2.06228896]\t 27.285510980680645\t 6.305429591402816\t 2.2425250395576306\t 2.821165241296156\n",
            "13 \t [ 1.24553164 -2.31563118]\t 264.36214976837834\t 6.305429591402816\t 2.911879559003409\t 3.24590369087598\n",
            "14 \t [ 4.5        -0.47000697]\t 33.22689695313085\t 6.305429591402816\t 2.656013256361279\t 2.834146888684711\n",
            "15 \t [ 0.11579337 -4.5       ]\t 85.48788299030063\t 6.305429591402816\t 2.5620651144887425\t 2.8748070055264394\n",
            "16 \t [-1.468331 -4.5     ]\t 19783.525126782693\t 6.305429591402816\t 2.4931993238710515\t 2.600307652619803\n",
            "17 \t [-1.13175806 -0.37745586]\t 34.30308975018956\t 6.305429591402816\t 2.6204240548197397\t 3.2049012344085495\n",
            "18 \t [-2.96615941  2.33462634]\t 1159.763979645231\t 6.305429591402816\t 2.682608766277312\t 3.083125185401817\n",
            "19 \t [ 4.5 -4.5]\t 178131.83203125\t 6.305429591402816\t 3.232525275584853\t 2.8023170133117996\n",
            "20 \t [2.4682649  2.49664586]\t 1744.5353417580147\t 6.305429591402816\t 2.7868625606443844\t 2.6499475169406477\n"
          ]
        }
      ],
      "source": [
        "### ESTIMATED STP EI GRADIENTS\n",
        "\n",
        "np.random.seed(run_num_6)\n",
        "surrogate_approx_6 = dtStudentProcess(cov_func, optimize=opt, nu = df)\n",
        "\n",
        "approx_6 = GPGO_multi(surrogate_approx_6, Acquisition_grad(util), objfunc, param)\n",
        "approx_6.run(init_evals=n_init, max_iter=iters)\n"
      ]
    },
    {
      "cell_type": "code",
      "execution_count": 19,
      "metadata": {
        "id": "fKB8MCD_GCVI",
        "colab": {
          "base_uri": "https://localhost:8080/"
        },
        "outputId": "844da6f5-2ce3-4abc-a956-940f7d8d4ce2"
      },
      "outputs": [
        {
          "output_type": "stream",
          "name": "stdout",
          "text": [
            "Evaluation \t Proposed point \t  Current eval. \t  Best eval. \t        Exact EI: StdDev. x \t Approx EI: StdDev. x \n",
            "init\t [-3.8132254   2.51926913]\t 3321.1422834954587\t 2.9676923934097053\t    \t    \n",
            "init\t [-0.55431692  2.0111866 ]\t 2.9676923934097053\t 2.9676923934097053\t    \t    \n",
            "init\t [4.30190561 0.34646283]\t 6.32173172477085\t 2.9676923934097053\t    \t    \n",
            "init\t [ 0.01008417 -3.8515398 ]\t 11.971894461559128\t 2.9676923934097053\t    \t    \n",
            "init\t [-2.08404918e+00 -1.05749257e-03]\t 53.820317186435204\t 2.9676923934097053\t    \t    \n",
            "1  \t [1.70223447 4.2316071 ]\t 17887.534399567492\t 2.9676923934097053\t 3.4164629056111795\t 3.8343924772617455\n",
            "2  \t [ 4.5 -4.5]\t 178131.83203125\t 2.9676923934097053\t 4.268288074650036\t 3.8946945245586533\n",
            "3  \t [-4.5 -4.5]\t 181853.61328125\t 2.9676923934097053\t 4.47744346697979\t 4.100541820251551\n",
            "4  \t [-3.5381093  -1.17462676]\t 226.89781537510947\t 2.9676923934097053\t 2.6774183848140787\t 2.6774183850541804\n",
            "5  \t [ 1.18433053 -0.72218272]\t 4.114092192111289\t 2.9676923934097053\t 2.498946493494613\t 3.3826862945867515\n",
            "6  \t [-1.79966548  4.5       ]\t 26534.90894756274\t 2.9676923934097053\t 3.010896528516516\t 3.9051551697580025\n",
            "7  \t [4.5 4.5]\t 174813.36328125\t 2.9676923934097053\t 2.9339043820092643\t 3.336466924339133\n",
            "8  \t [-1.11415452 -1.98073203]\t 177.94798581413306\t 2.9676923934097053\t 2.411059478713607\t 2.6335995408585102\n",
            "9  \t [2.08521784 1.30049032]\t 44.42708472671839\t 2.9676923934097053\t 2.6734058875901594\t 3.2553592217262386\n",
            "10 \t [ 3.11677313 -1.34809711]\t 122.93270499723018\t 2.9676923934097053\t 2.2806747453536502\t 3.489728264274628\n",
            "11 \t [-4.5  4.5]\t 169680.83203125\t 2.9676923934097053\t 2.1238520792919666\t 2.9662243635470222\n",
            "12 \t [-4.5         0.74052934]\t 53.51836160650733\t 2.9676923934097053\t 2.2702712698819063\t 2.3453127620729686\n",
            "13 \t [ 1.53743994 -2.71567549]\t 1045.301181211465\t 2.9676923934097053\t 2.6221650503713665\t 2.602485987148782\n",
            "14 \t [-2.40567616  1.71111794]\t 55.05271970991577\t 2.9676923934097053\t 2.130752362869319\t 2.227794981029205\n",
            "15 \t [-0.26473524  0.21217609]\t 17.51924899018753\t 2.9676923934097053\t 2.4433789751984363\t 2.356945826057532\n",
            "16 \t [-1.71611089 -4.5       ]\t 26898.84765051603\t 2.9676923934097053\t 2.283943704880189\t 2.2803427018147344\n",
            "17 \t [ 4.5       -1.3272303]\t 266.3913862102756\t 2.9676923934097053\t 2.0975004933864727\t 2.1003118716935583\n",
            "18 \t [ 1.60063005 -4.5       ]\t 22123.0553470344\t 2.9676923934097053\t 2.735839293857859\t 2.6435844283138827\n",
            "19 \t [3.68266825 1.84557823]\t 632.8373263575318\t 2.9676923934097053\t 2.4100728043427764\t 2.364290178487163\n",
            "20 \t [0.92438103 2.3249077 ]\t 224.73336374386977\t 2.9676923934097053\t 2.3771775615286064\t 2.5665897153098602\n"
          ]
        }
      ],
      "source": [
        "### ESTIMATED STP EI GRADIENTS\n",
        "\n",
        "np.random.seed(run_num_7)\n",
        "surrogate_approx_7 = dtStudentProcess(cov_func, optimize=opt, nu = df)\n",
        "\n",
        "approx_7 = GPGO_multi(surrogate_approx_7, Acquisition_grad(util), objfunc, param)\n",
        "approx_7.run(init_evals=n_init, max_iter=iters)\n"
      ]
    },
    {
      "cell_type": "code",
      "execution_count": 20,
      "metadata": {
        "id": "4unvifF-GCXp",
        "colab": {
          "base_uri": "https://localhost:8080/"
        },
        "outputId": "dfc94ac2-285c-4b37-e470-ab58ec02fe10"
      },
      "outputs": [
        {
          "output_type": "stream",
          "name": "stdout",
          "text": [
            "Evaluation \t Proposed point \t  Current eval. \t  Best eval. \t        Exact EI: StdDev. x \t Approx EI: StdDev. x \n",
            "init\t [3.36086463 4.21686597]\t 66731.07602386779\t 1.8693348557707412\t    \t    \n",
            "init\t [3.32275086 0.27770122]\t 1.8693348557707412\t 1.8693348557707412\t    \t    \n",
            "init\t [-2.40544505 -4.39741076]\t 45883.361726150484\t 1.8693348557707412\t    \t    \n",
            "init\t [-0.62578064 -0.87883776]\t 26.39306084619828\t 1.8693348557707412\t    \t    \n",
            "init\t [ 0.20407204 -0.19447384]\t 11.649230998110728\t 1.8693348557707412\t    \t    \n",
            "1  \t [ 4.03490284 -3.47196966]\t 31465.362400691833\t 1.8693348557707412\t 2.8494895118606345\t 4.101435449277635\n",
            "2  \t [-4.5  4.5]\t 169680.83203125\t 1.8693348557707412\t 2.987866716956059\t 3.9197598324551493\n",
            "3  \t [-4.5        -0.36307493]\t 150.06273955547914\t 1.8693348557707412\t 2.8277948827651223\t 2.967262102040225\n",
            "4  \t [-0.54914193  2.53292261]\t 34.01608832045609\t 1.8693348557707412\t 3.1953642321763085\t 3.105370167591206\n",
            "5  \t [-2.40382229  0.89550429]\t 21.40538794383597\t 1.8693348557707412\t 3.0374883683621103\t 2.579388458393561\n",
            "6  \t [ 0.77478354 -2.82334333]\t 303.62687875217955\t 1.8693348557707412\t 3.3132774199604977\t 3.094492769088827\n",
            "7  \t [-0.34090633  4.5       ]\t 808.255416544286\t 1.8693348557707412\t 3.1233941094048365\t 2.990609978903952\n",
            "8  \t [1.43897471 1.48718949]\t 55.83076675910506\t 1.8693348557707412\t 3.2528254912627306\t 3.1517730946636586\n",
            "9  \t [-2.69402023 -1.27462493]\t 177.27079940611392\t 1.8693348557707412\t 2.8765207921184714\t 2.9555019250870163\n",
            "10 \t [ 1.98012556 -1.15213018]\t 21.706631198736133\t 1.8693348557707412\t 2.645532828528543\t 2.956133301628841\n",
            "11 \t [-4.5        -2.35523393]\t 4952.178627679403\t 1.8693348557707412\t 3.301356916838999\t 3.162761635270527\n",
            "12 \t [4.5        1.42635816]\t 184.4432633023456\t 1.8693348557707412\t 3.208223234795455\t 3.2436260195280124\n",
            "13 \t [ 4.5        -0.81126785]\t 63.03738782804932\t 1.8693348557707412\t 3.473561354424971\t 3.1876811927190403\n",
            "14 \t [-4.5         1.25988132]\t 3.7760204780580526\t 1.8693348557707412\t 3.4249790743794244\t 3.2032075807939133\n",
            "15 \t [ 1.12046695 -4.5       ]\t 10709.044892944356\t 1.8693348557707412\t 3.3019126876549656\t 2.7224168654408065\n",
            "16 \t [-0.78102289  0.99495324]\t 14.312318968686528\t 1.8693348557707412\t 3.002011952883446\t 2.6170035964924456\n",
            "17 \t [-2.08072931  2.51510923]\t 887.212465374444\t 1.8693348557707412\t 3.7696615870969086\t 2.848711778583596\n",
            "18 \t [0.87421071 3.16944242]\t 989.9308923522003\t 1.8693348557707412\t 3.4266153214157296\t 3.0054125894765833\n",
            "19 \t [2.8772705 1.6457096]\t 220.6793778481594\t 1.8693348557707412\t 3.0086130924631855\t 2.620463984959041\n",
            "20 \t [-0.85180071 -2.42526477]\t 267.38878706112644\t 1.8693348557707412\t 3.3318875847345657\t 2.4876013644610295\n"
          ]
        }
      ],
      "source": [
        "### ESTIMATED STP EI GRADIENTS\n",
        "\n",
        "np.random.seed(run_num_8)\n",
        "surrogate_approx_8 = dtStudentProcess(cov_func, optimize=opt, nu = df)\n",
        "\n",
        "approx_8 = GPGO_multi(surrogate_approx_8, Acquisition_grad(util), objfunc, param)\n",
        "approx_8.run(init_evals=n_init, max_iter=iters)\n"
      ]
    },
    {
      "cell_type": "code",
      "execution_count": 21,
      "metadata": {
        "id": "85OIXcg7GCaJ",
        "colab": {
          "base_uri": "https://localhost:8080/"
        },
        "outputId": "adafff57-f8d9-4f18-a489-3571d395154d"
      },
      "outputs": [
        {
          "output_type": "stream",
          "name": "stdout",
          "text": [
            "Evaluation \t Proposed point \t  Current eval. \t  Best eval. \t        Exact EI: StdDev. x \t Approx EI: StdDev. x \n",
            "init\t [-4.40663262  0.01687133]\t 127.7531900635415\t 22.479204656276803\t    \t    \n",
            "init\t [-0.03804036 -3.29553424]\t 22.479204656276803\t 22.479204656276803\t    \t    \n",
            "init\t [-3.22100023 -2.53297192]\t 3783.0538402600087\t 22.479204656276803\t    \t    \n",
            "init\t [-0.73342638 -2.26708948]\t 157.51337782244087\t 22.479204656276803\t    \t    \n",
            "init\t [-3.74346314 -1.39051224]\t 380.7730677650304\t 22.479204656276803\t    \t    \n",
            "1  \t [2.73365793 4.35023323]\t 53339.37070055468\t 22.479204656276803\t 2.652858054295598\t 2.690393160924442\n",
            "2  \t [ 4.3488757  -3.31443372]\t 28006.38869582737\t 22.479204656276803\t 2.587956617176783\t 3.8852890578241173\n",
            "3  \t [-3.2782096  4.5      ]\t 89548.55599113727\t 22.479204656276803\t 2.8660594151495125\t 3.0649187162803524\n",
            "\u001b[1m\u001b[92m4\u001b[0m\t \u001b[1m\u001b[92m[-0.17945213  0.76513485]\u001b[0m\t \u001b[1m\u001b[92m15.201585002352102\u001b[0m\t \u001b[1m\u001b[92m15.201585002352102\u001b[0m\t \u001b[1m\u001b[92m3.1982705112375607\u001b[0m\t \u001b[1m\u001b[92m2.7732320059722007\u001b[0m\n",
            "\u001b[1m\u001b[92m5\u001b[0m\t \u001b[1m\u001b[92m[4.5        0.64453289]\u001b[0m\t \u001b[1m\u001b[92m0.6038215627158531\u001b[0m\t \u001b[1m\u001b[92m0.6038215627158531\u001b[0m\t \u001b[1m\u001b[92m3.1895242711384704\u001b[0m\t \u001b[1m\u001b[92m2.818495240788023\u001b[0m\n",
            "6  \t [ 2.04812779 -0.29989149]\t 1.7721943834962324\t 0.6038215627158531\t 2.965877104930841\t 2.6650328694334924\n",
            "7  \t [-2.3217454  0.6579246]\t 36.350835812365375\t 0.6038215627158531\t 3.6682816204214586\t 3.193321506263332\n",
            "8  \t [-4.5 -4.5]\t 181853.61328125\t 0.6038215627158531\t 3.2610020037593914\t 2.971238393507278\n",
            "9  \t [-0.2215844   2.89600365]\t 7.970014774289575\t 0.6038215627158531\t 2.766544263491569\t 3.1280226274454974\n",
            "10 \t [ 1.5850964 -4.5      ]\t 21689.65623678667\t 0.6038215627158531\t 2.469693462003561\t 2.6501131895790446\n",
            "11 \t [1.72611357 1.54931138]\t 81.3316026008091\t 0.6038215627158531\t 2.7299818535078053\t 2.9198021318652745\n",
            "12 \t [ 1.06533201 -1.71852958]\t 35.508340101217\t 0.6038215627158531\t 2.660181862594761\t 2.82079427922258\n",
            "13 \t [-4.5         1.73797599]\t 322.3355205764062\t 0.6038215627158531\t 2.81163670840483\t 2.716942088941019\n",
            "14 \t [-1.87401619 -1.00421015]\t 73.53538430929493\t 0.6038215627158531\t 1.9818020136130572\t 2.277581701205365\n",
            "15 \t [4.5        2.30039252]\t 3317.9068484882623\t 0.6038215627158531\t 2.4690892765957013\t 2.563130518332151\n",
            "16 \t [-0.16478594  4.5       ]\t 151.18592522194774\t 0.6038215627158531\t 2.6841648055696457\t 2.674711000915064\n",
            "17 \t [-1.37093988 -4.5       ]\t 17285.590600194795\t 0.6038215627158531\t 2.595243870095769\t 2.915527239267581\n",
            "18 \t [-1.64967771  2.09414122]\t 129.49028430556558\t 0.6038215627158531\t 2.0659167422003875\t 2.373521701799944\n",
            "19 \t [ 3.73220917 -0.83633189]\t 40.76086844801433\t 0.6038215627158531\t 2.997506515986042\t 2.6339018800776475\n",
            "20 \t [ 2.60774172 -2.05806835]\t 672.1231353476865\t 0.6038215627158531\t 2.9863683636594196\t 3.1108661939701157\n"
          ]
        }
      ],
      "source": [
        "### ESTIMATED STP EI GRADIENTS\n",
        "\n",
        "np.random.seed(run_num_9)\n",
        "surrogate_approx_9 = dtStudentProcess(cov_func, optimize=opt, nu = df)\n",
        "\n",
        "approx_9 = GPGO_multi(surrogate_approx_9, Acquisition_grad(util), objfunc, param)\n",
        "approx_9.run(init_evals=n_init, max_iter=iters)\n"
      ]
    },
    {
      "cell_type": "code",
      "execution_count": 22,
      "metadata": {
        "id": "QQBR-qJPGCcp",
        "colab": {
          "base_uri": "https://localhost:8080/"
        },
        "outputId": "6092a477-fc32-444f-8c49-55d4647e7c1c"
      },
      "outputs": [
        {
          "output_type": "stream",
          "name": "stdout",
          "text": [
            "Evaluation \t Proposed point \t  Current eval. \t  Best eval. \t        Exact EI: StdDev. x \t Approx EI: StdDev. x \n",
            "init\t [ 2.44188579 -4.31323246]\t 40500.708995062356\t 15.229523981513257\t    \t    \n",
            "init\t [1.20283411 2.23923494]\t 281.8768699287936\t 15.229523981513257\t    \t    \n",
            "init\t [-0.01343689 -2.47683019]\t 15.229523981513257\t 15.229523981513257\t    \t    \n",
            "init\t [-2.71743422  2.34477641]\t 985.5637470908332\t 15.229523981513257\t    \t    \n",
            "init\t [-2.97800247 -3.70494167]\t 26177.1461164703\t 15.229523981513257\t    \t    \n",
            "1  \t [4.5 4.5]\t 174813.36328125\t 15.229523981513257\t 2.900135426611351\t 3.6318190562416097\n",
            "2  \t [ 4.5        -0.25857258]\t 24.947895907430247\t 15.229523981513257\t 2.3509133080584355\t 3.3241411021022804\n",
            "3  \t [-4.5        -0.28474449]\t 146.04497374720583\t 15.229523981513257\t 2.299809317752111\t 3.64882195977848\n",
            "4  \t [-4.5  4.5]\t 169680.83203125\t 15.229523981513257\t 2.735785453512279\t 3.494903130514154\n",
            "5  \t [-1.0358721  0.1441295]\t 29.731018242798335\t 15.229523981513257\t 2.852495670241233\t 3.0964108505860426\n",
            "6  \t [-0.21620649  4.5       ]\t 288.48826766274817\t 15.229523981513257\t 3.0554384271932666\t 3.394839247049313\n",
            "\u001b[1m\u001b[92m7\u001b[0m\t \u001b[1m\u001b[92m[ 1.78227605 -0.40661929]\u001b[0m\t \u001b[1m\u001b[92m2.117862865245562\u001b[0m\t \u001b[1m\u001b[92m2.117862865245562\u001b[0m\t \u001b[1m\u001b[92m2.5419167717858473\u001b[0m\t \u001b[1m\u001b[92m2.8186849982160966\u001b[0m\n",
            "8  \t [ 4.5        -2.28484069]\t 3713.553945835927\t 2.117862865245562\t 2.6390490592416214\t 3.1514295072149796\n",
            "9  \t [-0.7851589   2.35928609]\t 49.59121747736573\t 2.117862865245562\t 2.8356344998859697\t 2.962811391554305\n",
            "10 \t [3.11848091 1.24033613]\t 50.27819148774329\t 2.117862865245562\t 3.055967289799132\t 3.211872819604721\n",
            "11 \t [-2.83830045  0.39502211]\t 59.89619219595382\t 2.117862865245562\t 2.6818530904335542\t 3.291467321989767\n",
            "12 \t [-0.4406755 -4.5      ]\t 1922.4070986817762\t 2.117862865245562\t 2.7262681714552777\t 2.2827577674480737\n",
            "13 \t [-1.89570618 -1.4156099 ]\t 135.05772380516078\t 2.117862865245562\t 2.851134458758348\t 3.3466139370212353\n",
            "14 \t [1.57250121 4.27519046]\t 16267.268297098171\t 2.117862865245562\t 3.3392661451419032\t 3.657115156926276\n",
            "15 \t [0.52637331 0.712319  ]\t 11.020506414660586\t 2.117862865245562\t 3.1076434196337295\t 3.283553399527245\n",
            "16 \t [-1.53559728  3.90186222]\t 7972.081196425782\t 2.117862865245562\t 3.2384757183631887\t 3.5954423006777616\n",
            "17 \t [-4.5         1.55364162]\t 112.9709203557947\t 2.117862865245562\t 3.193594136230607\t 3.549770158679233\n",
            "18 \t [ 4.5        -3.46624651]\t 38859.37919977847\t 2.117862865245562\t 2.6207395138731804\t 2.90794426083392\n",
            "19 \t [-0.35350595 -1.1234349 ]\t 21.828134103023878\t 2.117862865245562\t 2.6865880377205675\t 2.485903718549059\n",
            "20 \t [3.26622694 3.15331991]\t 11419.898443254224\t 2.117862865245562\t 2.990587259531376\t 3.033615667833791\n"
          ]
        }
      ],
      "source": [
        "### ESTIMATED STP EI GRADIENTS\n",
        "\n",
        "np.random.seed(run_num_10)\n",
        "surrogate_approx_10 = dtStudentProcess(cov_func, optimize=opt, nu = df)\n",
        "\n",
        "approx_10 = GPGO_multi(surrogate_approx_10, Acquisition_grad(util), objfunc, param)\n",
        "approx_10.run(init_evals=n_init, max_iter=iters)\n"
      ]
    },
    {
      "cell_type": "code",
      "execution_count": 23,
      "metadata": {
        "id": "JS8ejeQ2GCfi",
        "colab": {
          "base_uri": "https://localhost:8080/"
        },
        "outputId": "0470cfa7-2ddf-43b8-ce46-26500152cd26"
      },
      "outputs": [
        {
          "output_type": "stream",
          "name": "stdout",
          "text": [
            "Evaluation \t Proposed point \t  Current eval. \t  Best eval. \t        Exact EI: StdDev. x \t Approx EI: StdDev. x \n",
            "init\t [-2.8775728  -4.32472283]\t 59421.14819100274\t 2.8907294990196846\t    \t    \n",
            "init\t [-0.33103326  2.02440536]\t 2.8907294990196846\t 2.8907294990196846\t    \t    \n",
            "init\t [-0.71816756 -0.13115612]\t 25.271447350027046\t 2.8907294990196846\t    \t    \n",
            "init\t [-4.38497267 -0.11365553]\t 133.2515796886641\t 2.8907294990196846\t    \t    \n",
            "init\t [3.97625987 3.1571558 ]\t 16859.81677190551\t 2.8907294990196846\t    \t    \n",
            "1  \t [ 4.5 -4.5]\t 178131.83203125\t 2.8907294990196846\t 2.75133295862056\t 4.158745940941295\n",
            "2  \t [-4.5  4.5]\t 169680.83203125\t 2.8907294990196846\t 2.0291320987283448\t 3.127161710961285\n",
            "3  \t [ 2.25741688 -0.50591932]\t 3.9390503516486124\t 2.8907294990196846\t 2.9707018269913794\t 2.6069792396356126\n",
            "4  \t [0.44467663 4.5       ]\t 1949.614533649236\t 2.8907294990196846\t 2.665126836173712\t 2.483966677244877\n",
            "5  \t [ 0.64574368 -2.68580868]\t 150.90545893115134\t 2.8907294990196846\t 2.909907665592291\t 2.5172627785836323\n",
            "6  \t [ 4.5        -0.24223419]\t 24.43211635742595\t 2.8907294990196846\t 3.114564883506656\t 3.111741867811938\n",
            "\u001b[1m\u001b[92m7\u001b[0m\t \u001b[1m\u001b[92m[-2.55907111  1.27059097]\u001b[0m\t \u001b[1m\u001b[92m1.1156519345816382\u001b[0m\t \u001b[1m\u001b[92m1.1156519345816382\u001b[0m\t \u001b[1m\u001b[92m3.2577408528108998\u001b[0m\t \u001b[1m\u001b[92m2.7437101728446587\u001b[0m\n",
            "8  \t [1.69549028 1.5508937 ]\t 80.00959784650166\t 1.1156519345816382\t 3.2397103354314014\t 2.7273369744237996\n",
            "9  \t [-2.52915521 -1.14960697]\t 131.12293822870438\t 1.1156519345816382\t 3.1057802147378455\t 2.4091777085166655\n",
            "10 \t [-4.5       -1.9728876]\t 2074.5258161135894\t 1.1156519345816382\t 3.3910462989244783\t 2.9223005238377273\n",
            "11 \t [ 0.65089324 -4.5       ]\t 3510.4735539855847\t 1.1156519345816382\t 2.80818848024797\t 3.128025282560199\n",
            "12 \t [-0.92453661 -2.0084242 ]\t 140.5128638521577\t 1.1156519345816382\t 2.9968580526773563\t 2.9266060763396675\n",
            "13 \t [-1.33889356  3.63528991]\t 3846.2327011316615\t 1.1156519345816382\t 2.76016518742859\t 3.0909986435940096\n",
            "14 \t [ 2.35739734 -2.15604985]\t 698.6933521051371\t 1.1156519345816382\t 2.2603607317024927\t 2.66579092923021\n",
            "15 \t [1.65330998 3.32297754]\t 4183.003774633632\t 1.1156519345816382\t 3.2129112764029104\t 3.07371368022901\n",
            "16 \t [ 0.70351449 -0.87358777]\t 6.483198682895296\t 1.1156519345816382\t 2.771661535224452\t 2.8109912901936864\n",
            "17 \t [-4.5         1.41565839]\t 37.11472922234363\t 1.1156519345816382\t 2.962966920545602\t 3.0102935649743463\n",
            "18 \t [0.53549936 0.67618378]\t 10.68418249887507\t 1.1156519345816382\t 3.1128069707057042\t 3.3569935808782554\n",
            "19 \t [3.2992383  0.91707018]\t 7.979618152310783\t 1.1156519345816382\t 3.670334975993682\t 2.8472403534852573\n",
            "20 \t [ 4.13286599 -1.75633532]\t 787.0657211222895\t 1.1156519345816382\t 4.104397965694754\t 3.438998071896419\n"
          ]
        }
      ],
      "source": [
        "### ESTIMATED STP EI GRADIENTS\n",
        "\n",
        "np.random.seed(run_num_11)\n",
        "surrogate_approx_11 = dtStudentProcess(cov_func, optimize=opt, nu = df)\n",
        "\n",
        "approx_11 = GPGO_multi(surrogate_approx_11, Acquisition_grad(util), objfunc, param)\n",
        "approx_11.run(init_evals=n_init, max_iter=iters)\n"
      ]
    },
    {
      "cell_type": "code",
      "execution_count": 24,
      "metadata": {
        "id": "DXwjUVZ4GCii",
        "colab": {
          "base_uri": "https://localhost:8080/"
        },
        "outputId": "14a26c9e-de84-47b0-860c-7de7c6c0f78b"
      },
      "outputs": [
        {
          "output_type": "stream",
          "name": "stdout",
          "text": [
            "Evaluation \t Proposed point \t  Current eval. \t  Best eval. \t        Exact EI: StdDev. x \t Approx EI: StdDev. x \n",
            "init\t [-3.11253442  2.16044727]\t 746.3412720881302\t 48.45196617039589\t    \t    \n",
            "init\t [-2.13016486  0.30365454]\t 48.45196617039589\t 48.45196617039589\t    \t    \n",
            "init\t [-4.36882534  3.76872307]\t 54651.235607336355\t 48.45196617039589\t    \t    \n",
            "init\t [ 3.60643369 -4.19920715]\t 76007.68460600567\t 48.45196617039589\t    \t    \n",
            "init\t [ 4.11254403 -3.26511611]\t 22941.17826205435\t 48.45196617039589\t    \t    \n",
            "1  \t [-0.81294138  2.47377545]\t 82.40063094823041\t 48.45196617039589\t 3.9187406645015987\t 3.373630545708905\n",
            "2  \t [4.5 4.5]\t 174813.36328125\t 48.45196617039589\t 4.227315210901904\t 3.7426643863055125\n",
            "3  \t [-4.5 -4.5]\t 181853.61328125\t 48.45196617039589\t 2.85050225170947\t 3.0688699645976087\n",
            "\u001b[1m\u001b[92m4\u001b[0m\t \u001b[1m\u001b[92m[1.7251118 0.2238521]\u001b[0m\t \u001b[1m\u001b[92m1.244668416384951\u001b[0m\t \u001b[1m\u001b[92m1.244668416384951\u001b[0m\t \u001b[1m\u001b[92m2.1962220175085947\u001b[0m\t \u001b[1m\u001b[92m1.765066641635084\u001b[0m\n",
            "5  \t [-0.3666492  -2.25430041]\t 59.545783453769374\t 1.244668416384951\t 2.3873481051323284\t 2.350037344011685\n",
            "6  \t [-4.5        -0.15166314]\t 139.82102645529818\t 1.244668416384951\t 2.4443896071534272\t 2.8965869216025673\n",
            "7  \t [4.5        0.06267358]\t 15.882097689288635\t 1.244668416384951\t 2.4026210868923523\t 2.460804338542224\n",
            "8  \t [0.44178472 4.5       ]\t 1926.161317107794\t 1.244668416384951\t 2.4667511732802647\t 2.3530855282347307\n",
            "9  \t [-0.31032369 -4.5       ]\t 998.4365476191845\t 1.244668416384951\t 2.226949176445515\t 2.096996274833555\n",
            "10 \t [1.49752351 2.33467893]\t 499.1335611193383\t 1.244668416384951\t 2.367946643415928\t 2.2863181995782194\n",
            "11 \t [-2.44129724 -1.68795985]\t 352.6123863099281\t 1.244668416384951\t 2.4823072353104956\t 2.3696952837718417\n",
            "12 \t [-0.1985567  -0.05509868]\t 16.887517965896286\t 1.244668416384951\t 2.1465198802084227\t 2.4055400297217395\n",
            "13 \t [ 1.61567816 -1.73153828]\t 92.94389068666621\t 1.244668416384951\t 2.3576109343320932\t 2.495913004723581\n",
            "14 \t [-1.53590438  4.5       ]\t 19202.394028005023\t 1.244668416384951\t 2.396155684633513\t 2.272938674622834\n",
            "15 \t [3.25870093 1.38439738]\t 99.20152324713993\t 1.244668416384951\t 2.5747288771884302\t 2.5001453117183026\n",
            "16 \t [ 3.27482468 -1.06618449]\t 56.3470550725381\t 1.244668416384951\t 2.5011033813892367\t 2.500162223911016\n",
            "17 \t [0.24769499 1.36945021]\t 17.699040319669898\t 1.244668416384951\t 2.131489418219699\t 1.8910072090066161\n",
            "18 \t [2.30045349 3.98653995]\t 22740.11953275308\t 1.244668416384951\t 2.6061852606880307\t 2.9121802179276384\n",
            "19 \t [-4.5        -1.87978649]\t 1662.9802952386515\t 1.244668416384951\t 2.5929033481360455\t 2.4927152617350283\n",
            "20 \t [-0.13544378 -3.17679391]\t 55.75450318959019\t 1.244668416384951\t 2.3422287317713337\t 2.3320767708444774\n"
          ]
        }
      ],
      "source": [
        "### ESTIMATED STP EI GRADIENTS\n",
        "\n",
        "np.random.seed(run_num_12)\n",
        "surrogate_approx_12 = dtStudentProcess(cov_func, optimize=opt, nu = df)\n",
        "\n",
        "approx_12 = GPGO_multi(surrogate_approx_12, Acquisition_grad(util), objfunc, param)\n",
        "approx_12.run(init_evals=n_init, max_iter=iters)\n"
      ]
    },
    {
      "cell_type": "code",
      "execution_count": 25,
      "metadata": {
        "id": "CphOPndPGClX",
        "colab": {
          "base_uri": "https://localhost:8080/"
        },
        "outputId": "f70f8969-052f-4a9f-898b-ce1e9e8c6de1"
      },
      "outputs": [
        {
          "output_type": "stream",
          "name": "stdout",
          "text": [
            "Evaluation \t Proposed point \t  Current eval. \t  Best eval. \t        Exact EI: StdDev. x \t Approx EI: StdDev. x \n",
            "init\t [ 2.4993217  -2.36212902]\t 1312.0597023727128\t 25.917758071459016\t    \t    \n",
            "init\t [2.91850679 4.19174278]\t 48757.43948599124\t 25.917758071459016\t    \t    \n",
            "init\t [ 4.25341003 -0.41895677]\t 25.917758071459016\t 25.917758071459016\t    \t    \n",
            "init\t [0.98138216 2.47973863]\t 337.8750512678324\t 25.917758071459016\t    \t    \n",
            "init\t [1.2745201  1.99816407]\t 177.1374160884886\t 25.917758071459016\t    \t    \n",
            "\u001b[1m\u001b[92m1\u001b[0m\t \u001b[1m\u001b[92m[-1.22873503  1.37062524]\u001b[0m\t \u001b[1m\u001b[92m2.937020157830511\u001b[0m\t \u001b[1m\u001b[92m2.937020157830511\u001b[0m\t \u001b[1m\u001b[92m3.1885870662708418\u001b[0m\t \u001b[1m\u001b[92m2.8353145834947076\u001b[0m\n",
            "2  \t [-4.5 -4.5]\t 181853.61328125\t 2.937020157830511\t 2.8414615664071827\t 3.459107570714181\n",
            "3  \t [-4.5  4.5]\t 169680.83203125\t 2.937020157830511\t 2.545344294730045\t 3.2831815584403046\n",
            "4  \t [-0.82157507 -1.64676123]\t 64.84410231413239\t 2.937020157830511\t 2.677678946813993\t 3.5379054972542834\n",
            "5  \t [-4.13557993e+00  5.89674712e-04]\t 118.21333446236463\t 2.937020157830511\t 3.0987978346794716\t 3.740082988068651\n",
            "6  \t [ 0.13809305 -4.5       ]\t 126.58545947365869\t 2.937020157830511\t 2.743156090199539\t 3.550993843254286\n",
            "7  \t [ 4.5 -4.5]\t 178131.83203125\t 2.937020157830511\t 2.896059723074525\t 3.6000735627522653\n",
            "8  \t [-0.63355499  4.5       ]\t 3066.8686268195465\t 2.937020157830511\t 2.8933163066243903\t 2.582565351030799\n",
            "9  \t [ 1.27266044 -0.31625536]\t 2.97244311074821\t 2.937020157830511\t 2.8958649439625104\t 2.5501955557669613\n",
            "10 \t [-2.76864177 -1.42236895]\t 246.2000243438559\t 2.937020157830511\t 2.848757216113434\t 2.6537699083913298\n",
            "11 \t [3.97239771 1.84882043]\t 728.6546365657673\t 2.937020157830511\t 2.600828623610466\t 2.7797646375585643\n",
            "12 \t [-3.07725902  1.53227132]\t 32.43935405834436\t 2.937020157830511\t 2.9215565473475094\t 2.665815419331912\n",
            "13 \t [-1.38739722 -3.44149628]\t 3890.378422497316\t 2.937020157830511\t 3.059815214083143\t 2.917789658818112\n",
            "14 \t [ 0.75046372 -2.64987417]\t 193.5087162123849\t 2.937020157830511\t 2.416700602827992\t 2.1794111810415\n",
            "\u001b[1m\u001b[92m15\u001b[0m\t \u001b[1m\u001b[92m[2.70777529 0.61069786]\u001b[0m\t \u001b[1m\u001b[92m0.7886998375255334\u001b[0m\t \u001b[1m\u001b[92m0.7886998375255334\u001b[0m\t \u001b[1m\u001b[92m2.609024967907429\u001b[0m\t \u001b[1m\u001b[92m2.8353747945506993\u001b[0m\n",
            "16 \t [-0.42644702 -0.01079065]\t 20.203384010761017\t 0.7886998375255334\t 2.743625517413986\t 2.6592221760090435\n",
            "17 \t [-1.60358223  2.98591083]\t 1591.149986669503\t 0.7886998375255334\t 2.8682462854889774\t 3.0608871096041534\n",
            "18 \t [ 2.79174029 -0.89795181]\t 22.138530789616773\t 0.7886998375255334\t 2.8821665994084236\t 2.5748303482320085\n",
            "19 \t [-2.20825089  0.03271406]\t 56.43507009983154\t 0.7886998375255334\t 2.78108205160665\t 2.7662581862944084\n",
            "20 \t [-4.5        -1.78852991]\t 1336.268726223553\t 0.7886998375255334\t 3.291134089964289\t 3.092847113244696\n"
          ]
        }
      ],
      "source": [
        "### ESTIMATED STP EI GRADIENTS\n",
        "\n",
        "np.random.seed(run_num_13)\n",
        "surrogate_approx_13 = dtStudentProcess(cov_func, optimize=opt, nu = df)\n",
        "\n",
        "approx_13 = GPGO_multi(surrogate_approx_13, Acquisition_grad(util), objfunc, param)\n",
        "approx_13.run(init_evals=n_init, max_iter=iters)\n"
      ]
    },
    {
      "cell_type": "code",
      "execution_count": 26,
      "metadata": {
        "id": "ojHTeARNGCoi",
        "colab": {
          "base_uri": "https://localhost:8080/"
        },
        "outputId": "442957ec-d566-434d-df35-92e589d8aace"
      },
      "outputs": [
        {
          "output_type": "stream",
          "name": "stdout",
          "text": [
            "Evaluation \t Proposed point \t  Current eval. \t  Best eval. \t        Exact EI: StdDev. x \t Approx EI: StdDev. x \n",
            "init\t [0.12549009 2.45848547]\t 30.19066754742359\t 11.367015527968295\t    \t    \n",
            "init\t [ 3.33384917 -4.42757746]\t 88548.3950659154\t 11.367015527968295\t    \t    \n",
            "init\t [-1.71237667  4.11843365]\t 13933.414320383567\t 11.367015527968295\t    \t    \n",
            "init\t [ 0.11805041 -1.63544018]\t 11.367015527968295\t 11.367015527968295\t    \t    \n",
            "init\t [ 0.35279944 -2.50870552]\t 27.90050047415725\t 11.367015527968295\t    \t    \n",
            "1  \t [2.91127743 1.61736506]\t 203.974059536301\t 11.367015527968295\t 3.880491290065632\t 3.43142254833153\n",
            "2  \t [-2.49504921 -4.41064264]\t 50193.3539531476\t 11.367015527968295\t 4.058880944731864\t 3.9995975837426685\n",
            "3  \t [-4.5         0.24589014]\t 115.72650454281299\t 11.367015527968295\t 3.441319136034577\t 3.642847802552465\n",
            "4  \t [4.5 4.5]\t 174813.36328125\t 11.367015527968295\t 2.2235247302551393\t 3.729928110841914\n",
            "5  \t [ 4.5        -0.46417946]\t 32.94133701835294\t 11.367015527968295\t 2.575565880871553\t 3.3972854266494\n",
            "6  \t [-1.75027662  0.32438087]\t 40.382438689188476\t 11.367015527968295\t 2.8588558389043808\t 3.217072856265908\n",
            "\u001b[1m\u001b[92m7\u001b[0m\t \u001b[1m\u001b[92m[ 2.10553996 -0.5570509 ]\u001b[0m\t \u001b[1m\u001b[92m3.8235237752859703\u001b[0m\t \u001b[1m\u001b[92m3.8235237752859703\u001b[0m\t \u001b[1m\u001b[92m2.5664362807993926\u001b[0m\t \u001b[1m\u001b[92m3.058700756681819\u001b[0m\n",
            "8  \t [-4.5         2.75408944]\t 8338.65104704584\t 3.8235237752859703\t 2.8653802109092523\t 3.6227577690655353\n",
            "9  \t [0.39204076 0.51345168]\t 10.78681550664354\t 3.8235237752859703\t 2.575772431936823\t 3.146646920176874\n",
            "10 \t [-4.5        -1.87108976]\t 1628.7842453320322\t 3.8235237752859703\t 2.5299221438964983\t 3.0798747361812273\n",
            "11 \t [0.96049399 4.5       ]\t 8408.534306672014\t 3.8235237752859703\t 2.8351901381589806\t 3.2455936641960674\n",
            "12 \t [-2.2723532  -1.41294642]\t 176.6179505963853\t 3.8235237752859703\t 2.9445052417596544\t 3.3946551915005663\n",
            "13 \t [ 0.30829143 -4.5       ]\t 731.4462055441061\t 3.8235237752859703\t 2.9201169413642245\t 3.5597578982660187\n",
            "14 \t [-2.51040284  1.79172582]\t 97.68899455674585\t 3.8235237752859703\t 3.1480619219991772\t 3.4664954485079202\n",
            "15 \t [-4.5  4.5]\t 169680.83203125\t 3.8235237752859703\t 2.619380839456283\t 3.168160860478407\n",
            "16 \t [4.5        1.19829306]\t 57.89240944579356\t 3.8235237752859703\t 3.254638967060163\t 3.252683837430895\n",
            "17 \t [ 3.37239757 -1.62506591]\t 346.30055278356565\t 3.8235237752859703\t 3.178138769047008\t 2.983630715763538\n",
            "18 \t [ 1.90818266 -2.38425662]\t 782.1089376765578\t 3.8235237752859703\t 3.077030392270632\t 2.9583216219079613\n",
            "19 \t [1.42031178 1.69401275]\t 96.0022890228507\t 3.8235237752859703\t 3.1485707774033225\t 3.0288734178913326\n",
            "20 \t [2.30164153 3.07023708]\t 4988.09350032885\t 3.8235237752859703\t 3.0807502079158615\t 2.875222259575542\n"
          ]
        }
      ],
      "source": [
        "### ESTIMATED STP EI GRADIENTS\n",
        "\n",
        "np.random.seed(run_num_14)\n",
        "surrogate_approx_14 = dtStudentProcess(cov_func, optimize=opt, nu = df)\n",
        "\n",
        "approx_14 = GPGO_multi(surrogate_approx_14, Acquisition_grad(util), objfunc, param)\n",
        "approx_14.run(init_evals=n_init, max_iter=iters)\n"
      ]
    },
    {
      "cell_type": "code",
      "execution_count": 27,
      "metadata": {
        "id": "vCJzn4vWGCs3",
        "colab": {
          "base_uri": "https://localhost:8080/"
        },
        "outputId": "2eec23ef-1ea6-4dec-9ff2-ed64184248ea"
      },
      "outputs": [
        {
          "output_type": "stream",
          "name": "stdout",
          "text": [
            "Evaluation \t Proposed point \t  Current eval. \t  Best eval. \t        Exact EI: StdDev. x \t Approx EI: StdDev. x \n",
            "init\t [ 3.13935928 -2.88993668]\t 6575.875821208801\t 47.082686538130915\t    \t    \n",
            "init\t [-4.01073107 -1.24615399]\t 317.710908287677\t 47.082686538130915\t    \t    \n",
            "init\t [-2.02139164  0.27000202]\t 47.082686538130915\t 47.082686538130915\t    \t    \n",
            "init\t [-1.74672976 -1.75973077]\t 234.8792968363759\t 47.082686538130915\t    \t    \n",
            "init\t [-3.49432851 -2.25090888]\t 2421.671033348018\t 47.082686538130915\t    \t    \n",
            "\u001b[1m\u001b[92m1\u001b[0m\t \u001b[1m\u001b[92m[-4.5         0.86618022]\u001b[0m\t \u001b[1m\u001b[92m33.44668971495845\u001b[0m\t \u001b[1m\u001b[92m33.44668971495845\u001b[0m\t \u001b[1m\u001b[92m3.471395078203275\u001b[0m\t \u001b[1m\u001b[92m3.9258561807516092\u001b[0m\n",
            "2  \t [4.5 4.5]\t 174813.36328125\t 33.44668971495845\t 2.99890144529846\t 3.1234076800444357\n",
            "3  \t [-1.7054347  4.5      ]\t 23779.43644698047\t 33.44668971495845\t 3.1003817384407037\t 3.4635001030310533\n",
            "\u001b[1m\u001b[92m4\u001b[0m\t \u001b[1m\u001b[92m[1.17691419 0.80960865]\u001b[0m\t \u001b[1m\u001b[92m9.326052743179776\u001b[0m\t \u001b[1m\u001b[92m9.326052743179776\u001b[0m\t \u001b[1m\u001b[92m2.927327331104589\u001b[0m\t \u001b[1m\u001b[92m3.586330288032266\u001b[0m\n",
            "5  \t [-0.45481358 -4.5       ]\t 2040.777923349923\t 9.326052743179776\t 2.9606812506318403\t 3.058327700551014\n",
            "6  \t [4.5        0.19220943]\t 12.297299858508001\t 9.326052743179776\t 3.194829113986008\t 3.864208802942027\n",
            "7  \t [-4.5 -4.5]\t 181853.61328125\t 9.326052743179776\t 3.0077592855566686\t 4.292050146547536\n",
            "8  \t [ 0.63091568 -1.55934143]\t 10.114221002559727\t 9.326052743179776\t 2.399514922895402\t 3.36774564198919\n",
            "9  \t [-4.5  4.5]\t 169680.83203125\t 9.326052743179776\t 2.015264052918694\t 3.3506426800778897\n",
            "\u001b[1m\u001b[92m10\u001b[0m\t \u001b[1m\u001b[92m[-0.56621754  1.94714505]\u001b[0m\t \u001b[1m\u001b[92m2.354661551828037\u001b[0m\t \u001b[1m\u001b[92m2.354661551828037\u001b[0m\t \u001b[1m\u001b[92m2.1175938335589537\u001b[0m\t \u001b[1m\u001b[92m2.9954732312152887\u001b[0m\n",
            "11 \t [1.15078386 3.31823281]\t 2100.908415352817\t 2.354661551828037\t 2.04181274976049\t 2.718802774816277\n",
            "12 \t [ 4.5 -4.5]\t 178131.83203125\t 2.354661551828037\t 2.1010232024421915\t 3.0664403086182426\n",
            "13 \t [ 2.69226548 -0.87929098]\t 18.95824321710339\t 2.354661551828037\t 2.4958293475624127\t 2.355581219095322\n",
            "14 \t [ 1.23698484 -3.47885734]\t 2841.5150143319092\t 2.354661551828037\t 2.2214768302154777\t 2.345525228939137\n",
            "15 \t [2.98301912 1.49433634]\t 136.0760882423942\t 2.354661551828037\t 2.0564940935719984\t 2.189724426010328\n",
            "16 \t [-2.65931349  1.87938146]\t 173.7858729940895\t 2.354661551828037\t 2.7045775232165816\t 2.7318959528131352\n",
            "17 \t [-0.34908004 -0.10063783]\t 19.13437011576296\t 2.354661551828037\t 2.3095689274572986\t 2.2236585714420647\n",
            "18 \t [ 1.93752571 -2.06536331]\t 361.6703697614349\t 2.354661551828037\t 2.632265967743921\t 2.6062571564683843\n",
            "19 \t [ 4.5        -1.49231827]\t 438.047828553679\t 2.354661551828037\t 2.455555581954654\t 2.7067036905229522\n",
            "20 \t [-1.64938799 -3.37211216]\t 4855.50888590444\t 2.354661551828037\t 2.4138582469350554\t 2.297244461475749\n"
          ]
        }
      ],
      "source": [
        "### ESTIMATED STP EI GRADIENTS\n",
        "\n",
        "np.random.seed(run_num_15)\n",
        "surrogate_approx_15 = dtStudentProcess(cov_func, optimize=opt, nu = df)\n",
        "\n",
        "approx_15 = GPGO_multi(surrogate_approx_15, Acquisition_grad(util), objfunc, param)\n",
        "approx_15.run(init_evals=n_init, max_iter=iters)\n"
      ]
    },
    {
      "cell_type": "code",
      "execution_count": 28,
      "metadata": {
        "id": "bGGkhp-kGCw6",
        "colab": {
          "base_uri": "https://localhost:8080/"
        },
        "outputId": "02660873-fefc-4361-dfe6-40a0524bb580"
      },
      "outputs": [
        {
          "output_type": "stream",
          "name": "stdout",
          "text": [
            "Evaluation \t Proposed point \t  Current eval. \t  Best eval. \t        Exact EI: StdDev. x \t Approx EI: StdDev. x \n",
            "init\t [-2.49038029  0.20847007]\t 59.442894178636664\t 59.442894178636664\t    \t    \n",
            "init\t [ 0.45631311 -4.08958245]\t 932.9374489641153\t 59.442894178636664\t    \t    \n",
            "init\t [-1.25344048 -2.49227152]\t 594.9494957841517\t 59.442894178636664\t    \t    \n",
            "init\t [ 1.69853546 -3.02641717]\t 2418.389440420566\t 59.442894178636664\t    \t    \n",
            "init\t [-3.8670762   3.96909774]\t 58473.38862292419\t 59.442894178636664\t    \t    \n",
            "1  \t [4.5 4.5]\t 174813.36328125\t 59.442894178636664\t 4.295790706601609\t 4.05632649766618\n",
            "2  \t [-4.5 -4.5]\t 181853.61328125\t 59.442894178636664\t 3.4889541625081697\t 3.3922407489021706\n",
            "\u001b[1m\u001b[92m3\u001b[0m\t \u001b[1m\u001b[92m[0.77186095 1.13663171]\u001b[0m\t \u001b[1m\u001b[92m17.624417657793614\u001b[0m\t \u001b[1m\u001b[92m17.624417657793614\u001b[0m\t \u001b[1m\u001b[92m2.3665724828456147\u001b[0m\t \u001b[1m\u001b[92m2.750692438666574\u001b[0m\n",
            "4  \t [ 4.5        -0.44254826]\t 31.918375058338\t 17.624417657793614\t 2.391204554572966\t 3.498859286456017\n",
            "5  \t [ 4.5 -4.5]\t 178131.83203125\t 17.624417657793614\t 1.9649938023048938\t 2.8723035585500223\n",
            "6  \t [0.15918969 4.5       ]\t 320.52257409357765\t 17.624417657793614\t 2.8600801145773063\t 3.293670566201084\n",
            "7  \t [-4.5        -0.61805295]\t 169.45516370577548\t 17.624417657793614\t 2.3422322128048445\t 2.423107047228366\n",
            "\u001b[1m\u001b[92m8\u001b[0m\t \u001b[1m\u001b[92m[ 2.17894371 -0.63798532]\u001b[0m\t \u001b[1m\u001b[92m5.213078037459728\u001b[0m\t \u001b[1m\u001b[92m5.213078037459728\u001b[0m\t \u001b[1m\u001b[92m2.284731766651466\u001b[0m\t \u001b[1m\u001b[92m2.0085239852892904\u001b[0m\n",
            "9  \t [-1.06304811  2.28442892]\t 85.7442466260088\t 5.213078037459728\t 2.369251096079346\t 2.2920886268444587\n",
            "10 \t [-0.23306426 -0.67511164]\t 17.806608786721053\t 5.213078037459728\t 2.4183265442638353\t 2.457384290121553\n",
            "11 \t [3.04124597 1.3251414 ]\t 71.25261020067423\t 5.213078037459728\t 2.3866350487204167\t 2.4526260324370996\n",
            "12 \t [1.42833666 2.97054594]\t 1691.6756191248414\t 5.213078037459728\t 2.535125987770158\t 2.9424781689376753\n",
            "13 \t [-1.2767791 -4.5      ]\t 15030.816279540626\t 5.213078037459728\t 2.298706242825328\t 2.4104750230416125\n",
            "\u001b[1m\u001b[92m14\u001b[0m\t \u001b[1m\u001b[92m[-4.5         1.20090416]\u001b[0m\t \u001b[1m\u001b[92m0.8698671399863995\u001b[0m\t \u001b[1m\u001b[92m0.8698671399863995\u001b[0m\t \u001b[1m\u001b[92m2.0812854041447375\u001b[0m\t \u001b[1m\u001b[92m2.2635511340585004\u001b[0m\n",
            "15 \t [ 3.36804687 -1.69789884]\t 428.209984617048\t 0.8698671399863995\t 2.12395162987265\t 2.2799956279884066\n",
            "16 \t [-2.83544216 -1.58627204]\t 363.7275750150165\t 0.8698671399863995\t 2.019119791319828\t 2.306764161262608\n",
            "17 \t [-3.01378568  1.8805661 ]\t 237.9344898354213\t 0.8698671399863995\t 2.6589280851272803\t 2.7119505244004287\n",
            "18 \t [4.43346497 2.36017442]\t 3753.4155660834977\t 0.8698671399863995\t 2.697630291508217\t 2.5845752858025097\n",
            "19 \t [-1.56032729  4.5       ]\t 19831.630388753714\t 0.8698671399863995\t 2.0991698557006315\t 2.0208684349203416\n",
            "20 \t [-2.96459566 -3.24325638]\t 12263.157845096792\t 0.8698671399863995\t 2.9009326107200994\t 2.552041073154319\n"
          ]
        }
      ],
      "source": [
        "### ESTIMATED STP EI GRADIENTS\n",
        "\n",
        "np.random.seed(run_num_16)\n",
        "surrogate_approx_16 = dtStudentProcess(cov_func, optimize=opt, nu = df)\n",
        "\n",
        "approx_16 = GPGO_multi(surrogate_approx_16, Acquisition_grad(util), objfunc, param)\n",
        "approx_16.run(init_evals=n_init, max_iter=iters)\n"
      ]
    },
    {
      "cell_type": "code",
      "execution_count": 29,
      "metadata": {
        "id": "Yrs2mp7hGC1Z",
        "colab": {
          "base_uri": "https://localhost:8080/"
        },
        "outputId": "82a38795-d4a1-41ea-98af-3bf0cf55dda7"
      },
      "outputs": [
        {
          "output_type": "stream",
          "name": "stdout",
          "text": [
            "Evaluation \t Proposed point \t  Current eval. \t  Best eval. \t        Exact EI: StdDev. x \t Approx EI: StdDev. x \n",
            "init\t [-1.84801498  0.2752808 ]\t 43.39160388622011\t 6.891623366037299\t    \t    \n",
            "init\t [-2.77631292 -3.88889678]\t 30048.58268621874\t 6.891623366037299\t    \t    \n",
            "init\t [2.58286914 1.4070017 ]\t 81.72560623465196\t 6.891623366037299\t    \t    \n",
            "init\t [1.23768806 0.68042604]\t 6.891623366037299\t 6.891623366037299\t    \t    \n",
            "init\t [-4.14843375 -1.27967756]\t 359.4343933746243\t 6.891623366037299\t    \t    \n",
            "1  \t [ 4.5 -4.5]\t 178131.83203125\t 6.891623366037299\t 3.027030649745486\t 4.279652153997513\n",
            "2  \t [-4.5  4.5]\t 169680.83203125\t 6.891623366037299\t 2.9263210998036153\t 3.734246258871582\n",
            "3  \t [4.5 4.5]\t 174813.36328125\t 6.891623366037299\t 3.4508477592634024\t 2.6158843097223103\n",
            "4  \t [-0.0259121   3.57061684]\t 8.004552749625484\t 6.891623366037299\t 3.0572372941459514\t 2.8093130598298344\n",
            "5  \t [ 0.75934979 -2.13244652]\t 55.43664728951448\t 6.891623366037299\t 2.747890201181389\t 2.8305285342901385\n",
            "6  \t [4.32110218 0.0892068 ]\t 12.946872244122787\t 6.891623366037299\t 2.762273149273756\t 2.6261345374414478\n",
            "7  \t [ 0.55300487 -4.5       ]\t 2503.5440045997448\t 6.891623366037299\t 2.8111484143709764\t 2.4631087754305536\n",
            "8  \t [-4.5         0.88112781]\t 31.118892089435953\t 6.891623366037299\t 3.070990179278202\t 2.527326538024071\n",
            "9  \t [ 2.68091467 -1.23967612]\t 60.559719977998455\t 6.891623366037299\t 3.2967993288789046\t 2.827126513256182\n",
            "10 \t [-1.68569587  2.31359023]\t 300.7865320350663\t 6.891623366037299\t 2.5657113672653438\t 2.2306931452591647\n",
            "11 \t [-1.14373532 -1.54591278]\t 83.80869998759296\t 6.891623366037299\t 3.121526721620521\t 2.9804513383893676\n",
            "12 \t [1.56922358 2.9261027 ]\t 1849.4957958619825\t 6.891623366037299\t 3.1849267324826815\t 2.7367573244199086\n",
            "13 \t [-1.34779094  4.5       ]\t 14695.855456745847\t 6.891623366037299\t 3.1556218348142644\t 2.7375329996563735\n",
            "14 \t [-0.22061732  1.47468421]\t 10.481723569172148\t 6.891623366037299\t 2.7864964363762756\t 2.7771490470440297\n",
            "15 \t [4.26119853 1.46915894]\t 204.93535615605848\t 6.891623366037299\t 2.924049709603593\t 3.0497284959174444\n",
            "16 \t [ 0.06746032 -0.43643827]\t 13.300771775246801\t 6.891623366037299\t 2.936815443572076\t 2.725814344989838\n",
            "17 \t [ 2.2605402  -3.02855226]\t 4384.757172131107\t 6.891623366037299\t 2.7771167066459665\t 2.551320520133074\n",
            "18 \t [-3.25776261  1.90227561]\t 315.18027775235373\t 6.891623366037299\t 2.1884451868028596\t 2.463817970351618\n",
            "19 \t [-0.52084003 -3.18089444]\t 416.1324038764922\t 6.891623366037299\t 2.7114452556881594\t 2.7131678145929143\n",
            "20 \t [-0.31639177 -3.92438789]\t 501.47872433617835\t 6.891623366037299\t 2.7845353784052302\t 2.7425934400478114\n"
          ]
        }
      ],
      "source": [
        "### ESTIMATED STP EI GRADIENTS\n",
        "\n",
        "np.random.seed(run_num_17)\n",
        "surrogate_approx_17 = dtStudentProcess(cov_func, optimize=opt, nu = df)\n",
        "\n",
        "approx_17 = GPGO_multi(surrogate_approx_17, Acquisition_grad(util), objfunc, param)\n",
        "approx_17.run(init_evals=n_init, max_iter=iters)\n"
      ]
    },
    {
      "cell_type": "code",
      "execution_count": 30,
      "metadata": {
        "id": "f0HIEP3PIUEa",
        "colab": {
          "base_uri": "https://localhost:8080/"
        },
        "outputId": "d9f5073a-64af-4d3b-cdaa-f93f587fea52"
      },
      "outputs": [
        {
          "output_type": "stream",
          "name": "stdout",
          "text": [
            "Evaluation \t Proposed point \t  Current eval. \t  Best eval. \t        Exact EI: StdDev. x \t Approx EI: StdDev. x \n",
            "init\t [1.35336818 0.04908036]\t 2.472652645883837\t 2.472652645883837\t    \t    \n",
            "init\t [ 3.40741324 -2.86343797]\t 7379.017314590048\t 2.472652645883837\t    \t    \n",
            "init\t [3.17009762 2.25122657]\t 1528.3101419799655\t 2.472652645883837\t    \t    \n",
            "init\t [1.49491501 4.39105903]\t 17224.913295283764\t 2.472652645883837\t    \t    \n",
            "init\t [-2.1872842  -4.24524667]\t 31030.348242396165\t 2.472652645883837\t    \t    \n",
            "1  \t [-4.5         1.89303412]\t 641.9207072898205\t 2.472652645883837\t 3.2574748132973017\t 4.0593427622559854\n",
            "2  \t [-1.45655481  0.36589279]\t 34.286662092466344\t 2.472652645883837\t 3.3352959935156434\t 4.191773176898286\n",
            "3  \t [-4.5  4.5]\t 169680.83203125\t 2.472652645883837\t 3.6422862797959885\t 4.241686077048748\n",
            "4  \t [-4.5        -0.74534795]\t 186.35157536973182\t 2.472652645883837\t 4.281174268409993\t 3.984361339030165\n",
            "5  \t [ 4.50000000e+00 -2.42433214e-03]\t 17.64358220891024\t 2.472652645883837\t 3.8030287583160503\t 3.715571074835814\n",
            "6  \t [-1.19493408  2.65776312]\t 371.6451890184504\t 2.472652645883837\t 4.256603105321793\t 3.740477137064695\n",
            "7  \t [ 0.32077164 -2.01731903]\t 10.854377768721204\t 2.472652645883837\t 3.7134726731752754\t 3.7638642894155865\n",
            "8  \t [4.5 4.5]\t 174813.36328125\t 2.472652645883837\t 4.232127191626868\t 3.0033648880408212\n",
            "9  \t [-2.4581733  -1.36783836]\t 182.97331033883125\t 2.472652645883837\t 2.9868804484912035\t 3.5076570583285207\n",
            "10 \t [ 1.16991805 -4.5       ]\t 11695.249123999183\t 2.472652645883837\t 3.0144762773031597\t 3.6843374835069707\n",
            "11 \t [0.72170596 1.84640815]\t 61.92065033825154\t 2.472652645883837\t 3.1188620867401\t 3.853580516286529\n",
            "12 \t [ 4.5 -4.5]\t 178131.83203125\t 2.472652645883837\t 2.7766055612262845\t 3.1333823305440345\n",
            "13 \t [ 2.48866202 -1.34593045]\t 72.23254288458239\t 2.472652645883837\t 2.931345475064184\t 2.8681407459185455\n",
            "14 \t [-1.05588928  4.5       ]\t 8894.658120940274\t 2.472652645883837\t 2.607876531401307\t 2.5790230522056325\n",
            "15 \t [-4.5 -4.5]\t 181853.61328125\t 2.472652645883837\t 3.036211225775255\t 2.579394383785104\n",
            "\u001b[1m\u001b[92m16\u001b[0m\t \u001b[1m\u001b[92m[2.91592505 0.62991081]\u001b[0m\t \u001b[1m\u001b[92m0.6100123356304034\u001b[0m\t \u001b[1m\u001b[92m0.6100123356304034\u001b[0m\t \u001b[1m\u001b[92m2.0417983620577416\u001b[0m\t \u001b[1m\u001b[92m2.2024498846265717\u001b[0m\n",
            "17 \t [-3.17693722  0.79825487]\t 33.683310806179065\t 0.6100123356304034\t 2.577080788364078\t 2.592787858783151\n",
            "18 \t [-2.7877198   2.41491442]\t 1277.5207197174675\t 0.6100123356304034\t 2.639664628688302\t 2.3378998955178547\n",
            "19 \t [-0.17762775 -0.51388119]\t 16.787280537266813\t 0.6100123356304034\t 2.1414354745733064\t 2.160743093733508\n",
            "20 \t [-1.17851532 -2.26083202]\t 338.8210709648838\t 0.6100123356304034\t 2.5592934668102063\t 2.5763326272782714\n"
          ]
        }
      ],
      "source": [
        "### ESTIMATED STP EI GRADIENTS\n",
        "\n",
        "np.random.seed(run_num_18)\n",
        "surrogate_approx_18 = dtStudentProcess(cov_func, optimize=opt, nu = df)\n",
        "\n",
        "approx_18 = GPGO_multi(surrogate_approx_18, Acquisition_grad(util), objfunc, param)\n",
        "approx_18.run(init_evals=n_init, max_iter=iters)\n"
      ]
    },
    {
      "cell_type": "code",
      "execution_count": 31,
      "metadata": {
        "id": "S3mxRQDLIUPC",
        "colab": {
          "base_uri": "https://localhost:8080/"
        },
        "outputId": "e115f676-958b-494d-f679-2d278b501993"
      },
      "outputs": [
        {
          "output_type": "stream",
          "name": "stdout",
          "text": [
            "Evaluation \t Proposed point \t  Current eval. \t  Best eval. \t        Exact EI: StdDev. x \t Approx EI: StdDev. x \n",
            "init\t [-3.62219758  2.35124745]\t 1879.409018573639\t 63.544086067314716\t    \t    \n",
            "init\t [-2.27755824 -3.25681481]\t 7496.243410303341\t 63.544086067314716\t    \t    \n",
            "init\t [-1.51698093 -3.75300391]\t 7497.407542620609\t 63.544086067314716\t    \t    \n",
            "init\t [1.54779373 2.75934418]\t 1302.4341957421634\t 63.544086067314716\t    \t    \n",
            "init\t [4.34467723 1.22094661]\t 63.544086067314716\t 63.544086067314716\t    \t    \n",
            "1  \t [ 4.5 -4.5]\t 178131.83203125\t 63.544086067314716\t 3.411840002978633\t 4.278501698591453\n",
            "2  \t [4.5 4.5]\t 174813.36328125\t 63.544086067314716\t 3.1137011794567044\t 3.825396156226482\n",
            "\u001b[1m\u001b[92m3\u001b[0m\t \u001b[1m\u001b[92m[ 1.44404869 -0.73489482]\u001b[0m\t \u001b[1m\u001b[92m3.894899047083592\u001b[0m\t \u001b[1m\u001b[92m3.894899047083592\u001b[0m\t \u001b[1m\u001b[92m2.5204743252403414\u001b[0m\t \u001b[1m\u001b[92m2.983854204270092\u001b[0m\n",
            "4  \t [-1.15802434  0.39459009]\t 29.040950442341888\t 3.894899047083592\t 3.011683144611685\t 3.341510727997915\n",
            "5  \t [-1.11885486  4.5       ]\t 10023.418795388636\t 3.894899047083592\t 3.03259154997185\t 3.6401348217776452\n",
            "6  \t [-4.5  4.5]\t 169680.83203125\t 3.894899047083592\t 2.879154324977774\t 3.2926703067727363\n",
            "7  \t [-4.22894187  0.15481923]\t 113.18286567918022\t 3.894899047083592\t 3.08679805685575\t 3.094906279119531\n",
            "8  \t [-4.5 -4.5]\t 181853.61328125\t 3.894899047083592\t 2.3123625726281967\t 2.5093935069547233\n",
            "9  \t [ 1.03523969 -3.09823678]\t 984.4421609993356\t 3.894899047083592\t 1.9100177182397349\t 2.134552330706433\n",
            "10 \t [ 3.86646267 -0.91530052]\t 55.20075287755573\t 3.894899047083592\t 2.2838078602606613\t 2.6266984360620578\n",
            "11 \t [-2.57263926 -1.09892003]\t 124.71308160889984\t 3.894899047083592\t 1.91919280560886\t 1.9711609001399277\n",
            "12 \t [-1.57566944  2.23560104]\t 196.28636533199975\t 3.894899047083592\t 2.185550616496037\t 2.3124846843695934\n",
            "13 \t [-0.45820487 -1.5462484 ]\t 32.5331697957657\t 3.894899047083592\t 2.6972330061287777\t 2.481193891281174\n",
            "14 \t [2.37888212 0.94335571]\t 10.848596145589326\t 3.894899047083592\t 2.2133735702315254\t 2.2891329961585103\n",
            "15 \t [ 0.36261554 -4.5       ]\t 1032.9110662511237\t 3.894899047083592\t 2.4127535226277343\t 2.625049988020725\n",
            "16 \t [1.50255457 4.42405985]\t 18174.115684455268\t 3.894899047083592\t 2.183487580434869\t 2.3219048740001944\n",
            "17 \t [ 3.27385495 -3.00910301]\t 9027.274462660023\t 3.894899047083592\t 2.54700400348494\t 2.4185104288929353\n",
            "18 \t [0.42920051 1.26696913]\t 18.32259871654206\t 3.894899047083592\t 2.548660883105891\t 2.2630003725558416\n",
            "19 \t [-4.5        -1.81036672]\t 1408.236966200616\t 3.894899047083592\t 2.15528352992938\t 2.163968489577297\n",
            "20 \t [-4.27896529 -0.60082601]\t 155.9045774307382\t 3.894899047083592\t 2.4329424429957247\t 2.450104925196806\n"
          ]
        }
      ],
      "source": [
        "### ESTIMATED STP EI GRADIENTS\n",
        "\n",
        "np.random.seed(run_num_19)\n",
        "surrogate_approx_19 = dtStudentProcess(cov_func, optimize=opt, nu = df)\n",
        "\n",
        "approx_19 = GPGO_multi(surrogate_approx_19, Acquisition_grad(util), objfunc, param)\n",
        "approx_19.run(init_evals=n_init, max_iter=iters)\n"
      ]
    },
    {
      "cell_type": "code",
      "execution_count": 32,
      "metadata": {
        "id": "Aawd59dRIUYn",
        "colab": {
          "base_uri": "https://localhost:8080/"
        },
        "outputId": "585423c7-60ac-4cae-f257-d376786db45a"
      },
      "outputs": [
        {
          "output_type": "stream",
          "name": "stdout",
          "text": [
            "Evaluation \t Proposed point \t  Current eval. \t  Best eval. \t        Exact EI: StdDev. x \t Approx EI: StdDev. x \n",
            "init\t [0.79317721 3.57942355]\t 1607.3829986954497\t 30.55204392634667\t    \t    \n",
            "init\t [3.52377657 2.8425373 ]\t 7209.150060592592\t 30.55204392634667\t    \t    \n",
            "init\t [-4.17699373  1.72581824]\t 253.68900136908488\t 30.55204392634667\t    \t    \n",
            "init\t [-1.09187152  0.16659851]\t 30.55204392634667\t 30.55204392634667\t    \t    \n",
            "init\t [ 1.42156319 -2.75534804]\t 963.9362838324588\t 30.55204392634667\t    \t    \n",
            "1  \t [-4.5 -4.5]\t 181853.61328125\t 30.55204392634667\t 3.479068993406834\t 3.841823312241344\n",
            "2  \t [ 4.5 -4.5]\t 178131.83203125\t 30.55204392634667\t 2.8746319045999016\t 3.684250675399315\n",
            "3  \t [-4.5  4.5]\t 169680.83203125\t 30.55204392634667\t 2.736243611388636\t 2.9832991446029467\n",
            "\u001b[1m\u001b[92m4\u001b[0m\t \u001b[1m\u001b[92m[ 4.5        -0.35941953]\u001b[0m\t \u001b[1m\u001b[92m28.44755881160287\u001b[0m\t \u001b[1m\u001b[92m28.44755881160287\u001b[0m\t \u001b[1m\u001b[92m2.4793435230317753\u001b[0m\t \u001b[1m\u001b[92m2.459392686364703\u001b[0m\n",
            "\u001b[1m\u001b[92m5\u001b[0m\t \u001b[1m\u001b[92m[1.6282205  0.09896787]\u001b[0m\t \u001b[1m\u001b[92m1.404498280686949\u001b[0m\t \u001b[1m\u001b[92m1.404498280686949\u001b[0m\t \u001b[1m\u001b[92m2.958873035285855\u001b[0m\t \u001b[1m\u001b[92m2.830094868435462\u001b[0m\n",
            "6  \t [-3.66456221 -0.59523631]\t 125.14811206957538\t 1.404498280686949\t 2.969281236353221\t 3.2648619199936637\n",
            "7  \t [-1.12765216 -2.40542774]\t 416.61912236330255\t 1.404498280686949\t 3.095109368239061\t 2.93766358352071\n",
            "8  \t [-0.21376785 -4.5       ]\t 508.74718973604865\t 1.404498280686949\t 2.970128575249772\t 2.972908099191343\n",
            "9  \t [-1.38760902  2.43842169]\t 280.9222004763626\t 1.404498280686949\t 3.1607884845466456\t 3.045939833549749\n",
            "10 \t [4.5 4.5]\t 174813.36328125\t 1.404498280686949\t 2.624038246805401\t 2.8323362572478428\n",
            "11 \t [1.98973298 1.91948634]\t 285.0115702899196\t 1.404498280686949\t 2.7078377734609105\t 2.605193699275417\n",
            "12 \t [ 2.90535629 -1.42104835]\t 132.05079473365862\t 1.404498280686949\t 2.433965595480786\t 2.522800559703338\n",
            "13 \t [3.77940688 1.17504419]\t 43.05475297540862\t 1.404498280686949\t 2.4968584508854472\t 2.6743721713857997\n",
            "14 \t [-1.02533372  4.5       ]\t 8371.204571403276\t 1.404498280686949\t 2.381162540722021\t 2.431370505896436\n",
            "15 \t [ 0.30161583 -1.16575928]\t 9.68454173059996\t 1.404498280686949\t 2.0678237759949134\t 2.2507649295428886\n",
            "16 \t [0.19971445 1.48053608]\t 18.183471201869402\t 1.404498280686949\t 2.216054162622727\t 2.4474064264844246\n",
            "17 \t [-2.61176888  1.01045994]\t 13.449843833414057\t 1.404498280686949\t 2.372100964678519\t 2.479779968172705\n",
            "18 \t [-3.00849526 -2.2595625 ]\t 1857.2693886901554\t 1.404498280686949\t 2.684272984945951\t 2.499856696890813\n",
            "19 \t [-1.79916813 -4.11996309]\t 17780.162196441004\t 1.404498280686949\t 2.512073728907487\t 2.563363403475894\n",
            "20 \t [ 1.55874717 -4.5       ]\t 20964.3039377575\t 1.404498280686949\t 2.2205504151391864\t 2.3090452070507936\n"
          ]
        }
      ],
      "source": [
        "### ESTIMATED STP EI GRADIENTS\n",
        "\n",
        "np.random.seed(run_num_20)\n",
        "surrogate_approx_20 = dtStudentProcess(cov_func, optimize=opt, nu = df)\n",
        "\n",
        "approx_20 = GPGO_multi(surrogate_approx_20, Acquisition_grad(util), objfunc, param)\n",
        "approx_20.run(init_evals=n_init, max_iter=iters)\n"
      ]
    },
    {
      "cell_type": "code",
      "execution_count": 33,
      "metadata": {
        "id": "xkgzPRbBTHaq",
        "colab": {
          "base_uri": "https://localhost:8080/"
        },
        "outputId": "8abcde2f-d548-4f4c-8db6-f6b5c332a97e"
      },
      "outputs": [
        {
          "output_type": "execute_result",
          "data": {
            "text/plain": [
              "1662386539.0156028"
            ]
          },
          "metadata": {},
          "execution_count": 33
        }
      ],
      "source": [
        "end_approx = time.time()\n",
        "end_approx\n",
        "\n",
        "time_approx = end_approx - start_approx\n",
        "time_approx\n",
        "\n",
        "start_exact = time.time()\n",
        "start_exact"
      ]
    },
    {
      "cell_type": "code",
      "execution_count": 34,
      "metadata": {
        "id": "7CG3Ndvb16Rb",
        "colab": {
          "base_uri": "https://localhost:8080/"
        },
        "outputId": "f0145c4a-b34e-49dd-8f05-7abef653fd92"
      },
      "outputs": [
        {
          "output_type": "stream",
          "name": "stdout",
          "text": [
            "Evaluation \t Proposed point \t  Current eval. \t  Best eval. \t        Exact EI: StdDev. x \t Approx EI: StdDev. x \n",
            "init\t [-0.74680196  1.98292044]\t 6.597029498756062\t 6.597029498756062\t    \t    \n",
            "init\t [-4.49897063 -1.77900685]\t 1305.4710589552556\t 6.597029498756062\t    \t    \n",
            "init\t [-3.17919698 -3.66895265]\t 28173.776013477825\t 6.597029498756062\t    \t    \n",
            "init\t [-2.8236581  -1.38995346]\t 237.9931764117774\t 6.597029498756062\t    \t    \n",
            "init\t [-0.92909273  0.34935061]\t 26.1790631757263\t 6.597029498756062\t    \t    \n",
            "1  \t [-3.51734167  0.89308095]\t 25.5196124603644\t 6.597029498756062\t 3.2076154856298436\t 3.712994226755531\n",
            "2  \t [4.5 4.5]\t 174813.36328125\t 6.597029498756062\t 2.7812955996909308\t 3.248007832805991\n",
            "3  \t [ 2.96082809 -3.08887745]\t 8543.918828465654\t 6.597029498756062\t 2.7843454438152846\t 3.9423528161385177\n",
            "4  \t [-4.30627675  4.0317319 ]\t 79938.34898060079\t 6.597029498756062\t 3.006630688210647\t 3.591935271727547\n",
            "\u001b[1m\u001b[92m5\u001b[0m\t \u001b[1m\u001b[92m[2.34362395 0.5179184 ]\u001b[0m\t \u001b[1m\u001b[92m0.7916988096078867\u001b[0m\t \u001b[1m\u001b[92m0.7916988096078867\u001b[0m\t \u001b[1m\u001b[92m2.497309672653386\u001b[0m\t \u001b[1m\u001b[92m2.8518392186356514\u001b[0m\n",
            "6  \t [ 0.16660095 -2.04057463]\t 9.786760411525764\t 0.7916988096078867\t 2.6966375606090436\t 3.4989197564992414\n",
            "7  \t [0.37403441 4.27266334]\t 1070.761334823747\t 0.7916988096078867\t 2.8338084112286737\t 3.3675377325189806\n",
            "8  \t [ 0.20173913 -4.5       ]\t 292.5005383623001\t 0.7916988096078867\t 2.9290376385298136\t 3.5802321196143327\n",
            "9  \t [ 3.74765268 -0.6617269 ]\t 27.248295349422857\t 0.7916988096078867\t 2.7654917723292196\t 3.160312075353646\n",
            "10 \t [1.34762774 2.42494628]\t 509.6153127998314\t 0.7916988096078867\t 3.08584646559481\t 3.280024171019719\n",
            "11 \t [ 1.17441615 -0.68449666]\t 4.025463300381871\t 0.7916988096078867\t 2.3976695954323244\t 2.941014241389899\n",
            "12 \t [4.5        1.10164117]\t 31.2943140277864\t 0.7916988096078867\t 2.9385366192526465\t 3.5552768131906096\n",
            "13 \t [ 1.77577217 -4.47198428]\t 26315.38660099209\t 0.7916988096078867\t 2.7030409571781893\t 3.2611849813130096\n",
            "14 \t [-1.32914253  4.24818313]\t 10018.138045541196\t 0.7916988096078867\t 3.126947494346376\t 3.3385996350868656\n",
            "15 \t [-1.22144137 -1.36789854]\t 69.31780765465511\t 0.7916988096078867\t 2.6213288944424074\t 3.1420791856291506\n",
            "16 \t [-0.70691376 -3.53539238]\t 1251.76741851516\t 0.7916988096078867\t 2.8379157876620886\t 3.3572751454936856\n",
            "17 \t [-2.16260619  1.49978153]\t 6.669931826303352\t 0.7916988096078867\t 3.135778433161285\t 3.372370209646678\n",
            "18 \t [1.85532493 4.36188288]\t 25278.94919633401\t 0.7916988096078867\t 3.0721448626092687\t 3.4695130266458434\n",
            "19 \t [3.3142299  2.47672813]\t 2878.4606328005166\t 0.7916988096078867\t 3.5749780642572313\t 3.544144313232275\n",
            "20 \t [0.70079191 0.84595746]\t 11.658588081650691\t 0.7916988096078867\t 2.9103135046015285\t 3.276182128226211\n"
          ]
        }
      ],
      "source": [
        "### EXACT STP EI GRADIENTS\n",
        "\n",
        "np.random.seed(run_num_1)\n",
        "surrogate_exact_1 = dtStudentProcess(cov_func, optimize=opt, nu = df)\n",
        "\n",
        "exact_1 = dGPGO(surrogate_exact_1, Acquisition_grad(util), objfunc, param)\n",
        "exact_1.run(init_evals=n_init, max_iter=iters)\n"
      ]
    },
    {
      "cell_type": "code",
      "execution_count": 35,
      "metadata": {
        "id": "-ilCPSAu9SAg",
        "colab": {
          "base_uri": "https://localhost:8080/"
        },
        "outputId": "c0c172e8-591b-44b3-afa6-105e2abf096b"
      },
      "outputs": [
        {
          "output_type": "stream",
          "name": "stdout",
          "text": [
            "Evaluation \t Proposed point \t  Current eval. \t  Best eval. \t        Exact EI: StdDev. x \t Approx EI: StdDev. x \n",
            "init\t [-0.57604588 -4.26666391]\t 2377.8441741808733\t 8.81624267140378\t    \t    \n",
            "init\t [ 0.4469623  -0.58209847]\t 8.81624267140378\t 8.81624267140378\t    \t    \n",
            "init\t [-0.71668978 -1.52698661]\t 47.3742628518178\t 8.81624267140378\t    \t    \n",
            "init\t [-2.65816229  1.0734387 ]\t 9.08861590265506\t 8.81624267140378\t    \t    \n",
            "init\t [-1.80310794 -2.09855452]\t 510.2220943696988\t 8.81624267140378\t    \t    \n",
            "1  \t [4.5 4.5]\t 174813.36328125\t 8.81624267140378\t 3.5407493401359926\t 3.9193328927918465\n",
            "2  \t [ 4.25619621 -3.48501406]\t 35822.693673744914\t 8.81624267140378\t 3.1510080097068576\t 4.124742437051462\n",
            "3  \t [-1.01038013  3.64982302]\t 2174.6891649000668\t 8.81624267140378\t 3.1649819988057994\t 3.9112275555532614\n",
            "4  \t [-4.5 -4.5]\t 181853.61328125\t 8.81624267140378\t 3.003737669737869\t 3.4190075235894444\n",
            "\u001b[1m\u001b[92m5\u001b[0m\t \u001b[1m\u001b[92m[3.25498141 0.34012501]\u001b[0m\t \u001b[1m\u001b[92m1.0665824287464973\u001b[0m\t \u001b[1m\u001b[92m1.0665824287464973\u001b[0m\t \u001b[1m\u001b[92m2.18102807907299\u001b[0m\t \u001b[1m\u001b[92m3.1038312804656485\u001b[0m\n",
            "6  \t [-3.87305469  3.91638207]\t 54081.01598611377\t 1.0665824287464973\t 2.60498242121422\t 3.5206985265249524\n",
            "7  \t [1.20890554 1.88748768]\t 126.33191117251306\t 1.0665824287464973\t 2.4247439141296723\t 2.676429675866199\n",
            "8  \t [ 1.36187434 -2.70796174]\t 795.4959814910172\t 1.0665824287464973\t 1.921501977440344\t 2.3245173544852356\n",
            "9  \t [0.94767819 4.5       ]\t 8193.229925943759\t 1.0665824287464973\t 2.2517947006859025\t 2.613434104458963\n",
            "10 \t [-3.69897489 -0.80235536]\t 147.2350776606968\t 1.0665824287464973\t 2.3967827838204014\t 2.514152531195533\n",
            "11 \t [-0.66232654  1.01734185]\t 13.882235623970443\t 1.0665824287464973\t 2.5056076653852375\t 2.397912006727723\n",
            "12 \t [ 2.49723697 -1.20366851]\t 45.25587193005168\t 1.0665824287464973\t 2.247773009758581\t 2.1999452164188598\n",
            "13 \t [-4.5         0.57989209]\t 77.95016307389292\t 1.0665824287464973\t 2.431958977488635\t 2.63563975611158\n",
            "14 \t [4.13140756 1.62711712]\t 364.14977541536314\t 1.0665824287464973\t 2.6496186531112382\t 2.7680420448732304\n",
            "15 \t [-2.24042526 -0.14389821]\t 59.99329483799427\t 1.0665824287464973\t 2.130562609100585\t 2.1013260671407625\n",
            "16 \t [ 1.4035254  -4.24189123]\t 11931.544534748113\t 1.0665824287464973\t 2.207945410118816\t 2.7972162618667142\n",
            "17 \t [-3.2039046  -2.39651035]\t 2813.621731302601\t 1.0665824287464973\t 2.38699817595257\t 2.6655846493213806\n",
            "18 \t [2.61054967 2.78738799]\t 3632.8553461159577\t 1.0665824287464973\t 2.668178165537075\t 2.541982213889555\n",
            "19 \t [1.75932539 0.2276807 ]\t 1.1443020255465366\t 1.0665824287464973\t 2.2240713071571028\t 2.4711069659795872\n",
            "20 \t [-1.94257075  2.54206189]\t 819.7764346697476\t 1.0665824287464973\t 2.4732136903009057\t 2.7083979897031027\n"
          ]
        }
      ],
      "source": [
        "### EXACT STP EI GRADIENTS\n",
        "\n",
        "np.random.seed(run_num_2)\n",
        "surrogate_exact_2 = dtStudentProcess(cov_func, optimize=opt, nu = df)\n",
        "\n",
        "exact_2 = dGPGO(surrogate_exact_2, Acquisition_grad(util), objfunc, param)\n",
        "exact_2.run(init_evals=n_init, max_iter=iters)\n"
      ]
    },
    {
      "cell_type": "code",
      "execution_count": 36,
      "metadata": {
        "id": "XieJ158mIvlP",
        "colab": {
          "base_uri": "https://localhost:8080/"
        },
        "outputId": "b7692c7b-665a-4305-b555-b26685bfbe2a"
      },
      "outputs": [
        {
          "output_type": "stream",
          "name": "stdout",
          "text": [
            "Evaluation \t Proposed point \t  Current eval. \t  Best eval. \t        Exact EI: StdDev. x \t Approx EI: StdDev. x \n",
            "init\t [0.45718112 1.8733304 ]\t 41.912714742005974\t 41.912714742005974\t    \t    \n",
            "init\t [-1.88185735  0.09744845]\t 47.451188393399434\t 41.912714742005974\t    \t    \n",
            "init\t [3.53652259 3.5666378 ]\t 27475.816689924115\t 41.912714742005974\t    \t    \n",
            "init\t [-3.36973221 -2.6348141 ]\t 5079.048973002421\t 41.912714742005974\t    \t    \n",
            "init\t [-4.03679517 -0.53271141]\t 138.4086524103332\t 41.912714742005974\t    \t    \n",
            "1  \t [ 2.52283288 -1.74272821]\t 259.55509339560894\t 41.912714742005974\t 3.0806288044778567\t 2.815944078874167\n",
            "2  \t [-3.92590132  2.50335198]\t 3388.148767845736\t 41.912714742005974\t 3.016910191133809\t 4.111807600685231\n",
            "3  \t [-0.78857026  3.75085833]\t 1524.5643974893171\t 41.912714742005974\t 2.726795394206328\t 3.769399353217269\n",
            "4  \t [ 0.34913392 -3.81990236]\t 344.27143405853224\t 41.912714742005974\t 2.5836228862622543\t 3.9026052325489973\n",
            "5  \t [ 2.9558873  -4.12137429]\t 45591.66521870441\t 41.912714742005974\t 3.351430841435297\t 3.772214938623412\n",
            "\u001b[1m\u001b[92m6\u001b[0m\t \u001b[1m\u001b[92m[ 0.18414475 -1.02275688]\u001b[0m\t \u001b[1m\u001b[92m11.406882546409602\u001b[0m\t \u001b[1m\u001b[92m11.406882546409602\u001b[0m\t \u001b[1m\u001b[92m3.517043712836162\u001b[0m\t \u001b[1m\u001b[92m3.44214064805025\u001b[0m\n",
            "7  \t [ 3.85658111 -0.15876849]\t 12.647511978027758\t 11.406882546409602\t 3.1374024981862023\t 3.756853897895796\n",
            "\u001b[1m\u001b[92m8\u001b[0m\t \u001b[1m\u001b[92m[1.72712565 0.34516579]\u001b[0m\t \u001b[1m\u001b[92m1.605860468042483\u001b[0m\t \u001b[1m\u001b[92m1.605860468042483\u001b[0m\t \u001b[1m\u001b[92m3.3227859042996064\u001b[0m\t \u001b[1m\u001b[92m3.6016493395022215\u001b[0m\n",
            "9  \t [-4.5 -4.5]\t 181853.61328125\t 1.605860468042483\t 3.6193505457586355\t 3.594512634845165\n",
            "10 \t [-1.25706069 -2.47037155]\t 573.0816307889994\t 1.605860468042483\t 2.7393947762925275\t 3.2677576140862237\n",
            "11 \t [-1.99804027  2.34213067]\t 489.45574895126686\t 1.605860468042483\t 2.626190939080333\t 3.274577085402436\n",
            "12 \t [0.95355394 4.5       ]\t 8291.595162024814\t 1.605860468042483\t 2.735086846877785\t 3.2266182365153853\n",
            "13 \t [-2.70450997 -1.1789811 ]\t 151.37514073723102\t 1.605860468042483\t 2.8869397312634475\t 3.5249739068644614\n",
            "14 \t [-1.31109525 -4.26268529]\t 11608.632327774576\t 1.605860468042483\t 2.24808247301936\t 3.29292845728822\n",
            "15 \t [-2.75377948  4.21520965]\t 42331.380093726235\t 1.605860468042483\t 2.3831780674176546\t 3.280155803373037\n",
            "16 \t [2.90507015 1.38448905]\t 86.18615289418747\t 1.605860468042483\t 2.350135956033264\t 2.965280201904778\n",
            "17 \t [-0.45777358  0.67718444]\t 17.601632803554228\t 1.605860468042483\t 2.624111734581095\t 3.064233096652037\n",
            "18 \t [ 4.24820087 -2.3573789 ]\t 3910.515172168267\t 1.605860468042483\t 2.8662170902998603\t 3.708932774355064\n",
            "19 \t [-2.88565957  1.00474662]\t 13.824357949452299\t 1.605860468042483\t 2.819859552010102\t 3.823175491571653\n",
            "20 \t [4.26275153 1.68297706]\t 469.7141506628333\t 1.605860468042483\t 2.924471709231043\t 3.6124402830158124\n"
          ]
        }
      ],
      "source": [
        "### EXACT STP EI GRADIENTS\n",
        "\n",
        "np.random.seed(run_num_3)\n",
        "surrogate_exact_3 = dtStudentProcess(cov_func, optimize=opt, nu = df)\n",
        "\n",
        "exact_3 = dGPGO(surrogate_exact_3, Acquisition_grad(util), objfunc, param)\n",
        "exact_3.run(init_evals=n_init, max_iter=iters)\n"
      ]
    },
    {
      "cell_type": "code",
      "execution_count": 37,
      "metadata": {
        "id": "PhLBVOIfIvol",
        "colab": {
          "base_uri": "https://localhost:8080/"
        },
        "outputId": "5f54d80f-0094-45fc-82f0-c63d41c74f29"
      },
      "outputs": [
        {
          "output_type": "stream",
          "name": "stdout",
          "text": [
            "Evaluation \t Proposed point \t  Current eval. \t  Best eval. \t        Exact EI: StdDev. x \t Approx EI: StdDev. x \n",
            "init\t [4.20326855 0.42509024]\t 3.8409856613776237\t 3.8409856613776237\t    \t    \n",
            "init\t [4.25415924 1.93334394]\t 1070.6518137934977\t 3.8409856613776237\t    \t    \n",
            "init\t [ 1.77955942 -2.55519454]\t 1001.3529311398922\t 3.8409856613776237\t    \t    \n",
            "init\t [ 4.28647009 -4.4439277 ]\t 150069.47442764963\t 3.8409856613776237\t    \t    \n",
            "init\t [-2.22315874 -0.58687621]\t 67.08861688517413\t 3.8409856613776237\t    \t    \n",
            "1  \t [-0.70672386  3.8976077 ]\t 1544.0951252541086\t 3.8409856613776237\t 3.432981558400771\t 4.038649852519747\n",
            "2  \t [-4.5 -4.5]\t 181853.61328125\t 3.8409856613776237\t 4.280739931756749\t 3.478649772371184\n",
            "3  \t [0.88086456 0.6039407 ]\t 7.939154513868287\t 3.8409856613776237\t 2.8405904402058444\t 3.922943169656831\n",
            "4  \t [4.5 4.5]\t 174813.36328125\t 3.8409856613776237\t 2.7390075819476554\t 4.085618158712691\n",
            "5  \t [-4.5        1.9595647]\t 833.5906813515462\t 3.8409856613776237\t 2.200234647329849\t 3.5104468426510693\n",
            "6  \t [-0.3446423  -4.33120663]\t 985.3872073284508\t 3.8409856613776237\t 2.350699292363125\t 2.8497058821097254\n",
            "7  \t [-1.7359528   1.70548325]\t 19.27394724806911\t 3.8409856613776237\t 1.990586117827062\t 3.1222154479604516\n",
            "8  \t [-0.35016991 -1.89025643]\t 36.64830731750817\t 3.8409856613776237\t 2.052143406451351\t 3.133518472193988\n",
            "9  \t [-4.5        -0.54323229]\t 162.27472036645597\t 3.8409856613776237\t 2.465653863194362\t 3.0171739826172366\n",
            "10 \t [-3.13147048  3.71820062]\t 25577.874496114746\t 3.8409856613776237\t 2.2667956181618876\t 2.8902637967300966\n",
            "11 \t [1.61440535 2.50875978]\t 834.3974009591984\t 3.8409856613776237\t 2.435028051780397\t 2.6296127297687097\n",
            "12 \t [ 2.66069302 -0.53745926]\t 7.041237282465029\t 3.8409856613776237\t 2.521082207218836\t 3.015201714513318\n",
            "13 \t [1.11434784 4.36630411]\t 9415.487019977472\t 3.8409856613776237\t 2.3675839326742794\t 2.7175431424780285\n",
            "14 \t [-2.10712314 -2.39376514]\t 1265.6761203750173\t 3.8409856613776237\t 2.0792459010959665\t 3.0767736114160122\n",
            "15 \t [ 4.28675378 -1.33371664]\t 243.54023917910456\t 3.8409856613776237\t 2.0245404660851483\t 3.4123730591679924\n",
            "16 \t [-0.44823265 -0.24868868]\t 20.86118702394205\t 3.8409856613776237\t 2.2838570122907798\t 2.632272045506362\n",
            "17 \t [-3.88582997 -2.13412541]\t 2281.5553941131966\t 3.8409856613776237\t 2.254009186829068\t 2.652620326727214\n",
            "18 \t [2.53798623 1.28686568]\t 50.49363474402777\t 3.8409856613776237\t 2.2347188577766683\t 2.9751552293752797\n",
            "19 \t [-0.0102505   1.96511595]\t 13.69239507205939\t 3.8409856613776237\t 2.4788121990111267\t 2.98427275403197\n",
            "20 \t [ 1.18298927 -3.99115761]\t 5857.620850016359\t 3.8409856613776237\t 2.2620191601071413\t 3.702998196082771\n"
          ]
        }
      ],
      "source": [
        "### EXACT STP EI GRADIENTS\n",
        "\n",
        "np.random.seed(run_num_4)\n",
        "surrogate_exact_4 = dtStudentProcess(cov_func, optimize=opt, nu = df)\n",
        "\n",
        "exact_4 = dGPGO(surrogate_exact_4, Acquisition_grad(util), objfunc, param)\n",
        "exact_4.run(init_evals=n_init, max_iter=iters)\n"
      ]
    },
    {
      "cell_type": "code",
      "execution_count": 38,
      "metadata": {
        "id": "arbiPyj2IvsJ",
        "colab": {
          "base_uri": "https://localhost:8080/"
        },
        "outputId": "d15c45d0-685b-4002-bd8c-588284c5e282"
      },
      "outputs": [
        {
          "output_type": "stream",
          "name": "stdout",
          "text": [
            "Evaluation \t Proposed point \t  Current eval. \t  Best eval. \t        Exact EI: StdDev. x \t Approx EI: StdDev. x \n",
            "init\t [-2.50206146  3.33659076]\t 8263.905568073349\t 0.311397019260738\t    \t    \n",
            "init\t [-2.6395276   3.76749817]\t 19560.15202528338\t 0.311397019260738\t    \t    \n",
            "init\t [-0.1042993   1.00569477]\t 14.186578993925806\t 0.311397019260738\t    \t    \n",
            "init\t [2.39317071 0.16576189]\t 0.311397019260738\t 0.311397019260738\t    \t    \n",
            "init\t [-1.82879549 -2.81050894]\t 2208.9823086257425\t 0.311397019260738\t    \t    \n",
            "1  \t [4.5 4.5]\t 174813.36222476623\t 0.311397019260738\t 3.8459484662966297\t 4.206652369360936\n",
            "2  \t [ 3.93357159 -3.55305729]\t 34164.92095741094\t 0.311397019260738\t 3.513483798174317\t 3.846870025353718\n",
            "3  \t [-4.5 -4.5]\t 181853.61328125\t 0.311397019260738\t 3.4648529653305555\t 3.7288893711057116\n",
            "4  \t [-3.92632033 -0.04377087]\t 112.31778622350961\t 0.311397019260738\t 2.281806520992422\t 3.263961180853925\n",
            "5  \t [0.82442373 3.37944029]\t 1259.7779873730801\t 0.311397019260738\t 2.1775802845802024\t 2.832937237066602\n",
            "6  \t [ 0.3801762  -4.32498627]\t 893.8618066304975\t 0.311397019260738\t 2.4765611593747945\t 2.77768764999375\n",
            "7  \t [4.5       0.4208384]\t 5.705406875806743\t 0.311397019260738\t 1.849660214733172\t 2.806801495659081\n",
            "8  \t [ 0.63358422 -1.56409734]\t 10.22914553397768\t 0.311397019260738\t 2.5863038936021923\t 3.283441108714185\n",
            "9  \t [-2.29791401  0.77551285]\t 28.917922068903586\t 0.311397019260738\t 2.4714260211289427\t 3.044221354555801\n",
            "10 \t [-1.88295089 -0.9119295 ]\t 67.83580550666822\t 0.311397019260738\t 2.4177181842620388\t 2.986387260715312\n",
            "11 \t [2.37851993 1.95215043]\t 415.91181973683695\t 0.311397019260738\t 2.2171171160872314\t 3.0247535078218353\n",
            "12 \t [ 3.70708556 -1.09522102]\t 83.64355070159502\t 0.311397019260738\t 2.1605728973289526\t 2.644425828192461\n",
            "13 \t [-1.32503344 -4.5       ]\t 16166.626689074228\t 0.311397019260738\t 2.6347678063025284\t 3.406219077553421\n",
            "14 \t [-4.05924317  1.77142721]\t 296.1516944049386\t 0.311397019260738\t 1.953492840828895\t 2.9582633656040587\n",
            "15 \t [ 1.906121   -1.12898884]\t 18.332860586955878\t 0.311397019260738\t 2.3760544379255575\t 3.312785734158498\n",
            "16 \t [ 1.45736922 -3.14534063]\t 2204.025491341696\t 0.311397019260738\t 2.4280082434135153\t 3.556742319181605\n",
            "17 \t [-3.98677396 -1.4669545 ]\t 502.5107594399198\t 0.311397019260738\t 2.043384966256742\t 2.9615609512874026\n",
            "18 \t [-3.47667639  1.71964359]\t 155.8021273903642\t 0.311397019260738\t 2.621165292914871\t 2.6812756616288844\n",
            "19 \t [-0.98436591  2.53909011]\t 166.03796551932007\t 0.311397019260738\t 2.1684999120863435\t 2.899448382900031\n",
            "20 \t [2.39808766 4.49769673]\t 50142.90004589183\t 0.311397019260738\t 2.647541939108545\t 3.4882381396928683\n"
          ]
        }
      ],
      "source": [
        "### EXACT STP EI GRADIENTS\n",
        "\n",
        "np.random.seed(run_num_5)\n",
        "surrogate_exact_5 = dtStudentProcess(cov_func, optimize=opt, nu = df)\n",
        "\n",
        "exact_5 = dGPGO(surrogate_exact_5, Acquisition_grad(util), objfunc, param)\n",
        "exact_5.run(init_evals=n_init, max_iter=iters)\n"
      ]
    },
    {
      "cell_type": "code",
      "execution_count": 39,
      "metadata": {
        "id": "04KJCEm_Ivvf",
        "colab": {
          "base_uri": "https://localhost:8080/"
        },
        "outputId": "396e5df9-bfda-400b-b6ab-bb2f46f743f4"
      },
      "outputs": [
        {
          "output_type": "stream",
          "name": "stdout",
          "text": [
            "Evaluation \t Proposed point \t  Current eval. \t  Best eval. \t        Exact EI: StdDev. x \t Approx EI: StdDev. x \n",
            "init\t [ 3.53574136 -1.51218175]\t 273.3122030790333\t 10.038000709758428\t    \t    \n",
            "init\t [ 2.89106211 -4.12473037]\t 43803.250406689425\t 10.038000709758428\t    \t    \n",
            "init\t [-3.53108988  0.85546858]\t 29.828433746298536\t 10.038000709758428\t    \t    \n",
            "init\t [ 0.26835626 -0.73073314]\t 10.658925295067505\t 10.038000709758428\t    \t    \n",
            "init\t [-1.48132936  1.10267489]\t 10.038000709758428\t 10.038000709758428\t    \t    \n",
            "1  \t [2.4432024  1.18640255]\t 32.52098304209416\t 10.038000709758428\t 3.6573389797130966\t 4.061812094727508\n",
            "2  \t [-4.5 -4.5]\t 181853.61328125\t 10.038000709758428\t 4.4910776347486845\t 4.124990918898485\n",
            "3  \t [4.5 4.5]\t 174813.36289555402\t 10.038000709758428\t 3.268018039412339\t 3.203166999814035\n",
            "4  \t [-1.87233483  4.5       ]\t 28763.04459752731\t 10.038000709758428\t 2.565471720684557\t 4.007129282451611\n",
            "5  \t [-0.76014594 -3.02898103]\t 637.2538523686267\t 10.038000709758428\t 2.1229651982918476\t 2.76607028645748\n",
            "6  \t [-2.36453635 -1.21560563]\t 131.98911532276693\t 10.038000709758428\t 2.4724215170925556\t 3.005423955072894\n",
            "7  \t [0.92803821 2.98485638]\t 798.8581583379193\t 10.038000709758428\t 2.7638597871037764\t 2.925003281755766\n",
            "\u001b[1m\u001b[92m8\u001b[0m\t \u001b[1m\u001b[92m[4.5        0.68651705]\u001b[0m\t \u001b[1m\u001b[92m0.20019899498423308\u001b[0m\t \u001b[1m\u001b[92m0.20019899498423308\u001b[0m\t \u001b[1m\u001b[92m1.986616741888974\u001b[0m\t \u001b[1m\u001b[92m3.0012269733870576\u001b[0m\n",
            "9  \t [ 1.94576109 -0.46450046]\t 2.580074786252822\t 0.20019899498423308\t 2.4838209281312706\t 3.3125517312547776\n",
            "10 \t [-4.01525201 -1.12419583]\t 254.40203212971403\t 0.20019899498423308\t 2.2170252468977525\t 3.132446255030879\n",
            "11 \t [-3.63666037  2.61321287]\t 3816.2286863161503\t 0.20019899498423308\t 2.6320515525243797\t 3.5407479056351714\n",
            "12 \t [0.20400924 1.39547444]\t 17.321000344384206\t 0.20019899498423308\t 2.4303879059839852\t 3.1018879456482926\n",
            "13 \t [ 1.02246491 -2.10696306]\t 99.4424774221931\t 0.20019899498423308\t 2.4648269268628926\t 3.250299861865313\n",
            "14 \t [-0.95018234 -1.44887794]\t 57.89725158180079\t 0.20019899498423308\t 2.6342815743327272\t 3.299845919898588\n",
            "15 \t [ 0.1666327  -3.92243551]\t 79.78243135576625\t 0.20019899498423308\t 2.531771882653676\t 3.6221038833386006\n",
            "16 \t [ 4.5        -0.75184778]\t 55.17817702853594\t 0.20019899498423308\t 2.587160938332884\t 3.6550634605311503\n",
            "17 \t [-1.91853512 -4.5       ]\t 33521.690918381195\t 0.20019899498423308\t 2.8510513663097425\t 3.3534031055564446\n",
            "18 \t [3.70416118 2.18967259]\t 1730.3652969729442\t 0.20019899498423308\t 2.696344594577058\t 3.64762644230268\n",
            "19 \t [-4.01581284  4.27123595]\t 98431.2496746598\t 0.20019899498423308\t 2.6194279336598028\t 3.362722025998898\n",
            "20 \t [2.59588243 3.76192085]\t 20507.291172510086\t 0.20019899498423308\t 2.4940161852177085\t 2.8507687380238336\n"
          ]
        }
      ],
      "source": [
        "### EXACT STP EI GRADIENTS\n",
        "\n",
        "np.random.seed(run_num_6)\n",
        "surrogate_exact_6 = dtStudentProcess(cov_func, optimize=opt, nu = df)\n",
        "\n",
        "exact_6 = dGPGO(surrogate_exact_6, Acquisition_grad(util), objfunc, param)\n",
        "exact_6.run(init_evals=n_init, max_iter=iters)\n"
      ]
    },
    {
      "cell_type": "code",
      "execution_count": 40,
      "metadata": {
        "id": "tAOkme3CIvyO",
        "colab": {
          "base_uri": "https://localhost:8080/"
        },
        "outputId": "142b145d-74e3-4bea-c9c2-c59a23bf4d15"
      },
      "outputs": [
        {
          "output_type": "stream",
          "name": "stdout",
          "text": [
            "Evaluation \t Proposed point \t  Current eval. \t  Best eval. \t        Exact EI: StdDev. x \t Approx EI: StdDev. x \n",
            "init\t [-3.8132254   2.51926913]\t 3321.1422834954587\t 2.9676923934097053\t    \t    \n",
            "init\t [-0.55431692  2.0111866 ]\t 2.9676923934097053\t 2.9676923934097053\t    \t    \n",
            "init\t [4.30190561 0.34646283]\t 6.32173172477085\t 2.9676923934097053\t    \t    \n",
            "init\t [ 0.01008417 -3.8515398 ]\t 11.971894461559128\t 2.9676923934097053\t    \t    \n",
            "init\t [-2.08404918e+00 -1.05749257e-03]\t 53.820317186435204\t 2.9676923934097053\t    \t    \n",
            "1  \t [1.76544417 4.09921491]\t 15955.526944430718\t 2.9676923934097053\t 3.4164629056111795\t 3.8343924772617455\n",
            "2  \t [-4.5 -4.5]\t 181853.61328125\t 2.9676923934097053\t 4.26324637814764\t 3.8933969816939755\n",
            "3  \t [ 3.35364465 -4.28487276]\t 73913.20831044044\t 2.9676923934097053\t 2.888261307960756\t 3.986820210618509\n",
            "4  \t [-3.5381093  -1.17462676]\t 226.89781537510947\t 2.9676923934097053\t 2.67741838489719\t 2.6774412239379877\n",
            "5  \t [ 1.12565709 -0.45166542]\t 3.7990026312662373\t 2.9676923934097053\t 2.422793429231366\t 3.3183309345086887\n",
            "6  \t [4.5 4.5]\t 174813.36328125\t 2.9676923934097053\t 2.8432053894817675\t 3.8336122557152836\n",
            "7  \t [-1.25378003  4.40922721]\t 11175.55416411969\t 2.9676923934097053\t 2.237338762690016\t 3.1841523060926216\n",
            "8  \t [-1.26043594 -1.9726532 ]\t 213.37233315220158\t 2.9676923934097053\t 2.448021643884249\t 3.1248334510154923\n",
            "9  \t [1.52001863 1.62817936]\t 87.44305945721226\t 2.9676923934097053\t 2.31489215483222\t 3.113739519700775\n",
            "10 \t [-4.41231747  4.33061417]\t 129388.5327537275\t 2.9676923934097053\t 2.333046105852852\t 2.914143341187956\n",
            "11 \t [ 4.21352153 -1.42561863]\t 309.9575640262917\t 2.9676923934097053\t 1.9794219288722528\t 2.304488720184493\n",
            "12 \t [-3.1506925   1.10298642]\t 6.2352106973522226\t 2.9676923934097053\t 2.3929624458726457\t 2.5997020476576385\n",
            "13 \t [ 2.07026761 -1.69163956]\t 143.47184704937274\t 2.9676923934097053\t 2.4963229436664465\t 2.337851189455965\n",
            "14 \t [-0.40083719  0.16637715]\t 19.476852638394313\t 2.9676923934097053\t 2.1143124438357175\t 2.2601067255896603\n",
            "15 \t [ 0.39246946 -2.10299967]\t 15.00114933621184\t 2.9676923934097053\t 2.7446146810130005\t 2.881307282877257\n",
            "16 \t [-2.32377323 -3.25745292]\t 7804.072064859736\t 2.9676923934097053\t 2.265494428571072\t 2.491924217160004\n",
            "17 \t [-4.25375171 -0.03900947]\t 124.57803838671829\t 2.9676923934097053\t 2.1454527483559627\t 2.311859333181647\n",
            "\u001b[1m\u001b[92m18\u001b[0m\t \u001b[1m\u001b[92m[2.6891879  0.34054668]\u001b[0m\t \u001b[1m\u001b[92m0.09271947905483087\u001b[0m\t \u001b[1m\u001b[92m0.09271947905483087\u001b[0m\t \u001b[1m\u001b[92m2.767196234754528\u001b[0m\t \u001b[1m\u001b[92m2.476125312376613\u001b[0m\n",
            "19 \t [3.06222069 2.25662019]\t 1454.8124042855786\t 0.09271947905483087\t 2.7201297691685586\t 3.1132749260996215\n",
            "20 \t [0.69281443 2.44486943]\t 184.09644198965606\t 0.09271947905483087\t 2.3181905612831124\t 2.473259271838383\n"
          ]
        }
      ],
      "source": [
        "### EXACT STP EI GRADIENTS\n",
        "\n",
        "np.random.seed(run_num_7)\n",
        "surrogate_exact_7 = dtStudentProcess(cov_func, optimize=opt, nu = df)\n",
        "\n",
        "exact_7 = dGPGO(surrogate_exact_7, Acquisition_grad(util), objfunc, param)\n",
        "exact_7.run(init_evals=n_init, max_iter=iters)\n"
      ]
    },
    {
      "cell_type": "code",
      "execution_count": 41,
      "metadata": {
        "id": "69-J3EF4Iv1S",
        "colab": {
          "base_uri": "https://localhost:8080/"
        },
        "outputId": "4ce4238e-abeb-4e82-bafa-4ae64ddb4d76"
      },
      "outputs": [
        {
          "output_type": "stream",
          "name": "stdout",
          "text": [
            "Evaluation \t Proposed point \t  Current eval. \t  Best eval. \t        Exact EI: StdDev. x \t Approx EI: StdDev. x \n",
            "init\t [3.36086463 4.21686597]\t 66731.07602386779\t 1.8693348557707412\t    \t    \n",
            "init\t [3.32275086 0.27770122]\t 1.8693348557707412\t 1.8693348557707412\t    \t    \n",
            "init\t [-2.40544505 -4.39741076]\t 45883.361726150484\t 1.8693348557707412\t    \t    \n",
            "init\t [-0.62578064 -0.87883776]\t 26.39306084619828\t 1.8693348557707412\t    \t    \n",
            "init\t [ 0.20407204 -0.19447384]\t 11.649230998110728\t 1.8693348557707412\t    \t    \n",
            "1  \t [ 4.36274493 -4.24141156]\t 118259.86438097828\t 1.8693348557707412\t 2.8494895118606345\t 4.101435449277635\n",
            "2  \t [-4.42522463  2.59724938]\t 5535.695209202853\t 1.8693348557707412\t 2.9673926986605603\t 3.940868693662758\n",
            "3  \t [-1.03740804  4.30584897]\t 6523.65893093321\t 1.8693348557707412\t 2.854908308537745\t 3.675203657500398\n",
            "4  \t [-2.89325643 -0.6581756 ]\t 95.02616112954877\t 1.8693348557707412\t 3.3323557914810973\t 3.869072249009783\n",
            "5  \t [-1.80646106  1.70081397]\t 21.281642944696756\t 1.8693348557707412\t 2.9886786956257176\t 3.3075018345196643\n",
            "6  \t [ 1.82102167 -1.70087607]\t 110.67187904912174\t 1.8693348557707412\t 3.2971338165942687\t 3.335193189277447\n",
            "7  \t [0.94015545 1.76814729]\t 70.35303888243953\t 1.8693348557707412\t 2.9365301200277583\t 3.3197857371200774\n",
            "8  \t [-4.28670272 -2.11216566]\t 2616.439216898195\t 1.8693348557707412\t 3.3877466027968226\t 3.7798972660626555\n",
            "9  \t [ 0.83052787 -4.17138932]\t 3680.6352944648133\t 1.8693348557707412\t 2.9512106279942527\t 3.2556965620078744\n",
            "10 \t [-4.5        -0.15973572]\t 140.19535257775624\t 1.8693348557707412\t 3.323455900638838\t 3.7563831830264345\n",
            "11 \t [-0.28526947 -2.32723875]\t 49.30601888514542\t 1.8693348557707412\t 3.3743729870014856\t 3.5119694587761363\n",
            "12 \t [ 3.90895659 -1.07517579]\t 89.62340707374867\t 1.8693348557707412\t 2.777434482087032\t 3.600096081675851\n",
            "13 \t [1.72834321 0.43820055]\t 2.094319187861908\t 1.8693348557707412\t 3.5610842796045534\t 3.712492043144614\n",
            "14 \t [-3.38793184  4.43137791]\t 87217.47125131695\t 1.8693348557707412\t 3.0377035631321188\t 3.6765800269697313\n",
            "15 \t [-3.07156666  0.86236258]\t 26.810967778685455\t 1.8693348557707412\t 3.146637200332625\t 2.544120119397801\n",
            "16 \t [4.2845035  1.70093299]\t 504.963277666441\t 1.8693348557707412\t 3.120701593101228\t 2.981610287785259\n",
            "17 \t [0.58951146 3.38499994]\t 699.2876438373914\t 1.8693348557707412\t 3.7340620267099793\t 2.8204619182639066\n",
            "18 \t [-1.53248221  0.31432207]\t 36.58244498421513\t 1.8693348557707412\t 3.6259222050323427\t 2.918135447240194\n",
            "19 \t [-1.7792636  -1.93934147]\t 354.51893181138524\t 1.8693348557707412\t 2.957716840257372\t 2.456580305408019\n",
            "20 \t [-4.5 -4.5]\t 181853.61328125\t 1.8693348557707412\t 2.943760840206056\t 2.975964230519626\n"
          ]
        }
      ],
      "source": [
        "### EXACT STP EI GRADIENTS\n",
        "\n",
        "np.random.seed(run_num_8)\n",
        "surrogate_exact_8 = dtStudentProcess(cov_func, optimize=opt, nu = df)\n",
        "\n",
        "exact_8 = dGPGO(surrogate_exact_8, Acquisition_grad(util), objfunc, param)\n",
        "exact_8.run(init_evals=n_init, max_iter=iters)\n"
      ]
    },
    {
      "cell_type": "code",
      "execution_count": 42,
      "metadata": {
        "id": "vonm9jyuIv4t",
        "colab": {
          "base_uri": "https://localhost:8080/"
        },
        "outputId": "9f8afac5-fee8-4c90-f234-c7646c7afaa9"
      },
      "outputs": [
        {
          "output_type": "stream",
          "name": "stdout",
          "text": [
            "Evaluation \t Proposed point \t  Current eval. \t  Best eval. \t        Exact EI: StdDev. x \t Approx EI: StdDev. x \n",
            "init\t [-4.40663262  0.01687133]\t 127.7531900635415\t 22.479204656276803\t    \t    \n",
            "init\t [-0.03804036 -3.29553424]\t 22.479204656276803\t 22.479204656276803\t    \t    \n",
            "init\t [-3.22100023 -2.53297192]\t 3783.0538402600087\t 22.479204656276803\t    \t    \n",
            "init\t [-0.73342638 -2.26708948]\t 157.51337782244087\t 22.479204656276803\t    \t    \n",
            "init\t [-3.74346314 -1.39051224]\t 380.7730677650304\t 22.479204656276803\t    \t    \n",
            "1  \t [2.73365793 4.35023323]\t 53339.37070055468\t 22.479204656276803\t 2.652858054295598\t 2.690393160924442\n",
            "2  \t [-2.32657908  3.20298971]\t 5497.529328704222\t 22.479204656276803\t 2.587956617176783\t 3.8852890578241173\n",
            "3  \t [ 3.47248444 -3.77789856]\t 37940.058995332554\t 22.479204656276803\t 2.938706710903563\t 4.098594063739516\n",
            "\u001b[1m\u001b[92m4\u001b[0m\t \u001b[1m\u001b[92m[0.6160516  0.36051942]\u001b[0m\t \u001b[1m\u001b[92m8.313893861305488\u001b[0m\t \u001b[1m\u001b[92m8.313893861305488\u001b[0m\t \u001b[1m\u001b[92m3.687490730231018\u001b[0m\t \u001b[1m\u001b[92m3.8236061518534163\u001b[0m\n",
            "\u001b[1m\u001b[92m5\u001b[0m\t \u001b[1m\u001b[92m[4.36107394 0.39367648]\u001b[0m\t \u001b[1m\u001b[92m5.529895258666361\u001b[0m\t \u001b[1m\u001b[92m5.529895258666361\u001b[0m\t \u001b[1m\u001b[92m3.1774015062111274\u001b[0m\t \u001b[1m\u001b[92m3.3992816634957514\u001b[0m\n",
            "\u001b[1m\u001b[92m6\u001b[0m\t \u001b[1m\u001b[92m[ 2.44498465 -0.4264636 ]\u001b[0m\t \u001b[1m\u001b[92m4.01331471822414\u001b[0m\t \u001b[1m\u001b[92m4.01331471822414\u001b[0m\t \u001b[1m\u001b[92m2.963966594739441\u001b[0m\t \u001b[1m\u001b[92m3.5664073955406757\u001b[0m\n",
            "7  \t [-2.16884286  0.53211996]\t 40.75463248151003\t 4.01331471822414\t 3.531234984280313\t 3.4213371885416466\n",
            "8  \t [-4.5 -4.5]\t 181853.61328125\t 4.01331471822414\t 3.0910978828881785\t 3.319473476992232\n",
            "9  \t [0.04640187 2.35617149]\t 18.647998574474055\t 4.01331471822414\t 2.7043608325353135\t 3.4229368790510666\n",
            "10 \t [2.03328345 1.59195658]\t 113.49673051393737\t 4.01331471822414\t 2.917253651631694\t 3.286267935909978\n",
            "11 \t [-3.7384272   1.48996201]\t 41.47580496693912\t 4.01331471822414\t 2.7127250407985057\t 3.3874909742171386\n",
            "12 \t [-1.80488012 -1.14265256]\t 82.42290277586622\t 4.01331471822414\t 2.6107831069226415\t 3.141989221199975\n",
            "13 \t [-0.3083324   4.25397713]\t 442.1195944607037\t 4.01331471822414\t 2.4858821282732544\t 2.798969225731325\n",
            "14 \t [ 0.98861372 -1.55821073]\t 18.89391106847355\t 4.01331471822414\t 2.3283308124774984\t 3.0589496338807134\n",
            "15 \t [4.17193032 2.44106894]\t 4079.817524158433\t 4.01331471822414\t 2.415467751871488\t 3.013315271930225\n",
            "16 \t [-1.42273061 -3.97140955]\t 9105.205051562612\t 4.01331471822414\t 3.0127323029348942\t 3.4149399402201954\n",
            "17 \t [-0.38750213 -0.70725279]\t 20.5638027413196\t 4.01331471822414\t 2.562078358700639\t 3.6199234907115576\n",
            "18 \t [-1.06110941  1.83629046]\t 8.76500311316535\t 4.01331471822414\t 2.378077652194203\t 3.259632626031562\n",
            "19 \t [-4.38750652  3.85577638]\t 63333.09832260292\t 4.01331471822414\t 3.123382322595468\t 3.561824288569176\n",
            "20 \t [ 0.95706897 -4.5       ]\t 7759.5069616244355\t 4.01331471822414\t 2.7063785839110794\t 3.045739295010339\n"
          ]
        }
      ],
      "source": [
        "### EXACT STP EI GRADIENTS\n",
        "\n",
        "np.random.seed(run_num_9)\n",
        "surrogate_exact_9 = dtStudentProcess(cov_func, optimize=opt, nu = df)\n",
        "\n",
        "exact_9 = dGPGO(surrogate_exact_9, Acquisition_grad(util), objfunc, param)\n",
        "exact_9.run(init_evals=n_init, max_iter=iters)\n"
      ]
    },
    {
      "cell_type": "code",
      "execution_count": 43,
      "metadata": {
        "id": "6amuYlUdIv7r",
        "colab": {
          "base_uri": "https://localhost:8080/"
        },
        "outputId": "6d47d986-aee2-4ebd-ac2a-11270b68f484"
      },
      "outputs": [
        {
          "output_type": "stream",
          "name": "stdout",
          "text": [
            "Evaluation \t Proposed point \t  Current eval. \t  Best eval. \t        Exact EI: StdDev. x \t Approx EI: StdDev. x \n",
            "init\t [ 2.44188579 -4.31323246]\t 40500.708995062356\t 15.229523981513257\t    \t    \n",
            "init\t [1.20283411 2.23923494]\t 281.8768699287936\t 15.229523981513257\t    \t    \n",
            "init\t [-0.01343689 -2.47683019]\t 15.229523981513257\t 15.229523981513257\t    \t    \n",
            "init\t [-2.71743422  2.34477641]\t 985.5637470908332\t 15.229523981513257\t    \t    \n",
            "init\t [-2.97800247 -3.70494167]\t 26177.1461164703\t 15.229523981513257\t    \t    \n",
            "1  \t [4.5 4.5]\t 174813.36323297137\t 15.229523981513257\t 2.900135426611351\t 3.6318190562416097\n",
            "2  \t [ 4.29372653 -0.53303558]\t 31.887545894809897\t 15.229523981513257\t 2.3509133080724776\t 3.323160211855672\n",
            "\u001b[1m\u001b[92m3\u001b[0m\t \u001b[1m\u001b[92m[ 1.60916926 -0.50531231]\u001b[0m\t \u001b[1m\u001b[92m2.6099450906399166\u001b[0m\t \u001b[1m\u001b[92m2.6099450906399166\u001b[0m\t \u001b[1m\u001b[92m2.344473487610827\u001b[0m\t \u001b[1m\u001b[92m3.610757817239163\u001b[0m\n",
            "4  \t [-1.02322561 -0.08673069]\t 30.80048972853664\t 2.6099450906399166\t 2.805076737986497\t 3.594652970284983\n",
            "5  \t [-4.5        -0.07594135]\t 136.2241524965762\t 2.6099450906399166\t 2.780350861623142\t 3.880300875455009\n",
            "6  \t [0.09298606 4.45732906]\t 135.27309231417277\t 2.6099450906399166\t 2.9431186827521354\t 4.071517732867727\n",
            "7  \t [-0.80423538  2.62782873]\t 130.93538854606692\t 2.6099450906399166\t 2.6620464366872483\t 3.558731659452457\n",
            "8  \t [3.52261364 1.10041416]\t 26.80584715488915\t 2.6099450906399166\t 3.032845866233865\t 3.879578174457878\n",
            "9  \t [-2.68392481 -0.87036081]\t 101.02882568138679\t 2.6099450906399166\t 2.8036192460865506\t 3.7146847118090065\n",
            "10 \t [-1.59465478  4.20290449]\t 13639.551507338043\t 2.6099450906399166\t 3.1260922457958897\t 3.783530901944262\n",
            "11 \t [-2.71868925  0.75858652]\t 33.51818444262344\t 2.6099450906399166\t 2.808719036007176\t 3.687690260476749\n",
            "12 \t [-4.27773836  2.82918176]\t 8902.389337364095\t 2.6099450906399166\t 2.8338246514512786\t 3.2823461230462816\n",
            "13 \t [ 4.4997924 -2.1548125]\t 2708.048445538895\t 2.6099450906399166\t 2.9283358489518627\t 3.370185478715388\n",
            "14 \t [0.74223444 0.53132445]\t 8.25296374368056\t 2.6099450906399166\t 2.9834691135498477\t 3.9883165879415916\n",
            "15 \t [1.42399323 4.12536252]\t 10900.150014263289\t 2.6099450906399166\t 3.1815345443748\t 3.976838254227177\n",
            "16 \t [-1.21790524 -1.7343208 ]\t 127.33179262478403\t 2.6099450906399166\t 3.3223550060109415\t 3.925949712207998\n",
            "17 \t [2.95837962 2.55419998]\t 2780.258459682779\t 2.6099450906399166\t 3.3282304933863673\t 3.7356902045843716\n",
            "18 \t [ 2.58531863 -1.78526391]\t 310.207435994947\t 2.6099450906399166\t 2.6116028227748904\t 3.604429726709396\n",
            "19 \t [ 0.21386361 -0.99456051]\t 11.047602197526\t 2.6099450906399166\t 2.9367987770376205\t 3.700053477648276\n",
            "20 \t [-0.49151281 -4.1371291 ]\t 1486.3451023912432\t 2.6099450906399166\t 3.1612955945735854\t 3.501696258813493\n"
          ]
        }
      ],
      "source": [
        "### EXACT STP EI GRADIENTS\n",
        "\n",
        "np.random.seed(run_num_10)\n",
        "surrogate_exact_10 = dtStudentProcess(cov_func, optimize=opt, nu = df)\n",
        "\n",
        "exact_10 = dGPGO(surrogate_exact_10, Acquisition_grad(util), objfunc, param)\n",
        "exact_10.run(init_evals=n_init, max_iter=iters)\n"
      ]
    },
    {
      "cell_type": "code",
      "execution_count": 44,
      "metadata": {
        "id": "VwbLIP9cIv-F",
        "colab": {
          "base_uri": "https://localhost:8080/"
        },
        "outputId": "b6e4dd39-89b8-4afd-96c6-a66cde66709d"
      },
      "outputs": [
        {
          "output_type": "stream",
          "name": "stdout",
          "text": [
            "Evaluation \t Proposed point \t  Current eval. \t  Best eval. \t        Exact EI: StdDev. x \t Approx EI: StdDev. x \n",
            "init\t [-2.8775728  -4.32472283]\t 59421.14819100274\t 2.8907294990196846\t    \t    \n",
            "init\t [-0.33103326  2.02440536]\t 2.8907294990196846\t 2.8907294990196846\t    \t    \n",
            "init\t [-0.71816756 -0.13115612]\t 25.271447350027046\t 2.8907294990196846\t    \t    \n",
            "init\t [-4.38497267 -0.11365553]\t 133.2515796886641\t 2.8907294990196846\t    \t    \n",
            "init\t [3.97625987 3.1571558 ]\t 16859.81677190551\t 2.8907294990196846\t    \t    \n",
            "1  \t [ 2.66792179 -3.92682212]\t 27904.860112480015\t 2.8907294990196846\t 2.75133295862056\t 4.158745940941295\n",
            "2  \t [-2.76283728  2.40869011]\t 1230.788181065641\t 2.8907294990196846\t 1.9679337012870766\t 3.2387923350750323\n",
            "3  \t [0.1352985 4.5      ]\t 247.05716384236126\t 2.8907294990196846\t 2.552708535391915\t 3.5388119462875545\n",
            "\u001b[1m\u001b[92m4\u001b[0m\t \u001b[1m\u001b[92m[ 1.94459896 -0.03802486]\u001b[0m\t \u001b[1m\u001b[92m0.8266810507754048\u001b[0m\t \u001b[1m\u001b[92m0.8266810507754048\u001b[0m\t \u001b[1m\u001b[92m2.29242472724308\u001b[0m\t \u001b[1m\u001b[92m3.214507062200505\u001b[0m\n",
            "5  \t [-2.53630147 -0.75909868]\t 85.91700135662161\t 0.8266810507754048\t 2.449135991223082\t 3.3876648351766416\n",
            "6  \t [ 3.74548904 -0.2944271 ]\t 14.06050455500892\t 0.8266810507754048\t 2.5685420650471986\t 3.407127516010655\n",
            "7  \t [ 0.07737682 -1.96541995]\t 11.56494411704259\t 0.8266810507754048\t 2.7550248132275463\t 3.5868939602644176\n",
            "8  \t [1.42700013 1.8189567 ]\t 133.62725017781818\t 0.8266810507754048\t 2.4338848285791044\t 3.608194995042693\n",
            "9  \t [-1.80335453  4.09631015]\t 14989.773493655233\t 0.8266810507754048\t 2.9449384575101805\t 3.9262469591859612\n",
            "10 \t [-4.08414557  1.50934978]\t 62.94881610861958\t 0.8266810507754048\t 2.887301548111449\t 4.036562519147972\n",
            "11 \t [-4.35249381  3.66906037]\t 46071.403512547986\t 0.8266810507754048\t 2.4273882995344125\t 3.8542856503328506\n",
            "12 \t [-2.03067692  0.83502605]\t 23.638146582866103\t 0.8266810507754048\t 2.780882141167773\t 3.2224461767137704\n",
            "13 \t [1.60141694 3.78199417]\t 8273.37826774974\t 0.8266810507754048\t 2.5306050851801376\t 3.2494931077964866\n",
            "14 \t [ 3.91729587 -1.6344452 ]\t 493.60849817781946\t 0.8266810507754048\t 2.781120104761522\t 3.4565512336826525\n",
            "15 \t [-4.06225222 -1.68776185]\t 869.215314948758\t 0.8266810507754048\t 2.943156260367577\t 3.1356104622286605\n",
            "16 \t [ 1.71004462 -1.41754329]\t 38.39857487312415\t 0.8266810507754048\t 2.144663901549554\t 3.2421362924971118\n",
            "17 \t [0.53778879 0.4610156 ]\t 9.379772420881315\t 0.8266810507754048\t 2.2192101862640934\t 2.968246739683475\n",
            "\u001b[1m\u001b[92m18\u001b[0m\t \u001b[1m\u001b[92m[4.5        0.75568836]\u001b[0m\t \u001b[1m\u001b[92m0.2672292683338334\u001b[0m\t \u001b[1m\u001b[92m0.2672292683338334\u001b[0m\t \u001b[1m\u001b[92m2.8116539870277206\u001b[0m\t \u001b[1m\u001b[92m3.32919289635064\u001b[0m\n",
            "19 \t [-0.09751616 -3.68177819]\t 62.478748472381056\t 0.2672292683338334\t 2.7526668649926562\t 3.285555344881383\n",
            "20 \t [-4.5        -3.11508711]\t 22255.89156764146\t 0.2672292683338334\t 4.154402506595672\t 4.108280054225178\n"
          ]
        }
      ],
      "source": [
        "### EXACT STP EI GRADIENTS\n",
        "\n",
        "np.random.seed(run_num_11)\n",
        "surrogate_exact_11 = dtStudentProcess(cov_func, optimize=opt, nu = df)\n",
        "\n",
        "exact_11 = dGPGO(surrogate_exact_11, Acquisition_grad(util), objfunc, param)\n",
        "exact_11.run(init_evals=n_init, max_iter=iters)\n"
      ]
    },
    {
      "cell_type": "code",
      "execution_count": 45,
      "metadata": {
        "id": "MlUNFjc-JTBY",
        "colab": {
          "base_uri": "https://localhost:8080/"
        },
        "outputId": "a0c7e739-ddbe-427b-a04d-37c91ac9ba89"
      },
      "outputs": [
        {
          "output_type": "stream",
          "name": "stdout",
          "text": [
            "Evaluation \t Proposed point \t  Current eval. \t  Best eval. \t        Exact EI: StdDev. x \t Approx EI: StdDev. x \n",
            "init\t [-3.11253442  2.16044727]\t 746.3412720881302\t 48.45196617039589\t    \t    \n",
            "init\t [-2.13016486  0.30365454]\t 48.45196617039589\t 48.45196617039589\t    \t    \n",
            "init\t [-4.36882534  3.76872307]\t 54651.235607336355\t 48.45196617039589\t    \t    \n",
            "init\t [ 3.60643369 -4.19920715]\t 76007.68460600567\t 48.45196617039589\t    \t    \n",
            "init\t [ 4.11254403 -3.26511611]\t 22941.17826205435\t 48.45196617039589\t    \t    \n",
            "1  \t [4.5 4.5]\t 174813.36324096035\t 48.45196617039589\t 3.9187406645015987\t 3.373630545708905\n",
            "2  \t [-4.5 -4.5]\t 181853.61328125\t 48.45196617039589\t 3.2019153682617065\t 2.8114986167332887\n",
            "\u001b[1m\u001b[92m3\u001b[0m\t \u001b[1m\u001b[92m[0.332649   2.04254398]\u001b[0m\t \u001b[1m\u001b[92m40.620951979824405\u001b[0m\t \u001b[1m\u001b[92m40.620951979824405\u001b[0m\t \u001b[1m\u001b[92m2.1407880713315475\u001b[0m\t \u001b[1m\u001b[92m1.9542362887479714\u001b[0m\n",
            "\u001b[1m\u001b[92m4\u001b[0m\t \u001b[1m\u001b[92m[2.59156115 0.02729514]\u001b[0m\t \u001b[1m\u001b[92m1.1585523745419402\u001b[0m\t \u001b[1m\u001b[92m1.1585523745419402\u001b[0m\t \u001b[1m\u001b[92m2.1109498810899687\u001b[0m\t \u001b[1m\u001b[92m2.0933038042414482\u001b[0m\n",
            "5  \t [-0.27553462 -2.53528383]\t 61.31185999168989\t 1.1585523745419402\t 1.9803573680369133\t 2.227081365353176\n",
            "6  \t [ 0.2411831  -0.30375281]\t 11.181192167039605\t 1.1585523745419402\t 2.488465050747202\t 2.7322354410573344\n",
            "7  \t [-4.4684763  -0.40962194]\t 151.21658780490748\t 1.1585523745419402\t 2.544013358543494\t 2.878033642939481\n",
            "8  \t [-0.76784524  3.95225925]\t 2018.0932626257768\t 1.1585523745419402\t 2.399448453890438\t 2.5267374146247383\n",
            "\u001b[1m\u001b[92m9\u001b[0m\t \u001b[1m\u001b[92m[4.5        0.73297923]\u001b[0m\t \u001b[1m\u001b[92m0.12774649953538705\u001b[0m\t \u001b[1m\u001b[92m0.12774649953538705\u001b[0m\t \u001b[1m\u001b[92m2.193507994923627\u001b[0m\t \u001b[1m\u001b[92m2.2317577844314003\u001b[0m\n",
            "10 \t [-2.2567129  -1.75448633]\t 356.86051668266\t 0.12774649953538705\t 2.4722825825649863\t 2.5842309546001028\n",
            "11 \t [2.43717346 1.88510816]\t 357.9031869618998\t 0.12774649953538705\t 2.3224261084379556\t 2.2776591225275276\n",
            "12 \t [ 1.94423164 -1.79990674]\t 172.7261578710245\t 0.12774649953538705\t 2.1997643027275724\t 2.75199579485293\n",
            "13 \t [1.2938001  4.00356615]\t 7615.582244245884\t 0.12774649953538705\t 2.287194835291122\t 2.614505033996947\n",
            "14 \t [ 0.1548185 -4.1503216]\t 97.09194652321617\t 0.12774649953538705\t 2.3538169196435996\t 2.4496794009856386\n",
            "15 \t [-1.80135434  2.74385024]\t 1168.0276472798628\t 0.12774649953538705\t 2.8060733612526785\t 2.316323466493852\n",
            "16 \t [ 4.04922786 -1.06628967]\t 95.13046118553444\t 0.12774649953538705\t 2.326287519338228\t 2.299407741206223\n",
            "17 \t [-0.65517435  0.84607485]\t 16.811437276827792\t 0.12774649953538705\t 2.378714297578169\t 2.243945855468923\n",
            "18 \t [-1.92215602 -3.1307187 ]\t 4340.2276450465015\t 0.12774649953538705\t 2.669311025142664\t 2.4379376552580614\n",
            "19 \t [-3.98746491 -1.98379967]\t 1693.453104879694\t 0.12774649953538705\t 2.745142868045221\t 2.7159937674322974\n",
            "20 \t [-0.13544381 -3.17679395]\t 55.75452285939291\t 0.12774649953538705\t 2.380738954413725\t 2.5500557558971595\n"
          ]
        }
      ],
      "source": [
        "### EXACT STP EI GRADIENTS\n",
        "\n",
        "np.random.seed(run_num_12)\n",
        "surrogate_exact_12 = dtStudentProcess(cov_func, optimize=opt, nu = df)\n",
        "\n",
        "exact_12 = dGPGO(surrogate_exact_12, Acquisition_grad(util), objfunc, param)\n",
        "exact_12.run(init_evals=n_init, max_iter=iters)\n"
      ]
    },
    {
      "cell_type": "code",
      "execution_count": 46,
      "metadata": {
        "id": "9BsKdU9eJTFL",
        "colab": {
          "base_uri": "https://localhost:8080/"
        },
        "outputId": "72141ccb-9afd-48f9-a853-4dee0d980330"
      },
      "outputs": [
        {
          "output_type": "stream",
          "name": "stdout",
          "text": [
            "Evaluation \t Proposed point \t  Current eval. \t  Best eval. \t        Exact EI: StdDev. x \t Approx EI: StdDev. x \n",
            "init\t [ 2.4993217  -2.36212902]\t 1312.0597023727128\t 25.917758071459016\t    \t    \n",
            "init\t [2.91850679 4.19174278]\t 48757.43948599124\t 25.917758071459016\t    \t    \n",
            "init\t [ 4.25341003 -0.41895677]\t 25.917758071459016\t 25.917758071459016\t    \t    \n",
            "init\t [0.98138216 2.47973863]\t 337.8750512678324\t 25.917758071459016\t    \t    \n",
            "init\t [1.2745201  1.99816407]\t 177.1374160884886\t 25.917758071459016\t    \t    \n",
            "1  \t [-2.27719169  1.9100941 ]\t 134.9064095365935\t 25.917758071459016\t 3.1885870662708418\t 2.8353145834947076\n",
            "2  \t [-4.5 -4.5]\t 181853.61328125\t 25.917758071459016\t 2.8545594474531937\t 3.249570831677497\n",
            "3  \t [-1.37044263 -0.94486498]\t 49.63302038560062\t 25.917758071459016\t 2.5540960690607477\t 3.024434663477857\n",
            "4  \t [-3.94651436 -0.21796442]\t 119.60656531464491\t 25.917758071459016\t 2.568284117303307\t 3.9588861934552138\n",
            "5  \t [ 0.96196008 -4.5       ]\t 7840.9071456871225\t 25.917758071459016\t 3.1146876418911593\t 4.288862695096872\n",
            "6  \t [-0.87151635  3.82790502]\t 2153.9722037878732\t 25.917758071459016\t 2.2506215784861654\t 3.8982445065819893\n",
            "\u001b[1m\u001b[92m7\u001b[0m\t \u001b[1m\u001b[92m[ 0.90251357 -0.28532759]\u001b[0m\t \u001b[1m\u001b[92m5.0298915994839435\u001b[0m\t \u001b[1m\u001b[92m5.0298915994839435\u001b[0m\t \u001b[1m\u001b[92m2.9251921899044477\u001b[0m\t \u001b[1m\u001b[92m4.013404907391672\u001b[0m\n",
            "8  \t [4.5      1.567574]\t 332.99094129590134\t 5.0298915994839435\t 2.8747691077830777\t 3.6680441338760796\n",
            "9  \t [-0.66973142 -2.95206958]\t 446.96053781972273\t 5.0298915994839435\t 2.3052789815364285\t 3.622006122314311\n",
            "10 \t [-3.58578923  2.98638421]\t 8688.4129370863\t 5.0298915994839435\t 2.578428501492156\t 4.002224422897884\n",
            "11 \t [ 4.04489422 -3.54750737]\t 35822.22686240255\t 5.0298915994839435\t 2.9202073236857964\t 3.589359980123174\n",
            "\u001b[1m\u001b[92m12\u001b[0m\t \u001b[1m\u001b[92m[2.58537049 0.71191546]\u001b[0m\t \u001b[1m\u001b[92m2.466559670137126\u001b[0m\t \u001b[1m\u001b[92m2.466559670137126\u001b[0m\t \u001b[1m\u001b[92m2.5315078889423215\u001b[0m\t \u001b[1m\u001b[92m2.6364472209573933\u001b[0m\n",
            "\u001b[1m\u001b[92m13\u001b[0m\t \u001b[1m\u001b[92m[-0.75354351  1.70230559]\u001b[0m\t \u001b[1m\u001b[92m1.7293575968585146\u001b[0m\t \u001b[1m\u001b[92m1.7293575968585146\u001b[0m\t \u001b[1m\u001b[92m2.648507640495088\u001b[0m\t \u001b[1m\u001b[92m3.4426580343894475\u001b[0m\n",
            "14 \t [-1.23588804 -4.5       ]\t 14100.72130569672\t 1.7293575968585146\t 2.4293590287167337\t 3.0381980652738254\n",
            "15 \t [-2.68071388 -1.79259994]\t 524.7827752246925\t 1.7293575968585146\t 2.7015436180868977\t 2.9473600222302894\n",
            "16 \t [ 0.81484876 -2.07196621]\t 54.91559740448008\t 1.7293575968585146\t 2.4028789978180862\t 3.2640969133963327\n",
            "17 \t [0.58674513 4.49810174]\t 3269.157971620168\t 1.7293575968585146\t 3.3215728242037716\t 3.9122214727575333\n",
            "18 \t [-1.53112686  0.46086942]\t 33.40120088284666\t 1.7293575968585146\t 2.608224684165195\t 2.847982708316225\n",
            "19 \t [ 2.61275303 -0.85496724]\t 16.21938219470612\t 1.7293575968585146\t 2.4716401604960883\t 3.382364368706923\n",
            "20 \t [-4.13734989 -1.7062038 ]\t 939.1758501720923\t 1.7293575968585146\t 2.9536362102752007\t 3.5042727628860977\n"
          ]
        }
      ],
      "source": [
        "### EXACT STP EI GRADIENTS\n",
        "\n",
        "np.random.seed(run_num_13)\n",
        "surrogate_exact_13 = dtStudentProcess(cov_func, optimize=opt, nu = df)\n",
        "\n",
        "exact_13 = dGPGO(surrogate_exact_13, Acquisition_grad(util), objfunc, param)\n",
        "exact_13.run(init_evals=n_init, max_iter=iters)\n"
      ]
    },
    {
      "cell_type": "code",
      "execution_count": 47,
      "metadata": {
        "id": "k6GjFBr1JTJf",
        "colab": {
          "base_uri": "https://localhost:8080/"
        },
        "outputId": "2879a6de-31d8-41de-9624-e0f9f8cd66b8"
      },
      "outputs": [
        {
          "output_type": "stream",
          "name": "stdout",
          "text": [
            "Evaluation \t Proposed point \t  Current eval. \t  Best eval. \t        Exact EI: StdDev. x \t Approx EI: StdDev. x \n",
            "init\t [0.12549009 2.45848547]\t 30.19066754742359\t 11.367015527968295\t    \t    \n",
            "init\t [ 3.33384917 -4.42757746]\t 88548.3950659154\t 11.367015527968295\t    \t    \n",
            "init\t [-1.71237667  4.11843365]\t 13933.414320383567\t 11.367015527968295\t    \t    \n",
            "init\t [ 0.11805041 -1.63544018]\t 11.367015527968295\t 11.367015527968295\t    \t    \n",
            "init\t [ 0.35279944 -2.50870552]\t 27.90050047415725\t 11.367015527968295\t    \t    \n",
            "1  \t [2.98519093 2.98519093]\t 6973.501950646162\t 11.367015527968295\t 3.880491290065632\t 3.43142254833153\n",
            "2  \t [-2.89667999 -4.24931391]\t 54386.40660008204\t 11.367015527968295\t 4.079693977389948\t 3.817087151324049\n",
            "3  \t [-3.9806155   0.31552229]\t 93.88487983949287\t 11.367015527968295\t 2.82716443706561\t 3.4041526116982657\n",
            "\u001b[1m\u001b[92m4\u001b[0m\t \u001b[1m\u001b[92m[ 3.45505385 -0.30037327]\u001b[0m\t \u001b[1m\u001b[92m10.608439308287338\u001b[0m\t \u001b[1m\u001b[92m10.608439308287338\u001b[0m\t \u001b[1m\u001b[92m2.2567053283053515\u001b[0m\t \u001b[1m\u001b[92m3.627336261465829\u001b[0m\n",
            "5  \t [-1.14673048  0.33071488]\t 29.75775796810976\t 10.608439308287338\t 2.6214203598041887\t 3.5050915503225992\n",
            "\u001b[1m\u001b[92m6\u001b[0m\t \u001b[1m\u001b[92m[1.28079394 0.33479456]\u001b[0m\t \u001b[1m\u001b[92m3.5965799641617693\u001b[0m\t \u001b[1m\u001b[92m3.5965799641617693\u001b[0m\t \u001b[1m\u001b[92m2.864823198803846\u001b[0m\t \u001b[1m\u001b[92m3.3775252611670723\u001b[0m\n",
            "7  \t [4.5 4.5]\t 174813.36328125\t 3.5965799641617693\t 2.601987446250726\t 3.603242357420996\n",
            "8  \t [-4.34083403  2.67788513]\t 6471.354681923506\t 3.5965799641617693\t 2.6531934360921356\t 3.468085729822852\n",
            "9  \t [1.11550544 4.04628866]\t 6086.812808947869\t 3.5965799641617693\t 2.478643440802141\t 2.9920468314689654\n",
            "10 \t [-4.18350129 -1.57511046]\t 702.4322175679561\t 3.5965799641617693\t 2.3083531496994625\t 3.162608782835486\n",
            "11 \t [4.33029238 1.26322587]\t 79.62631227781688\t 3.5965799641617693\t 2.475532270520336\t 3.4920461530848455\n",
            "12 \t [ 4.5        -1.43199512]\t 365.5581591201923\t 3.5965799641617693\t 2.6974983238822663\t 3.4585252704273235\n",
            "13 \t [-1.89059852 -1.39384331]\t 129.3670440464332\t 3.5965799641617693\t 2.7914443316754456\t 3.409329198950242\n",
            "14 \t [2.45686892 1.43613396]\t 85.66957516827767\t 3.5965799641617693\t 2.510685042805289\t 3.571667212247565\n",
            "15 \t [-2.28150261  1.69485196]\t 42.5487914029013\t 3.5965799641617693\t 2.5421331992159777\t 2.9865097500900166\n",
            "16 \t [ 0.10493582 -4.5       ]\t 68.67744359892379\t 3.5965799641617693\t 2.4068115107493284\t 3.358289088044038\n",
            "17 \t [ 1.93970752 -1.34130853]\t 39.65499283010908\t 3.5965799641617693\t 2.42833570464476\t 3.203779606098379\n",
            "18 \t [-1.04598941 -2.96122147]\t 1016.9658682507363\t 3.5965799641617693\t 2.671880902906068\t 2.9799752069048333\n",
            "19 \t [ 1.32195778 -3.53984702]\t 3613.435615640389\t 3.5965799641617693\t 3.1832899348325667\t 3.363895481927588\n",
            "20 \t [-4.5 -4.5]\t 181853.61328125\t 3.5965799641617693\t 2.5954902923082583\t 3.084993168471198\n"
          ]
        }
      ],
      "source": [
        "### EXACT STP EI GRADIENTS\n",
        "\n",
        "np.random.seed(run_num_14)\n",
        "surrogate_exact_14 = dtStudentProcess(cov_func, optimize=opt, nu = df)\n",
        "\n",
        "exact_14 = dGPGO(surrogate_exact_14, Acquisition_grad(util), objfunc, param)\n",
        "exact_14.run(init_evals=n_init, max_iter=iters)\n"
      ]
    },
    {
      "cell_type": "code",
      "execution_count": 48,
      "metadata": {
        "id": "dPS8WB3aJTN6",
        "colab": {
          "base_uri": "https://localhost:8080/"
        },
        "outputId": "971b8a26-864b-463c-9cce-e07457c851d9"
      },
      "outputs": [
        {
          "output_type": "stream",
          "name": "stdout",
          "text": [
            "Evaluation \t Proposed point \t  Current eval. \t  Best eval. \t        Exact EI: StdDev. x \t Approx EI: StdDev. x \n",
            "init\t [ 3.13935928 -2.88993668]\t 6575.875821208801\t 47.082686538130915\t    \t    \n",
            "init\t [-4.01073107 -1.24615399]\t 317.710908287677\t 47.082686538130915\t    \t    \n",
            "init\t [-2.02139164  0.27000202]\t 47.082686538130915\t 47.082686538130915\t    \t    \n",
            "init\t [-1.74672976 -1.75973077]\t 234.8792968363759\t 47.082686538130915\t    \t    \n",
            "init\t [-3.49432851 -2.25090888]\t 2421.671033348018\t 47.082686538130915\t    \t    \n",
            "\u001b[1m\u001b[92m1\u001b[0m\t \u001b[1m\u001b[92m[-4.23888582  0.92924136]\u001b[0m\t \u001b[1m\u001b[92m23.230964510924018\u001b[0m\t \u001b[1m\u001b[92m23.230964510924018\u001b[0m\t \u001b[1m\u001b[92m3.471395078203275\u001b[0m\t \u001b[1m\u001b[92m3.9258561807516092\u001b[0m\n",
            "2  \t [4.5 4.5]\t 174813.36328125\t 23.230964510924018\t 2.9989014452974847\t 3.4879343261660276\n",
            "3  \t [-3.40657572  4.22768441]\t 66331.74514767193\t 23.230964510924018\t 3.1103144764368857\t 3.4607071844626973\n",
            "\u001b[1m\u001b[92m4\u001b[0m\t \u001b[1m\u001b[92m[0.78845704 0.83518685]\u001b[0m\t \u001b[1m\u001b[92m11.194311730985621\u001b[0m\t \u001b[1m\u001b[92m11.194311730985621\u001b[0m\t \u001b[1m\u001b[92m2.9702711266309634\u001b[0m\t \u001b[1m\u001b[92m3.015616671253682\u001b[0m\n",
            "\u001b[1m\u001b[92m5\u001b[0m\t \u001b[1m\u001b[92m[3.82161596 0.35049932]\u001b[0m\t \u001b[1m\u001b[92m3.244448397678908\u001b[0m\t \u001b[1m\u001b[92m3.244448397678908\u001b[0m\t \u001b[1m\u001b[92m3.151556851370511\u001b[0m\t \u001b[1m\u001b[92m3.450042282451862\u001b[0m\n",
            "6  \t [-0.77603639 -4.48699848]\t 5595.023941442723\t 3.244448397678908\t 3.374737383002647\t 3.3883337235074067\n",
            "7  \t [0.42186143 4.16919816]\t 1166.1989431695804\t 3.244448397678908\t 3.334797811365875\t 3.2880574301233683\n",
            "8  \t [-4.5 -4.5]\t 181853.61328125\t 3.244448397678908\t 2.645937476070357\t 3.540060050544713\n",
            "9  \t [ 0.59831291 -1.45039871]\t 8.511641942598061\t 3.244448397678908\t 1.884650337375995\t 2.5640889695571674\n",
            "10 \t [-0.79239113  2.25001568]\t 32.655536970511\t 3.244448397678908\t 2.3748463711128283\t 3.3681960880022555\n",
            "11 \t [1.98141395 2.27141934]\t 695.7066039710213\t 3.244448397678908\t 2.0836210804573563\t 2.9304033233037163\n",
            "12 \t [ 1.21157477 -3.68966453]\t 3858.4153847230064\t 3.244448397678908\t 2.259605609110088\t 3.023543262573531\n",
            "\u001b[1m\u001b[92m13\u001b[0m\t \u001b[1m\u001b[92m[ 2.121227   -0.42412186]\u001b[0m\t \u001b[1m\u001b[92m2.6904632158484194\u001b[0m\t \u001b[1m\u001b[92m2.6904632158484194\u001b[0m\t \u001b[1m\u001b[92m2.5907895003226096\u001b[0m\t \u001b[1m\u001b[92m3.2013563301387467\u001b[0m\n",
            "14 \t [ 4.12096736 -1.07565838]\t 102.03707254983647\t 2.6904632158484194\t 2.284761643474085\t 3.3961716605661105\n",
            "15 \t [-0.71952747 -0.09525343]\t 25.204628386860776\t 2.6904632158484194\t 2.160839891991861\t 3.401817579020842\n",
            "16 \t [3.2754598  1.70612731]\t 330.8161555806463\t 2.6904632158484194\t 2.68897144080204\t 3.243659789099815\n",
            "17 \t [-0.50863228 -2.61018079]\t 159.9527130658828\t 2.6904632158484194\t 2.0585684809880305\t 3.0338461909389767\n",
            "18 \t [-1.18151828  3.50066638]\t 2321.9012039431086\t 2.6904632158484194\t 2.5145298437433845\t 3.3393291131103355\n",
            "19 \t [2.80627421 1.40527457]\t 89.67001723870028\t 2.6904632158484194\t 2.7069310848075414\t 2.7069310847376773\n",
            "20 \t [-2.62756623  1.79812215]\t 113.91678266344006\t 2.6904632158484194\t 2.3843097985935358\t 2.8525081600440525\n"
          ]
        }
      ],
      "source": [
        "### EXACT STP EI GRADIENTS\n",
        "\n",
        "np.random.seed(run_num_15)\n",
        "surrogate_exact_15 = dtStudentProcess(cov_func, optimize=opt, nu = df)\n",
        "\n",
        "exact_15 = dGPGO(surrogate_exact_15, Acquisition_grad(util), objfunc, param)\n",
        "exact_15.run(init_evals=n_init, max_iter=iters)\n"
      ]
    },
    {
      "cell_type": "code",
      "execution_count": 49,
      "metadata": {
        "id": "lu8ki9XIQPPN",
        "colab": {
          "base_uri": "https://localhost:8080/"
        },
        "outputId": "e8328fc9-8596-4821-c1dd-f744d9949beb"
      },
      "outputs": [
        {
          "output_type": "stream",
          "name": "stdout",
          "text": [
            "Evaluation \t Proposed point \t  Current eval. \t  Best eval. \t        Exact EI: StdDev. x \t Approx EI: StdDev. x \n",
            "init\t [-2.49038029  0.20847007]\t 59.442894178636664\t 59.442894178636664\t    \t    \n",
            "init\t [ 0.45631311 -4.08958245]\t 932.9374489641153\t 59.442894178636664\t    \t    \n",
            "init\t [-1.25344048 -2.49227152]\t 594.9494957841517\t 59.442894178636664\t    \t    \n",
            "init\t [ 1.69853546 -3.02641717]\t 2418.389440420566\t 59.442894178636664\t    \t    \n",
            "init\t [-3.8670762   3.96909774]\t 58473.38862292419\t 59.442894178636664\t    \t    \n",
            "1  \t [4.5 4.5]\t 174813.36328125\t 59.442894178636664\t 4.295790706601609\t 4.05632649766618\n",
            "2  \t [-4.5 -4.5]\t 181853.61328125\t 59.442894178636664\t 3.4889541625081697\t 3.3922407489021706\n",
            "\u001b[1m\u001b[92m3\u001b[0m\t \u001b[1m\u001b[92m[0.41438024 1.74089771]\u001b[0m\t \u001b[1m\u001b[92m32.155925235195056\u001b[0m\t \u001b[1m\u001b[92m32.155925235195056\u001b[0m\t \u001b[1m\u001b[92m2.3665724828456147\u001b[0m\t \u001b[1m\u001b[92m2.750692438666574\u001b[0m\n",
            "\u001b[1m\u001b[92m4\u001b[0m\t \u001b[1m\u001b[92m[ 3.85332914 -0.12430422]\u001b[0m\t \u001b[1m\u001b[92m11.932318160542152\u001b[0m\t \u001b[1m\u001b[92m11.932318160542152\u001b[0m\t \u001b[1m\u001b[92m2.3488894170316175\u001b[0m\t \u001b[1m\u001b[92m3.5700423728504136\u001b[0m\n",
            "\u001b[1m\u001b[92m5\u001b[0m\t \u001b[1m\u001b[92m[ 0.98620786 -0.53398323]\u001b[0m\t \u001b[1m\u001b[92m4.603210656097588\u001b[0m\t \u001b[1m\u001b[92m4.603210656097588\u001b[0m\t \u001b[1m\u001b[92m1.95524969243536\u001b[0m\t \u001b[1m\u001b[92m2.7113170633540227\u001b[0m\n",
            "6  \t [0.15996962 4.25185808]\t 246.7979310070322\t 4.603210656097588\t 2.8296384812091446\t 3.473535347810356\n",
            "7  \t [ 4.05486449 -4.0114029 ]\t 73636.10083315914\t 4.603210656097588\t 2.330855519845778\t 3.3162588380591482\n",
            "8  \t [2.54335089 1.45669144]\t 96.22420473774193\t 4.603210656097588\t 2.157586561923816\t 2.397843097266227\n",
            "9  \t [-3.10485558 -1.53820553]\t 381.98599751830386\t 4.603210656097588\t 2.415998613658155\t 2.6478665844292766\n",
            "10 \t [-4.31451889  0.47110903]\t 87.83986234939161\t 4.603210656097588\t 2.510998052461987\t 2.5809803894420162\n",
            "11 \t [-0.78807002 -0.48246296]\t 27.529670351525624\t 4.603210656097588\t 2.269279345726904\t 2.3349190378249003\n",
            "12 \t [-1.42077121  1.99794181]\t 57.08547777687944\t 4.603210656097588\t 2.4422673628638734\t 2.858184199298927\n",
            "13 \t [1.59056443 3.20877153]\t 3186.5911927035886\t 4.603210656097588\t 2.313244958321379\t 2.360586146165923\n",
            "14 \t [-1.76739332 -4.14572379]\t 17791.34384330296\t 4.603210656097588\t 2.1495417979903055\t 2.297291834096217\n",
            "15 \t [ 2.63972767 -1.30380378]\t 72.18067632428\t 4.603210656097588\t 2.0363765931024087\t 2.0757239027268155\n",
            "16 \t [ 0.29901654 -2.01053798]\t 10.35423023001036\t 4.603210656097588\t 1.7692692492562607\t 2.047956319299144\n",
            "17 \t [-1.24126856  4.35967298]\t 10210.055885107453\t 4.603210656097588\t 2.4578017641610406\t 2.7139301475566198\n",
            "18 \t [-4.04139853  1.62030037]\t 130.44719620903524\t 4.603210656097588\t 2.491726435735119\t 2.436749648608696\n",
            "19 \t [ 4.17181247 -1.75447297]\t 798.7660641987286\t 4.603210656097588\t 2.206141115533097\t 2.1024321086188595\n",
            "20 \t [4.5        1.46950102]\t 222.69391422350128\t 4.603210656097588\t 2.5656572430132685\t 2.4451763165029017\n"
          ]
        }
      ],
      "source": [
        "### EXACT STP EI GRADIENTS\n",
        "\n",
        "np.random.seed(run_num_16)\n",
        "surrogate_exact_16 = dtStudentProcess(cov_func, optimize=opt, nu = df)\n",
        "\n",
        "exact_16 = dGPGO(surrogate_exact_16, Acquisition_grad(util), objfunc, param)\n",
        "exact_16.run(init_evals=n_init, max_iter=iters)\n"
      ]
    },
    {
      "cell_type": "code",
      "execution_count": 50,
      "metadata": {
        "id": "yU2SflSsJTUs",
        "colab": {
          "base_uri": "https://localhost:8080/"
        },
        "outputId": "7cc1d440-dfd3-45fa-abf7-b5afc6a7f107"
      },
      "outputs": [
        {
          "output_type": "stream",
          "name": "stdout",
          "text": [
            "Evaluation \t Proposed point \t  Current eval. \t  Best eval. \t        Exact EI: StdDev. x \t Approx EI: StdDev. x \n",
            "init\t [-1.84801498  0.2752808 ]\t 43.39160388622011\t 6.891623366037299\t    \t    \n",
            "init\t [-2.77631292 -3.88889678]\t 30048.58268621874\t 6.891623366037299\t    \t    \n",
            "init\t [2.58286914 1.4070017 ]\t 81.72560623465196\t 6.891623366037299\t    \t    \n",
            "init\t [1.23768806 0.68042604]\t 6.891623366037299\t 6.891623366037299\t    \t    \n",
            "init\t [-4.14843375 -1.27967756]\t 359.4343933746243\t 6.891623366037299\t    \t    \n",
            "1  \t [ 4.35945178 -3.9086791 ]\t 73232.4143310993\t 6.891623366037299\t 3.027030649745486\t 4.279652153997513\n",
            "2  \t [-1.71955112  4.19967139]\t 15845.609765746849\t 6.891623366037299\t 2.6360220998092236\t 3.6594666981716886\n",
            "3  \t [4.5 4.5]\t 174813.36328125\t 6.891623366037299\t 2.9330494266975453\t 3.287763907077227\n",
            "4  \t [ 0.10745458 -1.62155946]\t 11.6063721346869\t 6.891623366037299\t 3.255118538487222\t 3.430220447006474\n",
            "5  \t [ 0.65317715 -4.41909896]\t 3169.0876150101226\t 6.891623366037299\t 2.9468131640252966\t 3.7960582955671542\n",
            "6  \t [-3.72535203  1.56711566]\t 74.23985536547214\t 6.891623366037299\t 2.7558291208444143\t 3.4364331908823726\n",
            "7  \t [ 3.94755246 -0.30766335]\t 17.229887715449806\t 6.891623366037299\t 2.7776554190532434\t 3.4560589709800644\n",
            "8  \t [0.980837   3.99206689]\t 4407.048665266063\t 6.891623366037299\t 2.9382303704347996\t 3.519064507539616\n",
            "9  \t [-4.16762511  3.2814715 ]\t 21275.286537777196\t 6.891623366037299\t 3.266405817345807\t 3.758466795411666\n",
            "10 \t [ 2.16089603 -1.39092926]\t 60.30638224396589\t 6.891623366037299\t 2.6696886723788604\t 2.616886859948284\n",
            "11 \t [-0.26847888  1.17823464]\t 12.736814424735115\t 6.891623366037299\t 3.1316684412479603\t 3.1438157712311336\n",
            "12 \t [-1.49659592 -1.59697539]\t 133.40678670392765\t 6.891623366037299\t 2.8901630230838222\t 2.969259691917863\n",
            "13 \t [1.13217376 2.2889256 ]\t 285.55638636838455\t 6.891623366037299\t 2.7919560637517162\t 2.3859660493053068\n",
            "14 \t [4.5        1.31115313]\t 106.87012534136323\t 6.891623366037299\t 3.0709336364970894\t 2.758374215472875\n",
            "15 \t [-4.40694413  0.22404828]\t 114.3744338124979\t 6.891623366037299\t 2.7601555089405623\t 2.6214869193009367\n",
            "16 \t [-0.29215551 -0.26006318]\t 18.392212032650555\t 6.891623366037299\t 2.8448666731523353\t 2.8754668640891787\n",
            "17 \t [ 1.34928851 -2.82285158]\t 994.5187277017923\t 6.891623366037299\t 2.6696032254583737\t 3.0058685365933497\n",
            "18 \t [2.59980589 2.80080881]\t 3705.61405347286\t 6.891623366037299\t 2.7405205071634424\t 3.374749390845868\n",
            "19 \t [-1.75921771  1.80169691]\t 37.76690708668756\t 6.891623366037299\t 2.7363952314185225\t 2.7285961002435264\n",
            "20 \t [-0.31639177 -3.92438789]\t 501.47872433617835\t 6.891623366037299\t 2.700919697315388\t 2.6002369443448474\n"
          ]
        }
      ],
      "source": [
        "### EXACT STP EI GRADIENTS\n",
        "\n",
        "np.random.seed(run_num_17)\n",
        "surrogate_exact_17 = dtStudentProcess(cov_func, optimize=opt, nu = df)\n",
        "\n",
        "exact_17 = dGPGO(surrogate_exact_17, Acquisition_grad(util), objfunc, param)\n",
        "exact_17.run(init_evals=n_init, max_iter=iters)\n"
      ]
    },
    {
      "cell_type": "code",
      "execution_count": 51,
      "metadata": {
        "id": "eVEhyZ9BQS-1",
        "colab": {
          "base_uri": "https://localhost:8080/"
        },
        "outputId": "d67efab1-f770-4742-fa76-c77a2072e644"
      },
      "outputs": [
        {
          "output_type": "stream",
          "name": "stdout",
          "text": [
            "Evaluation \t Proposed point \t  Current eval. \t  Best eval. \t        Exact EI: StdDev. x \t Approx EI: StdDev. x \n",
            "init\t [1.35336818 0.04908036]\t 2.472652645883837\t 2.472652645883837\t    \t    \n",
            "init\t [ 3.40741324 -2.86343797]\t 7379.017314590048\t 2.472652645883837\t    \t    \n",
            "init\t [3.17009762 2.25122657]\t 1528.3101419799655\t 2.472652645883837\t    \t    \n",
            "init\t [1.49491501 4.39105903]\t 17224.913295283764\t 2.472652645883837\t    \t    \n",
            "init\t [-2.1872842  -4.24524667]\t 31030.348242396165\t 2.472652645883837\t    \t    \n",
            "1  \t [-4.40084975  2.56412478]\t 5036.760896230386\t 2.472652645883837\t 3.2574748132973017\t 4.0593427622559854\n",
            "2  \t [-1.36292246  0.02340281]\t 36.965911169866835\t 2.472652645883837\t 3.3922527737310344\t 3.5264024883375096\n",
            "3  \t [4.5 4.5]\t 174813.36328125\t 2.472652645883837\t 3.3389182453648667\t 4.207143571591553\n",
            "4  \t [-4.14447643 -0.88862389]\t 190.40244480470722\t 2.472652645883837\t 2.656254847175039\t 3.7651649399218514\n",
            "5  \t [-1.01421012  2.29733315]\t 79.35355612394217\t 2.472652645883837\t 2.9340478715376364\t 3.5159880901862275\n",
            "6  \t [ 1.10264319 -4.43703453]\t 9529.040211759688\t 2.472652645883837\t 2.8322816620540676\t 3.838645115855606\n",
            "7  \t [ 0.2223326  -1.79806011]\t 9.54639275834833\t 2.472652645883837\t 3.148454567492418\t 3.5710874149602714\n",
            "8  \t [0.72902764 2.04720597]\t 92.50494355260474\t 2.472652645883837\t 2.69346854473908\t 3.689588967239401\n",
            "9  \t [4.23496711 0.18343009]\t 9.73756898003448\t 2.472652645883837\t 2.828726167835329\t 3.9582085793566266\n",
            "10 \t [-2.14315806  4.13369492]\t 22560.97575934505\t 2.472652645883837\t 3.2345902654722467\t 3.8870060451041515\n",
            "11 \t [-4.5 -4.5]\t 181853.61328125\t 2.472652645883837\t 3.0254950974666213\t 4.199956200113462\n",
            "12 \t [-2.31648283 -1.45903541]\t 199.21253185663505\t 2.472652645883837\t 2.095093775492117\t 2.54228674849387\n",
            "13 \t [-3.1864252   1.10887072]\t 5.786878020895595\t 2.472652645883837\t 2.1968249439513006\t 3.6458940890114158\n",
            "14 \t [ 2.87039668 -0.94012398]\t 27.148581679585075\t 2.472652645883837\t 1.8608049571573093\t 3.75847225741391\n",
            "15 \t [ 1.67232414 -1.83702741]\t 137.86578360622886\t 2.472652645883837\t 2.48602358170536\t 3.926615717659574\n",
            "16 \t [2.43239808 1.05370864]\t 18.23237817332778\t 2.472652645883837\t 2.2618041372468425\t 3.643376388713685\n",
            "17 \t [0.02598962 0.44926213]\t 13.943957432167549\t 2.472652645883837\t 2.8939789930105473\t 3.4304784382052627\n",
            "18 \t [ 4.30996553 -1.31263958]\t 231.20295791185262\t 2.472652645883837\t 2.524101861444811\t 3.498010451483922\n",
            "19 \t [-0.9541817  -2.45133309]\t 340.34586648980564\t 2.472652645883837\t 2.1932957973991165\t 3.3803344710201775\n",
            "20 \t [-0.43685542 -4.18941006]\t 1276.8666952189249\t 2.472652645883837\t 2.620178533684952\t 3.0875893560816383\n"
          ]
        }
      ],
      "source": [
        "### EXACT STP EI GRADIENTS\n",
        "\n",
        "np.random.seed(run_num_18)\n",
        "surrogate_exact_18 = dtStudentProcess(cov_func, optimize=opt, nu = df)\n",
        "\n",
        "exact_18 = dGPGO(surrogate_exact_18, Acquisition_grad(util), objfunc, param)\n",
        "exact_18.run(init_evals=n_init, max_iter=iters)\n"
      ]
    },
    {
      "cell_type": "code",
      "execution_count": 52,
      "metadata": {
        "id": "B6gTz1ojQUxn",
        "colab": {
          "base_uri": "https://localhost:8080/"
        },
        "outputId": "35a8a9ac-2be2-408e-de08-df10dcdc7344"
      },
      "outputs": [
        {
          "output_type": "stream",
          "name": "stdout",
          "text": [
            "Evaluation \t Proposed point \t  Current eval. \t  Best eval. \t        Exact EI: StdDev. x \t Approx EI: StdDev. x \n",
            "init\t [-3.62219758  2.35124745]\t 1879.409018573639\t 63.544086067314716\t    \t    \n",
            "init\t [-2.27755824 -3.25681481]\t 7496.243410303341\t 63.544086067314716\t    \t    \n",
            "init\t [-1.51698093 -3.75300391]\t 7497.407542620609\t 63.544086067314716\t    \t    \n",
            "init\t [1.54779373 2.75934418]\t 1302.4341957421634\t 63.544086067314716\t    \t    \n",
            "init\t [4.34467723 1.22094661]\t 63.544086067314716\t 63.544086067314716\t    \t    \n",
            "1  \t [ 4.24232792 -3.27906201]\t 25038.73455199669\t 63.544086067314716\t 3.411840002978633\t 4.278501698591453\n",
            "2  \t [4.5 4.5]\t 174813.36328125\t 63.544086067314716\t 3.1185495986861\t 4.063954124905574\n",
            "\u001b[1m\u001b[92m3\u001b[0m\t \u001b[1m\u001b[92m[-0.23663262  0.02280684]\u001b[0m\t \u001b[1m\u001b[92m17.368832239947047\u001b[0m\t \u001b[1m\u001b[92m17.368832239947047\u001b[0m\t \u001b[1m\u001b[92m2.5149115970879974\u001b[0m\t \u001b[1m\u001b[92m3.034637725693205\u001b[0m\n",
            "4  \t [-1.03583209  4.36512184]\t 7079.807177671995\t 17.368832239947047\t 2.879020829156119\t 3.487935759014712\n",
            "\u001b[1m\u001b[92m5\u001b[0m\t \u001b[1m\u001b[92m[ 2.41784251 -0.4408243 ]\u001b[0m\t \u001b[1m\u001b[92m4.026219553236008\u001b[0m\t \u001b[1m\u001b[92m4.026219553236008\u001b[0m\t \u001b[1m\u001b[92m2.5315131710608405\u001b[0m\t \u001b[1m\u001b[92m3.581506571140751\u001b[0m\n",
            "6  \t [ 1.06219416 -2.42602199]\t 244.9840776820866\t 4.026219553236008\t 2.5111616199439832\t 3.2733038856251224\n",
            "7  \t [-4.5 -4.5]\t 181853.61328125\t 4.026219553236008\t 3.0686347076544536\t 3.668740811609097\n",
            "8  \t [-4.5        -0.32801439]\t 148.2061232143201\t 4.026219553236008\t 1.979350586457732\t 2.503254322934016\n",
            "9  \t [-2.35034942 -0.09482675]\t 62.33442198449113\t 4.026219553236008\t 2.112230123408649\t 3.2455834874871337\n",
            "10 \t [ 4.5        -0.59299439]\t 40.49223980382148\t 4.026219553236008\t 2.4011381440292716\t 2.846948974133191\n",
            "11 \t [-1.0312507   1.85995701]\t 9.333807949006282\t 4.026219553236008\t 1.8826964040894794\t 2.621521728557288\n",
            "12 \t [ 0.69486036 -4.47859043]\t 3904.32406860543\t 4.026219553236008\t 2.2205148008030804\t 3.4008077183243453\n",
            "13 \t [1.25895642 0.70344516]\t 7.129800404045486\t 4.026219553236008\t 2.5688700720020363\t 3.060227066654127\n",
            "14 \t [-1.26970046 -1.48468704]\t 86.99001372157095\t 4.026219553236008\t 2.315202893388404\t 2.937882468574445\n",
            "15 \t [2.8480067  1.33051088]\t 67.7622188180538\t 4.026219553236008\t 2.4317120724410515\t 3.7504664942745634\n",
            "16 \t [1.50255457 4.42405985]\t 18174.115684455275\t 4.026219553236008\t 2.029233613359157\t 3.3662043264291155\n",
            "17 \t [-2.43461204  3.4163768 ]\t 9050.02412242193\t 4.026219553236008\t 2.2906824414234506\t 3.8658976571786425\n",
            "18 \t [ 3.58577466 -2.32378787]\t 2545.539365896005\t 4.026219553236008\t 2.5876901219172024\t 2.5878798209287788\n",
            "19 \t [ 0.58151556 -1.04208919]\t 7.306922329078752\t 4.026219553236008\t 2.2168194283237637\t 3.180148265695692\n",
            "20 \t [ 2.17013354 -3.78011025]\t 14679.269434267662\t 4.026219553236008\t 2.338354877676277\t 3.1848845026261454\n"
          ]
        }
      ],
      "source": [
        "### EXACT STP EI GRADIENTS\n",
        "\n",
        "np.random.seed(run_num_19)\n",
        "surrogate_exact_19 = dtStudentProcess(cov_func, optimize=opt, nu = df)\n",
        "\n",
        "exact_19 = dGPGO(surrogate_exact_19, Acquisition_grad(util), objfunc, param)\n",
        "exact_19.run(init_evals=n_init, max_iter=iters)\n"
      ]
    },
    {
      "cell_type": "code",
      "execution_count": 53,
      "metadata": {
        "id": "aw3xvSryIwDi",
        "colab": {
          "base_uri": "https://localhost:8080/"
        },
        "outputId": "d653bb65-64bd-4879-a6d1-0f8080c83da9"
      },
      "outputs": [
        {
          "output_type": "stream",
          "name": "stdout",
          "text": [
            "Evaluation \t Proposed point \t  Current eval. \t  Best eval. \t        Exact EI: StdDev. x \t Approx EI: StdDev. x \n",
            "init\t [0.79317721 3.57942355]\t 1607.3829986954497\t 30.55204392634667\t    \t    \n",
            "init\t [3.52377657 2.8425373 ]\t 7209.150060592592\t 30.55204392634667\t    \t    \n",
            "init\t [-4.17699373  1.72581824]\t 253.68900136908488\t 30.55204392634667\t    \t    \n",
            "init\t [-1.09187152  0.16659851]\t 30.55204392634667\t 30.55204392634667\t    \t    \n",
            "init\t [ 1.42156319 -2.75534804]\t 963.9362838324588\t 30.55204392634667\t    \t    \n",
            "1  \t [-4.5 -4.5]\t 181853.61328125\t 30.55204392634667\t 3.479068993406834\t 3.841823312241344\n",
            "2  \t [ 3.85439608 -0.91501093]\t 54.712550362053015\t 30.55204392634667\t 2.8746319045999016\t 3.684250675399315\n",
            "3  \t [-2.05277529  4.11642477]\t 20137.75617991489\t 30.55204392634667\t 2.9199781394702726\t 4.220784426293635\n",
            "4  \t [-1.15534621 -2.28837514]\t 345.73044686017613\t 30.55204392634667\t 2.8699896331044985\t 4.214032034263336\n",
            "\u001b[1m\u001b[92m5\u001b[0m\t \u001b[1m\u001b[92m[1.39754606 0.34319314]\u001b[0m\t \u001b[1m\u001b[92m3.021744266026171\u001b[0m\t \u001b[1m\u001b[92m3.021744266026171\u001b[0m\t \u001b[1m\u001b[92m3.076037628644954\u001b[0m\t \u001b[1m\u001b[92m4.000270731691046\u001b[0m\n",
            "6  \t [ 3.64426552 -4.37676538]\t 98987.42794527693\t 3.021744266026171\t 3.1051605161890627\t 4.063200977250318\n",
            "7  \t [-4.38889403 -0.58971467]\t 160.6306713075977\t 3.021744266026171\t 3.5030609168971707\t 3.5131906082485322\n",
            "8  \t [-0.42972123 -3.98253406]\t 942.2938662104831\t 3.021744266026171\t 2.876330857752816\t 3.487767654417669\n",
            "9  \t [4.5 4.5]\t 174813.36328125\t 3.021744266026171\t 3.047840422883421\t 4.029469739741995\n",
            "10 \t [3.98674004 1.1180985 ]\t 32.160229924591725\t 3.021744266026171\t 2.3782568871759495\t 3.0081214550431836\n",
            "11 \t [2.04195437 1.97427677]\t 344.45193662659625\t 3.021744266026171\t 2.5076072593517944\t 3.0300935317997912\n",
            "\u001b[1m\u001b[92m12\u001b[0m\t \u001b[1m\u001b[92m[-0.41764343  1.9653736 ]\u001b[0m\t \u001b[1m\u001b[92m2.331172712027246\u001b[0m\t \u001b[1m\u001b[92m2.331172712027246\u001b[0m\t \u001b[1m\u001b[92m2.34837271098731\u001b[0m\t \u001b[1m\u001b[92m3.662634762595278\u001b[0m\n",
            "13 \t [-2.66730485 -0.80761455]\t 94.91212067573618\t 2.331172712027246\t 2.598243732349502\t 3.2754741560882783\n",
            "14 \t [ 1.9001035  -1.14930909]\t 19.519226189880897\t 2.331172712027246\t 2.191150868185382\t 2.797246000571124\n",
            "15 \t [ 0.10913639 -1.05750347]\t 12.444347021554348\t 2.331172712027246\t 2.0412370138052522\t 3.238362319423451\n",
            "\u001b[1m\u001b[92m16\u001b[0m\t \u001b[1m\u001b[92m[-2.3807867   1.39004687]\u001b[0m\t \u001b[1m\u001b[92m2.2560263511194645\u001b[0m\t \u001b[1m\u001b[92m2.2560263511194645\u001b[0m\t \u001b[1m\u001b[92m2.1549128456832083\u001b[0m\t \u001b[1m\u001b[92m2.8222207489583258\u001b[0m\n",
            "\u001b[1m\u001b[92m17\u001b[0m\t \u001b[1m\u001b[92m[2.84694105 0.28097145]\u001b[0m\t \u001b[1m\u001b[92m0.46298383055803555\u001b[0m\t \u001b[1m\u001b[92m0.46298383055803555\u001b[0m\t \u001b[1m\u001b[92m2.2282383815716624\u001b[0m\t \u001b[1m\u001b[92m3.0739895766941188\u001b[0m\n",
            "18 \t [-2.99063691 -2.42776643]\t 2635.019268659018\t 0.46298383055803555\t 2.768428517438322\t 3.085753519954531\n",
            "19 \t [-4.4197271   3.28438851]\t 24118.704178681943\t 0.46298383055803555\t 2.4395850363068976\t 3.327444842575382\n",
            "20 \t [-1.86645817 -4.17768772]\t 20697.69039484289\t 0.46298383055803555\t 2.152364193893509\t 2.8673384840123677\n"
          ]
        }
      ],
      "source": [
        "### EXACT STP EI GRADIENTS\n",
        "\n",
        "np.random.seed(run_num_20)\n",
        "surrogate_exact_20 = dtStudentProcess(cov_func, optimize=opt, nu = df)\n",
        "\n",
        "exact_20 = dGPGO(surrogate_exact_20, Acquisition_grad(util), objfunc, param)\n",
        "exact_20.run(init_evals=n_init, max_iter=iters)\n"
      ]
    },
    {
      "cell_type": "code",
      "execution_count": 54,
      "metadata": {
        "id": "5c8szjivRPme",
        "colab": {
          "base_uri": "https://localhost:8080/"
        },
        "outputId": "5d118178-a16f-49d6-abfd-6bc079f43012"
      },
      "outputs": [
        {
          "output_type": "execute_result",
          "data": {
            "text/plain": [
              "1028.9810876846313"
            ]
          },
          "metadata": {},
          "execution_count": 54
        }
      ],
      "source": [
        "end_exact = time.time()\n",
        "end_exact\n",
        "\n",
        "time_exact = end_exact - start_exact\n",
        "time_exact\n"
      ]
    },
    {
      "cell_type": "code",
      "execution_count": 55,
      "metadata": {
        "id": "f6gCKnp6RR8c",
        "colab": {
          "base_uri": "https://localhost:8080/"
        },
        "outputId": "312db10a-a84f-407d-ac16-cbadb82a49d2"
      },
      "outputs": [
        {
          "output_type": "execute_result",
          "data": {
            "text/plain": [
              "(-0.10044002963099902, -0.23357425039576601)"
            ]
          },
          "metadata": {},
          "execution_count": 55
        }
      ],
      "source": [
        "### Simple regret minimization: run number = 1\n",
        "\n",
        "approx_output_1 = np.append(np.min(-approx_1.GP.y[0:n_init]),-approx_1.GP.y[n_init:(n_init+iters)]) \n",
        "exact_output_1 = np.append(np.min(-exact_1.GP.y[0:n_init]),-exact_1.GP.y[n_init:(n_init+iters)]) \n",
        "\n",
        "regret_approx_1 = np.log(approx_output_1 - y_global_orig)\n",
        "regret_exact_1 = np.log(exact_output_1 - y_global_orig)\n",
        "\n",
        "simple_regret_approx_1 = min_max_array(regret_approx_1)\n",
        "simple_regret_exact_1 = min_max_array(regret_exact_1)\n",
        "\n",
        "min_simple_regret_approx_1 = min(simple_regret_approx_1)\n",
        "min_simple_regret_exact_1 = min(simple_regret_exact_1)\n",
        "\n",
        "min_simple_regret_approx_1, min_simple_regret_exact_1\n"
      ]
    },
    {
      "cell_type": "code",
      "execution_count": 56,
      "metadata": {
        "id": "94yBw5tqQxfk",
        "colab": {
          "base_uri": "https://localhost:8080/"
        },
        "outputId": "c7f24d3b-5e5d-4508-90af-a4d8483bdfc8"
      },
      "outputs": [
        {
          "output_type": "execute_result",
          "data": {
            "text/plain": [
              "(-2.08454756410053, 0.06445954496887692)"
            ]
          },
          "metadata": {},
          "execution_count": 56
        }
      ],
      "source": [
        "### Simple regret minimization: run number = 2\n",
        "\n",
        "approx_output_2 = np.append(np.min(-approx_2.GP.y[0:n_init]),-approx_2.GP.y[n_init:(n_init+iters)]) \n",
        "exact_output_2 = np.append(np.min(-exact_2.GP.y[0:n_init]),-exact_2.GP.y[n_init:(n_init+iters)]) \n",
        "\n",
        "regret_approx_2 = np.log(approx_output_2 - y_global_orig)\n",
        "regret_exact_2 = np.log(exact_output_2 - y_global_orig)\n",
        "\n",
        "simple_regret_approx_2 = min_max_array(regret_approx_2)\n",
        "simple_regret_exact_2 = min_max_array(regret_exact_2)\n",
        "\n",
        "min_simple_regret_approx_2 = min(simple_regret_approx_2)\n",
        "min_simple_regret_exact_2 = min(simple_regret_exact_2)\n",
        "\n",
        "min_simple_regret_approx_2, min_simple_regret_exact_2\n"
      ]
    },
    {
      "cell_type": "code",
      "execution_count": 57,
      "metadata": {
        "id": "Bu6SBWALQxfl",
        "colab": {
          "base_uri": "https://localhost:8080/"
        },
        "outputId": "bae83fc5-9fb4-4a9f-f02c-eef4f13e9a10"
      },
      "outputs": [
        {
          "output_type": "execute_result",
          "data": {
            "text/plain": [
              "(-0.2897573853922521, 0.47365973008294315)"
            ]
          },
          "metadata": {},
          "execution_count": 57
        }
      ],
      "source": [
        "### Simple regret minimization: run number = 3\n",
        "\n",
        "approx_output_3 = np.append(np.min(-approx_3.GP.y[0:n_init]),-approx_3.GP.y[n_init:(n_init+iters)]) \n",
        "exact_output_3 = np.append(np.min(-exact_3.GP.y[0:n_init]),-exact_3.GP.y[n_init:(n_init+iters)]) \n",
        "\n",
        "regret_approx_3 = np.log(approx_output_3 - y_global_orig)\n",
        "regret_exact_3 = np.log(exact_output_3 - y_global_orig)\n",
        "\n",
        "simple_regret_approx_3 = min_max_array(regret_approx_3)\n",
        "simple_regret_exact_3 = min_max_array(regret_exact_3)\n",
        "\n",
        "min_simple_regret_approx_3 = min(simple_regret_approx_3)\n",
        "min_simple_regret_exact_3 = min(simple_regret_exact_3)\n",
        "\n",
        "min_simple_regret_approx_3, min_simple_regret_exact_3"
      ]
    },
    {
      "cell_type": "code",
      "execution_count": 58,
      "metadata": {
        "id": "AZm0jgxkQxfm",
        "colab": {
          "base_uri": "https://localhost:8080/"
        },
        "outputId": "b742b9a9-2ee5-416e-da56-5c6415f3a23e"
      },
      "outputs": [
        {
          "output_type": "execute_result",
          "data": {
            "text/plain": [
              "(1.345729016312703, 1.345729016312703)"
            ]
          },
          "metadata": {},
          "execution_count": 58
        }
      ],
      "source": [
        "### Simple regret minimization: run number = 4\n",
        "\n",
        "approx_output_4 = np.append(np.min(-approx_4.GP.y[0:n_init]),-approx_4.GP.y[n_init:(n_init+iters)]) \n",
        "exact_output_4 = np.append(np.min(-exact_4.GP.y[0:n_init]),-exact_4.GP.y[n_init:(n_init+iters)]) \n",
        "\n",
        "regret_approx_4 = np.log(approx_output_4 - y_global_orig)\n",
        "regret_exact_4 = np.log(exact_output_4 - y_global_orig)\n",
        "\n",
        "simple_regret_approx_4 = min_max_array(regret_approx_4)\n",
        "simple_regret_exact_4 = min_max_array(regret_exact_4)\n",
        "\n",
        "min_simple_regret_approx_4 = min(simple_regret_approx_4)\n",
        "min_simple_regret_exact_4 = min(simple_regret_exact_4)\n",
        "\n",
        "min_simple_regret_approx_4, min_simple_regret_exact_4"
      ]
    },
    {
      "cell_type": "code",
      "execution_count": 59,
      "metadata": {
        "id": "NONPm8JIQxfn",
        "colab": {
          "base_uri": "https://localhost:8080/"
        },
        "outputId": "e403267e-7fbd-40b3-d582-6d09eecffe9d"
      },
      "outputs": [
        {
          "output_type": "execute_result",
          "data": {
            "text/plain": [
              "(-1.1666865916873388, -1.1666865916873388)"
            ]
          },
          "metadata": {},
          "execution_count": 59
        }
      ],
      "source": [
        "### Simple regret minimization: run number = 5\n",
        "\n",
        "approx_output_5 = np.append(np.min(-approx_5.GP.y[0:n_init]),-approx_5.GP.y[n_init:(n_init+iters)]) \n",
        "exact_output_5 = np.append(np.min(-exact_5.GP.y[0:n_init]),-exact_5.GP.y[n_init:(n_init+iters)]) \n",
        "\n",
        "regret_approx_5 = np.log(approx_output_5 - y_global_orig)\n",
        "regret_exact_5 = np.log(exact_output_5 - y_global_orig)\n",
        "\n",
        "simple_regret_approx_5 = min_max_array(regret_approx_5)\n",
        "simple_regret_exact_5 = min_max_array(regret_exact_5)\n",
        "\n",
        "min_simple_regret_approx_5 = min(simple_regret_approx_5)\n",
        "min_simple_regret_exact_5 = min(simple_regret_exact_5)\n",
        "\n",
        "min_simple_regret_approx_5, min_simple_regret_exact_5"
      ]
    },
    {
      "cell_type": "code",
      "execution_count": 60,
      "metadata": {
        "id": "CJv3lPuSQxfp",
        "colab": {
          "base_uri": "https://localhost:8080/"
        },
        "outputId": "2661abef-0446-4f67-fd9b-555b9d03746d"
      },
      "outputs": [
        {
          "output_type": "execute_result",
          "data": {
            "text/plain": [
              "(1.8414111021319293, -1.6084434321723933)"
            ]
          },
          "metadata": {},
          "execution_count": 60
        }
      ],
      "source": [
        "### Simple regret minimization: run number = 6\n",
        "\n",
        "approx_output_6 = np.append(np.min(-approx_6.GP.y[0:n_init]),-approx_6.GP.y[n_init:(n_init+iters)]) \n",
        "exact_output_6 = np.append(np.min(-exact_6.GP.y[0:n_init]),-exact_6.GP.y[n_init:(n_init+iters)]) \n",
        "\n",
        "regret_approx_6 = np.log(approx_output_6 - y_global_orig)\n",
        "regret_exact_6 = np.log(exact_output_6 - y_global_orig)\n",
        "\n",
        "simple_regret_approx_6 = min_max_array(regret_approx_6)\n",
        "simple_regret_exact_6 = min_max_array(regret_exact_6)\n",
        "\n",
        "min_simple_regret_approx_6 = min(simple_regret_approx_6)\n",
        "min_simple_regret_exact_6 = min(simple_regret_exact_6)\n",
        "\n",
        "min_simple_regret_approx_6, min_simple_regret_exact_6"
      ]
    },
    {
      "cell_type": "code",
      "execution_count": 61,
      "metadata": {
        "id": "quR2ZyApQxfq",
        "colab": {
          "base_uri": "https://localhost:8080/"
        },
        "outputId": "417feb03-5236-4f5a-ab11-2e768dd8d963"
      },
      "outputs": [
        {
          "output_type": "execute_result",
          "data": {
            "text/plain": [
              "(1.087784678899565, -2.378176698443227)"
            ]
          },
          "metadata": {},
          "execution_count": 61
        }
      ],
      "source": [
        "### Simple regret minimization: run number = 7\n",
        "\n",
        "approx_output_7 = np.append(np.min(-approx_7.GP.y[0:n_init]),-approx_7.GP.y[n_init:(n_init+iters)]) \n",
        "exact_output_7 = np.append(np.min(-exact_7.GP.y[0:n_init]),-exact_7.GP.y[n_init:(n_init+iters)]) \n",
        "\n",
        "regret_approx_7 = np.log(approx_output_7 - y_global_orig)\n",
        "regret_exact_7 = np.log(exact_output_7 - y_global_orig)\n",
        "\n",
        "simple_regret_approx_7 = min_max_array(regret_approx_7)\n",
        "simple_regret_exact_7 = min_max_array(regret_exact_7)\n",
        "\n",
        "min_simple_regret_approx_7 = min(simple_regret_approx_7)\n",
        "min_simple_regret_exact_7 = min(simple_regret_exact_7)\n",
        "\n",
        "min_simple_regret_approx_7, min_simple_regret_exact_7"
      ]
    },
    {
      "cell_type": "code",
      "execution_count": 62,
      "metadata": {
        "id": "99wY5nK6Qxfr",
        "colab": {
          "base_uri": "https://localhost:8080/"
        },
        "outputId": "a553e19d-46be-4a30-804e-637d8f36e109"
      },
      "outputs": [
        {
          "output_type": "execute_result",
          "data": {
            "text/plain": [
              "(0.6255826754918475, 0.6255826754918475)"
            ]
          },
          "metadata": {},
          "execution_count": 62
        }
      ],
      "source": [
        "### Simple regret minimization: run number = 8\n",
        "\n",
        "approx_output_8 = np.append(np.min(-approx_8.GP.y[0:n_init]),-approx_8.GP.y[n_init:(n_init+iters)]) \n",
        "exact_output_8 = np.append(np.min(-exact_8.GP.y[0:n_init]),-exact_8.GP.y[n_init:(n_init+iters)]) \n",
        "\n",
        "regret_approx_8 = np.log(approx_output_8 - y_global_orig)\n",
        "regret_exact_8 = np.log(exact_output_8 - y_global_orig)\n",
        "\n",
        "simple_regret_approx_8 = min_max_array(regret_approx_8)\n",
        "simple_regret_exact_8 = min_max_array(regret_exact_8)\n",
        "\n",
        "min_simple_regret_approx_8 = min(simple_regret_approx_8)\n",
        "min_simple_regret_exact_8 = min(simple_regret_exact_8)\n",
        "\n",
        "min_simple_regret_approx_8, min_simple_regret_exact_8"
      ]
    },
    {
      "cell_type": "code",
      "execution_count": 63,
      "metadata": {
        "id": "qt0P5t9qQxfs",
        "colab": {
          "base_uri": "https://localhost:8080/"
        },
        "outputId": "922aca70-fe31-4ca5-ba77-4f86375cb5d3"
      },
      "outputs": [
        {
          "output_type": "execute_result",
          "data": {
            "text/plain": [
              "(-0.5044765506613003, 1.3896175128855641)"
            ]
          },
          "metadata": {},
          "execution_count": 63
        }
      ],
      "source": [
        "### Simple regret minimization: run number = 9\n",
        "\n",
        "approx_output_9 = np.append(np.min(-approx_9.GP.y[0:n_init]),-approx_9.GP.y[n_init:(n_init+iters)]) \n",
        "exact_output_9 = np.append(np.min(-exact_9.GP.y[0:n_init]),-exact_9.GP.y[n_init:(n_init+iters)]) \n",
        "\n",
        "regret_approx_9 = np.log(approx_output_9 - y_global_orig)\n",
        "regret_exact_9 = np.log(exact_output_9 - y_global_orig)\n",
        "\n",
        "simple_regret_approx_9 = min_max_array(regret_approx_9)\n",
        "simple_regret_exact_9 = min_max_array(regret_exact_9)\n",
        "\n",
        "min_simple_regret_approx_9 = min(simple_regret_approx_9)\n",
        "min_simple_regret_exact_9 = min(simple_regret_exact_9)\n",
        "\n",
        "min_simple_regret_approx_9, min_simple_regret_exact_9"
      ]
    },
    {
      "cell_type": "code",
      "execution_count": 64,
      "metadata": {
        "id": "vx8to9stQxft",
        "colab": {
          "base_uri": "https://localhost:8080/"
        },
        "outputId": "f95c0cc7-2440-4fe8-c21a-12d5bb98c556"
      },
      "outputs": [
        {
          "output_type": "execute_result",
          "data": {
            "text/plain": [
              "(0.7504074977957486, 0.9593291830443013)"
            ]
          },
          "metadata": {},
          "execution_count": 64
        }
      ],
      "source": [
        "### Simple regret minimization: run number = 10\n",
        "\n",
        "approx_output_10 = np.append(np.min(-approx_10.GP.y[0:n_init]),-approx_10.GP.y[n_init:(n_init+iters)]) \n",
        "exact_output_10 = np.append(np.min(-exact_10.GP.y[0:n_init]),-exact_10.GP.y[n_init:(n_init+iters)]) \n",
        "\n",
        "regret_approx_10 = np.log(approx_output_10 - y_global_orig)\n",
        "regret_exact_10 = np.log(exact_output_10 - y_global_orig)\n",
        "\n",
        "simple_regret_approx_10 = min_max_array(regret_approx_10)\n",
        "simple_regret_exact_10 = min_max_array(regret_exact_10)\n",
        "\n",
        "min_simple_regret_approx_10 = min(simple_regret_approx_10)\n",
        "min_simple_regret_exact_10 = min(simple_regret_exact_10)\n",
        "\n",
        "min_simple_regret_approx_10, min_simple_regret_exact_10"
      ]
    },
    {
      "cell_type": "code",
      "execution_count": 65,
      "metadata": {
        "id": "d-FGzWyHQxfu",
        "colab": {
          "base_uri": "https://localhost:8080/"
        },
        "outputId": "dbe6ecc1-ede1-4454-e774-bd25c1be8054"
      },
      "outputs": [
        {
          "output_type": "execute_result",
          "data": {
            "text/plain": [
              "(0.1094389287367931, -1.3196483061408846)"
            ]
          },
          "metadata": {},
          "execution_count": 65
        }
      ],
      "source": [
        "### Simple regret minimization: run number = 11\n",
        "\n",
        "approx_output_11 = np.append(np.min(-approx_11.GP.y[0:n_init]),-approx_11.GP.y[n_init:(n_init+iters)]) \n",
        "exact_output_11 = np.append(np.min(-exact_11.GP.y[0:n_init]),-exact_11.GP.y[n_init:(n_init+iters)]) \n",
        "\n",
        "regret_approx_11 = np.log(approx_output_11 - y_global_orig)\n",
        "regret_exact_11 = np.log(exact_output_11 - y_global_orig)\n",
        "\n",
        "simple_regret_approx_11 = min_max_array(regret_approx_11)\n",
        "simple_regret_exact_11 = min_max_array(regret_exact_11)\n",
        "\n",
        "min_simple_regret_approx_11 = min(simple_regret_approx_11)\n",
        "min_simple_regret_exact_11 = min(simple_regret_exact_11)\n",
        "\n",
        "min_simple_regret_approx_11, min_simple_regret_exact_11"
      ]
    },
    {
      "cell_type": "code",
      "execution_count": 66,
      "metadata": {
        "id": "SvtsssyjQxfv",
        "colab": {
          "base_uri": "https://localhost:8080/"
        },
        "outputId": "7e8a0643-e674-49a2-fe36-1a72c920fabc"
      },
      "outputs": [
        {
          "output_type": "execute_result",
          "data": {
            "text/plain": [
              "(0.21886916222302366, -2.057707451170901)"
            ]
          },
          "metadata": {},
          "execution_count": 66
        }
      ],
      "source": [
        "### Simple regret minimization: run number = 12\n",
        "\n",
        "approx_output_12 = np.append(np.min(-approx_12.GP.y[0:n_init]),-approx_12.GP.y[n_init:(n_init+iters)]) \n",
        "exact_output_12 = np.append(np.min(-exact_12.GP.y[0:n_init]),-exact_12.GP.y[n_init:(n_init+iters)]) \n",
        "\n",
        "regret_approx_12 = np.log(approx_output_12 - y_global_orig)\n",
        "regret_exact_12 = np.log(exact_output_12 - y_global_orig)\n",
        "\n",
        "simple_regret_approx_12 = min_max_array(regret_approx_12)\n",
        "simple_regret_exact_12 = min_max_array(regret_exact_12)\n",
        "\n",
        "min_simple_regret_approx_12 = min(simple_regret_approx_12)\n",
        "min_simple_regret_exact_12 = min(simple_regret_exact_12)\n",
        "\n",
        "min_simple_regret_approx_12, min_simple_regret_exact_12"
      ]
    },
    {
      "cell_type": "code",
      "execution_count": 67,
      "metadata": {
        "id": "K6OiGcHkQxfw",
        "colab": {
          "base_uri": "https://localhost:8080/"
        },
        "outputId": "d7f72147-7163-404e-82dd-fc5a5cf98a75"
      },
      "outputs": [
        {
          "output_type": "execute_result",
          "data": {
            "text/plain": [
              "(-0.23736946458108688, 0.5477500082534937)"
            ]
          },
          "metadata": {},
          "execution_count": 67
        }
      ],
      "source": [
        "### Simple regret minimization: run number = 13\n",
        "\n",
        "approx_output_13 = np.append(np.min(-approx_13.GP.y[0:n_init]),-approx_13.GP.y[n_init:(n_init+iters)]) \n",
        "exact_output_13 = np.append(np.min(-exact_13.GP.y[0:n_init]),-exact_13.GP.y[n_init:(n_init+iters)]) \n",
        "\n",
        "regret_approx_13 = np.log(approx_output_13 - y_global_orig)\n",
        "regret_exact_13 = np.log(exact_output_13 - y_global_orig)\n",
        "\n",
        "simple_regret_approx_13 = min_max_array(regret_approx_13)\n",
        "simple_regret_exact_13 = min_max_array(regret_exact_13)\n",
        "\n",
        "min_simple_regret_approx_13 = min(simple_regret_approx_13)\n",
        "min_simple_regret_exact_13 = min(simple_regret_exact_13)\n",
        "\n",
        "min_simple_regret_approx_13, min_simple_regret_exact_13"
      ]
    },
    {
      "cell_type": "code",
      "execution_count": 68,
      "metadata": {
        "id": "ogML73shQxfx",
        "colab": {
          "base_uri": "https://localhost:8080/"
        },
        "outputId": "a1d5fdc5-e741-42b2-9eaf-9af02296f222"
      },
      "outputs": [
        {
          "output_type": "execute_result",
          "data": {
            "text/plain": [
              "(1.3411724516823575, 1.2799833839615384)"
            ]
          },
          "metadata": {},
          "execution_count": 68
        }
      ],
      "source": [
        "### Simple regret minimization: run number = 14\n",
        "\n",
        "approx_output_14 = np.append(np.min(-approx_14.GP.y[0:n_init]),-approx_14.GP.y[n_init:(n_init+iters)]) \n",
        "exact_output_14 = np.append(np.min(-exact_14.GP.y[0:n_init]),-exact_14.GP.y[n_init:(n_init+iters)]) \n",
        "\n",
        "regret_approx_14 = np.log(approx_output_14 - y_global_orig)\n",
        "regret_exact_14 = np.log(exact_output_14 - y_global_orig)\n",
        "\n",
        "simple_regret_approx_14 = min_max_array(regret_approx_14)\n",
        "simple_regret_exact_14 = min_max_array(regret_exact_14)\n",
        "\n",
        "min_simple_regret_approx_14 = min(simple_regret_approx_14)\n",
        "min_simple_regret_exact_14 = min(simple_regret_exact_14)\n",
        "\n",
        "min_simple_regret_approx_14, min_simple_regret_exact_14"
      ]
    },
    {
      "cell_type": "code",
      "execution_count": 69,
      "metadata": {
        "id": "9Eg7gFT9Qxfx",
        "colab": {
          "base_uri": "https://localhost:8080/"
        },
        "outputId": "8af47e82-1a48-4ec7-95ef-434ae64e3574"
      },
      "outputs": [
        {
          "output_type": "execute_result",
          "data": {
            "text/plain": [
              "(0.856397002417729, 0.9897133779893232)"
            ]
          },
          "metadata": {},
          "execution_count": 69
        }
      ],
      "source": [
        "### Simple regret minimization: run number = 15\n",
        "\n",
        "approx_output_15 = np.append(np.min(-approx_15.GP.y[0:n_init]),-approx_15.GP.y[n_init:(n_init+iters)]) \n",
        "exact_output_15 = np.append(np.min(-exact_15.GP.y[0:n_init]),-exact_15.GP.y[n_init:(n_init+iters)]) \n",
        "\n",
        "regret_approx_15 = np.log(approx_output_15 - y_global_orig)\n",
        "regret_exact_15 = np.log(exact_output_15 - y_global_orig)\n",
        "\n",
        "simple_regret_approx_15 = min_max_array(regret_approx_15)\n",
        "simple_regret_exact_15 = min_max_array(regret_exact_15)\n",
        "\n",
        "min_simple_regret_approx_15 = min(simple_regret_approx_15)\n",
        "min_simple_regret_exact_15 = min(simple_regret_exact_15)\n",
        "\n",
        "min_simple_regret_approx_15, min_simple_regret_exact_15"
      ]
    },
    {
      "cell_type": "code",
      "execution_count": 70,
      "metadata": {
        "id": "lIAC1U7ZQxfy",
        "colab": {
          "base_uri": "https://localhost:8080/"
        },
        "outputId": "22b3bb86-b483-48d3-e851-b1e3fe7f8ceb"
      },
      "outputs": [
        {
          "output_type": "execute_result",
          "data": {
            "text/plain": [
              "(-0.13941479165458398, 1.526754028745033)"
            ]
          },
          "metadata": {},
          "execution_count": 70
        }
      ],
      "source": [
        "### Simple regret minimization: run number = 16\n",
        "\n",
        "approx_output_16 = np.append(np.min(-approx_16.GP.y[0:n_init]),-approx_16.GP.y[n_init:(n_init+iters)]) \n",
        "exact_output_16 = np.append(np.min(-exact_16.GP.y[0:n_init]),-exact_16.GP.y[n_init:(n_init+iters)]) \n",
        "\n",
        "regret_approx_16 = np.log(approx_output_16 - y_global_orig)\n",
        "regret_exact_16 = np.log(exact_output_16 - y_global_orig)\n",
        "\n",
        "simple_regret_approx_16 = min_max_array(regret_approx_16)\n",
        "simple_regret_exact_16 = min_max_array(regret_exact_16)\n",
        "\n",
        "min_simple_regret_approx_16 = min(simple_regret_approx_16)\n",
        "min_simple_regret_exact_16 = min(simple_regret_exact_16)\n",
        "\n",
        "min_simple_regret_approx_16, min_simple_regret_exact_16"
      ]
    },
    {
      "cell_type": "code",
      "execution_count": 71,
      "metadata": {
        "id": "bGott36OQxfz",
        "colab": {
          "base_uri": "https://localhost:8080/"
        },
        "outputId": "fb115db2-8784-4eb6-9c28-86efbd45f630"
      },
      "outputs": [
        {
          "output_type": "execute_result",
          "data": {
            "text/plain": [
              "(1.9303066691801607, 1.9303066691801607)"
            ]
          },
          "metadata": {},
          "execution_count": 71
        }
      ],
      "source": [
        "### Simple regret minimization: run number = 17\n",
        "\n",
        "approx_output_17 = np.append(np.min(-approx_17.GP.y[0:n_init]),-approx_17.GP.y[n_init:(n_init+iters)]) \n",
        "exact_output_17 = np.append(np.min(-exact_17.GP.y[0:n_init]),-exact_17.GP.y[n_init:(n_init+iters)]) \n",
        "\n",
        "regret_approx_17 = np.log(approx_output_17 - y_global_orig)\n",
        "regret_exact_17 = np.log(exact_output_17 - y_global_orig)\n",
        "\n",
        "simple_regret_approx_17 = min_max_array(regret_approx_17)\n",
        "simple_regret_exact_17 = min_max_array(regret_exact_17)\n",
        "\n",
        "min_simple_regret_approx_17 = min(simple_regret_approx_17)\n",
        "min_simple_regret_exact_17 = min(simple_regret_exact_17)\n",
        "\n",
        "min_simple_regret_approx_17, min_simple_regret_exact_17"
      ]
    },
    {
      "cell_type": "code",
      "execution_count": 72,
      "metadata": {
        "id": "Cz9ZYMBMQxfz",
        "colab": {
          "base_uri": "https://localhost:8080/"
        },
        "outputId": "a2ce03c2-0de2-4b53-d69f-859f1a25d0a5"
      },
      "outputs": [
        {
          "output_type": "execute_result",
          "data": {
            "text/plain": [
              "(-0.49427609967432545, 0.9052915200747084)"
            ]
          },
          "metadata": {},
          "execution_count": 72
        }
      ],
      "source": [
        "### Simple regret minimization: run number = 18\n",
        "\n",
        "approx_output_18 = np.append(np.min(-approx_18.GP.y[0:n_init]),-approx_18.GP.y[n_init:(n_init+iters)]) \n",
        "exact_output_18 = np.append(np.min(-exact_18.GP.y[0:n_init]),-exact_18.GP.y[n_init:(n_init+iters)]) \n",
        "\n",
        "regret_approx_18 = np.log(approx_output_18 - y_global_orig)\n",
        "regret_exact_18 = np.log(exact_output_18 - y_global_orig)\n",
        "\n",
        "simple_regret_approx_18 = min_max_array(regret_approx_18)\n",
        "simple_regret_exact_18 = min_max_array(regret_exact_18)\n",
        "\n",
        "min_simple_regret_approx_18 = min(simple_regret_approx_18)\n",
        "min_simple_regret_exact_18 = min(simple_regret_exact_18)\n",
        "\n",
        "min_simple_regret_approx_18, min_simple_regret_exact_18"
      ]
    },
    {
      "cell_type": "code",
      "execution_count": 73,
      "metadata": {
        "id": "OBfpWOHNQxf0",
        "colab": {
          "base_uri": "https://localhost:8080/"
        },
        "outputId": "08a72e5b-9eb1-4ca9-c6b9-f769c7608852"
      },
      "outputs": [
        {
          "output_type": "execute_result",
          "data": {
            "text/plain": [
              "(1.3596677603946732, 1.3928278595697323)"
            ]
          },
          "metadata": {},
          "execution_count": 73
        }
      ],
      "source": [
        "### Simple regret minimization: run number = 19\n",
        "\n",
        "approx_output_19 = np.append(np.min(-approx_19.GP.y[0:n_init]),-approx_19.GP.y[n_init:(n_init+iters)]) \n",
        "exact_output_19 = np.append(np.min(-exact_19.GP.y[0:n_init]),-exact_19.GP.y[n_init:(n_init+iters)]) \n",
        "\n",
        "regret_approx_19 = np.log(approx_output_19 - y_global_orig)\n",
        "regret_exact_19 = np.log(exact_output_19 - y_global_orig)\n",
        "\n",
        "simple_regret_approx_19 = min_max_array(regret_approx_19)\n",
        "simple_regret_exact_19 = min_max_array(regret_exact_19)\n",
        "\n",
        "min_simple_regret_approx_19 = min(simple_regret_approx_19)\n",
        "min_simple_regret_exact_19 = min(simple_regret_exact_19)\n",
        "\n",
        "min_simple_regret_approx_19, min_simple_regret_exact_19"
      ]
    },
    {
      "cell_type": "code",
      "execution_count": 74,
      "metadata": {
        "id": "BE1AJ7NsQxf0",
        "colab": {
          "base_uri": "https://localhost:8080/"
        },
        "outputId": "3bd9441f-b4b2-4576-ff4b-753372393e25"
      },
      "outputs": [
        {
          "output_type": "execute_result",
          "data": {
            "text/plain": [
              "(0.33968014341541636, -0.7700631487065193)"
            ]
          },
          "metadata": {},
          "execution_count": 74
        }
      ],
      "source": [
        "### Simple regret minimization: run number = 20\n",
        "\n",
        "approx_output_20 = np.append(np.min(-approx_20.GP.y[0:n_init]),-approx_20.GP.y[n_init:(n_init+iters)]) \n",
        "exact_output_20 = np.append(np.min(-exact_20.GP.y[0:n_init]),-exact_20.GP.y[n_init:(n_init+iters)]) \n",
        "\n",
        "regret_approx_20 = np.log(approx_output_20 - y_global_orig)\n",
        "regret_exact_20 = np.log(exact_output_20 - y_global_orig)\n",
        "\n",
        "simple_regret_approx_20 = min_max_array(regret_approx_20)\n",
        "simple_regret_exact_20 = min_max_array(regret_exact_20)\n",
        "\n",
        "min_simple_regret_approx_20 = min(simple_regret_approx_20)\n",
        "min_simple_regret_exact_20 = min(simple_regret_exact_20)\n",
        "\n",
        "min_simple_regret_approx_20, min_simple_regret_exact_20"
      ]
    },
    {
      "cell_type": "code",
      "execution_count": 75,
      "metadata": {
        "id": "bpX-bKAHQxf1"
      },
      "outputs": [],
      "source": [
        "# Iteration1 :\n",
        "\n",
        "slice1 = 0\n",
        "\n",
        "approx1 = [simple_regret_approx_1[slice1],\n",
        "       simple_regret_approx_2[slice1],\n",
        "       simple_regret_approx_3[slice1],\n",
        "       simple_regret_approx_4[slice1],\n",
        "       simple_regret_approx_5[slice1],\n",
        "       simple_regret_approx_6[slice1],\n",
        "       simple_regret_approx_7[slice1],\n",
        "       simple_regret_approx_8[slice1],\n",
        "       simple_regret_approx_9[slice1],\n",
        "       simple_regret_approx_10[slice1],\n",
        "       simple_regret_approx_11[slice1],\n",
        "       simple_regret_approx_12[slice1],\n",
        "       simple_regret_approx_13[slice1],\n",
        "       simple_regret_approx_14[slice1],\n",
        "       simple_regret_approx_15[slice1],\n",
        "       simple_regret_approx_16[slice1],\n",
        "       simple_regret_approx_17[slice1],\n",
        "       simple_regret_approx_18[slice1],\n",
        "       simple_regret_approx_19[slice1],\n",
        "       simple_regret_approx_20[slice1]]\n",
        "\n",
        "exact1 = [simple_regret_exact_1[slice1],\n",
        "       simple_regret_exact_2[slice1],\n",
        "       simple_regret_exact_3[slice1],\n",
        "       simple_regret_exact_4[slice1],\n",
        "       simple_regret_exact_5[slice1],\n",
        "       simple_regret_exact_6[slice1],\n",
        "       simple_regret_exact_7[slice1],\n",
        "       simple_regret_exact_8[slice1],\n",
        "       simple_regret_exact_9[slice1],\n",
        "       simple_regret_exact_10[slice1],\n",
        "       simple_regret_exact_11[slice1],\n",
        "       simple_regret_exact_12[slice1],\n",
        "       simple_regret_exact_13[slice1],\n",
        "       simple_regret_exact_14[slice1],\n",
        "       simple_regret_exact_15[slice1],\n",
        "       simple_regret_exact_16[slice1],\n",
        "       simple_regret_exact_17[slice1],\n",
        "       simple_regret_exact_18[slice1],\n",
        "       simple_regret_exact_19[slice1],\n",
        "       simple_regret_exact_20[slice1]]\n",
        "\n",
        "approx1_results = pd.DataFrame(approx1).sort_values(by=[0], ascending=False)\n",
        "exact1_results = pd.DataFrame(exact1).sort_values(by=[0], ascending=False)\n",
        "\n",
        "### Best simple regret minimization IQR - approx:\n",
        "lower_approx1 = np.asarray(approx1_results[4:5][0])[0]\n",
        "median_approx1 = np.asarray(approx1_results[9:10][0])[0]\n",
        "upper_approx1 = np.asarray(approx1_results[14:15][0])[0]\n",
        "\n",
        "lower_exact1 = np.asarray(exact1_results[4:5][0])[0]\n",
        "median_exact1 = np.asarray(exact1_results[9:10][0])[0]\n",
        "upper_exact1 = np.asarray(exact1_results[14:15][0])[0]"
      ]
    },
    {
      "cell_type": "code",
      "execution_count": 76,
      "metadata": {
        "id": "CgIkJA1xQxf2"
      },
      "outputs": [],
      "source": [
        "# Iteration11 :\n",
        "\n",
        "slice11 = 10\n",
        "\n",
        "approx11 = [simple_regret_approx_1[slice11],\n",
        "       simple_regret_approx_2[slice11],\n",
        "       simple_regret_approx_3[slice11],\n",
        "       simple_regret_approx_4[slice11],\n",
        "       simple_regret_approx_5[slice11],\n",
        "       simple_regret_approx_6[slice11],\n",
        "       simple_regret_approx_7[slice11],\n",
        "       simple_regret_approx_8[slice11],\n",
        "       simple_regret_approx_9[slice11],\n",
        "       simple_regret_approx_10[slice11],\n",
        "       simple_regret_approx_11[slice11],\n",
        "       simple_regret_approx_12[slice11],\n",
        "       simple_regret_approx_13[slice11],\n",
        "       simple_regret_approx_14[slice11],\n",
        "       simple_regret_approx_15[slice11],\n",
        "       simple_regret_approx_16[slice11],\n",
        "       simple_regret_approx_17[slice11],\n",
        "       simple_regret_approx_18[slice11],\n",
        "       simple_regret_approx_19[slice11],\n",
        "       simple_regret_approx_20[slice11]]\n",
        "\n",
        "exact11 = [simple_regret_exact_1[slice11],\n",
        "       simple_regret_exact_2[slice11],\n",
        "       simple_regret_exact_3[slice11],\n",
        "       simple_regret_exact_4[slice11],\n",
        "       simple_regret_exact_5[slice11],\n",
        "       simple_regret_exact_6[slice11],\n",
        "       simple_regret_exact_7[slice11],\n",
        "       simple_regret_exact_8[slice11],\n",
        "       simple_regret_exact_9[slice11],\n",
        "       simple_regret_exact_10[slice11],\n",
        "       simple_regret_exact_11[slice11],\n",
        "       simple_regret_exact_12[slice11],\n",
        "       simple_regret_exact_13[slice11],\n",
        "       simple_regret_exact_14[slice11],\n",
        "       simple_regret_exact_15[slice11],\n",
        "       simple_regret_exact_16[slice11],\n",
        "       simple_regret_exact_17[slice11],\n",
        "       simple_regret_exact_18[slice11],\n",
        "       simple_regret_exact_19[slice11],\n",
        "       simple_regret_exact_20[slice11]]\n",
        "\n",
        "approx11_results = pd.DataFrame(approx11).sort_values(by=[0], ascending=False)\n",
        "exact11_results = pd.DataFrame(exact11).sort_values(by=[0], ascending=False)\n",
        "\n",
        "### Best simple regret minimization IQR - approx:\n",
        "lower_approx11 = np.asarray(approx11_results[4:5][0])[0]\n",
        "median_approx11 = np.asarray(approx11_results[9:10][0])[0]\n",
        "upper_approx11 = np.asarray(approx11_results[14:15][0])[0]\n",
        "\n",
        "lower_exact11 = np.asarray(exact11_results[4:5][0])[0]\n",
        "median_exact11 = np.asarray(exact11_results[9:10][0])[0]\n",
        "upper_exact11 = np.asarray(exact11_results[14:15][0])[0]"
      ]
    },
    {
      "cell_type": "code",
      "execution_count": 77,
      "metadata": {
        "id": "MFePDfGuQxf2"
      },
      "outputs": [],
      "source": [
        "# Iteration21 :\n",
        "\n",
        "slice21 = 20\n",
        "\n",
        "approx21 = [simple_regret_approx_1[slice21],\n",
        "       simple_regret_approx_2[slice21],\n",
        "       simple_regret_approx_3[slice21],\n",
        "       simple_regret_approx_4[slice21],\n",
        "       simple_regret_approx_5[slice21],\n",
        "       simple_regret_approx_6[slice21],\n",
        "       simple_regret_approx_7[slice21],\n",
        "       simple_regret_approx_8[slice21],\n",
        "       simple_regret_approx_9[slice21],\n",
        "       simple_regret_approx_10[slice21],\n",
        "       simple_regret_approx_11[slice21],\n",
        "       simple_regret_approx_12[slice21],\n",
        "       simple_regret_approx_13[slice21],\n",
        "       simple_regret_approx_14[slice21],\n",
        "       simple_regret_approx_15[slice21],\n",
        "       simple_regret_approx_16[slice21],\n",
        "       simple_regret_approx_17[slice21],\n",
        "       simple_regret_approx_18[slice21],\n",
        "       simple_regret_approx_19[slice21],\n",
        "       simple_regret_approx_20[slice21]]\n",
        "\n",
        "exact21 = [simple_regret_exact_1[slice21],\n",
        "       simple_regret_exact_2[slice21],\n",
        "       simple_regret_exact_3[slice21],\n",
        "       simple_regret_exact_4[slice21],\n",
        "       simple_regret_exact_5[slice21],\n",
        "       simple_regret_exact_6[slice21],\n",
        "       simple_regret_exact_7[slice21],\n",
        "       simple_regret_exact_8[slice21],\n",
        "       simple_regret_exact_9[slice21],\n",
        "       simple_regret_exact_10[slice21],\n",
        "       simple_regret_exact_11[slice21],\n",
        "       simple_regret_exact_12[slice21],\n",
        "       simple_regret_exact_13[slice21],\n",
        "       simple_regret_exact_14[slice21],\n",
        "       simple_regret_exact_15[slice21],\n",
        "       simple_regret_exact_16[slice21],\n",
        "       simple_regret_exact_17[slice21],\n",
        "       simple_regret_exact_18[slice21],\n",
        "       simple_regret_exact_19[slice21],\n",
        "       simple_regret_exact_20[slice21]]\n",
        "\n",
        "approx21_results = pd.DataFrame(approx21).sort_values(by=[0], ascending=False)\n",
        "exact21_results = pd.DataFrame(exact21).sort_values(by=[0], ascending=False)\n",
        "\n",
        "### Best simple regret minimization IQR - approx:\n",
        "lower_approx21 = np.asarray(approx21_results[4:5][0])[0]\n",
        "median_approx21 = np.asarray(approx21_results[9:10][0])[0]\n",
        "upper_approx21 = np.asarray(approx21_results[14:15][0])[0]\n",
        "\n",
        "lower_exact21 = np.asarray(exact21_results[4:5][0])[0]\n",
        "median_exact21 = np.asarray(exact21_results[9:10][0])[0]\n",
        "upper_exact21 = np.asarray(exact21_results[14:15][0])[0]"
      ]
    },
    {
      "cell_type": "code",
      "execution_count": 78,
      "metadata": {
        "id": "PrRDB1kfQxf3"
      },
      "outputs": [],
      "source": [
        "# Iteration2 :\n",
        "\n",
        "slice2 = 1\n",
        "\n",
        "approx2 = [simple_regret_approx_1[slice2],\n",
        "       simple_regret_approx_2[slice2],\n",
        "       simple_regret_approx_3[slice2],\n",
        "       simple_regret_approx_4[slice2],\n",
        "       simple_regret_approx_5[slice2],\n",
        "       simple_regret_approx_6[slice2],\n",
        "       simple_regret_approx_7[slice2],\n",
        "       simple_regret_approx_8[slice2],\n",
        "       simple_regret_approx_9[slice2],\n",
        "       simple_regret_approx_10[slice2],\n",
        "       simple_regret_approx_11[slice2],\n",
        "       simple_regret_approx_12[slice2],\n",
        "       simple_regret_approx_13[slice2],\n",
        "       simple_regret_approx_14[slice2],\n",
        "       simple_regret_approx_15[slice2],\n",
        "       simple_regret_approx_16[slice2],\n",
        "       simple_regret_approx_17[slice2],\n",
        "       simple_regret_approx_18[slice2],\n",
        "       simple_regret_approx_19[slice2],\n",
        "       simple_regret_approx_20[slice2]]\n",
        "\n",
        "exact2 = [simple_regret_exact_1[slice2],\n",
        "       simple_regret_exact_2[slice2],\n",
        "       simple_regret_exact_3[slice2],\n",
        "       simple_regret_exact_4[slice2],\n",
        "       simple_regret_exact_5[slice2],\n",
        "       simple_regret_exact_6[slice2],\n",
        "       simple_regret_exact_7[slice2],\n",
        "       simple_regret_exact_8[slice2],\n",
        "       simple_regret_exact_9[slice2],\n",
        "       simple_regret_exact_10[slice2],\n",
        "       simple_regret_exact_11[slice2],\n",
        "       simple_regret_exact_12[slice2],\n",
        "       simple_regret_exact_13[slice2],\n",
        "       simple_regret_exact_14[slice2],\n",
        "       simple_regret_exact_15[slice2],\n",
        "       simple_regret_exact_16[slice2],\n",
        "       simple_regret_exact_17[slice2],\n",
        "       simple_regret_exact_18[slice2],\n",
        "       simple_regret_exact_19[slice2],\n",
        "       simple_regret_exact_20[slice2]]\n",
        "\n",
        "approx2_results = pd.DataFrame(approx2).sort_values(by=[0], ascending=False)\n",
        "exact2_results = pd.DataFrame(exact2).sort_values(by=[0], ascending=False)\n",
        "\n",
        "### Best simple regret minimization IQR - approx:\n",
        "lower_approx2 = np.asarray(approx2_results[4:5][0])[0]\n",
        "median_approx2 = np.asarray(approx2_results[9:10][0])[0]\n",
        "upper_approx2 = np.asarray(approx2_results[14:15][0])[0]\n",
        "\n",
        "lower_exact2 = np.asarray(exact2_results[4:5][0])[0]\n",
        "median_exact2 = np.asarray(exact2_results[9:10][0])[0]\n",
        "upper_exact2 = np.asarray(exact2_results[14:15][0])[0]"
      ]
    },
    {
      "cell_type": "code",
      "execution_count": 79,
      "metadata": {
        "id": "B8ncJDYeQxf3"
      },
      "outputs": [],
      "source": [
        "# Iteration12 :\n",
        "\n",
        "slice12 = 11\n",
        "\n",
        "approx12 = [simple_regret_approx_1[slice12],\n",
        "       simple_regret_approx_2[slice12],\n",
        "       simple_regret_approx_3[slice12],\n",
        "       simple_regret_approx_4[slice12],\n",
        "       simple_regret_approx_5[slice12],\n",
        "       simple_regret_approx_6[slice12],\n",
        "       simple_regret_approx_7[slice12],\n",
        "       simple_regret_approx_8[slice12],\n",
        "       simple_regret_approx_9[slice12],\n",
        "       simple_regret_approx_10[slice12],\n",
        "       simple_regret_approx_11[slice12],\n",
        "       simple_regret_approx_12[slice12],\n",
        "       simple_regret_approx_13[slice12],\n",
        "       simple_regret_approx_14[slice12],\n",
        "       simple_regret_approx_15[slice12],\n",
        "       simple_regret_approx_16[slice12],\n",
        "       simple_regret_approx_17[slice12],\n",
        "       simple_regret_approx_18[slice12],\n",
        "       simple_regret_approx_19[slice12],\n",
        "       simple_regret_approx_20[slice12]]\n",
        "\n",
        "exact12 = [simple_regret_exact_1[slice12],\n",
        "       simple_regret_exact_2[slice12],\n",
        "       simple_regret_exact_3[slice12],\n",
        "       simple_regret_exact_4[slice12],\n",
        "       simple_regret_exact_5[slice12],\n",
        "       simple_regret_exact_6[slice12],\n",
        "       simple_regret_exact_7[slice12],\n",
        "       simple_regret_exact_8[slice12],\n",
        "       simple_regret_exact_9[slice12],\n",
        "       simple_regret_exact_10[slice12],\n",
        "       simple_regret_exact_11[slice12],\n",
        "       simple_regret_exact_12[slice12],\n",
        "       simple_regret_exact_13[slice12],\n",
        "       simple_regret_exact_14[slice12],\n",
        "       simple_regret_exact_15[slice12],\n",
        "       simple_regret_exact_16[slice12],\n",
        "       simple_regret_exact_17[slice12],\n",
        "       simple_regret_exact_18[slice12],\n",
        "       simple_regret_exact_19[slice12],\n",
        "       simple_regret_exact_20[slice12]]\n",
        "\n",
        "approx12_results = pd.DataFrame(approx12).sort_values(by=[0], ascending=False)\n",
        "exact12_results = pd.DataFrame(exact12).sort_values(by=[0], ascending=False)\n",
        "\n",
        "### Best simple regret minimization IQR - approx:\n",
        "lower_approx12 = np.asarray(approx12_results[4:5][0])[0]\n",
        "median_approx12 = np.asarray(approx12_results[9:10][0])[0]\n",
        "upper_approx12 = np.asarray(approx12_results[14:15][0])[0]\n",
        "\n",
        "lower_exact12 = np.asarray(exact12_results[4:5][0])[0]\n",
        "median_exact12 = np.asarray(exact12_results[9:10][0])[0]\n",
        "upper_exact12 = np.asarray(exact12_results[14:15][0])[0]"
      ]
    },
    {
      "cell_type": "code",
      "execution_count": 80,
      "metadata": {
        "id": "Jn4KpGvcQxf4"
      },
      "outputs": [],
      "source": [
        "# Iteration3 :\n",
        "\n",
        "slice3 = 2\n",
        "\n",
        "approx3 = [simple_regret_approx_1[slice3],\n",
        "       simple_regret_approx_2[slice3],\n",
        "       simple_regret_approx_3[slice3],\n",
        "       simple_regret_approx_4[slice3],\n",
        "       simple_regret_approx_5[slice3],\n",
        "       simple_regret_approx_6[slice3],\n",
        "       simple_regret_approx_7[slice3],\n",
        "       simple_regret_approx_8[slice3],\n",
        "       simple_regret_approx_9[slice3],\n",
        "       simple_regret_approx_10[slice3],\n",
        "       simple_regret_approx_11[slice3],\n",
        "       simple_regret_approx_12[slice3],\n",
        "       simple_regret_approx_13[slice3],\n",
        "       simple_regret_approx_14[slice3],\n",
        "       simple_regret_approx_15[slice3],\n",
        "       simple_regret_approx_16[slice3],\n",
        "       simple_regret_approx_17[slice3],\n",
        "       simple_regret_approx_18[slice3],\n",
        "       simple_regret_approx_19[slice3],\n",
        "       simple_regret_approx_20[slice3]]\n",
        "\n",
        "exact3 = [simple_regret_exact_1[slice3],\n",
        "       simple_regret_exact_2[slice3],\n",
        "       simple_regret_exact_3[slice3],\n",
        "       simple_regret_exact_4[slice3],\n",
        "       simple_regret_exact_5[slice3],\n",
        "       simple_regret_exact_6[slice3],\n",
        "       simple_regret_exact_7[slice3],\n",
        "       simple_regret_exact_8[slice3],\n",
        "       simple_regret_exact_9[slice3],\n",
        "       simple_regret_exact_10[slice3],\n",
        "       simple_regret_exact_11[slice3],\n",
        "       simple_regret_exact_12[slice3],\n",
        "       simple_regret_exact_13[slice3],\n",
        "       simple_regret_exact_14[slice3],\n",
        "       simple_regret_exact_15[slice3],\n",
        "       simple_regret_exact_16[slice3],\n",
        "       simple_regret_exact_17[slice3],\n",
        "       simple_regret_exact_18[slice3],\n",
        "       simple_regret_exact_19[slice3],\n",
        "       simple_regret_exact_20[slice3]]\n",
        "\n",
        "approx3_results = pd.DataFrame(approx3).sort_values(by=[0], ascending=False)\n",
        "exact3_results = pd.DataFrame(exact3).sort_values(by=[0], ascending=False)\n",
        "\n",
        "### Best simple regret minimization IQR - approx:\n",
        "lower_approx3 = np.asarray(approx3_results[4:5][0])[0]\n",
        "median_approx3 = np.asarray(approx3_results[9:10][0])[0]\n",
        "upper_approx3 = np.asarray(approx3_results[14:15][0])[0]\n",
        "\n",
        "lower_exact3 = np.asarray(exact3_results[4:5][0])[0]\n",
        "median_exact3 = np.asarray(exact3_results[9:10][0])[0]\n",
        "upper_exact3 = np.asarray(exact3_results[14:15][0])[0]"
      ]
    },
    {
      "cell_type": "code",
      "execution_count": 81,
      "metadata": {
        "id": "plf83wxrQxf4"
      },
      "outputs": [],
      "source": [
        "# Iteration13 :\n",
        "\n",
        "slice13 = 12\n",
        "\n",
        "approx13 = [simple_regret_approx_1[slice13],\n",
        "       simple_regret_approx_2[slice13],\n",
        "       simple_regret_approx_3[slice13],\n",
        "       simple_regret_approx_4[slice13],\n",
        "       simple_regret_approx_5[slice13],\n",
        "       simple_regret_approx_6[slice13],\n",
        "       simple_regret_approx_7[slice13],\n",
        "       simple_regret_approx_8[slice13],\n",
        "       simple_regret_approx_9[slice13],\n",
        "       simple_regret_approx_10[slice13],\n",
        "       simple_regret_approx_11[slice13],\n",
        "       simple_regret_approx_12[slice13],\n",
        "       simple_regret_approx_13[slice13],\n",
        "       simple_regret_approx_14[slice13],\n",
        "       simple_regret_approx_15[slice13],\n",
        "       simple_regret_approx_16[slice13],\n",
        "       simple_regret_approx_17[slice13],\n",
        "       simple_regret_approx_18[slice13],\n",
        "       simple_regret_approx_19[slice13],\n",
        "       simple_regret_approx_20[slice13]]\n",
        "\n",
        "exact13 = [simple_regret_exact_1[slice13],\n",
        "       simple_regret_exact_2[slice13],\n",
        "       simple_regret_exact_3[slice13],\n",
        "       simple_regret_exact_4[slice13],\n",
        "       simple_regret_exact_5[slice13],\n",
        "       simple_regret_exact_6[slice13],\n",
        "       simple_regret_exact_7[slice13],\n",
        "       simple_regret_exact_8[slice13],\n",
        "       simple_regret_exact_9[slice13],\n",
        "       simple_regret_exact_10[slice13],\n",
        "       simple_regret_exact_11[slice13],\n",
        "       simple_regret_exact_12[slice13],\n",
        "       simple_regret_exact_13[slice13],\n",
        "       simple_regret_exact_14[slice13],\n",
        "       simple_regret_exact_15[slice13],\n",
        "       simple_regret_exact_16[slice13],\n",
        "       simple_regret_exact_17[slice13],\n",
        "       simple_regret_exact_18[slice13],\n",
        "       simple_regret_exact_19[slice13],\n",
        "       simple_regret_exact_20[slice13]]\n",
        "\n",
        "approx13_results = pd.DataFrame(approx13).sort_values(by=[0], ascending=False)\n",
        "exact13_results = pd.DataFrame(exact13).sort_values(by=[0], ascending=False)\n",
        "\n",
        "### Best simple regret minimization IQR - approx:\n",
        "lower_approx13 = np.asarray(approx13_results[4:5][0])[0]\n",
        "median_approx13 = np.asarray(approx13_results[9:10][0])[0]\n",
        "upper_approx13 = np.asarray(approx13_results[14:15][0])[0]\n",
        "\n",
        "lower_exact13 = np.asarray(exact13_results[4:5][0])[0]\n",
        "median_exact13 = np.asarray(exact13_results[9:10][0])[0]\n",
        "upper_exact13 = np.asarray(exact13_results[14:15][0])[0]"
      ]
    },
    {
      "cell_type": "code",
      "execution_count": 82,
      "metadata": {
        "id": "9A7mlVvJQxf5"
      },
      "outputs": [],
      "source": [
        "# Iteration4 :\n",
        "\n",
        "slice4 = 3\n",
        "\n",
        "approx4 = [simple_regret_approx_1[slice4],\n",
        "       simple_regret_approx_2[slice4],\n",
        "       simple_regret_approx_3[slice4],\n",
        "       simple_regret_approx_4[slice4],\n",
        "       simple_regret_approx_5[slice4],\n",
        "       simple_regret_approx_6[slice4],\n",
        "       simple_regret_approx_7[slice4],\n",
        "       simple_regret_approx_8[slice4],\n",
        "       simple_regret_approx_9[slice4],\n",
        "       simple_regret_approx_10[slice4],\n",
        "       simple_regret_approx_11[slice4],\n",
        "       simple_regret_approx_12[slice4],\n",
        "       simple_regret_approx_13[slice4],\n",
        "       simple_regret_approx_14[slice4],\n",
        "       simple_regret_approx_15[slice4],\n",
        "       simple_regret_approx_16[slice4],\n",
        "       simple_regret_approx_17[slice4],\n",
        "       simple_regret_approx_18[slice4],\n",
        "       simple_regret_approx_19[slice4],\n",
        "       simple_regret_approx_20[slice4]]\n",
        "\n",
        "exact4 = [simple_regret_exact_1[slice4],\n",
        "       simple_regret_exact_2[slice4],\n",
        "       simple_regret_exact_3[slice4],\n",
        "       simple_regret_exact_4[slice4],\n",
        "       simple_regret_exact_5[slice4],\n",
        "       simple_regret_exact_6[slice4],\n",
        "       simple_regret_exact_7[slice4],\n",
        "       simple_regret_exact_8[slice4],\n",
        "       simple_regret_exact_9[slice4],\n",
        "       simple_regret_exact_10[slice4],\n",
        "       simple_regret_exact_11[slice4],\n",
        "       simple_regret_exact_12[slice4],\n",
        "       simple_regret_exact_13[slice4],\n",
        "       simple_regret_exact_14[slice4],\n",
        "       simple_regret_exact_15[slice4],\n",
        "       simple_regret_exact_16[slice4],\n",
        "       simple_regret_exact_17[slice4],\n",
        "       simple_regret_exact_18[slice4],\n",
        "       simple_regret_exact_19[slice4],\n",
        "       simple_regret_exact_20[slice4]]\n",
        "\n",
        "approx4_results = pd.DataFrame(approx4).sort_values(by=[0], ascending=False)\n",
        "exact4_results = pd.DataFrame(exact4).sort_values(by=[0], ascending=False)\n",
        "\n",
        "### Best simple regret minimization IQR - approx:\n",
        "lower_approx4 = np.asarray(approx4_results[4:5][0])[0]\n",
        "median_approx4 = np.asarray(approx4_results[9:10][0])[0]\n",
        "upper_approx4 = np.asarray(approx4_results[14:15][0])[0]\n",
        "\n",
        "lower_exact4 = np.asarray(exact4_results[4:5][0])[0]\n",
        "median_exact4 = np.asarray(exact4_results[9:10][0])[0]\n",
        "upper_exact4 = np.asarray(exact4_results[14:15][0])[0]"
      ]
    },
    {
      "cell_type": "code",
      "execution_count": 83,
      "metadata": {
        "id": "ijq-rioYQxf5"
      },
      "outputs": [],
      "source": [
        "# Iteration14 :\n",
        "\n",
        "slice14 = 13\n",
        "\n",
        "approx14 = [simple_regret_approx_1[slice14],\n",
        "       simple_regret_approx_2[slice14],\n",
        "       simple_regret_approx_3[slice14],\n",
        "       simple_regret_approx_4[slice14],\n",
        "       simple_regret_approx_5[slice14],\n",
        "       simple_regret_approx_6[slice14],\n",
        "       simple_regret_approx_7[slice14],\n",
        "       simple_regret_approx_8[slice14],\n",
        "       simple_regret_approx_9[slice14],\n",
        "       simple_regret_approx_10[slice14],\n",
        "       simple_regret_approx_11[slice14],\n",
        "       simple_regret_approx_12[slice14],\n",
        "       simple_regret_approx_13[slice14],\n",
        "       simple_regret_approx_14[slice14],\n",
        "       simple_regret_approx_15[slice14],\n",
        "       simple_regret_approx_16[slice14],\n",
        "       simple_regret_approx_17[slice14],\n",
        "       simple_regret_approx_18[slice14],\n",
        "       simple_regret_approx_19[slice14],\n",
        "       simple_regret_approx_20[slice14]]\n",
        "\n",
        "exact14 = [simple_regret_exact_1[slice14],\n",
        "       simple_regret_exact_2[slice14],\n",
        "       simple_regret_exact_3[slice14],\n",
        "       simple_regret_exact_4[slice14],\n",
        "       simple_regret_exact_5[slice14],\n",
        "       simple_regret_exact_6[slice14],\n",
        "       simple_regret_exact_7[slice14],\n",
        "       simple_regret_exact_8[slice14],\n",
        "       simple_regret_exact_9[slice14],\n",
        "       simple_regret_exact_10[slice14],\n",
        "       simple_regret_exact_11[slice14],\n",
        "       simple_regret_exact_12[slice14],\n",
        "       simple_regret_exact_13[slice14],\n",
        "       simple_regret_exact_14[slice14],\n",
        "       simple_regret_exact_15[slice14],\n",
        "       simple_regret_exact_16[slice14],\n",
        "       simple_regret_exact_17[slice14],\n",
        "       simple_regret_exact_18[slice14],\n",
        "       simple_regret_exact_19[slice14],\n",
        "       simple_regret_exact_20[slice14]]\n",
        "\n",
        "approx14_results = pd.DataFrame(approx14).sort_values(by=[0], ascending=False)\n",
        "exact14_results = pd.DataFrame(exact14).sort_values(by=[0], ascending=False)\n",
        "\n",
        "### Best simple regret minimization IQR - approx:\n",
        "lower_approx14 = np.asarray(approx14_results[4:5][0])[0]\n",
        "median_approx14 = np.asarray(approx14_results[9:10][0])[0]\n",
        "upper_approx14 = np.asarray(approx14_results[14:15][0])[0]\n",
        "\n",
        "lower_exact14 = np.asarray(exact14_results[4:5][0])[0]\n",
        "median_exact14 = np.asarray(exact14_results[9:10][0])[0]\n",
        "upper_exact14 = np.asarray(exact14_results[14:15][0])[0]"
      ]
    },
    {
      "cell_type": "code",
      "execution_count": 84,
      "metadata": {
        "id": "XINlZjoTd-ZK"
      },
      "outputs": [],
      "source": [
        "# Iteration5 :\n",
        "\n",
        "slice5 = 4\n",
        "\n",
        "approx5 = [simple_regret_approx_1[slice5],\n",
        "       simple_regret_approx_2[slice5],\n",
        "       simple_regret_approx_3[slice5],\n",
        "       simple_regret_approx_4[slice5],\n",
        "       simple_regret_approx_5[slice5],\n",
        "       simple_regret_approx_6[slice5],\n",
        "       simple_regret_approx_7[slice5],\n",
        "       simple_regret_approx_8[slice5],\n",
        "       simple_regret_approx_9[slice5],\n",
        "       simple_regret_approx_10[slice5],\n",
        "       simple_regret_approx_11[slice5],\n",
        "       simple_regret_approx_12[slice5],\n",
        "       simple_regret_approx_13[slice5],\n",
        "       simple_regret_approx_14[slice5],\n",
        "       simple_regret_approx_15[slice5],\n",
        "       simple_regret_approx_16[slice5],\n",
        "       simple_regret_approx_17[slice5],\n",
        "       simple_regret_approx_18[slice5],\n",
        "       simple_regret_approx_19[slice5],\n",
        "       simple_regret_approx_20[slice5]]\n",
        "\n",
        "exact5 = [simple_regret_exact_1[slice5],\n",
        "       simple_regret_exact_2[slice5],\n",
        "       simple_regret_exact_3[slice5],\n",
        "       simple_regret_exact_4[slice5],\n",
        "       simple_regret_exact_5[slice5],\n",
        "       simple_regret_exact_6[slice5],\n",
        "       simple_regret_exact_7[slice5],\n",
        "       simple_regret_exact_8[slice5],\n",
        "       simple_regret_exact_9[slice5],\n",
        "       simple_regret_exact_10[slice5],\n",
        "       simple_regret_exact_11[slice5],\n",
        "       simple_regret_exact_12[slice5],\n",
        "       simple_regret_exact_13[slice5],\n",
        "       simple_regret_exact_14[slice5],\n",
        "       simple_regret_exact_15[slice5],\n",
        "       simple_regret_exact_16[slice5],\n",
        "       simple_regret_exact_17[slice5],\n",
        "       simple_regret_exact_18[slice5],\n",
        "       simple_regret_exact_19[slice5],\n",
        "       simple_regret_exact_20[slice5]]\n",
        "\n",
        "approx5_results = pd.DataFrame(approx5).sort_values(by=[0], ascending=False)\n",
        "exact5_results = pd.DataFrame(exact5).sort_values(by=[0], ascending=False)\n",
        "\n",
        "### Best simple regret minimization IQR - approx:\n",
        "lower_approx5 = np.asarray(approx5_results[4:5][0])[0]\n",
        "median_approx5 = np.asarray(approx5_results[9:10][0])[0]\n",
        "upper_approx5 = np.asarray(approx5_results[14:15][0])[0]\n",
        "\n",
        "lower_exact5 = np.asarray(exact5_results[4:5][0])[0]\n",
        "median_exact5 = np.asarray(exact5_results[9:10][0])[0]\n",
        "upper_exact5 = np.asarray(exact5_results[14:15][0])[0]"
      ]
    },
    {
      "cell_type": "code",
      "execution_count": 85,
      "metadata": {
        "id": "4aZ7C8sOQxf6"
      },
      "outputs": [],
      "source": [
        "# Iteration15 :\n",
        "\n",
        "slice15 = 14\n",
        "\n",
        "approx15 = [simple_regret_approx_1[slice15],\n",
        "       simple_regret_approx_2[slice15],\n",
        "       simple_regret_approx_3[slice15],\n",
        "       simple_regret_approx_4[slice15],\n",
        "       simple_regret_approx_5[slice15],\n",
        "       simple_regret_approx_6[slice15],\n",
        "       simple_regret_approx_7[slice15],\n",
        "       simple_regret_approx_8[slice15],\n",
        "       simple_regret_approx_9[slice15],\n",
        "       simple_regret_approx_10[slice15],\n",
        "       simple_regret_approx_11[slice15],\n",
        "       simple_regret_approx_12[slice15],\n",
        "       simple_regret_approx_13[slice15],\n",
        "       simple_regret_approx_14[slice15],\n",
        "       simple_regret_approx_15[slice15],\n",
        "       simple_regret_approx_16[slice15],\n",
        "       simple_regret_approx_17[slice15],\n",
        "       simple_regret_approx_18[slice15],\n",
        "       simple_regret_approx_19[slice15],\n",
        "       simple_regret_approx_20[slice15]]\n",
        "\n",
        "exact15 = [simple_regret_exact_1[slice15],\n",
        "       simple_regret_exact_2[slice15],\n",
        "       simple_regret_exact_3[slice15],\n",
        "       simple_regret_exact_4[slice15],\n",
        "       simple_regret_exact_5[slice15],\n",
        "       simple_regret_exact_6[slice15],\n",
        "       simple_regret_exact_7[slice15],\n",
        "       simple_regret_exact_8[slice15],\n",
        "       simple_regret_exact_9[slice15],\n",
        "       simple_regret_exact_10[slice15],\n",
        "       simple_regret_exact_11[slice15],\n",
        "       simple_regret_exact_12[slice15],\n",
        "       simple_regret_exact_13[slice15],\n",
        "       simple_regret_exact_14[slice15],\n",
        "       simple_regret_exact_15[slice15],\n",
        "       simple_regret_exact_16[slice15],\n",
        "       simple_regret_exact_17[slice15],\n",
        "       simple_regret_exact_18[slice15],\n",
        "       simple_regret_exact_19[slice15],\n",
        "       simple_regret_exact_20[slice15]]\n",
        "\n",
        "approx15_results = pd.DataFrame(approx15).sort_values(by=[0], ascending=False)\n",
        "exact15_results = pd.DataFrame(exact15).sort_values(by=[0], ascending=False)\n",
        "\n",
        "### Best simple regret minimization IQR - approx:\n",
        "lower_approx15 = np.asarray(approx15_results[4:5][0])[0]\n",
        "median_approx15 = np.asarray(approx15_results[9:10][0])[0]\n",
        "upper_approx15 = np.asarray(approx15_results[14:15][0])[0]\n",
        "\n",
        "lower_exact15 = np.asarray(exact15_results[4:5][0])[0]\n",
        "median_exact15 = np.asarray(exact15_results[9:10][0])[0]\n",
        "upper_exact15 = np.asarray(exact15_results[14:15][0])[0]"
      ]
    },
    {
      "cell_type": "code",
      "execution_count": 86,
      "metadata": {
        "id": "KJINKhv1Qxf6"
      },
      "outputs": [],
      "source": [
        "# Iteration6 :\n",
        "\n",
        "slice6 = 5\n",
        "\n",
        "approx6 = [simple_regret_approx_1[slice6],\n",
        "       simple_regret_approx_2[slice6],\n",
        "       simple_regret_approx_3[slice6],\n",
        "       simple_regret_approx_4[slice6],\n",
        "       simple_regret_approx_5[slice6],\n",
        "       simple_regret_approx_6[slice6],\n",
        "       simple_regret_approx_7[slice6],\n",
        "       simple_regret_approx_8[slice6],\n",
        "       simple_regret_approx_9[slice6],\n",
        "       simple_regret_approx_10[slice6],\n",
        "       simple_regret_approx_11[slice6],\n",
        "       simple_regret_approx_12[slice6],\n",
        "       simple_regret_approx_13[slice6],\n",
        "       simple_regret_approx_14[slice6],\n",
        "       simple_regret_approx_15[slice6],\n",
        "       simple_regret_approx_16[slice6],\n",
        "       simple_regret_approx_17[slice6],\n",
        "       simple_regret_approx_18[slice6],\n",
        "       simple_regret_approx_19[slice6],\n",
        "       simple_regret_approx_20[slice6]]\n",
        "\n",
        "exact6 = [simple_regret_exact_1[slice6],\n",
        "       simple_regret_exact_2[slice6],\n",
        "       simple_regret_exact_3[slice6],\n",
        "       simple_regret_exact_4[slice6],\n",
        "       simple_regret_exact_5[slice6],\n",
        "       simple_regret_exact_6[slice6],\n",
        "       simple_regret_exact_7[slice6],\n",
        "       simple_regret_exact_8[slice6],\n",
        "       simple_regret_exact_9[slice6],\n",
        "       simple_regret_exact_10[slice6],\n",
        "       simple_regret_exact_11[slice6],\n",
        "       simple_regret_exact_12[slice6],\n",
        "       simple_regret_exact_13[slice6],\n",
        "       simple_regret_exact_14[slice6],\n",
        "       simple_regret_exact_15[slice6],\n",
        "       simple_regret_exact_16[slice6],\n",
        "       simple_regret_exact_17[slice6],\n",
        "       simple_regret_exact_18[slice6],\n",
        "       simple_regret_exact_19[slice6],\n",
        "       simple_regret_exact_20[slice6]]\n",
        "\n",
        "approx6_results = pd.DataFrame(approx6).sort_values(by=[0], ascending=False)\n",
        "exact6_results = pd.DataFrame(exact6).sort_values(by=[0], ascending=False)\n",
        "\n",
        "### Best simple regret minimization IQR - approx:\n",
        "lower_approx6 = np.asarray(approx6_results[4:5][0])[0]\n",
        "median_approx6 = np.asarray(approx6_results[9:10][0])[0]\n",
        "upper_approx6 = np.asarray(approx6_results[14:15][0])[0]\n",
        "\n",
        "lower_exact6 = np.asarray(exact6_results[4:5][0])[0]\n",
        "median_exact6 = np.asarray(exact6_results[9:10][0])[0]\n",
        "upper_exact6 = np.asarray(exact6_results[14:15][0])[0]"
      ]
    },
    {
      "cell_type": "code",
      "execution_count": 87,
      "metadata": {
        "id": "nwC5N1FsQxf7"
      },
      "outputs": [],
      "source": [
        "# Iteration16 :\n",
        "\n",
        "slice16 = 15\n",
        "\n",
        "approx16 = [simple_regret_approx_1[slice16],\n",
        "       simple_regret_approx_2[slice16],\n",
        "       simple_regret_approx_3[slice16],\n",
        "       simple_regret_approx_4[slice16],\n",
        "       simple_regret_approx_5[slice16],\n",
        "       simple_regret_approx_6[slice16],\n",
        "       simple_regret_approx_7[slice16],\n",
        "       simple_regret_approx_8[slice16],\n",
        "       simple_regret_approx_9[slice16],\n",
        "       simple_regret_approx_10[slice16],\n",
        "       simple_regret_approx_11[slice16],\n",
        "       simple_regret_approx_12[slice16],\n",
        "       simple_regret_approx_13[slice16],\n",
        "       simple_regret_approx_14[slice16],\n",
        "       simple_regret_approx_15[slice16],\n",
        "       simple_regret_approx_16[slice16],\n",
        "       simple_regret_approx_17[slice16],\n",
        "       simple_regret_approx_18[slice16],\n",
        "       simple_regret_approx_19[slice16],\n",
        "       simple_regret_approx_20[slice16]]\n",
        "\n",
        "exact16 = [simple_regret_exact_1[slice16],\n",
        "       simple_regret_exact_2[slice16],\n",
        "       simple_regret_exact_3[slice16],\n",
        "       simple_regret_exact_4[slice16],\n",
        "       simple_regret_exact_5[slice16],\n",
        "       simple_regret_exact_6[slice16],\n",
        "       simple_regret_exact_7[slice16],\n",
        "       simple_regret_exact_8[slice16],\n",
        "       simple_regret_exact_9[slice16],\n",
        "       simple_regret_exact_10[slice16],\n",
        "       simple_regret_exact_11[slice16],\n",
        "       simple_regret_exact_12[slice16],\n",
        "       simple_regret_exact_13[slice16],\n",
        "       simple_regret_exact_14[slice16],\n",
        "       simple_regret_exact_15[slice16],\n",
        "       simple_regret_exact_16[slice16],\n",
        "       simple_regret_exact_17[slice16],\n",
        "       simple_regret_exact_18[slice16],\n",
        "       simple_regret_exact_19[slice16],\n",
        "       simple_regret_exact_20[slice16]]\n",
        "\n",
        "approx16_results = pd.DataFrame(approx16).sort_values(by=[0], ascending=False)\n",
        "exact16_results = pd.DataFrame(exact16).sort_values(by=[0], ascending=False)\n",
        "\n",
        "### Best simple regret minimization IQR - approx:\n",
        "lower_approx16 = np.asarray(approx16_results[4:5][0])[0]\n",
        "median_approx16 = np.asarray(approx16_results[9:10][0])[0]\n",
        "upper_approx16 = np.asarray(approx16_results[14:15][0])[0]\n",
        "\n",
        "lower_exact16 = np.asarray(exact16_results[4:5][0])[0]\n",
        "median_exact16 = np.asarray(exact16_results[9:10][0])[0]\n",
        "upper_exact16 = np.asarray(exact16_results[14:15][0])[0]"
      ]
    },
    {
      "cell_type": "code",
      "execution_count": 88,
      "metadata": {
        "id": "TrPV0AfnQxf7"
      },
      "outputs": [],
      "source": [
        "# Iteration7 :\n",
        "\n",
        "slice7 = 6\n",
        "\n",
        "approx7 = [simple_regret_approx_1[slice7],\n",
        "       simple_regret_approx_2[slice7],\n",
        "       simple_regret_approx_3[slice7],\n",
        "       simple_regret_approx_4[slice7],\n",
        "       simple_regret_approx_5[slice7],\n",
        "       simple_regret_approx_6[slice7],\n",
        "       simple_regret_approx_7[slice7],\n",
        "       simple_regret_approx_8[slice7],\n",
        "       simple_regret_approx_9[slice7],\n",
        "       simple_regret_approx_10[slice7],\n",
        "       simple_regret_approx_11[slice7],\n",
        "       simple_regret_approx_12[slice7],\n",
        "       simple_regret_approx_13[slice7],\n",
        "       simple_regret_approx_14[slice7],\n",
        "       simple_regret_approx_15[slice7],\n",
        "       simple_regret_approx_16[slice7],\n",
        "       simple_regret_approx_17[slice7],\n",
        "       simple_regret_approx_18[slice7],\n",
        "       simple_regret_approx_19[slice7],\n",
        "       simple_regret_approx_20[slice7]]\n",
        "\n",
        "exact7 = [simple_regret_exact_1[slice7],\n",
        "       simple_regret_exact_2[slice7],\n",
        "       simple_regret_exact_3[slice7],\n",
        "       simple_regret_exact_4[slice7],\n",
        "       simple_regret_exact_5[slice7],\n",
        "       simple_regret_exact_6[slice7],\n",
        "       simple_regret_exact_7[slice7],\n",
        "       simple_regret_exact_8[slice7],\n",
        "       simple_regret_exact_9[slice7],\n",
        "       simple_regret_exact_10[slice7],\n",
        "       simple_regret_exact_11[slice7],\n",
        "       simple_regret_exact_12[slice7],\n",
        "       simple_regret_exact_13[slice7],\n",
        "       simple_regret_exact_14[slice7],\n",
        "       simple_regret_exact_15[slice7],\n",
        "       simple_regret_exact_16[slice7],\n",
        "       simple_regret_exact_17[slice7],\n",
        "       simple_regret_exact_18[slice7],\n",
        "       simple_regret_exact_19[slice7],\n",
        "       simple_regret_exact_20[slice7]]\n",
        "\n",
        "approx7_results = pd.DataFrame(approx7).sort_values(by=[0], ascending=False)\n",
        "exact7_results = pd.DataFrame(exact7).sort_values(by=[0], ascending=False)\n",
        "\n",
        "### Best simple regret minimization IQR - approx:\n",
        "lower_approx7 = np.asarray(approx7_results[4:5][0])[0]\n",
        "median_approx7 = np.asarray(approx7_results[9:10][0])[0]\n",
        "upper_approx7 = np.asarray(approx7_results[14:15][0])[0]\n",
        "\n",
        "lower_exact7 = np.asarray(exact7_results[4:5][0])[0]\n",
        "median_exact7 = np.asarray(exact7_results[9:10][0])[0]\n",
        "upper_exact7 = np.asarray(exact7_results[14:15][0])[0]"
      ]
    },
    {
      "cell_type": "code",
      "execution_count": 89,
      "metadata": {
        "id": "Ub_-wpK4Qxf8"
      },
      "outputs": [],
      "source": [
        "# Iteration17 :\n",
        "\n",
        "slice17 = 16\n",
        "\n",
        "approx17 = [simple_regret_approx_1[slice17],\n",
        "       simple_regret_approx_2[slice17],\n",
        "       simple_regret_approx_3[slice17],\n",
        "       simple_regret_approx_4[slice17],\n",
        "       simple_regret_approx_5[slice17],\n",
        "       simple_regret_approx_6[slice17],\n",
        "       simple_regret_approx_7[slice17],\n",
        "       simple_regret_approx_8[slice17],\n",
        "       simple_regret_approx_9[slice17],\n",
        "       simple_regret_approx_10[slice17],\n",
        "       simple_regret_approx_11[slice17],\n",
        "       simple_regret_approx_12[slice17],\n",
        "       simple_regret_approx_13[slice17],\n",
        "       simple_regret_approx_14[slice17],\n",
        "       simple_regret_approx_15[slice17],\n",
        "       simple_regret_approx_16[slice17],\n",
        "       simple_regret_approx_17[slice17],\n",
        "       simple_regret_approx_18[slice17],\n",
        "       simple_regret_approx_19[slice17],\n",
        "       simple_regret_approx_20[slice17]]\n",
        "\n",
        "exact17 = [simple_regret_exact_1[slice17],\n",
        "       simple_regret_exact_2[slice17],\n",
        "       simple_regret_exact_3[slice17],\n",
        "       simple_regret_exact_4[slice17],\n",
        "       simple_regret_exact_5[slice17],\n",
        "       simple_regret_exact_6[slice17],\n",
        "       simple_regret_exact_7[slice17],\n",
        "       simple_regret_exact_8[slice17],\n",
        "       simple_regret_exact_9[slice17],\n",
        "       simple_regret_exact_10[slice17],\n",
        "       simple_regret_exact_11[slice17],\n",
        "       simple_regret_exact_12[slice17],\n",
        "       simple_regret_exact_13[slice17],\n",
        "       simple_regret_exact_14[slice17],\n",
        "       simple_regret_exact_15[slice17],\n",
        "       simple_regret_exact_16[slice17],\n",
        "       simple_regret_exact_17[slice17],\n",
        "       simple_regret_exact_18[slice17],\n",
        "       simple_regret_exact_19[slice17],\n",
        "       simple_regret_exact_20[slice17]]\n",
        "\n",
        "approx17_results = pd.DataFrame(approx17).sort_values(by=[0], ascending=False)\n",
        "exact17_results = pd.DataFrame(exact17).sort_values(by=[0], ascending=False)\n",
        "\n",
        "### Best simple regret minimization IQR - approx:\n",
        "lower_approx17 = np.asarray(approx17_results[4:5][0])[0]\n",
        "median_approx17 = np.asarray(approx17_results[9:10][0])[0]\n",
        "upper_approx17 = np.asarray(approx17_results[14:15][0])[0]\n",
        "\n",
        "lower_exact17 = np.asarray(exact17_results[4:5][0])[0]\n",
        "median_exact17 = np.asarray(exact17_results[9:10][0])[0]\n",
        "upper_exact17 = np.asarray(exact17_results[14:15][0])[0]"
      ]
    },
    {
      "cell_type": "code",
      "execution_count": 90,
      "metadata": {
        "id": "-6VLo37PQxf8"
      },
      "outputs": [],
      "source": [
        "# Iteration8 :\n",
        "\n",
        "slice8 = 7\n",
        "\n",
        "approx8 = [simple_regret_approx_1[slice8],\n",
        "       simple_regret_approx_2[slice8],\n",
        "       simple_regret_approx_3[slice8],\n",
        "       simple_regret_approx_4[slice8],\n",
        "       simple_regret_approx_5[slice8],\n",
        "       simple_regret_approx_6[slice8],\n",
        "       simple_regret_approx_7[slice8],\n",
        "       simple_regret_approx_8[slice8],\n",
        "       simple_regret_approx_9[slice8],\n",
        "       simple_regret_approx_10[slice8],\n",
        "       simple_regret_approx_11[slice8],\n",
        "       simple_regret_approx_12[slice8],\n",
        "       simple_regret_approx_13[slice8],\n",
        "       simple_regret_approx_14[slice8],\n",
        "       simple_regret_approx_15[slice8],\n",
        "       simple_regret_approx_16[slice8],\n",
        "       simple_regret_approx_17[slice8],\n",
        "       simple_regret_approx_18[slice8],\n",
        "       simple_regret_approx_19[slice8],\n",
        "       simple_regret_approx_20[slice8]]\n",
        "\n",
        "exact8 = [simple_regret_exact_1[slice8],\n",
        "       simple_regret_exact_2[slice8],\n",
        "       simple_regret_exact_3[slice8],\n",
        "       simple_regret_exact_4[slice8],\n",
        "       simple_regret_exact_5[slice8],\n",
        "       simple_regret_exact_6[slice8],\n",
        "       simple_regret_exact_7[slice8],\n",
        "       simple_regret_exact_8[slice8],\n",
        "       simple_regret_exact_9[slice8],\n",
        "       simple_regret_exact_10[slice8],\n",
        "       simple_regret_exact_11[slice8],\n",
        "       simple_regret_exact_12[slice8],\n",
        "       simple_regret_exact_13[slice8],\n",
        "       simple_regret_exact_14[slice8],\n",
        "       simple_regret_exact_15[slice8],\n",
        "       simple_regret_exact_16[slice8],\n",
        "       simple_regret_exact_17[slice8],\n",
        "       simple_regret_exact_18[slice8],\n",
        "       simple_regret_exact_19[slice8],\n",
        "       simple_regret_exact_20[slice8]]\n",
        "\n",
        "approx8_results = pd.DataFrame(approx8).sort_values(by=[0], ascending=False)\n",
        "exact8_results = pd.DataFrame(exact8).sort_values(by=[0], ascending=False)\n",
        "\n",
        "### Best simple regret minimization IQR - approx:\n",
        "lower_approx8 = np.asarray(approx8_results[4:5][0])[0]\n",
        "median_approx8 = np.asarray(approx8_results[9:10][0])[0]\n",
        "upper_approx8 = np.asarray(approx8_results[14:15][0])[0]\n",
        "\n",
        "lower_exact8 = np.asarray(exact8_results[4:5][0])[0]\n",
        "median_exact8 = np.asarray(exact8_results[9:10][0])[0]\n",
        "upper_exact8 = np.asarray(exact8_results[14:15][0])[0]"
      ]
    },
    {
      "cell_type": "code",
      "execution_count": 91,
      "metadata": {
        "id": "2Dp-9CC2Qxf9"
      },
      "outputs": [],
      "source": [
        "# Iteration18 :\n",
        "\n",
        "slice18 = 17\n",
        "\n",
        "approx18 = [simple_regret_approx_1[slice18],\n",
        "       simple_regret_approx_2[slice18],\n",
        "       simple_regret_approx_3[slice18],\n",
        "       simple_regret_approx_4[slice18],\n",
        "       simple_regret_approx_5[slice18],\n",
        "       simple_regret_approx_6[slice18],\n",
        "       simple_regret_approx_7[slice18],\n",
        "       simple_regret_approx_8[slice18],\n",
        "       simple_regret_approx_9[slice18],\n",
        "       simple_regret_approx_10[slice18],\n",
        "       simple_regret_approx_11[slice18],\n",
        "       simple_regret_approx_12[slice18],\n",
        "       simple_regret_approx_13[slice18],\n",
        "       simple_regret_approx_14[slice18],\n",
        "       simple_regret_approx_15[slice18],\n",
        "       simple_regret_approx_16[slice18],\n",
        "       simple_regret_approx_17[slice18],\n",
        "       simple_regret_approx_18[slice18],\n",
        "       simple_regret_approx_19[slice18],\n",
        "       simple_regret_approx_20[slice18]]\n",
        "\n",
        "exact18 = [simple_regret_exact_1[slice18],\n",
        "       simple_regret_exact_2[slice18],\n",
        "       simple_regret_exact_3[slice18],\n",
        "       simple_regret_exact_4[slice18],\n",
        "       simple_regret_exact_5[slice18],\n",
        "       simple_regret_exact_6[slice18],\n",
        "       simple_regret_exact_7[slice18],\n",
        "       simple_regret_exact_8[slice18],\n",
        "       simple_regret_exact_9[slice18],\n",
        "       simple_regret_exact_10[slice18],\n",
        "       simple_regret_exact_11[slice18],\n",
        "       simple_regret_exact_12[slice18],\n",
        "       simple_regret_exact_13[slice18],\n",
        "       simple_regret_exact_14[slice18],\n",
        "       simple_regret_exact_15[slice18],\n",
        "       simple_regret_exact_16[slice18],\n",
        "       simple_regret_exact_17[slice18],\n",
        "       simple_regret_exact_18[slice18],\n",
        "       simple_regret_exact_19[slice18],\n",
        "       simple_regret_exact_20[slice18]]\n",
        "\n",
        "approx18_results = pd.DataFrame(approx18).sort_values(by=[0], ascending=False)\n",
        "exact18_results = pd.DataFrame(exact18).sort_values(by=[0], ascending=False)\n",
        "\n",
        "### Best simple regret minimization IQR - approx:\n",
        "lower_approx18 = np.asarray(approx18_results[4:5][0])[0]\n",
        "median_approx18 = np.asarray(approx18_results[9:10][0])[0]\n",
        "upper_approx18 = np.asarray(approx18_results[14:15][0])[0]\n",
        "\n",
        "lower_exact18 = np.asarray(exact18_results[4:5][0])[0]\n",
        "median_exact18 = np.asarray(exact18_results[9:10][0])[0]\n",
        "upper_exact18 = np.asarray(exact18_results[14:15][0])[0]"
      ]
    },
    {
      "cell_type": "code",
      "execution_count": 92,
      "metadata": {
        "id": "SqiaOpB7Qxf9"
      },
      "outputs": [],
      "source": [
        "# Iteration9 :\n",
        "\n",
        "slice9 = 8\n",
        "\n",
        "approx9 = [simple_regret_approx_1[slice9],\n",
        "       simple_regret_approx_2[slice9],\n",
        "       simple_regret_approx_3[slice9],\n",
        "       simple_regret_approx_4[slice9],\n",
        "       simple_regret_approx_5[slice9],\n",
        "       simple_regret_approx_6[slice9],\n",
        "       simple_regret_approx_7[slice9],\n",
        "       simple_regret_approx_8[slice9],\n",
        "       simple_regret_approx_9[slice9],\n",
        "       simple_regret_approx_10[slice9],\n",
        "       simple_regret_approx_11[slice9],\n",
        "       simple_regret_approx_12[slice9],\n",
        "       simple_regret_approx_13[slice9],\n",
        "       simple_regret_approx_14[slice9],\n",
        "       simple_regret_approx_15[slice9],\n",
        "       simple_regret_approx_16[slice9],\n",
        "       simple_regret_approx_17[slice9],\n",
        "       simple_regret_approx_18[slice9],\n",
        "       simple_regret_approx_19[slice9],\n",
        "       simple_regret_approx_20[slice9]]\n",
        "\n",
        "exact9 = [simple_regret_exact_1[slice9],\n",
        "       simple_regret_exact_2[slice9],\n",
        "       simple_regret_exact_3[slice9],\n",
        "       simple_regret_exact_4[slice9],\n",
        "       simple_regret_exact_5[slice9],\n",
        "       simple_regret_exact_6[slice9],\n",
        "       simple_regret_exact_7[slice9],\n",
        "       simple_regret_exact_8[slice9],\n",
        "       simple_regret_exact_9[slice9],\n",
        "       simple_regret_exact_10[slice9],\n",
        "       simple_regret_exact_11[slice9],\n",
        "       simple_regret_exact_12[slice9],\n",
        "       simple_regret_exact_13[slice9],\n",
        "       simple_regret_exact_14[slice9],\n",
        "       simple_regret_exact_15[slice9],\n",
        "       simple_regret_exact_16[slice9],\n",
        "       simple_regret_exact_17[slice9],\n",
        "       simple_regret_exact_18[slice9],\n",
        "       simple_regret_exact_19[slice9],\n",
        "       simple_regret_exact_20[slice9]]\n",
        "\n",
        "approx9_results = pd.DataFrame(approx9).sort_values(by=[0], ascending=False)\n",
        "exact9_results = pd.DataFrame(exact9).sort_values(by=[0], ascending=False)\n",
        "\n",
        "### Best simple regret minimization IQR - approx:\n",
        "lower_approx9 = np.asarray(approx9_results[4:5][0])[0]\n",
        "median_approx9 = np.asarray(approx9_results[9:10][0])[0]\n",
        "upper_approx9 = np.asarray(approx9_results[14:15][0])[0]\n",
        "\n",
        "lower_exact9 = np.asarray(exact9_results[4:5][0])[0]\n",
        "median_exact9 = np.asarray(exact9_results[9:10][0])[0]\n",
        "upper_exact9 = np.asarray(exact9_results[14:15][0])[0]"
      ]
    },
    {
      "cell_type": "code",
      "execution_count": 93,
      "metadata": {
        "id": "OQkCCOsPQxf9"
      },
      "outputs": [],
      "source": [
        "# Iteration19 :\n",
        "\n",
        "slice19 = 18\n",
        "\n",
        "approx19 = [simple_regret_approx_1[slice19],\n",
        "       simple_regret_approx_2[slice19],\n",
        "       simple_regret_approx_3[slice19],\n",
        "       simple_regret_approx_4[slice19],\n",
        "       simple_regret_approx_5[slice19],\n",
        "       simple_regret_approx_6[slice19],\n",
        "       simple_regret_approx_7[slice19],\n",
        "       simple_regret_approx_8[slice19],\n",
        "       simple_regret_approx_9[slice19],\n",
        "       simple_regret_approx_10[slice19],\n",
        "       simple_regret_approx_11[slice19],\n",
        "       simple_regret_approx_12[slice19],\n",
        "       simple_regret_approx_13[slice19],\n",
        "       simple_regret_approx_14[slice19],\n",
        "       simple_regret_approx_15[slice19],\n",
        "       simple_regret_approx_16[slice19],\n",
        "       simple_regret_approx_17[slice19],\n",
        "       simple_regret_approx_18[slice19],\n",
        "       simple_regret_approx_19[slice19],\n",
        "       simple_regret_approx_20[slice19]]\n",
        "\n",
        "exact19 = [simple_regret_exact_1[slice19],\n",
        "       simple_regret_exact_2[slice19],\n",
        "       simple_regret_exact_3[slice19],\n",
        "       simple_regret_exact_4[slice19],\n",
        "       simple_regret_exact_5[slice19],\n",
        "       simple_regret_exact_6[slice19],\n",
        "       simple_regret_exact_7[slice19],\n",
        "       simple_regret_exact_8[slice19],\n",
        "       simple_regret_exact_9[slice19],\n",
        "       simple_regret_exact_10[slice19],\n",
        "       simple_regret_exact_11[slice19],\n",
        "       simple_regret_exact_12[slice19],\n",
        "       simple_regret_exact_13[slice19],\n",
        "       simple_regret_exact_14[slice19],\n",
        "       simple_regret_exact_15[slice19],\n",
        "       simple_regret_exact_16[slice19],\n",
        "       simple_regret_exact_17[slice19],\n",
        "       simple_regret_exact_18[slice19],\n",
        "       simple_regret_exact_19[slice19],\n",
        "       simple_regret_exact_20[slice19]]\n",
        "\n",
        "approx19_results = pd.DataFrame(approx19).sort_values(by=[0], ascending=False)\n",
        "exact19_results = pd.DataFrame(exact19).sort_values(by=[0], ascending=False)\n",
        "\n",
        "### Best simple regret minimization IQR - approx:\n",
        "lower_approx19 = np.asarray(approx19_results[4:5][0])[0]\n",
        "median_approx19 = np.asarray(approx19_results[9:10][0])[0]\n",
        "upper_approx19 = np.asarray(approx19_results[14:15][0])[0]\n",
        "\n",
        "lower_exact19 = np.asarray(exact19_results[4:5][0])[0]\n",
        "median_exact19 = np.asarray(exact19_results[9:10][0])[0]\n",
        "upper_exact19 = np.asarray(exact19_results[14:15][0])[0]"
      ]
    },
    {
      "cell_type": "code",
      "execution_count": 94,
      "metadata": {
        "id": "h4vtWahcQxf-"
      },
      "outputs": [],
      "source": [
        "# Iteration10 :\n",
        "\n",
        "slice10 = 9\n",
        "\n",
        "approx10 = [simple_regret_approx_1[slice10],\n",
        "       simple_regret_approx_2[slice10],\n",
        "       simple_regret_approx_3[slice10],\n",
        "       simple_regret_approx_4[slice10],\n",
        "       simple_regret_approx_5[slice10],\n",
        "       simple_regret_approx_6[slice10],\n",
        "       simple_regret_approx_7[slice10],\n",
        "       simple_regret_approx_8[slice10],\n",
        "       simple_regret_approx_9[slice10],\n",
        "       simple_regret_approx_10[slice10],\n",
        "       simple_regret_approx_11[slice10],\n",
        "       simple_regret_approx_12[slice10],\n",
        "       simple_regret_approx_13[slice10],\n",
        "       simple_regret_approx_14[slice10],\n",
        "       simple_regret_approx_15[slice10],\n",
        "       simple_regret_approx_16[slice10],\n",
        "       simple_regret_approx_17[slice10],\n",
        "       simple_regret_approx_18[slice10],\n",
        "       simple_regret_approx_19[slice10],\n",
        "       simple_regret_approx_20[slice10]]\n",
        "\n",
        "exact10 = [simple_regret_exact_1[slice10],\n",
        "       simple_regret_exact_2[slice10],\n",
        "       simple_regret_exact_3[slice10],\n",
        "       simple_regret_exact_4[slice10],\n",
        "       simple_regret_exact_5[slice10],\n",
        "       simple_regret_exact_6[slice10],\n",
        "       simple_regret_exact_7[slice10],\n",
        "       simple_regret_exact_8[slice10],\n",
        "       simple_regret_exact_9[slice10],\n",
        "       simple_regret_exact_10[slice10],\n",
        "       simple_regret_exact_11[slice10],\n",
        "       simple_regret_exact_12[slice10],\n",
        "       simple_regret_exact_13[slice10],\n",
        "       simple_regret_exact_14[slice10],\n",
        "       simple_regret_exact_15[slice10],\n",
        "       simple_regret_exact_16[slice10],\n",
        "       simple_regret_exact_17[slice10],\n",
        "       simple_regret_exact_18[slice10],\n",
        "       simple_regret_exact_19[slice10],\n",
        "       simple_regret_exact_20[slice10]]\n",
        "\n",
        "approx10_results = pd.DataFrame(approx10).sort_values(by=[0], ascending=False)\n",
        "exact10_results = pd.DataFrame(exact10).sort_values(by=[0], ascending=False)\n",
        "\n",
        "### Best simple regret minimization IQR - approx:\n",
        "lower_approx10 = np.asarray(approx10_results[4:5][0])[0]\n",
        "median_approx10 = np.asarray(approx10_results[9:10][0])[0]\n",
        "upper_approx10 = np.asarray(approx10_results[14:15][0])[0]\n",
        "\n",
        "lower_exact10 = np.asarray(exact10_results[4:5][0])[0]\n",
        "median_exact10 = np.asarray(exact10_results[9:10][0])[0]\n",
        "upper_exact10 = np.asarray(exact10_results[14:15][0])[0]"
      ]
    },
    {
      "cell_type": "code",
      "execution_count": 95,
      "metadata": {
        "id": "Rsf240pWQxf-"
      },
      "outputs": [],
      "source": [
        "# Iteration20 :\n",
        "\n",
        "slice20 = 19\n",
        "\n",
        "approx20 = [simple_regret_approx_1[slice20],\n",
        "       simple_regret_approx_2[slice20],\n",
        "       simple_regret_approx_3[slice20],\n",
        "       simple_regret_approx_4[slice20],\n",
        "       simple_regret_approx_5[slice20],\n",
        "       simple_regret_approx_6[slice20],\n",
        "       simple_regret_approx_7[slice20],\n",
        "       simple_regret_approx_8[slice20],\n",
        "       simple_regret_approx_9[slice20],\n",
        "       simple_regret_approx_10[slice20],\n",
        "       simple_regret_approx_11[slice20],\n",
        "       simple_regret_approx_12[slice20],\n",
        "       simple_regret_approx_13[slice20],\n",
        "       simple_regret_approx_14[slice20],\n",
        "       simple_regret_approx_15[slice20],\n",
        "       simple_regret_approx_16[slice20],\n",
        "       simple_regret_approx_17[slice20],\n",
        "       simple_regret_approx_18[slice20],\n",
        "       simple_regret_approx_19[slice20],\n",
        "       simple_regret_approx_20[slice20]]\n",
        "\n",
        "exact20 = [simple_regret_exact_1[slice20],\n",
        "       simple_regret_exact_2[slice20],\n",
        "       simple_regret_exact_3[slice20],\n",
        "       simple_regret_exact_4[slice20],\n",
        "       simple_regret_exact_5[slice20],\n",
        "       simple_regret_exact_6[slice20],\n",
        "       simple_regret_exact_7[slice20],\n",
        "       simple_regret_exact_8[slice20],\n",
        "       simple_regret_exact_9[slice20],\n",
        "       simple_regret_exact_10[slice20],\n",
        "       simple_regret_exact_11[slice20],\n",
        "       simple_regret_exact_12[slice20],\n",
        "       simple_regret_exact_13[slice20],\n",
        "       simple_regret_exact_14[slice20],\n",
        "       simple_regret_exact_15[slice20],\n",
        "       simple_regret_exact_16[slice20],\n",
        "       simple_regret_exact_17[slice20],\n",
        "       simple_regret_exact_18[slice20],\n",
        "       simple_regret_exact_19[slice20],\n",
        "       simple_regret_exact_20[slice20]]\n",
        "\n",
        "approx20_results = pd.DataFrame(approx20).sort_values(by=[0], ascending=False)\n",
        "exact20_results = pd.DataFrame(exact20).sort_values(by=[0], ascending=False)\n",
        "\n",
        "### Best simple regret minimization IQR - approx:\n",
        "lower_approx20 = np.asarray(approx20_results[4:5][0])[0]\n",
        "median_approx20 = np.asarray(approx20_results[9:10][0])[0]\n",
        "upper_approx20 = np.asarray(approx20_results[14:15][0])[0]\n",
        "\n",
        "lower_exact20 = np.asarray(exact20_results[4:5][0])[0]\n",
        "median_exact20 = np.asarray(exact20_results[9:10][0])[0]\n",
        "upper_exact20 = np.asarray(exact20_results[14:15][0])[0]"
      ]
    },
    {
      "cell_type": "code",
      "execution_count": 96,
      "metadata": {
        "id": "gn36RejbQxf_"
      },
      "outputs": [],
      "source": [
        "### Summarize arrays: 'Loser'\n",
        "\n",
        "lower_approx = [lower_approx1,\n",
        "            lower_approx2,\n",
        "            lower_approx3,\n",
        "            lower_approx4,\n",
        "            lower_approx5,\n",
        "            lower_approx6,\n",
        "            lower_approx7,\n",
        "            lower_approx8,\n",
        "            lower_approx9,\n",
        "            lower_approx10,\n",
        "            lower_approx11,\n",
        "            lower_approx12,\n",
        "            lower_approx13,\n",
        "            lower_approx14,\n",
        "            lower_approx15,\n",
        "            lower_approx16,\n",
        "            lower_approx17,\n",
        "            lower_approx18,\n",
        "            lower_approx19,\n",
        "            lower_approx20,\n",
        "            lower_approx21]\n",
        "\n",
        "median_approx = [median_approx1,\n",
        "            median_approx2,\n",
        "            median_approx3,\n",
        "            median_approx4,\n",
        "            median_approx5,\n",
        "            median_approx6,\n",
        "            median_approx7,\n",
        "            median_approx8,\n",
        "            median_approx9,\n",
        "            median_approx10,\n",
        "            median_approx11,\n",
        "            median_approx12,\n",
        "            median_approx13,\n",
        "            median_approx14,\n",
        "            median_approx15,\n",
        "            median_approx16,\n",
        "            median_approx17,\n",
        "            median_approx18,\n",
        "            median_approx19,\n",
        "            median_approx20,\n",
        "            median_approx21]\n",
        "\n",
        "upper_approx = [upper_approx1,\n",
        "            upper_approx2,\n",
        "            upper_approx3,\n",
        "            upper_approx4,\n",
        "            upper_approx5,\n",
        "            upper_approx6,\n",
        "            upper_approx7,\n",
        "            upper_approx8,\n",
        "            upper_approx9,\n",
        "            upper_approx10,\n",
        "            upper_approx11,\n",
        "            upper_approx12,\n",
        "            upper_approx13,\n",
        "            upper_approx14,\n",
        "            upper_approx15,\n",
        "            upper_approx16,\n",
        "            upper_approx17,\n",
        "            upper_approx18,\n",
        "            upper_approx19,\n",
        "            upper_approx20,\n",
        "            upper_approx21]"
      ]
    },
    {
      "cell_type": "code",
      "execution_count": 97,
      "metadata": {
        "id": "wxtGTOYfQxf_"
      },
      "outputs": [],
      "source": [
        "### Summarize arrays: 'exact'\n",
        "\n",
        "lower_exact = [lower_exact1,\n",
        "            lower_exact2,\n",
        "            lower_exact3,\n",
        "            lower_exact4,\n",
        "            lower_exact5,\n",
        "            lower_exact6,\n",
        "            lower_exact7,\n",
        "            lower_exact8,\n",
        "            lower_exact9,\n",
        "            lower_exact10,\n",
        "            lower_exact11,\n",
        "            lower_exact12,\n",
        "            lower_exact13,\n",
        "            lower_exact14,\n",
        "            lower_exact15,\n",
        "            lower_exact16,\n",
        "            lower_exact17,\n",
        "            lower_exact18,\n",
        "            lower_exact19,\n",
        "            lower_exact20,\n",
        "            lower_exact21]\n",
        "\n",
        "median_exact = [median_exact1,\n",
        "            median_exact2,\n",
        "            median_exact3,\n",
        "            median_exact4,\n",
        "            median_exact5,\n",
        "            median_exact6,\n",
        "            median_exact7,\n",
        "            median_exact8,\n",
        "            median_exact9,\n",
        "            median_exact10,\n",
        "            median_exact11,\n",
        "            median_exact12,\n",
        "            median_exact13,\n",
        "            median_exact14,\n",
        "            median_exact15,\n",
        "            median_exact16,\n",
        "            median_exact17,\n",
        "            median_exact18,\n",
        "            median_exact19,\n",
        "            median_exact20,\n",
        "            median_exact21]\n",
        "\n",
        "upper_exact = [upper_exact1,\n",
        "            upper_exact2,\n",
        "            upper_exact3,\n",
        "            upper_exact4,\n",
        "            upper_exact5,\n",
        "            upper_exact6,\n",
        "            upper_exact7,\n",
        "            upper_exact8,\n",
        "            upper_exact9,\n",
        "            upper_exact10,\n",
        "            upper_exact11,\n",
        "            upper_exact12,\n",
        "            upper_exact13,\n",
        "            upper_exact14,\n",
        "            upper_exact15,\n",
        "            upper_exact16,\n",
        "            upper_exact17,\n",
        "            upper_exact18,\n",
        "            upper_exact19,\n",
        "            upper_exact20,\n",
        "            upper_exact21]"
      ]
    },
    {
      "cell_type": "code",
      "execution_count": 122,
      "metadata": {
        "id": "2MONq-BXQxgA",
        "colab": {
          "base_uri": "https://localhost:8080/",
          "height": 299
        },
        "outputId": "bbcd8479-756b-4c72-8196-9a6c899ba344"
      },
      "outputs": [
        {
          "output_type": "display_data",
          "data": {
            "text/plain": [
              "<Figure size 432x288 with 1 Axes>"
            ],
            "image/png": "[encoded data removed]"
          },
          "metadata": {
            "needs_background": "light"
          }
        }
      ],
      "source": [
        "### Visualise!\n",
        "\n",
        "title = func\n",
        "plt.figure()\n",
        "\n",
        "plt.plot(median_approx, color = 'Yellow', ls='--')\n",
        "plt.plot(median_exact, color = 'Red', ls='--')\n",
        "\n",
        "xstar = np.arange(0, iters+1, step=1)\n",
        "plt.fill_between(xstar, lower_approx, upper_approx, facecolor = 'Yellow', alpha=0.4, label='STP EI Optimisation: Approx STP EI gradients ' r'($\\nu$' ' = {})'.format(df))\n",
        "plt.fill_between(xstar, lower_exact, upper_exact, facecolor = 'Red', alpha=0.4, label='STP EI Optimisation: Exact STP dEI gradients ' r'($\\nu$' ' = {})'.format(df))\n",
        "\n",
        "plt.title(title, weight = 'bold')\n",
        "plt.xlabel('(Post-initialisation) iteration $\\it{k}$', weight = 'bold')\n",
        "plt.ylabel('log(Regret)', weight = 'bold') \n",
        "plt.legend(loc=0) # add plot legend\n",
        "\n",
        "### Make the x-ticks integers, not floats:\n",
        "count = len(xstar)\n",
        "plt.xticks(np.arange(count), np.arange(0, count))\n",
        "plt.show() #visualise!\n"
      ]
    },
    {
      "cell_type": "code",
      "execution_count": 99,
      "metadata": {
        "id": "l5dkR2Id2oiu",
        "colab": {
          "base_uri": "https://localhost:8080/"
        },
        "outputId": "f6221bf4-3421-4b46-cd0d-e4378898aa50"
      },
      "outputs": [
        {
          "output_type": "execute_result",
          "data": {
            "text/plain": [
              "(1003.6228203773499, 1028.9810876846313)"
            ]
          },
          "metadata": {},
          "execution_count": 99
        }
      ],
      "source": [
        "time_approx, time_exact\n"
      ]
    },
    {
      "cell_type": "code",
      "source": [
        "### acqFunc attribute x, stddev: run number = 1\n",
        "\n",
        "acqFuncApprox_exact_1 = acqFuncApprox(exact_1.history)\n",
        "acqFuncExact_exact_1 = acqFuncExact(exact_1.history)\n",
        "\n",
        "e1 = np.mean(acqFuncExact_exact_1)\n",
        "a1 = np.mean(acqFuncApprox_exact_1)\n",
        "\n",
        "e1, a1\n"
      ],
      "metadata": {
        "id": "uwxv4dmfGsLr",
        "colab": {
          "base_uri": "https://localhost:8080/"
        },
        "outputId": "1d22b99b-f029-42ea-e1ca-1fd019ed3f4e"
      },
      "execution_count": 100,
      "outputs": [
        {
          "output_type": "execute_result",
          "data": {
            "text/plain": [
              "(2.89533364756175, 3.374589745046169)"
            ]
          },
          "metadata": {},
          "execution_count": 100
        }
      ]
    },
    {
      "cell_type": "code",
      "source": [
        "### acqFunc attribute x, stddev: run number = 2\n",
        "\n",
        "acqFuncApprox_exact_2 = acqFuncApprox(exact_2.history)\n",
        "acqFuncExact_exact_2 = acqFuncExact(exact_2.history)\n",
        "\n",
        "e2 = np.mean(acqFuncExact_exact_2)\n",
        "a2 = np.mean(acqFuncApprox_exact_2)\n",
        "\n",
        "e2, a2\n"
      ],
      "metadata": {
        "id": "0YSV00_pGsXe",
        "colab": {
          "base_uri": "https://localhost:8080/"
        },
        "outputId": "f8205a9c-fd6b-4282-a2b4-46b514b82404"
      },
      "execution_count": 101,
      "outputs": [
        {
          "output_type": "execute_result",
          "data": {
            "text/plain": [
              "(2.52836192793304, 2.870726352700752)"
            ]
          },
          "metadata": {},
          "execution_count": 101
        }
      ]
    },
    {
      "cell_type": "code",
      "source": [
        "### acqFunc attribute x, stddev: run number = 3\n",
        "\n",
        "acqFuncApprox_exact_3 = acqFuncApprox(exact_3.history)\n",
        "acqFuncExact_exact_3 = acqFuncExact(exact_3.history)\n",
        "\n",
        "e3 = np.mean(acqFuncExact_exact_3)\n",
        "a3 = np.mean(acqFuncApprox_exact_3)\n",
        "\n",
        "e3, a3\n"
      ],
      "metadata": {
        "id": "HHVmsd2UGsjT",
        "colab": {
          "base_uri": "https://localhost:8080/"
        },
        "outputId": "b9bfb6c2-b98b-44ed-d340-807fe51b4c9d"
      },
      "execution_count": 102,
      "outputs": [
        {
          "output_type": "execute_result",
          "data": {
            "text/plain": [
              "(2.877981982735131, 3.490410033763581)"
            ]
          },
          "metadata": {},
          "execution_count": 102
        }
      ]
    },
    {
      "cell_type": "code",
      "source": [
        "### acqFunc attribute x, stddev: run number = 4\n",
        "\n",
        "acqFuncApprox_exact_4 = acqFuncApprox(exact_4.history)\n",
        "acqFuncExact_exact_4 = acqFuncExact(exact_4.history)\n",
        "\n",
        "e4 = np.mean(acqFuncExact_exact_4)\n",
        "a4 = np.mean(acqFuncApprox_exact_4)\n",
        "\n",
        "e4, a4\n"
      ],
      "metadata": {
        "id": "r7O19S2eGsu7",
        "colab": {
          "base_uri": "https://localhost:8080/"
        },
        "outputId": "2dac046f-c2ca-4499-ab70-15fdac20ce5a"
      },
      "execution_count": 103,
      "outputs": [
        {
          "output_type": "execute_result",
          "data": {
            "text/plain": [
              "(2.478016471625403, 3.1924004093295344)"
            ]
          },
          "metadata": {},
          "execution_count": 103
        }
      ]
    },
    {
      "cell_type": "code",
      "source": [
        "### acqFunc attribute x, stddev: run number = 5\n",
        "\n",
        "acqFuncApprox_exact_5 = acqFuncApprox(exact_5.history)\n",
        "acqFuncExact_exact_5 = acqFuncExact(exact_5.history)\n",
        "\n",
        "e5 = np.mean(acqFuncExact_exact_5)\n",
        "a5 = np.mean(acqFuncApprox_exact_5)\n",
        "\n",
        "e5, a5\n"
      ],
      "metadata": {
        "id": "sdb9o6NuGs5m",
        "colab": {
          "base_uri": "https://localhost:8080/"
        },
        "outputId": "89e4aaf6-e7f1-4ce4-afdf-b0cdbea35113"
      },
      "execution_count": 104,
      "outputs": [
        {
          "output_type": "execute_result",
          "data": {
            "text/plain": [
              "(2.5167973480364223, 3.1855781010700044)"
            ]
          },
          "metadata": {},
          "execution_count": 104
        }
      ]
    },
    {
      "cell_type": "code",
      "source": [
        "### acqFunc attribute x, stddev: run number = 6\n",
        "\n",
        "acqFuncApprox_exact_6 = acqFuncApprox(exact_6.history)\n",
        "acqFuncExact_exact_6 = acqFuncExact(exact_6.history)\n",
        "\n",
        "e6 = np.mean(acqFuncExact_exact_6)\n",
        "a6 = np.mean(acqFuncApprox_exact_6)\n",
        "\n",
        "e6, a6\n"
      ],
      "metadata": {
        "id": "COQl7LZ8GtE0",
        "colab": {
          "base_uri": "https://localhost:8080/"
        },
        "outputId": "8539066b-1d03-4820-c47d-0ca65e392e9c"
      },
      "execution_count": 105,
      "outputs": [
        {
          "output_type": "execute_result",
          "data": {
            "text/plain": [
              "(2.698496832720985, 3.361214553382473)"
            ]
          },
          "metadata": {},
          "execution_count": 105
        }
      ]
    },
    {
      "cell_type": "code",
      "source": [
        "### acqFunc attribute x, stddev: run number = 7\n",
        "\n",
        "acqFuncApprox_exact_7 = acqFuncApprox(exact_7.history)\n",
        "acqFuncExact_exact_7 = acqFuncExact(exact_7.history)\n",
        "\n",
        "e7 = np.mean(acqFuncExact_exact_7)\n",
        "a7 = np.mean(acqFuncApprox_exact_7)\n",
        "\n",
        "e7, a7\n"
      ],
      "metadata": {
        "id": "2gy9EtTzGtP7",
        "colab": {
          "base_uri": "https://localhost:8080/"
        },
        "outputId": "c99a1119-98c9-44fe-c0a1-728a88d35597"
      },
      "execution_count": 106,
      "outputs": [
        {
          "output_type": "execute_result",
          "data": {
            "text/plain": [
              "(2.5894392323991267, 2.9565380864077153)"
            ]
          },
          "metadata": {},
          "execution_count": 106
        }
      ]
    },
    {
      "cell_type": "code",
      "source": [
        "### acqFunc attribute x, stddev: run number = 8\n",
        "\n",
        "acqFuncApprox_exact_8 = acqFuncApprox(exact_8.history)\n",
        "acqFuncExact_exact_8 = acqFuncExact(exact_8.history)\n",
        "\n",
        "e8 = np.mean(acqFuncExact_exact_8)\n",
        "a8 = np.mean(acqFuncApprox_exact_8)\n",
        "\n",
        "e8, a8\n"
      ],
      "metadata": {
        "id": "S7mn0qoMGtbM",
        "colab": {
          "base_uri": "https://localhost:8080/"
        },
        "outputId": "5bbcce3f-62fe-444d-85e2-8f898b0cda34"
      },
      "execution_count": 107,
      "outputs": [
        {
          "output_type": "execute_result",
          "data": {
            "text/plain": [
              "(3.1584149045841245, 3.3769523870322935)"
            ]
          },
          "metadata": {},
          "execution_count": 107
        }
      ]
    },
    {
      "cell_type": "code",
      "source": [
        "### acqFunc attribute x, stddev: run number = 9\n",
        "\n",
        "acqFuncApprox_exact_9 = acqFuncApprox(exact_9.history)\n",
        "acqFuncExact_exact_9 = acqFuncExact(exact_9.history)\n",
        "\n",
        "e9 = np.mean(acqFuncExact_exact_9)\n",
        "a9 = np.mean(acqFuncApprox_exact_9)\n",
        "\n",
        "e9, a9\n"
      ],
      "metadata": {
        "id": "BhljmkNxGtms",
        "colab": {
          "base_uri": "https://localhost:8080/"
        },
        "outputId": "d19ccc5f-7d35-4e95-ec19-8d394e318a01"
      },
      "execution_count": 108,
      "outputs": [
        {
          "output_type": "execute_result",
          "data": {
            "text/plain": [
              "(2.829408281278635, 3.360818047068752)"
            ]
          },
          "metadata": {},
          "execution_count": 108
        }
      ]
    },
    {
      "cell_type": "code",
      "source": [
        "### acqFunc attribute x, stddev: run number = 10\n",
        "\n",
        "acqFuncApprox_exact_10 = acqFuncApprox(exact_10.history)\n",
        "acqFuncExact_exact_10 = acqFuncExact(exact_10.history)\n",
        "\n",
        "e10 = np.mean(acqFuncExact_exact_10)\n",
        "a10 = np.mean(acqFuncApprox_exact_10)\n",
        "\n",
        "e10, a10\n"
      ],
      "metadata": {
        "id": "W5GZo6k3Gtx8",
        "colab": {
          "base_uri": "https://localhost:8080/"
        },
        "outputId": "6ba5a214-d78e-42ce-b5dd-bf84cbd092f8"
      },
      "execution_count": 109,
      "outputs": [
        {
          "output_type": "execute_result",
          "data": {
            "text/plain": [
              "(2.892241909378918, 3.691096509798925)"
            ]
          },
          "metadata": {},
          "execution_count": 109
        }
      ]
    },
    {
      "cell_type": "code",
      "source": [
        "### acqFunc attribute x, stddev: run number = 11\n",
        "\n",
        "acqFuncApprox_exact_11 = acqFuncApprox(exact_11.history)\n",
        "acqFuncExact_exact_11 = acqFuncExact(exact_11.history)\n",
        "\n",
        "e11 = np.mean(acqFuncExact_exact_11)\n",
        "a11 = np.mean(acqFuncApprox_exact_11)\n",
        "\n",
        "e11, a11\n"
      ],
      "metadata": {
        "id": "isKNhDk5Gt9D",
        "colab": {
          "base_uri": "https://localhost:8080/"
        },
        "outputId": "630eade3-6bbc-4c57-f23d-298310d2958a"
      },
      "execution_count": 110,
      "outputs": [
        {
          "output_type": "execute_result",
          "data": {
            "text/plain": [
              "(2.657448848184115, 3.4977673013862463)"
            ]
          },
          "metadata": {},
          "execution_count": 110
        }
      ]
    },
    {
      "cell_type": "code",
      "source": [
        "### acqFunc attribute x, stddev: run number = 12\n",
        "\n",
        "acqFuncApprox_exact_12 = acqFuncApprox(exact_12.history)\n",
        "acqFuncExact_exact_12 = acqFuncExact(exact_12.history)\n",
        "\n",
        "e12 = np.mean(acqFuncExact_exact_12)\n",
        "a12 = np.mean(acqFuncApprox_exact_12)\n",
        "\n",
        "e12, a12\n"
      ],
      "metadata": {
        "id": "8ts-wrSuGuIm",
        "colab": {
          "base_uri": "https://localhost:8080/"
        },
        "outputId": "d6ba228e-4801-4a52-d0d4-4b0719f45b2d"
      },
      "execution_count": 111,
      "outputs": [
        {
          "output_type": "execute_result",
          "data": {
            "text/plain": [
              "(2.495996949288121, 2.5035124726278704)"
            ]
          },
          "metadata": {},
          "execution_count": 111
        }
      ]
    },
    {
      "cell_type": "code",
      "source": [
        "### acqFunc attribute x, stddev: run number = 13\n",
        "\n",
        "acqFuncApprox_exact_13 = acqFuncApprox(exact_13.history)\n",
        "acqFuncExact_exact_13 = acqFuncExact(exact_13.history)\n",
        "\n",
        "e13 = np.mean(acqFuncExact_exact_13)\n",
        "a13 = np.mean(acqFuncApprox_exact_13)\n",
        "\n",
        "e13, a13\n"
      ],
      "metadata": {
        "id": "n0drhEe3GuUL",
        "colab": {
          "base_uri": "https://localhost:8080/"
        },
        "outputId": "3e4e3af9-7b85-4854-9f5f-90b4307333cc"
      },
      "execution_count": 112,
      "outputs": [
        {
          "output_type": "execute_result",
          "data": {
            "text/plain": [
              "(2.7101791539033346, 3.456297730465066)"
            ]
          },
          "metadata": {},
          "execution_count": 112
        }
      ]
    },
    {
      "cell_type": "code",
      "source": [
        "### acqFunc attribute x, stddev: run number = 14\n",
        "\n",
        "acqFuncApprox_exact_14 = acqFuncApprox(exact_14.history)\n",
        "acqFuncExact_exact_14 = acqFuncExact(exact_14.history)\n",
        "\n",
        "e14 = np.mean(acqFuncExact_exact_14)\n",
        "a14 = np.mean(acqFuncApprox_exact_14)\n",
        "\n",
        "e14, a14\n"
      ],
      "metadata": {
        "id": "R0W3MZaVGues",
        "colab": {
          "base_uri": "https://localhost:8080/"
        },
        "outputId": "4b3f8a60-e4aa-4918-a561-08dd82842ab4"
      },
      "execution_count": 113,
      "outputs": [
        {
          "output_type": "execute_result",
          "data": {
            "text/plain": [
              "(2.7437788788909665, 3.3648804611051837)"
            ]
          },
          "metadata": {},
          "execution_count": 113
        }
      ]
    },
    {
      "cell_type": "code",
      "source": [
        "### acqFunc attribute x, stddev: run number = 15\n",
        "\n",
        "acqFuncApprox_exact_15 = acqFuncApprox(exact_15.history)\n",
        "acqFuncExact_exact_15 = acqFuncExact(exact_15.history)\n",
        "\n",
        "e15 = np.mean(acqFuncExact_exact_15)\n",
        "a15 = np.mean(acqFuncApprox_exact_15)\n",
        "\n",
        "e15, a15\n"
      ],
      "metadata": {
        "id": "DoXdDFHoGup-",
        "colab": {
          "base_uri": "https://localhost:8080/"
        },
        "outputId": "103da6f9-2f1a-4776-bcb6-6b55e5271cf3"
      },
      "execution_count": 114,
      "outputs": [
        {
          "output_type": "execute_result",
          "data": {
            "text/plain": [
              "(2.6525168365578677, 3.2309229700177298)"
            ]
          },
          "metadata": {},
          "execution_count": 114
        }
      ]
    },
    {
      "cell_type": "code",
      "source": [
        "### acqFunc attribute x, stddev: run number = 16\n",
        "\n",
        "acqFuncApprox_exact_16 = acqFuncApprox(exact_16.history)\n",
        "acqFuncExact_exact_16 = acqFuncExact(exact_16.history)\n",
        "\n",
        "e16 = np.mean(acqFuncExact_exact_16)\n",
        "a16 = np.mean(acqFuncApprox_exact_16)\n",
        "\n",
        "e16, a16\n"
      ],
      "metadata": {
        "id": "K_wAeqSoGu2j",
        "colab": {
          "base_uri": "https://localhost:8080/"
        },
        "outputId": "28a916a0-d303-4b0a-ca65-e436d5246c9b"
      },
      "execution_count": 115,
      "outputs": [
        {
          "output_type": "execute_result",
          "data": {
            "text/plain": [
              "(2.470091977811246, 2.728502651957269)"
            ]
          },
          "metadata": {},
          "execution_count": 115
        }
      ]
    },
    {
      "cell_type": "code",
      "source": [
        "### acqFunc attribute x, stddev: run number = 17\n",
        "\n",
        "acqFuncApprox_exact_17 = acqFuncApprox(exact_17.history)\n",
        "acqFuncExact_exact_17 = acqFuncExact(exact_17.history)\n",
        "\n",
        "e17 = np.mean(acqFuncExact_exact_17)\n",
        "a17 = np.mean(acqFuncApprox_exact_17)\n",
        "\n",
        "e17, a17\n"
      ],
      "metadata": {
        "id": "n6zy78fjGvBT",
        "colab": {
          "base_uri": "https://localhost:8080/"
        },
        "outputId": "e167ed0a-cb57-4060-e0fa-5817aec8d655"
      },
      "execution_count": 116,
      "outputs": [
        {
          "output_type": "execute_result",
          "data": {
            "text/plain": [
              "(2.8771512643425554, 3.1851946154963477)"
            ]
          },
          "metadata": {},
          "execution_count": 116
        }
      ]
    },
    {
      "cell_type": "code",
      "source": [
        "### acqFunc attribute x, stddev: run number = 18\n",
        "\n",
        "acqFuncApprox_exact_18 = acqFuncApprox(exact_18.history)\n",
        "acqFuncExact_exact_18 = acqFuncExact(exact_18.history)\n",
        "\n",
        "e18 = np.mean(acqFuncExact_exact_18)\n",
        "a18 = np.mean(acqFuncApprox_exact_18)\n",
        "\n",
        "e18, a18\n"
      ],
      "metadata": {
        "id": "s_6_2K4iGvM-",
        "colab": {
          "base_uri": "https://localhost:8080/"
        },
        "outputId": "13a047b3-3d80-4f1a-ed5b-a883f242a65c"
      },
      "execution_count": 117,
      "outputs": [
        {
          "output_type": "execute_result",
          "data": {
            "text/plain": [
              "(2.7237035718628997, 3.656579604650305)"
            ]
          },
          "metadata": {},
          "execution_count": 117
        }
      ]
    },
    {
      "cell_type": "code",
      "source": [
        "### acqFunc attribute x, stddev: run number = 19\n",
        "\n",
        "acqFuncApprox_exact_19 = acqFuncApprox(exact_19.history)\n",
        "acqFuncExact_exact_19 = acqFuncExact(exact_19.history)\n",
        "\n",
        "e19 = np.mean(acqFuncExact_exact_19)\n",
        "a19 = np.mean(acqFuncApprox_exact_19)\n",
        "\n",
        "e19, a19\n"
      ],
      "metadata": {
        "id": "o8oO8pdBGvYk",
        "colab": {
          "base_uri": "https://localhost:8080/"
        },
        "outputId": "d9a9722b-a359-4818-c700-4483d896b193"
      },
      "execution_count": 118,
      "outputs": [
        {
          "output_type": "execute_result",
          "data": {
            "text/plain": [
              "(2.470506355294384, 3.2970143705188697)"
            ]
          },
          "metadata": {},
          "execution_count": 118
        }
      ]
    },
    {
      "cell_type": "code",
      "source": [
        "### acqFunc attribute x, stddev: run number = 20\n",
        "\n",
        "acqFuncApprox_exact_20 = acqFuncApprox(exact_20.history)\n",
        "acqFuncExact_exact_20 = acqFuncExact(exact_20.history)\n",
        "\n",
        "e20 = np.mean(acqFuncExact_exact_20)\n",
        "a20 = np.mean(acqFuncApprox_exact_20)\n",
        "\n",
        "e20, a20\n"
      ],
      "metadata": {
        "id": "b2w8oLc0IMzU",
        "colab": {
          "base_uri": "https://localhost:8080/"
        },
        "outputId": "10f6a56b-2cc1-4be8-c197-d646dcfc4a3d"
      },
      "execution_count": 119,
      "outputs": [
        {
          "output_type": "execute_result",
          "data": {
            "text/plain": [
              "(2.6780248229848858, 3.4621734778631508)"
            ]
          },
          "metadata": {},
          "execution_count": 119
        }
      ]
    },
    {
      "cell_type": "code",
      "source": [
        "### Summarize arrays: \n",
        "\n",
        "exact_stddev = np.sort([e1,e2,e3,e4,e5,e6,e7,e8,e9,e10,e11,e12,e13,e14,e15,e16,e17,e18,e19,e20])\n",
        "approx_stddev = np.sort([a1,a2,a3,a4,a5,a6,a7,a8,a9,a10,a11,a12,a13,a14,a15,a16,a17,a18,a19,a20])\n",
        "\n",
        "np.mean(exact_stddev), np.mean(approx_stddev)\n"
      ],
      "metadata": {
        "id": "qAZs3yxMIZul",
        "colab": {
          "base_uri": "https://localhost:8080/"
        },
        "outputId": "f476f501-7459-44b6-9796-8193a3c5ebbe"
      },
      "execution_count": 120,
      "outputs": [
        {
          "output_type": "execute_result",
          "data": {
            "text/plain": [
              "(2.697194559868696, 3.2621584940844115)"
            ]
          },
          "metadata": {},
          "execution_count": 120
        }
      ]
    },
    {
      "cell_type": "code",
      "source": [
        "### Visualise!\n",
        "\n",
        "title = func\n",
        "plt.figure()\n",
        "\n",
        "plt.plot(approx_stddev, color = 'Yellow', ls='--', label='Average $\\sigma$, attribute $\\mathbf{x}$: Approx STP EI gradients')\n",
        "plt.plot(exact_stddev, color = 'Red', ls='-', label='Average $\\sigma$, attribute $\\mathbf{x}$: Exact STP dEI gradients')\n",
        "\n",
        "plt.title(title, weight = 'bold')\n",
        "plt.xlabel('Function evaluations: iteration $\\it{k}$', weight = 'bold')\n",
        "plt.ylabel('STP EI: Average $\\sigma$, attribute $\\mathbf{x}$', weight = 'bold') \n",
        "plt.legend(loc=0) # add plot legend\n",
        "\n",
        "### Make the x-ticks integers, not floats:\n",
        "count = len(xstar)\n",
        "plt.xticks(np.arange(count), np.arange(1, count))\n",
        "plt.show() #visualize!\n"
      ],
      "metadata": {
        "id": "e_kpqYcMIZxu",
        "colab": {
          "base_uri": "https://localhost:8080/",
          "height": 297
        },
        "outputId": "b8daef42-b873-4826-abec-7e5bb4c72946"
      },
      "execution_count": 121,
      "outputs": [
        {
          "output_type": "display_data",
          "data": {
            "text/plain": [
              "<Figure size 432x288 with 1 Axes>"
            ],
            "image/png": "[encoded data removed]"
          },
          "metadata": {
            "needs_background": "light"
          }
        }
      ]
    },
    {
      "cell_type": "code",
      "source": [],
      "metadata": {
        "id": "LToGd4vZIZ3I"
      },
      "execution_count": 121,
      "outputs": []
    }
  ],
  "metadata": {
    "colab": {
      "collapsed_sections": [],
      "provenance": []
    },
    "kernelspec": {
      "display_name": "Python 3",
      "name": "python3"
    },
    "language_info": {
      "name": "python"
    }
  },
  "nbformat": 4,
  "nbformat_minor": 0
}