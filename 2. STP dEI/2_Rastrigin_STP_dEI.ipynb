{
  "cells": [
    {
      "cell_type": "markdown",
      "metadata": {
        "id": "Dqn4dFx7Z2Ir"
      },
      "source": [
        "\n",
        "Rastrigin: 2D\n"
      ]
    },
    {
      "cell_type": "code",
      "execution_count": 1,
      "metadata": {
        "colab": {
          "base_uri": "https://localhost:8080/"
        },
        "id": "MJTM_GZZZb5x",
        "outputId": "cdfb64cd-259a-45a2-9ea1-44e5a1e68a7f"
      },
      "outputs": [
        {
          "output_type": "stream",
          "name": "stdout",
          "text": [
            "Looking in indexes: https://pypi.org/simple, https://us-python.pkg.dev/colab-wheels/public/simple/\n",
            "Collecting pyGPGO\n",
            "  Downloading pyGPGO-0.5.1.tar.gz (14 kB)\n",
            "Requirement already satisfied: numpy in /usr/local/lib/python3.7/dist-packages (from pyGPGO) (1.21.6)\n",
            "Requirement already satisfied: mkl in /usr/local/lib/python3.7/dist-packages (from pyGPGO) (2019.0)\n",
            "Requirement already satisfied: scipy in /usr/local/lib/python3.7/dist-packages (from pyGPGO) (1.7.3)\n",
            "Requirement already satisfied: joblib in /usr/local/lib/python3.7/dist-packages (from pyGPGO) (1.1.0)\n",
            "Requirement already satisfied: scikit-learn in /usr/local/lib/python3.7/dist-packages (from pyGPGO) (1.0.2)\n",
            "Collecting Theano-PyMC\n",
            "  Downloading Theano-PyMC-1.1.2.tar.gz (1.8 MB)\n",
            "\u001b[K     |████████████████████████████████| 1.8 MB 38.5 MB/s \n",
            "\u001b[?25hCollecting pyMC3\n",
            "  Downloading pymc3-3.11.5-py3-none-any.whl (872 kB)\n",
            "\u001b[K     |████████████████████████████████| 872 kB 80.2 MB/s \n",
            "\u001b[?25hRequirement already satisfied: intel-openmp in /usr/local/lib/python3.7/dist-packages (from mkl->pyGPGO) (2022.1.0)\n",
            "Requirement already satisfied: dill in /usr/local/lib/python3.7/dist-packages (from pyMC3->pyGPGO) (0.3.5.1)\n",
            "Collecting semver>=2.13.0\n",
            "  Downloading semver-2.13.0-py2.py3-none-any.whl (12 kB)\n",
            "Requirement already satisfied: arviz>=0.11.0 in /usr/local/lib/python3.7/dist-packages (from pyMC3->pyGPGO) (0.12.1)\n",
            "Requirement already satisfied: pandas>=0.24.0 in /usr/local/lib/python3.7/dist-packages (from pyMC3->pyGPGO) (1.3.5)\n",
            "Requirement already satisfied: cachetools>=4.2.1 in /usr/local/lib/python3.7/dist-packages (from pyMC3->pyGPGO) (4.2.4)\n",
            "Requirement already satisfied: typing-extensions>=3.7.4 in /usr/local/lib/python3.7/dist-packages (from pyMC3->pyGPGO) (4.1.1)\n",
            "Requirement already satisfied: fastprogress>=0.2.0 in /usr/local/lib/python3.7/dist-packages (from pyMC3->pyGPGO) (1.0.3)\n",
            "Collecting deprecat\n",
            "  Downloading deprecat-2.1.1-py2.py3-none-any.whl (9.8 kB)\n",
            "Requirement already satisfied: patsy>=0.5.1 in /usr/local/lib/python3.7/dist-packages (from pyMC3->pyGPGO) (0.5.2)\n",
            "Requirement already satisfied: filelock in /usr/local/lib/python3.7/dist-packages (from Theano-PyMC->pyGPGO) (3.8.0)\n",
            "Requirement already satisfied: xarray>=0.16.1 in /usr/local/lib/python3.7/dist-packages (from arviz>=0.11.0->pyMC3->pyGPGO) (0.20.2)\n",
            "Requirement already satisfied: setuptools>=38.4 in /usr/local/lib/python3.7/dist-packages (from arviz>=0.11.0->pyMC3->pyGPGO) (57.4.0)\n",
            "Requirement already satisfied: xarray-einstats>=0.2 in /usr/local/lib/python3.7/dist-packages (from arviz>=0.11.0->pyMC3->pyGPGO) (0.2.2)\n",
            "Requirement already satisfied: matplotlib>=3.0 in /usr/local/lib/python3.7/dist-packages (from arviz>=0.11.0->pyMC3->pyGPGO) (3.2.2)\n",
            "Requirement already satisfied: netcdf4 in /usr/local/lib/python3.7/dist-packages (from arviz>=0.11.0->pyMC3->pyGPGO) (1.6.0)\n",
            "Requirement already satisfied: packaging in /usr/local/lib/python3.7/dist-packages (from arviz>=0.11.0->pyMC3->pyGPGO) (21.3)\n",
            "Requirement already satisfied: cycler>=0.10 in /usr/local/lib/python3.7/dist-packages (from matplotlib>=3.0->arviz>=0.11.0->pyMC3->pyGPGO) (0.11.0)\n",
            "Requirement already satisfied: kiwisolver>=1.0.1 in /usr/local/lib/python3.7/dist-packages (from matplotlib>=3.0->arviz>=0.11.0->pyMC3->pyGPGO) (1.4.4)\n",
            "Requirement already satisfied: pyparsing!=2.0.4,!=2.1.2,!=2.1.6,>=2.0.1 in /usr/local/lib/python3.7/dist-packages (from matplotlib>=3.0->arviz>=0.11.0->pyMC3->pyGPGO) (3.0.9)\n",
            "Requirement already satisfied: python-dateutil>=2.1 in /usr/local/lib/python3.7/dist-packages (from matplotlib>=3.0->arviz>=0.11.0->pyMC3->pyGPGO) (2.8.2)\n",
            "Requirement already satisfied: pytz>=2017.3 in /usr/local/lib/python3.7/dist-packages (from pandas>=0.24.0->pyMC3->pyGPGO) (2022.2.1)\n",
            "Requirement already satisfied: six in /usr/local/lib/python3.7/dist-packages (from patsy>=0.5.1->pyMC3->pyGPGO) (1.15.0)\n",
            "Requirement already satisfied: importlib-metadata in /usr/local/lib/python3.7/dist-packages (from xarray>=0.16.1->arviz>=0.11.0->pyMC3->pyGPGO) (4.12.0)\n",
            "Requirement already satisfied: wrapt<2,>=1.10 in /usr/local/lib/python3.7/dist-packages (from deprecat->pyMC3->pyGPGO) (1.14.1)\n",
            "Requirement already satisfied: zipp>=0.5 in /usr/local/lib/python3.7/dist-packages (from importlib-metadata->xarray>=0.16.1->arviz>=0.11.0->pyMC3->pyGPGO) (3.8.1)\n",
            "Requirement already satisfied: cftime in /usr/local/lib/python3.7/dist-packages (from netcdf4->arviz>=0.11.0->pyMC3->pyGPGO) (1.6.1)\n",
            "Requirement already satisfied: threadpoolctl>=2.0.0 in /usr/local/lib/python3.7/dist-packages (from scikit-learn->pyGPGO) (3.1.0)\n",
            "Building wheels for collected packages: pyGPGO, Theano-PyMC\n",
            "  Building wheel for pyGPGO (setup.py) ... \u001b[?25l\u001b[?25hdone\n",
            "  Created wheel for pyGPGO: filename=pyGPGO-0.5.1-py3-none-any.whl size=19879 sha256=23f67a7f3420cd30bfe97b598e3a460500076ee0c6194468b030ec1fd148c37d\n",
            "  Stored in directory: /root/.cache/pip/wheels/c8/5d/0b/2160114e2f1b87791c51b66cf07f89831dbb6f49167950316f\n",
            "  Building wheel for Theano-PyMC (setup.py) ... \u001b[?25l\u001b[?25hdone\n",
            "  Created wheel for Theano-PyMC: filename=Theano_PyMC-1.1.2-py3-none-any.whl size=1529963 sha256=15e6fa86a6b5e7c0bfd4fbb331b880d89862afe740723c020a669ab5ab483f5b\n",
            "  Stored in directory: /root/.cache/pip/wheels/f3/af/8c/5dd7553522d74c52a7813806fc7ee1a9caa20a3f7c8fd850d5\n",
            "Successfully built pyGPGO Theano-PyMC\n",
            "Installing collected packages: Theano-PyMC, semver, deprecat, pyMC3, pyGPGO\n",
            "Successfully installed Theano-PyMC-1.1.2 deprecat-2.1.1 pyGPGO-0.5.1 pyMC3-3.11.5 semver-2.13.0\n"
          ]
        }
      ],
      "source": [
        "pip install pyGPGO\n"
      ]
    },
    {
      "cell_type": "code",
      "execution_count": 2,
      "metadata": {
        "id": "ZJSSPbwPaEUB"
      },
      "outputs": [],
      "source": [
        "### 1. Import python modules/packages required:\n",
        "\n",
        "import numpy as np\n",
        "import pandas as pd\n",
        "import scipy as sp\n",
        "import matplotlib.pyplot as plt\n",
        "import warnings\n",
        "import itertools\n",
        "import seaborn as sns\n",
        "import time\n",
        "\n",
        "from pyGPGO.GPGO import GPGO\n",
        "from pyGPGO.surrogates.tStudentProcess import tStudentProcess\n",
        "from pyGPGO.acquisition import Acquisition\n",
        "from pyGPGO.covfunc import squaredExponential\n",
        "from joblib import Parallel, delayed\n",
        "from scipy.linalg import inv\n",
        "from scipy.spatial.distance import cdist\n",
        "from scipy.optimize import minimize\n",
        "from scipy.stats import t\n",
        "from mpl_toolkits.axes_grid1.inset_locator import inset_axes, mark_inset\n",
        "\n",
        "warnings.filterwarnings(\"ignore\", category=RuntimeWarning)\n"
      ]
    },
    {
      "cell_type": "code",
      "execution_count": 3,
      "metadata": {
        "id": "OeYcTUNoaJWa"
      },
      "outputs": [],
      "source": [
        "### Inputs:\n",
        "\n",
        "func = 'Rastrigin'\n",
        "n_test = 500\n",
        "eps = 1e-08\n",
        "\n",
        "util = 'EI'\n",
        "\n",
        "n_init = 5 # random initialisations\n",
        "iters = 20\n",
        "opt = True\n",
        "\n",
        "df = 3"
      ]
    },
    {
      "cell_type": "code",
      "execution_count": 4,
      "metadata": {
        "id": "xpaEOjdzaPMS"
      },
      "outputs": [],
      "source": [
        "### Objective Function - Rastrigin(x) 2-D:\n",
        "\n",
        "def objfunc(x1_training, x2_training):\n",
        "        return  operator * (10 * dim + x1_training** 2 - 10 * np.cos(2 * np.pi * x1_training)\n",
        "                                    + x2_training** 2 - 10 * np.cos(2 * np.pi * x2_training)\n",
        "                          )\n",
        "            \n",
        "# Constraints:\n",
        "lb = -5.12 \n",
        "ub = +5.12\n",
        "    \n",
        "# Input array dimension(s):\n",
        "dim = 2\n",
        "\n",
        "# 2-D inputs' parameter bounds:\n",
        "param = {'x1_training': ('cont', [lb, ub]),\n",
        "             'x2_training': ('cont', [lb, ub])}\n",
        "\n",
        "# True y bounds:\n",
        "operator = -1\n",
        "y_global_orig = 0 # targets global minimum\n",
        "\n",
        "# Test data:\n",
        "x1_test = np.linspace(lb, ub, n_test) \n",
        "x2_test = np.linspace(lb, ub, n_test)\n",
        "  \n",
        "x_test = np.column_stack((x1_test,x2_test))\n"
      ]
    },
    {
      "cell_type": "code",
      "execution_count": 5,
      "metadata": {
        "id": "eYpI3Zm4aGxi"
      },
      "outputs": [],
      "source": [
        "n_start_AcqFunc = iters\n",
        "inverse = -1\n"
      ]
    },
    {
      "cell_type": "code",
      "execution_count": 6,
      "metadata": {
        "id": "oO_GUmOoaV0T"
      },
      "outputs": [],
      "source": [
        "### Cumulative Regret Calculators:\n",
        "\n",
        "def min_max_array(x):\n",
        "    new_list = []\n",
        "    for i, num in enumerate(x):\n",
        "            new_list.append(np.min(x[0:i+1]))\n",
        "    return new_list\n",
        "  \n",
        "def acqFuncExact(x):\n",
        "    new_array = []\n",
        "    x = np.array(x) \n",
        "    for i, num in enumerate(x):\n",
        "            new_array = x[:-2][::-3]\n",
        "    return new_array[::-1]\n",
        "\n",
        "def acqFuncApprox(x):\n",
        "    new_array = []\n",
        "    x = np.array(x) \n",
        "    for i, num in enumerate(x):\n",
        "            new_array = x[:-1][::-3]\n",
        "    return new_array[::-1]\n"
      ]
    },
    {
      "cell_type": "code",
      "execution_count": 7,
      "metadata": {
        "id": "kuuJx0IMam9S"
      },
      "outputs": [],
      "source": [
        "### Surrogate derivatives: \n",
        "\n",
        "cov_func = squaredExponential()\n",
        "\n",
        "def kronDelta(X, Xstar):                     # Kronecker's Delta method\n",
        "    return cdist(X, Xstar) < np.finfo(np.float32).eps\n",
        "\n",
        "def se(X, Xstar, sigmaf, l, sigman):         # S.E. kernel method\n",
        "    return sigmaf * np.exp(-0.5 * cdist(X, Xstar) ** 2 / l ** 2) + sigman * kronDelta(X, Xstar)\n",
        "\n",
        "def delta(X, Xstar):                         # Distance between training X and test Xstar vectors\n",
        "    return (X - Xstar)\n",
        "   \n",
        "def der_covmat(X, Xstar, sigmaf, l, sigman): # Covariance matrix derivative terms (i.e. exact, first-order)\n",
        "    nx = len(X)\n",
        "    ny = len(Xstar)\n",
        "    return np.round(np.array([(delta(np.atleast_2d(i), np.atleast_2d(j))[0] * se(np.atleast_2d(i), np.atleast_2d(j), sigmaf, l, sigman)[0]).sum() for (i, j) in itertools.product(X, Xstar)]).reshape(nx, ny), 8)\n",
        "\n",
        "class dtStudentProcess(tStudentProcess):    # Via inheritance, also optimises hyperparameters when opt = TRUE\n",
        "    \n",
        "    def AcqGrad(self, Xstar):               # Method returning exact, first-order derivatives of the STP's posterior mean and standard deviation\n",
        "        Xstar = np.atleast_2d(Xstar)\n",
        "        Kstar = self.covfunc.K(self.X, Xstar).T\n",
        "        dKstar = der_covmat(self.X, Xstar, self.covfunc.sigmaf, self.covfunc.l, self.covfunc.sigman).T\n",
        "        \n",
        "        smd_adj = (self.nu + self.beta1 - 2) / (self.nu + self.n1 - 2)\n",
        "\n",
        "        alpha = np.dot(np.linalg.inv(self.K11 + (self.covfunc.sigman**2) * np.eye(len(self.X))), self.y)\n",
        "        alpha_Kstar = np.dot(np.linalg.inv(self.K11 + (self.covfunc.sigman**2) * np.eye(len(self.X))), Kstar.T)      \n",
        "        \n",
        "        dm = np.dot(dKstar, alpha)\n",
        "        ds = -2 * smd_adj * np.dot(dKstar, alpha_Kstar)\n",
        "        \n",
        "        return dm, ds \n",
        "        "
      ]
    },
    {
      "cell_type": "code",
      "execution_count": 8,
      "metadata": {
        "id": "_Dc3YVHVaXz7"
      },
      "outputs": [],
      "source": [
        "### Add exact acquisition function gradient as attribute:\n",
        "\n",
        "class Acquisition_grad(Acquisition):    \n",
        "    def __init__(self, mode, eps=eps, **params):\n",
        "        \n",
        "        self.params = params\n",
        "        self.eps = eps\n",
        "\n",
        "        mode_dict = {\n",
        "            'EI': self.EI\n",
        "        }\n",
        "\n",
        "        self.f = mode_dict[mode]\n",
        "    \n",
        "    def EI(self, tau, mean, std, ds, dm, nu=3.0):\n",
        "        gamma = (mean - tau - self.eps) / (std + self.eps)\n",
        "        gamma_h = (mean - tau) / (std + self.eps)\n",
        "        dsdx = ds / (2 * (std + self.eps))\n",
        "        dmdx = (dm - gamma * dsdx) / (std + self.eps)\n",
        "        \n",
        "        f = (std + self.eps) * (gamma * t.cdf(gamma, df=nu) + (nu + gamma ** 2)/(nu - 1) * t.pdf(gamma, df=nu))\n",
        "        df1 = f / (std + self.eps) * dsdx \n",
        "        df2 = (std + self.eps) * (t.cdf(gamma, df=nu) * dmdx + gamma * t.pdf(gamma, df=nu) \\\n",
        "            * (1 - (nu + gamma ** 2)/(nu - 1) + 2/(nu - 1) * dmdx))\n",
        "        df = (df1 + df2)[0]\n",
        "        df_arr = []\n",
        "\n",
        "        for j in range(0, dim):\n",
        "          df_arr.append(df)\n",
        "        return f, np.asarray(df_arr).transpose()\n",
        "        \n",
        "    def d_eval(self, tau, mean, std, ds, dm, nu=3.0):\n",
        "    \n",
        "        return self.f(tau, mean, std, ds, dm, nu=3.0, **self.params)\n",
        "        "
      ]
    },
    {
      "cell_type": "code",
      "execution_count": 9,
      "metadata": {
        "id": "PITEQC8YSl7i"
      },
      "outputs": [],
      "source": [
        "## GPGO_multi: \n",
        "\n",
        "class GPGO_multi(GPGO):\n",
        "    n_start = n_start_AcqFunc\n",
        "\n",
        "    def __init__(self, surrogate, acquisition, f, parameter_dict, n_jobs=1):\n",
        "        self.GP = surrogate\n",
        "        self.A = acquisition\n",
        "        self.f = f\n",
        "        self.parameters = parameter_dict\n",
        "        self.n_jobs = n_jobs\n",
        "\n",
        "        self.parameter_key = list(parameter_dict.keys())\n",
        "        self.parameter_value = list(parameter_dict.values())\n",
        "        self.parameter_type = [p[0] for p in self.parameter_value]\n",
        "        self.parameter_range = [p[1] for p in self.parameter_value]\n",
        "\n",
        "        self.history = []\n",
        "        self.header =   'Evaluation \\t Proposed point \\t  Current eval. \\t  Best eval. \\t        Exact EI: StdDev. x \\t Approx EI: StdDev. x '\n",
        "        self.template = '{:3}\\t {}\\t {:3}\\t {:3}\\t {:3}\\t {:3}'\n",
        " \n",
        "    def acqfuncExact(self, xnew, n_start=n_start_AcqFunc):\n",
        "        new_mean, new_var = self.GP.predict(xnew, return_std=True)\n",
        "        new_std = np.sqrt(new_var + eps)\n",
        "        dm, ds = self.GP.AcqGrad(xnew)\n",
        "        f, df = self.A.d_eval(self.tau, new_mean, new_std, ds=ds, dm=dm, nu=3.0)\n",
        "\n",
        "        return -f, -df\n",
        "   \n",
        "    def acqfuncApprox(self, xnew, n_start=n_start_AcqFunc):\n",
        "        new_mean, new_var = self.GP.predict(xnew, return_std=True)\n",
        "        new_std = np.sqrt(new_var + eps)\n",
        "        dm, ds = self.GP.AcqGrad(xnew)\n",
        "        f, df = self.A.d_eval(self.tau, new_mean, new_std, ds=ds, dm=dm, nu=3.0)\n",
        "\n",
        "        return -f\n",
        "   \n",
        "    def _optimizeAcq(self, method='L-BFGS-B', n_start=n_start_AcqFunc):\n",
        "        \n",
        "        start_points_dict = [self._sampleParam() for i in range(n_start)]\n",
        "        start_points_arr = np.array([list(s.values())\n",
        "                                     for s in start_points_dict])\n",
        "        x_best = np.empty((n_start, len(self.parameter_key)))\n",
        "        f_best = np.empty((n_start,))\n",
        "        opt = Parallel(n_jobs=self.n_jobs)(delayed(minimize)(self.acqfuncApprox,\n",
        "                                                                 x0=start_point,\n",
        "                                                                 method=method,\n",
        "                                                                 jac = False,\n",
        "                                                                 bounds=self.parameter_range) for start_point in\n",
        "                                               start_points_arr)\n",
        "        x_best = np.array([res.x for res in opt])\n",
        "        f_best = np.array([np.atleast_1d(res.fun)[0] for res in opt])\n",
        "        f_best_min = min(f_best)\n",
        "\n",
        "        self.x_best = x_best\n",
        "        self.f_best = f_best\n",
        "        self.f_best_min = f_best_min\n",
        "        self.x_best_std = np.std(x_best)\n",
        "        self.best = x_best[np.argmin(f_best)]\n",
        "        self.start_points_arr = start_points_arr        \n",
        "        self.history.append(self.x_best_std)\n",
        "\n",
        "        x_best_exact = np.empty((n_start, len(self.parameter_key)))\n",
        "        f_best_exact = np.empty((n_start,))\n",
        "        opt_exact = Parallel(n_jobs=self.n_jobs)(delayed(minimize)(self.acqfuncExact,\n",
        "                                                                 x0=start_point,\n",
        "                                                                 method=method,\n",
        "                                                                 jac = True,\n",
        "                                                                 bounds=self.parameter_range) for start_point in\n",
        "                                               start_points_arr)\n",
        "        x_best_exact = np.array([res.x for res in opt_exact])\n",
        "        f_best_exact = np.array([np.atleast_1d(res.fun)[0] for res in opt_exact])\n",
        "        f_best_min_exact = min(f_best_exact)\n",
        "\n",
        "        self.x_best_exact = x_best_exact\n",
        "        self.f_best_exact = f_best_exact\n",
        "        self.f_best_min_exact = f_best_min_exact\n",
        "        self.x_best_std_exact = np.std(x_best_exact)\n",
        "        self.best_exact = x_best_exact[np.argmin(f_best_exact)]\n",
        "        self.start_points_arr = start_points_arr\n",
        "        self.history.append(self.x_best_std_exact)\n",
        "\n",
        "    def _printInit(self):\n",
        "        print(self.header)\n",
        "        for init_eval in range(self.init_evals):\n",
        "            print(self.template.format('init', self.GP.X[init_eval], inverse * self.GP.y[init_eval], inverse * self.tau, '', ''))\n",
        "      \n",
        "    def _printCurrent(self):\n",
        "        OKGREEN = '\\033[92m'\n",
        "        ENDC = '\\033[0m'\n",
        "        BOLD = '\\033[1m'\n",
        "        eval = str(len(self.GP.y) - self.init_evals)\n",
        "        proposed = str(self.best)\n",
        "        curr_eval = str(inverse * self.GP.y[-1])\n",
        "        curr_best = str(inverse * self.tau)\n",
        "        min_acqfunc = str(self.f_best_min)\n",
        "        min_acqfunc_exact = str(self.f_best_min_exact)\n",
        "        x_best_std = str(self.x_best_std)\n",
        "        x_best_std_exact = str(self.x_best_std_exact)\n",
        "        if float(curr_eval) <= float(curr_best):\n",
        "            eval = BOLD + OKGREEN + eval + ENDC\n",
        "            proposed = BOLD + OKGREEN + proposed + ENDC\n",
        "            curr_eval = BOLD + OKGREEN + curr_eval + ENDC\n",
        "            curr_best = BOLD + OKGREEN + curr_best + ENDC\n",
        "            x_best_std = BOLD + OKGREEN + x_best_std + ENDC\n",
        "            x_best_std_exact = BOLD + OKGREEN + x_best_std_exact + ENDC\n",
        "        print(self.template.format(eval, proposed, curr_eval, curr_best, x_best_std_exact, x_best_std))\n",
        "        \n",
        "    def run(self, max_iter=10, init_evals=3, resume=False):\n",
        "        \n",
        "        if not resume:\n",
        "            self.init_evals = init_evals\n",
        "            self._firstRun(self.init_evals)\n",
        "            self._printInit()\n",
        "        for iteration in range(max_iter):\n",
        "            self._optimizeAcq()\n",
        "            self.updateGP()\n",
        "            self._printCurrent()\n"
      ]
    },
    {
      "cell_type": "code",
      "execution_count": 10,
      "metadata": {
        "id": "b_B-w81BJxKN"
      },
      "outputs": [],
      "source": [
        "## dGPGO:\n",
        "\n",
        "class dGPGO(GPGO):\n",
        "    n_start = n_start_AcqFunc\n",
        "\n",
        "    def __init__(self, surrogate, acquisition, f, parameter_dict, n_jobs=1):\n",
        "        self.GP = surrogate\n",
        "        self.A = acquisition\n",
        "        self.f = f\n",
        "        self.parameters = parameter_dict\n",
        "        self.n_jobs = n_jobs\n",
        "\n",
        "        self.parameter_key = list(parameter_dict.keys())\n",
        "        self.parameter_value = list(parameter_dict.values())\n",
        "        self.parameter_type = [p[0] for p in self.parameter_value]\n",
        "        self.parameter_range = [p[1] for p in self.parameter_value]\n",
        "\n",
        "        self.history = []\n",
        "        self.header =   'Evaluation \\t Proposed point \\t  Current eval. \\t  Best eval. \\t        Exact EI: StdDev. x \\t Approx EI: StdDev. x '\n",
        "        self.template = '{:3}\\t {}\\t {:3}\\t {:3}\\t {:3}\\t {:3}'\n",
        "\n",
        "    def acqfuncExact(self, xnew, n_start=n_start_AcqFunc):\n",
        "        new_mean, new_var = self.GP.predict(xnew, return_std=True)\n",
        "        new_std = np.sqrt(new_var + eps)\n",
        "        dm, ds = self.GP.AcqGrad(xnew)\n",
        "        f, df = self.A.d_eval(self.tau, new_mean, new_std, ds=ds, dm=dm, nu=3.0)\n",
        "\n",
        "        return -f, -df\n",
        "   \n",
        "    def acqfuncApprox(self, xnew, n_start=n_start_AcqFunc):\n",
        "        new_mean, new_var = self.GP.predict(xnew, return_std=True)\n",
        "        new_std = np.sqrt(new_var + eps)\n",
        "        dm, ds = self.GP.AcqGrad(xnew)\n",
        "        f, df = self.A.d_eval(self.tau, new_mean, new_std, ds=ds, dm=dm, nu=3.0)\n",
        "\n",
        "        return -f\n",
        "\n",
        "    def d_optimizeAcq(self, method='L-BFGS-B', n_start=n_start_AcqFunc):\n",
        "        start_points_dict = [self._sampleParam() for i in range(n_start)]\n",
        "        start_points_arr = np.array([list(s.values())\n",
        "                                     for s in start_points_dict])\n",
        "        x_best = np.empty((n_start, len(self.parameter_key)))\n",
        "        f_best = np.empty((n_start,))\n",
        "        opt = Parallel(n_jobs=self.n_jobs)(delayed(minimize)(self.acqfuncExact,\n",
        "                                                                 x0=start_point,\n",
        "                                                                 method=method,\n",
        "                                                                 jac = True,\n",
        "                                                                 bounds=self.parameter_range) for start_point in\n",
        "                                               start_points_arr)\n",
        "        x_best = np.array([res.x for res in opt])\n",
        "        f_best = np.array([np.atleast_1d(res.fun)[0] for res in opt])\n",
        "        f_best_min = min(f_best)\n",
        "\n",
        "        self.x_best = x_best\n",
        "        self.f_best = f_best\n",
        "        self.f_best_min = f_best_min\n",
        "        self.x_best_std = np.std(x_best)\n",
        "        self.best = x_best[np.argmin(f_best)]\n",
        "        self.start_points_arr = start_points_arr\n",
        "        self.history.append(self.x_best_std)\n",
        "\n",
        "        x_best_approx = np.empty((n_start, len(self.parameter_key)))\n",
        "        f_best_approx = np.empty((n_start,))\n",
        "        opt_approx = Parallel(n_jobs=self.n_jobs)(delayed(minimize)(self.acqfuncApprox,\n",
        "                                                                 x0=start_point,\n",
        "                                                                 method=method,\n",
        "                                                                 jac = False,\n",
        "                                                                 bounds=self.parameter_range) for start_point in\n",
        "                                               start_points_arr)\n",
        "        x_best_approx = np.array([res.x for res in opt_approx])\n",
        "        f_best_approx = np.array([np.atleast_1d(res.fun)[0] for res in opt_approx])\n",
        "        f_best_min_approx = min(f_best_approx)\n",
        "\n",
        "        self.x_best_approx = x_best_approx\n",
        "        self.f_best_approx = f_best_approx\n",
        "        self.f_best_min_approx = f_best_min_approx\n",
        "        self.x_best_std_approx = np.std(x_best_approx)\n",
        "        self.best_approx = x_best_approx[np.argmin(f_best_approx)]\n",
        "        self.start_points_arr = start_points_arr\n",
        "        self.history.append(self.x_best_std_approx)\n",
        "    \n",
        "    def _printInit(self):\n",
        "        print(self.header)\n",
        "        for init_eval in range(self.init_evals):\n",
        "            print(self.template.format('init', self.GP.X[init_eval], inverse * self.GP.y[init_eval], inverse * self.tau, '', ''))\n",
        "      \n",
        "    def _printCurrent(self):\n",
        "        OKGREEN = '\\033[92m'\n",
        "        ENDC = '\\033[0m'\n",
        "        BOLD = '\\033[1m'\n",
        "        eval = str(len(self.GP.y) - self.init_evals)\n",
        "        proposed = str(self.best)\n",
        "        curr_eval = str(inverse * self.GP.y[-1])\n",
        "        curr_best = str(inverse * self.tau)\n",
        "        min_acqfunc = str(self.f_best_min)\n",
        "        min_acqfunc_approx = str(self.f_best_min_approx)\n",
        "        x_best_std = str(self.x_best_std)\n",
        "        x_best_std_approx = str(self.x_best_std_approx)\n",
        "        if float(curr_eval) <= float(curr_best):\n",
        "            eval = BOLD + OKGREEN + eval + ENDC\n",
        "            proposed = BOLD + OKGREEN + proposed + ENDC\n",
        "            curr_eval = BOLD + OKGREEN + curr_eval + ENDC\n",
        "            curr_best = BOLD + OKGREEN + curr_best + ENDC\n",
        "            x_best_std = BOLD + OKGREEN + x_best_std + ENDC\n",
        "            x_best_std_approx = BOLD + OKGREEN + x_best_std_approx + ENDC\n",
        "        print(self.template.format(eval, proposed, curr_eval, curr_best, x_best_std, x_best_std_approx))\n",
        "\n",
        "    def run(self, max_iter=10, init_evals=3, resume=False):\n",
        "        \n",
        "        if not resume:\n",
        "            self.init_evals = init_evals\n",
        "            self._firstRun(self.init_evals)\n",
        "            self._printInit()\n",
        "        for iteration in range(max_iter):\n",
        "            self.d_optimizeAcq()\n",
        "            self.updateGP()\n",
        "            self._printCurrent()\n"
      ]
    },
    {
      "cell_type": "code",
      "execution_count": 11,
      "metadata": {
        "id": "qXIKGuXVGEg2"
      },
      "outputs": [],
      "source": [
        "###Reproducible set-seeds:\n",
        "\n",
        "run_num_1 = 1\n",
        "run_num_2 = 2\n",
        "run_num_3 = 3\n",
        "run_num_4 = 4\n",
        "run_num_5 = 5\n",
        "run_num_6 = 6\n",
        "run_num_7 = 7\n",
        "run_num_8 = 8\n",
        "run_num_9 = 9\n",
        "run_num_10 = 10\n",
        "run_num_11 = 11\n",
        "run_num_12 = 12\n",
        "run_num_13 = 13\n",
        "run_num_14 = 14\n",
        "run_num_15 = 15\n",
        "run_num_16 = 16\n",
        "run_num_17 = 17\n",
        "run_num_18 = 18\n",
        "run_num_19 = 19\n",
        "run_num_20 = 20\n"
      ]
    },
    {
      "cell_type": "code",
      "execution_count": 12,
      "metadata": {
        "colab": {
          "base_uri": "https://localhost:8080/"
        },
        "id": "JEhagQmnTVIK",
        "outputId": "ede93e86-7c96-4cfb-cab4-5f318a0055cc"
      },
      "outputs": [
        {
          "output_type": "execute_result",
          "data": {
            "text/plain": [
              "1662384780.3679368"
            ]
          },
          "metadata": {},
          "execution_count": 12
        }
      ],
      "source": [
        "start_approx = time.time()\n",
        "start_approx\n"
      ]
    },
    {
      "cell_type": "code",
      "execution_count": 13,
      "metadata": {
        "colab": {
          "base_uri": "https://localhost:8080/"
        },
        "id": "aH0YSTXufD1v",
        "outputId": "9b1dbbf2-c16b-407c-b11e-254e9d11b4ee"
      },
      "outputs": [
        {
          "output_type": "stream",
          "name": "stdout",
          "text": [
            "Evaluation \t Proposed point \t  Current eval. \t  Best eval. \t        Exact EI: StdDev. x \t Approx EI: StdDev. x \n",
            "init\t [-0.84969467  2.25612281]\t 20.33436270766351\t 19.908403246996286\t    \t    \n",
            "init\t [-5.1188288  -2.02411446]\t 33.07414982069084\t 19.908403246996286\t    \t    \n",
            "init\t [-3.61721968 -4.17445279]\t 53.347974723929894\t 19.908403246996286\t    \t    \n",
            "init\t [-3.21269544 -1.58145816]\t 39.218472310354045\t 19.908403246996286\t    \t    \n",
            "init\t [-1.05710106  0.39748336]\t 19.908403246996286\t 19.908403246996286\t    \t    \n",
            "1  \t [ 5.12       -4.63593872]\t 66.98540261853682\t 19.908403246996286\t 3.1524274681614224\t 4.421518129242093\n",
            "2  \t [3.96252493 5.12      ]\t 44.902252789663564\t 19.908403246996286\t 3.2702575033388697\t 3.6629056509299778\n",
            "3  \t [-5.12  5.12]\t 57.849427451571785\t 19.908403246996286\t 3.1975971043805096\t 4.049366864974146\n",
            "4  \t [5.12       0.35651422]\t 45.25578453794613\t 19.908403246996286\t 2.982163883665765\t 3.4934042594422703\n",
            "5  \t [ 0.68278681 -5.12      ]\t 43.489624143460475\t 19.908403246996286\t 2.3877969775605834\t 3.109910921434324\n",
            "6  \t [ 1.90812595 -1.56740164]\t 26.8346651348313\t 19.908403246996286\t 2.5506861838865174\t 3.0041759548361444\n",
            "7  \t [-5.12        1.53256486]\t 51.06486962290411\t 19.908403246996286\t 3.0824511379922037\t 3.51954950282791\n",
            "8  \t [0.27893796 5.12      ]\t 40.81074394941791\t 19.908403246996286\t 2.945551024607835\t 3.687300962554081\n",
            "\u001b[1m\u001b[92m9\u001b[0m\t \u001b[1m\u001b[92m[2.24169856 2.03842239]\u001b[0m\t \u001b[1m\u001b[92m18.949013089913063\u001b[0m\t \u001b[1m\u001b[92m18.949013089913063\u001b[0m\t \u001b[1m\u001b[92m3.137200088347694\u001b[0m\t \u001b[1m\u001b[92m3.2972363899932557\u001b[0m\n",
            "10 \t [-0.6237373  -2.56004768]\t 43.36649896951078\t 18.949013089913063\t 3.2030415461701005\t 3.677173486391477\n",
            "11 \t [-2.44018905  4.26329275]\t 54.26655628227891\t 18.949013089913063\t 3.1716786062540696\t 3.4046333320221307\n",
            "12 \t [5.12      2.9204048]\t 38.67818639146059\t 18.949013089913063\t 3.2078094024710815\t 3.216454011575453\n",
            "13 \t [ 5.12      -2.0477035]\t 33.5636407487865\t 18.949013089913063\t 2.628437382518967\t 2.867403857898222\n",
            "14 \t [ 2.67552108 -3.70922827]\t 47.96133172328997\t 18.949013089913063\t 3.3730169263657337\t 3.286038447056479\n",
            "15 \t [1.07363078 0.41583016]\t 21.010660837802575\t 18.949013089913063\t 3.103987198431797\t 2.159855367041471\n",
            "16 \t [-1.57143608 -5.12      ]\t 50.40360897697941\t 18.949013089913063\t 3.1800477534958667\t 3.187592199143314\n",
            "17 \t [-2.82096407  1.24145271]\t 24.6497350241118\t 18.949013089913063\t 2.9100780408524782\t 2.5396029213879934\n",
            "18 \t [1.99160693 3.74699881]\t 28.20895937100432\t 18.949013089913063\t 2.9035495749439852\t 3.5098803402183947\n",
            "19 \t [-3.73971847 -3.13941607]\t 38.08451934985627\t 18.949013089913063\t 3.3892230314392027\t 3.3391989623823233\n",
            "20 \t [-5.12 -5.12]\t 57.849427451571785\t 18.949013089913063\t 3.0685381698602856\t 3.217285393774548\n"
          ]
        }
      ],
      "source": [
        "### ESTIMATED STP EI GRADIENTS\n",
        "\n",
        "np.random.seed(run_num_1)\n",
        "surrogate_approx_1 = dtStudentProcess(cov_func, optimize=opt, nu = df)\n",
        "\n",
        "approx_1 = GPGO_multi(surrogate_approx_1, Acquisition_grad(util), objfunc, param)\n",
        "approx_1.run(init_evals=n_init, max_iter=iters)\n"
      ]
    },
    {
      "cell_type": "code",
      "execution_count": 14,
      "metadata": {
        "id": "wTxsSZxFGBB5",
        "colab": {
          "base_uri": "https://localhost:8080/"
        },
        "outputId": "df188fd7-7c05-4f32-d57a-62470d4e0ec1"
      },
      "outputs": [
        {
          "output_type": "stream",
          "name": "stdout",
          "text": [
            "Evaluation \t Proposed point \t  Current eval. \t  Best eval. \t        Exact EI: StdDev. x \t Approx EI: StdDev. x \n",
            "init\t [-0.6554122  -4.85451539]\t 43.490296251903594\t 18.964539418712707\t    \t    \n",
            "init\t [ 0.50854377 -0.6622987 ]\t 35.91861667536101\t 18.964539418712707\t    \t    \n",
            "init\t [-0.81543371 -1.73737143]\t 20.479562046739524\t 18.964539418712707\t    \t    \n",
            "init\t [-3.02439799  1.2213347 ]\t 18.964539418712707\t 18.964539418712707\t    \t    \n",
            "init\t [-2.05153614 -2.3876887 ]\t 28.041315668371354\t 18.964539418712707\t    \t    \n",
            "1  \t [4.83953145 5.12      ]\t 57.012390449940355\t 18.964539418712707\t 3.67017144778887\t 4.463732601300035\n",
            "2  \t [ 5.12 -5.12]\t 57.849427451571785\t 18.964539418712707\t 3.29333776525544\t 4.282358220381291\n",
            "3  \t [-0.27814497  5.12      ]\t 40.76127620601005\t 18.964539418712707\t 3.4743834853501325\t 4.041238896390211\n",
            "4  \t [5.12       0.08530246]\t 30.33425930886101\t 18.964539418712707\t 3.570824962717167\t 4.16652954590024\n",
            "5  \t [-5.12  5.12]\t 57.849427451571785\t 18.964539418712707\t 3.698885530628723\t 3.8254712034399483\n",
            "6  \t [-5.12 -5.12]\t 57.849427451571785\t 18.964539418712707\t 3.288290303706619\t 3.508309130392898\n",
            "7  \t [2.24278202 2.4357097 ]\t 39.70455405614388\t 18.964539418712707\t 2.871307682977622\t 3.2671544387757976\n",
            "8  \t [-5.12       -1.23447846]\t 39.47494892493011\t 18.964539418712707\t 2.971760966390393\t 3.1447417891671243\n",
            "9  \t [ 2.61635903 -2.99547063]\t 33.26659618914464\t 18.964539418712707\t 2.833706759836205\t 3.2306045562622456\n",
            "10 \t [-0.72291023  2.19812699]\t 23.846376906081073\t 18.964539418712707\t 2.8533059928178144\t 3.2999882408794345\n",
            "11 \t [-5.12        2.09508669]\t 35.04635917840623\t 18.964539418712707\t 3.213807737516639\t 3.557933263740546\n",
            "12 \t [ 5.12      -2.3291135]\t 49.11813509831268\t 18.964539418712707\t 2.8134075974053645\t 3.047125514463441\n",
            "13 \t [5.12       2.45950188]\t 54.65186395709335\t 18.964539418712707\t 2.8413329211343776\t 3.526677049380325\n",
            "14 \t [-2.66303252  3.93136152]\t 38.659410327231605\t 18.964539418712707\t 2.6842937326090275\t 3.3738910801574566\n",
            "15 \t [ 2.01082284 -5.12      ]\t 32.991234569558266\t 18.964539418712707\t 2.788508248966487\t 3.0650888182563594\n",
            "16 \t [2.19993102 5.12      ]\t 40.67011824421132\t 18.964539418712707\t 2.339828207522282\t 2.7681803066100774\n",
            "\u001b[1m\u001b[92m17\u001b[0m\t \u001b[1m\u001b[92m[2.77116796 0.0229597 ]\u001b[0m\t \u001b[1m\u001b[92m16.457669101893817\u001b[0m\t \u001b[1m\u001b[92m16.457669101893817\u001b[0m\t \u001b[1m\u001b[92m2.8741001225139784\u001b[0m\t \u001b[1m\u001b[92m2.711002716869267\u001b[0m\n",
            "18 \t [-2.80882069 -5.12      ]\t 43.20193694846294\t 16.457669101893817\t 2.949334092891839\t 2.6378361279737037\n",
            "19 \t [-4.05251478 -3.05841554]\t 26.98227710715348\t 16.457669101893817\t 2.7238010451154504\t 2.7484881878213994\n",
            "20 \t [-3.12291981 -0.72009838]\t 24.97602919019376\t 16.457669101893817\t 2.8429460917822666\t 2.7037653106244126\n"
          ]
        }
      ],
      "source": [
        "### ESTIMATED STP EI GRADIENTS\n",
        "\n",
        "np.random.seed(run_num_2)\n",
        "surrogate_approx_2 = dtStudentProcess(cov_func, optimize=opt, nu = df)\n",
        "\n",
        "approx_2 = GPGO_multi(surrogate_approx_2, Acquisition_grad(util), objfunc, param)\n",
        "approx_2.run(init_evals=n_init, max_iter=iters)\n"
      ]
    },
    {
      "cell_type": "code",
      "execution_count": 15,
      "metadata": {
        "id": "-dgzIrUIGCGT",
        "colab": {
          "base_uri": "https://localhost:8080/"
        },
        "outputId": "f74311aa-4ac9-44fd-96b7-47d282286ecf"
      },
      "outputs": [
        {
          "output_type": "stream",
          "name": "stdout",
          "text": [
            "Evaluation \t Proposed point \t  Current eval. \t  Best eval. \t        Exact EI: StdDev. x \t Approx EI: StdDev. x \n",
            "init\t [0.52017052 2.1314337 ]\t 27.953858411008774\t 10.607662635789808\t    \t    \n",
            "init\t [-2.14113547  0.11087468]\t 10.607662635789808\t 10.607662635789808\t    \t    \n",
            "init\t [4.02377681 4.05804123]\t 33.42749829480097\t 10.607662635789808\t    \t    \n",
            "init\t [-3.83400642 -2.99783293]\t 28.650953928965198\t 10.607662635789808\t    \t    \n",
            "init\t [-4.59297584 -0.6061072 ]\t 57.6631355589384\t 10.607662635789808\t    \t    \n",
            "1  \t [ 2.87042319 -1.98283743]\t 15.364229918613852\t 10.607662635789808\t 2.961830051111131\t 2.7970367521236854\n",
            "2  \t [-4.55938936  5.12      ]\t 69.02456548499794\t 10.607662635789808\t 3.06318860417273\t 4.212942107624269\n",
            "3  \t [ 0.0505194 -5.12     ]\t 29.426836219566667\t 10.607662635789808\t 2.8111246235056955\t 3.40063455853421\n",
            "4  \t [ 5.12 -5.12]\t 57.849427451571785\t 10.607662635789808\t 2.9187700029000827\t 3.165585516409637\n",
            "5  \t [5.12       0.53377994]\t 48.985238068961735\t 10.607662635789808\t 3.1279906806261826\t 3.2147276150773565\n",
            "6  \t [-0.7472524  5.12     ]\t 39.65572791108349\t 10.607662635789808\t 3.2714415353846364\t 2.996306595378135\n",
            "7  \t [-0.16530145 -1.82041704]\t 13.985652707959058\t 10.607662635789808\t 3.1317957740682147\t 2.8172317588210936\n",
            "8  \t [-2.81564323  2.46533531]\t 39.7609289867381\t 10.607662635789808\t 3.006340260189098\t 3.343158041901956\n",
            "9  \t [-2.55601133 -5.12      ]\t 54.84500080642863\t 10.607662635789808\t 2.7343537261358404\t 2.892094983808386\n",
            "10 \t [2.11576056 0.22378102]\t 15.41715207088805\t 10.607662635789808\t 3.2264383374076253\t 3.04604474568655\n",
            "11 \t [ 5.12       -2.28753417]\t 46.49406730506357\t 10.607662635789808\t 2.8036962872641427\t 3.3981654428050456\n",
            "12 \t [-5.12 -5.12]\t 57.849427451571785\t 10.607662635789808\t 3.0949208126662877\t 2.971079351988929\n",
            "13 \t [ 2.38820435 -4.42821836]\t 61.94540592841183\t 10.607662635789808\t 3.036909079725413\t 3.1019403112696056\n",
            "14 \t [1.83302332 5.12      ]\t 37.30156671866972\t 10.607662635789808\t 3.0019059207914496\t 2.9591813692116173\n",
            "15 \t [-5.12       2.1615148]\t 38.31919484221349\t 10.607662635789808\t 3.216094950506941\t 2.9228859408438406\n",
            "16 \t [2.91433182 2.09341972]\t 15.96355531887412\t 10.607662635789808\t 2.763326672701434\t 2.658055125982374\n",
            "17 \t [-0.29893085  0.05866076]\t 13.790600681348371\t 10.607662635789808\t 2.954626476249114\t 2.1608557992863475\n",
            "18 \t [-1.86377024 -2.15560603]\t 15.976015624293222\t 10.607662635789808\t 3.028623801208824\t 2.9697655855619574\n",
            "19 \t [5.12       2.52598028]\t 55.172350991356126\t 10.607662635789808\t 2.9270659838596322\t 3.441398828394149\n",
            "20 \t [5.12 5.12]\t 57.849427451571785\t 10.607662635789808\t 2.6389963846345332\t 2.2896461983651593\n"
          ]
        }
      ],
      "source": [
        "### ESTIMATED STP EI GRADIENTS\n",
        "\n",
        "np.random.seed(run_num_3)\n",
        "surrogate_approx_3 = dtStudentProcess(cov_func, optimize=opt, nu = df)\n",
        "\n",
        "approx_3 = GPGO_multi(surrogate_approx_3, Acquisition_grad(util), objfunc, param)\n",
        "approx_3.run(init_evals=n_init, max_iter=iters)\n"
      ]
    },
    {
      "cell_type": "code",
      "execution_count": 16,
      "metadata": {
        "id": "hOtG-2sCGCKS",
        "colab": {
          "base_uri": "https://localhost:8080/"
        },
        "outputId": "bfca622b-f553-4926-d86f-6e846c65d211"
      },
      "outputs": [
        {
          "output_type": "stream",
          "name": "stdout",
          "text": [
            "Evaluation \t Proposed point \t  Current eval. \t  Best eval. \t        Exact EI: StdDev. x \t Approx EI: StdDev. x \n",
            "init\t [4.78238555 0.48365823]\t 51.03163809010808\t 14.323038259018315\t    \t    \n",
            "init\t [4.84028785 2.19971578]\t 39.78645699016559\t 14.323038259018315\t    \t    \n",
            "init\t [ 2.02474316 -2.90724357]\t 14.323038259018315\t 14.323038259018315\t    \t    \n",
            "init\t [ 4.87705042 -5.05620219]\t 52.80627247106233\t 14.323038259018315\t    \t    \n",
            "init\t [-2.52946061 -0.66773471]\t 41.61497868486559\t 14.323038259018315\t    \t    \n",
            "1  \t [-5.12  5.12]\t 57.849427451571785\t 14.323038259018315\t 3.219803694792671\t 3.954977396658721\n",
            "2  \t [0.36086169 5.12      ]\t 45.470798139823216\t 14.323038259018315\t 3.447690055559676\t 3.819009820318697\n",
            "3  \t [-2.25206489 -5.12      ]\t 44.12624747880194\t 14.323038259018315\t 3.478175856475482\t 3.494743666002871\n",
            "\u001b[1m\u001b[92m4\u001b[0m\t \u001b[1m\u001b[92m[0.85387468 1.14521907]\u001b[0m\t \u001b[1m\u001b[92m9.849391153287403\u001b[0m\t \u001b[1m\u001b[92m9.849391153287403\u001b[0m\t \u001b[1m\u001b[92m3.3758652344279914\u001b[0m\t \u001b[1m\u001b[92m3.025587652776292\u001b[0m\n",
            "5  \t [-5.12       -3.09046334]\t 40.0480331613448\t 9.849391153287403\t 3.0096521922735198\t 3.2563665265650505\n",
            "6  \t [-5.12        1.50414834]\t 51.183779275582985\t 9.849391153287403\t 2.927645414216268\t 3.420828748185314\n",
            "7  \t [3.91341047 5.12      ]\t 45.68334285084218\t 9.849391153287403\t 2.640424721376021\t 3.408613962987235\n",
            "8  \t [-1.97823966  2.82543889]\t 17.425400644393243\t 9.849391153287403\t 2.842887618847818\t 3.2137206628130275\n",
            "9  \t [ 0.93524585 -5.12      ]\t 30.615728490291026\t 9.849391153287403\t 2.9136611936214956\t 2.831921103522249\n",
            "10 \t [ 0.28568823 -1.30582758]\t 27.446674171891054\t 9.849391153287403\t 3.537841940717704\t 3.0896582788599747\n",
            "11 \t [ 5.12       -2.25384234]\t 44.245917244866504\t 9.849391153287403\t 3.4484125491446025\t 3.2433822386725963\n",
            "12 \t [2.06679465 2.78730291]\t 20.58610634237996\t 9.849391153287403\t 3.0653197040253537\t 3.234543214219077\n",
            "13 \t [-2.35802495  5.12      ]\t 50.76312922092366\t 9.849391153287403\t 3.301647282987559\t 3.212390352106831\n",
            "14 \t [ 2.45192852 -0.45926772]\t 45.44447743224492\t 9.849391153287403\t 2.4764564187052573\t 2.2464808888796926\n",
            "15 \t [-5.12 -5.12]\t 57.849427451571785\t 9.849391153287403\t 3.502030823450723\t 3.2146687259752986\n",
            "16 \t [-1.11956172 -3.0170972 ]\t 13.105429523452802\t 9.849391153287403\t 2.938974236655845\t 2.5150167953476283\n",
            "17 \t [-0.79716657  1.27330207]\t 20.79528714546931\t 9.849391153287403\t 2.867160434310285\t 2.485610697804669\n",
            "18 \t [-5.12       -0.87178912]\t 32.757746990780404\t 9.849391153287403\t 3.241295680131379\t 3.2318247771330917\n",
            "19 \t [-2.96299611 -2.88386831]\t 19.9112155859568\t 9.849391153287403\t 3.1253745763660223\t 3.111127618183614\n",
            "20 \t [ 2.75860049 -5.12      ]\t 45.99446863040819\t 9.849391153287403\t 2.5487547398515664\t 2.8981955987644312\n"
          ]
        }
      ],
      "source": [
        "### ESTIMATED STP EI GRADIENTS\n",
        "\n",
        "np.random.seed(run_num_4)\n",
        "surrogate_approx_4 = dtStudentProcess(cov_func, optimize=opt, nu = df)\n",
        "\n",
        "approx_4= GPGO_multi(surrogate_approx_4, Acquisition_grad(util), objfunc, param)\n",
        "approx_4.run(init_evals=n_init, max_iter=iters)\n"
      ]
    },
    {
      "cell_type": "code",
      "execution_count": 17,
      "metadata": {
        "id": "JF_SxcEvGCOl",
        "colab": {
          "base_uri": "https://localhost:8080/"
        },
        "outputId": "82adbce7-37c0-495f-aeae-ab193e4581fd"
      },
      "outputs": [
        {
          "output_type": "stream",
          "name": "stdout",
          "text": [
            "Evaluation \t Proposed point \t  Current eval. \t  Best eval. \t        Exact EI: StdDev. x \t Approx EI: StdDev. x \n",
            "init\t [-2.84678993  3.79629882]\t 33.93442008827236\t 7.8108627039749745\t    \t    \n",
            "init\t [-3.00319585  4.2865757 ]\t 39.673876075575784\t 7.8108627039749745\t    \t    \n",
            "init\t [-0.11866943  1.14425716]\t 7.8108627039749745\t 7.8108627039749745\t    \t    \n",
            "init\t [2.72289645 0.1886002 ]\t 25.38160395721669\t 7.8108627039749745\t    \t    \n",
            "init\t [-2.08076286 -3.19773462]\t 22.589982116319675\t 7.8108627039749745\t    \t    \n",
            "1  \t [ 5.12       -4.82923901]\t 57.47068160569563\t 7.8108627039749745\t 3.8356743717937167\t 4.556525966014493\n",
            "2  \t [5.12 5.12]\t 57.849427451571785\t 7.8108627039749745\t 3.7191904949517705\t 4.212794525341343\n",
            "3  \t [-5.12       -0.04632839]\t 29.347543495463746\t 7.8108627039749745\t 3.5935129282321725\t 3.9446046533811625\n",
            "4  \t [1.00368194 5.12      ]\t 29.934767032661334\t 7.8108627039749745\t 3.302192715949832\t 3.8083178013797214\n",
            "5  \t [-5.12 -5.12]\t 57.849427451571785\t 7.8108627039749745\t 3.4674406680633703\t 3.550419850423902\n",
            "6  \t [ 1.107066 -5.12    ]\t 32.328983916974565\t 7.8108627039749745\t 3.050566767204383\t 3.432702948173149\n",
            "7  \t [ 5.12       -1.44039419]\t 50.306303196453705\t 7.8108627039749745\t 2.59760077737848\t 2.439589536561518\n",
            "8  \t [ 0.60352682 -1.88284648]\t 24.456353957420212\t 7.8108627039749745\t 3.0701158012417307\t 2.784499267807291\n",
            "9  \t [5.12       1.92587479]\t 33.6988235272204\t 7.8108627039749745\t 3.092763513577857\t 3.3289118577924213\n",
            "10 \t [-2.2118456  -0.02124759]\t 12.607279587431137\t 7.8108627039749745\t 2.93483647889322\t 3.1465074699761653\n",
            "11 \t [2.19857642 2.79009018]\t 26.950841322396514\t 7.8108627039749745\t 3.0317070054873065\t 3.4112226720776877\n",
            "12 \t [-5.12        2.61716113]\t 53.184870076299106\t 7.8108627039749745\t 2.9232002399561696\t 3.259957312108429\n",
            "13 \t [-5.12       -2.41892564]\t 53.506261911127915\t 7.8108627039749745\t 2.714859542319474\t 3.282358438743716\n",
            "14 \t [ 2.80059567 -3.03845834]\t 24.240355219470842\t 7.8108627039749745\t 2.4828525794291494\t 2.7631649561684184\n",
            "15 \t [-1.64770026 -5.12      ]\t 47.63376501904993\t 7.8108627039749745\t 2.37938462327968\t 2.474159263629526\n",
            "16 \t [-0.5336007   2.95343743]\t 29.21040843716888\t 7.8108627039749745\t 2.588556813677141\t 2.839710337756934\n",
            "17 \t [-2.65707196  1.51522027]\t 44.82291865055272\t 7.8108627039749745\t 2.6803163427899834\t 2.5727361266246236\n",
            "18 \t [-1.37508478 -1.23331905]\t 29.44059019687544\t 7.8108627039749745\t 2.6205999195673755\t 2.90204932679856\n",
            "19 \t [-5.12  5.12]\t 57.849427451571785\t 7.8108627039749745\t 2.616332644993325\t 2.6398149439211585\n",
            "20 \t [-1.05334032  5.12      ]\t 30.59062015996345\t 7.8108627039749745\t 2.826956668544013\t 2.6464725872351416\n"
          ]
        }
      ],
      "source": [
        "### ESTIMATED STP EI GRADIENTS\n",
        "\n",
        "np.random.seed(run_num_5)\n",
        "surrogate_approx_5 = dtStudentProcess(cov_func, optimize=opt, nu = df)\n",
        "\n",
        "approx_5 = GPGO_multi(surrogate_approx_5, Acquisition_grad(util), objfunc, param)\n",
        "approx_5.run(init_evals=n_init, max_iter=iters)\n"
      ]
    },
    {
      "cell_type": "code",
      "execution_count": 18,
      "metadata": {
        "id": "-kDxZtJsGCR3",
        "colab": {
          "base_uri": "https://localhost:8080/"
        },
        "outputId": "cdb5827e-160b-4def-e18e-8b2067558fe3"
      },
      "outputs": [
        {
          "output_type": "stream",
          "name": "stdout",
          "text": [
            "Evaluation \t Proposed point \t  Current eval. \t  Best eval. \t        Exact EI: StdDev. x \t Approx EI: StdDev. x \n",
            "init\t [ 4.02288795 -1.72052679]\t 31.08835710146886\t 17.28954482757088\t    \t    \n",
            "init\t [ 3.28938622 -4.69302655]\t 58.797867722203385\t 17.28954482757088\t    \t    \n",
            "init\t [-4.0175956   0.97333314]\t 17.28954482757088\t 17.28954482757088\t    \t    \n",
            "init\t [ 0.30532979 -0.83141193]\t 19.296253155889353\t 17.28954482757088\t    \t    \n",
            "init\t [-1.68542362  1.25459899]\t 28.650630936276173\t 17.28954482757088\t    \t    \n",
            "1  \t [5.12       4.36962522]\t 64.84662479988013\t 17.28954482757088\t 3.9687594544846467\t 4.3130258752081785\n",
            "2  \t [-5.12       -4.52562455]\t 69.27665992747993\t 17.28954482757088\t 3.316545047117406\t 4.128126871877352\n",
            "3  \t [-5.12  5.12]\t 57.849427451571785\t 17.28954482757088\t 3.2124916891529756\t 4.050998333284606\n",
            "4  \t [0.4224903 5.12     ]\t 47.94058283305562\t 17.28954482757088\t 3.094417279206775\t 3.6281453551502207\n",
            "5  \t [-0.90927109 -5.12      ]\t 31.332837079939694\t 17.28954482757088\t 2.7869039975649557\t 3.1553078857033934\n",
            "6  \t [2.45679569 1.77058686]\t 37.51471882595545\t 17.28954482757088\t 3.097816094773123\t 2.930153414580207\n",
            "7  \t [-2.67936661 -2.04691122]\t 26.09387728569801\t 17.28954482757088\t 3.1728195930983834\t 3.22273098851786\n",
            "8  \t [5.12       0.95123658]\t 30.295277388514286\t 17.28954482757088\t 2.6940171184981003\t 3.496672017758973\n",
            "9  \t [-2.33751093  4.05430768]\t 37.703485607037926\t 17.28954482757088\t 2.854201534906448\t 3.6837813392663623\n",
            "10 \t [-5.12       -1.23567491]\t 39.552748799150606\t 17.28954482757088\t 2.555338469847702\t 3.4634843810877616\n",
            "\u001b[1m\u001b[92m11\u001b[0m\t \u001b[1m\u001b[92m[ 0.85978078 -3.09920256]\u001b[0m\t \u001b[1m\u001b[92m15.861139702066014\u001b[0m\t \u001b[1m\u001b[92m15.861139702066014\u001b[0m\t \u001b[1m\u001b[92m3.06199168439082\u001b[0m\t \u001b[1m\u001b[92m3.4273499985277613\u001b[0m\n",
            "12 \t [-5.12        2.47941162]\t 54.98864152599514\t 15.861139702066014\t 2.937700423453209\t 3.230942060968165\n",
            "13 \t [2.67621381 4.347013  ]\t 56.25545404178857\t 15.861139702066014\t 2.8696690312457767\t 3.309050134465343\n",
            "14 \t [0.15069522 2.45522002]\t 29.81514202912407\t 15.861139702066014\t 3.211112634842016\t 3.1861560351454985\n",
            "15 \t [ 2.20094461 -0.61734738]\t 29.594367261308044\t 15.861139702066014\t 2.9613522898755638\t 3.013039581207871\n",
            "16 \t [ 5.12       -3.47134522]\t 60.81331075273923\t 15.861139702066014\t 3.0237064476437228\t 3.0836820093989985\n",
            "17 \t [-2.84668704 -5.12      ]\t 41.32015410535071\t 15.861139702066014\t 3.43310329092947\t 2.9062216038483917\n",
            "18 \t [ 1.04363005 -5.12      ]\t 30.38728193687396\t 15.861139702066014\t 3.1293671390807662\t 2.726211487927414\n",
            "19 \t [-0.8466874  -2.66474694]\t 27.213643884911548\t 15.861139702066014\t 3.046815716928389\t 2.61682819528892\n",
            "20 \t [-2.63202027 -0.29732104]\t 36.69797342695842\t 15.861139702066014\t 2.967287510358663\t 2.693741289996558\n"
          ]
        }
      ],
      "source": [
        "### ESTIMATED STP EI GRADIENTS\n",
        "\n",
        "np.random.seed(run_num_6)\n",
        "surrogate_approx_6 = dtStudentProcess(cov_func, optimize=opt, nu = df)\n",
        "\n",
        "approx_6 = GPGO_multi(surrogate_approx_6, Acquisition_grad(util), objfunc, param)\n",
        "approx_6.run(init_evals=n_init, max_iter=iters)\n"
      ]
    },
    {
      "cell_type": "code",
      "execution_count": 19,
      "metadata": {
        "id": "fKB8MCD_GCVI",
        "colab": {
          "base_uri": "https://localhost:8080/"
        },
        "outputId": "193a461f-b886-46d6-d46d-b976979a4d4f"
      },
      "outputs": [
        {
          "output_type": "stream",
          "name": "stdout",
          "text": [
            "Evaluation \t Proposed point \t  Current eval. \t  Best eval. \t        Exact EI: StdDev. x \t Approx EI: StdDev. x \n",
            "init\t [-4.33860312  2.86636843]\t 45.646133072936244\t 22.52235437888213\t    \t    \n",
            "init\t [-0.63068947  2.28828342]\t 34.83012662845338\t 22.52235437888213\t    \t    \n",
            "init\t [4.8946126  0.39419771]\t 44.09657005662876\t 22.52235437888213\t    \t    \n",
            "init\t [ 0.01147355 -4.38219639]\t 36.613209822404315\t 22.52235437888213\t    \t    \n",
            "init\t [-2.37118484e+00 -1.20319155e-03]\t 22.52235437888213\t 22.52235437888213\t    \t    \n",
            "1  \t [-5.12 -5.12]\t 57.849427451571785\t 22.52235437888213\t 3.005590137810142\t 4.008296444071431\n",
            "2  \t [ 5.12 -5.12]\t 57.849427451571785\t 22.52235437888213\t 3.0713892808770202\t 4.0099538803586485\n",
            "3  \t [3.59868157 5.12      ]\t 60.01380648073649\t 22.52235437888213\t 3.1705347968551707\t 3.5334323590219996\n",
            "4  \t [-4.02558214 -1.33646422]\t 33.289738493146906\t 22.52235437888213\t 3.028549690727459\t 3.046307140328312\n",
            "\u001b[1m\u001b[92m5\u001b[0m\t \u001b[1m\u001b[92m[ 1.40596431 -0.9612239 ]\u001b[0m\t \u001b[1m\u001b[92m21.500727863178327\u001b[0m\t \u001b[1m\u001b[92m21.500727863178327\u001b[0m\t \u001b[1m\u001b[92m2.9396060919495204\u001b[0m\t \u001b[1m\u001b[92m2.958936725162047\u001b[0m\n",
            "6  \t [-1.80885493  5.12      ]\t 38.58241349236455\t 21.500727863178327\t 3.1140495845974816\t 3.8644717325765305\n",
            "7  \t [2.33878231 2.13403463]\t 28.65902330314885\t 21.500727863178327\t 2.778567928499666\t 2.985787394282841\n",
            "8  \t [ 3.58727634 -2.53702085]\t 57.569445328733885\t 21.500727863178327\t 3.5397977768277973\t 4.078932508289653\n",
            "9  \t [-2.52550662 -3.63634161]\t 56.022670994340864\t 21.500727863178327\t 2.9959128669573465\t 3.6415622737442024\n",
            "10 \t [-5.12  5.12]\t 57.849427451571785\t 21.500727863178327\t 2.6904930851440065\t 3.3795473166506365\n",
            "11 \t [0.81083068 5.12      ]\t 35.852437084851076\t 21.500727863178327\t 2.9276353553918835\t 3.2648530611307343\n",
            "12 \t [5.12       2.99310619]\t 37.892777921642974\t 21.500727863178327\t 3.030183697815258\t 3.103586981254996\n",
            "13 \t [ 2.3270858 -5.12     ]\t 48.99632428486179\t 21.500727863178327\t 3.386865468791613\t 3.417398829587259\n",
            "14 \t [-0.65601183 -1.55504421]\t 37.82451940929995\t 21.500727863178327\t 2.827342396015444\t 2.718634135409809\n",
            "15 \t [-5.12        0.59221447]\t 47.64334144938404\t 21.500727863178327\t 2.9383745034302273\t 2.983431298940076\n",
            "16 \t [ 1.48602209 -2.97392247]\t 31.147868451082353\t 21.500727863178327\t 2.6829623041269586\t 2.691530109247151\n",
            "17 \t [-5.12       -2.77206271]\t 45.22723989252779\t 21.500727863178327\t 2.936292742133881\t 2.8365922761699163\n",
            "18 \t [0.56114769 0.68042321]\t 34.28255727604433\t 21.500727863178327\t 3.344448555299129\t 3.487950329237829\n",
            "\u001b[1m\u001b[92m19\u001b[0m\t \u001b[1m\u001b[92m[ 2.83426189e+00 -2.16767456e-03]\u001b[0m\t \u001b[1m\u001b[92m12.983531787194588\u001b[0m\t \u001b[1m\u001b[92m12.983531787194588\u001b[0m\t \u001b[1m\u001b[92m3.200074763700895\u001b[0m\t \u001b[1m\u001b[92m3.3207956249135995\u001b[0m\n",
            "20 \t [-2.51140018  1.92110963]\t 31.175708575482375\t 12.983531787194588\t 2.933486732262244\t 3.0118084744677454\n"
          ]
        }
      ],
      "source": [
        "### ESTIMATED STP EI GRADIENTS\n",
        "\n",
        "np.random.seed(run_num_7)\n",
        "surrogate_approx_7 = dtStudentProcess(cov_func, optimize=opt, nu = df)\n",
        "\n",
        "approx_7 = GPGO_multi(surrogate_approx_7, Acquisition_grad(util), objfunc, param)\n",
        "approx_7.run(init_evals=n_init, max_iter=iters)\n"
      ]
    },
    {
      "cell_type": "code",
      "execution_count": 20,
      "metadata": {
        "id": "4unvifF-GCXp",
        "colab": {
          "base_uri": "https://localhost:8080/"
        },
        "outputId": "683185e0-37b5-466c-a09f-b6320cc16dc3"
      },
      "outputs": [
        {
          "output_type": "stream",
          "name": "stdout",
          "text": [
            "Evaluation \t Proposed point \t  Current eval. \t  Best eval. \t        Exact EI: StdDev. x \t Approx EI: StdDev. x \n",
            "init\t [3.82391708 4.79785639]\t 50.20079446939181\t 13.871821018360485\t    \t    \n",
            "init\t [3.78055209 0.31596228]\t 36.5114251593508\t 13.871821018360485\t    \t    \n",
            "init\t [-2.73686192 -5.00327624]\t 43.34985765011677\t 13.871821018360485\t    \t    \n",
            "init\t [-0.7119993  -0.99992207]\t 13.871821018360485\t 13.871821018360485\t    \t    \n",
            "init\t [ 0.23218863 -0.22126801]\t 17.190590355445654\t 13.871821018360485\t    \t    \n",
            "1  \t [-5.12  5.12]\t 57.849427451571785\t 13.871821018360485\t 3.148890656041407\t 4.085878709003431\n",
            "2  \t [ 5.12 -5.12]\t 57.849427451571785\t 13.871821018360485\t 3.185055515570803\t 3.9299997806834694\n",
            "3  \t [-5.12       -0.06227621]\t 29.684424951100418\t 13.871821018360485\t 2.9333326740284495\t 3.4574396856639917\n",
            "4  \t [-0.66933997  4.17626884]\t 38.274346860266206\t 13.871821018360485\t 3.349142140292627\t 3.426321679169701\n",
            "5  \t [ 1.18401809 -4.40983344]\t 45.258172703673786\t 13.871821018360485\t 3.4473465082680685\t 3.224952908670698\n",
            "6  \t [-2.62575548  1.70430609]\t 39.668427261871\t 13.871821018360485\t 3.3060271118162197\t 3.2762728761800584\n",
            "7  \t [1.62987521 2.34589551]\t 40.67818470802047\t 13.871821018360485\t 3.4520853327350554\t 3.23204483961188\n",
            "8  \t [-5.12       -3.12971207]\t 41.86116384071827\t 13.871821018360485\t 3.3785458664221117\t 3.406863572950789\n",
            "9  \t [ 5.12       -2.11264419]\t 35.789806601917235\t 13.871821018360485\t 3.38485291187906\t 3.7212214343081493\n",
            "10 \t [-2.63766764 -1.84039828]\t 31.451443606591297\t 13.871821018360485\t 3.6643211176657253\t 3.531258337967866\n",
            "11 \t [5.12       2.45190173]\t 54.48334540990446\t 13.871821018360485\t 3.3529017259086147\t 3.436611684237123\n",
            "12 \t [ 2.14302245 -1.86864393]\t 15.074489036863671\t 13.871821018360485\t 2.5171861594069056\t 2.688746296844415\n",
            "13 \t [-5.12        2.43759565]\t 54.10767989766208\t 13.871821018360485\t 2.900851804038009\t 3.3303252497187383\n",
            "14 \t [-2.65406053  5.12      ]\t 51.638308007541866\t 13.871821018360485\t 3.232263964526089\t 2.960250688770428\n",
            "15 \t [-0.74348275 -3.10847329]\t 22.85882638675164\t 13.871821018360485\t 3.247157334558217\t 3.018387153844771\n",
            "16 \t [1.37651157 5.12      ]\t 47.95740313131991\t 13.871821018360485\t 3.5913976307217563\t 3.148803988241519\n",
            "17 \t [-5.12 -5.12]\t 57.849427451571785\t 13.871821018360485\t 3.4099465644477513\t 2.851424901281816\n",
            "18 \t [ 3.26328193 -3.45811958]\t 53.09693306872677\t 13.871821018360485\t 2.6452176961306275\t 2.0129347540581914\n",
            "19 \t [-0.47722079  1.60714392]\t 40.526673767861794\t 13.871821018360485\t 2.7880609245044954\t 2.6748142286668855\n",
            "20 \t [1.91277169 0.39497802]\t 23.1800978263055\t 13.871821018360485\t 2.604709637087755\t 3.1919850282034616\n"
          ]
        }
      ],
      "source": [
        "### ESTIMATED STP EI GRADIENTS\n",
        "\n",
        "np.random.seed(run_num_8)\n",
        "surrogate_approx_8 = dtStudentProcess(cov_func, optimize=opt, nu = df)\n",
        "\n",
        "approx_8 = GPGO_multi(surrogate_approx_8, Acquisition_grad(util), objfunc, param)\n",
        "approx_8.run(init_evals=n_init, max_iter=iters)\n"
      ]
    },
    {
      "cell_type": "code",
      "execution_count": 21,
      "metadata": {
        "id": "85OIXcg7GCaJ",
        "colab": {
          "base_uri": "https://localhost:8080/"
        },
        "outputId": "6c3575a1-cce4-4730-fa9b-f26a74d2921c"
      },
      "outputs": [
        {
          "output_type": "stream",
          "name": "stdout",
          "text": [
            "Evaluation \t Proposed point \t  Current eval. \t  Best eval. \t        Exact EI: StdDev. x \t Approx EI: StdDev. x \n",
            "init\t [-5.01376866  0.01919582]\t 25.248289026162446\t 24.454800313488693\t    \t    \n",
            "init\t [-0.04328148 -3.74958562]\t 24.454800313488693\t 24.454800313488693\t    \t    \n",
            "init\t [-3.66478248 -2.88195916]\t 39.46509426509438\t 24.454800313488693\t    \t    \n",
            "init\t [-0.83447623 -2.57944404]\t 31.06766397812992\t 24.454800313488693\t    \t    \n",
            "init\t [-4.25922917 -1.58209393]\t 49.922543556206975\t 24.454800313488693\t    \t    \n",
            "1  \t [3.69491889 4.82146316]\t 55.95031066333101\t 24.454800313488693\t 3.0952156607508585\t 3.204358037906524\n",
            "2  \t [-2.73484701  5.12      ]\t 47.35475432807173\t 24.454800313488693\t 3.189439483804398\t 4.05195947884252\n",
            "3  \t [ 4.9139196  -0.89118552]\t 28.615751917899416\t 24.454800313488693\t 2.5996294620061224\t 3.1985435029777984\n",
            "4  \t [ 4.41315104 -5.12      ]\t 66.94831945790897\t 24.454800313488693\t 2.8735611192941315\t 3.354837718844402\n",
            "5  \t [0.37449559 1.6410115 ]\t 36.20692961345324\t 24.454800313488693\t 2.926453044751504\t 2.928512272741487\n",
            "6  \t [-5.12        3.03949692]\t 38.46961107717236\t 24.454800313488693\t 3.3167251486470732\t 3.283246094361437\n",
            "7  \t [5.12       2.03066266]\t 33.233319033478324\t 24.454800313488693\t 3.522467093905203\t 3.2049539216736416\n",
            "8  \t [0.46034283 5.12      ]\t 48.827795307260054\t 24.454800313488693\t 2.860892892036105\t 2.4873833066541677\n",
            "\u001b[1m\u001b[92m9\u001b[0m\t \u001b[1m\u001b[92m[ 1.98170347 -1.25463161]\u001b[0m\t \u001b[1m\u001b[92m15.858227578913796\u001b[0m\t \u001b[1m\u001b[92m15.858227578913796\u001b[0m\t \u001b[1m\u001b[92m3.206082489535979\u001b[0m\t \u001b[1m\u001b[92m3.3598336651058354\u001b[0m\n",
            "10 \t [-5.12 -5.12]\t 57.849427451571785\t 15.858227578913796\t 2.955368659602391\t 2.7370855098399094\n",
            "11 \t [-2.46363077  1.36162281]\t 44.116005010843395\t 15.858227578913796\t 2.87286934581447\t 3.3918874169701225\n",
            "12 \t [ 1.60282729 -5.12      ]\t 49.478251684209646\t 15.858227578913796\t 2.4254518387911403\t 3.366024920226104\n",
            "13 \t [-2.05032084 -5.12      ]\t 33.62421286261007\t 15.858227578913796\t 2.6193209631208885\t 2.7702009818386184\n",
            "14 \t [2.81581528 1.1302953 ]\t 18.356010128483696\t 15.858227578913796\t 2.6978831351997346\t 2.635680980274946\n",
            "15 \t [ 3.28473181 -2.72286696]\t 42.065025001375204\t 15.858227578913796\t 2.4689031829065033\t 2.5842488698464754\n",
            "16 \t [-0.49418304 -0.5114579 ]\t 40.47322450430602\t 15.858227578913796\t 2.9595086647702384\t 2.963652864976198\n",
            "17 \t [-5.12  5.12]\t 57.849427451571785\t 15.858227578913796\t 2.9534401546732085\t 3.1933679319493615\n",
            "18 \t [2.10917551 3.03775664]\t 16.218614431694903\t 15.858227578913796\t 3.1581929975994365\t 3.0112836370425824\n",
            "19 \t [-1.19983788  3.33614229]\t 34.62166002161931\t 15.858227578913796\t 3.3295592179683555\t 3.1229970743078286\n",
            "20 \t [ 5.12       -2.95719003]\t 38.0292699272088\t 15.858227578913796\t 3.6097026451670096\t 3.222598839581207\n"
          ]
        }
      ],
      "source": [
        "### ESTIMATED STP EI GRADIENTS\n",
        "\n",
        "np.random.seed(run_num_9)\n",
        "surrogate_approx_9 = dtStudentProcess(cov_func, optimize=opt, nu = df)\n",
        "\n",
        "approx_9 = GPGO_multi(surrogate_approx_9, Acquisition_grad(util), objfunc, param)\n",
        "approx_9.run(init_evals=n_init, max_iter=iters)\n"
      ]
    },
    {
      "cell_type": "code",
      "execution_count": 22,
      "metadata": {
        "id": "QQBR-qJPGCcp",
        "colab": {
          "base_uri": "https://localhost:8080/"
        },
        "outputId": "ed5e8756-7a06-45c2-9cae-67533a50be47"
      },
      "outputs": [
        {
          "output_type": "stream",
          "name": "stdout",
          "text": [
            "Evaluation \t Proposed point \t  Current eval. \t  Best eval. \t        Exact EI: StdDev. x \t Approx EI: StdDev. x \n",
            "init\t [ 2.77832339 -4.90750004]\t 41.674330194390116\t 13.839458310244165\t    \t    \n",
            "init\t [1.36855793 2.54775176]\t 44.69639719065837\t 13.839458310244165\t    \t    \n",
            "init\t [-0.01528819 -2.81808235]\t 13.839458310244165\t 13.839458310244165\t    \t    \n",
            "init\t [-3.09183626  2.66783449]\t 33.23221510904937\t 13.839458310244165\t    \t    \n",
            "init\t [-3.38830503 -4.2154003 ]\t 54.73014366983691\t 13.839458310244165\t    \t    \n",
            "1  \t [ 5.12       -0.56831489]\t 48.34053896150924\t 13.839458310244165\t 3.155573723257731\t 3.704609157759507\n",
            "2  \t [5.12 5.12]\t 57.849427451571785\t 13.839458310244165\t 2.6010879359495926\t 3.15203319061488\n",
            "3  \t [-5.12       -0.60622953]\t 47.146193508927205\t 13.839458310244165\t 3.040108693915674\t 3.6094966368675974\n",
            "4  \t [-5.12  5.12]\t 57.849427451571785\t 13.839458310244165\t 3.4063169941095417\t 3.8370587899444053\n",
            "5  \t [-0.83775595  5.12      ]\t 34.387858034337896\t 13.839458310244165\t 2.7446862467006095\t 3.220008338140713\n",
            "\u001b[1m\u001b[92m6\u001b[0m\t \u001b[1m\u001b[92m[-1.2318087  -0.10288783]\u001b[0m\t \u001b[1m\u001b[92m12.405240713387537\u001b[0m\t \u001b[1m\u001b[92m12.405240713387537\u001b[0m\t \u001b[1m\u001b[92m3.3834267149378787\u001b[0m\t \u001b[1m\u001b[92m3.32732387832693\u001b[0m\n",
            "7  \t [ 1.89847936 -0.78715052]\t 13.877091752956755\t 12.405240713387537\t 2.8882962639312484\t 3.2616168661494647\n",
            "8  \t [-0.3898509 -5.12     ]\t 46.775854881228256\t 12.405240713387537\t 3.2987067590024886\t 3.650849928307835\n",
            "9  \t [ 5.12       -3.59638673]\t 60.0802288388177\t 12.405240713387537\t 3.18654717334364\t 3.574178352312614\n",
            "10 \t [4.53053092 2.2318787 ]\t 54.1874238702314\t 12.405240713387537\t 3.2678982756996624\t 3.4393191351267784\n",
            "11 \t [2.14231273 5.12      ]\t 37.252612382617144\t 12.405240713387537\t 2.924283852209073\t 2.859171837424024\n",
            "12 \t [-2.44940079 -1.67957977]\t 42.601085033802725\t 12.405240713387537\t 3.1578260751804494\t 2.5805160868487778\n",
            "13 \t [-5.12        2.03321531]\t 33.275663113638785\t 12.405240713387537\t 3.4588638335801885\t 2.9371340368156043\n",
            "14 \t [ 2.36627247 -2.51696637]\t 48.55047736354113\t 12.405240713387537\t 2.7937239129114655\t 3.0892212636625698\n",
            "15 \t [-0.94229509  1.76050512]\t 13.977839539662204\t 12.405240713387537\t 3.123867147164076\t 2.943442506187528\n",
            "16 \t [-5.12 -5.12]\t 57.849427451571785\t 12.405240713387537\t 3.033942747351079\t 2.9878458658088354\n",
            "17 \t [-5.12       -2.81641041]\t 42.80422899059933\t 12.405240713387537\t 3.041508539972072\t 3.167236911240951\n",
            "18 \t [0.4797614  0.02644206]\t 20.2878230530702\t 12.405240713387537\t 2.4304622061672303\t 3.0105414650908155\n",
            "19 \t [-2.82424652  5.12      ]\t 42.403410400455165\t 12.405240713387537\t 2.67278018136604\t 2.743951061006378\n",
            "20 \t [3.71624043 3.58777732]\t 57.305178988836246\t 12.405240713387537\t 3.249182813517578\t 2.9888175652603373\n"
          ]
        }
      ],
      "source": [
        "### ESTIMATED STP EI GRADIENTS\n",
        "\n",
        "np.random.seed(run_num_10)\n",
        "surrogate_approx_10 = dtStudentProcess(cov_func, optimize=opt, nu = df)\n",
        "\n",
        "approx_10 = GPGO_multi(surrogate_approx_10, Acquisition_grad(util), objfunc, param)\n",
        "approx_10.run(init_evals=n_init, max_iter=iters)\n"
      ]
    },
    {
      "cell_type": "code",
      "execution_count": 23,
      "metadata": {
        "id": "JS8ejeQ2GCfi",
        "colab": {
          "base_uri": "https://localhost:8080/"
        },
        "outputId": "e4dd3bd4-583f-4716-eddf-a935e671e39d"
      },
      "outputs": [
        {
          "output_type": "stream",
          "name": "stdout",
          "text": [
            "Evaluation \t Proposed point \t  Current eval. \t  Best eval. \t        Exact EI: StdDev. x \t Approx EI: StdDev. x \n",
            "init\t [-3.27403839 -4.92057353]\t 47.655641290890955\t 10.679755252484755\t    \t    \n",
            "init\t [-0.37664229  2.30332343]\t 35.87889240695259\t 10.679755252484755\t    \t    \n",
            "init\t [-0.81711509 -0.14922651]\t 10.679755252484755\t 10.679755252484755\t    \t    \n",
            "init\t [-4.98912446 -0.12931474]\t 28.05462905574235\t 10.679755252484755\t    \t    \n",
            "init\t [4.52410012 3.59214172]\t 71.62694632141611\t 10.679755252484755\t    \t    \n",
            "1  \t [ 3.03550212 -4.46785095]\t 49.22040431745476\t 10.679755252484755\t 2.910252259613797\t 4.082909601971785\n",
            "2  \t [-5.12  5.12]\t 57.849427451571785\t 10.679755252484755\t 2.7000861899111115\t 3.7589702904242683\n",
            "3  \t [ 5.12       -0.75125888]\t 39.410006526902066\t 10.679755252484755\t 3.2371366656975624\t 3.5561617788297526\n",
            "4  \t [1.2104652 5.12     ]\t 37.931362468896026\t 10.679755252484755\t 2.7009027588555004\t 2.6797632450897515\n",
            "5  \t [-0.21481968 -3.12847858]\t 20.726195533629188\t 10.679755252484755\t 2.726607252657669\t 3.0315990256209147\n",
            "6  \t [ 1.97878951 -0.29759594]\t 17.039007888210477\t 10.679755252484755\t 3.1895415233785442\t 2.9235353765979393\n",
            "7  \t [-1.93538802  5.12      ]\t 33.48323905058883\t 10.679755252484755\t 3.405265627029076\t 3.55320271788712\n",
            "8  \t [-3.48277975  2.27416303]\t 48.75547737665014\t 10.679755252484755\t 3.190254523694106\t 3.370677704365714\n",
            "9  \t [-2.81257358 -1.8555918 ]\t 21.364276964133445\t 10.679755252484755\t 3.6758759094567433\t 2.9163484083459097\n",
            "10 \t [-5.12       -2.93315761]\t 38.3971691458172\t 10.679755252484755\t 3.230206341252197\t 3.3575646505598016\n",
            "11 \t [ 0.06374593 -5.12      ]\t 29.720222703007153\t 10.679755252484755\t 3.0282928780241805\t 3.290331641029294\n",
            "12 \t [2.25945906 1.95177346]\t 19.964147514537856\t 10.679755252484755\t 2.668385916142434\t 2.9538793666858947\n",
            "13 \t [ 5.12       -3.36530029]\t 56.877219731065495\t 10.679755252484755\t 2.65805008369112\t 3.0233509812572414\n",
            "14 \t [ 1.88837991 -2.20406604]\t 17.937821746442815\t 10.679755252484755\t 2.724580680801049\t 3.0953954249603575\n",
            "15 \t [-2.43629253  0.13407609]\t 28.506442308694684\t 10.679755252484755\t 3.117699280703551\t 3.5693117190494825\n",
            "16 \t [4.15587973 1.09163919]\t 24.500335087175365\t 10.679755252484755\t 3.1420831165756704\t 3.075014024894022\n",
            "\u001b[1m\u001b[92m17\u001b[0m\t \u001b[1m\u001b[92m[ 0.115216   -1.16168978]\u001b[0m\t \u001b[1m\u001b[92m8.602345733295879\u001b[0m\t \u001b[1m\u001b[92m8.602345733295879\u001b[0m\t \u001b[1m\u001b[92m2.603554271536116\u001b[0m\t \u001b[1m\u001b[92m2.6406971091940585\u001b[0m\n",
            "18 \t [0.56653104 0.44157862]\t 38.98868688202776\t 8.602345733295879\t 2.926129963051322\t 2.8579881030703183\n",
            "19 \t [-5.12 -5.12]\t 57.849427451571785\t 8.602345733295879\t 3.1637859639476145\t 3.2323579669695444\n",
            "20 \t [2.19962253 4.29223484]\t 42.77155806009735\t 8.602345733295879\t 3.0754424841400763\t 3.1972674001754617\n"
          ]
        }
      ],
      "source": [
        "### ESTIMATED STP EI GRADIENTS\n",
        "\n",
        "np.random.seed(run_num_11)\n",
        "surrogate_approx_11 = dtStudentProcess(cov_func, optimize=opt, nu = df)\n",
        "\n",
        "approx_11 = GPGO_multi(surrogate_approx_11, Acquisition_grad(util), objfunc, param)\n",
        "approx_11.run(init_evals=n_init, max_iter=iters)\n"
      ]
    },
    {
      "cell_type": "code",
      "execution_count": 24,
      "metadata": {
        "id": "DXwjUVZ4GCii",
        "colab": {
          "base_uri": "https://localhost:8080/"
        },
        "outputId": "d02be933-feeb-4bde-875d-fd07ccfba100"
      },
      "outputs": [
        {
          "output_type": "stream",
          "name": "stdout",
          "text": [
            "Evaluation \t Proposed point \t  Current eval. \t  Best eval. \t        Exact EI: StdDev. x \t Approx EI: StdDev. x \n",
            "init\t [-3.54137249  2.45810889]\t 57.903242869085595\t 40.51116653209555\t    \t    \n",
            "init\t [-2.42365424  0.34549139]\t 40.51116653209555\t 40.51116653209555\t    \t    \n",
            "init\t [-4.97075238  4.28796936]\t 55.62655915398208\t 40.51116653209555\t    \t    \n",
            "init\t [ 4.10332011 -4.77776458]\t 49.962803461970296\t 40.51116653209555\t    \t    \n",
            "init\t [ 4.6791612  -3.71497655]\t 62.183891474990624\t 40.51116653209555\t    \t    \n",
            "1  \t [5.12 5.12]\t 57.849427451571785\t 40.51116653209555\t 3.6776527396425984\t 3.9651578763895956\n",
            "2  \t [-5.12       -4.76175942]\t 60.86087254020673\t 40.51116653209555\t 2.69025923362768\t 3.4817542887366764\n",
            "\u001b[1m\u001b[92m3\u001b[0m\t \u001b[1m\u001b[92m[2.51409012 0.8324447 ]\u001b[0m\t \u001b[1m\u001b[92m32.022881957534196\u001b[0m\t \u001b[1m\u001b[92m32.022881957534196\u001b[0m\t \u001b[1m\u001b[92m2.8587729079618156\u001b[0m\t \u001b[1m\u001b[92m3.0275095973808517\u001b[0m\n",
            "4  \t [0.33259951 5.12      ]\t 43.99535293143723\t 32.022881957534196\t 2.6412592457004878\t 3.3802881376673377\n",
            "5  \t [-0.45714167 -5.12      ]\t 48.77330101757837\t 32.022881957534196\t 1.3476427618414644\t 2.741302774814221\n",
            "\u001b[1m\u001b[92m6\u001b[0m\t \u001b[1m\u001b[92m[ 0.53659552 -1.83246992]\u001b[0m\t \u001b[1m\u001b[92m28.42974477676271\u001b[0m\t \u001b[1m\u001b[92m28.42974477676271\u001b[0m\t \u001b[1m\u001b[92m2.5116573392115047\u001b[0m\t \u001b[1m\u001b[92m2.7526322738789766\u001b[0m\n",
            "7  \t [-5.12       -1.28310585]\t 42.63620815264176\t 28.42974477676271\t 2.957120074093307\t 3.2589322473309434\n",
            "8  \t [ 5.12       -0.38070662]\t 46.38965813263568\t 28.42974477676271\t 2.8698060869261743\t 3.3842752230558872\n",
            "9  \t [-2.42814565 -2.81037509]\t 39.089000368135856\t 28.42974477676271\t 2.4224139291405407\t 2.6298059290862015\n",
            "\u001b[1m\u001b[92m10\u001b[0m\t \u001b[1m\u001b[92m[-0.04678919  2.14884503]\u001b[0m\t \u001b[1m\u001b[92m9.112350201571479\u001b[0m\t \u001b[1m\u001b[92m9.112350201571479\u001b[0m\t \u001b[1m\u001b[92m2.7921698775123627\u001b[0m\t \u001b[1m\u001b[92m3.1933943409177443\u001b[0m\n",
            "11 \t [2.70997995 3.49636006]\t 52.05402872108594\t 9.112350201571479\t 2.8827952919287165\t 3.3502047367802397\n",
            "12 \t [-2.29009753  5.12      ]\t 46.66209405616185\t 9.112350201571479\t 2.7242745111585087\t 3.164039590051678\n",
            "13 \t [5.12       2.25533952]\t 44.34669920958723\t 9.112350201571479\t 2.6407718746665862\t 3.1821550439992548\n",
            "14 \t [ 2.77771691 -1.87247763]\t 22.53104966503477\t 9.112350201571479\t 2.829811797479324\t 2.824690311789823\n",
            "15 \t [ 1.86766702 -5.12      ]\t 35.675010655248485\t 9.112350201571479\t 3.2145770692441498\t 3.0856885210008156\n",
            "16 \t [0.07585901 0.36899842]\t 18.055943287415477\t 9.112350201571479\t 2.7506224148927956\t 2.947340877518621\n",
            "17 \t [-2.77179569 -5.12      ]\t 45.242377993008475\t 9.112350201571479\t 2.5916259916883786\t 3.0183840204082193\n",
            "18 \t [-4.44525838  0.80534846]\t 46.41523160489041\t 9.112350201571479\t 3.1887702299717113\t 3.024683070760952\n",
            "19 \t [-1.11098948  2.97827934]\t 12.532073238556647\t 9.112350201571479\t 2.581103363412294\t 2.3629718857825144\n",
            "20 \t [-1.17073954 -1.22334679]\t 16.423588570005617\t 9.112350201571479\t 2.575766454187708\t 2.3820388685970393\n"
          ]
        }
      ],
      "source": [
        "### ESTIMATED STP EI GRADIENTS\n",
        "\n",
        "np.random.seed(run_num_12)\n",
        "surrogate_approx_12 = dtStudentProcess(cov_func, optimize=opt, nu = df)\n",
        "\n",
        "approx_12 = GPGO_multi(surrogate_approx_12, Acquisition_grad(util), objfunc, param)\n",
        "approx_12.run(init_evals=n_init, max_iter=iters)\n"
      ]
    },
    {
      "cell_type": "code",
      "execution_count": 25,
      "metadata": {
        "id": "CphOPndPGClX",
        "colab": {
          "base_uri": "https://localhost:8080/"
        },
        "outputId": "fc3186c4-1229-40b8-8b16-e9b079d29e94"
      },
      "outputs": [
        {
          "output_type": "stream",
          "name": "stdout",
          "text": [
            "Evaluation \t Proposed point \t  Current eval. \t  Best eval. \t        Exact EI: StdDev. x \t Approx EI: StdDev. x \n",
            "init\t [ 2.84367268 -2.68757791]\t 33.58019830007169\t 17.435826639425656\t    \t    \n",
            "init\t [3.32061217 4.76927179]\t 56.857057997503354\t 17.435826639425656\t    \t    \n",
            "init\t [ 4.83943541 -0.47667971]\t 48.211919361679726\t 17.435826639425656\t    \t    \n",
            "init\t [1.11659482 2.82139151]\t 17.435826639425656\t 17.435826639425656\t    \t    \n",
            "init\t [1.45012065 2.27346667]\t 38.25352329493884\t 17.435826639425656\t    \t    \n",
            "1  \t [-5.12       -2.70719865]\t 48.9106274395484\t 17.435826639425656\t 2.956877519894405\t 3.4306722804065\n",
            "2  \t [-5.12  5.12]\t 57.849427451571785\t 17.435826639425656\t 2.985682289445841\t 3.881641062447303\n",
            "3  \t [-1.08028523 -5.12      ]\t 31.337310832921958\t 17.435826639425656\t 2.296685015411801\t 3.0244058763569166\n",
            "\u001b[1m\u001b[92m4\u001b[0m\t \u001b[1m\u001b[92m[-2.85068827  1.13910437]\u001b[0m\t \u001b[1m\u001b[92m17.093700396950695\u001b[0m\t \u001b[1m\u001b[92m17.093700396950695\u001b[0m\t \u001b[1m\u001b[92m2.860633912182621\u001b[0m\t \u001b[1m\u001b[92m2.8561462592375824\u001b[0m\n",
            "5  \t [-1.15643627  5.12      ]\t 34.71609150037403\t 17.093700396950695\t 3.405690558711767\t 3.9667613953486973\n",
            "6  \t [-0.6171829  -1.41409031]\t 38.368455806618385\t 17.093700396950695\t 2.7790902306073924\t 2.911627543922373\n",
            "7  \t [ 5.12 -5.12]\t 57.849427451571785\t 17.093700396950695\t 3.520368362170548\t 3.796921713799191\n",
            "8  \t [5.12       2.46284294]\t 54.71901596619108\t 17.093700396950695\t 4.01073275242291\t 3.581403971167966\n",
            "9  \t [-5.12        1.77789088]\t 40.34212990623659\t 17.093700396950695\t 3.5751230478240275\t 3.3316242318789775\n",
            "10 \t [ 1.73745026 -5.12      ]\t 42.731153445417874\t 17.093700396950695\t 3.5001155207059367\t 3.2437320091955426\n",
            "11 \t [-3.92092045 -5.12      ]\t 45.50754922716563\t 17.093700396950695\t 3.222878235716548\t 3.3279003618731866\n",
            "\u001b[1m\u001b[92m12\u001b[0m\t \u001b[1m\u001b[92m[ 1.88320816 -0.24384172]\u001b[0m\t \u001b[1m\u001b[92m15.792908804100879\u001b[0m\t \u001b[1m\u001b[92m15.792908804100879\u001b[0m\t \u001b[1m\u001b[92m2.840770391302054\u001b[0m\t \u001b[1m\u001b[92m2.7619686648795967\u001b[0m\n",
            "13 \t [-1.22537518  2.47451383]\t 35.95576440512768\t 15.792908804100879\t 3.200021517473452\t 2.863482025826176\n",
            "14 \t [-3.21315603 -0.98818615]\t 19.034067105440062\t 15.792908804100879\t 2.9484302194983094\t 2.710144186221942\n",
            "15 \t [0.96597525 5.12      ]\t 30.08547045437438\t 15.792908804100879\t 3.0742201816458676\t 3.2889401455293443\n",
            "16 \t [-2.31301859 -3.08445299]\t 30.095957665731916\t 15.792908804100879\t 2.763886526587633\t 2.5270385023826196\n",
            "17 \t [-3.20246603  3.62579934]\t 47.49523159815754\t 15.792908804100879\t 3.1089311470219267\t 3.3919319026707377\n",
            "18 \t [ 5.12       -2.74336434]\t 46.86757171935905\t 15.792908804100879\t 2.3264588756046485\t 2.64584188956912\n",
            "19 \t [-5.12       -0.37807805]\t 46.27414766213457\t 15.792908804100879\t 2.577367044526482\t 2.724001876797546\n",
            "20 \t [ 0.46238388 -3.3109406 ]\t 44.63425029146785\t 15.792908804100879\t 3.317178596710524\t 3.503804486409578\n"
          ]
        }
      ],
      "source": [
        "### ESTIMATED STP EI GRADIENTS\n",
        "\n",
        "np.random.seed(run_num_13)\n",
        "surrogate_approx_13 = dtStudentProcess(cov_func, optimize=opt, nu = df)\n",
        "\n",
        "approx_13 = GPGO_multi(surrogate_approx_13, Acquisition_grad(util), objfunc, param)\n",
        "approx_13.run(init_evals=n_init, max_iter=iters)\n"
      ]
    },
    {
      "cell_type": "code",
      "execution_count": 26,
      "metadata": {
        "id": "ojHTeARNGCoi",
        "colab": {
          "base_uri": "https://localhost:8080/"
        },
        "outputId": "2c6febb5-7637-4ded-8d68-51acb007d282"
      },
      "outputs": [
        {
          "output_type": "stream",
          "name": "stdout",
          "text": [
            "Evaluation \t Proposed point \t  Current eval. \t  Best eval. \t        Exact EI: StdDev. x \t Approx EI: StdDev. x \n",
            "init\t [0.14277984 2.79721013]\t 18.683085263052178\t 10.423838604848608\t    \t    \n",
            "init\t [ 3.7931795  -5.03759925]\t 47.36348784446708\t 10.423838604848608\t    \t    \n",
            "init\t [-1.94830412  4.68586229]\t 40.19779334078636\t 10.423838604848608\t    \t    \n",
            "init\t [ 0.13431513 -1.86076749]\t 10.423838604848608\t 10.423838604848608\t    \t    \n",
            "init\t [ 0.40140736 -2.85434939]\t 30.353548735049138\t 10.423838604848608\t    \t    \n",
            "1  \t [-5.12 -5.12]\t 57.849427451571785\t 10.423838604848608\t 3.1780140634133702\t 3.8443509257492456\n",
            "2  \t [5.12 5.12]\t 57.849427451571785\t 10.423838604848608\t 3.1644114696190595\t 3.900789695149269\n",
            "3  \t [-5.12        0.35979576]\t 45.41851353584756\t 10.423838604848608\t 2.8260633524756344\t 3.6958821428102833\n",
            "4  \t [ 5.12       -0.06415148]\t 29.73023972019508\t 10.423838604848608\t 2.878784716398354\t 3.116822996185402\n",
            "5  \t [-5.12  5.12]\t 57.849427451571785\t 10.423838604848608\t 2.7662526341124267\t 2.980790705253326\n",
            "6  \t [-1.66279444  0.0720615 ]\t 18.98691834479092\t 10.423838604848608\t 2.7706716790416364\t 2.442562960873313\n",
            "7  \t [-1.6867155 -5.12     ]\t 45.642049911756004\t 10.423838604848608\t 2.714230992869361\t 2.3711926836976462\n",
            "8  \t [1.9251002  0.24997432]\t 14.853962434046057\t 10.423838604848608\t 3.1046585864434606\t 2.8410470709100575\n",
            "9  \t [1.75890101 5.12      ]\t 41.45947101112174\t 10.423838604848608\t 2.9695806703853047\t 2.993518349574112\n",
            "10 \t [-3.36158078 -2.32258601]\t 47.54932894827505\t 10.423838604848608\t 2.8702461874761975\t 3.108149964196242\n",
            "11 \t [3.50211654 2.42706407]\t 57.12276802648553\t 10.423838604848608\t 2.990562370383849\t 3.157013838557567\n",
            "12 \t [ 3.29187606 -2.14554986]\t 31.93899358119593\t 10.423838604848608\t 2.6325561086034592\t 3.377276737373868\n",
            "13 \t [-3.17252207  2.30270229]\t 33.940457984797\t 10.423838604848608\t 3.2351089920499487\t 3.5174536347265644\n",
            "14 \t [ 1.13226096 -5.12      ]\t 33.46550214893013\t 10.423838604848608\t 2.626373887957209\t 2.7622057147933785\n",
            "15 \t [0.18379772 0.47198575]\t 26.061345443805124\t 10.423838604848608\t 2.5263430567497376\t 2.834177846406746\n",
            "16 \t [ 5.12       -2.98301413]\t 37.87998450910975\t 10.423838604848608\t 2.980051487419777\t 3.276969834560751\n",
            "17 \t [-5.12        2.74898723]\t 46.54527824039597\t 10.423838604848608\t 3.0691452640695562\t 3.1539021771584834\n",
            "18 \t [-5.12       -2.65870391]\t 51.4202681468379\t 10.423838604848608\t 2.738283453461449\t 2.3498778921642676\n",
            "19 \t [3.78851967 4.08035791]\t 39.85328824905621\t 10.423838604848608\t 2.8867778495673275\t 2.8867778495673275\n",
            "20 \t [-1.31891847 -1.78744117]\t 26.799840243605196\t 10.423838604848608\t 2.6242833297743355\t 2.6491213277723\n"
          ]
        }
      ],
      "source": [
        "### ESTIMATED STP EI GRADIENTS\n",
        "\n",
        "np.random.seed(run_num_14)\n",
        "surrogate_approx_14 = dtStudentProcess(cov_func, optimize=opt, nu = df)\n",
        "\n",
        "approx_14 = GPGO_multi(surrogate_approx_14, Acquisition_grad(util), objfunc, param)\n",
        "approx_14.run(init_evals=n_init, max_iter=iters)\n"
      ]
    },
    {
      "cell_type": "code",
      "execution_count": 27,
      "metadata": {
        "id": "vCJzn4vWGCs3",
        "colab": {
          "base_uri": "https://localhost:8080/"
        },
        "outputId": "9de39e35-5410-46b0-80d3-df41eb7a1112"
      },
      "outputs": [
        {
          "output_type": "stream",
          "name": "stdout",
          "text": [
            "Evaluation \t Proposed point \t  Current eval. \t  Best eval. \t        Exact EI: StdDev. x \t Approx EI: StdDev. x \n",
            "init\t [ 3.57189322 -3.28810573]\t 54.938487770767075\t 7.990765314336182\t    \t    \n",
            "init\t [-4.56332069 -1.41784631]\t 60.750198753157726\t 7.990765314336182\t    \t    \n",
            "init\t [-2.29989449  0.3072023 ]\t 31.984997246800887\t 7.990765314336182\t    \t    \n",
            "init\t [-1.9873903  -2.00218256]\t 7.990765314336182\t 7.990765314336182\t    \t    \n",
            "init\t [-3.97576933 -2.5610341 ]\t 41.754957769694336\t 7.990765314336182\t    \t    \n",
            "1  \t [2.55186485 5.12      ]\t 54.91043298792641\t 7.990765314336182\t 3.0881738537082546\t 3.8171507094400203\n",
            "2  \t [-5.12  5.12]\t 57.849427451571785\t 7.990765314336182\t 2.7149251418120444\t 4.142472986219878\n",
            "3  \t [5.12       1.18067352]\t 36.09923948463857\t 7.990765314336182\t 2.825696129365773\t 3.547968925449694\n",
            "4  \t [-0.33082192 -5.12      ]\t 43.896884199456196\t 7.990765314336182\t 2.6790999354240994\t 3.1603584121445345\n",
            "5  \t [-1.25750865  4.14832845]\t 33.29906954011429\t 7.990765314336182\t 3.235498593219232\t 2.968447963091141\n",
            "6  \t [1.42172977 0.3933549 ]\t 38.8287273438818\t 7.990765314336182\t 3.414313010533989\t 3.417154556937185\n",
            "7  \t [-5.12 -5.12]\t 57.849427451571785\t 7.990765314336182\t 3.061028782407767\t 3.748656596684764\n",
            "8  \t [-5.12        1.86974912]\t 35.58670392379268\t 7.990765314336182\t 3.2637205652623993\t 3.50877038994484\n",
            "9  \t [5.12       4.17205387]\t 51.62669420865053\t 7.990765314336182\t 2.329141731401934\t 3.211165083417187\n",
            "10 \t [ 0.37126202 -2.27098154]\t 33.51274514923775\t 7.990765314336182\t 2.3543915748264985\t 3.169681982008514\n",
            "11 \t [ 5.12 -5.12]\t 57.849427451571785\t 7.990765314336182\t 2.702775062378892\t 3.4136729317760457\n",
            "12 \t [ 5.12      -1.2741706]\t 42.06107676367701\t 7.990765314336182\t 2.419255056175632\t 3.5399428297957005\n",
            "13 \t [0.98008507 2.85068336]\t 13.252612015449682\t 7.990765314336182\t 2.8211904059350457\t 2.9521157143483774\n",
            "14 \t [-2.63832753 -5.12      ]\t 52.34034134796657\t 7.990765314336182\t 2.7258867171469006\t 2.971333246804802\n",
            "15 \t [ 2.04646173 -5.12      ]\t 33.53581048464269\t 7.990765314336182\t 2.29781709033778\t 2.347484001797844\n",
            "16 \t [-2.99704528  2.79898293]\t 23.788978262042537\t 7.990765314336182\t 2.8408844971486067\t 2.8016153957167313\n",
            "17 \t [3.00032505 2.34317373]\t 30.017994138645914\t 7.990765314336182\t 2.141798420856343\t 2.5892582270461073\n",
            "18 \t [-0.60763937  1.7564106 ]\t 30.850348626692774\t 7.990765314336182\t 3.2415037090963525\t 2.9878294524570332\n",
            "19 \t [0.30053178 5.12      ]\t 42.136962947864475\t 7.990765314336182\t 2.721970174306293\t 2.999851334461559\n",
            "20 \t [-2.86237123  5.12      ]\t 40.629556596299764\t 7.990765314336182\t 2.913750823699332\t 2.8508504332444367\n"
          ]
        }
      ],
      "source": [
        "### ESTIMATED STP EI GRADIENTS\n",
        "\n",
        "np.random.seed(run_num_15)\n",
        "surrogate_approx_15 = dtStudentProcess(cov_func, optimize=opt, nu = df)\n",
        "\n",
        "approx_15 = GPGO_multi(surrogate_approx_15, Acquisition_grad(util), objfunc, param)\n",
        "approx_15.run(init_evals=n_init, max_iter=iters)\n"
      ]
    },
    {
      "cell_type": "code",
      "execution_count": 28,
      "metadata": {
        "id": "bGGkhp-kGCw6",
        "colab": {
          "base_uri": "https://localhost:8080/"
        },
        "outputId": "2ff755ab-ce8e-45ae-8f3a-bdaa4d79fc0f"
      },
      "outputs": [
        {
          "output_type": "stream",
          "name": "stdout",
          "text": [
            "Evaluation \t Proposed point \t  Current eval. \t  Best eval. \t        Exact EI: StdDev. x \t Approx EI: StdDev. x \n",
            "init\t [-2.83349935  0.23719262]\t 22.27210456874814\t 22.27210456874814\t    \t    \n",
            "init\t [ 0.51918292 -4.65303603]\t 57.57021076017139\t 22.27210456874814\t    \t    \n",
            "init\t [-1.42613673 -2.83565116]\t 33.89145899403749\t 22.27210456874814\t    \t    \n",
            "init\t [ 1.9325559  -3.44339021]\t 35.85029586225333\t 22.27210456874814\t    \t    \n",
            "init\t [-4.39987336  4.51595121]\t 77.78800881964571\t 22.27210456874814\t    \t    \n",
            "1  \t [3.58163634 5.12      ]\t 60.46590587006904\t 22.27210456874814\t 3.6660766989171574\t 4.0201580891181985\n",
            "2  \t [5.12       0.27386714]\t 40.49371891710378\t 22.27210456874814\t 3.5756932771939947\t 3.458853667171313\n",
            "3  \t [-5.12 -5.12]\t 57.849427451571785\t 22.27210456874814\t 3.413857450995418\t 3.813658237470946\n",
            "4  \t [0.98591544 1.56931673]\t 22.540382524098554\t 22.27210456874814\t 2.824713553993009\t 3.195392994921489\n",
            "5  \t [ 5.12 -5.12]\t 57.849427451571785\t 22.27210456874814\t 2.618041545163302\t 3.4893463695797258\n",
            "6  \t [-0.43261413  5.12      ]\t 48.22885023465486\t 22.27210456874814\t 3.1445018569679437\t 3.631724583799996\n",
            "7  \t [-5.12       -1.65594349]\t 47.23856761265237\t 22.27210456874814\t 2.7719227883455546\t 2.8100462610763985\n",
            "8  \t [-5.12        1.50484446]\t 51.18463838199512\t 22.27210456874814\t 2.1167143082014097\t 2.8391698639483707\n",
            "9  \t [ 2.26760572 -0.73314957]\t 27.840256131086356\t 22.27210456874814\t 2.902732766847315\t 2.912040394821616\n",
            "10 \t [-1.68977087  2.50742082]\t 42.82624425985829\t 22.27210456874814\t 2.868647584558659\t 3.6492080813148737\n",
            "11 \t [ 5.12       -2.35269384]\t 50.473819663219466\t 22.27210456874814\t 3.100401525466384\t 3.502446536184777\n",
            "12 \t [3.44314755 2.33103434]\t 51.532116094146275\t 22.27210456874814\t 2.99038802198167\t 3.334232089274095\n",
            "13 \t [-2.37232465 -5.12      ]\t 51.50384963282363\t 22.27210456874814\t 2.693399737302484\t 2.874638062896033\n",
            "14 \t [-0.38584452 -0.50467093]\t 37.93535858795079\t 22.27210456874814\t 2.692938630965333\t 2.5245213268299858\n",
            "15 \t [1.3070101  3.67792832]\t 43.11657760579957\t 22.27210456874814\t 2.4779900355397397\t 3.3495340563740954\n",
            "16 \t [5.12       3.49960975]\t 61.17195206070086\t 22.27210456874814\t 2.69911327624925\t 2.630081646973384\n",
            "17 \t [ 2.91508102 -5.12      ]\t 38.812400551181284\t 22.27210456874814\t 3.2032689340767813\t 3.070369192574481\n",
            "18 \t [-3.43510696 -2.87466591]\t 42.187668406067246\t 22.27210456874814\t 3.5476885206864663\t 3.3068385074747915\n",
            "19 \t [-2.33788013  5.12      ]\t 49.635732552297725\t 22.27210456874814\t 3.0574148935612024\t 3.025383580881239\n",
            "20 \t [ 0.6270443  -2.12408777]\t 24.77311360497885\t 22.27210456874814\t 3.229227192810235\t 3.2058380712363137\n"
          ]
        }
      ],
      "source": [
        "### ESTIMATED STP EI GRADIENTS\n",
        "\n",
        "np.random.seed(run_num_16)\n",
        "surrogate_approx_16 = dtStudentProcess(cov_func, optimize=opt, nu = df)\n",
        "\n",
        "approx_16 = GPGO_multi(surrogate_approx_16, Acquisition_grad(util), objfunc, param)\n",
        "approx_16.run(init_evals=n_init, max_iter=iters)\n"
      ]
    },
    {
      "cell_type": "code",
      "execution_count": 29,
      "metadata": {
        "id": "Yrs2mp7hGC1Z",
        "colab": {
          "base_uri": "https://localhost:8080/"
        },
        "outputId": "1ea12914-3654-421a-e165-d6f2986dbc84"
      },
      "outputs": [
        {
          "output_type": "stream",
          "name": "stdout",
          "text": [
            "Evaluation \t Proposed point \t  Current eval. \t  Best eval. \t        Exact EI: StdDev. x \t Approx EI: StdDev. x \n",
            "init\t [-2.10263037  0.31320838]\t 20.395145364684023\t 20.395145364684023\t    \t    \n",
            "init\t [-3.15882714 -4.42470033]\t 53.03732051200137\t 20.395145364684023\t    \t    \n",
            "init\t [2.93873111 1.60085526]\t 29.989224812583537\t 20.395145364684023\t    \t    \n",
            "init\t [1.40821398 0.77417363]\t 29.451989415882437\t 20.395145364684023\t    \t    \n",
            "init\t [-4.71999574 -1.45598869]\t 55.89242173757483\t 20.395145364684023\t    \t    \n",
            "1  \t [ 5.12 -5.12]\t 57.849427451571785\t 20.395145364684023\t 3.315476681130734\t 4.599696523929133\n",
            "2  \t [-5.12  5.12]\t 57.849427451571785\t 20.395145364684023\t 3.362397035023204\t 3.6021760881842293\n",
            "3  \t [-0.24401625  5.12      ]\t 38.60837606076735\t 20.395145364684023\t 2.949515021251649\t 3.5630013189318372\n",
            "4  \t [5.12 5.12]\t 57.849427451571785\t 20.395145364684023\t 3.173440090121636\t 3.690050629262533\n",
            "5  \t [ 1.07734624 -3.51435277]\t 34.628541794158\t 20.395145364684023\t 3.205077054735141\t 3.4576974468459523\n",
            "6  \t [ 5.12      -1.2539237]\t 40.74354685222494\t 20.395145364684023\t 2.812692269238377\t 3.340164139991351\n",
            "7  \t [-5.12        1.83352557]\t 37.27607277911755\t 20.395145364684023\t 2.451496102826078\t 2.9513503153700853\n",
            "8  \t [-2.32251495  3.11725792]\t 32.10506884580112\t 20.395145364684023\t 3.1653878017040826\t 3.4254398288685097\n",
            "\u001b[1m\u001b[92m9\u001b[0m\t \u001b[1m\u001b[92m[-1.18937946 -1.99930221]\u001b[0m\t \u001b[1m\u001b[92m11.6944597084082\u001b[0m\t \u001b[1m\u001b[92m11.6944597084082\u001b[0m\t \u001b[1m\u001b[92m3.6931492665797205\u001b[0m\t \u001b[1m\u001b[92m3.382877222843513\u001b[0m\n",
            "10 \t [2.32778106 4.36427169]\t 55.73905317800478\t 11.6944597084082\t 2.8254101516054924\t 3.0995204728009824\n",
            "11 \t [5.12      2.0241463]\t 33.136749608939915\t 11.6944597084082\t 3.318201286139593\t 3.210438358322123\n",
            "12 \t [-0.59569269 -5.12      ]\t 47.52582747664388\t 11.6944597084082\t 3.03438211588044\t 3.0109272487568335\n",
            "13 \t [ 2.51895858 -1.5268277 ]\t 48.46375876840024\t 11.6944597084082\t 2.616216121323866\t 2.523573202548245\n",
            "14 \t [ 2.5551218 -5.12     ]\t 54.85957370218833\t 11.6944597084082\t 2.7129403326132877\t 3.3215903491443672\n",
            "15 \t [-0.08115065  2.38654821]\t 24.5392742870067\t 11.6944597084082\t 2.598674151958082\t 2.8189626952626123\n",
            "16 \t [-0.11067846 -0.71317672]\t 15.136068949178368\t 11.6944597084082\t 2.4612984539672897\t 2.4359987387741437\n",
            "17 \t [-2.74233762  5.12      ]\t 46.92638502421957\t 11.6944597084082\t 3.5403703240685953\t 3.249094594776762\n",
            "18 \t [-5.12 -5.12]\t 57.849427451571785\t 11.6944597084082\t 3.3324917748713836\t 3.459049491734158\n",
            "19 \t [-2.52075647 -2.02834289]\t 30.54161618078269\t 11.6944597084082\t 2.8610113496747553\t 2.751194169456933\n",
            "20 \t [ 3.97813452 -3.2038899 ]\t 33.3278663821516\t 11.6944597084082\t 3.0553412845074717\t 3.299386581465901\n"
          ]
        }
      ],
      "source": [
        "### ESTIMATED STP EI GRADIENTS\n",
        "\n",
        "np.random.seed(run_num_17)\n",
        "surrogate_approx_17 = dtStudentProcess(cov_func, optimize=opt, nu = df)\n",
        "\n",
        "approx_17 = GPGO_multi(surrogate_approx_17, Acquisition_grad(util), objfunc, param)\n",
        "approx_17.run(init_evals=n_init, max_iter=iters)\n"
      ]
    },
    {
      "cell_type": "code",
      "execution_count": 30,
      "metadata": {
        "id": "f0HIEP3PIUEa",
        "colab": {
          "base_uri": "https://localhost:8080/"
        },
        "outputId": "51f81462-3c34-4f18-fb09-a4573b4daa88"
      },
      "outputs": [
        {
          "output_type": "stream",
          "name": "stdout",
          "text": [
            "Evaluation \t Proposed point \t  Current eval. \t  Best eval. \t        Exact EI: StdDev. x \t Approx EI: StdDev. x \n",
            "init\t [1.53983224 0.05584255]\t 22.67190580753611\t 22.67190580753611\t    \t    \n",
            "init\t [ 3.87687906 -3.25795609]\t 38.990099416711985\t 22.67190580753611\t    \t    \n",
            "init\t [3.60686662 2.56139557]\t 56.66448698782129\t 22.67190580753611\t    \t    \n",
            "init\t [1.70088108 4.99604939]\t 40.894059318256296\t 22.67190580753611\t    \t    \n",
            "init\t [-2.48864335 -4.83014733]\t 54.6725749848372\t 22.67190580753611\t    \t    \n",
            "1  \t [-5.00718904  2.9174042 ]\t 34.91005808676357\t 22.67190580753611\t 3.00450163515948\t 3.858257995709437\n",
            "2  \t [-5.12       -1.37231578]\t 47.758775229357255\t 22.67190580753611\t 2.9707100640013104\t 2.982795831549052\n",
            "3  \t [-1.30204395  2.41812383]\t 39.46036109720558\t 22.67190580753611\t 4.047553022470944\t 3.3555992469642373\n",
            "4  \t [ 1.04792652 -5.12      ]\t 30.472847844331426\t 22.67190580753611\t 3.436847553085417\t 3.640948868926005\n",
            "5  \t [-1.4623386  -1.33673408]\t 38.83051174077087\t 22.67190580753611\t 3.189089126583069\t 3.3309326518945137\n",
            "6  \t [-2.73868155  5.12      ]\t 47.13565016745986\t 22.67190580753611\t 3.3313406160700723\t 4.261191869518446\n",
            "7  \t [ 5.12       -0.35138058]\t 44.995990290211445\t 22.67190580753611\t 3.7336469173477735\t 4.398418090541222\n",
            "8  \t [5.12 5.12]\t 57.849427451571785\t 22.67190580753611\t 3.085233222649432\t 3.8578967219303926\n",
            "9  \t [-5.12 -5.12]\t 57.849427451571785\t 22.67190580753611\t 3.699696906893548\t 3.3983733763583044\n",
            "10 \t [ 1.09162691 -2.48346411]\t 28.917251847479612\t 22.67190580753611\t 3.1027716453522114\t 3.406565464546196\n",
            "11 \t [ 5.12 -5.12]\t 57.849427451571785\t 22.67190580753611\t 3.0154769120553806\t 3.1959460153086456\n",
            "12 \t [-3.41455949  0.75376521]\t 40.584123541523525\t 22.67190580753611\t 2.4550400804529846\t 3.2826799750024205\n",
            "13 \t [-5.12  5.12]\t 57.849427451571785\t 22.67190580753611\t 2.941003658134375\t 3.1028076174766643\n",
            "14 \t [1.0092562 2.3676385]\t 23.377776275895286\t 22.67190580753611\t 2.480153263560803\t 2.6712843101397117\n",
            "15 \t [-0.51443272  4.6444147 ]\t 57.952226869789385\t 22.67190580753611\t 2.5351466214415916\t 2.71131194615993\n",
            "16 \t [-3.32179459 -2.67419483]\t 47.130106357085864\t 22.67190580753611\t 2.269213089468187\t 2.641672902613964\n",
            "\u001b[1m\u001b[92m17\u001b[0m\t \u001b[1m\u001b[92m[ 2.98500452 -1.11487634]\u001b[0m\t \u001b[1m\u001b[92m12.691308104734755\u001b[0m\t \u001b[1m\u001b[92m12.691308104734755\u001b[0m\t \u001b[1m\u001b[92m2.8732211912680374\u001b[0m\t \u001b[1m\u001b[92m3.1860162553294753\u001b[0m\n",
            "18 \t [-0.34369636  0.44581123]\t 35.29572555348754\t 12.691308104734755\t 2.991943798130631\t 3.1952698221871385\n",
            "19 \t [-0.68527272 -3.56959952]\t 46.22634186629253\t 12.691308104734755\t 2.9436952559573664\t 3.2145364965310965\n",
            "20 \t [ 2.99051597 -5.12      ]\t 37.88564902836642\t 12.691308104734755\t 2.927332792644725\t 3.413656314122983\n"
          ]
        }
      ],
      "source": [
        "### ESTIMATED STP EI GRADIENTS\n",
        "\n",
        "np.random.seed(run_num_18)\n",
        "surrogate_approx_18 = dtStudentProcess(cov_func, optimize=opt, nu = df)\n",
        "\n",
        "approx_18 = GPGO_multi(surrogate_approx_18, Acquisition_grad(util), objfunc, param)\n",
        "approx_18.run(init_evals=n_init, max_iter=iters)\n"
      ]
    },
    {
      "cell_type": "code",
      "execution_count": 31,
      "metadata": {
        "id": "S3mxRQDLIUPC",
        "colab": {
          "base_uri": "https://localhost:8080/"
        },
        "outputId": "ac6b9674-6d9d-45cd-e40f-8953a7dfc569"
      },
      "outputs": [
        {
          "output_type": "stream",
          "name": "stdout",
          "text": [
            "Evaluation \t Proposed point \t  Current eval. \t  Best eval. \t        Exact EI: StdDev. x \t Approx EI: StdDev. x \n",
            "init\t [-4.12125592  2.6751971 ]\t 41.43485596167127\t 25.867003842388073\t    \t    \n",
            "init\t [-2.59135515 -3.70553152]\t 51.60126035043229\t 25.867003842388073\t    \t    \n",
            "init\t [-1.72598719 -4.27008445]\t 43.97430127029199\t 25.867003842388073\t    \t    \n",
            "init\t [1.76104531 3.13952049]\t 25.867003842388073\t 25.867003842388073\t    \t    \n",
            "init\t [4.9432772  1.38916592]\t 44.66580306903559\t 25.867003842388073\t    \t    \n",
            "1  \t [ 5.12 -5.12]\t 57.849427451571785\t 25.867003842388073\t 3.1819817603290925\t 4.721091043993306\n",
            "2  \t [ 1.77597011 -1.68637198]\t 28.265620307761434\t 25.867003842388073\t 3.561953161907329\t 3.4306546247492897\n",
            "3  \t [5.12 5.12]\t 57.849427451571785\t 25.867003842388073\t 3.8664248583025556\t 4.124295712286749\n",
            "4  \t [-1.28677787  5.12      ]\t 42.8708215992574\t 25.867003842388073\t 3.0451436127651443\t 2.9939229626057333\n",
            "5  \t [-5.12      -0.9783971]\t 29.97395322055487\t 25.867003842388073\t 2.810885096451693\t 3.069454868784337\n",
            "\u001b[1m\u001b[92m6\u001b[0m\t \u001b[1m\u001b[92m[-1.2008523   0.35666317]\u001b[0m\t \u001b[1m\u001b[92m24.741365561452923\u001b[0m\t \u001b[1m\u001b[92m24.741365561452923\u001b[0m\t \u001b[1m\u001b[92m3.3893524591842885\u001b[0m\t \u001b[1m\u001b[92m2.9506213877161174\u001b[0m\n",
            "7  \t [ 1.54032211 -5.12      ]\t 50.9780845234657\t 24.741365561452923\t 3.157426443162269\t 3.9060117455777745\n",
            "8  \t [ 5.12      -1.8216361]\t 37.89248993737213\t 24.741365561452923\t 2.7157053452733266\t 2.9625287305329517\n",
            "9  \t [-5.12 -5.12]\t 57.849427451571785\t 24.741365561452923\t 3.5222436059594213\t 3.736358975254097\n",
            "10 \t [-5.12  5.12]\t 57.849427451571785\t 24.741365561452923\t 3.0988918333827913\t 3.212195001038029\n",
            "\u001b[1m\u001b[92m11\u001b[0m\t \u001b[1m\u001b[92m[1.82102965 0.74218285]\u001b[0m\t \u001b[1m\u001b[92m20.041711618367028\u001b[0m\t \u001b[1m\u001b[92m20.041711618367028\u001b[0m\t \u001b[1m\u001b[92m2.30946376290537\u001b[0m\t \u001b[1m\u001b[92m2.554124807465342\u001b[0m\n",
            "12 \t [2.05726102 5.12      ]\t 33.79729923001897\t 20.041711618367028\t 2.664459819809361\t 2.6743507828954596\n",
            "13 \t [-0.85808026  2.59995588]\t 29.30703305128398\t 20.041711618367028\t 2.7764886150464987\t 2.534302556837591\n",
            "14 \t [-0.58669753 -1.86742001]\t 25.65770242333744\t 20.041711618367028\t 2.847264554199258\t 2.796384294696857\n",
            "15 \t [-3.24033901  0.09983108]\t 21.806713772925715\t 20.041711618367028\t 2.8683068070624516\t 2.8703083157052167\n",
            "16 \t [ 3.24683222 -3.29252797]\t 43.82406105203562\t 20.041711618367028\t 2.736275264067587\t 3.252540433218708\n",
            "17 \t [-5.12       -2.82867132]\t 42.18188275579988\t 20.041711618367028\t 2.9812307039173653\t 3.1820548800789026\n",
            "18 \t [ 3.41680376 -0.30959294]\t 44.09240675606003\t 20.041711618367028\t 2.9277652971377934\t 2.693143473020488\n",
            "19 \t [3.69870512 3.1497753 ]\t 40.87967957366819\t 20.041711618367028\t 2.4243842488701732\t 2.756482183026924\n",
            "20 \t [-5.12        0.97583047]\t 29.9920471625705\t 20.041711618367028\t 2.6779180395976585\t 3.0642266876735866\n"
          ]
        }
      ],
      "source": [
        "### ESTIMATED STP EI GRADIENTS\n",
        "\n",
        "np.random.seed(run_num_19)\n",
        "surrogate_approx_19 = dtStudentProcess(cov_func, optimize=opt, nu = df)\n",
        "\n",
        "approx_19 = GPGO_multi(surrogate_approx_19, Acquisition_grad(util), objfunc, param)\n",
        "approx_19.run(init_evals=n_init, max_iter=iters)\n"
      ]
    },
    {
      "cell_type": "code",
      "execution_count": 32,
      "metadata": {
        "id": "Aawd59dRIUYn",
        "colab": {
          "base_uri": "https://localhost:8080/"
        },
        "outputId": "07813fe8-e0a2-4d49-cc91-bdd674568c88"
      },
      "outputs": [
        {
          "output_type": "stream",
          "name": "stdout",
          "text": [
            "Evaluation \t Proposed point \t  Current eval. \t  Best eval. \t        Exact EI: StdDev. x \t Approx EI: StdDev. x \n",
            "init\t [0.9024594  4.07258857]\t 20.24255447774017\t 17.388691338534382\t    \t    \n",
            "init\t [4.00927467 3.23417577]\t 35.55852254546393\t 17.388691338534382\t    \t    \n",
            "init\t [-4.75249064  1.96359764]\t 36.54582989269194\t 17.388691338534382\t    \t    \n",
            "init\t [-1.24230715  0.18955208]\t 17.388691338534382\t 17.388691338534382\t    \t    \n",
            "init\t [ 1.61742301 -3.13497377]\t 33.22932870179905\t 17.388691338534382\t    \t    \n",
            "1  \t [-5.12 -5.12]\t 57.849427451571785\t 17.388691338534382\t 3.143128910720323\t 3.8333158726702288\n",
            "2  \t [ 5.12       -0.92645866]\t 30.831740520037826\t 17.388691338534382\t 2.8145574531702207\t 3.780945254642499\n",
            "3  \t [ 5.12 -5.12]\t 57.849427451571785\t 17.388691338534382\t 2.9041791000835633\t 3.176996314020707\n",
            "4  \t [-2.70374718  5.12      ]\t 49.10037798927078\t 17.388691338534382\t 3.264302601658532\t 3.515540180888605\n",
            "5  \t [-1.34020595 -5.12      ]\t 46.09005495517293\t 17.388691338534382\t 2.118134957441031\t 3.0119387418736814\n",
            "6  \t [-5.12       -1.49931021]\t 51.172550926555374\t 17.388691338534382\t 3.0993355605903394\t 3.4561579428523905\n",
            "7  \t [1.91276093 0.46600092]\t 25.113548243800544\t 17.388691338534382\t 3.1736790256867655\t 3.350377865623535\n",
            "8  \t [-2.03805903 -2.26727558]\t 20.662110284088364\t 17.388691338534382\t 3.118874263926509\t 3.398959675306902\n",
            "9  \t [-1.35118073  2.55310278]\t 43.73025002769455\t 17.388691338534382\t 2.829029379726386\t 3.294733972809685\n",
            "10 \t [-5.12  5.12]\t 57.849427451571785\t 17.388691338534382\t 3.39969969824323\t 3.421398635299252\n",
            "11 \t [5.12 5.12]\t 57.849427451571785\t 17.388691338534382\t 3.062699658648768\t 3.050299218019269\n",
            "12 \t [ 2.26484376 -5.12      ]\t 44.98554042011152\t 17.388691338534382\t 3.0272567769659067\t 3.1415177511061514\n",
            "13 \t [5.12       1.32196962]\t 45.0417582013952\t 17.388691338534382\t 3.139645219200536\t 3.3060416619553\n",
            "14 \t [ 0.20563447 -1.3182408 ]\t 23.185958435037204\t 17.388691338534382\t 2.924849220289869\t 2.651679208425434\n",
            "15 \t [ 3.91471722 -2.67872164]\t 38.232530588807656\t 17.388691338534382\t 2.6571474082723694\t 3.1782963580930557\n",
            "16 \t [2.41282887 5.12      ]\t 53.28363715658078\t 17.388691338534382\t 3.1285890160089576\t 2.8681964815714425\n",
            "\u001b[1m\u001b[92m17\u001b[0m\t \u001b[1m\u001b[92m[-3.14785983  0.12263728]\u001b[0m\t \u001b[1m\u001b[92m16.762696629326094\u001b[0m\t \u001b[1m\u001b[92m16.762696629326094\u001b[0m\t \u001b[1m\u001b[92m2.620573745247685\u001b[0m\t \u001b[1m\u001b[92m2.026095302164822\u001b[0m\n",
            "18 \t [1.33790372 2.28432048]\t 34.3944488984947\t 16.762696629326094\t 3.0262431709018633\t 2.7374123354128765\n",
            "19 \t [-0.42375965  5.12      ]\t 47.978700022001746\t 16.762696629326094\t 2.7762301042957813\t 3.26706363888495\n",
            "20 \t [-3.41038666  1.79200416]\t 40.68962045889701\t 16.762696629326094\t 2.543739011455856\t 2.525191888689687\n"
          ]
        }
      ],
      "source": [
        "### ESTIMATED STP EI GRADIENTS\n",
        "\n",
        "np.random.seed(run_num_20)\n",
        "surrogate_approx_20 = dtStudentProcess(cov_func, optimize=opt, nu = df)\n",
        "\n",
        "approx_20 = GPGO_multi(surrogate_approx_20, Acquisition_grad(util), objfunc, param)\n",
        "approx_20.run(init_evals=n_init, max_iter=iters)\n"
      ]
    },
    {
      "cell_type": "code",
      "execution_count": 33,
      "metadata": {
        "id": "xkgzPRbBTHaq",
        "colab": {
          "base_uri": "https://localhost:8080/"
        },
        "outputId": "4c09780d-97b2-4610-f897-b3ea8215112b"
      },
      "outputs": [
        {
          "output_type": "execute_result",
          "data": {
            "text/plain": [
              "1662385715.113649"
            ]
          },
          "metadata": {},
          "execution_count": 33
        }
      ],
      "source": [
        "end_approx = time.time()\n",
        "end_approx\n",
        "\n",
        "time_approx = end_approx - start_approx\n",
        "time_approx\n",
        "\n",
        "start_exact = time.time()\n",
        "start_exact"
      ]
    },
    {
      "cell_type": "code",
      "execution_count": 34,
      "metadata": {
        "id": "7CG3Ndvb16Rb",
        "colab": {
          "base_uri": "https://localhost:8080/"
        },
        "outputId": "4f286e52-2d0d-490a-e4d6-973aecdebade"
      },
      "outputs": [
        {
          "output_type": "stream",
          "name": "stdout",
          "text": [
            "Evaluation \t Proposed point \t  Current eval. \t  Best eval. \t        Exact EI: StdDev. x \t Approx EI: StdDev. x \n",
            "init\t [-0.84969467  2.25612281]\t 20.33436270766351\t 19.908403246996286\t    \t    \n",
            "init\t [-5.1188288  -2.02411446]\t 33.07414982069084\t 19.908403246996286\t    \t    \n",
            "init\t [-3.61721968 -4.17445279]\t 53.347974723929894\t 19.908403246996286\t    \t    \n",
            "init\t [-3.21269544 -1.58145816]\t 39.218472310354045\t 19.908403246996286\t    \t    \n",
            "init\t [-1.05710106  0.39748336]\t 19.908403246996286\t 19.908403246996286\t    \t    \n",
            "1  \t [ 4.04077223 -4.24914728]\t 44.655863836006326\t 19.908403246996286\t 3.1524274681614224\t 4.421518129242093\n",
            "2  \t [4.42977754 2.01541797]\t 42.77403520305755\t 19.908403246996286\t 3.270389009242551\t 3.664418274859568\n",
            "3  \t [ 0.1047149  -3.68117597]\t 29.840326213156384\t 19.908403246996286\t 2.9014251492419754\t 4.175143135607348\n",
            "4  \t [-4.89958599  4.58721496]\t 65.50937696421485\t 19.908403246996286\t 3.459463034801761\t 4.111411769642945\n",
            "5  \t [ 1.84587273 -0.35518185]\t 24.005392994841312\t 19.908403246996286\t 2.488590725486577\t 3.4238139635363645\n",
            "6  \t [-4.57443259  1.04282096]\t 41.29887000008003\t 19.908403246996286\t 2.7839098856184012\t 3.408046183639247\n",
            "7  \t [1.39882906 5.05766937]\t 46.23277535664419\t 19.908403246996286\t 3.2549919920426302\t 3.8018574186082343\n",
            "8  \t [4.62022436 4.15131683]\t 60.04921821265257\t 19.908403246996286\t 2.9538144354905733\t 4.124316225639936\n",
            "9  \t [-1.93958654  4.93995468]\t 29.58026172519594\t 19.908403246996286\t 3.082899338490039\t 3.4228813000722638\n",
            "10 \t [ 5.05771515 -1.34492395]\t 43.65653058824776\t 19.908403246996286\t 3.5234828050101177\t 3.516543586753224\n",
            "\u001b[1m\u001b[92m11\u001b[0m\t \u001b[1m\u001b[92m[1.80354291 1.9185185 ]\u001b[0m\t \u001b[1m\u001b[92m14.914537361917091\u001b[0m\t \u001b[1m\u001b[92m14.914537361917091\u001b[0m\t \u001b[1m\u001b[92m2.573893250799312\u001b[0m\t \u001b[1m\u001b[92m2.7472802128338034\u001b[0m\n",
            "12 \t [-1.49187805 -5.12      ]\t 51.13739548970467\t 14.914537361917091\t 3.0351206806643196\t 3.3056046885705572\n",
            "13 \t [ 1.48812061 -5.09217338]\t 49.74756660164665\t 14.914537361917091\t 2.052603420401117\t 2.4008861454904586\n",
            "14 \t [-0.8277918  -1.81141369]\t 15.507278640156038\t 14.914537361917091\t 3.069883963817525\t 3.053180096119674\n",
            "15 \t [ 2.12422728 -2.56599674]\t 33.14385968010344\t 14.914537361917091\t 2.4909686386691696\t 2.805100566764818\n",
            "16 \t [-2.75381175  2.35522412]\t 39.03127457075007\t 14.914537361917091\t 2.6525191587616193\t 2.9341185934515908\n",
            "17 \t [-5.12 -5.12]\t 57.849427451571785\t 14.914537361917091\t 2.876345050389802\t 3.1000714147937547\n",
            "18 \t [0.68472354 2.9235501 ]\t 24.135068736996462\t 14.914537361917091\t 2.6667660267951243\t 2.8027011084689963\n",
            "\u001b[1m\u001b[92m19\u001b[0m\t \u001b[1m\u001b[92m[-0.00202699 -0.9549179 ]\u001b[0m\t \u001b[1m\u001b[92m1.3111869737256132\u001b[0m\t \u001b[1m\u001b[92m1.3111869737256132\u001b[0m\t \u001b[1m\u001b[92m3.2618831377723136\u001b[0m\t \u001b[1m\u001b[92m3.1711625527534117\u001b[0m\n",
            "20 \t [3.54796751 0.17656   ]\t 37.71614453370224\t 1.3111869737256132\t 2.5791007859704322\t 2.657411032709664\n"
          ]
        }
      ],
      "source": [
        "### EXACT STP EI GRADIENTS\n",
        "\n",
        "np.random.seed(run_num_1)\n",
        "surrogate_exact_1 = dtStudentProcess(cov_func, optimize=opt, nu = df)\n",
        "\n",
        "exact_1 = dGPGO(surrogate_exact_1, Acquisition_grad(util), objfunc, param)\n",
        "exact_1.run(init_evals=n_init, max_iter=iters)\n"
      ]
    },
    {
      "cell_type": "code",
      "execution_count": 35,
      "metadata": {
        "id": "-ilCPSAu9SAg",
        "colab": {
          "base_uri": "https://localhost:8080/"
        },
        "outputId": "af1feded-cba1-4c0b-d402-132131d418c3"
      },
      "outputs": [
        {
          "output_type": "stream",
          "name": "stdout",
          "text": [
            "Evaluation \t Proposed point \t  Current eval. \t  Best eval. \t        Exact EI: StdDev. x \t Approx EI: StdDev. x \n",
            "init\t [-0.6554122  -4.85451539]\t 43.490296251903594\t 18.964539418712707\t    \t    \n",
            "init\t [ 0.50854377 -0.6622987 ]\t 35.91861667536101\t 18.964539418712707\t    \t    \n",
            "init\t [-0.81543371 -1.73737143]\t 20.479562046739524\t 18.964539418712707\t    \t    \n",
            "init\t [-3.02439799  1.2213347 ]\t 18.964539418712707\t 18.964539418712707\t    \t    \n",
            "init\t [-2.05153614 -2.3876887 ]\t 28.041315668371354\t 18.964539418712707\t    \t    \n",
            "1  \t [4.81874241 3.07464552]\t 39.56740440269988\t 18.964539418712707\t 3.67017144778887\t 4.463732601300035\n",
            "2  \t [ 4.84260546 -3.96517156]\t 43.916134329740714\t 18.964539418712707\t 3.4351281785328593\t 4.419552893967704\n",
            "3  \t [-5.12 -5.12]\t 57.849427451571785\t 18.964539418712707\t 3.3435348563630396\t 4.002171409364298\n",
            "4  \t [0.70799905 3.12454697]\t 25.781362594131053\t 18.964539418712707\t 2.5616788568773066\t 3.5964090593393503\n",
            "5  \t [-5.12       -1.22959612]\t 39.158115404957606\t 18.964539418712707\t 3.2695477526477283\t 3.845010137531811\n",
            "6  \t [-4.40667555  4.45597249]\t 77.2238064298952\t 18.964539418712707\t 3.004263417170954\t 4.056145916437655\n",
            "7  \t [ 3.30047968 -1.27609408]\t 37.27260610986593\t 18.964539418712707\t 2.8264743368171095\t 3.688344962897651\n",
            "8  \t [2.28828263 5.12      ]\t 46.54319187164316\t 18.964539418712707\t 2.891914396127522\t 3.2648369993317248\n",
            "9  \t [2.66327713 1.37439761]\t 41.20955822487924\t 18.964539418712707\t 3.390573032882979\t 3.499747604635037\n",
            "10 \t [ 1.92060797 -3.87636223]\t 22.802183211778008\t 18.964539418712707\t 3.072467512749918\t 3.5760184044021375\n",
            "11 \t [-1.90672303  5.03168828]\t 30.819864606201946\t 18.964539418712707\t 3.351763158182831\t 3.632044748762166\n",
            "12 \t [-0.89994635  1.46265763]\t 24.58708905589944\t 18.964539418712707\t 2.4405752361110076\t 2.582854670494294\n",
            "13 \t [-4.79362166  1.32928128]\t 46.817069465034315\t 18.964539418712707\t 2.867632393114495\t 3.246671378575166\n",
            "14 \t [5.12 5.12]\t 57.849427451571785\t 18.964539418712707\t 3.1021202175319744\t 3.492985316593904\n",
            "15 \t [-2.81591939 -5.12      ]\t 42.829687636952116\t 18.964539418712707\t 2.979802188940481\t 3.178507262707997\n",
            "16 \t [0.04177452 5.05813413]\t 26.588681620514777\t 18.964539418712707\t 2.7966877873466993\t 3.087759879716871\n",
            "17 \t [ 5.12       -0.60959112]\t 47.01779772292158\t 18.964539418712707\t 2.4921377812528327\t 3.1906822171107354\n",
            "18 \t [-3.132314   -0.72597658]\t 25.10337936176766\t 18.964539418712707\t 2.971117538330394\t 2.7342001549837778\n",
            "19 \t [-2.25290531  2.62151834]\t 39.35452626284816\t 18.964539418712707\t 2.61331893421618\t 3.0722819559972203\n",
            "20 \t [-4.14321366 -3.1997671 ]\t 38.083275976574136\t 18.964539418712707\t 3.05576765731387\t 3.136837303176055\n"
          ]
        }
      ],
      "source": [
        "### EXACT STP EI GRADIENTS\n",
        "\n",
        "np.random.seed(run_num_2)\n",
        "surrogate_exact_2 = dtStudentProcess(cov_func, optimize=opt, nu = df)\n",
        "\n",
        "exact_2 = dGPGO(surrogate_exact_2, Acquisition_grad(util), objfunc, param)\n",
        "exact_2.run(init_evals=n_init, max_iter=iters)\n"
      ]
    },
    {
      "cell_type": "code",
      "execution_count": 36,
      "metadata": {
        "id": "XieJ158mIvlP",
        "colab": {
          "base_uri": "https://localhost:8080/"
        },
        "outputId": "0a85eb53-e8aa-4f6c-e6fd-7602f0606046"
      },
      "outputs": [
        {
          "output_type": "stream",
          "name": "stdout",
          "text": [
            "Evaluation \t Proposed point \t  Current eval. \t  Best eval. \t        Exact EI: StdDev. x \t Approx EI: StdDev. x \n",
            "init\t [0.52017052 2.1314337 ]\t 27.953858411008774\t 10.607662635789808\t    \t    \n",
            "init\t [-2.14113547  0.11087468]\t 10.607662635789808\t 10.607662635789808\t    \t    \n",
            "init\t [4.02377681 4.05804123]\t 33.42749829480097\t 10.607662635789808\t    \t    \n",
            "init\t [-3.83400642 -2.99783293]\t 28.650953928965198\t 10.607662635789808\t    \t    \n",
            "init\t [-4.59297584 -0.6061072 ]\t 57.6631355589384\t 10.607662635789808\t    \t    \n",
            "1  \t [ 2.87042319 -1.98283743]\t 15.364229918613852\t 10.607662635789808\t 2.961830051111131\t 2.7970367521236854\n",
            "2  \t [-3.19677619  4.62951673]\t 55.23721089925957\t 10.607662635789808\t 3.06318860417273\t 4.212942107624269\n",
            "3  \t [-0.49026183 -3.21838369]\t 38.606165068807485\t 10.607662635789808\t 2.479673616052189\t 3.7572576196403893\n",
            "4  \t [4.89423267 0.02817073]\t 26.238638237873694\t 10.607662635789808\t 3.1031616126049966\t 3.9907198296739366\n",
            "5  \t [ 2.66793959 -4.83122769]\t 50.50424889035734\t 10.607662635789808\t 3.2501875434929186\t 3.801455417649892\n",
            "6  \t [1.35689399 4.83145353]\t 46.50940343309243\t 10.607662635789808\t 3.4624930734569825\t 3.316969627752111\n",
            "7  \t [-5.12 -5.12]\t 57.849427451571785\t 10.607662635789808\t 3.242508741487875\t 3.6797425524716183\n",
            "8  \t [-5.0248542   2.30354727]\t 43.97853502402399\t 10.607662635789808\t 3.0379336902721117\t 3.5372099302144755\n",
            "9  \t [-1.89580074  2.13556434]\t 13.635929929310795\t 10.607662635789808\t 2.380907198056037\t 2.857950067729939\n",
            "10 \t [ 0.43946566 -0.61462436]\t 37.37294477274225\t 10.607662635789808\t 3.1154253682209787\t 3.3450334639007773\n",
            "11 \t [-2.20856653 -5.12      ]\t 41.22844533492014\t 10.607662635789808\t 2.958226583007365\t 3.183196108687869\n",
            "12 \t [ 4.97353415 -5.07373191]\t 51.670786281038644\t 10.607662635789808\t 2.8700979038840115\t 2.961256229837233\n",
            "13 \t [2.32451204 1.13703158]\t 24.69193047141195\t 10.607662635789808\t 3.0156165194705884\t 3.1739075801962335\n",
            "14 \t [4.90067862 2.15186755]\t 34.749507654208465\t 10.607662635789808\t 2.9059141346774244\t 3.388092936311575\n",
            "15 \t [ 5.10511726 -2.1557136 ]\t 37.22859755443145\t 10.607662635789808\t 3.042083032154942\t 2.90252381061759\n",
            "16 \t [-0.9015466  5.12     ]\t 31.590594602101937\t 10.607662635789808\t 2.9521818431838183\t 3.1378280174274473\n",
            "17 \t [-1.94687963 -1.7549942 ]\t 17.108445696913464\t 10.607662635789808\t 3.0611144349735326\t 2.8718889817354345\n",
            "18 \t [5.12 5.12]\t 57.849427451571785\t 10.607662635789808\t 2.90468694819989\t 2.827719735868703\n",
            "19 \t [ 0.32867545 -5.06134333]\t 41.20330219944256\t 10.607662635789808\t 2.9934193963833393\t 2.9229896821692125\n",
            "20 \t [ 1.57255502 -2.87355704]\t 32.70234450949316\t 10.607662635789808\t 2.4807130747388433\t 2.477470670227964\n"
          ]
        }
      ],
      "source": [
        "### EXACT STP EI GRADIENTS\n",
        "\n",
        "np.random.seed(run_num_3)\n",
        "surrogate_exact_3 = dtStudentProcess(cov_func, optimize=opt, nu = df)\n",
        "\n",
        "exact_3 = dGPGO(surrogate_exact_3, Acquisition_grad(util), objfunc, param)\n",
        "exact_3.run(init_evals=n_init, max_iter=iters)\n"
      ]
    },
    {
      "cell_type": "code",
      "execution_count": 37,
      "metadata": {
        "id": "PhLBVOIfIvol",
        "colab": {
          "base_uri": "https://localhost:8080/"
        },
        "outputId": "a362b219-8cb7-4817-f6d0-d9aecf0cff89"
      },
      "outputs": [
        {
          "output_type": "stream",
          "name": "stdout",
          "text": [
            "Evaluation \t Proposed point \t  Current eval. \t  Best eval. \t        Exact EI: StdDev. x \t Approx EI: StdDev. x \n",
            "init\t [4.78238555 0.48365823]\t 51.03163809010808\t 14.323038259018315\t    \t    \n",
            "init\t [4.84028785 2.19971578]\t 39.78645699016559\t 14.323038259018315\t    \t    \n",
            "init\t [ 2.02474316 -2.90724357]\t 14.323038259018315\t 14.323038259018315\t    \t    \n",
            "init\t [ 4.87705042 -5.05620219]\t 52.80627247106233\t 14.323038259018315\t    \t    \n",
            "init\t [-2.52946061 -0.66773471]\t 41.61497868486559\t 14.323038259018315\t    \t    \n",
            "1  \t [-5.12 -5.12]\t 57.849427451571785\t 14.323038259018315\t 3.219803694792671\t 3.954977396658721\n",
            "2  \t [-0.9356617   4.54448646]\t 41.945730234899074\t 14.323038259018315\t 2.886174172371101\t 3.5703075466979484\n",
            "3  \t [-1.02597618 -5.12      ]\t 30.11023811573171\t 14.323038259018315\t 2.7752681451438983\t 3.8242606550680165\n",
            "4  \t [0.49976441 1.02192631]\t 21.388835716483523\t 14.323038259018315\t 3.3117074781273574\t 3.456095317513765\n",
            "5  \t [-4.97003202  3.52793521]\t 57.170650859244\t 14.323038259018315\t 2.602139403323963\t 3.552322470210229\n",
            "6  \t [2.77641072 4.97515712]\t 40.930393054542485\t 14.323038259018315\t 3.2346376415583404\t 3.3877484782179246\n",
            "7  \t [-5.12       -1.86452092]\t 35.81064284110403\t 14.323038259018315\t 3.1363231901022153\t 3.4538415670012563\n",
            "8  \t [-0.23560445 -1.67982723]\t 26.24167545234546\t 14.323038259018315\t 2.737971317948923\t 3.063221482864263\n",
            "9  \t [5.12 5.12]\t 57.849427451571785\t 14.323038259018315\t 2.9205138818086627\t 3.3420965541344523\n",
            "10 \t [ 4.38798694 -2.55041342]\t 62.88543818818923\t 14.323038259018315\t 2.7002632015929713\t 3.2621568063410096\n",
            "\u001b[1m\u001b[92m11\u001b[0m\t \u001b[1m\u001b[92m[-2.05664534  1.87265615]\u001b[0m\t \u001b[1m\u001b[92m11.397173771506814\u001b[0m\t \u001b[1m\u001b[92m11.397173771506814\u001b[0m\t \u001b[1m\u001b[92m3.0835064797736966\u001b[0m\t \u001b[1m\u001b[92m3.483746961413465\u001b[0m\n",
            "12 \t [ 1.38821255 -4.9510036 ]\t 44.54276845153296\t 11.397173771506814\t 2.817363362062522\t 3.5527685113101257\n",
            "13 \t [-2.89996798 -3.28702577]\t 33.43083569007133\t 11.397173771506814\t 2.6957072136939257\t 3.2265718015731375\n",
            "\u001b[1m\u001b[92m14\u001b[0m\t \u001b[1m\u001b[92m[ 2.02839695 -0.82209661]\u001b[0m\t \u001b[1m\u001b[92m10.572373054676984\u001b[0m\t \u001b[1m\u001b[92m10.572373054676984\u001b[0m\t \u001b[1m\u001b[92m2.497509051959855\u001b[0m\t \u001b[1m\u001b[92m2.901845505283811\u001b[0m\n",
            "15 \t [1.56785296 2.76597585]\t 38.2115621438112\t 10.572373054676984\t 2.5254916629525472\t 2.6809559706743724\n",
            "16 \t [-4.90522715  0.75878147]\t 35.806707395454076\t 10.572373054676984\t 2.699314090946976\t 2.9933442756083277\n",
            "17 \t [2.98722415 1.69987153]\t 24.94311874350343\t 10.572373054676984\t 2.7398402345789297\t 2.9703074121873834\n",
            "18 \t [-2.90608795  3.68080478]\t 37.8966211471675\t 10.572373054676984\t 3.0035108321031063\t 2.9360158431909675\n",
            "19 \t [0.97629743 5.12      ]\t 29.988562807198427\t 10.572373054676984\t 2.71598096636173\t 3.2010667030804965\n",
            "\u001b[1m\u001b[92m20\u001b[0m\t \u001b[1m\u001b[92m[-1.10317962  0.93482911]\u001b[0m\t \u001b[1m\u001b[92m4.946499263121876\u001b[0m\t \u001b[1m\u001b[92m4.946499263121876\u001b[0m\t \u001b[1m\u001b[92m2.696600633865046\u001b[0m\t \u001b[1m\u001b[92m3.2281469796189506\u001b[0m\n"
          ]
        }
      ],
      "source": [
        "### EXACT STP EI GRADIENTS\n",
        "\n",
        "np.random.seed(run_num_4)\n",
        "surrogate_exact_4 = dtStudentProcess(cov_func, optimize=opt, nu = df)\n",
        "\n",
        "exact_4 = dGPGO(surrogate_exact_4, Acquisition_grad(util), objfunc, param)\n",
        "exact_4.run(init_evals=n_init, max_iter=iters)\n"
      ]
    },
    {
      "cell_type": "code",
      "execution_count": 38,
      "metadata": {
        "id": "arbiPyj2IvsJ",
        "colab": {
          "base_uri": "https://localhost:8080/"
        },
        "outputId": "9a0a63d8-f4b1-4bd4-8da4-315065e731c7"
      },
      "outputs": [
        {
          "output_type": "stream",
          "name": "stdout",
          "text": [
            "Evaluation \t Proposed point \t  Current eval. \t  Best eval. \t        Exact EI: StdDev. x \t Approx EI: StdDev. x \n",
            "init\t [-2.84678993  3.79629882]\t 33.93442008827236\t 7.8108627039749745\t    \t    \n",
            "init\t [-3.00319585  4.2865757 ]\t 39.673876075575784\t 7.8108627039749745\t    \t    \n",
            "init\t [-0.11866943  1.14425716]\t 7.8108627039749745\t 7.8108627039749745\t    \t    \n",
            "init\t [2.72289645 0.1886002 ]\t 25.38160395721669\t 7.8108627039749745\t    \t    \n",
            "init\t [-2.08076286 -3.19773462]\t 22.589982116319675\t 7.8108627039749745\t    \t    \n",
            "1  \t [ 4.32895605 -5.09732646]\t 61.29478907190488\t 7.8108627039749745\t 3.8356743717937167\t 4.556525966014493\n",
            "2  \t [4.02415917 4.76321328]\t 48.16778619122226\t 7.8108627039749745\t 3.8259413912957996\t 4.056521608699057\n",
            "3  \t [-5.12000000e+00 -1.02271084e-03]\t 28.924921230791284\t 7.8108627039749745\t 3.500776259724456\t 3.798601251071965\n",
            "4  \t [-5.12 -5.12]\t 57.849427451571785\t 7.8108627039749745\t 3.39668614466324\t 3.4450260589609067\n",
            "5  \t [ 1.25843274 -3.12193857]\t 24.653983172971397\t 7.8108627039749745\t 2.8277135956453274\t 3.311760616946004\n",
            "6  \t [0.54882338 4.58169417]\t 59.53756860114492\t 7.8108627039749745\t 3.4898475717311794\t 3.560946432504512\n",
            "7  \t [5.11792249 1.66453688]\t 46.70083361455248\t 7.8108627039749745\t 2.663558652974218\t 2.7070979714021344\n",
            "8  \t [ 4.79548348 -1.87946971]\t 36.44316091965574\t 7.8108627039749745\t 3.0180401807263104\t 3.302628185936353\n",
            "9  \t [-2.6145155   0.88236129]\t 27.745017633108034\t 7.8108627039749745\t 3.110118467256941\t 2.8868800429716677\n",
            "10 \t [-0.5248136 -5.12     ]\t 49.07885179452781\t 7.8108627039749745\t 3.0069684053239314\t 3.4892834442872074\n",
            "11 \t [-1.54931607 -0.89830581]\t 24.70394653117274\t 7.8108627039749745\t 2.63629179798487\t 3.1771162562351303\n",
            "12 \t [-5.12        2.62766191]\t 52.781139710873965\t 7.8108627039749745\t 2.8793068819655674\t 3.094860268825825\n",
            "13 \t [-5.12       -2.42712909]\t 53.785667828274924\t 7.8108627039749745\t 2.698648443735863\t 3.0430713552541206\n",
            "14 \t [ 0.40639831 -0.96383011]\t 19.671128297718944\t 7.8108627039749745\t 2.575044319774209\t 2.6574924602117305\n",
            "15 \t [2.38417105 1.92999499]\t 27.827580683738994\t 7.8108627039749745\t 2.6844915709664012\t 2.6397611753276617\n",
            "16 \t [ 2.80104289 -2.4358181 ]\t 39.824467759220525\t 7.8108627039749745\t 2.942034752136272\t 3.160847889176746\n",
            "17 \t [-1.12931371  2.44872939]\t 29.880376140830187\t 7.8108627039749745\t 2.796630642050061\t 3.217887227878133\n",
            "18 \t [0.77725786 0.97149278]\t 10.003611375174192\t 7.8108627039749745\t 2.5978035562976456\t 3.459693198179106\n",
            "19 \t [-3.25470211 -4.22678501]\t 47.30072298560338\t 7.8108627039749745\t 3.409370640170924\t 3.2907096700936105\n",
            "20 \t [ 4.77846698 -0.06306139]\t 31.833372648597376\t 7.8108627039749745\t 2.571992330893567\t 2.867295224546934\n"
          ]
        }
      ],
      "source": [
        "### EXACT STP EI GRADIENTS\n",
        "\n",
        "np.random.seed(run_num_5)\n",
        "surrogate_exact_5 = dtStudentProcess(cov_func, optimize=opt, nu = df)\n",
        "\n",
        "exact_5 = dGPGO(surrogate_exact_5, Acquisition_grad(util), objfunc, param)\n",
        "exact_5.run(init_evals=n_init, max_iter=iters)\n"
      ]
    },
    {
      "cell_type": "code",
      "execution_count": 39,
      "metadata": {
        "id": "04KJCEm_Ivvf",
        "colab": {
          "base_uri": "https://localhost:8080/"
        },
        "outputId": "42fae8a3-7d5f-49fe-ffa9-859050c5f9d1"
      },
      "outputs": [
        {
          "output_type": "stream",
          "name": "stdout",
          "text": [
            "Evaluation \t Proposed point \t  Current eval. \t  Best eval. \t        Exact EI: StdDev. x \t Approx EI: StdDev. x \n",
            "init\t [ 4.02288795 -1.72052679]\t 31.08835710146886\t 17.28954482757088\t    \t    \n",
            "init\t [ 3.28938622 -4.69302655]\t 58.797867722203385\t 17.28954482757088\t    \t    \n",
            "init\t [-4.0175956   0.97333314]\t 17.28954482757088\t 17.28954482757088\t    \t    \n",
            "init\t [ 0.30532979 -0.83141193]\t 19.296253155889353\t 17.28954482757088\t    \t    \n",
            "init\t [-1.68542362  1.25459899]\t 28.650630936276173\t 17.28954482757088\t    \t    \n",
            "1  \t [-5.12 -5.12]\t 57.849427451571785\t 17.28954482757088\t 3.9687594544846467\t 4.3130258752081785\n",
            "2  \t [4.48914029 2.92869999]\t 49.6932034994741\t 17.28954482757088\t 3.1361933159126294\t 4.088497974487699\n",
            "3  \t [-1.20203668 -5.06547439]\t 34.970040481603995\t 17.28954482757088\t 3.3418600590876055\t 3.9873499916074895\n",
            "4  \t [-2.91508567  4.40569092]\t 47.5928067251325\t 17.28954482757088\t 2.968726725451691\t 4.3210253195160195\n",
            "5  \t [0.91848973 5.08934792]\t 29.562965758813867\t 17.28954482757088\t 2.48702805530439\t 3.4449581873416144\n",
            "6  \t [-3.34061284 -2.06711994]\t 31.699584809772645\t 17.28954482757088\t 3.0616342841658195\t 3.3247993907620974\n",
            "7  \t [-5.04027417  2.87502226]\t 36.9165267636593\t 17.28954482757088\t 3.011656323167197\t 3.62904309840626\n",
            "\u001b[1m\u001b[92m8\u001b[0m\t \u001b[1m\u001b[92m[1.21040886 1.96282553]\u001b[0m\t \u001b[1m\u001b[92m13.127311609106892\u001b[0m\t \u001b[1m\u001b[92m13.127311609106892\u001b[0m\t \u001b[1m\u001b[92m2.8429108325806927\u001b[0m\t \u001b[1m\u001b[92m3.3826848517909873\u001b[0m\n",
            "\u001b[1m\u001b[92m9\u001b[0m\t \u001b[1m\u001b[92m[ 0.13586797 -2.99188025]\u001b[0m\t \u001b[1m\u001b[92m12.410706472124364\u001b[0m\t \u001b[1m\u001b[92m12.410706472124364\u001b[0m\t \u001b[1m\u001b[92m2.4855966825696507\u001b[0m\t \u001b[1m\u001b[92m2.839628406841335\u001b[0m\n",
            "10 \t [5.12 5.12]\t 57.849427451571785\t 12.410706472124364\t 3.2821335582129025\t 3.5626260166143253\n",
            "11 \t [5.12       0.38349679]\t 46.51009990166669\t 12.410706472124364\t 3.086540359059308\t 3.558523520035908\n",
            "12 \t [-5.12       -1.12167046]\t 32.965421011741334\t 12.410706472124364\t 2.832432400485735\t 3.16338002446678\n",
            "13 \t [-0.14757787  3.37547746]\t 32.507587193400674\t 12.410706472124364\t 2.692765644402421\t 2.630629958617252\n",
            "14 \t [2.26869679 0.09652198]\t 18.111677989697142\t 12.410706472124364\t 2.6341066662426305\t 2.9959934987583847\n",
            "15 \t [ 1.85372688 -2.55782234]\t 33.26035211990014\t 12.410706472124364\t 3.031634660200622\t 3.1501543258481766\n",
            "\u001b[1m\u001b[92m16\u001b[0m\t \u001b[1m\u001b[92m[-1.87070483 -1.04592887]\u001b[0m\t \u001b[1m\u001b[92m8.129326517761266\u001b[0m\t \u001b[1m\u001b[92m8.129326517761266\u001b[0m\t \u001b[1m\u001b[92m3.1284295690543558\u001b[0m\t \u001b[1m\u001b[92m3.3951970561718134\u001b[0m\n",
            "17 \t [ 0.88979975 -5.06431018]\t 29.54720165925279\t 8.129326517761266\t 3.324290513521575\t 4.029265278170737\n",
            "18 \t [2.78701257 5.11819713]\t 44.29195742275401\t 8.129326517761266\t 2.7184469923422263\t 3.055325288453699\n",
            "19 \t [-1.6405972  -3.04040542]\t 28.60144173467918\t 8.129326517761266\t 3.1107350392154336\t 3.7031778599197263\n",
            "20 \t [-3.15450784 -5.12      ]\t 43.229250771559634\t 8.129326517761266\t 2.8257090862612877\t 3.5199830888097114\n"
          ]
        }
      ],
      "source": [
        "### EXACT STP EI GRADIENTS\n",
        "\n",
        "np.random.seed(run_num_6)\n",
        "surrogate_exact_6 = dtStudentProcess(cov_func, optimize=opt, nu = df)\n",
        "\n",
        "exact_6 = dGPGO(surrogate_exact_6, Acquisition_grad(util), objfunc, param)\n",
        "exact_6.run(init_evals=n_init, max_iter=iters)\n"
      ]
    },
    {
      "cell_type": "code",
      "execution_count": 40,
      "metadata": {
        "id": "tAOkme3CIvyO",
        "colab": {
          "base_uri": "https://localhost:8080/"
        },
        "outputId": "f3546d4a-61cc-480a-9795-87a0522bfe85"
      },
      "outputs": [
        {
          "output_type": "stream",
          "name": "stdout",
          "text": [
            "Evaluation \t Proposed point \t  Current eval. \t  Best eval. \t        Exact EI: StdDev. x \t Approx EI: StdDev. x \n",
            "init\t [-4.33860312  2.86636843]\t 45.646133072936244\t 22.52235437888213\t    \t    \n",
            "init\t [-0.63068947  2.28828342]\t 34.83012662845338\t 22.52235437888213\t    \t    \n",
            "init\t [4.8946126  0.39419771]\t 44.09657005662876\t 22.52235437888213\t    \t    \n",
            "init\t [ 0.01147355 -4.38219639]\t 36.613209822404315\t 22.52235437888213\t    \t    \n",
            "init\t [-2.37118484e+00 -1.20319155e-03]\t 22.52235437888213\t 22.52235437888213\t    \t    \n",
            "1  \t [-5.12 -5.12]\t 57.849427451571785\t 22.52235437888213\t 3.005590137810142\t 4.008296444071431\n",
            "2  \t [3.36336072 4.52412691]\t 68.20074440954015\t 22.52235437888213\t 3.0713892808770202\t 4.0099538803586485\n",
            "3  \t [ 3.81570236 -4.87523301]\t 47.234127813742255\t 22.52235437888213\t 3.2730748689604425\t 3.7286815609309363\n",
            "4  \t [-4.02558214 -1.33646422]\t 33.289738493146906\t 22.52235437888213\t 3.0285619241944337\t 3.046307140328312\n",
            "\u001b[1m\u001b[92m5\u001b[0m\t \u001b[1m\u001b[92m[ 1.13453878 -0.82926653]\u001b[0m\t \u001b[1m\u001b[92m10.562931859398235\u001b[0m\t \u001b[1m\u001b[92m10.562931859398235\u001b[0m\t \u001b[1m\u001b[92m2.90717441957879\u001b[0m\t \u001b[1m\u001b[92m3.2664450009859536\u001b[0m\n",
            "6  \t [-1.63107002  5.12      ]\t 48.38141038256166\t 10.562931859398235\t 3.1436702610394365\t 3.790941029351226\n",
            "7  \t [-2.41390012 -5.12      ]\t 53.3236640693585\t 10.562931859398235\t 2.8842321938999156\t 3.1705794900998967\n",
            "8  \t [ 3.27659357 -2.34632917]\t 43.594194264577986\t 10.562931859398235\t 3.234058079605476\t 3.606988720066367\n",
            "9  \t [1.8422583  1.96850892]\t 11.986527512078299\t 10.562931859398235\t 2.79000389883985\t 3.507012072216146\n",
            "10 \t [-5.02023677  4.92727657]\t 50.58746939743787\t 10.562931859398235\t 3.085607904362185\t 3.3799994765595374\n",
            "11 \t [-0.67477788 -2.22520722]\t 28.407724568501663\t 10.562931859398235\t 2.6364470419663157\t 3.202763369974413\n",
            "12 \t [0.57512487 5.12      ]\t 48.161983010673865\t 10.562931859398235\t 3.0845542793271967\t 3.31861368102574\n",
            "13 \t [5.10542567 2.85896485]\t 40.02993115878448\t 10.562931859398235\t 3.1778956714940865\t 3.4949491783332483\n",
            "14 \t [-4.48653069  0.56477601]\t 59.59526620629686\t 10.562931859398235\t 2.734821472938427\t 2.8613044753352748\n",
            "15 \t [2.09400292 0.41206011]\t 24.76071262094809\t 10.562931859398235\t 2.8634843590008656\t 3.3029601492184812\n",
            "16 \t [-0.47679804 -0.10116995]\t 22.08475403275199\t 10.562931859398235\t 2.91056725349076\t 2.8360745862666135\n",
            "17 \t [-2.86459314 -3.09345237]\t 22.856348913711514\t 10.562931859398235\t 2.4522790808870423\t 3.2781281166638196\n",
            "18 \t [ 1.67172856 -4.99798643]\t 42.497425196046436\t 10.562931859398235\t 3.5413465713222045\t 3.8001372008065872\n",
            "19 \t [ 5.0495107  -1.82606093]\t 34.71283776821101\t 10.562931859398235\t 2.9911067345579183\t 3.341458693871196\n",
            "20 \t [5.12 5.12]\t 57.849427451571785\t 10.562931859398235\t 3.074586582680552\t 3.354769166118398\n"
          ]
        }
      ],
      "source": [
        "### EXACT STP EI GRADIENTS\n",
        "\n",
        "np.random.seed(run_num_7)\n",
        "surrogate_exact_7 = dtStudentProcess(cov_func, optimize=opt, nu = df)\n",
        "\n",
        "exact_7 = dGPGO(surrogate_exact_7, Acquisition_grad(util), objfunc, param)\n",
        "exact_7.run(init_evals=n_init, max_iter=iters)\n"
      ]
    },
    {
      "cell_type": "code",
      "execution_count": 41,
      "metadata": {
        "id": "69-J3EF4Iv1S",
        "colab": {
          "base_uri": "https://localhost:8080/"
        },
        "outputId": "1f334c34-78f9-4c31-953e-8f059cb4264b"
      },
      "outputs": [
        {
          "output_type": "stream",
          "name": "stdout",
          "text": [
            "Evaluation \t Proposed point \t  Current eval. \t  Best eval. \t        Exact EI: StdDev. x \t Approx EI: StdDev. x \n",
            "init\t [3.82391708 4.79785639]\t 50.20079446939181\t 13.871821018360485\t    \t    \n",
            "init\t [3.78055209 0.31596228]\t 36.5114251593508\t 13.871821018360485\t    \t    \n",
            "init\t [-2.73686192 -5.00327624]\t 43.34985765011677\t 13.871821018360485\t    \t    \n",
            "init\t [-0.7119993  -0.99992207]\t 13.871821018360485\t 13.871821018360485\t    \t    \n",
            "init\t [ 0.23218863 -0.22126801]\t 17.190590355445654\t 13.871821018360485\t    \t    \n",
            "1  \t [ 4.96383424 -4.82578382]\t 53.60118142988121\t 13.871821018360485\t 3.148890656041407\t 4.085878709003431\n",
            "2  \t [-5.03492225  2.95509263]\t 34.71822332027364\t 13.871821018360485\t 3.31768325059745\t 3.78754875821598\n",
            "3  \t [-5.12       -2.11136579]\t 35.73243029163747\t 13.871821018360485\t 2.9917237096486002\t 3.672794705419105\n",
            "4  \t [ 1.09080552 -4.27732061]\t 32.77746248841899\t 13.871821018360485\t 3.274569647842853\t 3.6307088465578627\n",
            "5  \t [-0.5310758   2.96460578]\t 29.127176814398545\t 13.871821018360485\t 3.221203265742618\t 3.561981054265427\n",
            "6  \t [-3.18494573  0.04667013]\t 16.598317243738887\t 13.871821018360485\t 3.3734552186269324\t 3.191032579584974\n",
            "7  \t [ 4.70774945 -1.99403417]\t 38.769711098757355\t 13.871821018360485\t 3.1715071266682857\t 3.376214641282023\n",
            "8  \t [-2.45943691  4.75108617]\t 58.23037663207794\t 13.871821018360485\t 3.2871026082562667\t 3.48731393900776\n",
            "9  \t [1.98657289 2.18009008]\t 14.482159840694306\t 13.871821018360485\t 3.196189666871632\t 3.3681415253129616\n",
            "10 \t [-5.12 -5.12]\t 57.849427451571785\t 13.871821018360485\t 3.163865040723057\t 3.0661286142558133\n",
            "11 \t [0.89132744 5.094115  ]\t 30.68451059013703\t 13.871821018360485\t 2.9383544776017003\t 3.1640802992946284\n",
            "12 \t [5.12       2.08115552]\t 34.52806273830491\t 13.871821018360485\t 2.5982212247369407\t 2.9541150351631176\n",
            "\u001b[1m\u001b[92m13\u001b[0m\t \u001b[1m\u001b[92m[ 1.89717297 -1.87860421]\u001b[0m\t \u001b[1m\u001b[92m11.914555010483227\u001b[0m\t \u001b[1m\u001b[92m11.914555010483227\u001b[0m\t \u001b[1m\u001b[92m2.6374941584356826\u001b[0m\t \u001b[1m\u001b[92m2.836500504970798\u001b[0m\n",
            "14 \t [-2.16357335 -2.45671582]\t 35.18159328977633\t 11.914555010483227\t 3.2229754065879317\t 3.0885909257782345\n",
            "15 \t [-4.79800754  0.489075  ]\t 50.26565187896787\t 11.914555010483227\t 2.5212385946079547\t 2.5412077135223248\n",
            "16 \t [-1.84996335  0.82241022]\t 13.82840840766906\t 11.914555010483227\t 3.1353937690469404\t 2.97198568337035\n",
            "17 \t [-0.61372976 -5.12      ]\t 46.85502930114288\t 11.914555010483227\t 2.8504854835976987\t 3.1524242580664947\n",
            "18 \t [1.60478777 0.32352793]\t 35.04703048983199\t 11.914555010483227\t 2.6498633066011474\t 2.4987563283190792\n",
            "19 \t [ 2.83927454 -3.49864625]\t 44.98191770772386\t 11.914555010483227\t 3.0053980975432237\t 3.414467715679692\n",
            "20 \t [-2.7841885   2.13941823]\t 23.79480948743509\t 11.914555010483227\t 2.8992360840075704\t 3.1144506548328126\n"
          ]
        }
      ],
      "source": [
        "### EXACT STP EI GRADIENTS\n",
        "\n",
        "np.random.seed(run_num_8)\n",
        "surrogate_exact_8 = dtStudentProcess(cov_func, optimize=opt, nu = df)\n",
        "\n",
        "exact_8 = dGPGO(surrogate_exact_8, Acquisition_grad(util), objfunc, param)\n",
        "exact_8.run(init_evals=n_init, max_iter=iters)\n"
      ]
    },
    {
      "cell_type": "code",
      "execution_count": 42,
      "metadata": {
        "id": "vonm9jyuIv4t",
        "colab": {
          "base_uri": "https://localhost:8080/"
        },
        "outputId": "46f12817-c4a1-418d-ed50-a34ec1947188"
      },
      "outputs": [
        {
          "output_type": "stream",
          "name": "stdout",
          "text": [
            "Evaluation \t Proposed point \t  Current eval. \t  Best eval. \t        Exact EI: StdDev. x \t Approx EI: StdDev. x \n",
            "init\t [-5.01376866  0.01919582]\t 25.248289026162446\t 24.454800313488693\t    \t    \n",
            "init\t [-0.04328148 -3.74958562]\t 24.454800313488693\t 24.454800313488693\t    \t    \n",
            "init\t [-3.66478248 -2.88195916]\t 39.46509426509438\t 24.454800313488693\t    \t    \n",
            "init\t [-0.83447623 -2.57944404]\t 31.06766397812992\t 24.454800313488693\t    \t    \n",
            "init\t [-4.25922917 -1.58209393]\t 49.922543556206975\t 24.454800313488693\t    \t    \n",
            "1  \t [3.69491889 4.82146316]\t 55.95031066333101\t 24.454800313488693\t 3.0952156607508585\t 3.204358037906524\n",
            "2  \t [-2.02106223  4.82097351]\t 33.10085788033846\t 24.454800313488693\t 3.189439483804398\t 4.05195947884252\n",
            "\u001b[1m\u001b[92m3\u001b[0m\t \u001b[1m\u001b[92m[1.9771472  0.74713585]\u001b[0m\t \u001b[1m\u001b[92m14.750184067763719\u001b[0m\t \u001b[1m\u001b[92m14.750184067763719\u001b[0m\t \u001b[1m\u001b[92m2.635064735105204\u001b[0m\t \u001b[1m\u001b[92m3.5029034060809856\u001b[0m\n",
            "4  \t [ 4.43889093 -3.24498238]\t 59.19033586136056\t 14.750184067763719\t 2.7005694103729647\t 3.6471688610695323\n",
            "5  \t [5.026706   1.32904654]\t 41.93954304108088\t 14.750184067763719\t 3.241051513572885\t 3.529519898749064\n",
            "6  \t [-1.76544689  1.22780431]\t 22.26519233069766\t 14.750184067763719\t 2.8516283612852638\t 3.027635524894027\n",
            "7  \t [-5.12 -5.12]\t 57.849427451571785\t 14.750184067763719\t 2.9054798177300234\t 3.3552718200920686\n",
            "8  \t [-3.80785396  2.57397898]\t 46.50858220673396\t 14.750184067763719\t 2.569678896456374\t 3.4574257894056766\n",
            "9  \t [0.64260293 3.239168  ]\t 36.47245630425739\t 14.750184067763719\t 3.2895917789053604\t 3.132526903557989\n",
            "10 \t [-2.22537273 -5.12      ]\t 42.33578806919259\t 14.750184067763719\t 2.8702648345555537\t 2.7314904357823657\n",
            "\u001b[1m\u001b[92m11\u001b[0m\t \u001b[1m\u001b[92m[ 2.08800547 -2.0561394 ]\u001b[0m\t \u001b[1m\u001b[92m10.69339530259324\u001b[0m\t \u001b[1m\u001b[92m10.69339530259324\u001b[0m\t \u001b[1m\u001b[92m2.794346572103696\u001b[0m\t \u001b[1m\u001b[92m3.520701757644789\u001b[0m\n",
            "\u001b[1m\u001b[92m12\u001b[0m\t \u001b[1m\u001b[92m[-0.09086723 -0.12308064]\u001b[0m\t \u001b[1m\u001b[92m4.453621875540017\u001b[0m\t \u001b[1m\u001b[92m4.453621875540017\u001b[0m\t \u001b[1m\u001b[92m2.317840081530406\u001b[0m\t \u001b[1m\u001b[92m3.0502354006720216\u001b[0m\n",
            "13 \t [ 4.5809354  -0.85844998]\t 44.15760913618685\t 4.453621875540017\t 2.4708810765228413\t 2.6655691161121116\n",
            "14 \t [ 1.66669744 -4.06661023]\t 35.17662811735522\t 4.453621875540017\t 2.403130854854643\t 3.254975419257018\n",
            "15 \t [1.00603967 5.12      ]\t 29.94402906660092\t 4.453621875540017\t 2.7140889548313507\t 2.8915315661439136\n",
            "16 \t [2.89678718 2.4354303 ]\t 35.541071886850965\t 4.453621875540017\t 2.749320116970464\t 3.400848255137264\n",
            "17 \t [-4.04030506  4.65816277]\t 53.796873406445705\t 4.453621875540017\t 2.5992766964509557\t 2.8850094526992773\n",
            "18 \t [ 0.84125354 -0.69839944]\t 18.956523260390416\t 4.453621875540017\t 2.9719516571286047\t 3.0440111358735042\n",
            "19 \t [-2.72767718  0.02894093]\t 19.00392642441669\t 4.453621875540017\t 2.884549016057949\t 2.6908123215245796\n",
            "20 \t [5.12       3.47315513]\t 60.84560717744943\t 4.453621875540017\t 3.118920202859873\t 3.375447255600259\n"
          ]
        }
      ],
      "source": [
        "### EXACT STP EI GRADIENTS\n",
        "\n",
        "np.random.seed(run_num_9)\n",
        "surrogate_exact_9 = dtStudentProcess(cov_func, optimize=opt, nu = df)\n",
        "\n",
        "exact_9 = dGPGO(surrogate_exact_9, Acquisition_grad(util), objfunc, param)\n",
        "exact_9.run(init_evals=n_init, max_iter=iters)\n"
      ]
    },
    {
      "cell_type": "code",
      "execution_count": 43,
      "metadata": {
        "id": "6amuYlUdIv7r",
        "colab": {
          "base_uri": "https://localhost:8080/"
        },
        "outputId": "f638aa4e-80cf-4733-c632-5994a146edc1"
      },
      "outputs": [
        {
          "output_type": "stream",
          "name": "stdout",
          "text": [
            "Evaluation \t Proposed point \t  Current eval. \t  Best eval. \t        Exact EI: StdDev. x \t Approx EI: StdDev. x \n",
            "init\t [ 2.77832339 -4.90750004]\t 41.674330194390116\t 13.839458310244165\t    \t    \n",
            "init\t [1.36855793 2.54775176]\t 44.69639719065837\t 13.839458310244165\t    \t    \n",
            "init\t [-0.01528819 -2.81808235]\t 13.839458310244165\t 13.839458310244165\t    \t    \n",
            "init\t [-3.09183626  2.66783449]\t 33.23221510904937\t 13.839458310244165\t    \t    \n",
            "init\t [-3.38830503 -4.2154003 ]\t 54.73014366983691\t 13.839458310244165\t    \t    \n",
            "1  \t [5.12       0.59896323]\t 47.41175831671596\t 13.839458310244165\t 3.155573723257731\t 3.704609157759507\n",
            "2  \t [-4.53780345 -0.81355647]\t 47.08468825435077\t 13.839458310244165\t 2.535097950853813\t 3.3620442033782942\n",
            "3  \t [5.12 5.12]\t 57.849427451571785\t 13.839458310244165\t 3.433227726772619\t 3.7260587528014177\n",
            "\u001b[1m\u001b[92m4\u001b[0m\t \u001b[1m\u001b[92m[-1.12192523  0.07570431]\u001b[0m\t \u001b[1m\u001b[92m5.168211542144556\u001b[0m\t \u001b[1m\u001b[92m5.168211542144556\u001b[0m\t \u001b[1m\u001b[92m3.451563341317921\u001b[0m\t \u001b[1m\u001b[92m3.634525001889794\u001b[0m\n",
            "5  \t [-0.34271121  5.12      ]\t 44.54347993900822\t 5.168211542144556\t 2.70164146194111\t 3.7392510997129085\n",
            "6  \t [ 2.07781024 -0.87380614]\t 9.234486553130314\t 5.168211542144556\t 3.3698463786039095\t 3.428364810011338\n",
            "7  \t [-0.56027461 -5.12      ]\t 48.53002061385467\t 5.168211542144556\t 2.775174083143087\t 3.3430820678355344\n",
            "8  \t [ 3.78220865 -2.18939371]\t 33.37196474556921\t 5.168211542144556\t 3.1441514098134267\t 3.34863633180067\n",
            "9  \t [2.29033513 5.12      ]\t 46.67763712864145\t 5.168211542144556\t 2.7972247862529414\t 3.568193625371162\n",
            "10 \t [-4.97977688  1.50560892]\t 47.13944646831244\t 5.168211542144556\t 2.946421798439869\t 3.3169679528816753\n",
            "11 \t [-3.00829283  4.82181437]\t 37.95262682601814\t 5.168211542144556\t 2.7600838914007584\t 3.1001673900916162\n",
            "12 \t [-1.68746236 -1.8682132 ]\t 23.403567418521284\t 5.168211542144556\t 3.4308889795551414\t 3.0985899846822735\n",
            "13 \t [0.25923173 0.00262831]\t 10.648293260988535\t 5.168211542144556\t 3.1162633492414344\t 3.9859721963112413\n",
            "14 \t [4.30532344 2.58104095]\t 57.33544596712113\t 5.168211542144556\t 2.827760118306514\t 3.75687312729025\n",
            "15 \t [-1.73086187  1.06240069]\t 16.082984679974235\t 5.168211542144556\t 2.5228218666070688\t 2.8366812583029235\n",
            "16 \t [-5.12 -5.12]\t 57.849427451571785\t 5.168211542144556\t 2.7492053880676726\t 3.779451327532203\n",
            "17 \t [2.15376846 0.63736284]\t 25.861316436838408\t 5.168211542144556\t 2.494407518743885\t 3.839632410712727\n",
            "18 \t [-0.88780717  2.52210762]\t 29.436328849612437\t 5.168211542144556\t 2.860347079597285\t 3.371858252769945\n",
            "19 \t [ 4.46446897 -3.80908622]\t 60.564653459335645\t 5.168211542144556\t 2.726374147421705\t 3.0556681588504055\n",
            "20 \t [ 1.84528171 -3.12450997]\t 20.439357029989644\t 5.168211542144556\t 3.194747284407928\t 3.5818423339022623\n"
          ]
        }
      ],
      "source": [
        "### EXACT STP EI GRADIENTS\n",
        "\n",
        "np.random.seed(run_num_10)\n",
        "surrogate_exact_10 = dtStudentProcess(cov_func, optimize=opt, nu = df)\n",
        "\n",
        "exact_10 = dGPGO(surrogate_exact_10, Acquisition_grad(util), objfunc, param)\n",
        "exact_10.run(init_evals=n_init, max_iter=iters)\n"
      ]
    },
    {
      "cell_type": "code",
      "execution_count": 44,
      "metadata": {
        "id": "VwbLIP9cIv-F",
        "colab": {
          "base_uri": "https://localhost:8080/"
        },
        "outputId": "ed68e1a7-c172-400e-d13b-75d723619030"
      },
      "outputs": [
        {
          "output_type": "stream",
          "name": "stdout",
          "text": [
            "Evaluation \t Proposed point \t  Current eval. \t  Best eval. \t        Exact EI: StdDev. x \t Approx EI: StdDev. x \n",
            "init\t [-3.27403839 -4.92057353]\t 47.655641290890955\t 10.679755252484755\t    \t    \n",
            "init\t [-0.37664229  2.30332343]\t 35.87889240695259\t 10.679755252484755\t    \t    \n",
            "init\t [-0.81711509 -0.14922651]\t 10.679755252484755\t 10.679755252484755\t    \t    \n",
            "init\t [-4.98912446 -0.12931474]\t 28.05462905574235\t 10.679755252484755\t    \t    \n",
            "init\t [4.52410012 3.59214172]\t 71.62694632141611\t 10.679755252484755\t    \t    \n",
            "1  \t [ 3.03550212 -4.46785095]\t 49.22040431745476\t 10.679755252484755\t 2.910252259613797\t 4.082909601971785\n",
            "2  \t [ 2.45710354 -0.83288647]\t 31.394363858898753\t 10.679755252484755\t 2.7000861899111115\t 3.7589702904242683\n",
            "3  \t [-3.67755831  2.64141021]\t 51.20330278744583\t 10.679755252484755\t 3.491717773908175\t 4.255756939073135\n",
            "4  \t [-0.23509426 -3.34993652]\t 36.216782218317746\t 10.679755252484755\t 2.9538034784930898\t 3.28841980523627\n",
            "5  \t [0.09790516 5.12      ]\t 30.767466461970812\t 10.679755252484755\t 2.9697041996032207\t 3.399881155442509\n",
            "6  \t [-5.12       -2.82081579]\t 42.57759946332242\t 10.679755252484755\t 3.2862931168654175\t 3.276690756473005\n",
            "7  \t [5.11378968 0.2537673 ]\t 38.90074334426983\t 10.679755252484755\t 3.121939677126646\t 3.674478446799122\n",
            "8  \t [-2.92066062  4.82024636]\t 38.7102519820431\t 10.679755252484755\t 3.1498093461644405\t 3.3466313131411156\n",
            "9  \t [ 4.74535658 -2.87498438]\t 44.00528353311431\t 10.679755252484755\t 3.2221934715619613\t 3.5320710350215276\n",
            "10 \t [2.40315601 1.61480884]\t 44.09694304549092\t 10.679755252484755\t 2.875907283365429\t 3.147524962342493\n",
            "11 \t [2.39607509 5.12      ]\t 52.60866072173681\t 10.679755252484755\t 3.60350425488509\t 3.442626532644962\n",
            "12 \t [-2.75927351 -1.15139157]\t 22.550058383796962\t 10.679755252484755\t 3.0064001123779454\t 2.949499432395594\n",
            "13 \t [ 0.5665416  -1.42284084]\t 40.33175037930006\t 10.679755252484755\t 3.191331903394745\t 3.3711783573201877\n",
            "14 \t [-0.31313372 -5.12      ]\t 42.88635718146028\t 10.679755252484755\t 2.905751458636143\t 3.266330854877687\n",
            "15 \t [-5.12 -5.12]\t 57.849427451571785\t 10.679755252484755\t 3.15208007054624\t 3.319470838153152\n",
            "16 \t [-2.59600463  0.70182181]\t 38.44805961418306\t 10.679755252484755\t 2.840992847838703\t 3.461289376095528\n",
            "17 \t [-2.81179387 -2.74080836]\t 32.20961556848713\t 10.679755252484755\t 2.8074292324955876\t 3.4366278769623\n",
            "18 \t [-4.81662509  3.9550111 ]\t 45.17387884149595\t 10.679755252484755\t 3.1181230243089613\t 3.214885239274531\n",
            "19 \t [0.65704629 0.45957194]\t 35.83605638626926\t 10.679755252484755\t 2.618365186704263\t 3.2380336017420848\n",
            "20 \t [-1.46685933  3.40876589]\t 51.95682383303369\t 10.679755252484755\t 2.794879250724121\t 3.73894654971174\n"
          ]
        }
      ],
      "source": [
        "### EXACT STP EI GRADIENTS\n",
        "\n",
        "np.random.seed(run_num_11)\n",
        "surrogate_exact_11 = dtStudentProcess(cov_func, optimize=opt, nu = df)\n",
        "\n",
        "exact_11 = dGPGO(surrogate_exact_11, Acquisition_grad(util), objfunc, param)\n",
        "exact_11.run(init_evals=n_init, max_iter=iters)\n"
      ]
    },
    {
      "cell_type": "code",
      "execution_count": 45,
      "metadata": {
        "id": "MlUNFjc-JTBY",
        "colab": {
          "base_uri": "https://localhost:8080/"
        },
        "outputId": "50fead6b-d1eb-48d5-9293-041b6eac0b2a"
      },
      "outputs": [
        {
          "output_type": "stream",
          "name": "stdout",
          "text": [
            "Evaluation \t Proposed point \t  Current eval. \t  Best eval. \t        Exact EI: StdDev. x \t Approx EI: StdDev. x \n",
            "init\t [-3.54137249  2.45810889]\t 57.903242869085595\t 40.51116653209555\t    \t    \n",
            "init\t [-2.42365424  0.34549139]\t 40.51116653209555\t 40.51116653209555\t    \t    \n",
            "init\t [-4.97075238  4.28796936]\t 55.62655915398208\t 40.51116653209555\t    \t    \n",
            "init\t [ 4.10332011 -4.77776458]\t 49.962803461970296\t 40.51116653209555\t    \t    \n",
            "init\t [ 4.6791612  -3.71497655]\t 62.183891474990624\t 40.51116653209555\t    \t    \n",
            "1  \t [5.12 5.12]\t 57.849427451571785\t 40.51116653209555\t 3.6776527396425984\t 3.9651578763895956\n",
            "2  \t [-5.12 -5.12]\t 57.849427451571785\t 40.51116653209555\t 2.69025923362768\t 3.4817542887366764\n",
            "3  \t [-0.46166813 -5.12      ]\t 48.84921587525349\t 40.51116653209555\t 2.7337294807061703\t 3.002947780957033\n",
            "\u001b[1m\u001b[92m4\u001b[0m\t \u001b[1m\u001b[92m[2.52357387 1.19386188]\u001b[0m\t \u001b[1m\u001b[92m34.229660778936314\u001b[0m\t \u001b[1m\u001b[92m34.229660778936314\u001b[0m\t \u001b[1m\u001b[92m2.571002774949662\u001b[0m\t \u001b[1m\u001b[92m2.5130742411137335\u001b[0m\n",
            "5  \t [-5.12       -1.54249457]\t 50.94966746568011\t 34.229660778936314\t 2.1523275472771455\t 2.888767160563847\n",
            "6  \t [-0.22318783  3.36511433]\t 36.31561184832432\t 34.229660778936314\t 2.503657664864326\t 3.233171210075511\n",
            "\u001b[1m\u001b[92m7\u001b[0m\t \u001b[1m\u001b[92m[ 0.60966929 -1.78376899]\u001b[0m\t \u001b[1m\u001b[92m29.166005356731166\u001b[0m\t \u001b[1m\u001b[92m29.166005356731166\u001b[0m\t \u001b[1m\u001b[92m2.8703874877813136\u001b[0m\t \u001b[1m\u001b[92m3.192919741657986\u001b[0m\n",
            "8  \t [ 4.81638731 -0.90941609]\t 31.549735008232688\t 29.166005356731166\t 3.1299891047857673\t 3.62428505251682\n",
            "9  \t [2.10096968 5.12      ]\t 35.28457904424667\t 29.166005356731166\t 3.031834055712002\t 2.917756024663025\n",
            "10 \t [-2.9609511  -2.37576102]\t 31.815749949379466\t 29.166005356731166\t 3.03963215392109\t 3.276497348097659\n",
            "11 \t [-2.11862023  4.85495045]\t 34.58372782047691\t 29.166005356731166\t 2.517681688078594\t 3.366886548267477\n",
            "12 \t [4.94971258 1.76007929]\t 37.45968771556657\t 29.166005356731166\t 2.5414155146653554\t 3.1664919498433433\n",
            "\u001b[1m\u001b[92m13\u001b[0m\t \u001b[1m\u001b[92m[0.37699508 0.23911828]\u001b[0m\t \u001b[1m\u001b[92m26.675265692020194\u001b[0m\t \u001b[1m\u001b[92m26.675265692020194\u001b[0m\t \u001b[1m\u001b[92m2.4543981910873143\u001b[0m\t \u001b[1m\u001b[92m2.9498955380571914\u001b[0m\n",
            "14 \t [ 1.57980437 -4.01601466]\t 37.443719596714494\t 26.675265692020194\t 2.769832821674533\t 3.187363660894777\n",
            "15 \t [-2.73713603 -5.12      ]\t 47.224014922589426\t 26.675265692020194\t 2.8579668361338064\t 3.321560468824916\n",
            "\u001b[1m\u001b[92m16\u001b[0m\t \u001b[1m\u001b[92m[ 2.72833492 -1.9830091 ]\u001b[0m\t \u001b[1m\u001b[92m22.79012481576161\u001b[0m\t \u001b[1m\u001b[92m22.79012481576161\u001b[0m\t \u001b[1m\u001b[92m2.870944779924804\u001b[0m\t \u001b[1m\u001b[92m2.9606771965261394\u001b[0m\n",
            "17 \t [-5.12        0.84377493]\t 34.07966495939519\t 22.79012481576161\t 2.4314952907070233\t 3.021355507052341\n",
            "\u001b[1m\u001b[92m18\u001b[0m\t \u001b[1m\u001b[92m[-1.22243864 -2.05478682]\u001b[0m\t \u001b[1m\u001b[92m14.580079842131532\u001b[0m\t \u001b[1m\u001b[92m14.580079842131532\u001b[0m\t \u001b[1m\u001b[92m3.075954928242219\u001b[0m\t \u001b[1m\u001b[92m2.927417331576016\u001b[0m\n",
            "19 \t [3.6466004  3.08492127]\t 40.25380345758824\t 14.580079842131532\t 2.7737001764055766\t 2.9173597235395965\n",
            "20 \t [0.34014873 5.11183154]\t 43.98140890276376\t 14.580079842131532\t 2.640945494933677\t 2.515675689442481\n"
          ]
        }
      ],
      "source": [
        "### EXACT STP EI GRADIENTS\n",
        "\n",
        "np.random.seed(run_num_12)\n",
        "surrogate_exact_12 = dtStudentProcess(cov_func, optimize=opt, nu = df)\n",
        "\n",
        "exact_12 = dGPGO(surrogate_exact_12, Acquisition_grad(util), objfunc, param)\n",
        "exact_12.run(init_evals=n_init, max_iter=iters)\n"
      ]
    },
    {
      "cell_type": "code",
      "execution_count": 46,
      "metadata": {
        "id": "9BsKdU9eJTFL",
        "colab": {
          "base_uri": "https://localhost:8080/"
        },
        "outputId": "78821d56-f8fb-40d1-c337-8fdedb6bef6f"
      },
      "outputs": [
        {
          "output_type": "stream",
          "name": "stdout",
          "text": [
            "Evaluation \t Proposed point \t  Current eval. \t  Best eval. \t        Exact EI: StdDev. x \t Approx EI: StdDev. x \n",
            "init\t [ 2.84367268 -2.68757791]\t 33.58019830007169\t 17.435826639425656\t    \t    \n",
            "init\t [3.32061217 4.76927179]\t 56.857057997503354\t 17.435826639425656\t    \t    \n",
            "init\t [ 4.83943541 -0.47667971]\t 48.211919361679726\t 17.435826639425656\t    \t    \n",
            "init\t [1.11659482 2.82139151]\t 17.435826639425656\t 17.435826639425656\t    \t    \n",
            "init\t [1.45012065 2.27346667]\t 38.25352329493884\t 17.435826639425656\t    \t    \n",
            "1  \t [-5.12 -5.12]\t 57.849427451571785\t 17.435826639425656\t 2.956877519894405\t 3.4306722804065\n",
            "2  \t [-3.79946932  2.66821301]\t 43.412509428311274\t 17.435826639425656\t 2.5389166878714597\t 3.731942673828179\n",
            "3  \t [-2.15178595 -1.49579183]\t 31.07737996083779\t 17.435826639425656\t 2.4633440313232726\t 3.2957606543044857\n",
            "4  \t [-0.50423444 -5.12      ]\t 49.175426966944855\t 17.435826639425656\t 3.0364514618386087\t 3.8651284944789217\n",
            "5  \t [-4.99747285 -0.8426771 ]\t 30.186574680483698\t 17.435826639425656\t 3.3615592288333414\t 3.8746455075701474\n",
            "6  \t [-1.47143339  4.29526654]\t 53.25977008096706\t 17.435826639425656\t 2.7486710114449044\t 3.805713242778858\n",
            "7  \t [ 0.29172794 -0.41553238]\t 31.474081290315173\t 17.435826639425656\t 3.4531638052246336\t 4.111263669342515\n",
            "8  \t [4.85814166 2.64414447]\t 50.48065632462887\t 17.435826639425656\t 3.2207688146503743\t 4.005094910309956\n",
            "9  \t [-3.20021888 -3.4707955 ]\t 49.04285020629587\t 17.435826639425656\t 3.3730977351659837\t 3.8875932246225937\n",
            "10 \t [-1.61241473  0.81274353]\t 27.027004924759908\t 17.435826639425656\t 3.0268068344353636\t 3.3244072062965264\n",
            "11 \t [ 4.60219075 -4.03627506]\t 55.738795786272526\t 17.435826639425656\t 3.0314567940228883\t 4.404191620897593\n",
            "12 \t [ 0.1437704  -2.67432521]\t 25.560393767934052\t 17.435826639425656\t 3.1056312447164918\t 3.0707133770413053\n",
            "13 \t [ 1.48670131 -4.4567243 ]\t 61.67038149914674\t 17.435826639425656\t 3.274490997504526\t 3.452040727825035\n",
            "\u001b[1m\u001b[92m14\u001b[0m\t \u001b[1m\u001b[92m[2.07443988 0.02859926]\u001b[0m\t \u001b[1m\u001b[92m5.5391477128764475\u001b[0m\t \u001b[1m\u001b[92m5.5391477128764475\u001b[0m\t \u001b[1m\u001b[92m2.8648595374987145\u001b[0m\t \u001b[1m\u001b[92m3.4657891554783378\u001b[0m\n",
            "15 \t [-3.97300782  5.00321189]\t 40.96242768332724\t 5.5391477128764475\t 2.709806837203023\t 3.84982219686435\n",
            "16 \t [5.12 5.12]\t 57.849427451571785\t 5.5391477128764475\t 3.3991836031686686\t 3.490275352441842\n",
            "17 \t [0.84232868 5.12      ]\t 34.153003038657054\t 5.5391477128764475\t 3.221283097251512\t 3.3995302324458385\n",
            "18 \t [-5.12        1.13572455]\t 33.63568245109494\t 5.5391477128764475\t 1.9912547372826406\t 2.7397349974526675\n",
            "19 \t [-5.02677589 -2.82204778]\t 38.99975826814787\t 5.5391477128764475\t 2.6678005998595347\t 2.9796601065670583\n",
            "20 \t [2.96750041 1.16491376]\t 15.275771904620434\t 5.5391477128764475\t 2.811180730097225\t 3.2281993779909572\n"
          ]
        }
      ],
      "source": [
        "### EXACT STP EI GRADIENTS\n",
        "\n",
        "np.random.seed(run_num_13)\n",
        "surrogate_exact_13 = dtStudentProcess(cov_func, optimize=opt, nu = df)\n",
        "\n",
        "exact_13 = dGPGO(surrogate_exact_13, Acquisition_grad(util), objfunc, param)\n",
        "exact_13.run(init_evals=n_init, max_iter=iters)\n"
      ]
    },
    {
      "cell_type": "code",
      "execution_count": 47,
      "metadata": {
        "id": "k6GjFBr1JTJf",
        "colab": {
          "base_uri": "https://localhost:8080/"
        },
        "outputId": "b54e3b95-b8dc-492e-bb2d-b84e1ba1e3e3"
      },
      "outputs": [
        {
          "output_type": "stream",
          "name": "stdout",
          "text": [
            "Evaluation \t Proposed point \t  Current eval. \t  Best eval. \t        Exact EI: StdDev. x \t Approx EI: StdDev. x \n",
            "init\t [0.14277984 2.79721013]\t 18.683085263052178\t 10.423838604848608\t    \t    \n",
            "init\t [ 3.7931795  -5.03759925]\t 47.36348784446708\t 10.423838604848608\t    \t    \n",
            "init\t [-1.94830412  4.68586229]\t 40.19779334078636\t 10.423838604848608\t    \t    \n",
            "init\t [ 0.13431513 -1.86076749]\t 10.423838604848608\t 10.423838604848608\t    \t    \n",
            "init\t [ 0.40140736 -2.85434939]\t 30.353548735049138\t 10.423838604848608\t    \t    \n",
            "1  \t [-4.98996551 -5.12      ]\t 53.844338556563216\t 10.423838604848608\t 3.1780140634133702\t 3.8443509257492456\n",
            "2  \t [5.12       1.43373874]\t 50.126106106866246\t 10.423838604848608\t 3.153703369901504\t 3.8840234176321444\n",
            "3  \t [-5.12        0.36751971]\t 45.79082563073787\t 10.423838604848608\t 2.978827363948065\t 3.6839806448298758\n",
            "4  \t [-1.70393766  0.0408019 ]\t 16.08583675588006\t 10.423838604848608\t 2.7542992283676737\t 3.0032191881373924\n",
            "5  \t [5.12 5.12]\t 57.849427451571785\t 10.423838604848608\t 3.0354675132533013\t 3.4029095280495594\n",
            "6  \t [ 3.39652139 -1.45417143]\t 51.19903173479741\t 10.423838604848608\t 2.71136477174279\t 3.276125546031313\n",
            "7  \t [-1.79774938 -5.12      ]\t 39.20124066846354\t 10.423838604848608\t 2.6523026306635025\t 3.598104519861937\n",
            "8  \t [-4.81769413  3.59174679]\t 60.36852691508802\t 10.423838604848608\t 3.258213591964483\t 3.7036845690994897\n",
            "9  \t [1.23021503 5.12      ]\t 39.19821602791215\t 10.423838604848608\t 2.9355143909689025\t 3.383919253382353\n",
            "10 \t [-3.04139833 -2.42149459]\t 34.25805170090527\t 10.423838604848608\t 3.0077715866396364\t 2.776841877147573\n",
            "11 \t [0.48124925 0.38092992]\t 37.636946382272384\t 10.423838604848608\t 3.139524843900525\t 2.92247849605036\n",
            "12 \t [2.55740752 2.20145765]\t 37.740304519825706\t 10.423838604848608\t 2.4366279429560214\t 3.3796260682600767\n",
            "13 \t [ 1.06346953 -5.11251595]\t 30.450065702110283\t 10.423838604848608\t 2.8710618016913374\t 3.229346032590946\n",
            "14 \t [-2.38442451  1.93541228]\t 27.720647092110816\t 10.423838604848608\t 2.8337440154584903\t 3.2950252820852146\n",
            "15 \t [-5.12       -2.32285592]\t 48.739836580061215\t 10.423838604848608\t 2.7660015527968547\t 3.1668762867720446\n",
            "16 \t [ 5.07386691 -2.53120797]\t 53.017346224857754\t 10.423838604848608\t 2.829956594991561\t 3.0854207118298773\n",
            "17 \t [3.04864423 4.32277019]\t 42.85866076100718\t 10.423838604848608\t 2.844795172832058\t 3.0380116292839507\n",
            "18 \t [-1.26883516 -1.91339922]\t 17.895940266020787\t 10.423838604848608\t 2.5097915882232296\t 1.8525944411577877\n",
            "19 \t [3.78851967 4.08035791]\t 39.85328824905621\t 10.423838604848608\t 2.8867778495673275\t 2.8867778495673275\n",
            "20 \t [ 1.96131506 -2.86653525]\t 15.672564337867874\t 10.423838604848608\t 2.7283654257947045\t 2.98103782379045\n"
          ]
        }
      ],
      "source": [
        "### EXACT STP EI GRADIENTS\n",
        "\n",
        "np.random.seed(run_num_14)\n",
        "surrogate_exact_14 = dtStudentProcess(cov_func, optimize=opt, nu = df)\n",
        "\n",
        "exact_14 = dGPGO(surrogate_exact_14, Acquisition_grad(util), objfunc, param)\n",
        "exact_14.run(init_evals=n_init, max_iter=iters)\n"
      ]
    },
    {
      "cell_type": "code",
      "execution_count": 48,
      "metadata": {
        "id": "dPS8WB3aJTN6",
        "colab": {
          "base_uri": "https://localhost:8080/"
        },
        "outputId": "92b27070-3c25-4c8e-d30a-1c924fb912c8"
      },
      "outputs": [
        {
          "output_type": "stream",
          "name": "stdout",
          "text": [
            "Evaluation \t Proposed point \t  Current eval. \t  Best eval. \t        Exact EI: StdDev. x \t Approx EI: StdDev. x \n",
            "init\t [ 3.57189322 -3.28810573]\t 54.938487770767075\t 7.990765314336182\t    \t    \n",
            "init\t [-4.56332069 -1.41784631]\t 60.750198753157726\t 7.990765314336182\t    \t    \n",
            "init\t [-2.29989449  0.3072023 ]\t 31.984997246800887\t 7.990765314336182\t    \t    \n",
            "init\t [-1.9873903  -2.00218256]\t 7.990765314336182\t 7.990765314336182\t    \t    \n",
            "init\t [-3.97576933 -2.5610341 ]\t 41.754957769694336\t 7.990765314336182\t    \t    \n",
            "1  \t [2.50790132 5.12      ]\t 55.20196193079832\t 7.990765314336182\t 3.0881738537082546\t 3.8171507094400203\n",
            "2  \t [-4.96635744  4.09320867]\t 43.30810083468987\t 7.990765314336182\t 2.7139639356973566\t 4.14431989651262\n",
            "3  \t [2.15619748 0.77474512]\t 18.142446990160977\t 7.990765314336182\t 3.0706350407124163\t 3.570014356164829\n",
            "4  \t [-0.71760179 -5.12      ]\t 41.46127607456661\t 7.990765314336182\t 3.0085485351694934\t 3.6519504434494205\n",
            "5  \t [-1.30096187  4.88816352]\t 41.10316652509651\t 7.990765314336182\t 3.2901670530437355\t 3.667771041674402\n",
            "6  \t [5.03841913 2.13302213]\t 33.51957077709514\t 7.990765314336182\t 3.1266622952984546\t 3.558686494394088\n",
            "7  \t [-5.12 -5.12]\t 57.849427451571785\t 7.990765314336182\t 3.1424270851809912\t 2.6310837485976206\n",
            "8  \t [ 0.1578643  -1.89434899]\t 10.265983084904283\t 7.990765314336182\t 2.8792766871167648\t 3.0474751355648992\n",
            "9  \t [-0.3187912   2.10603589]\t 20.864472396761826\t 7.990765314336182\t 2.1448266704609216\t 2.7911467541750796\n",
            "10 \t [ 4.97511361 -0.83801445]\t 30.323507013052296\t 7.990765314336182\t 2.8692994890165577\t 3.569034679482622\n",
            "11 \t [5.12 5.12]\t 57.849427451571785\t 7.990765314336182\t 2.433009994654872\t 3.3294691940575474\n",
            "12 \t [-4.77388895  0.82628196]\t 37.3658745540788\t 7.990765314336182\t 2.512038022706247\t 3.1071600098567713\n",
            "13 \t [-2.88168612  2.7250485 ]\t 29.92954093555746\t 7.990765314336182\t 2.7660629752120176\t 3.1526327832827756\n",
            "14 \t [ 1.98094481 -1.37890288]\t 23.139428061018542\t 7.990765314336182\t 2.621641590099987\t 3.366106882406954\n",
            "15 \t [ 1.24053643 -4.02979755]\t 27.358687418956674\t 7.990765314336182\t 2.3152666944253566\t 2.9236191004584478\n",
            "16 \t [2.1619589  2.50662984]\t 35.69464038990773\t 7.990765314336182\t 3.1692020513388184\t 3.2795465959233026\n",
            "17 \t [-0.36799626 -0.21287362]\t 24.622270268940106\t 7.990765314336182\t 2.6756240032307583\t 3.269633449025268\n",
            "18 \t [0.49773572 4.4205419 ]\t 58.56733863958961\t 7.990765314336182\t 3.211634590909033\t 3.381355332227826\n",
            "19 \t [-2.7736841  -4.66490718]\t 53.067485860563444\t 7.990765314336182\t 3.052601563254726\t 3.2470424713518615\n",
            "20 \t [3.51448944 1.11222113]\t 35.93183159046182\t 7.990765314336182\t 2.4238969865057096\t 2.5664532704602223\n"
          ]
        }
      ],
      "source": [
        "### EXACT STP EI GRADIENTS\n",
        "\n",
        "np.random.seed(run_num_15)\n",
        "surrogate_exact_15 = dtStudentProcess(cov_func, optimize=opt, nu = df)\n",
        "\n",
        "exact_15 = dGPGO(surrogate_exact_15, Acquisition_grad(util), objfunc, param)\n",
        "exact_15.run(init_evals=n_init, max_iter=iters)\n"
      ]
    },
    {
      "cell_type": "code",
      "execution_count": 49,
      "metadata": {
        "id": "lu8ki9XIQPPN",
        "colab": {
          "base_uri": "https://localhost:8080/"
        },
        "outputId": "7b627738-4ce6-41e4-8fef-b0ffffc27c8e"
      },
      "outputs": [
        {
          "output_type": "stream",
          "name": "stdout",
          "text": [
            "Evaluation \t Proposed point \t  Current eval. \t  Best eval. \t        Exact EI: StdDev. x \t Approx EI: StdDev. x \n",
            "init\t [-2.83349935  0.23719262]\t 22.27210456874814\t 22.27210456874814\t    \t    \n",
            "init\t [ 0.51918292 -4.65303603]\t 57.57021076017139\t 22.27210456874814\t    \t    \n",
            "init\t [-1.42613673 -2.83565116]\t 33.89145899403749\t 22.27210456874814\t    \t    \n",
            "init\t [ 1.9325559  -3.44339021]\t 35.85029586225333\t 22.27210456874814\t    \t    \n",
            "init\t [-4.39987336  4.51595121]\t 77.78800881964571\t 22.27210456874814\t    \t    \n",
            "1  \t [2.142749   4.83374619]\t 36.69381850109535\t 22.27210456874814\t 3.6660766989171574\t 4.0201580891181985\n",
            "2  \t [4.5921165  0.66584749]\t 54.94667333340431\t 22.27210456874814\t 3.631396290559891\t 3.7835870651067225\n",
            "3  \t [-5.12 -5.12]\t 57.849427451571785\t 22.27210456874814\t 3.313319513075197\t 3.888453022399422\n",
            "4  \t [0.71913965 0.71913965]\t 24.8880941829524\t 22.27210456874814\t 2.694311881154959\t 3.802366357713522\n",
            "5  \t [-5.12       -1.66043296]\t 47.017030730991706\t 22.27210456874814\t 2.8824763681667287\t 3.753991716051984\n",
            "6  \t [5.12 5.12]\t 57.849427451571785\t 22.27210456874814\t 3.4815674646878185\t 4.2286939524309055\n",
            "7  \t [ 4.61353471 -4.56408508]\t 78.87747696873812\t 22.27210456874814\t 2.754012123918453\t 3.720971767199504\n",
            "8  \t [-1.19298762  4.24119373]\t 35.351839968589054\t 22.27210456874814\t 2.341823764235312\t 2.932810915083019\n",
            "9  \t [-2.42748763 -5.12      ]\t 53.797343836162256\t 22.27210456874814\t 2.9226778407628\t 3.3157829723526437\n",
            "10 \t [-5.12        1.45960057]\t 50.73470731622977\t 22.27210456874814\t 2.8293664177298785\t 3.335682177521883\n",
            "11 \t [ 4.02137461 -1.821725  ]\t 25.224572961167596\t 22.27210456874814\t 2.8898114987654187\t 2.5532768440971316\n",
            "\u001b[1m\u001b[92m12\u001b[0m\t \u001b[1m\u001b[92m[2.05765959 2.16275513]\u001b[0m\t \u001b[1m\u001b[92m14.349270433964154\u001b[0m\t \u001b[1m\u001b[92m14.349270433964154\u001b[0m\t \u001b[1m\u001b[92m3.0533728357486387\u001b[0m\t \u001b[1m\u001b[92m2.9055851504763934\u001b[0m\n",
            "13 \t [-1.63604376  1.97954643]\t 23.241491886947767\t 14.349270433964154\t 2.277473000182012\t 2.329814332025778\n",
            "14 \t [ 0.65506047 -1.42395158]\t 36.95439913440114\t 14.349270433964154\t 2.57334785853891\t 2.449684839375482\n",
            "15 \t [ 2.45248349 -0.15686301]\t 30.073270467014733\t 14.349270433964154\t 2.600247955790797\t 2.9184691300998438\n",
            "16 \t [5.12       2.69050978]\t 49.81500201535727\t 14.349270433964154\t 2.9798450082590784\t 2.7097083265550923\n",
            "17 \t [0.19792573 3.35045029]\t 33.9515549364285\t 14.349270433964154\t 3.0006890936982247\t 2.9472300429174423\n",
            "\u001b[1m\u001b[92m18\u001b[0m\t \u001b[1m\u001b[92m[-0.72934326 -0.044859  ]\u001b[0m\t \u001b[1m\u001b[92m12.222809246666476\u001b[0m\t \u001b[1m\u001b[92m12.222809246666476\u001b[0m\t \u001b[1m\u001b[92m2.929597349319251\u001b[0m\t \u001b[1m\u001b[92m3.3165495046160314\u001b[0m\n",
            "19 \t [-3.48255915  2.66744441]\t 54.141114751526736\t 12.222809246666476\t 2.8398758466276006\t 3.260345509952411\n",
            "20 \t [-3.56710061 -3.17542403]\t 47.415704835327915\t 12.222809246666476\t 3.0528944718548927\t 3.191838622313362\n"
          ]
        }
      ],
      "source": [
        "### EXACT STP EI GRADIENTS\n",
        "\n",
        "np.random.seed(run_num_16)\n",
        "surrogate_exact_16 = dtStudentProcess(cov_func, optimize=opt, nu = df)\n",
        "\n",
        "exact_16 = dGPGO(surrogate_exact_16, Acquisition_grad(util), objfunc, param)\n",
        "exact_16.run(init_evals=n_init, max_iter=iters)\n"
      ]
    },
    {
      "cell_type": "code",
      "execution_count": 50,
      "metadata": {
        "id": "yU2SflSsJTUs",
        "colab": {
          "base_uri": "https://localhost:8080/"
        },
        "outputId": "e0134ba8-5abc-4f84-85d8-5af4f6eaeb98"
      },
      "outputs": [
        {
          "output_type": "stream",
          "name": "stdout",
          "text": [
            "Evaluation \t Proposed point \t  Current eval. \t  Best eval. \t        Exact EI: StdDev. x \t Approx EI: StdDev. x \n",
            "init\t [-2.10263037  0.31320838]\t 20.395145364684023\t 20.395145364684023\t    \t    \n",
            "init\t [-3.15882714 -4.42470033]\t 53.03732051200137\t 20.395145364684023\t    \t    \n",
            "init\t [2.93873111 1.60085526]\t 29.989224812583537\t 20.395145364684023\t    \t    \n",
            "init\t [1.40821398 0.77417363]\t 29.451989415882437\t 20.395145364684023\t    \t    \n",
            "init\t [-4.71999574 -1.45598869]\t 55.89242173757483\t 20.395145364684023\t    \t    \n",
            "1  \t [ 4.96008736 -4.44720822]\t 64.14783177084814\t 20.395145364684023\t 3.315476681130734\t 4.599696523929133\n",
            "2  \t [-1.95646705  4.77829278]\t 35.26326039091227\t 20.395145364684023\t 3.3628610575978883\t 3.614133676716341\n",
            "3  \t [4.67136791 4.9849391 ]\t 61.45808001353926\t 20.395145364684023\t 2.923773318993859\t 3.68720013916326\n",
            "4  \t [ 0.86616148 -3.39433268]\t 33.47982869959352\t 20.395145364684023\t 3.42278725032201\t 3.892172609019921\n",
            "5  \t [-4.60668397  2.49125822]\t 65.24908325796068\t 20.395145364684023\t 3.2315576109514472\t 3.837210214095967\n",
            "6  \t [4.91645404 0.10149751]\t 27.49374856151171\t 20.395145364684023\t 3.105650995574145\t 3.395550550783925\n",
            "7  \t [0.55085531 4.38796086]\t 56.67429692749358\t 20.395145364684023\t 2.9222616258288987\t 3.454944682250789\n",
            "8  \t [ 3.60111668 -2.30832496]\t 49.92832426627978\t 20.395145364684023\t 3.2534540838211212\t 3.3112984143304773\n",
            "9  \t [-0.59171669 -5.12      ]\t 47.65983594184368\t 20.395145364684023\t 3.651262235053032\t 4.051090744066082\n",
            "\u001b[1m\u001b[92m10\u001b[0m\t \u001b[1m\u001b[92m[-2.05087423 -2.02405809]\u001b[0m\t \u001b[1m\u001b[92m8.923480296799378\u001b[0m\t \u001b[1m\u001b[92m8.923480296799378\u001b[0m\t \u001b[1m\u001b[92m3.0489715109187188\u001b[0m\t \u001b[1m\u001b[92m3.2254073739922022\u001b[0m\n",
            "11 \t [5.12       2.44010711]\t 54.17907651054088\t 8.923480296799378\t 3.2921281925626755\t 3.674002745477852\n",
            "12 \t [-1.16401336  2.22932302]\t 19.88561099161925\t 8.923480296799378\t 2.9192887838712034\t 3.3303327652258634\n",
            "13 \t [-0.16627661 -1.25984735]\t 17.21198604707432\t 8.923480296799378\t 2.2247955177239023\t 2.6616197793849405\n",
            "14 \t [-5.12 -5.12]\t 57.849427451571785\t 8.923480296799378\t 2.692778326727776\t 3.5519059692034953\n",
            "15 \t [2.53082164 5.12      ]\t 55.14283996388126\t 8.923480296799378\t 2.5345217668082594\t 3.0272039161481468\n",
            "16 \t [-3.89034103  4.57612498]\t 57.23465297851018\t 8.923480296799378\t 2.3797402764992692\t 2.8018864031685613\n",
            "17 \t [ 2.2982492  -5.09587095]\t 45.9952902802015\t 8.923480296799378\t 2.577330234764141\t 2.700401914046687\n",
            "18 \t [-0.31114611  0.2860467 ]\t 26.172306389574015\t 8.923480296799378\t 2.587697557398052\t 2.5161769355931027\n",
            "19 \t [-3.76020392  0.38653523]\t 41.21240288694055\t 8.923480296799378\t 2.7365150298310335\t 2.800668044030021\n",
            "20 \t [ 1.77255842 -1.35649476]\t 29.77240460300812\t 8.923480296799378\t 2.6566168601575266\t 2.8261825212074347\n"
          ]
        }
      ],
      "source": [
        "### EXACT STP EI GRADIENTS\n",
        "\n",
        "np.random.seed(run_num_17)\n",
        "surrogate_exact_17 = dtStudentProcess(cov_func, optimize=opt, nu = df)\n",
        "\n",
        "exact_17 = dGPGO(surrogate_exact_17, Acquisition_grad(util), objfunc, param)\n",
        "exact_17.run(init_evals=n_init, max_iter=iters)\n"
      ]
    },
    {
      "cell_type": "code",
      "execution_count": 51,
      "metadata": {
        "id": "eVEhyZ9BQS-1",
        "colab": {
          "base_uri": "https://localhost:8080/"
        },
        "outputId": "9b1c2610-ce0e-4785-dfea-3b9c8bcae47d"
      },
      "outputs": [
        {
          "output_type": "stream",
          "name": "stdout",
          "text": [
            "Evaluation \t Proposed point \t  Current eval. \t  Best eval. \t        Exact EI: StdDev. x \t Approx EI: StdDev. x \n",
            "init\t [1.53983224 0.05584255]\t 22.67190580753611\t 22.67190580753611\t    \t    \n",
            "init\t [ 3.87687906 -3.25795609]\t 38.990099416711985\t 22.67190580753611\t    \t    \n",
            "init\t [3.60686662 2.56139557]\t 56.66448698782129\t 22.67190580753611\t    \t    \n",
            "init\t [1.70088108 4.99604939]\t 40.894059318256296\t 22.67190580753611\t    \t    \n",
            "init\t [-2.48864335 -4.83014733]\t 54.6725749848372\t 22.67190580753611\t    \t    \n",
            "1  \t [-5.00718904  2.9174042 ]\t 34.91005808676357\t 22.67190580753611\t 3.00450163515948\t 3.858257995709437\n",
            "2  \t [-5.12       -1.55738046]\t 50.70724027251626\t 22.67190580753611\t 2.9707100640013104\t 2.982795831549052\n",
            "\u001b[1m\u001b[92m3\u001b[0m\t \u001b[1m\u001b[92m[-1.81759401  0.24145562]\u001b[0m\t \u001b[1m\u001b[92m18.70482086608838\u001b[0m\t \u001b[1m\u001b[92m18.70482086608838\u001b[0m\t \u001b[1m\u001b[92m4.047526546871867\u001b[0m\t \u001b[1m\u001b[92m3.3726401973858477\u001b[0m\n",
            "4  \t [ 0.75882502 -4.72833594]\t 43.73576125514902\t 18.70482086608838\t 3.259803455450866\t 3.857405809461955\n",
            "5  \t [5.12 5.12]\t 57.849427451571785\t 18.70482086608838\t 3.113966219878506\t 3.6808696822897735\n",
            "6  \t [-0.44565189  2.5682286 ]\t 45.31210533042651\t 18.70482086608838\t 3.0655318917628187\t 3.899996744793388\n",
            "7  \t [-0.52386066 -2.10880612]\t 26.856591448850757\t 18.70482086608838\t 3.1674245826866794\t 3.3896051821068487\n",
            "8  \t [-5.12 -5.12]\t 57.849427451571785\t 18.70482086608838\t 2.7073247202131774\t 3.843952870801121\n",
            "9  \t [-2.05931647  4.63332738]\t 43.086601890136585\t 18.70482086608838\t 3.0369249513731438\t 3.7761220939293763\n",
            "10 \t [ 4.43190373 -0.77925808]\t 47.51956296061641\t 18.70482086608838\t 3.125649167627795\t 3.6477995763210824\n",
            "11 \t [-3.61386316  0.31212835]\t 44.51083729504226\t 18.70482086608838\t 2.795610073279533\t 3.455139435715692\n",
            "12 \t [ 1.44237584 -2.33702028]\t 42.093053717864954\t 18.70482086608838\t 2.7250732645752946\t 3.2308176659150702\n",
            "13 \t [-2.79723562 -2.28842233]\t 32.52764644403537\t 18.70482086608838\t 3.1562178325689683\t 3.3891810532318476\n",
            "14 \t [5.12       1.23641579]\t 39.60095236396026\t 18.70482086608838\t 2.535693742369646\t 2.992396743945113\n",
            "15 \t [-4.93311462  4.65004427]\t 62.70427715056073\t 18.70482086608838\t 2.8841924224389\t 3.09127521158989\n",
            "16 \t [ 2.77551171 -4.79135553]\t 46.4951582158133\t 18.70482086608838\t 2.3805219585468125\t 2.8885039137586204\n",
            "\u001b[1m\u001b[92m17\u001b[0m\t \u001b[1m\u001b[92m[-0.18574797 -0.01860645]\u001b[0m\t \u001b[1m\u001b[92m6.174803446820171\u001b[0m\t \u001b[1m\u001b[92m6.174803446820171\u001b[0m\t \u001b[1m\u001b[92m3.0294015689659584\u001b[0m\t \u001b[1m\u001b[92m3.197805183544832\u001b[0m\n",
            "18 \t [-0.962992   -3.90508349]\t 18.17240800786027\t 6.174803446820171\t 3.0496915273538123\t 3.6153009076986486\n",
            "19 \t [-2.75369625  2.33684616]\t 38.00138510482638\t 6.174803446820171\t 2.286154874358856\t 2.9951502015761626\n",
            "20 \t [1.51756245 2.05050445]\t 26.946019647003226\t 6.174803446820171\t 2.497716862107415\t 3.1143430576465048\n"
          ]
        }
      ],
      "source": [
        "### EXACT STP EI GRADIENTS\n",
        "\n",
        "np.random.seed(run_num_18)\n",
        "surrogate_exact_18 = dtStudentProcess(cov_func, optimize=opt, nu = df)\n",
        "\n",
        "exact_18 = dGPGO(surrogate_exact_18, Acquisition_grad(util), objfunc, param)\n",
        "exact_18.run(init_evals=n_init, max_iter=iters)\n"
      ]
    },
    {
      "cell_type": "code",
      "execution_count": 52,
      "metadata": {
        "id": "B6gTz1ojQUxn",
        "colab": {
          "base_uri": "https://localhost:8080/"
        },
        "outputId": "c7309ef0-8890-478d-8202-d608cdfbc08e"
      },
      "outputs": [
        {
          "output_type": "stream",
          "name": "stdout",
          "text": [
            "Evaluation \t Proposed point \t  Current eval. \t  Best eval. \t        Exact EI: StdDev. x \t Approx EI: StdDev. x \n",
            "init\t [-4.12125592  2.6751971 ]\t 41.43485596167127\t 25.867003842388073\t    \t    \n",
            "init\t [-2.59135515 -3.70553152]\t 51.60126035043229\t 25.867003842388073\t    \t    \n",
            "init\t [-1.72598719 -4.27008445]\t 43.97430127029199\t 25.867003842388073\t    \t    \n",
            "init\t [1.76104531 3.13952049]\t 25.867003842388073\t 25.867003842388073\t    \t    \n",
            "init\t [4.9432772  1.38916592]\t 44.66580306903559\t 25.867003842388073\t    \t    \n",
            "1  \t [ 4.82682643 -3.73084389]\t 53.77630571268805\t 25.867003842388073\t 3.1819817603290925\t 4.721091043993306\n",
            "\u001b[1m\u001b[92m2\u001b[0m\t \u001b[1m\u001b[92m[-0.05107128 -0.29851312]\u001b[0m\t \u001b[1m\u001b[92m13.603354132536392\u001b[0m\t \u001b[1m\u001b[92m13.603354132536392\u001b[0m\t \u001b[1m\u001b[92m3.553386660475723\u001b[0m\t \u001b[1m\u001b[92m3.8340618691117885\u001b[0m\n",
            "3  \t [5.12 5.12]\t 57.849427451571785\t 13.603354132536392\t 3.9567367320747215\t 4.359555242982022\n",
            "4  \t [-4.9431446  -0.94431705]\t 26.563547885069152\t 13.603354132536392\t 3.276077901306654\t 3.75331300891261\n",
            "5  \t [-1.02706361  4.62573165]\t 39.63496959139912\t 13.603354132536392\t 2.753543428176987\t 3.2430350236397074\n",
            "6  \t [ 1.41477757 -4.35915666]\t 55.93746180890577\t 13.603354132536392\t 3.29327076170689\t 3.1494167126511177\n",
            "7  \t [-5.12 -5.12]\t 57.849427451571785\t 13.603354132536392\t 3.6127794177927317\t 3.492988216163402\n",
            "8  \t [ 1.89030058 -1.26754267]\t 18.562751215537762\t 13.603354132536392\t 2.5844480028642023\t 3.0508366737831896\n",
            "9  \t [-2.44803879  0.33347075]\t 40.58333708995916\t 13.603354132536392\t 2.7278163204778143\t 3.2045434761491722\n",
            "10 \t [2.01888911 5.12      ]\t 33.07097351379838\t 13.603354132536392\t 3.386346263457391\t 3.3587618223088076\n",
            "11 \t [-0.27475955  1.75757089]\t 24.23845567702155\t 13.603354132536392\t 2.6680948490010037\t 2.9944265292679795\n",
            "12 \t [2.62218377 0.56830966]\t 43.4868797886789\t 13.603354132536392\t 2.695463844584177\t 3.1207892080029915\n",
            "13 \t [-1.14637336 -1.67922353]\t 22.375189401081542\t 13.603354132536392\t 3.2102272318188603\t 3.6660709000916514\n",
            "14 \t [ 5.07184042 -1.53635258]\t 48.825790204427676\t 13.603354132536392\t 2.6983567454900768\t 3.7288328887291002\n",
            "15 \t [-5.06912679  0.86499436]\t 30.759913909039717\t 13.603354132536392\t 3.0050644784140252\t 3.382805503556145\n",
            "16 \t [3.73414075 2.9787585 ]\t 33.90055883051038\t 13.603354132536392\t 2.666046647094024\t 3.277521651120359\n",
            "17 \t [-5.12       -2.75525954]\t 46.18576246964043\t 13.603354132536392\t 2.7065303906996516\t 3.8266228448668484\n",
            "18 \t [ 2.80171599 -2.69583609]\t 35.2625199283825\t 13.603354132536392\t 2.814211065256982\t 3.2616867644995016\n",
            "19 \t [ 0.18179184 -1.66550956]\t 23.714145101056438\t 13.603354132536392\t 2.3328595896383217\t 3.1743445148712937\n",
            "20 \t [-1.78118698  2.44777343]\t 36.68360722521121\t 13.603354132536392\t 2.6299531156944846\t 3.9076936521502303\n"
          ]
        }
      ],
      "source": [
        "### EXACT STP EI GRADIENTS\n",
        "\n",
        "np.random.seed(run_num_19)\n",
        "surrogate_exact_19 = dtStudentProcess(cov_func, optimize=opt, nu = df)\n",
        "\n",
        "exact_19 = dGPGO(surrogate_exact_19, Acquisition_grad(util), objfunc, param)\n",
        "exact_19.run(init_evals=n_init, max_iter=iters)\n"
      ]
    },
    {
      "cell_type": "code",
      "execution_count": 53,
      "metadata": {
        "id": "aw3xvSryIwDi",
        "colab": {
          "base_uri": "https://localhost:8080/"
        },
        "outputId": "3d1609f1-f56d-4cdd-8a1d-0bc8ad851572"
      },
      "outputs": [
        {
          "output_type": "stream",
          "name": "stdout",
          "text": [
            "Evaluation \t Proposed point \t  Current eval. \t  Best eval. \t        Exact EI: StdDev. x \t Approx EI: StdDev. x \n",
            "init\t [0.9024594  4.07258857]\t 20.24255447774017\t 17.388691338534382\t    \t    \n",
            "init\t [4.00927467 3.23417577]\t 35.55852254546393\t 17.388691338534382\t    \t    \n",
            "init\t [-4.75249064  1.96359764]\t 36.54582989269194\t 17.388691338534382\t    \t    \n",
            "init\t [-1.24230715  0.18955208]\t 17.388691338534382\t 17.388691338534382\t    \t    \n",
            "init\t [ 1.61742301 -3.13497377]\t 33.22932870179905\t 17.388691338534382\t    \t    \n",
            "1  \t [-5.12 -5.12]\t 57.849427451571785\t 17.388691338534382\t 3.143128910720323\t 3.8333158726702288\n",
            "2  \t [-1.37237114 -5.12      ]\t 47.761427444187845\t 17.388691338534382\t 2.8145574531702207\t 3.780945254642499\n",
            "3  \t [ 4.91315823 -0.57399286]\t 44.8592687455342\t 17.388691338534382\t 2.816603608066439\t 3.352972453150892\n",
            "4  \t [-2.37472126  4.83460371]\t 51.00240059573831\t 17.388691338534382\t 3.3034009425241595\t 3.807303426574061\n",
            "5  \t [-5.12       -1.50848283]\t 51.18603351747455\t 17.388691338534382\t 2.6795791440486934\t 3.7363977456411734\n",
            "6  \t [ 4.14636433 -4.97978639]\t 46.01004219435855\t 17.388691338534382\t 3.1483613060455333\t 3.6728642602665467\n",
            "7  \t [-1.92941744 -2.36204486]\t 26.741990705825554\t 17.388691338534382\t 3.491632862929213\t 3.253535284753764\n",
            "8  \t [1.58129154 0.5962237 ]\t 39.80699453759614\t 17.388691338534382\t 2.8276319898201936\t 3.011292454222695\n",
            "9  \t [5.12 5.12]\t 57.849427451571785\t 17.388691338534382\t 2.8100322276406837\t 4.045496306349839\n",
            "\u001b[1m\u001b[92m10\u001b[0m\t \u001b[1m\u001b[92m[-3.10895726  0.1380235 ]\u001b[0m\t \u001b[1m\u001b[92m15.468502821316422\u001b[0m\t \u001b[1m\u001b[92m15.468502821316422\u001b[0m\t \u001b[1m\u001b[92m2.961252485332522\u001b[0m\t \u001b[1m\u001b[92m3.248286852391914\u001b[0m\n",
            "11 \t [-1.41889678  2.32841608]\t 40.89434095446834\t 15.468502821316422\t 2.94755039497228\t 2.995462798108394\n",
            "12 \t [-4.59776113  4.22156972]\t 65.35626794167274\t 15.468502821316422\t 2.856822311687162\t 3.5722541822499494\n",
            "13 \t [2.35698225 5.12      ]\t 50.70708433650039\t 15.468502821316422\t 3.3383003209261926\t 3.94101250978499\n",
            "14 \t [ 0.03778829 -1.58729307]\t 21.334660417138927\t 15.468502821316422\t 3.0486239125575425\t 3.131823406149334\n",
            "15 \t [ 1.29149036 -5.12      ]\t 43.170149535874984\t 15.468502821316422\t 2.776904904941055\t 3.5078381818398623\n",
            "16 \t [ 2.85674485 -1.51187733]\t 34.20360409766252\t 15.468502821316422\t 2.796051482362103\t 3.160922327645108\n",
            "17 \t [4.68575781 1.21363517]\t 45.09193137331863\t 15.468502821316422\t 2.807550751673129\t 2.7505537804862255\n",
            "18 \t [-3.43160426 -3.57014916]\t 62.65687691828438\t 15.468502821316422\t 3.2464364300152213\t 3.4521896642543957\n",
            "19 \t [-0.25131013  5.11327516]\t 38.71871815163034\t 15.468502821316422\t 2.665359216660785\t 3.1411051369638345\n",
            "20 \t [2.42896085 2.2008777 ]\t 36.72631681852833\t 15.468502821316422\t 2.4135068377058073\t 2.829977517373665\n"
          ]
        }
      ],
      "source": [
        "### EXACT STP EI GRADIENTS\n",
        "\n",
        "np.random.seed(run_num_20)\n",
        "surrogate_exact_20 = dtStudentProcess(cov_func, optimize=opt, nu = df)\n",
        "\n",
        "exact_20 = dGPGO(surrogate_exact_20, Acquisition_grad(util), objfunc, param)\n",
        "exact_20.run(init_evals=n_init, max_iter=iters)\n"
      ]
    },
    {
      "cell_type": "code",
      "execution_count": 54,
      "metadata": {
        "id": "5c8szjivRPme",
        "colab": {
          "base_uri": "https://localhost:8080/"
        },
        "outputId": "d5adaf58-388a-4259-fee1-ff9b3f56b578"
      },
      "outputs": [
        {
          "output_type": "execute_result",
          "data": {
            "text/plain": [
              "901.99161028862"
            ]
          },
          "metadata": {},
          "execution_count": 54
        }
      ],
      "source": [
        "end_exact = time.time()\n",
        "end_exact\n",
        "\n",
        "time_exact = end_exact - start_exact\n",
        "time_exact\n"
      ]
    },
    {
      "cell_type": "code",
      "execution_count": 55,
      "metadata": {
        "id": "f6gCKnp6RR8c",
        "colab": {
          "base_uri": "https://localhost:8080/"
        },
        "outputId": "fa6c9406-97e0-42b6-fba1-dfcc97ebf2c6"
      },
      "outputs": [
        {
          "output_type": "execute_result",
          "data": {
            "text/plain": [
              "(2.9417518504842763, 0.270932813777644)"
            ]
          },
          "metadata": {},
          "execution_count": 55
        }
      ],
      "source": [
        "### Simple regret minimization: run number = 1\n",
        "\n",
        "approx_output_1 = np.append(np.min(-approx_1.GP.y[0:n_init]),-approx_1.GP.y[n_init:(n_init+iters)]) \n",
        "exact_output_1 = np.append(np.min(-exact_1.GP.y[0:n_init]),-exact_1.GP.y[n_init:(n_init+iters)]) \n",
        "\n",
        "regret_approx_1 = np.log(approx_output_1 - y_global_orig)\n",
        "regret_exact_1 = np.log(exact_output_1 - y_global_orig)\n",
        "\n",
        "simple_regret_approx_1 = min_max_array(regret_approx_1)\n",
        "simple_regret_exact_1 = min_max_array(regret_exact_1)\n",
        "\n",
        "min_simple_regret_approx_1 = min(simple_regret_approx_1)\n",
        "min_simple_regret_exact_1 = min(simple_regret_exact_1)\n",
        "\n",
        "min_simple_regret_approx_1, min_simple_regret_exact_1\n"
      ]
    },
    {
      "cell_type": "code",
      "execution_count": 56,
      "metadata": {
        "id": "94yBw5tqQxfk",
        "colab": {
          "base_uri": "https://localhost:8080/"
        },
        "outputId": "7cceaed4-0222-45f4-8fd2-c29504209ce5"
      },
      "outputs": [
        {
          "output_type": "execute_result",
          "data": {
            "text/plain": [
              "(2.80079157537281, 2.9425708889884663)"
            ]
          },
          "metadata": {},
          "execution_count": 56
        }
      ],
      "source": [
        "### Simple regret minimization: run number = 2\n",
        "\n",
        "approx_output_2 = np.append(np.min(-approx_2.GP.y[0:n_init]),-approx_2.GP.y[n_init:(n_init+iters)]) \n",
        "exact_output_2 = np.append(np.min(-exact_2.GP.y[0:n_init]),-exact_2.GP.y[n_init:(n_init+iters)]) \n",
        "\n",
        "regret_approx_2 = np.log(approx_output_2 - y_global_orig)\n",
        "regret_exact_2 = np.log(exact_output_2 - y_global_orig)\n",
        "\n",
        "simple_regret_approx_2 = min_max_array(regret_approx_2)\n",
        "simple_regret_exact_2 = min_max_array(regret_exact_2)\n",
        "\n",
        "min_simple_regret_approx_2 = min(simple_regret_approx_2)\n",
        "min_simple_regret_exact_2 = min(simple_regret_exact_2)\n",
        "\n",
        "min_simple_regret_approx_2, min_simple_regret_exact_2\n"
      ]
    },
    {
      "cell_type": "code",
      "execution_count": 57,
      "metadata": {
        "id": "Bu6SBWALQxfl",
        "colab": {
          "base_uri": "https://localhost:8080/"
        },
        "outputId": "0382d0ed-e91f-48be-c22a-facb04cb88b4"
      },
      "outputs": [
        {
          "output_type": "execute_result",
          "data": {
            "text/plain": [
              "(2.361576630127625, 2.361576630127625)"
            ]
          },
          "metadata": {},
          "execution_count": 57
        }
      ],
      "source": [
        "### Simple regret minimization: run number = 3\n",
        "\n",
        "approx_output_3 = np.append(np.min(-approx_3.GP.y[0:n_init]),-approx_3.GP.y[n_init:(n_init+iters)]) \n",
        "exact_output_3 = np.append(np.min(-exact_3.GP.y[0:n_init]),-exact_3.GP.y[n_init:(n_init+iters)]) \n",
        "\n",
        "regret_approx_3 = np.log(approx_output_3 - y_global_orig)\n",
        "regret_exact_3 = np.log(exact_output_3 - y_global_orig)\n",
        "\n",
        "simple_regret_approx_3 = min_max_array(regret_approx_3)\n",
        "simple_regret_exact_3 = min_max_array(regret_exact_3)\n",
        "\n",
        "min_simple_regret_approx_3 = min(simple_regret_approx_3)\n",
        "min_simple_regret_exact_3 = min(simple_regret_exact_3)\n",
        "\n",
        "min_simple_regret_approx_3, min_simple_regret_exact_3"
      ]
    },
    {
      "cell_type": "code",
      "execution_count": 58,
      "metadata": {
        "id": "AZm0jgxkQxfm",
        "colab": {
          "base_uri": "https://localhost:8080/"
        },
        "outputId": "f117119f-7845-4000-b1d0-b5bbd7637c45"
      },
      "outputs": [
        {
          "output_type": "execute_result",
          "data": {
            "text/plain": [
              "(2.287409641424572, 1.5986801068115295)"
            ]
          },
          "metadata": {},
          "execution_count": 58
        }
      ],
      "source": [
        "### Simple regret minimization: run number = 4\n",
        "\n",
        "approx_output_4 = np.append(np.min(-approx_4.GP.y[0:n_init]),-approx_4.GP.y[n_init:(n_init+iters)]) \n",
        "exact_output_4 = np.append(np.min(-exact_4.GP.y[0:n_init]),-exact_4.GP.y[n_init:(n_init+iters)]) \n",
        "\n",
        "regret_approx_4 = np.log(approx_output_4 - y_global_orig)\n",
        "regret_exact_4 = np.log(exact_output_4 - y_global_orig)\n",
        "\n",
        "simple_regret_approx_4 = min_max_array(regret_approx_4)\n",
        "simple_regret_exact_4 = min_max_array(regret_exact_4)\n",
        "\n",
        "min_simple_regret_approx_4 = min(simple_regret_approx_4)\n",
        "min_simple_regret_exact_4 = min(simple_regret_exact_4)\n",
        "\n",
        "min_simple_regret_approx_4, min_simple_regret_exact_4"
      ]
    },
    {
      "cell_type": "code",
      "execution_count": 59,
      "metadata": {
        "id": "NONPm8JIQxfn",
        "colab": {
          "base_uri": "https://localhost:8080/"
        },
        "outputId": "5bdb483a-270a-47c6-9486-5a91ce4ff4e0"
      },
      "outputs": [
        {
          "output_type": "execute_result",
          "data": {
            "text/plain": [
              "(2.05551541920764, 2.05551541920764)"
            ]
          },
          "metadata": {},
          "execution_count": 59
        }
      ],
      "source": [
        "### Simple regret minimization: run number = 5\n",
        "\n",
        "approx_output_5 = np.append(np.min(-approx_5.GP.y[0:n_init]),-approx_5.GP.y[n_init:(n_init+iters)]) \n",
        "exact_output_5 = np.append(np.min(-exact_5.GP.y[0:n_init]),-exact_5.GP.y[n_init:(n_init+iters)]) \n",
        "\n",
        "regret_approx_5 = np.log(approx_output_5 - y_global_orig)\n",
        "regret_exact_5 = np.log(exact_output_5 - y_global_orig)\n",
        "\n",
        "simple_regret_approx_5 = min_max_array(regret_approx_5)\n",
        "simple_regret_exact_5 = min_max_array(regret_exact_5)\n",
        "\n",
        "min_simple_regret_approx_5 = min(simple_regret_approx_5)\n",
        "min_simple_regret_exact_5 = min(simple_regret_exact_5)\n",
        "\n",
        "min_simple_regret_approx_5, min_simple_regret_exact_5"
      ]
    },
    {
      "cell_type": "code",
      "execution_count": 60,
      "metadata": {
        "id": "CJv3lPuSQxfp",
        "colab": {
          "base_uri": "https://localhost:8080/"
        },
        "outputId": "19078262-7d49-4225-a469-2e1addf34153"
      },
      "outputs": [
        {
          "output_type": "execute_result",
          "data": {
            "text/plain": [
              "(2.763872073780371, 2.0954780809846123)"
            ]
          },
          "metadata": {},
          "execution_count": 60
        }
      ],
      "source": [
        "### Simple regret minimization: run number = 6\n",
        "\n",
        "approx_output_6 = np.append(np.min(-approx_6.GP.y[0:n_init]),-approx_6.GP.y[n_init:(n_init+iters)]) \n",
        "exact_output_6 = np.append(np.min(-exact_6.GP.y[0:n_init]),-exact_6.GP.y[n_init:(n_init+iters)]) \n",
        "\n",
        "regret_approx_6 = np.log(approx_output_6 - y_global_orig)\n",
        "regret_exact_6 = np.log(exact_output_6 - y_global_orig)\n",
        "\n",
        "simple_regret_approx_6 = min_max_array(regret_approx_6)\n",
        "simple_regret_exact_6 = min_max_array(regret_exact_6)\n",
        "\n",
        "min_simple_regret_approx_6 = min(simple_regret_approx_6)\n",
        "min_simple_regret_exact_6 = min(simple_regret_exact_6)\n",
        "\n",
        "min_simple_regret_approx_6, min_simple_regret_exact_6"
      ]
    },
    {
      "cell_type": "code",
      "execution_count": 61,
      "metadata": {
        "id": "quR2ZyApQxfq",
        "colab": {
          "base_uri": "https://localhost:8080/"
        },
        "outputId": "d8cbedcb-5888-41d5-8612-75501ae4c461"
      },
      "outputs": [
        {
          "output_type": "execute_result",
          "data": {
            "text/plain": [
              "(2.5636817688099742, 2.357350877944353)"
            ]
          },
          "metadata": {},
          "execution_count": 61
        }
      ],
      "source": [
        "### Simple regret minimization: run number = 7\n",
        "\n",
        "approx_output_7 = np.append(np.min(-approx_7.GP.y[0:n_init]),-approx_7.GP.y[n_init:(n_init+iters)]) \n",
        "exact_output_7 = np.append(np.min(-exact_7.GP.y[0:n_init]),-exact_7.GP.y[n_init:(n_init+iters)]) \n",
        "\n",
        "regret_approx_7 = np.log(approx_output_7 - y_global_orig)\n",
        "regret_exact_7 = np.log(exact_output_7 - y_global_orig)\n",
        "\n",
        "simple_regret_approx_7 = min_max_array(regret_approx_7)\n",
        "simple_regret_exact_7 = min_max_array(regret_exact_7)\n",
        "\n",
        "min_simple_regret_approx_7 = min(simple_regret_approx_7)\n",
        "min_simple_regret_exact_7 = min(simple_regret_exact_7)\n",
        "\n",
        "min_simple_regret_approx_7, min_simple_regret_exact_7"
      ]
    },
    {
      "cell_type": "code",
      "execution_count": 62,
      "metadata": {
        "id": "99wY5nK6Qxfr",
        "colab": {
          "base_uri": "https://localhost:8080/"
        },
        "outputId": "52ca951f-602d-4cec-df25-6b00c27f5c97"
      },
      "outputs": [
        {
          "output_type": "execute_result",
          "data": {
            "text/plain": [
              "(2.6298595175876263, 2.477760762852301)"
            ]
          },
          "metadata": {},
          "execution_count": 62
        }
      ],
      "source": [
        "### Simple regret minimization: run number = 8\n",
        "\n",
        "approx_output_8 = np.append(np.min(-approx_8.GP.y[0:n_init]),-approx_8.GP.y[n_init:(n_init+iters)]) \n",
        "exact_output_8 = np.append(np.min(-exact_8.GP.y[0:n_init]),-exact_8.GP.y[n_init:(n_init+iters)]) \n",
        "\n",
        "regret_approx_8 = np.log(approx_output_8 - y_global_orig)\n",
        "regret_exact_8 = np.log(exact_output_8 - y_global_orig)\n",
        "\n",
        "simple_regret_approx_8 = min_max_array(regret_approx_8)\n",
        "simple_regret_exact_8 = min_max_array(regret_exact_8)\n",
        "\n",
        "min_simple_regret_approx_8 = min(simple_regret_approx_8)\n",
        "min_simple_regret_exact_8 = min(simple_regret_exact_8)\n",
        "\n",
        "min_simple_regret_approx_8, min_simple_regret_exact_8"
      ]
    },
    {
      "cell_type": "code",
      "execution_count": 63,
      "metadata": {
        "id": "qt0P5t9qQxfs",
        "colab": {
          "base_uri": "https://localhost:8080/"
        },
        "outputId": "f4ebd23c-ad6a-4a6a-c37a-7b8e0f01ae78"
      },
      "outputs": [
        {
          "output_type": "execute_result",
          "data": {
            "text/plain": [
              "(2.763688455794892, 1.493717669753133)"
            ]
          },
          "metadata": {},
          "execution_count": 63
        }
      ],
      "source": [
        "### Simple regret minimization: run number = 9\n",
        "\n",
        "approx_output_9 = np.append(np.min(-approx_9.GP.y[0:n_init]),-approx_9.GP.y[n_init:(n_init+iters)]) \n",
        "exact_output_9 = np.append(np.min(-exact_9.GP.y[0:n_init]),-exact_9.GP.y[n_init:(n_init+iters)]) \n",
        "\n",
        "regret_approx_9 = np.log(approx_output_9 - y_global_orig)\n",
        "regret_exact_9 = np.log(exact_output_9 - y_global_orig)\n",
        "\n",
        "simple_regret_approx_9 = min_max_array(regret_approx_9)\n",
        "simple_regret_exact_9 = min_max_array(regret_exact_9)\n",
        "\n",
        "min_simple_regret_approx_9 = min(simple_regret_approx_9)\n",
        "min_simple_regret_exact_9 = min(simple_regret_exact_9)\n",
        "\n",
        "min_simple_regret_approx_9, min_simple_regret_exact_9"
      ]
    },
    {
      "cell_type": "code",
      "execution_count": 64,
      "metadata": {
        "id": "vx8to9stQxft",
        "colab": {
          "base_uri": "https://localhost:8080/"
        },
        "outputId": "b9fbecbc-d4f3-4093-e01c-dc801557379e"
      },
      "outputs": [
        {
          "output_type": "execute_result",
          "data": {
            "text/plain": [
              "(2.5181190215010476, 1.6425266987200722)"
            ]
          },
          "metadata": {},
          "execution_count": 64
        }
      ],
      "source": [
        "### Simple regret minimization: run number = 10\n",
        "\n",
        "approx_output_10 = np.append(np.min(-approx_10.GP.y[0:n_init]),-approx_10.GP.y[n_init:(n_init+iters)]) \n",
        "exact_output_10 = np.append(np.min(-exact_10.GP.y[0:n_init]),-exact_10.GP.y[n_init:(n_init+iters)]) \n",
        "\n",
        "regret_approx_10 = np.log(approx_output_10 - y_global_orig)\n",
        "regret_exact_10 = np.log(exact_output_10 - y_global_orig)\n",
        "\n",
        "simple_regret_approx_10 = min_max_array(regret_approx_10)\n",
        "simple_regret_exact_10 = min_max_array(regret_exact_10)\n",
        "\n",
        "min_simple_regret_approx_10 = min(simple_regret_approx_10)\n",
        "min_simple_regret_exact_10 = min(simple_regret_exact_10)\n",
        "\n",
        "min_simple_regret_approx_10, min_simple_regret_exact_10"
      ]
    },
    {
      "cell_type": "code",
      "execution_count": 65,
      "metadata": {
        "id": "d-FGzWyHQxfu",
        "colab": {
          "base_uri": "https://localhost:8080/"
        },
        "outputId": "6113e2a7-6018-4ac2-adba-bf3db8a43da5"
      },
      "outputs": [
        {
          "output_type": "execute_result",
          "data": {
            "text/plain": [
              "(2.152034925752869, 2.3683499168354514)"
            ]
          },
          "metadata": {},
          "execution_count": 65
        }
      ],
      "source": [
        "### Simple regret minimization: run number = 11\n",
        "\n",
        "approx_output_11 = np.append(np.min(-approx_11.GP.y[0:n_init]),-approx_11.GP.y[n_init:(n_init+iters)]) \n",
        "exact_output_11 = np.append(np.min(-exact_11.GP.y[0:n_init]),-exact_11.GP.y[n_init:(n_init+iters)]) \n",
        "\n",
        "regret_approx_11 = np.log(approx_output_11 - y_global_orig)\n",
        "regret_exact_11 = np.log(exact_output_11 - y_global_orig)\n",
        "\n",
        "simple_regret_approx_11 = min_max_array(regret_approx_11)\n",
        "simple_regret_exact_11 = min_max_array(regret_exact_11)\n",
        "\n",
        "min_simple_regret_approx_11 = min(simple_regret_approx_11)\n",
        "min_simple_regret_exact_11 = min(simple_regret_exact_11)\n",
        "\n",
        "min_simple_regret_approx_11, min_simple_regret_exact_11"
      ]
    },
    {
      "cell_type": "code",
      "execution_count": 66,
      "metadata": {
        "id": "SvtsssyjQxfv",
        "colab": {
          "base_uri": "https://localhost:8080/"
        },
        "outputId": "00d2c5a3-0ec9-4e64-e849-4f216e85afa6"
      },
      "outputs": [
        {
          "output_type": "execute_result",
          "data": {
            "text/plain": [
              "(2.2096306584146355, 2.679656202706227)"
            ]
          },
          "metadata": {},
          "execution_count": 66
        }
      ],
      "source": [
        "### Simple regret minimization: run number = 12\n",
        "\n",
        "approx_output_12 = np.append(np.min(-approx_12.GP.y[0:n_init]),-approx_12.GP.y[n_init:(n_init+iters)]) \n",
        "exact_output_12 = np.append(np.min(-exact_12.GP.y[0:n_init]),-exact_12.GP.y[n_init:(n_init+iters)]) \n",
        "\n",
        "regret_approx_12 = np.log(approx_output_12 - y_global_orig)\n",
        "regret_exact_12 = np.log(exact_output_12 - y_global_orig)\n",
        "\n",
        "simple_regret_approx_12 = min_max_array(regret_approx_12)\n",
        "simple_regret_exact_12 = min_max_array(regret_exact_12)\n",
        "\n",
        "min_simple_regret_approx_12 = min(simple_regret_approx_12)\n",
        "min_simple_regret_exact_12 = min(simple_regret_exact_12)\n",
        "\n",
        "min_simple_regret_approx_12, min_simple_regret_exact_12"
      ]
    },
    {
      "cell_type": "code",
      "execution_count": 67,
      "metadata": {
        "id": "K6OiGcHkQxfw",
        "colab": {
          "base_uri": "https://localhost:8080/"
        },
        "outputId": "3e9e175a-00b3-4454-9cfc-22527a02be11"
      },
      "outputs": [
        {
          "output_type": "execute_result",
          "data": {
            "text/plain": [
              "(2.759561029420595, 1.7118406464831557)"
            ]
          },
          "metadata": {},
          "execution_count": 67
        }
      ],
      "source": [
        "### Simple regret minimization: run number = 13\n",
        "\n",
        "approx_output_13 = np.append(np.min(-approx_13.GP.y[0:n_init]),-approx_13.GP.y[n_init:(n_init+iters)]) \n",
        "exact_output_13 = np.append(np.min(-exact_13.GP.y[0:n_init]),-exact_13.GP.y[n_init:(n_init+iters)]) \n",
        "\n",
        "regret_approx_13 = np.log(approx_output_13 - y_global_orig)\n",
        "regret_exact_13 = np.log(exact_output_13 - y_global_orig)\n",
        "\n",
        "simple_regret_approx_13 = min_max_array(regret_approx_13)\n",
        "simple_regret_exact_13 = min_max_array(regret_exact_13)\n",
        "\n",
        "min_simple_regret_approx_13 = min(simple_regret_approx_13)\n",
        "min_simple_regret_exact_13 = min(simple_regret_exact_13)\n",
        "\n",
        "min_simple_regret_approx_13, min_simple_regret_exact_13"
      ]
    },
    {
      "cell_type": "code",
      "execution_count": 68,
      "metadata": {
        "id": "ogML73shQxfx",
        "colab": {
          "base_uri": "https://localhost:8080/"
        },
        "outputId": "69a62b08-dd4f-4368-a0fc-d10e064b9bda"
      },
      "outputs": [
        {
          "output_type": "execute_result",
          "data": {
            "text/plain": [
              "(2.3440953566682032, 2.3440953566682032)"
            ]
          },
          "metadata": {},
          "execution_count": 68
        }
      ],
      "source": [
        "### Simple regret minimization: run number = 14\n",
        "\n",
        "approx_output_14 = np.append(np.min(-approx_14.GP.y[0:n_init]),-approx_14.GP.y[n_init:(n_init+iters)]) \n",
        "exact_output_14 = np.append(np.min(-exact_14.GP.y[0:n_init]),-exact_14.GP.y[n_init:(n_init+iters)]) \n",
        "\n",
        "regret_approx_14 = np.log(approx_output_14 - y_global_orig)\n",
        "regret_exact_14 = np.log(exact_output_14 - y_global_orig)\n",
        "\n",
        "simple_regret_approx_14 = min_max_array(regret_approx_14)\n",
        "simple_regret_exact_14 = min_max_array(regret_exact_14)\n",
        "\n",
        "min_simple_regret_approx_14 = min(simple_regret_approx_14)\n",
        "min_simple_regret_exact_14 = min(simple_regret_exact_14)\n",
        "\n",
        "min_simple_regret_approx_14, min_simple_regret_exact_14"
      ]
    },
    {
      "cell_type": "code",
      "execution_count": 69,
      "metadata": {
        "id": "9Eg7gFT9Qxfx",
        "colab": {
          "base_uri": "https://localhost:8080/"
        },
        "outputId": "1883a1df-4b28-4502-90a1-20a0e7606d54"
      },
      "outputs": [
        {
          "output_type": "execute_result",
          "data": {
            "text/plain": [
              "(2.078286539213237, 2.078286539213237)"
            ]
          },
          "metadata": {},
          "execution_count": 69
        }
      ],
      "source": [
        "### Simple regret minimization: run number = 15\n",
        "\n",
        "approx_output_15 = np.append(np.min(-approx_15.GP.y[0:n_init]),-approx_15.GP.y[n_init:(n_init+iters)]) \n",
        "exact_output_15 = np.append(np.min(-exact_15.GP.y[0:n_init]),-exact_15.GP.y[n_init:(n_init+iters)]) \n",
        "\n",
        "regret_approx_15 = np.log(approx_output_15 - y_global_orig)\n",
        "regret_exact_15 = np.log(exact_output_15 - y_global_orig)\n",
        "\n",
        "simple_regret_approx_15 = min_max_array(regret_approx_15)\n",
        "simple_regret_exact_15 = min_max_array(regret_exact_15)\n",
        "\n",
        "min_simple_regret_approx_15 = min(simple_regret_approx_15)\n",
        "min_simple_regret_exact_15 = min(simple_regret_exact_15)\n",
        "\n",
        "min_simple_regret_approx_15, min_simple_regret_exact_15"
      ]
    },
    {
      "cell_type": "code",
      "execution_count": 70,
      "metadata": {
        "id": "lIAC1U7ZQxfy",
        "colab": {
          "base_uri": "https://localhost:8080/"
        },
        "outputId": "a3f1a0f4-45c2-4ddc-ed12-ff8a1c5eb8ec"
      },
      "outputs": [
        {
          "output_type": "execute_result",
          "data": {
            "text/plain": [
              "(3.103334979217682, 2.50330381657554)"
            ]
          },
          "metadata": {},
          "execution_count": 70
        }
      ],
      "source": [
        "### Simple regret minimization: run number = 16\n",
        "\n",
        "approx_output_16 = np.append(np.min(-approx_16.GP.y[0:n_init]),-approx_16.GP.y[n_init:(n_init+iters)]) \n",
        "exact_output_16 = np.append(np.min(-exact_16.GP.y[0:n_init]),-exact_16.GP.y[n_init:(n_init+iters)]) \n",
        "\n",
        "regret_approx_16 = np.log(approx_output_16 - y_global_orig)\n",
        "regret_exact_16 = np.log(exact_output_16 - y_global_orig)\n",
        "\n",
        "simple_regret_approx_16 = min_max_array(regret_approx_16)\n",
        "simple_regret_exact_16 = min_max_array(regret_exact_16)\n",
        "\n",
        "min_simple_regret_approx_16 = min(simple_regret_approx_16)\n",
        "min_simple_regret_exact_16 = min(simple_regret_exact_16)\n",
        "\n",
        "min_simple_regret_approx_16, min_simple_regret_exact_16"
      ]
    },
    {
      "cell_type": "code",
      "execution_count": 71,
      "metadata": {
        "id": "bGott36OQxfz",
        "colab": {
          "base_uri": "https://localhost:8080/"
        },
        "outputId": "16da72c6-f9a4-4d07-84c7-e08b12823bd7"
      },
      "outputs": [
        {
          "output_type": "execute_result",
          "data": {
            "text/plain": [
              "(2.459115200457475, 2.1886860382988744)"
            ]
          },
          "metadata": {},
          "execution_count": 71
        }
      ],
      "source": [
        "### Simple regret minimization: run number = 17\n",
        "\n",
        "approx_output_17 = np.append(np.min(-approx_17.GP.y[0:n_init]),-approx_17.GP.y[n_init:(n_init+iters)]) \n",
        "exact_output_17 = np.append(np.min(-exact_17.GP.y[0:n_init]),-exact_17.GP.y[n_init:(n_init+iters)]) \n",
        "\n",
        "regret_approx_17 = np.log(approx_output_17 - y_global_orig)\n",
        "regret_exact_17 = np.log(exact_output_17 - y_global_orig)\n",
        "\n",
        "simple_regret_approx_17 = min_max_array(regret_approx_17)\n",
        "simple_regret_exact_17 = min_max_array(regret_exact_17)\n",
        "\n",
        "min_simple_regret_approx_17 = min(simple_regret_approx_17)\n",
        "min_simple_regret_exact_17 = min(simple_regret_exact_17)\n",
        "\n",
        "min_simple_regret_approx_17, min_simple_regret_exact_17"
      ]
    },
    {
      "cell_type": "code",
      "execution_count": 72,
      "metadata": {
        "id": "Cz9ZYMBMQxfz",
        "colab": {
          "base_uri": "https://localhost:8080/"
        },
        "outputId": "2f76d6f4-2635-4d55-aed0-0ece5aae3c3c"
      },
      "outputs": [
        {
          "output_type": "execute_result",
          "data": {
            "text/plain": [
              "(2.540917357953141, 1.8204770515329742)"
            ]
          },
          "metadata": {},
          "execution_count": 72
        }
      ],
      "source": [
        "### Simple regret minimization: run number = 18\n",
        "\n",
        "approx_output_18 = np.append(np.min(-approx_18.GP.y[0:n_init]),-approx_18.GP.y[n_init:(n_init+iters)]) \n",
        "exact_output_18 = np.append(np.min(-exact_18.GP.y[0:n_init]),-exact_18.GP.y[n_init:(n_init+iters)]) \n",
        "\n",
        "regret_approx_18 = np.log(approx_output_18 - y_global_orig)\n",
        "regret_exact_18 = np.log(exact_output_18 - y_global_orig)\n",
        "\n",
        "simple_regret_approx_18 = min_max_array(regret_approx_18)\n",
        "simple_regret_exact_18 = min_max_array(regret_exact_18)\n",
        "\n",
        "min_simple_regret_approx_18 = min(simple_regret_approx_18)\n",
        "min_simple_regret_exact_18 = min(simple_regret_exact_18)\n",
        "\n",
        "min_simple_regret_approx_18, min_simple_regret_exact_18"
      ]
    },
    {
      "cell_type": "code",
      "execution_count": 73,
      "metadata": {
        "id": "OBfpWOHNQxf0",
        "colab": {
          "base_uri": "https://localhost:8080/"
        },
        "outputId": "ad7230a7-44bf-4691-8715-62249f79c981"
      },
      "outputs": [
        {
          "output_type": "execute_result",
          "data": {
            "text/plain": [
              "(2.9978156826675844, 2.610316389726852)"
            ]
          },
          "metadata": {},
          "execution_count": 73
        }
      ],
      "source": [
        "### Simple regret minimization: run number = 19\n",
        "\n",
        "approx_output_19 = np.append(np.min(-approx_19.GP.y[0:n_init]),-approx_19.GP.y[n_init:(n_init+iters)]) \n",
        "exact_output_19 = np.append(np.min(-exact_19.GP.y[0:n_init]),-exact_19.GP.y[n_init:(n_init+iters)]) \n",
        "\n",
        "regret_approx_19 = np.log(approx_output_19 - y_global_orig)\n",
        "regret_exact_19 = np.log(exact_output_19 - y_global_orig)\n",
        "\n",
        "simple_regret_approx_19 = min_max_array(regret_approx_19)\n",
        "simple_regret_exact_19 = min_max_array(regret_exact_19)\n",
        "\n",
        "min_simple_regret_approx_19 = min(simple_regret_approx_19)\n",
        "min_simple_regret_exact_19 = min(simple_regret_exact_19)\n",
        "\n",
        "min_simple_regret_approx_19, min_simple_regret_exact_19"
      ]
    },
    {
      "cell_type": "code",
      "execution_count": 74,
      "metadata": {
        "id": "BE1AJ7NsQxf0",
        "colab": {
          "base_uri": "https://localhost:8080/"
        },
        "outputId": "b69a5c22-7a3c-4348-9e86-6282035bb20d"
      },
      "outputs": [
        {
          "output_type": "execute_result",
          "data": {
            "text/plain": [
              "(2.819155978849279, 2.738805880413265)"
            ]
          },
          "metadata": {},
          "execution_count": 74
        }
      ],
      "source": [
        "### Simple regret minimization: run number = 20\n",
        "\n",
        "approx_output_20 = np.append(np.min(-approx_20.GP.y[0:n_init]),-approx_20.GP.y[n_init:(n_init+iters)]) \n",
        "exact_output_20 = np.append(np.min(-exact_20.GP.y[0:n_init]),-exact_20.GP.y[n_init:(n_init+iters)]) \n",
        "\n",
        "regret_approx_20 = np.log(approx_output_20 - y_global_orig)\n",
        "regret_exact_20 = np.log(exact_output_20 - y_global_orig)\n",
        "\n",
        "simple_regret_approx_20 = min_max_array(regret_approx_20)\n",
        "simple_regret_exact_20 = min_max_array(regret_exact_20)\n",
        "\n",
        "min_simple_regret_approx_20 = min(simple_regret_approx_20)\n",
        "min_simple_regret_exact_20 = min(simple_regret_exact_20)\n",
        "\n",
        "min_simple_regret_approx_20, min_simple_regret_exact_20"
      ]
    },
    {
      "cell_type": "code",
      "execution_count": 75,
      "metadata": {
        "id": "bpX-bKAHQxf1"
      },
      "outputs": [],
      "source": [
        "# Iteration1 :\n",
        "\n",
        "slice1 = 0\n",
        "\n",
        "approx1 = [simple_regret_approx_1[slice1],\n",
        "       simple_regret_approx_2[slice1],\n",
        "       simple_regret_approx_3[slice1],\n",
        "       simple_regret_approx_4[slice1],\n",
        "       simple_regret_approx_5[slice1],\n",
        "       simple_regret_approx_6[slice1],\n",
        "       simple_regret_approx_7[slice1],\n",
        "       simple_regret_approx_8[slice1],\n",
        "       simple_regret_approx_9[slice1],\n",
        "       simple_regret_approx_10[slice1],\n",
        "       simple_regret_approx_11[slice1],\n",
        "       simple_regret_approx_12[slice1],\n",
        "       simple_regret_approx_13[slice1],\n",
        "       simple_regret_approx_14[slice1],\n",
        "       simple_regret_approx_15[slice1],\n",
        "       simple_regret_approx_16[slice1],\n",
        "       simple_regret_approx_17[slice1],\n",
        "       simple_regret_approx_18[slice1],\n",
        "       simple_regret_approx_19[slice1],\n",
        "       simple_regret_approx_20[slice1]]\n",
        "\n",
        "exact1 = [simple_regret_exact_1[slice1],\n",
        "       simple_regret_exact_2[slice1],\n",
        "       simple_regret_exact_3[slice1],\n",
        "       simple_regret_exact_4[slice1],\n",
        "       simple_regret_exact_5[slice1],\n",
        "       simple_regret_exact_6[slice1],\n",
        "       simple_regret_exact_7[slice1],\n",
        "       simple_regret_exact_8[slice1],\n",
        "       simple_regret_exact_9[slice1],\n",
        "       simple_regret_exact_10[slice1],\n",
        "       simple_regret_exact_11[slice1],\n",
        "       simple_regret_exact_12[slice1],\n",
        "       simple_regret_exact_13[slice1],\n",
        "       simple_regret_exact_14[slice1],\n",
        "       simple_regret_exact_15[slice1],\n",
        "       simple_regret_exact_16[slice1],\n",
        "       simple_regret_exact_17[slice1],\n",
        "       simple_regret_exact_18[slice1],\n",
        "       simple_regret_exact_19[slice1],\n",
        "       simple_regret_exact_20[slice1]]\n",
        "\n",
        "approx1_results = pd.DataFrame(approx1).sort_values(by=[0], ascending=False)\n",
        "exact1_results = pd.DataFrame(exact1).sort_values(by=[0], ascending=False)\n",
        "\n",
        "### Best simple regret minimization IQR - approx:\n",
        "lower_approx1 = np.asarray(approx1_results[4:5][0])[0]\n",
        "median_approx1 = np.asarray(approx1_results[9:10][0])[0]\n",
        "upper_approx1 = np.asarray(approx1_results[14:15][0])[0]\n",
        "\n",
        "lower_exact1 = np.asarray(exact1_results[4:5][0])[0]\n",
        "median_exact1 = np.asarray(exact1_results[9:10][0])[0]\n",
        "upper_exact1 = np.asarray(exact1_results[14:15][0])[0]"
      ]
    },
    {
      "cell_type": "code",
      "execution_count": 76,
      "metadata": {
        "id": "CgIkJA1xQxf2"
      },
      "outputs": [],
      "source": [
        "# Iteration11 :\n",
        "\n",
        "slice11 = 10\n",
        "\n",
        "approx11 = [simple_regret_approx_1[slice11],\n",
        "       simple_regret_approx_2[slice11],\n",
        "       simple_regret_approx_3[slice11],\n",
        "       simple_regret_approx_4[slice11],\n",
        "       simple_regret_approx_5[slice11],\n",
        "       simple_regret_approx_6[slice11],\n",
        "       simple_regret_approx_7[slice11],\n",
        "       simple_regret_approx_8[slice11],\n",
        "       simple_regret_approx_9[slice11],\n",
        "       simple_regret_approx_10[slice11],\n",
        "       simple_regret_approx_11[slice11],\n",
        "       simple_regret_approx_12[slice11],\n",
        "       simple_regret_approx_13[slice11],\n",
        "       simple_regret_approx_14[slice11],\n",
        "       simple_regret_approx_15[slice11],\n",
        "       simple_regret_approx_16[slice11],\n",
        "       simple_regret_approx_17[slice11],\n",
        "       simple_regret_approx_18[slice11],\n",
        "       simple_regret_approx_19[slice11],\n",
        "       simple_regret_approx_20[slice11]]\n",
        "\n",
        "exact11 = [simple_regret_exact_1[slice11],\n",
        "       simple_regret_exact_2[slice11],\n",
        "       simple_regret_exact_3[slice11],\n",
        "       simple_regret_exact_4[slice11],\n",
        "       simple_regret_exact_5[slice11],\n",
        "       simple_regret_exact_6[slice11],\n",
        "       simple_regret_exact_7[slice11],\n",
        "       simple_regret_exact_8[slice11],\n",
        "       simple_regret_exact_9[slice11],\n",
        "       simple_regret_exact_10[slice11],\n",
        "       simple_regret_exact_11[slice11],\n",
        "       simple_regret_exact_12[slice11],\n",
        "       simple_regret_exact_13[slice11],\n",
        "       simple_regret_exact_14[slice11],\n",
        "       simple_regret_exact_15[slice11],\n",
        "       simple_regret_exact_16[slice11],\n",
        "       simple_regret_exact_17[slice11],\n",
        "       simple_regret_exact_18[slice11],\n",
        "       simple_regret_exact_19[slice11],\n",
        "       simple_regret_exact_20[slice11]]\n",
        "\n",
        "approx11_results = pd.DataFrame(approx11).sort_values(by=[0], ascending=False)\n",
        "exact11_results = pd.DataFrame(exact11).sort_values(by=[0], ascending=False)\n",
        "\n",
        "### Best simple regret minimization IQR - approx:\n",
        "lower_approx11 = np.asarray(approx11_results[4:5][0])[0]\n",
        "median_approx11 = np.asarray(approx11_results[9:10][0])[0]\n",
        "upper_approx11 = np.asarray(approx11_results[14:15][0])[0]\n",
        "\n",
        "lower_exact11 = np.asarray(exact11_results[4:5][0])[0]\n",
        "median_exact11 = np.asarray(exact11_results[9:10][0])[0]\n",
        "upper_exact11 = np.asarray(exact11_results[14:15][0])[0]"
      ]
    },
    {
      "cell_type": "code",
      "execution_count": 77,
      "metadata": {
        "id": "MFePDfGuQxf2"
      },
      "outputs": [],
      "source": [
        "# Iteration21 :\n",
        "\n",
        "slice21 = 20\n",
        "\n",
        "approx21 = [simple_regret_approx_1[slice21],\n",
        "       simple_regret_approx_2[slice21],\n",
        "       simple_regret_approx_3[slice21],\n",
        "       simple_regret_approx_4[slice21],\n",
        "       simple_regret_approx_5[slice21],\n",
        "       simple_regret_approx_6[slice21],\n",
        "       simple_regret_approx_7[slice21],\n",
        "       simple_regret_approx_8[slice21],\n",
        "       simple_regret_approx_9[slice21],\n",
        "       simple_regret_approx_10[slice21],\n",
        "       simple_regret_approx_11[slice21],\n",
        "       simple_regret_approx_12[slice21],\n",
        "       simple_regret_approx_13[slice21],\n",
        "       simple_regret_approx_14[slice21],\n",
        "       simple_regret_approx_15[slice21],\n",
        "       simple_regret_approx_16[slice21],\n",
        "       simple_regret_approx_17[slice21],\n",
        "       simple_regret_approx_18[slice21],\n",
        "       simple_regret_approx_19[slice21],\n",
        "       simple_regret_approx_20[slice21]]\n",
        "\n",
        "exact21 = [simple_regret_exact_1[slice21],\n",
        "       simple_regret_exact_2[slice21],\n",
        "       simple_regret_exact_3[slice21],\n",
        "       simple_regret_exact_4[slice21],\n",
        "       simple_regret_exact_5[slice21],\n",
        "       simple_regret_exact_6[slice21],\n",
        "       simple_regret_exact_7[slice21],\n",
        "       simple_regret_exact_8[slice21],\n",
        "       simple_regret_exact_9[slice21],\n",
        "       simple_regret_exact_10[slice21],\n",
        "       simple_regret_exact_11[slice21],\n",
        "       simple_regret_exact_12[slice21],\n",
        "       simple_regret_exact_13[slice21],\n",
        "       simple_regret_exact_14[slice21],\n",
        "       simple_regret_exact_15[slice21],\n",
        "       simple_regret_exact_16[slice21],\n",
        "       simple_regret_exact_17[slice21],\n",
        "       simple_regret_exact_18[slice21],\n",
        "       simple_regret_exact_19[slice21],\n",
        "       simple_regret_exact_20[slice21]]\n",
        "\n",
        "approx21_results = pd.DataFrame(approx21).sort_values(by=[0], ascending=False)\n",
        "exact21_results = pd.DataFrame(exact21).sort_values(by=[0], ascending=False)\n",
        "\n",
        "### Best simple regret minimization IQR - approx:\n",
        "lower_approx21 = np.asarray(approx21_results[4:5][0])[0]\n",
        "median_approx21 = np.asarray(approx21_results[9:10][0])[0]\n",
        "upper_approx21 = np.asarray(approx21_results[14:15][0])[0]\n",
        "\n",
        "lower_exact21 = np.asarray(exact21_results[4:5][0])[0]\n",
        "median_exact21 = np.asarray(exact21_results[9:10][0])[0]\n",
        "upper_exact21 = np.asarray(exact21_results[14:15][0])[0]"
      ]
    },
    {
      "cell_type": "code",
      "execution_count": 78,
      "metadata": {
        "id": "PrRDB1kfQxf3"
      },
      "outputs": [],
      "source": [
        "# Iteration2 :\n",
        "\n",
        "slice2 = 1\n",
        "\n",
        "approx2 = [simple_regret_approx_1[slice2],\n",
        "       simple_regret_approx_2[slice2],\n",
        "       simple_regret_approx_3[slice2],\n",
        "       simple_regret_approx_4[slice2],\n",
        "       simple_regret_approx_5[slice2],\n",
        "       simple_regret_approx_6[slice2],\n",
        "       simple_regret_approx_7[slice2],\n",
        "       simple_regret_approx_8[slice2],\n",
        "       simple_regret_approx_9[slice2],\n",
        "       simple_regret_approx_10[slice2],\n",
        "       simple_regret_approx_11[slice2],\n",
        "       simple_regret_approx_12[slice2],\n",
        "       simple_regret_approx_13[slice2],\n",
        "       simple_regret_approx_14[slice2],\n",
        "       simple_regret_approx_15[slice2],\n",
        "       simple_regret_approx_16[slice2],\n",
        "       simple_regret_approx_17[slice2],\n",
        "       simple_regret_approx_18[slice2],\n",
        "       simple_regret_approx_19[slice2],\n",
        "       simple_regret_approx_20[slice2]]\n",
        "\n",
        "exact2 = [simple_regret_exact_1[slice2],\n",
        "       simple_regret_exact_2[slice2],\n",
        "       simple_regret_exact_3[slice2],\n",
        "       simple_regret_exact_4[slice2],\n",
        "       simple_regret_exact_5[slice2],\n",
        "       simple_regret_exact_6[slice2],\n",
        "       simple_regret_exact_7[slice2],\n",
        "       simple_regret_exact_8[slice2],\n",
        "       simple_regret_exact_9[slice2],\n",
        "       simple_regret_exact_10[slice2],\n",
        "       simple_regret_exact_11[slice2],\n",
        "       simple_regret_exact_12[slice2],\n",
        "       simple_regret_exact_13[slice2],\n",
        "       simple_regret_exact_14[slice2],\n",
        "       simple_regret_exact_15[slice2],\n",
        "       simple_regret_exact_16[slice2],\n",
        "       simple_regret_exact_17[slice2],\n",
        "       simple_regret_exact_18[slice2],\n",
        "       simple_regret_exact_19[slice2],\n",
        "       simple_regret_exact_20[slice2]]\n",
        "\n",
        "approx2_results = pd.DataFrame(approx2).sort_values(by=[0], ascending=False)\n",
        "exact2_results = pd.DataFrame(exact2).sort_values(by=[0], ascending=False)\n",
        "\n",
        "### Best simple regret minimization IQR - approx:\n",
        "lower_approx2 = np.asarray(approx2_results[4:5][0])[0]\n",
        "median_approx2 = np.asarray(approx2_results[9:10][0])[0]\n",
        "upper_approx2 = np.asarray(approx2_results[14:15][0])[0]\n",
        "\n",
        "lower_exact2 = np.asarray(exact2_results[4:5][0])[0]\n",
        "median_exact2 = np.asarray(exact2_results[9:10][0])[0]\n",
        "upper_exact2 = np.asarray(exact2_results[14:15][0])[0]"
      ]
    },
    {
      "cell_type": "code",
      "execution_count": 79,
      "metadata": {
        "id": "B8ncJDYeQxf3"
      },
      "outputs": [],
      "source": [
        "# Iteration12 :\n",
        "\n",
        "slice12 = 11\n",
        "\n",
        "approx12 = [simple_regret_approx_1[slice12],\n",
        "       simple_regret_approx_2[slice12],\n",
        "       simple_regret_approx_3[slice12],\n",
        "       simple_regret_approx_4[slice12],\n",
        "       simple_regret_approx_5[slice12],\n",
        "       simple_regret_approx_6[slice12],\n",
        "       simple_regret_approx_7[slice12],\n",
        "       simple_regret_approx_8[slice12],\n",
        "       simple_regret_approx_9[slice12],\n",
        "       simple_regret_approx_10[slice12],\n",
        "       simple_regret_approx_11[slice12],\n",
        "       simple_regret_approx_12[slice12],\n",
        "       simple_regret_approx_13[slice12],\n",
        "       simple_regret_approx_14[slice12],\n",
        "       simple_regret_approx_15[slice12],\n",
        "       simple_regret_approx_16[slice12],\n",
        "       simple_regret_approx_17[slice12],\n",
        "       simple_regret_approx_18[slice12],\n",
        "       simple_regret_approx_19[slice12],\n",
        "       simple_regret_approx_20[slice12]]\n",
        "\n",
        "exact12 = [simple_regret_exact_1[slice12],\n",
        "       simple_regret_exact_2[slice12],\n",
        "       simple_regret_exact_3[slice12],\n",
        "       simple_regret_exact_4[slice12],\n",
        "       simple_regret_exact_5[slice12],\n",
        "       simple_regret_exact_6[slice12],\n",
        "       simple_regret_exact_7[slice12],\n",
        "       simple_regret_exact_8[slice12],\n",
        "       simple_regret_exact_9[slice12],\n",
        "       simple_regret_exact_10[slice12],\n",
        "       simple_regret_exact_11[slice12],\n",
        "       simple_regret_exact_12[slice12],\n",
        "       simple_regret_exact_13[slice12],\n",
        "       simple_regret_exact_14[slice12],\n",
        "       simple_regret_exact_15[slice12],\n",
        "       simple_regret_exact_16[slice12],\n",
        "       simple_regret_exact_17[slice12],\n",
        "       simple_regret_exact_18[slice12],\n",
        "       simple_regret_exact_19[slice12],\n",
        "       simple_regret_exact_20[slice12]]\n",
        "\n",
        "approx12_results = pd.DataFrame(approx12).sort_values(by=[0], ascending=False)\n",
        "exact12_results = pd.DataFrame(exact12).sort_values(by=[0], ascending=False)\n",
        "\n",
        "### Best simple regret minimization IQR - approx:\n",
        "lower_approx12 = np.asarray(approx12_results[4:5][0])[0]\n",
        "median_approx12 = np.asarray(approx12_results[9:10][0])[0]\n",
        "upper_approx12 = np.asarray(approx12_results[14:15][0])[0]\n",
        "\n",
        "lower_exact12 = np.asarray(exact12_results[4:5][0])[0]\n",
        "median_exact12 = np.asarray(exact12_results[9:10][0])[0]\n",
        "upper_exact12 = np.asarray(exact12_results[14:15][0])[0]"
      ]
    },
    {
      "cell_type": "code",
      "execution_count": 80,
      "metadata": {
        "id": "Jn4KpGvcQxf4"
      },
      "outputs": [],
      "source": [
        "# Iteration3 :\n",
        "\n",
        "slice3 = 2\n",
        "\n",
        "approx3 = [simple_regret_approx_1[slice3],\n",
        "       simple_regret_approx_2[slice3],\n",
        "       simple_regret_approx_3[slice3],\n",
        "       simple_regret_approx_4[slice3],\n",
        "       simple_regret_approx_5[slice3],\n",
        "       simple_regret_approx_6[slice3],\n",
        "       simple_regret_approx_7[slice3],\n",
        "       simple_regret_approx_8[slice3],\n",
        "       simple_regret_approx_9[slice3],\n",
        "       simple_regret_approx_10[slice3],\n",
        "       simple_regret_approx_11[slice3],\n",
        "       simple_regret_approx_12[slice3],\n",
        "       simple_regret_approx_13[slice3],\n",
        "       simple_regret_approx_14[slice3],\n",
        "       simple_regret_approx_15[slice3],\n",
        "       simple_regret_approx_16[slice3],\n",
        "       simple_regret_approx_17[slice3],\n",
        "       simple_regret_approx_18[slice3],\n",
        "       simple_regret_approx_19[slice3],\n",
        "       simple_regret_approx_20[slice3]]\n",
        "\n",
        "exact3 = [simple_regret_exact_1[slice3],\n",
        "       simple_regret_exact_2[slice3],\n",
        "       simple_regret_exact_3[slice3],\n",
        "       simple_regret_exact_4[slice3],\n",
        "       simple_regret_exact_5[slice3],\n",
        "       simple_regret_exact_6[slice3],\n",
        "       simple_regret_exact_7[slice3],\n",
        "       simple_regret_exact_8[slice3],\n",
        "       simple_regret_exact_9[slice3],\n",
        "       simple_regret_exact_10[slice3],\n",
        "       simple_regret_exact_11[slice3],\n",
        "       simple_regret_exact_12[slice3],\n",
        "       simple_regret_exact_13[slice3],\n",
        "       simple_regret_exact_14[slice3],\n",
        "       simple_regret_exact_15[slice3],\n",
        "       simple_regret_exact_16[slice3],\n",
        "       simple_regret_exact_17[slice3],\n",
        "       simple_regret_exact_18[slice3],\n",
        "       simple_regret_exact_19[slice3],\n",
        "       simple_regret_exact_20[slice3]]\n",
        "\n",
        "approx3_results = pd.DataFrame(approx3).sort_values(by=[0], ascending=False)\n",
        "exact3_results = pd.DataFrame(exact3).sort_values(by=[0], ascending=False)\n",
        "\n",
        "### Best simple regret minimization IQR - approx:\n",
        "lower_approx3 = np.asarray(approx3_results[4:5][0])[0]\n",
        "median_approx3 = np.asarray(approx3_results[9:10][0])[0]\n",
        "upper_approx3 = np.asarray(approx3_results[14:15][0])[0]\n",
        "\n",
        "lower_exact3 = np.asarray(exact3_results[4:5][0])[0]\n",
        "median_exact3 = np.asarray(exact3_results[9:10][0])[0]\n",
        "upper_exact3 = np.asarray(exact3_results[14:15][0])[0]"
      ]
    },
    {
      "cell_type": "code",
      "execution_count": 81,
      "metadata": {
        "id": "plf83wxrQxf4"
      },
      "outputs": [],
      "source": [
        "# Iteration13 :\n",
        "\n",
        "slice13 = 12\n",
        "\n",
        "approx13 = [simple_regret_approx_1[slice13],\n",
        "       simple_regret_approx_2[slice13],\n",
        "       simple_regret_approx_3[slice13],\n",
        "       simple_regret_approx_4[slice13],\n",
        "       simple_regret_approx_5[slice13],\n",
        "       simple_regret_approx_6[slice13],\n",
        "       simple_regret_approx_7[slice13],\n",
        "       simple_regret_approx_8[slice13],\n",
        "       simple_regret_approx_9[slice13],\n",
        "       simple_regret_approx_10[slice13],\n",
        "       simple_regret_approx_11[slice13],\n",
        "       simple_regret_approx_12[slice13],\n",
        "       simple_regret_approx_13[slice13],\n",
        "       simple_regret_approx_14[slice13],\n",
        "       simple_regret_approx_15[slice13],\n",
        "       simple_regret_approx_16[slice13],\n",
        "       simple_regret_approx_17[slice13],\n",
        "       simple_regret_approx_18[slice13],\n",
        "       simple_regret_approx_19[slice13],\n",
        "       simple_regret_approx_20[slice13]]\n",
        "\n",
        "exact13 = [simple_regret_exact_1[slice13],\n",
        "       simple_regret_exact_2[slice13],\n",
        "       simple_regret_exact_3[slice13],\n",
        "       simple_regret_exact_4[slice13],\n",
        "       simple_regret_exact_5[slice13],\n",
        "       simple_regret_exact_6[slice13],\n",
        "       simple_regret_exact_7[slice13],\n",
        "       simple_regret_exact_8[slice13],\n",
        "       simple_regret_exact_9[slice13],\n",
        "       simple_regret_exact_10[slice13],\n",
        "       simple_regret_exact_11[slice13],\n",
        "       simple_regret_exact_12[slice13],\n",
        "       simple_regret_exact_13[slice13],\n",
        "       simple_regret_exact_14[slice13],\n",
        "       simple_regret_exact_15[slice13],\n",
        "       simple_regret_exact_16[slice13],\n",
        "       simple_regret_exact_17[slice13],\n",
        "       simple_regret_exact_18[slice13],\n",
        "       simple_regret_exact_19[slice13],\n",
        "       simple_regret_exact_20[slice13]]\n",
        "\n",
        "approx13_results = pd.DataFrame(approx13).sort_values(by=[0], ascending=False)\n",
        "exact13_results = pd.DataFrame(exact13).sort_values(by=[0], ascending=False)\n",
        "\n",
        "### Best simple regret minimization IQR - approx:\n",
        "lower_approx13 = np.asarray(approx13_results[4:5][0])[0]\n",
        "median_approx13 = np.asarray(approx13_results[9:10][0])[0]\n",
        "upper_approx13 = np.asarray(approx13_results[14:15][0])[0]\n",
        "\n",
        "lower_exact13 = np.asarray(exact13_results[4:5][0])[0]\n",
        "median_exact13 = np.asarray(exact13_results[9:10][0])[0]\n",
        "upper_exact13 = np.asarray(exact13_results[14:15][0])[0]"
      ]
    },
    {
      "cell_type": "code",
      "execution_count": 82,
      "metadata": {
        "id": "9A7mlVvJQxf5"
      },
      "outputs": [],
      "source": [
        "# Iteration4 :\n",
        "\n",
        "slice4 = 3\n",
        "\n",
        "approx4 = [simple_regret_approx_1[slice4],\n",
        "       simple_regret_approx_2[slice4],\n",
        "       simple_regret_approx_3[slice4],\n",
        "       simple_regret_approx_4[slice4],\n",
        "       simple_regret_approx_5[slice4],\n",
        "       simple_regret_approx_6[slice4],\n",
        "       simple_regret_approx_7[slice4],\n",
        "       simple_regret_approx_8[slice4],\n",
        "       simple_regret_approx_9[slice4],\n",
        "       simple_regret_approx_10[slice4],\n",
        "       simple_regret_approx_11[slice4],\n",
        "       simple_regret_approx_12[slice4],\n",
        "       simple_regret_approx_13[slice4],\n",
        "       simple_regret_approx_14[slice4],\n",
        "       simple_regret_approx_15[slice4],\n",
        "       simple_regret_approx_16[slice4],\n",
        "       simple_regret_approx_17[slice4],\n",
        "       simple_regret_approx_18[slice4],\n",
        "       simple_regret_approx_19[slice4],\n",
        "       simple_regret_approx_20[slice4]]\n",
        "\n",
        "exact4 = [simple_regret_exact_1[slice4],\n",
        "       simple_regret_exact_2[slice4],\n",
        "       simple_regret_exact_3[slice4],\n",
        "       simple_regret_exact_4[slice4],\n",
        "       simple_regret_exact_5[slice4],\n",
        "       simple_regret_exact_6[slice4],\n",
        "       simple_regret_exact_7[slice4],\n",
        "       simple_regret_exact_8[slice4],\n",
        "       simple_regret_exact_9[slice4],\n",
        "       simple_regret_exact_10[slice4],\n",
        "       simple_regret_exact_11[slice4],\n",
        "       simple_regret_exact_12[slice4],\n",
        "       simple_regret_exact_13[slice4],\n",
        "       simple_regret_exact_14[slice4],\n",
        "       simple_regret_exact_15[slice4],\n",
        "       simple_regret_exact_16[slice4],\n",
        "       simple_regret_exact_17[slice4],\n",
        "       simple_regret_exact_18[slice4],\n",
        "       simple_regret_exact_19[slice4],\n",
        "       simple_regret_exact_20[slice4]]\n",
        "\n",
        "approx4_results = pd.DataFrame(approx4).sort_values(by=[0], ascending=False)\n",
        "exact4_results = pd.DataFrame(exact4).sort_values(by=[0], ascending=False)\n",
        "\n",
        "### Best simple regret minimization IQR - approx:\n",
        "lower_approx4 = np.asarray(approx4_results[4:5][0])[0]\n",
        "median_approx4 = np.asarray(approx4_results[9:10][0])[0]\n",
        "upper_approx4 = np.asarray(approx4_results[14:15][0])[0]\n",
        "\n",
        "lower_exact4 = np.asarray(exact4_results[4:5][0])[0]\n",
        "median_exact4 = np.asarray(exact4_results[9:10][0])[0]\n",
        "upper_exact4 = np.asarray(exact4_results[14:15][0])[0]"
      ]
    },
    {
      "cell_type": "code",
      "execution_count": 83,
      "metadata": {
        "id": "ijq-rioYQxf5"
      },
      "outputs": [],
      "source": [
        "# Iteration14 :\n",
        "\n",
        "slice14 = 13\n",
        "\n",
        "approx14 = [simple_regret_approx_1[slice14],\n",
        "       simple_regret_approx_2[slice14],\n",
        "       simple_regret_approx_3[slice14],\n",
        "       simple_regret_approx_4[slice14],\n",
        "       simple_regret_approx_5[slice14],\n",
        "       simple_regret_approx_6[slice14],\n",
        "       simple_regret_approx_7[slice14],\n",
        "       simple_regret_approx_8[slice14],\n",
        "       simple_regret_approx_9[slice14],\n",
        "       simple_regret_approx_10[slice14],\n",
        "       simple_regret_approx_11[slice14],\n",
        "       simple_regret_approx_12[slice14],\n",
        "       simple_regret_approx_13[slice14],\n",
        "       simple_regret_approx_14[slice14],\n",
        "       simple_regret_approx_15[slice14],\n",
        "       simple_regret_approx_16[slice14],\n",
        "       simple_regret_approx_17[slice14],\n",
        "       simple_regret_approx_18[slice14],\n",
        "       simple_regret_approx_19[slice14],\n",
        "       simple_regret_approx_20[slice14]]\n",
        "\n",
        "exact14 = [simple_regret_exact_1[slice14],\n",
        "       simple_regret_exact_2[slice14],\n",
        "       simple_regret_exact_3[slice14],\n",
        "       simple_regret_exact_4[slice14],\n",
        "       simple_regret_exact_5[slice14],\n",
        "       simple_regret_exact_6[slice14],\n",
        "       simple_regret_exact_7[slice14],\n",
        "       simple_regret_exact_8[slice14],\n",
        "       simple_regret_exact_9[slice14],\n",
        "       simple_regret_exact_10[slice14],\n",
        "       simple_regret_exact_11[slice14],\n",
        "       simple_regret_exact_12[slice14],\n",
        "       simple_regret_exact_13[slice14],\n",
        "       simple_regret_exact_14[slice14],\n",
        "       simple_regret_exact_15[slice14],\n",
        "       simple_regret_exact_16[slice14],\n",
        "       simple_regret_exact_17[slice14],\n",
        "       simple_regret_exact_18[slice14],\n",
        "       simple_regret_exact_19[slice14],\n",
        "       simple_regret_exact_20[slice14]]\n",
        "\n",
        "approx14_results = pd.DataFrame(approx14).sort_values(by=[0], ascending=False)\n",
        "exact14_results = pd.DataFrame(exact14).sort_values(by=[0], ascending=False)\n",
        "\n",
        "### Best simple regret minimization IQR - approx:\n",
        "lower_approx14 = np.asarray(approx14_results[4:5][0])[0]\n",
        "median_approx14 = np.asarray(approx14_results[9:10][0])[0]\n",
        "upper_approx14 = np.asarray(approx14_results[14:15][0])[0]\n",
        "\n",
        "lower_exact14 = np.asarray(exact14_results[4:5][0])[0]\n",
        "median_exact14 = np.asarray(exact14_results[9:10][0])[0]\n",
        "upper_exact14 = np.asarray(exact14_results[14:15][0])[0]"
      ]
    },
    {
      "cell_type": "code",
      "execution_count": 84,
      "metadata": {
        "id": "XINlZjoTd-ZK"
      },
      "outputs": [],
      "source": [
        "# Iteration5 :\n",
        "\n",
        "slice5 = 4\n",
        "\n",
        "approx5 = [simple_regret_approx_1[slice5],\n",
        "       simple_regret_approx_2[slice5],\n",
        "       simple_regret_approx_3[slice5],\n",
        "       simple_regret_approx_4[slice5],\n",
        "       simple_regret_approx_5[slice5],\n",
        "       simple_regret_approx_6[slice5],\n",
        "       simple_regret_approx_7[slice5],\n",
        "       simple_regret_approx_8[slice5],\n",
        "       simple_regret_approx_9[slice5],\n",
        "       simple_regret_approx_10[slice5],\n",
        "       simple_regret_approx_11[slice5],\n",
        "       simple_regret_approx_12[slice5],\n",
        "       simple_regret_approx_13[slice5],\n",
        "       simple_regret_approx_14[slice5],\n",
        "       simple_regret_approx_15[slice5],\n",
        "       simple_regret_approx_16[slice5],\n",
        "       simple_regret_approx_17[slice5],\n",
        "       simple_regret_approx_18[slice5],\n",
        "       simple_regret_approx_19[slice5],\n",
        "       simple_regret_approx_20[slice5]]\n",
        "\n",
        "exact5 = [simple_regret_exact_1[slice5],\n",
        "       simple_regret_exact_2[slice5],\n",
        "       simple_regret_exact_3[slice5],\n",
        "       simple_regret_exact_4[slice5],\n",
        "       simple_regret_exact_5[slice5],\n",
        "       simple_regret_exact_6[slice5],\n",
        "       simple_regret_exact_7[slice5],\n",
        "       simple_regret_exact_8[slice5],\n",
        "       simple_regret_exact_9[slice5],\n",
        "       simple_regret_exact_10[slice5],\n",
        "       simple_regret_exact_11[slice5],\n",
        "       simple_regret_exact_12[slice5],\n",
        "       simple_regret_exact_13[slice5],\n",
        "       simple_regret_exact_14[slice5],\n",
        "       simple_regret_exact_15[slice5],\n",
        "       simple_regret_exact_16[slice5],\n",
        "       simple_regret_exact_17[slice5],\n",
        "       simple_regret_exact_18[slice5],\n",
        "       simple_regret_exact_19[slice5],\n",
        "       simple_regret_exact_20[slice5]]\n",
        "\n",
        "approx5_results = pd.DataFrame(approx5).sort_values(by=[0], ascending=False)\n",
        "exact5_results = pd.DataFrame(exact5).sort_values(by=[0], ascending=False)\n",
        "\n",
        "### Best simple regret minimization IQR - approx:\n",
        "lower_approx5 = np.asarray(approx5_results[4:5][0])[0]\n",
        "median_approx5 = np.asarray(approx5_results[9:10][0])[0]\n",
        "upper_approx5 = np.asarray(approx5_results[14:15][0])[0]\n",
        "\n",
        "lower_exact5 = np.asarray(exact5_results[4:5][0])[0]\n",
        "median_exact5 = np.asarray(exact5_results[9:10][0])[0]\n",
        "upper_exact5 = np.asarray(exact5_results[14:15][0])[0]"
      ]
    },
    {
      "cell_type": "code",
      "execution_count": 85,
      "metadata": {
        "id": "4aZ7C8sOQxf6"
      },
      "outputs": [],
      "source": [
        "# Iteration15 :\n",
        "\n",
        "slice15 = 14\n",
        "\n",
        "approx15 = [simple_regret_approx_1[slice15],\n",
        "       simple_regret_approx_2[slice15],\n",
        "       simple_regret_approx_3[slice15],\n",
        "       simple_regret_approx_4[slice15],\n",
        "       simple_regret_approx_5[slice15],\n",
        "       simple_regret_approx_6[slice15],\n",
        "       simple_regret_approx_7[slice15],\n",
        "       simple_regret_approx_8[slice15],\n",
        "       simple_regret_approx_9[slice15],\n",
        "       simple_regret_approx_10[slice15],\n",
        "       simple_regret_approx_11[slice15],\n",
        "       simple_regret_approx_12[slice15],\n",
        "       simple_regret_approx_13[slice15],\n",
        "       simple_regret_approx_14[slice15],\n",
        "       simple_regret_approx_15[slice15],\n",
        "       simple_regret_approx_16[slice15],\n",
        "       simple_regret_approx_17[slice15],\n",
        "       simple_regret_approx_18[slice15],\n",
        "       simple_regret_approx_19[slice15],\n",
        "       simple_regret_approx_20[slice15]]\n",
        "\n",
        "exact15 = [simple_regret_exact_1[slice15],\n",
        "       simple_regret_exact_2[slice15],\n",
        "       simple_regret_exact_3[slice15],\n",
        "       simple_regret_exact_4[slice15],\n",
        "       simple_regret_exact_5[slice15],\n",
        "       simple_regret_exact_6[slice15],\n",
        "       simple_regret_exact_7[slice15],\n",
        "       simple_regret_exact_8[slice15],\n",
        "       simple_regret_exact_9[slice15],\n",
        "       simple_regret_exact_10[slice15],\n",
        "       simple_regret_exact_11[slice15],\n",
        "       simple_regret_exact_12[slice15],\n",
        "       simple_regret_exact_13[slice15],\n",
        "       simple_regret_exact_14[slice15],\n",
        "       simple_regret_exact_15[slice15],\n",
        "       simple_regret_exact_16[slice15],\n",
        "       simple_regret_exact_17[slice15],\n",
        "       simple_regret_exact_18[slice15],\n",
        "       simple_regret_exact_19[slice15],\n",
        "       simple_regret_exact_20[slice15]]\n",
        "\n",
        "approx15_results = pd.DataFrame(approx15).sort_values(by=[0], ascending=False)\n",
        "exact15_results = pd.DataFrame(exact15).sort_values(by=[0], ascending=False)\n",
        "\n",
        "### Best simple regret minimization IQR - approx:\n",
        "lower_approx15 = np.asarray(approx15_results[4:5][0])[0]\n",
        "median_approx15 = np.asarray(approx15_results[9:10][0])[0]\n",
        "upper_approx15 = np.asarray(approx15_results[14:15][0])[0]\n",
        "\n",
        "lower_exact15 = np.asarray(exact15_results[4:5][0])[0]\n",
        "median_exact15 = np.asarray(exact15_results[9:10][0])[0]\n",
        "upper_exact15 = np.asarray(exact15_results[14:15][0])[0]"
      ]
    },
    {
      "cell_type": "code",
      "execution_count": 86,
      "metadata": {
        "id": "KJINKhv1Qxf6"
      },
      "outputs": [],
      "source": [
        "# Iteration6 :\n",
        "\n",
        "slice6 = 5\n",
        "\n",
        "approx6 = [simple_regret_approx_1[slice6],\n",
        "       simple_regret_approx_2[slice6],\n",
        "       simple_regret_approx_3[slice6],\n",
        "       simple_regret_approx_4[slice6],\n",
        "       simple_regret_approx_5[slice6],\n",
        "       simple_regret_approx_6[slice6],\n",
        "       simple_regret_approx_7[slice6],\n",
        "       simple_regret_approx_8[slice6],\n",
        "       simple_regret_approx_9[slice6],\n",
        "       simple_regret_approx_10[slice6],\n",
        "       simple_regret_approx_11[slice6],\n",
        "       simple_regret_approx_12[slice6],\n",
        "       simple_regret_approx_13[slice6],\n",
        "       simple_regret_approx_14[slice6],\n",
        "       simple_regret_approx_15[slice6],\n",
        "       simple_regret_approx_16[slice6],\n",
        "       simple_regret_approx_17[slice6],\n",
        "       simple_regret_approx_18[slice6],\n",
        "       simple_regret_approx_19[slice6],\n",
        "       simple_regret_approx_20[slice6]]\n",
        "\n",
        "exact6 = [simple_regret_exact_1[slice6],\n",
        "       simple_regret_exact_2[slice6],\n",
        "       simple_regret_exact_3[slice6],\n",
        "       simple_regret_exact_4[slice6],\n",
        "       simple_regret_exact_5[slice6],\n",
        "       simple_regret_exact_6[slice6],\n",
        "       simple_regret_exact_7[slice6],\n",
        "       simple_regret_exact_8[slice6],\n",
        "       simple_regret_exact_9[slice6],\n",
        "       simple_regret_exact_10[slice6],\n",
        "       simple_regret_exact_11[slice6],\n",
        "       simple_regret_exact_12[slice6],\n",
        "       simple_regret_exact_13[slice6],\n",
        "       simple_regret_exact_14[slice6],\n",
        "       simple_regret_exact_15[slice6],\n",
        "       simple_regret_exact_16[slice6],\n",
        "       simple_regret_exact_17[slice6],\n",
        "       simple_regret_exact_18[slice6],\n",
        "       simple_regret_exact_19[slice6],\n",
        "       simple_regret_exact_20[slice6]]\n",
        "\n",
        "approx6_results = pd.DataFrame(approx6).sort_values(by=[0], ascending=False)\n",
        "exact6_results = pd.DataFrame(exact6).sort_values(by=[0], ascending=False)\n",
        "\n",
        "### Best simple regret minimization IQR - approx:\n",
        "lower_approx6 = np.asarray(approx6_results[4:5][0])[0]\n",
        "median_approx6 = np.asarray(approx6_results[9:10][0])[0]\n",
        "upper_approx6 = np.asarray(approx6_results[14:15][0])[0]\n",
        "\n",
        "lower_exact6 = np.asarray(exact6_results[4:5][0])[0]\n",
        "median_exact6 = np.asarray(exact6_results[9:10][0])[0]\n",
        "upper_exact6 = np.asarray(exact6_results[14:15][0])[0]"
      ]
    },
    {
      "cell_type": "code",
      "execution_count": 87,
      "metadata": {
        "id": "nwC5N1FsQxf7"
      },
      "outputs": [],
      "source": [
        "# Iteration16 :\n",
        "\n",
        "slice16 = 15\n",
        "\n",
        "approx16 = [simple_regret_approx_1[slice16],\n",
        "       simple_regret_approx_2[slice16],\n",
        "       simple_regret_approx_3[slice16],\n",
        "       simple_regret_approx_4[slice16],\n",
        "       simple_regret_approx_5[slice16],\n",
        "       simple_regret_approx_6[slice16],\n",
        "       simple_regret_approx_7[slice16],\n",
        "       simple_regret_approx_8[slice16],\n",
        "       simple_regret_approx_9[slice16],\n",
        "       simple_regret_approx_10[slice16],\n",
        "       simple_regret_approx_11[slice16],\n",
        "       simple_regret_approx_12[slice16],\n",
        "       simple_regret_approx_13[slice16],\n",
        "       simple_regret_approx_14[slice16],\n",
        "       simple_regret_approx_15[slice16],\n",
        "       simple_regret_approx_16[slice16],\n",
        "       simple_regret_approx_17[slice16],\n",
        "       simple_regret_approx_18[slice16],\n",
        "       simple_regret_approx_19[slice16],\n",
        "       simple_regret_approx_20[slice16]]\n",
        "\n",
        "exact16 = [simple_regret_exact_1[slice16],\n",
        "       simple_regret_exact_2[slice16],\n",
        "       simple_regret_exact_3[slice16],\n",
        "       simple_regret_exact_4[slice16],\n",
        "       simple_regret_exact_5[slice16],\n",
        "       simple_regret_exact_6[slice16],\n",
        "       simple_regret_exact_7[slice16],\n",
        "       simple_regret_exact_8[slice16],\n",
        "       simple_regret_exact_9[slice16],\n",
        "       simple_regret_exact_10[slice16],\n",
        "       simple_regret_exact_11[slice16],\n",
        "       simple_regret_exact_12[slice16],\n",
        "       simple_regret_exact_13[slice16],\n",
        "       simple_regret_exact_14[slice16],\n",
        "       simple_regret_exact_15[slice16],\n",
        "       simple_regret_exact_16[slice16],\n",
        "       simple_regret_exact_17[slice16],\n",
        "       simple_regret_exact_18[slice16],\n",
        "       simple_regret_exact_19[slice16],\n",
        "       simple_regret_exact_20[slice16]]\n",
        "\n",
        "approx16_results = pd.DataFrame(approx16).sort_values(by=[0], ascending=False)\n",
        "exact16_results = pd.DataFrame(exact16).sort_values(by=[0], ascending=False)\n",
        "\n",
        "### Best simple regret minimization IQR - approx:\n",
        "lower_approx16 = np.asarray(approx16_results[4:5][0])[0]\n",
        "median_approx16 = np.asarray(approx16_results[9:10][0])[0]\n",
        "upper_approx16 = np.asarray(approx16_results[14:15][0])[0]\n",
        "\n",
        "lower_exact16 = np.asarray(exact16_results[4:5][0])[0]\n",
        "median_exact16 = np.asarray(exact16_results[9:10][0])[0]\n",
        "upper_exact16 = np.asarray(exact16_results[14:15][0])[0]"
      ]
    },
    {
      "cell_type": "code",
      "execution_count": 88,
      "metadata": {
        "id": "TrPV0AfnQxf7"
      },
      "outputs": [],
      "source": [
        "# Iteration7 :\n",
        "\n",
        "slice7 = 6\n",
        "\n",
        "approx7 = [simple_regret_approx_1[slice7],\n",
        "       simple_regret_approx_2[slice7],\n",
        "       simple_regret_approx_3[slice7],\n",
        "       simple_regret_approx_4[slice7],\n",
        "       simple_regret_approx_5[slice7],\n",
        "       simple_regret_approx_6[slice7],\n",
        "       simple_regret_approx_7[slice7],\n",
        "       simple_regret_approx_8[slice7],\n",
        "       simple_regret_approx_9[slice7],\n",
        "       simple_regret_approx_10[slice7],\n",
        "       simple_regret_approx_11[slice7],\n",
        "       simple_regret_approx_12[slice7],\n",
        "       simple_regret_approx_13[slice7],\n",
        "       simple_regret_approx_14[slice7],\n",
        "       simple_regret_approx_15[slice7],\n",
        "       simple_regret_approx_16[slice7],\n",
        "       simple_regret_approx_17[slice7],\n",
        "       simple_regret_approx_18[slice7],\n",
        "       simple_regret_approx_19[slice7],\n",
        "       simple_regret_approx_20[slice7]]\n",
        "\n",
        "exact7 = [simple_regret_exact_1[slice7],\n",
        "       simple_regret_exact_2[slice7],\n",
        "       simple_regret_exact_3[slice7],\n",
        "       simple_regret_exact_4[slice7],\n",
        "       simple_regret_exact_5[slice7],\n",
        "       simple_regret_exact_6[slice7],\n",
        "       simple_regret_exact_7[slice7],\n",
        "       simple_regret_exact_8[slice7],\n",
        "       simple_regret_exact_9[slice7],\n",
        "       simple_regret_exact_10[slice7],\n",
        "       simple_regret_exact_11[slice7],\n",
        "       simple_regret_exact_12[slice7],\n",
        "       simple_regret_exact_13[slice7],\n",
        "       simple_regret_exact_14[slice7],\n",
        "       simple_regret_exact_15[slice7],\n",
        "       simple_regret_exact_16[slice7],\n",
        "       simple_regret_exact_17[slice7],\n",
        "       simple_regret_exact_18[slice7],\n",
        "       simple_regret_exact_19[slice7],\n",
        "       simple_regret_exact_20[slice7]]\n",
        "\n",
        "approx7_results = pd.DataFrame(approx7).sort_values(by=[0], ascending=False)\n",
        "exact7_results = pd.DataFrame(exact7).sort_values(by=[0], ascending=False)\n",
        "\n",
        "### Best simple regret minimization IQR - approx:\n",
        "lower_approx7 = np.asarray(approx7_results[4:5][0])[0]\n",
        "median_approx7 = np.asarray(approx7_results[9:10][0])[0]\n",
        "upper_approx7 = np.asarray(approx7_results[14:15][0])[0]\n",
        "\n",
        "lower_exact7 = np.asarray(exact7_results[4:5][0])[0]\n",
        "median_exact7 = np.asarray(exact7_results[9:10][0])[0]\n",
        "upper_exact7 = np.asarray(exact7_results[14:15][0])[0]"
      ]
    },
    {
      "cell_type": "code",
      "execution_count": 89,
      "metadata": {
        "id": "Ub_-wpK4Qxf8"
      },
      "outputs": [],
      "source": [
        "# Iteration17 :\n",
        "\n",
        "slice17 = 16\n",
        "\n",
        "approx17 = [simple_regret_approx_1[slice17],\n",
        "       simple_regret_approx_2[slice17],\n",
        "       simple_regret_approx_3[slice17],\n",
        "       simple_regret_approx_4[slice17],\n",
        "       simple_regret_approx_5[slice17],\n",
        "       simple_regret_approx_6[slice17],\n",
        "       simple_regret_approx_7[slice17],\n",
        "       simple_regret_approx_8[slice17],\n",
        "       simple_regret_approx_9[slice17],\n",
        "       simple_regret_approx_10[slice17],\n",
        "       simple_regret_approx_11[slice17],\n",
        "       simple_regret_approx_12[slice17],\n",
        "       simple_regret_approx_13[slice17],\n",
        "       simple_regret_approx_14[slice17],\n",
        "       simple_regret_approx_15[slice17],\n",
        "       simple_regret_approx_16[slice17],\n",
        "       simple_regret_approx_17[slice17],\n",
        "       simple_regret_approx_18[slice17],\n",
        "       simple_regret_approx_19[slice17],\n",
        "       simple_regret_approx_20[slice17]]\n",
        "\n",
        "exact17 = [simple_regret_exact_1[slice17],\n",
        "       simple_regret_exact_2[slice17],\n",
        "       simple_regret_exact_3[slice17],\n",
        "       simple_regret_exact_4[slice17],\n",
        "       simple_regret_exact_5[slice17],\n",
        "       simple_regret_exact_6[slice17],\n",
        "       simple_regret_exact_7[slice17],\n",
        "       simple_regret_exact_8[slice17],\n",
        "       simple_regret_exact_9[slice17],\n",
        "       simple_regret_exact_10[slice17],\n",
        "       simple_regret_exact_11[slice17],\n",
        "       simple_regret_exact_12[slice17],\n",
        "       simple_regret_exact_13[slice17],\n",
        "       simple_regret_exact_14[slice17],\n",
        "       simple_regret_exact_15[slice17],\n",
        "       simple_regret_exact_16[slice17],\n",
        "       simple_regret_exact_17[slice17],\n",
        "       simple_regret_exact_18[slice17],\n",
        "       simple_regret_exact_19[slice17],\n",
        "       simple_regret_exact_20[slice17]]\n",
        "\n",
        "approx17_results = pd.DataFrame(approx17).sort_values(by=[0], ascending=False)\n",
        "exact17_results = pd.DataFrame(exact17).sort_values(by=[0], ascending=False)\n",
        "\n",
        "### Best simple regret minimization IQR - approx:\n",
        "lower_approx17 = np.asarray(approx17_results[4:5][0])[0]\n",
        "median_approx17 = np.asarray(approx17_results[9:10][0])[0]\n",
        "upper_approx17 = np.asarray(approx17_results[14:15][0])[0]\n",
        "\n",
        "lower_exact17 = np.asarray(exact17_results[4:5][0])[0]\n",
        "median_exact17 = np.asarray(exact17_results[9:10][0])[0]\n",
        "upper_exact17 = np.asarray(exact17_results[14:15][0])[0]"
      ]
    },
    {
      "cell_type": "code",
      "execution_count": 90,
      "metadata": {
        "id": "-6VLo37PQxf8"
      },
      "outputs": [],
      "source": [
        "# Iteration8 :\n",
        "\n",
        "slice8 = 7\n",
        "\n",
        "approx8 = [simple_regret_approx_1[slice8],\n",
        "       simple_regret_approx_2[slice8],\n",
        "       simple_regret_approx_3[slice8],\n",
        "       simple_regret_approx_4[slice8],\n",
        "       simple_regret_approx_5[slice8],\n",
        "       simple_regret_approx_6[slice8],\n",
        "       simple_regret_approx_7[slice8],\n",
        "       simple_regret_approx_8[slice8],\n",
        "       simple_regret_approx_9[slice8],\n",
        "       simple_regret_approx_10[slice8],\n",
        "       simple_regret_approx_11[slice8],\n",
        "       simple_regret_approx_12[slice8],\n",
        "       simple_regret_approx_13[slice8],\n",
        "       simple_regret_approx_14[slice8],\n",
        "       simple_regret_approx_15[slice8],\n",
        "       simple_regret_approx_16[slice8],\n",
        "       simple_regret_approx_17[slice8],\n",
        "       simple_regret_approx_18[slice8],\n",
        "       simple_regret_approx_19[slice8],\n",
        "       simple_regret_approx_20[slice8]]\n",
        "\n",
        "exact8 = [simple_regret_exact_1[slice8],\n",
        "       simple_regret_exact_2[slice8],\n",
        "       simple_regret_exact_3[slice8],\n",
        "       simple_regret_exact_4[slice8],\n",
        "       simple_regret_exact_5[slice8],\n",
        "       simple_regret_exact_6[slice8],\n",
        "       simple_regret_exact_7[slice8],\n",
        "       simple_regret_exact_8[slice8],\n",
        "       simple_regret_exact_9[slice8],\n",
        "       simple_regret_exact_10[slice8],\n",
        "       simple_regret_exact_11[slice8],\n",
        "       simple_regret_exact_12[slice8],\n",
        "       simple_regret_exact_13[slice8],\n",
        "       simple_regret_exact_14[slice8],\n",
        "       simple_regret_exact_15[slice8],\n",
        "       simple_regret_exact_16[slice8],\n",
        "       simple_regret_exact_17[slice8],\n",
        "       simple_regret_exact_18[slice8],\n",
        "       simple_regret_exact_19[slice8],\n",
        "       simple_regret_exact_20[slice8]]\n",
        "\n",
        "approx8_results = pd.DataFrame(approx8).sort_values(by=[0], ascending=False)\n",
        "exact8_results = pd.DataFrame(exact8).sort_values(by=[0], ascending=False)\n",
        "\n",
        "### Best simple regret minimization IQR - approx:\n",
        "lower_approx8 = np.asarray(approx8_results[4:5][0])[0]\n",
        "median_approx8 = np.asarray(approx8_results[9:10][0])[0]\n",
        "upper_approx8 = np.asarray(approx8_results[14:15][0])[0]\n",
        "\n",
        "lower_exact8 = np.asarray(exact8_results[4:5][0])[0]\n",
        "median_exact8 = np.asarray(exact8_results[9:10][0])[0]\n",
        "upper_exact8 = np.asarray(exact8_results[14:15][0])[0]"
      ]
    },
    {
      "cell_type": "code",
      "execution_count": 91,
      "metadata": {
        "id": "2Dp-9CC2Qxf9"
      },
      "outputs": [],
      "source": [
        "# Iteration18 :\n",
        "\n",
        "slice18 = 17\n",
        "\n",
        "approx18 = [simple_regret_approx_1[slice18],\n",
        "       simple_regret_approx_2[slice18],\n",
        "       simple_regret_approx_3[slice18],\n",
        "       simple_regret_approx_4[slice18],\n",
        "       simple_regret_approx_5[slice18],\n",
        "       simple_regret_approx_6[slice18],\n",
        "       simple_regret_approx_7[slice18],\n",
        "       simple_regret_approx_8[slice18],\n",
        "       simple_regret_approx_9[slice18],\n",
        "       simple_regret_approx_10[slice18],\n",
        "       simple_regret_approx_11[slice18],\n",
        "       simple_regret_approx_12[slice18],\n",
        "       simple_regret_approx_13[slice18],\n",
        "       simple_regret_approx_14[slice18],\n",
        "       simple_regret_approx_15[slice18],\n",
        "       simple_regret_approx_16[slice18],\n",
        "       simple_regret_approx_17[slice18],\n",
        "       simple_regret_approx_18[slice18],\n",
        "       simple_regret_approx_19[slice18],\n",
        "       simple_regret_approx_20[slice18]]\n",
        "\n",
        "exact18 = [simple_regret_exact_1[slice18],\n",
        "       simple_regret_exact_2[slice18],\n",
        "       simple_regret_exact_3[slice18],\n",
        "       simple_regret_exact_4[slice18],\n",
        "       simple_regret_exact_5[slice18],\n",
        "       simple_regret_exact_6[slice18],\n",
        "       simple_regret_exact_7[slice18],\n",
        "       simple_regret_exact_8[slice18],\n",
        "       simple_regret_exact_9[slice18],\n",
        "       simple_regret_exact_10[slice18],\n",
        "       simple_regret_exact_11[slice18],\n",
        "       simple_regret_exact_12[slice18],\n",
        "       simple_regret_exact_13[slice18],\n",
        "       simple_regret_exact_14[slice18],\n",
        "       simple_regret_exact_15[slice18],\n",
        "       simple_regret_exact_16[slice18],\n",
        "       simple_regret_exact_17[slice18],\n",
        "       simple_regret_exact_18[slice18],\n",
        "       simple_regret_exact_19[slice18],\n",
        "       simple_regret_exact_20[slice18]]\n",
        "\n",
        "approx18_results = pd.DataFrame(approx18).sort_values(by=[0], ascending=False)\n",
        "exact18_results = pd.DataFrame(exact18).sort_values(by=[0], ascending=False)\n",
        "\n",
        "### Best simple regret minimization IQR - approx:\n",
        "lower_approx18 = np.asarray(approx18_results[4:5][0])[0]\n",
        "median_approx18 = np.asarray(approx18_results[9:10][0])[0]\n",
        "upper_approx18 = np.asarray(approx18_results[14:15][0])[0]\n",
        "\n",
        "lower_exact18 = np.asarray(exact18_results[4:5][0])[0]\n",
        "median_exact18 = np.asarray(exact18_results[9:10][0])[0]\n",
        "upper_exact18 = np.asarray(exact18_results[14:15][0])[0]"
      ]
    },
    {
      "cell_type": "code",
      "execution_count": 92,
      "metadata": {
        "id": "SqiaOpB7Qxf9"
      },
      "outputs": [],
      "source": [
        "# Iteration9 :\n",
        "\n",
        "slice9 = 8\n",
        "\n",
        "approx9 = [simple_regret_approx_1[slice9],\n",
        "       simple_regret_approx_2[slice9],\n",
        "       simple_regret_approx_3[slice9],\n",
        "       simple_regret_approx_4[slice9],\n",
        "       simple_regret_approx_5[slice9],\n",
        "       simple_regret_approx_6[slice9],\n",
        "       simple_regret_approx_7[slice9],\n",
        "       simple_regret_approx_8[slice9],\n",
        "       simple_regret_approx_9[slice9],\n",
        "       simple_regret_approx_10[slice9],\n",
        "       simple_regret_approx_11[slice9],\n",
        "       simple_regret_approx_12[slice9],\n",
        "       simple_regret_approx_13[slice9],\n",
        "       simple_regret_approx_14[slice9],\n",
        "       simple_regret_approx_15[slice9],\n",
        "       simple_regret_approx_16[slice9],\n",
        "       simple_regret_approx_17[slice9],\n",
        "       simple_regret_approx_18[slice9],\n",
        "       simple_regret_approx_19[slice9],\n",
        "       simple_regret_approx_20[slice9]]\n",
        "\n",
        "exact9 = [simple_regret_exact_1[slice9],\n",
        "       simple_regret_exact_2[slice9],\n",
        "       simple_regret_exact_3[slice9],\n",
        "       simple_regret_exact_4[slice9],\n",
        "       simple_regret_exact_5[slice9],\n",
        "       simple_regret_exact_6[slice9],\n",
        "       simple_regret_exact_7[slice9],\n",
        "       simple_regret_exact_8[slice9],\n",
        "       simple_regret_exact_9[slice9],\n",
        "       simple_regret_exact_10[slice9],\n",
        "       simple_regret_exact_11[slice9],\n",
        "       simple_regret_exact_12[slice9],\n",
        "       simple_regret_exact_13[slice9],\n",
        "       simple_regret_exact_14[slice9],\n",
        "       simple_regret_exact_15[slice9],\n",
        "       simple_regret_exact_16[slice9],\n",
        "       simple_regret_exact_17[slice9],\n",
        "       simple_regret_exact_18[slice9],\n",
        "       simple_regret_exact_19[slice9],\n",
        "       simple_regret_exact_20[slice9]]\n",
        "\n",
        "approx9_results = pd.DataFrame(approx9).sort_values(by=[0], ascending=False)\n",
        "exact9_results = pd.DataFrame(exact9).sort_values(by=[0], ascending=False)\n",
        "\n",
        "### Best simple regret minimization IQR - approx:\n",
        "lower_approx9 = np.asarray(approx9_results[4:5][0])[0]\n",
        "median_approx9 = np.asarray(approx9_results[9:10][0])[0]\n",
        "upper_approx9 = np.asarray(approx9_results[14:15][0])[0]\n",
        "\n",
        "lower_exact9 = np.asarray(exact9_results[4:5][0])[0]\n",
        "median_exact9 = np.asarray(exact9_results[9:10][0])[0]\n",
        "upper_exact9 = np.asarray(exact9_results[14:15][0])[0]"
      ]
    },
    {
      "cell_type": "code",
      "execution_count": 93,
      "metadata": {
        "id": "OQkCCOsPQxf9"
      },
      "outputs": [],
      "source": [
        "# Iteration19 :\n",
        "\n",
        "slice19 = 18\n",
        "\n",
        "approx19 = [simple_regret_approx_1[slice19],\n",
        "       simple_regret_approx_2[slice19],\n",
        "       simple_regret_approx_3[slice19],\n",
        "       simple_regret_approx_4[slice19],\n",
        "       simple_regret_approx_5[slice19],\n",
        "       simple_regret_approx_6[slice19],\n",
        "       simple_regret_approx_7[slice19],\n",
        "       simple_regret_approx_8[slice19],\n",
        "       simple_regret_approx_9[slice19],\n",
        "       simple_regret_approx_10[slice19],\n",
        "       simple_regret_approx_11[slice19],\n",
        "       simple_regret_approx_12[slice19],\n",
        "       simple_regret_approx_13[slice19],\n",
        "       simple_regret_approx_14[slice19],\n",
        "       simple_regret_approx_15[slice19],\n",
        "       simple_regret_approx_16[slice19],\n",
        "       simple_regret_approx_17[slice19],\n",
        "       simple_regret_approx_18[slice19],\n",
        "       simple_regret_approx_19[slice19],\n",
        "       simple_regret_approx_20[slice19]]\n",
        "\n",
        "exact19 = [simple_regret_exact_1[slice19],\n",
        "       simple_regret_exact_2[slice19],\n",
        "       simple_regret_exact_3[slice19],\n",
        "       simple_regret_exact_4[slice19],\n",
        "       simple_regret_exact_5[slice19],\n",
        "       simple_regret_exact_6[slice19],\n",
        "       simple_regret_exact_7[slice19],\n",
        "       simple_regret_exact_8[slice19],\n",
        "       simple_regret_exact_9[slice19],\n",
        "       simple_regret_exact_10[slice19],\n",
        "       simple_regret_exact_11[slice19],\n",
        "       simple_regret_exact_12[slice19],\n",
        "       simple_regret_exact_13[slice19],\n",
        "       simple_regret_exact_14[slice19],\n",
        "       simple_regret_exact_15[slice19],\n",
        "       simple_regret_exact_16[slice19],\n",
        "       simple_regret_exact_17[slice19],\n",
        "       simple_regret_exact_18[slice19],\n",
        "       simple_regret_exact_19[slice19],\n",
        "       simple_regret_exact_20[slice19]]\n",
        "\n",
        "approx19_results = pd.DataFrame(approx19).sort_values(by=[0], ascending=False)\n",
        "exact19_results = pd.DataFrame(exact19).sort_values(by=[0], ascending=False)\n",
        "\n",
        "### Best simple regret minimization IQR - approx:\n",
        "lower_approx19 = np.asarray(approx19_results[4:5][0])[0]\n",
        "median_approx19 = np.asarray(approx19_results[9:10][0])[0]\n",
        "upper_approx19 = np.asarray(approx19_results[14:15][0])[0]\n",
        "\n",
        "lower_exact19 = np.asarray(exact19_results[4:5][0])[0]\n",
        "median_exact19 = np.asarray(exact19_results[9:10][0])[0]\n",
        "upper_exact19 = np.asarray(exact19_results[14:15][0])[0]"
      ]
    },
    {
      "cell_type": "code",
      "execution_count": 94,
      "metadata": {
        "id": "h4vtWahcQxf-"
      },
      "outputs": [],
      "source": [
        "# Iteration10 :\n",
        "\n",
        "slice10 = 9\n",
        "\n",
        "approx10 = [simple_regret_approx_1[slice10],\n",
        "       simple_regret_approx_2[slice10],\n",
        "       simple_regret_approx_3[slice10],\n",
        "       simple_regret_approx_4[slice10],\n",
        "       simple_regret_approx_5[slice10],\n",
        "       simple_regret_approx_6[slice10],\n",
        "       simple_regret_approx_7[slice10],\n",
        "       simple_regret_approx_8[slice10],\n",
        "       simple_regret_approx_9[slice10],\n",
        "       simple_regret_approx_10[slice10],\n",
        "       simple_regret_approx_11[slice10],\n",
        "       simple_regret_approx_12[slice10],\n",
        "       simple_regret_approx_13[slice10],\n",
        "       simple_regret_approx_14[slice10],\n",
        "       simple_regret_approx_15[slice10],\n",
        "       simple_regret_approx_16[slice10],\n",
        "       simple_regret_approx_17[slice10],\n",
        "       simple_regret_approx_18[slice10],\n",
        "       simple_regret_approx_19[slice10],\n",
        "       simple_regret_approx_20[slice10]]\n",
        "\n",
        "exact10 = [simple_regret_exact_1[slice10],\n",
        "       simple_regret_exact_2[slice10],\n",
        "       simple_regret_exact_3[slice10],\n",
        "       simple_regret_exact_4[slice10],\n",
        "       simple_regret_exact_5[slice10],\n",
        "       simple_regret_exact_6[slice10],\n",
        "       simple_regret_exact_7[slice10],\n",
        "       simple_regret_exact_8[slice10],\n",
        "       simple_regret_exact_9[slice10],\n",
        "       simple_regret_exact_10[slice10],\n",
        "       simple_regret_exact_11[slice10],\n",
        "       simple_regret_exact_12[slice10],\n",
        "       simple_regret_exact_13[slice10],\n",
        "       simple_regret_exact_14[slice10],\n",
        "       simple_regret_exact_15[slice10],\n",
        "       simple_regret_exact_16[slice10],\n",
        "       simple_regret_exact_17[slice10],\n",
        "       simple_regret_exact_18[slice10],\n",
        "       simple_regret_exact_19[slice10],\n",
        "       simple_regret_exact_20[slice10]]\n",
        "\n",
        "approx10_results = pd.DataFrame(approx10).sort_values(by=[0], ascending=False)\n",
        "exact10_results = pd.DataFrame(exact10).sort_values(by=[0], ascending=False)\n",
        "\n",
        "### Best simple regret minimization IQR - approx:\n",
        "lower_approx10 = np.asarray(approx10_results[4:5][0])[0]\n",
        "median_approx10 = np.asarray(approx10_results[9:10][0])[0]\n",
        "upper_approx10 = np.asarray(approx10_results[14:15][0])[0]\n",
        "\n",
        "lower_exact10 = np.asarray(exact10_results[4:5][0])[0]\n",
        "median_exact10 = np.asarray(exact10_results[9:10][0])[0]\n",
        "upper_exact10 = np.asarray(exact10_results[14:15][0])[0]"
      ]
    },
    {
      "cell_type": "code",
      "execution_count": 95,
      "metadata": {
        "id": "Rsf240pWQxf-"
      },
      "outputs": [],
      "source": [
        "# Iteration20 :\n",
        "\n",
        "slice20 = 19\n",
        "\n",
        "approx20 = [simple_regret_approx_1[slice20],\n",
        "       simple_regret_approx_2[slice20],\n",
        "       simple_regret_approx_3[slice20],\n",
        "       simple_regret_approx_4[slice20],\n",
        "       simple_regret_approx_5[slice20],\n",
        "       simple_regret_approx_6[slice20],\n",
        "       simple_regret_approx_7[slice20],\n",
        "       simple_regret_approx_8[slice20],\n",
        "       simple_regret_approx_9[slice20],\n",
        "       simple_regret_approx_10[slice20],\n",
        "       simple_regret_approx_11[slice20],\n",
        "       simple_regret_approx_12[slice20],\n",
        "       simple_regret_approx_13[slice20],\n",
        "       simple_regret_approx_14[slice20],\n",
        "       simple_regret_approx_15[slice20],\n",
        "       simple_regret_approx_16[slice20],\n",
        "       simple_regret_approx_17[slice20],\n",
        "       simple_regret_approx_18[slice20],\n",
        "       simple_regret_approx_19[slice20],\n",
        "       simple_regret_approx_20[slice20]]\n",
        "\n",
        "exact20 = [simple_regret_exact_1[slice20],\n",
        "       simple_regret_exact_2[slice20],\n",
        "       simple_regret_exact_3[slice20],\n",
        "       simple_regret_exact_4[slice20],\n",
        "       simple_regret_exact_5[slice20],\n",
        "       simple_regret_exact_6[slice20],\n",
        "       simple_regret_exact_7[slice20],\n",
        "       simple_regret_exact_8[slice20],\n",
        "       simple_regret_exact_9[slice20],\n",
        "       simple_regret_exact_10[slice20],\n",
        "       simple_regret_exact_11[slice20],\n",
        "       simple_regret_exact_12[slice20],\n",
        "       simple_regret_exact_13[slice20],\n",
        "       simple_regret_exact_14[slice20],\n",
        "       simple_regret_exact_15[slice20],\n",
        "       simple_regret_exact_16[slice20],\n",
        "       simple_regret_exact_17[slice20],\n",
        "       simple_regret_exact_18[slice20],\n",
        "       simple_regret_exact_19[slice20],\n",
        "       simple_regret_exact_20[slice20]]\n",
        "\n",
        "approx20_results = pd.DataFrame(approx20).sort_values(by=[0], ascending=False)\n",
        "exact20_results = pd.DataFrame(exact20).sort_values(by=[0], ascending=False)\n",
        "\n",
        "### Best simple regret minimization IQR - approx:\n",
        "lower_approx20 = np.asarray(approx20_results[4:5][0])[0]\n",
        "median_approx20 = np.asarray(approx20_results[9:10][0])[0]\n",
        "upper_approx20 = np.asarray(approx20_results[14:15][0])[0]\n",
        "\n",
        "lower_exact20 = np.asarray(exact20_results[4:5][0])[0]\n",
        "median_exact20 = np.asarray(exact20_results[9:10][0])[0]\n",
        "upper_exact20 = np.asarray(exact20_results[14:15][0])[0]"
      ]
    },
    {
      "cell_type": "code",
      "execution_count": 96,
      "metadata": {
        "id": "gn36RejbQxf_"
      },
      "outputs": [],
      "source": [
        "### Summarize arrays: 'Loser'\n",
        "\n",
        "lower_approx = [lower_approx1,\n",
        "            lower_approx2,\n",
        "            lower_approx3,\n",
        "            lower_approx4,\n",
        "            lower_approx5,\n",
        "            lower_approx6,\n",
        "            lower_approx7,\n",
        "            lower_approx8,\n",
        "            lower_approx9,\n",
        "            lower_approx10,\n",
        "            lower_approx11,\n",
        "            lower_approx12,\n",
        "            lower_approx13,\n",
        "            lower_approx14,\n",
        "            lower_approx15,\n",
        "            lower_approx16,\n",
        "            lower_approx17,\n",
        "            lower_approx18,\n",
        "            lower_approx19,\n",
        "            lower_approx20,\n",
        "            lower_approx21]\n",
        "\n",
        "median_approx = [median_approx1,\n",
        "            median_approx2,\n",
        "            median_approx3,\n",
        "            median_approx4,\n",
        "            median_approx5,\n",
        "            median_approx6,\n",
        "            median_approx7,\n",
        "            median_approx8,\n",
        "            median_approx9,\n",
        "            median_approx10,\n",
        "            median_approx11,\n",
        "            median_approx12,\n",
        "            median_approx13,\n",
        "            median_approx14,\n",
        "            median_approx15,\n",
        "            median_approx16,\n",
        "            median_approx17,\n",
        "            median_approx18,\n",
        "            median_approx19,\n",
        "            median_approx20,\n",
        "            median_approx21]\n",
        "\n",
        "upper_approx = [upper_approx1,\n",
        "            upper_approx2,\n",
        "            upper_approx3,\n",
        "            upper_approx4,\n",
        "            upper_approx5,\n",
        "            upper_approx6,\n",
        "            upper_approx7,\n",
        "            upper_approx8,\n",
        "            upper_approx9,\n",
        "            upper_approx10,\n",
        "            upper_approx11,\n",
        "            upper_approx12,\n",
        "            upper_approx13,\n",
        "            upper_approx14,\n",
        "            upper_approx15,\n",
        "            upper_approx16,\n",
        "            upper_approx17,\n",
        "            upper_approx18,\n",
        "            upper_approx19,\n",
        "            upper_approx20,\n",
        "            upper_approx21]"
      ]
    },
    {
      "cell_type": "code",
      "execution_count": 97,
      "metadata": {
        "id": "wxtGTOYfQxf_"
      },
      "outputs": [],
      "source": [
        "### Summarize arrays: 'exact'\n",
        "\n",
        "lower_exact = [lower_exact1,\n",
        "            lower_exact2,\n",
        "            lower_exact3,\n",
        "            lower_exact4,\n",
        "            lower_exact5,\n",
        "            lower_exact6,\n",
        "            lower_exact7,\n",
        "            lower_exact8,\n",
        "            lower_exact9,\n",
        "            lower_exact10,\n",
        "            lower_exact11,\n",
        "            lower_exact12,\n",
        "            lower_exact13,\n",
        "            lower_exact14,\n",
        "            lower_exact15,\n",
        "            lower_exact16,\n",
        "            lower_exact17,\n",
        "            lower_exact18,\n",
        "            lower_exact19,\n",
        "            lower_exact20,\n",
        "            lower_exact21]\n",
        "\n",
        "median_exact = [median_exact1,\n",
        "            median_exact2,\n",
        "            median_exact3,\n",
        "            median_exact4,\n",
        "            median_exact5,\n",
        "            median_exact6,\n",
        "            median_exact7,\n",
        "            median_exact8,\n",
        "            median_exact9,\n",
        "            median_exact10,\n",
        "            median_exact11,\n",
        "            median_exact12,\n",
        "            median_exact13,\n",
        "            median_exact14,\n",
        "            median_exact15,\n",
        "            median_exact16,\n",
        "            median_exact17,\n",
        "            median_exact18,\n",
        "            median_exact19,\n",
        "            median_exact20,\n",
        "            median_exact21]\n",
        "\n",
        "upper_exact = [upper_exact1,\n",
        "            upper_exact2,\n",
        "            upper_exact3,\n",
        "            upper_exact4,\n",
        "            upper_exact5,\n",
        "            upper_exact6,\n",
        "            upper_exact7,\n",
        "            upper_exact8,\n",
        "            upper_exact9,\n",
        "            upper_exact10,\n",
        "            upper_exact11,\n",
        "            upper_exact12,\n",
        "            upper_exact13,\n",
        "            upper_exact14,\n",
        "            upper_exact15,\n",
        "            upper_exact16,\n",
        "            upper_exact17,\n",
        "            upper_exact18,\n",
        "            upper_exact19,\n",
        "            upper_exact20,\n",
        "            upper_exact21]"
      ]
    },
    {
      "cell_type": "code",
      "execution_count": 98,
      "metadata": {
        "id": "2MONq-BXQxgA",
        "colab": {
          "base_uri": "https://localhost:8080/",
          "height": 299
        },
        "outputId": "e3402e1a-aeb1-4bd4-c059-3ed88eec592f"
      },
      "outputs": [
        {
          "output_type": "display_data",
          "data": {
            "text/plain": [
              "<Figure size 432x288 with 1 Axes>"
            ],
            "image/png": "[encoded data removed]"
          },
          "metadata": {
            "needs_background": "light"
          }
        }
      ],
      "source": [
        "### Visualise!\n",
        "\n",
        "title = func\n",
        "plt.figure()\n",
        "\n",
        "plt.plot(median_approx, color = 'Yellow', ls='--')\n",
        "plt.plot(median_exact, color = 'Red', ls='--')\n",
        "\n",
        "xstar = np.arange(0, iters+1, step=1)\n",
        "plt.fill_between(xstar, lower_approx, upper_approx, facecolor = 'Yellow', alpha=0.4, label='STP EI Optimisation: Approx STP EI gradients ' r'($\\nu$' ' = {})'.format(df))\n",
        "plt.fill_between(xstar, lower_exact, upper_exact, facecolor = 'Red', alpha=0.4, label='STP EI Optimisation: Exact STP dEI gradients ' r'($\\nu$' ' = {})'.format(df))\n",
        "\n",
        "plt.title(title, weight = 'bold')\n",
        "plt.xlabel('(Post-initialisation) iteration $\\it{k}$', weight = 'bold')\n",
        "plt.ylabel('log(Regret)', weight = 'bold') \n",
        "plt.legend(loc=3) # add plot legend\n",
        "\n",
        "### Make the x-ticks integers, not floats:\n",
        "count = len(xstar)\n",
        "plt.xticks(np.arange(count), np.arange(0, count))\n",
        "plt.show() #visualise!\n"
      ]
    },
    {
      "cell_type": "code",
      "execution_count": 99,
      "metadata": {
        "id": "l5dkR2Id2oiu",
        "colab": {
          "base_uri": "https://localhost:8080/"
        },
        "outputId": "8d4d140f-6e42-4d55-b5a4-830456291956"
      },
      "outputs": [
        {
          "output_type": "execute_result",
          "data": {
            "text/plain": [
              "(934.7456021308899, 901.99161028862)"
            ]
          },
          "metadata": {},
          "execution_count": 99
        }
      ],
      "source": [
        "time_approx, time_exact\n"
      ]
    },
    {
      "cell_type": "code",
      "source": [
        "### acqFunc attribute x, stddev: run number = 1\n",
        "\n",
        "acqFuncApprox_exact_1 = acqFuncApprox(exact_1.history)\n",
        "acqFuncExact_exact_1 = acqFuncExact(exact_1.history)\n",
        "\n",
        "e1 = np.mean(acqFuncExact_exact_1)\n",
        "a1 = np.mean(acqFuncApprox_exact_1)\n",
        "\n",
        "e1, a1\n"
      ],
      "metadata": {
        "colab": {
          "base_uri": "https://localhost:8080/"
        },
        "id": "uwxv4dmfGsLr",
        "outputId": "2cffbd71-8df3-4e9e-8a26-e81c7a0b4ec4"
      },
      "execution_count": 100,
      "outputs": [
        {
          "output_type": "execute_result",
          "data": {
            "text/plain": [
              "(2.906523897881339, 3.3523733199778976)"
            ]
          },
          "metadata": {},
          "execution_count": 100
        }
      ]
    },
    {
      "cell_type": "code",
      "source": [
        "### acqFunc attribute x, stddev: run number = 2\n",
        "\n",
        "acqFuncApprox_exact_2 = acqFuncApprox(exact_2.history)\n",
        "acqFuncExact_exact_2 = acqFuncExact(exact_2.history)\n",
        "\n",
        "e2 = np.mean(acqFuncExact_exact_2)\n",
        "a2 = np.mean(acqFuncApprox_exact_2)\n",
        "\n",
        "e2, a2\n"
      ],
      "metadata": {
        "colab": {
          "base_uri": "https://localhost:8080/"
        },
        "id": "0YSV00_pGsXe",
        "outputId": "90d65bb1-cb4b-4647-b21b-df723c4eb33a"
      },
      "execution_count": 101,
      "outputs": [
        {
          "output_type": "execute_result",
          "data": {
            "text/plain": [
              "(3.006833834014953, 3.488339743866279)"
            ]
          },
          "metadata": {},
          "execution_count": 101
        }
      ]
    },
    {
      "cell_type": "code",
      "source": [
        "### acqFunc attribute x, stddev: run number = 3\n",
        "\n",
        "acqFuncApprox_exact_3 = acqFuncApprox(exact_3.history)\n",
        "acqFuncExact_exact_3 = acqFuncExact(exact_3.history)\n",
        "\n",
        "e3 = np.mean(acqFuncExact_exact_3)\n",
        "a3 = np.mean(acqFuncApprox_exact_3)\n",
        "\n",
        "e3, a3\n"
      ],
      "metadata": {
        "colab": {
          "base_uri": "https://localhost:8080/"
        },
        "id": "HHVmsd2UGsjT",
        "outputId": "2b599402-b264-40cd-f844-9c191dce25cc"
      },
      "execution_count": 102,
      "outputs": [
        {
          "output_type": "execute_result",
          "data": {
            "text/plain": [
              "(2.964068168480085, 3.2571595560930175)"
            ]
          },
          "metadata": {},
          "execution_count": 102
        }
      ]
    },
    {
      "cell_type": "code",
      "source": [
        "### acqFunc attribute x, stddev: run number = 4\n",
        "\n",
        "acqFuncApprox_exact_4 = acqFuncApprox(exact_4.history)\n",
        "acqFuncExact_exact_4 = acqFuncExact(exact_4.history)\n",
        "\n",
        "e4 = np.mean(acqFuncExact_exact_4)\n",
        "a4 = np.mean(acqFuncApprox_exact_4)\n",
        "\n",
        "e4, a4\n"
      ],
      "metadata": {
        "colab": {
          "base_uri": "https://localhost:8080/"
        },
        "id": "r7O19S2eGsu7",
        "outputId": "a56486ac-965c-4b79-e7df-26bf1d3b7082"
      },
      "execution_count": 103,
      "outputs": [
        {
          "output_type": "execute_result",
          "data": {
            "text/plain": [
              "(2.849981332753422, 3.3020899119324314)"
            ]
          },
          "metadata": {},
          "execution_count": 103
        }
      ]
    },
    {
      "cell_type": "code",
      "source": [
        "### acqFunc attribute x, stddev: run number = 5\n",
        "\n",
        "acqFuncApprox_exact_5 = acqFuncApprox(exact_5.history)\n",
        "acqFuncExact_exact_5 = acqFuncExact(exact_5.history)\n",
        "\n",
        "e5 = np.mean(acqFuncExact_exact_5)\n",
        "a5 = np.mean(acqFuncApprox_exact_5)\n",
        "\n",
        "e5, a5\n"
      ],
      "metadata": {
        "colab": {
          "base_uri": "https://localhost:8080/"
        },
        "id": "sdb9o6NuGs5m",
        "outputId": "8892caed-5d2d-452c-825a-1fbd69a2c991"
      },
      "execution_count": 104,
      "outputs": [
        {
          "output_type": "execute_result",
          "data": {
            "text/plain": [
              "(3.0233469988555255, 3.2862003152261643)"
            ]
          },
          "metadata": {},
          "execution_count": 104
        }
      ]
    },
    {
      "cell_type": "code",
      "source": [
        "### acqFunc attribute x, stddev: run number = 6\n",
        "\n",
        "acqFuncApprox_exact_6 = acqFuncApprox(exact_6.history)\n",
        "acqFuncExact_exact_6 = acqFuncExact(exact_6.history)\n",
        "\n",
        "e6 = np.mean(acqFuncExact_exact_6)\n",
        "a6 = np.mean(acqFuncApprox_exact_6)\n",
        "\n",
        "e6, a6\n"
      ],
      "metadata": {
        "colab": {
          "base_uri": "https://localhost:8080/"
        },
        "id": "COQl7LZ8GtE0",
        "outputId": "4e56ed29-fe78-4be5-9858-d8b81e6a4406"
      },
      "execution_count": 105,
      "outputs": [
        {
          "output_type": "execute_result",
          "data": {
            "text/plain": [
              "(2.998579511086141, 3.5047634505914096)"
            ]
          },
          "metadata": {},
          "execution_count": 105
        }
      ]
    },
    {
      "cell_type": "code",
      "source": [
        "### acqFunc attribute x, stddev: run number = 7\n",
        "\n",
        "acqFuncApprox_exact_7 = acqFuncApprox(exact_7.history)\n",
        "acqFuncExact_exact_7 = acqFuncExact(exact_7.history)\n",
        "\n",
        "e7 = np.mean(acqFuncExact_exact_7)\n",
        "a7 = np.mean(acqFuncApprox_exact_7)\n",
        "\n",
        "e7, a7\n"
      ],
      "metadata": {
        "colab": {
          "base_uri": "https://localhost:8080/"
        },
        "id": "2gy9EtTzGtP7",
        "outputId": "39fb7b43-d70b-44a7-d41b-cd7d7fc22102"
      },
      "execution_count": 106,
      "outputs": [
        {
          "output_type": "execute_result",
          "data": {
            "text/plain": [
              "(2.9945226008416532, 3.4153181716291114)"
            ]
          },
          "metadata": {},
          "execution_count": 106
        }
      ]
    },
    {
      "cell_type": "code",
      "source": [
        "### acqFunc attribute x, stddev: run number = 8\n",
        "\n",
        "acqFuncApprox_exact_8 = acqFuncApprox(exact_8.history)\n",
        "acqFuncExact_exact_8 = acqFuncExact(exact_8.history)\n",
        "\n",
        "e8 = np.mean(acqFuncExact_exact_8)\n",
        "a8 = np.mean(acqFuncApprox_exact_8)\n",
        "\n",
        "e8, a8\n"
      ],
      "metadata": {
        "colab": {
          "base_uri": "https://localhost:8080/"
        },
        "id": "S7mn0qoMGtbM",
        "outputId": "f6354573-f4dc-4d72-dba9-3c38a69f939e"
      },
      "execution_count": 107,
      "outputs": [
        {
          "output_type": "execute_result",
          "data": {
            "text/plain": [
              "(3.0302425396892945, 3.2482161245951438)"
            ]
          },
          "metadata": {},
          "execution_count": 107
        }
      ]
    },
    {
      "cell_type": "code",
      "source": [
        "### acqFunc attribute x, stddev: run number = 9\n",
        "\n",
        "acqFuncApprox_exact_9 = acqFuncApprox(exact_9.history)\n",
        "acqFuncExact_exact_9 = acqFuncExact(exact_9.history)\n",
        "\n",
        "e9 = np.mean(acqFuncExact_exact_9)\n",
        "a9 = np.mean(acqFuncApprox_exact_9)\n",
        "\n",
        "e9, a9\n"
      ],
      "metadata": {
        "colab": {
          "base_uri": "https://localhost:8080/"
        },
        "id": "BhljmkNxGtms",
        "outputId": "e46d8bbd-c5cf-4fa6-aac9-75d04497ea7d"
      },
      "execution_count": 108,
      "outputs": [
        {
          "output_type": "execute_result",
          "data": {
            "text/plain": [
              "(2.8186144860924833, 3.220970091852275)"
            ]
          },
          "metadata": {},
          "execution_count": 108
        }
      ]
    },
    {
      "cell_type": "code",
      "source": [
        "### acqFunc attribute x, stddev: run number = 10\n",
        "\n",
        "acqFuncApprox_exact_10 = acqFuncApprox(exact_10.history)\n",
        "acqFuncExact_exact_10 = acqFuncExact(exact_10.history)\n",
        "\n",
        "e10 = np.mean(acqFuncExact_exact_10)\n",
        "a10 = np.mean(acqFuncApprox_exact_10)\n",
        "\n",
        "e10, a10\n"
      ],
      "metadata": {
        "colab": {
          "base_uri": "https://localhost:8080/"
        },
        "id": "W5GZo6k3Gtx8",
        "outputId": "69587d30-396a-4ccd-f41b-06a3facdc380"
      },
      "execution_count": 109,
      "outputs": [
        {
          "output_type": "execute_result",
          "data": {
            "text/plain": [
              "(2.9496411141872905, 3.478923472194407)"
            ]
          },
          "metadata": {},
          "execution_count": 109
        }
      ]
    },
    {
      "cell_type": "code",
      "source": [
        "### acqFunc attribute x, stddev: run number = 11\n",
        "\n",
        "acqFuncApprox_exact_11 = acqFuncApprox(exact_11.history)\n",
        "acqFuncExact_exact_11 = acqFuncExact(exact_11.history)\n",
        "\n",
        "e11 = np.mean(acqFuncExact_exact_11)\n",
        "a11 = np.mean(acqFuncApprox_exact_11)\n",
        "\n",
        "e11, a11\n"
      ],
      "metadata": {
        "colab": {
          "base_uri": "https://localhost:8080/"
        },
        "id": "isKNhDk5Gt9D",
        "outputId": "0dbd66de-b4cf-4775-d380-467686f8aa27"
      },
      "execution_count": 110,
      "outputs": [
        {
          "output_type": "execute_result",
          "data": {
            "text/plain": [
              "(3.0360282069262543, 3.4601111482551503)"
            ]
          },
          "metadata": {},
          "execution_count": 110
        }
      ]
    },
    {
      "cell_type": "code",
      "source": [
        "### acqFunc attribute x, stddev: run number = 12\n",
        "\n",
        "acqFuncApprox_exact_12 = acqFuncApprox(exact_12.history)\n",
        "acqFuncExact_exact_12 = acqFuncExact(exact_12.history)\n",
        "\n",
        "e12 = np.mean(acqFuncExact_exact_12)\n",
        "a12 = np.mean(acqFuncApprox_exact_12)\n",
        "\n",
        "e12, a12\n"
      ],
      "metadata": {
        "colab": {
          "base_uri": "https://localhost:8080/"
        },
        "id": "8ts-wrSuGuIm",
        "outputId": "9978efe7-e10b-4689-c602-a3e585a577c4"
      },
      "execution_count": 111,
      "outputs": [
        {
          "output_type": "execute_result",
          "data": {
            "text/plain": [
              "(2.766740398256033, 3.1215507169398085)"
            ]
          },
          "metadata": {},
          "execution_count": 111
        }
      ]
    },
    {
      "cell_type": "code",
      "source": [
        "### acqFunc attribute x, stddev: run number = 13\n",
        "\n",
        "acqFuncApprox_exact_13 = acqFuncApprox(exact_13.history)\n",
        "acqFuncExact_exact_13 = acqFuncExact(exact_13.history)\n",
        "\n",
        "e13 = np.mean(acqFuncExact_exact_13)\n",
        "a13 = np.mean(acqFuncApprox_exact_13)\n",
        "\n",
        "e13, a13\n"
      ],
      "metadata": {
        "colab": {
          "base_uri": "https://localhost:8080/"
        },
        "id": "n0drhEe3GuUL",
        "outputId": "447ee349-89d1-4cfa-d124-f3ef58427de6"
      },
      "execution_count": 112,
      "outputs": [
        {
          "output_type": "execute_result",
          "data": {
            "text/plain": [
              "(2.9628302654643788, 3.570608950447183)"
            ]
          },
          "metadata": {},
          "execution_count": 112
        }
      ]
    },
    {
      "cell_type": "code",
      "source": [
        "### acqFunc attribute x, stddev: run number = 14\n",
        "\n",
        "acqFuncApprox_exact_14 = acqFuncApprox(exact_14.history)\n",
        "acqFuncExact_exact_14 = acqFuncExact(exact_14.history)\n",
        "\n",
        "e14 = np.mean(acqFuncExact_exact_14)\n",
        "a14 = np.mean(acqFuncApprox_exact_14)\n",
        "\n",
        "e14, a14\n"
      ],
      "metadata": {
        "colab": {
          "base_uri": "https://localhost:8080/"
        },
        "id": "R0W3MZaVGues",
        "outputId": "099a333a-c588-45ba-a047-ab318e9a3ab5"
      },
      "execution_count": 113,
      "outputs": [
        {
          "output_type": "execute_result",
          "data": {
            "text/plain": [
              "(2.8756062649537673, 3.219717704565446)"
            ]
          },
          "metadata": {},
          "execution_count": 113
        }
      ]
    },
    {
      "cell_type": "code",
      "source": [
        "### acqFunc attribute x, stddev: run number = 15\n",
        "\n",
        "acqFuncApprox_exact_15 = acqFuncApprox(exact_15.history)\n",
        "acqFuncExact_exact_15 = acqFuncExact(exact_15.history)\n",
        "\n",
        "e15 = np.mean(acqFuncExact_exact_15)\n",
        "a15 = np.mean(acqFuncApprox_exact_15)\n",
        "\n",
        "e15, a15\n"
      ],
      "metadata": {
        "colab": {
          "base_uri": "https://localhost:8080/"
        },
        "id": "DoXdDFHoGup-",
        "outputId": "16f3f1cd-e1da-4130-cffb-7647d57c202d"
      },
      "execution_count": 114,
      "outputs": [
        {
          "output_type": "execute_result",
          "data": {
            "text/plain": [
              "(2.825747955887124, 3.3035826174253287)"
            ]
          },
          "metadata": {},
          "execution_count": 114
        }
      ]
    },
    {
      "cell_type": "code",
      "source": [
        "### acqFunc attribute x, stddev: run number = 16\n",
        "\n",
        "acqFuncApprox_exact_16 = acqFuncApprox(exact_16.history)\n",
        "acqFuncExact_exact_16 = acqFuncExact(exact_16.history)\n",
        "\n",
        "e16 = np.mean(acqFuncExact_exact_16)\n",
        "a16 = np.mean(acqFuncApprox_exact_16)\n",
        "\n",
        "e16, a16\n"
      ],
      "metadata": {
        "colab": {
          "base_uri": "https://localhost:8080/"
        },
        "id": "K_wAeqSoGu2j",
        "outputId": "dce6ff70-172d-4240-9445-760d5417a980"
      },
      "execution_count": 115,
      "outputs": [
        {
          "output_type": "execute_result",
          "data": {
            "text/plain": [
              "(2.9357091640996513, 3.2682500168703386)"
            ]
          },
          "metadata": {},
          "execution_count": 115
        }
      ]
    },
    {
      "cell_type": "code",
      "source": [
        "### acqFunc attribute x, stddev: run number = 17\n",
        "\n",
        "acqFuncApprox_exact_17 = acqFuncApprox(exact_17.history)\n",
        "acqFuncExact_exact_17 = acqFuncExact(exact_17.history)\n",
        "\n",
        "e17 = np.mean(acqFuncExact_exact_17)\n",
        "a17 = np.mean(acqFuncApprox_exact_17)\n",
        "\n",
        "e17, a17\n"
      ],
      "metadata": {
        "colab": {
          "base_uri": "https://localhost:8080/"
        },
        "id": "n6zy78fjGvBT",
        "outputId": "f349b889-3e26-47fb-cbc5-70f53cc81c6e"
      },
      "execution_count": 116,
      "outputs": [
        {
          "output_type": "execute_result",
          "data": {
            "text/plain": [
              "(2.9419734458267843, 3.34795429609171)"
            ]
          },
          "metadata": {},
          "execution_count": 116
        }
      ]
    },
    {
      "cell_type": "code",
      "source": [
        "### acqFunc attribute x, stddev: run number = 18\n",
        "\n",
        "acqFuncApprox_exact_18 = acqFuncApprox(exact_18.history)\n",
        "acqFuncExact_exact_18 = acqFuncExact(exact_18.history)\n",
        "\n",
        "e18 = np.mean(acqFuncExact_exact_18)\n",
        "a18 = np.mean(acqFuncApprox_exact_18)\n",
        "\n",
        "e18, a18\n"
      ],
      "metadata": {
        "colab": {
          "base_uri": "https://localhost:8080/"
        },
        "id": "s_6_2K4iGvM-",
        "outputId": "42fee2cd-9202-48a7-c0b2-f0424985a121"
      },
      "execution_count": 117,
      "outputs": [
        {
          "output_type": "execute_result",
          "data": {
            "text/plain": [
              "(2.941981868079542, 3.413967967948513)"
            ]
          },
          "metadata": {},
          "execution_count": 117
        }
      ]
    },
    {
      "cell_type": "code",
      "source": [
        "### acqFunc attribute x, stddev: run number = 19\n",
        "\n",
        "acqFuncApprox_exact_19 = acqFuncApprox(exact_19.history)\n",
        "acqFuncExact_exact_19 = acqFuncExact(exact_19.history)\n",
        "\n",
        "e19 = np.mean(acqFuncExact_exact_19)\n",
        "a19 = np.mean(acqFuncApprox_exact_19)\n",
        "\n",
        "e19, a19\n"
      ],
      "metadata": {
        "colab": {
          "base_uri": "https://localhost:8080/"
        },
        "id": "o8oO8pdBGvYk",
        "outputId": "476d4e91-3b7b-43de-f366-92119be73359"
      },
      "execution_count": 118,
      "outputs": [
        {
          "output_type": "execute_result",
          "data": {
            "text/plain": [
              "(2.9876597603176913, 3.5254198773425607)"
            ]
          },
          "metadata": {},
          "execution_count": 118
        }
      ]
    },
    {
      "cell_type": "code",
      "source": [
        "### acqFunc attribute x, stddev: run number = 20\n",
        "\n",
        "acqFuncApprox_exact_20 = acqFuncApprox(exact_20.history)\n",
        "acqFuncExact_exact_20 = acqFuncExact(exact_20.history)\n",
        "\n",
        "e20 = np.mean(acqFuncExact_exact_20)\n",
        "a20 = np.mean(acqFuncApprox_exact_20)\n",
        "\n",
        "e20, a20\n"
      ],
      "metadata": {
        "colab": {
          "base_uri": "https://localhost:8080/"
        },
        "id": "b2w8oLc0IMzU",
        "outputId": "f4b1d321-3e74-451c-b7b2-c6b81539ab9a"
      },
      "execution_count": 119,
      "outputs": [
        {
          "output_type": "execute_result",
          "data": {
            "text/plain": [
              "(2.944664374689963, 3.411277470775969)"
            ]
          },
          "metadata": {},
          "execution_count": 119
        }
      ]
    },
    {
      "cell_type": "code",
      "source": [
        "### Summarize arrays: \n",
        "\n",
        "exact_stddev = np.sort([e1,e2,e3,e4,e5,e6,e7,e8,e9,e10,e11,e12,e13,e14,e15,e16,e17,e18,e19,e20])\n",
        "approx_stddev = np.sort([a1,a2,a3,a4,a5,a6,a7,a8,a9,a10,a11,a12,a13,a14,a15,a16,a17,a18,a19,a20])\n",
        "\n",
        "np.mean(exact_stddev), np.mean(approx_stddev)\n"
      ],
      "metadata": {
        "colab": {
          "base_uri": "https://localhost:8080/"
        },
        "id": "qAZs3yxMIZul",
        "outputId": "40a9c79f-d26d-45de-83ea-7da0033c04a0"
      },
      "execution_count": 120,
      "outputs": [
        {
          "output_type": "execute_result",
          "data": {
            "text/plain": [
              "(2.938064809419169, 3.359839746231007)"
            ]
          },
          "metadata": {},
          "execution_count": 120
        }
      ]
    },
    {
      "cell_type": "code",
      "source": [
        "### Visualise!\n",
        "\n",
        "title = func\n",
        "plt.figure()\n",
        "\n",
        "plt.plot(approx_stddev, color = 'Yellow', ls='--', label='Average $\\sigma$, attribute $\\mathbf{x}$: Approx STP EI gradients')\n",
        "plt.plot(exact_stddev, color = 'Red', ls='-', label='Average $\\sigma$, attribute $\\mathbf{x}$: Exact STP dEI gradients')\n",
        "\n",
        "plt.title(title, weight = 'bold')\n",
        "plt.xlabel('Function evaluations: iteration $\\it{k}$', weight = 'bold')\n",
        "plt.ylabel('STP EI: Average $\\sigma$, attribute $\\mathbf{x}$', weight = 'bold') \n",
        "plt.legend(loc=0) # add plot legend\n",
        "\n",
        "### Make the x-ticks integers, not floats:\n",
        "count = len(xstar)\n",
        "plt.xticks(np.arange(count), np.arange(1, count))\n",
        "plt.show() #visualize!\n"
      ],
      "metadata": {
        "colab": {
          "base_uri": "https://localhost:8080/",
          "height": 297
        },
        "id": "e_kpqYcMIZxu",
        "outputId": "4c80a5fd-aa35-4fa2-8f11-189c69277146"
      },
      "execution_count": 121,
      "outputs": [
        {
          "output_type": "display_data",
          "data": {
            "text/plain": [
              "<Figure size 432x288 with 1 Axes>"
            ],
            "image/png": "[encoded data removed]"
          },
          "metadata": {
            "needs_background": "light"
          }
        }
      ]
    },
    {
      "cell_type": "code",
      "source": [],
      "metadata": {
        "id": "LToGd4vZIZ3I"
      },
      "execution_count": 121,
      "outputs": []
    }
  ],
  "metadata": {
    "colab": {
      "collapsed_sections": [],
      "provenance": []
    },
    "kernelspec": {
      "display_name": "Python 3",
      "name": "python3"
    },
    "language_info": {
      "name": "python"
    }
  },
  "nbformat": 4,
  "nbformat_minor": 0
}