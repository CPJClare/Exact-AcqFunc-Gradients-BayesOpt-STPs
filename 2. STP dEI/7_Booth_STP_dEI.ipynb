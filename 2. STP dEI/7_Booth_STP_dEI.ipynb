{
  "cells": [
    {
      "cell_type": "markdown",
      "metadata": {
        "id": "Dqn4dFx7Z2Ir"
      },
      "source": [
        "\n",
        "Booth: 2D\n"
      ]
    },
    {
      "cell_type": "code",
      "execution_count": 1,
      "metadata": {
        "colab": {
          "base_uri": "https://localhost:8080/"
        },
        "id": "MJTM_GZZZb5x",
        "outputId": "931f2191-94f0-4e78-a857-213cfc34df7e"
      },
      "outputs": [
        {
          "output_type": "stream",
          "name": "stdout",
          "text": [
            "Looking in indexes: https://pypi.org/simple, https://us-python.pkg.dev/colab-wheels/public/simple/\n",
            "Collecting pyGPGO\n",
            "  Downloading pyGPGO-0.5.1.tar.gz (14 kB)\n",
            "Requirement already satisfied: numpy in /usr/local/lib/python3.7/dist-packages (from pyGPGO) (1.21.6)\n",
            "Requirement already satisfied: mkl in /usr/local/lib/python3.7/dist-packages (from pyGPGO) (2019.0)\n",
            "Requirement already satisfied: scipy in /usr/local/lib/python3.7/dist-packages (from pyGPGO) (1.7.3)\n",
            "Requirement already satisfied: joblib in /usr/local/lib/python3.7/dist-packages (from pyGPGO) (1.1.0)\n",
            "Requirement already satisfied: scikit-learn in /usr/local/lib/python3.7/dist-packages (from pyGPGO) (1.0.2)\n",
            "Collecting Theano-PyMC\n",
            "  Downloading Theano-PyMC-1.1.2.tar.gz (1.8 MB)\n",
            "\u001b[K     |████████████████████████████████| 1.8 MB 15.6 MB/s \n",
            "\u001b[?25hCollecting pyMC3\n",
            "  Downloading pymc3-3.11.5-py3-none-any.whl (872 kB)\n",
            "\u001b[K     |████████████████████████████████| 872 kB 65.0 MB/s \n",
            "\u001b[?25hRequirement already satisfied: intel-openmp in /usr/local/lib/python3.7/dist-packages (from mkl->pyGPGO) (2022.1.0)\n",
            "Requirement already satisfied: fastprogress>=0.2.0 in /usr/local/lib/python3.7/dist-packages (from pyMC3->pyGPGO) (1.0.3)\n",
            "Requirement already satisfied: dill in /usr/local/lib/python3.7/dist-packages (from pyMC3->pyGPGO) (0.3.5.1)\n",
            "Requirement already satisfied: patsy>=0.5.1 in /usr/local/lib/python3.7/dist-packages (from pyMC3->pyGPGO) (0.5.2)\n",
            "Requirement already satisfied: typing-extensions>=3.7.4 in /usr/local/lib/python3.7/dist-packages (from pyMC3->pyGPGO) (4.1.1)\n",
            "Requirement already satisfied: arviz>=0.11.0 in /usr/local/lib/python3.7/dist-packages (from pyMC3->pyGPGO) (0.12.1)\n",
            "Requirement already satisfied: cachetools>=4.2.1 in /usr/local/lib/python3.7/dist-packages (from pyMC3->pyGPGO) (4.2.4)\n",
            "Collecting semver>=2.13.0\n",
            "  Downloading semver-2.13.0-py2.py3-none-any.whl (12 kB)\n",
            "Collecting deprecat\n",
            "  Downloading deprecat-2.1.1-py2.py3-none-any.whl (9.8 kB)\n",
            "Requirement already satisfied: pandas>=0.24.0 in /usr/local/lib/python3.7/dist-packages (from pyMC3->pyGPGO) (1.3.5)\n",
            "Requirement already satisfied: filelock in /usr/local/lib/python3.7/dist-packages (from Theano-PyMC->pyGPGO) (3.8.0)\n",
            "Requirement already satisfied: xarray>=0.16.1 in /usr/local/lib/python3.7/dist-packages (from arviz>=0.11.0->pyMC3->pyGPGO) (0.20.2)\n",
            "Requirement already satisfied: xarray-einstats>=0.2 in /usr/local/lib/python3.7/dist-packages (from arviz>=0.11.0->pyMC3->pyGPGO) (0.2.2)\n",
            "Requirement already satisfied: netcdf4 in /usr/local/lib/python3.7/dist-packages (from arviz>=0.11.0->pyMC3->pyGPGO) (1.6.0)\n",
            "Requirement already satisfied: matplotlib>=3.0 in /usr/local/lib/python3.7/dist-packages (from arviz>=0.11.0->pyMC3->pyGPGO) (3.2.2)\n",
            "Requirement already satisfied: setuptools>=38.4 in /usr/local/lib/python3.7/dist-packages (from arviz>=0.11.0->pyMC3->pyGPGO) (57.4.0)\n",
            "Requirement already satisfied: packaging in /usr/local/lib/python3.7/dist-packages (from arviz>=0.11.0->pyMC3->pyGPGO) (21.3)\n",
            "Requirement already satisfied: python-dateutil>=2.1 in /usr/local/lib/python3.7/dist-packages (from matplotlib>=3.0->arviz>=0.11.0->pyMC3->pyGPGO) (2.8.2)\n",
            "Requirement already satisfied: cycler>=0.10 in /usr/local/lib/python3.7/dist-packages (from matplotlib>=3.0->arviz>=0.11.0->pyMC3->pyGPGO) (0.11.0)\n",
            "Requirement already satisfied: pyparsing!=2.0.4,!=2.1.2,!=2.1.6,>=2.0.1 in /usr/local/lib/python3.7/dist-packages (from matplotlib>=3.0->arviz>=0.11.0->pyMC3->pyGPGO) (3.0.9)\n",
            "Requirement already satisfied: kiwisolver>=1.0.1 in /usr/local/lib/python3.7/dist-packages (from matplotlib>=3.0->arviz>=0.11.0->pyMC3->pyGPGO) (1.4.4)\n",
            "Requirement already satisfied: pytz>=2017.3 in /usr/local/lib/python3.7/dist-packages (from pandas>=0.24.0->pyMC3->pyGPGO) (2022.2.1)\n",
            "Requirement already satisfied: six in /usr/local/lib/python3.7/dist-packages (from patsy>=0.5.1->pyMC3->pyGPGO) (1.15.0)\n",
            "Requirement already satisfied: importlib-metadata in /usr/local/lib/python3.7/dist-packages (from xarray>=0.16.1->arviz>=0.11.0->pyMC3->pyGPGO) (4.12.0)\n",
            "Requirement already satisfied: wrapt<2,>=1.10 in /usr/local/lib/python3.7/dist-packages (from deprecat->pyMC3->pyGPGO) (1.14.1)\n",
            "Requirement already satisfied: zipp>=0.5 in /usr/local/lib/python3.7/dist-packages (from importlib-metadata->xarray>=0.16.1->arviz>=0.11.0->pyMC3->pyGPGO) (3.8.1)\n",
            "Requirement already satisfied: cftime in /usr/local/lib/python3.7/dist-packages (from netcdf4->arviz>=0.11.0->pyMC3->pyGPGO) (1.6.1)\n",
            "Requirement already satisfied: threadpoolctl>=2.0.0 in /usr/local/lib/python3.7/dist-packages (from scikit-learn->pyGPGO) (3.1.0)\n",
            "Building wheels for collected packages: pyGPGO, Theano-PyMC\n",
            "  Building wheel for pyGPGO (setup.py) ... \u001b[?25l\u001b[?25hdone\n",
            "  Created wheel for pyGPGO: filename=pyGPGO-0.5.1-py3-none-any.whl size=19879 sha256=8e2adecebe88f089c0ce7cf9f462580f10cabaff3f624c6062321f7f80550ad0\n",
            "  Stored in directory: /root/.cache/pip/wheels/c8/5d/0b/2160114e2f1b87791c51b66cf07f89831dbb6f49167950316f\n",
            "  Building wheel for Theano-PyMC (setup.py) ... \u001b[?25l\u001b[?25hdone\n",
            "  Created wheel for Theano-PyMC: filename=Theano_PyMC-1.1.2-py3-none-any.whl size=1529963 sha256=9760bfc78d8d5fd86708e96aacbd20f1810545188c117b93c390610c8dbc5bc8\n",
            "  Stored in directory: /root/.cache/pip/wheels/f3/af/8c/5dd7553522d74c52a7813806fc7ee1a9caa20a3f7c8fd850d5\n",
            "Successfully built pyGPGO Theano-PyMC\n",
            "Installing collected packages: Theano-PyMC, semver, deprecat, pyMC3, pyGPGO\n",
            "Successfully installed Theano-PyMC-1.1.2 deprecat-2.1.1 pyGPGO-0.5.1 pyMC3-3.11.5 semver-2.13.0\n"
          ]
        }
      ],
      "source": [
        "pip install pyGPGO\n"
      ]
    },
    {
      "cell_type": "code",
      "execution_count": 2,
      "metadata": {
        "id": "ZJSSPbwPaEUB"
      },
      "outputs": [],
      "source": [
        "### 1. Import python modules/packages required:\n",
        "\n",
        "import numpy as np\n",
        "import pandas as pd\n",
        "import scipy as sp\n",
        "import matplotlib.pyplot as plt\n",
        "import warnings\n",
        "import itertools\n",
        "import seaborn as sns\n",
        "import time\n",
        "\n",
        "from pyGPGO.GPGO import GPGO\n",
        "from pyGPGO.surrogates.tStudentProcess import tStudentProcess\n",
        "from pyGPGO.acquisition import Acquisition\n",
        "from pyGPGO.covfunc import squaredExponential\n",
        "from joblib import Parallel, delayed\n",
        "from scipy.linalg import inv\n",
        "from scipy.spatial.distance import cdist\n",
        "from scipy.optimize import minimize\n",
        "from scipy.stats import t\n",
        "from mpl_toolkits.axes_grid1.inset_locator import inset_axes, mark_inset\n",
        "\n",
        "warnings.filterwarnings(\"ignore\", category=RuntimeWarning)\n"
      ]
    },
    {
      "cell_type": "code",
      "execution_count": 3,
      "metadata": {
        "id": "OeYcTUNoaJWa"
      },
      "outputs": [],
      "source": [
        "### Inputs:\n",
        "\n",
        "func = 'Booth'\n",
        "n_test = 500\n",
        "eps = 1e-08\n",
        "\n",
        "util = 'EI'\n",
        "\n",
        "n_init = 5 # random initialisations\n",
        "iters = 20\n",
        "opt = True\n",
        "\n",
        "df = 3"
      ]
    },
    {
      "cell_type": "code",
      "execution_count": 4,
      "metadata": {
        "id": "xpaEOjdzaPMS"
      },
      "outputs": [],
      "source": [
        "### Objective Function - Booth(x) 2-D:\n",
        "\n",
        "def objfunc(x1_training, x2_training):\n",
        "            return  operator * ( (x1_training + 2 * x2_training -7) ** 2 +\n",
        "                                 (2 * x1_training + x2_training -5) ** 2\n",
        "                            )\n",
        "        \n",
        "# Constraints:\n",
        "lb = -10\n",
        "ub = +10\n",
        "    \n",
        "# Input array dimension(s):\n",
        "dim = 2\n",
        "\n",
        "# 2-D inputs' parameter bounds:\n",
        "param = {'x1_training': ('cont', [lb, ub]),\n",
        "                 'x2_training': ('cont', [lb, ub])\n",
        "                 }\n",
        "    \n",
        "# True y bounds:\n",
        "y_lb = 0\n",
        "operator = -1 # targets global minimum \n",
        "y_global_orig = y_lb * operator # targets global minimum\n",
        "    \n",
        "# Test data:\n",
        "x1_test = np.linspace(lb, ub, n_test)\n",
        "x2_test = np.linspace(lb, ub, n_test)\n",
        "x_test = np.column_stack((x1_test, x2_test))\n"
      ]
    },
    {
      "cell_type": "code",
      "execution_count": 5,
      "metadata": {
        "id": "eYpI3Zm4aGxi"
      },
      "outputs": [],
      "source": [
        "n_start_AcqFunc = iters\n",
        "inverse = -1\n"
      ]
    },
    {
      "cell_type": "code",
      "execution_count": 6,
      "metadata": {
        "id": "oO_GUmOoaV0T"
      },
      "outputs": [],
      "source": [
        "### Cumulative Regret Calculators:\n",
        "\n",
        "def min_max_array(x):\n",
        "    new_list = []\n",
        "    for i, num in enumerate(x):\n",
        "            new_list.append(np.min(x[0:i+1]))\n",
        "    return new_list\n",
        "  \n",
        "def acqFuncExact(x):\n",
        "    new_array = []\n",
        "    x = np.array(x) \n",
        "    for i, num in enumerate(x):\n",
        "            new_array = x[:-2][::-3]\n",
        "    return new_array[::-1]\n",
        "\n",
        "def acqFuncApprox(x):\n",
        "    new_array = []\n",
        "    x = np.array(x) \n",
        "    for i, num in enumerate(x):\n",
        "            new_array = x[:-1][::-3]\n",
        "    return new_array[::-1]\n"
      ]
    },
    {
      "cell_type": "code",
      "execution_count": 7,
      "metadata": {
        "id": "kuuJx0IMam9S"
      },
      "outputs": [],
      "source": [
        "### Surrogate derivatives: \n",
        "\n",
        "cov_func = squaredExponential()\n",
        "\n",
        "def kronDelta(X, Xstar):                     # Kronecker's Delta method\n",
        "    return cdist(X, Xstar) < np.finfo(np.float32).eps\n",
        "\n",
        "def se(X, Xstar, sigmaf, l, sigman):         # S.E. kernel method\n",
        "    return sigmaf * np.exp(-0.5 * cdist(X, Xstar) ** 2 / l ** 2) + sigman * kronDelta(X, Xstar)\n",
        "\n",
        "def delta(X, Xstar):                         # Distance between training X and test Xstar vectors\n",
        "    return (X - Xstar)\n",
        "   \n",
        "def der_covmat(X, Xstar, sigmaf, l, sigman): # Covariance matrix derivative terms (i.e. exact, first-order)\n",
        "    nx = len(X)\n",
        "    ny = len(Xstar)\n",
        "    return np.round(np.array([(delta(np.atleast_2d(i), np.atleast_2d(j))[0] * se(np.atleast_2d(i), np.atleast_2d(j), sigmaf, l, sigman)[0]).sum() for (i, j) in itertools.product(X, Xstar)]).reshape(nx, ny), 8)\n",
        "\n",
        "class dtStudentProcess(tStudentProcess):    # Via inheritance, also optimises hyperparameters when opt = TRUE\n",
        "    \n",
        "    def AcqGrad(self, Xstar):               # Method returning exact, first-order derivatives of the STP's posterior mean and standard deviation\n",
        "        Xstar = np.atleast_2d(Xstar)\n",
        "        Kstar = self.covfunc.K(self.X, Xstar).T\n",
        "        dKstar = der_covmat(self.X, Xstar, self.covfunc.sigmaf, self.covfunc.l, self.covfunc.sigman).T\n",
        "        \n",
        "        smd_adj = (self.nu + self.beta1 - 2) / (self.nu + self.n1 - 2)\n",
        "\n",
        "        alpha = np.dot(np.linalg.inv(self.K11 + (self.covfunc.sigman**2) * np.eye(len(self.X))), self.y)\n",
        "        alpha_Kstar = np.dot(np.linalg.inv(self.K11 + (self.covfunc.sigman**2) * np.eye(len(self.X))), Kstar.T)      \n",
        "        \n",
        "        dm = np.dot(dKstar, alpha)\n",
        "        ds = -2 * smd_adj * np.dot(dKstar, alpha_Kstar)\n",
        "        \n",
        "        return dm, ds \n",
        "        "
      ]
    },
    {
      "cell_type": "code",
      "execution_count": 8,
      "metadata": {
        "id": "_Dc3YVHVaXz7"
      },
      "outputs": [],
      "source": [
        "### Add exact acquisition function gradient as attribute:\n",
        "\n",
        "class Acquisition_grad(Acquisition):    \n",
        "    def __init__(self, mode, eps=eps, **params):\n",
        "        \n",
        "        self.params = params\n",
        "        self.eps = eps\n",
        "\n",
        "        mode_dict = {\n",
        "            'EI': self.EI\n",
        "        }\n",
        "\n",
        "        self.f = mode_dict[mode]\n",
        "    \n",
        "    def EI(self, tau, mean, std, ds, dm, nu=3.0):\n",
        "        gamma = (mean - tau - self.eps) / (std + self.eps)\n",
        "        gamma_h = (mean - tau) / (std + self.eps)\n",
        "        dsdx = ds / (2 * (std + self.eps))\n",
        "        dmdx = (dm - gamma * dsdx) / (std + self.eps)\n",
        "        \n",
        "        f = (std + self.eps) * (gamma * t.cdf(gamma, df=nu) + (nu + gamma ** 2)/(nu - 1) * t.pdf(gamma, df=nu))\n",
        "        df1 = f / (std + self.eps) * dsdx \n",
        "        df2 = (std + self.eps) * (t.cdf(gamma, df=nu) * dmdx + gamma * t.pdf(gamma, df=nu) \\\n",
        "            * (1 - (nu + gamma ** 2)/(nu - 1) + 2/(nu - 1) * dmdx))\n",
        "        df = (df1 + df2)[0]\n",
        "        df_arr = []\n",
        "\n",
        "        for j in range(0, dim):\n",
        "          df_arr.append(df)\n",
        "        return f, np.asarray(df_arr).transpose()\n",
        "        \n",
        "    def d_eval(self, tau, mean, std, ds, dm, nu=3.0):\n",
        "    \n",
        "        return self.f(tau, mean, std, ds, dm, nu=3.0, **self.params)\n",
        "        "
      ]
    },
    {
      "cell_type": "code",
      "execution_count": 9,
      "metadata": {
        "id": "PITEQC8YSl7i"
      },
      "outputs": [],
      "source": [
        "## GPGO_multi: \n",
        "\n",
        "class GPGO_multi(GPGO):\n",
        "    n_start = n_start_AcqFunc\n",
        "\n",
        "    def __init__(self, surrogate, acquisition, f, parameter_dict, n_jobs=1):\n",
        "        self.GP = surrogate\n",
        "        self.A = acquisition\n",
        "        self.f = f\n",
        "        self.parameters = parameter_dict\n",
        "        self.n_jobs = n_jobs\n",
        "\n",
        "        self.parameter_key = list(parameter_dict.keys())\n",
        "        self.parameter_value = list(parameter_dict.values())\n",
        "        self.parameter_type = [p[0] for p in self.parameter_value]\n",
        "        self.parameter_range = [p[1] for p in self.parameter_value]\n",
        "\n",
        "        self.history = []\n",
        "        self.header =   'Evaluation \\t Proposed point \\t  Current eval. \\t  Best eval. \\t        Exact EI: StdDev. x \\t Approx EI: StdDev. x '\n",
        "        self.template = '{:3}\\t {}\\t {:3}\\t {:3}\\t {:3}\\t {:3}'\n",
        " \n",
        "    def acqfuncExact(self, xnew, n_start=n_start_AcqFunc):\n",
        "        new_mean, new_var = self.GP.predict(xnew, return_std=True)\n",
        "        new_std = np.sqrt(new_var + eps)\n",
        "        dm, ds = self.GP.AcqGrad(xnew)\n",
        "        f, df = self.A.d_eval(self.tau, new_mean, new_std, ds=ds, dm=dm, nu=3.0)\n",
        "\n",
        "        return -f, -df\n",
        "   \n",
        "    def acqfuncApprox(self, xnew, n_start=n_start_AcqFunc):\n",
        "        new_mean, new_var = self.GP.predict(xnew, return_std=True)\n",
        "        new_std = np.sqrt(new_var + eps)\n",
        "        dm, ds = self.GP.AcqGrad(xnew)\n",
        "        f, df = self.A.d_eval(self.tau, new_mean, new_std, ds=ds, dm=dm, nu=3.0)\n",
        "\n",
        "        return -f\n",
        "   \n",
        "    def _optimizeAcq(self, method='L-BFGS-B', n_start=n_start_AcqFunc):\n",
        "        \n",
        "        start_points_dict = [self._sampleParam() for i in range(n_start)]\n",
        "        start_points_arr = np.array([list(s.values())\n",
        "                                     for s in start_points_dict])\n",
        "        x_best = np.empty((n_start, len(self.parameter_key)))\n",
        "        f_best = np.empty((n_start,))\n",
        "        opt = Parallel(n_jobs=self.n_jobs)(delayed(minimize)(self.acqfuncApprox,\n",
        "                                                                 x0=start_point,\n",
        "                                                                 method=method,\n",
        "                                                                 jac = False,\n",
        "                                                                 bounds=self.parameter_range) for start_point in\n",
        "                                               start_points_arr)\n",
        "        x_best = np.array([res.x for res in opt])\n",
        "        f_best = np.array([np.atleast_1d(res.fun)[0] for res in opt])\n",
        "        f_best_min = min(f_best)\n",
        "\n",
        "        self.x_best = x_best\n",
        "        self.f_best = f_best\n",
        "        self.f_best_min = f_best_min\n",
        "        self.x_best_std = np.std(x_best)\n",
        "        self.best = x_best[np.argmin(f_best)]\n",
        "        self.start_points_arr = start_points_arr        \n",
        "        self.history.append(self.x_best_std)\n",
        "\n",
        "        x_best_exact = np.empty((n_start, len(self.parameter_key)))\n",
        "        f_best_exact = np.empty((n_start,))\n",
        "        opt_exact = Parallel(n_jobs=self.n_jobs)(delayed(minimize)(self.acqfuncExact,\n",
        "                                                                 x0=start_point,\n",
        "                                                                 method=method,\n",
        "                                                                 jac = True,\n",
        "                                                                 bounds=self.parameter_range) for start_point in\n",
        "                                               start_points_arr)\n",
        "        x_best_exact = np.array([res.x for res in opt_exact])\n",
        "        f_best_exact = np.array([np.atleast_1d(res.fun)[0] for res in opt_exact])\n",
        "        f_best_min_exact = min(f_best_exact)\n",
        "\n",
        "        self.x_best_exact = x_best_exact\n",
        "        self.f_best_exact = f_best_exact\n",
        "        self.f_best_min_exact = f_best_min_exact\n",
        "        self.x_best_std_exact = np.std(x_best_exact)\n",
        "        self.best_exact = x_best_exact[np.argmin(f_best_exact)]\n",
        "        self.start_points_arr = start_points_arr\n",
        "        self.history.append(self.x_best_std_exact)\n",
        "\n",
        "    def _printInit(self):\n",
        "        print(self.header)\n",
        "        for init_eval in range(self.init_evals):\n",
        "            print(self.template.format('init', self.GP.X[init_eval], inverse * self.GP.y[init_eval], inverse * self.tau, '', ''))\n",
        "      \n",
        "    def _printCurrent(self):\n",
        "        OKGREEN = '\\033[92m'\n",
        "        ENDC = '\\033[0m'\n",
        "        BOLD = '\\033[1m'\n",
        "        eval = str(len(self.GP.y) - self.init_evals)\n",
        "        proposed = str(self.best)\n",
        "        curr_eval = str(inverse * self.GP.y[-1])\n",
        "        curr_best = str(inverse * self.tau)\n",
        "        min_acqfunc = str(self.f_best_min)\n",
        "        min_acqfunc_exact = str(self.f_best_min_exact)\n",
        "        x_best_std = str(self.x_best_std)\n",
        "        x_best_std_exact = str(self.x_best_std_exact)\n",
        "        if float(curr_eval) <= float(curr_best):\n",
        "            eval = BOLD + OKGREEN + eval + ENDC\n",
        "            proposed = BOLD + OKGREEN + proposed + ENDC\n",
        "            curr_eval = BOLD + OKGREEN + curr_eval + ENDC\n",
        "            curr_best = BOLD + OKGREEN + curr_best + ENDC\n",
        "            x_best_std = BOLD + OKGREEN + x_best_std + ENDC\n",
        "            x_best_std_exact = BOLD + OKGREEN + x_best_std_exact + ENDC\n",
        "        print(self.template.format(eval, proposed, curr_eval, curr_best, x_best_std_exact, x_best_std))\n",
        "        \n",
        "    def run(self, max_iter=10, init_evals=3, resume=False):\n",
        "        \n",
        "        if not resume:\n",
        "            self.init_evals = init_evals\n",
        "            self._firstRun(self.init_evals)\n",
        "            self._printInit()\n",
        "        for iteration in range(max_iter):\n",
        "            self._optimizeAcq()\n",
        "            self.updateGP()\n",
        "            self._printCurrent()\n"
      ]
    },
    {
      "cell_type": "code",
      "execution_count": 10,
      "metadata": {
        "id": "b_B-w81BJxKN"
      },
      "outputs": [],
      "source": [
        "## dGPGO:\n",
        "\n",
        "class dGPGO(GPGO):\n",
        "    n_start = n_start_AcqFunc\n",
        "\n",
        "    def __init__(self, surrogate, acquisition, f, parameter_dict, n_jobs=1):\n",
        "        self.GP = surrogate\n",
        "        self.A = acquisition\n",
        "        self.f = f\n",
        "        self.parameters = parameter_dict\n",
        "        self.n_jobs = n_jobs\n",
        "\n",
        "        self.parameter_key = list(parameter_dict.keys())\n",
        "        self.parameter_value = list(parameter_dict.values())\n",
        "        self.parameter_type = [p[0] for p in self.parameter_value]\n",
        "        self.parameter_range = [p[1] for p in self.parameter_value]\n",
        "\n",
        "        self.history = []\n",
        "        self.header =   'Evaluation \\t Proposed point \\t  Current eval. \\t  Best eval. \\t        Exact EI: StdDev. x \\t Approx EI: StdDev. x '\n",
        "        self.template = '{:3}\\t {}\\t {:3}\\t {:3}\\t {:3}\\t {:3}'\n",
        "\n",
        "    def acqfuncExact(self, xnew, n_start=n_start_AcqFunc):\n",
        "        new_mean, new_var = self.GP.predict(xnew, return_std=True)\n",
        "        new_std = np.sqrt(new_var + eps)\n",
        "        dm, ds = self.GP.AcqGrad(xnew)\n",
        "        f, df = self.A.d_eval(self.tau, new_mean, new_std, ds=ds, dm=dm, nu=3.0)\n",
        "\n",
        "        return -f, -df\n",
        "   \n",
        "    def acqfuncApprox(self, xnew, n_start=n_start_AcqFunc):\n",
        "        new_mean, new_var = self.GP.predict(xnew, return_std=True)\n",
        "        new_std = np.sqrt(new_var + eps)\n",
        "        dm, ds = self.GP.AcqGrad(xnew)\n",
        "        f, df = self.A.d_eval(self.tau, new_mean, new_std, ds=ds, dm=dm, nu=3.0)\n",
        "\n",
        "        return -f\n",
        "\n",
        "    def d_optimizeAcq(self, method='L-BFGS-B', n_start=n_start_AcqFunc):\n",
        "        start_points_dict = [self._sampleParam() for i in range(n_start)]\n",
        "        start_points_arr = np.array([list(s.values())\n",
        "                                     for s in start_points_dict])\n",
        "        x_best = np.empty((n_start, len(self.parameter_key)))\n",
        "        f_best = np.empty((n_start,))\n",
        "        opt = Parallel(n_jobs=self.n_jobs)(delayed(minimize)(self.acqfuncExact,\n",
        "                                                                 x0=start_point,\n",
        "                                                                 method=method,\n",
        "                                                                 jac = True,\n",
        "                                                                 bounds=self.parameter_range) for start_point in\n",
        "                                               start_points_arr)\n",
        "        x_best = np.array([res.x for res in opt])\n",
        "        f_best = np.array([np.atleast_1d(res.fun)[0] for res in opt])\n",
        "        f_best_min = min(f_best)\n",
        "\n",
        "        self.x_best = x_best\n",
        "        self.f_best = f_best\n",
        "        self.f_best_min = f_best_min\n",
        "        self.x_best_std = np.std(x_best)\n",
        "        self.best = x_best[np.argmin(f_best)]\n",
        "        self.start_points_arr = start_points_arr\n",
        "        self.history.append(self.x_best_std)\n",
        "\n",
        "        x_best_approx = np.empty((n_start, len(self.parameter_key)))\n",
        "        f_best_approx = np.empty((n_start,))\n",
        "        opt_approx = Parallel(n_jobs=self.n_jobs)(delayed(minimize)(self.acqfuncApprox,\n",
        "                                                                 x0=start_point,\n",
        "                                                                 method=method,\n",
        "                                                                 jac = False,\n",
        "                                                                 bounds=self.parameter_range) for start_point in\n",
        "                                               start_points_arr)\n",
        "        x_best_approx = np.array([res.x for res in opt_approx])\n",
        "        f_best_approx = np.array([np.atleast_1d(res.fun)[0] for res in opt_approx])\n",
        "        f_best_min_approx = min(f_best_approx)\n",
        "\n",
        "        self.x_best_approx = x_best_approx\n",
        "        self.f_best_approx = f_best_approx\n",
        "        self.f_best_min_approx = f_best_min_approx\n",
        "        self.x_best_std_approx = np.std(x_best_approx)\n",
        "        self.best_approx = x_best_approx[np.argmin(f_best_approx)]\n",
        "        self.start_points_arr = start_points_arr\n",
        "        self.history.append(self.x_best_std_approx)\n",
        "    \n",
        "    def _printInit(self):\n",
        "        print(self.header)\n",
        "        for init_eval in range(self.init_evals):\n",
        "            print(self.template.format('init', self.GP.X[init_eval], inverse * self.GP.y[init_eval], inverse * self.tau, '', ''))\n",
        "      \n",
        "    def _printCurrent(self):\n",
        "        OKGREEN = '\\033[92m'\n",
        "        ENDC = '\\033[0m'\n",
        "        BOLD = '\\033[1m'\n",
        "        eval = str(len(self.GP.y) - self.init_evals)\n",
        "        proposed = str(self.best)\n",
        "        curr_eval = str(inverse * self.GP.y[-1])\n",
        "        curr_best = str(inverse * self.tau)\n",
        "        min_acqfunc = str(self.f_best_min)\n",
        "        min_acqfunc_approx = str(self.f_best_min_approx)\n",
        "        x_best_std = str(self.x_best_std)\n",
        "        x_best_std_approx = str(self.x_best_std_approx)\n",
        "        if float(curr_eval) <= float(curr_best):\n",
        "            eval = BOLD + OKGREEN + eval + ENDC\n",
        "            proposed = BOLD + OKGREEN + proposed + ENDC\n",
        "            curr_eval = BOLD + OKGREEN + curr_eval + ENDC\n",
        "            curr_best = BOLD + OKGREEN + curr_best + ENDC\n",
        "            x_best_std = BOLD + OKGREEN + x_best_std + ENDC\n",
        "            x_best_std_approx = BOLD + OKGREEN + x_best_std_approx + ENDC\n",
        "        print(self.template.format(eval, proposed, curr_eval, curr_best, x_best_std, x_best_std_approx))\n",
        "\n",
        "    def run(self, max_iter=10, init_evals=3, resume=False):\n",
        "        \n",
        "        if not resume:\n",
        "            self.init_evals = init_evals\n",
        "            self._firstRun(self.init_evals)\n",
        "            self._printInit()\n",
        "        for iteration in range(max_iter):\n",
        "            self.d_optimizeAcq()\n",
        "            self.updateGP()\n",
        "            self._printCurrent()\n"
      ]
    },
    {
      "cell_type": "code",
      "execution_count": 11,
      "metadata": {
        "id": "qXIKGuXVGEg2"
      },
      "outputs": [],
      "source": [
        "###Reproducible set-seeds:\n",
        "\n",
        "run_num_1 = 1\n",
        "run_num_2 = 2\n",
        "run_num_3 = 3\n",
        "run_num_4 = 4\n",
        "run_num_5 = 5\n",
        "run_num_6 = 6\n",
        "run_num_7 = 7\n",
        "run_num_8 = 8\n",
        "run_num_9 = 9\n",
        "run_num_10 = 10\n",
        "run_num_11 = 11\n",
        "run_num_12 = 12\n",
        "run_num_13 = 13\n",
        "run_num_14 = 14\n",
        "run_num_15 = 15\n",
        "run_num_16 = 16\n",
        "run_num_17 = 17\n",
        "run_num_18 = 18\n",
        "run_num_19 = 19\n",
        "run_num_20 = 20\n"
      ]
    },
    {
      "cell_type": "code",
      "execution_count": 12,
      "metadata": {
        "colab": {
          "base_uri": "https://localhost:8080/"
        },
        "id": "JEhagQmnTVIK",
        "outputId": "09a920cb-b697-49a4-bb67-31f8af13783f"
      },
      "outputs": [
        {
          "output_type": "execute_result",
          "data": {
            "text/plain": [
              "1662387841.2496219"
            ]
          },
          "metadata": {},
          "execution_count": 12
        }
      ],
      "source": [
        "start_approx = time.time()\n",
        "start_approx\n"
      ]
    },
    {
      "cell_type": "code",
      "execution_count": 13,
      "metadata": {
        "colab": {
          "base_uri": "https://localhost:8080/"
        },
        "id": "aH0YSTXufD1v",
        "outputId": "69e25659-0ba3-4d66-805f-572bb3ec1be6"
      },
      "outputs": [
        {
          "output_type": "stream",
          "name": "stdout",
          "text": [
            "Evaluation \t Proposed point \t  Current eval. \t  Best eval. \t        Exact EI: StdDev. x \t Approx EI: StdDev. x \n",
            "init\t [-1.65955991  4.40648987]\t 15.332210716052247\t 15.332210716052247\t    \t    \n",
            "init\t [-9.9977125  -3.95334855]\t 1458.2611077633842\t 15.332210716052247\t    \t    \n",
            "init\t [-7.06488218 -8.1532281 ]\t 1666.779874000304\t 15.332210716052247\t    \t    \n",
            "init\t [-6.27479577 -3.08878546]\t 804.3371752309802\t 15.332210716052247\t    \t    \n",
            "init\t [-2.06465052  0.77633468]\t 126.2019077328938\t 15.332210716052247\t    \t    \n",
            "1  \t [ 7.89213327 -8.29911577]\t 252.857497365554\t 15.332210716052247\t 6.563365918770951\t 7.186179585878235\n",
            "2  \t [7.66612182 2.47344414]\t 195.49152221204983\t 15.332210716052247\t 6.807025020409646\t 6.269278259143331\n",
            "3  \t [  0.46842322 -10.        ]\t 901.6968545731789\t 15.332210716052247\t 6.596695142160601\t 6.739004209436971\n",
            "4  \t [-9.56950389  8.95940422]\t 232.24098716076017\t 15.332210716052247\t 7.5011863036363255\t 8.101273169983468\n",
            "5  \t [10. 10.]\t 1154.0\t 15.332210716052247\t 6.771319081308534\t 6.831876398396096\n",
            "6  \t [ 3.78449293 -2.33864151]\t 62.34919402996884\t 15.332210716052247\t 5.020795866613316\t 6.296273141801917\n",
            "7  \t [2.732088   9.87826049]\t 346.8630008703632\t 15.332210716052247\t 6.390057715365796\t 7.139890519829945\n",
            "8  \t [-9.45774552  2.81664387]\t 562.3302375527161\t 15.332210716052247\t 5.436467079879639\t 7.632167461540844\n",
            "9  \t [-3.53345089 10.        ]\t 93.88763502718271\t 15.332210716052247\t 5.7529512618150065\t 7.100636230077684\n",
            "10 \t [ 8.14815174 -3.17119884]\t 92.99751631943924\t 15.332210716052247\t 5.8778757526502075\t 6.515086892186287\n",
            "11 \t [-0.85678321 -4.53403504]\t 412.95919785666183\t 15.332210716052247\t 4.863469717904944\t 5.361233935116691\n",
            "12 \t [2.94535325 4.44312867]\t 51.79425827181059\t 15.332210716052247\t 6.141645925122522\t 7.073652617767622\n",
            "13 \t [-5.66824032  5.9125414 ]\t 109.36942410042784\t 15.332210716052247\t 4.83995021467868\t 5.970079288287254\n",
            "14 \t [6.555201 6.809711]\t 396.1804636800922\t 15.332210716052247\t 6.4390176688479315\t 6.592893137856679\n",
            "15 \t [ 3.73194269 -6.50843177]\t 281.5570027408562\t 15.332210716052247\t 5.479471380235265\t 6.6731996246726055\n",
            "\u001b[1m\u001b[92m16\u001b[0m\t \u001b[1m\u001b[92m[1.87772129 0.88032572]\u001b[0m\t \u001b[1m\u001b[92m11.433202665041494\u001b[0m\t \u001b[1m\u001b[92m11.433202665041494\u001b[0m\t \u001b[1m\u001b[92m6.757072682597069\u001b[0m\t \u001b[1m\u001b[92m7.087573542793309\u001b[0m\n",
            "17 \t [-5.83629639  1.10057073]\t 355.5943915131768\t 11.433202665041494\t 6.042085329687153\t 6.570840663792625\n",
            "18 \t [-0.5272146   7.64344445]\t 62.73751490174334\t 11.433202665041494\t 5.576269677380391\t 6.596286870583449\n",
            "19 \t [-3.28672398 -8.95374107]\t 1216.2787479466879\t 11.433202665041494\t 6.244657314073582\t 7.376873335449208\n",
            "20 \t [10.          5.38938292]\t 605.581323775944\t 11.433202665041494\t 7.304768751221723\t 7.540789934901701\n"
          ]
        }
      ],
      "source": [
        "### ESTIMATED STP EI GRADIENTS\n",
        "\n",
        "np.random.seed(run_num_1)\n",
        "surrogate_approx_1 = dtStudentProcess(cov_func, optimize=opt, nu = df)\n",
        "\n",
        "approx_1 = GPGO_multi(surrogate_approx_1, Acquisition_grad(util), objfunc, param)\n",
        "approx_1.run(init_evals=n_init, max_iter=iters)\n"
      ]
    },
    {
      "cell_type": "code",
      "execution_count": 14,
      "metadata": {
        "id": "wTxsSZxFGBB5",
        "colab": {
          "base_uri": "https://localhost:8080/"
        },
        "outputId": "cc6d03a7-485b-41a2-a2a5-aaabfdcec7aa"
      },
      "outputs": [
        {
          "output_type": "stream",
          "name": "stdout",
          "text": [
            "Evaluation \t Proposed point \t  Current eval. \t  Best eval. \t        Exact EI: StdDev. x \t Approx EI: StdDev. x \n",
            "init\t [-1.28010196 -9.48147536]\t 1032.6027521517153\t 92.40504507724606\t    \t    \n",
            "init\t [ 0.99324956 -1.29355215]\t 92.40504507724606\t 92.40504507724606\t    \t    \n",
            "init\t [-1.59264396 -3.39330358]\t 370.5851459944721\t 92.40504507724606\t    \t    \n",
            "init\t [-5.90702732  2.38541933]\t 274.38308294748543\t 92.40504507724606\t    \t    \n",
            "init\t [-4.00690653 -4.6634545 ]\t 725.9498417670716\t 92.40504507724606\t    \t    \n",
            "1  \t [-10.  10.]\t 234.0\t 92.40504507724606\t 7.219981268929999\t 6.610779776070095\n",
            "2  \t [10.         -9.51843742]\t 287.2288829641205\t 92.40504507724606\t 7.188206075313155\t 6.536041595035272\n",
            "3  \t [10. 10.]\t 1154.0\t 92.40504507724606\t 7.672516789927142\t 6.638683286669685\n",
            "4  \t [8.51803193 1.4054842 ]\t 199.41545789668123\t 92.40504507724606\t 6.997856408531302\t 6.1085569913346065\n",
            "\u001b[1m\u001b[92m5\u001b[0m\t \u001b[1m\u001b[92m[0.4785912  6.57382921]\u001b[0m\t \u001b[1m\u001b[92m50.31320386172222\u001b[0m\t \u001b[1m\u001b[92m50.31320386172222\u001b[0m\t \u001b[1m\u001b[92m7.064219483851336\u001b[0m\t \u001b[1m\u001b[92m6.828542680582781\u001b[0m\n",
            "6  \t [-10. -10.]\t 2594.0\t 50.31320386172222\t 7.136035502954688\t 6.839050919672984\n",
            "7  \t [ 5.82999541 -4.83759035]\t 120.93918756223451\t 50.31320386172222\t 5.794464181643721\t 6.093913196547946\n",
            "8  \t [-4.0656103 10.       ]\t 89.62786177349918\t 50.31320386172222\t 5.888105197366183\t 5.708293320498978\n",
            "9  \t [-10.          -2.41428172]\t 1228.0290247695757\t 50.31320386172222\t 5.372761011200538\t 5.9880593004681915\n",
            "10 \t [5.64702836 6.11185688]\t 272.07972623143365\t 50.31320386172222\t 5.15804593922134\t 6.06468700896778\n",
            "11 \t [  4.44302647 -10.        ]\t 546.197403680145\t 50.31320386172222\t 5.214147104301535\t 5.473822101677133\n",
            "12 \t [-10.           5.03134102]\t 446.87372178399994\t 50.31320386172222\t 4.570242640712016\t 5.902937175605749\n",
            "13 \t [10.         -3.17515117]\t 151.0515755710813\t 50.31320386172222\t 5.947159802489481\t 5.723737062903281\n",
            "14 \t [ 3.06325767 10.        ]\t 381.8275908931672\t 50.31320386172222\t 5.6960482121931\t 5.284797827932499\n",
            "\u001b[1m\u001b[92m15\u001b[0m\t \u001b[1m\u001b[92m[2.94866922 2.41268655]\u001b[0m\t \u001b[1m\u001b[92m11.555406965469546\u001b[0m\t \u001b[1m\u001b[92m11.555406965469546\u001b[0m\t \u001b[1m\u001b[92m5.230688346119289\u001b[0m\t \u001b[1m\u001b[92m5.583780870067074\u001b[0m\n",
            "16 \t [-1.33057371  2.4910884 ]\t 37.94127201580779\t 11.555406965469546\t 5.253362773916544\t 5.085480712963138\n",
            "17 \t [ 4.47886914 -7.40659704]\t 312.37344792432236\t 11.555406965469546\t 5.914621885597425\t 5.640273029626768\n",
            "18 \t [10.          5.33821387]\t 600.687618906161\t 11.555406965469546\t 5.274937720370886\t 5.635101551354755\n",
            "19 \t [ 5.22765853 -0.75438908]\t 32.86446991221795\t 11.555406965469546\t 5.293115354121601\t 5.732045476183569\n",
            "20 \t [-5.96605297  6.57470554]\t 107.30936333371896\t 11.555406965469546\t 5.8160777554272\t 6.011834625939617\n"
          ]
        }
      ],
      "source": [
        "### ESTIMATED STP EI GRADIENTS\n",
        "\n",
        "np.random.seed(run_num_2)\n",
        "surrogate_approx_2 = dtStudentProcess(cov_func, optimize=opt, nu = df)\n",
        "\n",
        "approx_2 = GPGO_multi(surrogate_approx_2, Acquisition_grad(util), objfunc, param)\n",
        "approx_2.run(init_evals=n_init, max_iter=iters)\n"
      ]
    },
    {
      "cell_type": "code",
      "execution_count": 15,
      "metadata": {
        "id": "-dgzIrUIGCGT",
        "colab": {
          "base_uri": "https://localhost:8080/"
        },
        "outputId": "8d117d38-3964-4a94-f69a-e0d700658edf"
      },
      "outputs": [
        {
          "output_type": "stream",
          "name": "stdout",
          "text": [
            "Evaluation \t Proposed point \t  Current eval. \t  Best eval. \t        Exact EI: StdDev. x \t Approx EI: StdDev. x \n",
            "init\t [1.01595805 4.16295645]\t 6.912079999083602\t 6.912079999083602\t    \t    \n",
            "init\t [-4.18190522  0.2165521 ]\t 288.3871250813255\t 6.912079999083602\t    \t    \n",
            "init\t [7.85893909 7.92586178]\t 626.8352854305291\t 6.912079999083602\t    \t    \n",
            "init\t [-7.48829379 -5.85514244]\t 1353.6437998345716\t 6.912079999083602\t    \t    \n",
            "init\t [-8.97065593 -1.18380313]\t 918.3130335940459\t 6.912079999083602\t    \t    \n",
            "1  \t [ 5.60629529 -3.87272935]\t 88.9992584872525\t 6.912079999083602\t 4.717150437873575\t 4.717150437873575\n",
            "2  \t [-6.2437035   9.04202486]\t 94.75343105833329\t 6.912079999083602\t 6.192187119839109\t 7.006821936778671\n",
            "3  \t [9.77486377 1.79994961]\t 307.94954584894083\t 6.912079999083602\t 6.546315574103579\t 6.850359717017537\n",
            "4  \t [-0.42169096 -8.75441039]\t 834.625955715487\t 6.912079999083602\t 6.484101416313846\t 6.653254482499335\n",
            "5  \t [-0.18681625 10.        ]\t 185.58095415500085\t 6.912079999083602\t 6.544416586783579\t 7.04148142504381\n",
            "6  \t [ 9.91572611 -9.01887335]\t 262.4615798315645\t 6.912079999083602\t 6.131064990013196\t 6.413054702448081\n",
            "7  \t [ 0.69850669 -0.70926041]\t 78.19409262167642\t 6.912079999083602\t 5.770673421120336\t 5.806608475920344\n",
            "8  \t [-9.43411856  4.82714338]\t 408.5293700359781\t 6.912079999083602\t 6.598562338715218\t 6.6115906070102035\n",
            "9  \t [ 5.74317947 -0.19878238]\t 42.2706096709416\t 6.912079999083602\t 5.253567069815276\t 5.693098712012812\n",
            "10 \t [-10. -10.]\t 2594.0\t 6.912079999083602\t 6.292664149929797\t 6.4936787891806835\n",
            "11 \t [ -4.9101334 -10.       ]\t 1634.3022570375122\t 6.912079999083602\t 6.314696779392359\t 5.743878393727738\n",
            "12 \t [-3.69631436  4.93949061]\t 56.21730127657089\t 6.912079999083602\t 6.004661123498813\t 5.968441835410867\n",
            "13 \t [10.         -3.20499945]\t 150.75013050878894\t 6.912079999083602\t 7.235267843883516\t 7.204019112286895\n",
            "14 \t [-2.46032539 -4.23453745]\t 521.8327488132298\t 6.912079999083602\t 5.848342145458418\t 6.189669088727614\n",
            "15 \t [3.25332979 7.4050228 ]\t 201.81635771579016\t 6.912079999083602\t 5.927269567893636\t 6.331870876669449\n",
            "16 \t [  4.81251722 -10.        ]\t 521.1746470650805\t 6.912079999083602\t 6.132776196418029\t 7.463797945913506\n",
            "17 \t [5.75735899 3.87444801]\t 150.2661240387573\t 6.912079999083602\t 6.119203569439588\t 6.609511601163471\n",
            "18 \t [-10.  10.]\t 234.0\t 6.912079999083602\t 7.214058954932327\t 6.814922877695044\n",
            "19 \t [ 1.25278305 -4.09540931]\t 237.6948690263217\t 6.912079999083602\t 5.6928335889012684\t 5.499874512613944\n",
            "20 \t [-4.77009806 -5.49033935]\t 918.8201938823742\t 6.912079999083602\t 5.127096954388703\t 5.1189813275968215\n"
          ]
        }
      ],
      "source": [
        "### ESTIMATED STP EI GRADIENTS\n",
        "\n",
        "np.random.seed(run_num_3)\n",
        "surrogate_approx_3 = dtStudentProcess(cov_func, optimize=opt, nu = df)\n",
        "\n",
        "approx_3 = GPGO_multi(surrogate_approx_3, Acquisition_grad(util), objfunc, param)\n",
        "approx_3.run(init_evals=n_init, max_iter=iters)\n"
      ]
    },
    {
      "cell_type": "code",
      "execution_count": 16,
      "metadata": {
        "id": "hOtG-2sCGCKS",
        "colab": {
          "base_uri": "https://localhost:8080/"
        },
        "outputId": "76718eca-1dde-49fb-8e1c-c33549800234"
      },
      "outputs": [
        {
          "output_type": "stream",
          "name": "stdout",
          "text": [
            "Evaluation \t Proposed point \t  Current eval. \t  Best eval. \t        Exact EI: StdDev. x \t Approx EI: StdDev. x \n",
            "init\t [9.34059678 0.94464498]\t 231.80709501196006\t 215.08077877054313\t    \t    \n",
            "init\t [9.4536872  4.29631987]\t 453.3958241553961\t 215.08077877054313\t    \t    \n",
            "init\t [ 3.95457649 -5.67821009]\t 215.08077877054313\t 215.08077877054313\t    \t    \n",
            "init\t [ 9.5254891 -9.8753949]\t 314.14647993232734\t 215.08077877054313\t    \t    \n",
            "init\t [-4.94035275 -1.30416935]\t 473.61459720928724\t 215.08077877054313\t    \t    \n",
            "1  \t [-10. -10.]\t 2594.0\t 215.08077877054313\t 5.923633376023098\t 6.1139263068365155\n",
            "\u001b[1m\u001b[92m2\u001b[0m\t \u001b[1m\u001b[92m[1.43282743 6.87413988]\u001b[0m\t \u001b[1m\u001b[92m89.39616910477575\u001b[0m\t \u001b[1m\u001b[92m89.39616910477575\u001b[0m\t \u001b[1m\u001b[92m5.311252469726594\u001b[0m\t \u001b[1m\u001b[92m6.0260256543479604\u001b[0m\n",
            "3  \t [-10.  10.]\t 234.0\t 89.39616910477575\t 6.646272429844893\t 6.980591824398845\n",
            "4  \t [-3.77099311 10.        ]\t 91.63626214309886\t 89.39616910477575\t 6.68249333815949\t 6.528511238624276\n",
            "\u001b[1m\u001b[92m5\u001b[0m\t \u001b[1m\u001b[92m[1.01502863 0.55735779]\u001b[0m\t \u001b[1m\u001b[92m29.539957685353023\u001b[0m\t \u001b[1m\u001b[92m29.539957685353023\u001b[0m\t \u001b[1m\u001b[92m4.606263264037467\u001b[0m\t \u001b[1m\u001b[92m5.324237937180538\u001b[0m\n",
            "6  \t [-3.5249608  -7.68742692]\t 1060.3633251516749\t 29.539957685353023\t 5.685539619062224\t 5.852293238971994\n",
            "7  \t [ 6.2929829 10.       ]\t 681.4853828150708\t 29.539957685353023\t 5.271103215879231\t 5.33596060598835\n",
            "8  \t [-10.           3.22729321]\t 585.2565084770163\t 29.539957685353023\t 5.18725226327463\t 6.363898283396035\n",
            "9  \t [-4.00957729  4.47036559]\t 77.36191755267865\t 29.539957685353023\t 5.11872833288517\t 5.594053890372612\n",
            "10 \t [-10.          -3.89391958]\t 1449.2955582234374\t 29.539957685353023\t 5.201935068323042\t 6.66853422961636\n",
            "11 \t [10.        -4.4294296]\t 146.06318969987586\t 29.539957685353023\t 5.390617733605371\t 6.56689550243471\n",
            "12 \t [-2.91916568  8.15405406]\t 48.02393021395088\t 29.539957685353023\t 5.839563549591925\t 5.65728597368994\n",
            "13 \t [  1.41404981 -10.        ]\t 802.7960062429329\t 29.539957685353023\t 5.144534890742648\t 6.785877666433402\n",
            "14 \t [-0.67510641 -4.07394145]\t 359.0299830913625\t 29.539957685353023\t 4.807585066453739\t 5.649668468339401\n",
            "15 \t [4.57095783 3.23422552]\t 70.72428295450449\t 29.539957685353023\t 4.628024596712634\t 6.150632497087915\n",
            "16 \t [ 5.12639411 -1.21426264]\t 34.8180214343539\t 29.539957685353023\t 6.411224677759999\t 6.68917699496804\n",
            "\u001b[1m\u001b[92m17\u001b[0m\t \u001b[1m\u001b[92m[2.14852253 4.24014763]\u001b[0m\t \u001b[1m\u001b[92m25.680050629095042\u001b[0m\t \u001b[1m\u001b[92m25.680050629095042\u001b[0m\t \u001b[1m\u001b[92m5.518606334019709\u001b[0m\t \u001b[1m\u001b[92m5.513160163624103\u001b[0m\n",
            "18 \t [-7.14180528  6.91035525]\t 153.2005486607331\t 25.680050629095042\t 6.272995746203841\t 6.356698250084125\n",
            "19 \t [ 5.55081548 -9.43693578]\t 424.1508661372612\t 25.680050629095042\t 6.932294424895349\t 7.305803645602276\n",
            "20 \t [10.          8.41388829]\t 941.3508887096463\t 25.680050629095042\t 6.269853192015976\t 5.933335766355424\n"
          ]
        }
      ],
      "source": [
        "### ESTIMATED STP EI GRADIENTS\n",
        "\n",
        "np.random.seed(run_num_4)\n",
        "surrogate_approx_4 = dtStudentProcess(cov_func, optimize=opt, nu = df)\n",
        "\n",
        "approx_4= GPGO_multi(surrogate_approx_4, Acquisition_grad(util), objfunc, param)\n",
        "approx_4.run(init_evals=n_init, max_iter=iters)\n"
      ]
    },
    {
      "cell_type": "code",
      "execution_count": 17,
      "metadata": {
        "id": "JF_SxcEvGCOl",
        "colab": {
          "base_uri": "https://localhost:8080/"
        },
        "outputId": "f94ff530-507d-4650-fa82-8d71db2ed7ce"
      },
      "outputs": [
        {
          "output_type": "stream",
          "name": "stdout",
          "text": [
            "Evaluation \t Proposed point \t  Current eval. \t  Best eval. \t        Exact EI: StdDev. x \t Approx EI: StdDev. x \n",
            "init\t [-5.56013658  7.41464612]\t 80.93700948496809\t 18.053107398965345\t    \t    \n",
            "init\t [-5.86561689  8.37221816]\t 84.91838238990834\t 18.053107398965345\t    \t    \n",
            "init\t [-0.23177622  2.23487726]\t 18.053107398965345\t 18.053107398965345\t    \t    \n",
            "init\t [5.31815713 0.36835976]\t 36.94936820355582\t 18.053107398965345\t    \t    \n",
            "init\t [-4.06398997 -6.24557543]\t 930.179306576812\t 18.053107398965345\t    \t    \n",
            "1  \t [9.27861058 9.20453431]\t 946.0775823883291\t 18.053107398965345\t 7.642855955099233\t 7.5506554476188645\n",
            "2  \t [ 8.87080164 -7.76615146]\t 211.3917378701312\t 18.053107398965345\t 6.853952885501704\t 6.84603029310969\n",
            "3  \t [-10. -10.]\t 2594.0\t 18.053107398965345\t 6.8065198011005394\t 7.339478387816786\n",
            "4  \t [  1.48764888 -10.        ]\t 795.4735237624811\t 18.053107398965345\t 5.4934345241051314\t 6.229723439022237\n",
            "5  \t [2.27529    7.98963205]\t 183.51978602997872\t 18.053107398965345\t 5.399552783738616\t 6.493714858336023\n",
            "6  \t [-8.62367183  0.50898962]\t 685.8822920729167\t 18.053107398965345\t 6.675435068605914\t 7.05672216977444\n",
            "7  \t [ 1.50913488 -3.75567955]\t 201.9757059533615\t 18.053107398965345\t 5.239239614661428\t 6.255163711473364\n",
            "8  \t [10.         -2.09617273]\t 167.93044601386597\t 18.053107398965345\t 5.746512828944184\t 7.064183279535287\n",
            "9  \t [9.90741388 3.41856929]\t 427.4130709882081\t 18.053107398965345\t 5.398051167794054\t 6.599305735416661\n",
            "10 \t [-10.           5.67752971]\t 405.2232121407629\t 18.053107398965345\t 5.981032186230882\t 6.145205945148131\n",
            "11 \t [-3.45527732 -0.90941139]\t 315.00506270577614\t 18.053107398965345\t 5.938416203998413\t 6.545677165759413\n",
            "12 \t [-10.          -4.52132757]\t 1549.728668990654\t 18.053107398965345\t 5.328314907865528\t 6.830563480683678\n",
            "13 \t [-1.79592154 10.        ]\t 127.5142800438498\t 18.053107398965345\t 5.606366994740166\t 7.466394052189105\n",
            "14 \t [ 5.97639188 -4.19723658]\t 96.29329519335833\t 18.053107398965345\t 5.100945595940549\t 6.60725860386881\n",
            "15 \t [5.27452092 4.62331313]\t 160.04446029648\t 18.053107398965345\t 4.80806158375842\t 6.266125524303089\n",
            "16 \t [-4.14739317  3.57077477]\t 110.60318443893885\t 18.053107398965345\t 5.339394459347797\t 6.102518050445573\n",
            "17 \t [-10.  10.]\t 234.0\t 18.053107398965345\t 5.446676089006384\t 6.670584637507667\n",
            "\u001b[1m\u001b[92m18\u001b[0m\t \u001b[1m\u001b[92m[-1.13143986  5.96879743]\u001b[0m\t \u001b[1m\u001b[92m16.161464797839358\u001b[0m\t \u001b[1m\u001b[92m16.161464797839358\u001b[0m\t \u001b[1m\u001b[92m5.236755595348681\u001b[0m\t \u001b[1m\u001b[92m6.591335203747965\u001b[0m\n",
            "19 \t [1.97635981 0.08385853]\t 24.50817111407397\t 16.161464797839358\t 4.8711450350003584\t 5.789446809583604\n",
            "20 \t [6.45844444 6.67176026]\t 376.7189902373001\t 16.161464797839358\t 5.725412763714829\t 5.968876791251622\n"
          ]
        }
      ],
      "source": [
        "### ESTIMATED STP EI GRADIENTS\n",
        "\n",
        "np.random.seed(run_num_5)\n",
        "surrogate_approx_5 = dtStudentProcess(cov_func, optimize=opt, nu = df)\n",
        "\n",
        "approx_5 = GPGO_multi(surrogate_approx_5, Acquisition_grad(util), objfunc, param)\n",
        "approx_5.run(init_evals=n_init, max_iter=iters)\n"
      ]
    },
    {
      "cell_type": "code",
      "execution_count": 18,
      "metadata": {
        "id": "-kDxZtJsGCR3",
        "colab": {
          "base_uri": "https://localhost:8080/"
        },
        "outputId": "1104831c-47ac-472b-9f53-37568f89229f"
      },
      "outputs": [
        {
          "output_type": "stream",
          "name": "stdout",
          "text": [
            "Evaluation \t Proposed point \t  Current eval. \t  Best eval. \t        Exact EI: StdDev. x \t Approx EI: StdDev. x \n",
            "init\t [ 7.85720303 -3.36040389]\t 88.46320859272592\t 88.46320859272592\t    \t    \n",
            "init\t [ 6.42458246 -9.16606749]\t 359.2297742730208\t 88.46320859272592\t    \t    \n",
            "init\t [-7.8468664   1.90104128]\t 475.1525044254979\t 88.46320859272592\t    \t    \n",
            "init\t [ 0.59634724 -1.62385143]\t 122.64613090496854\t 88.46320859272592\t    \t    \n",
            "init\t [-3.29184301  2.45038864]\t 112.48071079498652\t 88.46320859272592\t    \t    \n",
            "1  \t [4.34664291 8.74699069]\t 375.00460929454164\t 88.46320859272592\t 6.117702604195868\t 5.956539512944527\n",
            "2  \t [-4.96771714 -9.17248997]\t 1500.0516160468933\t 88.46320859272592\t 6.607668041658453\t 7.340101761748427\n",
            "3  \t [9.57427611 1.74148842]\t 289.1837050334585\t 88.46320859272592\t 6.2342681530132875\t 6.422923950898511\n",
            "4  \t [-10.  10.]\t 234.0\t 88.46320859272592\t 6.683572908253734\t 6.223894215812763\n",
            "\u001b[1m\u001b[92m5\u001b[0m\t \u001b[1m\u001b[92m[-3.04426984  9.06645431]\u001b[0m\t \u001b[1m\u001b[92m69.51490650932189\u001b[0m\t \u001b[1m\u001b[92m69.51490650932189\u001b[0m\t \u001b[1m\u001b[92m7.394620108743127\u001b[0m\t \u001b[1m\u001b[92m7.487561737765331\u001b[0m\n",
            "6  \t [-10.          -5.59424876]\t 1730.5994490868975\t 69.51490650932189\t 6.466579318364958\t 7.205173097836669\n",
            "7  \t [10. 10.]\t 1154.0\t 69.51490650932189\t 7.49844159471448\t 6.3405894514644014\n",
            "\u001b[1m\u001b[92m8\u001b[0m\t \u001b[1m\u001b[92m[2.74613812 2.78194005]\u001b[0m\t \u001b[1m\u001b[92m12.436640035869395\u001b[0m\t \u001b[1m\u001b[92m12.436640035869395\u001b[0m\t \u001b[1m\u001b[92m5.685289513407481\u001b[0m\t \u001b[1m\u001b[92m6.388241168573816\u001b[0m\n",
            "\u001b[1m\u001b[92m9\u001b[0m\t \u001b[1m\u001b[92m[-1.22868843  4.34354782]\u001b[0m\t \u001b[1m\u001b[92m9.906068482791387\u001b[0m\t \u001b[1m\u001b[92m9.906068482791387\u001b[0m\t \u001b[1m\u001b[92m5.295461477032749\u001b[0m\t \u001b[1m\u001b[92m5.2962650734788905\u001b[0m\n",
            "10 \t [-1.38629601 -7.30554564]\t 756.2300575131685\t 9.906068482791387\t 5.418567115540304\t 6.085036395947701\n",
            "11 \t [-4.22111297 -2.74155059]\t 540.9453937699963\t 9.906068482791387\t 5.55564142452351\t 5.794738209302935\n",
            "12 \t [ 3.39515237 -5.4005172 ]\t 220.56307088353952\t 9.906068482791387\t 5.713305097235685\t 6.659349681478634\n",
            "13 \t [ 5.33787981 -1.06418334]\t 35.63442655149126\t 9.906068482791387\t 5.916969513508756\t 6.180487881334403\n",
            "14 \t [6.15207427 4.59097627]\t 210.949996812316\t 9.906068482791387\t 6.867848228547855\t 7.047321627697328\n",
            "15 \t [-6.73671093  6.56971405]\t 142.05500648782612\t 9.906068482791387\t 5.551562293242113\t 7.310341850877915\n",
            "16 \t [10.         -6.83824245]\t 180.60161606792596\t 9.906068482791387\t 6.1998341005937\t 7.225345580618373\n",
            "17 \t [-10. -10.]\t 2594.0\t 9.906068482791387\t 6.691150561091921\t 7.292812657023467\n",
            "18 \t [  2.14494331 -10.        ]\t 732.480371316803\t 9.906068482791387\t 5.681547244593686\t 6.169640432644915\n",
            "19 \t [10.          5.79415997]\t 645.216167444359\t 9.906068482791387\t 6.039481418364645\t 5.8946478255681605\n",
            "20 \t [-7.02919647 -3.1154698 ]\t 902.1533012256826\t 9.906068482791387\t 5.950350032015032\t 5.664246149141555\n"
          ]
        }
      ],
      "source": [
        "### ESTIMATED STP EI GRADIENTS\n",
        "\n",
        "np.random.seed(run_num_6)\n",
        "surrogate_approx_6 = dtStudentProcess(cov_func, optimize=opt, nu = df)\n",
        "\n",
        "approx_6 = GPGO_multi(surrogate_approx_6, Acquisition_grad(util), objfunc, param)\n",
        "approx_6.run(init_evals=n_init, max_iter=iters)\n"
      ]
    },
    {
      "cell_type": "code",
      "execution_count": 19,
      "metadata": {
        "id": "fKB8MCD_GCVI",
        "colab": {
          "base_uri": "https://localhost:8080/"
        },
        "outputId": "fc2e153d-1062-4dfe-a260-a4950bb7848e"
      },
      "outputs": [
        {
          "output_type": "stream",
          "name": "stdout",
          "text": [
            "Evaluation \t Proposed point \t  Current eval. \t  Best eval. \t        Exact EI: StdDev. x \t Approx EI: StdDev. x \n",
            "init\t [-8.47383421  5.59837584]\t 285.59280278210764\t 9.465549861932052\t    \t    \n",
            "init\t [-1.23181537  4.46930356]\t 9.465549861932052\t 9.465549861932052\t    \t    \n",
            "init\t [9.55979024 0.76991741]\t 238.50407296157155\t 9.465549861932052\t    \t    \n",
            "init\t [ 0.02240927 -8.55897733]\t 763.2277954619568\t 9.465549861932052\t    \t    \n",
            "init\t [-4.63122040e+00 -2.34998349e-03]\t 338.87889871968287\t 9.465549861932052\t    \t    \n",
            "1  \t [ 3.3502855 10.       ]\t 404.2351979445157\t 9.465549861932052\t 5.1555136817010485\t 5.320895598711625\n",
            "2  \t [ 10. -10.]\t 314.0\t 9.465549861932052\t 6.322329136808305\t 6.716083305710436\n",
            "3  \t [-9.10467478 -9.8356699 ]\t 2371.896530806677\t 9.465549861932052\t 6.692373646029967\t 7.451666412770484\n",
            "4  \t [-7.86246511 -2.61028169]\t 947.860148457175\t 9.465549861932052\t 5.64468450358378\t 5.949818633453735\n",
            "5  \t [10. 10.]\t 1154.0\t 9.465549861932052\t 5.920950959175306\t 6.430366133496623\n",
            "6  \t [ 3.2885904  -0.89068937]\t 30.641994214563805\t 9.465549861932052\t 5.3987530323371615\t 7.111775731012832\n",
            "7  \t [-3.41644309 10.        ]\t 95.20403478159798\t 9.465549861932052\t 5.541467061139037\t 5.958047485987294\n",
            "8  \t [ 5.58352216 -5.95040203]\t 177.39693084627686\t 9.465549861932052\t 5.384984047082214\t 5.9354384235494155\n",
            "9  \t [4.8808819  4.36144943]\t 126.84293997304471\t 9.465549861932052\t 5.7423477013079856\t 6.3763771431449925\n",
            "10 \t [-0.72063968 -3.32427671]\t 301.83979503723754\t 9.465549861932052\t 5.582938398076385\t 6.534724923273933\n",
            "11 \t [-4.77972066 -6.43809881]\t 1048.8109976439764\t 9.465549861932052\t 5.807593081855537\t 6.037031797910365\n",
            "12 \t [-10.  10.]\t 234.0\t 9.465549861932052\t 5.990755353413612\t 6.922420929891915\n",
            "13 \t [10.         -4.19097912]\t 145.80040688123688\t 9.465549861932052\t 5.855613144811322\t 6.298287291280812\n",
            "14 \t [-10.           1.50443467]\t 747.7933274066812\t 9.465549861932052\t 4.592055153427362\t 5.273688361045178\n",
            "15 \t [9.55512404 5.26051645]\t 546.2123985214204\t 9.465549861932052\t 5.619115213892508\t 6.3155493540242755\n",
            "16 \t [-5.24466004  6.10803375]\t 88.00935067997807\t 9.465549861932052\t 4.948734091381805\t 5.186560222244812\n",
            "17 \t [-0.09313867  1.0984473 ]\t 40.68356045431442\t 9.465549861932052\t 4.751233071097552\t 5.229914859485173\n",
            "18 \t [  3.61352618 -10.        ]\t 607.3458728296852\t 9.465549861932052\t 6.294569369784679\t 6.403687612222854\n",
            "19 \t [5.65393272 7.75173423]\t 398.10435111297875\t 9.465549861932052\t 6.072013037365193\t 6.06128785294974\n",
            "20 \t [-6.93552045  8.69706267]\t 115.47178087499306\t 9.465549861932052\t 5.788119027137846\t 5.788119027137846\n"
          ]
        }
      ],
      "source": [
        "### ESTIMATED STP EI GRADIENTS\n",
        "\n",
        "np.random.seed(run_num_7)\n",
        "surrogate_approx_7 = dtStudentProcess(cov_func, optimize=opt, nu = df)\n",
        "\n",
        "approx_7 = GPGO_multi(surrogate_approx_7, Acquisition_grad(util), objfunc, param)\n",
        "approx_7.run(init_evals=n_init, max_iter=iters)\n"
      ]
    },
    {
      "cell_type": "code",
      "execution_count": 20,
      "metadata": {
        "id": "4unvifF-GCXp",
        "colab": {
          "base_uri": "https://localhost:8080/"
        },
        "outputId": "dec11c42-949e-4f98-dc1c-ab5cec9a9956"
      },
      "outputs": [
        {
          "output_type": "stream",
          "name": "stdout",
          "text": [
            "Evaluation \t Proposed point \t  Current eval. \t  Best eval. \t        Exact EI: StdDev. x \t Approx EI: StdDev. x \n",
            "init\t [7.46858806 9.37081326]\t 741.8307972128058\t 75.39770051777191\t    \t    \n",
            "init\t [7.3838908  0.61711383]\t 110.46436066448925\t 75.39770051777191\t    \t    \n",
            "init\t [-5.34543344 -9.77202391]\t 1665.297823285088\t 75.39770051777191\t    \t    \n",
            "init\t [-1.39062363 -1.9529728 ]\t 245.96065521704543\t 75.39770051777191\t    \t    \n",
            "init\t [ 0.45349343 -0.43216408]\t 75.39770051777191\t 75.39770051777191\t    \t    \n",
            "1  \t [ 9.69498875 -9.42535902]\t 285.65502563735186\t 75.39770051777191\t 6.583109918991878\t 6.609275373863879\n",
            "2  \t [-9.83383251  5.77166529]\t 385.04821658618386\t 75.39770051777191\t 6.891921991488422\t 5.9999178884775635\n",
            "3  \t [-3.97152767  9.51013426]\t 76.56717653580492\t 75.39770051777191\t 7.108422013189667\t 6.345323094593282\n",
            "4  \t [-7.70407295 -3.13512868]\t 994.2083109204074\t 75.39770051777191\t 7.238276215862219\t 7.22593890266256\n",
            "5  \t [ 3.68243245 -6.03223657]\t 250.05679107573832\t 75.39770051777191\t 6.017690008199539\t 6.566490367030307\n",
            "\u001b[1m\u001b[92m6\u001b[0m\t \u001b[1m\u001b[92m[-0.15736113  5.19404264]\u001b[0m\t \u001b[1m\u001b[92m10.452142103613747\u001b[0m\t \u001b[1m\u001b[92m10.452142103613747\u001b[0m\t \u001b[1m\u001b[92m7.807451324739506\u001b[0m\t \u001b[1m\u001b[92m6.677282395122285\u001b[0m\n",
            "7  \t [-4.82062822  2.7379181 ]\t 181.9458496368597\t 10.452142103613747\t 6.313993166036415\t 7.037197079491289\n",
            "8  \t [ 1.59175668 10.        ]\t 279.88925374156656\t 10.452142103613747\t 7.055394145271059\t 7.2742770859251245\n",
            "9  \t [10.         -3.95216666]\t 146.10710681230495\t 10.452142103613747\t 6.529158465894478\t 7.92109194834415\n",
            "10 \t [4.41387828 4.77456047]\t 122.48321660123227\t 10.452142103613747\t 6.9437275765439574\t 7.567384015920556\n",
            "11 \t [  0.30346596 -10.        ]\t 919.8653382974869\t 10.452142103613747\t 7.683520757722816\t 7.533563490922001\n",
            "12 \t [-10.          -7.73362758]\t 2125.6130319960344\t 10.452142103613747\t 7.3233770625352435\t 7.056191216825768\n",
            "13 \t [8.52596833 4.2074084 ]\t 363.18551067416666\t 10.452142103613747\t 5.7014786256738335\t 4.946021436423819\n",
            "14 \t [-10.          1.1199402]\t 788.1183867305385\t 10.452142103613747\t 6.855216423504811\t 7.5895231064917805\n",
            "15 \t [-2.36211592 -6.22759991]\t 730.4562029711285\t 10.452142103613747\t 6.162619017202203\t 6.012333629855484\n",
            "16 \t [  5.27730514 -10.        ]\t 491.63696201282147\t 10.452142103613747\t 5.915044647623135\t 6.373057010761428\n",
            "17 \t [-8.31566846 10.        ]\t 157.2309606801528\t 10.452142103613747\t 6.196777867975913\t 6.862611707861969\n",
            "18 \t [ 4.18960577 -1.84328617]\t 44.56964147010844\t 10.452142103613747\t 6.391402495472044\t 6.752449733730832\n",
            "19 \t [-1.70035601  7.70794796]\t 45.578398332373126\t 10.452142103613747\t 5.0337603592053215\t 5.0073801451301545\n",
            "20 \t [-5.79354945  6.45934645]\t 102.587030602663\t 10.452142103613747\t 6.4160997623124265\t 7.390856130708616\n"
          ]
        }
      ],
      "source": [
        "### ESTIMATED STP EI GRADIENTS\n",
        "\n",
        "np.random.seed(run_num_8)\n",
        "surrogate_approx_8 = dtStudentProcess(cov_func, optimize=opt, nu = df)\n",
        "\n",
        "approx_8 = GPGO_multi(surrogate_approx_8, Acquisition_grad(util), objfunc, param)\n",
        "approx_8.run(init_evals=n_init, max_iter=iters)\n"
      ]
    },
    {
      "cell_type": "code",
      "execution_count": 21,
      "metadata": {
        "id": "85OIXcg7GCaJ",
        "colab": {
          "base_uri": "https://localhost:8080/"
        },
        "outputId": "78383c0c-e72f-48c8-dc18-86275ec34c7f"
      },
      "outputs": [
        {
          "output_type": "stream",
          "name": "stdout",
          "text": [
            "Evaluation \t Proposed point \t  Current eval. \t  Best eval. \t        Exact EI: StdDev. x \t Approx EI: StdDev. x \n",
            "init\t [-9.79251692  0.03749184]\t 882.0577358281939\t 526.7340464177141\t    \t    \n",
            "init\t [-0.08453414 -7.32340942]\t 628.3137012668271\t 526.7340464177141\t    \t    \n",
            "init\t [-7.15777829 -5.62882649]\t 1268.1663931377898\t 526.7340464177141\t    \t    \n",
            "init\t [-1.62983639 -5.03797663]\t 526.7340464177141\t 526.7340464177141\t    \t    \n",
            "init\t [-8.31880698 -3.0900272 ]\t 1073.657277368356\t 526.7340464177141\t    \t    \n",
            "1  \t [6.0747954  9.66718496]\t 621.7013152481403\t 526.7340464177141\t 6.9318613169127135\t 6.029721267865269\n",
            "\u001b[1m\u001b[92m2\u001b[0m\t \u001b[1m\u001b[92m[4.69531634 1.12432974]\u001b[0m\t \u001b[1m\u001b[92m30.41794917619908\u001b[0m\t \u001b[1m\u001b[92m30.41794917619908\u001b[0m\t \u001b[1m\u001b[92m6.893895864664688\u001b[0m\t \u001b[1m\u001b[92m6.6687950738805934\u001b[0m\n",
            "3  \t [-4.34667475  7.2314955 ]\t 51.466984168071384\t 30.41794917619908\t 6.020341047827589\t 6.94601581632233\n",
            "4  \t [ 8.66970884 -6.33785621]\t 157.1508550483091\t 30.41794917619908\t 6.341120835016833\t 6.380981397299225\n",
            "5  \t [10.         3.4504815]\t 438.44933578535364\t 30.41794917619908\t 7.771732347272674\t 7.38526242103149\n",
            "6  \t [-10.  10.]\t 234.0\t 30.41794917619908\t 6.407381440153038\t 5.768050617670188\n",
            "7  \t [-2.00413361  1.08900426]\t 109.31070926825305\t 30.41794917619908\t 6.444509949785394\t 6.428619680353048\n",
            "8  \t [1.34721536 6.0577615 ]\t 55.845933374295214\t 30.41794917619908\t 6.95256698872139\t 7.00583968138189\n",
            "9  \t [  4.83530619 -10.        ]\t 519.6760243289184\t 30.41794917619908\t 7.16137340491015\t 7.096090077689722\n",
            "10 \t [ 4.08348532 -3.71955362]\t 107.54425349843886\t 30.41794917619908\t 7.324922917337895\t 6.58082756918189\n",
            "11 \t [-10. -10.]\t 2594.0\t 30.41794917619908\t 7.317685199685544\t 7.174716735883618\n",
            "12 \t [10.         -1.64721253]\t 178.38361930617583\t 30.41794917619908\t 5.352423511885594\t 7.094287353287136\n",
            "13 \t [-8.67869111  5.16089578]\t 324.41551876600164\t 30.41794917619908\t 5.900904271354634\t 5.853898534939529\n",
            "14 \t [-0.72061628 10.        ]\t 163.44809035750578\t 30.41794917619908\t 6.512616095530169\t 6.536184118472675\n",
            "15 \t [-5.52832283 -9.90635597]\t 1720.019982759546\t 30.41794917619908\t 5.7769130973688885\t 6.049361690030404\n",
            "16 \t [5.52253431 5.00838671]\t 195.0986514203707\t 30.41794917619908\t 6.284248960240106\t 6.354628486564596\n",
            "17 \t [ 10. -10.]\t 314.0\t 30.41794917619908\t 5.019248189934413\t 5.246631549878388\n",
            "18 \t [10.          7.88958828]\t 876.590724310171\t 30.41794917619908\t 5.681748569525076\t 6.0476122294664325\n",
            "19 \t [ 0.03578155 -1.81543459]\t 157.73568463496022\t 30.41794917619908\t 4.886998130225139\t 5.8085727070884765\n",
            "20 \t [-7.46755232  3.23795699]\t 342.661023169759\t 30.41794917619908\t 6.16036181935497\t 6.048712515023548\n"
          ]
        }
      ],
      "source": [
        "### ESTIMATED STP EI GRADIENTS\n",
        "\n",
        "np.random.seed(run_num_9)\n",
        "surrogate_approx_9 = dtStudentProcess(cov_func, optimize=opt, nu = df)\n",
        "\n",
        "approx_9 = GPGO_multi(surrogate_approx_9, Acquisition_grad(util), objfunc, param)\n",
        "approx_9.run(init_evals=n_init, max_iter=iters)\n"
      ]
    },
    {
      "cell_type": "code",
      "execution_count": 22,
      "metadata": {
        "id": "QQBR-qJPGCcp",
        "colab": {
          "base_uri": "https://localhost:8080/"
        },
        "outputId": "892b6fc4-df90-4663-de40-8a1e5f01ca22"
      },
      "outputs": [
        {
          "output_type": "stream",
          "name": "stdout",
          "text": [
            "Evaluation \t Proposed point \t  Current eval. \t  Best eval. \t        Exact EI: StdDev. x \t Approx EI: StdDev. x \n",
            "init\t [ 5.42641287 -9.58496101]\t 444.22200604720473\t 59.96573403226766\t    \t    \n",
            "init\t [2.6729647  4.97607765]\t 59.96573403226766\t 59.96573403226766\t    \t    \n",
            "init\t [-0.02985975 -5.50406709]\t 436.96281238949786\t 59.96573403226766\t    \t    \n",
            "init\t [-6.0387427   5.21061424]\t 147.67401193720747\t 59.96573403226766\t    \t    \n",
            "init\t [-6.61778327 -8.23320372]\t 1605.6543289416081\t 59.96573403226766\t    \t    \n",
            "1  \t [10. 10.]\t 1154.0\t 59.96573403226766\t 5.969361977723801\t 6.111381983339671\n",
            "\u001b[1m\u001b[92m2\u001b[0m\t \u001b[1m\u001b[92m[2.11155129 0.26933255]\u001b[0m\t \u001b[1m\u001b[92m19.17823960765822\u001b[0m\t \u001b[1m\u001b[92m19.17823960765822\u001b[0m\t \u001b[1m\u001b[92m5.0778730812242285\u001b[0m\t \u001b[1m\u001b[92m5.0679843215843015\u001b[0m\n",
            "3  \t [8.50713746 1.33499849]\t 195.6515526065785\t 19.17823960765822\t 5.847798029070991\t 6.535951116197411\n",
            "4  \t [-10.          -3.14620678]\t 1334.7454848844209\t 19.17823960765822\t 6.665718648108021\t 6.955524736317449\n",
            "5  \t [-10.  10.]\t 234.0\t 19.17823960765822\t 6.087552514473286\t 6.636826667826941\n",
            "6  \t [0.20663569 9.9051757 ]\t 197.72783206478573\t 19.17823960765822\t 5.966494721541397\t 6.766733870824144\n",
            "7  \t [10.         -5.24431233]\t 151.25294122919513\t 19.17823960765822\t 5.909855529240394\t 6.368279925246942\n",
            "8  \t [-3.2688235 -0.459571 ]\t 269.1038116817133\t 19.17823960765822\t 6.4121645631425555\t 6.6079589815052335\n",
            "9  \t [-4.83070763 10.        ]\t 88.46613004141888\t 19.17823960765822\t 6.664699303262115\t 6.504163239317394\n",
            "10 \t [ 5.0957825  -3.56281102]\t 84.19084146398423\t 19.17823960765822\t 6.3021782804743545\t 7.197944207270248\n",
            "11 \t [-0.08367683  7.29529934]\t 60.88202825517117\t 19.17823960765822\t 5.215327845187471\t 5.259480445617686\n",
            "12 \t [-10.           2.31116788]\t 667.9896746840559\t 19.17823960765822\t 5.845046277054187\t 6.564343431632142\n",
            "13 \t [4.98024623 9.20626269]\t 469.4199124302378\t 19.17823960765822\t 6.472336420762933\t 5.96748319213593\n",
            "14 \t [ -2.25110949 -10.        ]\t 1235.9639514758592\t 19.17823960765822\t 6.4213100223223085\t 6.5810976565504\n",
            "15 \t [ 10. -10.]\t 314.0\t 19.17823960765822\t 6.533925719536554\t 6.965041061306224\n",
            "16 \t [7.9556569  5.64343673]\t 423.93931444838324\t 19.17823960765822\t 6.241877116133599\t 5.779370392576181\n",
            "17 \t [10.         -1.32458782]\t 187.139976070031\t 19.17823960765822\t 5.883630821985666\t 6.043675459474058\n",
            "18 \t [-1.58200852  3.5546725 ]\t 23.414795032666127\t 19.17823960765822\t 5.413729814893237\t 5.608606329131876\n",
            "19 \t [-10.          -9.71590631]\t 2532.471120870887\t 19.17823960765822\t 4.7856563801916625\t 5.258923951219205\n",
            "20 \t [-5.48183879 -3.94014929]\t 810.7789624416612\t 19.17823960765822\t 5.774856482009127\t 5.417854023210385\n"
          ]
        }
      ],
      "source": [
        "### ESTIMATED STP EI GRADIENTS\n",
        "\n",
        "np.random.seed(run_num_10)\n",
        "surrogate_approx_10 = dtStudentProcess(cov_func, optimize=opt, nu = df)\n",
        "\n",
        "approx_10 = GPGO_multi(surrogate_approx_10, Acquisition_grad(util), objfunc, param)\n",
        "approx_10.run(init_evals=n_init, max_iter=iters)\n"
      ]
    },
    {
      "cell_type": "code",
      "execution_count": 23,
      "metadata": {
        "id": "JS8ejeQ2GCfi",
        "colab": {
          "base_uri": "https://localhost:8080/"
        },
        "outputId": "bde8583c-945a-4507-b9de-e69b0c9a3d36"
      },
      "outputs": [
        {
          "output_type": "stream",
          "name": "stdout",
          "text": [
            "Evaluation \t Proposed point \t  Current eval. \t  Best eval. \t        Exact EI: StdDev. x \t Approx EI: StdDev. x \n",
            "init\t [-6.39460622 -9.61049517]\t 1814.521116554919\t 5.483030044782123\t    \t    \n",
            "init\t [-0.73562947  4.49867858]\t 5.483030044782123\t 5.483030044782123\t    \t    \n",
            "init\t [-1.59592791 -0.29145804]\t 156.21779076814232\t 5.483030044782123\t    \t    \n",
            "init\t [-9.74438371 -0.25256785]\t 909.6795910034871\t 5.483030044782123\t    \t    \n",
            "init\t [8.83613305 7.01590179]\t 639.4153671589368\t 5.483030044782123\t    \t    \n",
            "1  \t [ 1.99086793 -8.88652641]\t 617.1328244256196\t 5.483030044782123\t 6.185758008302068\t 6.3943135155428195\n",
            "2  \t [ 4.79903036 -1.6267314 ]\t 38.579631108734375\t 5.483030044782123\t 5.1343567094759095\t 4.846654737033998\n",
            "3  \t [-10.  10.]\t 234.0\t 5.483030044782123\t 5.871646563702384\t 7.311316504665365\n",
            "4  \t [ 10. -10.]\t 314.0\t 5.483030044782123\t 5.9438149921267\t 6.08690748140096\n",
            "5  \t [ 3.97201007 10.        ]\t 455.59678337176763\t 5.483030044782123\t 5.956328562627875\t 6.154981772251652\n",
            "6  \t [5.60568888 3.09856241]\t 109.74200567605747\t 5.483030044782123\t 6.6438395878759\t 6.605063072912048\n",
            "7  \t [-4.0201111 10.       ]\t 89.88135567057542\t 5.483030044782123\t 6.679765754091608\t 6.762092076928555\n",
            "8  \t [10.         -3.98566912]\t 146.02968862629905\t 5.483030044782123\t 6.693535122568367\t 6.2559583395518334\n",
            "9  \t [-6.30883994  4.8861545 ]\t 174.59878956429378\t 5.483030044782123\t 6.276024331226095\t 5.774831007547407\n",
            "10 \t [-2.46392547 -5.48576874]\t 655.1878173521661\t 5.483030044782123\t 6.545863127991763\t 5.668370057473002\n",
            "11 \t [10.          1.08132756]\t 285.2621040664699\t 5.483030044782123\t 7.649830300714146\t 7.126826661989343\n",
            "12 \t [-7.2685352  -4.52291845]\t 1122.4430111817462\t 5.483030044782123\t 5.992250366830786\t 6.002977452650938\n",
            "13 \t [ 5.41318989 -5.67490835]\t 167.37925687200593\t 5.483030044782123\t 5.596334608245018\t 6.5149969701895865\n",
            "14 \t [-0.21908965  8.02734532]\t 84.77162554882716\t 5.483030044782123\t 6.980100213193212\t 6.401380304608168\n",
            "15 \t [ 1.50823406 -3.63098201]\t 194.18039414036838\t 5.483030044782123\t 6.78242424972734\t 7.058791987979713\n",
            "\u001b[1m\u001b[92m16\u001b[0m\t \u001b[1m\u001b[92m[1.84089167 1.81922304]\u001b[0m\t \u001b[1m\u001b[92m2.563421051076188\u001b[0m\t \u001b[1m\u001b[92m2.563421051076188\u001b[0m\t \u001b[1m\u001b[92m6.382972230646747\u001b[0m\t \u001b[1m\u001b[92m5.978511273431777\u001b[0m\n",
            "17 \t [-5.4513202   0.78465517]\t 346.97161566466156\t 2.563421051076188\t 5.963029232512586\t 5.331860025177696\n",
            "18 \t [-10.           5.76235053]\t 400.0660555740862\t 2.563421051076188\t 7.257247531336446\t 6.805289659397102\n",
            "19 \t [2.97155245 5.91190171]\t 107.75868888420774\t 2.563421051076188\t 5.943214245500984\t 5.886079705931031\n",
            "20 \t [ -2.08091233 -10.        ]\t 1212.8749856407412\t 2.563421051076188\t 6.031982536833332\t 5.953288483685919\n"
          ]
        }
      ],
      "source": [
        "### ESTIMATED STP EI GRADIENTS\n",
        "\n",
        "np.random.seed(run_num_11)\n",
        "surrogate_approx_11 = dtStudentProcess(cov_func, optimize=opt, nu = df)\n",
        "\n",
        "approx_11 = GPGO_multi(surrogate_approx_11, Acquisition_grad(util), objfunc, param)\n",
        "approx_11.run(init_evals=n_init, max_iter=iters)\n"
      ]
    },
    {
      "cell_type": "code",
      "execution_count": 24,
      "metadata": {
        "id": "DXwjUVZ4GCii",
        "colab": {
          "base_uri": "https://localhost:8080/"
        },
        "outputId": "62fac081-c340-43eb-87ab-42c03117ec1f"
      },
      "outputs": [
        {
          "output_type": "stream",
          "name": "stdout",
          "text": [
            "Evaluation \t Proposed point \t  Current eval. \t  Best eval. \t        Exact EI: StdDev. x \t Approx EI: StdDev. x \n",
            "init\t [-6.91674315  4.80099393]\t 215.5279554685742\t 189.34864056663108\t    \t    \n",
            "init\t [-4.7336997   0.67478787]\t 298.0661631184378\t 189.34864056663108\t    \t    \n",
            "init\t [-9.70850075  8.37494016]\t 257.3494442600599\t 189.34864056663108\t    \t    \n",
            "init\t [ 8.01429708 -9.33157145]\t 314.3616446198572\t 189.34864056663108\t    \t    \n",
            "init\t [ 9.13898673 -7.25581357]\t 189.34864056663108\t 189.34864056663108\t    \t    \n",
            "\u001b[1m\u001b[92m1\u001b[0m\t \u001b[1m\u001b[92m[4.66251955 4.05244711]\u001b[0m\t \u001b[1m\u001b[92m103.44533669968575\u001b[0m\t \u001b[1m\u001b[92m103.44533669968575\u001b[0m\t \u001b[1m\u001b[92m6.300792474230376\u001b[0m\t \u001b[1m\u001b[92m5.818882446790455\u001b[0m\n",
            "2  \t [-3.75432006 -8.6025265 ]\t 1227.4078991356632\t 103.44533669968575\t 6.695732765956745\t 5.94385448028257\n",
            "3  \t [ 8.00686778 10.        ]\t 882.8655766674106\t 103.44533669968575\t 6.6376507178358635\t 7.216948665728979\n",
            "4  \t [-10.          -3.64550218]\t 1410.6176887017705\t 103.44533669968575\t 6.185408711864018\t 5.930873708476708\n",
            "5  \t [ 0.62210464 -2.97493495]\t 197.27646434881547\t 103.44533669968575\t 6.773095840455517\t 6.721293634812222\n",
            "\u001b[1m\u001b[92m6\u001b[0m\t \u001b[1m\u001b[92m[-2.95785498 10.        ]\u001b[0m\t \u001b[1m\u001b[92m101.68320134970374\u001b[0m\t \u001b[1m\u001b[92m101.68320134970374\u001b[0m\t \u001b[1m\u001b[92m6.424902370165148\u001b[0m\t \u001b[1m\u001b[92m7.071438502531138\u001b[0m\n",
            "7  \t [-10. -10.]\t 2594.0\t 101.68320134970374\t 8.551588711236036\t 7.110580329701434\n",
            "8  \t [ 8.10926865 -0.777661  ]\t 109.21086145195294\t 101.68320134970374\t 5.760886139595432\t 6.475566123799232\n",
            "9  \t [  2.20868749 -10.        ]\t 726.6011279156995\t 101.68320134970374\t 6.3794482370315455\t 7.098567535913621\n",
            "\u001b[1m\u001b[92m10\u001b[0m\t \u001b[1m\u001b[92m[-0.81120491  4.877855  ]\u001b[0m\t \u001b[1m\u001b[92m6.824571587654463\u001b[0m\t \u001b[1m\u001b[92m6.824571587654463\u001b[0m\t \u001b[1m\u001b[92m5.426032812342651\u001b[0m\t \u001b[1m\u001b[92m5.891995647938996\u001b[0m\n",
            "11 \t [10.          4.45404769]\t 520.2627067950267\t 6.824571587654463\t 5.7327437723033885\t 6.47394831778777\n",
            "12 \t [2.31798989 9.14667732]\t 262.40376519566814\t 6.824571587654463\t 4.8968601722768135\t 5.573711879853833\n",
            "13 \t [ 5.06913564 -4.74148953]\t 130.43325752800737\t 6.824571587654463\t 5.803144099496511\t 6.582556532881493\n",
            "14 \t [-10.           1.49258435]\t 749.0140872408796\t 6.824571587654463\t 5.902657476905425\t 6.360296992855825\n",
            "15 \t [0.88164381 1.54740786]\t 11.995546625187483\t 6.824571587654463\t 6.577579468296731\t 7.053168084605353\n",
            "16 \t [-4.28833355 -3.80702313]\t 659.492648293624\t 6.824571587654463\t 6.0516992129919975\t 6.46887970824592\n",
            "17 \t [ 4.04901837 -0.33168979]\t 20.716282462702573\t 6.824571587654463\t 5.32266942005489\t 6.884237421223465\n",
            "18 \t [ 1.91508122 -6.44603993]\t 381.1740698937552\t 6.824571587654463\t 6.278987077844542\t 5.816160208543197\n",
            "19 \t [-5.99563365  8.41051728]\t 88.26296315308697\t 6.824571587654463\t 5.850118134571068\t 5.502817975369734\n",
            "20 \t [-0.30098617 -7.05954203]\t 619.1333545399625\t 6.824571587654463\t 5.223906935953314\t 5.223906935953314\n"
          ]
        }
      ],
      "source": [
        "### ESTIMATED STP EI GRADIENTS\n",
        "\n",
        "np.random.seed(run_num_12)\n",
        "surrogate_approx_12 = dtStudentProcess(cov_func, optimize=opt, nu = df)\n",
        "\n",
        "approx_12 = GPGO_multi(surrogate_approx_12, Acquisition_grad(util), objfunc, param)\n",
        "approx_12.run(init_evals=n_init, max_iter=iters)\n"
      ]
    },
    {
      "cell_type": "code",
      "execution_count": 25,
      "metadata": {
        "id": "CphOPndPGClX",
        "colab": {
          "base_uri": "https://localhost:8080/"
        },
        "outputId": "e56b65d8-77cf-4b0b-d29f-bcf57fd63cd6"
      },
      "outputs": [
        {
          "output_type": "stream",
          "name": "stdout",
          "text": [
            "Evaluation \t Proposed point \t  Current eval. \t  Best eval. \t        Exact EI: StdDev. x \t Approx EI: StdDev. x \n",
            "init\t [ 5.55404821 -5.2491756 ]\t 143.4041188295949\t 48.27231948835582\t    \t    \n",
            "init\t [6.48557065 9.31498396]\t 626.9828646177026\t 48.27231948835582\t    \t    \n",
            "init\t [ 9.45202228 -0.93101505]\t 168.64758529203058\t 48.27231948835582\t    \t    \n",
            "init\t [2.18084926 5.51053029]\t 62.202299160666314\t 48.27231948835582\t    \t    \n",
            "init\t [2.8322669  4.44036459]\t 48.27231948835582\t 48.27231948835582\t    \t    \n",
            "1  \t [-8.69830926  2.59657998]\t 502.3996877395562\t 48.27231948835582\t 5.484391039397778\t 6.237105232579203\n",
            "2  \t [-5.9673185  -6.48540274]\t 1221.284536050755\t 48.27231948835582\t 5.990219527655926\t 6.678348829662276\n",
            "3  \t [-10.  10.]\t 234.0\t 48.27231948835582\t 7.376877531902735\t 7.566755528532926\n",
            "4  \t [ 10. -10.]\t 314.0\t 48.27231948835582\t 7.077093712639834\t 6.628795585452085\n",
            "5  \t [-0.14272208 -1.33662068]\t 140.20488098410607\t 48.27231948835582\t 6.449701480366239\t 6.545255187802559\n",
            "6  \t [-2.87389334  8.38919246]\t 53.23497063543061\t 48.27231948835582\t 6.290603232712714\t 6.4445391303938475\n",
            "7  \t [ -0.33403068 -10.        ]\t 992.6373800250686\t 48.27231948835582\t 8.116580836573686\t 7.40878095759733\n",
            "8  \t [10.          4.68678253]\t 540.6745190085138\t 48.27231948835582\t 7.2605900618567265\t 6.8714084708815735\n",
            "9  \t [-3.04296601  3.177868  ]\t 76.13314184690657\t 48.27231948835582\t 7.560972926462223\t 7.310903607544526\n",
            "10 \t [-10.          -2.68977188]\t 1267.5674452680457\t 48.27231948835582\t 7.797487372744108\t 6.557775007608787\n",
            "11 \t [-10. -10.]\t 2594.0\t 48.27231948835582\t 7.553281035527523\t 7.288407301720282\n",
            "\u001b[1m\u001b[92m12\u001b[0m\t \u001b[1m\u001b[92m[4.60750487 0.04926518]\u001b[0m\t \u001b[1m\u001b[92m23.446314914725896\u001b[0m\t \u001b[1m\u001b[92m23.446314914725896\u001b[0m\t \u001b[1m\u001b[92m5.544251667750049\u001b[0m\t \u001b[1m\u001b[92m6.1050849883828295\u001b[0m\n",
            "13 \t [-4.95249126 -1.1910555 ]\t 464.56326157834303\t 23.446314914725896\t 6.995374771171427\t 6.5098613211954826\n",
            "14 \t [  4.92847365 -10.        ]\t 513.6032665924506\t 23.446314914725896\t 4.86124456533051\t 5.82983399361165\n",
            "15 \t [ 1.38781268 10.        ]\t 267.4695031653262\t 23.446314914725896\t 6.430662546299302\t 6.14760575593823\n",
            "16 \t [ 1.11742588 -5.464746  ]\t 350.37672606573176\t 23.446314914725896\t 6.651981778851635\t 5.460759668558958\n",
            "17 \t [-6.70937292  6.66351422]\t 138.33165788065213\t 23.446314914725896\t 7.041433847921274\t 7.068032577809315\n",
            "18 \t [ 9.03956522 -5.23082318]\t 132.5273775750496\t 23.446314914725896\t 5.176262480592327\t 5.154280511183634\n",
            "19 \t [6.14725901 3.10982922]\t 137.05424435731794\t 23.446314914725896\t 6.048517389590851\t 5.910475393380048\n",
            "20 \t [ 2.37956109 -2.71217718]\t 109.61840552135257\t 23.446314914725896\t 6.698539712381671\t 6.4738302822987706\n"
          ]
        }
      ],
      "source": [
        "### ESTIMATED STP EI GRADIENTS\n",
        "\n",
        "np.random.seed(run_num_13)\n",
        "surrogate_approx_13 = dtStudentProcess(cov_func, optimize=opt, nu = df)\n",
        "\n",
        "approx_13 = GPGO_multi(surrogate_approx_13, Acquisition_grad(util), objfunc, param)\n",
        "approx_13.run(init_evals=n_init, max_iter=iters)\n"
      ]
    },
    {
      "cell_type": "code",
      "execution_count": 26,
      "metadata": {
        "id": "ojHTeARNGCoi",
        "colab": {
          "base_uri": "https://localhost:8080/"
        },
        "outputId": "53339342-8383-4e31-d999-054c8c2be70e"
      },
      "outputs": [
        {
          "output_type": "stream",
          "name": "stdout",
          "text": [
            "Evaluation \t Proposed point \t  Current eval. \t  Best eval. \t        Exact EI: StdDev. x \t Approx EI: StdDev. x \n",
            "init\t [0.27886688 5.46330104]\t 18.728481209446468\t 18.728481209446468\t    \t    \n",
            "init\t [ 7.40855371 -9.83906103]\t 371.31674613664467\t 18.728481209446468\t    \t    \n",
            "init\t [-3.80528149  9.15207479]\t 68.19416312981014\t 18.728481209446468\t    \t    \n",
            "init\t [ 0.26233425 -3.6343115 ]\t 261.94243460125864\t 18.728481209446468\t    \t    \n",
            "init\t [ 0.78399875 -5.57490115]\t 382.6954465291845\t 18.728481209446468\t    \t    \n",
            "1  \t [ 9.82765998 -0.95725402]\t 188.47085669712428\t 18.728481209446468\t 6.054451764044567\t 6.7541062862693515\n",
            "2  \t [-8.1477833   0.47898709]\t 634.6806661127735\t 18.728481209446468\t 5.997407220403014\t 6.2123675433082415\n",
            "3  \t [-10. -10.]\t 2594.0\t 18.728481209446468\t 7.066521727457375\t 6.898912773934036\n",
            "4  \t [10.          6.27694981]\t 694.6323863686778\t 18.728481209446468\t 6.017115044008492\t 6.389753743011874\n",
            "5  \t [-10.  10.]\t 234.0\t 18.728481209446468\t 5.254574941074166\t 6.184527768868264\n",
            "6  \t [ 4.2971393 10.       ]\t 483.9954387133446\t 18.728481209446468\t 7.00009152895822\t 5.94702857909988\n",
            "7  \t [4.17931392 1.31046255]\t 21.840309426754526\t 18.728481209446468\t 5.361477874887461\t 5.39374951004933\n",
            "8  \t [-5.59837415 -5.26207413]\t 995.1321033916986\t 18.728481209446468\t 6.500922993195754\t 7.198235340928088\n",
            "9  \t [-2.46810125  1.23107817]\t 124.86245409333758\t 18.728481209446468\t 6.654060352787797\t 6.500863802646393\n",
            "10 \t [ -2.4780117 -10.       ]\t 1267.196043571608\t 18.728481209446468\t 7.141419940520572\t 7.446458647535932\n",
            "11 \t [ 6.06049975 -4.55091423]\t 107.43362054682777\t 18.728481209446468\t 6.839103606431543\t 7.129669958605514\n",
            "12 \t [-7.19393204  5.65152623]\t 197.04416203741317\t 18.728481209446468\t 6.325521942806571\t 6.880194727016388\n",
            "13 \t [  2.63953081 -10.        ]\t 687.9291017226132\t 18.728481209446468\t 6.221859094088861\t 6.589143832526031\n",
            "14 \t [5.05643801 5.2566933 ]\t 180.96986168559374\t 18.728481209446468\t 5.728609191670607\t 5.80490326130254\n",
            "15 \t [-0.05859336 10.        ]\t 191.32187156156957\t 18.728481209446468\t 6.728036967781783\t 7.19798045268874\n",
            "16 \t [10.         -5.96215265]\t 161.3259097760748\t 18.728481209446468\t 6.933485307682468\t 6.125896554371775\n",
            "17 \t [7.47842852 9.96695579]\t 813.6219464910598\t 18.728481209446468\t 5.977611978227741\t 6.123029955523332\n",
            "18 \t [ -5.79714536 -10.        ]\t 1782.9090421756991\t 18.728481209446468\t 5.401443200784432\t 6.588516993709017\n",
            "19 \t [-10.          -5.03916416]\t 1635.5872486812823\t 18.728481209446468\t 5.326569578919957\t 5.752849087371275\n",
            "20 \t [-0.6993009   7.42469692]\t 52.17670028858973\t 18.728481209446468\t 5.457415228031128\t 5.18610801341569\n"
          ]
        }
      ],
      "source": [
        "### ESTIMATED STP EI GRADIENTS\n",
        "\n",
        "np.random.seed(run_num_14)\n",
        "surrogate_approx_14 = dtStudentProcess(cov_func, optimize=opt, nu = df)\n",
        "\n",
        "approx_14 = GPGO_multi(surrogate_approx_14, Acquisition_grad(util), objfunc, param)\n",
        "approx_14.run(init_evals=n_init, max_iter=iters)\n"
      ]
    },
    {
      "cell_type": "code",
      "execution_count": 27,
      "metadata": {
        "id": "vCJzn4vWGCs3",
        "colab": {
          "base_uri": "https://localhost:8080/"
        },
        "outputId": "94be11ab-7b5e-4d7a-80bd-2912072b43e1"
      },
      "outputs": [
        {
          "output_type": "stream",
          "name": "stdout",
          "text": [
            "Evaluation \t Proposed point \t  Current eval. \t  Best eval. \t        Exact EI: StdDev. x \t Approx EI: StdDev. x \n",
            "init\t [ 6.97635395 -6.4220815 ]\t 171.98457986923216\t 171.98457986923216\t    \t    \n",
            "init\t [-8.91273571 -2.76923108]\t 1115.2426864421157\t 171.98457986923216\t    \t    \n",
            "init\t [-4.49198143  0.6000045 ]\t 285.0550378664367\t 171.98457986923216\t    \t    \n",
            "init\t [-3.88162169 -3.91051282]\t 627.8031621427792\t 171.98457986923216\t    \t    \n",
            "init\t [-7.76517448 -5.00201972]\t 1265.415808453521\t 171.98457986923216\t    \t    \n",
            "1  \t [2.89826636 8.33020007]\t 241.01735544838436\t 171.98457986923216\t 6.159928384414911\t 6.519288465109335\n",
            "2  \t [-9.69991687  7.99454818]\t 269.63866043864715\t 171.98457986923216\t 7.649307704449965\t 7.687844696749708\n",
            "3  \t [10.          8.83744338]\t 995.6746493727264\t 171.98457986923216\t 7.277526452903825\t 7.110561092395765\n",
            "\u001b[1m\u001b[92m4\u001b[0m\t \u001b[1m\u001b[92m[8.17696818 1.09984692]\u001b[0m\t \u001b[1m\u001b[92m166.4985641578168\u001b[0m\t \u001b[1m\u001b[92m166.4985641578168\u001b[0m\t \u001b[1m\u001b[92m5.869100541527886\u001b[0m\t \u001b[1m\u001b[92m6.110099005422095\u001b[0m\n",
            "5  \t [ -0.35526248 -10.        ]\t 995.1309801731977\t 166.4985641578168\t 4.7651397821825245\t 6.603942264776798\n",
            "\u001b[1m\u001b[92m6\u001b[0m\t \u001b[1m\u001b[92m[ 2.25465829 -1.10493066]\u001b[0m\t \u001b[1m\u001b[92m50.92083359413578\u001b[0m\t \u001b[1m\u001b[92m50.92083359413578\u001b[0m\t \u001b[1m\u001b[92m6.5388466201957876\u001b[0m\t \u001b[1m\u001b[92m8.213486057056398\u001b[0m\n",
            "\u001b[1m\u001b[92m7\u001b[0m\t \u001b[1m\u001b[92m[-3.86602183  6.87187106]\u001b[0m\t \u001b[1m\u001b[92m42.6228969446942\u001b[0m\t \u001b[1m\u001b[92m42.6228969446942\u001b[0m\t \u001b[1m\u001b[92m7.11453420792513\u001b[0m\t \u001b[1m\u001b[92m6.67385246365278\u001b[0m\n",
            "\u001b[1m\u001b[92m8\u001b[0m\t \u001b[1m\u001b[92m[0.2065034  3.60754052]\u001b[0m\t \u001b[1m\u001b[92m1.1370609812493944\u001b[0m\t \u001b[1m\u001b[92m1.1370609812493944\u001b[0m\t \u001b[1m\u001b[92m6.350171072939831\u001b[0m\t \u001b[1m\u001b[92m7.668321478185198\u001b[0m\n",
            "9  \t [-10. -10.]\t 2594.0\t 1.1370609812493944\t 6.313982647600484\t 7.223094535921281\n",
            "10 \t [ 1.2556205  -5.77177401]\t 367.1088438701189\t 1.1370609812493944\t 6.592619249574057\t 6.381477313478266\n",
            "11 \t [-10.           2.69515913]\t 632.2906367846397\t 1.1370609812493944\t 6.131728704711724\t 6.648226552431081\n",
            "12 \t [ 10. -10.]\t 314.0\t 1.1370609812493944\t 5.354170644807252\t 6.904576942673131\n",
            "13 \t [6.36086531 5.25259933]\t 265.67245647565625\t 1.1370609812493944\t 5.977158122193854\t 6.884918640440984\n",
            "14 \t [10.         -3.07268756]\t 152.1541667340602\t 1.1370609812493944\t 5.945937302752772\t 6.4094139380885675\n",
            "15 \t [-1.33256229 10.        ]\t 141.5807459423643\t 1.1370609812493944\t 5.230477183169136\t 5.775093272155338\n",
            "16 \t [-5.054568   -9.26807713]\t 1530.0408083571251\t 1.1370609812493944\t 6.024783523637695\t 6.228909343851653\n",
            "17 \t [-5.9028972 10.       ]\t 96.68770556944287\t 1.1370609812493944\t 4.7563282983816375\t 6.142126024101993\n",
            "18 \t [ 3.68878043 -9.44677318]\t 543.0253930342118\t 1.1370609812493944\t 5.570135874130168\t 5.922851654762903\n",
            "19 \t [6.23616491 3.12283239]\t 142.3079191472234\t 1.1370609812493944\t 6.015402410532176\t 6.015398032366591\n",
            "20 \t [3.4257886  1.68609305]\t 12.555925064466187\t 1.1370609812493944\t 5.582114718110725\t 5.425095714853203\n"
          ]
        }
      ],
      "source": [
        "### ESTIMATED STP EI GRADIENTS\n",
        "\n",
        "np.random.seed(run_num_15)\n",
        "surrogate_approx_15 = dtStudentProcess(cov_func, optimize=opt, nu = df)\n",
        "\n",
        "approx_15 = GPGO_multi(surrogate_approx_15, Acquisition_grad(util), objfunc, param)\n",
        "approx_15.run(init_evals=n_init, max_iter=iters)\n"
      ]
    },
    {
      "cell_type": "code",
      "execution_count": 28,
      "metadata": {
        "id": "bGGkhp-kGCw6",
        "colab": {
          "base_uri": "https://localhost:8080/"
        },
        "outputId": "b9472802-deaa-4787-be81-1340539c43bd"
      },
      "outputs": [
        {
          "output_type": "stream",
          "name": "stdout",
          "text": [
            "Evaluation \t Proposed point \t  Current eval. \t  Best eval. \t        Exact EI: StdDev. x \t Approx EI: StdDev. x \n",
            "init\t [-5.53417842  0.46326683]\t 378.2562509858209\t 182.86095429406956\t    \t    \n",
            "init\t [ 1.01402913 -9.087961  ]\t 729.2383206820605\t 182.86095429406956\t    \t    \n",
            "init\t [-2.78542329 -5.53838117]\t 694.7380078426447\t 182.86095429406956\t    \t    \n",
            "init\t [ 3.77452324 -6.7253715 ]\t 295.53799633399245\t 182.86095429406956\t    \t    \n",
            "init\t [-8.59350266  8.8202172 ]\t 182.86095429406956\t 182.86095429406956\t    \t    \n",
            "1  \t [ 4.14420166 10.        ]\t 470.5053136035404\t 182.86095429406956\t 6.70943214267663\t 6.911203548816236\n",
            "2  \t [9.22704387 3.02362854]\t 339.97919009954177\t 182.86095429406956\t 7.223772947995441\t 7.311826890563317\n",
            "3  \t [-10. -10.]\t 2594.0\t 182.86095429406956\t 7.083431596695948\t 7.203319808296575\n",
            "\u001b[1m\u001b[92m4\u001b[0m\t \u001b[1m\u001b[92m[2.52659469 4.34688856]\u001b[0m\t \u001b[1m\u001b[92m37.172224022032054\u001b[0m\t \u001b[1m\u001b[92m37.172224022032054\u001b[0m\t \u001b[1m\u001b[92m5.675289544788536\u001b[0m\t \u001b[1m\u001b[92m6.318062936958706\u001b[0m\n",
            "\u001b[1m\u001b[92m5\u001b[0m\t \u001b[1m\u001b[92m[-2.22531694  5.42968011]\u001b[0m\t \u001b[1m\u001b[92m18.838166667692633\u001b[0m\t \u001b[1m\u001b[92m18.838166667692633\u001b[0m\t \u001b[1m\u001b[92m5.735155766120829\u001b[0m\t \u001b[1m\u001b[92m5.887350956850188\u001b[0m\n",
            "6  \t [ 10. -10.]\t 314.0\t 18.838166667692633\t 6.947263052348909\t 7.876667670249406\n",
            "7  \t [10.         -3.58676339]\t 147.68029568621213\t 18.838166667692633\t 6.429731564820649\t 6.929010512896693\n",
            "8  \t [ 4.07092227 -1.02101898]\t 29.209892225042694\t 18.838166667692633\t 5.043244435336618\t 5.115622415388667\n",
            "9  \t [-10.          -3.57128689]\t 1399.1823036731391\t 18.838166667692633\t 7.331482189784395\t 7.300077904085886\n",
            "10 \t [10. 10.]\t 1154.0\t 18.838166667692633\t 7.31324062126447\t 7.423831634279536\n",
            "11 \t [-10.           3.60212017]\t 553.8261681410742\t 18.838166667692633\t 5.159296446539901\t 5.966161466582979\n",
            "12 \t [-1.05302101 10.        ]\t 151.10529962263794\t 18.838166667692633\t 5.700321005773099\t 6.3377145335953164\n",
            "13 \t [-0.58561612  0.14215939]\t 89.65866222422629\t 18.838166667692633\t 5.146108744460446\t 4.9880812580901885\n",
            "14 \t [-6.2416669  -7.92323047]\t 1491.6126892404604\t 18.838166667692633\t 5.6388436920618625\t 5.360089528585849\n",
            "15 \t [6.24739755 6.14562013]\t 319.2010906301293\t 18.838166667692633\t 4.534767296381929\t 5.635836112600397\n",
            "16 \t [-4.64756093  8.00139904]\t 58.57903759684501\t 18.838166667692633\t 4.401143399372454\t 5.657170313448221\n",
            "17 \t [ 1.08366593 -3.50824652]\t 207.46521584891843\t 18.838166667692633\t 5.425282524787859\t 6.368130149811366\n",
            "18 \t [0.01527365 7.31154464]\t 63.82998293320609\t 18.838166667692633\t 5.717497075439811\t 5.6001264731742255\n",
            "19 \t [ 6.9565203  -5.23084635]\t 123.91720161788209\t 18.838166667692633\t 5.7965194104036994\t 6.200787079868615\n",
            "20 \t [  5.9410574 -10.       ]\t 453.20027166658673\t 18.838166667692633\t 5.936173502691722\t 6.603088222248791\n"
          ]
        }
      ],
      "source": [
        "### ESTIMATED STP EI GRADIENTS\n",
        "\n",
        "np.random.seed(run_num_16)\n",
        "surrogate_approx_16 = dtStudentProcess(cov_func, optimize=opt, nu = df)\n",
        "\n",
        "approx_16 = GPGO_multi(surrogate_approx_16, Acquisition_grad(util), objfunc, param)\n",
        "approx_16.run(init_evals=n_init, max_iter=iters)\n"
      ]
    },
    {
      "cell_type": "code",
      "execution_count": 29,
      "metadata": {
        "id": "Yrs2mp7hGC1Z",
        "colab": {
          "base_uri": "https://localhost:8080/"
        },
        "outputId": "2683f749-a6fc-4b96-bc4a-5f8dd51c921d"
      },
      "outputs": [
        {
          "output_type": "stream",
          "name": "stdout",
          "text": [
            "Evaluation \t Proposed point \t  Current eval. \t  Best eval. \t        Exact EI: StdDev. x \t Approx EI: StdDev. x \n",
            "init\t [-4.10669995  0.61173511]\t 256.4801849765532\t 5.553508838684786\t    \t    \n",
            "init\t [-6.16958426 -8.64199284]\t 1602.4406672130797\t 5.553508838684786\t    \t    \n",
            "init\t [5.7397092  3.12667044]\t 117.20749172761734\t 5.553508838684786\t    \t    \n",
            "init\t [2.75041792 1.51205788]\t 5.553508838684786\t 5.553508838684786\t    \t    \n",
            "init\t [-9.21874168 -2.84372791]\t 1170.583554210921\t 5.553508838684786\t    \t    \n",
            "1  \t [-10.  10.]\t 234.0\t 5.553508838684786\t 7.085074212872569\t 7.6924545599563965\n",
            "2  \t [ 4.54825031 -8.71744454]\t 416.8315243674168\t 5.553508838684786\t 5.664993663816035\t 5.91042384353438\n",
            "3  \t [9.12376544 9.73620918]\t 994.6474624709882\t 5.553508838684786\t 6.384901612096272\t 6.575927350064729\n",
            "4  \t [-0.05385845  7.96254756]\t 86.84889828641981\t 5.553508838684786\t 6.182654754297185\t 6.6838976382395945\n",
            "5  \t [ 9.06636127 -2.74323799]\t 119.63857371103694\t 5.553508838684786\t 5.044568621999794\t 5.39270305734376\n",
            "6  \t [-10.           3.90689092]\t 529.3058544850912\t 5.553508838684786\t 5.019425784881675\t 6.417323859916039\n",
            "7  \t [ 0.62553104 -3.18426299]\t 210.45319432725833\t 5.553508838684786\t 5.443793136906911\t 5.925828264822393\n",
            "8  \t [-5.57224913  7.95450333]\t 78.20996789613113\t 5.553508838684786\t 6.157474490206236\t 6.700078165809018\n",
            "9  \t [ -0.69422628 -10.        ]\t 1035.5515467769035\t 5.553508838684786\t 7.0510485013285065\t 6.515720149230008\n",
            "10 \t [-0.55189794  3.60844473]\t 6.339008094172264\t 5.553508838684786\t 5.2379830541410275\t 4.778799351318032\n",
            "11 \t [ 10. -10.]\t 314.0\t 5.553508838684786\t 6.199814379585558\t 6.848617815016546\n",
            "12 \t [ 3.99942233 10.        ]\t 457.9503224718139\t 5.553508838684786\t 6.349170187300004\t 6.248645653224224\n",
            "13 \t [10.          4.81156028]\t 551.8410934636472\t 5.553508838684786\t 6.178869070294989\t 5.729103786401608\n",
            "14 \t [-4.00452296 -4.09561389]\t 661.0462341904065\t 5.553508838684786\t 5.7691488025993864\t 5.752047302352366\n",
            "15 \t [ 4.85996872 -1.74795391]\t 40.596495560851736\t 5.553508838684786\t 5.284640833615015\t 5.636256756296654\n",
            "16 \t [2.58067507 5.27859828]\t 67.266507034539\t 5.553508838684786\t 5.850968287663701\t 5.564618210927753\n",
            "17 \t [-10. -10.]\t 2594.0\t 5.553508838684786\t 6.0001346630207015\t 5.980058476197226\n",
            "18 \t [-5.82666661  4.17152202]\t 175.89848228805346\t 5.553508838684786\t 5.502957906559247\t 5.3177460604778135\n",
            "19 \t [9.17018127 0.91818832]\t 219.3587788510289\t 5.553508838684786\t 5.382752211614988\t 5.618410295324865\n",
            "20 \t [ 9.9577868  -5.68726042]\t 156.00317614821807\t 5.553508838684786\t 6.271104581081172\t 6.127126832024482\n"
          ]
        }
      ],
      "source": [
        "### ESTIMATED STP EI GRADIENTS\n",
        "\n",
        "np.random.seed(run_num_17)\n",
        "surrogate_approx_17 = dtStudentProcess(cov_func, optimize=opt, nu = df)\n",
        "\n",
        "approx_17 = GPGO_multi(surrogate_approx_17, Acquisition_grad(util), objfunc, param)\n",
        "approx_17.run(init_evals=n_init, max_iter=iters)\n"
      ]
    },
    {
      "cell_type": "code",
      "execution_count": 30,
      "metadata": {
        "id": "f0HIEP3PIUEa",
        "colab": {
          "base_uri": "https://localhost:8080/"
        },
        "outputId": "c71a45d0-8efd-46ee-c108-13df5f72bbba"
      },
      "outputs": [
        {
          "output_type": "stream",
          "name": "stdout",
          "text": [
            "Evaluation \t Proposed point \t  Current eval. \t  Best eval. \t        Exact EI: StdDev. x \t Approx EI: StdDev. x \n",
            "init\t [3.00748483 0.10906747]\t 15.509405515253864\t 15.509405515253864\t    \t    \n",
            "init\t [ 7.57202942 -6.36319549]\t 162.0234327224751\t 15.509405515253864\t    \t    \n",
            "init\t [7.04466137 5.00272572]\t 299.59059770472754\t 15.509405515253864\t    \t    \n",
            "init\t [3.32203335 9.75790897]\t 380.8425822546991\t 15.509405515253864\t    \t    \n",
            "init\t [-4.86063155 -9.43388149]\t 1527.7052410059514\t 15.509405515253864\t    \t    \n",
            "1  \t [-6.1664519   4.28513481]\t 191.3691670751314\t 15.509405515253864\t 7.169218051048424\t 7.4765549086243475\n",
            "2  \t [-10.          -2.35389981]\t 1219.4643988556443\t 15.509405515253864\t 6.0245994206096665\t 6.433527240717701\n",
            "3  \t [6.31975365 3.18761398]\t 149.65937068607042\t 15.509405515253864\t 5.359806725699657\t 5.359806725699657\n",
            "4  \t [  1.87257263 -10.        ]\t 758.0593614877631\t 15.509405515253864\t 7.234384121009181\t 7.195705417020464\n",
            "5  \t [-10.  10.]\t 234.0\t 15.509405515253864\t 5.530741175936711\t 6.695131784029646\n",
            "6  \t [-2.4730559  -2.98734647]\t 405.9072871704909\t 15.509405515253864\t 6.394388006098187\t 5.856341933730936\n",
            "\u001b[1m\u001b[92m7\u001b[0m\t \u001b[1m\u001b[92m[-0.13731295  4.74819112]\u001b[0m\t \u001b[1m\u001b[92m5.842341460392505\u001b[0m\t \u001b[1m\u001b[92m5.842341460392505\u001b[0m\t \u001b[1m\u001b[92m7.802345019770629\u001b[0m\t \u001b[1m\u001b[92m7.773931810521315\u001b[0m\n",
            "8  \t [-3.14685775 10.        ]\t 98.75811203981002\t 5.842341460392505\t 7.630207627297031\t 6.931095720528253\n",
            "9  \t [10. 10.]\t 1154.0\t 5.842341460392505\t 7.432552173875156\t 6.794598577433602\n",
            "10 \t [10.         -1.13436229]\t 192.79067276495806\t 5.842341460392505\t 7.133228296939445\t 6.492336112944305\n",
            "11 \t [-10. -10.]\t 2594.0\t 5.842341460392505\t 6.234928473126787\t 6.8980997728931595\n",
            "12 \t [ 2.69025491 -4.56525925]\t 198.15281337636551\t 5.842341460392505\t 5.277557757867074\t 6.344888819115757\n",
            "13 \t [ 10. -10.]\t 314.0\t 5.842341460392505\t 5.263568904256965\t 6.435915486845351\n",
            "14 \t [-2.25313029  1.71641995]\t 94.55739727067883\t 5.842341460392505\t 4.712401074094609\t 5.2020803167980265\n",
            "15 \t [ 6.12140262 -2.93131408]\t 64.03307786712872\t 5.842341460392505\t 5.388895852025208\t 5.795291865111322\n",
            "16 \t [-10.           2.34623736]\t 664.668139982441\t 5.842341460392505\t 5.430358155163447\t 6.210189443832824\n",
            "17 \t [-5.94653778 -0.13771598]\t 464.8683437696996\t 5.842341460392505\t 6.063740227694129\t 6.232435535241763\n",
            "18 \t [-1.69117759 -6.36814507]\t 676.7136306110875\t 5.842341460392505\t 5.904867553603904\t 5.937706534212881\n",
            "19 \t [-6.3599508  -5.10146857]\t 1076.0246245271856\t 5.842341460392505\t 5.393235586392062\t 5.451381204505965\n",
            "20 \t [-5.23461199  7.37121131]\t 71.86692334194329\t 5.842341460392505\t 5.422389349995538\t 5.725273861416038\n"
          ]
        }
      ],
      "source": [
        "### ESTIMATED STP EI GRADIENTS\n",
        "\n",
        "np.random.seed(run_num_18)\n",
        "surrogate_approx_18 = dtStudentProcess(cov_func, optimize=opt, nu = df)\n",
        "\n",
        "approx_18 = GPGO_multi(surrogate_approx_18, Acquisition_grad(util), objfunc, param)\n",
        "approx_18.run(init_evals=n_init, max_iter=iters)\n"
      ]
    },
    {
      "cell_type": "code",
      "execution_count": 31,
      "metadata": {
        "id": "S3mxRQDLIUPC",
        "colab": {
          "base_uri": "https://localhost:8080/"
        },
        "outputId": "d26ebaea-d74e-4471-cf52-ad5a9eae7da7"
      },
      "outputs": [
        {
          "output_type": "stream",
          "name": "stdout",
          "text": [
            "Evaluation \t Proposed point \t  Current eval. \t  Best eval. \t        Exact EI: StdDev. x \t Approx EI: StdDev. x \n",
            "init\t [-8.04932797  5.22499433]\t 273.1270544592675\t 139.9227861892117\t    \t    \n",
            "init\t [-5.06124054 -7.23736625]\t 1204.1206373978957\t 139.9227861892117\t    \t    \n",
            "init\t [-3.37106873 -8.3400087 ]\t 1135.0538557997047\t 139.9227861892117\t    \t    \n",
            "init\t [3.43954163 6.13187596]\t 139.9227861892117\t 139.9227861892117\t    \t    \n",
            "init\t [9.65483829 2.7132147 ]\t 355.08571481298065\t 139.9227861892117\t    \t    \n",
            "\u001b[1m\u001b[92m1\u001b[0m\t \u001b[1m\u001b[92m[ 5.00312297 -4.26339021]\u001b[0m\t \u001b[1m\u001b[92m111.29920078806582\u001b[0m\t \u001b[1m\u001b[92m111.29920078806582\u001b[0m\t \u001b[1m\u001b[92m6.7907842952492095\u001b[0m\t \u001b[1m\u001b[92m7.333945307280279\u001b[0m\n",
            "2  \t [ 10. -10.]\t 314.0\t 111.29920078806582\t 6.708200889523184\t 7.331463282094028\n",
            "3  \t [10. 10.]\t 1154.0\t 111.29920078806582\t 6.251587728034819\t 7.421385322329353\n",
            "\u001b[1m\u001b[92m4\u001b[0m\t \u001b[1m\u001b[92m[-0.41300975 -0.01609316]\u001b[0m\t \u001b[1m\u001b[92m89.56122502202982\u001b[0m\t \u001b[1m\u001b[92m89.56122502202982\u001b[0m\t \u001b[1m\u001b[92m5.683914816343889\u001b[0m\t \u001b[1m\u001b[92m6.097338650257265\u001b[0m\n",
            "5  \t [-7.33298529 -0.87772864]\t 680.8815622605025\t 89.56122502202982\t 5.854947844982502\t 6.134633721003007\n",
            "\u001b[1m\u001b[92m6\u001b[0m\t \u001b[1m\u001b[92m[-2.2233185   8.40664734]\u001b[0m\t \u001b[1m\u001b[92m58.68931693407148\u001b[0m\t \u001b[1m\u001b[92m58.68931693407148\u001b[0m\t \u001b[1m\u001b[92m6.397874800772095\u001b[0m\t \u001b[1m\u001b[92m6.67063655749357\u001b[0m\n",
            "7  \t [  2.75193236 -10.        ]\t 678.1453693483568\t 58.68931693407148\t 6.686259981112805\t 7.113524077535852\n",
            "8  \t [-10. -10.]\t 2594.0\t 58.68931693407148\t 4.336363741520323\t 5.6431970031122995\n",
            "9  \t [-10.  10.]\t 234.0\t 58.68931693407148\t 4.994803451932856\t 6.018075323894851\n",
            "10 \t [10.         -2.92952921]\t 153.8704801834564\t 58.68931693407148\t 5.921045542799385\t 6.849284476795837\n",
            "\u001b[1m\u001b[92m11\u001b[0m\t \u001b[1m\u001b[92m[4.59010335 0.92354884]\u001b[0m\t \u001b[1m\u001b[92m26.36506336027169\u001b[0m\t \u001b[1m\u001b[92m26.36506336027169\u001b[0m\t \u001b[1m\u001b[92m4.673156696494591\u001b[0m\t \u001b[1m\u001b[92m5.644740669296386\u001b[0m\n",
            "12 \t [-3.24002855  3.77027159]\t 66.72801362502513\t 26.36506336027169\t 5.826540219527245\t 5.691967073092535\n",
            "13 \t [ 0.29062938 -4.69606929]\t 342.33836955972015\t 26.36506336027169\t 6.8319473449341315\t 6.84099126236127\n",
            "14 \t [-10.          -4.87148419]\t 1607.4919250428338\t 26.36506336027169\t 4.7490452563426135\t 6.593338684491209\n",
            "15 \t [-5.74625227 10.        ]\t 94.7694713034275\t 26.36506336027169\t 5.577999403488603\t 6.05493039494787\n",
            "16 \t [ 1.69451575 10.        ]\t 286.3046425010377\t 26.36506336027169\t 5.069358853756056\t 5.618416224433741\n",
            "17 \t [7.40253026 6.31500247]\t 429.70340483907364\t 26.36506336027169\t 5.186227090309432\t 5.025699498455634\n",
            "\u001b[1m\u001b[92m18\u001b[0m\t \u001b[1m\u001b[92m[-0.05675113  5.69868155]\u001b[0m\t \u001b[1m\u001b[92m19.183347064905668\u001b[0m\t \u001b[1m\u001b[92m19.183347064905668\u001b[0m\t \u001b[1m\u001b[92m5.430609860657129\u001b[0m\t \u001b[1m\u001b[92m5.633478667744146\u001b[0m\n",
            "19 \t [ 5.52404011 -7.97751244]\t 307.5619388236172\t 19.183347064905668\t 4.828079299291417\t 4.827719642053648\n",
            "20 \t [-3.59336765 -3.06407551]\t 512.1964172047559\t 19.183347064905668\t 5.695399549394171\t 5.808692508485744\n"
          ]
        }
      ],
      "source": [
        "### ESTIMATED STP EI GRADIENTS\n",
        "\n",
        "np.random.seed(run_num_19)\n",
        "surrogate_approx_19 = dtStudentProcess(cov_func, optimize=opt, nu = df)\n",
        "\n",
        "approx_19 = GPGO_multi(surrogate_approx_19, Acquisition_grad(util), objfunc, param)\n",
        "approx_19.run(init_evals=n_init, max_iter=iters)\n"
      ]
    },
    {
      "cell_type": "code",
      "execution_count": 32,
      "metadata": {
        "id": "Aawd59dRIUYn",
        "colab": {
          "base_uri": "https://localhost:8080/"
        },
        "outputId": "f63261d1-4e40-4500-81fd-36684008fffd"
      },
      "outputs": [
        {
          "output_type": "stream",
          "name": "stdout",
          "text": [
            "Evaluation \t Proposed point \t  Current eval. \t  Best eval. \t        Exact EI: StdDev. x \t Approx EI: StdDev. x \n",
            "init\t [1.76261602 7.95427456]\t 155.85777119682857\t 155.85777119682857\t    \t    \n",
            "init\t [7.83061459 6.31674955]\t 469.53411882784934\t 155.85777119682857\t    \t    \n",
            "init\t [-9.28220829  3.83515164]\t 463.4088031056881\t 155.85777119682857\t    \t    \n",
            "init\t [-2.42638116  0.37021891]\t 165.36424127801376\t 155.85777119682857\t    \t    \n",
            "init\t [ 3.15902931 -6.12299564]\t 281.877765303078\t 155.85777119682857\t    \t    \n",
            "1  \t [-10. -10.]\t 2594.0\t 155.85777119682857\t 6.059459938369186\t 5.600474507491347\n",
            "2  \t [ 10. -10.]\t 314.0\t 155.85777119682857\t 6.350168183064255\t 6.724527656960911\n",
            "\u001b[1m\u001b[92m3\u001b[0m\t \u001b[1m\u001b[92m[ 8.01076984 -1.35425671]\u001b[0m\t \u001b[1m\u001b[92m96.33869330672852\u001b[0m\t \u001b[1m\u001b[92m96.33869330672852\u001b[0m\t \u001b[1m\u001b[92m5.236957621038873\u001b[0m\t \u001b[1m\u001b[92m5.521953598990257\u001b[0m\n",
            "4  \t [-9.00419696  9.47619715]\t 191.81221684055689\t 96.33869330672852\t 6.204343295825405\t 6.152656011391671\n",
            "5  \t [-2.93793894 -7.34299648]\t 938.2654055149244\t 96.33869330672852\t 4.483619861967251\t 5.888496260463651\n",
            "6  \t [-10.          -2.36627879]\t 1221.2172744084446\t 96.33869330672852\t 6.604458118388566\t 7.066194871005467\n",
            "\u001b[1m\u001b[92m7\u001b[0m\t \u001b[1m\u001b[92m[-3.892264    5.68566148]\u001b[0m\t \u001b[1m\u001b[92m50.62340330263807\u001b[0m\t \u001b[1m\u001b[92m50.62340330263807\u001b[0m\t \u001b[1m\u001b[92m6.744668986724251\u001b[0m\t \u001b[1m\u001b[92m7.310952184609659\u001b[0m\n",
            "\u001b[1m\u001b[92m8\u001b[0m\t \u001b[1m\u001b[92m[3.30995994 2.26676254]\u001b[0m\t \u001b[1m\u001b[92m15.817767220022409\u001b[0m\t \u001b[1m\u001b[92m15.817767220022409\u001b[0m\t \u001b[1m\u001b[92m6.741391239424401\u001b[0m\t \u001b[1m\u001b[92m6.272168334060269\u001b[0m\n",
            "9  \t [-2.75248364 10.        ]\t 105.26658347230484\t 15.817767220022409\t 7.304052658495686\t 7.3797631772589085\n",
            "10 \t [-5.17377615 -3.21996226]\t 691.2224495893934\t 15.817767220022409\t 5.810788487833272\t 6.298203325522007\n",
            "11 \t [10.        -5.3009816]\t 151.86080246847052\t 15.817767220022409\t 6.875201624342255\t 7.0200994309845175\n",
            "12 \t [ 1.78303143 -1.66746876]\t 82.75381617475475\t 15.817767220022409\t 6.597752974586549\t 6.065809354401485\n",
            "13 \t [10.          2.41387252]\t 364.51654846619635\t 15.817767220022409\t 7.098217001007411\t 7.295691459498046\n",
            "14 \t [4.97047856 7.33367486]\t 310.3812933943208\t 15.817767220022409\t 5.362687370142977\t 5.873803582136599\n",
            "15 \t [  5.39809589 -10.        ]\t 484.31426459468105\t 15.817767220022409\t 6.503047839262228\t 6.88780889827327\n",
            "16 \t [  0.82272355 -10.        ]\t 863.5938857975214\t 15.817767220022409\t 6.993328225357688\t 6.9035522982629205\n",
            "17 \t [10. 10.]\t 1154.0\t 15.817767220022409\t 6.096620079903432\t 6.592818470413966\n",
            "18 \t [-6.16497866 -8.84279291]\t 1636.7701829563775\t 15.817767220022409\t 5.755444988709337\t 6.198919852383606\n",
            "\u001b[1m\u001b[92m19\u001b[0m\t \u001b[1m\u001b[92m[-0.09867032  4.04746727]\u001b[0m\t \u001b[1m\u001b[92m2.314751159890374\u001b[0m\t \u001b[1m\u001b[92m2.314751159890374\u001b[0m\t \u001b[1m\u001b[92m5.316331762095475\u001b[0m\t \u001b[1m\u001b[92m4.856362653011091\u001b[0m\n",
            "20 \t [-6.47481434  0.81466333]\t 433.9226159864649\t 2.314751159890374\t 4.479988647597752\t 4.793888358452904\n"
          ]
        }
      ],
      "source": [
        "### ESTIMATED STP EI GRADIENTS\n",
        "\n",
        "np.random.seed(run_num_20)\n",
        "surrogate_approx_20 = dtStudentProcess(cov_func, optimize=opt, nu = df)\n",
        "\n",
        "approx_20 = GPGO_multi(surrogate_approx_20, Acquisition_grad(util), objfunc, param)\n",
        "approx_20.run(init_evals=n_init, max_iter=iters)\n"
      ]
    },
    {
      "cell_type": "code",
      "execution_count": 33,
      "metadata": {
        "id": "xkgzPRbBTHaq",
        "colab": {
          "base_uri": "https://localhost:8080/"
        },
        "outputId": "df3cc91a-8a7c-4b21-919a-1488641b8b6c"
      },
      "outputs": [
        {
          "output_type": "execute_result",
          "data": {
            "text/plain": [
              "1662389131.9555836"
            ]
          },
          "metadata": {},
          "execution_count": 33
        }
      ],
      "source": [
        "end_approx = time.time()\n",
        "end_approx\n",
        "\n",
        "time_approx = end_approx - start_approx\n",
        "time_approx\n",
        "\n",
        "start_exact = time.time()\n",
        "start_exact"
      ]
    },
    {
      "cell_type": "code",
      "execution_count": 34,
      "metadata": {
        "id": "7CG3Ndvb16Rb",
        "colab": {
          "base_uri": "https://localhost:8080/"
        },
        "outputId": "ba359f82-a74f-4154-9f6b-25ccf361f8e3"
      },
      "outputs": [
        {
          "output_type": "stream",
          "name": "stdout",
          "text": [
            "Evaluation \t Proposed point \t  Current eval. \t  Best eval. \t        Exact EI: StdDev. x \t Approx EI: StdDev. x \n",
            "init\t [-1.65955991  4.40648987]\t 15.332210716052247\t 15.332210716052247\t    \t    \n",
            "init\t [-9.9977125  -3.95334855]\t 1458.2611077633842\t 15.332210716052247\t    \t    \n",
            "init\t [-7.06488218 -8.1532281 ]\t 1666.779874000304\t 15.332210716052247\t    \t    \n",
            "init\t [-6.27479577 -3.08878546]\t 804.3371752309802\t 15.332210716052247\t    \t    \n",
            "init\t [-2.06465052  0.77633468]\t 126.2019077328938\t 15.332210716052247\t    \t    \n",
            "1  \t [ 7.89213327 -8.29911577]\t 252.857497365554\t 15.332210716052247\t 6.563365918770951\t 7.186179585878235\n",
            "2  \t [7.66612182 2.47344414]\t 195.49152221204983\t 15.332210716052247\t 6.807025020409646\t 6.269278259143331\n",
            "3  \t [10. 10.]\t 1154.0\t 15.332210716052247\t 6.596695142160601\t 6.739004209436971\n",
            "4  \t [-9.56950389  8.95940422]\t 232.24098716076017\t 15.332210716052247\t 7.01126299961098\t 7.919561116056699\n",
            "5  \t [ 2.56152397 -4.28847437]\t 186.75205921539708\t 15.332210716052247\t 6.0229311989282195\t 6.571654329831197\n",
            "6  \t [2.97890774 9.09707946]\t 301.9767307180535\t 15.332210716052247\t 5.115274364819268\t 6.670935220862719\n",
            "7  \t [  1.37661052 -10.        ]\t 806.5416831783699\t 15.332210716052247\t 5.958550559312985\t 7.1397371565768\n",
            "8  \t [-10.           2.22744674]\t 675.9688796559989\t 15.332210716052247\t 5.718578200977699\t 7.317714139343345\n",
            "9  \t [-3.78825496  9.64834899]\t 80.96772891804711\t 15.332210716052247\t 5.907974126067941\t 7.450847832612554\n",
            "\u001b[1m\u001b[92m10\u001b[0m\t \u001b[1m\u001b[92m[2.77362896 1.28509929]\u001b[0m\t \u001b[1m\u001b[92m6.100440172371946\u001b[0m\t \u001b[1m\u001b[92m6.100440172371946\u001b[0m\t \u001b[1m\u001b[92m5.948286590177725\u001b[0m\t \u001b[1m\u001b[92m6.507237807180082\u001b[0m\n",
            "11 \t [-5.6773587  4.5727388]\t 151.28920377845924\t 6.100440172371946\t 5.662405416669754\t 6.578832991085266\n",
            "12 \t [10.         -2.50457216]\t 160.17237788156632\t 6.100440172371946\t 6.009144911704144\t 7.085113169138326\n",
            "13 \t [-1.80928302 -4.85888575]\t 524.8934556098603\t 6.100440172371946\t 4.746008764266977\t 6.264230220195758\n",
            "14 \t [ 6.1019515  -2.32566498]\t 54.592807513986216\t 6.100440172371946\t 6.396071375847312\t 6.71734290138466\n",
            "15 \t [3.77619376 4.4367942 ]\t 80.7686996809124\t 6.100440172371946\t 5.037977273895687\t 6.239267498266932\n",
            "16 \t [ -3.09264598 -10.        ]\t 1354.383937625414\t 6.100440172371946\t 6.614016891600316\t 7.0121125819969095\n",
            "17 \t [-5.28406372 -0.15157131]\t 405.54669203356013\t 6.100440172371946\t 5.661706917240001\t 5.574493898680317\n",
            "18 \t [-0.45149065  7.94323252]\t 75.31141801725924\t 6.100440172371946\t 6.058211203748528\t 6.568369320168638\n",
            "19 \t [6.53644443 7.70891005]\t 472.69520484484156\t 6.100440172371946\t 6.559888491670253\t 7.8109124951205935\n",
            "20 \t [9.54613651 5.6013337 ]\t 576.8677553592511\t 6.100440172371946\t 5.77640367523026\t 7.6967260862092735\n"
          ]
        }
      ],
      "source": [
        "### EXACT STP EI GRADIENTS\n",
        "\n",
        "np.random.seed(run_num_1)\n",
        "surrogate_exact_1 = dtStudentProcess(cov_func, optimize=opt, nu = df)\n",
        "\n",
        "exact_1 = dGPGO(surrogate_exact_1, Acquisition_grad(util), objfunc, param)\n",
        "exact_1.run(init_evals=n_init, max_iter=iters)\n"
      ]
    },
    {
      "cell_type": "code",
      "execution_count": 35,
      "metadata": {
        "id": "-ilCPSAu9SAg",
        "colab": {
          "base_uri": "https://localhost:8080/"
        },
        "outputId": "04285af0-e1d2-45f3-a102-fdc18e8272c1"
      },
      "outputs": [
        {
          "output_type": "stream",
          "name": "stdout",
          "text": [
            "Evaluation \t Proposed point \t  Current eval. \t  Best eval. \t        Exact EI: StdDev. x \t Approx EI: StdDev. x \n",
            "init\t [-1.28010196 -9.48147536]\t 1032.6027521517153\t 92.40504507724606\t    \t    \n",
            "init\t [ 0.99324956 -1.29355215]\t 92.40504507724606\t 92.40504507724606\t    \t    \n",
            "init\t [-1.59264396 -3.39330358]\t 370.5851459944721\t 92.40504507724606\t    \t    \n",
            "init\t [-5.90702732  2.38541933]\t 274.38308294748543\t 92.40504507724606\t    \t    \n",
            "init\t [-4.00690653 -4.6634545 ]\t 725.9498417670716\t 92.40504507724606\t    \t    \n",
            "1  \t [10. 10.]\t 1154.0\t 92.40504507724606\t 7.219981268929999\t 6.610779776070095\n",
            "2  \t [ 9.4582138 -7.7444757]\t 207.8931124700012\t 92.40504507724606\t 6.98781484854845\t 6.373938761220194\n",
            "\u001b[1m\u001b[92m3\u001b[0m\t \u001b[1m\u001b[92m[0.98993642 6.90226231]\u001b[0m\t \u001b[1m\u001b[92m75.82459634014478\u001b[0m\t \u001b[1m\u001b[92m75.82459634014478\u001b[0m\t \u001b[1m\u001b[92m6.433762001727779\u001b[0m\t \u001b[1m\u001b[92m6.507397640624521\u001b[0m\n",
            "4  \t [8.51803193 1.4054842 ]\t 199.41545789668123\t 75.82459634014478\t 7.006344830831036\t 7.187158754879026\n",
            "5  \t [-10. -10.]\t 2594.0\t 75.82459634014478\t 7.2583627964233965\t 6.8908904267368625\n",
            "6  \t [-8.60678819  8.70307127]\t 185.77142455141157\t 75.82459634014478\t 6.224949111651623\t 6.575321066109158\n",
            "7  \t [-10.          -3.48771936]\t 1386.371816436168\t 75.82459634014478\t 5.461891051005692\t 6.670708123293072\n",
            "8  \t [ 4.43983578 10.        ]\t 496.7931542370759\t 75.82459634014478\t 5.588836157304486\t 6.000524001991791\n",
            "9  \t [ 5.51898791 -3.88026339]\t 90.06176362217276\t 75.82459634014478\t 4.923164627248484\t 6.379774704791104\n",
            "\u001b[1m\u001b[92m10\u001b[0m\t \u001b[1m\u001b[92m[-0.92973946  2.82346295]\u001b[0m\t \u001b[1m\u001b[92m21.50066269540448\u001b[0m\t \u001b[1m\u001b[92m21.50066269540448\u001b[0m\t \u001b[1m\u001b[92m5.147936682488892\u001b[0m\t \u001b[1m\u001b[92m6.942427401205935\u001b[0m\n",
            "11 \t [-3.51933609  7.97398639]\t 45.991766859948605\t 21.50066269540448\t 5.505247549789587\t 6.079237875039209\n",
            "12 \t [ 4.19395359 -9.32717521]\t 495.82353684312966\t 21.50066269540448\t 5.0382312141495875\t 7.16974647853\n",
            "13 \t [-10.           2.44314868]\t 655.5533332371342\t 21.50066269540448\t 5.790843093753368\t 7.1914995691231915\n",
            "14 \t [ 1.84308145 -4.51537358]\t 235.26955554222883\t 21.50066269540448\t 6.170907506780522\t 7.26402121589982\n",
            "15 \t [6.32754413 5.26773985]\t 264.27872515431875\t 21.50066269540448\t 5.382732753032222\t 6.199151487709698\n",
            "16 \t [ -5.55167136 -10.        ]\t 1740.9958088482294\t 21.50066269540448\t 5.971783875912062\t 5.952510729193441\n",
            "\u001b[1m\u001b[92m17\u001b[0m\t \u001b[1m\u001b[92m[4.39087106 0.67718895]\u001b[0m\t \u001b[1m\u001b[92m21.45646646855156\u001b[0m\t \u001b[1m\u001b[92m21.45646646855156\u001b[0m\t \u001b[1m\u001b[92m5.403864228910868\u001b[0m\t \u001b[1m\u001b[92m6.270541635249961\u001b[0m\n",
            "18 \t [-6.11780078 -1.417923  ]\t 602.4728244485738\t 21.45646646855156\t 5.7816481126158905\t 6.062940419047072\n",
            "\u001b[1m\u001b[92m19\u001b[0m\t \u001b[1m\u001b[92m[1.99249647 3.06548729]\u001b[0m\t \u001b[1m\u001b[92m5.466656327244423\u001b[0m\t \u001b[1m\u001b[92m5.466656327244423\u001b[0m\t \u001b[1m\u001b[92m4.961149768040965\u001b[0m\t \u001b[1m\u001b[92m7.13081684324338\u001b[0m\n",
            "20 \t [-1.38791832 10.        ]\t 139.7873436620208\t 5.466656327244423\t 5.675926482945083\t 7.369997112249761\n"
          ]
        }
      ],
      "source": [
        "### EXACT STP EI GRADIENTS\n",
        "\n",
        "np.random.seed(run_num_2)\n",
        "surrogate_exact_2 = dtStudentProcess(cov_func, optimize=opt, nu = df)\n",
        "\n",
        "exact_2 = dGPGO(surrogate_exact_2, Acquisition_grad(util), objfunc, param)\n",
        "exact_2.run(init_evals=n_init, max_iter=iters)\n"
      ]
    },
    {
      "cell_type": "code",
      "execution_count": 36,
      "metadata": {
        "id": "XieJ158mIvlP",
        "colab": {
          "base_uri": "https://localhost:8080/"
        },
        "outputId": "3392ab09-78fa-4660-ca35-ff22d8096b8e"
      },
      "outputs": [
        {
          "output_type": "stream",
          "name": "stdout",
          "text": [
            "Evaluation \t Proposed point \t  Current eval. \t  Best eval. \t        Exact EI: StdDev. x \t Approx EI: StdDev. x \n",
            "init\t [1.01595805 4.16295645]\t 6.912079999083602\t 6.912079999083602\t    \t    \n",
            "init\t [-4.18190522  0.2165521 ]\t 288.3871250813255\t 6.912079999083602\t    \t    \n",
            "init\t [7.85893909 7.92586178]\t 626.8352854305291\t 6.912079999083602\t    \t    \n",
            "init\t [-7.48829379 -5.85514244]\t 1353.6437998345716\t 6.912079999083602\t    \t    \n",
            "init\t [-8.97065593 -1.18380313]\t 918.3130335940459\t 6.912079999083602\t    \t    \n",
            "1  \t [ 5.60629529 -3.87272935]\t 88.9992584872525\t 6.912079999083602\t 4.717150437873575\t 4.717150437873575\n",
            "2  \t [-6.2437035   9.04202486]\t 94.75343105833329\t 6.912079999083602\t 6.192187119839109\t 7.006821936778671\n",
            "3  \t [-0.35005916 -4.25900471]\t 350.9797320079161\t 6.912079999083602\t 6.546315574103579\t 6.850359717017537\n",
            "4  \t [9.55904819 0.05502095]\t 208.0012970893658\t 6.912079999083602\t 6.674251003643317\t 6.970113722342271\n",
            "5  \t [ 6.56863844 -9.15860953]\t 352.5523955078021\t 6.912079999083602\t 6.151807321992772\t 7.151567078215122\n",
            "6  \t [-9.21277105  4.93342182]\t 382.22930688812016\t 6.912079999083602\t 6.145951067620935\t 6.031681694024333\n",
            "7  \t [-10. -10.]\t 2594.0\t 6.912079999083602\t 5.798721249161084\t 5.965443802646578\n",
            "8  \t [ 1.21152007 10.        ]\t 257.0688275145703\t 6.912079999083602\t 5.984144107393892\t 7.052765831545431\n",
            "9  \t [ 5.74317947 -0.19878238]\t 42.2706096709416\t 6.912079999083602\t 5.245152871247986\t 5.505516634228973\n",
            "10 \t [ -2.46738736 -10.        ]\t 1265.7221612814305\t 6.912079999083602\t 6.490957973425739\t 6.7297232572610275\n",
            "11 \t [4.91058642 3.44148674]\t 91.2497600166505\t 6.912079999083602\t 6.069178422466112\t 5.437791773673817\n",
            "12 \t [-1.60474871  6.2660378 ]\t 19.200931825838044\t 6.912079999083602\t 6.101593821109943\t 7.011036607032536\n",
            "13 \t [ 1.26096344 -1.05833434]\t 74.21828245498278\t 6.912079999083602\t 7.570611464916508\t 7.446201988914252\n",
            "14 \t [-5.43709392  5.43177937]\t 111.51990747943864\t 6.912079999083602\t 5.390643864644219\t 6.725944973530752\n",
            "15 \t [ 9.97093215 -4.21037813]\t 144.8653782548394\t 6.912079999083602\t 6.450950045366884\t 6.22325827149652\n",
            "16 \t [-2.56871811  9.343387  ]\t 83.76945736750552\t 6.912079999083602\t 6.270380596510366\t 7.787395382062972\n",
            "17 \t [-0.98805165  1.54228238]\t 53.570593714401355\t 6.912079999083602\t 6.9585239561721055\t 7.350089217221698\n",
            "18 \t [ 4.70293075 -5.98326533]\t 205.9384852288142\t 6.912079999083602\t 6.401549363702782\t 6.26622879510411\n",
            "19 \t [ 2.14653791 -9.8385215 ]\t 712.9521036669187\t 6.912079999083602\t 5.923170784924371\t 6.092702586756447\n",
            "20 \t [-4.77009806 -5.49033935]\t 918.8201938823742\t 6.912079999083602\t 5.152200994865835\t 5.154273974048872\n"
          ]
        }
      ],
      "source": [
        "### EXACT STP EI GRADIENTS\n",
        "\n",
        "np.random.seed(run_num_3)\n",
        "surrogate_exact_3 = dtStudentProcess(cov_func, optimize=opt, nu = df)\n",
        "\n",
        "exact_3 = dGPGO(surrogate_exact_3, Acquisition_grad(util), objfunc, param)\n",
        "exact_3.run(init_evals=n_init, max_iter=iters)\n"
      ]
    },
    {
      "cell_type": "code",
      "execution_count": 37,
      "metadata": {
        "id": "PhLBVOIfIvol",
        "colab": {
          "base_uri": "https://localhost:8080/"
        },
        "outputId": "cdcf6383-579a-4e22-d5c1-cf09a23e5826"
      },
      "outputs": [
        {
          "output_type": "stream",
          "name": "stdout",
          "text": [
            "Evaluation \t Proposed point \t  Current eval. \t  Best eval. \t        Exact EI: StdDev. x \t Approx EI: StdDev. x \n",
            "init\t [9.34059678 0.94464498]\t 231.80709501196006\t 215.08077877054313\t    \t    \n",
            "init\t [9.4536872  4.29631987]\t 453.3958241553961\t 215.08077877054313\t    \t    \n",
            "init\t [ 3.95457649 -5.67821009]\t 215.08077877054313\t 215.08077877054313\t    \t    \n",
            "init\t [ 9.5254891 -9.8753949]\t 314.14647993232734\t 215.08077877054313\t    \t    \n",
            "init\t [-4.94035275 -1.30416935]\t 473.61459720928724\t 215.08077877054313\t    \t    \n",
            "1  \t [-10. -10.]\t 2594.0\t 215.08077877054313\t 5.923633376023098\t 6.1139263068365155\n",
            "\u001b[1m\u001b[92m2\u001b[0m\t \u001b[1m\u001b[92m[1.43282743 6.87413988]\u001b[0m\t \u001b[1m\u001b[92m89.39616910477575\u001b[0m\t \u001b[1m\u001b[92m89.39616910477575\u001b[0m\t \u001b[1m\u001b[92m5.311252469726594\u001b[0m\t \u001b[1m\u001b[92m6.0260256543479604\u001b[0m\n",
            "3  \t [-2.55821353 -9.21450286]\t 1156.969294103378\t 89.39616910477575\t 6.646272429844893\t 6.980591824398845\n",
            "4  \t [10. 10.]\t 1154.0\t 89.39616910477575\t 6.706399459887297\t 7.1005991756012845\n",
            "5  \t [-6.86935575  9.72449447]\t 112.38841506890779\t 89.39616910477575\t 4.972739194669284\t 6.503041084257529\n",
            "\u001b[1m\u001b[92m6\u001b[0m\t \u001b[1m\u001b[92m[-2.71246452  3.62896245]\u001b[0m\t \u001b[1m\u001b[92m52.20992668814128\u001b[0m\t \u001b[1m\u001b[92m52.20992668814128\u001b[0m\t \u001b[1m\u001b[92m5.81187721224039\u001b[0m\t \u001b[1m\u001b[92m6.756644245205107\u001b[0m\n",
            "\u001b[1m\u001b[92m7\u001b[0m\t \u001b[1m\u001b[92m[2.84147041 0.67262397]\u001b[0m\t \u001b[1m\u001b[92m9.752109563519467\u001b[0m\t \u001b[1m\u001b[92m9.752109563519467\u001b[0m\t \u001b[1m\u001b[92m5.344058555404145\u001b[0m\t \u001b[1m\u001b[92m5.535825980752871\u001b[0m\n",
            "8  \t [-9.98584723 -2.66812849]\t 1262.236149100414\t 9.752109563519467\t 5.4021016897277505\t 6.314251047944285\n",
            "9  \t [-8.44407261  4.00738683]\t 374.9160027936357\t 9.752109563519467\t 5.131168454024213\t 6.264465260067476\n",
            "10 \t [ 8.57028699 -4.98127621]\t 121.6856635726497\t 9.752109563519467\t 5.975641877676665\t 6.983913077769051\n",
            "11 \t [ 0.13629002 -3.03421374]\t 227.4831371351186\t 9.752109563519467\t 5.041194603153871\t 5.880133643008302\n",
            "12 \t [-2.91916568  8.15405406]\t 48.02393021395088\t 9.752109563519467\t 5.939834365841216\t 5.760943744530661\n",
            "13 \t [ 2.6643292  -9.85467442]\t 668.907950624283\t 9.752109563519467\t 5.819259809957416\t 6.70276742413694\n",
            "14 \t [-5.84175498 -6.52903025]\t 1209.6224645140333\t 9.752109563519467\t 4.855331716753974\t 5.429096967113205\n",
            "15 \t [4.65679105 9.47717321]\t 466.1148197707547\t 9.752109563519467\t 4.862452713576155\t 5.576647375548714\n",
            "16 \t [4.67263703 4.29493768]\t 113.87232009300544\t 9.752109563519467\t 5.046740409883775\t 6.181982731664783\n",
            "17 \t [2.14852253 4.24014763]\t 25.680050629095042\t 9.752109563519467\t 5.540576754791832\t 5.988825605321061\n",
            "18 \t [ 5.4528806 -1.6113545]\t 41.19319189745387\t 9.752109563519467\t 5.009079765914255\t 7.084754801525703\n",
            "19 \t [-1.84306566  0.36208   ]\t 135.2064595990725\t 9.752109563519467\t 4.772507659589633\t 6.3566771309134\n",
            "20 \t [-9.70741847 -6.29335414]\t 1801.1388618784295\t 9.752109563519467\t 5.907127199941564\t 5.905791505969478\n"
          ]
        }
      ],
      "source": [
        "### EXACT STP EI GRADIENTS\n",
        "\n",
        "np.random.seed(run_num_4)\n",
        "surrogate_exact_4 = dtStudentProcess(cov_func, optimize=opt, nu = df)\n",
        "\n",
        "exact_4 = dGPGO(surrogate_exact_4, Acquisition_grad(util), objfunc, param)\n",
        "exact_4.run(init_evals=n_init, max_iter=iters)\n"
      ]
    },
    {
      "cell_type": "code",
      "execution_count": 38,
      "metadata": {
        "id": "arbiPyj2IvsJ",
        "colab": {
          "base_uri": "https://localhost:8080/"
        },
        "outputId": "4fe35756-6834-4060-b314-228d4ba1fd8f"
      },
      "outputs": [
        {
          "output_type": "stream",
          "name": "stdout",
          "text": [
            "Evaluation \t Proposed point \t  Current eval. \t  Best eval. \t        Exact EI: StdDev. x \t Approx EI: StdDev. x \n",
            "init\t [-5.56013658  7.41464612]\t 80.93700948496809\t 18.053107398965345\t    \t    \n",
            "init\t [-5.86561689  8.37221816]\t 84.91838238990834\t 18.053107398965345\t    \t    \n",
            "init\t [-0.23177622  2.23487726]\t 18.053107398965345\t 18.053107398965345\t    \t    \n",
            "init\t [5.31815713 0.36835976]\t 36.94936820355582\t 18.053107398965345\t    \t    \n",
            "init\t [-4.06398997 -6.24557543]\t 930.179306576812\t 18.053107398965345\t    \t    \n",
            "1  \t [9.27861058 9.20453431]\t 946.0775823883291\t 18.053107398965345\t 7.642855955099233\t 7.5506554476188645\n",
            "2  \t [ 8.87080164 -7.76615146]\t 211.3917378701312\t 18.053107398965345\t 6.853952885501704\t 6.84603029310969\n",
            "3  \t [-10. -10.]\t 2594.0\t 18.053107398965345\t 6.8065198011005394\t 7.339478387816786\n",
            "4  \t [-10.          -1.23864807]\t 1067.8317179536475\t 18.053107398965345\t 5.4934345241051314\t 6.229723439022237\n",
            "5  \t [ 2.71219403 -9.58857147]\t 634.5860850834351\t 18.053107398965345\t 5.404684433874697\t 6.376537091532854\n",
            "6  \t [ 1.66225258 -3.02344856]\t 151.69020026345768\t 18.053107398965345\t 6.665455234330691\t 6.846498004605951\n",
            "7  \t [0.08644828 7.48367441]\t 71.92101702836273\t 18.053107398965345\t 4.9916172549526925\t 5.999123424668389\n",
            "8  \t [-5.3109853   1.56454643]\t 281.91832294755307\t 18.053107398965345\t 5.776102419100357\t 7.557902543951707\n",
            "9  \t [9.07465641 3.57274639]\t 364.63841520619417\t 18.053107398965345\t 5.8557153384569975\t 6.561237052896602\n",
            "10 \t [-9.36450225  5.1046142 ]\t 384.75531053708687\t 18.053107398965345\t 6.345962849558715\t 6.867653601041864\n",
            "11 \t [4.24087895 8.62320876]\t 356.41197693801007\t 18.053107398965345\t 6.214711457634508\t 6.587059380309862\n",
            "12 \t [ 8.20061259 -2.69742324]\t 93.34776626019021\t 18.053107398965345\t 5.823322526066919\t 6.0900134562118335\n",
            "13 \t [3.06614703 4.18523889]\t 47.95979652513458\t 18.053107398965345\t 5.495735328950462\t 7.388572332784255\n",
            "14 \t [-8.48165682 -5.78419291]\t 1501.628926097257\t 18.053107398965345\t 4.917038394932202\t 5.877981399596112\n",
            "15 \t [ -2.4417179 -10.       ]\t 1262.1657720647158\t 18.053107398965345\t 5.022419006074256\t 6.510870788536376\n",
            "16 \t [-2.40052596 -1.74297865]\t 299.3260922470971\t 18.053107398965345\t 5.738110350200046\t 6.253344342976361\n",
            "17 \t [-6.18334685 -2.46975172]\t 721.9222691147922\t 18.053107398965345\t 5.570788440141838\t 6.864078586809834\n",
            "18 \t [ 0.22714018 -6.54835179]\t 517.8779706225785\t 18.053107398965345\t 5.4110621728706505\t 6.436736572284183\n",
            "19 \t [1.98003841 0.16520035]\t 22.757121477297574\t 18.053107398965345\t 5.159684548937926\t 7.3093577834937244\n",
            "20 \t [6.45844444 6.67176026]\t 376.7189902373001\t 18.053107398965345\t 5.574026205528393\t 6.505797659990447\n"
          ]
        }
      ],
      "source": [
        "### EXACT STP EI GRADIENTS\n",
        "\n",
        "np.random.seed(run_num_5)\n",
        "surrogate_exact_5 = dtStudentProcess(cov_func, optimize=opt, nu = df)\n",
        "\n",
        "exact_5 = dGPGO(surrogate_exact_5, Acquisition_grad(util), objfunc, param)\n",
        "exact_5.run(init_evals=n_init, max_iter=iters)\n"
      ]
    },
    {
      "cell_type": "code",
      "execution_count": 39,
      "metadata": {
        "id": "04KJCEm_Ivvf",
        "colab": {
          "base_uri": "https://localhost:8080/"
        },
        "outputId": "9c297449-552e-4fd8-ee13-c7a9466d5f9b"
      },
      "outputs": [
        {
          "output_type": "stream",
          "name": "stdout",
          "text": [
            "Evaluation \t Proposed point \t  Current eval. \t  Best eval. \t        Exact EI: StdDev. x \t Approx EI: StdDev. x \n",
            "init\t [ 7.85720303 -3.36040389]\t 88.46320859272592\t 88.46320859272592\t    \t    \n",
            "init\t [ 6.42458246 -9.16606749]\t 359.2297742730208\t 88.46320859272592\t    \t    \n",
            "init\t [-7.8468664   1.90104128]\t 475.1525044254979\t 88.46320859272592\t    \t    \n",
            "init\t [ 0.59634724 -1.62385143]\t 122.64613090496854\t 88.46320859272592\t    \t    \n",
            "init\t [-3.29184301  2.45038864]\t 112.48071079498652\t 88.46320859272592\t    \t    \n",
            "1  \t [ -4.05176481 -10.        ]\t 1497.9851779796127\t 88.46320859272592\t 6.117702604195868\t 5.956539512944527\n",
            "2  \t [10. 10.]\t 1154.0\t 88.46320859272592\t 7.372934580459524\t 7.111602611345192\n",
            "3  \t [2.46299902 9.4614501 ]\t 295.07827894539565\t 88.46320859272592\t 6.182450903376501\t 6.258118644382397\n",
            "\u001b[1m\u001b[92m4\u001b[0m\t \u001b[1m\u001b[92m[-5.6935267   8.60486508]\u001b[0m\t \u001b[1m\u001b[92m80.95854876086956\u001b[0m\t \u001b[1m\u001b[92m80.95854876086956\u001b[0m\t \u001b[1m\u001b[92m6.64053898122913\u001b[0m\t \u001b[1m\u001b[92m6.4396477882903955\u001b[0m\n",
            "5  \t [-10.          -5.45565933]\t 1706.5888943865389\t 80.95854876086956\t 6.607320615423645\t 6.2950378000248275\n",
            "\u001b[1m\u001b[92m6\u001b[0m\t \u001b[1m\u001b[92m[5.27911136 2.46180165]\u001b[0m\t \u001b[1m\u001b[92m74.57817195671946\u001b[0m\t \u001b[1m\u001b[92m74.57817195671946\u001b[0m\t \u001b[1m\u001b[92m6.606199279464792\u001b[0m\t \u001b[1m\u001b[92m5.986458097011207\u001b[0m\n",
            "7  \t [ 0.80775099 -8.56786423]\t 687.0534960796683\t 74.57817195671946\t 6.2409856551036365\t 6.176210332848163\n",
            "8  \t [-5.2160087  -2.20998074]\t 587.9956019453816\t 74.57817195671946\t 6.767287945549084\t 6.700720619954912\n",
            "\u001b[1m\u001b[92m9\u001b[0m\t \u001b[1m\u001b[92m[-1.22868843  4.34354782]\u001b[0m\t \u001b[1m\u001b[92m9.906068482791387\u001b[0m\t \u001b[1m\u001b[92m9.906068482791387\u001b[0m\t \u001b[1m\u001b[92m5.526910149876347\u001b[0m\t \u001b[1m\u001b[92m5.243511560308378\u001b[0m\n",
            "10 \t [-8.80212012 -1.68075919]\t 957.006238778602\t 9.906068482791387\t 5.729411512346757\t 6.52957597526229\n",
            "11 \t [10.         2.2075002]\t 351.08029397433444\t 9.906068482791387\t 5.684515251731623\t 6.943426821629588\n",
            "12 \t [ -9.56356909 -10.        ]\t 2501.556144962756\t 9.906068482791387\t 6.304779901420866\t 7.691568978059419\n",
            "13 \t [ 3.45896194 -3.24909195]\t 102.55798614529127\t 9.906068482791387\t 5.483276557459465\t 5.520967049827114\n",
            "14 \t [7.66630543 5.89678902]\t 418.6421168819984\t 9.906068482791387\t 5.421289737363019\t 6.509529072935867\n",
            "15 \t [-10.           6.58025496]\t 354.028691181698\t 9.906068482791387\t 5.370630250970551\t 6.736429456850976\n",
            "16 \t [-2.08579126 -5.1087788 ]\t 576.5479969844708\t 9.906068482791387\t 5.183271524505449\t 5.897735756004069\n",
            "17 \t [-1.02635482  7.60571115]\t 51.93100534139855\t 9.906068482791387\t 6.392620462859447\t 7.419096386829006\n",
            "18 \t [2.51109386 5.23704755]\t 63.48204254569012\t 9.906068482791387\t 5.369785435775027\t 6.334845558638062\n",
            "19 \t [-4.62539184  5.36918923]\t 79.66951272617466\t 9.906068482791387\t 5.849889572427179\t 6.493679119367041\n",
            "20 \t [ 9.636742   -6.15584608]\t 159.50070605179778\t 9.906068482791387\t 6.1041962263534915\t 5.901370054827341\n"
          ]
        }
      ],
      "source": [
        "### EXACT STP EI GRADIENTS\n",
        "\n",
        "np.random.seed(run_num_6)\n",
        "surrogate_exact_6 = dtStudentProcess(cov_func, optimize=opt, nu = df)\n",
        "\n",
        "exact_6 = dGPGO(surrogate_exact_6, Acquisition_grad(util), objfunc, param)\n",
        "exact_6.run(init_evals=n_init, max_iter=iters)\n"
      ]
    },
    {
      "cell_type": "code",
      "execution_count": 40,
      "metadata": {
        "id": "tAOkme3CIvyO",
        "colab": {
          "base_uri": "https://localhost:8080/"
        },
        "outputId": "7d2faada-553b-4647-a115-105860c4d4ba"
      },
      "outputs": [
        {
          "output_type": "stream",
          "name": "stdout",
          "text": [
            "Evaluation \t Proposed point \t  Current eval. \t  Best eval. \t        Exact EI: StdDev. x \t Approx EI: StdDev. x \n",
            "init\t [-8.47383421  5.59837584]\t 285.59280278210764\t 9.465549861932052\t    \t    \n",
            "init\t [-1.23181537  4.46930356]\t 9.465549861932052\t 9.465549861932052\t    \t    \n",
            "init\t [9.55979024 0.76991741]\t 238.50407296157155\t 9.465549861932052\t    \t    \n",
            "init\t [ 0.02240927 -8.55897733]\t 763.2277954619568\t 9.465549861932052\t    \t    \n",
            "init\t [-4.63122040e+00 -2.34998349e-03]\t 338.87889871968287\t 9.465549861932052\t    \t    \n",
            "1  \t [-10.         -8.2251621]\t 2222.835586043283\t 9.465549861932052\t 5.1555136817010485\t 5.320895598711625\n",
            "2  \t [10. 10.]\t 1154.0\t 9.465549861932052\t 6.802093333781339\t 6.921584111600699\n",
            "3  \t [ 7.45254366 -9.52193948]\t 345.78455019200885\t 9.465549861932052\t 6.286472392151477\t 7.264764452439928\n",
            "4  \t [-7.86246511 -2.61028169]\t 947.860148457175\t 9.465549861932052\t 5.644663185273079\t 5.6064499644646855\n",
            "5  \t [ 3.92046017 -1.99722202]\t 50.75307454952395\t 9.465549861932052\t 5.965485748524862\t 7.025283052935781\n",
            "6  \t [ 3.16650617 10.        ]\t 389.79309068462203\t 9.465549861932052\t 5.785758667305213\t 7.796492387163139\n",
            "7  \t [-2.78617785  9.79828268]\t 96.84289224848955\t 9.465549861932052\t 5.096297593958484\t 6.613143944180178\n",
            "8  \t [3.96359294 4.54552155]\t 92.49997371228781\t 9.465549861932052\t 5.568934097895892\t 6.362121286764405\n",
            "9  \t [0.63419491 0.82525783]\t 30.680838528608597\t 9.465549861932052\t 5.639802187148949\t 6.047444006585746\n",
            "10 \t [ 8.32532135 -4.42628539]\t 108.85082254015896\t 9.465549861932052\t 5.661780475918841\t 7.241582214976949\n",
            "11 \t [ -5.15235658 -10.        ]\t 1674.1025410053435\t 9.465549861932052\t 6.002143256949468\t 6.5403270755835425\n",
            "12 \t [-1.88426972 -3.6975958 ]\t 420.4253885014783\t 9.465549861932052\t 6.137719203171603\t 6.734631751286206\n",
            "13 \t [9.8943376  5.24374526]\t 580.3711942862276\t 9.465549861932052\t 6.020064858403132\t 7.469996127484095\n",
            "14 \t [-8.86474093  1.39639218]\t 625.9767640464489\t 9.465549861932052\t 5.0182642603584435\t 6.813959794279727\n",
            "15 \t [-9.34713271  9.86868536]\t 202.64037767350146\t 9.465549861932052\t 5.9013388370193445\t 7.472745926947149\n",
            "16 \t [-5.24466004  6.10803375]\t 88.00935067997807\t 9.465549861932052\t 4.963239489520222\t 5.692595285403079\n",
            "17 \t [ 3.82470431 -6.21196235]\t 256.0274662028883\t 9.465549861932052\t 4.889275330678608\t 6.5573987657678545\n",
            "18 \t [6.4749226  7.20223167]\t 422.22278743368844\t 9.465549861932052\t 6.419442901695942\t 7.216891012547277\n",
            "19 \t [-7.09877663 -7.65168159]\t 1585.3672377735647\t 9.465549861932052\t 6.043893598428641\t 6.058276771815705\n",
            "20 \t [5.53257114 1.07193347]\t 51.39541881046686\t 9.465549861932052\t 5.631308664157003\t 6.796122794126795\n"
          ]
        }
      ],
      "source": [
        "### EXACT STP EI GRADIENTS\n",
        "\n",
        "np.random.seed(run_num_7)\n",
        "surrogate_exact_7 = dtStudentProcess(cov_func, optimize=opt, nu = df)\n",
        "\n",
        "exact_7 = dGPGO(surrogate_exact_7, Acquisition_grad(util), objfunc, param)\n",
        "exact_7.run(init_evals=n_init, max_iter=iters)\n"
      ]
    },
    {
      "cell_type": "code",
      "execution_count": 41,
      "metadata": {
        "id": "69-J3EF4Iv1S",
        "colab": {
          "base_uri": "https://localhost:8080/"
        },
        "outputId": "5d8bb359-d89b-4201-8d97-a3dafd3343c9"
      },
      "outputs": [
        {
          "output_type": "stream",
          "name": "stdout",
          "text": [
            "Evaluation \t Proposed point \t  Current eval. \t  Best eval. \t        Exact EI: StdDev. x \t Approx EI: StdDev. x \n",
            "init\t [7.46858806 9.37081326]\t 741.8307972128058\t 75.39770051777191\t    \t    \n",
            "init\t [7.3838908  0.61711383]\t 110.46436066448925\t 75.39770051777191\t    \t    \n",
            "init\t [-5.34543344 -9.77202391]\t 1665.297823285088\t 75.39770051777191\t    \t    \n",
            "init\t [-1.39062363 -1.9529728 ]\t 245.96065521704543\t 75.39770051777191\t    \t    \n",
            "init\t [ 0.45349343 -0.43216408]\t 75.39770051777191\t 75.39770051777191\t    \t    \n",
            "1  \t [ 9.69498875 -9.42535902]\t 285.65502563735186\t 75.39770051777191\t 6.583109918991878\t 6.609275373863879\n",
            "2  \t [-9.83383251  5.77166529]\t 385.04821658618386\t 75.39770051777191\t 6.891921991488422\t 5.9999178884775635\n",
            "3  \t [-3.97152767  9.51013426]\t 76.56717653580492\t 75.39770051777191\t 7.108422013189667\t 6.345323094593282\n",
            "4  \t [-9.65586204 -5.07440767]\t 1582.0354694335447\t 75.39770051777191\t 7.238276215862219\t 7.22593890266256\n",
            "5  \t [  2.43630913 -10.        ]\t 705.9387696177387\t 75.39770051777191\t 5.9508031199609315\t 5.89836091475158\n",
            "6  \t [-3.74192841  4.06151807]\t 77.79438658797245\t 75.39770051777191\t 7.371195637154928\t 6.8923898408691775\n",
            "7  \t [-8.7145669   0.49877078]\t 697.5316569434235\t 75.39770051777191\t 6.971553023866391\t 5.774601714802446\n",
            "8  \t [1.70756289 8.58254224]\t 189.92711320123325\t 75.39770051777191\t 7.86216857283151\t 6.49388181975638\n",
            "9  \t [ 9.94206526 -3.51674415]\t 145.95721518615102\t 75.39770051777191\t 8.497497383286818\t 7.424439335764035\n",
            "10 \t [ 5.54123412 -6.09123291]\t 186.0832789468513\t 75.39770051777191\t 7.531797062851347\t 6.685745139675012\n",
            "11 \t [4.77050516 5.2861335 ]\t 166.17460320641646\t 75.39770051777191\t 7.480145942284722\t 6.88949157403749\n",
            "12 \t [-10. -10.]\t 2594.0\t 75.39770051777191\t 8.214945344281936\t 7.0568913274517655\n",
            "13 \t [ 1.77710967 -4.40330365]\t 231.03859125122864\t 75.39770051777191\t 5.342779085242279\t 5.69275235614767\n",
            "14 \t [9.99726945 4.43589418]\t 518.4162630323448\t 75.39770051777191\t 6.318617610878425\t 7.630135261433305\n",
            "15 \t [-1.49655092 -8.05221887]\t 862.6609602567836\t 75.39770051777191\t 5.4482408252517\t 5.066065602381475\n",
            "\u001b[1m\u001b[92m16\u001b[0m\t \u001b[1m\u001b[92m[0.3474399  4.55941326]\u001b[0m\t \u001b[1m\u001b[92m6.147135036807248\u001b[0m\t \u001b[1m\u001b[92m6.147135036807248\u001b[0m\t \u001b[1m\u001b[92m5.3241151403097815\u001b[0m\t \u001b[1m\u001b[92m6.523224501556323\u001b[0m\n",
            "17 \t [ 8.90857551 -6.91909576]\t 177.1027940812109\t 6.147135036807248\t 6.190327544706123\t 6.870037323677326\n",
            "18 \t [ 4.10184677 -1.13371736]\t 30.9681001894734\t 6.147135036807248\t 6.170198968244702\t 6.8677353343675716\n",
            "19 \t [-6.49139782 -4.3782308 ]\t 994.9827524646237\t 6.147135036807248\t 5.319706834190214\t 5.289863110597369\n",
            "\u001b[1m\u001b[92m20\u001b[0m\t \u001b[1m\u001b[92m[1.68781758 2.44141867]\u001b[0m\t \u001b[1m\u001b[92m0.8519141700285205\u001b[0m\t \u001b[1m\u001b[92m0.8519141700285205\u001b[0m\t \u001b[1m\u001b[92m5.449165532979618\u001b[0m\t \u001b[1m\u001b[92m8.13109525319931\u001b[0m\n"
          ]
        }
      ],
      "source": [
        "### EXACT STP EI GRADIENTS\n",
        "\n",
        "np.random.seed(run_num_8)\n",
        "surrogate_exact_8 = dtStudentProcess(cov_func, optimize=opt, nu = df)\n",
        "\n",
        "exact_8 = dGPGO(surrogate_exact_8, Acquisition_grad(util), objfunc, param)\n",
        "exact_8.run(init_evals=n_init, max_iter=iters)\n"
      ]
    },
    {
      "cell_type": "code",
      "execution_count": 42,
      "metadata": {
        "id": "vonm9jyuIv4t",
        "colab": {
          "base_uri": "https://localhost:8080/"
        },
        "outputId": "1ddb7afc-da64-4117-df29-14f9378f3741"
      },
      "outputs": [
        {
          "output_type": "stream",
          "name": "stdout",
          "text": [
            "Evaluation \t Proposed point \t  Current eval. \t  Best eval. \t        Exact EI: StdDev. x \t Approx EI: StdDev. x \n",
            "init\t [-9.79251692  0.03749184]\t 882.0577358281939\t 526.7340464177141\t    \t    \n",
            "init\t [-0.08453414 -7.32340942]\t 628.3137012668271\t 526.7340464177141\t    \t    \n",
            "init\t [-7.15777829 -5.62882649]\t 1268.1663931377898\t 526.7340464177141\t    \t    \n",
            "init\t [-1.62983639 -5.03797663]\t 526.7340464177141\t 526.7340464177141\t    \t    \n",
            "init\t [-8.31880698 -3.0900272 ]\t 1073.657277368356\t 526.7340464177141\t    \t    \n",
            "1  \t [6.0747954  9.66718496]\t 621.7013152481403\t 526.7340464177141\t 6.9318613169127135\t 6.029721267865269\n",
            "\u001b[1m\u001b[92m2\u001b[0m\t \u001b[1m\u001b[92m[4.69531634 1.12432974]\u001b[0m\t \u001b[1m\u001b[92m30.41794917619908\u001b[0m\t \u001b[1m\u001b[92m30.41794917619908\u001b[0m\t \u001b[1m\u001b[92m6.893895864664688\u001b[0m\t \u001b[1m\u001b[92m6.6687950738805934\u001b[0m\n",
            "3  \t [-4.34667475  7.2314955 ]\t 51.466984168071384\t 30.41794917619908\t 6.020341047827589\t 6.94601581632233\n",
            "4  \t [ 8.66970884 -6.33785621]\t 157.1508550483091\t 30.41794917619908\t 6.341120835016833\t 6.380981397299225\n",
            "5  \t [10.          5.77298998]\t 643.1026454398775\t 30.41794917619908\t 7.771732347272674\t 7.38526242103149\n",
            "6  \t [1.07454724 6.49643841]\t 63.23839280073391\t 30.41794917619908\t 5.745442529171696\t 6.023111926409521\n",
            "7  \t [-2.00413361  1.08900426]\t 109.31070926825305\t 30.41794917619908\t 5.481895895958088\t 7.048700536517888\n",
            "8  \t [-10. -10.]\t 2594.0\t 30.41794917619908\t 5.230394260720479\t 7.1975623576219645\n",
            "9  \t [ 3.85938425 -3.60405836]\t 107.88000196527028\t 30.41794917619908\t 5.145048007446997\t 7.077844378096866\n",
            "10 \t [ -4.3460849 -10.       ]\t 1543.8959485605797\t 30.41794917619908\t 5.03970912576443\t 7.187856074139438\n",
            "11 \t [-8.30362058  9.06853451]\t 165.24759444115244\t 30.41794917619908\t 5.289594046011296\t 7.141179166181464\n",
            "12 \t [-5.81688573  3.03901719]\t 230.22946123776634\t 30.41794917619908\t 4.7873216437821595\t 7.433953388186777\n",
            "13 \t [ 8.76473535 -1.85906421]\t 117.67331921260991\t 30.41794917619908\t 4.521665725068438\t 6.265768765692383\n",
            "14 \t [4.63548552 4.63548552]\t 127.02411061648692\t 30.41794917619908\t 4.74246564976697\t 7.76039964197395\n",
            "15 \t [10. 10.]\t 1154.0\t 30.41794917619908\t 5.541726420581893\t 5.9310560203797245\n",
            "16 \t [ 4.73628725 -9.42955506]\t 470.7453026673704\t 30.41794917619908\t 5.111745882995932\t 7.054008080182599\n",
            "17 \t [-10.           4.63549042]\t 474.45098766539564\t 30.41794917619908\t 4.516002041564645\t 6.281504971797525\n",
            "18 \t [2.15203928 9.6876432 ]\t 291.894251755474\t 30.41794917619908\t 5.030154995714405\t 6.790903006629618\n",
            "19 \t [-2.6962353   4.38117049]\t 37.00788774296733\t 30.41794917619908\t 5.302213520236485\t 6.2450226372177795\n",
            "20 \t [ 7.00622485 -5.03856773]\t 117.21497843754506\t 30.41794917619908\t 6.153300113169683\t 6.299474201808307\n"
          ]
        }
      ],
      "source": [
        "### EXACT STP EI GRADIENTS\n",
        "\n",
        "np.random.seed(run_num_9)\n",
        "surrogate_exact_9 = dtStudentProcess(cov_func, optimize=opt, nu = df)\n",
        "\n",
        "exact_9 = dGPGO(surrogate_exact_9, Acquisition_grad(util), objfunc, param)\n",
        "exact_9.run(init_evals=n_init, max_iter=iters)\n"
      ]
    },
    {
      "cell_type": "code",
      "execution_count": 43,
      "metadata": {
        "id": "6amuYlUdIv7r",
        "colab": {
          "base_uri": "https://localhost:8080/"
        },
        "outputId": "d8003039-bcbf-42cf-d51e-78a2024c49a3"
      },
      "outputs": [
        {
          "output_type": "stream",
          "name": "stdout",
          "text": [
            "Evaluation \t Proposed point \t  Current eval. \t  Best eval. \t        Exact EI: StdDev. x \t Approx EI: StdDev. x \n",
            "init\t [ 5.42641287 -9.58496101]\t 444.22200604720473\t 59.96573403226766\t    \t    \n",
            "init\t [2.6729647  4.97607765]\t 59.96573403226766\t 59.96573403226766\t    \t    \n",
            "init\t [-0.02985975 -5.50406709]\t 436.96281238949786\t 59.96573403226766\t    \t    \n",
            "init\t [-6.0387427   5.21061424]\t 147.67401193720747\t 59.96573403226766\t    \t    \n",
            "init\t [-6.61778327 -8.23320372]\t 1605.6543289416081\t 59.96573403226766\t    \t    \n",
            "1  \t [10.          7.96260972]\t 885.4453761277164\t 59.96573403226766\t 5.969361977723801\t 6.111381983339671\n",
            "\u001b[1m\u001b[92m2\u001b[0m\t \u001b[1m\u001b[92m[2.11155129 0.26933255]\u001b[0m\t \u001b[1m\u001b[92m19.17823960765822\u001b[0m\t \u001b[1m\u001b[92m19.17823960765822\u001b[0m\t \u001b[1m\u001b[92m5.0778730812242285\u001b[0m\t \u001b[1m\u001b[92m5.06792391472162\u001b[0m\n",
            "3  \t [8.50713746 1.33499849]\t 195.6515526065785\t 19.17823960765822\t 5.8476686200766945\t 6.747520609705895\n",
            "4  \t [-10.         -0.5992853]\t 986.5113795287016\t 19.17823960765822\t 7.116483163170883\t 7.032553394876229\n",
            "5  \t [-8.79899589  9.77833948]\t 178.46366706135103\t 19.17823960765822\t 6.467501210416215\t 7.0970969620307836\n",
            "6  \t [-3.60498845 -0.2559006 ]\t 278.98111382556135\t 19.17823960765822\t 6.859245083117939\t 7.127570012125382\n",
            "7  \t [ 5.09447132 -4.54947648]\t 121.50753305417155\t 19.17823960765822\t 7.080445998133439\t 8.078292956907257\n",
            "8  \t [0.07149479 9.31105431]\t 156.57886799914345\t 19.17823960765822\t 7.4785058648390415\t 7.421639697967867\n",
            "9  \t [ 9.4047906  -4.48760733]\t 130.06966925476868\t 19.17823960765822\t 6.994340094986956\t 7.029949364330738\n",
            "10 \t [-4.03085666  8.85260838]\t 62.26364719699235\t 19.17823960765822\t 7.591285481750088\t 7.849162491407549\n",
            "11 \t [-10.          -5.40106765]\t 1697.1836412439634\t 19.17823960765822\t 6.494757269928232\t 6.847427006061123\n",
            "12 \t [ -0.94421983 -10.        ]\t 1066.0988165962856\t 19.17823960765822\t 6.499844997108836\t 6.77869892416336\n",
            "13 \t [5.10814167 7.70628542]\t 349.8024499501879\t 19.17823960765822\t 6.944889648171287\t 6.802789997488224\n",
            "\u001b[1m\u001b[92m14\u001b[0m\t \u001b[1m\u001b[92m[-1.22344985  5.43438817]\u001b[0m\t \u001b[1m\u001b[92m11.047954896199062\u001b[0m\t \u001b[1m\u001b[92m11.047954896199062\u001b[0m\t \u001b[1m\u001b[92m6.396059509929385\u001b[0m\t \u001b[1m\u001b[92m7.018037695828577\u001b[0m\n",
            "15 \t [-0.27999011 -1.47398784]\t 154.08799087577378\t 11.047954896199062\t 6.594317603371522\t 7.380888097031039\n",
            "16 \t [-4.67570888 -4.54651693]\t 788.4726096336842\t 11.047954896199062\t 7.193887485271779\t 7.59011476178353\n",
            "17 \t [-10. -10.]\t 2594.0\t 11.047954896199062\t 5.98574388539301\t 6.361426463107793\n",
            "18 \t [-3.57069789 -5.01568782]\t 718.8109517085921\t 11.047954896199062\t 5.302002599319782\t 5.608551598692994\n",
            "19 \t [ 8.64991192 -7.50937555]\t 201.6742558529669\t 11.047954896199062\t 5.681902558830653\t 6.674967249834452\n",
            "20 \t [7.25828208 7.00737759]\t 476.7602434600968\t 11.047954896199062\t 6.411415291603953\t 6.465581462512402\n"
          ]
        }
      ],
      "source": [
        "### EXACT STP EI GRADIENTS\n",
        "\n",
        "np.random.seed(run_num_10)\n",
        "surrogate_exact_10 = dtStudentProcess(cov_func, optimize=opt, nu = df)\n",
        "\n",
        "exact_10 = dGPGO(surrogate_exact_10, Acquisition_grad(util), objfunc, param)\n",
        "exact_10.run(init_evals=n_init, max_iter=iters)\n"
      ]
    },
    {
      "cell_type": "code",
      "execution_count": 44,
      "metadata": {
        "id": "VwbLIP9cIv-F",
        "colab": {
          "base_uri": "https://localhost:8080/"
        },
        "outputId": "cf90a7a9-fc82-4dc0-f6e8-93fc609c22e6"
      },
      "outputs": [
        {
          "output_type": "stream",
          "name": "stdout",
          "text": [
            "Evaluation \t Proposed point \t  Current eval. \t  Best eval. \t        Exact EI: StdDev. x \t Approx EI: StdDev. x \n",
            "init\t [-6.39460622 -9.61049517]\t 1814.521116554919\t 5.483030044782123\t    \t    \n",
            "init\t [-0.73562947  4.49867858]\t 5.483030044782123\t 5.483030044782123\t    \t    \n",
            "init\t [-1.59592791 -0.29145804]\t 156.21779076814232\t 5.483030044782123\t    \t    \n",
            "init\t [-9.74438371 -0.25256785]\t 909.6795910034871\t 5.483030044782123\t    \t    \n",
            "init\t [8.83613305 7.01590179]\t 639.4153671589368\t 5.483030044782123\t    \t    \n",
            "1  \t [ 1.99086793 -8.88652641]\t 617.1328244256196\t 5.483030044782123\t 6.185758008302068\t 6.3943135155428195\n",
            "2  \t [ 4.79903036 -1.6267314 ]\t 38.579631108734375\t 5.483030044782123\t 5.1343567094759095\t 4.846654737033998\n",
            "3  \t [-3.72641694  8.61531845]\t 57.03140194376866\t 5.483030044782123\t 5.871646563702384\t 7.311316504665365\n",
            "4  \t [ 8.16895886 -5.52723039]\t 131.4872354745823\t 5.483030044782123\t 5.943477347841052\t 6.441309845454031\n",
            "5  \t [-7.89611862  5.10567265]\t 268.0154091266694\t 5.483030044782123\t 5.931561007052302\t 5.882427943078447\n",
            "6  \t [-8.47917244 -4.4343425 ]\t 1289.392108733857\t 5.483030044782123\t 5.8220736635277115\t 6.366895120813661\n",
            "7  \t [10.          1.68651078]\t 319.05504570130756\t 5.483030044782123\t 7.0892789120800295\t 7.616903526563893\n",
            "8  \t [3.82437955 9.26757252]\t 377.91395513391444\t 5.483030044782123\t 6.356479445138002\t 6.644571514192271\n",
            "9  \t [-2.7194663  -5.05091101]\t 632.8187254544616\t 5.483030044782123\t 6.538386873161076\t 7.828781791698121\n",
            "10 \t [4.74019012 3.20044955]\t 76.14376618341569\t 5.483030044782123\t 7.4456555198917895\t 8.409874167764738\n",
            "11 \t [ 6.88950588 -9.79837911]\t 389.4149050728702\t 5.483030044782123\t 7.951809783536994\t 7.834166701269447\n",
            "12 \t [ 2.04715395 -4.63556974]\t 233.0273473356793\t 5.483030044782123\t 6.192388202973971\t 7.042581741094949\n",
            "13 \t [-5.10621269 -1.90502323]\t 546.3343521074336\t 5.483030044782123\t 5.783188357271849\t 7.157136623785619\n",
            "14 \t [-0.23304298  8.96568363]\t 126.70132600840455\t 5.483030044782123\t 6.6832788408504005\t 6.8384082614984765\n",
            "15 \t [ -2.18498476 -10.        ]\t 1226.9590552858217\t 5.483030044782123\t 6.756217862592281\t 7.275216633784918\n",
            "16 \t [-7.34960756  9.10433592]\t 127.14384230386216\t 5.483030044782123\t 7.03365873537519\t 7.612898801226793\n",
            "17 \t [-4.02294126  4.10905981]\t 87.73382469252668\t 5.483030044782123\t 6.444227913900995\t 7.332372515708075\n",
            "18 \t [1.77275872 0.74150529]\t 14.52760009896163\t 5.483030044782123\t 7.583902220810693\t 7.856331502008434\n",
            "19 \t [1.58427125 5.79235841]\t 53.74514962119625\t 5.483030044782123\t 6.199190763822612\t 7.255515086778172\n",
            "20 \t [-5.92752638  1.57943132]\t 328.7714014093958\t 5.483030044782123\t 6.5397269082748455\t 7.267689669877159\n"
          ]
        }
      ],
      "source": [
        "### EXACT STP EI GRADIENTS\n",
        "\n",
        "np.random.seed(run_num_11)\n",
        "surrogate_exact_11 = dtStudentProcess(cov_func, optimize=opt, nu = df)\n",
        "\n",
        "exact_11 = dGPGO(surrogate_exact_11, Acquisition_grad(util), objfunc, param)\n",
        "exact_11.run(init_evals=n_init, max_iter=iters)\n"
      ]
    },
    {
      "cell_type": "code",
      "execution_count": 45,
      "metadata": {
        "id": "MlUNFjc-JTBY",
        "colab": {
          "base_uri": "https://localhost:8080/"
        },
        "outputId": "bb0dd6c1-813f-4f38-b320-2fc152f27b8a"
      },
      "outputs": [
        {
          "output_type": "stream",
          "name": "stdout",
          "text": [
            "Evaluation \t Proposed point \t  Current eval. \t  Best eval. \t        Exact EI: StdDev. x \t Approx EI: StdDev. x \n",
            "init\t [-6.91674315  4.80099393]\t 215.5279554685742\t 189.34864056663108\t    \t    \n",
            "init\t [-4.7336997   0.67478787]\t 298.0661631184378\t 189.34864056663108\t    \t    \n",
            "init\t [-9.70850075  8.37494016]\t 257.3494442600599\t 189.34864056663108\t    \t    \n",
            "init\t [ 8.01429708 -9.33157145]\t 314.3616446198572\t 189.34864056663108\t    \t    \n",
            "init\t [ 9.13898673 -7.25581357]\t 189.34864056663108\t 189.34864056663108\t    \t    \n",
            "\u001b[1m\u001b[92m1\u001b[0m\t \u001b[1m\u001b[92m[4.66251955 4.05244711]\u001b[0m\t \u001b[1m\u001b[92m103.44533669968575\u001b[0m\t \u001b[1m\u001b[92m103.44533669968575\u001b[0m\t \u001b[1m\u001b[92m6.300792474230376\u001b[0m\t \u001b[1m\u001b[92m5.818882446790455\u001b[0m\n",
            "2  \t [-10. -10.]\t 2594.0\t 103.44533669968575\t 6.695732765956745\t 5.94385448028257\n",
            "3  \t [10. 10.]\t 1154.0\t 103.44533669968575\t 6.0560244547045645\t 7.089578131405223\n",
            "4  \t [ 0.911419   -9.62772996]\t 806.285667866742\t 103.44533669968575\t 5.324708278484238\t 5.444330535300343\n",
            "5  \t [ 8.15269188 -0.957369  ]\t 107.66212394211308\t 103.44533669968575\t 5.216133873346463\t 4.400564918665509\n",
            "\u001b[1m\u001b[92m6\u001b[0m\t \u001b[1m\u001b[92m[-0.43591373  6.57248893]\u001b[0m\t \u001b[1m\u001b[92m33.084339682889876\u001b[0m\t \u001b[1m\u001b[92m33.084339682889876\u001b[0m\t \u001b[1m\u001b[92m5.719715247701543\u001b[0m\t \u001b[1m\u001b[92m6.5115094397818725\u001b[0m\n",
            "7  \t [ 2.4307639  -2.13199137]\t 83.18075969577885\t 33.084339682889876\t 6.246710264956368\t 6.1672296465223315\n",
            "8  \t [-6.68439284 -4.93354608]\t 1097.671112036865\t 33.084339682889876\t 6.128291534098593\t 6.603736073666592\n",
            "9  \t [-10.          -0.40148902]\t 962.1816720357979\t 33.084339682889876\t 4.938473987553856\t 5.37237546250501\n",
            "10 \t [ -4.43280908 -10.        ]\t 1557.5892168501946\t 33.084339682889876\t 5.387242690167215\t 6.097078276472862\n",
            "11 \t [-1.62008991 -4.72992407]\t 495.10775467437134\t 33.084339682889876\t 4.855335910401192\t 5.184882912037439\n",
            "12 \t [3.87396922 9.57204863]\t 408.3605355345377\t 33.084339682889876\t 5.124198093724456\t 6.523573361256744\n",
            "13 \t [ 4.47330014 -7.80086288]\t 343.49515579843666\t 33.084339682889876\t 5.136571531772891\t 7.3856764248955376\n",
            "14 \t [-3.70052717  9.95424593]\t 90.77348499363086\t 33.084339682889876\t 5.095561188104886\t 6.80358644077916\n",
            "15 \t [8.70642489 3.73438248]\t 344.91721810132645\t 33.084339682889876\t 6.016815744772284\t 6.327015851799258\n",
            "\u001b[1m\u001b[92m16\u001b[0m\t \u001b[1m\u001b[92m[-1.2141344   2.79640277]\u001b[0m\t \u001b[1m\u001b[92m28.325547845514897\u001b[0m\t \u001b[1m\u001b[92m28.325547845514897\u001b[0m\t \u001b[1m\u001b[92m4.966604795132742\u001b[0m\t \u001b[1m\u001b[92m6.2196695854868125\u001b[0m\n",
            "\u001b[1m\u001b[92m17\u001b[0m\t \u001b[1m\u001b[92m[4.04316037 0.76898133]\u001b[0m\t \u001b[1m\u001b[92m16.87656588665721\u001b[0m\t \u001b[1m\u001b[92m16.87656588665721\u001b[0m\t \u001b[1m\u001b[92m5.080777409937499\u001b[0m\t \u001b[1m\u001b[92m6.334015583041624\u001b[0m\n",
            "18 \t [ 1.91508122 -6.44603993]\t 381.1740698937552\t 16.87656588665721\t 6.085791564910151\t 6.083292893171422\n",
            "19 \t [-9.6224482   2.99731971]\t 564.4098351351573\t 16.87656588665721\t 5.762802290166612\t 5.844636603506514\n",
            "20 \t [-3.67097785  5.8707617 ]\t 43.02241960460535\t 16.87656588665721\t 5.280109001941211\t 5.385807957893537\n"
          ]
        }
      ],
      "source": [
        "### EXACT STP EI GRADIENTS\n",
        "\n",
        "np.random.seed(run_num_12)\n",
        "surrogate_exact_12 = dtStudentProcess(cov_func, optimize=opt, nu = df)\n",
        "\n",
        "exact_12 = dGPGO(surrogate_exact_12, Acquisition_grad(util), objfunc, param)\n",
        "exact_12.run(init_evals=n_init, max_iter=iters)\n"
      ]
    },
    {
      "cell_type": "code",
      "execution_count": 46,
      "metadata": {
        "id": "9BsKdU9eJTFL",
        "colab": {
          "base_uri": "https://localhost:8080/"
        },
        "outputId": "b75c8267-2b0f-4c0a-872d-5445be79d22b"
      },
      "outputs": [
        {
          "output_type": "stream",
          "name": "stdout",
          "text": [
            "Evaluation \t Proposed point \t  Current eval. \t  Best eval. \t        Exact EI: StdDev. x \t Approx EI: StdDev. x \n",
            "init\t [ 5.55404821 -5.2491756 ]\t 143.4041188295949\t 48.27231948835582\t    \t    \n",
            "init\t [6.48557065 9.31498396]\t 626.9828646177026\t 48.27231948835582\t    \t    \n",
            "init\t [ 9.45202228 -0.93101505]\t 168.64758529203058\t 48.27231948835582\t    \t    \n",
            "init\t [2.18084926 5.51053029]\t 62.202299160666314\t 48.27231948835582\t    \t    \n",
            "init\t [2.8322669  4.44036459]\t 48.27231948835582\t 48.27231948835582\t    \t    \n",
            "1  \t [-8.69830926  2.59657998]\t 502.3996877395562\t 48.27231948835582\t 5.484391039397778\t 6.237105232579203\n",
            "2  \t [-10. -10.]\t 2594.0\t 48.27231948835582\t 5.990219527655926\t 6.678348829662276\n",
            "3  \t [-2.15602907 -6.60875043]\t 754.0469861276626\t 48.27231948835582\t 5.876019627795337\t 6.416474198791277\n",
            "4  \t [-5.68974606  9.11900061]\t 83.49787226161779\t 48.27231948835582\t 6.540117465109145\t 6.826533515985315\n",
            "5  \t [-10.         -3.9591904]\t 1459.5604108760238\t 48.27231948835582\t 6.644826098237407\t 7.648974958856778\n",
            "6  \t [-2.801531    1.39944676]\t 133.74346479929733\t 48.27231948835582\t 5.671256659676323\t 5.56466071543091\n",
            "7  \t [-1.22055759  9.78360556]\t 134.23380720925925\t 48.27231948835582\t 6.182442389113456\t 6.420074585959711\n",
            "8  \t [9.48855794 5.16434467]\t 530.6773396017954\t 48.27231948835582\t 5.726669457664342\t 7.524671792602315\n",
            "9  \t [ 2.16638115 -9.03847723]\t 619.0952721639597\t 48.27231948835582\t 6.472513370165837\t 6.9820504305559705\n",
            "\u001b[1m\u001b[92m10\u001b[0m\t \u001b[1m\u001b[92m[ 1.76327695 -0.00540788]\u001b[0m\t \u001b[1m\u001b[92m29.723672660871458\u001b[0m\t \u001b[1m\u001b[92m29.723672660871458\u001b[0m\t \u001b[1m\u001b[92m6.388088771888711\u001b[0m\t \u001b[1m\u001b[92m6.629964249572552\u001b[0m\n",
            "11 \t [-5.08302312 -2.57246144]\t 611.4567782216241\t 29.723672660871458\t 5.962004014224781\t 6.991288418488865\n",
            "12 \t [5.54543282 1.06324124]\t 51.63271531244357\t 29.723672660871458\t 6.258177608693221\t 7.091636685155103\n",
            "13 \t [-9.34861809  7.01676574]\t 283.59772008106995\t 29.723672660871458\t 6.365432420743951\t 7.068519680653639\n",
            "\u001b[1m\u001b[92m14\u001b[0m\t \u001b[1m\u001b[92m[-2.36372231  5.22048355]\u001b[0m\t \u001b[1m\u001b[92m21.47315437736948\u001b[0m\t \u001b[1m\u001b[92m21.47315437736948\u001b[0m\t \u001b[1m\u001b[92m6.203169990539567\u001b[0m\t \u001b[1m\u001b[92m6.777358433399495\u001b[0m\n",
            "15 \t [-0.13703947 -2.92561601]\t 235.93019338342225\t 21.47315437736948\t 6.181763019712976\t 7.466627851757191\n",
            "16 \t [-5.41207019 -9.56175576]\t 1638.9366356185997\t 21.47315437736948\t 7.350301563407188\t 8.244597654460112\n",
            "17 \t [ 9.18418822 -6.76386401]\t 172.29547971357295\t 21.47315437736948\t 7.151458521619067\t 7.84590876546041\n",
            "18 \t [5.74507377 5.77853967]\t 256.6550446583881\t 21.47315437736948\t 4.966822430668304\t 5.793043824852957\n",
            "19 \t [2.0460765  8.73954115]\t 218.21503639769725\t 21.47315437736948\t 6.410113885448533\t 7.438141776632956\n",
            "20 \t [-6.69250082 -5.45733689]\t 1173.9701484052875\t 21.47315437736948\t 6.51555434456211\t 6.55628574081188\n"
          ]
        }
      ],
      "source": [
        "### EXACT STP EI GRADIENTS\n",
        "\n",
        "np.random.seed(run_num_13)\n",
        "surrogate_exact_13 = dtStudentProcess(cov_func, optimize=opt, nu = df)\n",
        "\n",
        "exact_13 = dGPGO(surrogate_exact_13, Acquisition_grad(util), objfunc, param)\n",
        "exact_13.run(init_evals=n_init, max_iter=iters)\n"
      ]
    },
    {
      "cell_type": "code",
      "execution_count": 47,
      "metadata": {
        "id": "k6GjFBr1JTJf",
        "colab": {
          "base_uri": "https://localhost:8080/"
        },
        "outputId": "24b55d35-b586-4e56-faaf-165f06e1ae8f"
      },
      "outputs": [
        {
          "output_type": "stream",
          "name": "stdout",
          "text": [
            "Evaluation \t Proposed point \t  Current eval. \t  Best eval. \t        Exact EI: StdDev. x \t Approx EI: StdDev. x \n",
            "init\t [0.27886688 5.46330104]\t 18.728481209446468\t 18.728481209446468\t    \t    \n",
            "init\t [ 7.40855371 -9.83906103]\t 371.31674613664467\t 18.728481209446468\t    \t    \n",
            "init\t [-3.80528149  9.15207479]\t 68.19416312981014\t 18.728481209446468\t    \t    \n",
            "init\t [ 0.26233425 -3.6343115 ]\t 261.94243460125864\t 18.728481209446468\t    \t    \n",
            "init\t [ 0.78399875 -5.57490115]\t 382.6954465291845\t 18.728481209446468\t    \t    \n",
            "1  \t [-10.           0.30433183]\t 878.551933105977\t 18.728481209446468\t 6.054451764044567\t 6.7541062862693515\n",
            "2  \t [10.          1.54767172]\t 310.97865103063765\t 18.728481209446468\t 6.534406227155611\t 6.463113404674691\n",
            "3  \t [-10. -10.]\t 2594.0\t 18.728481209446468\t 6.969061987720945\t 6.995021138831806\n",
            "4  \t [-5.55439529 -4.70688097]\t 915.8921146807588\t 18.728481209446468\t 5.433667280053894\t 6.446911822689153\n",
            "5  \t [10. 10.]\t 1154.0\t 18.728481209446468\t 6.305267321362384\t 6.583884961837498\n",
            "6  \t [ 6.3354297  -3.13857972]\t 68.72917096426313\t 18.728481209446468\t 5.141721164089781\t 6.351292359633152\n",
            "7  \t [-4.14419986  2.50979868]\t 153.68899604811\t 18.728481209446468\t 5.282489562788551\t 5.235149321694259\n",
            "8  \t [-9.64177644  6.15475675]\t 347.42175153482356\t 18.728481209446468\t 6.582684703426764\t 7.126225416007622\n",
            "9  \t [4.5165816  5.14620144]\t 145.24097389079583\t 18.728481209446468\t 6.0101718547333105\t 6.9113099061755054\n",
            "10 \t [0.31957968 1.38993724]\t 24.040524918189675\t 18.728481209446468\t 5.282505534133883\t 7.0544631119971655\n",
            "11 \t [ -2.1248191 -10.       ]\t 1218.8036589043334\t 18.728481209446468\t 5.608672917105043\t 6.518851062024703\n",
            "12 \t [10.       -5.480952]\t 154.00419015060174\t 18.728481209446468\t 4.840915958417449\t 6.940343361807396\n",
            "13 \t [ 2.72439223 -9.45386622]\t 618.5587609473371\t 18.728481209446468\t 5.207572502625611\t 6.170712563950451\n",
            "14 \t [0.86265328 9.29983451]\t 191.6118019059136\t 18.728481209446468\t 5.29704197963617\t 6.226578278714265\n",
            "15 \t [ 3.54033234 -0.73254882]\t 26.07072964424956\t 18.728481209446468\t 5.440928220264914\t 6.246801053048856\n",
            "16 \t [-10.          -5.08315476]\t 1643.004573085137\t 18.728481209446468\t 5.797326357801687\t 7.458179369758228\n",
            "17 \t [7.47842852 9.96695579]\t 813.6219464910598\t 18.728481209446468\t 6.055973757745908\t 6.055973757745908\n",
            "18 \t [-6.10074952 -8.45844078]\t 1559.4906861877857\t 18.728481209446468\t 5.472373983977469\t 6.4462419190592115\n",
            "19 \t [8.49971462 5.09171459]\t 428.6030460057773\t 18.728481209446468\t 5.16853620721205\t 6.252472135520587\n",
            "20 \t [-2.13323309 -1.23939305]\t 245.21206790967142\t 18.728481209446468\t 5.213910208620029\t 5.176433785396408\n"
          ]
        }
      ],
      "source": [
        "### EXACT STP EI GRADIENTS\n",
        "\n",
        "np.random.seed(run_num_14)\n",
        "surrogate_exact_14 = dtStudentProcess(cov_func, optimize=opt, nu = df)\n",
        "\n",
        "exact_14 = dGPGO(surrogate_exact_14, Acquisition_grad(util), objfunc, param)\n",
        "exact_14.run(init_evals=n_init, max_iter=iters)\n"
      ]
    },
    {
      "cell_type": "code",
      "execution_count": 48,
      "metadata": {
        "id": "dPS8WB3aJTN6",
        "colab": {
          "base_uri": "https://localhost:8080/"
        },
        "outputId": "0c5e54e7-76ce-4946-ace0-72cee4df2ae4"
      },
      "outputs": [
        {
          "output_type": "stream",
          "name": "stdout",
          "text": [
            "Evaluation \t Proposed point \t  Current eval. \t  Best eval. \t        Exact EI: StdDev. x \t Approx EI: StdDev. x \n",
            "init\t [ 6.97635395 -6.4220815 ]\t 171.98457986923216\t 171.98457986923216\t    \t    \n",
            "init\t [-8.91273571 -2.76923108]\t 1115.2426864421157\t 171.98457986923216\t    \t    \n",
            "init\t [-4.49198143  0.6000045 ]\t 285.0550378664367\t 171.98457986923216\t    \t    \n",
            "init\t [-3.88162169 -3.91051282]\t 627.8031621427792\t 171.98457986923216\t    \t    \n",
            "init\t [-7.76517448 -5.00201972]\t 1265.415808453521\t 171.98457986923216\t    \t    \n",
            "\u001b[1m\u001b[92m1\u001b[0m\t \u001b[1m\u001b[92m[-1.08003705  9.49213271]\u001b[0m\t \u001b[1m\u001b[92m124.34069392980017\u001b[0m\t \u001b[1m\u001b[92m124.34069392980017\u001b[0m\t \u001b[1m\u001b[92m6.159928384414911\u001b[0m\t \u001b[1m\u001b[92m6.519288465109335\u001b[0m\n",
            "2  \t [10. 10.]\t 1154.0\t 124.34069392980017\t 7.708264494555343\t 6.886455097725443\n",
            "\u001b[1m\u001b[92m3\u001b[0m\t \u001b[1m\u001b[92m[3.83917636 1.76653611]\u001b[0m\t \u001b[1m\u001b[92m19.89560577829772\u001b[0m\t \u001b[1m\u001b[92m19.89560577829772\u001b[0m\t \u001b[1m\u001b[92m6.504394494307731\u001b[0m\t \u001b[1m\u001b[92m6.875452558550738\u001b[0m\n",
            "4  \t [-9.85336983  7.92181089]\t 282.75342468429847\t 19.89560577829772\t 5.420109087857102\t 6.361716532316171\n",
            "5  \t [5.19399289 6.55869829]\t 270.67079150914697\t 19.89560577829772\t 6.469809515337501\t 6.573244681048196\n",
            "6  \t [10.          1.59568319]\t 313.74971820388555\t 19.89560577829772\t 6.064901361464273\t 7.117989441793739\n",
            "7  \t [ -0.41708665 -10.        ]\t 1002.4176846474676\t 19.89560577829772\t 6.120116738075091\t 6.449236071956127\n",
            "8  \t [-10. -10.]\t 2594.0\t 19.89560577829772\t 6.621383706074991\t 7.4867737770626075\n",
            "9  \t [ 1.93102714 -5.50722789]\t 302.8350096017848\t 19.89560577829772\t 4.907219449156061\t 6.687222959766581\n",
            "\u001b[1m\u001b[92m10\u001b[0m\t \u001b[1m\u001b[92m[0.11837607 4.90057499]\u001b[0m\t \u001b[1m\u001b[92m8.54249109165118\u001b[0m\t \u001b[1m\u001b[92m8.54249109165118\u001b[0m\t \u001b[1m\u001b[92m5.707215226625298\u001b[0m\t \u001b[1m\u001b[92m5.431303990647509\u001b[0m\n",
            "11 \t [-10.           2.72378361]\t 629.688519504333\t 8.54249109165118\t 4.779407180404601\t 6.1543884063537515\n",
            "12 \t [-3.8892695   5.53620235]\t 52.48497862600928\t 8.54249109165118\t 4.584988125455516\t 6.0181001803982745\n",
            "13 \t [3.04445606 9.86514255]\t 368.83377290885136\t 8.54249109165118\t 5.863505210412156\t 7.29493392387192\n",
            "14 \t [ 0.14895202 -0.19334178]\t 76.35006863156127\t 8.54249109165118\t 5.746063727670605\t 6.63805667412839\n",
            "15 \t [ 3.41166271 -2.19355949]\t 63.74497596932115\t 8.54249109165118\t 4.926955068015939\t 6.29996272704055\n",
            "16 \t [-5.33575905 -9.7479242 ]\t 1659.3992786737035\t 8.54249109165118\t 6.087184468126918\t 6.715244887357289\n",
            "17 \t [-4.81722907  9.24935463]\t 73.64151744612784\t 8.54249109165118\t 5.329441635018635\t 6.609041985368638\n",
            "18 \t [8.99596664 9.23889697]\t 913.3846859168063\t 8.54249109165118\t 5.849479928319824\t 5.849479928319824\n",
            "19 \t [ 7.46778737 -1.21238591]\t 79.923811669366\t 8.54249109165118\t 5.302476710488412\t 6.787270199058153\n",
            "20 \t [-10.          -7.14687703]\t 2012.7207461706957\t 8.54249109165118\t 5.491395959622532\t 5.63148414324649\n"
          ]
        }
      ],
      "source": [
        "### EXACT STP EI GRADIENTS\n",
        "\n",
        "np.random.seed(run_num_15)\n",
        "surrogate_exact_15 = dtStudentProcess(cov_func, optimize=opt, nu = df)\n",
        "\n",
        "exact_15 = dGPGO(surrogate_exact_15, Acquisition_grad(util), objfunc, param)\n",
        "exact_15.run(init_evals=n_init, max_iter=iters)\n"
      ]
    },
    {
      "cell_type": "code",
      "execution_count": 49,
      "metadata": {
        "id": "lu8ki9XIQPPN",
        "colab": {
          "base_uri": "https://localhost:8080/"
        },
        "outputId": "d5c94220-7386-4ae4-a89d-c7adc135158c"
      },
      "outputs": [
        {
          "output_type": "stream",
          "name": "stdout",
          "text": [
            "Evaluation \t Proposed point \t  Current eval. \t  Best eval. \t        Exact EI: StdDev. x \t Approx EI: StdDev. x \n",
            "init\t [-5.53417842  0.46326683]\t 378.2562509858209\t 182.86095429406956\t    \t    \n",
            "init\t [ 1.01402913 -9.087961  ]\t 729.2383206820605\t 182.86095429406956\t    \t    \n",
            "init\t [-2.78542329 -5.53838117]\t 694.7380078426447\t 182.86095429406956\t    \t    \n",
            "init\t [ 3.77452324 -6.7253715 ]\t 295.53799633399245\t 182.86095429406956\t    \t    \n",
            "init\t [-8.59350266  8.8202172 ]\t 182.86095429406956\t 182.86095429406956\t    \t    \n",
            "1  \t [4.18505664 9.44091052]\t 422.2668893394708\t 182.86095429406956\t 6.70943214267663\t 6.911203548816236\n",
            "2  \t [-10. -10.]\t 2594.0\t 182.86095429406956\t 7.2245297250580185\t 7.3091131948441905\n",
            "\u001b[1m\u001b[92m3\u001b[0m\t \u001b[1m\u001b[92m[ 2.52801252 -0.08752176]\u001b[0m\t \u001b[1m\u001b[92m21.595889051827275\u001b[0m\t \u001b[1m\u001b[92m21.595889051827275\u001b[0m\t \u001b[1m\u001b[92m5.995561523915495\u001b[0m\t \u001b[1m\u001b[92m6.646108219670814\u001b[0m\n",
            "4  \t [10. 10.]\t 1154.0\t 21.595889051827275\t 6.35854552390612\t 6.276921249605526\n",
            "\u001b[1m\u001b[92m5\u001b[0m\t \u001b[1m\u001b[92m[-2.22531694  5.42968011]\u001b[0m\t \u001b[1m\u001b[92m18.838166667692633\u001b[0m\t \u001b[1m\u001b[92m18.838166667692633\u001b[0m\t \u001b[1m\u001b[92m5.996840969692976\u001b[0m\t \u001b[1m\u001b[92m6.309371962670296\u001b[0m\n",
            "6  \t [9.89125625 1.7559367 ]\t 314.52037100721634\t 18.838166667692633\t 6.245516194788561\t 7.2704126097312525\n",
            "7  \t [ 9.01080998 -8.91422867]\t 267.0686312970112\t 18.838166667692633\t 5.75487140280622\t 6.836285925608392\n",
            "8  \t [-8.80462948 -4.08195164]\t 1286.9112854364482\t 18.838166667692633\t 4.965599499669638\t 6.208181815377759\n",
            "9  \t [ 9.0441433  -4.42822156]\t 121.40415542091424\t 18.838166667692633\t 5.688765716044031\t 5.7433202443617315\n",
            "10 \t [-1.27077236 -0.22359095]\t 136.30005880344845\t 18.838166667692633\t 5.311881774340545\t 7.0667083411646034\n",
            "11 \t [6.79514084 5.36720192]\t 305.682659585107\t 18.838166667692633\t 5.260442727725598\t 6.932360247521324\n",
            "12 \t [-9.55306402  2.74881218]\t 578.3576867317987\t 18.838166667692633\t 5.7870187491300635\t 7.309246711904697\n",
            "13 \t [ -4.57090095 -10.        ]\t 1579.5483859654128\t 18.838166667692633\t 5.166971188709049\t 5.357795154845053\n",
            "14 \t [-1.59321032  9.84617866]\t 125.94586080886496\t 18.838166667692633\t 5.264781256222106\t 4.913094764918959\n",
            "\u001b[1m\u001b[92m15\u001b[0m\t \u001b[1m\u001b[92m[0.91923641 3.68882977]\u001b[0m\t \u001b[1m\u001b[92m1.95998711494752\u001b[0m\t \u001b[1m\u001b[92m1.95998711494752\u001b[0m\t \u001b[1m\u001b[92m4.921773654398185\u001b[0m\t \u001b[1m\u001b[92m6.7724935895397556\u001b[0m\n",
            "16 \t [ 4.98599951 -2.16477712]\t 48.12118136917709\t 1.95998711494752\t 4.173485427425671\t 4.855098494722159\n",
            "17 \t [2.64737063 5.80352894]\t 89.81563266812181\t 1.95998711494752\t 5.937463065898464\t 7.78141433284796\n",
            "18 \t [-5.81520922  4.8125769 ]\t 149.83783237985222\t 1.95998711494752\t 5.2565685981992365\t 6.832763654709886\n",
            "19 \t [-5.13340414  9.94184013]\t 88.42206579550387\t 1.95998711494752\t 5.168814921164049\t 6.119956982467139\n",
            "20 \t [ 5.63729319 -9.52640252]\t 427.3674317107321\t 1.95998711494752\t 5.3399382318102715\t 6.146935829766569\n"
          ]
        }
      ],
      "source": [
        "### EXACT STP EI GRADIENTS\n",
        "\n",
        "np.random.seed(run_num_16)\n",
        "surrogate_exact_16 = dtStudentProcess(cov_func, optimize=opt, nu = df)\n",
        "\n",
        "exact_16 = dGPGO(surrogate_exact_16, Acquisition_grad(util), objfunc, param)\n",
        "exact_16.run(init_evals=n_init, max_iter=iters)\n"
      ]
    },
    {
      "cell_type": "code",
      "execution_count": 50,
      "metadata": {
        "id": "yU2SflSsJTUs",
        "colab": {
          "base_uri": "https://localhost:8080/"
        },
        "outputId": "ce7d432b-fcb4-4c2a-9f63-4a66d27cbf11"
      },
      "outputs": [
        {
          "output_type": "stream",
          "name": "stdout",
          "text": [
            "Evaluation \t Proposed point \t  Current eval. \t  Best eval. \t        Exact EI: StdDev. x \t Approx EI: StdDev. x \n",
            "init\t [-4.10669995  0.61173511]\t 256.4801849765532\t 5.553508838684786\t    \t    \n",
            "init\t [-6.16958426 -8.64199284]\t 1602.4406672130797\t 5.553508838684786\t    \t    \n",
            "init\t [5.7397092  3.12667044]\t 117.20749172761734\t 5.553508838684786\t    \t    \n",
            "init\t [2.75041792 1.51205788]\t 5.553508838684786\t 5.553508838684786\t    \t    \n",
            "init\t [-9.21874168 -2.84372791]\t 1170.583554210921\t 5.553508838684786\t    \t    \n",
            "1  \t [-8.64042543  9.21575513]\t 178.4868811929342\t 5.553508838684786\t 7.085074212872569\t 7.6924545599563965\n",
            "2  \t [ 4.54825031 -8.71744454]\t 416.8315243674168\t 5.553508838684786\t 5.664941091052504\t 5.899649079769795\n",
            "3  \t [10. 10.]\t 1154.0\t 5.553508838684786\t 6.3849073627563815\t 6.5521896718966355\n",
            "4  \t [-0.05385845  7.96254756]\t 86.84889828641981\t 5.553508838684786\t 6.2050917018505976\t 6.893206545561586\n",
            "5  \t [ 9.06636127 -2.74323799]\t 119.63857371103694\t 5.553508838684786\t 5.069914618234281\t 5.400891266097706\n",
            "6  \t [-0.74976725 -4.11551796]\t 368.06540851126334\t 5.553508838684786\t 5.274294548361058\t 6.883605180145894\n",
            "7  \t [-8.83907727  3.98196103]\t 411.5657209486546\t 5.553508838684786\t 5.361263951945476\t 6.6300151802308545\n",
            "8  \t [5.45096118 8.92076449]\t 485.1572810390528\t 5.553508838684786\t 6.157123819233394\t 6.656585615855587\n",
            "9  \t [ -0.53032123 -10.        ]\t 1015.8628235478882\t 5.553508838684786\t 6.020841795037691\t 6.847261133927125\n",
            "10 \t [-1.40662711  4.05087953]\t 14.248407832524794\t 5.553508838684786\t 5.125209899207431\t 5.450685400391918\n",
            "11 \t [-5.34307141  5.91978222]\t 95.63531874971927\t 5.553508838684786\t 5.9383930999541334\t 7.1082979462508264\n",
            "12 \t [-4.98118541 -4.41977796]\t 809.170960673189\t 5.553508838684786\t 5.9932792687681875\t 7.0379053866009995\n",
            "13 \t [ 4.56840144 -3.36532309]\t 84.54190996834858\t 5.553508838684786\t 6.674991646359801\t 7.3832260009539645\n",
            "14 \t [10.          2.31768304]\t 358.20096091651453\t 5.553508838684786\t 5.805717586019817\t 7.340760539481614\n",
            "15 \t [-10. -10.]\t 2594.0\t 5.553508838684786\t 5.854276522519205\t 7.037852501501554\n",
            "16 \t [-0.09584239 -0.01907804]\t 78.0459833923089\t 5.553508838684786\t 4.592994788425001\t 6.414742061633077\n",
            "17 \t [ 5.51120899 -0.41001411]\t 36.829723476699115\t 5.553508838684786\t 5.165473172907835\t 6.53137798163934\n",
            "18 \t [ 8.83204814 -6.50840664]\t 162.9914860258379\t 5.553508838684786\t 5.8448759744931875\t 7.702163176758957\n",
            "19 \t [-3.86213355  9.50725056]\t 76.81029243769201\t 5.553508838684786\t 5.324315815077068\t 5.790361958482664\n",
            "20 \t [-0.70309283 -8.72086198]\t 861.0893815619343\t 5.553508838684786\t 5.907066535933258\t 5.838788051905537\n"
          ]
        }
      ],
      "source": [
        "### EXACT STP EI GRADIENTS\n",
        "\n",
        "np.random.seed(run_num_17)\n",
        "surrogate_exact_17 = dtStudentProcess(cov_func, optimize=opt, nu = df)\n",
        "\n",
        "exact_17 = dGPGO(surrogate_exact_17, Acquisition_grad(util), objfunc, param)\n",
        "exact_17.run(init_evals=n_init, max_iter=iters)\n"
      ]
    },
    {
      "cell_type": "code",
      "execution_count": 51,
      "metadata": {
        "id": "eVEhyZ9BQS-1",
        "colab": {
          "base_uri": "https://localhost:8080/"
        },
        "outputId": "9251d846-9a14-4ad2-de8a-cf47731556b4"
      },
      "outputs": [
        {
          "output_type": "stream",
          "name": "stdout",
          "text": [
            "Evaluation \t Proposed point \t  Current eval. \t  Best eval. \t        Exact EI: StdDev. x \t Approx EI: StdDev. x \n",
            "init\t [3.00748483 0.10906747]\t 15.509405515253864\t 15.509405515253864\t    \t    \n",
            "init\t [ 7.57202942 -6.36319549]\t 162.0234327224751\t 15.509405515253864\t    \t    \n",
            "init\t [7.04466137 5.00272572]\t 299.59059770472754\t 15.509405515253864\t    \t    \n",
            "init\t [3.32203335 9.75790897]\t 380.8425822546991\t 15.509405515253864\t    \t    \n",
            "init\t [-4.86063155 -9.43388149]\t 1527.7052410059514\t 15.509405515253864\t    \t    \n",
            "1  \t [-6.1664519   4.28513481]\t 191.3691670751314\t 15.509405515253864\t 7.169218051048424\t 7.4765549086243475\n",
            "2  \t [-6.07110106 -2.27098711]\t 687.0923366704285\t 15.509405515253864\t 6.0245994206096665\t 6.433527240717701\n",
            "3  \t [6.31975365 3.18761398]\t 149.65937068607042\t 15.509405515253864\t 5.359806725699657\t 5.359806725699657\n",
            "4  \t [  2.38134675 -10.        ]\t 710.8805324255294\t 15.509405515253864\t 6.743660369346146\t 6.90368218104326\n",
            "5  \t [10. 10.]\t 1154.0\t 15.509405515253864\t 6.660471804510902\t 7.083114454589216\n",
            "6  \t [-1.75469227  7.39322001]\t 37.62780405202233\t 15.509405515253864\t 5.997222399216723\t 6.300941824759037\n",
            "7  \t [ 0.43087656 -4.08873317]\t 285.14511096945193\t 15.509405515253864\t 5.570413507742974\t 6.302443865849413\n",
            "8  \t [-10.          -6.22123555]\t 1841.6246532275254\t 15.509405515253864\t 6.371574121585272\t 7.767791663887723\n",
            "9  \t [ 9.3119257  -1.84369375]\t 140.66400923927398\t 15.509405515253864\t 5.946424200610456\t 7.608089062092325\n",
            "10 \t [-9.69289674  8.4893621 ]\t 252.77822825688602\t 15.509405515253864\t 6.281244136975152\t 7.582511639491507\n",
            "11 \t [-1.82012595  2.48640284]\t 52.671731426823335\t 15.509405515253864\t 5.924229302995367\t 6.880100574875691\n",
            "\u001b[1m\u001b[92m12\u001b[0m\t \u001b[1m\u001b[92m[1.81396966 3.58044252]\u001b[0m\t \u001b[1m\u001b[92m8.777001433900303\u001b[0m\t \u001b[1m\u001b[92m8.777001433900303\u001b[0m\t \u001b[1m\u001b[92m6.957724389219142\u001b[0m\t \u001b[1m\u001b[92m7.601231428986206\u001b[0m\n",
            "13 \t [-5.64620854  9.66223371]\t 88.55847310009014\t 8.777001433900303\t 6.3519270101749745\t 7.408658022355721\n",
            "14 \t [-3.37860181 -5.49240135]\t 753.943924274052\t 8.777001433900303\t 4.6095931917376785\t 5.900048377469175\n",
            "15 \t [-10.           3.63287276]\t 551.3098368678089\t 8.777001433900303\t 5.306907806850489\t 6.1207424215556125\n",
            "16 \t [-2.50941091 -1.04892457]\t 257.22349565515646\t 8.777001433900303\t 5.281241695812383\t 6.666265724999085\n",
            "17 \t [ 4.66216672 -3.32473936]\t 81.77096514035668\t 8.777001433900303\t 6.587063417514047\t 7.962891322900045\n",
            "18 \t [10.          2.30404698]\t 357.31313555156964\t 8.777001433900303\t 5.9716279206488565\t 6.076693895736553\n",
            "19 \t [ 6.21766792 -9.86144235]\t 426.34990801682915\t 8.777001433900303\t 6.668526292296607\t 7.960982959855352\n",
            "20 \t [ 1.74286889 -5.14737398]\t 286.23833984861335\t 8.777001433900303\t 5.743977073112067\t 5.799517769906874\n"
          ]
        }
      ],
      "source": [
        "### EXACT STP EI GRADIENTS\n",
        "\n",
        "np.random.seed(run_num_18)\n",
        "surrogate_exact_18 = dtStudentProcess(cov_func, optimize=opt, nu = df)\n",
        "\n",
        "exact_18 = dGPGO(surrogate_exact_18, Acquisition_grad(util), objfunc, param)\n",
        "exact_18.run(init_evals=n_init, max_iter=iters)\n"
      ]
    },
    {
      "cell_type": "code",
      "execution_count": 52,
      "metadata": {
        "id": "B6gTz1ojQUxn",
        "colab": {
          "base_uri": "https://localhost:8080/"
        },
        "outputId": "a7c6392a-9b4a-45af-8578-0cd18a8a8a3d"
      },
      "outputs": [
        {
          "output_type": "stream",
          "name": "stdout",
          "text": [
            "Evaluation \t Proposed point \t  Current eval. \t  Best eval. \t        Exact EI: StdDev. x \t Approx EI: StdDev. x \n",
            "init\t [-8.04932797  5.22499433]\t 273.1270544592675\t 139.9227861892117\t    \t    \n",
            "init\t [-5.06124054 -7.23736625]\t 1204.1206373978957\t 139.9227861892117\t    \t    \n",
            "init\t [-3.37106873 -8.3400087 ]\t 1135.0538557997047\t 139.9227861892117\t    \t    \n",
            "init\t [3.43954163 6.13187596]\t 139.9227861892117\t 139.9227861892117\t    \t    \n",
            "init\t [9.65483829 2.7132147 ]\t 355.08571481298065\t 139.9227861892117\t    \t    \n",
            "\u001b[1m\u001b[92m1\u001b[0m\t \u001b[1m\u001b[92m[ 5.00312297 -4.26339021]\u001b[0m\t \u001b[1m\u001b[92m111.29920078806582\u001b[0m\t \u001b[1m\u001b[92m111.29920078806582\u001b[0m\t \u001b[1m\u001b[92m6.7907842952492095\u001b[0m\t \u001b[1m\u001b[92m7.333945307280279\u001b[0m\n",
            "2  \t [10. 10.]\t 1154.0\t 111.29920078806582\t 6.708200889523184\t 7.331463282094028\n",
            "3  \t [-9.01350225 -1.64234187]\t 980.9966331589392\t 111.29920078806582\t 5.622763460352984\t 5.952855831000739\n",
            "\u001b[1m\u001b[92m4\u001b[0m\t \u001b[1m\u001b[92m[-0.41300975 -0.01609316]\u001b[0m\t \u001b[1m\u001b[92m89.56122502202982\u001b[0m\t \u001b[1m\u001b[92m89.56122502202982\u001b[0m\t \u001b[1m\u001b[92m6.131961799086293\u001b[0m\t \u001b[1m\u001b[92m6.545201260957519\u001b[0m\n",
            "\u001b[1m\u001b[92m5\u001b[0m\t \u001b[1m\u001b[92m[-2.69333527  7.93798122]\u001b[0m\t \u001b[1m\u001b[92m44.22095814180932\u001b[0m\t \u001b[1m\u001b[92m44.22095814180932\u001b[0m\t \u001b[1m\u001b[92m5.754793594322569\u001b[0m\t \u001b[1m\u001b[92m7.108845197648403\u001b[0m\n",
            "6  \t [-10. -10.]\t 2594.0\t 44.22095814180932\t 6.228833444026333\t 6.933169000687381\n",
            "7  \t [-4.5669388  1.6400283]\t 224.76868686474103\t 44.22095814180932\t 5.571573042433308\t 6.524987432585141\n",
            "8  \t [ 5.27679274 -9.02270489]\t 402.8330092586917\t 44.22095814180932\t 5.053278929400206\t 6.123599257206032\n",
            "9  \t [-0.00584247 -4.75557678]\t 368.21055900613703\t 44.22095814180932\t 5.613627462253871\t 5.825652477052913\n",
            "10 \t [ 9.65914373 -4.5175604 ]\t 136.70733445592487\t 44.22095814180932\t 6.468885358659454\t 7.3171011047466\n",
            "\u001b[1m\u001b[92m11\u001b[0m\t \u001b[1m\u001b[92m[5.16611381 0.54501265]\u001b[0m\t \u001b[1m\u001b[92m35.0952822228039\u001b[0m\t \u001b[1m\u001b[92m35.0952822228039\u001b[0m\t \u001b[1m\u001b[92m4.876005430423096\u001b[0m\t \u001b[1m\u001b[92m7.663923427096204\u001b[0m\n",
            "12 \t [  0.97706605 -10.        ]\t 847.3877610485015\t 35.0952822228039\t 5.53419606263933\t 6.648070568529384\n",
            "13 \t [-5.85986603  8.79026408]\t 85.161113419994\t 35.0952822228039\t 5.687807448869356\t 7.331167812139184\n",
            "14 \t [-4.44284367 -2.55459274]\t 544.2524785696774\t 35.0952822228039\t 5.133774225272554\t 6.755156631161266\n",
            "15 \t [ 9.04287316 -8.33254334]\t 236.40206659016968\t 35.0952822228039\t 5.645217515579741\t 7.42309352707371\n",
            "\u001b[1m\u001b[92m16\u001b[0m\t \u001b[1m\u001b[92m[-0.57048178  4.2842815 ]\u001b[0m\t \u001b[1m\u001b[92m4.443434394597271\u001b[0m\t \u001b[1m\u001b[92m4.443434394597271\u001b[0m\t \u001b[1m\u001b[92m5.058869231142542\u001b[0m\t \u001b[1m\u001b[92m6.687207519993821\u001b[0m\n",
            "17 \t [2.854674   9.77131848]\t 346.9215541561922\t 4.443434394597271\t 5.618240569767219\t 6.728288725743635\n",
            "18 \t [ 7.71445139 -1.32729648]\t 86.6033864975764\t 4.443434394597271\t 5.711085849164766\t 7.707724799599407\n",
            "19 \t [9.17572749 6.8514031 ]\t 660.283307324958\t 4.443434394597271\t 4.825896569962788\t 5.045702573171055\n",
            "20 \t [-10.          -5.89173327]\t 1782.7871310297348\t 4.443434394597271\t 5.792354082193828\t 6.390777876897281\n"
          ]
        }
      ],
      "source": [
        "### EXACT STP EI GRADIENTS\n",
        "\n",
        "np.random.seed(run_num_19)\n",
        "surrogate_exact_19 = dtStudentProcess(cov_func, optimize=opt, nu = df)\n",
        "\n",
        "exact_19 = dGPGO(surrogate_exact_19, Acquisition_grad(util), objfunc, param)\n",
        "exact_19.run(init_evals=n_init, max_iter=iters)\n"
      ]
    },
    {
      "cell_type": "code",
      "execution_count": 53,
      "metadata": {
        "id": "aw3xvSryIwDi",
        "colab": {
          "base_uri": "https://localhost:8080/"
        },
        "outputId": "ae509fac-e4d5-44fe-fff0-318ab9fbd386"
      },
      "outputs": [
        {
          "output_type": "stream",
          "name": "stdout",
          "text": [
            "Evaluation \t Proposed point \t  Current eval. \t  Best eval. \t        Exact EI: StdDev. x \t Approx EI: StdDev. x \n",
            "init\t [1.76261602 7.95427456]\t 155.85777119682857\t 155.85777119682857\t    \t    \n",
            "init\t [7.83061459 6.31674955]\t 469.53411882784934\t 155.85777119682857\t    \t    \n",
            "init\t [-9.28220829  3.83515164]\t 463.4088031056881\t 155.85777119682857\t    \t    \n",
            "init\t [-2.42638116  0.37021891]\t 165.36424127801376\t 155.85777119682857\t    \t    \n",
            "init\t [ 3.15902931 -6.12299564]\t 281.877765303078\t 155.85777119682857\t    \t    \n",
            "1  \t [ -4.69618652 -10.        ]\t 1599.636101657008\t 155.85777119682857\t 6.059459938369186\t 5.600474507491347\n",
            "2  \t [ 9.25348277 -7.34677508]\t 192.70322330637893\t 155.85777119682857\t 7.677630094858582\t 7.226163615830357\n",
            "\u001b[1m\u001b[92m3\u001b[0m\t \u001b[1m\u001b[92m[-4.56172279  9.14761084]\u001b[0m\t \u001b[1m\u001b[92m70.09893873088411\u001b[0m\t \u001b[1m\u001b[92m70.09893873088411\u001b[0m\t \u001b[1m\u001b[92m5.638365363080539\u001b[0m\t \u001b[1m\u001b[92m6.131153099938437\u001b[0m\n",
            "4  \t [-10.          -5.97631011]\t 1797.7860055663223\t 70.09893873088411\t 6.56050434502064\t 6.9490901332662895\n",
            "\u001b[1m\u001b[92m5\u001b[0m\t \u001b[1m\u001b[92m[ 6.78424965 -0.32406028]\u001b[0m\t \u001b[1m\u001b[92m68.71704765795471\u001b[0m\t \u001b[1m\u001b[92m68.71704765795471\u001b[0m\t \u001b[1m\u001b[92m7.198452737248846\u001b[0m\t \u001b[1m\u001b[92m7.01344940740372\u001b[0m\n",
            "6  \t [-5.23782302 -3.78595775]\t 763.4351209210934\t 68.71704765795471\t 7.148751932868865\t 7.2833628398126145\n",
            "7  \t [-9.09731892  9.9883142 ]\t 189.45602622978356\t 68.71704765795471\t 8.330903618690224\t 7.4544710794883215\n",
            "\u001b[1m\u001b[92m8\u001b[0m\t \u001b[1m\u001b[92m[2.41138125 3.04677452]\u001b[0m\t \u001b[1m\u001b[92m10.499057918459783\u001b[0m\t \u001b[1m\u001b[92m10.499057918459783\u001b[0m\t \u001b[1m\u001b[92m7.6367009211963905\u001b[0m\t \u001b[1m\u001b[92m7.122400714151965\u001b[0m\n",
            "9  \t [-0.04194094 -9.04590134]\t 831.3558417935517\t 10.499057918459783\t 8.168659677551263\t 8.080530921066245\n",
            "10 \t [10. 10.]\t 1154.0\t 10.499057918459783\t 6.357523842921937\t 6.106112718046704\n",
            "11 \t [  5.22598189 -10.        ]\t 494.79249828790233\t 10.499057918459783\t 5.847407011183719\t 7.192396450304383\n",
            "12 \t [-10.          -1.24881103]\t 1069.1573463050763\t 10.499057918459783\t 6.095055326854815\t 7.2490356685809765\n",
            "13 \t [-2.40031784  5.51172137]\t 21.029320452013362\t 10.499057918459783\t 7.134341283526709\t 8.062524536988764\n",
            "14 \t [-10. -10.]\t 2594.0\t 10.499057918459783\t 5.82575728069354\t 6.071121513305995\n",
            "15 \t [ 1.63546653 -0.61311149]\t 48.92387027669607\t 10.499057918459783\t 4.321877993278921\t 5.632447968444973\n",
            "16 \t [4.98767437 9.71687901]\t 519.3678629215435\t 10.499057918459783\t 4.782316836312349\t 6.483369837055667\n",
            "17 \t [-6.23378625  0.81861692]\t 411.6677490372133\t 10.499057918459783\t 5.085920073483187\t 5.757357797100234\n",
            "18 \t [-0.26942582  9.11692846]\t 133.02138293328417\t 10.499057918459783\t 6.0155826980586\t 6.015582872558938\n",
            "19 \t [-1.10507197 -5.07944604]\t 484.6064045388964\t 10.499057918459783\t 5.245708322483116\t 6.09157419707153\n",
            "20 \t [ 3.12894682 -8.39318261]\t 477.6412830540284\t 10.499057918459783\t 4.953937703274392\t 5.37687517403062\n"
          ]
        }
      ],
      "source": [
        "### EXACT STP EI GRADIENTS\n",
        "\n",
        "np.random.seed(run_num_20)\n",
        "surrogate_exact_20 = dtStudentProcess(cov_func, optimize=opt, nu = df)\n",
        "\n",
        "exact_20 = dGPGO(surrogate_exact_20, Acquisition_grad(util), objfunc, param)\n",
        "exact_20.run(init_evals=n_init, max_iter=iters)\n"
      ]
    },
    {
      "cell_type": "code",
      "execution_count": 54,
      "metadata": {
        "id": "5c8szjivRPme",
        "colab": {
          "base_uri": "https://localhost:8080/"
        },
        "outputId": "4e97185f-eff5-4384-bba3-b0880fefebc5"
      },
      "outputs": [
        {
          "output_type": "execute_result",
          "data": {
            "text/plain": [
              "1230.6605639457703"
            ]
          },
          "metadata": {},
          "execution_count": 54
        }
      ],
      "source": [
        "end_exact = time.time()\n",
        "end_exact\n",
        "\n",
        "time_exact = end_exact - start_exact\n",
        "time_exact\n"
      ]
    },
    {
      "cell_type": "code",
      "execution_count": 55,
      "metadata": {
        "id": "f6gCKnp6RR8c",
        "colab": {
          "base_uri": "https://localhost:8080/"
        },
        "outputId": "43dc541f-d0c0-4c10-a84f-d28e7e867f87"
      },
      "outputs": [
        {
          "output_type": "execute_result",
          "data": {
            "text/plain": [
              "(2.4365216367249043, 1.808360927981138)"
            ]
          },
          "metadata": {},
          "execution_count": 55
        }
      ],
      "source": [
        "### Simple regret minimization: run number = 1\n",
        "\n",
        "approx_output_1 = np.append(np.min(-approx_1.GP.y[0:n_init]),-approx_1.GP.y[n_init:(n_init+iters)]) \n",
        "exact_output_1 = np.append(np.min(-exact_1.GP.y[0:n_init]),-exact_1.GP.y[n_init:(n_init+iters)]) \n",
        "\n",
        "regret_approx_1 = np.log(approx_output_1 - y_global_orig)\n",
        "regret_exact_1 = np.log(exact_output_1 - y_global_orig)\n",
        "\n",
        "simple_regret_approx_1 = min_max_array(regret_approx_1)\n",
        "simple_regret_exact_1 = min_max_array(regret_exact_1)\n",
        "\n",
        "min_simple_regret_approx_1 = min(simple_regret_approx_1)\n",
        "min_simple_regret_exact_1 = min(simple_regret_exact_1)\n",
        "\n",
        "min_simple_regret_approx_1, min_simple_regret_exact_1\n"
      ]
    },
    {
      "cell_type": "code",
      "execution_count": 56,
      "metadata": {
        "id": "94yBw5tqQxfk",
        "colab": {
          "base_uri": "https://localhost:8080/"
        },
        "outputId": "b2516810-e788-49ce-a160-7e3d48ac24d0"
      },
      "outputs": [
        {
          "output_type": "execute_result",
          "data": {
            "text/plain": [
              "(2.4471534629650358, 1.698667154802527)"
            ]
          },
          "metadata": {},
          "execution_count": 56
        }
      ],
      "source": [
        "### Simple regret minimization: run number = 2\n",
        "\n",
        "approx_output_2 = np.append(np.min(-approx_2.GP.y[0:n_init]),-approx_2.GP.y[n_init:(n_init+iters)]) \n",
        "exact_output_2 = np.append(np.min(-exact_2.GP.y[0:n_init]),-exact_2.GP.y[n_init:(n_init+iters)]) \n",
        "\n",
        "regret_approx_2 = np.log(approx_output_2 - y_global_orig)\n",
        "regret_exact_2 = np.log(exact_output_2 - y_global_orig)\n",
        "\n",
        "simple_regret_approx_2 = min_max_array(regret_approx_2)\n",
        "simple_regret_exact_2 = min_max_array(regret_exact_2)\n",
        "\n",
        "min_simple_regret_approx_2 = min(simple_regret_approx_2)\n",
        "min_simple_regret_exact_2 = min(simple_regret_exact_2)\n",
        "\n",
        "min_simple_regret_approx_2, min_simple_regret_exact_2\n"
      ]
    },
    {
      "cell_type": "code",
      "execution_count": 57,
      "metadata": {
        "id": "Bu6SBWALQxfl",
        "colab": {
          "base_uri": "https://localhost:8080/"
        },
        "outputId": "89498756-d1d4-4d09-b1cf-55e3bd4df83e"
      },
      "outputs": [
        {
          "output_type": "execute_result",
          "data": {
            "text/plain": [
              "(1.9332706053762703, 1.9332706053762703)"
            ]
          },
          "metadata": {},
          "execution_count": 57
        }
      ],
      "source": [
        "### Simple regret minimization: run number = 3\n",
        "\n",
        "approx_output_3 = np.append(np.min(-approx_3.GP.y[0:n_init]),-approx_3.GP.y[n_init:(n_init+iters)]) \n",
        "exact_output_3 = np.append(np.min(-exact_3.GP.y[0:n_init]),-exact_3.GP.y[n_init:(n_init+iters)]) \n",
        "\n",
        "regret_approx_3 = np.log(approx_output_3 - y_global_orig)\n",
        "regret_exact_3 = np.log(exact_output_3 - y_global_orig)\n",
        "\n",
        "simple_regret_approx_3 = min_max_array(regret_approx_3)\n",
        "simple_regret_exact_3 = min_max_array(regret_exact_3)\n",
        "\n",
        "min_simple_regret_approx_3 = min(simple_regret_approx_3)\n",
        "min_simple_regret_exact_3 = min(simple_regret_exact_3)\n",
        "\n",
        "min_simple_regret_approx_3, min_simple_regret_exact_3"
      ]
    },
    {
      "cell_type": "code",
      "execution_count": 58,
      "metadata": {
        "id": "AZm0jgxkQxfm",
        "colab": {
          "base_uri": "https://localhost:8080/"
        },
        "outputId": "0e3e62fa-5ef9-4823-e06c-ee29c12f8e68"
      },
      "outputs": [
        {
          "output_type": "execute_result",
          "data": {
            "text/plain": [
              "(3.2457144503577857, 2.2774836270952954)"
            ]
          },
          "metadata": {},
          "execution_count": 58
        }
      ],
      "source": [
        "### Simple regret minimization: run number = 4\n",
        "\n",
        "approx_output_4 = np.append(np.min(-approx_4.GP.y[0:n_init]),-approx_4.GP.y[n_init:(n_init+iters)]) \n",
        "exact_output_4 = np.append(np.min(-exact_4.GP.y[0:n_init]),-exact_4.GP.y[n_init:(n_init+iters)]) \n",
        "\n",
        "regret_approx_4 = np.log(approx_output_4 - y_global_orig)\n",
        "regret_exact_4 = np.log(exact_output_4 - y_global_orig)\n",
        "\n",
        "simple_regret_approx_4 = min_max_array(regret_approx_4)\n",
        "simple_regret_exact_4 = min_max_array(regret_exact_4)\n",
        "\n",
        "min_simple_regret_approx_4 = min(simple_regret_approx_4)\n",
        "min_simple_regret_exact_4 = min(simple_regret_exact_4)\n",
        "\n",
        "min_simple_regret_approx_4, min_simple_regret_exact_4"
      ]
    },
    {
      "cell_type": "code",
      "execution_count": 59,
      "metadata": {
        "id": "NONPm8JIQxfn",
        "colab": {
          "base_uri": "https://localhost:8080/"
        },
        "outputId": "c69e1615-e4a8-4abb-b000-34ff78c07104"
      },
      "outputs": [
        {
          "output_type": "execute_result",
          "data": {
            "text/plain": [
              "(2.782629692415735, 2.893317825029239)"
            ]
          },
          "metadata": {},
          "execution_count": 59
        }
      ],
      "source": [
        "### Simple regret minimization: run number = 5\n",
        "\n",
        "approx_output_5 = np.append(np.min(-approx_5.GP.y[0:n_init]),-approx_5.GP.y[n_init:(n_init+iters)]) \n",
        "exact_output_5 = np.append(np.min(-exact_5.GP.y[0:n_init]),-exact_5.GP.y[n_init:(n_init+iters)]) \n",
        "\n",
        "regret_approx_5 = np.log(approx_output_5 - y_global_orig)\n",
        "regret_exact_5 = np.log(exact_output_5 - y_global_orig)\n",
        "\n",
        "simple_regret_approx_5 = min_max_array(regret_approx_5)\n",
        "simple_regret_exact_5 = min_max_array(regret_exact_5)\n",
        "\n",
        "min_simple_regret_approx_5 = min(simple_regret_approx_5)\n",
        "min_simple_regret_exact_5 = min(simple_regret_exact_5)\n",
        "\n",
        "min_simple_regret_approx_5, min_simple_regret_exact_5"
      ]
    },
    {
      "cell_type": "code",
      "execution_count": 60,
      "metadata": {
        "id": "CJv3lPuSQxfp",
        "colab": {
          "base_uri": "https://localhost:8080/"
        },
        "outputId": "82d21b26-64fc-4c53-9ec4-be72a52ed7fb"
      },
      "outputs": [
        {
          "output_type": "execute_result",
          "data": {
            "text/plain": [
              "(2.293147547405968, 2.293147547405968)"
            ]
          },
          "metadata": {},
          "execution_count": 60
        }
      ],
      "source": [
        "### Simple regret minimization: run number = 6\n",
        "\n",
        "approx_output_6 = np.append(np.min(-approx_6.GP.y[0:n_init]),-approx_6.GP.y[n_init:(n_init+iters)]) \n",
        "exact_output_6 = np.append(np.min(-exact_6.GP.y[0:n_init]),-exact_6.GP.y[n_init:(n_init+iters)]) \n",
        "\n",
        "regret_approx_6 = np.log(approx_output_6 - y_global_orig)\n",
        "regret_exact_6 = np.log(exact_output_6 - y_global_orig)\n",
        "\n",
        "simple_regret_approx_6 = min_max_array(regret_approx_6)\n",
        "simple_regret_exact_6 = min_max_array(regret_exact_6)\n",
        "\n",
        "min_simple_regret_approx_6 = min(simple_regret_approx_6)\n",
        "min_simple_regret_exact_6 = min(simple_regret_exact_6)\n",
        "\n",
        "min_simple_regret_approx_6, min_simple_regret_exact_6"
      ]
    },
    {
      "cell_type": "code",
      "execution_count": 61,
      "metadata": {
        "id": "quR2ZyApQxfq",
        "colab": {
          "base_uri": "https://localhost:8080/"
        },
        "outputId": "b7dc6f22-69e5-45b1-d8ea-1ea2e60f05b3"
      },
      "outputs": [
        {
          "output_type": "execute_result",
          "data": {
            "text/plain": [
              "(2.2476588772086465, 2.2476588772086465)"
            ]
          },
          "metadata": {},
          "execution_count": 61
        }
      ],
      "source": [
        "### Simple regret minimization: run number = 7\n",
        "\n",
        "approx_output_7 = np.append(np.min(-approx_7.GP.y[0:n_init]),-approx_7.GP.y[n_init:(n_init+iters)]) \n",
        "exact_output_7 = np.append(np.min(-exact_7.GP.y[0:n_init]),-exact_7.GP.y[n_init:(n_init+iters)]) \n",
        "\n",
        "regret_approx_7 = np.log(approx_output_7 - y_global_orig)\n",
        "regret_exact_7 = np.log(exact_output_7 - y_global_orig)\n",
        "\n",
        "simple_regret_approx_7 = min_max_array(regret_approx_7)\n",
        "simple_regret_exact_7 = min_max_array(regret_exact_7)\n",
        "\n",
        "min_simple_regret_approx_7 = min(simple_regret_approx_7)\n",
        "min_simple_regret_exact_7 = min(simple_regret_exact_7)\n",
        "\n",
        "min_simple_regret_approx_7, min_simple_regret_exact_7"
      ]
    },
    {
      "cell_type": "code",
      "execution_count": 62,
      "metadata": {
        "id": "99wY5nK6Qxfr",
        "colab": {
          "base_uri": "https://localhost:8080/"
        },
        "outputId": "7eea9b66-6b9f-4f3e-9859-1ebf0d561796"
      },
      "outputs": [
        {
          "output_type": "execute_result",
          "data": {
            "text/plain": [
              "(2.3468069433958085, -0.1602694966305207)"
            ]
          },
          "metadata": {},
          "execution_count": 62
        }
      ],
      "source": [
        "### Simple regret minimization: run number = 8\n",
        "\n",
        "approx_output_8 = np.append(np.min(-approx_8.GP.y[0:n_init]),-approx_8.GP.y[n_init:(n_init+iters)]) \n",
        "exact_output_8 = np.append(np.min(-exact_8.GP.y[0:n_init]),-exact_8.GP.y[n_init:(n_init+iters)]) \n",
        "\n",
        "regret_approx_8 = np.log(approx_output_8 - y_global_orig)\n",
        "regret_exact_8 = np.log(exact_output_8 - y_global_orig)\n",
        "\n",
        "simple_regret_approx_8 = min_max_array(regret_approx_8)\n",
        "simple_regret_exact_8 = min_max_array(regret_exact_8)\n",
        "\n",
        "min_simple_regret_approx_8 = min(simple_regret_approx_8)\n",
        "min_simple_regret_exact_8 = min(simple_regret_exact_8)\n",
        "\n",
        "min_simple_regret_approx_8, min_simple_regret_exact_8"
      ]
    },
    {
      "cell_type": "code",
      "execution_count": 63,
      "metadata": {
        "id": "qt0P5t9qQxfs",
        "colab": {
          "base_uri": "https://localhost:8080/"
        },
        "outputId": "fa523d85-b12d-4497-c135-e5474e6fb396"
      },
      "outputs": [
        {
          "output_type": "execute_result",
          "data": {
            "text/plain": [
              "(3.4150328676025414, 3.4150328676025414)"
            ]
          },
          "metadata": {},
          "execution_count": 63
        }
      ],
      "source": [
        "### Simple regret minimization: run number = 9\n",
        "\n",
        "approx_output_9 = np.append(np.min(-approx_9.GP.y[0:n_init]),-approx_9.GP.y[n_init:(n_init+iters)]) \n",
        "exact_output_9 = np.append(np.min(-exact_9.GP.y[0:n_init]),-exact_9.GP.y[n_init:(n_init+iters)]) \n",
        "\n",
        "regret_approx_9 = np.log(approx_output_9 - y_global_orig)\n",
        "regret_exact_9 = np.log(exact_output_9 - y_global_orig)\n",
        "\n",
        "simple_regret_approx_9 = min_max_array(regret_approx_9)\n",
        "simple_regret_exact_9 = min_max_array(regret_exact_9)\n",
        "\n",
        "min_simple_regret_approx_9 = min(simple_regret_approx_9)\n",
        "min_simple_regret_exact_9 = min(simple_regret_exact_9)\n",
        "\n",
        "min_simple_regret_approx_9, min_simple_regret_exact_9"
      ]
    },
    {
      "cell_type": "code",
      "execution_count": 64,
      "metadata": {
        "id": "vx8to9stQxft",
        "colab": {
          "base_uri": "https://localhost:8080/"
        },
        "outputId": "3099d9ee-d720-4b2e-9d13-44c8cd6bd3fb"
      },
      "outputs": [
        {
          "output_type": "execute_result",
          "data": {
            "text/plain": [
              "(2.9537762825348794, 2.4022453335677976)"
            ]
          },
          "metadata": {},
          "execution_count": 64
        }
      ],
      "source": [
        "### Simple regret minimization: run number = 10\n",
        "\n",
        "approx_output_10 = np.append(np.min(-approx_10.GP.y[0:n_init]),-approx_10.GP.y[n_init:(n_init+iters)]) \n",
        "exact_output_10 = np.append(np.min(-exact_10.GP.y[0:n_init]),-exact_10.GP.y[n_init:(n_init+iters)]) \n",
        "\n",
        "regret_approx_10 = np.log(approx_output_10 - y_global_orig)\n",
        "regret_exact_10 = np.log(exact_output_10 - y_global_orig)\n",
        "\n",
        "simple_regret_approx_10 = min_max_array(regret_approx_10)\n",
        "simple_regret_exact_10 = min_max_array(regret_exact_10)\n",
        "\n",
        "min_simple_regret_approx_10 = min(simple_regret_approx_10)\n",
        "min_simple_regret_exact_10 = min(simple_regret_exact_10)\n",
        "\n",
        "min_simple_regret_approx_10, min_simple_regret_exact_10"
      ]
    },
    {
      "cell_type": "code",
      "execution_count": 65,
      "metadata": {
        "id": "d-FGzWyHQxfu",
        "colab": {
          "base_uri": "https://localhost:8080/"
        },
        "outputId": "edbaaff2-045e-4e71-b730-cb3e37582957"
      },
      "outputs": [
        {
          "output_type": "execute_result",
          "data": {
            "text/plain": [
              "(0.9413427144497148, 1.7016578760315788)"
            ]
          },
          "metadata": {},
          "execution_count": 65
        }
      ],
      "source": [
        "### Simple regret minimization: run number = 11\n",
        "\n",
        "approx_output_11 = np.append(np.min(-approx_11.GP.y[0:n_init]),-approx_11.GP.y[n_init:(n_init+iters)]) \n",
        "exact_output_11 = np.append(np.min(-exact_11.GP.y[0:n_init]),-exact_11.GP.y[n_init:(n_init+iters)]) \n",
        "\n",
        "regret_approx_11 = np.log(approx_output_11 - y_global_orig)\n",
        "regret_exact_11 = np.log(exact_output_11 - y_global_orig)\n",
        "\n",
        "simple_regret_approx_11 = min_max_array(regret_approx_11)\n",
        "simple_regret_exact_11 = min_max_array(regret_exact_11)\n",
        "\n",
        "min_simple_regret_approx_11 = min(simple_regret_approx_11)\n",
        "min_simple_regret_exact_11 = min(simple_regret_exact_11)\n",
        "\n",
        "min_simple_regret_approx_11, min_simple_regret_exact_11"
      ]
    },
    {
      "cell_type": "code",
      "execution_count": 66,
      "metadata": {
        "id": "SvtsssyjQxfv",
        "colab": {
          "base_uri": "https://localhost:8080/"
        },
        "outputId": "86d01bd6-aa0a-47c1-e5a9-94e29213f9b4"
      },
      "outputs": [
        {
          "output_type": "execute_result",
          "data": {
            "text/plain": [
              "(1.9205295680612, 2.8259260257369534)"
            ]
          },
          "metadata": {},
          "execution_count": 66
        }
      ],
      "source": [
        "### Simple regret minimization: run number = 12\n",
        "\n",
        "approx_output_12 = np.append(np.min(-approx_12.GP.y[0:n_init]),-approx_12.GP.y[n_init:(n_init+iters)]) \n",
        "exact_output_12 = np.append(np.min(-exact_12.GP.y[0:n_init]),-exact_12.GP.y[n_init:(n_init+iters)]) \n",
        "\n",
        "regret_approx_12 = np.log(approx_output_12 - y_global_orig)\n",
        "regret_exact_12 = np.log(exact_output_12 - y_global_orig)\n",
        "\n",
        "simple_regret_approx_12 = min_max_array(regret_approx_12)\n",
        "simple_regret_exact_12 = min_max_array(regret_exact_12)\n",
        "\n",
        "min_simple_regret_approx_12 = min(simple_regret_approx_12)\n",
        "min_simple_regret_exact_12 = min(simple_regret_exact_12)\n",
        "\n",
        "min_simple_regret_approx_12, min_simple_regret_exact_12"
      ]
    },
    {
      "cell_type": "code",
      "execution_count": 67,
      "metadata": {
        "id": "K6OiGcHkQxfw",
        "colab": {
          "base_uri": "https://localhost:8080/"
        },
        "outputId": "4c254d9a-0bdd-4503-d3c3-3d5709307139"
      },
      "outputs": [
        {
          "output_type": "execute_result",
          "data": {
            "text/plain": [
              "(3.154713336049919, 3.066803521330431)"
            ]
          },
          "metadata": {},
          "execution_count": 67
        }
      ],
      "source": [
        "### Simple regret minimization: run number = 13\n",
        "\n",
        "approx_output_13 = np.append(np.min(-approx_13.GP.y[0:n_init]),-approx_13.GP.y[n_init:(n_init+iters)]) \n",
        "exact_output_13 = np.append(np.min(-exact_13.GP.y[0:n_init]),-exact_13.GP.y[n_init:(n_init+iters)]) \n",
        "\n",
        "regret_approx_13 = np.log(approx_output_13 - y_global_orig)\n",
        "regret_exact_13 = np.log(exact_output_13 - y_global_orig)\n",
        "\n",
        "simple_regret_approx_13 = min_max_array(regret_approx_13)\n",
        "simple_regret_exact_13 = min_max_array(regret_exact_13)\n",
        "\n",
        "min_simple_regret_approx_13 = min(simple_regret_approx_13)\n",
        "min_simple_regret_exact_13 = min(simple_regret_exact_13)\n",
        "\n",
        "min_simple_regret_approx_13, min_simple_regret_exact_13"
      ]
    },
    {
      "cell_type": "code",
      "execution_count": 68,
      "metadata": {
        "id": "ogML73shQxfx",
        "colab": {
          "base_uri": "https://localhost:8080/"
        },
        "outputId": "1bb23d3f-04bb-4e2f-cea6-1da224ba126a"
      },
      "outputs": [
        {
          "output_type": "execute_result",
          "data": {
            "text/plain": [
              "(2.9300454245107113, 2.9300454245107113)"
            ]
          },
          "metadata": {},
          "execution_count": 68
        }
      ],
      "source": [
        "### Simple regret minimization: run number = 14\n",
        "\n",
        "approx_output_14 = np.append(np.min(-approx_14.GP.y[0:n_init]),-approx_14.GP.y[n_init:(n_init+iters)]) \n",
        "exact_output_14 = np.append(np.min(-exact_14.GP.y[0:n_init]),-exact_14.GP.y[n_init:(n_init+iters)]) \n",
        "\n",
        "regret_approx_14 = np.log(approx_output_14 - y_global_orig)\n",
        "regret_exact_14 = np.log(exact_output_14 - y_global_orig)\n",
        "\n",
        "simple_regret_approx_14 = min_max_array(regret_approx_14)\n",
        "simple_regret_exact_14 = min_max_array(regret_exact_14)\n",
        "\n",
        "min_simple_regret_approx_14 = min(simple_regret_approx_14)\n",
        "min_simple_regret_exact_14 = min(simple_regret_exact_14)\n",
        "\n",
        "min_simple_regret_approx_14, min_simple_regret_exact_14"
      ]
    },
    {
      "cell_type": "code",
      "execution_count": 69,
      "metadata": {
        "id": "9Eg7gFT9Qxfx",
        "colab": {
          "base_uri": "https://localhost:8080/"
        },
        "outputId": "fb66f1d7-0c2c-4beb-cd52-8c522584fb3c"
      },
      "outputs": [
        {
          "output_type": "execute_result",
          "data": {
            "text/plain": [
              "(0.12844684679490292, 2.1450526621798627)"
            ]
          },
          "metadata": {},
          "execution_count": 69
        }
      ],
      "source": [
        "### Simple regret minimization: run number = 15\n",
        "\n",
        "approx_output_15 = np.append(np.min(-approx_15.GP.y[0:n_init]),-approx_15.GP.y[n_init:(n_init+iters)]) \n",
        "exact_output_15 = np.append(np.min(-exact_15.GP.y[0:n_init]),-exact_15.GP.y[n_init:(n_init+iters)]) \n",
        "\n",
        "regret_approx_15 = np.log(approx_output_15 - y_global_orig)\n",
        "regret_exact_15 = np.log(exact_output_15 - y_global_orig)\n",
        "\n",
        "simple_regret_approx_15 = min_max_array(regret_approx_15)\n",
        "simple_regret_exact_15 = min_max_array(regret_exact_15)\n",
        "\n",
        "min_simple_regret_approx_15 = min(simple_regret_approx_15)\n",
        "min_simple_regret_exact_15 = min(simple_regret_exact_15)\n",
        "\n",
        "min_simple_regret_approx_15, min_simple_regret_exact_15"
      ]
    },
    {
      "cell_type": "code",
      "execution_count": 70,
      "metadata": {
        "id": "lIAC1U7ZQxfy",
        "colab": {
          "base_uri": "https://localhost:8080/"
        },
        "outputId": "0869e03f-7370-4019-ba61-5d54228a0d04"
      },
      "outputs": [
        {
          "output_type": "execute_result",
          "data": {
            "text/plain": [
              "(2.9358849537812044, 0.6729378992144497)"
            ]
          },
          "metadata": {},
          "execution_count": 70
        }
      ],
      "source": [
        "### Simple regret minimization: run number = 16\n",
        "\n",
        "approx_output_16 = np.append(np.min(-approx_16.GP.y[0:n_init]),-approx_16.GP.y[n_init:(n_init+iters)]) \n",
        "exact_output_16 = np.append(np.min(-exact_16.GP.y[0:n_init]),-exact_16.GP.y[n_init:(n_init+iters)]) \n",
        "\n",
        "regret_approx_16 = np.log(approx_output_16 - y_global_orig)\n",
        "regret_exact_16 = np.log(exact_output_16 - y_global_orig)\n",
        "\n",
        "simple_regret_approx_16 = min_max_array(regret_approx_16)\n",
        "simple_regret_exact_16 = min_max_array(regret_exact_16)\n",
        "\n",
        "min_simple_regret_approx_16 = min(simple_regret_approx_16)\n",
        "min_simple_regret_exact_16 = min(simple_regret_exact_16)\n",
        "\n",
        "min_simple_regret_approx_16, min_simple_regret_exact_16"
      ]
    },
    {
      "cell_type": "code",
      "execution_count": 71,
      "metadata": {
        "id": "bGott36OQxfz",
        "colab": {
          "base_uri": "https://localhost:8080/"
        },
        "outputId": "71bac1f5-63c9-4e31-c40a-bcef66b56c9c"
      },
      "outputs": [
        {
          "output_type": "execute_result",
          "data": {
            "text/plain": [
              "(1.714429951175907, 1.714429951175907)"
            ]
          },
          "metadata": {},
          "execution_count": 71
        }
      ],
      "source": [
        "### Simple regret minimization: run number = 17\n",
        "\n",
        "approx_output_17 = np.append(np.min(-approx_17.GP.y[0:n_init]),-approx_17.GP.y[n_init:(n_init+iters)]) \n",
        "exact_output_17 = np.append(np.min(-exact_17.GP.y[0:n_init]),-exact_17.GP.y[n_init:(n_init+iters)]) \n",
        "\n",
        "regret_approx_17 = np.log(approx_output_17 - y_global_orig)\n",
        "regret_exact_17 = np.log(exact_output_17 - y_global_orig)\n",
        "\n",
        "simple_regret_approx_17 = min_max_array(regret_approx_17)\n",
        "simple_regret_exact_17 = min_max_array(regret_exact_17)\n",
        "\n",
        "min_simple_regret_approx_17 = min(simple_regret_approx_17)\n",
        "min_simple_regret_exact_17 = min(simple_regret_exact_17)\n",
        "\n",
        "min_simple_regret_approx_17, min_simple_regret_exact_17"
      ]
    },
    {
      "cell_type": "code",
      "execution_count": 72,
      "metadata": {
        "id": "Cz9ZYMBMQxfz",
        "colab": {
          "base_uri": "https://localhost:8080/"
        },
        "outputId": "7ffa2e6b-2ff2-4ba2-dffe-8a3b266598cc"
      },
      "outputs": [
        {
          "output_type": "execute_result",
          "data": {
            "text/plain": [
              "(1.7651316514858926, 2.172134826980174)"
            ]
          },
          "metadata": {},
          "execution_count": 72
        }
      ],
      "source": [
        "### Simple regret minimization: run number = 18\n",
        "\n",
        "approx_output_18 = np.append(np.min(-approx_18.GP.y[0:n_init]),-approx_18.GP.y[n_init:(n_init+iters)]) \n",
        "exact_output_18 = np.append(np.min(-exact_18.GP.y[0:n_init]),-exact_18.GP.y[n_init:(n_init+iters)]) \n",
        "\n",
        "regret_approx_18 = np.log(approx_output_18 - y_global_orig)\n",
        "regret_exact_18 = np.log(exact_output_18 - y_global_orig)\n",
        "\n",
        "simple_regret_approx_18 = min_max_array(regret_approx_18)\n",
        "simple_regret_exact_18 = min_max_array(regret_exact_18)\n",
        "\n",
        "min_simple_regret_approx_18 = min(simple_regret_approx_18)\n",
        "min_simple_regret_exact_18 = min(simple_regret_exact_18)\n",
        "\n",
        "min_simple_regret_approx_18, min_simple_regret_exact_18"
      ]
    },
    {
      "cell_type": "code",
      "execution_count": 73,
      "metadata": {
        "id": "OBfpWOHNQxf0",
        "colab": {
          "base_uri": "https://localhost:8080/"
        },
        "outputId": "139bb050-a5ff-469e-d448-62ab67f6e964"
      },
      "outputs": [
        {
          "output_type": "execute_result",
          "data": {
            "text/plain": [
              "(2.9540425623069453, 1.4914275897343596)"
            ]
          },
          "metadata": {},
          "execution_count": 73
        }
      ],
      "source": [
        "### Simple regret minimization: run number = 19\n",
        "\n",
        "approx_output_19 = np.append(np.min(-approx_19.GP.y[0:n_init]),-approx_19.GP.y[n_init:(n_init+iters)]) \n",
        "exact_output_19 = np.append(np.min(-exact_19.GP.y[0:n_init]),-exact_19.GP.y[n_init:(n_init+iters)]) \n",
        "\n",
        "regret_approx_19 = np.log(approx_output_19 - y_global_orig)\n",
        "regret_exact_19 = np.log(exact_output_19 - y_global_orig)\n",
        "\n",
        "simple_regret_approx_19 = min_max_array(regret_approx_19)\n",
        "simple_regret_exact_19 = min_max_array(regret_exact_19)\n",
        "\n",
        "min_simple_regret_approx_19 = min(simple_regret_approx_19)\n",
        "min_simple_regret_exact_19 = min(simple_regret_exact_19)\n",
        "\n",
        "min_simple_regret_approx_19, min_simple_regret_exact_19"
      ]
    },
    {
      "cell_type": "code",
      "execution_count": 74,
      "metadata": {
        "id": "BE1AJ7NsQxf0",
        "colab": {
          "base_uri": "https://localhost:8080/"
        },
        "outputId": "64e48e94-e7d0-4864-e647-dde2dae12b6d"
      },
      "outputs": [
        {
          "output_type": "execute_result",
          "data": {
            "text/plain": [
              "(0.8393021914325659, 2.3512855310867646)"
            ]
          },
          "metadata": {},
          "execution_count": 74
        }
      ],
      "source": [
        "### Simple regret minimization: run number = 20\n",
        "\n",
        "approx_output_20 = np.append(np.min(-approx_20.GP.y[0:n_init]),-approx_20.GP.y[n_init:(n_init+iters)]) \n",
        "exact_output_20 = np.append(np.min(-exact_20.GP.y[0:n_init]),-exact_20.GP.y[n_init:(n_init+iters)]) \n",
        "\n",
        "regret_approx_20 = np.log(approx_output_20 - y_global_orig)\n",
        "regret_exact_20 = np.log(exact_output_20 - y_global_orig)\n",
        "\n",
        "simple_regret_approx_20 = min_max_array(regret_approx_20)\n",
        "simple_regret_exact_20 = min_max_array(regret_exact_20)\n",
        "\n",
        "min_simple_regret_approx_20 = min(simple_regret_approx_20)\n",
        "min_simple_regret_exact_20 = min(simple_regret_exact_20)\n",
        "\n",
        "min_simple_regret_approx_20, min_simple_regret_exact_20"
      ]
    },
    {
      "cell_type": "code",
      "execution_count": 75,
      "metadata": {
        "id": "bpX-bKAHQxf1"
      },
      "outputs": [],
      "source": [
        "# Iteration1 :\n",
        "\n",
        "slice1 = 0\n",
        "\n",
        "approx1 = [simple_regret_approx_1[slice1],\n",
        "       simple_regret_approx_2[slice1],\n",
        "       simple_regret_approx_3[slice1],\n",
        "       simple_regret_approx_4[slice1],\n",
        "       simple_regret_approx_5[slice1],\n",
        "       simple_regret_approx_6[slice1],\n",
        "       simple_regret_approx_7[slice1],\n",
        "       simple_regret_approx_8[slice1],\n",
        "       simple_regret_approx_9[slice1],\n",
        "       simple_regret_approx_10[slice1],\n",
        "       simple_regret_approx_11[slice1],\n",
        "       simple_regret_approx_12[slice1],\n",
        "       simple_regret_approx_13[slice1],\n",
        "       simple_regret_approx_14[slice1],\n",
        "       simple_regret_approx_15[slice1],\n",
        "       simple_regret_approx_16[slice1],\n",
        "       simple_regret_approx_17[slice1],\n",
        "       simple_regret_approx_18[slice1],\n",
        "       simple_regret_approx_19[slice1],\n",
        "       simple_regret_approx_20[slice1]]\n",
        "\n",
        "exact1 = [simple_regret_exact_1[slice1],\n",
        "       simple_regret_exact_2[slice1],\n",
        "       simple_regret_exact_3[slice1],\n",
        "       simple_regret_exact_4[slice1],\n",
        "       simple_regret_exact_5[slice1],\n",
        "       simple_regret_exact_6[slice1],\n",
        "       simple_regret_exact_7[slice1],\n",
        "       simple_regret_exact_8[slice1],\n",
        "       simple_regret_exact_9[slice1],\n",
        "       simple_regret_exact_10[slice1],\n",
        "       simple_regret_exact_11[slice1],\n",
        "       simple_regret_exact_12[slice1],\n",
        "       simple_regret_exact_13[slice1],\n",
        "       simple_regret_exact_14[slice1],\n",
        "       simple_regret_exact_15[slice1],\n",
        "       simple_regret_exact_16[slice1],\n",
        "       simple_regret_exact_17[slice1],\n",
        "       simple_regret_exact_18[slice1],\n",
        "       simple_regret_exact_19[slice1],\n",
        "       simple_regret_exact_20[slice1]]\n",
        "\n",
        "approx1_results = pd.DataFrame(approx1).sort_values(by=[0], ascending=False)\n",
        "exact1_results = pd.DataFrame(exact1).sort_values(by=[0], ascending=False)\n",
        "\n",
        "### Best simple regret minimization IQR - approx:\n",
        "lower_approx1 = np.asarray(approx1_results[4:5][0])[0]\n",
        "median_approx1 = np.asarray(approx1_results[9:10][0])[0]\n",
        "upper_approx1 = np.asarray(approx1_results[14:15][0])[0]\n",
        "\n",
        "lower_exact1 = np.asarray(exact1_results[4:5][0])[0]\n",
        "median_exact1 = np.asarray(exact1_results[9:10][0])[0]\n",
        "upper_exact1 = np.asarray(exact1_results[14:15][0])[0]"
      ]
    },
    {
      "cell_type": "code",
      "execution_count": 76,
      "metadata": {
        "id": "CgIkJA1xQxf2"
      },
      "outputs": [],
      "source": [
        "# Iteration11 :\n",
        "\n",
        "slice11 = 10\n",
        "\n",
        "approx11 = [simple_regret_approx_1[slice11],\n",
        "       simple_regret_approx_2[slice11],\n",
        "       simple_regret_approx_3[slice11],\n",
        "       simple_regret_approx_4[slice11],\n",
        "       simple_regret_approx_5[slice11],\n",
        "       simple_regret_approx_6[slice11],\n",
        "       simple_regret_approx_7[slice11],\n",
        "       simple_regret_approx_8[slice11],\n",
        "       simple_regret_approx_9[slice11],\n",
        "       simple_regret_approx_10[slice11],\n",
        "       simple_regret_approx_11[slice11],\n",
        "       simple_regret_approx_12[slice11],\n",
        "       simple_regret_approx_13[slice11],\n",
        "       simple_regret_approx_14[slice11],\n",
        "       simple_regret_approx_15[slice11],\n",
        "       simple_regret_approx_16[slice11],\n",
        "       simple_regret_approx_17[slice11],\n",
        "       simple_regret_approx_18[slice11],\n",
        "       simple_regret_approx_19[slice11],\n",
        "       simple_regret_approx_20[slice11]]\n",
        "\n",
        "exact11 = [simple_regret_exact_1[slice11],\n",
        "       simple_regret_exact_2[slice11],\n",
        "       simple_regret_exact_3[slice11],\n",
        "       simple_regret_exact_4[slice11],\n",
        "       simple_regret_exact_5[slice11],\n",
        "       simple_regret_exact_6[slice11],\n",
        "       simple_regret_exact_7[slice11],\n",
        "       simple_regret_exact_8[slice11],\n",
        "       simple_regret_exact_9[slice11],\n",
        "       simple_regret_exact_10[slice11],\n",
        "       simple_regret_exact_11[slice11],\n",
        "       simple_regret_exact_12[slice11],\n",
        "       simple_regret_exact_13[slice11],\n",
        "       simple_regret_exact_14[slice11],\n",
        "       simple_regret_exact_15[slice11],\n",
        "       simple_regret_exact_16[slice11],\n",
        "       simple_regret_exact_17[slice11],\n",
        "       simple_regret_exact_18[slice11],\n",
        "       simple_regret_exact_19[slice11],\n",
        "       simple_regret_exact_20[slice11]]\n",
        "\n",
        "approx11_results = pd.DataFrame(approx11).sort_values(by=[0], ascending=False)\n",
        "exact11_results = pd.DataFrame(exact11).sort_values(by=[0], ascending=False)\n",
        "\n",
        "### Best simple regret minimization IQR - approx:\n",
        "lower_approx11 = np.asarray(approx11_results[4:5][0])[0]\n",
        "median_approx11 = np.asarray(approx11_results[9:10][0])[0]\n",
        "upper_approx11 = np.asarray(approx11_results[14:15][0])[0]\n",
        "\n",
        "lower_exact11 = np.asarray(exact11_results[4:5][0])[0]\n",
        "median_exact11 = np.asarray(exact11_results[9:10][0])[0]\n",
        "upper_exact11 = np.asarray(exact11_results[14:15][0])[0]"
      ]
    },
    {
      "cell_type": "code",
      "execution_count": 77,
      "metadata": {
        "id": "MFePDfGuQxf2"
      },
      "outputs": [],
      "source": [
        "# Iteration21 :\n",
        "\n",
        "slice21 = 20\n",
        "\n",
        "approx21 = [simple_regret_approx_1[slice21],\n",
        "       simple_regret_approx_2[slice21],\n",
        "       simple_regret_approx_3[slice21],\n",
        "       simple_regret_approx_4[slice21],\n",
        "       simple_regret_approx_5[slice21],\n",
        "       simple_regret_approx_6[slice21],\n",
        "       simple_regret_approx_7[slice21],\n",
        "       simple_regret_approx_8[slice21],\n",
        "       simple_regret_approx_9[slice21],\n",
        "       simple_regret_approx_10[slice21],\n",
        "       simple_regret_approx_11[slice21],\n",
        "       simple_regret_approx_12[slice21],\n",
        "       simple_regret_approx_13[slice21],\n",
        "       simple_regret_approx_14[slice21],\n",
        "       simple_regret_approx_15[slice21],\n",
        "       simple_regret_approx_16[slice21],\n",
        "       simple_regret_approx_17[slice21],\n",
        "       simple_regret_approx_18[slice21],\n",
        "       simple_regret_approx_19[slice21],\n",
        "       simple_regret_approx_20[slice21]]\n",
        "\n",
        "exact21 = [simple_regret_exact_1[slice21],\n",
        "       simple_regret_exact_2[slice21],\n",
        "       simple_regret_exact_3[slice21],\n",
        "       simple_regret_exact_4[slice21],\n",
        "       simple_regret_exact_5[slice21],\n",
        "       simple_regret_exact_6[slice21],\n",
        "       simple_regret_exact_7[slice21],\n",
        "       simple_regret_exact_8[slice21],\n",
        "       simple_regret_exact_9[slice21],\n",
        "       simple_regret_exact_10[slice21],\n",
        "       simple_regret_exact_11[slice21],\n",
        "       simple_regret_exact_12[slice21],\n",
        "       simple_regret_exact_13[slice21],\n",
        "       simple_regret_exact_14[slice21],\n",
        "       simple_regret_exact_15[slice21],\n",
        "       simple_regret_exact_16[slice21],\n",
        "       simple_regret_exact_17[slice21],\n",
        "       simple_regret_exact_18[slice21],\n",
        "       simple_regret_exact_19[slice21],\n",
        "       simple_regret_exact_20[slice21]]\n",
        "\n",
        "approx21_results = pd.DataFrame(approx21).sort_values(by=[0], ascending=False)\n",
        "exact21_results = pd.DataFrame(exact21).sort_values(by=[0], ascending=False)\n",
        "\n",
        "### Best simple regret minimization IQR - approx:\n",
        "lower_approx21 = np.asarray(approx21_results[4:5][0])[0]\n",
        "median_approx21 = np.asarray(approx21_results[9:10][0])[0]\n",
        "upper_approx21 = np.asarray(approx21_results[14:15][0])[0]\n",
        "\n",
        "lower_exact21 = np.asarray(exact21_results[4:5][0])[0]\n",
        "median_exact21 = np.asarray(exact21_results[9:10][0])[0]\n",
        "upper_exact21 = np.asarray(exact21_results[14:15][0])[0]"
      ]
    },
    {
      "cell_type": "code",
      "execution_count": 78,
      "metadata": {
        "id": "PrRDB1kfQxf3"
      },
      "outputs": [],
      "source": [
        "# Iteration2 :\n",
        "\n",
        "slice2 = 1\n",
        "\n",
        "approx2 = [simple_regret_approx_1[slice2],\n",
        "       simple_regret_approx_2[slice2],\n",
        "       simple_regret_approx_3[slice2],\n",
        "       simple_regret_approx_4[slice2],\n",
        "       simple_regret_approx_5[slice2],\n",
        "       simple_regret_approx_6[slice2],\n",
        "       simple_regret_approx_7[slice2],\n",
        "       simple_regret_approx_8[slice2],\n",
        "       simple_regret_approx_9[slice2],\n",
        "       simple_regret_approx_10[slice2],\n",
        "       simple_regret_approx_11[slice2],\n",
        "       simple_regret_approx_12[slice2],\n",
        "       simple_regret_approx_13[slice2],\n",
        "       simple_regret_approx_14[slice2],\n",
        "       simple_regret_approx_15[slice2],\n",
        "       simple_regret_approx_16[slice2],\n",
        "       simple_regret_approx_17[slice2],\n",
        "       simple_regret_approx_18[slice2],\n",
        "       simple_regret_approx_19[slice2],\n",
        "       simple_regret_approx_20[slice2]]\n",
        "\n",
        "exact2 = [simple_regret_exact_1[slice2],\n",
        "       simple_regret_exact_2[slice2],\n",
        "       simple_regret_exact_3[slice2],\n",
        "       simple_regret_exact_4[slice2],\n",
        "       simple_regret_exact_5[slice2],\n",
        "       simple_regret_exact_6[slice2],\n",
        "       simple_regret_exact_7[slice2],\n",
        "       simple_regret_exact_8[slice2],\n",
        "       simple_regret_exact_9[slice2],\n",
        "       simple_regret_exact_10[slice2],\n",
        "       simple_regret_exact_11[slice2],\n",
        "       simple_regret_exact_12[slice2],\n",
        "       simple_regret_exact_13[slice2],\n",
        "       simple_regret_exact_14[slice2],\n",
        "       simple_regret_exact_15[slice2],\n",
        "       simple_regret_exact_16[slice2],\n",
        "       simple_regret_exact_17[slice2],\n",
        "       simple_regret_exact_18[slice2],\n",
        "       simple_regret_exact_19[slice2],\n",
        "       simple_regret_exact_20[slice2]]\n",
        "\n",
        "approx2_results = pd.DataFrame(approx2).sort_values(by=[0], ascending=False)\n",
        "exact2_results = pd.DataFrame(exact2).sort_values(by=[0], ascending=False)\n",
        "\n",
        "### Best simple regret minimization IQR - approx:\n",
        "lower_approx2 = np.asarray(approx2_results[4:5][0])[0]\n",
        "median_approx2 = np.asarray(approx2_results[9:10][0])[0]\n",
        "upper_approx2 = np.asarray(approx2_results[14:15][0])[0]\n",
        "\n",
        "lower_exact2 = np.asarray(exact2_results[4:5][0])[0]\n",
        "median_exact2 = np.asarray(exact2_results[9:10][0])[0]\n",
        "upper_exact2 = np.asarray(exact2_results[14:15][0])[0]"
      ]
    },
    {
      "cell_type": "code",
      "execution_count": 79,
      "metadata": {
        "id": "B8ncJDYeQxf3"
      },
      "outputs": [],
      "source": [
        "# Iteration12 :\n",
        "\n",
        "slice12 = 11\n",
        "\n",
        "approx12 = [simple_regret_approx_1[slice12],\n",
        "       simple_regret_approx_2[slice12],\n",
        "       simple_regret_approx_3[slice12],\n",
        "       simple_regret_approx_4[slice12],\n",
        "       simple_regret_approx_5[slice12],\n",
        "       simple_regret_approx_6[slice12],\n",
        "       simple_regret_approx_7[slice12],\n",
        "       simple_regret_approx_8[slice12],\n",
        "       simple_regret_approx_9[slice12],\n",
        "       simple_regret_approx_10[slice12],\n",
        "       simple_regret_approx_11[slice12],\n",
        "       simple_regret_approx_12[slice12],\n",
        "       simple_regret_approx_13[slice12],\n",
        "       simple_regret_approx_14[slice12],\n",
        "       simple_regret_approx_15[slice12],\n",
        "       simple_regret_approx_16[slice12],\n",
        "       simple_regret_approx_17[slice12],\n",
        "       simple_regret_approx_18[slice12],\n",
        "       simple_regret_approx_19[slice12],\n",
        "       simple_regret_approx_20[slice12]]\n",
        "\n",
        "exact12 = [simple_regret_exact_1[slice12],\n",
        "       simple_regret_exact_2[slice12],\n",
        "       simple_regret_exact_3[slice12],\n",
        "       simple_regret_exact_4[slice12],\n",
        "       simple_regret_exact_5[slice12],\n",
        "       simple_regret_exact_6[slice12],\n",
        "       simple_regret_exact_7[slice12],\n",
        "       simple_regret_exact_8[slice12],\n",
        "       simple_regret_exact_9[slice12],\n",
        "       simple_regret_exact_10[slice12],\n",
        "       simple_regret_exact_11[slice12],\n",
        "       simple_regret_exact_12[slice12],\n",
        "       simple_regret_exact_13[slice12],\n",
        "       simple_regret_exact_14[slice12],\n",
        "       simple_regret_exact_15[slice12],\n",
        "       simple_regret_exact_16[slice12],\n",
        "       simple_regret_exact_17[slice12],\n",
        "       simple_regret_exact_18[slice12],\n",
        "       simple_regret_exact_19[slice12],\n",
        "       simple_regret_exact_20[slice12]]\n",
        "\n",
        "approx12_results = pd.DataFrame(approx12).sort_values(by=[0], ascending=False)\n",
        "exact12_results = pd.DataFrame(exact12).sort_values(by=[0], ascending=False)\n",
        "\n",
        "### Best simple regret minimization IQR - approx:\n",
        "lower_approx12 = np.asarray(approx12_results[4:5][0])[0]\n",
        "median_approx12 = np.asarray(approx12_results[9:10][0])[0]\n",
        "upper_approx12 = np.asarray(approx12_results[14:15][0])[0]\n",
        "\n",
        "lower_exact12 = np.asarray(exact12_results[4:5][0])[0]\n",
        "median_exact12 = np.asarray(exact12_results[9:10][0])[0]\n",
        "upper_exact12 = np.asarray(exact12_results[14:15][0])[0]"
      ]
    },
    {
      "cell_type": "code",
      "execution_count": 80,
      "metadata": {
        "id": "Jn4KpGvcQxf4"
      },
      "outputs": [],
      "source": [
        "# Iteration3 :\n",
        "\n",
        "slice3 = 2\n",
        "\n",
        "approx3 = [simple_regret_approx_1[slice3],\n",
        "       simple_regret_approx_2[slice3],\n",
        "       simple_regret_approx_3[slice3],\n",
        "       simple_regret_approx_4[slice3],\n",
        "       simple_regret_approx_5[slice3],\n",
        "       simple_regret_approx_6[slice3],\n",
        "       simple_regret_approx_7[slice3],\n",
        "       simple_regret_approx_8[slice3],\n",
        "       simple_regret_approx_9[slice3],\n",
        "       simple_regret_approx_10[slice3],\n",
        "       simple_regret_approx_11[slice3],\n",
        "       simple_regret_approx_12[slice3],\n",
        "       simple_regret_approx_13[slice3],\n",
        "       simple_regret_approx_14[slice3],\n",
        "       simple_regret_approx_15[slice3],\n",
        "       simple_regret_approx_16[slice3],\n",
        "       simple_regret_approx_17[slice3],\n",
        "       simple_regret_approx_18[slice3],\n",
        "       simple_regret_approx_19[slice3],\n",
        "       simple_regret_approx_20[slice3]]\n",
        "\n",
        "exact3 = [simple_regret_exact_1[slice3],\n",
        "       simple_regret_exact_2[slice3],\n",
        "       simple_regret_exact_3[slice3],\n",
        "       simple_regret_exact_4[slice3],\n",
        "       simple_regret_exact_5[slice3],\n",
        "       simple_regret_exact_6[slice3],\n",
        "       simple_regret_exact_7[slice3],\n",
        "       simple_regret_exact_8[slice3],\n",
        "       simple_regret_exact_9[slice3],\n",
        "       simple_regret_exact_10[slice3],\n",
        "       simple_regret_exact_11[slice3],\n",
        "       simple_regret_exact_12[slice3],\n",
        "       simple_regret_exact_13[slice3],\n",
        "       simple_regret_exact_14[slice3],\n",
        "       simple_regret_exact_15[slice3],\n",
        "       simple_regret_exact_16[slice3],\n",
        "       simple_regret_exact_17[slice3],\n",
        "       simple_regret_exact_18[slice3],\n",
        "       simple_regret_exact_19[slice3],\n",
        "       simple_regret_exact_20[slice3]]\n",
        "\n",
        "approx3_results = pd.DataFrame(approx3).sort_values(by=[0], ascending=False)\n",
        "exact3_results = pd.DataFrame(exact3).sort_values(by=[0], ascending=False)\n",
        "\n",
        "### Best simple regret minimization IQR - approx:\n",
        "lower_approx3 = np.asarray(approx3_results[4:5][0])[0]\n",
        "median_approx3 = np.asarray(approx3_results[9:10][0])[0]\n",
        "upper_approx3 = np.asarray(approx3_results[14:15][0])[0]\n",
        "\n",
        "lower_exact3 = np.asarray(exact3_results[4:5][0])[0]\n",
        "median_exact3 = np.asarray(exact3_results[9:10][0])[0]\n",
        "upper_exact3 = np.asarray(exact3_results[14:15][0])[0]"
      ]
    },
    {
      "cell_type": "code",
      "execution_count": 81,
      "metadata": {
        "id": "plf83wxrQxf4"
      },
      "outputs": [],
      "source": [
        "# Iteration13 :\n",
        "\n",
        "slice13 = 12\n",
        "\n",
        "approx13 = [simple_regret_approx_1[slice13],\n",
        "       simple_regret_approx_2[slice13],\n",
        "       simple_regret_approx_3[slice13],\n",
        "       simple_regret_approx_4[slice13],\n",
        "       simple_regret_approx_5[slice13],\n",
        "       simple_regret_approx_6[slice13],\n",
        "       simple_regret_approx_7[slice13],\n",
        "       simple_regret_approx_8[slice13],\n",
        "       simple_regret_approx_9[slice13],\n",
        "       simple_regret_approx_10[slice13],\n",
        "       simple_regret_approx_11[slice13],\n",
        "       simple_regret_approx_12[slice13],\n",
        "       simple_regret_approx_13[slice13],\n",
        "       simple_regret_approx_14[slice13],\n",
        "       simple_regret_approx_15[slice13],\n",
        "       simple_regret_approx_16[slice13],\n",
        "       simple_regret_approx_17[slice13],\n",
        "       simple_regret_approx_18[slice13],\n",
        "       simple_regret_approx_19[slice13],\n",
        "       simple_regret_approx_20[slice13]]\n",
        "\n",
        "exact13 = [simple_regret_exact_1[slice13],\n",
        "       simple_regret_exact_2[slice13],\n",
        "       simple_regret_exact_3[slice13],\n",
        "       simple_regret_exact_4[slice13],\n",
        "       simple_regret_exact_5[slice13],\n",
        "       simple_regret_exact_6[slice13],\n",
        "       simple_regret_exact_7[slice13],\n",
        "       simple_regret_exact_8[slice13],\n",
        "       simple_regret_exact_9[slice13],\n",
        "       simple_regret_exact_10[slice13],\n",
        "       simple_regret_exact_11[slice13],\n",
        "       simple_regret_exact_12[slice13],\n",
        "       simple_regret_exact_13[slice13],\n",
        "       simple_regret_exact_14[slice13],\n",
        "       simple_regret_exact_15[slice13],\n",
        "       simple_regret_exact_16[slice13],\n",
        "       simple_regret_exact_17[slice13],\n",
        "       simple_regret_exact_18[slice13],\n",
        "       simple_regret_exact_19[slice13],\n",
        "       simple_regret_exact_20[slice13]]\n",
        "\n",
        "approx13_results = pd.DataFrame(approx13).sort_values(by=[0], ascending=False)\n",
        "exact13_results = pd.DataFrame(exact13).sort_values(by=[0], ascending=False)\n",
        "\n",
        "### Best simple regret minimization IQR - approx:\n",
        "lower_approx13 = np.asarray(approx13_results[4:5][0])[0]\n",
        "median_approx13 = np.asarray(approx13_results[9:10][0])[0]\n",
        "upper_approx13 = np.asarray(approx13_results[14:15][0])[0]\n",
        "\n",
        "lower_exact13 = np.asarray(exact13_results[4:5][0])[0]\n",
        "median_exact13 = np.asarray(exact13_results[9:10][0])[0]\n",
        "upper_exact13 = np.asarray(exact13_results[14:15][0])[0]"
      ]
    },
    {
      "cell_type": "code",
      "execution_count": 82,
      "metadata": {
        "id": "9A7mlVvJQxf5"
      },
      "outputs": [],
      "source": [
        "# Iteration4 :\n",
        "\n",
        "slice4 = 3\n",
        "\n",
        "approx4 = [simple_regret_approx_1[slice4],\n",
        "       simple_regret_approx_2[slice4],\n",
        "       simple_regret_approx_3[slice4],\n",
        "       simple_regret_approx_4[slice4],\n",
        "       simple_regret_approx_5[slice4],\n",
        "       simple_regret_approx_6[slice4],\n",
        "       simple_regret_approx_7[slice4],\n",
        "       simple_regret_approx_8[slice4],\n",
        "       simple_regret_approx_9[slice4],\n",
        "       simple_regret_approx_10[slice4],\n",
        "       simple_regret_approx_11[slice4],\n",
        "       simple_regret_approx_12[slice4],\n",
        "       simple_regret_approx_13[slice4],\n",
        "       simple_regret_approx_14[slice4],\n",
        "       simple_regret_approx_15[slice4],\n",
        "       simple_regret_approx_16[slice4],\n",
        "       simple_regret_approx_17[slice4],\n",
        "       simple_regret_approx_18[slice4],\n",
        "       simple_regret_approx_19[slice4],\n",
        "       simple_regret_approx_20[slice4]]\n",
        "\n",
        "exact4 = [simple_regret_exact_1[slice4],\n",
        "       simple_regret_exact_2[slice4],\n",
        "       simple_regret_exact_3[slice4],\n",
        "       simple_regret_exact_4[slice4],\n",
        "       simple_regret_exact_5[slice4],\n",
        "       simple_regret_exact_6[slice4],\n",
        "       simple_regret_exact_7[slice4],\n",
        "       simple_regret_exact_8[slice4],\n",
        "       simple_regret_exact_9[slice4],\n",
        "       simple_regret_exact_10[slice4],\n",
        "       simple_regret_exact_11[slice4],\n",
        "       simple_regret_exact_12[slice4],\n",
        "       simple_regret_exact_13[slice4],\n",
        "       simple_regret_exact_14[slice4],\n",
        "       simple_regret_exact_15[slice4],\n",
        "       simple_regret_exact_16[slice4],\n",
        "       simple_regret_exact_17[slice4],\n",
        "       simple_regret_exact_18[slice4],\n",
        "       simple_regret_exact_19[slice4],\n",
        "       simple_regret_exact_20[slice4]]\n",
        "\n",
        "approx4_results = pd.DataFrame(approx4).sort_values(by=[0], ascending=False)\n",
        "exact4_results = pd.DataFrame(exact4).sort_values(by=[0], ascending=False)\n",
        "\n",
        "### Best simple regret minimization IQR - approx:\n",
        "lower_approx4 = np.asarray(approx4_results[4:5][0])[0]\n",
        "median_approx4 = np.asarray(approx4_results[9:10][0])[0]\n",
        "upper_approx4 = np.asarray(approx4_results[14:15][0])[0]\n",
        "\n",
        "lower_exact4 = np.asarray(exact4_results[4:5][0])[0]\n",
        "median_exact4 = np.asarray(exact4_results[9:10][0])[0]\n",
        "upper_exact4 = np.asarray(exact4_results[14:15][0])[0]"
      ]
    },
    {
      "cell_type": "code",
      "execution_count": 83,
      "metadata": {
        "id": "ijq-rioYQxf5"
      },
      "outputs": [],
      "source": [
        "# Iteration14 :\n",
        "\n",
        "slice14 = 13\n",
        "\n",
        "approx14 = [simple_regret_approx_1[slice14],\n",
        "       simple_regret_approx_2[slice14],\n",
        "       simple_regret_approx_3[slice14],\n",
        "       simple_regret_approx_4[slice14],\n",
        "       simple_regret_approx_5[slice14],\n",
        "       simple_regret_approx_6[slice14],\n",
        "       simple_regret_approx_7[slice14],\n",
        "       simple_regret_approx_8[slice14],\n",
        "       simple_regret_approx_9[slice14],\n",
        "       simple_regret_approx_10[slice14],\n",
        "       simple_regret_approx_11[slice14],\n",
        "       simple_regret_approx_12[slice14],\n",
        "       simple_regret_approx_13[slice14],\n",
        "       simple_regret_approx_14[slice14],\n",
        "       simple_regret_approx_15[slice14],\n",
        "       simple_regret_approx_16[slice14],\n",
        "       simple_regret_approx_17[slice14],\n",
        "       simple_regret_approx_18[slice14],\n",
        "       simple_regret_approx_19[slice14],\n",
        "       simple_regret_approx_20[slice14]]\n",
        "\n",
        "exact14 = [simple_regret_exact_1[slice14],\n",
        "       simple_regret_exact_2[slice14],\n",
        "       simple_regret_exact_3[slice14],\n",
        "       simple_regret_exact_4[slice14],\n",
        "       simple_regret_exact_5[slice14],\n",
        "       simple_regret_exact_6[slice14],\n",
        "       simple_regret_exact_7[slice14],\n",
        "       simple_regret_exact_8[slice14],\n",
        "       simple_regret_exact_9[slice14],\n",
        "       simple_regret_exact_10[slice14],\n",
        "       simple_regret_exact_11[slice14],\n",
        "       simple_regret_exact_12[slice14],\n",
        "       simple_regret_exact_13[slice14],\n",
        "       simple_regret_exact_14[slice14],\n",
        "       simple_regret_exact_15[slice14],\n",
        "       simple_regret_exact_16[slice14],\n",
        "       simple_regret_exact_17[slice14],\n",
        "       simple_regret_exact_18[slice14],\n",
        "       simple_regret_exact_19[slice14],\n",
        "       simple_regret_exact_20[slice14]]\n",
        "\n",
        "approx14_results = pd.DataFrame(approx14).sort_values(by=[0], ascending=False)\n",
        "exact14_results = pd.DataFrame(exact14).sort_values(by=[0], ascending=False)\n",
        "\n",
        "### Best simple regret minimization IQR - approx:\n",
        "lower_approx14 = np.asarray(approx14_results[4:5][0])[0]\n",
        "median_approx14 = np.asarray(approx14_results[9:10][0])[0]\n",
        "upper_approx14 = np.asarray(approx14_results[14:15][0])[0]\n",
        "\n",
        "lower_exact14 = np.asarray(exact14_results[4:5][0])[0]\n",
        "median_exact14 = np.asarray(exact14_results[9:10][0])[0]\n",
        "upper_exact14 = np.asarray(exact14_results[14:15][0])[0]"
      ]
    },
    {
      "cell_type": "code",
      "execution_count": 84,
      "metadata": {
        "id": "XINlZjoTd-ZK"
      },
      "outputs": [],
      "source": [
        "# Iteration5 :\n",
        "\n",
        "slice5 = 4\n",
        "\n",
        "approx5 = [simple_regret_approx_1[slice5],\n",
        "       simple_regret_approx_2[slice5],\n",
        "       simple_regret_approx_3[slice5],\n",
        "       simple_regret_approx_4[slice5],\n",
        "       simple_regret_approx_5[slice5],\n",
        "       simple_regret_approx_6[slice5],\n",
        "       simple_regret_approx_7[slice5],\n",
        "       simple_regret_approx_8[slice5],\n",
        "       simple_regret_approx_9[slice5],\n",
        "       simple_regret_approx_10[slice5],\n",
        "       simple_regret_approx_11[slice5],\n",
        "       simple_regret_approx_12[slice5],\n",
        "       simple_regret_approx_13[slice5],\n",
        "       simple_regret_approx_14[slice5],\n",
        "       simple_regret_approx_15[slice5],\n",
        "       simple_regret_approx_16[slice5],\n",
        "       simple_regret_approx_17[slice5],\n",
        "       simple_regret_approx_18[slice5],\n",
        "       simple_regret_approx_19[slice5],\n",
        "       simple_regret_approx_20[slice5]]\n",
        "\n",
        "exact5 = [simple_regret_exact_1[slice5],\n",
        "       simple_regret_exact_2[slice5],\n",
        "       simple_regret_exact_3[slice5],\n",
        "       simple_regret_exact_4[slice5],\n",
        "       simple_regret_exact_5[slice5],\n",
        "       simple_regret_exact_6[slice5],\n",
        "       simple_regret_exact_7[slice5],\n",
        "       simple_regret_exact_8[slice5],\n",
        "       simple_regret_exact_9[slice5],\n",
        "       simple_regret_exact_10[slice5],\n",
        "       simple_regret_exact_11[slice5],\n",
        "       simple_regret_exact_12[slice5],\n",
        "       simple_regret_exact_13[slice5],\n",
        "       simple_regret_exact_14[slice5],\n",
        "       simple_regret_exact_15[slice5],\n",
        "       simple_regret_exact_16[slice5],\n",
        "       simple_regret_exact_17[slice5],\n",
        "       simple_regret_exact_18[slice5],\n",
        "       simple_regret_exact_19[slice5],\n",
        "       simple_regret_exact_20[slice5]]\n",
        "\n",
        "approx5_results = pd.DataFrame(approx5).sort_values(by=[0], ascending=False)\n",
        "exact5_results = pd.DataFrame(exact5).sort_values(by=[0], ascending=False)\n",
        "\n",
        "### Best simple regret minimization IQR - approx:\n",
        "lower_approx5 = np.asarray(approx5_results[4:5][0])[0]\n",
        "median_approx5 = np.asarray(approx5_results[9:10][0])[0]\n",
        "upper_approx5 = np.asarray(approx5_results[14:15][0])[0]\n",
        "\n",
        "lower_exact5 = np.asarray(exact5_results[4:5][0])[0]\n",
        "median_exact5 = np.asarray(exact5_results[9:10][0])[0]\n",
        "upper_exact5 = np.asarray(exact5_results[14:15][0])[0]"
      ]
    },
    {
      "cell_type": "code",
      "execution_count": 85,
      "metadata": {
        "id": "4aZ7C8sOQxf6"
      },
      "outputs": [],
      "source": [
        "# Iteration15 :\n",
        "\n",
        "slice15 = 14\n",
        "\n",
        "approx15 = [simple_regret_approx_1[slice15],\n",
        "       simple_regret_approx_2[slice15],\n",
        "       simple_regret_approx_3[slice15],\n",
        "       simple_regret_approx_4[slice15],\n",
        "       simple_regret_approx_5[slice15],\n",
        "       simple_regret_approx_6[slice15],\n",
        "       simple_regret_approx_7[slice15],\n",
        "       simple_regret_approx_8[slice15],\n",
        "       simple_regret_approx_9[slice15],\n",
        "       simple_regret_approx_10[slice15],\n",
        "       simple_regret_approx_11[slice15],\n",
        "       simple_regret_approx_12[slice15],\n",
        "       simple_regret_approx_13[slice15],\n",
        "       simple_regret_approx_14[slice15],\n",
        "       simple_regret_approx_15[slice15],\n",
        "       simple_regret_approx_16[slice15],\n",
        "       simple_regret_approx_17[slice15],\n",
        "       simple_regret_approx_18[slice15],\n",
        "       simple_regret_approx_19[slice15],\n",
        "       simple_regret_approx_20[slice15]]\n",
        "\n",
        "exact15 = [simple_regret_exact_1[slice15],\n",
        "       simple_regret_exact_2[slice15],\n",
        "       simple_regret_exact_3[slice15],\n",
        "       simple_regret_exact_4[slice15],\n",
        "       simple_regret_exact_5[slice15],\n",
        "       simple_regret_exact_6[slice15],\n",
        "       simple_regret_exact_7[slice15],\n",
        "       simple_regret_exact_8[slice15],\n",
        "       simple_regret_exact_9[slice15],\n",
        "       simple_regret_exact_10[slice15],\n",
        "       simple_regret_exact_11[slice15],\n",
        "       simple_regret_exact_12[slice15],\n",
        "       simple_regret_exact_13[slice15],\n",
        "       simple_regret_exact_14[slice15],\n",
        "       simple_regret_exact_15[slice15],\n",
        "       simple_regret_exact_16[slice15],\n",
        "       simple_regret_exact_17[slice15],\n",
        "       simple_regret_exact_18[slice15],\n",
        "       simple_regret_exact_19[slice15],\n",
        "       simple_regret_exact_20[slice15]]\n",
        "\n",
        "approx15_results = pd.DataFrame(approx15).sort_values(by=[0], ascending=False)\n",
        "exact15_results = pd.DataFrame(exact15).sort_values(by=[0], ascending=False)\n",
        "\n",
        "### Best simple regret minimization IQR - approx:\n",
        "lower_approx15 = np.asarray(approx15_results[4:5][0])[0]\n",
        "median_approx15 = np.asarray(approx15_results[9:10][0])[0]\n",
        "upper_approx15 = np.asarray(approx15_results[14:15][0])[0]\n",
        "\n",
        "lower_exact15 = np.asarray(exact15_results[4:5][0])[0]\n",
        "median_exact15 = np.asarray(exact15_results[9:10][0])[0]\n",
        "upper_exact15 = np.asarray(exact15_results[14:15][0])[0]"
      ]
    },
    {
      "cell_type": "code",
      "execution_count": 86,
      "metadata": {
        "id": "KJINKhv1Qxf6"
      },
      "outputs": [],
      "source": [
        "# Iteration6 :\n",
        "\n",
        "slice6 = 5\n",
        "\n",
        "approx6 = [simple_regret_approx_1[slice6],\n",
        "       simple_regret_approx_2[slice6],\n",
        "       simple_regret_approx_3[slice6],\n",
        "       simple_regret_approx_4[slice6],\n",
        "       simple_regret_approx_5[slice6],\n",
        "       simple_regret_approx_6[slice6],\n",
        "       simple_regret_approx_7[slice6],\n",
        "       simple_regret_approx_8[slice6],\n",
        "       simple_regret_approx_9[slice6],\n",
        "       simple_regret_approx_10[slice6],\n",
        "       simple_regret_approx_11[slice6],\n",
        "       simple_regret_approx_12[slice6],\n",
        "       simple_regret_approx_13[slice6],\n",
        "       simple_regret_approx_14[slice6],\n",
        "       simple_regret_approx_15[slice6],\n",
        "       simple_regret_approx_16[slice6],\n",
        "       simple_regret_approx_17[slice6],\n",
        "       simple_regret_approx_18[slice6],\n",
        "       simple_regret_approx_19[slice6],\n",
        "       simple_regret_approx_20[slice6]]\n",
        "\n",
        "exact6 = [simple_regret_exact_1[slice6],\n",
        "       simple_regret_exact_2[slice6],\n",
        "       simple_regret_exact_3[slice6],\n",
        "       simple_regret_exact_4[slice6],\n",
        "       simple_regret_exact_5[slice6],\n",
        "       simple_regret_exact_6[slice6],\n",
        "       simple_regret_exact_7[slice6],\n",
        "       simple_regret_exact_8[slice6],\n",
        "       simple_regret_exact_9[slice6],\n",
        "       simple_regret_exact_10[slice6],\n",
        "       simple_regret_exact_11[slice6],\n",
        "       simple_regret_exact_12[slice6],\n",
        "       simple_regret_exact_13[slice6],\n",
        "       simple_regret_exact_14[slice6],\n",
        "       simple_regret_exact_15[slice6],\n",
        "       simple_regret_exact_16[slice6],\n",
        "       simple_regret_exact_17[slice6],\n",
        "       simple_regret_exact_18[slice6],\n",
        "       simple_regret_exact_19[slice6],\n",
        "       simple_regret_exact_20[slice6]]\n",
        "\n",
        "approx6_results = pd.DataFrame(approx6).sort_values(by=[0], ascending=False)\n",
        "exact6_results = pd.DataFrame(exact6).sort_values(by=[0], ascending=False)\n",
        "\n",
        "### Best simple regret minimization IQR - approx:\n",
        "lower_approx6 = np.asarray(approx6_results[4:5][0])[0]\n",
        "median_approx6 = np.asarray(approx6_results[9:10][0])[0]\n",
        "upper_approx6 = np.asarray(approx6_results[14:15][0])[0]\n",
        "\n",
        "lower_exact6 = np.asarray(exact6_results[4:5][0])[0]\n",
        "median_exact6 = np.asarray(exact6_results[9:10][0])[0]\n",
        "upper_exact6 = np.asarray(exact6_results[14:15][0])[0]"
      ]
    },
    {
      "cell_type": "code",
      "execution_count": 87,
      "metadata": {
        "id": "nwC5N1FsQxf7"
      },
      "outputs": [],
      "source": [
        "# Iteration16 :\n",
        "\n",
        "slice16 = 15\n",
        "\n",
        "approx16 = [simple_regret_approx_1[slice16],\n",
        "       simple_regret_approx_2[slice16],\n",
        "       simple_regret_approx_3[slice16],\n",
        "       simple_regret_approx_4[slice16],\n",
        "       simple_regret_approx_5[slice16],\n",
        "       simple_regret_approx_6[slice16],\n",
        "       simple_regret_approx_7[slice16],\n",
        "       simple_regret_approx_8[slice16],\n",
        "       simple_regret_approx_9[slice16],\n",
        "       simple_regret_approx_10[slice16],\n",
        "       simple_regret_approx_11[slice16],\n",
        "       simple_regret_approx_12[slice16],\n",
        "       simple_regret_approx_13[slice16],\n",
        "       simple_regret_approx_14[slice16],\n",
        "       simple_regret_approx_15[slice16],\n",
        "       simple_regret_approx_16[slice16],\n",
        "       simple_regret_approx_17[slice16],\n",
        "       simple_regret_approx_18[slice16],\n",
        "       simple_regret_approx_19[slice16],\n",
        "       simple_regret_approx_20[slice16]]\n",
        "\n",
        "exact16 = [simple_regret_exact_1[slice16],\n",
        "       simple_regret_exact_2[slice16],\n",
        "       simple_regret_exact_3[slice16],\n",
        "       simple_regret_exact_4[slice16],\n",
        "       simple_regret_exact_5[slice16],\n",
        "       simple_regret_exact_6[slice16],\n",
        "       simple_regret_exact_7[slice16],\n",
        "       simple_regret_exact_8[slice16],\n",
        "       simple_regret_exact_9[slice16],\n",
        "       simple_regret_exact_10[slice16],\n",
        "       simple_regret_exact_11[slice16],\n",
        "       simple_regret_exact_12[slice16],\n",
        "       simple_regret_exact_13[slice16],\n",
        "       simple_regret_exact_14[slice16],\n",
        "       simple_regret_exact_15[slice16],\n",
        "       simple_regret_exact_16[slice16],\n",
        "       simple_regret_exact_17[slice16],\n",
        "       simple_regret_exact_18[slice16],\n",
        "       simple_regret_exact_19[slice16],\n",
        "       simple_regret_exact_20[slice16]]\n",
        "\n",
        "approx16_results = pd.DataFrame(approx16).sort_values(by=[0], ascending=False)\n",
        "exact16_results = pd.DataFrame(exact16).sort_values(by=[0], ascending=False)\n",
        "\n",
        "### Best simple regret minimization IQR - approx:\n",
        "lower_approx16 = np.asarray(approx16_results[4:5][0])[0]\n",
        "median_approx16 = np.asarray(approx16_results[9:10][0])[0]\n",
        "upper_approx16 = np.asarray(approx16_results[14:15][0])[0]\n",
        "\n",
        "lower_exact16 = np.asarray(exact16_results[4:5][0])[0]\n",
        "median_exact16 = np.asarray(exact16_results[9:10][0])[0]\n",
        "upper_exact16 = np.asarray(exact16_results[14:15][0])[0]"
      ]
    },
    {
      "cell_type": "code",
      "execution_count": 88,
      "metadata": {
        "id": "TrPV0AfnQxf7"
      },
      "outputs": [],
      "source": [
        "# Iteration7 :\n",
        "\n",
        "slice7 = 6\n",
        "\n",
        "approx7 = [simple_regret_approx_1[slice7],\n",
        "       simple_regret_approx_2[slice7],\n",
        "       simple_regret_approx_3[slice7],\n",
        "       simple_regret_approx_4[slice7],\n",
        "       simple_regret_approx_5[slice7],\n",
        "       simple_regret_approx_6[slice7],\n",
        "       simple_regret_approx_7[slice7],\n",
        "       simple_regret_approx_8[slice7],\n",
        "       simple_regret_approx_9[slice7],\n",
        "       simple_regret_approx_10[slice7],\n",
        "       simple_regret_approx_11[slice7],\n",
        "       simple_regret_approx_12[slice7],\n",
        "       simple_regret_approx_13[slice7],\n",
        "       simple_regret_approx_14[slice7],\n",
        "       simple_regret_approx_15[slice7],\n",
        "       simple_regret_approx_16[slice7],\n",
        "       simple_regret_approx_17[slice7],\n",
        "       simple_regret_approx_18[slice7],\n",
        "       simple_regret_approx_19[slice7],\n",
        "       simple_regret_approx_20[slice7]]\n",
        "\n",
        "exact7 = [simple_regret_exact_1[slice7],\n",
        "       simple_regret_exact_2[slice7],\n",
        "       simple_regret_exact_3[slice7],\n",
        "       simple_regret_exact_4[slice7],\n",
        "       simple_regret_exact_5[slice7],\n",
        "       simple_regret_exact_6[slice7],\n",
        "       simple_regret_exact_7[slice7],\n",
        "       simple_regret_exact_8[slice7],\n",
        "       simple_regret_exact_9[slice7],\n",
        "       simple_regret_exact_10[slice7],\n",
        "       simple_regret_exact_11[slice7],\n",
        "       simple_regret_exact_12[slice7],\n",
        "       simple_regret_exact_13[slice7],\n",
        "       simple_regret_exact_14[slice7],\n",
        "       simple_regret_exact_15[slice7],\n",
        "       simple_regret_exact_16[slice7],\n",
        "       simple_regret_exact_17[slice7],\n",
        "       simple_regret_exact_18[slice7],\n",
        "       simple_regret_exact_19[slice7],\n",
        "       simple_regret_exact_20[slice7]]\n",
        "\n",
        "approx7_results = pd.DataFrame(approx7).sort_values(by=[0], ascending=False)\n",
        "exact7_results = pd.DataFrame(exact7).sort_values(by=[0], ascending=False)\n",
        "\n",
        "### Best simple regret minimization IQR - approx:\n",
        "lower_approx7 = np.asarray(approx7_results[4:5][0])[0]\n",
        "median_approx7 = np.asarray(approx7_results[9:10][0])[0]\n",
        "upper_approx7 = np.asarray(approx7_results[14:15][0])[0]\n",
        "\n",
        "lower_exact7 = np.asarray(exact7_results[4:5][0])[0]\n",
        "median_exact7 = np.asarray(exact7_results[9:10][0])[0]\n",
        "upper_exact7 = np.asarray(exact7_results[14:15][0])[0]"
      ]
    },
    {
      "cell_type": "code",
      "execution_count": 89,
      "metadata": {
        "id": "Ub_-wpK4Qxf8"
      },
      "outputs": [],
      "source": [
        "# Iteration17 :\n",
        "\n",
        "slice17 = 16\n",
        "\n",
        "approx17 = [simple_regret_approx_1[slice17],\n",
        "       simple_regret_approx_2[slice17],\n",
        "       simple_regret_approx_3[slice17],\n",
        "       simple_regret_approx_4[slice17],\n",
        "       simple_regret_approx_5[slice17],\n",
        "       simple_regret_approx_6[slice17],\n",
        "       simple_regret_approx_7[slice17],\n",
        "       simple_regret_approx_8[slice17],\n",
        "       simple_regret_approx_9[slice17],\n",
        "       simple_regret_approx_10[slice17],\n",
        "       simple_regret_approx_11[slice17],\n",
        "       simple_regret_approx_12[slice17],\n",
        "       simple_regret_approx_13[slice17],\n",
        "       simple_regret_approx_14[slice17],\n",
        "       simple_regret_approx_15[slice17],\n",
        "       simple_regret_approx_16[slice17],\n",
        "       simple_regret_approx_17[slice17],\n",
        "       simple_regret_approx_18[slice17],\n",
        "       simple_regret_approx_19[slice17],\n",
        "       simple_regret_approx_20[slice17]]\n",
        "\n",
        "exact17 = [simple_regret_exact_1[slice17],\n",
        "       simple_regret_exact_2[slice17],\n",
        "       simple_regret_exact_3[slice17],\n",
        "       simple_regret_exact_4[slice17],\n",
        "       simple_regret_exact_5[slice17],\n",
        "       simple_regret_exact_6[slice17],\n",
        "       simple_regret_exact_7[slice17],\n",
        "       simple_regret_exact_8[slice17],\n",
        "       simple_regret_exact_9[slice17],\n",
        "       simple_regret_exact_10[slice17],\n",
        "       simple_regret_exact_11[slice17],\n",
        "       simple_regret_exact_12[slice17],\n",
        "       simple_regret_exact_13[slice17],\n",
        "       simple_regret_exact_14[slice17],\n",
        "       simple_regret_exact_15[slice17],\n",
        "       simple_regret_exact_16[slice17],\n",
        "       simple_regret_exact_17[slice17],\n",
        "       simple_regret_exact_18[slice17],\n",
        "       simple_regret_exact_19[slice17],\n",
        "       simple_regret_exact_20[slice17]]\n",
        "\n",
        "approx17_results = pd.DataFrame(approx17).sort_values(by=[0], ascending=False)\n",
        "exact17_results = pd.DataFrame(exact17).sort_values(by=[0], ascending=False)\n",
        "\n",
        "### Best simple regret minimization IQR - approx:\n",
        "lower_approx17 = np.asarray(approx17_results[4:5][0])[0]\n",
        "median_approx17 = np.asarray(approx17_results[9:10][0])[0]\n",
        "upper_approx17 = np.asarray(approx17_results[14:15][0])[0]\n",
        "\n",
        "lower_exact17 = np.asarray(exact17_results[4:5][0])[0]\n",
        "median_exact17 = np.asarray(exact17_results[9:10][0])[0]\n",
        "upper_exact17 = np.asarray(exact17_results[14:15][0])[0]"
      ]
    },
    {
      "cell_type": "code",
      "execution_count": 90,
      "metadata": {
        "id": "-6VLo37PQxf8"
      },
      "outputs": [],
      "source": [
        "# Iteration8 :\n",
        "\n",
        "slice8 = 7\n",
        "\n",
        "approx8 = [simple_regret_approx_1[slice8],\n",
        "       simple_regret_approx_2[slice8],\n",
        "       simple_regret_approx_3[slice8],\n",
        "       simple_regret_approx_4[slice8],\n",
        "       simple_regret_approx_5[slice8],\n",
        "       simple_regret_approx_6[slice8],\n",
        "       simple_regret_approx_7[slice8],\n",
        "       simple_regret_approx_8[slice8],\n",
        "       simple_regret_approx_9[slice8],\n",
        "       simple_regret_approx_10[slice8],\n",
        "       simple_regret_approx_11[slice8],\n",
        "       simple_regret_approx_12[slice8],\n",
        "       simple_regret_approx_13[slice8],\n",
        "       simple_regret_approx_14[slice8],\n",
        "       simple_regret_approx_15[slice8],\n",
        "       simple_regret_approx_16[slice8],\n",
        "       simple_regret_approx_17[slice8],\n",
        "       simple_regret_approx_18[slice8],\n",
        "       simple_regret_approx_19[slice8],\n",
        "       simple_regret_approx_20[slice8]]\n",
        "\n",
        "exact8 = [simple_regret_exact_1[slice8],\n",
        "       simple_regret_exact_2[slice8],\n",
        "       simple_regret_exact_3[slice8],\n",
        "       simple_regret_exact_4[slice8],\n",
        "       simple_regret_exact_5[slice8],\n",
        "       simple_regret_exact_6[slice8],\n",
        "       simple_regret_exact_7[slice8],\n",
        "       simple_regret_exact_8[slice8],\n",
        "       simple_regret_exact_9[slice8],\n",
        "       simple_regret_exact_10[slice8],\n",
        "       simple_regret_exact_11[slice8],\n",
        "       simple_regret_exact_12[slice8],\n",
        "       simple_regret_exact_13[slice8],\n",
        "       simple_regret_exact_14[slice8],\n",
        "       simple_regret_exact_15[slice8],\n",
        "       simple_regret_exact_16[slice8],\n",
        "       simple_regret_exact_17[slice8],\n",
        "       simple_regret_exact_18[slice8],\n",
        "       simple_regret_exact_19[slice8],\n",
        "       simple_regret_exact_20[slice8]]\n",
        "\n",
        "approx8_results = pd.DataFrame(approx8).sort_values(by=[0], ascending=False)\n",
        "exact8_results = pd.DataFrame(exact8).sort_values(by=[0], ascending=False)\n",
        "\n",
        "### Best simple regret minimization IQR - approx:\n",
        "lower_approx8 = np.asarray(approx8_results[4:5][0])[0]\n",
        "median_approx8 = np.asarray(approx8_results[9:10][0])[0]\n",
        "upper_approx8 = np.asarray(approx8_results[14:15][0])[0]\n",
        "\n",
        "lower_exact8 = np.asarray(exact8_results[4:5][0])[0]\n",
        "median_exact8 = np.asarray(exact8_results[9:10][0])[0]\n",
        "upper_exact8 = np.asarray(exact8_results[14:15][0])[0]"
      ]
    },
    {
      "cell_type": "code",
      "execution_count": 91,
      "metadata": {
        "id": "2Dp-9CC2Qxf9"
      },
      "outputs": [],
      "source": [
        "# Iteration18 :\n",
        "\n",
        "slice18 = 17\n",
        "\n",
        "approx18 = [simple_regret_approx_1[slice18],\n",
        "       simple_regret_approx_2[slice18],\n",
        "       simple_regret_approx_3[slice18],\n",
        "       simple_regret_approx_4[slice18],\n",
        "       simple_regret_approx_5[slice18],\n",
        "       simple_regret_approx_6[slice18],\n",
        "       simple_regret_approx_7[slice18],\n",
        "       simple_regret_approx_8[slice18],\n",
        "       simple_regret_approx_9[slice18],\n",
        "       simple_regret_approx_10[slice18],\n",
        "       simple_regret_approx_11[slice18],\n",
        "       simple_regret_approx_12[slice18],\n",
        "       simple_regret_approx_13[slice18],\n",
        "       simple_regret_approx_14[slice18],\n",
        "       simple_regret_approx_15[slice18],\n",
        "       simple_regret_approx_16[slice18],\n",
        "       simple_regret_approx_17[slice18],\n",
        "       simple_regret_approx_18[slice18],\n",
        "       simple_regret_approx_19[slice18],\n",
        "       simple_regret_approx_20[slice18]]\n",
        "\n",
        "exact18 = [simple_regret_exact_1[slice18],\n",
        "       simple_regret_exact_2[slice18],\n",
        "       simple_regret_exact_3[slice18],\n",
        "       simple_regret_exact_4[slice18],\n",
        "       simple_regret_exact_5[slice18],\n",
        "       simple_regret_exact_6[slice18],\n",
        "       simple_regret_exact_7[slice18],\n",
        "       simple_regret_exact_8[slice18],\n",
        "       simple_regret_exact_9[slice18],\n",
        "       simple_regret_exact_10[slice18],\n",
        "       simple_regret_exact_11[slice18],\n",
        "       simple_regret_exact_12[slice18],\n",
        "       simple_regret_exact_13[slice18],\n",
        "       simple_regret_exact_14[slice18],\n",
        "       simple_regret_exact_15[slice18],\n",
        "       simple_regret_exact_16[slice18],\n",
        "       simple_regret_exact_17[slice18],\n",
        "       simple_regret_exact_18[slice18],\n",
        "       simple_regret_exact_19[slice18],\n",
        "       simple_regret_exact_20[slice18]]\n",
        "\n",
        "approx18_results = pd.DataFrame(approx18).sort_values(by=[0], ascending=False)\n",
        "exact18_results = pd.DataFrame(exact18).sort_values(by=[0], ascending=False)\n",
        "\n",
        "### Best simple regret minimization IQR - approx:\n",
        "lower_approx18 = np.asarray(approx18_results[4:5][0])[0]\n",
        "median_approx18 = np.asarray(approx18_results[9:10][0])[0]\n",
        "upper_approx18 = np.asarray(approx18_results[14:15][0])[0]\n",
        "\n",
        "lower_exact18 = np.asarray(exact18_results[4:5][0])[0]\n",
        "median_exact18 = np.asarray(exact18_results[9:10][0])[0]\n",
        "upper_exact18 = np.asarray(exact18_results[14:15][0])[0]"
      ]
    },
    {
      "cell_type": "code",
      "execution_count": 92,
      "metadata": {
        "id": "SqiaOpB7Qxf9"
      },
      "outputs": [],
      "source": [
        "# Iteration9 :\n",
        "\n",
        "slice9 = 8\n",
        "\n",
        "approx9 = [simple_regret_approx_1[slice9],\n",
        "       simple_regret_approx_2[slice9],\n",
        "       simple_regret_approx_3[slice9],\n",
        "       simple_regret_approx_4[slice9],\n",
        "       simple_regret_approx_5[slice9],\n",
        "       simple_regret_approx_6[slice9],\n",
        "       simple_regret_approx_7[slice9],\n",
        "       simple_regret_approx_8[slice9],\n",
        "       simple_regret_approx_9[slice9],\n",
        "       simple_regret_approx_10[slice9],\n",
        "       simple_regret_approx_11[slice9],\n",
        "       simple_regret_approx_12[slice9],\n",
        "       simple_regret_approx_13[slice9],\n",
        "       simple_regret_approx_14[slice9],\n",
        "       simple_regret_approx_15[slice9],\n",
        "       simple_regret_approx_16[slice9],\n",
        "       simple_regret_approx_17[slice9],\n",
        "       simple_regret_approx_18[slice9],\n",
        "       simple_regret_approx_19[slice9],\n",
        "       simple_regret_approx_20[slice9]]\n",
        "\n",
        "exact9 = [simple_regret_exact_1[slice9],\n",
        "       simple_regret_exact_2[slice9],\n",
        "       simple_regret_exact_3[slice9],\n",
        "       simple_regret_exact_4[slice9],\n",
        "       simple_regret_exact_5[slice9],\n",
        "       simple_regret_exact_6[slice9],\n",
        "       simple_regret_exact_7[slice9],\n",
        "       simple_regret_exact_8[slice9],\n",
        "       simple_regret_exact_9[slice9],\n",
        "       simple_regret_exact_10[slice9],\n",
        "       simple_regret_exact_11[slice9],\n",
        "       simple_regret_exact_12[slice9],\n",
        "       simple_regret_exact_13[slice9],\n",
        "       simple_regret_exact_14[slice9],\n",
        "       simple_regret_exact_15[slice9],\n",
        "       simple_regret_exact_16[slice9],\n",
        "       simple_regret_exact_17[slice9],\n",
        "       simple_regret_exact_18[slice9],\n",
        "       simple_regret_exact_19[slice9],\n",
        "       simple_regret_exact_20[slice9]]\n",
        "\n",
        "approx9_results = pd.DataFrame(approx9).sort_values(by=[0], ascending=False)\n",
        "exact9_results = pd.DataFrame(exact9).sort_values(by=[0], ascending=False)\n",
        "\n",
        "### Best simple regret minimization IQR - approx:\n",
        "lower_approx9 = np.asarray(approx9_results[4:5][0])[0]\n",
        "median_approx9 = np.asarray(approx9_results[9:10][0])[0]\n",
        "upper_approx9 = np.asarray(approx9_results[14:15][0])[0]\n",
        "\n",
        "lower_exact9 = np.asarray(exact9_results[4:5][0])[0]\n",
        "median_exact9 = np.asarray(exact9_results[9:10][0])[0]\n",
        "upper_exact9 = np.asarray(exact9_results[14:15][0])[0]"
      ]
    },
    {
      "cell_type": "code",
      "execution_count": 93,
      "metadata": {
        "id": "OQkCCOsPQxf9"
      },
      "outputs": [],
      "source": [
        "# Iteration19 :\n",
        "\n",
        "slice19 = 18\n",
        "\n",
        "approx19 = [simple_regret_approx_1[slice19],\n",
        "       simple_regret_approx_2[slice19],\n",
        "       simple_regret_approx_3[slice19],\n",
        "       simple_regret_approx_4[slice19],\n",
        "       simple_regret_approx_5[slice19],\n",
        "       simple_regret_approx_6[slice19],\n",
        "       simple_regret_approx_7[slice19],\n",
        "       simple_regret_approx_8[slice19],\n",
        "       simple_regret_approx_9[slice19],\n",
        "       simple_regret_approx_10[slice19],\n",
        "       simple_regret_approx_11[slice19],\n",
        "       simple_regret_approx_12[slice19],\n",
        "       simple_regret_approx_13[slice19],\n",
        "       simple_regret_approx_14[slice19],\n",
        "       simple_regret_approx_15[slice19],\n",
        "       simple_regret_approx_16[slice19],\n",
        "       simple_regret_approx_17[slice19],\n",
        "       simple_regret_approx_18[slice19],\n",
        "       simple_regret_approx_19[slice19],\n",
        "       simple_regret_approx_20[slice19]]\n",
        "\n",
        "exact19 = [simple_regret_exact_1[slice19],\n",
        "       simple_regret_exact_2[slice19],\n",
        "       simple_regret_exact_3[slice19],\n",
        "       simple_regret_exact_4[slice19],\n",
        "       simple_regret_exact_5[slice19],\n",
        "       simple_regret_exact_6[slice19],\n",
        "       simple_regret_exact_7[slice19],\n",
        "       simple_regret_exact_8[slice19],\n",
        "       simple_regret_exact_9[slice19],\n",
        "       simple_regret_exact_10[slice19],\n",
        "       simple_regret_exact_11[slice19],\n",
        "       simple_regret_exact_12[slice19],\n",
        "       simple_regret_exact_13[slice19],\n",
        "       simple_regret_exact_14[slice19],\n",
        "       simple_regret_exact_15[slice19],\n",
        "       simple_regret_exact_16[slice19],\n",
        "       simple_regret_exact_17[slice19],\n",
        "       simple_regret_exact_18[slice19],\n",
        "       simple_regret_exact_19[slice19],\n",
        "       simple_regret_exact_20[slice19]]\n",
        "\n",
        "approx19_results = pd.DataFrame(approx19).sort_values(by=[0], ascending=False)\n",
        "exact19_results = pd.DataFrame(exact19).sort_values(by=[0], ascending=False)\n",
        "\n",
        "### Best simple regret minimization IQR - approx:\n",
        "lower_approx19 = np.asarray(approx19_results[4:5][0])[0]\n",
        "median_approx19 = np.asarray(approx19_results[9:10][0])[0]\n",
        "upper_approx19 = np.asarray(approx19_results[14:15][0])[0]\n",
        "\n",
        "lower_exact19 = np.asarray(exact19_results[4:5][0])[0]\n",
        "median_exact19 = np.asarray(exact19_results[9:10][0])[0]\n",
        "upper_exact19 = np.asarray(exact19_results[14:15][0])[0]"
      ]
    },
    {
      "cell_type": "code",
      "execution_count": 94,
      "metadata": {
        "id": "h4vtWahcQxf-"
      },
      "outputs": [],
      "source": [
        "# Iteration10 :\n",
        "\n",
        "slice10 = 9\n",
        "\n",
        "approx10 = [simple_regret_approx_1[slice10],\n",
        "       simple_regret_approx_2[slice10],\n",
        "       simple_regret_approx_3[slice10],\n",
        "       simple_regret_approx_4[slice10],\n",
        "       simple_regret_approx_5[slice10],\n",
        "       simple_regret_approx_6[slice10],\n",
        "       simple_regret_approx_7[slice10],\n",
        "       simple_regret_approx_8[slice10],\n",
        "       simple_regret_approx_9[slice10],\n",
        "       simple_regret_approx_10[slice10],\n",
        "       simple_regret_approx_11[slice10],\n",
        "       simple_regret_approx_12[slice10],\n",
        "       simple_regret_approx_13[slice10],\n",
        "       simple_regret_approx_14[slice10],\n",
        "       simple_regret_approx_15[slice10],\n",
        "       simple_regret_approx_16[slice10],\n",
        "       simple_regret_approx_17[slice10],\n",
        "       simple_regret_approx_18[slice10],\n",
        "       simple_regret_approx_19[slice10],\n",
        "       simple_regret_approx_20[slice10]]\n",
        "\n",
        "exact10 = [simple_regret_exact_1[slice10],\n",
        "       simple_regret_exact_2[slice10],\n",
        "       simple_regret_exact_3[slice10],\n",
        "       simple_regret_exact_4[slice10],\n",
        "       simple_regret_exact_5[slice10],\n",
        "       simple_regret_exact_6[slice10],\n",
        "       simple_regret_exact_7[slice10],\n",
        "       simple_regret_exact_8[slice10],\n",
        "       simple_regret_exact_9[slice10],\n",
        "       simple_regret_exact_10[slice10],\n",
        "       simple_regret_exact_11[slice10],\n",
        "       simple_regret_exact_12[slice10],\n",
        "       simple_regret_exact_13[slice10],\n",
        "       simple_regret_exact_14[slice10],\n",
        "       simple_regret_exact_15[slice10],\n",
        "       simple_regret_exact_16[slice10],\n",
        "       simple_regret_exact_17[slice10],\n",
        "       simple_regret_exact_18[slice10],\n",
        "       simple_regret_exact_19[slice10],\n",
        "       simple_regret_exact_20[slice10]]\n",
        "\n",
        "approx10_results = pd.DataFrame(approx10).sort_values(by=[0], ascending=False)\n",
        "exact10_results = pd.DataFrame(exact10).sort_values(by=[0], ascending=False)\n",
        "\n",
        "### Best simple regret minimization IQR - approx:\n",
        "lower_approx10 = np.asarray(approx10_results[4:5][0])[0]\n",
        "median_approx10 = np.asarray(approx10_results[9:10][0])[0]\n",
        "upper_approx10 = np.asarray(approx10_results[14:15][0])[0]\n",
        "\n",
        "lower_exact10 = np.asarray(exact10_results[4:5][0])[0]\n",
        "median_exact10 = np.asarray(exact10_results[9:10][0])[0]\n",
        "upper_exact10 = np.asarray(exact10_results[14:15][0])[0]"
      ]
    },
    {
      "cell_type": "code",
      "execution_count": 95,
      "metadata": {
        "id": "Rsf240pWQxf-"
      },
      "outputs": [],
      "source": [
        "# Iteration20 :\n",
        "\n",
        "slice20 = 19\n",
        "\n",
        "approx20 = [simple_regret_approx_1[slice20],\n",
        "       simple_regret_approx_2[slice20],\n",
        "       simple_regret_approx_3[slice20],\n",
        "       simple_regret_approx_4[slice20],\n",
        "       simple_regret_approx_5[slice20],\n",
        "       simple_regret_approx_6[slice20],\n",
        "       simple_regret_approx_7[slice20],\n",
        "       simple_regret_approx_8[slice20],\n",
        "       simple_regret_approx_9[slice20],\n",
        "       simple_regret_approx_10[slice20],\n",
        "       simple_regret_approx_11[slice20],\n",
        "       simple_regret_approx_12[slice20],\n",
        "       simple_regret_approx_13[slice20],\n",
        "       simple_regret_approx_14[slice20],\n",
        "       simple_regret_approx_15[slice20],\n",
        "       simple_regret_approx_16[slice20],\n",
        "       simple_regret_approx_17[slice20],\n",
        "       simple_regret_approx_18[slice20],\n",
        "       simple_regret_approx_19[slice20],\n",
        "       simple_regret_approx_20[slice20]]\n",
        "\n",
        "exact20 = [simple_regret_exact_1[slice20],\n",
        "       simple_regret_exact_2[slice20],\n",
        "       simple_regret_exact_3[slice20],\n",
        "       simple_regret_exact_4[slice20],\n",
        "       simple_regret_exact_5[slice20],\n",
        "       simple_regret_exact_6[slice20],\n",
        "       simple_regret_exact_7[slice20],\n",
        "       simple_regret_exact_8[slice20],\n",
        "       simple_regret_exact_9[slice20],\n",
        "       simple_regret_exact_10[slice20],\n",
        "       simple_regret_exact_11[slice20],\n",
        "       simple_regret_exact_12[slice20],\n",
        "       simple_regret_exact_13[slice20],\n",
        "       simple_regret_exact_14[slice20],\n",
        "       simple_regret_exact_15[slice20],\n",
        "       simple_regret_exact_16[slice20],\n",
        "       simple_regret_exact_17[slice20],\n",
        "       simple_regret_exact_18[slice20],\n",
        "       simple_regret_exact_19[slice20],\n",
        "       simple_regret_exact_20[slice20]]\n",
        "\n",
        "approx20_results = pd.DataFrame(approx20).sort_values(by=[0], ascending=False)\n",
        "exact20_results = pd.DataFrame(exact20).sort_values(by=[0], ascending=False)\n",
        "\n",
        "### Best simple regret minimization IQR - approx:\n",
        "lower_approx20 = np.asarray(approx20_results[4:5][0])[0]\n",
        "median_approx20 = np.asarray(approx20_results[9:10][0])[0]\n",
        "upper_approx20 = np.asarray(approx20_results[14:15][0])[0]\n",
        "\n",
        "lower_exact20 = np.asarray(exact20_results[4:5][0])[0]\n",
        "median_exact20 = np.asarray(exact20_results[9:10][0])[0]\n",
        "upper_exact20 = np.asarray(exact20_results[14:15][0])[0]"
      ]
    },
    {
      "cell_type": "code",
      "execution_count": 96,
      "metadata": {
        "id": "gn36RejbQxf_"
      },
      "outputs": [],
      "source": [
        "### Summarize arrays: 'Loser'\n",
        "\n",
        "lower_approx = [lower_approx1,\n",
        "            lower_approx2,\n",
        "            lower_approx3,\n",
        "            lower_approx4,\n",
        "            lower_approx5,\n",
        "            lower_approx6,\n",
        "            lower_approx7,\n",
        "            lower_approx8,\n",
        "            lower_approx9,\n",
        "            lower_approx10,\n",
        "            lower_approx11,\n",
        "            lower_approx12,\n",
        "            lower_approx13,\n",
        "            lower_approx14,\n",
        "            lower_approx15,\n",
        "            lower_approx16,\n",
        "            lower_approx17,\n",
        "            lower_approx18,\n",
        "            lower_approx19,\n",
        "            lower_approx20,\n",
        "            lower_approx21]\n",
        "\n",
        "median_approx = [median_approx1,\n",
        "            median_approx2,\n",
        "            median_approx3,\n",
        "            median_approx4,\n",
        "            median_approx5,\n",
        "            median_approx6,\n",
        "            median_approx7,\n",
        "            median_approx8,\n",
        "            median_approx9,\n",
        "            median_approx10,\n",
        "            median_approx11,\n",
        "            median_approx12,\n",
        "            median_approx13,\n",
        "            median_approx14,\n",
        "            median_approx15,\n",
        "            median_approx16,\n",
        "            median_approx17,\n",
        "            median_approx18,\n",
        "            median_approx19,\n",
        "            median_approx20,\n",
        "            median_approx21]\n",
        "\n",
        "upper_approx = [upper_approx1,\n",
        "            upper_approx2,\n",
        "            upper_approx3,\n",
        "            upper_approx4,\n",
        "            upper_approx5,\n",
        "            upper_approx6,\n",
        "            upper_approx7,\n",
        "            upper_approx8,\n",
        "            upper_approx9,\n",
        "            upper_approx10,\n",
        "            upper_approx11,\n",
        "            upper_approx12,\n",
        "            upper_approx13,\n",
        "            upper_approx14,\n",
        "            upper_approx15,\n",
        "            upper_approx16,\n",
        "            upper_approx17,\n",
        "            upper_approx18,\n",
        "            upper_approx19,\n",
        "            upper_approx20,\n",
        "            upper_approx21]"
      ]
    },
    {
      "cell_type": "code",
      "execution_count": 97,
      "metadata": {
        "id": "wxtGTOYfQxf_"
      },
      "outputs": [],
      "source": [
        "### Summarize arrays: 'exact'\n",
        "\n",
        "lower_exact = [lower_exact1,\n",
        "            lower_exact2,\n",
        "            lower_exact3,\n",
        "            lower_exact4,\n",
        "            lower_exact5,\n",
        "            lower_exact6,\n",
        "            lower_exact7,\n",
        "            lower_exact8,\n",
        "            lower_exact9,\n",
        "            lower_exact10,\n",
        "            lower_exact11,\n",
        "            lower_exact12,\n",
        "            lower_exact13,\n",
        "            lower_exact14,\n",
        "            lower_exact15,\n",
        "            lower_exact16,\n",
        "            lower_exact17,\n",
        "            lower_exact18,\n",
        "            lower_exact19,\n",
        "            lower_exact20,\n",
        "            lower_exact21]\n",
        "\n",
        "median_exact = [median_exact1,\n",
        "            median_exact2,\n",
        "            median_exact3,\n",
        "            median_exact4,\n",
        "            median_exact5,\n",
        "            median_exact6,\n",
        "            median_exact7,\n",
        "            median_exact8,\n",
        "            median_exact9,\n",
        "            median_exact10,\n",
        "            median_exact11,\n",
        "            median_exact12,\n",
        "            median_exact13,\n",
        "            median_exact14,\n",
        "            median_exact15,\n",
        "            median_exact16,\n",
        "            median_exact17,\n",
        "            median_exact18,\n",
        "            median_exact19,\n",
        "            median_exact20,\n",
        "            median_exact21]\n",
        "\n",
        "upper_exact = [upper_exact1,\n",
        "            upper_exact2,\n",
        "            upper_exact3,\n",
        "            upper_exact4,\n",
        "            upper_exact5,\n",
        "            upper_exact6,\n",
        "            upper_exact7,\n",
        "            upper_exact8,\n",
        "            upper_exact9,\n",
        "            upper_exact10,\n",
        "            upper_exact11,\n",
        "            upper_exact12,\n",
        "            upper_exact13,\n",
        "            upper_exact14,\n",
        "            upper_exact15,\n",
        "            upper_exact16,\n",
        "            upper_exact17,\n",
        "            upper_exact18,\n",
        "            upper_exact19,\n",
        "            upper_exact20,\n",
        "            upper_exact21]"
      ]
    },
    {
      "cell_type": "code",
      "execution_count": 122,
      "metadata": {
        "id": "2MONq-BXQxgA",
        "colab": {
          "base_uri": "https://localhost:8080/",
          "height": 299
        },
        "outputId": "cbf55ccb-c926-4446-aa5d-466d82ad58ab"
      },
      "outputs": [
        {
          "output_type": "display_data",
          "data": {
            "text/plain": [
              "<Figure size 432x288 with 1 Axes>"
            ],
            "image/png": "[encoded data removed]"
          },
          "metadata": {
            "needs_background": "light"
          }
        }
      ],
      "source": [
        "### Visualise!\n",
        "\n",
        "title = func\n",
        "plt.figure()\n",
        "\n",
        "plt.plot(median_approx, color = 'Yellow', ls='--')\n",
        "plt.plot(median_exact, color = 'Red', ls='--')\n",
        "\n",
        "xstar = np.arange(0, iters+1, step=1)\n",
        "plt.fill_between(xstar, lower_approx, upper_approx, facecolor = 'Yellow', alpha=0.4, label='STP EI Optimisation: Approx STP EI gradients ' r'($\\nu$' ' = {})'.format(df))\n",
        "plt.fill_between(xstar, lower_exact, upper_exact, facecolor = 'Red', alpha=0.4, label='STP EI Optimisation: Exact STP dEI gradients ' r'($\\nu$' ' = {})'.format(df))\n",
        "\n",
        "plt.title(title, weight = 'bold')\n",
        "plt.xlabel('(Post-initialisation) iteration $\\it{k}$', weight = 'bold')\n",
        "plt.ylabel('log(Regret)', weight = 'bold') \n",
        "plt.legend(loc=1) # add plot legend\n",
        "\n",
        "### Make the x-ticks integers, not floats:\n",
        "count = len(xstar)\n",
        "plt.xticks(np.arange(count), np.arange(0, count))\n",
        "plt.show() #visualise!\n"
      ]
    },
    {
      "cell_type": "code",
      "execution_count": 99,
      "metadata": {
        "id": "l5dkR2Id2oiu",
        "colab": {
          "base_uri": "https://localhost:8080/"
        },
        "outputId": "89061933-b911-4899-c694-cf425c560ec3"
      },
      "outputs": [
        {
          "output_type": "execute_result",
          "data": {
            "text/plain": [
              "(1290.7058041095734, 1230.6605639457703)"
            ]
          },
          "metadata": {},
          "execution_count": 99
        }
      ],
      "source": [
        "time_approx, time_exact\n"
      ]
    },
    {
      "cell_type": "code",
      "source": [
        "### acqFunc attribute x, stddev: run number = 1\n",
        "\n",
        "acqFuncApprox_exact_1 = acqFuncApprox(exact_1.history)\n",
        "acqFuncExact_exact_1 = acqFuncExact(exact_1.history)\n",
        "\n",
        "e1 = np.mean(acqFuncExact_exact_1)\n",
        "a1 = np.mean(acqFuncApprox_exact_1)\n",
        "\n",
        "e1, a1\n"
      ],
      "metadata": {
        "id": "uwxv4dmfGsLr",
        "colab": {
          "base_uri": "https://localhost:8080/"
        },
        "outputId": "aca52651-63f9-48c2-923a-3a4c706fbd8a"
      },
      "execution_count": 100,
      "outputs": [
        {
          "output_type": "execute_result",
          "data": {
            "text/plain": [
              "(6.008588952155462, 6.865977540958431)"
            ]
          },
          "metadata": {},
          "execution_count": 100
        }
      ]
    },
    {
      "cell_type": "code",
      "source": [
        "### acqFunc attribute x, stddev: run number = 2\n",
        "\n",
        "acqFuncApprox_exact_2 = acqFuncApprox(exact_2.history)\n",
        "acqFuncExact_exact_2 = acqFuncExact(exact_2.history)\n",
        "\n",
        "e2 = np.mean(acqFuncExact_exact_2)\n",
        "a2 = np.mean(acqFuncApprox_exact_2)\n",
        "\n",
        "e2, a2\n"
      ],
      "metadata": {
        "id": "0YSV00_pGsXe",
        "colab": {
          "base_uri": "https://localhost:8080/"
        },
        "outputId": "bd9d575c-945c-4669-f695-ff24a613fd74"
      },
      "execution_count": 101,
      "outputs": [
        {
          "output_type": "execute_result",
          "data": {
            "text/plain": [
              "(5.896768898104499, 6.641469201110364)"
            ]
          },
          "metadata": {},
          "execution_count": 101
        }
      ]
    },
    {
      "cell_type": "code",
      "source": [
        "### acqFunc attribute x, stddev: run number = 3\n",
        "\n",
        "acqFuncApprox_exact_3 = acqFuncApprox(exact_3.history)\n",
        "acqFuncExact_exact_3 = acqFuncExact(exact_3.history)\n",
        "\n",
        "e3 = np.mean(acqFuncExact_exact_3)\n",
        "a3 = np.mean(acqFuncApprox_exact_3)\n",
        "\n",
        "e3, a3\n"
      ],
      "metadata": {
        "id": "HHVmsd2UGsjT",
        "colab": {
          "base_uri": "https://localhost:8080/"
        },
        "outputId": "399549af-525c-448f-92ec-7d2c90b0a044"
      },
      "execution_count": 102,
      "outputs": [
        {
          "output_type": "execute_result",
          "data": {
            "text/plain": [
              "(6.111772102049055, 6.473803384088773)"
            ]
          },
          "metadata": {},
          "execution_count": 102
        }
      ]
    },
    {
      "cell_type": "code",
      "source": [
        "### acqFunc attribute x, stddev: run number = 4\n",
        "\n",
        "acqFuncApprox_exact_4 = acqFuncApprox(exact_4.history)\n",
        "acqFuncExact_exact_4 = acqFuncExact(exact_4.history)\n",
        "\n",
        "e4 = np.mean(acqFuncExact_exact_4)\n",
        "a4 = np.mean(acqFuncApprox_exact_4)\n",
        "\n",
        "e4, a4\n"
      ],
      "metadata": {
        "id": "r7O19S2eGsu7",
        "colab": {
          "base_uri": "https://localhost:8080/"
        },
        "outputId": "5575a665-5992-45bf-b04c-490eadeb2c19"
      },
      "execution_count": 103,
      "outputs": [
        {
          "output_type": "execute_result",
          "data": {
            "text/plain": [
              "(5.500962485931401, 6.2723452293456585)"
            ]
          },
          "metadata": {},
          "execution_count": 103
        }
      ]
    },
    {
      "cell_type": "code",
      "source": [
        "### acqFunc attribute x, stddev: run number = 5\n",
        "\n",
        "acqFuncApprox_exact_5 = acqFuncApprox(exact_5.history)\n",
        "acqFuncExact_exact_5 = acqFuncExact(exact_5.history)\n",
        "\n",
        "e5 = np.mean(acqFuncExact_exact_5)\n",
        "a5 = np.mean(acqFuncApprox_exact_5)\n",
        "\n",
        "e5, a5\n"
      ],
      "metadata": {
        "id": "sdb9o6NuGs5m",
        "colab": {
          "base_uri": "https://localhost:8080/"
        },
        "outputId": "d55a7fa3-e3cc-4892-e1b8-d2239ff372e5"
      },
      "execution_count": 104,
      "outputs": [
        {
          "output_type": "execute_result",
          "data": {
            "text/plain": [
              "(5.838159956370899, 6.699932579462898)"
            ]
          },
          "metadata": {},
          "execution_count": 104
        }
      ]
    },
    {
      "cell_type": "code",
      "source": [
        "### acqFunc attribute x, stddev: run number = 6\n",
        "\n",
        "acqFuncApprox_exact_6 = acqFuncApprox(exact_6.history)\n",
        "acqFuncExact_exact_6 = acqFuncExact(exact_6.history)\n",
        "\n",
        "e6 = np.mean(acqFuncExact_exact_6)\n",
        "a6 = np.mean(acqFuncApprox_exact_6)\n",
        "\n",
        "e6, a6\n"
      ],
      "metadata": {
        "id": "COQl7LZ8GtE0",
        "colab": {
          "base_uri": "https://localhost:8080/"
        },
        "outputId": "17dc3bd1-8472-46ae-f7f1-e313c04734c1"
      },
      "execution_count": 105,
      "outputs": [
        {
          "output_type": "execute_result",
          "data": {
            "text/plain": [
              "(6.04779985739457, 6.4073035598670405)"
            ]
          },
          "metadata": {},
          "execution_count": 105
        }
      ]
    },
    {
      "cell_type": "code",
      "source": [
        "### acqFunc attribute x, stddev: run number = 7\n",
        "\n",
        "acqFuncApprox_exact_7 = acqFuncApprox(exact_7.history)\n",
        "acqFuncExact_exact_7 = acqFuncExact(exact_7.history)\n",
        "\n",
        "e7 = np.mean(acqFuncExact_exact_7)\n",
        "a7 = np.mean(acqFuncApprox_exact_7)\n",
        "\n",
        "e7, a7\n"
      ],
      "metadata": {
        "id": "2gy9EtTzGtP7",
        "colab": {
          "base_uri": "https://localhost:8080/"
        },
        "outputId": "18dbcec0-aaaa-4b44-d429-f8da0d7dddcf"
      },
      "execution_count": 106,
      "outputs": [
        {
          "output_type": "execute_result",
          "data": {
            "text/plain": [
              "(5.73167458820208, 6.6776353162532285)"
            ]
          },
          "metadata": {},
          "execution_count": 106
        }
      ]
    },
    {
      "cell_type": "code",
      "source": [
        "### acqFunc attribute x, stddev: run number = 8\n",
        "\n",
        "acqFuncApprox_exact_8 = acqFuncApprox(exact_8.history)\n",
        "acqFuncExact_exact_8 = acqFuncExact(exact_8.history)\n",
        "\n",
        "e8 = np.mean(acqFuncExact_exact_8)\n",
        "a8 = np.mean(acqFuncApprox_exact_8)\n",
        "\n",
        "e8, a8\n"
      ],
      "metadata": {
        "id": "S7mn0qoMGtbM",
        "colab": {
          "base_uri": "https://localhost:8080/"
        },
        "outputId": "10cb3a49-666e-44d0-85c6-1b8ca91326a5"
      },
      "execution_count": 107,
      "outputs": [
        {
          "output_type": "execute_result",
          "data": {
            "text/plain": [
              "(6.66324938839268, 6.568358283503275)"
            ]
          },
          "metadata": {},
          "execution_count": 107
        }
      ]
    },
    {
      "cell_type": "code",
      "source": [
        "### acqFunc attribute x, stddev: run number = 9\n",
        "\n",
        "acqFuncApprox_exact_9 = acqFuncApprox(exact_9.history)\n",
        "acqFuncExact_exact_9 = acqFuncExact(exact_9.history)\n",
        "\n",
        "e9 = np.mean(acqFuncExact_exact_9)\n",
        "a9 = np.mean(acqFuncApprox_exact_9)\n",
        "\n",
        "e9, a9\n"
      ],
      "metadata": {
        "id": "BhljmkNxGtms",
        "colab": {
          "base_uri": "https://localhost:8080/"
        },
        "outputId": "f136fd20-c44a-4534-98bf-120048035df3"
      },
      "execution_count": 108,
      "outputs": [
        {
          "output_type": "execute_result",
          "data": {
            "text/plain": [
              "(5.579881563482404, 6.757456056461736)"
            ]
          },
          "metadata": {},
          "execution_count": 108
        }
      ]
    },
    {
      "cell_type": "code",
      "source": [
        "### acqFunc attribute x, stddev: run number = 10\n",
        "\n",
        "acqFuncApprox_exact_10 = acqFuncApprox(exact_10.history)\n",
        "acqFuncExact_exact_10 = acqFuncExact(exact_10.history)\n",
        "\n",
        "e10 = np.mean(acqFuncExact_exact_10)\n",
        "a10 = np.mean(acqFuncApprox_exact_10)\n",
        "\n",
        "e10, a10\n"
      ],
      "metadata": {
        "id": "W5GZo6k3Gtx8",
        "colab": {
          "base_uri": "https://localhost:8080/"
        },
        "outputId": "0541f239-9bec-4f57-da78-2031e56982ff"
      },
      "execution_count": 109,
      "outputs": [
        {
          "output_type": "execute_result",
          "data": {
            "text/plain": [
              "(6.499376571218386, 6.854578732195824)"
            ]
          },
          "metadata": {},
          "execution_count": 109
        }
      ]
    },
    {
      "cell_type": "code",
      "source": [
        "### acqFunc attribute x, stddev: run number = 11\n",
        "\n",
        "acqFuncApprox_exact_11 = acqFuncApprox(exact_11.history)\n",
        "acqFuncExact_exact_11 = acqFuncExact(exact_11.history)\n",
        "\n",
        "e11 = np.mean(acqFuncExact_exact_11)\n",
        "a11 = np.mean(acqFuncApprox_exact_11)\n",
        "\n",
        "e11, a11\n"
      ],
      "metadata": {
        "id": "isKNhDk5Gt9D",
        "colab": {
          "base_uri": "https://localhost:8080/"
        },
        "outputId": "00ff125a-1011-4be3-99f5-3912cc9f539a"
      },
      "execution_count": 110,
      "outputs": [
        {
          "output_type": "execute_result",
          "data": {
            "text/plain": [
              "(6.474313181979109, 7.060768310191969)"
            ]
          },
          "metadata": {},
          "execution_count": 110
        }
      ]
    },
    {
      "cell_type": "code",
      "source": [
        "### acqFunc attribute x, stddev: run number = 12\n",
        "\n",
        "acqFuncApprox_exact_12 = acqFuncApprox(exact_12.history)\n",
        "acqFuncExact_exact_12 = acqFuncExact(exact_12.history)\n",
        "\n",
        "e12 = np.mean(acqFuncExact_exact_12)\n",
        "a12 = np.mean(acqFuncApprox_exact_12)\n",
        "\n",
        "e12, a12\n"
      ],
      "metadata": {
        "id": "8ts-wrSuGuIm",
        "colab": {
          "base_uri": "https://localhost:8080/"
        },
        "outputId": "80fcca4e-316f-40dc-fab3-6c2c39f50cb2"
      },
      "execution_count": 111,
      "outputs": [
        {
          "output_type": "execute_result",
          "data": {
            "text/plain": [
              "(5.570919655103195, 6.0770648512630405)"
            ]
          },
          "metadata": {},
          "execution_count": 111
        }
      ]
    },
    {
      "cell_type": "code",
      "source": [
        "### acqFunc attribute x, stddev: run number = 13\n",
        "\n",
        "acqFuncApprox_exact_13 = acqFuncApprox(exact_13.history)\n",
        "acqFuncExact_exact_13 = acqFuncExact(exact_13.history)\n",
        "\n",
        "e13 = np.mean(acqFuncExact_exact_13)\n",
        "a13 = np.mean(acqFuncApprox_exact_13)\n",
        "\n",
        "e13, a13\n"
      ],
      "metadata": {
        "id": "n0drhEe3GuUL",
        "colab": {
          "base_uri": "https://localhost:8080/"
        },
        "outputId": "805da836-8e86-446d-b365-99381928c48e"
      },
      "execution_count": 112,
      "outputs": [
        {
          "output_type": "execute_result",
          "data": {
            "text/plain": [
              "(6.217067110316198, 6.910113367083445)"
            ]
          },
          "metadata": {},
          "execution_count": 112
        }
      ]
    },
    {
      "cell_type": "code",
      "source": [
        "### acqFunc attribute x, stddev: run number = 14\n",
        "\n",
        "acqFuncApprox_exact_14 = acqFuncApprox(exact_14.history)\n",
        "acqFuncExact_exact_14 = acqFuncExact(exact_14.history)\n",
        "\n",
        "e14 = np.mean(acqFuncExact_exact_14)\n",
        "a14 = np.mean(acqFuncApprox_exact_14)\n",
        "\n",
        "e14, a14\n"
      ],
      "metadata": {
        "id": "R0W3MZaVGues",
        "colab": {
          "base_uri": "https://localhost:8080/"
        },
        "outputId": "03eb7b24-c126-4219-86dc-a56baa30ec0f"
      },
      "execution_count": 113,
      "outputs": [
        {
          "output_type": "execute_result",
          "data": {
            "text/plain": [
              "(5.6849839746458, 6.470703250841811)"
            ]
          },
          "metadata": {},
          "execution_count": 113
        }
      ]
    },
    {
      "cell_type": "code",
      "source": [
        "### acqFunc attribute x, stddev: run number = 15\n",
        "\n",
        "acqFuncApprox_exact_15 = acqFuncApprox(exact_15.history)\n",
        "acqFuncExact_exact_15 = acqFuncExact(exact_15.history)\n",
        "\n",
        "e15 = np.mean(acqFuncExact_exact_15)\n",
        "a15 = np.mean(acqFuncApprox_exact_15)\n",
        "\n",
        "e15, a15\n"
      ],
      "metadata": {
        "id": "DoXdDFHoGup-",
        "colab": {
          "base_uri": "https://localhost:8080/"
        },
        "outputId": "29c4cd3c-de1d-4157-daa4-cefaa92e3b09"
      },
      "execution_count": 114,
      "outputs": [
        {
          "output_type": "execute_result",
          "data": {
            "text/plain": [
              "(5.782212023570173, 6.519332331555987)"
            ]
          },
          "metadata": {},
          "execution_count": 114
        }
      ]
    },
    {
      "cell_type": "code",
      "source": [
        "### acqFunc attribute x, stddev: run number = 16\n",
        "\n",
        "acqFuncApprox_exact_16 = acqFuncApprox(exact_16.history)\n",
        "acqFuncExact_exact_16 = acqFuncExact(exact_16.history)\n",
        "\n",
        "e16 = np.mean(acqFuncExact_exact_16)\n",
        "a16 = np.mean(acqFuncApprox_exact_16)\n",
        "\n",
        "e16, a16\n"
      ],
      "metadata": {
        "id": "K_wAeqSoGu2j",
        "colab": {
          "base_uri": "https://localhost:8080/"
        },
        "outputId": "666edf6c-698c-422a-ca4d-df1300303122"
      },
      "execution_count": 115,
      "outputs": [
        {
          "output_type": "execute_result",
          "data": {
            "text/plain": [
              "(5.626440114679046, 6.479939343754715)"
            ]
          },
          "metadata": {},
          "execution_count": 115
        }
      ]
    },
    {
      "cell_type": "code",
      "source": [
        "### acqFunc attribute x, stddev: run number = 17\n",
        "\n",
        "acqFuncApprox_exact_17 = acqFuncApprox(exact_17.history)\n",
        "acqFuncExact_exact_17 = acqFuncExact(exact_17.history)\n",
        "\n",
        "e17 = np.mean(acqFuncExact_exact_17)\n",
        "a17 = np.mean(acqFuncApprox_exact_17)\n",
        "\n",
        "e17, a17\n"
      ],
      "metadata": {
        "id": "n6zy78fjGvBT",
        "colab": {
          "base_uri": "https://localhost:8080/"
        },
        "outputId": "29bf83ca-39e0-4386-e88b-8d3f5b0c23b1"
      },
      "execution_count": 116,
      "outputs": [
        {
          "output_type": "execute_result",
          "data": {
            "text/plain": [
              "(5.772502370550444, 6.654600961952101)"
            ]
          },
          "metadata": {},
          "execution_count": 116
        }
      ]
    },
    {
      "cell_type": "code",
      "source": [
        "### acqFunc attribute x, stddev: run number = 18\n",
        "\n",
        "acqFuncApprox_exact_18 = acqFuncApprox(exact_18.history)\n",
        "acqFuncExact_exact_18 = acqFuncExact(exact_18.history)\n",
        "\n",
        "e18 = np.mean(acqFuncExact_exact_18)\n",
        "a18 = np.mean(acqFuncApprox_exact_18)\n",
        "\n",
        "e18, a18\n"
      ],
      "metadata": {
        "id": "s_6_2K4iGvM-",
        "colab": {
          "base_uri": "https://localhost:8080/"
        },
        "outputId": "db24daa7-f100-4b55-b6b0-532a1f60374e"
      },
      "execution_count": 117,
      "outputs": [
        {
          "output_type": "execute_result",
          "data": {
            "text/plain": [
              "(6.0763726418853485, 6.859779803269726)"
            ]
          },
          "metadata": {},
          "execution_count": 117
        }
      ]
    },
    {
      "cell_type": "code",
      "source": [
        "### acqFunc attribute x, stddev: run number = 19\n",
        "\n",
        "acqFuncApprox_exact_19 = acqFuncApprox(exact_19.history)\n",
        "acqFuncExact_exact_19 = acqFuncExact(exact_19.history)\n",
        "\n",
        "e19 = np.mean(acqFuncExact_exact_19)\n",
        "a19 = np.mean(acqFuncApprox_exact_19)\n",
        "\n",
        "e19, a19\n"
      ],
      "metadata": {
        "id": "o8oO8pdBGvYk",
        "colab": {
          "base_uri": "https://localhost:8080/"
        },
        "outputId": "74f87aa1-19c9-40b5-d2c5-191fa7ac437f"
      },
      "execution_count": 118,
      "outputs": [
        {
          "output_type": "execute_result",
          "data": {
            "text/plain": [
              "(5.691407463016131, 6.768896680633199)"
            ]
          },
          "metadata": {},
          "execution_count": 118
        }
      ]
    },
    {
      "cell_type": "code",
      "source": [
        "### acqFunc attribute x, stddev: run number = 20\n",
        "\n",
        "acqFuncApprox_exact_20 = acqFuncApprox(exact_20.history)\n",
        "acqFuncExact_exact_20 = acqFuncExact(exact_20.history)\n",
        "\n",
        "e20 = np.mean(acqFuncExact_exact_20)\n",
        "a20 = np.mean(acqFuncApprox_exact_20)\n",
        "\n",
        "e20, a20\n"
      ],
      "metadata": {
        "id": "b2w8oLc0IMzU",
        "colab": {
          "base_uri": "https://localhost:8080/"
        },
        "outputId": "fc7df70d-b178-48e5-8059-4883b256ec0e"
      },
      "execution_count": 119,
      "outputs": [
        {
          "output_type": "execute_result",
          "data": {
            "text/plain": [
              "(6.30424285004779, 6.644974752596904)"
            ]
          },
          "metadata": {},
          "execution_count": 119
        }
      ]
    },
    {
      "cell_type": "code",
      "source": [
        "### Summarize arrays: \n",
        "\n",
        "exact_stddev = np.sort([e1,e2,e3,e4,e5,e6,e7,e8,e9,e10,e11,e12,e13,e14,e15,e16,e17,e18,e19,e20])\n",
        "approx_stddev = np.sort([a1,a2,a3,a4,a5,a6,a7,a8,a9,a10,a11,a12,a13,a14,a15,a16,a17,a18,a19,a20])\n",
        "\n",
        "np.mean(exact_stddev), np.mean(approx_stddev)\n"
      ],
      "metadata": {
        "id": "qAZs3yxMIZul",
        "colab": {
          "base_uri": "https://localhost:8080/"
        },
        "outputId": "8c31f38e-ff30-4277-afff-ab5ebc1d1349"
      },
      "execution_count": 120,
      "outputs": [
        {
          "output_type": "execute_result",
          "data": {
            "text/plain": [
              "(5.953934787454734, 6.633251676819505)"
            ]
          },
          "metadata": {},
          "execution_count": 120
        }
      ]
    },
    {
      "cell_type": "code",
      "source": [
        "### Visualise!\n",
        "\n",
        "title = func\n",
        "plt.figure()\n",
        "\n",
        "plt.plot(approx_stddev, color = 'Yellow', ls='--', label='Average $\\sigma$, attribute $\\mathbf{x}$: Approx STP EI gradients')\n",
        "plt.plot(exact_stddev, color = 'Red', ls='-', label='Average $\\sigma$, attribute $\\mathbf{x}$: Exact STP dEI gradients')\n",
        "\n",
        "plt.title(title, weight = 'bold')\n",
        "plt.xlabel('Function evaluations: iteration $\\it{k}$', weight = 'bold')\n",
        "plt.ylabel('STP EI: Average $\\sigma$, attribute $\\mathbf{x}$', weight = 'bold') \n",
        "plt.legend(loc=0) # add plot legend\n",
        "\n",
        "### Make the x-ticks integers, not floats:\n",
        "count = len(xstar)\n",
        "plt.xticks(np.arange(count), np.arange(1, count))\n",
        "plt.show() #visualize!\n"
      ],
      "metadata": {
        "id": "e_kpqYcMIZxu",
        "colab": {
          "base_uri": "https://localhost:8080/",
          "height": 297
        },
        "outputId": "cb30d8f3-7bf4-4bb5-cfce-80d041edf49a"
      },
      "execution_count": 121,
      "outputs": [
        {
          "output_type": "display_data",
          "data": {
            "text/plain": [
              "<Figure size 432x288 with 1 Axes>"
            ],
            "image/png": "[encoded data removed]"
          },
          "metadata": {
            "needs_background": "light"
          }
        }
      ]
    },
    {
      "cell_type": "code",
      "source": [],
      "metadata": {
        "id": "LToGd4vZIZ3I"
      },
      "execution_count": 121,
      "outputs": []
    }
  ],
  "metadata": {
    "colab": {
      "collapsed_sections": [],
      "provenance": []
    },
    "kernelspec": {
      "display_name": "Python 3",
      "name": "python3"
    },
    "language_info": {
      "name": "python"
    }
  },
  "nbformat": 4,
  "nbformat_minor": 0
}