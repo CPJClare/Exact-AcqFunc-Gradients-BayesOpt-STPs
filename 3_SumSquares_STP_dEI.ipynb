{
  "cells": [
    {
      "cell_type": "markdown",
      "metadata": {
        "id": "Dqn4dFx7Z2Ir"
      },
      "source": [
        "\n",
        "SumSquares: 2D\n"
      ]
    },
    {
      "cell_type": "code",
      "execution_count": 1,
      "metadata": {
        "colab": {
          "base_uri": "https://localhost:8080/"
        },
        "id": "MJTM_GZZZb5x",
        "outputId": "9322c031-6d9b-4909-a6f5-6a71c20fdd30"
      },
      "outputs": [
        {
          "output_type": "stream",
          "name": "stdout",
          "text": [
            "Looking in indexes: https://pypi.org/simple, https://us-python.pkg.dev/colab-wheels/public/simple/\n",
            "Collecting pyGPGO\n",
            "  Downloading pyGPGO-0.5.1.tar.gz (14 kB)\n",
            "Requirement already satisfied: numpy in /usr/local/lib/python3.7/dist-packages (from pyGPGO) (1.21.6)\n",
            "Requirement already satisfied: mkl in /usr/local/lib/python3.7/dist-packages (from pyGPGO) (2019.0)\n",
            "Requirement already satisfied: scipy in /usr/local/lib/python3.7/dist-packages (from pyGPGO) (1.7.3)\n",
            "Requirement already satisfied: joblib in /usr/local/lib/python3.7/dist-packages (from pyGPGO) (1.1.0)\n",
            "Requirement already satisfied: scikit-learn in /usr/local/lib/python3.7/dist-packages (from pyGPGO) (1.0.2)\n",
            "Collecting Theano-PyMC\n",
            "  Downloading Theano-PyMC-1.1.2.tar.gz (1.8 MB)\n",
            "\u001b[K     |████████████████████████████████| 1.8 MB 4.2 MB/s \n",
            "\u001b[?25hCollecting pyMC3\n",
            "  Downloading pymc3-3.11.5-py3-none-any.whl (872 kB)\n",
            "\u001b[K     |████████████████████████████████| 872 kB 47.6 MB/s \n",
            "\u001b[?25hRequirement already satisfied: intel-openmp in /usr/local/lib/python3.7/dist-packages (from mkl->pyGPGO) (2022.1.0)\n",
            "Requirement already satisfied: patsy>=0.5.1 in /usr/local/lib/python3.7/dist-packages (from pyMC3->pyGPGO) (0.5.2)\n",
            "Requirement already satisfied: arviz>=0.11.0 in /usr/local/lib/python3.7/dist-packages (from pyMC3->pyGPGO) (0.12.1)\n",
            "Requirement already satisfied: typing-extensions>=3.7.4 in /usr/local/lib/python3.7/dist-packages (from pyMC3->pyGPGO) (4.1.1)\n",
            "Collecting semver>=2.13.0\n",
            "  Downloading semver-2.13.0-py2.py3-none-any.whl (12 kB)\n",
            "Collecting deprecat\n",
            "  Downloading deprecat-2.1.1-py2.py3-none-any.whl (9.8 kB)\n",
            "Requirement already satisfied: fastprogress>=0.2.0 in /usr/local/lib/python3.7/dist-packages (from pyMC3->pyGPGO) (1.0.3)\n",
            "Requirement already satisfied: dill in /usr/local/lib/python3.7/dist-packages (from pyMC3->pyGPGO) (0.3.5.1)\n",
            "Requirement already satisfied: cachetools>=4.2.1 in /usr/local/lib/python3.7/dist-packages (from pyMC3->pyGPGO) (4.2.4)\n",
            "Requirement already satisfied: pandas>=0.24.0 in /usr/local/lib/python3.7/dist-packages (from pyMC3->pyGPGO) (1.3.5)\n",
            "Requirement already satisfied: filelock in /usr/local/lib/python3.7/dist-packages (from Theano-PyMC->pyGPGO) (3.8.0)\n",
            "Requirement already satisfied: setuptools>=38.4 in /usr/local/lib/python3.7/dist-packages (from arviz>=0.11.0->pyMC3->pyGPGO) (57.4.0)\n",
            "Requirement already satisfied: xarray>=0.16.1 in /usr/local/lib/python3.7/dist-packages (from arviz>=0.11.0->pyMC3->pyGPGO) (0.20.2)\n",
            "Requirement already satisfied: matplotlib>=3.0 in /usr/local/lib/python3.7/dist-packages (from arviz>=0.11.0->pyMC3->pyGPGO) (3.2.2)\n",
            "Requirement already satisfied: netcdf4 in /usr/local/lib/python3.7/dist-packages (from arviz>=0.11.0->pyMC3->pyGPGO) (1.6.0)\n",
            "Requirement already satisfied: xarray-einstats>=0.2 in /usr/local/lib/python3.7/dist-packages (from arviz>=0.11.0->pyMC3->pyGPGO) (0.2.2)\n",
            "Requirement already satisfied: packaging in /usr/local/lib/python3.7/dist-packages (from arviz>=0.11.0->pyMC3->pyGPGO) (21.3)\n",
            "Requirement already satisfied: kiwisolver>=1.0.1 in /usr/local/lib/python3.7/dist-packages (from matplotlib>=3.0->arviz>=0.11.0->pyMC3->pyGPGO) (1.4.4)\n",
            "Requirement already satisfied: pyparsing!=2.0.4,!=2.1.2,!=2.1.6,>=2.0.1 in /usr/local/lib/python3.7/dist-packages (from matplotlib>=3.0->arviz>=0.11.0->pyMC3->pyGPGO) (3.0.9)\n",
            "Requirement already satisfied: python-dateutil>=2.1 in /usr/local/lib/python3.7/dist-packages (from matplotlib>=3.0->arviz>=0.11.0->pyMC3->pyGPGO) (2.8.2)\n",
            "Requirement already satisfied: cycler>=0.10 in /usr/local/lib/python3.7/dist-packages (from matplotlib>=3.0->arviz>=0.11.0->pyMC3->pyGPGO) (0.11.0)\n",
            "Requirement already satisfied: pytz>=2017.3 in /usr/local/lib/python3.7/dist-packages (from pandas>=0.24.0->pyMC3->pyGPGO) (2022.2.1)\n",
            "Requirement already satisfied: six in /usr/local/lib/python3.7/dist-packages (from patsy>=0.5.1->pyMC3->pyGPGO) (1.15.0)\n",
            "Requirement already satisfied: importlib-metadata in /usr/local/lib/python3.7/dist-packages (from xarray>=0.16.1->arviz>=0.11.0->pyMC3->pyGPGO) (4.12.0)\n",
            "Requirement already satisfied: wrapt<2,>=1.10 in /usr/local/lib/python3.7/dist-packages (from deprecat->pyMC3->pyGPGO) (1.14.1)\n",
            "Requirement already satisfied: zipp>=0.5 in /usr/local/lib/python3.7/dist-packages (from importlib-metadata->xarray>=0.16.1->arviz>=0.11.0->pyMC3->pyGPGO) (3.8.1)\n",
            "Requirement already satisfied: cftime in /usr/local/lib/python3.7/dist-packages (from netcdf4->arviz>=0.11.0->pyMC3->pyGPGO) (1.6.1)\n",
            "Requirement already satisfied: threadpoolctl>=2.0.0 in /usr/local/lib/python3.7/dist-packages (from scikit-learn->pyGPGO) (3.1.0)\n",
            "Building wheels for collected packages: pyGPGO, Theano-PyMC\n",
            "  Building wheel for pyGPGO (setup.py) ... \u001b[?25l\u001b[?25hdone\n",
            "  Created wheel for pyGPGO: filename=pyGPGO-0.5.1-py3-none-any.whl size=19879 sha256=5d92f2e1090a0e0fa609044d5bc613ecbf94fc6654b49abc7bb0d6a0eb7577ba\n",
            "  Stored in directory: /root/.cache/pip/wheels/c8/5d/0b/2160114e2f1b87791c51b66cf07f89831dbb6f49167950316f\n",
            "  Building wheel for Theano-PyMC (setup.py) ... \u001b[?25l\u001b[?25hdone\n",
            "  Created wheel for Theano-PyMC: filename=Theano_PyMC-1.1.2-py3-none-any.whl size=1529963 sha256=2d235521e288584a6759ac2ccdb2243c172b5e744d54e623f359a8d28cd01d69\n",
            "  Stored in directory: /root/.cache/pip/wheels/f3/af/8c/5dd7553522d74c52a7813806fc7ee1a9caa20a3f7c8fd850d5\n",
            "Successfully built pyGPGO Theano-PyMC\n",
            "Installing collected packages: Theano-PyMC, semver, deprecat, pyMC3, pyGPGO\n",
            "Successfully installed Theano-PyMC-1.1.2 deprecat-2.1.1 pyGPGO-0.5.1 pyMC3-3.11.5 semver-2.13.0\n"
          ]
        }
      ],
      "source": [
        "pip install pyGPGO\n"
      ]
    },
    {
      "cell_type": "code",
      "execution_count": 2,
      "metadata": {
        "id": "ZJSSPbwPaEUB"
      },
      "outputs": [],
      "source": [
        "### 1. Import python modules/packages required:\n",
        "\n",
        "import numpy as np\n",
        "import pandas as pd\n",
        "import scipy as sp\n",
        "import matplotlib.pyplot as plt\n",
        "import warnings\n",
        "import itertools\n",
        "import seaborn as sns\n",
        "import time\n",
        "\n",
        "from pyGPGO.GPGO import GPGO\n",
        "from pyGPGO.surrogates.tStudentProcess import tStudentProcess\n",
        "from pyGPGO.acquisition import Acquisition\n",
        "from pyGPGO.covfunc import squaredExponential\n",
        "from joblib import Parallel, delayed\n",
        "from scipy.linalg import inv\n",
        "from scipy.spatial.distance import cdist\n",
        "from scipy.optimize import minimize\n",
        "from scipy.stats import t\n",
        "from mpl_toolkits.axes_grid1.inset_locator import inset_axes, mark_inset\n",
        "\n",
        "warnings.filterwarnings(\"ignore\", category=RuntimeWarning)\n"
      ]
    },
    {
      "cell_type": "code",
      "execution_count": 3,
      "metadata": {
        "id": "OeYcTUNoaJWa"
      },
      "outputs": [],
      "source": [
        "### Inputs:\n",
        "\n",
        "func = 'SumSquares'\n",
        "n_test = 500\n",
        "eps = 1e-08\n",
        "\n",
        "util = 'EI'\n",
        "\n",
        "n_init = 5 # random initialisations\n",
        "iters = 20\n",
        "opt = True\n",
        "\n",
        "df = 3"
      ]
    },
    {
      "cell_type": "code",
      "execution_count": 4,
      "metadata": {
        "id": "xpaEOjdzaPMS"
      },
      "outputs": [],
      "source": [
        "### Objective Function - Sum Squares(x) 2-D:\n",
        "\n",
        "def objfunc(x1_training, x2_training):\n",
        "            return  operator * (  1 * x1_training ** 2\n",
        "                            + 2 * x2_training ** 2\n",
        "                            )\n",
        "        \n",
        "# Constraints:\n",
        "lb = -5.12\n",
        "ub = +5.12\n",
        "    \n",
        "# Input array dimension(s):\n",
        "dim = 2\n",
        "\n",
        "# 2-D inputs' parameter bounds:\n",
        "param = {'x1_training': ('cont', [lb, ub]),\n",
        "                 'x2_training': ('cont', [lb, ub])\n",
        "                 }\n",
        "    \n",
        "# True y bounds:\n",
        "y_lb = 0\n",
        "operator = -1 # targets global minimum \n",
        "y_global_orig = y_lb * operator # targets global minimum\n",
        "    \n",
        "# Test data:\n",
        "x1_test = np.linspace(lb, ub, n_test)\n",
        "x2_test = np.linspace(lb, ub, n_test)\n",
        "x_test = np.column_stack((x1_test, x2_test))\n"
      ]
    },
    {
      "cell_type": "code",
      "execution_count": 5,
      "metadata": {
        "id": "eYpI3Zm4aGxi"
      },
      "outputs": [],
      "source": [
        "n_start_AcqFunc = iters\n",
        "inverse = -1\n"
      ]
    },
    {
      "cell_type": "code",
      "execution_count": 6,
      "metadata": {
        "id": "oO_GUmOoaV0T"
      },
      "outputs": [],
      "source": [
        "### Cumulative Regret Calculators:\n",
        "\n",
        "def min_max_array(x):\n",
        "    new_list = []\n",
        "    for i, num in enumerate(x):\n",
        "            new_list.append(np.min(x[0:i+1]))\n",
        "    return new_list\n",
        "  \n",
        "def acqFuncExact(x):\n",
        "    new_array = []\n",
        "    x = np.array(x) \n",
        "    for i, num in enumerate(x):\n",
        "            new_array = x[:-2][::-3]\n",
        "    return new_array[::-1]\n",
        "\n",
        "def acqFuncApprox(x):\n",
        "    new_array = []\n",
        "    x = np.array(x) \n",
        "    for i, num in enumerate(x):\n",
        "            new_array = x[:-1][::-3]\n",
        "    return new_array[::-1]\n"
      ]
    },
    {
      "cell_type": "code",
      "execution_count": 7,
      "metadata": {
        "id": "kuuJx0IMam9S"
      },
      "outputs": [],
      "source": [
        "### Surrogate derivatives: \n",
        "\n",
        "cov_func = squaredExponential()\n",
        "\n",
        "def kronDelta(X, Xstar):                     # Kronecker's Delta method\n",
        "    return cdist(X, Xstar) < np.finfo(np.float32).eps\n",
        "\n",
        "def se(X, Xstar, sigmaf, l, sigman):         # S.E. kernel method\n",
        "    return sigmaf * np.exp(-0.5 * cdist(X, Xstar) ** 2 / l ** 2) + sigman * kronDelta(X, Xstar)\n",
        "\n",
        "def delta(X, Xstar):                         # Distance between training X and test Xstar vectors\n",
        "    return (X - Xstar)\n",
        "   \n",
        "def der_covmat(X, Xstar, sigmaf, l, sigman): # Covariance matrix derivative terms (i.e. exact, first-order)\n",
        "    nx = len(X)\n",
        "    ny = len(Xstar)\n",
        "    return np.round(np.array([(delta(np.atleast_2d(i), np.atleast_2d(j))[0] * se(np.atleast_2d(i), np.atleast_2d(j), sigmaf, l, sigman)[0]).sum() for (i, j) in itertools.product(X, Xstar)]).reshape(nx, ny), 8)\n",
        "\n",
        "class dtStudentProcess(tStudentProcess):    # Via inheritance, also optimises hyperparameters when opt = TRUE\n",
        "    \n",
        "    def AcqGrad(self, Xstar):               # Method returning exact, first-order derivatives of the STP's posterior mean and standard deviation\n",
        "        Xstar = np.atleast_2d(Xstar)\n",
        "        Kstar = self.covfunc.K(self.X, Xstar).T\n",
        "        dKstar = der_covmat(self.X, Xstar, self.covfunc.sigmaf, self.covfunc.l, self.covfunc.sigman).T\n",
        "        \n",
        "        smd_adj = (self.nu + self.beta1 - 2) / (self.nu + self.n1 - 2)\n",
        "\n",
        "        alpha = np.dot(np.linalg.inv(self.K11 + (self.covfunc.sigman**2) * np.eye(len(self.X))), self.y)\n",
        "        alpha_Kstar = np.dot(np.linalg.inv(self.K11 + (self.covfunc.sigman**2) * np.eye(len(self.X))), Kstar.T)      \n",
        "        \n",
        "        dm = np.dot(dKstar, alpha)\n",
        "        ds = -2 * smd_adj * np.dot(dKstar, alpha_Kstar)\n",
        "        \n",
        "        return dm, ds \n",
        "        "
      ]
    },
    {
      "cell_type": "code",
      "execution_count": 8,
      "metadata": {
        "id": "_Dc3YVHVaXz7"
      },
      "outputs": [],
      "source": [
        "### Add exact acquisition function gradient as attribute:\n",
        "\n",
        "class Acquisition_grad(Acquisition):    \n",
        "    def __init__(self, mode, eps=eps, **params):\n",
        "        \n",
        "        self.params = params\n",
        "        self.eps = eps\n",
        "\n",
        "        mode_dict = {\n",
        "            'EI': self.EI\n",
        "        }\n",
        "\n",
        "        self.f = mode_dict[mode]\n",
        "    \n",
        "    def EI(self, tau, mean, std, ds, dm, nu=3.0):\n",
        "        gamma = (mean - tau - self.eps) / (std + self.eps)\n",
        "        gamma_h = (mean - tau) / (std + self.eps)\n",
        "        dsdx = ds / (2 * (std + self.eps))\n",
        "        dmdx = (dm - gamma * dsdx) / (std + self.eps)\n",
        "        \n",
        "        f = (std + self.eps) * (gamma * t.cdf(gamma, df=nu) + (nu + gamma ** 2)/(nu - 1) * t.pdf(gamma, df=nu))\n",
        "        df1 = f / (std + self.eps) * dsdx \n",
        "        df2 = (std + self.eps) * (t.cdf(gamma, df=nu) * dmdx + gamma * t.pdf(gamma, df=nu) \\\n",
        "            * (1 - (nu + gamma ** 2)/(nu - 1) + 2/(nu - 1) * dmdx))\n",
        "        df = (df1 + df2)[0]\n",
        "        df_arr = []\n",
        "\n",
        "        for j in range(0, dim):\n",
        "          df_arr.append(df)\n",
        "        return f, np.asarray(df_arr).transpose()\n",
        "        \n",
        "    def d_eval(self, tau, mean, std, ds, dm, nu=3.0):\n",
        "    \n",
        "        return self.f(tau, mean, std, ds, dm, nu=3.0, **self.params)\n",
        "        "
      ]
    },
    {
      "cell_type": "code",
      "execution_count": 9,
      "metadata": {
        "id": "PITEQC8YSl7i"
      },
      "outputs": [],
      "source": [
        "## GPGO_multi: \n",
        "\n",
        "class GPGO_multi(GPGO):\n",
        "    n_start = n_start_AcqFunc\n",
        "\n",
        "    def __init__(self, surrogate, acquisition, f, parameter_dict, n_jobs=1):\n",
        "        self.GP = surrogate\n",
        "        self.A = acquisition\n",
        "        self.f = f\n",
        "        self.parameters = parameter_dict\n",
        "        self.n_jobs = n_jobs\n",
        "\n",
        "        self.parameter_key = list(parameter_dict.keys())\n",
        "        self.parameter_value = list(parameter_dict.values())\n",
        "        self.parameter_type = [p[0] for p in self.parameter_value]\n",
        "        self.parameter_range = [p[1] for p in self.parameter_value]\n",
        "\n",
        "        self.history = []\n",
        "        self.header =   'Evaluation \\t Proposed point \\t  Current eval. \\t  Best eval. \\t        Exact EI: StdDev. x \\t Approx EI: StdDev. x '\n",
        "        self.template = '{:3}\\t {}\\t {:3}\\t {:3}\\t {:3}\\t {:3}'\n",
        " \n",
        "    def acqfuncExact(self, xnew, n_start=n_start_AcqFunc):\n",
        "        new_mean, new_var = self.GP.predict(xnew, return_std=True)\n",
        "        new_std = np.sqrt(new_var + eps)\n",
        "        dm, ds = self.GP.AcqGrad(xnew)\n",
        "        f, df = self.A.d_eval(self.tau, new_mean, new_std, ds=ds, dm=dm, nu=3.0)\n",
        "\n",
        "        return -f, -df\n",
        "   \n",
        "    def acqfuncApprox(self, xnew, n_start=n_start_AcqFunc):\n",
        "        new_mean, new_var = self.GP.predict(xnew, return_std=True)\n",
        "        new_std = np.sqrt(new_var + eps)\n",
        "        dm, ds = self.GP.AcqGrad(xnew)\n",
        "        f, df = self.A.d_eval(self.tau, new_mean, new_std, ds=ds, dm=dm, nu=3.0)\n",
        "\n",
        "        return -f\n",
        "   \n",
        "    def _optimizeAcq(self, method='L-BFGS-B', n_start=n_start_AcqFunc):\n",
        "        \n",
        "        start_points_dict = [self._sampleParam() for i in range(n_start)]\n",
        "        start_points_arr = np.array([list(s.values())\n",
        "                                     for s in start_points_dict])\n",
        "        x_best = np.empty((n_start, len(self.parameter_key)))\n",
        "        f_best = np.empty((n_start,))\n",
        "        opt = Parallel(n_jobs=self.n_jobs)(delayed(minimize)(self.acqfuncApprox,\n",
        "                                                                 x0=start_point,\n",
        "                                                                 method=method,\n",
        "                                                                 jac = False,\n",
        "                                                                 bounds=self.parameter_range) for start_point in\n",
        "                                               start_points_arr)\n",
        "        x_best = np.array([res.x for res in opt])\n",
        "        f_best = np.array([np.atleast_1d(res.fun)[0] for res in opt])\n",
        "        f_best_min = min(f_best)\n",
        "\n",
        "        self.x_best = x_best\n",
        "        self.f_best = f_best\n",
        "        self.f_best_min = f_best_min\n",
        "        self.x_best_std = np.std(x_best)\n",
        "        self.best = x_best[np.argmin(f_best)]\n",
        "        self.start_points_arr = start_points_arr        \n",
        "        self.history.append(self.x_best_std)\n",
        "\n",
        "        x_best_exact = np.empty((n_start, len(self.parameter_key)))\n",
        "        f_best_exact = np.empty((n_start,))\n",
        "        opt_exact = Parallel(n_jobs=self.n_jobs)(delayed(minimize)(self.acqfuncExact,\n",
        "                                                                 x0=start_point,\n",
        "                                                                 method=method,\n",
        "                                                                 jac = True,\n",
        "                                                                 bounds=self.parameter_range) for start_point in\n",
        "                                               start_points_arr)\n",
        "        x_best_exact = np.array([res.x for res in opt_exact])\n",
        "        f_best_exact = np.array([np.atleast_1d(res.fun)[0] for res in opt_exact])\n",
        "        f_best_min_exact = min(f_best_exact)\n",
        "\n",
        "        self.x_best_exact = x_best_exact\n",
        "        self.f_best_exact = f_best_exact\n",
        "        self.f_best_min_exact = f_best_min_exact\n",
        "        self.x_best_std_exact = np.std(x_best_exact)\n",
        "        self.best_exact = x_best_exact[np.argmin(f_best_exact)]\n",
        "        self.start_points_arr = start_points_arr\n",
        "        self.history.append(self.x_best_std_exact)\n",
        "\n",
        "    def _printInit(self):\n",
        "        print(self.header)\n",
        "        for init_eval in range(self.init_evals):\n",
        "            print(self.template.format('init', self.GP.X[init_eval], inverse * self.GP.y[init_eval], inverse * self.tau, '', ''))\n",
        "      \n",
        "    def _printCurrent(self):\n",
        "        OKGREEN = '\\033[92m'\n",
        "        ENDC = '\\033[0m'\n",
        "        BOLD = '\\033[1m'\n",
        "        eval = str(len(self.GP.y) - self.init_evals)\n",
        "        proposed = str(self.best)\n",
        "        curr_eval = str(inverse * self.GP.y[-1])\n",
        "        curr_best = str(inverse * self.tau)\n",
        "        min_acqfunc = str(self.f_best_min)\n",
        "        min_acqfunc_exact = str(self.f_best_min_exact)\n",
        "        x_best_std = str(self.x_best_std)\n",
        "        x_best_std_exact = str(self.x_best_std_exact)\n",
        "        if float(curr_eval) <= float(curr_best):\n",
        "            eval = BOLD + OKGREEN + eval + ENDC\n",
        "            proposed = BOLD + OKGREEN + proposed + ENDC\n",
        "            curr_eval = BOLD + OKGREEN + curr_eval + ENDC\n",
        "            curr_best = BOLD + OKGREEN + curr_best + ENDC\n",
        "            x_best_std = BOLD + OKGREEN + x_best_std + ENDC\n",
        "            x_best_std_exact = BOLD + OKGREEN + x_best_std_exact + ENDC\n",
        "        print(self.template.format(eval, proposed, curr_eval, curr_best, x_best_std_exact, x_best_std))\n",
        "        \n",
        "    def run(self, max_iter=10, init_evals=3, resume=False):\n",
        "        \n",
        "        if not resume:\n",
        "            self.init_evals = init_evals\n",
        "            self._firstRun(self.init_evals)\n",
        "            self._printInit()\n",
        "        for iteration in range(max_iter):\n",
        "            self._optimizeAcq()\n",
        "            self.updateGP()\n",
        "            self._printCurrent()\n"
      ]
    },
    {
      "cell_type": "code",
      "execution_count": 10,
      "metadata": {
        "id": "b_B-w81BJxKN"
      },
      "outputs": [],
      "source": [
        "## dGPGO:\n",
        "\n",
        "class dGPGO(GPGO):\n",
        "    n_start = n_start_AcqFunc\n",
        "\n",
        "    def __init__(self, surrogate, acquisition, f, parameter_dict, n_jobs=1):\n",
        "        self.GP = surrogate\n",
        "        self.A = acquisition\n",
        "        self.f = f\n",
        "        self.parameters = parameter_dict\n",
        "        self.n_jobs = n_jobs\n",
        "\n",
        "        self.parameter_key = list(parameter_dict.keys())\n",
        "        self.parameter_value = list(parameter_dict.values())\n",
        "        self.parameter_type = [p[0] for p in self.parameter_value]\n",
        "        self.parameter_range = [p[1] for p in self.parameter_value]\n",
        "\n",
        "        self.history = []\n",
        "        self.header =   'Evaluation \\t Proposed point \\t  Current eval. \\t  Best eval. \\t        Exact EI: StdDev. x \\t Approx EI: StdDev. x '\n",
        "        self.template = '{:3}\\t {}\\t {:3}\\t {:3}\\t {:3}\\t {:3}'\n",
        "\n",
        "    def acqfuncExact(self, xnew, n_start=n_start_AcqFunc):\n",
        "        new_mean, new_var = self.GP.predict(xnew, return_std=True)\n",
        "        new_std = np.sqrt(new_var + eps)\n",
        "        dm, ds = self.GP.AcqGrad(xnew)\n",
        "        f, df = self.A.d_eval(self.tau, new_mean, new_std, ds=ds, dm=dm, nu=3.0)\n",
        "\n",
        "        return -f, -df\n",
        "   \n",
        "    def acqfuncApprox(self, xnew, n_start=n_start_AcqFunc):\n",
        "        new_mean, new_var = self.GP.predict(xnew, return_std=True)\n",
        "        new_std = np.sqrt(new_var + eps)\n",
        "        dm, ds = self.GP.AcqGrad(xnew)\n",
        "        f, df = self.A.d_eval(self.tau, new_mean, new_std, ds=ds, dm=dm, nu=3.0)\n",
        "\n",
        "        return -f\n",
        "\n",
        "    def d_optimizeAcq(self, method='L-BFGS-B', n_start=n_start_AcqFunc):\n",
        "        start_points_dict = [self._sampleParam() for i in range(n_start)]\n",
        "        start_points_arr = np.array([list(s.values())\n",
        "                                     for s in start_points_dict])\n",
        "        x_best = np.empty((n_start, len(self.parameter_key)))\n",
        "        f_best = np.empty((n_start,))\n",
        "        opt = Parallel(n_jobs=self.n_jobs)(delayed(minimize)(self.acqfuncExact,\n",
        "                                                                 x0=start_point,\n",
        "                                                                 method=method,\n",
        "                                                                 jac = True,\n",
        "                                                                 bounds=self.parameter_range) for start_point in\n",
        "                                               start_points_arr)\n",
        "        x_best = np.array([res.x for res in opt])\n",
        "        f_best = np.array([np.atleast_1d(res.fun)[0] for res in opt])\n",
        "        f_best_min = min(f_best)\n",
        "\n",
        "        self.x_best = x_best\n",
        "        self.f_best = f_best\n",
        "        self.f_best_min = f_best_min\n",
        "        self.x_best_std = np.std(x_best)\n",
        "        self.best = x_best[np.argmin(f_best)]\n",
        "        self.start_points_arr = start_points_arr\n",
        "        self.history.append(self.x_best_std)\n",
        "\n",
        "        x_best_approx = np.empty((n_start, len(self.parameter_key)))\n",
        "        f_best_approx = np.empty((n_start,))\n",
        "        opt_approx = Parallel(n_jobs=self.n_jobs)(delayed(minimize)(self.acqfuncApprox,\n",
        "                                                                 x0=start_point,\n",
        "                                                                 method=method,\n",
        "                                                                 jac = False,\n",
        "                                                                 bounds=self.parameter_range) for start_point in\n",
        "                                               start_points_arr)\n",
        "        x_best_approx = np.array([res.x for res in opt_approx])\n",
        "        f_best_approx = np.array([np.atleast_1d(res.fun)[0] for res in opt_approx])\n",
        "        f_best_min_approx = min(f_best_approx)\n",
        "\n",
        "        self.x_best_approx = x_best_approx\n",
        "        self.f_best_approx = f_best_approx\n",
        "        self.f_best_min_approx = f_best_min_approx\n",
        "        self.x_best_std_approx = np.std(x_best_approx)\n",
        "        self.best_approx = x_best_approx[np.argmin(f_best_approx)]\n",
        "        self.start_points_arr = start_points_arr\n",
        "        self.history.append(self.x_best_std_approx)\n",
        "    \n",
        "    def _printInit(self):\n",
        "        print(self.header)\n",
        "        for init_eval in range(self.init_evals):\n",
        "            print(self.template.format('init', self.GP.X[init_eval], inverse * self.GP.y[init_eval], inverse * self.tau, '', ''))\n",
        "      \n",
        "    def _printCurrent(self):\n",
        "        OKGREEN = '\\033[92m'\n",
        "        ENDC = '\\033[0m'\n",
        "        BOLD = '\\033[1m'\n",
        "        eval = str(len(self.GP.y) - self.init_evals)\n",
        "        proposed = str(self.best)\n",
        "        curr_eval = str(inverse * self.GP.y[-1])\n",
        "        curr_best = str(inverse * self.tau)\n",
        "        min_acqfunc = str(self.f_best_min)\n",
        "        min_acqfunc_approx = str(self.f_best_min_approx)\n",
        "        x_best_std = str(self.x_best_std)\n",
        "        x_best_std_approx = str(self.x_best_std_approx)\n",
        "        if float(curr_eval) <= float(curr_best):\n",
        "            eval = BOLD + OKGREEN + eval + ENDC\n",
        "            proposed = BOLD + OKGREEN + proposed + ENDC\n",
        "            curr_eval = BOLD + OKGREEN + curr_eval + ENDC\n",
        "            curr_best = BOLD + OKGREEN + curr_best + ENDC\n",
        "            x_best_std = BOLD + OKGREEN + x_best_std + ENDC\n",
        "            x_best_std_approx = BOLD + OKGREEN + x_best_std_approx + ENDC\n",
        "        print(self.template.format(eval, proposed, curr_eval, curr_best, x_best_std, x_best_std_approx))\n",
        "\n",
        "    def run(self, max_iter=10, init_evals=3, resume=False):\n",
        "        \n",
        "        if not resume:\n",
        "            self.init_evals = init_evals\n",
        "            self._firstRun(self.init_evals)\n",
        "            self._printInit()\n",
        "        for iteration in range(max_iter):\n",
        "            self.d_optimizeAcq()\n",
        "            self.updateGP()\n",
        "            self._printCurrent()\n"
      ]
    },
    {
      "cell_type": "code",
      "execution_count": 11,
      "metadata": {
        "id": "qXIKGuXVGEg2"
      },
      "outputs": [],
      "source": [
        "###Reproducible set-seeds:\n",
        "\n",
        "run_num_1 = 1\n",
        "run_num_2 = 2\n",
        "run_num_3 = 3\n",
        "run_num_4 = 4\n",
        "run_num_5 = 5\n",
        "run_num_6 = 6\n",
        "run_num_7 = 7\n",
        "run_num_8 = 8\n",
        "run_num_9 = 9\n",
        "run_num_10 = 10\n",
        "run_num_11 = 11\n",
        "run_num_12 = 12\n",
        "run_num_13 = 13\n",
        "run_num_14 = 14\n",
        "run_num_15 = 15\n",
        "run_num_16 = 16\n",
        "run_num_17 = 17\n",
        "run_num_18 = 18\n",
        "run_num_19 = 19\n",
        "run_num_20 = 20\n"
      ]
    },
    {
      "cell_type": "code",
      "execution_count": 12,
      "metadata": {
        "colab": {
          "base_uri": "https://localhost:8080/"
        },
        "id": "JEhagQmnTVIK",
        "outputId": "a8fcb866-df1e-4ce6-9907-9b6e18c48987"
      },
      "outputs": [
        {
          "output_type": "execute_result",
          "data": {
            "text/plain": [
              "1662384913.1957233"
            ]
          },
          "metadata": {},
          "execution_count": 12
        }
      ],
      "source": [
        "start_approx = time.time()\n",
        "start_approx\n"
      ]
    },
    {
      "cell_type": "code",
      "execution_count": 13,
      "metadata": {
        "colab": {
          "base_uri": "https://localhost:8080/"
        },
        "id": "aH0YSTXufD1v",
        "outputId": "60fc9e95-50d4-4cdc-d5a9-7a20bfade91b"
      },
      "outputs": [
        {
          "output_type": "stream",
          "name": "stdout",
          "text": [
            "Evaluation \t Proposed point \t  Current eval. \t  Best eval. \t        Exact EI: StdDev. x \t Approx EI: StdDev. x \n",
            "init\t [-0.84969467  2.25612281]\t 10.902161328666502\t 1.4334486961549602\t    \t    \n",
            "init\t [-5.1188288  -2.02411446]\t 34.396486966857985\t 1.4334486961549602\t    \t    \n",
            "init\t [-3.61721968 -4.17445279]\t 47.936390383803385\t 1.4334486961549602\t    \t    \n",
            "init\t [-3.21269544 -1.58145816]\t 15.323431753768267\t 1.4334486961549602\t    \t    \n",
            "init\t [-1.05710106  0.39748336]\t 1.4334486961549602\t 1.4334486961549602\t    \t    \n",
            "1  \t [ 4.04077223 -4.24914728]\t 52.43834538835027\t 1.4334486961549602\t 2.9799470751008448\t 4.192274266791109\n",
            "2  \t [4.60184695 5.12      ]\t 73.60579531937483\t 1.4334486961549602\t 3.0404581104611554\t 3.456996873533477\n",
            "3  \t [-5.12  5.12]\t 78.64320000000001\t 1.4334486961549602\t 2.9040024738728465\t 3.7751013080991065\n",
            "4  \t [5.12       0.34724455]\t 26.455557551781435\t 1.4334486961549602\t 2.7571948740869714\t 3.2001935386449465\n",
            "5  \t [ 0.71376569 -1.88993095]\t 7.653139474748604\t 1.4334486961549602\t 2.568143140665708\t 2.7745978712683446\n",
            "6  \t [ 0.1539488 -5.12     ]\t 52.45250023386225\t 1.4334486961549602\t 2.3814603742902984\t 3.2166679925196653\n",
            "7  \t [0.5867913 5.12     ]\t 52.77312403118504\t 1.4334486961549602\t 2.882595330420166\t 3.3056618050734508\n",
            "8  \t [-5.12        1.44516063]\t 30.391378479376655\t 1.4334486961549602\t 2.714270250745681\t 3.524596207343866\n",
            "9  \t [2.02965628 1.40821863]\t 8.085664052041015\t 1.4334486961549602\t 2.5362202678756236\t 2.3249524660783902\n",
            "10 \t [ 2.88566783 -1.27007566]\t 11.55326315813144\t 1.4334486961549602\t 3.0160633303796205\t 3.246091522136808\n",
            "11 \t [-2.28465398  4.15389852]\t 39.729389584009965\t 1.4334486961549602\t 2.7901009770266176\t 2.9243909119863205\n",
            "12 \t [-1.15378232 -2.18864246]\t 10.911525311481192\t 1.4334486961549602\t 2.956869254943438\t 2.7059691025895938\n",
            "13 \t [-2.67884376  0.80529245]\t 8.473195732916812\t 1.4334486961549602\t 2.2880940972035257\t 2.4689575383511357\n",
            "\u001b[1m\u001b[92m14\u001b[0m\t \u001b[1m\u001b[92m[0.53118516 0.10685037]\u001b[0m\t \u001b[1m\u001b[92m0.30499168071104144\u001b[0m\t \u001b[1m\u001b[92m0.30499168071104144\u001b[0m\t \u001b[1m\u001b[92m2.8565401278583495\u001b[0m\t \u001b[1m\u001b[92m3.059231699676773\u001b[0m\n",
            "15 \t [3.65495227 2.47812823]\t 25.640915168977152\t 0.30499168071104144\t 2.4206178829683918\t 2.7940792453283003\n",
            "16 \t [ 5.12       -1.95975104]\t 33.89564827888971\t 0.30499168071104144\t 2.4268015182269287\t 3.0832265817752895\n",
            "17 \t [0.93643998 2.54168249]\t 13.797219637004009\t 0.30499168071104144\t 2.5889259348103004\t 2.7119365859060958\n",
            "18 \t [ 1.80639097 -3.10651449]\t 22.56391287630627\t 0.30499168071104144\t 2.7682605249743553\t 2.6994598631958735\n",
            "19 \t [ 1.7262023  -0.13683622]\t 3.017222671939756\t 0.30499168071104144\t 2.8670184276059043\t 3.259109586283807\n",
            "20 \t [2.51331586 4.19134994]\t 41.45158520753612\t 0.30499168071104144\t 2.70136038643478\t 3.0802417713980303\n"
          ]
        }
      ],
      "source": [
        "### ESTIMATED STP EI GRADIENTS\n",
        "\n",
        "np.random.seed(run_num_1)\n",
        "surrogate_approx_1 = dtStudentProcess(cov_func, optimize=opt, nu = df)\n",
        "\n",
        "approx_1 = GPGO_multi(surrogate_approx_1, Acquisition_grad(util), objfunc, param)\n",
        "approx_1.run(init_evals=n_init, max_iter=iters)\n"
      ]
    },
    {
      "cell_type": "code",
      "execution_count": 14,
      "metadata": {
        "id": "wTxsSZxFGBB5",
        "colab": {
          "base_uri": "https://localhost:8080/"
        },
        "outputId": "b2f514e3-f608-46f8-ea69-59af38fa8fe0"
      },
      "outputs": [
        {
          "output_type": "stream",
          "name": "stdout",
          "text": [
            "Evaluation \t Proposed point \t  Current eval. \t  Best eval. \t        Exact EI: StdDev. x \t Approx EI: StdDev. x \n",
            "init\t [-0.6554122  -4.85451539]\t 47.562204422038214\t 1.1358959044973735\t    \t    \n",
            "init\t [ 0.50854377 -0.6622987 ]\t 1.1358959044973735\t 1.1358959044973735\t    \t    \n",
            "init\t [-0.81543371 -1.73737143]\t 6.7018511217540135\t 1.1358959044973735\t    \t    \n",
            "init\t [-3.02439799  1.2213347 ]\t 12.13030006303276\t 1.1358959044973735\t    \t    \n",
            "init\t [-2.05153614 -2.3876887 ]\t 15.610915224537823\t 1.1358959044973735\t    \t    \n",
            "1  \t [4.81874241 3.07464552]\t 42.12716849729408\t 1.1358959044973735\t 3.295949625249032\t 3.76394240085085\n",
            "2  \t [ 5.12       -4.88139895]\t 73.87051136454248\t 1.1358959044973735\t 2.469412380602055\t 3.8761364370549227\n",
            "3  \t [-0.02554469  5.12      ]\t 52.42945253112774\t 1.1358959044973735\t 3.5963659245645196\t 3.8117347415622347\n",
            "4  \t [-5.12  5.12]\t 78.64320000000001\t 1.1358959044973735\t 3.178652935972104\t 3.26672535425121\n",
            "5  \t [-5.12 -5.12]\t 78.64320000000001\t 1.1358959044973735\t 3.6310225763393493\t 3.4056925108247227\n",
            "6  \t [ 3.60583752 -0.88912757]\t 14.583159933683445\t 1.1358959044973735\t 3.259980030099444\t 3.131525328241864\n",
            "7  \t [-5.12       -1.15108989]\t 28.864415876831337\t 1.1358959044973735\t 2.957762842453755\t 2.8840656899830246\n",
            "8  \t [1.20502916 1.7024727 ]\t 7.248921887340649\t 1.1358959044973735\t 2.3674595533625795\t 2.3017960144467304\n",
            "9  \t [ 2.02837927 -3.17881267]\t 24.324022393992497\t 1.1358959044973735\t 2.607062116621486\t 3.1155923516003923\n",
            "10 \t [-5.12        1.94377359]\t 33.77091149999593\t 1.1358959044973735\t 2.6242739885631003\t 3.0174736815126213\n",
            "11 \t [2.97315612 5.12      ]\t 61.26845731579421\t 1.1358959044973735\t 2.748831033873124\t 3.2207118239894883\n",
            "12 \t [-0.9887404   2.19041244]\t 10.573420861545602\t 1.1358959044973735\t 2.5398082861242934\t 2.5587870227650145\n",
            "13 \t [5.12       0.41300556]\t 26.555547186207228\t 1.1358959044973735\t 2.7153257990279767\t 3.1009939090507768\n",
            "14 \t [-2.5423467   3.80383855]\t 35.40190216889983\t 1.1358959044973735\t 2.6775345958198504\t 2.9444035226700698\n",
            "15 \t [-1.08779352  0.12051665]\t 1.2123432731034542\t 1.1358959044973735\t 2.6134153302995755\t 2.6150821263304276\n",
            "16 \t [ 5.12       -2.16727864]\t 35.60859340266134\t 1.1358959044973735\t 2.8323431147999134\t 2.596874550874922\n",
            "17 \t [5.12 5.12]\t 78.64320000000001\t 1.1358959044973735\t 2.9499152342928197\t 3.082484605140695\n",
            "18 \t [2.93694554 1.3532481 ]\t 12.288209953213565\t 1.1358959044973735\t 2.7235517938612017\t 2.5523381134254515\n",
            "19 \t [ 2.34534198 -5.12      ]\t 57.929429017113826\t 1.1358959044973735\t 2.484076380092564\t 2.6559881043560436\n",
            "20 \t [-2.83871738 -5.12      ]\t 60.48711638483546\t 1.1358959044973735\t 3.243233700782122\t 2.84473121293775\n"
          ]
        }
      ],
      "source": [
        "### ESTIMATED STP EI GRADIENTS\n",
        "\n",
        "np.random.seed(run_num_2)\n",
        "surrogate_approx_2 = dtStudentProcess(cov_func, optimize=opt, nu = df)\n",
        "\n",
        "approx_2 = GPGO_multi(surrogate_approx_2, Acquisition_grad(util), objfunc, param)\n",
        "approx_2.run(init_evals=n_init, max_iter=iters)\n"
      ]
    },
    {
      "cell_type": "code",
      "execution_count": 15,
      "metadata": {
        "id": "-dgzIrUIGCGT",
        "colab": {
          "base_uri": "https://localhost:8080/"
        },
        "outputId": "1623d774-5141-487e-f93d-0cc5be23735c"
      },
      "outputs": [
        {
          "output_type": "stream",
          "name": "stdout",
          "text": [
            "Evaluation \t Proposed point \t  Current eval. \t  Best eval. \t        Exact EI: StdDev. x \t Approx EI: StdDev. x \n",
            "init\t [0.52017052 2.1314337 ]\t 9.356596638100186\t 4.609047504113831\t    \t    \n",
            "init\t [-2.14113547  0.11087468]\t 4.609047504113831\t 4.609047504113831\t    \t    \n",
            "init\t [4.02377681 4.05804123]\t 49.12617709674532\t 4.609047504113831\t    \t    \n",
            "init\t [-3.83400642 -2.99783293]\t 32.673609761904345\t 4.609047504113831\t    \t    \n",
            "init\t [-4.59297584 -0.6061072 ]\t 21.83015892853491\t 4.609047504113831\t    \t    \n",
            "1  \t [ 2.87042319 -1.98283743]\t 16.10261781709846\t 4.609047504113831\t 2.964631924916011\t 2.6270820340778105\n",
            "2  \t [-4.3353768  5.12     ]\t 71.22429198969462\t 4.609047504113831\t 3.0714919875493076\t 4.0888538948112485\n",
            "3  \t [ 0.06926971 -5.12      ]\t 52.433598292363335\t 4.609047504113831\t 2.589130295595898\t 3.331793772205397\n",
            "4  \t [ 5.12 -5.12]\t 78.64320000000001\t 4.609047504113831\t 2.9928358398216313\t 2.9106753815367425\n",
            "5  \t [-0.27191858  5.12      ]\t 52.50273971214351\t 4.609047504113831\t 2.6350750446773104\t 3.179233449423013\n",
            "6  \t [5.12       0.47128225]\t 26.658613918448918\t 4.609047504113831\t 2.6994261657038066\t 3.2022040142122754\n",
            "\u001b[1m\u001b[92m7\u001b[0m\t \u001b[1m\u001b[92m[-0.18470659 -1.51128523]\u001b[0m\t \u001b[1m\u001b[92m4.602082610024536\u001b[0m\t \u001b[1m\u001b[92m4.602082610024536\u001b[0m\t \u001b[1m\u001b[92m3.0613197910340775\u001b[0m\t \u001b[1m\u001b[92m2.824790222050139\u001b[0m\n",
            "8  \t [-2.55021281  2.34285312]\t 17.481506803809836\t 4.602082610024536\t 2.847322856672991\t 3.2310149270672506\n",
            "9  \t [-5.12        2.07634054]\t 34.83678010534775\t 4.602082610024536\t 2.5834066363369685\t 2.945949532655308\n",
            "10 \t [-5.12 -5.12]\t 78.64320000000001\t 4.602082610024536\t 3.2977366923542744\t 3.3029619832337196\n",
            "11 \t [2.19054335 0.59514548]\t 5.506876446327416\t 4.602082610024536\t 2.542388007625222\t 2.812671022931052\n",
            "\u001b[1m\u001b[92m12\u001b[0m\t \u001b[1m\u001b[92m[-0.13962413  0.25935473]\u001b[0m\t \u001b[1m\u001b[92m0.1540246456695018\u001b[0m\t \u001b[1m\u001b[92m0.1540246456695018\u001b[0m\t \u001b[1m\u001b[92m2.756392153336386\u001b[0m\t \u001b[1m\u001b[92m2.4676041548777756\u001b[0m\n",
            "13 \t [ 5.12       -2.12324484]\t 35.23073733880057\t 0.1540246456695018\t 3.050039301432119\t 2.6188186634669215\n",
            "14 \t [-1.42625267 -2.71387126]\t 16.764391071195163\t 0.1540246456695018\t 2.2899637086939246\t 2.3198640673219257\n",
            "15 \t [ 1.14123637 -0.7419563 ]\t 2.4034187601149117\t 0.1540246456695018\t 2.787467025990258\t 2.6217080596149964\n",
            "16 \t [ 2.45454706 -4.17597797]\t 40.90238532401197\t 0.1540246456695018\t 2.442720840547944\t 2.9375182240101707\n",
            "17 \t [-2.39072256 -5.12      ]\t 58.144354342222066\t 0.1540246456695018\t 2.084193841544841\t 2.2776363198715526\n",
            "18 \t [1.51767451 4.18406112]\t 37.31607090129873\t 0.1540246456695018\t 3.121956776078832\t 3.1707129109975476\n",
            "19 \t [3.45515253 1.93560022]\t 19.43117546784515\t 0.1540246456695018\t 2.9807602396865907\t 3.133914642303263\n",
            "20 \t [-0.93338848  1.29328449]\t 4.216383572813546\t 0.1540246456695018\t 2.3632611777991785\t 2.0171506846184353\n"
          ]
        }
      ],
      "source": [
        "### ESTIMATED STP EI GRADIENTS\n",
        "\n",
        "np.random.seed(run_num_3)\n",
        "surrogate_approx_3 = dtStudentProcess(cov_func, optimize=opt, nu = df)\n",
        "\n",
        "approx_3 = GPGO_multi(surrogate_approx_3, Acquisition_grad(util), objfunc, param)\n",
        "approx_3.run(init_evals=n_init, max_iter=iters)\n"
      ]
    },
    {
      "cell_type": "code",
      "execution_count": 16,
      "metadata": {
        "id": "hOtG-2sCGCKS",
        "colab": {
          "base_uri": "https://localhost:8080/"
        },
        "outputId": "b5175edd-b65a-481c-a833-a4041da80871"
      },
      "outputs": [
        {
          "output_type": "stream",
          "name": "stdout",
          "text": [
            "Evaluation \t Proposed point \t  Current eval. \t  Best eval. \t        Exact EI: StdDev. x \t Approx EI: StdDev. x \n",
            "init\t [4.78238555 0.48365823]\t 23.33906213310676\t 7.289910254474112\t    \t    \n",
            "init\t [4.84028785 2.19971578]\t 33.10588541607836\t 7.289910254474112\t    \t    \n",
            "init\t [ 2.02474316 -2.90724357]\t 21.003715175118646\t 7.289910254474112\t    \t    \n",
            "init\t [ 4.87705042 -5.05620219]\t 74.91598187475032\t 7.289910254474112\t    \t    \n",
            "init\t [-2.52946061 -0.66773471]\t 7.289910254474112\t 7.289910254474112\t    \t    \n",
            "1  \t [-4.00107163  4.52698393]\t 56.99574119186134\t 7.289910254474112\t 2.9940146543141943\t 3.872482414186995\n",
            "2  \t [-5.12 -5.12]\t 78.64320000000001\t 7.289910254474112\t 3.3348725947460416\t 3.954245326994605\n",
            "3  \t [0.98009183 5.12      ]\t 53.389379998345056\t 7.289910254474112\t 3.195795549439983\t 3.647388021674449\n",
            "\u001b[1m\u001b[92m4\u001b[0m\t \u001b[1m\u001b[92m[0.6850063  0.95282434]\u001b[0m\t \u001b[1m\u001b[92m2.2849820883749987\u001b[0m\t \u001b[1m\u001b[92m2.2849820883749987\u001b[0m\t \u001b[1m\u001b[92m3.356735676939262\u001b[0m\t \u001b[1m\u001b[92m3.161980014785025\u001b[0m\n",
            "5  \t [-0.9742344 -5.12     ]\t 53.37793265779105\t 2.2849820883749987\t 3.0002927017900136\t 3.2267000350161656\n",
            "6  \t [-5.12        0.84373876]\t 27.638190206940134\t 2.2849820883749987\t 3.0466263941248726\t 3.3885799240048105\n",
            "7  \t [-1.4268125   2.18262318]\t 11.563481801466196\t 2.2849820883749987\t 2.8983877740075235\t 2.8043772477643407\n",
            "8  \t [5.12 5.12]\t 78.64320000000001\t 2.2849820883749987\t 2.7312701984123784\t 2.881966130396208\n",
            "9  \t [-0.20362588 -1.22569032]\t 3.046097034303818\t 2.2849820883749987\t 2.3781435770084385\t 2.7939207425537242\n",
            "10 \t [-5.12       -1.95976562]\t 33.895762557893576\t 2.2849820883749987\t 2.6194199975893846\t 3.0092536125370404\n",
            "11 \t [ 5.12       -2.00640809]\t 34.26574687036059\t 2.2849820883749987\t 2.6547950422358415\t 2.9847024384665435\n",
            "12 \t [2.03921659 2.26308977]\t 14.40155489635928\t 2.2849820883749987\t 2.5210525965224604\t 2.5938058242643307\n",
            "13 \t [ 2.11492205 -0.35721508]\t 4.728100485475384\t 2.2849820883749987\t 2.6809922465434166\t 2.818991838587056\n",
            "14 \t [-2.275374 -2.675911]\t 19.498326232237016\t 2.2849820883749987\t 2.261883341406778\t 2.553363132684976\n",
            "15 \t [ 1.86278325 -5.12      ]\t 55.89876142415727\t 2.2849820883749987\t 2.6361026901951425\t 2.801585591429982\n",
            "16 \t [-1.53787272  5.12      ]\t 54.793852508859125\t 2.2849820883749987\t 2.4263410482217957\t 2.4777498307426096\n",
            "\u001b[1m\u001b[92m17\u001b[0m\t \u001b[1m\u001b[92m[-0.86989928  0.27933704]\u001b[0m\t \u001b[1m\u001b[92m0.9127831140592293\u001b[0m\t \u001b[1m\u001b[92m0.9127831140592293\u001b[0m\t \u001b[1m\u001b[92m2.496474464773174\u001b[0m\t \u001b[1m\u001b[92m2.1559530688767667\u001b[0m\n",
            "18 \t [-2.94062507  1.26365789]\t 11.840938353675003\t 0.9127831140592293\t 2.6595454903890903\t 2.3222646731271688\n",
            "19 \t [-0.0240365  -2.76106673]\t 15.247556779663132\t 0.9127831140592293\t 2.5815848566191413\t 2.7289442748555097\n",
            "20 \t [3.52025709 4.00420698]\t 44.4595570993652\t 0.9127831140592293\t 2.695274624501797\t 2.6233450705993318\n"
          ]
        }
      ],
      "source": [
        "### ESTIMATED STP EI GRADIENTS\n",
        "\n",
        "np.random.seed(run_num_4)\n",
        "surrogate_approx_4 = dtStudentProcess(cov_func, optimize=opt, nu = df)\n",
        "\n",
        "approx_4= GPGO_multi(surrogate_approx_4, Acquisition_grad(util), objfunc, param)\n",
        "approx_4.run(init_evals=n_init, max_iter=iters)\n"
      ]
    },
    {
      "cell_type": "code",
      "execution_count": 17,
      "metadata": {
        "id": "JF_SxcEvGCOl",
        "colab": {
          "base_uri": "https://localhost:8080/"
        },
        "outputId": "435171e4-8096-4f9e-9ce6-9d88c950b42f"
      },
      "outputs": [
        {
          "output_type": "stream",
          "name": "stdout",
          "text": [
            "Evaluation \t Proposed point \t  Current eval. \t  Best eval. \t        Exact EI: StdDev. x \t Approx EI: StdDev. x \n",
            "init\t [-2.84678993  3.79629882]\t 36.927982283829365\t 2.6327313115208373\t    \t    \n",
            "init\t [-3.00319585  4.2865757 ]\t 45.76864772649561\t 2.6327313115208373\t    \t    \n",
            "init\t [-0.11866943  1.14425716]\t 2.6327313115208373\t 2.6327313115208373\t    \t    \n",
            "init\t [2.72289645 0.1886002 ]\t 7.485305147100433\t 2.6327313115208373\t    \t    \n",
            "init\t [-2.08076286 -3.19773462]\t 24.780587476435763\t 2.6327313115208373\t    \t    \n",
            "1  \t [ 4.32895605 -5.09732646]\t 70.70533460957368\t 2.6327313115208373\t 4.242751218859209\t 4.529726791608251\n",
            "2  \t [5.12       4.87357091]\t 73.71778675023137\t 2.6327313115208373\t 3.603344278127478\t 3.7690438113578053\n",
            "3  \t [-5.12       -0.04094454]\t 26.217752911193724\t 2.6327313115208373\t 3.342911124242294\t 3.7589778153023774\n",
            "4  \t [0.9876897 5.12     ]\t 53.404330949543144\t 2.6327313115208373\t 3.222109520416506\t 3.4015821671567545\n",
            "5  \t [-5.12 -5.12]\t 78.64320000000001\t 2.6327313115208373\t 3.5042064327744513\t 3.4166964787625407\n",
            "6  \t [ 1.35637807 -2.68221781]\t 16.228346291361667\t 2.6327313115208373\t 3.2000358007466616\t 3.478580686116335\n",
            "7  \t [ 5.12       -1.38311527]\t 30.040415725105156\t 2.6327313115208373\t 2.380761800289939\t 2.551337107342906\n",
            "8  \t [-2.03861613  0.0106509 ]\t 4.156182603828362\t 2.6327313115208373\t 3.0008409454582066\t 3.128486518821759\n",
            "9  \t [ 0.26294407 -5.12      ]\t 52.49793958506347\t 2.6327313115208373\t 2.973872477485598\t 3.222321015049641\n",
            "10 \t [5.12       1.62188225]\t 31.47540403443599\t 2.6327313115208373\t 2.76983553614862\t 3.3124729351228814\n",
            "11 \t [1.93408368 2.29463717]\t 14.271399144139671\t 2.6327313115208373\t 2.5921431277410325\t 3.123008094829257\n",
            "\u001b[1m\u001b[92m12\u001b[0m\t \u001b[1m\u001b[92m[-0.0700287  -0.77057335]\u001b[0m\t \u001b[1m\u001b[92m1.1924706010175468\u001b[0m\t \u001b[1m\u001b[92m1.1924706010175468\u001b[0m\t \u001b[1m\u001b[92m2.7075891457218977\u001b[0m\t \u001b[1m\u001b[92m2.7600110303971306\u001b[0m\n",
            "13 \t [-5.12        2.54987157]\t 39.218090088296485\t 1.1924706010175468\t 2.7818541910967522\t 2.97392909409859\n",
            "14 \t [-5.12       -2.32423534]\t 37.01853987340159\t 1.1924706010175468\t 2.401452994412674\t 2.732087871721031\n",
            "15 \t [-0.63169224  2.6565367 ]\t 14.513409606920112\t 1.1924706010175468\t 2.213669848237137\t 2.0205610014190483\n",
            "\u001b[1m\u001b[92m16\u001b[0m\t \u001b[1m\u001b[92m[ 1.08029483 -0.04418687]\u001b[0m\t \u001b[1m\u001b[92m1.1709418817514576\u001b[0m\t \u001b[1m\u001b[92m1.1709418817514576\u001b[0m\t \u001b[1m\u001b[92m2.589243214788281\u001b[0m\t \u001b[1m\u001b[92m2.361862366819077\u001b[0m\n",
            "17 \t [-2.71782906  1.31264407]\t 10.83266370879195\t 1.1709418817514576\t 2.331744224490933\t 2.7088091635044225\n",
            "18 \t [-2.76836052 -5.12      ]\t 60.09261995169517\t 1.1709418817514576\t 2.7681944653452466\t 2.885095630232386\n",
            "19 \t [-5.12  5.12]\t 78.64320000000001\t 1.1709418817514576\t 2.5749037371763843\t 3.0780385604510796\n",
            "20 \t [-1.36304065 -1.32423896]\t 5.365097446480656\t 1.1709418817514576\t 2.4952247953122786\t 2.610641814897447\n"
          ]
        }
      ],
      "source": [
        "### ESTIMATED STP EI GRADIENTS\n",
        "\n",
        "np.random.seed(run_num_5)\n",
        "surrogate_approx_5 = dtStudentProcess(cov_func, optimize=opt, nu = df)\n",
        "\n",
        "approx_5 = GPGO_multi(surrogate_approx_5, Acquisition_grad(util), objfunc, param)\n",
        "approx_5.run(init_evals=n_init, max_iter=iters)\n"
      ]
    },
    {
      "cell_type": "code",
      "execution_count": 18,
      "metadata": {
        "id": "-kDxZtJsGCR3",
        "colab": {
          "base_uri": "https://localhost:8080/"
        },
        "outputId": "acfeb65c-5eef-4a75-be95-cd99f5d51e7d"
      },
      "outputs": [
        {
          "output_type": "stream",
          "name": "stdout",
          "text": [
            "Evaluation \t Proposed point \t  Current eval. \t  Best eval. \t        Exact EI: StdDev. x \t Approx EI: StdDev. x \n",
            "init\t [ 4.02288795 -1.72052679]\t 22.104052359713652\t 1.4757178799086357\t    \t    \n",
            "init\t [ 3.28938622 -4.69302655]\t 54.869058151382724\t 1.4757178799086357\t    \t    \n",
            "init\t [-4.0175956   0.97333314]\t 18.035829177697114\t 1.4757178799086357\t    \t    \n",
            "init\t [ 0.30532979 -0.83141193]\t 1.4757178799086357\t 1.4757178799086357\t    \t    \n",
            "init\t [-1.68542362  1.25459899]\t 5.988690020231891\t 1.4757178799086357\t    \t    \n",
            "1  \t [2.66967418 5.12      ]\t 59.55596021867038\t 1.4757178799086357\t 3.5532100777338433\t 3.8495935345376786\n",
            "2  \t [-5.12       -4.49362241]\t 66.59968481188679\t 1.4757178799086357\t 3.5339938711717664\t 3.774844368979156\n",
            "3  \t [-5.12  5.12]\t 78.64320000000001\t 1.4757178799086357\t 3.3457328801310577\t 3.889638770567767\n",
            "4  \t [-0.90423828 -5.12      ]\t 53.24644687586047\t 1.4757178799086357\t 3.1273719301517198\t 3.490318530062215\n",
            "5  \t [5.12       1.92328218]\t 33.61242869144588\t 1.4757178799086357\t 2.0002250346344876\t 2.9040627088762663\n",
            "6  \t [-1.18540351  5.12      ]\t 53.83398147087625\t 1.4757178799086357\t 2.706481730236083\t 3.0654304393240577\n",
            "7  \t [1.46057271 1.52983033]\t 6.814034304236859\t 1.4757178799086357\t 3.0669101633933167\t 2.6402923520837214\n",
            "8  \t [-2.30553584 -1.82765044]\t 11.996107744537262\t 1.4757178799086357\t 2.9722359977977404\t 2.964863046176732\n",
            "9  \t [-5.12       -1.57224203]\t 31.158290015379492\t 1.4757178799086357\t 2.8859366030298346\t 2.993859125851409\n",
            "10 \t [ 1.0357163  -3.09109962]\t 20.18250198728333\t 1.4757178799086357\t 2.9527270175791998\t 3.264906363663026\n",
            "11 \t [5.12 5.12]\t 78.64320000000001\t 1.4757178799086357\t 3.099666397096632\t 2.7423731191133776\n",
            "12 \t [ 2.11445927 -0.29431644]\t 4.644182339840291\t 1.4757178799086357\t 2.410493129279668\t 2.3247930142497792\n",
            "13 \t [-2.90971396  3.14289589]\t 28.22202443969626\t 1.4757178799086357\t 2.884697685572745\t 3.3742263649623183\n",
            "14 \t [2.79121227 2.4196475 ]\t 19.500253970753928\t 1.4757178799086357\t 2.535917965379345\t 2.867576592725777\n",
            "15 \t [-0.06088514  2.50006543]\t 12.50436127720386\t 1.4757178799086357\t 2.8815670420167954\t 2.382681775827519\n",
            "\u001b[1m\u001b[92m16\u001b[0m\t \u001b[1m\u001b[92m[-0.99874083 -0.20917154]\u001b[0m\t \u001b[1m\u001b[92m1.0849887161193081\u001b[0m\t \u001b[1m\u001b[92m1.0849887161193081\u001b[0m\t \u001b[1m\u001b[92m2.8482436818737336\u001b[0m\t \u001b[1m\u001b[92m2.8247377353019427\u001b[0m\n",
            "\u001b[1m\u001b[92m17\u001b[0m\t \u001b[1m\u001b[92m[0.21631718 0.51779211]\u001b[0m\t \u001b[1m\u001b[92m0.5830104604941477\u001b[0m\t \u001b[1m\u001b[92m0.5830104604941477\u001b[0m\t \u001b[1m\u001b[92m3.019775524431568\u001b[0m\t \u001b[1m\u001b[92m2.986042619607132\u001b[0m\n",
            "18 \t [-5.12        2.36331034]\t 37.384871523608275\t 0.5830104604941477\t 2.5489811485118232\t 2.56164547380412\n",
            "19 \t [ 5.12       -3.36505112]\t 48.86153806707024\t 0.5830104604941477\t 2.824644691482851\t 2.846548879640975\n",
            "20 \t [-2.88936177 -4.04164206]\t 41.01815253809147\t 0.5830104604941477\t 3.0240092292481227\t 3.1957461342326168\n"
          ]
        }
      ],
      "source": [
        "### ESTIMATED STP EI GRADIENTS\n",
        "\n",
        "np.random.seed(run_num_6)\n",
        "surrogate_approx_6 = dtStudentProcess(cov_func, optimize=opt, nu = df)\n",
        "\n",
        "approx_6 = GPGO_multi(surrogate_approx_6, Acquisition_grad(util), objfunc, param)\n",
        "approx_6.run(init_evals=n_init, max_iter=iters)\n"
      ]
    },
    {
      "cell_type": "code",
      "execution_count": 19,
      "metadata": {
        "id": "fKB8MCD_GCVI",
        "colab": {
          "base_uri": "https://localhost:8080/"
        },
        "outputId": "69713fb8-a69e-471b-bcaf-ec08172a8dc1"
      },
      "outputs": [
        {
          "output_type": "stream",
          "name": "stdout",
          "text": [
            "Evaluation \t Proposed point \t  Current eval. \t  Best eval. \t        Exact EI: StdDev. x \t Approx EI: StdDev. x \n",
            "init\t [-4.33860312  2.86636843]\t 35.25561298730891\t 5.622520458601941\t    \t    \n",
            "init\t [-0.63068947  2.28828342]\t 10.870251237170722\t 5.622520458601941\t    \t    \n",
            "init\t [4.8946126  0.39419771]\t 24.268016205804518\t 5.622520458601941\t    \t    \n",
            "init\t [ 0.01147355 -4.38219639]\t 38.407422120416236\t 5.622520458601941\t    \t    \n",
            "init\t [-2.37118484e+00 -1.20319155e-03]\t 5.622520458601941\t 5.622520458601941\t    \t    \n",
            "1  \t [ 5.12 -5.12]\t 78.64320000000001\t 5.622520458601941\t 3.050954544491586\t 3.4566865957284305\n",
            "2  \t [-5.12 -5.12]\t 78.64320000000001\t 5.622520458601941\t 3.7356062485986308\t 4.27986334999101\n",
            "3  \t [3.47141348 5.12      ]\t 64.47951153065866\t 5.622520458601941\t 3.040013236079337\t 3.715349574659572\n",
            "4  \t [-4.02558214 -1.33646422]\t 19.777584798449002\t 5.622520458601941\t 2.913137994844461\t 3.046307140328312\n",
            "\u001b[1m\u001b[92m5\u001b[0m\t \u001b[1m\u001b[92m[ 1.31241611 -0.73567178]\u001b[0m\t \u001b[1m\u001b[92m2.8048619906888597\u001b[0m\t \u001b[1m\u001b[92m2.8048619906888597\u001b[0m\t \u001b[1m\u001b[92m2.854561517422344\u001b[0m\t \u001b[1m\u001b[92m2.96824738466302\u001b[0m\n",
            "6  \t [-1.43471624  5.12      ]\t 54.48721067555492\t 2.8048619906888597\t 2.9364795518480027\t 3.38784714341622\n",
            "7  \t [ 3.02458554 -2.37520917]\t 20.43135483286266\t 2.8048619906888597\t 2.6011246010297606\t 2.440101139610038\n",
            "8  \t [2.12036602 1.81912536]\t 11.114386210002202\t 2.8048619906888597\t 3.0223590272779175\t 3.006571230570786\n",
            "9  \t [-0.7047814  -1.44024994]\t 4.645356578107798\t 2.8048619906888597\t 2.99268085260773\t 3.2014366950704143\n",
            "10 \t [-5.12  5.12]\t 78.64320000000001\t 2.8048619906888597\t 2.976215315005736\t 3.3770944096452142\n",
            "11 \t [5.12       2.86398582]\t 42.61922954014976\t 2.8048619906888597\t 2.5007198641169537\t 2.8710773072670124\n",
            "12 \t [-2.51103734 -3.37664094]\t 29.10871664388954\t 2.8048619906888597\t 3.013167586240686\t 2.9785263805282054\n",
            "13 \t [ 2.32751863 -5.12      ]\t 57.846142993464056\t 2.8048619906888597\t 2.831119900684014\t 3.074348015536895\n",
            "14 \t [-5.12        0.53168621]\t 26.7797804458008\t 2.8048619906888597\t 2.2600362727170427\t 2.7403327044707906\n",
            "\u001b[1m\u001b[92m15\u001b[0m\t \u001b[1m\u001b[92m[-0.10134791  0.33734519]\u001b[0m\t \u001b[1m\u001b[92m0.23787494851499705\u001b[0m\t \u001b[1m\u001b[92m0.23787494851499705\u001b[0m\t \u001b[1m\u001b[92m3.0938406375592025\u001b[0m\t \u001b[1m\u001b[92m2.86481712899797\u001b[0m\n",
            "16 \t [1.02654068 4.16145073]\t 35.68913011282119\t 0.23787494851499705\t 2.4615296632210826\t 2.747939164422216\n",
            "17 \t [ 5.12       -2.04825616]\t 34.60510659495035\t 0.23787494851499705\t 2.190426669052817\t 2.204165392050635\n",
            "18 \t [-5.12       -2.99549283]\t 44.16035458644596\t 0.23787494851499705\t 3.4441791323630655\t 3.267818185322558\n",
            "19 \t [-2.28882208  1.65711964]\t 10.730797485609646\t 0.23787494851499705\t 2.748155345762305\t 2.548483001787412\n",
            "20 \t [2.65339054e+00 1.29068128e-03]\t 7.0404847128616685\t 0.23787494851499705\t 2.8382862243316156\t 2.3540468457890964\n"
          ]
        }
      ],
      "source": [
        "### ESTIMATED STP EI GRADIENTS\n",
        "\n",
        "np.random.seed(run_num_7)\n",
        "surrogate_approx_7 = dtStudentProcess(cov_func, optimize=opt, nu = df)\n",
        "\n",
        "approx_7 = GPGO_multi(surrogate_approx_7, Acquisition_grad(util), objfunc, param)\n",
        "approx_7.run(init_evals=n_init, max_iter=iters)\n"
      ]
    },
    {
      "cell_type": "code",
      "execution_count": 20,
      "metadata": {
        "id": "4unvifF-GCXp",
        "colab": {
          "base_uri": "https://localhost:8080/"
        },
        "outputId": "fbcff172-8540-4858-a370-c500332dbcf3"
      },
      "outputs": [
        {
          "output_type": "stream",
          "name": "stdout",
          "text": [
            "Evaluation \t Proposed point \t  Current eval. \t  Best eval. \t        Exact EI: StdDev. x \t Approx EI: StdDev. x \n",
            "init\t [3.82391708 4.79785639]\t 60.661193695854244\t 0.1518306274298758\t    \t    \n",
            "init\t [3.78055209 0.31596228]\t 14.492238445440277\t 0.1518306274298758\t    \t    \n",
            "init\t [-2.73686192 -5.00327624]\t 57.555959528959804\t 0.1518306274298758\t    \t    \n",
            "init\t [-0.7119993  -0.99992207]\t 2.506631309190485\t 0.1518306274298758\t    \t    \n",
            "init\t [ 0.23218863 -0.22126801]\t 0.1518306274298758\t 0.1518306274298758\t    \t    \n",
            "1  \t [-0.54272321  2.73006418]\t 15.201049342527062\t 0.1518306274298758\t 3.2162195481590437\t 3.7482855178828105\n",
            "2  \t [ 5.12 -5.12]\t 78.64320000000001\t 0.1518306274298758\t 3.1908219516387333\t 4.105333114785861\n",
            "3  \t [-5.12  5.12]\t 78.64320000000001\t 0.1518306274298758\t 2.4547591666085737\t 3.3846715275675234\n",
            "4  \t [-5.12       -0.22959654]\t 26.319829140056765\t 0.1518306274298758\t 3.005413421465472\t 3.3471891479413536\n",
            "5  \t [ 1.25142938 -3.61110609]\t 27.64624990929944\t 0.1518306274298758\t 2.817522146255991\t 2.9726510808493827\n",
            "6  \t [-1.59559173  5.12      ]\t 54.9747129535596\t 0.1518306274298758\t 3.1772446217023163\t 3.2314527813230054\n",
            "7  \t [-3.27012608  2.01011312]\t 18.774834052790112\t 0.1518306274298758\t 2.8139071214469795\t 2.9981055771804397\n",
            "8  \t [ 5.12      -1.8619241]\t 33.147922687628956\t 0.1518306274298758\t 3.2300222487103345\t 3.309741607581958\n",
            "9  \t [-5.12       -3.14193362]\t 45.957893750379995\t 0.1518306274298758\t 2.9339992421999783\t 3.1831691265769084\n",
            "10 \t [1.89256883 2.02482018]\t 11.781610296721995\t 0.1518306274298758\t 2.6221811429285227\t 3.12380392208047\n",
            "11 \t [-2.49966018 -1.56104131]\t 11.122000956040576\t 0.1518306274298758\t 2.6163030878916698\t 3.0127632119121968\n",
            "12 \t [ 1.80785688 -1.01480624]\t 5.328009902079065\t 0.1518306274298758\t 2.4232912675780587\t 2.3266817068087686\n",
            "13 \t [5.12       2.15896598]\t 35.53666816342537\t 0.1518306274298758\t 2.1546545782438957\t 2.939293517893608\n",
            "14 \t [1.11980453 5.12      ]\t 53.68276218952366\t 0.1518306274298758\t 2.774572633391948\t 3.0129265214439394\n",
            "15 \t [-1.3286269   0.58698431]\t 2.454350588423497\t 0.1518306274298758\t 2.6956831003315243\t 2.4832732710157295\n",
            "16 \t [-0.92939468 -2.84631472]\t 17.066789423276113\t 0.1518306274298758\t 2.5375936016876355\t 2.5756751953841057\n",
            "17 \t [-5.12        2.27528839]\t 36.56827450553894\t 0.1518306274298758\t 2.953921615078368\t 2.7252059709526355\n",
            "18 \t [0.41633146 0.94032021]\t 1.9417360924947913\t 0.1518306274298758\t 2.787050280281608\t 2.0496855093061788\n",
            "19 \t [-0.1674328 -5.12     ]\t 52.456833742278214\t 0.1518306274298758\t 2.664932981044893\t 2.6976119192066115\n",
            "20 \t [ 3.48314311 -3.43845596]\t 35.77824476902508\t 0.1518306274298758\t 2.609310570308455\t 2.8780263490375413\n"
          ]
        }
      ],
      "source": [
        "### ESTIMATED STP EI GRADIENTS\n",
        "\n",
        "np.random.seed(run_num_8)\n",
        "surrogate_approx_8 = dtStudentProcess(cov_func, optimize=opt, nu = df)\n",
        "\n",
        "approx_8 = GPGO_multi(surrogate_approx_8, Acquisition_grad(util), objfunc, param)\n",
        "approx_8.run(init_evals=n_init, max_iter=iters)\n"
      ]
    },
    {
      "cell_type": "code",
      "execution_count": 21,
      "metadata": {
        "id": "85OIXcg7GCaJ",
        "colab": {
          "base_uri": "https://localhost:8080/"
        },
        "outputId": "551b9b8c-c985-460f-a159-2f49a072d212"
      },
      "outputs": [
        {
          "output_type": "stream",
          "name": "stdout",
          "text": [
            "Evaluation \t Proposed point \t  Current eval. \t  Best eval. \t        Exact EI: StdDev. x \t Approx EI: StdDev. x \n",
            "init\t [-5.01376866  0.01919582]\t 25.138613177506063\t 14.00341364504739\t    \t    \n",
            "init\t [-0.04328148 -3.74958562]\t 28.12065798163534\t 14.00341364504739\t    \t    \n",
            "init\t [-3.66478248 -2.88195916]\t 30.04200788009657\t 14.00341364504739\t    \t    \n",
            "init\t [-0.83447623 -2.57944404]\t 14.00341364504739\t 14.00341364504739\t    \t    \n",
            "init\t [-4.25922917 -1.58209393]\t 23.14707552082245\t 14.00341364504739\t    \t    \n",
            "1  \t [3.11029524 4.9495987 ]\t 58.67099112867045\t 14.00341364504739\t 3.0767090305933436\t 2.996437151513082\n",
            "2  \t [ 5.12       -0.52646476]\t 26.768730285138453\t 14.00341364504739\t 3.125288851080033\t 4.110212864660323\n",
            "3  \t [-2.8058928  5.12     ]\t 60.30183443245032\t 14.00341364504739\t 2.5107145310674\t 4.469283439348798\n",
            "4  \t [ 5.12 -5.12]\t 78.64320000000001\t 14.00341364504739\t 2.722388546056424\t 3.604296431271544\n",
            "\u001b[1m\u001b[92m5\u001b[0m\t \u001b[1m\u001b[92m[0.15622105 1.41032524]\u001b[0m\t \u001b[1m\u001b[92m4.002439590584168\u001b[0m\t \u001b[1m\u001b[92m4.002439590584168\u001b[0m\t \u001b[1m\u001b[92m2.8748957597003453\u001b[0m\t \u001b[1m\u001b[92m2.890399148654288\u001b[0m\n",
            "6  \t [ 1.84278926 -0.77160775]\t 4.586629280928971\t 4.002439590584168\t 2.9001880864312244\t 2.868599226334764\n",
            "7  \t [-2.31066871  1.59181906]\t 10.406965722286989\t 4.002439590584168\t 2.913068726637711\t 3.2168935091032957\n",
            "8  \t [2.81711434 1.65418232]\t 13.408771457264326\t 4.002439590584168\t 2.997460002707058\t 2.8220328932262344\n",
            "9  \t [-5.12        2.99923041]\t 44.205166067543544\t 4.002439590584168\t 3.327996356382321\t 3.6337523891338623\n",
            "10 \t [-5.12 -5.12]\t 78.64320000000001\t 4.002439590584168\t 2.797162763710869\t 3.0148523359258603\n",
            "11 \t [0.11808331 3.78423167]\t 28.65476239423329\t 4.002439590584168\t 2.732694393146051\t 3.1071787557620407\n",
            "12 \t [ 2.83190769 -2.82420948]\t 23.972019578449164\t 4.002439590584168\t 2.674675319308456\t 2.943248961817649\n",
            "13 \t [5.12       2.61718946]\t 39.913761288381494\t 4.002439590584168\t 2.5848339083871945\t 1.8280985309047597\n",
            "\u001b[1m\u001b[92m14\u001b[0m\t \u001b[1m\u001b[92m[-0.86371833 -0.35301952]\u001b[0m\t \u001b[1m\u001b[92m0.9952549194604885\u001b[0m\t \u001b[1m\u001b[92m0.9952549194604885\u001b[0m\t \u001b[1m\u001b[92m2.699744125897444\u001b[0m\t \u001b[1m\u001b[92m2.341550501765945\u001b[0m\n",
            "15 \t [-2.04699806 -5.12      ]\t 56.619001068587245\t 0.9952549194604885\t 2.7818117003768696\t 2.7851083108825385\n",
            "16 \t [ 1.9712907 -5.12     ]\t 56.31478703977693\t 0.9952549194604885\t 2.836140981378679\t 2.1513101805783106\n",
            "17 \t [-2.27631065 -0.48900241]\t 5.6598368894413085\t 0.9952549194604885\t 2.5550933341192907\t 2.1683170818385973\n",
            "\u001b[1m\u001b[92m18\u001b[0m\t \u001b[1m\u001b[92m[ 0.46379887 -0.29496047]\u001b[0m\t \u001b[1m\u001b[92m0.3891127502316326\u001b[0m\t \u001b[1m\u001b[92m0.3891127502316326\u001b[0m\t \u001b[1m\u001b[92m2.2233433914779295\u001b[0m\t \u001b[1m\u001b[92m2.364968224254726\u001b[0m\n",
            "19 \t [ 5.12       -2.53948156]\t 39.11233319460677\t 0.3891127502316326\t 3.0692164788663048\t 2.5911787454443838\n",
            "20 \t [-1.295237    2.86569029]\t 18.102000549546826\t 0.3891127502316326\t 3.2384390593000685\t 3.138965693095944\n"
          ]
        }
      ],
      "source": [
        "### ESTIMATED STP EI GRADIENTS\n",
        "\n",
        "np.random.seed(run_num_9)\n",
        "surrogate_approx_9 = dtStudentProcess(cov_func, optimize=opt, nu = df)\n",
        "\n",
        "approx_9 = GPGO_multi(surrogate_approx_9, Acquisition_grad(util), objfunc, param)\n",
        "approx_9.run(init_evals=n_init, max_iter=iters)\n"
      ]
    },
    {
      "cell_type": "code",
      "execution_count": 22,
      "metadata": {
        "id": "QQBR-qJPGCcp",
        "colab": {
          "base_uri": "https://localhost:8080/"
        },
        "outputId": "330414fd-d917-4f34-98c0-a498e1a4a10f"
      },
      "outputs": [
        {
          "output_type": "stream",
          "name": "stdout",
          "text": [
            "Evaluation \t Proposed point \t  Current eval. \t  Best eval. \t        Exact EI: StdDev. x \t Approx EI: StdDev. x \n",
            "init\t [ 2.77832339 -4.90750004]\t 55.886194099964676\t 14.855028828430257\t    \t    \n",
            "init\t [1.36855793 2.54775176]\t 14.855028828430257\t 14.855028828430257\t    \t    \n",
            "init\t [-0.01528819 -2.81808235]\t 15.883409988980564\t 14.855028828430257\t    \t    \n",
            "init\t [-3.09183626  2.66783449]\t 23.79413325191142\t 14.855028828430257\t    \t    \n",
            "init\t [-3.38830503 -4.2154003 ]\t 47.019810427389544\t 14.855028828430257\t    \t    \n",
            "1  \t [ 5.12       -0.36574231]\t 26.481934879195524\t 14.855028828430257\t 3.02960415297717\t 3.662383805122701\n",
            "2  \t [5.12 5.12]\t 78.64320000000001\t 14.855028828430257\t 2.27136572035082\t 3.1897303321249777\n",
            "3  \t [-5.12       -0.57730977]\t 26.880973132141182\t 14.855028828430257\t 2.446328852830048\t 3.2494967828301493\n",
            "4  \t [-0.64574902  5.12      ]\t 52.84579179661971\t 14.855028828430257\t 3.0003168574687438\t 3.5395658832848347\n",
            "5  \t [-5.12  5.12]\t 78.64320000000001\t 14.855028828430257\t 2.9503158420199456\t 3.2327487574848526\n",
            "\u001b[1m\u001b[92m6\u001b[0m\t \u001b[1m\u001b[92m[-1.00602589  0.12459498]\u001b[0m\t \u001b[1m\u001b[92m1.043135911432772\u001b[0m\t \u001b[1m\u001b[92m1.043135911432772\u001b[0m\t \u001b[1m\u001b[92m3.365809574031144\u001b[0m\t \u001b[1m\u001b[92m3.0440520499075507\u001b[0m\n",
            "7  \t [ 1.87718062 -0.48858186]\t 4.001231555900944\t 1.043135911432772\t 2.6362784032751843\t 2.7367499399062987\n",
            "8  \t [-2.36256459 -1.20990038]\t 8.509429287227935\t 1.043135911432772\t 3.091323502797291\t 3.037725465545816\n",
            "9  \t [ 5.12       -3.18711574]\t 46.529813539691546\t 1.043135911432772\t 2.851023748024558\t 3.379727914653999\n",
            "10 \t [3.98131792 2.1257666 ]\t 24.888659630922582\t 1.043135911432772\t 3.2676379979342403\t 3.487339246424844\n",
            "11 \t [-0.49010122 -5.12      ]\t 52.66899920981548\t 1.043135911432772\t 2.7528281873762688\t 2.831016378233554\n",
            "12 \t [2.17448203 5.12      ]\t 57.15717209882531\t 1.043135911432772\t 2.894801898533339\t 3.034006624434993\n",
            "13 \t [-0.71719471  1.77221841]\t 6.795884466067628\t 1.043135911432772\t 2.9753712866816535\t 2.9688078932949953\n",
            "14 \t [ 2.45043361 -2.06909009]\t 14.566892496091818\t 1.043135911432772\t 2.852093805125155\t 2.933816926839569\n",
            "15 \t [-5.12        1.89279757]\t 33.379765254245285\t 1.043135911432772\t 2.483255479623242\t 2.8938815175596613\n",
            "\u001b[1m\u001b[92m16\u001b[0m\t \u001b[1m\u001b[92m[ 0.42883    -0.01240034]\u001b[0m\t \u001b[1m\u001b[92m0.18420270807598435\u001b[0m\t \u001b[1m\u001b[92m0.18420270807598435\u001b[0m\t \u001b[1m\u001b[92m2.7912016685204626\u001b[0m\t \u001b[1m\u001b[92m2.284379540924326\u001b[0m\n",
            "17 \t [-2.86626828  5.12      ]\t 60.644293829708154\t 0.18420270807598435\t 3.3354678992838593\t 3.1932460297388183\n",
            "18 \t [-5.12       -2.79665969]\t 41.85701087498584\t 0.18420270807598435\t 2.830058575558249\t 2.892051970614851\n",
            "19 \t [-2.651367    0.55007205]\t 7.6349054824341795\t 0.18420270807598435\t 2.424671057361591\t 2.3372397795793085\n",
            "20 \t [2.37150427 0.79944831]\t 6.902267715540642\t 0.18420270807598435\t 2.5251241774812865\t 2.6284987414782983\n"
          ]
        }
      ],
      "source": [
        "### ESTIMATED STP EI GRADIENTS\n",
        "\n",
        "np.random.seed(run_num_10)\n",
        "surrogate_approx_10 = dtStudentProcess(cov_func, optimize=opt, nu = df)\n",
        "\n",
        "approx_10 = GPGO_multi(surrogate_approx_10, Acquisition_grad(util), objfunc, param)\n",
        "approx_10.run(init_evals=n_init, max_iter=iters)\n"
      ]
    },
    {
      "cell_type": "code",
      "execution_count": 23,
      "metadata": {
        "id": "JS8ejeQ2GCfi",
        "colab": {
          "base_uri": "https://localhost:8080/"
        },
        "outputId": "6ba8a232-2b5e-4994-a189-d591e81dd836"
      },
      "outputs": [
        {
          "output_type": "stream",
          "name": "stdout",
          "text": [
            "Evaluation \t Proposed point \t  Current eval. \t  Best eval. \t        Exact EI: StdDev. x \t Approx EI: StdDev. x \n",
            "init\t [-3.27403839 -4.92057353]\t 59.14341502486697\t 0.7122141741228657\t    \t    \n",
            "init\t [-0.37664229  2.30332343]\t 10.752457105378047\t 0.7122141741228657\t    \t    \n",
            "init\t [-0.81711509 -0.14922651]\t 0.7122141741228657\t 0.7122141741228657\t    \t    \n",
            "init\t [-4.98912446 -0.12931474]\t 24.924807467825406\t 0.7122141741228657\t    \t    \n",
            "init\t [4.52410012 3.59214172]\t 46.27444610017016\t 0.7122141741228657\t    \t    \n",
            "1  \t [ 3.03550212 -4.46785095]\t 49.13765732819627\t 0.7122141741228657\t 2.917049448223232\t 3.810074819442744\n",
            "2  \t [-5.02651633  5.12      ]\t 77.6946664305829\t 0.7122141741228657\t 2.2335983049261006\t 3.4061985062063633\n",
            "3  \t [ 5.12       -0.69370849]\t 27.176862938201204\t 0.7122141741228657\t 2.731616861893539\t 3.222066519690287\n",
            "4  \t [1.01976441 5.12      ]\t 53.46871945686331\t 0.7122141741228657\t 2.619528055730251\t 2.542899882498337\n",
            "5  \t [-0.19580003 -2.57064584]\t 13.254777754382784\t 0.7122141741228657\t 2.5755895585744613\t 2.275490306319567\n",
            "6  \t [1.86811144 0.14949635]\t 3.5345386514678143\t 0.7122141741228657\t 2.81714339546104\t 2.798465225786708\n",
            "7  \t [-3.06438674  2.25436034]\t 19.554747197737175\t 0.7122141741228657\t 3.2318757319078433\t 3.334429536028913\n",
            "8  \t [-0.03859347 -5.12      ]\t 52.43028945623795\t 0.7122141741228657\t 2.8538443044049884\t 2.829777148482922\n",
            "9  \t [-2.57412025 -1.53428782]\t 11.334173278060959\t 0.7122141741228657\t 3.2485692563097373\t 3.0169139294526315\n",
            "10 \t [-1.92536363  5.12      ]\t 56.13582511152081\t 0.7122141741228657\t 2.6130554412881417\t 3.029600959956506\n",
            "11 \t [-5.12       -2.76832977]\t 41.54169947972795\t 0.7122141741228657\t 2.704917194506355\t 2.9544906621912523\n",
            "12 \t [2.08768294 2.05636821]\t 12.815720467620629\t 0.7122141741228657\t 2.615615175960796\t 2.6585515742695183\n",
            "13 \t [ 2.29645922 -1.65609838]\t 10.759048648896961\t 0.7122141741228657\t 2.7248638421402105\t 2.55817924528017\n",
            "14 \t [ 5.12       -3.18777372]\t 46.53820251693222\t 0.7122141741228657\t 2.634113166799495\t 2.935087316920195\n",
            "15 \t [-5.12        2.24194508]\t 36.26703547300302\t 0.7122141741228657\t 2.8226776545032926\t 2.884011426344388\n",
            "\u001b[1m\u001b[92m16\u001b[0m\t \u001b[1m\u001b[92m[ 0.46710984 -0.3434788 ]\u001b[0m\t \u001b[1m\u001b[92m0.4541469814926219\u001b[0m\t \u001b[1m\u001b[92m0.4541469814926219\u001b[0m\t \u001b[1m\u001b[92m3.045133248092534\u001b[0m\t \u001b[1m\u001b[92m2.390336788716473\u001b[0m\n",
            "17 \t [-2.13663381  0.42150009]\t 4.920528708734972\t 0.4541469814926219\t 2.363154702013588\t 2.12664487122144\n",
            "18 \t [3.74675162 0.97986112]\t 15.958403286212349\t 0.4541469814926219\t 2.246958076653223\t 2.546707448374526\n",
            "19 \t [-1.92769633 -3.39733889]\t 26.799836181605485\t 0.4541469814926219\t 3.2731941792745802\t 2.9474265144560676\n",
            "20 \t [3.22741374 5.12      ]\t 62.84499944955162\t 0.4541469814926219\t 3.199391566917955\t 2.913326159664351\n"
          ]
        }
      ],
      "source": [
        "### ESTIMATED STP EI GRADIENTS\n",
        "\n",
        "np.random.seed(run_num_11)\n",
        "surrogate_approx_11 = dtStudentProcess(cov_func, optimize=opt, nu = df)\n",
        "\n",
        "approx_11 = GPGO_multi(surrogate_approx_11, Acquisition_grad(util), objfunc, param)\n",
        "approx_11.run(init_evals=n_init, max_iter=iters)\n"
      ]
    },
    {
      "cell_type": "code",
      "execution_count": 24,
      "metadata": {
        "id": "DXwjUVZ4GCii",
        "colab": {
          "base_uri": "https://localhost:8080/"
        },
        "outputId": "087cb576-1664-4a16-ff4c-17a6227288cb"
      },
      "outputs": [
        {
          "output_type": "stream",
          "name": "stdout",
          "text": [
            "Evaluation \t Proposed point \t  Current eval. \t  Best eval. \t        Exact EI: StdDev. x \t Approx EI: StdDev. x \n",
            "init\t [-3.54137249  2.45810889]\t 24.62591779447066\t 6.112828495563743\t    \t    \n",
            "init\t [-2.42365424  0.34549139]\t 6.112828495563743\t 6.112828495563743\t    \t    \n",
            "init\t [-4.97075238  4.28796936]\t 61.48174177959852\t 6.112828495563743\t    \t    \n",
            "init\t [ 4.10332011 -4.77776458]\t 62.49130467854858\t 6.112828495563743\t    \t    \n",
            "init\t [ 4.6791612  -3.71497655]\t 49.4966510918416\t 6.112828495563743\t    \t    \n",
            "1  \t [5.12      3.6121496]\t 52.309649401385016\t 6.112828495563743\t 3.5850537694099014\t 3.6079742361239755\n",
            "2  \t [-5.12 -5.12]\t 78.64320000000001\t 6.112828495563743\t 3.358649220291932\t 3.452635821761951\n",
            "3  \t [0.40633044 5.12      ]\t 52.59390442429588\t 6.112828495563743\t 2.6274905721853345\t 2.9691795114032353\n",
            "\u001b[1m\u001b[92m4\u001b[0m\t \u001b[1m\u001b[92m[1.81976894 0.06855759]\u001b[0m\t \u001b[1m\u001b[92m3.320959275128246\u001b[0m\t \u001b[1m\u001b[92m3.320959275128246\u001b[0m\t \u001b[1m\u001b[92m2.7085116303909\u001b[0m\t \u001b[1m\u001b[92m2.4739671041319213\u001b[0m\n",
            "5  \t [-0.52084781 -3.68614282]\t 27.446580289180112\t 3.320959275128246\t 3.2299503087980512\t 3.127730275442956\n",
            "6  \t [-5.12       -1.13320331]\t 28.782699483884823\t 3.320959275128246\t 3.1492143684275278\t 3.2491801340054973\n",
            "7  \t [ 5.12       -0.11832291]\t 26.24240062338904\t 3.320959275128246\t 2.689735370883024\t 3.070744588473652\n",
            "8  \t [-0.02863604  1.70874783]\t 5.840458331270107\t 3.320959275128246\t 2.973178438507168\t 3.076010633726177\n",
            "9  \t [ 1.9382248  -2.04592721]\t 12.12835167164453\t 3.320959275128246\t 2.8581388260853764\t 2.461791736507266\n",
            "10 \t [2.32514662 2.26969237]\t 15.709313759046507\t 3.320959275128246\t 3.000560069610996\t 3.141631509639783\n",
            "\u001b[1m\u001b[92m11\u001b[0m\t \u001b[1m\u001b[92m[-0.47880032 -0.74408764]\u001b[0m\t \u001b[1m\u001b[92m1.3365825649866163\u001b[0m\t \u001b[1m\u001b[92m1.3365825649866163\u001b[0m\t \u001b[1m\u001b[92m3.05950618734079\u001b[0m\t \u001b[1m\u001b[92m2.8386219567811124\u001b[0m\n",
            "12 \t [-2.64562593 -2.16335704]\t 16.3595639353687\t 1.3365825649866163\t 2.5603002508518866\t 2.6490177402796466\n",
            "13 \t [ 1.34185456 -5.12      ]\t 54.22937365493193\t 1.3365825649866163\t 2.879323342518468\t 3.026670987167859\n",
            "14 \t [-2.30317496  5.12      ]\t 57.73341489477171\t 1.3365825649866163\t 2.8724097883453727\t 2.7587953883061647\n",
            "15 \t [-2.27044928 -5.12      ]\t 57.58373993910833\t 1.3365825649866163\t 2.9945030214185566\t 3.0615107929418546\n",
            "16 \t [3.06409514 5.12      ]\t 61.817479002428364\t 1.3365825649866163\t 2.6924451590586544\t 2.6630109190676094\n",
            "17 \t [-5.12        1.14075729]\t 28.817054371297626\t 1.3365825649866163\t 2.4272587145252644\t 2.1136390899144675\n",
            "18 \t [-1.33248504  2.48572854]\t 14.13320912902211\t 1.3365825649866163\t 2.820805628913297\t 2.2620172387873354\n",
            "19 \t [4.19093538 1.66198554]\t 23.08833123716312\t 1.3365825649866163\t 3.0553477460371528\t 3.083907502209381\n",
            "\u001b[1m\u001b[92m20\u001b[0m\t \u001b[1m\u001b[92m[0.37467543 0.20499984]\u001b[0m\t \u001b[1m\u001b[92m0.2244315462502936\u001b[0m\t \u001b[1m\u001b[92m0.2244315462502936\u001b[0m\t \u001b[1m\u001b[92m2.555044737589994\u001b[0m\t \u001b[1m\u001b[92m2.2232431650801594\u001b[0m\n"
          ]
        }
      ],
      "source": [
        "### ESTIMATED STP EI GRADIENTS\n",
        "\n",
        "np.random.seed(run_num_12)\n",
        "surrogate_approx_12 = dtStudentProcess(cov_func, optimize=opt, nu = df)\n",
        "\n",
        "approx_12 = GPGO_multi(surrogate_approx_12, Acquisition_grad(util), objfunc, param)\n",
        "approx_12.run(init_evals=n_init, max_iter=iters)\n"
      ]
    },
    {
      "cell_type": "code",
      "execution_count": 25,
      "metadata": {
        "id": "CphOPndPGClX",
        "colab": {
          "base_uri": "https://localhost:8080/"
        },
        "outputId": "bc8fbf5d-d63c-409c-bd52-76da1097a1e4"
      },
      "outputs": [
        {
          "output_type": "stream",
          "name": "stdout",
          "text": [
            "Evaluation \t Proposed point \t  Current eval. \t  Best eval. \t        Exact EI: StdDev. x \t Approx EI: StdDev. x \n",
            "init\t [ 2.84367268 -2.68757791]\t 22.532624345992815\t 12.440151302029248\t    \t    \n",
            "init\t [3.32061217 4.76927179]\t 56.51837198799\t 12.440151302029248\t    \t    \n",
            "init\t [ 4.83943541 -0.47667971]\t 23.87458213765974\t 12.440151302029248\t    \t    \n",
            "init\t [1.11659482 2.82139151]\t 17.16728408945556\t 12.440151302029248\t    \t    \n",
            "init\t [1.45012065 2.27346667]\t 12.440151302029248\t 12.440151302029248\t    \t    \n",
            "1  \t [-4.10876704 -2.60547476]\t 30.458964016081993\t 12.440151302029248\t 2.688041238719633\t 3.116140253854654\n",
            "2  \t [-5.12  5.12]\t 78.64320000000001\t 12.440151302029248\t 2.341132098631653\t 3.6438153376391798\n",
            "3  \t [-0.61617836 -5.12      ]\t 52.80847576742168\t 12.440151302029248\t 2.6631927483887683\t 3.0697224216948475\n",
            "\u001b[1m\u001b[92m4\u001b[0m\t \u001b[1m\u001b[92m[-2.71282841  1.34585214]\u001b[0m\t \u001b[1m\u001b[92m10.982073924596694\u001b[0m\t \u001b[1m\u001b[92m10.982073924596694\u001b[0m\t \u001b[1m\u001b[92m2.54196615972979\u001b[0m\t \u001b[1m\u001b[92m3.0453490520155198\u001b[0m\n",
            "5  \t [ 5.12 -5.12]\t 78.64320000000001\t 10.982073924596694\t 3.472894731195737\t 3.949500919483344\n",
            "\u001b[1m\u001b[92m6\u001b[0m\t \u001b[1m\u001b[92m[-0.35352074 -1.04589143]\u001b[0m\t \u001b[1m\u001b[92m2.312754692516193\u001b[0m\t \u001b[1m\u001b[92m2.312754692516193\u001b[0m\t \u001b[1m\u001b[92m2.4766135664610234\u001b[0m\t \u001b[1m\u001b[92m2.9709947905522665\u001b[0m\n",
            "7  \t [-1.23565551  5.12      ]\t 53.95564452804295\t 2.312754692516193\t 3.24956041968497\t 3.323379630338225\n",
            "8  \t [-5.12 -5.12]\t 78.64320000000001\t 2.312754692516193\t 3.5217263400323646\t 3.315235083995004\n",
            "9  \t [-5.12        0.54228164]\t 26.802538747134545\t 2.312754692516193\t 2.8840838380029172\t 3.193456347068488\n",
            "10 \t [5.12       2.30890353]\t 36.87647102722988\t 2.312754692516193\t 2.8611979828138945\t 2.6777540538176443\n",
            "11 \t [ 1.644539   -0.13368122]\t 2.740249856951852\t 2.312754692516193\t 2.7137071571721365\t 2.553517983477472\n",
            "\u001b[1m\u001b[92m12\u001b[0m\t \u001b[1m\u001b[92m[-0.52995699  0.83641235]\u001b[0m\t \u001b[1m\u001b[92m1.680025643857751\u001b[0m\t \u001b[1m\u001b[92m1.680025643857751\u001b[0m\t \u001b[1m\u001b[92m2.763030360814894\u001b[0m\t \u001b[1m\u001b[92m2.0868631399065554\u001b[0m\n",
            "13 \t [-1.51744981 -2.30368972]\t 12.916626608883263\t 1.680025643857751\t 2.8675220773117376\t 2.5933798858338197\n",
            "14 \t [ 2.13043569 -5.12      ]\t 56.967556248618315\t 1.680025643857751\t 2.429547150645215\t 2.354943633377189\n",
            "15 \t [ 0.68981875 -2.24908031]\t 10.592574388956484\t 1.680025643857751\t 2.669067097365241\t 2.5450567833282336\n",
            "16 \t [-2.16502708 -0.43809226]\t 5.071191919189996\t 1.680025643857751\t 2.8322956890123736\t 2.8345806893475762\n",
            "17 \t [-3.19237143  3.09603123]\t 29.362054039257487\t 1.680025643857751\t 3.115463769322868\t 3.4123039735933993\n",
            "18 \t [2.88977856 0.89042131]\t 9.936520343552111\t 1.680025643857751\t 2.401460048485157\t 2.1879156085163936\n",
            "19 \t [-0.88366808  2.32858075]\t 11.625445870967107\t 1.680025643857751\t 2.7487360576795363\t 2.824230638733962\n",
            "20 \t [-2.83299945 -4.50718317]\t 48.655286228479554\t 1.680025643857751\t 3.5378525851514575\t 3.5921921121576146\n"
          ]
        }
      ],
      "source": [
        "### ESTIMATED STP EI GRADIENTS\n",
        "\n",
        "np.random.seed(run_num_13)\n",
        "surrogate_approx_13 = dtStudentProcess(cov_func, optimize=opt, nu = df)\n",
        "\n",
        "approx_13 = GPGO_multi(surrogate_approx_13, Acquisition_grad(util), objfunc, param)\n",
        "approx_13.run(init_evals=n_init, max_iter=iters)\n"
      ]
    },
    {
      "cell_type": "code",
      "execution_count": 26,
      "metadata": {
        "id": "ojHTeARNGCoi",
        "colab": {
          "base_uri": "https://localhost:8080/"
        },
        "outputId": "75d499f5-3aad-486f-a5c1-30de7d807a13"
      },
      "outputs": [
        {
          "output_type": "stream",
          "name": "stdout",
          "text": [
            "Evaluation \t Proposed point \t  Current eval. \t  Best eval. \t        Exact EI: StdDev. x \t Approx EI: StdDev. x \n",
            "init\t [0.14277984 2.79721013]\t 15.669155142359655\t 6.942951853664133\t    \t    \n",
            "init\t [ 3.7931795  -5.03759925]\t 65.14302308089468\t 6.942951853664133\t    \t    \n",
            "init\t [-1.94830412  4.68586229]\t 47.71049977745547\t 6.942951853664133\t    \t    \n",
            "init\t [ 0.13431513 -1.86076749]\t 6.942951853664133\t 6.942951853664133\t    \t    \n",
            "init\t [ 0.40140736 -2.85434939]\t 16.455748743182696\t 6.942951853664133\t    \t    \n",
            "1  \t [-5.11827663 -5.12      ]\t 78.62555561799304\t 6.942951853664133\t 3.253213124749766\t 3.8676874304300517\n",
            "2  \t [5.12 5.12]\t 78.64320000000001\t 6.942951853664133\t 3.179656947327399\t 3.902349681217826\n",
            "3  \t [-5.12        0.36625956]\t 26.4826921297204\t 6.942951853664133\t 2.7217382719270926\t 3.704297704654067\n",
            "4  \t [ 5.12       -0.06587762]\t 26.223079722103456\t 6.942951853664133\t 2.8516529921058975\t 3.338676008266977\n",
            "\u001b[1m\u001b[92m5\u001b[0m\t \u001b[1m\u001b[92m[-1.75907634  0.08273224]\u001b[0m\t \u001b[1m\u001b[92m3.1080388226838935\u001b[0m\t \u001b[1m\u001b[92m3.1080388226838935\u001b[0m\t \u001b[1m\u001b[92m2.9798340815885864\u001b[0m\t \u001b[1m\u001b[92m2.4096034943762183\u001b[0m\n",
            "6  \t [-5.12  5.12]\t 78.64320000000001\t 3.1080388226838935\t 2.7808512172418043\t 2.7107568177015557\n",
            "7  \t [-1.49063175 -5.12      ]\t 54.65078301327838\t 3.1080388226838935\t 2.52932400284862\t 2.217876241620842\n",
            "8  \t [1.87888589 0.23301062]\t 3.6388000815852055\t 3.1080388226838935\t 2.9178921741477084\t 3.0408485332847968\n",
            "9  \t [1.67601615 5.12      ]\t 55.237830140743476\t 3.1080388226838935\t 2.6760138455413403\t 2.580353927171966\n",
            "10 \t [-3.11041101 -2.07873425]\t 18.316928772837482\t 3.1080388226838935\t 2.7642490073080075\t 2.717171197104669\n",
            "11 \t [3.25675803 2.21168402]\t 20.389565282566586\t 3.1080388226838935\t 3.164828334212197\t 3.0127707507118857\n",
            "12 \t [ 2.9745554  -1.90325005]\t 16.092701352758198\t 3.1080388226838935\t 2.3142820900669645\t 2.7948829520749885\n",
            "13 \t [-2.84434819  1.89071211]\t 15.239901148376164\t 3.1080388226838935\t 2.766524762142158\t 3.286083052865564\n",
            "\u001b[1m\u001b[92m14\u001b[0m\t \u001b[1m\u001b[92m[0.02931275 0.25908652]\u001b[0m\t \u001b[1m\u001b[92m0.13511088328812274\u001b[0m\t \u001b[1m\u001b[92m0.13511088328812274\u001b[0m\t \u001b[1m\u001b[92m2.6227073153604583\u001b[0m\t \u001b[1m\u001b[92m2.7265410572441717\u001b[0m\n",
            "15 \t [ 5.12       -2.62340834]\t 39.978942675710485\t 0.13511088328812274\t 2.4911157309149368\t 3.0037900603307826\n",
            "16 \t [ 1.14663803 -5.12      ]\t 53.743578766507035\t 0.13511088328812274\t 2.844942662103206\t 3.2080473587226157\n",
            "17 \t [-5.12       -2.17194825]\t 35.64911842061183\t 0.13511088328812274\t 2.4550713476769555\t 2.870617447416084\n",
            "18 \t [-5.12        2.67925048]\t 40.571166321362014\t 0.13511088328812274\t 2.841274401632919\t 2.549972997500696\n",
            "19 \t [5.12       2.30249379]\t 36.81735526304219\t 0.13511088328812274\t 2.483112736282028\t 2.0454019903802285\n",
            "20 \t [-0.9268236   1.34180612]\t 4.459889296082542\t 0.13511088328812274\t 2.8265413037865574\t 2.985688098603798\n"
          ]
        }
      ],
      "source": [
        "### ESTIMATED STP EI GRADIENTS\n",
        "\n",
        "np.random.seed(run_num_14)\n",
        "surrogate_approx_14 = dtStudentProcess(cov_func, optimize=opt, nu = df)\n",
        "\n",
        "approx_14 = GPGO_multi(surrogate_approx_14, Acquisition_grad(util), objfunc, param)\n",
        "approx_14.run(init_evals=n_init, max_iter=iters)\n"
      ]
    },
    {
      "cell_type": "code",
      "execution_count": 27,
      "metadata": {
        "id": "vCJzn4vWGCs3",
        "colab": {
          "base_uri": "https://localhost:8080/"
        },
        "outputId": "18314b9a-18c2-45c8-a6ff-23b49fec78dd"
      },
      "outputs": [
        {
          "output_type": "stream",
          "name": "stdout",
          "text": [
            "Evaluation \t Proposed point \t  Current eval. \t  Best eval. \t        Exact EI: StdDev. x \t Approx EI: StdDev. x \n",
            "init\t [ 3.57189322 -3.28810573]\t 34.38169974295086\t 5.478261179905657\t    \t    \n",
            "init\t [-4.56332069 -1.41784631]\t 24.84447200795673\t 5.478261179905657\t    \t    \n",
            "init\t [-2.29989449  0.3072023 ]\t 5.478261179905657\t 5.478261179905657\t    \t    \n",
            "init\t [-1.9873903  -2.00218256]\t 11.967190241167383\t 5.478261179905657\t    \t    \n",
            "init\t [-3.97576933 -2.5610341 ]\t 28.924533081850157\t 5.478261179905657\t    \t    \n",
            "1  \t [2.7754098  2.98802689]\t 25.55950900004833\t 5.478261179905657\t 2.946951084400587\t 3.7096168365584195\n",
            "2  \t [-5.12        4.70930817]\t 70.56956692120035\t 5.478261179905657\t 2.673394451174834\t 3.9076289182279553\n",
            "3  \t [-0.7384277  5.12     ]\t 52.97407547358516\t 5.478261179905657\t 3.237591699222257\t 3.9241432979978836\n",
            "4  \t [-0.10761008 -5.12      ]\t 52.44037993016986\t 5.478261179905657\t 2.9050457639067595\t 2.709196123455283\n",
            "5  \t [5.12       0.17752916]\t 26.277433204757536\t 5.478261179905657\t 3.4483936483349025\t 3.4574411190258876\n",
            "\u001b[1m\u001b[92m6\u001b[0m\t \u001b[1m\u001b[92m[ 1.07553941 -0.32305261]\u001b[0m\t \u001b[1m\u001b[92m1.3655109895426347\u001b[0m\t \u001b[1m\u001b[92m1.3655109895426347\u001b[0m\t \u001b[1m\u001b[92m3.2796520444078885\u001b[0m\t \u001b[1m\u001b[92m3.673660386158033\u001b[0m\n",
            "7  \t [5.12 5.12]\t 78.64320000000001\t 1.3655109895426347\t 3.1809351386651894\t 3.3984269813492407\n",
            "8  \t [-5.12 -5.12]\t 78.64320000000001\t 1.3655109895426347\t 3.411818539399084\t 3.516695901417231\n",
            "9  \t [-0.20154807  1.71505702]\t 5.923462797005232\t 1.3655109895426347\t 2.0131240339340604\t 2.8930538287986236\n",
            "10 \t [-5.12        1.40069171]\t 30.138274547652067\t 1.3655109895426347\t 2.5355596602999997\t 3.0849079298364637\n",
            "11 \t [ 0.69121856 -2.14962464]\t 9.719555314005115\t 1.3655109895426347\t 2.3610547614759008\t 2.642201501996186\n",
            "12 \t [-2.46809162  2.61943802]\t 19.814387285781198\t 1.3655109895426347\t 2.411695241782542\t 2.925394790654942\n",
            "13 \t [ 5.12 -5.12]\t 78.64320000000001\t 1.3655109895426347\t 2.8263145754613492\t 3.354724324245582\n",
            "14 \t [2.63214103 0.0883522 ]\t 6.943778639112445\t 1.3655109895426347\t 2.473111029880461\t 3.075768052336116\n",
            "15 \t [1.99680314 5.12      ]\t 56.416022781355736\t 1.3655109895426347\t 2.4466359252341676\t 2.790557625091381\n",
            "\u001b[1m\u001b[92m16\u001b[0m\t \u001b[1m\u001b[92m[-0.540157   -0.24798432]\u001b[0m\t \u001b[1m\u001b[92m0.41476203159649905\u001b[0m\t \u001b[1m\u001b[92m0.41476203159649905\u001b[0m\t \u001b[1m\u001b[92m3.131765585975353\u001b[0m\t \u001b[1m\u001b[92m2.663760193332006\u001b[0m\n",
            "17 \t [5.12       2.36439579]\t 37.39513487236679\t 0.41476203159649905\t 2.4175990127200446\t 3.143455020997359\n",
            "18 \t [-2.52418839 -5.12      ]\t 58.80032705204217\t 0.41476203159649905\t 2.8877214428069333\t 2.7981113683829455\n",
            "19 \t [3.19291644 1.59889018]\t 15.307615000339212\t 0.41476203159649905\t 3.079886034190424\t 3.079886034190424\n",
            "20 \t [ 2.28786454 -5.12      ]\t 57.66312415505177\t 0.41476203159649905\t 2.363925242062743\t 2.293295287326618\n"
          ]
        }
      ],
      "source": [
        "### ESTIMATED STP EI GRADIENTS\n",
        "\n",
        "np.random.seed(run_num_15)\n",
        "surrogate_approx_15 = dtStudentProcess(cov_func, optimize=opt, nu = df)\n",
        "\n",
        "approx_15 = GPGO_multi(surrogate_approx_15, Acquisition_grad(util), objfunc, param)\n",
        "approx_15.run(init_evals=n_init, max_iter=iters)\n"
      ]
    },
    {
      "cell_type": "code",
      "execution_count": 28,
      "metadata": {
        "id": "bGGkhp-kGCw6",
        "colab": {
          "base_uri": "https://localhost:8080/"
        },
        "outputId": "4ad1765c-758a-48c2-ba94-1d2bf653236b"
      },
      "outputs": [
        {
          "output_type": "stream",
          "name": "stdout",
          "text": [
            "Evaluation \t Proposed point \t  Current eval. \t  Best eval. \t        Exact EI: StdDev. x \t Approx EI: StdDev. x \n",
            "init\t [-2.83349935  0.23719262]\t 8.141239237549925\t 8.141239237549925\t    \t    \n",
            "init\t [ 0.51918292 -4.65303603]\t 43.571039504503474\t 8.141239237549925\t    \t    \n",
            "init\t [-1.42613673 -2.83565116]\t 18.11570093066862\t 8.141239237549925\t    \t    \n",
            "init\t [ 1.9325559  -3.44339021]\t 27.448644544199137\t 8.141239237549925\t    \t    \n",
            "init\t [-4.39987336  4.51595121]\t 60.146516261103784\t 8.141239237549925\t    \t    \n",
            "1  \t [2.50103632 3.62472219]\t 32.532404516030965\t 8.141239237549925\t 3.5713409571506967\t 3.9198499862978435\n",
            "2  \t [-5.12 -5.12]\t 78.64320000000001\t 8.141239237549925\t 3.743534144766618\t 3.673518502565567\n",
            "3  \t [ 5.12       -0.21137561]\t 26.30375929418725\t 8.141239237549925\t 2.9820554509287436\t 3.5283407163293017\n",
            "4  \t [ 5.12 -5.12]\t 78.64320000000001\t 8.141239237549925\t 2.893500625039656\t 3.2298275185276992\n",
            "\u001b[1m\u001b[92m5\u001b[0m\t \u001b[1m\u001b[92m[0.79286055 0.26050399]\u001b[0m\t \u001b[1m\u001b[92m0.7643525081046433\u001b[0m\t \u001b[1m\u001b[92m0.7643525081046433\u001b[0m\t \u001b[1m\u001b[92m3.02465678218055\u001b[0m\t \u001b[1m\u001b[92m2.9162945630715016\u001b[0m\n",
            "6  \t [-0.70432635  5.12      ]\t 52.92487560353158\t 0.7643525081046433\t 4.008622063497684\t 3.683911228771167\n",
            "7  \t [-5.12       -1.37639968]\t 30.003352174984094\t 0.7643525081046433\t 3.0835930742656887\t 2.6688922937457784\n",
            "8  \t [5.12 5.12]\t 78.64320000000001\t 0.7643525081046433\t 2.758582573887298\t 2.591715490571105\n",
            "9  \t [-0.72074128  1.8348715 ]\t 7.252974858859312\t 0.7643525081046433\t 2.671771843159588\t 2.8624458337139305\n",
            "10 \t [-5.12        1.53318942]\t 30.915739569914543\t 0.7643525081046433\t 2.746809991822872\t 3.048495579591058\n",
            "11 \t [ 2.40836345 -0.59652416]\t 6.5118966407736965\t 0.7643525081046433\t 2.825192437557324\t 2.86474068263058\n",
            "12 \t [-0.65438089 -0.60133191]\t 1.1514144948005862\t 0.7643525081046433\t 2.873674358246948\t 3.339697447102078\n",
            "13 \t [-2.20507542 -5.12      ]\t 57.29115762820068\t 0.7643525081046433\t 2.671635535402362\t 2.690080235417089\n",
            "14 \t [5.12      2.1911317]\t 35.81651624718097\t 0.7643525081046433\t 2.359640882691364\t 2.293923684336525\n",
            "15 \t [ 4.26056207 -2.36654816]\t 29.353489599828844\t 0.7643525081046433\t 2.123950609522324\t 2.542060297847343\n",
            "16 \t [2.13156038 1.23618551]\t 7.599858879397144\t 0.7643525081046433\t 2.129023419152713\t 1.8143622647880135\n",
            "17 \t [-2.46217022  2.48519866]\t 18.414706985302388\t 0.7643525081046433\t 2.5875022037701143\t 2.8118348465946514\n",
            "18 \t [-4.06066837 -2.87289754]\t 32.996108097268404\t 0.7643525081046433\t 2.6644376874514846\t 3.2340566990961572\n",
            "19 \t [ 0.64439622 -1.77419201]\t 6.710761030712185\t 0.7643525081046433\t 2.6112342965945725\t 2.86380252754205\n",
            "20 \t [0.53156443 2.75413162]\t 15.453042754379606\t 0.7643525081046433\t 2.590552268777262\t 2.338275112582096\n"
          ]
        }
      ],
      "source": [
        "### ESTIMATED STP EI GRADIENTS\n",
        "\n",
        "np.random.seed(run_num_16)\n",
        "surrogate_approx_16 = dtStudentProcess(cov_func, optimize=opt, nu = df)\n",
        "\n",
        "approx_16 = GPGO_multi(surrogate_approx_16, Acquisition_grad(util), objfunc, param)\n",
        "approx_16.run(init_evals=n_init, max_iter=iters)\n"
      ]
    },
    {
      "cell_type": "code",
      "execution_count": 29,
      "metadata": {
        "id": "Yrs2mp7hGC1Z",
        "colab": {
          "base_uri": "https://localhost:8080/"
        },
        "outputId": "c26beb51-2b6b-41cf-aa69-0e40826e7cae"
      },
      "outputs": [
        {
          "output_type": "stream",
          "name": "stdout",
          "text": [
            "Evaluation \t Proposed point \t  Current eval. \t  Best eval. \t        Exact EI: StdDev. x \t Approx EI: StdDev. x \n",
            "init\t [-2.10263037  0.31320838]\t 4.617253458637031\t 3.1817562258207746\t    \t    \n",
            "init\t [-3.15882714 -4.42470033]\t 49.134134969019556\t 3.1817562258207746\t    \t    \n",
            "init\t [2.93873111 1.60085526]\t 13.761615685279608\t 3.1817562258207746\t    \t    \n",
            "init\t [1.40821398 0.77417363]\t 3.1817562258207746\t 3.1817562258207746\t    \t    \n",
            "init\t [-4.71999574 -1.45598869]\t 26.518165900202685\t 3.1817562258207746\t    \t    \n",
            "1  \t [ 4.96008736 -4.44720822]\t 64.15778856025273\t 3.1817562258207746\t 3.029644539389759\t 4.401036040357305\n",
            "2  \t [-4.99955444  4.66425765]\t 68.50614350068399\t 3.1817562258207746\t 2.8602684376192613\t 3.44151993856674\n",
            "3  \t [1.06449095e-03 5.12000000e+00]\t 52.428801133140986\t 3.1817562258207746\t 2.6744961716516693\t 3.2750192633214743\n",
            "4  \t [5.12 5.12]\t 78.64320000000001\t 3.1817562258207746\t 3.3725585264469493\t 3.675536332567775\n",
            "5  \t [ 0.86742521 -2.76075609]\t 15.995974859937496\t 3.1817562258207746\t 2.842196582886481\t 2.901436087777876\n",
            "6  \t [ 5.12       -0.69612077]\t 27.183568259170734\t 3.1817562258207746\t 2.7969769720033026\t 2.784645428854772\n",
            "7  \t [-2.21334403  2.65114402]\t 18.95602100056436\t 3.1817562258207746\t 2.570550550884695\t 2.3469754885743184\n",
            "8  \t [-5.12        1.39747323]\t 30.120262834945763\t 3.1817562258207746\t 3.107084719257672\t 3.2530992721465255\n",
            "9  \t [ 0.11304937 -5.12      ]\t 52.44158016018616\t 3.1817562258207746\t 3.2373496179280874\t 3.10405007949216\n",
            "10 \t [-1.48085405 -1.67508437]\t 7.804743992286239\t 3.1817562258207746\t 2.583622543058865\t 2.4009102851988753\n",
            "11 \t [ 2.46670746 -1.08975627]\t 8.459783120188169\t 3.1817562258207746\t 3.246653762173022\t 2.7060503894915255\n",
            "12 \t [0.18866322 2.01544397]\t 8.159622642685017\t 3.1817562258207746\t 2.560262092257303\t 2.530884309847883\n",
            "13 \t [5.12       2.06503698]\t 34.74315544528079\t 3.1817562258207746\t 2.12630212739941\t 2.6009416265251764\n",
            "\u001b[1m\u001b[92m14\u001b[0m\t \u001b[1m\u001b[92m[-0.00421994 -0.24647147]\u001b[0m\t \u001b[1m\u001b[92m0.12151417745775187\u001b[0m\t \u001b[1m\u001b[92m0.12151417745775187\u001b[0m\t \u001b[1m\u001b[92m2.6449799809376264\u001b[0m\t \u001b[1m\u001b[92m2.8256802524931035\u001b[0m\n",
            "15 \t [2.40639149 3.82753381]\t 35.09075013424296\t 0.12151417745775187\t 2.5608944630393906\t 2.935072447666598\n",
            "16 \t [ 2.55576937 -5.12      ]\t 58.960757075814485\t 0.12151417745775187\t 2.1660948834604903\t 2.222126835215381\n",
            "17 \t [-2.50348059  5.12      ]\t 58.696215061805006\t 0.12151417745775187\t 2.6935475612199076\t 3.310930974602025\n",
            "18 \t [-5.12 -5.12]\t 78.64320000000001\t 0.12151417745775187\t 2.8354494216191557\t 3.2900071763422893\n",
            "19 \t [ 3.41827345 -2.54495783]\t 24.638214127143844\t 0.12151417745775187\t 2.5277681226961843\t 2.539982904134067\n",
            "20 \t [-1.21493157 -3.40278302]\t 24.633923269806083\t 0.12151417745775187\t 2.693603429439814\t 2.850324969404916\n"
          ]
        }
      ],
      "source": [
        "### ESTIMATED STP EI GRADIENTS\n",
        "\n",
        "np.random.seed(run_num_17)\n",
        "surrogate_approx_17 = dtStudentProcess(cov_func, optimize=opt, nu = df)\n",
        "\n",
        "approx_17 = GPGO_multi(surrogate_approx_17, Acquisition_grad(util), objfunc, param)\n",
        "approx_17.run(init_evals=n_init, max_iter=iters)\n"
      ]
    },
    {
      "cell_type": "code",
      "execution_count": 30,
      "metadata": {
        "id": "f0HIEP3PIUEa",
        "colab": {
          "base_uri": "https://localhost:8080/"
        },
        "outputId": "4b80906e-560d-4c47-ddda-9c242213067b"
      },
      "outputs": [
        {
          "output_type": "stream",
          "name": "stdout",
          "text": [
            "Evaluation \t Proposed point \t  Current eval. \t  Best eval. \t        Exact EI: StdDev. x \t Approx EI: StdDev. x \n",
            "init\t [1.53983224 0.05584255]\t 2.3773200933391867\t 2.3773200933391867\t    \t    \n",
            "init\t [ 3.87687906 -3.25795609]\t 36.25874706055664\t 2.3773200933391867\t    \t    \n",
            "init\t [3.60686662 2.56139557]\t 26.130981366974602\t 2.3773200933391867\t    \t    \n",
            "init\t [1.70088108 4.99604939]\t 52.81401545301259\t 2.3773200933391867\t    \t    \n",
            "init\t [-2.48864335 -4.83014733]\t 52.85399210258478\t 2.3773200933391867\t    \t    \n",
            "1  \t [-5.12        2.60810708]\t 39.81884503003735\t 2.3773200933391867\t 3.2039672804564496\t 3.6212463412265103\n",
            "2  \t [-2.04076485 -0.41706207]\t 4.512602701423544\t 2.3773200933391867\t 2.8361488159501125\t 2.6369414892675507\n",
            "3  \t [-5.12       -1.69908074]\t 31.988150736930052\t 2.3773200933391867\t 3.3934799223412995\t 3.078211273950788\n",
            "4  \t [-2.2597615  5.12     ]\t 57.535322054650265\t 2.3773200933391867\t 2.863827042631827\t 3.3516596085565538\n",
            "5  \t [ 0.34968941 -2.50628864]\t 12.685248148820929\t 2.3773200933391867\t 2.7876699466949506\t 2.721157701544295\n",
            "6  \t [-0.43396388  1.89905147]\t 7.401117610030648\t 2.3773200933391867\t 2.678781222885513\t 3.1362120238183464\n",
            "7  \t [ 5.12       -0.21111278]\t 26.303537208642645\t 2.3773200933391867\t 2.897128993141868\t 3.5967272855775625\n",
            "8  \t [5.12 5.12]\t 78.64320000000001\t 2.3773200933391867\t 2.9543497167759774\t 2.966658723094071\n",
            "9  \t [ 1.19119206 -5.12      ]\t 53.84773851933828\t 2.3773200933391867\t 2.720154211476947\t 2.454921669865697\n",
            "10 \t [-5.12 -5.12]\t 78.64320000000001\t 2.3773200933391867\t 3.1114986725441205\t 3.547318582239828\n",
            "11 \t [-2.57475132  1.59560151]\t 11.721232721773465\t 2.3773200933391867\t 2.726925912831093\t 2.9285080358520736\n",
            "12 \t [-5.12  5.12]\t 78.64320000000001\t 2.3773200933391867\t 2.4745104767216146\t 2.197088516553414\n",
            "13 \t [ 5.12 -5.12]\t 78.64320000000001\t 2.3773200933391867\t 2.7842230333955804\t 2.4498520816697416\n",
            "14 \t [-2.16451238 -2.14451323]\t 13.882987860650509\t 2.3773200933391867\t 2.260956843991482\t 2.0117864820440707\n",
            "15 \t [ 3.00438367 -1.15473718]\t 11.693157172872848\t 2.3773200933391867\t 2.647628674316607\t 2.608214505689756\n",
            "\u001b[1m\u001b[92m16\u001b[0m\t \u001b[1m\u001b[92m[-0.17181441 -0.20726732]\u001b[0m\t \u001b[1m\u001b[92m0.11543967178133485\u001b[0m\t \u001b[1m\u001b[92m0.11543967178133485\u001b[0m\t \u001b[1m\u001b[92m2.174669513306968\u001b[0m\t \u001b[1m\u001b[92m2.0163248351015737\u001b[0m\n",
            "17 \t [-4.38280892  0.40913665]\t 19.54379963216077\t 0.11543967178133485\t 3.1924099829766805\t 2.8937443175018975\n",
            "18 \t [-0.3271071   3.99499078]\t 32.026901644658345\t 0.11543967178133485\t 3.1026842071620915\t 3.184665691563327\n",
            "19 \t [1.39728687 1.67889676]\t 7.5897992358216735\t 0.11543967178133485\t 2.2654854445815262\t 2.3760578467233233\n",
            "20 \t [-0.49704439 -4.76661766]\t 45.6883410054552\t 0.11543967178133485\t 2.76450952401663\t 2.733852737950959\n"
          ]
        }
      ],
      "source": [
        "### ESTIMATED STP EI GRADIENTS\n",
        "\n",
        "np.random.seed(run_num_18)\n",
        "surrogate_approx_18 = dtStudentProcess(cov_func, optimize=opt, nu = df)\n",
        "\n",
        "approx_18 = GPGO_multi(surrogate_approx_18, Acquisition_grad(util), objfunc, param)\n",
        "approx_18.run(init_evals=n_init, max_iter=iters)\n"
      ]
    },
    {
      "cell_type": "code",
      "execution_count": 31,
      "metadata": {
        "id": "S3mxRQDLIUPC",
        "colab": {
          "base_uri": "https://localhost:8080/"
        },
        "outputId": "3e6ab705-d9bb-40a4-fef0-f7a59563b66d"
      },
      "outputs": [
        {
          "output_type": "stream",
          "name": "stdout",
          "text": [
            "Evaluation \t Proposed point \t  Current eval. \t  Best eval. \t        Exact EI: StdDev. x \t Approx EI: StdDev. x \n",
            "init\t [-4.12125592  2.6751971 ]\t 31.298109376682206\t 22.814458446152262\t    \t    \n",
            "init\t [-2.59135515 -3.70553152]\t 34.17704923320956\t 22.814458446152262\t    \t    \n",
            "init\t [-1.72598719 -4.27008445]\t 39.4462742815243\t 22.814458446152262\t    \t    \n",
            "init\t [1.76104531 3.13952049]\t 22.814458446152262\t 22.814458446152262\t    \t    \n",
            "init\t [4.9432772  1.38916592]\t 28.295553455390152\t 22.814458446152262\t    \t    \n",
            "1  \t [ 4.87734533 -4.87691564]\t 71.3571098238761\t 22.814458446152262\t 3.1702654048389025\t 4.5172584886297455\n",
            "\u001b[1m\u001b[92m2\u001b[0m\t \u001b[1m\u001b[92m[ 1.53953645 -1.36302786]\u001b[0m\t \u001b[1m\u001b[92m6.085862401371496\u001b[0m\t \u001b[1m\u001b[92m6.085862401371496\u001b[0m\t \u001b[1m\u001b[92m3.7941220070969255\u001b[0m\t \u001b[1m\u001b[92m3.3700698769119852\u001b[0m\n",
            "3  \t [5.12 5.12]\t 78.64320000000001\t 6.085862401371496\t 3.53008802183886\t 3.866353449744504\n",
            "4  \t [-5.12       -1.02145506]\t 28.30114089330921\t 6.085862401371496\t 3.079712039691012\t 3.07042381835894\n",
            "5  \t [-1.31664437  5.12      ]\t 54.16235239055829\t 6.085862401371496\t 2.9530657548033514\t 3.288568896881796\n",
            "\u001b[1m\u001b[92m6\u001b[0m\t \u001b[1m\u001b[92m[-1.22383399  0.29685884]\u001b[0m\t \u001b[1m\u001b[92m1.674019979435625\u001b[0m\t \u001b[1m\u001b[92m1.674019979435625\u001b[0m\t \u001b[1m\u001b[92m3.190614208312054\u001b[0m\t \u001b[1m\u001b[92m2.7864574890423666\u001b[0m\n",
            "7  \t [ 1.39191976 -5.12      ]\t 54.36624060655457\t 1.674019979435625\t 2.9903367670088765\t 3.657337735363635\n",
            "8  \t [-5.12 -5.12]\t 78.64320000000001\t 1.674019979435625\t 2.6150205784850056\t 2.3826269536111657\n",
            "9  \t [ 4.42652605 -1.57841152]\t 24.5768986977156\t 1.674019979435625\t 2.4884861672156755\t 3.044285604098847\n",
            "10 \t [-5.12  5.12]\t 78.64320000000001\t 1.674019979435625\t 2.8737138803490954\t 3.0345539538860726\n",
            "\u001b[1m\u001b[92m11\u001b[0m\t \u001b[1m\u001b[92m[0.74877665 0.69467803]\u001b[0m\t \u001b[1m\u001b[92m1.525821602350021\u001b[0m\t \u001b[1m\u001b[92m1.525821602350021\u001b[0m\t \u001b[1m\u001b[92m2.150597810215166\u001b[0m\t \u001b[1m\u001b[92m2.5450883887278533\u001b[0m\n",
            "12 \t [-1.03905879  2.13775721]\t 10.219654950756846\t 1.525821602350021\t 2.6271765685584585\t 2.15473589913133\n",
            "13 \t [-0.6850675  -1.47428468]\t 4.816348116666827\t 1.525821602350021\t 3.036323348614844\t 2.3340990084990394\n",
            "14 \t [-2.69936873 -0.46807162]\t 7.7247736290393165\t 1.525821602350021\t 2.331462611179253\t 2.6270573944689306\n",
            "15 \t [2.5015735  0.50982482]\t 6.7777126572449315\t 1.525821602350021\t 2.845648333254879\t 2.6015743657998462\n",
            "16 \t [1.91946672 5.12      ]\t 56.11315250572896\t 1.525821602350021\t 2.6634741583222734\t 2.964602740491626\n",
            "17 \t [ 2.50996419 -2.83971823]\t 22.427919454621318\t 1.525821602350021\t 2.5979243144836883\t 2.3573091244472453\n",
            "18 \t [3.81167837 3.1643533 ]\t 34.555155672254834\t 1.525821602350021\t 2.8494886909361936\t 3.269267501031394\n",
            "19 \t [ 0.2797715  -3.18167573]\t 20.324392965003696\t 1.525821602350021\t 2.4701101017466605\t 2.840356175224276\n",
            "20 \t [-2.6793621   1.22814413]\t 10.195657234865942\t 1.525821602350021\t 2.6701126332602865\t 2.78448759258154\n"
          ]
        }
      ],
      "source": [
        "### ESTIMATED STP EI GRADIENTS\n",
        "\n",
        "np.random.seed(run_num_19)\n",
        "surrogate_approx_19 = dtStudentProcess(cov_func, optimize=opt, nu = df)\n",
        "\n",
        "approx_19 = GPGO_multi(surrogate_approx_19, Acquisition_grad(util), objfunc, param)\n",
        "approx_19.run(init_evals=n_init, max_iter=iters)\n"
      ]
    },
    {
      "cell_type": "code",
      "execution_count": 32,
      "metadata": {
        "id": "Aawd59dRIUYn",
        "colab": {
          "base_uri": "https://localhost:8080/"
        },
        "outputId": "e069bc80-e228-4fe1-eb3b-556cc3e54931"
      },
      "outputs": [
        {
          "output_type": "stream",
          "name": "stdout",
          "text": [
            "Evaluation \t Proposed point \t  Current eval. \t  Best eval. \t        Exact EI: StdDev. x \t Approx EI: StdDev. x \n",
            "init\t [0.9024594  4.07258857]\t 33.98638835688907\t 1.615187047660523\t    \t    \n",
            "init\t [4.00927467 3.23417577]\t 36.994069169927414\t 1.615187047660523\t    \t    \n",
            "init\t [-4.75249064  1.96359764]\t 30.297598676217497\t 1.615187047660523\t    \t    \n",
            "init\t [-1.24230715  0.18955208]\t 1.615187047660523\t 1.615187047660523\t    \t    \n",
            "init\t [ 1.61742301 -3.13497377]\t 22.27217824772924\t 1.615187047660523\t    \t    \n",
            "1  \t [-4.40266444 -3.81882145]\t 48.55024865945411\t 1.615187047660523\t 3.0617269241324045\t 2.954028476584628\n",
            "2  \t [ 5.12 -5.12]\t 78.64320000000001\t 1.615187047660523\t 2.7278762627233832\t 3.5864599193536137\n",
            "3  \t [ 5.12       -0.73704786]\t 27.300879100595694\t 1.615187047660523\t 3.009758849575515\t 3.234342197575541\n",
            "4  \t [-2.84852768  5.12      ]\t 60.54290997206294\t 1.615187047660523\t 3.201938397579291\t 3.6421785816729377\n",
            "5  \t [-1.03762845 -5.12      ]\t 53.50547279468661\t 1.615187047660523\t 3.0719153098620806\t 2.47272244168652\n",
            "6  \t [1.50425884 0.38155139]\t 2.553957583743043\t 1.615187047660523\t 3.1660661841051847\t 3.253464217779108\n",
            "7  \t [-3.18938768 -0.8370194 ]\t 11.573396727856805\t 1.615187047660523\t 3.2504517902445653\t 3.637557535271169\n",
            "8  \t [-1.47893943  2.12056338]\t 11.180839882868986\t 1.615187047660523\t 2.858853005404924\t 3.329536474246255\n",
            "9  \t [-0.73447898 -1.71675427]\t 6.43394983206967\t 1.615187047660523\t 2.6502905690033005\t 3.159979539124651\n",
            "10 \t [-5.12       -0.88877758]\t 27.794251172101863\t 1.615187047660523\t 3.201878138313347\t 3.21615127673931\n",
            "11 \t [5.12 5.12]\t 78.64320000000001\t 1.615187047660523\t 2.6778735669075755\t 3.137847203944852\n",
            "12 \t [ 2.63839974 -0.8859413 ]\t 8.53093717341344\t 1.615187047660523\t 2.753582487162963\t 3.184878870855497\n",
            "13 \t [ 2.12535098 -5.12      ]\t 56.94591678639599\t 1.615187047660523\t 2.727186408894185\t 3.8103175587705302\n",
            "14 \t [0.41491694 1.39424885]\t 4.0600158017102315\t 1.615187047660523\t 2.5136018434764407\t 2.6995647408173156\n",
            "15 \t [2.98207772 1.09936798]\t 11.310007422726619\t 1.615187047660523\t 2.609860156849559\t 2.9760006968278567\n",
            "\u001b[1m\u001b[92m16\u001b[0m\t \u001b[1m\u001b[92m[ 0.39059931 -0.53440465]\u001b[0m\t \u001b[1m\u001b[92m0.7237444757042027\u001b[0m\t \u001b[1m\u001b[92m0.7237444757042027\u001b[0m\t \u001b[1m\u001b[92m2.354239170118749\u001b[0m\t \u001b[1m\u001b[92m2.6086863136489464\u001b[0m\n",
            "17 \t [-5.12  5.12]\t 78.64320000000001\t 0.7237444757042027\t 2.520732094967218\t 3.0155769460897375\n",
            "18 \t [ 4.00520714 -2.86186868]\t 32.422268905589505\t 0.7237444757042027\t 3.08678279252842\t 3.03633012052705\n",
            "19 \t [-2.16546558 -2.79368044]\t 20.29854202340529\t 0.7237444757042027\t 2.8776198533715194\t 2.9883736187251593\n",
            "20 \t [2.52668535 5.12      ]\t 58.81293884078311\t 0.7237444757042027\t 2.6992829021581537\t 2.807426582349051\n"
          ]
        }
      ],
      "source": [
        "### ESTIMATED STP EI GRADIENTS\n",
        "\n",
        "np.random.seed(run_num_20)\n",
        "surrogate_approx_20 = dtStudentProcess(cov_func, optimize=opt, nu = df)\n",
        "\n",
        "approx_20 = GPGO_multi(surrogate_approx_20, Acquisition_grad(util), objfunc, param)\n",
        "approx_20.run(init_evals=n_init, max_iter=iters)\n"
      ]
    },
    {
      "cell_type": "code",
      "execution_count": 33,
      "metadata": {
        "id": "xkgzPRbBTHaq",
        "colab": {
          "base_uri": "https://localhost:8080/"
        },
        "outputId": "b052907d-d2c9-49a6-e73e-12b207ace7e3"
      },
      "outputs": [
        {
          "output_type": "execute_result",
          "data": {
            "text/plain": [
              "1662386295.539737"
            ]
          },
          "metadata": {},
          "execution_count": 33
        }
      ],
      "source": [
        "end_approx = time.time()\n",
        "end_approx\n",
        "\n",
        "time_approx = end_approx - start_approx\n",
        "time_approx\n",
        "\n",
        "start_exact = time.time()\n",
        "start_exact"
      ]
    },
    {
      "cell_type": "code",
      "execution_count": 34,
      "metadata": {
        "id": "7CG3Ndvb16Rb",
        "colab": {
          "base_uri": "https://localhost:8080/"
        },
        "outputId": "85d6b057-c3f3-4a51-be24-1cd6567fa41d"
      },
      "outputs": [
        {
          "output_type": "stream",
          "name": "stdout",
          "text": [
            "Evaluation \t Proposed point \t  Current eval. \t  Best eval. \t        Exact EI: StdDev. x \t Approx EI: StdDev. x \n",
            "init\t [-0.84969467  2.25612281]\t 10.902161328666502\t 1.4334486961549602\t    \t    \n",
            "init\t [-5.1188288  -2.02411446]\t 34.396486966857985\t 1.4334486961549602\t    \t    \n",
            "init\t [-3.61721968 -4.17445279]\t 47.936390383803385\t 1.4334486961549602\t    \t    \n",
            "init\t [-3.21269544 -1.58145816]\t 15.323431753768267\t 1.4334486961549602\t    \t    \n",
            "init\t [-1.05710106  0.39748336]\t 1.4334486961549602\t 1.4334486961549602\t    \t    \n",
            "1  \t [ 4.04077223 -4.24914728]\t 52.43834538835027\t 1.4334486961549602\t 2.9799470751008448\t 4.192274266791109\n",
            "2  \t [4.42977754 2.01541797]\t 27.746748284258675\t 1.4334486961549602\t 3.0404581104611554\t 3.456996873533477\n",
            "3  \t [ 0.70503872 -1.87020893]\t 7.492442463517867\t 1.4334486961549602\t 2.9642200721557983\t 3.891863247821448\n",
            "4  \t [-4.89958599  4.58721496]\t 66.09102514366414\t 1.4334486961549602\t 2.9663641480066967\t 4.12658556044772\n",
            "5  \t [-0.17058957 -5.12      ]\t 52.457900799779765\t 1.4334486961549602\t 3.192509505279646\t 3.650361624762834\n",
            "6  \t [-0.89703758  5.12      ]\t 53.233476427022985\t 1.4334486961549602\t 2.6166239733712744\t 2.876209172155932\n",
            "7  \t [2.96024718 5.08831915]\t 60.54504697221543\t 1.4334486961549602\t 3.188826521861704\t 3.481031142365151\n",
            "8  \t [-5.12        1.13168778]\t 28.775834447898873\t 1.4334486961549602\t 2.9486545842934304\t 3.410966425102677\n",
            "9  \t [ 5.12       -1.16179591]\t 28.913939461375232\t 1.4334486961549602\t 2.672630795415001\t 3.141021560198394\n",
            "10 \t [1.41636417 1.12754107]\t 4.5487852037883725\t 1.4334486961549602\t 2.7813221166325577\t 2.900842613011078\n",
            "11 \t [ 2.57605739 -1.01259889]\t 8.686784683116182\t 1.4334486961549602\t 2.8347055692830727\t 2.532667450664508\n",
            "12 \t [-2.70740167  1.40043259]\t 11.252446670545595\t 1.4334486961549602\t 3.1972023432898653\t 2.5635108635121218\n",
            "13 \t [-1.11699116 -1.94284033]\t 8.796926390989231\t 1.4334486961549602\t 2.3903043962845016\t 2.4644409379598824\n",
            "14 \t [5.12 5.12]\t 78.64320000000001\t 1.4334486961549602\t 2.814631820004567\t 3.03261549650352\n",
            "15 \t [1.2366888 2.948986 ]\t 18.922436005574554\t 1.4334486961549602\t 2.487364913300652\t 2.238067434135949\n",
            "\u001b[1m\u001b[92m16\u001b[0m\t \u001b[1m\u001b[92m[ 0.71973547 -0.27350638]\u001b[0m\t \u001b[1m\u001b[92m0.6676306333346996\u001b[0m\t \u001b[1m\u001b[92m0.6676306333346996\u001b[0m\t \u001b[1m\u001b[92m2.3825452108472196\u001b[0m\t \u001b[1m\u001b[92m2.879493656087342\u001b[0m\n",
            "17 \t [ 1.85000558 -4.34812831]\t 41.234960323756816\t 0.6676306333346996\t 3.1310294101377427\t 3.0398969582486353\n",
            "18 \t [2.64831681 0.78175841]\t 8.235874377087328\t 0.6676306333346996\t 2.698736592822117\t 2.711514005858109\n",
            "19 \t [-1.70283906 -3.7383497 ]\t 30.850177844236356\t 0.6676306333346996\t 3.417071164943572\t 3.4392997081237984\n",
            "20 \t [-2.60327578  3.13491193]\t 26.432390455511243\t 0.6676306333346996\t 2.537718520973402\t 2.413434691963105\n"
          ]
        }
      ],
      "source": [
        "### EXACT STP EI GRADIENTS\n",
        "\n",
        "np.random.seed(run_num_1)\n",
        "surrogate_exact_1 = dtStudentProcess(cov_func, optimize=opt, nu = df)\n",
        "\n",
        "exact_1 = dGPGO(surrogate_exact_1, Acquisition_grad(util), objfunc, param)\n",
        "exact_1.run(init_evals=n_init, max_iter=iters)\n"
      ]
    },
    {
      "cell_type": "code",
      "execution_count": 35,
      "metadata": {
        "id": "-ilCPSAu9SAg",
        "colab": {
          "base_uri": "https://localhost:8080/"
        },
        "outputId": "a13f5fb5-757a-40bf-d606-c0d525e3808c"
      },
      "outputs": [
        {
          "output_type": "stream",
          "name": "stdout",
          "text": [
            "Evaluation \t Proposed point \t  Current eval. \t  Best eval. \t        Exact EI: StdDev. x \t Approx EI: StdDev. x \n",
            "init\t [-0.6554122  -4.85451539]\t 47.562204422038214\t 1.1358959044973735\t    \t    \n",
            "init\t [ 0.50854377 -0.6622987 ]\t 1.1358959044973735\t 1.1358959044973735\t    \t    \n",
            "init\t [-0.81543371 -1.73737143]\t 6.7018511217540135\t 1.1358959044973735\t    \t    \n",
            "init\t [-3.02439799  1.2213347 ]\t 12.13030006303276\t 1.1358959044973735\t    \t    \n",
            "init\t [-2.05153614 -2.3876887 ]\t 15.610915224537823\t 1.1358959044973735\t    \t    \n",
            "1  \t [4.81874241 3.07464552]\t 42.12716849729408\t 1.1358959044973735\t 3.295949625249032\t 3.76394240085085\n",
            "2  \t [ 4.84260546 -3.96517156]\t 54.89599861946712\t 1.1358959044973735\t 2.469412380602055\t 3.8761364370549227\n",
            "3  \t [0.47291219 3.50002305]\t 24.723968609082025\t 1.1358959044973735\t 3.5245246106980623\t 3.9974292884739064\n",
            "4  \t [-5.12 -5.12]\t 78.64320000000001\t 1.1358959044973735\t 3.307188106630815\t 3.251282912105232\n",
            "5  \t [ 3.34154465 -0.52061153]\t 11.707993393985362\t 1.1358959044973735\t 3.062060881634684\t 3.3722905473134253\n",
            "6  \t [-4.40667555  4.45597249]\t 59.13017108022278\t 1.1358959044973735\t 3.2336596105364968\t 3.592449670562108\n",
            "7  \t [ 1.76748181 -2.80909195]\t 18.90598709879483\t 1.1358959044973735\t 3.0449114216433317\t 2.8780724642964666\n",
            "8  \t [2.72102911 5.12      ]\t 59.83279940264515\t 1.1358959044973735\t 2.3531613139947014\t 2.788798612473649\n",
            "9  \t [-5.12       -1.32422156]\t 29.72152546981425\t 1.1358959044973735\t 2.568845164113378\t 2.598374299628642\n",
            "10 \t [-0.65660648  0.90032394]\t 2.0522984525628445\t 1.1358959044973735\t 2.7038262854542423\t 2.9304472189567665\n",
            "11 \t [1.64465523 1.11477586]\t 5.190341286632688\t 1.1358959044973735\t 2.7511833303540683\t 3.0681043766769642\n",
            "12 \t [5.12       0.28875154]\t 26.381154906936988\t 1.1358959044973735\t 2.725621734681737\t 2.5746651292991523\n",
            "13 \t [-1.79798793  3.53487935]\t 28.223504674083383\t 1.1358959044973735\t 2.747146300816381\t 3.1813932611067197\n",
            "14 \t [-2.52671038 -0.3220207 ]\t 6.591659990996799\t 1.1358959044973735\t 2.453201816301015\t 2.9344866590794663\n",
            "15 \t [-5.03789254  1.37074025]\t 29.1382188601058\t 1.1358959044973735\t 2.728766430058119\t 2.7866616846636627\n",
            "16 \t [ 1.77503146 -4.70721187]\t 47.46642393265993\t 1.1358959044973735\t 2.8292077770842847\t 2.8548621307058513\n",
            "17 \t [-4.35299134 -3.36019106]\t 41.530301542296236\t 1.1358959044973735\t 2.966594600661182\t 3.0989197886102295\n",
            "18 \t [2.73212218 2.11406359]\t 16.40302130624631\t 1.1358959044973735\t 2.4523062459321805\t 2.8503649098394623\n",
            "19 \t [5.12 5.12]\t 78.64320000000001\t 1.1358959044973735\t 2.6527915572823737\t 2.4597741005619915\n",
            "20 \t [-1.50172301  5.12      ]\t 54.683971986731386\t 1.1358959044973735\t 3.036020942221302\t 3.186701176849125\n"
          ]
        }
      ],
      "source": [
        "### EXACT STP EI GRADIENTS\n",
        "\n",
        "np.random.seed(run_num_2)\n",
        "surrogate_exact_2 = dtStudentProcess(cov_func, optimize=opt, nu = df)\n",
        "\n",
        "exact_2 = dGPGO(surrogate_exact_2, Acquisition_grad(util), objfunc, param)\n",
        "exact_2.run(init_evals=n_init, max_iter=iters)\n"
      ]
    },
    {
      "cell_type": "code",
      "execution_count": 36,
      "metadata": {
        "id": "XieJ158mIvlP",
        "colab": {
          "base_uri": "https://localhost:8080/"
        },
        "outputId": "5955e448-a679-42f4-ada9-3f322a106479"
      },
      "outputs": [
        {
          "output_type": "stream",
          "name": "stdout",
          "text": [
            "Evaluation \t Proposed point \t  Current eval. \t  Best eval. \t        Exact EI: StdDev. x \t Approx EI: StdDev. x \n",
            "init\t [0.52017052 2.1314337 ]\t 9.356596638100186\t 4.609047504113831\t    \t    \n",
            "init\t [-2.14113547  0.11087468]\t 4.609047504113831\t 4.609047504113831\t    \t    \n",
            "init\t [4.02377681 4.05804123]\t 49.12617709674532\t 4.609047504113831\t    \t    \n",
            "init\t [-3.83400642 -2.99783293]\t 32.673609761904345\t 4.609047504113831\t    \t    \n",
            "init\t [-4.59297584 -0.6061072 ]\t 21.83015892853491\t 4.609047504113831\t    \t    \n",
            "1  \t [ 2.87042319 -1.98283743]\t 16.10261781709846\t 4.609047504113831\t 2.964631924916011\t 2.6270820340778105\n",
            "2  \t [-3.19677619  4.62951673]\t 53.08422830822903\t 4.609047504113831\t 3.0714919875493076\t 4.0888538948112485\n",
            "3  \t [5.12       0.43052476]\t 26.585103144927754\t 4.609047504113831\t 2.68170134334774\t 3.316457065909388\n",
            "4  \t [ 0.00948055 -5.12      ]\t 52.42888988088601\t 4.609047504113831\t 2.7819726428202625\t 3.335169911094238\n",
            "5  \t [ 3.36314288 -4.68920808]\t 55.28807488779404\t 4.609047504113831\t 2.657676828561898\t 3.349661437607405\n",
            "\u001b[1m\u001b[92m6\u001b[0m\t \u001b[1m\u001b[92m[-0.20536532 -1.3057836 ]\u001b[0m\t \u001b[1m\u001b[92m3.4523165119826182\u001b[0m\t \u001b[1m\u001b[92m3.4523165119826182\u001b[0m\t \u001b[1m\u001b[92m2.8353186708503517\u001b[0m\t \u001b[1m\u001b[92m3.0352365822005303\u001b[0m\n",
            "7  \t [0.43228658 5.07027688]\t 51.60228706123868\t 3.4523165119826182\t 3.0056933311791507\t 3.2027199273601585\n",
            "8  \t [-5.05995935  2.1371721 ]\t 34.73819784091651\t 3.4523165119826182\t 2.9194646789755696\t 3.216215621401976\n",
            "9  \t [-2.63428211 -5.12      ]\t 59.36824222187896\t 3.4523165119826182\t 2.6540989068145233\t 3.014170199049387\n",
            "\u001b[1m\u001b[92m10\u001b[0m\t \u001b[1m\u001b[92m[1.14411893 0.09002891]\u001b[0m\t \u001b[1m\u001b[92m1.325218528401687\u001b[0m\t \u001b[1m\u001b[92m1.325218528401687\u001b[0m\t \u001b[1m\u001b[92m2.7440301067827404\u001b[0m\t \u001b[1m\u001b[92m2.7895398676614644\u001b[0m\n",
            "11 \t [2.7469131  0.76809548]\t 8.725472934891165\t 1.325218528401687\t 2.4469500009250305\t 2.5387197334537266\n",
            "12 \t [ 5.12       -2.19977435]\t 35.89241439436586\t 1.325218528401687\t 2.5133591048858768\t 2.5427537060941696\n",
            "13 \t [-1.45344694  1.76169417]\t 8.319640707587615\t 1.325218528401687\t 3.194520489910883\t 2.6893927836755793\n",
            "14 \t [ 0.38493128 -2.46469009]\t 12.297566534590663\t 1.325218528401687\t 2.5341463084765388\t 2.708051192582257\n",
            "15 \t [-1.31096393 -2.55856667]\t 14.811153272287266\t 1.325218528401687\t 2.7735123014105576\t 2.5399782970223876\n",
            "16 \t [-5.12 -5.12]\t 78.64320000000001\t 1.325218528401687\t 3.125724401943689\t 3.0231049373835637\n",
            "\u001b[1m\u001b[92m17\u001b[0m\t \u001b[1m\u001b[92m[-0.29252768  0.12420594]\u001b[0m\t \u001b[1m\u001b[92m0.11642667302823217\u001b[0m\t \u001b[1m\u001b[92m0.11642667302823217\u001b[0m\t \u001b[1m\u001b[92m2.3670244685883657\u001b[0m\t \u001b[1m\u001b[92m2.35299470164875\u001b[0m\n",
            "18 \t [-2.72014247  1.52205181]\t 12.032458462859779\t 0.11642667302823217\t 2.5689107591544027\t 2.8827395227872756\n",
            "19 \t [2.39530384 2.49818954]\t 18.219382494474115\t 0.11642667302823217\t 2.921761948903137\t 3.3541281384241817\n",
            "20 \t [ 1.63639191 -0.96341519]\t 4.5341161294129595\t 0.11642667302823217\t 2.4267206948967925\t 2.190678354422246\n"
          ]
        }
      ],
      "source": [
        "### EXACT STP EI GRADIENTS\n",
        "\n",
        "np.random.seed(run_num_3)\n",
        "surrogate_exact_3 = dtStudentProcess(cov_func, optimize=opt, nu = df)\n",
        "\n",
        "exact_3 = dGPGO(surrogate_exact_3, Acquisition_grad(util), objfunc, param)\n",
        "exact_3.run(init_evals=n_init, max_iter=iters)\n"
      ]
    },
    {
      "cell_type": "code",
      "execution_count": 37,
      "metadata": {
        "id": "PhLBVOIfIvol",
        "colab": {
          "base_uri": "https://localhost:8080/"
        },
        "outputId": "6cba7a7a-b1f9-43ed-cd2c-55323a077243"
      },
      "outputs": [
        {
          "output_type": "stream",
          "name": "stdout",
          "text": [
            "Evaluation \t Proposed point \t  Current eval. \t  Best eval. \t        Exact EI: StdDev. x \t Approx EI: StdDev. x \n",
            "init\t [4.78238555 0.48365823]\t 23.33906213310676\t 7.289910254474112\t    \t    \n",
            "init\t [4.84028785 2.19971578]\t 33.10588541607836\t 7.289910254474112\t    \t    \n",
            "init\t [ 2.02474316 -2.90724357]\t 21.003715175118646\t 7.289910254474112\t    \t    \n",
            "init\t [ 4.87705042 -5.05620219]\t 74.91598187475032\t 7.289910254474112\t    \t    \n",
            "init\t [-2.52946061 -0.66773471]\t 7.289910254474112\t 7.289910254474112\t    \t    \n",
            "1  \t [-5.12 -5.12]\t 78.64320000000001\t 7.289910254474112\t 2.9940146543141943\t 3.872482414186995\n",
            "2  \t [-0.9356617   4.54448646]\t 42.18017719838807\t 7.289910254474112\t 2.909308925852836\t 3.417763649278245\n",
            "3  \t [-0.97292774 -5.12      ]\t 53.37538839182487\t 7.289910254474112\t 3.2905741252681167\t 3.6141116378105265\n",
            "\u001b[1m\u001b[92m4\u001b[0m\t \u001b[1m\u001b[92m[0.49976441 1.02192631]\u001b[0m\t \u001b[1m\u001b[92m2.338431231941128\u001b[0m\t \u001b[1m\u001b[92m2.338431231941128\u001b[0m\t \u001b[1m\u001b[92m3.3873364373482984\u001b[0m\t \u001b[1m\u001b[92m3.3054203743462525\u001b[0m\n",
            "5  \t [-5.12        2.54146587]\t 39.132497487117064\t 2.338431231941128\t 2.8616338668869328\t 3.856224837415127\n",
            "6  \t [2.80694158 4.90587817]\t 56.01420223506265\t 2.338431231941128\t 3.0388270268681894\t 3.4436854569725908\n",
            "7  \t [-5.12       -1.33538196]\t 29.78088995138926\t 2.338431231941128\t 2.82907373955009\t 2.7235737982927923\n",
            "8  \t [-2.08045973  1.66621226]\t 9.880839291273972\t 2.338431231941128\t 2.6605133859624055\t 2.5398220047672857\n",
            "9  \t [ 2.18539451 -0.43254576]\t 5.150140852830497\t 2.338431231941128\t 3.001779424719943\t 3.191100707952874\n",
            "10 \t [ 4.79910842 -1.95858303]\t 30.703536556989363\t 2.338431231941128\t 2.8312041207379814\t 3.3957319953477407\n",
            "11 \t [-3.87104463  5.12      ]\t 67.41378652311204\t 2.338431231941128\t 3.0407955201396977\t 3.075607270539374\n",
            "12 \t [-0.3655951  -2.13708968]\t 9.267964367294132\t 2.338431231941128\t 2.729144826162577\t 2.639460516995663\n",
            "13 \t [2.18003237 1.72227148]\t 10.684979216324933\t 2.338431231941128\t 2.5638315766262534\t 2.810054527314611\n",
            "14 \t [-2.68429089 -3.03617583]\t 25.642144976226582\t 2.338431231941128\t 2.895714819743182\t 2.3318335810901014\n",
            "\u001b[1m\u001b[92m15\u001b[0m\t \u001b[1m\u001b[92m[-0.48916165 -0.21291919]\u001b[0m\t \u001b[1m\u001b[92m0.32994828461190934\u001b[0m\t \u001b[1m\u001b[92m0.32994828461190934\u001b[0m\t \u001b[1m\u001b[92m2.4714006335607386\u001b[0m\t \u001b[1m\u001b[92m2.526920885078084\u001b[0m\n",
            "16 \t [5.12 5.12]\t 78.64320000000001\t 0.32994828461190934\t 2.8534646590112893\t 2.7002055268132956\n",
            "17 \t [0.92842362 3.0150678 ]\t 19.04323810600716\t 0.32994828461190934\t 2.5292963957213677\t 2.527238143887418\n",
            "18 \t [ 1.83034374 -5.12      ]\t 55.778958197159724\t 0.32994828461190934\t 2.832192783545345\t 2.565590808188951\n",
            "19 \t [ 0.57129378 -0.24377938]\t 0.44523336464789115\t 0.32994828461190934\t 2.2812020211069055\t 2.745697749416754\n",
            "20 \t [0.81818666 5.06120375]\t 51.900996206413495\t 0.32994828461190934\t 2.839183650865606\t 3.2064562340215352\n"
          ]
        }
      ],
      "source": [
        "### EXACT STP EI GRADIENTS\n",
        "\n",
        "np.random.seed(run_num_4)\n",
        "surrogate_exact_4 = dtStudentProcess(cov_func, optimize=opt, nu = df)\n",
        "\n",
        "exact_4 = dGPGO(surrogate_exact_4, Acquisition_grad(util), objfunc, param)\n",
        "exact_4.run(init_evals=n_init, max_iter=iters)\n"
      ]
    },
    {
      "cell_type": "code",
      "execution_count": 38,
      "metadata": {
        "id": "arbiPyj2IvsJ",
        "colab": {
          "base_uri": "https://localhost:8080/"
        },
        "outputId": "addb69cf-b570-4475-c9d2-e6dae14eed44"
      },
      "outputs": [
        {
          "output_type": "stream",
          "name": "stdout",
          "text": [
            "Evaluation \t Proposed point \t  Current eval. \t  Best eval. \t        Exact EI: StdDev. x \t Approx EI: StdDev. x \n",
            "init\t [-2.84678993  3.79629882]\t 36.927982283829365\t 2.6327313115208373\t    \t    \n",
            "init\t [-3.00319585  4.2865757 ]\t 45.76864772649561\t 2.6327313115208373\t    \t    \n",
            "init\t [-0.11866943  1.14425716]\t 2.6327313115208373\t 2.6327313115208373\t    \t    \n",
            "init\t [2.72289645 0.1886002 ]\t 7.485305147100433\t 2.6327313115208373\t    \t    \n",
            "init\t [-2.08076286 -3.19773462]\t 24.780587476435763\t 2.6327313115208373\t    \t    \n",
            "1  \t [ 4.32895605 -5.09732646]\t 70.70533460957368\t 2.6327313115208373\t 4.242751218859209\t 4.529726791608251\n",
            "2  \t [4.02415917 4.76321328]\t 61.570258588006226\t 2.6327313115208373\t 3.603344278127478\t 3.7690438113578053\n",
            "3  \t [-4.75642671 -0.23389661]\t 22.73301028348433\t 2.6327313115208373\t 3.29238384476449\t 3.75471965257173\n",
            "4  \t [-5.12 -5.12]\t 78.64320000000001\t 2.6327313115208373\t 3.184806886231689\t 3.403779035280114\n",
            "5  \t [0.50419853 4.87621481]\t 47.80915783862206\t 2.6327313115208373\t 2.898898354087495\t 3.3644752256411423\n",
            "6  \t [ 1.09269003 -2.49303761]\t 13.624444534162041\t 2.6327313115208373\t 3.3582753656494835\t 3.429905337438209\n",
            "7  \t [ 5.09803381 -1.45504528]\t 30.22426225845544\t 2.6327313115208373\t 2.318875973707857\t 2.7822104089886155\n",
            "8  \t [ 0.2175035 -5.12     ]\t 52.47610777120238\t 2.6327313115208373\t 3.0486330628370215\t 2.942651698368301\n",
            "9  \t [4.91446098 1.6510243 ]\t 29.603689175987775\t 2.6327313115208373\t 2.978266315792033\t 2.705538928487902\n",
            "10 \t [-1.83192513 -0.25982882]\t 3.4909717216340725\t 2.6327313115208373\t 2.535026472964388\t 2.63635661928619\n",
            "11 \t [-5.12        2.31609561]\t 36.942997710187186\t 2.6327313115208373\t 2.403447553167682\t 2.9756266054079314\n",
            "12 \t [-4.94116789 -2.41807024]\t 36.10926748827203\t 2.6327313115208373\t 2.519746863684069\t 2.697859858575298\n",
            "13 \t [1.5034374 2.2901509]\t 12.749906344291357\t 2.6327313115208373\t 2.4606414640981784\t 2.5906126627758352\n",
            "\u001b[1m\u001b[92m14\u001b[0m\t \u001b[1m\u001b[92m[-0.21098908 -0.82438525]\u001b[0m\t \u001b[1m\u001b[92m1.403738464947534\u001b[0m\t \u001b[1m\u001b[92m1.403738464947534\u001b[0m\t \u001b[1m\u001b[92m2.2264534659576527\u001b[0m\t \u001b[1m\u001b[92m2.405756587294552\u001b[0m\n",
            "15 \t [-1.52775781  1.25388569]\t 5.478502596985433\t 1.403738464947534\t 2.3465960382222413\t 2.3827656446765775\n",
            "16 \t [ 2.93152103 -2.30533996]\t 19.22300022252356\t 1.403738464947534\t 2.6289445277910883\t 2.457864267312296\n",
            "\u001b[1m\u001b[92m17\u001b[0m\t \u001b[1m\u001b[92m[ 1.03437686 -0.07929671]\u001b[0m\t \u001b[1m\u001b[92m1.0825114260628101\u001b[0m\t \u001b[1m\u001b[92m1.0825114260628101\u001b[0m\t \u001b[1m\u001b[92m2.275362992746764\u001b[0m\t \u001b[1m\u001b[92m2.402350007177648\u001b[0m\n",
            "18 \t [-3.1026502  1.3111579]\t 13.064708360504321\t 1.0825114260628101\t 2.3572440258157514\t 2.9587411609842498\n",
            "19 \t [-0.39020286  2.62212847]\t 13.903373683119863\t 1.0825114260628101\t 2.7719860616861896\t 3.1273598482596525\n",
            "20 \t [-1.55304489 -1.32331073]\t 5.914251006194528\t 1.0825114260628101\t 2.470956698087779\t 2.8103277028893925\n"
          ]
        }
      ],
      "source": [
        "### EXACT STP EI GRADIENTS\n",
        "\n",
        "np.random.seed(run_num_5)\n",
        "surrogate_exact_5 = dtStudentProcess(cov_func, optimize=opt, nu = df)\n",
        "\n",
        "exact_5 = dGPGO(surrogate_exact_5, Acquisition_grad(util), objfunc, param)\n",
        "exact_5.run(init_evals=n_init, max_iter=iters)\n"
      ]
    },
    {
      "cell_type": "code",
      "execution_count": 39,
      "metadata": {
        "id": "04KJCEm_Ivvf",
        "colab": {
          "base_uri": "https://localhost:8080/"
        },
        "outputId": "3267e519-7666-4c37-b9a7-0f254262a745"
      },
      "outputs": [
        {
          "output_type": "stream",
          "name": "stdout",
          "text": [
            "Evaluation \t Proposed point \t  Current eval. \t  Best eval. \t        Exact EI: StdDev. x \t Approx EI: StdDev. x \n",
            "init\t [ 4.02288795 -1.72052679]\t 22.104052359713652\t 1.4757178799086357\t    \t    \n",
            "init\t [ 3.28938622 -4.69302655]\t 54.869058151382724\t 1.4757178799086357\t    \t    \n",
            "init\t [-4.0175956   0.97333314]\t 18.035829177697114\t 1.4757178799086357\t    \t    \n",
            "init\t [ 0.30532979 -0.83141193]\t 1.4757178799086357\t 1.4757178799086357\t    \t    \n",
            "init\t [-1.68542362  1.25459899]\t 5.988690020231891\t 1.4757178799086357\t    \t    \n",
            "1  \t [-5.12 -5.12]\t 78.64320000000001\t 1.4757178799086357\t 3.5532100777338433\t 3.8495935345376786\n",
            "2  \t [4.48914029 2.92869999]\t 37.30694787610285\t 1.4757178799086357\t 3.1067524074395587\t 3.688438023183272\n",
            "3  \t [0.63040683 4.21361378]\t 35.906494934008215\t 1.4757178799086357\t 3.420894266589849\t 3.5850114801948205\n",
            "4  \t [-0.90604696 -4.27703623]\t 37.406998930919904\t 1.4757178799086357\t 3.039304018382156\t 3.952634780973248\n",
            "5  \t [1.49801394 1.08989116]\t 4.619771277777468\t 1.4757178799086357\t 2.498965148120648\t 3.3535840465135376\n",
            "6  \t [-3.67373247  4.48684359]\t 53.759841099862946\t 1.4757178799086357\t 3.047202209358209\t 3.6757958509622477\n",
            "7  \t [-3.73086011 -1.89852302]\t 21.12809641606417\t 1.4757178799086357\t 3.4382496070699604\t 3.564273349033413\n",
            "8  \t [5.06568089 0.51803545]\t 26.197844295340545\t 1.4757178799086357\t 2.804871351313221\t 3.0566718118245295\n",
            "9  \t [ 1.10076191 -2.30678625]\t 11.854202379271973\t 1.4757178799086357\t 2.6480163111104775\t 2.74023503182744\n",
            "10 \t [5.12 5.12]\t 78.64320000000001\t 1.4757178799086357\t 3.147988411196992\t 3.092027020709437\n",
            "11 \t [ 2.49045206 -0.23501838]\t 6.31281876354147\t 1.4757178799086357\t 3.035688071991244\t 3.431339858252473\n",
            "12 \t [-1.07909534 -1.67611184]\t 6.783148528571608\t 1.4757178799086357\t 2.6142903094396686\t 2.8044955127667137\n",
            "13 \t [-0.73305208  2.79000324]\t 16.105601540019133\t 1.4757178799086357\t 2.772043120040433\t 3.292750013031675\n",
            "\u001b[1m\u001b[92m14\u001b[0m\t \u001b[1m\u001b[92m[-0.35736201  0.52277271]\u001b[0m\t \u001b[1m\u001b[92m0.6742902127532275\u001b[0m\t \u001b[1m\u001b[92m0.6742902127532275\u001b[0m\t \u001b[1m\u001b[92m2.7347573777540943\u001b[0m\t \u001b[1m\u001b[92m3.2641552642630702\u001b[0m\n",
            "15 \t [-1.60082384 -0.35433931]\t 2.813749659912247\t 0.6742902127532275\t 3.009071043600461\t 2.929033516978191\n",
            "16 \t [2.528251 5.12    ]\t 58.82085313162985\t 0.6742902127532275\t 2.8868815613543592\t 3.135184731573076\n",
            "17 \t [-1.33717141  5.12      ]\t 54.21682738721416\t 0.6742902127532275\t 3.1347875601600252\t 3.7648339210642474\n",
            "18 \t [-3.16019257 -4.36123636]\t 48.0275822137275\t 0.6742902127532275\t 2.880567865962646\t 3.6676309525516184\n",
            "19 \t [-5.12        2.27066921]\t 36.526277305580436\t 0.6742902127532275\t 2.9156849942637946\t 3.0059495098689974\n",
            "20 \t [2.40040692 2.09927051]\t 14.57582678429274\t 0.6742902127532275\t 2.650641585142411\t 2.161929371741479\n"
          ]
        }
      ],
      "source": [
        "### EXACT STP EI GRADIENTS\n",
        "\n",
        "np.random.seed(run_num_6)\n",
        "surrogate_exact_6 = dtStudentProcess(cov_func, optimize=opt, nu = df)\n",
        "\n",
        "exact_6 = dGPGO(surrogate_exact_6, Acquisition_grad(util), objfunc, param)\n",
        "exact_6.run(init_evals=n_init, max_iter=iters)\n"
      ]
    },
    {
      "cell_type": "code",
      "execution_count": 40,
      "metadata": {
        "id": "tAOkme3CIvyO",
        "colab": {
          "base_uri": "https://localhost:8080/"
        },
        "outputId": "f91ae8fc-2435-4c08-9e08-8f8bd1c2ef71"
      },
      "outputs": [
        {
          "output_type": "stream",
          "name": "stdout",
          "text": [
            "Evaluation \t Proposed point \t  Current eval. \t  Best eval. \t        Exact EI: StdDev. x \t Approx EI: StdDev. x \n",
            "init\t [-4.33860312  2.86636843]\t 35.25561298730891\t 5.622520458601941\t    \t    \n",
            "init\t [-0.63068947  2.28828342]\t 10.870251237170722\t 5.622520458601941\t    \t    \n",
            "init\t [4.8946126  0.39419771]\t 24.268016205804518\t 5.622520458601941\t    \t    \n",
            "init\t [ 0.01147355 -4.38219639]\t 38.407422120416236\t 5.622520458601941\t    \t    \n",
            "init\t [-2.37118484e+00 -1.20319155e-03]\t 5.622520458601941\t 5.622520458601941\t    \t    \n",
            "1  \t [-5.12 -5.12]\t 78.64320000000001\t 5.622520458601941\t 3.050954544491586\t 3.4566865957284305\n",
            "2  \t [3.36336072 4.52412691]\t 52.24764383930762\t 5.622520458601941\t 3.0736652165933824\t 3.769304244530836\n",
            "3  \t [ 3.81570236 -4.87523301]\t 62.09537831346706\t 5.622520458601941\t 3.0657132345729323\t 3.7566694268659657\n",
            "4  \t [-4.02558214 -1.33646422]\t 19.777584798449002\t 5.622520458601941\t 2.913441032930869\t 3.046307140328312\n",
            "\u001b[1m\u001b[92m5\u001b[0m\t \u001b[1m\u001b[92m[ 1.17207755 -0.79172776]\u001b[0m\t \u001b[1m\u001b[92m2.62743148171259\u001b[0m\t \u001b[1m\u001b[92m2.62743148171259\u001b[0m\t \u001b[1m\u001b[92m2.9685400635671986\u001b[0m\t \u001b[1m\u001b[92m3.2267591812229983\u001b[0m\n",
            "6  \t [-1.29333717  5.12      ]\t 54.10152104647887\t 2.62743148171259\t 3.311938569036018\t 3.488108921335638\n",
            "7  \t [2.19666838 0.91785653]\t 6.510273172597033\t 2.62743148171259\t 2.6772660342587966\t 3.0161484207175757\n",
            "8  \t [ 3.45539431 -2.16752842]\t 21.336108765371485\t 2.62743148171259\t 3.065388755224494\t 3.029927336938766\n",
            "\u001b[1m\u001b[92m9\u001b[0m\t \u001b[1m\u001b[92m[-0.87561213 -0.94434016]\u001b[0m\t \u001b[1m\u001b[92m2.5502532820575166\u001b[0m\t \u001b[1m\u001b[92m2.5502532820575166\u001b[0m\t \u001b[1m\u001b[92m2.973952413799491\u001b[0m\t \u001b[1m\u001b[92m3.4588597254262923\u001b[0m\n",
            "10 \t [-4.57631308  5.12      ]\t 73.37144138649496\t 2.5502532820575166\t 3.022639159389131\t 3.18471733072485\n",
            "11 \t [0.93886452 3.49621498]\t 25.328505002954408\t 2.5502532820575166\t 2.5620785556835646\t 2.7137534478063587\n",
            "12 \t [-2.48745119 -3.28558073]\t 27.777494835869803\t 2.5502532820575166\t 3.15271364434828\t 3.044773230634204\n",
            "13 \t [5.12       2.71116686]\t 40.91525143988001\t 2.5502532820575166\t 3.1232823334089104\t 3.624876052387049\n",
            "\u001b[1m\u001b[92m14\u001b[0m\t \u001b[1m\u001b[92m[-0.21257905  0.55410143]\u001b[0m\t \u001b[1m\u001b[92m0.6592466352404629\u001b[0m\t \u001b[1m\u001b[92m0.6592466352404629\u001b[0m\t \u001b[1m\u001b[92m2.445835870358335\u001b[0m\t \u001b[1m\u001b[92m2.725792804799186\u001b[0m\n",
            "15 \t [ 0.973601   -2.15792653]\t 10.26119271272145\t 0.6592466352404629\t 3.208238254799984\t 2.8871634583497805\n",
            "16 \t [-2.47683397  1.76671611]\t 12.377278102609523\t 0.6592466352404629\t 2.9265147971969325\t 3.1095081297724816\n",
            "17 \t [-5.12        0.52290062]\t 26.761250121298243\t 0.6592466352404629\t 2.773627737841262\t 2.612791773135139\n",
            "18 \t [ 2.75405047 -0.44598995]\t 7.982608050993168\t 0.6592466352404629\t 3.4741338473581593\t 3.182189649470041\n",
            "19 \t [-3.63457363 -3.91766098]\t 43.90626054398093\t 0.6592466352404629\t 3.1685364837114878\t 3.181796586481718\n",
            "20 \t [2.74538998 2.06007287]\t 16.024966594174263\t 0.6592466352404629\t 2.6712707111414424\t 2.726264320592192\n"
          ]
        }
      ],
      "source": [
        "### EXACT STP EI GRADIENTS\n",
        "\n",
        "np.random.seed(run_num_7)\n",
        "surrogate_exact_7 = dtStudentProcess(cov_func, optimize=opt, nu = df)\n",
        "\n",
        "exact_7 = dGPGO(surrogate_exact_7, Acquisition_grad(util), objfunc, param)\n",
        "exact_7.run(init_evals=n_init, max_iter=iters)\n"
      ]
    },
    {
      "cell_type": "code",
      "execution_count": 41,
      "metadata": {
        "id": "69-J3EF4Iv1S",
        "colab": {
          "base_uri": "https://localhost:8080/"
        },
        "outputId": "634e526a-5cb7-42d4-fb88-c0b7cdb6ae21"
      },
      "outputs": [
        {
          "output_type": "stream",
          "name": "stdout",
          "text": [
            "Evaluation \t Proposed point \t  Current eval. \t  Best eval. \t        Exact EI: StdDev. x \t Approx EI: StdDev. x \n",
            "init\t [3.82391708 4.79785639]\t 60.661193695854244\t 0.1518306274298758\t    \t    \n",
            "init\t [3.78055209 0.31596228]\t 14.492238445440277\t 0.1518306274298758\t    \t    \n",
            "init\t [-2.73686192 -5.00327624]\t 57.555959528959804\t 0.1518306274298758\t    \t    \n",
            "init\t [-0.7119993  -0.99992207]\t 2.506631309190485\t 0.1518306274298758\t    \t    \n",
            "init\t [ 0.23218863 -0.22126801]\t 0.1518306274298758\t 0.1518306274298758\t    \t    \n",
            "1  \t [ 4.96383424 -4.82578382]\t 71.21602926839647\t 0.1518306274298758\t 3.2162195481590437\t 3.7482855178828105\n",
            "2  \t [-1.54340229  3.52582031]\t 27.244908286162797\t 0.1518306274298758\t 3.15191768543365\t 3.453546499703136\n",
            "3  \t [-4.75004216 -0.84236955]\t 23.98207346163373\t 0.1518306274298758\t 2.391832872745587\t 3.2753465877187726\n",
            "4  \t [ 1.07762044 -4.43084507]\t 40.426041945333296\t 0.1518306274298758\t 2.9795429459511573\t 3.627181572650257\n",
            "5  \t [1.24322831 2.46575913]\t 13.7055527596688\t 0.1518306274298758\t 2.7692689873468015\t 3.051422256330198\n",
            "6  \t [-3.9509451  1.9225873]\t 23.002651011317568\t 0.1518306274298758\t 3.063854087151959\t 3.526763769455834\n",
            "7  \t [ 1.76951659 -1.42014266]\t 7.164799280051253\t 0.1518306274298758\t 2.593739347734213\t 3.3919630540962467\n",
            "8  \t [ 5.12       -1.63042376]\t 31.530963256792738\t 0.1518306274298758\t 3.0751724153084496\t 3.744149594268139\n",
            "9  \t [0.74549398 5.12      ]\t 52.984561270287394\t 0.1518306274298758\t 2.8783564231646372\t 3.157680660036443\n",
            "10 \t [-5.12       -3.53269533]\t 51.174272609080276\t 0.1518306274298758\t 3.137593790052275\t 3.5264255697543527\n",
            "11 \t [-1.0161689   0.68454761]\t 1.96981010054752\t 0.1518306274298758\t 2.5821552175394915\t 3.26563245846687\n",
            "12 \t [-2.05997111 -2.11988527]\t 13.231308075286474\t 0.1518306274298758\t 2.4876854839023586\t 2.4515683986163865\n",
            "13 \t [5.12       2.36555224]\t 37.40607483818175\t 0.1518306274298758\t 2.40600952540893\t 2.5973561779345515\n",
            "14 \t [-4.31254702  5.11561442]\t 70.93708353428389\t 0.1518306274298758\t 2.5167057893360765\t 2.9020215699928453\n",
            "15 \t [-2.34985689  0.18166007]\t 5.587828183898741\t 0.1518306274298758\t 2.5798810756539905\t 2.5088924677731486\n",
            "16 \t [1.75295976 0.4028569 ]\t 3.397455299419844\t 0.1518306274298758\t 2.109716499612863\t 2.030881151104065\n",
            "17 \t [ 0.52525369 -2.34191233]\t 11.244998171093076\t 0.1518306274298758\t 2.8114100738921337\t 2.7864821383974916\n",
            "18 \t [ 3.00813535 -2.0869556 ]\t 17.75964565422339\t 0.1518306274298758\t 2.7465914894981833\t 2.4945762008311942\n",
            "19 \t [0.59350815 0.75748686]\t 1.4998246014519978\t 0.1518306274298758\t 2.5635464567174973\t 2.4365693165276765\n",
            "20 \t [ 2.83073866 -3.8287368 ]\t 37.33153232244034\t 0.1518306274298758\t 2.769869312186225\t 3.403195553205588\n"
          ]
        }
      ],
      "source": [
        "### EXACT STP EI GRADIENTS\n",
        "\n",
        "np.random.seed(run_num_8)\n",
        "surrogate_exact_8 = dtStudentProcess(cov_func, optimize=opt, nu = df)\n",
        "\n",
        "exact_8 = dGPGO(surrogate_exact_8, Acquisition_grad(util), objfunc, param)\n",
        "exact_8.run(init_evals=n_init, max_iter=iters)\n"
      ]
    },
    {
      "cell_type": "code",
      "execution_count": 42,
      "metadata": {
        "id": "vonm9jyuIv4t",
        "colab": {
          "base_uri": "https://localhost:8080/"
        },
        "outputId": "a80b54b2-56f0-46fd-fc5a-6fb3fcea7172"
      },
      "outputs": [
        {
          "output_type": "stream",
          "name": "stdout",
          "text": [
            "Evaluation \t Proposed point \t  Current eval. \t  Best eval. \t        Exact EI: StdDev. x \t Approx EI: StdDev. x \n",
            "init\t [-5.01376866  0.01919582]\t 25.138613177506063\t 14.00341364504739\t    \t    \n",
            "init\t [-0.04328148 -3.74958562]\t 28.12065798163534\t 14.00341364504739\t    \t    \n",
            "init\t [-3.66478248 -2.88195916]\t 30.04200788009657\t 14.00341364504739\t    \t    \n",
            "init\t [-0.83447623 -2.57944404]\t 14.00341364504739\t 14.00341364504739\t    \t    \n",
            "init\t [-4.25922917 -1.58209393]\t 23.14707552082245\t 14.00341364504739\t    \t    \n",
            "1  \t [3.11029524 4.9495987 ]\t 58.67099112867045\t 14.00341364504739\t 3.0767090305933436\t 2.996437151513082\n",
            "2  \t [-2.02106223  4.82097351]\t 50.56826379765111\t 14.00341364504739\t 3.125288851080033\t 4.110212864660323\n",
            "\u001b[1m\u001b[92m3\u001b[0m\t \u001b[1m\u001b[92m[2.0867143  0.36749559]\u001b[0m\t \u001b[1m\u001b[92m4.624482565955004\u001b[0m\t \u001b[1m\u001b[92m4.624482565955004\u001b[0m\t \u001b[1m\u001b[92m2.6603689366739656\u001b[0m\t \u001b[1m\u001b[92m3.9782625223422916\u001b[0m\n",
            "4  \t [ 4.43889093 -3.24498238]\t 40.76357399073012\t 4.624482565955004\t 2.877525324038016\t 3.560423826984714\n",
            "5  \t [5.12       1.04719385]\t 28.407629938977987\t 4.624482565955004\t 3.3515287088347443\t 3.3417633678113754\n",
            "\u001b[1m\u001b[92m6\u001b[0m\t \u001b[1m\u001b[92m[-1.30859648  1.00836966]\u001b[0m\t \u001b[1m\u001b[92m3.746043492125785\u001b[0m\t \u001b[1m\u001b[92m3.746043492125785\u001b[0m\t \u001b[1m\u001b[92m2.7304125722554393\u001b[0m\t \u001b[1m\u001b[92m2.8490031266499045\u001b[0m\n",
            "7  \t [-5.12 -5.12]\t 78.64320000000001\t 3.746043492125785\t 2.8227339694367037\t 3.408717464399822\n",
            "8  \t [0.67629793 2.5583122 ]\t 13.547301545610338\t 3.746043492125785\t 2.757627936294646\t 2.981574145410224\n",
            "9  \t [-3.8783768   2.38287814]\t 26.398023058026126\t 3.746043492125785\t 3.074913592613038\t 3.553486011527147\n",
            "10 \t [ 1.79202262 -1.63299945]\t 8.544719504472663\t 3.746043492125785\t 2.479865042443218\t 2.759722667727885\n",
            "\u001b[1m\u001b[92m11\u001b[0m\t \u001b[1m\u001b[92m[-0.64479469 -0.55472199]\u001b[0m\t \u001b[1m\u001b[92m1.031193168920053\u001b[0m\t \u001b[1m\u001b[92m1.031193168920053\u001b[0m\t \u001b[1m\u001b[92m2.429509892851703\u001b[0m\t \u001b[1m\u001b[92m3.763059773262969\u001b[0m\n",
            "\u001b[1m\u001b[92m12\u001b[0m\t \u001b[1m\u001b[92m[0.43949267 0.40727926]\u001b[0m\t \u001b[1m\u001b[92m0.5249065987417781\u001b[0m\t \u001b[1m\u001b[92m0.5249065987417781\u001b[0m\t \u001b[1m\u001b[92m2.3875732443489195\u001b[0m\t \u001b[1m\u001b[92m2.8802654206602347\u001b[0m\n",
            "13 \t [0.51869252 5.12      ]\t 52.69784193074383\t 0.5249065987417781\t 2.511370241558457\t 2.5287876993301914\n",
            "14 \t [5.10098568 3.46318942]\t 50.00741684043946\t 0.5249065987417781\t 2.3646977360024013\t 2.975655638710525\n",
            "15 \t [-2.33490952 -0.22146411]\t 5.549895163718375\t 0.5249065987417781\t 2.5273016969651656\t 2.65319880660291\n",
            "16 \t [ 2.04695877 -5.12      ]\t 56.61884018968673\t 0.5249065987417781\t 2.9126337605505723\t 3.1564230612301816\n",
            "17 \t [2.68614439 1.94868614]\t 14.810127055111177\t 0.5249065987417781\t 2.6181361283484836\t 3.707305653134574\n",
            "18 \t [ 3.89709703 -0.74267536]\t 16.290498617022426\t 0.5249065987417781\t 2.5621416261574277\t 2.6200936401403765\n",
            "19 \t [-4.99200742  4.38701668]\t 63.41196877291334\t 0.5249065987417781\t 2.8007824384113595\t 3.2400355775808767\n",
            "20 \t [-1.47522518  2.68570211]\t 16.602280936812328\t 0.5249065987417781\t 2.828001608705827\t 3.4156255967683204\n"
          ]
        }
      ],
      "source": [
        "### EXACT STP EI GRADIENTS\n",
        "\n",
        "np.random.seed(run_num_9)\n",
        "surrogate_exact_9 = dtStudentProcess(cov_func, optimize=opt, nu = df)\n",
        "\n",
        "exact_9 = dGPGO(surrogate_exact_9, Acquisition_grad(util), objfunc, param)\n",
        "exact_9.run(init_evals=n_init, max_iter=iters)\n"
      ]
    },
    {
      "cell_type": "code",
      "execution_count": 43,
      "metadata": {
        "id": "6amuYlUdIv7r",
        "colab": {
          "base_uri": "https://localhost:8080/"
        },
        "outputId": "215d5234-bd2f-4256-fd59-c08071c4cae4"
      },
      "outputs": [
        {
          "output_type": "stream",
          "name": "stdout",
          "text": [
            "Evaluation \t Proposed point \t  Current eval. \t  Best eval. \t        Exact EI: StdDev. x \t Approx EI: StdDev. x \n",
            "init\t [ 2.77832339 -4.90750004]\t 55.886194099964676\t 14.855028828430257\t    \t    \n",
            "init\t [1.36855793 2.54775176]\t 14.855028828430257\t 14.855028828430257\t    \t    \n",
            "init\t [-0.01528819 -2.81808235]\t 15.883409988980564\t 14.855028828430257\t    \t    \n",
            "init\t [-3.09183626  2.66783449]\t 23.79413325191142\t 14.855028828430257\t    \t    \n",
            "init\t [-3.38830503 -4.2154003 ]\t 47.019810427389544\t 14.855028828430257\t    \t    \n",
            "1  \t [ 5.12       -0.92295094]\t 27.918076891516563\t 14.855028828430257\t 3.02960415297717\t 3.662383805122701\n",
            "2  \t [-4.53368979 -0.83360555]\t 21.94413955906086\t 14.855028828430257\t 2.4369309015275533\t 3.4653086708394247\n",
            "3  \t [5.12       2.36993047]\t 37.44754083098983\t 14.855028828430257\t 2.507623572939473\t 3.5663939187319205\n",
            "\u001b[1m\u001b[92m4\u001b[0m\t \u001b[1m\u001b[92m[-1.19128957  0.19557535]\u001b[0m\t \u001b[1m\u001b[92m1.4956702686100236\u001b[0m\t \u001b[1m\u001b[92m1.4956702686100236\u001b[0m\t \u001b[1m\u001b[92m3.0287371804704954\u001b[0m\t \u001b[1m\u001b[92m3.4966608795856624\u001b[0m\n",
            "5  \t [-0.42424098  5.12      ]\t 52.608780405988526\t 1.4956702686100236\t 2.8005753460479754\t 3.3124766336250966\n",
            "6  \t [3.42348054 5.12      ]\t 64.14901897626575\t 1.4956702686100236\t 3.286776033619666\t 3.4438934121413607\n",
            "7  \t [ 1.68117311 -0.38336035]\t 3.1202733515771084\t 1.4956702686100236\t 2.6620146840516665\t 2.8846897932069386\n",
            "8  \t [-5.12        1.66064529]\t 31.72988556757864\t 1.4956702686100236\t 3.198753889285747\t 2.712401598024657\n",
            "9  \t [-1.01487021 -5.11348335]\t 53.32538539534439\t 1.4956702686100236\t 3.394661046925657\t 2.836462235280315\n",
            "10 \t [ 2.63849196 -2.00447928]\t 14.99751422350801\t 1.4956702686100236\t 3.0519840376612675\t 3.3075469950719434\n",
            "11 \t [2.92708347 0.8038947 ]\t 9.860311008221533\t 1.4956702686100236\t 2.7383216584144385\t 3.0013558976822456\n",
            "12 \t [-2.251636   -1.04516792]\t 7.25461662257405\t 1.4956702686100236\t 3.1039604779652525\t 2.8793005132057092\n",
            "13 \t [-3.28172753  5.07406562]\t 62.26201932589913\t 1.4956702686100236\t 2.9406971361716896\t 3.1941582574720337\n",
            "\u001b[1m\u001b[92m14\u001b[0m\t \u001b[1m\u001b[92m[ 0.15749244 -0.10134924]\u001b[0m\t \u001b[1m\u001b[92m0.045347202943637324\u001b[0m\t \u001b[1m\u001b[92m0.045347202943637324\u001b[0m\t \u001b[1m\u001b[92m2.6651085021444945\u001b[0m\t \u001b[1m\u001b[92m3.060946891872577\u001b[0m\n",
            "15 \t [-0.85386779  1.93939477]\t 8.251594333154815\t 0.045347202943637324\t 2.6871884166268223\t 3.1575969511784923\n",
            "16 \t [-5.12 -5.12]\t 78.64320000000001\t 0.045347202943637324\t 2.8657007135603787\t 2.539831427015039\n",
            "17 \t [ 4.57759092 -3.4678307 ]\t 45.006038169609965\t 0.045347202943637324\t 2.8065737394594024\t 3.060850214899629\n",
            "18 \t [-0.39756821 -1.13740305]\t 2.74543188123452\t 0.045347202943637324\t 3.1382917220092734\t 2.2889552429729725\n",
            "19 \t [-3.0544152   0.65046362]\t 10.175658051857951\t 0.045347202943637324\t 2.5848920165398046\t 2.8151047207845825\n",
            "20 \t [3.01785305 3.96730068]\t 40.586386347298316\t 0.045347202943637324\t 3.2357144942295832\t 3.212063870486814\n"
          ]
        }
      ],
      "source": [
        "### EXACT STP EI GRADIENTS\n",
        "\n",
        "np.random.seed(run_num_10)\n",
        "surrogate_exact_10 = dtStudentProcess(cov_func, optimize=opt, nu = df)\n",
        "\n",
        "exact_10 = dGPGO(surrogate_exact_10, Acquisition_grad(util), objfunc, param)\n",
        "exact_10.run(init_evals=n_init, max_iter=iters)\n"
      ]
    },
    {
      "cell_type": "code",
      "execution_count": 44,
      "metadata": {
        "id": "VwbLIP9cIv-F",
        "colab": {
          "base_uri": "https://localhost:8080/"
        },
        "outputId": "08c151fc-edfb-4d74-e86e-7edc276f6edd"
      },
      "outputs": [
        {
          "output_type": "stream",
          "name": "stdout",
          "text": [
            "Evaluation \t Proposed point \t  Current eval. \t  Best eval. \t        Exact EI: StdDev. x \t Approx EI: StdDev. x \n",
            "init\t [-3.27403839 -4.92057353]\t 59.14341502486697\t 0.7122141741228657\t    \t    \n",
            "init\t [-0.37664229  2.30332343]\t 10.752457105378047\t 0.7122141741228657\t    \t    \n",
            "init\t [-0.81711509 -0.14922651]\t 0.7122141741228657\t 0.7122141741228657\t    \t    \n",
            "init\t [-4.98912446 -0.12931474]\t 24.924807467825406\t 0.7122141741228657\t    \t    \n",
            "init\t [4.52410012 3.59214172]\t 46.27444610017016\t 0.7122141741228657\t    \t    \n",
            "1  \t [ 3.03550212 -4.46785095]\t 49.13765732819627\t 0.7122141741228657\t 2.917049448223232\t 3.810074819442744\n",
            "2  \t [ 3.06822416 -0.50290842]\t 9.919833239745746\t 0.7122141741228657\t 2.2335983049261006\t 3.4061985062063633\n",
            "3  \t [1.01074484 5.12      ]\t 53.4504051288689\t 0.7122141741228657\t 2.662224677342874\t 3.998638509657341\n",
            "4  \t [-0.19079099 -2.689345  ]\t 14.501554258695888\t 0.7122141741228657\t 2.8169856422850947\t 2.795142542378547\n",
            "5  \t [-3.91546497  2.74145216]\t 30.361985816690076\t 0.7122141741228657\t 2.738143302693825\t 3.269220779515964\n",
            "6  \t [-2.56266227 -1.5103724 ]\t 11.129687503414907\t 0.7122141741228657\t 3.0196381112890722\t 3.186634087628443\n",
            "7  \t [ 5.12       -1.37161633]\t 29.977062710415765\t 0.7122141741228657\t 2.8791801871695033\t 3.8309593885766566\n",
            "8  \t [-2.074133    5.01401875]\t 54.58279565827046\t 0.7122141741228657\t 2.84618040303133\t 2.9886449319467046\n",
            "9  \t [-0.3180281  -5.08164082]\t 51.747288644115976\t 0.7122141741228657\t 3.276541189996209\t 3.1400505292260057\n",
            "10 \t [2.14866947 1.52580327]\t 9.272931734510147\t 0.7122141741228657\t 2.827972114446844\t 3.1534582495534984\n",
            "\u001b[1m\u001b[92m11\u001b[0m\t \u001b[1m\u001b[92m[ 0.75649133 -0.22542793]\u001b[0m\t \u001b[1m\u001b[92m0.6739146301351958\u001b[0m\t \u001b[1m\u001b[92m0.6739146301351958\u001b[0m\t \u001b[1m\u001b[92m2.6170694433883024\u001b[0m\t \u001b[1m\u001b[92m3.0209008062349287\u001b[0m\n",
            "12 \t [-2.07401079  0.70912855]\t 5.307247365268639\t 0.6739146301351958\t 2.823731536480539\t 3.2553695012048927\n",
            "13 \t [5.10624441 1.33370465]\t 29.631268207452024\t 0.6739146301351958\t 2.8238256117626443\t 3.508280627953309\n",
            "14 \t [-5.10567648 -2.94119279]\t 43.36916242924716\t 0.6739146301351958\t 3.1061880278342033\t 3.276029820599031\n",
            "15 \t [ 2.48525067 -2.20402312]\t 15.891906674001516\t 0.6739146301351958\t 2.700667925857132\t 2.6694945552253957\n",
            "16 \t [ 0.09774553 -1.04826661]\t 2.2072799593147234\t 0.6739146301351958\t 3.1098116357452166\t 3.075935013419045\n",
            "17 \t [0.40956463 1.06895822]\t 2.4530865286199894\t 0.6739146301351958\t 1.835895720953259\t 2.5797803520406366\n",
            "18 \t [ 5.08396191 -3.84746858]\t 55.452697713551885\t 0.6739146301351958\t 2.833491673220444\t 2.8149273177089884\n",
            "19 \t [-4.57340702  4.63646853]\t 63.90973259572008\t 0.6739146301351958\t 3.066573180206733\t 3.0412830270034\n",
            "20 \t [3.49601779 5.12      ]\t 64.65094036410784\t 0.6739146301351958\t 3.3093282020234294\t 2.9526628436026843\n"
          ]
        }
      ],
      "source": [
        "### EXACT STP EI GRADIENTS\n",
        "\n",
        "np.random.seed(run_num_11)\n",
        "surrogate_exact_11 = dtStudentProcess(cov_func, optimize=opt, nu = df)\n",
        "\n",
        "exact_11 = dGPGO(surrogate_exact_11, Acquisition_grad(util), objfunc, param)\n",
        "exact_11.run(init_evals=n_init, max_iter=iters)\n"
      ]
    },
    {
      "cell_type": "code",
      "execution_count": 45,
      "metadata": {
        "id": "MlUNFjc-JTBY",
        "colab": {
          "base_uri": "https://localhost:8080/"
        },
        "outputId": "1861bcf8-09eb-4744-a843-3e305849334e"
      },
      "outputs": [
        {
          "output_type": "stream",
          "name": "stdout",
          "text": [
            "Evaluation \t Proposed point \t  Current eval. \t  Best eval. \t        Exact EI: StdDev. x \t Approx EI: StdDev. x \n",
            "init\t [-3.54137249  2.45810889]\t 24.62591779447066\t 6.112828495563743\t    \t    \n",
            "init\t [-2.42365424  0.34549139]\t 6.112828495563743\t 6.112828495563743\t    \t    \n",
            "init\t [-4.97075238  4.28796936]\t 61.48174177959852\t 6.112828495563743\t    \t    \n",
            "init\t [ 4.10332011 -4.77776458]\t 62.49130467854858\t 6.112828495563743\t    \t    \n",
            "init\t [ 4.6791612  -3.71497655]\t 49.4966510918416\t 6.112828495563743\t    \t    \n",
            "1  \t [5.12      4.3492536]\t 64.04641368501669\t 6.112828495563743\t 3.5850537694099014\t 3.6079742361239755\n",
            "2  \t [-5.12 -5.12]\t 78.64320000000001\t 6.112828495563743\t 3.0520983958014876\t 3.34200243501747\n",
            "3  \t [-0.50478567 -5.12      ]\t 52.68360857567453\t 6.112828495563743\t 2.6518666275265623\t 2.8490558959052166\n",
            "\u001b[1m\u001b[92m4\u001b[0m\t \u001b[1m\u001b[92m[1.73103938 0.55066033]\u001b[0m\t \u001b[1m\u001b[92m3.6029509351301945\u001b[0m\t \u001b[1m\u001b[92m3.6029509351301945\u001b[0m\t \u001b[1m\u001b[92m2.352448972003072\u001b[0m\t \u001b[1m\u001b[92m2.304505699502614\u001b[0m\n",
            "5  \t [0.42957022 4.67137479]\t 43.828015439807544\t 3.6029509351301945\t 2.826501358624722\t 3.172292074812374\n",
            "6  \t [5.10383112 0.23181841]\t 26.156571606938883\t 3.6029509351301945\t 3.09564817812829\t 2.9981013044978058\n",
            "7  \t [ 0.53812978 -1.93152582]\t 7.751167672888344\t 3.6029509351301945\t 3.0315494835152403\t 2.5643490729250917\n",
            "8  \t [-5.12       -1.29626008]\t 29.574980386584524\t 3.6029509351301945\t 3.130433396163166\t 3.024925796210338\n",
            "9  \t [-2.45163218 -2.22882795]\t 15.94584838086529\t 3.6029509351301945\t 2.6952009733412536\t 2.3541825837932584\n",
            "10 \t [-0.60287212  1.75945663]\t 6.554830043296933\t 3.6029509351301945\t 2.5698180284968952\t 2.6303063863469696\n",
            "11 \t [2.67580612 2.34155044]\t 18.12565531039113\t 3.6029509351301945\t 2.547081568964479\t 2.8074339197142697\n",
            "12 \t [ 2.60507112 -1.4148912 ]\t 10.790229773900375\t 3.6029509351301945\t 2.3280706277441734\t 3.0766059005654753\n",
            "\u001b[1m\u001b[92m13\u001b[0m\t \u001b[1m\u001b[92m[-0.50460335 -0.64702438]\u001b[0m\t \u001b[1m\u001b[92m1.0919056406810845\u001b[0m\t \u001b[1m\u001b[92m1.0919056406810845\u001b[0m\t \u001b[1m\u001b[92m2.7229210806308433\u001b[0m\t \u001b[1m\u001b[92m2.7795895794642047\u001b[0m\n",
            "14 \t [-2.04879104  4.94245278]\t 53.053223758111486\t 1.0919056406810845\t 2.896322569034139\t 2.9577891826885736\n",
            "15 \t [2.77395958 5.12      ]\t 60.1236517372644\t 1.0919056406810845\t 3.0677198732388833\t 3.210638698115245\n",
            "16 \t [ 1.68670882 -3.58195288]\t 28.50575949872755\t 1.0919056406810845\t 2.6989154666610844\t 2.934352414104557\n",
            "\u001b[1m\u001b[92m17\u001b[0m\t \u001b[1m\u001b[92m[0.53697721 0.06292453]\u001b[0m\t \u001b[1m\u001b[92m0.2962635152340248\u001b[0m\t \u001b[1m\u001b[92m0.2962635152340248\u001b[0m\t \u001b[1m\u001b[92m2.300122416550466\u001b[0m\t \u001b[1m\u001b[92m2.6891285723430083\u001b[0m\n",
            "18 \t [-2.72505001 -4.0017124 ]\t 39.453301818649116\t 0.2962635152340248\t 2.824339277784916\t 3.1121461598301883\n",
            "19 \t [-5.00472374  0.95025063]\t 26.853212204316698\t 0.2962635152340248\t 2.6995013897639617\t 2.7958440602770325\n",
            "20 \t [-0.42561495  0.39371643]\t 0.49117334521223965\t 0.2962635152340248\t 2.2774653731813714\t 2.098345724616901\n"
          ]
        }
      ],
      "source": [
        "### EXACT STP EI GRADIENTS\n",
        "\n",
        "np.random.seed(run_num_12)\n",
        "surrogate_exact_12 = dtStudentProcess(cov_func, optimize=opt, nu = df)\n",
        "\n",
        "exact_12 = dGPGO(surrogate_exact_12, Acquisition_grad(util), objfunc, param)\n",
        "exact_12.run(init_evals=n_init, max_iter=iters)\n"
      ]
    },
    {
      "cell_type": "code",
      "execution_count": 46,
      "metadata": {
        "id": "9BsKdU9eJTFL",
        "colab": {
          "base_uri": "https://localhost:8080/"
        },
        "outputId": "e5526988-4b1a-4eb5-ad22-b4a625997ef6"
      },
      "outputs": [
        {
          "output_type": "stream",
          "name": "stdout",
          "text": [
            "Evaluation \t Proposed point \t  Current eval. \t  Best eval. \t        Exact EI: StdDev. x \t Approx EI: StdDev. x \n",
            "init\t [ 2.84367268 -2.68757791]\t 22.532624345992815\t 12.440151302029248\t    \t    \n",
            "init\t [3.32061217 4.76927179]\t 56.51837198799\t 12.440151302029248\t    \t    \n",
            "init\t [ 4.83943541 -0.47667971]\t 23.87458213765974\t 12.440151302029248\t    \t    \n",
            "init\t [1.11659482 2.82139151]\t 17.16728408945556\t 12.440151302029248\t    \t    \n",
            "init\t [1.45012065 2.27346667]\t 12.440151302029248\t 12.440151302029248\t    \t    \n",
            "1  \t [-5.12 -5.12]\t 78.6432\t 12.440151302029248\t 2.688041238719633\t 3.116140253854654\n",
            "2  \t [-3.79946932  2.66821301]\t 28.67468842013809\t 12.440151302029248\t 1.993446692176966\t 3.7718614903198406\n",
            "\u001b[1m\u001b[92m3\u001b[0m\t \u001b[1m\u001b[92m[-2.23724711 -1.33041277]\u001b[0m\t \u001b[1m\u001b[92m8.54527092573222\u001b[0m\t \u001b[1m\u001b[92m8.54527092573222\u001b[0m\t \u001b[1m\u001b[92m2.648138198511781\u001b[0m\t \u001b[1m\u001b[92m3.1413214140449948\u001b[0m\n",
            "4  \t [-0.51332362 -5.12      ]\t 52.69230114095165\t 8.54527092573222\t 3.06462465347584\t 3.698936783248702\n",
            "5  \t [-5.12       -1.75439767]\t 32.37022233576809\t 8.54527092573222\t 3.465481352659524\t 3.879831660011816\n",
            "6  \t [-1.47143339  4.29526654]\t 39.06374549479558\t 8.54527092573222\t 2.774652560555325\t 2.946883149140189\n",
            "\u001b[1m\u001b[92m7\u001b[0m\t \u001b[1m\u001b[92m[ 0.18267647 -0.52458385]\u001b[0m\t \u001b[1m\u001b[92m0.5837471268716766\u001b[0m\t \u001b[1m\u001b[92m0.5837471268716766\u001b[0m\t \u001b[1m\u001b[92m3.2595789220121203\u001b[0m\t \u001b[1m\u001b[92m3.7732835205135378\u001b[0m\n",
            "8  \t [-1.13094141  0.8604345 ]\t 2.7597235495268055\t 0.5837471268716766\t 2.90936386176108\t 3.8493334637350753\n",
            "9  \t [5.12       2.30865457]\t 36.87417181872518\t 0.5837471268716766\t 3.1692855895285446\t 3.7864121638150365\n",
            "10 \t [ 2.4505544 -0.2436658]\t 6.123962908083425\t 0.5837471268716766\t 2.7208236851517404\t 3.220006056271119\n",
            "11 \t [ 5.12       -3.51846581]\t 50.9736032729875\t 0.5837471268716766\t 3.004362783707858\t 3.363240491907847\n",
            "12 \t [ 0.22177269 -2.29778985]\t 10.608859542816615\t 0.5837471268716766\t 2.8514922561023583\t 2.3936836487996036\n",
            "13 \t [-5.06405808  0.67990728]\t 26.56923211752101\t 0.5837471268716766\t 3.3821887054420934\t 3.761187717969718\n",
            "14 \t [ 2.21560695 -4.97658291]\t 54.44166906549968\t 0.5837471268716766\t 2.498185118660564\t 2.8667931542624436\n",
            "15 \t [-3.62246273  5.12      ]\t 65.55103623663224\t 0.5837471268716766\t 2.9453204948095184\t 3.721311121820956\n",
            "16 \t [0.7426431 5.12     ]\t 52.9803187697003\t 0.5837471268716766\t 2.628765462564644\t 2.4145581997958554\n",
            "17 \t [0.65395338 0.64121484]\t 1.2499679565003616\t 0.5837471268716766\t 3.2160896534927663\t 2.751855520901328\n",
            "18 \t [-2.76963434 -3.91277331]\t 38.2904643537935\t 0.5837471268716766\t 2.3688537996426065\t 2.4248777775637294\n",
            "19 \t [-1.25605959  2.05429662]\t 10.017954935426381\t 0.5837471268716766\t 2.672743837853515\t 2.240144561510458\n",
            "20 \t [-2.51753514  0.24856886]\t 6.461556122741737\t 0.5837471268716766\t 3.1931530963358283\t 3.74401857958114\n"
          ]
        }
      ],
      "source": [
        "### EXACT STP EI GRADIENTS\n",
        "\n",
        "np.random.seed(run_num_13)\n",
        "surrogate_exact_13 = dtStudentProcess(cov_func, optimize=opt, nu = df)\n",
        "\n",
        "exact_13 = dGPGO(surrogate_exact_13, Acquisition_grad(util), objfunc, param)\n",
        "exact_13.run(init_evals=n_init, max_iter=iters)\n"
      ]
    },
    {
      "cell_type": "code",
      "execution_count": 47,
      "metadata": {
        "id": "k6GjFBr1JTJf",
        "colab": {
          "base_uri": "https://localhost:8080/"
        },
        "outputId": "a3515464-6aee-40c3-ae3f-d6f388b09bb1"
      },
      "outputs": [
        {
          "output_type": "stream",
          "name": "stdout",
          "text": [
            "Evaluation \t Proposed point \t  Current eval. \t  Best eval. \t        Exact EI: StdDev. x \t Approx EI: StdDev. x \n",
            "init\t [0.14277984 2.79721013]\t 15.669155142359655\t 6.942951853664133\t    \t    \n",
            "init\t [ 3.7931795  -5.03759925]\t 65.14302308089468\t 6.942951853664133\t    \t    \n",
            "init\t [-1.94830412  4.68586229]\t 47.71049977745547\t 6.942951853664133\t    \t    \n",
            "init\t [ 0.13431513 -1.86076749]\t 6.942951853664133\t 6.942951853664133\t    \t    \n",
            "init\t [ 0.40140736 -2.85434939]\t 16.455748743182696\t 6.942951853664133\t    \t    \n",
            "1  \t [-5.12 -5.12]\t 78.64320000000001\t 6.942951853664133\t 3.253213124749766\t 3.8676874304300517\n",
            "2  \t [5.12       3.13586271]\t 45.881669829697685\t 6.942951853664133\t 3.1707709840747405\t 3.8980608866139788\n",
            "3  \t [-4.30415445 -0.04968542]\t 18.530682816800297\t 6.942951853664133\t 2.7508013660032833\t 3.7580275145107804\n",
            "4  \t [ 4.85715482 -1.03191025]\t 25.721630442552335\t 6.942951853664133\t 2.758272796543012\t 3.4076477057832304\n",
            "5  \t [2.25106485 4.99722511]\t 55.011810511995954\t 6.942951853664133\t 2.952223757716765\t 3.0757683844412647\n",
            "\u001b[1m\u001b[92m6\u001b[0m\t \u001b[1m\u001b[92m[-1.50472395  0.49758763]\u001b[0m\t \u001b[1m\u001b[92m2.759381051149387\u001b[0m\t \u001b[1m\u001b[92m2.759381051149387\u001b[0m\t \u001b[1m\u001b[92m3.0862810294297374\u001b[0m\t \u001b[1m\u001b[92m2.8911116803310226\u001b[0m\n",
            "7  \t [1.83387158 0.1727657 ]\t 3.4227809563812213\t 2.759381051149387\t 2.7576838534039165\t 3.0409961691475527\n",
            "8  \t [-5.12       3.1952144]\t 46.63319014467511\t 2.759381051149387\t 3.1616942169721325\t 2.9638750494288066\n",
            "9  \t [-1.55634432 -5.12      ]\t 54.85100765101992\t 2.759381051149387\t 2.886939682380283\t 3.101320419005077\n",
            "10 \t [-2.98932647 -2.33932975]\t 19.881000148411132\t 2.759381051149387\t 2.89678479784517\t 2.632797504239924\n",
            "11 \t [ 2.66536377 -2.21824206]\t 16.945359748186842\t 2.759381051149387\t 2.842836971444007\t 3.0678326505813187\n",
            "12 \t [2.41617774 1.75434639]\t 11.993377399352156\t 2.759381051149387\t 2.6460235721699648\t 3.301704557069019\n",
            "13 \t [-2.71293541  1.90600982]\t 14.625765404149215\t 2.759381051149387\t 3.126691034779616\t 3.1520139712135706\n",
            "\u001b[1m\u001b[92m14\u001b[0m\t \u001b[1m\u001b[92m[-0.06694853 -0.06893981]\u001b[0m\t \u001b[1m\u001b[92m0.013987501118139789\u001b[0m\t \u001b[1m\u001b[92m0.013987501118139789\u001b[0m\t \u001b[1m\u001b[92m2.616462129745283\u001b[0m\t \u001b[1m\u001b[92m3.0475887945650517\u001b[0m\n",
            "15 \t [-1.50102309 -0.82922833]\t 3.6283095858977186\t 0.013987501118139789\t 2.739903726847548\t 3.124291127921019\n",
            "16 \t [ 1.15313124 -5.12      ]\t 53.75851165859974\t 0.013987501118139789\t 2.653514745317073\t 2.7227834469005305\n",
            "17 \t [5.12 5.12]\t 78.64320000000001\t 0.013987501118139789\t 2.45191224401111\t 3.16445648167224\n",
            "18 \t [0.46222471 0.93643799]\t 1.967483887587862\t 0.013987501118139789\t 2.390543143269544\t 2.283686065834181\n",
            "19 \t [-5.12       -2.67625751]\t 40.539108505310956\t 0.013987501118139789\t 2.79451882183777\t 3.2223422701776854\n",
            "20 \t [ 5.00788372 -3.79145698]\t 53.82919141791261\t 0.013987501118139789\t 3.1167955341935\t 2.812740103670161\n"
          ]
        }
      ],
      "source": [
        "### EXACT STP EI GRADIENTS\n",
        "\n",
        "np.random.seed(run_num_14)\n",
        "surrogate_exact_14 = dtStudentProcess(cov_func, optimize=opt, nu = df)\n",
        "\n",
        "exact_14 = dGPGO(surrogate_exact_14, Acquisition_grad(util), objfunc, param)\n",
        "exact_14.run(init_evals=n_init, max_iter=iters)\n"
      ]
    },
    {
      "cell_type": "code",
      "execution_count": 48,
      "metadata": {
        "id": "dPS8WB3aJTN6",
        "colab": {
          "base_uri": "https://localhost:8080/"
        },
        "outputId": "569357c5-ca54-4313-bd60-170791ee80ab"
      },
      "outputs": [
        {
          "output_type": "stream",
          "name": "stdout",
          "text": [
            "Evaluation \t Proposed point \t  Current eval. \t  Best eval. \t        Exact EI: StdDev. x \t Approx EI: StdDev. x \n",
            "init\t [ 3.57189322 -3.28810573]\t 34.38169974295086\t 5.478261179905657\t    \t    \n",
            "init\t [-4.56332069 -1.41784631]\t 24.84447200795673\t 5.478261179905657\t    \t    \n",
            "init\t [-2.29989449  0.3072023 ]\t 5.478261179905657\t 5.478261179905657\t    \t    \n",
            "init\t [-1.9873903  -2.00218256]\t 11.967190241167383\t 5.478261179905657\t    \t    \n",
            "init\t [-3.97576933 -2.5610341 ]\t 28.924533081850157\t 5.478261179905657\t    \t    \n",
            "1  \t [2.7754098  2.98802689]\t 25.55950900004833\t 5.478261179905657\t 2.946951084400587\t 3.7096168365584195\n",
            "2  \t [-4.96635744  4.09320867]\t 58.17342058218776\t 5.478261179905657\t 2.673394451174834\t 3.9076289182279553\n",
            "3  \t [-0.11735048 -5.12      ]\t 52.44257113458514\t 5.478261179905657\t 3.2482887021351186\t 3.8652446760107573\n",
            "4  \t [-0.72555979  5.04745052]\t 51.47995052899442\t 5.478261179905657\t 2.5199072891535645\t 3.080467066253649\n",
            "\u001b[1m\u001b[92m5\u001b[0m\t \u001b[1m\u001b[92m[ 1.18728701 -0.62417343]\u001b[0m\t \u001b[1m\u001b[92m2.1888353885351486\u001b[0m\t \u001b[1m\u001b[92m2.1888353885351486\u001b[0m\t \u001b[1m\u001b[92m3.4453477401706767\u001b[0m\t \u001b[1m\u001b[92m3.6925022276370756\u001b[0m\n",
            "6  \t [5.12 5.12]\t 78.64320000000001\t 2.1888353885351486\t 3.0965092840891706\t 4.010778110897173\n",
            "7  \t [5.00772953 0.40994903]\t 25.413471450205222\t 2.1888353885351486\t 2.75872647724268\t 3.067062397152336\n",
            "8  \t [-5.12 -5.12]\t 78.64320000000001\t 2.1888353885351486\t 3.409604557548034\t 3.385616528441186\n",
            "9  \t [-0.1448344   1.52701079]\t 4.684500907891964\t 2.1888353885351486\t 2.0097448933739748\t 2.7148226589890365\n",
            "10 \t [ 1.05777677 -2.54024922]\t 14.024623903600599\t 2.1888353885351486\t 2.3289749056612177\t 3.0546098808355175\n",
            "11 \t [-5.12        0.88864144]\t 27.79376720055747\t 2.1888353885351486\t 2.3303680456361233\t 2.845752306628948\n",
            "12 \t [-2.42217211  2.4380243 ]\t 17.754842714759143\t 2.1888353885351486\t 2.461805207599745\t 3.000134129655453\n",
            "13 \t [ 2.68055442 -0.24896179]\t 7.30933596645575\t 2.1888353885351486\t 2.8933759798184\t 3.246308727364529\n",
            "\u001b[1m\u001b[92m14\u001b[0m\t \u001b[1m\u001b[92m[-0.36940443 -0.54465885]\u001b[0m\t \u001b[1m\u001b[92m0.7297661534115025\u001b[0m\t \u001b[1m\u001b[92m0.7297661534115025\u001b[0m\t \u001b[1m\u001b[92m2.3744162420661734\u001b[0m\t \u001b[1m\u001b[92m3.4289869427467337\u001b[0m\n",
            "15 \t [2.04520381 5.12      ]\t 56.61165864239008\t 0.7297661534115025\t 2.181411854813822\t 2.6349261041272145\n",
            "16 \t [-2.42245283 -5.12      ]\t 58.29707770940978\t 0.7297661534115025\t 3.0982782303533494\t 3.022282856462233\n",
            "17 \t [1.56827868 0.96161451]\t 4.308902965668278\t 0.7297661534115025\t 2.2759308626677135\t 2.5799566623402423\n",
            "18 \t [ 3.05964589 -2.50794515]\t 21.941010700535113\t 0.7297661534115025\t 3.1555518089287777\t 2.9944896018396636\n",
            "19 \t [5.12      2.7417997]\t 41.24933123592011\t 0.7297661534115025\t 2.843220140065337\t 2.7550899026780247\n",
            "20 \t [ 2.07341872 -4.67005088]\t 47.91781562405985\t 0.7297661534115025\t 2.3285753720773408\t 2.72877844556751\n"
          ]
        }
      ],
      "source": [
        "### EXACT STP EI GRADIENTS\n",
        "\n",
        "np.random.seed(run_num_15)\n",
        "surrogate_exact_15 = dtStudentProcess(cov_func, optimize=opt, nu = df)\n",
        "\n",
        "exact_15 = dGPGO(surrogate_exact_15, Acquisition_grad(util), objfunc, param)\n",
        "exact_15.run(init_evals=n_init, max_iter=iters)\n"
      ]
    },
    {
      "cell_type": "code",
      "execution_count": 49,
      "metadata": {
        "id": "lu8ki9XIQPPN",
        "colab": {
          "base_uri": "https://localhost:8080/"
        },
        "outputId": "cc578d5c-76e4-4049-8131-7e6c8bf4982e"
      },
      "outputs": [
        {
          "output_type": "stream",
          "name": "stdout",
          "text": [
            "Evaluation \t Proposed point \t  Current eval. \t  Best eval. \t        Exact EI: StdDev. x \t Approx EI: StdDev. x \n",
            "init\t [-2.83349935  0.23719262]\t 8.141239237549925\t 8.141239237549925\t    \t    \n",
            "init\t [ 0.51918292 -4.65303603]\t 43.571039504503474\t 8.141239237549925\t    \t    \n",
            "init\t [-1.42613673 -2.83565116]\t 18.11570093066862\t 8.141239237549925\t    \t    \n",
            "init\t [ 1.9325559  -3.44339021]\t 27.448644544199137\t 8.141239237549925\t    \t    \n",
            "init\t [-4.39987336  4.51595121]\t 60.146516261103784\t 8.141239237549925\t    \t    \n",
            "1  \t [2.142749   4.83374619]\t 51.32157765102846\t 8.141239237549925\t 3.5713409571506967\t 3.9198499862978435\n",
            "2  \t [5.12       1.23042807]\t 29.24230645017389\t 8.141239237549925\t 3.5755970411754117\t 3.363470468860747\n",
            "3  \t [-5.12 -5.12]\t 78.64320000000001\t 8.141239237549925\t 3.43031690431971\t 3.567913445022909\n",
            "\u001b[1m\u001b[92m4\u001b[0m\t \u001b[1m\u001b[92m[0.30900264 1.2409931 ]\u001b[0m\t \u001b[1m\u001b[92m3.175610363392214\u001b[0m\t \u001b[1m\u001b[92m3.175610363392214\u001b[0m\t \u001b[1m\u001b[92m2.5329741922215594\u001b[0m\t \u001b[1m\u001b[92m2.8801072246778756\u001b[0m\n",
            "5  \t [-5.12       -1.41124362]\t 30.197617120510053\t 3.175610363392214\t 2.9628074295706313\t 3.2048724275895473\n",
            "6  \t [ 4.7626215  -3.77763161]\t 51.22356469434732\t 3.175610363392214\t 3.3107556395489093\t 3.70913471485472\n",
            "7  \t [-1.1356977   4.86351255]\t 48.59731791527554\t 3.175610363392214\t 2.560905716888432\t 2.93382699014613\n",
            "8  \t [ 2.0843122  -0.52276172]\t 4.890916985299526\t 3.175610363392214\t 2.635541195969025\t 2.702515913289744\n",
            "9  \t [5.12 5.12]\t 78.64320000000001\t 3.175610363392214\t 2.9564900699212617\t 3.0735036448717565\n",
            "10 \t [2.39822856 1.44210275]\t 9.910820913449419\t 3.175610363392214\t 2.7106182622270243\t 3.2310191956335776\n",
            "\u001b[1m\u001b[92m11\u001b[0m\t \u001b[1m\u001b[92m[ 0.00984841 -0.98092865]\u001b[0m\t \u001b[1m\u001b[92m1.9245390285892507\u001b[0m\t \u001b[1m\u001b[92m1.9245390285892507\u001b[0m\t \u001b[1m\u001b[92m2.9432018620642713\u001b[0m\t \u001b[1m\u001b[92m2.905264391254048\u001b[0m\n",
            "12 \t [-4.92162021  1.37237908]\t 27.989194232983134\t 1.9245390285892507\t 3.00561877110854\t 3.5191467346335954\n",
            "13 \t [-1.61927831  1.99631188]\t 10.592584474847495\t 1.9245390285892507\t 2.451776423125741\t 2.479645174598839\n",
            "14 \t [-2.42344238 -4.90769742]\t 54.04406092408473\t 1.9245390285892507\t 2.5954095286385126\t 2.5694019465915363\n",
            "15 \t [ 4.34645832 -1.14254556]\t 21.50252064931245\t 1.9245390285892507\t 2.0925588289463133\t 2.589350332878798\n",
            "16 \t [-1.26424146 -0.66973349]\t 2.4953923464933965\t 1.9245390285892507\t 1.9617543089267142\t 1.6087922883106085\n",
            "17 \t [0.97835734 2.52827043]\t 13.741485779481243\t 1.9245390285892507\t 2.573662341798437\t 2.758176113017284\n",
            "18 \t [-4.06066837 -2.87289754]\t 32.996108097268404\t 1.9245390285892507\t 2.848429655728161\t 3.0362664433887354\n",
            "\u001b[1m\u001b[92m19\u001b[0m\t \u001b[1m\u001b[92m[-0.35823938  0.26007061]\u001b[0m\t \u001b[1m\u001b[92m0.26360889777065394\u001b[0m\t \u001b[1m\u001b[92m0.26360889777065394\u001b[0m\t \u001b[1m\u001b[92m2.13488651730335\u001b[0m\t \u001b[1m\u001b[92m1.6719833875262298\u001b[0m\n",
            "20 \t [-3.42963222  2.7780368 ]\t 27.19735414222299\t 0.26360889777065394\t 3.1227316903996165\t 3.1133176740717943\n"
          ]
        }
      ],
      "source": [
        "### EXACT STP EI GRADIENTS\n",
        "\n",
        "np.random.seed(run_num_16)\n",
        "surrogate_exact_16 = dtStudentProcess(cov_func, optimize=opt, nu = df)\n",
        "\n",
        "exact_16 = dGPGO(surrogate_exact_16, Acquisition_grad(util), objfunc, param)\n",
        "exact_16.run(init_evals=n_init, max_iter=iters)\n"
      ]
    },
    {
      "cell_type": "code",
      "execution_count": 50,
      "metadata": {
        "id": "yU2SflSsJTUs",
        "colab": {
          "base_uri": "https://localhost:8080/"
        },
        "outputId": "3e433afc-bc2a-48db-91e2-6ecf6fec45e5"
      },
      "outputs": [
        {
          "output_type": "stream",
          "name": "stdout",
          "text": [
            "Evaluation \t Proposed point \t  Current eval. \t  Best eval. \t        Exact EI: StdDev. x \t Approx EI: StdDev. x \n",
            "init\t [-2.10263037  0.31320838]\t 4.617253458637031\t 3.1817562258207746\t    \t    \n",
            "init\t [-3.15882714 -4.42470033]\t 49.134134969019556\t 3.1817562258207746\t    \t    \n",
            "init\t [2.93873111 1.60085526]\t 13.761615685279608\t 3.1817562258207746\t    \t    \n",
            "init\t [1.40821398 0.77417363]\t 3.1817562258207746\t 3.1817562258207746\t    \t    \n",
            "init\t [-4.71999574 -1.45598869]\t 26.518165900202685\t 3.1817562258207746\t    \t    \n",
            "1  \t [ 4.96008736 -4.44720822]\t 64.15778856025273\t 3.1817562258207746\t 3.029644539389759\t 4.401036040357305\n",
            "2  \t [-1.95646705  4.77829278]\t 49.491927105437156\t 3.1817562258207746\t 2.8602684376192613\t 3.44151993856674\n",
            "3  \t [5.12 5.12]\t 78.64320000000001\t 3.1817562258207746\t 2.9359319265865165\t 3.3392456253916687\n",
            "4  \t [ 0.36733635 -2.43679252]\t 12.01085157427602\t 3.1817562258207746\t 3.2521570007740186\t 3.7544991846821616\n",
            "5  \t [1.46283012 4.70698611]\t 46.45130852567843\t 3.1817562258207746\t 2.6554254934283974\t 3.371835178147673\n",
            "6  \t [-5.12        2.09568674]\t 34.998205825519875\t 3.1817562258207746\t 2.6139536820959104\t 3.1179283364223065\n",
            "7  \t [ 3.79063835 -1.16778615]\t 17.096388078181455\t 3.1817562258207746\t 2.7067523103049047\t 3.0917947323517043\n",
            "8  \t [ 0.78944164 -5.12      ]\t 53.052018110265955\t 3.1817562258207746\t 3.240149806598699\t 3.51567562268199\n",
            "9  \t [-0.91864904  1.95066181]\t 8.454079062955335\t 3.1817562258207746\t 3.2774426065395965\t 3.598057308544916\n",
            "10 \t [5.12       1.56274465]\t 31.098741673950702\t 3.1817562258207746\t 2.5913463879320995\t 2.473247469708018\n",
            "11 \t [-2.40853536 -1.28048258]\t 9.080313813015932\t 3.1817562258207746\t 3.041449776815338\t 3.111964435357034\n",
            "\u001b[1m\u001b[92m12\u001b[0m\t \u001b[1m\u001b[92m[-0.11013766 -0.22909088]\u001b[0m\t \u001b[1m\u001b[92m0.117095564407296\u001b[0m\t \u001b[1m\u001b[92m0.117095564407296\u001b[0m\t \u001b[1m\u001b[92m2.660253841206626\u001b[0m\t \u001b[1m\u001b[92m3.4089844617924485\u001b[0m\n",
            "13 \t [ 1.62017287 -0.79968244]\t 3.9039441296767574\t 0.117095564407296\t 2.185899150183957\t 2.382390880536777\n",
            "14 \t [-2.73135779  1.91810604]\t 14.818576972036228\t 0.117095564407296\t 2.5062662161530573\t 3.0777535859348406\n",
            "15 \t [0.91021931 2.24708492]\t 10.927280472812296\t 0.117095564407296\t 2.6070244303403003\t 3.228236385491268\n",
            "16 \t [-4.48281977  4.45493667]\t 59.78859460029231\t 0.117095564407296\t 2.468041516143173\t 2.8504238436173073\n",
            "17 \t [ 2.38769447 -2.75495324]\t 20.880619578507016\t 0.117095564407296\t 2.6359391181305463\t 2.895174724466146\n",
            "18 \t [-1.28495498 -3.21503379]\t 22.323993875006973\t 0.117095564407296\t 2.9980491401567164\t 3.240160329005221\n",
            "19 \t [-0.49742919 -0.71524537]\t 1.2705876765940947\t 0.117095564407296\t 2.335744270443361\t 2.683366455123379\n",
            "20 \t [-5.12 -5.12]\t 78.64320000000001\t 0.117095564407296\t 3.082293275837615\t 3.1768054754339103\n"
          ]
        }
      ],
      "source": [
        "### EXACT STP EI GRADIENTS\n",
        "\n",
        "np.random.seed(run_num_17)\n",
        "surrogate_exact_17 = dtStudentProcess(cov_func, optimize=opt, nu = df)\n",
        "\n",
        "exact_17 = dGPGO(surrogate_exact_17, Acquisition_grad(util), objfunc, param)\n",
        "exact_17.run(init_evals=n_init, max_iter=iters)\n"
      ]
    },
    {
      "cell_type": "code",
      "execution_count": 51,
      "metadata": {
        "id": "eVEhyZ9BQS-1",
        "colab": {
          "base_uri": "https://localhost:8080/"
        },
        "outputId": "f482b928-3906-4481-c223-85498cb987bf"
      },
      "outputs": [
        {
          "output_type": "stream",
          "name": "stdout",
          "text": [
            "Evaluation \t Proposed point \t  Current eval. \t  Best eval. \t        Exact EI: StdDev. x \t Approx EI: StdDev. x \n",
            "init\t [1.53983224 0.05584255]\t 2.3773200933391867\t 2.3773200933391867\t    \t    \n",
            "init\t [ 3.87687906 -3.25795609]\t 36.25874706055664\t 2.3773200933391867\t    \t    \n",
            "init\t [3.60686662 2.56139557]\t 26.130981366974602\t 2.3773200933391867\t    \t    \n",
            "init\t [1.70088108 4.99604939]\t 52.81401545301259\t 2.3773200933391867\t    \t    \n",
            "init\t [-2.48864335 -4.83014733]\t 52.85399210258478\t 2.3773200933391867\t    \t    \n",
            "1  \t [-5.00718904  2.9174042 ]\t 42.09443666312248\t 2.3773200933391867\t 3.2039672804564496\t 3.6212463412265103\n",
            "2  \t [-1.69518918 -0.75621845]\t 4.017399056328712\t 2.3773200933391867\t 2.8448462093332503\t 2.478451126286371\n",
            "3  \t [ 0.70708592 -5.12      ]\t 52.92877050483074\t 2.3773200933391867\t 3.383005353277074\t 3.078055261820011\n",
            "4  \t [-5.12       -1.56644697]\t 31.12191221108737\t 2.3773200933391867\t 3.1384261892828493\t 3.4931075927773554\n",
            "5  \t [-1.76847027  4.21781194]\t 38.70736220052378\t 2.3773200933391867\t 2.7562910326851133\t 2.798896432171147\n",
            "6  \t [ 4.91608763 -0.19848845]\t 24.246712867680763\t 2.3773200933391867\t 2.6803642380933783\t 2.9370537055228043\n",
            "7  \t [5.12 5.12]\t 78.6431999999999\t 2.3773200933391867\t 3.148868085868087\t 2.9701135548193354\n",
            "8  \t [-1.4290074  1.1753212]\t 4.804821967229817\t 2.3773200933391867\t 2.6166705112092035\t 3.1125897266575886\n",
            "9  \t [0.81457827 1.77154953]\t 6.940313231556821\t 2.3773200933391867\t 2.7923417837004836\t 3.04942119169544\n",
            "10 \t [ 0.01998299 -2.09351761]\t 8.766031253677555\t 2.3773200933391867\t 3.0571068782557886\t 3.0241566271623506\n",
            "11 \t [ 1.82692059 -1.33642691]\t 6.909712590940311\t 2.3773200933391867\t 2.9013324279394586\t 2.9535251064053787\n",
            "12 \t [-3.53098986  0.63402436]\t 13.271863154535044\t 2.3773200933391867\t 2.693718418685685\t 2.7593357333358677\n",
            "13 \t [-2.80775613 -2.02283535]\t 16.06722022415214\t 2.3773200933391867\t 2.8031831958371765\t 2.659050852022551\n",
            "14 \t [-5.12 -5.12]\t 78.64320000000001\t 2.3773200933391867\t 2.570552836283185\t 2.7938537430496355\n",
            "\u001b[1m\u001b[92m15\u001b[0m\t \u001b[1m\u001b[92m[-0.11235586 -0.05351569]\u001b[0m\t \u001b[1m\u001b[92m0.01835169799654567\u001b[0m\t \u001b[1m\u001b[92m0.01835169799654567\u001b[0m\t \u001b[1m\u001b[92m2.614602433799466\u001b[0m\t \u001b[1m\u001b[92m3.225946699580955\u001b[0m\n",
            "16 \t [2.93339802 0.10880662]\t 8.628501703998433\t 0.01835169799654567\t 2.2376451410398626\t 2.714401369776861\n",
            "17 \t [-4.00829848  4.96587477]\t 65.38628115121425\t 0.01835169799654567\t 3.172869373802951\t 3.321071681715148\n",
            "18 \t [ 2.92889108 -5.10770481]\t 60.75569979941354\t 0.01835169799654567\t 3.228954100569104\t 3.472059844712851\n",
            "19 \t [-2.8009322   2.51203546]\t 20.465865484510847\t 0.01835169799654567\t 2.5728229954202755\t 2.866878706293068\n",
            "20 \t [3.36865916 4.78932992]\t 57.22322665055839\t 0.01835169799654567\t 2.7965836835412023\t 3.053154181659552\n"
          ]
        }
      ],
      "source": [
        "### EXACT STP EI GRADIENTS\n",
        "\n",
        "np.random.seed(run_num_18)\n",
        "surrogate_exact_18 = dtStudentProcess(cov_func, optimize=opt, nu = df)\n",
        "\n",
        "exact_18 = dGPGO(surrogate_exact_18, Acquisition_grad(util), objfunc, param)\n",
        "exact_18.run(init_evals=n_init, max_iter=iters)\n"
      ]
    },
    {
      "cell_type": "code",
      "execution_count": 52,
      "metadata": {
        "id": "B6gTz1ojQUxn",
        "colab": {
          "base_uri": "https://localhost:8080/"
        },
        "outputId": "e02cbb30-3cef-4f56-deca-541447e39aaf"
      },
      "outputs": [
        {
          "output_type": "stream",
          "name": "stdout",
          "text": [
            "Evaluation \t Proposed point \t  Current eval. \t  Best eval. \t        Exact EI: StdDev. x \t Approx EI: StdDev. x \n",
            "init\t [-4.12125592  2.6751971 ]\t 31.298109376682206\t 22.814458446152262\t    \t    \n",
            "init\t [-2.59135515 -3.70553152]\t 34.17704923320956\t 22.814458446152262\t    \t    \n",
            "init\t [-1.72598719 -4.27008445]\t 39.4462742815243\t 22.814458446152262\t    \t    \n",
            "init\t [1.76104531 3.13952049]\t 22.814458446152262\t 22.814458446152262\t    \t    \n",
            "init\t [4.9432772  1.38916592]\t 28.295553455390152\t 22.814458446152262\t    \t    \n",
            "1  \t [ 4.82682643 -3.73084389]\t 51.136645588372765\t 22.814458446152262\t 3.1702654048389025\t 4.5172584886297455\n",
            "2  \t [-5.12       -1.36648449]\t 29.948959696456487\t 22.814458446152262\t 3.803646175121205\t 3.8383411111182264\n",
            "\u001b[1m\u001b[92m3\u001b[0m\t \u001b[1m\u001b[92m[ 0.24577043 -0.51969434]\u001b[0m\t \u001b[1m\u001b[92m0.6005675098753336\u001b[0m\t \u001b[1m\u001b[92m0.6005675098753336\u001b[0m\t \u001b[1m\u001b[92m3.4538163428424666\u001b[0m\t \u001b[1m\u001b[92m3.4850073454610655\u001b[0m\n",
            "4  \t [-1.99064521  5.12      ]\t 56.391468365049796\t 0.6005675098753336\t 3.1157082644864857\t 3.326056971740211\n",
            "5  \t [5.12 5.12]\t 78.64320000000001\t 0.6005675098753336\t 2.930533887380456\t 2.9160663698891867\n",
            "6  \t [ 1.57664235 -5.12      ]\t 54.91460109293939\t 0.6005675098753336\t 3.2317676065688\t 3.124971605728314\n",
            "7  \t [-1.91709289 -0.0881984 ]\t 3.690803069337918\t 0.6005675098753336\t 2.8992892771995002\t 3.5103815069948237\n",
            "8  \t [ 2.28571467 -0.87212858]\t 6.745708084056087\t 0.6005675098753336\t 2.592567880761915\t 2.783111229008921\n",
            "9  \t [-5.12 -5.12]\t 78.64320000000001\t 0.6005675098753336\t 3.3977004707402547\t 3.1478604099681413\n",
            "10 \t [-0.56098393 -1.79243889]\t 6.740377310274877\t 0.6005675098753336\t 2.815993003762822\t 2.897327828144427\n",
            "11 \t [-0.21409531  1.28831781]\t 3.365362346427389\t 0.6005675098753336\t 2.157782525741432\t 3.079091976101774\n",
            "12 \t [ 5.12       -1.04090266]\t 28.38135669419372\t 0.6005675098753336\t 2.685426365950148\t 2.712583965339584\n",
            "13 \t [1.2765769 5.12     ]\t 54.05844858957823\t 0.6005675098753336\t 2.743185740639864\t 2.4673709502241623\n",
            "14 \t [-1.54946761  1.66280102]\t 7.9306643445121905\t 0.6005675098753336\t 2.40656173729271\t 2.3530409346908696\n",
            "15 \t [1.60930952 0.86646018]\t 4.09138361562259\t 0.6005675098753336\t 2.7300043709515593\t 2.8743048231061556\n",
            "16 \t [ 2.04077197 -2.56763283]\t 17.350226978240403\t 0.6005675098753336\t 2.726410462122301\t 2.566802247381252\n",
            "17 \t [-3.37762991  0.27173929]\t 11.556068304239199\t 0.6005675098753336\t 2.7244400863290372\t 2.824603860779096\n",
            "18 \t [-2.39255425 -1.38183227]\t 9.543236657006101\t 0.6005675098753336\t 2.6378845850414865\t 2.8775701443226733\n",
            "19 \t [3.28436559 4.10530129]\t 44.49405465914458\t 0.6005675098753336\t 2.4378995723681665\t 2.6274144638235355\n",
            "20 \t [-0.56711323  3.21107446]\t 20.943615850102347\t 0.6005675098753336\t 2.4569508444912884\t 2.724627503614723\n"
          ]
        }
      ],
      "source": [
        "### EXACT STP EI GRADIENTS\n",
        "\n",
        "np.random.seed(run_num_19)\n",
        "surrogate_exact_19 = dtStudentProcess(cov_func, optimize=opt, nu = df)\n",
        "\n",
        "exact_19 = dGPGO(surrogate_exact_19, Acquisition_grad(util), objfunc, param)\n",
        "exact_19.run(init_evals=n_init, max_iter=iters)\n"
      ]
    },
    {
      "cell_type": "code",
      "execution_count": 53,
      "metadata": {
        "id": "aw3xvSryIwDi",
        "colab": {
          "base_uri": "https://localhost:8080/"
        },
        "outputId": "4b4de11c-11a9-433e-e3a6-f2e4b6ebacde"
      },
      "outputs": [
        {
          "output_type": "stream",
          "name": "stdout",
          "text": [
            "Evaluation \t Proposed point \t  Current eval. \t  Best eval. \t        Exact EI: StdDev. x \t Approx EI: StdDev. x \n",
            "init\t [0.9024594  4.07258857]\t 33.98638835688907\t 1.615187047660523\t    \t    \n",
            "init\t [4.00927467 3.23417577]\t 36.994069169927414\t 1.615187047660523\t    \t    \n",
            "init\t [-4.75249064  1.96359764]\t 30.297598676217497\t 1.615187047660523\t    \t    \n",
            "init\t [-1.24230715  0.18955208]\t 1.615187047660523\t 1.615187047660523\t    \t    \n",
            "init\t [ 1.61742301 -3.13497377]\t 22.27217824772924\t 1.615187047660523\t    \t    \n",
            "1  \t [-5.12 -5.12]\t 78.64320000000001\t 1.615187047660523\t 3.0617269241324045\t 2.954028476584628\n",
            "2  \t [-2.4105533  -2.32247375]\t 16.598535829081897\t 1.615187047660523\t 2.8756746536160906\t 3.4806981888039896\n",
            "3  \t [ 4.62178162 -0.61932787]\t 22.127999328741105\t 1.615187047660523\t 2.7205294819466506\t 3.1103653948711942\n",
            "4  \t [-2.72116469  5.12      ]\t 59.83353725657117\t 1.615187047660523\t 2.8299867703491492\t 3.3889802636364275\n",
            "5  \t [ 1.57721126 -0.05242972]\t 2.4930931061581845\t 1.615187047660523\t 3.254598039407733\t 3.0658619327184082\n",
            "6  \t [ 4.14636433 -4.97978639]\t 66.7888821736437\t 1.615187047660523\t 3.171665674028531\t 4.000305362180794\n",
            "7  \t [-1.13115757 -5.12      ]\t 53.7083174395236\t 1.615187047660523\t 3.889457008230501\t 3.5144529740811077\n",
            "8  \t [-5.0492747  -1.91255659]\t 32.81092039194326\t 1.615187047660523\t 3.0307668943530754\t 3.1731650232060233\n",
            "9  \t [-0.42108459  1.71043035]\t 6.028456224191401\t 1.615187047660523\t 2.5156703197926347\t 2.733911746218403\n",
            "10 \t [-2.99096567  0.27184629]\t 9.093676432150694\t 1.615187047660523\t 3.1033943662707397\t 2.9669836143992994\n",
            "11 \t [ 0.08952587 -1.51604982]\t 4.604828993678127\t 1.615187047660523\t 2.886948657370786\t 2.8878138370586077\n",
            "12 \t [5.12 5.12]\t 78.64320000000001\t 1.615187047660523\t 2.8098933352414983\t 3.2928393410751973\n",
            "13 \t [-1.93654471  2.11441936]\t 12.691743927214048\t 1.615187047660523\t 2.8450741209743335\t 3.52121054606278\n",
            "14 \t [2.60973768 1.11903232]\t 9.315197395262068\t 1.615187047660523\t 2.7803209365356927\t 2.968764461998213\n",
            "\u001b[1m\u001b[92m15\u001b[0m\t \u001b[1m\u001b[92m[0.24873258 0.01943564]\u001b[0m\t \u001b[1m\u001b[92m0.0626233858150284\u001b[0m\t \u001b[1m\u001b[92m0.0626233858150284\u001b[0m\t \u001b[1m\u001b[92m2.367911422419973\u001b[0m\t \u001b[1m\u001b[92m2.6499796907707447\u001b[0m\n",
            "16 \t [5.12       1.57887275]\t 31.200078299876036\t 0.0626233858150284\t 2.221429375016906\t 3.160101111163682\n",
            "17 \t [ 4.66645586 -2.38026481]\t 33.10713145894154\t 0.0626233858150284\t 2.5977380724586863\t 2.885618154582647\n",
            "18 \t [2.70240921 5.12      ]\t 59.7318155443883\t 0.0626233858150284\t 3.215750174381412\t 3.444098024341125\n",
            "19 \t [1.06510368 1.55817728]\t 5.990278700205682\t 0.0626233858150284\t 2.785442037947257\t 2.838717101982429\n",
            "20 \t [-0.40650897 -3.33504737]\t 22.410331435463675\t 0.0626233858150284\t 2.490319544103456\t 2.807846009986952\n"
          ]
        }
      ],
      "source": [
        "### EXACT STP EI GRADIENTS\n",
        "\n",
        "np.random.seed(run_num_20)\n",
        "surrogate_exact_20 = dtStudentProcess(cov_func, optimize=opt, nu = df)\n",
        "\n",
        "exact_20 = dGPGO(surrogate_exact_20, Acquisition_grad(util), objfunc, param)\n",
        "exact_20.run(init_evals=n_init, max_iter=iters)\n"
      ]
    },
    {
      "cell_type": "code",
      "execution_count": 54,
      "metadata": {
        "id": "5c8szjivRPme",
        "colab": {
          "base_uri": "https://localhost:8080/"
        },
        "outputId": "5e13f1e0-9152-4251-9fdd-aae49f50feee"
      },
      "outputs": [
        {
          "output_type": "execute_result",
          "data": {
            "text/plain": [
              "1303.4748017787933"
            ]
          },
          "metadata": {},
          "execution_count": 54
        }
      ],
      "source": [
        "end_exact = time.time()\n",
        "end_exact\n",
        "\n",
        "time_exact = end_exact - start_exact\n",
        "time_exact\n"
      ]
    },
    {
      "cell_type": "code",
      "execution_count": 55,
      "metadata": {
        "id": "f6gCKnp6RR8c",
        "colab": {
          "base_uri": "https://localhost:8080/"
        },
        "outputId": "327e7c63-629b-4f3f-9a1e-2c1f7deea179"
      },
      "outputs": [
        {
          "output_type": "execute_result",
          "data": {
            "text/plain": [
              "(-1.1874707791039731, -0.40402020248519377)"
            ]
          },
          "metadata": {},
          "execution_count": 55
        }
      ],
      "source": [
        "### Simple regret minimization: run number = 1\n",
        "\n",
        "approx_output_1 = np.append(np.min(-approx_1.GP.y[0:n_init]),-approx_1.GP.y[n_init:(n_init+iters)]) \n",
        "exact_output_1 = np.append(np.min(-exact_1.GP.y[0:n_init]),-exact_1.GP.y[n_init:(n_init+iters)]) \n",
        "\n",
        "regret_approx_1 = np.log(approx_output_1 - y_global_orig)\n",
        "regret_exact_1 = np.log(exact_output_1 - y_global_orig)\n",
        "\n",
        "simple_regret_approx_1 = min_max_array(regret_approx_1)\n",
        "simple_regret_exact_1 = min_max_array(regret_exact_1)\n",
        "\n",
        "min_simple_regret_approx_1 = min(simple_regret_approx_1)\n",
        "min_simple_regret_exact_1 = min(simple_regret_exact_1)\n",
        "\n",
        "min_simple_regret_approx_1, min_simple_regret_exact_1\n"
      ]
    },
    {
      "cell_type": "code",
      "execution_count": 56,
      "metadata": {
        "id": "94yBw5tqQxfk",
        "colab": {
          "base_uri": "https://localhost:8080/"
        },
        "outputId": "03afc91d-0b57-40de-cd32-f2ee0a35d1b9"
      },
      "outputs": [
        {
          "output_type": "execute_result",
          "data": {
            "text/plain": [
              "(0.12742168273537824, 0.12742168273537824)"
            ]
          },
          "metadata": {},
          "execution_count": 56
        }
      ],
      "source": [
        "### Simple regret minimization: run number = 2\n",
        "\n",
        "approx_output_2 = np.append(np.min(-approx_2.GP.y[0:n_init]),-approx_2.GP.y[n_init:(n_init+iters)]) \n",
        "exact_output_2 = np.append(np.min(-exact_2.GP.y[0:n_init]),-exact_2.GP.y[n_init:(n_init+iters)]) \n",
        "\n",
        "regret_approx_2 = np.log(approx_output_2 - y_global_orig)\n",
        "regret_exact_2 = np.log(exact_output_2 - y_global_orig)\n",
        "\n",
        "simple_regret_approx_2 = min_max_array(regret_approx_2)\n",
        "simple_regret_exact_2 = min_max_array(regret_exact_2)\n",
        "\n",
        "min_simple_regret_approx_2 = min(simple_regret_approx_2)\n",
        "min_simple_regret_exact_2 = min(simple_regret_exact_2)\n",
        "\n",
        "min_simple_regret_approx_2, min_simple_regret_exact_2\n"
      ]
    },
    {
      "cell_type": "code",
      "execution_count": 57,
      "metadata": {
        "id": "Bu6SBWALQxfl",
        "colab": {
          "base_uri": "https://localhost:8080/"
        },
        "outputId": "a56b76c9-4820-4b0d-ee56-db9b897409c4"
      },
      "outputs": [
        {
          "output_type": "execute_result",
          "data": {
            "text/plain": [
              "(-1.8706426525580861, -2.1504936202085077)"
            ]
          },
          "metadata": {},
          "execution_count": 57
        }
      ],
      "source": [
        "### Simple regret minimization: run number = 3\n",
        "\n",
        "approx_output_3 = np.append(np.min(-approx_3.GP.y[0:n_init]),-approx_3.GP.y[n_init:(n_init+iters)]) \n",
        "exact_output_3 = np.append(np.min(-exact_3.GP.y[0:n_init]),-exact_3.GP.y[n_init:(n_init+iters)]) \n",
        "\n",
        "regret_approx_3 = np.log(approx_output_3 - y_global_orig)\n",
        "regret_exact_3 = np.log(exact_output_3 - y_global_orig)\n",
        "\n",
        "simple_regret_approx_3 = min_max_array(regret_approx_3)\n",
        "simple_regret_exact_3 = min_max_array(regret_exact_3)\n",
        "\n",
        "min_simple_regret_approx_3 = min(simple_regret_approx_3)\n",
        "min_simple_regret_exact_3 = min(simple_regret_exact_3)\n",
        "\n",
        "min_simple_regret_approx_3, min_simple_regret_exact_3"
      ]
    },
    {
      "cell_type": "code",
      "execution_count": 58,
      "metadata": {
        "id": "AZm0jgxkQxfm",
        "colab": {
          "base_uri": "https://localhost:8080/"
        },
        "outputId": "64e35c98-7d5e-4d5e-9beb-a8a43f1be66b"
      },
      "outputs": [
        {
          "output_type": "execute_result",
          "data": {
            "text/plain": [
              "(-0.09125697966406919, -1.1088193500996675)"
            ]
          },
          "metadata": {},
          "execution_count": 58
        }
      ],
      "source": [
        "### Simple regret minimization: run number = 4\n",
        "\n",
        "approx_output_4 = np.append(np.min(-approx_4.GP.y[0:n_init]),-approx_4.GP.y[n_init:(n_init+iters)]) \n",
        "exact_output_4 = np.append(np.min(-exact_4.GP.y[0:n_init]),-exact_4.GP.y[n_init:(n_init+iters)]) \n",
        "\n",
        "regret_approx_4 = np.log(approx_output_4 - y_global_orig)\n",
        "regret_exact_4 = np.log(exact_output_4 - y_global_orig)\n",
        "\n",
        "simple_regret_approx_4 = min_max_array(regret_approx_4)\n",
        "simple_regret_exact_4 = min_max_array(regret_exact_4)\n",
        "\n",
        "min_simple_regret_approx_4 = min(simple_regret_approx_4)\n",
        "min_simple_regret_exact_4 = min(simple_regret_exact_4)\n",
        "\n",
        "min_simple_regret_approx_4, min_simple_regret_exact_4"
      ]
    },
    {
      "cell_type": "code",
      "execution_count": 59,
      "metadata": {
        "id": "NONPm8JIQxfn",
        "colab": {
          "base_uri": "https://localhost:8080/"
        },
        "outputId": "0942fc11-7143-4170-e21f-7c172720cd9d"
      },
      "outputs": [
        {
          "output_type": "execute_result",
          "data": {
            "text/plain": [
              "(0.15780845208711564, 0.07928373609312964)"
            ]
          },
          "metadata": {},
          "execution_count": 59
        }
      ],
      "source": [
        "### Simple regret minimization: run number = 5\n",
        "\n",
        "approx_output_5 = np.append(np.min(-approx_5.GP.y[0:n_init]),-approx_5.GP.y[n_init:(n_init+iters)]) \n",
        "exact_output_5 = np.append(np.min(-exact_5.GP.y[0:n_init]),-exact_5.GP.y[n_init:(n_init+iters)]) \n",
        "\n",
        "regret_approx_5 = np.log(approx_output_5 - y_global_orig)\n",
        "regret_exact_5 = np.log(exact_output_5 - y_global_orig)\n",
        "\n",
        "simple_regret_approx_5 = min_max_array(regret_approx_5)\n",
        "simple_regret_exact_5 = min_max_array(regret_exact_5)\n",
        "\n",
        "min_simple_regret_approx_5 = min(simple_regret_approx_5)\n",
        "min_simple_regret_exact_5 = min(simple_regret_exact_5)\n",
        "\n",
        "min_simple_regret_approx_5, min_simple_regret_exact_5"
      ]
    },
    {
      "cell_type": "code",
      "execution_count": 60,
      "metadata": {
        "id": "CJv3lPuSQxfp",
        "colab": {
          "base_uri": "https://localhost:8080/"
        },
        "outputId": "a47a679f-ef12-48a1-c7a5-cad7f5da8781"
      },
      "outputs": [
        {
          "output_type": "execute_result",
          "data": {
            "text/plain": [
              "(-0.5395501502640546, -0.3940946780240456)"
            ]
          },
          "metadata": {},
          "execution_count": 60
        }
      ],
      "source": [
        "### Simple regret minimization: run number = 6\n",
        "\n",
        "approx_output_6 = np.append(np.min(-approx_6.GP.y[0:n_init]),-approx_6.GP.y[n_init:(n_init+iters)]) \n",
        "exact_output_6 = np.append(np.min(-exact_6.GP.y[0:n_init]),-exact_6.GP.y[n_init:(n_init+iters)]) \n",
        "\n",
        "regret_approx_6 = np.log(approx_output_6 - y_global_orig)\n",
        "regret_exact_6 = np.log(exact_output_6 - y_global_orig)\n",
        "\n",
        "simple_regret_approx_6 = min_max_array(regret_approx_6)\n",
        "simple_regret_exact_6 = min_max_array(regret_exact_6)\n",
        "\n",
        "min_simple_regret_approx_6 = min(simple_regret_approx_6)\n",
        "min_simple_regret_exact_6 = min(simple_regret_exact_6)\n",
        "\n",
        "min_simple_regret_approx_6, min_simple_regret_exact_6"
      ]
    },
    {
      "cell_type": "code",
      "execution_count": 61,
      "metadata": {
        "id": "quR2ZyApQxfq",
        "colab": {
          "base_uri": "https://localhost:8080/"
        },
        "outputId": "3c03b2c5-21e8-48a8-b3a4-86090a1c9f87"
      },
      "outputs": [
        {
          "output_type": "execute_result",
          "data": {
            "text/plain": [
              "(-1.4360101698030638, -0.4166575576821864)"
            ]
          },
          "metadata": {},
          "execution_count": 61
        }
      ],
      "source": [
        "### Simple regret minimization: run number = 7\n",
        "\n",
        "approx_output_7 = np.append(np.min(-approx_7.GP.y[0:n_init]),-approx_7.GP.y[n_init:(n_init+iters)]) \n",
        "exact_output_7 = np.append(np.min(-exact_7.GP.y[0:n_init]),-exact_7.GP.y[n_init:(n_init+iters)]) \n",
        "\n",
        "regret_approx_7 = np.log(approx_output_7 - y_global_orig)\n",
        "regret_exact_7 = np.log(exact_output_7 - y_global_orig)\n",
        "\n",
        "simple_regret_approx_7 = min_max_array(regret_approx_7)\n",
        "simple_regret_exact_7 = min_max_array(regret_exact_7)\n",
        "\n",
        "min_simple_regret_approx_7 = min(simple_regret_approx_7)\n",
        "min_simple_regret_exact_7 = min(simple_regret_exact_7)\n",
        "\n",
        "min_simple_regret_approx_7, min_simple_regret_exact_7"
      ]
    },
    {
      "cell_type": "code",
      "execution_count": 62,
      "metadata": {
        "id": "99wY5nK6Qxfr",
        "colab": {
          "base_uri": "https://localhost:8080/"
        },
        "outputId": "b5e72ba6-05f4-4baf-e315-67a954bd831b"
      },
      "outputs": [
        {
          "output_type": "execute_result",
          "data": {
            "text/plain": [
              "(-1.88498967264663, -1.88498967264663)"
            ]
          },
          "metadata": {},
          "execution_count": 62
        }
      ],
      "source": [
        "### Simple regret minimization: run number = 8\n",
        "\n",
        "approx_output_8 = np.append(np.min(-approx_8.GP.y[0:n_init]),-approx_8.GP.y[n_init:(n_init+iters)]) \n",
        "exact_output_8 = np.append(np.min(-exact_8.GP.y[0:n_init]),-exact_8.GP.y[n_init:(n_init+iters)]) \n",
        "\n",
        "regret_approx_8 = np.log(approx_output_8 - y_global_orig)\n",
        "regret_exact_8 = np.log(exact_output_8 - y_global_orig)\n",
        "\n",
        "simple_regret_approx_8 = min_max_array(regret_approx_8)\n",
        "simple_regret_exact_8 = min_max_array(regret_exact_8)\n",
        "\n",
        "min_simple_regret_approx_8 = min(simple_regret_approx_8)\n",
        "min_simple_regret_exact_8 = min(simple_regret_exact_8)\n",
        "\n",
        "min_simple_regret_approx_8, min_simple_regret_exact_8"
      ]
    },
    {
      "cell_type": "code",
      "execution_count": 63,
      "metadata": {
        "id": "qt0P5t9qQxfs",
        "colab": {
          "base_uri": "https://localhost:8080/"
        },
        "outputId": "51ccb30d-0956-42b9-a11e-05b6203b596d"
      },
      "outputs": [
        {
          "output_type": "execute_result",
          "data": {
            "text/plain": [
              "(-0.9438861310072189, -0.6445349393763868)"
            ]
          },
          "metadata": {},
          "execution_count": 63
        }
      ],
      "source": [
        "### Simple regret minimization: run number = 9\n",
        "\n",
        "approx_output_9 = np.append(np.min(-approx_9.GP.y[0:n_init]),-approx_9.GP.y[n_init:(n_init+iters)]) \n",
        "exact_output_9 = np.append(np.min(-exact_9.GP.y[0:n_init]),-exact_9.GP.y[n_init:(n_init+iters)]) \n",
        "\n",
        "regret_approx_9 = np.log(approx_output_9 - y_global_orig)\n",
        "regret_exact_9 = np.log(exact_output_9 - y_global_orig)\n",
        "\n",
        "simple_regret_approx_9 = min_max_array(regret_approx_9)\n",
        "simple_regret_exact_9 = min_max_array(regret_exact_9)\n",
        "\n",
        "min_simple_regret_approx_9 = min(simple_regret_approx_9)\n",
        "min_simple_regret_exact_9 = min(simple_regret_exact_9)\n",
        "\n",
        "min_simple_regret_approx_9, min_simple_regret_exact_9"
      ]
    },
    {
      "cell_type": "code",
      "execution_count": 64,
      "metadata": {
        "id": "vx8to9stQxft",
        "colab": {
          "base_uri": "https://localhost:8080/"
        },
        "outputId": "08bf009b-31cd-4348-8dc9-656134256534"
      },
      "outputs": [
        {
          "output_type": "execute_result",
          "data": {
            "text/plain": [
              "(-1.691718453444982, -3.0934067814204047)"
            ]
          },
          "metadata": {},
          "execution_count": 64
        }
      ],
      "source": [
        "### Simple regret minimization: run number = 10\n",
        "\n",
        "approx_output_10 = np.append(np.min(-approx_10.GP.y[0:n_init]),-approx_10.GP.y[n_init:(n_init+iters)]) \n",
        "exact_output_10 = np.append(np.min(-exact_10.GP.y[0:n_init]),-exact_10.GP.y[n_init:(n_init+iters)]) \n",
        "\n",
        "regret_approx_10 = np.log(approx_output_10 - y_global_orig)\n",
        "regret_exact_10 = np.log(exact_output_10 - y_global_orig)\n",
        "\n",
        "simple_regret_approx_10 = min_max_array(regret_approx_10)\n",
        "simple_regret_exact_10 = min_max_array(regret_exact_10)\n",
        "\n",
        "min_simple_regret_approx_10 = min(simple_regret_approx_10)\n",
        "min_simple_regret_exact_10 = min(simple_regret_exact_10)\n",
        "\n",
        "min_simple_regret_approx_10, min_simple_regret_exact_10"
      ]
    },
    {
      "cell_type": "code",
      "execution_count": 65,
      "metadata": {
        "id": "d-FGzWyHQxfu",
        "colab": {
          "base_uri": "https://localhost:8080/"
        },
        "outputId": "e8bcd8e5-4ae7-487a-92df-4f9257fb0b61"
      },
      "outputs": [
        {
          "output_type": "execute_result",
          "data": {
            "text/plain": [
              "(-0.7893343855546883, -0.3946518376125588)"
            ]
          },
          "metadata": {},
          "execution_count": 65
        }
      ],
      "source": [
        "### Simple regret minimization: run number = 11\n",
        "\n",
        "approx_output_11 = np.append(np.min(-approx_11.GP.y[0:n_init]),-approx_11.GP.y[n_init:(n_init+iters)]) \n",
        "exact_output_11 = np.append(np.min(-exact_11.GP.y[0:n_init]),-exact_11.GP.y[n_init:(n_init+iters)]) \n",
        "\n",
        "regret_approx_11 = np.log(approx_output_11 - y_global_orig)\n",
        "regret_exact_11 = np.log(exact_output_11 - y_global_orig)\n",
        "\n",
        "simple_regret_approx_11 = min_max_array(regret_approx_11)\n",
        "simple_regret_exact_11 = min_max_array(regret_exact_11)\n",
        "\n",
        "min_simple_regret_approx_11 = min(simple_regret_approx_11)\n",
        "min_simple_regret_exact_11 = min(simple_regret_exact_11)\n",
        "\n",
        "min_simple_regret_approx_11, min_simple_regret_exact_11"
      ]
    },
    {
      "cell_type": "code",
      "execution_count": 66,
      "metadata": {
        "id": "SvtsssyjQxfv",
        "colab": {
          "base_uri": "https://localhost:8080/"
        },
        "outputId": "2a301ffb-c2a1-4fab-8472-f8097671fed3"
      },
      "outputs": [
        {
          "output_type": "execute_result",
          "data": {
            "text/plain": [
              "(-1.4941845347760712, -1.2165059665302826)"
            ]
          },
          "metadata": {},
          "execution_count": 66
        }
      ],
      "source": [
        "### Simple regret minimization: run number = 12\n",
        "\n",
        "approx_output_12 = np.append(np.min(-approx_12.GP.y[0:n_init]),-approx_12.GP.y[n_init:(n_init+iters)]) \n",
        "exact_output_12 = np.append(np.min(-exact_12.GP.y[0:n_init]),-exact_12.GP.y[n_init:(n_init+iters)]) \n",
        "\n",
        "regret_approx_12 = np.log(approx_output_12 - y_global_orig)\n",
        "regret_exact_12 = np.log(exact_output_12 - y_global_orig)\n",
        "\n",
        "simple_regret_approx_12 = min_max_array(regret_approx_12)\n",
        "simple_regret_exact_12 = min_max_array(regret_exact_12)\n",
        "\n",
        "min_simple_regret_approx_12 = min(simple_regret_approx_12)\n",
        "min_simple_regret_exact_12 = min(simple_regret_exact_12)\n",
        "\n",
        "min_simple_regret_approx_12, min_simple_regret_exact_12"
      ]
    },
    {
      "cell_type": "code",
      "execution_count": 67,
      "metadata": {
        "id": "K6OiGcHkQxfw",
        "colab": {
          "base_uri": "https://localhost:8080/"
        },
        "outputId": "4e96ac71-0a06-49e0-962c-78aa935cafb6"
      },
      "outputs": [
        {
          "output_type": "execute_result",
          "data": {
            "text/plain": [
              "(0.5188090574997131, -0.5382873918583773)"
            ]
          },
          "metadata": {},
          "execution_count": 67
        }
      ],
      "source": [
        "### Simple regret minimization: run number = 13\n",
        "\n",
        "approx_output_13 = np.append(np.min(-approx_13.GP.y[0:n_init]),-approx_13.GP.y[n_init:(n_init+iters)]) \n",
        "exact_output_13 = np.append(np.min(-exact_13.GP.y[0:n_init]),-exact_13.GP.y[n_init:(n_init+iters)]) \n",
        "\n",
        "regret_approx_13 = np.log(approx_output_13 - y_global_orig)\n",
        "regret_exact_13 = np.log(exact_output_13 - y_global_orig)\n",
        "\n",
        "simple_regret_approx_13 = min_max_array(regret_approx_13)\n",
        "simple_regret_exact_13 = min_max_array(regret_exact_13)\n",
        "\n",
        "min_simple_regret_approx_13 = min(simple_regret_approx_13)\n",
        "min_simple_regret_exact_13 = min(simple_regret_exact_13)\n",
        "\n",
        "min_simple_regret_approx_13, min_simple_regret_exact_13"
      ]
    },
    {
      "cell_type": "code",
      "execution_count": 68,
      "metadata": {
        "id": "ogML73shQxfx",
        "colab": {
          "base_uri": "https://localhost:8080/"
        },
        "outputId": "003439a4-f509-48f3-e0b0-76920d60fd2a"
      },
      "outputs": [
        {
          "output_type": "execute_result",
          "data": {
            "text/plain": [
              "(-2.0016594799835468, -4.269591125405595)"
            ]
          },
          "metadata": {},
          "execution_count": 68
        }
      ],
      "source": [
        "### Simple regret minimization: run number = 14\n",
        "\n",
        "approx_output_14 = np.append(np.min(-approx_14.GP.y[0:n_init]),-approx_14.GP.y[n_init:(n_init+iters)]) \n",
        "exact_output_14 = np.append(np.min(-exact_14.GP.y[0:n_init]),-exact_14.GP.y[n_init:(n_init+iters)]) \n",
        "\n",
        "regret_approx_14 = np.log(approx_output_14 - y_global_orig)\n",
        "regret_exact_14 = np.log(exact_output_14 - y_global_orig)\n",
        "\n",
        "simple_regret_approx_14 = min_max_array(regret_approx_14)\n",
        "simple_regret_exact_14 = min_max_array(regret_exact_14)\n",
        "\n",
        "min_simple_regret_approx_14 = min(simple_regret_approx_14)\n",
        "min_simple_regret_exact_14 = min(simple_regret_exact_14)\n",
        "\n",
        "min_simple_regret_approx_14, min_simple_regret_exact_14"
      ]
    },
    {
      "cell_type": "code",
      "execution_count": 69,
      "metadata": {
        "id": "9Eg7gFT9Qxfx",
        "colab": {
          "base_uri": "https://localhost:8080/"
        },
        "outputId": "50cbd7f5-6d52-4674-dc45-5e69ba8308ad"
      },
      "outputs": [
        {
          "output_type": "execute_result",
          "data": {
            "text/plain": [
              "(-0.8800503410580848, -0.3150311339512731)"
            ]
          },
          "metadata": {},
          "execution_count": 69
        }
      ],
      "source": [
        "### Simple regret minimization: run number = 15\n",
        "\n",
        "approx_output_15 = np.append(np.min(-approx_15.GP.y[0:n_init]),-approx_15.GP.y[n_init:(n_init+iters)]) \n",
        "exact_output_15 = np.append(np.min(-exact_15.GP.y[0:n_init]),-exact_15.GP.y[n_init:(n_init+iters)]) \n",
        "\n",
        "regret_approx_15 = np.log(approx_output_15 - y_global_orig)\n",
        "regret_exact_15 = np.log(exact_output_15 - y_global_orig)\n",
        "\n",
        "simple_regret_approx_15 = min_max_array(regret_approx_15)\n",
        "simple_regret_exact_15 = min_max_array(regret_exact_15)\n",
        "\n",
        "min_simple_regret_approx_15 = min(simple_regret_approx_15)\n",
        "min_simple_regret_exact_15 = min(simple_regret_exact_15)\n",
        "\n",
        "min_simple_regret_approx_15, min_simple_regret_exact_15"
      ]
    },
    {
      "cell_type": "code",
      "execution_count": 70,
      "metadata": {
        "id": "lIAC1U7ZQxfy",
        "colab": {
          "base_uri": "https://localhost:8080/"
        },
        "outputId": "1c6a28df-c9cc-4b6a-e911-e6114d717ffb"
      },
      "outputs": [
        {
          "output_type": "execute_result",
          "data": {
            "text/plain": [
              "(-0.26872619818423593, -1.3332887221030794)"
            ]
          },
          "metadata": {},
          "execution_count": 70
        }
      ],
      "source": [
        "### Simple regret minimization: run number = 16\n",
        "\n",
        "approx_output_16 = np.append(np.min(-approx_16.GP.y[0:n_init]),-approx_16.GP.y[n_init:(n_init+iters)]) \n",
        "exact_output_16 = np.append(np.min(-exact_16.GP.y[0:n_init]),-exact_16.GP.y[n_init:(n_init+iters)]) \n",
        "\n",
        "regret_approx_16 = np.log(approx_output_16 - y_global_orig)\n",
        "regret_exact_16 = np.log(exact_output_16 - y_global_orig)\n",
        "\n",
        "simple_regret_approx_16 = min_max_array(regret_approx_16)\n",
        "simple_regret_exact_16 = min_max_array(regret_exact_16)\n",
        "\n",
        "min_simple_regret_approx_16 = min(simple_regret_approx_16)\n",
        "min_simple_regret_exact_16 = min(simple_regret_exact_16)\n",
        "\n",
        "min_simple_regret_approx_16, min_simple_regret_exact_16"
      ]
    },
    {
      "cell_type": "code",
      "execution_count": 71,
      "metadata": {
        "id": "bGott36OQxfz",
        "colab": {
          "base_uri": "https://localhost:8080/"
        },
        "outputId": "61ff3f22-80a6-4c21-9be5-79b09ee5a32f"
      },
      "outputs": [
        {
          "output_type": "execute_result",
          "data": {
            "text/plain": [
              "(-2.107724336113843, -2.1447648877696976)"
            ]
          },
          "metadata": {},
          "execution_count": 71
        }
      ],
      "source": [
        "### Simple regret minimization: run number = 17\n",
        "\n",
        "approx_output_17 = np.append(np.min(-approx_17.GP.y[0:n_init]),-approx_17.GP.y[n_init:(n_init+iters)]) \n",
        "exact_output_17 = np.append(np.min(-exact_17.GP.y[0:n_init]),-exact_17.GP.y[n_init:(n_init+iters)]) \n",
        "\n",
        "regret_approx_17 = np.log(approx_output_17 - y_global_orig)\n",
        "regret_exact_17 = np.log(exact_output_17 - y_global_orig)\n",
        "\n",
        "simple_regret_approx_17 = min_max_array(regret_approx_17)\n",
        "simple_regret_exact_17 = min_max_array(regret_exact_17)\n",
        "\n",
        "min_simple_regret_approx_17 = min(simple_regret_approx_17)\n",
        "min_simple_regret_exact_17 = min(simple_regret_exact_17)\n",
        "\n",
        "min_simple_regret_approx_17, min_simple_regret_exact_17"
      ]
    },
    {
      "cell_type": "code",
      "execution_count": 72,
      "metadata": {
        "id": "Cz9ZYMBMQxfz",
        "colab": {
          "base_uri": "https://localhost:8080/"
        },
        "outputId": "e68c350d-1383-47f0-ed42-abc5e2a28a38"
      },
      "outputs": [
        {
          "output_type": "execute_result",
          "data": {
            "text/plain": [
              "(-2.1590072077175937, -3.9980331748908537)"
            ]
          },
          "metadata": {},
          "execution_count": 72
        }
      ],
      "source": [
        "### Simple regret minimization: run number = 18\n",
        "\n",
        "approx_output_18 = np.append(np.min(-approx_18.GP.y[0:n_init]),-approx_18.GP.y[n_init:(n_init+iters)]) \n",
        "exact_output_18 = np.append(np.min(-exact_18.GP.y[0:n_init]),-exact_18.GP.y[n_init:(n_init+iters)]) \n",
        "\n",
        "regret_approx_18 = np.log(approx_output_18 - y_global_orig)\n",
        "regret_exact_18 = np.log(exact_output_18 - y_global_orig)\n",
        "\n",
        "simple_regret_approx_18 = min_max_array(regret_approx_18)\n",
        "simple_regret_exact_18 = min_max_array(regret_exact_18)\n",
        "\n",
        "min_simple_regret_approx_18 = min(simple_regret_approx_18)\n",
        "min_simple_regret_exact_18 = min(simple_regret_exact_18)\n",
        "\n",
        "min_simple_regret_approx_18, min_simple_regret_exact_18"
      ]
    },
    {
      "cell_type": "code",
      "execution_count": 73,
      "metadata": {
        "id": "OBfpWOHNQxf0",
        "colab": {
          "base_uri": "https://localhost:8080/"
        },
        "outputId": "8fe907f6-450f-4fd7-9080-f4f76c9d1a8a"
      },
      "outputs": [
        {
          "output_type": "execute_result",
          "data": {
            "text/plain": [
              "(0.4225330206220185, -0.5098802210078203)"
            ]
          },
          "metadata": {},
          "execution_count": 73
        }
      ],
      "source": [
        "### Simple regret minimization: run number = 19\n",
        "\n",
        "approx_output_19 = np.append(np.min(-approx_19.GP.y[0:n_init]),-approx_19.GP.y[n_init:(n_init+iters)]) \n",
        "exact_output_19 = np.append(np.min(-exact_19.GP.y[0:n_init]),-exact_19.GP.y[n_init:(n_init+iters)]) \n",
        "\n",
        "regret_approx_19 = np.log(approx_output_19 - y_global_orig)\n",
        "regret_exact_19 = np.log(exact_output_19 - y_global_orig)\n",
        "\n",
        "simple_regret_approx_19 = min_max_array(regret_approx_19)\n",
        "simple_regret_exact_19 = min_max_array(regret_exact_19)\n",
        "\n",
        "min_simple_regret_approx_19 = min(simple_regret_approx_19)\n",
        "min_simple_regret_exact_19 = min(simple_regret_exact_19)\n",
        "\n",
        "min_simple_regret_approx_19, min_simple_regret_exact_19"
      ]
    },
    {
      "cell_type": "code",
      "execution_count": 74,
      "metadata": {
        "id": "BE1AJ7NsQxf0",
        "colab": {
          "base_uri": "https://localhost:8080/"
        },
        "outputId": "ea5b6479-aba9-4a05-d584-645e4c5477fb"
      },
      "outputs": [
        {
          "output_type": "execute_result",
          "data": {
            "text/plain": [
              "(-0.32331688300253897, -2.770616495318028)"
            ]
          },
          "metadata": {},
          "execution_count": 74
        }
      ],
      "source": [
        "### Simple regret minimization: run number = 20\n",
        "\n",
        "approx_output_20 = np.append(np.min(-approx_20.GP.y[0:n_init]),-approx_20.GP.y[n_init:(n_init+iters)]) \n",
        "exact_output_20 = np.append(np.min(-exact_20.GP.y[0:n_init]),-exact_20.GP.y[n_init:(n_init+iters)]) \n",
        "\n",
        "regret_approx_20 = np.log(approx_output_20 - y_global_orig)\n",
        "regret_exact_20 = np.log(exact_output_20 - y_global_orig)\n",
        "\n",
        "simple_regret_approx_20 = min_max_array(regret_approx_20)\n",
        "simple_regret_exact_20 = min_max_array(regret_exact_20)\n",
        "\n",
        "min_simple_regret_approx_20 = min(simple_regret_approx_20)\n",
        "min_simple_regret_exact_20 = min(simple_regret_exact_20)\n",
        "\n",
        "min_simple_regret_approx_20, min_simple_regret_exact_20"
      ]
    },
    {
      "cell_type": "code",
      "execution_count": 75,
      "metadata": {
        "id": "bpX-bKAHQxf1"
      },
      "outputs": [],
      "source": [
        "# Iteration1 :\n",
        "\n",
        "slice1 = 0\n",
        "\n",
        "approx1 = [simple_regret_approx_1[slice1],\n",
        "       simple_regret_approx_2[slice1],\n",
        "       simple_regret_approx_3[slice1],\n",
        "       simple_regret_approx_4[slice1],\n",
        "       simple_regret_approx_5[slice1],\n",
        "       simple_regret_approx_6[slice1],\n",
        "       simple_regret_approx_7[slice1],\n",
        "       simple_regret_approx_8[slice1],\n",
        "       simple_regret_approx_9[slice1],\n",
        "       simple_regret_approx_10[slice1],\n",
        "       simple_regret_approx_11[slice1],\n",
        "       simple_regret_approx_12[slice1],\n",
        "       simple_regret_approx_13[slice1],\n",
        "       simple_regret_approx_14[slice1],\n",
        "       simple_regret_approx_15[slice1],\n",
        "       simple_regret_approx_16[slice1],\n",
        "       simple_regret_approx_17[slice1],\n",
        "       simple_regret_approx_18[slice1],\n",
        "       simple_regret_approx_19[slice1],\n",
        "       simple_regret_approx_20[slice1]]\n",
        "\n",
        "exact1 = [simple_regret_exact_1[slice1],\n",
        "       simple_regret_exact_2[slice1],\n",
        "       simple_regret_exact_3[slice1],\n",
        "       simple_regret_exact_4[slice1],\n",
        "       simple_regret_exact_5[slice1],\n",
        "       simple_regret_exact_6[slice1],\n",
        "       simple_regret_exact_7[slice1],\n",
        "       simple_regret_exact_8[slice1],\n",
        "       simple_regret_exact_9[slice1],\n",
        "       simple_regret_exact_10[slice1],\n",
        "       simple_regret_exact_11[slice1],\n",
        "       simple_regret_exact_12[slice1],\n",
        "       simple_regret_exact_13[slice1],\n",
        "       simple_regret_exact_14[slice1],\n",
        "       simple_regret_exact_15[slice1],\n",
        "       simple_regret_exact_16[slice1],\n",
        "       simple_regret_exact_17[slice1],\n",
        "       simple_regret_exact_18[slice1],\n",
        "       simple_regret_exact_19[slice1],\n",
        "       simple_regret_exact_20[slice1]]\n",
        "\n",
        "approx1_results = pd.DataFrame(approx1).sort_values(by=[0], ascending=False)\n",
        "exact1_results = pd.DataFrame(exact1).sort_values(by=[0], ascending=False)\n",
        "\n",
        "### Best simple regret minimization IQR - approx:\n",
        "lower_approx1 = np.asarray(approx1_results[4:5][0])[0]\n",
        "median_approx1 = np.asarray(approx1_results[9:10][0])[0]\n",
        "upper_approx1 = np.asarray(approx1_results[14:15][0])[0]\n",
        "\n",
        "lower_exact1 = np.asarray(exact1_results[4:5][0])[0]\n",
        "median_exact1 = np.asarray(exact1_results[9:10][0])[0]\n",
        "upper_exact1 = np.asarray(exact1_results[14:15][0])[0]"
      ]
    },
    {
      "cell_type": "code",
      "execution_count": 76,
      "metadata": {
        "id": "CgIkJA1xQxf2"
      },
      "outputs": [],
      "source": [
        "# Iteration11 :\n",
        "\n",
        "slice11 = 10\n",
        "\n",
        "approx11 = [simple_regret_approx_1[slice11],\n",
        "       simple_regret_approx_2[slice11],\n",
        "       simple_regret_approx_3[slice11],\n",
        "       simple_regret_approx_4[slice11],\n",
        "       simple_regret_approx_5[slice11],\n",
        "       simple_regret_approx_6[slice11],\n",
        "       simple_regret_approx_7[slice11],\n",
        "       simple_regret_approx_8[slice11],\n",
        "       simple_regret_approx_9[slice11],\n",
        "       simple_regret_approx_10[slice11],\n",
        "       simple_regret_approx_11[slice11],\n",
        "       simple_regret_approx_12[slice11],\n",
        "       simple_regret_approx_13[slice11],\n",
        "       simple_regret_approx_14[slice11],\n",
        "       simple_regret_approx_15[slice11],\n",
        "       simple_regret_approx_16[slice11],\n",
        "       simple_regret_approx_17[slice11],\n",
        "       simple_regret_approx_18[slice11],\n",
        "       simple_regret_approx_19[slice11],\n",
        "       simple_regret_approx_20[slice11]]\n",
        "\n",
        "exact11 = [simple_regret_exact_1[slice11],\n",
        "       simple_regret_exact_2[slice11],\n",
        "       simple_regret_exact_3[slice11],\n",
        "       simple_regret_exact_4[slice11],\n",
        "       simple_regret_exact_5[slice11],\n",
        "       simple_regret_exact_6[slice11],\n",
        "       simple_regret_exact_7[slice11],\n",
        "       simple_regret_exact_8[slice11],\n",
        "       simple_regret_exact_9[slice11],\n",
        "       simple_regret_exact_10[slice11],\n",
        "       simple_regret_exact_11[slice11],\n",
        "       simple_regret_exact_12[slice11],\n",
        "       simple_regret_exact_13[slice11],\n",
        "       simple_regret_exact_14[slice11],\n",
        "       simple_regret_exact_15[slice11],\n",
        "       simple_regret_exact_16[slice11],\n",
        "       simple_regret_exact_17[slice11],\n",
        "       simple_regret_exact_18[slice11],\n",
        "       simple_regret_exact_19[slice11],\n",
        "       simple_regret_exact_20[slice11]]\n",
        "\n",
        "approx11_results = pd.DataFrame(approx11).sort_values(by=[0], ascending=False)\n",
        "exact11_results = pd.DataFrame(exact11).sort_values(by=[0], ascending=False)\n",
        "\n",
        "### Best simple regret minimization IQR - approx:\n",
        "lower_approx11 = np.asarray(approx11_results[4:5][0])[0]\n",
        "median_approx11 = np.asarray(approx11_results[9:10][0])[0]\n",
        "upper_approx11 = np.asarray(approx11_results[14:15][0])[0]\n",
        "\n",
        "lower_exact11 = np.asarray(exact11_results[4:5][0])[0]\n",
        "median_exact11 = np.asarray(exact11_results[9:10][0])[0]\n",
        "upper_exact11 = np.asarray(exact11_results[14:15][0])[0]"
      ]
    },
    {
      "cell_type": "code",
      "execution_count": 77,
      "metadata": {
        "id": "MFePDfGuQxf2"
      },
      "outputs": [],
      "source": [
        "# Iteration21 :\n",
        "\n",
        "slice21 = 20\n",
        "\n",
        "approx21 = [simple_regret_approx_1[slice21],\n",
        "       simple_regret_approx_2[slice21],\n",
        "       simple_regret_approx_3[slice21],\n",
        "       simple_regret_approx_4[slice21],\n",
        "       simple_regret_approx_5[slice21],\n",
        "       simple_regret_approx_6[slice21],\n",
        "       simple_regret_approx_7[slice21],\n",
        "       simple_regret_approx_8[slice21],\n",
        "       simple_regret_approx_9[slice21],\n",
        "       simple_regret_approx_10[slice21],\n",
        "       simple_regret_approx_11[slice21],\n",
        "       simple_regret_approx_12[slice21],\n",
        "       simple_regret_approx_13[slice21],\n",
        "       simple_regret_approx_14[slice21],\n",
        "       simple_regret_approx_15[slice21],\n",
        "       simple_regret_approx_16[slice21],\n",
        "       simple_regret_approx_17[slice21],\n",
        "       simple_regret_approx_18[slice21],\n",
        "       simple_regret_approx_19[slice21],\n",
        "       simple_regret_approx_20[slice21]]\n",
        "\n",
        "exact21 = [simple_regret_exact_1[slice21],\n",
        "       simple_regret_exact_2[slice21],\n",
        "       simple_regret_exact_3[slice21],\n",
        "       simple_regret_exact_4[slice21],\n",
        "       simple_regret_exact_5[slice21],\n",
        "       simple_regret_exact_6[slice21],\n",
        "       simple_regret_exact_7[slice21],\n",
        "       simple_regret_exact_8[slice21],\n",
        "       simple_regret_exact_9[slice21],\n",
        "       simple_regret_exact_10[slice21],\n",
        "       simple_regret_exact_11[slice21],\n",
        "       simple_regret_exact_12[slice21],\n",
        "       simple_regret_exact_13[slice21],\n",
        "       simple_regret_exact_14[slice21],\n",
        "       simple_regret_exact_15[slice21],\n",
        "       simple_regret_exact_16[slice21],\n",
        "       simple_regret_exact_17[slice21],\n",
        "       simple_regret_exact_18[slice21],\n",
        "       simple_regret_exact_19[slice21],\n",
        "       simple_regret_exact_20[slice21]]\n",
        "\n",
        "approx21_results = pd.DataFrame(approx21).sort_values(by=[0], ascending=False)\n",
        "exact21_results = pd.DataFrame(exact21).sort_values(by=[0], ascending=False)\n",
        "\n",
        "### Best simple regret minimization IQR - approx:\n",
        "lower_approx21 = np.asarray(approx21_results[4:5][0])[0]\n",
        "median_approx21 = np.asarray(approx21_results[9:10][0])[0]\n",
        "upper_approx21 = np.asarray(approx21_results[14:15][0])[0]\n",
        "\n",
        "lower_exact21 = np.asarray(exact21_results[4:5][0])[0]\n",
        "median_exact21 = np.asarray(exact21_results[9:10][0])[0]\n",
        "upper_exact21 = np.asarray(exact21_results[14:15][0])[0]"
      ]
    },
    {
      "cell_type": "code",
      "execution_count": 78,
      "metadata": {
        "id": "PrRDB1kfQxf3"
      },
      "outputs": [],
      "source": [
        "# Iteration2 :\n",
        "\n",
        "slice2 = 1\n",
        "\n",
        "approx2 = [simple_regret_approx_1[slice2],\n",
        "       simple_regret_approx_2[slice2],\n",
        "       simple_regret_approx_3[slice2],\n",
        "       simple_regret_approx_4[slice2],\n",
        "       simple_regret_approx_5[slice2],\n",
        "       simple_regret_approx_6[slice2],\n",
        "       simple_regret_approx_7[slice2],\n",
        "       simple_regret_approx_8[slice2],\n",
        "       simple_regret_approx_9[slice2],\n",
        "       simple_regret_approx_10[slice2],\n",
        "       simple_regret_approx_11[slice2],\n",
        "       simple_regret_approx_12[slice2],\n",
        "       simple_regret_approx_13[slice2],\n",
        "       simple_regret_approx_14[slice2],\n",
        "       simple_regret_approx_15[slice2],\n",
        "       simple_regret_approx_16[slice2],\n",
        "       simple_regret_approx_17[slice2],\n",
        "       simple_regret_approx_18[slice2],\n",
        "       simple_regret_approx_19[slice2],\n",
        "       simple_regret_approx_20[slice2]]\n",
        "\n",
        "exact2 = [simple_regret_exact_1[slice2],\n",
        "       simple_regret_exact_2[slice2],\n",
        "       simple_regret_exact_3[slice2],\n",
        "       simple_regret_exact_4[slice2],\n",
        "       simple_regret_exact_5[slice2],\n",
        "       simple_regret_exact_6[slice2],\n",
        "       simple_regret_exact_7[slice2],\n",
        "       simple_regret_exact_8[slice2],\n",
        "       simple_regret_exact_9[slice2],\n",
        "       simple_regret_exact_10[slice2],\n",
        "       simple_regret_exact_11[slice2],\n",
        "       simple_regret_exact_12[slice2],\n",
        "       simple_regret_exact_13[slice2],\n",
        "       simple_regret_exact_14[slice2],\n",
        "       simple_regret_exact_15[slice2],\n",
        "       simple_regret_exact_16[slice2],\n",
        "       simple_regret_exact_17[slice2],\n",
        "       simple_regret_exact_18[slice2],\n",
        "       simple_regret_exact_19[slice2],\n",
        "       simple_regret_exact_20[slice2]]\n",
        "\n",
        "approx2_results = pd.DataFrame(approx2).sort_values(by=[0], ascending=False)\n",
        "exact2_results = pd.DataFrame(exact2).sort_values(by=[0], ascending=False)\n",
        "\n",
        "### Best simple regret minimization IQR - approx:\n",
        "lower_approx2 = np.asarray(approx2_results[4:5][0])[0]\n",
        "median_approx2 = np.asarray(approx2_results[9:10][0])[0]\n",
        "upper_approx2 = np.asarray(approx2_results[14:15][0])[0]\n",
        "\n",
        "lower_exact2 = np.asarray(exact2_results[4:5][0])[0]\n",
        "median_exact2 = np.asarray(exact2_results[9:10][0])[0]\n",
        "upper_exact2 = np.asarray(exact2_results[14:15][0])[0]"
      ]
    },
    {
      "cell_type": "code",
      "execution_count": 79,
      "metadata": {
        "id": "B8ncJDYeQxf3"
      },
      "outputs": [],
      "source": [
        "# Iteration12 :\n",
        "\n",
        "slice12 = 11\n",
        "\n",
        "approx12 = [simple_regret_approx_1[slice12],\n",
        "       simple_regret_approx_2[slice12],\n",
        "       simple_regret_approx_3[slice12],\n",
        "       simple_regret_approx_4[slice12],\n",
        "       simple_regret_approx_5[slice12],\n",
        "       simple_regret_approx_6[slice12],\n",
        "       simple_regret_approx_7[slice12],\n",
        "       simple_regret_approx_8[slice12],\n",
        "       simple_regret_approx_9[slice12],\n",
        "       simple_regret_approx_10[slice12],\n",
        "       simple_regret_approx_11[slice12],\n",
        "       simple_regret_approx_12[slice12],\n",
        "       simple_regret_approx_13[slice12],\n",
        "       simple_regret_approx_14[slice12],\n",
        "       simple_regret_approx_15[slice12],\n",
        "       simple_regret_approx_16[slice12],\n",
        "       simple_regret_approx_17[slice12],\n",
        "       simple_regret_approx_18[slice12],\n",
        "       simple_regret_approx_19[slice12],\n",
        "       simple_regret_approx_20[slice12]]\n",
        "\n",
        "exact12 = [simple_regret_exact_1[slice12],\n",
        "       simple_regret_exact_2[slice12],\n",
        "       simple_regret_exact_3[slice12],\n",
        "       simple_regret_exact_4[slice12],\n",
        "       simple_regret_exact_5[slice12],\n",
        "       simple_regret_exact_6[slice12],\n",
        "       simple_regret_exact_7[slice12],\n",
        "       simple_regret_exact_8[slice12],\n",
        "       simple_regret_exact_9[slice12],\n",
        "       simple_regret_exact_10[slice12],\n",
        "       simple_regret_exact_11[slice12],\n",
        "       simple_regret_exact_12[slice12],\n",
        "       simple_regret_exact_13[slice12],\n",
        "       simple_regret_exact_14[slice12],\n",
        "       simple_regret_exact_15[slice12],\n",
        "       simple_regret_exact_16[slice12],\n",
        "       simple_regret_exact_17[slice12],\n",
        "       simple_regret_exact_18[slice12],\n",
        "       simple_regret_exact_19[slice12],\n",
        "       simple_regret_exact_20[slice12]]\n",
        "\n",
        "approx12_results = pd.DataFrame(approx12).sort_values(by=[0], ascending=False)\n",
        "exact12_results = pd.DataFrame(exact12).sort_values(by=[0], ascending=False)\n",
        "\n",
        "### Best simple regret minimization IQR - approx:\n",
        "lower_approx12 = np.asarray(approx12_results[4:5][0])[0]\n",
        "median_approx12 = np.asarray(approx12_results[9:10][0])[0]\n",
        "upper_approx12 = np.asarray(approx12_results[14:15][0])[0]\n",
        "\n",
        "lower_exact12 = np.asarray(exact12_results[4:5][0])[0]\n",
        "median_exact12 = np.asarray(exact12_results[9:10][0])[0]\n",
        "upper_exact12 = np.asarray(exact12_results[14:15][0])[0]"
      ]
    },
    {
      "cell_type": "code",
      "execution_count": 80,
      "metadata": {
        "id": "Jn4KpGvcQxf4"
      },
      "outputs": [],
      "source": [
        "# Iteration3 :\n",
        "\n",
        "slice3 = 2\n",
        "\n",
        "approx3 = [simple_regret_approx_1[slice3],\n",
        "       simple_regret_approx_2[slice3],\n",
        "       simple_regret_approx_3[slice3],\n",
        "       simple_regret_approx_4[slice3],\n",
        "       simple_regret_approx_5[slice3],\n",
        "       simple_regret_approx_6[slice3],\n",
        "       simple_regret_approx_7[slice3],\n",
        "       simple_regret_approx_8[slice3],\n",
        "       simple_regret_approx_9[slice3],\n",
        "       simple_regret_approx_10[slice3],\n",
        "       simple_regret_approx_11[slice3],\n",
        "       simple_regret_approx_12[slice3],\n",
        "       simple_regret_approx_13[slice3],\n",
        "       simple_regret_approx_14[slice3],\n",
        "       simple_regret_approx_15[slice3],\n",
        "       simple_regret_approx_16[slice3],\n",
        "       simple_regret_approx_17[slice3],\n",
        "       simple_regret_approx_18[slice3],\n",
        "       simple_regret_approx_19[slice3],\n",
        "       simple_regret_approx_20[slice3]]\n",
        "\n",
        "exact3 = [simple_regret_exact_1[slice3],\n",
        "       simple_regret_exact_2[slice3],\n",
        "       simple_regret_exact_3[slice3],\n",
        "       simple_regret_exact_4[slice3],\n",
        "       simple_regret_exact_5[slice3],\n",
        "       simple_regret_exact_6[slice3],\n",
        "       simple_regret_exact_7[slice3],\n",
        "       simple_regret_exact_8[slice3],\n",
        "       simple_regret_exact_9[slice3],\n",
        "       simple_regret_exact_10[slice3],\n",
        "       simple_regret_exact_11[slice3],\n",
        "       simple_regret_exact_12[slice3],\n",
        "       simple_regret_exact_13[slice3],\n",
        "       simple_regret_exact_14[slice3],\n",
        "       simple_regret_exact_15[slice3],\n",
        "       simple_regret_exact_16[slice3],\n",
        "       simple_regret_exact_17[slice3],\n",
        "       simple_regret_exact_18[slice3],\n",
        "       simple_regret_exact_19[slice3],\n",
        "       simple_regret_exact_20[slice3]]\n",
        "\n",
        "approx3_results = pd.DataFrame(approx3).sort_values(by=[0], ascending=False)\n",
        "exact3_results = pd.DataFrame(exact3).sort_values(by=[0], ascending=False)\n",
        "\n",
        "### Best simple regret minimization IQR - approx:\n",
        "lower_approx3 = np.asarray(approx3_results[4:5][0])[0]\n",
        "median_approx3 = np.asarray(approx3_results[9:10][0])[0]\n",
        "upper_approx3 = np.asarray(approx3_results[14:15][0])[0]\n",
        "\n",
        "lower_exact3 = np.asarray(exact3_results[4:5][0])[0]\n",
        "median_exact3 = np.asarray(exact3_results[9:10][0])[0]\n",
        "upper_exact3 = np.asarray(exact3_results[14:15][0])[0]"
      ]
    },
    {
      "cell_type": "code",
      "execution_count": 81,
      "metadata": {
        "id": "plf83wxrQxf4"
      },
      "outputs": [],
      "source": [
        "# Iteration13 :\n",
        "\n",
        "slice13 = 12\n",
        "\n",
        "approx13 = [simple_regret_approx_1[slice13],\n",
        "       simple_regret_approx_2[slice13],\n",
        "       simple_regret_approx_3[slice13],\n",
        "       simple_regret_approx_4[slice13],\n",
        "       simple_regret_approx_5[slice13],\n",
        "       simple_regret_approx_6[slice13],\n",
        "       simple_regret_approx_7[slice13],\n",
        "       simple_regret_approx_8[slice13],\n",
        "       simple_regret_approx_9[slice13],\n",
        "       simple_regret_approx_10[slice13],\n",
        "       simple_regret_approx_11[slice13],\n",
        "       simple_regret_approx_12[slice13],\n",
        "       simple_regret_approx_13[slice13],\n",
        "       simple_regret_approx_14[slice13],\n",
        "       simple_regret_approx_15[slice13],\n",
        "       simple_regret_approx_16[slice13],\n",
        "       simple_regret_approx_17[slice13],\n",
        "       simple_regret_approx_18[slice13],\n",
        "       simple_regret_approx_19[slice13],\n",
        "       simple_regret_approx_20[slice13]]\n",
        "\n",
        "exact13 = [simple_regret_exact_1[slice13],\n",
        "       simple_regret_exact_2[slice13],\n",
        "       simple_regret_exact_3[slice13],\n",
        "       simple_regret_exact_4[slice13],\n",
        "       simple_regret_exact_5[slice13],\n",
        "       simple_regret_exact_6[slice13],\n",
        "       simple_regret_exact_7[slice13],\n",
        "       simple_regret_exact_8[slice13],\n",
        "       simple_regret_exact_9[slice13],\n",
        "       simple_regret_exact_10[slice13],\n",
        "       simple_regret_exact_11[slice13],\n",
        "       simple_regret_exact_12[slice13],\n",
        "       simple_regret_exact_13[slice13],\n",
        "       simple_regret_exact_14[slice13],\n",
        "       simple_regret_exact_15[slice13],\n",
        "       simple_regret_exact_16[slice13],\n",
        "       simple_regret_exact_17[slice13],\n",
        "       simple_regret_exact_18[slice13],\n",
        "       simple_regret_exact_19[slice13],\n",
        "       simple_regret_exact_20[slice13]]\n",
        "\n",
        "approx13_results = pd.DataFrame(approx13).sort_values(by=[0], ascending=False)\n",
        "exact13_results = pd.DataFrame(exact13).sort_values(by=[0], ascending=False)\n",
        "\n",
        "### Best simple regret minimization IQR - approx:\n",
        "lower_approx13 = np.asarray(approx13_results[4:5][0])[0]\n",
        "median_approx13 = np.asarray(approx13_results[9:10][0])[0]\n",
        "upper_approx13 = np.asarray(approx13_results[14:15][0])[0]\n",
        "\n",
        "lower_exact13 = np.asarray(exact13_results[4:5][0])[0]\n",
        "median_exact13 = np.asarray(exact13_results[9:10][0])[0]\n",
        "upper_exact13 = np.asarray(exact13_results[14:15][0])[0]"
      ]
    },
    {
      "cell_type": "code",
      "execution_count": 82,
      "metadata": {
        "id": "9A7mlVvJQxf5"
      },
      "outputs": [],
      "source": [
        "# Iteration4 :\n",
        "\n",
        "slice4 = 3\n",
        "\n",
        "approx4 = [simple_regret_approx_1[slice4],\n",
        "       simple_regret_approx_2[slice4],\n",
        "       simple_regret_approx_3[slice4],\n",
        "       simple_regret_approx_4[slice4],\n",
        "       simple_regret_approx_5[slice4],\n",
        "       simple_regret_approx_6[slice4],\n",
        "       simple_regret_approx_7[slice4],\n",
        "       simple_regret_approx_8[slice4],\n",
        "       simple_regret_approx_9[slice4],\n",
        "       simple_regret_approx_10[slice4],\n",
        "       simple_regret_approx_11[slice4],\n",
        "       simple_regret_approx_12[slice4],\n",
        "       simple_regret_approx_13[slice4],\n",
        "       simple_regret_approx_14[slice4],\n",
        "       simple_regret_approx_15[slice4],\n",
        "       simple_regret_approx_16[slice4],\n",
        "       simple_regret_approx_17[slice4],\n",
        "       simple_regret_approx_18[slice4],\n",
        "       simple_regret_approx_19[slice4],\n",
        "       simple_regret_approx_20[slice4]]\n",
        "\n",
        "exact4 = [simple_regret_exact_1[slice4],\n",
        "       simple_regret_exact_2[slice4],\n",
        "       simple_regret_exact_3[slice4],\n",
        "       simple_regret_exact_4[slice4],\n",
        "       simple_regret_exact_5[slice4],\n",
        "       simple_regret_exact_6[slice4],\n",
        "       simple_regret_exact_7[slice4],\n",
        "       simple_regret_exact_8[slice4],\n",
        "       simple_regret_exact_9[slice4],\n",
        "       simple_regret_exact_10[slice4],\n",
        "       simple_regret_exact_11[slice4],\n",
        "       simple_regret_exact_12[slice4],\n",
        "       simple_regret_exact_13[slice4],\n",
        "       simple_regret_exact_14[slice4],\n",
        "       simple_regret_exact_15[slice4],\n",
        "       simple_regret_exact_16[slice4],\n",
        "       simple_regret_exact_17[slice4],\n",
        "       simple_regret_exact_18[slice4],\n",
        "       simple_regret_exact_19[slice4],\n",
        "       simple_regret_exact_20[slice4]]\n",
        "\n",
        "approx4_results = pd.DataFrame(approx4).sort_values(by=[0], ascending=False)\n",
        "exact4_results = pd.DataFrame(exact4).sort_values(by=[0], ascending=False)\n",
        "\n",
        "### Best simple regret minimization IQR - approx:\n",
        "lower_approx4 = np.asarray(approx4_results[4:5][0])[0]\n",
        "median_approx4 = np.asarray(approx4_results[9:10][0])[0]\n",
        "upper_approx4 = np.asarray(approx4_results[14:15][0])[0]\n",
        "\n",
        "lower_exact4 = np.asarray(exact4_results[4:5][0])[0]\n",
        "median_exact4 = np.asarray(exact4_results[9:10][0])[0]\n",
        "upper_exact4 = np.asarray(exact4_results[14:15][0])[0]"
      ]
    },
    {
      "cell_type": "code",
      "execution_count": 83,
      "metadata": {
        "id": "ijq-rioYQxf5"
      },
      "outputs": [],
      "source": [
        "# Iteration14 :\n",
        "\n",
        "slice14 = 13\n",
        "\n",
        "approx14 = [simple_regret_approx_1[slice14],\n",
        "       simple_regret_approx_2[slice14],\n",
        "       simple_regret_approx_3[slice14],\n",
        "       simple_regret_approx_4[slice14],\n",
        "       simple_regret_approx_5[slice14],\n",
        "       simple_regret_approx_6[slice14],\n",
        "       simple_regret_approx_7[slice14],\n",
        "       simple_regret_approx_8[slice14],\n",
        "       simple_regret_approx_9[slice14],\n",
        "       simple_regret_approx_10[slice14],\n",
        "       simple_regret_approx_11[slice14],\n",
        "       simple_regret_approx_12[slice14],\n",
        "       simple_regret_approx_13[slice14],\n",
        "       simple_regret_approx_14[slice14],\n",
        "       simple_regret_approx_15[slice14],\n",
        "       simple_regret_approx_16[slice14],\n",
        "       simple_regret_approx_17[slice14],\n",
        "       simple_regret_approx_18[slice14],\n",
        "       simple_regret_approx_19[slice14],\n",
        "       simple_regret_approx_20[slice14]]\n",
        "\n",
        "exact14 = [simple_regret_exact_1[slice14],\n",
        "       simple_regret_exact_2[slice14],\n",
        "       simple_regret_exact_3[slice14],\n",
        "       simple_regret_exact_4[slice14],\n",
        "       simple_regret_exact_5[slice14],\n",
        "       simple_regret_exact_6[slice14],\n",
        "       simple_regret_exact_7[slice14],\n",
        "       simple_regret_exact_8[slice14],\n",
        "       simple_regret_exact_9[slice14],\n",
        "       simple_regret_exact_10[slice14],\n",
        "       simple_regret_exact_11[slice14],\n",
        "       simple_regret_exact_12[slice14],\n",
        "       simple_regret_exact_13[slice14],\n",
        "       simple_regret_exact_14[slice14],\n",
        "       simple_regret_exact_15[slice14],\n",
        "       simple_regret_exact_16[slice14],\n",
        "       simple_regret_exact_17[slice14],\n",
        "       simple_regret_exact_18[slice14],\n",
        "       simple_regret_exact_19[slice14],\n",
        "       simple_regret_exact_20[slice14]]\n",
        "\n",
        "approx14_results = pd.DataFrame(approx14).sort_values(by=[0], ascending=False)\n",
        "exact14_results = pd.DataFrame(exact14).sort_values(by=[0], ascending=False)\n",
        "\n",
        "### Best simple regret minimization IQR - approx:\n",
        "lower_approx14 = np.asarray(approx14_results[4:5][0])[0]\n",
        "median_approx14 = np.asarray(approx14_results[9:10][0])[0]\n",
        "upper_approx14 = np.asarray(approx14_results[14:15][0])[0]\n",
        "\n",
        "lower_exact14 = np.asarray(exact14_results[4:5][0])[0]\n",
        "median_exact14 = np.asarray(exact14_results[9:10][0])[0]\n",
        "upper_exact14 = np.asarray(exact14_results[14:15][0])[0]"
      ]
    },
    {
      "cell_type": "code",
      "execution_count": 84,
      "metadata": {
        "id": "XINlZjoTd-ZK"
      },
      "outputs": [],
      "source": [
        "# Iteration5 :\n",
        "\n",
        "slice5 = 4\n",
        "\n",
        "approx5 = [simple_regret_approx_1[slice5],\n",
        "       simple_regret_approx_2[slice5],\n",
        "       simple_regret_approx_3[slice5],\n",
        "       simple_regret_approx_4[slice5],\n",
        "       simple_regret_approx_5[slice5],\n",
        "       simple_regret_approx_6[slice5],\n",
        "       simple_regret_approx_7[slice5],\n",
        "       simple_regret_approx_8[slice5],\n",
        "       simple_regret_approx_9[slice5],\n",
        "       simple_regret_approx_10[slice5],\n",
        "       simple_regret_approx_11[slice5],\n",
        "       simple_regret_approx_12[slice5],\n",
        "       simple_regret_approx_13[slice5],\n",
        "       simple_regret_approx_14[slice5],\n",
        "       simple_regret_approx_15[slice5],\n",
        "       simple_regret_approx_16[slice5],\n",
        "       simple_regret_approx_17[slice5],\n",
        "       simple_regret_approx_18[slice5],\n",
        "       simple_regret_approx_19[slice5],\n",
        "       simple_regret_approx_20[slice5]]\n",
        "\n",
        "exact5 = [simple_regret_exact_1[slice5],\n",
        "       simple_regret_exact_2[slice5],\n",
        "       simple_regret_exact_3[slice5],\n",
        "       simple_regret_exact_4[slice5],\n",
        "       simple_regret_exact_5[slice5],\n",
        "       simple_regret_exact_6[slice5],\n",
        "       simple_regret_exact_7[slice5],\n",
        "       simple_regret_exact_8[slice5],\n",
        "       simple_regret_exact_9[slice5],\n",
        "       simple_regret_exact_10[slice5],\n",
        "       simple_regret_exact_11[slice5],\n",
        "       simple_regret_exact_12[slice5],\n",
        "       simple_regret_exact_13[slice5],\n",
        "       simple_regret_exact_14[slice5],\n",
        "       simple_regret_exact_15[slice5],\n",
        "       simple_regret_exact_16[slice5],\n",
        "       simple_regret_exact_17[slice5],\n",
        "       simple_regret_exact_18[slice5],\n",
        "       simple_regret_exact_19[slice5],\n",
        "       simple_regret_exact_20[slice5]]\n",
        "\n",
        "approx5_results = pd.DataFrame(approx5).sort_values(by=[0], ascending=False)\n",
        "exact5_results = pd.DataFrame(exact5).sort_values(by=[0], ascending=False)\n",
        "\n",
        "### Best simple regret minimization IQR - approx:\n",
        "lower_approx5 = np.asarray(approx5_results[4:5][0])[0]\n",
        "median_approx5 = np.asarray(approx5_results[9:10][0])[0]\n",
        "upper_approx5 = np.asarray(approx5_results[14:15][0])[0]\n",
        "\n",
        "lower_exact5 = np.asarray(exact5_results[4:5][0])[0]\n",
        "median_exact5 = np.asarray(exact5_results[9:10][0])[0]\n",
        "upper_exact5 = np.asarray(exact5_results[14:15][0])[0]"
      ]
    },
    {
      "cell_type": "code",
      "execution_count": 85,
      "metadata": {
        "id": "4aZ7C8sOQxf6"
      },
      "outputs": [],
      "source": [
        "# Iteration15 :\n",
        "\n",
        "slice15 = 14\n",
        "\n",
        "approx15 = [simple_regret_approx_1[slice15],\n",
        "       simple_regret_approx_2[slice15],\n",
        "       simple_regret_approx_3[slice15],\n",
        "       simple_regret_approx_4[slice15],\n",
        "       simple_regret_approx_5[slice15],\n",
        "       simple_regret_approx_6[slice15],\n",
        "       simple_regret_approx_7[slice15],\n",
        "       simple_regret_approx_8[slice15],\n",
        "       simple_regret_approx_9[slice15],\n",
        "       simple_regret_approx_10[slice15],\n",
        "       simple_regret_approx_11[slice15],\n",
        "       simple_regret_approx_12[slice15],\n",
        "       simple_regret_approx_13[slice15],\n",
        "       simple_regret_approx_14[slice15],\n",
        "       simple_regret_approx_15[slice15],\n",
        "       simple_regret_approx_16[slice15],\n",
        "       simple_regret_approx_17[slice15],\n",
        "       simple_regret_approx_18[slice15],\n",
        "       simple_regret_approx_19[slice15],\n",
        "       simple_regret_approx_20[slice15]]\n",
        "\n",
        "exact15 = [simple_regret_exact_1[slice15],\n",
        "       simple_regret_exact_2[slice15],\n",
        "       simple_regret_exact_3[slice15],\n",
        "       simple_regret_exact_4[slice15],\n",
        "       simple_regret_exact_5[slice15],\n",
        "       simple_regret_exact_6[slice15],\n",
        "       simple_regret_exact_7[slice15],\n",
        "       simple_regret_exact_8[slice15],\n",
        "       simple_regret_exact_9[slice15],\n",
        "       simple_regret_exact_10[slice15],\n",
        "       simple_regret_exact_11[slice15],\n",
        "       simple_regret_exact_12[slice15],\n",
        "       simple_regret_exact_13[slice15],\n",
        "       simple_regret_exact_14[slice15],\n",
        "       simple_regret_exact_15[slice15],\n",
        "       simple_regret_exact_16[slice15],\n",
        "       simple_regret_exact_17[slice15],\n",
        "       simple_regret_exact_18[slice15],\n",
        "       simple_regret_exact_19[slice15],\n",
        "       simple_regret_exact_20[slice15]]\n",
        "\n",
        "approx15_results = pd.DataFrame(approx15).sort_values(by=[0], ascending=False)\n",
        "exact15_results = pd.DataFrame(exact15).sort_values(by=[0], ascending=False)\n",
        "\n",
        "### Best simple regret minimization IQR - approx:\n",
        "lower_approx15 = np.asarray(approx15_results[4:5][0])[0]\n",
        "median_approx15 = np.asarray(approx15_results[9:10][0])[0]\n",
        "upper_approx15 = np.asarray(approx15_results[14:15][0])[0]\n",
        "\n",
        "lower_exact15 = np.asarray(exact15_results[4:5][0])[0]\n",
        "median_exact15 = np.asarray(exact15_results[9:10][0])[0]\n",
        "upper_exact15 = np.asarray(exact15_results[14:15][0])[0]"
      ]
    },
    {
      "cell_type": "code",
      "execution_count": 86,
      "metadata": {
        "id": "KJINKhv1Qxf6"
      },
      "outputs": [],
      "source": [
        "# Iteration6 :\n",
        "\n",
        "slice6 = 5\n",
        "\n",
        "approx6 = [simple_regret_approx_1[slice6],\n",
        "       simple_regret_approx_2[slice6],\n",
        "       simple_regret_approx_3[slice6],\n",
        "       simple_regret_approx_4[slice6],\n",
        "       simple_regret_approx_5[slice6],\n",
        "       simple_regret_approx_6[slice6],\n",
        "       simple_regret_approx_7[slice6],\n",
        "       simple_regret_approx_8[slice6],\n",
        "       simple_regret_approx_9[slice6],\n",
        "       simple_regret_approx_10[slice6],\n",
        "       simple_regret_approx_11[slice6],\n",
        "       simple_regret_approx_12[slice6],\n",
        "       simple_regret_approx_13[slice6],\n",
        "       simple_regret_approx_14[slice6],\n",
        "       simple_regret_approx_15[slice6],\n",
        "       simple_regret_approx_16[slice6],\n",
        "       simple_regret_approx_17[slice6],\n",
        "       simple_regret_approx_18[slice6],\n",
        "       simple_regret_approx_19[slice6],\n",
        "       simple_regret_approx_20[slice6]]\n",
        "\n",
        "exact6 = [simple_regret_exact_1[slice6],\n",
        "       simple_regret_exact_2[slice6],\n",
        "       simple_regret_exact_3[slice6],\n",
        "       simple_regret_exact_4[slice6],\n",
        "       simple_regret_exact_5[slice6],\n",
        "       simple_regret_exact_6[slice6],\n",
        "       simple_regret_exact_7[slice6],\n",
        "       simple_regret_exact_8[slice6],\n",
        "       simple_regret_exact_9[slice6],\n",
        "       simple_regret_exact_10[slice6],\n",
        "       simple_regret_exact_11[slice6],\n",
        "       simple_regret_exact_12[slice6],\n",
        "       simple_regret_exact_13[slice6],\n",
        "       simple_regret_exact_14[slice6],\n",
        "       simple_regret_exact_15[slice6],\n",
        "       simple_regret_exact_16[slice6],\n",
        "       simple_regret_exact_17[slice6],\n",
        "       simple_regret_exact_18[slice6],\n",
        "       simple_regret_exact_19[slice6],\n",
        "       simple_regret_exact_20[slice6]]\n",
        "\n",
        "approx6_results = pd.DataFrame(approx6).sort_values(by=[0], ascending=False)\n",
        "exact6_results = pd.DataFrame(exact6).sort_values(by=[0], ascending=False)\n",
        "\n",
        "### Best simple regret minimization IQR - approx:\n",
        "lower_approx6 = np.asarray(approx6_results[4:5][0])[0]\n",
        "median_approx6 = np.asarray(approx6_results[9:10][0])[0]\n",
        "upper_approx6 = np.asarray(approx6_results[14:15][0])[0]\n",
        "\n",
        "lower_exact6 = np.asarray(exact6_results[4:5][0])[0]\n",
        "median_exact6 = np.asarray(exact6_results[9:10][0])[0]\n",
        "upper_exact6 = np.asarray(exact6_results[14:15][0])[0]"
      ]
    },
    {
      "cell_type": "code",
      "execution_count": 87,
      "metadata": {
        "id": "nwC5N1FsQxf7"
      },
      "outputs": [],
      "source": [
        "# Iteration16 :\n",
        "\n",
        "slice16 = 15\n",
        "\n",
        "approx16 = [simple_regret_approx_1[slice16],\n",
        "       simple_regret_approx_2[slice16],\n",
        "       simple_regret_approx_3[slice16],\n",
        "       simple_regret_approx_4[slice16],\n",
        "       simple_regret_approx_5[slice16],\n",
        "       simple_regret_approx_6[slice16],\n",
        "       simple_regret_approx_7[slice16],\n",
        "       simple_regret_approx_8[slice16],\n",
        "       simple_regret_approx_9[slice16],\n",
        "       simple_regret_approx_10[slice16],\n",
        "       simple_regret_approx_11[slice16],\n",
        "       simple_regret_approx_12[slice16],\n",
        "       simple_regret_approx_13[slice16],\n",
        "       simple_regret_approx_14[slice16],\n",
        "       simple_regret_approx_15[slice16],\n",
        "       simple_regret_approx_16[slice16],\n",
        "       simple_regret_approx_17[slice16],\n",
        "       simple_regret_approx_18[slice16],\n",
        "       simple_regret_approx_19[slice16],\n",
        "       simple_regret_approx_20[slice16]]\n",
        "\n",
        "exact16 = [simple_regret_exact_1[slice16],\n",
        "       simple_regret_exact_2[slice16],\n",
        "       simple_regret_exact_3[slice16],\n",
        "       simple_regret_exact_4[slice16],\n",
        "       simple_regret_exact_5[slice16],\n",
        "       simple_regret_exact_6[slice16],\n",
        "       simple_regret_exact_7[slice16],\n",
        "       simple_regret_exact_8[slice16],\n",
        "       simple_regret_exact_9[slice16],\n",
        "       simple_regret_exact_10[slice16],\n",
        "       simple_regret_exact_11[slice16],\n",
        "       simple_regret_exact_12[slice16],\n",
        "       simple_regret_exact_13[slice16],\n",
        "       simple_regret_exact_14[slice16],\n",
        "       simple_regret_exact_15[slice16],\n",
        "       simple_regret_exact_16[slice16],\n",
        "       simple_regret_exact_17[slice16],\n",
        "       simple_regret_exact_18[slice16],\n",
        "       simple_regret_exact_19[slice16],\n",
        "       simple_regret_exact_20[slice16]]\n",
        "\n",
        "approx16_results = pd.DataFrame(approx16).sort_values(by=[0], ascending=False)\n",
        "exact16_results = pd.DataFrame(exact16).sort_values(by=[0], ascending=False)\n",
        "\n",
        "### Best simple regret minimization IQR - approx:\n",
        "lower_approx16 = np.asarray(approx16_results[4:5][0])[0]\n",
        "median_approx16 = np.asarray(approx16_results[9:10][0])[0]\n",
        "upper_approx16 = np.asarray(approx16_results[14:15][0])[0]\n",
        "\n",
        "lower_exact16 = np.asarray(exact16_results[4:5][0])[0]\n",
        "median_exact16 = np.asarray(exact16_results[9:10][0])[0]\n",
        "upper_exact16 = np.asarray(exact16_results[14:15][0])[0]"
      ]
    },
    {
      "cell_type": "code",
      "execution_count": 88,
      "metadata": {
        "id": "TrPV0AfnQxf7"
      },
      "outputs": [],
      "source": [
        "# Iteration7 :\n",
        "\n",
        "slice7 = 6\n",
        "\n",
        "approx7 = [simple_regret_approx_1[slice7],\n",
        "       simple_regret_approx_2[slice7],\n",
        "       simple_regret_approx_3[slice7],\n",
        "       simple_regret_approx_4[slice7],\n",
        "       simple_regret_approx_5[slice7],\n",
        "       simple_regret_approx_6[slice7],\n",
        "       simple_regret_approx_7[slice7],\n",
        "       simple_regret_approx_8[slice7],\n",
        "       simple_regret_approx_9[slice7],\n",
        "       simple_regret_approx_10[slice7],\n",
        "       simple_regret_approx_11[slice7],\n",
        "       simple_regret_approx_12[slice7],\n",
        "       simple_regret_approx_13[slice7],\n",
        "       simple_regret_approx_14[slice7],\n",
        "       simple_regret_approx_15[slice7],\n",
        "       simple_regret_approx_16[slice7],\n",
        "       simple_regret_approx_17[slice7],\n",
        "       simple_regret_approx_18[slice7],\n",
        "       simple_regret_approx_19[slice7],\n",
        "       simple_regret_approx_20[slice7]]\n",
        "\n",
        "exact7 = [simple_regret_exact_1[slice7],\n",
        "       simple_regret_exact_2[slice7],\n",
        "       simple_regret_exact_3[slice7],\n",
        "       simple_regret_exact_4[slice7],\n",
        "       simple_regret_exact_5[slice7],\n",
        "       simple_regret_exact_6[slice7],\n",
        "       simple_regret_exact_7[slice7],\n",
        "       simple_regret_exact_8[slice7],\n",
        "       simple_regret_exact_9[slice7],\n",
        "       simple_regret_exact_10[slice7],\n",
        "       simple_regret_exact_11[slice7],\n",
        "       simple_regret_exact_12[slice7],\n",
        "       simple_regret_exact_13[slice7],\n",
        "       simple_regret_exact_14[slice7],\n",
        "       simple_regret_exact_15[slice7],\n",
        "       simple_regret_exact_16[slice7],\n",
        "       simple_regret_exact_17[slice7],\n",
        "       simple_regret_exact_18[slice7],\n",
        "       simple_regret_exact_19[slice7],\n",
        "       simple_regret_exact_20[slice7]]\n",
        "\n",
        "approx7_results = pd.DataFrame(approx7).sort_values(by=[0], ascending=False)\n",
        "exact7_results = pd.DataFrame(exact7).sort_values(by=[0], ascending=False)\n",
        "\n",
        "### Best simple regret minimization IQR - approx:\n",
        "lower_approx7 = np.asarray(approx7_results[4:5][0])[0]\n",
        "median_approx7 = np.asarray(approx7_results[9:10][0])[0]\n",
        "upper_approx7 = np.asarray(approx7_results[14:15][0])[0]\n",
        "\n",
        "lower_exact7 = np.asarray(exact7_results[4:5][0])[0]\n",
        "median_exact7 = np.asarray(exact7_results[9:10][0])[0]\n",
        "upper_exact7 = np.asarray(exact7_results[14:15][0])[0]"
      ]
    },
    {
      "cell_type": "code",
      "execution_count": 89,
      "metadata": {
        "id": "Ub_-wpK4Qxf8"
      },
      "outputs": [],
      "source": [
        "# Iteration17 :\n",
        "\n",
        "slice17 = 16\n",
        "\n",
        "approx17 = [simple_regret_approx_1[slice17],\n",
        "       simple_regret_approx_2[slice17],\n",
        "       simple_regret_approx_3[slice17],\n",
        "       simple_regret_approx_4[slice17],\n",
        "       simple_regret_approx_5[slice17],\n",
        "       simple_regret_approx_6[slice17],\n",
        "       simple_regret_approx_7[slice17],\n",
        "       simple_regret_approx_8[slice17],\n",
        "       simple_regret_approx_9[slice17],\n",
        "       simple_regret_approx_10[slice17],\n",
        "       simple_regret_approx_11[slice17],\n",
        "       simple_regret_approx_12[slice17],\n",
        "       simple_regret_approx_13[slice17],\n",
        "       simple_regret_approx_14[slice17],\n",
        "       simple_regret_approx_15[slice17],\n",
        "       simple_regret_approx_16[slice17],\n",
        "       simple_regret_approx_17[slice17],\n",
        "       simple_regret_approx_18[slice17],\n",
        "       simple_regret_approx_19[slice17],\n",
        "       simple_regret_approx_20[slice17]]\n",
        "\n",
        "exact17 = [simple_regret_exact_1[slice17],\n",
        "       simple_regret_exact_2[slice17],\n",
        "       simple_regret_exact_3[slice17],\n",
        "       simple_regret_exact_4[slice17],\n",
        "       simple_regret_exact_5[slice17],\n",
        "       simple_regret_exact_6[slice17],\n",
        "       simple_regret_exact_7[slice17],\n",
        "       simple_regret_exact_8[slice17],\n",
        "       simple_regret_exact_9[slice17],\n",
        "       simple_regret_exact_10[slice17],\n",
        "       simple_regret_exact_11[slice17],\n",
        "       simple_regret_exact_12[slice17],\n",
        "       simple_regret_exact_13[slice17],\n",
        "       simple_regret_exact_14[slice17],\n",
        "       simple_regret_exact_15[slice17],\n",
        "       simple_regret_exact_16[slice17],\n",
        "       simple_regret_exact_17[slice17],\n",
        "       simple_regret_exact_18[slice17],\n",
        "       simple_regret_exact_19[slice17],\n",
        "       simple_regret_exact_20[slice17]]\n",
        "\n",
        "approx17_results = pd.DataFrame(approx17).sort_values(by=[0], ascending=False)\n",
        "exact17_results = pd.DataFrame(exact17).sort_values(by=[0], ascending=False)\n",
        "\n",
        "### Best simple regret minimization IQR - approx:\n",
        "lower_approx17 = np.asarray(approx17_results[4:5][0])[0]\n",
        "median_approx17 = np.asarray(approx17_results[9:10][0])[0]\n",
        "upper_approx17 = np.asarray(approx17_results[14:15][0])[0]\n",
        "\n",
        "lower_exact17 = np.asarray(exact17_results[4:5][0])[0]\n",
        "median_exact17 = np.asarray(exact17_results[9:10][0])[0]\n",
        "upper_exact17 = np.asarray(exact17_results[14:15][0])[0]"
      ]
    },
    {
      "cell_type": "code",
      "execution_count": 90,
      "metadata": {
        "id": "-6VLo37PQxf8"
      },
      "outputs": [],
      "source": [
        "# Iteration8 :\n",
        "\n",
        "slice8 = 7\n",
        "\n",
        "approx8 = [simple_regret_approx_1[slice8],\n",
        "       simple_regret_approx_2[slice8],\n",
        "       simple_regret_approx_3[slice8],\n",
        "       simple_regret_approx_4[slice8],\n",
        "       simple_regret_approx_5[slice8],\n",
        "       simple_regret_approx_6[slice8],\n",
        "       simple_regret_approx_7[slice8],\n",
        "       simple_regret_approx_8[slice8],\n",
        "       simple_regret_approx_9[slice8],\n",
        "       simple_regret_approx_10[slice8],\n",
        "       simple_regret_approx_11[slice8],\n",
        "       simple_regret_approx_12[slice8],\n",
        "       simple_regret_approx_13[slice8],\n",
        "       simple_regret_approx_14[slice8],\n",
        "       simple_regret_approx_15[slice8],\n",
        "       simple_regret_approx_16[slice8],\n",
        "       simple_regret_approx_17[slice8],\n",
        "       simple_regret_approx_18[slice8],\n",
        "       simple_regret_approx_19[slice8],\n",
        "       simple_regret_approx_20[slice8]]\n",
        "\n",
        "exact8 = [simple_regret_exact_1[slice8],\n",
        "       simple_regret_exact_2[slice8],\n",
        "       simple_regret_exact_3[slice8],\n",
        "       simple_regret_exact_4[slice8],\n",
        "       simple_regret_exact_5[slice8],\n",
        "       simple_regret_exact_6[slice8],\n",
        "       simple_regret_exact_7[slice8],\n",
        "       simple_regret_exact_8[slice8],\n",
        "       simple_regret_exact_9[slice8],\n",
        "       simple_regret_exact_10[slice8],\n",
        "       simple_regret_exact_11[slice8],\n",
        "       simple_regret_exact_12[slice8],\n",
        "       simple_regret_exact_13[slice8],\n",
        "       simple_regret_exact_14[slice8],\n",
        "       simple_regret_exact_15[slice8],\n",
        "       simple_regret_exact_16[slice8],\n",
        "       simple_regret_exact_17[slice8],\n",
        "       simple_regret_exact_18[slice8],\n",
        "       simple_regret_exact_19[slice8],\n",
        "       simple_regret_exact_20[slice8]]\n",
        "\n",
        "approx8_results = pd.DataFrame(approx8).sort_values(by=[0], ascending=False)\n",
        "exact8_results = pd.DataFrame(exact8).sort_values(by=[0], ascending=False)\n",
        "\n",
        "### Best simple regret minimization IQR - approx:\n",
        "lower_approx8 = np.asarray(approx8_results[4:5][0])[0]\n",
        "median_approx8 = np.asarray(approx8_results[9:10][0])[0]\n",
        "upper_approx8 = np.asarray(approx8_results[14:15][0])[0]\n",
        "\n",
        "lower_exact8 = np.asarray(exact8_results[4:5][0])[0]\n",
        "median_exact8 = np.asarray(exact8_results[9:10][0])[0]\n",
        "upper_exact8 = np.asarray(exact8_results[14:15][0])[0]"
      ]
    },
    {
      "cell_type": "code",
      "execution_count": 91,
      "metadata": {
        "id": "2Dp-9CC2Qxf9"
      },
      "outputs": [],
      "source": [
        "# Iteration18 :\n",
        "\n",
        "slice18 = 17\n",
        "\n",
        "approx18 = [simple_regret_approx_1[slice18],\n",
        "       simple_regret_approx_2[slice18],\n",
        "       simple_regret_approx_3[slice18],\n",
        "       simple_regret_approx_4[slice18],\n",
        "       simple_regret_approx_5[slice18],\n",
        "       simple_regret_approx_6[slice18],\n",
        "       simple_regret_approx_7[slice18],\n",
        "       simple_regret_approx_8[slice18],\n",
        "       simple_regret_approx_9[slice18],\n",
        "       simple_regret_approx_10[slice18],\n",
        "       simple_regret_approx_11[slice18],\n",
        "       simple_regret_approx_12[slice18],\n",
        "       simple_regret_approx_13[slice18],\n",
        "       simple_regret_approx_14[slice18],\n",
        "       simple_regret_approx_15[slice18],\n",
        "       simple_regret_approx_16[slice18],\n",
        "       simple_regret_approx_17[slice18],\n",
        "       simple_regret_approx_18[slice18],\n",
        "       simple_regret_approx_19[slice18],\n",
        "       simple_regret_approx_20[slice18]]\n",
        "\n",
        "exact18 = [simple_regret_exact_1[slice18],\n",
        "       simple_regret_exact_2[slice18],\n",
        "       simple_regret_exact_3[slice18],\n",
        "       simple_regret_exact_4[slice18],\n",
        "       simple_regret_exact_5[slice18],\n",
        "       simple_regret_exact_6[slice18],\n",
        "       simple_regret_exact_7[slice18],\n",
        "       simple_regret_exact_8[slice18],\n",
        "       simple_regret_exact_9[slice18],\n",
        "       simple_regret_exact_10[slice18],\n",
        "       simple_regret_exact_11[slice18],\n",
        "       simple_regret_exact_12[slice18],\n",
        "       simple_regret_exact_13[slice18],\n",
        "       simple_regret_exact_14[slice18],\n",
        "       simple_regret_exact_15[slice18],\n",
        "       simple_regret_exact_16[slice18],\n",
        "       simple_regret_exact_17[slice18],\n",
        "       simple_regret_exact_18[slice18],\n",
        "       simple_regret_exact_19[slice18],\n",
        "       simple_regret_exact_20[slice18]]\n",
        "\n",
        "approx18_results = pd.DataFrame(approx18).sort_values(by=[0], ascending=False)\n",
        "exact18_results = pd.DataFrame(exact18).sort_values(by=[0], ascending=False)\n",
        "\n",
        "### Best simple regret minimization IQR - approx:\n",
        "lower_approx18 = np.asarray(approx18_results[4:5][0])[0]\n",
        "median_approx18 = np.asarray(approx18_results[9:10][0])[0]\n",
        "upper_approx18 = np.asarray(approx18_results[14:15][0])[0]\n",
        "\n",
        "lower_exact18 = np.asarray(exact18_results[4:5][0])[0]\n",
        "median_exact18 = np.asarray(exact18_results[9:10][0])[0]\n",
        "upper_exact18 = np.asarray(exact18_results[14:15][0])[0]"
      ]
    },
    {
      "cell_type": "code",
      "execution_count": 92,
      "metadata": {
        "id": "SqiaOpB7Qxf9"
      },
      "outputs": [],
      "source": [
        "# Iteration9 :\n",
        "\n",
        "slice9 = 8\n",
        "\n",
        "approx9 = [simple_regret_approx_1[slice9],\n",
        "       simple_regret_approx_2[slice9],\n",
        "       simple_regret_approx_3[slice9],\n",
        "       simple_regret_approx_4[slice9],\n",
        "       simple_regret_approx_5[slice9],\n",
        "       simple_regret_approx_6[slice9],\n",
        "       simple_regret_approx_7[slice9],\n",
        "       simple_regret_approx_8[slice9],\n",
        "       simple_regret_approx_9[slice9],\n",
        "       simple_regret_approx_10[slice9],\n",
        "       simple_regret_approx_11[slice9],\n",
        "       simple_regret_approx_12[slice9],\n",
        "       simple_regret_approx_13[slice9],\n",
        "       simple_regret_approx_14[slice9],\n",
        "       simple_regret_approx_15[slice9],\n",
        "       simple_regret_approx_16[slice9],\n",
        "       simple_regret_approx_17[slice9],\n",
        "       simple_regret_approx_18[slice9],\n",
        "       simple_regret_approx_19[slice9],\n",
        "       simple_regret_approx_20[slice9]]\n",
        "\n",
        "exact9 = [simple_regret_exact_1[slice9],\n",
        "       simple_regret_exact_2[slice9],\n",
        "       simple_regret_exact_3[slice9],\n",
        "       simple_regret_exact_4[slice9],\n",
        "       simple_regret_exact_5[slice9],\n",
        "       simple_regret_exact_6[slice9],\n",
        "       simple_regret_exact_7[slice9],\n",
        "       simple_regret_exact_8[slice9],\n",
        "       simple_regret_exact_9[slice9],\n",
        "       simple_regret_exact_10[slice9],\n",
        "       simple_regret_exact_11[slice9],\n",
        "       simple_regret_exact_12[slice9],\n",
        "       simple_regret_exact_13[slice9],\n",
        "       simple_regret_exact_14[slice9],\n",
        "       simple_regret_exact_15[slice9],\n",
        "       simple_regret_exact_16[slice9],\n",
        "       simple_regret_exact_17[slice9],\n",
        "       simple_regret_exact_18[slice9],\n",
        "       simple_regret_exact_19[slice9],\n",
        "       simple_regret_exact_20[slice9]]\n",
        "\n",
        "approx9_results = pd.DataFrame(approx9).sort_values(by=[0], ascending=False)\n",
        "exact9_results = pd.DataFrame(exact9).sort_values(by=[0], ascending=False)\n",
        "\n",
        "### Best simple regret minimization IQR - approx:\n",
        "lower_approx9 = np.asarray(approx9_results[4:5][0])[0]\n",
        "median_approx9 = np.asarray(approx9_results[9:10][0])[0]\n",
        "upper_approx9 = np.asarray(approx9_results[14:15][0])[0]\n",
        "\n",
        "lower_exact9 = np.asarray(exact9_results[4:5][0])[0]\n",
        "median_exact9 = np.asarray(exact9_results[9:10][0])[0]\n",
        "upper_exact9 = np.asarray(exact9_results[14:15][0])[0]"
      ]
    },
    {
      "cell_type": "code",
      "execution_count": 93,
      "metadata": {
        "id": "OQkCCOsPQxf9"
      },
      "outputs": [],
      "source": [
        "# Iteration19 :\n",
        "\n",
        "slice19 = 18\n",
        "\n",
        "approx19 = [simple_regret_approx_1[slice19],\n",
        "       simple_regret_approx_2[slice19],\n",
        "       simple_regret_approx_3[slice19],\n",
        "       simple_regret_approx_4[slice19],\n",
        "       simple_regret_approx_5[slice19],\n",
        "       simple_regret_approx_6[slice19],\n",
        "       simple_regret_approx_7[slice19],\n",
        "       simple_regret_approx_8[slice19],\n",
        "       simple_regret_approx_9[slice19],\n",
        "       simple_regret_approx_10[slice19],\n",
        "       simple_regret_approx_11[slice19],\n",
        "       simple_regret_approx_12[slice19],\n",
        "       simple_regret_approx_13[slice19],\n",
        "       simple_regret_approx_14[slice19],\n",
        "       simple_regret_approx_15[slice19],\n",
        "       simple_regret_approx_16[slice19],\n",
        "       simple_regret_approx_17[slice19],\n",
        "       simple_regret_approx_18[slice19],\n",
        "       simple_regret_approx_19[slice19],\n",
        "       simple_regret_approx_20[slice19]]\n",
        "\n",
        "exact19 = [simple_regret_exact_1[slice19],\n",
        "       simple_regret_exact_2[slice19],\n",
        "       simple_regret_exact_3[slice19],\n",
        "       simple_regret_exact_4[slice19],\n",
        "       simple_regret_exact_5[slice19],\n",
        "       simple_regret_exact_6[slice19],\n",
        "       simple_regret_exact_7[slice19],\n",
        "       simple_regret_exact_8[slice19],\n",
        "       simple_regret_exact_9[slice19],\n",
        "       simple_regret_exact_10[slice19],\n",
        "       simple_regret_exact_11[slice19],\n",
        "       simple_regret_exact_12[slice19],\n",
        "       simple_regret_exact_13[slice19],\n",
        "       simple_regret_exact_14[slice19],\n",
        "       simple_regret_exact_15[slice19],\n",
        "       simple_regret_exact_16[slice19],\n",
        "       simple_regret_exact_17[slice19],\n",
        "       simple_regret_exact_18[slice19],\n",
        "       simple_regret_exact_19[slice19],\n",
        "       simple_regret_exact_20[slice19]]\n",
        "\n",
        "approx19_results = pd.DataFrame(approx19).sort_values(by=[0], ascending=False)\n",
        "exact19_results = pd.DataFrame(exact19).sort_values(by=[0], ascending=False)\n",
        "\n",
        "### Best simple regret minimization IQR - approx:\n",
        "lower_approx19 = np.asarray(approx19_results[4:5][0])[0]\n",
        "median_approx19 = np.asarray(approx19_results[9:10][0])[0]\n",
        "upper_approx19 = np.asarray(approx19_results[14:15][0])[0]\n",
        "\n",
        "lower_exact19 = np.asarray(exact19_results[4:5][0])[0]\n",
        "median_exact19 = np.asarray(exact19_results[9:10][0])[0]\n",
        "upper_exact19 = np.asarray(exact19_results[14:15][0])[0]"
      ]
    },
    {
      "cell_type": "code",
      "execution_count": 94,
      "metadata": {
        "id": "h4vtWahcQxf-"
      },
      "outputs": [],
      "source": [
        "# Iteration10 :\n",
        "\n",
        "slice10 = 9\n",
        "\n",
        "approx10 = [simple_regret_approx_1[slice10],\n",
        "       simple_regret_approx_2[slice10],\n",
        "       simple_regret_approx_3[slice10],\n",
        "       simple_regret_approx_4[slice10],\n",
        "       simple_regret_approx_5[slice10],\n",
        "       simple_regret_approx_6[slice10],\n",
        "       simple_regret_approx_7[slice10],\n",
        "       simple_regret_approx_8[slice10],\n",
        "       simple_regret_approx_9[slice10],\n",
        "       simple_regret_approx_10[slice10],\n",
        "       simple_regret_approx_11[slice10],\n",
        "       simple_regret_approx_12[slice10],\n",
        "       simple_regret_approx_13[slice10],\n",
        "       simple_regret_approx_14[slice10],\n",
        "       simple_regret_approx_15[slice10],\n",
        "       simple_regret_approx_16[slice10],\n",
        "       simple_regret_approx_17[slice10],\n",
        "       simple_regret_approx_18[slice10],\n",
        "       simple_regret_approx_19[slice10],\n",
        "       simple_regret_approx_20[slice10]]\n",
        "\n",
        "exact10 = [simple_regret_exact_1[slice10],\n",
        "       simple_regret_exact_2[slice10],\n",
        "       simple_regret_exact_3[slice10],\n",
        "       simple_regret_exact_4[slice10],\n",
        "       simple_regret_exact_5[slice10],\n",
        "       simple_regret_exact_6[slice10],\n",
        "       simple_regret_exact_7[slice10],\n",
        "       simple_regret_exact_8[slice10],\n",
        "       simple_regret_exact_9[slice10],\n",
        "       simple_regret_exact_10[slice10],\n",
        "       simple_regret_exact_11[slice10],\n",
        "       simple_regret_exact_12[slice10],\n",
        "       simple_regret_exact_13[slice10],\n",
        "       simple_regret_exact_14[slice10],\n",
        "       simple_regret_exact_15[slice10],\n",
        "       simple_regret_exact_16[slice10],\n",
        "       simple_regret_exact_17[slice10],\n",
        "       simple_regret_exact_18[slice10],\n",
        "       simple_regret_exact_19[slice10],\n",
        "       simple_regret_exact_20[slice10]]\n",
        "\n",
        "approx10_results = pd.DataFrame(approx10).sort_values(by=[0], ascending=False)\n",
        "exact10_results = pd.DataFrame(exact10).sort_values(by=[0], ascending=False)\n",
        "\n",
        "### Best simple regret minimization IQR - approx:\n",
        "lower_approx10 = np.asarray(approx10_results[4:5][0])[0]\n",
        "median_approx10 = np.asarray(approx10_results[9:10][0])[0]\n",
        "upper_approx10 = np.asarray(approx10_results[14:15][0])[0]\n",
        "\n",
        "lower_exact10 = np.asarray(exact10_results[4:5][0])[0]\n",
        "median_exact10 = np.asarray(exact10_results[9:10][0])[0]\n",
        "upper_exact10 = np.asarray(exact10_results[14:15][0])[0]"
      ]
    },
    {
      "cell_type": "code",
      "execution_count": 95,
      "metadata": {
        "id": "Rsf240pWQxf-"
      },
      "outputs": [],
      "source": [
        "# Iteration20 :\n",
        "\n",
        "slice20 = 19\n",
        "\n",
        "approx20 = [simple_regret_approx_1[slice20],\n",
        "       simple_regret_approx_2[slice20],\n",
        "       simple_regret_approx_3[slice20],\n",
        "       simple_regret_approx_4[slice20],\n",
        "       simple_regret_approx_5[slice20],\n",
        "       simple_regret_approx_6[slice20],\n",
        "       simple_regret_approx_7[slice20],\n",
        "       simple_regret_approx_8[slice20],\n",
        "       simple_regret_approx_9[slice20],\n",
        "       simple_regret_approx_10[slice20],\n",
        "       simple_regret_approx_11[slice20],\n",
        "       simple_regret_approx_12[slice20],\n",
        "       simple_regret_approx_13[slice20],\n",
        "       simple_regret_approx_14[slice20],\n",
        "       simple_regret_approx_15[slice20],\n",
        "       simple_regret_approx_16[slice20],\n",
        "       simple_regret_approx_17[slice20],\n",
        "       simple_regret_approx_18[slice20],\n",
        "       simple_regret_approx_19[slice20],\n",
        "       simple_regret_approx_20[slice20]]\n",
        "\n",
        "exact20 = [simple_regret_exact_1[slice20],\n",
        "       simple_regret_exact_2[slice20],\n",
        "       simple_regret_exact_3[slice20],\n",
        "       simple_regret_exact_4[slice20],\n",
        "       simple_regret_exact_5[slice20],\n",
        "       simple_regret_exact_6[slice20],\n",
        "       simple_regret_exact_7[slice20],\n",
        "       simple_regret_exact_8[slice20],\n",
        "       simple_regret_exact_9[slice20],\n",
        "       simple_regret_exact_10[slice20],\n",
        "       simple_regret_exact_11[slice20],\n",
        "       simple_regret_exact_12[slice20],\n",
        "       simple_regret_exact_13[slice20],\n",
        "       simple_regret_exact_14[slice20],\n",
        "       simple_regret_exact_15[slice20],\n",
        "       simple_regret_exact_16[slice20],\n",
        "       simple_regret_exact_17[slice20],\n",
        "       simple_regret_exact_18[slice20],\n",
        "       simple_regret_exact_19[slice20],\n",
        "       simple_regret_exact_20[slice20]]\n",
        "\n",
        "approx20_results = pd.DataFrame(approx20).sort_values(by=[0], ascending=False)\n",
        "exact20_results = pd.DataFrame(exact20).sort_values(by=[0], ascending=False)\n",
        "\n",
        "### Best simple regret minimization IQR - approx:\n",
        "lower_approx20 = np.asarray(approx20_results[4:5][0])[0]\n",
        "median_approx20 = np.asarray(approx20_results[9:10][0])[0]\n",
        "upper_approx20 = np.asarray(approx20_results[14:15][0])[0]\n",
        "\n",
        "lower_exact20 = np.asarray(exact20_results[4:5][0])[0]\n",
        "median_exact20 = np.asarray(exact20_results[9:10][0])[0]\n",
        "upper_exact20 = np.asarray(exact20_results[14:15][0])[0]"
      ]
    },
    {
      "cell_type": "code",
      "execution_count": 96,
      "metadata": {
        "id": "gn36RejbQxf_"
      },
      "outputs": [],
      "source": [
        "### Summarize arrays: 'Loser'\n",
        "\n",
        "lower_approx = [lower_approx1,\n",
        "            lower_approx2,\n",
        "            lower_approx3,\n",
        "            lower_approx4,\n",
        "            lower_approx5,\n",
        "            lower_approx6,\n",
        "            lower_approx7,\n",
        "            lower_approx8,\n",
        "            lower_approx9,\n",
        "            lower_approx10,\n",
        "            lower_approx11,\n",
        "            lower_approx12,\n",
        "            lower_approx13,\n",
        "            lower_approx14,\n",
        "            lower_approx15,\n",
        "            lower_approx16,\n",
        "            lower_approx17,\n",
        "            lower_approx18,\n",
        "            lower_approx19,\n",
        "            lower_approx20,\n",
        "            lower_approx21]\n",
        "\n",
        "median_approx = [median_approx1,\n",
        "            median_approx2,\n",
        "            median_approx3,\n",
        "            median_approx4,\n",
        "            median_approx5,\n",
        "            median_approx6,\n",
        "            median_approx7,\n",
        "            median_approx8,\n",
        "            median_approx9,\n",
        "            median_approx10,\n",
        "            median_approx11,\n",
        "            median_approx12,\n",
        "            median_approx13,\n",
        "            median_approx14,\n",
        "            median_approx15,\n",
        "            median_approx16,\n",
        "            median_approx17,\n",
        "            median_approx18,\n",
        "            median_approx19,\n",
        "            median_approx20,\n",
        "            median_approx21]\n",
        "\n",
        "upper_approx = [upper_approx1,\n",
        "            upper_approx2,\n",
        "            upper_approx3,\n",
        "            upper_approx4,\n",
        "            upper_approx5,\n",
        "            upper_approx6,\n",
        "            upper_approx7,\n",
        "            upper_approx8,\n",
        "            upper_approx9,\n",
        "            upper_approx10,\n",
        "            upper_approx11,\n",
        "            upper_approx12,\n",
        "            upper_approx13,\n",
        "            upper_approx14,\n",
        "            upper_approx15,\n",
        "            upper_approx16,\n",
        "            upper_approx17,\n",
        "            upper_approx18,\n",
        "            upper_approx19,\n",
        "            upper_approx20,\n",
        "            upper_approx21]"
      ]
    },
    {
      "cell_type": "code",
      "execution_count": 97,
      "metadata": {
        "id": "wxtGTOYfQxf_"
      },
      "outputs": [],
      "source": [
        "### Summarize arrays: 'exact'\n",
        "\n",
        "lower_exact = [lower_exact1,\n",
        "            lower_exact2,\n",
        "            lower_exact3,\n",
        "            lower_exact4,\n",
        "            lower_exact5,\n",
        "            lower_exact6,\n",
        "            lower_exact7,\n",
        "            lower_exact8,\n",
        "            lower_exact9,\n",
        "            lower_exact10,\n",
        "            lower_exact11,\n",
        "            lower_exact12,\n",
        "            lower_exact13,\n",
        "            lower_exact14,\n",
        "            lower_exact15,\n",
        "            lower_exact16,\n",
        "            lower_exact17,\n",
        "            lower_exact18,\n",
        "            lower_exact19,\n",
        "            lower_exact20,\n",
        "            lower_exact21]\n",
        "\n",
        "median_exact = [median_exact1,\n",
        "            median_exact2,\n",
        "            median_exact3,\n",
        "            median_exact4,\n",
        "            median_exact5,\n",
        "            median_exact6,\n",
        "            median_exact7,\n",
        "            median_exact8,\n",
        "            median_exact9,\n",
        "            median_exact10,\n",
        "            median_exact11,\n",
        "            median_exact12,\n",
        "            median_exact13,\n",
        "            median_exact14,\n",
        "            median_exact15,\n",
        "            median_exact16,\n",
        "            median_exact17,\n",
        "            median_exact18,\n",
        "            median_exact19,\n",
        "            median_exact20,\n",
        "            median_exact21]\n",
        "\n",
        "upper_exact = [upper_exact1,\n",
        "            upper_exact2,\n",
        "            upper_exact3,\n",
        "            upper_exact4,\n",
        "            upper_exact5,\n",
        "            upper_exact6,\n",
        "            upper_exact7,\n",
        "            upper_exact8,\n",
        "            upper_exact9,\n",
        "            upper_exact10,\n",
        "            upper_exact11,\n",
        "            upper_exact12,\n",
        "            upper_exact13,\n",
        "            upper_exact14,\n",
        "            upper_exact15,\n",
        "            upper_exact16,\n",
        "            upper_exact17,\n",
        "            upper_exact18,\n",
        "            upper_exact19,\n",
        "            upper_exact20,\n",
        "            upper_exact21]"
      ]
    },
    {
      "cell_type": "code",
      "execution_count": 125,
      "metadata": {
        "id": "2MONq-BXQxgA",
        "colab": {
          "base_uri": "https://localhost:8080/",
          "height": 299
        },
        "outputId": "0ec07d0f-3767-4bc1-c78f-ae452a146511"
      },
      "outputs": [
        {
          "output_type": "display_data",
          "data": {
            "text/plain": [
              "<Figure size 432x288 with 1 Axes>"
            ],
            "image/png": "[encoded data removed]"
          },
          "metadata": {
            "needs_background": "light"
          }
        }
      ],
      "source": [
        "### Visualise!\n",
        "\n",
        "title = func\n",
        "plt.figure()\n",
        "\n",
        "plt.plot(median_approx, color = 'Yellow', ls='--')\n",
        "plt.plot(median_exact, color = 'Red', ls='--')\n",
        "\n",
        "xstar = np.arange(0, iters+1, step=1)\n",
        "plt.fill_between(xstar, lower_approx, upper_approx, facecolor = 'Yellow', alpha=0.4, label='STP EI Optimisation: Approx STP EI gradients ' r'($\\nu$' ' = {})'.format(df))\n",
        "plt.fill_between(xstar, lower_exact, upper_exact, facecolor = 'Red', alpha=0.4, label='STP EI Optimisation: Exact STP dEI gradients ' r'($\\nu$' ' = {})'.format(df))\n",
        "\n",
        "plt.title(title, weight = 'bold')\n",
        "plt.xlabel('(Post-initialisation) iteration $\\it{k}$', weight = 'bold')\n",
        "plt.ylabel('log(Regret)', weight = 'bold') \n",
        "plt.legend(loc=1) # add plot legend\n",
        "\n",
        "### Make the x-ticks integers, not floats:\n",
        "count = len(xstar)\n",
        "plt.xticks(np.arange(count), np.arange(0, count))\n",
        "plt.show() #visualise!\n"
      ]
    },
    {
      "cell_type": "code",
      "execution_count": 99,
      "metadata": {
        "id": "l5dkR2Id2oiu",
        "colab": {
          "base_uri": "https://localhost:8080/"
        },
        "outputId": "0e6a2764-8ed5-4849-bc75-d06fbde5e7cd"
      },
      "outputs": [
        {
          "output_type": "execute_result",
          "data": {
            "text/plain": [
              "(1382.3438482284546, 1303.4748017787933)"
            ]
          },
          "metadata": {},
          "execution_count": 99
        }
      ],
      "source": [
        "time_approx, time_exact\n"
      ]
    },
    {
      "cell_type": "code",
      "source": [
        "### acqFunc attribute x, stddev: run number = 1\n",
        "\n",
        "acqFuncApprox_exact_1 = acqFuncApprox(exact_1.history)\n",
        "acqFuncExact_exact_1 = acqFuncExact(exact_1.history)\n",
        "\n",
        "e1 = np.mean(acqFuncExact_exact_1)\n",
        "a1 = np.mean(acqFuncApprox_exact_1)\n",
        "\n",
        "e1, a1\n"
      ],
      "metadata": {
        "id": "uwxv4dmfGsLr",
        "colab": {
          "base_uri": "https://localhost:8080/"
        },
        "outputId": "a8a3293b-a6c5-48a3-c621-ff96f2196520"
      },
      "execution_count": 100,
      "outputs": [
        {
          "output_type": "execute_result",
          "data": {
            "text/plain": [
              "(2.8621433422232405, 3.122154684462339)"
            ]
          },
          "metadata": {},
          "execution_count": 100
        }
      ]
    },
    {
      "cell_type": "code",
      "source": [
        "### acqFunc attribute x, stddev: run number = 2\n",
        "\n",
        "acqFuncApprox_exact_2 = acqFuncApprox(exact_2.history)\n",
        "acqFuncExact_exact_2 = acqFuncExact(exact_2.history)\n",
        "\n",
        "e2 = np.mean(acqFuncExact_exact_2)\n",
        "a2 = np.mean(acqFuncApprox_exact_2)\n",
        "\n",
        "e2, a2\n"
      ],
      "metadata": {
        "id": "0YSV00_pGsXe",
        "colab": {
          "base_uri": "https://localhost:8080/"
        },
        "outputId": "3d1432b2-9fe3-4c5c-ba20-0d9fd0488a39"
      },
      "execution_count": 101,
      "outputs": [
        {
          "output_type": "execute_result",
          "data": {
            "text/plain": [
              "(2.845319006797472, 3.1022578534554297)"
            ]
          },
          "metadata": {},
          "execution_count": 101
        }
      ]
    },
    {
      "cell_type": "code",
      "source": [
        "### acqFunc attribute x, stddev: run number = 3\n",
        "\n",
        "acqFuncApprox_exact_3 = acqFuncApprox(exact_3.history)\n",
        "acqFuncExact_exact_3 = acqFuncExact(exact_3.history)\n",
        "\n",
        "e3 = np.mean(acqFuncExact_exact_3)\n",
        "a3 = np.mean(acqFuncApprox_exact_3)\n",
        "\n",
        "e3, a3\n"
      ],
      "metadata": {
        "id": "HHVmsd2UGsjT",
        "colab": {
          "base_uri": "https://localhost:8080/"
        },
        "outputId": "89056f7f-02e7-41a1-bd9e-84c32cdf85a8"
      },
      "execution_count": 102,
      "outputs": [
        {
          "output_type": "execute_result",
          "data": {
            "text/plain": [
              "(2.7594355450446417, 2.9398823954333873)"
            ]
          },
          "metadata": {},
          "execution_count": 102
        }
      ]
    },
    {
      "cell_type": "code",
      "source": [
        "### acqFunc attribute x, stddev: run number = 4\n",
        "\n",
        "acqFuncApprox_exact_4 = acqFuncApprox(exact_4.history)\n",
        "acqFuncExact_exact_4 = acqFuncExact(exact_4.history)\n",
        "\n",
        "e4 = np.mean(acqFuncExact_exact_4)\n",
        "a4 = np.mean(acqFuncApprox_exact_4)\n",
        "\n",
        "e4, a4\n"
      ],
      "metadata": {
        "id": "r7O19S2eGsu7",
        "colab": {
          "base_uri": "https://localhost:8080/"
        },
        "outputId": "c74c7681-67c6-49c2-b60c-1058ae1bc824"
      },
      "execution_count": 103,
      "outputs": [
        {
          "output_type": "execute_result",
          "data": {
            "text/plain": [
              "(2.8420246296995977, 3.024449105985811)"
            ]
          },
          "metadata": {},
          "execution_count": 103
        }
      ]
    },
    {
      "cell_type": "code",
      "source": [
        "### acqFunc attribute x, stddev: run number = 5\n",
        "\n",
        "acqFuncApprox_exact_5 = acqFuncApprox(exact_5.history)\n",
        "acqFuncExact_exact_5 = acqFuncExact(exact_5.history)\n",
        "\n",
        "e5 = np.mean(acqFuncExact_exact_5)\n",
        "a5 = np.mean(acqFuncApprox_exact_5)\n",
        "\n",
        "e5, a5\n"
      ],
      "metadata": {
        "id": "sdb9o6NuGs5m",
        "colab": {
          "base_uri": "https://localhost:8080/"
        },
        "outputId": "fe0da0ba-ecfc-4e16-83c3-0a6f1e08f03d"
      },
      "execution_count": 104,
      "outputs": [
        {
          "output_type": "execute_result",
          "data": {
            "text/plain": [
              "(2.796132073213927, 3.006383592719085)"
            ]
          },
          "metadata": {},
          "execution_count": 104
        }
      ]
    },
    {
      "cell_type": "code",
      "source": [
        "### acqFunc attribute x, stddev: run number = 6\n",
        "\n",
        "acqFuncApprox_exact_6 = acqFuncApprox(exact_6.history)\n",
        "acqFuncExact_exact_6 = acqFuncExact(exact_6.history)\n",
        "\n",
        "e6 = np.mean(acqFuncExact_exact_6)\n",
        "a6 = np.mean(acqFuncApprox_exact_6)\n",
        "\n",
        "e6, a6\n"
      ],
      "metadata": {
        "id": "COQl7LZ8GtE0",
        "colab": {
          "base_uri": "https://localhost:8080/"
        },
        "outputId": "b6cc4ce5-441f-47ba-cede-4b5032af12eb"
      },
      "execution_count": 105,
      "outputs": [
        {
          "output_type": "execute_result",
          "data": {
            "text/plain": [
              "(2.966993364901202, 3.3007783790925584)"
            ]
          },
          "metadata": {},
          "execution_count": 105
        }
      ]
    },
    {
      "cell_type": "code",
      "source": [
        "### acqFunc attribute x, stddev: run number = 7\n",
        "\n",
        "acqFuncApprox_exact_7 = acqFuncApprox(exact_7.history)\n",
        "acqFuncExact_exact_7 = acqFuncExact(exact_7.history)\n",
        "\n",
        "e7 = np.mean(acqFuncExact_exact_7)\n",
        "a7 = np.mean(acqFuncApprox_exact_7)\n",
        "\n",
        "e7, a7\n"
      ],
      "metadata": {
        "id": "2gy9EtTzGtP7",
        "colab": {
          "base_uri": "https://localhost:8080/"
        },
        "outputId": "041c92af-bfc3-41bf-c2ea-ae155d075515"
      },
      "execution_count": 106,
      "outputs": [
        {
          "output_type": "execute_result",
          "data": {
            "text/plain": [
              "(2.981486562985613, 3.1621198888623905)"
            ]
          },
          "metadata": {},
          "execution_count": 106
        }
      ]
    },
    {
      "cell_type": "code",
      "source": [
        "### acqFunc attribute x, stddev: run number = 8\n",
        "\n",
        "acqFuncApprox_exact_8 = acqFuncApprox(exact_8.history)\n",
        "acqFuncExact_exact_8 = acqFuncExact(exact_8.history)\n",
        "\n",
        "e8 = np.mean(acqFuncExact_exact_8)\n",
        "a8 = np.mean(acqFuncApprox_exact_8)\n",
        "\n",
        "e8, a8\n"
      ],
      "metadata": {
        "id": "S7mn0qoMGtbM",
        "colab": {
          "base_uri": "https://localhost:8080/"
        },
        "outputId": "724243f2-f541-44fe-c155-be2ce819350e"
      },
      "execution_count": 107,
      "outputs": [
        {
          "output_type": "execute_result",
          "data": {
            "text/plain": [
              "(2.741553451339776, 3.0689970257373007)"
            ]
          },
          "metadata": {},
          "execution_count": 107
        }
      ]
    },
    {
      "cell_type": "code",
      "source": [
        "### acqFunc attribute x, stddev: run number = 9\n",
        "\n",
        "acqFuncApprox_exact_9 = acqFuncApprox(exact_9.history)\n",
        "acqFuncExact_exact_9 = acqFuncExact(exact_9.history)\n",
        "\n",
        "e9 = np.mean(acqFuncExact_exact_9)\n",
        "a9 = np.mean(acqFuncApprox_exact_9)\n",
        "\n",
        "e9, a9\n"
      ],
      "metadata": {
        "id": "BhljmkNxGtms",
        "colab": {
          "base_uri": "https://localhost:8080/"
        },
        "outputId": "f63af92d-c604-48c7-e323-9535ed5e8725"
      },
      "execution_count": 108,
      "outputs": [
        {
          "output_type": "execute_result",
          "data": {
            "text/plain": [
              "(2.744956116908173, 3.224002700822396)"
            ]
          },
          "metadata": {},
          "execution_count": 108
        }
      ]
    },
    {
      "cell_type": "code",
      "source": [
        "### acqFunc attribute x, stddev: run number = 10\n",
        "\n",
        "acqFuncApprox_exact_10 = acqFuncApprox(exact_10.history)\n",
        "acqFuncExact_exact_10 = acqFuncExact(exact_10.history)\n",
        "\n",
        "e10 = np.mean(acqFuncExact_exact_10)\n",
        "a10 = np.mean(acqFuncApprox_exact_10)\n",
        "\n",
        "e10, a10\n"
      ],
      "metadata": {
        "id": "W5GZo6k3Gtx8",
        "colab": {
          "base_uri": "https://localhost:8080/"
        },
        "outputId": "c12272fd-1c6d-4e70-ea92-98743739ce61"
      },
      "execution_count": 109,
      "outputs": [
        {
          "output_type": "execute_result",
          "data": {
            "text/plain": [
              "(2.908205486131391, 3.094919096460006)"
            ]
          },
          "metadata": {},
          "execution_count": 109
        }
      ]
    },
    {
      "cell_type": "code",
      "source": [
        "### acqFunc attribute x, stddev: run number = 11\n",
        "\n",
        "acqFuncApprox_exact_11 = acqFuncApprox(exact_11.history)\n",
        "acqFuncExact_exact_11 = acqFuncExact(exact_11.history)\n",
        "\n",
        "e11 = np.mean(acqFuncExact_exact_11)\n",
        "a11 = np.mean(acqFuncApprox_exact_11)\n",
        "\n",
        "e11, a11\n"
      ],
      "metadata": {
        "id": "isKNhDk5Gt9D",
        "colab": {
          "base_uri": "https://localhost:8080/"
        },
        "outputId": "a0eb2d3a-a63e-49e5-ae6d-ba80a3a0a81d"
      },
      "execution_count": 110,
      "outputs": [
        {
          "output_type": "execute_result",
          "data": {
            "text/plain": [
              "(2.8222048169437994, 3.188684310456229)"
            ]
          },
          "metadata": {},
          "execution_count": 110
        }
      ]
    },
    {
      "cell_type": "code",
      "source": [
        "### acqFunc attribute x, stddev: run number = 12\n",
        "\n",
        "acqFuncApprox_exact_12 = acqFuncApprox(exact_12.history)\n",
        "acqFuncExact_exact_12 = acqFuncExact(exact_12.history)\n",
        "\n",
        "e12 = np.mean(acqFuncExact_exact_12)\n",
        "a12 = np.mean(acqFuncApprox_exact_12)\n",
        "\n",
        "e12, a12\n"
      ],
      "metadata": {
        "id": "8ts-wrSuGuIm",
        "colab": {
          "base_uri": "https://localhost:8080/"
        },
        "outputId": "fbbd839c-d33c-4365-e386-4ebe06bda1f2"
      },
      "execution_count": 111,
      "outputs": [
        {
          "output_type": "execute_result",
          "data": {
            "text/plain": [
              "(2.7676539413282453, 2.8654784848427286)"
            ]
          },
          "metadata": {},
          "execution_count": 111
        }
      ]
    },
    {
      "cell_type": "code",
      "source": [
        "### acqFunc attribute x, stddev: run number = 13\n",
        "\n",
        "acqFuncApprox_exact_13 = acqFuncApprox(exact_13.history)\n",
        "acqFuncExact_exact_13 = acqFuncExact(exact_13.history)\n",
        "\n",
        "e13 = np.mean(acqFuncExact_exact_13)\n",
        "a13 = np.mean(acqFuncApprox_exact_13)\n",
        "\n",
        "e13, a13\n"
      ],
      "metadata": {
        "id": "n0drhEe3GuUL",
        "colab": {
          "base_uri": "https://localhost:8080/"
        },
        "outputId": "a16bcb1d-1c3a-414d-b60d-e3a114c14119"
      },
      "execution_count": 112,
      "outputs": [
        {
          "output_type": "execute_result",
          "data": {
            "text/plain": [
              "(2.872729598158215, 3.243284036453402)"
            ]
          },
          "metadata": {},
          "execution_count": 112
        }
      ]
    },
    {
      "cell_type": "code",
      "source": [
        "### acqFunc attribute x, stddev: run number = 14\n",
        "\n",
        "acqFuncApprox_exact_14 = acqFuncApprox(exact_14.history)\n",
        "acqFuncExact_exact_14 = acqFuncExact(exact_14.history)\n",
        "\n",
        "e14 = np.mean(acqFuncExact_exact_14)\n",
        "a14 = np.mean(acqFuncApprox_exact_14)\n",
        "\n",
        "e14, a14\n"
      ],
      "metadata": {
        "id": "R0W3MZaVGues",
        "colab": {
          "base_uri": "https://localhost:8080/"
        },
        "outputId": "ab70ec28-17c1-4939-d3f5-ccfedb28a60c"
      },
      "execution_count": 113,
      "outputs": [
        {
          "output_type": "execute_result",
          "data": {
            "text/plain": [
              "(2.852693376636711, 3.126836610676823)"
            ]
          },
          "metadata": {},
          "execution_count": 113
        }
      ]
    },
    {
      "cell_type": "code",
      "source": [
        "### acqFunc attribute x, stddev: run number = 15\n",
        "\n",
        "acqFuncApprox_exact_15 = acqFuncApprox(exact_15.history)\n",
        "acqFuncExact_exact_15 = acqFuncExact(exact_15.history)\n",
        "\n",
        "e15 = np.mean(acqFuncExact_exact_15)\n",
        "a15 = np.mean(acqFuncApprox_exact_15)\n",
        "\n",
        "e15, a15\n"
      ],
      "metadata": {
        "id": "DoXdDFHoGup-",
        "colab": {
          "base_uri": "https://localhost:8080/"
        },
        "outputId": "51797a03-8a90-48b5-c3f8-415b0d1d6e7e"
      },
      "execution_count": 114,
      "outputs": [
        {
          "output_type": "execute_result",
          "data": {
            "text/plain": [
              "(2.7190191564488315, 3.1862527490206825)"
            ]
          },
          "metadata": {},
          "execution_count": 114
        }
      ]
    },
    {
      "cell_type": "code",
      "source": [
        "### acqFunc attribute x, stddev: run number = 16\n",
        "\n",
        "acqFuncApprox_exact_16 = acqFuncApprox(exact_16.history)\n",
        "acqFuncExact_exact_16 = acqFuncExact(exact_16.history)\n",
        "\n",
        "e16 = np.mean(acqFuncExact_exact_16)\n",
        "a16 = np.mean(acqFuncApprox_exact_16)\n",
        "\n",
        "e16, a16\n"
      ],
      "metadata": {
        "id": "K_wAeqSoGu2j",
        "colab": {
          "base_uri": "https://localhost:8080/"
        },
        "outputId": "2c2728d7-e1c2-4f95-db87-fbcee41e405d"
      },
      "execution_count": 115,
      "outputs": [
        {
          "output_type": "execute_result",
          "data": {
            "text/plain": [
              "(2.798868866851616, 2.9418779248758162)"
            ]
          },
          "metadata": {},
          "execution_count": 115
        }
      ]
    },
    {
      "cell_type": "code",
      "source": [
        "### acqFunc attribute x, stddev: run number = 17\n",
        "\n",
        "acqFuncApprox_exact_17 = acqFuncApprox(exact_17.history)\n",
        "acqFuncExact_exact_17 = acqFuncExact(exact_17.history)\n",
        "\n",
        "e17 = np.mean(acqFuncExact_exact_17)\n",
        "a17 = np.mean(acqFuncApprox_exact_17)\n",
        "\n",
        "e17, a17\n"
      ],
      "metadata": {
        "id": "n6zy78fjGvBT",
        "colab": {
          "base_uri": "https://localhost:8080/"
        },
        "outputId": "13be6237-0fce-4de4-e60d-6d5d624be9f5"
      },
      "execution_count": 116,
      "outputs": [
        {
          "output_type": "execute_result",
          "data": {
            "text/plain": [
              "(2.784201646333993, 3.208005000680641)"
            ]
          },
          "metadata": {},
          "execution_count": 116
        }
      ]
    },
    {
      "cell_type": "code",
      "source": [
        "### acqFunc attribute x, stddev: run number = 18\n",
        "\n",
        "acqFuncApprox_exact_18 = acqFuncApprox(exact_18.history)\n",
        "acqFuncExact_exact_18 = acqFuncExact(exact_18.history)\n",
        "\n",
        "e18 = np.mean(acqFuncExact_exact_18)\n",
        "a18 = np.mean(acqFuncApprox_exact_18)\n",
        "\n",
        "e18, a18\n"
      ],
      "metadata": {
        "id": "s_6_2K4iGvM-",
        "colab": {
          "base_uri": "https://localhost:8080/"
        },
        "outputId": "f774bb06-9948-438b-a309-274be42a99c7"
      },
      "execution_count": 117,
      "outputs": [
        {
          "output_type": "execute_result",
          "data": {
            "text/plain": [
              "(2.8607076084540024, 3.019118473934539)"
            ]
          },
          "metadata": {},
          "execution_count": 117
        }
      ]
    },
    {
      "cell_type": "code",
      "source": [
        "### acqFunc attribute x, stddev: run number = 19\n",
        "\n",
        "acqFuncApprox_exact_19 = acqFuncApprox(exact_19.history)\n",
        "acqFuncExact_exact_19 = acqFuncExact(exact_19.history)\n",
        "\n",
        "e19 = np.mean(acqFuncExact_exact_19)\n",
        "a19 = np.mean(acqFuncApprox_exact_19)\n",
        "\n",
        "e19, a19\n"
      ],
      "metadata": {
        "id": "o8oO8pdBGvYk",
        "colab": {
          "base_uri": "https://localhost:8080/"
        },
        "outputId": "f616800a-e3aa-488f-aeb2-86735dd349e4"
      },
      "execution_count": 118,
      "outputs": [
        {
          "output_type": "execute_result",
          "data": {
            "text/plain": [
              "(2.85589173023154, 3.0326896868033444)"
            ]
          },
          "metadata": {},
          "execution_count": 118
        }
      ]
    },
    {
      "cell_type": "code",
      "source": [
        "### acqFunc attribute x, stddev: run number = 20\n",
        "\n",
        "acqFuncApprox_exact_20 = acqFuncApprox(exact_20.history)\n",
        "acqFuncExact_exact_20 = acqFuncExact(exact_20.history)\n",
        "\n",
        "e20 = np.mean(acqFuncExact_exact_20)\n",
        "a20 = np.mean(acqFuncApprox_exact_20)\n",
        "\n",
        "e20, a20\n"
      ],
      "metadata": {
        "id": "b2w8oLc0IMzU",
        "colab": {
          "base_uri": "https://localhost:8080/"
        },
        "outputId": "79d7a8a8-9520-4a1d-cf0e-3fe06433b9ee"
      },
      "execution_count": 119,
      "outputs": [
        {
          "output_type": "execute_result",
          "data": {
            "text/plain": [
              "(2.8727148904288757, 3.1422870627861323)"
            ]
          },
          "metadata": {},
          "execution_count": 119
        }
      ]
    },
    {
      "cell_type": "code",
      "source": [
        "### Summarize arrays: \n",
        "\n",
        "exact_stddev = np.sort([e1,e2,e3,e4,e5,e6,e7,e8,e9,e10,e11,e12,e13,e14,e15,e16,e17,e18,e19,e20])\n",
        "approx_stddev = np.sort([a1,a2,a3,a4,a5,a6,a7,a8,a9,a10,a11,a12,a13,a14,a15,a16,a17,a18,a19,a20])\n",
        "\n",
        "np.mean(exact_stddev), np.mean(approx_stddev)\n"
      ],
      "metadata": {
        "id": "qAZs3yxMIZul",
        "colab": {
          "base_uri": "https://localhost:8080/"
        },
        "outputId": "0b6a683c-6360-4278-8cc7-4ed2a1db6b60"
      },
      "execution_count": 120,
      "outputs": [
        {
          "output_type": "execute_result",
          "data": {
            "text/plain": [
              "(2.8327467605530434, 3.100022953178052)"
            ]
          },
          "metadata": {},
          "execution_count": 120
        }
      ]
    },
    {
      "cell_type": "code",
      "source": [
        "### Visualise!\n",
        "\n",
        "title = func\n",
        "plt.figure()\n",
        "\n",
        "plt.plot(approx_stddev, color = 'Yellow', ls='--', label='Average $\\sigma$, attribute $\\mathbf{x}$: Approx STP EI gradients')\n",
        "plt.plot(exact_stddev, color = 'Red', ls='-', label='Average $\\sigma$, attribute $\\mathbf{x}$: Exact STP dEI gradients')\n",
        "\n",
        "plt.title(title, weight = 'bold')\n",
        "plt.xlabel('Function evaluations: iteration $\\it{k}$', weight = 'bold')\n",
        "plt.ylabel('STP EI: Average $\\sigma$, attribute $\\mathbf{x}$', weight = 'bold') \n",
        "plt.legend(loc=0) # add plot legend\n",
        "\n",
        "### Make the x-ticks integers, not floats:\n",
        "count = len(xstar)\n",
        "plt.xticks(np.arange(count), np.arange(1, count))\n",
        "plt.show() #visualize!\n"
      ],
      "metadata": {
        "id": "e_kpqYcMIZxu",
        "colab": {
          "base_uri": "https://localhost:8080/",
          "height": 297
        },
        "outputId": "e53796ae-3474-474b-b494-449cc64d95af"
      },
      "execution_count": 121,
      "outputs": [
        {
          "output_type": "display_data",
          "data": {
            "text/plain": [
              "<Figure size 432x288 with 1 Axes>"
            ],
            "image/png": "[encoded data removed]"
          },
          "metadata": {
            "needs_background": "light"
          }
        }
      ]
    },
    {
      "cell_type": "code",
      "source": [],
      "metadata": {
        "id": "LToGd4vZIZ3I"
      },
      "execution_count": 121,
      "outputs": []
    }
  ],
  "metadata": {
    "colab": {
      "collapsed_sections": [],
      "provenance": []
    },
    "kernelspec": {
      "display_name": "Python 3",
      "name": "python3"
    },
    "language_info": {
      "name": "python"
    }
  },
  "nbformat": 4,
  "nbformat_minor": 0
}